{
 "cells": [
  {
   "cell_type": "code",
   "execution_count": 1,
   "id": "f159f837-637b-42ba-96b5-ec9a68c44524",
   "metadata": {
    "execution": {
     "iopub.execute_input": "2025-07-30T21:27:42.018367Z",
     "iopub.status.busy": "2025-07-30T21:27:42.017501Z",
     "iopub.status.idle": "2025-07-30T21:27:42.031530Z",
     "shell.execute_reply": "2025-07-30T21:27:42.030450Z"
    },
    "papermill": {
     "duration": 0.038293,
     "end_time": "2025-07-30T21:27:42.033551",
     "exception": false,
     "start_time": "2025-07-30T21:27:41.995258",
     "status": "completed"
    },
    "tags": []
   },
   "outputs": [
    {
     "name": "stdout",
     "output_type": "stream",
     "text": [
      "/dss/dsshome1/0C/ra93lal2/cma/CMA_Fairness_v2\n"
     ]
    },
    {
     "name": "stderr",
     "output_type": "stream",
     "text": [
      "/dss/dsshome1/0C/ra93lal2/.local/share/virtualenvs/CMA_Fairness_v2-3j10GkSs/lib/python3.10/site-packages/IPython/core/magics/osm.py:393: UserWarning: This is now an optional IPython functionality, using bookmarks requires you to install the `pickleshare` library.\n",
      "  bkms = self.shell.db.get('bookmarks', {})\n",
      "/dss/dsshome1/0C/ra93lal2/.local/share/virtualenvs/CMA_Fairness_v2-3j10GkSs/lib/python3.10/site-packages/IPython/core/magics/osm.py:417: UserWarning: This is now an optional IPython functionality, setting dhist requires you to install the `pickleshare` library.\n",
      "  self.shell.db['dhist'] = compress_dhist(dhist)[-100:]\n"
     ]
    }
   ],
   "source": [
    "%cd ~/cma/CMA_Fairness_v2"
   ]
  },
  {
   "cell_type": "markdown",
   "id": "de2603b9",
   "metadata": {
    "papermill": {
     "duration": 0.024875,
     "end_time": "2025-07-30T21:27:42.083493",
     "exception": false,
     "start_time": "2025-07-30T21:27:42.058618",
     "status": "completed"
    },
    "tags": []
   },
   "source": [
    "The following cell holds the definition of our parameters, these values can be overriden by rendering the with e.g. the following command:\n",
    "\n",
    "papermill -p alpha 0.2 -p ratio 0.3 universe_analysis.ipynb output/test_run.ipynb"
   ]
  },
  {
   "cell_type": "code",
   "execution_count": 2,
   "id": "a80968a0-40bb-4fa9-85ef-2d5eefb01975",
   "metadata": {
    "execution": {
     "iopub.execute_input": "2025-07-30T21:27:42.134631Z",
     "iopub.status.busy": "2025-07-30T21:27:42.134181Z",
     "iopub.status.idle": "2025-07-30T21:27:42.140303Z",
     "shell.execute_reply": "2025-07-30T21:27:42.139088Z"
    },
    "papermill": {
     "duration": 0.034468,
     "end_time": "2025-07-30T21:27:42.142562",
     "exception": false,
     "start_time": "2025-07-30T21:27:42.108094",
     "status": "completed"
    },
    "tags": []
   },
   "outputs": [
    {
     "name": "stdout",
     "output_type": "stream",
     "text": [
      "Current working directory: /dss/dsshome1/0C/ra93lal2/cma/CMA_Fairness_v2\n"
     ]
    }
   ],
   "source": [
    "import os\n",
    "print(\"Current working directory:\", os.getcwd())"
   ]
  },
  {
   "cell_type": "code",
   "execution_count": 3,
   "id": "2dce4c03",
   "metadata": {
    "execution": {
     "iopub.execute_input": "2025-07-30T21:27:42.195033Z",
     "iopub.status.busy": "2025-07-30T21:27:42.194306Z",
     "iopub.status.idle": "2025-07-30T21:27:42.201133Z",
     "shell.execute_reply": "2025-07-30T21:27:42.200002Z"
    },
    "papermill": {
     "duration": 0.034909,
     "end_time": "2025-07-30T21:27:42.203151",
     "exception": false,
     "start_time": "2025-07-30T21:27:42.168242",
     "status": "completed"
    },
    "tags": [
     "parameters"
    ]
   },
   "outputs": [],
   "source": [
    "run_no = 0\n",
    "universe_id = \"test\"\n",
    "universe = {\n",
    "    \"training_size\": \"25k\", # \"25k\", \"5k\", \"1k\"\n",
    "    \"training_year\": \"2014\", # \"2014\", \"2012_14\", \"2010_14\"\n",
    "    \"scale\": \"scale\", # \"scale\", \"do-not-scale\",\n",
    "    #\"stratify_split\": \"target\", # \"none\", \"target\", \"protected-attribute\", \"both\",\n",
    "    \"model\": \"elasticnet\", # \"logreg\", \"penalized_logreg\", \"rf\", \"gbm\", \"elasticnet\"\n",
    "    \"cutoff\": [\"quantile_0.15\", \"quantile_0.30\"],\n",
    "    \"exclude_features\": \"age\", # \"none\", \"nationality\", \"sex\", \"nationality-sex\", \"age\"\n",
    "    \"exclude_subgroups\": \"keep-all\", # \"keep-all\", \"drop-non-german\"\n",
    "    \"eval_fairness_grouping\": [\"majority-minority\", \"nationality-all\"]\n",
    "}\n",
    "\n",
    "output_dir=\"./output\"\n",
    "seed=0"
   ]
  },
  {
   "cell_type": "code",
   "execution_count": 4,
   "id": "28bc7de1",
   "metadata": {
    "execution": {
     "iopub.execute_input": "2025-07-30T21:27:42.255846Z",
     "iopub.status.busy": "2025-07-30T21:27:42.255124Z",
     "iopub.status.idle": "2025-07-30T21:27:42.261719Z",
     "shell.execute_reply": "2025-07-30T21:27:42.260494Z"
    },
    "papermill": {
     "duration": 0.034473,
     "end_time": "2025-07-30T21:27:42.263559",
     "exception": false,
     "start_time": "2025-07-30T21:27:42.229086",
     "status": "completed"
    },
    "tags": [
     "injected-parameters"
    ]
   },
   "outputs": [],
   "source": [
    "# Parameters\n",
    "universe_id = \"5977f41926dd718ec10bd837828d3a0a\"\n",
    "run_no = \"14\"\n",
    "universe = \"{\\\"cutoff\\\": [\\\"quantile_0.1\\\", \\\"quantile_0.25\\\"], \\\"eval_fairness_grouping\\\": [\\\"majority-minority\\\", \\\"nationality-all\\\"], \\\"exclude_features\\\": \\\"nationality-sex\\\", \\\"exclude_subgroups\\\": \\\"drop-non-german\\\", \\\"model\\\": \\\"logreg\\\", \\\"scale\\\": \\\"do-not-scale\\\", \\\"training_size\\\": \\\"1k\\\", \\\"training_year\\\": \\\"2014\\\"}\"\n",
    "output_dir = \"output\"\n",
    "seed = \"2023\"\n"
   ]
  },
  {
   "cell_type": "code",
   "execution_count": 5,
   "id": "1650acaf",
   "metadata": {
    "execution": {
     "iopub.execute_input": "2025-07-30T21:27:42.306287Z",
     "iopub.status.busy": "2025-07-30T21:27:42.305493Z",
     "iopub.status.idle": "2025-07-30T21:27:42.310795Z",
     "shell.execute_reply": "2025-07-30T21:27:42.309665Z"
    },
    "papermill": {
     "duration": 0.030095,
     "end_time": "2025-07-30T21:27:42.314484",
     "exception": false,
     "start_time": "2025-07-30T21:27:42.284389",
     "status": "completed"
    },
    "tags": []
   },
   "outputs": [],
   "source": [
    "import json\n",
    "# Parse universe into dict if it is passed as a string\n",
    "if isinstance(universe, str):\n",
    "    universe = json.loads(universe)"
   ]
  },
  {
   "cell_type": "code",
   "execution_count": 6,
   "id": "16620c48",
   "metadata": {
    "execution": {
     "iopub.execute_input": "2025-07-30T21:27:42.357152Z",
     "iopub.status.busy": "2025-07-30T21:27:42.356509Z",
     "iopub.status.idle": "2025-07-30T21:27:42.401915Z",
     "shell.execute_reply": "2025-07-30T21:27:42.400988Z"
    },
    "papermill": {
     "duration": 0.06846,
     "end_time": "2025-07-30T21:27:42.403894",
     "exception": false,
     "start_time": "2025-07-30T21:27:42.335434",
     "status": "completed"
    },
    "tags": []
   },
   "outputs": [],
   "source": [
    "# Auto-reload the custom package\n",
    "%load_ext autoreload\n",
    "%autoreload 1\n",
    "%aimport fairness_multiverse"
   ]
  },
  {
   "cell_type": "code",
   "execution_count": 7,
   "id": "01c5c9f3",
   "metadata": {
    "execution": {
     "iopub.execute_input": "2025-07-30T21:27:42.446570Z",
     "iopub.status.busy": "2025-07-30T21:27:42.445606Z",
     "iopub.status.idle": "2025-07-30T21:27:44.534019Z",
     "shell.execute_reply": "2025-07-30T21:27:44.532929Z"
    },
    "papermill": {
     "duration": 2.112054,
     "end_time": "2025-07-30T21:27:44.535860",
     "exception": false,
     "start_time": "2025-07-30T21:27:42.423806",
     "status": "completed"
    },
    "tags": []
   },
   "outputs": [],
   "source": [
    "from fairness_multiverse.universe import UniverseAnalysis\n",
    "\n",
    "universe_analysis = UniverseAnalysis(\n",
    "    run_no = run_no,\n",
    "    universe_id = universe_id,\n",
    "    universe = universe,\n",
    "    output_dir=output_dir,\n",
    ")"
   ]
  },
  {
   "cell_type": "code",
   "execution_count": 8,
   "id": "106241f5",
   "metadata": {
    "execution": {
     "iopub.execute_input": "2025-07-30T21:27:44.583301Z",
     "iopub.status.busy": "2025-07-30T21:27:44.582311Z",
     "iopub.status.idle": "2025-07-30T21:27:44.590859Z",
     "shell.execute_reply": "2025-07-30T21:27:44.590030Z"
    },
    "papermill": {
     "duration": 0.033349,
     "end_time": "2025-07-30T21:27:44.592601",
     "exception": false,
     "start_time": "2025-07-30T21:27:44.559252",
     "status": "completed"
    },
    "tags": []
   },
   "outputs": [
    {
     "name": "stdout",
     "output_type": "stream",
     "text": [
      "Using Seed: 2023\n"
     ]
    }
   ],
   "source": [
    "import numpy as np\n",
    "parsed_seed = int(seed)\n",
    "np.random.seed(parsed_seed)\n",
    "print(f\"Using Seed: {parsed_seed}\")"
   ]
  },
  {
   "cell_type": "markdown",
   "id": "e0ebdc57",
   "metadata": {
    "papermill": {
     "duration": 0.021299,
     "end_time": "2025-07-30T21:27:44.627457",
     "exception": false,
     "start_time": "2025-07-30T21:27:44.606158",
     "status": "completed"
    },
    "tags": []
   },
   "source": [
    "# Loading Data"
   ]
  },
  {
   "cell_type": "markdown",
   "id": "681925a3",
   "metadata": {
    "papermill": {
     "duration": 0.020782,
     "end_time": "2025-07-30T21:27:44.667831",
     "exception": false,
     "start_time": "2025-07-30T21:27:44.647049",
     "status": "completed"
    },
    "tags": []
   },
   "source": [
    "Load siab_train, siab_test, siab_calib and/or \n",
    "load siab_train_features, siab_train_labels"
   ]
  },
  {
   "cell_type": "code",
   "execution_count": 9,
   "id": "f0496b8a",
   "metadata": {
    "execution": {
     "iopub.execute_input": "2025-07-30T21:27:44.714937Z",
     "iopub.status.busy": "2025-07-30T21:27:44.714318Z",
     "iopub.status.idle": "2025-07-30T21:27:56.589291Z",
     "shell.execute_reply": "2025-07-30T21:27:56.588038Z"
    },
    "papermill": {
     "duration": 11.901912,
     "end_time": "2025-07-30T21:27:56.591272",
     "exception": false,
     "start_time": "2025-07-30T21:27:44.689360",
     "status": "completed"
    },
    "tags": []
   },
   "outputs": [
    {
     "name": "stdout",
     "output_type": "stream",
     "text": [
      "Loading SIAB data from cache: data/siab_cached.csv.gz\n"
     ]
    },
    {
     "name": "stdout",
     "output_type": "stream",
     "text": [
      "(643690, 164)\n"
     ]
    }
   ],
   "source": [
    "from pathlib import Path\n",
    "import pandas as pd\n",
    "\n",
    "# File paths\n",
    "raw_file = Path(\"data/raw/siab.csv\")\n",
    "cache_file = Path(\"data/siab_cached.csv.gz\")\n",
    "\n",
    "# Ensure cache directory exists\n",
    "cache_file.parent.mkdir(parents=True, exist_ok=True)\n",
    "\n",
    "# Load with simple caching\n",
    "if cache_file.exists():\n",
    "    print(f\"Loading SIAB data from cache: {cache_file}\")\n",
    "    siab = pd.read_csv(cache_file, compression='gzip')\n",
    "else:\n",
    "    print(f\"Cache not found. Reading raw SIAB data: {raw_file}\")\n",
    "    siab = pd.read_csv(raw_file)\n",
    "    siab.to_csv(cache_file, index=False, compression='gzip')\n",
    "    print(f\"Cached SIAB data to: {cache_file}\")\n",
    "\n",
    "# Now use `siab` DataFrame as needed\n",
    "print(siab.shape)"
   ]
  },
  {
   "cell_type": "code",
   "execution_count": 10,
   "id": "db0ca512-5f53-4dba-abdb-a2888bca41ba",
   "metadata": {
    "execution": {
     "iopub.execute_input": "2025-07-30T21:27:56.640805Z",
     "iopub.status.busy": "2025-07-30T21:27:56.640255Z",
     "iopub.status.idle": "2025-07-30T21:27:56.646708Z",
     "shell.execute_reply": "2025-07-30T21:27:56.645640Z"
    },
    "papermill": {
     "duration": 0.031631,
     "end_time": "2025-07-30T21:27:56.648574",
     "exception": false,
     "start_time": "2025-07-30T21:27:56.616943",
     "status": "completed"
    },
    "tags": []
   },
   "outputs": [],
   "source": [
    "#siab"
   ]
  },
  {
   "cell_type": "code",
   "execution_count": 11,
   "id": "a0edb063",
   "metadata": {
    "execution": {
     "iopub.execute_input": "2025-07-30T21:27:56.695169Z",
     "iopub.status.busy": "2025-07-30T21:27:56.694581Z",
     "iopub.status.idle": "2025-07-30T21:27:56.699572Z",
     "shell.execute_reply": "2025-07-30T21:27:56.698548Z"
    },
    "papermill": {
     "duration": 0.029921,
     "end_time": "2025-07-30T21:27:56.701673",
     "exception": false,
     "start_time": "2025-07-30T21:27:56.671752",
     "status": "completed"
    },
    "tags": []
   },
   "outputs": [],
   "source": [
    "#import pandas as pd\n",
    "#\n",
    "#X_train = pd.read_csv(\"./data/X_train.csv\")\n",
    "#y_train = pd.read_csv(\"./data/y_train.csv\")"
   ]
  },
  {
   "cell_type": "code",
   "execution_count": 12,
   "id": "63d08085",
   "metadata": {
    "execution": {
     "iopub.execute_input": "2025-07-30T21:27:56.747482Z",
     "iopub.status.busy": "2025-07-30T21:27:56.746871Z",
     "iopub.status.idle": "2025-07-30T21:27:56.751862Z",
     "shell.execute_reply": "2025-07-30T21:27:56.750831Z"
    },
    "papermill": {
     "duration": 0.029891,
     "end_time": "2025-07-30T21:27:56.754004",
     "exception": false,
     "start_time": "2025-07-30T21:27:56.724113",
     "status": "completed"
    },
    "tags": []
   },
   "outputs": [],
   "source": [
    "#X_test = pd.read_csv(\"./data/X_test.csv\")\n",
    "#y_true = pd.read_csv(\"./data/y_test.csv\")"
   ]
  },
  {
   "cell_type": "code",
   "execution_count": 13,
   "id": "98a8d0fa-1d3d-4ed8-bb2c-281470e24add",
   "metadata": {
    "execution": {
     "iopub.execute_input": "2025-07-30T21:27:56.799151Z",
     "iopub.status.busy": "2025-07-30T21:27:56.798482Z",
     "iopub.status.idle": "2025-07-30T21:27:56.803303Z",
     "shell.execute_reply": "2025-07-30T21:27:56.802256Z"
    },
    "papermill": {
     "duration": 0.028636,
     "end_time": "2025-07-30T21:27:56.805066",
     "exception": false,
     "start_time": "2025-07-30T21:27:56.776430",
     "status": "completed"
    },
    "tags": []
   },
   "outputs": [],
   "source": [
    "# Calibration data for conformal\n",
    "#X_calib = pd.read_csv(\"./data/X_calib.csv\")\n",
    "#y_calib = pd.read_csv(\"./data/y_calib.csv\")"
   ]
  },
  {
   "cell_type": "markdown",
   "id": "997051c5-15bd-4b69-9786-c3001a3ce484",
   "metadata": {
    "papermill": {
     "duration": 0.021374,
     "end_time": "2025-07-30T21:27:56.849106",
     "exception": false,
     "start_time": "2025-07-30T21:27:56.827732",
     "status": "completed"
    },
    "tags": []
   },
   "source": [
    "# Splitting Data and Setting Training Data Size"
   ]
  },
  {
   "cell_type": "code",
   "execution_count": 14,
   "id": "e993b61f-042d-41a6-8c81-f55681f86335",
   "metadata": {
    "execution": {
     "iopub.execute_input": "2025-07-30T21:27:56.894402Z",
     "iopub.status.busy": "2025-07-30T21:27:56.893525Z",
     "iopub.status.idle": "2025-07-30T21:27:56.907408Z",
     "shell.execute_reply": "2025-07-30T21:27:56.906365Z"
    },
    "papermill": {
     "duration": 0.03828,
     "end_time": "2025-07-30T21:27:56.909133",
     "exception": false,
     "start_time": "2025-07-30T21:27:56.870853",
     "status": "completed"
    },
    "tags": []
   },
   "outputs": [],
   "source": [
    "def sample_by_year_size(df,\n",
    "                        training_year: str,\n",
    "                        training_size: str,\n",
    "                        random_state: int = 42):\n",
    "    # --- parse training_year into a list of int years ---\n",
    "    if \"_\" in training_year:\n",
    "        start_str, end_str = training_year.split(\"_\", 1)\n",
    "        start = int(start_str)\n",
    "        end   = int(end_str) if len(end_str) == 4 else (int(end_str) + (start // 100)*100)\n",
    "        years = list(range(start, end + 1))\n",
    "    else:\n",
    "        years = [int(training_year)]\n",
    "\n",
    "    df = df[df[\"year\"].isin(years)].reset_index(drop=True)\n",
    "\n",
    "    # --- map training_size to total number of samples ---\n",
    "    total_map = {\"25k\": 25_000, \"5k\": 5_000, \"1k\": 1_000}\n",
    "    if training_size not in total_map:\n",
    "        return df  # e.g. \"all\"\n",
    "\n",
    "    total_samples = total_map[training_size]\n",
    "    n_years       = len(years)\n",
    "    base          = total_samples // n_years\n",
    "    remainder     = total_samples % n_years\n",
    "\n",
    "    # --- build a dict: year -> how many to sample ---\n",
    "    # give +1 to the first `remainder` years in ascending order\n",
    "    quotas = {\n",
    "        year: base + (1 if idx < remainder else 0)\n",
    "        for idx, year in enumerate(sorted(years))\n",
    "    }\n",
    "\n",
    "    # --- sample per‐year according to the quota dict ---\n",
    "    sampled = (\n",
    "        df\n",
    "        .groupby(\"year\", group_keys=False)\n",
    "        .apply(lambda grp: grp.sample(\n",
    "            n=min(len(grp), quotas[grp.name]),\n",
    "            random_state=random_state))\n",
    "        .reset_index(drop=True)\n",
    "    )\n",
    "\n",
    "    return sampled"
   ]
  },
  {
   "cell_type": "code",
   "execution_count": 15,
   "id": "c0ccd338-0e02-41f3-a09d-f56f9266e3fb",
   "metadata": {
    "execution": {
     "iopub.execute_input": "2025-07-30T21:27:56.956277Z",
     "iopub.status.busy": "2025-07-30T21:27:56.955368Z",
     "iopub.status.idle": "2025-07-30T21:27:56.960552Z",
     "shell.execute_reply": "2025-07-30T21:27:56.959388Z"
    },
    "papermill": {
     "duration": 0.030052,
     "end_time": "2025-07-30T21:27:56.962494",
     "exception": false,
     "start_time": "2025-07-30T21:27:56.932442",
     "status": "completed"
    },
    "tags": []
   },
   "outputs": [],
   "source": [
    "#universe[\"training_size\"]"
   ]
  },
  {
   "cell_type": "code",
   "execution_count": 16,
   "id": "ca707fd7-8047-4acd-bfa5-66248fbbf8e6",
   "metadata": {
    "execution": {
     "iopub.execute_input": "2025-07-30T21:27:57.008469Z",
     "iopub.status.busy": "2025-07-30T21:27:57.007837Z",
     "iopub.status.idle": "2025-07-30T21:27:57.014503Z",
     "shell.execute_reply": "2025-07-30T21:27:57.013499Z"
    },
    "papermill": {
     "duration": 0.030136,
     "end_time": "2025-07-30T21:27:57.016107",
     "exception": false,
     "start_time": "2025-07-30T21:27:56.985971",
     "status": "completed"
    },
    "tags": []
   },
   "outputs": [],
   "source": [
    "#universe[\"training_year\"]"
   ]
  },
  {
   "cell_type": "code",
   "execution_count": 17,
   "id": "aea9c6ef-6f46-42c8-85eb-5a62025c1508",
   "metadata": {
    "execution": {
     "iopub.execute_input": "2025-07-30T21:27:57.057365Z",
     "iopub.status.busy": "2025-07-30T21:27:57.056944Z",
     "iopub.status.idle": "2025-07-30T21:27:57.323102Z",
     "shell.execute_reply": "2025-07-30T21:27:57.322097Z"
    },
    "papermill": {
     "duration": 0.288361,
     "end_time": "2025-07-30T21:27:57.325077",
     "exception": false,
     "start_time": "2025-07-30T21:27:57.036716",
     "status": "completed"
    },
    "tags": []
   },
   "outputs": [],
   "source": [
    "siab_train = sample_by_year_size(siab,\n",
    "                               training_year=universe[\"training_year\"],\n",
    "                               training_size=universe[\"training_size\"])"
   ]
  },
  {
   "cell_type": "code",
   "execution_count": 18,
   "id": "8d3afb32-789d-442c-8d5d-9f5aa8dd2eed",
   "metadata": {
    "execution": {
     "iopub.execute_input": "2025-07-30T21:27:57.368729Z",
     "iopub.status.busy": "2025-07-30T21:27:57.367726Z",
     "iopub.status.idle": "2025-07-30T21:27:57.372811Z",
     "shell.execute_reply": "2025-07-30T21:27:57.371796Z"
    },
    "papermill": {
     "duration": 0.02888,
     "end_time": "2025-07-30T21:27:57.374435",
     "exception": false,
     "start_time": "2025-07-30T21:27:57.345555",
     "status": "completed"
    },
    "tags": []
   },
   "outputs": [],
   "source": [
    "#siab_train.shape"
   ]
  },
  {
   "cell_type": "code",
   "execution_count": 19,
   "id": "d582db68-1a4c-47fb-84fc-08518dc1975a",
   "metadata": {
    "execution": {
     "iopub.execute_input": "2025-07-30T21:27:57.417048Z",
     "iopub.status.busy": "2025-07-30T21:27:57.416339Z",
     "iopub.status.idle": "2025-07-30T21:27:57.422437Z",
     "shell.execute_reply": "2025-07-30T21:27:57.421578Z"
    },
    "papermill": {
     "duration": 0.02847,
     "end_time": "2025-07-30T21:27:57.423911",
     "exception": false,
     "start_time": "2025-07-30T21:27:57.395441",
     "status": "completed"
    },
    "tags": []
   },
   "outputs": [],
   "source": [
    "#display(siab_train.groupby(\"year\").size())"
   ]
  },
  {
   "cell_type": "code",
   "execution_count": 20,
   "id": "a561edb4-d032-42cb-8256-22eac1111c64",
   "metadata": {
    "execution": {
     "iopub.execute_input": "2025-07-30T21:27:57.466658Z",
     "iopub.status.busy": "2025-07-30T21:27:57.465941Z",
     "iopub.status.idle": "2025-07-30T21:27:57.756591Z",
     "shell.execute_reply": "2025-07-30T21:27:57.755542Z"
    },
    "papermill": {
     "duration": 0.313195,
     "end_time": "2025-07-30T21:27:57.758504",
     "exception": false,
     "start_time": "2025-07-30T21:27:57.445309",
     "status": "completed"
    },
    "tags": []
   },
   "outputs": [],
   "source": [
    "#siab_train = siab_s[siab_s.year < 2015]\n",
    "siab_calib = siab[siab.year == 2015]\n",
    "siab_test = siab[siab.year == 2016]"
   ]
  },
  {
   "cell_type": "code",
   "execution_count": 21,
   "id": "472de16f-c3db-4916-846b-1f0de9cf1746",
   "metadata": {
    "execution": {
     "iopub.execute_input": "2025-07-30T21:27:57.802595Z",
     "iopub.status.busy": "2025-07-30T21:27:57.801930Z",
     "iopub.status.idle": "2025-07-30T21:27:57.808491Z",
     "shell.execute_reply": "2025-07-30T21:27:57.807467Z"
    },
    "papermill": {
     "duration": 0.028851,
     "end_time": "2025-07-30T21:27:57.810211",
     "exception": false,
     "start_time": "2025-07-30T21:27:57.781360",
     "status": "completed"
    },
    "tags": []
   },
   "outputs": [],
   "source": [
    "X_train = siab_train.iloc[:,4:164]\n",
    "y_train = siab_train.iloc[:, [3]]"
   ]
  },
  {
   "cell_type": "code",
   "execution_count": 22,
   "id": "828c96af-f43a-4ed6-ba47-8ac73a47d56c",
   "metadata": {
    "execution": {
     "iopub.execute_input": "2025-07-30T21:27:57.845935Z",
     "iopub.status.busy": "2025-07-30T21:27:57.845599Z",
     "iopub.status.idle": "2025-07-30T21:27:57.894778Z",
     "shell.execute_reply": "2025-07-30T21:27:57.893682Z"
    },
    "papermill": {
     "duration": 0.062942,
     "end_time": "2025-07-30T21:27:57.896715",
     "exception": false,
     "start_time": "2025-07-30T21:27:57.833773",
     "status": "completed"
    },
    "tags": []
   },
   "outputs": [],
   "source": [
    "X_calib = siab_calib.iloc[:,4:164]\n",
    "y_calib = siab_calib.iloc[:, [3]]"
   ]
  },
  {
   "cell_type": "code",
   "execution_count": 23,
   "id": "c34be9c3-6bd6-476e-acd3-845840e303be",
   "metadata": {
    "execution": {
     "iopub.execute_input": "2025-07-30T21:27:57.936649Z",
     "iopub.status.busy": "2025-07-30T21:27:57.935618Z",
     "iopub.status.idle": "2025-07-30T21:27:57.983717Z",
     "shell.execute_reply": "2025-07-30T21:27:57.983010Z"
    },
    "papermill": {
     "duration": 0.065304,
     "end_time": "2025-07-30T21:27:57.985302",
     "exception": false,
     "start_time": "2025-07-30T21:27:57.919998",
     "status": "completed"
    },
    "tags": []
   },
   "outputs": [],
   "source": [
    "X_test = siab_test.iloc[:,4:164]\n",
    "y_true = siab_test.iloc[:, [3]]"
   ]
  },
  {
   "cell_type": "markdown",
   "id": "9901737e-04df-44f0-9100-f5ad144ed040",
   "metadata": {
    "papermill": {
     "duration": 0.023782,
     "end_time": "2025-07-30T21:27:58.031076",
     "exception": false,
     "start_time": "2025-07-30T21:27:58.007294",
     "status": "completed"
    },
    "tags": []
   },
   "source": [
    "# Splitting Data and Setting Training Data Size OLD VERSION"
   ]
  },
  {
   "cell_type": "code",
   "execution_count": 24,
   "id": "acbc8f7d-8fc8-4e86-8c59-5dcb0f58384b",
   "metadata": {
    "execution": {
     "iopub.execute_input": "2025-07-30T21:27:58.078863Z",
     "iopub.status.busy": "2025-07-30T21:27:58.077923Z",
     "iopub.status.idle": "2025-07-30T21:27:58.083742Z",
     "shell.execute_reply": "2025-07-30T21:27:58.082747Z"
    },
    "papermill": {
     "duration": 0.031184,
     "end_time": "2025-07-30T21:27:58.085757",
     "exception": false,
     "start_time": "2025-07-30T21:27:58.054573",
     "status": "completed"
    },
    "tags": []
   },
   "outputs": [],
   "source": [
    "#def sample_by_year(df, training_size, random_state=42):\n",
    "#    if training_size == \"2014\":\n",
    "#        return df[df[\"year\"] == 2014].reset_index(drop=True)\n",
    "#    \n",
    "#    size_map = {\n",
    "#        \"25k\": 5000,\n",
    "#        \"5k\": 1000,\n",
    "#        \"1k\": 200\n",
    "#    }\n",
    "#\n",
    "#    if training_size not in size_map:\n",
    "#        return df.reset_index(drop=True)  # use all data\n",
    "#\n",
    "#    n_per_year = size_map[training_size]\n",
    "#    grouped = df.groupby(\"year\")\n",
    "#    sampled = grouped.apply(lambda x: x.sample(n=min(n_per_year, len(x)), random_state=random_state))\n",
    "#    return sampled.reset_index(drop=True)"
   ]
  },
  {
   "cell_type": "code",
   "execution_count": 25,
   "id": "6d931f52-beaf-43ff-9e78-9d44a448d54e",
   "metadata": {
    "execution": {
     "iopub.execute_input": "2025-07-30T21:27:58.136187Z",
     "iopub.status.busy": "2025-07-30T21:27:58.135332Z",
     "iopub.status.idle": "2025-07-30T21:27:58.140750Z",
     "shell.execute_reply": "2025-07-30T21:27:58.139690Z"
    },
    "papermill": {
     "duration": 0.031415,
     "end_time": "2025-07-30T21:27:58.142828",
     "exception": false,
     "start_time": "2025-07-30T21:27:58.111413",
     "status": "completed"
    },
    "tags": []
   },
   "outputs": [],
   "source": [
    "#siab_s = sample_by_year(siab, universe[\"training_size\"])"
   ]
  },
  {
   "cell_type": "code",
   "execution_count": 26,
   "id": "5db0a40e-a4e2-4920-be85-b12ae061d70d",
   "metadata": {
    "execution": {
     "iopub.execute_input": "2025-07-30T21:27:58.190762Z",
     "iopub.status.busy": "2025-07-30T21:27:58.190305Z",
     "iopub.status.idle": "2025-07-30T21:27:58.195341Z",
     "shell.execute_reply": "2025-07-30T21:27:58.194281Z"
    },
    "papermill": {
     "duration": 0.030423,
     "end_time": "2025-07-30T21:27:58.197361",
     "exception": false,
     "start_time": "2025-07-30T21:27:58.166938",
     "status": "completed"
    },
    "tags": []
   },
   "outputs": [],
   "source": [
    "#display(siab_s.groupby(\"year\").size())"
   ]
  },
  {
   "cell_type": "code",
   "execution_count": 27,
   "id": "e6c733c5",
   "metadata": {
    "execution": {
     "iopub.execute_input": "2025-07-30T21:27:58.240890Z",
     "iopub.status.busy": "2025-07-30T21:27:58.240261Z",
     "iopub.status.idle": "2025-07-30T21:27:58.338188Z",
     "shell.execute_reply": "2025-07-30T21:27:58.337175Z"
    },
    "papermill": {
     "duration": 0.121564,
     "end_time": "2025-07-30T21:27:58.340190",
     "exception": false,
     "start_time": "2025-07-30T21:27:58.218626",
     "status": "completed"
    },
    "tags": []
   },
   "outputs": [],
   "source": [
    "# Auxiliary data needed downstream in the pipeline\n",
    "\n",
    "org_train = X_train.copy()\n",
    "org_test = X_test.copy()\n",
    "org_calib = X_calib.copy()"
   ]
  },
  {
   "cell_type": "code",
   "execution_count": 28,
   "id": "1466abac-c6da-4492-a62f-4240ae3783af",
   "metadata": {
    "execution": {
     "iopub.execute_input": "2025-07-30T21:27:58.389361Z",
     "iopub.status.busy": "2025-07-30T21:27:58.388863Z",
     "iopub.status.idle": "2025-07-30T21:27:58.395119Z",
     "shell.execute_reply": "2025-07-30T21:27:58.394162Z"
    },
    "papermill": {
     "duration": 0.033579,
     "end_time": "2025-07-30T21:27:58.397096",
     "exception": false,
     "start_time": "2025-07-30T21:27:58.363517",
     "status": "completed"
    },
    "tags": []
   },
   "outputs": [],
   "source": [
    "# put in other script?\n",
    "# Group sizes\n",
    "\n",
    "#def calculate_percentages(df, df_name):\n",
    "#    total_entries = len(df)\n",
    "#\n",
    "#    female_pct = (df['frau1'] == 1).mean() * 100\n",
    "#    non_german_pct = ((df['maxdeutsch1'] == 0) & (df['maxdeutsch.Missing.'] == 0)).mean() * 100\n",
    "#    non_german_male_pct = ((df['frau1'] == 0) & (df['maxdeutsch1'] == 0) & (df['maxdeutsch.Missing.'] == 0)).mean() * 100\n",
    "#    non_german_female_pct = ((df['frau1'] == 1) & (df['maxdeutsch1'] == 0) & (df['maxdeutsch.Missing.'] == 0)).mean() * 100\n",
    "#\n",
    "#    print(f\"--- {df_name} ---\")\n",
    "#    print(f\"Female: {female_pct:.2f}%\")\n",
    "#    print(f\"Non-German: {non_german_pct:.2f}%\")\n",
    "#    print(f\"Non-German Male: {non_german_male_pct:.2f}%\")\n",
    "#    print(f\"Non-German Female: {non_german_female_pct:.2f}%\\n\")\n",
    "#\n",
    "## Calculate for each DataFrame\n",
    "#calculate_percentages(siab_calib, \"siab_calib\")\n",
    "#calculate_percentages(siab_test, \"siab_test\")\n",
    "#calculate_percentages(siab_train, \"siab_train\")"
   ]
  },
  {
   "cell_type": "markdown",
   "id": "0a4a1b33",
   "metadata": {
    "papermill": {
     "duration": 0.022576,
     "end_time": "2025-07-30T21:27:58.442048",
     "exception": false,
     "start_time": "2025-07-30T21:27:58.419472",
     "status": "completed"
    },
    "tags": []
   },
   "source": [
    "# Preprocessing Data"
   ]
  },
  {
   "cell_type": "code",
   "execution_count": 29,
   "id": "ca879031",
   "metadata": {
    "execution": {
     "iopub.execute_input": "2025-07-30T21:27:58.485204Z",
     "iopub.status.busy": "2025-07-30T21:27:58.484674Z",
     "iopub.status.idle": "2025-07-30T21:27:58.491056Z",
     "shell.execute_reply": "2025-07-30T21:27:58.490019Z"
    },
    "papermill": {
     "duration": 0.029997,
     "end_time": "2025-07-30T21:27:58.492843",
     "exception": false,
     "start_time": "2025-07-30T21:27:58.462846",
     "status": "completed"
    },
    "tags": []
   },
   "outputs": [],
   "source": [
    "# EXCLUDE PROTECTED FEATURES\n",
    "# ----------------------\n",
    "# \"exclude_features\": \"none\", # \"nationality\", \"sex\", \"nationality-sex\"\n",
    "\n",
    "excluded_features = universe[\"exclude_features\"].split(\"-\") # split, e.g.: \"nationality-sex\" -> [\"nationality\", \"sex\"]\n",
    "excluded_features_dictionary = {\n",
    "    \"nationality\": [\"maxdeutsch1\", \"maxdeutsch.Missing.\"],\n",
    "    \"sex\": [\"frau1\"],\n",
    "    \"age\": [\"age\"],\n",
    "}\n"
   ]
  },
  {
   "cell_type": "code",
   "execution_count": 30,
   "id": "b745ac60",
   "metadata": {
    "execution": {
     "iopub.execute_input": "2025-07-30T21:27:58.536991Z",
     "iopub.status.busy": "2025-07-30T21:27:58.536399Z",
     "iopub.status.idle": "2025-07-30T21:27:58.541708Z",
     "shell.execute_reply": "2025-07-30T21:27:58.540738Z"
    },
    "papermill": {
     "duration": 0.027567,
     "end_time": "2025-07-30T21:27:58.543429",
     "exception": false,
     "start_time": "2025-07-30T21:27:58.515862",
     "status": "completed"
    },
    "tags": []
   },
   "outputs": [],
   "source": [
    "# Code nice names to column names\n",
    "\n",
    "excluded_features_columns = [\n",
    "    excluded_features_dictionary[f] for f in excluded_features if len(f) > 0 and f != \"none\"\n",
    "]"
   ]
  },
  {
   "cell_type": "code",
   "execution_count": 31,
   "id": "f84f73a2",
   "metadata": {
    "execution": {
     "iopub.execute_input": "2025-07-30T21:27:58.587491Z",
     "iopub.status.busy": "2025-07-30T21:27:58.587041Z",
     "iopub.status.idle": "2025-07-30T21:27:58.593165Z",
     "shell.execute_reply": "2025-07-30T21:27:58.591973Z"
    },
    "papermill": {
     "duration": 0.028054,
     "end_time": "2025-07-30T21:27:58.594772",
     "exception": false,
     "start_time": "2025-07-30T21:27:58.566718",
     "status": "completed"
    },
    "tags": []
   },
   "outputs": [],
   "source": [
    "from utils import flatten_once\n",
    "\n",
    "excluded_features_columns = flatten_once(excluded_features_columns)"
   ]
  },
  {
   "cell_type": "code",
   "execution_count": 32,
   "id": "884dea22",
   "metadata": {
    "execution": {
     "iopub.execute_input": "2025-07-30T21:27:58.642436Z",
     "iopub.status.busy": "2025-07-30T21:27:58.641636Z",
     "iopub.status.idle": "2025-07-30T21:27:58.650188Z",
     "shell.execute_reply": "2025-07-30T21:27:58.648942Z"
    },
    "papermill": {
     "duration": 0.033795,
     "end_time": "2025-07-30T21:27:58.652024",
     "exception": false,
     "start_time": "2025-07-30T21:27:58.618229",
     "status": "completed"
    },
    "tags": []
   },
   "outputs": [
    {
     "name": "stdout",
     "output_type": "stream",
     "text": [
      "Dropping features: ['maxdeutsch1', 'maxdeutsch.Missing.', 'frau1']\n"
     ]
    }
   ],
   "source": [
    "if len(excluded_features_columns) > 0:\n",
    "    print(f\"Dropping features: {excluded_features_columns}\")\n",
    "    X_train.drop(excluded_features_columns, axis=1, inplace=True)"
   ]
  },
  {
   "cell_type": "code",
   "execution_count": 33,
   "id": "95ab8b16",
   "metadata": {
    "execution": {
     "iopub.execute_input": "2025-07-30T21:27:58.698513Z",
     "iopub.status.busy": "2025-07-30T21:27:58.697701Z",
     "iopub.status.idle": "2025-07-30T21:27:58.752288Z",
     "shell.execute_reply": "2025-07-30T21:27:58.751200Z"
    },
    "papermill": {
     "duration": 0.079128,
     "end_time": "2025-07-30T21:27:58.754244",
     "exception": false,
     "start_time": "2025-07-30T21:27:58.675116",
     "status": "completed"
    },
    "tags": []
   },
   "outputs": [
    {
     "name": "stdout",
     "output_type": "stream",
     "text": [
      "Dropping features: ['maxdeutsch1', 'maxdeutsch.Missing.', 'frau1']\n"
     ]
    }
   ],
   "source": [
    "if len(excluded_features_columns) > 0:\n",
    "    print(f\"Dropping features: {excluded_features_columns}\")\n",
    "    X_test.drop(excluded_features_columns, axis=1, inplace=True)"
   ]
  },
  {
   "cell_type": "code",
   "execution_count": 34,
   "id": "1853aaf5-fb9f-46cb-a2b5-8ea4ae2237e4",
   "metadata": {
    "execution": {
     "iopub.execute_input": "2025-07-30T21:27:58.803034Z",
     "iopub.status.busy": "2025-07-30T21:27:58.802306Z",
     "iopub.status.idle": "2025-07-30T21:27:58.854594Z",
     "shell.execute_reply": "2025-07-30T21:27:58.853422Z"
    },
    "papermill": {
     "duration": 0.078566,
     "end_time": "2025-07-30T21:27:58.856520",
     "exception": false,
     "start_time": "2025-07-30T21:27:58.777954",
     "status": "completed"
    },
    "tags": []
   },
   "outputs": [
    {
     "name": "stdout",
     "output_type": "stream",
     "text": [
      "Dropping features: ['maxdeutsch1', 'maxdeutsch.Missing.', 'frau1']\n"
     ]
    }
   ],
   "source": [
    "if len(excluded_features_columns) > 0:\n",
    "    print(f\"Dropping features: {excluded_features_columns}\")\n",
    "    X_calib.drop(excluded_features_columns, axis=1, inplace=True)"
   ]
  },
  {
   "cell_type": "code",
   "execution_count": 35,
   "id": "6727d079-03e5-481e-9d38-292a90b7a0a8",
   "metadata": {
    "execution": {
     "iopub.execute_input": "2025-07-30T21:27:58.908128Z",
     "iopub.status.busy": "2025-07-30T21:27:58.907662Z",
     "iopub.status.idle": "2025-07-30T21:27:58.912382Z",
     "shell.execute_reply": "2025-07-30T21:27:58.911372Z"
    },
    "papermill": {
     "duration": 0.031988,
     "end_time": "2025-07-30T21:27:58.913944",
     "exception": false,
     "start_time": "2025-07-30T21:27:58.881956",
     "status": "completed"
    },
    "tags": []
   },
   "outputs": [],
   "source": [
    "# SPLIT & STRATIFY DATA\n",
    "# ----------------------"
   ]
  },
  {
   "cell_type": "code",
   "execution_count": 36,
   "id": "76c4dc6d",
   "metadata": {
    "execution": {
     "iopub.execute_input": "2025-07-30T21:27:58.957100Z",
     "iopub.status.busy": "2025-07-30T21:27:58.956581Z",
     "iopub.status.idle": "2025-07-30T21:27:58.962484Z",
     "shell.execute_reply": "2025-07-30T21:27:58.961456Z"
    },
    "papermill": {
     "duration": 0.029048,
     "end_time": "2025-07-30T21:27:58.963908",
     "exception": false,
     "start_time": "2025-07-30T21:27:58.934860",
     "status": "completed"
    },
    "tags": []
   },
   "outputs": [],
   "source": [
    "# EXCLUDE CERTAIN SUBGROUPS\n",
    "# ----------------------\n",
    "\n",
    "mode = universe.get(\"exclude_subgroups\", \"keep-all\") \n",
    "# Fetches the exclude_subgroups setting from the universe dict.\n",
    "# Defaults to \"keep-all\" if the key is missing."
   ]
  },
  {
   "cell_type": "code",
   "execution_count": 37,
   "id": "21994072",
   "metadata": {
    "execution": {
     "iopub.execute_input": "2025-07-30T21:27:59.008150Z",
     "iopub.status.busy": "2025-07-30T21:27:59.007432Z",
     "iopub.status.idle": "2025-07-30T21:27:59.014331Z",
     "shell.execute_reply": "2025-07-30T21:27:59.013285Z"
    },
    "papermill": {
     "duration": 0.029873,
     "end_time": "2025-07-30T21:27:59.015915",
     "exception": false,
     "start_time": "2025-07-30T21:27:58.986042",
     "status": "completed"
    },
    "tags": []
   },
   "outputs": [],
   "source": [
    "if mode == \"keep-all\":\n",
    "    keep_mask = pd.Series(True, index=org_train.index)\n",
    "\n",
    "# org_train contains the original feature columns from features_org (in Simson)\n",
    "# features_org contains unprocessed features, for me X_train at beginning ???\n",
    "# For keep-all, creates a boolean Series (keep_mask) of all True, so no rows are removed.\n",
    "\n",
    "elif mode == \"drop-non-german\":\n",
    "    keep_mask = org_train[\"maxdeutsch1\"] == 1 # ??? what about missing values?\n",
    "\n",
    "else:\n",
    "    raise ValueError(f\"Unsupported mode for exclude_subgroups: {mode}\")\n"
   ]
  },
  {
   "cell_type": "code",
   "execution_count": 38,
   "id": "71651440",
   "metadata": {
    "execution": {
     "iopub.execute_input": "2025-07-30T21:27:59.062874Z",
     "iopub.status.busy": "2025-07-30T21:27:59.061996Z",
     "iopub.status.idle": "2025-07-30T21:27:59.070127Z",
     "shell.execute_reply": "2025-07-30T21:27:59.069168Z"
    },
    "papermill": {
     "duration": 0.033058,
     "end_time": "2025-07-30T21:27:59.071659",
     "exception": false,
     "start_time": "2025-07-30T21:27:59.038601",
     "status": "completed"
    },
    "tags": []
   },
   "outputs": [
    {
     "name": "stdout",
     "output_type": "stream",
     "text": [
      "Dropping 147 rows (14.70%) where mode='drop-non-german'\n"
     ]
    }
   ],
   "source": [
    "n_drop = (~keep_mask).sum() # Calculates how many rows are set to be dropped\n",
    "if n_drop > 0:\n",
    "    pct = n_drop / len(keep_mask) * 100\n",
    "    print(f\"Dropping {n_drop} rows ({pct:.2f}%) where mode='{mode}'\")"
   ]
  },
  {
   "cell_type": "code",
   "execution_count": 39,
   "id": "5fb8eee5",
   "metadata": {
    "execution": {
     "iopub.execute_input": "2025-07-30T21:27:59.115511Z",
     "iopub.status.busy": "2025-07-30T21:27:59.114853Z",
     "iopub.status.idle": "2025-07-30T21:27:59.120815Z",
     "shell.execute_reply": "2025-07-30T21:27:59.119826Z"
    },
    "papermill": {
     "duration": 0.029693,
     "end_time": "2025-07-30T21:27:59.122427",
     "exception": false,
     "start_time": "2025-07-30T21:27:59.092734",
     "status": "completed"
    },
    "tags": []
   },
   "outputs": [],
   "source": [
    "X_train = X_train[keep_mask]"
   ]
  },
  {
   "cell_type": "code",
   "execution_count": 40,
   "id": "b202bb3a",
   "metadata": {
    "execution": {
     "iopub.execute_input": "2025-07-30T21:27:59.168758Z",
     "iopub.status.busy": "2025-07-30T21:27:59.168054Z",
     "iopub.status.idle": "2025-07-30T21:27:59.174304Z",
     "shell.execute_reply": "2025-07-30T21:27:59.173290Z"
    },
    "papermill": {
     "duration": 0.031911,
     "end_time": "2025-07-30T21:27:59.175835",
     "exception": false,
     "start_time": "2025-07-30T21:27:59.143924",
     "status": "completed"
    },
    "tags": []
   },
   "outputs": [],
   "source": [
    "y_train = y_train[keep_mask]"
   ]
  },
  {
   "cell_type": "markdown",
   "id": "493e2ac3",
   "metadata": {
    "papermill": {
     "duration": 0.020374,
     "end_time": "2025-07-30T21:27:59.218079",
     "exception": false,
     "start_time": "2025-07-30T21:27:59.197705",
     "status": "completed"
    },
    "tags": []
   },
   "source": [
    "# Model Training"
   ]
  },
  {
   "cell_type": "code",
   "execution_count": 41,
   "id": "679e1268",
   "metadata": {
    "execution": {
     "iopub.execute_input": "2025-07-30T21:27:59.261432Z",
     "iopub.status.busy": "2025-07-30T21:27:59.260826Z",
     "iopub.status.idle": "2025-07-30T21:27:59.369963Z",
     "shell.execute_reply": "2025-07-30T21:27:59.369042Z"
    },
    "papermill": {
     "duration": 0.132948,
     "end_time": "2025-07-30T21:27:59.371786",
     "exception": false,
     "start_time": "2025-07-30T21:27:59.238838",
     "status": "completed"
    },
    "tags": []
   },
   "outputs": [],
   "source": [
    "from sklearn.linear_model import LogisticRegression\n",
    "from sklearn.ensemble import GradientBoostingClassifier, RandomForestClassifier\n",
    "\n",
    "if (universe[\"model\"] == \"logreg\"):\n",
    "    model = LogisticRegression() #penalty=\"none\") #, solver=\"newton-cg\", max_iter=1) # include random_state=19 ?\n",
    "elif (universe[\"model\"] == \"penalized_logreg\"):\n",
    "    model = LogisticRegression(penalty=\"l2\", C=1.0) #, solver=\"newton-cg\", max_iter=1)\n",
    "elif (universe[\"model\"] == \"rf\"):\n",
    "    model = RandomForestClassifier(n_estimators=100, n_jobs=-1)\n",
    "elif (universe[\"model\"] == \"gbm\"):\n",
    "    model = GradientBoostingClassifier()\n",
    "elif (universe[\"model\"] == \"elasticnet\"):\n",
    "    model = LogisticRegression(penalty = 'elasticnet', solver = 'saga', l1_ratio = 0.5, max_iter=5000) # which solver to use?\n",
    "else:\n",
    "    raise \"Unsupported universe.model\""
   ]
  },
  {
   "cell_type": "code",
   "execution_count": 42,
   "id": "0cc8f744",
   "metadata": {
    "execution": {
     "iopub.execute_input": "2025-07-30T21:27:59.416522Z",
     "iopub.status.busy": "2025-07-30T21:27:59.415691Z",
     "iopub.status.idle": "2025-07-30T21:27:59.422446Z",
     "shell.execute_reply": "2025-07-30T21:27:59.421449Z"
    },
    "papermill": {
     "duration": 0.030509,
     "end_time": "2025-07-30T21:27:59.424244",
     "exception": false,
     "start_time": "2025-07-30T21:27:59.393735",
     "status": "completed"
    },
    "tags": []
   },
   "outputs": [],
   "source": [
    "import numpy as np\n",
    "from sklearn.pipeline import Pipeline\n",
    "from sklearn.preprocessing import StandardScaler\n",
    "\n",
    "model = Pipeline([\n",
    "    #(\"continuous_processor\", continuous_processor),\n",
    "    #(\"categorical_preprocessor\", categorical_preprocessor),\n",
    "    (\"scale\", StandardScaler() if universe[\"scale\"] == \"scale\" else None), \n",
    "    (\"model\", model),\n",
    "])"
   ]
  },
  {
   "cell_type": "code",
   "execution_count": 43,
   "id": "9442c04d",
   "metadata": {
    "execution": {
     "iopub.execute_input": "2025-07-30T21:27:59.470861Z",
     "iopub.status.busy": "2025-07-30T21:27:59.470137Z",
     "iopub.status.idle": "2025-07-30T21:27:59.541906Z",
     "shell.execute_reply": "2025-07-30T21:27:59.540950Z"
    },
    "papermill": {
     "duration": 0.098233,
     "end_time": "2025-07-30T21:27:59.544377",
     "exception": false,
     "start_time": "2025-07-30T21:27:59.446144",
     "status": "completed"
    },
    "tags": []
   },
   "outputs": [
    {
     "name": "stderr",
     "output_type": "stream",
     "text": [
      "/dss/dsshome1/0C/ra93lal2/.local/share/virtualenvs/CMA_Fairness_v2-3j10GkSs/lib/python3.10/site-packages/sklearn/linear_model/_logistic.py:444: ConvergenceWarning: lbfgs failed to converge (status=1):\n",
      "STOP: TOTAL NO. of ITERATIONS REACHED LIMIT.\n",
      "\n",
      "Increase the number of iterations (max_iter) or scale the data as shown in:\n",
      "    https://scikit-learn.org/stable/modules/preprocessing.html\n",
      "Please also refer to the documentation for alternative solver options:\n",
      "    https://scikit-learn.org/stable/modules/linear_model.html#logistic-regression\n",
      "  n_iter_i = _check_optimize_result(\n"
     ]
    },
    {
     "data": {
      "text/html": [
       "<style>#sk-container-id-1 {color: black;background-color: white;}#sk-container-id-1 pre{padding: 0;}#sk-container-id-1 div.sk-toggleable {background-color: white;}#sk-container-id-1 label.sk-toggleable__label {cursor: pointer;display: block;width: 100%;margin-bottom: 0;padding: 0.3em;box-sizing: border-box;text-align: center;}#sk-container-id-1 label.sk-toggleable__label-arrow:before {content: \"▸\";float: left;margin-right: 0.25em;color: #696969;}#sk-container-id-1 label.sk-toggleable__label-arrow:hover:before {color: black;}#sk-container-id-1 div.sk-estimator:hover label.sk-toggleable__label-arrow:before {color: black;}#sk-container-id-1 div.sk-toggleable__content {max-height: 0;max-width: 0;overflow: hidden;text-align: left;background-color: #f0f8ff;}#sk-container-id-1 div.sk-toggleable__content pre {margin: 0.2em;color: black;border-radius: 0.25em;background-color: #f0f8ff;}#sk-container-id-1 input.sk-toggleable__control:checked~div.sk-toggleable__content {max-height: 200px;max-width: 100%;overflow: auto;}#sk-container-id-1 input.sk-toggleable__control:checked~label.sk-toggleable__label-arrow:before {content: \"▾\";}#sk-container-id-1 div.sk-estimator input.sk-toggleable__control:checked~label.sk-toggleable__label {background-color: #d4ebff;}#sk-container-id-1 div.sk-label input.sk-toggleable__control:checked~label.sk-toggleable__label {background-color: #d4ebff;}#sk-container-id-1 input.sk-hidden--visually {border: 0;clip: rect(1px 1px 1px 1px);clip: rect(1px, 1px, 1px, 1px);height: 1px;margin: -1px;overflow: hidden;padding: 0;position: absolute;width: 1px;}#sk-container-id-1 div.sk-estimator {font-family: monospace;background-color: #f0f8ff;border: 1px dotted black;border-radius: 0.25em;box-sizing: border-box;margin-bottom: 0.5em;}#sk-container-id-1 div.sk-estimator:hover {background-color: #d4ebff;}#sk-container-id-1 div.sk-parallel-item::after {content: \"\";width: 100%;border-bottom: 1px solid gray;flex-grow: 1;}#sk-container-id-1 div.sk-label:hover label.sk-toggleable__label {background-color: #d4ebff;}#sk-container-id-1 div.sk-serial::before {content: \"\";position: absolute;border-left: 1px solid gray;box-sizing: border-box;top: 0;bottom: 0;left: 50%;z-index: 0;}#sk-container-id-1 div.sk-serial {display: flex;flex-direction: column;align-items: center;background-color: white;padding-right: 0.2em;padding-left: 0.2em;position: relative;}#sk-container-id-1 div.sk-item {position: relative;z-index: 1;}#sk-container-id-1 div.sk-parallel {display: flex;align-items: stretch;justify-content: center;background-color: white;position: relative;}#sk-container-id-1 div.sk-item::before, #sk-container-id-1 div.sk-parallel-item::before {content: \"\";position: absolute;border-left: 1px solid gray;box-sizing: border-box;top: 0;bottom: 0;left: 50%;z-index: -1;}#sk-container-id-1 div.sk-parallel-item {display: flex;flex-direction: column;z-index: 1;position: relative;background-color: white;}#sk-container-id-1 div.sk-parallel-item:first-child::after {align-self: flex-end;width: 50%;}#sk-container-id-1 div.sk-parallel-item:last-child::after {align-self: flex-start;width: 50%;}#sk-container-id-1 div.sk-parallel-item:only-child::after {width: 0;}#sk-container-id-1 div.sk-dashed-wrapped {border: 1px dashed gray;margin: 0 0.4em 0.5em 0.4em;box-sizing: border-box;padding-bottom: 0.4em;background-color: white;}#sk-container-id-1 div.sk-label label {font-family: monospace;font-weight: bold;display: inline-block;line-height: 1.2em;}#sk-container-id-1 div.sk-label-container {text-align: center;}#sk-container-id-1 div.sk-container {/* jupyter's `normalize.less` sets `[hidden] { display: none; }` but bootstrap.min.css set `[hidden] { display: none !important; }` so we also need the `!important` here to be able to override the default hidden behavior on the sphinx rendered scikit-learn.org. See: https://github.com/scikit-learn/scikit-learn/issues/21755 */display: inline-block !important;position: relative;}#sk-container-id-1 div.sk-text-repr-fallback {display: none;}</style><div id=\"sk-container-id-1\" class=\"sk-top-container\"><div class=\"sk-text-repr-fallback\"><pre>Pipeline(steps=[(&#x27;scale&#x27;, None), (&#x27;model&#x27;, LogisticRegression())])</pre><b>In a Jupyter environment, please rerun this cell to show the HTML representation or trust the notebook. <br />On GitHub, the HTML representation is unable to render, please try loading this page with nbviewer.org.</b></div><div class=\"sk-container\" hidden><div class=\"sk-item sk-dashed-wrapped\"><div class=\"sk-label-container\"><div class=\"sk-label sk-toggleable\"><input class=\"sk-toggleable__control sk-hidden--visually\" id=\"sk-estimator-id-1\" type=\"checkbox\" ><label for=\"sk-estimator-id-1\" class=\"sk-toggleable__label sk-toggleable__label-arrow\">Pipeline</label><div class=\"sk-toggleable__content\"><pre>Pipeline(steps=[(&#x27;scale&#x27;, None), (&#x27;model&#x27;, LogisticRegression())])</pre></div></div></div><div class=\"sk-serial\"><div class=\"sk-item\"><div class=\"sk-estimator sk-toggleable\"><input class=\"sk-toggleable__control sk-hidden--visually\" id=\"sk-estimator-id-2\" type=\"checkbox\" ><label for=\"sk-estimator-id-2\" class=\"sk-toggleable__label sk-toggleable__label-arrow\">None</label><div class=\"sk-toggleable__content\"><pre>None</pre></div></div></div><div class=\"sk-item\"><div class=\"sk-estimator sk-toggleable\"><input class=\"sk-toggleable__control sk-hidden--visually\" id=\"sk-estimator-id-3\" type=\"checkbox\" ><label for=\"sk-estimator-id-3\" class=\"sk-toggleable__label sk-toggleable__label-arrow\">LogisticRegression</label><div class=\"sk-toggleable__content\"><pre>LogisticRegression()</pre></div></div></div></div></div></div></div>"
      ],
      "text/plain": [
       "Pipeline(steps=[('scale', None), ('model', LogisticRegression())])"
      ]
     },
     "execution_count": 43,
     "metadata": {},
     "output_type": "execute_result"
    }
   ],
   "source": [
    "model.fit(X_train, y_train.values.ravel())"
   ]
  },
  {
   "cell_type": "code",
   "execution_count": 44,
   "id": "af59f8c0",
   "metadata": {
    "execution": {
     "iopub.execute_input": "2025-07-30T21:27:59.589340Z",
     "iopub.status.busy": "2025-07-30T21:27:59.588541Z",
     "iopub.status.idle": "2025-07-30T21:27:59.593790Z",
     "shell.execute_reply": "2025-07-30T21:27:59.592837Z"
    },
    "papermill": {
     "duration": 0.029125,
     "end_time": "2025-07-30T21:27:59.595474",
     "exception": false,
     "start_time": "2025-07-30T21:27:59.566349",
     "status": "completed"
    },
    "tags": []
   },
   "outputs": [],
   "source": [
    "from fairness_multiverse.universe import predict_w_threshold"
   ]
  },
  {
   "cell_type": "code",
   "execution_count": 45,
   "id": "a7cf2e16",
   "metadata": {
    "execution": {
     "iopub.execute_input": "2025-07-30T21:27:59.648722Z",
     "iopub.status.busy": "2025-07-30T21:27:59.647733Z",
     "iopub.status.idle": "2025-07-30T21:27:59.741795Z",
     "shell.execute_reply": "2025-07-30T21:27:59.740901Z"
    },
    "papermill": {
     "duration": 0.131573,
     "end_time": "2025-07-30T21:27:59.753224",
     "exception": false,
     "start_time": "2025-07-30T21:27:59.621651",
     "status": "completed"
    },
    "tags": []
   },
   "outputs": [
    {
     "data": {
      "text/plain": [
       "0.8447553227064987"
      ]
     },
     "execution_count": 45,
     "metadata": {},
     "output_type": "execute_result"
    }
   ],
   "source": [
    "probs_test = model.predict_proba(X_test)\n",
    "\n",
    "'''\n",
    "Below code returns a boolean array (or binary 0/1 array depending on how it’s used) where each element \n",
    "is True if the probability of class 1 is greater than or equal to the threshold, and False otherwise.\n",
    "'''\n",
    "y_pred_default = predict_w_threshold(probs_test, 0.5)\n",
    "\n",
    "from sklearn.metrics import accuracy_score\n",
    "\n",
    "# Naive prediction\n",
    "accuracy_score(y_true = y_true, y_pred = y_pred_default)"
   ]
  },
  {
   "cell_type": "code",
   "execution_count": 46,
   "id": "081964c3",
   "metadata": {
    "execution": {
     "iopub.execute_input": "2025-07-30T21:27:59.814817Z",
     "iopub.status.busy": "2025-07-30T21:27:59.814275Z",
     "iopub.status.idle": "2025-07-30T21:27:59.895715Z",
     "shell.execute_reply": "2025-07-30T21:27:59.894748Z"
    },
    "papermill": {
     "duration": 0.11169,
     "end_time": "2025-07-30T21:27:59.897839",
     "exception": false,
     "start_time": "2025-07-30T21:27:59.786149",
     "status": "completed"
    },
    "tags": []
   },
   "outputs": [
    {
     "data": {
      "text/plain": [
       "array([0, 0, 0, ..., 0, 0, 0])"
      ]
     },
     "execution_count": 46,
     "metadata": {},
     "output_type": "execute_result"
    }
   ],
   "source": [
    "model.predict(X_test)"
   ]
  },
  {
   "cell_type": "markdown",
   "id": "56c9705b",
   "metadata": {
    "papermill": {
     "duration": 0.021841,
     "end_time": "2025-07-30T21:27:59.947557",
     "exception": false,
     "start_time": "2025-07-30T21:27:59.925716",
     "status": "completed"
    },
    "tags": []
   },
   "source": [
    "# Conformal Prediction"
   ]
  },
  {
   "cell_type": "code",
   "execution_count": 47,
   "id": "160ec6ff",
   "metadata": {
    "execution": {
     "iopub.execute_input": "2025-07-30T21:27:59.993028Z",
     "iopub.status.busy": "2025-07-30T21:27:59.992157Z",
     "iopub.status.idle": "2025-07-30T21:28:00.012406Z",
     "shell.execute_reply": "2025-07-30T21:27:59.996308Z"
    },
    "papermill": {
     "duration": 0.043658,
     "end_time": "2025-07-30T21:28:00.013622",
     "exception": false,
     "start_time": "2025-07-30T21:27:59.969964",
     "status": "completed"
    },
    "tags": []
   },
   "outputs": [],
   "source": [
    "# Miscoverage level for conformal prediction (10% allowed error rate => 90% target coverage)\n",
    "alpha = 0.1"
   ]
  },
  {
   "cell_type": "code",
   "execution_count": 48,
   "id": "eadf4555-3dd3-440e-8e35-f82a4ad9f855",
   "metadata": {
    "execution": {
     "iopub.execute_input": "2025-07-30T21:28:00.044719Z",
     "iopub.status.busy": "2025-07-30T21:28:00.043905Z",
     "iopub.status.idle": "2025-07-30T21:28:00.120091Z",
     "shell.execute_reply": "2025-07-30T21:28:00.119131Z"
    },
    "papermill": {
     "duration": 0.09074,
     "end_time": "2025-07-30T21:28:00.121966",
     "exception": false,
     "start_time": "2025-07-30T21:28:00.031226",
     "status": "completed"
    },
    "tags": []
   },
   "outputs": [],
   "source": [
    "probs_calib = model.predict_proba(X_calib)"
   ]
  },
  {
   "cell_type": "code",
   "execution_count": 49,
   "id": "2ed93547-6d5d-4983-9b36-1ecb300da49a",
   "metadata": {
    "execution": {
     "iopub.execute_input": "2025-07-30T21:28:00.152267Z",
     "iopub.status.busy": "2025-07-30T21:28:00.151626Z",
     "iopub.status.idle": "2025-07-30T21:28:00.156169Z",
     "shell.execute_reply": "2025-07-30T21:28:00.155374Z"
    },
    "papermill": {
     "duration": 0.018999,
     "end_time": "2025-07-30T21:28:00.157850",
     "exception": false,
     "start_time": "2025-07-30T21:28:00.138851",
     "status": "completed"
    },
    "tags": []
   },
   "outputs": [],
   "source": [
    "y_calib = y_calib.values.ravel().astype(int)"
   ]
  },
  {
   "cell_type": "code",
   "execution_count": 50,
   "id": "65d1320d-f588-4b38-9072-62af1ae97f7d",
   "metadata": {
    "execution": {
     "iopub.execute_input": "2025-07-30T21:28:00.205706Z",
     "iopub.status.busy": "2025-07-30T21:28:00.205341Z",
     "iopub.status.idle": "2025-07-30T21:28:00.212620Z",
     "shell.execute_reply": "2025-07-30T21:28:00.211471Z"
    },
    "papermill": {
     "duration": 0.031989,
     "end_time": "2025-07-30T21:28:00.214225",
     "exception": false,
     "start_time": "2025-07-30T21:28:00.182236",
     "status": "completed"
    },
    "tags": []
   },
   "outputs": [],
   "source": [
    "from fairness_multiverse.conformal import compute_nc_scores\n",
    "\n",
    "# Compute nonconformity scores on calibration set (1 - probability of true class)\n",
    "nc_scores = compute_nc_scores(probs_calib, y_calib)"
   ]
  },
  {
   "cell_type": "code",
   "execution_count": 51,
   "id": "df3b8ca3-53b7-43d5-9667-7c85da7aeda2",
   "metadata": {
    "execution": {
     "iopub.execute_input": "2025-07-30T21:28:00.248219Z",
     "iopub.status.busy": "2025-07-30T21:28:00.247812Z",
     "iopub.status.idle": "2025-07-30T21:28:00.254305Z",
     "shell.execute_reply": "2025-07-30T21:28:00.253140Z"
    },
    "papermill": {
     "duration": 0.021409,
     "end_time": "2025-07-30T21:28:00.255887",
     "exception": false,
     "start_time": "2025-07-30T21:28:00.234478",
     "status": "completed"
    },
    "tags": []
   },
   "outputs": [],
   "source": [
    "from fairness_multiverse.conformal import find_threshold\n",
    "\n",
    "# Find conformal threshold q_hat for the given alpha (split conformal method)\n",
    "q_hat = find_threshold(nc_scores, alpha)"
   ]
  },
  {
   "cell_type": "code",
   "execution_count": 52,
   "id": "4d29e6c1-0ef6-4aa4-b8fe-4fe79b0d033a",
   "metadata": {
    "execution": {
     "iopub.execute_input": "2025-07-30T21:28:00.321269Z",
     "iopub.status.busy": "2025-07-30T21:28:00.320214Z",
     "iopub.status.idle": "2025-07-30T21:28:00.328666Z",
     "shell.execute_reply": "2025-07-30T21:28:00.327579Z"
    },
    "papermill": {
     "duration": 0.04334,
     "end_time": "2025-07-30T21:28:00.330322",
     "exception": false,
     "start_time": "2025-07-30T21:28:00.286982",
     "status": "completed"
    },
    "tags": []
   },
   "outputs": [
    {
     "data": {
      "text/plain": [
       "0.698490205666948"
      ]
     },
     "execution_count": 52,
     "metadata": {},
     "output_type": "execute_result"
    }
   ],
   "source": [
    "q_hat"
   ]
  },
  {
   "cell_type": "code",
   "execution_count": 53,
   "id": "92460794-cdac-4be2-ba28-f28c0515a6fb",
   "metadata": {
    "execution": {
     "iopub.execute_input": "2025-07-30T21:28:00.378904Z",
     "iopub.status.busy": "2025-07-30T21:28:00.377959Z",
     "iopub.status.idle": "2025-07-30T21:28:01.093970Z",
     "shell.execute_reply": "2025-07-30T21:28:01.092088Z"
    },
    "papermill": {
     "duration": 0.741521,
     "end_time": "2025-07-30T21:28:01.095673",
     "exception": false,
     "start_time": "2025-07-30T21:28:00.354152",
     "status": "completed"
    },
    "tags": []
   },
   "outputs": [],
   "source": [
    "from fairness_multiverse.conformal import predict_conformal_sets\n",
    "\n",
    "# Generate prediction sets for each test example\n",
    "pred_sets = predict_conformal_sets(model, X_test, q_hat)"
   ]
  },
  {
   "cell_type": "code",
   "execution_count": 54,
   "id": "d90c9a65-e6db-4f5d-80cd-e68fb7e46829",
   "metadata": {
    "execution": {
     "iopub.execute_input": "2025-07-30T21:28:01.143128Z",
     "iopub.status.busy": "2025-07-30T21:28:01.142680Z",
     "iopub.status.idle": "2025-07-30T21:28:01.148666Z",
     "shell.execute_reply": "2025-07-30T21:28:01.147604Z"
    },
    "papermill": {
     "duration": 0.031188,
     "end_time": "2025-07-30T21:28:01.150358",
     "exception": false,
     "start_time": "2025-07-30T21:28:01.119170",
     "status": "completed"
    },
    "tags": []
   },
   "outputs": [],
   "source": [
    "y_true = y_true.squeeze()"
   ]
  },
  {
   "cell_type": "code",
   "execution_count": 55,
   "id": "3a58a54a-1e68-46b9-927a-df01f18aebc8",
   "metadata": {
    "execution": {
     "iopub.execute_input": "2025-07-30T21:28:01.198734Z",
     "iopub.status.busy": "2025-07-30T21:28:01.197844Z",
     "iopub.status.idle": "2025-07-30T21:28:02.093558Z",
     "shell.execute_reply": "2025-07-30T21:28:02.092611Z"
    },
    "papermill": {
     "duration": 0.921061,
     "end_time": "2025-07-30T21:28:02.095491",
     "exception": false,
     "start_time": "2025-07-30T21:28:01.174430",
     "status": "completed"
    },
    "tags": []
   },
   "outputs": [],
   "source": [
    "from fairness_multiverse.conformal import evaluate_sets\n",
    "\n",
    "# Evaluate coverage and average set size on test data\n",
    "metrics = evaluate_sets(pred_sets, y_true)"
   ]
  },
  {
   "cell_type": "markdown",
   "id": "2b569c12-9aaa-4c88-98c9-bbcd0cf3ebb8",
   "metadata": {
    "papermill": {
     "duration": 0.023223,
     "end_time": "2025-07-30T21:28:02.142463",
     "exception": false,
     "start_time": "2025-07-30T21:28:02.119240",
     "status": "completed"
    },
    "tags": []
   },
   "source": [
    "# CP Metrics"
   ]
  },
  {
   "cell_type": "code",
   "execution_count": 56,
   "id": "5ce0a5cb-201f-45a0-ade5-94c7f0bd6095",
   "metadata": {
    "execution": {
     "iopub.execute_input": "2025-07-30T21:28:02.193297Z",
     "iopub.status.busy": "2025-07-30T21:28:02.192632Z",
     "iopub.status.idle": "2025-07-30T21:28:02.201394Z",
     "shell.execute_reply": "2025-07-30T21:28:02.200266Z"
    },
    "papermill": {
     "duration": 0.037732,
     "end_time": "2025-07-30T21:28:02.203077",
     "exception": false,
     "start_time": "2025-07-30T21:28:02.165345",
     "status": "completed"
    },
    "tags": []
   },
   "outputs": [
    {
     "data": {
      "text/plain": [
       "{'coverage': 0.9086835358376992, 'avg_size': 1.2486344889087058}"
      ]
     },
     "execution_count": 56,
     "metadata": {},
     "output_type": "execute_result"
    }
   ],
   "source": [
    "metrics"
   ]
  },
  {
   "cell_type": "code",
   "execution_count": 57,
   "id": "9b9a838d-31c9-430b-ae14-12baee460d17",
   "metadata": {
    "execution": {
     "iopub.execute_input": "2025-07-30T21:28:02.267742Z",
     "iopub.status.busy": "2025-07-30T21:28:02.266916Z",
     "iopub.status.idle": "2025-07-30T21:28:02.273614Z",
     "shell.execute_reply": "2025-07-30T21:28:02.272687Z"
    },
    "papermill": {
     "duration": 0.042033,
     "end_time": "2025-07-30T21:28:02.275097",
     "exception": false,
     "start_time": "2025-07-30T21:28:02.233064",
     "status": "completed"
    },
    "tags": []
   },
   "outputs": [],
   "source": [
    "example_universe = universe.copy()\n",
    "universe_training_year = example_universe.get(\"training_year\")\n",
    "universe_training_size = example_universe.get(\"training_size\")\n",
    "universe_scale = example_universe.get(\"scale\")\n",
    "universe_model = example_universe.get(\"model\")\n",
    "universe_exclude_features = example_universe.get(\"exclude_features\")\n",
    "universe_exclude_subgroups = example_universe.get(\"exclude_subgroups\")"
   ]
  },
  {
   "cell_type": "code",
   "execution_count": 58,
   "id": "f4b6a8ac-9dc0-4245-8a91-5b3b5999c4f9",
   "metadata": {
    "execution": {
     "iopub.execute_input": "2025-07-30T21:28:02.324345Z",
     "iopub.status.busy": "2025-07-30T21:28:02.323695Z",
     "iopub.status.idle": "2025-07-30T21:28:02.330184Z",
     "shell.execute_reply": "2025-07-30T21:28:02.329174Z"
    },
    "papermill": {
     "duration": 0.03172,
     "end_time": "2025-07-30T21:28:02.331787",
     "exception": false,
     "start_time": "2025-07-30T21:28:02.300067",
     "status": "completed"
    },
    "tags": []
   },
   "outputs": [],
   "source": [
    "cp_metrics_dict = {\n",
    "    \"universe_id\": [universe_id],\n",
    "    \"universe_training_year\": [universe_training_year],\n",
    "    \"universe_training_size\": [universe_training_size],\n",
    "    \"universe_scale\": [universe_scale],\n",
    "    \"universe_model\": [universe_model],\n",
    "    \"universe_exclude_features\": [universe_exclude_features],\n",
    "    \"universe_exclude_subgroups\": [universe_exclude_subgroups],\n",
    "    \"q_hat\": [q_hat],\n",
    "    \"coverage\": [metrics[\"coverage\"]],\n",
    "    \"avg_size\": [metrics[\"avg_size\"]],\n",
    "}"
   ]
  },
  {
   "cell_type": "code",
   "execution_count": 59,
   "id": "908acbb1-0371-4915-85ca-3fa520d2efe2",
   "metadata": {
    "execution": {
     "iopub.execute_input": "2025-07-30T21:28:02.379441Z",
     "iopub.status.busy": "2025-07-30T21:28:02.378850Z",
     "iopub.status.idle": "2025-07-30T21:28:02.389992Z",
     "shell.execute_reply": "2025-07-30T21:28:02.389050Z"
    },
    "papermill": {
     "duration": 0.036094,
     "end_time": "2025-07-30T21:28:02.391559",
     "exception": false,
     "start_time": "2025-07-30T21:28:02.355465",
     "status": "completed"
    },
    "tags": []
   },
   "outputs": [
    {
     "data": {
      "text/plain": [
       "{'universe_id': ['5977f41926dd718ec10bd837828d3a0a'],\n",
       " 'universe_training_year': ['2014'],\n",
       " 'universe_training_size': ['1k'],\n",
       " 'universe_scale': ['do-not-scale'],\n",
       " 'universe_model': ['logreg'],\n",
       " 'universe_exclude_features': ['nationality-sex'],\n",
       " 'universe_exclude_subgroups': ['drop-non-german'],\n",
       " 'q_hat': [0.698490205666948],\n",
       " 'coverage': [0.9086835358376992],\n",
       " 'avg_size': [1.2486344889087058]}"
      ]
     },
     "execution_count": 59,
     "metadata": {},
     "output_type": "execute_result"
    }
   ],
   "source": [
    "cp_metrics_dict"
   ]
  },
  {
   "cell_type": "code",
   "execution_count": 60,
   "id": "33007efc-14e9-4ec6-97ac-56a455c82265",
   "metadata": {
    "execution": {
     "iopub.execute_input": "2025-07-30T21:28:02.439255Z",
     "iopub.status.busy": "2025-07-30T21:28:02.438504Z",
     "iopub.status.idle": "2025-07-30T21:28:02.444556Z",
     "shell.execute_reply": "2025-07-30T21:28:02.443554Z"
    },
    "papermill": {
     "duration": 0.030914,
     "end_time": "2025-07-30T21:28:02.446103",
     "exception": false,
     "start_time": "2025-07-30T21:28:02.415189",
     "status": "completed"
    },
    "tags": []
   },
   "outputs": [],
   "source": [
    "cp_metrics_df = pd.DataFrame(cp_metrics_dict)"
   ]
  },
  {
   "cell_type": "code",
   "execution_count": 61,
   "id": "db12611b-57b2-4910-b9d0-355adfd6e7bf",
   "metadata": {
    "execution": {
     "iopub.execute_input": "2025-07-30T21:28:02.495984Z",
     "iopub.status.busy": "2025-07-30T21:28:02.495374Z",
     "iopub.status.idle": "2025-07-30T21:28:02.513103Z",
     "shell.execute_reply": "2025-07-30T21:28:02.512157Z"
    },
    "papermill": {
     "duration": 0.044372,
     "end_time": "2025-07-30T21:28:02.514714",
     "exception": false,
     "start_time": "2025-07-30T21:28:02.470342",
     "status": "completed"
    },
    "tags": []
   },
   "outputs": [
    {
     "data": {
      "text/html": [
       "<div>\n",
       "<style scoped>\n",
       "    .dataframe tbody tr th:only-of-type {\n",
       "        vertical-align: middle;\n",
       "    }\n",
       "\n",
       "    .dataframe tbody tr th {\n",
       "        vertical-align: top;\n",
       "    }\n",
       "\n",
       "    .dataframe thead th {\n",
       "        text-align: right;\n",
       "    }\n",
       "</style>\n",
       "<table border=\"1\" class=\"dataframe\">\n",
       "  <thead>\n",
       "    <tr style=\"text-align: right;\">\n",
       "      <th></th>\n",
       "      <th>universe_id</th>\n",
       "      <th>universe_training_year</th>\n",
       "      <th>universe_training_size</th>\n",
       "      <th>universe_scale</th>\n",
       "      <th>universe_model</th>\n",
       "      <th>universe_exclude_features</th>\n",
       "      <th>universe_exclude_subgroups</th>\n",
       "      <th>q_hat</th>\n",
       "      <th>coverage</th>\n",
       "      <th>avg_size</th>\n",
       "    </tr>\n",
       "  </thead>\n",
       "  <tbody>\n",
       "    <tr>\n",
       "      <th>0</th>\n",
       "      <td>5977f41926dd718ec10bd837828d3a0a</td>\n",
       "      <td>2014</td>\n",
       "      <td>1k</td>\n",
       "      <td>do-not-scale</td>\n",
       "      <td>logreg</td>\n",
       "      <td>nationality-sex</td>\n",
       "      <td>drop-non-german</td>\n",
       "      <td>0.69849</td>\n",
       "      <td>0.908684</td>\n",
       "      <td>1.248634</td>\n",
       "    </tr>\n",
       "  </tbody>\n",
       "</table>\n",
       "</div>"
      ],
      "text/plain": [
       "                        universe_id universe_training_year  \\\n",
       "0  5977f41926dd718ec10bd837828d3a0a                   2014   \n",
       "\n",
       "  universe_training_size universe_scale universe_model  \\\n",
       "0                     1k   do-not-scale         logreg   \n",
       "\n",
       "  universe_exclude_features universe_exclude_subgroups    q_hat  coverage  \\\n",
       "0           nationality-sex            drop-non-german  0.69849  0.908684   \n",
       "\n",
       "   avg_size  \n",
       "0  1.248634  "
      ]
     },
     "execution_count": 61,
     "metadata": {},
     "output_type": "execute_result"
    }
   ],
   "source": [
    "cp_metrics_df"
   ]
  },
  {
   "cell_type": "code",
   "execution_count": 62,
   "id": "b7fbde55-a0a1-47e4-9af6-fe4a17fa8c61",
   "metadata": {
    "execution": {
     "iopub.execute_input": "2025-07-30T21:28:02.566093Z",
     "iopub.status.busy": "2025-07-30T21:28:02.565471Z",
     "iopub.status.idle": "2025-07-30T21:28:02.570427Z",
     "shell.execute_reply": "2025-07-30T21:28:02.569461Z"
    },
    "papermill": {
     "duration": 0.031738,
     "end_time": "2025-07-30T21:28:02.572371",
     "exception": false,
     "start_time": "2025-07-30T21:28:02.540633",
     "status": "completed"
    },
    "tags": []
   },
   "outputs": [],
   "source": [
    "# Conditional Coverage & looking at subgroups"
   ]
  },
  {
   "cell_type": "code",
   "execution_count": 63,
   "id": "027ae886-68dd-4141-96c7-805a5450e1ef",
   "metadata": {
    "execution": {
     "iopub.execute_input": "2025-07-30T21:28:02.621880Z",
     "iopub.status.busy": "2025-07-30T21:28:02.621358Z",
     "iopub.status.idle": "2025-07-30T21:28:02.871612Z",
     "shell.execute_reply": "2025-07-30T21:28:02.870761Z"
    },
    "papermill": {
     "duration": 0.275609,
     "end_time": "2025-07-30T21:28:02.873029",
     "exception": false,
     "start_time": "2025-07-30T21:28:02.597420",
     "status": "completed"
    },
    "tags": []
   },
   "outputs": [],
   "source": [
    "from fairness_multiverse.conformal import build_cp_groups\n",
    "\n",
    "cp_groups_df = build_cp_groups(pred_sets, y_true, X_test.index, org_test)\n",
    "#needs universe_id and setting"
   ]
  },
  {
   "cell_type": "code",
   "execution_count": 64,
   "id": "01d5802c-663a-4d1f-9d69-e036faaffbf7",
   "metadata": {
    "execution": {
     "iopub.execute_input": "2025-07-30T21:28:02.933819Z",
     "iopub.status.busy": "2025-07-30T21:28:02.933004Z",
     "iopub.status.idle": "2025-07-30T21:28:02.937236Z",
     "shell.execute_reply": "2025-07-30T21:28:02.936565Z"
    },
    "papermill": {
     "duration": 0.043087,
     "end_time": "2025-07-30T21:28:02.938586",
     "exception": false,
     "start_time": "2025-07-30T21:28:02.895499",
     "status": "completed"
    },
    "tags": []
   },
   "outputs": [],
   "source": [
    "#delete\n",
    "#cp_groups_df"
   ]
  },
  {
   "cell_type": "code",
   "execution_count": 65,
   "id": "fa424af1-d1eb-443d-b717-2d279ada8408",
   "metadata": {
    "execution": {
     "iopub.execute_input": "2025-07-30T21:28:02.966739Z",
     "iopub.status.busy": "2025-07-30T21:28:02.966340Z",
     "iopub.status.idle": "2025-07-30T21:28:02.970303Z",
     "shell.execute_reply": "2025-07-30T21:28:02.969619Z"
    },
    "papermill": {
     "duration": 0.018361,
     "end_time": "2025-07-30T21:28:02.971484",
     "exception": false,
     "start_time": "2025-07-30T21:28:02.953123",
     "status": "completed"
    },
    "tags": []
   },
   "outputs": [],
   "source": [
    "#delete\n",
    "#percentage = (cp_groups_df['nongerman_female'] == 1).mean() * 100\n",
    "#print(percentage)\n"
   ]
  },
  {
   "cell_type": "code",
   "execution_count": 66,
   "id": "6cbdab96-b2b2-45af-ad54-d0516db2e28d",
   "metadata": {
    "execution": {
     "iopub.execute_input": "2025-07-30T21:28:02.999460Z",
     "iopub.status.busy": "2025-07-30T21:28:02.998863Z",
     "iopub.status.idle": "2025-07-30T21:28:04.641937Z",
     "shell.execute_reply": "2025-07-30T21:28:04.641014Z"
    },
    "papermill": {
     "duration": 1.658549,
     "end_time": "2025-07-30T21:28:04.643725",
     "exception": false,
     "start_time": "2025-07-30T21:28:02.985176",
     "status": "completed"
    },
    "tags": []
   },
   "outputs": [],
   "source": [
    "# Define covered = 1 if true_label is in the predicted set\n",
    "cp_groups_df['covered'] = cp_groups_df.apply(\n",
    "    lambda r: int(r['true_label'] in r['pred_set']),\n",
    "    axis=1\n",
    ")"
   ]
  },
  {
   "cell_type": "code",
   "execution_count": 67,
   "id": "338ff529-1a6b-4b87-a931-8e4788d52aad",
   "metadata": {
    "execution": {
     "iopub.execute_input": "2025-07-30T21:28:04.696244Z",
     "iopub.status.busy": "2025-07-30T21:28:04.695253Z",
     "iopub.status.idle": "2025-07-30T21:28:04.700962Z",
     "shell.execute_reply": "2025-07-30T21:28:04.699967Z"
    },
    "papermill": {
     "duration": 0.031799,
     "end_time": "2025-07-30T21:28:04.702421",
     "exception": false,
     "start_time": "2025-07-30T21:28:04.670622",
     "status": "completed"
    },
    "tags": []
   },
   "outputs": [],
   "source": [
    "#cp_groups_df"
   ]
  },
  {
   "cell_type": "code",
   "execution_count": 68,
   "id": "90032e27-66df-4540-9169-4e89cfbaa758",
   "metadata": {
    "execution": {
     "iopub.execute_input": "2025-07-30T21:28:04.754699Z",
     "iopub.status.busy": "2025-07-30T21:28:04.753896Z",
     "iopub.status.idle": "2025-07-30T21:28:04.765915Z",
     "shell.execute_reply": "2025-07-30T21:28:04.764811Z"
    },
    "papermill": {
     "duration": 0.04062,
     "end_time": "2025-07-30T21:28:04.767794",
     "exception": false,
     "start_time": "2025-07-30T21:28:04.727174",
     "status": "completed"
    },
    "tags": []
   },
   "outputs": [],
   "source": [
    "subgroups = ['frau1','nongerman','nongerman_male','nongerman_female']\n",
    "\n",
    "# Conditional coverage for subgroup==1\n",
    "cond_coverage = {\n",
    "    g: cp_groups_df.loc[cp_groups_df[g]==1, 'covered'].mean()\n",
    "    for g in subgroups\n",
    "}"
   ]
  },
  {
   "cell_type": "code",
   "execution_count": 69,
   "id": "1e348fb1-b9c3-45bc-ba23-f016827a7e0d",
   "metadata": {
    "execution": {
     "iopub.execute_input": "2025-07-30T21:28:04.818845Z",
     "iopub.status.busy": "2025-07-30T21:28:04.818028Z",
     "iopub.status.idle": "2025-07-30T21:28:04.826233Z",
     "shell.execute_reply": "2025-07-30T21:28:04.825068Z"
    },
    "papermill": {
     "duration": 0.034644,
     "end_time": "2025-07-30T21:28:04.827869",
     "exception": false,
     "start_time": "2025-07-30T21:28:04.793225",
     "status": "completed"
    },
    "tags": []
   },
   "outputs": [
    {
     "data": {
      "text/plain": [
       "{'frau1': 0.9080469065911848,\n",
       " 'nongerman': 0.9398753719193848,\n",
       " 'nongerman_male': 0.9507340358461677,\n",
       " 'nongerman_female': 0.9219076005961252}"
      ]
     },
     "execution_count": 69,
     "metadata": {},
     "output_type": "execute_result"
    }
   ],
   "source": [
    "cond_coverage"
   ]
  },
  {
   "cell_type": "code",
   "execution_count": 70,
   "id": "f5093324-c3dd-4d63-bc4c-8d945e5c8bbb",
   "metadata": {
    "execution": {
     "iopub.execute_input": "2025-07-30T21:28:04.879274Z",
     "iopub.status.busy": "2025-07-30T21:28:04.878476Z",
     "iopub.status.idle": "2025-07-30T21:28:04.886556Z",
     "shell.execute_reply": "2025-07-30T21:28:04.885529Z"
    },
    "papermill": {
     "duration": 0.035547,
     "end_time": "2025-07-30T21:28:04.888418",
     "exception": false,
     "start_time": "2025-07-30T21:28:04.852871",
     "status": "completed"
    },
    "tags": []
   },
   "outputs": [],
   "source": [
    "for subgroup, cov in cond_coverage.items():\n",
    "    cp_metrics_df[f\"cov_{subgroup}\"] = cov"
   ]
  },
  {
   "cell_type": "code",
   "execution_count": 71,
   "id": "6e872e10-dbe5-49e8-b554-5030c98ff75d",
   "metadata": {
    "execution": {
     "iopub.execute_input": "2025-07-30T21:28:04.940233Z",
     "iopub.status.busy": "2025-07-30T21:28:04.939571Z",
     "iopub.status.idle": "2025-07-30T21:28:04.957563Z",
     "shell.execute_reply": "2025-07-30T21:28:04.956599Z"
    },
    "papermill": {
     "duration": 0.045081,
     "end_time": "2025-07-30T21:28:04.959365",
     "exception": false,
     "start_time": "2025-07-30T21:28:04.914284",
     "status": "completed"
    },
    "tags": []
   },
   "outputs": [
    {
     "data": {
      "text/html": [
       "<div>\n",
       "<style scoped>\n",
       "    .dataframe tbody tr th:only-of-type {\n",
       "        vertical-align: middle;\n",
       "    }\n",
       "\n",
       "    .dataframe tbody tr th {\n",
       "        vertical-align: top;\n",
       "    }\n",
       "\n",
       "    .dataframe thead th {\n",
       "        text-align: right;\n",
       "    }\n",
       "</style>\n",
       "<table border=\"1\" class=\"dataframe\">\n",
       "  <thead>\n",
       "    <tr style=\"text-align: right;\">\n",
       "      <th></th>\n",
       "      <th>universe_id</th>\n",
       "      <th>universe_training_year</th>\n",
       "      <th>universe_training_size</th>\n",
       "      <th>universe_scale</th>\n",
       "      <th>universe_model</th>\n",
       "      <th>universe_exclude_features</th>\n",
       "      <th>universe_exclude_subgroups</th>\n",
       "      <th>q_hat</th>\n",
       "      <th>coverage</th>\n",
       "      <th>avg_size</th>\n",
       "      <th>cov_frau1</th>\n",
       "      <th>cov_nongerman</th>\n",
       "      <th>cov_nongerman_male</th>\n",
       "      <th>cov_nongerman_female</th>\n",
       "    </tr>\n",
       "  </thead>\n",
       "  <tbody>\n",
       "    <tr>\n",
       "      <th>0</th>\n",
       "      <td>5977f41926dd718ec10bd837828d3a0a</td>\n",
       "      <td>2014</td>\n",
       "      <td>1k</td>\n",
       "      <td>do-not-scale</td>\n",
       "      <td>logreg</td>\n",
       "      <td>nationality-sex</td>\n",
       "      <td>drop-non-german</td>\n",
       "      <td>0.69849</td>\n",
       "      <td>0.908684</td>\n",
       "      <td>1.248634</td>\n",
       "      <td>0.908047</td>\n",
       "      <td>0.939875</td>\n",
       "      <td>0.950734</td>\n",
       "      <td>0.921908</td>\n",
       "    </tr>\n",
       "  </tbody>\n",
       "</table>\n",
       "</div>"
      ],
      "text/plain": [
       "                        universe_id universe_training_year  \\\n",
       "0  5977f41926dd718ec10bd837828d3a0a                   2014   \n",
       "\n",
       "  universe_training_size universe_scale universe_model  \\\n",
       "0                     1k   do-not-scale         logreg   \n",
       "\n",
       "  universe_exclude_features universe_exclude_subgroups    q_hat  coverage  \\\n",
       "0           nationality-sex            drop-non-german  0.69849  0.908684   \n",
       "\n",
       "   avg_size  cov_frau1  cov_nongerman  cov_nongerman_male  \\\n",
       "0  1.248634   0.908047       0.939875            0.950734   \n",
       "\n",
       "   cov_nongerman_female  \n",
       "0              0.921908  "
      ]
     },
     "execution_count": 71,
     "metadata": {},
     "output_type": "execute_result"
    }
   ],
   "source": [
    "cp_metrics_df"
   ]
  },
  {
   "cell_type": "markdown",
   "id": "33774451",
   "metadata": {
    "papermill": {
     "duration": 0.028698,
     "end_time": "2025-07-30T21:28:05.019550",
     "exception": false,
     "start_time": "2025-07-30T21:28:04.990852",
     "status": "completed"
    },
    "tags": []
   },
   "source": [
    "# (Fairness) Metrics"
   ]
  },
  {
   "cell_type": "code",
   "execution_count": 72,
   "id": "debc5d62",
   "metadata": {
    "execution": {
     "iopub.execute_input": "2025-07-30T21:28:05.078551Z",
     "iopub.status.busy": "2025-07-30T21:28:05.078010Z",
     "iopub.status.idle": "2025-07-30T21:28:05.099473Z",
     "shell.execute_reply": "2025-07-30T21:28:05.098512Z"
    },
    "papermill": {
     "duration": 0.053053,
     "end_time": "2025-07-30T21:28:05.101316",
     "exception": false,
     "start_time": "2025-07-30T21:28:05.048263",
     "status": "completed"
    },
    "tags": []
   },
   "outputs": [],
   "source": [
    "# do I need to include maxdeutsch1.missing?\n",
    "\n",
    "import numpy as np\n",
    "\n",
    "colname_to_bin = \"maxdeutsch1\"\n",
    "majority_value = org_train[colname_to_bin].mode()[0]\n",
    "\n",
    "org_test[\"majmin\"] = np.where(org_test[colname_to_bin] == majority_value, \"majority\", \"minority\")"
   ]
  },
  {
   "cell_type": "code",
   "execution_count": 73,
   "id": "06a50de5",
   "metadata": {
    "execution": {
     "iopub.execute_input": "2025-07-30T21:28:05.161994Z",
     "iopub.status.busy": "2025-07-30T21:28:05.160593Z",
     "iopub.status.idle": "2025-07-30T21:28:07.876770Z",
     "shell.execute_reply": "2025-07-30T21:28:07.875709Z"
    },
    "papermill": {
     "duration": 2.747585,
     "end_time": "2025-07-30T21:28:07.878731",
     "exception": false,
     "start_time": "2025-07-30T21:28:05.131146",
     "status": "completed"
    },
    "tags": []
   },
   "outputs": [],
   "source": [
    "example_universe = universe.copy()\n",
    "example_universe[\"cutoff\"] = example_universe[\"cutoff\"][0]\n",
    "example_universe[\"eval_fairness_grouping\"] = example_universe[\"eval_fairness_grouping\"][0]\n",
    "fairness_dict, metric_frame = universe_analysis.compute_metrics(\n",
    "    example_universe,\n",
    "    y_pred_prob=probs_test,\n",
    "    y_test=y_true,\n",
    "    org_test=org_test,\n",
    ")"
   ]
  },
  {
   "cell_type": "markdown",
   "id": "f95d4e02",
   "metadata": {
    "papermill": {
     "duration": 0.014141,
     "end_time": "2025-07-30T21:28:07.913233",
     "exception": false,
     "start_time": "2025-07-30T21:28:07.899092",
     "status": "completed"
    },
    "tags": []
   },
   "source": [
    "# Overall"
   ]
  },
  {
   "cell_type": "markdown",
   "id": "bdee4871",
   "metadata": {
    "papermill": {
     "duration": 0.014222,
     "end_time": "2025-07-30T21:28:07.941291",
     "exception": false,
     "start_time": "2025-07-30T21:28:07.927069",
     "status": "completed"
    },
    "tags": []
   },
   "source": [
    "Fairness\n",
    "Main fairness target: Equalized Odds. Seems to be a better fit than equal opportunity, since we're not only interested in Y = 1. Seems to be a better fit than demographic parity, since we also care about accuracy, not just equal distribution of preds.\n",
    "\n",
    "Pick column for computation of fairness metrics\n",
    "\n",
    "Performance\n",
    "Overall performance measures, most interesting in relation to the measures split by group below"
   ]
  },
  {
   "cell_type": "code",
   "execution_count": 74,
   "id": "c4e067c6",
   "metadata": {
    "execution": {
     "iopub.execute_input": "2025-07-30T21:28:07.992697Z",
     "iopub.status.busy": "2025-07-30T21:28:07.992216Z",
     "iopub.status.idle": "2025-07-30T21:28:07.999896Z",
     "shell.execute_reply": "2025-07-30T21:28:07.999028Z"
    },
    "papermill": {
     "duration": 0.034769,
     "end_time": "2025-07-30T21:28:08.001390",
     "exception": false,
     "start_time": "2025-07-30T21:28:07.966621",
     "status": "completed"
    },
    "tags": []
   },
   "outputs": [
    {
     "data": {
      "text/plain": [
       "accuracy                   0.216776\n",
       "balanced accuracy          0.531640\n",
       "f1                         0.238317\n",
       "precision                  0.136142\n",
       "false positive rate        0.891883\n",
       "false negative rate        0.044838\n",
       "selection rate             0.900000\n",
       "count                  89710.000000\n",
       "dtype: float64"
      ]
     },
     "execution_count": 74,
     "metadata": {},
     "output_type": "execute_result"
    }
   ],
   "source": [
    "metric_frame.overall"
   ]
  },
  {
   "cell_type": "markdown",
   "id": "e968fe9d",
   "metadata": {
    "papermill": {
     "duration": 0.02072,
     "end_time": "2025-07-30T21:28:08.037732",
     "exception": false,
     "start_time": "2025-07-30T21:28:08.017012",
     "status": "completed"
    },
    "tags": []
   },
   "source": [
    "By Group"
   ]
  },
  {
   "cell_type": "code",
   "execution_count": 75,
   "id": "ec325bce",
   "metadata": {
    "execution": {
     "iopub.execute_input": "2025-07-30T21:28:08.093258Z",
     "iopub.status.busy": "2025-07-30T21:28:08.092922Z",
     "iopub.status.idle": "2025-07-30T21:28:08.106094Z",
     "shell.execute_reply": "2025-07-30T21:28:08.105156Z"
    },
    "papermill": {
     "duration": 0.042195,
     "end_time": "2025-07-30T21:28:08.107859",
     "exception": false,
     "start_time": "2025-07-30T21:28:08.065664",
     "status": "completed"
    },
    "tags": []
   },
   "outputs": [
    {
     "data": {
      "text/html": [
       "<div>\n",
       "<style scoped>\n",
       "    .dataframe tbody tr th:only-of-type {\n",
       "        vertical-align: middle;\n",
       "    }\n",
       "\n",
       "    .dataframe tbody tr th {\n",
       "        vertical-align: top;\n",
       "    }\n",
       "\n",
       "    .dataframe thead th {\n",
       "        text-align: right;\n",
       "    }\n",
       "</style>\n",
       "<table border=\"1\" class=\"dataframe\">\n",
       "  <thead>\n",
       "    <tr style=\"text-align: right;\">\n",
       "      <th></th>\n",
       "      <th>accuracy</th>\n",
       "      <th>balanced accuracy</th>\n",
       "      <th>f1</th>\n",
       "      <th>precision</th>\n",
       "      <th>false positive rate</th>\n",
       "      <th>false negative rate</th>\n",
       "      <th>selection rate</th>\n",
       "      <th>count</th>\n",
       "    </tr>\n",
       "    <tr>\n",
       "      <th>majmin</th>\n",
       "      <th></th>\n",
       "      <th></th>\n",
       "      <th></th>\n",
       "      <th></th>\n",
       "      <th></th>\n",
       "      <th></th>\n",
       "      <th></th>\n",
       "      <th></th>\n",
       "    </tr>\n",
       "  </thead>\n",
       "  <tbody>\n",
       "    <tr>\n",
       "      <th>majority</th>\n",
       "      <td>0.237242</td>\n",
       "      <td>0.539174</td>\n",
       "      <td>0.247554</td>\n",
       "      <td>0.142330</td>\n",
       "      <td>0.871214</td>\n",
       "      <td>0.050438</td>\n",
       "      <td>0.881567</td>\n",
       "      <td>69170.0</td>\n",
       "    </tr>\n",
       "    <tr>\n",
       "      <th>minority</th>\n",
       "      <td>0.147858</td>\n",
       "      <td>0.508308</td>\n",
       "      <td>0.209047</td>\n",
       "      <td>0.117049</td>\n",
       "      <td>0.960158</td>\n",
       "      <td>0.023226</td>\n",
       "      <td>0.962074</td>\n",
       "      <td>20540.0</td>\n",
       "    </tr>\n",
       "  </tbody>\n",
       "</table>\n",
       "</div>"
      ],
      "text/plain": [
       "          accuracy  balanced accuracy        f1  precision  \\\n",
       "majmin                                                       \n",
       "majority  0.237242           0.539174  0.247554   0.142330   \n",
       "minority  0.147858           0.508308  0.209047   0.117049   \n",
       "\n",
       "          false positive rate  false negative rate  selection rate    count  \n",
       "majmin                                                                       \n",
       "majority             0.871214             0.050438        0.881567  69170.0  \n",
       "minority             0.960158             0.023226        0.962074  20540.0  "
      ]
     },
     "execution_count": 75,
     "metadata": {},
     "output_type": "execute_result"
    }
   ],
   "source": [
    "metric_frame.by_group"
   ]
  },
  {
   "cell_type": "code",
   "execution_count": 76,
   "id": "a9ddbe63",
   "metadata": {
    "execution": {
     "iopub.execute_input": "2025-07-30T21:28:08.152118Z",
     "iopub.status.busy": "2025-07-30T21:28:08.151704Z",
     "iopub.status.idle": "2025-07-30T21:28:10.589844Z",
     "shell.execute_reply": "2025-07-30T21:28:10.588891Z"
    },
    "papermill": {
     "duration": 2.457131,
     "end_time": "2025-07-30T21:28:10.591451",
     "exception": false,
     "start_time": "2025-07-30T21:28:08.134320",
     "status": "completed"
    },
    "tags": []
   },
   "outputs": [
    {
     "data": {
      "text/plain": [
       "array([[<Axes: title={'center': 'accuracy'}, xlabel='majmin'>,\n",
       "        <Axes: title={'center': 'balanced accuracy'}, xlabel='majmin'>,\n",
       "        <Axes: title={'center': 'f1'}, xlabel='majmin'>],\n",
       "       [<Axes: title={'center': 'precision'}, xlabel='majmin'>,\n",
       "        <Axes: title={'center': 'false positive rate'}, xlabel='majmin'>,\n",
       "        <Axes: title={'center': 'false negative rate'}, xlabel='majmin'>],\n",
       "       [<Axes: title={'center': 'selection rate'}, xlabel='majmin'>,\n",
       "        <Axes: title={'center': 'count'}, xlabel='majmin'>,\n",
       "        <Axes: xlabel='majmin'>]], dtype=object)"
      ]
     },
     "execution_count": 76,
     "metadata": {},
     "output_type": "execute_result"
    },
    {
     "data": {
      "image/png": "[encoded data removed]",
      "text/plain": [
       "<Figure size 1200x800 with 9 Axes>"
      ]
     },
     "metadata": {},
     "output_type": "display_data"
    }
   ],
   "source": [
    "# In a graphic\n",
    "metric_frame.by_group.plot.bar(\n",
    "    subplots=True,\n",
    "    layout=[3, 3],\n",
    "    legend=False,\n",
    "    figsize=[12, 8],\n",
    "    title=\"Show all metrics\",\n",
    ")"
   ]
  },
  {
   "cell_type": "markdown",
   "id": "f57a0bac",
   "metadata": {
    "papermill": {
     "duration": 0.029532,
     "end_time": "2025-07-30T21:28:10.656393",
     "exception": false,
     "start_time": "2025-07-30T21:28:10.626861",
     "status": "completed"
    },
    "tags": []
   },
   "source": [
    "# Final Output"
   ]
  },
  {
   "cell_type": "code",
   "execution_count": 77,
   "id": "96d280a3",
   "metadata": {
    "execution": {
     "iopub.execute_input": "2025-07-30T21:28:10.717501Z",
     "iopub.status.busy": "2025-07-30T21:28:10.716498Z",
     "iopub.status.idle": "2025-07-30T21:28:10.725621Z",
     "shell.execute_reply": "2025-07-30T21:28:10.724589Z"
    },
    "papermill": {
     "duration": 0.04154,
     "end_time": "2025-07-30T21:28:10.727281",
     "exception": false,
     "start_time": "2025-07-30T21:28:10.685741",
     "status": "completed"
    },
    "tags": []
   },
   "outputs": [
    {
     "data": {
      "text/plain": [
       "4"
      ]
     },
     "execution_count": 77,
     "metadata": {},
     "output_type": "execute_result"
    }
   ],
   "source": [
    "sub_universes = universe_analysis.generate_sub_universes()\n",
    "len(sub_universes)"
   ]
  },
  {
   "cell_type": "code",
   "execution_count": 78,
   "id": "92adf7ba",
   "metadata": {
    "execution": {
     "iopub.execute_input": "2025-07-30T21:28:10.790146Z",
     "iopub.status.busy": "2025-07-30T21:28:10.789608Z",
     "iopub.status.idle": "2025-07-30T21:28:10.796097Z",
     "shell.execute_reply": "2025-07-30T21:28:10.795112Z"
    },
    "papermill": {
     "duration": 0.040535,
     "end_time": "2025-07-30T21:28:10.798420",
     "exception": false,
     "start_time": "2025-07-30T21:28:10.757885",
     "status": "completed"
    },
    "tags": []
   },
   "outputs": [],
   "source": [
    "def filter_sub_universe_data(sub_universe, org_test):\n",
    "    # Keep all rows — no filtering\n",
    "    keep_rows_mask = np.ones(org_test.shape[0], dtype=bool)\n",
    "\n",
    "    print(f\"[INFO] Keeping all rows: {keep_rows_mask.sum()} rows retained.\")\n",
    "    return keep_rows_mask"
   ]
  },
  {
   "cell_type": "code",
   "execution_count": 79,
   "id": "4a759155",
   "metadata": {
    "execution": {
     "iopub.execute_input": "2025-07-30T21:28:10.861248Z",
     "iopub.status.busy": "2025-07-30T21:28:10.860739Z",
     "iopub.status.idle": "2025-07-30T21:28:17.902751Z",
     "shell.execute_reply": "2025-07-30T21:28:17.901949Z"
    },
    "papermill": {
     "duration": 7.074989,
     "end_time": "2025-07-30T21:28:17.904119",
     "exception": false,
     "start_time": "2025-07-30T21:28:10.829130",
     "status": "completed"
    },
    "tags": []
   },
   "outputs": [
    {
     "name": "stdout",
     "output_type": "stream",
     "text": [
      "Stopping execution_time clock.\n",
      "[INFO] Keeping all rows: 89710 rows retained.\n"
     ]
    },
    {
     "name": "stdout",
     "output_type": "stream",
     "text": [
      "[INFO] Keeping all rows: 89710 rows retained.\n"
     ]
    },
    {
     "name": "stdout",
     "output_type": "stream",
     "text": [
      "[INFO] Keeping all rows: 89710 rows retained.\n"
     ]
    },
    {
     "name": "stdout",
     "output_type": "stream",
     "text": [
      "[INFO] Keeping all rows: 89710 rows retained.\n"
     ]
    },
    {
     "data": {
      "text/html": [
       "<div>\n",
       "<style scoped>\n",
       "    .dataframe tbody tr th:only-of-type {\n",
       "        vertical-align: middle;\n",
       "    }\n",
       "\n",
       "    .dataframe tbody tr th {\n",
       "        vertical-align: top;\n",
       "    }\n",
       "\n",
       "    .dataframe thead th {\n",
       "        text-align: right;\n",
       "    }\n",
       "</style>\n",
       "<table border=\"1\" class=\"dataframe\">\n",
       "  <thead>\n",
       "    <tr style=\"text-align: right;\">\n",
       "      <th></th>\n",
       "      <th>run_no</th>\n",
       "      <th>universe_id</th>\n",
       "      <th>universe_settings</th>\n",
       "      <th>execution_time</th>\n",
       "      <th>test_size_n</th>\n",
       "      <th>test_size_frac</th>\n",
       "      <th>fair_main_equalized_odds_difference</th>\n",
       "      <th>fair_main_equalized_odds_ratio</th>\n",
       "      <th>fair_main_demographic_parity_difference</th>\n",
       "      <th>fair_main_demographic_parity_ratio</th>\n",
       "      <th>...</th>\n",
       "      <th>perf_grp_precision_0</th>\n",
       "      <th>perf_grp_precision_1</th>\n",
       "      <th>perf_grp_false positive rate_0</th>\n",
       "      <th>perf_grp_false positive rate_1</th>\n",
       "      <th>perf_grp_false negative rate_0</th>\n",
       "      <th>perf_grp_false negative rate_1</th>\n",
       "      <th>perf_grp_selection rate_0</th>\n",
       "      <th>perf_grp_selection rate_1</th>\n",
       "      <th>perf_grp_count_0</th>\n",
       "      <th>perf_grp_count_1</th>\n",
       "    </tr>\n",
       "  </thead>\n",
       "  <tbody>\n",
       "    <tr>\n",
       "      <th>0</th>\n",
       "      <td>14</td>\n",
       "      <td>5977f41926dd718ec10bd837828d3a0a</td>\n",
       "      <td>{\"cutoff\": \"quantile_0.1\", \"eval_fairness_grou...</td>\n",
       "      <td>26.39591</td>\n",
       "      <td>89710</td>\n",
       "      <td>1.0</td>\n",
       "      <td>0.088944</td>\n",
       "      <td>0.907365</td>\n",
       "      <td>0.080507</td>\n",
       "      <td>0.916319</td>\n",
       "      <td>...</td>\n",
       "      <td>NaN</td>\n",
       "      <td>NaN</td>\n",
       "      <td>NaN</td>\n",
       "      <td>NaN</td>\n",
       "      <td>NaN</td>\n",
       "      <td>NaN</td>\n",
       "      <td>NaN</td>\n",
       "      <td>NaN</td>\n",
       "      <td>NaN</td>\n",
       "      <td>NaN</td>\n",
       "    </tr>\n",
       "    <tr>\n",
       "      <th>0</th>\n",
       "      <td>14</td>\n",
       "      <td>5977f41926dd718ec10bd837828d3a0a</td>\n",
       "      <td>{\"cutoff\": \"quantile_0.1\", \"eval_fairness_grou...</td>\n",
       "      <td>26.39591</td>\n",
       "      <td>89710</td>\n",
       "      <td>1.0</td>\n",
       "      <td>0.088944</td>\n",
       "      <td>0.907365</td>\n",
       "      <td>0.080507</td>\n",
       "      <td>0.916319</td>\n",
       "      <td>...</td>\n",
       "      <td>0.117049</td>\n",
       "      <td>0.142330</td>\n",
       "      <td>0.960158</td>\n",
       "      <td>0.871214</td>\n",
       "      <td>0.023226</td>\n",
       "      <td>0.050438</td>\n",
       "      <td>0.962074</td>\n",
       "      <td>0.881567</td>\n",
       "      <td>20540.0</td>\n",
       "      <td>69170.0</td>\n",
       "    </tr>\n",
       "    <tr>\n",
       "      <th>0</th>\n",
       "      <td>14</td>\n",
       "      <td>5977f41926dd718ec10bd837828d3a0a</td>\n",
       "      <td>{\"cutoff\": \"quantile_0.25\", \"eval_fairness_gro...</td>\n",
       "      <td>26.39591</td>\n",
       "      <td>89710</td>\n",
       "      <td>1.0</td>\n",
       "      <td>0.205727</td>\n",
       "      <td>0.769002</td>\n",
       "      <td>0.188299</td>\n",
       "      <td>0.789653</td>\n",
       "      <td>...</td>\n",
       "      <td>NaN</td>\n",
       "      <td>NaN</td>\n",
       "      <td>NaN</td>\n",
       "      <td>NaN</td>\n",
       "      <td>NaN</td>\n",
       "      <td>NaN</td>\n",
       "      <td>NaN</td>\n",
       "      <td>NaN</td>\n",
       "      <td>NaN</td>\n",
       "      <td>NaN</td>\n",
       "    </tr>\n",
       "    <tr>\n",
       "      <th>0</th>\n",
       "      <td>14</td>\n",
       "      <td>5977f41926dd718ec10bd837828d3a0a</td>\n",
       "      <td>{\"cutoff\": \"quantile_0.25\", \"eval_fairness_gro...</td>\n",
       "      <td>26.39591</td>\n",
       "      <td>89710</td>\n",
       "      <td>1.0</td>\n",
       "      <td>0.205727</td>\n",
       "      <td>0.769002</td>\n",
       "      <td>0.188299</td>\n",
       "      <td>0.789653</td>\n",
       "      <td>...</td>\n",
       "      <td>0.119813</td>\n",
       "      <td>0.159157</td>\n",
       "      <td>0.890601</td>\n",
       "      <td>0.684874</td>\n",
       "      <td>0.069679</td>\n",
       "      <td>0.148578</td>\n",
       "      <td>0.895180</td>\n",
       "      <td>0.706882</td>\n",
       "      <td>20540.0</td>\n",
       "      <td>69170.0</td>\n",
       "    </tr>\n",
       "  </tbody>\n",
       "</table>\n",
       "<p>4 rows × 50 columns</p>\n",
       "</div>"
      ],
      "text/plain": [
       "  run_no                       universe_id  \\\n",
       "0     14  5977f41926dd718ec10bd837828d3a0a   \n",
       "0     14  5977f41926dd718ec10bd837828d3a0a   \n",
       "0     14  5977f41926dd718ec10bd837828d3a0a   \n",
       "0     14  5977f41926dd718ec10bd837828d3a0a   \n",
       "\n",
       "                                   universe_settings  execution_time  \\\n",
       "0  {\"cutoff\": \"quantile_0.1\", \"eval_fairness_grou...        26.39591   \n",
       "0  {\"cutoff\": \"quantile_0.1\", \"eval_fairness_grou...        26.39591   \n",
       "0  {\"cutoff\": \"quantile_0.25\", \"eval_fairness_gro...        26.39591   \n",
       "0  {\"cutoff\": \"quantile_0.25\", \"eval_fairness_gro...        26.39591   \n",
       "\n",
       "   test_size_n  test_size_frac  fair_main_equalized_odds_difference  \\\n",
       "0        89710             1.0                             0.088944   \n",
       "0        89710             1.0                             0.088944   \n",
       "0        89710             1.0                             0.205727   \n",
       "0        89710             1.0                             0.205727   \n",
       "\n",
       "   fair_main_equalized_odds_ratio  fair_main_demographic_parity_difference  \\\n",
       "0                        0.907365                                 0.080507   \n",
       "0                        0.907365                                 0.080507   \n",
       "0                        0.769002                                 0.188299   \n",
       "0                        0.769002                                 0.188299   \n",
       "\n",
       "   fair_main_demographic_parity_ratio  ...  perf_grp_precision_0  \\\n",
       "0                            0.916319  ...                   NaN   \n",
       "0                            0.916319  ...              0.117049   \n",
       "0                            0.789653  ...                   NaN   \n",
       "0                            0.789653  ...              0.119813   \n",
       "\n",
       "   perf_grp_precision_1  perf_grp_false positive rate_0  \\\n",
       "0                   NaN                             NaN   \n",
       "0              0.142330                        0.960158   \n",
       "0                   NaN                             NaN   \n",
       "0              0.159157                        0.890601   \n",
       "\n",
       "   perf_grp_false positive rate_1  perf_grp_false negative rate_0  \\\n",
       "0                             NaN                             NaN   \n",
       "0                        0.871214                        0.023226   \n",
       "0                             NaN                             NaN   \n",
       "0                        0.684874                        0.069679   \n",
       "\n",
       "   perf_grp_false negative rate_1  perf_grp_selection rate_0  \\\n",
       "0                             NaN                        NaN   \n",
       "0                        0.050438                   0.962074   \n",
       "0                             NaN                        NaN   \n",
       "0                        0.148578                   0.895180   \n",
       "\n",
       "   perf_grp_selection rate_1  perf_grp_count_0  perf_grp_count_1  \n",
       "0                        NaN               NaN               NaN  \n",
       "0                   0.881567           20540.0           69170.0  \n",
       "0                        NaN               NaN               NaN  \n",
       "0                   0.706882           20540.0           69170.0  \n",
       "\n",
       "[4 rows x 50 columns]"
      ]
     },
     "execution_count": 79,
     "metadata": {},
     "output_type": "execute_result"
    }
   ],
   "source": [
    "final_output = universe_analysis.generate_final_output(\n",
    "    y_pred_prob=probs_test,\n",
    "    y_test=y_true,\n",
    "    org_test=org_test,\n",
    "    filter_data=filter_sub_universe_data,\n",
    "    cp_metrics_df=cp_metrics_df,\n",
    "    save=True,\n",
    ")\n",
    "final_output"
   ]
  },
  {
   "cell_type": "code",
   "execution_count": null,
   "id": "721ff514-cb11-46f8-b6fc-50392f74b5cb",
   "metadata": {
    "papermill": {
     "duration": 0.016556,
     "end_time": "2025-07-30T21:28:17.940749",
     "exception": false,
     "start_time": "2025-07-30T21:28:17.924193",
     "status": "completed"
    },
    "tags": []
   },
   "outputs": [],
   "source": []
  }
 ],
 "metadata": {
  "celltoolbar": "Tags",
  "kernelspec": {
   "display_name": "Python (CMA Fairness)",
   "language": "python",
   "name": "cma_fair_env"
  },
  "language_info": {
   "codemirror_mode": {
    "name": "ipython",
    "version": 3
   },
   "file_extension": ".py",
   "mimetype": "text/x-python",
   "name": "python",
   "nbconvert_exporter": "python",
   "pygments_lexer": "ipython3",
   "version": "3.10.12"
  },
  "papermill": {
   "default_parameters": {},
   "duration": 37.825708,
   "end_time": "2025-07-30T21:28:18.674993",
   "environment_variables": {},
   "exception": null,
   "input_path": "universe_analysis.ipynb",
   "output_path": "output/runs/14/notebooks/m_14-5977f41926dd718ec10bd837828d3a0a.ipynb",
   "parameters": {
    "output_dir": "output",
    "run_no": "14",
    "seed": "2023",
    "universe": "{\"cutoff\": [\"quantile_0.1\", \"quantile_0.25\"], \"eval_fairness_grouping\": [\"majority-minority\", \"nationality-all\"], \"exclude_features\": \"nationality-sex\", \"exclude_subgroups\": \"drop-non-german\", \"model\": \"logreg\", \"scale\": \"do-not-scale\", \"training_size\": \"1k\", \"training_year\": \"2014\"}",
    "universe_id": "5977f41926dd718ec10bd837828d3a0a"
   },
   "start_time": "2025-07-30T21:27:40.849285",
   "version": "2.6.0"
  }
 },
 "nbformat": 4,
 "nbformat_minor": 5
}