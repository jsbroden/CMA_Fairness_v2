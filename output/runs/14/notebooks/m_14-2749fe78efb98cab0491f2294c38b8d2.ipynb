{
 "cells": [
  {
   "cell_type": "code",
   "execution_count": 1,
   "id": "f159f837-637b-42ba-96b5-ec9a68c44524",
   "metadata": {
    "execution": {
     "iopub.execute_input": "2025-07-30T21:35:09.390764Z",
     "iopub.status.busy": "2025-07-30T21:35:09.390207Z",
     "iopub.status.idle": "2025-07-30T21:35:09.405763Z",
     "shell.execute_reply": "2025-07-30T21:35:09.404789Z"
    },
    "papermill": {
     "duration": 0.048021,
     "end_time": "2025-07-30T21:35:09.408272",
     "exception": false,
     "start_time": "2025-07-30T21:35:09.360251",
     "status": "completed"
    },
    "tags": []
   },
   "outputs": [
    {
     "name": "stdout",
     "output_type": "stream",
     "text": [
      "/dss/dsshome1/0C/ra93lal2/cma/CMA_Fairness_v2\n"
     ]
    },
    {
     "name": "stderr",
     "output_type": "stream",
     "text": [
      "/dss/dsshome1/0C/ra93lal2/.local/share/virtualenvs/CMA_Fairness_v2-3j10GkSs/lib/python3.10/site-packages/IPython/core/magics/osm.py:393: UserWarning: This is now an optional IPython functionality, using bookmarks requires you to install the `pickleshare` library.\n",
      "  bkms = self.shell.db.get('bookmarks', {})\n",
      "/dss/dsshome1/0C/ra93lal2/.local/share/virtualenvs/CMA_Fairness_v2-3j10GkSs/lib/python3.10/site-packages/IPython/core/magics/osm.py:417: UserWarning: This is now an optional IPython functionality, setting dhist requires you to install the `pickleshare` library.\n",
      "  self.shell.db['dhist'] = compress_dhist(dhist)[-100:]\n"
     ]
    }
   ],
   "source": [
    "%cd ~/cma/CMA_Fairness_v2"
   ]
  },
  {
   "cell_type": "markdown",
   "id": "de2603b9",
   "metadata": {
    "papermill": {
     "duration": 0.028841,
     "end_time": "2025-07-30T21:35:09.466206",
     "exception": false,
     "start_time": "2025-07-30T21:35:09.437365",
     "status": "completed"
    },
    "tags": []
   },
   "source": [
    "The following cell holds the definition of our parameters, these values can be overriden by rendering the with e.g. the following command:\n",
    "\n",
    "papermill -p alpha 0.2 -p ratio 0.3 universe_analysis.ipynb output/test_run.ipynb"
   ]
  },
  {
   "cell_type": "code",
   "execution_count": 2,
   "id": "a80968a0-40bb-4fa9-85ef-2d5eefb01975",
   "metadata": {
    "execution": {
     "iopub.execute_input": "2025-07-30T21:35:09.527730Z",
     "iopub.status.busy": "2025-07-30T21:35:09.527205Z",
     "iopub.status.idle": "2025-07-30T21:35:09.533057Z",
     "shell.execute_reply": "2025-07-30T21:35:09.532058Z"
    },
    "papermill": {
     "duration": 0.039716,
     "end_time": "2025-07-30T21:35:09.535467",
     "exception": false,
     "start_time": "2025-07-30T21:35:09.495751",
     "status": "completed"
    },
    "tags": []
   },
   "outputs": [
    {
     "name": "stdout",
     "output_type": "stream",
     "text": [
      "Current working directory: /dss/dsshome1/0C/ra93lal2/cma/CMA_Fairness_v2\n"
     ]
    }
   ],
   "source": [
    "import os\n",
    "print(\"Current working directory:\", os.getcwd())"
   ]
  },
  {
   "cell_type": "code",
   "execution_count": 3,
   "id": "2dce4c03",
   "metadata": {
    "execution": {
     "iopub.execute_input": "2025-07-30T21:35:09.596440Z",
     "iopub.status.busy": "2025-07-30T21:35:09.596066Z",
     "iopub.status.idle": "2025-07-30T21:35:09.603125Z",
     "shell.execute_reply": "2025-07-30T21:35:09.602023Z"
    },
    "papermill": {
     "duration": 0.040066,
     "end_time": "2025-07-30T21:35:09.605375",
     "exception": false,
     "start_time": "2025-07-30T21:35:09.565309",
     "status": "completed"
    },
    "tags": [
     "parameters"
    ]
   },
   "outputs": [],
   "source": [
    "run_no = 0\n",
    "universe_id = \"test\"\n",
    "universe = {\n",
    "    \"training_size\": \"25k\", # \"25k\", \"5k\", \"1k\"\n",
    "    \"training_year\": \"2014\", # \"2014\", \"2012_14\", \"2010_14\"\n",
    "    \"scale\": \"scale\", # \"scale\", \"do-not-scale\",\n",
    "    #\"stratify_split\": \"target\", # \"none\", \"target\", \"protected-attribute\", \"both\",\n",
    "    \"model\": \"elasticnet\", # \"logreg\", \"penalized_logreg\", \"rf\", \"gbm\", \"elasticnet\"\n",
    "    \"cutoff\": [\"quantile_0.15\", \"quantile_0.30\"],\n",
    "    \"exclude_features\": \"age\", # \"none\", \"nationality\", \"sex\", \"nationality-sex\", \"age\"\n",
    "    \"exclude_subgroups\": \"keep-all\", # \"keep-all\", \"drop-non-german\"\n",
    "    \"eval_fairness_grouping\": [\"majority-minority\", \"nationality-all\"]\n",
    "}\n",
    "\n",
    "output_dir=\"./output\"\n",
    "seed=0"
   ]
  },
  {
   "cell_type": "code",
   "execution_count": 4,
   "id": "c711e685",
   "metadata": {
    "execution": {
     "iopub.execute_input": "2025-07-30T21:35:09.665764Z",
     "iopub.status.busy": "2025-07-30T21:35:09.665355Z",
     "iopub.status.idle": "2025-07-30T21:35:09.670824Z",
     "shell.execute_reply": "2025-07-30T21:35:09.669646Z"
    },
    "papermill": {
     "duration": 0.038179,
     "end_time": "2025-07-30T21:35:09.673052",
     "exception": false,
     "start_time": "2025-07-30T21:35:09.634873",
     "status": "completed"
    },
    "tags": [
     "injected-parameters"
    ]
   },
   "outputs": [],
   "source": [
    "# Parameters\n",
    "universe_id = \"2749fe78efb98cab0491f2294c38b8d2\"\n",
    "run_no = \"14\"\n",
    "universe = \"{\\\"cutoff\\\": [\\\"quantile_0.1\\\", \\\"quantile_0.25\\\"], \\\"eval_fairness_grouping\\\": [\\\"majority-minority\\\", \\\"nationality-all\\\"], \\\"exclude_features\\\": \\\"sex\\\", \\\"exclude_subgroups\\\": \\\"keep-all\\\", \\\"model\\\": \\\"rf\\\", \\\"scale\\\": \\\"scale\\\", \\\"training_size\\\": \\\"1k\\\", \\\"training_year\\\": \\\"2012_14\\\"}\"\n",
    "output_dir = \"output\"\n",
    "seed = \"2023\"\n"
   ]
  },
  {
   "cell_type": "code",
   "execution_count": 5,
   "id": "1650acaf",
   "metadata": {
    "execution": {
     "iopub.execute_input": "2025-07-30T21:35:09.734311Z",
     "iopub.status.busy": "2025-07-30T21:35:09.733944Z",
     "iopub.status.idle": "2025-07-30T21:35:09.739841Z",
     "shell.execute_reply": "2025-07-30T21:35:09.738664Z"
    },
    "papermill": {
     "duration": 0.039219,
     "end_time": "2025-07-30T21:35:09.742252",
     "exception": false,
     "start_time": "2025-07-30T21:35:09.703033",
     "status": "completed"
    },
    "tags": []
   },
   "outputs": [],
   "source": [
    "import json\n",
    "# Parse universe into dict if it is passed as a string\n",
    "if isinstance(universe, str):\n",
    "    universe = json.loads(universe)"
   ]
  },
  {
   "cell_type": "code",
   "execution_count": 6,
   "id": "16620c48",
   "metadata": {
    "execution": {
     "iopub.execute_input": "2025-07-30T21:35:09.804058Z",
     "iopub.status.busy": "2025-07-30T21:35:09.803507Z",
     "iopub.status.idle": "2025-07-30T21:35:09.850459Z",
     "shell.execute_reply": "2025-07-30T21:35:09.849372Z"
    },
    "papermill": {
     "duration": 0.080566,
     "end_time": "2025-07-30T21:35:09.853139",
     "exception": false,
     "start_time": "2025-07-30T21:35:09.772573",
     "status": "completed"
    },
    "tags": []
   },
   "outputs": [],
   "source": [
    "# Auto-reload the custom package\n",
    "%load_ext autoreload\n",
    "%autoreload 1\n",
    "%aimport fairness_multiverse"
   ]
  },
  {
   "cell_type": "code",
   "execution_count": 7,
   "id": "01c5c9f3",
   "metadata": {
    "execution": {
     "iopub.execute_input": "2025-07-30T21:35:09.914401Z",
     "iopub.status.busy": "2025-07-30T21:35:09.913637Z",
     "iopub.status.idle": "2025-07-30T21:35:11.833264Z",
     "shell.execute_reply": "2025-07-30T21:35:11.832160Z"
    },
    "papermill": {
     "duration": 1.952282,
     "end_time": "2025-07-30T21:35:11.834774",
     "exception": false,
     "start_time": "2025-07-30T21:35:09.882492",
     "status": "completed"
    },
    "tags": []
   },
   "outputs": [],
   "source": [
    "from fairness_multiverse.universe import UniverseAnalysis\n",
    "\n",
    "universe_analysis = UniverseAnalysis(\n",
    "    run_no = run_no,\n",
    "    universe_id = universe_id,\n",
    "    universe = universe,\n",
    "    output_dir=output_dir,\n",
    ")"
   ]
  },
  {
   "cell_type": "code",
   "execution_count": 8,
   "id": "106241f5",
   "metadata": {
    "execution": {
     "iopub.execute_input": "2025-07-30T21:35:11.866314Z",
     "iopub.status.busy": "2025-07-30T21:35:11.865674Z",
     "iopub.status.idle": "2025-07-30T21:35:11.872663Z",
     "shell.execute_reply": "2025-07-30T21:35:11.871599Z"
    },
    "papermill": {
     "duration": 0.02634,
     "end_time": "2025-07-30T21:35:11.875324",
     "exception": false,
     "start_time": "2025-07-30T21:35:11.848984",
     "status": "completed"
    },
    "tags": []
   },
   "outputs": [
    {
     "name": "stdout",
     "output_type": "stream",
     "text": [
      "Using Seed: 2023\n"
     ]
    }
   ],
   "source": [
    "import numpy as np\n",
    "parsed_seed = int(seed)\n",
    "np.random.seed(parsed_seed)\n",
    "print(f\"Using Seed: {parsed_seed}\")"
   ]
  },
  {
   "cell_type": "markdown",
   "id": "e0ebdc57",
   "metadata": {
    "papermill": {
     "duration": 0.015438,
     "end_time": "2025-07-30T21:35:11.909951",
     "exception": false,
     "start_time": "2025-07-30T21:35:11.894513",
     "status": "completed"
    },
    "tags": []
   },
   "source": [
    "# Loading Data"
   ]
  },
  {
   "cell_type": "markdown",
   "id": "681925a3",
   "metadata": {
    "papermill": {
     "duration": 0.022083,
     "end_time": "2025-07-30T21:35:11.951755",
     "exception": false,
     "start_time": "2025-07-30T21:35:11.929672",
     "status": "completed"
    },
    "tags": []
   },
   "source": [
    "Load siab_train, siab_test, siab_calib and/or \n",
    "load siab_train_features, siab_train_labels"
   ]
  },
  {
   "cell_type": "code",
   "execution_count": 9,
   "id": "f0496b8a",
   "metadata": {
    "execution": {
     "iopub.execute_input": "2025-07-30T21:35:11.988608Z",
     "iopub.status.busy": "2025-07-30T21:35:11.988086Z",
     "iopub.status.idle": "2025-07-30T21:35:24.409588Z",
     "shell.execute_reply": "2025-07-30T21:35:24.408182Z"
    },
    "papermill": {
     "duration": 12.438056,
     "end_time": "2025-07-30T21:35:24.411295",
     "exception": false,
     "start_time": "2025-07-30T21:35:11.973239",
     "status": "completed"
    },
    "tags": []
   },
   "outputs": [
    {
     "name": "stdout",
     "output_type": "stream",
     "text": [
      "Loading SIAB data from cache: data/siab_cached.csv.gz\n"
     ]
    },
    {
     "name": "stdout",
     "output_type": "stream",
     "text": [
      "(643690, 164)\n"
     ]
    }
   ],
   "source": [
    "from pathlib import Path\n",
    "import pandas as pd\n",
    "\n",
    "# File paths\n",
    "raw_file = Path(\"data/raw/siab.csv\")\n",
    "cache_file = Path(\"data/siab_cached.csv.gz\")\n",
    "\n",
    "# Ensure cache directory exists\n",
    "cache_file.parent.mkdir(parents=True, exist_ok=True)\n",
    "\n",
    "# Load with simple caching\n",
    "if cache_file.exists():\n",
    "    print(f\"Loading SIAB data from cache: {cache_file}\")\n",
    "    siab = pd.read_csv(cache_file, compression='gzip')\n",
    "else:\n",
    "    print(f\"Cache not found. Reading raw SIAB data: {raw_file}\")\n",
    "    siab = pd.read_csv(raw_file)\n",
    "    siab.to_csv(cache_file, index=False, compression='gzip')\n",
    "    print(f\"Cached SIAB data to: {cache_file}\")\n",
    "\n",
    "# Now use `siab` DataFrame as needed\n",
    "print(siab.shape)"
   ]
  },
  {
   "cell_type": "code",
   "execution_count": 10,
   "id": "db0ca512-5f53-4dba-abdb-a2888bca41ba",
   "metadata": {
    "execution": {
     "iopub.execute_input": "2025-07-30T21:35:24.459049Z",
     "iopub.status.busy": "2025-07-30T21:35:24.458484Z",
     "iopub.status.idle": "2025-07-30T21:35:24.464666Z",
     "shell.execute_reply": "2025-07-30T21:35:24.463489Z"
    },
    "papermill": {
     "duration": 0.031599,
     "end_time": "2025-07-30T21:35:24.466394",
     "exception": false,
     "start_time": "2025-07-30T21:35:24.434795",
     "status": "completed"
    },
    "tags": []
   },
   "outputs": [],
   "source": [
    "#siab"
   ]
  },
  {
   "cell_type": "code",
   "execution_count": 11,
   "id": "a0edb063",
   "metadata": {
    "execution": {
     "iopub.execute_input": "2025-07-30T21:35:24.509946Z",
     "iopub.status.busy": "2025-07-30T21:35:24.509505Z",
     "iopub.status.idle": "2025-07-30T21:35:24.520013Z",
     "shell.execute_reply": "2025-07-30T21:35:24.518881Z"
    },
    "papermill": {
     "duration": 0.034623,
     "end_time": "2025-07-30T21:35:24.522259",
     "exception": false,
     "start_time": "2025-07-30T21:35:24.487636",
     "status": "completed"
    },
    "tags": []
   },
   "outputs": [],
   "source": [
    "#import pandas as pd\n",
    "#\n",
    "#X_train = pd.read_csv(\"./data/X_train.csv\")\n",
    "#y_train = pd.read_csv(\"./data/y_train.csv\")"
   ]
  },
  {
   "cell_type": "code",
   "execution_count": 12,
   "id": "63d08085",
   "metadata": {
    "execution": {
     "iopub.execute_input": "2025-07-30T21:35:24.566664Z",
     "iopub.status.busy": "2025-07-30T21:35:24.566161Z",
     "iopub.status.idle": "2025-07-30T21:35:24.571716Z",
     "shell.execute_reply": "2025-07-30T21:35:24.570578Z"
    },
    "papermill": {
     "duration": 0.029941,
     "end_time": "2025-07-30T21:35:24.574740",
     "exception": false,
     "start_time": "2025-07-30T21:35:24.544799",
     "status": "completed"
    },
    "tags": []
   },
   "outputs": [],
   "source": [
    "#X_test = pd.read_csv(\"./data/X_test.csv\")\n",
    "#y_true = pd.read_csv(\"./data/y_test.csv\")"
   ]
  },
  {
   "cell_type": "code",
   "execution_count": 13,
   "id": "98a8d0fa-1d3d-4ed8-bb2c-281470e24add",
   "metadata": {
    "execution": {
     "iopub.execute_input": "2025-07-30T21:35:24.619618Z",
     "iopub.status.busy": "2025-07-30T21:35:24.619130Z",
     "iopub.status.idle": "2025-07-30T21:35:24.624163Z",
     "shell.execute_reply": "2025-07-30T21:35:24.623150Z"
    },
    "papermill": {
     "duration": 0.029538,
     "end_time": "2025-07-30T21:35:24.626597",
     "exception": false,
     "start_time": "2025-07-30T21:35:24.597059",
     "status": "completed"
    },
    "tags": []
   },
   "outputs": [],
   "source": [
    "# Calibration data for conformal\n",
    "#X_calib = pd.read_csv(\"./data/X_calib.csv\")\n",
    "#y_calib = pd.read_csv(\"./data/y_calib.csv\")"
   ]
  },
  {
   "cell_type": "markdown",
   "id": "997051c5-15bd-4b69-9786-c3001a3ce484",
   "metadata": {
    "papermill": {
     "duration": 0.02159,
     "end_time": "2025-07-30T21:35:24.683478",
     "exception": false,
     "start_time": "2025-07-30T21:35:24.661888",
     "status": "completed"
    },
    "tags": []
   },
   "source": [
    "# Splitting Data and Setting Training Data Size"
   ]
  },
  {
   "cell_type": "code",
   "execution_count": 14,
   "id": "e993b61f-042d-41a6-8c81-f55681f86335",
   "metadata": {
    "execution": {
     "iopub.execute_input": "2025-07-30T21:35:24.744982Z",
     "iopub.status.busy": "2025-07-30T21:35:24.744578Z",
     "iopub.status.idle": "2025-07-30T21:35:24.757088Z",
     "shell.execute_reply": "2025-07-30T21:35:24.756084Z"
    },
    "papermill": {
     "duration": 0.051232,
     "end_time": "2025-07-30T21:35:24.758634",
     "exception": false,
     "start_time": "2025-07-30T21:35:24.707402",
     "status": "completed"
    },
    "tags": []
   },
   "outputs": [],
   "source": [
    "def sample_by_year_size(df,\n",
    "                        training_year: str,\n",
    "                        training_size: str,\n",
    "                        random_state: int = 42):\n",
    "    # --- parse training_year into a list of int years ---\n",
    "    if \"_\" in training_year:\n",
    "        start_str, end_str = training_year.split(\"_\", 1)\n",
    "        start = int(start_str)\n",
    "        end   = int(end_str) if len(end_str) == 4 else (int(end_str) + (start // 100)*100)\n",
    "        years = list(range(start, end + 1))\n",
    "    else:\n",
    "        years = [int(training_year)]\n",
    "\n",
    "    df = df[df[\"year\"].isin(years)].reset_index(drop=True)\n",
    "\n",
    "    # --- map training_size to total number of samples ---\n",
    "    total_map = {\"25k\": 25_000, \"5k\": 5_000, \"1k\": 1_000}\n",
    "    if training_size not in total_map:\n",
    "        return df  # e.g. \"all\"\n",
    "\n",
    "    total_samples = total_map[training_size]\n",
    "    n_years       = len(years)\n",
    "    base          = total_samples // n_years\n",
    "    remainder     = total_samples % n_years\n",
    "\n",
    "    # --- build a dict: year -> how many to sample ---\n",
    "    # give +1 to the first `remainder` years in ascending order\n",
    "    quotas = {\n",
    "        year: base + (1 if idx < remainder else 0)\n",
    "        for idx, year in enumerate(sorted(years))\n",
    "    }\n",
    "\n",
    "    # --- sample per‐year according to the quota dict ---\n",
    "    sampled = (\n",
    "        df\n",
    "        .groupby(\"year\", group_keys=False)\n",
    "        .apply(lambda grp: grp.sample(\n",
    "            n=min(len(grp), quotas[grp.name]),\n",
    "            random_state=random_state))\n",
    "        .reset_index(drop=True)\n",
    "    )\n",
    "\n",
    "    return sampled"
   ]
  },
  {
   "cell_type": "code",
   "execution_count": 15,
   "id": "c0ccd338-0e02-41f3-a09d-f56f9266e3fb",
   "metadata": {
    "execution": {
     "iopub.execute_input": "2025-07-30T21:35:24.830535Z",
     "iopub.status.busy": "2025-07-30T21:35:24.830150Z",
     "iopub.status.idle": "2025-07-30T21:35:24.835275Z",
     "shell.execute_reply": "2025-07-30T21:35:24.834286Z"
    },
    "papermill": {
     "duration": 0.072613,
     "end_time": "2025-07-30T21:35:24.856538",
     "exception": false,
     "start_time": "2025-07-30T21:35:24.783925",
     "status": "completed"
    },
    "tags": []
   },
   "outputs": [],
   "source": [
    "#universe[\"training_size\"]"
   ]
  },
  {
   "cell_type": "code",
   "execution_count": 16,
   "id": "ca707fd7-8047-4acd-bfa5-66248fbbf8e6",
   "metadata": {
    "execution": {
     "iopub.execute_input": "2025-07-30T21:35:24.917154Z",
     "iopub.status.busy": "2025-07-30T21:35:24.916758Z",
     "iopub.status.idle": "2025-07-30T21:35:24.922578Z",
     "shell.execute_reply": "2025-07-30T21:35:24.921460Z"
    },
    "papermill": {
     "duration": 0.029588,
     "end_time": "2025-07-30T21:35:24.925880",
     "exception": false,
     "start_time": "2025-07-30T21:35:24.896292",
     "status": "completed"
    },
    "tags": []
   },
   "outputs": [],
   "source": [
    "#universe[\"training_year\"]"
   ]
  },
  {
   "cell_type": "code",
   "execution_count": 17,
   "id": "aea9c6ef-6f46-42c8-85eb-5a62025c1508",
   "metadata": {
    "execution": {
     "iopub.execute_input": "2025-07-30T21:35:24.976061Z",
     "iopub.status.busy": "2025-07-30T21:35:24.975591Z",
     "iopub.status.idle": "2025-07-30T21:35:25.633887Z",
     "shell.execute_reply": "2025-07-30T21:35:25.632956Z"
    },
    "papermill": {
     "duration": 0.686932,
     "end_time": "2025-07-30T21:35:25.635748",
     "exception": false,
     "start_time": "2025-07-30T21:35:24.948816",
     "status": "completed"
    },
    "tags": []
   },
   "outputs": [],
   "source": [
    "siab_train = sample_by_year_size(siab,\n",
    "                               training_year=universe[\"training_year\"],\n",
    "                               training_size=universe[\"training_size\"])"
   ]
  },
  {
   "cell_type": "code",
   "execution_count": 18,
   "id": "8d3afb32-789d-442c-8d5d-9f5aa8dd2eed",
   "metadata": {
    "execution": {
     "iopub.execute_input": "2025-07-30T21:35:25.685898Z",
     "iopub.status.busy": "2025-07-30T21:35:25.685510Z",
     "iopub.status.idle": "2025-07-30T21:35:25.690951Z",
     "shell.execute_reply": "2025-07-30T21:35:25.689932Z"
    },
    "papermill": {
     "duration": 0.03145,
     "end_time": "2025-07-30T21:35:25.693995",
     "exception": false,
     "start_time": "2025-07-30T21:35:25.662545",
     "status": "completed"
    },
    "tags": []
   },
   "outputs": [],
   "source": [
    "#siab_train.shape"
   ]
  },
  {
   "cell_type": "code",
   "execution_count": 19,
   "id": "d582db68-1a4c-47fb-84fc-08518dc1975a",
   "metadata": {
    "execution": {
     "iopub.execute_input": "2025-07-30T21:35:25.739703Z",
     "iopub.status.busy": "2025-07-30T21:35:25.739265Z",
     "iopub.status.idle": "2025-07-30T21:35:25.744606Z",
     "shell.execute_reply": "2025-07-30T21:35:25.743717Z"
    },
    "papermill": {
     "duration": 0.030831,
     "end_time": "2025-07-30T21:35:25.747170",
     "exception": false,
     "start_time": "2025-07-30T21:35:25.716339",
     "status": "completed"
    },
    "tags": []
   },
   "outputs": [],
   "source": [
    "#display(siab_train.groupby(\"year\").size())"
   ]
  },
  {
   "cell_type": "code",
   "execution_count": 20,
   "id": "a561edb4-d032-42cb-8256-22eac1111c64",
   "metadata": {
    "execution": {
     "iopub.execute_input": "2025-07-30T21:35:25.792283Z",
     "iopub.status.busy": "2025-07-30T21:35:25.791789Z",
     "iopub.status.idle": "2025-07-30T21:35:26.079547Z",
     "shell.execute_reply": "2025-07-30T21:35:26.078551Z"
    },
    "papermill": {
     "duration": 0.311298,
     "end_time": "2025-07-30T21:35:26.081113",
     "exception": false,
     "start_time": "2025-07-30T21:35:25.769815",
     "status": "completed"
    },
    "tags": []
   },
   "outputs": [],
   "source": [
    "#siab_train = siab_s[siab_s.year < 2015]\n",
    "siab_calib = siab[siab.year == 2015]\n",
    "siab_test = siab[siab.year == 2016]"
   ]
  },
  {
   "cell_type": "code",
   "execution_count": 21,
   "id": "472de16f-c3db-4916-846b-1f0de9cf1746",
   "metadata": {
    "execution": {
     "iopub.execute_input": "2025-07-30T21:35:26.124695Z",
     "iopub.status.busy": "2025-07-30T21:35:26.123796Z",
     "iopub.status.idle": "2025-07-30T21:35:26.131138Z",
     "shell.execute_reply": "2025-07-30T21:35:26.130438Z"
    },
    "papermill": {
     "duration": 0.032004,
     "end_time": "2025-07-30T21:35:26.132378",
     "exception": false,
     "start_time": "2025-07-30T21:35:26.100374",
     "status": "completed"
    },
    "tags": []
   },
   "outputs": [],
   "source": [
    "X_train = siab_train.iloc[:,4:164]\n",
    "y_train = siab_train.iloc[:, [3]]"
   ]
  },
  {
   "cell_type": "code",
   "execution_count": 22,
   "id": "828c96af-f43a-4ed6-ba47-8ac73a47d56c",
   "metadata": {
    "execution": {
     "iopub.execute_input": "2025-07-30T21:35:26.158444Z",
     "iopub.status.busy": "2025-07-30T21:35:26.157755Z",
     "iopub.status.idle": "2025-07-30T21:35:26.212835Z",
     "shell.execute_reply": "2025-07-30T21:35:26.211493Z"
    },
    "papermill": {
     "duration": 0.069746,
     "end_time": "2025-07-30T21:35:26.214695",
     "exception": false,
     "start_time": "2025-07-30T21:35:26.144949",
     "status": "completed"
    },
    "tags": []
   },
   "outputs": [],
   "source": [
    "X_calib = siab_calib.iloc[:,4:164]\n",
    "y_calib = siab_calib.iloc[:, [3]]"
   ]
  },
  {
   "cell_type": "code",
   "execution_count": 23,
   "id": "c34be9c3-6bd6-476e-acd3-845840e303be",
   "metadata": {
    "execution": {
     "iopub.execute_input": "2025-07-30T21:35:26.270400Z",
     "iopub.status.busy": "2025-07-30T21:35:26.269530Z",
     "iopub.status.idle": "2025-07-30T21:35:26.322582Z",
     "shell.execute_reply": "2025-07-30T21:35:26.321520Z"
    },
    "papermill": {
     "duration": 0.08191,
     "end_time": "2025-07-30T21:35:26.324638",
     "exception": false,
     "start_time": "2025-07-30T21:35:26.242728",
     "status": "completed"
    },
    "tags": []
   },
   "outputs": [],
   "source": [
    "X_test = siab_test.iloc[:,4:164]\n",
    "y_true = siab_test.iloc[:, [3]]"
   ]
  },
  {
   "cell_type": "markdown",
   "id": "9901737e-04df-44f0-9100-f5ad144ed040",
   "metadata": {
    "papermill": {
     "duration": 0.01993,
     "end_time": "2025-07-30T21:35:26.365873",
     "exception": false,
     "start_time": "2025-07-30T21:35:26.345943",
     "status": "completed"
    },
    "tags": []
   },
   "source": [
    "# Splitting Data and Setting Training Data Size OLD VERSION"
   ]
  },
  {
   "cell_type": "code",
   "execution_count": 24,
   "id": "acbc8f7d-8fc8-4e86-8c59-5dcb0f58384b",
   "metadata": {
    "execution": {
     "iopub.execute_input": "2025-07-30T21:35:26.407389Z",
     "iopub.status.busy": "2025-07-30T21:35:26.406871Z",
     "iopub.status.idle": "2025-07-30T21:35:26.412435Z",
     "shell.execute_reply": "2025-07-30T21:35:26.411448Z"
    },
    "papermill": {
     "duration": 0.028266,
     "end_time": "2025-07-30T21:35:26.414079",
     "exception": false,
     "start_time": "2025-07-30T21:35:26.385813",
     "status": "completed"
    },
    "tags": []
   },
   "outputs": [],
   "source": [
    "#def sample_by_year(df, training_size, random_state=42):\n",
    "#    if training_size == \"2014\":\n",
    "#        return df[df[\"year\"] == 2014].reset_index(drop=True)\n",
    "#    \n",
    "#    size_map = {\n",
    "#        \"25k\": 5000,\n",
    "#        \"5k\": 1000,\n",
    "#        \"1k\": 200\n",
    "#    }\n",
    "#\n",
    "#    if training_size not in size_map:\n",
    "#        return df.reset_index(drop=True)  # use all data\n",
    "#\n",
    "#    n_per_year = size_map[training_size]\n",
    "#    grouped = df.groupby(\"year\")\n",
    "#    sampled = grouped.apply(lambda x: x.sample(n=min(n_per_year, len(x)), random_state=random_state))\n",
    "#    return sampled.reset_index(drop=True)"
   ]
  },
  {
   "cell_type": "code",
   "execution_count": 25,
   "id": "6d931f52-beaf-43ff-9e78-9d44a448d54e",
   "metadata": {
    "execution": {
     "iopub.execute_input": "2025-07-30T21:35:26.458381Z",
     "iopub.status.busy": "2025-07-30T21:35:26.457533Z",
     "iopub.status.idle": "2025-07-30T21:35:26.462706Z",
     "shell.execute_reply": "2025-07-30T21:35:26.461729Z"
    },
    "papermill": {
     "duration": 0.028674,
     "end_time": "2025-07-30T21:35:26.464256",
     "exception": false,
     "start_time": "2025-07-30T21:35:26.435582",
     "status": "completed"
    },
    "tags": []
   },
   "outputs": [],
   "source": [
    "#siab_s = sample_by_year(siab, universe[\"training_size\"])"
   ]
  },
  {
   "cell_type": "code",
   "execution_count": 26,
   "id": "5db0a40e-a4e2-4920-be85-b12ae061d70d",
   "metadata": {
    "execution": {
     "iopub.execute_input": "2025-07-30T21:35:26.506865Z",
     "iopub.status.busy": "2025-07-30T21:35:26.506329Z",
     "iopub.status.idle": "2025-07-30T21:35:26.511311Z",
     "shell.execute_reply": "2025-07-30T21:35:26.510346Z"
    },
    "papermill": {
     "duration": 0.02812,
     "end_time": "2025-07-30T21:35:26.513013",
     "exception": false,
     "start_time": "2025-07-30T21:35:26.484893",
     "status": "completed"
    },
    "tags": []
   },
   "outputs": [],
   "source": [
    "#display(siab_s.groupby(\"year\").size())"
   ]
  },
  {
   "cell_type": "code",
   "execution_count": 27,
   "id": "e6c733c5",
   "metadata": {
    "execution": {
     "iopub.execute_input": "2025-07-30T21:35:26.557252Z",
     "iopub.status.busy": "2025-07-30T21:35:26.556417Z",
     "iopub.status.idle": "2025-07-30T21:35:26.648246Z",
     "shell.execute_reply": "2025-07-30T21:35:26.647224Z"
    },
    "papermill": {
     "duration": 0.116681,
     "end_time": "2025-07-30T21:35:26.650266",
     "exception": false,
     "start_time": "2025-07-30T21:35:26.533585",
     "status": "completed"
    },
    "tags": []
   },
   "outputs": [],
   "source": [
    "# Auxiliary data needed downstream in the pipeline\n",
    "\n",
    "org_train = X_train.copy()\n",
    "org_test = X_test.copy()\n",
    "org_calib = X_calib.copy()"
   ]
  },
  {
   "cell_type": "code",
   "execution_count": 28,
   "id": "1466abac-c6da-4492-a62f-4240ae3783af",
   "metadata": {
    "execution": {
     "iopub.execute_input": "2025-07-30T21:35:26.696022Z",
     "iopub.status.busy": "2025-07-30T21:35:26.695358Z",
     "iopub.status.idle": "2025-07-30T21:35:26.701644Z",
     "shell.execute_reply": "2025-07-30T21:35:26.700500Z"
    },
    "papermill": {
     "duration": 0.030423,
     "end_time": "2025-07-30T21:35:26.703318",
     "exception": false,
     "start_time": "2025-07-30T21:35:26.672895",
     "status": "completed"
    },
    "tags": []
   },
   "outputs": [],
   "source": [
    "# put in other script?\n",
    "# Group sizes\n",
    "\n",
    "#def calculate_percentages(df, df_name):\n",
    "#    total_entries = len(df)\n",
    "#\n",
    "#    female_pct = (df['frau1'] == 1).mean() * 100\n",
    "#    non_german_pct = ((df['maxdeutsch1'] == 0) & (df['maxdeutsch.Missing.'] == 0)).mean() * 100\n",
    "#    non_german_male_pct = ((df['frau1'] == 0) & (df['maxdeutsch1'] == 0) & (df['maxdeutsch.Missing.'] == 0)).mean() * 100\n",
    "#    non_german_female_pct = ((df['frau1'] == 1) & (df['maxdeutsch1'] == 0) & (df['maxdeutsch.Missing.'] == 0)).mean() * 100\n",
    "#\n",
    "#    print(f\"--- {df_name} ---\")\n",
    "#    print(f\"Female: {female_pct:.2f}%\")\n",
    "#    print(f\"Non-German: {non_german_pct:.2f}%\")\n",
    "#    print(f\"Non-German Male: {non_german_male_pct:.2f}%\")\n",
    "#    print(f\"Non-German Female: {non_german_female_pct:.2f}%\\n\")\n",
    "#\n",
    "## Calculate for each DataFrame\n",
    "#calculate_percentages(siab_calib, \"siab_calib\")\n",
    "#calculate_percentages(siab_test, \"siab_test\")\n",
    "#calculate_percentages(siab_train, \"siab_train\")"
   ]
  },
  {
   "cell_type": "markdown",
   "id": "0a4a1b33",
   "metadata": {
    "papermill": {
     "duration": 0.021222,
     "end_time": "2025-07-30T21:35:26.747862",
     "exception": false,
     "start_time": "2025-07-30T21:35:26.726640",
     "status": "completed"
    },
    "tags": []
   },
   "source": [
    "# Preprocessing Data"
   ]
  },
  {
   "cell_type": "code",
   "execution_count": 29,
   "id": "ca879031",
   "metadata": {
    "execution": {
     "iopub.execute_input": "2025-07-30T21:35:26.793071Z",
     "iopub.status.busy": "2025-07-30T21:35:26.792568Z",
     "iopub.status.idle": "2025-07-30T21:35:26.798406Z",
     "shell.execute_reply": "2025-07-30T21:35:26.797534Z"
    },
    "papermill": {
     "duration": 0.030874,
     "end_time": "2025-07-30T21:35:26.799976",
     "exception": false,
     "start_time": "2025-07-30T21:35:26.769102",
     "status": "completed"
    },
    "tags": []
   },
   "outputs": [],
   "source": [
    "# EXCLUDE PROTECTED FEATURES\n",
    "# ----------------------\n",
    "# \"exclude_features\": \"none\", # \"nationality\", \"sex\", \"nationality-sex\"\n",
    "\n",
    "excluded_features = universe[\"exclude_features\"].split(\"-\") # split, e.g.: \"nationality-sex\" -> [\"nationality\", \"sex\"]\n",
    "excluded_features_dictionary = {\n",
    "    \"nationality\": [\"maxdeutsch1\", \"maxdeutsch.Missing.\"],\n",
    "    \"sex\": [\"frau1\"],\n",
    "    \"age\": [\"age\"],\n",
    "}\n"
   ]
  },
  {
   "cell_type": "code",
   "execution_count": 30,
   "id": "b745ac60",
   "metadata": {
    "execution": {
     "iopub.execute_input": "2025-07-30T21:35:26.840201Z",
     "iopub.status.busy": "2025-07-30T21:35:26.839837Z",
     "iopub.status.idle": "2025-07-30T21:35:26.844732Z",
     "shell.execute_reply": "2025-07-30T21:35:26.843989Z"
    },
    "papermill": {
     "duration": 0.022917,
     "end_time": "2025-07-30T21:35:26.845987",
     "exception": false,
     "start_time": "2025-07-30T21:35:26.823070",
     "status": "completed"
    },
    "tags": []
   },
   "outputs": [],
   "source": [
    "# Code nice names to column names\n",
    "\n",
    "excluded_features_columns = [\n",
    "    excluded_features_dictionary[f] for f in excluded_features if len(f) > 0 and f != \"none\"\n",
    "]"
   ]
  },
  {
   "cell_type": "code",
   "execution_count": 31,
   "id": "f84f73a2",
   "metadata": {
    "execution": {
     "iopub.execute_input": "2025-07-30T21:35:26.870176Z",
     "iopub.status.busy": "2025-07-30T21:35:26.869877Z",
     "iopub.status.idle": "2025-07-30T21:35:26.875171Z",
     "shell.execute_reply": "2025-07-30T21:35:26.874461Z"
    },
    "papermill": {
     "duration": 0.018314,
     "end_time": "2025-07-30T21:35:26.876480",
     "exception": false,
     "start_time": "2025-07-30T21:35:26.858166",
     "status": "completed"
    },
    "tags": []
   },
   "outputs": [],
   "source": [
    "from utils import flatten_once\n",
    "\n",
    "excluded_features_columns = flatten_once(excluded_features_columns)"
   ]
  },
  {
   "cell_type": "code",
   "execution_count": 32,
   "id": "884dea22",
   "metadata": {
    "execution": {
     "iopub.execute_input": "2025-07-30T21:35:26.900331Z",
     "iopub.status.busy": "2025-07-30T21:35:26.899709Z",
     "iopub.status.idle": "2025-07-30T21:35:26.906255Z",
     "shell.execute_reply": "2025-07-30T21:35:26.905436Z"
    },
    "papermill": {
     "duration": 0.01947,
     "end_time": "2025-07-30T21:35:26.907580",
     "exception": false,
     "start_time": "2025-07-30T21:35:26.888110",
     "status": "completed"
    },
    "tags": []
   },
   "outputs": [
    {
     "name": "stdout",
     "output_type": "stream",
     "text": [
      "Dropping features: ['frau1']\n"
     ]
    }
   ],
   "source": [
    "if len(excluded_features_columns) > 0:\n",
    "    print(f\"Dropping features: {excluded_features_columns}\")\n",
    "    X_train.drop(excluded_features_columns, axis=1, inplace=True)"
   ]
  },
  {
   "cell_type": "code",
   "execution_count": 33,
   "id": "95ab8b16",
   "metadata": {
    "execution": {
     "iopub.execute_input": "2025-07-30T21:35:26.932339Z",
     "iopub.status.busy": "2025-07-30T21:35:26.931684Z",
     "iopub.status.idle": "2025-07-30T21:35:26.980434Z",
     "shell.execute_reply": "2025-07-30T21:35:26.979634Z"
    },
    "papermill": {
     "duration": 0.062102,
     "end_time": "2025-07-30T21:35:26.981824",
     "exception": false,
     "start_time": "2025-07-30T21:35:26.919722",
     "status": "completed"
    },
    "tags": []
   },
   "outputs": [
    {
     "name": "stdout",
     "output_type": "stream",
     "text": [
      "Dropping features: ['frau1']\n"
     ]
    }
   ],
   "source": [
    "if len(excluded_features_columns) > 0:\n",
    "    print(f\"Dropping features: {excluded_features_columns}\")\n",
    "    X_test.drop(excluded_features_columns, axis=1, inplace=True)"
   ]
  },
  {
   "cell_type": "code",
   "execution_count": 34,
   "id": "1853aaf5-fb9f-46cb-a2b5-8ea4ae2237e4",
   "metadata": {
    "execution": {
     "iopub.execute_input": "2025-07-30T21:35:27.007171Z",
     "iopub.status.busy": "2025-07-30T21:35:27.006498Z",
     "iopub.status.idle": "2025-07-30T21:35:27.053070Z",
     "shell.execute_reply": "2025-07-30T21:35:27.052081Z"
    },
    "papermill": {
     "duration": 0.060359,
     "end_time": "2025-07-30T21:35:27.054662",
     "exception": false,
     "start_time": "2025-07-30T21:35:26.994303",
     "status": "completed"
    },
    "tags": []
   },
   "outputs": [
    {
     "name": "stdout",
     "output_type": "stream",
     "text": [
      "Dropping features: ['frau1']\n"
     ]
    }
   ],
   "source": [
    "if len(excluded_features_columns) > 0:\n",
    "    print(f\"Dropping features: {excluded_features_columns}\")\n",
    "    X_calib.drop(excluded_features_columns, axis=1, inplace=True)"
   ]
  },
  {
   "cell_type": "code",
   "execution_count": 35,
   "id": "6727d079-03e5-481e-9d38-292a90b7a0a8",
   "metadata": {
    "execution": {
     "iopub.execute_input": "2025-07-30T21:35:27.080876Z",
     "iopub.status.busy": "2025-07-30T21:35:27.080225Z",
     "iopub.status.idle": "2025-07-30T21:35:27.084716Z",
     "shell.execute_reply": "2025-07-30T21:35:27.083888Z"
    },
    "papermill": {
     "duration": 0.018039,
     "end_time": "2025-07-30T21:35:27.086027",
     "exception": false,
     "start_time": "2025-07-30T21:35:27.067988",
     "status": "completed"
    },
    "tags": []
   },
   "outputs": [],
   "source": [
    "# SPLIT & STRATIFY DATA\n",
    "# ----------------------"
   ]
  },
  {
   "cell_type": "code",
   "execution_count": 36,
   "id": "76c4dc6d",
   "metadata": {
    "execution": {
     "iopub.execute_input": "2025-07-30T21:35:27.111368Z",
     "iopub.status.busy": "2025-07-30T21:35:27.110877Z",
     "iopub.status.idle": "2025-07-30T21:35:27.115967Z",
     "shell.execute_reply": "2025-07-30T21:35:27.115172Z"
    },
    "papermill": {
     "duration": 0.01896,
     "end_time": "2025-07-30T21:35:27.117309",
     "exception": false,
     "start_time": "2025-07-30T21:35:27.098349",
     "status": "completed"
    },
    "tags": []
   },
   "outputs": [],
   "source": [
    "# EXCLUDE CERTAIN SUBGROUPS\n",
    "# ----------------------\n",
    "\n",
    "mode = universe.get(\"exclude_subgroups\", \"keep-all\") \n",
    "# Fetches the exclude_subgroups setting from the universe dict.\n",
    "# Defaults to \"keep-all\" if the key is missing."
   ]
  },
  {
   "cell_type": "code",
   "execution_count": 37,
   "id": "21994072",
   "metadata": {
    "execution": {
     "iopub.execute_input": "2025-07-30T21:35:27.143812Z",
     "iopub.status.busy": "2025-07-30T21:35:27.143311Z",
     "iopub.status.idle": "2025-07-30T21:35:27.148778Z",
     "shell.execute_reply": "2025-07-30T21:35:27.147975Z"
    },
    "papermill": {
     "duration": 0.019939,
     "end_time": "2025-07-30T21:35:27.150848",
     "exception": false,
     "start_time": "2025-07-30T21:35:27.130909",
     "status": "completed"
    },
    "tags": []
   },
   "outputs": [],
   "source": [
    "if mode == \"keep-all\":\n",
    "    keep_mask = pd.Series(True, index=org_train.index)\n",
    "\n",
    "# org_train contains the original feature columns from features_org (in Simson)\n",
    "# features_org contains unprocessed features, for me X_train at beginning ???\n",
    "# For keep-all, creates a boolean Series (keep_mask) of all True, so no rows are removed.\n",
    "\n",
    "elif mode == \"drop-non-german\":\n",
    "    keep_mask = org_train[\"maxdeutsch1\"] == 1 # ??? what about missing values?\n",
    "\n",
    "else:\n",
    "    raise ValueError(f\"Unsupported mode for exclude_subgroups: {mode}\")\n"
   ]
  },
  {
   "cell_type": "code",
   "execution_count": 38,
   "id": "71651440",
   "metadata": {
    "execution": {
     "iopub.execute_input": "2025-07-30T21:35:27.199457Z",
     "iopub.status.busy": "2025-07-30T21:35:27.198994Z",
     "iopub.status.idle": "2025-07-30T21:35:27.205464Z",
     "shell.execute_reply": "2025-07-30T21:35:27.204304Z"
    },
    "papermill": {
     "duration": 0.032815,
     "end_time": "2025-07-30T21:35:27.207532",
     "exception": false,
     "start_time": "2025-07-30T21:35:27.174717",
     "status": "completed"
    },
    "tags": []
   },
   "outputs": [],
   "source": [
    "n_drop = (~keep_mask).sum() # Calculates how many rows are set to be dropped\n",
    "if n_drop > 0:\n",
    "    pct = n_drop / len(keep_mask) * 100\n",
    "    print(f\"Dropping {n_drop} rows ({pct:.2f}%) where mode='{mode}'\")"
   ]
  },
  {
   "cell_type": "code",
   "execution_count": 39,
   "id": "5fb8eee5",
   "metadata": {
    "execution": {
     "iopub.execute_input": "2025-07-30T21:35:27.255969Z",
     "iopub.status.busy": "2025-07-30T21:35:27.255521Z",
     "iopub.status.idle": "2025-07-30T21:35:27.261608Z",
     "shell.execute_reply": "2025-07-30T21:35:27.260735Z"
    },
    "papermill": {
     "duration": 0.031493,
     "end_time": "2025-07-30T21:35:27.263347",
     "exception": false,
     "start_time": "2025-07-30T21:35:27.231854",
     "status": "completed"
    },
    "tags": []
   },
   "outputs": [],
   "source": [
    "X_train = X_train[keep_mask]"
   ]
  },
  {
   "cell_type": "code",
   "execution_count": 40,
   "id": "b202bb3a",
   "metadata": {
    "execution": {
     "iopub.execute_input": "2025-07-30T21:35:27.310549Z",
     "iopub.status.busy": "2025-07-30T21:35:27.310073Z",
     "iopub.status.idle": "2025-07-30T21:35:27.316479Z",
     "shell.execute_reply": "2025-07-30T21:35:27.315432Z"
    },
    "papermill": {
     "duration": 0.030545,
     "end_time": "2025-07-30T21:35:27.318284",
     "exception": false,
     "start_time": "2025-07-30T21:35:27.287739",
     "status": "completed"
    },
    "tags": []
   },
   "outputs": [],
   "source": [
    "y_train = y_train[keep_mask]"
   ]
  },
  {
   "cell_type": "markdown",
   "id": "493e2ac3",
   "metadata": {
    "papermill": {
     "duration": 0.020792,
     "end_time": "2025-07-30T21:35:27.362719",
     "exception": false,
     "start_time": "2025-07-30T21:35:27.341927",
     "status": "completed"
    },
    "tags": []
   },
   "source": [
    "# Model Training"
   ]
  },
  {
   "cell_type": "code",
   "execution_count": 41,
   "id": "679e1268",
   "metadata": {
    "execution": {
     "iopub.execute_input": "2025-07-30T21:35:27.406775Z",
     "iopub.status.busy": "2025-07-30T21:35:27.406315Z",
     "iopub.status.idle": "2025-07-30T21:35:27.508657Z",
     "shell.execute_reply": "2025-07-30T21:35:27.507665Z"
    },
    "papermill": {
     "duration": 0.126759,
     "end_time": "2025-07-30T21:35:27.510495",
     "exception": false,
     "start_time": "2025-07-30T21:35:27.383736",
     "status": "completed"
    },
    "tags": []
   },
   "outputs": [],
   "source": [
    "from sklearn.linear_model import LogisticRegression\n",
    "from sklearn.ensemble import GradientBoostingClassifier, RandomForestClassifier\n",
    "\n",
    "if (universe[\"model\"] == \"logreg\"):\n",
    "    model = LogisticRegression() #penalty=\"none\") #, solver=\"newton-cg\", max_iter=1) # include random_state=19 ?\n",
    "elif (universe[\"model\"] == \"penalized_logreg\"):\n",
    "    model = LogisticRegression(penalty=\"l2\", C=1.0) #, solver=\"newton-cg\", max_iter=1)\n",
    "elif (universe[\"model\"] == \"rf\"):\n",
    "    model = RandomForestClassifier(n_estimators=100, n_jobs=-1)\n",
    "elif (universe[\"model\"] == \"gbm\"):\n",
    "    model = GradientBoostingClassifier()\n",
    "elif (universe[\"model\"] == \"elasticnet\"):\n",
    "    model = LogisticRegression(penalty = 'elasticnet', solver = 'saga', l1_ratio = 0.5, max_iter=5000) # which solver to use?\n",
    "else:\n",
    "    raise \"Unsupported universe.model\""
   ]
  },
  {
   "cell_type": "code",
   "execution_count": 42,
   "id": "0cc8f744",
   "metadata": {
    "execution": {
     "iopub.execute_input": "2025-07-30T21:35:27.557320Z",
     "iopub.status.busy": "2025-07-30T21:35:27.556460Z",
     "iopub.status.idle": "2025-07-30T21:35:27.562710Z",
     "shell.execute_reply": "2025-07-30T21:35:27.561774Z"
    },
    "papermill": {
     "duration": 0.030941,
     "end_time": "2025-07-30T21:35:27.564343",
     "exception": false,
     "start_time": "2025-07-30T21:35:27.533402",
     "status": "completed"
    },
    "tags": []
   },
   "outputs": [],
   "source": [
    "import numpy as np\n",
    "from sklearn.pipeline import Pipeline\n",
    "from sklearn.preprocessing import StandardScaler\n",
    "\n",
    "model = Pipeline([\n",
    "    #(\"continuous_processor\", continuous_processor),\n",
    "    #(\"categorical_preprocessor\", categorical_preprocessor),\n",
    "    (\"scale\", StandardScaler() if universe[\"scale\"] == \"scale\" else None), \n",
    "    (\"model\", model),\n",
    "])"
   ]
  },
  {
   "cell_type": "code",
   "execution_count": 43,
   "id": "9442c04d",
   "metadata": {
    "execution": {
     "iopub.execute_input": "2025-07-30T21:35:27.609777Z",
     "iopub.status.busy": "2025-07-30T21:35:27.609039Z",
     "iopub.status.idle": "2025-07-30T21:35:27.993289Z",
     "shell.execute_reply": "2025-07-30T21:35:27.992391Z"
    },
    "papermill": {
     "duration": 0.40823,
     "end_time": "2025-07-30T21:35:27.995080",
     "exception": false,
     "start_time": "2025-07-30T21:35:27.586850",
     "status": "completed"
    },
    "tags": []
   },
   "outputs": [
    {
     "data": {
      "text/html": [
       "<style>#sk-container-id-1 {color: black;background-color: white;}#sk-container-id-1 pre{padding: 0;}#sk-container-id-1 div.sk-toggleable {background-color: white;}#sk-container-id-1 label.sk-toggleable__label {cursor: pointer;display: block;width: 100%;margin-bottom: 0;padding: 0.3em;box-sizing: border-box;text-align: center;}#sk-container-id-1 label.sk-toggleable__label-arrow:before {content: \"▸\";float: left;margin-right: 0.25em;color: #696969;}#sk-container-id-1 label.sk-toggleable__label-arrow:hover:before {color: black;}#sk-container-id-1 div.sk-estimator:hover label.sk-toggleable__label-arrow:before {color: black;}#sk-container-id-1 div.sk-toggleable__content {max-height: 0;max-width: 0;overflow: hidden;text-align: left;background-color: #f0f8ff;}#sk-container-id-1 div.sk-toggleable__content pre {margin: 0.2em;color: black;border-radius: 0.25em;background-color: #f0f8ff;}#sk-container-id-1 input.sk-toggleable__control:checked~div.sk-toggleable__content {max-height: 200px;max-width: 100%;overflow: auto;}#sk-container-id-1 input.sk-toggleable__control:checked~label.sk-toggleable__label-arrow:before {content: \"▾\";}#sk-container-id-1 div.sk-estimator input.sk-toggleable__control:checked~label.sk-toggleable__label {background-color: #d4ebff;}#sk-container-id-1 div.sk-label input.sk-toggleable__control:checked~label.sk-toggleable__label {background-color: #d4ebff;}#sk-container-id-1 input.sk-hidden--visually {border: 0;clip: rect(1px 1px 1px 1px);clip: rect(1px, 1px, 1px, 1px);height: 1px;margin: -1px;overflow: hidden;padding: 0;position: absolute;width: 1px;}#sk-container-id-1 div.sk-estimator {font-family: monospace;background-color: #f0f8ff;border: 1px dotted black;border-radius: 0.25em;box-sizing: border-box;margin-bottom: 0.5em;}#sk-container-id-1 div.sk-estimator:hover {background-color: #d4ebff;}#sk-container-id-1 div.sk-parallel-item::after {content: \"\";width: 100%;border-bottom: 1px solid gray;flex-grow: 1;}#sk-container-id-1 div.sk-label:hover label.sk-toggleable__label {background-color: #d4ebff;}#sk-container-id-1 div.sk-serial::before {content: \"\";position: absolute;border-left: 1px solid gray;box-sizing: border-box;top: 0;bottom: 0;left: 50%;z-index: 0;}#sk-container-id-1 div.sk-serial {display: flex;flex-direction: column;align-items: center;background-color: white;padding-right: 0.2em;padding-left: 0.2em;position: relative;}#sk-container-id-1 div.sk-item {position: relative;z-index: 1;}#sk-container-id-1 div.sk-parallel {display: flex;align-items: stretch;justify-content: center;background-color: white;position: relative;}#sk-container-id-1 div.sk-item::before, #sk-container-id-1 div.sk-parallel-item::before {content: \"\";position: absolute;border-left: 1px solid gray;box-sizing: border-box;top: 0;bottom: 0;left: 50%;z-index: -1;}#sk-container-id-1 div.sk-parallel-item {display: flex;flex-direction: column;z-index: 1;position: relative;background-color: white;}#sk-container-id-1 div.sk-parallel-item:first-child::after {align-self: flex-end;width: 50%;}#sk-container-id-1 div.sk-parallel-item:last-child::after {align-self: flex-start;width: 50%;}#sk-container-id-1 div.sk-parallel-item:only-child::after {width: 0;}#sk-container-id-1 div.sk-dashed-wrapped {border: 1px dashed gray;margin: 0 0.4em 0.5em 0.4em;box-sizing: border-box;padding-bottom: 0.4em;background-color: white;}#sk-container-id-1 div.sk-label label {font-family: monospace;font-weight: bold;display: inline-block;line-height: 1.2em;}#sk-container-id-1 div.sk-label-container {text-align: center;}#sk-container-id-1 div.sk-container {/* jupyter's `normalize.less` sets `[hidden] { display: none; }` but bootstrap.min.css set `[hidden] { display: none !important; }` so we also need the `!important` here to be able to override the default hidden behavior on the sphinx rendered scikit-learn.org. See: https://github.com/scikit-learn/scikit-learn/issues/21755 */display: inline-block !important;position: relative;}#sk-container-id-1 div.sk-text-repr-fallback {display: none;}</style><div id=\"sk-container-id-1\" class=\"sk-top-container\"><div class=\"sk-text-repr-fallback\"><pre>Pipeline(steps=[(&#x27;scale&#x27;, StandardScaler()),\n",
       "                (&#x27;model&#x27;, RandomForestClassifier(n_jobs=-1))])</pre><b>In a Jupyter environment, please rerun this cell to show the HTML representation or trust the notebook. <br />On GitHub, the HTML representation is unable to render, please try loading this page with nbviewer.org.</b></div><div class=\"sk-container\" hidden><div class=\"sk-item sk-dashed-wrapped\"><div class=\"sk-label-container\"><div class=\"sk-label sk-toggleable\"><input class=\"sk-toggleable__control sk-hidden--visually\" id=\"sk-estimator-id-1\" type=\"checkbox\" ><label for=\"sk-estimator-id-1\" class=\"sk-toggleable__label sk-toggleable__label-arrow\">Pipeline</label><div class=\"sk-toggleable__content\"><pre>Pipeline(steps=[(&#x27;scale&#x27;, StandardScaler()),\n",
       "                (&#x27;model&#x27;, RandomForestClassifier(n_jobs=-1))])</pre></div></div></div><div class=\"sk-serial\"><div class=\"sk-item\"><div class=\"sk-estimator sk-toggleable\"><input class=\"sk-toggleable__control sk-hidden--visually\" id=\"sk-estimator-id-2\" type=\"checkbox\" ><label for=\"sk-estimator-id-2\" class=\"sk-toggleable__label sk-toggleable__label-arrow\">StandardScaler</label><div class=\"sk-toggleable__content\"><pre>StandardScaler()</pre></div></div></div><div class=\"sk-item\"><div class=\"sk-estimator sk-toggleable\"><input class=\"sk-toggleable__control sk-hidden--visually\" id=\"sk-estimator-id-3\" type=\"checkbox\" ><label for=\"sk-estimator-id-3\" class=\"sk-toggleable__label sk-toggleable__label-arrow\">RandomForestClassifier</label><div class=\"sk-toggleable__content\"><pre>RandomForestClassifier(n_jobs=-1)</pre></div></div></div></div></div></div></div>"
      ],
      "text/plain": [
       "Pipeline(steps=[('scale', StandardScaler()),\n",
       "                ('model', RandomForestClassifier(n_jobs=-1))])"
      ]
     },
     "execution_count": 43,
     "metadata": {},
     "output_type": "execute_result"
    }
   ],
   "source": [
    "model.fit(X_train, y_train.values.ravel())"
   ]
  },
  {
   "cell_type": "code",
   "execution_count": 44,
   "id": "af59f8c0",
   "metadata": {
    "execution": {
     "iopub.execute_input": "2025-07-30T21:35:28.045268Z",
     "iopub.status.busy": "2025-07-30T21:35:28.044670Z",
     "iopub.status.idle": "2025-07-30T21:35:28.049970Z",
     "shell.execute_reply": "2025-07-30T21:35:28.049043Z"
    },
    "papermill": {
     "duration": 0.031674,
     "end_time": "2025-07-30T21:35:28.051697",
     "exception": false,
     "start_time": "2025-07-30T21:35:28.020023",
     "status": "completed"
    },
    "tags": []
   },
   "outputs": [],
   "source": [
    "from fairness_multiverse.universe import predict_w_threshold"
   ]
  },
  {
   "cell_type": "code",
   "execution_count": 45,
   "id": "a7cf2e16",
   "metadata": {
    "execution": {
     "iopub.execute_input": "2025-07-30T21:35:28.105584Z",
     "iopub.status.busy": "2025-07-30T21:35:28.104899Z",
     "iopub.status.idle": "2025-07-30T21:35:29.008106Z",
     "shell.execute_reply": "2025-07-30T21:35:29.007391Z"
    },
    "papermill": {
     "duration": 0.931864,
     "end_time": "2025-07-30T21:35:29.009373",
     "exception": false,
     "start_time": "2025-07-30T21:35:28.077509",
     "status": "completed"
    },
    "tags": []
   },
   "outputs": [
    {
     "data": {
      "text/plain": [
       "0.8626685988184148"
      ]
     },
     "execution_count": 45,
     "metadata": {},
     "output_type": "execute_result"
    }
   ],
   "source": [
    "probs_test = model.predict_proba(X_test)\n",
    "\n",
    "'''\n",
    "Below code returns a boolean array (or binary 0/1 array depending on how it’s used) where each element \n",
    "is True if the probability of class 1 is greater than or equal to the threshold, and False otherwise.\n",
    "'''\n",
    "y_pred_default = predict_w_threshold(probs_test, 0.5)\n",
    "\n",
    "from sklearn.metrics import accuracy_score\n",
    "\n",
    "# Naive prediction\n",
    "accuracy_score(y_true = y_true, y_pred = y_pred_default)"
   ]
  },
  {
   "cell_type": "code",
   "execution_count": 46,
   "id": "081964c3",
   "metadata": {
    "execution": {
     "iopub.execute_input": "2025-07-30T21:35:29.036122Z",
     "iopub.status.busy": "2025-07-30T21:35:29.035592Z",
     "iopub.status.idle": "2025-07-30T21:35:29.895002Z",
     "shell.execute_reply": "2025-07-30T21:35:29.894213Z"
    },
    "papermill": {
     "duration": 0.874141,
     "end_time": "2025-07-30T21:35:29.896264",
     "exception": false,
     "start_time": "2025-07-30T21:35:29.022123",
     "status": "completed"
    },
    "tags": []
   },
   "outputs": [
    {
     "data": {
      "text/plain": [
       "array([0, 0, 0, ..., 0, 0, 0])"
      ]
     },
     "execution_count": 46,
     "metadata": {},
     "output_type": "execute_result"
    }
   ],
   "source": [
    "model.predict(X_test)"
   ]
  },
  {
   "cell_type": "markdown",
   "id": "56c9705b",
   "metadata": {
    "papermill": {
     "duration": 0.012096,
     "end_time": "2025-07-30T21:35:29.921021",
     "exception": false,
     "start_time": "2025-07-30T21:35:29.908925",
     "status": "completed"
    },
    "tags": []
   },
   "source": [
    "# Conformal Prediction"
   ]
  },
  {
   "cell_type": "code",
   "execution_count": 47,
   "id": "160ec6ff",
   "metadata": {
    "execution": {
     "iopub.execute_input": "2025-07-30T21:35:29.950130Z",
     "iopub.status.busy": "2025-07-30T21:35:29.949475Z",
     "iopub.status.idle": "2025-07-30T21:35:29.954095Z",
     "shell.execute_reply": "2025-07-30T21:35:29.953309Z"
    },
    "papermill": {
     "duration": 0.01897,
     "end_time": "2025-07-30T21:35:29.955457",
     "exception": false,
     "start_time": "2025-07-30T21:35:29.936487",
     "status": "completed"
    },
    "tags": []
   },
   "outputs": [],
   "source": [
    "# Miscoverage level for conformal prediction (10% allowed error rate => 90% target coverage)\n",
    "alpha = 0.1"
   ]
  },
  {
   "cell_type": "code",
   "execution_count": 48,
   "id": "eadf4555-3dd3-440e-8e35-f82a4ad9f855",
   "metadata": {
    "execution": {
     "iopub.execute_input": "2025-07-30T21:35:29.985359Z",
     "iopub.status.busy": "2025-07-30T21:35:29.984777Z",
     "iopub.status.idle": "2025-07-30T21:35:30.841712Z",
     "shell.execute_reply": "2025-07-30T21:35:30.840964Z"
    },
    "papermill": {
     "duration": 0.874417,
     "end_time": "2025-07-30T21:35:30.843143",
     "exception": false,
     "start_time": "2025-07-30T21:35:29.968726",
     "status": "completed"
    },
    "tags": []
   },
   "outputs": [],
   "source": [
    "probs_calib = model.predict_proba(X_calib)"
   ]
  },
  {
   "cell_type": "code",
   "execution_count": 49,
   "id": "2ed93547-6d5d-4983-9b36-1ecb300da49a",
   "metadata": {
    "execution": {
     "iopub.execute_input": "2025-07-30T21:35:30.874533Z",
     "iopub.status.busy": "2025-07-30T21:35:30.874239Z",
     "iopub.status.idle": "2025-07-30T21:35:30.879425Z",
     "shell.execute_reply": "2025-07-30T21:35:30.878534Z"
    },
    "papermill": {
     "duration": 0.022405,
     "end_time": "2025-07-30T21:35:30.880759",
     "exception": false,
     "start_time": "2025-07-30T21:35:30.858354",
     "status": "completed"
    },
    "tags": []
   },
   "outputs": [],
   "source": [
    "y_calib = y_calib.values.ravel().astype(int)"
   ]
  },
  {
   "cell_type": "code",
   "execution_count": 50,
   "id": "65d1320d-f588-4b38-9072-62af1ae97f7d",
   "metadata": {
    "execution": {
     "iopub.execute_input": "2025-07-30T21:35:30.908884Z",
     "iopub.status.busy": "2025-07-30T21:35:30.908584Z",
     "iopub.status.idle": "2025-07-30T21:35:30.914381Z",
     "shell.execute_reply": "2025-07-30T21:35:30.913706Z"
    },
    "papermill": {
     "duration": 0.020923,
     "end_time": "2025-07-30T21:35:30.915589",
     "exception": false,
     "start_time": "2025-07-30T21:35:30.894666",
     "status": "completed"
    },
    "tags": []
   },
   "outputs": [],
   "source": [
    "from fairness_multiverse.conformal import compute_nc_scores\n",
    "\n",
    "# Compute nonconformity scores on calibration set (1 - probability of true class)\n",
    "nc_scores = compute_nc_scores(probs_calib, y_calib)"
   ]
  },
  {
   "cell_type": "code",
   "execution_count": 51,
   "id": "df3b8ca3-53b7-43d5-9667-7c85da7aeda2",
   "metadata": {
    "execution": {
     "iopub.execute_input": "2025-07-30T21:35:30.950111Z",
     "iopub.status.busy": "2025-07-30T21:35:30.949579Z",
     "iopub.status.idle": "2025-07-30T21:35:30.955135Z",
     "shell.execute_reply": "2025-07-30T21:35:30.954435Z"
    },
    "papermill": {
     "duration": 0.026906,
     "end_time": "2025-07-30T21:35:30.956474",
     "exception": false,
     "start_time": "2025-07-30T21:35:30.929568",
     "status": "completed"
    },
    "tags": []
   },
   "outputs": [],
   "source": [
    "from fairness_multiverse.conformal import find_threshold\n",
    "\n",
    "# Find conformal threshold q_hat for the given alpha (split conformal method)\n",
    "q_hat = find_threshold(nc_scores, alpha)"
   ]
  },
  {
   "cell_type": "code",
   "execution_count": 52,
   "id": "4d29e6c1-0ef6-4aa4-b8fe-4fe79b0d033a",
   "metadata": {
    "execution": {
     "iopub.execute_input": "2025-07-30T21:35:30.983740Z",
     "iopub.status.busy": "2025-07-30T21:35:30.983242Z",
     "iopub.status.idle": "2025-07-30T21:35:30.989656Z",
     "shell.execute_reply": "2025-07-30T21:35:30.988957Z"
    },
    "papermill": {
     "duration": 0.020999,
     "end_time": "2025-07-30T21:35:30.990877",
     "exception": false,
     "start_time": "2025-07-30T21:35:30.969878",
     "status": "completed"
    },
    "tags": []
   },
   "outputs": [
    {
     "data": {
      "text/plain": [
       "0.6699999999999999"
      ]
     },
     "execution_count": 52,
     "metadata": {},
     "output_type": "execute_result"
    }
   ],
   "source": [
    "q_hat"
   ]
  },
  {
   "cell_type": "code",
   "execution_count": 53,
   "id": "92460794-cdac-4be2-ba28-f28c0515a6fb",
   "metadata": {
    "execution": {
     "iopub.execute_input": "2025-07-30T21:35:31.050623Z",
     "iopub.status.busy": "2025-07-30T21:35:31.050111Z",
     "iopub.status.idle": "2025-07-30T21:35:32.626113Z",
     "shell.execute_reply": "2025-07-30T21:35:32.624428Z"
    },
    "papermill": {
     "duration": 1.611503,
     "end_time": "2025-07-30T21:35:32.628226",
     "exception": false,
     "start_time": "2025-07-30T21:35:31.016723",
     "status": "completed"
    },
    "tags": []
   },
   "outputs": [],
   "source": [
    "from fairness_multiverse.conformal import predict_conformal_sets\n",
    "\n",
    "# Generate prediction sets for each test example\n",
    "pred_sets = predict_conformal_sets(model, X_test, q_hat)"
   ]
  },
  {
   "cell_type": "code",
   "execution_count": 54,
   "id": "d90c9a65-e6db-4f5d-80cd-e68fb7e46829",
   "metadata": {
    "execution": {
     "iopub.execute_input": "2025-07-30T21:35:32.682438Z",
     "iopub.status.busy": "2025-07-30T21:35:32.680563Z",
     "iopub.status.idle": "2025-07-30T21:35:32.687896Z",
     "shell.execute_reply": "2025-07-30T21:35:32.686993Z"
    },
    "papermill": {
     "duration": 0.034547,
     "end_time": "2025-07-30T21:35:32.689524",
     "exception": false,
     "start_time": "2025-07-30T21:35:32.654977",
     "status": "completed"
    },
    "tags": []
   },
   "outputs": [],
   "source": [
    "y_true = y_true.squeeze()"
   ]
  },
  {
   "cell_type": "code",
   "execution_count": 55,
   "id": "3a58a54a-1e68-46b9-927a-df01f18aebc8",
   "metadata": {
    "execution": {
     "iopub.execute_input": "2025-07-30T21:35:32.737568Z",
     "iopub.status.busy": "2025-07-30T21:35:32.736703Z",
     "iopub.status.idle": "2025-07-30T21:35:33.654046Z",
     "shell.execute_reply": "2025-07-30T21:35:33.653098Z"
    },
    "papermill": {
     "duration": 0.943013,
     "end_time": "2025-07-30T21:35:33.655926",
     "exception": false,
     "start_time": "2025-07-30T21:35:32.712913",
     "status": "completed"
    },
    "tags": []
   },
   "outputs": [],
   "source": [
    "from fairness_multiverse.conformal import evaluate_sets\n",
    "\n",
    "# Evaluate coverage and average set size on test data\n",
    "metrics = evaluate_sets(pred_sets, y_true)"
   ]
  },
  {
   "cell_type": "markdown",
   "id": "2b569c12-9aaa-4c88-98c9-bbcd0cf3ebb8",
   "metadata": {
    "papermill": {
     "duration": 0.024297,
     "end_time": "2025-07-30T21:35:33.704651",
     "exception": false,
     "start_time": "2025-07-30T21:35:33.680354",
     "status": "completed"
    },
    "tags": []
   },
   "source": [
    "# CP Metrics"
   ]
  },
  {
   "cell_type": "code",
   "execution_count": 56,
   "id": "5ce0a5cb-201f-45a0-ade5-94c7f0bd6095",
   "metadata": {
    "execution": {
     "iopub.execute_input": "2025-07-30T21:35:33.755206Z",
     "iopub.status.busy": "2025-07-30T21:35:33.754777Z",
     "iopub.status.idle": "2025-07-30T21:35:33.762884Z",
     "shell.execute_reply": "2025-07-30T21:35:33.761845Z"
    },
    "papermill": {
     "duration": 0.038242,
     "end_time": "2025-07-30T21:35:33.767319",
     "exception": false,
     "start_time": "2025-07-30T21:35:33.729077",
     "status": "completed"
    },
    "tags": []
   },
   "outputs": [
    {
     "data": {
      "text/plain": [
       "{'coverage': 0.9161520454798796, 'avg_size': 1.1550997659123843}"
      ]
     },
     "execution_count": 56,
     "metadata": {},
     "output_type": "execute_result"
    }
   ],
   "source": [
    "metrics"
   ]
  },
  {
   "cell_type": "code",
   "execution_count": 57,
   "id": "9b9a838d-31c9-430b-ae14-12baee460d17",
   "metadata": {
    "execution": {
     "iopub.execute_input": "2025-07-30T21:35:33.825172Z",
     "iopub.status.busy": "2025-07-30T21:35:33.824752Z",
     "iopub.status.idle": "2025-07-30T21:35:33.831443Z",
     "shell.execute_reply": "2025-07-30T21:35:33.830563Z"
    },
    "papermill": {
     "duration": 0.039455,
     "end_time": "2025-07-30T21:35:33.834778",
     "exception": false,
     "start_time": "2025-07-30T21:35:33.795323",
     "status": "completed"
    },
    "tags": []
   },
   "outputs": [],
   "source": [
    "example_universe = universe.copy()\n",
    "universe_training_year = example_universe.get(\"training_year\")\n",
    "universe_training_size = example_universe.get(\"training_size\")\n",
    "universe_scale = example_universe.get(\"scale\")\n",
    "universe_model = example_universe.get(\"model\")\n",
    "universe_exclude_features = example_universe.get(\"exclude_features\")\n",
    "universe_exclude_subgroups = example_universe.get(\"exclude_subgroups\")"
   ]
  },
  {
   "cell_type": "code",
   "execution_count": 58,
   "id": "f4b6a8ac-9dc0-4245-8a91-5b3b5999c4f9",
   "metadata": {
    "execution": {
     "iopub.execute_input": "2025-07-30T21:35:33.914032Z",
     "iopub.status.busy": "2025-07-30T21:35:33.913672Z",
     "iopub.status.idle": "2025-07-30T21:35:33.919535Z",
     "shell.execute_reply": "2025-07-30T21:35:33.918526Z"
    },
    "papermill": {
     "duration": 0.060556,
     "end_time": "2025-07-30T21:35:33.922134",
     "exception": false,
     "start_time": "2025-07-30T21:35:33.861578",
     "status": "completed"
    },
    "tags": []
   },
   "outputs": [],
   "source": [
    "cp_metrics_dict = {\n",
    "    \"universe_id\": [universe_id],\n",
    "    \"universe_training_year\": [universe_training_year],\n",
    "    \"universe_training_size\": [universe_training_size],\n",
    "    \"universe_scale\": [universe_scale],\n",
    "    \"universe_model\": [universe_model],\n",
    "    \"universe_exclude_features\": [universe_exclude_features],\n",
    "    \"universe_exclude_subgroups\": [universe_exclude_subgroups],\n",
    "    \"q_hat\": [q_hat],\n",
    "    \"coverage\": [metrics[\"coverage\"]],\n",
    "    \"avg_size\": [metrics[\"avg_size\"]],\n",
    "}"
   ]
  },
  {
   "cell_type": "code",
   "execution_count": 59,
   "id": "908acbb1-0371-4915-85ca-3fa520d2efe2",
   "metadata": {
    "execution": {
     "iopub.execute_input": "2025-07-30T21:35:33.972884Z",
     "iopub.status.busy": "2025-07-30T21:35:33.972502Z",
     "iopub.status.idle": "2025-07-30T21:35:33.979909Z",
     "shell.execute_reply": "2025-07-30T21:35:33.978854Z"
    },
    "papermill": {
     "duration": 0.038603,
     "end_time": "2025-07-30T21:35:33.984129",
     "exception": false,
     "start_time": "2025-07-30T21:35:33.945526",
     "status": "completed"
    },
    "tags": []
   },
   "outputs": [
    {
     "data": {
      "text/plain": [
       "{'universe_id': ['2749fe78efb98cab0491f2294c38b8d2'],\n",
       " 'universe_training_year': ['2012_14'],\n",
       " 'universe_training_size': ['1k'],\n",
       " 'universe_scale': ['scale'],\n",
       " 'universe_model': ['rf'],\n",
       " 'universe_exclude_features': ['sex'],\n",
       " 'universe_exclude_subgroups': ['keep-all'],\n",
       " 'q_hat': [0.6699999999999999],\n",
       " 'coverage': [0.9161520454798796],\n",
       " 'avg_size': [1.1550997659123843]}"
      ]
     },
     "execution_count": 59,
     "metadata": {},
     "output_type": "execute_result"
    }
   ],
   "source": [
    "cp_metrics_dict"
   ]
  },
  {
   "cell_type": "code",
   "execution_count": 60,
   "id": "33007efc-14e9-4ec6-97ac-56a455c82265",
   "metadata": {
    "execution": {
     "iopub.execute_input": "2025-07-30T21:35:34.050351Z",
     "iopub.status.busy": "2025-07-30T21:35:34.049969Z",
     "iopub.status.idle": "2025-07-30T21:35:34.057105Z",
     "shell.execute_reply": "2025-07-30T21:35:34.055945Z"
    },
    "papermill": {
     "duration": 0.049229,
     "end_time": "2025-07-30T21:35:34.058835",
     "exception": false,
     "start_time": "2025-07-30T21:35:34.009606",
     "status": "completed"
    },
    "tags": []
   },
   "outputs": [],
   "source": [
    "cp_metrics_df = pd.DataFrame(cp_metrics_dict)"
   ]
  },
  {
   "cell_type": "code",
   "execution_count": 61,
   "id": "db12611b-57b2-4910-b9d0-355adfd6e7bf",
   "metadata": {
    "execution": {
     "iopub.execute_input": "2025-07-30T21:35:34.114330Z",
     "iopub.status.busy": "2025-07-30T21:35:34.113760Z",
     "iopub.status.idle": "2025-07-30T21:35:34.137456Z",
     "shell.execute_reply": "2025-07-30T21:35:34.136121Z"
    },
    "papermill": {
     "duration": 0.054905,
     "end_time": "2025-07-30T21:35:34.139487",
     "exception": false,
     "start_time": "2025-07-30T21:35:34.084582",
     "status": "completed"
    },
    "tags": []
   },
   "outputs": [
    {
     "data": {
      "text/html": [
       "<div>\n",
       "<style scoped>\n",
       "    .dataframe tbody tr th:only-of-type {\n",
       "        vertical-align: middle;\n",
       "    }\n",
       "\n",
       "    .dataframe tbody tr th {\n",
       "        vertical-align: top;\n",
       "    }\n",
       "\n",
       "    .dataframe thead th {\n",
       "        text-align: right;\n",
       "    }\n",
       "</style>\n",
       "<table border=\"1\" class=\"dataframe\">\n",
       "  <thead>\n",
       "    <tr style=\"text-align: right;\">\n",
       "      <th></th>\n",
       "      <th>universe_id</th>\n",
       "      <th>universe_training_year</th>\n",
       "      <th>universe_training_size</th>\n",
       "      <th>universe_scale</th>\n",
       "      <th>universe_model</th>\n",
       "      <th>universe_exclude_features</th>\n",
       "      <th>universe_exclude_subgroups</th>\n",
       "      <th>q_hat</th>\n",
       "      <th>coverage</th>\n",
       "      <th>avg_size</th>\n",
       "    </tr>\n",
       "  </thead>\n",
       "  <tbody>\n",
       "    <tr>\n",
       "      <th>0</th>\n",
       "      <td>2749fe78efb98cab0491f2294c38b8d2</td>\n",
       "      <td>2012_14</td>\n",
       "      <td>1k</td>\n",
       "      <td>scale</td>\n",
       "      <td>rf</td>\n",
       "      <td>sex</td>\n",
       "      <td>keep-all</td>\n",
       "      <td>0.67</td>\n",
       "      <td>0.916152</td>\n",
       "      <td>1.1551</td>\n",
       "    </tr>\n",
       "  </tbody>\n",
       "</table>\n",
       "</div>"
      ],
      "text/plain": [
       "                        universe_id universe_training_year  \\\n",
       "0  2749fe78efb98cab0491f2294c38b8d2                2012_14   \n",
       "\n",
       "  universe_training_size universe_scale universe_model  \\\n",
       "0                     1k          scale             rf   \n",
       "\n",
       "  universe_exclude_features universe_exclude_subgroups  q_hat  coverage  \\\n",
       "0                       sex                   keep-all   0.67  0.916152   \n",
       "\n",
       "   avg_size  \n",
       "0    1.1551  "
      ]
     },
     "execution_count": 61,
     "metadata": {},
     "output_type": "execute_result"
    }
   ],
   "source": [
    "cp_metrics_df"
   ]
  },
  {
   "cell_type": "code",
   "execution_count": 62,
   "id": "b7fbde55-a0a1-47e4-9af6-fe4a17fa8c61",
   "metadata": {
    "execution": {
     "iopub.execute_input": "2025-07-30T21:35:34.209781Z",
     "iopub.status.busy": "2025-07-30T21:35:34.209367Z",
     "iopub.status.idle": "2025-07-30T21:35:34.214815Z",
     "shell.execute_reply": "2025-07-30T21:35:34.213817Z"
    },
    "papermill": {
     "duration": 0.036471,
     "end_time": "2025-07-30T21:35:34.218321",
     "exception": false,
     "start_time": "2025-07-30T21:35:34.181850",
     "status": "completed"
    },
    "tags": []
   },
   "outputs": [],
   "source": [
    "# Conditional Coverage & looking at subgroups"
   ]
  },
  {
   "cell_type": "code",
   "execution_count": 63,
   "id": "027ae886-68dd-4141-96c7-805a5450e1ef",
   "metadata": {
    "execution": {
     "iopub.execute_input": "2025-07-30T21:35:34.265383Z",
     "iopub.status.busy": "2025-07-30T21:35:34.264960Z",
     "iopub.status.idle": "2025-07-30T21:35:34.586480Z",
     "shell.execute_reply": "2025-07-30T21:35:34.585550Z"
    },
    "papermill": {
     "duration": 0.340446,
     "end_time": "2025-07-30T21:35:34.588554",
     "exception": false,
     "start_time": "2025-07-30T21:35:34.248108",
     "status": "completed"
    },
    "tags": []
   },
   "outputs": [],
   "source": [
    "from fairness_multiverse.conformal import build_cp_groups\n",
    "\n",
    "cp_groups_df = build_cp_groups(pred_sets, y_true, X_test.index, org_test)\n",
    "#needs universe_id and setting"
   ]
  },
  {
   "cell_type": "code",
   "execution_count": 64,
   "id": "01d5802c-663a-4d1f-9d69-e036faaffbf7",
   "metadata": {
    "execution": {
     "iopub.execute_input": "2025-07-30T21:35:34.683719Z",
     "iopub.status.busy": "2025-07-30T21:35:34.683336Z",
     "iopub.status.idle": "2025-07-30T21:35:34.688299Z",
     "shell.execute_reply": "2025-07-30T21:35:34.687429Z"
    },
    "papermill": {
     "duration": 0.070053,
     "end_time": "2025-07-30T21:35:34.698452",
     "exception": false,
     "start_time": "2025-07-30T21:35:34.628399",
     "status": "completed"
    },
    "tags": []
   },
   "outputs": [],
   "source": [
    "#delete\n",
    "#cp_groups_df"
   ]
  },
  {
   "cell_type": "code",
   "execution_count": 65,
   "id": "fa424af1-d1eb-443d-b717-2d279ada8408",
   "metadata": {
    "execution": {
     "iopub.execute_input": "2025-07-30T21:35:34.804354Z",
     "iopub.status.busy": "2025-07-30T21:35:34.803881Z",
     "iopub.status.idle": "2025-07-30T21:35:34.809344Z",
     "shell.execute_reply": "2025-07-30T21:35:34.808443Z"
    },
    "papermill": {
     "duration": 0.042924,
     "end_time": "2025-07-30T21:35:34.816264",
     "exception": false,
     "start_time": "2025-07-30T21:35:34.773340",
     "status": "completed"
    },
    "tags": []
   },
   "outputs": [],
   "source": [
    "#delete\n",
    "#percentage = (cp_groups_df['nongerman_female'] == 1).mean() * 100\n",
    "#print(percentage)\n"
   ]
  },
  {
   "cell_type": "code",
   "execution_count": 66,
   "id": "6cbdab96-b2b2-45af-ad54-d0516db2e28d",
   "metadata": {
    "execution": {
     "iopub.execute_input": "2025-07-30T21:35:34.894879Z",
     "iopub.status.busy": "2025-07-30T21:35:34.894036Z",
     "iopub.status.idle": "2025-07-30T21:35:36.501695Z",
     "shell.execute_reply": "2025-07-30T21:35:36.500745Z"
    },
    "papermill": {
     "duration": 1.649624,
     "end_time": "2025-07-30T21:35:36.503952",
     "exception": false,
     "start_time": "2025-07-30T21:35:34.854328",
     "status": "completed"
    },
    "tags": []
   },
   "outputs": [],
   "source": [
    "# Define covered = 1 if true_label is in the predicted set\n",
    "cp_groups_df['covered'] = cp_groups_df.apply(\n",
    "    lambda r: int(r['true_label'] in r['pred_set']),\n",
    "    axis=1\n",
    ")"
   ]
  },
  {
   "cell_type": "code",
   "execution_count": 67,
   "id": "338ff529-1a6b-4b87-a931-8e4788d52aad",
   "metadata": {
    "execution": {
     "iopub.execute_input": "2025-07-30T21:35:36.587466Z",
     "iopub.status.busy": "2025-07-30T21:35:36.586542Z",
     "iopub.status.idle": "2025-07-30T21:35:36.595938Z",
     "shell.execute_reply": "2025-07-30T21:35:36.594887Z"
    },
    "papermill": {
     "duration": 0.063449,
     "end_time": "2025-07-30T21:35:36.597851",
     "exception": false,
     "start_time": "2025-07-30T21:35:36.534402",
     "status": "completed"
    },
    "tags": []
   },
   "outputs": [],
   "source": [
    "#cp_groups_df"
   ]
  },
  {
   "cell_type": "code",
   "execution_count": 68,
   "id": "90032e27-66df-4540-9169-4e89cfbaa758",
   "metadata": {
    "execution": {
     "iopub.execute_input": "2025-07-30T21:35:36.646991Z",
     "iopub.status.busy": "2025-07-30T21:35:36.646509Z",
     "iopub.status.idle": "2025-07-30T21:35:36.658683Z",
     "shell.execute_reply": "2025-07-30T21:35:36.657746Z"
    },
    "papermill": {
     "duration": 0.041422,
     "end_time": "2025-07-30T21:35:36.661217",
     "exception": false,
     "start_time": "2025-07-30T21:35:36.619795",
     "status": "completed"
    },
    "tags": []
   },
   "outputs": [],
   "source": [
    "subgroups = ['frau1','nongerman','nongerman_male','nongerman_female']\n",
    "\n",
    "# Conditional coverage for subgroup==1\n",
    "cond_coverage = {\n",
    "    g: cp_groups_df.loc[cp_groups_df[g]==1, 'covered'].mean()\n",
    "    for g in subgroups\n",
    "}"
   ]
  },
  {
   "cell_type": "code",
   "execution_count": 69,
   "id": "1e348fb1-b9c3-45bc-ba23-f016827a7e0d",
   "metadata": {
    "execution": {
     "iopub.execute_input": "2025-07-30T21:35:36.712313Z",
     "iopub.status.busy": "2025-07-30T21:35:36.711916Z",
     "iopub.status.idle": "2025-07-30T21:35:36.718831Z",
     "shell.execute_reply": "2025-07-30T21:35:36.717885Z"
    },
    "papermill": {
     "duration": 0.034701,
     "end_time": "2025-07-30T21:35:36.720396",
     "exception": false,
     "start_time": "2025-07-30T21:35:36.685695",
     "status": "completed"
    },
    "tags": []
   },
   "outputs": [
    {
     "data": {
      "text/plain": [
       "{'frau1': 0.914786359347621,\n",
       " 'nongerman': 0.9094481558412395,\n",
       " 'nongerman_male': 0.9252454291632892,\n",
       " 'nongerman_female': 0.8833084947839046}"
      ]
     },
     "execution_count": 69,
     "metadata": {},
     "output_type": "execute_result"
    }
   ],
   "source": [
    "cond_coverage"
   ]
  },
  {
   "cell_type": "code",
   "execution_count": 70,
   "id": "f5093324-c3dd-4d63-bc4c-8d945e5c8bbb",
   "metadata": {
    "execution": {
     "iopub.execute_input": "2025-07-30T21:35:36.780717Z",
     "iopub.status.busy": "2025-07-30T21:35:36.771582Z",
     "iopub.status.idle": "2025-07-30T21:35:36.786970Z",
     "shell.execute_reply": "2025-07-30T21:35:36.786039Z"
    },
    "papermill": {
     "duration": 0.05477,
     "end_time": "2025-07-30T21:35:36.800244",
     "exception": false,
     "start_time": "2025-07-30T21:35:36.745474",
     "status": "completed"
    },
    "tags": []
   },
   "outputs": [],
   "source": [
    "for subgroup, cov in cond_coverage.items():\n",
    "    cp_metrics_df[f\"cov_{subgroup}\"] = cov"
   ]
  },
  {
   "cell_type": "code",
   "execution_count": 71,
   "id": "6e872e10-dbe5-49e8-b554-5030c98ff75d",
   "metadata": {
    "execution": {
     "iopub.execute_input": "2025-07-30T21:35:36.860637Z",
     "iopub.status.busy": "2025-07-30T21:35:36.860203Z",
     "iopub.status.idle": "2025-07-30T21:35:36.880564Z",
     "shell.execute_reply": "2025-07-30T21:35:36.879603Z"
    },
    "papermill": {
     "duration": 0.052974,
     "end_time": "2025-07-30T21:35:36.882315",
     "exception": false,
     "start_time": "2025-07-30T21:35:36.829341",
     "status": "completed"
    },
    "tags": []
   },
   "outputs": [
    {
     "data": {
      "text/html": [
       "<div>\n",
       "<style scoped>\n",
       "    .dataframe tbody tr th:only-of-type {\n",
       "        vertical-align: middle;\n",
       "    }\n",
       "\n",
       "    .dataframe tbody tr th {\n",
       "        vertical-align: top;\n",
       "    }\n",
       "\n",
       "    .dataframe thead th {\n",
       "        text-align: right;\n",
       "    }\n",
       "</style>\n",
       "<table border=\"1\" class=\"dataframe\">\n",
       "  <thead>\n",
       "    <tr style=\"text-align: right;\">\n",
       "      <th></th>\n",
       "      <th>universe_id</th>\n",
       "      <th>universe_training_year</th>\n",
       "      <th>universe_training_size</th>\n",
       "      <th>universe_scale</th>\n",
       "      <th>universe_model</th>\n",
       "      <th>universe_exclude_features</th>\n",
       "      <th>universe_exclude_subgroups</th>\n",
       "      <th>q_hat</th>\n",
       "      <th>coverage</th>\n",
       "      <th>avg_size</th>\n",
       "      <th>cov_frau1</th>\n",
       "      <th>cov_nongerman</th>\n",
       "      <th>cov_nongerman_male</th>\n",
       "      <th>cov_nongerman_female</th>\n",
       "    </tr>\n",
       "  </thead>\n",
       "  <tbody>\n",
       "    <tr>\n",
       "      <th>0</th>\n",
       "      <td>2749fe78efb98cab0491f2294c38b8d2</td>\n",
       "      <td>2012_14</td>\n",
       "      <td>1k</td>\n",
       "      <td>scale</td>\n",
       "      <td>rf</td>\n",
       "      <td>sex</td>\n",
       "      <td>keep-all</td>\n",
       "      <td>0.67</td>\n",
       "      <td>0.916152</td>\n",
       "      <td>1.1551</td>\n",
       "      <td>0.914786</td>\n",
       "      <td>0.909448</td>\n",
       "      <td>0.925245</td>\n",
       "      <td>0.883308</td>\n",
       "    </tr>\n",
       "  </tbody>\n",
       "</table>\n",
       "</div>"
      ],
      "text/plain": [
       "                        universe_id universe_training_year  \\\n",
       "0  2749fe78efb98cab0491f2294c38b8d2                2012_14   \n",
       "\n",
       "  universe_training_size universe_scale universe_model  \\\n",
       "0                     1k          scale             rf   \n",
       "\n",
       "  universe_exclude_features universe_exclude_subgroups  q_hat  coverage  \\\n",
       "0                       sex                   keep-all   0.67  0.916152   \n",
       "\n",
       "   avg_size  cov_frau1  cov_nongerman  cov_nongerman_male  \\\n",
       "0    1.1551   0.914786       0.909448            0.925245   \n",
       "\n",
       "   cov_nongerman_female  \n",
       "0              0.883308  "
      ]
     },
     "execution_count": 71,
     "metadata": {},
     "output_type": "execute_result"
    }
   ],
   "source": [
    "cp_metrics_df"
   ]
  },
  {
   "cell_type": "markdown",
   "id": "33774451",
   "metadata": {
    "papermill": {
     "duration": 0.024891,
     "end_time": "2025-07-30T21:35:36.938767",
     "exception": false,
     "start_time": "2025-07-30T21:35:36.913876",
     "status": "completed"
    },
    "tags": []
   },
   "source": [
    "# (Fairness) Metrics"
   ]
  },
  {
   "cell_type": "code",
   "execution_count": 72,
   "id": "debc5d62",
   "metadata": {
    "execution": {
     "iopub.execute_input": "2025-07-30T21:35:36.999920Z",
     "iopub.status.busy": "2025-07-30T21:35:36.999525Z",
     "iopub.status.idle": "2025-07-30T21:35:37.037142Z",
     "shell.execute_reply": "2025-07-30T21:35:37.028251Z"
    },
    "papermill": {
     "duration": 0.067152,
     "end_time": "2025-07-30T21:35:37.038985",
     "exception": false,
     "start_time": "2025-07-30T21:35:36.971833",
     "status": "completed"
    },
    "tags": []
   },
   "outputs": [],
   "source": [
    "# do I need to include maxdeutsch1.missing?\n",
    "\n",
    "import numpy as np\n",
    "\n",
    "colname_to_bin = \"maxdeutsch1\"\n",
    "majority_value = org_train[colname_to_bin].mode()[0]\n",
    "\n",
    "org_test[\"majmin\"] = np.where(org_test[colname_to_bin] == majority_value, \"majority\", \"minority\")"
   ]
  },
  {
   "cell_type": "code",
   "execution_count": 73,
   "id": "06a50de5",
   "metadata": {
    "execution": {
     "iopub.execute_input": "2025-07-30T21:35:37.123912Z",
     "iopub.status.busy": "2025-07-30T21:35:37.123429Z",
     "iopub.status.idle": "2025-07-30T21:35:40.091627Z",
     "shell.execute_reply": "2025-07-30T21:35:40.090524Z"
    },
    "papermill": {
     "duration": 3.001568,
     "end_time": "2025-07-30T21:35:40.093724",
     "exception": false,
     "start_time": "2025-07-30T21:35:37.092156",
     "status": "completed"
    },
    "tags": []
   },
   "outputs": [],
   "source": [
    "example_universe = universe.copy()\n",
    "example_universe[\"cutoff\"] = example_universe[\"cutoff\"][0]\n",
    "example_universe[\"eval_fairness_grouping\"] = example_universe[\"eval_fairness_grouping\"][0]\n",
    "fairness_dict, metric_frame = universe_analysis.compute_metrics(\n",
    "    example_universe,\n",
    "    y_pred_prob=probs_test,\n",
    "    y_test=y_true,\n",
    "    org_test=org_test,\n",
    ")"
   ]
  },
  {
   "cell_type": "markdown",
   "id": "f95d4e02",
   "metadata": {
    "papermill": {
     "duration": 0.030548,
     "end_time": "2025-07-30T21:35:40.153839",
     "exception": false,
     "start_time": "2025-07-30T21:35:40.123291",
     "status": "completed"
    },
    "tags": []
   },
   "source": [
    "# Overall"
   ]
  },
  {
   "cell_type": "markdown",
   "id": "bdee4871",
   "metadata": {
    "papermill": {
     "duration": 0.028087,
     "end_time": "2025-07-30T21:35:40.210337",
     "exception": false,
     "start_time": "2025-07-30T21:35:40.182250",
     "status": "completed"
    },
    "tags": []
   },
   "source": [
    "Fairness\n",
    "Main fairness target: Equalized Odds. Seems to be a better fit than equal opportunity, since we're not only interested in Y = 1. Seems to be a better fit than demographic parity, since we also care about accuracy, not just equal distribution of preds.\n",
    "\n",
    "Pick column for computation of fairness metrics\n",
    "\n",
    "Performance\n",
    "Overall performance measures, most interesting in relation to the measures split by group below"
   ]
  },
  {
   "cell_type": "code",
   "execution_count": 74,
   "id": "c4e067c6",
   "metadata": {
    "execution": {
     "iopub.execute_input": "2025-07-30T21:35:40.269352Z",
     "iopub.status.busy": "2025-07-30T21:35:40.268807Z",
     "iopub.status.idle": "2025-07-30T21:35:40.278482Z",
     "shell.execute_reply": "2025-07-30T21:35:40.277479Z"
    },
    "papermill": {
     "duration": 0.041211,
     "end_time": "2025-07-30T21:35:40.280128",
     "exception": false,
     "start_time": "2025-07-30T21:35:40.238917",
     "status": "completed"
    },
    "tags": []
   },
   "outputs": [
    {
     "data": {
      "text/plain": [
       "accuracy                   0.204225\n",
       "balanced accuracy          0.533111\n",
       "f1                         0.239256\n",
       "precision                  0.136349\n",
       "false positive rate        0.909273\n",
       "false negative rate        0.024505\n",
       "selection rate             0.917768\n",
       "count                  89710.000000\n",
       "dtype: float64"
      ]
     },
     "execution_count": 74,
     "metadata": {},
     "output_type": "execute_result"
    }
   ],
   "source": [
    "metric_frame.overall"
   ]
  },
  {
   "cell_type": "markdown",
   "id": "e968fe9d",
   "metadata": {
    "papermill": {
     "duration": 0.026651,
     "end_time": "2025-07-30T21:35:40.335170",
     "exception": false,
     "start_time": "2025-07-30T21:35:40.308519",
     "status": "completed"
    },
    "tags": []
   },
   "source": [
    "By Group"
   ]
  },
  {
   "cell_type": "code",
   "execution_count": 75,
   "id": "ec325bce",
   "metadata": {
    "execution": {
     "iopub.execute_input": "2025-07-30T21:35:40.364252Z",
     "iopub.status.busy": "2025-07-30T21:35:40.363874Z",
     "iopub.status.idle": "2025-07-30T21:35:40.376396Z",
     "shell.execute_reply": "2025-07-30T21:35:40.375590Z"
    },
    "papermill": {
     "duration": 0.028752,
     "end_time": "2025-07-30T21:35:40.377737",
     "exception": false,
     "start_time": "2025-07-30T21:35:40.348985",
     "status": "completed"
    },
    "tags": []
   },
   "outputs": [
    {
     "data": {
      "text/html": [
       "<div>\n",
       "<style scoped>\n",
       "    .dataframe tbody tr th:only-of-type {\n",
       "        vertical-align: middle;\n",
       "    }\n",
       "\n",
       "    .dataframe tbody tr th {\n",
       "        vertical-align: top;\n",
       "    }\n",
       "\n",
       "    .dataframe thead th {\n",
       "        text-align: right;\n",
       "    }\n",
       "</style>\n",
       "<table border=\"1\" class=\"dataframe\">\n",
       "  <thead>\n",
       "    <tr style=\"text-align: right;\">\n",
       "      <th></th>\n",
       "      <th>accuracy</th>\n",
       "      <th>balanced accuracy</th>\n",
       "      <th>f1</th>\n",
       "      <th>precision</th>\n",
       "      <th>false positive rate</th>\n",
       "      <th>false negative rate</th>\n",
       "      <th>selection rate</th>\n",
       "      <th>count</th>\n",
       "    </tr>\n",
       "    <tr>\n",
       "      <th>majmin</th>\n",
       "      <th></th>\n",
       "      <th></th>\n",
       "      <th></th>\n",
       "      <th></th>\n",
       "      <th></th>\n",
       "      <th></th>\n",
       "      <th></th>\n",
       "      <th></th>\n",
       "    </tr>\n",
       "  </thead>\n",
       "  <tbody>\n",
       "    <tr>\n",
       "      <th>majority</th>\n",
       "      <td>0.209975</td>\n",
       "      <td>0.538815</td>\n",
       "      <td>0.247984</td>\n",
       "      <td>0.141832</td>\n",
       "      <td>0.908146</td>\n",
       "      <td>0.014223</td>\n",
       "      <td>0.918404</td>\n",
       "      <td>69170.0</td>\n",
       "    </tr>\n",
       "    <tr>\n",
       "      <th>minority</th>\n",
       "      <td>0.184859</td>\n",
       "      <td>0.511406</td>\n",
       "      <td>0.209303</td>\n",
       "      <td>0.117828</td>\n",
       "      <td>0.912998</td>\n",
       "      <td>0.064189</td>\n",
       "      <td>0.915628</td>\n",
       "      <td>20540.0</td>\n",
       "    </tr>\n",
       "  </tbody>\n",
       "</table>\n",
       "</div>"
      ],
      "text/plain": [
       "          accuracy  balanced accuracy        f1  precision  \\\n",
       "majmin                                                       \n",
       "majority  0.209975           0.538815  0.247984   0.141832   \n",
       "minority  0.184859           0.511406  0.209303   0.117828   \n",
       "\n",
       "          false positive rate  false negative rate  selection rate    count  \n",
       "majmin                                                                       \n",
       "majority             0.908146             0.014223        0.918404  69170.0  \n",
       "minority             0.912998             0.064189        0.915628  20540.0  "
      ]
     },
     "execution_count": 75,
     "metadata": {},
     "output_type": "execute_result"
    }
   ],
   "source": [
    "metric_frame.by_group"
   ]
  },
  {
   "cell_type": "code",
   "execution_count": 76,
   "id": "a9ddbe63",
   "metadata": {
    "execution": {
     "iopub.execute_input": "2025-07-30T21:35:40.408147Z",
     "iopub.status.busy": "2025-07-30T21:35:40.407607Z",
     "iopub.status.idle": "2025-07-30T21:35:42.709233Z",
     "shell.execute_reply": "2025-07-30T21:35:42.708101Z"
    },
    "papermill": {
     "duration": 2.318565,
     "end_time": "2025-07-30T21:35:42.711163",
     "exception": false,
     "start_time": "2025-07-30T21:35:40.392598",
     "status": "completed"
    },
    "tags": []
   },
   "outputs": [
    {
     "data": {
      "text/plain": [
       "array([[<Axes: title={'center': 'accuracy'}, xlabel='majmin'>,\n",
       "        <Axes: title={'center': 'balanced accuracy'}, xlabel='majmin'>,\n",
       "        <Axes: title={'center': 'f1'}, xlabel='majmin'>],\n",
       "       [<Axes: title={'center': 'precision'}, xlabel='majmin'>,\n",
       "        <Axes: title={'center': 'false positive rate'}, xlabel='majmin'>,\n",
       "        <Axes: title={'center': 'false negative rate'}, xlabel='majmin'>],\n",
       "       [<Axes: title={'center': 'selection rate'}, xlabel='majmin'>,\n",
       "        <Axes: title={'center': 'count'}, xlabel='majmin'>,\n",
       "        <Axes: xlabel='majmin'>]], dtype=object)"
      ]
     },
     "execution_count": 76,
     "metadata": {},
     "output_type": "execute_result"
    },
    {
     "data": {
      "image/png": "[encoded data removed]",
      "text/plain": [
       "<Figure size 1200x800 with 9 Axes>"
      ]
     },
     "metadata": {},
     "output_type": "display_data"
    }
   ],
   "source": [
    "# In a graphic\n",
    "metric_frame.by_group.plot.bar(\n",
    "    subplots=True,\n",
    "    layout=[3, 3],\n",
    "    legend=False,\n",
    "    figsize=[12, 8],\n",
    "    title=\"Show all metrics\",\n",
    ")"
   ]
  },
  {
   "cell_type": "markdown",
   "id": "f57a0bac",
   "metadata": {
    "papermill": {
     "duration": 0.028623,
     "end_time": "2025-07-30T21:35:42.773371",
     "exception": false,
     "start_time": "2025-07-30T21:35:42.744748",
     "status": "completed"
    },
    "tags": []
   },
   "source": [
    "# Final Output"
   ]
  },
  {
   "cell_type": "code",
   "execution_count": 77,
   "id": "96d280a3",
   "metadata": {
    "execution": {
     "iopub.execute_input": "2025-07-30T21:35:42.878838Z",
     "iopub.status.busy": "2025-07-30T21:35:42.878198Z",
     "iopub.status.idle": "2025-07-30T21:35:42.886053Z",
     "shell.execute_reply": "2025-07-30T21:35:42.885111Z"
    },
    "papermill": {
     "duration": 0.039395,
     "end_time": "2025-07-30T21:35:42.887629",
     "exception": false,
     "start_time": "2025-07-30T21:35:42.848234",
     "status": "completed"
    },
    "tags": []
   },
   "outputs": [
    {
     "data": {
      "text/plain": [
       "4"
      ]
     },
     "execution_count": 77,
     "metadata": {},
     "output_type": "execute_result"
    }
   ],
   "source": [
    "sub_universes = universe_analysis.generate_sub_universes()\n",
    "len(sub_universes)"
   ]
  },
  {
   "cell_type": "code",
   "execution_count": 78,
   "id": "92adf7ba",
   "metadata": {
    "execution": {
     "iopub.execute_input": "2025-07-30T21:35:42.944674Z",
     "iopub.status.busy": "2025-07-30T21:35:42.944234Z",
     "iopub.status.idle": "2025-07-30T21:35:42.950576Z",
     "shell.execute_reply": "2025-07-30T21:35:42.949595Z"
    },
    "papermill": {
     "duration": 0.037243,
     "end_time": "2025-07-30T21:35:42.952078",
     "exception": false,
     "start_time": "2025-07-30T21:35:42.914835",
     "status": "completed"
    },
    "tags": []
   },
   "outputs": [],
   "source": [
    "def filter_sub_universe_data(sub_universe, org_test):\n",
    "    # Keep all rows — no filtering\n",
    "    keep_rows_mask = np.ones(org_test.shape[0], dtype=bool)\n",
    "\n",
    "    print(f\"[INFO] Keeping all rows: {keep_rows_mask.sum()} rows retained.\")\n",
    "    return keep_rows_mask"
   ]
  },
  {
   "cell_type": "code",
   "execution_count": 79,
   "id": "4a759155",
   "metadata": {
    "execution": {
     "iopub.execute_input": "2025-07-30T21:35:43.011341Z",
     "iopub.status.busy": "2025-07-30T21:35:43.010432Z",
     "iopub.status.idle": "2025-07-30T21:35:52.424694Z",
     "shell.execute_reply": "2025-07-30T21:35:52.423878Z"
    },
    "papermill": {
     "duration": 9.444043,
     "end_time": "2025-07-30T21:35:52.426028",
     "exception": false,
     "start_time": "2025-07-30T21:35:42.981985",
     "status": "completed"
    },
    "tags": []
   },
   "outputs": [
    {
     "name": "stdout",
     "output_type": "stream",
     "text": [
      "Stopping execution_time clock.\n",
      "[INFO] Keeping all rows: 89710 rows retained.\n"
     ]
    },
    {
     "name": "stdout",
     "output_type": "stream",
     "text": [
      "[INFO] Keeping all rows: 89710 rows retained.\n"
     ]
    },
    {
     "name": "stdout",
     "output_type": "stream",
     "text": [
      "[INFO] Keeping all rows: 89710 rows retained.\n"
     ]
    },
    {
     "name": "stdout",
     "output_type": "stream",
     "text": [
      "[INFO] Keeping all rows: 89710 rows retained.\n"
     ]
    },
    {
     "data": {
      "text/html": [
       "<div>\n",
       "<style scoped>\n",
       "    .dataframe tbody tr th:only-of-type {\n",
       "        vertical-align: middle;\n",
       "    }\n",
       "\n",
       "    .dataframe tbody tr th {\n",
       "        vertical-align: top;\n",
       "    }\n",
       "\n",
       "    .dataframe thead th {\n",
       "        text-align: right;\n",
       "    }\n",
       "</style>\n",
       "<table border=\"1\" class=\"dataframe\">\n",
       "  <thead>\n",
       "    <tr style=\"text-align: right;\">\n",
       "      <th></th>\n",
       "      <th>run_no</th>\n",
       "      <th>universe_id</th>\n",
       "      <th>universe_settings</th>\n",
       "      <th>execution_time</th>\n",
       "      <th>test_size_n</th>\n",
       "      <th>test_size_frac</th>\n",
       "      <th>fair_main_equalized_odds_difference</th>\n",
       "      <th>fair_main_equalized_odds_ratio</th>\n",
       "      <th>fair_main_demographic_parity_difference</th>\n",
       "      <th>fair_main_demographic_parity_ratio</th>\n",
       "      <th>...</th>\n",
       "      <th>perf_grp_precision_0</th>\n",
       "      <th>perf_grp_precision_1</th>\n",
       "      <th>perf_grp_false positive rate_0</th>\n",
       "      <th>perf_grp_false positive rate_1</th>\n",
       "      <th>perf_grp_false negative rate_0</th>\n",
       "      <th>perf_grp_false negative rate_1</th>\n",
       "      <th>perf_grp_selection rate_0</th>\n",
       "      <th>perf_grp_selection rate_1</th>\n",
       "      <th>perf_grp_count_0</th>\n",
       "      <th>perf_grp_count_1</th>\n",
       "    </tr>\n",
       "  </thead>\n",
       "  <tbody>\n",
       "    <tr>\n",
       "      <th>0</th>\n",
       "      <td>14</td>\n",
       "      <td>2749fe78efb98cab0491f2294c38b8d2</td>\n",
       "      <td>{\"cutoff\": \"quantile_0.1\", \"eval_fairness_grou...</td>\n",
       "      <td>31.242959</td>\n",
       "      <td>89710</td>\n",
       "      <td>1.0</td>\n",
       "      <td>0.049966</td>\n",
       "      <td>0.949313</td>\n",
       "      <td>0.002776</td>\n",
       "      <td>0.996977</td>\n",
       "      <td>...</td>\n",
       "      <td>NaN</td>\n",
       "      <td>NaN</td>\n",
       "      <td>NaN</td>\n",
       "      <td>NaN</td>\n",
       "      <td>NaN</td>\n",
       "      <td>NaN</td>\n",
       "      <td>NaN</td>\n",
       "      <td>NaN</td>\n",
       "      <td>NaN</td>\n",
       "      <td>NaN</td>\n",
       "    </tr>\n",
       "    <tr>\n",
       "      <th>0</th>\n",
       "      <td>14</td>\n",
       "      <td>2749fe78efb98cab0491f2294c38b8d2</td>\n",
       "      <td>{\"cutoff\": \"quantile_0.1\", \"eval_fairness_grou...</td>\n",
       "      <td>31.242959</td>\n",
       "      <td>89710</td>\n",
       "      <td>1.0</td>\n",
       "      <td>0.049966</td>\n",
       "      <td>0.949313</td>\n",
       "      <td>0.002776</td>\n",
       "      <td>0.996977</td>\n",
       "      <td>...</td>\n",
       "      <td>0.117828</td>\n",
       "      <td>0.141832</td>\n",
       "      <td>0.912998</td>\n",
       "      <td>0.908146</td>\n",
       "      <td>0.064189</td>\n",
       "      <td>0.014223</td>\n",
       "      <td>0.915628</td>\n",
       "      <td>0.918404</td>\n",
       "      <td>20540.0</td>\n",
       "      <td>69170.0</td>\n",
       "    </tr>\n",
       "    <tr>\n",
       "      <th>0</th>\n",
       "      <td>14</td>\n",
       "      <td>2749fe78efb98cab0491f2294c38b8d2</td>\n",
       "      <td>{\"cutoff\": \"quantile_0.25\", \"eval_fairness_gro...</td>\n",
       "      <td>31.242959</td>\n",
       "      <td>89710</td>\n",
       "      <td>1.0</td>\n",
       "      <td>0.118568</td>\n",
       "      <td>0.873457</td>\n",
       "      <td>0.029253</td>\n",
       "      <td>0.961580</td>\n",
       "      <td>...</td>\n",
       "      <td>NaN</td>\n",
       "      <td>NaN</td>\n",
       "      <td>NaN</td>\n",
       "      <td>NaN</td>\n",
       "      <td>NaN</td>\n",
       "      <td>NaN</td>\n",
       "      <td>NaN</td>\n",
       "      <td>NaN</td>\n",
       "      <td>NaN</td>\n",
       "      <td>NaN</td>\n",
       "    </tr>\n",
       "    <tr>\n",
       "      <th>0</th>\n",
       "      <td>14</td>\n",
       "      <td>2749fe78efb98cab0491f2294c38b8d2</td>\n",
       "      <td>{\"cutoff\": \"quantile_0.25\", \"eval_fairness_gro...</td>\n",
       "      <td>31.242959</td>\n",
       "      <td>89710</td>\n",
       "      <td>1.0</td>\n",
       "      <td>0.118568</td>\n",
       "      <td>0.873457</td>\n",
       "      <td>0.029253</td>\n",
       "      <td>0.961580</td>\n",
       "      <td>...</td>\n",
       "      <td>0.128874</td>\n",
       "      <td>0.162613</td>\n",
       "      <td>0.720889</td>\n",
       "      <td>0.734649</td>\n",
       "      <td>0.181588</td>\n",
       "      <td>0.063020</td>\n",
       "      <td>0.732132</td>\n",
       "      <td>0.761385</td>\n",
       "      <td>20540.0</td>\n",
       "      <td>69170.0</td>\n",
       "    </tr>\n",
       "  </tbody>\n",
       "</table>\n",
       "<p>4 rows × 50 columns</p>\n",
       "</div>"
      ],
      "text/plain": [
       "  run_no                       universe_id  \\\n",
       "0     14  2749fe78efb98cab0491f2294c38b8d2   \n",
       "0     14  2749fe78efb98cab0491f2294c38b8d2   \n",
       "0     14  2749fe78efb98cab0491f2294c38b8d2   \n",
       "0     14  2749fe78efb98cab0491f2294c38b8d2   \n",
       "\n",
       "                                   universe_settings  execution_time  \\\n",
       "0  {\"cutoff\": \"quantile_0.1\", \"eval_fairness_grou...       31.242959   \n",
       "0  {\"cutoff\": \"quantile_0.1\", \"eval_fairness_grou...       31.242959   \n",
       "0  {\"cutoff\": \"quantile_0.25\", \"eval_fairness_gro...       31.242959   \n",
       "0  {\"cutoff\": \"quantile_0.25\", \"eval_fairness_gro...       31.242959   \n",
       "\n",
       "   test_size_n  test_size_frac  fair_main_equalized_odds_difference  \\\n",
       "0        89710             1.0                             0.049966   \n",
       "0        89710             1.0                             0.049966   \n",
       "0        89710             1.0                             0.118568   \n",
       "0        89710             1.0                             0.118568   \n",
       "\n",
       "   fair_main_equalized_odds_ratio  fair_main_demographic_parity_difference  \\\n",
       "0                        0.949313                                 0.002776   \n",
       "0                        0.949313                                 0.002776   \n",
       "0                        0.873457                                 0.029253   \n",
       "0                        0.873457                                 0.029253   \n",
       "\n",
       "   fair_main_demographic_parity_ratio  ...  perf_grp_precision_0  \\\n",
       "0                            0.996977  ...                   NaN   \n",
       "0                            0.996977  ...              0.117828   \n",
       "0                            0.961580  ...                   NaN   \n",
       "0                            0.961580  ...              0.128874   \n",
       "\n",
       "   perf_grp_precision_1  perf_grp_false positive rate_0  \\\n",
       "0                   NaN                             NaN   \n",
       "0              0.141832                        0.912998   \n",
       "0                   NaN                             NaN   \n",
       "0              0.162613                        0.720889   \n",
       "\n",
       "   perf_grp_false positive rate_1  perf_grp_false negative rate_0  \\\n",
       "0                             NaN                             NaN   \n",
       "0                        0.908146                        0.064189   \n",
       "0                             NaN                             NaN   \n",
       "0                        0.734649                        0.181588   \n",
       "\n",
       "   perf_grp_false negative rate_1  perf_grp_selection rate_0  \\\n",
       "0                             NaN                        NaN   \n",
       "0                        0.014223                   0.915628   \n",
       "0                             NaN                        NaN   \n",
       "0                        0.063020                   0.732132   \n",
       "\n",
       "   perf_grp_selection rate_1  perf_grp_count_0  perf_grp_count_1  \n",
       "0                        NaN               NaN               NaN  \n",
       "0                   0.918404           20540.0           69170.0  \n",
       "0                        NaN               NaN               NaN  \n",
       "0                   0.761385           20540.0           69170.0  \n",
       "\n",
       "[4 rows x 50 columns]"
      ]
     },
     "execution_count": 79,
     "metadata": {},
     "output_type": "execute_result"
    }
   ],
   "source": [
    "final_output = universe_analysis.generate_final_output(\n",
    "    y_pred_prob=probs_test,\n",
    "    y_test=y_true,\n",
    "    org_test=org_test,\n",
    "    filter_data=filter_sub_universe_data,\n",
    "    cp_metrics_df=cp_metrics_df,\n",
    "    save=True,\n",
    ")\n",
    "final_output"
   ]
  },
  {
   "cell_type": "code",
   "execution_count": null,
   "id": "721ff514-cb11-46f8-b6fc-50392f74b5cb",
   "metadata": {
    "papermill": {
     "duration": 0.016755,
     "end_time": "2025-07-30T21:35:52.461637",
     "exception": false,
     "start_time": "2025-07-30T21:35:52.444882",
     "status": "completed"
    },
    "tags": []
   },
   "outputs": [],
   "source": []
  }
 ],
 "metadata": {
  "celltoolbar": "Tags",
  "kernelspec": {
   "display_name": "Python (CMA Fairness)",
   "language": "python",
   "name": "cma_fair_env"
  },
  "language_info": {
   "codemirror_mode": {
    "name": "ipython",
    "version": 3
   },
   "file_extension": ".py",
   "mimetype": "text/x-python",
   "name": "python",
   "nbconvert_exporter": "python",
   "pygments_lexer": "ipython3",
   "version": "3.10.12"
  },
  "papermill": {
   "default_parameters": {},
   "duration": 44.881887,
   "end_time": "2025-07-30T21:35:53.095675",
   "environment_variables": {},
   "exception": null,
   "input_path": "universe_analysis.ipynb",
   "output_path": "output/runs/14/notebooks/m_14-2749fe78efb98cab0491f2294c38b8d2.ipynb",
   "parameters": {
    "output_dir": "output",
    "run_no": "14",
    "seed": "2023",
    "universe": "{\"cutoff\": [\"quantile_0.1\", \"quantile_0.25\"], \"eval_fairness_grouping\": [\"majority-minority\", \"nationality-all\"], \"exclude_features\": \"sex\", \"exclude_subgroups\": \"keep-all\", \"model\": \"rf\", \"scale\": \"scale\", \"training_size\": \"1k\", \"training_year\": \"2012_14\"}",
    "universe_id": "2749fe78efb98cab0491f2294c38b8d2"
   },
   "start_time": "2025-07-30T21:35:08.213788",
   "version": "2.6.0"
  }
 },
 "nbformat": 4,
 "nbformat_minor": 5
}