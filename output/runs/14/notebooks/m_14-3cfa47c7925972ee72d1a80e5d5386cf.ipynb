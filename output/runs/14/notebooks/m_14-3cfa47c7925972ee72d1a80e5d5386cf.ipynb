{
 "cells": [
  {
   "cell_type": "code",
   "execution_count": 1,
   "id": "f159f837-637b-42ba-96b5-ec9a68c44524",
   "metadata": {
    "execution": {
     "iopub.execute_input": "2025-07-30T21:38:16.229179Z",
     "iopub.status.busy": "2025-07-30T21:38:16.228523Z",
     "iopub.status.idle": "2025-07-30T21:38:16.243280Z",
     "shell.execute_reply": "2025-07-30T21:38:16.242340Z"
    },
    "papermill": {
     "duration": 0.039804,
     "end_time": "2025-07-30T21:38:16.245027",
     "exception": false,
     "start_time": "2025-07-30T21:38:16.205223",
     "status": "completed"
    },
    "tags": []
   },
   "outputs": [
    {
     "name": "stdout",
     "output_type": "stream",
     "text": [
      "/dss/dsshome1/0C/ra93lal2/cma/CMA_Fairness_v2\n"
     ]
    },
    {
     "name": "stderr",
     "output_type": "stream",
     "text": [
      "/dss/dsshome1/0C/ra93lal2/.local/share/virtualenvs/CMA_Fairness_v2-3j10GkSs/lib/python3.10/site-packages/IPython/core/magics/osm.py:393: UserWarning: This is now an optional IPython functionality, using bookmarks requires you to install the `pickleshare` library.\n",
      "  bkms = self.shell.db.get('bookmarks', {})\n",
      "/dss/dsshome1/0C/ra93lal2/.local/share/virtualenvs/CMA_Fairness_v2-3j10GkSs/lib/python3.10/site-packages/IPython/core/magics/osm.py:417: UserWarning: This is now an optional IPython functionality, setting dhist requires you to install the `pickleshare` library.\n",
      "  self.shell.db['dhist'] = compress_dhist(dhist)[-100:]\n"
     ]
    }
   ],
   "source": [
    "%cd ~/cma/CMA_Fairness_v2"
   ]
  },
  {
   "cell_type": "markdown",
   "id": "de2603b9",
   "metadata": {
    "papermill": {
     "duration": 0.018903,
     "end_time": "2025-07-30T21:38:16.284178",
     "exception": false,
     "start_time": "2025-07-30T21:38:16.265275",
     "status": "completed"
    },
    "tags": []
   },
   "source": [
    "The following cell holds the definition of our parameters, these values can be overriden by rendering the with e.g. the following command:\n",
    "\n",
    "papermill -p alpha 0.2 -p ratio 0.3 universe_analysis.ipynb output/test_run.ipynb"
   ]
  },
  {
   "cell_type": "code",
   "execution_count": 2,
   "id": "a80968a0-40bb-4fa9-85ef-2d5eefb01975",
   "metadata": {
    "execution": {
     "iopub.execute_input": "2025-07-30T21:38:16.325662Z",
     "iopub.status.busy": "2025-07-30T21:38:16.325218Z",
     "iopub.status.idle": "2025-07-30T21:38:16.330449Z",
     "shell.execute_reply": "2025-07-30T21:38:16.329560Z"
    },
    "papermill": {
     "duration": 0.028404,
     "end_time": "2025-07-30T21:38:16.331849",
     "exception": false,
     "start_time": "2025-07-30T21:38:16.303445",
     "status": "completed"
    },
    "tags": []
   },
   "outputs": [
    {
     "name": "stdout",
     "output_type": "stream",
     "text": [
      "Current working directory: /dss/dsshome1/0C/ra93lal2/cma/CMA_Fairness_v2\n"
     ]
    }
   ],
   "source": [
    "import os\n",
    "print(\"Current working directory:\", os.getcwd())"
   ]
  },
  {
   "cell_type": "code",
   "execution_count": 3,
   "id": "2dce4c03",
   "metadata": {
    "execution": {
     "iopub.execute_input": "2025-07-30T21:38:16.372190Z",
     "iopub.status.busy": "2025-07-30T21:38:16.371647Z",
     "iopub.status.idle": "2025-07-30T21:38:16.377763Z",
     "shell.execute_reply": "2025-07-30T21:38:16.376895Z"
    },
    "papermill": {
     "duration": 0.025891,
     "end_time": "2025-07-30T21:38:16.379330",
     "exception": false,
     "start_time": "2025-07-30T21:38:16.353439",
     "status": "completed"
    },
    "tags": [
     "parameters"
    ]
   },
   "outputs": [],
   "source": [
    "run_no = 0\n",
    "universe_id = \"test\"\n",
    "universe = {\n",
    "    \"training_size\": \"25k\", # \"25k\", \"5k\", \"1k\"\n",
    "    \"training_year\": \"2014\", # \"2014\", \"2012_14\", \"2010_14\"\n",
    "    \"scale\": \"scale\", # \"scale\", \"do-not-scale\",\n",
    "    #\"stratify_split\": \"target\", # \"none\", \"target\", \"protected-attribute\", \"both\",\n",
    "    \"model\": \"elasticnet\", # \"logreg\", \"penalized_logreg\", \"rf\", \"gbm\", \"elasticnet\"\n",
    "    \"cutoff\": [\"quantile_0.15\", \"quantile_0.30\"],\n",
    "    \"exclude_features\": \"age\", # \"none\", \"nationality\", \"sex\", \"nationality-sex\", \"age\"\n",
    "    \"exclude_subgroups\": \"keep-all\", # \"keep-all\", \"drop-non-german\"\n",
    "    \"eval_fairness_grouping\": [\"majority-minority\", \"nationality-all\"]\n",
    "}\n",
    "\n",
    "output_dir=\"./output\"\n",
    "seed=0"
   ]
  },
  {
   "cell_type": "code",
   "execution_count": 4,
   "id": "d7568083",
   "metadata": {
    "execution": {
     "iopub.execute_input": "2025-07-30T21:38:16.420975Z",
     "iopub.status.busy": "2025-07-30T21:38:16.420260Z",
     "iopub.status.idle": "2025-07-30T21:38:16.425374Z",
     "shell.execute_reply": "2025-07-30T21:38:16.424559Z"
    },
    "papermill": {
     "duration": 0.026875,
     "end_time": "2025-07-30T21:38:16.426841",
     "exception": false,
     "start_time": "2025-07-30T21:38:16.399966",
     "status": "completed"
    },
    "tags": [
     "injected-parameters"
    ]
   },
   "outputs": [],
   "source": [
    "# Parameters\n",
    "universe_id = \"3cfa47c7925972ee72d1a80e5d5386cf\"\n",
    "run_no = \"14\"\n",
    "universe = \"{\\\"cutoff\\\": [\\\"quantile_0.1\\\", \\\"quantile_0.25\\\"], \\\"eval_fairness_grouping\\\": [\\\"majority-minority\\\", \\\"nationality-all\\\"], \\\"exclude_features\\\": \\\"sex\\\", \\\"exclude_subgroups\\\": \\\"keep-all\\\", \\\"model\\\": \\\"logreg\\\", \\\"scale\\\": \\\"do-not-scale\\\", \\\"training_size\\\": \\\"1k\\\", \\\"training_year\\\": \\\"2012_14\\\"}\"\n",
    "output_dir = \"output\"\n",
    "seed = \"2023\"\n"
   ]
  },
  {
   "cell_type": "code",
   "execution_count": 5,
   "id": "1650acaf",
   "metadata": {
    "execution": {
     "iopub.execute_input": "2025-07-30T21:38:16.470010Z",
     "iopub.status.busy": "2025-07-30T21:38:16.469038Z",
     "iopub.status.idle": "2025-07-30T21:38:16.474184Z",
     "shell.execute_reply": "2025-07-30T21:38:16.473311Z"
    },
    "papermill": {
     "duration": 0.029244,
     "end_time": "2025-07-30T21:38:16.476141",
     "exception": false,
     "start_time": "2025-07-30T21:38:16.446897",
     "status": "completed"
    },
    "tags": []
   },
   "outputs": [],
   "source": [
    "import json\n",
    "# Parse universe into dict if it is passed as a string\n",
    "if isinstance(universe, str):\n",
    "    universe = json.loads(universe)"
   ]
  },
  {
   "cell_type": "code",
   "execution_count": 6,
   "id": "16620c48",
   "metadata": {
    "execution": {
     "iopub.execute_input": "2025-07-30T21:38:16.517050Z",
     "iopub.status.busy": "2025-07-30T21:38:16.516174Z",
     "iopub.status.idle": "2025-07-30T21:38:16.560971Z",
     "shell.execute_reply": "2025-07-30T21:38:16.559764Z"
    },
    "papermill": {
     "duration": 0.066841,
     "end_time": "2025-07-30T21:38:16.562741",
     "exception": false,
     "start_time": "2025-07-30T21:38:16.495900",
     "status": "completed"
    },
    "tags": []
   },
   "outputs": [],
   "source": [
    "# Auto-reload the custom package\n",
    "%load_ext autoreload\n",
    "%autoreload 1\n",
    "%aimport fairness_multiverse"
   ]
  },
  {
   "cell_type": "code",
   "execution_count": 7,
   "id": "01c5c9f3",
   "metadata": {
    "execution": {
     "iopub.execute_input": "2025-07-30T21:38:16.602065Z",
     "iopub.status.busy": "2025-07-30T21:38:16.601202Z",
     "iopub.status.idle": "2025-07-30T21:38:18.424465Z",
     "shell.execute_reply": "2025-07-30T21:38:18.423384Z"
    },
    "papermill": {
     "duration": 1.844739,
     "end_time": "2025-07-30T21:38:18.426582",
     "exception": false,
     "start_time": "2025-07-30T21:38:16.581843",
     "status": "completed"
    },
    "tags": []
   },
   "outputs": [],
   "source": [
    "from fairness_multiverse.universe import UniverseAnalysis\n",
    "\n",
    "universe_analysis = UniverseAnalysis(\n",
    "    run_no = run_no,\n",
    "    universe_id = universe_id,\n",
    "    universe = universe,\n",
    "    output_dir=output_dir,\n",
    ")"
   ]
  },
  {
   "cell_type": "code",
   "execution_count": 8,
   "id": "106241f5",
   "metadata": {
    "execution": {
     "iopub.execute_input": "2025-07-30T21:38:18.472333Z",
     "iopub.status.busy": "2025-07-30T21:38:18.471390Z",
     "iopub.status.idle": "2025-07-30T21:38:18.478371Z",
     "shell.execute_reply": "2025-07-30T21:38:18.477382Z"
    },
    "papermill": {
     "duration": 0.031092,
     "end_time": "2025-07-30T21:38:18.479949",
     "exception": false,
     "start_time": "2025-07-30T21:38:18.448857",
     "status": "completed"
    },
    "tags": []
   },
   "outputs": [
    {
     "name": "stdout",
     "output_type": "stream",
     "text": [
      "Using Seed: 2023\n"
     ]
    }
   ],
   "source": [
    "import numpy as np\n",
    "parsed_seed = int(seed)\n",
    "np.random.seed(parsed_seed)\n",
    "print(f\"Using Seed: {parsed_seed}\")"
   ]
  },
  {
   "cell_type": "markdown",
   "id": "e0ebdc57",
   "metadata": {
    "papermill": {
     "duration": 0.021473,
     "end_time": "2025-07-30T21:38:18.523710",
     "exception": false,
     "start_time": "2025-07-30T21:38:18.502237",
     "status": "completed"
    },
    "tags": []
   },
   "source": [
    "# Loading Data"
   ]
  },
  {
   "cell_type": "markdown",
   "id": "681925a3",
   "metadata": {
    "papermill": {
     "duration": 0.022446,
     "end_time": "2025-07-30T21:38:18.567640",
     "exception": false,
     "start_time": "2025-07-30T21:38:18.545194",
     "status": "completed"
    },
    "tags": []
   },
   "source": [
    "Load siab_train, siab_test, siab_calib and/or \n",
    "load siab_train_features, siab_train_labels"
   ]
  },
  {
   "cell_type": "code",
   "execution_count": 9,
   "id": "f0496b8a",
   "metadata": {
    "execution": {
     "iopub.execute_input": "2025-07-30T21:38:18.612692Z",
     "iopub.status.busy": "2025-07-30T21:38:18.612276Z",
     "iopub.status.idle": "2025-07-30T21:38:30.039093Z",
     "shell.execute_reply": "2025-07-30T21:38:30.037924Z"
    },
    "papermill": {
     "duration": 11.451672,
     "end_time": "2025-07-30T21:38:30.040932",
     "exception": false,
     "start_time": "2025-07-30T21:38:18.589260",
     "status": "completed"
    },
    "tags": []
   },
   "outputs": [
    {
     "name": "stdout",
     "output_type": "stream",
     "text": [
      "Loading SIAB data from cache: data/siab_cached.csv.gz\n"
     ]
    },
    {
     "name": "stdout",
     "output_type": "stream",
     "text": [
      "(643690, 164)\n"
     ]
    }
   ],
   "source": [
    "from pathlib import Path\n",
    "import pandas as pd\n",
    "\n",
    "# File paths\n",
    "raw_file = Path(\"data/raw/siab.csv\")\n",
    "cache_file = Path(\"data/siab_cached.csv.gz\")\n",
    "\n",
    "# Ensure cache directory exists\n",
    "cache_file.parent.mkdir(parents=True, exist_ok=True)\n",
    "\n",
    "# Load with simple caching\n",
    "if cache_file.exists():\n",
    "    print(f\"Loading SIAB data from cache: {cache_file}\")\n",
    "    siab = pd.read_csv(cache_file, compression='gzip')\n",
    "else:\n",
    "    print(f\"Cache not found. Reading raw SIAB data: {raw_file}\")\n",
    "    siab = pd.read_csv(raw_file)\n",
    "    siab.to_csv(cache_file, index=False, compression='gzip')\n",
    "    print(f\"Cached SIAB data to: {cache_file}\")\n",
    "\n",
    "# Now use `siab` DataFrame as needed\n",
    "print(siab.shape)"
   ]
  },
  {
   "cell_type": "code",
   "execution_count": 10,
   "id": "db0ca512-5f53-4dba-abdb-a2888bca41ba",
   "metadata": {
    "execution": {
     "iopub.execute_input": "2025-07-30T21:38:30.090402Z",
     "iopub.status.busy": "2025-07-30T21:38:30.089656Z",
     "iopub.status.idle": "2025-07-30T21:38:30.096795Z",
     "shell.execute_reply": "2025-07-30T21:38:30.094831Z"
    },
    "papermill": {
     "duration": 0.032939,
     "end_time": "2025-07-30T21:38:30.100322",
     "exception": false,
     "start_time": "2025-07-30T21:38:30.067383",
     "status": "completed"
    },
    "tags": []
   },
   "outputs": [],
   "source": [
    "#siab"
   ]
  },
  {
   "cell_type": "code",
   "execution_count": 11,
   "id": "a0edb063",
   "metadata": {
    "execution": {
     "iopub.execute_input": "2025-07-30T21:38:30.146933Z",
     "iopub.status.busy": "2025-07-30T21:38:30.146440Z",
     "iopub.status.idle": "2025-07-30T21:38:30.151868Z",
     "shell.execute_reply": "2025-07-30T21:38:30.150941Z"
    },
    "papermill": {
     "duration": 0.030627,
     "end_time": "2025-07-30T21:38:30.153748",
     "exception": false,
     "start_time": "2025-07-30T21:38:30.123121",
     "status": "completed"
    },
    "tags": []
   },
   "outputs": [],
   "source": [
    "#import pandas as pd\n",
    "#\n",
    "#X_train = pd.read_csv(\"./data/X_train.csv\")\n",
    "#y_train = pd.read_csv(\"./data/y_train.csv\")"
   ]
  },
  {
   "cell_type": "code",
   "execution_count": 12,
   "id": "63d08085",
   "metadata": {
    "execution": {
     "iopub.execute_input": "2025-07-30T21:38:30.197613Z",
     "iopub.status.busy": "2025-07-30T21:38:30.197176Z",
     "iopub.status.idle": "2025-07-30T21:38:30.202728Z",
     "shell.execute_reply": "2025-07-30T21:38:30.201771Z"
    },
    "papermill": {
     "duration": 0.030263,
     "end_time": "2025-07-30T21:38:30.204468",
     "exception": false,
     "start_time": "2025-07-30T21:38:30.174205",
     "status": "completed"
    },
    "tags": []
   },
   "outputs": [],
   "source": [
    "#X_test = pd.read_csv(\"./data/X_test.csv\")\n",
    "#y_true = pd.read_csv(\"./data/y_test.csv\")"
   ]
  },
  {
   "cell_type": "code",
   "execution_count": 13,
   "id": "98a8d0fa-1d3d-4ed8-bb2c-281470e24add",
   "metadata": {
    "execution": {
     "iopub.execute_input": "2025-07-30T21:38:30.249186Z",
     "iopub.status.busy": "2025-07-30T21:38:30.248403Z",
     "iopub.status.idle": "2025-07-30T21:38:30.253961Z",
     "shell.execute_reply": "2025-07-30T21:38:30.253034Z"
    },
    "papermill": {
     "duration": 0.03188,
     "end_time": "2025-07-30T21:38:30.255751",
     "exception": false,
     "start_time": "2025-07-30T21:38:30.223871",
     "status": "completed"
    },
    "tags": []
   },
   "outputs": [],
   "source": [
    "# Calibration data for conformal\n",
    "#X_calib = pd.read_csv(\"./data/X_calib.csv\")\n",
    "#y_calib = pd.read_csv(\"./data/y_calib.csv\")"
   ]
  },
  {
   "cell_type": "markdown",
   "id": "997051c5-15bd-4b69-9786-c3001a3ce484",
   "metadata": {
    "papermill": {
     "duration": 0.015088,
     "end_time": "2025-07-30T21:38:30.293679",
     "exception": false,
     "start_time": "2025-07-30T21:38:30.278591",
     "status": "completed"
    },
    "tags": []
   },
   "source": [
    "# Splitting Data and Setting Training Data Size"
   ]
  },
  {
   "cell_type": "code",
   "execution_count": 14,
   "id": "e993b61f-042d-41a6-8c81-f55681f86335",
   "metadata": {
    "execution": {
     "iopub.execute_input": "2025-07-30T21:38:30.333634Z",
     "iopub.status.busy": "2025-07-30T21:38:30.333117Z",
     "iopub.status.idle": "2025-07-30T21:38:30.346390Z",
     "shell.execute_reply": "2025-07-30T21:38:30.345431Z"
    },
    "papermill": {
     "duration": 0.037172,
     "end_time": "2025-07-30T21:38:30.347907",
     "exception": false,
     "start_time": "2025-07-30T21:38:30.310735",
     "status": "completed"
    },
    "tags": []
   },
   "outputs": [],
   "source": [
    "def sample_by_year_size(df,\n",
    "                        training_year: str,\n",
    "                        training_size: str,\n",
    "                        random_state: int = 42):\n",
    "    # --- parse training_year into a list of int years ---\n",
    "    if \"_\" in training_year:\n",
    "        start_str, end_str = training_year.split(\"_\", 1)\n",
    "        start = int(start_str)\n",
    "        end   = int(end_str) if len(end_str) == 4 else (int(end_str) + (start // 100)*100)\n",
    "        years = list(range(start, end + 1))\n",
    "    else:\n",
    "        years = [int(training_year)]\n",
    "\n",
    "    df = df[df[\"year\"].isin(years)].reset_index(drop=True)\n",
    "\n",
    "    # --- map training_size to total number of samples ---\n",
    "    total_map = {\"25k\": 25_000, \"5k\": 5_000, \"1k\": 1_000}\n",
    "    if training_size not in total_map:\n",
    "        return df  # e.g. \"all\"\n",
    "\n",
    "    total_samples = total_map[training_size]\n",
    "    n_years       = len(years)\n",
    "    base          = total_samples // n_years\n",
    "    remainder     = total_samples % n_years\n",
    "\n",
    "    # --- build a dict: year -> how many to sample ---\n",
    "    # give +1 to the first `remainder` years in ascending order\n",
    "    quotas = {\n",
    "        year: base + (1 if idx < remainder else 0)\n",
    "        for idx, year in enumerate(sorted(years))\n",
    "    }\n",
    "\n",
    "    # --- sample per‐year according to the quota dict ---\n",
    "    sampled = (\n",
    "        df\n",
    "        .groupby(\"year\", group_keys=False)\n",
    "        .apply(lambda grp: grp.sample(\n",
    "            n=min(len(grp), quotas[grp.name]),\n",
    "            random_state=random_state))\n",
    "        .reset_index(drop=True)\n",
    "    )\n",
    "\n",
    "    return sampled"
   ]
  },
  {
   "cell_type": "code",
   "execution_count": 15,
   "id": "c0ccd338-0e02-41f3-a09d-f56f9266e3fb",
   "metadata": {
    "execution": {
     "iopub.execute_input": "2025-07-30T21:38:30.393835Z",
     "iopub.status.busy": "2025-07-30T21:38:30.392964Z",
     "iopub.status.idle": "2025-07-30T21:38:30.397865Z",
     "shell.execute_reply": "2025-07-30T21:38:30.396861Z"
    },
    "papermill": {
     "duration": 0.029331,
     "end_time": "2025-07-30T21:38:30.399848",
     "exception": false,
     "start_time": "2025-07-30T21:38:30.370517",
     "status": "completed"
    },
    "tags": []
   },
   "outputs": [],
   "source": [
    "#universe[\"training_size\"]"
   ]
  },
  {
   "cell_type": "code",
   "execution_count": 16,
   "id": "ca707fd7-8047-4acd-bfa5-66248fbbf8e6",
   "metadata": {
    "execution": {
     "iopub.execute_input": "2025-07-30T21:38:30.440651Z",
     "iopub.status.busy": "2025-07-30T21:38:30.440167Z",
     "iopub.status.idle": "2025-07-30T21:38:30.445247Z",
     "shell.execute_reply": "2025-07-30T21:38:30.444271Z"
    },
    "papermill": {
     "duration": 0.034678,
     "end_time": "2025-07-30T21:38:30.454587",
     "exception": false,
     "start_time": "2025-07-30T21:38:30.419909",
     "status": "completed"
    },
    "tags": []
   },
   "outputs": [],
   "source": [
    "#universe[\"training_year\"]"
   ]
  },
  {
   "cell_type": "code",
   "execution_count": 17,
   "id": "aea9c6ef-6f46-42c8-85eb-5a62025c1508",
   "metadata": {
    "execution": {
     "iopub.execute_input": "2025-07-30T21:38:30.501345Z",
     "iopub.status.busy": "2025-07-30T21:38:30.500836Z",
     "iopub.status.idle": "2025-07-30T21:38:31.089606Z",
     "shell.execute_reply": "2025-07-30T21:38:31.088735Z"
    },
    "papermill": {
     "duration": 0.612893,
     "end_time": "2025-07-30T21:38:31.091121",
     "exception": false,
     "start_time": "2025-07-30T21:38:30.478228",
     "status": "completed"
    },
    "tags": []
   },
   "outputs": [],
   "source": [
    "siab_train = sample_by_year_size(siab,\n",
    "                               training_year=universe[\"training_year\"],\n",
    "                               training_size=universe[\"training_size\"])"
   ]
  },
  {
   "cell_type": "code",
   "execution_count": 18,
   "id": "8d3afb32-789d-442c-8d5d-9f5aa8dd2eed",
   "metadata": {
    "execution": {
     "iopub.execute_input": "2025-07-30T21:38:31.136921Z",
     "iopub.status.busy": "2025-07-30T21:38:31.136333Z",
     "iopub.status.idle": "2025-07-30T21:38:31.141214Z",
     "shell.execute_reply": "2025-07-30T21:38:31.140344Z"
    },
    "papermill": {
     "duration": 0.028564,
     "end_time": "2025-07-30T21:38:31.142805",
     "exception": false,
     "start_time": "2025-07-30T21:38:31.114241",
     "status": "completed"
    },
    "tags": []
   },
   "outputs": [],
   "source": [
    "#siab_train.shape"
   ]
  },
  {
   "cell_type": "code",
   "execution_count": 19,
   "id": "d582db68-1a4c-47fb-84fc-08518dc1975a",
   "metadata": {
    "execution": {
     "iopub.execute_input": "2025-07-30T21:38:31.185217Z",
     "iopub.status.busy": "2025-07-30T21:38:31.184529Z",
     "iopub.status.idle": "2025-07-30T21:38:31.189904Z",
     "shell.execute_reply": "2025-07-30T21:38:31.189064Z"
    },
    "papermill": {
     "duration": 0.028514,
     "end_time": "2025-07-30T21:38:31.191419",
     "exception": false,
     "start_time": "2025-07-30T21:38:31.162905",
     "status": "completed"
    },
    "tags": []
   },
   "outputs": [],
   "source": [
    "#display(siab_train.groupby(\"year\").size())"
   ]
  },
  {
   "cell_type": "code",
   "execution_count": 20,
   "id": "a561edb4-d032-42cb-8256-22eac1111c64",
   "metadata": {
    "execution": {
     "iopub.execute_input": "2025-07-30T21:38:31.232791Z",
     "iopub.status.busy": "2025-07-30T21:38:31.232280Z",
     "iopub.status.idle": "2025-07-30T21:38:31.483925Z",
     "shell.execute_reply": "2025-07-30T21:38:31.483006Z"
    },
    "papermill": {
     "duration": 0.27496,
     "end_time": "2025-07-30T21:38:31.485725",
     "exception": false,
     "start_time": "2025-07-30T21:38:31.210765",
     "status": "completed"
    },
    "tags": []
   },
   "outputs": [],
   "source": [
    "#siab_train = siab_s[siab_s.year < 2015]\n",
    "siab_calib = siab[siab.year == 2015]\n",
    "siab_test = siab[siab.year == 2016]"
   ]
  },
  {
   "cell_type": "code",
   "execution_count": 21,
   "id": "472de16f-c3db-4916-846b-1f0de9cf1746",
   "metadata": {
    "execution": {
     "iopub.execute_input": "2025-07-30T21:38:31.528495Z",
     "iopub.status.busy": "2025-07-30T21:38:31.528143Z",
     "iopub.status.idle": "2025-07-30T21:38:31.534233Z",
     "shell.execute_reply": "2025-07-30T21:38:31.533361Z"
    },
    "papermill": {
     "duration": 0.031532,
     "end_time": "2025-07-30T21:38:31.537054",
     "exception": false,
     "start_time": "2025-07-30T21:38:31.505522",
     "status": "completed"
    },
    "tags": []
   },
   "outputs": [],
   "source": [
    "X_train = siab_train.iloc[:,4:164]\n",
    "y_train = siab_train.iloc[:, [3]]"
   ]
  },
  {
   "cell_type": "code",
   "execution_count": 22,
   "id": "828c96af-f43a-4ed6-ba47-8ac73a47d56c",
   "metadata": {
    "execution": {
     "iopub.execute_input": "2025-07-30T21:38:31.580460Z",
     "iopub.status.busy": "2025-07-30T21:38:31.579875Z",
     "iopub.status.idle": "2025-07-30T21:38:31.630032Z",
     "shell.execute_reply": "2025-07-30T21:38:31.629054Z"
    },
    "papermill": {
     "duration": 0.074273,
     "end_time": "2025-07-30T21:38:31.631867",
     "exception": false,
     "start_time": "2025-07-30T21:38:31.557594",
     "status": "completed"
    },
    "tags": []
   },
   "outputs": [],
   "source": [
    "X_calib = siab_calib.iloc[:,4:164]\n",
    "y_calib = siab_calib.iloc[:, [3]]"
   ]
  },
  {
   "cell_type": "code",
   "execution_count": 23,
   "id": "c34be9c3-6bd6-476e-acd3-845840e303be",
   "metadata": {
    "execution": {
     "iopub.execute_input": "2025-07-30T21:38:31.677495Z",
     "iopub.status.busy": "2025-07-30T21:38:31.676837Z",
     "iopub.status.idle": "2025-07-30T21:38:31.727780Z",
     "shell.execute_reply": "2025-07-30T21:38:31.726749Z"
    },
    "papermill": {
     "duration": 0.075178,
     "end_time": "2025-07-30T21:38:31.729660",
     "exception": false,
     "start_time": "2025-07-30T21:38:31.654482",
     "status": "completed"
    },
    "tags": []
   },
   "outputs": [],
   "source": [
    "X_test = siab_test.iloc[:,4:164]\n",
    "y_true = siab_test.iloc[:, [3]]"
   ]
  },
  {
   "cell_type": "markdown",
   "id": "9901737e-04df-44f0-9100-f5ad144ed040",
   "metadata": {
    "papermill": {
     "duration": 0.02122,
     "end_time": "2025-07-30T21:38:31.772986",
     "exception": false,
     "start_time": "2025-07-30T21:38:31.751766",
     "status": "completed"
    },
    "tags": []
   },
   "source": [
    "# Splitting Data and Setting Training Data Size OLD VERSION"
   ]
  },
  {
   "cell_type": "code",
   "execution_count": 24,
   "id": "acbc8f7d-8fc8-4e86-8c59-5dcb0f58384b",
   "metadata": {
    "execution": {
     "iopub.execute_input": "2025-07-30T21:38:31.816730Z",
     "iopub.status.busy": "2025-07-30T21:38:31.816261Z",
     "iopub.status.idle": "2025-07-30T21:38:31.821583Z",
     "shell.execute_reply": "2025-07-30T21:38:31.820679Z"
    },
    "papermill": {
     "duration": 0.028734,
     "end_time": "2025-07-30T21:38:31.823087",
     "exception": false,
     "start_time": "2025-07-30T21:38:31.794353",
     "status": "completed"
    },
    "tags": []
   },
   "outputs": [],
   "source": [
    "#def sample_by_year(df, training_size, random_state=42):\n",
    "#    if training_size == \"2014\":\n",
    "#        return df[df[\"year\"] == 2014].reset_index(drop=True)\n",
    "#    \n",
    "#    size_map = {\n",
    "#        \"25k\": 5000,\n",
    "#        \"5k\": 1000,\n",
    "#        \"1k\": 200\n",
    "#    }\n",
    "#\n",
    "#    if training_size not in size_map:\n",
    "#        return df.reset_index(drop=True)  # use all data\n",
    "#\n",
    "#    n_per_year = size_map[training_size]\n",
    "#    grouped = df.groupby(\"year\")\n",
    "#    sampled = grouped.apply(lambda x: x.sample(n=min(n_per_year, len(x)), random_state=random_state))\n",
    "#    return sampled.reset_index(drop=True)"
   ]
  },
  {
   "cell_type": "code",
   "execution_count": 25,
   "id": "6d931f52-beaf-43ff-9e78-9d44a448d54e",
   "metadata": {
    "execution": {
     "iopub.execute_input": "2025-07-30T21:38:31.865740Z",
     "iopub.status.busy": "2025-07-30T21:38:31.865323Z",
     "iopub.status.idle": "2025-07-30T21:38:31.870233Z",
     "shell.execute_reply": "2025-07-30T21:38:31.869268Z"
    },
    "papermill": {
     "duration": 0.027783,
     "end_time": "2025-07-30T21:38:31.871823",
     "exception": false,
     "start_time": "2025-07-30T21:38:31.844040",
     "status": "completed"
    },
    "tags": []
   },
   "outputs": [],
   "source": [
    "#siab_s = sample_by_year(siab, universe[\"training_size\"])"
   ]
  },
  {
   "cell_type": "code",
   "execution_count": 26,
   "id": "5db0a40e-a4e2-4920-be85-b12ae061d70d",
   "metadata": {
    "execution": {
     "iopub.execute_input": "2025-07-30T21:38:31.915218Z",
     "iopub.status.busy": "2025-07-30T21:38:31.914785Z",
     "iopub.status.idle": "2025-07-30T21:38:31.920056Z",
     "shell.execute_reply": "2025-07-30T21:38:31.919026Z"
    },
    "papermill": {
     "duration": 0.028049,
     "end_time": "2025-07-30T21:38:31.921686",
     "exception": false,
     "start_time": "2025-07-30T21:38:31.893637",
     "status": "completed"
    },
    "tags": []
   },
   "outputs": [],
   "source": [
    "#display(siab_s.groupby(\"year\").size())"
   ]
  },
  {
   "cell_type": "code",
   "execution_count": 27,
   "id": "e6c733c5",
   "metadata": {
    "execution": {
     "iopub.execute_input": "2025-07-30T21:38:31.966381Z",
     "iopub.status.busy": "2025-07-30T21:38:31.965971Z",
     "iopub.status.idle": "2025-07-30T21:38:32.059569Z",
     "shell.execute_reply": "2025-07-30T21:38:32.058689Z"
    },
    "papermill": {
     "duration": 0.117344,
     "end_time": "2025-07-30T21:38:32.061459",
     "exception": false,
     "start_time": "2025-07-30T21:38:31.944115",
     "status": "completed"
    },
    "tags": []
   },
   "outputs": [],
   "source": [
    "# Auxiliary data needed downstream in the pipeline\n",
    "\n",
    "org_train = X_train.copy()\n",
    "org_test = X_test.copy()\n",
    "org_calib = X_calib.copy()"
   ]
  },
  {
   "cell_type": "code",
   "execution_count": 28,
   "id": "1466abac-c6da-4492-a62f-4240ae3783af",
   "metadata": {
    "execution": {
     "iopub.execute_input": "2025-07-30T21:38:32.107016Z",
     "iopub.status.busy": "2025-07-30T21:38:32.106224Z",
     "iopub.status.idle": "2025-07-30T21:38:32.112081Z",
     "shell.execute_reply": "2025-07-30T21:38:32.111265Z"
    },
    "papermill": {
     "duration": 0.030046,
     "end_time": "2025-07-30T21:38:32.113711",
     "exception": false,
     "start_time": "2025-07-30T21:38:32.083665",
     "status": "completed"
    },
    "tags": []
   },
   "outputs": [],
   "source": [
    "# put in other script?\n",
    "# Group sizes\n",
    "\n",
    "#def calculate_percentages(df, df_name):\n",
    "#    total_entries = len(df)\n",
    "#\n",
    "#    female_pct = (df['frau1'] == 1).mean() * 100\n",
    "#    non_german_pct = ((df['maxdeutsch1'] == 0) & (df['maxdeutsch.Missing.'] == 0)).mean() * 100\n",
    "#    non_german_male_pct = ((df['frau1'] == 0) & (df['maxdeutsch1'] == 0) & (df['maxdeutsch.Missing.'] == 0)).mean() * 100\n",
    "#    non_german_female_pct = ((df['frau1'] == 1) & (df['maxdeutsch1'] == 0) & (df['maxdeutsch.Missing.'] == 0)).mean() * 100\n",
    "#\n",
    "#    print(f\"--- {df_name} ---\")\n",
    "#    print(f\"Female: {female_pct:.2f}%\")\n",
    "#    print(f\"Non-German: {non_german_pct:.2f}%\")\n",
    "#    print(f\"Non-German Male: {non_german_male_pct:.2f}%\")\n",
    "#    print(f\"Non-German Female: {non_german_female_pct:.2f}%\\n\")\n",
    "#\n",
    "## Calculate for each DataFrame\n",
    "#calculate_percentages(siab_calib, \"siab_calib\")\n",
    "#calculate_percentages(siab_test, \"siab_test\")\n",
    "#calculate_percentages(siab_train, \"siab_train\")"
   ]
  },
  {
   "cell_type": "markdown",
   "id": "0a4a1b33",
   "metadata": {
    "papermill": {
     "duration": 0.019721,
     "end_time": "2025-07-30T21:38:32.153174",
     "exception": false,
     "start_time": "2025-07-30T21:38:32.133453",
     "status": "completed"
    },
    "tags": []
   },
   "source": [
    "# Preprocessing Data"
   ]
  },
  {
   "cell_type": "code",
   "execution_count": 29,
   "id": "ca879031",
   "metadata": {
    "execution": {
     "iopub.execute_input": "2025-07-30T21:38:32.195160Z",
     "iopub.status.busy": "2025-07-30T21:38:32.194356Z",
     "iopub.status.idle": "2025-07-30T21:38:32.200835Z",
     "shell.execute_reply": "2025-07-30T21:38:32.199962Z"
    },
    "papermill": {
     "duration": 0.029543,
     "end_time": "2025-07-30T21:38:32.202306",
     "exception": false,
     "start_time": "2025-07-30T21:38:32.172763",
     "status": "completed"
    },
    "tags": []
   },
   "outputs": [],
   "source": [
    "# EXCLUDE PROTECTED FEATURES\n",
    "# ----------------------\n",
    "# \"exclude_features\": \"none\", # \"nationality\", \"sex\", \"nationality-sex\"\n",
    "\n",
    "excluded_features = universe[\"exclude_features\"].split(\"-\") # split, e.g.: \"nationality-sex\" -> [\"nationality\", \"sex\"]\n",
    "excluded_features_dictionary = {\n",
    "    \"nationality\": [\"maxdeutsch1\", \"maxdeutsch.Missing.\"],\n",
    "    \"sex\": [\"frau1\"],\n",
    "    \"age\": [\"age\"],\n",
    "}\n"
   ]
  },
  {
   "cell_type": "code",
   "execution_count": 30,
   "id": "b745ac60",
   "metadata": {
    "execution": {
     "iopub.execute_input": "2025-07-30T21:38:32.243863Z",
     "iopub.status.busy": "2025-07-30T21:38:32.243365Z",
     "iopub.status.idle": "2025-07-30T21:38:32.248693Z",
     "shell.execute_reply": "2025-07-30T21:38:32.247720Z"
    },
    "papermill": {
     "duration": 0.027788,
     "end_time": "2025-07-30T21:38:32.250366",
     "exception": false,
     "start_time": "2025-07-30T21:38:32.222578",
     "status": "completed"
    },
    "tags": []
   },
   "outputs": [],
   "source": [
    "# Code nice names to column names\n",
    "\n",
    "excluded_features_columns = [\n",
    "    excluded_features_dictionary[f] for f in excluded_features if len(f) > 0 and f != \"none\"\n",
    "]"
   ]
  },
  {
   "cell_type": "code",
   "execution_count": 31,
   "id": "f84f73a2",
   "metadata": {
    "execution": {
     "iopub.execute_input": "2025-07-30T21:38:32.295868Z",
     "iopub.status.busy": "2025-07-30T21:38:32.295376Z",
     "iopub.status.idle": "2025-07-30T21:38:32.301694Z",
     "shell.execute_reply": "2025-07-30T21:38:32.300791Z"
    },
    "papermill": {
     "duration": 0.030614,
     "end_time": "2025-07-30T21:38:32.303326",
     "exception": false,
     "start_time": "2025-07-30T21:38:32.272712",
     "status": "completed"
    },
    "tags": []
   },
   "outputs": [],
   "source": [
    "from utils import flatten_once\n",
    "\n",
    "excluded_features_columns = flatten_once(excluded_features_columns)"
   ]
  },
  {
   "cell_type": "code",
   "execution_count": 32,
   "id": "884dea22",
   "metadata": {
    "execution": {
     "iopub.execute_input": "2025-07-30T21:38:32.348683Z",
     "iopub.status.busy": "2025-07-30T21:38:32.348191Z",
     "iopub.status.idle": "2025-07-30T21:38:32.356538Z",
     "shell.execute_reply": "2025-07-30T21:38:32.355538Z"
    },
    "papermill": {
     "duration": 0.032792,
     "end_time": "2025-07-30T21:38:32.358115",
     "exception": false,
     "start_time": "2025-07-30T21:38:32.325323",
     "status": "completed"
    },
    "tags": []
   },
   "outputs": [
    {
     "name": "stdout",
     "output_type": "stream",
     "text": [
      "Dropping features: ['frau1']\n"
     ]
    }
   ],
   "source": [
    "if len(excluded_features_columns) > 0:\n",
    "    print(f\"Dropping features: {excluded_features_columns}\")\n",
    "    X_train.drop(excluded_features_columns, axis=1, inplace=True)"
   ]
  },
  {
   "cell_type": "code",
   "execution_count": 33,
   "id": "95ab8b16",
   "metadata": {
    "execution": {
     "iopub.execute_input": "2025-07-30T21:38:32.403828Z",
     "iopub.status.busy": "2025-07-30T21:38:32.403457Z",
     "iopub.status.idle": "2025-07-30T21:38:32.459293Z",
     "shell.execute_reply": "2025-07-30T21:38:32.458251Z"
    },
    "papermill": {
     "duration": 0.081251,
     "end_time": "2025-07-30T21:38:32.461057",
     "exception": false,
     "start_time": "2025-07-30T21:38:32.379806",
     "status": "completed"
    },
    "tags": []
   },
   "outputs": [
    {
     "name": "stdout",
     "output_type": "stream",
     "text": [
      "Dropping features: ['frau1']\n"
     ]
    }
   ],
   "source": [
    "if len(excluded_features_columns) > 0:\n",
    "    print(f\"Dropping features: {excluded_features_columns}\")\n",
    "    X_test.drop(excluded_features_columns, axis=1, inplace=True)"
   ]
  },
  {
   "cell_type": "code",
   "execution_count": 34,
   "id": "1853aaf5-fb9f-46cb-a2b5-8ea4ae2237e4",
   "metadata": {
    "execution": {
     "iopub.execute_input": "2025-07-30T21:38:32.498493Z",
     "iopub.status.busy": "2025-07-30T21:38:32.497734Z",
     "iopub.status.idle": "2025-07-30T21:38:32.547545Z",
     "shell.execute_reply": "2025-07-30T21:38:32.546668Z"
    },
    "papermill": {
     "duration": 0.06531,
     "end_time": "2025-07-30T21:38:32.549409",
     "exception": false,
     "start_time": "2025-07-30T21:38:32.484099",
     "status": "completed"
    },
    "tags": []
   },
   "outputs": [
    {
     "name": "stdout",
     "output_type": "stream",
     "text": [
      "Dropping features: ['frau1']\n"
     ]
    }
   ],
   "source": [
    "if len(excluded_features_columns) > 0:\n",
    "    print(f\"Dropping features: {excluded_features_columns}\")\n",
    "    X_calib.drop(excluded_features_columns, axis=1, inplace=True)"
   ]
  },
  {
   "cell_type": "code",
   "execution_count": 35,
   "id": "6727d079-03e5-481e-9d38-292a90b7a0a8",
   "metadata": {
    "execution": {
     "iopub.execute_input": "2025-07-30T21:38:32.598752Z",
     "iopub.status.busy": "2025-07-30T21:38:32.598013Z",
     "iopub.status.idle": "2025-07-30T21:38:32.602996Z",
     "shell.execute_reply": "2025-07-30T21:38:32.602136Z"
    },
    "papermill": {
     "duration": 0.0319,
     "end_time": "2025-07-30T21:38:32.604595",
     "exception": false,
     "start_time": "2025-07-30T21:38:32.572695",
     "status": "completed"
    },
    "tags": []
   },
   "outputs": [],
   "source": [
    "# SPLIT & STRATIFY DATA\n",
    "# ----------------------"
   ]
  },
  {
   "cell_type": "code",
   "execution_count": 36,
   "id": "76c4dc6d",
   "metadata": {
    "execution": {
     "iopub.execute_input": "2025-07-30T21:38:32.653739Z",
     "iopub.status.busy": "2025-07-30T21:38:32.653333Z",
     "iopub.status.idle": "2025-07-30T21:38:32.658242Z",
     "shell.execute_reply": "2025-07-30T21:38:32.657296Z"
    },
    "papermill": {
     "duration": 0.031448,
     "end_time": "2025-07-30T21:38:32.659814",
     "exception": false,
     "start_time": "2025-07-30T21:38:32.628366",
     "status": "completed"
    },
    "tags": []
   },
   "outputs": [],
   "source": [
    "# EXCLUDE CERTAIN SUBGROUPS\n",
    "# ----------------------\n",
    "\n",
    "mode = universe.get(\"exclude_subgroups\", \"keep-all\") \n",
    "# Fetches the exclude_subgroups setting from the universe dict.\n",
    "# Defaults to \"keep-all\" if the key is missing."
   ]
  },
  {
   "cell_type": "code",
   "execution_count": 37,
   "id": "21994072",
   "metadata": {
    "execution": {
     "iopub.execute_input": "2025-07-30T21:38:32.708688Z",
     "iopub.status.busy": "2025-07-30T21:38:32.708176Z",
     "iopub.status.idle": "2025-07-30T21:38:32.715392Z",
     "shell.execute_reply": "2025-07-30T21:38:32.714355Z"
    },
    "papermill": {
     "duration": 0.033702,
     "end_time": "2025-07-30T21:38:32.717333",
     "exception": false,
     "start_time": "2025-07-30T21:38:32.683631",
     "status": "completed"
    },
    "tags": []
   },
   "outputs": [],
   "source": [
    "if mode == \"keep-all\":\n",
    "    keep_mask = pd.Series(True, index=org_train.index)\n",
    "\n",
    "# org_train contains the original feature columns from features_org (in Simson)\n",
    "# features_org contains unprocessed features, for me X_train at beginning ???\n",
    "# For keep-all, creates a boolean Series (keep_mask) of all True, so no rows are removed.\n",
    "\n",
    "elif mode == \"drop-non-german\":\n",
    "    keep_mask = org_train[\"maxdeutsch1\"] == 1 # ??? what about missing values?\n",
    "\n",
    "else:\n",
    "    raise ValueError(f\"Unsupported mode for exclude_subgroups: {mode}\")\n"
   ]
  },
  {
   "cell_type": "code",
   "execution_count": 38,
   "id": "71651440",
   "metadata": {
    "execution": {
     "iopub.execute_input": "2025-07-30T21:38:32.766698Z",
     "iopub.status.busy": "2025-07-30T21:38:32.766221Z",
     "iopub.status.idle": "2025-07-30T21:38:32.773288Z",
     "shell.execute_reply": "2025-07-30T21:38:32.772399Z"
    },
    "papermill": {
     "duration": 0.034263,
     "end_time": "2025-07-30T21:38:32.774925",
     "exception": false,
     "start_time": "2025-07-30T21:38:32.740662",
     "status": "completed"
    },
    "tags": []
   },
   "outputs": [],
   "source": [
    "n_drop = (~keep_mask).sum() # Calculates how many rows are set to be dropped\n",
    "if n_drop > 0:\n",
    "    pct = n_drop / len(keep_mask) * 100\n",
    "    print(f\"Dropping {n_drop} rows ({pct:.2f}%) where mode='{mode}'\")"
   ]
  },
  {
   "cell_type": "code",
   "execution_count": 39,
   "id": "5fb8eee5",
   "metadata": {
    "execution": {
     "iopub.execute_input": "2025-07-30T21:38:32.823670Z",
     "iopub.status.busy": "2025-07-30T21:38:32.823215Z",
     "iopub.status.idle": "2025-07-30T21:38:32.829831Z",
     "shell.execute_reply": "2025-07-30T21:38:32.828904Z"
    },
    "papermill": {
     "duration": 0.032265,
     "end_time": "2025-07-30T21:38:32.831366",
     "exception": false,
     "start_time": "2025-07-30T21:38:32.799101",
     "status": "completed"
    },
    "tags": []
   },
   "outputs": [],
   "source": [
    "X_train = X_train[keep_mask]"
   ]
  },
  {
   "cell_type": "code",
   "execution_count": 40,
   "id": "b202bb3a",
   "metadata": {
    "execution": {
     "iopub.execute_input": "2025-07-30T21:38:32.878770Z",
     "iopub.status.busy": "2025-07-30T21:38:32.878287Z",
     "iopub.status.idle": "2025-07-30T21:38:32.884492Z",
     "shell.execute_reply": "2025-07-30T21:38:32.883555Z"
    },
    "papermill": {
     "duration": 0.03188,
     "end_time": "2025-07-30T21:38:32.886187",
     "exception": false,
     "start_time": "2025-07-30T21:38:32.854307",
     "status": "completed"
    },
    "tags": []
   },
   "outputs": [],
   "source": [
    "y_train = y_train[keep_mask]"
   ]
  },
  {
   "cell_type": "markdown",
   "id": "493e2ac3",
   "metadata": {
    "papermill": {
     "duration": 0.022451,
     "end_time": "2025-07-30T21:38:32.932222",
     "exception": false,
     "start_time": "2025-07-30T21:38:32.909771",
     "status": "completed"
    },
    "tags": []
   },
   "source": [
    "# Model Training"
   ]
  },
  {
   "cell_type": "code",
   "execution_count": 41,
   "id": "679e1268",
   "metadata": {
    "execution": {
     "iopub.execute_input": "2025-07-30T21:38:32.980827Z",
     "iopub.status.busy": "2025-07-30T21:38:32.980349Z",
     "iopub.status.idle": "2025-07-30T21:38:33.085496Z",
     "shell.execute_reply": "2025-07-30T21:38:33.084610Z"
    },
    "papermill": {
     "duration": 0.131624,
     "end_time": "2025-07-30T21:38:33.087429",
     "exception": false,
     "start_time": "2025-07-30T21:38:32.955805",
     "status": "completed"
    },
    "tags": []
   },
   "outputs": [],
   "source": [
    "from sklearn.linear_model import LogisticRegression\n",
    "from sklearn.ensemble import GradientBoostingClassifier, RandomForestClassifier\n",
    "\n",
    "if (universe[\"model\"] == \"logreg\"):\n",
    "    model = LogisticRegression() #penalty=\"none\") #, solver=\"newton-cg\", max_iter=1) # include random_state=19 ?\n",
    "elif (universe[\"model\"] == \"penalized_logreg\"):\n",
    "    model = LogisticRegression(penalty=\"l2\", C=1.0) #, solver=\"newton-cg\", max_iter=1)\n",
    "elif (universe[\"model\"] == \"rf\"):\n",
    "    model = RandomForestClassifier(n_estimators=100, n_jobs=-1)\n",
    "elif (universe[\"model\"] == \"gbm\"):\n",
    "    model = GradientBoostingClassifier()\n",
    "elif (universe[\"model\"] == \"elasticnet\"):\n",
    "    model = LogisticRegression(penalty = 'elasticnet', solver = 'saga', l1_ratio = 0.5, max_iter=5000) # which solver to use?\n",
    "else:\n",
    "    raise \"Unsupported universe.model\""
   ]
  },
  {
   "cell_type": "code",
   "execution_count": 42,
   "id": "0cc8f744",
   "metadata": {
    "execution": {
     "iopub.execute_input": "2025-07-30T21:38:33.137765Z",
     "iopub.status.busy": "2025-07-30T21:38:33.137306Z",
     "iopub.status.idle": "2025-07-30T21:38:33.153813Z",
     "shell.execute_reply": "2025-07-30T21:38:33.152916Z"
    },
    "papermill": {
     "duration": 0.043736,
     "end_time": "2025-07-30T21:38:33.155707",
     "exception": false,
     "start_time": "2025-07-30T21:38:33.111971",
     "status": "completed"
    },
    "tags": []
   },
   "outputs": [],
   "source": [
    "import numpy as np\n",
    "from sklearn.pipeline import Pipeline\n",
    "from sklearn.preprocessing import StandardScaler\n",
    "\n",
    "model = Pipeline([\n",
    "    #(\"continuous_processor\", continuous_processor),\n",
    "    #(\"categorical_preprocessor\", categorical_preprocessor),\n",
    "    (\"scale\", StandardScaler() if universe[\"scale\"] == \"scale\" else None), \n",
    "    (\"model\", model),\n",
    "])"
   ]
  },
  {
   "cell_type": "code",
   "execution_count": 43,
   "id": "9442c04d",
   "metadata": {
    "execution": {
     "iopub.execute_input": "2025-07-30T21:38:33.201961Z",
     "iopub.status.busy": "2025-07-30T21:38:33.201306Z",
     "iopub.status.idle": "2025-07-30T21:38:33.276015Z",
     "shell.execute_reply": "2025-07-30T21:38:33.275061Z"
    },
    "papermill": {
     "duration": 0.10096,
     "end_time": "2025-07-30T21:38:33.277845",
     "exception": false,
     "start_time": "2025-07-30T21:38:33.176885",
     "status": "completed"
    },
    "tags": []
   },
   "outputs": [
    {
     "name": "stderr",
     "output_type": "stream",
     "text": [
      "/dss/dsshome1/0C/ra93lal2/.local/share/virtualenvs/CMA_Fairness_v2-3j10GkSs/lib/python3.10/site-packages/sklearn/linear_model/_logistic.py:444: ConvergenceWarning: lbfgs failed to converge (status=1):\n",
      "STOP: TOTAL NO. of ITERATIONS REACHED LIMIT.\n",
      "\n",
      "Increase the number of iterations (max_iter) or scale the data as shown in:\n",
      "    https://scikit-learn.org/stable/modules/preprocessing.html\n",
      "Please also refer to the documentation for alternative solver options:\n",
      "    https://scikit-learn.org/stable/modules/linear_model.html#logistic-regression\n",
      "  n_iter_i = _check_optimize_result(\n"
     ]
    },
    {
     "data": {
      "text/html": [
       "<style>#sk-container-id-1 {color: black;background-color: white;}#sk-container-id-1 pre{padding: 0;}#sk-container-id-1 div.sk-toggleable {background-color: white;}#sk-container-id-1 label.sk-toggleable__label {cursor: pointer;display: block;width: 100%;margin-bottom: 0;padding: 0.3em;box-sizing: border-box;text-align: center;}#sk-container-id-1 label.sk-toggleable__label-arrow:before {content: \"▸\";float: left;margin-right: 0.25em;color: #696969;}#sk-container-id-1 label.sk-toggleable__label-arrow:hover:before {color: black;}#sk-container-id-1 div.sk-estimator:hover label.sk-toggleable__label-arrow:before {color: black;}#sk-container-id-1 div.sk-toggleable__content {max-height: 0;max-width: 0;overflow: hidden;text-align: left;background-color: #f0f8ff;}#sk-container-id-1 div.sk-toggleable__content pre {margin: 0.2em;color: black;border-radius: 0.25em;background-color: #f0f8ff;}#sk-container-id-1 input.sk-toggleable__control:checked~div.sk-toggleable__content {max-height: 200px;max-width: 100%;overflow: auto;}#sk-container-id-1 input.sk-toggleable__control:checked~label.sk-toggleable__label-arrow:before {content: \"▾\";}#sk-container-id-1 div.sk-estimator input.sk-toggleable__control:checked~label.sk-toggleable__label {background-color: #d4ebff;}#sk-container-id-1 div.sk-label input.sk-toggleable__control:checked~label.sk-toggleable__label {background-color: #d4ebff;}#sk-container-id-1 input.sk-hidden--visually {border: 0;clip: rect(1px 1px 1px 1px);clip: rect(1px, 1px, 1px, 1px);height: 1px;margin: -1px;overflow: hidden;padding: 0;position: absolute;width: 1px;}#sk-container-id-1 div.sk-estimator {font-family: monospace;background-color: #f0f8ff;border: 1px dotted black;border-radius: 0.25em;box-sizing: border-box;margin-bottom: 0.5em;}#sk-container-id-1 div.sk-estimator:hover {background-color: #d4ebff;}#sk-container-id-1 div.sk-parallel-item::after {content: \"\";width: 100%;border-bottom: 1px solid gray;flex-grow: 1;}#sk-container-id-1 div.sk-label:hover label.sk-toggleable__label {background-color: #d4ebff;}#sk-container-id-1 div.sk-serial::before {content: \"\";position: absolute;border-left: 1px solid gray;box-sizing: border-box;top: 0;bottom: 0;left: 50%;z-index: 0;}#sk-container-id-1 div.sk-serial {display: flex;flex-direction: column;align-items: center;background-color: white;padding-right: 0.2em;padding-left: 0.2em;position: relative;}#sk-container-id-1 div.sk-item {position: relative;z-index: 1;}#sk-container-id-1 div.sk-parallel {display: flex;align-items: stretch;justify-content: center;background-color: white;position: relative;}#sk-container-id-1 div.sk-item::before, #sk-container-id-1 div.sk-parallel-item::before {content: \"\";position: absolute;border-left: 1px solid gray;box-sizing: border-box;top: 0;bottom: 0;left: 50%;z-index: -1;}#sk-container-id-1 div.sk-parallel-item {display: flex;flex-direction: column;z-index: 1;position: relative;background-color: white;}#sk-container-id-1 div.sk-parallel-item:first-child::after {align-self: flex-end;width: 50%;}#sk-container-id-1 div.sk-parallel-item:last-child::after {align-self: flex-start;width: 50%;}#sk-container-id-1 div.sk-parallel-item:only-child::after {width: 0;}#sk-container-id-1 div.sk-dashed-wrapped {border: 1px dashed gray;margin: 0 0.4em 0.5em 0.4em;box-sizing: border-box;padding-bottom: 0.4em;background-color: white;}#sk-container-id-1 div.sk-label label {font-family: monospace;font-weight: bold;display: inline-block;line-height: 1.2em;}#sk-container-id-1 div.sk-label-container {text-align: center;}#sk-container-id-1 div.sk-container {/* jupyter's `normalize.less` sets `[hidden] { display: none; }` but bootstrap.min.css set `[hidden] { display: none !important; }` so we also need the `!important` here to be able to override the default hidden behavior on the sphinx rendered scikit-learn.org. See: https://github.com/scikit-learn/scikit-learn/issues/21755 */display: inline-block !important;position: relative;}#sk-container-id-1 div.sk-text-repr-fallback {display: none;}</style><div id=\"sk-container-id-1\" class=\"sk-top-container\"><div class=\"sk-text-repr-fallback\"><pre>Pipeline(steps=[(&#x27;scale&#x27;, None), (&#x27;model&#x27;, LogisticRegression())])</pre><b>In a Jupyter environment, please rerun this cell to show the HTML representation or trust the notebook. <br />On GitHub, the HTML representation is unable to render, please try loading this page with nbviewer.org.</b></div><div class=\"sk-container\" hidden><div class=\"sk-item sk-dashed-wrapped\"><div class=\"sk-label-container\"><div class=\"sk-label sk-toggleable\"><input class=\"sk-toggleable__control sk-hidden--visually\" id=\"sk-estimator-id-1\" type=\"checkbox\" ><label for=\"sk-estimator-id-1\" class=\"sk-toggleable__label sk-toggleable__label-arrow\">Pipeline</label><div class=\"sk-toggleable__content\"><pre>Pipeline(steps=[(&#x27;scale&#x27;, None), (&#x27;model&#x27;, LogisticRegression())])</pre></div></div></div><div class=\"sk-serial\"><div class=\"sk-item\"><div class=\"sk-estimator sk-toggleable\"><input class=\"sk-toggleable__control sk-hidden--visually\" id=\"sk-estimator-id-2\" type=\"checkbox\" ><label for=\"sk-estimator-id-2\" class=\"sk-toggleable__label sk-toggleable__label-arrow\">None</label><div class=\"sk-toggleable__content\"><pre>None</pre></div></div></div><div class=\"sk-item\"><div class=\"sk-estimator sk-toggleable\"><input class=\"sk-toggleable__control sk-hidden--visually\" id=\"sk-estimator-id-3\" type=\"checkbox\" ><label for=\"sk-estimator-id-3\" class=\"sk-toggleable__label sk-toggleable__label-arrow\">LogisticRegression</label><div class=\"sk-toggleable__content\"><pre>LogisticRegression()</pre></div></div></div></div></div></div></div>"
      ],
      "text/plain": [
       "Pipeline(steps=[('scale', None), ('model', LogisticRegression())])"
      ]
     },
     "execution_count": 43,
     "metadata": {},
     "output_type": "execute_result"
    }
   ],
   "source": [
    "model.fit(X_train, y_train.values.ravel())"
   ]
  },
  {
   "cell_type": "code",
   "execution_count": 44,
   "id": "af59f8c0",
   "metadata": {
    "execution": {
     "iopub.execute_input": "2025-07-30T21:38:33.328834Z",
     "iopub.status.busy": "2025-07-30T21:38:33.327816Z",
     "iopub.status.idle": "2025-07-30T21:38:33.333496Z",
     "shell.execute_reply": "2025-07-30T21:38:33.332547Z"
    },
    "papermill": {
     "duration": 0.033235,
     "end_time": "2025-07-30T21:38:33.335153",
     "exception": false,
     "start_time": "2025-07-30T21:38:33.301918",
     "status": "completed"
    },
    "tags": []
   },
   "outputs": [],
   "source": [
    "from fairness_multiverse.universe import predict_w_threshold"
   ]
  },
  {
   "cell_type": "code",
   "execution_count": 45,
   "id": "a7cf2e16",
   "metadata": {
    "execution": {
     "iopub.execute_input": "2025-07-30T21:38:33.386042Z",
     "iopub.status.busy": "2025-07-30T21:38:33.385377Z",
     "iopub.status.idle": "2025-07-30T21:38:33.481658Z",
     "shell.execute_reply": "2025-07-30T21:38:33.480961Z"
    },
    "papermill": {
     "duration": 0.123267,
     "end_time": "2025-07-30T21:38:33.482886",
     "exception": false,
     "start_time": "2025-07-30T21:38:33.359619",
     "status": "completed"
    },
    "tags": []
   },
   "outputs": [
    {
     "data": {
      "text/plain": [
       "0.8609965444209118"
      ]
     },
     "execution_count": 45,
     "metadata": {},
     "output_type": "execute_result"
    }
   ],
   "source": [
    "probs_test = model.predict_proba(X_test)\n",
    "\n",
    "'''\n",
    "Below code returns a boolean array (or binary 0/1 array depending on how it’s used) where each element \n",
    "is True if the probability of class 1 is greater than or equal to the threshold, and False otherwise.\n",
    "'''\n",
    "y_pred_default = predict_w_threshold(probs_test, 0.5)\n",
    "\n",
    "from sklearn.metrics import accuracy_score\n",
    "\n",
    "# Naive prediction\n",
    "accuracy_score(y_true = y_true, y_pred = y_pred_default)"
   ]
  },
  {
   "cell_type": "code",
   "execution_count": 46,
   "id": "081964c3",
   "metadata": {
    "execution": {
     "iopub.execute_input": "2025-07-30T21:38:33.510345Z",
     "iopub.status.busy": "2025-07-30T21:38:33.510007Z",
     "iopub.status.idle": "2025-07-30T21:38:33.586595Z",
     "shell.execute_reply": "2025-07-30T21:38:33.585743Z"
    },
    "papermill": {
     "duration": 0.091849,
     "end_time": "2025-07-30T21:38:33.587909",
     "exception": false,
     "start_time": "2025-07-30T21:38:33.496060",
     "status": "completed"
    },
    "tags": []
   },
   "outputs": [
    {
     "data": {
      "text/plain": [
       "array([0, 0, 0, ..., 0, 0, 0])"
      ]
     },
     "execution_count": 46,
     "metadata": {},
     "output_type": "execute_result"
    }
   ],
   "source": [
    "model.predict(X_test)"
   ]
  },
  {
   "cell_type": "markdown",
   "id": "56c9705b",
   "metadata": {
    "papermill": {
     "duration": 0.012318,
     "end_time": "2025-07-30T21:38:33.612991",
     "exception": false,
     "start_time": "2025-07-30T21:38:33.600673",
     "status": "completed"
    },
    "tags": []
   },
   "source": [
    "# Conformal Prediction"
   ]
  },
  {
   "cell_type": "code",
   "execution_count": 47,
   "id": "160ec6ff",
   "metadata": {
    "execution": {
     "iopub.execute_input": "2025-07-30T21:38:33.679451Z",
     "iopub.status.busy": "2025-07-30T21:38:33.678953Z",
     "iopub.status.idle": "2025-07-30T21:38:33.683635Z",
     "shell.execute_reply": "2025-07-30T21:38:33.682928Z"
    },
    "papermill": {
     "duration": 0.059769,
     "end_time": "2025-07-30T21:38:33.684944",
     "exception": false,
     "start_time": "2025-07-30T21:38:33.625175",
     "status": "completed"
    },
    "tags": []
   },
   "outputs": [],
   "source": [
    "# Miscoverage level for conformal prediction (10% allowed error rate => 90% target coverage)\n",
    "alpha = 0.1"
   ]
  },
  {
   "cell_type": "code",
   "execution_count": 48,
   "id": "eadf4555-3dd3-440e-8e35-f82a4ad9f855",
   "metadata": {
    "execution": {
     "iopub.execute_input": "2025-07-30T21:38:33.713237Z",
     "iopub.status.busy": "2025-07-30T21:38:33.712722Z",
     "iopub.status.idle": "2025-07-30T21:38:33.785019Z",
     "shell.execute_reply": "2025-07-30T21:38:33.784261Z"
    },
    "papermill": {
     "duration": 0.088502,
     "end_time": "2025-07-30T21:38:33.786500",
     "exception": false,
     "start_time": "2025-07-30T21:38:33.697998",
     "status": "completed"
    },
    "tags": []
   },
   "outputs": [],
   "source": [
    "probs_calib = model.predict_proba(X_calib)"
   ]
  },
  {
   "cell_type": "code",
   "execution_count": 49,
   "id": "2ed93547-6d5d-4983-9b36-1ecb300da49a",
   "metadata": {
    "execution": {
     "iopub.execute_input": "2025-07-30T21:38:33.814734Z",
     "iopub.status.busy": "2025-07-30T21:38:33.814237Z",
     "iopub.status.idle": "2025-07-30T21:38:33.819378Z",
     "shell.execute_reply": "2025-07-30T21:38:33.818742Z"
    },
    "papermill": {
     "duration": 0.020366,
     "end_time": "2025-07-30T21:38:33.820607",
     "exception": false,
     "start_time": "2025-07-30T21:38:33.800241",
     "status": "completed"
    },
    "tags": []
   },
   "outputs": [],
   "source": [
    "y_calib = y_calib.values.ravel().astype(int)"
   ]
  },
  {
   "cell_type": "code",
   "execution_count": 50,
   "id": "65d1320d-f588-4b38-9072-62af1ae97f7d",
   "metadata": {
    "execution": {
     "iopub.execute_input": "2025-07-30T21:38:33.847351Z",
     "iopub.status.busy": "2025-07-30T21:38:33.846854Z",
     "iopub.status.idle": "2025-07-30T21:38:33.853091Z",
     "shell.execute_reply": "2025-07-30T21:38:33.852367Z"
    },
    "papermill": {
     "duration": 0.020909,
     "end_time": "2025-07-30T21:38:33.854404",
     "exception": false,
     "start_time": "2025-07-30T21:38:33.833495",
     "status": "completed"
    },
    "tags": []
   },
   "outputs": [],
   "source": [
    "from fairness_multiverse.conformal import compute_nc_scores\n",
    "\n",
    "# Compute nonconformity scores on calibration set (1 - probability of true class)\n",
    "nc_scores = compute_nc_scores(probs_calib, y_calib)"
   ]
  },
  {
   "cell_type": "code",
   "execution_count": 51,
   "id": "df3b8ca3-53b7-43d5-9667-7c85da7aeda2",
   "metadata": {
    "execution": {
     "iopub.execute_input": "2025-07-30T21:38:33.881259Z",
     "iopub.status.busy": "2025-07-30T21:38:33.880762Z",
     "iopub.status.idle": "2025-07-30T21:38:33.886065Z",
     "shell.execute_reply": "2025-07-30T21:38:33.885426Z"
    },
    "papermill": {
     "duration": 0.019879,
     "end_time": "2025-07-30T21:38:33.887336",
     "exception": false,
     "start_time": "2025-07-30T21:38:33.867457",
     "status": "completed"
    },
    "tags": []
   },
   "outputs": [],
   "source": [
    "from fairness_multiverse.conformal import find_threshold\n",
    "\n",
    "# Find conformal threshold q_hat for the given alpha (split conformal method)\n",
    "q_hat = find_threshold(nc_scores, alpha)"
   ]
  },
  {
   "cell_type": "code",
   "execution_count": 52,
   "id": "4d29e6c1-0ef6-4aa4-b8fe-4fe79b0d033a",
   "metadata": {
    "execution": {
     "iopub.execute_input": "2025-07-30T21:38:33.914642Z",
     "iopub.status.busy": "2025-07-30T21:38:33.914145Z",
     "iopub.status.idle": "2025-07-30T21:38:33.920593Z",
     "shell.execute_reply": "2025-07-30T21:38:33.919864Z"
    },
    "papermill": {
     "duration": 0.021317,
     "end_time": "2025-07-30T21:38:33.921870",
     "exception": false,
     "start_time": "2025-07-30T21:38:33.900553",
     "status": "completed"
    },
    "tags": []
   },
   "outputs": [
    {
     "data": {
      "text/plain": [
       "0.6985941817138455"
      ]
     },
     "execution_count": 52,
     "metadata": {},
     "output_type": "execute_result"
    }
   ],
   "source": [
    "q_hat"
   ]
  },
  {
   "cell_type": "code",
   "execution_count": 53,
   "id": "92460794-cdac-4be2-ba28-f28c0515a6fb",
   "metadata": {
    "execution": {
     "iopub.execute_input": "2025-07-30T21:38:33.949192Z",
     "iopub.status.busy": "2025-07-30T21:38:33.948695Z",
     "iopub.status.idle": "2025-07-30T21:38:34.721891Z",
     "shell.execute_reply": "2025-07-30T21:38:34.721009Z"
    },
    "papermill": {
     "duration": 0.788285,
     "end_time": "2025-07-30T21:38:34.723451",
     "exception": false,
     "start_time": "2025-07-30T21:38:33.935166",
     "status": "completed"
    },
    "tags": []
   },
   "outputs": [],
   "source": [
    "from fairness_multiverse.conformal import predict_conformal_sets\n",
    "\n",
    "# Generate prediction sets for each test example\n",
    "pred_sets = predict_conformal_sets(model, X_test, q_hat)"
   ]
  },
  {
   "cell_type": "code",
   "execution_count": 54,
   "id": "d90c9a65-e6db-4f5d-80cd-e68fb7e46829",
   "metadata": {
    "execution": {
     "iopub.execute_input": "2025-07-30T21:38:34.753669Z",
     "iopub.status.busy": "2025-07-30T21:38:34.753274Z",
     "iopub.status.idle": "2025-07-30T21:38:34.759163Z",
     "shell.execute_reply": "2025-07-30T21:38:34.758077Z"
    },
    "papermill": {
     "duration": 0.021696,
     "end_time": "2025-07-30T21:38:34.760945",
     "exception": false,
     "start_time": "2025-07-30T21:38:34.739249",
     "status": "completed"
    },
    "tags": []
   },
   "outputs": [],
   "source": [
    "y_true = y_true.squeeze()"
   ]
  },
  {
   "cell_type": "code",
   "execution_count": 55,
   "id": "3a58a54a-1e68-46b9-927a-df01f18aebc8",
   "metadata": {
    "execution": {
     "iopub.execute_input": "2025-07-30T21:38:34.817237Z",
     "iopub.status.busy": "2025-07-30T21:38:34.816546Z",
     "iopub.status.idle": "2025-07-30T21:38:35.937366Z",
     "shell.execute_reply": "2025-07-30T21:38:35.936333Z"
    },
    "papermill": {
     "duration": 1.150861,
     "end_time": "2025-07-30T21:38:35.939443",
     "exception": false,
     "start_time": "2025-07-30T21:38:34.788582",
     "status": "completed"
    },
    "tags": []
   },
   "outputs": [],
   "source": [
    "from fairness_multiverse.conformal import evaluate_sets\n",
    "\n",
    "# Evaluate coverage and average set size on test data\n",
    "metrics = evaluate_sets(pred_sets, y_true)"
   ]
  },
  {
   "cell_type": "markdown",
   "id": "2b569c12-9aaa-4c88-98c9-bbcd0cf3ebb8",
   "metadata": {
    "papermill": {
     "duration": 0.030769,
     "end_time": "2025-07-30T21:38:35.998614",
     "exception": false,
     "start_time": "2025-07-30T21:38:35.967845",
     "status": "completed"
    },
    "tags": []
   },
   "source": [
    "# CP Metrics"
   ]
  },
  {
   "cell_type": "code",
   "execution_count": 56,
   "id": "5ce0a5cb-201f-45a0-ade5-94c7f0bd6095",
   "metadata": {
    "execution": {
     "iopub.execute_input": "2025-07-30T21:38:36.056344Z",
     "iopub.status.busy": "2025-07-30T21:38:36.055782Z",
     "iopub.status.idle": "2025-07-30T21:38:36.063506Z",
     "shell.execute_reply": "2025-07-30T21:38:36.062529Z"
    },
    "papermill": {
     "duration": 0.038617,
     "end_time": "2025-07-30T21:38:36.065240",
     "exception": false,
     "start_time": "2025-07-30T21:38:36.026623",
     "status": "completed"
    },
    "tags": []
   },
   "outputs": [
    {
     "data": {
      "text/plain": [
       "{'coverage': 0.9115371753427711, 'avg_size': 1.1934566937911046}"
      ]
     },
     "execution_count": 56,
     "metadata": {},
     "output_type": "execute_result"
    }
   ],
   "source": [
    "metrics"
   ]
  },
  {
   "cell_type": "code",
   "execution_count": 57,
   "id": "9b9a838d-31c9-430b-ae14-12baee460d17",
   "metadata": {
    "execution": {
     "iopub.execute_input": "2025-07-30T21:38:36.122023Z",
     "iopub.status.busy": "2025-07-30T21:38:36.121590Z",
     "iopub.status.idle": "2025-07-30T21:38:36.128230Z",
     "shell.execute_reply": "2025-07-30T21:38:36.127241Z"
    },
    "papermill": {
     "duration": 0.036908,
     "end_time": "2025-07-30T21:38:36.129868",
     "exception": false,
     "start_time": "2025-07-30T21:38:36.092960",
     "status": "completed"
    },
    "tags": []
   },
   "outputs": [],
   "source": [
    "example_universe = universe.copy()\n",
    "universe_training_year = example_universe.get(\"training_year\")\n",
    "universe_training_size = example_universe.get(\"training_size\")\n",
    "universe_scale = example_universe.get(\"scale\")\n",
    "universe_model = example_universe.get(\"model\")\n",
    "universe_exclude_features = example_universe.get(\"exclude_features\")\n",
    "universe_exclude_subgroups = example_universe.get(\"exclude_subgroups\")"
   ]
  },
  {
   "cell_type": "code",
   "execution_count": 58,
   "id": "f4b6a8ac-9dc0-4245-8a91-5b3b5999c4f9",
   "metadata": {
    "execution": {
     "iopub.execute_input": "2025-07-30T21:38:36.185330Z",
     "iopub.status.busy": "2025-07-30T21:38:36.184614Z",
     "iopub.status.idle": "2025-07-30T21:38:36.192162Z",
     "shell.execute_reply": "2025-07-30T21:38:36.191134Z"
    },
    "papermill": {
     "duration": 0.037163,
     "end_time": "2025-07-30T21:38:36.193879",
     "exception": false,
     "start_time": "2025-07-30T21:38:36.156716",
     "status": "completed"
    },
    "tags": []
   },
   "outputs": [],
   "source": [
    "cp_metrics_dict = {\n",
    "    \"universe_id\": [universe_id],\n",
    "    \"universe_training_year\": [universe_training_year],\n",
    "    \"universe_training_size\": [universe_training_size],\n",
    "    \"universe_scale\": [universe_scale],\n",
    "    \"universe_model\": [universe_model],\n",
    "    \"universe_exclude_features\": [universe_exclude_features],\n",
    "    \"universe_exclude_subgroups\": [universe_exclude_subgroups],\n",
    "    \"q_hat\": [q_hat],\n",
    "    \"coverage\": [metrics[\"coverage\"]],\n",
    "    \"avg_size\": [metrics[\"avg_size\"]],\n",
    "}"
   ]
  },
  {
   "cell_type": "code",
   "execution_count": 59,
   "id": "908acbb1-0371-4915-85ca-3fa520d2efe2",
   "metadata": {
    "execution": {
     "iopub.execute_input": "2025-07-30T21:38:36.249918Z",
     "iopub.status.busy": "2025-07-30T21:38:36.249495Z",
     "iopub.status.idle": "2025-07-30T21:38:36.257670Z",
     "shell.execute_reply": "2025-07-30T21:38:36.256696Z"
    },
    "papermill": {
     "duration": 0.038784,
     "end_time": "2025-07-30T21:38:36.259296",
     "exception": false,
     "start_time": "2025-07-30T21:38:36.220512",
     "status": "completed"
    },
    "tags": []
   },
   "outputs": [
    {
     "data": {
      "text/plain": [
       "{'universe_id': ['3cfa47c7925972ee72d1a80e5d5386cf'],\n",
       " 'universe_training_year': ['2012_14'],\n",
       " 'universe_training_size': ['1k'],\n",
       " 'universe_scale': ['do-not-scale'],\n",
       " 'universe_model': ['logreg'],\n",
       " 'universe_exclude_features': ['sex'],\n",
       " 'universe_exclude_subgroups': ['keep-all'],\n",
       " 'q_hat': [0.6985941817138455],\n",
       " 'coverage': [0.9115371753427711],\n",
       " 'avg_size': [1.1934566937911046]}"
      ]
     },
     "execution_count": 59,
     "metadata": {},
     "output_type": "execute_result"
    }
   ],
   "source": [
    "cp_metrics_dict"
   ]
  },
  {
   "cell_type": "code",
   "execution_count": 60,
   "id": "33007efc-14e9-4ec6-97ac-56a455c82265",
   "metadata": {
    "execution": {
     "iopub.execute_input": "2025-07-30T21:38:36.315215Z",
     "iopub.status.busy": "2025-07-30T21:38:36.314503Z",
     "iopub.status.idle": "2025-07-30T21:38:36.321286Z",
     "shell.execute_reply": "2025-07-30T21:38:36.320327Z"
    },
    "papermill": {
     "duration": 0.036514,
     "end_time": "2025-07-30T21:38:36.322808",
     "exception": false,
     "start_time": "2025-07-30T21:38:36.286294",
     "status": "completed"
    },
    "tags": []
   },
   "outputs": [],
   "source": [
    "cp_metrics_df = pd.DataFrame(cp_metrics_dict)"
   ]
  },
  {
   "cell_type": "code",
   "execution_count": 61,
   "id": "db12611b-57b2-4910-b9d0-355adfd6e7bf",
   "metadata": {
    "execution": {
     "iopub.execute_input": "2025-07-30T21:38:36.380611Z",
     "iopub.status.busy": "2025-07-30T21:38:36.379855Z",
     "iopub.status.idle": "2025-07-30T21:38:36.401462Z",
     "shell.execute_reply": "2025-07-30T21:38:36.400372Z"
    },
    "papermill": {
     "duration": 0.053019,
     "end_time": "2025-07-30T21:38:36.403291",
     "exception": false,
     "start_time": "2025-07-30T21:38:36.350272",
     "status": "completed"
    },
    "tags": []
   },
   "outputs": [
    {
     "data": {
      "text/html": [
       "<div>\n",
       "<style scoped>\n",
       "    .dataframe tbody tr th:only-of-type {\n",
       "        vertical-align: middle;\n",
       "    }\n",
       "\n",
       "    .dataframe tbody tr th {\n",
       "        vertical-align: top;\n",
       "    }\n",
       "\n",
       "    .dataframe thead th {\n",
       "        text-align: right;\n",
       "    }\n",
       "</style>\n",
       "<table border=\"1\" class=\"dataframe\">\n",
       "  <thead>\n",
       "    <tr style=\"text-align: right;\">\n",
       "      <th></th>\n",
       "      <th>universe_id</th>\n",
       "      <th>universe_training_year</th>\n",
       "      <th>universe_training_size</th>\n",
       "      <th>universe_scale</th>\n",
       "      <th>universe_model</th>\n",
       "      <th>universe_exclude_features</th>\n",
       "      <th>universe_exclude_subgroups</th>\n",
       "      <th>q_hat</th>\n",
       "      <th>coverage</th>\n",
       "      <th>avg_size</th>\n",
       "    </tr>\n",
       "  </thead>\n",
       "  <tbody>\n",
       "    <tr>\n",
       "      <th>0</th>\n",
       "      <td>3cfa47c7925972ee72d1a80e5d5386cf</td>\n",
       "      <td>2012_14</td>\n",
       "      <td>1k</td>\n",
       "      <td>do-not-scale</td>\n",
       "      <td>logreg</td>\n",
       "      <td>sex</td>\n",
       "      <td>keep-all</td>\n",
       "      <td>0.698594</td>\n",
       "      <td>0.911537</td>\n",
       "      <td>1.193457</td>\n",
       "    </tr>\n",
       "  </tbody>\n",
       "</table>\n",
       "</div>"
      ],
      "text/plain": [
       "                        universe_id universe_training_year  \\\n",
       "0  3cfa47c7925972ee72d1a80e5d5386cf                2012_14   \n",
       "\n",
       "  universe_training_size universe_scale universe_model  \\\n",
       "0                     1k   do-not-scale         logreg   \n",
       "\n",
       "  universe_exclude_features universe_exclude_subgroups     q_hat  coverage  \\\n",
       "0                       sex                   keep-all  0.698594  0.911537   \n",
       "\n",
       "   avg_size  \n",
       "0  1.193457  "
      ]
     },
     "execution_count": 61,
     "metadata": {},
     "output_type": "execute_result"
    }
   ],
   "source": [
    "cp_metrics_df"
   ]
  },
  {
   "cell_type": "code",
   "execution_count": 62,
   "id": "b7fbde55-a0a1-47e4-9af6-fe4a17fa8c61",
   "metadata": {
    "execution": {
     "iopub.execute_input": "2025-07-30T21:38:36.460398Z",
     "iopub.status.busy": "2025-07-30T21:38:36.459374Z",
     "iopub.status.idle": "2025-07-30T21:38:36.465202Z",
     "shell.execute_reply": "2025-07-30T21:38:36.464017Z"
    },
    "papermill": {
     "duration": 0.035706,
     "end_time": "2025-07-30T21:38:36.466560",
     "exception": false,
     "start_time": "2025-07-30T21:38:36.430854",
     "status": "completed"
    },
    "tags": []
   },
   "outputs": [],
   "source": [
    "# Conditional Coverage & looking at subgroups"
   ]
  },
  {
   "cell_type": "code",
   "execution_count": 63,
   "id": "027ae886-68dd-4141-96c7-805a5450e1ef",
   "metadata": {
    "execution": {
     "iopub.execute_input": "2025-07-30T21:38:36.497447Z",
     "iopub.status.busy": "2025-07-30T21:38:36.496781Z",
     "iopub.status.idle": "2025-07-30T21:38:36.764414Z",
     "shell.execute_reply": "2025-07-30T21:38:36.763242Z"
    },
    "papermill": {
     "duration": 0.283975,
     "end_time": "2025-07-30T21:38:36.766098",
     "exception": false,
     "start_time": "2025-07-30T21:38:36.482123",
     "status": "completed"
    },
    "tags": []
   },
   "outputs": [],
   "source": [
    "from fairness_multiverse.conformal import build_cp_groups\n",
    "\n",
    "cp_groups_df = build_cp_groups(pred_sets, y_true, X_test.index, org_test)\n",
    "#needs universe_id and setting"
   ]
  },
  {
   "cell_type": "code",
   "execution_count": 64,
   "id": "01d5802c-663a-4d1f-9d69-e036faaffbf7",
   "metadata": {
    "execution": {
     "iopub.execute_input": "2025-07-30T21:38:36.823130Z",
     "iopub.status.busy": "2025-07-30T21:38:36.822391Z",
     "iopub.status.idle": "2025-07-30T21:38:36.827617Z",
     "shell.execute_reply": "2025-07-30T21:38:36.826651Z"
    },
    "papermill": {
     "duration": 0.035764,
     "end_time": "2025-07-30T21:38:36.829249",
     "exception": false,
     "start_time": "2025-07-30T21:38:36.793485",
     "status": "completed"
    },
    "tags": []
   },
   "outputs": [],
   "source": [
    "#delete\n",
    "#cp_groups_df"
   ]
  },
  {
   "cell_type": "code",
   "execution_count": 65,
   "id": "fa424af1-d1eb-443d-b717-2d279ada8408",
   "metadata": {
    "execution": {
     "iopub.execute_input": "2025-07-30T21:38:36.882126Z",
     "iopub.status.busy": "2025-07-30T21:38:36.881523Z",
     "iopub.status.idle": "2025-07-30T21:38:36.886825Z",
     "shell.execute_reply": "2025-07-30T21:38:36.885895Z"
    },
    "papermill": {
     "duration": 0.032859,
     "end_time": "2025-07-30T21:38:36.888487",
     "exception": false,
     "start_time": "2025-07-30T21:38:36.855628",
     "status": "completed"
    },
    "tags": []
   },
   "outputs": [],
   "source": [
    "#delete\n",
    "#percentage = (cp_groups_df['nongerman_female'] == 1).mean() * 100\n",
    "#print(percentage)\n"
   ]
  },
  {
   "cell_type": "code",
   "execution_count": 66,
   "id": "6cbdab96-b2b2-45af-ad54-d0516db2e28d",
   "metadata": {
    "execution": {
     "iopub.execute_input": "2025-07-30T21:38:36.943572Z",
     "iopub.status.busy": "2025-07-30T21:38:36.943046Z",
     "iopub.status.idle": "2025-07-30T21:38:38.419101Z",
     "shell.execute_reply": "2025-07-30T21:38:38.418370Z"
    },
    "papermill": {
     "duration": 1.506084,
     "end_time": "2025-07-30T21:38:38.420614",
     "exception": false,
     "start_time": "2025-07-30T21:38:36.914530",
     "status": "completed"
    },
    "tags": []
   },
   "outputs": [],
   "source": [
    "# Define covered = 1 if true_label is in the predicted set\n",
    "cp_groups_df['covered'] = cp_groups_df.apply(\n",
    "    lambda r: int(r['true_label'] in r['pred_set']),\n",
    "    axis=1\n",
    ")"
   ]
  },
  {
   "cell_type": "code",
   "execution_count": 67,
   "id": "338ff529-1a6b-4b87-a931-8e4788d52aad",
   "metadata": {
    "execution": {
     "iopub.execute_input": "2025-07-30T21:38:38.474632Z",
     "iopub.status.busy": "2025-07-30T21:38:38.474194Z",
     "iopub.status.idle": "2025-07-30T21:38:38.479228Z",
     "shell.execute_reply": "2025-07-30T21:38:38.478449Z"
    },
    "papermill": {
     "duration": 0.034489,
     "end_time": "2025-07-30T21:38:38.480537",
     "exception": false,
     "start_time": "2025-07-30T21:38:38.446048",
     "status": "completed"
    },
    "tags": []
   },
   "outputs": [],
   "source": [
    "#cp_groups_df"
   ]
  },
  {
   "cell_type": "code",
   "execution_count": 68,
   "id": "90032e27-66df-4540-9169-4e89cfbaa758",
   "metadata": {
    "execution": {
     "iopub.execute_input": "2025-07-30T21:38:38.536217Z",
     "iopub.status.busy": "2025-07-30T21:38:38.535786Z",
     "iopub.status.idle": "2025-07-30T21:38:38.544720Z",
     "shell.execute_reply": "2025-07-30T21:38:38.543946Z"
    },
    "papermill": {
     "duration": 0.038301,
     "end_time": "2025-07-30T21:38:38.545925",
     "exception": false,
     "start_time": "2025-07-30T21:38:38.507624",
     "status": "completed"
    },
    "tags": []
   },
   "outputs": [],
   "source": [
    "subgroups = ['frau1','nongerman','nongerman_male','nongerman_female']\n",
    "\n",
    "# Conditional coverage for subgroup==1\n",
    "cond_coverage = {\n",
    "    g: cp_groups_df.loc[cp_groups_df[g]==1, 'covered'].mean()\n",
    "    for g in subgroups\n",
    "}"
   ]
  },
  {
   "cell_type": "code",
   "execution_count": 69,
   "id": "1e348fb1-b9c3-45bc-ba23-f016827a7e0d",
   "metadata": {
    "execution": {
     "iopub.execute_input": "2025-07-30T21:38:38.576643Z",
     "iopub.status.busy": "2025-07-30T21:38:38.576119Z",
     "iopub.status.idle": "2025-07-30T21:38:38.582318Z",
     "shell.execute_reply": "2025-07-30T21:38:38.581626Z"
    },
    "papermill": {
     "duration": 0.02299,
     "end_time": "2025-07-30T21:38:38.583829",
     "exception": false,
     "start_time": "2025-07-30T21:38:38.560839",
     "status": "completed"
    },
    "tags": []
   },
   "outputs": [
    {
     "data": {
      "text/plain": [
       "{'frau1': 0.9086399784337512,\n",
       " 'nongerman': 0.9234267108291697,\n",
       " 'nongerman_male': 0.9388453571106908,\n",
       " 'nongerman_female': 0.8979135618479881}"
      ]
     },
     "execution_count": 69,
     "metadata": {},
     "output_type": "execute_result"
    }
   ],
   "source": [
    "cond_coverage"
   ]
  },
  {
   "cell_type": "code",
   "execution_count": 70,
   "id": "f5093324-c3dd-4d63-bc4c-8d945e5c8bbb",
   "metadata": {
    "execution": {
     "iopub.execute_input": "2025-07-30T21:38:38.635459Z",
     "iopub.status.busy": "2025-07-30T21:38:38.635006Z",
     "iopub.status.idle": "2025-07-30T21:38:38.641852Z",
     "shell.execute_reply": "2025-07-30T21:38:38.641025Z"
    },
    "papermill": {
     "duration": 0.034541,
     "end_time": "2025-07-30T21:38:38.643362",
     "exception": false,
     "start_time": "2025-07-30T21:38:38.608821",
     "status": "completed"
    },
    "tags": []
   },
   "outputs": [],
   "source": [
    "for subgroup, cov in cond_coverage.items():\n",
    "    cp_metrics_df[f\"cov_{subgroup}\"] = cov"
   ]
  },
  {
   "cell_type": "code",
   "execution_count": 71,
   "id": "6e872e10-dbe5-49e8-b554-5030c98ff75d",
   "metadata": {
    "execution": {
     "iopub.execute_input": "2025-07-30T21:38:38.695538Z",
     "iopub.status.busy": "2025-07-30T21:38:38.694638Z",
     "iopub.status.idle": "2025-07-30T21:38:38.709693Z",
     "shell.execute_reply": "2025-07-30T21:38:38.708944Z"
    },
    "papermill": {
     "duration": 0.043221,
     "end_time": "2025-07-30T21:38:38.711098",
     "exception": false,
     "start_time": "2025-07-30T21:38:38.667877",
     "status": "completed"
    },
    "tags": []
   },
   "outputs": [
    {
     "data": {
      "text/html": [
       "<div>\n",
       "<style scoped>\n",
       "    .dataframe tbody tr th:only-of-type {\n",
       "        vertical-align: middle;\n",
       "    }\n",
       "\n",
       "    .dataframe tbody tr th {\n",
       "        vertical-align: top;\n",
       "    }\n",
       "\n",
       "    .dataframe thead th {\n",
       "        text-align: right;\n",
       "    }\n",
       "</style>\n",
       "<table border=\"1\" class=\"dataframe\">\n",
       "  <thead>\n",
       "    <tr style=\"text-align: right;\">\n",
       "      <th></th>\n",
       "      <th>universe_id</th>\n",
       "      <th>universe_training_year</th>\n",
       "      <th>universe_training_size</th>\n",
       "      <th>universe_scale</th>\n",
       "      <th>universe_model</th>\n",
       "      <th>universe_exclude_features</th>\n",
       "      <th>universe_exclude_subgroups</th>\n",
       "      <th>q_hat</th>\n",
       "      <th>coverage</th>\n",
       "      <th>avg_size</th>\n",
       "      <th>cov_frau1</th>\n",
       "      <th>cov_nongerman</th>\n",
       "      <th>cov_nongerman_male</th>\n",
       "      <th>cov_nongerman_female</th>\n",
       "    </tr>\n",
       "  </thead>\n",
       "  <tbody>\n",
       "    <tr>\n",
       "      <th>0</th>\n",
       "      <td>3cfa47c7925972ee72d1a80e5d5386cf</td>\n",
       "      <td>2012_14</td>\n",
       "      <td>1k</td>\n",
       "      <td>do-not-scale</td>\n",
       "      <td>logreg</td>\n",
       "      <td>sex</td>\n",
       "      <td>keep-all</td>\n",
       "      <td>0.698594</td>\n",
       "      <td>0.911537</td>\n",
       "      <td>1.193457</td>\n",
       "      <td>0.90864</td>\n",
       "      <td>0.923427</td>\n",
       "      <td>0.938845</td>\n",
       "      <td>0.897914</td>\n",
       "    </tr>\n",
       "  </tbody>\n",
       "</table>\n",
       "</div>"
      ],
      "text/plain": [
       "                        universe_id universe_training_year  \\\n",
       "0  3cfa47c7925972ee72d1a80e5d5386cf                2012_14   \n",
       "\n",
       "  universe_training_size universe_scale universe_model  \\\n",
       "0                     1k   do-not-scale         logreg   \n",
       "\n",
       "  universe_exclude_features universe_exclude_subgroups     q_hat  coverage  \\\n",
       "0                       sex                   keep-all  0.698594  0.911537   \n",
       "\n",
       "   avg_size  cov_frau1  cov_nongerman  cov_nongerman_male  \\\n",
       "0  1.193457    0.90864       0.923427            0.938845   \n",
       "\n",
       "   cov_nongerman_female  \n",
       "0              0.897914  "
      ]
     },
     "execution_count": 71,
     "metadata": {},
     "output_type": "execute_result"
    }
   ],
   "source": [
    "cp_metrics_df"
   ]
  },
  {
   "cell_type": "markdown",
   "id": "33774451",
   "metadata": {
    "papermill": {
     "duration": 0.013987,
     "end_time": "2025-07-30T21:38:38.739626",
     "exception": false,
     "start_time": "2025-07-30T21:38:38.725639",
     "status": "completed"
    },
    "tags": []
   },
   "source": [
    "# (Fairness) Metrics"
   ]
  },
  {
   "cell_type": "code",
   "execution_count": 72,
   "id": "debc5d62",
   "metadata": {
    "execution": {
     "iopub.execute_input": "2025-07-30T21:38:38.774532Z",
     "iopub.status.busy": "2025-07-30T21:38:38.774106Z",
     "iopub.status.idle": "2025-07-30T21:38:38.793723Z",
     "shell.execute_reply": "2025-07-30T21:38:38.792776Z"
    },
    "papermill": {
     "duration": 0.041559,
     "end_time": "2025-07-30T21:38:38.795475",
     "exception": false,
     "start_time": "2025-07-30T21:38:38.753916",
     "status": "completed"
    },
    "tags": []
   },
   "outputs": [],
   "source": [
    "# do I need to include maxdeutsch1.missing?\n",
    "\n",
    "import numpy as np\n",
    "\n",
    "colname_to_bin = \"maxdeutsch1\"\n",
    "majority_value = org_train[colname_to_bin].mode()[0]\n",
    "\n",
    "org_test[\"majmin\"] = np.where(org_test[colname_to_bin] == majority_value, \"majority\", \"minority\")"
   ]
  },
  {
   "cell_type": "code",
   "execution_count": 73,
   "id": "06a50de5",
   "metadata": {
    "execution": {
     "iopub.execute_input": "2025-07-30T21:38:38.853909Z",
     "iopub.status.busy": "2025-07-30T21:38:38.853287Z",
     "iopub.status.idle": "2025-07-30T21:38:41.555020Z",
     "shell.execute_reply": "2025-07-30T21:38:41.554075Z"
    },
    "papermill": {
     "duration": 2.732648,
     "end_time": "2025-07-30T21:38:41.557110",
     "exception": false,
     "start_time": "2025-07-30T21:38:38.824462",
     "status": "completed"
    },
    "tags": []
   },
   "outputs": [],
   "source": [
    "example_universe = universe.copy()\n",
    "example_universe[\"cutoff\"] = example_universe[\"cutoff\"][0]\n",
    "example_universe[\"eval_fairness_grouping\"] = example_universe[\"eval_fairness_grouping\"][0]\n",
    "fairness_dict, metric_frame = universe_analysis.compute_metrics(\n",
    "    example_universe,\n",
    "    y_pred_prob=probs_test,\n",
    "    y_test=y_true,\n",
    "    org_test=org_test,\n",
    ")"
   ]
  },
  {
   "cell_type": "markdown",
   "id": "f95d4e02",
   "metadata": {
    "papermill": {
     "duration": 0.029966,
     "end_time": "2025-07-30T21:38:41.617829",
     "exception": false,
     "start_time": "2025-07-30T21:38:41.587863",
     "status": "completed"
    },
    "tags": []
   },
   "source": [
    "# Overall"
   ]
  },
  {
   "cell_type": "markdown",
   "id": "bdee4871",
   "metadata": {
    "papermill": {
     "duration": 0.030728,
     "end_time": "2025-07-30T21:38:41.678430",
     "exception": false,
     "start_time": "2025-07-30T21:38:41.647702",
     "status": "completed"
    },
    "tags": []
   },
   "source": [
    "Fairness\n",
    "Main fairness target: Equalized Odds. Seems to be a better fit than equal opportunity, since we're not only interested in Y = 1. Seems to be a better fit than demographic parity, since we also care about accuracy, not just equal distribution of preds.\n",
    "\n",
    "Pick column for computation of fairness metrics\n",
    "\n",
    "Performance\n",
    "Overall performance measures, most interesting in relation to the measures split by group below"
   ]
  },
  {
   "cell_type": "code",
   "execution_count": 74,
   "id": "c4e067c6",
   "metadata": {
    "execution": {
     "iopub.execute_input": "2025-07-30T21:38:41.742140Z",
     "iopub.status.busy": "2025-07-30T21:38:41.741286Z",
     "iopub.status.idle": "2025-07-30T21:38:41.749400Z",
     "shell.execute_reply": "2025-07-30T21:38:41.748468Z"
    },
    "papermill": {
     "duration": 0.042121,
     "end_time": "2025-07-30T21:38:41.751023",
     "exception": false,
     "start_time": "2025-07-30T21:38:41.708902",
     "status": "completed"
    },
    "tags": []
   },
   "outputs": [
    {
     "data": {
      "text/plain": [
       "accuracy                   0.215060\n",
       "balanced accuracy          0.527802\n",
       "f1                         0.236647\n",
       "precision                  0.135189\n",
       "false positive rate        0.892867\n",
       "false negative rate        0.051529\n",
       "selection rate             0.900000\n",
       "count                  89710.000000\n",
       "dtype: float64"
      ]
     },
     "execution_count": 74,
     "metadata": {},
     "output_type": "execute_result"
    }
   ],
   "source": [
    "metric_frame.overall"
   ]
  },
  {
   "cell_type": "markdown",
   "id": "e968fe9d",
   "metadata": {
    "papermill": {
     "duration": 0.030891,
     "end_time": "2025-07-30T21:38:41.813016",
     "exception": false,
     "start_time": "2025-07-30T21:38:41.782125",
     "status": "completed"
    },
    "tags": []
   },
   "source": [
    "By Group"
   ]
  },
  {
   "cell_type": "code",
   "execution_count": 75,
   "id": "ec325bce",
   "metadata": {
    "execution": {
     "iopub.execute_input": "2025-07-30T21:38:41.876057Z",
     "iopub.status.busy": "2025-07-30T21:38:41.875531Z",
     "iopub.status.idle": "2025-07-30T21:38:41.891925Z",
     "shell.execute_reply": "2025-07-30T21:38:41.890968Z"
    },
    "papermill": {
     "duration": 0.050153,
     "end_time": "2025-07-30T21:38:41.893816",
     "exception": false,
     "start_time": "2025-07-30T21:38:41.843663",
     "status": "completed"
    },
    "tags": []
   },
   "outputs": [
    {
     "data": {
      "text/html": [
       "<div>\n",
       "<style scoped>\n",
       "    .dataframe tbody tr th:only-of-type {\n",
       "        vertical-align: middle;\n",
       "    }\n",
       "\n",
       "    .dataframe tbody tr th {\n",
       "        vertical-align: top;\n",
       "    }\n",
       "\n",
       "    .dataframe thead th {\n",
       "        text-align: right;\n",
       "    }\n",
       "</style>\n",
       "<table border=\"1\" class=\"dataframe\">\n",
       "  <thead>\n",
       "    <tr style=\"text-align: right;\">\n",
       "      <th></th>\n",
       "      <th>accuracy</th>\n",
       "      <th>balanced accuracy</th>\n",
       "      <th>f1</th>\n",
       "      <th>precision</th>\n",
       "      <th>false positive rate</th>\n",
       "      <th>false negative rate</th>\n",
       "      <th>selection rate</th>\n",
       "      <th>count</th>\n",
       "    </tr>\n",
       "    <tr>\n",
       "      <th>majmin</th>\n",
       "      <th></th>\n",
       "      <th></th>\n",
       "      <th></th>\n",
       "      <th></th>\n",
       "      <th></th>\n",
       "      <th></th>\n",
       "      <th></th>\n",
       "      <th></th>\n",
       "    </tr>\n",
       "  </thead>\n",
       "  <tbody>\n",
       "    <tr>\n",
       "      <th>majority</th>\n",
       "      <td>0.236230</td>\n",
       "      <td>0.534000</td>\n",
       "      <td>0.245178</td>\n",
       "      <td>0.141002</td>\n",
       "      <td>0.870731</td>\n",
       "      <td>0.061269</td>\n",
       "      <td>0.879717</td>\n",
       "      <td>69170.0</td>\n",
       "    </tr>\n",
       "    <tr>\n",
       "      <th>minority</th>\n",
       "      <td>0.143768</td>\n",
       "      <td>0.510036</td>\n",
       "      <td>0.209822</td>\n",
       "      <td>0.117402</td>\n",
       "      <td>0.965992</td>\n",
       "      <td>0.013936</td>\n",
       "      <td>0.968306</td>\n",
       "      <td>20540.0</td>\n",
       "    </tr>\n",
       "  </tbody>\n",
       "</table>\n",
       "</div>"
      ],
      "text/plain": [
       "          accuracy  balanced accuracy        f1  precision  \\\n",
       "majmin                                                       \n",
       "majority  0.236230           0.534000  0.245178   0.141002   \n",
       "minority  0.143768           0.510036  0.209822   0.117402   \n",
       "\n",
       "          false positive rate  false negative rate  selection rate    count  \n",
       "majmin                                                                       \n",
       "majority             0.870731             0.061269        0.879717  69170.0  \n",
       "minority             0.965992             0.013936        0.968306  20540.0  "
      ]
     },
     "execution_count": 75,
     "metadata": {},
     "output_type": "execute_result"
    }
   ],
   "source": [
    "metric_frame.by_group"
   ]
  },
  {
   "cell_type": "code",
   "execution_count": 76,
   "id": "a9ddbe63",
   "metadata": {
    "execution": {
     "iopub.execute_input": "2025-07-30T21:38:41.957877Z",
     "iopub.status.busy": "2025-07-30T21:38:41.957380Z",
     "iopub.status.idle": "2025-07-30T21:38:44.376821Z",
     "shell.execute_reply": "2025-07-30T21:38:44.375828Z"
    },
    "papermill": {
     "duration": 2.453257,
     "end_time": "2025-07-30T21:38:44.378416",
     "exception": false,
     "start_time": "2025-07-30T21:38:41.925159",
     "status": "completed"
    },
    "tags": []
   },
   "outputs": [
    {
     "data": {
      "text/plain": [
       "array([[<Axes: title={'center': 'accuracy'}, xlabel='majmin'>,\n",
       "        <Axes: title={'center': 'balanced accuracy'}, xlabel='majmin'>,\n",
       "        <Axes: title={'center': 'f1'}, xlabel='majmin'>],\n",
       "       [<Axes: title={'center': 'precision'}, xlabel='majmin'>,\n",
       "        <Axes: title={'center': 'false positive rate'}, xlabel='majmin'>,\n",
       "        <Axes: title={'center': 'false negative rate'}, xlabel='majmin'>],\n",
       "       [<Axes: title={'center': 'selection rate'}, xlabel='majmin'>,\n",
       "        <Axes: title={'center': 'count'}, xlabel='majmin'>,\n",
       "        <Axes: xlabel='majmin'>]], dtype=object)"
      ]
     },
     "execution_count": 76,
     "metadata": {},
     "output_type": "execute_result"
    },
    {
     "data": {
      "image/png": "[encoded data removed]",
      "text/plain": [
       "<Figure size 1200x800 with 9 Axes>"
      ]
     },
     "metadata": {},
     "output_type": "display_data"
    }
   ],
   "source": [
    "# In a graphic\n",
    "metric_frame.by_group.plot.bar(\n",
    "    subplots=True,\n",
    "    layout=[3, 3],\n",
    "    legend=False,\n",
    "    figsize=[12, 8],\n",
    "    title=\"Show all metrics\",\n",
    ")"
   ]
  },
  {
   "cell_type": "markdown",
   "id": "f57a0bac",
   "metadata": {
    "papermill": {
     "duration": 0.0262,
     "end_time": "2025-07-30T21:38:44.432195",
     "exception": false,
     "start_time": "2025-07-30T21:38:44.405995",
     "status": "completed"
    },
    "tags": []
   },
   "source": [
    "# Final Output"
   ]
  },
  {
   "cell_type": "code",
   "execution_count": 77,
   "id": "96d280a3",
   "metadata": {
    "execution": {
     "iopub.execute_input": "2025-07-30T21:38:44.487872Z",
     "iopub.status.busy": "2025-07-30T21:38:44.487277Z",
     "iopub.status.idle": "2025-07-30T21:38:44.495491Z",
     "shell.execute_reply": "2025-07-30T21:38:44.494581Z"
    },
    "papermill": {
     "duration": 0.037492,
     "end_time": "2025-07-30T21:38:44.497206",
     "exception": false,
     "start_time": "2025-07-30T21:38:44.459714",
     "status": "completed"
    },
    "tags": []
   },
   "outputs": [
    {
     "data": {
      "text/plain": [
       "4"
      ]
     },
     "execution_count": 77,
     "metadata": {},
     "output_type": "execute_result"
    }
   ],
   "source": [
    "sub_universes = universe_analysis.generate_sub_universes()\n",
    "len(sub_universes)"
   ]
  },
  {
   "cell_type": "code",
   "execution_count": 78,
   "id": "92adf7ba",
   "metadata": {
    "execution": {
     "iopub.execute_input": "2025-07-30T21:38:44.554617Z",
     "iopub.status.busy": "2025-07-30T21:38:44.553556Z",
     "iopub.status.idle": "2025-07-30T21:38:44.560101Z",
     "shell.execute_reply": "2025-07-30T21:38:44.558983Z"
    },
    "papermill": {
     "duration": 0.03616,
     "end_time": "2025-07-30T21:38:44.561834",
     "exception": false,
     "start_time": "2025-07-30T21:38:44.525674",
     "status": "completed"
    },
    "tags": []
   },
   "outputs": [],
   "source": [
    "def filter_sub_universe_data(sub_universe, org_test):\n",
    "    # Keep all rows — no filtering\n",
    "    keep_rows_mask = np.ones(org_test.shape[0], dtype=bool)\n",
    "\n",
    "    print(f\"[INFO] Keeping all rows: {keep_rows_mask.sum()} rows retained.\")\n",
    "    return keep_rows_mask"
   ]
  },
  {
   "cell_type": "code",
   "execution_count": 79,
   "id": "4a759155",
   "metadata": {
    "execution": {
     "iopub.execute_input": "2025-07-30T21:38:44.617807Z",
     "iopub.status.busy": "2025-07-30T21:38:44.616947Z",
     "iopub.status.idle": "2025-07-30T21:38:54.839904Z",
     "shell.execute_reply": "2025-07-30T21:38:54.838914Z"
    },
    "papermill": {
     "duration": 10.252594,
     "end_time": "2025-07-30T21:38:54.841710",
     "exception": false,
     "start_time": "2025-07-30T21:38:44.589116",
     "status": "completed"
    },
    "tags": []
   },
   "outputs": [
    {
     "name": "stdout",
     "output_type": "stream",
     "text": [
      "Stopping execution_time clock.\n",
      "[INFO] Keeping all rows: 89710 rows retained.\n"
     ]
    },
    {
     "name": "stdout",
     "output_type": "stream",
     "text": [
      "[INFO] Keeping all rows: 89710 rows retained.\n"
     ]
    },
    {
     "name": "stdout",
     "output_type": "stream",
     "text": [
      "[INFO] Keeping all rows: 89710 rows retained.\n"
     ]
    },
    {
     "name": "stdout",
     "output_type": "stream",
     "text": [
      "[INFO] Keeping all rows: 89710 rows retained.\n"
     ]
    },
    {
     "data": {
      "text/html": [
       "<div>\n",
       "<style scoped>\n",
       "    .dataframe tbody tr th:only-of-type {\n",
       "        vertical-align: middle;\n",
       "    }\n",
       "\n",
       "    .dataframe tbody tr th {\n",
       "        vertical-align: top;\n",
       "    }\n",
       "\n",
       "    .dataframe thead th {\n",
       "        text-align: right;\n",
       "    }\n",
       "</style>\n",
       "<table border=\"1\" class=\"dataframe\">\n",
       "  <thead>\n",
       "    <tr style=\"text-align: right;\">\n",
       "      <th></th>\n",
       "      <th>run_no</th>\n",
       "      <th>universe_id</th>\n",
       "      <th>universe_settings</th>\n",
       "      <th>execution_time</th>\n",
       "      <th>test_size_n</th>\n",
       "      <th>test_size_frac</th>\n",
       "      <th>fair_main_equalized_odds_difference</th>\n",
       "      <th>fair_main_equalized_odds_ratio</th>\n",
       "      <th>fair_main_demographic_parity_difference</th>\n",
       "      <th>fair_main_demographic_parity_ratio</th>\n",
       "      <th>...</th>\n",
       "      <th>perf_grp_precision_0</th>\n",
       "      <th>perf_grp_precision_1</th>\n",
       "      <th>perf_grp_false positive rate_0</th>\n",
       "      <th>perf_grp_false positive rate_1</th>\n",
       "      <th>perf_grp_false negative rate_0</th>\n",
       "      <th>perf_grp_false negative rate_1</th>\n",
       "      <th>perf_grp_selection rate_0</th>\n",
       "      <th>perf_grp_selection rate_1</th>\n",
       "      <th>perf_grp_count_0</th>\n",
       "      <th>perf_grp_count_1</th>\n",
       "    </tr>\n",
       "  </thead>\n",
       "  <tbody>\n",
       "    <tr>\n",
       "      <th>0</th>\n",
       "      <td>14</td>\n",
       "      <td>3cfa47c7925972ee72d1a80e5d5386cf</td>\n",
       "      <td>{\"cutoff\": \"quantile_0.1\", \"eval_fairness_grou...</td>\n",
       "      <td>26.257266</td>\n",
       "      <td>89710</td>\n",
       "      <td>1.0</td>\n",
       "      <td>0.095260</td>\n",
       "      <td>0.901386</td>\n",
       "      <td>0.088589</td>\n",
       "      <td>0.908511</td>\n",
       "      <td>...</td>\n",
       "      <td>NaN</td>\n",
       "      <td>NaN</td>\n",
       "      <td>NaN</td>\n",
       "      <td>NaN</td>\n",
       "      <td>NaN</td>\n",
       "      <td>NaN</td>\n",
       "      <td>NaN</td>\n",
       "      <td>NaN</td>\n",
       "      <td>NaN</td>\n",
       "      <td>NaN</td>\n",
       "    </tr>\n",
       "    <tr>\n",
       "      <th>0</th>\n",
       "      <td>14</td>\n",
       "      <td>3cfa47c7925972ee72d1a80e5d5386cf</td>\n",
       "      <td>{\"cutoff\": \"quantile_0.1\", \"eval_fairness_grou...</td>\n",
       "      <td>26.257266</td>\n",
       "      <td>89710</td>\n",
       "      <td>1.0</td>\n",
       "      <td>0.095260</td>\n",
       "      <td>0.901386</td>\n",
       "      <td>0.088589</td>\n",
       "      <td>0.908511</td>\n",
       "      <td>...</td>\n",
       "      <td>0.117402</td>\n",
       "      <td>0.141002</td>\n",
       "      <td>0.965992</td>\n",
       "      <td>0.870731</td>\n",
       "      <td>0.013936</td>\n",
       "      <td>0.061269</td>\n",
       "      <td>0.968306</td>\n",
       "      <td>0.879717</td>\n",
       "      <td>20540.0</td>\n",
       "      <td>69170.0</td>\n",
       "    </tr>\n",
       "    <tr>\n",
       "      <th>0</th>\n",
       "      <td>14</td>\n",
       "      <td>3cfa47c7925972ee72d1a80e5d5386cf</td>\n",
       "      <td>{\"cutoff\": \"quantile_0.25\", \"eval_fairness_gro...</td>\n",
       "      <td>26.257266</td>\n",
       "      <td>89710</td>\n",
       "      <td>1.0</td>\n",
       "      <td>0.216324</td>\n",
       "      <td>0.759171</td>\n",
       "      <td>0.199854</td>\n",
       "      <td>0.778945</td>\n",
       "      <td>...</td>\n",
       "      <td>NaN</td>\n",
       "      <td>NaN</td>\n",
       "      <td>NaN</td>\n",
       "      <td>NaN</td>\n",
       "      <td>NaN</td>\n",
       "      <td>NaN</td>\n",
       "      <td>NaN</td>\n",
       "      <td>NaN</td>\n",
       "      <td>NaN</td>\n",
       "      <td>NaN</td>\n",
       "    </tr>\n",
       "    <tr>\n",
       "      <th>0</th>\n",
       "      <td>14</td>\n",
       "      <td>3cfa47c7925972ee72d1a80e5d5386cf</td>\n",
       "      <td>{\"cutoff\": \"quantile_0.25\", \"eval_fairness_gro...</td>\n",
       "      <td>26.257266</td>\n",
       "      <td>89710</td>\n",
       "      <td>1.0</td>\n",
       "      <td>0.216324</td>\n",
       "      <td>0.759171</td>\n",
       "      <td>0.199854</td>\n",
       "      <td>0.778945</td>\n",
       "      <td>...</td>\n",
       "      <td>0.121002</td>\n",
       "      <td>0.159632</td>\n",
       "      <td>0.898250</td>\n",
       "      <td>0.681926</td>\n",
       "      <td>0.051098</td>\n",
       "      <td>0.149234</td>\n",
       "      <td>0.904090</td>\n",
       "      <td>0.704236</td>\n",
       "      <td>20540.0</td>\n",
       "      <td>69170.0</td>\n",
       "    </tr>\n",
       "  </tbody>\n",
       "</table>\n",
       "<p>4 rows × 50 columns</p>\n",
       "</div>"
      ],
      "text/plain": [
       "  run_no                       universe_id  \\\n",
       "0     14  3cfa47c7925972ee72d1a80e5d5386cf   \n",
       "0     14  3cfa47c7925972ee72d1a80e5d5386cf   \n",
       "0     14  3cfa47c7925972ee72d1a80e5d5386cf   \n",
       "0     14  3cfa47c7925972ee72d1a80e5d5386cf   \n",
       "\n",
       "                                   universe_settings  execution_time  \\\n",
       "0  {\"cutoff\": \"quantile_0.1\", \"eval_fairness_grou...       26.257266   \n",
       "0  {\"cutoff\": \"quantile_0.1\", \"eval_fairness_grou...       26.257266   \n",
       "0  {\"cutoff\": \"quantile_0.25\", \"eval_fairness_gro...       26.257266   \n",
       "0  {\"cutoff\": \"quantile_0.25\", \"eval_fairness_gro...       26.257266   \n",
       "\n",
       "   test_size_n  test_size_frac  fair_main_equalized_odds_difference  \\\n",
       "0        89710             1.0                             0.095260   \n",
       "0        89710             1.0                             0.095260   \n",
       "0        89710             1.0                             0.216324   \n",
       "0        89710             1.0                             0.216324   \n",
       "\n",
       "   fair_main_equalized_odds_ratio  fair_main_demographic_parity_difference  \\\n",
       "0                        0.901386                                 0.088589   \n",
       "0                        0.901386                                 0.088589   \n",
       "0                        0.759171                                 0.199854   \n",
       "0                        0.759171                                 0.199854   \n",
       "\n",
       "   fair_main_demographic_parity_ratio  ...  perf_grp_precision_0  \\\n",
       "0                            0.908511  ...                   NaN   \n",
       "0                            0.908511  ...              0.117402   \n",
       "0                            0.778945  ...                   NaN   \n",
       "0                            0.778945  ...              0.121002   \n",
       "\n",
       "   perf_grp_precision_1  perf_grp_false positive rate_0  \\\n",
       "0                   NaN                             NaN   \n",
       "0              0.141002                        0.965992   \n",
       "0                   NaN                             NaN   \n",
       "0              0.159632                        0.898250   \n",
       "\n",
       "   perf_grp_false positive rate_1  perf_grp_false negative rate_0  \\\n",
       "0                             NaN                             NaN   \n",
       "0                        0.870731                        0.013936   \n",
       "0                             NaN                             NaN   \n",
       "0                        0.681926                        0.051098   \n",
       "\n",
       "   perf_grp_false negative rate_1  perf_grp_selection rate_0  \\\n",
       "0                             NaN                        NaN   \n",
       "0                        0.061269                   0.968306   \n",
       "0                             NaN                        NaN   \n",
       "0                        0.149234                   0.904090   \n",
       "\n",
       "   perf_grp_selection rate_1  perf_grp_count_0  perf_grp_count_1  \n",
       "0                        NaN               NaN               NaN  \n",
       "0                   0.879717           20540.0           69170.0  \n",
       "0                        NaN               NaN               NaN  \n",
       "0                   0.704236           20540.0           69170.0  \n",
       "\n",
       "[4 rows x 50 columns]"
      ]
     },
     "execution_count": 79,
     "metadata": {},
     "output_type": "execute_result"
    }
   ],
   "source": [
    "final_output = universe_analysis.generate_final_output(\n",
    "    y_pred_prob=probs_test,\n",
    "    y_test=y_true,\n",
    "    org_test=org_test,\n",
    "    filter_data=filter_sub_universe_data,\n",
    "    cp_metrics_df=cp_metrics_df,\n",
    "    save=True,\n",
    ")\n",
    "final_output"
   ]
  },
  {
   "cell_type": "code",
   "execution_count": null,
   "id": "721ff514-cb11-46f8-b6fc-50392f74b5cb",
   "metadata": {
    "papermill": {
     "duration": 0.031776,
     "end_time": "2025-07-30T21:38:54.907620",
     "exception": false,
     "start_time": "2025-07-30T21:38:54.875844",
     "status": "completed"
    },
    "tags": []
   },
   "outputs": [],
   "source": []
  }
 ],
 "metadata": {
  "celltoolbar": "Tags",
  "kernelspec": {
   "display_name": "Python (CMA Fairness)",
   "language": "python",
   "name": "cma_fair_env"
  },
  "language_info": {
   "codemirror_mode": {
    "name": "ipython",
    "version": 3
   },
   "file_extension": ".py",
   "mimetype": "text/x-python",
   "name": "python",
   "nbconvert_exporter": "python",
   "pygments_lexer": "ipython3",
   "version": "3.10.12"
  },
  "papermill": {
   "default_parameters": {},
   "duration": 40.453409,
   "end_time": "2025-07-30T21:38:55.658359",
   "environment_variables": {},
   "exception": null,
   "input_path": "universe_analysis.ipynb",
   "output_path": "output/runs/14/notebooks/m_14-3cfa47c7925972ee72d1a80e5d5386cf.ipynb",
   "parameters": {
    "output_dir": "output",
    "run_no": "14",
    "seed": "2023",
    "universe": "{\"cutoff\": [\"quantile_0.1\", \"quantile_0.25\"], \"eval_fairness_grouping\": [\"majority-minority\", \"nationality-all\"], \"exclude_features\": \"sex\", \"exclude_subgroups\": \"keep-all\", \"model\": \"logreg\", \"scale\": \"do-not-scale\", \"training_size\": \"1k\", \"training_year\": \"2012_14\"}",
    "universe_id": "3cfa47c7925972ee72d1a80e5d5386cf"
   },
   "start_time": "2025-07-30T21:38:15.204950",
   "version": "2.6.0"
  }
 },
 "nbformat": 4,
 "nbformat_minor": 5
}