{
 "cells": [
  {
   "cell_type": "code",
   "execution_count": 1,
   "id": "f159f837-637b-42ba-96b5-ec9a68c44524",
   "metadata": {
    "execution": {
     "iopub.execute_input": "2025-07-30T19:50:20.507054Z",
     "iopub.status.busy": "2025-07-30T19:50:20.506629Z",
     "iopub.status.idle": "2025-07-30T19:50:20.519372Z",
     "shell.execute_reply": "2025-07-30T19:50:20.518558Z"
    },
    "papermill": {
     "duration": 0.025749,
     "end_time": "2025-07-30T19:50:20.520815",
     "exception": false,
     "start_time": "2025-07-30T19:50:20.495066",
     "status": "completed"
    },
    "tags": []
   },
   "outputs": [
    {
     "name": "stdout",
     "output_type": "stream",
     "text": [
      "/dss/dsshome1/0C/ra93lal2/cma/CMA_Fairness_v2\n"
     ]
    },
    {
     "name": "stderr",
     "output_type": "stream",
     "text": [
      "/dss/dsshome1/0C/ra93lal2/.local/share/virtualenvs/CMA_Fairness_v2-3j10GkSs/lib/python3.10/site-packages/IPython/core/magics/osm.py:393: UserWarning: This is now an optional IPython functionality, using bookmarks requires you to install the `pickleshare` library.\n",
      "  bkms = self.shell.db.get('bookmarks', {})\n",
      "/dss/dsshome1/0C/ra93lal2/.local/share/virtualenvs/CMA_Fairness_v2-3j10GkSs/lib/python3.10/site-packages/IPython/core/magics/osm.py:417: UserWarning: This is now an optional IPython functionality, setting dhist requires you to install the `pickleshare` library.\n",
      "  self.shell.db['dhist'] = compress_dhist(dhist)[-100:]\n"
     ]
    }
   ],
   "source": [
    "%cd ~/cma/CMA_Fairness_v2"
   ]
  },
  {
   "cell_type": "markdown",
   "id": "de2603b9",
   "metadata": {
    "papermill": {
     "duration": 0.010408,
     "end_time": "2025-07-30T19:50:20.549690",
     "exception": false,
     "start_time": "2025-07-30T19:50:20.539282",
     "status": "completed"
    },
    "tags": []
   },
   "source": [
    "The following cell holds the definition of our parameters, these values can be overriden by rendering the with e.g. the following command:\n",
    "\n",
    "papermill -p alpha 0.2 -p ratio 0.3 universe_analysis.ipynb output/test_run.ipynb"
   ]
  },
  {
   "cell_type": "code",
   "execution_count": 2,
   "id": "a80968a0-40bb-4fa9-85ef-2d5eefb01975",
   "metadata": {
    "execution": {
     "iopub.execute_input": "2025-07-30T19:50:20.577359Z",
     "iopub.status.busy": "2025-07-30T19:50:20.577075Z",
     "iopub.status.idle": "2025-07-30T19:50:20.581932Z",
     "shell.execute_reply": "2025-07-30T19:50:20.580966Z"
    },
    "papermill": {
     "duration": 0.019268,
     "end_time": "2025-07-30T19:50:20.583781",
     "exception": false,
     "start_time": "2025-07-30T19:50:20.564513",
     "status": "completed"
    },
    "tags": []
   },
   "outputs": [
    {
     "name": "stdout",
     "output_type": "stream",
     "text": [
      "Current working directory: /dss/dsshome1/0C/ra93lal2/cma/CMA_Fairness_v2\n"
     ]
    }
   ],
   "source": [
    "import os\n",
    "print(\"Current working directory:\", os.getcwd())"
   ]
  },
  {
   "cell_type": "code",
   "execution_count": 3,
   "id": "2dce4c03",
   "metadata": {
    "execution": {
     "iopub.execute_input": "2025-07-30T19:50:20.628984Z",
     "iopub.status.busy": "2025-07-30T19:50:20.628624Z",
     "iopub.status.idle": "2025-07-30T19:50:20.635298Z",
     "shell.execute_reply": "2025-07-30T19:50:20.634300Z"
    },
    "papermill": {
     "duration": 0.030807,
     "end_time": "2025-07-30T19:50:20.637020",
     "exception": false,
     "start_time": "2025-07-30T19:50:20.606213",
     "status": "completed"
    },
    "tags": [
     "parameters"
    ]
   },
   "outputs": [],
   "source": [
    "run_no = 0\n",
    "universe_id = \"test\"\n",
    "universe = {\n",
    "    \"training_size\": \"25k\", # \"25k\", \"5k\", \"1k\"\n",
    "    \"training_year\": \"2014\", # \"2014\", \"2012_14\", \"2010_14\"\n",
    "    \"scale\": \"scale\", # \"scale\", \"do-not-scale\",\n",
    "    #\"stratify_split\": \"target\", # \"none\", \"target\", \"protected-attribute\", \"both\",\n",
    "    \"model\": \"elasticnet\", # \"logreg\", \"penalized_logreg\", \"rf\", \"gbm\", \"elasticnet\"\n",
    "    \"cutoff\": [\"quantile_0.15\", \"quantile_0.30\"],\n",
    "    \"exclude_features\": \"age\", # \"none\", \"nationality\", \"sex\", \"nationality-sex\", \"age\"\n",
    "    \"exclude_subgroups\": \"keep-all\", # \"keep-all\", \"drop-non-german\"\n",
    "    \"eval_fairness_grouping\": [\"majority-minority\", \"nationality-all\"]\n",
    "}\n",
    "\n",
    "output_dir=\"./output\"\n",
    "seed=0"
   ]
  },
  {
   "cell_type": "code",
   "execution_count": 4,
   "id": "f3674a48",
   "metadata": {
    "execution": {
     "iopub.execute_input": "2025-07-30T19:50:20.680185Z",
     "iopub.status.busy": "2025-07-30T19:50:20.679730Z",
     "iopub.status.idle": "2025-07-30T19:50:20.685051Z",
     "shell.execute_reply": "2025-07-30T19:50:20.684097Z"
    },
    "papermill": {
     "duration": 0.029588,
     "end_time": "2025-07-30T19:50:20.686690",
     "exception": false,
     "start_time": "2025-07-30T19:50:20.657102",
     "status": "completed"
    },
    "tags": [
     "injected-parameters"
    ]
   },
   "outputs": [],
   "source": [
    "# Parameters\n",
    "universe_id = \"157bef778c578c293295aa0c1753ebf5\"\n",
    "run_no = \"14\"\n",
    "universe = \"{\\\"cutoff\\\": [\\\"quantile_0.1\\\", \\\"quantile_0.25\\\"], \\\"eval_fairness_grouping\\\": [\\\"majority-minority\\\", \\\"nationality-all\\\"], \\\"exclude_features\\\": \\\"nationality\\\", \\\"exclude_subgroups\\\": \\\"drop-non-german\\\", \\\"model\\\": \\\"logreg\\\", \\\"scale\\\": \\\"scale\\\", \\\"training_size\\\": \\\"25k\\\", \\\"training_year\\\": \\\"2014\\\"}\"\n",
    "output_dir = \"output\"\n",
    "seed = \"2023\"\n"
   ]
  },
  {
   "cell_type": "code",
   "execution_count": 5,
   "id": "1650acaf",
   "metadata": {
    "execution": {
     "iopub.execute_input": "2025-07-30T19:50:20.724869Z",
     "iopub.status.busy": "2025-07-30T19:50:20.724622Z",
     "iopub.status.idle": "2025-07-30T19:50:20.728294Z",
     "shell.execute_reply": "2025-07-30T19:50:20.727406Z"
    },
    "papermill": {
     "duration": 0.026664,
     "end_time": "2025-07-30T19:50:20.729940",
     "exception": false,
     "start_time": "2025-07-30T19:50:20.703276",
     "status": "completed"
    },
    "tags": []
   },
   "outputs": [],
   "source": [
    "import json\n",
    "# Parse universe into dict if it is passed as a string\n",
    "if isinstance(universe, str):\n",
    "    universe = json.loads(universe)"
   ]
  },
  {
   "cell_type": "code",
   "execution_count": 6,
   "id": "16620c48",
   "metadata": {
    "execution": {
     "iopub.execute_input": "2025-07-30T19:50:20.770727Z",
     "iopub.status.busy": "2025-07-30T19:50:20.770115Z",
     "iopub.status.idle": "2025-07-30T19:50:20.818263Z",
     "shell.execute_reply": "2025-07-30T19:50:20.817260Z"
    },
    "papermill": {
     "duration": 0.07149,
     "end_time": "2025-07-30T19:50:20.819685",
     "exception": false,
     "start_time": "2025-07-30T19:50:20.748195",
     "status": "completed"
    },
    "tags": []
   },
   "outputs": [],
   "source": [
    "# Auto-reload the custom package\n",
    "%load_ext autoreload\n",
    "%autoreload 1\n",
    "%aimport fairness_multiverse"
   ]
  },
  {
   "cell_type": "code",
   "execution_count": 7,
   "id": "01c5c9f3",
   "metadata": {
    "execution": {
     "iopub.execute_input": "2025-07-30T19:50:20.851469Z",
     "iopub.status.busy": "2025-07-30T19:50:20.851061Z",
     "iopub.status.idle": "2025-07-30T19:50:22.865898Z",
     "shell.execute_reply": "2025-07-30T19:50:22.864717Z"
    },
    "papermill": {
     "duration": 2.037055,
     "end_time": "2025-07-30T19:50:22.867875",
     "exception": false,
     "start_time": "2025-07-30T19:50:20.830820",
     "status": "completed"
    },
    "tags": []
   },
   "outputs": [],
   "source": [
    "from fairness_multiverse.universe import UniverseAnalysis\n",
    "\n",
    "universe_analysis = UniverseAnalysis(\n",
    "    run_no = run_no,\n",
    "    universe_id = universe_id,\n",
    "    universe = universe,\n",
    "    output_dir=output_dir,\n",
    ")"
   ]
  },
  {
   "cell_type": "code",
   "execution_count": 8,
   "id": "106241f5",
   "metadata": {
    "execution": {
     "iopub.execute_input": "2025-07-30T19:50:22.916436Z",
     "iopub.status.busy": "2025-07-30T19:50:22.915985Z",
     "iopub.status.idle": "2025-07-30T19:50:22.923076Z",
     "shell.execute_reply": "2025-07-30T19:50:22.922101Z"
    },
    "papermill": {
     "duration": 0.023382,
     "end_time": "2025-07-30T19:50:22.924921",
     "exception": false,
     "start_time": "2025-07-30T19:50:22.901539",
     "status": "completed"
    },
    "tags": []
   },
   "outputs": [
    {
     "name": "stdout",
     "output_type": "stream",
     "text": [
      "Using Seed: 2023\n"
     ]
    }
   ],
   "source": [
    "import numpy as np\n",
    "parsed_seed = int(seed)\n",
    "np.random.seed(parsed_seed)\n",
    "print(f\"Using Seed: {parsed_seed}\")"
   ]
  },
  {
   "cell_type": "markdown",
   "id": "e0ebdc57",
   "metadata": {
    "papermill": {
     "duration": 0.011001,
     "end_time": "2025-07-30T19:50:22.946354",
     "exception": false,
     "start_time": "2025-07-30T19:50:22.935353",
     "status": "completed"
    },
    "tags": []
   },
   "source": [
    "# Loading Data"
   ]
  },
  {
   "cell_type": "markdown",
   "id": "681925a3",
   "metadata": {
    "papermill": {
     "duration": 0.021876,
     "end_time": "2025-07-30T19:50:22.983261",
     "exception": false,
     "start_time": "2025-07-30T19:50:22.961385",
     "status": "completed"
    },
    "tags": []
   },
   "source": [
    "Load siab_train, siab_test, siab_calib and/or \n",
    "load siab_train_features, siab_train_labels"
   ]
  },
  {
   "cell_type": "code",
   "execution_count": 9,
   "id": "f0496b8a",
   "metadata": {
    "execution": {
     "iopub.execute_input": "2025-07-30T19:50:23.026650Z",
     "iopub.status.busy": "2025-07-30T19:50:23.025998Z",
     "iopub.status.idle": "2025-07-30T19:50:36.548828Z",
     "shell.execute_reply": "2025-07-30T19:50:36.546831Z"
    },
    "papermill": {
     "duration": 13.546556,
     "end_time": "2025-07-30T19:50:36.551190",
     "exception": false,
     "start_time": "2025-07-30T19:50:23.004634",
     "status": "completed"
    },
    "tags": []
   },
   "outputs": [
    {
     "name": "stdout",
     "output_type": "stream",
     "text": [
      "Loading SIAB data from cache: data/siab_cached.csv.gz\n"
     ]
    },
    {
     "name": "stdout",
     "output_type": "stream",
     "text": [
      "(643690, 164)\n"
     ]
    }
   ],
   "source": [
    "from pathlib import Path\n",
    "import pandas as pd\n",
    "\n",
    "# File paths\n",
    "raw_file = Path(\"data/raw/siab.csv\")\n",
    "cache_file = Path(\"data/siab_cached.csv.gz\")\n",
    "\n",
    "# Ensure cache directory exists\n",
    "cache_file.parent.mkdir(parents=True, exist_ok=True)\n",
    "\n",
    "# Load with simple caching\n",
    "if cache_file.exists():\n",
    "    print(f\"Loading SIAB data from cache: {cache_file}\")\n",
    "    siab = pd.read_csv(cache_file, compression='gzip')\n",
    "else:\n",
    "    print(f\"Cache not found. Reading raw SIAB data: {raw_file}\")\n",
    "    siab = pd.read_csv(raw_file)\n",
    "    siab.to_csv(cache_file, index=False, compression='gzip')\n",
    "    print(f\"Cached SIAB data to: {cache_file}\")\n",
    "\n",
    "# Now use `siab` DataFrame as needed\n",
    "print(siab.shape)"
   ]
  },
  {
   "cell_type": "code",
   "execution_count": 10,
   "id": "db0ca512-5f53-4dba-abdb-a2888bca41ba",
   "metadata": {
    "execution": {
     "iopub.execute_input": "2025-07-30T19:50:36.617160Z",
     "iopub.status.busy": "2025-07-30T19:50:36.616353Z",
     "iopub.status.idle": "2025-07-30T19:50:36.632691Z",
     "shell.execute_reply": "2025-07-30T19:50:36.631567Z"
    },
    "papermill": {
     "duration": 0.050282,
     "end_time": "2025-07-30T19:50:36.634674",
     "exception": false,
     "start_time": "2025-07-30T19:50:36.584392",
     "status": "completed"
    },
    "tags": []
   },
   "outputs": [],
   "source": [
    "#siab"
   ]
  },
  {
   "cell_type": "code",
   "execution_count": 11,
   "id": "a0edb063",
   "metadata": {
    "execution": {
     "iopub.execute_input": "2025-07-30T19:50:36.690622Z",
     "iopub.status.busy": "2025-07-30T19:50:36.689696Z",
     "iopub.status.idle": "2025-07-30T19:50:36.709929Z",
     "shell.execute_reply": "2025-07-30T19:50:36.708733Z"
    },
    "papermill": {
     "duration": 0.050458,
     "end_time": "2025-07-30T19:50:36.712272",
     "exception": false,
     "start_time": "2025-07-30T19:50:36.661814",
     "status": "completed"
    },
    "tags": []
   },
   "outputs": [],
   "source": [
    "#import pandas as pd\n",
    "#\n",
    "#X_train = pd.read_csv(\"./data/X_train.csv\")\n",
    "#y_train = pd.read_csv(\"./data/y_train.csv\")"
   ]
  },
  {
   "cell_type": "code",
   "execution_count": 12,
   "id": "63d08085",
   "metadata": {
    "execution": {
     "iopub.execute_input": "2025-07-30T19:50:36.770074Z",
     "iopub.status.busy": "2025-07-30T19:50:36.769413Z",
     "iopub.status.idle": "2025-07-30T19:50:36.776401Z",
     "shell.execute_reply": "2025-07-30T19:50:36.775153Z"
    },
    "papermill": {
     "duration": 0.038171,
     "end_time": "2025-07-30T19:50:36.778834",
     "exception": false,
     "start_time": "2025-07-30T19:50:36.740663",
     "status": "completed"
    },
    "tags": []
   },
   "outputs": [],
   "source": [
    "#X_test = pd.read_csv(\"./data/X_test.csv\")\n",
    "#y_true = pd.read_csv(\"./data/y_test.csv\")"
   ]
  },
  {
   "cell_type": "code",
   "execution_count": 13,
   "id": "98a8d0fa-1d3d-4ed8-bb2c-281470e24add",
   "metadata": {
    "execution": {
     "iopub.execute_input": "2025-07-30T19:50:36.839387Z",
     "iopub.status.busy": "2025-07-30T19:50:36.838032Z",
     "iopub.status.idle": "2025-07-30T19:50:36.845949Z",
     "shell.execute_reply": "2025-07-30T19:50:36.844595Z"
    },
    "papermill": {
     "duration": 0.04109,
     "end_time": "2025-07-30T19:50:36.848675",
     "exception": false,
     "start_time": "2025-07-30T19:50:36.807585",
     "status": "completed"
    },
    "tags": []
   },
   "outputs": [],
   "source": [
    "# Calibration data for conformal\n",
    "#X_calib = pd.read_csv(\"./data/X_calib.csv\")\n",
    "#y_calib = pd.read_csv(\"./data/y_calib.csv\")"
   ]
  },
  {
   "cell_type": "markdown",
   "id": "997051c5-15bd-4b69-9786-c3001a3ce484",
   "metadata": {
    "papermill": {
     "duration": 0.022294,
     "end_time": "2025-07-30T19:50:36.893984",
     "exception": false,
     "start_time": "2025-07-30T19:50:36.871690",
     "status": "completed"
    },
    "tags": []
   },
   "source": [
    "# Splitting Data and Setting Training Data Size"
   ]
  },
  {
   "cell_type": "code",
   "execution_count": 14,
   "id": "e993b61f-042d-41a6-8c81-f55681f86335",
   "metadata": {
    "execution": {
     "iopub.execute_input": "2025-07-30T19:50:36.938449Z",
     "iopub.status.busy": "2025-07-30T19:50:36.938085Z",
     "iopub.status.idle": "2025-07-30T19:50:36.951906Z",
     "shell.execute_reply": "2025-07-30T19:50:36.950709Z"
    },
    "papermill": {
     "duration": 0.036376,
     "end_time": "2025-07-30T19:50:36.953463",
     "exception": false,
     "start_time": "2025-07-30T19:50:36.917087",
     "status": "completed"
    },
    "tags": []
   },
   "outputs": [],
   "source": [
    "def sample_by_year_size(df,\n",
    "                        training_year: str,\n",
    "                        training_size: str,\n",
    "                        random_state: int = 42):\n",
    "    # --- parse training_year into a list of int years ---\n",
    "    if \"_\" in training_year:\n",
    "        start_str, end_str = training_year.split(\"_\", 1)\n",
    "        start = int(start_str)\n",
    "        end   = int(end_str) if len(end_str) == 4 else (int(end_str) + (start // 100)*100)\n",
    "        years = list(range(start, end + 1))\n",
    "    else:\n",
    "        years = [int(training_year)]\n",
    "\n",
    "    df = df[df[\"year\"].isin(years)].reset_index(drop=True)\n",
    "\n",
    "    # --- map training_size to total number of samples ---\n",
    "    total_map = {\"25k\": 25_000, \"5k\": 5_000, \"1k\": 1_000}\n",
    "    if training_size not in total_map:\n",
    "        return df  # e.g. \"all\"\n",
    "\n",
    "    total_samples = total_map[training_size]\n",
    "    n_years       = len(years)\n",
    "    base          = total_samples // n_years\n",
    "    remainder     = total_samples % n_years\n",
    "\n",
    "    # --- build a dict: year -> how many to sample ---\n",
    "    # give +1 to the first `remainder` years in ascending order\n",
    "    quotas = {\n",
    "        year: base + (1 if idx < remainder else 0)\n",
    "        for idx, year in enumerate(sorted(years))\n",
    "    }\n",
    "\n",
    "    # --- sample per‐year according to the quota dict ---\n",
    "    sampled = (\n",
    "        df\n",
    "        .groupby(\"year\", group_keys=False)\n",
    "        .apply(lambda grp: grp.sample(\n",
    "            n=min(len(grp), quotas[grp.name]),\n",
    "            random_state=random_state))\n",
    "        .reset_index(drop=True)\n",
    "    )\n",
    "\n",
    "    return sampled"
   ]
  },
  {
   "cell_type": "code",
   "execution_count": 15,
   "id": "c0ccd338-0e02-41f3-a09d-f56f9266e3fb",
   "metadata": {
    "execution": {
     "iopub.execute_input": "2025-07-30T19:50:36.990926Z",
     "iopub.status.busy": "2025-07-30T19:50:36.990563Z",
     "iopub.status.idle": "2025-07-30T19:50:36.995436Z",
     "shell.execute_reply": "2025-07-30T19:50:36.994580Z"
    },
    "papermill": {
     "duration": 0.022577,
     "end_time": "2025-07-30T19:50:36.997054",
     "exception": false,
     "start_time": "2025-07-30T19:50:36.974477",
     "status": "completed"
    },
    "tags": []
   },
   "outputs": [],
   "source": [
    "#universe[\"training_size\"]"
   ]
  },
  {
   "cell_type": "code",
   "execution_count": 16,
   "id": "ca707fd7-8047-4acd-bfa5-66248fbbf8e6",
   "metadata": {
    "execution": {
     "iopub.execute_input": "2025-07-30T19:50:37.021464Z",
     "iopub.status.busy": "2025-07-30T19:50:37.021042Z",
     "iopub.status.idle": "2025-07-30T19:50:37.025308Z",
     "shell.execute_reply": "2025-07-30T19:50:37.024518Z"
    },
    "papermill": {
     "duration": 0.018023,
     "end_time": "2025-07-30T19:50:37.026690",
     "exception": false,
     "start_time": "2025-07-30T19:50:37.008667",
     "status": "completed"
    },
    "tags": []
   },
   "outputs": [],
   "source": [
    "#universe[\"training_year\"]"
   ]
  },
  {
   "cell_type": "code",
   "execution_count": 17,
   "id": "aea9c6ef-6f46-42c8-85eb-5a62025c1508",
   "metadata": {
    "execution": {
     "iopub.execute_input": "2025-07-30T19:50:37.056979Z",
     "iopub.status.busy": "2025-07-30T19:50:37.056632Z",
     "iopub.status.idle": "2025-07-30T19:50:37.367045Z",
     "shell.execute_reply": "2025-07-30T19:50:37.366156Z"
    },
    "papermill": {
     "duration": 0.329187,
     "end_time": "2025-07-30T19:50:37.369028",
     "exception": false,
     "start_time": "2025-07-30T19:50:37.039841",
     "status": "completed"
    },
    "tags": []
   },
   "outputs": [],
   "source": [
    "siab_train = sample_by_year_size(siab,\n",
    "                               training_year=universe[\"training_year\"],\n",
    "                               training_size=universe[\"training_size\"])"
   ]
  },
  {
   "cell_type": "code",
   "execution_count": 18,
   "id": "8d3afb32-789d-442c-8d5d-9f5aa8dd2eed",
   "metadata": {
    "execution": {
     "iopub.execute_input": "2025-07-30T19:50:37.470408Z",
     "iopub.status.busy": "2025-07-30T19:50:37.469920Z",
     "iopub.status.idle": "2025-07-30T19:50:37.475138Z",
     "shell.execute_reply": "2025-07-30T19:50:37.474271Z"
    },
    "papermill": {
     "duration": 0.086322,
     "end_time": "2025-07-30T19:50:37.476503",
     "exception": false,
     "start_time": "2025-07-30T19:50:37.390181",
     "status": "completed"
    },
    "tags": []
   },
   "outputs": [],
   "source": [
    "#siab_train.shape"
   ]
  },
  {
   "cell_type": "code",
   "execution_count": 19,
   "id": "d582db68-1a4c-47fb-84fc-08518dc1975a",
   "metadata": {
    "execution": {
     "iopub.execute_input": "2025-07-30T19:50:37.501974Z",
     "iopub.status.busy": "2025-07-30T19:50:37.501673Z",
     "iopub.status.idle": "2025-07-30T19:50:37.540391Z",
     "shell.execute_reply": "2025-07-30T19:50:37.539435Z"
    },
    "papermill": {
     "duration": 0.053187,
     "end_time": "2025-07-30T19:50:37.542136",
     "exception": false,
     "start_time": "2025-07-30T19:50:37.488949",
     "status": "completed"
    },
    "tags": []
   },
   "outputs": [],
   "source": [
    "#display(siab_train.groupby(\"year\").size())"
   ]
  },
  {
   "cell_type": "code",
   "execution_count": 20,
   "id": "a561edb4-d032-42cb-8256-22eac1111c64",
   "metadata": {
    "execution": {
     "iopub.execute_input": "2025-07-30T19:50:37.567478Z",
     "iopub.status.busy": "2025-07-30T19:50:37.567033Z",
     "iopub.status.idle": "2025-07-30T19:50:37.795621Z",
     "shell.execute_reply": "2025-07-30T19:50:37.794790Z"
    },
    "papermill": {
     "duration": 0.243239,
     "end_time": "2025-07-30T19:50:37.797508",
     "exception": false,
     "start_time": "2025-07-30T19:50:37.554269",
     "status": "completed"
    },
    "tags": []
   },
   "outputs": [],
   "source": [
    "#siab_train = siab_s[siab_s.year < 2015]\n",
    "siab_calib = siab[siab.year == 2015]\n",
    "siab_test = siab[siab.year == 2016]"
   ]
  },
  {
   "cell_type": "code",
   "execution_count": 21,
   "id": "472de16f-c3db-4916-846b-1f0de9cf1746",
   "metadata": {
    "execution": {
     "iopub.execute_input": "2025-07-30T19:50:37.845881Z",
     "iopub.status.busy": "2025-07-30T19:50:37.845141Z",
     "iopub.status.idle": "2025-07-30T19:50:37.863492Z",
     "shell.execute_reply": "2025-07-30T19:50:37.862613Z"
    },
    "papermill": {
     "duration": 0.047276,
     "end_time": "2025-07-30T19:50:37.865622",
     "exception": false,
     "start_time": "2025-07-30T19:50:37.818346",
     "status": "completed"
    },
    "tags": []
   },
   "outputs": [],
   "source": [
    "X_train = siab_train.iloc[:,4:164]\n",
    "y_train = siab_train.iloc[:, [3]]"
   ]
  },
  {
   "cell_type": "code",
   "execution_count": 22,
   "id": "828c96af-f43a-4ed6-ba47-8ac73a47d56c",
   "metadata": {
    "execution": {
     "iopub.execute_input": "2025-07-30T19:50:37.906949Z",
     "iopub.status.busy": "2025-07-30T19:50:37.906560Z",
     "iopub.status.idle": "2025-07-30T19:50:37.961093Z",
     "shell.execute_reply": "2025-07-30T19:50:37.959589Z"
    },
    "papermill": {
     "duration": 0.069521,
     "end_time": "2025-07-30T19:50:37.962734",
     "exception": false,
     "start_time": "2025-07-30T19:50:37.893213",
     "status": "completed"
    },
    "tags": []
   },
   "outputs": [],
   "source": [
    "X_calib = siab_calib.iloc[:,4:164]\n",
    "y_calib = siab_calib.iloc[:, [3]]"
   ]
  },
  {
   "cell_type": "code",
   "execution_count": 23,
   "id": "c34be9c3-6bd6-476e-acd3-845840e303be",
   "metadata": {
    "execution": {
     "iopub.execute_input": "2025-07-30T19:50:37.989686Z",
     "iopub.status.busy": "2025-07-30T19:50:37.988786Z",
     "iopub.status.idle": "2025-07-30T19:50:38.049748Z",
     "shell.execute_reply": "2025-07-30T19:50:38.048283Z"
    },
    "papermill": {
     "duration": 0.076863,
     "end_time": "2025-07-30T19:50:38.052271",
     "exception": false,
     "start_time": "2025-07-30T19:50:37.975408",
     "status": "completed"
    },
    "tags": []
   },
   "outputs": [],
   "source": [
    "X_test = siab_test.iloc[:,4:164]\n",
    "y_true = siab_test.iloc[:, [3]]"
   ]
  },
  {
   "cell_type": "markdown",
   "id": "9901737e-04df-44f0-9100-f5ad144ed040",
   "metadata": {
    "papermill": {
     "duration": 0.025554,
     "end_time": "2025-07-30T19:50:38.107241",
     "exception": false,
     "start_time": "2025-07-30T19:50:38.081687",
     "status": "completed"
    },
    "tags": []
   },
   "source": [
    "# Splitting Data and Setting Training Data Size OLD VERSION"
   ]
  },
  {
   "cell_type": "code",
   "execution_count": 24,
   "id": "acbc8f7d-8fc8-4e86-8c59-5dcb0f58384b",
   "metadata": {
    "execution": {
     "iopub.execute_input": "2025-07-30T19:50:38.167497Z",
     "iopub.status.busy": "2025-07-30T19:50:38.167001Z",
     "iopub.status.idle": "2025-07-30T19:50:38.173132Z",
     "shell.execute_reply": "2025-07-30T19:50:38.171921Z"
    },
    "papermill": {
     "duration": 0.040778,
     "end_time": "2025-07-30T19:50:38.174883",
     "exception": false,
     "start_time": "2025-07-30T19:50:38.134105",
     "status": "completed"
    },
    "tags": []
   },
   "outputs": [],
   "source": [
    "#def sample_by_year(df, training_size, random_state=42):\n",
    "#    if training_size == \"2014\":\n",
    "#        return df[df[\"year\"] == 2014].reset_index(drop=True)\n",
    "#    \n",
    "#    size_map = {\n",
    "#        \"25k\": 5000,\n",
    "#        \"5k\": 1000,\n",
    "#        \"1k\": 200\n",
    "#    }\n",
    "#\n",
    "#    if training_size not in size_map:\n",
    "#        return df.reset_index(drop=True)  # use all data\n",
    "#\n",
    "#    n_per_year = size_map[training_size]\n",
    "#    grouped = df.groupby(\"year\")\n",
    "#    sampled = grouped.apply(lambda x: x.sample(n=min(n_per_year, len(x)), random_state=random_state))\n",
    "#    return sampled.reset_index(drop=True)"
   ]
  },
  {
   "cell_type": "code",
   "execution_count": 25,
   "id": "6d931f52-beaf-43ff-9e78-9d44a448d54e",
   "metadata": {
    "execution": {
     "iopub.execute_input": "2025-07-30T19:50:38.224344Z",
     "iopub.status.busy": "2025-07-30T19:50:38.223916Z",
     "iopub.status.idle": "2025-07-30T19:50:38.264124Z",
     "shell.execute_reply": "2025-07-30T19:50:38.263297Z"
    },
    "papermill": {
     "duration": 0.066916,
     "end_time": "2025-07-30T19:50:38.265815",
     "exception": false,
     "start_time": "2025-07-30T19:50:38.198899",
     "status": "completed"
    },
    "tags": []
   },
   "outputs": [],
   "source": [
    "#siab_s = sample_by_year(siab, universe[\"training_size\"])"
   ]
  },
  {
   "cell_type": "code",
   "execution_count": 26,
   "id": "5db0a40e-a4e2-4920-be85-b12ae061d70d",
   "metadata": {
    "execution": {
     "iopub.execute_input": "2025-07-30T19:50:38.308211Z",
     "iopub.status.busy": "2025-07-30T19:50:38.307691Z",
     "iopub.status.idle": "2025-07-30T19:50:38.313148Z",
     "shell.execute_reply": "2025-07-30T19:50:38.312057Z"
    },
    "papermill": {
     "duration": 0.031627,
     "end_time": "2025-07-30T19:50:38.314990",
     "exception": false,
     "start_time": "2025-07-30T19:50:38.283363",
     "status": "completed"
    },
    "tags": []
   },
   "outputs": [],
   "source": [
    "#display(siab_s.groupby(\"year\").size())"
   ]
  },
  {
   "cell_type": "code",
   "execution_count": 27,
   "id": "e6c733c5",
   "metadata": {
    "execution": {
     "iopub.execute_input": "2025-07-30T19:50:38.365925Z",
     "iopub.status.busy": "2025-07-30T19:50:38.365027Z",
     "iopub.status.idle": "2025-07-30T19:50:38.489268Z",
     "shell.execute_reply": "2025-07-30T19:50:38.488102Z"
    },
    "papermill": {
     "duration": 0.152276,
     "end_time": "2025-07-30T19:50:38.491570",
     "exception": false,
     "start_time": "2025-07-30T19:50:38.339294",
     "status": "completed"
    },
    "tags": []
   },
   "outputs": [],
   "source": [
    "# Auxiliary data needed downstream in the pipeline\n",
    "\n",
    "org_train = X_train.copy()\n",
    "org_test = X_test.copy()\n",
    "org_calib = X_calib.copy()"
   ]
  },
  {
   "cell_type": "code",
   "execution_count": 28,
   "id": "1466abac-c6da-4492-a62f-4240ae3783af",
   "metadata": {
    "execution": {
     "iopub.execute_input": "2025-07-30T19:50:38.546910Z",
     "iopub.status.busy": "2025-07-30T19:50:38.546342Z",
     "iopub.status.idle": "2025-07-30T19:50:38.553103Z",
     "shell.execute_reply": "2025-07-30T19:50:38.551932Z"
    },
    "papermill": {
     "duration": 0.03863,
     "end_time": "2025-07-30T19:50:38.555162",
     "exception": false,
     "start_time": "2025-07-30T19:50:38.516532",
     "status": "completed"
    },
    "tags": []
   },
   "outputs": [],
   "source": [
    "# put in other script?\n",
    "# Group sizes\n",
    "\n",
    "#def calculate_percentages(df, df_name):\n",
    "#    total_entries = len(df)\n",
    "#\n",
    "#    female_pct = (df['frau1'] == 1).mean() * 100\n",
    "#    non_german_pct = ((df['maxdeutsch1'] == 0) & (df['maxdeutsch.Missing.'] == 0)).mean() * 100\n",
    "#    non_german_male_pct = ((df['frau1'] == 0) & (df['maxdeutsch1'] == 0) & (df['maxdeutsch.Missing.'] == 0)).mean() * 100\n",
    "#    non_german_female_pct = ((df['frau1'] == 1) & (df['maxdeutsch1'] == 0) & (df['maxdeutsch.Missing.'] == 0)).mean() * 100\n",
    "#\n",
    "#    print(f\"--- {df_name} ---\")\n",
    "#    print(f\"Female: {female_pct:.2f}%\")\n",
    "#    print(f\"Non-German: {non_german_pct:.2f}%\")\n",
    "#    print(f\"Non-German Male: {non_german_male_pct:.2f}%\")\n",
    "#    print(f\"Non-German Female: {non_german_female_pct:.2f}%\\n\")\n",
    "#\n",
    "## Calculate for each DataFrame\n",
    "#calculate_percentages(siab_calib, \"siab_calib\")\n",
    "#calculate_percentages(siab_test, \"siab_test\")\n",
    "#calculate_percentages(siab_train, \"siab_train\")"
   ]
  },
  {
   "cell_type": "markdown",
   "id": "0a4a1b33",
   "metadata": {
    "papermill": {
     "duration": 0.017999,
     "end_time": "2025-07-30T19:50:38.598859",
     "exception": false,
     "start_time": "2025-07-30T19:50:38.580860",
     "status": "completed"
    },
    "tags": []
   },
   "source": [
    "# Preprocessing Data"
   ]
  },
  {
   "cell_type": "code",
   "execution_count": 29,
   "id": "ca879031",
   "metadata": {
    "execution": {
     "iopub.execute_input": "2025-07-30T19:50:38.648158Z",
     "iopub.status.busy": "2025-07-30T19:50:38.647616Z",
     "iopub.status.idle": "2025-07-30T19:50:38.653648Z",
     "shell.execute_reply": "2025-07-30T19:50:38.652721Z"
    },
    "papermill": {
     "duration": 0.032702,
     "end_time": "2025-07-30T19:50:38.655448",
     "exception": false,
     "start_time": "2025-07-30T19:50:38.622746",
     "status": "completed"
    },
    "tags": []
   },
   "outputs": [],
   "source": [
    "# EXCLUDE PROTECTED FEATURES\n",
    "# ----------------------\n",
    "# \"exclude_features\": \"none\", # \"nationality\", \"sex\", \"nationality-sex\"\n",
    "\n",
    "excluded_features = universe[\"exclude_features\"].split(\"-\") # split, e.g.: \"nationality-sex\" -> [\"nationality\", \"sex\"]\n",
    "excluded_features_dictionary = {\n",
    "    \"nationality\": [\"maxdeutsch1\", \"maxdeutsch.Missing.\"],\n",
    "    \"sex\": [\"frau1\"],\n",
    "    \"age\": [\"age\"],\n",
    "}\n"
   ]
  },
  {
   "cell_type": "code",
   "execution_count": 30,
   "id": "b745ac60",
   "metadata": {
    "execution": {
     "iopub.execute_input": "2025-07-30T19:50:38.690340Z",
     "iopub.status.busy": "2025-07-30T19:50:38.689909Z",
     "iopub.status.idle": "2025-07-30T19:50:38.701097Z",
     "shell.execute_reply": "2025-07-30T19:50:38.699926Z"
    },
    "papermill": {
     "duration": 0.026072,
     "end_time": "2025-07-30T19:50:38.702719",
     "exception": false,
     "start_time": "2025-07-30T19:50:38.676647",
     "status": "completed"
    },
    "tags": []
   },
   "outputs": [],
   "source": [
    "# Code nice names to column names\n",
    "\n",
    "excluded_features_columns = [\n",
    "    excluded_features_dictionary[f] for f in excluded_features if len(f) > 0 and f != \"none\"\n",
    "]"
   ]
  },
  {
   "cell_type": "code",
   "execution_count": 31,
   "id": "f84f73a2",
   "metadata": {
    "execution": {
     "iopub.execute_input": "2025-07-30T19:50:38.738967Z",
     "iopub.status.busy": "2025-07-30T19:50:38.738502Z",
     "iopub.status.idle": "2025-07-30T19:50:38.745199Z",
     "shell.execute_reply": "2025-07-30T19:50:38.744331Z"
    },
    "papermill": {
     "duration": 0.022203,
     "end_time": "2025-07-30T19:50:38.746948",
     "exception": false,
     "start_time": "2025-07-30T19:50:38.724745",
     "status": "completed"
    },
    "tags": []
   },
   "outputs": [],
   "source": [
    "from utils import flatten_once\n",
    "\n",
    "excluded_features_columns = flatten_once(excluded_features_columns)"
   ]
  },
  {
   "cell_type": "code",
   "execution_count": 32,
   "id": "884dea22",
   "metadata": {
    "execution": {
     "iopub.execute_input": "2025-07-30T19:50:38.796558Z",
     "iopub.status.busy": "2025-07-30T19:50:38.795886Z",
     "iopub.status.idle": "2025-07-30T19:50:38.813529Z",
     "shell.execute_reply": "2025-07-30T19:50:38.812518Z"
    },
    "papermill": {
     "duration": 0.042939,
     "end_time": "2025-07-30T19:50:38.815370",
     "exception": false,
     "start_time": "2025-07-30T19:50:38.772431",
     "status": "completed"
    },
    "tags": []
   },
   "outputs": [
    {
     "name": "stdout",
     "output_type": "stream",
     "text": [
      "Dropping features: ['maxdeutsch1', 'maxdeutsch.Missing.']\n"
     ]
    }
   ],
   "source": [
    "if len(excluded_features_columns) > 0:\n",
    "    print(f\"Dropping features: {excluded_features_columns}\")\n",
    "    X_train.drop(excluded_features_columns, axis=1, inplace=True)"
   ]
  },
  {
   "cell_type": "code",
   "execution_count": 33,
   "id": "95ab8b16",
   "metadata": {
    "execution": {
     "iopub.execute_input": "2025-07-30T19:50:38.862835Z",
     "iopub.status.busy": "2025-07-30T19:50:38.862034Z",
     "iopub.status.idle": "2025-07-30T19:50:38.916820Z",
     "shell.execute_reply": "2025-07-30T19:50:38.915914Z"
    },
    "papermill": {
     "duration": 0.081662,
     "end_time": "2025-07-30T19:50:38.918761",
     "exception": false,
     "start_time": "2025-07-30T19:50:38.837099",
     "status": "completed"
    },
    "tags": []
   },
   "outputs": [
    {
     "name": "stdout",
     "output_type": "stream",
     "text": [
      "Dropping features: ['maxdeutsch1', 'maxdeutsch.Missing.']\n"
     ]
    }
   ],
   "source": [
    "if len(excluded_features_columns) > 0:\n",
    "    print(f\"Dropping features: {excluded_features_columns}\")\n",
    "    X_test.drop(excluded_features_columns, axis=1, inplace=True)"
   ]
  },
  {
   "cell_type": "code",
   "execution_count": 34,
   "id": "1853aaf5-fb9f-46cb-a2b5-8ea4ae2237e4",
   "metadata": {
    "execution": {
     "iopub.execute_input": "2025-07-30T19:50:38.972715Z",
     "iopub.status.busy": "2025-07-30T19:50:38.972280Z",
     "iopub.status.idle": "2025-07-30T19:50:39.056412Z",
     "shell.execute_reply": "2025-07-30T19:50:39.055485Z"
    },
    "papermill": {
     "duration": 0.113068,
     "end_time": "2025-07-30T19:50:39.057841",
     "exception": false,
     "start_time": "2025-07-30T19:50:38.944773",
     "status": "completed"
    },
    "tags": []
   },
   "outputs": [
    {
     "name": "stdout",
     "output_type": "stream",
     "text": [
      "Dropping features: ['maxdeutsch1', 'maxdeutsch.Missing.']\n"
     ]
    }
   ],
   "source": [
    "if len(excluded_features_columns) > 0:\n",
    "    print(f\"Dropping features: {excluded_features_columns}\")\n",
    "    X_calib.drop(excluded_features_columns, axis=1, inplace=True)"
   ]
  },
  {
   "cell_type": "code",
   "execution_count": 35,
   "id": "6727d079-03e5-481e-9d38-292a90b7a0a8",
   "metadata": {
    "execution": {
     "iopub.execute_input": "2025-07-30T19:50:39.090079Z",
     "iopub.status.busy": "2025-07-30T19:50:39.089473Z",
     "iopub.status.idle": "2025-07-30T19:50:39.095582Z",
     "shell.execute_reply": "2025-07-30T19:50:39.094492Z"
    },
    "papermill": {
     "duration": 0.022527,
     "end_time": "2025-07-30T19:50:39.097921",
     "exception": false,
     "start_time": "2025-07-30T19:50:39.075394",
     "status": "completed"
    },
    "tags": []
   },
   "outputs": [],
   "source": [
    "# SPLIT & STRATIFY DATA\n",
    "# ----------------------"
   ]
  },
  {
   "cell_type": "code",
   "execution_count": 36,
   "id": "76c4dc6d",
   "metadata": {
    "execution": {
     "iopub.execute_input": "2025-07-30T19:50:39.141200Z",
     "iopub.status.busy": "2025-07-30T19:50:39.140435Z",
     "iopub.status.idle": "2025-07-30T19:50:39.146107Z",
     "shell.execute_reply": "2025-07-30T19:50:39.145154Z"
    },
    "papermill": {
     "duration": 0.02062,
     "end_time": "2025-07-30T19:50:39.147693",
     "exception": false,
     "start_time": "2025-07-30T19:50:39.127073",
     "status": "completed"
    },
    "tags": []
   },
   "outputs": [],
   "source": [
    "# EXCLUDE CERTAIN SUBGROUPS\n",
    "# ----------------------\n",
    "\n",
    "mode = universe.get(\"exclude_subgroups\", \"keep-all\") \n",
    "# Fetches the exclude_subgroups setting from the universe dict.\n",
    "# Defaults to \"keep-all\" if the key is missing."
   ]
  },
  {
   "cell_type": "code",
   "execution_count": 37,
   "id": "21994072",
   "metadata": {
    "execution": {
     "iopub.execute_input": "2025-07-30T19:50:39.173631Z",
     "iopub.status.busy": "2025-07-30T19:50:39.173009Z",
     "iopub.status.idle": "2025-07-30T19:50:39.180370Z",
     "shell.execute_reply": "2025-07-30T19:50:39.179413Z"
    },
    "papermill": {
     "duration": 0.021889,
     "end_time": "2025-07-30T19:50:39.182137",
     "exception": false,
     "start_time": "2025-07-30T19:50:39.160248",
     "status": "completed"
    },
    "tags": []
   },
   "outputs": [],
   "source": [
    "if mode == \"keep-all\":\n",
    "    keep_mask = pd.Series(True, index=org_train.index)\n",
    "\n",
    "# org_train contains the original feature columns from features_org (in Simson)\n",
    "# features_org contains unprocessed features, for me X_train at beginning ???\n",
    "# For keep-all, creates a boolean Series (keep_mask) of all True, so no rows are removed.\n",
    "\n",
    "elif mode == \"drop-non-german\":\n",
    "    keep_mask = org_train[\"maxdeutsch1\"] == 1 # ??? what about missing values?\n",
    "\n",
    "else:\n",
    "    raise ValueError(f\"Unsupported mode for exclude_subgroups: {mode}\")\n"
   ]
  },
  {
   "cell_type": "code",
   "execution_count": 38,
   "id": "71651440",
   "metadata": {
    "execution": {
     "iopub.execute_input": "2025-07-30T19:50:39.238184Z",
     "iopub.status.busy": "2025-07-30T19:50:39.237604Z",
     "iopub.status.idle": "2025-07-30T19:50:39.247291Z",
     "shell.execute_reply": "2025-07-30T19:50:39.246524Z"
    },
    "papermill": {
     "duration": 0.040079,
     "end_time": "2025-07-30T19:50:39.249142",
     "exception": false,
     "start_time": "2025-07-30T19:50:39.209063",
     "status": "completed"
    },
    "tags": []
   },
   "outputs": [
    {
     "name": "stdout",
     "output_type": "stream",
     "text": [
      "Dropping 3688 rows (14.75%) where mode='drop-non-german'\n"
     ]
    }
   ],
   "source": [
    "n_drop = (~keep_mask).sum() # Calculates how many rows are set to be dropped\n",
    "if n_drop > 0:\n",
    "    pct = n_drop / len(keep_mask) * 100\n",
    "    print(f\"Dropping {n_drop} rows ({pct:.2f}%) where mode='{mode}'\")"
   ]
  },
  {
   "cell_type": "code",
   "execution_count": 39,
   "id": "5fb8eee5",
   "metadata": {
    "execution": {
     "iopub.execute_input": "2025-07-30T19:50:39.303290Z",
     "iopub.status.busy": "2025-07-30T19:50:39.302770Z",
     "iopub.status.idle": "2025-07-30T19:50:39.320600Z",
     "shell.execute_reply": "2025-07-30T19:50:39.319415Z"
    },
    "papermill": {
     "duration": 0.047523,
     "end_time": "2025-07-30T19:50:39.322707",
     "exception": false,
     "start_time": "2025-07-30T19:50:39.275184",
     "status": "completed"
    },
    "tags": []
   },
   "outputs": [],
   "source": [
    "X_train = X_train[keep_mask]"
   ]
  },
  {
   "cell_type": "code",
   "execution_count": 40,
   "id": "b202bb3a",
   "metadata": {
    "execution": {
     "iopub.execute_input": "2025-07-30T19:50:39.375320Z",
     "iopub.status.busy": "2025-07-30T19:50:39.374464Z",
     "iopub.status.idle": "2025-07-30T19:50:39.381067Z",
     "shell.execute_reply": "2025-07-30T19:50:39.380139Z"
    },
    "papermill": {
     "duration": 0.037004,
     "end_time": "2025-07-30T19:50:39.382885",
     "exception": false,
     "start_time": "2025-07-30T19:50:39.345881",
     "status": "completed"
    },
    "tags": []
   },
   "outputs": [],
   "source": [
    "y_train = y_train[keep_mask]"
   ]
  },
  {
   "cell_type": "markdown",
   "id": "493e2ac3",
   "metadata": {
    "papermill": {
     "duration": 0.027958,
     "end_time": "2025-07-30T19:50:39.436887",
     "exception": false,
     "start_time": "2025-07-30T19:50:39.408929",
     "status": "completed"
    },
    "tags": []
   },
   "source": [
    "# Model Training"
   ]
  },
  {
   "cell_type": "code",
   "execution_count": 41,
   "id": "679e1268",
   "metadata": {
    "execution": {
     "iopub.execute_input": "2025-07-30T19:50:39.492616Z",
     "iopub.status.busy": "2025-07-30T19:50:39.491988Z",
     "iopub.status.idle": "2025-07-30T19:50:39.612017Z",
     "shell.execute_reply": "2025-07-30T19:50:39.610994Z"
    },
    "papermill": {
     "duration": 0.150656,
     "end_time": "2025-07-30T19:50:39.614103",
     "exception": false,
     "start_time": "2025-07-30T19:50:39.463447",
     "status": "completed"
    },
    "tags": []
   },
   "outputs": [],
   "source": [
    "from sklearn.linear_model import LogisticRegression\n",
    "from sklearn.ensemble import GradientBoostingClassifier, RandomForestClassifier\n",
    "\n",
    "if (universe[\"model\"] == \"logreg\"):\n",
    "    model = LogisticRegression() #penalty=\"none\") #, solver=\"newton-cg\", max_iter=1) # include random_state=19 ?\n",
    "elif (universe[\"model\"] == \"penalized_logreg\"):\n",
    "    model = LogisticRegression(penalty=\"l2\", C=1.0) #, solver=\"newton-cg\", max_iter=1)\n",
    "elif (universe[\"model\"] == \"rf\"):\n",
    "    model = RandomForestClassifier(n_estimators=100, n_jobs=-1)\n",
    "elif (universe[\"model\"] == \"gbm\"):\n",
    "    model = GradientBoostingClassifier()\n",
    "elif (universe[\"model\"] == \"elasticnet\"):\n",
    "    model = LogisticRegression(penalty = 'elasticnet', solver = 'saga', l1_ratio = 0.5, max_iter=5000) # which solver to use?\n",
    "else:\n",
    "    raise \"Unsupported universe.model\""
   ]
  },
  {
   "cell_type": "code",
   "execution_count": 42,
   "id": "0cc8f744",
   "metadata": {
    "execution": {
     "iopub.execute_input": "2025-07-30T19:50:39.670714Z",
     "iopub.status.busy": "2025-07-30T19:50:39.670185Z",
     "iopub.status.idle": "2025-07-30T19:50:39.677312Z",
     "shell.execute_reply": "2025-07-30T19:50:39.676095Z"
    },
    "papermill": {
     "duration": 0.038438,
     "end_time": "2025-07-30T19:50:39.680652",
     "exception": false,
     "start_time": "2025-07-30T19:50:39.642214",
     "status": "completed"
    },
    "tags": []
   },
   "outputs": [],
   "source": [
    "import numpy as np\n",
    "from sklearn.pipeline import Pipeline\n",
    "from sklearn.preprocessing import StandardScaler\n",
    "\n",
    "model = Pipeline([\n",
    "    #(\"continuous_processor\", continuous_processor),\n",
    "    #(\"categorical_preprocessor\", categorical_preprocessor),\n",
    "    (\"scale\", StandardScaler() if universe[\"scale\"] == \"scale\" else None), \n",
    "    (\"model\", model),\n",
    "])"
   ]
  },
  {
   "cell_type": "code",
   "execution_count": 43,
   "id": "9442c04d",
   "metadata": {
    "execution": {
     "iopub.execute_input": "2025-07-30T19:50:39.714858Z",
     "iopub.status.busy": "2025-07-30T19:50:39.714498Z",
     "iopub.status.idle": "2025-07-30T19:50:41.162030Z",
     "shell.execute_reply": "2025-07-30T19:50:41.160920Z"
    },
    "papermill": {
     "duration": 1.467889,
     "end_time": "2025-07-30T19:50:41.164008",
     "exception": false,
     "start_time": "2025-07-30T19:50:39.696119",
     "status": "completed"
    },
    "tags": []
   },
   "outputs": [
    {
     "name": "stderr",
     "output_type": "stream",
     "text": [
      "/dss/dsshome1/0C/ra93lal2/.local/share/virtualenvs/CMA_Fairness_v2-3j10GkSs/lib/python3.10/site-packages/sklearn/linear_model/_logistic.py:444: ConvergenceWarning: lbfgs failed to converge (status=1):\n",
      "STOP: TOTAL NO. of ITERATIONS REACHED LIMIT.\n",
      "\n",
      "Increase the number of iterations (max_iter) or scale the data as shown in:\n",
      "    https://scikit-learn.org/stable/modules/preprocessing.html\n",
      "Please also refer to the documentation for alternative solver options:\n",
      "    https://scikit-learn.org/stable/modules/linear_model.html#logistic-regression\n",
      "  n_iter_i = _check_optimize_result(\n"
     ]
    },
    {
     "data": {
      "text/html": [
       "<style>#sk-container-id-1 {color: black;background-color: white;}#sk-container-id-1 pre{padding: 0;}#sk-container-id-1 div.sk-toggleable {background-color: white;}#sk-container-id-1 label.sk-toggleable__label {cursor: pointer;display: block;width: 100%;margin-bottom: 0;padding: 0.3em;box-sizing: border-box;text-align: center;}#sk-container-id-1 label.sk-toggleable__label-arrow:before {content: \"▸\";float: left;margin-right: 0.25em;color: #696969;}#sk-container-id-1 label.sk-toggleable__label-arrow:hover:before {color: black;}#sk-container-id-1 div.sk-estimator:hover label.sk-toggleable__label-arrow:before {color: black;}#sk-container-id-1 div.sk-toggleable__content {max-height: 0;max-width: 0;overflow: hidden;text-align: left;background-color: #f0f8ff;}#sk-container-id-1 div.sk-toggleable__content pre {margin: 0.2em;color: black;border-radius: 0.25em;background-color: #f0f8ff;}#sk-container-id-1 input.sk-toggleable__control:checked~div.sk-toggleable__content {max-height: 200px;max-width: 100%;overflow: auto;}#sk-container-id-1 input.sk-toggleable__control:checked~label.sk-toggleable__label-arrow:before {content: \"▾\";}#sk-container-id-1 div.sk-estimator input.sk-toggleable__control:checked~label.sk-toggleable__label {background-color: #d4ebff;}#sk-container-id-1 div.sk-label input.sk-toggleable__control:checked~label.sk-toggleable__label {background-color: #d4ebff;}#sk-container-id-1 input.sk-hidden--visually {border: 0;clip: rect(1px 1px 1px 1px);clip: rect(1px, 1px, 1px, 1px);height: 1px;margin: -1px;overflow: hidden;padding: 0;position: absolute;width: 1px;}#sk-container-id-1 div.sk-estimator {font-family: monospace;background-color: #f0f8ff;border: 1px dotted black;border-radius: 0.25em;box-sizing: border-box;margin-bottom: 0.5em;}#sk-container-id-1 div.sk-estimator:hover {background-color: #d4ebff;}#sk-container-id-1 div.sk-parallel-item::after {content: \"\";width: 100%;border-bottom: 1px solid gray;flex-grow: 1;}#sk-container-id-1 div.sk-label:hover label.sk-toggleable__label {background-color: #d4ebff;}#sk-container-id-1 div.sk-serial::before {content: \"\";position: absolute;border-left: 1px solid gray;box-sizing: border-box;top: 0;bottom: 0;left: 50%;z-index: 0;}#sk-container-id-1 div.sk-serial {display: flex;flex-direction: column;align-items: center;background-color: white;padding-right: 0.2em;padding-left: 0.2em;position: relative;}#sk-container-id-1 div.sk-item {position: relative;z-index: 1;}#sk-container-id-1 div.sk-parallel {display: flex;align-items: stretch;justify-content: center;background-color: white;position: relative;}#sk-container-id-1 div.sk-item::before, #sk-container-id-1 div.sk-parallel-item::before {content: \"\";position: absolute;border-left: 1px solid gray;box-sizing: border-box;top: 0;bottom: 0;left: 50%;z-index: -1;}#sk-container-id-1 div.sk-parallel-item {display: flex;flex-direction: column;z-index: 1;position: relative;background-color: white;}#sk-container-id-1 div.sk-parallel-item:first-child::after {align-self: flex-end;width: 50%;}#sk-container-id-1 div.sk-parallel-item:last-child::after {align-self: flex-start;width: 50%;}#sk-container-id-1 div.sk-parallel-item:only-child::after {width: 0;}#sk-container-id-1 div.sk-dashed-wrapped {border: 1px dashed gray;margin: 0 0.4em 0.5em 0.4em;box-sizing: border-box;padding-bottom: 0.4em;background-color: white;}#sk-container-id-1 div.sk-label label {font-family: monospace;font-weight: bold;display: inline-block;line-height: 1.2em;}#sk-container-id-1 div.sk-label-container {text-align: center;}#sk-container-id-1 div.sk-container {/* jupyter's `normalize.less` sets `[hidden] { display: none; }` but bootstrap.min.css set `[hidden] { display: none !important; }` so we also need the `!important` here to be able to override the default hidden behavior on the sphinx rendered scikit-learn.org. See: https://github.com/scikit-learn/scikit-learn/issues/21755 */display: inline-block !important;position: relative;}#sk-container-id-1 div.sk-text-repr-fallback {display: none;}</style><div id=\"sk-container-id-1\" class=\"sk-top-container\"><div class=\"sk-text-repr-fallback\"><pre>Pipeline(steps=[(&#x27;scale&#x27;, StandardScaler()), (&#x27;model&#x27;, LogisticRegression())])</pre><b>In a Jupyter environment, please rerun this cell to show the HTML representation or trust the notebook. <br />On GitHub, the HTML representation is unable to render, please try loading this page with nbviewer.org.</b></div><div class=\"sk-container\" hidden><div class=\"sk-item sk-dashed-wrapped\"><div class=\"sk-label-container\"><div class=\"sk-label sk-toggleable\"><input class=\"sk-toggleable__control sk-hidden--visually\" id=\"sk-estimator-id-1\" type=\"checkbox\" ><label for=\"sk-estimator-id-1\" class=\"sk-toggleable__label sk-toggleable__label-arrow\">Pipeline</label><div class=\"sk-toggleable__content\"><pre>Pipeline(steps=[(&#x27;scale&#x27;, StandardScaler()), (&#x27;model&#x27;, LogisticRegression())])</pre></div></div></div><div class=\"sk-serial\"><div class=\"sk-item\"><div class=\"sk-estimator sk-toggleable\"><input class=\"sk-toggleable__control sk-hidden--visually\" id=\"sk-estimator-id-2\" type=\"checkbox\" ><label for=\"sk-estimator-id-2\" class=\"sk-toggleable__label sk-toggleable__label-arrow\">StandardScaler</label><div class=\"sk-toggleable__content\"><pre>StandardScaler()</pre></div></div></div><div class=\"sk-item\"><div class=\"sk-estimator sk-toggleable\"><input class=\"sk-toggleable__control sk-hidden--visually\" id=\"sk-estimator-id-3\" type=\"checkbox\" ><label for=\"sk-estimator-id-3\" class=\"sk-toggleable__label sk-toggleable__label-arrow\">LogisticRegression</label><div class=\"sk-toggleable__content\"><pre>LogisticRegression()</pre></div></div></div></div></div></div></div>"
      ],
      "text/plain": [
       "Pipeline(steps=[('scale', StandardScaler()), ('model', LogisticRegression())])"
      ]
     },
     "execution_count": 43,
     "metadata": {},
     "output_type": "execute_result"
    }
   ],
   "source": [
    "model.fit(X_train, y_train.values.ravel())"
   ]
  },
  {
   "cell_type": "code",
   "execution_count": 44,
   "id": "af59f8c0",
   "metadata": {
    "execution": {
     "iopub.execute_input": "2025-07-30T19:50:41.221623Z",
     "iopub.status.busy": "2025-07-30T19:50:41.220582Z",
     "iopub.status.idle": "2025-07-30T19:50:41.226999Z",
     "shell.execute_reply": "2025-07-30T19:50:41.225776Z"
    },
    "papermill": {
     "duration": 0.037664,
     "end_time": "2025-07-30T19:50:41.229231",
     "exception": false,
     "start_time": "2025-07-30T19:50:41.191567",
     "status": "completed"
    },
    "tags": []
   },
   "outputs": [],
   "source": [
    "from fairness_multiverse.universe import predict_w_threshold"
   ]
  },
  {
   "cell_type": "code",
   "execution_count": 45,
   "id": "a7cf2e16",
   "metadata": {
    "execution": {
     "iopub.execute_input": "2025-07-30T19:50:41.288238Z",
     "iopub.status.busy": "2025-07-30T19:50:41.287483Z",
     "iopub.status.idle": "2025-07-30T19:50:41.516857Z",
     "shell.execute_reply": "2025-07-30T19:50:41.515741Z"
    },
    "papermill": {
     "duration": 0.26129,
     "end_time": "2025-07-30T19:50:41.519151",
     "exception": false,
     "start_time": "2025-07-30T19:50:41.257861",
     "status": "completed"
    },
    "tags": []
   },
   "outputs": [
    {
     "data": {
      "text/plain": [
       "0.8655445323821201"
      ]
     },
     "execution_count": 45,
     "metadata": {},
     "output_type": "execute_result"
    }
   ],
   "source": [
    "probs_test = model.predict_proba(X_test)\n",
    "\n",
    "'''\n",
    "Below code returns a boolean array (or binary 0/1 array depending on how it’s used) where each element \n",
    "is True if the probability of class 1 is greater than or equal to the threshold, and False otherwise.\n",
    "'''\n",
    "y_pred_default = predict_w_threshold(probs_test, 0.5)\n",
    "\n",
    "from sklearn.metrics import accuracy_score\n",
    "\n",
    "# Naive prediction\n",
    "accuracy_score(y_true = y_true, y_pred = y_pred_default)"
   ]
  },
  {
   "cell_type": "code",
   "execution_count": 46,
   "id": "081964c3",
   "metadata": {
    "execution": {
     "iopub.execute_input": "2025-07-30T19:50:41.588497Z",
     "iopub.status.busy": "2025-07-30T19:50:41.587579Z",
     "iopub.status.idle": "2025-07-30T19:50:41.807478Z",
     "shell.execute_reply": "2025-07-30T19:50:41.806455Z"
    },
    "papermill": {
     "duration": 0.256968,
     "end_time": "2025-07-30T19:50:41.809435",
     "exception": false,
     "start_time": "2025-07-30T19:50:41.552467",
     "status": "completed"
    },
    "tags": []
   },
   "outputs": [
    {
     "data": {
      "text/plain": [
       "array([0, 0, 0, ..., 0, 0, 0])"
      ]
     },
     "execution_count": 46,
     "metadata": {},
     "output_type": "execute_result"
    }
   ],
   "source": [
    "model.predict(X_test)"
   ]
  },
  {
   "cell_type": "markdown",
   "id": "56c9705b",
   "metadata": {
    "papermill": {
     "duration": 0.027238,
     "end_time": "2025-07-30T19:50:41.862824",
     "exception": false,
     "start_time": "2025-07-30T19:50:41.835586",
     "status": "completed"
    },
    "tags": []
   },
   "source": [
    "# Conformal Prediction"
   ]
  },
  {
   "cell_type": "code",
   "execution_count": 47,
   "id": "160ec6ff",
   "metadata": {
    "execution": {
     "iopub.execute_input": "2025-07-30T19:50:41.912299Z",
     "iopub.status.busy": "2025-07-30T19:50:41.911814Z",
     "iopub.status.idle": "2025-07-30T19:50:41.917424Z",
     "shell.execute_reply": "2025-07-30T19:50:41.916380Z"
    },
    "papermill": {
     "duration": 0.032461,
     "end_time": "2025-07-30T19:50:41.919127",
     "exception": false,
     "start_time": "2025-07-30T19:50:41.886666",
     "status": "completed"
    },
    "tags": []
   },
   "outputs": [],
   "source": [
    "# Miscoverage level for conformal prediction (10% allowed error rate => 90% target coverage)\n",
    "alpha = 0.1"
   ]
  },
  {
   "cell_type": "code",
   "execution_count": 48,
   "id": "eadf4555-3dd3-440e-8e35-f82a4ad9f855",
   "metadata": {
    "execution": {
     "iopub.execute_input": "2025-07-30T19:50:41.971917Z",
     "iopub.status.busy": "2025-07-30T19:50:41.971377Z",
     "iopub.status.idle": "2025-07-30T19:50:42.155020Z",
     "shell.execute_reply": "2025-07-30T19:50:42.153984Z"
    },
    "papermill": {
     "duration": 0.211316,
     "end_time": "2025-07-30T19:50:42.157043",
     "exception": false,
     "start_time": "2025-07-30T19:50:41.945727",
     "status": "completed"
    },
    "tags": []
   },
   "outputs": [],
   "source": [
    "probs_calib = model.predict_proba(X_calib)"
   ]
  },
  {
   "cell_type": "code",
   "execution_count": 49,
   "id": "2ed93547-6d5d-4983-9b36-1ecb300da49a",
   "metadata": {
    "execution": {
     "iopub.execute_input": "2025-07-30T19:50:42.194174Z",
     "iopub.status.busy": "2025-07-30T19:50:42.193635Z",
     "iopub.status.idle": "2025-07-30T19:50:42.200608Z",
     "shell.execute_reply": "2025-07-30T19:50:42.199385Z"
    },
    "papermill": {
     "duration": 0.029767,
     "end_time": "2025-07-30T19:50:42.202708",
     "exception": false,
     "start_time": "2025-07-30T19:50:42.172941",
     "status": "completed"
    },
    "tags": []
   },
   "outputs": [],
   "source": [
    "y_calib = y_calib.values.ravel().astype(int)"
   ]
  },
  {
   "cell_type": "code",
   "execution_count": 50,
   "id": "65d1320d-f588-4b38-9072-62af1ae97f7d",
   "metadata": {
    "execution": {
     "iopub.execute_input": "2025-07-30T19:50:42.255331Z",
     "iopub.status.busy": "2025-07-30T19:50:42.254454Z",
     "iopub.status.idle": "2025-07-30T19:50:42.261100Z",
     "shell.execute_reply": "2025-07-30T19:50:42.259901Z"
    },
    "papermill": {
     "duration": 0.036164,
     "end_time": "2025-07-30T19:50:42.265403",
     "exception": false,
     "start_time": "2025-07-30T19:50:42.229239",
     "status": "completed"
    },
    "tags": []
   },
   "outputs": [],
   "source": [
    "from fairness_multiverse.conformal import compute_nc_scores\n",
    "\n",
    "# Compute nonconformity scores on calibration set (1 - probability of true class)\n",
    "nc_scores = compute_nc_scores(probs_calib, y_calib)"
   ]
  },
  {
   "cell_type": "code",
   "execution_count": 51,
   "id": "df3b8ca3-53b7-43d5-9667-7c85da7aeda2",
   "metadata": {
    "execution": {
     "iopub.execute_input": "2025-07-30T19:50:42.322288Z",
     "iopub.status.busy": "2025-07-30T19:50:42.321400Z",
     "iopub.status.idle": "2025-07-30T19:50:42.328555Z",
     "shell.execute_reply": "2025-07-30T19:50:42.327410Z"
    },
    "papermill": {
     "duration": 0.037429,
     "end_time": "2025-07-30T19:50:42.330165",
     "exception": false,
     "start_time": "2025-07-30T19:50:42.292736",
     "status": "completed"
    },
    "tags": []
   },
   "outputs": [],
   "source": [
    "from fairness_multiverse.conformal import find_threshold\n",
    "\n",
    "# Find conformal threshold q_hat for the given alpha (split conformal method)\n",
    "q_hat = find_threshold(nc_scores, alpha)"
   ]
  },
  {
   "cell_type": "code",
   "execution_count": 52,
   "id": "4d29e6c1-0ef6-4aa4-b8fe-4fe79b0d033a",
   "metadata": {
    "execution": {
     "iopub.execute_input": "2025-07-30T19:50:42.386714Z",
     "iopub.status.busy": "2025-07-30T19:50:42.385301Z",
     "iopub.status.idle": "2025-07-30T19:50:42.395192Z",
     "shell.execute_reply": "2025-07-30T19:50:42.393947Z"
    },
    "papermill": {
     "duration": 0.048674,
     "end_time": "2025-07-30T19:50:42.399091",
     "exception": false,
     "start_time": "2025-07-30T19:50:42.350417",
     "status": "completed"
    },
    "tags": []
   },
   "outputs": [
    {
     "data": {
      "text/plain": [
       "0.675677469621847"
      ]
     },
     "execution_count": 52,
     "metadata": {},
     "output_type": "execute_result"
    }
   ],
   "source": [
    "q_hat"
   ]
  },
  {
   "cell_type": "code",
   "execution_count": 53,
   "id": "92460794-cdac-4be2-ba28-f28c0515a6fb",
   "metadata": {
    "execution": {
     "iopub.execute_input": "2025-07-30T19:50:42.470036Z",
     "iopub.status.busy": "2025-07-30T19:50:42.469403Z",
     "iopub.status.idle": "2025-07-30T19:50:43.399615Z",
     "shell.execute_reply": "2025-07-30T19:50:43.398863Z"
    },
    "papermill": {
     "duration": 0.969372,
     "end_time": "2025-07-30T19:50:43.401628",
     "exception": false,
     "start_time": "2025-07-30T19:50:42.432256",
     "status": "completed"
    },
    "tags": []
   },
   "outputs": [],
   "source": [
    "from fairness_multiverse.conformal import predict_conformal_sets\n",
    "\n",
    "# Generate prediction sets for each test example\n",
    "pred_sets = predict_conformal_sets(model, X_test, q_hat)"
   ]
  },
  {
   "cell_type": "code",
   "execution_count": 54,
   "id": "d90c9a65-e6db-4f5d-80cd-e68fb7e46829",
   "metadata": {
    "execution": {
     "iopub.execute_input": "2025-07-30T19:50:43.452541Z",
     "iopub.status.busy": "2025-07-30T19:50:43.452007Z",
     "iopub.status.idle": "2025-07-30T19:50:43.457261Z",
     "shell.execute_reply": "2025-07-30T19:50:43.456310Z"
    },
    "papermill": {
     "duration": 0.030643,
     "end_time": "2025-07-30T19:50:43.458878",
     "exception": false,
     "start_time": "2025-07-30T19:50:43.428235",
     "status": "completed"
    },
    "tags": []
   },
   "outputs": [],
   "source": [
    "y_true = y_true.squeeze()"
   ]
  },
  {
   "cell_type": "code",
   "execution_count": 55,
   "id": "3a58a54a-1e68-46b9-927a-df01f18aebc8",
   "metadata": {
    "execution": {
     "iopub.execute_input": "2025-07-30T19:50:43.517150Z",
     "iopub.status.busy": "2025-07-30T19:50:43.516629Z",
     "iopub.status.idle": "2025-07-30T19:50:44.528424Z",
     "shell.execute_reply": "2025-07-30T19:50:44.527196Z"
    },
    "papermill": {
     "duration": 1.045308,
     "end_time": "2025-07-30T19:50:44.530234",
     "exception": false,
     "start_time": "2025-07-30T19:50:43.484926",
     "status": "completed"
    },
    "tags": []
   },
   "outputs": [],
   "source": [
    "from fairness_multiverse.conformal import evaluate_sets\n",
    "\n",
    "# Evaluate coverage and average set size on test data\n",
    "metrics = evaluate_sets(pred_sets, y_true)"
   ]
  },
  {
   "cell_type": "markdown",
   "id": "2b569c12-9aaa-4c88-98c9-bbcd0cf3ebb8",
   "metadata": {
    "papermill": {
     "duration": 0.026791,
     "end_time": "2025-07-30T19:50:44.581721",
     "exception": false,
     "start_time": "2025-07-30T19:50:44.554930",
     "status": "completed"
    },
    "tags": []
   },
   "source": [
    "# CP Metrics"
   ]
  },
  {
   "cell_type": "code",
   "execution_count": 56,
   "id": "5ce0a5cb-201f-45a0-ade5-94c7f0bd6095",
   "metadata": {
    "execution": {
     "iopub.execute_input": "2025-07-30T19:50:44.630014Z",
     "iopub.status.busy": "2025-07-30T19:50:44.629529Z",
     "iopub.status.idle": "2025-07-30T19:50:44.649925Z",
     "shell.execute_reply": "2025-07-30T19:50:44.649041Z"
    },
    "papermill": {
     "duration": 0.046357,
     "end_time": "2025-07-30T19:50:44.651596",
     "exception": false,
     "start_time": "2025-07-30T19:50:44.605239",
     "status": "completed"
    },
    "tags": []
   },
   "outputs": [
    {
     "data": {
      "text/plain": [
       "{'coverage': 0.9126964663917067, 'avg_size': 1.1257830788094974}"
      ]
     },
     "execution_count": 56,
     "metadata": {},
     "output_type": "execute_result"
    }
   ],
   "source": [
    "metrics"
   ]
  },
  {
   "cell_type": "code",
   "execution_count": 57,
   "id": "9b9a838d-31c9-430b-ae14-12baee460d17",
   "metadata": {
    "execution": {
     "iopub.execute_input": "2025-07-30T19:50:44.706793Z",
     "iopub.status.busy": "2025-07-30T19:50:44.706318Z",
     "iopub.status.idle": "2025-07-30T19:50:44.713346Z",
     "shell.execute_reply": "2025-07-30T19:50:44.712311Z"
    },
    "papermill": {
     "duration": 0.036121,
     "end_time": "2025-07-30T19:50:44.715096",
     "exception": false,
     "start_time": "2025-07-30T19:50:44.678975",
     "status": "completed"
    },
    "tags": []
   },
   "outputs": [],
   "source": [
    "example_universe = universe.copy()\n",
    "universe_training_year = example_universe.get(\"training_year\")\n",
    "universe_training_size = example_universe.get(\"training_size\")\n",
    "universe_scale = example_universe.get(\"scale\")\n",
    "universe_model = example_universe.get(\"model\")\n",
    "universe_exclude_features = example_universe.get(\"exclude_features\")\n",
    "universe_exclude_subgroups = example_universe.get(\"exclude_subgroups\")"
   ]
  },
  {
   "cell_type": "code",
   "execution_count": 58,
   "id": "f4b6a8ac-9dc0-4245-8a91-5b3b5999c4f9",
   "metadata": {
    "execution": {
     "iopub.execute_input": "2025-07-30T19:50:44.771033Z",
     "iopub.status.busy": "2025-07-30T19:50:44.770442Z",
     "iopub.status.idle": "2025-07-30T19:50:44.777177Z",
     "shell.execute_reply": "2025-07-30T19:50:44.776103Z"
    },
    "papermill": {
     "duration": 0.037482,
     "end_time": "2025-07-30T19:50:44.778845",
     "exception": false,
     "start_time": "2025-07-30T19:50:44.741363",
     "status": "completed"
    },
    "tags": []
   },
   "outputs": [],
   "source": [
    "cp_metrics_dict = {\n",
    "    \"universe_id\": [universe_id],\n",
    "    \"universe_training_year\": [universe_training_year],\n",
    "    \"universe_training_size\": [universe_training_size],\n",
    "    \"universe_scale\": [universe_scale],\n",
    "    \"universe_model\": [universe_model],\n",
    "    \"universe_exclude_features\": [universe_exclude_features],\n",
    "    \"universe_exclude_subgroups\": [universe_exclude_subgroups],\n",
    "    \"q_hat\": [q_hat],\n",
    "    \"coverage\": [metrics[\"coverage\"]],\n",
    "    \"avg_size\": [metrics[\"avg_size\"]],\n",
    "}"
   ]
  },
  {
   "cell_type": "code",
   "execution_count": 59,
   "id": "908acbb1-0371-4915-85ca-3fa520d2efe2",
   "metadata": {
    "execution": {
     "iopub.execute_input": "2025-07-30T19:50:44.833516Z",
     "iopub.status.busy": "2025-07-30T19:50:44.833084Z",
     "iopub.status.idle": "2025-07-30T19:50:44.840588Z",
     "shell.execute_reply": "2025-07-30T19:50:44.839541Z"
    },
    "papermill": {
     "duration": 0.037519,
     "end_time": "2025-07-30T19:50:44.842400",
     "exception": false,
     "start_time": "2025-07-30T19:50:44.804881",
     "status": "completed"
    },
    "tags": []
   },
   "outputs": [
    {
     "data": {
      "text/plain": [
       "{'universe_id': ['157bef778c578c293295aa0c1753ebf5'],\n",
       " 'universe_training_year': ['2014'],\n",
       " 'universe_training_size': ['25k'],\n",
       " 'universe_scale': ['scale'],\n",
       " 'universe_model': ['logreg'],\n",
       " 'universe_exclude_features': ['nationality'],\n",
       " 'universe_exclude_subgroups': ['drop-non-german'],\n",
       " 'q_hat': [0.675677469621847],\n",
       " 'coverage': [0.9126964663917067],\n",
       " 'avg_size': [1.1257830788094974]}"
      ]
     },
     "execution_count": 59,
     "metadata": {},
     "output_type": "execute_result"
    }
   ],
   "source": [
    "cp_metrics_dict"
   ]
  },
  {
   "cell_type": "code",
   "execution_count": 60,
   "id": "33007efc-14e9-4ec6-97ac-56a455c82265",
   "metadata": {
    "execution": {
     "iopub.execute_input": "2025-07-30T19:50:44.898437Z",
     "iopub.status.busy": "2025-07-30T19:50:44.897937Z",
     "iopub.status.idle": "2025-07-30T19:50:44.904600Z",
     "shell.execute_reply": "2025-07-30T19:50:44.903565Z"
    },
    "papermill": {
     "duration": 0.036317,
     "end_time": "2025-07-30T19:50:44.906245",
     "exception": false,
     "start_time": "2025-07-30T19:50:44.869928",
     "status": "completed"
    },
    "tags": []
   },
   "outputs": [],
   "source": [
    "cp_metrics_df = pd.DataFrame(cp_metrics_dict)"
   ]
  },
  {
   "cell_type": "code",
   "execution_count": 61,
   "id": "db12611b-57b2-4910-b9d0-355adfd6e7bf",
   "metadata": {
    "execution": {
     "iopub.execute_input": "2025-07-30T19:50:44.962683Z",
     "iopub.status.busy": "2025-07-30T19:50:44.962186Z",
     "iopub.status.idle": "2025-07-30T19:50:44.981308Z",
     "shell.execute_reply": "2025-07-30T19:50:44.980290Z"
    },
    "papermill": {
     "duration": 0.049198,
     "end_time": "2025-07-30T19:50:44.982965",
     "exception": false,
     "start_time": "2025-07-30T19:50:44.933767",
     "status": "completed"
    },
    "tags": []
   },
   "outputs": [
    {
     "data": {
      "text/html": [
       "<div>\n",
       "<style scoped>\n",
       "    .dataframe tbody tr th:only-of-type {\n",
       "        vertical-align: middle;\n",
       "    }\n",
       "\n",
       "    .dataframe tbody tr th {\n",
       "        vertical-align: top;\n",
       "    }\n",
       "\n",
       "    .dataframe thead th {\n",
       "        text-align: right;\n",
       "    }\n",
       "</style>\n",
       "<table border=\"1\" class=\"dataframe\">\n",
       "  <thead>\n",
       "    <tr style=\"text-align: right;\">\n",
       "      <th></th>\n",
       "      <th>universe_id</th>\n",
       "      <th>universe_training_year</th>\n",
       "      <th>universe_training_size</th>\n",
       "      <th>universe_scale</th>\n",
       "      <th>universe_model</th>\n",
       "      <th>universe_exclude_features</th>\n",
       "      <th>universe_exclude_subgroups</th>\n",
       "      <th>q_hat</th>\n",
       "      <th>coverage</th>\n",
       "      <th>avg_size</th>\n",
       "    </tr>\n",
       "  </thead>\n",
       "  <tbody>\n",
       "    <tr>\n",
       "      <th>0</th>\n",
       "      <td>157bef778c578c293295aa0c1753ebf5</td>\n",
       "      <td>2014</td>\n",
       "      <td>25k</td>\n",
       "      <td>scale</td>\n",
       "      <td>logreg</td>\n",
       "      <td>nationality</td>\n",
       "      <td>drop-non-german</td>\n",
       "      <td>0.675677</td>\n",
       "      <td>0.912696</td>\n",
       "      <td>1.125783</td>\n",
       "    </tr>\n",
       "  </tbody>\n",
       "</table>\n",
       "</div>"
      ],
      "text/plain": [
       "                        universe_id universe_training_year  \\\n",
       "0  157bef778c578c293295aa0c1753ebf5                   2014   \n",
       "\n",
       "  universe_training_size universe_scale universe_model  \\\n",
       "0                    25k          scale         logreg   \n",
       "\n",
       "  universe_exclude_features universe_exclude_subgroups     q_hat  coverage  \\\n",
       "0               nationality            drop-non-german  0.675677  0.912696   \n",
       "\n",
       "   avg_size  \n",
       "0  1.125783  "
      ]
     },
     "execution_count": 61,
     "metadata": {},
     "output_type": "execute_result"
    }
   ],
   "source": [
    "cp_metrics_df"
   ]
  },
  {
   "cell_type": "code",
   "execution_count": 62,
   "id": "b7fbde55-a0a1-47e4-9af6-fe4a17fa8c61",
   "metadata": {
    "execution": {
     "iopub.execute_input": "2025-07-30T19:50:45.039228Z",
     "iopub.status.busy": "2025-07-30T19:50:45.038360Z",
     "iopub.status.idle": "2025-07-30T19:50:45.043496Z",
     "shell.execute_reply": "2025-07-30T19:50:45.042649Z"
    },
    "papermill": {
     "duration": 0.034245,
     "end_time": "2025-07-30T19:50:45.045256",
     "exception": false,
     "start_time": "2025-07-30T19:50:45.011011",
     "status": "completed"
    },
    "tags": []
   },
   "outputs": [],
   "source": [
    "# Conditional Coverage & looking at subgroups"
   ]
  },
  {
   "cell_type": "code",
   "execution_count": 63,
   "id": "027ae886-68dd-4141-96c7-805a5450e1ef",
   "metadata": {
    "execution": {
     "iopub.execute_input": "2025-07-30T19:50:45.101740Z",
     "iopub.status.busy": "2025-07-30T19:50:45.101252Z",
     "iopub.status.idle": "2025-07-30T19:50:45.375390Z",
     "shell.execute_reply": "2025-07-30T19:50:45.374425Z"
    },
    "papermill": {
     "duration": 0.304086,
     "end_time": "2025-07-30T19:50:45.377516",
     "exception": false,
     "start_time": "2025-07-30T19:50:45.073430",
     "status": "completed"
    },
    "tags": []
   },
   "outputs": [],
   "source": [
    "from fairness_multiverse.conformal import build_cp_groups\n",
    "\n",
    "cp_groups_df = build_cp_groups(pred_sets, y_true, X_test.index, org_test)\n",
    "#needs universe_id and setting"
   ]
  },
  {
   "cell_type": "code",
   "execution_count": 64,
   "id": "01d5802c-663a-4d1f-9d69-e036faaffbf7",
   "metadata": {
    "execution": {
     "iopub.execute_input": "2025-07-30T19:50:45.434664Z",
     "iopub.status.busy": "2025-07-30T19:50:45.433332Z",
     "iopub.status.idle": "2025-07-30T19:50:45.439093Z",
     "shell.execute_reply": "2025-07-30T19:50:45.438141Z"
    },
    "papermill": {
     "duration": 0.035832,
     "end_time": "2025-07-30T19:50:45.441003",
     "exception": false,
     "start_time": "2025-07-30T19:50:45.405171",
     "status": "completed"
    },
    "tags": []
   },
   "outputs": [],
   "source": [
    "#delete\n",
    "#cp_groups_df"
   ]
  },
  {
   "cell_type": "code",
   "execution_count": 65,
   "id": "fa424af1-d1eb-443d-b717-2d279ada8408",
   "metadata": {
    "execution": {
     "iopub.execute_input": "2025-07-30T19:50:45.499395Z",
     "iopub.status.busy": "2025-07-30T19:50:45.498730Z",
     "iopub.status.idle": "2025-07-30T19:50:45.502621Z",
     "shell.execute_reply": "2025-07-30T19:50:45.501921Z"
    },
    "papermill": {
     "duration": 0.04107,
     "end_time": "2025-07-30T19:50:45.510043",
     "exception": false,
     "start_time": "2025-07-30T19:50:45.468973",
     "status": "completed"
    },
    "tags": []
   },
   "outputs": [],
   "source": [
    "#delete\n",
    "#percentage = (cp_groups_df['nongerman_female'] == 1).mean() * 100\n",
    "#print(percentage)\n"
   ]
  },
  {
   "cell_type": "code",
   "execution_count": 66,
   "id": "6cbdab96-b2b2-45af-ad54-d0516db2e28d",
   "metadata": {
    "execution": {
     "iopub.execute_input": "2025-07-30T19:50:45.538174Z",
     "iopub.status.busy": "2025-07-30T19:50:45.537693Z",
     "iopub.status.idle": "2025-07-30T19:50:47.337281Z",
     "shell.execute_reply": "2025-07-30T19:50:47.336247Z"
    },
    "papermill": {
     "duration": 1.815152,
     "end_time": "2025-07-30T19:50:47.339233",
     "exception": false,
     "start_time": "2025-07-30T19:50:45.524081",
     "status": "completed"
    },
    "tags": []
   },
   "outputs": [],
   "source": [
    "# Define covered = 1 if true_label is in the predicted set\n",
    "cp_groups_df['covered'] = cp_groups_df.apply(\n",
    "    lambda r: int(r['true_label'] in r['pred_set']),\n",
    "    axis=1\n",
    ")"
   ]
  },
  {
   "cell_type": "code",
   "execution_count": 67,
   "id": "338ff529-1a6b-4b87-a931-8e4788d52aad",
   "metadata": {
    "execution": {
     "iopub.execute_input": "2025-07-30T19:50:47.397475Z",
     "iopub.status.busy": "2025-07-30T19:50:47.396953Z",
     "iopub.status.idle": "2025-07-30T19:50:47.402264Z",
     "shell.execute_reply": "2025-07-30T19:50:47.401169Z"
    },
    "papermill": {
     "duration": 0.036094,
     "end_time": "2025-07-30T19:50:47.404015",
     "exception": false,
     "start_time": "2025-07-30T19:50:47.367921",
     "status": "completed"
    },
    "tags": []
   },
   "outputs": [],
   "source": [
    "#cp_groups_df"
   ]
  },
  {
   "cell_type": "code",
   "execution_count": 68,
   "id": "90032e27-66df-4540-9169-4e89cfbaa758",
   "metadata": {
    "execution": {
     "iopub.execute_input": "2025-07-30T19:50:47.463203Z",
     "iopub.status.busy": "2025-07-30T19:50:47.462738Z",
     "iopub.status.idle": "2025-07-30T19:50:47.474120Z",
     "shell.execute_reply": "2025-07-30T19:50:47.473213Z"
    },
    "papermill": {
     "duration": 0.043015,
     "end_time": "2025-07-30T19:50:47.475825",
     "exception": false,
     "start_time": "2025-07-30T19:50:47.432810",
     "status": "completed"
    },
    "tags": []
   },
   "outputs": [],
   "source": [
    "subgroups = ['frau1','nongerman','nongerman_male','nongerman_female']\n",
    "\n",
    "# Conditional coverage for subgroup==1\n",
    "cond_coverage = {\n",
    "    g: cp_groups_df.loc[cp_groups_df[g]==1, 'covered'].mean()\n",
    "    for g in subgroups\n",
    "}"
   ]
  },
  {
   "cell_type": "code",
   "execution_count": 69,
   "id": "1e348fb1-b9c3-45bc-ba23-f016827a7e0d",
   "metadata": {
    "execution": {
     "iopub.execute_input": "2025-07-30T19:50:47.534790Z",
     "iopub.status.busy": "2025-07-30T19:50:47.533907Z",
     "iopub.status.idle": "2025-07-30T19:50:47.541352Z",
     "shell.execute_reply": "2025-07-30T19:50:47.540287Z"
    },
    "papermill": {
     "duration": 0.038515,
     "end_time": "2025-07-30T19:50:47.543182",
     "exception": false,
     "start_time": "2025-07-30T19:50:47.504667",
     "status": "completed"
    },
    "tags": []
   },
   "outputs": [
    {
     "data": {
      "text/plain": [
       "{'frau1': 0.9117131688906861,\n",
       " 'nongerman': 0.9123673721439398,\n",
       " 'nongerman_male': 0.9277672701071782,\n",
       " 'nongerman_female': 0.8868852459016393}"
      ]
     },
     "execution_count": 69,
     "metadata": {},
     "output_type": "execute_result"
    }
   ],
   "source": [
    "cond_coverage"
   ]
  },
  {
   "cell_type": "code",
   "execution_count": 70,
   "id": "f5093324-c3dd-4d63-bc4c-8d945e5c8bbb",
   "metadata": {
    "execution": {
     "iopub.execute_input": "2025-07-30T19:50:47.595004Z",
     "iopub.status.busy": "2025-07-30T19:50:47.594239Z",
     "iopub.status.idle": "2025-07-30T19:50:47.600313Z",
     "shell.execute_reply": "2025-07-30T19:50:47.599520Z"
    },
    "papermill": {
     "duration": 0.03064,
     "end_time": "2025-07-30T19:50:47.601610",
     "exception": false,
     "start_time": "2025-07-30T19:50:47.570970",
     "status": "completed"
    },
    "tags": []
   },
   "outputs": [],
   "source": [
    "for subgroup, cov in cond_coverage.items():\n",
    "    cp_metrics_df[f\"cov_{subgroup}\"] = cov"
   ]
  },
  {
   "cell_type": "code",
   "execution_count": 71,
   "id": "6e872e10-dbe5-49e8-b554-5030c98ff75d",
   "metadata": {
    "execution": {
     "iopub.execute_input": "2025-07-30T19:50:47.629248Z",
     "iopub.status.busy": "2025-07-30T19:50:47.628640Z",
     "iopub.status.idle": "2025-07-30T19:50:47.641980Z",
     "shell.execute_reply": "2025-07-30T19:50:47.641313Z"
    },
    "papermill": {
     "duration": 0.028237,
     "end_time": "2025-07-30T19:50:47.643272",
     "exception": false,
     "start_time": "2025-07-30T19:50:47.615035",
     "status": "completed"
    },
    "tags": []
   },
   "outputs": [
    {
     "data": {
      "text/html": [
       "<div>\n",
       "<style scoped>\n",
       "    .dataframe tbody tr th:only-of-type {\n",
       "        vertical-align: middle;\n",
       "    }\n",
       "\n",
       "    .dataframe tbody tr th {\n",
       "        vertical-align: top;\n",
       "    }\n",
       "\n",
       "    .dataframe thead th {\n",
       "        text-align: right;\n",
       "    }\n",
       "</style>\n",
       "<table border=\"1\" class=\"dataframe\">\n",
       "  <thead>\n",
       "    <tr style=\"text-align: right;\">\n",
       "      <th></th>\n",
       "      <th>universe_id</th>\n",
       "      <th>universe_training_year</th>\n",
       "      <th>universe_training_size</th>\n",
       "      <th>universe_scale</th>\n",
       "      <th>universe_model</th>\n",
       "      <th>universe_exclude_features</th>\n",
       "      <th>universe_exclude_subgroups</th>\n",
       "      <th>q_hat</th>\n",
       "      <th>coverage</th>\n",
       "      <th>avg_size</th>\n",
       "      <th>cov_frau1</th>\n",
       "      <th>cov_nongerman</th>\n",
       "      <th>cov_nongerman_male</th>\n",
       "      <th>cov_nongerman_female</th>\n",
       "    </tr>\n",
       "  </thead>\n",
       "  <tbody>\n",
       "    <tr>\n",
       "      <th>0</th>\n",
       "      <td>157bef778c578c293295aa0c1753ebf5</td>\n",
       "      <td>2014</td>\n",
       "      <td>25k</td>\n",
       "      <td>scale</td>\n",
       "      <td>logreg</td>\n",
       "      <td>nationality</td>\n",
       "      <td>drop-non-german</td>\n",
       "      <td>0.675677</td>\n",
       "      <td>0.912696</td>\n",
       "      <td>1.125783</td>\n",
       "      <td>0.911713</td>\n",
       "      <td>0.912367</td>\n",
       "      <td>0.927767</td>\n",
       "      <td>0.886885</td>\n",
       "    </tr>\n",
       "  </tbody>\n",
       "</table>\n",
       "</div>"
      ],
      "text/plain": [
       "                        universe_id universe_training_year  \\\n",
       "0  157bef778c578c293295aa0c1753ebf5                   2014   \n",
       "\n",
       "  universe_training_size universe_scale universe_model  \\\n",
       "0                    25k          scale         logreg   \n",
       "\n",
       "  universe_exclude_features universe_exclude_subgroups     q_hat  coverage  \\\n",
       "0               nationality            drop-non-german  0.675677  0.912696   \n",
       "\n",
       "   avg_size  cov_frau1  cov_nongerman  cov_nongerman_male  \\\n",
       "0  1.125783   0.911713       0.912367            0.927767   \n",
       "\n",
       "   cov_nongerman_female  \n",
       "0              0.886885  "
      ]
     },
     "execution_count": 71,
     "metadata": {},
     "output_type": "execute_result"
    }
   ],
   "source": [
    "cp_metrics_df"
   ]
  },
  {
   "cell_type": "markdown",
   "id": "33774451",
   "metadata": {
    "papermill": {
     "duration": 0.013031,
     "end_time": "2025-07-30T19:50:47.670185",
     "exception": false,
     "start_time": "2025-07-30T19:50:47.657154",
     "status": "completed"
    },
    "tags": []
   },
   "source": [
    "# (Fairness) Metrics"
   ]
  },
  {
   "cell_type": "code",
   "execution_count": 72,
   "id": "debc5d62",
   "metadata": {
    "execution": {
     "iopub.execute_input": "2025-07-30T19:50:47.697442Z",
     "iopub.status.busy": "2025-07-30T19:50:47.696800Z",
     "iopub.status.idle": "2025-07-30T19:50:47.714131Z",
     "shell.execute_reply": "2025-07-30T19:50:47.713354Z"
    },
    "papermill": {
     "duration": 0.032481,
     "end_time": "2025-07-30T19:50:47.715557",
     "exception": false,
     "start_time": "2025-07-30T19:50:47.683076",
     "status": "completed"
    },
    "tags": []
   },
   "outputs": [],
   "source": [
    "# do I need to include maxdeutsch1.missing?\n",
    "\n",
    "import numpy as np\n",
    "\n",
    "colname_to_bin = \"maxdeutsch1\"\n",
    "majority_value = org_train[colname_to_bin].mode()[0]\n",
    "\n",
    "org_test[\"majmin\"] = np.where(org_test[colname_to_bin] == majority_value, \"majority\", \"minority\")"
   ]
  },
  {
   "cell_type": "code",
   "execution_count": 73,
   "id": "06a50de5",
   "metadata": {
    "execution": {
     "iopub.execute_input": "2025-07-30T19:50:47.759619Z",
     "iopub.status.busy": "2025-07-30T19:50:47.759163Z",
     "iopub.status.idle": "2025-07-30T19:50:50.603237Z",
     "shell.execute_reply": "2025-07-30T19:50:50.602496Z"
    },
    "papermill": {
     "duration": 2.873709,
     "end_time": "2025-07-30T19:50:50.604620",
     "exception": false,
     "start_time": "2025-07-30T19:50:47.730911",
     "status": "completed"
    },
    "tags": []
   },
   "outputs": [],
   "source": [
    "example_universe = universe.copy()\n",
    "example_universe[\"cutoff\"] = example_universe[\"cutoff\"][0]\n",
    "example_universe[\"eval_fairness_grouping\"] = example_universe[\"eval_fairness_grouping\"][0]\n",
    "fairness_dict, metric_frame = universe_analysis.compute_metrics(\n",
    "    example_universe,\n",
    "    y_pred_prob=probs_test,\n",
    "    y_test=y_true,\n",
    "    org_test=org_test,\n",
    ")"
   ]
  },
  {
   "cell_type": "markdown",
   "id": "f95d4e02",
   "metadata": {
    "papermill": {
     "duration": 0.013251,
     "end_time": "2025-07-30T19:50:50.631833",
     "exception": false,
     "start_time": "2025-07-30T19:50:50.618582",
     "status": "completed"
    },
    "tags": []
   },
   "source": [
    "# Overall"
   ]
  },
  {
   "cell_type": "markdown",
   "id": "bdee4871",
   "metadata": {
    "papermill": {
     "duration": 0.013039,
     "end_time": "2025-07-30T19:50:50.658328",
     "exception": false,
     "start_time": "2025-07-30T19:50:50.645289",
     "status": "completed"
    },
    "tags": []
   },
   "source": [
    "Fairness\n",
    "Main fairness target: Equalized Odds. Seems to be a better fit than equal opportunity, since we're not only interested in Y = 1. Seems to be a better fit than demographic parity, since we also care about accuracy, not just equal distribution of preds.\n",
    "\n",
    "Pick column for computation of fairness metrics\n",
    "\n",
    "Performance\n",
    "Overall performance measures, most interesting in relation to the measures split by group below"
   ]
  },
  {
   "cell_type": "code",
   "execution_count": 74,
   "id": "c4e067c6",
   "metadata": {
    "execution": {
     "iopub.execute_input": "2025-07-30T19:50:50.685920Z",
     "iopub.status.busy": "2025-07-30T19:50:50.685282Z",
     "iopub.status.idle": "2025-07-30T19:50:50.692550Z",
     "shell.execute_reply": "2025-07-30T19:50:50.691685Z"
    },
    "papermill": {
     "duration": 0.02223,
     "end_time": "2025-07-30T19:50:50.693762",
     "exception": false,
     "start_time": "2025-07-30T19:50:50.671532",
     "status": "completed"
    },
    "tags": []
   },
   "outputs": [
    {
     "data": {
      "text/plain": [
       "accuracy                   0.225382\n",
       "balanced accuracy          0.550878\n",
       "f1                         0.246686\n",
       "precision                  0.140923\n",
       "false positive rate        0.886947\n",
       "false negative rate        0.011296\n",
       "selection rate             0.900000\n",
       "count                  89710.000000\n",
       "dtype: float64"
      ]
     },
     "execution_count": 74,
     "metadata": {},
     "output_type": "execute_result"
    }
   ],
   "source": [
    "metric_frame.overall"
   ]
  },
  {
   "cell_type": "markdown",
   "id": "e968fe9d",
   "metadata": {
    "papermill": {
     "duration": 0.013131,
     "end_time": "2025-07-30T19:50:50.720508",
     "exception": false,
     "start_time": "2025-07-30T19:50:50.707377",
     "status": "completed"
    },
    "tags": []
   },
   "source": [
    "By Group"
   ]
  },
  {
   "cell_type": "code",
   "execution_count": 75,
   "id": "ec325bce",
   "metadata": {
    "execution": {
     "iopub.execute_input": "2025-07-30T19:50:50.748472Z",
     "iopub.status.busy": "2025-07-30T19:50:50.747822Z",
     "iopub.status.idle": "2025-07-30T19:50:50.763102Z",
     "shell.execute_reply": "2025-07-30T19:50:50.762053Z"
    },
    "papermill": {
     "duration": 0.030921,
     "end_time": "2025-07-30T19:50:50.764533",
     "exception": false,
     "start_time": "2025-07-30T19:50:50.733612",
     "status": "completed"
    },
    "tags": []
   },
   "outputs": [
    {
     "data": {
      "text/html": [
       "<div>\n",
       "<style scoped>\n",
       "    .dataframe tbody tr th:only-of-type {\n",
       "        vertical-align: middle;\n",
       "    }\n",
       "\n",
       "    .dataframe tbody tr th {\n",
       "        vertical-align: top;\n",
       "    }\n",
       "\n",
       "    .dataframe thead th {\n",
       "        text-align: right;\n",
       "    }\n",
       "</style>\n",
       "<table border=\"1\" class=\"dataframe\">\n",
       "  <thead>\n",
       "    <tr style=\"text-align: right;\">\n",
       "      <th></th>\n",
       "      <th>accuracy</th>\n",
       "      <th>balanced accuracy</th>\n",
       "      <th>f1</th>\n",
       "      <th>precision</th>\n",
       "      <th>false positive rate</th>\n",
       "      <th>false negative rate</th>\n",
       "      <th>selection rate</th>\n",
       "      <th>count</th>\n",
       "    </tr>\n",
       "    <tr>\n",
       "      <th>majmin</th>\n",
       "      <th></th>\n",
       "      <th></th>\n",
       "      <th></th>\n",
       "      <th></th>\n",
       "      <th></th>\n",
       "      <th></th>\n",
       "      <th></th>\n",
       "      <th></th>\n",
       "    </tr>\n",
       "  </thead>\n",
       "  <tbody>\n",
       "    <tr>\n",
       "      <th>majority</th>\n",
       "      <td>0.246350</td>\n",
       "      <td>0.560514</td>\n",
       "      <td>0.257217</td>\n",
       "      <td>0.147865</td>\n",
       "      <td>0.86650</td>\n",
       "      <td>0.012473</td>\n",
       "      <td>0.882492</td>\n",
       "      <td>69170.0</td>\n",
       "    </tr>\n",
       "    <tr>\n",
       "      <th>minority</th>\n",
       "      <td>0.154771</td>\n",
       "      <td>0.519376</td>\n",
       "      <td>0.213188</td>\n",
       "      <td>0.119409</td>\n",
       "      <td>0.95449</td>\n",
       "      <td>0.006757</td>\n",
       "      <td>0.958958</td>\n",
       "      <td>20540.0</td>\n",
       "    </tr>\n",
       "  </tbody>\n",
       "</table>\n",
       "</div>"
      ],
      "text/plain": [
       "          accuracy  balanced accuracy        f1  precision  \\\n",
       "majmin                                                       \n",
       "majority  0.246350           0.560514  0.257217   0.147865   \n",
       "minority  0.154771           0.519376  0.213188   0.119409   \n",
       "\n",
       "          false positive rate  false negative rate  selection rate    count  \n",
       "majmin                                                                       \n",
       "majority              0.86650             0.012473        0.882492  69170.0  \n",
       "minority              0.95449             0.006757        0.958958  20540.0  "
      ]
     },
     "execution_count": 75,
     "metadata": {},
     "output_type": "execute_result"
    }
   ],
   "source": [
    "metric_frame.by_group"
   ]
  },
  {
   "cell_type": "code",
   "execution_count": 76,
   "id": "a9ddbe63",
   "metadata": {
    "execution": {
     "iopub.execute_input": "2025-07-30T19:50:50.794553Z",
     "iopub.status.busy": "2025-07-30T19:50:50.794181Z",
     "iopub.status.idle": "2025-07-30T19:50:52.692479Z",
     "shell.execute_reply": "2025-07-30T19:50:52.691540Z"
    },
    "papermill": {
     "duration": 1.915371,
     "end_time": "2025-07-30T19:50:52.694313",
     "exception": false,
     "start_time": "2025-07-30T19:50:50.778942",
     "status": "completed"
    },
    "tags": []
   },
   "outputs": [
    {
     "data": {
      "text/plain": [
       "array([[<Axes: title={'center': 'accuracy'}, xlabel='majmin'>,\n",
       "        <Axes: title={'center': 'balanced accuracy'}, xlabel='majmin'>,\n",
       "        <Axes: title={'center': 'f1'}, xlabel='majmin'>],\n",
       "       [<Axes: title={'center': 'precision'}, xlabel='majmin'>,\n",
       "        <Axes: title={'center': 'false positive rate'}, xlabel='majmin'>,\n",
       "        <Axes: title={'center': 'false negative rate'}, xlabel='majmin'>],\n",
       "       [<Axes: title={'center': 'selection rate'}, xlabel='majmin'>,\n",
       "        <Axes: title={'center': 'count'}, xlabel='majmin'>,\n",
       "        <Axes: xlabel='majmin'>]], dtype=object)"
      ]
     },
     "execution_count": 76,
     "metadata": {},
     "output_type": "execute_result"
    },
    {
     "data": {
      "image/png": "[encoded data removed]",
      "text/plain": [
       "<Figure size 1200x800 with 9 Axes>"
      ]
     },
     "metadata": {},
     "output_type": "display_data"
    }
   ],
   "source": [
    "# In a graphic\n",
    "metric_frame.by_group.plot.bar(\n",
    "    subplots=True,\n",
    "    layout=[3, 3],\n",
    "    legend=False,\n",
    "    figsize=[12, 8],\n",
    "    title=\"Show all metrics\",\n",
    ")"
   ]
  },
  {
   "cell_type": "markdown",
   "id": "f57a0bac",
   "metadata": {
    "papermill": {
     "duration": 0.027043,
     "end_time": "2025-07-30T19:50:52.751429",
     "exception": false,
     "start_time": "2025-07-30T19:50:52.724386",
     "status": "completed"
    },
    "tags": []
   },
   "source": [
    "# Final Output"
   ]
  },
  {
   "cell_type": "code",
   "execution_count": 77,
   "id": "96d280a3",
   "metadata": {
    "execution": {
     "iopub.execute_input": "2025-07-30T19:50:52.806201Z",
     "iopub.status.busy": "2025-07-30T19:50:52.805596Z",
     "iopub.status.idle": "2025-07-30T19:50:52.813754Z",
     "shell.execute_reply": "2025-07-30T19:50:52.812854Z"
    },
    "papermill": {
     "duration": 0.036962,
     "end_time": "2025-07-30T19:50:52.815218",
     "exception": false,
     "start_time": "2025-07-30T19:50:52.778256",
     "status": "completed"
    },
    "tags": []
   },
   "outputs": [
    {
     "data": {
      "text/plain": [
       "4"
      ]
     },
     "execution_count": 77,
     "metadata": {},
     "output_type": "execute_result"
    }
   ],
   "source": [
    "sub_universes = universe_analysis.generate_sub_universes()\n",
    "len(sub_universes)"
   ]
  },
  {
   "cell_type": "code",
   "execution_count": 78,
   "id": "92adf7ba",
   "metadata": {
    "execution": {
     "iopub.execute_input": "2025-07-30T19:50:52.871647Z",
     "iopub.status.busy": "2025-07-30T19:50:52.870916Z",
     "iopub.status.idle": "2025-07-30T19:50:52.877322Z",
     "shell.execute_reply": "2025-07-30T19:50:52.876426Z"
    },
    "papermill": {
     "duration": 0.036361,
     "end_time": "2025-07-30T19:50:52.878841",
     "exception": false,
     "start_time": "2025-07-30T19:50:52.842480",
     "status": "completed"
    },
    "tags": []
   },
   "outputs": [],
   "source": [
    "def filter_sub_universe_data(sub_universe, org_test):\n",
    "    # Keep all rows — no filtering\n",
    "    keep_rows_mask = np.ones(org_test.shape[0], dtype=bool)\n",
    "\n",
    "    print(f\"[INFO] Keeping all rows: {keep_rows_mask.sum()} rows retained.\")\n",
    "    return keep_rows_mask"
   ]
  },
  {
   "cell_type": "code",
   "execution_count": 79,
   "id": "4a759155",
   "metadata": {
    "execution": {
     "iopub.execute_input": "2025-07-30T19:50:52.936498Z",
     "iopub.status.busy": "2025-07-30T19:50:52.935599Z",
     "iopub.status.idle": "2025-07-30T19:51:02.279937Z",
     "shell.execute_reply": "2025-07-30T19:51:02.279139Z"
    },
    "papermill": {
     "duration": 9.375049,
     "end_time": "2025-07-30T19:51:02.281375",
     "exception": false,
     "start_time": "2025-07-30T19:50:52.906326",
     "status": "completed"
    },
    "tags": []
   },
   "outputs": [
    {
     "name": "stdout",
     "output_type": "stream",
     "text": [
      "Stopping execution_time clock.\n",
      "[INFO] Keeping all rows: 89710 rows retained.\n"
     ]
    },
    {
     "name": "stdout",
     "output_type": "stream",
     "text": [
      "[INFO] Keeping all rows: 89710 rows retained.\n"
     ]
    },
    {
     "name": "stdout",
     "output_type": "stream",
     "text": [
      "[INFO] Keeping all rows: 89710 rows retained.\n"
     ]
    },
    {
     "name": "stdout",
     "output_type": "stream",
     "text": [
      "[INFO] Keeping all rows: 89710 rows retained.\n"
     ]
    },
    {
     "data": {
      "text/html": [
       "<div>\n",
       "<style scoped>\n",
       "    .dataframe tbody tr th:only-of-type {\n",
       "        vertical-align: middle;\n",
       "    }\n",
       "\n",
       "    .dataframe tbody tr th {\n",
       "        vertical-align: top;\n",
       "    }\n",
       "\n",
       "    .dataframe thead th {\n",
       "        text-align: right;\n",
       "    }\n",
       "</style>\n",
       "<table border=\"1\" class=\"dataframe\">\n",
       "  <thead>\n",
       "    <tr style=\"text-align: right;\">\n",
       "      <th></th>\n",
       "      <th>run_no</th>\n",
       "      <th>universe_id</th>\n",
       "      <th>universe_settings</th>\n",
       "      <th>execution_time</th>\n",
       "      <th>test_size_n</th>\n",
       "      <th>test_size_frac</th>\n",
       "      <th>fair_main_equalized_odds_difference</th>\n",
       "      <th>fair_main_equalized_odds_ratio</th>\n",
       "      <th>fair_main_demographic_parity_difference</th>\n",
       "      <th>fair_main_demographic_parity_ratio</th>\n",
       "      <th>...</th>\n",
       "      <th>perf_grp_precision_0</th>\n",
       "      <th>perf_grp_precision_1</th>\n",
       "      <th>perf_grp_false positive rate_0</th>\n",
       "      <th>perf_grp_false positive rate_1</th>\n",
       "      <th>perf_grp_false negative rate_0</th>\n",
       "      <th>perf_grp_false negative rate_1</th>\n",
       "      <th>perf_grp_selection rate_0</th>\n",
       "      <th>perf_grp_selection rate_1</th>\n",
       "      <th>perf_grp_count_0</th>\n",
       "      <th>perf_grp_count_1</th>\n",
       "    </tr>\n",
       "  </thead>\n",
       "  <tbody>\n",
       "    <tr>\n",
       "      <th>0</th>\n",
       "      <td>14</td>\n",
       "      <td>157bef778c578c293295aa0c1753ebf5</td>\n",
       "      <td>{\"cutoff\": \"quantile_0.1\", \"eval_fairness_grou...</td>\n",
       "      <td>30.144984</td>\n",
       "      <td>89710</td>\n",
       "      <td>1.0</td>\n",
       "      <td>0.087990</td>\n",
       "      <td>0.907814</td>\n",
       "      <td>0.076466</td>\n",
       "      <td>0.920262</td>\n",
       "      <td>...</td>\n",
       "      <td>NaN</td>\n",
       "      <td>NaN</td>\n",
       "      <td>NaN</td>\n",
       "      <td>NaN</td>\n",
       "      <td>NaN</td>\n",
       "      <td>NaN</td>\n",
       "      <td>NaN</td>\n",
       "      <td>NaN</td>\n",
       "      <td>NaN</td>\n",
       "      <td>NaN</td>\n",
       "    </tr>\n",
       "    <tr>\n",
       "      <th>0</th>\n",
       "      <td>14</td>\n",
       "      <td>157bef778c578c293295aa0c1753ebf5</td>\n",
       "      <td>{\"cutoff\": \"quantile_0.1\", \"eval_fairness_grou...</td>\n",
       "      <td>30.144984</td>\n",
       "      <td>89710</td>\n",
       "      <td>1.0</td>\n",
       "      <td>0.087990</td>\n",
       "      <td>0.907814</td>\n",
       "      <td>0.076466</td>\n",
       "      <td>0.920262</td>\n",
       "      <td>...</td>\n",
       "      <td>0.119409</td>\n",
       "      <td>0.147865</td>\n",
       "      <td>0.954490</td>\n",
       "      <td>0.866500</td>\n",
       "      <td>0.006757</td>\n",
       "      <td>0.012473</td>\n",
       "      <td>0.958958</td>\n",
       "      <td>0.882492</td>\n",
       "      <td>20540.0</td>\n",
       "      <td>69170.0</td>\n",
       "    </tr>\n",
       "    <tr>\n",
       "      <th>0</th>\n",
       "      <td>14</td>\n",
       "      <td>157bef778c578c293295aa0c1753ebf5</td>\n",
       "      <td>{\"cutoff\": \"quantile_0.25\", \"eval_fairness_gro...</td>\n",
       "      <td>30.144984</td>\n",
       "      <td>89710</td>\n",
       "      <td>1.0</td>\n",
       "      <td>0.161549</td>\n",
       "      <td>0.808714</td>\n",
       "      <td>0.139616</td>\n",
       "      <td>0.837210</td>\n",
       "      <td>...</td>\n",
       "      <td>NaN</td>\n",
       "      <td>NaN</td>\n",
       "      <td>NaN</td>\n",
       "      <td>NaN</td>\n",
       "      <td>NaN</td>\n",
       "      <td>NaN</td>\n",
       "      <td>NaN</td>\n",
       "      <td>NaN</td>\n",
       "      <td>NaN</td>\n",
       "      <td>NaN</td>\n",
       "    </tr>\n",
       "    <tr>\n",
       "      <th>0</th>\n",
       "      <td>14</td>\n",
       "      <td>157bef778c578c293295aa0c1753ebf5</td>\n",
       "      <td>{\"cutoff\": \"quantile_0.25\", \"eval_fairness_gro...</td>\n",
       "      <td>30.144984</td>\n",
       "      <td>89710</td>\n",
       "      <td>1.0</td>\n",
       "      <td>0.161549</td>\n",
       "      <td>0.808714</td>\n",
       "      <td>0.139616</td>\n",
       "      <td>0.837210</td>\n",
       "      <td>...</td>\n",
       "      <td>0.128803</td>\n",
       "      <td>0.174486</td>\n",
       "      <td>0.844541</td>\n",
       "      <td>0.682992</td>\n",
       "      <td>0.041807</td>\n",
       "      <td>0.051860</td>\n",
       "      <td>0.857644</td>\n",
       "      <td>0.718028</td>\n",
       "      <td>20540.0</td>\n",
       "      <td>69170.0</td>\n",
       "    </tr>\n",
       "  </tbody>\n",
       "</table>\n",
       "<p>4 rows × 50 columns</p>\n",
       "</div>"
      ],
      "text/plain": [
       "  run_no                       universe_id  \\\n",
       "0     14  157bef778c578c293295aa0c1753ebf5   \n",
       "0     14  157bef778c578c293295aa0c1753ebf5   \n",
       "0     14  157bef778c578c293295aa0c1753ebf5   \n",
       "0     14  157bef778c578c293295aa0c1753ebf5   \n",
       "\n",
       "                                   universe_settings  execution_time  \\\n",
       "0  {\"cutoff\": \"quantile_0.1\", \"eval_fairness_grou...       30.144984   \n",
       "0  {\"cutoff\": \"quantile_0.1\", \"eval_fairness_grou...       30.144984   \n",
       "0  {\"cutoff\": \"quantile_0.25\", \"eval_fairness_gro...       30.144984   \n",
       "0  {\"cutoff\": \"quantile_0.25\", \"eval_fairness_gro...       30.144984   \n",
       "\n",
       "   test_size_n  test_size_frac  fair_main_equalized_odds_difference  \\\n",
       "0        89710             1.0                             0.087990   \n",
       "0        89710             1.0                             0.087990   \n",
       "0        89710             1.0                             0.161549   \n",
       "0        89710             1.0                             0.161549   \n",
       "\n",
       "   fair_main_equalized_odds_ratio  fair_main_demographic_parity_difference  \\\n",
       "0                        0.907814                                 0.076466   \n",
       "0                        0.907814                                 0.076466   \n",
       "0                        0.808714                                 0.139616   \n",
       "0                        0.808714                                 0.139616   \n",
       "\n",
       "   fair_main_demographic_parity_ratio  ...  perf_grp_precision_0  \\\n",
       "0                            0.920262  ...                   NaN   \n",
       "0                            0.920262  ...              0.119409   \n",
       "0                            0.837210  ...                   NaN   \n",
       "0                            0.837210  ...              0.128803   \n",
       "\n",
       "   perf_grp_precision_1  perf_grp_false positive rate_0  \\\n",
       "0                   NaN                             NaN   \n",
       "0              0.147865                        0.954490   \n",
       "0                   NaN                             NaN   \n",
       "0              0.174486                        0.844541   \n",
       "\n",
       "   perf_grp_false positive rate_1  perf_grp_false negative rate_0  \\\n",
       "0                             NaN                             NaN   \n",
       "0                        0.866500                        0.006757   \n",
       "0                             NaN                             NaN   \n",
       "0                        0.682992                        0.041807   \n",
       "\n",
       "   perf_grp_false negative rate_1  perf_grp_selection rate_0  \\\n",
       "0                             NaN                        NaN   \n",
       "0                        0.012473                   0.958958   \n",
       "0                             NaN                        NaN   \n",
       "0                        0.051860                   0.857644   \n",
       "\n",
       "   perf_grp_selection rate_1  perf_grp_count_0  perf_grp_count_1  \n",
       "0                        NaN               NaN               NaN  \n",
       "0                   0.882492           20540.0           69170.0  \n",
       "0                        NaN               NaN               NaN  \n",
       "0                   0.718028           20540.0           69170.0  \n",
       "\n",
       "[4 rows x 50 columns]"
      ]
     },
     "execution_count": 79,
     "metadata": {},
     "output_type": "execute_result"
    }
   ],
   "source": [
    "final_output = universe_analysis.generate_final_output(\n",
    "    y_pred_prob=probs_test,\n",
    "    y_test=y_true,\n",
    "    org_test=org_test,\n",
    "    filter_data=filter_sub_universe_data,\n",
    "    cp_metrics_df=cp_metrics_df,\n",
    "    save=True,\n",
    ")\n",
    "final_output"
   ]
  },
  {
   "cell_type": "code",
   "execution_count": null,
   "id": "721ff514-cb11-46f8-b6fc-50392f74b5cb",
   "metadata": {
    "papermill": {
     "duration": 0.027438,
     "end_time": "2025-07-30T19:51:02.338730",
     "exception": false,
     "start_time": "2025-07-30T19:51:02.311292",
     "status": "completed"
    },
    "tags": []
   },
   "outputs": [],
   "source": []
  }
 ],
 "metadata": {
  "celltoolbar": "Tags",
  "kernelspec": {
   "display_name": "Python (CMA Fairness)",
   "language": "python",
   "name": "cma_fair_env"
  },
  "language_info": {
   "codemirror_mode": {
    "name": "ipython",
    "version": 3
   },
   "file_extension": ".py",
   "mimetype": "text/x-python",
   "name": "python",
   "nbconvert_exporter": "python",
   "pygments_lexer": "ipython3",
   "version": "3.10.12"
  },
  "papermill": {
   "default_parameters": {},
   "duration": 44.111502,
   "end_time": "2025-07-30T19:51:03.086612",
   "environment_variables": {},
   "exception": null,
   "input_path": "universe_analysis.ipynb",
   "output_path": "output/runs/14/notebooks/m_14-157bef778c578c293295aa0c1753ebf5.ipynb",
   "parameters": {
    "output_dir": "output",
    "run_no": "14",
    "seed": "2023",
    "universe": "{\"cutoff\": [\"quantile_0.1\", \"quantile_0.25\"], \"eval_fairness_grouping\": [\"majority-minority\", \"nationality-all\"], \"exclude_features\": \"nationality\", \"exclude_subgroups\": \"drop-non-german\", \"model\": \"logreg\", \"scale\": \"scale\", \"training_size\": \"25k\", \"training_year\": \"2014\"}",
    "universe_id": "157bef778c578c293295aa0c1753ebf5"
   },
   "start_time": "2025-07-30T19:50:18.975110",
   "version": "2.6.0"
  }
 },
 "nbformat": 4,
 "nbformat_minor": 5
}