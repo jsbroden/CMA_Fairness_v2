{
 "cells": [
  {
   "cell_type": "code",
   "execution_count": 1,
   "id": "f159f837-637b-42ba-96b5-ec9a68c44524",
   "metadata": {
    "execution": {
     "iopub.execute_input": "2025-07-30T20:09:43.069692Z",
     "iopub.status.busy": "2025-07-30T20:09:43.068790Z",
     "iopub.status.idle": "2025-07-30T20:09:43.081808Z",
     "shell.execute_reply": "2025-07-30T20:09:43.080873Z"
    },
    "papermill": {
     "duration": 0.035084,
     "end_time": "2025-07-30T20:09:43.083885",
     "exception": false,
     "start_time": "2025-07-30T20:09:43.048801",
     "status": "completed"
    },
    "tags": []
   },
   "outputs": [
    {
     "name": "stdout",
     "output_type": "stream",
     "text": [
      "/dss/dsshome1/0C/ra93lal2/cma/CMA_Fairness_v2\n"
     ]
    },
    {
     "name": "stderr",
     "output_type": "stream",
     "text": [
      "/dss/dsshome1/0C/ra93lal2/.local/share/virtualenvs/CMA_Fairness_v2-3j10GkSs/lib/python3.10/site-packages/IPython/core/magics/osm.py:393: UserWarning: This is now an optional IPython functionality, using bookmarks requires you to install the `pickleshare` library.\n",
      "  bkms = self.shell.db.get('bookmarks', {})\n",
      "/dss/dsshome1/0C/ra93lal2/.local/share/virtualenvs/CMA_Fairness_v2-3j10GkSs/lib/python3.10/site-packages/IPython/core/magics/osm.py:417: UserWarning: This is now an optional IPython functionality, setting dhist requires you to install the `pickleshare` library.\n",
      "  self.shell.db['dhist'] = compress_dhist(dhist)[-100:]\n"
     ]
    }
   ],
   "source": [
    "%cd ~/cma/CMA_Fairness_v2"
   ]
  },
  {
   "cell_type": "markdown",
   "id": "de2603b9",
   "metadata": {
    "papermill": {
     "duration": 0.022364,
     "end_time": "2025-07-30T20:09:43.129644",
     "exception": false,
     "start_time": "2025-07-30T20:09:43.107280",
     "status": "completed"
    },
    "tags": []
   },
   "source": [
    "The following cell holds the definition of our parameters, these values can be overriden by rendering the with e.g. the following command:\n",
    "\n",
    "papermill -p alpha 0.2 -p ratio 0.3 universe_analysis.ipynb output/test_run.ipynb"
   ]
  },
  {
   "cell_type": "code",
   "execution_count": 2,
   "id": "a80968a0-40bb-4fa9-85ef-2d5eefb01975",
   "metadata": {
    "execution": {
     "iopub.execute_input": "2025-07-30T20:09:43.175326Z",
     "iopub.status.busy": "2025-07-30T20:09:43.174654Z",
     "iopub.status.idle": "2025-07-30T20:09:43.180423Z",
     "shell.execute_reply": "2025-07-30T20:09:43.179342Z"
    },
    "papermill": {
     "duration": 0.030719,
     "end_time": "2025-07-30T20:09:43.182168",
     "exception": false,
     "start_time": "2025-07-30T20:09:43.151449",
     "status": "completed"
    },
    "tags": []
   },
   "outputs": [
    {
     "name": "stdout",
     "output_type": "stream",
     "text": [
      "Current working directory: /dss/dsshome1/0C/ra93lal2/cma/CMA_Fairness_v2\n"
     ]
    }
   ],
   "source": [
    "import os\n",
    "print(\"Current working directory:\", os.getcwd())"
   ]
  },
  {
   "cell_type": "code",
   "execution_count": 3,
   "id": "2dce4c03",
   "metadata": {
    "execution": {
     "iopub.execute_input": "2025-07-30T20:09:43.230538Z",
     "iopub.status.busy": "2025-07-30T20:09:43.229901Z",
     "iopub.status.idle": "2025-07-30T20:09:43.236688Z",
     "shell.execute_reply": "2025-07-30T20:09:43.235643Z"
    },
    "papermill": {
     "duration": 0.032735,
     "end_time": "2025-07-30T20:09:43.238373",
     "exception": false,
     "start_time": "2025-07-30T20:09:43.205638",
     "status": "completed"
    },
    "tags": [
     "parameters"
    ]
   },
   "outputs": [],
   "source": [
    "run_no = 0\n",
    "universe_id = \"test\"\n",
    "universe = {\n",
    "    \"training_size\": \"25k\", # \"25k\", \"5k\", \"1k\"\n",
    "    \"training_year\": \"2014\", # \"2014\", \"2012_14\", \"2010_14\"\n",
    "    \"scale\": \"scale\", # \"scale\", \"do-not-scale\",\n",
    "    #\"stratify_split\": \"target\", # \"none\", \"target\", \"protected-attribute\", \"both\",\n",
    "    \"model\": \"elasticnet\", # \"logreg\", \"penalized_logreg\", \"rf\", \"gbm\", \"elasticnet\"\n",
    "    \"cutoff\": [\"quantile_0.15\", \"quantile_0.30\"],\n",
    "    \"exclude_features\": \"age\", # \"none\", \"nationality\", \"sex\", \"nationality-sex\", \"age\"\n",
    "    \"exclude_subgroups\": \"keep-all\", # \"keep-all\", \"drop-non-german\"\n",
    "    \"eval_fairness_grouping\": [\"majority-minority\", \"nationality-all\"]\n",
    "}\n",
    "\n",
    "output_dir=\"./output\"\n",
    "seed=0"
   ]
  },
  {
   "cell_type": "code",
   "execution_count": 4,
   "id": "0935e15c",
   "metadata": {
    "execution": {
     "iopub.execute_input": "2025-07-30T20:09:43.278224Z",
     "iopub.status.busy": "2025-07-30T20:09:43.277401Z",
     "iopub.status.idle": "2025-07-30T20:09:43.283166Z",
     "shell.execute_reply": "2025-07-30T20:09:43.282172Z"
    },
    "papermill": {
     "duration": 0.026969,
     "end_time": "2025-07-30T20:09:43.284976",
     "exception": false,
     "start_time": "2025-07-30T20:09:43.258007",
     "status": "completed"
    },
    "tags": [
     "injected-parameters"
    ]
   },
   "outputs": [],
   "source": [
    "# Parameters\n",
    "universe_id = \"b8fc0fe78241071ea616fa9dfa708251\"\n",
    "run_no = \"14\"\n",
    "universe = \"{\\\"cutoff\\\": [\\\"quantile_0.1\\\", \\\"quantile_0.25\\\"], \\\"eval_fairness_grouping\\\": [\\\"majority-minority\\\", \\\"nationality-all\\\"], \\\"exclude_features\\\": \\\"sex\\\", \\\"exclude_subgroups\\\": \\\"keep-all\\\", \\\"model\\\": \\\"penalized_logreg\\\", \\\"scale\\\": \\\"scale\\\", \\\"training_size\\\": \\\"25k\\\", \\\"training_year\\\": \\\"2012_14\\\"}\"\n",
    "output_dir = \"output\"\n",
    "seed = \"2023\"\n"
   ]
  },
  {
   "cell_type": "code",
   "execution_count": 5,
   "id": "1650acaf",
   "metadata": {
    "execution": {
     "iopub.execute_input": "2025-07-30T20:09:43.323753Z",
     "iopub.status.busy": "2025-07-30T20:09:43.323142Z",
     "iopub.status.idle": "2025-07-30T20:09:43.328349Z",
     "shell.execute_reply": "2025-07-30T20:09:43.327444Z"
    },
    "papermill": {
     "duration": 0.02578,
     "end_time": "2025-07-30T20:09:43.329963",
     "exception": false,
     "start_time": "2025-07-30T20:09:43.304183",
     "status": "completed"
    },
    "tags": []
   },
   "outputs": [],
   "source": [
    "import json\n",
    "# Parse universe into dict if it is passed as a string\n",
    "if isinstance(universe, str):\n",
    "    universe = json.loads(universe)"
   ]
  },
  {
   "cell_type": "code",
   "execution_count": 6,
   "id": "16620c48",
   "metadata": {
    "execution": {
     "iopub.execute_input": "2025-07-30T20:09:43.365347Z",
     "iopub.status.busy": "2025-07-30T20:09:43.365079Z",
     "iopub.status.idle": "2025-07-30T20:09:43.393722Z",
     "shell.execute_reply": "2025-07-30T20:09:43.393025Z"
    },
    "papermill": {
     "duration": 0.046127,
     "end_time": "2025-07-30T20:09:43.395323",
     "exception": false,
     "start_time": "2025-07-30T20:09:43.349196",
     "status": "completed"
    },
    "tags": []
   },
   "outputs": [],
   "source": [
    "# Auto-reload the custom package\n",
    "%load_ext autoreload\n",
    "%autoreload 1\n",
    "%aimport fairness_multiverse"
   ]
  },
  {
   "cell_type": "code",
   "execution_count": 7,
   "id": "01c5c9f3",
   "metadata": {
    "execution": {
     "iopub.execute_input": "2025-07-30T20:09:43.417330Z",
     "iopub.status.busy": "2025-07-30T20:09:43.416889Z",
     "iopub.status.idle": "2025-07-30T20:09:45.217236Z",
     "shell.execute_reply": "2025-07-30T20:09:45.216256Z"
    },
    "papermill": {
     "duration": 1.813156,
     "end_time": "2025-07-30T20:09:45.219179",
     "exception": false,
     "start_time": "2025-07-30T20:09:43.406023",
     "status": "completed"
    },
    "tags": []
   },
   "outputs": [],
   "source": [
    "from fairness_multiverse.universe import UniverseAnalysis\n",
    "\n",
    "universe_analysis = UniverseAnalysis(\n",
    "    run_no = run_no,\n",
    "    universe_id = universe_id,\n",
    "    universe = universe,\n",
    "    output_dir=output_dir,\n",
    ")"
   ]
  },
  {
   "cell_type": "code",
   "execution_count": 8,
   "id": "106241f5",
   "metadata": {
    "execution": {
     "iopub.execute_input": "2025-07-30T20:09:45.259867Z",
     "iopub.status.busy": "2025-07-30T20:09:45.259413Z",
     "iopub.status.idle": "2025-07-30T20:09:45.265702Z",
     "shell.execute_reply": "2025-07-30T20:09:45.264856Z"
    },
    "papermill": {
     "duration": 0.029545,
     "end_time": "2025-07-30T20:09:45.268307",
     "exception": false,
     "start_time": "2025-07-30T20:09:45.238762",
     "status": "completed"
    },
    "tags": []
   },
   "outputs": [
    {
     "name": "stdout",
     "output_type": "stream",
     "text": [
      "Using Seed: 2023\n"
     ]
    }
   ],
   "source": [
    "import numpy as np\n",
    "parsed_seed = int(seed)\n",
    "np.random.seed(parsed_seed)\n",
    "print(f\"Using Seed: {parsed_seed}\")"
   ]
  },
  {
   "cell_type": "markdown",
   "id": "e0ebdc57",
   "metadata": {
    "papermill": {
     "duration": 0.020631,
     "end_time": "2025-07-30T20:09:45.309665",
     "exception": false,
     "start_time": "2025-07-30T20:09:45.289034",
     "status": "completed"
    },
    "tags": []
   },
   "source": [
    "# Loading Data"
   ]
  },
  {
   "cell_type": "markdown",
   "id": "681925a3",
   "metadata": {
    "papermill": {
     "duration": 0.019861,
     "end_time": "2025-07-30T20:09:45.349584",
     "exception": false,
     "start_time": "2025-07-30T20:09:45.329723",
     "status": "completed"
    },
    "tags": []
   },
   "source": [
    "Load siab_train, siab_test, siab_calib and/or \n",
    "load siab_train_features, siab_train_labels"
   ]
  },
  {
   "cell_type": "code",
   "execution_count": 9,
   "id": "f0496b8a",
   "metadata": {
    "execution": {
     "iopub.execute_input": "2025-07-30T20:09:45.395740Z",
     "iopub.status.busy": "2025-07-30T20:09:45.394842Z",
     "iopub.status.idle": "2025-07-30T20:09:57.391218Z",
     "shell.execute_reply": "2025-07-30T20:09:57.390352Z"
    },
    "papermill": {
     "duration": 12.024471,
     "end_time": "2025-07-30T20:09:57.392717",
     "exception": false,
     "start_time": "2025-07-30T20:09:45.368246",
     "status": "completed"
    },
    "tags": []
   },
   "outputs": [
    {
     "name": "stdout",
     "output_type": "stream",
     "text": [
      "Loading SIAB data from cache: data/siab_cached.csv.gz\n"
     ]
    },
    {
     "name": "stdout",
     "output_type": "stream",
     "text": [
      "(643690, 164)\n"
     ]
    }
   ],
   "source": [
    "from pathlib import Path\n",
    "import pandas as pd\n",
    "\n",
    "# File paths\n",
    "raw_file = Path(\"data/raw/siab.csv\")\n",
    "cache_file = Path(\"data/siab_cached.csv.gz\")\n",
    "\n",
    "# Ensure cache directory exists\n",
    "cache_file.parent.mkdir(parents=True, exist_ok=True)\n",
    "\n",
    "# Load with simple caching\n",
    "if cache_file.exists():\n",
    "    print(f\"Loading SIAB data from cache: {cache_file}\")\n",
    "    siab = pd.read_csv(cache_file, compression='gzip')\n",
    "else:\n",
    "    print(f\"Cache not found. Reading raw SIAB data: {raw_file}\")\n",
    "    siab = pd.read_csv(raw_file)\n",
    "    siab.to_csv(cache_file, index=False, compression='gzip')\n",
    "    print(f\"Cached SIAB data to: {cache_file}\")\n",
    "\n",
    "# Now use `siab` DataFrame as needed\n",
    "print(siab.shape)"
   ]
  },
  {
   "cell_type": "code",
   "execution_count": 10,
   "id": "db0ca512-5f53-4dba-abdb-a2888bca41ba",
   "metadata": {
    "execution": {
     "iopub.execute_input": "2025-07-30T20:09:57.419204Z",
     "iopub.status.busy": "2025-07-30T20:09:57.418660Z",
     "iopub.status.idle": "2025-07-30T20:09:57.424905Z",
     "shell.execute_reply": "2025-07-30T20:09:57.423842Z"
    },
    "papermill": {
     "duration": 0.020657,
     "end_time": "2025-07-30T20:09:57.426862",
     "exception": false,
     "start_time": "2025-07-30T20:09:57.406205",
     "status": "completed"
    },
    "tags": []
   },
   "outputs": [],
   "source": [
    "#siab"
   ]
  },
  {
   "cell_type": "code",
   "execution_count": 11,
   "id": "a0edb063",
   "metadata": {
    "execution": {
     "iopub.execute_input": "2025-07-30T20:09:57.478284Z",
     "iopub.status.busy": "2025-07-30T20:09:57.477765Z",
     "iopub.status.idle": "2025-07-30T20:09:57.483472Z",
     "shell.execute_reply": "2025-07-30T20:09:57.482293Z"
    },
    "papermill": {
     "duration": 0.033931,
     "end_time": "2025-07-30T20:09:57.485463",
     "exception": false,
     "start_time": "2025-07-30T20:09:57.451532",
     "status": "completed"
    },
    "tags": []
   },
   "outputs": [],
   "source": [
    "#import pandas as pd\n",
    "#\n",
    "#X_train = pd.read_csv(\"./data/X_train.csv\")\n",
    "#y_train = pd.read_csv(\"./data/y_train.csv\")"
   ]
  },
  {
   "cell_type": "code",
   "execution_count": 12,
   "id": "63d08085",
   "metadata": {
    "execution": {
     "iopub.execute_input": "2025-07-30T20:09:57.531203Z",
     "iopub.status.busy": "2025-07-30T20:09:57.530704Z",
     "iopub.status.idle": "2025-07-30T20:09:57.536210Z",
     "shell.execute_reply": "2025-07-30T20:09:57.535145Z"
    },
    "papermill": {
     "duration": 0.029654,
     "end_time": "2025-07-30T20:09:57.538266",
     "exception": false,
     "start_time": "2025-07-30T20:09:57.508612",
     "status": "completed"
    },
    "tags": []
   },
   "outputs": [],
   "source": [
    "#X_test = pd.read_csv(\"./data/X_test.csv\")\n",
    "#y_true = pd.read_csv(\"./data/y_test.csv\")"
   ]
  },
  {
   "cell_type": "code",
   "execution_count": 13,
   "id": "98a8d0fa-1d3d-4ed8-bb2c-281470e24add",
   "metadata": {
    "execution": {
     "iopub.execute_input": "2025-07-30T20:09:57.583829Z",
     "iopub.status.busy": "2025-07-30T20:09:57.583071Z",
     "iopub.status.idle": "2025-07-30T20:09:57.588435Z",
     "shell.execute_reply": "2025-07-30T20:09:57.587260Z"
    },
    "papermill": {
     "duration": 0.030151,
     "end_time": "2025-07-30T20:09:57.590331",
     "exception": false,
     "start_time": "2025-07-30T20:09:57.560180",
     "status": "completed"
    },
    "tags": []
   },
   "outputs": [],
   "source": [
    "# Calibration data for conformal\n",
    "#X_calib = pd.read_csv(\"./data/X_calib.csv\")\n",
    "#y_calib = pd.read_csv(\"./data/y_calib.csv\")"
   ]
  },
  {
   "cell_type": "markdown",
   "id": "997051c5-15bd-4b69-9786-c3001a3ce484",
   "metadata": {
    "papermill": {
     "duration": 0.022049,
     "end_time": "2025-07-30T20:09:57.635465",
     "exception": false,
     "start_time": "2025-07-30T20:09:57.613416",
     "status": "completed"
    },
    "tags": []
   },
   "source": [
    "# Splitting Data and Setting Training Data Size"
   ]
  },
  {
   "cell_type": "code",
   "execution_count": 14,
   "id": "e993b61f-042d-41a6-8c81-f55681f86335",
   "metadata": {
    "execution": {
     "iopub.execute_input": "2025-07-30T20:09:57.681403Z",
     "iopub.status.busy": "2025-07-30T20:09:57.680727Z",
     "iopub.status.idle": "2025-07-30T20:09:57.694087Z",
     "shell.execute_reply": "2025-07-30T20:09:57.693029Z"
    },
    "papermill": {
     "duration": 0.038469,
     "end_time": "2025-07-30T20:09:57.695899",
     "exception": false,
     "start_time": "2025-07-30T20:09:57.657430",
     "status": "completed"
    },
    "tags": []
   },
   "outputs": [],
   "source": [
    "def sample_by_year_size(df,\n",
    "                        training_year: str,\n",
    "                        training_size: str,\n",
    "                        random_state: int = 42):\n",
    "    # --- parse training_year into a list of int years ---\n",
    "    if \"_\" in training_year:\n",
    "        start_str, end_str = training_year.split(\"_\", 1)\n",
    "        start = int(start_str)\n",
    "        end   = int(end_str) if len(end_str) == 4 else (int(end_str) + (start // 100)*100)\n",
    "        years = list(range(start, end + 1))\n",
    "    else:\n",
    "        years = [int(training_year)]\n",
    "\n",
    "    df = df[df[\"year\"].isin(years)].reset_index(drop=True)\n",
    "\n",
    "    # --- map training_size to total number of samples ---\n",
    "    total_map = {\"25k\": 25_000, \"5k\": 5_000, \"1k\": 1_000}\n",
    "    if training_size not in total_map:\n",
    "        return df  # e.g. \"all\"\n",
    "\n",
    "    total_samples = total_map[training_size]\n",
    "    n_years       = len(years)\n",
    "    base          = total_samples // n_years\n",
    "    remainder     = total_samples % n_years\n",
    "\n",
    "    # --- build a dict: year -> how many to sample ---\n",
    "    # give +1 to the first `remainder` years in ascending order\n",
    "    quotas = {\n",
    "        year: base + (1 if idx < remainder else 0)\n",
    "        for idx, year in enumerate(sorted(years))\n",
    "    }\n",
    "\n",
    "    # --- sample per‐year according to the quota dict ---\n",
    "    sampled = (\n",
    "        df\n",
    "        .groupby(\"year\", group_keys=False)\n",
    "        .apply(lambda grp: grp.sample(\n",
    "            n=min(len(grp), quotas[grp.name]),\n",
    "            random_state=random_state))\n",
    "        .reset_index(drop=True)\n",
    "    )\n",
    "\n",
    "    return sampled"
   ]
  },
  {
   "cell_type": "code",
   "execution_count": 15,
   "id": "c0ccd338-0e02-41f3-a09d-f56f9266e3fb",
   "metadata": {
    "execution": {
     "iopub.execute_input": "2025-07-30T20:09:57.742512Z",
     "iopub.status.busy": "2025-07-30T20:09:57.741821Z",
     "iopub.status.idle": "2025-07-30T20:09:57.747352Z",
     "shell.execute_reply": "2025-07-30T20:09:57.746192Z"
    },
    "papermill": {
     "duration": 0.030601,
     "end_time": "2025-07-30T20:09:57.749198",
     "exception": false,
     "start_time": "2025-07-30T20:09:57.718597",
     "status": "completed"
    },
    "tags": []
   },
   "outputs": [],
   "source": [
    "#universe[\"training_size\"]"
   ]
  },
  {
   "cell_type": "code",
   "execution_count": 16,
   "id": "ca707fd7-8047-4acd-bfa5-66248fbbf8e6",
   "metadata": {
    "execution": {
     "iopub.execute_input": "2025-07-30T20:09:57.795175Z",
     "iopub.status.busy": "2025-07-30T20:09:57.794465Z",
     "iopub.status.idle": "2025-07-30T20:09:57.800548Z",
     "shell.execute_reply": "2025-07-30T20:09:57.799556Z"
    },
    "papermill": {
     "duration": 0.029305,
     "end_time": "2025-07-30T20:09:57.802151",
     "exception": false,
     "start_time": "2025-07-30T20:09:57.772846",
     "status": "completed"
    },
    "tags": []
   },
   "outputs": [],
   "source": [
    "#universe[\"training_year\"]"
   ]
  },
  {
   "cell_type": "code",
   "execution_count": 17,
   "id": "aea9c6ef-6f46-42c8-85eb-5a62025c1508",
   "metadata": {
    "execution": {
     "iopub.execute_input": "2025-07-30T20:09:57.846506Z",
     "iopub.status.busy": "2025-07-30T20:09:57.846139Z",
     "iopub.status.idle": "2025-07-30T20:09:58.467819Z",
     "shell.execute_reply": "2025-07-30T20:09:58.467108Z"
    },
    "papermill": {
     "duration": 0.645972,
     "end_time": "2025-07-30T20:09:58.469245",
     "exception": false,
     "start_time": "2025-07-30T20:09:57.823273",
     "status": "completed"
    },
    "tags": []
   },
   "outputs": [],
   "source": [
    "siab_train = sample_by_year_size(siab,\n",
    "                               training_year=universe[\"training_year\"],\n",
    "                               training_size=universe[\"training_size\"])"
   ]
  },
  {
   "cell_type": "code",
   "execution_count": 18,
   "id": "8d3afb32-789d-442c-8d5d-9f5aa8dd2eed",
   "metadata": {
    "execution": {
     "iopub.execute_input": "2025-07-30T20:09:58.493388Z",
     "iopub.status.busy": "2025-07-30T20:09:58.492786Z",
     "iopub.status.idle": "2025-07-30T20:09:58.497226Z",
     "shell.execute_reply": "2025-07-30T20:09:58.496253Z"
    },
    "papermill": {
     "duration": 0.018048,
     "end_time": "2025-07-30T20:09:58.498902",
     "exception": false,
     "start_time": "2025-07-30T20:09:58.480854",
     "status": "completed"
    },
    "tags": []
   },
   "outputs": [],
   "source": [
    "#siab_train.shape"
   ]
  },
  {
   "cell_type": "code",
   "execution_count": 19,
   "id": "d582db68-1a4c-47fb-84fc-08518dc1975a",
   "metadata": {
    "execution": {
     "iopub.execute_input": "2025-07-30T20:09:58.538943Z",
     "iopub.status.busy": "2025-07-30T20:09:58.538611Z",
     "iopub.status.idle": "2025-07-30T20:09:58.542587Z",
     "shell.execute_reply": "2025-07-30T20:09:58.541804Z"
    },
    "papermill": {
     "duration": 0.021045,
     "end_time": "2025-07-30T20:09:58.543963",
     "exception": false,
     "start_time": "2025-07-30T20:09:58.522918",
     "status": "completed"
    },
    "tags": []
   },
   "outputs": [],
   "source": [
    "#display(siab_train.groupby(\"year\").size())"
   ]
  },
  {
   "cell_type": "code",
   "execution_count": 20,
   "id": "a561edb4-d032-42cb-8256-22eac1111c64",
   "metadata": {
    "execution": {
     "iopub.execute_input": "2025-07-30T20:09:58.568882Z",
     "iopub.status.busy": "2025-07-30T20:09:58.568395Z",
     "iopub.status.idle": "2025-07-30T20:09:58.808461Z",
     "shell.execute_reply": "2025-07-30T20:09:58.807390Z"
    },
    "papermill": {
     "duration": 0.254472,
     "end_time": "2025-07-30T20:09:58.810304",
     "exception": false,
     "start_time": "2025-07-30T20:09:58.555832",
     "status": "completed"
    },
    "tags": []
   },
   "outputs": [],
   "source": [
    "#siab_train = siab_s[siab_s.year < 2015]\n",
    "siab_calib = siab[siab.year == 2015]\n",
    "siab_test = siab[siab.year == 2016]"
   ]
  },
  {
   "cell_type": "code",
   "execution_count": 21,
   "id": "472de16f-c3db-4916-846b-1f0de9cf1746",
   "metadata": {
    "execution": {
     "iopub.execute_input": "2025-07-30T20:09:58.851891Z",
     "iopub.status.busy": "2025-07-30T20:09:58.851394Z",
     "iopub.status.idle": "2025-07-30T20:09:58.876761Z",
     "shell.execute_reply": "2025-07-30T20:09:58.875823Z"
    },
    "papermill": {
     "duration": 0.047892,
     "end_time": "2025-07-30T20:09:58.878660",
     "exception": false,
     "start_time": "2025-07-30T20:09:58.830768",
     "status": "completed"
    },
    "tags": []
   },
   "outputs": [],
   "source": [
    "X_train = siab_train.iloc[:,4:164]\n",
    "y_train = siab_train.iloc[:, [3]]"
   ]
  },
  {
   "cell_type": "code",
   "execution_count": 22,
   "id": "828c96af-f43a-4ed6-ba47-8ac73a47d56c",
   "metadata": {
    "execution": {
     "iopub.execute_input": "2025-07-30T20:09:58.925099Z",
     "iopub.status.busy": "2025-07-30T20:09:58.924626Z",
     "iopub.status.idle": "2025-07-30T20:09:58.976977Z",
     "shell.execute_reply": "2025-07-30T20:09:58.975955Z"
    },
    "papermill": {
     "duration": 0.076781,
     "end_time": "2025-07-30T20:09:58.978612",
     "exception": false,
     "start_time": "2025-07-30T20:09:58.901831",
     "status": "completed"
    },
    "tags": []
   },
   "outputs": [],
   "source": [
    "X_calib = siab_calib.iloc[:,4:164]\n",
    "y_calib = siab_calib.iloc[:, [3]]"
   ]
  },
  {
   "cell_type": "code",
   "execution_count": 23,
   "id": "c34be9c3-6bd6-476e-acd3-845840e303be",
   "metadata": {
    "execution": {
     "iopub.execute_input": "2025-07-30T20:09:59.024875Z",
     "iopub.status.busy": "2025-07-30T20:09:59.024089Z",
     "iopub.status.idle": "2025-07-30T20:09:59.075563Z",
     "shell.execute_reply": "2025-07-30T20:09:59.074606Z"
    },
    "papermill": {
     "duration": 0.075907,
     "end_time": "2025-07-30T20:09:59.077281",
     "exception": false,
     "start_time": "2025-07-30T20:09:59.001374",
     "status": "completed"
    },
    "tags": []
   },
   "outputs": [],
   "source": [
    "X_test = siab_test.iloc[:,4:164]\n",
    "y_true = siab_test.iloc[:, [3]]"
   ]
  },
  {
   "cell_type": "markdown",
   "id": "9901737e-04df-44f0-9100-f5ad144ed040",
   "metadata": {
    "papermill": {
     "duration": 0.022499,
     "end_time": "2025-07-30T20:09:59.121886",
     "exception": false,
     "start_time": "2025-07-30T20:09:59.099387",
     "status": "completed"
    },
    "tags": []
   },
   "source": [
    "# Splitting Data and Setting Training Data Size OLD VERSION"
   ]
  },
  {
   "cell_type": "code",
   "execution_count": 24,
   "id": "acbc8f7d-8fc8-4e86-8c59-5dcb0f58384b",
   "metadata": {
    "execution": {
     "iopub.execute_input": "2025-07-30T20:09:59.167656Z",
     "iopub.status.busy": "2025-07-30T20:09:59.166995Z",
     "iopub.status.idle": "2025-07-30T20:09:59.172586Z",
     "shell.execute_reply": "2025-07-30T20:09:59.171512Z"
    },
    "papermill": {
     "duration": 0.03082,
     "end_time": "2025-07-30T20:09:59.174181",
     "exception": false,
     "start_time": "2025-07-30T20:09:59.143361",
     "status": "completed"
    },
    "tags": []
   },
   "outputs": [],
   "source": [
    "#def sample_by_year(df, training_size, random_state=42):\n",
    "#    if training_size == \"2014\":\n",
    "#        return df[df[\"year\"] == 2014].reset_index(drop=True)\n",
    "#    \n",
    "#    size_map = {\n",
    "#        \"25k\": 5000,\n",
    "#        \"5k\": 1000,\n",
    "#        \"1k\": 200\n",
    "#    }\n",
    "#\n",
    "#    if training_size not in size_map:\n",
    "#        return df.reset_index(drop=True)  # use all data\n",
    "#\n",
    "#    n_per_year = size_map[training_size]\n",
    "#    grouped = df.groupby(\"year\")\n",
    "#    sampled = grouped.apply(lambda x: x.sample(n=min(n_per_year, len(x)), random_state=random_state))\n",
    "#    return sampled.reset_index(drop=True)"
   ]
  },
  {
   "cell_type": "code",
   "execution_count": 25,
   "id": "6d931f52-beaf-43ff-9e78-9d44a448d54e",
   "metadata": {
    "execution": {
     "iopub.execute_input": "2025-07-30T20:09:59.220536Z",
     "iopub.status.busy": "2025-07-30T20:09:59.219807Z",
     "iopub.status.idle": "2025-07-30T20:09:59.224838Z",
     "shell.execute_reply": "2025-07-30T20:09:59.223803Z"
    },
    "papermill": {
     "duration": 0.029417,
     "end_time": "2025-07-30T20:09:59.226390",
     "exception": false,
     "start_time": "2025-07-30T20:09:59.196973",
     "status": "completed"
    },
    "tags": []
   },
   "outputs": [],
   "source": [
    "#siab_s = sample_by_year(siab, universe[\"training_size\"])"
   ]
  },
  {
   "cell_type": "code",
   "execution_count": 26,
   "id": "5db0a40e-a4e2-4920-be85-b12ae061d70d",
   "metadata": {
    "execution": {
     "iopub.execute_input": "2025-07-30T20:09:59.273227Z",
     "iopub.status.busy": "2025-07-30T20:09:59.272591Z",
     "iopub.status.idle": "2025-07-30T20:09:59.277405Z",
     "shell.execute_reply": "2025-07-30T20:09:59.276441Z"
    },
    "papermill": {
     "duration": 0.029836,
     "end_time": "2025-07-30T20:09:59.278963",
     "exception": false,
     "start_time": "2025-07-30T20:09:59.249127",
     "status": "completed"
    },
    "tags": []
   },
   "outputs": [],
   "source": [
    "#display(siab_s.groupby(\"year\").size())"
   ]
  },
  {
   "cell_type": "code",
   "execution_count": 27,
   "id": "e6c733c5",
   "metadata": {
    "execution": {
     "iopub.execute_input": "2025-07-30T20:09:59.322274Z",
     "iopub.status.busy": "2025-07-30T20:09:59.321785Z",
     "iopub.status.idle": "2025-07-30T20:09:59.430843Z",
     "shell.execute_reply": "2025-07-30T20:09:59.429967Z"
    },
    "papermill": {
     "duration": 0.133003,
     "end_time": "2025-07-30T20:09:59.432762",
     "exception": false,
     "start_time": "2025-07-30T20:09:59.299759",
     "status": "completed"
    },
    "tags": []
   },
   "outputs": [],
   "source": [
    "# Auxiliary data needed downstream in the pipeline\n",
    "\n",
    "org_train = X_train.copy()\n",
    "org_test = X_test.copy()\n",
    "org_calib = X_calib.copy()"
   ]
  },
  {
   "cell_type": "code",
   "execution_count": 28,
   "id": "1466abac-c6da-4492-a62f-4240ae3783af",
   "metadata": {
    "execution": {
     "iopub.execute_input": "2025-07-30T20:09:59.475093Z",
     "iopub.status.busy": "2025-07-30T20:09:59.474456Z",
     "iopub.status.idle": "2025-07-30T20:09:59.480408Z",
     "shell.execute_reply": "2025-07-30T20:09:59.479403Z"
    },
    "papermill": {
     "duration": 0.028749,
     "end_time": "2025-07-30T20:09:59.481910",
     "exception": false,
     "start_time": "2025-07-30T20:09:59.453161",
     "status": "completed"
    },
    "tags": []
   },
   "outputs": [],
   "source": [
    "# put in other script?\n",
    "# Group sizes\n",
    "\n",
    "#def calculate_percentages(df, df_name):\n",
    "#    total_entries = len(df)\n",
    "#\n",
    "#    female_pct = (df['frau1'] == 1).mean() * 100\n",
    "#    non_german_pct = ((df['maxdeutsch1'] == 0) & (df['maxdeutsch.Missing.'] == 0)).mean() * 100\n",
    "#    non_german_male_pct = ((df['frau1'] == 0) & (df['maxdeutsch1'] == 0) & (df['maxdeutsch.Missing.'] == 0)).mean() * 100\n",
    "#    non_german_female_pct = ((df['frau1'] == 1) & (df['maxdeutsch1'] == 0) & (df['maxdeutsch.Missing.'] == 0)).mean() * 100\n",
    "#\n",
    "#    print(f\"--- {df_name} ---\")\n",
    "#    print(f\"Female: {female_pct:.2f}%\")\n",
    "#    print(f\"Non-German: {non_german_pct:.2f}%\")\n",
    "#    print(f\"Non-German Male: {non_german_male_pct:.2f}%\")\n",
    "#    print(f\"Non-German Female: {non_german_female_pct:.2f}%\\n\")\n",
    "#\n",
    "## Calculate for each DataFrame\n",
    "#calculate_percentages(siab_calib, \"siab_calib\")\n",
    "#calculate_percentages(siab_test, \"siab_test\")\n",
    "#calculate_percentages(siab_train, \"siab_train\")"
   ]
  },
  {
   "cell_type": "markdown",
   "id": "0a4a1b33",
   "metadata": {
    "papermill": {
     "duration": 0.019895,
     "end_time": "2025-07-30T20:09:59.522498",
     "exception": false,
     "start_time": "2025-07-30T20:09:59.502603",
     "status": "completed"
    },
    "tags": []
   },
   "source": [
    "# Preprocessing Data"
   ]
  },
  {
   "cell_type": "code",
   "execution_count": 29,
   "id": "ca879031",
   "metadata": {
    "execution": {
     "iopub.execute_input": "2025-07-30T20:09:59.563959Z",
     "iopub.status.busy": "2025-07-30T20:09:59.563298Z",
     "iopub.status.idle": "2025-07-30T20:09:59.569681Z",
     "shell.execute_reply": "2025-07-30T20:09:59.568773Z"
    },
    "papermill": {
     "duration": 0.029027,
     "end_time": "2025-07-30T20:09:59.571293",
     "exception": false,
     "start_time": "2025-07-30T20:09:59.542266",
     "status": "completed"
    },
    "tags": []
   },
   "outputs": [],
   "source": [
    "# EXCLUDE PROTECTED FEATURES\n",
    "# ----------------------\n",
    "# \"exclude_features\": \"none\", # \"nationality\", \"sex\", \"nationality-sex\"\n",
    "\n",
    "excluded_features = universe[\"exclude_features\"].split(\"-\") # split, e.g.: \"nationality-sex\" -> [\"nationality\", \"sex\"]\n",
    "excluded_features_dictionary = {\n",
    "    \"nationality\": [\"maxdeutsch1\", \"maxdeutsch.Missing.\"],\n",
    "    \"sex\": [\"frau1\"],\n",
    "    \"age\": [\"age\"],\n",
    "}\n"
   ]
  },
  {
   "cell_type": "code",
   "execution_count": 30,
   "id": "b745ac60",
   "metadata": {
    "execution": {
     "iopub.execute_input": "2025-07-30T20:09:59.613562Z",
     "iopub.status.busy": "2025-07-30T20:09:59.612922Z",
     "iopub.status.idle": "2025-07-30T20:09:59.618456Z",
     "shell.execute_reply": "2025-07-30T20:09:59.617550Z"
    },
    "papermill": {
     "duration": 0.028029,
     "end_time": "2025-07-30T20:09:59.619984",
     "exception": false,
     "start_time": "2025-07-30T20:09:59.591955",
     "status": "completed"
    },
    "tags": []
   },
   "outputs": [],
   "source": [
    "# Code nice names to column names\n",
    "\n",
    "excluded_features_columns = [\n",
    "    excluded_features_dictionary[f] for f in excluded_features if len(f) > 0 and f != \"none\"\n",
    "]"
   ]
  },
  {
   "cell_type": "code",
   "execution_count": 31,
   "id": "f84f73a2",
   "metadata": {
    "execution": {
     "iopub.execute_input": "2025-07-30T20:09:59.662140Z",
     "iopub.status.busy": "2025-07-30T20:09:59.661485Z",
     "iopub.status.idle": "2025-07-30T20:09:59.668250Z",
     "shell.execute_reply": "2025-07-30T20:09:59.667176Z"
    },
    "papermill": {
     "duration": 0.029062,
     "end_time": "2025-07-30T20:09:59.669808",
     "exception": false,
     "start_time": "2025-07-30T20:09:59.640746",
     "status": "completed"
    },
    "tags": []
   },
   "outputs": [],
   "source": [
    "from utils import flatten_once\n",
    "\n",
    "excluded_features_columns = flatten_once(excluded_features_columns)"
   ]
  },
  {
   "cell_type": "code",
   "execution_count": 32,
   "id": "884dea22",
   "metadata": {
    "execution": {
     "iopub.execute_input": "2025-07-30T20:09:59.712419Z",
     "iopub.status.busy": "2025-07-30T20:09:59.711582Z",
     "iopub.status.idle": "2025-07-30T20:09:59.738179Z",
     "shell.execute_reply": "2025-07-30T20:09:59.737306Z"
    },
    "papermill": {
     "duration": 0.049128,
     "end_time": "2025-07-30T20:09:59.739636",
     "exception": false,
     "start_time": "2025-07-30T20:09:59.690508",
     "status": "completed"
    },
    "tags": []
   },
   "outputs": [
    {
     "name": "stdout",
     "output_type": "stream",
     "text": [
      "Dropping features: ['frau1']\n"
     ]
    }
   ],
   "source": [
    "if len(excluded_features_columns) > 0:\n",
    "    print(f\"Dropping features: {excluded_features_columns}\")\n",
    "    X_train.drop(excluded_features_columns, axis=1, inplace=True)"
   ]
  },
  {
   "cell_type": "code",
   "execution_count": 33,
   "id": "95ab8b16",
   "metadata": {
    "execution": {
     "iopub.execute_input": "2025-07-30T20:09:59.783018Z",
     "iopub.status.busy": "2025-07-30T20:09:59.782366Z",
     "iopub.status.idle": "2025-07-30T20:09:59.833464Z",
     "shell.execute_reply": "2025-07-30T20:09:59.832425Z"
    },
    "papermill": {
     "duration": 0.074753,
     "end_time": "2025-07-30T20:09:59.835627",
     "exception": false,
     "start_time": "2025-07-30T20:09:59.760874",
     "status": "completed"
    },
    "tags": []
   },
   "outputs": [
    {
     "name": "stdout",
     "output_type": "stream",
     "text": [
      "Dropping features: ['frau1']\n"
     ]
    }
   ],
   "source": [
    "if len(excluded_features_columns) > 0:\n",
    "    print(f\"Dropping features: {excluded_features_columns}\")\n",
    "    X_test.drop(excluded_features_columns, axis=1, inplace=True)"
   ]
  },
  {
   "cell_type": "code",
   "execution_count": 34,
   "id": "1853aaf5-fb9f-46cb-a2b5-8ea4ae2237e4",
   "metadata": {
    "execution": {
     "iopub.execute_input": "2025-07-30T20:09:59.879044Z",
     "iopub.status.busy": "2025-07-30T20:09:59.878418Z",
     "iopub.status.idle": "2025-07-30T20:09:59.929493Z",
     "shell.execute_reply": "2025-07-30T20:09:59.928514Z"
    },
    "papermill": {
     "duration": 0.074924,
     "end_time": "2025-07-30T20:09:59.932009",
     "exception": false,
     "start_time": "2025-07-30T20:09:59.857085",
     "status": "completed"
    },
    "tags": []
   },
   "outputs": [
    {
     "name": "stdout",
     "output_type": "stream",
     "text": [
      "Dropping features: ['frau1']\n"
     ]
    }
   ],
   "source": [
    "if len(excluded_features_columns) > 0:\n",
    "    print(f\"Dropping features: {excluded_features_columns}\")\n",
    "    X_calib.drop(excluded_features_columns, axis=1, inplace=True)"
   ]
  },
  {
   "cell_type": "code",
   "execution_count": 35,
   "id": "6727d079-03e5-481e-9d38-292a90b7a0a8",
   "metadata": {
    "execution": {
     "iopub.execute_input": "2025-07-30T20:09:59.976404Z",
     "iopub.status.busy": "2025-07-30T20:09:59.975484Z",
     "iopub.status.idle": "2025-07-30T20:09:59.980738Z",
     "shell.execute_reply": "2025-07-30T20:09:59.979591Z"
    },
    "papermill": {
     "duration": 0.02888,
     "end_time": "2025-07-30T20:09:59.982587",
     "exception": false,
     "start_time": "2025-07-30T20:09:59.953707",
     "status": "completed"
    },
    "tags": []
   },
   "outputs": [],
   "source": [
    "# SPLIT & STRATIFY DATA\n",
    "# ----------------------"
   ]
  },
  {
   "cell_type": "code",
   "execution_count": 36,
   "id": "76c4dc6d",
   "metadata": {
    "execution": {
     "iopub.execute_input": "2025-07-30T20:10:00.026097Z",
     "iopub.status.busy": "2025-07-30T20:10:00.025653Z",
     "iopub.status.idle": "2025-07-30T20:10:00.031101Z",
     "shell.execute_reply": "2025-07-30T20:10:00.030121Z"
    },
    "papermill": {
     "duration": 0.028579,
     "end_time": "2025-07-30T20:10:00.032621",
     "exception": false,
     "start_time": "2025-07-30T20:10:00.004042",
     "status": "completed"
    },
    "tags": []
   },
   "outputs": [],
   "source": [
    "# EXCLUDE CERTAIN SUBGROUPS\n",
    "# ----------------------\n",
    "\n",
    "mode = universe.get(\"exclude_subgroups\", \"keep-all\") \n",
    "# Fetches the exclude_subgroups setting from the universe dict.\n",
    "# Defaults to \"keep-all\" if the key is missing."
   ]
  },
  {
   "cell_type": "code",
   "execution_count": 37,
   "id": "21994072",
   "metadata": {
    "execution": {
     "iopub.execute_input": "2025-07-30T20:10:00.076206Z",
     "iopub.status.busy": "2025-07-30T20:10:00.075489Z",
     "iopub.status.idle": "2025-07-30T20:10:00.082288Z",
     "shell.execute_reply": "2025-07-30T20:10:00.081355Z"
    },
    "papermill": {
     "duration": 0.030014,
     "end_time": "2025-07-30T20:10:00.083924",
     "exception": false,
     "start_time": "2025-07-30T20:10:00.053910",
     "status": "completed"
    },
    "tags": []
   },
   "outputs": [],
   "source": [
    "if mode == \"keep-all\":\n",
    "    keep_mask = pd.Series(True, index=org_train.index)\n",
    "\n",
    "# org_train contains the original feature columns from features_org (in Simson)\n",
    "# features_org contains unprocessed features, for me X_train at beginning ???\n",
    "# For keep-all, creates a boolean Series (keep_mask) of all True, so no rows are removed.\n",
    "\n",
    "elif mode == \"drop-non-german\":\n",
    "    keep_mask = org_train[\"maxdeutsch1\"] == 1 # ??? what about missing values?\n",
    "\n",
    "else:\n",
    "    raise ValueError(f\"Unsupported mode for exclude_subgroups: {mode}\")\n"
   ]
  },
  {
   "cell_type": "code",
   "execution_count": 38,
   "id": "71651440",
   "metadata": {
    "execution": {
     "iopub.execute_input": "2025-07-30T20:10:00.128111Z",
     "iopub.status.busy": "2025-07-30T20:10:00.127102Z",
     "iopub.status.idle": "2025-07-30T20:10:00.133499Z",
     "shell.execute_reply": "2025-07-30T20:10:00.132599Z"
    },
    "papermill": {
     "duration": 0.029562,
     "end_time": "2025-07-30T20:10:00.135106",
     "exception": false,
     "start_time": "2025-07-30T20:10:00.105544",
     "status": "completed"
    },
    "tags": []
   },
   "outputs": [],
   "source": [
    "n_drop = (~keep_mask).sum() # Calculates how many rows are set to be dropped\n",
    "if n_drop > 0:\n",
    "    pct = n_drop / len(keep_mask) * 100\n",
    "    print(f\"Dropping {n_drop} rows ({pct:.2f}%) where mode='{mode}'\")"
   ]
  },
  {
   "cell_type": "code",
   "execution_count": 39,
   "id": "5fb8eee5",
   "metadata": {
    "execution": {
     "iopub.execute_input": "2025-07-30T20:10:00.179871Z",
     "iopub.status.busy": "2025-07-30T20:10:00.179043Z",
     "iopub.status.idle": "2025-07-30T20:10:00.201681Z",
     "shell.execute_reply": "2025-07-30T20:10:00.200678Z"
    },
    "papermill": {
     "duration": 0.046816,
     "end_time": "2025-07-30T20:10:00.203616",
     "exception": false,
     "start_time": "2025-07-30T20:10:00.156800",
     "status": "completed"
    },
    "tags": []
   },
   "outputs": [],
   "source": [
    "X_train = X_train[keep_mask]"
   ]
  },
  {
   "cell_type": "code",
   "execution_count": 40,
   "id": "b202bb3a",
   "metadata": {
    "execution": {
     "iopub.execute_input": "2025-07-30T20:10:00.248419Z",
     "iopub.status.busy": "2025-07-30T20:10:00.247547Z",
     "iopub.status.idle": "2025-07-30T20:10:00.253856Z",
     "shell.execute_reply": "2025-07-30T20:10:00.252900Z"
    },
    "papermill": {
     "duration": 0.030001,
     "end_time": "2025-07-30T20:10:00.255491",
     "exception": false,
     "start_time": "2025-07-30T20:10:00.225490",
     "status": "completed"
    },
    "tags": []
   },
   "outputs": [],
   "source": [
    "y_train = y_train[keep_mask]"
   ]
  },
  {
   "cell_type": "markdown",
   "id": "493e2ac3",
   "metadata": {
    "papermill": {
     "duration": 0.021789,
     "end_time": "2025-07-30T20:10:00.300784",
     "exception": false,
     "start_time": "2025-07-30T20:10:00.278995",
     "status": "completed"
    },
    "tags": []
   },
   "source": [
    "# Model Training"
   ]
  },
  {
   "cell_type": "code",
   "execution_count": 41,
   "id": "679e1268",
   "metadata": {
    "execution": {
     "iopub.execute_input": "2025-07-30T20:10:00.347447Z",
     "iopub.status.busy": "2025-07-30T20:10:00.346799Z",
     "iopub.status.idle": "2025-07-30T20:10:00.444183Z",
     "shell.execute_reply": "2025-07-30T20:10:00.443219Z"
    },
    "papermill": {
     "duration": 0.122717,
     "end_time": "2025-07-30T20:10:00.446138",
     "exception": false,
     "start_time": "2025-07-30T20:10:00.323421",
     "status": "completed"
    },
    "tags": []
   },
   "outputs": [],
   "source": [
    "from sklearn.linear_model import LogisticRegression\n",
    "from sklearn.ensemble import GradientBoostingClassifier, RandomForestClassifier\n",
    "\n",
    "if (universe[\"model\"] == \"logreg\"):\n",
    "    model = LogisticRegression() #penalty=\"none\") #, solver=\"newton-cg\", max_iter=1) # include random_state=19 ?\n",
    "elif (universe[\"model\"] == \"penalized_logreg\"):\n",
    "    model = LogisticRegression(penalty=\"l2\", C=1.0) #, solver=\"newton-cg\", max_iter=1)\n",
    "elif (universe[\"model\"] == \"rf\"):\n",
    "    model = RandomForestClassifier(n_estimators=100, n_jobs=-1)\n",
    "elif (universe[\"model\"] == \"gbm\"):\n",
    "    model = GradientBoostingClassifier()\n",
    "elif (universe[\"model\"] == \"elasticnet\"):\n",
    "    model = LogisticRegression(penalty = 'elasticnet', solver = 'saga', l1_ratio = 0.5, max_iter=5000) # which solver to use?\n",
    "else:\n",
    "    raise \"Unsupported universe.model\""
   ]
  },
  {
   "cell_type": "code",
   "execution_count": 42,
   "id": "0cc8f744",
   "metadata": {
    "execution": {
     "iopub.execute_input": "2025-07-30T20:10:00.494508Z",
     "iopub.status.busy": "2025-07-30T20:10:00.493866Z",
     "iopub.status.idle": "2025-07-30T20:10:00.500061Z",
     "shell.execute_reply": "2025-07-30T20:10:00.499122Z"
    },
    "papermill": {
     "duration": 0.031509,
     "end_time": "2025-07-30T20:10:00.501712",
     "exception": false,
     "start_time": "2025-07-30T20:10:00.470203",
     "status": "completed"
    },
    "tags": []
   },
   "outputs": [],
   "source": [
    "import numpy as np\n",
    "from sklearn.pipeline import Pipeline\n",
    "from sklearn.preprocessing import StandardScaler\n",
    "\n",
    "model = Pipeline([\n",
    "    #(\"continuous_processor\", continuous_processor),\n",
    "    #(\"categorical_preprocessor\", categorical_preprocessor),\n",
    "    (\"scale\", StandardScaler() if universe[\"scale\"] == \"scale\" else None), \n",
    "    (\"model\", model),\n",
    "])"
   ]
  },
  {
   "cell_type": "code",
   "execution_count": 43,
   "id": "9442c04d",
   "metadata": {
    "execution": {
     "iopub.execute_input": "2025-07-30T20:10:00.549542Z",
     "iopub.status.busy": "2025-07-30T20:10:00.548879Z",
     "iopub.status.idle": "2025-07-30T20:10:01.197843Z",
     "shell.execute_reply": "2025-07-30T20:10:01.196958Z"
    },
    "papermill": {
     "duration": 0.674161,
     "end_time": "2025-07-30T20:10:01.199512",
     "exception": false,
     "start_time": "2025-07-30T20:10:00.525351",
     "status": "completed"
    },
    "tags": []
   },
   "outputs": [
    {
     "name": "stderr",
     "output_type": "stream",
     "text": [
      "/dss/dsshome1/0C/ra93lal2/.local/share/virtualenvs/CMA_Fairness_v2-3j10GkSs/lib/python3.10/site-packages/sklearn/linear_model/_logistic.py:444: ConvergenceWarning: lbfgs failed to converge (status=1):\n",
      "STOP: TOTAL NO. of ITERATIONS REACHED LIMIT.\n",
      "\n",
      "Increase the number of iterations (max_iter) or scale the data as shown in:\n",
      "    https://scikit-learn.org/stable/modules/preprocessing.html\n",
      "Please also refer to the documentation for alternative solver options:\n",
      "    https://scikit-learn.org/stable/modules/linear_model.html#logistic-regression\n",
      "  n_iter_i = _check_optimize_result(\n"
     ]
    },
    {
     "data": {
      "text/html": [
       "<style>#sk-container-id-1 {color: black;background-color: white;}#sk-container-id-1 pre{padding: 0;}#sk-container-id-1 div.sk-toggleable {background-color: white;}#sk-container-id-1 label.sk-toggleable__label {cursor: pointer;display: block;width: 100%;margin-bottom: 0;padding: 0.3em;box-sizing: border-box;text-align: center;}#sk-container-id-1 label.sk-toggleable__label-arrow:before {content: \"▸\";float: left;margin-right: 0.25em;color: #696969;}#sk-container-id-1 label.sk-toggleable__label-arrow:hover:before {color: black;}#sk-container-id-1 div.sk-estimator:hover label.sk-toggleable__label-arrow:before {color: black;}#sk-container-id-1 div.sk-toggleable__content {max-height: 0;max-width: 0;overflow: hidden;text-align: left;background-color: #f0f8ff;}#sk-container-id-1 div.sk-toggleable__content pre {margin: 0.2em;color: black;border-radius: 0.25em;background-color: #f0f8ff;}#sk-container-id-1 input.sk-toggleable__control:checked~div.sk-toggleable__content {max-height: 200px;max-width: 100%;overflow: auto;}#sk-container-id-1 input.sk-toggleable__control:checked~label.sk-toggleable__label-arrow:before {content: \"▾\";}#sk-container-id-1 div.sk-estimator input.sk-toggleable__control:checked~label.sk-toggleable__label {background-color: #d4ebff;}#sk-container-id-1 div.sk-label input.sk-toggleable__control:checked~label.sk-toggleable__label {background-color: #d4ebff;}#sk-container-id-1 input.sk-hidden--visually {border: 0;clip: rect(1px 1px 1px 1px);clip: rect(1px, 1px, 1px, 1px);height: 1px;margin: -1px;overflow: hidden;padding: 0;position: absolute;width: 1px;}#sk-container-id-1 div.sk-estimator {font-family: monospace;background-color: #f0f8ff;border: 1px dotted black;border-radius: 0.25em;box-sizing: border-box;margin-bottom: 0.5em;}#sk-container-id-1 div.sk-estimator:hover {background-color: #d4ebff;}#sk-container-id-1 div.sk-parallel-item::after {content: \"\";width: 100%;border-bottom: 1px solid gray;flex-grow: 1;}#sk-container-id-1 div.sk-label:hover label.sk-toggleable__label {background-color: #d4ebff;}#sk-container-id-1 div.sk-serial::before {content: \"\";position: absolute;border-left: 1px solid gray;box-sizing: border-box;top: 0;bottom: 0;left: 50%;z-index: 0;}#sk-container-id-1 div.sk-serial {display: flex;flex-direction: column;align-items: center;background-color: white;padding-right: 0.2em;padding-left: 0.2em;position: relative;}#sk-container-id-1 div.sk-item {position: relative;z-index: 1;}#sk-container-id-1 div.sk-parallel {display: flex;align-items: stretch;justify-content: center;background-color: white;position: relative;}#sk-container-id-1 div.sk-item::before, #sk-container-id-1 div.sk-parallel-item::before {content: \"\";position: absolute;border-left: 1px solid gray;box-sizing: border-box;top: 0;bottom: 0;left: 50%;z-index: -1;}#sk-container-id-1 div.sk-parallel-item {display: flex;flex-direction: column;z-index: 1;position: relative;background-color: white;}#sk-container-id-1 div.sk-parallel-item:first-child::after {align-self: flex-end;width: 50%;}#sk-container-id-1 div.sk-parallel-item:last-child::after {align-self: flex-start;width: 50%;}#sk-container-id-1 div.sk-parallel-item:only-child::after {width: 0;}#sk-container-id-1 div.sk-dashed-wrapped {border: 1px dashed gray;margin: 0 0.4em 0.5em 0.4em;box-sizing: border-box;padding-bottom: 0.4em;background-color: white;}#sk-container-id-1 div.sk-label label {font-family: monospace;font-weight: bold;display: inline-block;line-height: 1.2em;}#sk-container-id-1 div.sk-label-container {text-align: center;}#sk-container-id-1 div.sk-container {/* jupyter's `normalize.less` sets `[hidden] { display: none; }` but bootstrap.min.css set `[hidden] { display: none !important; }` so we also need the `!important` here to be able to override the default hidden behavior on the sphinx rendered scikit-learn.org. See: https://github.com/scikit-learn/scikit-learn/issues/21755 */display: inline-block !important;position: relative;}#sk-container-id-1 div.sk-text-repr-fallback {display: none;}</style><div id=\"sk-container-id-1\" class=\"sk-top-container\"><div class=\"sk-text-repr-fallback\"><pre>Pipeline(steps=[(&#x27;scale&#x27;, StandardScaler()), (&#x27;model&#x27;, LogisticRegression())])</pre><b>In a Jupyter environment, please rerun this cell to show the HTML representation or trust the notebook. <br />On GitHub, the HTML representation is unable to render, please try loading this page with nbviewer.org.</b></div><div class=\"sk-container\" hidden><div class=\"sk-item sk-dashed-wrapped\"><div class=\"sk-label-container\"><div class=\"sk-label sk-toggleable\"><input class=\"sk-toggleable__control sk-hidden--visually\" id=\"sk-estimator-id-1\" type=\"checkbox\" ><label for=\"sk-estimator-id-1\" class=\"sk-toggleable__label sk-toggleable__label-arrow\">Pipeline</label><div class=\"sk-toggleable__content\"><pre>Pipeline(steps=[(&#x27;scale&#x27;, StandardScaler()), (&#x27;model&#x27;, LogisticRegression())])</pre></div></div></div><div class=\"sk-serial\"><div class=\"sk-item\"><div class=\"sk-estimator sk-toggleable\"><input class=\"sk-toggleable__control sk-hidden--visually\" id=\"sk-estimator-id-2\" type=\"checkbox\" ><label for=\"sk-estimator-id-2\" class=\"sk-toggleable__label sk-toggleable__label-arrow\">StandardScaler</label><div class=\"sk-toggleable__content\"><pre>StandardScaler()</pre></div></div></div><div class=\"sk-item\"><div class=\"sk-estimator sk-toggleable\"><input class=\"sk-toggleable__control sk-hidden--visually\" id=\"sk-estimator-id-3\" type=\"checkbox\" ><label for=\"sk-estimator-id-3\" class=\"sk-toggleable__label sk-toggleable__label-arrow\">LogisticRegression</label><div class=\"sk-toggleable__content\"><pre>LogisticRegression()</pre></div></div></div></div></div></div></div>"
      ],
      "text/plain": [
       "Pipeline(steps=[('scale', StandardScaler()), ('model', LogisticRegression())])"
      ]
     },
     "execution_count": 43,
     "metadata": {},
     "output_type": "execute_result"
    }
   ],
   "source": [
    "model.fit(X_train, y_train.values.ravel())"
   ]
  },
  {
   "cell_type": "code",
   "execution_count": 44,
   "id": "af59f8c0",
   "metadata": {
    "execution": {
     "iopub.execute_input": "2025-07-30T20:10:01.247403Z",
     "iopub.status.busy": "2025-07-30T20:10:01.247009Z",
     "iopub.status.idle": "2025-07-30T20:10:01.252190Z",
     "shell.execute_reply": "2025-07-30T20:10:01.251170Z"
    },
    "papermill": {
     "duration": 0.030343,
     "end_time": "2025-07-30T20:10:01.254111",
     "exception": false,
     "start_time": "2025-07-30T20:10:01.223768",
     "status": "completed"
    },
    "tags": []
   },
   "outputs": [],
   "source": [
    "from fairness_multiverse.universe import predict_w_threshold"
   ]
  },
  {
   "cell_type": "code",
   "execution_count": 45,
   "id": "a7cf2e16",
   "metadata": {
    "execution": {
     "iopub.execute_input": "2025-07-30T20:10:01.306439Z",
     "iopub.status.busy": "2025-07-30T20:10:01.305799Z",
     "iopub.status.idle": "2025-07-30T20:10:01.496960Z",
     "shell.execute_reply": "2025-07-30T20:10:01.495964Z"
    },
    "papermill": {
     "duration": 0.218652,
     "end_time": "2025-07-30T20:10:01.498589",
     "exception": false,
     "start_time": "2025-07-30T20:10:01.279937",
     "status": "completed"
    },
    "tags": []
   },
   "outputs": [
    {
     "data": {
      "text/plain": [
       "0.8621558354698473"
      ]
     },
     "execution_count": 45,
     "metadata": {},
     "output_type": "execute_result"
    }
   ],
   "source": [
    "probs_test = model.predict_proba(X_test)\n",
    "\n",
    "'''\n",
    "Below code returns a boolean array (or binary 0/1 array depending on how it’s used) where each element \n",
    "is True if the probability of class 1 is greater than or equal to the threshold, and False otherwise.\n",
    "'''\n",
    "y_pred_default = predict_w_threshold(probs_test, 0.5)\n",
    "\n",
    "from sklearn.metrics import accuracy_score\n",
    "\n",
    "# Naive prediction\n",
    "accuracy_score(y_true = y_true, y_pred = y_pred_default)"
   ]
  },
  {
   "cell_type": "code",
   "execution_count": 46,
   "id": "081964c3",
   "metadata": {
    "execution": {
     "iopub.execute_input": "2025-07-30T20:10:01.549256Z",
     "iopub.status.busy": "2025-07-30T20:10:01.547676Z",
     "iopub.status.idle": "2025-07-30T20:10:01.730681Z",
     "shell.execute_reply": "2025-07-30T20:10:01.729757Z"
    },
    "papermill": {
     "duration": 0.20948,
     "end_time": "2025-07-30T20:10:01.732341",
     "exception": false,
     "start_time": "2025-07-30T20:10:01.522861",
     "status": "completed"
    },
    "tags": []
   },
   "outputs": [
    {
     "data": {
      "text/plain": [
       "array([0, 0, 0, ..., 0, 0, 0])"
      ]
     },
     "execution_count": 46,
     "metadata": {},
     "output_type": "execute_result"
    }
   ],
   "source": [
    "model.predict(X_test)"
   ]
  },
  {
   "cell_type": "markdown",
   "id": "56c9705b",
   "metadata": {
    "papermill": {
     "duration": 0.021626,
     "end_time": "2025-07-30T20:10:01.776400",
     "exception": false,
     "start_time": "2025-07-30T20:10:01.754774",
     "status": "completed"
    },
    "tags": []
   },
   "source": [
    "# Conformal Prediction"
   ]
  },
  {
   "cell_type": "code",
   "execution_count": 47,
   "id": "160ec6ff",
   "metadata": {
    "execution": {
     "iopub.execute_input": "2025-07-30T20:10:01.821817Z",
     "iopub.status.busy": "2025-07-30T20:10:01.820949Z",
     "iopub.status.idle": "2025-07-30T20:10:01.825997Z",
     "shell.execute_reply": "2025-07-30T20:10:01.825174Z"
    },
    "papermill": {
     "duration": 0.029793,
     "end_time": "2025-07-30T20:10:01.827943",
     "exception": false,
     "start_time": "2025-07-30T20:10:01.798150",
     "status": "completed"
    },
    "tags": []
   },
   "outputs": [],
   "source": [
    "# Miscoverage level for conformal prediction (10% allowed error rate => 90% target coverage)\n",
    "alpha = 0.1"
   ]
  },
  {
   "cell_type": "code",
   "execution_count": 48,
   "id": "eadf4555-3dd3-440e-8e35-f82a4ad9f855",
   "metadata": {
    "execution": {
     "iopub.execute_input": "2025-07-30T20:10:01.881051Z",
     "iopub.status.busy": "2025-07-30T20:10:01.880554Z",
     "iopub.status.idle": "2025-07-30T20:10:02.056202Z",
     "shell.execute_reply": "2025-07-30T20:10:02.055173Z"
    },
    "papermill": {
     "duration": 0.205803,
     "end_time": "2025-07-30T20:10:02.058183",
     "exception": false,
     "start_time": "2025-07-30T20:10:01.852380",
     "status": "completed"
    },
    "tags": []
   },
   "outputs": [],
   "source": [
    "probs_calib = model.predict_proba(X_calib)"
   ]
  },
  {
   "cell_type": "code",
   "execution_count": 49,
   "id": "2ed93547-6d5d-4983-9b36-1ecb300da49a",
   "metadata": {
    "execution": {
     "iopub.execute_input": "2025-07-30T20:10:02.109035Z",
     "iopub.status.busy": "2025-07-30T20:10:02.108314Z",
     "iopub.status.idle": "2025-07-30T20:10:02.114585Z",
     "shell.execute_reply": "2025-07-30T20:10:02.113561Z"
    },
    "papermill": {
     "duration": 0.033067,
     "end_time": "2025-07-30T20:10:02.116423",
     "exception": false,
     "start_time": "2025-07-30T20:10:02.083356",
     "status": "completed"
    },
    "tags": []
   },
   "outputs": [],
   "source": [
    "y_calib = y_calib.values.ravel().astype(int)"
   ]
  },
  {
   "cell_type": "code",
   "execution_count": 50,
   "id": "65d1320d-f588-4b38-9072-62af1ae97f7d",
   "metadata": {
    "execution": {
     "iopub.execute_input": "2025-07-30T20:10:02.168113Z",
     "iopub.status.busy": "2025-07-30T20:10:02.167090Z",
     "iopub.status.idle": "2025-07-30T20:10:02.174258Z",
     "shell.execute_reply": "2025-07-30T20:10:02.173305Z"
    },
    "papermill": {
     "duration": 0.03389,
     "end_time": "2025-07-30T20:10:02.175932",
     "exception": false,
     "start_time": "2025-07-30T20:10:02.142042",
     "status": "completed"
    },
    "tags": []
   },
   "outputs": [],
   "source": [
    "from fairness_multiverse.conformal import compute_nc_scores\n",
    "\n",
    "# Compute nonconformity scores on calibration set (1 - probability of true class)\n",
    "nc_scores = compute_nc_scores(probs_calib, y_calib)"
   ]
  },
  {
   "cell_type": "code",
   "execution_count": 51,
   "id": "df3b8ca3-53b7-43d5-9667-7c85da7aeda2",
   "metadata": {
    "execution": {
     "iopub.execute_input": "2025-07-30T20:10:02.227567Z",
     "iopub.status.busy": "2025-07-30T20:10:02.226931Z",
     "iopub.status.idle": "2025-07-30T20:10:02.233847Z",
     "shell.execute_reply": "2025-07-30T20:10:02.232945Z"
    },
    "papermill": {
     "duration": 0.033828,
     "end_time": "2025-07-30T20:10:02.235432",
     "exception": false,
     "start_time": "2025-07-30T20:10:02.201604",
     "status": "completed"
    },
    "tags": []
   },
   "outputs": [],
   "source": [
    "from fairness_multiverse.conformal import find_threshold\n",
    "\n",
    "# Find conformal threshold q_hat for the given alpha (split conformal method)\n",
    "q_hat = find_threshold(nc_scores, alpha)"
   ]
  },
  {
   "cell_type": "code",
   "execution_count": 52,
   "id": "4d29e6c1-0ef6-4aa4-b8fe-4fe79b0d033a",
   "metadata": {
    "execution": {
     "iopub.execute_input": "2025-07-30T20:10:02.287829Z",
     "iopub.status.busy": "2025-07-30T20:10:02.287119Z",
     "iopub.status.idle": "2025-07-30T20:10:02.294642Z",
     "shell.execute_reply": "2025-07-30T20:10:02.293726Z"
    },
    "papermill": {
     "duration": 0.035017,
     "end_time": "2025-07-30T20:10:02.296235",
     "exception": false,
     "start_time": "2025-07-30T20:10:02.261218",
     "status": "completed"
    },
    "tags": []
   },
   "outputs": [
    {
     "data": {
      "text/plain": [
       "0.664388814767638"
      ]
     },
     "execution_count": 52,
     "metadata": {},
     "output_type": "execute_result"
    }
   ],
   "source": [
    "q_hat"
   ]
  },
  {
   "cell_type": "code",
   "execution_count": 53,
   "id": "92460794-cdac-4be2-ba28-f28c0515a6fb",
   "metadata": {
    "execution": {
     "iopub.execute_input": "2025-07-30T20:10:02.348369Z",
     "iopub.status.busy": "2025-07-30T20:10:02.347332Z",
     "iopub.status.idle": "2025-07-30T20:10:03.211720Z",
     "shell.execute_reply": "2025-07-30T20:10:03.210708Z"
    },
    "papermill": {
     "duration": 0.892181,
     "end_time": "2025-07-30T20:10:03.213441",
     "exception": false,
     "start_time": "2025-07-30T20:10:02.321260",
     "status": "completed"
    },
    "tags": []
   },
   "outputs": [],
   "source": [
    "from fairness_multiverse.conformal import predict_conformal_sets\n",
    "\n",
    "# Generate prediction sets for each test example\n",
    "pred_sets = predict_conformal_sets(model, X_test, q_hat)"
   ]
  },
  {
   "cell_type": "code",
   "execution_count": 54,
   "id": "d90c9a65-e6db-4f5d-80cd-e68fb7e46829",
   "metadata": {
    "execution": {
     "iopub.execute_input": "2025-07-30T20:10:03.264853Z",
     "iopub.status.busy": "2025-07-30T20:10:03.264163Z",
     "iopub.status.idle": "2025-07-30T20:10:03.269755Z",
     "shell.execute_reply": "2025-07-30T20:10:03.268711Z"
    },
    "papermill": {
     "duration": 0.033395,
     "end_time": "2025-07-30T20:10:03.271348",
     "exception": false,
     "start_time": "2025-07-30T20:10:03.237953",
     "status": "completed"
    },
    "tags": []
   },
   "outputs": [],
   "source": [
    "y_true = y_true.squeeze()"
   ]
  },
  {
   "cell_type": "code",
   "execution_count": 55,
   "id": "3a58a54a-1e68-46b9-927a-df01f18aebc8",
   "metadata": {
    "execution": {
     "iopub.execute_input": "2025-07-30T20:10:03.323857Z",
     "iopub.status.busy": "2025-07-30T20:10:03.322898Z",
     "iopub.status.idle": "2025-07-30T20:10:04.273152Z",
     "shell.execute_reply": "2025-07-30T20:10:04.272201Z"
    },
    "papermill": {
     "duration": 0.978995,
     "end_time": "2025-07-30T20:10:04.275268",
     "exception": false,
     "start_time": "2025-07-30T20:10:03.296273",
     "status": "completed"
    },
    "tags": []
   },
   "outputs": [],
   "source": [
    "from fairness_multiverse.conformal import evaluate_sets\n",
    "\n",
    "# Evaluate coverage and average set size on test data\n",
    "metrics = evaluate_sets(pred_sets, y_true)"
   ]
  },
  {
   "cell_type": "markdown",
   "id": "2b569c12-9aaa-4c88-98c9-bbcd0cf3ebb8",
   "metadata": {
    "papermill": {
     "duration": 0.024228,
     "end_time": "2025-07-30T20:10:04.325335",
     "exception": false,
     "start_time": "2025-07-30T20:10:04.301107",
     "status": "completed"
    },
    "tags": []
   },
   "source": [
    "# CP Metrics"
   ]
  },
  {
   "cell_type": "code",
   "execution_count": 56,
   "id": "5ce0a5cb-201f-45a0-ade5-94c7f0bd6095",
   "metadata": {
    "execution": {
     "iopub.execute_input": "2025-07-30T20:10:04.377402Z",
     "iopub.status.busy": "2025-07-30T20:10:04.376698Z",
     "iopub.status.idle": "2025-07-30T20:10:04.383854Z",
     "shell.execute_reply": "2025-07-30T20:10:04.382861Z"
    },
    "papermill": {
     "duration": 0.035738,
     "end_time": "2025-07-30T20:10:04.385501",
     "exception": false,
     "start_time": "2025-07-30T20:10:04.349763",
     "status": "completed"
    },
    "tags": []
   },
   "outputs": [
    {
     "data": {
      "text/plain": [
       "{'coverage': 0.9118158510756883, 'avg_size': 1.1253037565488797}"
      ]
     },
     "execution_count": 56,
     "metadata": {},
     "output_type": "execute_result"
    }
   ],
   "source": [
    "metrics"
   ]
  },
  {
   "cell_type": "code",
   "execution_count": 57,
   "id": "9b9a838d-31c9-430b-ae14-12baee460d17",
   "metadata": {
    "execution": {
     "iopub.execute_input": "2025-07-30T20:10:04.437770Z",
     "iopub.status.busy": "2025-07-30T20:10:04.437322Z",
     "iopub.status.idle": "2025-07-30T20:10:04.443996Z",
     "shell.execute_reply": "2025-07-30T20:10:04.443093Z"
    },
    "papermill": {
     "duration": 0.035006,
     "end_time": "2025-07-30T20:10:04.445673",
     "exception": false,
     "start_time": "2025-07-30T20:10:04.410667",
     "status": "completed"
    },
    "tags": []
   },
   "outputs": [],
   "source": [
    "example_universe = universe.copy()\n",
    "universe_training_year = example_universe.get(\"training_year\")\n",
    "universe_training_size = example_universe.get(\"training_size\")\n",
    "universe_scale = example_universe.get(\"scale\")\n",
    "universe_model = example_universe.get(\"model\")\n",
    "universe_exclude_features = example_universe.get(\"exclude_features\")\n",
    "universe_exclude_subgroups = example_universe.get(\"exclude_subgroups\")"
   ]
  },
  {
   "cell_type": "code",
   "execution_count": 58,
   "id": "f4b6a8ac-9dc0-4245-8a91-5b3b5999c4f9",
   "metadata": {
    "execution": {
     "iopub.execute_input": "2025-07-30T20:10:04.499006Z",
     "iopub.status.busy": "2025-07-30T20:10:04.498590Z",
     "iopub.status.idle": "2025-07-30T20:10:04.505374Z",
     "shell.execute_reply": "2025-07-30T20:10:04.504450Z"
    },
    "papermill": {
     "duration": 0.035715,
     "end_time": "2025-07-30T20:10:04.507247",
     "exception": false,
     "start_time": "2025-07-30T20:10:04.471532",
     "status": "completed"
    },
    "tags": []
   },
   "outputs": [],
   "source": [
    "cp_metrics_dict = {\n",
    "    \"universe_id\": [universe_id],\n",
    "    \"universe_training_year\": [universe_training_year],\n",
    "    \"universe_training_size\": [universe_training_size],\n",
    "    \"universe_scale\": [universe_scale],\n",
    "    \"universe_model\": [universe_model],\n",
    "    \"universe_exclude_features\": [universe_exclude_features],\n",
    "    \"universe_exclude_subgroups\": [universe_exclude_subgroups],\n",
    "    \"q_hat\": [q_hat],\n",
    "    \"coverage\": [metrics[\"coverage\"]],\n",
    "    \"avg_size\": [metrics[\"avg_size\"]],\n",
    "}"
   ]
  },
  {
   "cell_type": "code",
   "execution_count": 59,
   "id": "908acbb1-0371-4915-85ca-3fa520d2efe2",
   "metadata": {
    "execution": {
     "iopub.execute_input": "2025-07-30T20:10:04.559743Z",
     "iopub.status.busy": "2025-07-30T20:10:04.559252Z",
     "iopub.status.idle": "2025-07-30T20:10:04.575828Z",
     "shell.execute_reply": "2025-07-30T20:10:04.574783Z"
    },
    "papermill": {
     "duration": 0.044335,
     "end_time": "2025-07-30T20:10:04.577560",
     "exception": false,
     "start_time": "2025-07-30T20:10:04.533225",
     "status": "completed"
    },
    "tags": []
   },
   "outputs": [
    {
     "data": {
      "text/plain": [
       "{'universe_id': ['b8fc0fe78241071ea616fa9dfa708251'],\n",
       " 'universe_training_year': ['2012_14'],\n",
       " 'universe_training_size': ['25k'],\n",
       " 'universe_scale': ['scale'],\n",
       " 'universe_model': ['penalized_logreg'],\n",
       " 'universe_exclude_features': ['sex'],\n",
       " 'universe_exclude_subgroups': ['keep-all'],\n",
       " 'q_hat': [0.664388814767638],\n",
       " 'coverage': [0.9118158510756883],\n",
       " 'avg_size': [1.1253037565488797]}"
      ]
     },
     "execution_count": 59,
     "metadata": {},
     "output_type": "execute_result"
    }
   ],
   "source": [
    "cp_metrics_dict"
   ]
  },
  {
   "cell_type": "code",
   "execution_count": 60,
   "id": "33007efc-14e9-4ec6-97ac-56a455c82265",
   "metadata": {
    "execution": {
     "iopub.execute_input": "2025-07-30T20:10:04.631191Z",
     "iopub.status.busy": "2025-07-30T20:10:04.630738Z",
     "iopub.status.idle": "2025-07-30T20:10:04.637058Z",
     "shell.execute_reply": "2025-07-30T20:10:04.636086Z"
    },
    "papermill": {
     "duration": 0.035443,
     "end_time": "2025-07-30T20:10:04.638800",
     "exception": false,
     "start_time": "2025-07-30T20:10:04.603357",
     "status": "completed"
    },
    "tags": []
   },
   "outputs": [],
   "source": [
    "cp_metrics_df = pd.DataFrame(cp_metrics_dict)"
   ]
  },
  {
   "cell_type": "code",
   "execution_count": 61,
   "id": "db12611b-57b2-4910-b9d0-355adfd6e7bf",
   "metadata": {
    "execution": {
     "iopub.execute_input": "2025-07-30T20:10:04.693713Z",
     "iopub.status.busy": "2025-07-30T20:10:04.692990Z",
     "iopub.status.idle": "2025-07-30T20:10:04.712329Z",
     "shell.execute_reply": "2025-07-30T20:10:04.711350Z"
    },
    "papermill": {
     "duration": 0.04889,
     "end_time": "2025-07-30T20:10:04.713987",
     "exception": false,
     "start_time": "2025-07-30T20:10:04.665097",
     "status": "completed"
    },
    "tags": []
   },
   "outputs": [
    {
     "data": {
      "text/html": [
       "<div>\n",
       "<style scoped>\n",
       "    .dataframe tbody tr th:only-of-type {\n",
       "        vertical-align: middle;\n",
       "    }\n",
       "\n",
       "    .dataframe tbody tr th {\n",
       "        vertical-align: top;\n",
       "    }\n",
       "\n",
       "    .dataframe thead th {\n",
       "        text-align: right;\n",
       "    }\n",
       "</style>\n",
       "<table border=\"1\" class=\"dataframe\">\n",
       "  <thead>\n",
       "    <tr style=\"text-align: right;\">\n",
       "      <th></th>\n",
       "      <th>universe_id</th>\n",
       "      <th>universe_training_year</th>\n",
       "      <th>universe_training_size</th>\n",
       "      <th>universe_scale</th>\n",
       "      <th>universe_model</th>\n",
       "      <th>universe_exclude_features</th>\n",
       "      <th>universe_exclude_subgroups</th>\n",
       "      <th>q_hat</th>\n",
       "      <th>coverage</th>\n",
       "      <th>avg_size</th>\n",
       "    </tr>\n",
       "  </thead>\n",
       "  <tbody>\n",
       "    <tr>\n",
       "      <th>0</th>\n",
       "      <td>b8fc0fe78241071ea616fa9dfa708251</td>\n",
       "      <td>2012_14</td>\n",
       "      <td>25k</td>\n",
       "      <td>scale</td>\n",
       "      <td>penalized_logreg</td>\n",
       "      <td>sex</td>\n",
       "      <td>keep-all</td>\n",
       "      <td>0.664389</td>\n",
       "      <td>0.911816</td>\n",
       "      <td>1.125304</td>\n",
       "    </tr>\n",
       "  </tbody>\n",
       "</table>\n",
       "</div>"
      ],
      "text/plain": [
       "                        universe_id universe_training_year  \\\n",
       "0  b8fc0fe78241071ea616fa9dfa708251                2012_14   \n",
       "\n",
       "  universe_training_size universe_scale    universe_model  \\\n",
       "0                    25k          scale  penalized_logreg   \n",
       "\n",
       "  universe_exclude_features universe_exclude_subgroups     q_hat  coverage  \\\n",
       "0                       sex                   keep-all  0.664389  0.911816   \n",
       "\n",
       "   avg_size  \n",
       "0  1.125304  "
      ]
     },
     "execution_count": 61,
     "metadata": {},
     "output_type": "execute_result"
    }
   ],
   "source": [
    "cp_metrics_df"
   ]
  },
  {
   "cell_type": "code",
   "execution_count": 62,
   "id": "b7fbde55-a0a1-47e4-9af6-fe4a17fa8c61",
   "metadata": {
    "execution": {
     "iopub.execute_input": "2025-07-30T20:10:04.768075Z",
     "iopub.status.busy": "2025-07-30T20:10:04.767398Z",
     "iopub.status.idle": "2025-07-30T20:10:04.772833Z",
     "shell.execute_reply": "2025-07-30T20:10:04.771867Z"
    },
    "papermill": {
     "duration": 0.034703,
     "end_time": "2025-07-30T20:10:04.774651",
     "exception": false,
     "start_time": "2025-07-30T20:10:04.739948",
     "status": "completed"
    },
    "tags": []
   },
   "outputs": [],
   "source": [
    "# Conditional Coverage & looking at subgroups"
   ]
  },
  {
   "cell_type": "code",
   "execution_count": 63,
   "id": "027ae886-68dd-4141-96c7-805a5450e1ef",
   "metadata": {
    "execution": {
     "iopub.execute_input": "2025-07-30T20:10:04.827911Z",
     "iopub.status.busy": "2025-07-30T20:10:04.827448Z",
     "iopub.status.idle": "2025-07-30T20:10:05.094870Z",
     "shell.execute_reply": "2025-07-30T20:10:05.093873Z"
    },
    "papermill": {
     "duration": 0.296103,
     "end_time": "2025-07-30T20:10:05.096809",
     "exception": false,
     "start_time": "2025-07-30T20:10:04.800706",
     "status": "completed"
    },
    "tags": []
   },
   "outputs": [],
   "source": [
    "from fairness_multiverse.conformal import build_cp_groups\n",
    "\n",
    "cp_groups_df = build_cp_groups(pred_sets, y_true, X_test.index, org_test)\n",
    "#needs universe_id and setting"
   ]
  },
  {
   "cell_type": "code",
   "execution_count": 64,
   "id": "01d5802c-663a-4d1f-9d69-e036faaffbf7",
   "metadata": {
    "execution": {
     "iopub.execute_input": "2025-07-30T20:10:05.150015Z",
     "iopub.status.busy": "2025-07-30T20:10:05.149328Z",
     "iopub.status.idle": "2025-07-30T20:10:05.154876Z",
     "shell.execute_reply": "2025-07-30T20:10:05.153849Z"
    },
    "papermill": {
     "duration": 0.033712,
     "end_time": "2025-07-30T20:10:05.156720",
     "exception": false,
     "start_time": "2025-07-30T20:10:05.123008",
     "status": "completed"
    },
    "tags": []
   },
   "outputs": [],
   "source": [
    "#delete\n",
    "#cp_groups_df"
   ]
  },
  {
   "cell_type": "code",
   "execution_count": 65,
   "id": "fa424af1-d1eb-443d-b717-2d279ada8408",
   "metadata": {
    "execution": {
     "iopub.execute_input": "2025-07-30T20:10:05.212117Z",
     "iopub.status.busy": "2025-07-30T20:10:05.211408Z",
     "iopub.status.idle": "2025-07-30T20:10:05.216562Z",
     "shell.execute_reply": "2025-07-30T20:10:05.215520Z"
    },
    "papermill": {
     "duration": 0.034451,
     "end_time": "2025-07-30T20:10:05.218154",
     "exception": false,
     "start_time": "2025-07-30T20:10:05.183703",
     "status": "completed"
    },
    "tags": []
   },
   "outputs": [],
   "source": [
    "#delete\n",
    "#percentage = (cp_groups_df['nongerman_female'] == 1).mean() * 100\n",
    "#print(percentage)\n"
   ]
  },
  {
   "cell_type": "code",
   "execution_count": 66,
   "id": "6cbdab96-b2b2-45af-ad54-d0516db2e28d",
   "metadata": {
    "execution": {
     "iopub.execute_input": "2025-07-30T20:10:05.272758Z",
     "iopub.status.busy": "2025-07-30T20:10:05.272069Z",
     "iopub.status.idle": "2025-07-30T20:10:06.915150Z",
     "shell.execute_reply": "2025-07-30T20:10:06.914232Z"
    },
    "papermill": {
     "duration": 1.672508,
     "end_time": "2025-07-30T20:10:06.917133",
     "exception": false,
     "start_time": "2025-07-30T20:10:05.244625",
     "status": "completed"
    },
    "tags": []
   },
   "outputs": [],
   "source": [
    "# Define covered = 1 if true_label is in the predicted set\n",
    "cp_groups_df['covered'] = cp_groups_df.apply(\n",
    "    lambda r: int(r['true_label'] in r['pred_set']),\n",
    "    axis=1\n",
    ")"
   ]
  },
  {
   "cell_type": "code",
   "execution_count": 67,
   "id": "338ff529-1a6b-4b87-a931-8e4788d52aad",
   "metadata": {
    "execution": {
     "iopub.execute_input": "2025-07-30T20:10:06.971227Z",
     "iopub.status.busy": "2025-07-30T20:10:06.970416Z",
     "iopub.status.idle": "2025-07-30T20:10:06.975647Z",
     "shell.execute_reply": "2025-07-30T20:10:06.974621Z"
    },
    "papermill": {
     "duration": 0.034456,
     "end_time": "2025-07-30T20:10:06.977249",
     "exception": false,
     "start_time": "2025-07-30T20:10:06.942793",
     "status": "completed"
    },
    "tags": []
   },
   "outputs": [],
   "source": [
    "#cp_groups_df"
   ]
  },
  {
   "cell_type": "code",
   "execution_count": 68,
   "id": "90032e27-66df-4540-9169-4e89cfbaa758",
   "metadata": {
    "execution": {
     "iopub.execute_input": "2025-07-30T20:10:07.032255Z",
     "iopub.status.busy": "2025-07-30T20:10:07.031536Z",
     "iopub.status.idle": "2025-07-30T20:10:07.043827Z",
     "shell.execute_reply": "2025-07-30T20:10:07.042814Z"
    },
    "papermill": {
     "duration": 0.042066,
     "end_time": "2025-07-30T20:10:07.045531",
     "exception": false,
     "start_time": "2025-07-30T20:10:07.003465",
     "status": "completed"
    },
    "tags": []
   },
   "outputs": [],
   "source": [
    "subgroups = ['frau1','nongerman','nongerman_male','nongerman_female']\n",
    "\n",
    "# Conditional coverage for subgroup==1\n",
    "cond_coverage = {\n",
    "    g: cp_groups_df.loc[cp_groups_df[g]==1, 'covered'].mean()\n",
    "    for g in subgroups\n",
    "}"
   ]
  },
  {
   "cell_type": "code",
   "execution_count": 69,
   "id": "1e348fb1-b9c3-45bc-ba23-f016827a7e0d",
   "metadata": {
    "execution": {
     "iopub.execute_input": "2025-07-30T20:10:07.099482Z",
     "iopub.status.busy": "2025-07-30T20:10:07.098826Z",
     "iopub.status.idle": "2025-07-30T20:10:07.106065Z",
     "shell.execute_reply": "2025-07-30T20:10:07.105124Z"
    },
    "papermill": {
     "duration": 0.03568,
     "end_time": "2025-07-30T20:10:07.107707",
     "exception": false,
     "start_time": "2025-07-30T20:10:07.072027",
     "status": "completed"
    },
    "tags": []
   },
   "outputs": [
    {
     "data": {
      "text/plain": [
       "{'frau1': 0.9111200970481197,\n",
       " 'nongerman': 0.9102340986919666,\n",
       " 'nongerman_male': 0.9258758893992615,\n",
       " 'nongerman_female': 0.8843517138599106}"
      ]
     },
     "execution_count": 69,
     "metadata": {},
     "output_type": "execute_result"
    }
   ],
   "source": [
    "cond_coverage"
   ]
  },
  {
   "cell_type": "code",
   "execution_count": 70,
   "id": "f5093324-c3dd-4d63-bc4c-8d945e5c8bbb",
   "metadata": {
    "execution": {
     "iopub.execute_input": "2025-07-30T20:10:07.162836Z",
     "iopub.status.busy": "2025-07-30T20:10:07.161797Z",
     "iopub.status.idle": "2025-07-30T20:10:07.169500Z",
     "shell.execute_reply": "2025-07-30T20:10:07.168572Z"
    },
    "papermill": {
     "duration": 0.036331,
     "end_time": "2025-07-30T20:10:07.171233",
     "exception": false,
     "start_time": "2025-07-30T20:10:07.134902",
     "status": "completed"
    },
    "tags": []
   },
   "outputs": [],
   "source": [
    "for subgroup, cov in cond_coverage.items():\n",
    "    cp_metrics_df[f\"cov_{subgroup}\"] = cov"
   ]
  },
  {
   "cell_type": "code",
   "execution_count": 71,
   "id": "6e872e10-dbe5-49e8-b554-5030c98ff75d",
   "metadata": {
    "execution": {
     "iopub.execute_input": "2025-07-30T20:10:07.226858Z",
     "iopub.status.busy": "2025-07-30T20:10:07.225981Z",
     "iopub.status.idle": "2025-07-30T20:10:07.245419Z",
     "shell.execute_reply": "2025-07-30T20:10:07.244371Z"
    },
    "papermill": {
     "duration": 0.048349,
     "end_time": "2025-07-30T20:10:07.247097",
     "exception": false,
     "start_time": "2025-07-30T20:10:07.198748",
     "status": "completed"
    },
    "tags": []
   },
   "outputs": [
    {
     "data": {
      "text/html": [
       "<div>\n",
       "<style scoped>\n",
       "    .dataframe tbody tr th:only-of-type {\n",
       "        vertical-align: middle;\n",
       "    }\n",
       "\n",
       "    .dataframe tbody tr th {\n",
       "        vertical-align: top;\n",
       "    }\n",
       "\n",
       "    .dataframe thead th {\n",
       "        text-align: right;\n",
       "    }\n",
       "</style>\n",
       "<table border=\"1\" class=\"dataframe\">\n",
       "  <thead>\n",
       "    <tr style=\"text-align: right;\">\n",
       "      <th></th>\n",
       "      <th>universe_id</th>\n",
       "      <th>universe_training_year</th>\n",
       "      <th>universe_training_size</th>\n",
       "      <th>universe_scale</th>\n",
       "      <th>universe_model</th>\n",
       "      <th>universe_exclude_features</th>\n",
       "      <th>universe_exclude_subgroups</th>\n",
       "      <th>q_hat</th>\n",
       "      <th>coverage</th>\n",
       "      <th>avg_size</th>\n",
       "      <th>cov_frau1</th>\n",
       "      <th>cov_nongerman</th>\n",
       "      <th>cov_nongerman_male</th>\n",
       "      <th>cov_nongerman_female</th>\n",
       "    </tr>\n",
       "  </thead>\n",
       "  <tbody>\n",
       "    <tr>\n",
       "      <th>0</th>\n",
       "      <td>b8fc0fe78241071ea616fa9dfa708251</td>\n",
       "      <td>2012_14</td>\n",
       "      <td>25k</td>\n",
       "      <td>scale</td>\n",
       "      <td>penalized_logreg</td>\n",
       "      <td>sex</td>\n",
       "      <td>keep-all</td>\n",
       "      <td>0.664389</td>\n",
       "      <td>0.911816</td>\n",
       "      <td>1.125304</td>\n",
       "      <td>0.91112</td>\n",
       "      <td>0.910234</td>\n",
       "      <td>0.925876</td>\n",
       "      <td>0.884352</td>\n",
       "    </tr>\n",
       "  </tbody>\n",
       "</table>\n",
       "</div>"
      ],
      "text/plain": [
       "                        universe_id universe_training_year  \\\n",
       "0  b8fc0fe78241071ea616fa9dfa708251                2012_14   \n",
       "\n",
       "  universe_training_size universe_scale    universe_model  \\\n",
       "0                    25k          scale  penalized_logreg   \n",
       "\n",
       "  universe_exclude_features universe_exclude_subgroups     q_hat  coverage  \\\n",
       "0                       sex                   keep-all  0.664389  0.911816   \n",
       "\n",
       "   avg_size  cov_frau1  cov_nongerman  cov_nongerman_male  \\\n",
       "0  1.125304    0.91112       0.910234            0.925876   \n",
       "\n",
       "   cov_nongerman_female  \n",
       "0              0.884352  "
      ]
     },
     "execution_count": 71,
     "metadata": {},
     "output_type": "execute_result"
    }
   ],
   "source": [
    "cp_metrics_df"
   ]
  },
  {
   "cell_type": "markdown",
   "id": "33774451",
   "metadata": {
    "papermill": {
     "duration": 0.026609,
     "end_time": "2025-07-30T20:10:07.304137",
     "exception": false,
     "start_time": "2025-07-30T20:10:07.277528",
     "status": "completed"
    },
    "tags": []
   },
   "source": [
    "# (Fairness) Metrics"
   ]
  },
  {
   "cell_type": "code",
   "execution_count": 72,
   "id": "debc5d62",
   "metadata": {
    "execution": {
     "iopub.execute_input": "2025-07-30T20:10:07.359871Z",
     "iopub.status.busy": "2025-07-30T20:10:07.359406Z",
     "iopub.status.idle": "2025-07-30T20:10:07.381928Z",
     "shell.execute_reply": "2025-07-30T20:10:07.381018Z"
    },
    "papermill": {
     "duration": 0.053567,
     "end_time": "2025-07-30T20:10:07.383903",
     "exception": false,
     "start_time": "2025-07-30T20:10:07.330336",
     "status": "completed"
    },
    "tags": []
   },
   "outputs": [],
   "source": [
    "# do I need to include maxdeutsch1.missing?\n",
    "\n",
    "import numpy as np\n",
    "\n",
    "colname_to_bin = \"maxdeutsch1\"\n",
    "majority_value = org_train[colname_to_bin].mode()[0]\n",
    "\n",
    "org_test[\"majmin\"] = np.where(org_test[colname_to_bin] == majority_value, \"majority\", \"minority\")"
   ]
  },
  {
   "cell_type": "code",
   "execution_count": 73,
   "id": "06a50de5",
   "metadata": {
    "execution": {
     "iopub.execute_input": "2025-07-30T20:10:07.439669Z",
     "iopub.status.busy": "2025-07-30T20:10:07.439193Z",
     "iopub.status.idle": "2025-07-30T20:10:10.260755Z",
     "shell.execute_reply": "2025-07-30T20:10:10.259491Z"
    },
    "papermill": {
     "duration": 2.851637,
     "end_time": "2025-07-30T20:10:10.263294",
     "exception": false,
     "start_time": "2025-07-30T20:10:07.411657",
     "status": "completed"
    },
    "tags": []
   },
   "outputs": [],
   "source": [
    "example_universe = universe.copy()\n",
    "example_universe[\"cutoff\"] = example_universe[\"cutoff\"][0]\n",
    "example_universe[\"eval_fairness_grouping\"] = example_universe[\"eval_fairness_grouping\"][0]\n",
    "fairness_dict, metric_frame = universe_analysis.compute_metrics(\n",
    "    example_universe,\n",
    "    y_pred_prob=probs_test,\n",
    "    y_test=y_true,\n",
    "    org_test=org_test,\n",
    ")"
   ]
  },
  {
   "cell_type": "markdown",
   "id": "f95d4e02",
   "metadata": {
    "papermill": {
     "duration": 0.037372,
     "end_time": "2025-07-30T20:10:10.339977",
     "exception": false,
     "start_time": "2025-07-30T20:10:10.302605",
     "status": "completed"
    },
    "tags": []
   },
   "source": [
    "# Overall"
   ]
  },
  {
   "cell_type": "markdown",
   "id": "bdee4871",
   "metadata": {
    "papermill": {
     "duration": 0.036291,
     "end_time": "2025-07-30T20:10:10.412760",
     "exception": false,
     "start_time": "2025-07-30T20:10:10.376469",
     "status": "completed"
    },
    "tags": []
   },
   "source": [
    "Fairness\n",
    "Main fairness target: Equalized Odds. Seems to be a better fit than equal opportunity, since we're not only interested in Y = 1. Seems to be a better fit than demographic parity, since we also care about accuracy, not just equal distribution of preds.\n",
    "\n",
    "Pick column for computation of fairness metrics\n",
    "\n",
    "Performance\n",
    "Overall performance measures, most interesting in relation to the measures split by group below"
   ]
  },
  {
   "cell_type": "code",
   "execution_count": 74,
   "id": "c4e067c6",
   "metadata": {
    "execution": {
     "iopub.execute_input": "2025-07-30T20:10:10.487483Z",
     "iopub.status.busy": "2025-07-30T20:10:10.486642Z",
     "iopub.status.idle": "2025-07-30T20:10:10.499174Z",
     "shell.execute_reply": "2025-07-30T20:10:10.497684Z"
    },
    "papermill": {
     "duration": 0.052296,
     "end_time": "2025-07-30T20:10:10.501059",
     "exception": false,
     "start_time": "2025-07-30T20:10:10.448763",
     "status": "completed"
    },
    "tags": []
   },
   "outputs": [
    {
     "data": {
      "text/plain": [
       "accuracy                   0.225426\n",
       "balanced accuracy          0.550978\n",
       "f1                         0.246729\n",
       "precision                  0.140948\n",
       "false positive rate        0.886921\n",
       "false negative rate        0.011123\n",
       "selection rate             0.900000\n",
       "count                  89710.000000\n",
       "dtype: float64"
      ]
     },
     "execution_count": 74,
     "metadata": {},
     "output_type": "execute_result"
    }
   ],
   "source": [
    "metric_frame.overall"
   ]
  },
  {
   "cell_type": "markdown",
   "id": "e968fe9d",
   "metadata": {
    "papermill": {
     "duration": 0.025437,
     "end_time": "2025-07-30T20:10:10.552641",
     "exception": false,
     "start_time": "2025-07-30T20:10:10.527204",
     "status": "completed"
    },
    "tags": []
   },
   "source": [
    "By Group"
   ]
  },
  {
   "cell_type": "code",
   "execution_count": 75,
   "id": "ec325bce",
   "metadata": {
    "execution": {
     "iopub.execute_input": "2025-07-30T20:10:10.606744Z",
     "iopub.status.busy": "2025-07-30T20:10:10.605702Z",
     "iopub.status.idle": "2025-07-30T20:10:10.630330Z",
     "shell.execute_reply": "2025-07-30T20:10:10.628897Z"
    },
    "papermill": {
     "duration": 0.054105,
     "end_time": "2025-07-30T20:10:10.632440",
     "exception": false,
     "start_time": "2025-07-30T20:10:10.578335",
     "status": "completed"
    },
    "tags": []
   },
   "outputs": [
    {
     "data": {
      "text/html": [
       "<div>\n",
       "<style scoped>\n",
       "    .dataframe tbody tr th:only-of-type {\n",
       "        vertical-align: middle;\n",
       "    }\n",
       "\n",
       "    .dataframe tbody tr th {\n",
       "        vertical-align: top;\n",
       "    }\n",
       "\n",
       "    .dataframe thead th {\n",
       "        text-align: right;\n",
       "    }\n",
       "</style>\n",
       "<table border=\"1\" class=\"dataframe\">\n",
       "  <thead>\n",
       "    <tr style=\"text-align: right;\">\n",
       "      <th></th>\n",
       "      <th>accuracy</th>\n",
       "      <th>balanced accuracy</th>\n",
       "      <th>f1</th>\n",
       "      <th>precision</th>\n",
       "      <th>false positive rate</th>\n",
       "      <th>false negative rate</th>\n",
       "      <th>selection rate</th>\n",
       "      <th>count</th>\n",
       "    </tr>\n",
       "    <tr>\n",
       "      <th>majmin</th>\n",
       "      <th></th>\n",
       "      <th></th>\n",
       "      <th></th>\n",
       "      <th></th>\n",
       "      <th></th>\n",
       "      <th></th>\n",
       "      <th></th>\n",
       "      <th></th>\n",
       "    </tr>\n",
       "  </thead>\n",
       "  <tbody>\n",
       "    <tr>\n",
       "      <th>majority</th>\n",
       "      <td>0.247044</td>\n",
       "      <td>0.561006</td>\n",
       "      <td>0.257435</td>\n",
       "      <td>0.148005</td>\n",
       "      <td>0.865734</td>\n",
       "      <td>0.012254</td>\n",
       "      <td>0.881856</td>\n",
       "      <td>69170.0</td>\n",
       "    </tr>\n",
       "    <tr>\n",
       "      <th>minority</th>\n",
       "      <td>0.152629</td>\n",
       "      <td>0.518166</td>\n",
       "      <td>0.212764</td>\n",
       "      <td>0.119143</td>\n",
       "      <td>0.956912</td>\n",
       "      <td>0.006757</td>\n",
       "      <td>0.961100</td>\n",
       "      <td>20540.0</td>\n",
       "    </tr>\n",
       "  </tbody>\n",
       "</table>\n",
       "</div>"
      ],
      "text/plain": [
       "          accuracy  balanced accuracy        f1  precision  \\\n",
       "majmin                                                       \n",
       "majority  0.247044           0.561006  0.257435   0.148005   \n",
       "minority  0.152629           0.518166  0.212764   0.119143   \n",
       "\n",
       "          false positive rate  false negative rate  selection rate    count  \n",
       "majmin                                                                       \n",
       "majority             0.865734             0.012254        0.881856  69170.0  \n",
       "minority             0.956912             0.006757        0.961100  20540.0  "
      ]
     },
     "execution_count": 75,
     "metadata": {},
     "output_type": "execute_result"
    }
   ],
   "source": [
    "metric_frame.by_group"
   ]
  },
  {
   "cell_type": "code",
   "execution_count": 76,
   "id": "a9ddbe63",
   "metadata": {
    "execution": {
     "iopub.execute_input": "2025-07-30T20:10:10.686249Z",
     "iopub.status.busy": "2025-07-30T20:10:10.685774Z",
     "iopub.status.idle": "2025-07-30T20:10:13.085732Z",
     "shell.execute_reply": "2025-07-30T20:10:13.084980Z"
    },
    "papermill": {
     "duration": 2.428708,
     "end_time": "2025-07-30T20:10:13.087035",
     "exception": false,
     "start_time": "2025-07-30T20:10:10.658327",
     "status": "completed"
    },
    "tags": []
   },
   "outputs": [
    {
     "data": {
      "text/plain": [
       "array([[<Axes: title={'center': 'accuracy'}, xlabel='majmin'>,\n",
       "        <Axes: title={'center': 'balanced accuracy'}, xlabel='majmin'>,\n",
       "        <Axes: title={'center': 'f1'}, xlabel='majmin'>],\n",
       "       [<Axes: title={'center': 'precision'}, xlabel='majmin'>,\n",
       "        <Axes: title={'center': 'false positive rate'}, xlabel='majmin'>,\n",
       "        <Axes: title={'center': 'false negative rate'}, xlabel='majmin'>],\n",
       "       [<Axes: title={'center': 'selection rate'}, xlabel='majmin'>,\n",
       "        <Axes: title={'center': 'count'}, xlabel='majmin'>,\n",
       "        <Axes: xlabel='majmin'>]], dtype=object)"
      ]
     },
     "execution_count": 76,
     "metadata": {},
     "output_type": "execute_result"
    },
    {
     "data": {
      "image/png": "[encoded data removed]",
      "text/plain": [
       "<Figure size 1200x800 with 9 Axes>"
      ]
     },
     "metadata": {},
     "output_type": "display_data"
    }
   ],
   "source": [
    "# In a graphic\n",
    "metric_frame.by_group.plot.bar(\n",
    "    subplots=True,\n",
    "    layout=[3, 3],\n",
    "    legend=False,\n",
    "    figsize=[12, 8],\n",
    "    title=\"Show all metrics\",\n",
    ")"
   ]
  },
  {
   "cell_type": "markdown",
   "id": "f57a0bac",
   "metadata": {
    "papermill": {
     "duration": 0.016457,
     "end_time": "2025-07-30T20:10:13.122563",
     "exception": false,
     "start_time": "2025-07-30T20:10:13.106106",
     "status": "completed"
    },
    "tags": []
   },
   "source": [
    "# Final Output"
   ]
  },
  {
   "cell_type": "code",
   "execution_count": 77,
   "id": "96d280a3",
   "metadata": {
    "execution": {
     "iopub.execute_input": "2025-07-30T20:10:13.168427Z",
     "iopub.status.busy": "2025-07-30T20:10:13.167534Z",
     "iopub.status.idle": "2025-07-30T20:10:13.175336Z",
     "shell.execute_reply": "2025-07-30T20:10:13.174374Z"
    },
    "papermill": {
     "duration": 0.038216,
     "end_time": "2025-07-30T20:10:13.177071",
     "exception": false,
     "start_time": "2025-07-30T20:10:13.138855",
     "status": "completed"
    },
    "tags": []
   },
   "outputs": [
    {
     "data": {
      "text/plain": [
       "4"
      ]
     },
     "execution_count": 77,
     "metadata": {},
     "output_type": "execute_result"
    }
   ],
   "source": [
    "sub_universes = universe_analysis.generate_sub_universes()\n",
    "len(sub_universes)"
   ]
  },
  {
   "cell_type": "code",
   "execution_count": 78,
   "id": "92adf7ba",
   "metadata": {
    "execution": {
     "iopub.execute_input": "2025-07-30T20:10:13.241093Z",
     "iopub.status.busy": "2025-07-30T20:10:13.240631Z",
     "iopub.status.idle": "2025-07-30T20:10:13.247336Z",
     "shell.execute_reply": "2025-07-30T20:10:13.246142Z"
    },
    "papermill": {
     "duration": 0.042347,
     "end_time": "2025-07-30T20:10:13.249021",
     "exception": false,
     "start_time": "2025-07-30T20:10:13.206674",
     "status": "completed"
    },
    "tags": []
   },
   "outputs": [],
   "source": [
    "def filter_sub_universe_data(sub_universe, org_test):\n",
    "    # Keep all rows — no filtering\n",
    "    keep_rows_mask = np.ones(org_test.shape[0], dtype=bool)\n",
    "\n",
    "    print(f\"[INFO] Keeping all rows: {keep_rows_mask.sum()} rows retained.\")\n",
    "    return keep_rows_mask"
   ]
  },
  {
   "cell_type": "code",
   "execution_count": 79,
   "id": "4a759155",
   "metadata": {
    "execution": {
     "iopub.execute_input": "2025-07-30T20:10:13.311375Z",
     "iopub.status.busy": "2025-07-30T20:10:13.310398Z",
     "iopub.status.idle": "2025-07-30T20:10:21.716594Z",
     "shell.execute_reply": "2025-07-30T20:10:21.715850Z"
    },
    "papermill": {
     "duration": 8.439005,
     "end_time": "2025-07-30T20:10:21.717832",
     "exception": false,
     "start_time": "2025-07-30T20:10:13.278827",
     "status": "completed"
    },
    "tags": []
   },
   "outputs": [
    {
     "name": "stdout",
     "output_type": "stream",
     "text": [
      "Stopping execution_time clock.\n",
      "[INFO] Keeping all rows: 89710 rows retained.\n"
     ]
    },
    {
     "name": "stdout",
     "output_type": "stream",
     "text": [
      "[INFO] Keeping all rows: 89710 rows retained.\n"
     ]
    },
    {
     "name": "stdout",
     "output_type": "stream",
     "text": [
      "[INFO] Keeping all rows: 89710 rows retained.\n"
     ]
    },
    {
     "name": "stdout",
     "output_type": "stream",
     "text": [
      "[INFO] Keeping all rows: 89710 rows retained.\n"
     ]
    },
    {
     "data": {
      "text/html": [
       "<div>\n",
       "<style scoped>\n",
       "    .dataframe tbody tr th:only-of-type {\n",
       "        vertical-align: middle;\n",
       "    }\n",
       "\n",
       "    .dataframe tbody tr th {\n",
       "        vertical-align: top;\n",
       "    }\n",
       "\n",
       "    .dataframe thead th {\n",
       "        text-align: right;\n",
       "    }\n",
       "</style>\n",
       "<table border=\"1\" class=\"dataframe\">\n",
       "  <thead>\n",
       "    <tr style=\"text-align: right;\">\n",
       "      <th></th>\n",
       "      <th>run_no</th>\n",
       "      <th>universe_id</th>\n",
       "      <th>universe_settings</th>\n",
       "      <th>execution_time</th>\n",
       "      <th>test_size_n</th>\n",
       "      <th>test_size_frac</th>\n",
       "      <th>fair_main_equalized_odds_difference</th>\n",
       "      <th>fair_main_equalized_odds_ratio</th>\n",
       "      <th>fair_main_demographic_parity_difference</th>\n",
       "      <th>fair_main_demographic_parity_ratio</th>\n",
       "      <th>...</th>\n",
       "      <th>perf_grp_precision_0</th>\n",
       "      <th>perf_grp_precision_1</th>\n",
       "      <th>perf_grp_false positive rate_0</th>\n",
       "      <th>perf_grp_false positive rate_1</th>\n",
       "      <th>perf_grp_false negative rate_0</th>\n",
       "      <th>perf_grp_false negative rate_1</th>\n",
       "      <th>perf_grp_selection rate_0</th>\n",
       "      <th>perf_grp_selection rate_1</th>\n",
       "      <th>perf_grp_count_0</th>\n",
       "      <th>perf_grp_count_1</th>\n",
       "    </tr>\n",
       "  </thead>\n",
       "  <tbody>\n",
       "    <tr>\n",
       "      <th>0</th>\n",
       "      <td>14</td>\n",
       "      <td>b8fc0fe78241071ea616fa9dfa708251</td>\n",
       "      <td>{\"cutoff\": \"quantile_0.1\", \"eval_fairness_grou...</td>\n",
       "      <td>28.160497</td>\n",
       "      <td>89710</td>\n",
       "      <td>1.0</td>\n",
       "      <td>0.091178</td>\n",
       "      <td>0.904716</td>\n",
       "      <td>0.079244</td>\n",
       "      <td>0.917549</td>\n",
       "      <td>...</td>\n",
       "      <td>NaN</td>\n",
       "      <td>NaN</td>\n",
       "      <td>NaN</td>\n",
       "      <td>NaN</td>\n",
       "      <td>NaN</td>\n",
       "      <td>NaN</td>\n",
       "      <td>NaN</td>\n",
       "      <td>NaN</td>\n",
       "      <td>NaN</td>\n",
       "      <td>NaN</td>\n",
       "    </tr>\n",
       "    <tr>\n",
       "      <th>0</th>\n",
       "      <td>14</td>\n",
       "      <td>b8fc0fe78241071ea616fa9dfa708251</td>\n",
       "      <td>{\"cutoff\": \"quantile_0.1\", \"eval_fairness_grou...</td>\n",
       "      <td>28.160497</td>\n",
       "      <td>89710</td>\n",
       "      <td>1.0</td>\n",
       "      <td>0.091178</td>\n",
       "      <td>0.904716</td>\n",
       "      <td>0.079244</td>\n",
       "      <td>0.917549</td>\n",
       "      <td>...</td>\n",
       "      <td>0.119143</td>\n",
       "      <td>0.148005</td>\n",
       "      <td>0.956912</td>\n",
       "      <td>0.865734</td>\n",
       "      <td>0.006757</td>\n",
       "      <td>0.012254</td>\n",
       "      <td>0.961100</td>\n",
       "      <td>0.881856</td>\n",
       "      <td>20540.0</td>\n",
       "      <td>69170.0</td>\n",
       "    </tr>\n",
       "    <tr>\n",
       "      <th>0</th>\n",
       "      <td>14</td>\n",
       "      <td>b8fc0fe78241071ea616fa9dfa708251</td>\n",
       "      <td>{\"cutoff\": \"quantile_0.25\", \"eval_fairness_gro...</td>\n",
       "      <td>28.160497</td>\n",
       "      <td>89710</td>\n",
       "      <td>1.0</td>\n",
       "      <td>0.156748</td>\n",
       "      <td>0.813549</td>\n",
       "      <td>0.136080</td>\n",
       "      <td>0.840827</td>\n",
       "      <td>...</td>\n",
       "      <td>NaN</td>\n",
       "      <td>NaN</td>\n",
       "      <td>NaN</td>\n",
       "      <td>NaN</td>\n",
       "      <td>NaN</td>\n",
       "      <td>NaN</td>\n",
       "      <td>NaN</td>\n",
       "      <td>NaN</td>\n",
       "      <td>NaN</td>\n",
       "      <td>NaN</td>\n",
       "    </tr>\n",
       "    <tr>\n",
       "      <th>0</th>\n",
       "      <td>14</td>\n",
       "      <td>b8fc0fe78241071ea616fa9dfa708251</td>\n",
       "      <td>{\"cutoff\": \"quantile_0.25\", \"eval_fairness_gro...</td>\n",
       "      <td>28.160497</td>\n",
       "      <td>89710</td>\n",
       "      <td>1.0</td>\n",
       "      <td>0.156748</td>\n",
       "      <td>0.813549</td>\n",
       "      <td>0.136080</td>\n",
       "      <td>0.840827</td>\n",
       "      <td>...</td>\n",
       "      <td>0.130011</td>\n",
       "      <td>0.174269</td>\n",
       "      <td>0.840689</td>\n",
       "      <td>0.683941</td>\n",
       "      <td>0.035895</td>\n",
       "      <td>0.051969</td>\n",
       "      <td>0.854917</td>\n",
       "      <td>0.718838</td>\n",
       "      <td>20540.0</td>\n",
       "      <td>69170.0</td>\n",
       "    </tr>\n",
       "  </tbody>\n",
       "</table>\n",
       "<p>4 rows × 50 columns</p>\n",
       "</div>"
      ],
      "text/plain": [
       "  run_no                       universe_id  \\\n",
       "0     14  b8fc0fe78241071ea616fa9dfa708251   \n",
       "0     14  b8fc0fe78241071ea616fa9dfa708251   \n",
       "0     14  b8fc0fe78241071ea616fa9dfa708251   \n",
       "0     14  b8fc0fe78241071ea616fa9dfa708251   \n",
       "\n",
       "                                   universe_settings  execution_time  \\\n",
       "0  {\"cutoff\": \"quantile_0.1\", \"eval_fairness_grou...       28.160497   \n",
       "0  {\"cutoff\": \"quantile_0.1\", \"eval_fairness_grou...       28.160497   \n",
       "0  {\"cutoff\": \"quantile_0.25\", \"eval_fairness_gro...       28.160497   \n",
       "0  {\"cutoff\": \"quantile_0.25\", \"eval_fairness_gro...       28.160497   \n",
       "\n",
       "   test_size_n  test_size_frac  fair_main_equalized_odds_difference  \\\n",
       "0        89710             1.0                             0.091178   \n",
       "0        89710             1.0                             0.091178   \n",
       "0        89710             1.0                             0.156748   \n",
       "0        89710             1.0                             0.156748   \n",
       "\n",
       "   fair_main_equalized_odds_ratio  fair_main_demographic_parity_difference  \\\n",
       "0                        0.904716                                 0.079244   \n",
       "0                        0.904716                                 0.079244   \n",
       "0                        0.813549                                 0.136080   \n",
       "0                        0.813549                                 0.136080   \n",
       "\n",
       "   fair_main_demographic_parity_ratio  ...  perf_grp_precision_0  \\\n",
       "0                            0.917549  ...                   NaN   \n",
       "0                            0.917549  ...              0.119143   \n",
       "0                            0.840827  ...                   NaN   \n",
       "0                            0.840827  ...              0.130011   \n",
       "\n",
       "   perf_grp_precision_1  perf_grp_false positive rate_0  \\\n",
       "0                   NaN                             NaN   \n",
       "0              0.148005                        0.956912   \n",
       "0                   NaN                             NaN   \n",
       "0              0.174269                        0.840689   \n",
       "\n",
       "   perf_grp_false positive rate_1  perf_grp_false negative rate_0  \\\n",
       "0                             NaN                             NaN   \n",
       "0                        0.865734                        0.006757   \n",
       "0                             NaN                             NaN   \n",
       "0                        0.683941                        0.035895   \n",
       "\n",
       "   perf_grp_false negative rate_1  perf_grp_selection rate_0  \\\n",
       "0                             NaN                        NaN   \n",
       "0                        0.012254                   0.961100   \n",
       "0                             NaN                        NaN   \n",
       "0                        0.051969                   0.854917   \n",
       "\n",
       "   perf_grp_selection rate_1  perf_grp_count_0  perf_grp_count_1  \n",
       "0                        NaN               NaN               NaN  \n",
       "0                   0.881856           20540.0           69170.0  \n",
       "0                        NaN               NaN               NaN  \n",
       "0                   0.718838           20540.0           69170.0  \n",
       "\n",
       "[4 rows x 50 columns]"
      ]
     },
     "execution_count": 79,
     "metadata": {},
     "output_type": "execute_result"
    }
   ],
   "source": [
    "final_output = universe_analysis.generate_final_output(\n",
    "    y_pred_prob=probs_test,\n",
    "    y_test=y_true,\n",
    "    org_test=org_test,\n",
    "    filter_data=filter_sub_universe_data,\n",
    "    cp_metrics_df=cp_metrics_df,\n",
    "    save=True,\n",
    ")\n",
    "final_output"
   ]
  },
  {
   "cell_type": "code",
   "execution_count": null,
   "id": "721ff514-cb11-46f8-b6fc-50392f74b5cb",
   "metadata": {
    "papermill": {
     "duration": 0.016981,
     "end_time": "2025-07-30T20:10:21.753346",
     "exception": false,
     "start_time": "2025-07-30T20:10:21.736365",
     "status": "completed"
    },
    "tags": []
   },
   "outputs": [],
   "source": []
  }
 ],
 "metadata": {
  "celltoolbar": "Tags",
  "kernelspec": {
   "display_name": "Python (CMA Fairness)",
   "language": "python",
   "name": "cma_fair_env"
  },
  "language_info": {
   "codemirror_mode": {
    "name": "ipython",
    "version": 3
   },
   "file_extension": ".py",
   "mimetype": "text/x-python",
   "name": "python",
   "nbconvert_exporter": "python",
   "pygments_lexer": "ipython3",
   "version": "3.10.12"
  },
  "papermill": {
   "default_parameters": {},
   "duration": 40.556557,
   "end_time": "2025-07-30T20:10:22.490870",
   "environment_variables": {},
   "exception": null,
   "input_path": "universe_analysis.ipynb",
   "output_path": "output/runs/14/notebooks/m_14-b8fc0fe78241071ea616fa9dfa708251.ipynb",
   "parameters": {
    "output_dir": "output",
    "run_no": "14",
    "seed": "2023",
    "universe": "{\"cutoff\": [\"quantile_0.1\", \"quantile_0.25\"], \"eval_fairness_grouping\": [\"majority-minority\", \"nationality-all\"], \"exclude_features\": \"sex\", \"exclude_subgroups\": \"keep-all\", \"model\": \"penalized_logreg\", \"scale\": \"scale\", \"training_size\": \"25k\", \"training_year\": \"2012_14\"}",
    "universe_id": "b8fc0fe78241071ea616fa9dfa708251"
   },
   "start_time": "2025-07-30T20:09:41.934313",
   "version": "2.6.0"
  }
 },
 "nbformat": 4,
 "nbformat_minor": 5
}