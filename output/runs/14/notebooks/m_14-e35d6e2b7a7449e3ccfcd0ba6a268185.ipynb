{
 "cells": [
  {
   "cell_type": "code",
   "execution_count": 1,
   "id": "f159f837-637b-42ba-96b5-ec9a68c44524",
   "metadata": {
    "execution": {
     "iopub.execute_input": "2025-07-30T21:21:19.417407Z",
     "iopub.status.busy": "2025-07-30T21:21:19.416772Z",
     "iopub.status.idle": "2025-07-30T21:21:19.429788Z",
     "shell.execute_reply": "2025-07-30T21:21:19.428959Z"
    },
    "papermill": {
     "duration": 0.0341,
     "end_time": "2025-07-30T21:21:19.431355",
     "exception": false,
     "start_time": "2025-07-30T21:21:19.397255",
     "status": "completed"
    },
    "tags": []
   },
   "outputs": [
    {
     "name": "stdout",
     "output_type": "stream",
     "text": [
      "/dss/dsshome1/0C/ra93lal2/cma/CMA_Fairness_v2\n"
     ]
    },
    {
     "name": "stderr",
     "output_type": "stream",
     "text": [
      "/dss/dsshome1/0C/ra93lal2/.local/share/virtualenvs/CMA_Fairness_v2-3j10GkSs/lib/python3.10/site-packages/IPython/core/magics/osm.py:393: UserWarning: This is now an optional IPython functionality, using bookmarks requires you to install the `pickleshare` library.\n",
      "  bkms = self.shell.db.get('bookmarks', {})\n",
      "/dss/dsshome1/0C/ra93lal2/.local/share/virtualenvs/CMA_Fairness_v2-3j10GkSs/lib/python3.10/site-packages/IPython/core/magics/osm.py:417: UserWarning: This is now an optional IPython functionality, setting dhist requires you to install the `pickleshare` library.\n",
      "  self.shell.db['dhist'] = compress_dhist(dhist)[-100:]\n"
     ]
    }
   ],
   "source": [
    "%cd ~/cma/CMA_Fairness_v2"
   ]
  },
  {
   "cell_type": "markdown",
   "id": "de2603b9",
   "metadata": {
    "papermill": {
     "duration": 0.017489,
     "end_time": "2025-07-30T21:21:19.467332",
     "exception": false,
     "start_time": "2025-07-30T21:21:19.449843",
     "status": "completed"
    },
    "tags": []
   },
   "source": [
    "The following cell holds the definition of our parameters, these values can be overriden by rendering the with e.g. the following command:\n",
    "\n",
    "papermill -p alpha 0.2 -p ratio 0.3 universe_analysis.ipynb output/test_run.ipynb"
   ]
  },
  {
   "cell_type": "code",
   "execution_count": 2,
   "id": "a80968a0-40bb-4fa9-85ef-2d5eefb01975",
   "metadata": {
    "execution": {
     "iopub.execute_input": "2025-07-30T21:21:19.504434Z",
     "iopub.status.busy": "2025-07-30T21:21:19.503772Z",
     "iopub.status.idle": "2025-07-30T21:21:19.509232Z",
     "shell.execute_reply": "2025-07-30T21:21:19.508269Z"
    },
    "papermill": {
     "duration": 0.025964,
     "end_time": "2025-07-30T21:21:19.510799",
     "exception": false,
     "start_time": "2025-07-30T21:21:19.484835",
     "status": "completed"
    },
    "tags": []
   },
   "outputs": [
    {
     "name": "stdout",
     "output_type": "stream",
     "text": [
      "Current working directory: /dss/dsshome1/0C/ra93lal2/cma/CMA_Fairness_v2\n"
     ]
    }
   ],
   "source": [
    "import os\n",
    "print(\"Current working directory:\", os.getcwd())"
   ]
  },
  {
   "cell_type": "code",
   "execution_count": 3,
   "id": "2dce4c03",
   "metadata": {
    "execution": {
     "iopub.execute_input": "2025-07-30T21:21:19.548613Z",
     "iopub.status.busy": "2025-07-30T21:21:19.547968Z",
     "iopub.status.idle": "2025-07-30T21:21:19.553712Z",
     "shell.execute_reply": "2025-07-30T21:21:19.552914Z"
    },
    "papermill": {
     "duration": 0.026037,
     "end_time": "2025-07-30T21:21:19.555172",
     "exception": false,
     "start_time": "2025-07-30T21:21:19.529135",
     "status": "completed"
    },
    "tags": [
     "parameters"
    ]
   },
   "outputs": [],
   "source": [
    "run_no = 0\n",
    "universe_id = \"test\"\n",
    "universe = {\n",
    "    \"training_size\": \"25k\", # \"25k\", \"5k\", \"1k\"\n",
    "    \"training_year\": \"2014\", # \"2014\", \"2012_14\", \"2010_14\"\n",
    "    \"scale\": \"scale\", # \"scale\", \"do-not-scale\",\n",
    "    #\"stratify_split\": \"target\", # \"none\", \"target\", \"protected-attribute\", \"both\",\n",
    "    \"model\": \"elasticnet\", # \"logreg\", \"penalized_logreg\", \"rf\", \"gbm\", \"elasticnet\"\n",
    "    \"cutoff\": [\"quantile_0.15\", \"quantile_0.30\"],\n",
    "    \"exclude_features\": \"age\", # \"none\", \"nationality\", \"sex\", \"nationality-sex\", \"age\"\n",
    "    \"exclude_subgroups\": \"keep-all\", # \"keep-all\", \"drop-non-german\"\n",
    "    \"eval_fairness_grouping\": [\"majority-minority\", \"nationality-all\"]\n",
    "}\n",
    "\n",
    "output_dir=\"./output\"\n",
    "seed=0"
   ]
  },
  {
   "cell_type": "code",
   "execution_count": 4,
   "id": "6db1b932",
   "metadata": {
    "execution": {
     "iopub.execute_input": "2025-07-30T21:21:19.592738Z",
     "iopub.status.busy": "2025-07-30T21:21:19.592170Z",
     "iopub.status.idle": "2025-07-30T21:21:19.597387Z",
     "shell.execute_reply": "2025-07-30T21:21:19.596561Z"
    },
    "papermill": {
     "duration": 0.025365,
     "end_time": "2025-07-30T21:21:19.598898",
     "exception": false,
     "start_time": "2025-07-30T21:21:19.573533",
     "status": "completed"
    },
    "tags": [
     "injected-parameters"
    ]
   },
   "outputs": [],
   "source": [
    "# Parameters\n",
    "universe_id = \"e35d6e2b7a7449e3ccfcd0ba6a268185\"\n",
    "run_no = \"14\"\n",
    "universe = \"{\\\"cutoff\\\": [\\\"quantile_0.1\\\", \\\"quantile_0.25\\\"], \\\"eval_fairness_grouping\\\": [\\\"majority-minority\\\", \\\"nationality-all\\\"], \\\"exclude_features\\\": \\\"age\\\", \\\"exclude_subgroups\\\": \\\"keep-all\\\", \\\"model\\\": \\\"elasticnet\\\", \\\"scale\\\": \\\"do-not-scale\\\", \\\"training_size\\\": \\\"5k\\\", \\\"training_year\\\": \\\"2010_14\\\"}\"\n",
    "output_dir = \"output\"\n",
    "seed = \"2023\"\n"
   ]
  },
  {
   "cell_type": "code",
   "execution_count": 5,
   "id": "1650acaf",
   "metadata": {
    "execution": {
     "iopub.execute_input": "2025-07-30T21:21:19.636075Z",
     "iopub.status.busy": "2025-07-30T21:21:19.635504Z",
     "iopub.status.idle": "2025-07-30T21:21:19.640084Z",
     "shell.execute_reply": "2025-07-30T21:21:19.639276Z"
    },
    "papermill": {
     "duration": 0.024524,
     "end_time": "2025-07-30T21:21:19.641521",
     "exception": false,
     "start_time": "2025-07-30T21:21:19.616997",
     "status": "completed"
    },
    "tags": []
   },
   "outputs": [],
   "source": [
    "import json\n",
    "# Parse universe into dict if it is passed as a string\n",
    "if isinstance(universe, str):\n",
    "    universe = json.loads(universe)"
   ]
  },
  {
   "cell_type": "code",
   "execution_count": 6,
   "id": "16620c48",
   "metadata": {
    "execution": {
     "iopub.execute_input": "2025-07-30T21:21:19.689107Z",
     "iopub.status.busy": "2025-07-30T21:21:19.688697Z",
     "iopub.status.idle": "2025-07-30T21:21:19.731376Z",
     "shell.execute_reply": "2025-07-30T21:21:19.730576Z"
    },
    "papermill": {
     "duration": 0.072991,
     "end_time": "2025-07-30T21:21:19.732967",
     "exception": false,
     "start_time": "2025-07-30T21:21:19.659976",
     "status": "completed"
    },
    "tags": []
   },
   "outputs": [],
   "source": [
    "# Auto-reload the custom package\n",
    "%load_ext autoreload\n",
    "%autoreload 1\n",
    "%aimport fairness_multiverse"
   ]
  },
  {
   "cell_type": "code",
   "execution_count": 7,
   "id": "01c5c9f3",
   "metadata": {
    "execution": {
     "iopub.execute_input": "2025-07-30T21:21:19.771111Z",
     "iopub.status.busy": "2025-07-30T21:21:19.770548Z",
     "iopub.status.idle": "2025-07-30T21:21:21.616955Z",
     "shell.execute_reply": "2025-07-30T21:21:21.615969Z"
    },
    "papermill": {
     "duration": 1.867,
     "end_time": "2025-07-30T21:21:21.618718",
     "exception": false,
     "start_time": "2025-07-30T21:21:19.751718",
     "status": "completed"
    },
    "tags": []
   },
   "outputs": [],
   "source": [
    "from fairness_multiverse.universe import UniverseAnalysis\n",
    "\n",
    "universe_analysis = UniverseAnalysis(\n",
    "    run_no = run_no,\n",
    "    universe_id = universe_id,\n",
    "    universe = universe,\n",
    "    output_dir=output_dir,\n",
    ")"
   ]
  },
  {
   "cell_type": "code",
   "execution_count": 8,
   "id": "106241f5",
   "metadata": {
    "execution": {
     "iopub.execute_input": "2025-07-30T21:21:21.657101Z",
     "iopub.status.busy": "2025-07-30T21:21:21.656669Z",
     "iopub.status.idle": "2025-07-30T21:21:21.662525Z",
     "shell.execute_reply": "2025-07-30T21:21:21.661714Z"
    },
    "papermill": {
     "duration": 0.026311,
     "end_time": "2025-07-30T21:21:21.663899",
     "exception": false,
     "start_time": "2025-07-30T21:21:21.637588",
     "status": "completed"
    },
    "tags": []
   },
   "outputs": [
    {
     "name": "stdout",
     "output_type": "stream",
     "text": [
      "Using Seed: 2023\n"
     ]
    }
   ],
   "source": [
    "import numpy as np\n",
    "parsed_seed = int(seed)\n",
    "np.random.seed(parsed_seed)\n",
    "print(f\"Using Seed: {parsed_seed}\")"
   ]
  },
  {
   "cell_type": "markdown",
   "id": "e0ebdc57",
   "metadata": {
    "papermill": {
     "duration": 0.018819,
     "end_time": "2025-07-30T21:21:21.701546",
     "exception": false,
     "start_time": "2025-07-30T21:21:21.682727",
     "status": "completed"
    },
    "tags": []
   },
   "source": [
    "# Loading Data"
   ]
  },
  {
   "cell_type": "markdown",
   "id": "681925a3",
   "metadata": {
    "papermill": {
     "duration": 0.018256,
     "end_time": "2025-07-30T21:21:21.738560",
     "exception": false,
     "start_time": "2025-07-30T21:21:21.720304",
     "status": "completed"
    },
    "tags": []
   },
   "source": [
    "Load siab_train, siab_test, siab_calib and/or \n",
    "load siab_train_features, siab_train_labels"
   ]
  },
  {
   "cell_type": "code",
   "execution_count": 9,
   "id": "f0496b8a",
   "metadata": {
    "execution": {
     "iopub.execute_input": "2025-07-30T21:21:21.778977Z",
     "iopub.status.busy": "2025-07-30T21:21:21.778500Z",
     "iopub.status.idle": "2025-07-30T21:21:33.773464Z",
     "shell.execute_reply": "2025-07-30T21:21:33.772613Z"
    },
    "papermill": {
     "duration": 12.016822,
     "end_time": "2025-07-30T21:21:33.774764",
     "exception": false,
     "start_time": "2025-07-30T21:21:21.757942",
     "status": "completed"
    },
    "tags": []
   },
   "outputs": [
    {
     "name": "stdout",
     "output_type": "stream",
     "text": [
      "Loading SIAB data from cache: data/siab_cached.csv.gz\n"
     ]
    },
    {
     "name": "stdout",
     "output_type": "stream",
     "text": [
      "(643690, 164)\n"
     ]
    }
   ],
   "source": [
    "from pathlib import Path\n",
    "import pandas as pd\n",
    "\n",
    "# File paths\n",
    "raw_file = Path(\"data/raw/siab.csv\")\n",
    "cache_file = Path(\"data/siab_cached.csv.gz\")\n",
    "\n",
    "# Ensure cache directory exists\n",
    "cache_file.parent.mkdir(parents=True, exist_ok=True)\n",
    "\n",
    "# Load with simple caching\n",
    "if cache_file.exists():\n",
    "    print(f\"Loading SIAB data from cache: {cache_file}\")\n",
    "    siab = pd.read_csv(cache_file, compression='gzip')\n",
    "else:\n",
    "    print(f\"Cache not found. Reading raw SIAB data: {raw_file}\")\n",
    "    siab = pd.read_csv(raw_file)\n",
    "    siab.to_csv(cache_file, index=False, compression='gzip')\n",
    "    print(f\"Cached SIAB data to: {cache_file}\")\n",
    "\n",
    "# Now use `siab` DataFrame as needed\n",
    "print(siab.shape)"
   ]
  },
  {
   "cell_type": "code",
   "execution_count": 10,
   "id": "db0ca512-5f53-4dba-abdb-a2888bca41ba",
   "metadata": {
    "execution": {
     "iopub.execute_input": "2025-07-30T21:21:33.799139Z",
     "iopub.status.busy": "2025-07-30T21:21:33.798583Z",
     "iopub.status.idle": "2025-07-30T21:21:33.802986Z",
     "shell.execute_reply": "2025-07-30T21:21:33.802227Z"
    },
    "papermill": {
     "duration": 0.016667,
     "end_time": "2025-07-30T21:21:33.804162",
     "exception": false,
     "start_time": "2025-07-30T21:21:33.787495",
     "status": "completed"
    },
    "tags": []
   },
   "outputs": [],
   "source": [
    "#siab"
   ]
  },
  {
   "cell_type": "code",
   "execution_count": 11,
   "id": "a0edb063",
   "metadata": {
    "execution": {
     "iopub.execute_input": "2025-07-30T21:21:33.841406Z",
     "iopub.status.busy": "2025-07-30T21:21:33.840939Z",
     "iopub.status.idle": "2025-07-30T21:21:33.846248Z",
     "shell.execute_reply": "2025-07-30T21:21:33.845249Z"
    },
    "papermill": {
     "duration": 0.034052,
     "end_time": "2025-07-30T21:21:33.848777",
     "exception": false,
     "start_time": "2025-07-30T21:21:33.814725",
     "status": "completed"
    },
    "tags": []
   },
   "outputs": [],
   "source": [
    "#import pandas as pd\n",
    "#\n",
    "#X_train = pd.read_csv(\"./data/X_train.csv\")\n",
    "#y_train = pd.read_csv(\"./data/y_train.csv\")"
   ]
  },
  {
   "cell_type": "code",
   "execution_count": 12,
   "id": "63d08085",
   "metadata": {
    "execution": {
     "iopub.execute_input": "2025-07-30T21:21:33.906193Z",
     "iopub.status.busy": "2025-07-30T21:21:33.905696Z",
     "iopub.status.idle": "2025-07-30T21:21:33.910143Z",
     "shell.execute_reply": "2025-07-30T21:21:33.909296Z"
    },
    "papermill": {
     "duration": 0.034276,
     "end_time": "2025-07-30T21:21:33.911441",
     "exception": false,
     "start_time": "2025-07-30T21:21:33.877165",
     "status": "completed"
    },
    "tags": []
   },
   "outputs": [],
   "source": [
    "#X_test = pd.read_csv(\"./data/X_test.csv\")\n",
    "#y_true = pd.read_csv(\"./data/y_test.csv\")"
   ]
  },
  {
   "cell_type": "code",
   "execution_count": 13,
   "id": "98a8d0fa-1d3d-4ed8-bb2c-281470e24add",
   "metadata": {
    "execution": {
     "iopub.execute_input": "2025-07-30T21:21:33.933663Z",
     "iopub.status.busy": "2025-07-30T21:21:33.933269Z",
     "iopub.status.idle": "2025-07-30T21:21:33.937266Z",
     "shell.execute_reply": "2025-07-30T21:21:33.936592Z"
    },
    "papermill": {
     "duration": 0.016138,
     "end_time": "2025-07-30T21:21:33.938532",
     "exception": false,
     "start_time": "2025-07-30T21:21:33.922394",
     "status": "completed"
    },
    "tags": []
   },
   "outputs": [],
   "source": [
    "# Calibration data for conformal\n",
    "#X_calib = pd.read_csv(\"./data/X_calib.csv\")\n",
    "#y_calib = pd.read_csv(\"./data/y_calib.csv\")"
   ]
  },
  {
   "cell_type": "markdown",
   "id": "997051c5-15bd-4b69-9786-c3001a3ce484",
   "metadata": {
    "papermill": {
     "duration": 0.010191,
     "end_time": "2025-07-30T21:21:33.959582",
     "exception": false,
     "start_time": "2025-07-30T21:21:33.949391",
     "status": "completed"
    },
    "tags": []
   },
   "source": [
    "# Splitting Data and Setting Training Data Size"
   ]
  },
  {
   "cell_type": "code",
   "execution_count": 14,
   "id": "e993b61f-042d-41a6-8c81-f55681f86335",
   "metadata": {
    "execution": {
     "iopub.execute_input": "2025-07-30T21:21:33.985546Z",
     "iopub.status.busy": "2025-07-30T21:21:33.985227Z",
     "iopub.status.idle": "2025-07-30T21:21:33.994543Z",
     "shell.execute_reply": "2025-07-30T21:21:33.993835Z"
    },
    "papermill": {
     "duration": 0.021877,
     "end_time": "2025-07-30T21:21:33.995827",
     "exception": false,
     "start_time": "2025-07-30T21:21:33.973950",
     "status": "completed"
    },
    "tags": []
   },
   "outputs": [],
   "source": [
    "def sample_by_year_size(df,\n",
    "                        training_year: str,\n",
    "                        training_size: str,\n",
    "                        random_state: int = 42):\n",
    "    # --- parse training_year into a list of int years ---\n",
    "    if \"_\" in training_year:\n",
    "        start_str, end_str = training_year.split(\"_\", 1)\n",
    "        start = int(start_str)\n",
    "        end   = int(end_str) if len(end_str) == 4 else (int(end_str) + (start // 100)*100)\n",
    "        years = list(range(start, end + 1))\n",
    "    else:\n",
    "        years = [int(training_year)]\n",
    "\n",
    "    df = df[df[\"year\"].isin(years)].reset_index(drop=True)\n",
    "\n",
    "    # --- map training_size to total number of samples ---\n",
    "    total_map = {\"25k\": 25_000, \"5k\": 5_000, \"1k\": 1_000}\n",
    "    if training_size not in total_map:\n",
    "        return df  # e.g. \"all\"\n",
    "\n",
    "    total_samples = total_map[training_size]\n",
    "    n_years       = len(years)\n",
    "    base          = total_samples // n_years\n",
    "    remainder     = total_samples % n_years\n",
    "\n",
    "    # --- build a dict: year -> how many to sample ---\n",
    "    # give +1 to the first `remainder` years in ascending order\n",
    "    quotas = {\n",
    "        year: base + (1 if idx < remainder else 0)\n",
    "        for idx, year in enumerate(sorted(years))\n",
    "    }\n",
    "\n",
    "    # --- sample per‐year according to the quota dict ---\n",
    "    sampled = (\n",
    "        df\n",
    "        .groupby(\"year\", group_keys=False)\n",
    "        .apply(lambda grp: grp.sample(\n",
    "            n=min(len(grp), quotas[grp.name]),\n",
    "            random_state=random_state))\n",
    "        .reset_index(drop=True)\n",
    "    )\n",
    "\n",
    "    return sampled"
   ]
  },
  {
   "cell_type": "code",
   "execution_count": 15,
   "id": "c0ccd338-0e02-41f3-a09d-f56f9266e3fb",
   "metadata": {
    "execution": {
     "iopub.execute_input": "2025-07-30T21:21:34.018513Z",
     "iopub.status.busy": "2025-07-30T21:21:34.018024Z",
     "iopub.status.idle": "2025-07-30T21:21:34.022240Z",
     "shell.execute_reply": "2025-07-30T21:21:34.021568Z"
    },
    "papermill": {
     "duration": 0.016455,
     "end_time": "2025-07-30T21:21:34.023492",
     "exception": false,
     "start_time": "2025-07-30T21:21:34.007037",
     "status": "completed"
    },
    "tags": []
   },
   "outputs": [],
   "source": [
    "#universe[\"training_size\"]"
   ]
  },
  {
   "cell_type": "code",
   "execution_count": 16,
   "id": "ca707fd7-8047-4acd-bfa5-66248fbbf8e6",
   "metadata": {
    "execution": {
     "iopub.execute_input": "2025-07-30T21:21:34.051513Z",
     "iopub.status.busy": "2025-07-30T21:21:34.051004Z",
     "iopub.status.idle": "2025-07-30T21:21:34.055389Z",
     "shell.execute_reply": "2025-07-30T21:21:34.054710Z"
    },
    "papermill": {
     "duration": 0.017135,
     "end_time": "2025-07-30T21:21:34.056602",
     "exception": false,
     "start_time": "2025-07-30T21:21:34.039467",
     "status": "completed"
    },
    "tags": []
   },
   "outputs": [],
   "source": [
    "#universe[\"training_year\"]"
   ]
  },
  {
   "cell_type": "code",
   "execution_count": 17,
   "id": "aea9c6ef-6f46-42c8-85eb-5a62025c1508",
   "metadata": {
    "execution": {
     "iopub.execute_input": "2025-07-30T21:21:34.079835Z",
     "iopub.status.busy": "2025-07-30T21:21:34.079380Z",
     "iopub.status.idle": "2025-07-30T21:21:35.025304Z",
     "shell.execute_reply": "2025-07-30T21:21:35.024259Z"
    },
    "papermill": {
     "duration": 0.959021,
     "end_time": "2025-07-30T21:21:35.026665",
     "exception": false,
     "start_time": "2025-07-30T21:21:34.067644",
     "status": "completed"
    },
    "tags": []
   },
   "outputs": [],
   "source": [
    "siab_train = sample_by_year_size(siab,\n",
    "                               training_year=universe[\"training_year\"],\n",
    "                               training_size=universe[\"training_size\"])"
   ]
  },
  {
   "cell_type": "code",
   "execution_count": 18,
   "id": "8d3afb32-789d-442c-8d5d-9f5aa8dd2eed",
   "metadata": {
    "execution": {
     "iopub.execute_input": "2025-07-30T21:21:35.053735Z",
     "iopub.status.busy": "2025-07-30T21:21:35.053191Z",
     "iopub.status.idle": "2025-07-30T21:21:35.056985Z",
     "shell.execute_reply": "2025-07-30T21:21:35.056218Z"
    },
    "papermill": {
     "duration": 0.016479,
     "end_time": "2025-07-30T21:21:35.058312",
     "exception": false,
     "start_time": "2025-07-30T21:21:35.041833",
     "status": "completed"
    },
    "tags": []
   },
   "outputs": [],
   "source": [
    "#siab_train.shape"
   ]
  },
  {
   "cell_type": "code",
   "execution_count": 19,
   "id": "d582db68-1a4c-47fb-84fc-08518dc1975a",
   "metadata": {
    "execution": {
     "iopub.execute_input": "2025-07-30T21:21:35.082949Z",
     "iopub.status.busy": "2025-07-30T21:21:35.082489Z",
     "iopub.status.idle": "2025-07-30T21:21:35.087414Z",
     "shell.execute_reply": "2025-07-30T21:21:35.086471Z"
    },
    "papermill": {
     "duration": 0.019273,
     "end_time": "2025-07-30T21:21:35.088832",
     "exception": false,
     "start_time": "2025-07-30T21:21:35.069559",
     "status": "completed"
    },
    "tags": []
   },
   "outputs": [],
   "source": [
    "#display(siab_train.groupby(\"year\").size())"
   ]
  },
  {
   "cell_type": "code",
   "execution_count": 20,
   "id": "a561edb4-d032-42cb-8256-22eac1111c64",
   "metadata": {
    "execution": {
     "iopub.execute_input": "2025-07-30T21:21:35.130811Z",
     "iopub.status.busy": "2025-07-30T21:21:35.130337Z",
     "iopub.status.idle": "2025-07-30T21:21:35.389302Z",
     "shell.execute_reply": "2025-07-30T21:21:35.388008Z"
    },
    "papermill": {
     "duration": 0.283838,
     "end_time": "2025-07-30T21:21:35.391469",
     "exception": false,
     "start_time": "2025-07-30T21:21:35.107631",
     "status": "completed"
    },
    "tags": []
   },
   "outputs": [],
   "source": [
    "#siab_train = siab_s[siab_s.year < 2015]\n",
    "siab_calib = siab[siab.year == 2015]\n",
    "siab_test = siab[siab.year == 2016]"
   ]
  },
  {
   "cell_type": "code",
   "execution_count": 21,
   "id": "472de16f-c3db-4916-846b-1f0de9cf1746",
   "metadata": {
    "execution": {
     "iopub.execute_input": "2025-07-30T21:21:35.438665Z",
     "iopub.status.busy": "2025-07-30T21:21:35.437870Z",
     "iopub.status.idle": "2025-07-30T21:21:35.446364Z",
     "shell.execute_reply": "2025-07-30T21:21:35.445497Z"
    },
    "papermill": {
     "duration": 0.030924,
     "end_time": "2025-07-30T21:21:35.448166",
     "exception": false,
     "start_time": "2025-07-30T21:21:35.417242",
     "status": "completed"
    },
    "tags": []
   },
   "outputs": [],
   "source": [
    "X_train = siab_train.iloc[:,4:164]\n",
    "y_train = siab_train.iloc[:, [3]]"
   ]
  },
  {
   "cell_type": "code",
   "execution_count": 22,
   "id": "828c96af-f43a-4ed6-ba47-8ac73a47d56c",
   "metadata": {
    "execution": {
     "iopub.execute_input": "2025-07-30T21:21:35.495127Z",
     "iopub.status.busy": "2025-07-30T21:21:35.494488Z",
     "iopub.status.idle": "2025-07-30T21:21:35.543281Z",
     "shell.execute_reply": "2025-07-30T21:21:35.542249Z"
    },
    "papermill": {
     "duration": 0.073612,
     "end_time": "2025-07-30T21:21:35.544889",
     "exception": false,
     "start_time": "2025-07-30T21:21:35.471277",
     "status": "completed"
    },
    "tags": []
   },
   "outputs": [],
   "source": [
    "X_calib = siab_calib.iloc[:,4:164]\n",
    "y_calib = siab_calib.iloc[:, [3]]"
   ]
  },
  {
   "cell_type": "code",
   "execution_count": 23,
   "id": "c34be9c3-6bd6-476e-acd3-845840e303be",
   "metadata": {
    "execution": {
     "iopub.execute_input": "2025-07-30T21:21:35.587976Z",
     "iopub.status.busy": "2025-07-30T21:21:35.587109Z",
     "iopub.status.idle": "2025-07-30T21:21:35.638005Z",
     "shell.execute_reply": "2025-07-30T21:21:35.636981Z"
    },
    "papermill": {
     "duration": 0.074429,
     "end_time": "2025-07-30T21:21:35.640172",
     "exception": false,
     "start_time": "2025-07-30T21:21:35.565743",
     "status": "completed"
    },
    "tags": []
   },
   "outputs": [],
   "source": [
    "X_test = siab_test.iloc[:,4:164]\n",
    "y_true = siab_test.iloc[:, [3]]"
   ]
  },
  {
   "cell_type": "markdown",
   "id": "9901737e-04df-44f0-9100-f5ad144ed040",
   "metadata": {
    "papermill": {
     "duration": 0.02199,
     "end_time": "2025-07-30T21:21:35.685367",
     "exception": false,
     "start_time": "2025-07-30T21:21:35.663377",
     "status": "completed"
    },
    "tags": []
   },
   "source": [
    "# Splitting Data and Setting Training Data Size OLD VERSION"
   ]
  },
  {
   "cell_type": "code",
   "execution_count": 24,
   "id": "acbc8f7d-8fc8-4e86-8c59-5dcb0f58384b",
   "metadata": {
    "execution": {
     "iopub.execute_input": "2025-07-30T21:21:35.731264Z",
     "iopub.status.busy": "2025-07-30T21:21:35.730662Z",
     "iopub.status.idle": "2025-07-30T21:21:35.736668Z",
     "shell.execute_reply": "2025-07-30T21:21:35.735681Z"
    },
    "papermill": {
     "duration": 0.030904,
     "end_time": "2025-07-30T21:21:35.738279",
     "exception": false,
     "start_time": "2025-07-30T21:21:35.707375",
     "status": "completed"
    },
    "tags": []
   },
   "outputs": [],
   "source": [
    "#def sample_by_year(df, training_size, random_state=42):\n",
    "#    if training_size == \"2014\":\n",
    "#        return df[df[\"year\"] == 2014].reset_index(drop=True)\n",
    "#    \n",
    "#    size_map = {\n",
    "#        \"25k\": 5000,\n",
    "#        \"5k\": 1000,\n",
    "#        \"1k\": 200\n",
    "#    }\n",
    "#\n",
    "#    if training_size not in size_map:\n",
    "#        return df.reset_index(drop=True)  # use all data\n",
    "#\n",
    "#    n_per_year = size_map[training_size]\n",
    "#    grouped = df.groupby(\"year\")\n",
    "#    sampled = grouped.apply(lambda x: x.sample(n=min(n_per_year, len(x)), random_state=random_state))\n",
    "#    return sampled.reset_index(drop=True)"
   ]
  },
  {
   "cell_type": "code",
   "execution_count": 25,
   "id": "6d931f52-beaf-43ff-9e78-9d44a448d54e",
   "metadata": {
    "execution": {
     "iopub.execute_input": "2025-07-30T21:21:35.785437Z",
     "iopub.status.busy": "2025-07-30T21:21:35.784775Z",
     "iopub.status.idle": "2025-07-30T21:21:35.789866Z",
     "shell.execute_reply": "2025-07-30T21:21:35.788979Z"
    },
    "papermill": {
     "duration": 0.030253,
     "end_time": "2025-07-30T21:21:35.791531",
     "exception": false,
     "start_time": "2025-07-30T21:21:35.761278",
     "status": "completed"
    },
    "tags": []
   },
   "outputs": [],
   "source": [
    "#siab_s = sample_by_year(siab, universe[\"training_size\"])"
   ]
  },
  {
   "cell_type": "code",
   "execution_count": 26,
   "id": "5db0a40e-a4e2-4920-be85-b12ae061d70d",
   "metadata": {
    "execution": {
     "iopub.execute_input": "2025-07-30T21:21:35.832307Z",
     "iopub.status.busy": "2025-07-30T21:21:35.831631Z",
     "iopub.status.idle": "2025-07-30T21:21:35.837161Z",
     "shell.execute_reply": "2025-07-30T21:21:35.836221Z"
    },
    "papermill": {
     "duration": 0.029485,
     "end_time": "2025-07-30T21:21:35.841115",
     "exception": false,
     "start_time": "2025-07-30T21:21:35.811630",
     "status": "completed"
    },
    "tags": []
   },
   "outputs": [],
   "source": [
    "#display(siab_s.groupby(\"year\").size())"
   ]
  },
  {
   "cell_type": "code",
   "execution_count": 27,
   "id": "e6c733c5",
   "metadata": {
    "execution": {
     "iopub.execute_input": "2025-07-30T21:21:35.887182Z",
     "iopub.status.busy": "2025-07-30T21:21:35.886710Z",
     "iopub.status.idle": "2025-07-30T21:21:35.984937Z",
     "shell.execute_reply": "2025-07-30T21:21:35.983811Z"
    },
    "papermill": {
     "duration": 0.123265,
     "end_time": "2025-07-30T21:21:35.986744",
     "exception": false,
     "start_time": "2025-07-30T21:21:35.863479",
     "status": "completed"
    },
    "tags": []
   },
   "outputs": [],
   "source": [
    "# Auxiliary data needed downstream in the pipeline\n",
    "\n",
    "org_train = X_train.copy()\n",
    "org_test = X_test.copy()\n",
    "org_calib = X_calib.copy()"
   ]
  },
  {
   "cell_type": "code",
   "execution_count": 28,
   "id": "1466abac-c6da-4492-a62f-4240ae3783af",
   "metadata": {
    "execution": {
     "iopub.execute_input": "2025-07-30T21:21:36.014206Z",
     "iopub.status.busy": "2025-07-30T21:21:36.013837Z",
     "iopub.status.idle": "2025-07-30T21:21:36.019696Z",
     "shell.execute_reply": "2025-07-30T21:21:36.018850Z"
    },
    "papermill": {
     "duration": 0.019347,
     "end_time": "2025-07-30T21:21:36.021457",
     "exception": false,
     "start_time": "2025-07-30T21:21:36.002110",
     "status": "completed"
    },
    "tags": []
   },
   "outputs": [],
   "source": [
    "# put in other script?\n",
    "# Group sizes\n",
    "\n",
    "#def calculate_percentages(df, df_name):\n",
    "#    total_entries = len(df)\n",
    "#\n",
    "#    female_pct = (df['frau1'] == 1).mean() * 100\n",
    "#    non_german_pct = ((df['maxdeutsch1'] == 0) & (df['maxdeutsch.Missing.'] == 0)).mean() * 100\n",
    "#    non_german_male_pct = ((df['frau1'] == 0) & (df['maxdeutsch1'] == 0) & (df['maxdeutsch.Missing.'] == 0)).mean() * 100\n",
    "#    non_german_female_pct = ((df['frau1'] == 1) & (df['maxdeutsch1'] == 0) & (df['maxdeutsch.Missing.'] == 0)).mean() * 100\n",
    "#\n",
    "#    print(f\"--- {df_name} ---\")\n",
    "#    print(f\"Female: {female_pct:.2f}%\")\n",
    "#    print(f\"Non-German: {non_german_pct:.2f}%\")\n",
    "#    print(f\"Non-German Male: {non_german_male_pct:.2f}%\")\n",
    "#    print(f\"Non-German Female: {non_german_female_pct:.2f}%\\n\")\n",
    "#\n",
    "## Calculate for each DataFrame\n",
    "#calculate_percentages(siab_calib, \"siab_calib\")\n",
    "#calculate_percentages(siab_test, \"siab_test\")\n",
    "#calculate_percentages(siab_train, \"siab_train\")"
   ]
  },
  {
   "cell_type": "markdown",
   "id": "0a4a1b33",
   "metadata": {
    "papermill": {
     "duration": 0.020484,
     "end_time": "2025-07-30T21:21:36.062196",
     "exception": false,
     "start_time": "2025-07-30T21:21:36.041712",
     "status": "completed"
    },
    "tags": []
   },
   "source": [
    "# Preprocessing Data"
   ]
  },
  {
   "cell_type": "code",
   "execution_count": 29,
   "id": "ca879031",
   "metadata": {
    "execution": {
     "iopub.execute_input": "2025-07-30T21:21:36.106013Z",
     "iopub.status.busy": "2025-07-30T21:21:36.105586Z",
     "iopub.status.idle": "2025-07-30T21:21:36.111489Z",
     "shell.execute_reply": "2025-07-30T21:21:36.110582Z"
    },
    "papermill": {
     "duration": 0.029529,
     "end_time": "2025-07-30T21:21:36.113351",
     "exception": false,
     "start_time": "2025-07-30T21:21:36.083822",
     "status": "completed"
    },
    "tags": []
   },
   "outputs": [],
   "source": [
    "# EXCLUDE PROTECTED FEATURES\n",
    "# ----------------------\n",
    "# \"exclude_features\": \"none\", # \"nationality\", \"sex\", \"nationality-sex\"\n",
    "\n",
    "excluded_features = universe[\"exclude_features\"].split(\"-\") # split, e.g.: \"nationality-sex\" -> [\"nationality\", \"sex\"]\n",
    "excluded_features_dictionary = {\n",
    "    \"nationality\": [\"maxdeutsch1\", \"maxdeutsch.Missing.\"],\n",
    "    \"sex\": [\"frau1\"],\n",
    "    \"age\": [\"age\"],\n",
    "}\n"
   ]
  },
  {
   "cell_type": "code",
   "execution_count": 30,
   "id": "b745ac60",
   "metadata": {
    "execution": {
     "iopub.execute_input": "2025-07-30T21:21:36.156810Z",
     "iopub.status.busy": "2025-07-30T21:21:36.155914Z",
     "iopub.status.idle": "2025-07-30T21:21:36.161727Z",
     "shell.execute_reply": "2025-07-30T21:21:36.160842Z"
    },
    "papermill": {
     "duration": 0.029083,
     "end_time": "2025-07-30T21:21:36.163442",
     "exception": false,
     "start_time": "2025-07-30T21:21:36.134359",
     "status": "completed"
    },
    "tags": []
   },
   "outputs": [],
   "source": [
    "# Code nice names to column names\n",
    "\n",
    "excluded_features_columns = [\n",
    "    excluded_features_dictionary[f] for f in excluded_features if len(f) > 0 and f != \"none\"\n",
    "]"
   ]
  },
  {
   "cell_type": "code",
   "execution_count": 31,
   "id": "f84f73a2",
   "metadata": {
    "execution": {
     "iopub.execute_input": "2025-07-30T21:21:36.207599Z",
     "iopub.status.busy": "2025-07-30T21:21:36.207110Z",
     "iopub.status.idle": "2025-07-30T21:21:36.213373Z",
     "shell.execute_reply": "2025-07-30T21:21:36.212544Z"
    },
    "papermill": {
     "duration": 0.029778,
     "end_time": "2025-07-30T21:21:36.215012",
     "exception": false,
     "start_time": "2025-07-30T21:21:36.185234",
     "status": "completed"
    },
    "tags": []
   },
   "outputs": [],
   "source": [
    "from utils import flatten_once\n",
    "\n",
    "excluded_features_columns = flatten_once(excluded_features_columns)"
   ]
  },
  {
   "cell_type": "code",
   "execution_count": 32,
   "id": "884dea22",
   "metadata": {
    "execution": {
     "iopub.execute_input": "2025-07-30T21:21:36.260091Z",
     "iopub.status.busy": "2025-07-30T21:21:36.259417Z",
     "iopub.status.idle": "2025-07-30T21:21:36.268729Z",
     "shell.execute_reply": "2025-07-30T21:21:36.267673Z"
    },
    "papermill": {
     "duration": 0.032522,
     "end_time": "2025-07-30T21:21:36.270209",
     "exception": false,
     "start_time": "2025-07-30T21:21:36.237687",
     "status": "completed"
    },
    "tags": []
   },
   "outputs": [
    {
     "name": "stdout",
     "output_type": "stream",
     "text": [
      "Dropping features: ['age']\n"
     ]
    }
   ],
   "source": [
    "if len(excluded_features_columns) > 0:\n",
    "    print(f\"Dropping features: {excluded_features_columns}\")\n",
    "    X_train.drop(excluded_features_columns, axis=1, inplace=True)"
   ]
  },
  {
   "cell_type": "code",
   "execution_count": 33,
   "id": "95ab8b16",
   "metadata": {
    "execution": {
     "iopub.execute_input": "2025-07-30T21:21:36.318313Z",
     "iopub.status.busy": "2025-07-30T21:21:36.317390Z",
     "iopub.status.idle": "2025-07-30T21:21:36.371851Z",
     "shell.execute_reply": "2025-07-30T21:21:36.370728Z"
    },
    "papermill": {
     "duration": 0.07953,
     "end_time": "2025-07-30T21:21:36.374702",
     "exception": false,
     "start_time": "2025-07-30T21:21:36.295172",
     "status": "completed"
    },
    "tags": []
   },
   "outputs": [
    {
     "name": "stdout",
     "output_type": "stream",
     "text": [
      "Dropping features: ['age']\n"
     ]
    }
   ],
   "source": [
    "if len(excluded_features_columns) > 0:\n",
    "    print(f\"Dropping features: {excluded_features_columns}\")\n",
    "    X_test.drop(excluded_features_columns, axis=1, inplace=True)"
   ]
  },
  {
   "cell_type": "code",
   "execution_count": 34,
   "id": "1853aaf5-fb9f-46cb-a2b5-8ea4ae2237e4",
   "metadata": {
    "execution": {
     "iopub.execute_input": "2025-07-30T21:21:36.426153Z",
     "iopub.status.busy": "2025-07-30T21:21:36.425505Z",
     "iopub.status.idle": "2025-07-30T21:21:36.475872Z",
     "shell.execute_reply": "2025-07-30T21:21:36.474896Z"
    },
    "papermill": {
     "duration": 0.079233,
     "end_time": "2025-07-30T21:21:36.477452",
     "exception": false,
     "start_time": "2025-07-30T21:21:36.398219",
     "status": "completed"
    },
    "tags": []
   },
   "outputs": [
    {
     "name": "stdout",
     "output_type": "stream",
     "text": [
      "Dropping features: ['age']\n"
     ]
    }
   ],
   "source": [
    "if len(excluded_features_columns) > 0:\n",
    "    print(f\"Dropping features: {excluded_features_columns}\")\n",
    "    X_calib.drop(excluded_features_columns, axis=1, inplace=True)"
   ]
  },
  {
   "cell_type": "code",
   "execution_count": 35,
   "id": "6727d079-03e5-481e-9d38-292a90b7a0a8",
   "metadata": {
    "execution": {
     "iopub.execute_input": "2025-07-30T21:21:36.521929Z",
     "iopub.status.busy": "2025-07-30T21:21:36.521346Z",
     "iopub.status.idle": "2025-07-30T21:21:36.526475Z",
     "shell.execute_reply": "2025-07-30T21:21:36.525459Z"
    },
    "papermill": {
     "duration": 0.029004,
     "end_time": "2025-07-30T21:21:36.527905",
     "exception": false,
     "start_time": "2025-07-30T21:21:36.498901",
     "status": "completed"
    },
    "tags": []
   },
   "outputs": [],
   "source": [
    "# SPLIT & STRATIFY DATA\n",
    "# ----------------------"
   ]
  },
  {
   "cell_type": "code",
   "execution_count": 36,
   "id": "76c4dc6d",
   "metadata": {
    "execution": {
     "iopub.execute_input": "2025-07-30T21:21:36.571342Z",
     "iopub.status.busy": "2025-07-30T21:21:36.570868Z",
     "iopub.status.idle": "2025-07-30T21:21:36.576391Z",
     "shell.execute_reply": "2025-07-30T21:21:36.575440Z"
    },
    "papermill": {
     "duration": 0.028477,
     "end_time": "2025-07-30T21:21:36.577954",
     "exception": false,
     "start_time": "2025-07-30T21:21:36.549477",
     "status": "completed"
    },
    "tags": []
   },
   "outputs": [],
   "source": [
    "# EXCLUDE CERTAIN SUBGROUPS\n",
    "# ----------------------\n",
    "\n",
    "mode = universe.get(\"exclude_subgroups\", \"keep-all\") \n",
    "# Fetches the exclude_subgroups setting from the universe dict.\n",
    "# Defaults to \"keep-all\" if the key is missing."
   ]
  },
  {
   "cell_type": "code",
   "execution_count": 37,
   "id": "21994072",
   "metadata": {
    "execution": {
     "iopub.execute_input": "2025-07-30T21:21:36.621110Z",
     "iopub.status.busy": "2025-07-30T21:21:36.620576Z",
     "iopub.status.idle": "2025-07-30T21:21:36.627416Z",
     "shell.execute_reply": "2025-07-30T21:21:36.626524Z"
    },
    "papermill": {
     "duration": 0.030039,
     "end_time": "2025-07-30T21:21:36.629291",
     "exception": false,
     "start_time": "2025-07-30T21:21:36.599252",
     "status": "completed"
    },
    "tags": []
   },
   "outputs": [],
   "source": [
    "if mode == \"keep-all\":\n",
    "    keep_mask = pd.Series(True, index=org_train.index)\n",
    "\n",
    "# org_train contains the original feature columns from features_org (in Simson)\n",
    "# features_org contains unprocessed features, for me X_train at beginning ???\n",
    "# For keep-all, creates a boolean Series (keep_mask) of all True, so no rows are removed.\n",
    "\n",
    "elif mode == \"drop-non-german\":\n",
    "    keep_mask = org_train[\"maxdeutsch1\"] == 1 # ??? what about missing values?\n",
    "\n",
    "else:\n",
    "    raise ValueError(f\"Unsupported mode for exclude_subgroups: {mode}\")\n"
   ]
  },
  {
   "cell_type": "code",
   "execution_count": 38,
   "id": "71651440",
   "metadata": {
    "execution": {
     "iopub.execute_input": "2025-07-30T21:21:36.673402Z",
     "iopub.status.busy": "2025-07-30T21:21:36.672645Z",
     "iopub.status.idle": "2025-07-30T21:21:36.678943Z",
     "shell.execute_reply": "2025-07-30T21:21:36.678042Z"
    },
    "papermill": {
     "duration": 0.029723,
     "end_time": "2025-07-30T21:21:36.680597",
     "exception": false,
     "start_time": "2025-07-30T21:21:36.650874",
     "status": "completed"
    },
    "tags": []
   },
   "outputs": [],
   "source": [
    "n_drop = (~keep_mask).sum() # Calculates how many rows are set to be dropped\n",
    "if n_drop > 0:\n",
    "    pct = n_drop / len(keep_mask) * 100\n",
    "    print(f\"Dropping {n_drop} rows ({pct:.2f}%) where mode='{mode}'\")"
   ]
  },
  {
   "cell_type": "code",
   "execution_count": 39,
   "id": "5fb8eee5",
   "metadata": {
    "execution": {
     "iopub.execute_input": "2025-07-30T21:21:36.730881Z",
     "iopub.status.busy": "2025-07-30T21:21:36.730269Z",
     "iopub.status.idle": "2025-07-30T21:21:36.738106Z",
     "shell.execute_reply": "2025-07-30T21:21:36.737183Z"
    },
    "papermill": {
     "duration": 0.034505,
     "end_time": "2025-07-30T21:21:36.739676",
     "exception": false,
     "start_time": "2025-07-30T21:21:36.705171",
     "status": "completed"
    },
    "tags": []
   },
   "outputs": [],
   "source": [
    "X_train = X_train[keep_mask]"
   ]
  },
  {
   "cell_type": "code",
   "execution_count": 40,
   "id": "b202bb3a",
   "metadata": {
    "execution": {
     "iopub.execute_input": "2025-07-30T21:21:36.791015Z",
     "iopub.status.busy": "2025-07-30T21:21:36.790380Z",
     "iopub.status.idle": "2025-07-30T21:21:36.796681Z",
     "shell.execute_reply": "2025-07-30T21:21:36.795769Z"
    },
    "papermill": {
     "duration": 0.033443,
     "end_time": "2025-07-30T21:21:36.798372",
     "exception": false,
     "start_time": "2025-07-30T21:21:36.764929",
     "status": "completed"
    },
    "tags": []
   },
   "outputs": [],
   "source": [
    "y_train = y_train[keep_mask]"
   ]
  },
  {
   "cell_type": "markdown",
   "id": "493e2ac3",
   "metadata": {
    "papermill": {
     "duration": 0.024033,
     "end_time": "2025-07-30T21:21:36.847583",
     "exception": false,
     "start_time": "2025-07-30T21:21:36.823550",
     "status": "completed"
    },
    "tags": []
   },
   "source": [
    "# Model Training"
   ]
  },
  {
   "cell_type": "code",
   "execution_count": 41,
   "id": "679e1268",
   "metadata": {
    "execution": {
     "iopub.execute_input": "2025-07-30T21:21:36.897671Z",
     "iopub.status.busy": "2025-07-30T21:21:36.897032Z",
     "iopub.status.idle": "2025-07-30T21:21:36.996594Z",
     "shell.execute_reply": "2025-07-30T21:21:36.995629Z"
    },
    "papermill": {
     "duration": 0.126929,
     "end_time": "2025-07-30T21:21:36.998606",
     "exception": false,
     "start_time": "2025-07-30T21:21:36.871677",
     "status": "completed"
    },
    "tags": []
   },
   "outputs": [],
   "source": [
    "from sklearn.linear_model import LogisticRegression\n",
    "from sklearn.ensemble import GradientBoostingClassifier, RandomForestClassifier\n",
    "\n",
    "if (universe[\"model\"] == \"logreg\"):\n",
    "    model = LogisticRegression() #penalty=\"none\") #, solver=\"newton-cg\", max_iter=1) # include random_state=19 ?\n",
    "elif (universe[\"model\"] == \"penalized_logreg\"):\n",
    "    model = LogisticRegression(penalty=\"l2\", C=1.0) #, solver=\"newton-cg\", max_iter=1)\n",
    "elif (universe[\"model\"] == \"rf\"):\n",
    "    model = RandomForestClassifier(n_estimators=100, n_jobs=-1)\n",
    "elif (universe[\"model\"] == \"gbm\"):\n",
    "    model = GradientBoostingClassifier()\n",
    "elif (universe[\"model\"] == \"elasticnet\"):\n",
    "    model = LogisticRegression(penalty = 'elasticnet', solver = 'saga', l1_ratio = 0.5, max_iter=5000) # which solver to use?\n",
    "else:\n",
    "    raise \"Unsupported universe.model\""
   ]
  },
  {
   "cell_type": "code",
   "execution_count": 42,
   "id": "0cc8f744",
   "metadata": {
    "execution": {
     "iopub.execute_input": "2025-07-30T21:21:37.049770Z",
     "iopub.status.busy": "2025-07-30T21:21:37.049148Z",
     "iopub.status.idle": "2025-07-30T21:21:37.055253Z",
     "shell.execute_reply": "2025-07-30T21:21:37.054345Z"
    },
    "papermill": {
     "duration": 0.033098,
     "end_time": "2025-07-30T21:21:37.056922",
     "exception": false,
     "start_time": "2025-07-30T21:21:37.023824",
     "status": "completed"
    },
    "tags": []
   },
   "outputs": [],
   "source": [
    "import numpy as np\n",
    "from sklearn.pipeline import Pipeline\n",
    "from sklearn.preprocessing import StandardScaler\n",
    "\n",
    "model = Pipeline([\n",
    "    #(\"continuous_processor\", continuous_processor),\n",
    "    #(\"categorical_preprocessor\", categorical_preprocessor),\n",
    "    (\"scale\", StandardScaler() if universe[\"scale\"] == \"scale\" else None), \n",
    "    (\"model\", model),\n",
    "])"
   ]
  },
  {
   "cell_type": "code",
   "execution_count": 43,
   "id": "9442c04d",
   "metadata": {
    "execution": {
     "iopub.execute_input": "2025-07-30T21:21:37.108850Z",
     "iopub.status.busy": "2025-07-30T21:21:37.107882Z",
     "iopub.status.idle": "2025-07-30T21:22:40.309621Z",
     "shell.execute_reply": "2025-07-30T21:22:40.308776Z"
    },
    "papermill": {
     "duration": 63.265645,
     "end_time": "2025-07-30T21:22:40.347437",
     "exception": false,
     "start_time": "2025-07-30T21:21:37.081792",
     "status": "completed"
    },
    "tags": []
   },
   "outputs": [
    {
     "data": {
      "text/html": [
       "<style>#sk-container-id-1 {color: black;background-color: white;}#sk-container-id-1 pre{padding: 0;}#sk-container-id-1 div.sk-toggleable {background-color: white;}#sk-container-id-1 label.sk-toggleable__label {cursor: pointer;display: block;width: 100%;margin-bottom: 0;padding: 0.3em;box-sizing: border-box;text-align: center;}#sk-container-id-1 label.sk-toggleable__label-arrow:before {content: \"▸\";float: left;margin-right: 0.25em;color: #696969;}#sk-container-id-1 label.sk-toggleable__label-arrow:hover:before {color: black;}#sk-container-id-1 div.sk-estimator:hover label.sk-toggleable__label-arrow:before {color: black;}#sk-container-id-1 div.sk-toggleable__content {max-height: 0;max-width: 0;overflow: hidden;text-align: left;background-color: #f0f8ff;}#sk-container-id-1 div.sk-toggleable__content pre {margin: 0.2em;color: black;border-radius: 0.25em;background-color: #f0f8ff;}#sk-container-id-1 input.sk-toggleable__control:checked~div.sk-toggleable__content {max-height: 200px;max-width: 100%;overflow: auto;}#sk-container-id-1 input.sk-toggleable__control:checked~label.sk-toggleable__label-arrow:before {content: \"▾\";}#sk-container-id-1 div.sk-estimator input.sk-toggleable__control:checked~label.sk-toggleable__label {background-color: #d4ebff;}#sk-container-id-1 div.sk-label input.sk-toggleable__control:checked~label.sk-toggleable__label {background-color: #d4ebff;}#sk-container-id-1 input.sk-hidden--visually {border: 0;clip: rect(1px 1px 1px 1px);clip: rect(1px, 1px, 1px, 1px);height: 1px;margin: -1px;overflow: hidden;padding: 0;position: absolute;width: 1px;}#sk-container-id-1 div.sk-estimator {font-family: monospace;background-color: #f0f8ff;border: 1px dotted black;border-radius: 0.25em;box-sizing: border-box;margin-bottom: 0.5em;}#sk-container-id-1 div.sk-estimator:hover {background-color: #d4ebff;}#sk-container-id-1 div.sk-parallel-item::after {content: \"\";width: 100%;border-bottom: 1px solid gray;flex-grow: 1;}#sk-container-id-1 div.sk-label:hover label.sk-toggleable__label {background-color: #d4ebff;}#sk-container-id-1 div.sk-serial::before {content: \"\";position: absolute;border-left: 1px solid gray;box-sizing: border-box;top: 0;bottom: 0;left: 50%;z-index: 0;}#sk-container-id-1 div.sk-serial {display: flex;flex-direction: column;align-items: center;background-color: white;padding-right: 0.2em;padding-left: 0.2em;position: relative;}#sk-container-id-1 div.sk-item {position: relative;z-index: 1;}#sk-container-id-1 div.sk-parallel {display: flex;align-items: stretch;justify-content: center;background-color: white;position: relative;}#sk-container-id-1 div.sk-item::before, #sk-container-id-1 div.sk-parallel-item::before {content: \"\";position: absolute;border-left: 1px solid gray;box-sizing: border-box;top: 0;bottom: 0;left: 50%;z-index: -1;}#sk-container-id-1 div.sk-parallel-item {display: flex;flex-direction: column;z-index: 1;position: relative;background-color: white;}#sk-container-id-1 div.sk-parallel-item:first-child::after {align-self: flex-end;width: 50%;}#sk-container-id-1 div.sk-parallel-item:last-child::after {align-self: flex-start;width: 50%;}#sk-container-id-1 div.sk-parallel-item:only-child::after {width: 0;}#sk-container-id-1 div.sk-dashed-wrapped {border: 1px dashed gray;margin: 0 0.4em 0.5em 0.4em;box-sizing: border-box;padding-bottom: 0.4em;background-color: white;}#sk-container-id-1 div.sk-label label {font-family: monospace;font-weight: bold;display: inline-block;line-height: 1.2em;}#sk-container-id-1 div.sk-label-container {text-align: center;}#sk-container-id-1 div.sk-container {/* jupyter's `normalize.less` sets `[hidden] { display: none; }` but bootstrap.min.css set `[hidden] { display: none !important; }` so we also need the `!important` here to be able to override the default hidden behavior on the sphinx rendered scikit-learn.org. See: https://github.com/scikit-learn/scikit-learn/issues/21755 */display: inline-block !important;position: relative;}#sk-container-id-1 div.sk-text-repr-fallback {display: none;}</style><div id=\"sk-container-id-1\" class=\"sk-top-container\"><div class=\"sk-text-repr-fallback\"><pre>Pipeline(steps=[(&#x27;scale&#x27;, None),\n",
       "                (&#x27;model&#x27;,\n",
       "                 LogisticRegression(l1_ratio=0.5, max_iter=5000,\n",
       "                                    penalty=&#x27;elasticnet&#x27;, solver=&#x27;saga&#x27;))])</pre><b>In a Jupyter environment, please rerun this cell to show the HTML representation or trust the notebook. <br />On GitHub, the HTML representation is unable to render, please try loading this page with nbviewer.org.</b></div><div class=\"sk-container\" hidden><div class=\"sk-item sk-dashed-wrapped\"><div class=\"sk-label-container\"><div class=\"sk-label sk-toggleable\"><input class=\"sk-toggleable__control sk-hidden--visually\" id=\"sk-estimator-id-1\" type=\"checkbox\" ><label for=\"sk-estimator-id-1\" class=\"sk-toggleable__label sk-toggleable__label-arrow\">Pipeline</label><div class=\"sk-toggleable__content\"><pre>Pipeline(steps=[(&#x27;scale&#x27;, None),\n",
       "                (&#x27;model&#x27;,\n",
       "                 LogisticRegression(l1_ratio=0.5, max_iter=5000,\n",
       "                                    penalty=&#x27;elasticnet&#x27;, solver=&#x27;saga&#x27;))])</pre></div></div></div><div class=\"sk-serial\"><div class=\"sk-item\"><div class=\"sk-estimator sk-toggleable\"><input class=\"sk-toggleable__control sk-hidden--visually\" id=\"sk-estimator-id-2\" type=\"checkbox\" ><label for=\"sk-estimator-id-2\" class=\"sk-toggleable__label sk-toggleable__label-arrow\">None</label><div class=\"sk-toggleable__content\"><pre>None</pre></div></div></div><div class=\"sk-item\"><div class=\"sk-estimator sk-toggleable\"><input class=\"sk-toggleable__control sk-hidden--visually\" id=\"sk-estimator-id-3\" type=\"checkbox\" ><label for=\"sk-estimator-id-3\" class=\"sk-toggleable__label sk-toggleable__label-arrow\">LogisticRegression</label><div class=\"sk-toggleable__content\"><pre>LogisticRegression(l1_ratio=0.5, max_iter=5000, penalty=&#x27;elasticnet&#x27;,\n",
       "                   solver=&#x27;saga&#x27;)</pre></div></div></div></div></div></div></div>"
      ],
      "text/plain": [
       "Pipeline(steps=[('scale', None),\n",
       "                ('model',\n",
       "                 LogisticRegression(l1_ratio=0.5, max_iter=5000,\n",
       "                                    penalty='elasticnet', solver='saga'))])"
      ]
     },
     "execution_count": 43,
     "metadata": {},
     "output_type": "execute_result"
    }
   ],
   "source": [
    "model.fit(X_train, y_train.values.ravel())"
   ]
  },
  {
   "cell_type": "code",
   "execution_count": 44,
   "id": "af59f8c0",
   "metadata": {
    "execution": {
     "iopub.execute_input": "2025-07-30T21:22:40.397350Z",
     "iopub.status.busy": "2025-07-30T21:22:40.396517Z",
     "iopub.status.idle": "2025-07-30T21:22:40.402128Z",
     "shell.execute_reply": "2025-07-30T21:22:40.401111Z"
    },
    "papermill": {
     "duration": 0.032693,
     "end_time": "2025-07-30T21:22:40.403667",
     "exception": false,
     "start_time": "2025-07-30T21:22:40.370974",
     "status": "completed"
    },
    "tags": []
   },
   "outputs": [],
   "source": [
    "from fairness_multiverse.universe import predict_w_threshold"
   ]
  },
  {
   "cell_type": "code",
   "execution_count": 45,
   "id": "a7cf2e16",
   "metadata": {
    "execution": {
     "iopub.execute_input": "2025-07-30T21:22:40.450702Z",
     "iopub.status.busy": "2025-07-30T21:22:40.450116Z",
     "iopub.status.idle": "2025-07-30T21:22:40.559871Z",
     "shell.execute_reply": "2025-07-30T21:22:40.558825Z"
    },
    "papermill": {
     "duration": 0.135075,
     "end_time": "2025-07-30T21:22:40.561557",
     "exception": false,
     "start_time": "2025-07-30T21:22:40.426482",
     "status": "completed"
    },
    "tags": []
   },
   "outputs": [
    {
     "data": {
      "text/plain": [
       "0.8594471073458924"
      ]
     },
     "execution_count": 45,
     "metadata": {},
     "output_type": "execute_result"
    }
   ],
   "source": [
    "probs_test = model.predict_proba(X_test)\n",
    "\n",
    "'''\n",
    "Below code returns a boolean array (or binary 0/1 array depending on how it’s used) where each element \n",
    "is True if the probability of class 1 is greater than or equal to the threshold, and False otherwise.\n",
    "'''\n",
    "y_pred_default = predict_w_threshold(probs_test, 0.5)\n",
    "\n",
    "from sklearn.metrics import accuracy_score\n",
    "\n",
    "# Naive prediction\n",
    "accuracy_score(y_true = y_true, y_pred = y_pred_default)"
   ]
  },
  {
   "cell_type": "code",
   "execution_count": 46,
   "id": "081964c3",
   "metadata": {
    "execution": {
     "iopub.execute_input": "2025-07-30T21:22:40.610012Z",
     "iopub.status.busy": "2025-07-30T21:22:40.609202Z",
     "iopub.status.idle": "2025-07-30T21:22:40.693746Z",
     "shell.execute_reply": "2025-07-30T21:22:40.692705Z"
    },
    "papermill": {
     "duration": 0.110628,
     "end_time": "2025-07-30T21:22:40.695504",
     "exception": false,
     "start_time": "2025-07-30T21:22:40.584876",
     "status": "completed"
    },
    "tags": []
   },
   "outputs": [
    {
     "data": {
      "text/plain": [
       "array([0, 0, 0, ..., 0, 0, 0])"
      ]
     },
     "execution_count": 46,
     "metadata": {},
     "output_type": "execute_result"
    }
   ],
   "source": [
    "model.predict(X_test)"
   ]
  },
  {
   "cell_type": "markdown",
   "id": "56c9705b",
   "metadata": {
    "papermill": {
     "duration": 0.024941,
     "end_time": "2025-07-30T21:22:40.745910",
     "exception": false,
     "start_time": "2025-07-30T21:22:40.720969",
     "status": "completed"
    },
    "tags": []
   },
   "source": [
    "# Conformal Prediction"
   ]
  },
  {
   "cell_type": "code",
   "execution_count": 47,
   "id": "160ec6ff",
   "metadata": {
    "execution": {
     "iopub.execute_input": "2025-07-30T21:22:40.797649Z",
     "iopub.status.busy": "2025-07-30T21:22:40.797129Z",
     "iopub.status.idle": "2025-07-30T21:22:40.802551Z",
     "shell.execute_reply": "2025-07-30T21:22:40.801504Z"
    },
    "papermill": {
     "duration": 0.03356,
     "end_time": "2025-07-30T21:22:40.804350",
     "exception": false,
     "start_time": "2025-07-30T21:22:40.770790",
     "status": "completed"
    },
    "tags": []
   },
   "outputs": [],
   "source": [
    "# Miscoverage level for conformal prediction (10% allowed error rate => 90% target coverage)\n",
    "alpha = 0.1"
   ]
  },
  {
   "cell_type": "code",
   "execution_count": 48,
   "id": "eadf4555-3dd3-440e-8e35-f82a4ad9f855",
   "metadata": {
    "execution": {
     "iopub.execute_input": "2025-07-30T21:22:40.858845Z",
     "iopub.status.busy": "2025-07-30T21:22:40.858393Z",
     "iopub.status.idle": "2025-07-30T21:22:40.946431Z",
     "shell.execute_reply": "2025-07-30T21:22:40.945433Z"
    },
    "papermill": {
     "duration": 0.118409,
     "end_time": "2025-07-30T21:22:40.948430",
     "exception": false,
     "start_time": "2025-07-30T21:22:40.830021",
     "status": "completed"
    },
    "tags": []
   },
   "outputs": [],
   "source": [
    "probs_calib = model.predict_proba(X_calib)"
   ]
  },
  {
   "cell_type": "code",
   "execution_count": 49,
   "id": "2ed93547-6d5d-4983-9b36-1ecb300da49a",
   "metadata": {
    "execution": {
     "iopub.execute_input": "2025-07-30T21:22:41.001309Z",
     "iopub.status.busy": "2025-07-30T21:22:41.000810Z",
     "iopub.status.idle": "2025-07-30T21:22:41.006940Z",
     "shell.execute_reply": "2025-07-30T21:22:41.005929Z"
    },
    "papermill": {
     "duration": 0.034543,
     "end_time": "2025-07-30T21:22:41.008794",
     "exception": false,
     "start_time": "2025-07-30T21:22:40.974251",
     "status": "completed"
    },
    "tags": []
   },
   "outputs": [],
   "source": [
    "y_calib = y_calib.values.ravel().astype(int)"
   ]
  },
  {
   "cell_type": "code",
   "execution_count": 50,
   "id": "65d1320d-f588-4b38-9072-62af1ae97f7d",
   "metadata": {
    "execution": {
     "iopub.execute_input": "2025-07-30T21:22:41.059190Z",
     "iopub.status.busy": "2025-07-30T21:22:41.058597Z",
     "iopub.status.idle": "2025-07-30T21:22:41.066997Z",
     "shell.execute_reply": "2025-07-30T21:22:41.066046Z"
    },
    "papermill": {
     "duration": 0.035519,
     "end_time": "2025-07-30T21:22:41.068727",
     "exception": false,
     "start_time": "2025-07-30T21:22:41.033208",
     "status": "completed"
    },
    "tags": []
   },
   "outputs": [],
   "source": [
    "from fairness_multiverse.conformal import compute_nc_scores\n",
    "\n",
    "# Compute nonconformity scores on calibration set (1 - probability of true class)\n",
    "nc_scores = compute_nc_scores(probs_calib, y_calib)"
   ]
  },
  {
   "cell_type": "code",
   "execution_count": 51,
   "id": "df3b8ca3-53b7-43d5-9667-7c85da7aeda2",
   "metadata": {
    "execution": {
     "iopub.execute_input": "2025-07-30T21:22:41.117907Z",
     "iopub.status.busy": "2025-07-30T21:22:41.117329Z",
     "iopub.status.idle": "2025-07-30T21:22:41.124869Z",
     "shell.execute_reply": "2025-07-30T21:22:41.123845Z"
    },
    "papermill": {
     "duration": 0.033764,
     "end_time": "2025-07-30T21:22:41.126649",
     "exception": false,
     "start_time": "2025-07-30T21:22:41.092885",
     "status": "completed"
    },
    "tags": []
   },
   "outputs": [],
   "source": [
    "from fairness_multiverse.conformal import find_threshold\n",
    "\n",
    "# Find conformal threshold q_hat for the given alpha (split conformal method)\n",
    "q_hat = find_threshold(nc_scores, alpha)"
   ]
  },
  {
   "cell_type": "code",
   "execution_count": 52,
   "id": "4d29e6c1-0ef6-4aa4-b8fe-4fe79b0d033a",
   "metadata": {
    "execution": {
     "iopub.execute_input": "2025-07-30T21:22:41.173861Z",
     "iopub.status.busy": "2025-07-30T21:22:41.173374Z",
     "iopub.status.idle": "2025-07-30T21:22:41.181123Z",
     "shell.execute_reply": "2025-07-30T21:22:41.179955Z"
    },
    "papermill": {
     "duration": 0.033067,
     "end_time": "2025-07-30T21:22:41.182633",
     "exception": false,
     "start_time": "2025-07-30T21:22:41.149566",
     "status": "completed"
    },
    "tags": []
   },
   "outputs": [
    {
     "data": {
      "text/plain": [
       "0.6673500491905523"
      ]
     },
     "execution_count": 52,
     "metadata": {},
     "output_type": "execute_result"
    }
   ],
   "source": [
    "q_hat"
   ]
  },
  {
   "cell_type": "code",
   "execution_count": 53,
   "id": "92460794-cdac-4be2-ba28-f28c0515a6fb",
   "metadata": {
    "execution": {
     "iopub.execute_input": "2025-07-30T21:22:41.232603Z",
     "iopub.status.busy": "2025-07-30T21:22:41.232070Z",
     "iopub.status.idle": "2025-07-30T21:22:42.016883Z",
     "shell.execute_reply": "2025-07-30T21:22:42.015814Z"
    },
    "papermill": {
     "duration": 0.812476,
     "end_time": "2025-07-30T21:22:42.019161",
     "exception": false,
     "start_time": "2025-07-30T21:22:41.206685",
     "status": "completed"
    },
    "tags": []
   },
   "outputs": [],
   "source": [
    "from fairness_multiverse.conformal import predict_conformal_sets\n",
    "\n",
    "# Generate prediction sets for each test example\n",
    "pred_sets = predict_conformal_sets(model, X_test, q_hat)"
   ]
  },
  {
   "cell_type": "code",
   "execution_count": 54,
   "id": "d90c9a65-e6db-4f5d-80cd-e68fb7e46829",
   "metadata": {
    "execution": {
     "iopub.execute_input": "2025-07-30T21:22:42.090169Z",
     "iopub.status.busy": "2025-07-30T21:22:42.089596Z",
     "iopub.status.idle": "2025-07-30T21:22:42.097501Z",
     "shell.execute_reply": "2025-07-30T21:22:42.096406Z"
    },
    "papermill": {
     "duration": 0.045714,
     "end_time": "2025-07-30T21:22:42.099474",
     "exception": false,
     "start_time": "2025-07-30T21:22:42.053760",
     "status": "completed"
    },
    "tags": []
   },
   "outputs": [],
   "source": [
    "y_true = y_true.squeeze()"
   ]
  },
  {
   "cell_type": "code",
   "execution_count": 55,
   "id": "3a58a54a-1e68-46b9-927a-df01f18aebc8",
   "metadata": {
    "execution": {
     "iopub.execute_input": "2025-07-30T21:22:42.172103Z",
     "iopub.status.busy": "2025-07-30T21:22:42.171530Z",
     "iopub.status.idle": "2025-07-30T21:22:43.120873Z",
     "shell.execute_reply": "2025-07-30T21:22:43.119823Z"
    },
    "papermill": {
     "duration": 0.987375,
     "end_time": "2025-07-30T21:22:43.122686",
     "exception": false,
     "start_time": "2025-07-30T21:22:42.135311",
     "status": "completed"
    },
    "tags": []
   },
   "outputs": [],
   "source": [
    "from fairness_multiverse.conformal import evaluate_sets\n",
    "\n",
    "# Evaluate coverage and average set size on test data\n",
    "metrics = evaluate_sets(pred_sets, y_true)"
   ]
  },
  {
   "cell_type": "markdown",
   "id": "2b569c12-9aaa-4c88-98c9-bbcd0cf3ebb8",
   "metadata": {
    "papermill": {
     "duration": 0.025912,
     "end_time": "2025-07-30T21:22:43.173381",
     "exception": false,
     "start_time": "2025-07-30T21:22:43.147469",
     "status": "completed"
    },
    "tags": []
   },
   "source": [
    "# CP Metrics"
   ]
  },
  {
   "cell_type": "code",
   "execution_count": 56,
   "id": "5ce0a5cb-201f-45a0-ade5-94c7f0bd6095",
   "metadata": {
    "execution": {
     "iopub.execute_input": "2025-07-30T21:22:43.229895Z",
     "iopub.status.busy": "2025-07-30T21:22:43.228884Z",
     "iopub.status.idle": "2025-07-30T21:22:43.238997Z",
     "shell.execute_reply": "2025-07-30T21:22:43.237969Z"
    },
    "papermill": {
     "duration": 0.041486,
     "end_time": "2025-07-30T21:22:43.240882",
     "exception": false,
     "start_time": "2025-07-30T21:22:43.199396",
     "status": "completed"
    },
    "tags": []
   },
   "outputs": [
    {
     "data": {
      "text/plain": [
       "{'coverage': 0.914390814847843, 'avg_size': 1.2525248021402295}"
      ]
     },
     "execution_count": 56,
     "metadata": {},
     "output_type": "execute_result"
    }
   ],
   "source": [
    "metrics"
   ]
  },
  {
   "cell_type": "code",
   "execution_count": 57,
   "id": "9b9a838d-31c9-430b-ae14-12baee460d17",
   "metadata": {
    "execution": {
     "iopub.execute_input": "2025-07-30T21:22:43.294615Z",
     "iopub.status.busy": "2025-07-30T21:22:43.294158Z",
     "iopub.status.idle": "2025-07-30T21:22:43.300683Z",
     "shell.execute_reply": "2025-07-30T21:22:43.299653Z"
    },
    "papermill": {
     "duration": 0.034325,
     "end_time": "2025-07-30T21:22:43.302350",
     "exception": false,
     "start_time": "2025-07-30T21:22:43.268025",
     "status": "completed"
    },
    "tags": []
   },
   "outputs": [],
   "source": [
    "example_universe = universe.copy()\n",
    "universe_training_year = example_universe.get(\"training_year\")\n",
    "universe_training_size = example_universe.get(\"training_size\")\n",
    "universe_scale = example_universe.get(\"scale\")\n",
    "universe_model = example_universe.get(\"model\")\n",
    "universe_exclude_features = example_universe.get(\"exclude_features\")\n",
    "universe_exclude_subgroups = example_universe.get(\"exclude_subgroups\")"
   ]
  },
  {
   "cell_type": "code",
   "execution_count": 58,
   "id": "f4b6a8ac-9dc0-4245-8a91-5b3b5999c4f9",
   "metadata": {
    "execution": {
     "iopub.execute_input": "2025-07-30T21:22:43.356515Z",
     "iopub.status.busy": "2025-07-30T21:22:43.355985Z",
     "iopub.status.idle": "2025-07-30T21:22:43.363540Z",
     "shell.execute_reply": "2025-07-30T21:22:43.362092Z"
    },
    "papermill": {
     "duration": 0.036863,
     "end_time": "2025-07-30T21:22:43.365655",
     "exception": false,
     "start_time": "2025-07-30T21:22:43.328792",
     "status": "completed"
    },
    "tags": []
   },
   "outputs": [],
   "source": [
    "cp_metrics_dict = {\n",
    "    \"universe_id\": [universe_id],\n",
    "    \"universe_training_year\": [universe_training_year],\n",
    "    \"universe_training_size\": [universe_training_size],\n",
    "    \"universe_scale\": [universe_scale],\n",
    "    \"universe_model\": [universe_model],\n",
    "    \"universe_exclude_features\": [universe_exclude_features],\n",
    "    \"universe_exclude_subgroups\": [universe_exclude_subgroups],\n",
    "    \"q_hat\": [q_hat],\n",
    "    \"coverage\": [metrics[\"coverage\"]],\n",
    "    \"avg_size\": [metrics[\"avg_size\"]],\n",
    "}"
   ]
  },
  {
   "cell_type": "code",
   "execution_count": 59,
   "id": "908acbb1-0371-4915-85ca-3fa520d2efe2",
   "metadata": {
    "execution": {
     "iopub.execute_input": "2025-07-30T21:22:43.424355Z",
     "iopub.status.busy": "2025-07-30T21:22:43.421107Z",
     "iopub.status.idle": "2025-07-30T21:22:43.433060Z",
     "shell.execute_reply": "2025-07-30T21:22:43.431893Z"
    },
    "papermill": {
     "duration": 0.041903,
     "end_time": "2025-07-30T21:22:43.434924",
     "exception": false,
     "start_time": "2025-07-30T21:22:43.393021",
     "status": "completed"
    },
    "tags": []
   },
   "outputs": [
    {
     "data": {
      "text/plain": [
       "{'universe_id': ['e35d6e2b7a7449e3ccfcd0ba6a268185'],\n",
       " 'universe_training_year': ['2010_14'],\n",
       " 'universe_training_size': ['5k'],\n",
       " 'universe_scale': ['do-not-scale'],\n",
       " 'universe_model': ['elasticnet'],\n",
       " 'universe_exclude_features': ['age'],\n",
       " 'universe_exclude_subgroups': ['keep-all'],\n",
       " 'q_hat': [0.6673500491905523],\n",
       " 'coverage': [0.914390814847843],\n",
       " 'avg_size': [1.2525248021402295]}"
      ]
     },
     "execution_count": 59,
     "metadata": {},
     "output_type": "execute_result"
    }
   ],
   "source": [
    "cp_metrics_dict"
   ]
  },
  {
   "cell_type": "code",
   "execution_count": 60,
   "id": "33007efc-14e9-4ec6-97ac-56a455c82265",
   "metadata": {
    "execution": {
     "iopub.execute_input": "2025-07-30T21:22:43.490419Z",
     "iopub.status.busy": "2025-07-30T21:22:43.489926Z",
     "iopub.status.idle": "2025-07-30T21:22:43.496562Z",
     "shell.execute_reply": "2025-07-30T21:22:43.495676Z"
    },
    "papermill": {
     "duration": 0.03666,
     "end_time": "2025-07-30T21:22:43.498307",
     "exception": false,
     "start_time": "2025-07-30T21:22:43.461647",
     "status": "completed"
    },
    "tags": []
   },
   "outputs": [],
   "source": [
    "cp_metrics_df = pd.DataFrame(cp_metrics_dict)"
   ]
  },
  {
   "cell_type": "code",
   "execution_count": 61,
   "id": "db12611b-57b2-4910-b9d0-355adfd6e7bf",
   "metadata": {
    "execution": {
     "iopub.execute_input": "2025-07-30T21:22:43.551447Z",
     "iopub.status.busy": "2025-07-30T21:22:43.551007Z",
     "iopub.status.idle": "2025-07-30T21:22:43.570392Z",
     "shell.execute_reply": "2025-07-30T21:22:43.569437Z"
    },
    "papermill": {
     "duration": 0.047235,
     "end_time": "2025-07-30T21:22:43.572109",
     "exception": false,
     "start_time": "2025-07-30T21:22:43.524874",
     "status": "completed"
    },
    "tags": []
   },
   "outputs": [
    {
     "data": {
      "text/html": [
       "<div>\n",
       "<style scoped>\n",
       "    .dataframe tbody tr th:only-of-type {\n",
       "        vertical-align: middle;\n",
       "    }\n",
       "\n",
       "    .dataframe tbody tr th {\n",
       "        vertical-align: top;\n",
       "    }\n",
       "\n",
       "    .dataframe thead th {\n",
       "        text-align: right;\n",
       "    }\n",
       "</style>\n",
       "<table border=\"1\" class=\"dataframe\">\n",
       "  <thead>\n",
       "    <tr style=\"text-align: right;\">\n",
       "      <th></th>\n",
       "      <th>universe_id</th>\n",
       "      <th>universe_training_year</th>\n",
       "      <th>universe_training_size</th>\n",
       "      <th>universe_scale</th>\n",
       "      <th>universe_model</th>\n",
       "      <th>universe_exclude_features</th>\n",
       "      <th>universe_exclude_subgroups</th>\n",
       "      <th>q_hat</th>\n",
       "      <th>coverage</th>\n",
       "      <th>avg_size</th>\n",
       "    </tr>\n",
       "  </thead>\n",
       "  <tbody>\n",
       "    <tr>\n",
       "      <th>0</th>\n",
       "      <td>e35d6e2b7a7449e3ccfcd0ba6a268185</td>\n",
       "      <td>2010_14</td>\n",
       "      <td>5k</td>\n",
       "      <td>do-not-scale</td>\n",
       "      <td>elasticnet</td>\n",
       "      <td>age</td>\n",
       "      <td>keep-all</td>\n",
       "      <td>0.66735</td>\n",
       "      <td>0.914391</td>\n",
       "      <td>1.252525</td>\n",
       "    </tr>\n",
       "  </tbody>\n",
       "</table>\n",
       "</div>"
      ],
      "text/plain": [
       "                        universe_id universe_training_year  \\\n",
       "0  e35d6e2b7a7449e3ccfcd0ba6a268185                2010_14   \n",
       "\n",
       "  universe_training_size universe_scale universe_model  \\\n",
       "0                     5k   do-not-scale     elasticnet   \n",
       "\n",
       "  universe_exclude_features universe_exclude_subgroups    q_hat  coverage  \\\n",
       "0                       age                   keep-all  0.66735  0.914391   \n",
       "\n",
       "   avg_size  \n",
       "0  1.252525  "
      ]
     },
     "execution_count": 61,
     "metadata": {},
     "output_type": "execute_result"
    }
   ],
   "source": [
    "cp_metrics_df"
   ]
  },
  {
   "cell_type": "code",
   "execution_count": 62,
   "id": "b7fbde55-a0a1-47e4-9af6-fe4a17fa8c61",
   "metadata": {
    "execution": {
     "iopub.execute_input": "2025-07-30T21:22:43.630786Z",
     "iopub.status.busy": "2025-07-30T21:22:43.629898Z",
     "iopub.status.idle": "2025-07-30T21:22:43.635606Z",
     "shell.execute_reply": "2025-07-30T21:22:43.634549Z"
    },
    "papermill": {
     "duration": 0.036755,
     "end_time": "2025-07-30T21:22:43.637656",
     "exception": false,
     "start_time": "2025-07-30T21:22:43.600901",
     "status": "completed"
    },
    "tags": []
   },
   "outputs": [],
   "source": [
    "# Conditional Coverage & looking at subgroups"
   ]
  },
  {
   "cell_type": "code",
   "execution_count": 63,
   "id": "027ae886-68dd-4141-96c7-805a5450e1ef",
   "metadata": {
    "execution": {
     "iopub.execute_input": "2025-07-30T21:22:43.695224Z",
     "iopub.status.busy": "2025-07-30T21:22:43.694260Z",
     "iopub.status.idle": "2025-07-30T21:22:44.012955Z",
     "shell.execute_reply": "2025-07-30T21:22:44.011796Z"
    },
    "papermill": {
     "duration": 0.350036,
     "end_time": "2025-07-30T21:22:44.015080",
     "exception": false,
     "start_time": "2025-07-30T21:22:43.665044",
     "status": "completed"
    },
    "tags": []
   },
   "outputs": [],
   "source": [
    "from fairness_multiverse.conformal import build_cp_groups\n",
    "\n",
    "cp_groups_df = build_cp_groups(pred_sets, y_true, X_test.index, org_test)\n",
    "#needs universe_id and setting"
   ]
  },
  {
   "cell_type": "code",
   "execution_count": 64,
   "id": "01d5802c-663a-4d1f-9d69-e036faaffbf7",
   "metadata": {
    "execution": {
     "iopub.execute_input": "2025-07-30T21:22:44.075110Z",
     "iopub.status.busy": "2025-07-30T21:22:44.074410Z",
     "iopub.status.idle": "2025-07-30T21:22:44.079568Z",
     "shell.execute_reply": "2025-07-30T21:22:44.078647Z"
    },
    "papermill": {
     "duration": 0.037078,
     "end_time": "2025-07-30T21:22:44.081198",
     "exception": false,
     "start_time": "2025-07-30T21:22:44.044120",
     "status": "completed"
    },
    "tags": []
   },
   "outputs": [],
   "source": [
    "#delete\n",
    "#cp_groups_df"
   ]
  },
  {
   "cell_type": "code",
   "execution_count": 65,
   "id": "fa424af1-d1eb-443d-b717-2d279ada8408",
   "metadata": {
    "execution": {
     "iopub.execute_input": "2025-07-30T21:22:44.130324Z",
     "iopub.status.busy": "2025-07-30T21:22:44.129613Z",
     "iopub.status.idle": "2025-07-30T21:22:44.134417Z",
     "shell.execute_reply": "2025-07-30T21:22:44.133519Z"
    },
    "papermill": {
     "duration": 0.030831,
     "end_time": "2025-07-30T21:22:44.135901",
     "exception": false,
     "start_time": "2025-07-30T21:22:44.105070",
     "status": "completed"
    },
    "tags": []
   },
   "outputs": [],
   "source": [
    "#delete\n",
    "#percentage = (cp_groups_df['nongerman_female'] == 1).mean() * 100\n",
    "#print(percentage)\n"
   ]
  },
  {
   "cell_type": "code",
   "execution_count": 66,
   "id": "6cbdab96-b2b2-45af-ad54-d0516db2e28d",
   "metadata": {
    "execution": {
     "iopub.execute_input": "2025-07-30T21:22:44.188699Z",
     "iopub.status.busy": "2025-07-30T21:22:44.188250Z",
     "iopub.status.idle": "2025-07-30T21:22:45.786577Z",
     "shell.execute_reply": "2025-07-30T21:22:45.785713Z"
    },
    "papermill": {
     "duration": 1.627073,
     "end_time": "2025-07-30T21:22:45.788406",
     "exception": false,
     "start_time": "2025-07-30T21:22:44.161333",
     "status": "completed"
    },
    "tags": []
   },
   "outputs": [],
   "source": [
    "# Define covered = 1 if true_label is in the predicted set\n",
    "cp_groups_df['covered'] = cp_groups_df.apply(\n",
    "    lambda r: int(r['true_label'] in r['pred_set']),\n",
    "    axis=1\n",
    ")"
   ]
  },
  {
   "cell_type": "code",
   "execution_count": 67,
   "id": "338ff529-1a6b-4b87-a931-8e4788d52aad",
   "metadata": {
    "execution": {
     "iopub.execute_input": "2025-07-30T21:22:45.839569Z",
     "iopub.status.busy": "2025-07-30T21:22:45.838892Z",
     "iopub.status.idle": "2025-07-30T21:22:45.844630Z",
     "shell.execute_reply": "2025-07-30T21:22:45.843453Z"
    },
    "papermill": {
     "duration": 0.033865,
     "end_time": "2025-07-30T21:22:45.846770",
     "exception": false,
     "start_time": "2025-07-30T21:22:45.812905",
     "status": "completed"
    },
    "tags": []
   },
   "outputs": [],
   "source": [
    "#cp_groups_df"
   ]
  },
  {
   "cell_type": "code",
   "execution_count": 68,
   "id": "90032e27-66df-4540-9169-4e89cfbaa758",
   "metadata": {
    "execution": {
     "iopub.execute_input": "2025-07-30T21:22:45.905017Z",
     "iopub.status.busy": "2025-07-30T21:22:45.903423Z",
     "iopub.status.idle": "2025-07-30T21:22:45.916262Z",
     "shell.execute_reply": "2025-07-30T21:22:45.915174Z"
    },
    "papermill": {
     "duration": 0.042839,
     "end_time": "2025-07-30T21:22:45.917981",
     "exception": false,
     "start_time": "2025-07-30T21:22:45.875142",
     "status": "completed"
    },
    "tags": []
   },
   "outputs": [],
   "source": [
    "subgroups = ['frau1','nongerman','nongerman_male','nongerman_female']\n",
    "\n",
    "# Conditional coverage for subgroup==1\n",
    "cond_coverage = {\n",
    "    g: cp_groups_df.loc[cp_groups_df[g]==1, 'covered'].mean()\n",
    "    for g in subgroups\n",
    "}"
   ]
  },
  {
   "cell_type": "code",
   "execution_count": 69,
   "id": "1e348fb1-b9c3-45bc-ba23-f016827a7e0d",
   "metadata": {
    "execution": {
     "iopub.execute_input": "2025-07-30T21:22:45.974637Z",
     "iopub.status.busy": "2025-07-30T21:22:45.974019Z",
     "iopub.status.idle": "2025-07-30T21:22:45.981362Z",
     "shell.execute_reply": "2025-07-30T21:22:45.980403Z"
    },
    "papermill": {
     "duration": 0.038708,
     "end_time": "2025-07-30T21:22:45.982998",
     "exception": false,
     "start_time": "2025-07-30T21:22:45.944290",
     "status": "completed"
    },
    "tags": []
   },
   "outputs": [
    {
     "data": {
      "text/plain": [
       "{'frau1': 0.9148402749696725,\n",
       " 'nongerman': 0.964800988042441,\n",
       " 'nongerman_male': 0.9691975141853553,\n",
       " 'nongerman_female': 0.9575260804769001}"
      ]
     },
     "execution_count": 69,
     "metadata": {},
     "output_type": "execute_result"
    }
   ],
   "source": [
    "cond_coverage"
   ]
  },
  {
   "cell_type": "code",
   "execution_count": 70,
   "id": "f5093324-c3dd-4d63-bc4c-8d945e5c8bbb",
   "metadata": {
    "execution": {
     "iopub.execute_input": "2025-07-30T21:22:46.039755Z",
     "iopub.status.busy": "2025-07-30T21:22:46.039251Z",
     "iopub.status.idle": "2025-07-30T21:22:46.047664Z",
     "shell.execute_reply": "2025-07-30T21:22:46.046660Z"
    },
    "papermill": {
     "duration": 0.038747,
     "end_time": "2025-07-30T21:22:46.049522",
     "exception": false,
     "start_time": "2025-07-30T21:22:46.010775",
     "status": "completed"
    },
    "tags": []
   },
   "outputs": [],
   "source": [
    "for subgroup, cov in cond_coverage.items():\n",
    "    cp_metrics_df[f\"cov_{subgroup}\"] = cov"
   ]
  },
  {
   "cell_type": "code",
   "execution_count": 71,
   "id": "6e872e10-dbe5-49e8-b554-5030c98ff75d",
   "metadata": {
    "execution": {
     "iopub.execute_input": "2025-07-30T21:22:46.105977Z",
     "iopub.status.busy": "2025-07-30T21:22:46.105483Z",
     "iopub.status.idle": "2025-07-30T21:22:46.126695Z",
     "shell.execute_reply": "2025-07-30T21:22:46.125308Z"
    },
    "papermill": {
     "duration": 0.051718,
     "end_time": "2025-07-30T21:22:46.128611",
     "exception": false,
     "start_time": "2025-07-30T21:22:46.076893",
     "status": "completed"
    },
    "tags": []
   },
   "outputs": [
    {
     "data": {
      "text/html": [
       "<div>\n",
       "<style scoped>\n",
       "    .dataframe tbody tr th:only-of-type {\n",
       "        vertical-align: middle;\n",
       "    }\n",
       "\n",
       "    .dataframe tbody tr th {\n",
       "        vertical-align: top;\n",
       "    }\n",
       "\n",
       "    .dataframe thead th {\n",
       "        text-align: right;\n",
       "    }\n",
       "</style>\n",
       "<table border=\"1\" class=\"dataframe\">\n",
       "  <thead>\n",
       "    <tr style=\"text-align: right;\">\n",
       "      <th></th>\n",
       "      <th>universe_id</th>\n",
       "      <th>universe_training_year</th>\n",
       "      <th>universe_training_size</th>\n",
       "      <th>universe_scale</th>\n",
       "      <th>universe_model</th>\n",
       "      <th>universe_exclude_features</th>\n",
       "      <th>universe_exclude_subgroups</th>\n",
       "      <th>q_hat</th>\n",
       "      <th>coverage</th>\n",
       "      <th>avg_size</th>\n",
       "      <th>cov_frau1</th>\n",
       "      <th>cov_nongerman</th>\n",
       "      <th>cov_nongerman_male</th>\n",
       "      <th>cov_nongerman_female</th>\n",
       "    </tr>\n",
       "  </thead>\n",
       "  <tbody>\n",
       "    <tr>\n",
       "      <th>0</th>\n",
       "      <td>e35d6e2b7a7449e3ccfcd0ba6a268185</td>\n",
       "      <td>2010_14</td>\n",
       "      <td>5k</td>\n",
       "      <td>do-not-scale</td>\n",
       "      <td>elasticnet</td>\n",
       "      <td>age</td>\n",
       "      <td>keep-all</td>\n",
       "      <td>0.66735</td>\n",
       "      <td>0.914391</td>\n",
       "      <td>1.252525</td>\n",
       "      <td>0.91484</td>\n",
       "      <td>0.964801</td>\n",
       "      <td>0.969198</td>\n",
       "      <td>0.957526</td>\n",
       "    </tr>\n",
       "  </tbody>\n",
       "</table>\n",
       "</div>"
      ],
      "text/plain": [
       "                        universe_id universe_training_year  \\\n",
       "0  e35d6e2b7a7449e3ccfcd0ba6a268185                2010_14   \n",
       "\n",
       "  universe_training_size universe_scale universe_model  \\\n",
       "0                     5k   do-not-scale     elasticnet   \n",
       "\n",
       "  universe_exclude_features universe_exclude_subgroups    q_hat  coverage  \\\n",
       "0                       age                   keep-all  0.66735  0.914391   \n",
       "\n",
       "   avg_size  cov_frau1  cov_nongerman  cov_nongerman_male  \\\n",
       "0  1.252525    0.91484       0.964801            0.969198   \n",
       "\n",
       "   cov_nongerman_female  \n",
       "0              0.957526  "
      ]
     },
     "execution_count": 71,
     "metadata": {},
     "output_type": "execute_result"
    }
   ],
   "source": [
    "cp_metrics_df"
   ]
  },
  {
   "cell_type": "markdown",
   "id": "33774451",
   "metadata": {
    "papermill": {
     "duration": 0.025177,
     "end_time": "2025-07-30T21:22:46.181006",
     "exception": false,
     "start_time": "2025-07-30T21:22:46.155829",
     "status": "completed"
    },
    "tags": []
   },
   "source": [
    "# (Fairness) Metrics"
   ]
  },
  {
   "cell_type": "code",
   "execution_count": 72,
   "id": "debc5d62",
   "metadata": {
    "execution": {
     "iopub.execute_input": "2025-07-30T21:22:46.234149Z",
     "iopub.status.busy": "2025-07-30T21:22:46.233605Z",
     "iopub.status.idle": "2025-07-30T21:22:46.257431Z",
     "shell.execute_reply": "2025-07-30T21:22:46.256290Z"
    },
    "papermill": {
     "duration": 0.053607,
     "end_time": "2025-07-30T21:22:46.259589",
     "exception": false,
     "start_time": "2025-07-30T21:22:46.205982",
     "status": "completed"
    },
    "tags": []
   },
   "outputs": [],
   "source": [
    "# do I need to include maxdeutsch1.missing?\n",
    "\n",
    "import numpy as np\n",
    "\n",
    "colname_to_bin = \"maxdeutsch1\"\n",
    "majority_value = org_train[colname_to_bin].mode()[0]\n",
    "\n",
    "org_test[\"majmin\"] = np.where(org_test[colname_to_bin] == majority_value, \"majority\", \"minority\")"
   ]
  },
  {
   "cell_type": "code",
   "execution_count": 73,
   "id": "06a50de5",
   "metadata": {
    "execution": {
     "iopub.execute_input": "2025-07-30T21:22:46.296992Z",
     "iopub.status.busy": "2025-07-30T21:22:46.296640Z",
     "iopub.status.idle": "2025-07-30T21:22:48.825291Z",
     "shell.execute_reply": "2025-07-30T21:22:48.824220Z"
    },
    "papermill": {
     "duration": 2.545933,
     "end_time": "2025-07-30T21:22:48.827170",
     "exception": false,
     "start_time": "2025-07-30T21:22:46.281237",
     "status": "completed"
    },
    "tags": []
   },
   "outputs": [],
   "source": [
    "example_universe = universe.copy()\n",
    "example_universe[\"cutoff\"] = example_universe[\"cutoff\"][0]\n",
    "example_universe[\"eval_fairness_grouping\"] = example_universe[\"eval_fairness_grouping\"][0]\n",
    "fairness_dict, metric_frame = universe_analysis.compute_metrics(\n",
    "    example_universe,\n",
    "    y_pred_prob=probs_test,\n",
    "    y_test=y_true,\n",
    "    org_test=org_test,\n",
    ")"
   ]
  },
  {
   "cell_type": "markdown",
   "id": "f95d4e02",
   "metadata": {
    "papermill": {
     "duration": 0.027073,
     "end_time": "2025-07-30T21:22:48.882857",
     "exception": false,
     "start_time": "2025-07-30T21:22:48.855784",
     "status": "completed"
    },
    "tags": []
   },
   "source": [
    "# Overall"
   ]
  },
  {
   "cell_type": "markdown",
   "id": "bdee4871",
   "metadata": {
    "papermill": {
     "duration": 0.027151,
     "end_time": "2025-07-30T21:22:48.937504",
     "exception": false,
     "start_time": "2025-07-30T21:22:48.910353",
     "status": "completed"
    },
    "tags": []
   },
   "source": [
    "Fairness\n",
    "Main fairness target: Equalized Odds. Seems to be a better fit than equal opportunity, since we're not only interested in Y = 1. Seems to be a better fit than demographic parity, since we also care about accuracy, not just equal distribution of preds.\n",
    "\n",
    "Pick column for computation of fairness metrics\n",
    "\n",
    "Performance\n",
    "Overall performance measures, most interesting in relation to the measures split by group below"
   ]
  },
  {
   "cell_type": "code",
   "execution_count": 74,
   "id": "c4e067c6",
   "metadata": {
    "execution": {
     "iopub.execute_input": "2025-07-30T21:22:48.993340Z",
     "iopub.status.busy": "2025-07-30T21:22:48.992844Z",
     "iopub.status.idle": "2025-07-30T21:22:49.001602Z",
     "shell.execute_reply": "2025-07-30T21:22:49.000727Z"
    },
    "papermill": {
     "duration": 0.039298,
     "end_time": "2025-07-30T21:22:49.003139",
     "exception": false,
     "start_time": "2025-07-30T21:22:48.963841",
     "status": "completed"
    },
    "tags": []
   },
   "outputs": [
    {
     "data": {
      "text/plain": [
       "accuracy                   0.218404\n",
       "balanced accuracy          0.535278\n",
       "f1                         0.239899\n",
       "precision                  0.137047\n",
       "false positive rate        0.890949\n",
       "false negative rate        0.038495\n",
       "selection rate             0.900000\n",
       "count                  89710.000000\n",
       "dtype: float64"
      ]
     },
     "execution_count": 74,
     "metadata": {},
     "output_type": "execute_result"
    }
   ],
   "source": [
    "metric_frame.overall"
   ]
  },
  {
   "cell_type": "markdown",
   "id": "e968fe9d",
   "metadata": {
    "papermill": {
     "duration": 0.027843,
     "end_time": "2025-07-30T21:22:49.058522",
     "exception": false,
     "start_time": "2025-07-30T21:22:49.030679",
     "status": "completed"
    },
    "tags": []
   },
   "source": [
    "By Group"
   ]
  },
  {
   "cell_type": "code",
   "execution_count": 75,
   "id": "ec325bce",
   "metadata": {
    "execution": {
     "iopub.execute_input": "2025-07-30T21:22:49.114625Z",
     "iopub.status.busy": "2025-07-30T21:22:49.114108Z",
     "iopub.status.idle": "2025-07-30T21:22:49.131016Z",
     "shell.execute_reply": "2025-07-30T21:22:49.130024Z"
    },
    "papermill": {
     "duration": 0.04719,
     "end_time": "2025-07-30T21:22:49.132529",
     "exception": false,
     "start_time": "2025-07-30T21:22:49.085339",
     "status": "completed"
    },
    "tags": []
   },
   "outputs": [
    {
     "data": {
      "text/html": [
       "<div>\n",
       "<style scoped>\n",
       "    .dataframe tbody tr th:only-of-type {\n",
       "        vertical-align: middle;\n",
       "    }\n",
       "\n",
       "    .dataframe tbody tr th {\n",
       "        vertical-align: top;\n",
       "    }\n",
       "\n",
       "    .dataframe thead th {\n",
       "        text-align: right;\n",
       "    }\n",
       "</style>\n",
       "<table border=\"1\" class=\"dataframe\">\n",
       "  <thead>\n",
       "    <tr style=\"text-align: right;\">\n",
       "      <th></th>\n",
       "      <th>accuracy</th>\n",
       "      <th>balanced accuracy</th>\n",
       "      <th>f1</th>\n",
       "      <th>precision</th>\n",
       "      <th>false positive rate</th>\n",
       "      <th>false negative rate</th>\n",
       "      <th>selection rate</th>\n",
       "      <th>count</th>\n",
       "    </tr>\n",
       "    <tr>\n",
       "      <th>majmin</th>\n",
       "      <th></th>\n",
       "      <th></th>\n",
       "      <th></th>\n",
       "      <th></th>\n",
       "      <th></th>\n",
       "      <th></th>\n",
       "      <th></th>\n",
       "      <th></th>\n",
       "    </tr>\n",
       "  </thead>\n",
       "  <tbody>\n",
       "    <tr>\n",
       "      <th>majority</th>\n",
       "      <td>0.241232</td>\n",
       "      <td>0.543699</td>\n",
       "      <td>0.249564</td>\n",
       "      <td>0.143541</td>\n",
       "      <td>0.867416</td>\n",
       "      <td>0.045186</td>\n",
       "      <td>0.878965</td>\n",
       "      <td>69170.0</td>\n",
       "    </tr>\n",
       "    <tr>\n",
       "      <th>minority</th>\n",
       "      <td>0.141529</td>\n",
       "      <td>0.509321</td>\n",
       "      <td>0.209602</td>\n",
       "      <td>0.117246</td>\n",
       "      <td>0.968688</td>\n",
       "      <td>0.012669</td>\n",
       "      <td>0.970837</td>\n",
       "      <td>20540.0</td>\n",
       "    </tr>\n",
       "  </tbody>\n",
       "</table>\n",
       "</div>"
      ],
      "text/plain": [
       "          accuracy  balanced accuracy        f1  precision  \\\n",
       "majmin                                                       \n",
       "majority  0.241232           0.543699  0.249564   0.143541   \n",
       "minority  0.141529           0.509321  0.209602   0.117246   \n",
       "\n",
       "          false positive rate  false negative rate  selection rate    count  \n",
       "majmin                                                                       \n",
       "majority             0.867416             0.045186        0.878965  69170.0  \n",
       "minority             0.968688             0.012669        0.970837  20540.0  "
      ]
     },
     "execution_count": 75,
     "metadata": {},
     "output_type": "execute_result"
    }
   ],
   "source": [
    "metric_frame.by_group"
   ]
  },
  {
   "cell_type": "code",
   "execution_count": 76,
   "id": "a9ddbe63",
   "metadata": {
    "execution": {
     "iopub.execute_input": "2025-07-30T21:22:49.189856Z",
     "iopub.status.busy": "2025-07-30T21:22:49.189162Z",
     "iopub.status.idle": "2025-07-30T21:22:51.386690Z",
     "shell.execute_reply": "2025-07-30T21:22:51.385957Z"
    },
    "papermill": {
     "duration": 2.228196,
     "end_time": "2025-07-30T21:22:51.388335",
     "exception": false,
     "start_time": "2025-07-30T21:22:49.160139",
     "status": "completed"
    },
    "tags": []
   },
   "outputs": [
    {
     "data": {
      "text/plain": [
       "array([[<Axes: title={'center': 'accuracy'}, xlabel='majmin'>,\n",
       "        <Axes: title={'center': 'balanced accuracy'}, xlabel='majmin'>,\n",
       "        <Axes: title={'center': 'f1'}, xlabel='majmin'>],\n",
       "       [<Axes: title={'center': 'precision'}, xlabel='majmin'>,\n",
       "        <Axes: title={'center': 'false positive rate'}, xlabel='majmin'>,\n",
       "        <Axes: title={'center': 'false negative rate'}, xlabel='majmin'>],\n",
       "       [<Axes: title={'center': 'selection rate'}, xlabel='majmin'>,\n",
       "        <Axes: title={'center': 'count'}, xlabel='majmin'>,\n",
       "        <Axes: xlabel='majmin'>]], dtype=object)"
      ]
     },
     "execution_count": 76,
     "metadata": {},
     "output_type": "execute_result"
    },
    {
     "data": {
      "image/png": "[encoded data removed]",
      "text/plain": [
       "<Figure size 1200x800 with 9 Axes>"
      ]
     },
     "metadata": {},
     "output_type": "display_data"
    }
   ],
   "source": [
    "# In a graphic\n",
    "metric_frame.by_group.plot.bar(\n",
    "    subplots=True,\n",
    "    layout=[3, 3],\n",
    "    legend=False,\n",
    "    figsize=[12, 8],\n",
    "    title=\"Show all metrics\",\n",
    ")"
   ]
  },
  {
   "cell_type": "markdown",
   "id": "f57a0bac",
   "metadata": {
    "papermill": {
     "duration": 0.034091,
     "end_time": "2025-07-30T21:22:51.456294",
     "exception": false,
     "start_time": "2025-07-30T21:22:51.422203",
     "status": "completed"
    },
    "tags": []
   },
   "source": [
    "# Final Output"
   ]
  },
  {
   "cell_type": "code",
   "execution_count": 77,
   "id": "96d280a3",
   "metadata": {
    "execution": {
     "iopub.execute_input": "2025-07-30T21:22:51.527279Z",
     "iopub.status.busy": "2025-07-30T21:22:51.526543Z",
     "iopub.status.idle": "2025-07-30T21:22:51.535928Z",
     "shell.execute_reply": "2025-07-30T21:22:51.534704Z"
    },
    "papermill": {
     "duration": 0.04717,
     "end_time": "2025-07-30T21:22:51.537831",
     "exception": false,
     "start_time": "2025-07-30T21:22:51.490661",
     "status": "completed"
    },
    "tags": []
   },
   "outputs": [
    {
     "data": {
      "text/plain": [
       "4"
      ]
     },
     "execution_count": 77,
     "metadata": {},
     "output_type": "execute_result"
    }
   ],
   "source": [
    "sub_universes = universe_analysis.generate_sub_universes()\n",
    "len(sub_universes)"
   ]
  },
  {
   "cell_type": "code",
   "execution_count": 78,
   "id": "92adf7ba",
   "metadata": {
    "execution": {
     "iopub.execute_input": "2025-07-30T21:22:51.609923Z",
     "iopub.status.busy": "2025-07-30T21:22:51.609173Z",
     "iopub.status.idle": "2025-07-30T21:22:51.617716Z",
     "shell.execute_reply": "2025-07-30T21:22:51.615121Z"
    },
    "papermill": {
     "duration": 0.046187,
     "end_time": "2025-07-30T21:22:51.620001",
     "exception": false,
     "start_time": "2025-07-30T21:22:51.573814",
     "status": "completed"
    },
    "tags": []
   },
   "outputs": [],
   "source": [
    "def filter_sub_universe_data(sub_universe, org_test):\n",
    "    # Keep all rows — no filtering\n",
    "    keep_rows_mask = np.ones(org_test.shape[0], dtype=bool)\n",
    "\n",
    "    print(f\"[INFO] Keeping all rows: {keep_rows_mask.sum()} rows retained.\")\n",
    "    return keep_rows_mask"
   ]
  },
  {
   "cell_type": "code",
   "execution_count": 79,
   "id": "4a759155",
   "metadata": {
    "execution": {
     "iopub.execute_input": "2025-07-30T21:22:51.681263Z",
     "iopub.status.busy": "2025-07-30T21:22:51.680743Z",
     "iopub.status.idle": "2025-07-30T21:23:02.027921Z",
     "shell.execute_reply": "2025-07-30T21:23:02.027027Z"
    },
    "papermill": {
     "duration": 10.377831,
     "end_time": "2025-07-30T21:23:02.029759",
     "exception": false,
     "start_time": "2025-07-30T21:22:51.651928",
     "status": "completed"
    },
    "tags": []
   },
   "outputs": [
    {
     "name": "stdout",
     "output_type": "stream",
     "text": [
      "Stopping execution_time clock.\n",
      "[INFO] Keeping all rows: 89710 rows retained.\n"
     ]
    },
    {
     "name": "stdout",
     "output_type": "stream",
     "text": [
      "[INFO] Keeping all rows: 89710 rows retained.\n"
     ]
    },
    {
     "name": "stdout",
     "output_type": "stream",
     "text": [
      "[INFO] Keeping all rows: 89710 rows retained.\n"
     ]
    },
    {
     "name": "stdout",
     "output_type": "stream",
     "text": [
      "[INFO] Keeping all rows: 89710 rows retained.\n"
     ]
    },
    {
     "data": {
      "text/html": [
       "<div>\n",
       "<style scoped>\n",
       "    .dataframe tbody tr th:only-of-type {\n",
       "        vertical-align: middle;\n",
       "    }\n",
       "\n",
       "    .dataframe tbody tr th {\n",
       "        vertical-align: top;\n",
       "    }\n",
       "\n",
       "    .dataframe thead th {\n",
       "        text-align: right;\n",
       "    }\n",
       "</style>\n",
       "<table border=\"1\" class=\"dataframe\">\n",
       "  <thead>\n",
       "    <tr style=\"text-align: right;\">\n",
       "      <th></th>\n",
       "      <th>run_no</th>\n",
       "      <th>universe_id</th>\n",
       "      <th>universe_settings</th>\n",
       "      <th>execution_time</th>\n",
       "      <th>test_size_n</th>\n",
       "      <th>test_size_frac</th>\n",
       "      <th>fair_main_equalized_odds_difference</th>\n",
       "      <th>fair_main_equalized_odds_ratio</th>\n",
       "      <th>fair_main_demographic_parity_difference</th>\n",
       "      <th>fair_main_demographic_parity_ratio</th>\n",
       "      <th>...</th>\n",
       "      <th>perf_grp_precision_0</th>\n",
       "      <th>perf_grp_precision_1</th>\n",
       "      <th>perf_grp_false positive rate_0</th>\n",
       "      <th>perf_grp_false positive rate_1</th>\n",
       "      <th>perf_grp_false negative rate_0</th>\n",
       "      <th>perf_grp_false negative rate_1</th>\n",
       "      <th>perf_grp_selection rate_0</th>\n",
       "      <th>perf_grp_selection rate_1</th>\n",
       "      <th>perf_grp_count_0</th>\n",
       "      <th>perf_grp_count_1</th>\n",
       "    </tr>\n",
       "  </thead>\n",
       "  <tbody>\n",
       "    <tr>\n",
       "      <th>0</th>\n",
       "      <td>14</td>\n",
       "      <td>e35d6e2b7a7449e3ccfcd0ba6a268185</td>\n",
       "      <td>{\"cutoff\": \"quantile_0.1\", \"eval_fairness_grou...</td>\n",
       "      <td>90.124129</td>\n",
       "      <td>89710</td>\n",
       "      <td>1.0</td>\n",
       "      <td>0.101272</td>\n",
       "      <td>0.895455</td>\n",
       "      <td>0.091873</td>\n",
       "      <td>0.905368</td>\n",
       "      <td>...</td>\n",
       "      <td>NaN</td>\n",
       "      <td>NaN</td>\n",
       "      <td>NaN</td>\n",
       "      <td>NaN</td>\n",
       "      <td>NaN</td>\n",
       "      <td>NaN</td>\n",
       "      <td>NaN</td>\n",
       "      <td>NaN</td>\n",
       "      <td>NaN</td>\n",
       "      <td>NaN</td>\n",
       "    </tr>\n",
       "    <tr>\n",
       "      <th>0</th>\n",
       "      <td>14</td>\n",
       "      <td>e35d6e2b7a7449e3ccfcd0ba6a268185</td>\n",
       "      <td>{\"cutoff\": \"quantile_0.1\", \"eval_fairness_grou...</td>\n",
       "      <td>90.124129</td>\n",
       "      <td>89710</td>\n",
       "      <td>1.0</td>\n",
       "      <td>0.101272</td>\n",
       "      <td>0.895455</td>\n",
       "      <td>0.091873</td>\n",
       "      <td>0.905368</td>\n",
       "      <td>...</td>\n",
       "      <td>0.117246</td>\n",
       "      <td>0.143541</td>\n",
       "      <td>0.968688</td>\n",
       "      <td>0.867416</td>\n",
       "      <td>0.012669</td>\n",
       "      <td>0.045186</td>\n",
       "      <td>0.970837</td>\n",
       "      <td>0.878965</td>\n",
       "      <td>20540.0</td>\n",
       "      <td>69170.0</td>\n",
       "    </tr>\n",
       "    <tr>\n",
       "      <th>0</th>\n",
       "      <td>14</td>\n",
       "      <td>e35d6e2b7a7449e3ccfcd0ba6a268185</td>\n",
       "      <td>{\"cutoff\": \"quantile_0.25\", \"eval_fairness_gro...</td>\n",
       "      <td>90.124129</td>\n",
       "      <td>89710</td>\n",
       "      <td>1.0</td>\n",
       "      <td>0.242009</td>\n",
       "      <td>0.735901</td>\n",
       "      <td>0.221575</td>\n",
       "      <td>0.759377</td>\n",
       "      <td>...</td>\n",
       "      <td>NaN</td>\n",
       "      <td>NaN</td>\n",
       "      <td>NaN</td>\n",
       "      <td>NaN</td>\n",
       "      <td>NaN</td>\n",
       "      <td>NaN</td>\n",
       "      <td>NaN</td>\n",
       "      <td>NaN</td>\n",
       "      <td>NaN</td>\n",
       "      <td>NaN</td>\n",
       "    </tr>\n",
       "    <tr>\n",
       "      <th>0</th>\n",
       "      <td>14</td>\n",
       "      <td>e35d6e2b7a7449e3ccfcd0ba6a268185</td>\n",
       "      <td>{\"cutoff\": \"quantile_0.25\", \"eval_fairness_gro...</td>\n",
       "      <td>90.124129</td>\n",
       "      <td>89710</td>\n",
       "      <td>1.0</td>\n",
       "      <td>0.242009</td>\n",
       "      <td>0.735901</td>\n",
       "      <td>0.221575</td>\n",
       "      <td>0.759377</td>\n",
       "      <td>...</td>\n",
       "      <td>0.119594</td>\n",
       "      <td>0.163062</td>\n",
       "      <td>0.916355</td>\n",
       "      <td>0.674346</td>\n",
       "      <td>0.044764</td>\n",
       "      <td>0.137090</td>\n",
       "      <td>0.920837</td>\n",
       "      <td>0.699263</td>\n",
       "      <td>20540.0</td>\n",
       "      <td>69170.0</td>\n",
       "    </tr>\n",
       "  </tbody>\n",
       "</table>\n",
       "<p>4 rows × 50 columns</p>\n",
       "</div>"
      ],
      "text/plain": [
       "  run_no                       universe_id  \\\n",
       "0     14  e35d6e2b7a7449e3ccfcd0ba6a268185   \n",
       "0     14  e35d6e2b7a7449e3ccfcd0ba6a268185   \n",
       "0     14  e35d6e2b7a7449e3ccfcd0ba6a268185   \n",
       "0     14  e35d6e2b7a7449e3ccfcd0ba6a268185   \n",
       "\n",
       "                                   universe_settings  execution_time  \\\n",
       "0  {\"cutoff\": \"quantile_0.1\", \"eval_fairness_grou...       90.124129   \n",
       "0  {\"cutoff\": \"quantile_0.1\", \"eval_fairness_grou...       90.124129   \n",
       "0  {\"cutoff\": \"quantile_0.25\", \"eval_fairness_gro...       90.124129   \n",
       "0  {\"cutoff\": \"quantile_0.25\", \"eval_fairness_gro...       90.124129   \n",
       "\n",
       "   test_size_n  test_size_frac  fair_main_equalized_odds_difference  \\\n",
       "0        89710             1.0                             0.101272   \n",
       "0        89710             1.0                             0.101272   \n",
       "0        89710             1.0                             0.242009   \n",
       "0        89710             1.0                             0.242009   \n",
       "\n",
       "   fair_main_equalized_odds_ratio  fair_main_demographic_parity_difference  \\\n",
       "0                        0.895455                                 0.091873   \n",
       "0                        0.895455                                 0.091873   \n",
       "0                        0.735901                                 0.221575   \n",
       "0                        0.735901                                 0.221575   \n",
       "\n",
       "   fair_main_demographic_parity_ratio  ...  perf_grp_precision_0  \\\n",
       "0                            0.905368  ...                   NaN   \n",
       "0                            0.905368  ...              0.117246   \n",
       "0                            0.759377  ...                   NaN   \n",
       "0                            0.759377  ...              0.119594   \n",
       "\n",
       "   perf_grp_precision_1  perf_grp_false positive rate_0  \\\n",
       "0                   NaN                             NaN   \n",
       "0              0.143541                        0.968688   \n",
       "0                   NaN                             NaN   \n",
       "0              0.163062                        0.916355   \n",
       "\n",
       "   perf_grp_false positive rate_1  perf_grp_false negative rate_0  \\\n",
       "0                             NaN                             NaN   \n",
       "0                        0.867416                        0.012669   \n",
       "0                             NaN                             NaN   \n",
       "0                        0.674346                        0.044764   \n",
       "\n",
       "   perf_grp_false negative rate_1  perf_grp_selection rate_0  \\\n",
       "0                             NaN                        NaN   \n",
       "0                        0.045186                   0.970837   \n",
       "0                             NaN                        NaN   \n",
       "0                        0.137090                   0.920837   \n",
       "\n",
       "   perf_grp_selection rate_1  perf_grp_count_0  perf_grp_count_1  \n",
       "0                        NaN               NaN               NaN  \n",
       "0                   0.878965           20540.0           69170.0  \n",
       "0                        NaN               NaN               NaN  \n",
       "0                   0.699263           20540.0           69170.0  \n",
       "\n",
       "[4 rows x 50 columns]"
      ]
     },
     "execution_count": 79,
     "metadata": {},
     "output_type": "execute_result"
    }
   ],
   "source": [
    "final_output = universe_analysis.generate_final_output(\n",
    "    y_pred_prob=probs_test,\n",
    "    y_test=y_true,\n",
    "    org_test=org_test,\n",
    "    filter_data=filter_sub_universe_data,\n",
    "    cp_metrics_df=cp_metrics_df,\n",
    "    save=True,\n",
    ")\n",
    "final_output"
   ]
  },
  {
   "cell_type": "code",
   "execution_count": null,
   "id": "721ff514-cb11-46f8-b6fc-50392f74b5cb",
   "metadata": {
    "papermill": {
     "duration": 0.027221,
     "end_time": "2025-07-30T21:23:02.091945",
     "exception": false,
     "start_time": "2025-07-30T21:23:02.064724",
     "status": "completed"
    },
    "tags": []
   },
   "outputs": [],
   "source": []
  }
 ],
 "metadata": {
  "celltoolbar": "Tags",
  "kernelspec": {
   "display_name": "Python (CMA Fairness)",
   "language": "python",
   "name": "cma_fair_env"
  },
  "language_info": {
   "codemirror_mode": {
    "name": "ipython",
    "version": 3
   },
   "file_extension": ".py",
   "mimetype": "text/x-python",
   "name": "python",
   "nbconvert_exporter": "python",
   "pygments_lexer": "ipython3",
   "version": "3.10.12"
  },
  "papermill": {
   "default_parameters": {},
   "duration": 104.465987,
   "end_time": "2025-07-30T21:23:02.740691",
   "environment_variables": {},
   "exception": null,
   "input_path": "universe_analysis.ipynb",
   "output_path": "output/runs/14/notebooks/m_14-e35d6e2b7a7449e3ccfcd0ba6a268185.ipynb",
   "parameters": {
    "output_dir": "output",
    "run_no": "14",
    "seed": "2023",
    "universe": "{\"cutoff\": [\"quantile_0.1\", \"quantile_0.25\"], \"eval_fairness_grouping\": [\"majority-minority\", \"nationality-all\"], \"exclude_features\": \"age\", \"exclude_subgroups\": \"keep-all\", \"model\": \"elasticnet\", \"scale\": \"do-not-scale\", \"training_size\": \"5k\", \"training_year\": \"2010_14\"}",
    "universe_id": "e35d6e2b7a7449e3ccfcd0ba6a268185"
   },
   "start_time": "2025-07-30T21:21:18.274704",
   "version": "2.6.0"
  }
 },
 "nbformat": 4,
 "nbformat_minor": 5
}