{
 "cells": [
  {
   "cell_type": "code",
   "execution_count": 1,
   "id": "f159f837-637b-42ba-96b5-ec9a68c44524",
   "metadata": {
    "execution": {
     "iopub.execute_input": "2025-07-30T21:32:19.265709Z",
     "iopub.status.busy": "2025-07-30T21:32:19.265117Z",
     "iopub.status.idle": "2025-07-30T21:32:19.282588Z",
     "shell.execute_reply": "2025-07-30T21:32:19.281452Z"
    },
    "papermill": {
     "duration": 0.041732,
     "end_time": "2025-07-30T21:32:19.285145",
     "exception": false,
     "start_time": "2025-07-30T21:32:19.243413",
     "status": "completed"
    },
    "tags": []
   },
   "outputs": [
    {
     "name": "stdout",
     "output_type": "stream",
     "text": [
      "/dss/dsshome1/0C/ra93lal2/cma/CMA_Fairness_v2\n"
     ]
    },
    {
     "name": "stderr",
     "output_type": "stream",
     "text": [
      "/dss/dsshome1/0C/ra93lal2/.local/share/virtualenvs/CMA_Fairness_v2-3j10GkSs/lib/python3.10/site-packages/IPython/core/magics/osm.py:393: UserWarning: This is now an optional IPython functionality, using bookmarks requires you to install the `pickleshare` library.\n",
      "  bkms = self.shell.db.get('bookmarks', {})\n",
      "/dss/dsshome1/0C/ra93lal2/.local/share/virtualenvs/CMA_Fairness_v2-3j10GkSs/lib/python3.10/site-packages/IPython/core/magics/osm.py:417: UserWarning: This is now an optional IPython functionality, setting dhist requires you to install the `pickleshare` library.\n",
      "  self.shell.db['dhist'] = compress_dhist(dhist)[-100:]\n"
     ]
    }
   ],
   "source": [
    "%cd ~/cma/CMA_Fairness_v2"
   ]
  },
  {
   "cell_type": "markdown",
   "id": "de2603b9",
   "metadata": {
    "papermill": {
     "duration": 0.018202,
     "end_time": "2025-07-30T21:32:19.326915",
     "exception": false,
     "start_time": "2025-07-30T21:32:19.308713",
     "status": "completed"
    },
    "tags": []
   },
   "source": [
    "The following cell holds the definition of our parameters, these values can be overriden by rendering the with e.g. the following command:\n",
    "\n",
    "papermill -p alpha 0.2 -p ratio 0.3 universe_analysis.ipynb output/test_run.ipynb"
   ]
  },
  {
   "cell_type": "code",
   "execution_count": 2,
   "id": "a80968a0-40bb-4fa9-85ef-2d5eefb01975",
   "metadata": {
    "execution": {
     "iopub.execute_input": "2025-07-30T21:32:19.354929Z",
     "iopub.status.busy": "2025-07-30T21:32:19.354592Z",
     "iopub.status.idle": "2025-07-30T21:32:19.359369Z",
     "shell.execute_reply": "2025-07-30T21:32:19.358638Z"
    },
    "papermill": {
     "duration": 0.018085,
     "end_time": "2025-07-30T21:32:19.360816",
     "exception": false,
     "start_time": "2025-07-30T21:32:19.342731",
     "status": "completed"
    },
    "tags": []
   },
   "outputs": [
    {
     "name": "stdout",
     "output_type": "stream",
     "text": [
      "Current working directory: /dss/dsshome1/0C/ra93lal2/cma/CMA_Fairness_v2\n"
     ]
    }
   ],
   "source": [
    "import os\n",
    "print(\"Current working directory:\", os.getcwd())"
   ]
  },
  {
   "cell_type": "code",
   "execution_count": 3,
   "id": "2dce4c03",
   "metadata": {
    "execution": {
     "iopub.execute_input": "2025-07-30T21:32:19.383611Z",
     "iopub.status.busy": "2025-07-30T21:32:19.383271Z",
     "iopub.status.idle": "2025-07-30T21:32:19.388201Z",
     "shell.execute_reply": "2025-07-30T21:32:19.387451Z"
    },
    "papermill": {
     "duration": 0.017789,
     "end_time": "2025-07-30T21:32:19.389566",
     "exception": false,
     "start_time": "2025-07-30T21:32:19.371777",
     "status": "completed"
    },
    "tags": [
     "parameters"
    ]
   },
   "outputs": [],
   "source": [
    "run_no = 0\n",
    "universe_id = \"test\"\n",
    "universe = {\n",
    "    \"training_size\": \"25k\", # \"25k\", \"5k\", \"1k\"\n",
    "    \"training_year\": \"2014\", # \"2014\", \"2012_14\", \"2010_14\"\n",
    "    \"scale\": \"scale\", # \"scale\", \"do-not-scale\",\n",
    "    #\"stratify_split\": \"target\", # \"none\", \"target\", \"protected-attribute\", \"both\",\n",
    "    \"model\": \"elasticnet\", # \"logreg\", \"penalized_logreg\", \"rf\", \"gbm\", \"elasticnet\"\n",
    "    \"cutoff\": [\"quantile_0.15\", \"quantile_0.30\"],\n",
    "    \"exclude_features\": \"age\", # \"none\", \"nationality\", \"sex\", \"nationality-sex\", \"age\"\n",
    "    \"exclude_subgroups\": \"keep-all\", # \"keep-all\", \"drop-non-german\"\n",
    "    \"eval_fairness_grouping\": [\"majority-minority\", \"nationality-all\"]\n",
    "}\n",
    "\n",
    "output_dir=\"./output\"\n",
    "seed=0"
   ]
  },
  {
   "cell_type": "code",
   "execution_count": 4,
   "id": "f23c8cd9",
   "metadata": {
    "execution": {
     "iopub.execute_input": "2025-07-30T21:32:19.430987Z",
     "iopub.status.busy": "2025-07-30T21:32:19.430499Z",
     "iopub.status.idle": "2025-07-30T21:32:19.436354Z",
     "shell.execute_reply": "2025-07-30T21:32:19.435152Z"
    },
    "papermill": {
     "duration": 0.034654,
     "end_time": "2025-07-30T21:32:19.438368",
     "exception": false,
     "start_time": "2025-07-30T21:32:19.403714",
     "status": "completed"
    },
    "tags": [
     "injected-parameters"
    ]
   },
   "outputs": [],
   "source": [
    "# Parameters\n",
    "universe_id = \"12ef4eeb910ad56472244a2be83a4181\"\n",
    "run_no = \"14\"\n",
    "universe = \"{\\\"cutoff\\\": [\\\"quantile_0.1\\\", \\\"quantile_0.25\\\"], \\\"eval_fairness_grouping\\\": [\\\"majority-minority\\\", \\\"nationality-all\\\"], \\\"exclude_features\\\": \\\"age\\\", \\\"exclude_subgroups\\\": \\\"drop-non-german\\\", \\\"model\\\": \\\"elasticnet\\\", \\\"scale\\\": \\\"do-not-scale\\\", \\\"training_size\\\": \\\"1k\\\", \\\"training_year\\\": \\\"2014\\\"}\"\n",
    "output_dir = \"output\"\n",
    "seed = \"2023\"\n"
   ]
  },
  {
   "cell_type": "code",
   "execution_count": 5,
   "id": "1650acaf",
   "metadata": {
    "execution": {
     "iopub.execute_input": "2025-07-30T21:32:19.491362Z",
     "iopub.status.busy": "2025-07-30T21:32:19.490858Z",
     "iopub.status.idle": "2025-07-30T21:32:19.497281Z",
     "shell.execute_reply": "2025-07-30T21:32:19.495450Z"
    },
    "papermill": {
     "duration": 0.034862,
     "end_time": "2025-07-30T21:32:19.498486",
     "exception": false,
     "start_time": "2025-07-30T21:32:19.463624",
     "status": "completed"
    },
    "tags": []
   },
   "outputs": [],
   "source": [
    "import json\n",
    "# Parse universe into dict if it is passed as a string\n",
    "if isinstance(universe, str):\n",
    "    universe = json.loads(universe)"
   ]
  },
  {
   "cell_type": "code",
   "execution_count": 6,
   "id": "16620c48",
   "metadata": {
    "execution": {
     "iopub.execute_input": "2025-07-30T21:32:19.544818Z",
     "iopub.status.busy": "2025-07-30T21:32:19.544232Z",
     "iopub.status.idle": "2025-07-30T21:32:19.616121Z",
     "shell.execute_reply": "2025-07-30T21:32:19.615355Z"
    },
    "papermill": {
     "duration": 0.096405,
     "end_time": "2025-07-30T21:32:19.617538",
     "exception": false,
     "start_time": "2025-07-30T21:32:19.521133",
     "status": "completed"
    },
    "tags": []
   },
   "outputs": [],
   "source": [
    "# Auto-reload the custom package\n",
    "%load_ext autoreload\n",
    "%autoreload 1\n",
    "%aimport fairness_multiverse"
   ]
  },
  {
   "cell_type": "code",
   "execution_count": 7,
   "id": "01c5c9f3",
   "metadata": {
    "execution": {
     "iopub.execute_input": "2025-07-30T21:32:19.643383Z",
     "iopub.status.busy": "2025-07-30T21:32:19.643049Z",
     "iopub.status.idle": "2025-07-30T21:32:21.446644Z",
     "shell.execute_reply": "2025-07-30T21:32:21.445558Z"
    },
    "papermill": {
     "duration": 1.820205,
     "end_time": "2025-07-30T21:32:21.449002",
     "exception": false,
     "start_time": "2025-07-30T21:32:19.628797",
     "status": "completed"
    },
    "tags": []
   },
   "outputs": [],
   "source": [
    "from fairness_multiverse.universe import UniverseAnalysis\n",
    "\n",
    "universe_analysis = UniverseAnalysis(\n",
    "    run_no = run_no,\n",
    "    universe_id = universe_id,\n",
    "    universe = universe,\n",
    "    output_dir=output_dir,\n",
    ")"
   ]
  },
  {
   "cell_type": "code",
   "execution_count": 8,
   "id": "106241f5",
   "metadata": {
    "execution": {
     "iopub.execute_input": "2025-07-30T21:32:21.493537Z",
     "iopub.status.busy": "2025-07-30T21:32:21.492896Z",
     "iopub.status.idle": "2025-07-30T21:32:21.500643Z",
     "shell.execute_reply": "2025-07-30T21:32:21.499596Z"
    },
    "papermill": {
     "duration": 0.032279,
     "end_time": "2025-07-30T21:32:21.503111",
     "exception": false,
     "start_time": "2025-07-30T21:32:21.470832",
     "status": "completed"
    },
    "tags": []
   },
   "outputs": [
    {
     "name": "stdout",
     "output_type": "stream",
     "text": [
      "Using Seed: 2023\n"
     ]
    }
   ],
   "source": [
    "import numpy as np\n",
    "parsed_seed = int(seed)\n",
    "np.random.seed(parsed_seed)\n",
    "print(f\"Using Seed: {parsed_seed}\")"
   ]
  },
  {
   "cell_type": "markdown",
   "id": "e0ebdc57",
   "metadata": {
    "papermill": {
     "duration": 0.021983,
     "end_time": "2025-07-30T21:32:21.542007",
     "exception": false,
     "start_time": "2025-07-30T21:32:21.520024",
     "status": "completed"
    },
    "tags": []
   },
   "source": [
    "# Loading Data"
   ]
  },
  {
   "cell_type": "markdown",
   "id": "681925a3",
   "metadata": {
    "papermill": {
     "duration": 0.017282,
     "end_time": "2025-07-30T21:32:21.581435",
     "exception": false,
     "start_time": "2025-07-30T21:32:21.564153",
     "status": "completed"
    },
    "tags": []
   },
   "source": [
    "Load siab_train, siab_test, siab_calib and/or \n",
    "load siab_train_features, siab_train_labels"
   ]
  },
  {
   "cell_type": "code",
   "execution_count": 9,
   "id": "f0496b8a",
   "metadata": {
    "execution": {
     "iopub.execute_input": "2025-07-30T21:32:21.607470Z",
     "iopub.status.busy": "2025-07-30T21:32:21.607019Z",
     "iopub.status.idle": "2025-07-30T21:32:33.235798Z",
     "shell.execute_reply": "2025-07-30T21:32:33.234789Z"
    },
    "papermill": {
     "duration": 11.642252,
     "end_time": "2025-07-30T21:32:33.237344",
     "exception": false,
     "start_time": "2025-07-30T21:32:21.595092",
     "status": "completed"
    },
    "tags": []
   },
   "outputs": [
    {
     "name": "stdout",
     "output_type": "stream",
     "text": [
      "Loading SIAB data from cache: data/siab_cached.csv.gz\n"
     ]
    },
    {
     "name": "stdout",
     "output_type": "stream",
     "text": [
      "(643690, 164)\n"
     ]
    }
   ],
   "source": [
    "from pathlib import Path\n",
    "import pandas as pd\n",
    "\n",
    "# File paths\n",
    "raw_file = Path(\"data/raw/siab.csv\")\n",
    "cache_file = Path(\"data/siab_cached.csv.gz\")\n",
    "\n",
    "# Ensure cache directory exists\n",
    "cache_file.parent.mkdir(parents=True, exist_ok=True)\n",
    "\n",
    "# Load with simple caching\n",
    "if cache_file.exists():\n",
    "    print(f\"Loading SIAB data from cache: {cache_file}\")\n",
    "    siab = pd.read_csv(cache_file, compression='gzip')\n",
    "else:\n",
    "    print(f\"Cache not found. Reading raw SIAB data: {raw_file}\")\n",
    "    siab = pd.read_csv(raw_file)\n",
    "    siab.to_csv(cache_file, index=False, compression='gzip')\n",
    "    print(f\"Cached SIAB data to: {cache_file}\")\n",
    "\n",
    "# Now use `siab` DataFrame as needed\n",
    "print(siab.shape)"
   ]
  },
  {
   "cell_type": "code",
   "execution_count": 10,
   "id": "db0ca512-5f53-4dba-abdb-a2888bca41ba",
   "metadata": {
    "execution": {
     "iopub.execute_input": "2025-07-30T21:32:33.278728Z",
     "iopub.status.busy": "2025-07-30T21:32:33.278331Z",
     "iopub.status.idle": "2025-07-30T21:32:33.283972Z",
     "shell.execute_reply": "2025-07-30T21:32:33.283180Z"
    },
    "papermill": {
     "duration": 0.026639,
     "end_time": "2025-07-30T21:32:33.285449",
     "exception": false,
     "start_time": "2025-07-30T21:32:33.258810",
     "status": "completed"
    },
    "tags": []
   },
   "outputs": [],
   "source": [
    "#siab"
   ]
  },
  {
   "cell_type": "code",
   "execution_count": 11,
   "id": "a0edb063",
   "metadata": {
    "execution": {
     "iopub.execute_input": "2025-07-30T21:32:33.323659Z",
     "iopub.status.busy": "2025-07-30T21:32:33.323250Z",
     "iopub.status.idle": "2025-07-30T21:32:33.327339Z",
     "shell.execute_reply": "2025-07-30T21:32:33.326493Z"
    },
    "papermill": {
     "duration": 0.024669,
     "end_time": "2025-07-30T21:32:33.328863",
     "exception": false,
     "start_time": "2025-07-30T21:32:33.304194",
     "status": "completed"
    },
    "tags": []
   },
   "outputs": [],
   "source": [
    "#import pandas as pd\n",
    "#\n",
    "#X_train = pd.read_csv(\"./data/X_train.csv\")\n",
    "#y_train = pd.read_csv(\"./data/y_train.csv\")"
   ]
  },
  {
   "cell_type": "code",
   "execution_count": 12,
   "id": "63d08085",
   "metadata": {
    "execution": {
     "iopub.execute_input": "2025-07-30T21:32:33.367369Z",
     "iopub.status.busy": "2025-07-30T21:32:33.366729Z",
     "iopub.status.idle": "2025-07-30T21:32:33.370810Z",
     "shell.execute_reply": "2025-07-30T21:32:33.370072Z"
    },
    "papermill": {
     "duration": 0.024855,
     "end_time": "2025-07-30T21:32:33.372288",
     "exception": false,
     "start_time": "2025-07-30T21:32:33.347433",
     "status": "completed"
    },
    "tags": []
   },
   "outputs": [],
   "source": [
    "#X_test = pd.read_csv(\"./data/X_test.csv\")\n",
    "#y_true = pd.read_csv(\"./data/y_test.csv\")"
   ]
  },
  {
   "cell_type": "code",
   "execution_count": 13,
   "id": "98a8d0fa-1d3d-4ed8-bb2c-281470e24add",
   "metadata": {
    "execution": {
     "iopub.execute_input": "2025-07-30T21:32:33.410929Z",
     "iopub.status.busy": "2025-07-30T21:32:33.410276Z",
     "iopub.status.idle": "2025-07-30T21:32:33.414493Z",
     "shell.execute_reply": "2025-07-30T21:32:33.413719Z"
    },
    "papermill": {
     "duration": 0.025167,
     "end_time": "2025-07-30T21:32:33.415961",
     "exception": false,
     "start_time": "2025-07-30T21:32:33.390794",
     "status": "completed"
    },
    "tags": []
   },
   "outputs": [],
   "source": [
    "# Calibration data for conformal\n",
    "#X_calib = pd.read_csv(\"./data/X_calib.csv\")\n",
    "#y_calib = pd.read_csv(\"./data/y_calib.csv\")"
   ]
  },
  {
   "cell_type": "markdown",
   "id": "997051c5-15bd-4b69-9786-c3001a3ce484",
   "metadata": {
    "papermill": {
     "duration": 0.018911,
     "end_time": "2025-07-30T21:32:33.453583",
     "exception": false,
     "start_time": "2025-07-30T21:32:33.434672",
     "status": "completed"
    },
    "tags": []
   },
   "source": [
    "# Splitting Data and Setting Training Data Size"
   ]
  },
  {
   "cell_type": "code",
   "execution_count": 14,
   "id": "e993b61f-042d-41a6-8c81-f55681f86335",
   "metadata": {
    "execution": {
     "iopub.execute_input": "2025-07-30T21:32:33.494603Z",
     "iopub.status.busy": "2025-07-30T21:32:33.494308Z",
     "iopub.status.idle": "2025-07-30T21:32:33.506591Z",
     "shell.execute_reply": "2025-07-30T21:32:33.505829Z"
    },
    "papermill": {
     "duration": 0.033508,
     "end_time": "2025-07-30T21:32:33.508501",
     "exception": false,
     "start_time": "2025-07-30T21:32:33.474993",
     "status": "completed"
    },
    "tags": []
   },
   "outputs": [],
   "source": [
    "def sample_by_year_size(df,\n",
    "                        training_year: str,\n",
    "                        training_size: str,\n",
    "                        random_state: int = 42):\n",
    "    # --- parse training_year into a list of int years ---\n",
    "    if \"_\" in training_year:\n",
    "        start_str, end_str = training_year.split(\"_\", 1)\n",
    "        start = int(start_str)\n",
    "        end   = int(end_str) if len(end_str) == 4 else (int(end_str) + (start // 100)*100)\n",
    "        years = list(range(start, end + 1))\n",
    "    else:\n",
    "        years = [int(training_year)]\n",
    "\n",
    "    df = df[df[\"year\"].isin(years)].reset_index(drop=True)\n",
    "\n",
    "    # --- map training_size to total number of samples ---\n",
    "    total_map = {\"25k\": 25_000, \"5k\": 5_000, \"1k\": 1_000}\n",
    "    if training_size not in total_map:\n",
    "        return df  # e.g. \"all\"\n",
    "\n",
    "    total_samples = total_map[training_size]\n",
    "    n_years       = len(years)\n",
    "    base          = total_samples // n_years\n",
    "    remainder     = total_samples % n_years\n",
    "\n",
    "    # --- build a dict: year -> how many to sample ---\n",
    "    # give +1 to the first `remainder` years in ascending order\n",
    "    quotas = {\n",
    "        year: base + (1 if idx < remainder else 0)\n",
    "        for idx, year in enumerate(sorted(years))\n",
    "    }\n",
    "\n",
    "    # --- sample per‐year according to the quota dict ---\n",
    "    sampled = (\n",
    "        df\n",
    "        .groupby(\"year\", group_keys=False)\n",
    "        .apply(lambda grp: grp.sample(\n",
    "            n=min(len(grp), quotas[grp.name]),\n",
    "            random_state=random_state))\n",
    "        .reset_index(drop=True)\n",
    "    )\n",
    "\n",
    "    return sampled"
   ]
  },
  {
   "cell_type": "code",
   "execution_count": 15,
   "id": "c0ccd338-0e02-41f3-a09d-f56f9266e3fb",
   "metadata": {
    "execution": {
     "iopub.execute_input": "2025-07-30T21:32:33.552658Z",
     "iopub.status.busy": "2025-07-30T21:32:33.552351Z",
     "iopub.status.idle": "2025-07-30T21:32:33.556138Z",
     "shell.execute_reply": "2025-07-30T21:32:33.555270Z"
    },
    "papermill": {
     "duration": 0.0291,
     "end_time": "2025-07-30T21:32:33.559225",
     "exception": false,
     "start_time": "2025-07-30T21:32:33.530125",
     "status": "completed"
    },
    "tags": []
   },
   "outputs": [],
   "source": [
    "#universe[\"training_size\"]"
   ]
  },
  {
   "cell_type": "code",
   "execution_count": 16,
   "id": "ca707fd7-8047-4acd-bfa5-66248fbbf8e6",
   "metadata": {
    "execution": {
     "iopub.execute_input": "2025-07-30T21:32:33.600687Z",
     "iopub.status.busy": "2025-07-30T21:32:33.599746Z",
     "iopub.status.idle": "2025-07-30T21:32:33.605160Z",
     "shell.execute_reply": "2025-07-30T21:32:33.603977Z"
    },
    "papermill": {
     "duration": 0.028486,
     "end_time": "2025-07-30T21:32:33.607285",
     "exception": false,
     "start_time": "2025-07-30T21:32:33.578799",
     "status": "completed"
    },
    "tags": []
   },
   "outputs": [],
   "source": [
    "#universe[\"training_year\"]"
   ]
  },
  {
   "cell_type": "code",
   "execution_count": 17,
   "id": "aea9c6ef-6f46-42c8-85eb-5a62025c1508",
   "metadata": {
    "execution": {
     "iopub.execute_input": "2025-07-30T21:32:33.653433Z",
     "iopub.status.busy": "2025-07-30T21:32:33.653096Z",
     "iopub.status.idle": "2025-07-30T21:32:33.874283Z",
     "shell.execute_reply": "2025-07-30T21:32:33.873558Z"
    },
    "papermill": {
     "duration": 0.240754,
     "end_time": "2025-07-30T21:32:33.875825",
     "exception": false,
     "start_time": "2025-07-30T21:32:33.635071",
     "status": "completed"
    },
    "tags": []
   },
   "outputs": [],
   "source": [
    "siab_train = sample_by_year_size(siab,\n",
    "                               training_year=universe[\"training_year\"],\n",
    "                               training_size=universe[\"training_size\"])"
   ]
  },
  {
   "cell_type": "code",
   "execution_count": 18,
   "id": "8d3afb32-789d-442c-8d5d-9f5aa8dd2eed",
   "metadata": {
    "execution": {
     "iopub.execute_input": "2025-07-30T21:32:33.898384Z",
     "iopub.status.busy": "2025-07-30T21:32:33.897995Z",
     "iopub.status.idle": "2025-07-30T21:32:33.901725Z",
     "shell.execute_reply": "2025-07-30T21:32:33.901008Z"
    },
    "papermill": {
     "duration": 0.01588,
     "end_time": "2025-07-30T21:32:33.902856",
     "exception": false,
     "start_time": "2025-07-30T21:32:33.886976",
     "status": "completed"
    },
    "tags": []
   },
   "outputs": [],
   "source": [
    "#siab_train.shape"
   ]
  },
  {
   "cell_type": "code",
   "execution_count": 19,
   "id": "d582db68-1a4c-47fb-84fc-08518dc1975a",
   "metadata": {
    "execution": {
     "iopub.execute_input": "2025-07-30T21:32:33.928942Z",
     "iopub.status.busy": "2025-07-30T21:32:33.928325Z",
     "iopub.status.idle": "2025-07-30T21:32:33.932393Z",
     "shell.execute_reply": "2025-07-30T21:32:33.931676Z"
    },
    "papermill": {
     "duration": 0.01658,
     "end_time": "2025-07-30T21:32:33.933645",
     "exception": false,
     "start_time": "2025-07-30T21:32:33.917065",
     "status": "completed"
    },
    "tags": []
   },
   "outputs": [],
   "source": [
    "#display(siab_train.groupby(\"year\").size())"
   ]
  },
  {
   "cell_type": "code",
   "execution_count": 20,
   "id": "a561edb4-d032-42cb-8256-22eac1111c64",
   "metadata": {
    "execution": {
     "iopub.execute_input": "2025-07-30T21:32:33.955708Z",
     "iopub.status.busy": "2025-07-30T21:32:33.955178Z",
     "iopub.status.idle": "2025-07-30T21:32:34.207568Z",
     "shell.execute_reply": "2025-07-30T21:32:34.206796Z"
    },
    "papermill": {
     "duration": 0.264807,
     "end_time": "2025-07-30T21:32:34.209124",
     "exception": false,
     "start_time": "2025-07-30T21:32:33.944317",
     "status": "completed"
    },
    "tags": []
   },
   "outputs": [],
   "source": [
    "#siab_train = siab_s[siab_s.year < 2015]\n",
    "siab_calib = siab[siab.year == 2015]\n",
    "siab_test = siab[siab.year == 2016]"
   ]
  },
  {
   "cell_type": "code",
   "execution_count": 21,
   "id": "472de16f-c3db-4916-846b-1f0de9cf1746",
   "metadata": {
    "execution": {
     "iopub.execute_input": "2025-07-30T21:32:34.233021Z",
     "iopub.status.busy": "2025-07-30T21:32:34.231577Z",
     "iopub.status.idle": "2025-07-30T21:32:34.239228Z",
     "shell.execute_reply": "2025-07-30T21:32:34.238267Z"
    },
    "papermill": {
     "duration": 0.020336,
     "end_time": "2025-07-30T21:32:34.240729",
     "exception": false,
     "start_time": "2025-07-30T21:32:34.220393",
     "status": "completed"
    },
    "tags": []
   },
   "outputs": [],
   "source": [
    "X_train = siab_train.iloc[:,4:164]\n",
    "y_train = siab_train.iloc[:, [3]]"
   ]
  },
  {
   "cell_type": "code",
   "execution_count": 22,
   "id": "828c96af-f43a-4ed6-ba47-8ac73a47d56c",
   "metadata": {
    "execution": {
     "iopub.execute_input": "2025-07-30T21:32:34.266862Z",
     "iopub.status.busy": "2025-07-30T21:32:34.266399Z",
     "iopub.status.idle": "2025-07-30T21:32:34.313690Z",
     "shell.execute_reply": "2025-07-30T21:32:34.312611Z"
    },
    "papermill": {
     "duration": 0.063871,
     "end_time": "2025-07-30T21:32:34.315476",
     "exception": false,
     "start_time": "2025-07-30T21:32:34.251605",
     "status": "completed"
    },
    "tags": []
   },
   "outputs": [],
   "source": [
    "X_calib = siab_calib.iloc[:,4:164]\n",
    "y_calib = siab_calib.iloc[:, [3]]"
   ]
  },
  {
   "cell_type": "code",
   "execution_count": 23,
   "id": "c34be9c3-6bd6-476e-acd3-845840e303be",
   "metadata": {
    "execution": {
     "iopub.execute_input": "2025-07-30T21:32:34.344136Z",
     "iopub.status.busy": "2025-07-30T21:32:34.343735Z",
     "iopub.status.idle": "2025-07-30T21:32:34.410199Z",
     "shell.execute_reply": "2025-07-30T21:32:34.409112Z"
    },
    "papermill": {
     "duration": 0.079753,
     "end_time": "2025-07-30T21:32:34.412359",
     "exception": false,
     "start_time": "2025-07-30T21:32:34.332606",
     "status": "completed"
    },
    "tags": []
   },
   "outputs": [],
   "source": [
    "X_test = siab_test.iloc[:,4:164]\n",
    "y_true = siab_test.iloc[:, [3]]"
   ]
  },
  {
   "cell_type": "markdown",
   "id": "9901737e-04df-44f0-9100-f5ad144ed040",
   "metadata": {
    "papermill": {
     "duration": 0.028547,
     "end_time": "2025-07-30T21:32:34.470755",
     "exception": false,
     "start_time": "2025-07-30T21:32:34.442208",
     "status": "completed"
    },
    "tags": []
   },
   "source": [
    "# Splitting Data and Setting Training Data Size OLD VERSION"
   ]
  },
  {
   "cell_type": "code",
   "execution_count": 24,
   "id": "acbc8f7d-8fc8-4e86-8c59-5dcb0f58384b",
   "metadata": {
    "execution": {
     "iopub.execute_input": "2025-07-30T21:32:34.517122Z",
     "iopub.status.busy": "2025-07-30T21:32:34.516625Z",
     "iopub.status.idle": "2025-07-30T21:32:34.522512Z",
     "shell.execute_reply": "2025-07-30T21:32:34.521666Z"
    },
    "papermill": {
     "duration": 0.03104,
     "end_time": "2025-07-30T21:32:34.524090",
     "exception": false,
     "start_time": "2025-07-30T21:32:34.493050",
     "status": "completed"
    },
    "tags": []
   },
   "outputs": [],
   "source": [
    "#def sample_by_year(df, training_size, random_state=42):\n",
    "#    if training_size == \"2014\":\n",
    "#        return df[df[\"year\"] == 2014].reset_index(drop=True)\n",
    "#    \n",
    "#    size_map = {\n",
    "#        \"25k\": 5000,\n",
    "#        \"5k\": 1000,\n",
    "#        \"1k\": 200\n",
    "#    }\n",
    "#\n",
    "#    if training_size not in size_map:\n",
    "#        return df.reset_index(drop=True)  # use all data\n",
    "#\n",
    "#    n_per_year = size_map[training_size]\n",
    "#    grouped = df.groupby(\"year\")\n",
    "#    sampled = grouped.apply(lambda x: x.sample(n=min(n_per_year, len(x)), random_state=random_state))\n",
    "#    return sampled.reset_index(drop=True)"
   ]
  },
  {
   "cell_type": "code",
   "execution_count": 25,
   "id": "6d931f52-beaf-43ff-9e78-9d44a448d54e",
   "metadata": {
    "execution": {
     "iopub.execute_input": "2025-07-30T21:32:34.564345Z",
     "iopub.status.busy": "2025-07-30T21:32:34.563858Z",
     "iopub.status.idle": "2025-07-30T21:32:34.568467Z",
     "shell.execute_reply": "2025-07-30T21:32:34.567411Z"
    },
    "papermill": {
     "duration": 0.026686,
     "end_time": "2025-07-30T21:32:34.570283",
     "exception": false,
     "start_time": "2025-07-30T21:32:34.543597",
     "status": "completed"
    },
    "tags": []
   },
   "outputs": [],
   "source": [
    "#siab_s = sample_by_year(siab, universe[\"training_size\"])"
   ]
  },
  {
   "cell_type": "code",
   "execution_count": 26,
   "id": "5db0a40e-a4e2-4920-be85-b12ae061d70d",
   "metadata": {
    "execution": {
     "iopub.execute_input": "2025-07-30T21:32:34.616825Z",
     "iopub.status.busy": "2025-07-30T21:32:34.616535Z",
     "iopub.status.idle": "2025-07-30T21:32:34.620822Z",
     "shell.execute_reply": "2025-07-30T21:32:34.619846Z"
    },
    "papermill": {
     "duration": 0.029366,
     "end_time": "2025-07-30T21:32:34.622420",
     "exception": false,
     "start_time": "2025-07-30T21:32:34.593054",
     "status": "completed"
    },
    "tags": []
   },
   "outputs": [],
   "source": [
    "#display(siab_s.groupby(\"year\").size())"
   ]
  },
  {
   "cell_type": "code",
   "execution_count": 27,
   "id": "e6c733c5",
   "metadata": {
    "execution": {
     "iopub.execute_input": "2025-07-30T21:32:34.669066Z",
     "iopub.status.busy": "2025-07-30T21:32:34.668768Z",
     "iopub.status.idle": "2025-07-30T21:32:34.755939Z",
     "shell.execute_reply": "2025-07-30T21:32:34.754994Z"
    },
    "papermill": {
     "duration": 0.112997,
     "end_time": "2025-07-30T21:32:34.758007",
     "exception": false,
     "start_time": "2025-07-30T21:32:34.645010",
     "status": "completed"
    },
    "tags": []
   },
   "outputs": [],
   "source": [
    "# Auxiliary data needed downstream in the pipeline\n",
    "\n",
    "org_train = X_train.copy()\n",
    "org_test = X_test.copy()\n",
    "org_calib = X_calib.copy()"
   ]
  },
  {
   "cell_type": "code",
   "execution_count": 28,
   "id": "1466abac-c6da-4492-a62f-4240ae3783af",
   "metadata": {
    "execution": {
     "iopub.execute_input": "2025-07-30T21:32:34.805882Z",
     "iopub.status.busy": "2025-07-30T21:32:34.805583Z",
     "iopub.status.idle": "2025-07-30T21:32:34.811139Z",
     "shell.execute_reply": "2025-07-30T21:32:34.810239Z"
    },
    "papermill": {
     "duration": 0.030799,
     "end_time": "2025-07-30T21:32:34.812758",
     "exception": false,
     "start_time": "2025-07-30T21:32:34.781959",
     "status": "completed"
    },
    "tags": []
   },
   "outputs": [],
   "source": [
    "# put in other script?\n",
    "# Group sizes\n",
    "\n",
    "#def calculate_percentages(df, df_name):\n",
    "#    total_entries = len(df)\n",
    "#\n",
    "#    female_pct = (df['frau1'] == 1).mean() * 100\n",
    "#    non_german_pct = ((df['maxdeutsch1'] == 0) & (df['maxdeutsch.Missing.'] == 0)).mean() * 100\n",
    "#    non_german_male_pct = ((df['frau1'] == 0) & (df['maxdeutsch1'] == 0) & (df['maxdeutsch.Missing.'] == 0)).mean() * 100\n",
    "#    non_german_female_pct = ((df['frau1'] == 1) & (df['maxdeutsch1'] == 0) & (df['maxdeutsch.Missing.'] == 0)).mean() * 100\n",
    "#\n",
    "#    print(f\"--- {df_name} ---\")\n",
    "#    print(f\"Female: {female_pct:.2f}%\")\n",
    "#    print(f\"Non-German: {non_german_pct:.2f}%\")\n",
    "#    print(f\"Non-German Male: {non_german_male_pct:.2f}%\")\n",
    "#    print(f\"Non-German Female: {non_german_female_pct:.2f}%\\n\")\n",
    "#\n",
    "## Calculate for each DataFrame\n",
    "#calculate_percentages(siab_calib, \"siab_calib\")\n",
    "#calculate_percentages(siab_test, \"siab_test\")\n",
    "#calculate_percentages(siab_train, \"siab_train\")"
   ]
  },
  {
   "cell_type": "markdown",
   "id": "0a4a1b33",
   "metadata": {
    "papermill": {
     "duration": 0.022401,
     "end_time": "2025-07-30T21:32:34.858093",
     "exception": false,
     "start_time": "2025-07-30T21:32:34.835692",
     "status": "completed"
    },
    "tags": []
   },
   "source": [
    "# Preprocessing Data"
   ]
  },
  {
   "cell_type": "code",
   "execution_count": 29,
   "id": "ca879031",
   "metadata": {
    "execution": {
     "iopub.execute_input": "2025-07-30T21:32:34.904734Z",
     "iopub.status.busy": "2025-07-30T21:32:34.904448Z",
     "iopub.status.idle": "2025-07-30T21:32:34.909667Z",
     "shell.execute_reply": "2025-07-30T21:32:34.908728Z"
    },
    "papermill": {
     "duration": 0.030222,
     "end_time": "2025-07-30T21:32:34.911243",
     "exception": false,
     "start_time": "2025-07-30T21:32:34.881021",
     "status": "completed"
    },
    "tags": []
   },
   "outputs": [],
   "source": [
    "# EXCLUDE PROTECTED FEATURES\n",
    "# ----------------------\n",
    "# \"exclude_features\": \"none\", # \"nationality\", \"sex\", \"nationality-sex\"\n",
    "\n",
    "excluded_features = universe[\"exclude_features\"].split(\"-\") # split, e.g.: \"nationality-sex\" -> [\"nationality\", \"sex\"]\n",
    "excluded_features_dictionary = {\n",
    "    \"nationality\": [\"maxdeutsch1\", \"maxdeutsch.Missing.\"],\n",
    "    \"sex\": [\"frau1\"],\n",
    "    \"age\": [\"age\"],\n",
    "}\n"
   ]
  },
  {
   "cell_type": "code",
   "execution_count": 30,
   "id": "b745ac60",
   "metadata": {
    "execution": {
     "iopub.execute_input": "2025-07-30T21:32:34.957953Z",
     "iopub.status.busy": "2025-07-30T21:32:34.957666Z",
     "iopub.status.idle": "2025-07-30T21:32:34.962545Z",
     "shell.execute_reply": "2025-07-30T21:32:34.961631Z"
    },
    "papermill": {
     "duration": 0.029945,
     "end_time": "2025-07-30T21:32:34.964208",
     "exception": false,
     "start_time": "2025-07-30T21:32:34.934263",
     "status": "completed"
    },
    "tags": []
   },
   "outputs": [],
   "source": [
    "# Code nice names to column names\n",
    "\n",
    "excluded_features_columns = [\n",
    "    excluded_features_dictionary[f] for f in excluded_features if len(f) > 0 and f != \"none\"\n",
    "]"
   ]
  },
  {
   "cell_type": "code",
   "execution_count": 31,
   "id": "f84f73a2",
   "metadata": {
    "execution": {
     "iopub.execute_input": "2025-07-30T21:32:35.010837Z",
     "iopub.status.busy": "2025-07-30T21:32:35.010551Z",
     "iopub.status.idle": "2025-07-30T21:32:35.016175Z",
     "shell.execute_reply": "2025-07-30T21:32:35.015287Z"
    },
    "papermill": {
     "duration": 0.030839,
     "end_time": "2025-07-30T21:32:35.017972",
     "exception": false,
     "start_time": "2025-07-30T21:32:34.987133",
     "status": "completed"
    },
    "tags": []
   },
   "outputs": [],
   "source": [
    "from utils import flatten_once\n",
    "\n",
    "excluded_features_columns = flatten_once(excluded_features_columns)"
   ]
  },
  {
   "cell_type": "code",
   "execution_count": 32,
   "id": "884dea22",
   "metadata": {
    "execution": {
     "iopub.execute_input": "2025-07-30T21:32:35.064552Z",
     "iopub.status.busy": "2025-07-30T21:32:35.064256Z",
     "iopub.status.idle": "2025-07-30T21:32:35.071171Z",
     "shell.execute_reply": "2025-07-30T21:32:35.070069Z"
    },
    "papermill": {
     "duration": 0.031852,
     "end_time": "2025-07-30T21:32:35.072716",
     "exception": false,
     "start_time": "2025-07-30T21:32:35.040864",
     "status": "completed"
    },
    "tags": []
   },
   "outputs": [
    {
     "name": "stdout",
     "output_type": "stream",
     "text": [
      "Dropping features: ['age']\n"
     ]
    }
   ],
   "source": [
    "if len(excluded_features_columns) > 0:\n",
    "    print(f\"Dropping features: {excluded_features_columns}\")\n",
    "    X_train.drop(excluded_features_columns, axis=1, inplace=True)"
   ]
  },
  {
   "cell_type": "code",
   "execution_count": 33,
   "id": "95ab8b16",
   "metadata": {
    "execution": {
     "iopub.execute_input": "2025-07-30T21:32:35.113821Z",
     "iopub.status.busy": "2025-07-30T21:32:35.113533Z",
     "iopub.status.idle": "2025-07-30T21:32:35.189112Z",
     "shell.execute_reply": "2025-07-30T21:32:35.188176Z"
    },
    "papermill": {
     "duration": 0.098182,
     "end_time": "2025-07-30T21:32:35.190858",
     "exception": false,
     "start_time": "2025-07-30T21:32:35.092676",
     "status": "completed"
    },
    "tags": []
   },
   "outputs": [
    {
     "name": "stdout",
     "output_type": "stream",
     "text": [
      "Dropping features: ['age']\n"
     ]
    }
   ],
   "source": [
    "if len(excluded_features_columns) > 0:\n",
    "    print(f\"Dropping features: {excluded_features_columns}\")\n",
    "    X_test.drop(excluded_features_columns, axis=1, inplace=True)"
   ]
  },
  {
   "cell_type": "code",
   "execution_count": 34,
   "id": "1853aaf5-fb9f-46cb-a2b5-8ea4ae2237e4",
   "metadata": {
    "execution": {
     "iopub.execute_input": "2025-07-30T21:32:35.234113Z",
     "iopub.status.busy": "2025-07-30T21:32:35.233724Z",
     "iopub.status.idle": "2025-07-30T21:32:35.287646Z",
     "shell.execute_reply": "2025-07-30T21:32:35.286779Z"
    },
    "papermill": {
     "duration": 0.074871,
     "end_time": "2025-07-30T21:32:35.289409",
     "exception": false,
     "start_time": "2025-07-30T21:32:35.214538",
     "status": "completed"
    },
    "tags": []
   },
   "outputs": [
    {
     "name": "stdout",
     "output_type": "stream",
     "text": [
      "Dropping features: ['age']\n"
     ]
    }
   ],
   "source": [
    "if len(excluded_features_columns) > 0:\n",
    "    print(f\"Dropping features: {excluded_features_columns}\")\n",
    "    X_calib.drop(excluded_features_columns, axis=1, inplace=True)"
   ]
  },
  {
   "cell_type": "code",
   "execution_count": 35,
   "id": "6727d079-03e5-481e-9d38-292a90b7a0a8",
   "metadata": {
    "execution": {
     "iopub.execute_input": "2025-07-30T21:32:35.338018Z",
     "iopub.status.busy": "2025-07-30T21:32:35.337202Z",
     "iopub.status.idle": "2025-07-30T21:32:35.341687Z",
     "shell.execute_reply": "2025-07-30T21:32:35.340756Z"
    },
    "papermill": {
     "duration": 0.02979,
     "end_time": "2025-07-30T21:32:35.343247",
     "exception": false,
     "start_time": "2025-07-30T21:32:35.313457",
     "status": "completed"
    },
    "tags": []
   },
   "outputs": [],
   "source": [
    "# SPLIT & STRATIFY DATA\n",
    "# ----------------------"
   ]
  },
  {
   "cell_type": "code",
   "execution_count": 36,
   "id": "76c4dc6d",
   "metadata": {
    "execution": {
     "iopub.execute_input": "2025-07-30T21:32:35.385295Z",
     "iopub.status.busy": "2025-07-30T21:32:35.384676Z",
     "iopub.status.idle": "2025-07-30T21:32:35.389529Z",
     "shell.execute_reply": "2025-07-30T21:32:35.388700Z"
    },
    "papermill": {
     "duration": 0.027266,
     "end_time": "2025-07-30T21:32:35.391012",
     "exception": false,
     "start_time": "2025-07-30T21:32:35.363746",
     "status": "completed"
    },
    "tags": []
   },
   "outputs": [],
   "source": [
    "# EXCLUDE CERTAIN SUBGROUPS\n",
    "# ----------------------\n",
    "\n",
    "mode = universe.get(\"exclude_subgroups\", \"keep-all\") \n",
    "# Fetches the exclude_subgroups setting from the universe dict.\n",
    "# Defaults to \"keep-all\" if the key is missing."
   ]
  },
  {
   "cell_type": "code",
   "execution_count": 37,
   "id": "21994072",
   "metadata": {
    "execution": {
     "iopub.execute_input": "2025-07-30T21:32:35.432844Z",
     "iopub.status.busy": "2025-07-30T21:32:35.432210Z",
     "iopub.status.idle": "2025-07-30T21:32:35.438393Z",
     "shell.execute_reply": "2025-07-30T21:32:35.437527Z"
    },
    "papermill": {
     "duration": 0.028584,
     "end_time": "2025-07-30T21:32:35.439911",
     "exception": false,
     "start_time": "2025-07-30T21:32:35.411327",
     "status": "completed"
    },
    "tags": []
   },
   "outputs": [],
   "source": [
    "if mode == \"keep-all\":\n",
    "    keep_mask = pd.Series(True, index=org_train.index)\n",
    "\n",
    "# org_train contains the original feature columns from features_org (in Simson)\n",
    "# features_org contains unprocessed features, for me X_train at beginning ???\n",
    "# For keep-all, creates a boolean Series (keep_mask) of all True, so no rows are removed.\n",
    "\n",
    "elif mode == \"drop-non-german\":\n",
    "    keep_mask = org_train[\"maxdeutsch1\"] == 1 # ??? what about missing values?\n",
    "\n",
    "else:\n",
    "    raise ValueError(f\"Unsupported mode for exclude_subgroups: {mode}\")\n"
   ]
  },
  {
   "cell_type": "code",
   "execution_count": 38,
   "id": "71651440",
   "metadata": {
    "execution": {
     "iopub.execute_input": "2025-07-30T21:32:35.481806Z",
     "iopub.status.busy": "2025-07-30T21:32:35.481371Z",
     "iopub.status.idle": "2025-07-30T21:32:35.487794Z",
     "shell.execute_reply": "2025-07-30T21:32:35.486964Z"
    },
    "papermill": {
     "duration": 0.028944,
     "end_time": "2025-07-30T21:32:35.489270",
     "exception": false,
     "start_time": "2025-07-30T21:32:35.460326",
     "status": "completed"
    },
    "tags": []
   },
   "outputs": [
    {
     "name": "stdout",
     "output_type": "stream",
     "text": [
      "Dropping 147 rows (14.70%) where mode='drop-non-german'\n"
     ]
    }
   ],
   "source": [
    "n_drop = (~keep_mask).sum() # Calculates how many rows are set to be dropped\n",
    "if n_drop > 0:\n",
    "    pct = n_drop / len(keep_mask) * 100\n",
    "    print(f\"Dropping {n_drop} rows ({pct:.2f}%) where mode='{mode}'\")"
   ]
  },
  {
   "cell_type": "code",
   "execution_count": 39,
   "id": "5fb8eee5",
   "metadata": {
    "execution": {
     "iopub.execute_input": "2025-07-30T21:32:35.531179Z",
     "iopub.status.busy": "2025-07-30T21:32:35.530564Z",
     "iopub.status.idle": "2025-07-30T21:32:35.536159Z",
     "shell.execute_reply": "2025-07-30T21:32:35.535244Z"
    },
    "papermill": {
     "duration": 0.028193,
     "end_time": "2025-07-30T21:32:35.537694",
     "exception": false,
     "start_time": "2025-07-30T21:32:35.509501",
     "status": "completed"
    },
    "tags": []
   },
   "outputs": [],
   "source": [
    "X_train = X_train[keep_mask]"
   ]
  },
  {
   "cell_type": "code",
   "execution_count": 40,
   "id": "b202bb3a",
   "metadata": {
    "execution": {
     "iopub.execute_input": "2025-07-30T21:32:35.579893Z",
     "iopub.status.busy": "2025-07-30T21:32:35.579274Z",
     "iopub.status.idle": "2025-07-30T21:32:35.584526Z",
     "shell.execute_reply": "2025-07-30T21:32:35.583625Z"
    },
    "papermill": {
     "duration": 0.027712,
     "end_time": "2025-07-30T21:32:35.585884",
     "exception": false,
     "start_time": "2025-07-30T21:32:35.558172",
     "status": "completed"
    },
    "tags": []
   },
   "outputs": [],
   "source": [
    "y_train = y_train[keep_mask]"
   ]
  },
  {
   "cell_type": "markdown",
   "id": "493e2ac3",
   "metadata": {
    "papermill": {
     "duration": 0.02036,
     "end_time": "2025-07-30T21:32:35.627084",
     "exception": false,
     "start_time": "2025-07-30T21:32:35.606724",
     "status": "completed"
    },
    "tags": []
   },
   "source": [
    "# Model Training"
   ]
  },
  {
   "cell_type": "code",
   "execution_count": 41,
   "id": "679e1268",
   "metadata": {
    "execution": {
     "iopub.execute_input": "2025-07-30T21:32:35.668998Z",
     "iopub.status.busy": "2025-07-30T21:32:35.668504Z",
     "iopub.status.idle": "2025-07-30T21:32:35.774169Z",
     "shell.execute_reply": "2025-07-30T21:32:35.773388Z"
    },
    "papermill": {
     "duration": 0.12841,
     "end_time": "2025-07-30T21:32:35.775882",
     "exception": false,
     "start_time": "2025-07-30T21:32:35.647472",
     "status": "completed"
    },
    "tags": []
   },
   "outputs": [],
   "source": [
    "from sklearn.linear_model import LogisticRegression\n",
    "from sklearn.ensemble import GradientBoostingClassifier, RandomForestClassifier\n",
    "\n",
    "if (universe[\"model\"] == \"logreg\"):\n",
    "    model = LogisticRegression() #penalty=\"none\") #, solver=\"newton-cg\", max_iter=1) # include random_state=19 ?\n",
    "elif (universe[\"model\"] == \"penalized_logreg\"):\n",
    "    model = LogisticRegression(penalty=\"l2\", C=1.0) #, solver=\"newton-cg\", max_iter=1)\n",
    "elif (universe[\"model\"] == \"rf\"):\n",
    "    model = RandomForestClassifier(n_estimators=100, n_jobs=-1)\n",
    "elif (universe[\"model\"] == \"gbm\"):\n",
    "    model = GradientBoostingClassifier()\n",
    "elif (universe[\"model\"] == \"elasticnet\"):\n",
    "    model = LogisticRegression(penalty = 'elasticnet', solver = 'saga', l1_ratio = 0.5, max_iter=5000) # which solver to use?\n",
    "else:\n",
    "    raise \"Unsupported universe.model\""
   ]
  },
  {
   "cell_type": "code",
   "execution_count": 42,
   "id": "0cc8f744",
   "metadata": {
    "execution": {
     "iopub.execute_input": "2025-07-30T21:32:35.818969Z",
     "iopub.status.busy": "2025-07-30T21:32:35.818553Z",
     "iopub.status.idle": "2025-07-30T21:32:35.824486Z",
     "shell.execute_reply": "2025-07-30T21:32:35.823569Z"
    },
    "papermill": {
     "duration": 0.028681,
     "end_time": "2025-07-30T21:32:35.825889",
     "exception": false,
     "start_time": "2025-07-30T21:32:35.797208",
     "status": "completed"
    },
    "tags": []
   },
   "outputs": [],
   "source": [
    "import numpy as np\n",
    "from sklearn.pipeline import Pipeline\n",
    "from sklearn.preprocessing import StandardScaler\n",
    "\n",
    "model = Pipeline([\n",
    "    #(\"continuous_processor\", continuous_processor),\n",
    "    #(\"categorical_preprocessor\", categorical_preprocessor),\n",
    "    (\"scale\", StandardScaler() if universe[\"scale\"] == \"scale\" else None), \n",
    "    (\"model\", model),\n",
    "])"
   ]
  },
  {
   "cell_type": "code",
   "execution_count": 43,
   "id": "9442c04d",
   "metadata": {
    "execution": {
     "iopub.execute_input": "2025-07-30T21:32:35.869029Z",
     "iopub.status.busy": "2025-07-30T21:32:35.868614Z",
     "iopub.status.idle": "2025-07-30T21:32:53.236558Z",
     "shell.execute_reply": "2025-07-30T21:32:53.235520Z"
    },
    "papermill": {
     "duration": 17.391477,
     "end_time": "2025-07-30T21:32:53.238399",
     "exception": false,
     "start_time": "2025-07-30T21:32:35.846922",
     "status": "completed"
    },
    "tags": []
   },
   "outputs": [
    {
     "name": "stderr",
     "output_type": "stream",
     "text": [
      "/dss/dsshome1/0C/ra93lal2/.local/share/virtualenvs/CMA_Fairness_v2-3j10GkSs/lib/python3.10/site-packages/sklearn/linear_model/_sag.py:350: ConvergenceWarning: The max_iter was reached which means the coef_ did not converge\n",
      "  warnings.warn(\n"
     ]
    },
    {
     "data": {
      "text/html": [
       "<style>#sk-container-id-1 {color: black;background-color: white;}#sk-container-id-1 pre{padding: 0;}#sk-container-id-1 div.sk-toggleable {background-color: white;}#sk-container-id-1 label.sk-toggleable__label {cursor: pointer;display: block;width: 100%;margin-bottom: 0;padding: 0.3em;box-sizing: border-box;text-align: center;}#sk-container-id-1 label.sk-toggleable__label-arrow:before {content: \"▸\";float: left;margin-right: 0.25em;color: #696969;}#sk-container-id-1 label.sk-toggleable__label-arrow:hover:before {color: black;}#sk-container-id-1 div.sk-estimator:hover label.sk-toggleable__label-arrow:before {color: black;}#sk-container-id-1 div.sk-toggleable__content {max-height: 0;max-width: 0;overflow: hidden;text-align: left;background-color: #f0f8ff;}#sk-container-id-1 div.sk-toggleable__content pre {margin: 0.2em;color: black;border-radius: 0.25em;background-color: #f0f8ff;}#sk-container-id-1 input.sk-toggleable__control:checked~div.sk-toggleable__content {max-height: 200px;max-width: 100%;overflow: auto;}#sk-container-id-1 input.sk-toggleable__control:checked~label.sk-toggleable__label-arrow:before {content: \"▾\";}#sk-container-id-1 div.sk-estimator input.sk-toggleable__control:checked~label.sk-toggleable__label {background-color: #d4ebff;}#sk-container-id-1 div.sk-label input.sk-toggleable__control:checked~label.sk-toggleable__label {background-color: #d4ebff;}#sk-container-id-1 input.sk-hidden--visually {border: 0;clip: rect(1px 1px 1px 1px);clip: rect(1px, 1px, 1px, 1px);height: 1px;margin: -1px;overflow: hidden;padding: 0;position: absolute;width: 1px;}#sk-container-id-1 div.sk-estimator {font-family: monospace;background-color: #f0f8ff;border: 1px dotted black;border-radius: 0.25em;box-sizing: border-box;margin-bottom: 0.5em;}#sk-container-id-1 div.sk-estimator:hover {background-color: #d4ebff;}#sk-container-id-1 div.sk-parallel-item::after {content: \"\";width: 100%;border-bottom: 1px solid gray;flex-grow: 1;}#sk-container-id-1 div.sk-label:hover label.sk-toggleable__label {background-color: #d4ebff;}#sk-container-id-1 div.sk-serial::before {content: \"\";position: absolute;border-left: 1px solid gray;box-sizing: border-box;top: 0;bottom: 0;left: 50%;z-index: 0;}#sk-container-id-1 div.sk-serial {display: flex;flex-direction: column;align-items: center;background-color: white;padding-right: 0.2em;padding-left: 0.2em;position: relative;}#sk-container-id-1 div.sk-item {position: relative;z-index: 1;}#sk-container-id-1 div.sk-parallel {display: flex;align-items: stretch;justify-content: center;background-color: white;position: relative;}#sk-container-id-1 div.sk-item::before, #sk-container-id-1 div.sk-parallel-item::before {content: \"\";position: absolute;border-left: 1px solid gray;box-sizing: border-box;top: 0;bottom: 0;left: 50%;z-index: -1;}#sk-container-id-1 div.sk-parallel-item {display: flex;flex-direction: column;z-index: 1;position: relative;background-color: white;}#sk-container-id-1 div.sk-parallel-item:first-child::after {align-self: flex-end;width: 50%;}#sk-container-id-1 div.sk-parallel-item:last-child::after {align-self: flex-start;width: 50%;}#sk-container-id-1 div.sk-parallel-item:only-child::after {width: 0;}#sk-container-id-1 div.sk-dashed-wrapped {border: 1px dashed gray;margin: 0 0.4em 0.5em 0.4em;box-sizing: border-box;padding-bottom: 0.4em;background-color: white;}#sk-container-id-1 div.sk-label label {font-family: monospace;font-weight: bold;display: inline-block;line-height: 1.2em;}#sk-container-id-1 div.sk-label-container {text-align: center;}#sk-container-id-1 div.sk-container {/* jupyter's `normalize.less` sets `[hidden] { display: none; }` but bootstrap.min.css set `[hidden] { display: none !important; }` so we also need the `!important` here to be able to override the default hidden behavior on the sphinx rendered scikit-learn.org. See: https://github.com/scikit-learn/scikit-learn/issues/21755 */display: inline-block !important;position: relative;}#sk-container-id-1 div.sk-text-repr-fallback {display: none;}</style><div id=\"sk-container-id-1\" class=\"sk-top-container\"><div class=\"sk-text-repr-fallback\"><pre>Pipeline(steps=[(&#x27;scale&#x27;, None),\n",
       "                (&#x27;model&#x27;,\n",
       "                 LogisticRegression(l1_ratio=0.5, max_iter=5000,\n",
       "                                    penalty=&#x27;elasticnet&#x27;, solver=&#x27;saga&#x27;))])</pre><b>In a Jupyter environment, please rerun this cell to show the HTML representation or trust the notebook. <br />On GitHub, the HTML representation is unable to render, please try loading this page with nbviewer.org.</b></div><div class=\"sk-container\" hidden><div class=\"sk-item sk-dashed-wrapped\"><div class=\"sk-label-container\"><div class=\"sk-label sk-toggleable\"><input class=\"sk-toggleable__control sk-hidden--visually\" id=\"sk-estimator-id-1\" type=\"checkbox\" ><label for=\"sk-estimator-id-1\" class=\"sk-toggleable__label sk-toggleable__label-arrow\">Pipeline</label><div class=\"sk-toggleable__content\"><pre>Pipeline(steps=[(&#x27;scale&#x27;, None),\n",
       "                (&#x27;model&#x27;,\n",
       "                 LogisticRegression(l1_ratio=0.5, max_iter=5000,\n",
       "                                    penalty=&#x27;elasticnet&#x27;, solver=&#x27;saga&#x27;))])</pre></div></div></div><div class=\"sk-serial\"><div class=\"sk-item\"><div class=\"sk-estimator sk-toggleable\"><input class=\"sk-toggleable__control sk-hidden--visually\" id=\"sk-estimator-id-2\" type=\"checkbox\" ><label for=\"sk-estimator-id-2\" class=\"sk-toggleable__label sk-toggleable__label-arrow\">None</label><div class=\"sk-toggleable__content\"><pre>None</pre></div></div></div><div class=\"sk-item\"><div class=\"sk-estimator sk-toggleable\"><input class=\"sk-toggleable__control sk-hidden--visually\" id=\"sk-estimator-id-3\" type=\"checkbox\" ><label for=\"sk-estimator-id-3\" class=\"sk-toggleable__label sk-toggleable__label-arrow\">LogisticRegression</label><div class=\"sk-toggleable__content\"><pre>LogisticRegression(l1_ratio=0.5, max_iter=5000, penalty=&#x27;elasticnet&#x27;,\n",
       "                   solver=&#x27;saga&#x27;)</pre></div></div></div></div></div></div></div>"
      ],
      "text/plain": [
       "Pipeline(steps=[('scale', None),\n",
       "                ('model',\n",
       "                 LogisticRegression(l1_ratio=0.5, max_iter=5000,\n",
       "                                    penalty='elasticnet', solver='saga'))])"
      ]
     },
     "execution_count": 43,
     "metadata": {},
     "output_type": "execute_result"
    }
   ],
   "source": [
    "model.fit(X_train, y_train.values.ravel())"
   ]
  },
  {
   "cell_type": "code",
   "execution_count": 44,
   "id": "af59f8c0",
   "metadata": {
    "execution": {
     "iopub.execute_input": "2025-07-30T21:32:53.292563Z",
     "iopub.status.busy": "2025-07-30T21:32:53.291891Z",
     "iopub.status.idle": "2025-07-30T21:32:53.297391Z",
     "shell.execute_reply": "2025-07-30T21:32:53.296464Z"
    },
    "papermill": {
     "duration": 0.032346,
     "end_time": "2025-07-30T21:32:53.298975",
     "exception": false,
     "start_time": "2025-07-30T21:32:53.266629",
     "status": "completed"
    },
    "tags": []
   },
   "outputs": [],
   "source": [
    "from fairness_multiverse.universe import predict_w_threshold"
   ]
  },
  {
   "cell_type": "code",
   "execution_count": 45,
   "id": "a7cf2e16",
   "metadata": {
    "execution": {
     "iopub.execute_input": "2025-07-30T21:32:53.350474Z",
     "iopub.status.busy": "2025-07-30T21:32:53.350018Z",
     "iopub.status.idle": "2025-07-30T21:32:53.453604Z",
     "shell.execute_reply": "2025-07-30T21:32:53.452521Z"
    },
    "papermill": {
     "duration": 0.131422,
     "end_time": "2025-07-30T21:32:53.455390",
     "exception": false,
     "start_time": "2025-07-30T21:32:53.323968",
     "status": "completed"
    },
    "tags": []
   },
   "outputs": [
    {
     "data": {
      "text/plain": [
       "0.8334076468621112"
      ]
     },
     "execution_count": 45,
     "metadata": {},
     "output_type": "execute_result"
    }
   ],
   "source": [
    "probs_test = model.predict_proba(X_test)\n",
    "\n",
    "'''\n",
    "Below code returns a boolean array (or binary 0/1 array depending on how it’s used) where each element \n",
    "is True if the probability of class 1 is greater than or equal to the threshold, and False otherwise.\n",
    "'''\n",
    "y_pred_default = predict_w_threshold(probs_test, 0.5)\n",
    "\n",
    "from sklearn.metrics import accuracy_score\n",
    "\n",
    "# Naive prediction\n",
    "accuracy_score(y_true = y_true, y_pred = y_pred_default)"
   ]
  },
  {
   "cell_type": "code",
   "execution_count": 46,
   "id": "081964c3",
   "metadata": {
    "execution": {
     "iopub.execute_input": "2025-07-30T21:32:53.512563Z",
     "iopub.status.busy": "2025-07-30T21:32:53.511587Z",
     "iopub.status.idle": "2025-07-30T21:32:53.595461Z",
     "shell.execute_reply": "2025-07-30T21:32:53.594529Z"
    },
    "papermill": {
     "duration": 0.11496,
     "end_time": "2025-07-30T21:32:53.597422",
     "exception": false,
     "start_time": "2025-07-30T21:32:53.482462",
     "status": "completed"
    },
    "tags": []
   },
   "outputs": [
    {
     "data": {
      "text/plain": [
       "array([0, 0, 0, ..., 0, 0, 0])"
      ]
     },
     "execution_count": 46,
     "metadata": {},
     "output_type": "execute_result"
    }
   ],
   "source": [
    "model.predict(X_test)"
   ]
  },
  {
   "cell_type": "markdown",
   "id": "56c9705b",
   "metadata": {
    "papermill": {
     "duration": 0.026084,
     "end_time": "2025-07-30T21:32:53.650131",
     "exception": false,
     "start_time": "2025-07-30T21:32:53.624047",
     "status": "completed"
    },
    "tags": []
   },
   "source": [
    "# Conformal Prediction"
   ]
  },
  {
   "cell_type": "code",
   "execution_count": 47,
   "id": "160ec6ff",
   "metadata": {
    "execution": {
     "iopub.execute_input": "2025-07-30T21:32:53.703094Z",
     "iopub.status.busy": "2025-07-30T21:32:53.702214Z",
     "iopub.status.idle": "2025-07-30T21:32:53.707705Z",
     "shell.execute_reply": "2025-07-30T21:32:53.706794Z"
    },
    "papermill": {
     "duration": 0.034136,
     "end_time": "2025-07-30T21:32:53.709470",
     "exception": false,
     "start_time": "2025-07-30T21:32:53.675334",
     "status": "completed"
    },
    "tags": []
   },
   "outputs": [],
   "source": [
    "# Miscoverage level for conformal prediction (10% allowed error rate => 90% target coverage)\n",
    "alpha = 0.1"
   ]
  },
  {
   "cell_type": "code",
   "execution_count": 48,
   "id": "eadf4555-3dd3-440e-8e35-f82a4ad9f855",
   "metadata": {
    "execution": {
     "iopub.execute_input": "2025-07-30T21:32:53.757132Z",
     "iopub.status.busy": "2025-07-30T21:32:53.756626Z",
     "iopub.status.idle": "2025-07-30T21:32:53.859036Z",
     "shell.execute_reply": "2025-07-30T21:32:53.857985Z"
    },
    "papermill": {
     "duration": 0.128669,
     "end_time": "2025-07-30T21:32:53.861078",
     "exception": false,
     "start_time": "2025-07-30T21:32:53.732409",
     "status": "completed"
    },
    "tags": []
   },
   "outputs": [],
   "source": [
    "probs_calib = model.predict_proba(X_calib)"
   ]
  },
  {
   "cell_type": "code",
   "execution_count": 49,
   "id": "2ed93547-6d5d-4983-9b36-1ecb300da49a",
   "metadata": {
    "execution": {
     "iopub.execute_input": "2025-07-30T21:32:53.913112Z",
     "iopub.status.busy": "2025-07-30T21:32:53.912182Z",
     "iopub.status.idle": "2025-07-30T21:32:53.918406Z",
     "shell.execute_reply": "2025-07-30T21:32:53.917433Z"
    },
    "papermill": {
     "duration": 0.033189,
     "end_time": "2025-07-30T21:32:53.920254",
     "exception": false,
     "start_time": "2025-07-30T21:32:53.887065",
     "status": "completed"
    },
    "tags": []
   },
   "outputs": [],
   "source": [
    "y_calib = y_calib.values.ravel().astype(int)"
   ]
  },
  {
   "cell_type": "code",
   "execution_count": 50,
   "id": "65d1320d-f588-4b38-9072-62af1ae97f7d",
   "metadata": {
    "execution": {
     "iopub.execute_input": "2025-07-30T21:32:53.974589Z",
     "iopub.status.busy": "2025-07-30T21:32:53.973448Z",
     "iopub.status.idle": "2025-07-30T21:32:53.981194Z",
     "shell.execute_reply": "2025-07-30T21:32:53.980176Z"
    },
    "papermill": {
     "duration": 0.036067,
     "end_time": "2025-07-30T21:32:53.982890",
     "exception": false,
     "start_time": "2025-07-30T21:32:53.946823",
     "status": "completed"
    },
    "tags": []
   },
   "outputs": [],
   "source": [
    "from fairness_multiverse.conformal import compute_nc_scores\n",
    "\n",
    "# Compute nonconformity scores on calibration set (1 - probability of true class)\n",
    "nc_scores = compute_nc_scores(probs_calib, y_calib)"
   ]
  },
  {
   "cell_type": "code",
   "execution_count": 51,
   "id": "df3b8ca3-53b7-43d5-9667-7c85da7aeda2",
   "metadata": {
    "execution": {
     "iopub.execute_input": "2025-07-30T21:32:54.023703Z",
     "iopub.status.busy": "2025-07-30T21:32:54.023359Z",
     "iopub.status.idle": "2025-07-30T21:32:54.028764Z",
     "shell.execute_reply": "2025-07-30T21:32:54.028083Z"
    },
    "papermill": {
     "duration": 0.021701,
     "end_time": "2025-07-30T21:32:54.030030",
     "exception": false,
     "start_time": "2025-07-30T21:32:54.008329",
     "status": "completed"
    },
    "tags": []
   },
   "outputs": [],
   "source": [
    "from fairness_multiverse.conformal import find_threshold\n",
    "\n",
    "# Find conformal threshold q_hat for the given alpha (split conformal method)\n",
    "q_hat = find_threshold(nc_scores, alpha)"
   ]
  },
  {
   "cell_type": "code",
   "execution_count": 52,
   "id": "4d29e6c1-0ef6-4aa4-b8fe-4fe79b0d033a",
   "metadata": {
    "execution": {
     "iopub.execute_input": "2025-07-30T21:32:54.066327Z",
     "iopub.status.busy": "2025-07-30T21:32:54.065951Z",
     "iopub.status.idle": "2025-07-30T21:32:54.072847Z",
     "shell.execute_reply": "2025-07-30T21:32:54.072039Z"
    },
    "papermill": {
     "duration": 0.032081,
     "end_time": "2025-07-30T21:32:54.074745",
     "exception": false,
     "start_time": "2025-07-30T21:32:54.042664",
     "status": "completed"
    },
    "tags": []
   },
   "outputs": [
    {
     "data": {
      "text/plain": [
       "0.6695449634443537"
      ]
     },
     "execution_count": 52,
     "metadata": {},
     "output_type": "execute_result"
    }
   ],
   "source": [
    "q_hat"
   ]
  },
  {
   "cell_type": "code",
   "execution_count": 53,
   "id": "92460794-cdac-4be2-ba28-f28c0515a6fb",
   "metadata": {
    "execution": {
     "iopub.execute_input": "2025-07-30T21:32:54.128329Z",
     "iopub.status.busy": "2025-07-30T21:32:54.127278Z",
     "iopub.status.idle": "2025-07-30T21:32:54.948543Z",
     "shell.execute_reply": "2025-07-30T21:32:54.947287Z"
    },
    "papermill": {
     "duration": 0.851304,
     "end_time": "2025-07-30T21:32:54.950562",
     "exception": false,
     "start_time": "2025-07-30T21:32:54.099258",
     "status": "completed"
    },
    "tags": []
   },
   "outputs": [],
   "source": [
    "from fairness_multiverse.conformal import predict_conformal_sets\n",
    "\n",
    "# Generate prediction sets for each test example\n",
    "pred_sets = predict_conformal_sets(model, X_test, q_hat)"
   ]
  },
  {
   "cell_type": "code",
   "execution_count": 54,
   "id": "d90c9a65-e6db-4f5d-80cd-e68fb7e46829",
   "metadata": {
    "execution": {
     "iopub.execute_input": "2025-07-30T21:32:55.003056Z",
     "iopub.status.busy": "2025-07-30T21:32:55.001960Z",
     "iopub.status.idle": "2025-07-30T21:32:55.009336Z",
     "shell.execute_reply": "2025-07-30T21:32:55.008435Z"
    },
    "papermill": {
     "duration": 0.035481,
     "end_time": "2025-07-30T21:32:55.010899",
     "exception": false,
     "start_time": "2025-07-30T21:32:54.975418",
     "status": "completed"
    },
    "tags": []
   },
   "outputs": [],
   "source": [
    "y_true = y_true.squeeze()"
   ]
  },
  {
   "cell_type": "code",
   "execution_count": 55,
   "id": "3a58a54a-1e68-46b9-927a-df01f18aebc8",
   "metadata": {
    "execution": {
     "iopub.execute_input": "2025-07-30T21:32:55.058432Z",
     "iopub.status.busy": "2025-07-30T21:32:55.057892Z",
     "iopub.status.idle": "2025-07-30T21:32:56.050396Z",
     "shell.execute_reply": "2025-07-30T21:32:56.049427Z"
    },
    "papermill": {
     "duration": 1.018214,
     "end_time": "2025-07-30T21:32:56.052530",
     "exception": false,
     "start_time": "2025-07-30T21:32:55.034316",
     "status": "completed"
    },
    "tags": []
   },
   "outputs": [],
   "source": [
    "from fairness_multiverse.conformal import evaluate_sets\n",
    "\n",
    "# Evaluate coverage and average set size on test data\n",
    "metrics = evaluate_sets(pred_sets, y_true)"
   ]
  },
  {
   "cell_type": "markdown",
   "id": "2b569c12-9aaa-4c88-98c9-bbcd0cf3ebb8",
   "metadata": {
    "papermill": {
     "duration": 0.022705,
     "end_time": "2025-07-30T21:32:56.099545",
     "exception": false,
     "start_time": "2025-07-30T21:32:56.076840",
     "status": "completed"
    },
    "tags": []
   },
   "source": [
    "# CP Metrics"
   ]
  },
  {
   "cell_type": "code",
   "execution_count": 56,
   "id": "5ce0a5cb-201f-45a0-ade5-94c7f0bd6095",
   "metadata": {
    "execution": {
     "iopub.execute_input": "2025-07-30T21:32:56.148906Z",
     "iopub.status.busy": "2025-07-30T21:32:56.148432Z",
     "iopub.status.idle": "2025-07-30T21:32:56.155521Z",
     "shell.execute_reply": "2025-07-30T21:32:56.154609Z"
    },
    "papermill": {
     "duration": 0.034463,
     "end_time": "2025-07-30T21:32:56.157202",
     "exception": false,
     "start_time": "2025-07-30T21:32:56.122739",
     "status": "completed"
    },
    "tags": []
   },
   "outputs": [
    {
     "data": {
      "text/plain": [
       "{'coverage': 0.9108795006130866, 'avg_size': 1.2824211347675845}"
      ]
     },
     "execution_count": 56,
     "metadata": {},
     "output_type": "execute_result"
    }
   ],
   "source": [
    "metrics"
   ]
  },
  {
   "cell_type": "code",
   "execution_count": 57,
   "id": "9b9a838d-31c9-430b-ae14-12baee460d17",
   "metadata": {
    "execution": {
     "iopub.execute_input": "2025-07-30T21:32:56.210288Z",
     "iopub.status.busy": "2025-07-30T21:32:56.209760Z",
     "iopub.status.idle": "2025-07-30T21:32:56.217475Z",
     "shell.execute_reply": "2025-07-30T21:32:56.216311Z"
    },
    "papermill": {
     "duration": 0.037061,
     "end_time": "2025-07-30T21:32:56.219336",
     "exception": false,
     "start_time": "2025-07-30T21:32:56.182275",
     "status": "completed"
    },
    "tags": []
   },
   "outputs": [],
   "source": [
    "example_universe = universe.copy()\n",
    "universe_training_year = example_universe.get(\"training_year\")\n",
    "universe_training_size = example_universe.get(\"training_size\")\n",
    "universe_scale = example_universe.get(\"scale\")\n",
    "universe_model = example_universe.get(\"model\")\n",
    "universe_exclude_features = example_universe.get(\"exclude_features\")\n",
    "universe_exclude_subgroups = example_universe.get(\"exclude_subgroups\")"
   ]
  },
  {
   "cell_type": "code",
   "execution_count": 58,
   "id": "f4b6a8ac-9dc0-4245-8a91-5b3b5999c4f9",
   "metadata": {
    "execution": {
     "iopub.execute_input": "2025-07-30T21:32:56.277135Z",
     "iopub.status.busy": "2025-07-30T21:32:56.276477Z",
     "iopub.status.idle": "2025-07-30T21:32:56.283548Z",
     "shell.execute_reply": "2025-07-30T21:32:56.282379Z"
    },
    "papermill": {
     "duration": 0.036805,
     "end_time": "2025-07-30T21:32:56.285326",
     "exception": false,
     "start_time": "2025-07-30T21:32:56.248521",
     "status": "completed"
    },
    "tags": []
   },
   "outputs": [],
   "source": [
    "cp_metrics_dict = {\n",
    "    \"universe_id\": [universe_id],\n",
    "    \"universe_training_year\": [universe_training_year],\n",
    "    \"universe_training_size\": [universe_training_size],\n",
    "    \"universe_scale\": [universe_scale],\n",
    "    \"universe_model\": [universe_model],\n",
    "    \"universe_exclude_features\": [universe_exclude_features],\n",
    "    \"universe_exclude_subgroups\": [universe_exclude_subgroups],\n",
    "    \"q_hat\": [q_hat],\n",
    "    \"coverage\": [metrics[\"coverage\"]],\n",
    "    \"avg_size\": [metrics[\"avg_size\"]],\n",
    "}"
   ]
  },
  {
   "cell_type": "code",
   "execution_count": 59,
   "id": "908acbb1-0371-4915-85ca-3fa520d2efe2",
   "metadata": {
    "execution": {
     "iopub.execute_input": "2025-07-30T21:32:56.343859Z",
     "iopub.status.busy": "2025-07-30T21:32:56.342602Z",
     "iopub.status.idle": "2025-07-30T21:32:56.351908Z",
     "shell.execute_reply": "2025-07-30T21:32:56.350842Z"
    },
    "papermill": {
     "duration": 0.040529,
     "end_time": "2025-07-30T21:32:56.353691",
     "exception": false,
     "start_time": "2025-07-30T21:32:56.313162",
     "status": "completed"
    },
    "tags": []
   },
   "outputs": [
    {
     "data": {
      "text/plain": [
       "{'universe_id': ['12ef4eeb910ad56472244a2be83a4181'],\n",
       " 'universe_training_year': ['2014'],\n",
       " 'universe_training_size': ['1k'],\n",
       " 'universe_scale': ['do-not-scale'],\n",
       " 'universe_model': ['elasticnet'],\n",
       " 'universe_exclude_features': ['age'],\n",
       " 'universe_exclude_subgroups': ['drop-non-german'],\n",
       " 'q_hat': [0.6695449634443537],\n",
       " 'coverage': [0.9108795006130866],\n",
       " 'avg_size': [1.2824211347675845]}"
      ]
     },
     "execution_count": 59,
     "metadata": {},
     "output_type": "execute_result"
    }
   ],
   "source": [
    "cp_metrics_dict"
   ]
  },
  {
   "cell_type": "code",
   "execution_count": 60,
   "id": "33007efc-14e9-4ec6-97ac-56a455c82265",
   "metadata": {
    "execution": {
     "iopub.execute_input": "2025-07-30T21:32:56.412306Z",
     "iopub.status.busy": "2025-07-30T21:32:56.411492Z",
     "iopub.status.idle": "2025-07-30T21:32:56.419360Z",
     "shell.execute_reply": "2025-07-30T21:32:56.418074Z"
    },
    "papermill": {
     "duration": 0.037391,
     "end_time": "2025-07-30T21:32:56.421209",
     "exception": false,
     "start_time": "2025-07-30T21:32:56.383818",
     "status": "completed"
    },
    "tags": []
   },
   "outputs": [],
   "source": [
    "cp_metrics_df = pd.DataFrame(cp_metrics_dict)"
   ]
  },
  {
   "cell_type": "code",
   "execution_count": 61,
   "id": "db12611b-57b2-4910-b9d0-355adfd6e7bf",
   "metadata": {
    "execution": {
     "iopub.execute_input": "2025-07-30T21:32:56.478066Z",
     "iopub.status.busy": "2025-07-30T21:32:56.477583Z",
     "iopub.status.idle": "2025-07-30T21:32:56.500615Z",
     "shell.execute_reply": "2025-07-30T21:32:56.499604Z"
    },
    "papermill": {
     "duration": 0.05367,
     "end_time": "2025-07-30T21:32:56.502966",
     "exception": false,
     "start_time": "2025-07-30T21:32:56.449296",
     "status": "completed"
    },
    "tags": []
   },
   "outputs": [
    {
     "data": {
      "text/html": [
       "<div>\n",
       "<style scoped>\n",
       "    .dataframe tbody tr th:only-of-type {\n",
       "        vertical-align: middle;\n",
       "    }\n",
       "\n",
       "    .dataframe tbody tr th {\n",
       "        vertical-align: top;\n",
       "    }\n",
       "\n",
       "    .dataframe thead th {\n",
       "        text-align: right;\n",
       "    }\n",
       "</style>\n",
       "<table border=\"1\" class=\"dataframe\">\n",
       "  <thead>\n",
       "    <tr style=\"text-align: right;\">\n",
       "      <th></th>\n",
       "      <th>universe_id</th>\n",
       "      <th>universe_training_year</th>\n",
       "      <th>universe_training_size</th>\n",
       "      <th>universe_scale</th>\n",
       "      <th>universe_model</th>\n",
       "      <th>universe_exclude_features</th>\n",
       "      <th>universe_exclude_subgroups</th>\n",
       "      <th>q_hat</th>\n",
       "      <th>coverage</th>\n",
       "      <th>avg_size</th>\n",
       "    </tr>\n",
       "  </thead>\n",
       "  <tbody>\n",
       "    <tr>\n",
       "      <th>0</th>\n",
       "      <td>12ef4eeb910ad56472244a2be83a4181</td>\n",
       "      <td>2014</td>\n",
       "      <td>1k</td>\n",
       "      <td>do-not-scale</td>\n",
       "      <td>elasticnet</td>\n",
       "      <td>age</td>\n",
       "      <td>drop-non-german</td>\n",
       "      <td>0.669545</td>\n",
       "      <td>0.91088</td>\n",
       "      <td>1.282421</td>\n",
       "    </tr>\n",
       "  </tbody>\n",
       "</table>\n",
       "</div>"
      ],
      "text/plain": [
       "                        universe_id universe_training_year  \\\n",
       "0  12ef4eeb910ad56472244a2be83a4181                   2014   \n",
       "\n",
       "  universe_training_size universe_scale universe_model  \\\n",
       "0                     1k   do-not-scale     elasticnet   \n",
       "\n",
       "  universe_exclude_features universe_exclude_subgroups     q_hat  coverage  \\\n",
       "0                       age            drop-non-german  0.669545   0.91088   \n",
       "\n",
       "   avg_size  \n",
       "0  1.282421  "
      ]
     },
     "execution_count": 61,
     "metadata": {},
     "output_type": "execute_result"
    }
   ],
   "source": [
    "cp_metrics_df"
   ]
  },
  {
   "cell_type": "code",
   "execution_count": 62,
   "id": "b7fbde55-a0a1-47e4-9af6-fe4a17fa8c61",
   "metadata": {
    "execution": {
     "iopub.execute_input": "2025-07-30T21:32:56.563173Z",
     "iopub.status.busy": "2025-07-30T21:32:56.562237Z",
     "iopub.status.idle": "2025-07-30T21:32:56.568224Z",
     "shell.execute_reply": "2025-07-30T21:32:56.567192Z"
    },
    "papermill": {
     "duration": 0.036937,
     "end_time": "2025-07-30T21:32:56.570055",
     "exception": false,
     "start_time": "2025-07-30T21:32:56.533118",
     "status": "completed"
    },
    "tags": []
   },
   "outputs": [],
   "source": [
    "# Conditional Coverage & looking at subgroups"
   ]
  },
  {
   "cell_type": "code",
   "execution_count": 63,
   "id": "027ae886-68dd-4141-96c7-805a5450e1ef",
   "metadata": {
    "execution": {
     "iopub.execute_input": "2025-07-30T21:32:56.628101Z",
     "iopub.status.busy": "2025-07-30T21:32:56.627502Z",
     "iopub.status.idle": "2025-07-30T21:32:56.951255Z",
     "shell.execute_reply": "2025-07-30T21:32:56.950033Z"
    },
    "papermill": {
     "duration": 0.354932,
     "end_time": "2025-07-30T21:32:56.953518",
     "exception": false,
     "start_time": "2025-07-30T21:32:56.598586",
     "status": "completed"
    },
    "tags": []
   },
   "outputs": [],
   "source": [
    "from fairness_multiverse.conformal import build_cp_groups\n",
    "\n",
    "cp_groups_df = build_cp_groups(pred_sets, y_true, X_test.index, org_test)\n",
    "#needs universe_id and setting"
   ]
  },
  {
   "cell_type": "code",
   "execution_count": 64,
   "id": "01d5802c-663a-4d1f-9d69-e036faaffbf7",
   "metadata": {
    "execution": {
     "iopub.execute_input": "2025-07-30T21:32:57.016076Z",
     "iopub.status.busy": "2025-07-30T21:32:57.015291Z",
     "iopub.status.idle": "2025-07-30T21:32:57.021090Z",
     "shell.execute_reply": "2025-07-30T21:32:57.019956Z"
    },
    "papermill": {
     "duration": 0.036433,
     "end_time": "2025-07-30T21:32:57.023204",
     "exception": false,
     "start_time": "2025-07-30T21:32:56.986771",
     "status": "completed"
    },
    "tags": []
   },
   "outputs": [],
   "source": [
    "#delete\n",
    "#cp_groups_df"
   ]
  },
  {
   "cell_type": "code",
   "execution_count": 65,
   "id": "fa424af1-d1eb-443d-b717-2d279ada8408",
   "metadata": {
    "execution": {
     "iopub.execute_input": "2025-07-30T21:32:57.081797Z",
     "iopub.status.busy": "2025-07-30T21:32:57.081302Z",
     "iopub.status.idle": "2025-07-30T21:32:57.087201Z",
     "shell.execute_reply": "2025-07-30T21:32:57.086282Z"
    },
    "papermill": {
     "duration": 0.03721,
     "end_time": "2025-07-30T21:32:57.089062",
     "exception": false,
     "start_time": "2025-07-30T21:32:57.051852",
     "status": "completed"
    },
    "tags": []
   },
   "outputs": [],
   "source": [
    "#delete\n",
    "#percentage = (cp_groups_df['nongerman_female'] == 1).mean() * 100\n",
    "#print(percentage)\n"
   ]
  },
  {
   "cell_type": "code",
   "execution_count": 66,
   "id": "6cbdab96-b2b2-45af-ad54-d0516db2e28d",
   "metadata": {
    "execution": {
     "iopub.execute_input": "2025-07-30T21:32:57.148896Z",
     "iopub.status.busy": "2025-07-30T21:32:57.147690Z",
     "iopub.status.idle": "2025-07-30T21:32:58.920542Z",
     "shell.execute_reply": "2025-07-30T21:32:58.919406Z"
    },
    "papermill": {
     "duration": 1.805244,
     "end_time": "2025-07-30T21:32:58.922536",
     "exception": false,
     "start_time": "2025-07-30T21:32:57.117292",
     "status": "completed"
    },
    "tags": []
   },
   "outputs": [],
   "source": [
    "# Define covered = 1 if true_label is in the predicted set\n",
    "cp_groups_df['covered'] = cp_groups_df.apply(\n",
    "    lambda r: int(r['true_label'] in r['pred_set']),\n",
    "    axis=1\n",
    ")"
   ]
  },
  {
   "cell_type": "code",
   "execution_count": 67,
   "id": "338ff529-1a6b-4b87-a931-8e4788d52aad",
   "metadata": {
    "execution": {
     "iopub.execute_input": "2025-07-30T21:32:58.973735Z",
     "iopub.status.busy": "2025-07-30T21:32:58.973037Z",
     "iopub.status.idle": "2025-07-30T21:32:58.978149Z",
     "shell.execute_reply": "2025-07-30T21:32:58.977197Z"
    },
    "papermill": {
     "duration": 0.031918,
     "end_time": "2025-07-30T21:32:58.979734",
     "exception": false,
     "start_time": "2025-07-30T21:32:58.947816",
     "status": "completed"
    },
    "tags": []
   },
   "outputs": [],
   "source": [
    "#cp_groups_df"
   ]
  },
  {
   "cell_type": "code",
   "execution_count": 68,
   "id": "90032e27-66df-4540-9169-4e89cfbaa758",
   "metadata": {
    "execution": {
     "iopub.execute_input": "2025-07-30T21:32:59.032227Z",
     "iopub.status.busy": "2025-07-30T21:32:59.031213Z",
     "iopub.status.idle": "2025-07-30T21:32:59.043371Z",
     "shell.execute_reply": "2025-07-30T21:32:59.042480Z"
    },
    "papermill": {
     "duration": 0.039928,
     "end_time": "2025-07-30T21:32:59.045271",
     "exception": false,
     "start_time": "2025-07-30T21:32:59.005343",
     "status": "completed"
    },
    "tags": []
   },
   "outputs": [],
   "source": [
    "subgroups = ['frau1','nongerman','nongerman_male','nongerman_female']\n",
    "\n",
    "# Conditional coverage for subgroup==1\n",
    "cond_coverage = {\n",
    "    g: cp_groups_df.loc[cp_groups_df[g]==1, 'covered'].mean()\n",
    "    for g in subgroups\n",
    "}"
   ]
  },
  {
   "cell_type": "code",
   "execution_count": 69,
   "id": "1e348fb1-b9c3-45bc-ba23-f016827a7e0d",
   "metadata": {
    "execution": {
     "iopub.execute_input": "2025-07-30T21:32:59.097859Z",
     "iopub.status.busy": "2025-07-30T21:32:59.097040Z",
     "iopub.status.idle": "2025-07-30T21:32:59.104550Z",
     "shell.execute_reply": "2025-07-30T21:32:59.103481Z"
    },
    "papermill": {
     "duration": 0.034859,
     "end_time": "2025-07-30T21:32:59.106034",
     "exception": false,
     "start_time": "2025-07-30T21:32:59.071175",
     "status": "completed"
    },
    "tags": []
   },
   "outputs": [
    {
     "data": {
      "text/plain": [
       "{'frau1': 0.9104731095835018,\n",
       " 'nongerman': 0.9578397799360018,\n",
       " 'nongerman_male': 0.9655948842655139,\n",
       " 'nongerman_female': 0.9450074515648286}"
      ]
     },
     "execution_count": 69,
     "metadata": {},
     "output_type": "execute_result"
    }
   ],
   "source": [
    "cond_coverage"
   ]
  },
  {
   "cell_type": "code",
   "execution_count": 70,
   "id": "f5093324-c3dd-4d63-bc4c-8d945e5c8bbb",
   "metadata": {
    "execution": {
     "iopub.execute_input": "2025-07-30T21:32:59.158968Z",
     "iopub.status.busy": "2025-07-30T21:32:59.158192Z",
     "iopub.status.idle": "2025-07-30T21:32:59.165870Z",
     "shell.execute_reply": "2025-07-30T21:32:59.164895Z"
    },
    "papermill": {
     "duration": 0.035458,
     "end_time": "2025-07-30T21:32:59.167471",
     "exception": false,
     "start_time": "2025-07-30T21:32:59.132013",
     "status": "completed"
    },
    "tags": []
   },
   "outputs": [],
   "source": [
    "for subgroup, cov in cond_coverage.items():\n",
    "    cp_metrics_df[f\"cov_{subgroup}\"] = cov"
   ]
  },
  {
   "cell_type": "code",
   "execution_count": 71,
   "id": "6e872e10-dbe5-49e8-b554-5030c98ff75d",
   "metadata": {
    "execution": {
     "iopub.execute_input": "2025-07-30T21:32:59.220699Z",
     "iopub.status.busy": "2025-07-30T21:32:59.219827Z",
     "iopub.status.idle": "2025-07-30T21:32:59.237996Z",
     "shell.execute_reply": "2025-07-30T21:32:59.237047Z"
    },
    "papermill": {
     "duration": 0.045864,
     "end_time": "2025-07-30T21:32:59.239468",
     "exception": false,
     "start_time": "2025-07-30T21:32:59.193604",
     "status": "completed"
    },
    "tags": []
   },
   "outputs": [
    {
     "data": {
      "text/html": [
       "<div>\n",
       "<style scoped>\n",
       "    .dataframe tbody tr th:only-of-type {\n",
       "        vertical-align: middle;\n",
       "    }\n",
       "\n",
       "    .dataframe tbody tr th {\n",
       "        vertical-align: top;\n",
       "    }\n",
       "\n",
       "    .dataframe thead th {\n",
       "        text-align: right;\n",
       "    }\n",
       "</style>\n",
       "<table border=\"1\" class=\"dataframe\">\n",
       "  <thead>\n",
       "    <tr style=\"text-align: right;\">\n",
       "      <th></th>\n",
       "      <th>universe_id</th>\n",
       "      <th>universe_training_year</th>\n",
       "      <th>universe_training_size</th>\n",
       "      <th>universe_scale</th>\n",
       "      <th>universe_model</th>\n",
       "      <th>universe_exclude_features</th>\n",
       "      <th>universe_exclude_subgroups</th>\n",
       "      <th>q_hat</th>\n",
       "      <th>coverage</th>\n",
       "      <th>avg_size</th>\n",
       "      <th>cov_frau1</th>\n",
       "      <th>cov_nongerman</th>\n",
       "      <th>cov_nongerman_male</th>\n",
       "      <th>cov_nongerman_female</th>\n",
       "    </tr>\n",
       "  </thead>\n",
       "  <tbody>\n",
       "    <tr>\n",
       "      <th>0</th>\n",
       "      <td>12ef4eeb910ad56472244a2be83a4181</td>\n",
       "      <td>2014</td>\n",
       "      <td>1k</td>\n",
       "      <td>do-not-scale</td>\n",
       "      <td>elasticnet</td>\n",
       "      <td>age</td>\n",
       "      <td>drop-non-german</td>\n",
       "      <td>0.669545</td>\n",
       "      <td>0.91088</td>\n",
       "      <td>1.282421</td>\n",
       "      <td>0.910473</td>\n",
       "      <td>0.95784</td>\n",
       "      <td>0.965595</td>\n",
       "      <td>0.945007</td>\n",
       "    </tr>\n",
       "  </tbody>\n",
       "</table>\n",
       "</div>"
      ],
      "text/plain": [
       "                        universe_id universe_training_year  \\\n",
       "0  12ef4eeb910ad56472244a2be83a4181                   2014   \n",
       "\n",
       "  universe_training_size universe_scale universe_model  \\\n",
       "0                     1k   do-not-scale     elasticnet   \n",
       "\n",
       "  universe_exclude_features universe_exclude_subgroups     q_hat  coverage  \\\n",
       "0                       age            drop-non-german  0.669545   0.91088   \n",
       "\n",
       "   avg_size  cov_frau1  cov_nongerman  cov_nongerman_male  \\\n",
       "0  1.282421   0.910473        0.95784            0.965595   \n",
       "\n",
       "   cov_nongerman_female  \n",
       "0              0.945007  "
      ]
     },
     "execution_count": 71,
     "metadata": {},
     "output_type": "execute_result"
    }
   ],
   "source": [
    "cp_metrics_df"
   ]
  },
  {
   "cell_type": "markdown",
   "id": "33774451",
   "metadata": {
    "papermill": {
     "duration": 0.025159,
     "end_time": "2025-07-30T21:32:59.291257",
     "exception": false,
     "start_time": "2025-07-30T21:32:59.266098",
     "status": "completed"
    },
    "tags": []
   },
   "source": [
    "# (Fairness) Metrics"
   ]
  },
  {
   "cell_type": "code",
   "execution_count": 72,
   "id": "debc5d62",
   "metadata": {
    "execution": {
     "iopub.execute_input": "2025-07-30T21:32:59.344834Z",
     "iopub.status.busy": "2025-07-30T21:32:59.343887Z",
     "iopub.status.idle": "2025-07-30T21:32:59.363906Z",
     "shell.execute_reply": "2025-07-30T21:32:59.362944Z"
    },
    "papermill": {
     "duration": 0.048141,
     "end_time": "2025-07-30T21:32:59.365799",
     "exception": false,
     "start_time": "2025-07-30T21:32:59.317658",
     "status": "completed"
    },
    "tags": []
   },
   "outputs": [],
   "source": [
    "# do I need to include maxdeutsch1.missing?\n",
    "\n",
    "import numpy as np\n",
    "\n",
    "colname_to_bin = \"maxdeutsch1\"\n",
    "majority_value = org_train[colname_to_bin].mode()[0]\n",
    "\n",
    "org_test[\"majmin\"] = np.where(org_test[colname_to_bin] == majority_value, \"majority\", \"minority\")"
   ]
  },
  {
   "cell_type": "code",
   "execution_count": 73,
   "id": "06a50de5",
   "metadata": {
    "execution": {
     "iopub.execute_input": "2025-07-30T21:32:59.417173Z",
     "iopub.status.busy": "2025-07-30T21:32:59.416302Z",
     "iopub.status.idle": "2025-07-30T21:33:02.208513Z",
     "shell.execute_reply": "2025-07-30T21:33:02.207632Z"
    },
    "papermill": {
     "duration": 2.819674,
     "end_time": "2025-07-30T21:33:02.210287",
     "exception": false,
     "start_time": "2025-07-30T21:32:59.390613",
     "status": "completed"
    },
    "tags": []
   },
   "outputs": [],
   "source": [
    "example_universe = universe.copy()\n",
    "example_universe[\"cutoff\"] = example_universe[\"cutoff\"][0]\n",
    "example_universe[\"eval_fairness_grouping\"] = example_universe[\"eval_fairness_grouping\"][0]\n",
    "fairness_dict, metric_frame = universe_analysis.compute_metrics(\n",
    "    example_universe,\n",
    "    y_pred_prob=probs_test,\n",
    "    y_test=y_true,\n",
    "    org_test=org_test,\n",
    ")"
   ]
  },
  {
   "cell_type": "markdown",
   "id": "f95d4e02",
   "metadata": {
    "papermill": {
     "duration": 0.024354,
     "end_time": "2025-07-30T21:33:02.263607",
     "exception": false,
     "start_time": "2025-07-30T21:33:02.239253",
     "status": "completed"
    },
    "tags": []
   },
   "source": [
    "# Overall"
   ]
  },
  {
   "cell_type": "markdown",
   "id": "bdee4871",
   "metadata": {
    "papermill": {
     "duration": 0.024711,
     "end_time": "2025-07-30T21:33:02.313378",
     "exception": false,
     "start_time": "2025-07-30T21:33:02.288667",
     "status": "completed"
    },
    "tags": []
   },
   "source": [
    "Fairness\n",
    "Main fairness target: Equalized Odds. Seems to be a better fit than equal opportunity, since we're not only interested in Y = 1. Seems to be a better fit than demographic parity, since we also care about accuracy, not just equal distribution of preds.\n",
    "\n",
    "Pick column for computation of fairness metrics\n",
    "\n",
    "Performance\n",
    "Overall performance measures, most interesting in relation to the measures split by group below"
   ]
  },
  {
   "cell_type": "code",
   "execution_count": 74,
   "id": "c4e067c6",
   "metadata": {
    "execution": {
     "iopub.execute_input": "2025-07-30T21:33:02.372758Z",
     "iopub.status.busy": "2025-07-30T21:33:02.368804Z",
     "iopub.status.idle": "2025-07-30T21:33:02.382072Z",
     "shell.execute_reply": "2025-07-30T21:33:02.381077Z"
    },
    "papermill": {
     "duration": 0.04218,
     "end_time": "2025-07-30T21:33:02.383715",
     "exception": false,
     "start_time": "2025-07-30T21:33:02.341535",
     "status": "completed"
    },
    "tags": []
   },
   "outputs": [
    {
     "data": {
      "text/plain": [
       "accuracy                   0.214525\n",
       "balanced accuracy          0.526606\n",
       "f1                         0.236127\n",
       "precision                  0.134891\n",
       "false positive rate        0.893174\n",
       "false negative rate        0.053615\n",
       "selection rate             0.900000\n",
       "count                  89710.000000\n",
       "dtype: float64"
      ]
     },
     "execution_count": 74,
     "metadata": {},
     "output_type": "execute_result"
    }
   ],
   "source": [
    "metric_frame.overall"
   ]
  },
  {
   "cell_type": "markdown",
   "id": "e968fe9d",
   "metadata": {
    "papermill": {
     "duration": 0.024911,
     "end_time": "2025-07-30T21:33:02.434926",
     "exception": false,
     "start_time": "2025-07-30T21:33:02.410015",
     "status": "completed"
    },
    "tags": []
   },
   "source": [
    "By Group"
   ]
  },
  {
   "cell_type": "code",
   "execution_count": 75,
   "id": "ec325bce",
   "metadata": {
    "execution": {
     "iopub.execute_input": "2025-07-30T21:33:02.487064Z",
     "iopub.status.busy": "2025-07-30T21:33:02.486535Z",
     "iopub.status.idle": "2025-07-30T21:33:02.504259Z",
     "shell.execute_reply": "2025-07-30T21:33:02.503136Z"
    },
    "papermill": {
     "duration": 0.044889,
     "end_time": "2025-07-30T21:33:02.505891",
     "exception": false,
     "start_time": "2025-07-30T21:33:02.461002",
     "status": "completed"
    },
    "tags": []
   },
   "outputs": [
    {
     "data": {
      "text/html": [
       "<div>\n",
       "<style scoped>\n",
       "    .dataframe tbody tr th:only-of-type {\n",
       "        vertical-align: middle;\n",
       "    }\n",
       "\n",
       "    .dataframe tbody tr th {\n",
       "        vertical-align: top;\n",
       "    }\n",
       "\n",
       "    .dataframe thead th {\n",
       "        text-align: right;\n",
       "    }\n",
       "</style>\n",
       "<table border=\"1\" class=\"dataframe\">\n",
       "  <thead>\n",
       "    <tr style=\"text-align: right;\">\n",
       "      <th></th>\n",
       "      <th>accuracy</th>\n",
       "      <th>balanced accuracy</th>\n",
       "      <th>f1</th>\n",
       "      <th>precision</th>\n",
       "      <th>false positive rate</th>\n",
       "      <th>false negative rate</th>\n",
       "      <th>selection rate</th>\n",
       "      <th>count</th>\n",
       "    </tr>\n",
       "    <tr>\n",
       "      <th>majmin</th>\n",
       "      <th></th>\n",
       "      <th></th>\n",
       "      <th></th>\n",
       "      <th></th>\n",
       "      <th></th>\n",
       "      <th></th>\n",
       "      <th></th>\n",
       "      <th></th>\n",
       "    </tr>\n",
       "  </thead>\n",
       "  <tbody>\n",
       "    <tr>\n",
       "      <th>majority</th>\n",
       "      <td>0.234726</td>\n",
       "      <td>0.532994</td>\n",
       "      <td>0.244749</td>\n",
       "      <td>0.140727</td>\n",
       "      <td>0.872414</td>\n",
       "      <td>0.061597</td>\n",
       "      <td>0.881133</td>\n",
       "      <td>69170.0</td>\n",
       "    </tr>\n",
       "    <tr>\n",
       "      <th>minority</th>\n",
       "      <td>0.146495</td>\n",
       "      <td>0.507721</td>\n",
       "      <td>0.208854</td>\n",
       "      <td>0.116922</td>\n",
       "      <td>0.961754</td>\n",
       "      <td>0.022804</td>\n",
       "      <td>0.963535</td>\n",
       "      <td>20540.0</td>\n",
       "    </tr>\n",
       "  </tbody>\n",
       "</table>\n",
       "</div>"
      ],
      "text/plain": [
       "          accuracy  balanced accuracy        f1  precision  \\\n",
       "majmin                                                       \n",
       "majority  0.234726           0.532994  0.244749   0.140727   \n",
       "minority  0.146495           0.507721  0.208854   0.116922   \n",
       "\n",
       "          false positive rate  false negative rate  selection rate    count  \n",
       "majmin                                                                       \n",
       "majority             0.872414             0.061597        0.881133  69170.0  \n",
       "minority             0.961754             0.022804        0.963535  20540.0  "
      ]
     },
     "execution_count": 75,
     "metadata": {},
     "output_type": "execute_result"
    }
   ],
   "source": [
    "metric_frame.by_group"
   ]
  },
  {
   "cell_type": "code",
   "execution_count": 76,
   "id": "a9ddbe63",
   "metadata": {
    "execution": {
     "iopub.execute_input": "2025-07-30T21:33:02.561306Z",
     "iopub.status.busy": "2025-07-30T21:33:02.560447Z",
     "iopub.status.idle": "2025-07-30T21:33:04.429261Z",
     "shell.execute_reply": "2025-07-30T21:33:04.428498Z"
    },
    "papermill": {
     "duration": 1.897401,
     "end_time": "2025-07-30T21:33:04.430708",
     "exception": false,
     "start_time": "2025-07-30T21:33:02.533307",
     "status": "completed"
    },
    "tags": []
   },
   "outputs": [
    {
     "data": {
      "text/plain": [
       "array([[<Axes: title={'center': 'accuracy'}, xlabel='majmin'>,\n",
       "        <Axes: title={'center': 'balanced accuracy'}, xlabel='majmin'>,\n",
       "        <Axes: title={'center': 'f1'}, xlabel='majmin'>],\n",
       "       [<Axes: title={'center': 'precision'}, xlabel='majmin'>,\n",
       "        <Axes: title={'center': 'false positive rate'}, xlabel='majmin'>,\n",
       "        <Axes: title={'center': 'false negative rate'}, xlabel='majmin'>],\n",
       "       [<Axes: title={'center': 'selection rate'}, xlabel='majmin'>,\n",
       "        <Axes: title={'center': 'count'}, xlabel='majmin'>,\n",
       "        <Axes: xlabel='majmin'>]], dtype=object)"
      ]
     },
     "execution_count": 76,
     "metadata": {},
     "output_type": "execute_result"
    },
    {
     "data": {
      "image/png": "[encoded data removed]",
      "text/plain": [
       "<Figure size 1200x800 with 9 Axes>"
      ]
     },
     "metadata": {},
     "output_type": "display_data"
    }
   ],
   "source": [
    "# In a graphic\n",
    "metric_frame.by_group.plot.bar(\n",
    "    subplots=True,\n",
    "    layout=[3, 3],\n",
    "    legend=False,\n",
    "    figsize=[12, 8],\n",
    "    title=\"Show all metrics\",\n",
    ")"
   ]
  },
  {
   "cell_type": "markdown",
   "id": "f57a0bac",
   "metadata": {
    "papermill": {
     "duration": 0.026625,
     "end_time": "2025-07-30T21:33:04.484781",
     "exception": false,
     "start_time": "2025-07-30T21:33:04.458156",
     "status": "completed"
    },
    "tags": []
   },
   "source": [
    "# Final Output"
   ]
  },
  {
   "cell_type": "code",
   "execution_count": 77,
   "id": "96d280a3",
   "metadata": {
    "execution": {
     "iopub.execute_input": "2025-07-30T21:33:04.540933Z",
     "iopub.status.busy": "2025-07-30T21:33:04.540287Z",
     "iopub.status.idle": "2025-07-30T21:33:04.548502Z",
     "shell.execute_reply": "2025-07-30T21:33:04.547496Z"
    },
    "papermill": {
     "duration": 0.038132,
     "end_time": "2025-07-30T21:33:04.549916",
     "exception": false,
     "start_time": "2025-07-30T21:33:04.511784",
     "status": "completed"
    },
    "tags": []
   },
   "outputs": [
    {
     "data": {
      "text/plain": [
       "4"
      ]
     },
     "execution_count": 77,
     "metadata": {},
     "output_type": "execute_result"
    }
   ],
   "source": [
    "sub_universes = universe_analysis.generate_sub_universes()\n",
    "len(sub_universes)"
   ]
  },
  {
   "cell_type": "code",
   "execution_count": 78,
   "id": "92adf7ba",
   "metadata": {
    "execution": {
     "iopub.execute_input": "2025-07-30T21:33:04.606678Z",
     "iopub.status.busy": "2025-07-30T21:33:04.606318Z",
     "iopub.status.idle": "2025-07-30T21:33:04.610872Z",
     "shell.execute_reply": "2025-07-30T21:33:04.610212Z"
    },
    "papermill": {
     "duration": 0.034875,
     "end_time": "2025-07-30T21:33:04.612263",
     "exception": false,
     "start_time": "2025-07-30T21:33:04.577388",
     "status": "completed"
    },
    "tags": []
   },
   "outputs": [],
   "source": [
    "def filter_sub_universe_data(sub_universe, org_test):\n",
    "    # Keep all rows — no filtering\n",
    "    keep_rows_mask = np.ones(org_test.shape[0], dtype=bool)\n",
    "\n",
    "    print(f\"[INFO] Keeping all rows: {keep_rows_mask.sum()} rows retained.\")\n",
    "    return keep_rows_mask"
   ]
  },
  {
   "cell_type": "code",
   "execution_count": 79,
   "id": "4a759155",
   "metadata": {
    "execution": {
     "iopub.execute_input": "2025-07-30T21:33:04.671675Z",
     "iopub.status.busy": "2025-07-30T21:33:04.671174Z",
     "iopub.status.idle": "2025-07-30T21:33:14.675888Z",
     "shell.execute_reply": "2025-07-30T21:33:14.675158Z"
    },
    "papermill": {
     "duration": 10.037454,
     "end_time": "2025-07-30T21:33:14.677208",
     "exception": false,
     "start_time": "2025-07-30T21:33:04.639754",
     "status": "completed"
    },
    "tags": []
   },
   "outputs": [
    {
     "name": "stdout",
     "output_type": "stream",
     "text": [
      "Stopping execution_time clock.\n",
      "[INFO] Keeping all rows: 89710 rows retained.\n"
     ]
    },
    {
     "name": "stdout",
     "output_type": "stream",
     "text": [
      "[INFO] Keeping all rows: 89710 rows retained.\n"
     ]
    },
    {
     "name": "stdout",
     "output_type": "stream",
     "text": [
      "[INFO] Keeping all rows: 89710 rows retained.\n"
     ]
    },
    {
     "name": "stdout",
     "output_type": "stream",
     "text": [
      "[INFO] Keeping all rows: 89710 rows retained.\n"
     ]
    },
    {
     "data": {
      "text/html": [
       "<div>\n",
       "<style scoped>\n",
       "    .dataframe tbody tr th:only-of-type {\n",
       "        vertical-align: middle;\n",
       "    }\n",
       "\n",
       "    .dataframe tbody tr th {\n",
       "        vertical-align: top;\n",
       "    }\n",
       "\n",
       "    .dataframe thead th {\n",
       "        text-align: right;\n",
       "    }\n",
       "</style>\n",
       "<table border=\"1\" class=\"dataframe\">\n",
       "  <thead>\n",
       "    <tr style=\"text-align: right;\">\n",
       "      <th></th>\n",
       "      <th>run_no</th>\n",
       "      <th>universe_id</th>\n",
       "      <th>universe_settings</th>\n",
       "      <th>execution_time</th>\n",
       "      <th>test_size_n</th>\n",
       "      <th>test_size_frac</th>\n",
       "      <th>fair_main_equalized_odds_difference</th>\n",
       "      <th>fair_main_equalized_odds_ratio</th>\n",
       "      <th>fair_main_demographic_parity_difference</th>\n",
       "      <th>fair_main_demographic_parity_ratio</th>\n",
       "      <th>...</th>\n",
       "      <th>perf_grp_precision_0</th>\n",
       "      <th>perf_grp_precision_1</th>\n",
       "      <th>perf_grp_false positive rate_0</th>\n",
       "      <th>perf_grp_false positive rate_1</th>\n",
       "      <th>perf_grp_false negative rate_0</th>\n",
       "      <th>perf_grp_false negative rate_1</th>\n",
       "      <th>perf_grp_selection rate_0</th>\n",
       "      <th>perf_grp_selection rate_1</th>\n",
       "      <th>perf_grp_count_0</th>\n",
       "      <th>perf_grp_count_1</th>\n",
       "    </tr>\n",
       "  </thead>\n",
       "  <tbody>\n",
       "    <tr>\n",
       "      <th>0</th>\n",
       "      <td>14</td>\n",
       "      <td>12ef4eeb910ad56472244a2be83a4181</td>\n",
       "      <td>{\"cutoff\": \"quantile_0.1\", \"eval_fairness_grou...</td>\n",
       "      <td>43.284576</td>\n",
       "      <td>89710</td>\n",
       "      <td>1.0</td>\n",
       "      <td>0.089341</td>\n",
       "      <td>0.907107</td>\n",
       "      <td>0.082401</td>\n",
       "      <td>0.914480</td>\n",
       "      <td>...</td>\n",
       "      <td>NaN</td>\n",
       "      <td>NaN</td>\n",
       "      <td>NaN</td>\n",
       "      <td>NaN</td>\n",
       "      <td>NaN</td>\n",
       "      <td>NaN</td>\n",
       "      <td>NaN</td>\n",
       "      <td>NaN</td>\n",
       "      <td>NaN</td>\n",
       "      <td>NaN</td>\n",
       "    </tr>\n",
       "    <tr>\n",
       "      <th>0</th>\n",
       "      <td>14</td>\n",
       "      <td>12ef4eeb910ad56472244a2be83a4181</td>\n",
       "      <td>{\"cutoff\": \"quantile_0.1\", \"eval_fairness_grou...</td>\n",
       "      <td>43.284576</td>\n",
       "      <td>89710</td>\n",
       "      <td>1.0</td>\n",
       "      <td>0.089341</td>\n",
       "      <td>0.907107</td>\n",
       "      <td>0.082401</td>\n",
       "      <td>0.914480</td>\n",
       "      <td>...</td>\n",
       "      <td>0.116922</td>\n",
       "      <td>0.140727</td>\n",
       "      <td>0.961754</td>\n",
       "      <td>0.872414</td>\n",
       "      <td>0.022804</td>\n",
       "      <td>0.061597</td>\n",
       "      <td>0.963535</td>\n",
       "      <td>0.881133</td>\n",
       "      <td>20540.0</td>\n",
       "      <td>69170.0</td>\n",
       "    </tr>\n",
       "    <tr>\n",
       "      <th>0</th>\n",
       "      <td>14</td>\n",
       "      <td>12ef4eeb910ad56472244a2be83a4181</td>\n",
       "      <td>{\"cutoff\": \"quantile_0.25\", \"eval_fairness_gro...</td>\n",
       "      <td>43.284576</td>\n",
       "      <td>89710</td>\n",
       "      <td>1.0</td>\n",
       "      <td>0.219148</td>\n",
       "      <td>0.757424</td>\n",
       "      <td>0.203074</td>\n",
       "      <td>0.775998</td>\n",
       "      <td>...</td>\n",
       "      <td>NaN</td>\n",
       "      <td>NaN</td>\n",
       "      <td>NaN</td>\n",
       "      <td>NaN</td>\n",
       "      <td>NaN</td>\n",
       "      <td>NaN</td>\n",
       "      <td>NaN</td>\n",
       "      <td>NaN</td>\n",
       "      <td>NaN</td>\n",
       "      <td>NaN</td>\n",
       "    </tr>\n",
       "    <tr>\n",
       "      <th>0</th>\n",
       "      <td>14</td>\n",
       "      <td>12ef4eeb910ad56472244a2be83a4181</td>\n",
       "      <td>{\"cutoff\": \"quantile_0.25\", \"eval_fairness_gro...</td>\n",
       "      <td>43.284576</td>\n",
       "      <td>89710</td>\n",
       "      <td>1.0</td>\n",
       "      <td>0.219148</td>\n",
       "      <td>0.757424</td>\n",
       "      <td>0.203074</td>\n",
       "      <td>0.775998</td>\n",
       "      <td>...</td>\n",
       "      <td>0.118361</td>\n",
       "      <td>0.155854</td>\n",
       "      <td>0.903423</td>\n",
       "      <td>0.684275</td>\n",
       "      <td>0.069257</td>\n",
       "      <td>0.170241</td>\n",
       "      <td>0.906573</td>\n",
       "      <td>0.703499</td>\n",
       "      <td>20540.0</td>\n",
       "      <td>69170.0</td>\n",
       "    </tr>\n",
       "  </tbody>\n",
       "</table>\n",
       "<p>4 rows × 50 columns</p>\n",
       "</div>"
      ],
      "text/plain": [
       "  run_no                       universe_id  \\\n",
       "0     14  12ef4eeb910ad56472244a2be83a4181   \n",
       "0     14  12ef4eeb910ad56472244a2be83a4181   \n",
       "0     14  12ef4eeb910ad56472244a2be83a4181   \n",
       "0     14  12ef4eeb910ad56472244a2be83a4181   \n",
       "\n",
       "                                   universe_settings  execution_time  \\\n",
       "0  {\"cutoff\": \"quantile_0.1\", \"eval_fairness_grou...       43.284576   \n",
       "0  {\"cutoff\": \"quantile_0.1\", \"eval_fairness_grou...       43.284576   \n",
       "0  {\"cutoff\": \"quantile_0.25\", \"eval_fairness_gro...       43.284576   \n",
       "0  {\"cutoff\": \"quantile_0.25\", \"eval_fairness_gro...       43.284576   \n",
       "\n",
       "   test_size_n  test_size_frac  fair_main_equalized_odds_difference  \\\n",
       "0        89710             1.0                             0.089341   \n",
       "0        89710             1.0                             0.089341   \n",
       "0        89710             1.0                             0.219148   \n",
       "0        89710             1.0                             0.219148   \n",
       "\n",
       "   fair_main_equalized_odds_ratio  fair_main_demographic_parity_difference  \\\n",
       "0                        0.907107                                 0.082401   \n",
       "0                        0.907107                                 0.082401   \n",
       "0                        0.757424                                 0.203074   \n",
       "0                        0.757424                                 0.203074   \n",
       "\n",
       "   fair_main_demographic_parity_ratio  ...  perf_grp_precision_0  \\\n",
       "0                            0.914480  ...                   NaN   \n",
       "0                            0.914480  ...              0.116922   \n",
       "0                            0.775998  ...                   NaN   \n",
       "0                            0.775998  ...              0.118361   \n",
       "\n",
       "   perf_grp_precision_1  perf_grp_false positive rate_0  \\\n",
       "0                   NaN                             NaN   \n",
       "0              0.140727                        0.961754   \n",
       "0                   NaN                             NaN   \n",
       "0              0.155854                        0.903423   \n",
       "\n",
       "   perf_grp_false positive rate_1  perf_grp_false negative rate_0  \\\n",
       "0                             NaN                             NaN   \n",
       "0                        0.872414                        0.022804   \n",
       "0                             NaN                             NaN   \n",
       "0                        0.684275                        0.069257   \n",
       "\n",
       "   perf_grp_false negative rate_1  perf_grp_selection rate_0  \\\n",
       "0                             NaN                        NaN   \n",
       "0                        0.061597                   0.963535   \n",
       "0                             NaN                        NaN   \n",
       "0                        0.170241                   0.906573   \n",
       "\n",
       "   perf_grp_selection rate_1  perf_grp_count_0  perf_grp_count_1  \n",
       "0                        NaN               NaN               NaN  \n",
       "0                   0.881133           20540.0           69170.0  \n",
       "0                        NaN               NaN               NaN  \n",
       "0                   0.703499           20540.0           69170.0  \n",
       "\n",
       "[4 rows x 50 columns]"
      ]
     },
     "execution_count": 79,
     "metadata": {},
     "output_type": "execute_result"
    }
   ],
   "source": [
    "final_output = universe_analysis.generate_final_output(\n",
    "    y_pred_prob=probs_test,\n",
    "    y_test=y_true,\n",
    "    org_test=org_test,\n",
    "    filter_data=filter_sub_universe_data,\n",
    "    cp_metrics_df=cp_metrics_df,\n",
    "    save=True,\n",
    ")\n",
    "final_output"
   ]
  },
  {
   "cell_type": "code",
   "execution_count": null,
   "id": "721ff514-cb11-46f8-b6fc-50392f74b5cb",
   "metadata": {
    "papermill": {
     "duration": 0.016264,
     "end_time": "2025-07-30T21:33:14.711755",
     "exception": false,
     "start_time": "2025-07-30T21:33:14.695491",
     "status": "completed"
    },
    "tags": []
   },
   "outputs": [],
   "source": []
  }
 ],
 "metadata": {
  "celltoolbar": "Tags",
  "kernelspec": {
   "display_name": "Python (CMA Fairness)",
   "language": "python",
   "name": "cma_fair_env"
  },
  "language_info": {
   "codemirror_mode": {
    "name": "ipython",
    "version": 3
   },
   "file_extension": ".py",
   "mimetype": "text/x-python",
   "name": "python",
   "nbconvert_exporter": "python",
   "pygments_lexer": "ipython3",
   "version": "3.10.12"
  },
  "papermill": {
   "default_parameters": {},
   "duration": 57.39016,
   "end_time": "2025-07-30T21:33:15.445855",
   "environment_variables": {},
   "exception": null,
   "input_path": "universe_analysis.ipynb",
   "output_path": "output/runs/14/notebooks/m_14-12ef4eeb910ad56472244a2be83a4181.ipynb",
   "parameters": {
    "output_dir": "output",
    "run_no": "14",
    "seed": "2023",
    "universe": "{\"cutoff\": [\"quantile_0.1\", \"quantile_0.25\"], \"eval_fairness_grouping\": [\"majority-minority\", \"nationality-all\"], \"exclude_features\": \"age\", \"exclude_subgroups\": \"drop-non-german\", \"model\": \"elasticnet\", \"scale\": \"do-not-scale\", \"training_size\": \"1k\", \"training_year\": \"2014\"}",
    "universe_id": "12ef4eeb910ad56472244a2be83a4181"
   },
   "start_time": "2025-07-30T21:32:18.055695",
   "version": "2.6.0"
  }
 },
 "nbformat": 4,
 "nbformat_minor": 5
}