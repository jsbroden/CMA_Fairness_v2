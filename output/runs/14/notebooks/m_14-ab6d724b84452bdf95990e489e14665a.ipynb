{
 "cells": [
  {
   "cell_type": "code",
   "execution_count": 1,
   "id": "f159f837-637b-42ba-96b5-ec9a68c44524",
   "metadata": {
    "execution": {
     "iopub.execute_input": "2025-07-30T21:39:57.819262Z",
     "iopub.status.busy": "2025-07-30T21:39:57.818670Z",
     "iopub.status.idle": "2025-07-30T21:39:57.834904Z",
     "shell.execute_reply": "2025-07-30T21:39:57.833973Z"
    },
    "papermill": {
     "duration": 0.040336,
     "end_time": "2025-07-30T21:39:57.836599",
     "exception": false,
     "start_time": "2025-07-30T21:39:57.796263",
     "status": "completed"
    },
    "tags": []
   },
   "outputs": [
    {
     "name": "stdout",
     "output_type": "stream",
     "text": [
      "/dss/dsshome1/0C/ra93lal2/cma/CMA_Fairness_v2\n"
     ]
    },
    {
     "name": "stderr",
     "output_type": "stream",
     "text": [
      "/dss/dsshome1/0C/ra93lal2/.local/share/virtualenvs/CMA_Fairness_v2-3j10GkSs/lib/python3.10/site-packages/IPython/core/magics/osm.py:393: UserWarning: This is now an optional IPython functionality, using bookmarks requires you to install the `pickleshare` library.\n",
      "  bkms = self.shell.db.get('bookmarks', {})\n",
      "/dss/dsshome1/0C/ra93lal2/.local/share/virtualenvs/CMA_Fairness_v2-3j10GkSs/lib/python3.10/site-packages/IPython/core/magics/osm.py:417: UserWarning: This is now an optional IPython functionality, setting dhist requires you to install the `pickleshare` library.\n",
      "  self.shell.db['dhist'] = compress_dhist(dhist)[-100:]\n"
     ]
    }
   ],
   "source": [
    "%cd ~/cma/CMA_Fairness_v2"
   ]
  },
  {
   "cell_type": "markdown",
   "id": "de2603b9",
   "metadata": {
    "papermill": {
     "duration": 0.020883,
     "end_time": "2025-07-30T21:39:57.879479",
     "exception": false,
     "start_time": "2025-07-30T21:39:57.858596",
     "status": "completed"
    },
    "tags": []
   },
   "source": [
    "The following cell holds the definition of our parameters, these values can be overriden by rendering the with e.g. the following command:\n",
    "\n",
    "papermill -p alpha 0.2 -p ratio 0.3 universe_analysis.ipynb output/test_run.ipynb"
   ]
  },
  {
   "cell_type": "code",
   "execution_count": 2,
   "id": "a80968a0-40bb-4fa9-85ef-2d5eefb01975",
   "metadata": {
    "execution": {
     "iopub.execute_input": "2025-07-30T21:39:57.924940Z",
     "iopub.status.busy": "2025-07-30T21:39:57.923914Z",
     "iopub.status.idle": "2025-07-30T21:39:57.930783Z",
     "shell.execute_reply": "2025-07-30T21:39:57.929714Z"
    },
    "papermill": {
     "duration": 0.031066,
     "end_time": "2025-07-30T21:39:57.932560",
     "exception": false,
     "start_time": "2025-07-30T21:39:57.901494",
     "status": "completed"
    },
    "tags": []
   },
   "outputs": [
    {
     "name": "stdout",
     "output_type": "stream",
     "text": [
      "Current working directory: /dss/dsshome1/0C/ra93lal2/cma/CMA_Fairness_v2\n"
     ]
    }
   ],
   "source": [
    "import os\n",
    "print(\"Current working directory:\", os.getcwd())"
   ]
  },
  {
   "cell_type": "code",
   "execution_count": 3,
   "id": "2dce4c03",
   "metadata": {
    "execution": {
     "iopub.execute_input": "2025-07-30T21:39:57.976853Z",
     "iopub.status.busy": "2025-07-30T21:39:57.976365Z",
     "iopub.status.idle": "2025-07-30T21:39:57.983072Z",
     "shell.execute_reply": "2025-07-30T21:39:57.982059Z"
    },
    "papermill": {
     "duration": 0.032415,
     "end_time": "2025-07-30T21:39:57.985025",
     "exception": false,
     "start_time": "2025-07-30T21:39:57.952610",
     "status": "completed"
    },
    "tags": [
     "parameters"
    ]
   },
   "outputs": [],
   "source": [
    "run_no = 0\n",
    "universe_id = \"test\"\n",
    "universe = {\n",
    "    \"training_size\": \"25k\", # \"25k\", \"5k\", \"1k\"\n",
    "    \"training_year\": \"2014\", # \"2014\", \"2012_14\", \"2010_14\"\n",
    "    \"scale\": \"scale\", # \"scale\", \"do-not-scale\",\n",
    "    #\"stratify_split\": \"target\", # \"none\", \"target\", \"protected-attribute\", \"both\",\n",
    "    \"model\": \"elasticnet\", # \"logreg\", \"penalized_logreg\", \"rf\", \"gbm\", \"elasticnet\"\n",
    "    \"cutoff\": [\"quantile_0.15\", \"quantile_0.30\"],\n",
    "    \"exclude_features\": \"age\", # \"none\", \"nationality\", \"sex\", \"nationality-sex\", \"age\"\n",
    "    \"exclude_subgroups\": \"keep-all\", # \"keep-all\", \"drop-non-german\"\n",
    "    \"eval_fairness_grouping\": [\"majority-minority\", \"nationality-all\"]\n",
    "}\n",
    "\n",
    "output_dir=\"./output\"\n",
    "seed=0"
   ]
  },
  {
   "cell_type": "code",
   "execution_count": 4,
   "id": "683592fb",
   "metadata": {
    "execution": {
     "iopub.execute_input": "2025-07-30T21:39:58.034897Z",
     "iopub.status.busy": "2025-07-30T21:39:58.034393Z",
     "iopub.status.idle": "2025-07-30T21:39:58.039998Z",
     "shell.execute_reply": "2025-07-30T21:39:58.038980Z"
    },
    "papermill": {
     "duration": 0.030977,
     "end_time": "2025-07-30T21:39:58.041768",
     "exception": false,
     "start_time": "2025-07-30T21:39:58.010791",
     "status": "completed"
    },
    "tags": [
     "injected-parameters"
    ]
   },
   "outputs": [],
   "source": [
    "# Parameters\n",
    "universe_id = \"ab6d724b84452bdf95990e489e14665a\"\n",
    "run_no = \"14\"\n",
    "universe = \"{\\\"cutoff\\\": [\\\"quantile_0.1\\\", \\\"quantile_0.25\\\"], \\\"eval_fairness_grouping\\\": [\\\"majority-minority\\\", \\\"nationality-all\\\"], \\\"exclude_features\\\": \\\"none\\\", \\\"exclude_subgroups\\\": \\\"keep-all\\\", \\\"model\\\": \\\"rf\\\", \\\"scale\\\": \\\"do-not-scale\\\", \\\"training_size\\\": \\\"1k\\\", \\\"training_year\\\": \\\"2012_14\\\"}\"\n",
    "output_dir = \"output\"\n",
    "seed = \"2023\"\n"
   ]
  },
  {
   "cell_type": "code",
   "execution_count": 5,
   "id": "1650acaf",
   "metadata": {
    "execution": {
     "iopub.execute_input": "2025-07-30T21:39:58.086959Z",
     "iopub.status.busy": "2025-07-30T21:39:58.086462Z",
     "iopub.status.idle": "2025-07-30T21:39:58.091923Z",
     "shell.execute_reply": "2025-07-30T21:39:58.090979Z"
    },
    "papermill": {
     "duration": 0.030108,
     "end_time": "2025-07-30T21:39:58.093888",
     "exception": false,
     "start_time": "2025-07-30T21:39:58.063780",
     "status": "completed"
    },
    "tags": []
   },
   "outputs": [],
   "source": [
    "import json\n",
    "# Parse universe into dict if it is passed as a string\n",
    "if isinstance(universe, str):\n",
    "    universe = json.loads(universe)"
   ]
  },
  {
   "cell_type": "code",
   "execution_count": 6,
   "id": "16620c48",
   "metadata": {
    "execution": {
     "iopub.execute_input": "2025-07-30T21:39:58.139744Z",
     "iopub.status.busy": "2025-07-30T21:39:58.139325Z",
     "iopub.status.idle": "2025-07-30T21:39:58.188496Z",
     "shell.execute_reply": "2025-07-30T21:39:58.187485Z"
    },
    "papermill": {
     "duration": 0.074616,
     "end_time": "2025-07-30T21:39:58.190816",
     "exception": false,
     "start_time": "2025-07-30T21:39:58.116200",
     "status": "completed"
    },
    "tags": []
   },
   "outputs": [],
   "source": [
    "# Auto-reload the custom package\n",
    "%load_ext autoreload\n",
    "%autoreload 1\n",
    "%aimport fairness_multiverse"
   ]
  },
  {
   "cell_type": "code",
   "execution_count": 7,
   "id": "01c5c9f3",
   "metadata": {
    "execution": {
     "iopub.execute_input": "2025-07-30T21:39:58.235067Z",
     "iopub.status.busy": "2025-07-30T21:39:58.234197Z",
     "iopub.status.idle": "2025-07-30T21:40:00.223716Z",
     "shell.execute_reply": "2025-07-30T21:40:00.222763Z"
    },
    "papermill": {
     "duration": 2.013038,
     "end_time": "2025-07-30T21:40:00.225817",
     "exception": false,
     "start_time": "2025-07-30T21:39:58.212779",
     "status": "completed"
    },
    "tags": []
   },
   "outputs": [],
   "source": [
    "from fairness_multiverse.universe import UniverseAnalysis\n",
    "\n",
    "universe_analysis = UniverseAnalysis(\n",
    "    run_no = run_no,\n",
    "    universe_id = universe_id,\n",
    "    universe = universe,\n",
    "    output_dir=output_dir,\n",
    ")"
   ]
  },
  {
   "cell_type": "code",
   "execution_count": 8,
   "id": "106241f5",
   "metadata": {
    "execution": {
     "iopub.execute_input": "2025-07-30T21:40:00.264402Z",
     "iopub.status.busy": "2025-07-30T21:40:00.263960Z",
     "iopub.status.idle": "2025-07-30T21:40:00.269412Z",
     "shell.execute_reply": "2025-07-30T21:40:00.268400Z"
    },
    "papermill": {
     "duration": 0.02154,
     "end_time": "2025-07-30T21:40:00.270887",
     "exception": false,
     "start_time": "2025-07-30T21:40:00.249347",
     "status": "completed"
    },
    "tags": []
   },
   "outputs": [
    {
     "name": "stdout",
     "output_type": "stream",
     "text": [
      "Using Seed: 2023\n"
     ]
    }
   ],
   "source": [
    "import numpy as np\n",
    "parsed_seed = int(seed)\n",
    "np.random.seed(parsed_seed)\n",
    "print(f\"Using Seed: {parsed_seed}\")"
   ]
  },
  {
   "cell_type": "markdown",
   "id": "e0ebdc57",
   "metadata": {
    "papermill": {
     "duration": 0.021444,
     "end_time": "2025-07-30T21:40:00.305809",
     "exception": false,
     "start_time": "2025-07-30T21:40:00.284365",
     "status": "completed"
    },
    "tags": []
   },
   "source": [
    "# Loading Data"
   ]
  },
  {
   "cell_type": "markdown",
   "id": "681925a3",
   "metadata": {
    "papermill": {
     "duration": 0.021844,
     "end_time": "2025-07-30T21:40:00.349114",
     "exception": false,
     "start_time": "2025-07-30T21:40:00.327270",
     "status": "completed"
    },
    "tags": []
   },
   "source": [
    "Load siab_train, siab_test, siab_calib and/or \n",
    "load siab_train_features, siab_train_labels"
   ]
  },
  {
   "cell_type": "code",
   "execution_count": 9,
   "id": "f0496b8a",
   "metadata": {
    "execution": {
     "iopub.execute_input": "2025-07-30T21:40:00.393101Z",
     "iopub.status.busy": "2025-07-30T21:40:00.392128Z",
     "iopub.status.idle": "2025-07-30T21:40:12.513931Z",
     "shell.execute_reply": "2025-07-30T21:40:12.512874Z"
    },
    "papermill": {
     "duration": 12.144911,
     "end_time": "2025-07-30T21:40:12.515499",
     "exception": false,
     "start_time": "2025-07-30T21:40:00.370588",
     "status": "completed"
    },
    "tags": []
   },
   "outputs": [
    {
     "name": "stdout",
     "output_type": "stream",
     "text": [
      "Loading SIAB data from cache: data/siab_cached.csv.gz\n"
     ]
    },
    {
     "name": "stdout",
     "output_type": "stream",
     "text": [
      "(643690, 164)\n"
     ]
    }
   ],
   "source": [
    "from pathlib import Path\n",
    "import pandas as pd\n",
    "\n",
    "# File paths\n",
    "raw_file = Path(\"data/raw/siab.csv\")\n",
    "cache_file = Path(\"data/siab_cached.csv.gz\")\n",
    "\n",
    "# Ensure cache directory exists\n",
    "cache_file.parent.mkdir(parents=True, exist_ok=True)\n",
    "\n",
    "# Load with simple caching\n",
    "if cache_file.exists():\n",
    "    print(f\"Loading SIAB data from cache: {cache_file}\")\n",
    "    siab = pd.read_csv(cache_file, compression='gzip')\n",
    "else:\n",
    "    print(f\"Cache not found. Reading raw SIAB data: {raw_file}\")\n",
    "    siab = pd.read_csv(raw_file)\n",
    "    siab.to_csv(cache_file, index=False, compression='gzip')\n",
    "    print(f\"Cached SIAB data to: {cache_file}\")\n",
    "\n",
    "# Now use `siab` DataFrame as needed\n",
    "print(siab.shape)"
   ]
  },
  {
   "cell_type": "code",
   "execution_count": 10,
   "id": "db0ca512-5f53-4dba-abdb-a2888bca41ba",
   "metadata": {
    "execution": {
     "iopub.execute_input": "2025-07-30T21:40:12.555874Z",
     "iopub.status.busy": "2025-07-30T21:40:12.555382Z",
     "iopub.status.idle": "2025-07-30T21:40:12.561302Z",
     "shell.execute_reply": "2025-07-30T21:40:12.560365Z"
    },
    "papermill": {
     "duration": 0.030423,
     "end_time": "2025-07-30T21:40:12.562788",
     "exception": false,
     "start_time": "2025-07-30T21:40:12.532365",
     "status": "completed"
    },
    "tags": []
   },
   "outputs": [],
   "source": [
    "#siab"
   ]
  },
  {
   "cell_type": "code",
   "execution_count": 11,
   "id": "a0edb063",
   "metadata": {
    "execution": {
     "iopub.execute_input": "2025-07-30T21:40:12.586276Z",
     "iopub.status.busy": "2025-07-30T21:40:12.585827Z",
     "iopub.status.idle": "2025-07-30T21:40:12.591290Z",
     "shell.execute_reply": "2025-07-30T21:40:12.590333Z"
    },
    "papermill": {
     "duration": 0.019002,
     "end_time": "2025-07-30T21:40:12.592998",
     "exception": false,
     "start_time": "2025-07-30T21:40:12.573996",
     "status": "completed"
    },
    "tags": []
   },
   "outputs": [],
   "source": [
    "#import pandas as pd\n",
    "#\n",
    "#X_train = pd.read_csv(\"./data/X_train.csv\")\n",
    "#y_train = pd.read_csv(\"./data/y_train.csv\")"
   ]
  },
  {
   "cell_type": "code",
   "execution_count": 12,
   "id": "63d08085",
   "metadata": {
    "execution": {
     "iopub.execute_input": "2025-07-30T21:40:12.635881Z",
     "iopub.status.busy": "2025-07-30T21:40:12.635354Z",
     "iopub.status.idle": "2025-07-30T21:40:12.640523Z",
     "shell.execute_reply": "2025-07-30T21:40:12.639490Z"
    },
    "papermill": {
     "duration": 0.029754,
     "end_time": "2025-07-30T21:40:12.642438",
     "exception": false,
     "start_time": "2025-07-30T21:40:12.612684",
     "status": "completed"
    },
    "tags": []
   },
   "outputs": [],
   "source": [
    "#X_test = pd.read_csv(\"./data/X_test.csv\")\n",
    "#y_true = pd.read_csv(\"./data/y_test.csv\")"
   ]
  },
  {
   "cell_type": "code",
   "execution_count": 13,
   "id": "98a8d0fa-1d3d-4ed8-bb2c-281470e24add",
   "metadata": {
    "execution": {
     "iopub.execute_input": "2025-07-30T21:40:12.687347Z",
     "iopub.status.busy": "2025-07-30T21:40:12.686957Z",
     "iopub.status.idle": "2025-07-30T21:40:12.691874Z",
     "shell.execute_reply": "2025-07-30T21:40:12.691032Z"
    },
    "papermill": {
     "duration": 0.029122,
     "end_time": "2025-07-30T21:40:12.693306",
     "exception": false,
     "start_time": "2025-07-30T21:40:12.664184",
     "status": "completed"
    },
    "tags": []
   },
   "outputs": [],
   "source": [
    "# Calibration data for conformal\n",
    "#X_calib = pd.read_csv(\"./data/X_calib.csv\")\n",
    "#y_calib = pd.read_csv(\"./data/y_calib.csv\")"
   ]
  },
  {
   "cell_type": "markdown",
   "id": "997051c5-15bd-4b69-9786-c3001a3ce484",
   "metadata": {
    "papermill": {
     "duration": 0.02157,
     "end_time": "2025-07-30T21:40:12.727386",
     "exception": false,
     "start_time": "2025-07-30T21:40:12.705816",
     "status": "completed"
    },
    "tags": []
   },
   "source": [
    "# Splitting Data and Setting Training Data Size"
   ]
  },
  {
   "cell_type": "code",
   "execution_count": 14,
   "id": "e993b61f-042d-41a6-8c81-f55681f86335",
   "metadata": {
    "execution": {
     "iopub.execute_input": "2025-07-30T21:40:12.762847Z",
     "iopub.status.busy": "2025-07-30T21:40:12.762071Z",
     "iopub.status.idle": "2025-07-30T21:40:12.775860Z",
     "shell.execute_reply": "2025-07-30T21:40:12.774871Z"
    },
    "papermill": {
     "duration": 0.031058,
     "end_time": "2025-07-30T21:40:12.777504",
     "exception": false,
     "start_time": "2025-07-30T21:40:12.746446",
     "status": "completed"
    },
    "tags": []
   },
   "outputs": [],
   "source": [
    "def sample_by_year_size(df,\n",
    "                        training_year: str,\n",
    "                        training_size: str,\n",
    "                        random_state: int = 42):\n",
    "    # --- parse training_year into a list of int years ---\n",
    "    if \"_\" in training_year:\n",
    "        start_str, end_str = training_year.split(\"_\", 1)\n",
    "        start = int(start_str)\n",
    "        end   = int(end_str) if len(end_str) == 4 else (int(end_str) + (start // 100)*100)\n",
    "        years = list(range(start, end + 1))\n",
    "    else:\n",
    "        years = [int(training_year)]\n",
    "\n",
    "    df = df[df[\"year\"].isin(years)].reset_index(drop=True)\n",
    "\n",
    "    # --- map training_size to total number of samples ---\n",
    "    total_map = {\"25k\": 25_000, \"5k\": 5_000, \"1k\": 1_000}\n",
    "    if training_size not in total_map:\n",
    "        return df  # e.g. \"all\"\n",
    "\n",
    "    total_samples = total_map[training_size]\n",
    "    n_years       = len(years)\n",
    "    base          = total_samples // n_years\n",
    "    remainder     = total_samples % n_years\n",
    "\n",
    "    # --- build a dict: year -> how many to sample ---\n",
    "    # give +1 to the first `remainder` years in ascending order\n",
    "    quotas = {\n",
    "        year: base + (1 if idx < remainder else 0)\n",
    "        for idx, year in enumerate(sorted(years))\n",
    "    }\n",
    "\n",
    "    # --- sample per‐year according to the quota dict ---\n",
    "    sampled = (\n",
    "        df\n",
    "        .groupby(\"year\", group_keys=False)\n",
    "        .apply(lambda grp: grp.sample(\n",
    "            n=min(len(grp), quotas[grp.name]),\n",
    "            random_state=random_state))\n",
    "        .reset_index(drop=True)\n",
    "    )\n",
    "\n",
    "    return sampled"
   ]
  },
  {
   "cell_type": "code",
   "execution_count": 15,
   "id": "c0ccd338-0e02-41f3-a09d-f56f9266e3fb",
   "metadata": {
    "execution": {
     "iopub.execute_input": "2025-07-30T21:40:12.820981Z",
     "iopub.status.busy": "2025-07-30T21:40:12.820238Z",
     "iopub.status.idle": "2025-07-30T21:40:12.825055Z",
     "shell.execute_reply": "2025-07-30T21:40:12.824218Z"
    },
    "papermill": {
     "duration": 0.028925,
     "end_time": "2025-07-30T21:40:12.827018",
     "exception": false,
     "start_time": "2025-07-30T21:40:12.798093",
     "status": "completed"
    },
    "tags": []
   },
   "outputs": [],
   "source": [
    "#universe[\"training_size\"]"
   ]
  },
  {
   "cell_type": "code",
   "execution_count": 16,
   "id": "ca707fd7-8047-4acd-bfa5-66248fbbf8e6",
   "metadata": {
    "execution": {
     "iopub.execute_input": "2025-07-30T21:40:12.872412Z",
     "iopub.status.busy": "2025-07-30T21:40:12.871602Z",
     "iopub.status.idle": "2025-07-30T21:40:12.876087Z",
     "shell.execute_reply": "2025-07-30T21:40:12.875113Z"
    },
    "papermill": {
     "duration": 0.028186,
     "end_time": "2025-07-30T21:40:12.877695",
     "exception": false,
     "start_time": "2025-07-30T21:40:12.849509",
     "status": "completed"
    },
    "tags": []
   },
   "outputs": [],
   "source": [
    "#universe[\"training_year\"]"
   ]
  },
  {
   "cell_type": "code",
   "execution_count": 17,
   "id": "aea9c6ef-6f46-42c8-85eb-5a62025c1508",
   "metadata": {
    "execution": {
     "iopub.execute_input": "2025-07-30T21:40:12.913096Z",
     "iopub.status.busy": "2025-07-30T21:40:12.912705Z",
     "iopub.status.idle": "2025-07-30T21:40:13.814964Z",
     "shell.execute_reply": "2025-07-30T21:40:13.813969Z"
    },
    "papermill": {
     "duration": 0.919791,
     "end_time": "2025-07-30T21:40:13.817178",
     "exception": false,
     "start_time": "2025-07-30T21:40:12.897387",
     "status": "completed"
    },
    "tags": []
   },
   "outputs": [],
   "source": [
    "siab_train = sample_by_year_size(siab,\n",
    "                               training_year=universe[\"training_year\"],\n",
    "                               training_size=universe[\"training_size\"])"
   ]
  },
  {
   "cell_type": "code",
   "execution_count": 18,
   "id": "8d3afb32-789d-442c-8d5d-9f5aa8dd2eed",
   "metadata": {
    "execution": {
     "iopub.execute_input": "2025-07-30T21:40:13.857906Z",
     "iopub.status.busy": "2025-07-30T21:40:13.857352Z",
     "iopub.status.idle": "2025-07-30T21:40:13.862732Z",
     "shell.execute_reply": "2025-07-30T21:40:13.861641Z"
    },
    "papermill": {
     "duration": 0.026869,
     "end_time": "2025-07-30T21:40:13.864408",
     "exception": false,
     "start_time": "2025-07-30T21:40:13.837539",
     "status": "completed"
    },
    "tags": []
   },
   "outputs": [],
   "source": [
    "#siab_train.shape"
   ]
  },
  {
   "cell_type": "code",
   "execution_count": 19,
   "id": "d582db68-1a4c-47fb-84fc-08518dc1975a",
   "metadata": {
    "execution": {
     "iopub.execute_input": "2025-07-30T21:40:13.906629Z",
     "iopub.status.busy": "2025-07-30T21:40:13.906031Z",
     "iopub.status.idle": "2025-07-30T21:40:13.910842Z",
     "shell.execute_reply": "2025-07-30T21:40:13.909880Z"
    },
    "papermill": {
     "duration": 0.026634,
     "end_time": "2025-07-30T21:40:13.912370",
     "exception": false,
     "start_time": "2025-07-30T21:40:13.885736",
     "status": "completed"
    },
    "tags": []
   },
   "outputs": [],
   "source": [
    "#display(siab_train.groupby(\"year\").size())"
   ]
  },
  {
   "cell_type": "code",
   "execution_count": 20,
   "id": "a561edb4-d032-42cb-8256-22eac1111c64",
   "metadata": {
    "execution": {
     "iopub.execute_input": "2025-07-30T21:40:13.955246Z",
     "iopub.status.busy": "2025-07-30T21:40:13.954359Z",
     "iopub.status.idle": "2025-07-30T21:40:14.227308Z",
     "shell.execute_reply": "2025-07-30T21:40:14.226350Z"
    },
    "papermill": {
     "duration": 0.295686,
     "end_time": "2025-07-30T21:40:14.228933",
     "exception": false,
     "start_time": "2025-07-30T21:40:13.933247",
     "status": "completed"
    },
    "tags": []
   },
   "outputs": [],
   "source": [
    "#siab_train = siab_s[siab_s.year < 2015]\n",
    "siab_calib = siab[siab.year == 2015]\n",
    "siab_test = siab[siab.year == 2016]"
   ]
  },
  {
   "cell_type": "code",
   "execution_count": 21,
   "id": "472de16f-c3db-4916-846b-1f0de9cf1746",
   "metadata": {
    "execution": {
     "iopub.execute_input": "2025-07-30T21:40:14.270118Z",
     "iopub.status.busy": "2025-07-30T21:40:14.269700Z",
     "iopub.status.idle": "2025-07-30T21:40:14.275749Z",
     "shell.execute_reply": "2025-07-30T21:40:14.274966Z"
    },
    "papermill": {
     "duration": 0.028243,
     "end_time": "2025-07-30T21:40:14.277165",
     "exception": false,
     "start_time": "2025-07-30T21:40:14.248922",
     "status": "completed"
    },
    "tags": []
   },
   "outputs": [],
   "source": [
    "X_train = siab_train.iloc[:,4:164]\n",
    "y_train = siab_train.iloc[:, [3]]"
   ]
  },
  {
   "cell_type": "code",
   "execution_count": 22,
   "id": "828c96af-f43a-4ed6-ba47-8ac73a47d56c",
   "metadata": {
    "execution": {
     "iopub.execute_input": "2025-07-30T21:40:14.304163Z",
     "iopub.status.busy": "2025-07-30T21:40:14.303804Z",
     "iopub.status.idle": "2025-07-30T21:40:14.361282Z",
     "shell.execute_reply": "2025-07-30T21:40:14.360000Z"
    },
    "papermill": {
     "duration": 0.071613,
     "end_time": "2025-07-30T21:40:14.362908",
     "exception": false,
     "start_time": "2025-07-30T21:40:14.291295",
     "status": "completed"
    },
    "tags": []
   },
   "outputs": [],
   "source": [
    "X_calib = siab_calib.iloc[:,4:164]\n",
    "y_calib = siab_calib.iloc[:, [3]]"
   ]
  },
  {
   "cell_type": "code",
   "execution_count": 23,
   "id": "c34be9c3-6bd6-476e-acd3-845840e303be",
   "metadata": {
    "execution": {
     "iopub.execute_input": "2025-07-30T21:40:14.412494Z",
     "iopub.status.busy": "2025-07-30T21:40:14.411402Z",
     "iopub.status.idle": "2025-07-30T21:40:14.467375Z",
     "shell.execute_reply": "2025-07-30T21:40:14.466260Z"
    },
    "papermill": {
     "duration": 0.083049,
     "end_time": "2025-07-30T21:40:14.469161",
     "exception": false,
     "start_time": "2025-07-30T21:40:14.386112",
     "status": "completed"
    },
    "tags": []
   },
   "outputs": [],
   "source": [
    "X_test = siab_test.iloc[:,4:164]\n",
    "y_true = siab_test.iloc[:, [3]]"
   ]
  },
  {
   "cell_type": "markdown",
   "id": "9901737e-04df-44f0-9100-f5ad144ed040",
   "metadata": {
    "papermill": {
     "duration": 0.017508,
     "end_time": "2025-07-30T21:40:14.510765",
     "exception": false,
     "start_time": "2025-07-30T21:40:14.493257",
     "status": "completed"
    },
    "tags": []
   },
   "source": [
    "# Splitting Data and Setting Training Data Size OLD VERSION"
   ]
  },
  {
   "cell_type": "code",
   "execution_count": 24,
   "id": "acbc8f7d-8fc8-4e86-8c59-5dcb0f58384b",
   "metadata": {
    "execution": {
     "iopub.execute_input": "2025-07-30T21:40:14.543995Z",
     "iopub.status.busy": "2025-07-30T21:40:14.543525Z",
     "iopub.status.idle": "2025-07-30T21:40:14.549020Z",
     "shell.execute_reply": "2025-07-30T21:40:14.548272Z"
    },
    "papermill": {
     "duration": 0.020051,
     "end_time": "2025-07-30T21:40:14.551001",
     "exception": false,
     "start_time": "2025-07-30T21:40:14.530950",
     "status": "completed"
    },
    "tags": []
   },
   "outputs": [],
   "source": [
    "#def sample_by_year(df, training_size, random_state=42):\n",
    "#    if training_size == \"2014\":\n",
    "#        return df[df[\"year\"] == 2014].reset_index(drop=True)\n",
    "#    \n",
    "#    size_map = {\n",
    "#        \"25k\": 5000,\n",
    "#        \"5k\": 1000,\n",
    "#        \"1k\": 200\n",
    "#    }\n",
    "#\n",
    "#    if training_size not in size_map:\n",
    "#        return df.reset_index(drop=True)  # use all data\n",
    "#\n",
    "#    n_per_year = size_map[training_size]\n",
    "#    grouped = df.groupby(\"year\")\n",
    "#    sampled = grouped.apply(lambda x: x.sample(n=min(n_per_year, len(x)), random_state=random_state))\n",
    "#    return sampled.reset_index(drop=True)"
   ]
  },
  {
   "cell_type": "code",
   "execution_count": 25,
   "id": "6d931f52-beaf-43ff-9e78-9d44a448d54e",
   "metadata": {
    "execution": {
     "iopub.execute_input": "2025-07-30T21:40:14.598225Z",
     "iopub.status.busy": "2025-07-30T21:40:14.597645Z",
     "iopub.status.idle": "2025-07-30T21:40:14.603222Z",
     "shell.execute_reply": "2025-07-30T21:40:14.602170Z"
    },
    "papermill": {
     "duration": 0.029245,
     "end_time": "2025-07-30T21:40:14.604771",
     "exception": false,
     "start_time": "2025-07-30T21:40:14.575526",
     "status": "completed"
    },
    "tags": []
   },
   "outputs": [],
   "source": [
    "#siab_s = sample_by_year(siab, universe[\"training_size\"])"
   ]
  },
  {
   "cell_type": "code",
   "execution_count": 26,
   "id": "5db0a40e-a4e2-4920-be85-b12ae061d70d",
   "metadata": {
    "execution": {
     "iopub.execute_input": "2025-07-30T21:40:14.654310Z",
     "iopub.status.busy": "2025-07-30T21:40:14.653759Z",
     "iopub.status.idle": "2025-07-30T21:40:14.659155Z",
     "shell.execute_reply": "2025-07-30T21:40:14.658242Z"
    },
    "papermill": {
     "duration": 0.031315,
     "end_time": "2025-07-30T21:40:14.660921",
     "exception": false,
     "start_time": "2025-07-30T21:40:14.629606",
     "status": "completed"
    },
    "tags": []
   },
   "outputs": [],
   "source": [
    "#display(siab_s.groupby(\"year\").size())"
   ]
  },
  {
   "cell_type": "code",
   "execution_count": 27,
   "id": "e6c733c5",
   "metadata": {
    "execution": {
     "iopub.execute_input": "2025-07-30T21:40:14.711497Z",
     "iopub.status.busy": "2025-07-30T21:40:14.710823Z",
     "iopub.status.idle": "2025-07-30T21:40:14.805584Z",
     "shell.execute_reply": "2025-07-30T21:40:14.804589Z"
    },
    "papermill": {
     "duration": 0.121702,
     "end_time": "2025-07-30T21:40:14.807601",
     "exception": false,
     "start_time": "2025-07-30T21:40:14.685899",
     "status": "completed"
    },
    "tags": []
   },
   "outputs": [],
   "source": [
    "# Auxiliary data needed downstream in the pipeline\n",
    "\n",
    "org_train = X_train.copy()\n",
    "org_test = X_test.copy()\n",
    "org_calib = X_calib.copy()"
   ]
  },
  {
   "cell_type": "code",
   "execution_count": 28,
   "id": "1466abac-c6da-4492-a62f-4240ae3783af",
   "metadata": {
    "execution": {
     "iopub.execute_input": "2025-07-30T21:40:14.862345Z",
     "iopub.status.busy": "2025-07-30T21:40:14.861964Z",
     "iopub.status.idle": "2025-07-30T21:40:14.867871Z",
     "shell.execute_reply": "2025-07-30T21:40:14.866940Z"
    },
    "papermill": {
     "duration": 0.029836,
     "end_time": "2025-07-30T21:40:14.869631",
     "exception": false,
     "start_time": "2025-07-30T21:40:14.839795",
     "status": "completed"
    },
    "tags": []
   },
   "outputs": [],
   "source": [
    "# put in other script?\n",
    "# Group sizes\n",
    "\n",
    "#def calculate_percentages(df, df_name):\n",
    "#    total_entries = len(df)\n",
    "#\n",
    "#    female_pct = (df['frau1'] == 1).mean() * 100\n",
    "#    non_german_pct = ((df['maxdeutsch1'] == 0) & (df['maxdeutsch.Missing.'] == 0)).mean() * 100\n",
    "#    non_german_male_pct = ((df['frau1'] == 0) & (df['maxdeutsch1'] == 0) & (df['maxdeutsch.Missing.'] == 0)).mean() * 100\n",
    "#    non_german_female_pct = ((df['frau1'] == 1) & (df['maxdeutsch1'] == 0) & (df['maxdeutsch.Missing.'] == 0)).mean() * 100\n",
    "#\n",
    "#    print(f\"--- {df_name} ---\")\n",
    "#    print(f\"Female: {female_pct:.2f}%\")\n",
    "#    print(f\"Non-German: {non_german_pct:.2f}%\")\n",
    "#    print(f\"Non-German Male: {non_german_male_pct:.2f}%\")\n",
    "#    print(f\"Non-German Female: {non_german_female_pct:.2f}%\\n\")\n",
    "#\n",
    "## Calculate for each DataFrame\n",
    "#calculate_percentages(siab_calib, \"siab_calib\")\n",
    "#calculate_percentages(siab_test, \"siab_test\")\n",
    "#calculate_percentages(siab_train, \"siab_train\")"
   ]
  },
  {
   "cell_type": "markdown",
   "id": "0a4a1b33",
   "metadata": {
    "papermill": {
     "duration": 0.020582,
     "end_time": "2025-07-30T21:40:14.910919",
     "exception": false,
     "start_time": "2025-07-30T21:40:14.890337",
     "status": "completed"
    },
    "tags": []
   },
   "source": [
    "# Preprocessing Data"
   ]
  },
  {
   "cell_type": "code",
   "execution_count": 29,
   "id": "ca879031",
   "metadata": {
    "execution": {
     "iopub.execute_input": "2025-07-30T21:40:14.953448Z",
     "iopub.status.busy": "2025-07-30T21:40:14.952855Z",
     "iopub.status.idle": "2025-07-30T21:40:14.959841Z",
     "shell.execute_reply": "2025-07-30T21:40:14.958720Z"
    },
    "papermill": {
     "duration": 0.030359,
     "end_time": "2025-07-30T21:40:14.961611",
     "exception": false,
     "start_time": "2025-07-30T21:40:14.931252",
     "status": "completed"
    },
    "tags": []
   },
   "outputs": [],
   "source": [
    "# EXCLUDE PROTECTED FEATURES\n",
    "# ----------------------\n",
    "# \"exclude_features\": \"none\", # \"nationality\", \"sex\", \"nationality-sex\"\n",
    "\n",
    "excluded_features = universe[\"exclude_features\"].split(\"-\") # split, e.g.: \"nationality-sex\" -> [\"nationality\", \"sex\"]\n",
    "excluded_features_dictionary = {\n",
    "    \"nationality\": [\"maxdeutsch1\", \"maxdeutsch.Missing.\"],\n",
    "    \"sex\": [\"frau1\"],\n",
    "    \"age\": [\"age\"],\n",
    "}\n"
   ]
  },
  {
   "cell_type": "code",
   "execution_count": 30,
   "id": "b745ac60",
   "metadata": {
    "execution": {
     "iopub.execute_input": "2025-07-30T21:40:15.003949Z",
     "iopub.status.busy": "2025-07-30T21:40:15.003470Z",
     "iopub.status.idle": "2025-07-30T21:40:15.009343Z",
     "shell.execute_reply": "2025-07-30T21:40:15.008382Z"
    },
    "papermill": {
     "duration": 0.029148,
     "end_time": "2025-07-30T21:40:15.011117",
     "exception": false,
     "start_time": "2025-07-30T21:40:14.981969",
     "status": "completed"
    },
    "tags": []
   },
   "outputs": [],
   "source": [
    "# Code nice names to column names\n",
    "\n",
    "excluded_features_columns = [\n",
    "    excluded_features_dictionary[f] for f in excluded_features if len(f) > 0 and f != \"none\"\n",
    "]"
   ]
  },
  {
   "cell_type": "code",
   "execution_count": 31,
   "id": "f84f73a2",
   "metadata": {
    "execution": {
     "iopub.execute_input": "2025-07-30T21:40:15.055866Z",
     "iopub.status.busy": "2025-07-30T21:40:15.055135Z",
     "iopub.status.idle": "2025-07-30T21:40:15.061575Z",
     "shell.execute_reply": "2025-07-30T21:40:15.060527Z"
    },
    "papermill": {
     "duration": 0.030026,
     "end_time": "2025-07-30T21:40:15.063278",
     "exception": false,
     "start_time": "2025-07-30T21:40:15.033252",
     "status": "completed"
    },
    "tags": []
   },
   "outputs": [],
   "source": [
    "from utils import flatten_once\n",
    "\n",
    "excluded_features_columns = flatten_once(excluded_features_columns)"
   ]
  },
  {
   "cell_type": "code",
   "execution_count": 32,
   "id": "884dea22",
   "metadata": {
    "execution": {
     "iopub.execute_input": "2025-07-30T21:40:15.117092Z",
     "iopub.status.busy": "2025-07-30T21:40:15.116723Z",
     "iopub.status.idle": "2025-07-30T21:40:15.121839Z",
     "shell.execute_reply": "2025-07-30T21:40:15.121143Z"
    },
    "papermill": {
     "duration": 0.036447,
     "end_time": "2025-07-30T21:40:15.123316",
     "exception": false,
     "start_time": "2025-07-30T21:40:15.086869",
     "status": "completed"
    },
    "tags": []
   },
   "outputs": [],
   "source": [
    "if len(excluded_features_columns) > 0:\n",
    "    print(f\"Dropping features: {excluded_features_columns}\")\n",
    "    X_train.drop(excluded_features_columns, axis=1, inplace=True)"
   ]
  },
  {
   "cell_type": "code",
   "execution_count": 33,
   "id": "95ab8b16",
   "metadata": {
    "execution": {
     "iopub.execute_input": "2025-07-30T21:40:15.168126Z",
     "iopub.status.busy": "2025-07-30T21:40:15.167383Z",
     "iopub.status.idle": "2025-07-30T21:40:15.173075Z",
     "shell.execute_reply": "2025-07-30T21:40:15.172097Z"
    },
    "papermill": {
     "duration": 0.02802,
     "end_time": "2025-07-30T21:40:15.174716",
     "exception": false,
     "start_time": "2025-07-30T21:40:15.146696",
     "status": "completed"
    },
    "tags": []
   },
   "outputs": [],
   "source": [
    "if len(excluded_features_columns) > 0:\n",
    "    print(f\"Dropping features: {excluded_features_columns}\")\n",
    "    X_test.drop(excluded_features_columns, axis=1, inplace=True)"
   ]
  },
  {
   "cell_type": "code",
   "execution_count": 34,
   "id": "1853aaf5-fb9f-46cb-a2b5-8ea4ae2237e4",
   "metadata": {
    "execution": {
     "iopub.execute_input": "2025-07-30T21:40:15.221751Z",
     "iopub.status.busy": "2025-07-30T21:40:15.221264Z",
     "iopub.status.idle": "2025-07-30T21:40:15.226712Z",
     "shell.execute_reply": "2025-07-30T21:40:15.225681Z"
    },
    "papermill": {
     "duration": 0.031177,
     "end_time": "2025-07-30T21:40:15.228525",
     "exception": false,
     "start_time": "2025-07-30T21:40:15.197348",
     "status": "completed"
    },
    "tags": []
   },
   "outputs": [],
   "source": [
    "if len(excluded_features_columns) > 0:\n",
    "    print(f\"Dropping features: {excluded_features_columns}\")\n",
    "    X_calib.drop(excluded_features_columns, axis=1, inplace=True)"
   ]
  },
  {
   "cell_type": "code",
   "execution_count": 35,
   "id": "6727d079-03e5-481e-9d38-292a90b7a0a8",
   "metadata": {
    "execution": {
     "iopub.execute_input": "2025-07-30T21:40:15.275451Z",
     "iopub.status.busy": "2025-07-30T21:40:15.275031Z",
     "iopub.status.idle": "2025-07-30T21:40:15.280335Z",
     "shell.execute_reply": "2025-07-30T21:40:15.279008Z"
    },
    "papermill": {
     "duration": 0.031277,
     "end_time": "2025-07-30T21:40:15.282423",
     "exception": false,
     "start_time": "2025-07-30T21:40:15.251146",
     "status": "completed"
    },
    "tags": []
   },
   "outputs": [],
   "source": [
    "# SPLIT & STRATIFY DATA\n",
    "# ----------------------"
   ]
  },
  {
   "cell_type": "code",
   "execution_count": 36,
   "id": "76c4dc6d",
   "metadata": {
    "execution": {
     "iopub.execute_input": "2025-07-30T21:40:15.329015Z",
     "iopub.status.busy": "2025-07-30T21:40:15.328175Z",
     "iopub.status.idle": "2025-07-30T21:40:15.333590Z",
     "shell.execute_reply": "2025-07-30T21:40:15.332607Z"
    },
    "papermill": {
     "duration": 0.029411,
     "end_time": "2025-07-30T21:40:15.334912",
     "exception": false,
     "start_time": "2025-07-30T21:40:15.305501",
     "status": "completed"
    },
    "tags": []
   },
   "outputs": [],
   "source": [
    "# EXCLUDE CERTAIN SUBGROUPS\n",
    "# ----------------------\n",
    "\n",
    "mode = universe.get(\"exclude_subgroups\", \"keep-all\") \n",
    "# Fetches the exclude_subgroups setting from the universe dict.\n",
    "# Defaults to \"keep-all\" if the key is missing."
   ]
  },
  {
   "cell_type": "code",
   "execution_count": 37,
   "id": "21994072",
   "metadata": {
    "execution": {
     "iopub.execute_input": "2025-07-30T21:40:15.367289Z",
     "iopub.status.busy": "2025-07-30T21:40:15.366993Z",
     "iopub.status.idle": "2025-07-30T21:40:15.372285Z",
     "shell.execute_reply": "2025-07-30T21:40:15.371546Z"
    },
    "papermill": {
     "duration": 0.019249,
     "end_time": "2025-07-30T21:40:15.373640",
     "exception": false,
     "start_time": "2025-07-30T21:40:15.354391",
     "status": "completed"
    },
    "tags": []
   },
   "outputs": [],
   "source": [
    "if mode == \"keep-all\":\n",
    "    keep_mask = pd.Series(True, index=org_train.index)\n",
    "\n",
    "# org_train contains the original feature columns from features_org (in Simson)\n",
    "# features_org contains unprocessed features, for me X_train at beginning ???\n",
    "# For keep-all, creates a boolean Series (keep_mask) of all True, so no rows are removed.\n",
    "\n",
    "elif mode == \"drop-non-german\":\n",
    "    keep_mask = org_train[\"maxdeutsch1\"] == 1 # ??? what about missing values?\n",
    "\n",
    "else:\n",
    "    raise ValueError(f\"Unsupported mode for exclude_subgroups: {mode}\")\n"
   ]
  },
  {
   "cell_type": "code",
   "execution_count": 38,
   "id": "71651440",
   "metadata": {
    "execution": {
     "iopub.execute_input": "2025-07-30T21:40:15.398119Z",
     "iopub.status.busy": "2025-07-30T21:40:15.397325Z",
     "iopub.status.idle": "2025-07-30T21:40:15.402983Z",
     "shell.execute_reply": "2025-07-30T21:40:15.402132Z"
    },
    "papermill": {
     "duration": 0.019519,
     "end_time": "2025-07-30T21:40:15.404857",
     "exception": false,
     "start_time": "2025-07-30T21:40:15.385338",
     "status": "completed"
    },
    "tags": []
   },
   "outputs": [],
   "source": [
    "n_drop = (~keep_mask).sum() # Calculates how many rows are set to be dropped\n",
    "if n_drop > 0:\n",
    "    pct = n_drop / len(keep_mask) * 100\n",
    "    print(f\"Dropping {n_drop} rows ({pct:.2f}%) where mode='{mode}'\")"
   ]
  },
  {
   "cell_type": "code",
   "execution_count": 39,
   "id": "5fb8eee5",
   "metadata": {
    "execution": {
     "iopub.execute_input": "2025-07-30T21:40:15.448076Z",
     "iopub.status.busy": "2025-07-30T21:40:15.447535Z",
     "iopub.status.idle": "2025-07-30T21:40:15.453797Z",
     "shell.execute_reply": "2025-07-30T21:40:15.452692Z"
    },
    "papermill": {
     "duration": 0.029427,
     "end_time": "2025-07-30T21:40:15.455490",
     "exception": false,
     "start_time": "2025-07-30T21:40:15.426063",
     "status": "completed"
    },
    "tags": []
   },
   "outputs": [],
   "source": [
    "X_train = X_train[keep_mask]"
   ]
  },
  {
   "cell_type": "code",
   "execution_count": 40,
   "id": "b202bb3a",
   "metadata": {
    "execution": {
     "iopub.execute_input": "2025-07-30T21:40:15.501837Z",
     "iopub.status.busy": "2025-07-30T21:40:15.500937Z",
     "iopub.status.idle": "2025-07-30T21:40:15.507161Z",
     "shell.execute_reply": "2025-07-30T21:40:15.506077Z"
    },
    "papermill": {
     "duration": 0.031159,
     "end_time": "2025-07-30T21:40:15.508955",
     "exception": false,
     "start_time": "2025-07-30T21:40:15.477796",
     "status": "completed"
    },
    "tags": []
   },
   "outputs": [],
   "source": [
    "y_train = y_train[keep_mask]"
   ]
  },
  {
   "cell_type": "markdown",
   "id": "493e2ac3",
   "metadata": {
    "papermill": {
     "duration": 0.023063,
     "end_time": "2025-07-30T21:40:15.556203",
     "exception": false,
     "start_time": "2025-07-30T21:40:15.533140",
     "status": "completed"
    },
    "tags": []
   },
   "source": [
    "# Model Training"
   ]
  },
  {
   "cell_type": "code",
   "execution_count": 41,
   "id": "679e1268",
   "metadata": {
    "execution": {
     "iopub.execute_input": "2025-07-30T21:40:15.583136Z",
     "iopub.status.busy": "2025-07-30T21:40:15.582694Z",
     "iopub.status.idle": "2025-07-30T21:40:15.690104Z",
     "shell.execute_reply": "2025-07-30T21:40:15.689191Z"
    },
    "papermill": {
     "duration": 0.121693,
     "end_time": "2025-07-30T21:40:15.691661",
     "exception": false,
     "start_time": "2025-07-30T21:40:15.569968",
     "status": "completed"
    },
    "tags": []
   },
   "outputs": [],
   "source": [
    "from sklearn.linear_model import LogisticRegression\n",
    "from sklearn.ensemble import GradientBoostingClassifier, RandomForestClassifier\n",
    "\n",
    "if (universe[\"model\"] == \"logreg\"):\n",
    "    model = LogisticRegression() #penalty=\"none\") #, solver=\"newton-cg\", max_iter=1) # include random_state=19 ?\n",
    "elif (universe[\"model\"] == \"penalized_logreg\"):\n",
    "    model = LogisticRegression(penalty=\"l2\", C=1.0) #, solver=\"newton-cg\", max_iter=1)\n",
    "elif (universe[\"model\"] == \"rf\"):\n",
    "    model = RandomForestClassifier(n_estimators=100, n_jobs=-1)\n",
    "elif (universe[\"model\"] == \"gbm\"):\n",
    "    model = GradientBoostingClassifier()\n",
    "elif (universe[\"model\"] == \"elasticnet\"):\n",
    "    model = LogisticRegression(penalty = 'elasticnet', solver = 'saga', l1_ratio = 0.5, max_iter=5000) # which solver to use?\n",
    "else:\n",
    "    raise \"Unsupported universe.model\""
   ]
  },
  {
   "cell_type": "code",
   "execution_count": 42,
   "id": "0cc8f744",
   "metadata": {
    "execution": {
     "iopub.execute_input": "2025-07-30T21:40:15.732973Z",
     "iopub.status.busy": "2025-07-30T21:40:15.732684Z",
     "iopub.status.idle": "2025-07-30T21:40:15.737536Z",
     "shell.execute_reply": "2025-07-30T21:40:15.736690Z"
    },
    "papermill": {
     "duration": 0.023481,
     "end_time": "2025-07-30T21:40:15.738788",
     "exception": false,
     "start_time": "2025-07-30T21:40:15.715307",
     "status": "completed"
    },
    "tags": []
   },
   "outputs": [],
   "source": [
    "import numpy as np\n",
    "from sklearn.pipeline import Pipeline\n",
    "from sklearn.preprocessing import StandardScaler\n",
    "\n",
    "model = Pipeline([\n",
    "    #(\"continuous_processor\", continuous_processor),\n",
    "    #(\"categorical_preprocessor\", categorical_preprocessor),\n",
    "    (\"scale\", StandardScaler() if universe[\"scale\"] == \"scale\" else None), \n",
    "    (\"model\", model),\n",
    "])"
   ]
  },
  {
   "cell_type": "code",
   "execution_count": 43,
   "id": "9442c04d",
   "metadata": {
    "execution": {
     "iopub.execute_input": "2025-07-30T21:40:15.763525Z",
     "iopub.status.busy": "2025-07-30T21:40:15.762751Z",
     "iopub.status.idle": "2025-07-30T21:40:16.164993Z",
     "shell.execute_reply": "2025-07-30T21:40:16.164082Z"
    },
    "papermill": {
     "duration": 0.415688,
     "end_time": "2025-07-30T21:40:16.166195",
     "exception": false,
     "start_time": "2025-07-30T21:40:15.750507",
     "status": "completed"
    },
    "tags": []
   },
   "outputs": [
    {
     "data": {
      "text/html": [
       "<style>#sk-container-id-1 {color: black;background-color: white;}#sk-container-id-1 pre{padding: 0;}#sk-container-id-1 div.sk-toggleable {background-color: white;}#sk-container-id-1 label.sk-toggleable__label {cursor: pointer;display: block;width: 100%;margin-bottom: 0;padding: 0.3em;box-sizing: border-box;text-align: center;}#sk-container-id-1 label.sk-toggleable__label-arrow:before {content: \"▸\";float: left;margin-right: 0.25em;color: #696969;}#sk-container-id-1 label.sk-toggleable__label-arrow:hover:before {color: black;}#sk-container-id-1 div.sk-estimator:hover label.sk-toggleable__label-arrow:before {color: black;}#sk-container-id-1 div.sk-toggleable__content {max-height: 0;max-width: 0;overflow: hidden;text-align: left;background-color: #f0f8ff;}#sk-container-id-1 div.sk-toggleable__content pre {margin: 0.2em;color: black;border-radius: 0.25em;background-color: #f0f8ff;}#sk-container-id-1 input.sk-toggleable__control:checked~div.sk-toggleable__content {max-height: 200px;max-width: 100%;overflow: auto;}#sk-container-id-1 input.sk-toggleable__control:checked~label.sk-toggleable__label-arrow:before {content: \"▾\";}#sk-container-id-1 div.sk-estimator input.sk-toggleable__control:checked~label.sk-toggleable__label {background-color: #d4ebff;}#sk-container-id-1 div.sk-label input.sk-toggleable__control:checked~label.sk-toggleable__label {background-color: #d4ebff;}#sk-container-id-1 input.sk-hidden--visually {border: 0;clip: rect(1px 1px 1px 1px);clip: rect(1px, 1px, 1px, 1px);height: 1px;margin: -1px;overflow: hidden;padding: 0;position: absolute;width: 1px;}#sk-container-id-1 div.sk-estimator {font-family: monospace;background-color: #f0f8ff;border: 1px dotted black;border-radius: 0.25em;box-sizing: border-box;margin-bottom: 0.5em;}#sk-container-id-1 div.sk-estimator:hover {background-color: #d4ebff;}#sk-container-id-1 div.sk-parallel-item::after {content: \"\";width: 100%;border-bottom: 1px solid gray;flex-grow: 1;}#sk-container-id-1 div.sk-label:hover label.sk-toggleable__label {background-color: #d4ebff;}#sk-container-id-1 div.sk-serial::before {content: \"\";position: absolute;border-left: 1px solid gray;box-sizing: border-box;top: 0;bottom: 0;left: 50%;z-index: 0;}#sk-container-id-1 div.sk-serial {display: flex;flex-direction: column;align-items: center;background-color: white;padding-right: 0.2em;padding-left: 0.2em;position: relative;}#sk-container-id-1 div.sk-item {position: relative;z-index: 1;}#sk-container-id-1 div.sk-parallel {display: flex;align-items: stretch;justify-content: center;background-color: white;position: relative;}#sk-container-id-1 div.sk-item::before, #sk-container-id-1 div.sk-parallel-item::before {content: \"\";position: absolute;border-left: 1px solid gray;box-sizing: border-box;top: 0;bottom: 0;left: 50%;z-index: -1;}#sk-container-id-1 div.sk-parallel-item {display: flex;flex-direction: column;z-index: 1;position: relative;background-color: white;}#sk-container-id-1 div.sk-parallel-item:first-child::after {align-self: flex-end;width: 50%;}#sk-container-id-1 div.sk-parallel-item:last-child::after {align-self: flex-start;width: 50%;}#sk-container-id-1 div.sk-parallel-item:only-child::after {width: 0;}#sk-container-id-1 div.sk-dashed-wrapped {border: 1px dashed gray;margin: 0 0.4em 0.5em 0.4em;box-sizing: border-box;padding-bottom: 0.4em;background-color: white;}#sk-container-id-1 div.sk-label label {font-family: monospace;font-weight: bold;display: inline-block;line-height: 1.2em;}#sk-container-id-1 div.sk-label-container {text-align: center;}#sk-container-id-1 div.sk-container {/* jupyter's `normalize.less` sets `[hidden] { display: none; }` but bootstrap.min.css set `[hidden] { display: none !important; }` so we also need the `!important` here to be able to override the default hidden behavior on the sphinx rendered scikit-learn.org. See: https://github.com/scikit-learn/scikit-learn/issues/21755 */display: inline-block !important;position: relative;}#sk-container-id-1 div.sk-text-repr-fallback {display: none;}</style><div id=\"sk-container-id-1\" class=\"sk-top-container\"><div class=\"sk-text-repr-fallback\"><pre>Pipeline(steps=[(&#x27;scale&#x27;, None), (&#x27;model&#x27;, RandomForestClassifier(n_jobs=-1))])</pre><b>In a Jupyter environment, please rerun this cell to show the HTML representation or trust the notebook. <br />On GitHub, the HTML representation is unable to render, please try loading this page with nbviewer.org.</b></div><div class=\"sk-container\" hidden><div class=\"sk-item sk-dashed-wrapped\"><div class=\"sk-label-container\"><div class=\"sk-label sk-toggleable\"><input class=\"sk-toggleable__control sk-hidden--visually\" id=\"sk-estimator-id-1\" type=\"checkbox\" ><label for=\"sk-estimator-id-1\" class=\"sk-toggleable__label sk-toggleable__label-arrow\">Pipeline</label><div class=\"sk-toggleable__content\"><pre>Pipeline(steps=[(&#x27;scale&#x27;, None), (&#x27;model&#x27;, RandomForestClassifier(n_jobs=-1))])</pre></div></div></div><div class=\"sk-serial\"><div class=\"sk-item\"><div class=\"sk-estimator sk-toggleable\"><input class=\"sk-toggleable__control sk-hidden--visually\" id=\"sk-estimator-id-2\" type=\"checkbox\" ><label for=\"sk-estimator-id-2\" class=\"sk-toggleable__label sk-toggleable__label-arrow\">None</label><div class=\"sk-toggleable__content\"><pre>None</pre></div></div></div><div class=\"sk-item\"><div class=\"sk-estimator sk-toggleable\"><input class=\"sk-toggleable__control sk-hidden--visually\" id=\"sk-estimator-id-3\" type=\"checkbox\" ><label for=\"sk-estimator-id-3\" class=\"sk-toggleable__label sk-toggleable__label-arrow\">RandomForestClassifier</label><div class=\"sk-toggleable__content\"><pre>RandomForestClassifier(n_jobs=-1)</pre></div></div></div></div></div></div></div>"
      ],
      "text/plain": [
       "Pipeline(steps=[('scale', None), ('model', RandomForestClassifier(n_jobs=-1))])"
      ]
     },
     "execution_count": 43,
     "metadata": {},
     "output_type": "execute_result"
    }
   ],
   "source": [
    "model.fit(X_train, y_train.values.ravel())"
   ]
  },
  {
   "cell_type": "code",
   "execution_count": 44,
   "id": "af59f8c0",
   "metadata": {
    "execution": {
     "iopub.execute_input": "2025-07-30T21:40:16.197336Z",
     "iopub.status.busy": "2025-07-30T21:40:16.196927Z",
     "iopub.status.idle": "2025-07-30T21:40:16.202463Z",
     "shell.execute_reply": "2025-07-30T21:40:16.201771Z"
    },
    "papermill": {
     "duration": 0.021297,
     "end_time": "2025-07-30T21:40:16.203606",
     "exception": false,
     "start_time": "2025-07-30T21:40:16.182309",
     "status": "completed"
    },
    "tags": []
   },
   "outputs": [],
   "source": [
    "from fairness_multiverse.universe import predict_w_threshold"
   ]
  },
  {
   "cell_type": "code",
   "execution_count": 45,
   "id": "a7cf2e16",
   "metadata": {
    "execution": {
     "iopub.execute_input": "2025-07-30T21:40:16.228381Z",
     "iopub.status.busy": "2025-07-30T21:40:16.227833Z",
     "iopub.status.idle": "2025-07-30T21:40:16.975508Z",
     "shell.execute_reply": "2025-07-30T21:40:16.974667Z"
    },
    "papermill": {
     "duration": 0.761349,
     "end_time": "2025-07-30T21:40:16.976978",
     "exception": false,
     "start_time": "2025-07-30T21:40:16.215629",
     "status": "completed"
    },
    "tags": []
   },
   "outputs": [
    {
     "data": {
      "text/plain": [
       "0.862557128525248"
      ]
     },
     "execution_count": 45,
     "metadata": {},
     "output_type": "execute_result"
    }
   ],
   "source": [
    "probs_test = model.predict_proba(X_test)\n",
    "\n",
    "'''\n",
    "Below code returns a boolean array (or binary 0/1 array depending on how it’s used) where each element \n",
    "is True if the probability of class 1 is greater than or equal to the threshold, and False otherwise.\n",
    "'''\n",
    "y_pred_default = predict_w_threshold(probs_test, 0.5)\n",
    "\n",
    "from sklearn.metrics import accuracy_score\n",
    "\n",
    "# Naive prediction\n",
    "accuracy_score(y_true = y_true, y_pred = y_pred_default)"
   ]
  },
  {
   "cell_type": "code",
   "execution_count": 46,
   "id": "081964c3",
   "metadata": {
    "execution": {
     "iopub.execute_input": "2025-07-30T21:40:17.044284Z",
     "iopub.status.busy": "2025-07-30T21:40:17.043839Z",
     "iopub.status.idle": "2025-07-30T21:40:17.812404Z",
     "shell.execute_reply": "2025-07-30T21:40:17.811362Z"
    },
    "papermill": {
     "duration": 0.811337,
     "end_time": "2025-07-30T21:40:17.814314",
     "exception": false,
     "start_time": "2025-07-30T21:40:17.002977",
     "status": "completed"
    },
    "tags": []
   },
   "outputs": [
    {
     "data": {
      "text/plain": [
       "array([0, 0, 0, ..., 0, 0, 0])"
      ]
     },
     "execution_count": 46,
     "metadata": {},
     "output_type": "execute_result"
    }
   ],
   "source": [
    "model.predict(X_test)"
   ]
  },
  {
   "cell_type": "markdown",
   "id": "56c9705b",
   "metadata": {
    "papermill": {
     "duration": 0.095738,
     "end_time": "2025-07-30T21:40:17.935055",
     "exception": false,
     "start_time": "2025-07-30T21:40:17.839317",
     "status": "completed"
    },
    "tags": []
   },
   "source": [
    "# Conformal Prediction"
   ]
  },
  {
   "cell_type": "code",
   "execution_count": 47,
   "id": "160ec6ff",
   "metadata": {
    "execution": {
     "iopub.execute_input": "2025-07-30T21:40:17.998625Z",
     "iopub.status.busy": "2025-07-30T21:40:17.998244Z",
     "iopub.status.idle": "2025-07-30T21:40:18.003112Z",
     "shell.execute_reply": "2025-07-30T21:40:18.002202Z"
    },
    "papermill": {
     "duration": 0.048359,
     "end_time": "2025-07-30T21:40:18.004681",
     "exception": false,
     "start_time": "2025-07-30T21:40:17.956322",
     "status": "completed"
    },
    "tags": []
   },
   "outputs": [],
   "source": [
    "# Miscoverage level for conformal prediction (10% allowed error rate => 90% target coverage)\n",
    "alpha = 0.1"
   ]
  },
  {
   "cell_type": "code",
   "execution_count": 48,
   "id": "eadf4555-3dd3-440e-8e35-f82a4ad9f855",
   "metadata": {
    "execution": {
     "iopub.execute_input": "2025-07-30T21:40:18.053896Z",
     "iopub.status.busy": "2025-07-30T21:40:18.053121Z",
     "iopub.status.idle": "2025-07-30T21:40:18.900551Z",
     "shell.execute_reply": "2025-07-30T21:40:18.899771Z"
    },
    "papermill": {
     "duration": 0.873779,
     "end_time": "2025-07-30T21:40:18.901995",
     "exception": false,
     "start_time": "2025-07-30T21:40:18.028216",
     "status": "completed"
    },
    "tags": []
   },
   "outputs": [],
   "source": [
    "probs_calib = model.predict_proba(X_calib)"
   ]
  },
  {
   "cell_type": "code",
   "execution_count": 49,
   "id": "2ed93547-6d5d-4983-9b36-1ecb300da49a",
   "metadata": {
    "execution": {
     "iopub.execute_input": "2025-07-30T21:40:18.980561Z",
     "iopub.status.busy": "2025-07-30T21:40:18.979586Z",
     "iopub.status.idle": "2025-07-30T21:40:18.985312Z",
     "shell.execute_reply": "2025-07-30T21:40:18.984385Z"
    },
    "papermill": {
     "duration": 0.070407,
     "end_time": "2025-07-30T21:40:18.998748",
     "exception": false,
     "start_time": "2025-07-30T21:40:18.928341",
     "status": "completed"
    },
    "tags": []
   },
   "outputs": [],
   "source": [
    "y_calib = y_calib.values.ravel().astype(int)"
   ]
  },
  {
   "cell_type": "code",
   "execution_count": 50,
   "id": "65d1320d-f588-4b38-9072-62af1ae97f7d",
   "metadata": {
    "execution": {
     "iopub.execute_input": "2025-07-30T21:40:19.052304Z",
     "iopub.status.busy": "2025-07-30T21:40:19.051505Z",
     "iopub.status.idle": "2025-07-30T21:40:19.058970Z",
     "shell.execute_reply": "2025-07-30T21:40:19.057991Z"
    },
    "papermill": {
     "duration": 0.035708,
     "end_time": "2025-07-30T21:40:19.060758",
     "exception": false,
     "start_time": "2025-07-30T21:40:19.025050",
     "status": "completed"
    },
    "tags": []
   },
   "outputs": [],
   "source": [
    "from fairness_multiverse.conformal import compute_nc_scores\n",
    "\n",
    "# Compute nonconformity scores on calibration set (1 - probability of true class)\n",
    "nc_scores = compute_nc_scores(probs_calib, y_calib)"
   ]
  },
  {
   "cell_type": "code",
   "execution_count": 51,
   "id": "df3b8ca3-53b7-43d5-9667-7c85da7aeda2",
   "metadata": {
    "execution": {
     "iopub.execute_input": "2025-07-30T21:40:19.112597Z",
     "iopub.status.busy": "2025-07-30T21:40:19.111618Z",
     "iopub.status.idle": "2025-07-30T21:40:19.118565Z",
     "shell.execute_reply": "2025-07-30T21:40:19.117518Z"
    },
    "papermill": {
     "duration": 0.034438,
     "end_time": "2025-07-30T21:40:19.120233",
     "exception": false,
     "start_time": "2025-07-30T21:40:19.085795",
     "status": "completed"
    },
    "tags": []
   },
   "outputs": [],
   "source": [
    "from fairness_multiverse.conformal import find_threshold\n",
    "\n",
    "# Find conformal threshold q_hat for the given alpha (split conformal method)\n",
    "q_hat = find_threshold(nc_scores, alpha)"
   ]
  },
  {
   "cell_type": "code",
   "execution_count": 52,
   "id": "4d29e6c1-0ef6-4aa4-b8fe-4fe79b0d033a",
   "metadata": {
    "execution": {
     "iopub.execute_input": "2025-07-30T21:40:19.171111Z",
     "iopub.status.busy": "2025-07-30T21:40:19.170598Z",
     "iopub.status.idle": "2025-07-30T21:40:19.178124Z",
     "shell.execute_reply": "2025-07-30T21:40:19.177080Z"
    },
    "papermill": {
     "duration": 0.03498,
     "end_time": "2025-07-30T21:40:19.179950",
     "exception": false,
     "start_time": "2025-07-30T21:40:19.144970",
     "status": "completed"
    },
    "tags": []
   },
   "outputs": [
    {
     "data": {
      "text/plain": [
       "0.6699999999999999"
      ]
     },
     "execution_count": 52,
     "metadata": {},
     "output_type": "execute_result"
    }
   ],
   "source": [
    "q_hat"
   ]
  },
  {
   "cell_type": "code",
   "execution_count": 53,
   "id": "92460794-cdac-4be2-ba28-f28c0515a6fb",
   "metadata": {
    "execution": {
     "iopub.execute_input": "2025-07-30T21:40:19.214519Z",
     "iopub.status.busy": "2025-07-30T21:40:19.214097Z",
     "iopub.status.idle": "2025-07-30T21:40:20.602356Z",
     "shell.execute_reply": "2025-07-30T21:40:20.601540Z"
    },
    "papermill": {
     "duration": 1.404881,
     "end_time": "2025-07-30T21:40:20.603909",
     "exception": false,
     "start_time": "2025-07-30T21:40:19.199028",
     "status": "completed"
    },
    "tags": []
   },
   "outputs": [],
   "source": [
    "from fairness_multiverse.conformal import predict_conformal_sets\n",
    "\n",
    "# Generate prediction sets for each test example\n",
    "pred_sets = predict_conformal_sets(model, X_test, q_hat)"
   ]
  },
  {
   "cell_type": "code",
   "execution_count": 54,
   "id": "d90c9a65-e6db-4f5d-80cd-e68fb7e46829",
   "metadata": {
    "execution": {
     "iopub.execute_input": "2025-07-30T21:40:20.644625Z",
     "iopub.status.busy": "2025-07-30T21:40:20.644101Z",
     "iopub.status.idle": "2025-07-30T21:40:20.650089Z",
     "shell.execute_reply": "2025-07-30T21:40:20.649090Z"
    },
    "papermill": {
     "duration": 0.034387,
     "end_time": "2025-07-30T21:40:20.651917",
     "exception": false,
     "start_time": "2025-07-30T21:40:20.617530",
     "status": "completed"
    },
    "tags": []
   },
   "outputs": [],
   "source": [
    "y_true = y_true.squeeze()"
   ]
  },
  {
   "cell_type": "code",
   "execution_count": 55,
   "id": "3a58a54a-1e68-46b9-927a-df01f18aebc8",
   "metadata": {
    "execution": {
     "iopub.execute_input": "2025-07-30T21:40:20.704776Z",
     "iopub.status.busy": "2025-07-30T21:40:20.704155Z",
     "iopub.status.idle": "2025-07-30T21:40:21.238267Z",
     "shell.execute_reply": "2025-07-30T21:40:21.237520Z"
    },
    "papermill": {
     "duration": 0.561991,
     "end_time": "2025-07-30T21:40:21.239945",
     "exception": false,
     "start_time": "2025-07-30T21:40:20.677954",
     "status": "completed"
    },
    "tags": []
   },
   "outputs": [],
   "source": [
    "from fairness_multiverse.conformal import evaluate_sets\n",
    "\n",
    "# Evaluate coverage and average set size on test data\n",
    "metrics = evaluate_sets(pred_sets, y_true)"
   ]
  },
  {
   "cell_type": "markdown",
   "id": "2b569c12-9aaa-4c88-98c9-bbcd0cf3ebb8",
   "metadata": {
    "papermill": {
     "duration": 0.023881,
     "end_time": "2025-07-30T21:40:21.289138",
     "exception": false,
     "start_time": "2025-07-30T21:40:21.265257",
     "status": "completed"
    },
    "tags": []
   },
   "source": [
    "# CP Metrics"
   ]
  },
  {
   "cell_type": "code",
   "execution_count": 56,
   "id": "5ce0a5cb-201f-45a0-ade5-94c7f0bd6095",
   "metadata": {
    "execution": {
     "iopub.execute_input": "2025-07-30T21:40:21.337547Z",
     "iopub.status.busy": "2025-07-30T21:40:21.336837Z",
     "iopub.status.idle": "2025-07-30T21:40:21.344671Z",
     "shell.execute_reply": "2025-07-30T21:40:21.343693Z"
    },
    "papermill": {
     "duration": 0.034322,
     "end_time": "2025-07-30T21:40:21.346288",
     "exception": false,
     "start_time": "2025-07-30T21:40:21.311966",
     "status": "completed"
    },
    "tags": []
   },
   "outputs": [
    {
     "data": {
      "text/plain": [
       "{'coverage': 0.9161631925091963, 'avg_size': 1.1566937911046706}"
      ]
     },
     "execution_count": 56,
     "metadata": {},
     "output_type": "execute_result"
    }
   ],
   "source": [
    "metrics"
   ]
  },
  {
   "cell_type": "code",
   "execution_count": 57,
   "id": "9b9a838d-31c9-430b-ae14-12baee460d17",
   "metadata": {
    "execution": {
     "iopub.execute_input": "2025-07-30T21:40:21.387798Z",
     "iopub.status.busy": "2025-07-30T21:40:21.387294Z",
     "iopub.status.idle": "2025-07-30T21:40:21.394153Z",
     "shell.execute_reply": "2025-07-30T21:40:21.393118Z"
    },
    "papermill": {
     "duration": 0.033523,
     "end_time": "2025-07-30T21:40:21.395754",
     "exception": false,
     "start_time": "2025-07-30T21:40:21.362231",
     "status": "completed"
    },
    "tags": []
   },
   "outputs": [],
   "source": [
    "example_universe = universe.copy()\n",
    "universe_training_year = example_universe.get(\"training_year\")\n",
    "universe_training_size = example_universe.get(\"training_size\")\n",
    "universe_scale = example_universe.get(\"scale\")\n",
    "universe_model = example_universe.get(\"model\")\n",
    "universe_exclude_features = example_universe.get(\"exclude_features\")\n",
    "universe_exclude_subgroups = example_universe.get(\"exclude_subgroups\")"
   ]
  },
  {
   "cell_type": "code",
   "execution_count": 58,
   "id": "f4b6a8ac-9dc0-4245-8a91-5b3b5999c4f9",
   "metadata": {
    "execution": {
     "iopub.execute_input": "2025-07-30T21:40:21.445852Z",
     "iopub.status.busy": "2025-07-30T21:40:21.445351Z",
     "iopub.status.idle": "2025-07-30T21:40:21.452114Z",
     "shell.execute_reply": "2025-07-30T21:40:21.450975Z"
    },
    "papermill": {
     "duration": 0.033142,
     "end_time": "2025-07-30T21:40:21.453888",
     "exception": false,
     "start_time": "2025-07-30T21:40:21.420746",
     "status": "completed"
    },
    "tags": []
   },
   "outputs": [],
   "source": [
    "cp_metrics_dict = {\n",
    "    \"universe_id\": [universe_id],\n",
    "    \"universe_training_year\": [universe_training_year],\n",
    "    \"universe_training_size\": [universe_training_size],\n",
    "    \"universe_scale\": [universe_scale],\n",
    "    \"universe_model\": [universe_model],\n",
    "    \"universe_exclude_features\": [universe_exclude_features],\n",
    "    \"universe_exclude_subgroups\": [universe_exclude_subgroups],\n",
    "    \"q_hat\": [q_hat],\n",
    "    \"coverage\": [metrics[\"coverage\"]],\n",
    "    \"avg_size\": [metrics[\"avg_size\"]],\n",
    "}"
   ]
  },
  {
   "cell_type": "code",
   "execution_count": 59,
   "id": "908acbb1-0371-4915-85ca-3fa520d2efe2",
   "metadata": {
    "execution": {
     "iopub.execute_input": "2025-07-30T21:40:21.504769Z",
     "iopub.status.busy": "2025-07-30T21:40:21.503953Z",
     "iopub.status.idle": "2025-07-30T21:40:21.511912Z",
     "shell.execute_reply": "2025-07-30T21:40:21.510876Z"
    },
    "papermill": {
     "duration": 0.034599,
     "end_time": "2025-07-30T21:40:21.513688",
     "exception": false,
     "start_time": "2025-07-30T21:40:21.479089",
     "status": "completed"
    },
    "tags": []
   },
   "outputs": [
    {
     "data": {
      "text/plain": [
       "{'universe_id': ['ab6d724b84452bdf95990e489e14665a'],\n",
       " 'universe_training_year': ['2012_14'],\n",
       " 'universe_training_size': ['1k'],\n",
       " 'universe_scale': ['do-not-scale'],\n",
       " 'universe_model': ['rf'],\n",
       " 'universe_exclude_features': ['none'],\n",
       " 'universe_exclude_subgroups': ['keep-all'],\n",
       " 'q_hat': [0.6699999999999999],\n",
       " 'coverage': [0.9161631925091963],\n",
       " 'avg_size': [1.1566937911046706]}"
      ]
     },
     "execution_count": 59,
     "metadata": {},
     "output_type": "execute_result"
    }
   ],
   "source": [
    "cp_metrics_dict"
   ]
  },
  {
   "cell_type": "code",
   "execution_count": 60,
   "id": "33007efc-14e9-4ec6-97ac-56a455c82265",
   "metadata": {
    "execution": {
     "iopub.execute_input": "2025-07-30T21:40:21.568903Z",
     "iopub.status.busy": "2025-07-30T21:40:21.568428Z",
     "iopub.status.idle": "2025-07-30T21:40:21.574894Z",
     "shell.execute_reply": "2025-07-30T21:40:21.574001Z"
    },
    "papermill": {
     "duration": 0.034237,
     "end_time": "2025-07-30T21:40:21.576389",
     "exception": false,
     "start_time": "2025-07-30T21:40:21.542152",
     "status": "completed"
    },
    "tags": []
   },
   "outputs": [],
   "source": [
    "cp_metrics_df = pd.DataFrame(cp_metrics_dict)"
   ]
  },
  {
   "cell_type": "code",
   "execution_count": 61,
   "id": "db12611b-57b2-4910-b9d0-355adfd6e7bf",
   "metadata": {
    "execution": {
     "iopub.execute_input": "2025-07-30T21:40:21.631324Z",
     "iopub.status.busy": "2025-07-30T21:40:21.630405Z",
     "iopub.status.idle": "2025-07-30T21:40:21.650779Z",
     "shell.execute_reply": "2025-07-30T21:40:21.649744Z"
    },
    "papermill": {
     "duration": 0.049947,
     "end_time": "2025-07-30T21:40:21.652503",
     "exception": false,
     "start_time": "2025-07-30T21:40:21.602556",
     "status": "completed"
    },
    "tags": []
   },
   "outputs": [
    {
     "data": {
      "text/html": [
       "<div>\n",
       "<style scoped>\n",
       "    .dataframe tbody tr th:only-of-type {\n",
       "        vertical-align: middle;\n",
       "    }\n",
       "\n",
       "    .dataframe tbody tr th {\n",
       "        vertical-align: top;\n",
       "    }\n",
       "\n",
       "    .dataframe thead th {\n",
       "        text-align: right;\n",
       "    }\n",
       "</style>\n",
       "<table border=\"1\" class=\"dataframe\">\n",
       "  <thead>\n",
       "    <tr style=\"text-align: right;\">\n",
       "      <th></th>\n",
       "      <th>universe_id</th>\n",
       "      <th>universe_training_year</th>\n",
       "      <th>universe_training_size</th>\n",
       "      <th>universe_scale</th>\n",
       "      <th>universe_model</th>\n",
       "      <th>universe_exclude_features</th>\n",
       "      <th>universe_exclude_subgroups</th>\n",
       "      <th>q_hat</th>\n",
       "      <th>coverage</th>\n",
       "      <th>avg_size</th>\n",
       "    </tr>\n",
       "  </thead>\n",
       "  <tbody>\n",
       "    <tr>\n",
       "      <th>0</th>\n",
       "      <td>ab6d724b84452bdf95990e489e14665a</td>\n",
       "      <td>2012_14</td>\n",
       "      <td>1k</td>\n",
       "      <td>do-not-scale</td>\n",
       "      <td>rf</td>\n",
       "      <td>none</td>\n",
       "      <td>keep-all</td>\n",
       "      <td>0.67</td>\n",
       "      <td>0.916163</td>\n",
       "      <td>1.156694</td>\n",
       "    </tr>\n",
       "  </tbody>\n",
       "</table>\n",
       "</div>"
      ],
      "text/plain": [
       "                        universe_id universe_training_year  \\\n",
       "0  ab6d724b84452bdf95990e489e14665a                2012_14   \n",
       "\n",
       "  universe_training_size universe_scale universe_model  \\\n",
       "0                     1k   do-not-scale             rf   \n",
       "\n",
       "  universe_exclude_features universe_exclude_subgroups  q_hat  coverage  \\\n",
       "0                      none                   keep-all   0.67  0.916163   \n",
       "\n",
       "   avg_size  \n",
       "0  1.156694  "
      ]
     },
     "execution_count": 61,
     "metadata": {},
     "output_type": "execute_result"
    }
   ],
   "source": [
    "cp_metrics_df"
   ]
  },
  {
   "cell_type": "code",
   "execution_count": 62,
   "id": "b7fbde55-a0a1-47e4-9af6-fe4a17fa8c61",
   "metadata": {
    "execution": {
     "iopub.execute_input": "2025-07-30T21:40:21.706386Z",
     "iopub.status.busy": "2025-07-30T21:40:21.705477Z",
     "iopub.status.idle": "2025-07-30T21:40:21.710693Z",
     "shell.execute_reply": "2025-07-30T21:40:21.709787Z"
    },
    "papermill": {
     "duration": 0.03276,
     "end_time": "2025-07-30T21:40:21.712518",
     "exception": false,
     "start_time": "2025-07-30T21:40:21.679758",
     "status": "completed"
    },
    "tags": []
   },
   "outputs": [],
   "source": [
    "# Conditional Coverage & looking at subgroups"
   ]
  },
  {
   "cell_type": "code",
   "execution_count": 63,
   "id": "027ae886-68dd-4141-96c7-805a5450e1ef",
   "metadata": {
    "execution": {
     "iopub.execute_input": "2025-07-30T21:40:21.765620Z",
     "iopub.status.busy": "2025-07-30T21:40:21.765067Z",
     "iopub.status.idle": "2025-07-30T21:40:22.043359Z",
     "shell.execute_reply": "2025-07-30T21:40:22.042357Z"
    },
    "papermill": {
     "duration": 0.306587,
     "end_time": "2025-07-30T21:40:22.045332",
     "exception": false,
     "start_time": "2025-07-30T21:40:21.738745",
     "status": "completed"
    },
    "tags": []
   },
   "outputs": [],
   "source": [
    "from fairness_multiverse.conformal import build_cp_groups\n",
    "\n",
    "cp_groups_df = build_cp_groups(pred_sets, y_true, X_test.index, org_test)\n",
    "#needs universe_id and setting"
   ]
  },
  {
   "cell_type": "code",
   "execution_count": 64,
   "id": "01d5802c-663a-4d1f-9d69-e036faaffbf7",
   "metadata": {
    "execution": {
     "iopub.execute_input": "2025-07-30T21:40:22.101479Z",
     "iopub.status.busy": "2025-07-30T21:40:22.100972Z",
     "iopub.status.idle": "2025-07-30T21:40:22.106152Z",
     "shell.execute_reply": "2025-07-30T21:40:22.105186Z"
    },
    "papermill": {
     "duration": 0.035532,
     "end_time": "2025-07-30T21:40:22.107960",
     "exception": false,
     "start_time": "2025-07-30T21:40:22.072428",
     "status": "completed"
    },
    "tags": []
   },
   "outputs": [],
   "source": [
    "#delete\n",
    "#cp_groups_df"
   ]
  },
  {
   "cell_type": "code",
   "execution_count": 65,
   "id": "fa424af1-d1eb-443d-b717-2d279ada8408",
   "metadata": {
    "execution": {
     "iopub.execute_input": "2025-07-30T21:40:22.163461Z",
     "iopub.status.busy": "2025-07-30T21:40:22.162908Z",
     "iopub.status.idle": "2025-07-30T21:40:22.168861Z",
     "shell.execute_reply": "2025-07-30T21:40:22.167710Z"
    },
    "papermill": {
     "duration": 0.033745,
     "end_time": "2025-07-30T21:40:22.170541",
     "exception": false,
     "start_time": "2025-07-30T21:40:22.136796",
     "status": "completed"
    },
    "tags": []
   },
   "outputs": [],
   "source": [
    "#delete\n",
    "#percentage = (cp_groups_df['nongerman_female'] == 1).mean() * 100\n",
    "#print(percentage)\n"
   ]
  },
  {
   "cell_type": "code",
   "execution_count": 66,
   "id": "6cbdab96-b2b2-45af-ad54-d0516db2e28d",
   "metadata": {
    "execution": {
     "iopub.execute_input": "2025-07-30T21:40:22.228853Z",
     "iopub.status.busy": "2025-07-30T21:40:22.228090Z",
     "iopub.status.idle": "2025-07-30T21:40:23.939606Z",
     "shell.execute_reply": "2025-07-30T21:40:23.938648Z"
    },
    "papermill": {
     "duration": 1.742228,
     "end_time": "2025-07-30T21:40:23.941559",
     "exception": false,
     "start_time": "2025-07-30T21:40:22.199331",
     "status": "completed"
    },
    "tags": []
   },
   "outputs": [],
   "source": [
    "# Define covered = 1 if true_label is in the predicted set\n",
    "cp_groups_df['covered'] = cp_groups_df.apply(\n",
    "    lambda r: int(r['true_label'] in r['pred_set']),\n",
    "    axis=1\n",
    ")"
   ]
  },
  {
   "cell_type": "code",
   "execution_count": 67,
   "id": "338ff529-1a6b-4b87-a931-8e4788d52aad",
   "metadata": {
    "execution": {
     "iopub.execute_input": "2025-07-30T21:40:23.996246Z",
     "iopub.status.busy": "2025-07-30T21:40:23.995530Z",
     "iopub.status.idle": "2025-07-30T21:40:24.001137Z",
     "shell.execute_reply": "2025-07-30T21:40:24.000092Z"
    },
    "papermill": {
     "duration": 0.034761,
     "end_time": "2025-07-30T21:40:24.002825",
     "exception": false,
     "start_time": "2025-07-30T21:40:23.968064",
     "status": "completed"
    },
    "tags": []
   },
   "outputs": [],
   "source": [
    "#cp_groups_df"
   ]
  },
  {
   "cell_type": "code",
   "execution_count": 68,
   "id": "90032e27-66df-4540-9169-4e89cfbaa758",
   "metadata": {
    "execution": {
     "iopub.execute_input": "2025-07-30T21:40:24.056685Z",
     "iopub.status.busy": "2025-07-30T21:40:24.055909Z",
     "iopub.status.idle": "2025-07-30T21:40:24.067237Z",
     "shell.execute_reply": "2025-07-30T21:40:24.066363Z"
    },
    "papermill": {
     "duration": 0.039985,
     "end_time": "2025-07-30T21:40:24.069007",
     "exception": false,
     "start_time": "2025-07-30T21:40:24.029022",
     "status": "completed"
    },
    "tags": []
   },
   "outputs": [],
   "source": [
    "subgroups = ['frau1','nongerman','nongerman_male','nongerman_female']\n",
    "\n",
    "# Conditional coverage for subgroup==1\n",
    "cond_coverage = {\n",
    "    g: cp_groups_df.loc[cp_groups_df[g]==1, 'covered'].mean()\n",
    "    for g in subgroups\n",
    "}"
   ]
  },
  {
   "cell_type": "code",
   "execution_count": 69,
   "id": "1e348fb1-b9c3-45bc-ba23-f016827a7e0d",
   "metadata": {
    "execution": {
     "iopub.execute_input": "2025-07-30T21:40:24.123500Z",
     "iopub.status.busy": "2025-07-30T21:40:24.122857Z",
     "iopub.status.idle": "2025-07-30T21:40:24.130083Z",
     "shell.execute_reply": "2025-07-30T21:40:24.129187Z"
    },
    "papermill": {
     "duration": 0.035212,
     "end_time": "2025-07-30T21:40:24.131771",
     "exception": false,
     "start_time": "2025-07-30T21:40:24.096559",
     "status": "completed"
    },
    "tags": []
   },
   "outputs": [
    {
     "data": {
      "text/plain": [
       "{'frau1': 0.9141663296940289,\n",
       " 'nongerman': 0.906697355863695,\n",
       " 'nongerman_male': 0.9245249031793209,\n",
       " 'nongerman_female': 0.8771982116244411}"
      ]
     },
     "execution_count": 69,
     "metadata": {},
     "output_type": "execute_result"
    }
   ],
   "source": [
    "cond_coverage"
   ]
  },
  {
   "cell_type": "code",
   "execution_count": 70,
   "id": "f5093324-c3dd-4d63-bc4c-8d945e5c8bbb",
   "metadata": {
    "execution": {
     "iopub.execute_input": "2025-07-30T21:40:24.186197Z",
     "iopub.status.busy": "2025-07-30T21:40:24.185266Z",
     "iopub.status.idle": "2025-07-30T21:40:24.192856Z",
     "shell.execute_reply": "2025-07-30T21:40:24.191911Z"
    },
    "papermill": {
     "duration": 0.035518,
     "end_time": "2025-07-30T21:40:24.194538",
     "exception": false,
     "start_time": "2025-07-30T21:40:24.159020",
     "status": "completed"
    },
    "tags": []
   },
   "outputs": [],
   "source": [
    "for subgroup, cov in cond_coverage.items():\n",
    "    cp_metrics_df[f\"cov_{subgroup}\"] = cov"
   ]
  },
  {
   "cell_type": "code",
   "execution_count": 71,
   "id": "6e872e10-dbe5-49e8-b554-5030c98ff75d",
   "metadata": {
    "execution": {
     "iopub.execute_input": "2025-07-30T21:40:24.249273Z",
     "iopub.status.busy": "2025-07-30T21:40:24.248601Z",
     "iopub.status.idle": "2025-07-30T21:40:24.267771Z",
     "shell.execute_reply": "2025-07-30T21:40:24.266917Z"
    },
    "papermill": {
     "duration": 0.047767,
     "end_time": "2025-07-30T21:40:24.269487",
     "exception": false,
     "start_time": "2025-07-30T21:40:24.221720",
     "status": "completed"
    },
    "tags": []
   },
   "outputs": [
    {
     "data": {
      "text/html": [
       "<div>\n",
       "<style scoped>\n",
       "    .dataframe tbody tr th:only-of-type {\n",
       "        vertical-align: middle;\n",
       "    }\n",
       "\n",
       "    .dataframe tbody tr th {\n",
       "        vertical-align: top;\n",
       "    }\n",
       "\n",
       "    .dataframe thead th {\n",
       "        text-align: right;\n",
       "    }\n",
       "</style>\n",
       "<table border=\"1\" class=\"dataframe\">\n",
       "  <thead>\n",
       "    <tr style=\"text-align: right;\">\n",
       "      <th></th>\n",
       "      <th>universe_id</th>\n",
       "      <th>universe_training_year</th>\n",
       "      <th>universe_training_size</th>\n",
       "      <th>universe_scale</th>\n",
       "      <th>universe_model</th>\n",
       "      <th>universe_exclude_features</th>\n",
       "      <th>universe_exclude_subgroups</th>\n",
       "      <th>q_hat</th>\n",
       "      <th>coverage</th>\n",
       "      <th>avg_size</th>\n",
       "      <th>cov_frau1</th>\n",
       "      <th>cov_nongerman</th>\n",
       "      <th>cov_nongerman_male</th>\n",
       "      <th>cov_nongerman_female</th>\n",
       "    </tr>\n",
       "  </thead>\n",
       "  <tbody>\n",
       "    <tr>\n",
       "      <th>0</th>\n",
       "      <td>ab6d724b84452bdf95990e489e14665a</td>\n",
       "      <td>2012_14</td>\n",
       "      <td>1k</td>\n",
       "      <td>do-not-scale</td>\n",
       "      <td>rf</td>\n",
       "      <td>none</td>\n",
       "      <td>keep-all</td>\n",
       "      <td>0.67</td>\n",
       "      <td>0.916163</td>\n",
       "      <td>1.156694</td>\n",
       "      <td>0.914166</td>\n",
       "      <td>0.906697</td>\n",
       "      <td>0.924525</td>\n",
       "      <td>0.877198</td>\n",
       "    </tr>\n",
       "  </tbody>\n",
       "</table>\n",
       "</div>"
      ],
      "text/plain": [
       "                        universe_id universe_training_year  \\\n",
       "0  ab6d724b84452bdf95990e489e14665a                2012_14   \n",
       "\n",
       "  universe_training_size universe_scale universe_model  \\\n",
       "0                     1k   do-not-scale             rf   \n",
       "\n",
       "  universe_exclude_features universe_exclude_subgroups  q_hat  coverage  \\\n",
       "0                      none                   keep-all   0.67  0.916163   \n",
       "\n",
       "   avg_size  cov_frau1  cov_nongerman  cov_nongerman_male  \\\n",
       "0  1.156694   0.914166       0.906697            0.924525   \n",
       "\n",
       "   cov_nongerman_female  \n",
       "0              0.877198  "
      ]
     },
     "execution_count": 71,
     "metadata": {},
     "output_type": "execute_result"
    }
   ],
   "source": [
    "cp_metrics_df"
   ]
  },
  {
   "cell_type": "markdown",
   "id": "33774451",
   "metadata": {
    "papermill": {
     "duration": 0.026433,
     "end_time": "2025-07-30T21:40:24.322715",
     "exception": false,
     "start_time": "2025-07-30T21:40:24.296282",
     "status": "completed"
    },
    "tags": []
   },
   "source": [
    "# (Fairness) Metrics"
   ]
  },
  {
   "cell_type": "code",
   "execution_count": 72,
   "id": "debc5d62",
   "metadata": {
    "execution": {
     "iopub.execute_input": "2025-07-30T21:40:24.377964Z",
     "iopub.status.busy": "2025-07-30T21:40:24.377059Z",
     "iopub.status.idle": "2025-07-30T21:40:24.398299Z",
     "shell.execute_reply": "2025-07-30T21:40:24.397389Z"
    },
    "papermill": {
     "duration": 0.05099,
     "end_time": "2025-07-30T21:40:24.400247",
     "exception": false,
     "start_time": "2025-07-30T21:40:24.349257",
     "status": "completed"
    },
    "tags": []
   },
   "outputs": [],
   "source": [
    "# do I need to include maxdeutsch1.missing?\n",
    "\n",
    "import numpy as np\n",
    "\n",
    "colname_to_bin = \"maxdeutsch1\"\n",
    "majority_value = org_train[colname_to_bin].mode()[0]\n",
    "\n",
    "org_test[\"majmin\"] = np.where(org_test[colname_to_bin] == majority_value, \"majority\", \"minority\")"
   ]
  },
  {
   "cell_type": "code",
   "execution_count": 73,
   "id": "06a50de5",
   "metadata": {
    "execution": {
     "iopub.execute_input": "2025-07-30T21:40:24.455254Z",
     "iopub.status.busy": "2025-07-30T21:40:24.454300Z",
     "iopub.status.idle": "2025-07-30T21:40:27.249132Z",
     "shell.execute_reply": "2025-07-30T21:40:27.248007Z"
    },
    "papermill": {
     "duration": 2.824504,
     "end_time": "2025-07-30T21:40:27.251417",
     "exception": false,
     "start_time": "2025-07-30T21:40:24.426913",
     "status": "completed"
    },
    "tags": []
   },
   "outputs": [],
   "source": [
    "example_universe = universe.copy()\n",
    "example_universe[\"cutoff\"] = example_universe[\"cutoff\"][0]\n",
    "example_universe[\"eval_fairness_grouping\"] = example_universe[\"eval_fairness_grouping\"][0]\n",
    "fairness_dict, metric_frame = universe_analysis.compute_metrics(\n",
    "    example_universe,\n",
    "    y_pred_prob=probs_test,\n",
    "    y_test=y_true,\n",
    "    org_test=org_test,\n",
    ")"
   ]
  },
  {
   "cell_type": "markdown",
   "id": "f95d4e02",
   "metadata": {
    "papermill": {
     "duration": 0.035973,
     "end_time": "2025-07-30T21:40:27.320818",
     "exception": false,
     "start_time": "2025-07-30T21:40:27.284845",
     "status": "completed"
    },
    "tags": []
   },
   "source": [
    "# Overall"
   ]
  },
  {
   "cell_type": "markdown",
   "id": "bdee4871",
   "metadata": {
    "papermill": {
     "duration": 0.039084,
     "end_time": "2025-07-30T21:40:27.399066",
     "exception": false,
     "start_time": "2025-07-30T21:40:27.359982",
     "status": "completed"
    },
    "tags": []
   },
   "source": [
    "Fairness\n",
    "Main fairness target: Equalized Odds. Seems to be a better fit than equal opportunity, since we're not only interested in Y = 1. Seems to be a better fit than demographic parity, since we also care about accuracy, not just equal distribution of preds.\n",
    "\n",
    "Pick column for computation of fairness metrics\n",
    "\n",
    "Performance\n",
    "Overall performance measures, most interesting in relation to the measures split by group below"
   ]
  },
  {
   "cell_type": "code",
   "execution_count": 74,
   "id": "c4e067c6",
   "metadata": {
    "execution": {
     "iopub.execute_input": "2025-07-30T21:40:27.478569Z",
     "iopub.status.busy": "2025-07-30T21:40:27.477924Z",
     "iopub.status.idle": "2025-07-30T21:40:27.489223Z",
     "shell.execute_reply": "2025-07-30T21:40:27.487989Z"
    },
    "papermill": {
     "duration": 0.053537,
     "end_time": "2025-07-30T21:40:27.491176",
     "exception": false,
     "start_time": "2025-07-30T21:40:27.437639",
     "status": "completed"
    },
    "tags": []
   },
   "outputs": [
    {
     "data": {
      "text/plain": [
       "accuracy                   0.194739\n",
       "balanced accuracy          0.531005\n",
       "f1                         0.238553\n",
       "precision                  0.135742\n",
       "false positive rate        0.921306\n",
       "false negative rate        0.016684\n",
       "selection rate             0.929261\n",
       "count                  89710.000000\n",
       "dtype: float64"
      ]
     },
     "execution_count": 74,
     "metadata": {},
     "output_type": "execute_result"
    }
   ],
   "source": [
    "metric_frame.overall"
   ]
  },
  {
   "cell_type": "markdown",
   "id": "e968fe9d",
   "metadata": {
    "papermill": {
     "duration": 0.028003,
     "end_time": "2025-07-30T21:40:27.547230",
     "exception": false,
     "start_time": "2025-07-30T21:40:27.519227",
     "status": "completed"
    },
    "tags": []
   },
   "source": [
    "By Group"
   ]
  },
  {
   "cell_type": "code",
   "execution_count": 75,
   "id": "ec325bce",
   "metadata": {
    "execution": {
     "iopub.execute_input": "2025-07-30T21:40:27.604572Z",
     "iopub.status.busy": "2025-07-30T21:40:27.603777Z",
     "iopub.status.idle": "2025-07-30T21:40:27.626024Z",
     "shell.execute_reply": "2025-07-30T21:40:27.624881Z"
    },
    "papermill": {
     "duration": 0.053802,
     "end_time": "2025-07-30T21:40:27.627705",
     "exception": false,
     "start_time": "2025-07-30T21:40:27.573903",
     "status": "completed"
    },
    "tags": []
   },
   "outputs": [
    {
     "data": {
      "text/html": [
       "<div>\n",
       "<style scoped>\n",
       "    .dataframe tbody tr th:only-of-type {\n",
       "        vertical-align: middle;\n",
       "    }\n",
       "\n",
       "    .dataframe tbody tr th {\n",
       "        vertical-align: top;\n",
       "    }\n",
       "\n",
       "    .dataframe thead th {\n",
       "        text-align: right;\n",
       "    }\n",
       "</style>\n",
       "<table border=\"1\" class=\"dataframe\">\n",
       "  <thead>\n",
       "    <tr style=\"text-align: right;\">\n",
       "      <th></th>\n",
       "      <th>accuracy</th>\n",
       "      <th>balanced accuracy</th>\n",
       "      <th>f1</th>\n",
       "      <th>precision</th>\n",
       "      <th>false positive rate</th>\n",
       "      <th>false negative rate</th>\n",
       "      <th>selection rate</th>\n",
       "      <th>count</th>\n",
       "    </tr>\n",
       "    <tr>\n",
       "      <th>majmin</th>\n",
       "      <th></th>\n",
       "      <th></th>\n",
       "      <th></th>\n",
       "      <th></th>\n",
       "      <th></th>\n",
       "      <th></th>\n",
       "      <th></th>\n",
       "      <th></th>\n",
       "    </tr>\n",
       "  </thead>\n",
       "  <tbody>\n",
       "    <tr>\n",
       "      <th>majority</th>\n",
       "      <td>0.200448</td>\n",
       "      <td>0.534950</td>\n",
       "      <td>0.246475</td>\n",
       "      <td>0.140767</td>\n",
       "      <td>0.919707</td>\n",
       "      <td>0.010394</td>\n",
       "      <td>0.928943</td>\n",
       "      <td>69170.0</td>\n",
       "    </tr>\n",
       "    <tr>\n",
       "      <th>minority</th>\n",
       "      <td>0.175511</td>\n",
       "      <td>0.516223</td>\n",
       "      <td>0.211482</td>\n",
       "      <td>0.118845</td>\n",
       "      <td>0.926590</td>\n",
       "      <td>0.040963</td>\n",
       "      <td>0.930331</td>\n",
       "      <td>20540.0</td>\n",
       "    </tr>\n",
       "  </tbody>\n",
       "</table>\n",
       "</div>"
      ],
      "text/plain": [
       "          accuracy  balanced accuracy        f1  precision  \\\n",
       "majmin                                                       \n",
       "majority  0.200448           0.534950  0.246475   0.140767   \n",
       "minority  0.175511           0.516223  0.211482   0.118845   \n",
       "\n",
       "          false positive rate  false negative rate  selection rate    count  \n",
       "majmin                                                                       \n",
       "majority             0.919707             0.010394        0.928943  69170.0  \n",
       "minority             0.926590             0.040963        0.930331  20540.0  "
      ]
     },
     "execution_count": 75,
     "metadata": {},
     "output_type": "execute_result"
    }
   ],
   "source": [
    "metric_frame.by_group"
   ]
  },
  {
   "cell_type": "code",
   "execution_count": 76,
   "id": "a9ddbe63",
   "metadata": {
    "execution": {
     "iopub.execute_input": "2025-07-30T21:40:27.687133Z",
     "iopub.status.busy": "2025-07-30T21:40:27.686202Z",
     "iopub.status.idle": "2025-07-30T21:40:30.333221Z",
     "shell.execute_reply": "2025-07-30T21:40:30.332307Z"
    },
    "papermill": {
     "duration": 2.679281,
     "end_time": "2025-07-30T21:40:30.336064",
     "exception": false,
     "start_time": "2025-07-30T21:40:27.656783",
     "status": "completed"
    },
    "tags": []
   },
   "outputs": [
    {
     "data": {
      "text/plain": [
       "array([[<Axes: title={'center': 'accuracy'}, xlabel='majmin'>,\n",
       "        <Axes: title={'center': 'balanced accuracy'}, xlabel='majmin'>,\n",
       "        <Axes: title={'center': 'f1'}, xlabel='majmin'>],\n",
       "       [<Axes: title={'center': 'precision'}, xlabel='majmin'>,\n",
       "        <Axes: title={'center': 'false positive rate'}, xlabel='majmin'>,\n",
       "        <Axes: title={'center': 'false negative rate'}, xlabel='majmin'>],\n",
       "       [<Axes: title={'center': 'selection rate'}, xlabel='majmin'>,\n",
       "        <Axes: title={'center': 'count'}, xlabel='majmin'>,\n",
       "        <Axes: xlabel='majmin'>]], dtype=object)"
      ]
     },
     "execution_count": 76,
     "metadata": {},
     "output_type": "execute_result"
    },
    {
     "data": {
      "image/png": "[encoded data removed]",
      "text/plain": [
       "<Figure size 1200x800 with 9 Axes>"
      ]
     },
     "metadata": {},
     "output_type": "display_data"
    }
   ],
   "source": [
    "# In a graphic\n",
    "metric_frame.by_group.plot.bar(\n",
    "    subplots=True,\n",
    "    layout=[3, 3],\n",
    "    legend=False,\n",
    "    figsize=[12, 8],\n",
    "    title=\"Show all metrics\",\n",
    ")"
   ]
  },
  {
   "cell_type": "markdown",
   "id": "f57a0bac",
   "metadata": {
    "papermill": {
     "duration": 0.02655,
     "end_time": "2025-07-30T21:40:30.398392",
     "exception": false,
     "start_time": "2025-07-30T21:40:30.371842",
     "status": "completed"
    },
    "tags": []
   },
   "source": [
    "# Final Output"
   ]
  },
  {
   "cell_type": "code",
   "execution_count": 77,
   "id": "96d280a3",
   "metadata": {
    "execution": {
     "iopub.execute_input": "2025-07-30T21:40:30.434236Z",
     "iopub.status.busy": "2025-07-30T21:40:30.433606Z",
     "iopub.status.idle": "2025-07-30T21:40:30.442707Z",
     "shell.execute_reply": "2025-07-30T21:40:30.441212Z"
    },
    "papermill": {
     "duration": 0.029402,
     "end_time": "2025-07-30T21:40:30.444492",
     "exception": false,
     "start_time": "2025-07-30T21:40:30.415090",
     "status": "completed"
    },
    "tags": []
   },
   "outputs": [
    {
     "data": {
      "text/plain": [
       "4"
      ]
     },
     "execution_count": 77,
     "metadata": {},
     "output_type": "execute_result"
    }
   ],
   "source": [
    "sub_universes = universe_analysis.generate_sub_universes()\n",
    "len(sub_universes)"
   ]
  },
  {
   "cell_type": "code",
   "execution_count": 78,
   "id": "92adf7ba",
   "metadata": {
    "execution": {
     "iopub.execute_input": "2025-07-30T21:40:30.511415Z",
     "iopub.status.busy": "2025-07-30T21:40:30.510918Z",
     "iopub.status.idle": "2025-07-30T21:40:30.517709Z",
     "shell.execute_reply": "2025-07-30T21:40:30.516710Z"
    },
    "papermill": {
     "duration": 0.044166,
     "end_time": "2025-07-30T21:40:30.519359",
     "exception": false,
     "start_time": "2025-07-30T21:40:30.475193",
     "status": "completed"
    },
    "tags": []
   },
   "outputs": [],
   "source": [
    "def filter_sub_universe_data(sub_universe, org_test):\n",
    "    # Keep all rows — no filtering\n",
    "    keep_rows_mask = np.ones(org_test.shape[0], dtype=bool)\n",
    "\n",
    "    print(f\"[INFO] Keeping all rows: {keep_rows_mask.sum()} rows retained.\")\n",
    "    return keep_rows_mask"
   ]
  },
  {
   "cell_type": "code",
   "execution_count": 79,
   "id": "4a759155",
   "metadata": {
    "execution": {
     "iopub.execute_input": "2025-07-30T21:40:30.587532Z",
     "iopub.status.busy": "2025-07-30T21:40:30.586217Z",
     "iopub.status.idle": "2025-07-30T21:40:42.115035Z",
     "shell.execute_reply": "2025-07-30T21:40:42.114008Z"
    },
    "papermill": {
     "duration": 11.564205,
     "end_time": "2025-07-30T21:40:42.117079",
     "exception": false,
     "start_time": "2025-07-30T21:40:30.552874",
     "status": "completed"
    },
    "tags": []
   },
   "outputs": [
    {
     "name": "stdout",
     "output_type": "stream",
     "text": [
      "Stopping execution_time clock.\n",
      "[INFO] Keeping all rows: 89710 rows retained.\n"
     ]
    },
    {
     "name": "stdout",
     "output_type": "stream",
     "text": [
      "[INFO] Keeping all rows: 89710 rows retained.\n"
     ]
    },
    {
     "name": "stdout",
     "output_type": "stream",
     "text": [
      "[INFO] Keeping all rows: 89710 rows retained.\n"
     ]
    },
    {
     "name": "stdout",
     "output_type": "stream",
     "text": [
      "[INFO] Keeping all rows: 89710 rows retained.\n"
     ]
    },
    {
     "data": {
      "text/html": [
       "<div>\n",
       "<style scoped>\n",
       "    .dataframe tbody tr th:only-of-type {\n",
       "        vertical-align: middle;\n",
       "    }\n",
       "\n",
       "    .dataframe tbody tr th {\n",
       "        vertical-align: top;\n",
       "    }\n",
       "\n",
       "    .dataframe thead th {\n",
       "        text-align: right;\n",
       "    }\n",
       "</style>\n",
       "<table border=\"1\" class=\"dataframe\">\n",
       "  <thead>\n",
       "    <tr style=\"text-align: right;\">\n",
       "      <th></th>\n",
       "      <th>run_no</th>\n",
       "      <th>universe_id</th>\n",
       "      <th>universe_settings</th>\n",
       "      <th>execution_time</th>\n",
       "      <th>test_size_n</th>\n",
       "      <th>test_size_frac</th>\n",
       "      <th>fair_main_equalized_odds_difference</th>\n",
       "      <th>fair_main_equalized_odds_ratio</th>\n",
       "      <th>fair_main_demographic_parity_difference</th>\n",
       "      <th>fair_main_demographic_parity_ratio</th>\n",
       "      <th>...</th>\n",
       "      <th>perf_grp_precision_0</th>\n",
       "      <th>perf_grp_precision_1</th>\n",
       "      <th>perf_grp_false positive rate_0</th>\n",
       "      <th>perf_grp_false positive rate_1</th>\n",
       "      <th>perf_grp_false negative rate_0</th>\n",
       "      <th>perf_grp_false negative rate_1</th>\n",
       "      <th>perf_grp_selection rate_0</th>\n",
       "      <th>perf_grp_selection rate_1</th>\n",
       "      <th>perf_grp_count_0</th>\n",
       "      <th>perf_grp_count_1</th>\n",
       "    </tr>\n",
       "  </thead>\n",
       "  <tbody>\n",
       "    <tr>\n",
       "      <th>0</th>\n",
       "      <td>14</td>\n",
       "      <td>ab6d724b84452bdf95990e489e14665a</td>\n",
       "      <td>{\"cutoff\": \"quantile_0.1\", \"eval_fairness_grou...</td>\n",
       "      <td>30.424144</td>\n",
       "      <td>89710</td>\n",
       "      <td>1.0</td>\n",
       "      <td>0.030569</td>\n",
       "      <td>0.969110</td>\n",
       "      <td>0.001388</td>\n",
       "      <td>0.998508</td>\n",
       "      <td>...</td>\n",
       "      <td>NaN</td>\n",
       "      <td>NaN</td>\n",
       "      <td>NaN</td>\n",
       "      <td>NaN</td>\n",
       "      <td>NaN</td>\n",
       "      <td>NaN</td>\n",
       "      <td>NaN</td>\n",
       "      <td>NaN</td>\n",
       "      <td>NaN</td>\n",
       "      <td>NaN</td>\n",
       "    </tr>\n",
       "    <tr>\n",
       "      <th>0</th>\n",
       "      <td>14</td>\n",
       "      <td>ab6d724b84452bdf95990e489e14665a</td>\n",
       "      <td>{\"cutoff\": \"quantile_0.1\", \"eval_fairness_grou...</td>\n",
       "      <td>30.424144</td>\n",
       "      <td>89710</td>\n",
       "      <td>1.0</td>\n",
       "      <td>0.030569</td>\n",
       "      <td>0.969110</td>\n",
       "      <td>0.001388</td>\n",
       "      <td>0.998508</td>\n",
       "      <td>...</td>\n",
       "      <td>0.118845</td>\n",
       "      <td>0.140767</td>\n",
       "      <td>0.926590</td>\n",
       "      <td>0.919707</td>\n",
       "      <td>0.040963</td>\n",
       "      <td>0.010394</td>\n",
       "      <td>0.930331</td>\n",
       "      <td>0.928943</td>\n",
       "      <td>20540.0</td>\n",
       "      <td>69170.0</td>\n",
       "    </tr>\n",
       "    <tr>\n",
       "      <th>0</th>\n",
       "      <td>14</td>\n",
       "      <td>ab6d724b84452bdf95990e489e14665a</td>\n",
       "      <td>{\"cutoff\": \"quantile_0.25\", \"eval_fairness_gro...</td>\n",
       "      <td>30.424144</td>\n",
       "      <td>89710</td>\n",
       "      <td>1.0</td>\n",
       "      <td>0.123380</td>\n",
       "      <td>0.869404</td>\n",
       "      <td>0.033660</td>\n",
       "      <td>0.956646</td>\n",
       "      <td>...</td>\n",
       "      <td>NaN</td>\n",
       "      <td>NaN</td>\n",
       "      <td>NaN</td>\n",
       "      <td>NaN</td>\n",
       "      <td>NaN</td>\n",
       "      <td>NaN</td>\n",
       "      <td>NaN</td>\n",
       "      <td>NaN</td>\n",
       "      <td>NaN</td>\n",
       "      <td>NaN</td>\n",
       "    </tr>\n",
       "    <tr>\n",
       "      <th>0</th>\n",
       "      <td>14</td>\n",
       "      <td>ab6d724b84452bdf95990e489e14665a</td>\n",
       "      <td>{\"cutoff\": \"quantile_0.25\", \"eval_fairness_gro...</td>\n",
       "      <td>30.424144</td>\n",
       "      <td>89710</td>\n",
       "      <td>1.0</td>\n",
       "      <td>0.123380</td>\n",
       "      <td>0.869404</td>\n",
       "      <td>0.033660</td>\n",
       "      <td>0.956646</td>\n",
       "      <td>...</td>\n",
       "      <td>0.127491</td>\n",
       "      <td>0.160789</td>\n",
       "      <td>0.732501</td>\n",
       "      <td>0.750775</td>\n",
       "      <td>0.178632</td>\n",
       "      <td>0.055252</td>\n",
       "      <td>0.742746</td>\n",
       "      <td>0.776406</td>\n",
       "      <td>20540.0</td>\n",
       "      <td>69170.0</td>\n",
       "    </tr>\n",
       "  </tbody>\n",
       "</table>\n",
       "<p>4 rows × 50 columns</p>\n",
       "</div>"
      ],
      "text/plain": [
       "  run_no                       universe_id  \\\n",
       "0     14  ab6d724b84452bdf95990e489e14665a   \n",
       "0     14  ab6d724b84452bdf95990e489e14665a   \n",
       "0     14  ab6d724b84452bdf95990e489e14665a   \n",
       "0     14  ab6d724b84452bdf95990e489e14665a   \n",
       "\n",
       "                                   universe_settings  execution_time  \\\n",
       "0  {\"cutoff\": \"quantile_0.1\", \"eval_fairness_grou...       30.424144   \n",
       "0  {\"cutoff\": \"quantile_0.1\", \"eval_fairness_grou...       30.424144   \n",
       "0  {\"cutoff\": \"quantile_0.25\", \"eval_fairness_gro...       30.424144   \n",
       "0  {\"cutoff\": \"quantile_0.25\", \"eval_fairness_gro...       30.424144   \n",
       "\n",
       "   test_size_n  test_size_frac  fair_main_equalized_odds_difference  \\\n",
       "0        89710             1.0                             0.030569   \n",
       "0        89710             1.0                             0.030569   \n",
       "0        89710             1.0                             0.123380   \n",
       "0        89710             1.0                             0.123380   \n",
       "\n",
       "   fair_main_equalized_odds_ratio  fair_main_demographic_parity_difference  \\\n",
       "0                        0.969110                                 0.001388   \n",
       "0                        0.969110                                 0.001388   \n",
       "0                        0.869404                                 0.033660   \n",
       "0                        0.869404                                 0.033660   \n",
       "\n",
       "   fair_main_demographic_parity_ratio  ...  perf_grp_precision_0  \\\n",
       "0                            0.998508  ...                   NaN   \n",
       "0                            0.998508  ...              0.118845   \n",
       "0                            0.956646  ...                   NaN   \n",
       "0                            0.956646  ...              0.127491   \n",
       "\n",
       "   perf_grp_precision_1  perf_grp_false positive rate_0  \\\n",
       "0                   NaN                             NaN   \n",
       "0              0.140767                        0.926590   \n",
       "0                   NaN                             NaN   \n",
       "0              0.160789                        0.732501   \n",
       "\n",
       "   perf_grp_false positive rate_1  perf_grp_false negative rate_0  \\\n",
       "0                             NaN                             NaN   \n",
       "0                        0.919707                        0.040963   \n",
       "0                             NaN                             NaN   \n",
       "0                        0.750775                        0.178632   \n",
       "\n",
       "   perf_grp_false negative rate_1  perf_grp_selection rate_0  \\\n",
       "0                             NaN                        NaN   \n",
       "0                        0.010394                   0.930331   \n",
       "0                             NaN                        NaN   \n",
       "0                        0.055252                   0.742746   \n",
       "\n",
       "   perf_grp_selection rate_1  perf_grp_count_0  perf_grp_count_1  \n",
       "0                        NaN               NaN               NaN  \n",
       "0                   0.928943           20540.0           69170.0  \n",
       "0                        NaN               NaN               NaN  \n",
       "0                   0.776406           20540.0           69170.0  \n",
       "\n",
       "[4 rows x 50 columns]"
      ]
     },
     "execution_count": 79,
     "metadata": {},
     "output_type": "execute_result"
    }
   ],
   "source": [
    "final_output = universe_analysis.generate_final_output(\n",
    "    y_pred_prob=probs_test,\n",
    "    y_test=y_true,\n",
    "    org_test=org_test,\n",
    "    filter_data=filter_sub_universe_data,\n",
    "    cp_metrics_df=cp_metrics_df,\n",
    "    save=True,\n",
    ")\n",
    "final_output"
   ]
  },
  {
   "cell_type": "code",
   "execution_count": null,
   "id": "721ff514-cb11-46f8-b6fc-50392f74b5cb",
   "metadata": {
    "papermill": {
     "duration": 0.027453,
     "end_time": "2025-07-30T21:40:42.176142",
     "exception": false,
     "start_time": "2025-07-30T21:40:42.148689",
     "status": "completed"
    },
    "tags": []
   },
   "outputs": [],
   "source": []
  }
 ],
 "metadata": {
  "celltoolbar": "Tags",
  "kernelspec": {
   "display_name": "Python (CMA Fairness)",
   "language": "python",
   "name": "cma_fair_env"
  },
  "language_info": {
   "codemirror_mode": {
    "name": "ipython",
    "version": 3
   },
   "file_extension": ".py",
   "mimetype": "text/x-python",
   "name": "python",
   "nbconvert_exporter": "python",
   "pygments_lexer": "ipython3",
   "version": "3.10.12"
  },
  "papermill": {
   "default_parameters": {},
   "duration": 46.429415,
   "end_time": "2025-07-30T21:40:43.125508",
   "environment_variables": {},
   "exception": null,
   "input_path": "universe_analysis.ipynb",
   "output_path": "output/runs/14/notebooks/m_14-ab6d724b84452bdf95990e489e14665a.ipynb",
   "parameters": {
    "output_dir": "output",
    "run_no": "14",
    "seed": "2023",
    "universe": "{\"cutoff\": [\"quantile_0.1\", \"quantile_0.25\"], \"eval_fairness_grouping\": [\"majority-minority\", \"nationality-all\"], \"exclude_features\": \"none\", \"exclude_subgroups\": \"keep-all\", \"model\": \"rf\", \"scale\": \"do-not-scale\", \"training_size\": \"1k\", \"training_year\": \"2012_14\"}",
    "universe_id": "ab6d724b84452bdf95990e489e14665a"
   },
   "start_time": "2025-07-30T21:39:56.696093",
   "version": "2.6.0"
  }
 },
 "nbformat": 4,
 "nbformat_minor": 5
}