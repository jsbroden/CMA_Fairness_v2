{
 "cells": [
  {
   "cell_type": "code",
   "execution_count": 1,
   "id": "f159f837-637b-42ba-96b5-ec9a68c44524",
   "metadata": {
    "execution": {
     "iopub.execute_input": "2025-07-30T20:12:28.626004Z",
     "iopub.status.busy": "2025-07-30T20:12:28.625422Z",
     "iopub.status.idle": "2025-07-30T20:12:28.642155Z",
     "shell.execute_reply": "2025-07-30T20:12:28.641092Z"
    },
    "papermill": {
     "duration": 0.04124,
     "end_time": "2025-07-30T20:12:28.644197",
     "exception": false,
     "start_time": "2025-07-30T20:12:28.602957",
     "status": "completed"
    },
    "tags": []
   },
   "outputs": [
    {
     "name": "stdout",
     "output_type": "stream",
     "text": [
      "/dss/dsshome1/0C/ra93lal2/cma/CMA_Fairness_v2\n"
     ]
    },
    {
     "name": "stderr",
     "output_type": "stream",
     "text": [
      "/dss/dsshome1/0C/ra93lal2/.local/share/virtualenvs/CMA_Fairness_v2-3j10GkSs/lib/python3.10/site-packages/IPython/core/magics/osm.py:393: UserWarning: This is now an optional IPython functionality, using bookmarks requires you to install the `pickleshare` library.\n",
      "  bkms = self.shell.db.get('bookmarks', {})\n",
      "/dss/dsshome1/0C/ra93lal2/.local/share/virtualenvs/CMA_Fairness_v2-3j10GkSs/lib/python3.10/site-packages/IPython/core/magics/osm.py:417: UserWarning: This is now an optional IPython functionality, setting dhist requires you to install the `pickleshare` library.\n",
      "  self.shell.db['dhist'] = compress_dhist(dhist)[-100:]\n"
     ]
    }
   ],
   "source": [
    "%cd ~/cma/CMA_Fairness_v2"
   ]
  },
  {
   "cell_type": "markdown",
   "id": "de2603b9",
   "metadata": {
    "papermill": {
     "duration": 0.019934,
     "end_time": "2025-07-30T20:12:28.685341",
     "exception": false,
     "start_time": "2025-07-30T20:12:28.665407",
     "status": "completed"
    },
    "tags": []
   },
   "source": [
    "The following cell holds the definition of our parameters, these values can be overriden by rendering the with e.g. the following command:\n",
    "\n",
    "papermill -p alpha 0.2 -p ratio 0.3 universe_analysis.ipynb output/test_run.ipynb"
   ]
  },
  {
   "cell_type": "code",
   "execution_count": 2,
   "id": "a80968a0-40bb-4fa9-85ef-2d5eefb01975",
   "metadata": {
    "execution": {
     "iopub.execute_input": "2025-07-30T20:12:28.758573Z",
     "iopub.status.busy": "2025-07-30T20:12:28.758189Z",
     "iopub.status.idle": "2025-07-30T20:12:28.763740Z",
     "shell.execute_reply": "2025-07-30T20:12:28.762732Z"
    },
    "papermill": {
     "duration": 0.063708,
     "end_time": "2025-07-30T20:12:28.768280",
     "exception": false,
     "start_time": "2025-07-30T20:12:28.704572",
     "status": "completed"
    },
    "tags": []
   },
   "outputs": [
    {
     "name": "stdout",
     "output_type": "stream",
     "text": [
      "Current working directory: /dss/dsshome1/0C/ra93lal2/cma/CMA_Fairness_v2\n"
     ]
    }
   ],
   "source": [
    "import os\n",
    "print(\"Current working directory:\", os.getcwd())"
   ]
  },
  {
   "cell_type": "code",
   "execution_count": 3,
   "id": "2dce4c03",
   "metadata": {
    "execution": {
     "iopub.execute_input": "2025-07-30T20:12:28.858765Z",
     "iopub.status.busy": "2025-07-30T20:12:28.858372Z",
     "iopub.status.idle": "2025-07-30T20:12:28.865008Z",
     "shell.execute_reply": "2025-07-30T20:12:28.863954Z"
    },
    "papermill": {
     "duration": 0.047902,
     "end_time": "2025-07-30T20:12:28.868227",
     "exception": false,
     "start_time": "2025-07-30T20:12:28.820325",
     "status": "completed"
    },
    "tags": [
     "parameters"
    ]
   },
   "outputs": [],
   "source": [
    "run_no = 0\n",
    "universe_id = \"test\"\n",
    "universe = {\n",
    "    \"training_size\": \"25k\", # \"25k\", \"5k\", \"1k\"\n",
    "    \"training_year\": \"2014\", # \"2014\", \"2012_14\", \"2010_14\"\n",
    "    \"scale\": \"scale\", # \"scale\", \"do-not-scale\",\n",
    "    #\"stratify_split\": \"target\", # \"none\", \"target\", \"protected-attribute\", \"both\",\n",
    "    \"model\": \"elasticnet\", # \"logreg\", \"penalized_logreg\", \"rf\", \"gbm\", \"elasticnet\"\n",
    "    \"cutoff\": [\"quantile_0.15\", \"quantile_0.30\"],\n",
    "    \"exclude_features\": \"age\", # \"none\", \"nationality\", \"sex\", \"nationality-sex\", \"age\"\n",
    "    \"exclude_subgroups\": \"keep-all\", # \"keep-all\", \"drop-non-german\"\n",
    "    \"eval_fairness_grouping\": [\"majority-minority\", \"nationality-all\"]\n",
    "}\n",
    "\n",
    "output_dir=\"./output\"\n",
    "seed=0"
   ]
  },
  {
   "cell_type": "code",
   "execution_count": 4,
   "id": "36a2beca",
   "metadata": {
    "execution": {
     "iopub.execute_input": "2025-07-30T20:12:28.938780Z",
     "iopub.status.busy": "2025-07-30T20:12:28.938378Z",
     "iopub.status.idle": "2025-07-30T20:12:28.944899Z",
     "shell.execute_reply": "2025-07-30T20:12:28.943877Z"
    },
    "papermill": {
     "duration": 0.04562,
     "end_time": "2025-07-30T20:12:28.949311",
     "exception": false,
     "start_time": "2025-07-30T20:12:28.903691",
     "status": "completed"
    },
    "tags": [
     "injected-parameters"
    ]
   },
   "outputs": [],
   "source": [
    "# Parameters\n",
    "universe_id = \"a42ca654085c200cd39836d3496ff82f\"\n",
    "run_no = \"14\"\n",
    "universe = \"{\\\"cutoff\\\": [\\\"quantile_0.1\\\", \\\"quantile_0.25\\\"], \\\"eval_fairness_grouping\\\": [\\\"majority-minority\\\", \\\"nationality-all\\\"], \\\"exclude_features\\\": \\\"nationality\\\", \\\"exclude_subgroups\\\": \\\"drop-non-german\\\", \\\"model\\\": \\\"gbm\\\", \\\"scale\\\": \\\"scale\\\", \\\"training_size\\\": \\\"25k\\\", \\\"training_year\\\": \\\"2012_14\\\"}\"\n",
    "output_dir = \"output\"\n",
    "seed = \"2023\"\n"
   ]
  },
  {
   "cell_type": "code",
   "execution_count": 5,
   "id": "1650acaf",
   "metadata": {
    "execution": {
     "iopub.execute_input": "2025-07-30T20:12:29.051356Z",
     "iopub.status.busy": "2025-07-30T20:12:29.050851Z",
     "iopub.status.idle": "2025-07-30T20:12:29.055924Z",
     "shell.execute_reply": "2025-07-30T20:12:29.054976Z"
    },
    "papermill": {
     "duration": 0.054445,
     "end_time": "2025-07-30T20:12:29.057781",
     "exception": false,
     "start_time": "2025-07-30T20:12:29.003336",
     "status": "completed"
    },
    "tags": []
   },
   "outputs": [],
   "source": [
    "import json\n",
    "# Parse universe into dict if it is passed as a string\n",
    "if isinstance(universe, str):\n",
    "    universe = json.loads(universe)"
   ]
  },
  {
   "cell_type": "code",
   "execution_count": 6,
   "id": "16620c48",
   "metadata": {
    "execution": {
     "iopub.execute_input": "2025-07-30T20:12:29.102272Z",
     "iopub.status.busy": "2025-07-30T20:12:29.101801Z",
     "iopub.status.idle": "2025-07-30T20:12:29.206975Z",
     "shell.execute_reply": "2025-07-30T20:12:29.206046Z"
    },
    "papermill": {
     "duration": 0.128511,
     "end_time": "2025-07-30T20:12:29.208983",
     "exception": false,
     "start_time": "2025-07-30T20:12:29.080472",
     "status": "completed"
    },
    "tags": []
   },
   "outputs": [],
   "source": [
    "# Auto-reload the custom package\n",
    "%load_ext autoreload\n",
    "%autoreload 1\n",
    "%aimport fairness_multiverse"
   ]
  },
  {
   "cell_type": "code",
   "execution_count": 7,
   "id": "01c5c9f3",
   "metadata": {
    "execution": {
     "iopub.execute_input": "2025-07-30T20:12:29.286552Z",
     "iopub.status.busy": "2025-07-30T20:12:29.286139Z",
     "iopub.status.idle": "2025-07-30T20:12:31.447680Z",
     "shell.execute_reply": "2025-07-30T20:12:31.446924Z"
    },
    "papermill": {
     "duration": 2.212374,
     "end_time": "2025-07-30T20:12:31.449118",
     "exception": false,
     "start_time": "2025-07-30T20:12:29.236744",
     "status": "completed"
    },
    "tags": []
   },
   "outputs": [],
   "source": [
    "from fairness_multiverse.universe import UniverseAnalysis\n",
    "\n",
    "universe_analysis = UniverseAnalysis(\n",
    "    run_no = run_no,\n",
    "    universe_id = universe_id,\n",
    "    universe = universe,\n",
    "    output_dir=output_dir,\n",
    ")"
   ]
  },
  {
   "cell_type": "code",
   "execution_count": 8,
   "id": "106241f5",
   "metadata": {
    "execution": {
     "iopub.execute_input": "2025-07-30T20:12:31.471358Z",
     "iopub.status.busy": "2025-07-30T20:12:31.470697Z",
     "iopub.status.idle": "2025-07-30T20:12:31.476108Z",
     "shell.execute_reply": "2025-07-30T20:12:31.475342Z"
    },
    "papermill": {
     "duration": 0.017394,
     "end_time": "2025-07-30T20:12:31.477364",
     "exception": false,
     "start_time": "2025-07-30T20:12:31.459970",
     "status": "completed"
    },
    "tags": []
   },
   "outputs": [
    {
     "name": "stdout",
     "output_type": "stream",
     "text": [
      "Using Seed: 2023\n"
     ]
    }
   ],
   "source": [
    "import numpy as np\n",
    "parsed_seed = int(seed)\n",
    "np.random.seed(parsed_seed)\n",
    "print(f\"Using Seed: {parsed_seed}\")"
   ]
  },
  {
   "cell_type": "markdown",
   "id": "e0ebdc57",
   "metadata": {
    "papermill": {
     "duration": 0.020861,
     "end_time": "2025-07-30T20:12:31.513057",
     "exception": false,
     "start_time": "2025-07-30T20:12:31.492196",
     "status": "completed"
    },
    "tags": []
   },
   "source": [
    "# Loading Data"
   ]
  },
  {
   "cell_type": "markdown",
   "id": "681925a3",
   "metadata": {
    "papermill": {
     "duration": 0.019104,
     "end_time": "2025-07-30T20:12:31.552329",
     "exception": false,
     "start_time": "2025-07-30T20:12:31.533225",
     "status": "completed"
    },
    "tags": []
   },
   "source": [
    "Load siab_train, siab_test, siab_calib and/or \n",
    "load siab_train_features, siab_train_labels"
   ]
  },
  {
   "cell_type": "code",
   "execution_count": 9,
   "id": "f0496b8a",
   "metadata": {
    "execution": {
     "iopub.execute_input": "2025-07-30T20:12:31.595636Z",
     "iopub.status.busy": "2025-07-30T20:12:31.594987Z",
     "iopub.status.idle": "2025-07-30T20:12:43.401686Z",
     "shell.execute_reply": "2025-07-30T20:12:43.400471Z"
    },
    "papermill": {
     "duration": 11.82974,
     "end_time": "2025-07-30T20:12:43.403559",
     "exception": false,
     "start_time": "2025-07-30T20:12:31.573819",
     "status": "completed"
    },
    "tags": []
   },
   "outputs": [
    {
     "name": "stdout",
     "output_type": "stream",
     "text": [
      "Loading SIAB data from cache: data/siab_cached.csv.gz\n"
     ]
    },
    {
     "name": "stdout",
     "output_type": "stream",
     "text": [
      "(643690, 164)\n"
     ]
    }
   ],
   "source": [
    "from pathlib import Path\n",
    "import pandas as pd\n",
    "\n",
    "# File paths\n",
    "raw_file = Path(\"data/raw/siab.csv\")\n",
    "cache_file = Path(\"data/siab_cached.csv.gz\")\n",
    "\n",
    "# Ensure cache directory exists\n",
    "cache_file.parent.mkdir(parents=True, exist_ok=True)\n",
    "\n",
    "# Load with simple caching\n",
    "if cache_file.exists():\n",
    "    print(f\"Loading SIAB data from cache: {cache_file}\")\n",
    "    siab = pd.read_csv(cache_file, compression='gzip')\n",
    "else:\n",
    "    print(f\"Cache not found. Reading raw SIAB data: {raw_file}\")\n",
    "    siab = pd.read_csv(raw_file)\n",
    "    siab.to_csv(cache_file, index=False, compression='gzip')\n",
    "    print(f\"Cached SIAB data to: {cache_file}\")\n",
    "\n",
    "# Now use `siab` DataFrame as needed\n",
    "print(siab.shape)"
   ]
  },
  {
   "cell_type": "code",
   "execution_count": 10,
   "id": "db0ca512-5f53-4dba-abdb-a2888bca41ba",
   "metadata": {
    "execution": {
     "iopub.execute_input": "2025-07-30T20:12:43.448318Z",
     "iopub.status.busy": "2025-07-30T20:12:43.447804Z",
     "iopub.status.idle": "2025-07-30T20:12:43.453296Z",
     "shell.execute_reply": "2025-07-30T20:12:43.452271Z"
    },
    "papermill": {
     "duration": 0.02829,
     "end_time": "2025-07-30T20:12:43.455156",
     "exception": false,
     "start_time": "2025-07-30T20:12:43.426866",
     "status": "completed"
    },
    "tags": []
   },
   "outputs": [],
   "source": [
    "#siab"
   ]
  },
  {
   "cell_type": "code",
   "execution_count": 11,
   "id": "a0edb063",
   "metadata": {
    "execution": {
     "iopub.execute_input": "2025-07-30T20:12:43.498728Z",
     "iopub.status.busy": "2025-07-30T20:12:43.497819Z",
     "iopub.status.idle": "2025-07-30T20:12:43.502919Z",
     "shell.execute_reply": "2025-07-30T20:12:43.501930Z"
    },
    "papermill": {
     "duration": 0.02865,
     "end_time": "2025-07-30T20:12:43.504919",
     "exception": false,
     "start_time": "2025-07-30T20:12:43.476269",
     "status": "completed"
    },
    "tags": []
   },
   "outputs": [],
   "source": [
    "#import pandas as pd\n",
    "#\n",
    "#X_train = pd.read_csv(\"./data/X_train.csv\")\n",
    "#y_train = pd.read_csv(\"./data/y_train.csv\")"
   ]
  },
  {
   "cell_type": "code",
   "execution_count": 12,
   "id": "63d08085",
   "metadata": {
    "execution": {
     "iopub.execute_input": "2025-07-30T20:12:43.547939Z",
     "iopub.status.busy": "2025-07-30T20:12:43.547077Z",
     "iopub.status.idle": "2025-07-30T20:12:43.552296Z",
     "shell.execute_reply": "2025-07-30T20:12:43.551271Z"
    },
    "papermill": {
     "duration": 0.02779,
     "end_time": "2025-07-30T20:12:43.554017",
     "exception": false,
     "start_time": "2025-07-30T20:12:43.526227",
     "status": "completed"
    },
    "tags": []
   },
   "outputs": [],
   "source": [
    "#X_test = pd.read_csv(\"./data/X_test.csv\")\n",
    "#y_true = pd.read_csv(\"./data/y_test.csv\")"
   ]
  },
  {
   "cell_type": "code",
   "execution_count": 13,
   "id": "98a8d0fa-1d3d-4ed8-bb2c-281470e24add",
   "metadata": {
    "execution": {
     "iopub.execute_input": "2025-07-30T20:12:43.597169Z",
     "iopub.status.busy": "2025-07-30T20:12:43.596616Z",
     "iopub.status.idle": "2025-07-30T20:12:43.601453Z",
     "shell.execute_reply": "2025-07-30T20:12:43.600500Z"
    },
    "papermill": {
     "duration": 0.027696,
     "end_time": "2025-07-30T20:12:43.603086",
     "exception": false,
     "start_time": "2025-07-30T20:12:43.575390",
     "status": "completed"
    },
    "tags": []
   },
   "outputs": [],
   "source": [
    "# Calibration data for conformal\n",
    "#X_calib = pd.read_csv(\"./data/X_calib.csv\")\n",
    "#y_calib = pd.read_csv(\"./data/y_calib.csv\")"
   ]
  },
  {
   "cell_type": "markdown",
   "id": "997051c5-15bd-4b69-9786-c3001a3ce484",
   "metadata": {
    "papermill": {
     "duration": 0.020663,
     "end_time": "2025-07-30T20:12:43.645381",
     "exception": false,
     "start_time": "2025-07-30T20:12:43.624718",
     "status": "completed"
    },
    "tags": []
   },
   "source": [
    "# Splitting Data and Setting Training Data Size"
   ]
  },
  {
   "cell_type": "code",
   "execution_count": 14,
   "id": "e993b61f-042d-41a6-8c81-f55681f86335",
   "metadata": {
    "execution": {
     "iopub.execute_input": "2025-07-30T20:12:43.689632Z",
     "iopub.status.busy": "2025-07-30T20:12:43.688945Z",
     "iopub.status.idle": "2025-07-30T20:12:43.702409Z",
     "shell.execute_reply": "2025-07-30T20:12:43.701334Z"
    },
    "papermill": {
     "duration": 0.037878,
     "end_time": "2025-07-30T20:12:43.704191",
     "exception": false,
     "start_time": "2025-07-30T20:12:43.666313",
     "status": "completed"
    },
    "tags": []
   },
   "outputs": [],
   "source": [
    "def sample_by_year_size(df,\n",
    "                        training_year: str,\n",
    "                        training_size: str,\n",
    "                        random_state: int = 42):\n",
    "    # --- parse training_year into a list of int years ---\n",
    "    if \"_\" in training_year:\n",
    "        start_str, end_str = training_year.split(\"_\", 1)\n",
    "        start = int(start_str)\n",
    "        end   = int(end_str) if len(end_str) == 4 else (int(end_str) + (start // 100)*100)\n",
    "        years = list(range(start, end + 1))\n",
    "    else:\n",
    "        years = [int(training_year)]\n",
    "\n",
    "    df = df[df[\"year\"].isin(years)].reset_index(drop=True)\n",
    "\n",
    "    # --- map training_size to total number of samples ---\n",
    "    total_map = {\"25k\": 25_000, \"5k\": 5_000, \"1k\": 1_000}\n",
    "    if training_size not in total_map:\n",
    "        return df  # e.g. \"all\"\n",
    "\n",
    "    total_samples = total_map[training_size]\n",
    "    n_years       = len(years)\n",
    "    base          = total_samples // n_years\n",
    "    remainder     = total_samples % n_years\n",
    "\n",
    "    # --- build a dict: year -> how many to sample ---\n",
    "    # give +1 to the first `remainder` years in ascending order\n",
    "    quotas = {\n",
    "        year: base + (1 if idx < remainder else 0)\n",
    "        for idx, year in enumerate(sorted(years))\n",
    "    }\n",
    "\n",
    "    # --- sample per‐year according to the quota dict ---\n",
    "    sampled = (\n",
    "        df\n",
    "        .groupby(\"year\", group_keys=False)\n",
    "        .apply(lambda grp: grp.sample(\n",
    "            n=min(len(grp), quotas[grp.name]),\n",
    "            random_state=random_state))\n",
    "        .reset_index(drop=True)\n",
    "    )\n",
    "\n",
    "    return sampled"
   ]
  },
  {
   "cell_type": "code",
   "execution_count": 15,
   "id": "c0ccd338-0e02-41f3-a09d-f56f9266e3fb",
   "metadata": {
    "execution": {
     "iopub.execute_input": "2025-07-30T20:12:43.747868Z",
     "iopub.status.busy": "2025-07-30T20:12:43.747246Z",
     "iopub.status.idle": "2025-07-30T20:12:43.752213Z",
     "shell.execute_reply": "2025-07-30T20:12:43.751188Z"
    },
    "papermill": {
     "duration": 0.027637,
     "end_time": "2025-07-30T20:12:43.753899",
     "exception": false,
     "start_time": "2025-07-30T20:12:43.726262",
     "status": "completed"
    },
    "tags": []
   },
   "outputs": [],
   "source": [
    "#universe[\"training_size\"]"
   ]
  },
  {
   "cell_type": "code",
   "execution_count": 16,
   "id": "ca707fd7-8047-4acd-bfa5-66248fbbf8e6",
   "metadata": {
    "execution": {
     "iopub.execute_input": "2025-07-30T20:12:43.797008Z",
     "iopub.status.busy": "2025-07-30T20:12:43.796131Z",
     "iopub.status.idle": "2025-07-30T20:12:43.801208Z",
     "shell.execute_reply": "2025-07-30T20:12:43.800243Z"
    },
    "papermill": {
     "duration": 0.028133,
     "end_time": "2025-07-30T20:12:43.802959",
     "exception": false,
     "start_time": "2025-07-30T20:12:43.774826",
     "status": "completed"
    },
    "tags": []
   },
   "outputs": [],
   "source": [
    "#universe[\"training_year\"]"
   ]
  },
  {
   "cell_type": "code",
   "execution_count": 17,
   "id": "aea9c6ef-6f46-42c8-85eb-5a62025c1508",
   "metadata": {
    "execution": {
     "iopub.execute_input": "2025-07-30T20:12:43.847272Z",
     "iopub.status.busy": "2025-07-30T20:12:43.846421Z",
     "iopub.status.idle": "2025-07-30T20:12:44.569914Z",
     "shell.execute_reply": "2025-07-30T20:12:44.568991Z"
    },
    "papermill": {
     "duration": 0.747167,
     "end_time": "2025-07-30T20:12:44.571836",
     "exception": false,
     "start_time": "2025-07-30T20:12:43.824669",
     "status": "completed"
    },
    "tags": []
   },
   "outputs": [],
   "source": [
    "siab_train = sample_by_year_size(siab,\n",
    "                               training_year=universe[\"training_year\"],\n",
    "                               training_size=universe[\"training_size\"])"
   ]
  },
  {
   "cell_type": "code",
   "execution_count": 18,
   "id": "8d3afb32-789d-442c-8d5d-9f5aa8dd2eed",
   "metadata": {
    "execution": {
     "iopub.execute_input": "2025-07-30T20:12:44.615961Z",
     "iopub.status.busy": "2025-07-30T20:12:44.615265Z",
     "iopub.status.idle": "2025-07-30T20:12:44.620481Z",
     "shell.execute_reply": "2025-07-30T20:12:44.619351Z"
    },
    "papermill": {
     "duration": 0.029216,
     "end_time": "2025-07-30T20:12:44.622225",
     "exception": false,
     "start_time": "2025-07-30T20:12:44.593009",
     "status": "completed"
    },
    "tags": []
   },
   "outputs": [],
   "source": [
    "#siab_train.shape"
   ]
  },
  {
   "cell_type": "code",
   "execution_count": 19,
   "id": "d582db68-1a4c-47fb-84fc-08518dc1975a",
   "metadata": {
    "execution": {
     "iopub.execute_input": "2025-07-30T20:12:44.667580Z",
     "iopub.status.busy": "2025-07-30T20:12:44.666951Z",
     "iopub.status.idle": "2025-07-30T20:12:44.672127Z",
     "shell.execute_reply": "2025-07-30T20:12:44.671095Z"
    },
    "papermill": {
     "duration": 0.029509,
     "end_time": "2025-07-30T20:12:44.673883",
     "exception": false,
     "start_time": "2025-07-30T20:12:44.644374",
     "status": "completed"
    },
    "tags": []
   },
   "outputs": [],
   "source": [
    "#display(siab_train.groupby(\"year\").size())"
   ]
  },
  {
   "cell_type": "code",
   "execution_count": 20,
   "id": "a561edb4-d032-42cb-8256-22eac1111c64",
   "metadata": {
    "execution": {
     "iopub.execute_input": "2025-07-30T20:12:44.718752Z",
     "iopub.status.busy": "2025-07-30T20:12:44.718083Z",
     "iopub.status.idle": "2025-07-30T20:12:44.964337Z",
     "shell.execute_reply": "2025-07-30T20:12:44.963278Z"
    },
    "papermill": {
     "duration": 0.270689,
     "end_time": "2025-07-30T20:12:44.966351",
     "exception": false,
     "start_time": "2025-07-30T20:12:44.695662",
     "status": "completed"
    },
    "tags": []
   },
   "outputs": [],
   "source": [
    "#siab_train = siab_s[siab_s.year < 2015]\n",
    "siab_calib = siab[siab.year == 2015]\n",
    "siab_test = siab[siab.year == 2016]"
   ]
  },
  {
   "cell_type": "code",
   "execution_count": 21,
   "id": "472de16f-c3db-4916-846b-1f0de9cf1746",
   "metadata": {
    "execution": {
     "iopub.execute_input": "2025-07-30T20:12:45.011951Z",
     "iopub.status.busy": "2025-07-30T20:12:45.011050Z",
     "iopub.status.idle": "2025-07-30T20:12:45.026253Z",
     "shell.execute_reply": "2025-07-30T20:12:45.025027Z"
    },
    "papermill": {
     "duration": 0.03963,
     "end_time": "2025-07-30T20:12:45.027912",
     "exception": false,
     "start_time": "2025-07-30T20:12:44.988282",
     "status": "completed"
    },
    "tags": []
   },
   "outputs": [],
   "source": [
    "X_train = siab_train.iloc[:,4:164]\n",
    "y_train = siab_train.iloc[:, [3]]"
   ]
  },
  {
   "cell_type": "code",
   "execution_count": 22,
   "id": "828c96af-f43a-4ed6-ba47-8ac73a47d56c",
   "metadata": {
    "execution": {
     "iopub.execute_input": "2025-07-30T20:12:45.076741Z",
     "iopub.status.busy": "2025-07-30T20:12:45.075664Z",
     "iopub.status.idle": "2025-07-30T20:12:45.129201Z",
     "shell.execute_reply": "2025-07-30T20:12:45.128218Z"
    },
    "papermill": {
     "duration": 0.079005,
     "end_time": "2025-07-30T20:12:45.131146",
     "exception": false,
     "start_time": "2025-07-30T20:12:45.052141",
     "status": "completed"
    },
    "tags": []
   },
   "outputs": [],
   "source": [
    "X_calib = siab_calib.iloc[:,4:164]\n",
    "y_calib = siab_calib.iloc[:, [3]]"
   ]
  },
  {
   "cell_type": "code",
   "execution_count": 23,
   "id": "c34be9c3-6bd6-476e-acd3-845840e303be",
   "metadata": {
    "execution": {
     "iopub.execute_input": "2025-07-30T20:12:45.176542Z",
     "iopub.status.busy": "2025-07-30T20:12:45.175780Z",
     "iopub.status.idle": "2025-07-30T20:12:45.228016Z",
     "shell.execute_reply": "2025-07-30T20:12:45.226799Z"
    },
    "papermill": {
     "duration": 0.075948,
     "end_time": "2025-07-30T20:12:45.229918",
     "exception": false,
     "start_time": "2025-07-30T20:12:45.153970",
     "status": "completed"
    },
    "tags": []
   },
   "outputs": [],
   "source": [
    "X_test = siab_test.iloc[:,4:164]\n",
    "y_true = siab_test.iloc[:, [3]]"
   ]
  },
  {
   "cell_type": "markdown",
   "id": "9901737e-04df-44f0-9100-f5ad144ed040",
   "metadata": {
    "papermill": {
     "duration": 0.022229,
     "end_time": "2025-07-30T20:12:45.276659",
     "exception": false,
     "start_time": "2025-07-30T20:12:45.254430",
     "status": "completed"
    },
    "tags": []
   },
   "source": [
    "# Splitting Data and Setting Training Data Size OLD VERSION"
   ]
  },
  {
   "cell_type": "code",
   "execution_count": 24,
   "id": "acbc8f7d-8fc8-4e86-8c59-5dcb0f58384b",
   "metadata": {
    "execution": {
     "iopub.execute_input": "2025-07-30T20:12:45.320493Z",
     "iopub.status.busy": "2025-07-30T20:12:45.319773Z",
     "iopub.status.idle": "2025-07-30T20:12:45.323881Z",
     "shell.execute_reply": "2025-07-30T20:12:45.323232Z"
    },
    "papermill": {
     "duration": 0.036688,
     "end_time": "2025-07-30T20:12:45.334383",
     "exception": false,
     "start_time": "2025-07-30T20:12:45.297695",
     "status": "completed"
    },
    "tags": []
   },
   "outputs": [],
   "source": [
    "#def sample_by_year(df, training_size, random_state=42):\n",
    "#    if training_size == \"2014\":\n",
    "#        return df[df[\"year\"] == 2014].reset_index(drop=True)\n",
    "#    \n",
    "#    size_map = {\n",
    "#        \"25k\": 5000,\n",
    "#        \"5k\": 1000,\n",
    "#        \"1k\": 200\n",
    "#    }\n",
    "#\n",
    "#    if training_size not in size_map:\n",
    "#        return df.reset_index(drop=True)  # use all data\n",
    "#\n",
    "#    n_per_year = size_map[training_size]\n",
    "#    grouped = df.groupby(\"year\")\n",
    "#    sampled = grouped.apply(lambda x: x.sample(n=min(n_per_year, len(x)), random_state=random_state))\n",
    "#    return sampled.reset_index(drop=True)"
   ]
  },
  {
   "cell_type": "code",
   "execution_count": 25,
   "id": "6d931f52-beaf-43ff-9e78-9d44a448d54e",
   "metadata": {
    "execution": {
     "iopub.execute_input": "2025-07-30T20:12:45.387444Z",
     "iopub.status.busy": "2025-07-30T20:12:45.386945Z",
     "iopub.status.idle": "2025-07-30T20:12:45.392509Z",
     "shell.execute_reply": "2025-07-30T20:12:45.391473Z"
    },
    "papermill": {
     "duration": 0.029639,
     "end_time": "2025-07-30T20:12:45.394338",
     "exception": false,
     "start_time": "2025-07-30T20:12:45.364699",
     "status": "completed"
    },
    "tags": []
   },
   "outputs": [],
   "source": [
    "#siab_s = sample_by_year(siab, universe[\"training_size\"])"
   ]
  },
  {
   "cell_type": "code",
   "execution_count": 26,
   "id": "5db0a40e-a4e2-4920-be85-b12ae061d70d",
   "metadata": {
    "execution": {
     "iopub.execute_input": "2025-07-30T20:12:45.439592Z",
     "iopub.status.busy": "2025-07-30T20:12:45.438705Z",
     "iopub.status.idle": "2025-07-30T20:12:45.444226Z",
     "shell.execute_reply": "2025-07-30T20:12:45.443196Z"
    },
    "papermill": {
     "duration": 0.029219,
     "end_time": "2025-07-30T20:12:45.445944",
     "exception": false,
     "start_time": "2025-07-30T20:12:45.416725",
     "status": "completed"
    },
    "tags": []
   },
   "outputs": [],
   "source": [
    "#display(siab_s.groupby(\"year\").size())"
   ]
  },
  {
   "cell_type": "code",
   "execution_count": 27,
   "id": "e6c733c5",
   "metadata": {
    "execution": {
     "iopub.execute_input": "2025-07-30T20:12:45.491947Z",
     "iopub.status.busy": "2025-07-30T20:12:45.491413Z",
     "iopub.status.idle": "2025-07-30T20:12:45.588229Z",
     "shell.execute_reply": "2025-07-30T20:12:45.587238Z"
    },
    "papermill": {
     "duration": 0.120894,
     "end_time": "2025-07-30T20:12:45.590239",
     "exception": false,
     "start_time": "2025-07-30T20:12:45.469345",
     "status": "completed"
    },
    "tags": []
   },
   "outputs": [],
   "source": [
    "# Auxiliary data needed downstream in the pipeline\n",
    "\n",
    "org_train = X_train.copy()\n",
    "org_test = X_test.copy()\n",
    "org_calib = X_calib.copy()"
   ]
  },
  {
   "cell_type": "code",
   "execution_count": 28,
   "id": "1466abac-c6da-4492-a62f-4240ae3783af",
   "metadata": {
    "execution": {
     "iopub.execute_input": "2025-07-30T20:12:45.635205Z",
     "iopub.status.busy": "2025-07-30T20:12:45.634504Z",
     "iopub.status.idle": "2025-07-30T20:12:45.640371Z",
     "shell.execute_reply": "2025-07-30T20:12:45.639444Z"
    },
    "papermill": {
     "duration": 0.029695,
     "end_time": "2025-07-30T20:12:45.642079",
     "exception": false,
     "start_time": "2025-07-30T20:12:45.612384",
     "status": "completed"
    },
    "tags": []
   },
   "outputs": [],
   "source": [
    "# put in other script?\n",
    "# Group sizes\n",
    "\n",
    "#def calculate_percentages(df, df_name):\n",
    "#    total_entries = len(df)\n",
    "#\n",
    "#    female_pct = (df['frau1'] == 1).mean() * 100\n",
    "#    non_german_pct = ((df['maxdeutsch1'] == 0) & (df['maxdeutsch.Missing.'] == 0)).mean() * 100\n",
    "#    non_german_male_pct = ((df['frau1'] == 0) & (df['maxdeutsch1'] == 0) & (df['maxdeutsch.Missing.'] == 0)).mean() * 100\n",
    "#    non_german_female_pct = ((df['frau1'] == 1) & (df['maxdeutsch1'] == 0) & (df['maxdeutsch.Missing.'] == 0)).mean() * 100\n",
    "#\n",
    "#    print(f\"--- {df_name} ---\")\n",
    "#    print(f\"Female: {female_pct:.2f}%\")\n",
    "#    print(f\"Non-German: {non_german_pct:.2f}%\")\n",
    "#    print(f\"Non-German Male: {non_german_male_pct:.2f}%\")\n",
    "#    print(f\"Non-German Female: {non_german_female_pct:.2f}%\\n\")\n",
    "#\n",
    "## Calculate for each DataFrame\n",
    "#calculate_percentages(siab_calib, \"siab_calib\")\n",
    "#calculate_percentages(siab_test, \"siab_test\")\n",
    "#calculate_percentages(siab_train, \"siab_train\")"
   ]
  },
  {
   "cell_type": "markdown",
   "id": "0a4a1b33",
   "metadata": {
    "papermill": {
     "duration": 0.021174,
     "end_time": "2025-07-30T20:12:45.686429",
     "exception": false,
     "start_time": "2025-07-30T20:12:45.665255",
     "status": "completed"
    },
    "tags": []
   },
   "source": [
    "# Preprocessing Data"
   ]
  },
  {
   "cell_type": "code",
   "execution_count": 29,
   "id": "ca879031",
   "metadata": {
    "execution": {
     "iopub.execute_input": "2025-07-30T20:12:45.730941Z",
     "iopub.status.busy": "2025-07-30T20:12:45.730264Z",
     "iopub.status.idle": "2025-07-30T20:12:45.736451Z",
     "shell.execute_reply": "2025-07-30T20:12:45.735512Z"
    },
    "papermill": {
     "duration": 0.031151,
     "end_time": "2025-07-30T20:12:45.738460",
     "exception": false,
     "start_time": "2025-07-30T20:12:45.707309",
     "status": "completed"
    },
    "tags": []
   },
   "outputs": [],
   "source": [
    "# EXCLUDE PROTECTED FEATURES\n",
    "# ----------------------\n",
    "# \"exclude_features\": \"none\", # \"nationality\", \"sex\", \"nationality-sex\"\n",
    "\n",
    "excluded_features = universe[\"exclude_features\"].split(\"-\") # split, e.g.: \"nationality-sex\" -> [\"nationality\", \"sex\"]\n",
    "excluded_features_dictionary = {\n",
    "    \"nationality\": [\"maxdeutsch1\", \"maxdeutsch.Missing.\"],\n",
    "    \"sex\": [\"frau1\"],\n",
    "    \"age\": [\"age\"],\n",
    "}\n"
   ]
  },
  {
   "cell_type": "code",
   "execution_count": 30,
   "id": "b745ac60",
   "metadata": {
    "execution": {
     "iopub.execute_input": "2025-07-30T20:12:45.783732Z",
     "iopub.status.busy": "2025-07-30T20:12:45.783234Z",
     "iopub.status.idle": "2025-07-30T20:12:45.789014Z",
     "shell.execute_reply": "2025-07-30T20:12:45.788015Z"
    },
    "papermill": {
     "duration": 0.029974,
     "end_time": "2025-07-30T20:12:45.790757",
     "exception": false,
     "start_time": "2025-07-30T20:12:45.760783",
     "status": "completed"
    },
    "tags": []
   },
   "outputs": [],
   "source": [
    "# Code nice names to column names\n",
    "\n",
    "excluded_features_columns = [\n",
    "    excluded_features_dictionary[f] for f in excluded_features if len(f) > 0 and f != \"none\"\n",
    "]"
   ]
  },
  {
   "cell_type": "code",
   "execution_count": 31,
   "id": "f84f73a2",
   "metadata": {
    "execution": {
     "iopub.execute_input": "2025-07-30T20:12:45.818787Z",
     "iopub.status.busy": "2025-07-30T20:12:45.818422Z",
     "iopub.status.idle": "2025-07-30T20:12:45.823962Z",
     "shell.execute_reply": "2025-07-30T20:12:45.823281Z"
    },
    "papermill": {
     "duration": 0.01863,
     "end_time": "2025-07-30T20:12:45.825274",
     "exception": false,
     "start_time": "2025-07-30T20:12:45.806644",
     "status": "completed"
    },
    "tags": []
   },
   "outputs": [],
   "source": [
    "from utils import flatten_once\n",
    "\n",
    "excluded_features_columns = flatten_once(excluded_features_columns)"
   ]
  },
  {
   "cell_type": "code",
   "execution_count": 32,
   "id": "884dea22",
   "metadata": {
    "execution": {
     "iopub.execute_input": "2025-07-30T20:12:45.849589Z",
     "iopub.status.busy": "2025-07-30T20:12:45.848957Z",
     "iopub.status.idle": "2025-07-30T20:12:45.864209Z",
     "shell.execute_reply": "2025-07-30T20:12:45.863146Z"
    },
    "papermill": {
     "duration": 0.028585,
     "end_time": "2025-07-30T20:12:45.865744",
     "exception": false,
     "start_time": "2025-07-30T20:12:45.837159",
     "status": "completed"
    },
    "tags": []
   },
   "outputs": [
    {
     "name": "stdout",
     "output_type": "stream",
     "text": [
      "Dropping features: ['maxdeutsch1', 'maxdeutsch.Missing.']\n"
     ]
    }
   ],
   "source": [
    "if len(excluded_features_columns) > 0:\n",
    "    print(f\"Dropping features: {excluded_features_columns}\")\n",
    "    X_train.drop(excluded_features_columns, axis=1, inplace=True)"
   ]
  },
  {
   "cell_type": "code",
   "execution_count": 33,
   "id": "95ab8b16",
   "metadata": {
    "execution": {
     "iopub.execute_input": "2025-07-30T20:12:45.912782Z",
     "iopub.status.busy": "2025-07-30T20:12:45.912311Z",
     "iopub.status.idle": "2025-07-30T20:12:45.970741Z",
     "shell.execute_reply": "2025-07-30T20:12:45.969475Z"
    },
    "papermill": {
     "duration": 0.084642,
     "end_time": "2025-07-30T20:12:45.973008",
     "exception": false,
     "start_time": "2025-07-30T20:12:45.888366",
     "status": "completed"
    },
    "tags": []
   },
   "outputs": [
    {
     "name": "stdout",
     "output_type": "stream",
     "text": [
      "Dropping features: ['maxdeutsch1', 'maxdeutsch.Missing.']\n"
     ]
    }
   ],
   "source": [
    "if len(excluded_features_columns) > 0:\n",
    "    print(f\"Dropping features: {excluded_features_columns}\")\n",
    "    X_test.drop(excluded_features_columns, axis=1, inplace=True)"
   ]
  },
  {
   "cell_type": "code",
   "execution_count": 34,
   "id": "1853aaf5-fb9f-46cb-a2b5-8ea4ae2237e4",
   "metadata": {
    "execution": {
     "iopub.execute_input": "2025-07-30T20:12:46.034391Z",
     "iopub.status.busy": "2025-07-30T20:12:46.033448Z",
     "iopub.status.idle": "2025-07-30T20:12:46.086516Z",
     "shell.execute_reply": "2025-07-30T20:12:46.085499Z"
    },
    "papermill": {
     "duration": 0.086468,
     "end_time": "2025-07-30T20:12:46.088659",
     "exception": false,
     "start_time": "2025-07-30T20:12:46.002191",
     "status": "completed"
    },
    "tags": []
   },
   "outputs": [
    {
     "name": "stdout",
     "output_type": "stream",
     "text": [
      "Dropping features: ['maxdeutsch1', 'maxdeutsch.Missing.']\n"
     ]
    }
   ],
   "source": [
    "if len(excluded_features_columns) > 0:\n",
    "    print(f\"Dropping features: {excluded_features_columns}\")\n",
    "    X_calib.drop(excluded_features_columns, axis=1, inplace=True)"
   ]
  },
  {
   "cell_type": "code",
   "execution_count": 35,
   "id": "6727d079-03e5-481e-9d38-292a90b7a0a8",
   "metadata": {
    "execution": {
     "iopub.execute_input": "2025-07-30T20:12:46.132316Z",
     "iopub.status.busy": "2025-07-30T20:12:46.131394Z",
     "iopub.status.idle": "2025-07-30T20:12:46.136492Z",
     "shell.execute_reply": "2025-07-30T20:12:46.135565Z"
    },
    "papermill": {
     "duration": 0.028198,
     "end_time": "2025-07-30T20:12:46.138028",
     "exception": false,
     "start_time": "2025-07-30T20:12:46.109830",
     "status": "completed"
    },
    "tags": []
   },
   "outputs": [],
   "source": [
    "# SPLIT & STRATIFY DATA\n",
    "# ----------------------"
   ]
  },
  {
   "cell_type": "code",
   "execution_count": 36,
   "id": "76c4dc6d",
   "metadata": {
    "execution": {
     "iopub.execute_input": "2025-07-30T20:12:46.183578Z",
     "iopub.status.busy": "2025-07-30T20:12:46.182849Z",
     "iopub.status.idle": "2025-07-30T20:12:46.188986Z",
     "shell.execute_reply": "2025-07-30T20:12:46.187944Z"
    },
    "papermill": {
     "duration": 0.031001,
     "end_time": "2025-07-30T20:12:46.191123",
     "exception": false,
     "start_time": "2025-07-30T20:12:46.160122",
     "status": "completed"
    },
    "tags": []
   },
   "outputs": [],
   "source": [
    "# EXCLUDE CERTAIN SUBGROUPS\n",
    "# ----------------------\n",
    "\n",
    "mode = universe.get(\"exclude_subgroups\", \"keep-all\") \n",
    "# Fetches the exclude_subgroups setting from the universe dict.\n",
    "# Defaults to \"keep-all\" if the key is missing."
   ]
  },
  {
   "cell_type": "code",
   "execution_count": 37,
   "id": "21994072",
   "metadata": {
    "execution": {
     "iopub.execute_input": "2025-07-30T20:12:46.242580Z",
     "iopub.status.busy": "2025-07-30T20:12:46.242115Z",
     "iopub.status.idle": "2025-07-30T20:12:46.249375Z",
     "shell.execute_reply": "2025-07-30T20:12:46.248352Z"
    },
    "papermill": {
     "duration": 0.033727,
     "end_time": "2025-07-30T20:12:46.251012",
     "exception": false,
     "start_time": "2025-07-30T20:12:46.217285",
     "status": "completed"
    },
    "tags": []
   },
   "outputs": [],
   "source": [
    "if mode == \"keep-all\":\n",
    "    keep_mask = pd.Series(True, index=org_train.index)\n",
    "\n",
    "# org_train contains the original feature columns from features_org (in Simson)\n",
    "# features_org contains unprocessed features, for me X_train at beginning ???\n",
    "# For keep-all, creates a boolean Series (keep_mask) of all True, so no rows are removed.\n",
    "\n",
    "elif mode == \"drop-non-german\":\n",
    "    keep_mask = org_train[\"maxdeutsch1\"] == 1 # ??? what about missing values?\n",
    "\n",
    "else:\n",
    "    raise ValueError(f\"Unsupported mode for exclude_subgroups: {mode}\")\n"
   ]
  },
  {
   "cell_type": "code",
   "execution_count": 38,
   "id": "71651440",
   "metadata": {
    "execution": {
     "iopub.execute_input": "2025-07-30T20:12:46.301669Z",
     "iopub.status.busy": "2025-07-30T20:12:46.300654Z",
     "iopub.status.idle": "2025-07-30T20:12:46.308152Z",
     "shell.execute_reply": "2025-07-30T20:12:46.306982Z"
    },
    "papermill": {
     "duration": 0.034643,
     "end_time": "2025-07-30T20:12:46.309965",
     "exception": false,
     "start_time": "2025-07-30T20:12:46.275322",
     "status": "completed"
    },
    "tags": []
   },
   "outputs": [
    {
     "name": "stdout",
     "output_type": "stream",
     "text": [
      "Dropping 3481 rows (13.92%) where mode='drop-non-german'\n"
     ]
    }
   ],
   "source": [
    "n_drop = (~keep_mask).sum() # Calculates how many rows are set to be dropped\n",
    "if n_drop > 0:\n",
    "    pct = n_drop / len(keep_mask) * 100\n",
    "    print(f\"Dropping {n_drop} rows ({pct:.2f}%) where mode='{mode}'\")"
   ]
  },
  {
   "cell_type": "code",
   "execution_count": 39,
   "id": "5fb8eee5",
   "metadata": {
    "execution": {
     "iopub.execute_input": "2025-07-30T20:12:46.359170Z",
     "iopub.status.busy": "2025-07-30T20:12:46.358407Z",
     "iopub.status.idle": "2025-07-30T20:12:46.373813Z",
     "shell.execute_reply": "2025-07-30T20:12:46.372718Z"
    },
    "papermill": {
     "duration": 0.041947,
     "end_time": "2025-07-30T20:12:46.375855",
     "exception": false,
     "start_time": "2025-07-30T20:12:46.333908",
     "status": "completed"
    },
    "tags": []
   },
   "outputs": [],
   "source": [
    "X_train = X_train[keep_mask]"
   ]
  },
  {
   "cell_type": "code",
   "execution_count": 40,
   "id": "b202bb3a",
   "metadata": {
    "execution": {
     "iopub.execute_input": "2025-07-30T20:12:46.423746Z",
     "iopub.status.busy": "2025-07-30T20:12:46.423047Z",
     "iopub.status.idle": "2025-07-30T20:12:46.430274Z",
     "shell.execute_reply": "2025-07-30T20:12:46.429229Z"
    },
    "papermill": {
     "duration": 0.032857,
     "end_time": "2025-07-30T20:12:46.432055",
     "exception": false,
     "start_time": "2025-07-30T20:12:46.399198",
     "status": "completed"
    },
    "tags": []
   },
   "outputs": [],
   "source": [
    "y_train = y_train[keep_mask]"
   ]
  },
  {
   "cell_type": "markdown",
   "id": "493e2ac3",
   "metadata": {
    "papermill": {
     "duration": 0.02351,
     "end_time": "2025-07-30T20:12:46.479476",
     "exception": false,
     "start_time": "2025-07-30T20:12:46.455966",
     "status": "completed"
    },
    "tags": []
   },
   "source": [
    "# Model Training"
   ]
  },
  {
   "cell_type": "code",
   "execution_count": 41,
   "id": "679e1268",
   "metadata": {
    "execution": {
     "iopub.execute_input": "2025-07-30T20:12:46.527116Z",
     "iopub.status.busy": "2025-07-30T20:12:46.526475Z",
     "iopub.status.idle": "2025-07-30T20:12:46.636403Z",
     "shell.execute_reply": "2025-07-30T20:12:46.635445Z"
    },
    "papermill": {
     "duration": 0.136902,
     "end_time": "2025-07-30T20:12:46.638308",
     "exception": false,
     "start_time": "2025-07-30T20:12:46.501406",
     "status": "completed"
    },
    "tags": []
   },
   "outputs": [],
   "source": [
    "from sklearn.linear_model import LogisticRegression\n",
    "from sklearn.ensemble import GradientBoostingClassifier, RandomForestClassifier\n",
    "\n",
    "if (universe[\"model\"] == \"logreg\"):\n",
    "    model = LogisticRegression() #penalty=\"none\") #, solver=\"newton-cg\", max_iter=1) # include random_state=19 ?\n",
    "elif (universe[\"model\"] == \"penalized_logreg\"):\n",
    "    model = LogisticRegression(penalty=\"l2\", C=1.0) #, solver=\"newton-cg\", max_iter=1)\n",
    "elif (universe[\"model\"] == \"rf\"):\n",
    "    model = RandomForestClassifier(n_estimators=100, n_jobs=-1)\n",
    "elif (universe[\"model\"] == \"gbm\"):\n",
    "    model = GradientBoostingClassifier()\n",
    "elif (universe[\"model\"] == \"elasticnet\"):\n",
    "    model = LogisticRegression(penalty = 'elasticnet', solver = 'saga', l1_ratio = 0.5, max_iter=5000) # which solver to use?\n",
    "else:\n",
    "    raise \"Unsupported universe.model\""
   ]
  },
  {
   "cell_type": "code",
   "execution_count": 42,
   "id": "0cc8f744",
   "metadata": {
    "execution": {
     "iopub.execute_input": "2025-07-30T20:12:46.677905Z",
     "iopub.status.busy": "2025-07-30T20:12:46.677541Z",
     "iopub.status.idle": "2025-07-30T20:12:46.682652Z",
     "shell.execute_reply": "2025-07-30T20:12:46.681829Z"
    },
    "papermill": {
     "duration": 0.021519,
     "end_time": "2025-07-30T20:12:46.684016",
     "exception": false,
     "start_time": "2025-07-30T20:12:46.662497",
     "status": "completed"
    },
    "tags": []
   },
   "outputs": [],
   "source": [
    "import numpy as np\n",
    "from sklearn.pipeline import Pipeline\n",
    "from sklearn.preprocessing import StandardScaler\n",
    "\n",
    "model = Pipeline([\n",
    "    #(\"continuous_processor\", continuous_processor),\n",
    "    #(\"categorical_preprocessor\", categorical_preprocessor),\n",
    "    (\"scale\", StandardScaler() if universe[\"scale\"] == \"scale\" else None), \n",
    "    (\"model\", model),\n",
    "])"
   ]
  },
  {
   "cell_type": "code",
   "execution_count": 43,
   "id": "9442c04d",
   "metadata": {
    "execution": {
     "iopub.execute_input": "2025-07-30T20:12:46.710455Z",
     "iopub.status.busy": "2025-07-30T20:12:46.709951Z",
     "iopub.status.idle": "2025-07-30T20:13:11.269497Z",
     "shell.execute_reply": "2025-07-30T20:13:11.268422Z"
    },
    "papermill": {
     "duration": 24.581352,
     "end_time": "2025-07-30T20:13:11.278601",
     "exception": false,
     "start_time": "2025-07-30T20:12:46.697249",
     "status": "completed"
    },
    "tags": []
   },
   "outputs": [
    {
     "data": {
      "text/html": [
       "<style>#sk-container-id-1 {color: black;background-color: white;}#sk-container-id-1 pre{padding: 0;}#sk-container-id-1 div.sk-toggleable {background-color: white;}#sk-container-id-1 label.sk-toggleable__label {cursor: pointer;display: block;width: 100%;margin-bottom: 0;padding: 0.3em;box-sizing: border-box;text-align: center;}#sk-container-id-1 label.sk-toggleable__label-arrow:before {content: \"▸\";float: left;margin-right: 0.25em;color: #696969;}#sk-container-id-1 label.sk-toggleable__label-arrow:hover:before {color: black;}#sk-container-id-1 div.sk-estimator:hover label.sk-toggleable__label-arrow:before {color: black;}#sk-container-id-1 div.sk-toggleable__content {max-height: 0;max-width: 0;overflow: hidden;text-align: left;background-color: #f0f8ff;}#sk-container-id-1 div.sk-toggleable__content pre {margin: 0.2em;color: black;border-radius: 0.25em;background-color: #f0f8ff;}#sk-container-id-1 input.sk-toggleable__control:checked~div.sk-toggleable__content {max-height: 200px;max-width: 100%;overflow: auto;}#sk-container-id-1 input.sk-toggleable__control:checked~label.sk-toggleable__label-arrow:before {content: \"▾\";}#sk-container-id-1 div.sk-estimator input.sk-toggleable__control:checked~label.sk-toggleable__label {background-color: #d4ebff;}#sk-container-id-1 div.sk-label input.sk-toggleable__control:checked~label.sk-toggleable__label {background-color: #d4ebff;}#sk-container-id-1 input.sk-hidden--visually {border: 0;clip: rect(1px 1px 1px 1px);clip: rect(1px, 1px, 1px, 1px);height: 1px;margin: -1px;overflow: hidden;padding: 0;position: absolute;width: 1px;}#sk-container-id-1 div.sk-estimator {font-family: monospace;background-color: #f0f8ff;border: 1px dotted black;border-radius: 0.25em;box-sizing: border-box;margin-bottom: 0.5em;}#sk-container-id-1 div.sk-estimator:hover {background-color: #d4ebff;}#sk-container-id-1 div.sk-parallel-item::after {content: \"\";width: 100%;border-bottom: 1px solid gray;flex-grow: 1;}#sk-container-id-1 div.sk-label:hover label.sk-toggleable__label {background-color: #d4ebff;}#sk-container-id-1 div.sk-serial::before {content: \"\";position: absolute;border-left: 1px solid gray;box-sizing: border-box;top: 0;bottom: 0;left: 50%;z-index: 0;}#sk-container-id-1 div.sk-serial {display: flex;flex-direction: column;align-items: center;background-color: white;padding-right: 0.2em;padding-left: 0.2em;position: relative;}#sk-container-id-1 div.sk-item {position: relative;z-index: 1;}#sk-container-id-1 div.sk-parallel {display: flex;align-items: stretch;justify-content: center;background-color: white;position: relative;}#sk-container-id-1 div.sk-item::before, #sk-container-id-1 div.sk-parallel-item::before {content: \"\";position: absolute;border-left: 1px solid gray;box-sizing: border-box;top: 0;bottom: 0;left: 50%;z-index: -1;}#sk-container-id-1 div.sk-parallel-item {display: flex;flex-direction: column;z-index: 1;position: relative;background-color: white;}#sk-container-id-1 div.sk-parallel-item:first-child::after {align-self: flex-end;width: 50%;}#sk-container-id-1 div.sk-parallel-item:last-child::after {align-self: flex-start;width: 50%;}#sk-container-id-1 div.sk-parallel-item:only-child::after {width: 0;}#sk-container-id-1 div.sk-dashed-wrapped {border: 1px dashed gray;margin: 0 0.4em 0.5em 0.4em;box-sizing: border-box;padding-bottom: 0.4em;background-color: white;}#sk-container-id-1 div.sk-label label {font-family: monospace;font-weight: bold;display: inline-block;line-height: 1.2em;}#sk-container-id-1 div.sk-label-container {text-align: center;}#sk-container-id-1 div.sk-container {/* jupyter's `normalize.less` sets `[hidden] { display: none; }` but bootstrap.min.css set `[hidden] { display: none !important; }` so we also need the `!important` here to be able to override the default hidden behavior on the sphinx rendered scikit-learn.org. See: https://github.com/scikit-learn/scikit-learn/issues/21755 */display: inline-block !important;position: relative;}#sk-container-id-1 div.sk-text-repr-fallback {display: none;}</style><div id=\"sk-container-id-1\" class=\"sk-top-container\"><div class=\"sk-text-repr-fallback\"><pre>Pipeline(steps=[(&#x27;scale&#x27;, StandardScaler()),\n",
       "                (&#x27;model&#x27;, GradientBoostingClassifier())])</pre><b>In a Jupyter environment, please rerun this cell to show the HTML representation or trust the notebook. <br />On GitHub, the HTML representation is unable to render, please try loading this page with nbviewer.org.</b></div><div class=\"sk-container\" hidden><div class=\"sk-item sk-dashed-wrapped\"><div class=\"sk-label-container\"><div class=\"sk-label sk-toggleable\"><input class=\"sk-toggleable__control sk-hidden--visually\" id=\"sk-estimator-id-1\" type=\"checkbox\" ><label for=\"sk-estimator-id-1\" class=\"sk-toggleable__label sk-toggleable__label-arrow\">Pipeline</label><div class=\"sk-toggleable__content\"><pre>Pipeline(steps=[(&#x27;scale&#x27;, StandardScaler()),\n",
       "                (&#x27;model&#x27;, GradientBoostingClassifier())])</pre></div></div></div><div class=\"sk-serial\"><div class=\"sk-item\"><div class=\"sk-estimator sk-toggleable\"><input class=\"sk-toggleable__control sk-hidden--visually\" id=\"sk-estimator-id-2\" type=\"checkbox\" ><label for=\"sk-estimator-id-2\" class=\"sk-toggleable__label sk-toggleable__label-arrow\">StandardScaler</label><div class=\"sk-toggleable__content\"><pre>StandardScaler()</pre></div></div></div><div class=\"sk-item\"><div class=\"sk-estimator sk-toggleable\"><input class=\"sk-toggleable__control sk-hidden--visually\" id=\"sk-estimator-id-3\" type=\"checkbox\" ><label for=\"sk-estimator-id-3\" class=\"sk-toggleable__label sk-toggleable__label-arrow\">GradientBoostingClassifier</label><div class=\"sk-toggleable__content\"><pre>GradientBoostingClassifier()</pre></div></div></div></div></div></div></div>"
      ],
      "text/plain": [
       "Pipeline(steps=[('scale', StandardScaler()),\n",
       "                ('model', GradientBoostingClassifier())])"
      ]
     },
     "execution_count": 43,
     "metadata": {},
     "output_type": "execute_result"
    }
   ],
   "source": [
    "model.fit(X_train, y_train.values.ravel())"
   ]
  },
  {
   "cell_type": "code",
   "execution_count": 44,
   "id": "af59f8c0",
   "metadata": {
    "execution": {
     "iopub.execute_input": "2025-07-30T20:13:11.345483Z",
     "iopub.status.busy": "2025-07-30T20:13:11.344678Z",
     "iopub.status.idle": "2025-07-30T20:13:11.351391Z",
     "shell.execute_reply": "2025-07-30T20:13:11.350302Z"
    },
    "papermill": {
     "duration": 0.034509,
     "end_time": "2025-07-30T20:13:11.353469",
     "exception": false,
     "start_time": "2025-07-30T20:13:11.318960",
     "status": "completed"
    },
    "tags": []
   },
   "outputs": [],
   "source": [
    "from fairness_multiverse.universe import predict_w_threshold"
   ]
  },
  {
   "cell_type": "code",
   "execution_count": 45,
   "id": "a7cf2e16",
   "metadata": {
    "execution": {
     "iopub.execute_input": "2025-07-30T20:13:11.405098Z",
     "iopub.status.busy": "2025-07-30T20:13:11.404355Z",
     "iopub.status.idle": "2025-07-30T20:13:12.287281Z",
     "shell.execute_reply": "2025-07-30T20:13:12.286305Z"
    },
    "papermill": {
     "duration": 0.910246,
     "end_time": "2025-07-30T20:13:12.288958",
     "exception": false,
     "start_time": "2025-07-30T20:13:11.378712",
     "status": "completed"
    },
    "tags": []
   },
   "outputs": [
    {
     "data": {
      "text/plain": [
       "0.8690335525582432"
      ]
     },
     "execution_count": 45,
     "metadata": {},
     "output_type": "execute_result"
    }
   ],
   "source": [
    "probs_test = model.predict_proba(X_test)\n",
    "\n",
    "'''\n",
    "Below code returns a boolean array (or binary 0/1 array depending on how it’s used) where each element \n",
    "is True if the probability of class 1 is greater than or equal to the threshold, and False otherwise.\n",
    "'''\n",
    "y_pred_default = predict_w_threshold(probs_test, 0.5)\n",
    "\n",
    "from sklearn.metrics import accuracy_score\n",
    "\n",
    "# Naive prediction\n",
    "accuracy_score(y_true = y_true, y_pred = y_pred_default)"
   ]
  },
  {
   "cell_type": "code",
   "execution_count": 46,
   "id": "081964c3",
   "metadata": {
    "execution": {
     "iopub.execute_input": "2025-07-30T20:13:12.341866Z",
     "iopub.status.busy": "2025-07-30T20:13:12.341365Z",
     "iopub.status.idle": "2025-07-30T20:13:13.192114Z",
     "shell.execute_reply": "2025-07-30T20:13:13.191194Z"
    },
    "papermill": {
     "duration": 0.878197,
     "end_time": "2025-07-30T20:13:13.193806",
     "exception": false,
     "start_time": "2025-07-30T20:13:12.315609",
     "status": "completed"
    },
    "tags": []
   },
   "outputs": [
    {
     "data": {
      "text/plain": [
       "array([0, 0, 0, ..., 0, 0, 0])"
      ]
     },
     "execution_count": 46,
     "metadata": {},
     "output_type": "execute_result"
    }
   ],
   "source": [
    "model.predict(X_test)"
   ]
  },
  {
   "cell_type": "markdown",
   "id": "56c9705b",
   "metadata": {
    "papermill": {
     "duration": 0.022127,
     "end_time": "2025-07-30T20:13:13.239106",
     "exception": false,
     "start_time": "2025-07-30T20:13:13.216979",
     "status": "completed"
    },
    "tags": []
   },
   "source": [
    "# Conformal Prediction"
   ]
  },
  {
   "cell_type": "code",
   "execution_count": 47,
   "id": "160ec6ff",
   "metadata": {
    "execution": {
     "iopub.execute_input": "2025-07-30T20:13:13.290255Z",
     "iopub.status.busy": "2025-07-30T20:13:13.289787Z",
     "iopub.status.idle": "2025-07-30T20:13:13.294999Z",
     "shell.execute_reply": "2025-07-30T20:13:13.294033Z"
    },
    "papermill": {
     "duration": 0.031496,
     "end_time": "2025-07-30T20:13:13.296788",
     "exception": false,
     "start_time": "2025-07-30T20:13:13.265292",
     "status": "completed"
    },
    "tags": []
   },
   "outputs": [],
   "source": [
    "# Miscoverage level for conformal prediction (10% allowed error rate => 90% target coverage)\n",
    "alpha = 0.1"
   ]
  },
  {
   "cell_type": "code",
   "execution_count": 48,
   "id": "eadf4555-3dd3-440e-8e35-f82a4ad9f855",
   "metadata": {
    "execution": {
     "iopub.execute_input": "2025-07-30T20:13:13.347636Z",
     "iopub.status.busy": "2025-07-30T20:13:13.347165Z",
     "iopub.status.idle": "2025-07-30T20:13:14.089643Z",
     "shell.execute_reply": "2025-07-30T20:13:14.088717Z"
    },
    "papermill": {
     "duration": 0.768892,
     "end_time": "2025-07-30T20:13:14.091638",
     "exception": false,
     "start_time": "2025-07-30T20:13:13.322746",
     "status": "completed"
    },
    "tags": []
   },
   "outputs": [],
   "source": [
    "probs_calib = model.predict_proba(X_calib)"
   ]
  },
  {
   "cell_type": "code",
   "execution_count": 49,
   "id": "2ed93547-6d5d-4983-9b36-1ecb300da49a",
   "metadata": {
    "execution": {
     "iopub.execute_input": "2025-07-30T20:13:14.155179Z",
     "iopub.status.busy": "2025-07-30T20:13:14.154506Z",
     "iopub.status.idle": "2025-07-30T20:13:14.160597Z",
     "shell.execute_reply": "2025-07-30T20:13:14.159418Z"
    },
    "papermill": {
     "duration": 0.033788,
     "end_time": "2025-07-30T20:13:14.162376",
     "exception": false,
     "start_time": "2025-07-30T20:13:14.128588",
     "status": "completed"
    },
    "tags": []
   },
   "outputs": [],
   "source": [
    "y_calib = y_calib.values.ravel().astype(int)"
   ]
  },
  {
   "cell_type": "code",
   "execution_count": 50,
   "id": "65d1320d-f588-4b38-9072-62af1ae97f7d",
   "metadata": {
    "execution": {
     "iopub.execute_input": "2025-07-30T20:13:14.217986Z",
     "iopub.status.busy": "2025-07-30T20:13:14.217120Z",
     "iopub.status.idle": "2025-07-30T20:13:14.225267Z",
     "shell.execute_reply": "2025-07-30T20:13:14.224193Z"
    },
    "papermill": {
     "duration": 0.037464,
     "end_time": "2025-07-30T20:13:14.227090",
     "exception": false,
     "start_time": "2025-07-30T20:13:14.189626",
     "status": "completed"
    },
    "tags": []
   },
   "outputs": [],
   "source": [
    "from fairness_multiverse.conformal import compute_nc_scores\n",
    "\n",
    "# Compute nonconformity scores on calibration set (1 - probability of true class)\n",
    "nc_scores = compute_nc_scores(probs_calib, y_calib)"
   ]
  },
  {
   "cell_type": "code",
   "execution_count": 51,
   "id": "df3b8ca3-53b7-43d5-9667-7c85da7aeda2",
   "metadata": {
    "execution": {
     "iopub.execute_input": "2025-07-30T20:13:14.282493Z",
     "iopub.status.busy": "2025-07-30T20:13:14.281769Z",
     "iopub.status.idle": "2025-07-30T20:13:14.289220Z",
     "shell.execute_reply": "2025-07-30T20:13:14.288076Z"
    },
    "papermill": {
     "duration": 0.037726,
     "end_time": "2025-07-30T20:13:14.291117",
     "exception": false,
     "start_time": "2025-07-30T20:13:14.253391",
     "status": "completed"
    },
    "tags": []
   },
   "outputs": [],
   "source": [
    "from fairness_multiverse.conformal import find_threshold\n",
    "\n",
    "# Find conformal threshold q_hat for the given alpha (split conformal method)\n",
    "q_hat = find_threshold(nc_scores, alpha)"
   ]
  },
  {
   "cell_type": "code",
   "execution_count": 52,
   "id": "4d29e6c1-0ef6-4aa4-b8fe-4fe79b0d033a",
   "metadata": {
    "execution": {
     "iopub.execute_input": "2025-07-30T20:13:14.346941Z",
     "iopub.status.busy": "2025-07-30T20:13:14.346410Z",
     "iopub.status.idle": "2025-07-30T20:13:14.354028Z",
     "shell.execute_reply": "2025-07-30T20:13:14.352934Z"
    },
    "papermill": {
     "duration": 0.037571,
     "end_time": "2025-07-30T20:13:14.355892",
     "exception": false,
     "start_time": "2025-07-30T20:13:14.318321",
     "status": "completed"
    },
    "tags": []
   },
   "outputs": [
    {
     "data": {
      "text/plain": [
       "0.6574239469295966"
      ]
     },
     "execution_count": 52,
     "metadata": {},
     "output_type": "execute_result"
    }
   ],
   "source": [
    "q_hat"
   ]
  },
  {
   "cell_type": "code",
   "execution_count": 53,
   "id": "92460794-cdac-4be2-ba28-f28c0515a6fb",
   "metadata": {
    "execution": {
     "iopub.execute_input": "2025-07-30T20:13:14.408519Z",
     "iopub.status.busy": "2025-07-30T20:13:14.407836Z",
     "iopub.status.idle": "2025-07-30T20:13:15.578510Z",
     "shell.execute_reply": "2025-07-30T20:13:15.577767Z"
    },
    "papermill": {
     "duration": 1.197854,
     "end_time": "2025-07-30T20:13:15.579881",
     "exception": false,
     "start_time": "2025-07-30T20:13:14.382027",
     "status": "completed"
    },
    "tags": []
   },
   "outputs": [],
   "source": [
    "from fairness_multiverse.conformal import predict_conformal_sets\n",
    "\n",
    "# Generate prediction sets for each test example\n",
    "pred_sets = predict_conformal_sets(model, X_test, q_hat)"
   ]
  },
  {
   "cell_type": "code",
   "execution_count": 54,
   "id": "d90c9a65-e6db-4f5d-80cd-e68fb7e46829",
   "metadata": {
    "execution": {
     "iopub.execute_input": "2025-07-30T20:13:15.608647Z",
     "iopub.status.busy": "2025-07-30T20:13:15.608193Z",
     "iopub.status.idle": "2025-07-30T20:13:15.613065Z",
     "shell.execute_reply": "2025-07-30T20:13:15.612260Z"
    },
    "papermill": {
     "duration": 0.021652,
     "end_time": "2025-07-30T20:13:15.614492",
     "exception": false,
     "start_time": "2025-07-30T20:13:15.592840",
     "status": "completed"
    },
    "tags": []
   },
   "outputs": [],
   "source": [
    "y_true = y_true.squeeze()"
   ]
  },
  {
   "cell_type": "code",
   "execution_count": 55,
   "id": "3a58a54a-1e68-46b9-927a-df01f18aebc8",
   "metadata": {
    "execution": {
     "iopub.execute_input": "2025-07-30T20:13:15.671339Z",
     "iopub.status.busy": "2025-07-30T20:13:15.670657Z",
     "iopub.status.idle": "2025-07-30T20:13:16.362847Z",
     "shell.execute_reply": "2025-07-30T20:13:16.361789Z"
    },
    "papermill": {
     "duration": 0.708168,
     "end_time": "2025-07-30T20:13:16.364837",
     "exception": false,
     "start_time": "2025-07-30T20:13:15.656669",
     "status": "completed"
    },
    "tags": []
   },
   "outputs": [],
   "source": [
    "from fairness_multiverse.conformal import evaluate_sets\n",
    "\n",
    "# Evaluate coverage and average set size on test data\n",
    "metrics = evaluate_sets(pred_sets, y_true)"
   ]
  },
  {
   "cell_type": "markdown",
   "id": "2b569c12-9aaa-4c88-98c9-bbcd0cf3ebb8",
   "metadata": {
    "papermill": {
     "duration": 0.024764,
     "end_time": "2025-07-30T20:13:16.415649",
     "exception": false,
     "start_time": "2025-07-30T20:13:16.390885",
     "status": "completed"
    },
    "tags": []
   },
   "source": [
    "# CP Metrics"
   ]
  },
  {
   "cell_type": "code",
   "execution_count": 56,
   "id": "5ce0a5cb-201f-45a0-ade5-94c7f0bd6095",
   "metadata": {
    "execution": {
     "iopub.execute_input": "2025-07-30T20:13:16.467151Z",
     "iopub.status.busy": "2025-07-30T20:13:16.466713Z",
     "iopub.status.idle": "2025-07-30T20:13:16.474099Z",
     "shell.execute_reply": "2025-07-30T20:13:16.473035Z"
    },
    "papermill": {
     "duration": 0.03446,
     "end_time": "2025-07-30T20:13:16.475819",
     "exception": false,
     "start_time": "2025-07-30T20:13:16.441359",
     "status": "completed"
    },
    "tags": []
   },
   "outputs": [
    {
     "data": {
      "text/plain": [
       "{'coverage': 0.9115148812841378, 'avg_size': 1.1158287816296957}"
      ]
     },
     "execution_count": 56,
     "metadata": {},
     "output_type": "execute_result"
    }
   ],
   "source": [
    "metrics"
   ]
  },
  {
   "cell_type": "code",
   "execution_count": 57,
   "id": "9b9a838d-31c9-430b-ae14-12baee460d17",
   "metadata": {
    "execution": {
     "iopub.execute_input": "2025-07-30T20:13:16.528811Z",
     "iopub.status.busy": "2025-07-30T20:13:16.528319Z",
     "iopub.status.idle": "2025-07-30T20:13:16.534993Z",
     "shell.execute_reply": "2025-07-30T20:13:16.533950Z"
    },
    "papermill": {
     "duration": 0.034158,
     "end_time": "2025-07-30T20:13:16.536718",
     "exception": false,
     "start_time": "2025-07-30T20:13:16.502560",
     "status": "completed"
    },
    "tags": []
   },
   "outputs": [],
   "source": [
    "example_universe = universe.copy()\n",
    "universe_training_year = example_universe.get(\"training_year\")\n",
    "universe_training_size = example_universe.get(\"training_size\")\n",
    "universe_scale = example_universe.get(\"scale\")\n",
    "universe_model = example_universe.get(\"model\")\n",
    "universe_exclude_features = example_universe.get(\"exclude_features\")\n",
    "universe_exclude_subgroups = example_universe.get(\"exclude_subgroups\")"
   ]
  },
  {
   "cell_type": "code",
   "execution_count": 58,
   "id": "f4b6a8ac-9dc0-4245-8a91-5b3b5999c4f9",
   "metadata": {
    "execution": {
     "iopub.execute_input": "2025-07-30T20:13:16.591086Z",
     "iopub.status.busy": "2025-07-30T20:13:16.590433Z",
     "iopub.status.idle": "2025-07-30T20:13:16.597224Z",
     "shell.execute_reply": "2025-07-30T20:13:16.596071Z"
    },
    "papermill": {
     "duration": 0.034781,
     "end_time": "2025-07-30T20:13:16.599072",
     "exception": false,
     "start_time": "2025-07-30T20:13:16.564291",
     "status": "completed"
    },
    "tags": []
   },
   "outputs": [],
   "source": [
    "cp_metrics_dict = {\n",
    "    \"universe_id\": [universe_id],\n",
    "    \"universe_training_year\": [universe_training_year],\n",
    "    \"universe_training_size\": [universe_training_size],\n",
    "    \"universe_scale\": [universe_scale],\n",
    "    \"universe_model\": [universe_model],\n",
    "    \"universe_exclude_features\": [universe_exclude_features],\n",
    "    \"universe_exclude_subgroups\": [universe_exclude_subgroups],\n",
    "    \"q_hat\": [q_hat],\n",
    "    \"coverage\": [metrics[\"coverage\"]],\n",
    "    \"avg_size\": [metrics[\"avg_size\"]],\n",
    "}"
   ]
  },
  {
   "cell_type": "code",
   "execution_count": 59,
   "id": "908acbb1-0371-4915-85ca-3fa520d2efe2",
   "metadata": {
    "execution": {
     "iopub.execute_input": "2025-07-30T20:13:16.653235Z",
     "iopub.status.busy": "2025-07-30T20:13:16.652727Z",
     "iopub.status.idle": "2025-07-30T20:13:16.661042Z",
     "shell.execute_reply": "2025-07-30T20:13:16.659974Z"
    },
    "papermill": {
     "duration": 0.036558,
     "end_time": "2025-07-30T20:13:16.662648",
     "exception": false,
     "start_time": "2025-07-30T20:13:16.626090",
     "status": "completed"
    },
    "tags": []
   },
   "outputs": [
    {
     "data": {
      "text/plain": [
       "{'universe_id': ['a42ca654085c200cd39836d3496ff82f'],\n",
       " 'universe_training_year': ['2012_14'],\n",
       " 'universe_training_size': ['25k'],\n",
       " 'universe_scale': ['scale'],\n",
       " 'universe_model': ['gbm'],\n",
       " 'universe_exclude_features': ['nationality'],\n",
       " 'universe_exclude_subgroups': ['drop-non-german'],\n",
       " 'q_hat': [0.6574239469295966],\n",
       " 'coverage': [0.9115148812841378],\n",
       " 'avg_size': [1.1158287816296957]}"
      ]
     },
     "execution_count": 59,
     "metadata": {},
     "output_type": "execute_result"
    }
   ],
   "source": [
    "cp_metrics_dict"
   ]
  },
  {
   "cell_type": "code",
   "execution_count": 60,
   "id": "33007efc-14e9-4ec6-97ac-56a455c82265",
   "metadata": {
    "execution": {
     "iopub.execute_input": "2025-07-30T20:13:16.718271Z",
     "iopub.status.busy": "2025-07-30T20:13:16.717061Z",
     "iopub.status.idle": "2025-07-30T20:13:16.724307Z",
     "shell.execute_reply": "2025-07-30T20:13:16.723307Z"
    },
    "papermill": {
     "duration": 0.039023,
     "end_time": "2025-07-30T20:13:16.729244",
     "exception": false,
     "start_time": "2025-07-30T20:13:16.690221",
     "status": "completed"
    },
    "tags": []
   },
   "outputs": [],
   "source": [
    "cp_metrics_df = pd.DataFrame(cp_metrics_dict)"
   ]
  },
  {
   "cell_type": "code",
   "execution_count": 61,
   "id": "db12611b-57b2-4910-b9d0-355adfd6e7bf",
   "metadata": {
    "execution": {
     "iopub.execute_input": "2025-07-30T20:13:16.816477Z",
     "iopub.status.busy": "2025-07-30T20:13:16.815405Z",
     "iopub.status.idle": "2025-07-30T20:13:16.834947Z",
     "shell.execute_reply": "2025-07-30T20:13:16.833896Z"
    },
    "papermill": {
     "duration": 0.08019,
     "end_time": "2025-07-30T20:13:16.836829",
     "exception": false,
     "start_time": "2025-07-30T20:13:16.756639",
     "status": "completed"
    },
    "tags": []
   },
   "outputs": [
    {
     "data": {
      "text/html": [
       "<div>\n",
       "<style scoped>\n",
       "    .dataframe tbody tr th:only-of-type {\n",
       "        vertical-align: middle;\n",
       "    }\n",
       "\n",
       "    .dataframe tbody tr th {\n",
       "        vertical-align: top;\n",
       "    }\n",
       "\n",
       "    .dataframe thead th {\n",
       "        text-align: right;\n",
       "    }\n",
       "</style>\n",
       "<table border=\"1\" class=\"dataframe\">\n",
       "  <thead>\n",
       "    <tr style=\"text-align: right;\">\n",
       "      <th></th>\n",
       "      <th>universe_id</th>\n",
       "      <th>universe_training_year</th>\n",
       "      <th>universe_training_size</th>\n",
       "      <th>universe_scale</th>\n",
       "      <th>universe_model</th>\n",
       "      <th>universe_exclude_features</th>\n",
       "      <th>universe_exclude_subgroups</th>\n",
       "      <th>q_hat</th>\n",
       "      <th>coverage</th>\n",
       "      <th>avg_size</th>\n",
       "    </tr>\n",
       "  </thead>\n",
       "  <tbody>\n",
       "    <tr>\n",
       "      <th>0</th>\n",
       "      <td>a42ca654085c200cd39836d3496ff82f</td>\n",
       "      <td>2012_14</td>\n",
       "      <td>25k</td>\n",
       "      <td>scale</td>\n",
       "      <td>gbm</td>\n",
       "      <td>nationality</td>\n",
       "      <td>drop-non-german</td>\n",
       "      <td>0.657424</td>\n",
       "      <td>0.911515</td>\n",
       "      <td>1.115829</td>\n",
       "    </tr>\n",
       "  </tbody>\n",
       "</table>\n",
       "</div>"
      ],
      "text/plain": [
       "                        universe_id universe_training_year  \\\n",
       "0  a42ca654085c200cd39836d3496ff82f                2012_14   \n",
       "\n",
       "  universe_training_size universe_scale universe_model  \\\n",
       "0                    25k          scale            gbm   \n",
       "\n",
       "  universe_exclude_features universe_exclude_subgroups     q_hat  coverage  \\\n",
       "0               nationality            drop-non-german  0.657424  0.911515   \n",
       "\n",
       "   avg_size  \n",
       "0  1.115829  "
      ]
     },
     "execution_count": 61,
     "metadata": {},
     "output_type": "execute_result"
    }
   ],
   "source": [
    "cp_metrics_df"
   ]
  },
  {
   "cell_type": "code",
   "execution_count": 62,
   "id": "b7fbde55-a0a1-47e4-9af6-fe4a17fa8c61",
   "metadata": {
    "execution": {
     "iopub.execute_input": "2025-07-30T20:13:16.892671Z",
     "iopub.status.busy": "2025-07-30T20:13:16.891986Z",
     "iopub.status.idle": "2025-07-30T20:13:16.897701Z",
     "shell.execute_reply": "2025-07-30T20:13:16.896641Z"
    },
    "papermill": {
     "duration": 0.035742,
     "end_time": "2025-07-30T20:13:16.899433",
     "exception": false,
     "start_time": "2025-07-30T20:13:16.863691",
     "status": "completed"
    },
    "tags": []
   },
   "outputs": [],
   "source": [
    "# Conditional Coverage & looking at subgroups"
   ]
  },
  {
   "cell_type": "code",
   "execution_count": 63,
   "id": "027ae886-68dd-4141-96c7-805a5450e1ef",
   "metadata": {
    "execution": {
     "iopub.execute_input": "2025-07-30T20:13:16.954604Z",
     "iopub.status.busy": "2025-07-30T20:13:16.953890Z",
     "iopub.status.idle": "2025-07-30T20:13:17.230084Z",
     "shell.execute_reply": "2025-07-30T20:13:17.229130Z"
    },
    "papermill": {
     "duration": 0.305343,
     "end_time": "2025-07-30T20:13:17.232085",
     "exception": false,
     "start_time": "2025-07-30T20:13:16.926742",
     "status": "completed"
    },
    "tags": []
   },
   "outputs": [],
   "source": [
    "from fairness_multiverse.conformal import build_cp_groups\n",
    "\n",
    "cp_groups_df = build_cp_groups(pred_sets, y_true, X_test.index, org_test)\n",
    "#needs universe_id and setting"
   ]
  },
  {
   "cell_type": "code",
   "execution_count": 64,
   "id": "01d5802c-663a-4d1f-9d69-e036faaffbf7",
   "metadata": {
    "execution": {
     "iopub.execute_input": "2025-07-30T20:13:17.287190Z",
     "iopub.status.busy": "2025-07-30T20:13:17.286531Z",
     "iopub.status.idle": "2025-07-30T20:13:17.291711Z",
     "shell.execute_reply": "2025-07-30T20:13:17.290594Z"
    },
    "papermill": {
     "duration": 0.035943,
     "end_time": "2025-07-30T20:13:17.293982",
     "exception": false,
     "start_time": "2025-07-30T20:13:17.258039",
     "status": "completed"
    },
    "tags": []
   },
   "outputs": [],
   "source": [
    "#delete\n",
    "#cp_groups_df"
   ]
  },
  {
   "cell_type": "code",
   "execution_count": 65,
   "id": "fa424af1-d1eb-443d-b717-2d279ada8408",
   "metadata": {
    "execution": {
     "iopub.execute_input": "2025-07-30T20:13:17.347612Z",
     "iopub.status.busy": "2025-07-30T20:13:17.347042Z",
     "iopub.status.idle": "2025-07-30T20:13:17.352363Z",
     "shell.execute_reply": "2025-07-30T20:13:17.351333Z"
    },
    "papermill": {
     "duration": 0.033634,
     "end_time": "2025-07-30T20:13:17.354469",
     "exception": false,
     "start_time": "2025-07-30T20:13:17.320835",
     "status": "completed"
    },
    "tags": []
   },
   "outputs": [],
   "source": [
    "#delete\n",
    "#percentage = (cp_groups_df['nongerman_female'] == 1).mean() * 100\n",
    "#print(percentage)\n"
   ]
  },
  {
   "cell_type": "code",
   "execution_count": 66,
   "id": "6cbdab96-b2b2-45af-ad54-d0516db2e28d",
   "metadata": {
    "execution": {
     "iopub.execute_input": "2025-07-30T20:13:17.407663Z",
     "iopub.status.busy": "2025-07-30T20:13:17.407215Z",
     "iopub.status.idle": "2025-07-30T20:13:19.076553Z",
     "shell.execute_reply": "2025-07-30T20:13:19.075442Z"
    },
    "papermill": {
     "duration": 1.697764,
     "end_time": "2025-07-30T20:13:19.078546",
     "exception": false,
     "start_time": "2025-07-30T20:13:17.380782",
     "status": "completed"
    },
    "tags": []
   },
   "outputs": [],
   "source": [
    "# Define covered = 1 if true_label is in the predicted set\n",
    "cp_groups_df['covered'] = cp_groups_df.apply(\n",
    "    lambda r: int(r['true_label'] in r['pred_set']),\n",
    "    axis=1\n",
    ")"
   ]
  },
  {
   "cell_type": "code",
   "execution_count": 67,
   "id": "338ff529-1a6b-4b87-a931-8e4788d52aad",
   "metadata": {
    "execution": {
     "iopub.execute_input": "2025-07-30T20:13:19.137904Z",
     "iopub.status.busy": "2025-07-30T20:13:19.137028Z",
     "iopub.status.idle": "2025-07-30T20:13:19.142135Z",
     "shell.execute_reply": "2025-07-30T20:13:19.141141Z"
    },
    "papermill": {
     "duration": 0.033637,
     "end_time": "2025-07-30T20:13:19.143737",
     "exception": false,
     "start_time": "2025-07-30T20:13:19.110100",
     "status": "completed"
    },
    "tags": []
   },
   "outputs": [],
   "source": [
    "#cp_groups_df"
   ]
  },
  {
   "cell_type": "code",
   "execution_count": 68,
   "id": "90032e27-66df-4540-9169-4e89cfbaa758",
   "metadata": {
    "execution": {
     "iopub.execute_input": "2025-07-30T20:13:19.199195Z",
     "iopub.status.busy": "2025-07-30T20:13:19.198437Z",
     "iopub.status.idle": "2025-07-30T20:13:19.210341Z",
     "shell.execute_reply": "2025-07-30T20:13:19.209378Z"
    },
    "papermill": {
     "duration": 0.040341,
     "end_time": "2025-07-30T20:13:19.212001",
     "exception": false,
     "start_time": "2025-07-30T20:13:19.171660",
     "status": "completed"
    },
    "tags": []
   },
   "outputs": [],
   "source": [
    "subgroups = ['frau1','nongerman','nongerman_male','nongerman_female']\n",
    "\n",
    "# Conditional coverage for subgroup==1\n",
    "cond_coverage = {\n",
    "    g: cp_groups_df.loc[cp_groups_df[g]==1, 'covered'].mean()\n",
    "    for g in subgroups\n",
    "}"
   ]
  },
  {
   "cell_type": "code",
   "execution_count": 69,
   "id": "1e348fb1-b9c3-45bc-ba23-f016827a7e0d",
   "metadata": {
    "execution": {
     "iopub.execute_input": "2025-07-30T20:13:19.266948Z",
     "iopub.status.busy": "2025-07-30T20:13:19.266466Z",
     "iopub.status.idle": "2025-07-30T20:13:19.273674Z",
     "shell.execute_reply": "2025-07-30T20:13:19.272694Z"
    },
    "papermill": {
     "duration": 0.035637,
     "end_time": "2025-07-30T20:13:19.275302",
     "exception": false,
     "start_time": "2025-07-30T20:13:19.239665",
     "status": "completed"
    },
    "tags": []
   },
   "outputs": [
    {
     "data": {
      "text/plain": [
       "{'frau1': 0.9127106078986387,\n",
       " 'nongerman': 0.9078762701397856,\n",
       " 'nongerman_male': 0.924705034675313,\n",
       " 'nongerman_female': 0.8800298062593145}"
      ]
     },
     "execution_count": 69,
     "metadata": {},
     "output_type": "execute_result"
    }
   ],
   "source": [
    "cond_coverage"
   ]
  },
  {
   "cell_type": "code",
   "execution_count": 70,
   "id": "f5093324-c3dd-4d63-bc4c-8d945e5c8bbb",
   "metadata": {
    "execution": {
     "iopub.execute_input": "2025-07-30T20:13:19.329912Z",
     "iopub.status.busy": "2025-07-30T20:13:19.329248Z",
     "iopub.status.idle": "2025-07-30T20:13:19.336622Z",
     "shell.execute_reply": "2025-07-30T20:13:19.335585Z"
    },
    "papermill": {
     "duration": 0.035916,
     "end_time": "2025-07-30T20:13:19.338280",
     "exception": false,
     "start_time": "2025-07-30T20:13:19.302364",
     "status": "completed"
    },
    "tags": []
   },
   "outputs": [],
   "source": [
    "for subgroup, cov in cond_coverage.items():\n",
    "    cp_metrics_df[f\"cov_{subgroup}\"] = cov"
   ]
  },
  {
   "cell_type": "code",
   "execution_count": 71,
   "id": "6e872e10-dbe5-49e8-b554-5030c98ff75d",
   "metadata": {
    "execution": {
     "iopub.execute_input": "2025-07-30T20:13:19.393869Z",
     "iopub.status.busy": "2025-07-30T20:13:19.393374Z",
     "iopub.status.idle": "2025-07-30T20:13:19.413607Z",
     "shell.execute_reply": "2025-07-30T20:13:19.412508Z"
    },
    "papermill": {
     "duration": 0.048756,
     "end_time": "2025-07-30T20:13:19.415294",
     "exception": false,
     "start_time": "2025-07-30T20:13:19.366538",
     "status": "completed"
    },
    "tags": []
   },
   "outputs": [
    {
     "data": {
      "text/html": [
       "<div>\n",
       "<style scoped>\n",
       "    .dataframe tbody tr th:only-of-type {\n",
       "        vertical-align: middle;\n",
       "    }\n",
       "\n",
       "    .dataframe tbody tr th {\n",
       "        vertical-align: top;\n",
       "    }\n",
       "\n",
       "    .dataframe thead th {\n",
       "        text-align: right;\n",
       "    }\n",
       "</style>\n",
       "<table border=\"1\" class=\"dataframe\">\n",
       "  <thead>\n",
       "    <tr style=\"text-align: right;\">\n",
       "      <th></th>\n",
       "      <th>universe_id</th>\n",
       "      <th>universe_training_year</th>\n",
       "      <th>universe_training_size</th>\n",
       "      <th>universe_scale</th>\n",
       "      <th>universe_model</th>\n",
       "      <th>universe_exclude_features</th>\n",
       "      <th>universe_exclude_subgroups</th>\n",
       "      <th>q_hat</th>\n",
       "      <th>coverage</th>\n",
       "      <th>avg_size</th>\n",
       "      <th>cov_frau1</th>\n",
       "      <th>cov_nongerman</th>\n",
       "      <th>cov_nongerman_male</th>\n",
       "      <th>cov_nongerman_female</th>\n",
       "    </tr>\n",
       "  </thead>\n",
       "  <tbody>\n",
       "    <tr>\n",
       "      <th>0</th>\n",
       "      <td>a42ca654085c200cd39836d3496ff82f</td>\n",
       "      <td>2012_14</td>\n",
       "      <td>25k</td>\n",
       "      <td>scale</td>\n",
       "      <td>gbm</td>\n",
       "      <td>nationality</td>\n",
       "      <td>drop-non-german</td>\n",
       "      <td>0.657424</td>\n",
       "      <td>0.911515</td>\n",
       "      <td>1.115829</td>\n",
       "      <td>0.912711</td>\n",
       "      <td>0.907876</td>\n",
       "      <td>0.924705</td>\n",
       "      <td>0.88003</td>\n",
       "    </tr>\n",
       "  </tbody>\n",
       "</table>\n",
       "</div>"
      ],
      "text/plain": [
       "                        universe_id universe_training_year  \\\n",
       "0  a42ca654085c200cd39836d3496ff82f                2012_14   \n",
       "\n",
       "  universe_training_size universe_scale universe_model  \\\n",
       "0                    25k          scale            gbm   \n",
       "\n",
       "  universe_exclude_features universe_exclude_subgroups     q_hat  coverage  \\\n",
       "0               nationality            drop-non-german  0.657424  0.911515   \n",
       "\n",
       "   avg_size  cov_frau1  cov_nongerman  cov_nongerman_male  \\\n",
       "0  1.115829   0.912711       0.907876            0.924705   \n",
       "\n",
       "   cov_nongerman_female  \n",
       "0               0.88003  "
      ]
     },
     "execution_count": 71,
     "metadata": {},
     "output_type": "execute_result"
    }
   ],
   "source": [
    "cp_metrics_df"
   ]
  },
  {
   "cell_type": "markdown",
   "id": "33774451",
   "metadata": {
    "papermill": {
     "duration": 0.026303,
     "end_time": "2025-07-30T20:13:19.469973",
     "exception": false,
     "start_time": "2025-07-30T20:13:19.443670",
     "status": "completed"
    },
    "tags": []
   },
   "source": [
    "# (Fairness) Metrics"
   ]
  },
  {
   "cell_type": "code",
   "execution_count": 72,
   "id": "debc5d62",
   "metadata": {
    "execution": {
     "iopub.execute_input": "2025-07-30T20:13:19.523464Z",
     "iopub.status.busy": "2025-07-30T20:13:19.522958Z",
     "iopub.status.idle": "2025-07-30T20:13:19.545331Z",
     "shell.execute_reply": "2025-07-30T20:13:19.544374Z"
    },
    "papermill": {
     "duration": 0.051688,
     "end_time": "2025-07-30T20:13:19.547262",
     "exception": false,
     "start_time": "2025-07-30T20:13:19.495574",
     "status": "completed"
    },
    "tags": []
   },
   "outputs": [],
   "source": [
    "# do I need to include maxdeutsch1.missing?\n",
    "\n",
    "import numpy as np\n",
    "\n",
    "colname_to_bin = \"maxdeutsch1\"\n",
    "majority_value = org_train[colname_to_bin].mode()[0]\n",
    "\n",
    "org_test[\"majmin\"] = np.where(org_test[colname_to_bin] == majority_value, \"majority\", \"minority\")"
   ]
  },
  {
   "cell_type": "code",
   "execution_count": 73,
   "id": "06a50de5",
   "metadata": {
    "execution": {
     "iopub.execute_input": "2025-07-30T20:13:19.602329Z",
     "iopub.status.busy": "2025-07-30T20:13:19.601670Z",
     "iopub.status.idle": "2025-07-30T20:13:22.452820Z",
     "shell.execute_reply": "2025-07-30T20:13:22.451525Z"
    },
    "papermill": {
     "duration": 2.880374,
     "end_time": "2025-07-30T20:13:22.454728",
     "exception": false,
     "start_time": "2025-07-30T20:13:19.574354",
     "status": "completed"
    },
    "tags": []
   },
   "outputs": [],
   "source": [
    "example_universe = universe.copy()\n",
    "example_universe[\"cutoff\"] = example_universe[\"cutoff\"][0]\n",
    "example_universe[\"eval_fairness_grouping\"] = example_universe[\"eval_fairness_grouping\"][0]\n",
    "fairness_dict, metric_frame = universe_analysis.compute_metrics(\n",
    "    example_universe,\n",
    "    y_pred_prob=probs_test,\n",
    "    y_test=y_true,\n",
    "    org_test=org_test,\n",
    ")"
   ]
  },
  {
   "cell_type": "markdown",
   "id": "f95d4e02",
   "metadata": {
    "papermill": {
     "duration": 0.027328,
     "end_time": "2025-07-30T20:13:22.512109",
     "exception": false,
     "start_time": "2025-07-30T20:13:22.484781",
     "status": "completed"
    },
    "tags": []
   },
   "source": [
    "# Overall"
   ]
  },
  {
   "cell_type": "markdown",
   "id": "bdee4871",
   "metadata": {
    "papermill": {
     "duration": 0.026995,
     "end_time": "2025-07-30T20:13:22.565679",
     "exception": false,
     "start_time": "2025-07-30T20:13:22.538684",
     "status": "completed"
    },
    "tags": []
   },
   "source": [
    "Fairness\n",
    "Main fairness target: Equalized Odds. Seems to be a better fit than equal opportunity, since we're not only interested in Y = 1. Seems to be a better fit than demographic parity, since we also care about accuracy, not just equal distribution of preds.\n",
    "\n",
    "Pick column for computation of fairness metrics\n",
    "\n",
    "Performance\n",
    "Overall performance measures, most interesting in relation to the measures split by group below"
   ]
  },
  {
   "cell_type": "code",
   "execution_count": 74,
   "id": "c4e067c6",
   "metadata": {
    "execution": {
     "iopub.execute_input": "2025-07-30T20:13:22.622086Z",
     "iopub.status.busy": "2025-07-30T20:13:22.621480Z",
     "iopub.status.idle": "2025-07-30T20:13:22.632160Z",
     "shell.execute_reply": "2025-07-30T20:13:22.630625Z"
    },
    "papermill": {
     "duration": 0.04055,
     "end_time": "2025-07-30T20:13:22.633815",
     "exception": false,
     "start_time": "2025-07-30T20:13:22.593265",
     "status": "completed"
    },
    "tags": []
   },
   "outputs": [
    {
     "data": {
      "text/plain": [
       "accuracy                   0.225070\n",
       "balanced accuracy          0.550181\n",
       "f1                         0.246382\n",
       "precision                  0.140750\n",
       "false positive rate        0.887126\n",
       "false negative rate        0.012513\n",
       "selection rate             0.900000\n",
       "count                  89710.000000\n",
       "dtype: float64"
      ]
     },
     "execution_count": 74,
     "metadata": {},
     "output_type": "execute_result"
    }
   ],
   "source": [
    "metric_frame.overall"
   ]
  },
  {
   "cell_type": "markdown",
   "id": "e968fe9d",
   "metadata": {
    "papermill": {
     "duration": 0.027051,
     "end_time": "2025-07-30T20:13:22.689935",
     "exception": false,
     "start_time": "2025-07-30T20:13:22.662884",
     "status": "completed"
    },
    "tags": []
   },
   "source": [
    "By Group"
   ]
  },
  {
   "cell_type": "code",
   "execution_count": 75,
   "id": "ec325bce",
   "metadata": {
    "execution": {
     "iopub.execute_input": "2025-07-30T20:13:22.745579Z",
     "iopub.status.busy": "2025-07-30T20:13:22.745063Z",
     "iopub.status.idle": "2025-07-30T20:13:22.761638Z",
     "shell.execute_reply": "2025-07-30T20:13:22.760682Z"
    },
    "papermill": {
     "duration": 0.046588,
     "end_time": "2025-07-30T20:13:22.763420",
     "exception": false,
     "start_time": "2025-07-30T20:13:22.716832",
     "status": "completed"
    },
    "tags": []
   },
   "outputs": [
    {
     "data": {
      "text/html": [
       "<div>\n",
       "<style scoped>\n",
       "    .dataframe tbody tr th:only-of-type {\n",
       "        vertical-align: middle;\n",
       "    }\n",
       "\n",
       "    .dataframe tbody tr th {\n",
       "        vertical-align: top;\n",
       "    }\n",
       "\n",
       "    .dataframe thead th {\n",
       "        text-align: right;\n",
       "    }\n",
       "</style>\n",
       "<table border=\"1\" class=\"dataframe\">\n",
       "  <thead>\n",
       "    <tr style=\"text-align: right;\">\n",
       "      <th></th>\n",
       "      <th>accuracy</th>\n",
       "      <th>balanced accuracy</th>\n",
       "      <th>f1</th>\n",
       "      <th>precision</th>\n",
       "      <th>false positive rate</th>\n",
       "      <th>false negative rate</th>\n",
       "      <th>selection rate</th>\n",
       "      <th>count</th>\n",
       "    </tr>\n",
       "    <tr>\n",
       "      <th>majmin</th>\n",
       "      <th></th>\n",
       "      <th></th>\n",
       "      <th></th>\n",
       "      <th></th>\n",
       "      <th></th>\n",
       "      <th></th>\n",
       "      <th></th>\n",
       "      <th></th>\n",
       "    </tr>\n",
       "  </thead>\n",
       "  <tbody>\n",
       "    <tr>\n",
       "      <th>majority</th>\n",
       "      <td>0.244499</td>\n",
       "      <td>0.558984</td>\n",
       "      <td>0.256537</td>\n",
       "      <td>0.147441</td>\n",
       "      <td>0.868466</td>\n",
       "      <td>0.013567</td>\n",
       "      <td>0.884054</td>\n",
       "      <td>69170.0</td>\n",
       "    </tr>\n",
       "    <tr>\n",
       "      <th>minority</th>\n",
       "      <td>0.159640</td>\n",
       "      <td>0.521393</td>\n",
       "      <td>0.213873</td>\n",
       "      <td>0.119863</td>\n",
       "      <td>0.948767</td>\n",
       "      <td>0.008446</td>\n",
       "      <td>0.953700</td>\n",
       "      <td>20540.0</td>\n",
       "    </tr>\n",
       "  </tbody>\n",
       "</table>\n",
       "</div>"
      ],
      "text/plain": [
       "          accuracy  balanced accuracy        f1  precision  \\\n",
       "majmin                                                       \n",
       "majority  0.244499           0.558984  0.256537   0.147441   \n",
       "minority  0.159640           0.521393  0.213873   0.119863   \n",
       "\n",
       "          false positive rate  false negative rate  selection rate    count  \n",
       "majmin                                                                       \n",
       "majority             0.868466             0.013567        0.884054  69170.0  \n",
       "minority             0.948767             0.008446        0.953700  20540.0  "
      ]
     },
     "execution_count": 75,
     "metadata": {},
     "output_type": "execute_result"
    }
   ],
   "source": [
    "metric_frame.by_group"
   ]
  },
  {
   "cell_type": "code",
   "execution_count": 76,
   "id": "a9ddbe63",
   "metadata": {
    "execution": {
     "iopub.execute_input": "2025-07-30T20:13:22.820922Z",
     "iopub.status.busy": "2025-07-30T20:13:22.820126Z",
     "iopub.status.idle": "2025-07-30T20:13:25.242936Z",
     "shell.execute_reply": "2025-07-30T20:13:25.242010Z"
    },
    "papermill": {
     "duration": 2.453217,
     "end_time": "2025-07-30T20:13:25.244825",
     "exception": false,
     "start_time": "2025-07-30T20:13:22.791608",
     "status": "completed"
    },
    "tags": []
   },
   "outputs": [
    {
     "data": {
      "text/plain": [
       "array([[<Axes: title={'center': 'accuracy'}, xlabel='majmin'>,\n",
       "        <Axes: title={'center': 'balanced accuracy'}, xlabel='majmin'>,\n",
       "        <Axes: title={'center': 'f1'}, xlabel='majmin'>],\n",
       "       [<Axes: title={'center': 'precision'}, xlabel='majmin'>,\n",
       "        <Axes: title={'center': 'false positive rate'}, xlabel='majmin'>,\n",
       "        <Axes: title={'center': 'false negative rate'}, xlabel='majmin'>],\n",
       "       [<Axes: title={'center': 'selection rate'}, xlabel='majmin'>,\n",
       "        <Axes: title={'center': 'count'}, xlabel='majmin'>,\n",
       "        <Axes: xlabel='majmin'>]], dtype=object)"
      ]
     },
     "execution_count": 76,
     "metadata": {},
     "output_type": "execute_result"
    },
    {
     "data": {
      "image/png": "[encoded data removed]",
      "text/plain": [
       "<Figure size 1200x800 with 9 Axes>"
      ]
     },
     "metadata": {},
     "output_type": "display_data"
    }
   ],
   "source": [
    "# In a graphic\n",
    "metric_frame.by_group.plot.bar(\n",
    "    subplots=True,\n",
    "    layout=[3, 3],\n",
    "    legend=False,\n",
    "    figsize=[12, 8],\n",
    "    title=\"Show all metrics\",\n",
    ")"
   ]
  },
  {
   "cell_type": "markdown",
   "id": "f57a0bac",
   "metadata": {
    "papermill": {
     "duration": 0.028815,
     "end_time": "2025-07-30T20:13:25.304585",
     "exception": false,
     "start_time": "2025-07-30T20:13:25.275770",
     "status": "completed"
    },
    "tags": []
   },
   "source": [
    "# Final Output"
   ]
  },
  {
   "cell_type": "code",
   "execution_count": 77,
   "id": "96d280a3",
   "metadata": {
    "execution": {
     "iopub.execute_input": "2025-07-30T20:13:25.365509Z",
     "iopub.status.busy": "2025-07-30T20:13:25.364761Z",
     "iopub.status.idle": "2025-07-30T20:13:25.373158Z",
     "shell.execute_reply": "2025-07-30T20:13:25.372207Z"
    },
    "papermill": {
     "duration": 0.040963,
     "end_time": "2025-07-30T20:13:25.374685",
     "exception": false,
     "start_time": "2025-07-30T20:13:25.333722",
     "status": "completed"
    },
    "tags": []
   },
   "outputs": [
    {
     "data": {
      "text/plain": [
       "4"
      ]
     },
     "execution_count": 77,
     "metadata": {},
     "output_type": "execute_result"
    }
   ],
   "source": [
    "sub_universes = universe_analysis.generate_sub_universes()\n",
    "len(sub_universes)"
   ]
  },
  {
   "cell_type": "code",
   "execution_count": 78,
   "id": "92adf7ba",
   "metadata": {
    "execution": {
     "iopub.execute_input": "2025-07-30T20:13:25.438040Z",
     "iopub.status.busy": "2025-07-30T20:13:25.437358Z",
     "iopub.status.idle": "2025-07-30T20:13:25.467173Z",
     "shell.execute_reply": "2025-07-30T20:13:25.466022Z"
    },
    "papermill": {
     "duration": 0.063694,
     "end_time": "2025-07-30T20:13:25.468975",
     "exception": false,
     "start_time": "2025-07-30T20:13:25.405281",
     "status": "completed"
    },
    "tags": []
   },
   "outputs": [],
   "source": [
    "def filter_sub_universe_data(sub_universe, org_test):\n",
    "    # Keep all rows — no filtering\n",
    "    keep_rows_mask = np.ones(org_test.shape[0], dtype=bool)\n",
    "\n",
    "    print(f\"[INFO] Keeping all rows: {keep_rows_mask.sum()} rows retained.\")\n",
    "    return keep_rows_mask"
   ]
  },
  {
   "cell_type": "code",
   "execution_count": 79,
   "id": "4a759155",
   "metadata": {
    "execution": {
     "iopub.execute_input": "2025-07-30T20:13:25.530544Z",
     "iopub.status.busy": "2025-07-30T20:13:25.529617Z",
     "iopub.status.idle": "2025-07-30T20:13:34.802714Z",
     "shell.execute_reply": "2025-07-30T20:13:34.801687Z"
    },
    "papermill": {
     "duration": 9.30512,
     "end_time": "2025-07-30T20:13:34.804518",
     "exception": false,
     "start_time": "2025-07-30T20:13:25.499398",
     "status": "completed"
    },
    "tags": []
   },
   "outputs": [
    {
     "name": "stdout",
     "output_type": "stream",
     "text": [
      "Stopping execution_time clock.\n",
      "[INFO] Keeping all rows: 89710 rows retained.\n"
     ]
    },
    {
     "name": "stdout",
     "output_type": "stream",
     "text": [
      "[INFO] Keeping all rows: 89710 rows retained.\n"
     ]
    },
    {
     "name": "stdout",
     "output_type": "stream",
     "text": [
      "[INFO] Keeping all rows: 89710 rows retained.\n"
     ]
    },
    {
     "name": "stdout",
     "output_type": "stream",
     "text": [
      "[INFO] Keeping all rows: 89710 rows retained.\n"
     ]
    },
    {
     "data": {
      "text/html": [
       "<div>\n",
       "<style scoped>\n",
       "    .dataframe tbody tr th:only-of-type {\n",
       "        vertical-align: middle;\n",
       "    }\n",
       "\n",
       "    .dataframe tbody tr th {\n",
       "        vertical-align: top;\n",
       "    }\n",
       "\n",
       "    .dataframe thead th {\n",
       "        text-align: right;\n",
       "    }\n",
       "</style>\n",
       "<table border=\"1\" class=\"dataframe\">\n",
       "  <thead>\n",
       "    <tr style=\"text-align: right;\">\n",
       "      <th></th>\n",
       "      <th>run_no</th>\n",
       "      <th>universe_id</th>\n",
       "      <th>universe_settings</th>\n",
       "      <th>execution_time</th>\n",
       "      <th>test_size_n</th>\n",
       "      <th>test_size_frac</th>\n",
       "      <th>fair_main_equalized_odds_difference</th>\n",
       "      <th>fair_main_equalized_odds_ratio</th>\n",
       "      <th>fair_main_demographic_parity_difference</th>\n",
       "      <th>fair_main_demographic_parity_ratio</th>\n",
       "      <th>...</th>\n",
       "      <th>perf_grp_precision_0</th>\n",
       "      <th>perf_grp_precision_1</th>\n",
       "      <th>perf_grp_false positive rate_0</th>\n",
       "      <th>perf_grp_false positive rate_1</th>\n",
       "      <th>perf_grp_false negative rate_0</th>\n",
       "      <th>perf_grp_false negative rate_1</th>\n",
       "      <th>perf_grp_selection rate_0</th>\n",
       "      <th>perf_grp_selection rate_1</th>\n",
       "      <th>perf_grp_count_0</th>\n",
       "      <th>perf_grp_count_1</th>\n",
       "    </tr>\n",
       "  </thead>\n",
       "  <tbody>\n",
       "    <tr>\n",
       "      <th>0</th>\n",
       "      <td>14</td>\n",
       "      <td>a42ca654085c200cd39836d3496ff82f</td>\n",
       "      <td>{\"cutoff\": \"quantile_0.1\", \"eval_fairness_grou...</td>\n",
       "      <td>54.120177</td>\n",
       "      <td>89710</td>\n",
       "      <td>1.0</td>\n",
       "      <td>0.080302</td>\n",
       "      <td>0.915362</td>\n",
       "      <td>0.069646</td>\n",
       "      <td>0.926973</td>\n",
       "      <td>...</td>\n",
       "      <td>NaN</td>\n",
       "      <td>NaN</td>\n",
       "      <td>NaN</td>\n",
       "      <td>NaN</td>\n",
       "      <td>NaN</td>\n",
       "      <td>NaN</td>\n",
       "      <td>NaN</td>\n",
       "      <td>NaN</td>\n",
       "      <td>NaN</td>\n",
       "      <td>NaN</td>\n",
       "    </tr>\n",
       "    <tr>\n",
       "      <th>0</th>\n",
       "      <td>14</td>\n",
       "      <td>a42ca654085c200cd39836d3496ff82f</td>\n",
       "      <td>{\"cutoff\": \"quantile_0.1\", \"eval_fairness_grou...</td>\n",
       "      <td>54.120177</td>\n",
       "      <td>89710</td>\n",
       "      <td>1.0</td>\n",
       "      <td>0.080302</td>\n",
       "      <td>0.915362</td>\n",
       "      <td>0.069646</td>\n",
       "      <td>0.926973</td>\n",
       "      <td>...</td>\n",
       "      <td>0.119863</td>\n",
       "      <td>0.147441</td>\n",
       "      <td>0.948767</td>\n",
       "      <td>0.868466</td>\n",
       "      <td>0.008446</td>\n",
       "      <td>0.013567</td>\n",
       "      <td>0.953700</td>\n",
       "      <td>0.884054</td>\n",
       "      <td>20540.0</td>\n",
       "      <td>69170.0</td>\n",
       "    </tr>\n",
       "    <tr>\n",
       "      <th>0</th>\n",
       "      <td>14</td>\n",
       "      <td>a42ca654085c200cd39836d3496ff82f</td>\n",
       "      <td>{\"cutoff\": \"quantile_0.25\", \"eval_fairness_gro...</td>\n",
       "      <td>54.120177</td>\n",
       "      <td>89710</td>\n",
       "      <td>1.0</td>\n",
       "      <td>0.079640</td>\n",
       "      <td>0.898155</td>\n",
       "      <td>0.064034</td>\n",
       "      <td>0.919894</td>\n",
       "      <td>...</td>\n",
       "      <td>NaN</td>\n",
       "      <td>NaN</td>\n",
       "      <td>NaN</td>\n",
       "      <td>NaN</td>\n",
       "      <td>NaN</td>\n",
       "      <td>NaN</td>\n",
       "      <td>NaN</td>\n",
       "      <td>NaN</td>\n",
       "      <td>NaN</td>\n",
       "      <td>NaN</td>\n",
       "    </tr>\n",
       "    <tr>\n",
       "      <th>0</th>\n",
       "      <td>14</td>\n",
       "      <td>a42ca654085c200cd39836d3496ff82f</td>\n",
       "      <td>{\"cutoff\": \"quantile_0.25\", \"eval_fairness_gro...</td>\n",
       "      <td>54.120177</td>\n",
       "      <td>89710</td>\n",
       "      <td>1.0</td>\n",
       "      <td>0.079640</td>\n",
       "      <td>0.898155</td>\n",
       "      <td>0.064034</td>\n",
       "      <td>0.919894</td>\n",
       "      <td>...</td>\n",
       "      <td>0.134539</td>\n",
       "      <td>0.171087</td>\n",
       "      <td>0.781972</td>\n",
       "      <td>0.702332</td>\n",
       "      <td>0.067145</td>\n",
       "      <td>0.047921</td>\n",
       "      <td>0.799367</td>\n",
       "      <td>0.735333</td>\n",
       "      <td>20540.0</td>\n",
       "      <td>69170.0</td>\n",
       "    </tr>\n",
       "  </tbody>\n",
       "</table>\n",
       "<p>4 rows × 50 columns</p>\n",
       "</div>"
      ],
      "text/plain": [
       "  run_no                       universe_id  \\\n",
       "0     14  a42ca654085c200cd39836d3496ff82f   \n",
       "0     14  a42ca654085c200cd39836d3496ff82f   \n",
       "0     14  a42ca654085c200cd39836d3496ff82f   \n",
       "0     14  a42ca654085c200cd39836d3496ff82f   \n",
       "\n",
       "                                   universe_settings  execution_time  \\\n",
       "0  {\"cutoff\": \"quantile_0.1\", \"eval_fairness_grou...       54.120177   \n",
       "0  {\"cutoff\": \"quantile_0.1\", \"eval_fairness_grou...       54.120177   \n",
       "0  {\"cutoff\": \"quantile_0.25\", \"eval_fairness_gro...       54.120177   \n",
       "0  {\"cutoff\": \"quantile_0.25\", \"eval_fairness_gro...       54.120177   \n",
       "\n",
       "   test_size_n  test_size_frac  fair_main_equalized_odds_difference  \\\n",
       "0        89710             1.0                             0.080302   \n",
       "0        89710             1.0                             0.080302   \n",
       "0        89710             1.0                             0.079640   \n",
       "0        89710             1.0                             0.079640   \n",
       "\n",
       "   fair_main_equalized_odds_ratio  fair_main_demographic_parity_difference  \\\n",
       "0                        0.915362                                 0.069646   \n",
       "0                        0.915362                                 0.069646   \n",
       "0                        0.898155                                 0.064034   \n",
       "0                        0.898155                                 0.064034   \n",
       "\n",
       "   fair_main_demographic_parity_ratio  ...  perf_grp_precision_0  \\\n",
       "0                            0.926973  ...                   NaN   \n",
       "0                            0.926973  ...              0.119863   \n",
       "0                            0.919894  ...                   NaN   \n",
       "0                            0.919894  ...              0.134539   \n",
       "\n",
       "   perf_grp_precision_1  perf_grp_false positive rate_0  \\\n",
       "0                   NaN                             NaN   \n",
       "0              0.147441                        0.948767   \n",
       "0                   NaN                             NaN   \n",
       "0              0.171087                        0.781972   \n",
       "\n",
       "   perf_grp_false positive rate_1  perf_grp_false negative rate_0  \\\n",
       "0                             NaN                             NaN   \n",
       "0                        0.868466                        0.008446   \n",
       "0                             NaN                             NaN   \n",
       "0                        0.702332                        0.067145   \n",
       "\n",
       "   perf_grp_false negative rate_1  perf_grp_selection rate_0  \\\n",
       "0                             NaN                        NaN   \n",
       "0                        0.013567                   0.953700   \n",
       "0                             NaN                        NaN   \n",
       "0                        0.047921                   0.799367   \n",
       "\n",
       "   perf_grp_selection rate_1  perf_grp_count_0  perf_grp_count_1  \n",
       "0                        NaN               NaN               NaN  \n",
       "0                   0.884054           20540.0           69170.0  \n",
       "0                        NaN               NaN               NaN  \n",
       "0                   0.735333           20540.0           69170.0  \n",
       "\n",
       "[4 rows x 50 columns]"
      ]
     },
     "execution_count": 79,
     "metadata": {},
     "output_type": "execute_result"
    }
   ],
   "source": [
    "final_output = universe_analysis.generate_final_output(\n",
    "    y_pred_prob=probs_test,\n",
    "    y_test=y_true,\n",
    "    org_test=org_test,\n",
    "    filter_data=filter_sub_universe_data,\n",
    "    cp_metrics_df=cp_metrics_df,\n",
    "    save=True,\n",
    ")\n",
    "final_output"
   ]
  },
  {
   "cell_type": "code",
   "execution_count": null,
   "id": "721ff514-cb11-46f8-b6fc-50392f74b5cb",
   "metadata": {
    "papermill": {
     "duration": 0.032446,
     "end_time": "2025-07-30T20:13:34.871820",
     "exception": false,
     "start_time": "2025-07-30T20:13:34.839374",
     "status": "completed"
    },
    "tags": []
   },
   "outputs": [],
   "source": []
  }
 ],
 "metadata": {
  "celltoolbar": "Tags",
  "kernelspec": {
   "display_name": "Python (CMA Fairness)",
   "language": "python",
   "name": "cma_fair_env"
  },
  "language_info": {
   "codemirror_mode": {
    "name": "ipython",
    "version": 3
   },
   "file_extension": ".py",
   "mimetype": "text/x-python",
   "name": "python",
   "nbconvert_exporter": "python",
   "pygments_lexer": "ipython3",
   "version": "3.10.12"
  },
  "papermill": {
   "default_parameters": {},
   "duration": 68.895528,
   "end_time": "2025-07-30T20:13:35.723927",
   "environment_variables": {},
   "exception": null,
   "input_path": "universe_analysis.ipynb",
   "output_path": "output/runs/14/notebooks/m_14-a42ca654085c200cd39836d3496ff82f.ipynb",
   "parameters": {
    "output_dir": "output",
    "run_no": "14",
    "seed": "2023",
    "universe": "{\"cutoff\": [\"quantile_0.1\", \"quantile_0.25\"], \"eval_fairness_grouping\": [\"majority-minority\", \"nationality-all\"], \"exclude_features\": \"nationality\", \"exclude_subgroups\": \"drop-non-german\", \"model\": \"gbm\", \"scale\": \"scale\", \"training_size\": \"25k\", \"training_year\": \"2012_14\"}",
    "universe_id": "a42ca654085c200cd39836d3496ff82f"
   },
   "start_time": "2025-07-30T20:12:26.828399",
   "version": "2.6.0"
  }
 },
 "nbformat": 4,
 "nbformat_minor": 5
}