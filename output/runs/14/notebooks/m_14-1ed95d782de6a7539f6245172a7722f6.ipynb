{
 "cells": [
  {
   "cell_type": "code",
   "execution_count": 1,
   "id": "f159f837-637b-42ba-96b5-ec9a68c44524",
   "metadata": {
    "execution": {
     "iopub.execute_input": "2025-07-30T21:32:03.263893Z",
     "iopub.status.busy": "2025-07-30T21:32:03.263428Z",
     "iopub.status.idle": "2025-07-30T21:32:03.276070Z",
     "shell.execute_reply": "2025-07-30T21:32:03.275142Z"
    },
    "papermill": {
     "duration": 0.036463,
     "end_time": "2025-07-30T21:32:03.277785",
     "exception": false,
     "start_time": "2025-07-30T21:32:03.241322",
     "status": "completed"
    },
    "tags": []
   },
   "outputs": [
    {
     "name": "stdout",
     "output_type": "stream",
     "text": [
      "/dss/dsshome1/0C/ra93lal2/cma/CMA_Fairness_v2\n"
     ]
    },
    {
     "name": "stderr",
     "output_type": "stream",
     "text": [
      "/dss/dsshome1/0C/ra93lal2/.local/share/virtualenvs/CMA_Fairness_v2-3j10GkSs/lib/python3.10/site-packages/IPython/core/magics/osm.py:393: UserWarning: This is now an optional IPython functionality, using bookmarks requires you to install the `pickleshare` library.\n",
      "  bkms = self.shell.db.get('bookmarks', {})\n",
      "/dss/dsshome1/0C/ra93lal2/.local/share/virtualenvs/CMA_Fairness_v2-3j10GkSs/lib/python3.10/site-packages/IPython/core/magics/osm.py:417: UserWarning: This is now an optional IPython functionality, setting dhist requires you to install the `pickleshare` library.\n",
      "  self.shell.db['dhist'] = compress_dhist(dhist)[-100:]\n"
     ]
    }
   ],
   "source": [
    "%cd ~/cma/CMA_Fairness_v2"
   ]
  },
  {
   "cell_type": "markdown",
   "id": "de2603b9",
   "metadata": {
    "papermill": {
     "duration": 0.018657,
     "end_time": "2025-07-30T21:32:03.315936",
     "exception": false,
     "start_time": "2025-07-30T21:32:03.297279",
     "status": "completed"
    },
    "tags": []
   },
   "source": [
    "The following cell holds the definition of our parameters, these values can be overriden by rendering the with e.g. the following command:\n",
    "\n",
    "papermill -p alpha 0.2 -p ratio 0.3 universe_analysis.ipynb output/test_run.ipynb"
   ]
  },
  {
   "cell_type": "code",
   "execution_count": 2,
   "id": "a80968a0-40bb-4fa9-85ef-2d5eefb01975",
   "metadata": {
    "execution": {
     "iopub.execute_input": "2025-07-30T21:32:03.356772Z",
     "iopub.status.busy": "2025-07-30T21:32:03.355894Z",
     "iopub.status.idle": "2025-07-30T21:32:03.361615Z",
     "shell.execute_reply": "2025-07-30T21:32:03.360912Z"
    },
    "papermill": {
     "duration": 0.028666,
     "end_time": "2025-07-30T21:32:03.363081",
     "exception": false,
     "start_time": "2025-07-30T21:32:03.334415",
     "status": "completed"
    },
    "tags": []
   },
   "outputs": [
    {
     "name": "stdout",
     "output_type": "stream",
     "text": [
      "Current working directory: /dss/dsshome1/0C/ra93lal2/cma/CMA_Fairness_v2\n"
     ]
    }
   ],
   "source": [
    "import os\n",
    "print(\"Current working directory:\", os.getcwd())"
   ]
  },
  {
   "cell_type": "code",
   "execution_count": 3,
   "id": "2dce4c03",
   "metadata": {
    "execution": {
     "iopub.execute_input": "2025-07-30T21:32:03.402647Z",
     "iopub.status.busy": "2025-07-30T21:32:03.402181Z",
     "iopub.status.idle": "2025-07-30T21:32:03.408330Z",
     "shell.execute_reply": "2025-07-30T21:32:03.407433Z"
    },
    "papermill": {
     "duration": 0.027577,
     "end_time": "2025-07-30T21:32:03.409971",
     "exception": false,
     "start_time": "2025-07-30T21:32:03.382394",
     "status": "completed"
    },
    "tags": [
     "parameters"
    ]
   },
   "outputs": [],
   "source": [
    "run_no = 0\n",
    "universe_id = \"test\"\n",
    "universe = {\n",
    "    \"training_size\": \"25k\", # \"25k\", \"5k\", \"1k\"\n",
    "    \"training_year\": \"2014\", # \"2014\", \"2012_14\", \"2010_14\"\n",
    "    \"scale\": \"scale\", # \"scale\", \"do-not-scale\",\n",
    "    #\"stratify_split\": \"target\", # \"none\", \"target\", \"protected-attribute\", \"both\",\n",
    "    \"model\": \"elasticnet\", # \"logreg\", \"penalized_logreg\", \"rf\", \"gbm\", \"elasticnet\"\n",
    "    \"cutoff\": [\"quantile_0.15\", \"quantile_0.30\"],\n",
    "    \"exclude_features\": \"age\", # \"none\", \"nationality\", \"sex\", \"nationality-sex\", \"age\"\n",
    "    \"exclude_subgroups\": \"keep-all\", # \"keep-all\", \"drop-non-german\"\n",
    "    \"eval_fairness_grouping\": [\"majority-minority\", \"nationality-all\"]\n",
    "}\n",
    "\n",
    "output_dir=\"./output\"\n",
    "seed=0"
   ]
  },
  {
   "cell_type": "code",
   "execution_count": 4,
   "id": "97656ba7",
   "metadata": {
    "execution": {
     "iopub.execute_input": "2025-07-30T21:32:03.460331Z",
     "iopub.status.busy": "2025-07-30T21:32:03.449284Z",
     "iopub.status.idle": "2025-07-30T21:32:03.464700Z",
     "shell.execute_reply": "2025-07-30T21:32:03.463805Z"
    },
    "papermill": {
     "duration": 0.03732,
     "end_time": "2025-07-30T21:32:03.466299",
     "exception": false,
     "start_time": "2025-07-30T21:32:03.428979",
     "status": "completed"
    },
    "tags": [
     "injected-parameters"
    ]
   },
   "outputs": [],
   "source": [
    "# Parameters\n",
    "universe_id = \"1ed95d782de6a7539f6245172a7722f6\"\n",
    "run_no = \"14\"\n",
    "universe = \"{\\\"cutoff\\\": [\\\"quantile_0.1\\\", \\\"quantile_0.25\\\"], \\\"eval_fairness_grouping\\\": [\\\"majority-minority\\\", \\\"nationality-all\\\"], \\\"exclude_features\\\": \\\"sex\\\", \\\"exclude_subgroups\\\": \\\"keep-all\\\", \\\"model\\\": \\\"elasticnet\\\", \\\"scale\\\": \\\"do-not-scale\\\", \\\"training_size\\\": \\\"1k\\\", \\\"training_year\\\": \\\"2014\\\"}\"\n",
    "output_dir = \"output\"\n",
    "seed = \"2023\"\n"
   ]
  },
  {
   "cell_type": "code",
   "execution_count": 5,
   "id": "1650acaf",
   "metadata": {
    "execution": {
     "iopub.execute_input": "2025-07-30T21:32:03.508133Z",
     "iopub.status.busy": "2025-07-30T21:32:03.507611Z",
     "iopub.status.idle": "2025-07-30T21:32:03.513282Z",
     "shell.execute_reply": "2025-07-30T21:32:03.512210Z"
    },
    "papermill": {
     "duration": 0.028588,
     "end_time": "2025-07-30T21:32:03.515031",
     "exception": false,
     "start_time": "2025-07-30T21:32:03.486443",
     "status": "completed"
    },
    "tags": []
   },
   "outputs": [],
   "source": [
    "import json\n",
    "# Parse universe into dict if it is passed as a string\n",
    "if isinstance(universe, str):\n",
    "    universe = json.loads(universe)"
   ]
  },
  {
   "cell_type": "code",
   "execution_count": 6,
   "id": "16620c48",
   "metadata": {
    "execution": {
     "iopub.execute_input": "2025-07-30T21:32:03.557315Z",
     "iopub.status.busy": "2025-07-30T21:32:03.556679Z",
     "iopub.status.idle": "2025-07-30T21:32:03.601896Z",
     "shell.execute_reply": "2025-07-30T21:32:03.601014Z"
    },
    "papermill": {
     "duration": 0.067253,
     "end_time": "2025-07-30T21:32:03.603717",
     "exception": false,
     "start_time": "2025-07-30T21:32:03.536464",
     "status": "completed"
    },
    "tags": []
   },
   "outputs": [],
   "source": [
    "# Auto-reload the custom package\n",
    "%load_ext autoreload\n",
    "%autoreload 1\n",
    "%aimport fairness_multiverse"
   ]
  },
  {
   "cell_type": "code",
   "execution_count": 7,
   "id": "01c5c9f3",
   "metadata": {
    "execution": {
     "iopub.execute_input": "2025-07-30T21:32:03.646073Z",
     "iopub.status.busy": "2025-07-30T21:32:03.645631Z",
     "iopub.status.idle": "2025-07-30T21:32:05.566326Z",
     "shell.execute_reply": "2025-07-30T21:32:05.565350Z"
    },
    "papermill": {
     "duration": 1.943509,
     "end_time": "2025-07-30T21:32:05.568283",
     "exception": false,
     "start_time": "2025-07-30T21:32:03.624774",
     "status": "completed"
    },
    "tags": []
   },
   "outputs": [],
   "source": [
    "from fairness_multiverse.universe import UniverseAnalysis\n",
    "\n",
    "universe_analysis = UniverseAnalysis(\n",
    "    run_no = run_no,\n",
    "    universe_id = universe_id,\n",
    "    universe = universe,\n",
    "    output_dir=output_dir,\n",
    ")"
   ]
  },
  {
   "cell_type": "code",
   "execution_count": 8,
   "id": "106241f5",
   "metadata": {
    "execution": {
     "iopub.execute_input": "2025-07-30T21:32:05.613446Z",
     "iopub.status.busy": "2025-07-30T21:32:05.613000Z",
     "iopub.status.idle": "2025-07-30T21:32:05.619427Z",
     "shell.execute_reply": "2025-07-30T21:32:05.618577Z"
    },
    "papermill": {
     "duration": 0.0282,
     "end_time": "2025-07-30T21:32:05.620780",
     "exception": false,
     "start_time": "2025-07-30T21:32:05.592580",
     "status": "completed"
    },
    "tags": []
   },
   "outputs": [
    {
     "name": "stdout",
     "output_type": "stream",
     "text": [
      "Using Seed: 2023\n"
     ]
    }
   ],
   "source": [
    "import numpy as np\n",
    "parsed_seed = int(seed)\n",
    "np.random.seed(parsed_seed)\n",
    "print(f\"Using Seed: {parsed_seed}\")"
   ]
  },
  {
   "cell_type": "markdown",
   "id": "e0ebdc57",
   "metadata": {
    "papermill": {
     "duration": 0.009901,
     "end_time": "2025-07-30T21:32:05.641552",
     "exception": false,
     "start_time": "2025-07-30T21:32:05.631651",
     "status": "completed"
    },
    "tags": []
   },
   "source": [
    "# Loading Data"
   ]
  },
  {
   "cell_type": "markdown",
   "id": "681925a3",
   "metadata": {
    "papermill": {
     "duration": 0.01006,
     "end_time": "2025-07-30T21:32:05.661544",
     "exception": false,
     "start_time": "2025-07-30T21:32:05.651484",
     "status": "completed"
    },
    "tags": []
   },
   "source": [
    "Load siab_train, siab_test, siab_calib and/or \n",
    "load siab_train_features, siab_train_labels"
   ]
  },
  {
   "cell_type": "code",
   "execution_count": 9,
   "id": "f0496b8a",
   "metadata": {
    "execution": {
     "iopub.execute_input": "2025-07-30T21:32:05.683244Z",
     "iopub.status.busy": "2025-07-30T21:32:05.682586Z",
     "iopub.status.idle": "2025-07-30T21:32:18.202901Z",
     "shell.execute_reply": "2025-07-30T21:32:18.201768Z"
    },
    "papermill": {
     "duration": 12.533137,
     "end_time": "2025-07-30T21:32:18.204638",
     "exception": false,
     "start_time": "2025-07-30T21:32:05.671501",
     "status": "completed"
    },
    "tags": []
   },
   "outputs": [
    {
     "name": "stdout",
     "output_type": "stream",
     "text": [
      "Loading SIAB data from cache: data/siab_cached.csv.gz\n"
     ]
    },
    {
     "name": "stdout",
     "output_type": "stream",
     "text": [
      "(643690, 164)\n"
     ]
    }
   ],
   "source": [
    "from pathlib import Path\n",
    "import pandas as pd\n",
    "\n",
    "# File paths\n",
    "raw_file = Path(\"data/raw/siab.csv\")\n",
    "cache_file = Path(\"data/siab_cached.csv.gz\")\n",
    "\n",
    "# Ensure cache directory exists\n",
    "cache_file.parent.mkdir(parents=True, exist_ok=True)\n",
    "\n",
    "# Load with simple caching\n",
    "if cache_file.exists():\n",
    "    print(f\"Loading SIAB data from cache: {cache_file}\")\n",
    "    siab = pd.read_csv(cache_file, compression='gzip')\n",
    "else:\n",
    "    print(f\"Cache not found. Reading raw SIAB data: {raw_file}\")\n",
    "    siab = pd.read_csv(raw_file)\n",
    "    siab.to_csv(cache_file, index=False, compression='gzip')\n",
    "    print(f\"Cached SIAB data to: {cache_file}\")\n",
    "\n",
    "# Now use `siab` DataFrame as needed\n",
    "print(siab.shape)"
   ]
  },
  {
   "cell_type": "code",
   "execution_count": 10,
   "id": "db0ca512-5f53-4dba-abdb-a2888bca41ba",
   "metadata": {
    "execution": {
     "iopub.execute_input": "2025-07-30T21:32:18.251544Z",
     "iopub.status.busy": "2025-07-30T21:32:18.251051Z",
     "iopub.status.idle": "2025-07-30T21:32:18.256836Z",
     "shell.execute_reply": "2025-07-30T21:32:18.255830Z"
    },
    "papermill": {
     "duration": 0.029374,
     "end_time": "2025-07-30T21:32:18.258517",
     "exception": false,
     "start_time": "2025-07-30T21:32:18.229143",
     "status": "completed"
    },
    "tags": []
   },
   "outputs": [],
   "source": [
    "#siab"
   ]
  },
  {
   "cell_type": "code",
   "execution_count": 11,
   "id": "a0edb063",
   "metadata": {
    "execution": {
     "iopub.execute_input": "2025-07-30T21:32:18.303981Z",
     "iopub.status.busy": "2025-07-30T21:32:18.303478Z",
     "iopub.status.idle": "2025-07-30T21:32:18.308968Z",
     "shell.execute_reply": "2025-07-30T21:32:18.308058Z"
    },
    "papermill": {
     "duration": 0.029923,
     "end_time": "2025-07-30T21:32:18.310579",
     "exception": false,
     "start_time": "2025-07-30T21:32:18.280656",
     "status": "completed"
    },
    "tags": []
   },
   "outputs": [],
   "source": [
    "#import pandas as pd\n",
    "#\n",
    "#X_train = pd.read_csv(\"./data/X_train.csv\")\n",
    "#y_train = pd.read_csv(\"./data/y_train.csv\")"
   ]
  },
  {
   "cell_type": "code",
   "execution_count": 12,
   "id": "63d08085",
   "metadata": {
    "execution": {
     "iopub.execute_input": "2025-07-30T21:32:18.355284Z",
     "iopub.status.busy": "2025-07-30T21:32:18.354420Z",
     "iopub.status.idle": "2025-07-30T21:32:18.359692Z",
     "shell.execute_reply": "2025-07-30T21:32:18.358672Z"
    },
    "papermill": {
     "duration": 0.030199,
     "end_time": "2025-07-30T21:32:18.361518",
     "exception": false,
     "start_time": "2025-07-30T21:32:18.331319",
     "status": "completed"
    },
    "tags": []
   },
   "outputs": [],
   "source": [
    "#X_test = pd.read_csv(\"./data/X_test.csv\")\n",
    "#y_true = pd.read_csv(\"./data/y_test.csv\")"
   ]
  },
  {
   "cell_type": "code",
   "execution_count": 13,
   "id": "98a8d0fa-1d3d-4ed8-bb2c-281470e24add",
   "metadata": {
    "execution": {
     "iopub.execute_input": "2025-07-30T21:32:18.407896Z",
     "iopub.status.busy": "2025-07-30T21:32:18.406960Z",
     "iopub.status.idle": "2025-07-30T21:32:18.412757Z",
     "shell.execute_reply": "2025-07-30T21:32:18.411665Z"
    },
    "papermill": {
     "duration": 0.031054,
     "end_time": "2025-07-30T21:32:18.415123",
     "exception": false,
     "start_time": "2025-07-30T21:32:18.384069",
     "status": "completed"
    },
    "tags": []
   },
   "outputs": [],
   "source": [
    "# Calibration data for conformal\n",
    "#X_calib = pd.read_csv(\"./data/X_calib.csv\")\n",
    "#y_calib = pd.read_csv(\"./data/y_calib.csv\")"
   ]
  },
  {
   "cell_type": "markdown",
   "id": "997051c5-15bd-4b69-9786-c3001a3ce484",
   "metadata": {
    "papermill": {
     "duration": 0.030727,
     "end_time": "2025-07-30T21:32:18.477379",
     "exception": false,
     "start_time": "2025-07-30T21:32:18.446652",
     "status": "completed"
    },
    "tags": []
   },
   "source": [
    "# Splitting Data and Setting Training Data Size"
   ]
  },
  {
   "cell_type": "code",
   "execution_count": 14,
   "id": "e993b61f-042d-41a6-8c81-f55681f86335",
   "metadata": {
    "execution": {
     "iopub.execute_input": "2025-07-30T21:32:18.541124Z",
     "iopub.status.busy": "2025-07-30T21:32:18.540358Z",
     "iopub.status.idle": "2025-07-30T21:32:18.554865Z",
     "shell.execute_reply": "2025-07-30T21:32:18.553563Z"
    },
    "papermill": {
     "duration": 0.048883,
     "end_time": "2025-07-30T21:32:18.557154",
     "exception": false,
     "start_time": "2025-07-30T21:32:18.508271",
     "status": "completed"
    },
    "tags": []
   },
   "outputs": [],
   "source": [
    "def sample_by_year_size(df,\n",
    "                        training_year: str,\n",
    "                        training_size: str,\n",
    "                        random_state: int = 42):\n",
    "    # --- parse training_year into a list of int years ---\n",
    "    if \"_\" in training_year:\n",
    "        start_str, end_str = training_year.split(\"_\", 1)\n",
    "        start = int(start_str)\n",
    "        end   = int(end_str) if len(end_str) == 4 else (int(end_str) + (start // 100)*100)\n",
    "        years = list(range(start, end + 1))\n",
    "    else:\n",
    "        years = [int(training_year)]\n",
    "\n",
    "    df = df[df[\"year\"].isin(years)].reset_index(drop=True)\n",
    "\n",
    "    # --- map training_size to total number of samples ---\n",
    "    total_map = {\"25k\": 25_000, \"5k\": 5_000, \"1k\": 1_000}\n",
    "    if training_size not in total_map:\n",
    "        return df  # e.g. \"all\"\n",
    "\n",
    "    total_samples = total_map[training_size]\n",
    "    n_years       = len(years)\n",
    "    base          = total_samples // n_years\n",
    "    remainder     = total_samples % n_years\n",
    "\n",
    "    # --- build a dict: year -> how many to sample ---\n",
    "    # give +1 to the first `remainder` years in ascending order\n",
    "    quotas = {\n",
    "        year: base + (1 if idx < remainder else 0)\n",
    "        for idx, year in enumerate(sorted(years))\n",
    "    }\n",
    "\n",
    "    # --- sample per‐year according to the quota dict ---\n",
    "    sampled = (\n",
    "        df\n",
    "        .groupby(\"year\", group_keys=False)\n",
    "        .apply(lambda grp: grp.sample(\n",
    "            n=min(len(grp), quotas[grp.name]),\n",
    "            random_state=random_state))\n",
    "        .reset_index(drop=True)\n",
    "    )\n",
    "\n",
    "    return sampled"
   ]
  },
  {
   "cell_type": "code",
   "execution_count": 15,
   "id": "c0ccd338-0e02-41f3-a09d-f56f9266e3fb",
   "metadata": {
    "execution": {
     "iopub.execute_input": "2025-07-30T21:32:18.621129Z",
     "iopub.status.busy": "2025-07-30T21:32:18.620345Z",
     "iopub.status.idle": "2025-07-30T21:32:18.626746Z",
     "shell.execute_reply": "2025-07-30T21:32:18.625529Z"
    },
    "papermill": {
     "duration": 0.040471,
     "end_time": "2025-07-30T21:32:18.629044",
     "exception": false,
     "start_time": "2025-07-30T21:32:18.588573",
     "status": "completed"
    },
    "tags": []
   },
   "outputs": [],
   "source": [
    "#universe[\"training_size\"]"
   ]
  },
  {
   "cell_type": "code",
   "execution_count": 16,
   "id": "ca707fd7-8047-4acd-bfa5-66248fbbf8e6",
   "metadata": {
    "execution": {
     "iopub.execute_input": "2025-07-30T21:32:18.693901Z",
     "iopub.status.busy": "2025-07-30T21:32:18.693098Z",
     "iopub.status.idle": "2025-07-30T21:32:18.699225Z",
     "shell.execute_reply": "2025-07-30T21:32:18.697940Z"
    },
    "papermill": {
     "duration": 0.041771,
     "end_time": "2025-07-30T21:32:18.701883",
     "exception": false,
     "start_time": "2025-07-30T21:32:18.660112",
     "status": "completed"
    },
    "tags": []
   },
   "outputs": [],
   "source": [
    "#universe[\"training_year\"]"
   ]
  },
  {
   "cell_type": "code",
   "execution_count": 17,
   "id": "aea9c6ef-6f46-42c8-85eb-5a62025c1508",
   "metadata": {
    "execution": {
     "iopub.execute_input": "2025-07-30T21:32:18.767118Z",
     "iopub.status.busy": "2025-07-30T21:32:18.766321Z",
     "iopub.status.idle": "2025-07-30T21:32:19.152974Z",
     "shell.execute_reply": "2025-07-30T21:32:19.151707Z"
    },
    "papermill": {
     "duration": 0.42198,
     "end_time": "2025-07-30T21:32:19.155660",
     "exception": false,
     "start_time": "2025-07-30T21:32:18.733680",
     "status": "completed"
    },
    "tags": []
   },
   "outputs": [],
   "source": [
    "siab_train = sample_by_year_size(siab,\n",
    "                               training_year=universe[\"training_year\"],\n",
    "                               training_size=universe[\"training_size\"])"
   ]
  },
  {
   "cell_type": "code",
   "execution_count": 18,
   "id": "8d3afb32-789d-442c-8d5d-9f5aa8dd2eed",
   "metadata": {
    "execution": {
     "iopub.execute_input": "2025-07-30T21:32:19.211862Z",
     "iopub.status.busy": "2025-07-30T21:32:19.211224Z",
     "iopub.status.idle": "2025-07-30T21:32:19.217409Z",
     "shell.execute_reply": "2025-07-30T21:32:19.216400Z"
    },
    "papermill": {
     "duration": 0.036742,
     "end_time": "2025-07-30T21:32:19.219376",
     "exception": false,
     "start_time": "2025-07-30T21:32:19.182634",
     "status": "completed"
    },
    "tags": []
   },
   "outputs": [],
   "source": [
    "#siab_train.shape"
   ]
  },
  {
   "cell_type": "code",
   "execution_count": 19,
   "id": "d582db68-1a4c-47fb-84fc-08518dc1975a",
   "metadata": {
    "execution": {
     "iopub.execute_input": "2025-07-30T21:32:19.275911Z",
     "iopub.status.busy": "2025-07-30T21:32:19.274003Z",
     "iopub.status.idle": "2025-07-30T21:32:19.280879Z",
     "shell.execute_reply": "2025-07-30T21:32:19.279820Z"
    },
    "papermill": {
     "duration": 0.036135,
     "end_time": "2025-07-30T21:32:19.282362",
     "exception": false,
     "start_time": "2025-07-30T21:32:19.246227",
     "status": "completed"
    },
    "tags": []
   },
   "outputs": [],
   "source": [
    "#display(siab_train.groupby(\"year\").size())"
   ]
  },
  {
   "cell_type": "code",
   "execution_count": 20,
   "id": "a561edb4-d032-42cb-8256-22eac1111c64",
   "metadata": {
    "execution": {
     "iopub.execute_input": "2025-07-30T21:32:19.328586Z",
     "iopub.status.busy": "2025-07-30T21:32:19.327600Z",
     "iopub.status.idle": "2025-07-30T21:32:19.575487Z",
     "shell.execute_reply": "2025-07-30T21:32:19.574537Z"
    },
    "papermill": {
     "duration": 0.273284,
     "end_time": "2025-07-30T21:32:19.577574",
     "exception": false,
     "start_time": "2025-07-30T21:32:19.304290",
     "status": "completed"
    },
    "tags": []
   },
   "outputs": [],
   "source": [
    "#siab_train = siab_s[siab_s.year < 2015]\n",
    "siab_calib = siab[siab.year == 2015]\n",
    "siab_test = siab[siab.year == 2016]"
   ]
  },
  {
   "cell_type": "code",
   "execution_count": 21,
   "id": "472de16f-c3db-4916-846b-1f0de9cf1746",
   "metadata": {
    "execution": {
     "iopub.execute_input": "2025-07-30T21:32:19.656617Z",
     "iopub.status.busy": "2025-07-30T21:32:19.655662Z",
     "iopub.status.idle": "2025-07-30T21:32:19.663521Z",
     "shell.execute_reply": "2025-07-30T21:32:19.662318Z"
    },
    "papermill": {
     "duration": 0.043957,
     "end_time": "2025-07-30T21:32:19.665885",
     "exception": false,
     "start_time": "2025-07-30T21:32:19.621928",
     "status": "completed"
    },
    "tags": []
   },
   "outputs": [],
   "source": [
    "X_train = siab_train.iloc[:,4:164]\n",
    "y_train = siab_train.iloc[:, [3]]"
   ]
  },
  {
   "cell_type": "code",
   "execution_count": 22,
   "id": "828c96af-f43a-4ed6-ba47-8ac73a47d56c",
   "metadata": {
    "execution": {
     "iopub.execute_input": "2025-07-30T21:32:19.735280Z",
     "iopub.status.busy": "2025-07-30T21:32:19.734707Z",
     "iopub.status.idle": "2025-07-30T21:32:19.791851Z",
     "shell.execute_reply": "2025-07-30T21:32:19.790653Z"
    },
    "papermill": {
     "duration": 0.094891,
     "end_time": "2025-07-30T21:32:19.794536",
     "exception": false,
     "start_time": "2025-07-30T21:32:19.699645",
     "status": "completed"
    },
    "tags": []
   },
   "outputs": [],
   "source": [
    "X_calib = siab_calib.iloc[:,4:164]\n",
    "y_calib = siab_calib.iloc[:, [3]]"
   ]
  },
  {
   "cell_type": "code",
   "execution_count": 23,
   "id": "c34be9c3-6bd6-476e-acd3-845840e303be",
   "metadata": {
    "execution": {
     "iopub.execute_input": "2025-07-30T21:32:19.862091Z",
     "iopub.status.busy": "2025-07-30T21:32:19.861300Z",
     "iopub.status.idle": "2025-07-30T21:32:19.953581Z",
     "shell.execute_reply": "2025-07-30T21:32:19.952676Z"
    },
    "papermill": {
     "duration": 0.127631,
     "end_time": "2025-07-30T21:32:19.954910",
     "exception": false,
     "start_time": "2025-07-30T21:32:19.827279",
     "status": "completed"
    },
    "tags": []
   },
   "outputs": [],
   "source": [
    "X_test = siab_test.iloc[:,4:164]\n",
    "y_true = siab_test.iloc[:, [3]]"
   ]
  },
  {
   "cell_type": "markdown",
   "id": "9901737e-04df-44f0-9100-f5ad144ed040",
   "metadata": {
    "papermill": {
     "duration": 0.011403,
     "end_time": "2025-07-30T21:32:19.978431",
     "exception": false,
     "start_time": "2025-07-30T21:32:19.967028",
     "status": "completed"
    },
    "tags": []
   },
   "source": [
    "# Splitting Data and Setting Training Data Size OLD VERSION"
   ]
  },
  {
   "cell_type": "code",
   "execution_count": 24,
   "id": "acbc8f7d-8fc8-4e86-8c59-5dcb0f58384b",
   "metadata": {
    "execution": {
     "iopub.execute_input": "2025-07-30T21:32:20.004149Z",
     "iopub.status.busy": "2025-07-30T21:32:20.003377Z",
     "iopub.status.idle": "2025-07-30T21:32:20.009271Z",
     "shell.execute_reply": "2025-07-30T21:32:20.008267Z"
    },
    "papermill": {
     "duration": 0.022165,
     "end_time": "2025-07-30T21:32:20.011704",
     "exception": false,
     "start_time": "2025-07-30T21:32:19.989539",
     "status": "completed"
    },
    "tags": []
   },
   "outputs": [],
   "source": [
    "#def sample_by_year(df, training_size, random_state=42):\n",
    "#    if training_size == \"2014\":\n",
    "#        return df[df[\"year\"] == 2014].reset_index(drop=True)\n",
    "#    \n",
    "#    size_map = {\n",
    "#        \"25k\": 5000,\n",
    "#        \"5k\": 1000,\n",
    "#        \"1k\": 200\n",
    "#    }\n",
    "#\n",
    "#    if training_size not in size_map:\n",
    "#        return df.reset_index(drop=True)  # use all data\n",
    "#\n",
    "#    n_per_year = size_map[training_size]\n",
    "#    grouped = df.groupby(\"year\")\n",
    "#    sampled = grouped.apply(lambda x: x.sample(n=min(n_per_year, len(x)), random_state=random_state))\n",
    "#    return sampled.reset_index(drop=True)"
   ]
  },
  {
   "cell_type": "code",
   "execution_count": 25,
   "id": "6d931f52-beaf-43ff-9e78-9d44a448d54e",
   "metadata": {
    "execution": {
     "iopub.execute_input": "2025-07-30T21:32:20.080443Z",
     "iopub.status.busy": "2025-07-30T21:32:20.079617Z",
     "iopub.status.idle": "2025-07-30T21:32:20.086227Z",
     "shell.execute_reply": "2025-07-30T21:32:20.085059Z"
    },
    "papermill": {
     "duration": 0.044063,
     "end_time": "2025-07-30T21:32:20.088838",
     "exception": false,
     "start_time": "2025-07-30T21:32:20.044775",
     "status": "completed"
    },
    "tags": []
   },
   "outputs": [],
   "source": [
    "#siab_s = sample_by_year(siab, universe[\"training_size\"])"
   ]
  },
  {
   "cell_type": "code",
   "execution_count": 26,
   "id": "5db0a40e-a4e2-4920-be85-b12ae061d70d",
   "metadata": {
    "execution": {
     "iopub.execute_input": "2025-07-30T21:32:20.159855Z",
     "iopub.status.busy": "2025-07-30T21:32:20.159058Z",
     "iopub.status.idle": "2025-07-30T21:32:20.165545Z",
     "shell.execute_reply": "2025-07-30T21:32:20.164198Z"
    },
    "papermill": {
     "duration": 0.045914,
     "end_time": "2025-07-30T21:32:20.167884",
     "exception": false,
     "start_time": "2025-07-30T21:32:20.121970",
     "status": "completed"
    },
    "tags": []
   },
   "outputs": [],
   "source": [
    "#display(siab_s.groupby(\"year\").size())"
   ]
  },
  {
   "cell_type": "code",
   "execution_count": 27,
   "id": "e6c733c5",
   "metadata": {
    "execution": {
     "iopub.execute_input": "2025-07-30T21:32:20.241870Z",
     "iopub.status.busy": "2025-07-30T21:32:20.241003Z",
     "iopub.status.idle": "2025-07-30T21:32:20.336722Z",
     "shell.execute_reply": "2025-07-30T21:32:20.335934Z"
    },
    "papermill": {
     "duration": 0.13346,
     "end_time": "2025-07-30T21:32:20.338437",
     "exception": false,
     "start_time": "2025-07-30T21:32:20.204977",
     "status": "completed"
    },
    "tags": []
   },
   "outputs": [],
   "source": [
    "# Auxiliary data needed downstream in the pipeline\n",
    "\n",
    "org_train = X_train.copy()\n",
    "org_test = X_test.copy()\n",
    "org_calib = X_calib.copy()"
   ]
  },
  {
   "cell_type": "code",
   "execution_count": 28,
   "id": "1466abac-c6da-4492-a62f-4240ae3783af",
   "metadata": {
    "execution": {
     "iopub.execute_input": "2025-07-30T21:32:20.416595Z",
     "iopub.status.busy": "2025-07-30T21:32:20.416080Z",
     "iopub.status.idle": "2025-07-30T21:32:20.421429Z",
     "shell.execute_reply": "2025-07-30T21:32:20.420446Z"
    },
    "papermill": {
     "duration": 0.019783,
     "end_time": "2025-07-30T21:32:20.423270",
     "exception": false,
     "start_time": "2025-07-30T21:32:20.403487",
     "status": "completed"
    },
    "tags": []
   },
   "outputs": [],
   "source": [
    "# put in other script?\n",
    "# Group sizes\n",
    "\n",
    "#def calculate_percentages(df, df_name):\n",
    "#    total_entries = len(df)\n",
    "#\n",
    "#    female_pct = (df['frau1'] == 1).mean() * 100\n",
    "#    non_german_pct = ((df['maxdeutsch1'] == 0) & (df['maxdeutsch.Missing.'] == 0)).mean() * 100\n",
    "#    non_german_male_pct = ((df['frau1'] == 0) & (df['maxdeutsch1'] == 0) & (df['maxdeutsch.Missing.'] == 0)).mean() * 100\n",
    "#    non_german_female_pct = ((df['frau1'] == 1) & (df['maxdeutsch1'] == 0) & (df['maxdeutsch.Missing.'] == 0)).mean() * 100\n",
    "#\n",
    "#    print(f\"--- {df_name} ---\")\n",
    "#    print(f\"Female: {female_pct:.2f}%\")\n",
    "#    print(f\"Non-German: {non_german_pct:.2f}%\")\n",
    "#    print(f\"Non-German Male: {non_german_male_pct:.2f}%\")\n",
    "#    print(f\"Non-German Female: {non_german_female_pct:.2f}%\\n\")\n",
    "#\n",
    "## Calculate for each DataFrame\n",
    "#calculate_percentages(siab_calib, \"siab_calib\")\n",
    "#calculate_percentages(siab_test, \"siab_test\")\n",
    "#calculate_percentages(siab_train, \"siab_train\")"
   ]
  },
  {
   "cell_type": "markdown",
   "id": "0a4a1b33",
   "metadata": {
    "papermill": {
     "duration": 0.023974,
     "end_time": "2025-07-30T21:32:20.470900",
     "exception": false,
     "start_time": "2025-07-30T21:32:20.446926",
     "status": "completed"
    },
    "tags": []
   },
   "source": [
    "# Preprocessing Data"
   ]
  },
  {
   "cell_type": "code",
   "execution_count": 29,
   "id": "ca879031",
   "metadata": {
    "execution": {
     "iopub.execute_input": "2025-07-30T21:32:20.521690Z",
     "iopub.status.busy": "2025-07-30T21:32:20.520784Z",
     "iopub.status.idle": "2025-07-30T21:32:20.527529Z",
     "shell.execute_reply": "2025-07-30T21:32:20.526535Z"
    },
    "papermill": {
     "duration": 0.035115,
     "end_time": "2025-07-30T21:32:20.530357",
     "exception": false,
     "start_time": "2025-07-30T21:32:20.495242",
     "status": "completed"
    },
    "tags": []
   },
   "outputs": [],
   "source": [
    "# EXCLUDE PROTECTED FEATURES\n",
    "# ----------------------\n",
    "# \"exclude_features\": \"none\", # \"nationality\", \"sex\", \"nationality-sex\"\n",
    "\n",
    "excluded_features = universe[\"exclude_features\"].split(\"-\") # split, e.g.: \"nationality-sex\" -> [\"nationality\", \"sex\"]\n",
    "excluded_features_dictionary = {\n",
    "    \"nationality\": [\"maxdeutsch1\", \"maxdeutsch.Missing.\"],\n",
    "    \"sex\": [\"frau1\"],\n",
    "    \"age\": [\"age\"],\n",
    "}\n"
   ]
  },
  {
   "cell_type": "code",
   "execution_count": 30,
   "id": "b745ac60",
   "metadata": {
    "execution": {
     "iopub.execute_input": "2025-07-30T21:32:20.597917Z",
     "iopub.status.busy": "2025-07-30T21:32:20.597377Z",
     "iopub.status.idle": "2025-07-30T21:32:20.603739Z",
     "shell.execute_reply": "2025-07-30T21:32:20.602615Z"
    },
    "papermill": {
     "duration": 0.04277,
     "end_time": "2025-07-30T21:32:20.606377",
     "exception": false,
     "start_time": "2025-07-30T21:32:20.563607",
     "status": "completed"
    },
    "tags": []
   },
   "outputs": [],
   "source": [
    "# Code nice names to column names\n",
    "\n",
    "excluded_features_columns = [\n",
    "    excluded_features_dictionary[f] for f in excluded_features if len(f) > 0 and f != \"none\"\n",
    "]"
   ]
  },
  {
   "cell_type": "code",
   "execution_count": 31,
   "id": "f84f73a2",
   "metadata": {
    "execution": {
     "iopub.execute_input": "2025-07-30T21:32:20.672775Z",
     "iopub.status.busy": "2025-07-30T21:32:20.672211Z",
     "iopub.status.idle": "2025-07-30T21:32:20.679364Z",
     "shell.execute_reply": "2025-07-30T21:32:20.678281Z"
    },
    "papermill": {
     "duration": 0.043324,
     "end_time": "2025-07-30T21:32:20.681802",
     "exception": false,
     "start_time": "2025-07-30T21:32:20.638478",
     "status": "completed"
    },
    "tags": []
   },
   "outputs": [],
   "source": [
    "from utils import flatten_once\n",
    "\n",
    "excluded_features_columns = flatten_once(excluded_features_columns)"
   ]
  },
  {
   "cell_type": "code",
   "execution_count": 32,
   "id": "884dea22",
   "metadata": {
    "execution": {
     "iopub.execute_input": "2025-07-30T21:32:20.749835Z",
     "iopub.status.busy": "2025-07-30T21:32:20.749277Z",
     "iopub.status.idle": "2025-07-30T21:32:20.759031Z",
     "shell.execute_reply": "2025-07-30T21:32:20.758079Z"
    },
    "papermill": {
     "duration": 0.045627,
     "end_time": "2025-07-30T21:32:20.760702",
     "exception": false,
     "start_time": "2025-07-30T21:32:20.715075",
     "status": "completed"
    },
    "tags": []
   },
   "outputs": [
    {
     "name": "stdout",
     "output_type": "stream",
     "text": [
      "Dropping features: ['frau1']\n"
     ]
    }
   ],
   "source": [
    "if len(excluded_features_columns) > 0:\n",
    "    print(f\"Dropping features: {excluded_features_columns}\")\n",
    "    X_train.drop(excluded_features_columns, axis=1, inplace=True)"
   ]
  },
  {
   "cell_type": "code",
   "execution_count": 33,
   "id": "95ab8b16",
   "metadata": {
    "execution": {
     "iopub.execute_input": "2025-07-30T21:32:20.801370Z",
     "iopub.status.busy": "2025-07-30T21:32:20.800937Z",
     "iopub.status.idle": "2025-07-30T21:32:20.855157Z",
     "shell.execute_reply": "2025-07-30T21:32:20.854371Z"
    },
    "papermill": {
     "duration": 0.073068,
     "end_time": "2025-07-30T21:32:20.856464",
     "exception": false,
     "start_time": "2025-07-30T21:32:20.783396",
     "status": "completed"
    },
    "tags": []
   },
   "outputs": [
    {
     "name": "stdout",
     "output_type": "stream",
     "text": [
      "Dropping features: ['frau1']\n"
     ]
    }
   ],
   "source": [
    "if len(excluded_features_columns) > 0:\n",
    "    print(f\"Dropping features: {excluded_features_columns}\")\n",
    "    X_test.drop(excluded_features_columns, axis=1, inplace=True)"
   ]
  },
  {
   "cell_type": "code",
   "execution_count": 34,
   "id": "1853aaf5-fb9f-46cb-a2b5-8ea4ae2237e4",
   "metadata": {
    "execution": {
     "iopub.execute_input": "2025-07-30T21:32:20.881982Z",
     "iopub.status.busy": "2025-07-30T21:32:20.881548Z",
     "iopub.status.idle": "2025-07-30T21:32:20.938094Z",
     "shell.execute_reply": "2025-07-30T21:32:20.936983Z"
    },
    "papermill": {
     "duration": 0.07172,
     "end_time": "2025-07-30T21:32:20.940438",
     "exception": false,
     "start_time": "2025-07-30T21:32:20.868718",
     "status": "completed"
    },
    "tags": []
   },
   "outputs": [
    {
     "name": "stdout",
     "output_type": "stream",
     "text": [
      "Dropping features: ['frau1']\n"
     ]
    }
   ],
   "source": [
    "if len(excluded_features_columns) > 0:\n",
    "    print(f\"Dropping features: {excluded_features_columns}\")\n",
    "    X_calib.drop(excluded_features_columns, axis=1, inplace=True)"
   ]
  },
  {
   "cell_type": "code",
   "execution_count": 35,
   "id": "6727d079-03e5-481e-9d38-292a90b7a0a8",
   "metadata": {
    "execution": {
     "iopub.execute_input": "2025-07-30T21:32:21.000263Z",
     "iopub.status.busy": "2025-07-30T21:32:20.999807Z",
     "iopub.status.idle": "2025-07-30T21:32:21.005040Z",
     "shell.execute_reply": "2025-07-30T21:32:21.004079Z"
    },
    "papermill": {
     "duration": 0.03166,
     "end_time": "2025-07-30T21:32:21.006804",
     "exception": false,
     "start_time": "2025-07-30T21:32:20.975144",
     "status": "completed"
    },
    "tags": []
   },
   "outputs": [],
   "source": [
    "# SPLIT & STRATIFY DATA\n",
    "# ----------------------"
   ]
  },
  {
   "cell_type": "code",
   "execution_count": 36,
   "id": "76c4dc6d",
   "metadata": {
    "execution": {
     "iopub.execute_input": "2025-07-30T21:32:21.054930Z",
     "iopub.status.busy": "2025-07-30T21:32:21.054576Z",
     "iopub.status.idle": "2025-07-30T21:32:21.060377Z",
     "shell.execute_reply": "2025-07-30T21:32:21.059374Z"
    },
    "papermill": {
     "duration": 0.031878,
     "end_time": "2025-07-30T21:32:21.062137",
     "exception": false,
     "start_time": "2025-07-30T21:32:21.030259",
     "status": "completed"
    },
    "tags": []
   },
   "outputs": [],
   "source": [
    "# EXCLUDE CERTAIN SUBGROUPS\n",
    "# ----------------------\n",
    "\n",
    "mode = universe.get(\"exclude_subgroups\", \"keep-all\") \n",
    "# Fetches the exclude_subgroups setting from the universe dict.\n",
    "# Defaults to \"keep-all\" if the key is missing."
   ]
  },
  {
   "cell_type": "code",
   "execution_count": 37,
   "id": "21994072",
   "metadata": {
    "execution": {
     "iopub.execute_input": "2025-07-30T21:32:21.114292Z",
     "iopub.status.busy": "2025-07-30T21:32:21.113820Z",
     "iopub.status.idle": "2025-07-30T21:32:21.120841Z",
     "shell.execute_reply": "2025-07-30T21:32:21.119459Z"
    },
    "papermill": {
     "duration": 0.034817,
     "end_time": "2025-07-30T21:32:21.122658",
     "exception": false,
     "start_time": "2025-07-30T21:32:21.087841",
     "status": "completed"
    },
    "tags": []
   },
   "outputs": [],
   "source": [
    "if mode == \"keep-all\":\n",
    "    keep_mask = pd.Series(True, index=org_train.index)\n",
    "\n",
    "# org_train contains the original feature columns from features_org (in Simson)\n",
    "# features_org contains unprocessed features, for me X_train at beginning ???\n",
    "# For keep-all, creates a boolean Series (keep_mask) of all True, so no rows are removed.\n",
    "\n",
    "elif mode == \"drop-non-german\":\n",
    "    keep_mask = org_train[\"maxdeutsch1\"] == 1 # ??? what about missing values?\n",
    "\n",
    "else:\n",
    "    raise ValueError(f\"Unsupported mode for exclude_subgroups: {mode}\")\n"
   ]
  },
  {
   "cell_type": "code",
   "execution_count": 38,
   "id": "71651440",
   "metadata": {
    "execution": {
     "iopub.execute_input": "2025-07-30T21:32:21.173276Z",
     "iopub.status.busy": "2025-07-30T21:32:21.172751Z",
     "iopub.status.idle": "2025-07-30T21:32:21.179653Z",
     "shell.execute_reply": "2025-07-30T21:32:21.178539Z"
    },
    "papermill": {
     "duration": 0.03416,
     "end_time": "2025-07-30T21:32:21.181325",
     "exception": false,
     "start_time": "2025-07-30T21:32:21.147165",
     "status": "completed"
    },
    "tags": []
   },
   "outputs": [],
   "source": [
    "n_drop = (~keep_mask).sum() # Calculates how many rows are set to be dropped\n",
    "if n_drop > 0:\n",
    "    pct = n_drop / len(keep_mask) * 100\n",
    "    print(f\"Dropping {n_drop} rows ({pct:.2f}%) where mode='{mode}'\")"
   ]
  },
  {
   "cell_type": "code",
   "execution_count": 39,
   "id": "5fb8eee5",
   "metadata": {
    "execution": {
     "iopub.execute_input": "2025-07-30T21:32:21.230706Z",
     "iopub.status.busy": "2025-07-30T21:32:21.230029Z",
     "iopub.status.idle": "2025-07-30T21:32:21.237437Z",
     "shell.execute_reply": "2025-07-30T21:32:21.236532Z"
    },
    "papermill": {
     "duration": 0.034584,
     "end_time": "2025-07-30T21:32:21.239540",
     "exception": false,
     "start_time": "2025-07-30T21:32:21.204956",
     "status": "completed"
    },
    "tags": []
   },
   "outputs": [],
   "source": [
    "X_train = X_train[keep_mask]"
   ]
  },
  {
   "cell_type": "code",
   "execution_count": 40,
   "id": "b202bb3a",
   "metadata": {
    "execution": {
     "iopub.execute_input": "2025-07-30T21:32:21.288905Z",
     "iopub.status.busy": "2025-07-30T21:32:21.288381Z",
     "iopub.status.idle": "2025-07-30T21:32:21.294927Z",
     "shell.execute_reply": "2025-07-30T21:32:21.293950Z"
    },
    "papermill": {
     "duration": 0.033102,
     "end_time": "2025-07-30T21:32:21.296471",
     "exception": false,
     "start_time": "2025-07-30T21:32:21.263369",
     "status": "completed"
    },
    "tags": []
   },
   "outputs": [],
   "source": [
    "y_train = y_train[keep_mask]"
   ]
  },
  {
   "cell_type": "markdown",
   "id": "493e2ac3",
   "metadata": {
    "papermill": {
     "duration": 0.013835,
     "end_time": "2025-07-30T21:32:21.323311",
     "exception": false,
     "start_time": "2025-07-30T21:32:21.309476",
     "status": "completed"
    },
    "tags": []
   },
   "source": [
    "# Model Training"
   ]
  },
  {
   "cell_type": "code",
   "execution_count": 41,
   "id": "679e1268",
   "metadata": {
    "execution": {
     "iopub.execute_input": "2025-07-30T21:32:21.350201Z",
     "iopub.status.busy": "2025-07-30T21:32:21.349835Z",
     "iopub.status.idle": "2025-07-30T21:32:21.457627Z",
     "shell.execute_reply": "2025-07-30T21:32:21.456584Z"
    },
    "papermill": {
     "duration": 0.123702,
     "end_time": "2025-07-30T21:32:21.459558",
     "exception": false,
     "start_time": "2025-07-30T21:32:21.335856",
     "status": "completed"
    },
    "tags": []
   },
   "outputs": [],
   "source": [
    "from sklearn.linear_model import LogisticRegression\n",
    "from sklearn.ensemble import GradientBoostingClassifier, RandomForestClassifier\n",
    "\n",
    "if (universe[\"model\"] == \"logreg\"):\n",
    "    model = LogisticRegression() #penalty=\"none\") #, solver=\"newton-cg\", max_iter=1) # include random_state=19 ?\n",
    "elif (universe[\"model\"] == \"penalized_logreg\"):\n",
    "    model = LogisticRegression(penalty=\"l2\", C=1.0) #, solver=\"newton-cg\", max_iter=1)\n",
    "elif (universe[\"model\"] == \"rf\"):\n",
    "    model = RandomForestClassifier(n_estimators=100, n_jobs=-1)\n",
    "elif (universe[\"model\"] == \"gbm\"):\n",
    "    model = GradientBoostingClassifier()\n",
    "elif (universe[\"model\"] == \"elasticnet\"):\n",
    "    model = LogisticRegression(penalty = 'elasticnet', solver = 'saga', l1_ratio = 0.5, max_iter=5000) # which solver to use?\n",
    "else:\n",
    "    raise \"Unsupported universe.model\""
   ]
  },
  {
   "cell_type": "code",
   "execution_count": 42,
   "id": "0cc8f744",
   "metadata": {
    "execution": {
     "iopub.execute_input": "2025-07-30T21:32:21.516356Z",
     "iopub.status.busy": "2025-07-30T21:32:21.515706Z",
     "iopub.status.idle": "2025-07-30T21:32:21.523729Z",
     "shell.execute_reply": "2025-07-30T21:32:21.522600Z"
    },
    "papermill": {
     "duration": 0.032385,
     "end_time": "2025-07-30T21:32:21.525672",
     "exception": false,
     "start_time": "2025-07-30T21:32:21.493287",
     "status": "completed"
    },
    "tags": []
   },
   "outputs": [],
   "source": [
    "import numpy as np\n",
    "from sklearn.pipeline import Pipeline\n",
    "from sklearn.preprocessing import StandardScaler\n",
    "\n",
    "model = Pipeline([\n",
    "    #(\"continuous_processor\", continuous_processor),\n",
    "    #(\"categorical_preprocessor\", categorical_preprocessor),\n",
    "    (\"scale\", StandardScaler() if universe[\"scale\"] == \"scale\" else None), \n",
    "    (\"model\", model),\n",
    "])"
   ]
  },
  {
   "cell_type": "code",
   "execution_count": 43,
   "id": "9442c04d",
   "metadata": {
    "execution": {
     "iopub.execute_input": "2025-07-30T21:32:21.577386Z",
     "iopub.status.busy": "2025-07-30T21:32:21.576618Z",
     "iopub.status.idle": "2025-07-30T21:32:41.475052Z",
     "shell.execute_reply": "2025-07-30T21:32:41.474008Z"
    },
    "papermill": {
     "duration": 19.925883,
     "end_time": "2025-07-30T21:32:41.476823",
     "exception": false,
     "start_time": "2025-07-30T21:32:21.550940",
     "status": "completed"
    },
    "tags": []
   },
   "outputs": [
    {
     "name": "stderr",
     "output_type": "stream",
     "text": [
      "/dss/dsshome1/0C/ra93lal2/.local/share/virtualenvs/CMA_Fairness_v2-3j10GkSs/lib/python3.10/site-packages/sklearn/linear_model/_sag.py:350: ConvergenceWarning: The max_iter was reached which means the coef_ did not converge\n",
      "  warnings.warn(\n"
     ]
    },
    {
     "data": {
      "text/html": [
       "<style>#sk-container-id-1 {color: black;background-color: white;}#sk-container-id-1 pre{padding: 0;}#sk-container-id-1 div.sk-toggleable {background-color: white;}#sk-container-id-1 label.sk-toggleable__label {cursor: pointer;display: block;width: 100%;margin-bottom: 0;padding: 0.3em;box-sizing: border-box;text-align: center;}#sk-container-id-1 label.sk-toggleable__label-arrow:before {content: \"▸\";float: left;margin-right: 0.25em;color: #696969;}#sk-container-id-1 label.sk-toggleable__label-arrow:hover:before {color: black;}#sk-container-id-1 div.sk-estimator:hover label.sk-toggleable__label-arrow:before {color: black;}#sk-container-id-1 div.sk-toggleable__content {max-height: 0;max-width: 0;overflow: hidden;text-align: left;background-color: #f0f8ff;}#sk-container-id-1 div.sk-toggleable__content pre {margin: 0.2em;color: black;border-radius: 0.25em;background-color: #f0f8ff;}#sk-container-id-1 input.sk-toggleable__control:checked~div.sk-toggleable__content {max-height: 200px;max-width: 100%;overflow: auto;}#sk-container-id-1 input.sk-toggleable__control:checked~label.sk-toggleable__label-arrow:before {content: \"▾\";}#sk-container-id-1 div.sk-estimator input.sk-toggleable__control:checked~label.sk-toggleable__label {background-color: #d4ebff;}#sk-container-id-1 div.sk-label input.sk-toggleable__control:checked~label.sk-toggleable__label {background-color: #d4ebff;}#sk-container-id-1 input.sk-hidden--visually {border: 0;clip: rect(1px 1px 1px 1px);clip: rect(1px, 1px, 1px, 1px);height: 1px;margin: -1px;overflow: hidden;padding: 0;position: absolute;width: 1px;}#sk-container-id-1 div.sk-estimator {font-family: monospace;background-color: #f0f8ff;border: 1px dotted black;border-radius: 0.25em;box-sizing: border-box;margin-bottom: 0.5em;}#sk-container-id-1 div.sk-estimator:hover {background-color: #d4ebff;}#sk-container-id-1 div.sk-parallel-item::after {content: \"\";width: 100%;border-bottom: 1px solid gray;flex-grow: 1;}#sk-container-id-1 div.sk-label:hover label.sk-toggleable__label {background-color: #d4ebff;}#sk-container-id-1 div.sk-serial::before {content: \"\";position: absolute;border-left: 1px solid gray;box-sizing: border-box;top: 0;bottom: 0;left: 50%;z-index: 0;}#sk-container-id-1 div.sk-serial {display: flex;flex-direction: column;align-items: center;background-color: white;padding-right: 0.2em;padding-left: 0.2em;position: relative;}#sk-container-id-1 div.sk-item {position: relative;z-index: 1;}#sk-container-id-1 div.sk-parallel {display: flex;align-items: stretch;justify-content: center;background-color: white;position: relative;}#sk-container-id-1 div.sk-item::before, #sk-container-id-1 div.sk-parallel-item::before {content: \"\";position: absolute;border-left: 1px solid gray;box-sizing: border-box;top: 0;bottom: 0;left: 50%;z-index: -1;}#sk-container-id-1 div.sk-parallel-item {display: flex;flex-direction: column;z-index: 1;position: relative;background-color: white;}#sk-container-id-1 div.sk-parallel-item:first-child::after {align-self: flex-end;width: 50%;}#sk-container-id-1 div.sk-parallel-item:last-child::after {align-self: flex-start;width: 50%;}#sk-container-id-1 div.sk-parallel-item:only-child::after {width: 0;}#sk-container-id-1 div.sk-dashed-wrapped {border: 1px dashed gray;margin: 0 0.4em 0.5em 0.4em;box-sizing: border-box;padding-bottom: 0.4em;background-color: white;}#sk-container-id-1 div.sk-label label {font-family: monospace;font-weight: bold;display: inline-block;line-height: 1.2em;}#sk-container-id-1 div.sk-label-container {text-align: center;}#sk-container-id-1 div.sk-container {/* jupyter's `normalize.less` sets `[hidden] { display: none; }` but bootstrap.min.css set `[hidden] { display: none !important; }` so we also need the `!important` here to be able to override the default hidden behavior on the sphinx rendered scikit-learn.org. See: https://github.com/scikit-learn/scikit-learn/issues/21755 */display: inline-block !important;position: relative;}#sk-container-id-1 div.sk-text-repr-fallback {display: none;}</style><div id=\"sk-container-id-1\" class=\"sk-top-container\"><div class=\"sk-text-repr-fallback\"><pre>Pipeline(steps=[(&#x27;scale&#x27;, None),\n",
       "                (&#x27;model&#x27;,\n",
       "                 LogisticRegression(l1_ratio=0.5, max_iter=5000,\n",
       "                                    penalty=&#x27;elasticnet&#x27;, solver=&#x27;saga&#x27;))])</pre><b>In a Jupyter environment, please rerun this cell to show the HTML representation or trust the notebook. <br />On GitHub, the HTML representation is unable to render, please try loading this page with nbviewer.org.</b></div><div class=\"sk-container\" hidden><div class=\"sk-item sk-dashed-wrapped\"><div class=\"sk-label-container\"><div class=\"sk-label sk-toggleable\"><input class=\"sk-toggleable__control sk-hidden--visually\" id=\"sk-estimator-id-1\" type=\"checkbox\" ><label for=\"sk-estimator-id-1\" class=\"sk-toggleable__label sk-toggleable__label-arrow\">Pipeline</label><div class=\"sk-toggleable__content\"><pre>Pipeline(steps=[(&#x27;scale&#x27;, None),\n",
       "                (&#x27;model&#x27;,\n",
       "                 LogisticRegression(l1_ratio=0.5, max_iter=5000,\n",
       "                                    penalty=&#x27;elasticnet&#x27;, solver=&#x27;saga&#x27;))])</pre></div></div></div><div class=\"sk-serial\"><div class=\"sk-item\"><div class=\"sk-estimator sk-toggleable\"><input class=\"sk-toggleable__control sk-hidden--visually\" id=\"sk-estimator-id-2\" type=\"checkbox\" ><label for=\"sk-estimator-id-2\" class=\"sk-toggleable__label sk-toggleable__label-arrow\">None</label><div class=\"sk-toggleable__content\"><pre>None</pre></div></div></div><div class=\"sk-item\"><div class=\"sk-estimator sk-toggleable\"><input class=\"sk-toggleable__control sk-hidden--visually\" id=\"sk-estimator-id-3\" type=\"checkbox\" ><label for=\"sk-estimator-id-3\" class=\"sk-toggleable__label sk-toggleable__label-arrow\">LogisticRegression</label><div class=\"sk-toggleable__content\"><pre>LogisticRegression(l1_ratio=0.5, max_iter=5000, penalty=&#x27;elasticnet&#x27;,\n",
       "                   solver=&#x27;saga&#x27;)</pre></div></div></div></div></div></div></div>"
      ],
      "text/plain": [
       "Pipeline(steps=[('scale', None),\n",
       "                ('model',\n",
       "                 LogisticRegression(l1_ratio=0.5, max_iter=5000,\n",
       "                                    penalty='elasticnet', solver='saga'))])"
      ]
     },
     "execution_count": 43,
     "metadata": {},
     "output_type": "execute_result"
    }
   ],
   "source": [
    "model.fit(X_train, y_train.values.ravel())"
   ]
  },
  {
   "cell_type": "code",
   "execution_count": 44,
   "id": "af59f8c0",
   "metadata": {
    "execution": {
     "iopub.execute_input": "2025-07-30T21:32:41.528008Z",
     "iopub.status.busy": "2025-07-30T21:32:41.527530Z",
     "iopub.status.idle": "2025-07-30T21:32:41.533190Z",
     "shell.execute_reply": "2025-07-30T21:32:41.532196Z"
    },
    "papermill": {
     "duration": 0.029258,
     "end_time": "2025-07-30T21:32:41.534602",
     "exception": false,
     "start_time": "2025-07-30T21:32:41.505344",
     "status": "completed"
    },
    "tags": []
   },
   "outputs": [],
   "source": [
    "from fairness_multiverse.universe import predict_w_threshold"
   ]
  },
  {
   "cell_type": "code",
   "execution_count": 45,
   "id": "a7cf2e16",
   "metadata": {
    "execution": {
     "iopub.execute_input": "2025-07-30T21:32:41.581292Z",
     "iopub.status.busy": "2025-07-30T21:32:41.580518Z",
     "iopub.status.idle": "2025-07-30T21:32:41.678227Z",
     "shell.execute_reply": "2025-07-30T21:32:41.677124Z"
    },
    "papermill": {
     "duration": 0.122422,
     "end_time": "2025-07-30T21:32:41.680111",
     "exception": false,
     "start_time": "2025-07-30T21:32:41.557689",
     "status": "completed"
    },
    "tags": []
   },
   "outputs": [
    {
     "data": {
      "text/plain": [
       "0.8550663248244343"
      ]
     },
     "execution_count": 45,
     "metadata": {},
     "output_type": "execute_result"
    }
   ],
   "source": [
    "probs_test = model.predict_proba(X_test)\n",
    "\n",
    "'''\n",
    "Below code returns a boolean array (or binary 0/1 array depending on how it’s used) where each element \n",
    "is True if the probability of class 1 is greater than or equal to the threshold, and False otherwise.\n",
    "'''\n",
    "y_pred_default = predict_w_threshold(probs_test, 0.5)\n",
    "\n",
    "from sklearn.metrics import accuracy_score\n",
    "\n",
    "# Naive prediction\n",
    "accuracy_score(y_true = y_true, y_pred = y_pred_default)"
   ]
  },
  {
   "cell_type": "code",
   "execution_count": 46,
   "id": "081964c3",
   "metadata": {
    "execution": {
     "iopub.execute_input": "2025-07-30T21:32:41.725760Z",
     "iopub.status.busy": "2025-07-30T21:32:41.725183Z",
     "iopub.status.idle": "2025-07-30T21:32:41.804465Z",
     "shell.execute_reply": "2025-07-30T21:32:41.803490Z"
    },
    "papermill": {
     "duration": 0.103656,
     "end_time": "2025-07-30T21:32:41.806461",
     "exception": false,
     "start_time": "2025-07-30T21:32:41.702805",
     "status": "completed"
    },
    "tags": []
   },
   "outputs": [
    {
     "data": {
      "text/plain": [
       "array([0, 0, 0, ..., 0, 0, 0])"
      ]
     },
     "execution_count": 46,
     "metadata": {},
     "output_type": "execute_result"
    }
   ],
   "source": [
    "model.predict(X_test)"
   ]
  },
  {
   "cell_type": "markdown",
   "id": "56c9705b",
   "metadata": {
    "papermill": {
     "duration": 0.021549,
     "end_time": "2025-07-30T21:32:41.852911",
     "exception": false,
     "start_time": "2025-07-30T21:32:41.831362",
     "status": "completed"
    },
    "tags": []
   },
   "source": [
    "# Conformal Prediction"
   ]
  },
  {
   "cell_type": "code",
   "execution_count": 47,
   "id": "160ec6ff",
   "metadata": {
    "execution": {
     "iopub.execute_input": "2025-07-30T21:32:41.897121Z",
     "iopub.status.busy": "2025-07-30T21:32:41.896575Z",
     "iopub.status.idle": "2025-07-30T21:32:41.901507Z",
     "shell.execute_reply": "2025-07-30T21:32:41.900609Z"
    },
    "papermill": {
     "duration": 0.029223,
     "end_time": "2025-07-30T21:32:41.903194",
     "exception": false,
     "start_time": "2025-07-30T21:32:41.873971",
     "status": "completed"
    },
    "tags": []
   },
   "outputs": [],
   "source": [
    "# Miscoverage level for conformal prediction (10% allowed error rate => 90% target coverage)\n",
    "alpha = 0.1"
   ]
  },
  {
   "cell_type": "code",
   "execution_count": 48,
   "id": "eadf4555-3dd3-440e-8e35-f82a4ad9f855",
   "metadata": {
    "execution": {
     "iopub.execute_input": "2025-07-30T21:32:41.949157Z",
     "iopub.status.busy": "2025-07-30T21:32:41.948426Z",
     "iopub.status.idle": "2025-07-30T21:32:42.025482Z",
     "shell.execute_reply": "2025-07-30T21:32:42.024582Z"
    },
    "papermill": {
     "duration": 0.102293,
     "end_time": "2025-07-30T21:32:42.027391",
     "exception": false,
     "start_time": "2025-07-30T21:32:41.925098",
     "status": "completed"
    },
    "tags": []
   },
   "outputs": [],
   "source": [
    "probs_calib = model.predict_proba(X_calib)"
   ]
  },
  {
   "cell_type": "code",
   "execution_count": 49,
   "id": "2ed93547-6d5d-4983-9b36-1ecb300da49a",
   "metadata": {
    "execution": {
     "iopub.execute_input": "2025-07-30T21:32:42.078257Z",
     "iopub.status.busy": "2025-07-30T21:32:42.076783Z",
     "iopub.status.idle": "2025-07-30T21:32:42.083590Z",
     "shell.execute_reply": "2025-07-30T21:32:42.082668Z"
    },
    "papermill": {
     "duration": 0.033921,
     "end_time": "2025-07-30T21:32:42.085329",
     "exception": false,
     "start_time": "2025-07-30T21:32:42.051408",
     "status": "completed"
    },
    "tags": []
   },
   "outputs": [],
   "source": [
    "y_calib = y_calib.values.ravel().astype(int)"
   ]
  },
  {
   "cell_type": "code",
   "execution_count": 50,
   "id": "65d1320d-f588-4b38-9072-62af1ae97f7d",
   "metadata": {
    "execution": {
     "iopub.execute_input": "2025-07-30T21:32:42.134025Z",
     "iopub.status.busy": "2025-07-30T21:32:42.133203Z",
     "iopub.status.idle": "2025-07-30T21:32:42.140341Z",
     "shell.execute_reply": "2025-07-30T21:32:42.139312Z"
    },
    "papermill": {
     "duration": 0.032076,
     "end_time": "2025-07-30T21:32:42.142087",
     "exception": false,
     "start_time": "2025-07-30T21:32:42.110011",
     "status": "completed"
    },
    "tags": []
   },
   "outputs": [],
   "source": [
    "from fairness_multiverse.conformal import compute_nc_scores\n",
    "\n",
    "# Compute nonconformity scores on calibration set (1 - probability of true class)\n",
    "nc_scores = compute_nc_scores(probs_calib, y_calib)"
   ]
  },
  {
   "cell_type": "code",
   "execution_count": 51,
   "id": "df3b8ca3-53b7-43d5-9667-7c85da7aeda2",
   "metadata": {
    "execution": {
     "iopub.execute_input": "2025-07-30T21:32:42.188478Z",
     "iopub.status.busy": "2025-07-30T21:32:42.187939Z",
     "iopub.status.idle": "2025-07-30T21:32:42.194623Z",
     "shell.execute_reply": "2025-07-30T21:32:42.193623Z"
    },
    "papermill": {
     "duration": 0.031703,
     "end_time": "2025-07-30T21:32:42.196259",
     "exception": false,
     "start_time": "2025-07-30T21:32:42.164556",
     "status": "completed"
    },
    "tags": []
   },
   "outputs": [],
   "source": [
    "from fairness_multiverse.conformal import find_threshold\n",
    "\n",
    "# Find conformal threshold q_hat for the given alpha (split conformal method)\n",
    "q_hat = find_threshold(nc_scores, alpha)"
   ]
  },
  {
   "cell_type": "code",
   "execution_count": 52,
   "id": "4d29e6c1-0ef6-4aa4-b8fe-4fe79b0d033a",
   "metadata": {
    "execution": {
     "iopub.execute_input": "2025-07-30T21:32:42.246066Z",
     "iopub.status.busy": "2025-07-30T21:32:42.245420Z",
     "iopub.status.idle": "2025-07-30T21:32:42.252923Z",
     "shell.execute_reply": "2025-07-30T21:32:42.252067Z"
    },
    "papermill": {
     "duration": 0.033558,
     "end_time": "2025-07-30T21:32:42.254470",
     "exception": false,
     "start_time": "2025-07-30T21:32:42.220912",
     "status": "completed"
    },
    "tags": []
   },
   "outputs": [
    {
     "data": {
      "text/plain": [
       "0.6847248536100214"
      ]
     },
     "execution_count": 52,
     "metadata": {},
     "output_type": "execute_result"
    }
   ],
   "source": [
    "q_hat"
   ]
  },
  {
   "cell_type": "code",
   "execution_count": 53,
   "id": "92460794-cdac-4be2-ba28-f28c0515a6fb",
   "metadata": {
    "execution": {
     "iopub.execute_input": "2025-07-30T21:32:42.302086Z",
     "iopub.status.busy": "2025-07-30T21:32:42.301639Z",
     "iopub.status.idle": "2025-07-30T21:32:43.046267Z",
     "shell.execute_reply": "2025-07-30T21:32:43.045376Z"
    },
    "papermill": {
     "duration": 0.770085,
     "end_time": "2025-07-30T21:32:43.047950",
     "exception": false,
     "start_time": "2025-07-30T21:32:42.277865",
     "status": "completed"
    },
    "tags": []
   },
   "outputs": [],
   "source": [
    "from fairness_multiverse.conformal import predict_conformal_sets\n",
    "\n",
    "# Generate prediction sets for each test example\n",
    "pred_sets = predict_conformal_sets(model, X_test, q_hat)"
   ]
  },
  {
   "cell_type": "code",
   "execution_count": 54,
   "id": "d90c9a65-e6db-4f5d-80cd-e68fb7e46829",
   "metadata": {
    "execution": {
     "iopub.execute_input": "2025-07-30T21:32:43.095666Z",
     "iopub.status.busy": "2025-07-30T21:32:43.095127Z",
     "iopub.status.idle": "2025-07-30T21:32:43.100158Z",
     "shell.execute_reply": "2025-07-30T21:32:43.099212Z"
    },
    "papermill": {
     "duration": 0.030166,
     "end_time": "2025-07-30T21:32:43.101893",
     "exception": false,
     "start_time": "2025-07-30T21:32:43.071727",
     "status": "completed"
    },
    "tags": []
   },
   "outputs": [],
   "source": [
    "y_true = y_true.squeeze()"
   ]
  },
  {
   "cell_type": "code",
   "execution_count": 55,
   "id": "3a58a54a-1e68-46b9-927a-df01f18aebc8",
   "metadata": {
    "execution": {
     "iopub.execute_input": "2025-07-30T21:32:43.149825Z",
     "iopub.status.busy": "2025-07-30T21:32:43.149507Z",
     "iopub.status.idle": "2025-07-30T21:32:44.039403Z",
     "shell.execute_reply": "2025-07-30T21:32:44.038457Z"
    },
    "papermill": {
     "duration": 0.916249,
     "end_time": "2025-07-30T21:32:44.041109",
     "exception": false,
     "start_time": "2025-07-30T21:32:43.124860",
     "status": "completed"
    },
    "tags": []
   },
   "outputs": [],
   "source": [
    "from fairness_multiverse.conformal import evaluate_sets\n",
    "\n",
    "# Evaluate coverage and average set size on test data\n",
    "metrics = evaluate_sets(pred_sets, y_true)"
   ]
  },
  {
   "cell_type": "markdown",
   "id": "2b569c12-9aaa-4c88-98c9-bbcd0cf3ebb8",
   "metadata": {
    "papermill": {
     "duration": 0.022295,
     "end_time": "2025-07-30T21:32:44.087065",
     "exception": false,
     "start_time": "2025-07-30T21:32:44.064770",
     "status": "completed"
    },
    "tags": []
   },
   "source": [
    "# CP Metrics"
   ]
  },
  {
   "cell_type": "code",
   "execution_count": 56,
   "id": "5ce0a5cb-201f-45a0-ade5-94c7f0bd6095",
   "metadata": {
    "execution": {
     "iopub.execute_input": "2025-07-30T21:32:44.133374Z",
     "iopub.status.busy": "2025-07-30T21:32:44.132807Z",
     "iopub.status.idle": "2025-07-30T21:32:44.139299Z",
     "shell.execute_reply": "2025-07-30T21:32:44.138520Z"
    },
    "papermill": {
     "duration": 0.031315,
     "end_time": "2025-07-30T21:32:44.140784",
     "exception": false,
     "start_time": "2025-07-30T21:32:44.109469",
     "status": "completed"
    },
    "tags": []
   },
   "outputs": [
    {
     "data": {
      "text/plain": [
       "{'coverage': 0.9102775610299855, 'avg_size': 1.227176457474083}"
      ]
     },
     "execution_count": 56,
     "metadata": {},
     "output_type": "execute_result"
    }
   ],
   "source": [
    "metrics"
   ]
  },
  {
   "cell_type": "code",
   "execution_count": 57,
   "id": "9b9a838d-31c9-430b-ae14-12baee460d17",
   "metadata": {
    "execution": {
     "iopub.execute_input": "2025-07-30T21:32:44.188657Z",
     "iopub.status.busy": "2025-07-30T21:32:44.187942Z",
     "iopub.status.idle": "2025-07-30T21:32:44.194118Z",
     "shell.execute_reply": "2025-07-30T21:32:44.193368Z"
    },
    "papermill": {
     "duration": 0.032034,
     "end_time": "2025-07-30T21:32:44.195537",
     "exception": false,
     "start_time": "2025-07-30T21:32:44.163503",
     "status": "completed"
    },
    "tags": []
   },
   "outputs": [],
   "source": [
    "example_universe = universe.copy()\n",
    "universe_training_year = example_universe.get(\"training_year\")\n",
    "universe_training_size = example_universe.get(\"training_size\")\n",
    "universe_scale = example_universe.get(\"scale\")\n",
    "universe_model = example_universe.get(\"model\")\n",
    "universe_exclude_features = example_universe.get(\"exclude_features\")\n",
    "universe_exclude_subgroups = example_universe.get(\"exclude_subgroups\")"
   ]
  },
  {
   "cell_type": "code",
   "execution_count": 58,
   "id": "f4b6a8ac-9dc0-4245-8a91-5b3b5999c4f9",
   "metadata": {
    "execution": {
     "iopub.execute_input": "2025-07-30T21:32:44.242784Z",
     "iopub.status.busy": "2025-07-30T21:32:44.242120Z",
     "iopub.status.idle": "2025-07-30T21:32:44.247770Z",
     "shell.execute_reply": "2025-07-30T21:32:44.246976Z"
    },
    "papermill": {
     "duration": 0.030876,
     "end_time": "2025-07-30T21:32:44.249402",
     "exception": false,
     "start_time": "2025-07-30T21:32:44.218526",
     "status": "completed"
    },
    "tags": []
   },
   "outputs": [],
   "source": [
    "cp_metrics_dict = {\n",
    "    \"universe_id\": [universe_id],\n",
    "    \"universe_training_year\": [universe_training_year],\n",
    "    \"universe_training_size\": [universe_training_size],\n",
    "    \"universe_scale\": [universe_scale],\n",
    "    \"universe_model\": [universe_model],\n",
    "    \"universe_exclude_features\": [universe_exclude_features],\n",
    "    \"universe_exclude_subgroups\": [universe_exclude_subgroups],\n",
    "    \"q_hat\": [q_hat],\n",
    "    \"coverage\": [metrics[\"coverage\"]],\n",
    "    \"avg_size\": [metrics[\"avg_size\"]],\n",
    "}"
   ]
  },
  {
   "cell_type": "code",
   "execution_count": 59,
   "id": "908acbb1-0371-4915-85ca-3fa520d2efe2",
   "metadata": {
    "execution": {
     "iopub.execute_input": "2025-07-30T21:32:44.296070Z",
     "iopub.status.busy": "2025-07-30T21:32:44.295364Z",
     "iopub.status.idle": "2025-07-30T21:32:44.301691Z",
     "shell.execute_reply": "2025-07-30T21:32:44.300853Z"
    },
    "papermill": {
     "duration": 0.031118,
     "end_time": "2025-07-30T21:32:44.303284",
     "exception": false,
     "start_time": "2025-07-30T21:32:44.272166",
     "status": "completed"
    },
    "tags": []
   },
   "outputs": [
    {
     "data": {
      "text/plain": [
       "{'universe_id': ['1ed95d782de6a7539f6245172a7722f6'],\n",
       " 'universe_training_year': ['2014'],\n",
       " 'universe_training_size': ['1k'],\n",
       " 'universe_scale': ['do-not-scale'],\n",
       " 'universe_model': ['elasticnet'],\n",
       " 'universe_exclude_features': ['sex'],\n",
       " 'universe_exclude_subgroups': ['keep-all'],\n",
       " 'q_hat': [0.6847248536100214],\n",
       " 'coverage': [0.9102775610299855],\n",
       " 'avg_size': [1.227176457474083]}"
      ]
     },
     "execution_count": 59,
     "metadata": {},
     "output_type": "execute_result"
    }
   ],
   "source": [
    "cp_metrics_dict"
   ]
  },
  {
   "cell_type": "code",
   "execution_count": 60,
   "id": "33007efc-14e9-4ec6-97ac-56a455c82265",
   "metadata": {
    "execution": {
     "iopub.execute_input": "2025-07-30T21:32:44.350385Z",
     "iopub.status.busy": "2025-07-30T21:32:44.349780Z",
     "iopub.status.idle": "2025-07-30T21:32:44.355420Z",
     "shell.execute_reply": "2025-07-30T21:32:44.354517Z"
    },
    "papermill": {
     "duration": 0.030515,
     "end_time": "2025-07-30T21:32:44.356891",
     "exception": false,
     "start_time": "2025-07-30T21:32:44.326376",
     "status": "completed"
    },
    "tags": []
   },
   "outputs": [],
   "source": [
    "cp_metrics_df = pd.DataFrame(cp_metrics_dict)"
   ]
  },
  {
   "cell_type": "code",
   "execution_count": 61,
   "id": "db12611b-57b2-4910-b9d0-355adfd6e7bf",
   "metadata": {
    "execution": {
     "iopub.execute_input": "2025-07-30T21:32:44.403955Z",
     "iopub.status.busy": "2025-07-30T21:32:44.403293Z",
     "iopub.status.idle": "2025-07-30T21:32:44.419960Z",
     "shell.execute_reply": "2025-07-30T21:32:44.419173Z"
    },
    "papermill": {
     "duration": 0.041545,
     "end_time": "2025-07-30T21:32:44.421381",
     "exception": false,
     "start_time": "2025-07-30T21:32:44.379836",
     "status": "completed"
    },
    "tags": []
   },
   "outputs": [
    {
     "data": {
      "text/html": [
       "<div>\n",
       "<style scoped>\n",
       "    .dataframe tbody tr th:only-of-type {\n",
       "        vertical-align: middle;\n",
       "    }\n",
       "\n",
       "    .dataframe tbody tr th {\n",
       "        vertical-align: top;\n",
       "    }\n",
       "\n",
       "    .dataframe thead th {\n",
       "        text-align: right;\n",
       "    }\n",
       "</style>\n",
       "<table border=\"1\" class=\"dataframe\">\n",
       "  <thead>\n",
       "    <tr style=\"text-align: right;\">\n",
       "      <th></th>\n",
       "      <th>universe_id</th>\n",
       "      <th>universe_training_year</th>\n",
       "      <th>universe_training_size</th>\n",
       "      <th>universe_scale</th>\n",
       "      <th>universe_model</th>\n",
       "      <th>universe_exclude_features</th>\n",
       "      <th>universe_exclude_subgroups</th>\n",
       "      <th>q_hat</th>\n",
       "      <th>coverage</th>\n",
       "      <th>avg_size</th>\n",
       "    </tr>\n",
       "  </thead>\n",
       "  <tbody>\n",
       "    <tr>\n",
       "      <th>0</th>\n",
       "      <td>1ed95d782de6a7539f6245172a7722f6</td>\n",
       "      <td>2014</td>\n",
       "      <td>1k</td>\n",
       "      <td>do-not-scale</td>\n",
       "      <td>elasticnet</td>\n",
       "      <td>sex</td>\n",
       "      <td>keep-all</td>\n",
       "      <td>0.684725</td>\n",
       "      <td>0.910278</td>\n",
       "      <td>1.227176</td>\n",
       "    </tr>\n",
       "  </tbody>\n",
       "</table>\n",
       "</div>"
      ],
      "text/plain": [
       "                        universe_id universe_training_year  \\\n",
       "0  1ed95d782de6a7539f6245172a7722f6                   2014   \n",
       "\n",
       "  universe_training_size universe_scale universe_model  \\\n",
       "0                     1k   do-not-scale     elasticnet   \n",
       "\n",
       "  universe_exclude_features universe_exclude_subgroups     q_hat  coverage  \\\n",
       "0                       sex                   keep-all  0.684725  0.910278   \n",
       "\n",
       "   avg_size  \n",
       "0  1.227176  "
      ]
     },
     "execution_count": 61,
     "metadata": {},
     "output_type": "execute_result"
    }
   ],
   "source": [
    "cp_metrics_df"
   ]
  },
  {
   "cell_type": "code",
   "execution_count": 62,
   "id": "b7fbde55-a0a1-47e4-9af6-fe4a17fa8c61",
   "metadata": {
    "execution": {
     "iopub.execute_input": "2025-07-30T21:32:44.469116Z",
     "iopub.status.busy": "2025-07-30T21:32:44.468433Z",
     "iopub.status.idle": "2025-07-30T21:32:44.472773Z",
     "shell.execute_reply": "2025-07-30T21:32:44.471932Z"
    },
    "papermill": {
     "duration": 0.029449,
     "end_time": "2025-07-30T21:32:44.474218",
     "exception": false,
     "start_time": "2025-07-30T21:32:44.444769",
     "status": "completed"
    },
    "tags": []
   },
   "outputs": [],
   "source": [
    "# Conditional Coverage & looking at subgroups"
   ]
  },
  {
   "cell_type": "code",
   "execution_count": 63,
   "id": "027ae886-68dd-4141-96c7-805a5450e1ef",
   "metadata": {
    "execution": {
     "iopub.execute_input": "2025-07-30T21:32:44.521553Z",
     "iopub.status.busy": "2025-07-30T21:32:44.521108Z",
     "iopub.status.idle": "2025-07-30T21:32:44.822843Z",
     "shell.execute_reply": "2025-07-30T21:32:44.821978Z"
    },
    "papermill": {
     "duration": 0.327183,
     "end_time": "2025-07-30T21:32:44.824618",
     "exception": false,
     "start_time": "2025-07-30T21:32:44.497435",
     "status": "completed"
    },
    "tags": []
   },
   "outputs": [],
   "source": [
    "from fairness_multiverse.conformal import build_cp_groups\n",
    "\n",
    "cp_groups_df = build_cp_groups(pred_sets, y_true, X_test.index, org_test)\n",
    "#needs universe_id and setting"
   ]
  },
  {
   "cell_type": "code",
   "execution_count": 64,
   "id": "01d5802c-663a-4d1f-9d69-e036faaffbf7",
   "metadata": {
    "execution": {
     "iopub.execute_input": "2025-07-30T21:32:44.876623Z",
     "iopub.status.busy": "2025-07-30T21:32:44.875780Z",
     "iopub.status.idle": "2025-07-30T21:32:44.880405Z",
     "shell.execute_reply": "2025-07-30T21:32:44.879494Z"
    },
    "papermill": {
     "duration": 0.031331,
     "end_time": "2025-07-30T21:32:44.882021",
     "exception": false,
     "start_time": "2025-07-30T21:32:44.850690",
     "status": "completed"
    },
    "tags": []
   },
   "outputs": [],
   "source": [
    "#delete\n",
    "#cp_groups_df"
   ]
  },
  {
   "cell_type": "code",
   "execution_count": 65,
   "id": "fa424af1-d1eb-443d-b717-2d279ada8408",
   "metadata": {
    "execution": {
     "iopub.execute_input": "2025-07-30T21:32:44.931476Z",
     "iopub.status.busy": "2025-07-30T21:32:44.930940Z",
     "iopub.status.idle": "2025-07-30T21:32:44.935294Z",
     "shell.execute_reply": "2025-07-30T21:32:44.934505Z"
    },
    "papermill": {
     "duration": 0.030757,
     "end_time": "2025-07-30T21:32:44.936575",
     "exception": false,
     "start_time": "2025-07-30T21:32:44.905818",
     "status": "completed"
    },
    "tags": []
   },
   "outputs": [],
   "source": [
    "#delete\n",
    "#percentage = (cp_groups_df['nongerman_female'] == 1).mean() * 100\n",
    "#print(percentage)\n"
   ]
  },
  {
   "cell_type": "code",
   "execution_count": 66,
   "id": "6cbdab96-b2b2-45af-ad54-d0516db2e28d",
   "metadata": {
    "execution": {
     "iopub.execute_input": "2025-07-30T21:32:44.970246Z",
     "iopub.status.busy": "2025-07-30T21:32:44.969845Z",
     "iopub.status.idle": "2025-07-30T21:32:46.095974Z",
     "shell.execute_reply": "2025-07-30T21:32:46.095246Z"
    },
    "papermill": {
     "duration": 1.14658,
     "end_time": "2025-07-30T21:32:46.097386",
     "exception": false,
     "start_time": "2025-07-30T21:32:44.950806",
     "status": "completed"
    },
    "tags": []
   },
   "outputs": [],
   "source": [
    "# Define covered = 1 if true_label is in the predicted set\n",
    "cp_groups_df['covered'] = cp_groups_df.apply(\n",
    "    lambda r: int(r['true_label'] in r['pred_set']),\n",
    "    axis=1\n",
    ")"
   ]
  },
  {
   "cell_type": "code",
   "execution_count": 67,
   "id": "338ff529-1a6b-4b87-a931-8e4788d52aad",
   "metadata": {
    "execution": {
     "iopub.execute_input": "2025-07-30T21:32:46.125570Z",
     "iopub.status.busy": "2025-07-30T21:32:46.125093Z",
     "iopub.status.idle": "2025-07-30T21:32:46.129312Z",
     "shell.execute_reply": "2025-07-30T21:32:46.128554Z"
    },
    "papermill": {
     "duration": 0.01944,
     "end_time": "2025-07-30T21:32:46.130706",
     "exception": false,
     "start_time": "2025-07-30T21:32:46.111266",
     "status": "completed"
    },
    "tags": []
   },
   "outputs": [],
   "source": [
    "#cp_groups_df"
   ]
  },
  {
   "cell_type": "code",
   "execution_count": 68,
   "id": "90032e27-66df-4540-9169-4e89cfbaa758",
   "metadata": {
    "execution": {
     "iopub.execute_input": "2025-07-30T21:32:46.158489Z",
     "iopub.status.busy": "2025-07-30T21:32:46.157906Z",
     "iopub.status.idle": "2025-07-30T21:32:46.166124Z",
     "shell.execute_reply": "2025-07-30T21:32:46.165480Z"
    },
    "papermill": {
     "duration": 0.022953,
     "end_time": "2025-07-30T21:32:46.167175",
     "exception": false,
     "start_time": "2025-07-30T21:32:46.144222",
     "status": "completed"
    },
    "tags": []
   },
   "outputs": [],
   "source": [
    "subgroups = ['frau1','nongerman','nongerman_male','nongerman_female']\n",
    "\n",
    "# Conditional coverage for subgroup==1\n",
    "cond_coverage = {\n",
    "    g: cp_groups_df.loc[cp_groups_df[g]==1, 'covered'].mean()\n",
    "    for g in subgroups\n",
    "}"
   ]
  },
  {
   "cell_type": "code",
   "execution_count": 69,
   "id": "1e348fb1-b9c3-45bc-ba23-f016827a7e0d",
   "metadata": {
    "execution": {
     "iopub.execute_input": "2025-07-30T21:32:46.194662Z",
     "iopub.status.busy": "2025-07-30T21:32:46.194126Z",
     "iopub.status.idle": "2025-07-30T21:32:46.200256Z",
     "shell.execute_reply": "2025-07-30T21:32:46.199449Z"
    },
    "papermill": {
     "duration": 0.021101,
     "end_time": "2025-07-30T21:32:46.201577",
     "exception": false,
     "start_time": "2025-07-30T21:32:46.180476",
     "status": "completed"
    },
    "tags": []
   },
   "outputs": [
    {
     "data": {
      "text/plain": [
       "{'frau1': 0.9076425394257986,\n",
       " 'nongerman': 0.9359456576657498,\n",
       " 'nongerman_male': 0.9477618661622985,\n",
       " 'nongerman_female': 0.9163934426229509}"
      ]
     },
     "execution_count": 69,
     "metadata": {},
     "output_type": "execute_result"
    }
   ],
   "source": [
    "cond_coverage"
   ]
  },
  {
   "cell_type": "code",
   "execution_count": 70,
   "id": "f5093324-c3dd-4d63-bc4c-8d945e5c8bbb",
   "metadata": {
    "execution": {
     "iopub.execute_input": "2025-07-30T21:32:46.229911Z",
     "iopub.status.busy": "2025-07-30T21:32:46.229259Z",
     "iopub.status.idle": "2025-07-30T21:32:46.235263Z",
     "shell.execute_reply": "2025-07-30T21:32:46.234506Z"
    },
    "papermill": {
     "duration": 0.021731,
     "end_time": "2025-07-30T21:32:46.236701",
     "exception": false,
     "start_time": "2025-07-30T21:32:46.214970",
     "status": "completed"
    },
    "tags": []
   },
   "outputs": [],
   "source": [
    "for subgroup, cov in cond_coverage.items():\n",
    "    cp_metrics_df[f\"cov_{subgroup}\"] = cov"
   ]
  },
  {
   "cell_type": "code",
   "execution_count": 71,
   "id": "6e872e10-dbe5-49e8-b554-5030c98ff75d",
   "metadata": {
    "execution": {
     "iopub.execute_input": "2025-07-30T21:32:46.266884Z",
     "iopub.status.busy": "2025-07-30T21:32:46.266387Z",
     "iopub.status.idle": "2025-07-30T21:32:46.280654Z",
     "shell.execute_reply": "2025-07-30T21:32:46.279770Z"
    },
    "papermill": {
     "duration": 0.030318,
     "end_time": "2025-07-30T21:32:46.282085",
     "exception": false,
     "start_time": "2025-07-30T21:32:46.251767",
     "status": "completed"
    },
    "tags": []
   },
   "outputs": [
    {
     "data": {
      "text/html": [
       "<div>\n",
       "<style scoped>\n",
       "    .dataframe tbody tr th:only-of-type {\n",
       "        vertical-align: middle;\n",
       "    }\n",
       "\n",
       "    .dataframe tbody tr th {\n",
       "        vertical-align: top;\n",
       "    }\n",
       "\n",
       "    .dataframe thead th {\n",
       "        text-align: right;\n",
       "    }\n",
       "</style>\n",
       "<table border=\"1\" class=\"dataframe\">\n",
       "  <thead>\n",
       "    <tr style=\"text-align: right;\">\n",
       "      <th></th>\n",
       "      <th>universe_id</th>\n",
       "      <th>universe_training_year</th>\n",
       "      <th>universe_training_size</th>\n",
       "      <th>universe_scale</th>\n",
       "      <th>universe_model</th>\n",
       "      <th>universe_exclude_features</th>\n",
       "      <th>universe_exclude_subgroups</th>\n",
       "      <th>q_hat</th>\n",
       "      <th>coverage</th>\n",
       "      <th>avg_size</th>\n",
       "      <th>cov_frau1</th>\n",
       "      <th>cov_nongerman</th>\n",
       "      <th>cov_nongerman_male</th>\n",
       "      <th>cov_nongerman_female</th>\n",
       "    </tr>\n",
       "  </thead>\n",
       "  <tbody>\n",
       "    <tr>\n",
       "      <th>0</th>\n",
       "      <td>1ed95d782de6a7539f6245172a7722f6</td>\n",
       "      <td>2014</td>\n",
       "      <td>1k</td>\n",
       "      <td>do-not-scale</td>\n",
       "      <td>elasticnet</td>\n",
       "      <td>sex</td>\n",
       "      <td>keep-all</td>\n",
       "      <td>0.684725</td>\n",
       "      <td>0.910278</td>\n",
       "      <td>1.227176</td>\n",
       "      <td>0.907643</td>\n",
       "      <td>0.935946</td>\n",
       "      <td>0.947762</td>\n",
       "      <td>0.916393</td>\n",
       "    </tr>\n",
       "  </tbody>\n",
       "</table>\n",
       "</div>"
      ],
      "text/plain": [
       "                        universe_id universe_training_year  \\\n",
       "0  1ed95d782de6a7539f6245172a7722f6                   2014   \n",
       "\n",
       "  universe_training_size universe_scale universe_model  \\\n",
       "0                     1k   do-not-scale     elasticnet   \n",
       "\n",
       "  universe_exclude_features universe_exclude_subgroups     q_hat  coverage  \\\n",
       "0                       sex                   keep-all  0.684725  0.910278   \n",
       "\n",
       "   avg_size  cov_frau1  cov_nongerman  cov_nongerman_male  \\\n",
       "0  1.227176   0.907643       0.935946            0.947762   \n",
       "\n",
       "   cov_nongerman_female  \n",
       "0              0.916393  "
      ]
     },
     "execution_count": 71,
     "metadata": {},
     "output_type": "execute_result"
    }
   ],
   "source": [
    "cp_metrics_df"
   ]
  },
  {
   "cell_type": "markdown",
   "id": "33774451",
   "metadata": {
    "papermill": {
     "duration": 0.01293,
     "end_time": "2025-07-30T21:32:46.309455",
     "exception": false,
     "start_time": "2025-07-30T21:32:46.296525",
     "status": "completed"
    },
    "tags": []
   },
   "source": [
    "# (Fairness) Metrics"
   ]
  },
  {
   "cell_type": "code",
   "execution_count": 72,
   "id": "debc5d62",
   "metadata": {
    "execution": {
     "iopub.execute_input": "2025-07-30T21:32:46.336923Z",
     "iopub.status.busy": "2025-07-30T21:32:46.336128Z",
     "iopub.status.idle": "2025-07-30T21:32:46.349282Z",
     "shell.execute_reply": "2025-07-30T21:32:46.348616Z"
    },
    "papermill": {
     "duration": 0.028227,
     "end_time": "2025-07-30T21:32:46.350621",
     "exception": false,
     "start_time": "2025-07-30T21:32:46.322394",
     "status": "completed"
    },
    "tags": []
   },
   "outputs": [],
   "source": [
    "# do I need to include maxdeutsch1.missing?\n",
    "\n",
    "import numpy as np\n",
    "\n",
    "colname_to_bin = \"maxdeutsch1\"\n",
    "majority_value = org_train[colname_to_bin].mode()[0]\n",
    "\n",
    "org_test[\"majmin\"] = np.where(org_test[colname_to_bin] == majority_value, \"majority\", \"minority\")"
   ]
  },
  {
   "cell_type": "code",
   "execution_count": 73,
   "id": "06a50de5",
   "metadata": {
    "execution": {
     "iopub.execute_input": "2025-07-30T21:32:46.378514Z",
     "iopub.status.busy": "2025-07-30T21:32:46.377925Z",
     "iopub.status.idle": "2025-07-30T21:32:48.067361Z",
     "shell.execute_reply": "2025-07-30T21:32:48.066518Z"
    },
    "papermill": {
     "duration": 1.704957,
     "end_time": "2025-07-30T21:32:48.069091",
     "exception": false,
     "start_time": "2025-07-30T21:32:46.364134",
     "status": "completed"
    },
    "tags": []
   },
   "outputs": [],
   "source": [
    "example_universe = universe.copy()\n",
    "example_universe[\"cutoff\"] = example_universe[\"cutoff\"][0]\n",
    "example_universe[\"eval_fairness_grouping\"] = example_universe[\"eval_fairness_grouping\"][0]\n",
    "fairness_dict, metric_frame = universe_analysis.compute_metrics(\n",
    "    example_universe,\n",
    "    y_pred_prob=probs_test,\n",
    "    y_test=y_true,\n",
    "    org_test=org_test,\n",
    ")"
   ]
  },
  {
   "cell_type": "markdown",
   "id": "f95d4e02",
   "metadata": {
    "papermill": {
     "duration": 0.024269,
     "end_time": "2025-07-30T21:32:48.118853",
     "exception": false,
     "start_time": "2025-07-30T21:32:48.094584",
     "status": "completed"
    },
    "tags": []
   },
   "source": [
    "# Overall"
   ]
  },
  {
   "cell_type": "markdown",
   "id": "bdee4871",
   "metadata": {
    "papermill": {
     "duration": 0.024032,
     "end_time": "2025-07-30T21:32:48.167063",
     "exception": false,
     "start_time": "2025-07-30T21:32:48.143031",
     "status": "completed"
    },
    "tags": []
   },
   "source": [
    "Fairness\n",
    "Main fairness target: Equalized Odds. Seems to be a better fit than equal opportunity, since we're not only interested in Y = 1. Seems to be a better fit than demographic parity, since we also care about accuracy, not just equal distribution of preds.\n",
    "\n",
    "Pick column for computation of fairness metrics\n",
    "\n",
    "Performance\n",
    "Overall performance measures, most interesting in relation to the measures split by group below"
   ]
  },
  {
   "cell_type": "code",
   "execution_count": 74,
   "id": "c4e067c6",
   "metadata": {
    "execution": {
     "iopub.execute_input": "2025-07-30T21:32:48.217313Z",
     "iopub.status.busy": "2025-07-30T21:32:48.216652Z",
     "iopub.status.idle": "2025-07-30T21:32:48.225254Z",
     "shell.execute_reply": "2025-07-30T21:32:48.224436Z"
    },
    "papermill": {
     "duration": 0.035493,
     "end_time": "2025-07-30T21:32:48.226770",
     "exception": false,
     "start_time": "2025-07-30T21:32:48.191277",
     "status": "completed"
    },
    "tags": []
   },
   "outputs": [
    {
     "data": {
      "text/plain": [
       "accuracy                   0.216375\n",
       "balanced accuracy          0.530742\n",
       "f1                         0.237926\n",
       "precision                  0.135919\n",
       "false positive rate        0.892113\n",
       "false negative rate        0.046403\n",
       "selection rate             0.900000\n",
       "count                  89710.000000\n",
       "dtype: float64"
      ]
     },
     "execution_count": 74,
     "metadata": {},
     "output_type": "execute_result"
    }
   ],
   "source": [
    "metric_frame.overall"
   ]
  },
  {
   "cell_type": "markdown",
   "id": "e968fe9d",
   "metadata": {
    "papermill": {
     "duration": 0.024652,
     "end_time": "2025-07-30T21:32:48.276122",
     "exception": false,
     "start_time": "2025-07-30T21:32:48.251470",
     "status": "completed"
    },
    "tags": []
   },
   "source": [
    "By Group"
   ]
  },
  {
   "cell_type": "code",
   "execution_count": 75,
   "id": "ec325bce",
   "metadata": {
    "execution": {
     "iopub.execute_input": "2025-07-30T21:32:48.326068Z",
     "iopub.status.busy": "2025-07-30T21:32:48.325632Z",
     "iopub.status.idle": "2025-07-30T21:32:48.340221Z",
     "shell.execute_reply": "2025-07-30T21:32:48.339281Z"
    },
    "papermill": {
     "duration": 0.041419,
     "end_time": "2025-07-30T21:32:48.341633",
     "exception": false,
     "start_time": "2025-07-30T21:32:48.300214",
     "status": "completed"
    },
    "tags": []
   },
   "outputs": [
    {
     "data": {
      "text/html": [
       "<div>\n",
       "<style scoped>\n",
       "    .dataframe tbody tr th:only-of-type {\n",
       "        vertical-align: middle;\n",
       "    }\n",
       "\n",
       "    .dataframe tbody tr th {\n",
       "        vertical-align: top;\n",
       "    }\n",
       "\n",
       "    .dataframe thead th {\n",
       "        text-align: right;\n",
       "    }\n",
       "</style>\n",
       "<table border=\"1\" class=\"dataframe\">\n",
       "  <thead>\n",
       "    <tr style=\"text-align: right;\">\n",
       "      <th></th>\n",
       "      <th>accuracy</th>\n",
       "      <th>balanced accuracy</th>\n",
       "      <th>f1</th>\n",
       "      <th>precision</th>\n",
       "      <th>false positive rate</th>\n",
       "      <th>false negative rate</th>\n",
       "      <th>selection rate</th>\n",
       "      <th>count</th>\n",
       "    </tr>\n",
       "    <tr>\n",
       "      <th>majmin</th>\n",
       "      <th></th>\n",
       "      <th></th>\n",
       "      <th></th>\n",
       "      <th></th>\n",
       "      <th></th>\n",
       "      <th></th>\n",
       "      <th></th>\n",
       "      <th></th>\n",
       "    </tr>\n",
       "  </thead>\n",
       "  <tbody>\n",
       "    <tr>\n",
       "      <th>majority</th>\n",
       "      <td>0.237487</td>\n",
       "      <td>0.538203</td>\n",
       "      <td>0.247099</td>\n",
       "      <td>0.142088</td>\n",
       "      <td>0.870531</td>\n",
       "      <td>0.053063</td>\n",
       "      <td>0.880627</td>\n",
       "      <td>69170.0</td>\n",
       "    </tr>\n",
       "    <tr>\n",
       "      <th>minority</th>\n",
       "      <td>0.145278</td>\n",
       "      <td>0.507951</td>\n",
       "      <td>0.208975</td>\n",
       "      <td>0.116968</td>\n",
       "      <td>0.963405</td>\n",
       "      <td>0.020693</td>\n",
       "      <td>0.965239</td>\n",
       "      <td>20540.0</td>\n",
       "    </tr>\n",
       "  </tbody>\n",
       "</table>\n",
       "</div>"
      ],
      "text/plain": [
       "          accuracy  balanced accuracy        f1  precision  \\\n",
       "majmin                                                       \n",
       "majority  0.237487           0.538203  0.247099   0.142088   \n",
       "minority  0.145278           0.507951  0.208975   0.116968   \n",
       "\n",
       "          false positive rate  false negative rate  selection rate    count  \n",
       "majmin                                                                       \n",
       "majority             0.870531             0.053063        0.880627  69170.0  \n",
       "minority             0.963405             0.020693        0.965239  20540.0  "
      ]
     },
     "execution_count": 75,
     "metadata": {},
     "output_type": "execute_result"
    }
   ],
   "source": [
    "metric_frame.by_group"
   ]
  },
  {
   "cell_type": "code",
   "execution_count": 76,
   "id": "a9ddbe63",
   "metadata": {
    "execution": {
     "iopub.execute_input": "2025-07-30T21:32:48.394341Z",
     "iopub.status.busy": "2025-07-30T21:32:48.393608Z",
     "iopub.status.idle": "2025-07-30T21:32:50.691959Z",
     "shell.execute_reply": "2025-07-30T21:32:50.691073Z"
    },
    "papermill": {
     "duration": 2.325892,
     "end_time": "2025-07-30T21:32:50.693671",
     "exception": false,
     "start_time": "2025-07-30T21:32:48.367779",
     "status": "completed"
    },
    "tags": []
   },
   "outputs": [
    {
     "data": {
      "text/plain": [
       "array([[<Axes: title={'center': 'accuracy'}, xlabel='majmin'>,\n",
       "        <Axes: title={'center': 'balanced accuracy'}, xlabel='majmin'>,\n",
       "        <Axes: title={'center': 'f1'}, xlabel='majmin'>],\n",
       "       [<Axes: title={'center': 'precision'}, xlabel='majmin'>,\n",
       "        <Axes: title={'center': 'false positive rate'}, xlabel='majmin'>,\n",
       "        <Axes: title={'center': 'false negative rate'}, xlabel='majmin'>],\n",
       "       [<Axes: title={'center': 'selection rate'}, xlabel='majmin'>,\n",
       "        <Axes: title={'center': 'count'}, xlabel='majmin'>,\n",
       "        <Axes: xlabel='majmin'>]], dtype=object)"
      ]
     },
     "execution_count": 76,
     "metadata": {},
     "output_type": "execute_result"
    },
    {
     "data": {
      "image/png": "[encoded data removed]",
      "text/plain": [
       "<Figure size 1200x800 with 9 Axes>"
      ]
     },
     "metadata": {},
     "output_type": "display_data"
    }
   ],
   "source": [
    "# In a graphic\n",
    "metric_frame.by_group.plot.bar(\n",
    "    subplots=True,\n",
    "    layout=[3, 3],\n",
    "    legend=False,\n",
    "    figsize=[12, 8],\n",
    "    title=\"Show all metrics\",\n",
    ")"
   ]
  },
  {
   "cell_type": "markdown",
   "id": "f57a0bac",
   "metadata": {
    "papermill": {
     "duration": 0.032701,
     "end_time": "2025-07-30T21:32:50.758904",
     "exception": false,
     "start_time": "2025-07-30T21:32:50.726203",
     "status": "completed"
    },
    "tags": []
   },
   "source": [
    "# Final Output"
   ]
  },
  {
   "cell_type": "code",
   "execution_count": 77,
   "id": "96d280a3",
   "metadata": {
    "execution": {
     "iopub.execute_input": "2025-07-30T21:32:50.823779Z",
     "iopub.status.busy": "2025-07-30T21:32:50.823125Z",
     "iopub.status.idle": "2025-07-30T21:32:50.831189Z",
     "shell.execute_reply": "2025-07-30T21:32:50.830247Z"
    },
    "papermill": {
     "duration": 0.042065,
     "end_time": "2025-07-30T21:32:50.832736",
     "exception": false,
     "start_time": "2025-07-30T21:32:50.790671",
     "status": "completed"
    },
    "tags": []
   },
   "outputs": [
    {
     "data": {
      "text/plain": [
       "4"
      ]
     },
     "execution_count": 77,
     "metadata": {},
     "output_type": "execute_result"
    }
   ],
   "source": [
    "sub_universes = universe_analysis.generate_sub_universes()\n",
    "len(sub_universes)"
   ]
  },
  {
   "cell_type": "code",
   "execution_count": 78,
   "id": "92adf7ba",
   "metadata": {
    "execution": {
     "iopub.execute_input": "2025-07-30T21:32:50.888641Z",
     "iopub.status.busy": "2025-07-30T21:32:50.888107Z",
     "iopub.status.idle": "2025-07-30T21:32:50.892734Z",
     "shell.execute_reply": "2025-07-30T21:32:50.891914Z"
    },
    "papermill": {
     "duration": 0.033973,
     "end_time": "2025-07-30T21:32:50.893979",
     "exception": false,
     "start_time": "2025-07-30T21:32:50.860006",
     "status": "completed"
    },
    "tags": []
   },
   "outputs": [],
   "source": [
    "def filter_sub_universe_data(sub_universe, org_test):\n",
    "    # Keep all rows — no filtering\n",
    "    keep_rows_mask = np.ones(org_test.shape[0], dtype=bool)\n",
    "\n",
    "    print(f\"[INFO] Keeping all rows: {keep_rows_mask.sum()} rows retained.\")\n",
    "    return keep_rows_mask"
   ]
  },
  {
   "cell_type": "code",
   "execution_count": 79,
   "id": "4a759155",
   "metadata": {
    "execution": {
     "iopub.execute_input": "2025-07-30T21:32:50.938872Z",
     "iopub.status.busy": "2025-07-30T21:32:50.937966Z",
     "iopub.status.idle": "2025-07-30T21:32:59.480067Z",
     "shell.execute_reply": "2025-07-30T21:32:59.479335Z"
    },
    "papermill": {
     "duration": 8.571205,
     "end_time": "2025-07-30T21:32:59.481345",
     "exception": false,
     "start_time": "2025-07-30T21:32:50.910140",
     "status": "completed"
    },
    "tags": []
   },
   "outputs": [
    {
     "name": "stdout",
     "output_type": "stream",
     "text": [
      "Stopping execution_time clock.\n",
      "[INFO] Keeping all rows: 89710 rows retained.\n"
     ]
    },
    {
     "name": "stdout",
     "output_type": "stream",
     "text": [
      "[INFO] Keeping all rows: 89710 rows retained.\n"
     ]
    },
    {
     "name": "stdout",
     "output_type": "stream",
     "text": [
      "[INFO] Keeping all rows: 89710 rows retained.\n"
     ]
    },
    {
     "name": "stdout",
     "output_type": "stream",
     "text": [
      "[INFO] Keeping all rows: 89710 rows retained.\n"
     ]
    },
    {
     "data": {
      "text/html": [
       "<div>\n",
       "<style scoped>\n",
       "    .dataframe tbody tr th:only-of-type {\n",
       "        vertical-align: middle;\n",
       "    }\n",
       "\n",
       "    .dataframe tbody tr th {\n",
       "        vertical-align: top;\n",
       "    }\n",
       "\n",
       "    .dataframe thead th {\n",
       "        text-align: right;\n",
       "    }\n",
       "</style>\n",
       "<table border=\"1\" class=\"dataframe\">\n",
       "  <thead>\n",
       "    <tr style=\"text-align: right;\">\n",
       "      <th></th>\n",
       "      <th>run_no</th>\n",
       "      <th>universe_id</th>\n",
       "      <th>universe_settings</th>\n",
       "      <th>execution_time</th>\n",
       "      <th>test_size_n</th>\n",
       "      <th>test_size_frac</th>\n",
       "      <th>fair_main_equalized_odds_difference</th>\n",
       "      <th>fair_main_equalized_odds_ratio</th>\n",
       "      <th>fair_main_demographic_parity_difference</th>\n",
       "      <th>fair_main_demographic_parity_ratio</th>\n",
       "      <th>...</th>\n",
       "      <th>perf_grp_precision_0</th>\n",
       "      <th>perf_grp_precision_1</th>\n",
       "      <th>perf_grp_false positive rate_0</th>\n",
       "      <th>perf_grp_false positive rate_1</th>\n",
       "      <th>perf_grp_false negative rate_0</th>\n",
       "      <th>perf_grp_false negative rate_1</th>\n",
       "      <th>perf_grp_selection rate_0</th>\n",
       "      <th>perf_grp_selection rate_1</th>\n",
       "      <th>perf_grp_count_0</th>\n",
       "      <th>perf_grp_count_1</th>\n",
       "    </tr>\n",
       "  </thead>\n",
       "  <tbody>\n",
       "    <tr>\n",
       "      <th>0</th>\n",
       "      <td>14</td>\n",
       "      <td>1ed95d782de6a7539f6245172a7722f6</td>\n",
       "      <td>{\"cutoff\": \"quantile_0.1\", \"eval_fairness_grou...</td>\n",
       "      <td>45.436853</td>\n",
       "      <td>89710</td>\n",
       "      <td>1.0</td>\n",
       "      <td>0.092874</td>\n",
       "      <td>0.903598</td>\n",
       "      <td>0.084611</td>\n",
       "      <td>0.912342</td>\n",
       "      <td>...</td>\n",
       "      <td>NaN</td>\n",
       "      <td>NaN</td>\n",
       "      <td>NaN</td>\n",
       "      <td>NaN</td>\n",
       "      <td>NaN</td>\n",
       "      <td>NaN</td>\n",
       "      <td>NaN</td>\n",
       "      <td>NaN</td>\n",
       "      <td>NaN</td>\n",
       "      <td>NaN</td>\n",
       "    </tr>\n",
       "    <tr>\n",
       "      <th>0</th>\n",
       "      <td>14</td>\n",
       "      <td>1ed95d782de6a7539f6245172a7722f6</td>\n",
       "      <td>{\"cutoff\": \"quantile_0.1\", \"eval_fairness_grou...</td>\n",
       "      <td>45.436853</td>\n",
       "      <td>89710</td>\n",
       "      <td>1.0</td>\n",
       "      <td>0.092874</td>\n",
       "      <td>0.903598</td>\n",
       "      <td>0.084611</td>\n",
       "      <td>0.912342</td>\n",
       "      <td>...</td>\n",
       "      <td>0.116968</td>\n",
       "      <td>0.142088</td>\n",
       "      <td>0.963405</td>\n",
       "      <td>0.870531</td>\n",
       "      <td>0.020693</td>\n",
       "      <td>0.053063</td>\n",
       "      <td>0.965239</td>\n",
       "      <td>0.880627</td>\n",
       "      <td>20540.0</td>\n",
       "      <td>69170.0</td>\n",
       "    </tr>\n",
       "    <tr>\n",
       "      <th>0</th>\n",
       "      <td>14</td>\n",
       "      <td>1ed95d782de6a7539f6245172a7722f6</td>\n",
       "      <td>{\"cutoff\": \"quantile_0.25\", \"eval_fairness_gro...</td>\n",
       "      <td>45.436853</td>\n",
       "      <td>89710</td>\n",
       "      <td>1.0</td>\n",
       "      <td>0.215117</td>\n",
       "      <td>0.760735</td>\n",
       "      <td>0.198086</td>\n",
       "      <td>0.780570</td>\n",
       "      <td>...</td>\n",
       "      <td>NaN</td>\n",
       "      <td>NaN</td>\n",
       "      <td>NaN</td>\n",
       "      <td>NaN</td>\n",
       "      <td>NaN</td>\n",
       "      <td>NaN</td>\n",
       "      <td>NaN</td>\n",
       "      <td>NaN</td>\n",
       "      <td>NaN</td>\n",
       "      <td>NaN</td>\n",
       "    </tr>\n",
       "    <tr>\n",
       "      <th>0</th>\n",
       "      <td>14</td>\n",
       "      <td>1ed95d782de6a7539f6245172a7722f6</td>\n",
       "      <td>{\"cutoff\": \"quantile_0.25\", \"eval_fairness_gro...</td>\n",
       "      <td>45.436853</td>\n",
       "      <td>89710</td>\n",
       "      <td>1.0</td>\n",
       "      <td>0.215117</td>\n",
       "      <td>0.760735</td>\n",
       "      <td>0.198086</td>\n",
       "      <td>0.780570</td>\n",
       "      <td>...</td>\n",
       "      <td>0.118865</td>\n",
       "      <td>0.157612</td>\n",
       "      <td>0.899076</td>\n",
       "      <td>0.683958</td>\n",
       "      <td>0.069257</td>\n",
       "      <td>0.159519</td>\n",
       "      <td>0.902726</td>\n",
       "      <td>0.704641</td>\n",
       "      <td>20540.0</td>\n",
       "      <td>69170.0</td>\n",
       "    </tr>\n",
       "  </tbody>\n",
       "</table>\n",
       "<p>4 rows × 50 columns</p>\n",
       "</div>"
      ],
      "text/plain": [
       "  run_no                       universe_id  \\\n",
       "0     14  1ed95d782de6a7539f6245172a7722f6   \n",
       "0     14  1ed95d782de6a7539f6245172a7722f6   \n",
       "0     14  1ed95d782de6a7539f6245172a7722f6   \n",
       "0     14  1ed95d782de6a7539f6245172a7722f6   \n",
       "\n",
       "                                   universe_settings  execution_time  \\\n",
       "0  {\"cutoff\": \"quantile_0.1\", \"eval_fairness_grou...       45.436853   \n",
       "0  {\"cutoff\": \"quantile_0.1\", \"eval_fairness_grou...       45.436853   \n",
       "0  {\"cutoff\": \"quantile_0.25\", \"eval_fairness_gro...       45.436853   \n",
       "0  {\"cutoff\": \"quantile_0.25\", \"eval_fairness_gro...       45.436853   \n",
       "\n",
       "   test_size_n  test_size_frac  fair_main_equalized_odds_difference  \\\n",
       "0        89710             1.0                             0.092874   \n",
       "0        89710             1.0                             0.092874   \n",
       "0        89710             1.0                             0.215117   \n",
       "0        89710             1.0                             0.215117   \n",
       "\n",
       "   fair_main_equalized_odds_ratio  fair_main_demographic_parity_difference  \\\n",
       "0                        0.903598                                 0.084611   \n",
       "0                        0.903598                                 0.084611   \n",
       "0                        0.760735                                 0.198086   \n",
       "0                        0.760735                                 0.198086   \n",
       "\n",
       "   fair_main_demographic_parity_ratio  ...  perf_grp_precision_0  \\\n",
       "0                            0.912342  ...                   NaN   \n",
       "0                            0.912342  ...              0.116968   \n",
       "0                            0.780570  ...                   NaN   \n",
       "0                            0.780570  ...              0.118865   \n",
       "\n",
       "   perf_grp_precision_1  perf_grp_false positive rate_0  \\\n",
       "0                   NaN                             NaN   \n",
       "0              0.142088                        0.963405   \n",
       "0                   NaN                             NaN   \n",
       "0              0.157612                        0.899076   \n",
       "\n",
       "   perf_grp_false positive rate_1  perf_grp_false negative rate_0  \\\n",
       "0                             NaN                             NaN   \n",
       "0                        0.870531                        0.020693   \n",
       "0                             NaN                             NaN   \n",
       "0                        0.683958                        0.069257   \n",
       "\n",
       "   perf_grp_false negative rate_1  perf_grp_selection rate_0  \\\n",
       "0                             NaN                        NaN   \n",
       "0                        0.053063                   0.965239   \n",
       "0                             NaN                        NaN   \n",
       "0                        0.159519                   0.902726   \n",
       "\n",
       "   perf_grp_selection rate_1  perf_grp_count_0  perf_grp_count_1  \n",
       "0                        NaN               NaN               NaN  \n",
       "0                   0.880627           20540.0           69170.0  \n",
       "0                        NaN               NaN               NaN  \n",
       "0                   0.704641           20540.0           69170.0  \n",
       "\n",
       "[4 rows x 50 columns]"
      ]
     },
     "execution_count": 79,
     "metadata": {},
     "output_type": "execute_result"
    }
   ],
   "source": [
    "final_output = universe_analysis.generate_final_output(\n",
    "    y_pred_prob=probs_test,\n",
    "    y_test=y_true,\n",
    "    org_test=org_test,\n",
    "    filter_data=filter_sub_universe_data,\n",
    "    cp_metrics_df=cp_metrics_df,\n",
    "    save=True,\n",
    ")\n",
    "final_output"
   ]
  },
  {
   "cell_type": "code",
   "execution_count": null,
   "id": "721ff514-cb11-46f8-b6fc-50392f74b5cb",
   "metadata": {
    "papermill": {
     "duration": 0.015191,
     "end_time": "2025-07-30T21:32:59.515365",
     "exception": false,
     "start_time": "2025-07-30T21:32:59.500174",
     "status": "completed"
    },
    "tags": []
   },
   "outputs": [],
   "source": []
  }
 ],
 "metadata": {
  "celltoolbar": "Tags",
  "kernelspec": {
   "display_name": "Python (CMA Fairness)",
   "language": "python",
   "name": "cma_fair_env"
  },
  "language_info": {
   "codemirror_mode": {
    "name": "ipython",
    "version": 3
   },
   "file_extension": ".py",
   "mimetype": "text/x-python",
   "name": "python",
   "nbconvert_exporter": "python",
   "pygments_lexer": "ipython3",
   "version": "3.10.12"
  },
  "papermill": {
   "default_parameters": {},
   "duration": 58.033145,
   "end_time": "2025-07-30T21:33:00.148136",
   "environment_variables": {},
   "exception": null,
   "input_path": "universe_analysis.ipynb",
   "output_path": "output/runs/14/notebooks/m_14-1ed95d782de6a7539f6245172a7722f6.ipynb",
   "parameters": {
    "output_dir": "output",
    "run_no": "14",
    "seed": "2023",
    "universe": "{\"cutoff\": [\"quantile_0.1\", \"quantile_0.25\"], \"eval_fairness_grouping\": [\"majority-minority\", \"nationality-all\"], \"exclude_features\": \"sex\", \"exclude_subgroups\": \"keep-all\", \"model\": \"elasticnet\", \"scale\": \"do-not-scale\", \"training_size\": \"1k\", \"training_year\": \"2014\"}",
    "universe_id": "1ed95d782de6a7539f6245172a7722f6"
   },
   "start_time": "2025-07-30T21:32:02.114991",
   "version": "2.6.0"
  }
 },
 "nbformat": 4,
 "nbformat_minor": 5
}