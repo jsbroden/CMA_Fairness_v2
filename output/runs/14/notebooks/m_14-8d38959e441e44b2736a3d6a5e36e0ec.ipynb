{
 "cells": [
  {
   "cell_type": "code",
   "execution_count": 1,
   "id": "f159f837-637b-42ba-96b5-ec9a68c44524",
   "metadata": {
    "execution": {
     "iopub.execute_input": "2025-07-30T21:44:48.981377Z",
     "iopub.status.busy": "2025-07-30T21:44:48.980900Z",
     "iopub.status.idle": "2025-07-30T21:44:48.995801Z",
     "shell.execute_reply": "2025-07-30T21:44:48.995002Z"
    },
    "papermill": {
     "duration": 0.028338,
     "end_time": "2025-07-30T21:44:48.997332",
     "exception": false,
     "start_time": "2025-07-30T21:44:48.968994",
     "status": "completed"
    },
    "tags": []
   },
   "outputs": [
    {
     "name": "stdout",
     "output_type": "stream",
     "text": [
      "/dss/dsshome1/0C/ra93lal2/cma/CMA_Fairness_v2\n"
     ]
    },
    {
     "name": "stderr",
     "output_type": "stream",
     "text": [
      "/dss/dsshome1/0C/ra93lal2/.local/share/virtualenvs/CMA_Fairness_v2-3j10GkSs/lib/python3.10/site-packages/IPython/core/magics/osm.py:393: UserWarning: This is now an optional IPython functionality, using bookmarks requires you to install the `pickleshare` library.\n",
      "  bkms = self.shell.db.get('bookmarks', {})\n",
      "/dss/dsshome1/0C/ra93lal2/.local/share/virtualenvs/CMA_Fairness_v2-3j10GkSs/lib/python3.10/site-packages/IPython/core/magics/osm.py:417: UserWarning: This is now an optional IPython functionality, setting dhist requires you to install the `pickleshare` library.\n",
      "  self.shell.db['dhist'] = compress_dhist(dhist)[-100:]\n"
     ]
    }
   ],
   "source": [
    "%cd ~/cma/CMA_Fairness_v2"
   ]
  },
  {
   "cell_type": "markdown",
   "id": "de2603b9",
   "metadata": {
    "papermill": {
     "duration": 0.01009,
     "end_time": "2025-07-30T21:44:49.018599",
     "exception": false,
     "start_time": "2025-07-30T21:44:49.008509",
     "status": "completed"
    },
    "tags": []
   },
   "source": [
    "The following cell holds the definition of our parameters, these values can be overriden by rendering the with e.g. the following command:\n",
    "\n",
    "papermill -p alpha 0.2 -p ratio 0.3 universe_analysis.ipynb output/test_run.ipynb"
   ]
  },
  {
   "cell_type": "code",
   "execution_count": 2,
   "id": "a80968a0-40bb-4fa9-85ef-2d5eefb01975",
   "metadata": {
    "execution": {
     "iopub.execute_input": "2025-07-30T21:44:49.040485Z",
     "iopub.status.busy": "2025-07-30T21:44:49.039548Z",
     "iopub.status.idle": "2025-07-30T21:44:49.044775Z",
     "shell.execute_reply": "2025-07-30T21:44:49.044020Z"
    },
    "papermill": {
     "duration": 0.017267,
     "end_time": "2025-07-30T21:44:49.046047",
     "exception": false,
     "start_time": "2025-07-30T21:44:49.028780",
     "status": "completed"
    },
    "tags": []
   },
   "outputs": [
    {
     "name": "stdout",
     "output_type": "stream",
     "text": [
      "Current working directory: /dss/dsshome1/0C/ra93lal2/cma/CMA_Fairness_v2\n"
     ]
    }
   ],
   "source": [
    "import os\n",
    "print(\"Current working directory:\", os.getcwd())"
   ]
  },
  {
   "cell_type": "code",
   "execution_count": 3,
   "id": "2dce4c03",
   "metadata": {
    "execution": {
     "iopub.execute_input": "2025-07-30T21:44:49.069401Z",
     "iopub.status.busy": "2025-07-30T21:44:49.068823Z",
     "iopub.status.idle": "2025-07-30T21:44:49.074850Z",
     "shell.execute_reply": "2025-07-30T21:44:49.073886Z"
    },
    "papermill": {
     "duration": 0.019458,
     "end_time": "2025-07-30T21:44:49.076666",
     "exception": false,
     "start_time": "2025-07-30T21:44:49.057208",
     "status": "completed"
    },
    "tags": [
     "parameters"
    ]
   },
   "outputs": [],
   "source": [
    "run_no = 0\n",
    "universe_id = \"test\"\n",
    "universe = {\n",
    "    \"training_size\": \"25k\", # \"25k\", \"5k\", \"1k\"\n",
    "    \"training_year\": \"2014\", # \"2014\", \"2012_14\", \"2010_14\"\n",
    "    \"scale\": \"scale\", # \"scale\", \"do-not-scale\",\n",
    "    #\"stratify_split\": \"target\", # \"none\", \"target\", \"protected-attribute\", \"both\",\n",
    "    \"model\": \"elasticnet\", # \"logreg\", \"penalized_logreg\", \"rf\", \"gbm\", \"elasticnet\"\n",
    "    \"cutoff\": [\"quantile_0.15\", \"quantile_0.30\"],\n",
    "    \"exclude_features\": \"age\", # \"none\", \"nationality\", \"sex\", \"nationality-sex\", \"age\"\n",
    "    \"exclude_subgroups\": \"keep-all\", # \"keep-all\", \"drop-non-german\"\n",
    "    \"eval_fairness_grouping\": [\"majority-minority\", \"nationality-all\"]\n",
    "}\n",
    "\n",
    "output_dir=\"./output\"\n",
    "seed=0"
   ]
  },
  {
   "cell_type": "code",
   "execution_count": 4,
   "id": "e0fa6980",
   "metadata": {
    "execution": {
     "iopub.execute_input": "2025-07-30T21:44:49.098849Z",
     "iopub.status.busy": "2025-07-30T21:44:49.098463Z",
     "iopub.status.idle": "2025-07-30T21:44:49.103870Z",
     "shell.execute_reply": "2025-07-30T21:44:49.102846Z"
    },
    "papermill": {
     "duration": 0.017959,
     "end_time": "2025-07-30T21:44:49.105717",
     "exception": false,
     "start_time": "2025-07-30T21:44:49.087758",
     "status": "completed"
    },
    "tags": [
     "injected-parameters"
    ]
   },
   "outputs": [],
   "source": [
    "# Parameters\n",
    "universe_id = \"8d38959e441e44b2736a3d6a5e36e0ec\"\n",
    "run_no = \"14\"\n",
    "universe = \"{\\\"cutoff\\\": [\\\"quantile_0.1\\\", \\\"quantile_0.25\\\"], \\\"eval_fairness_grouping\\\": [\\\"majority-minority\\\", \\\"nationality-all\\\"], \\\"exclude_features\\\": \\\"nationality\\\", \\\"exclude_subgroups\\\": \\\"drop-non-german\\\", \\\"model\\\": \\\"penalized_logreg\\\", \\\"scale\\\": \\\"scale\\\", \\\"training_size\\\": \\\"1k\\\", \\\"training_year\\\": \\\"2010_14\\\"}\"\n",
    "output_dir = \"output\"\n",
    "seed = \"2023\"\n"
   ]
  },
  {
   "cell_type": "code",
   "execution_count": 5,
   "id": "1650acaf",
   "metadata": {
    "execution": {
     "iopub.execute_input": "2025-07-30T21:44:49.150304Z",
     "iopub.status.busy": "2025-07-30T21:44:49.149820Z",
     "iopub.status.idle": "2025-07-30T21:44:49.155265Z",
     "shell.execute_reply": "2025-07-30T21:44:49.154155Z"
    },
    "papermill": {
     "duration": 0.030157,
     "end_time": "2025-07-30T21:44:49.157268",
     "exception": false,
     "start_time": "2025-07-30T21:44:49.127111",
     "status": "completed"
    },
    "tags": []
   },
   "outputs": [],
   "source": [
    "import json\n",
    "# Parse universe into dict if it is passed as a string\n",
    "if isinstance(universe, str):\n",
    "    universe = json.loads(universe)"
   ]
  },
  {
   "cell_type": "code",
   "execution_count": 6,
   "id": "16620c48",
   "metadata": {
    "execution": {
     "iopub.execute_input": "2025-07-30T21:44:49.202768Z",
     "iopub.status.busy": "2025-07-30T21:44:49.201860Z",
     "iopub.status.idle": "2025-07-30T21:44:49.250104Z",
     "shell.execute_reply": "2025-07-30T21:44:49.249054Z"
    },
    "papermill": {
     "duration": 0.071768,
     "end_time": "2025-07-30T21:44:49.251577",
     "exception": false,
     "start_time": "2025-07-30T21:44:49.179809",
     "status": "completed"
    },
    "tags": []
   },
   "outputs": [],
   "source": [
    "# Auto-reload the custom package\n",
    "%load_ext autoreload\n",
    "%autoreload 1\n",
    "%aimport fairness_multiverse"
   ]
  },
  {
   "cell_type": "code",
   "execution_count": 7,
   "id": "01c5c9f3",
   "metadata": {
    "execution": {
     "iopub.execute_input": "2025-07-30T21:44:49.287529Z",
     "iopub.status.busy": "2025-07-30T21:44:49.287092Z",
     "iopub.status.idle": "2025-07-30T21:44:51.161224Z",
     "shell.execute_reply": "2025-07-30T21:44:51.160177Z"
    },
    "papermill": {
     "duration": 1.890136,
     "end_time": "2025-07-30T21:44:51.163130",
     "exception": false,
     "start_time": "2025-07-30T21:44:49.272994",
     "status": "completed"
    },
    "tags": []
   },
   "outputs": [],
   "source": [
    "from fairness_multiverse.universe import UniverseAnalysis\n",
    "\n",
    "universe_analysis = UniverseAnalysis(\n",
    "    run_no = run_no,\n",
    "    universe_id = universe_id,\n",
    "    universe = universe,\n",
    "    output_dir=output_dir,\n",
    ")"
   ]
  },
  {
   "cell_type": "code",
   "execution_count": 8,
   "id": "106241f5",
   "metadata": {
    "execution": {
     "iopub.execute_input": "2025-07-30T21:44:51.203644Z",
     "iopub.status.busy": "2025-07-30T21:44:51.203172Z",
     "iopub.status.idle": "2025-07-30T21:44:51.210251Z",
     "shell.execute_reply": "2025-07-30T21:44:51.209362Z"
    },
    "papermill": {
     "duration": 0.028596,
     "end_time": "2025-07-30T21:44:51.212004",
     "exception": false,
     "start_time": "2025-07-30T21:44:51.183408",
     "status": "completed"
    },
    "tags": []
   },
   "outputs": [
    {
     "name": "stdout",
     "output_type": "stream",
     "text": [
      "Using Seed: 2023\n"
     ]
    }
   ],
   "source": [
    "import numpy as np\n",
    "parsed_seed = int(seed)\n",
    "np.random.seed(parsed_seed)\n",
    "print(f\"Using Seed: {parsed_seed}\")"
   ]
  },
  {
   "cell_type": "markdown",
   "id": "e0ebdc57",
   "metadata": {
    "papermill": {
     "duration": 0.022209,
     "end_time": "2025-07-30T21:44:51.254173",
     "exception": false,
     "start_time": "2025-07-30T21:44:51.231964",
     "status": "completed"
    },
    "tags": []
   },
   "source": [
    "# Loading Data"
   ]
  },
  {
   "cell_type": "markdown",
   "id": "681925a3",
   "metadata": {
    "papermill": {
     "duration": 0.019145,
     "end_time": "2025-07-30T21:44:51.293082",
     "exception": false,
     "start_time": "2025-07-30T21:44:51.273937",
     "status": "completed"
    },
    "tags": []
   },
   "source": [
    "Load siab_train, siab_test, siab_calib and/or \n",
    "load siab_train_features, siab_train_labels"
   ]
  },
  {
   "cell_type": "code",
   "execution_count": 9,
   "id": "f0496b8a",
   "metadata": {
    "execution": {
     "iopub.execute_input": "2025-07-30T21:44:51.334463Z",
     "iopub.status.busy": "2025-07-30T21:44:51.333966Z",
     "iopub.status.idle": "2025-07-30T21:45:02.693058Z",
     "shell.execute_reply": "2025-07-30T21:45:02.692064Z"
    },
    "papermill": {
     "duration": 11.381513,
     "end_time": "2025-07-30T21:45:02.694386",
     "exception": false,
     "start_time": "2025-07-30T21:44:51.312873",
     "status": "completed"
    },
    "tags": []
   },
   "outputs": [
    {
     "name": "stdout",
     "output_type": "stream",
     "text": [
      "Loading SIAB data from cache: data/siab_cached.csv.gz\n"
     ]
    },
    {
     "name": "stdout",
     "output_type": "stream",
     "text": [
      "(643690, 164)\n"
     ]
    }
   ],
   "source": [
    "from pathlib import Path\n",
    "import pandas as pd\n",
    "\n",
    "# File paths\n",
    "raw_file = Path(\"data/raw/siab.csv\")\n",
    "cache_file = Path(\"data/siab_cached.csv.gz\")\n",
    "\n",
    "# Ensure cache directory exists\n",
    "cache_file.parent.mkdir(parents=True, exist_ok=True)\n",
    "\n",
    "# Load with simple caching\n",
    "if cache_file.exists():\n",
    "    print(f\"Loading SIAB data from cache: {cache_file}\")\n",
    "    siab = pd.read_csv(cache_file, compression='gzip')\n",
    "else:\n",
    "    print(f\"Cache not found. Reading raw SIAB data: {raw_file}\")\n",
    "    siab = pd.read_csv(raw_file)\n",
    "    siab.to_csv(cache_file, index=False, compression='gzip')\n",
    "    print(f\"Cached SIAB data to: {cache_file}\")\n",
    "\n",
    "# Now use `siab` DataFrame as needed\n",
    "print(siab.shape)"
   ]
  },
  {
   "cell_type": "code",
   "execution_count": 10,
   "id": "db0ca512-5f53-4dba-abdb-a2888bca41ba",
   "metadata": {
    "execution": {
     "iopub.execute_input": "2025-07-30T21:45:02.723761Z",
     "iopub.status.busy": "2025-07-30T21:45:02.723346Z",
     "iopub.status.idle": "2025-07-30T21:45:02.728632Z",
     "shell.execute_reply": "2025-07-30T21:45:02.727891Z"
    },
    "papermill": {
     "duration": 0.022292,
     "end_time": "2025-07-30T21:45:02.729871",
     "exception": false,
     "start_time": "2025-07-30T21:45:02.707579",
     "status": "completed"
    },
    "tags": []
   },
   "outputs": [],
   "source": [
    "#siab"
   ]
  },
  {
   "cell_type": "code",
   "execution_count": 11,
   "id": "a0edb063",
   "metadata": {
    "execution": {
     "iopub.execute_input": "2025-07-30T21:45:02.753661Z",
     "iopub.status.busy": "2025-07-30T21:45:02.753164Z",
     "iopub.status.idle": "2025-07-30T21:45:02.757860Z",
     "shell.execute_reply": "2025-07-30T21:45:02.757201Z"
    },
    "papermill": {
     "duration": 0.017733,
     "end_time": "2025-07-30T21:45:02.759232",
     "exception": false,
     "start_time": "2025-07-30T21:45:02.741499",
     "status": "completed"
    },
    "tags": []
   },
   "outputs": [],
   "source": [
    "#import pandas as pd\n",
    "#\n",
    "#X_train = pd.read_csv(\"./data/X_train.csv\")\n",
    "#y_train = pd.read_csv(\"./data/y_train.csv\")"
   ]
  },
  {
   "cell_type": "code",
   "execution_count": 12,
   "id": "63d08085",
   "metadata": {
    "execution": {
     "iopub.execute_input": "2025-07-30T21:45:02.786866Z",
     "iopub.status.busy": "2025-07-30T21:45:02.786367Z",
     "iopub.status.idle": "2025-07-30T21:45:02.790789Z",
     "shell.execute_reply": "2025-07-30T21:45:02.790078Z"
    },
    "papermill": {
     "duration": 0.017969,
     "end_time": "2025-07-30T21:45:02.792135",
     "exception": false,
     "start_time": "2025-07-30T21:45:02.774166",
     "status": "completed"
    },
    "tags": []
   },
   "outputs": [],
   "source": [
    "#X_test = pd.read_csv(\"./data/X_test.csv\")\n",
    "#y_true = pd.read_csv(\"./data/y_test.csv\")"
   ]
  },
  {
   "cell_type": "code",
   "execution_count": 13,
   "id": "98a8d0fa-1d3d-4ed8-bb2c-281470e24add",
   "metadata": {
    "execution": {
     "iopub.execute_input": "2025-07-30T21:45:02.816757Z",
     "iopub.status.busy": "2025-07-30T21:45:02.816075Z",
     "iopub.status.idle": "2025-07-30T21:45:02.821341Z",
     "shell.execute_reply": "2025-07-30T21:45:02.820329Z"
    },
    "papermill": {
     "duration": 0.019023,
     "end_time": "2025-07-30T21:45:02.822975",
     "exception": false,
     "start_time": "2025-07-30T21:45:02.803952",
     "status": "completed"
    },
    "tags": []
   },
   "outputs": [],
   "source": [
    "# Calibration data for conformal\n",
    "#X_calib = pd.read_csv(\"./data/X_calib.csv\")\n",
    "#y_calib = pd.read_csv(\"./data/y_calib.csv\")"
   ]
  },
  {
   "cell_type": "markdown",
   "id": "997051c5-15bd-4b69-9786-c3001a3ce484",
   "metadata": {
    "papermill": {
     "duration": 0.011564,
     "end_time": "2025-07-30T21:45:02.846472",
     "exception": false,
     "start_time": "2025-07-30T21:45:02.834908",
     "status": "completed"
    },
    "tags": []
   },
   "source": [
    "# Splitting Data and Setting Training Data Size"
   ]
  },
  {
   "cell_type": "code",
   "execution_count": 14,
   "id": "e993b61f-042d-41a6-8c81-f55681f86335",
   "metadata": {
    "execution": {
     "iopub.execute_input": "2025-07-30T21:45:02.869387Z",
     "iopub.status.busy": "2025-07-30T21:45:02.868869Z",
     "iopub.status.idle": "2025-07-30T21:45:02.878340Z",
     "shell.execute_reply": "2025-07-30T21:45:02.877584Z"
    },
    "papermill": {
     "duration": 0.022374,
     "end_time": "2025-07-30T21:45:02.879665",
     "exception": false,
     "start_time": "2025-07-30T21:45:02.857291",
     "status": "completed"
    },
    "tags": []
   },
   "outputs": [],
   "source": [
    "def sample_by_year_size(df,\n",
    "                        training_year: str,\n",
    "                        training_size: str,\n",
    "                        random_state: int = 42):\n",
    "    # --- parse training_year into a list of int years ---\n",
    "    if \"_\" in training_year:\n",
    "        start_str, end_str = training_year.split(\"_\", 1)\n",
    "        start = int(start_str)\n",
    "        end   = int(end_str) if len(end_str) == 4 else (int(end_str) + (start // 100)*100)\n",
    "        years = list(range(start, end + 1))\n",
    "    else:\n",
    "        years = [int(training_year)]\n",
    "\n",
    "    df = df[df[\"year\"].isin(years)].reset_index(drop=True)\n",
    "\n",
    "    # --- map training_size to total number of samples ---\n",
    "    total_map = {\"25k\": 25_000, \"5k\": 5_000, \"1k\": 1_000}\n",
    "    if training_size not in total_map:\n",
    "        return df  # e.g. \"all\"\n",
    "\n",
    "    total_samples = total_map[training_size]\n",
    "    n_years       = len(years)\n",
    "    base          = total_samples // n_years\n",
    "    remainder     = total_samples % n_years\n",
    "\n",
    "    # --- build a dict: year -> how many to sample ---\n",
    "    # give +1 to the first `remainder` years in ascending order\n",
    "    quotas = {\n",
    "        year: base + (1 if idx < remainder else 0)\n",
    "        for idx, year in enumerate(sorted(years))\n",
    "    }\n",
    "\n",
    "    # --- sample per‐year according to the quota dict ---\n",
    "    sampled = (\n",
    "        df\n",
    "        .groupby(\"year\", group_keys=False)\n",
    "        .apply(lambda grp: grp.sample(\n",
    "            n=min(len(grp), quotas[grp.name]),\n",
    "            random_state=random_state))\n",
    "        .reset_index(drop=True)\n",
    "    )\n",
    "\n",
    "    return sampled"
   ]
  },
  {
   "cell_type": "code",
   "execution_count": 15,
   "id": "c0ccd338-0e02-41f3-a09d-f56f9266e3fb",
   "metadata": {
    "execution": {
     "iopub.execute_input": "2025-07-30T21:45:02.906415Z",
     "iopub.status.busy": "2025-07-30T21:45:02.905900Z",
     "iopub.status.idle": "2025-07-30T21:45:02.910228Z",
     "shell.execute_reply": "2025-07-30T21:45:02.909586Z"
    },
    "papermill": {
     "duration": 0.017483,
     "end_time": "2025-07-30T21:45:02.911474",
     "exception": false,
     "start_time": "2025-07-30T21:45:02.893991",
     "status": "completed"
    },
    "tags": []
   },
   "outputs": [],
   "source": [
    "#universe[\"training_size\"]"
   ]
  },
  {
   "cell_type": "code",
   "execution_count": 16,
   "id": "ca707fd7-8047-4acd-bfa5-66248fbbf8e6",
   "metadata": {
    "execution": {
     "iopub.execute_input": "2025-07-30T21:45:02.942483Z",
     "iopub.status.busy": "2025-07-30T21:45:02.942133Z",
     "iopub.status.idle": "2025-07-30T21:45:02.946555Z",
     "shell.execute_reply": "2025-07-30T21:45:02.945822Z"
    },
    "papermill": {
     "duration": 0.018412,
     "end_time": "2025-07-30T21:45:02.947832",
     "exception": false,
     "start_time": "2025-07-30T21:45:02.929420",
     "status": "completed"
    },
    "tags": []
   },
   "outputs": [],
   "source": [
    "#universe[\"training_year\"]"
   ]
  },
  {
   "cell_type": "code",
   "execution_count": 17,
   "id": "aea9c6ef-6f46-42c8-85eb-5a62025c1508",
   "metadata": {
    "execution": {
     "iopub.execute_input": "2025-07-30T21:45:02.972674Z",
     "iopub.status.busy": "2025-07-30T21:45:02.972167Z",
     "iopub.status.idle": "2025-07-30T21:45:04.426411Z",
     "shell.execute_reply": "2025-07-30T21:45:04.425250Z"
    },
    "papermill": {
     "duration": 1.468659,
     "end_time": "2025-07-30T21:45:04.428536",
     "exception": false,
     "start_time": "2025-07-30T21:45:02.959877",
     "status": "completed"
    },
    "tags": []
   },
   "outputs": [],
   "source": [
    "siab_train = sample_by_year_size(siab,\n",
    "                               training_year=universe[\"training_year\"],\n",
    "                               training_size=universe[\"training_size\"])"
   ]
  },
  {
   "cell_type": "code",
   "execution_count": 18,
   "id": "8d3afb32-789d-442c-8d5d-9f5aa8dd2eed",
   "metadata": {
    "execution": {
     "iopub.execute_input": "2025-07-30T21:45:04.476652Z",
     "iopub.status.busy": "2025-07-30T21:45:04.475621Z",
     "iopub.status.idle": "2025-07-30T21:45:04.481140Z",
     "shell.execute_reply": "2025-07-30T21:45:04.479972Z"
    },
    "papermill": {
     "duration": 0.031663,
     "end_time": "2025-07-30T21:45:04.483356",
     "exception": false,
     "start_time": "2025-07-30T21:45:04.451693",
     "status": "completed"
    },
    "tags": []
   },
   "outputs": [],
   "source": [
    "#siab_train.shape"
   ]
  },
  {
   "cell_type": "code",
   "execution_count": 19,
   "id": "d582db68-1a4c-47fb-84fc-08518dc1975a",
   "metadata": {
    "execution": {
     "iopub.execute_input": "2025-07-30T21:45:04.536868Z",
     "iopub.status.busy": "2025-07-30T21:45:04.535748Z",
     "iopub.status.idle": "2025-07-30T21:45:04.541302Z",
     "shell.execute_reply": "2025-07-30T21:45:04.540208Z"
    },
    "papermill": {
     "duration": 0.030652,
     "end_time": "2025-07-30T21:45:04.543318",
     "exception": false,
     "start_time": "2025-07-30T21:45:04.512666",
     "status": "completed"
    },
    "tags": []
   },
   "outputs": [],
   "source": [
    "#display(siab_train.groupby(\"year\").size())"
   ]
  },
  {
   "cell_type": "code",
   "execution_count": 20,
   "id": "a561edb4-d032-42cb-8256-22eac1111c64",
   "metadata": {
    "execution": {
     "iopub.execute_input": "2025-07-30T21:45:04.571970Z",
     "iopub.status.busy": "2025-07-30T21:45:04.571526Z",
     "iopub.status.idle": "2025-07-30T21:45:04.893372Z",
     "shell.execute_reply": "2025-07-30T21:45:04.892317Z"
    },
    "papermill": {
     "duration": 0.336215,
     "end_time": "2025-07-30T21:45:04.895090",
     "exception": false,
     "start_time": "2025-07-30T21:45:04.558875",
     "status": "completed"
    },
    "tags": []
   },
   "outputs": [],
   "source": [
    "#siab_train = siab_s[siab_s.year < 2015]\n",
    "siab_calib = siab[siab.year == 2015]\n",
    "siab_test = siab[siab.year == 2016]"
   ]
  },
  {
   "cell_type": "code",
   "execution_count": 21,
   "id": "472de16f-c3db-4916-846b-1f0de9cf1746",
   "metadata": {
    "execution": {
     "iopub.execute_input": "2025-07-30T21:45:04.949978Z",
     "iopub.status.busy": "2025-07-30T21:45:04.949291Z",
     "iopub.status.idle": "2025-07-30T21:45:04.958678Z",
     "shell.execute_reply": "2025-07-30T21:45:04.957410Z"
    },
    "papermill": {
     "duration": 0.040125,
     "end_time": "2025-07-30T21:45:04.960617",
     "exception": false,
     "start_time": "2025-07-30T21:45:04.920492",
     "status": "completed"
    },
    "tags": []
   },
   "outputs": [],
   "source": [
    "X_train = siab_train.iloc[:,4:164]\n",
    "y_train = siab_train.iloc[:, [3]]"
   ]
  },
  {
   "cell_type": "code",
   "execution_count": 22,
   "id": "828c96af-f43a-4ed6-ba47-8ac73a47d56c",
   "metadata": {
    "execution": {
     "iopub.execute_input": "2025-07-30T21:45:05.009663Z",
     "iopub.status.busy": "2025-07-30T21:45:05.009051Z",
     "iopub.status.idle": "2025-07-30T21:45:05.092152Z",
     "shell.execute_reply": "2025-07-30T21:45:05.091418Z"
    },
    "papermill": {
     "duration": 0.110133,
     "end_time": "2025-07-30T21:45:05.093407",
     "exception": false,
     "start_time": "2025-07-30T21:45:04.983274",
     "status": "completed"
    },
    "tags": []
   },
   "outputs": [],
   "source": [
    "X_calib = siab_calib.iloc[:,4:164]\n",
    "y_calib = siab_calib.iloc[:, [3]]"
   ]
  },
  {
   "cell_type": "code",
   "execution_count": 23,
   "id": "c34be9c3-6bd6-476e-acd3-845840e303be",
   "metadata": {
    "execution": {
     "iopub.execute_input": "2025-07-30T21:45:05.136143Z",
     "iopub.status.busy": "2025-07-30T21:45:05.135611Z",
     "iopub.status.idle": "2025-07-30T21:45:05.189767Z",
     "shell.execute_reply": "2025-07-30T21:45:05.188885Z"
    },
    "papermill": {
     "duration": 0.08157,
     "end_time": "2025-07-30T21:45:05.191375",
     "exception": false,
     "start_time": "2025-07-30T21:45:05.109805",
     "status": "completed"
    },
    "tags": []
   },
   "outputs": [],
   "source": [
    "X_test = siab_test.iloc[:,4:164]\n",
    "y_true = siab_test.iloc[:, [3]]"
   ]
  },
  {
   "cell_type": "markdown",
   "id": "9901737e-04df-44f0-9100-f5ad144ed040",
   "metadata": {
    "papermill": {
     "duration": 0.013331,
     "end_time": "2025-07-30T21:45:05.221978",
     "exception": false,
     "start_time": "2025-07-30T21:45:05.208647",
     "status": "completed"
    },
    "tags": []
   },
   "source": [
    "# Splitting Data and Setting Training Data Size OLD VERSION"
   ]
  },
  {
   "cell_type": "code",
   "execution_count": 24,
   "id": "acbc8f7d-8fc8-4e86-8c59-5dcb0f58384b",
   "metadata": {
    "execution": {
     "iopub.execute_input": "2025-07-30T21:45:05.253602Z",
     "iopub.status.busy": "2025-07-30T21:45:05.253171Z",
     "iopub.status.idle": "2025-07-30T21:45:05.259144Z",
     "shell.execute_reply": "2025-07-30T21:45:05.258071Z"
    },
    "papermill": {
     "duration": 0.027764,
     "end_time": "2025-07-30T21:45:05.260848",
     "exception": false,
     "start_time": "2025-07-30T21:45:05.233084",
     "status": "completed"
    },
    "tags": []
   },
   "outputs": [],
   "source": [
    "#def sample_by_year(df, training_size, random_state=42):\n",
    "#    if training_size == \"2014\":\n",
    "#        return df[df[\"year\"] == 2014].reset_index(drop=True)\n",
    "#    \n",
    "#    size_map = {\n",
    "#        \"25k\": 5000,\n",
    "#        \"5k\": 1000,\n",
    "#        \"1k\": 200\n",
    "#    }\n",
    "#\n",
    "#    if training_size not in size_map:\n",
    "#        return df.reset_index(drop=True)  # use all data\n",
    "#\n",
    "#    n_per_year = size_map[training_size]\n",
    "#    grouped = df.groupby(\"year\")\n",
    "#    sampled = grouped.apply(lambda x: x.sample(n=min(n_per_year, len(x)), random_state=random_state))\n",
    "#    return sampled.reset_index(drop=True)"
   ]
  },
  {
   "cell_type": "code",
   "execution_count": 25,
   "id": "6d931f52-beaf-43ff-9e78-9d44a448d54e",
   "metadata": {
    "execution": {
     "iopub.execute_input": "2025-07-30T21:45:05.321388Z",
     "iopub.status.busy": "2025-07-30T21:45:05.320988Z",
     "iopub.status.idle": "2025-07-30T21:45:05.325712Z",
     "shell.execute_reply": "2025-07-30T21:45:05.324864Z"
    },
    "papermill": {
     "duration": 0.03658,
     "end_time": "2025-07-30T21:45:05.326906",
     "exception": false,
     "start_time": "2025-07-30T21:45:05.290326",
     "status": "completed"
    },
    "tags": []
   },
   "outputs": [],
   "source": [
    "#siab_s = sample_by_year(siab, universe[\"training_size\"])"
   ]
  },
  {
   "cell_type": "code",
   "execution_count": 26,
   "id": "5db0a40e-a4e2-4920-be85-b12ae061d70d",
   "metadata": {
    "execution": {
     "iopub.execute_input": "2025-07-30T21:45:05.353621Z",
     "iopub.status.busy": "2025-07-30T21:45:05.353237Z",
     "iopub.status.idle": "2025-07-30T21:45:05.357646Z",
     "shell.execute_reply": "2025-07-30T21:45:05.356962Z"
    },
    "papermill": {
     "duration": 0.018824,
     "end_time": "2025-07-30T21:45:05.359020",
     "exception": false,
     "start_time": "2025-07-30T21:45:05.340196",
     "status": "completed"
    },
    "tags": []
   },
   "outputs": [],
   "source": [
    "#display(siab_s.groupby(\"year\").size())"
   ]
  },
  {
   "cell_type": "code",
   "execution_count": 27,
   "id": "e6c733c5",
   "metadata": {
    "execution": {
     "iopub.execute_input": "2025-07-30T21:45:05.386520Z",
     "iopub.status.busy": "2025-07-30T21:45:05.385374Z",
     "iopub.status.idle": "2025-07-30T21:45:05.505092Z",
     "shell.execute_reply": "2025-07-30T21:45:05.503871Z"
    },
    "papermill": {
     "duration": 0.13555,
     "end_time": "2025-07-30T21:45:05.507078",
     "exception": false,
     "start_time": "2025-07-30T21:45:05.371528",
     "status": "completed"
    },
    "tags": []
   },
   "outputs": [],
   "source": [
    "# Auxiliary data needed downstream in the pipeline\n",
    "\n",
    "org_train = X_train.copy()\n",
    "org_test = X_test.copy()\n",
    "org_calib = X_calib.copy()"
   ]
  },
  {
   "cell_type": "code",
   "execution_count": 28,
   "id": "1466abac-c6da-4492-a62f-4240ae3783af",
   "metadata": {
    "execution": {
     "iopub.execute_input": "2025-07-30T21:45:05.562250Z",
     "iopub.status.busy": "2025-07-30T21:45:05.561767Z",
     "iopub.status.idle": "2025-07-30T21:45:05.568759Z",
     "shell.execute_reply": "2025-07-30T21:45:05.567547Z"
    },
    "papermill": {
     "duration": 0.032541,
     "end_time": "2025-07-30T21:45:05.570872",
     "exception": false,
     "start_time": "2025-07-30T21:45:05.538331",
     "status": "completed"
    },
    "tags": []
   },
   "outputs": [],
   "source": [
    "# put in other script?\n",
    "# Group sizes\n",
    "\n",
    "#def calculate_percentages(df, df_name):\n",
    "#    total_entries = len(df)\n",
    "#\n",
    "#    female_pct = (df['frau1'] == 1).mean() * 100\n",
    "#    non_german_pct = ((df['maxdeutsch1'] == 0) & (df['maxdeutsch.Missing.'] == 0)).mean() * 100\n",
    "#    non_german_male_pct = ((df['frau1'] == 0) & (df['maxdeutsch1'] == 0) & (df['maxdeutsch.Missing.'] == 0)).mean() * 100\n",
    "#    non_german_female_pct = ((df['frau1'] == 1) & (df['maxdeutsch1'] == 0) & (df['maxdeutsch.Missing.'] == 0)).mean() * 100\n",
    "#\n",
    "#    print(f\"--- {df_name} ---\")\n",
    "#    print(f\"Female: {female_pct:.2f}%\")\n",
    "#    print(f\"Non-German: {non_german_pct:.2f}%\")\n",
    "#    print(f\"Non-German Male: {non_german_male_pct:.2f}%\")\n",
    "#    print(f\"Non-German Female: {non_german_female_pct:.2f}%\\n\")\n",
    "#\n",
    "## Calculate for each DataFrame\n",
    "#calculate_percentages(siab_calib, \"siab_calib\")\n",
    "#calculate_percentages(siab_test, \"siab_test\")\n",
    "#calculate_percentages(siab_train, \"siab_train\")"
   ]
  },
  {
   "cell_type": "markdown",
   "id": "0a4a1b33",
   "metadata": {
    "papermill": {
     "duration": 0.021376,
     "end_time": "2025-07-30T21:45:05.614838",
     "exception": false,
     "start_time": "2025-07-30T21:45:05.593462",
     "status": "completed"
    },
    "tags": []
   },
   "source": [
    "# Preprocessing Data"
   ]
  },
  {
   "cell_type": "code",
   "execution_count": 29,
   "id": "ca879031",
   "metadata": {
    "execution": {
     "iopub.execute_input": "2025-07-30T21:45:05.661383Z",
     "iopub.status.busy": "2025-07-30T21:45:05.660938Z",
     "iopub.status.idle": "2025-07-30T21:45:05.666887Z",
     "shell.execute_reply": "2025-07-30T21:45:05.665858Z"
    },
    "papermill": {
     "duration": 0.030842,
     "end_time": "2025-07-30T21:45:05.668798",
     "exception": false,
     "start_time": "2025-07-30T21:45:05.637956",
     "status": "completed"
    },
    "tags": []
   },
   "outputs": [],
   "source": [
    "# EXCLUDE PROTECTED FEATURES\n",
    "# ----------------------\n",
    "# \"exclude_features\": \"none\", # \"nationality\", \"sex\", \"nationality-sex\"\n",
    "\n",
    "excluded_features = universe[\"exclude_features\"].split(\"-\") # split, e.g.: \"nationality-sex\" -> [\"nationality\", \"sex\"]\n",
    "excluded_features_dictionary = {\n",
    "    \"nationality\": [\"maxdeutsch1\", \"maxdeutsch.Missing.\"],\n",
    "    \"sex\": [\"frau1\"],\n",
    "    \"age\": [\"age\"],\n",
    "}\n"
   ]
  },
  {
   "cell_type": "code",
   "execution_count": 30,
   "id": "b745ac60",
   "metadata": {
    "execution": {
     "iopub.execute_input": "2025-07-30T21:45:05.716621Z",
     "iopub.status.busy": "2025-07-30T21:45:05.715863Z",
     "iopub.status.idle": "2025-07-30T21:45:05.722250Z",
     "shell.execute_reply": "2025-07-30T21:45:05.721210Z"
    },
    "papermill": {
     "duration": 0.032561,
     "end_time": "2025-07-30T21:45:05.724093",
     "exception": false,
     "start_time": "2025-07-30T21:45:05.691532",
     "status": "completed"
    },
    "tags": []
   },
   "outputs": [],
   "source": [
    "# Code nice names to column names\n",
    "\n",
    "excluded_features_columns = [\n",
    "    excluded_features_dictionary[f] for f in excluded_features if len(f) > 0 and f != \"none\"\n",
    "]"
   ]
  },
  {
   "cell_type": "code",
   "execution_count": 31,
   "id": "f84f73a2",
   "metadata": {
    "execution": {
     "iopub.execute_input": "2025-07-30T21:45:05.773721Z",
     "iopub.status.busy": "2025-07-30T21:45:05.772590Z",
     "iopub.status.idle": "2025-07-30T21:45:05.780818Z",
     "shell.execute_reply": "2025-07-30T21:45:05.779518Z"
    },
    "papermill": {
     "duration": 0.035197,
     "end_time": "2025-07-30T21:45:05.782900",
     "exception": false,
     "start_time": "2025-07-30T21:45:05.747703",
     "status": "completed"
    },
    "tags": []
   },
   "outputs": [],
   "source": [
    "from utils import flatten_once\n",
    "\n",
    "excluded_features_columns = flatten_once(excluded_features_columns)"
   ]
  },
  {
   "cell_type": "code",
   "execution_count": 32,
   "id": "884dea22",
   "metadata": {
    "execution": {
     "iopub.execute_input": "2025-07-30T21:45:05.831041Z",
     "iopub.status.busy": "2025-07-30T21:45:05.830530Z",
     "iopub.status.idle": "2025-07-30T21:45:05.839382Z",
     "shell.execute_reply": "2025-07-30T21:45:05.838250Z"
    },
    "papermill": {
     "duration": 0.034968,
     "end_time": "2025-07-30T21:45:05.841114",
     "exception": false,
     "start_time": "2025-07-30T21:45:05.806146",
     "status": "completed"
    },
    "tags": []
   },
   "outputs": [
    {
     "name": "stdout",
     "output_type": "stream",
     "text": [
      "Dropping features: ['maxdeutsch1', 'maxdeutsch.Missing.']\n"
     ]
    }
   ],
   "source": [
    "if len(excluded_features_columns) > 0:\n",
    "    print(f\"Dropping features: {excluded_features_columns}\")\n",
    "    X_train.drop(excluded_features_columns, axis=1, inplace=True)"
   ]
  },
  {
   "cell_type": "code",
   "execution_count": 33,
   "id": "95ab8b16",
   "metadata": {
    "execution": {
     "iopub.execute_input": "2025-07-30T21:45:05.890608Z",
     "iopub.status.busy": "2025-07-30T21:45:05.889678Z",
     "iopub.status.idle": "2025-07-30T21:45:05.947068Z",
     "shell.execute_reply": "2025-07-30T21:45:05.946060Z"
    },
    "papermill": {
     "duration": 0.08339,
     "end_time": "2025-07-30T21:45:05.948892",
     "exception": false,
     "start_time": "2025-07-30T21:45:05.865502",
     "status": "completed"
    },
    "tags": []
   },
   "outputs": [
    {
     "name": "stdout",
     "output_type": "stream",
     "text": [
      "Dropping features: ['maxdeutsch1', 'maxdeutsch.Missing.']\n"
     ]
    }
   ],
   "source": [
    "if len(excluded_features_columns) > 0:\n",
    "    print(f\"Dropping features: {excluded_features_columns}\")\n",
    "    X_test.drop(excluded_features_columns, axis=1, inplace=True)"
   ]
  },
  {
   "cell_type": "code",
   "execution_count": 34,
   "id": "1853aaf5-fb9f-46cb-a2b5-8ea4ae2237e4",
   "metadata": {
    "execution": {
     "iopub.execute_input": "2025-07-30T21:45:05.999152Z",
     "iopub.status.busy": "2025-07-30T21:45:05.998167Z",
     "iopub.status.idle": "2025-07-30T21:45:06.056538Z",
     "shell.execute_reply": "2025-07-30T21:45:06.055451Z"
    },
    "papermill": {
     "duration": 0.084216,
     "end_time": "2025-07-30T21:45:06.058307",
     "exception": false,
     "start_time": "2025-07-30T21:45:05.974091",
     "status": "completed"
    },
    "tags": []
   },
   "outputs": [
    {
     "name": "stdout",
     "output_type": "stream",
     "text": [
      "Dropping features: ['maxdeutsch1', 'maxdeutsch.Missing.']\n"
     ]
    }
   ],
   "source": [
    "if len(excluded_features_columns) > 0:\n",
    "    print(f\"Dropping features: {excluded_features_columns}\")\n",
    "    X_calib.drop(excluded_features_columns, axis=1, inplace=True)"
   ]
  },
  {
   "cell_type": "code",
   "execution_count": 35,
   "id": "6727d079-03e5-481e-9d38-292a90b7a0a8",
   "metadata": {
    "execution": {
     "iopub.execute_input": "2025-07-30T21:45:06.105428Z",
     "iopub.status.busy": "2025-07-30T21:45:06.104892Z",
     "iopub.status.idle": "2025-07-30T21:45:06.110001Z",
     "shell.execute_reply": "2025-07-30T21:45:06.109078Z"
    },
    "papermill": {
     "duration": 0.032054,
     "end_time": "2025-07-30T21:45:06.111894",
     "exception": false,
     "start_time": "2025-07-30T21:45:06.079840",
     "status": "completed"
    },
    "tags": []
   },
   "outputs": [],
   "source": [
    "# SPLIT & STRATIFY DATA\n",
    "# ----------------------"
   ]
  },
  {
   "cell_type": "code",
   "execution_count": 36,
   "id": "76c4dc6d",
   "metadata": {
    "execution": {
     "iopub.execute_input": "2025-07-30T21:45:06.148110Z",
     "iopub.status.busy": "2025-07-30T21:45:06.147658Z",
     "iopub.status.idle": "2025-07-30T21:45:06.153576Z",
     "shell.execute_reply": "2025-07-30T21:45:06.152642Z"
    },
    "papermill": {
     "duration": 0.020721,
     "end_time": "2025-07-30T21:45:06.155217",
     "exception": false,
     "start_time": "2025-07-30T21:45:06.134496",
     "status": "completed"
    },
    "tags": []
   },
   "outputs": [],
   "source": [
    "# EXCLUDE CERTAIN SUBGROUPS\n",
    "# ----------------------\n",
    "\n",
    "mode = universe.get(\"exclude_subgroups\", \"keep-all\") \n",
    "# Fetches the exclude_subgroups setting from the universe dict.\n",
    "# Defaults to \"keep-all\" if the key is missing."
   ]
  },
  {
   "cell_type": "code",
   "execution_count": 37,
   "id": "21994072",
   "metadata": {
    "execution": {
     "iopub.execute_input": "2025-07-30T21:45:06.199306Z",
     "iopub.status.busy": "2025-07-30T21:45:06.198795Z",
     "iopub.status.idle": "2025-07-30T21:45:06.206092Z",
     "shell.execute_reply": "2025-07-30T21:45:06.205029Z"
    },
    "papermill": {
     "duration": 0.033897,
     "end_time": "2025-07-30T21:45:06.207894",
     "exception": false,
     "start_time": "2025-07-30T21:45:06.173997",
     "status": "completed"
    },
    "tags": []
   },
   "outputs": [],
   "source": [
    "if mode == \"keep-all\":\n",
    "    keep_mask = pd.Series(True, index=org_train.index)\n",
    "\n",
    "# org_train contains the original feature columns from features_org (in Simson)\n",
    "# features_org contains unprocessed features, for me X_train at beginning ???\n",
    "# For keep-all, creates a boolean Series (keep_mask) of all True, so no rows are removed.\n",
    "\n",
    "elif mode == \"drop-non-german\":\n",
    "    keep_mask = org_train[\"maxdeutsch1\"] == 1 # ??? what about missing values?\n",
    "\n",
    "else:\n",
    "    raise ValueError(f\"Unsupported mode for exclude_subgroups: {mode}\")\n"
   ]
  },
  {
   "cell_type": "code",
   "execution_count": 38,
   "id": "71651440",
   "metadata": {
    "execution": {
     "iopub.execute_input": "2025-07-30T21:45:06.258339Z",
     "iopub.status.busy": "2025-07-30T21:45:06.257815Z",
     "iopub.status.idle": "2025-07-30T21:45:06.266013Z",
     "shell.execute_reply": "2025-07-30T21:45:06.264568Z"
    },
    "papermill": {
     "duration": 0.034848,
     "end_time": "2025-07-30T21:45:06.267692",
     "exception": false,
     "start_time": "2025-07-30T21:45:06.232844",
     "status": "completed"
    },
    "tags": []
   },
   "outputs": [
    {
     "name": "stdout",
     "output_type": "stream",
     "text": [
      "Dropping 131 rows (13.10%) where mode='drop-non-german'\n"
     ]
    }
   ],
   "source": [
    "n_drop = (~keep_mask).sum() # Calculates how many rows are set to be dropped\n",
    "if n_drop > 0:\n",
    "    pct = n_drop / len(keep_mask) * 100\n",
    "    print(f\"Dropping {n_drop} rows ({pct:.2f}%) where mode='{mode}'\")"
   ]
  },
  {
   "cell_type": "code",
   "execution_count": 39,
   "id": "5fb8eee5",
   "metadata": {
    "execution": {
     "iopub.execute_input": "2025-07-30T21:45:06.322483Z",
     "iopub.status.busy": "2025-07-30T21:45:06.321809Z",
     "iopub.status.idle": "2025-07-30T21:45:06.329232Z",
     "shell.execute_reply": "2025-07-30T21:45:06.327887Z"
    },
    "papermill": {
     "duration": 0.035551,
     "end_time": "2025-07-30T21:45:06.330861",
     "exception": false,
     "start_time": "2025-07-30T21:45:06.295310",
     "status": "completed"
    },
    "tags": []
   },
   "outputs": [],
   "source": [
    "X_train = X_train[keep_mask]"
   ]
  },
  {
   "cell_type": "code",
   "execution_count": 40,
   "id": "b202bb3a",
   "metadata": {
    "execution": {
     "iopub.execute_input": "2025-07-30T21:45:06.381747Z",
     "iopub.status.busy": "2025-07-30T21:45:06.380943Z",
     "iopub.status.idle": "2025-07-30T21:45:06.387575Z",
     "shell.execute_reply": "2025-07-30T21:45:06.386543Z"
    },
    "papermill": {
     "duration": 0.034271,
     "end_time": "2025-07-30T21:45:06.389523",
     "exception": false,
     "start_time": "2025-07-30T21:45:06.355252",
     "status": "completed"
    },
    "tags": []
   },
   "outputs": [],
   "source": [
    "y_train = y_train[keep_mask]"
   ]
  },
  {
   "cell_type": "markdown",
   "id": "493e2ac3",
   "metadata": {
    "papermill": {
     "duration": 0.024548,
     "end_time": "2025-07-30T21:45:06.439454",
     "exception": false,
     "start_time": "2025-07-30T21:45:06.414906",
     "status": "completed"
    },
    "tags": []
   },
   "source": [
    "# Model Training"
   ]
  },
  {
   "cell_type": "code",
   "execution_count": 41,
   "id": "679e1268",
   "metadata": {
    "execution": {
     "iopub.execute_input": "2025-07-30T21:45:06.486013Z",
     "iopub.status.busy": "2025-07-30T21:45:06.485503Z",
     "iopub.status.idle": "2025-07-30T21:45:06.596194Z",
     "shell.execute_reply": "2025-07-30T21:45:06.595203Z"
    },
    "papermill": {
     "duration": 0.133556,
     "end_time": "2025-07-30T21:45:06.598114",
     "exception": false,
     "start_time": "2025-07-30T21:45:06.464558",
     "status": "completed"
    },
    "tags": []
   },
   "outputs": [],
   "source": [
    "from sklearn.linear_model import LogisticRegression\n",
    "from sklearn.ensemble import GradientBoostingClassifier, RandomForestClassifier\n",
    "\n",
    "if (universe[\"model\"] == \"logreg\"):\n",
    "    model = LogisticRegression() #penalty=\"none\") #, solver=\"newton-cg\", max_iter=1) # include random_state=19 ?\n",
    "elif (universe[\"model\"] == \"penalized_logreg\"):\n",
    "    model = LogisticRegression(penalty=\"l2\", C=1.0) #, solver=\"newton-cg\", max_iter=1)\n",
    "elif (universe[\"model\"] == \"rf\"):\n",
    "    model = RandomForestClassifier(n_estimators=100, n_jobs=-1)\n",
    "elif (universe[\"model\"] == \"gbm\"):\n",
    "    model = GradientBoostingClassifier()\n",
    "elif (universe[\"model\"] == \"elasticnet\"):\n",
    "    model = LogisticRegression(penalty = 'elasticnet', solver = 'saga', l1_ratio = 0.5, max_iter=5000) # which solver to use?\n",
    "else:\n",
    "    raise \"Unsupported universe.model\""
   ]
  },
  {
   "cell_type": "code",
   "execution_count": 42,
   "id": "0cc8f744",
   "metadata": {
    "execution": {
     "iopub.execute_input": "2025-07-30T21:45:06.649213Z",
     "iopub.status.busy": "2025-07-30T21:45:06.648637Z",
     "iopub.status.idle": "2025-07-30T21:45:06.653953Z",
     "shell.execute_reply": "2025-07-30T21:45:06.652814Z"
    },
    "papermill": {
     "duration": 0.033811,
     "end_time": "2025-07-30T21:45:06.656506",
     "exception": false,
     "start_time": "2025-07-30T21:45:06.622695",
     "status": "completed"
    },
    "tags": []
   },
   "outputs": [],
   "source": [
    "import numpy as np\n",
    "from sklearn.pipeline import Pipeline\n",
    "from sklearn.preprocessing import StandardScaler\n",
    "\n",
    "model = Pipeline([\n",
    "    #(\"continuous_processor\", continuous_processor),\n",
    "    #(\"categorical_preprocessor\", categorical_preprocessor),\n",
    "    (\"scale\", StandardScaler() if universe[\"scale\"] == \"scale\" else None), \n",
    "    (\"model\", model),\n",
    "])"
   ]
  },
  {
   "cell_type": "code",
   "execution_count": 43,
   "id": "9442c04d",
   "metadata": {
    "execution": {
     "iopub.execute_input": "2025-07-30T21:45:06.707949Z",
     "iopub.status.busy": "2025-07-30T21:45:06.707428Z",
     "iopub.status.idle": "2025-07-30T21:45:06.780159Z",
     "shell.execute_reply": "2025-07-30T21:45:06.779210Z"
    },
    "papermill": {
     "duration": 0.100388,
     "end_time": "2025-07-30T21:45:06.781854",
     "exception": false,
     "start_time": "2025-07-30T21:45:06.681466",
     "status": "completed"
    },
    "tags": []
   },
   "outputs": [
    {
     "name": "stderr",
     "output_type": "stream",
     "text": [
      "/dss/dsshome1/0C/ra93lal2/.local/share/virtualenvs/CMA_Fairness_v2-3j10GkSs/lib/python3.10/site-packages/sklearn/linear_model/_logistic.py:444: ConvergenceWarning: lbfgs failed to converge (status=1):\n",
      "STOP: TOTAL NO. of ITERATIONS REACHED LIMIT.\n",
      "\n",
      "Increase the number of iterations (max_iter) or scale the data as shown in:\n",
      "    https://scikit-learn.org/stable/modules/preprocessing.html\n",
      "Please also refer to the documentation for alternative solver options:\n",
      "    https://scikit-learn.org/stable/modules/linear_model.html#logistic-regression\n",
      "  n_iter_i = _check_optimize_result(\n"
     ]
    },
    {
     "data": {
      "text/html": [
       "<style>#sk-container-id-1 {color: black;background-color: white;}#sk-container-id-1 pre{padding: 0;}#sk-container-id-1 div.sk-toggleable {background-color: white;}#sk-container-id-1 label.sk-toggleable__label {cursor: pointer;display: block;width: 100%;margin-bottom: 0;padding: 0.3em;box-sizing: border-box;text-align: center;}#sk-container-id-1 label.sk-toggleable__label-arrow:before {content: \"▸\";float: left;margin-right: 0.25em;color: #696969;}#sk-container-id-1 label.sk-toggleable__label-arrow:hover:before {color: black;}#sk-container-id-1 div.sk-estimator:hover label.sk-toggleable__label-arrow:before {color: black;}#sk-container-id-1 div.sk-toggleable__content {max-height: 0;max-width: 0;overflow: hidden;text-align: left;background-color: #f0f8ff;}#sk-container-id-1 div.sk-toggleable__content pre {margin: 0.2em;color: black;border-radius: 0.25em;background-color: #f0f8ff;}#sk-container-id-1 input.sk-toggleable__control:checked~div.sk-toggleable__content {max-height: 200px;max-width: 100%;overflow: auto;}#sk-container-id-1 input.sk-toggleable__control:checked~label.sk-toggleable__label-arrow:before {content: \"▾\";}#sk-container-id-1 div.sk-estimator input.sk-toggleable__control:checked~label.sk-toggleable__label {background-color: #d4ebff;}#sk-container-id-1 div.sk-label input.sk-toggleable__control:checked~label.sk-toggleable__label {background-color: #d4ebff;}#sk-container-id-1 input.sk-hidden--visually {border: 0;clip: rect(1px 1px 1px 1px);clip: rect(1px, 1px, 1px, 1px);height: 1px;margin: -1px;overflow: hidden;padding: 0;position: absolute;width: 1px;}#sk-container-id-1 div.sk-estimator {font-family: monospace;background-color: #f0f8ff;border: 1px dotted black;border-radius: 0.25em;box-sizing: border-box;margin-bottom: 0.5em;}#sk-container-id-1 div.sk-estimator:hover {background-color: #d4ebff;}#sk-container-id-1 div.sk-parallel-item::after {content: \"\";width: 100%;border-bottom: 1px solid gray;flex-grow: 1;}#sk-container-id-1 div.sk-label:hover label.sk-toggleable__label {background-color: #d4ebff;}#sk-container-id-1 div.sk-serial::before {content: \"\";position: absolute;border-left: 1px solid gray;box-sizing: border-box;top: 0;bottom: 0;left: 50%;z-index: 0;}#sk-container-id-1 div.sk-serial {display: flex;flex-direction: column;align-items: center;background-color: white;padding-right: 0.2em;padding-left: 0.2em;position: relative;}#sk-container-id-1 div.sk-item {position: relative;z-index: 1;}#sk-container-id-1 div.sk-parallel {display: flex;align-items: stretch;justify-content: center;background-color: white;position: relative;}#sk-container-id-1 div.sk-item::before, #sk-container-id-1 div.sk-parallel-item::before {content: \"\";position: absolute;border-left: 1px solid gray;box-sizing: border-box;top: 0;bottom: 0;left: 50%;z-index: -1;}#sk-container-id-1 div.sk-parallel-item {display: flex;flex-direction: column;z-index: 1;position: relative;background-color: white;}#sk-container-id-1 div.sk-parallel-item:first-child::after {align-self: flex-end;width: 50%;}#sk-container-id-1 div.sk-parallel-item:last-child::after {align-self: flex-start;width: 50%;}#sk-container-id-1 div.sk-parallel-item:only-child::after {width: 0;}#sk-container-id-1 div.sk-dashed-wrapped {border: 1px dashed gray;margin: 0 0.4em 0.5em 0.4em;box-sizing: border-box;padding-bottom: 0.4em;background-color: white;}#sk-container-id-1 div.sk-label label {font-family: monospace;font-weight: bold;display: inline-block;line-height: 1.2em;}#sk-container-id-1 div.sk-label-container {text-align: center;}#sk-container-id-1 div.sk-container {/* jupyter's `normalize.less` sets `[hidden] { display: none; }` but bootstrap.min.css set `[hidden] { display: none !important; }` so we also need the `!important` here to be able to override the default hidden behavior on the sphinx rendered scikit-learn.org. See: https://github.com/scikit-learn/scikit-learn/issues/21755 */display: inline-block !important;position: relative;}#sk-container-id-1 div.sk-text-repr-fallback {display: none;}</style><div id=\"sk-container-id-1\" class=\"sk-top-container\"><div class=\"sk-text-repr-fallback\"><pre>Pipeline(steps=[(&#x27;scale&#x27;, StandardScaler()), (&#x27;model&#x27;, LogisticRegression())])</pre><b>In a Jupyter environment, please rerun this cell to show the HTML representation or trust the notebook. <br />On GitHub, the HTML representation is unable to render, please try loading this page with nbviewer.org.</b></div><div class=\"sk-container\" hidden><div class=\"sk-item sk-dashed-wrapped\"><div class=\"sk-label-container\"><div class=\"sk-label sk-toggleable\"><input class=\"sk-toggleable__control sk-hidden--visually\" id=\"sk-estimator-id-1\" type=\"checkbox\" ><label for=\"sk-estimator-id-1\" class=\"sk-toggleable__label sk-toggleable__label-arrow\">Pipeline</label><div class=\"sk-toggleable__content\"><pre>Pipeline(steps=[(&#x27;scale&#x27;, StandardScaler()), (&#x27;model&#x27;, LogisticRegression())])</pre></div></div></div><div class=\"sk-serial\"><div class=\"sk-item\"><div class=\"sk-estimator sk-toggleable\"><input class=\"sk-toggleable__control sk-hidden--visually\" id=\"sk-estimator-id-2\" type=\"checkbox\" ><label for=\"sk-estimator-id-2\" class=\"sk-toggleable__label sk-toggleable__label-arrow\">StandardScaler</label><div class=\"sk-toggleable__content\"><pre>StandardScaler()</pre></div></div></div><div class=\"sk-item\"><div class=\"sk-estimator sk-toggleable\"><input class=\"sk-toggleable__control sk-hidden--visually\" id=\"sk-estimator-id-3\" type=\"checkbox\" ><label for=\"sk-estimator-id-3\" class=\"sk-toggleable__label sk-toggleable__label-arrow\">LogisticRegression</label><div class=\"sk-toggleable__content\"><pre>LogisticRegression()</pre></div></div></div></div></div></div></div>"
      ],
      "text/plain": [
       "Pipeline(steps=[('scale', StandardScaler()), ('model', LogisticRegression())])"
      ]
     },
     "execution_count": 43,
     "metadata": {},
     "output_type": "execute_result"
    }
   ],
   "source": [
    "model.fit(X_train, y_train.values.ravel())"
   ]
  },
  {
   "cell_type": "code",
   "execution_count": 44,
   "id": "af59f8c0",
   "metadata": {
    "execution": {
     "iopub.execute_input": "2025-07-30T21:45:06.830061Z",
     "iopub.status.busy": "2025-07-30T21:45:06.829266Z",
     "iopub.status.idle": "2025-07-30T21:45:06.834999Z",
     "shell.execute_reply": "2025-07-30T21:45:06.834051Z"
    },
    "papermill": {
     "duration": 0.032901,
     "end_time": "2025-07-30T21:45:06.836687",
     "exception": false,
     "start_time": "2025-07-30T21:45:06.803786",
     "status": "completed"
    },
    "tags": []
   },
   "outputs": [],
   "source": [
    "from fairness_multiverse.universe import predict_w_threshold"
   ]
  },
  {
   "cell_type": "code",
   "execution_count": 45,
   "id": "a7cf2e16",
   "metadata": {
    "execution": {
     "iopub.execute_input": "2025-07-30T21:45:06.886980Z",
     "iopub.status.busy": "2025-07-30T21:45:06.886467Z",
     "iopub.status.idle": "2025-07-30T21:45:07.086364Z",
     "shell.execute_reply": "2025-07-30T21:45:07.085270Z"
    },
    "papermill": {
     "duration": 0.230653,
     "end_time": "2025-07-30T21:45:07.088592",
     "exception": false,
     "start_time": "2025-07-30T21:45:06.857939",
     "status": "completed"
    },
    "tags": []
   },
   "outputs": [
    {
     "data": {
      "text/plain": [
       "0.8212016497603388"
      ]
     },
     "execution_count": 45,
     "metadata": {},
     "output_type": "execute_result"
    }
   ],
   "source": [
    "probs_test = model.predict_proba(X_test)\n",
    "\n",
    "'''\n",
    "Below code returns a boolean array (or binary 0/1 array depending on how it’s used) where each element \n",
    "is True if the probability of class 1 is greater than or equal to the threshold, and False otherwise.\n",
    "'''\n",
    "y_pred_default = predict_w_threshold(probs_test, 0.5)\n",
    "\n",
    "from sklearn.metrics import accuracy_score\n",
    "\n",
    "# Naive prediction\n",
    "accuracy_score(y_true = y_true, y_pred = y_pred_default)"
   ]
  },
  {
   "cell_type": "code",
   "execution_count": 46,
   "id": "081964c3",
   "metadata": {
    "execution": {
     "iopub.execute_input": "2025-07-30T21:45:07.154353Z",
     "iopub.status.busy": "2025-07-30T21:45:07.153879Z",
     "iopub.status.idle": "2025-07-30T21:45:07.349228Z",
     "shell.execute_reply": "2025-07-30T21:45:07.348212Z"
    },
    "papermill": {
     "duration": 0.228771,
     "end_time": "2025-07-30T21:45:07.350843",
     "exception": false,
     "start_time": "2025-07-30T21:45:07.122072",
     "status": "completed"
    },
    "tags": []
   },
   "outputs": [
    {
     "data": {
      "text/plain": [
       "array([0, 0, 1, ..., 0, 0, 0])"
      ]
     },
     "execution_count": 46,
     "metadata": {},
     "output_type": "execute_result"
    }
   ],
   "source": [
    "model.predict(X_test)"
   ]
  },
  {
   "cell_type": "markdown",
   "id": "56c9705b",
   "metadata": {
    "papermill": {
     "duration": 0.025597,
     "end_time": "2025-07-30T21:45:07.401510",
     "exception": false,
     "start_time": "2025-07-30T21:45:07.375913",
     "status": "completed"
    },
    "tags": []
   },
   "source": [
    "# Conformal Prediction"
   ]
  },
  {
   "cell_type": "code",
   "execution_count": 47,
   "id": "160ec6ff",
   "metadata": {
    "execution": {
     "iopub.execute_input": "2025-07-30T21:45:07.454458Z",
     "iopub.status.busy": "2025-07-30T21:45:07.453923Z",
     "iopub.status.idle": "2025-07-30T21:45:07.460871Z",
     "shell.execute_reply": "2025-07-30T21:45:07.459604Z"
    },
    "papermill": {
     "duration": 0.035603,
     "end_time": "2025-07-30T21:45:07.462823",
     "exception": false,
     "start_time": "2025-07-30T21:45:07.427220",
     "status": "completed"
    },
    "tags": []
   },
   "outputs": [],
   "source": [
    "# Miscoverage level for conformal prediction (10% allowed error rate => 90% target coverage)\n",
    "alpha = 0.1"
   ]
  },
  {
   "cell_type": "code",
   "execution_count": 48,
   "id": "eadf4555-3dd3-440e-8e35-f82a4ad9f855",
   "metadata": {
    "execution": {
     "iopub.execute_input": "2025-07-30T21:45:07.515307Z",
     "iopub.status.busy": "2025-07-30T21:45:07.514795Z",
     "iopub.status.idle": "2025-07-30T21:45:07.734047Z",
     "shell.execute_reply": "2025-07-30T21:45:07.732944Z"
    },
    "papermill": {
     "duration": 0.24685,
     "end_time": "2025-07-30T21:45:07.736459",
     "exception": false,
     "start_time": "2025-07-30T21:45:07.489609",
     "status": "completed"
    },
    "tags": []
   },
   "outputs": [],
   "source": [
    "probs_calib = model.predict_proba(X_calib)"
   ]
  },
  {
   "cell_type": "code",
   "execution_count": 49,
   "id": "2ed93547-6d5d-4983-9b36-1ecb300da49a",
   "metadata": {
    "execution": {
     "iopub.execute_input": "2025-07-30T21:45:07.805521Z",
     "iopub.status.busy": "2025-07-30T21:45:07.804608Z",
     "iopub.status.idle": "2025-07-30T21:45:07.811709Z",
     "shell.execute_reply": "2025-07-30T21:45:07.810526Z"
    },
    "papermill": {
     "duration": 0.043011,
     "end_time": "2025-07-30T21:45:07.813451",
     "exception": false,
     "start_time": "2025-07-30T21:45:07.770440",
     "status": "completed"
    },
    "tags": []
   },
   "outputs": [],
   "source": [
    "y_calib = y_calib.values.ravel().astype(int)"
   ]
  },
  {
   "cell_type": "code",
   "execution_count": 50,
   "id": "65d1320d-f588-4b38-9072-62af1ae97f7d",
   "metadata": {
    "execution": {
     "iopub.execute_input": "2025-07-30T21:45:07.865224Z",
     "iopub.status.busy": "2025-07-30T21:45:07.864704Z",
     "iopub.status.idle": "2025-07-30T21:45:07.872601Z",
     "shell.execute_reply": "2025-07-30T21:45:07.871365Z"
    },
    "papermill": {
     "duration": 0.03492,
     "end_time": "2025-07-30T21:45:07.874676",
     "exception": false,
     "start_time": "2025-07-30T21:45:07.839756",
     "status": "completed"
    },
    "tags": []
   },
   "outputs": [],
   "source": [
    "from fairness_multiverse.conformal import compute_nc_scores\n",
    "\n",
    "# Compute nonconformity scores on calibration set (1 - probability of true class)\n",
    "nc_scores = compute_nc_scores(probs_calib, y_calib)"
   ]
  },
  {
   "cell_type": "code",
   "execution_count": 51,
   "id": "df3b8ca3-53b7-43d5-9667-7c85da7aeda2",
   "metadata": {
    "execution": {
     "iopub.execute_input": "2025-07-30T21:45:07.927996Z",
     "iopub.status.busy": "2025-07-30T21:45:07.927484Z",
     "iopub.status.idle": "2025-07-30T21:45:07.934111Z",
     "shell.execute_reply": "2025-07-30T21:45:07.933088Z"
    },
    "papermill": {
     "duration": 0.035139,
     "end_time": "2025-07-30T21:45:07.935686",
     "exception": false,
     "start_time": "2025-07-30T21:45:07.900547",
     "status": "completed"
    },
    "tags": []
   },
   "outputs": [],
   "source": [
    "from fairness_multiverse.conformal import find_threshold\n",
    "\n",
    "# Find conformal threshold q_hat for the given alpha (split conformal method)\n",
    "q_hat = find_threshold(nc_scores, alpha)"
   ]
  },
  {
   "cell_type": "code",
   "execution_count": 52,
   "id": "4d29e6c1-0ef6-4aa4-b8fe-4fe79b0d033a",
   "metadata": {
    "execution": {
     "iopub.execute_input": "2025-07-30T21:45:07.988748Z",
     "iopub.status.busy": "2025-07-30T21:45:07.988389Z",
     "iopub.status.idle": "2025-07-30T21:45:07.995442Z",
     "shell.execute_reply": "2025-07-30T21:45:07.994381Z"
    },
    "papermill": {
     "duration": 0.034772,
     "end_time": "2025-07-30T21:45:07.997270",
     "exception": false,
     "start_time": "2025-07-30T21:45:07.962498",
     "status": "completed"
    },
    "tags": []
   },
   "outputs": [
    {
     "data": {
      "text/plain": [
       "0.7854656380500967"
      ]
     },
     "execution_count": 52,
     "metadata": {},
     "output_type": "execute_result"
    }
   ],
   "source": [
    "q_hat"
   ]
  },
  {
   "cell_type": "code",
   "execution_count": 53,
   "id": "92460794-cdac-4be2-ba28-f28c0515a6fb",
   "metadata": {
    "execution": {
     "iopub.execute_input": "2025-07-30T21:45:08.050161Z",
     "iopub.status.busy": "2025-07-30T21:45:08.049669Z",
     "iopub.status.idle": "2025-07-30T21:45:09.033043Z",
     "shell.execute_reply": "2025-07-30T21:45:09.032070Z"
    },
    "papermill": {
     "duration": 1.010647,
     "end_time": "2025-07-30T21:45:09.034748",
     "exception": false,
     "start_time": "2025-07-30T21:45:08.024101",
     "status": "completed"
    },
    "tags": []
   },
   "outputs": [],
   "source": [
    "from fairness_multiverse.conformal import predict_conformal_sets\n",
    "\n",
    "# Generate prediction sets for each test example\n",
    "pred_sets = predict_conformal_sets(model, X_test, q_hat)"
   ]
  },
  {
   "cell_type": "code",
   "execution_count": 54,
   "id": "d90c9a65-e6db-4f5d-80cd-e68fb7e46829",
   "metadata": {
    "execution": {
     "iopub.execute_input": "2025-07-30T21:45:09.084258Z",
     "iopub.status.busy": "2025-07-30T21:45:09.083822Z",
     "iopub.status.idle": "2025-07-30T21:45:09.088859Z",
     "shell.execute_reply": "2025-07-30T21:45:09.088162Z"
    },
    "papermill": {
     "duration": 0.030734,
     "end_time": "2025-07-30T21:45:09.090140",
     "exception": false,
     "start_time": "2025-07-30T21:45:09.059406",
     "status": "completed"
    },
    "tags": []
   },
   "outputs": [],
   "source": [
    "y_true = y_true.squeeze()"
   ]
  },
  {
   "cell_type": "code",
   "execution_count": 55,
   "id": "3a58a54a-1e68-46b9-927a-df01f18aebc8",
   "metadata": {
    "execution": {
     "iopub.execute_input": "2025-07-30T21:45:09.119590Z",
     "iopub.status.busy": "2025-07-30T21:45:09.119193Z",
     "iopub.status.idle": "2025-07-30T21:45:10.063804Z",
     "shell.execute_reply": "2025-07-30T21:45:10.062852Z"
    },
    "papermill": {
     "duration": 0.962118,
     "end_time": "2025-07-30T21:45:10.065325",
     "exception": false,
     "start_time": "2025-07-30T21:45:09.103207",
     "status": "completed"
    },
    "tags": []
   },
   "outputs": [],
   "source": [
    "from fairness_multiverse.conformal import evaluate_sets\n",
    "\n",
    "# Evaluate coverage and average set size on test data\n",
    "metrics = evaluate_sets(pred_sets, y_true)"
   ]
  },
  {
   "cell_type": "markdown",
   "id": "2b569c12-9aaa-4c88-98c9-bbcd0cf3ebb8",
   "metadata": {
    "papermill": {
     "duration": 0.025029,
     "end_time": "2025-07-30T21:45:10.113696",
     "exception": false,
     "start_time": "2025-07-30T21:45:10.088667",
     "status": "completed"
    },
    "tags": []
   },
   "source": [
    "# CP Metrics"
   ]
  },
  {
   "cell_type": "code",
   "execution_count": 56,
   "id": "5ce0a5cb-201f-45a0-ade5-94c7f0bd6095",
   "metadata": {
    "execution": {
     "iopub.execute_input": "2025-07-30T21:45:10.166541Z",
     "iopub.status.busy": "2025-07-30T21:45:10.166022Z",
     "iopub.status.idle": "2025-07-30T21:45:10.173214Z",
     "shell.execute_reply": "2025-07-30T21:45:10.172269Z"
    },
    "papermill": {
     "duration": 0.036395,
     "end_time": "2025-07-30T21:45:10.174812",
     "exception": false,
     "start_time": "2025-07-30T21:45:10.138417",
     "status": "completed"
    },
    "tags": []
   },
   "outputs": [
    {
     "data": {
      "text/plain": [
       "{'coverage': 0.9082153606063984, 'avg_size': 1.234700702262847}"
      ]
     },
     "execution_count": 56,
     "metadata": {},
     "output_type": "execute_result"
    }
   ],
   "source": [
    "metrics"
   ]
  },
  {
   "cell_type": "code",
   "execution_count": 57,
   "id": "9b9a838d-31c9-430b-ae14-12baee460d17",
   "metadata": {
    "execution": {
     "iopub.execute_input": "2025-07-30T21:45:10.229328Z",
     "iopub.status.busy": "2025-07-30T21:45:10.228645Z",
     "iopub.status.idle": "2025-07-30T21:45:10.235108Z",
     "shell.execute_reply": "2025-07-30T21:45:10.234232Z"
    },
    "papermill": {
     "duration": 0.036379,
     "end_time": "2025-07-30T21:45:10.237020",
     "exception": false,
     "start_time": "2025-07-30T21:45:10.200641",
     "status": "completed"
    },
    "tags": []
   },
   "outputs": [],
   "source": [
    "example_universe = universe.copy()\n",
    "universe_training_year = example_universe.get(\"training_year\")\n",
    "universe_training_size = example_universe.get(\"training_size\")\n",
    "universe_scale = example_universe.get(\"scale\")\n",
    "universe_model = example_universe.get(\"model\")\n",
    "universe_exclude_features = example_universe.get(\"exclude_features\")\n",
    "universe_exclude_subgroups = example_universe.get(\"exclude_subgroups\")"
   ]
  },
  {
   "cell_type": "code",
   "execution_count": 58,
   "id": "f4b6a8ac-9dc0-4245-8a91-5b3b5999c4f9",
   "metadata": {
    "execution": {
     "iopub.execute_input": "2025-07-30T21:45:10.274562Z",
     "iopub.status.busy": "2025-07-30T21:45:10.274212Z",
     "iopub.status.idle": "2025-07-30T21:45:10.279446Z",
     "shell.execute_reply": "2025-07-30T21:45:10.278780Z"
    },
    "papermill": {
     "duration": 0.020343,
     "end_time": "2025-07-30T21:45:10.280843",
     "exception": false,
     "start_time": "2025-07-30T21:45:10.260500",
     "status": "completed"
    },
    "tags": []
   },
   "outputs": [],
   "source": [
    "cp_metrics_dict = {\n",
    "    \"universe_id\": [universe_id],\n",
    "    \"universe_training_year\": [universe_training_year],\n",
    "    \"universe_training_size\": [universe_training_size],\n",
    "    \"universe_scale\": [universe_scale],\n",
    "    \"universe_model\": [universe_model],\n",
    "    \"universe_exclude_features\": [universe_exclude_features],\n",
    "    \"universe_exclude_subgroups\": [universe_exclude_subgroups],\n",
    "    \"q_hat\": [q_hat],\n",
    "    \"coverage\": [metrics[\"coverage\"]],\n",
    "    \"avg_size\": [metrics[\"avg_size\"]],\n",
    "}"
   ]
  },
  {
   "cell_type": "code",
   "execution_count": 59,
   "id": "908acbb1-0371-4915-85ca-3fa520d2efe2",
   "metadata": {
    "execution": {
     "iopub.execute_input": "2025-07-30T21:45:10.308819Z",
     "iopub.status.busy": "2025-07-30T21:45:10.308250Z",
     "iopub.status.idle": "2025-07-30T21:45:10.315534Z",
     "shell.execute_reply": "2025-07-30T21:45:10.314487Z"
    },
    "papermill": {
     "duration": 0.022481,
     "end_time": "2025-07-30T21:45:10.317081",
     "exception": false,
     "start_time": "2025-07-30T21:45:10.294600",
     "status": "completed"
    },
    "tags": []
   },
   "outputs": [
    {
     "data": {
      "text/plain": [
       "{'universe_id': ['8d38959e441e44b2736a3d6a5e36e0ec'],\n",
       " 'universe_training_year': ['2010_14'],\n",
       " 'universe_training_size': ['1k'],\n",
       " 'universe_scale': ['scale'],\n",
       " 'universe_model': ['penalized_logreg'],\n",
       " 'universe_exclude_features': ['nationality'],\n",
       " 'universe_exclude_subgroups': ['drop-non-german'],\n",
       " 'q_hat': [0.7854656380500967],\n",
       " 'coverage': [0.9082153606063984],\n",
       " 'avg_size': [1.234700702262847]}"
      ]
     },
     "execution_count": 59,
     "metadata": {},
     "output_type": "execute_result"
    }
   ],
   "source": [
    "cp_metrics_dict"
   ]
  },
  {
   "cell_type": "code",
   "execution_count": 60,
   "id": "33007efc-14e9-4ec6-97ac-56a455c82265",
   "metadata": {
    "execution": {
     "iopub.execute_input": "2025-07-30T21:45:10.347319Z",
     "iopub.status.busy": "2025-07-30T21:45:10.346816Z",
     "iopub.status.idle": "2025-07-30T21:45:10.352345Z",
     "shell.execute_reply": "2025-07-30T21:45:10.351469Z"
    },
    "papermill": {
     "duration": 0.02119,
     "end_time": "2025-07-30T21:45:10.353691",
     "exception": false,
     "start_time": "2025-07-30T21:45:10.332501",
     "status": "completed"
    },
    "tags": []
   },
   "outputs": [],
   "source": [
    "cp_metrics_df = pd.DataFrame(cp_metrics_dict)"
   ]
  },
  {
   "cell_type": "code",
   "execution_count": 61,
   "id": "db12611b-57b2-4910-b9d0-355adfd6e7bf",
   "metadata": {
    "execution": {
     "iopub.execute_input": "2025-07-30T21:45:10.410923Z",
     "iopub.status.busy": "2025-07-30T21:45:10.409152Z",
     "iopub.status.idle": "2025-07-30T21:45:10.429513Z",
     "shell.execute_reply": "2025-07-30T21:45:10.428607Z"
    },
    "papermill": {
     "duration": 0.052148,
     "end_time": "2025-07-30T21:45:10.431540",
     "exception": false,
     "start_time": "2025-07-30T21:45:10.379392",
     "status": "completed"
    },
    "tags": []
   },
   "outputs": [
    {
     "data": {
      "text/html": [
       "<div>\n",
       "<style scoped>\n",
       "    .dataframe tbody tr th:only-of-type {\n",
       "        vertical-align: middle;\n",
       "    }\n",
       "\n",
       "    .dataframe tbody tr th {\n",
       "        vertical-align: top;\n",
       "    }\n",
       "\n",
       "    .dataframe thead th {\n",
       "        text-align: right;\n",
       "    }\n",
       "</style>\n",
       "<table border=\"1\" class=\"dataframe\">\n",
       "  <thead>\n",
       "    <tr style=\"text-align: right;\">\n",
       "      <th></th>\n",
       "      <th>universe_id</th>\n",
       "      <th>universe_training_year</th>\n",
       "      <th>universe_training_size</th>\n",
       "      <th>universe_scale</th>\n",
       "      <th>universe_model</th>\n",
       "      <th>universe_exclude_features</th>\n",
       "      <th>universe_exclude_subgroups</th>\n",
       "      <th>q_hat</th>\n",
       "      <th>coverage</th>\n",
       "      <th>avg_size</th>\n",
       "    </tr>\n",
       "  </thead>\n",
       "  <tbody>\n",
       "    <tr>\n",
       "      <th>0</th>\n",
       "      <td>8d38959e441e44b2736a3d6a5e36e0ec</td>\n",
       "      <td>2010_14</td>\n",
       "      <td>1k</td>\n",
       "      <td>scale</td>\n",
       "      <td>penalized_logreg</td>\n",
       "      <td>nationality</td>\n",
       "      <td>drop-non-german</td>\n",
       "      <td>0.785466</td>\n",
       "      <td>0.908215</td>\n",
       "      <td>1.234701</td>\n",
       "    </tr>\n",
       "  </tbody>\n",
       "</table>\n",
       "</div>"
      ],
      "text/plain": [
       "                        universe_id universe_training_year  \\\n",
       "0  8d38959e441e44b2736a3d6a5e36e0ec                2010_14   \n",
       "\n",
       "  universe_training_size universe_scale    universe_model  \\\n",
       "0                     1k          scale  penalized_logreg   \n",
       "\n",
       "  universe_exclude_features universe_exclude_subgroups     q_hat  coverage  \\\n",
       "0               nationality            drop-non-german  0.785466  0.908215   \n",
       "\n",
       "   avg_size  \n",
       "0  1.234701  "
      ]
     },
     "execution_count": 61,
     "metadata": {},
     "output_type": "execute_result"
    }
   ],
   "source": [
    "cp_metrics_df"
   ]
  },
  {
   "cell_type": "code",
   "execution_count": 62,
   "id": "b7fbde55-a0a1-47e4-9af6-fe4a17fa8c61",
   "metadata": {
    "execution": {
     "iopub.execute_input": "2025-07-30T21:45:10.492742Z",
     "iopub.status.busy": "2025-07-30T21:45:10.490934Z",
     "iopub.status.idle": "2025-07-30T21:45:10.497877Z",
     "shell.execute_reply": "2025-07-30T21:45:10.496754Z"
    },
    "papermill": {
     "duration": 0.039631,
     "end_time": "2025-07-30T21:45:10.499994",
     "exception": false,
     "start_time": "2025-07-30T21:45:10.460363",
     "status": "completed"
    },
    "tags": []
   },
   "outputs": [],
   "source": [
    "# Conditional Coverage & looking at subgroups"
   ]
  },
  {
   "cell_type": "code",
   "execution_count": 63,
   "id": "027ae886-68dd-4141-96c7-805a5450e1ef",
   "metadata": {
    "execution": {
     "iopub.execute_input": "2025-07-30T21:45:10.561370Z",
     "iopub.status.busy": "2025-07-30T21:45:10.560457Z",
     "iopub.status.idle": "2025-07-30T21:45:10.969400Z",
     "shell.execute_reply": "2025-07-30T21:45:10.968115Z"
    },
    "papermill": {
     "duration": 0.441946,
     "end_time": "2025-07-30T21:45:10.971498",
     "exception": false,
     "start_time": "2025-07-30T21:45:10.529552",
     "status": "completed"
    },
    "tags": []
   },
   "outputs": [],
   "source": [
    "from fairness_multiverse.conformal import build_cp_groups\n",
    "\n",
    "cp_groups_df = build_cp_groups(pred_sets, y_true, X_test.index, org_test)\n",
    "#needs universe_id and setting"
   ]
  },
  {
   "cell_type": "code",
   "execution_count": 64,
   "id": "01d5802c-663a-4d1f-9d69-e036faaffbf7",
   "metadata": {
    "execution": {
     "iopub.execute_input": "2025-07-30T21:45:11.031821Z",
     "iopub.status.busy": "2025-07-30T21:45:11.031118Z",
     "iopub.status.idle": "2025-07-30T21:45:11.037292Z",
     "shell.execute_reply": "2025-07-30T21:45:11.036070Z"
    },
    "papermill": {
     "duration": 0.038668,
     "end_time": "2025-07-30T21:45:11.039477",
     "exception": false,
     "start_time": "2025-07-30T21:45:11.000809",
     "status": "completed"
    },
    "tags": []
   },
   "outputs": [],
   "source": [
    "#delete\n",
    "#cp_groups_df"
   ]
  },
  {
   "cell_type": "code",
   "execution_count": 65,
   "id": "fa424af1-d1eb-443d-b717-2d279ada8408",
   "metadata": {
    "execution": {
     "iopub.execute_input": "2025-07-30T21:45:11.117835Z",
     "iopub.status.busy": "2025-07-30T21:45:11.117052Z",
     "iopub.status.idle": "2025-07-30T21:45:11.123196Z",
     "shell.execute_reply": "2025-07-30T21:45:11.122079Z"
    },
    "papermill": {
     "duration": 0.04752,
     "end_time": "2025-07-30T21:45:11.125281",
     "exception": false,
     "start_time": "2025-07-30T21:45:11.077761",
     "status": "completed"
    },
    "tags": []
   },
   "outputs": [],
   "source": [
    "#delete\n",
    "#percentage = (cp_groups_df['nongerman_female'] == 1).mean() * 100\n",
    "#print(percentage)\n"
   ]
  },
  {
   "cell_type": "code",
   "execution_count": 66,
   "id": "6cbdab96-b2b2-45af-ad54-d0516db2e28d",
   "metadata": {
    "execution": {
     "iopub.execute_input": "2025-07-30T21:45:11.203151Z",
     "iopub.status.busy": "2025-07-30T21:45:11.202380Z",
     "iopub.status.idle": "2025-07-30T21:45:12.811446Z",
     "shell.execute_reply": "2025-07-30T21:45:12.810422Z"
    },
    "papermill": {
     "duration": 1.650439,
     "end_time": "2025-07-30T21:45:12.813542",
     "exception": false,
     "start_time": "2025-07-30T21:45:11.163103",
     "status": "completed"
    },
    "tags": []
   },
   "outputs": [],
   "source": [
    "# Define covered = 1 if true_label is in the predicted set\n",
    "cp_groups_df['covered'] = cp_groups_df.apply(\n",
    "    lambda r: int(r['true_label'] in r['pred_set']),\n",
    "    axis=1\n",
    ")"
   ]
  },
  {
   "cell_type": "code",
   "execution_count": 67,
   "id": "338ff529-1a6b-4b87-a931-8e4788d52aad",
   "metadata": {
    "execution": {
     "iopub.execute_input": "2025-07-30T21:45:12.881072Z",
     "iopub.status.busy": "2025-07-30T21:45:12.879950Z",
     "iopub.status.idle": "2025-07-30T21:45:12.885689Z",
     "shell.execute_reply": "2025-07-30T21:45:12.884765Z"
    },
    "papermill": {
     "duration": 0.039672,
     "end_time": "2025-07-30T21:45:12.887513",
     "exception": false,
     "start_time": "2025-07-30T21:45:12.847841",
     "status": "completed"
    },
    "tags": []
   },
   "outputs": [],
   "source": [
    "#cp_groups_df"
   ]
  },
  {
   "cell_type": "code",
   "execution_count": 68,
   "id": "90032e27-66df-4540-9169-4e89cfbaa758",
   "metadata": {
    "execution": {
     "iopub.execute_input": "2025-07-30T21:45:12.949638Z",
     "iopub.status.busy": "2025-07-30T21:45:12.949128Z",
     "iopub.status.idle": "2025-07-30T21:45:12.963315Z",
     "shell.execute_reply": "2025-07-30T21:45:12.962371Z"
    },
    "papermill": {
     "duration": 0.047465,
     "end_time": "2025-07-30T21:45:12.965497",
     "exception": false,
     "start_time": "2025-07-30T21:45:12.918032",
     "status": "completed"
    },
    "tags": []
   },
   "outputs": [],
   "source": [
    "subgroups = ['frau1','nongerman','nongerman_male','nongerman_female']\n",
    "\n",
    "# Conditional coverage for subgroup==1\n",
    "cond_coverage = {\n",
    "    g: cp_groups_df.loc[cp_groups_df[g]==1, 'covered'].mean()\n",
    "    for g in subgroups\n",
    "}"
   ]
  },
  {
   "cell_type": "code",
   "execution_count": 69,
   "id": "1e348fb1-b9c3-45bc-ba23-f016827a7e0d",
   "metadata": {
    "execution": {
     "iopub.execute_input": "2025-07-30T21:45:13.026895Z",
     "iopub.status.busy": "2025-07-30T21:45:13.026368Z",
     "iopub.status.idle": "2025-07-30T21:45:13.034642Z",
     "shell.execute_reply": "2025-07-30T21:45:13.033659Z"
    },
    "papermill": {
     "duration": 0.041894,
     "end_time": "2025-07-30T21:45:13.036693",
     "exception": false,
     "start_time": "2025-07-30T21:45:12.994799",
     "status": "completed"
    },
    "tags": []
   },
   "outputs": [
    {
     "data": {
      "text/plain": [
       "{'frau1': 0.9071572988273352,\n",
       " 'nongerman': 0.9111323190927973,\n",
       " 'nongerman_male': 0.9259659551472575,\n",
       " 'nongerman_female': 0.8865871833084947}"
      ]
     },
     "execution_count": 69,
     "metadata": {},
     "output_type": "execute_result"
    }
   ],
   "source": [
    "cond_coverage"
   ]
  },
  {
   "cell_type": "code",
   "execution_count": 70,
   "id": "f5093324-c3dd-4d63-bc4c-8d945e5c8bbb",
   "metadata": {
    "execution": {
     "iopub.execute_input": "2025-07-30T21:45:13.090284Z",
     "iopub.status.busy": "2025-07-30T21:45:13.089772Z",
     "iopub.status.idle": "2025-07-30T21:45:13.097459Z",
     "shell.execute_reply": "2025-07-30T21:45:13.096366Z"
    },
    "papermill": {
     "duration": 0.041303,
     "end_time": "2025-07-30T21:45:13.099149",
     "exception": false,
     "start_time": "2025-07-30T21:45:13.057846",
     "status": "completed"
    },
    "tags": []
   },
   "outputs": [],
   "source": [
    "for subgroup, cov in cond_coverage.items():\n",
    "    cp_metrics_df[f\"cov_{subgroup}\"] = cov"
   ]
  },
  {
   "cell_type": "code",
   "execution_count": 71,
   "id": "6e872e10-dbe5-49e8-b554-5030c98ff75d",
   "metadata": {
    "execution": {
     "iopub.execute_input": "2025-07-30T21:45:13.145195Z",
     "iopub.status.busy": "2025-07-30T21:45:13.144747Z",
     "iopub.status.idle": "2025-07-30T21:45:13.160850Z",
     "shell.execute_reply": "2025-07-30T21:45:13.159452Z"
    },
    "papermill": {
     "duration": 0.036811,
     "end_time": "2025-07-30T21:45:13.162839",
     "exception": false,
     "start_time": "2025-07-30T21:45:13.126028",
     "status": "completed"
    },
    "tags": []
   },
   "outputs": [
    {
     "data": {
      "text/html": [
       "<div>\n",
       "<style scoped>\n",
       "    .dataframe tbody tr th:only-of-type {\n",
       "        vertical-align: middle;\n",
       "    }\n",
       "\n",
       "    .dataframe tbody tr th {\n",
       "        vertical-align: top;\n",
       "    }\n",
       "\n",
       "    .dataframe thead th {\n",
       "        text-align: right;\n",
       "    }\n",
       "</style>\n",
       "<table border=\"1\" class=\"dataframe\">\n",
       "  <thead>\n",
       "    <tr style=\"text-align: right;\">\n",
       "      <th></th>\n",
       "      <th>universe_id</th>\n",
       "      <th>universe_training_year</th>\n",
       "      <th>universe_training_size</th>\n",
       "      <th>universe_scale</th>\n",
       "      <th>universe_model</th>\n",
       "      <th>universe_exclude_features</th>\n",
       "      <th>universe_exclude_subgroups</th>\n",
       "      <th>q_hat</th>\n",
       "      <th>coverage</th>\n",
       "      <th>avg_size</th>\n",
       "      <th>cov_frau1</th>\n",
       "      <th>cov_nongerman</th>\n",
       "      <th>cov_nongerman_male</th>\n",
       "      <th>cov_nongerman_female</th>\n",
       "    </tr>\n",
       "  </thead>\n",
       "  <tbody>\n",
       "    <tr>\n",
       "      <th>0</th>\n",
       "      <td>8d38959e441e44b2736a3d6a5e36e0ec</td>\n",
       "      <td>2010_14</td>\n",
       "      <td>1k</td>\n",
       "      <td>scale</td>\n",
       "      <td>penalized_logreg</td>\n",
       "      <td>nationality</td>\n",
       "      <td>drop-non-german</td>\n",
       "      <td>0.785466</td>\n",
       "      <td>0.908215</td>\n",
       "      <td>1.234701</td>\n",
       "      <td>0.907157</td>\n",
       "      <td>0.911132</td>\n",
       "      <td>0.925966</td>\n",
       "      <td>0.886587</td>\n",
       "    </tr>\n",
       "  </tbody>\n",
       "</table>\n",
       "</div>"
      ],
      "text/plain": [
       "                        universe_id universe_training_year  \\\n",
       "0  8d38959e441e44b2736a3d6a5e36e0ec                2010_14   \n",
       "\n",
       "  universe_training_size universe_scale    universe_model  \\\n",
       "0                     1k          scale  penalized_logreg   \n",
       "\n",
       "  universe_exclude_features universe_exclude_subgroups     q_hat  coverage  \\\n",
       "0               nationality            drop-non-german  0.785466  0.908215   \n",
       "\n",
       "   avg_size  cov_frau1  cov_nongerman  cov_nongerman_male  \\\n",
       "0  1.234701   0.907157       0.911132            0.925966   \n",
       "\n",
       "   cov_nongerman_female  \n",
       "0              0.886587  "
      ]
     },
     "execution_count": 71,
     "metadata": {},
     "output_type": "execute_result"
    }
   ],
   "source": [
    "cp_metrics_df"
   ]
  },
  {
   "cell_type": "markdown",
   "id": "33774451",
   "metadata": {
    "papermill": {
     "duration": 0.026851,
     "end_time": "2025-07-30T21:45:13.216993",
     "exception": false,
     "start_time": "2025-07-30T21:45:13.190142",
     "status": "completed"
    },
    "tags": []
   },
   "source": [
    "# (Fairness) Metrics"
   ]
  },
  {
   "cell_type": "code",
   "execution_count": 72,
   "id": "debc5d62",
   "metadata": {
    "execution": {
     "iopub.execute_input": "2025-07-30T21:45:13.273057Z",
     "iopub.status.busy": "2025-07-30T21:45:13.272539Z",
     "iopub.status.idle": "2025-07-30T21:45:13.297098Z",
     "shell.execute_reply": "2025-07-30T21:45:13.295950Z"
    },
    "papermill": {
     "duration": 0.054956,
     "end_time": "2025-07-30T21:45:13.298622",
     "exception": false,
     "start_time": "2025-07-30T21:45:13.243666",
     "status": "completed"
    },
    "tags": []
   },
   "outputs": [],
   "source": [
    "# do I need to include maxdeutsch1.missing?\n",
    "\n",
    "import numpy as np\n",
    "\n",
    "colname_to_bin = \"maxdeutsch1\"\n",
    "majority_value = org_train[colname_to_bin].mode()[0]\n",
    "\n",
    "org_test[\"majmin\"] = np.where(org_test[colname_to_bin] == majority_value, \"majority\", \"minority\")"
   ]
  },
  {
   "cell_type": "code",
   "execution_count": 73,
   "id": "06a50de5",
   "metadata": {
    "execution": {
     "iopub.execute_input": "2025-07-30T21:45:13.348620Z",
     "iopub.status.busy": "2025-07-30T21:45:13.348229Z",
     "iopub.status.idle": "2025-07-30T21:45:16.323136Z",
     "shell.execute_reply": "2025-07-30T21:45:16.322111Z"
    },
    "papermill": {
     "duration": 2.997245,
     "end_time": "2025-07-30T21:45:16.325259",
     "exception": false,
     "start_time": "2025-07-30T21:45:13.328014",
     "status": "completed"
    },
    "tags": []
   },
   "outputs": [],
   "source": [
    "example_universe = universe.copy()\n",
    "example_universe[\"cutoff\"] = example_universe[\"cutoff\"][0]\n",
    "example_universe[\"eval_fairness_grouping\"] = example_universe[\"eval_fairness_grouping\"][0]\n",
    "fairness_dict, metric_frame = universe_analysis.compute_metrics(\n",
    "    example_universe,\n",
    "    y_pred_prob=probs_test,\n",
    "    y_test=y_true,\n",
    "    org_test=org_test,\n",
    ")"
   ]
  },
  {
   "cell_type": "markdown",
   "id": "f95d4e02",
   "metadata": {
    "papermill": {
     "duration": 0.029579,
     "end_time": "2025-07-30T21:45:16.384850",
     "exception": false,
     "start_time": "2025-07-30T21:45:16.355271",
     "status": "completed"
    },
    "tags": []
   },
   "source": [
    "# Overall"
   ]
  },
  {
   "cell_type": "markdown",
   "id": "bdee4871",
   "metadata": {
    "papermill": {
     "duration": 0.024861,
     "end_time": "2025-07-30T21:45:16.439147",
     "exception": false,
     "start_time": "2025-07-30T21:45:16.414286",
     "status": "completed"
    },
    "tags": []
   },
   "source": [
    "Fairness\n",
    "Main fairness target: Equalized Odds. Seems to be a better fit than equal opportunity, since we're not only interested in Y = 1. Seems to be a better fit than demographic parity, since we also care about accuracy, not just equal distribution of preds.\n",
    "\n",
    "Pick column for computation of fairness metrics\n",
    "\n",
    "Performance\n",
    "Overall performance measures, most interesting in relation to the measures split by group below"
   ]
  },
  {
   "cell_type": "code",
   "execution_count": 74,
   "id": "c4e067c6",
   "metadata": {
    "execution": {
     "iopub.execute_input": "2025-07-30T21:45:16.474871Z",
     "iopub.status.busy": "2025-07-30T21:45:16.474380Z",
     "iopub.status.idle": "2025-07-30T21:45:16.484718Z",
     "shell.execute_reply": "2025-07-30T21:45:16.483497Z"
    },
    "papermill": {
     "duration": 0.032788,
     "end_time": "2025-07-30T21:45:16.486746",
     "exception": false,
     "start_time": "2025-07-30T21:45:16.453958",
     "status": "completed"
    },
    "tags": []
   },
   "outputs": [
    {
     "data": {
      "text/plain": [
       "accuracy                   0.217802\n",
       "balanced accuracy          0.533932\n",
       "f1                         0.239314\n",
       "precision                  0.136712\n",
       "false positive rate        0.891294\n",
       "false negative rate        0.040841\n",
       "selection rate             0.900000\n",
       "count                  89710.000000\n",
       "dtype: float64"
      ]
     },
     "execution_count": 74,
     "metadata": {},
     "output_type": "execute_result"
    }
   ],
   "source": [
    "metric_frame.overall"
   ]
  },
  {
   "cell_type": "markdown",
   "id": "e968fe9d",
   "metadata": {
    "papermill": {
     "duration": 0.039284,
     "end_time": "2025-07-30T21:45:16.564988",
     "exception": false,
     "start_time": "2025-07-30T21:45:16.525704",
     "status": "completed"
    },
    "tags": []
   },
   "source": [
    "By Group"
   ]
  },
  {
   "cell_type": "code",
   "execution_count": 75,
   "id": "ec325bce",
   "metadata": {
    "execution": {
     "iopub.execute_input": "2025-07-30T21:45:16.643108Z",
     "iopub.status.busy": "2025-07-30T21:45:16.642517Z",
     "iopub.status.idle": "2025-07-30T21:45:16.656373Z",
     "shell.execute_reply": "2025-07-30T21:45:16.655553Z"
    },
    "papermill": {
     "duration": 0.052176,
     "end_time": "2025-07-30T21:45:16.657576",
     "exception": false,
     "start_time": "2025-07-30T21:45:16.605400",
     "status": "completed"
    },
    "tags": []
   },
   "outputs": [
    {
     "data": {
      "text/html": [
       "<div>\n",
       "<style scoped>\n",
       "    .dataframe tbody tr th:only-of-type {\n",
       "        vertical-align: middle;\n",
       "    }\n",
       "\n",
       "    .dataframe tbody tr th {\n",
       "        vertical-align: top;\n",
       "    }\n",
       "\n",
       "    .dataframe thead th {\n",
       "        text-align: right;\n",
       "    }\n",
       "</style>\n",
       "<table border=\"1\" class=\"dataframe\">\n",
       "  <thead>\n",
       "    <tr style=\"text-align: right;\">\n",
       "      <th></th>\n",
       "      <th>accuracy</th>\n",
       "      <th>balanced accuracy</th>\n",
       "      <th>f1</th>\n",
       "      <th>precision</th>\n",
       "      <th>false positive rate</th>\n",
       "      <th>false negative rate</th>\n",
       "      <th>selection rate</th>\n",
       "      <th>count</th>\n",
       "    </tr>\n",
       "    <tr>\n",
       "      <th>majmin</th>\n",
       "      <th></th>\n",
       "      <th></th>\n",
       "      <th></th>\n",
       "      <th></th>\n",
       "      <th></th>\n",
       "      <th></th>\n",
       "      <th></th>\n",
       "      <th></th>\n",
       "    </tr>\n",
       "  </thead>\n",
       "  <tbody>\n",
       "    <tr>\n",
       "      <th>majority</th>\n",
       "      <td>0.231892</td>\n",
       "      <td>0.538318</td>\n",
       "      <td>0.247280</td>\n",
       "      <td>0.142032</td>\n",
       "      <td>0.878178</td>\n",
       "      <td>0.045186</td>\n",
       "      <td>0.888304</td>\n",
       "      <td>69170.0</td>\n",
       "    </tr>\n",
       "    <tr>\n",
       "      <th>minority</th>\n",
       "      <td>0.170351</td>\n",
       "      <td>0.520652</td>\n",
       "      <td>0.213359</td>\n",
       "      <td>0.119772</td>\n",
       "      <td>0.934625</td>\n",
       "      <td>0.024071</td>\n",
       "      <td>0.939387</td>\n",
       "      <td>20540.0</td>\n",
       "    </tr>\n",
       "  </tbody>\n",
       "</table>\n",
       "</div>"
      ],
      "text/plain": [
       "          accuracy  balanced accuracy        f1  precision  \\\n",
       "majmin                                                       \n",
       "majority  0.231892           0.538318  0.247280   0.142032   \n",
       "minority  0.170351           0.520652  0.213359   0.119772   \n",
       "\n",
       "          false positive rate  false negative rate  selection rate    count  \n",
       "majmin                                                                       \n",
       "majority             0.878178             0.045186        0.888304  69170.0  \n",
       "minority             0.934625             0.024071        0.939387  20540.0  "
      ]
     },
     "execution_count": 75,
     "metadata": {},
     "output_type": "execute_result"
    }
   ],
   "source": [
    "metric_frame.by_group"
   ]
  },
  {
   "cell_type": "code",
   "execution_count": 76,
   "id": "a9ddbe63",
   "metadata": {
    "execution": {
     "iopub.execute_input": "2025-07-30T21:45:16.688173Z",
     "iopub.status.busy": "2025-07-30T21:45:16.687817Z",
     "iopub.status.idle": "2025-07-30T21:45:19.381694Z",
     "shell.execute_reply": "2025-07-30T21:45:19.380956Z"
    },
    "papermill": {
     "duration": 2.710452,
     "end_time": "2025-07-30T21:45:19.383004",
     "exception": false,
     "start_time": "2025-07-30T21:45:16.672552",
     "status": "completed"
    },
    "tags": []
   },
   "outputs": [
    {
     "data": {
      "text/plain": [
       "array([[<Axes: title={'center': 'accuracy'}, xlabel='majmin'>,\n",
       "        <Axes: title={'center': 'balanced accuracy'}, xlabel='majmin'>,\n",
       "        <Axes: title={'center': 'f1'}, xlabel='majmin'>],\n",
       "       [<Axes: title={'center': 'precision'}, xlabel='majmin'>,\n",
       "        <Axes: title={'center': 'false positive rate'}, xlabel='majmin'>,\n",
       "        <Axes: title={'center': 'false negative rate'}, xlabel='majmin'>],\n",
       "       [<Axes: title={'center': 'selection rate'}, xlabel='majmin'>,\n",
       "        <Axes: title={'center': 'count'}, xlabel='majmin'>,\n",
       "        <Axes: xlabel='majmin'>]], dtype=object)"
      ]
     },
     "execution_count": 76,
     "metadata": {},
     "output_type": "execute_result"
    },
    {
     "data": {
      "image/png": "[encoded data removed]",
      "text/plain": [
       "<Figure size 1200x800 with 9 Axes>"
      ]
     },
     "metadata": {},
     "output_type": "display_data"
    }
   ],
   "source": [
    "# In a graphic\n",
    "metric_frame.by_group.plot.bar(\n",
    "    subplots=True,\n",
    "    layout=[3, 3],\n",
    "    legend=False,\n",
    "    figsize=[12, 8],\n",
    "    title=\"Show all metrics\",\n",
    ")"
   ]
  },
  {
   "cell_type": "markdown",
   "id": "f57a0bac",
   "metadata": {
    "papermill": {
     "duration": 0.034916,
     "end_time": "2025-07-30T21:45:19.439439",
     "exception": false,
     "start_time": "2025-07-30T21:45:19.404523",
     "status": "completed"
    },
    "tags": []
   },
   "source": [
    "# Final Output"
   ]
  },
  {
   "cell_type": "code",
   "execution_count": 77,
   "id": "96d280a3",
   "metadata": {
    "execution": {
     "iopub.execute_input": "2025-07-30T21:45:19.504096Z",
     "iopub.status.busy": "2025-07-30T21:45:19.502684Z",
     "iopub.status.idle": "2025-07-30T21:45:19.513195Z",
     "shell.execute_reply": "2025-07-30T21:45:19.512088Z"
    },
    "papermill": {
     "duration": 0.041694,
     "end_time": "2025-07-30T21:45:19.514912",
     "exception": false,
     "start_time": "2025-07-30T21:45:19.473218",
     "status": "completed"
    },
    "tags": []
   },
   "outputs": [
    {
     "data": {
      "text/plain": [
       "4"
      ]
     },
     "execution_count": 77,
     "metadata": {},
     "output_type": "execute_result"
    }
   ],
   "source": [
    "sub_universes = universe_analysis.generate_sub_universes()\n",
    "len(sub_universes)"
   ]
  },
  {
   "cell_type": "code",
   "execution_count": 78,
   "id": "92adf7ba",
   "metadata": {
    "execution": {
     "iopub.execute_input": "2025-07-30T21:45:19.579640Z",
     "iopub.status.busy": "2025-07-30T21:45:19.578942Z",
     "iopub.status.idle": "2025-07-30T21:45:19.585809Z",
     "shell.execute_reply": "2025-07-30T21:45:19.584853Z"
    },
    "papermill": {
     "duration": 0.041418,
     "end_time": "2025-07-30T21:45:19.587635",
     "exception": false,
     "start_time": "2025-07-30T21:45:19.546217",
     "status": "completed"
    },
    "tags": []
   },
   "outputs": [],
   "source": [
    "def filter_sub_universe_data(sub_universe, org_test):\n",
    "    # Keep all rows — no filtering\n",
    "    keep_rows_mask = np.ones(org_test.shape[0], dtype=bool)\n",
    "\n",
    "    print(f\"[INFO] Keeping all rows: {keep_rows_mask.sum()} rows retained.\")\n",
    "    return keep_rows_mask"
   ]
  },
  {
   "cell_type": "code",
   "execution_count": 79,
   "id": "4a759155",
   "metadata": {
    "execution": {
     "iopub.execute_input": "2025-07-30T21:45:19.637674Z",
     "iopub.status.busy": "2025-07-30T21:45:19.637249Z",
     "iopub.status.idle": "2025-07-30T21:45:29.214977Z",
     "shell.execute_reply": "2025-07-30T21:45:29.213865Z"
    },
    "papermill": {
     "duration": 9.600556,
     "end_time": "2025-07-30T21:45:29.216465",
     "exception": false,
     "start_time": "2025-07-30T21:45:19.615909",
     "status": "completed"
    },
    "tags": []
   },
   "outputs": [
    {
     "name": "stdout",
     "output_type": "stream",
     "text": [
      "Stopping execution_time clock.\n",
      "[INFO] Keeping all rows: 89710 rows retained.\n"
     ]
    },
    {
     "name": "stdout",
     "output_type": "stream",
     "text": [
      "[INFO] Keeping all rows: 89710 rows retained.\n"
     ]
    },
    {
     "name": "stdout",
     "output_type": "stream",
     "text": [
      "[INFO] Keeping all rows: 89710 rows retained.\n"
     ]
    },
    {
     "name": "stdout",
     "output_type": "stream",
     "text": [
      "[INFO] Keeping all rows: 89710 rows retained.\n"
     ]
    },
    {
     "data": {
      "text/html": [
       "<div>\n",
       "<style scoped>\n",
       "    .dataframe tbody tr th:only-of-type {\n",
       "        vertical-align: middle;\n",
       "    }\n",
       "\n",
       "    .dataframe tbody tr th {\n",
       "        vertical-align: top;\n",
       "    }\n",
       "\n",
       "    .dataframe thead th {\n",
       "        text-align: right;\n",
       "    }\n",
       "</style>\n",
       "<table border=\"1\" class=\"dataframe\">\n",
       "  <thead>\n",
       "    <tr style=\"text-align: right;\">\n",
       "      <th></th>\n",
       "      <th>run_no</th>\n",
       "      <th>universe_id</th>\n",
       "      <th>universe_settings</th>\n",
       "      <th>execution_time</th>\n",
       "      <th>test_size_n</th>\n",
       "      <th>test_size_frac</th>\n",
       "      <th>fair_main_equalized_odds_difference</th>\n",
       "      <th>fair_main_equalized_odds_ratio</th>\n",
       "      <th>fair_main_demographic_parity_difference</th>\n",
       "      <th>fair_main_demographic_parity_ratio</th>\n",
       "      <th>...</th>\n",
       "      <th>perf_grp_precision_0</th>\n",
       "      <th>perf_grp_precision_1</th>\n",
       "      <th>perf_grp_false positive rate_0</th>\n",
       "      <th>perf_grp_false positive rate_1</th>\n",
       "      <th>perf_grp_false negative rate_0</th>\n",
       "      <th>perf_grp_false negative rate_1</th>\n",
       "      <th>perf_grp_selection rate_0</th>\n",
       "      <th>perf_grp_selection rate_1</th>\n",
       "      <th>perf_grp_count_0</th>\n",
       "      <th>perf_grp_count_1</th>\n",
       "    </tr>\n",
       "  </thead>\n",
       "  <tbody>\n",
       "    <tr>\n",
       "      <th>0</th>\n",
       "      <td>14</td>\n",
       "      <td>8d38959e441e44b2736a3d6a5e36e0ec</td>\n",
       "      <td>{\"cutoff\": \"quantile_0.1\", \"eval_fairness_grou...</td>\n",
       "      <td>28.538345</td>\n",
       "      <td>89710</td>\n",
       "      <td>1.0</td>\n",
       "      <td>0.056447</td>\n",
       "      <td>0.939605</td>\n",
       "      <td>0.051082</td>\n",
       "      <td>0.945622</td>\n",
       "      <td>...</td>\n",
       "      <td>NaN</td>\n",
       "      <td>NaN</td>\n",
       "      <td>NaN</td>\n",
       "      <td>NaN</td>\n",
       "      <td>NaN</td>\n",
       "      <td>NaN</td>\n",
       "      <td>NaN</td>\n",
       "      <td>NaN</td>\n",
       "      <td>NaN</td>\n",
       "      <td>NaN</td>\n",
       "    </tr>\n",
       "    <tr>\n",
       "      <th>0</th>\n",
       "      <td>14</td>\n",
       "      <td>8d38959e441e44b2736a3d6a5e36e0ec</td>\n",
       "      <td>{\"cutoff\": \"quantile_0.1\", \"eval_fairness_grou...</td>\n",
       "      <td>28.538345</td>\n",
       "      <td>89710</td>\n",
       "      <td>1.0</td>\n",
       "      <td>0.056447</td>\n",
       "      <td>0.939605</td>\n",
       "      <td>0.051082</td>\n",
       "      <td>0.945622</td>\n",
       "      <td>...</td>\n",
       "      <td>0.119772</td>\n",
       "      <td>0.142032</td>\n",
       "      <td>0.934625</td>\n",
       "      <td>0.878178</td>\n",
       "      <td>0.024071</td>\n",
       "      <td>0.045186</td>\n",
       "      <td>0.939387</td>\n",
       "      <td>0.888304</td>\n",
       "      <td>20540.0</td>\n",
       "      <td>69170.0</td>\n",
       "    </tr>\n",
       "    <tr>\n",
       "      <th>0</th>\n",
       "      <td>14</td>\n",
       "      <td>8d38959e441e44b2736a3d6a5e36e0ec</td>\n",
       "      <td>{\"cutoff\": \"quantile_0.25\", \"eval_fairness_gro...</td>\n",
       "      <td>28.538345</td>\n",
       "      <td>89710</td>\n",
       "      <td>1.0</td>\n",
       "      <td>0.142677</td>\n",
       "      <td>0.830152</td>\n",
       "      <td>0.129323</td>\n",
       "      <td>0.847803</td>\n",
       "      <td>...</td>\n",
       "      <td>NaN</td>\n",
       "      <td>NaN</td>\n",
       "      <td>NaN</td>\n",
       "      <td>NaN</td>\n",
       "      <td>NaN</td>\n",
       "      <td>NaN</td>\n",
       "      <td>NaN</td>\n",
       "      <td>NaN</td>\n",
       "      <td>NaN</td>\n",
       "      <td>NaN</td>\n",
       "    </tr>\n",
       "    <tr>\n",
       "      <th>0</th>\n",
       "      <td>14</td>\n",
       "      <td>8d38959e441e44b2736a3d6a5e36e0ec</td>\n",
       "      <td>{\"cutoff\": \"quantile_0.25\", \"eval_fairness_gro...</td>\n",
       "      <td>28.538345</td>\n",
       "      <td>89710</td>\n",
       "      <td>1.0</td>\n",
       "      <td>0.142677</td>\n",
       "      <td>0.830152</td>\n",
       "      <td>0.129323</td>\n",
       "      <td>0.847803</td>\n",
       "      <td>...</td>\n",
       "      <td>0.125365</td>\n",
       "      <td>0.159887</td>\n",
       "      <td>0.840029</td>\n",
       "      <td>0.697351</td>\n",
       "      <td>0.076014</td>\n",
       "      <td>0.128337</td>\n",
       "      <td>0.849708</td>\n",
       "      <td>0.720385</td>\n",
       "      <td>20540.0</td>\n",
       "      <td>69170.0</td>\n",
       "    </tr>\n",
       "  </tbody>\n",
       "</table>\n",
       "<p>4 rows × 50 columns</p>\n",
       "</div>"
      ],
      "text/plain": [
       "  run_no                       universe_id  \\\n",
       "0     14  8d38959e441e44b2736a3d6a5e36e0ec   \n",
       "0     14  8d38959e441e44b2736a3d6a5e36e0ec   \n",
       "0     14  8d38959e441e44b2736a3d6a5e36e0ec   \n",
       "0     14  8d38959e441e44b2736a3d6a5e36e0ec   \n",
       "\n",
       "                                   universe_settings  execution_time  \\\n",
       "0  {\"cutoff\": \"quantile_0.1\", \"eval_fairness_grou...       28.538345   \n",
       "0  {\"cutoff\": \"quantile_0.1\", \"eval_fairness_grou...       28.538345   \n",
       "0  {\"cutoff\": \"quantile_0.25\", \"eval_fairness_gro...       28.538345   \n",
       "0  {\"cutoff\": \"quantile_0.25\", \"eval_fairness_gro...       28.538345   \n",
       "\n",
       "   test_size_n  test_size_frac  fair_main_equalized_odds_difference  \\\n",
       "0        89710             1.0                             0.056447   \n",
       "0        89710             1.0                             0.056447   \n",
       "0        89710             1.0                             0.142677   \n",
       "0        89710             1.0                             0.142677   \n",
       "\n",
       "   fair_main_equalized_odds_ratio  fair_main_demographic_parity_difference  \\\n",
       "0                        0.939605                                 0.051082   \n",
       "0                        0.939605                                 0.051082   \n",
       "0                        0.830152                                 0.129323   \n",
       "0                        0.830152                                 0.129323   \n",
       "\n",
       "   fair_main_demographic_parity_ratio  ...  perf_grp_precision_0  \\\n",
       "0                            0.945622  ...                   NaN   \n",
       "0                            0.945622  ...              0.119772   \n",
       "0                            0.847803  ...                   NaN   \n",
       "0                            0.847803  ...              0.125365   \n",
       "\n",
       "   perf_grp_precision_1  perf_grp_false positive rate_0  \\\n",
       "0                   NaN                             NaN   \n",
       "0              0.142032                        0.934625   \n",
       "0                   NaN                             NaN   \n",
       "0              0.159887                        0.840029   \n",
       "\n",
       "   perf_grp_false positive rate_1  perf_grp_false negative rate_0  \\\n",
       "0                             NaN                             NaN   \n",
       "0                        0.878178                        0.024071   \n",
       "0                             NaN                             NaN   \n",
       "0                        0.697351                        0.076014   \n",
       "\n",
       "   perf_grp_false negative rate_1  perf_grp_selection rate_0  \\\n",
       "0                             NaN                        NaN   \n",
       "0                        0.045186                   0.939387   \n",
       "0                             NaN                        NaN   \n",
       "0                        0.128337                   0.849708   \n",
       "\n",
       "   perf_grp_selection rate_1  perf_grp_count_0  perf_grp_count_1  \n",
       "0                        NaN               NaN               NaN  \n",
       "0                   0.888304           20540.0           69170.0  \n",
       "0                        NaN               NaN               NaN  \n",
       "0                   0.720385           20540.0           69170.0  \n",
       "\n",
       "[4 rows x 50 columns]"
      ]
     },
     "execution_count": 79,
     "metadata": {},
     "output_type": "execute_result"
    }
   ],
   "source": [
    "final_output = universe_analysis.generate_final_output(\n",
    "    y_pred_prob=probs_test,\n",
    "    y_test=y_true,\n",
    "    org_test=org_test,\n",
    "    filter_data=filter_sub_universe_data,\n",
    "    cp_metrics_df=cp_metrics_df,\n",
    "    save=True,\n",
    ")\n",
    "final_output"
   ]
  },
  {
   "cell_type": "code",
   "execution_count": null,
   "id": "721ff514-cb11-46f8-b6fc-50392f74b5cb",
   "metadata": {
    "papermill": {
     "duration": 0.015208,
     "end_time": "2025-07-30T21:45:29.252526",
     "exception": false,
     "start_time": "2025-07-30T21:45:29.237318",
     "status": "completed"
    },
    "tags": []
   },
   "outputs": [],
   "source": []
  }
 ],
 "metadata": {
  "celltoolbar": "Tags",
  "kernelspec": {
   "display_name": "Python (CMA Fairness)",
   "language": "python",
   "name": "cma_fair_env"
  },
  "language_info": {
   "codemirror_mode": {
    "name": "ipython",
    "version": 3
   },
   "file_extension": ".py",
   "mimetype": "text/x-python",
   "name": "python",
   "nbconvert_exporter": "python",
   "pygments_lexer": "ipython3",
   "version": "3.10.12"
  },
  "papermill": {
   "default_parameters": {},
   "duration": 42.027492,
   "end_time": "2025-07-30T21:45:29.986040",
   "environment_variables": {},
   "exception": null,
   "input_path": "universe_analysis.ipynb",
   "output_path": "output/runs/14/notebooks/m_14-8d38959e441e44b2736a3d6a5e36e0ec.ipynb",
   "parameters": {
    "output_dir": "output",
    "run_no": "14",
    "seed": "2023",
    "universe": "{\"cutoff\": [\"quantile_0.1\", \"quantile_0.25\"], \"eval_fairness_grouping\": [\"majority-minority\", \"nationality-all\"], \"exclude_features\": \"nationality\", \"exclude_subgroups\": \"drop-non-german\", \"model\": \"penalized_logreg\", \"scale\": \"scale\", \"training_size\": \"1k\", \"training_year\": \"2010_14\"}",
    "universe_id": "8d38959e441e44b2736a3d6a5e36e0ec"
   },
   "start_time": "2025-07-30T21:44:47.958548",
   "version": "2.6.0"
  }
 },
 "nbformat": 4,
 "nbformat_minor": 5
}