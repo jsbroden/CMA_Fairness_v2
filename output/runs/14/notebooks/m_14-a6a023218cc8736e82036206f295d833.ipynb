{
 "cells": [
  {
   "cell_type": "code",
   "execution_count": 1,
   "id": "f159f837-637b-42ba-96b5-ec9a68c44524",
   "metadata": {
    "execution": {
     "iopub.execute_input": "2025-07-30T20:16:39.655182Z",
     "iopub.status.busy": "2025-07-30T20:16:39.654575Z",
     "iopub.status.idle": "2025-07-30T20:16:39.684539Z",
     "shell.execute_reply": "2025-07-30T20:16:39.671818Z"
    },
    "papermill": {
     "duration": 0.052816,
     "end_time": "2025-07-30T20:16:39.686150",
     "exception": false,
     "start_time": "2025-07-30T20:16:39.633334",
     "status": "completed"
    },
    "tags": []
   },
   "outputs": [
    {
     "name": "stdout",
     "output_type": "stream",
     "text": [
      "/dss/dsshome1/0C/ra93lal2/cma/CMA_Fairness_v2\n"
     ]
    },
    {
     "name": "stderr",
     "output_type": "stream",
     "text": [
      "/dss/dsshome1/0C/ra93lal2/.local/share/virtualenvs/CMA_Fairness_v2-3j10GkSs/lib/python3.10/site-packages/IPython/core/magics/osm.py:393: UserWarning: This is now an optional IPython functionality, using bookmarks requires you to install the `pickleshare` library.\n",
      "  bkms = self.shell.db.get('bookmarks', {})\n",
      "/dss/dsshome1/0C/ra93lal2/.local/share/virtualenvs/CMA_Fairness_v2-3j10GkSs/lib/python3.10/site-packages/IPython/core/magics/osm.py:417: UserWarning: This is now an optional IPython functionality, setting dhist requires you to install the `pickleshare` library.\n",
      "  self.shell.db['dhist'] = compress_dhist(dhist)[-100:]\n"
     ]
    }
   ],
   "source": [
    "%cd ~/cma/CMA_Fairness_v2"
   ]
  },
  {
   "cell_type": "markdown",
   "id": "de2603b9",
   "metadata": {
    "papermill": {
     "duration": 0.014414,
     "end_time": "2025-07-30T20:16:39.719981",
     "exception": false,
     "start_time": "2025-07-30T20:16:39.705567",
     "status": "completed"
    },
    "tags": []
   },
   "source": [
    "The following cell holds the definition of our parameters, these values can be overriden by rendering the with e.g. the following command:\n",
    "\n",
    "papermill -p alpha 0.2 -p ratio 0.3 universe_analysis.ipynb output/test_run.ipynb"
   ]
  },
  {
   "cell_type": "code",
   "execution_count": 2,
   "id": "a80968a0-40bb-4fa9-85ef-2d5eefb01975",
   "metadata": {
    "execution": {
     "iopub.execute_input": "2025-07-30T20:16:39.752280Z",
     "iopub.status.busy": "2025-07-30T20:16:39.751822Z",
     "iopub.status.idle": "2025-07-30T20:16:39.756793Z",
     "shell.execute_reply": "2025-07-30T20:16:39.755885Z"
    },
    "papermill": {
     "duration": 0.027698,
     "end_time": "2025-07-30T20:16:39.758255",
     "exception": false,
     "start_time": "2025-07-30T20:16:39.730557",
     "status": "completed"
    },
    "tags": []
   },
   "outputs": [
    {
     "name": "stdout",
     "output_type": "stream",
     "text": [
      "Current working directory: /dss/dsshome1/0C/ra93lal2/cma/CMA_Fairness_v2\n"
     ]
    }
   ],
   "source": [
    "import os\n",
    "print(\"Current working directory:\", os.getcwd())"
   ]
  },
  {
   "cell_type": "code",
   "execution_count": 3,
   "id": "2dce4c03",
   "metadata": {
    "execution": {
     "iopub.execute_input": "2025-07-30T20:16:39.782473Z",
     "iopub.status.busy": "2025-07-30T20:16:39.782135Z",
     "iopub.status.idle": "2025-07-30T20:16:39.786934Z",
     "shell.execute_reply": "2025-07-30T20:16:39.786151Z"
    },
    "papermill": {
     "duration": 0.018349,
     "end_time": "2025-07-30T20:16:39.788367",
     "exception": false,
     "start_time": "2025-07-30T20:16:39.770018",
     "status": "completed"
    },
    "tags": [
     "parameters"
    ]
   },
   "outputs": [],
   "source": [
    "run_no = 0\n",
    "universe_id = \"test\"\n",
    "universe = {\n",
    "    \"training_size\": \"25k\", # \"25k\", \"5k\", \"1k\"\n",
    "    \"training_year\": \"2014\", # \"2014\", \"2012_14\", \"2010_14\"\n",
    "    \"scale\": \"scale\", # \"scale\", \"do-not-scale\",\n",
    "    #\"stratify_split\": \"target\", # \"none\", \"target\", \"protected-attribute\", \"both\",\n",
    "    \"model\": \"elasticnet\", # \"logreg\", \"penalized_logreg\", \"rf\", \"gbm\", \"elasticnet\"\n",
    "    \"cutoff\": [\"quantile_0.15\", \"quantile_0.30\"],\n",
    "    \"exclude_features\": \"age\", # \"none\", \"nationality\", \"sex\", \"nationality-sex\", \"age\"\n",
    "    \"exclude_subgroups\": \"keep-all\", # \"keep-all\", \"drop-non-german\"\n",
    "    \"eval_fairness_grouping\": [\"majority-minority\", \"nationality-all\"]\n",
    "}\n",
    "\n",
    "output_dir=\"./output\"\n",
    "seed=0"
   ]
  },
  {
   "cell_type": "code",
   "execution_count": 4,
   "id": "af71e8e3",
   "metadata": {
    "execution": {
     "iopub.execute_input": "2025-07-30T20:16:39.831746Z",
     "iopub.status.busy": "2025-07-30T20:16:39.831357Z",
     "iopub.status.idle": "2025-07-30T20:16:39.837431Z",
     "shell.execute_reply": "2025-07-30T20:16:39.836171Z"
    },
    "papermill": {
     "duration": 0.039121,
     "end_time": "2025-07-30T20:16:39.839747",
     "exception": false,
     "start_time": "2025-07-30T20:16:39.800626",
     "status": "completed"
    },
    "tags": [
     "injected-parameters"
    ]
   },
   "outputs": [],
   "source": [
    "# Parameters\n",
    "universe_id = \"a6a023218cc8736e82036206f295d833\"\n",
    "run_no = \"14\"\n",
    "universe = \"{\\\"cutoff\\\": [\\\"quantile_0.1\\\", \\\"quantile_0.25\\\"], \\\"eval_fairness_grouping\\\": [\\\"majority-minority\\\", \\\"nationality-all\\\"], \\\"exclude_features\\\": \\\"sex\\\", \\\"exclude_subgroups\\\": \\\"drop-non-german\\\", \\\"model\\\": \\\"penalized_logreg\\\", \\\"scale\\\": \\\"do-not-scale\\\", \\\"training_size\\\": \\\"25k\\\", \\\"training_year\\\": \\\"2012_14\\\"}\"\n",
    "output_dir = \"output\"\n",
    "seed = \"2023\"\n"
   ]
  },
  {
   "cell_type": "code",
   "execution_count": 5,
   "id": "1650acaf",
   "metadata": {
    "execution": {
     "iopub.execute_input": "2025-07-30T20:16:39.871819Z",
     "iopub.status.busy": "2025-07-30T20:16:39.871402Z",
     "iopub.status.idle": "2025-07-30T20:16:39.876602Z",
     "shell.execute_reply": "2025-07-30T20:16:39.875631Z"
    },
    "papermill": {
     "duration": 0.01912,
     "end_time": "2025-07-30T20:16:39.878423",
     "exception": false,
     "start_time": "2025-07-30T20:16:39.859303",
     "status": "completed"
    },
    "tags": []
   },
   "outputs": [],
   "source": [
    "import json\n",
    "# Parse universe into dict if it is passed as a string\n",
    "if isinstance(universe, str):\n",
    "    universe = json.loads(universe)"
   ]
  },
  {
   "cell_type": "code",
   "execution_count": 6,
   "id": "16620c48",
   "metadata": {
    "execution": {
     "iopub.execute_input": "2025-07-30T20:16:39.928039Z",
     "iopub.status.busy": "2025-07-30T20:16:39.927543Z",
     "iopub.status.idle": "2025-07-30T20:16:39.977513Z",
     "shell.execute_reply": "2025-07-30T20:16:39.976524Z"
    },
    "papermill": {
     "duration": 0.079098,
     "end_time": "2025-07-30T20:16:39.979445",
     "exception": false,
     "start_time": "2025-07-30T20:16:39.900347",
     "status": "completed"
    },
    "tags": []
   },
   "outputs": [],
   "source": [
    "# Auto-reload the custom package\n",
    "%load_ext autoreload\n",
    "%autoreload 1\n",
    "%aimport fairness_multiverse"
   ]
  },
  {
   "cell_type": "code",
   "execution_count": 7,
   "id": "01c5c9f3",
   "metadata": {
    "execution": {
     "iopub.execute_input": "2025-07-30T20:16:40.036961Z",
     "iopub.status.busy": "2025-07-30T20:16:40.036484Z",
     "iopub.status.idle": "2025-07-30T20:16:42.188859Z",
     "shell.execute_reply": "2025-07-30T20:16:42.187716Z"
    },
    "papermill": {
     "duration": 2.174067,
     "end_time": "2025-07-30T20:16:42.191032",
     "exception": false,
     "start_time": "2025-07-30T20:16:40.016965",
     "status": "completed"
    },
    "tags": []
   },
   "outputs": [],
   "source": [
    "from fairness_multiverse.universe import UniverseAnalysis\n",
    "\n",
    "universe_analysis = UniverseAnalysis(\n",
    "    run_no = run_no,\n",
    "    universe_id = universe_id,\n",
    "    universe = universe,\n",
    "    output_dir=output_dir,\n",
    ")"
   ]
  },
  {
   "cell_type": "code",
   "execution_count": 8,
   "id": "106241f5",
   "metadata": {
    "execution": {
     "iopub.execute_input": "2025-07-30T20:16:42.236667Z",
     "iopub.status.busy": "2025-07-30T20:16:42.235917Z",
     "iopub.status.idle": "2025-07-30T20:16:42.243555Z",
     "shell.execute_reply": "2025-07-30T20:16:42.242289Z"
    },
    "papermill": {
     "duration": 0.032924,
     "end_time": "2025-07-30T20:16:42.245536",
     "exception": false,
     "start_time": "2025-07-30T20:16:42.212612",
     "status": "completed"
    },
    "tags": []
   },
   "outputs": [
    {
     "name": "stdout",
     "output_type": "stream",
     "text": [
      "Using Seed: 2023\n"
     ]
    }
   ],
   "source": [
    "import numpy as np\n",
    "parsed_seed = int(seed)\n",
    "np.random.seed(parsed_seed)\n",
    "print(f\"Using Seed: {parsed_seed}\")"
   ]
  },
  {
   "cell_type": "markdown",
   "id": "e0ebdc57",
   "metadata": {
    "papermill": {
     "duration": 0.02124,
     "end_time": "2025-07-30T20:16:42.288226",
     "exception": false,
     "start_time": "2025-07-30T20:16:42.266986",
     "status": "completed"
    },
    "tags": []
   },
   "source": [
    "# Loading Data"
   ]
  },
  {
   "cell_type": "markdown",
   "id": "681925a3",
   "metadata": {
    "papermill": {
     "duration": 0.021659,
     "end_time": "2025-07-30T20:16:42.332464",
     "exception": false,
     "start_time": "2025-07-30T20:16:42.310805",
     "status": "completed"
    },
    "tags": []
   },
   "source": [
    "Load siab_train, siab_test, siab_calib and/or \n",
    "load siab_train_features, siab_train_labels"
   ]
  },
  {
   "cell_type": "code",
   "execution_count": 9,
   "id": "f0496b8a",
   "metadata": {
    "execution": {
     "iopub.execute_input": "2025-07-30T20:16:42.382057Z",
     "iopub.status.busy": "2025-07-30T20:16:42.381522Z",
     "iopub.status.idle": "2025-07-30T20:16:54.721540Z",
     "shell.execute_reply": "2025-07-30T20:16:54.720342Z"
    },
    "papermill": {
     "duration": 12.371639,
     "end_time": "2025-07-30T20:16:54.723247",
     "exception": false,
     "start_time": "2025-07-30T20:16:42.351608",
     "status": "completed"
    },
    "tags": []
   },
   "outputs": [
    {
     "name": "stdout",
     "output_type": "stream",
     "text": [
      "Loading SIAB data from cache: data/siab_cached.csv.gz\n"
     ]
    },
    {
     "name": "stdout",
     "output_type": "stream",
     "text": [
      "(643690, 164)\n"
     ]
    }
   ],
   "source": [
    "from pathlib import Path\n",
    "import pandas as pd\n",
    "\n",
    "# File paths\n",
    "raw_file = Path(\"data/raw/siab.csv\")\n",
    "cache_file = Path(\"data/siab_cached.csv.gz\")\n",
    "\n",
    "# Ensure cache directory exists\n",
    "cache_file.parent.mkdir(parents=True, exist_ok=True)\n",
    "\n",
    "# Load with simple caching\n",
    "if cache_file.exists():\n",
    "    print(f\"Loading SIAB data from cache: {cache_file}\")\n",
    "    siab = pd.read_csv(cache_file, compression='gzip')\n",
    "else:\n",
    "    print(f\"Cache not found. Reading raw SIAB data: {raw_file}\")\n",
    "    siab = pd.read_csv(raw_file)\n",
    "    siab.to_csv(cache_file, index=False, compression='gzip')\n",
    "    print(f\"Cached SIAB data to: {cache_file}\")\n",
    "\n",
    "# Now use `siab` DataFrame as needed\n",
    "print(siab.shape)"
   ]
  },
  {
   "cell_type": "code",
   "execution_count": 10,
   "id": "db0ca512-5f53-4dba-abdb-a2888bca41ba",
   "metadata": {
    "execution": {
     "iopub.execute_input": "2025-07-30T20:16:54.773212Z",
     "iopub.status.busy": "2025-07-30T20:16:54.772372Z",
     "iopub.status.idle": "2025-07-30T20:16:54.778898Z",
     "shell.execute_reply": "2025-07-30T20:16:54.777797Z"
    },
    "papermill": {
     "duration": 0.032896,
     "end_time": "2025-07-30T20:16:54.780689",
     "exception": false,
     "start_time": "2025-07-30T20:16:54.747793",
     "status": "completed"
    },
    "tags": []
   },
   "outputs": [],
   "source": [
    "#siab"
   ]
  },
  {
   "cell_type": "code",
   "execution_count": 11,
   "id": "a0edb063",
   "metadata": {
    "execution": {
     "iopub.execute_input": "2025-07-30T20:16:54.827566Z",
     "iopub.status.busy": "2025-07-30T20:16:54.826984Z",
     "iopub.status.idle": "2025-07-30T20:16:54.831757Z",
     "shell.execute_reply": "2025-07-30T20:16:54.830843Z"
    },
    "papermill": {
     "duration": 0.029942,
     "end_time": "2025-07-30T20:16:54.833639",
     "exception": false,
     "start_time": "2025-07-30T20:16:54.803697",
     "status": "completed"
    },
    "tags": []
   },
   "outputs": [],
   "source": [
    "#import pandas as pd\n",
    "#\n",
    "#X_train = pd.read_csv(\"./data/X_train.csv\")\n",
    "#y_train = pd.read_csv(\"./data/y_train.csv\")"
   ]
  },
  {
   "cell_type": "code",
   "execution_count": 12,
   "id": "63d08085",
   "metadata": {
    "execution": {
     "iopub.execute_input": "2025-07-30T20:16:54.881657Z",
     "iopub.status.busy": "2025-07-30T20:16:54.880973Z",
     "iopub.status.idle": "2025-07-30T20:16:54.886418Z",
     "shell.execute_reply": "2025-07-30T20:16:54.885434Z"
    },
    "papermill": {
     "duration": 0.031584,
     "end_time": "2025-07-30T20:16:54.888123",
     "exception": false,
     "start_time": "2025-07-30T20:16:54.856539",
     "status": "completed"
    },
    "tags": []
   },
   "outputs": [],
   "source": [
    "#X_test = pd.read_csv(\"./data/X_test.csv\")\n",
    "#y_true = pd.read_csv(\"./data/y_test.csv\")"
   ]
  },
  {
   "cell_type": "code",
   "execution_count": 13,
   "id": "98a8d0fa-1d3d-4ed8-bb2c-281470e24add",
   "metadata": {
    "execution": {
     "iopub.execute_input": "2025-07-30T20:16:54.931100Z",
     "iopub.status.busy": "2025-07-30T20:16:54.930614Z",
     "iopub.status.idle": "2025-07-30T20:16:54.935427Z",
     "shell.execute_reply": "2025-07-30T20:16:54.934554Z"
    },
    "papermill": {
     "duration": 0.028123,
     "end_time": "2025-07-30T20:16:54.936972",
     "exception": false,
     "start_time": "2025-07-30T20:16:54.908849",
     "status": "completed"
    },
    "tags": []
   },
   "outputs": [],
   "source": [
    "# Calibration data for conformal\n",
    "#X_calib = pd.read_csv(\"./data/X_calib.csv\")\n",
    "#y_calib = pd.read_csv(\"./data/y_calib.csv\")"
   ]
  },
  {
   "cell_type": "markdown",
   "id": "997051c5-15bd-4b69-9786-c3001a3ce484",
   "metadata": {
    "papermill": {
     "duration": 0.020128,
     "end_time": "2025-07-30T20:16:54.978265",
     "exception": false,
     "start_time": "2025-07-30T20:16:54.958137",
     "status": "completed"
    },
    "tags": []
   },
   "source": [
    "# Splitting Data and Setting Training Data Size"
   ]
  },
  {
   "cell_type": "code",
   "execution_count": 14,
   "id": "e993b61f-042d-41a6-8c81-f55681f86335",
   "metadata": {
    "execution": {
     "iopub.execute_input": "2025-07-30T20:16:55.021441Z",
     "iopub.status.busy": "2025-07-30T20:16:55.020974Z",
     "iopub.status.idle": "2025-07-30T20:16:55.034422Z",
     "shell.execute_reply": "2025-07-30T20:16:55.033426Z"
    },
    "papermill": {
     "duration": 0.036369,
     "end_time": "2025-07-30T20:16:55.036020",
     "exception": false,
     "start_time": "2025-07-30T20:16:54.999651",
     "status": "completed"
    },
    "tags": []
   },
   "outputs": [],
   "source": [
    "def sample_by_year_size(df,\n",
    "                        training_year: str,\n",
    "                        training_size: str,\n",
    "                        random_state: int = 42):\n",
    "    # --- parse training_year into a list of int years ---\n",
    "    if \"_\" in training_year:\n",
    "        start_str, end_str = training_year.split(\"_\", 1)\n",
    "        start = int(start_str)\n",
    "        end   = int(end_str) if len(end_str) == 4 else (int(end_str) + (start // 100)*100)\n",
    "        years = list(range(start, end + 1))\n",
    "    else:\n",
    "        years = [int(training_year)]\n",
    "\n",
    "    df = df[df[\"year\"].isin(years)].reset_index(drop=True)\n",
    "\n",
    "    # --- map training_size to total number of samples ---\n",
    "    total_map = {\"25k\": 25_000, \"5k\": 5_000, \"1k\": 1_000}\n",
    "    if training_size not in total_map:\n",
    "        return df  # e.g. \"all\"\n",
    "\n",
    "    total_samples = total_map[training_size]\n",
    "    n_years       = len(years)\n",
    "    base          = total_samples // n_years\n",
    "    remainder     = total_samples % n_years\n",
    "\n",
    "    # --- build a dict: year -> how many to sample ---\n",
    "    # give +1 to the first `remainder` years in ascending order\n",
    "    quotas = {\n",
    "        year: base + (1 if idx < remainder else 0)\n",
    "        for idx, year in enumerate(sorted(years))\n",
    "    }\n",
    "\n",
    "    # --- sample per‐year according to the quota dict ---\n",
    "    sampled = (\n",
    "        df\n",
    "        .groupby(\"year\", group_keys=False)\n",
    "        .apply(lambda grp: grp.sample(\n",
    "            n=min(len(grp), quotas[grp.name]),\n",
    "            random_state=random_state))\n",
    "        .reset_index(drop=True)\n",
    "    )\n",
    "\n",
    "    return sampled"
   ]
  },
  {
   "cell_type": "code",
   "execution_count": 15,
   "id": "c0ccd338-0e02-41f3-a09d-f56f9266e3fb",
   "metadata": {
    "execution": {
     "iopub.execute_input": "2025-07-30T20:16:55.079465Z",
     "iopub.status.busy": "2025-07-30T20:16:55.079017Z",
     "iopub.status.idle": "2025-07-30T20:16:55.083912Z",
     "shell.execute_reply": "2025-07-30T20:16:55.082944Z"
    },
    "papermill": {
     "duration": 0.028144,
     "end_time": "2025-07-30T20:16:55.085690",
     "exception": false,
     "start_time": "2025-07-30T20:16:55.057546",
     "status": "completed"
    },
    "tags": []
   },
   "outputs": [],
   "source": [
    "#universe[\"training_size\"]"
   ]
  },
  {
   "cell_type": "code",
   "execution_count": 16,
   "id": "ca707fd7-8047-4acd-bfa5-66248fbbf8e6",
   "metadata": {
    "execution": {
     "iopub.execute_input": "2025-07-30T20:16:55.129282Z",
     "iopub.status.busy": "2025-07-30T20:16:55.128898Z",
     "iopub.status.idle": "2025-07-30T20:16:55.134108Z",
     "shell.execute_reply": "2025-07-30T20:16:55.133083Z"
    },
    "papermill": {
     "duration": 0.028852,
     "end_time": "2025-07-30T20:16:55.135793",
     "exception": false,
     "start_time": "2025-07-30T20:16:55.106941",
     "status": "completed"
    },
    "tags": []
   },
   "outputs": [],
   "source": [
    "#universe[\"training_year\"]"
   ]
  },
  {
   "cell_type": "code",
   "execution_count": 17,
   "id": "aea9c6ef-6f46-42c8-85eb-5a62025c1508",
   "metadata": {
    "execution": {
     "iopub.execute_input": "2025-07-30T20:16:55.178389Z",
     "iopub.status.busy": "2025-07-30T20:16:55.177895Z",
     "iopub.status.idle": "2025-07-30T20:16:55.907168Z",
     "shell.execute_reply": "2025-07-30T20:16:55.906295Z"
    },
    "papermill": {
     "duration": 0.751847,
     "end_time": "2025-07-30T20:16:55.909039",
     "exception": false,
     "start_time": "2025-07-30T20:16:55.157192",
     "status": "completed"
    },
    "tags": []
   },
   "outputs": [],
   "source": [
    "siab_train = sample_by_year_size(siab,\n",
    "                               training_year=universe[\"training_year\"],\n",
    "                               training_size=universe[\"training_size\"])"
   ]
  },
  {
   "cell_type": "code",
   "execution_count": 18,
   "id": "8d3afb32-789d-442c-8d5d-9f5aa8dd2eed",
   "metadata": {
    "execution": {
     "iopub.execute_input": "2025-07-30T20:16:55.965945Z",
     "iopub.status.busy": "2025-07-30T20:16:55.965206Z",
     "iopub.status.idle": "2025-07-30T20:16:55.971132Z",
     "shell.execute_reply": "2025-07-30T20:16:55.969970Z"
    },
    "papermill": {
     "duration": 0.043606,
     "end_time": "2025-07-30T20:16:55.972919",
     "exception": false,
     "start_time": "2025-07-30T20:16:55.929313",
     "status": "completed"
    },
    "tags": []
   },
   "outputs": [],
   "source": [
    "#siab_train.shape"
   ]
  },
  {
   "cell_type": "code",
   "execution_count": 19,
   "id": "d582db68-1a4c-47fb-84fc-08518dc1975a",
   "metadata": {
    "execution": {
     "iopub.execute_input": "2025-07-30T20:16:56.020735Z",
     "iopub.status.busy": "2025-07-30T20:16:56.020247Z",
     "iopub.status.idle": "2025-07-30T20:16:56.025901Z",
     "shell.execute_reply": "2025-07-30T20:16:56.024874Z"
    },
    "papermill": {
     "duration": 0.032842,
     "end_time": "2025-07-30T20:16:56.027913",
     "exception": false,
     "start_time": "2025-07-30T20:16:55.995071",
     "status": "completed"
    },
    "tags": []
   },
   "outputs": [],
   "source": [
    "#display(siab_train.groupby(\"year\").size())"
   ]
  },
  {
   "cell_type": "code",
   "execution_count": 20,
   "id": "a561edb4-d032-42cb-8256-22eac1111c64",
   "metadata": {
    "execution": {
     "iopub.execute_input": "2025-07-30T20:16:56.081972Z",
     "iopub.status.busy": "2025-07-30T20:16:56.081267Z",
     "iopub.status.idle": "2025-07-30T20:16:56.333892Z",
     "shell.execute_reply": "2025-07-30T20:16:56.332884Z"
    },
    "papermill": {
     "duration": 0.281641,
     "end_time": "2025-07-30T20:16:56.336005",
     "exception": false,
     "start_time": "2025-07-30T20:16:56.054364",
     "status": "completed"
    },
    "tags": []
   },
   "outputs": [],
   "source": [
    "#siab_train = siab_s[siab_s.year < 2015]\n",
    "siab_calib = siab[siab.year == 2015]\n",
    "siab_test = siab[siab.year == 2016]"
   ]
  },
  {
   "cell_type": "code",
   "execution_count": 21,
   "id": "472de16f-c3db-4916-846b-1f0de9cf1746",
   "metadata": {
    "execution": {
     "iopub.execute_input": "2025-07-30T20:16:56.382360Z",
     "iopub.status.busy": "2025-07-30T20:16:56.381905Z",
     "iopub.status.idle": "2025-07-30T20:16:56.408287Z",
     "shell.execute_reply": "2025-07-30T20:16:56.407140Z"
    },
    "papermill": {
     "duration": 0.051796,
     "end_time": "2025-07-30T20:16:56.410040",
     "exception": false,
     "start_time": "2025-07-30T20:16:56.358244",
     "status": "completed"
    },
    "tags": []
   },
   "outputs": [],
   "source": [
    "X_train = siab_train.iloc[:,4:164]\n",
    "y_train = siab_train.iloc[:, [3]]"
   ]
  },
  {
   "cell_type": "code",
   "execution_count": 22,
   "id": "828c96af-f43a-4ed6-ba47-8ac73a47d56c",
   "metadata": {
    "execution": {
     "iopub.execute_input": "2025-07-30T20:16:56.477659Z",
     "iopub.status.busy": "2025-07-30T20:16:56.477144Z",
     "iopub.status.idle": "2025-07-30T20:16:56.531964Z",
     "shell.execute_reply": "2025-07-30T20:16:56.531007Z"
    },
    "papermill": {
     "duration": 0.099553,
     "end_time": "2025-07-30T20:16:56.533715",
     "exception": false,
     "start_time": "2025-07-30T20:16:56.434162",
     "status": "completed"
    },
    "tags": []
   },
   "outputs": [],
   "source": [
    "X_calib = siab_calib.iloc[:,4:164]\n",
    "y_calib = siab_calib.iloc[:, [3]]"
   ]
  },
  {
   "cell_type": "code",
   "execution_count": 23,
   "id": "c34be9c3-6bd6-476e-acd3-845840e303be",
   "metadata": {
    "execution": {
     "iopub.execute_input": "2025-07-30T20:16:56.577264Z",
     "iopub.status.busy": "2025-07-30T20:16:56.576751Z",
     "iopub.status.idle": "2025-07-30T20:16:56.629150Z",
     "shell.execute_reply": "2025-07-30T20:16:56.627910Z"
    },
    "papermill": {
     "duration": 0.076776,
     "end_time": "2025-07-30T20:16:56.631485",
     "exception": false,
     "start_time": "2025-07-30T20:16:56.554709",
     "status": "completed"
    },
    "tags": []
   },
   "outputs": [],
   "source": [
    "X_test = siab_test.iloc[:,4:164]\n",
    "y_true = siab_test.iloc[:, [3]]"
   ]
  },
  {
   "cell_type": "markdown",
   "id": "9901737e-04df-44f0-9100-f5ad144ed040",
   "metadata": {
    "papermill": {
     "duration": 0.023487,
     "end_time": "2025-07-30T20:16:56.681195",
     "exception": false,
     "start_time": "2025-07-30T20:16:56.657708",
     "status": "completed"
    },
    "tags": []
   },
   "source": [
    "# Splitting Data and Setting Training Data Size OLD VERSION"
   ]
  },
  {
   "cell_type": "code",
   "execution_count": 24,
   "id": "acbc8f7d-8fc8-4e86-8c59-5dcb0f58384b",
   "metadata": {
    "execution": {
     "iopub.execute_input": "2025-07-30T20:16:56.727290Z",
     "iopub.status.busy": "2025-07-30T20:16:56.726740Z",
     "iopub.status.idle": "2025-07-30T20:16:56.731686Z",
     "shell.execute_reply": "2025-07-30T20:16:56.730642Z"
    },
    "papermill": {
     "duration": 0.025959,
     "end_time": "2025-07-30T20:16:56.733401",
     "exception": false,
     "start_time": "2025-07-30T20:16:56.707442",
     "status": "completed"
    },
    "tags": []
   },
   "outputs": [],
   "source": [
    "#def sample_by_year(df, training_size, random_state=42):\n",
    "#    if training_size == \"2014\":\n",
    "#        return df[df[\"year\"] == 2014].reset_index(drop=True)\n",
    "#    \n",
    "#    size_map = {\n",
    "#        \"25k\": 5000,\n",
    "#        \"5k\": 1000,\n",
    "#        \"1k\": 200\n",
    "#    }\n",
    "#\n",
    "#    if training_size not in size_map:\n",
    "#        return df.reset_index(drop=True)  # use all data\n",
    "#\n",
    "#    n_per_year = size_map[training_size]\n",
    "#    grouped = df.groupby(\"year\")\n",
    "#    sampled = grouped.apply(lambda x: x.sample(n=min(n_per_year, len(x)), random_state=random_state))\n",
    "#    return sampled.reset_index(drop=True)"
   ]
  },
  {
   "cell_type": "code",
   "execution_count": 25,
   "id": "6d931f52-beaf-43ff-9e78-9d44a448d54e",
   "metadata": {
    "execution": {
     "iopub.execute_input": "2025-07-30T20:16:56.781250Z",
     "iopub.status.busy": "2025-07-30T20:16:56.780732Z",
     "iopub.status.idle": "2025-07-30T20:16:56.786228Z",
     "shell.execute_reply": "2025-07-30T20:16:56.785029Z"
    },
    "papermill": {
     "duration": 0.031488,
     "end_time": "2025-07-30T20:16:56.788592",
     "exception": false,
     "start_time": "2025-07-30T20:16:56.757104",
     "status": "completed"
    },
    "tags": []
   },
   "outputs": [],
   "source": [
    "#siab_s = sample_by_year(siab, universe[\"training_size\"])"
   ]
  },
  {
   "cell_type": "code",
   "execution_count": 26,
   "id": "5db0a40e-a4e2-4920-be85-b12ae061d70d",
   "metadata": {
    "execution": {
     "iopub.execute_input": "2025-07-30T20:16:56.838169Z",
     "iopub.status.busy": "2025-07-30T20:16:56.837453Z",
     "iopub.status.idle": "2025-07-30T20:16:56.843270Z",
     "shell.execute_reply": "2025-07-30T20:16:56.842413Z"
    },
    "papermill": {
     "duration": 0.031904,
     "end_time": "2025-07-30T20:16:56.844644",
     "exception": false,
     "start_time": "2025-07-30T20:16:56.812740",
     "status": "completed"
    },
    "tags": []
   },
   "outputs": [],
   "source": [
    "#display(siab_s.groupby(\"year\").size())"
   ]
  },
  {
   "cell_type": "code",
   "execution_count": 27,
   "id": "e6c733c5",
   "metadata": {
    "execution": {
     "iopub.execute_input": "2025-07-30T20:16:56.881969Z",
     "iopub.status.busy": "2025-07-30T20:16:56.881487Z",
     "iopub.status.idle": "2025-07-30T20:16:56.982232Z",
     "shell.execute_reply": "2025-07-30T20:16:56.981117Z"
    },
    "papermill": {
     "duration": 0.125678,
     "end_time": "2025-07-30T20:16:56.983873",
     "exception": false,
     "start_time": "2025-07-30T20:16:56.858195",
     "status": "completed"
    },
    "tags": []
   },
   "outputs": [],
   "source": [
    "# Auxiliary data needed downstream in the pipeline\n",
    "\n",
    "org_train = X_train.copy()\n",
    "org_test = X_test.copy()\n",
    "org_calib = X_calib.copy()"
   ]
  },
  {
   "cell_type": "code",
   "execution_count": 28,
   "id": "1466abac-c6da-4492-a62f-4240ae3783af",
   "metadata": {
    "execution": {
     "iopub.execute_input": "2025-07-30T20:16:57.031324Z",
     "iopub.status.busy": "2025-07-30T20:16:57.030533Z",
     "iopub.status.idle": "2025-07-30T20:16:57.036535Z",
     "shell.execute_reply": "2025-07-30T20:16:57.035466Z"
    },
    "papermill": {
     "duration": 0.03107,
     "end_time": "2025-07-30T20:16:57.038328",
     "exception": false,
     "start_time": "2025-07-30T20:16:57.007258",
     "status": "completed"
    },
    "tags": []
   },
   "outputs": [],
   "source": [
    "# put in other script?\n",
    "# Group sizes\n",
    "\n",
    "#def calculate_percentages(df, df_name):\n",
    "#    total_entries = len(df)\n",
    "#\n",
    "#    female_pct = (df['frau1'] == 1).mean() * 100\n",
    "#    non_german_pct = ((df['maxdeutsch1'] == 0) & (df['maxdeutsch.Missing.'] == 0)).mean() * 100\n",
    "#    non_german_male_pct = ((df['frau1'] == 0) & (df['maxdeutsch1'] == 0) & (df['maxdeutsch.Missing.'] == 0)).mean() * 100\n",
    "#    non_german_female_pct = ((df['frau1'] == 1) & (df['maxdeutsch1'] == 0) & (df['maxdeutsch.Missing.'] == 0)).mean() * 100\n",
    "#\n",
    "#    print(f\"--- {df_name} ---\")\n",
    "#    print(f\"Female: {female_pct:.2f}%\")\n",
    "#    print(f\"Non-German: {non_german_pct:.2f}%\")\n",
    "#    print(f\"Non-German Male: {non_german_male_pct:.2f}%\")\n",
    "#    print(f\"Non-German Female: {non_german_female_pct:.2f}%\\n\")\n",
    "#\n",
    "## Calculate for each DataFrame\n",
    "#calculate_percentages(siab_calib, \"siab_calib\")\n",
    "#calculate_percentages(siab_test, \"siab_test\")\n",
    "#calculate_percentages(siab_train, \"siab_train\")"
   ]
  },
  {
   "cell_type": "markdown",
   "id": "0a4a1b33",
   "metadata": {
    "papermill": {
     "duration": 0.021652,
     "end_time": "2025-07-30T20:16:57.082808",
     "exception": false,
     "start_time": "2025-07-30T20:16:57.061156",
     "status": "completed"
    },
    "tags": []
   },
   "source": [
    "# Preprocessing Data"
   ]
  },
  {
   "cell_type": "code",
   "execution_count": 29,
   "id": "ca879031",
   "metadata": {
    "execution": {
     "iopub.execute_input": "2025-07-30T20:16:57.128935Z",
     "iopub.status.busy": "2025-07-30T20:16:57.128556Z",
     "iopub.status.idle": "2025-07-30T20:16:57.133363Z",
     "shell.execute_reply": "2025-07-30T20:16:57.132581Z"
    },
    "papermill": {
     "duration": 0.041448,
     "end_time": "2025-07-30T20:16:57.146168",
     "exception": false,
     "start_time": "2025-07-30T20:16:57.104720",
     "status": "completed"
    },
    "tags": []
   },
   "outputs": [],
   "source": [
    "# EXCLUDE PROTECTED FEATURES\n",
    "# ----------------------\n",
    "# \"exclude_features\": \"none\", # \"nationality\", \"sex\", \"nationality-sex\"\n",
    "\n",
    "excluded_features = universe[\"exclude_features\"].split(\"-\") # split, e.g.: \"nationality-sex\" -> [\"nationality\", \"sex\"]\n",
    "excluded_features_dictionary = {\n",
    "    \"nationality\": [\"maxdeutsch1\", \"maxdeutsch.Missing.\"],\n",
    "    \"sex\": [\"frau1\"],\n",
    "    \"age\": [\"age\"],\n",
    "}\n"
   ]
  },
  {
   "cell_type": "code",
   "execution_count": 30,
   "id": "b745ac60",
   "metadata": {
    "execution": {
     "iopub.execute_input": "2025-07-30T20:16:57.207492Z",
     "iopub.status.busy": "2025-07-30T20:16:57.206893Z",
     "iopub.status.idle": "2025-07-30T20:16:57.212714Z",
     "shell.execute_reply": "2025-07-30T20:16:57.211555Z"
    },
    "papermill": {
     "duration": 0.030994,
     "end_time": "2025-07-30T20:16:57.214544",
     "exception": false,
     "start_time": "2025-07-30T20:16:57.183550",
     "status": "completed"
    },
    "tags": []
   },
   "outputs": [],
   "source": [
    "# Code nice names to column names\n",
    "\n",
    "excluded_features_columns = [\n",
    "    excluded_features_dictionary[f] for f in excluded_features if len(f) > 0 and f != \"none\"\n",
    "]"
   ]
  },
  {
   "cell_type": "code",
   "execution_count": 31,
   "id": "f84f73a2",
   "metadata": {
    "execution": {
     "iopub.execute_input": "2025-07-30T20:16:57.247827Z",
     "iopub.status.busy": "2025-07-30T20:16:57.247444Z",
     "iopub.status.idle": "2025-07-30T20:16:57.253274Z",
     "shell.execute_reply": "2025-07-30T20:16:57.252573Z"
    },
    "papermill": {
     "duration": 0.027052,
     "end_time": "2025-07-30T20:16:57.254570",
     "exception": false,
     "start_time": "2025-07-30T20:16:57.227518",
     "status": "completed"
    },
    "tags": []
   },
   "outputs": [],
   "source": [
    "from utils import flatten_once\n",
    "\n",
    "excluded_features_columns = flatten_once(excluded_features_columns)"
   ]
  },
  {
   "cell_type": "code",
   "execution_count": 32,
   "id": "884dea22",
   "metadata": {
    "execution": {
     "iopub.execute_input": "2025-07-30T20:16:57.282842Z",
     "iopub.status.busy": "2025-07-30T20:16:57.281685Z",
     "iopub.status.idle": "2025-07-30T20:16:57.303626Z",
     "shell.execute_reply": "2025-07-30T20:16:57.302647Z"
    },
    "papermill": {
     "duration": 0.035994,
     "end_time": "2025-07-30T20:16:57.304903",
     "exception": false,
     "start_time": "2025-07-30T20:16:57.268909",
     "status": "completed"
    },
    "tags": []
   },
   "outputs": [
    {
     "name": "stdout",
     "output_type": "stream",
     "text": [
      "Dropping features: ['frau1']\n"
     ]
    }
   ],
   "source": [
    "if len(excluded_features_columns) > 0:\n",
    "    print(f\"Dropping features: {excluded_features_columns}\")\n",
    "    X_train.drop(excluded_features_columns, axis=1, inplace=True)"
   ]
  },
  {
   "cell_type": "code",
   "execution_count": 33,
   "id": "95ab8b16",
   "metadata": {
    "execution": {
     "iopub.execute_input": "2025-07-30T20:16:57.343760Z",
     "iopub.status.busy": "2025-07-30T20:16:57.342893Z",
     "iopub.status.idle": "2025-07-30T20:16:57.403170Z",
     "shell.execute_reply": "2025-07-30T20:16:57.402022Z"
    },
    "papermill": {
     "duration": 0.085638,
     "end_time": "2025-07-30T20:16:57.405539",
     "exception": false,
     "start_time": "2025-07-30T20:16:57.319901",
     "status": "completed"
    },
    "tags": []
   },
   "outputs": [
    {
     "name": "stdout",
     "output_type": "stream",
     "text": [
      "Dropping features: ['frau1']\n"
     ]
    }
   ],
   "source": [
    "if len(excluded_features_columns) > 0:\n",
    "    print(f\"Dropping features: {excluded_features_columns}\")\n",
    "    X_test.drop(excluded_features_columns, axis=1, inplace=True)"
   ]
  },
  {
   "cell_type": "code",
   "execution_count": 34,
   "id": "1853aaf5-fb9f-46cb-a2b5-8ea4ae2237e4",
   "metadata": {
    "execution": {
     "iopub.execute_input": "2025-07-30T20:16:57.467600Z",
     "iopub.status.busy": "2025-07-30T20:16:57.466976Z",
     "iopub.status.idle": "2025-07-30T20:16:57.520849Z",
     "shell.execute_reply": "2025-07-30T20:16:57.519672Z"
    },
    "papermill": {
     "duration": 0.084991,
     "end_time": "2025-07-30T20:16:57.522769",
     "exception": false,
     "start_time": "2025-07-30T20:16:57.437778",
     "status": "completed"
    },
    "tags": []
   },
   "outputs": [
    {
     "name": "stdout",
     "output_type": "stream",
     "text": [
      "Dropping features: ['frau1']\n"
     ]
    }
   ],
   "source": [
    "if len(excluded_features_columns) > 0:\n",
    "    print(f\"Dropping features: {excluded_features_columns}\")\n",
    "    X_calib.drop(excluded_features_columns, axis=1, inplace=True)"
   ]
  },
  {
   "cell_type": "code",
   "execution_count": 35,
   "id": "6727d079-03e5-481e-9d38-292a90b7a0a8",
   "metadata": {
    "execution": {
     "iopub.execute_input": "2025-07-30T20:16:57.577749Z",
     "iopub.status.busy": "2025-07-30T20:16:57.576833Z",
     "iopub.status.idle": "2025-07-30T20:16:57.582118Z",
     "shell.execute_reply": "2025-07-30T20:16:57.581112Z"
    },
    "papermill": {
     "duration": 0.034352,
     "end_time": "2025-07-30T20:16:57.583968",
     "exception": false,
     "start_time": "2025-07-30T20:16:57.549616",
     "status": "completed"
    },
    "tags": []
   },
   "outputs": [],
   "source": [
    "# SPLIT & STRATIFY DATA\n",
    "# ----------------------"
   ]
  },
  {
   "cell_type": "code",
   "execution_count": 36,
   "id": "76c4dc6d",
   "metadata": {
    "execution": {
     "iopub.execute_input": "2025-07-30T20:16:57.636932Z",
     "iopub.status.busy": "2025-07-30T20:16:57.636406Z",
     "iopub.status.idle": "2025-07-30T20:16:57.643351Z",
     "shell.execute_reply": "2025-07-30T20:16:57.642175Z"
    },
    "papermill": {
     "duration": 0.037944,
     "end_time": "2025-07-30T20:16:57.645425",
     "exception": false,
     "start_time": "2025-07-30T20:16:57.607481",
     "status": "completed"
    },
    "tags": []
   },
   "outputs": [],
   "source": [
    "# EXCLUDE CERTAIN SUBGROUPS\n",
    "# ----------------------\n",
    "\n",
    "mode = universe.get(\"exclude_subgroups\", \"keep-all\") \n",
    "# Fetches the exclude_subgroups setting from the universe dict.\n",
    "# Defaults to \"keep-all\" if the key is missing."
   ]
  },
  {
   "cell_type": "code",
   "execution_count": 37,
   "id": "21994072",
   "metadata": {
    "execution": {
     "iopub.execute_input": "2025-07-30T20:16:57.697857Z",
     "iopub.status.busy": "2025-07-30T20:16:57.697165Z",
     "iopub.status.idle": "2025-07-30T20:16:57.705705Z",
     "shell.execute_reply": "2025-07-30T20:16:57.704657Z"
    },
    "papermill": {
     "duration": 0.035898,
     "end_time": "2025-07-30T20:16:57.707512",
     "exception": false,
     "start_time": "2025-07-30T20:16:57.671614",
     "status": "completed"
    },
    "tags": []
   },
   "outputs": [],
   "source": [
    "if mode == \"keep-all\":\n",
    "    keep_mask = pd.Series(True, index=org_train.index)\n",
    "\n",
    "# org_train contains the original feature columns from features_org (in Simson)\n",
    "# features_org contains unprocessed features, for me X_train at beginning ???\n",
    "# For keep-all, creates a boolean Series (keep_mask) of all True, so no rows are removed.\n",
    "\n",
    "elif mode == \"drop-non-german\":\n",
    "    keep_mask = org_train[\"maxdeutsch1\"] == 1 # ??? what about missing values?\n",
    "\n",
    "else:\n",
    "    raise ValueError(f\"Unsupported mode for exclude_subgroups: {mode}\")\n"
   ]
  },
  {
   "cell_type": "code",
   "execution_count": 38,
   "id": "71651440",
   "metadata": {
    "execution": {
     "iopub.execute_input": "2025-07-30T20:16:57.759950Z",
     "iopub.status.busy": "2025-07-30T20:16:57.759164Z",
     "iopub.status.idle": "2025-07-30T20:16:57.768250Z",
     "shell.execute_reply": "2025-07-30T20:16:57.767121Z"
    },
    "papermill": {
     "duration": 0.037508,
     "end_time": "2025-07-30T20:16:57.770320",
     "exception": false,
     "start_time": "2025-07-30T20:16:57.732812",
     "status": "completed"
    },
    "tags": []
   },
   "outputs": [
    {
     "name": "stdout",
     "output_type": "stream",
     "text": [
      "Dropping 3481 rows (13.92%) where mode='drop-non-german'\n"
     ]
    }
   ],
   "source": [
    "n_drop = (~keep_mask).sum() # Calculates how many rows are set to be dropped\n",
    "if n_drop > 0:\n",
    "    pct = n_drop / len(keep_mask) * 100\n",
    "    print(f\"Dropping {n_drop} rows ({pct:.2f}%) where mode='{mode}'\")"
   ]
  },
  {
   "cell_type": "code",
   "execution_count": 39,
   "id": "5fb8eee5",
   "metadata": {
    "execution": {
     "iopub.execute_input": "2025-07-30T20:16:57.825042Z",
     "iopub.status.busy": "2025-07-30T20:16:57.824549Z",
     "iopub.status.idle": "2025-07-30T20:16:57.841018Z",
     "shell.execute_reply": "2025-07-30T20:16:57.839857Z"
    },
    "papermill": {
     "duration": 0.04514,
     "end_time": "2025-07-30T20:16:57.842977",
     "exception": false,
     "start_time": "2025-07-30T20:16:57.797837",
     "status": "completed"
    },
    "tags": []
   },
   "outputs": [],
   "source": [
    "X_train = X_train[keep_mask]"
   ]
  },
  {
   "cell_type": "code",
   "execution_count": 40,
   "id": "b202bb3a",
   "metadata": {
    "execution": {
     "iopub.execute_input": "2025-07-30T20:16:57.878811Z",
     "iopub.status.busy": "2025-07-30T20:16:57.878391Z",
     "iopub.status.idle": "2025-07-30T20:16:57.884041Z",
     "shell.execute_reply": "2025-07-30T20:16:57.883292Z"
    },
    "papermill": {
     "duration": 0.019366,
     "end_time": "2025-07-30T20:16:57.885408",
     "exception": false,
     "start_time": "2025-07-30T20:16:57.866042",
     "status": "completed"
    },
    "tags": []
   },
   "outputs": [],
   "source": [
    "y_train = y_train[keep_mask]"
   ]
  },
  {
   "cell_type": "markdown",
   "id": "493e2ac3",
   "metadata": {
    "papermill": {
     "duration": 0.011622,
     "end_time": "2025-07-30T20:16:57.909833",
     "exception": false,
     "start_time": "2025-07-30T20:16:57.898211",
     "status": "completed"
    },
    "tags": []
   },
   "source": [
    "# Model Training"
   ]
  },
  {
   "cell_type": "code",
   "execution_count": 41,
   "id": "679e1268",
   "metadata": {
    "execution": {
     "iopub.execute_input": "2025-07-30T20:16:57.938548Z",
     "iopub.status.busy": "2025-07-30T20:16:57.937871Z",
     "iopub.status.idle": "2025-07-30T20:16:58.010312Z",
     "shell.execute_reply": "2025-07-30T20:16:58.009541Z"
    },
    "papermill": {
     "duration": 0.08711,
     "end_time": "2025-07-30T20:16:58.012079",
     "exception": false,
     "start_time": "2025-07-30T20:16:57.924969",
     "status": "completed"
    },
    "tags": []
   },
   "outputs": [],
   "source": [
    "from sklearn.linear_model import LogisticRegression\n",
    "from sklearn.ensemble import GradientBoostingClassifier, RandomForestClassifier\n",
    "\n",
    "if (universe[\"model\"] == \"logreg\"):\n",
    "    model = LogisticRegression() #penalty=\"none\") #, solver=\"newton-cg\", max_iter=1) # include random_state=19 ?\n",
    "elif (universe[\"model\"] == \"penalized_logreg\"):\n",
    "    model = LogisticRegression(penalty=\"l2\", C=1.0) #, solver=\"newton-cg\", max_iter=1)\n",
    "elif (universe[\"model\"] == \"rf\"):\n",
    "    model = RandomForestClassifier(n_estimators=100, n_jobs=-1)\n",
    "elif (universe[\"model\"] == \"gbm\"):\n",
    "    model = GradientBoostingClassifier()\n",
    "elif (universe[\"model\"] == \"elasticnet\"):\n",
    "    model = LogisticRegression(penalty = 'elasticnet', solver = 'saga', l1_ratio = 0.5, max_iter=5000) # which solver to use?\n",
    "else:\n",
    "    raise \"Unsupported universe.model\""
   ]
  },
  {
   "cell_type": "code",
   "execution_count": 42,
   "id": "0cc8f744",
   "metadata": {
    "execution": {
     "iopub.execute_input": "2025-07-30T20:16:58.057240Z",
     "iopub.status.busy": "2025-07-30T20:16:58.056361Z",
     "iopub.status.idle": "2025-07-30T20:16:58.064027Z",
     "shell.execute_reply": "2025-07-30T20:16:58.062856Z"
    },
    "papermill": {
     "duration": 0.032356,
     "end_time": "2025-07-30T20:16:58.066544",
     "exception": false,
     "start_time": "2025-07-30T20:16:58.034188",
     "status": "completed"
    },
    "tags": []
   },
   "outputs": [],
   "source": [
    "import numpy as np\n",
    "from sklearn.pipeline import Pipeline\n",
    "from sklearn.preprocessing import StandardScaler\n",
    "\n",
    "model = Pipeline([\n",
    "    #(\"continuous_processor\", continuous_processor),\n",
    "    #(\"categorical_preprocessor\", categorical_preprocessor),\n",
    "    (\"scale\", StandardScaler() if universe[\"scale\"] == \"scale\" else None), \n",
    "    (\"model\", model),\n",
    "])"
   ]
  },
  {
   "cell_type": "code",
   "execution_count": 43,
   "id": "9442c04d",
   "metadata": {
    "execution": {
     "iopub.execute_input": "2025-07-30T20:16:58.113007Z",
     "iopub.status.busy": "2025-07-30T20:16:58.112445Z",
     "iopub.status.idle": "2025-07-30T20:16:58.611656Z",
     "shell.execute_reply": "2025-07-30T20:16:58.610684Z"
    },
    "papermill": {
     "duration": 0.523269,
     "end_time": "2025-07-30T20:16:58.613233",
     "exception": false,
     "start_time": "2025-07-30T20:16:58.089964",
     "status": "completed"
    },
    "tags": []
   },
   "outputs": [
    {
     "name": "stderr",
     "output_type": "stream",
     "text": [
      "/dss/dsshome1/0C/ra93lal2/.local/share/virtualenvs/CMA_Fairness_v2-3j10GkSs/lib/python3.10/site-packages/sklearn/linear_model/_logistic.py:444: ConvergenceWarning: lbfgs failed to converge (status=1):\n",
      "STOP: TOTAL NO. of ITERATIONS REACHED LIMIT.\n",
      "\n",
      "Increase the number of iterations (max_iter) or scale the data as shown in:\n",
      "    https://scikit-learn.org/stable/modules/preprocessing.html\n",
      "Please also refer to the documentation for alternative solver options:\n",
      "    https://scikit-learn.org/stable/modules/linear_model.html#logistic-regression\n",
      "  n_iter_i = _check_optimize_result(\n"
     ]
    },
    {
     "data": {
      "text/html": [
       "<style>#sk-container-id-1 {color: black;background-color: white;}#sk-container-id-1 pre{padding: 0;}#sk-container-id-1 div.sk-toggleable {background-color: white;}#sk-container-id-1 label.sk-toggleable__label {cursor: pointer;display: block;width: 100%;margin-bottom: 0;padding: 0.3em;box-sizing: border-box;text-align: center;}#sk-container-id-1 label.sk-toggleable__label-arrow:before {content: \"▸\";float: left;margin-right: 0.25em;color: #696969;}#sk-container-id-1 label.sk-toggleable__label-arrow:hover:before {color: black;}#sk-container-id-1 div.sk-estimator:hover label.sk-toggleable__label-arrow:before {color: black;}#sk-container-id-1 div.sk-toggleable__content {max-height: 0;max-width: 0;overflow: hidden;text-align: left;background-color: #f0f8ff;}#sk-container-id-1 div.sk-toggleable__content pre {margin: 0.2em;color: black;border-radius: 0.25em;background-color: #f0f8ff;}#sk-container-id-1 input.sk-toggleable__control:checked~div.sk-toggleable__content {max-height: 200px;max-width: 100%;overflow: auto;}#sk-container-id-1 input.sk-toggleable__control:checked~label.sk-toggleable__label-arrow:before {content: \"▾\";}#sk-container-id-1 div.sk-estimator input.sk-toggleable__control:checked~label.sk-toggleable__label {background-color: #d4ebff;}#sk-container-id-1 div.sk-label input.sk-toggleable__control:checked~label.sk-toggleable__label {background-color: #d4ebff;}#sk-container-id-1 input.sk-hidden--visually {border: 0;clip: rect(1px 1px 1px 1px);clip: rect(1px, 1px, 1px, 1px);height: 1px;margin: -1px;overflow: hidden;padding: 0;position: absolute;width: 1px;}#sk-container-id-1 div.sk-estimator {font-family: monospace;background-color: #f0f8ff;border: 1px dotted black;border-radius: 0.25em;box-sizing: border-box;margin-bottom: 0.5em;}#sk-container-id-1 div.sk-estimator:hover {background-color: #d4ebff;}#sk-container-id-1 div.sk-parallel-item::after {content: \"\";width: 100%;border-bottom: 1px solid gray;flex-grow: 1;}#sk-container-id-1 div.sk-label:hover label.sk-toggleable__label {background-color: #d4ebff;}#sk-container-id-1 div.sk-serial::before {content: \"\";position: absolute;border-left: 1px solid gray;box-sizing: border-box;top: 0;bottom: 0;left: 50%;z-index: 0;}#sk-container-id-1 div.sk-serial {display: flex;flex-direction: column;align-items: center;background-color: white;padding-right: 0.2em;padding-left: 0.2em;position: relative;}#sk-container-id-1 div.sk-item {position: relative;z-index: 1;}#sk-container-id-1 div.sk-parallel {display: flex;align-items: stretch;justify-content: center;background-color: white;position: relative;}#sk-container-id-1 div.sk-item::before, #sk-container-id-1 div.sk-parallel-item::before {content: \"\";position: absolute;border-left: 1px solid gray;box-sizing: border-box;top: 0;bottom: 0;left: 50%;z-index: -1;}#sk-container-id-1 div.sk-parallel-item {display: flex;flex-direction: column;z-index: 1;position: relative;background-color: white;}#sk-container-id-1 div.sk-parallel-item:first-child::after {align-self: flex-end;width: 50%;}#sk-container-id-1 div.sk-parallel-item:last-child::after {align-self: flex-start;width: 50%;}#sk-container-id-1 div.sk-parallel-item:only-child::after {width: 0;}#sk-container-id-1 div.sk-dashed-wrapped {border: 1px dashed gray;margin: 0 0.4em 0.5em 0.4em;box-sizing: border-box;padding-bottom: 0.4em;background-color: white;}#sk-container-id-1 div.sk-label label {font-family: monospace;font-weight: bold;display: inline-block;line-height: 1.2em;}#sk-container-id-1 div.sk-label-container {text-align: center;}#sk-container-id-1 div.sk-container {/* jupyter's `normalize.less` sets `[hidden] { display: none; }` but bootstrap.min.css set `[hidden] { display: none !important; }` so we also need the `!important` here to be able to override the default hidden behavior on the sphinx rendered scikit-learn.org. See: https://github.com/scikit-learn/scikit-learn/issues/21755 */display: inline-block !important;position: relative;}#sk-container-id-1 div.sk-text-repr-fallback {display: none;}</style><div id=\"sk-container-id-1\" class=\"sk-top-container\"><div class=\"sk-text-repr-fallback\"><pre>Pipeline(steps=[(&#x27;scale&#x27;, None), (&#x27;model&#x27;, LogisticRegression())])</pre><b>In a Jupyter environment, please rerun this cell to show the HTML representation or trust the notebook. <br />On GitHub, the HTML representation is unable to render, please try loading this page with nbviewer.org.</b></div><div class=\"sk-container\" hidden><div class=\"sk-item sk-dashed-wrapped\"><div class=\"sk-label-container\"><div class=\"sk-label sk-toggleable\"><input class=\"sk-toggleable__control sk-hidden--visually\" id=\"sk-estimator-id-1\" type=\"checkbox\" ><label for=\"sk-estimator-id-1\" class=\"sk-toggleable__label sk-toggleable__label-arrow\">Pipeline</label><div class=\"sk-toggleable__content\"><pre>Pipeline(steps=[(&#x27;scale&#x27;, None), (&#x27;model&#x27;, LogisticRegression())])</pre></div></div></div><div class=\"sk-serial\"><div class=\"sk-item\"><div class=\"sk-estimator sk-toggleable\"><input class=\"sk-toggleable__control sk-hidden--visually\" id=\"sk-estimator-id-2\" type=\"checkbox\" ><label for=\"sk-estimator-id-2\" class=\"sk-toggleable__label sk-toggleable__label-arrow\">None</label><div class=\"sk-toggleable__content\"><pre>None</pre></div></div></div><div class=\"sk-item\"><div class=\"sk-estimator sk-toggleable\"><input class=\"sk-toggleable__control sk-hidden--visually\" id=\"sk-estimator-id-3\" type=\"checkbox\" ><label for=\"sk-estimator-id-3\" class=\"sk-toggleable__label sk-toggleable__label-arrow\">LogisticRegression</label><div class=\"sk-toggleable__content\"><pre>LogisticRegression()</pre></div></div></div></div></div></div></div>"
      ],
      "text/plain": [
       "Pipeline(steps=[('scale', None), ('model', LogisticRegression())])"
      ]
     },
     "execution_count": 43,
     "metadata": {},
     "output_type": "execute_result"
    }
   ],
   "source": [
    "model.fit(X_train, y_train.values.ravel())"
   ]
  },
  {
   "cell_type": "code",
   "execution_count": 44,
   "id": "af59f8c0",
   "metadata": {
    "execution": {
     "iopub.execute_input": "2025-07-30T20:16:58.658700Z",
     "iopub.status.busy": "2025-07-30T20:16:58.658225Z",
     "iopub.status.idle": "2025-07-30T20:16:58.664170Z",
     "shell.execute_reply": "2025-07-30T20:16:58.662995Z"
    },
    "papermill": {
     "duration": 0.030625,
     "end_time": "2025-07-30T20:16:58.666032",
     "exception": false,
     "start_time": "2025-07-30T20:16:58.635407",
     "status": "completed"
    },
    "tags": []
   },
   "outputs": [],
   "source": [
    "from fairness_multiverse.universe import predict_w_threshold"
   ]
  },
  {
   "cell_type": "code",
   "execution_count": 45,
   "id": "a7cf2e16",
   "metadata": {
    "execution": {
     "iopub.execute_input": "2025-07-30T20:16:58.712249Z",
     "iopub.status.busy": "2025-07-30T20:16:58.711482Z",
     "iopub.status.idle": "2025-07-30T20:16:58.810536Z",
     "shell.execute_reply": "2025-07-30T20:16:58.809615Z"
    },
    "papermill": {
     "duration": 0.123847,
     "end_time": "2025-07-30T20:16:58.812421",
     "exception": false,
     "start_time": "2025-07-30T20:16:58.688574",
     "status": "completed"
    },
    "tags": []
   },
   "outputs": [
    {
     "data": {
      "text/plain": [
       "0.8608293389811615"
      ]
     },
     "execution_count": 45,
     "metadata": {},
     "output_type": "execute_result"
    }
   ],
   "source": [
    "probs_test = model.predict_proba(X_test)\n",
    "\n",
    "'''\n",
    "Below code returns a boolean array (or binary 0/1 array depending on how it’s used) where each element \n",
    "is True if the probability of class 1 is greater than or equal to the threshold, and False otherwise.\n",
    "'''\n",
    "y_pred_default = predict_w_threshold(probs_test, 0.5)\n",
    "\n",
    "from sklearn.metrics import accuracy_score\n",
    "\n",
    "# Naive prediction\n",
    "accuracy_score(y_true = y_true, y_pred = y_pred_default)"
   ]
  },
  {
   "cell_type": "code",
   "execution_count": 46,
   "id": "081964c3",
   "metadata": {
    "execution": {
     "iopub.execute_input": "2025-07-30T20:16:58.904151Z",
     "iopub.status.busy": "2025-07-30T20:16:58.903631Z",
     "iopub.status.idle": "2025-07-30T20:16:58.991372Z",
     "shell.execute_reply": "2025-07-30T20:16:58.990437Z"
    },
    "papermill": {
     "duration": 0.112988,
     "end_time": "2025-07-30T20:16:58.993109",
     "exception": false,
     "start_time": "2025-07-30T20:16:58.880121",
     "status": "completed"
    },
    "tags": []
   },
   "outputs": [
    {
     "data": {
      "text/plain": [
       "array([0, 0, 0, ..., 0, 0, 0])"
      ]
     },
     "execution_count": 46,
     "metadata": {},
     "output_type": "execute_result"
    }
   ],
   "source": [
    "model.predict(X_test)"
   ]
  },
  {
   "cell_type": "markdown",
   "id": "56c9705b",
   "metadata": {
    "papermill": {
     "duration": 0.021812,
     "end_time": "2025-07-30T20:16:59.040823",
     "exception": false,
     "start_time": "2025-07-30T20:16:59.019011",
     "status": "completed"
    },
    "tags": []
   },
   "source": [
    "# Conformal Prediction"
   ]
  },
  {
   "cell_type": "code",
   "execution_count": 47,
   "id": "160ec6ff",
   "metadata": {
    "execution": {
     "iopub.execute_input": "2025-07-30T20:16:59.087541Z",
     "iopub.status.busy": "2025-07-30T20:16:59.087059Z",
     "iopub.status.idle": "2025-07-30T20:16:59.092760Z",
     "shell.execute_reply": "2025-07-30T20:16:59.091777Z"
    },
    "papermill": {
     "duration": 0.030946,
     "end_time": "2025-07-30T20:16:59.094592",
     "exception": false,
     "start_time": "2025-07-30T20:16:59.063646",
     "status": "completed"
    },
    "tags": []
   },
   "outputs": [],
   "source": [
    "# Miscoverage level for conformal prediction (10% allowed error rate => 90% target coverage)\n",
    "alpha = 0.1"
   ]
  },
  {
   "cell_type": "code",
   "execution_count": 48,
   "id": "eadf4555-3dd3-440e-8e35-f82a4ad9f855",
   "metadata": {
    "execution": {
     "iopub.execute_input": "2025-07-30T20:16:59.149588Z",
     "iopub.status.busy": "2025-07-30T20:16:59.149064Z",
     "iopub.status.idle": "2025-07-30T20:16:59.234410Z",
     "shell.execute_reply": "2025-07-30T20:16:59.233448Z"
    },
    "papermill": {
     "duration": 0.112241,
     "end_time": "2025-07-30T20:16:59.236463",
     "exception": false,
     "start_time": "2025-07-30T20:16:59.124222",
     "status": "completed"
    },
    "tags": []
   },
   "outputs": [],
   "source": [
    "probs_calib = model.predict_proba(X_calib)"
   ]
  },
  {
   "cell_type": "code",
   "execution_count": 49,
   "id": "2ed93547-6d5d-4983-9b36-1ecb300da49a",
   "metadata": {
    "execution": {
     "iopub.execute_input": "2025-07-30T20:16:59.284889Z",
     "iopub.status.busy": "2025-07-30T20:16:59.283986Z",
     "iopub.status.idle": "2025-07-30T20:16:59.289674Z",
     "shell.execute_reply": "2025-07-30T20:16:59.288737Z"
    },
    "papermill": {
     "duration": 0.031301,
     "end_time": "2025-07-30T20:16:59.291463",
     "exception": false,
     "start_time": "2025-07-30T20:16:59.260162",
     "status": "completed"
    },
    "tags": []
   },
   "outputs": [],
   "source": [
    "y_calib = y_calib.values.ravel().astype(int)"
   ]
  },
  {
   "cell_type": "code",
   "execution_count": 50,
   "id": "65d1320d-f588-4b38-9072-62af1ae97f7d",
   "metadata": {
    "execution": {
     "iopub.execute_input": "2025-07-30T20:16:59.327641Z",
     "iopub.status.busy": "2025-07-30T20:16:59.327311Z",
     "iopub.status.idle": "2025-07-30T20:16:59.334321Z",
     "shell.execute_reply": "2025-07-30T20:16:59.333358Z"
    },
    "papermill": {
     "duration": 0.022167,
     "end_time": "2025-07-30T20:16:59.336194",
     "exception": false,
     "start_time": "2025-07-30T20:16:59.314027",
     "status": "completed"
    },
    "tags": []
   },
   "outputs": [],
   "source": [
    "from fairness_multiverse.conformal import compute_nc_scores\n",
    "\n",
    "# Compute nonconformity scores on calibration set (1 - probability of true class)\n",
    "nc_scores = compute_nc_scores(probs_calib, y_calib)"
   ]
  },
  {
   "cell_type": "code",
   "execution_count": 51,
   "id": "df3b8ca3-53b7-43d5-9667-7c85da7aeda2",
   "metadata": {
    "execution": {
     "iopub.execute_input": "2025-07-30T20:16:59.387582Z",
     "iopub.status.busy": "2025-07-30T20:16:59.386719Z",
     "iopub.status.idle": "2025-07-30T20:16:59.393536Z",
     "shell.execute_reply": "2025-07-30T20:16:59.392517Z"
    },
    "papermill": {
     "duration": 0.033133,
     "end_time": "2025-07-30T20:16:59.395343",
     "exception": false,
     "start_time": "2025-07-30T20:16:59.362210",
     "status": "completed"
    },
    "tags": []
   },
   "outputs": [],
   "source": [
    "from fairness_multiverse.conformal import find_threshold\n",
    "\n",
    "# Find conformal threshold q_hat for the given alpha (split conformal method)\n",
    "q_hat = find_threshold(nc_scores, alpha)"
   ]
  },
  {
   "cell_type": "code",
   "execution_count": 52,
   "id": "4d29e6c1-0ef6-4aa4-b8fe-4fe79b0d033a",
   "metadata": {
    "execution": {
     "iopub.execute_input": "2025-07-30T20:16:59.444119Z",
     "iopub.status.busy": "2025-07-30T20:16:59.443576Z",
     "iopub.status.idle": "2025-07-30T20:16:59.451420Z",
     "shell.execute_reply": "2025-07-30T20:16:59.450421Z"
    },
    "papermill": {
     "duration": 0.033342,
     "end_time": "2025-07-30T20:16:59.453113",
     "exception": false,
     "start_time": "2025-07-30T20:16:59.419771",
     "status": "completed"
    },
    "tags": []
   },
   "outputs": [
    {
     "data": {
      "text/plain": [
       "0.6577357189488277"
      ]
     },
     "execution_count": 52,
     "metadata": {},
     "output_type": "execute_result"
    }
   ],
   "source": [
    "q_hat"
   ]
  },
  {
   "cell_type": "code",
   "execution_count": 53,
   "id": "92460794-cdac-4be2-ba28-f28c0515a6fb",
   "metadata": {
    "execution": {
     "iopub.execute_input": "2025-07-30T20:16:59.501360Z",
     "iopub.status.busy": "2025-07-30T20:16:59.500831Z",
     "iopub.status.idle": "2025-07-30T20:17:00.433143Z",
     "shell.execute_reply": "2025-07-30T20:17:00.432060Z"
    },
    "papermill": {
     "duration": 0.957298,
     "end_time": "2025-07-30T20:17:00.434914",
     "exception": false,
     "start_time": "2025-07-30T20:16:59.477616",
     "status": "completed"
    },
    "tags": []
   },
   "outputs": [],
   "source": [
    "from fairness_multiverse.conformal import predict_conformal_sets\n",
    "\n",
    "# Generate prediction sets for each test example\n",
    "pred_sets = predict_conformal_sets(model, X_test, q_hat)"
   ]
  },
  {
   "cell_type": "code",
   "execution_count": 54,
   "id": "d90c9a65-e6db-4f5d-80cd-e68fb7e46829",
   "metadata": {
    "execution": {
     "iopub.execute_input": "2025-07-30T20:17:00.484807Z",
     "iopub.status.busy": "2025-07-30T20:17:00.483791Z",
     "iopub.status.idle": "2025-07-30T20:17:00.489656Z",
     "shell.execute_reply": "2025-07-30T20:17:00.488646Z"
    },
    "papermill": {
     "duration": 0.031223,
     "end_time": "2025-07-30T20:17:00.491393",
     "exception": false,
     "start_time": "2025-07-30T20:17:00.460170",
     "status": "completed"
    },
    "tags": []
   },
   "outputs": [],
   "source": [
    "y_true = y_true.squeeze()"
   ]
  },
  {
   "cell_type": "code",
   "execution_count": 55,
   "id": "3a58a54a-1e68-46b9-927a-df01f18aebc8",
   "metadata": {
    "execution": {
     "iopub.execute_input": "2025-07-30T20:17:00.538729Z",
     "iopub.status.busy": "2025-07-30T20:17:00.538111Z",
     "iopub.status.idle": "2025-07-30T20:17:01.439318Z",
     "shell.execute_reply": "2025-07-30T20:17:01.438307Z"
    },
    "papermill": {
     "duration": 0.9265,
     "end_time": "2025-07-30T20:17:01.441316",
     "exception": false,
     "start_time": "2025-07-30T20:17:00.514816",
     "status": "completed"
    },
    "tags": []
   },
   "outputs": [],
   "source": [
    "from fairness_multiverse.conformal import evaluate_sets\n",
    "\n",
    "# Evaluate coverage and average set size on test data\n",
    "metrics = evaluate_sets(pred_sets, y_true)"
   ]
  },
  {
   "cell_type": "markdown",
   "id": "2b569c12-9aaa-4c88-98c9-bbcd0cf3ebb8",
   "metadata": {
    "papermill": {
     "duration": 0.026083,
     "end_time": "2025-07-30T20:17:01.490702",
     "exception": false,
     "start_time": "2025-07-30T20:17:01.464619",
     "status": "completed"
    },
    "tags": []
   },
   "source": [
    "# CP Metrics"
   ]
  },
  {
   "cell_type": "code",
   "execution_count": 56,
   "id": "5ce0a5cb-201f-45a0-ade5-94c7f0bd6095",
   "metadata": {
    "execution": {
     "iopub.execute_input": "2025-07-30T20:17:01.549924Z",
     "iopub.status.busy": "2025-07-30T20:17:01.549428Z",
     "iopub.status.idle": "2025-07-30T20:17:01.557522Z",
     "shell.execute_reply": "2025-07-30T20:17:01.556439Z"
    },
    "papermill": {
     "duration": 0.041683,
     "end_time": "2025-07-30T20:17:01.559636",
     "exception": false,
     "start_time": "2025-07-30T20:17:01.517953",
     "status": "completed"
    },
    "tags": []
   },
   "outputs": [
    {
     "data": {
      "text/plain": [
       "{'coverage': 0.9118715862222717, 'avg_size': 1.2213242670828224}"
      ]
     },
     "execution_count": 56,
     "metadata": {},
     "output_type": "execute_result"
    }
   ],
   "source": [
    "metrics"
   ]
  },
  {
   "cell_type": "code",
   "execution_count": 57,
   "id": "9b9a838d-31c9-430b-ae14-12baee460d17",
   "metadata": {
    "execution": {
     "iopub.execute_input": "2025-07-30T20:17:01.617149Z",
     "iopub.status.busy": "2025-07-30T20:17:01.616697Z",
     "iopub.status.idle": "2025-07-30T20:17:01.623413Z",
     "shell.execute_reply": "2025-07-30T20:17:01.622515Z"
    },
    "papermill": {
     "duration": 0.033241,
     "end_time": "2025-07-30T20:17:01.625265",
     "exception": false,
     "start_time": "2025-07-30T20:17:01.592024",
     "status": "completed"
    },
    "tags": []
   },
   "outputs": [],
   "source": [
    "example_universe = universe.copy()\n",
    "universe_training_year = example_universe.get(\"training_year\")\n",
    "universe_training_size = example_universe.get(\"training_size\")\n",
    "universe_scale = example_universe.get(\"scale\")\n",
    "universe_model = example_universe.get(\"model\")\n",
    "universe_exclude_features = example_universe.get(\"exclude_features\")\n",
    "universe_exclude_subgroups = example_universe.get(\"exclude_subgroups\")"
   ]
  },
  {
   "cell_type": "code",
   "execution_count": 58,
   "id": "f4b6a8ac-9dc0-4245-8a91-5b3b5999c4f9",
   "metadata": {
    "execution": {
     "iopub.execute_input": "2025-07-30T20:17:01.675295Z",
     "iopub.status.busy": "2025-07-30T20:17:01.674825Z",
     "iopub.status.idle": "2025-07-30T20:17:01.681545Z",
     "shell.execute_reply": "2025-07-30T20:17:01.680637Z"
    },
    "papermill": {
     "duration": 0.033354,
     "end_time": "2025-07-30T20:17:01.683248",
     "exception": false,
     "start_time": "2025-07-30T20:17:01.649894",
     "status": "completed"
    },
    "tags": []
   },
   "outputs": [],
   "source": [
    "cp_metrics_dict = {\n",
    "    \"universe_id\": [universe_id],\n",
    "    \"universe_training_year\": [universe_training_year],\n",
    "    \"universe_training_size\": [universe_training_size],\n",
    "    \"universe_scale\": [universe_scale],\n",
    "    \"universe_model\": [universe_model],\n",
    "    \"universe_exclude_features\": [universe_exclude_features],\n",
    "    \"universe_exclude_subgroups\": [universe_exclude_subgroups],\n",
    "    \"q_hat\": [q_hat],\n",
    "    \"coverage\": [metrics[\"coverage\"]],\n",
    "    \"avg_size\": [metrics[\"avg_size\"]],\n",
    "}"
   ]
  },
  {
   "cell_type": "code",
   "execution_count": 59,
   "id": "908acbb1-0371-4915-85ca-3fa520d2efe2",
   "metadata": {
    "execution": {
     "iopub.execute_input": "2025-07-30T20:17:01.733286Z",
     "iopub.status.busy": "2025-07-30T20:17:01.732650Z",
     "iopub.status.idle": "2025-07-30T20:17:01.740200Z",
     "shell.execute_reply": "2025-07-30T20:17:01.739230Z"
    },
    "papermill": {
     "duration": 0.033291,
     "end_time": "2025-07-30T20:17:01.741775",
     "exception": false,
     "start_time": "2025-07-30T20:17:01.708484",
     "status": "completed"
    },
    "tags": []
   },
   "outputs": [
    {
     "data": {
      "text/plain": [
       "{'universe_id': ['a6a023218cc8736e82036206f295d833'],\n",
       " 'universe_training_year': ['2012_14'],\n",
       " 'universe_training_size': ['25k'],\n",
       " 'universe_scale': ['do-not-scale'],\n",
       " 'universe_model': ['penalized_logreg'],\n",
       " 'universe_exclude_features': ['sex'],\n",
       " 'universe_exclude_subgroups': ['drop-non-german'],\n",
       " 'q_hat': [0.6577357189488277],\n",
       " 'coverage': [0.9118715862222717],\n",
       " 'avg_size': [1.2213242670828224]}"
      ]
     },
     "execution_count": 59,
     "metadata": {},
     "output_type": "execute_result"
    }
   ],
   "source": [
    "cp_metrics_dict"
   ]
  },
  {
   "cell_type": "code",
   "execution_count": 60,
   "id": "33007efc-14e9-4ec6-97ac-56a455c82265",
   "metadata": {
    "execution": {
     "iopub.execute_input": "2025-07-30T20:17:01.791230Z",
     "iopub.status.busy": "2025-07-30T20:17:01.790604Z",
     "iopub.status.idle": "2025-07-30T20:17:01.796930Z",
     "shell.execute_reply": "2025-07-30T20:17:01.795957Z"
    },
    "papermill": {
     "duration": 0.032506,
     "end_time": "2025-07-30T20:17:01.798634",
     "exception": false,
     "start_time": "2025-07-30T20:17:01.766128",
     "status": "completed"
    },
    "tags": []
   },
   "outputs": [],
   "source": [
    "cp_metrics_df = pd.DataFrame(cp_metrics_dict)"
   ]
  },
  {
   "cell_type": "code",
   "execution_count": 61,
   "id": "db12611b-57b2-4910-b9d0-355adfd6e7bf",
   "metadata": {
    "execution": {
     "iopub.execute_input": "2025-07-30T20:17:01.849292Z",
     "iopub.status.busy": "2025-07-30T20:17:01.848714Z",
     "iopub.status.idle": "2025-07-30T20:17:01.868312Z",
     "shell.execute_reply": "2025-07-30T20:17:01.867333Z"
    },
    "papermill": {
     "duration": 0.045624,
     "end_time": "2025-07-30T20:17:01.869869",
     "exception": false,
     "start_time": "2025-07-30T20:17:01.824245",
     "status": "completed"
    },
    "tags": []
   },
   "outputs": [
    {
     "data": {
      "text/html": [
       "<div>\n",
       "<style scoped>\n",
       "    .dataframe tbody tr th:only-of-type {\n",
       "        vertical-align: middle;\n",
       "    }\n",
       "\n",
       "    .dataframe tbody tr th {\n",
       "        vertical-align: top;\n",
       "    }\n",
       "\n",
       "    .dataframe thead th {\n",
       "        text-align: right;\n",
       "    }\n",
       "</style>\n",
       "<table border=\"1\" class=\"dataframe\">\n",
       "  <thead>\n",
       "    <tr style=\"text-align: right;\">\n",
       "      <th></th>\n",
       "      <th>universe_id</th>\n",
       "      <th>universe_training_year</th>\n",
       "      <th>universe_training_size</th>\n",
       "      <th>universe_scale</th>\n",
       "      <th>universe_model</th>\n",
       "      <th>universe_exclude_features</th>\n",
       "      <th>universe_exclude_subgroups</th>\n",
       "      <th>q_hat</th>\n",
       "      <th>coverage</th>\n",
       "      <th>avg_size</th>\n",
       "    </tr>\n",
       "  </thead>\n",
       "  <tbody>\n",
       "    <tr>\n",
       "      <th>0</th>\n",
       "      <td>a6a023218cc8736e82036206f295d833</td>\n",
       "      <td>2012_14</td>\n",
       "      <td>25k</td>\n",
       "      <td>do-not-scale</td>\n",
       "      <td>penalized_logreg</td>\n",
       "      <td>sex</td>\n",
       "      <td>drop-non-german</td>\n",
       "      <td>0.657736</td>\n",
       "      <td>0.911872</td>\n",
       "      <td>1.221324</td>\n",
       "    </tr>\n",
       "  </tbody>\n",
       "</table>\n",
       "</div>"
      ],
      "text/plain": [
       "                        universe_id universe_training_year  \\\n",
       "0  a6a023218cc8736e82036206f295d833                2012_14   \n",
       "\n",
       "  universe_training_size universe_scale    universe_model  \\\n",
       "0                    25k   do-not-scale  penalized_logreg   \n",
       "\n",
       "  universe_exclude_features universe_exclude_subgroups     q_hat  coverage  \\\n",
       "0                       sex            drop-non-german  0.657736  0.911872   \n",
       "\n",
       "   avg_size  \n",
       "0  1.221324  "
      ]
     },
     "execution_count": 61,
     "metadata": {},
     "output_type": "execute_result"
    }
   ],
   "source": [
    "cp_metrics_df"
   ]
  },
  {
   "cell_type": "code",
   "execution_count": 62,
   "id": "b7fbde55-a0a1-47e4-9af6-fe4a17fa8c61",
   "metadata": {
    "execution": {
     "iopub.execute_input": "2025-07-30T20:17:01.920339Z",
     "iopub.status.busy": "2025-07-30T20:17:01.919478Z",
     "iopub.status.idle": "2025-07-30T20:17:01.925041Z",
     "shell.execute_reply": "2025-07-30T20:17:01.924039Z"
    },
    "papermill": {
     "duration": 0.032472,
     "end_time": "2025-07-30T20:17:01.926711",
     "exception": false,
     "start_time": "2025-07-30T20:17:01.894239",
     "status": "completed"
    },
    "tags": []
   },
   "outputs": [],
   "source": [
    "# Conditional Coverage & looking at subgroups"
   ]
  },
  {
   "cell_type": "code",
   "execution_count": 63,
   "id": "027ae886-68dd-4141-96c7-805a5450e1ef",
   "metadata": {
    "execution": {
     "iopub.execute_input": "2025-07-30T20:17:01.981658Z",
     "iopub.status.busy": "2025-07-30T20:17:01.980752Z",
     "iopub.status.idle": "2025-07-30T20:17:02.239173Z",
     "shell.execute_reply": "2025-07-30T20:17:02.238079Z"
    },
    "papermill": {
     "duration": 0.287677,
     "end_time": "2025-07-30T20:17:02.241161",
     "exception": false,
     "start_time": "2025-07-30T20:17:01.953484",
     "status": "completed"
    },
    "tags": []
   },
   "outputs": [],
   "source": [
    "from fairness_multiverse.conformal import build_cp_groups\n",
    "\n",
    "cp_groups_df = build_cp_groups(pred_sets, y_true, X_test.index, org_test)\n",
    "#needs universe_id and setting"
   ]
  },
  {
   "cell_type": "code",
   "execution_count": 64,
   "id": "01d5802c-663a-4d1f-9d69-e036faaffbf7",
   "metadata": {
    "execution": {
     "iopub.execute_input": "2025-07-30T20:17:02.298620Z",
     "iopub.status.busy": "2025-07-30T20:17:02.297839Z",
     "iopub.status.idle": "2025-07-30T20:17:02.303686Z",
     "shell.execute_reply": "2025-07-30T20:17:02.302517Z"
    },
    "papermill": {
     "duration": 0.034631,
     "end_time": "2025-07-30T20:17:02.305404",
     "exception": false,
     "start_time": "2025-07-30T20:17:02.270773",
     "status": "completed"
    },
    "tags": []
   },
   "outputs": [],
   "source": [
    "#delete\n",
    "#cp_groups_df"
   ]
  },
  {
   "cell_type": "code",
   "execution_count": 65,
   "id": "fa424af1-d1eb-443d-b717-2d279ada8408",
   "metadata": {
    "execution": {
     "iopub.execute_input": "2025-07-30T20:17:02.360245Z",
     "iopub.status.busy": "2025-07-30T20:17:02.359514Z",
     "iopub.status.idle": "2025-07-30T20:17:02.364942Z",
     "shell.execute_reply": "2025-07-30T20:17:02.363667Z"
    },
    "papermill": {
     "duration": 0.035997,
     "end_time": "2025-07-30T20:17:02.366788",
     "exception": false,
     "start_time": "2025-07-30T20:17:02.330791",
     "status": "completed"
    },
    "tags": []
   },
   "outputs": [],
   "source": [
    "#delete\n",
    "#percentage = (cp_groups_df['nongerman_female'] == 1).mean() * 100\n",
    "#print(percentage)\n"
   ]
  },
  {
   "cell_type": "code",
   "execution_count": 66,
   "id": "6cbdab96-b2b2-45af-ad54-d0516db2e28d",
   "metadata": {
    "execution": {
     "iopub.execute_input": "2025-07-30T20:17:02.422460Z",
     "iopub.status.busy": "2025-07-30T20:17:02.421763Z",
     "iopub.status.idle": "2025-07-30T20:17:03.992444Z",
     "shell.execute_reply": "2025-07-30T20:17:03.991441Z"
    },
    "papermill": {
     "duration": 1.601188,
     "end_time": "2025-07-30T20:17:03.994215",
     "exception": false,
     "start_time": "2025-07-30T20:17:02.393027",
     "status": "completed"
    },
    "tags": []
   },
   "outputs": [],
   "source": [
    "# Define covered = 1 if true_label is in the predicted set\n",
    "cp_groups_df['covered'] = cp_groups_df.apply(\n",
    "    lambda r: int(r['true_label'] in r['pred_set']),\n",
    "    axis=1\n",
    ")"
   ]
  },
  {
   "cell_type": "code",
   "execution_count": 67,
   "id": "338ff529-1a6b-4b87-a931-8e4788d52aad",
   "metadata": {
    "execution": {
     "iopub.execute_input": "2025-07-30T20:17:04.051863Z",
     "iopub.status.busy": "2025-07-30T20:17:04.051075Z",
     "iopub.status.idle": "2025-07-30T20:17:04.058207Z",
     "shell.execute_reply": "2025-07-30T20:17:04.057193Z"
    },
    "papermill": {
     "duration": 0.035041,
     "end_time": "2025-07-30T20:17:04.059880",
     "exception": false,
     "start_time": "2025-07-30T20:17:04.024839",
     "status": "completed"
    },
    "tags": []
   },
   "outputs": [],
   "source": [
    "#cp_groups_df"
   ]
  },
  {
   "cell_type": "code",
   "execution_count": 68,
   "id": "90032e27-66df-4540-9169-4e89cfbaa758",
   "metadata": {
    "execution": {
     "iopub.execute_input": "2025-07-30T20:17:04.104909Z",
     "iopub.status.busy": "2025-07-30T20:17:04.104583Z",
     "iopub.status.idle": "2025-07-30T20:17:04.114006Z",
     "shell.execute_reply": "2025-07-30T20:17:04.113210Z"
    },
    "papermill": {
     "duration": 0.026102,
     "end_time": "2025-07-30T20:17:04.115515",
     "exception": false,
     "start_time": "2025-07-30T20:17:04.089413",
     "status": "completed"
    },
    "tags": []
   },
   "outputs": [],
   "source": [
    "subgroups = ['frau1','nongerman','nongerman_male','nongerman_female']\n",
    "\n",
    "# Conditional coverage for subgroup==1\n",
    "cond_coverage = {\n",
    "    g: cp_groups_df.loc[cp_groups_df[g]==1, 'covered'].mean()\n",
    "    for g in subgroups\n",
    "}"
   ]
  },
  {
   "cell_type": "code",
   "execution_count": 69,
   "id": "1e348fb1-b9c3-45bc-ba23-f016827a7e0d",
   "metadata": {
    "execution": {
     "iopub.execute_input": "2025-07-30T20:17:04.144269Z",
     "iopub.status.busy": "2025-07-30T20:17:04.143614Z",
     "iopub.status.idle": "2025-07-30T20:17:04.150098Z",
     "shell.execute_reply": "2025-07-30T20:17:04.149330Z"
    },
    "papermill": {
     "duration": 0.021555,
     "end_time": "2025-07-30T20:17:04.151392",
     "exception": false,
     "start_time": "2025-07-30T20:17:04.129837",
     "status": "completed"
    },
    "tags": []
   },
   "outputs": [
    {
     "data": {
      "text/plain": [
       "{'frau1': 0.910877476748888,\n",
       " 'nongerman': 0.9418402290462022,\n",
       " 'nongerman_male': 0.9523552193100964,\n",
       " 'nongerman_female': 0.924441132637854}"
      ]
     },
     "execution_count": 69,
     "metadata": {},
     "output_type": "execute_result"
    }
   ],
   "source": [
    "cond_coverage"
   ]
  },
  {
   "cell_type": "code",
   "execution_count": 70,
   "id": "f5093324-c3dd-4d63-bc4c-8d945e5c8bbb",
   "metadata": {
    "execution": {
     "iopub.execute_input": "2025-07-30T20:17:04.180160Z",
     "iopub.status.busy": "2025-07-30T20:17:04.179634Z",
     "iopub.status.idle": "2025-07-30T20:17:04.185225Z",
     "shell.execute_reply": "2025-07-30T20:17:04.184424Z"
    },
    "papermill": {
     "duration": 0.020802,
     "end_time": "2025-07-30T20:17:04.186557",
     "exception": false,
     "start_time": "2025-07-30T20:17:04.165755",
     "status": "completed"
    },
    "tags": []
   },
   "outputs": [],
   "source": [
    "for subgroup, cov in cond_coverage.items():\n",
    "    cp_metrics_df[f\"cov_{subgroup}\"] = cov"
   ]
  },
  {
   "cell_type": "code",
   "execution_count": 71,
   "id": "6e872e10-dbe5-49e8-b554-5030c98ff75d",
   "metadata": {
    "execution": {
     "iopub.execute_input": "2025-07-30T20:17:04.215234Z",
     "iopub.status.busy": "2025-07-30T20:17:04.214933Z",
     "iopub.status.idle": "2025-07-30T20:17:04.228708Z",
     "shell.execute_reply": "2025-07-30T20:17:04.227888Z"
    },
    "papermill": {
     "duration": 0.029474,
     "end_time": "2025-07-30T20:17:04.230451",
     "exception": false,
     "start_time": "2025-07-30T20:17:04.200977",
     "status": "completed"
    },
    "tags": []
   },
   "outputs": [
    {
     "data": {
      "text/html": [
       "<div>\n",
       "<style scoped>\n",
       "    .dataframe tbody tr th:only-of-type {\n",
       "        vertical-align: middle;\n",
       "    }\n",
       "\n",
       "    .dataframe tbody tr th {\n",
       "        vertical-align: top;\n",
       "    }\n",
       "\n",
       "    .dataframe thead th {\n",
       "        text-align: right;\n",
       "    }\n",
       "</style>\n",
       "<table border=\"1\" class=\"dataframe\">\n",
       "  <thead>\n",
       "    <tr style=\"text-align: right;\">\n",
       "      <th></th>\n",
       "      <th>universe_id</th>\n",
       "      <th>universe_training_year</th>\n",
       "      <th>universe_training_size</th>\n",
       "      <th>universe_scale</th>\n",
       "      <th>universe_model</th>\n",
       "      <th>universe_exclude_features</th>\n",
       "      <th>universe_exclude_subgroups</th>\n",
       "      <th>q_hat</th>\n",
       "      <th>coverage</th>\n",
       "      <th>avg_size</th>\n",
       "      <th>cov_frau1</th>\n",
       "      <th>cov_nongerman</th>\n",
       "      <th>cov_nongerman_male</th>\n",
       "      <th>cov_nongerman_female</th>\n",
       "    </tr>\n",
       "  </thead>\n",
       "  <tbody>\n",
       "    <tr>\n",
       "      <th>0</th>\n",
       "      <td>a6a023218cc8736e82036206f295d833</td>\n",
       "      <td>2012_14</td>\n",
       "      <td>25k</td>\n",
       "      <td>do-not-scale</td>\n",
       "      <td>penalized_logreg</td>\n",
       "      <td>sex</td>\n",
       "      <td>drop-non-german</td>\n",
       "      <td>0.657736</td>\n",
       "      <td>0.911872</td>\n",
       "      <td>1.221324</td>\n",
       "      <td>0.910877</td>\n",
       "      <td>0.94184</td>\n",
       "      <td>0.952355</td>\n",
       "      <td>0.924441</td>\n",
       "    </tr>\n",
       "  </tbody>\n",
       "</table>\n",
       "</div>"
      ],
      "text/plain": [
       "                        universe_id universe_training_year  \\\n",
       "0  a6a023218cc8736e82036206f295d833                2012_14   \n",
       "\n",
       "  universe_training_size universe_scale    universe_model  \\\n",
       "0                    25k   do-not-scale  penalized_logreg   \n",
       "\n",
       "  universe_exclude_features universe_exclude_subgroups     q_hat  coverage  \\\n",
       "0                       sex            drop-non-german  0.657736  0.911872   \n",
       "\n",
       "   avg_size  cov_frau1  cov_nongerman  cov_nongerman_male  \\\n",
       "0  1.221324   0.910877        0.94184            0.952355   \n",
       "\n",
       "   cov_nongerman_female  \n",
       "0              0.924441  "
      ]
     },
     "execution_count": 71,
     "metadata": {},
     "output_type": "execute_result"
    }
   ],
   "source": [
    "cp_metrics_df"
   ]
  },
  {
   "cell_type": "markdown",
   "id": "33774451",
   "metadata": {
    "papermill": {
     "duration": 0.034555,
     "end_time": "2025-07-30T20:17:04.297628",
     "exception": false,
     "start_time": "2025-07-30T20:17:04.263073",
     "status": "completed"
    },
    "tags": []
   },
   "source": [
    "# (Fairness) Metrics"
   ]
  },
  {
   "cell_type": "code",
   "execution_count": 72,
   "id": "debc5d62",
   "metadata": {
    "execution": {
     "iopub.execute_input": "2025-07-30T20:17:04.359981Z",
     "iopub.status.busy": "2025-07-30T20:17:04.359555Z",
     "iopub.status.idle": "2025-07-30T20:17:04.381299Z",
     "shell.execute_reply": "2025-07-30T20:17:04.380394Z"
    },
    "papermill": {
     "duration": 0.050297,
     "end_time": "2025-07-30T20:17:04.383199",
     "exception": false,
     "start_time": "2025-07-30T20:17:04.332902",
     "status": "completed"
    },
    "tags": []
   },
   "outputs": [],
   "source": [
    "# do I need to include maxdeutsch1.missing?\n",
    "\n",
    "import numpy as np\n",
    "\n",
    "colname_to_bin = \"maxdeutsch1\"\n",
    "majority_value = org_train[colname_to_bin].mode()[0]\n",
    "\n",
    "org_test[\"majmin\"] = np.where(org_test[colname_to_bin] == majority_value, \"majority\", \"minority\")"
   ]
  },
  {
   "cell_type": "code",
   "execution_count": 73,
   "id": "06a50de5",
   "metadata": {
    "execution": {
     "iopub.execute_input": "2025-07-30T20:17:04.455164Z",
     "iopub.status.busy": "2025-07-30T20:17:04.454660Z",
     "iopub.status.idle": "2025-07-30T20:17:07.190068Z",
     "shell.execute_reply": "2025-07-30T20:17:07.189314Z"
    },
    "papermill": {
     "duration": 2.766742,
     "end_time": "2025-07-30T20:17:07.191606",
     "exception": false,
     "start_time": "2025-07-30T20:17:04.424864",
     "status": "completed"
    },
    "tags": []
   },
   "outputs": [],
   "source": [
    "example_universe = universe.copy()\n",
    "example_universe[\"cutoff\"] = example_universe[\"cutoff\"][0]\n",
    "example_universe[\"eval_fairness_grouping\"] = example_universe[\"eval_fairness_grouping\"][0]\n",
    "fairness_dict, metric_frame = universe_analysis.compute_metrics(\n",
    "    example_universe,\n",
    "    y_pred_prob=probs_test,\n",
    "    y_test=y_true,\n",
    "    org_test=org_test,\n",
    ")"
   ]
  },
  {
   "cell_type": "markdown",
   "id": "f95d4e02",
   "metadata": {
    "papermill": {
     "duration": 0.014816,
     "end_time": "2025-07-30T20:17:07.221610",
     "exception": false,
     "start_time": "2025-07-30T20:17:07.206794",
     "status": "completed"
    },
    "tags": []
   },
   "source": [
    "# Overall"
   ]
  },
  {
   "cell_type": "markdown",
   "id": "bdee4871",
   "metadata": {
    "papermill": {
     "duration": 0.014495,
     "end_time": "2025-07-30T20:17:07.250565",
     "exception": false,
     "start_time": "2025-07-30T20:17:07.236070",
     "status": "completed"
    },
    "tags": []
   },
   "source": [
    "Fairness\n",
    "Main fairness target: Equalized Odds. Seems to be a better fit than equal opportunity, since we're not only interested in Y = 1. Seems to be a better fit than demographic parity, since we also care about accuracy, not just equal distribution of preds.\n",
    "\n",
    "Pick column for computation of fairness metrics\n",
    "\n",
    "Performance\n",
    "Overall performance measures, most interesting in relation to the measures split by group below"
   ]
  },
  {
   "cell_type": "code",
   "execution_count": 74,
   "id": "c4e067c6",
   "metadata": {
    "execution": {
     "iopub.execute_input": "2025-07-30T20:17:07.280491Z",
     "iopub.status.busy": "2025-07-30T20:17:07.279943Z",
     "iopub.status.idle": "2025-07-30T20:17:07.287582Z",
     "shell.execute_reply": "2025-07-30T20:17:07.286768Z"
    },
    "papermill": {
     "duration": 0.024145,
     "end_time": "2025-07-30T20:17:07.289002",
     "exception": false,
     "start_time": "2025-07-30T20:17:07.264857",
     "status": "completed"
    },
    "tags": []
   },
   "outputs": [
    {
     "data": {
      "text/plain": [
       "accuracy                   0.218181\n",
       "balanced accuracy          0.534780\n",
       "f1                         0.239683\n",
       "precision                  0.136923\n",
       "false positive rate        0.891077\n",
       "false negative rate        0.039364\n",
       "selection rate             0.900000\n",
       "count                  89710.000000\n",
       "dtype: float64"
      ]
     },
     "execution_count": 74,
     "metadata": {},
     "output_type": "execute_result"
    }
   ],
   "source": [
    "metric_frame.overall"
   ]
  },
  {
   "cell_type": "markdown",
   "id": "e968fe9d",
   "metadata": {
    "papermill": {
     "duration": 0.014337,
     "end_time": "2025-07-30T20:17:07.318705",
     "exception": false,
     "start_time": "2025-07-30T20:17:07.304368",
     "status": "completed"
    },
    "tags": []
   },
   "source": [
    "By Group"
   ]
  },
  {
   "cell_type": "code",
   "execution_count": 75,
   "id": "ec325bce",
   "metadata": {
    "execution": {
     "iopub.execute_input": "2025-07-30T20:17:07.347915Z",
     "iopub.status.busy": "2025-07-30T20:17:07.347418Z",
     "iopub.status.idle": "2025-07-30T20:17:07.359873Z",
     "shell.execute_reply": "2025-07-30T20:17:07.359111Z"
    },
    "papermill": {
     "duration": 0.028679,
     "end_time": "2025-07-30T20:17:07.361350",
     "exception": false,
     "start_time": "2025-07-30T20:17:07.332671",
     "status": "completed"
    },
    "tags": []
   },
   "outputs": [
    {
     "data": {
      "text/html": [
       "<div>\n",
       "<style scoped>\n",
       "    .dataframe tbody tr th:only-of-type {\n",
       "        vertical-align: middle;\n",
       "    }\n",
       "\n",
       "    .dataframe tbody tr th {\n",
       "        vertical-align: top;\n",
       "    }\n",
       "\n",
       "    .dataframe thead th {\n",
       "        text-align: right;\n",
       "    }\n",
       "</style>\n",
       "<table border=\"1\" class=\"dataframe\">\n",
       "  <thead>\n",
       "    <tr style=\"text-align: right;\">\n",
       "      <th></th>\n",
       "      <th>accuracy</th>\n",
       "      <th>balanced accuracy</th>\n",
       "      <th>f1</th>\n",
       "      <th>precision</th>\n",
       "      <th>false positive rate</th>\n",
       "      <th>false negative rate</th>\n",
       "      <th>selection rate</th>\n",
       "      <th>count</th>\n",
       "    </tr>\n",
       "    <tr>\n",
       "      <th>majmin</th>\n",
       "      <th></th>\n",
       "      <th></th>\n",
       "      <th></th>\n",
       "      <th></th>\n",
       "      <th></th>\n",
       "      <th></th>\n",
       "      <th></th>\n",
       "      <th></th>\n",
       "    </tr>\n",
       "  </thead>\n",
       "  <tbody>\n",
       "    <tr>\n",
       "      <th>majority</th>\n",
       "      <td>0.240538</td>\n",
       "      <td>0.542974</td>\n",
       "      <td>0.249243</td>\n",
       "      <td>0.143346</td>\n",
       "      <td>0.868099</td>\n",
       "      <td>0.045952</td>\n",
       "      <td>0.879456</td>\n",
       "      <td>69170.0</td>\n",
       "    </tr>\n",
       "    <tr>\n",
       "      <th>minority</th>\n",
       "      <td>0.142892</td>\n",
       "      <td>0.509541</td>\n",
       "      <td>0.209652</td>\n",
       "      <td>0.117295</td>\n",
       "      <td>0.966982</td>\n",
       "      <td>0.013936</td>\n",
       "      <td>0.969182</td>\n",
       "      <td>20540.0</td>\n",
       "    </tr>\n",
       "  </tbody>\n",
       "</table>\n",
       "</div>"
      ],
      "text/plain": [
       "          accuracy  balanced accuracy        f1  precision  \\\n",
       "majmin                                                       \n",
       "majority  0.240538           0.542974  0.249243   0.143346   \n",
       "minority  0.142892           0.509541  0.209652   0.117295   \n",
       "\n",
       "          false positive rate  false negative rate  selection rate    count  \n",
       "majmin                                                                       \n",
       "majority             0.868099             0.045952        0.879456  69170.0  \n",
       "minority             0.966982             0.013936        0.969182  20540.0  "
      ]
     },
     "execution_count": 75,
     "metadata": {},
     "output_type": "execute_result"
    }
   ],
   "source": [
    "metric_frame.by_group"
   ]
  },
  {
   "cell_type": "code",
   "execution_count": 76,
   "id": "a9ddbe63",
   "metadata": {
    "execution": {
     "iopub.execute_input": "2025-07-30T20:17:07.392279Z",
     "iopub.status.busy": "2025-07-30T20:17:07.391756Z",
     "iopub.status.idle": "2025-07-30T20:17:09.756671Z",
     "shell.execute_reply": "2025-07-30T20:17:09.755692Z"
    },
    "papermill": {
     "duration": 2.381131,
     "end_time": "2025-07-30T20:17:09.758251",
     "exception": false,
     "start_time": "2025-07-30T20:17:07.377120",
     "status": "completed"
    },
    "tags": []
   },
   "outputs": [
    {
     "data": {
      "text/plain": [
       "array([[<Axes: title={'center': 'accuracy'}, xlabel='majmin'>,\n",
       "        <Axes: title={'center': 'balanced accuracy'}, xlabel='majmin'>,\n",
       "        <Axes: title={'center': 'f1'}, xlabel='majmin'>],\n",
       "       [<Axes: title={'center': 'precision'}, xlabel='majmin'>,\n",
       "        <Axes: title={'center': 'false positive rate'}, xlabel='majmin'>,\n",
       "        <Axes: title={'center': 'false negative rate'}, xlabel='majmin'>],\n",
       "       [<Axes: title={'center': 'selection rate'}, xlabel='majmin'>,\n",
       "        <Axes: title={'center': 'count'}, xlabel='majmin'>,\n",
       "        <Axes: xlabel='majmin'>]], dtype=object)"
      ]
     },
     "execution_count": 76,
     "metadata": {},
     "output_type": "execute_result"
    },
    {
     "data": {
      "image/png": "[encoded data removed]",
      "text/plain": [
       "<Figure size 1200x800 with 9 Axes>"
      ]
     },
     "metadata": {},
     "output_type": "display_data"
    }
   ],
   "source": [
    "# In a graphic\n",
    "metric_frame.by_group.plot.bar(\n",
    "    subplots=True,\n",
    "    layout=[3, 3],\n",
    "    legend=False,\n",
    "    figsize=[12, 8],\n",
    "    title=\"Show all metrics\",\n",
    ")"
   ]
  },
  {
   "cell_type": "markdown",
   "id": "f57a0bac",
   "metadata": {
    "papermill": {
     "duration": 0.028835,
     "end_time": "2025-07-30T20:17:09.819064",
     "exception": false,
     "start_time": "2025-07-30T20:17:09.790229",
     "status": "completed"
    },
    "tags": []
   },
   "source": [
    "# Final Output"
   ]
  },
  {
   "cell_type": "code",
   "execution_count": 77,
   "id": "96d280a3",
   "metadata": {
    "execution": {
     "iopub.execute_input": "2025-07-30T20:17:09.879847Z",
     "iopub.status.busy": "2025-07-30T20:17:09.879039Z",
     "iopub.status.idle": "2025-07-30T20:17:09.887491Z",
     "shell.execute_reply": "2025-07-30T20:17:09.886530Z"
    },
    "papermill": {
     "duration": 0.040697,
     "end_time": "2025-07-30T20:17:09.889324",
     "exception": false,
     "start_time": "2025-07-30T20:17:09.848627",
     "status": "completed"
    },
    "tags": []
   },
   "outputs": [
    {
     "data": {
      "text/plain": [
       "4"
      ]
     },
     "execution_count": 77,
     "metadata": {},
     "output_type": "execute_result"
    }
   ],
   "source": [
    "sub_universes = universe_analysis.generate_sub_universes()\n",
    "len(sub_universes)"
   ]
  },
  {
   "cell_type": "code",
   "execution_count": 78,
   "id": "92adf7ba",
   "metadata": {
    "execution": {
     "iopub.execute_input": "2025-07-30T20:17:09.950786Z",
     "iopub.status.busy": "2025-07-30T20:17:09.950109Z",
     "iopub.status.idle": "2025-07-30T20:17:09.956586Z",
     "shell.execute_reply": "2025-07-30T20:17:09.955432Z"
    },
    "papermill": {
     "duration": 0.038279,
     "end_time": "2025-07-30T20:17:09.958471",
     "exception": false,
     "start_time": "2025-07-30T20:17:09.920192",
     "status": "completed"
    },
    "tags": []
   },
   "outputs": [],
   "source": [
    "def filter_sub_universe_data(sub_universe, org_test):\n",
    "    # Keep all rows — no filtering\n",
    "    keep_rows_mask = np.ones(org_test.shape[0], dtype=bool)\n",
    "\n",
    "    print(f\"[INFO] Keeping all rows: {keep_rows_mask.sum()} rows retained.\")\n",
    "    return keep_rows_mask"
   ]
  },
  {
   "cell_type": "code",
   "execution_count": 79,
   "id": "4a759155",
   "metadata": {
    "execution": {
     "iopub.execute_input": "2025-07-30T20:17:10.019918Z",
     "iopub.status.busy": "2025-07-30T20:17:10.019252Z",
     "iopub.status.idle": "2025-07-30T20:17:18.901253Z",
     "shell.execute_reply": "2025-07-30T20:17:18.899693Z"
    },
    "papermill": {
     "duration": 8.913423,
     "end_time": "2025-07-30T20:17:18.902674",
     "exception": false,
     "start_time": "2025-07-30T20:17:09.989251",
     "status": "completed"
    },
    "tags": []
   },
   "outputs": [
    {
     "name": "stdout",
     "output_type": "stream",
     "text": [
      "Stopping execution_time clock.\n",
      "[INFO] Keeping all rows: 89710 rows retained.\n"
     ]
    },
    {
     "name": "stdout",
     "output_type": "stream",
     "text": [
      "[INFO] Keeping all rows: 89710 rows retained.\n"
     ]
    },
    {
     "name": "stdout",
     "output_type": "stream",
     "text": [
      "[INFO] Keeping all rows: 89710 rows retained.\n"
     ]
    },
    {
     "name": "stdout",
     "output_type": "stream",
     "text": [
      "[INFO] Keeping all rows: 89710 rows retained.\n"
     ]
    },
    {
     "data": {
      "text/html": [
       "<div>\n",
       "<style scoped>\n",
       "    .dataframe tbody tr th:only-of-type {\n",
       "        vertical-align: middle;\n",
       "    }\n",
       "\n",
       "    .dataframe tbody tr th {\n",
       "        vertical-align: top;\n",
       "    }\n",
       "\n",
       "    .dataframe thead th {\n",
       "        text-align: right;\n",
       "    }\n",
       "</style>\n",
       "<table border=\"1\" class=\"dataframe\">\n",
       "  <thead>\n",
       "    <tr style=\"text-align: right;\">\n",
       "      <th></th>\n",
       "      <th>run_no</th>\n",
       "      <th>universe_id</th>\n",
       "      <th>universe_settings</th>\n",
       "      <th>execution_time</th>\n",
       "      <th>test_size_n</th>\n",
       "      <th>test_size_frac</th>\n",
       "      <th>fair_main_equalized_odds_difference</th>\n",
       "      <th>fair_main_equalized_odds_ratio</th>\n",
       "      <th>fair_main_demographic_parity_difference</th>\n",
       "      <th>fair_main_demographic_parity_ratio</th>\n",
       "      <th>...</th>\n",
       "      <th>perf_grp_precision_0</th>\n",
       "      <th>perf_grp_precision_1</th>\n",
       "      <th>perf_grp_false positive rate_0</th>\n",
       "      <th>perf_grp_false positive rate_1</th>\n",
       "      <th>perf_grp_false negative rate_0</th>\n",
       "      <th>perf_grp_false negative rate_1</th>\n",
       "      <th>perf_grp_selection rate_0</th>\n",
       "      <th>perf_grp_selection rate_1</th>\n",
       "      <th>perf_grp_count_0</th>\n",
       "      <th>perf_grp_count_1</th>\n",
       "    </tr>\n",
       "  </thead>\n",
       "  <tbody>\n",
       "    <tr>\n",
       "      <th>0</th>\n",
       "      <td>14</td>\n",
       "      <td>a6a023218cc8736e82036206f295d833</td>\n",
       "      <td>{\"cutoff\": \"quantile_0.1\", \"eval_fairness_grou...</td>\n",
       "      <td>27.896408</td>\n",
       "      <td>89710</td>\n",
       "      <td>1.0</td>\n",
       "      <td>0.098883</td>\n",
       "      <td>0.897741</td>\n",
       "      <td>0.089726</td>\n",
       "      <td>0.907421</td>\n",
       "      <td>...</td>\n",
       "      <td>NaN</td>\n",
       "      <td>NaN</td>\n",
       "      <td>NaN</td>\n",
       "      <td>NaN</td>\n",
       "      <td>NaN</td>\n",
       "      <td>NaN</td>\n",
       "      <td>NaN</td>\n",
       "      <td>NaN</td>\n",
       "      <td>NaN</td>\n",
       "      <td>NaN</td>\n",
       "    </tr>\n",
       "    <tr>\n",
       "      <th>0</th>\n",
       "      <td>14</td>\n",
       "      <td>a6a023218cc8736e82036206f295d833</td>\n",
       "      <td>{\"cutoff\": \"quantile_0.1\", \"eval_fairness_grou...</td>\n",
       "      <td>27.896408</td>\n",
       "      <td>89710</td>\n",
       "      <td>1.0</td>\n",
       "      <td>0.098883</td>\n",
       "      <td>0.897741</td>\n",
       "      <td>0.089726</td>\n",
       "      <td>0.907421</td>\n",
       "      <td>...</td>\n",
       "      <td>0.117295</td>\n",
       "      <td>0.143346</td>\n",
       "      <td>0.966982</td>\n",
       "      <td>0.868099</td>\n",
       "      <td>0.013936</td>\n",
       "      <td>0.045952</td>\n",
       "      <td>0.969182</td>\n",
       "      <td>0.879456</td>\n",
       "      <td>20540.0</td>\n",
       "      <td>69170.0</td>\n",
       "    </tr>\n",
       "    <tr>\n",
       "      <th>0</th>\n",
       "      <td>14</td>\n",
       "      <td>a6a023218cc8736e82036206f295d833</td>\n",
       "      <td>{\"cutoff\": \"quantile_0.25\", \"eval_fairness_gro...</td>\n",
       "      <td>27.896408</td>\n",
       "      <td>89710</td>\n",
       "      <td>1.0</td>\n",
       "      <td>0.225677</td>\n",
       "      <td>0.750244</td>\n",
       "      <td>0.207115</td>\n",
       "      <td>0.772323</td>\n",
       "      <td>...</td>\n",
       "      <td>NaN</td>\n",
       "      <td>NaN</td>\n",
       "      <td>NaN</td>\n",
       "      <td>NaN</td>\n",
       "      <td>NaN</td>\n",
       "      <td>NaN</td>\n",
       "      <td>NaN</td>\n",
       "      <td>NaN</td>\n",
       "      <td>NaN</td>\n",
       "      <td>NaN</td>\n",
       "    </tr>\n",
       "    <tr>\n",
       "      <th>0</th>\n",
       "      <td>14</td>\n",
       "      <td>a6a023218cc8736e82036206f295d833</td>\n",
       "      <td>{\"cutoff\": \"quantile_0.25\", \"eval_fairness_gro...</td>\n",
       "      <td>27.896408</td>\n",
       "      <td>89710</td>\n",
       "      <td>1.0</td>\n",
       "      <td>0.225677</td>\n",
       "      <td>0.750244</td>\n",
       "      <td>0.207115</td>\n",
       "      <td>0.772323</td>\n",
       "      <td>...</td>\n",
       "      <td>0.121220</td>\n",
       "      <td>0.162603</td>\n",
       "      <td>0.903588</td>\n",
       "      <td>0.677911</td>\n",
       "      <td>0.043497</td>\n",
       "      <td>0.135449</td>\n",
       "      <td>0.909688</td>\n",
       "      <td>0.702573</td>\n",
       "      <td>20540.0</td>\n",
       "      <td>69170.0</td>\n",
       "    </tr>\n",
       "  </tbody>\n",
       "</table>\n",
       "<p>4 rows × 50 columns</p>\n",
       "</div>"
      ],
      "text/plain": [
       "  run_no                       universe_id  \\\n",
       "0     14  a6a023218cc8736e82036206f295d833   \n",
       "0     14  a6a023218cc8736e82036206f295d833   \n",
       "0     14  a6a023218cc8736e82036206f295d833   \n",
       "0     14  a6a023218cc8736e82036206f295d833   \n",
       "\n",
       "                                   universe_settings  execution_time  \\\n",
       "0  {\"cutoff\": \"quantile_0.1\", \"eval_fairness_grou...       27.896408   \n",
       "0  {\"cutoff\": \"quantile_0.1\", \"eval_fairness_grou...       27.896408   \n",
       "0  {\"cutoff\": \"quantile_0.25\", \"eval_fairness_gro...       27.896408   \n",
       "0  {\"cutoff\": \"quantile_0.25\", \"eval_fairness_gro...       27.896408   \n",
       "\n",
       "   test_size_n  test_size_frac  fair_main_equalized_odds_difference  \\\n",
       "0        89710             1.0                             0.098883   \n",
       "0        89710             1.0                             0.098883   \n",
       "0        89710             1.0                             0.225677   \n",
       "0        89710             1.0                             0.225677   \n",
       "\n",
       "   fair_main_equalized_odds_ratio  fair_main_demographic_parity_difference  \\\n",
       "0                        0.897741                                 0.089726   \n",
       "0                        0.897741                                 0.089726   \n",
       "0                        0.750244                                 0.207115   \n",
       "0                        0.750244                                 0.207115   \n",
       "\n",
       "   fair_main_demographic_parity_ratio  ...  perf_grp_precision_0  \\\n",
       "0                            0.907421  ...                   NaN   \n",
       "0                            0.907421  ...              0.117295   \n",
       "0                            0.772323  ...                   NaN   \n",
       "0                            0.772323  ...              0.121220   \n",
       "\n",
       "   perf_grp_precision_1  perf_grp_false positive rate_0  \\\n",
       "0                   NaN                             NaN   \n",
       "0              0.143346                        0.966982   \n",
       "0                   NaN                             NaN   \n",
       "0              0.162603                        0.903588   \n",
       "\n",
       "   perf_grp_false positive rate_1  perf_grp_false negative rate_0  \\\n",
       "0                             NaN                             NaN   \n",
       "0                        0.868099                        0.013936   \n",
       "0                             NaN                             NaN   \n",
       "0                        0.677911                        0.043497   \n",
       "\n",
       "   perf_grp_false negative rate_1  perf_grp_selection rate_0  \\\n",
       "0                             NaN                        NaN   \n",
       "0                        0.045952                   0.969182   \n",
       "0                             NaN                        NaN   \n",
       "0                        0.135449                   0.909688   \n",
       "\n",
       "   perf_grp_selection rate_1  perf_grp_count_0  perf_grp_count_1  \n",
       "0                        NaN               NaN               NaN  \n",
       "0                   0.879456           20540.0           69170.0  \n",
       "0                        NaN               NaN               NaN  \n",
       "0                   0.702573           20540.0           69170.0  \n",
       "\n",
       "[4 rows x 50 columns]"
      ]
     },
     "execution_count": 79,
     "metadata": {},
     "output_type": "execute_result"
    }
   ],
   "source": [
    "final_output = universe_analysis.generate_final_output(\n",
    "    y_pred_prob=probs_test,\n",
    "    y_test=y_true,\n",
    "    org_test=org_test,\n",
    "    filter_data=filter_sub_universe_data,\n",
    "    cp_metrics_df=cp_metrics_df,\n",
    "    save=True,\n",
    ")\n",
    "final_output"
   ]
  },
  {
   "cell_type": "code",
   "execution_count": null,
   "id": "721ff514-cb11-46f8-b6fc-50392f74b5cb",
   "metadata": {
    "papermill": {
     "duration": 0.029979,
     "end_time": "2025-07-30T20:17:18.966404",
     "exception": false,
     "start_time": "2025-07-30T20:17:18.936425",
     "status": "completed"
    },
    "tags": []
   },
   "outputs": [],
   "source": []
  }
 ],
 "metadata": {
  "celltoolbar": "Tags",
  "kernelspec": {
   "display_name": "Python (CMA Fairness)",
   "language": "python",
   "name": "cma_fair_env"
  },
  "language_info": {
   "codemirror_mode": {
    "name": "ipython",
    "version": 3
   },
   "file_extension": ".py",
   "mimetype": "text/x-python",
   "name": "python",
   "nbconvert_exporter": "python",
   "pygments_lexer": "ipython3",
   "version": "3.10.12"
  },
  "papermill": {
   "default_parameters": {},
   "duration": 41.307514,
   "end_time": "2025-07-30T20:17:19.716463",
   "environment_variables": {},
   "exception": null,
   "input_path": "universe_analysis.ipynb",
   "output_path": "output/runs/14/notebooks/m_14-a6a023218cc8736e82036206f295d833.ipynb",
   "parameters": {
    "output_dir": "output",
    "run_no": "14",
    "seed": "2023",
    "universe": "{\"cutoff\": [\"quantile_0.1\", \"quantile_0.25\"], \"eval_fairness_grouping\": [\"majority-minority\", \"nationality-all\"], \"exclude_features\": \"sex\", \"exclude_subgroups\": \"drop-non-german\", \"model\": \"penalized_logreg\", \"scale\": \"do-not-scale\", \"training_size\": \"25k\", \"training_year\": \"2012_14\"}",
    "universe_id": "a6a023218cc8736e82036206f295d833"
   },
   "start_time": "2025-07-30T20:16:38.408949",
   "version": "2.6.0"
  }
 },
 "nbformat": 4,
 "nbformat_minor": 5
}