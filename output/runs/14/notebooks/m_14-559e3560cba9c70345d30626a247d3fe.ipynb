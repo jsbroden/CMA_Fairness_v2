{
 "cells": [
  {
   "cell_type": "code",
   "execution_count": 1,
   "id": "f159f837-637b-42ba-96b5-ec9a68c44524",
   "metadata": {
    "execution": {
     "iopub.execute_input": "2025-07-30T19:55:11.646085Z",
     "iopub.status.busy": "2025-07-30T19:55:11.645387Z",
     "iopub.status.idle": "2025-07-30T19:55:11.659449Z",
     "shell.execute_reply": "2025-07-30T19:55:11.658515Z"
    },
    "papermill": {
     "duration": 0.036618,
     "end_time": "2025-07-30T19:55:11.661070",
     "exception": false,
     "start_time": "2025-07-30T19:55:11.624452",
     "status": "completed"
    },
    "tags": []
   },
   "outputs": [
    {
     "name": "stdout",
     "output_type": "stream",
     "text": [
      "/dss/dsshome1/0C/ra93lal2/cma/CMA_Fairness_v2\n"
     ]
    },
    {
     "name": "stderr",
     "output_type": "stream",
     "text": [
      "/dss/dsshome1/0C/ra93lal2/.local/share/virtualenvs/CMA_Fairness_v2-3j10GkSs/lib/python3.10/site-packages/IPython/core/magics/osm.py:393: UserWarning: This is now an optional IPython functionality, using bookmarks requires you to install the `pickleshare` library.\n",
      "  bkms = self.shell.db.get('bookmarks', {})\n",
      "/dss/dsshome1/0C/ra93lal2/.local/share/virtualenvs/CMA_Fairness_v2-3j10GkSs/lib/python3.10/site-packages/IPython/core/magics/osm.py:417: UserWarning: This is now an optional IPython functionality, setting dhist requires you to install the `pickleshare` library.\n",
      "  self.shell.db['dhist'] = compress_dhist(dhist)[-100:]\n"
     ]
    }
   ],
   "source": [
    "%cd ~/cma/CMA_Fairness_v2"
   ]
  },
  {
   "cell_type": "markdown",
   "id": "de2603b9",
   "metadata": {
    "papermill": {
     "duration": 0.019003,
     "end_time": "2025-07-30T19:55:11.700709",
     "exception": false,
     "start_time": "2025-07-30T19:55:11.681706",
     "status": "completed"
    },
    "tags": []
   },
   "source": [
    "The following cell holds the definition of our parameters, these values can be overriden by rendering the with e.g. the following command:\n",
    "\n",
    "papermill -p alpha 0.2 -p ratio 0.3 universe_analysis.ipynb output/test_run.ipynb"
   ]
  },
  {
   "cell_type": "code",
   "execution_count": 2,
   "id": "a80968a0-40bb-4fa9-85ef-2d5eefb01975",
   "metadata": {
    "execution": {
     "iopub.execute_input": "2025-07-30T19:55:11.740266Z",
     "iopub.status.busy": "2025-07-30T19:55:11.739572Z",
     "iopub.status.idle": "2025-07-30T19:55:11.745636Z",
     "shell.execute_reply": "2025-07-30T19:55:11.744476Z"
    },
    "papermill": {
     "duration": 0.027706,
     "end_time": "2025-07-30T19:55:11.747317",
     "exception": false,
     "start_time": "2025-07-30T19:55:11.719611",
     "status": "completed"
    },
    "tags": []
   },
   "outputs": [
    {
     "name": "stdout",
     "output_type": "stream",
     "text": [
      "Current working directory: /dss/dsshome1/0C/ra93lal2/cma/CMA_Fairness_v2\n"
     ]
    }
   ],
   "source": [
    "import os\n",
    "print(\"Current working directory:\", os.getcwd())"
   ]
  },
  {
   "cell_type": "code",
   "execution_count": 3,
   "id": "2dce4c03",
   "metadata": {
    "execution": {
     "iopub.execute_input": "2025-07-30T19:55:11.788213Z",
     "iopub.status.busy": "2025-07-30T19:55:11.787531Z",
     "iopub.status.idle": "2025-07-30T19:55:11.793993Z",
     "shell.execute_reply": "2025-07-30T19:55:11.793011Z"
    },
    "papermill": {
     "duration": 0.028466,
     "end_time": "2025-07-30T19:55:11.795841",
     "exception": false,
     "start_time": "2025-07-30T19:55:11.767375",
     "status": "completed"
    },
    "tags": [
     "parameters"
    ]
   },
   "outputs": [],
   "source": [
    "run_no = 0\n",
    "universe_id = \"test\"\n",
    "universe = {\n",
    "    \"training_size\": \"25k\", # \"25k\", \"5k\", \"1k\"\n",
    "    \"training_year\": \"2014\", # \"2014\", \"2012_14\", \"2010_14\"\n",
    "    \"scale\": \"scale\", # \"scale\", \"do-not-scale\",\n",
    "    #\"stratify_split\": \"target\", # \"none\", \"target\", \"protected-attribute\", \"both\",\n",
    "    \"model\": \"elasticnet\", # \"logreg\", \"penalized_logreg\", \"rf\", \"gbm\", \"elasticnet\"\n",
    "    \"cutoff\": [\"quantile_0.15\", \"quantile_0.30\"],\n",
    "    \"exclude_features\": \"age\", # \"none\", \"nationality\", \"sex\", \"nationality-sex\", \"age\"\n",
    "    \"exclude_subgroups\": \"keep-all\", # \"keep-all\", \"drop-non-german\"\n",
    "    \"eval_fairness_grouping\": [\"majority-minority\", \"nationality-all\"]\n",
    "}\n",
    "\n",
    "output_dir=\"./output\"\n",
    "seed=0"
   ]
  },
  {
   "cell_type": "code",
   "execution_count": 4,
   "id": "bd69ab6c",
   "metadata": {
    "execution": {
     "iopub.execute_input": "2025-07-30T19:55:11.836731Z",
     "iopub.status.busy": "2025-07-30T19:55:11.835909Z",
     "iopub.status.idle": "2025-07-30T19:55:11.841375Z",
     "shell.execute_reply": "2025-07-30T19:55:11.840413Z"
    },
    "papermill": {
     "duration": 0.02736,
     "end_time": "2025-07-30T19:55:11.843209",
     "exception": false,
     "start_time": "2025-07-30T19:55:11.815849",
     "status": "completed"
    },
    "tags": [
     "injected-parameters"
    ]
   },
   "outputs": [],
   "source": [
    "# Parameters\n",
    "universe_id = \"559e3560cba9c70345d30626a247d3fe\"\n",
    "run_no = \"14\"\n",
    "universe = \"{\\\"cutoff\\\": [\\\"quantile_0.1\\\", \\\"quantile_0.25\\\"], \\\"eval_fairness_grouping\\\": [\\\"majority-minority\\\", \\\"nationality-all\\\"], \\\"exclude_features\\\": \\\"nationality\\\", \\\"exclude_subgroups\\\": \\\"keep-all\\\", \\\"model\\\": \\\"elasticnet\\\", \\\"scale\\\": \\\"scale\\\", \\\"training_size\\\": \\\"25k\\\", \\\"training_year\\\": \\\"2014\\\"}\"\n",
    "output_dir = \"output\"\n",
    "seed = \"2023\"\n"
   ]
  },
  {
   "cell_type": "code",
   "execution_count": 5,
   "id": "1650acaf",
   "metadata": {
    "execution": {
     "iopub.execute_input": "2025-07-30T19:55:11.884039Z",
     "iopub.status.busy": "2025-07-30T19:55:11.883584Z",
     "iopub.status.idle": "2025-07-30T19:55:11.888148Z",
     "shell.execute_reply": "2025-07-30T19:55:11.887437Z"
    },
    "papermill": {
     "duration": 0.029765,
     "end_time": "2025-07-30T19:55:11.893392",
     "exception": false,
     "start_time": "2025-07-30T19:55:11.863627",
     "status": "completed"
    },
    "tags": []
   },
   "outputs": [],
   "source": [
    "import json\n",
    "# Parse universe into dict if it is passed as a string\n",
    "if isinstance(universe, str):\n",
    "    universe = json.loads(universe)"
   ]
  },
  {
   "cell_type": "code",
   "execution_count": 6,
   "id": "16620c48",
   "metadata": {
    "execution": {
     "iopub.execute_input": "2025-07-30T19:55:11.915084Z",
     "iopub.status.busy": "2025-07-30T19:55:11.914615Z",
     "iopub.status.idle": "2025-07-30T19:55:11.956187Z",
     "shell.execute_reply": "2025-07-30T19:55:11.955483Z"
    },
    "papermill": {
     "duration": 0.053647,
     "end_time": "2025-07-30T19:55:11.957568",
     "exception": false,
     "start_time": "2025-07-30T19:55:11.903921",
     "status": "completed"
    },
    "tags": []
   },
   "outputs": [],
   "source": [
    "# Auto-reload the custom package\n",
    "%load_ext autoreload\n",
    "%autoreload 1\n",
    "%aimport fairness_multiverse"
   ]
  },
  {
   "cell_type": "code",
   "execution_count": 7,
   "id": "01c5c9f3",
   "metadata": {
    "execution": {
     "iopub.execute_input": "2025-07-30T19:55:11.979574Z",
     "iopub.status.busy": "2025-07-30T19:55:11.978974Z",
     "iopub.status.idle": "2025-07-30T19:55:13.418173Z",
     "shell.execute_reply": "2025-07-30T19:55:13.417073Z"
    },
    "papermill": {
     "duration": 1.451927,
     "end_time": "2025-07-30T19:55:13.420123",
     "exception": false,
     "start_time": "2025-07-30T19:55:11.968196",
     "status": "completed"
    },
    "tags": []
   },
   "outputs": [],
   "source": [
    "from fairness_multiverse.universe import UniverseAnalysis\n",
    "\n",
    "universe_analysis = UniverseAnalysis(\n",
    "    run_no = run_no,\n",
    "    universe_id = universe_id,\n",
    "    universe = universe,\n",
    "    output_dir=output_dir,\n",
    ")"
   ]
  },
  {
   "cell_type": "code",
   "execution_count": 8,
   "id": "106241f5",
   "metadata": {
    "execution": {
     "iopub.execute_input": "2025-07-30T19:55:13.465005Z",
     "iopub.status.busy": "2025-07-30T19:55:13.464072Z",
     "iopub.status.idle": "2025-07-30T19:55:13.472245Z",
     "shell.execute_reply": "2025-07-30T19:55:13.471269Z"
    },
    "papermill": {
     "duration": 0.032396,
     "end_time": "2025-07-30T19:55:13.474084",
     "exception": false,
     "start_time": "2025-07-30T19:55:13.441688",
     "status": "completed"
    },
    "tags": []
   },
   "outputs": [
    {
     "name": "stdout",
     "output_type": "stream",
     "text": [
      "Using Seed: 2023\n"
     ]
    }
   ],
   "source": [
    "import numpy as np\n",
    "parsed_seed = int(seed)\n",
    "np.random.seed(parsed_seed)\n",
    "print(f\"Using Seed: {parsed_seed}\")"
   ]
  },
  {
   "cell_type": "markdown",
   "id": "e0ebdc57",
   "metadata": {
    "papermill": {
     "duration": 0.019402,
     "end_time": "2025-07-30T19:55:13.514141",
     "exception": false,
     "start_time": "2025-07-30T19:55:13.494739",
     "status": "completed"
    },
    "tags": []
   },
   "source": [
    "# Loading Data"
   ]
  },
  {
   "cell_type": "markdown",
   "id": "681925a3",
   "metadata": {
    "papermill": {
     "duration": 0.019775,
     "end_time": "2025-07-30T19:55:13.553622",
     "exception": false,
     "start_time": "2025-07-30T19:55:13.533847",
     "status": "completed"
    },
    "tags": []
   },
   "source": [
    "Load siab_train, siab_test, siab_calib and/or \n",
    "load siab_train_features, siab_train_labels"
   ]
  },
  {
   "cell_type": "code",
   "execution_count": 9,
   "id": "f0496b8a",
   "metadata": {
    "execution": {
     "iopub.execute_input": "2025-07-30T19:55:13.594676Z",
     "iopub.status.busy": "2025-07-30T19:55:13.593978Z",
     "iopub.status.idle": "2025-07-30T19:55:25.611099Z",
     "shell.execute_reply": "2025-07-30T19:55:25.609734Z"
    },
    "papermill": {
     "duration": 12.040025,
     "end_time": "2025-07-30T19:55:25.613281",
     "exception": false,
     "start_time": "2025-07-30T19:55:13.573256",
     "status": "completed"
    },
    "tags": []
   },
   "outputs": [
    {
     "name": "stdout",
     "output_type": "stream",
     "text": [
      "Loading SIAB data from cache: data/siab_cached.csv.gz\n"
     ]
    },
    {
     "name": "stdout",
     "output_type": "stream",
     "text": [
      "(643690, 164)\n"
     ]
    }
   ],
   "source": [
    "from pathlib import Path\n",
    "import pandas as pd\n",
    "\n",
    "# File paths\n",
    "raw_file = Path(\"data/raw/siab.csv\")\n",
    "cache_file = Path(\"data/siab_cached.csv.gz\")\n",
    "\n",
    "# Ensure cache directory exists\n",
    "cache_file.parent.mkdir(parents=True, exist_ok=True)\n",
    "\n",
    "# Load with simple caching\n",
    "if cache_file.exists():\n",
    "    print(f\"Loading SIAB data from cache: {cache_file}\")\n",
    "    siab = pd.read_csv(cache_file, compression='gzip')\n",
    "else:\n",
    "    print(f\"Cache not found. Reading raw SIAB data: {raw_file}\")\n",
    "    siab = pd.read_csv(raw_file)\n",
    "    siab.to_csv(cache_file, index=False, compression='gzip')\n",
    "    print(f\"Cached SIAB data to: {cache_file}\")\n",
    "\n",
    "# Now use `siab` DataFrame as needed\n",
    "print(siab.shape)"
   ]
  },
  {
   "cell_type": "code",
   "execution_count": 10,
   "id": "db0ca512-5f53-4dba-abdb-a2888bca41ba",
   "metadata": {
    "execution": {
     "iopub.execute_input": "2025-07-30T19:55:25.645374Z",
     "iopub.status.busy": "2025-07-30T19:55:25.644972Z",
     "iopub.status.idle": "2025-07-30T19:55:25.650038Z",
     "shell.execute_reply": "2025-07-30T19:55:25.649166Z"
    },
    "papermill": {
     "duration": 0.01793,
     "end_time": "2025-07-30T19:55:25.651464",
     "exception": false,
     "start_time": "2025-07-30T19:55:25.633534",
     "status": "completed"
    },
    "tags": []
   },
   "outputs": [],
   "source": [
    "#siab"
   ]
  },
  {
   "cell_type": "code",
   "execution_count": 11,
   "id": "a0edb063",
   "metadata": {
    "execution": {
     "iopub.execute_input": "2025-07-30T19:55:25.674282Z",
     "iopub.status.busy": "2025-07-30T19:55:25.673785Z",
     "iopub.status.idle": "2025-07-30T19:55:25.677500Z",
     "shell.execute_reply": "2025-07-30T19:55:25.676792Z"
    },
    "papermill": {
     "duration": 0.016003,
     "end_time": "2025-07-30T19:55:25.678862",
     "exception": false,
     "start_time": "2025-07-30T19:55:25.662859",
     "status": "completed"
    },
    "tags": []
   },
   "outputs": [],
   "source": [
    "#import pandas as pd\n",
    "#\n",
    "#X_train = pd.read_csv(\"./data/X_train.csv\")\n",
    "#y_train = pd.read_csv(\"./data/y_train.csv\")"
   ]
  },
  {
   "cell_type": "code",
   "execution_count": 12,
   "id": "63d08085",
   "metadata": {
    "execution": {
     "iopub.execute_input": "2025-07-30T19:55:25.715166Z",
     "iopub.status.busy": "2025-07-30T19:55:25.714754Z",
     "iopub.status.idle": "2025-07-30T19:55:25.719554Z",
     "shell.execute_reply": "2025-07-30T19:55:25.718676Z"
    },
    "papermill": {
     "duration": 0.027731,
     "end_time": "2025-07-30T19:55:25.721201",
     "exception": false,
     "start_time": "2025-07-30T19:55:25.693470",
     "status": "completed"
    },
    "tags": []
   },
   "outputs": [],
   "source": [
    "#X_test = pd.read_csv(\"./data/X_test.csv\")\n",
    "#y_true = pd.read_csv(\"./data/y_test.csv\")"
   ]
  },
  {
   "cell_type": "code",
   "execution_count": 13,
   "id": "98a8d0fa-1d3d-4ed8-bb2c-281470e24add",
   "metadata": {
    "execution": {
     "iopub.execute_input": "2025-07-30T19:55:25.760779Z",
     "iopub.status.busy": "2025-07-30T19:55:25.760185Z",
     "iopub.status.idle": "2025-07-30T19:55:25.765032Z",
     "shell.execute_reply": "2025-07-30T19:55:25.764016Z"
    },
    "papermill": {
     "duration": 0.026178,
     "end_time": "2025-07-30T19:55:25.766705",
     "exception": false,
     "start_time": "2025-07-30T19:55:25.740527",
     "status": "completed"
    },
    "tags": []
   },
   "outputs": [],
   "source": [
    "# Calibration data for conformal\n",
    "#X_calib = pd.read_csv(\"./data/X_calib.csv\")\n",
    "#y_calib = pd.read_csv(\"./data/y_calib.csv\")"
   ]
  },
  {
   "cell_type": "markdown",
   "id": "997051c5-15bd-4b69-9786-c3001a3ce484",
   "metadata": {
    "papermill": {
     "duration": 0.019104,
     "end_time": "2025-07-30T19:55:25.805574",
     "exception": false,
     "start_time": "2025-07-30T19:55:25.786470",
     "status": "completed"
    },
    "tags": []
   },
   "source": [
    "# Splitting Data and Setting Training Data Size"
   ]
  },
  {
   "cell_type": "code",
   "execution_count": 14,
   "id": "e993b61f-042d-41a6-8c81-f55681f86335",
   "metadata": {
    "execution": {
     "iopub.execute_input": "2025-07-30T19:55:25.845440Z",
     "iopub.status.busy": "2025-07-30T19:55:25.844788Z",
     "iopub.status.idle": "2025-07-30T19:55:25.857681Z",
     "shell.execute_reply": "2025-07-30T19:55:25.856653Z"
    },
    "papermill": {
     "duration": 0.03467,
     "end_time": "2025-07-30T19:55:25.859367",
     "exception": false,
     "start_time": "2025-07-30T19:55:25.824697",
     "status": "completed"
    },
    "tags": []
   },
   "outputs": [],
   "source": [
    "def sample_by_year_size(df,\n",
    "                        training_year: str,\n",
    "                        training_size: str,\n",
    "                        random_state: int = 42):\n",
    "    # --- parse training_year into a list of int years ---\n",
    "    if \"_\" in training_year:\n",
    "        start_str, end_str = training_year.split(\"_\", 1)\n",
    "        start = int(start_str)\n",
    "        end   = int(end_str) if len(end_str) == 4 else (int(end_str) + (start // 100)*100)\n",
    "        years = list(range(start, end + 1))\n",
    "    else:\n",
    "        years = [int(training_year)]\n",
    "\n",
    "    df = df[df[\"year\"].isin(years)].reset_index(drop=True)\n",
    "\n",
    "    # --- map training_size to total number of samples ---\n",
    "    total_map = {\"25k\": 25_000, \"5k\": 5_000, \"1k\": 1_000}\n",
    "    if training_size not in total_map:\n",
    "        return df  # e.g. \"all\"\n",
    "\n",
    "    total_samples = total_map[training_size]\n",
    "    n_years       = len(years)\n",
    "    base          = total_samples // n_years\n",
    "    remainder     = total_samples % n_years\n",
    "\n",
    "    # --- build a dict: year -> how many to sample ---\n",
    "    # give +1 to the first `remainder` years in ascending order\n",
    "    quotas = {\n",
    "        year: base + (1 if idx < remainder else 0)\n",
    "        for idx, year in enumerate(sorted(years))\n",
    "    }\n",
    "\n",
    "    # --- sample per‐year according to the quota dict ---\n",
    "    sampled = (\n",
    "        df\n",
    "        .groupby(\"year\", group_keys=False)\n",
    "        .apply(lambda grp: grp.sample(\n",
    "            n=min(len(grp), quotas[grp.name]),\n",
    "            random_state=random_state))\n",
    "        .reset_index(drop=True)\n",
    "    )\n",
    "\n",
    "    return sampled"
   ]
  },
  {
   "cell_type": "code",
   "execution_count": 15,
   "id": "c0ccd338-0e02-41f3-a09d-f56f9266e3fb",
   "metadata": {
    "execution": {
     "iopub.execute_input": "2025-07-30T19:55:25.900504Z",
     "iopub.status.busy": "2025-07-30T19:55:25.899565Z",
     "iopub.status.idle": "2025-07-30T19:55:25.904850Z",
     "shell.execute_reply": "2025-07-30T19:55:25.903854Z"
    },
    "papermill": {
     "duration": 0.026977,
     "end_time": "2025-07-30T19:55:25.906679",
     "exception": false,
     "start_time": "2025-07-30T19:55:25.879702",
     "status": "completed"
    },
    "tags": []
   },
   "outputs": [],
   "source": [
    "#universe[\"training_size\"]"
   ]
  },
  {
   "cell_type": "code",
   "execution_count": 16,
   "id": "ca707fd7-8047-4acd-bfa5-66248fbbf8e6",
   "metadata": {
    "execution": {
     "iopub.execute_input": "2025-07-30T19:55:25.947829Z",
     "iopub.status.busy": "2025-07-30T19:55:25.947405Z",
     "iopub.status.idle": "2025-07-30T19:55:25.952168Z",
     "shell.execute_reply": "2025-07-30T19:55:25.951135Z"
    },
    "papermill": {
     "duration": 0.026455,
     "end_time": "2025-07-30T19:55:25.954151",
     "exception": false,
     "start_time": "2025-07-30T19:55:25.927696",
     "status": "completed"
    },
    "tags": []
   },
   "outputs": [],
   "source": [
    "#universe[\"training_year\"]"
   ]
  },
  {
   "cell_type": "code",
   "execution_count": 17,
   "id": "aea9c6ef-6f46-42c8-85eb-5a62025c1508",
   "metadata": {
    "execution": {
     "iopub.execute_input": "2025-07-30T19:55:25.995742Z",
     "iopub.status.busy": "2025-07-30T19:55:25.995001Z",
     "iopub.status.idle": "2025-07-30T19:55:26.258281Z",
     "shell.execute_reply": "2025-07-30T19:55:26.257356Z"
    },
    "papermill": {
     "duration": 0.285129,
     "end_time": "2025-07-30T19:55:26.260303",
     "exception": false,
     "start_time": "2025-07-30T19:55:25.975174",
     "status": "completed"
    },
    "tags": []
   },
   "outputs": [],
   "source": [
    "siab_train = sample_by_year_size(siab,\n",
    "                               training_year=universe[\"training_year\"],\n",
    "                               training_size=universe[\"training_size\"])"
   ]
  },
  {
   "cell_type": "code",
   "execution_count": 18,
   "id": "8d3afb32-789d-442c-8d5d-9f5aa8dd2eed",
   "metadata": {
    "execution": {
     "iopub.execute_input": "2025-07-30T19:55:26.304483Z",
     "iopub.status.busy": "2025-07-30T19:55:26.303636Z",
     "iopub.status.idle": "2025-07-30T19:55:26.309494Z",
     "shell.execute_reply": "2025-07-30T19:55:26.308393Z"
    },
    "papermill": {
     "duration": 0.028317,
     "end_time": "2025-07-30T19:55:26.311259",
     "exception": false,
     "start_time": "2025-07-30T19:55:26.282942",
     "status": "completed"
    },
    "tags": []
   },
   "outputs": [],
   "source": [
    "#siab_train.shape"
   ]
  },
  {
   "cell_type": "code",
   "execution_count": 19,
   "id": "d582db68-1a4c-47fb-84fc-08518dc1975a",
   "metadata": {
    "execution": {
     "iopub.execute_input": "2025-07-30T19:55:26.354639Z",
     "iopub.status.busy": "2025-07-30T19:55:26.353820Z",
     "iopub.status.idle": "2025-07-30T19:55:26.360181Z",
     "shell.execute_reply": "2025-07-30T19:55:26.358910Z"
    },
    "papermill": {
     "duration": 0.029554,
     "end_time": "2025-07-30T19:55:26.362207",
     "exception": false,
     "start_time": "2025-07-30T19:55:26.332653",
     "status": "completed"
    },
    "tags": []
   },
   "outputs": [],
   "source": [
    "#display(siab_train.groupby(\"year\").size())"
   ]
  },
  {
   "cell_type": "code",
   "execution_count": 20,
   "id": "a561edb4-d032-42cb-8256-22eac1111c64",
   "metadata": {
    "execution": {
     "iopub.execute_input": "2025-07-30T19:55:26.409373Z",
     "iopub.status.busy": "2025-07-30T19:55:26.408699Z",
     "iopub.status.idle": "2025-07-30T19:55:26.632369Z",
     "shell.execute_reply": "2025-07-30T19:55:26.631382Z"
    },
    "papermill": {
     "duration": 0.249957,
     "end_time": "2025-07-30T19:55:26.634364",
     "exception": false,
     "start_time": "2025-07-30T19:55:26.384407",
     "status": "completed"
    },
    "tags": []
   },
   "outputs": [],
   "source": [
    "#siab_train = siab_s[siab_s.year < 2015]\n",
    "siab_calib = siab[siab.year == 2015]\n",
    "siab_test = siab[siab.year == 2016]"
   ]
  },
  {
   "cell_type": "code",
   "execution_count": 21,
   "id": "472de16f-c3db-4916-846b-1f0de9cf1746",
   "metadata": {
    "execution": {
     "iopub.execute_input": "2025-07-30T19:55:26.677893Z",
     "iopub.status.busy": "2025-07-30T19:55:26.677246Z",
     "iopub.status.idle": "2025-07-30T19:55:26.691690Z",
     "shell.execute_reply": "2025-07-30T19:55:26.690677Z"
    },
    "papermill": {
     "duration": 0.038556,
     "end_time": "2025-07-30T19:55:26.693630",
     "exception": false,
     "start_time": "2025-07-30T19:55:26.655074",
     "status": "completed"
    },
    "tags": []
   },
   "outputs": [],
   "source": [
    "X_train = siab_train.iloc[:,4:164]\n",
    "y_train = siab_train.iloc[:, [3]]"
   ]
  },
  {
   "cell_type": "code",
   "execution_count": 22,
   "id": "828c96af-f43a-4ed6-ba47-8ac73a47d56c",
   "metadata": {
    "execution": {
     "iopub.execute_input": "2025-07-30T19:55:26.736965Z",
     "iopub.status.busy": "2025-07-30T19:55:26.736153Z",
     "iopub.status.idle": "2025-07-30T19:55:26.786630Z",
     "shell.execute_reply": "2025-07-30T19:55:26.785409Z"
    },
    "papermill": {
     "duration": 0.073653,
     "end_time": "2025-07-30T19:55:26.788578",
     "exception": false,
     "start_time": "2025-07-30T19:55:26.714925",
     "status": "completed"
    },
    "tags": []
   },
   "outputs": [],
   "source": [
    "X_calib = siab_calib.iloc[:,4:164]\n",
    "y_calib = siab_calib.iloc[:, [3]]"
   ]
  },
  {
   "cell_type": "code",
   "execution_count": 23,
   "id": "c34be9c3-6bd6-476e-acd3-845840e303be",
   "metadata": {
    "execution": {
     "iopub.execute_input": "2025-07-30T19:55:26.832145Z",
     "iopub.status.busy": "2025-07-30T19:55:26.831514Z",
     "iopub.status.idle": "2025-07-30T19:55:26.885465Z",
     "shell.execute_reply": "2025-07-30T19:55:26.884347Z"
    },
    "papermill": {
     "duration": 0.077157,
     "end_time": "2025-07-30T19:55:26.887340",
     "exception": false,
     "start_time": "2025-07-30T19:55:26.810183",
     "status": "completed"
    },
    "tags": []
   },
   "outputs": [],
   "source": [
    "X_test = siab_test.iloc[:,4:164]\n",
    "y_true = siab_test.iloc[:, [3]]"
   ]
  },
  {
   "cell_type": "markdown",
   "id": "9901737e-04df-44f0-9100-f5ad144ed040",
   "metadata": {
    "papermill": {
     "duration": 0.020401,
     "end_time": "2025-07-30T19:55:26.929128",
     "exception": false,
     "start_time": "2025-07-30T19:55:26.908727",
     "status": "completed"
    },
    "tags": []
   },
   "source": [
    "# Splitting Data and Setting Training Data Size OLD VERSION"
   ]
  },
  {
   "cell_type": "code",
   "execution_count": 24,
   "id": "acbc8f7d-8fc8-4e86-8c59-5dcb0f58384b",
   "metadata": {
    "execution": {
     "iopub.execute_input": "2025-07-30T19:55:26.971537Z",
     "iopub.status.busy": "2025-07-30T19:55:26.970612Z",
     "iopub.status.idle": "2025-07-30T19:55:26.977169Z",
     "shell.execute_reply": "2025-07-30T19:55:26.976129Z"
    },
    "papermill": {
     "duration": 0.029304,
     "end_time": "2025-07-30T19:55:26.978738",
     "exception": false,
     "start_time": "2025-07-30T19:55:26.949434",
     "status": "completed"
    },
    "tags": []
   },
   "outputs": [],
   "source": [
    "#def sample_by_year(df, training_size, random_state=42):\n",
    "#    if training_size == \"2014\":\n",
    "#        return df[df[\"year\"] == 2014].reset_index(drop=True)\n",
    "#    \n",
    "#    size_map = {\n",
    "#        \"25k\": 5000,\n",
    "#        \"5k\": 1000,\n",
    "#        \"1k\": 200\n",
    "#    }\n",
    "#\n",
    "#    if training_size not in size_map:\n",
    "#        return df.reset_index(drop=True)  # use all data\n",
    "#\n",
    "#    n_per_year = size_map[training_size]\n",
    "#    grouped = df.groupby(\"year\")\n",
    "#    sampled = grouped.apply(lambda x: x.sample(n=min(n_per_year, len(x)), random_state=random_state))\n",
    "#    return sampled.reset_index(drop=True)"
   ]
  },
  {
   "cell_type": "code",
   "execution_count": 25,
   "id": "6d931f52-beaf-43ff-9e78-9d44a448d54e",
   "metadata": {
    "execution": {
     "iopub.execute_input": "2025-07-30T19:55:27.022878Z",
     "iopub.status.busy": "2025-07-30T19:55:27.022017Z",
     "iopub.status.idle": "2025-07-30T19:55:27.027348Z",
     "shell.execute_reply": "2025-07-30T19:55:27.026340Z"
    },
    "papermill": {
     "duration": 0.028642,
     "end_time": "2025-07-30T19:55:27.029153",
     "exception": false,
     "start_time": "2025-07-30T19:55:27.000511",
     "status": "completed"
    },
    "tags": []
   },
   "outputs": [],
   "source": [
    "#siab_s = sample_by_year(siab, universe[\"training_size\"])"
   ]
  },
  {
   "cell_type": "code",
   "execution_count": 26,
   "id": "5db0a40e-a4e2-4920-be85-b12ae061d70d",
   "metadata": {
    "execution": {
     "iopub.execute_input": "2025-07-30T19:55:27.072612Z",
     "iopub.status.busy": "2025-07-30T19:55:27.071910Z",
     "iopub.status.idle": "2025-07-30T19:55:27.076984Z",
     "shell.execute_reply": "2025-07-30T19:55:27.075931Z"
    },
    "papermill": {
     "duration": 0.028339,
     "end_time": "2025-07-30T19:55:27.078707",
     "exception": false,
     "start_time": "2025-07-30T19:55:27.050368",
     "status": "completed"
    },
    "tags": []
   },
   "outputs": [],
   "source": [
    "#display(siab_s.groupby(\"year\").size())"
   ]
  },
  {
   "cell_type": "code",
   "execution_count": 27,
   "id": "e6c733c5",
   "metadata": {
    "execution": {
     "iopub.execute_input": "2025-07-30T19:55:27.122538Z",
     "iopub.status.busy": "2025-07-30T19:55:27.121713Z",
     "iopub.status.idle": "2025-07-30T19:55:27.222734Z",
     "shell.execute_reply": "2025-07-30T19:55:27.221735Z"
    },
    "papermill": {
     "duration": 0.12382,
     "end_time": "2025-07-30T19:55:27.224631",
     "exception": false,
     "start_time": "2025-07-30T19:55:27.100811",
     "status": "completed"
    },
    "tags": []
   },
   "outputs": [],
   "source": [
    "# Auxiliary data needed downstream in the pipeline\n",
    "\n",
    "org_train = X_train.copy()\n",
    "org_test = X_test.copy()\n",
    "org_calib = X_calib.copy()"
   ]
  },
  {
   "cell_type": "code",
   "execution_count": 28,
   "id": "1466abac-c6da-4492-a62f-4240ae3783af",
   "metadata": {
    "execution": {
     "iopub.execute_input": "2025-07-30T19:55:27.268768Z",
     "iopub.status.busy": "2025-07-30T19:55:27.268025Z",
     "iopub.status.idle": "2025-07-30T19:55:27.274137Z",
     "shell.execute_reply": "2025-07-30T19:55:27.273110Z"
    },
    "papermill": {
     "duration": 0.029865,
     "end_time": "2025-07-30T19:55:27.275755",
     "exception": false,
     "start_time": "2025-07-30T19:55:27.245890",
     "status": "completed"
    },
    "tags": []
   },
   "outputs": [],
   "source": [
    "# put in other script?\n",
    "# Group sizes\n",
    "\n",
    "#def calculate_percentages(df, df_name):\n",
    "#    total_entries = len(df)\n",
    "#\n",
    "#    female_pct = (df['frau1'] == 1).mean() * 100\n",
    "#    non_german_pct = ((df['maxdeutsch1'] == 0) & (df['maxdeutsch.Missing.'] == 0)).mean() * 100\n",
    "#    non_german_male_pct = ((df['frau1'] == 0) & (df['maxdeutsch1'] == 0) & (df['maxdeutsch.Missing.'] == 0)).mean() * 100\n",
    "#    non_german_female_pct = ((df['frau1'] == 1) & (df['maxdeutsch1'] == 0) & (df['maxdeutsch.Missing.'] == 0)).mean() * 100\n",
    "#\n",
    "#    print(f\"--- {df_name} ---\")\n",
    "#    print(f\"Female: {female_pct:.2f}%\")\n",
    "#    print(f\"Non-German: {non_german_pct:.2f}%\")\n",
    "#    print(f\"Non-German Male: {non_german_male_pct:.2f}%\")\n",
    "#    print(f\"Non-German Female: {non_german_female_pct:.2f}%\\n\")\n",
    "#\n",
    "## Calculate for each DataFrame\n",
    "#calculate_percentages(siab_calib, \"siab_calib\")\n",
    "#calculate_percentages(siab_test, \"siab_test\")\n",
    "#calculate_percentages(siab_train, \"siab_train\")"
   ]
  },
  {
   "cell_type": "markdown",
   "id": "0a4a1b33",
   "metadata": {
    "papermill": {
     "duration": 0.022439,
     "end_time": "2025-07-30T19:55:27.320994",
     "exception": false,
     "start_time": "2025-07-30T19:55:27.298555",
     "status": "completed"
    },
    "tags": []
   },
   "source": [
    "# Preprocessing Data"
   ]
  },
  {
   "cell_type": "code",
   "execution_count": 29,
   "id": "ca879031",
   "metadata": {
    "execution": {
     "iopub.execute_input": "2025-07-30T19:55:27.363813Z",
     "iopub.status.busy": "2025-07-30T19:55:27.363159Z",
     "iopub.status.idle": "2025-07-30T19:55:27.369363Z",
     "shell.execute_reply": "2025-07-30T19:55:27.368416Z"
    },
    "papermill": {
     "duration": 0.029415,
     "end_time": "2025-07-30T19:55:27.371024",
     "exception": false,
     "start_time": "2025-07-30T19:55:27.341609",
     "status": "completed"
    },
    "tags": []
   },
   "outputs": [],
   "source": [
    "# EXCLUDE PROTECTED FEATURES\n",
    "# ----------------------\n",
    "# \"exclude_features\": \"none\", # \"nationality\", \"sex\", \"nationality-sex\"\n",
    "\n",
    "excluded_features = universe[\"exclude_features\"].split(\"-\") # split, e.g.: \"nationality-sex\" -> [\"nationality\", \"sex\"]\n",
    "excluded_features_dictionary = {\n",
    "    \"nationality\": [\"maxdeutsch1\", \"maxdeutsch.Missing.\"],\n",
    "    \"sex\": [\"frau1\"],\n",
    "    \"age\": [\"age\"],\n",
    "}\n"
   ]
  },
  {
   "cell_type": "code",
   "execution_count": 30,
   "id": "b745ac60",
   "metadata": {
    "execution": {
     "iopub.execute_input": "2025-07-30T19:55:27.414860Z",
     "iopub.status.busy": "2025-07-30T19:55:27.414397Z",
     "iopub.status.idle": "2025-07-30T19:55:27.420393Z",
     "shell.execute_reply": "2025-07-30T19:55:27.419395Z"
    },
    "papermill": {
     "duration": 0.029436,
     "end_time": "2025-07-30T19:55:27.422113",
     "exception": false,
     "start_time": "2025-07-30T19:55:27.392677",
     "status": "completed"
    },
    "tags": []
   },
   "outputs": [],
   "source": [
    "# Code nice names to column names\n",
    "\n",
    "excluded_features_columns = [\n",
    "    excluded_features_dictionary[f] for f in excluded_features if len(f) > 0 and f != \"none\"\n",
    "]"
   ]
  },
  {
   "cell_type": "code",
   "execution_count": 31,
   "id": "f84f73a2",
   "metadata": {
    "execution": {
     "iopub.execute_input": "2025-07-30T19:55:27.466764Z",
     "iopub.status.busy": "2025-07-30T19:55:27.466310Z",
     "iopub.status.idle": "2025-07-30T19:55:27.472459Z",
     "shell.execute_reply": "2025-07-30T19:55:27.471436Z"
    },
    "papermill": {
     "duration": 0.029396,
     "end_time": "2025-07-30T19:55:27.474197",
     "exception": false,
     "start_time": "2025-07-30T19:55:27.444801",
     "status": "completed"
    },
    "tags": []
   },
   "outputs": [],
   "source": [
    "from utils import flatten_once\n",
    "\n",
    "excluded_features_columns = flatten_once(excluded_features_columns)"
   ]
  },
  {
   "cell_type": "code",
   "execution_count": 32,
   "id": "884dea22",
   "metadata": {
    "execution": {
     "iopub.execute_input": "2025-07-30T19:55:27.518065Z",
     "iopub.status.busy": "2025-07-30T19:55:27.517442Z",
     "iopub.status.idle": "2025-07-30T19:55:27.556922Z",
     "shell.execute_reply": "2025-07-30T19:55:27.555774Z"
    },
    "papermill": {
     "duration": 0.062868,
     "end_time": "2025-07-30T19:55:27.558743",
     "exception": false,
     "start_time": "2025-07-30T19:55:27.495875",
     "status": "completed"
    },
    "tags": []
   },
   "outputs": [
    {
     "name": "stdout",
     "output_type": "stream",
     "text": [
      "Dropping features: ['maxdeutsch1', 'maxdeutsch.Missing.']\n"
     ]
    }
   ],
   "source": [
    "if len(excluded_features_columns) > 0:\n",
    "    print(f\"Dropping features: {excluded_features_columns}\")\n",
    "    X_train.drop(excluded_features_columns, axis=1, inplace=True)"
   ]
  },
  {
   "cell_type": "code",
   "execution_count": 33,
   "id": "95ab8b16",
   "metadata": {
    "execution": {
     "iopub.execute_input": "2025-07-30T19:55:27.603678Z",
     "iopub.status.busy": "2025-07-30T19:55:27.603028Z",
     "iopub.status.idle": "2025-07-30T19:55:27.661450Z",
     "shell.execute_reply": "2025-07-30T19:55:27.660190Z"
    },
    "papermill": {
     "duration": 0.082033,
     "end_time": "2025-07-30T19:55:27.663360",
     "exception": false,
     "start_time": "2025-07-30T19:55:27.581327",
     "status": "completed"
    },
    "tags": []
   },
   "outputs": [
    {
     "name": "stdout",
     "output_type": "stream",
     "text": [
      "Dropping features: ['maxdeutsch1', 'maxdeutsch.Missing.']\n"
     ]
    }
   ],
   "source": [
    "if len(excluded_features_columns) > 0:\n",
    "    print(f\"Dropping features: {excluded_features_columns}\")\n",
    "    X_test.drop(excluded_features_columns, axis=1, inplace=True)"
   ]
  },
  {
   "cell_type": "code",
   "execution_count": 34,
   "id": "1853aaf5-fb9f-46cb-a2b5-8ea4ae2237e4",
   "metadata": {
    "execution": {
     "iopub.execute_input": "2025-07-30T19:55:27.711570Z",
     "iopub.status.busy": "2025-07-30T19:55:27.710898Z",
     "iopub.status.idle": "2025-07-30T19:55:27.763730Z",
     "shell.execute_reply": "2025-07-30T19:55:27.762656Z"
    },
    "papermill": {
     "duration": 0.080713,
     "end_time": "2025-07-30T19:55:27.766041",
     "exception": false,
     "start_time": "2025-07-30T19:55:27.685328",
     "status": "completed"
    },
    "tags": []
   },
   "outputs": [
    {
     "name": "stdout",
     "output_type": "stream",
     "text": [
      "Dropping features: ['maxdeutsch1', 'maxdeutsch.Missing.']\n"
     ]
    }
   ],
   "source": [
    "if len(excluded_features_columns) > 0:\n",
    "    print(f\"Dropping features: {excluded_features_columns}\")\n",
    "    X_calib.drop(excluded_features_columns, axis=1, inplace=True)"
   ]
  },
  {
   "cell_type": "code",
   "execution_count": 35,
   "id": "6727d079-03e5-481e-9d38-292a90b7a0a8",
   "metadata": {
    "execution": {
     "iopub.execute_input": "2025-07-30T19:55:27.812237Z",
     "iopub.status.busy": "2025-07-30T19:55:27.811412Z",
     "iopub.status.idle": "2025-07-30T19:55:27.816391Z",
     "shell.execute_reply": "2025-07-30T19:55:27.815388Z"
    },
    "papermill": {
     "duration": 0.028845,
     "end_time": "2025-07-30T19:55:27.818258",
     "exception": false,
     "start_time": "2025-07-30T19:55:27.789413",
     "status": "completed"
    },
    "tags": []
   },
   "outputs": [],
   "source": [
    "# SPLIT & STRATIFY DATA\n",
    "# ----------------------"
   ]
  },
  {
   "cell_type": "code",
   "execution_count": 36,
   "id": "76c4dc6d",
   "metadata": {
    "execution": {
     "iopub.execute_input": "2025-07-30T19:55:27.865189Z",
     "iopub.status.busy": "2025-07-30T19:55:27.864646Z",
     "iopub.status.idle": "2025-07-30T19:55:27.869881Z",
     "shell.execute_reply": "2025-07-30T19:55:27.869041Z"
    },
    "papermill": {
     "duration": 0.028362,
     "end_time": "2025-07-30T19:55:27.871202",
     "exception": false,
     "start_time": "2025-07-30T19:55:27.842840",
     "status": "completed"
    },
    "tags": []
   },
   "outputs": [],
   "source": [
    "# EXCLUDE CERTAIN SUBGROUPS\n",
    "# ----------------------\n",
    "\n",
    "mode = universe.get(\"exclude_subgroups\", \"keep-all\") \n",
    "# Fetches the exclude_subgroups setting from the universe dict.\n",
    "# Defaults to \"keep-all\" if the key is missing."
   ]
  },
  {
   "cell_type": "code",
   "execution_count": 37,
   "id": "21994072",
   "metadata": {
    "execution": {
     "iopub.execute_input": "2025-07-30T19:55:27.897605Z",
     "iopub.status.busy": "2025-07-30T19:55:27.896837Z",
     "iopub.status.idle": "2025-07-30T19:55:27.902258Z",
     "shell.execute_reply": "2025-07-30T19:55:27.901499Z"
    },
    "papermill": {
     "duration": 0.019235,
     "end_time": "2025-07-30T19:55:27.903656",
     "exception": false,
     "start_time": "2025-07-30T19:55:27.884421",
     "status": "completed"
    },
    "tags": []
   },
   "outputs": [],
   "source": [
    "if mode == \"keep-all\":\n",
    "    keep_mask = pd.Series(True, index=org_train.index)\n",
    "\n",
    "# org_train contains the original feature columns from features_org (in Simson)\n",
    "# features_org contains unprocessed features, for me X_train at beginning ???\n",
    "# For keep-all, creates a boolean Series (keep_mask) of all True, so no rows are removed.\n",
    "\n",
    "elif mode == \"drop-non-german\":\n",
    "    keep_mask = org_train[\"maxdeutsch1\"] == 1 # ??? what about missing values?\n",
    "\n",
    "else:\n",
    "    raise ValueError(f\"Unsupported mode for exclude_subgroups: {mode}\")\n"
   ]
  },
  {
   "cell_type": "code",
   "execution_count": 38,
   "id": "71651440",
   "metadata": {
    "execution": {
     "iopub.execute_input": "2025-07-30T19:55:27.928002Z",
     "iopub.status.busy": "2025-07-30T19:55:27.927494Z",
     "iopub.status.idle": "2025-07-30T19:55:27.932933Z",
     "shell.execute_reply": "2025-07-30T19:55:27.932166Z"
    },
    "papermill": {
     "duration": 0.018676,
     "end_time": "2025-07-30T19:55:27.934299",
     "exception": false,
     "start_time": "2025-07-30T19:55:27.915623",
     "status": "completed"
    },
    "tags": []
   },
   "outputs": [],
   "source": [
    "n_drop = (~keep_mask).sum() # Calculates how many rows are set to be dropped\n",
    "if n_drop > 0:\n",
    "    pct = n_drop / len(keep_mask) * 100\n",
    "    print(f\"Dropping {n_drop} rows ({pct:.2f}%) where mode='{mode}'\")"
   ]
  },
  {
   "cell_type": "code",
   "execution_count": 39,
   "id": "5fb8eee5",
   "metadata": {
    "execution": {
     "iopub.execute_input": "2025-07-30T19:55:27.959462Z",
     "iopub.status.busy": "2025-07-30T19:55:27.958966Z",
     "iopub.status.idle": "2025-07-30T19:55:27.971723Z",
     "shell.execute_reply": "2025-07-30T19:55:27.970925Z"
    },
    "papermill": {
     "duration": 0.026349,
     "end_time": "2025-07-30T19:55:27.973379",
     "exception": false,
     "start_time": "2025-07-30T19:55:27.947030",
     "status": "completed"
    },
    "tags": []
   },
   "outputs": [],
   "source": [
    "X_train = X_train[keep_mask]"
   ]
  },
  {
   "cell_type": "code",
   "execution_count": 40,
   "id": "b202bb3a",
   "metadata": {
    "execution": {
     "iopub.execute_input": "2025-07-30T19:55:28.004718Z",
     "iopub.status.busy": "2025-07-30T19:55:28.003853Z",
     "iopub.status.idle": "2025-07-30T19:55:28.009416Z",
     "shell.execute_reply": "2025-07-30T19:55:28.008682Z"
    },
    "papermill": {
     "duration": 0.022345,
     "end_time": "2025-07-30T19:55:28.010793",
     "exception": false,
     "start_time": "2025-07-30T19:55:27.988448",
     "status": "completed"
    },
    "tags": []
   },
   "outputs": [],
   "source": [
    "y_train = y_train[keep_mask]"
   ]
  },
  {
   "cell_type": "markdown",
   "id": "493e2ac3",
   "metadata": {
    "papermill": {
     "duration": 0.011524,
     "end_time": "2025-07-30T19:55:28.034834",
     "exception": false,
     "start_time": "2025-07-30T19:55:28.023310",
     "status": "completed"
    },
    "tags": []
   },
   "source": [
    "# Model Training"
   ]
  },
  {
   "cell_type": "code",
   "execution_count": 41,
   "id": "679e1268",
   "metadata": {
    "execution": {
     "iopub.execute_input": "2025-07-30T19:55:28.065019Z",
     "iopub.status.busy": "2025-07-30T19:55:28.064372Z",
     "iopub.status.idle": "2025-07-30T19:55:28.137679Z",
     "shell.execute_reply": "2025-07-30T19:55:28.136933Z"
    },
    "papermill": {
     "duration": 0.092734,
     "end_time": "2025-07-30T19:55:28.139132",
     "exception": false,
     "start_time": "2025-07-30T19:55:28.046398",
     "status": "completed"
    },
    "tags": []
   },
   "outputs": [],
   "source": [
    "from sklearn.linear_model import LogisticRegression\n",
    "from sklearn.ensemble import GradientBoostingClassifier, RandomForestClassifier\n",
    "\n",
    "if (universe[\"model\"] == \"logreg\"):\n",
    "    model = LogisticRegression() #penalty=\"none\") #, solver=\"newton-cg\", max_iter=1) # include random_state=19 ?\n",
    "elif (universe[\"model\"] == \"penalized_logreg\"):\n",
    "    model = LogisticRegression(penalty=\"l2\", C=1.0) #, solver=\"newton-cg\", max_iter=1)\n",
    "elif (universe[\"model\"] == \"rf\"):\n",
    "    model = RandomForestClassifier(n_estimators=100, n_jobs=-1)\n",
    "elif (universe[\"model\"] == \"gbm\"):\n",
    "    model = GradientBoostingClassifier()\n",
    "elif (universe[\"model\"] == \"elasticnet\"):\n",
    "    model = LogisticRegression(penalty = 'elasticnet', solver = 'saga', l1_ratio = 0.5, max_iter=5000) # which solver to use?\n",
    "else:\n",
    "    raise \"Unsupported universe.model\""
   ]
  },
  {
   "cell_type": "code",
   "execution_count": 42,
   "id": "0cc8f744",
   "metadata": {
    "execution": {
     "iopub.execute_input": "2025-07-30T19:55:28.164949Z",
     "iopub.status.busy": "2025-07-30T19:55:28.164134Z",
     "iopub.status.idle": "2025-07-30T19:55:28.169479Z",
     "shell.execute_reply": "2025-07-30T19:55:28.168735Z"
    },
    "papermill": {
     "duration": 0.01907,
     "end_time": "2025-07-30T19:55:28.170823",
     "exception": false,
     "start_time": "2025-07-30T19:55:28.151753",
     "status": "completed"
    },
    "tags": []
   },
   "outputs": [],
   "source": [
    "import numpy as np\n",
    "from sklearn.pipeline import Pipeline\n",
    "from sklearn.preprocessing import StandardScaler\n",
    "\n",
    "model = Pipeline([\n",
    "    #(\"continuous_processor\", continuous_processor),\n",
    "    #(\"categorical_preprocessor\", categorical_preprocessor),\n",
    "    (\"scale\", StandardScaler() if universe[\"scale\"] == \"scale\" else None), \n",
    "    (\"model\", model),\n",
    "])"
   ]
  },
  {
   "cell_type": "code",
   "execution_count": 43,
   "id": "9442c04d",
   "metadata": {
    "execution": {
     "iopub.execute_input": "2025-07-30T19:55:28.197534Z",
     "iopub.status.busy": "2025-07-30T19:55:28.196835Z",
     "iopub.status.idle": "2025-07-30T19:55:55.971462Z",
     "shell.execute_reply": "2025-07-30T19:55:55.970239Z"
    },
    "papermill": {
     "duration": 27.789517,
     "end_time": "2025-07-30T19:55:55.973422",
     "exception": false,
     "start_time": "2025-07-30T19:55:28.183905",
     "status": "completed"
    },
    "tags": []
   },
   "outputs": [
    {
     "data": {
      "text/html": [
       "<style>#sk-container-id-1 {color: black;background-color: white;}#sk-container-id-1 pre{padding: 0;}#sk-container-id-1 div.sk-toggleable {background-color: white;}#sk-container-id-1 label.sk-toggleable__label {cursor: pointer;display: block;width: 100%;margin-bottom: 0;padding: 0.3em;box-sizing: border-box;text-align: center;}#sk-container-id-1 label.sk-toggleable__label-arrow:before {content: \"▸\";float: left;margin-right: 0.25em;color: #696969;}#sk-container-id-1 label.sk-toggleable__label-arrow:hover:before {color: black;}#sk-container-id-1 div.sk-estimator:hover label.sk-toggleable__label-arrow:before {color: black;}#sk-container-id-1 div.sk-toggleable__content {max-height: 0;max-width: 0;overflow: hidden;text-align: left;background-color: #f0f8ff;}#sk-container-id-1 div.sk-toggleable__content pre {margin: 0.2em;color: black;border-radius: 0.25em;background-color: #f0f8ff;}#sk-container-id-1 input.sk-toggleable__control:checked~div.sk-toggleable__content {max-height: 200px;max-width: 100%;overflow: auto;}#sk-container-id-1 input.sk-toggleable__control:checked~label.sk-toggleable__label-arrow:before {content: \"▾\";}#sk-container-id-1 div.sk-estimator input.sk-toggleable__control:checked~label.sk-toggleable__label {background-color: #d4ebff;}#sk-container-id-1 div.sk-label input.sk-toggleable__control:checked~label.sk-toggleable__label {background-color: #d4ebff;}#sk-container-id-1 input.sk-hidden--visually {border: 0;clip: rect(1px 1px 1px 1px);clip: rect(1px, 1px, 1px, 1px);height: 1px;margin: -1px;overflow: hidden;padding: 0;position: absolute;width: 1px;}#sk-container-id-1 div.sk-estimator {font-family: monospace;background-color: #f0f8ff;border: 1px dotted black;border-radius: 0.25em;box-sizing: border-box;margin-bottom: 0.5em;}#sk-container-id-1 div.sk-estimator:hover {background-color: #d4ebff;}#sk-container-id-1 div.sk-parallel-item::after {content: \"\";width: 100%;border-bottom: 1px solid gray;flex-grow: 1;}#sk-container-id-1 div.sk-label:hover label.sk-toggleable__label {background-color: #d4ebff;}#sk-container-id-1 div.sk-serial::before {content: \"\";position: absolute;border-left: 1px solid gray;box-sizing: border-box;top: 0;bottom: 0;left: 50%;z-index: 0;}#sk-container-id-1 div.sk-serial {display: flex;flex-direction: column;align-items: center;background-color: white;padding-right: 0.2em;padding-left: 0.2em;position: relative;}#sk-container-id-1 div.sk-item {position: relative;z-index: 1;}#sk-container-id-1 div.sk-parallel {display: flex;align-items: stretch;justify-content: center;background-color: white;position: relative;}#sk-container-id-1 div.sk-item::before, #sk-container-id-1 div.sk-parallel-item::before {content: \"\";position: absolute;border-left: 1px solid gray;box-sizing: border-box;top: 0;bottom: 0;left: 50%;z-index: -1;}#sk-container-id-1 div.sk-parallel-item {display: flex;flex-direction: column;z-index: 1;position: relative;background-color: white;}#sk-container-id-1 div.sk-parallel-item:first-child::after {align-self: flex-end;width: 50%;}#sk-container-id-1 div.sk-parallel-item:last-child::after {align-self: flex-start;width: 50%;}#sk-container-id-1 div.sk-parallel-item:only-child::after {width: 0;}#sk-container-id-1 div.sk-dashed-wrapped {border: 1px dashed gray;margin: 0 0.4em 0.5em 0.4em;box-sizing: border-box;padding-bottom: 0.4em;background-color: white;}#sk-container-id-1 div.sk-label label {font-family: monospace;font-weight: bold;display: inline-block;line-height: 1.2em;}#sk-container-id-1 div.sk-label-container {text-align: center;}#sk-container-id-1 div.sk-container {/* jupyter's `normalize.less` sets `[hidden] { display: none; }` but bootstrap.min.css set `[hidden] { display: none !important; }` so we also need the `!important` here to be able to override the default hidden behavior on the sphinx rendered scikit-learn.org. See: https://github.com/scikit-learn/scikit-learn/issues/21755 */display: inline-block !important;position: relative;}#sk-container-id-1 div.sk-text-repr-fallback {display: none;}</style><div id=\"sk-container-id-1\" class=\"sk-top-container\"><div class=\"sk-text-repr-fallback\"><pre>Pipeline(steps=[(&#x27;scale&#x27;, StandardScaler()),\n",
       "                (&#x27;model&#x27;,\n",
       "                 LogisticRegression(l1_ratio=0.5, max_iter=5000,\n",
       "                                    penalty=&#x27;elasticnet&#x27;, solver=&#x27;saga&#x27;))])</pre><b>In a Jupyter environment, please rerun this cell to show the HTML representation or trust the notebook. <br />On GitHub, the HTML representation is unable to render, please try loading this page with nbviewer.org.</b></div><div class=\"sk-container\" hidden><div class=\"sk-item sk-dashed-wrapped\"><div class=\"sk-label-container\"><div class=\"sk-label sk-toggleable\"><input class=\"sk-toggleable__control sk-hidden--visually\" id=\"sk-estimator-id-1\" type=\"checkbox\" ><label for=\"sk-estimator-id-1\" class=\"sk-toggleable__label sk-toggleable__label-arrow\">Pipeline</label><div class=\"sk-toggleable__content\"><pre>Pipeline(steps=[(&#x27;scale&#x27;, StandardScaler()),\n",
       "                (&#x27;model&#x27;,\n",
       "                 LogisticRegression(l1_ratio=0.5, max_iter=5000,\n",
       "                                    penalty=&#x27;elasticnet&#x27;, solver=&#x27;saga&#x27;))])</pre></div></div></div><div class=\"sk-serial\"><div class=\"sk-item\"><div class=\"sk-estimator sk-toggleable\"><input class=\"sk-toggleable__control sk-hidden--visually\" id=\"sk-estimator-id-2\" type=\"checkbox\" ><label for=\"sk-estimator-id-2\" class=\"sk-toggleable__label sk-toggleable__label-arrow\">StandardScaler</label><div class=\"sk-toggleable__content\"><pre>StandardScaler()</pre></div></div></div><div class=\"sk-item\"><div class=\"sk-estimator sk-toggleable\"><input class=\"sk-toggleable__control sk-hidden--visually\" id=\"sk-estimator-id-3\" type=\"checkbox\" ><label for=\"sk-estimator-id-3\" class=\"sk-toggleable__label sk-toggleable__label-arrow\">LogisticRegression</label><div class=\"sk-toggleable__content\"><pre>LogisticRegression(l1_ratio=0.5, max_iter=5000, penalty=&#x27;elasticnet&#x27;,\n",
       "                   solver=&#x27;saga&#x27;)</pre></div></div></div></div></div></div></div>"
      ],
      "text/plain": [
       "Pipeline(steps=[('scale', StandardScaler()),\n",
       "                ('model',\n",
       "                 LogisticRegression(l1_ratio=0.5, max_iter=5000,\n",
       "                                    penalty='elasticnet', solver='saga'))])"
      ]
     },
     "execution_count": 43,
     "metadata": {},
     "output_type": "execute_result"
    }
   ],
   "source": [
    "model.fit(X_train, y_train.values.ravel())"
   ]
  },
  {
   "cell_type": "code",
   "execution_count": 44,
   "id": "af59f8c0",
   "metadata": {
    "execution": {
     "iopub.execute_input": "2025-07-30T19:55:56.028737Z",
     "iopub.status.busy": "2025-07-30T19:55:56.027738Z",
     "iopub.status.idle": "2025-07-30T19:55:56.034477Z",
     "shell.execute_reply": "2025-07-30T19:55:56.033315Z"
    },
    "papermill": {
     "duration": 0.036268,
     "end_time": "2025-07-30T19:55:56.036562",
     "exception": false,
     "start_time": "2025-07-30T19:55:56.000294",
     "status": "completed"
    },
    "tags": []
   },
   "outputs": [],
   "source": [
    "from fairness_multiverse.universe import predict_w_threshold"
   ]
  },
  {
   "cell_type": "code",
   "execution_count": 45,
   "id": "a7cf2e16",
   "metadata": {
    "execution": {
     "iopub.execute_input": "2025-07-30T19:55:56.081648Z",
     "iopub.status.busy": "2025-07-30T19:55:56.081137Z",
     "iopub.status.idle": "2025-07-30T19:55:56.308653Z",
     "shell.execute_reply": "2025-07-30T19:55:56.307331Z"
    },
    "papermill": {
     "duration": 0.247549,
     "end_time": "2025-07-30T19:55:56.310788",
     "exception": false,
     "start_time": "2025-07-30T19:55:56.063239",
     "status": "completed"
    },
    "tags": []
   },
   "outputs": [
    {
     "data": {
      "text/plain": [
       "0.8653661799130532"
      ]
     },
     "execution_count": 45,
     "metadata": {},
     "output_type": "execute_result"
    }
   ],
   "source": [
    "probs_test = model.predict_proba(X_test)\n",
    "\n",
    "'''\n",
    "Below code returns a boolean array (or binary 0/1 array depending on how it’s used) where each element \n",
    "is True if the probability of class 1 is greater than or equal to the threshold, and False otherwise.\n",
    "'''\n",
    "y_pred_default = predict_w_threshold(probs_test, 0.5)\n",
    "\n",
    "from sklearn.metrics import accuracy_score\n",
    "\n",
    "# Naive prediction\n",
    "accuracy_score(y_true = y_true, y_pred = y_pred_default)"
   ]
  },
  {
   "cell_type": "code",
   "execution_count": 46,
   "id": "081964c3",
   "metadata": {
    "execution": {
     "iopub.execute_input": "2025-07-30T19:55:56.379600Z",
     "iopub.status.busy": "2025-07-30T19:55:56.379039Z",
     "iopub.status.idle": "2025-07-30T19:55:56.597624Z",
     "shell.execute_reply": "2025-07-30T19:55:56.596934Z"
    },
    "papermill": {
     "duration": 0.255104,
     "end_time": "2025-07-30T19:55:56.598859",
     "exception": false,
     "start_time": "2025-07-30T19:55:56.343755",
     "status": "completed"
    },
    "tags": []
   },
   "outputs": [
    {
     "data": {
      "text/plain": [
       "array([0, 0, 0, ..., 0, 0, 0])"
      ]
     },
     "execution_count": 46,
     "metadata": {},
     "output_type": "execute_result"
    }
   ],
   "source": [
    "model.predict(X_test)"
   ]
  },
  {
   "cell_type": "markdown",
   "id": "56c9705b",
   "metadata": {
    "papermill": {
     "duration": 0.014579,
     "end_time": "2025-07-30T19:55:56.626115",
     "exception": false,
     "start_time": "2025-07-30T19:55:56.611536",
     "status": "completed"
    },
    "tags": []
   },
   "source": [
    "# Conformal Prediction"
   ]
  },
  {
   "cell_type": "code",
   "execution_count": 47,
   "id": "160ec6ff",
   "metadata": {
    "execution": {
     "iopub.execute_input": "2025-07-30T19:55:56.680652Z",
     "iopub.status.busy": "2025-07-30T19:55:56.680147Z",
     "iopub.status.idle": "2025-07-30T19:55:56.684601Z",
     "shell.execute_reply": "2025-07-30T19:55:56.683683Z"
    },
    "papermill": {
     "duration": 0.024977,
     "end_time": "2025-07-30T19:55:56.686041",
     "exception": false,
     "start_time": "2025-07-30T19:55:56.661064",
     "status": "completed"
    },
    "tags": []
   },
   "outputs": [],
   "source": [
    "# Miscoverage level for conformal prediction (10% allowed error rate => 90% target coverage)\n",
    "alpha = 0.1"
   ]
  },
  {
   "cell_type": "code",
   "execution_count": 48,
   "id": "eadf4555-3dd3-440e-8e35-f82a4ad9f855",
   "metadata": {
    "execution": {
     "iopub.execute_input": "2025-07-30T19:55:56.712986Z",
     "iopub.status.busy": "2025-07-30T19:55:56.712636Z",
     "iopub.status.idle": "2025-07-30T19:55:56.930818Z",
     "shell.execute_reply": "2025-07-30T19:55:56.929727Z"
    },
    "papermill": {
     "duration": 0.233418,
     "end_time": "2025-07-30T19:55:56.932764",
     "exception": false,
     "start_time": "2025-07-30T19:55:56.699346",
     "status": "completed"
    },
    "tags": []
   },
   "outputs": [],
   "source": [
    "probs_calib = model.predict_proba(X_calib)"
   ]
  },
  {
   "cell_type": "code",
   "execution_count": 49,
   "id": "2ed93547-6d5d-4983-9b36-1ecb300da49a",
   "metadata": {
    "execution": {
     "iopub.execute_input": "2025-07-30T19:55:57.053511Z",
     "iopub.status.busy": "2025-07-30T19:55:57.052903Z",
     "iopub.status.idle": "2025-07-30T19:55:57.060112Z",
     "shell.execute_reply": "2025-07-30T19:55:57.058804Z"
    },
    "papermill": {
     "duration": 0.102143,
     "end_time": "2025-07-30T19:55:57.062375",
     "exception": false,
     "start_time": "2025-07-30T19:55:56.960232",
     "status": "completed"
    },
    "tags": []
   },
   "outputs": [],
   "source": [
    "y_calib = y_calib.values.ravel().astype(int)"
   ]
  },
  {
   "cell_type": "code",
   "execution_count": 50,
   "id": "65d1320d-f588-4b38-9072-62af1ae97f7d",
   "metadata": {
    "execution": {
     "iopub.execute_input": "2025-07-30T19:55:57.119217Z",
     "iopub.status.busy": "2025-07-30T19:55:57.118333Z",
     "iopub.status.idle": "2025-07-30T19:55:57.126312Z",
     "shell.execute_reply": "2025-07-30T19:55:57.125323Z"
    },
    "papermill": {
     "duration": 0.037077,
     "end_time": "2025-07-30T19:55:57.128068",
     "exception": false,
     "start_time": "2025-07-30T19:55:57.090991",
     "status": "completed"
    },
    "tags": []
   },
   "outputs": [],
   "source": [
    "from fairness_multiverse.conformal import compute_nc_scores\n",
    "\n",
    "# Compute nonconformity scores on calibration set (1 - probability of true class)\n",
    "nc_scores = compute_nc_scores(probs_calib, y_calib)"
   ]
  },
  {
   "cell_type": "code",
   "execution_count": 51,
   "id": "df3b8ca3-53b7-43d5-9667-7c85da7aeda2",
   "metadata": {
    "execution": {
     "iopub.execute_input": "2025-07-30T19:55:57.180658Z",
     "iopub.status.busy": "2025-07-30T19:55:57.180181Z",
     "iopub.status.idle": "2025-07-30T19:55:57.187304Z",
     "shell.execute_reply": "2025-07-30T19:55:57.186218Z"
    },
    "papermill": {
     "duration": 0.035312,
     "end_time": "2025-07-30T19:55:57.189044",
     "exception": false,
     "start_time": "2025-07-30T19:55:57.153732",
     "status": "completed"
    },
    "tags": []
   },
   "outputs": [],
   "source": [
    "from fairness_multiverse.conformal import find_threshold\n",
    "\n",
    "# Find conformal threshold q_hat for the given alpha (split conformal method)\n",
    "q_hat = find_threshold(nc_scores, alpha)"
   ]
  },
  {
   "cell_type": "code",
   "execution_count": 52,
   "id": "4d29e6c1-0ef6-4aa4-b8fe-4fe79b0d033a",
   "metadata": {
    "execution": {
     "iopub.execute_input": "2025-07-30T19:55:57.243233Z",
     "iopub.status.busy": "2025-07-30T19:55:57.242707Z",
     "iopub.status.idle": "2025-07-30T19:55:57.250033Z",
     "shell.execute_reply": "2025-07-30T19:55:57.249175Z"
    },
    "papermill": {
     "duration": 0.036106,
     "end_time": "2025-07-30T19:55:57.251367",
     "exception": false,
     "start_time": "2025-07-30T19:55:57.215261",
     "status": "completed"
    },
    "tags": []
   },
   "outputs": [
    {
     "data": {
      "text/plain": [
       "0.6755839079676464"
      ]
     },
     "execution_count": 52,
     "metadata": {},
     "output_type": "execute_result"
    }
   ],
   "source": [
    "q_hat"
   ]
  },
  {
   "cell_type": "code",
   "execution_count": 53,
   "id": "92460794-cdac-4be2-ba28-f28c0515a6fb",
   "metadata": {
    "execution": {
     "iopub.execute_input": "2025-07-30T19:55:57.279020Z",
     "iopub.status.busy": "2025-07-30T19:55:57.278466Z",
     "iopub.status.idle": "2025-07-30T19:55:58.177575Z",
     "shell.execute_reply": "2025-07-30T19:55:58.176525Z"
    },
    "papermill": {
     "duration": 0.914157,
     "end_time": "2025-07-30T19:55:58.179143",
     "exception": false,
     "start_time": "2025-07-30T19:55:57.264986",
     "status": "completed"
    },
    "tags": []
   },
   "outputs": [],
   "source": [
    "from fairness_multiverse.conformal import predict_conformal_sets\n",
    "\n",
    "# Generate prediction sets for each test example\n",
    "pred_sets = predict_conformal_sets(model, X_test, q_hat)"
   ]
  },
  {
   "cell_type": "code",
   "execution_count": 54,
   "id": "d90c9a65-e6db-4f5d-80cd-e68fb7e46829",
   "metadata": {
    "execution": {
     "iopub.execute_input": "2025-07-30T19:55:58.233814Z",
     "iopub.status.busy": "2025-07-30T19:55:58.233104Z",
     "iopub.status.idle": "2025-07-30T19:55:58.240272Z",
     "shell.execute_reply": "2025-07-30T19:55:58.239047Z"
    },
    "papermill": {
     "duration": 0.036043,
     "end_time": "2025-07-30T19:55:58.241781",
     "exception": false,
     "start_time": "2025-07-30T19:55:58.205738",
     "status": "completed"
    },
    "tags": []
   },
   "outputs": [],
   "source": [
    "y_true = y_true.squeeze()"
   ]
  },
  {
   "cell_type": "code",
   "execution_count": 55,
   "id": "3a58a54a-1e68-46b9-927a-df01f18aebc8",
   "metadata": {
    "execution": {
     "iopub.execute_input": "2025-07-30T19:55:58.310169Z",
     "iopub.status.busy": "2025-07-30T19:55:58.309687Z",
     "iopub.status.idle": "2025-07-30T19:55:59.264999Z",
     "shell.execute_reply": "2025-07-30T19:55:59.263912Z"
    },
    "papermill": {
     "duration": 0.994816,
     "end_time": "2025-07-30T19:55:59.266980",
     "exception": false,
     "start_time": "2025-07-30T19:55:58.272164",
     "status": "completed"
    },
    "tags": []
   },
   "outputs": [],
   "source": [
    "from fairness_multiverse.conformal import evaluate_sets\n",
    "\n",
    "# Evaluate coverage and average set size on test data\n",
    "metrics = evaluate_sets(pred_sets, y_true)"
   ]
  },
  {
   "cell_type": "markdown",
   "id": "2b569c12-9aaa-4c88-98c9-bbcd0cf3ebb8",
   "metadata": {
    "papermill": {
     "duration": 0.023065,
     "end_time": "2025-07-30T19:55:59.313726",
     "exception": false,
     "start_time": "2025-07-30T19:55:59.290661",
     "status": "completed"
    },
    "tags": []
   },
   "source": [
    "# CP Metrics"
   ]
  },
  {
   "cell_type": "code",
   "execution_count": 56,
   "id": "5ce0a5cb-201f-45a0-ade5-94c7f0bd6095",
   "metadata": {
    "execution": {
     "iopub.execute_input": "2025-07-30T19:55:59.361369Z",
     "iopub.status.busy": "2025-07-30T19:55:59.360860Z",
     "iopub.status.idle": "2025-07-30T19:55:59.368218Z",
     "shell.execute_reply": "2025-07-30T19:55:59.367257Z"
    },
    "papermill": {
     "duration": 0.033319,
     "end_time": "2025-07-30T19:55:59.369917",
     "exception": false,
     "start_time": "2025-07-30T19:55:59.336598",
     "status": "completed"
    },
    "tags": []
   },
   "outputs": [
    {
     "data": {
      "text/plain": [
       "{'coverage': 0.9123397614535727, 'avg_size': 1.1251031100211795}"
      ]
     },
     "execution_count": 56,
     "metadata": {},
     "output_type": "execute_result"
    }
   ],
   "source": [
    "metrics"
   ]
  },
  {
   "cell_type": "code",
   "execution_count": 57,
   "id": "9b9a838d-31c9-430b-ae14-12baee460d17",
   "metadata": {
    "execution": {
     "iopub.execute_input": "2025-07-30T19:55:59.418263Z",
     "iopub.status.busy": "2025-07-30T19:55:59.417393Z",
     "iopub.status.idle": "2025-07-30T19:55:59.424128Z",
     "shell.execute_reply": "2025-07-30T19:55:59.423049Z"
    },
    "papermill": {
     "duration": 0.032514,
     "end_time": "2025-07-30T19:55:59.425753",
     "exception": false,
     "start_time": "2025-07-30T19:55:59.393239",
     "status": "completed"
    },
    "tags": []
   },
   "outputs": [],
   "source": [
    "example_universe = universe.copy()\n",
    "universe_training_year = example_universe.get(\"training_year\")\n",
    "universe_training_size = example_universe.get(\"training_size\")\n",
    "universe_scale = example_universe.get(\"scale\")\n",
    "universe_model = example_universe.get(\"model\")\n",
    "universe_exclude_features = example_universe.get(\"exclude_features\")\n",
    "universe_exclude_subgroups = example_universe.get(\"exclude_subgroups\")"
   ]
  },
  {
   "cell_type": "code",
   "execution_count": 58,
   "id": "f4b6a8ac-9dc0-4245-8a91-5b3b5999c4f9",
   "metadata": {
    "execution": {
     "iopub.execute_input": "2025-07-30T19:55:59.477984Z",
     "iopub.status.busy": "2025-07-30T19:55:59.477282Z",
     "iopub.status.idle": "2025-07-30T19:55:59.484180Z",
     "shell.execute_reply": "2025-07-30T19:55:59.483144Z"
    },
    "papermill": {
     "duration": 0.034018,
     "end_time": "2025-07-30T19:55:59.485804",
     "exception": false,
     "start_time": "2025-07-30T19:55:59.451786",
     "status": "completed"
    },
    "tags": []
   },
   "outputs": [],
   "source": [
    "cp_metrics_dict = {\n",
    "    \"universe_id\": [universe_id],\n",
    "    \"universe_training_year\": [universe_training_year],\n",
    "    \"universe_training_size\": [universe_training_size],\n",
    "    \"universe_scale\": [universe_scale],\n",
    "    \"universe_model\": [universe_model],\n",
    "    \"universe_exclude_features\": [universe_exclude_features],\n",
    "    \"universe_exclude_subgroups\": [universe_exclude_subgroups],\n",
    "    \"q_hat\": [q_hat],\n",
    "    \"coverage\": [metrics[\"coverage\"]],\n",
    "    \"avg_size\": [metrics[\"avg_size\"]],\n",
    "}"
   ]
  },
  {
   "cell_type": "code",
   "execution_count": 59,
   "id": "908acbb1-0371-4915-85ca-3fa520d2efe2",
   "metadata": {
    "execution": {
     "iopub.execute_input": "2025-07-30T19:55:59.534532Z",
     "iopub.status.busy": "2025-07-30T19:55:59.533665Z",
     "iopub.status.idle": "2025-07-30T19:55:59.541475Z",
     "shell.execute_reply": "2025-07-30T19:55:59.540521Z"
    },
    "papermill": {
     "duration": 0.033505,
     "end_time": "2025-07-30T19:55:59.542937",
     "exception": false,
     "start_time": "2025-07-30T19:55:59.509432",
     "status": "completed"
    },
    "tags": []
   },
   "outputs": [
    {
     "data": {
      "text/plain": [
       "{'universe_id': ['559e3560cba9c70345d30626a247d3fe'],\n",
       " 'universe_training_year': ['2014'],\n",
       " 'universe_training_size': ['25k'],\n",
       " 'universe_scale': ['scale'],\n",
       " 'universe_model': ['elasticnet'],\n",
       " 'universe_exclude_features': ['nationality'],\n",
       " 'universe_exclude_subgroups': ['keep-all'],\n",
       " 'q_hat': [0.6755839079676464],\n",
       " 'coverage': [0.9123397614535727],\n",
       " 'avg_size': [1.1251031100211795]}"
      ]
     },
     "execution_count": 59,
     "metadata": {},
     "output_type": "execute_result"
    }
   ],
   "source": [
    "cp_metrics_dict"
   ]
  },
  {
   "cell_type": "code",
   "execution_count": 60,
   "id": "33007efc-14e9-4ec6-97ac-56a455c82265",
   "metadata": {
    "execution": {
     "iopub.execute_input": "2025-07-30T19:55:59.592323Z",
     "iopub.status.busy": "2025-07-30T19:55:59.591350Z",
     "iopub.status.idle": "2025-07-30T19:55:59.597677Z",
     "shell.execute_reply": "2025-07-30T19:55:59.596780Z"
    },
    "papermill": {
     "duration": 0.032303,
     "end_time": "2025-07-30T19:55:59.599319",
     "exception": false,
     "start_time": "2025-07-30T19:55:59.567016",
     "status": "completed"
    },
    "tags": []
   },
   "outputs": [],
   "source": [
    "cp_metrics_df = pd.DataFrame(cp_metrics_dict)"
   ]
  },
  {
   "cell_type": "code",
   "execution_count": 61,
   "id": "db12611b-57b2-4910-b9d0-355adfd6e7bf",
   "metadata": {
    "execution": {
     "iopub.execute_input": "2025-07-30T19:55:59.648072Z",
     "iopub.status.busy": "2025-07-30T19:55:59.647411Z",
     "iopub.status.idle": "2025-07-30T19:55:59.666001Z",
     "shell.execute_reply": "2025-07-30T19:55:59.665103Z"
    },
    "papermill": {
     "duration": 0.044544,
     "end_time": "2025-07-30T19:55:59.667730",
     "exception": false,
     "start_time": "2025-07-30T19:55:59.623186",
     "status": "completed"
    },
    "tags": []
   },
   "outputs": [
    {
     "data": {
      "text/html": [
       "<div>\n",
       "<style scoped>\n",
       "    .dataframe tbody tr th:only-of-type {\n",
       "        vertical-align: middle;\n",
       "    }\n",
       "\n",
       "    .dataframe tbody tr th {\n",
       "        vertical-align: top;\n",
       "    }\n",
       "\n",
       "    .dataframe thead th {\n",
       "        text-align: right;\n",
       "    }\n",
       "</style>\n",
       "<table border=\"1\" class=\"dataframe\">\n",
       "  <thead>\n",
       "    <tr style=\"text-align: right;\">\n",
       "      <th></th>\n",
       "      <th>universe_id</th>\n",
       "      <th>universe_training_year</th>\n",
       "      <th>universe_training_size</th>\n",
       "      <th>universe_scale</th>\n",
       "      <th>universe_model</th>\n",
       "      <th>universe_exclude_features</th>\n",
       "      <th>universe_exclude_subgroups</th>\n",
       "      <th>q_hat</th>\n",
       "      <th>coverage</th>\n",
       "      <th>avg_size</th>\n",
       "    </tr>\n",
       "  </thead>\n",
       "  <tbody>\n",
       "    <tr>\n",
       "      <th>0</th>\n",
       "      <td>559e3560cba9c70345d30626a247d3fe</td>\n",
       "      <td>2014</td>\n",
       "      <td>25k</td>\n",
       "      <td>scale</td>\n",
       "      <td>elasticnet</td>\n",
       "      <td>nationality</td>\n",
       "      <td>keep-all</td>\n",
       "      <td>0.675584</td>\n",
       "      <td>0.91234</td>\n",
       "      <td>1.125103</td>\n",
       "    </tr>\n",
       "  </tbody>\n",
       "</table>\n",
       "</div>"
      ],
      "text/plain": [
       "                        universe_id universe_training_year  \\\n",
       "0  559e3560cba9c70345d30626a247d3fe                   2014   \n",
       "\n",
       "  universe_training_size universe_scale universe_model  \\\n",
       "0                    25k          scale     elasticnet   \n",
       "\n",
       "  universe_exclude_features universe_exclude_subgroups     q_hat  coverage  \\\n",
       "0               nationality                   keep-all  0.675584   0.91234   \n",
       "\n",
       "   avg_size  \n",
       "0  1.125103  "
      ]
     },
     "execution_count": 61,
     "metadata": {},
     "output_type": "execute_result"
    }
   ],
   "source": [
    "cp_metrics_df"
   ]
  },
  {
   "cell_type": "code",
   "execution_count": 62,
   "id": "b7fbde55-a0a1-47e4-9af6-fe4a17fa8c61",
   "metadata": {
    "execution": {
     "iopub.execute_input": "2025-07-30T19:55:59.721228Z",
     "iopub.status.busy": "2025-07-30T19:55:59.720581Z",
     "iopub.status.idle": "2025-07-30T19:55:59.726147Z",
     "shell.execute_reply": "2025-07-30T19:55:59.725195Z"
    },
    "papermill": {
     "duration": 0.033745,
     "end_time": "2025-07-30T19:55:59.727794",
     "exception": false,
     "start_time": "2025-07-30T19:55:59.694049",
     "status": "completed"
    },
    "tags": []
   },
   "outputs": [],
   "source": [
    "# Conditional Coverage & looking at subgroups"
   ]
  },
  {
   "cell_type": "code",
   "execution_count": 63,
   "id": "027ae886-68dd-4141-96c7-805a5450e1ef",
   "metadata": {
    "execution": {
     "iopub.execute_input": "2025-07-30T19:55:59.782526Z",
     "iopub.status.busy": "2025-07-30T19:55:59.781866Z",
     "iopub.status.idle": "2025-07-30T19:56:00.045084Z",
     "shell.execute_reply": "2025-07-30T19:56:00.044106Z"
    },
    "papermill": {
     "duration": 0.292734,
     "end_time": "2025-07-30T19:56:00.046934",
     "exception": false,
     "start_time": "2025-07-30T19:55:59.754200",
     "status": "completed"
    },
    "tags": []
   },
   "outputs": [],
   "source": [
    "from fairness_multiverse.conformal import build_cp_groups\n",
    "\n",
    "cp_groups_df = build_cp_groups(pred_sets, y_true, X_test.index, org_test)\n",
    "#needs universe_id and setting"
   ]
  },
  {
   "cell_type": "code",
   "execution_count": 64,
   "id": "01d5802c-663a-4d1f-9d69-e036faaffbf7",
   "metadata": {
    "execution": {
     "iopub.execute_input": "2025-07-30T19:56:00.099519Z",
     "iopub.status.busy": "2025-07-30T19:56:00.098866Z",
     "iopub.status.idle": "2025-07-30T19:56:00.104140Z",
     "shell.execute_reply": "2025-07-30T19:56:00.103139Z"
    },
    "papermill": {
     "duration": 0.034476,
     "end_time": "2025-07-30T19:56:00.105817",
     "exception": false,
     "start_time": "2025-07-30T19:56:00.071341",
     "status": "completed"
    },
    "tags": []
   },
   "outputs": [],
   "source": [
    "#delete\n",
    "#cp_groups_df"
   ]
  },
  {
   "cell_type": "code",
   "execution_count": 65,
   "id": "fa424af1-d1eb-443d-b717-2d279ada8408",
   "metadata": {
    "execution": {
     "iopub.execute_input": "2025-07-30T19:56:00.158856Z",
     "iopub.status.busy": "2025-07-30T19:56:00.158139Z",
     "iopub.status.idle": "2025-07-30T19:56:00.163236Z",
     "shell.execute_reply": "2025-07-30T19:56:00.162283Z"
    },
    "papermill": {
     "duration": 0.03364,
     "end_time": "2025-07-30T19:56:00.165003",
     "exception": false,
     "start_time": "2025-07-30T19:56:00.131363",
     "status": "completed"
    },
    "tags": []
   },
   "outputs": [],
   "source": [
    "#delete\n",
    "#percentage = (cp_groups_df['nongerman_female'] == 1).mean() * 100\n",
    "#print(percentage)\n"
   ]
  },
  {
   "cell_type": "code",
   "execution_count": 66,
   "id": "6cbdab96-b2b2-45af-ad54-d0516db2e28d",
   "metadata": {
    "execution": {
     "iopub.execute_input": "2025-07-30T19:56:00.220802Z",
     "iopub.status.busy": "2025-07-30T19:56:00.219859Z",
     "iopub.status.idle": "2025-07-30T19:56:01.859013Z",
     "shell.execute_reply": "2025-07-30T19:56:01.857952Z"
    },
    "papermill": {
     "duration": 1.667929,
     "end_time": "2025-07-30T19:56:01.860988",
     "exception": false,
     "start_time": "2025-07-30T19:56:00.193059",
     "status": "completed"
    },
    "tags": []
   },
   "outputs": [],
   "source": [
    "# Define covered = 1 if true_label is in the predicted set\n",
    "cp_groups_df['covered'] = cp_groups_df.apply(\n",
    "    lambda r: int(r['true_label'] in r['pred_set']),\n",
    "    axis=1\n",
    ")"
   ]
  },
  {
   "cell_type": "code",
   "execution_count": 67,
   "id": "338ff529-1a6b-4b87-a931-8e4788d52aad",
   "metadata": {
    "execution": {
     "iopub.execute_input": "2025-07-30T19:56:01.915062Z",
     "iopub.status.busy": "2025-07-30T19:56:01.913981Z",
     "iopub.status.idle": "2025-07-30T19:56:01.919499Z",
     "shell.execute_reply": "2025-07-30T19:56:01.918547Z"
    },
    "papermill": {
     "duration": 0.033873,
     "end_time": "2025-07-30T19:56:01.921105",
     "exception": false,
     "start_time": "2025-07-30T19:56:01.887232",
     "status": "completed"
    },
    "tags": []
   },
   "outputs": [],
   "source": [
    "#cp_groups_df"
   ]
  },
  {
   "cell_type": "code",
   "execution_count": 68,
   "id": "90032e27-66df-4540-9169-4e89cfbaa758",
   "metadata": {
    "execution": {
     "iopub.execute_input": "2025-07-30T19:56:01.974467Z",
     "iopub.status.busy": "2025-07-30T19:56:01.973523Z",
     "iopub.status.idle": "2025-07-30T19:56:01.986137Z",
     "shell.execute_reply": "2025-07-30T19:56:01.985224Z"
    },
    "papermill": {
     "duration": 0.04102,
     "end_time": "2025-07-30T19:56:01.987977",
     "exception": false,
     "start_time": "2025-07-30T19:56:01.946957",
     "status": "completed"
    },
    "tags": []
   },
   "outputs": [],
   "source": [
    "subgroups = ['frau1','nongerman','nongerman_male','nongerman_female']\n",
    "\n",
    "# Conditional coverage for subgroup==1\n",
    "cond_coverage = {\n",
    "    g: cp_groups_df.loc[cp_groups_df[g]==1, 'covered'].mean()\n",
    "    for g in subgroups\n",
    "}"
   ]
  },
  {
   "cell_type": "code",
   "execution_count": 69,
   "id": "1e348fb1-b9c3-45bc-ba23-f016827a7e0d",
   "metadata": {
    "execution": {
     "iopub.execute_input": "2025-07-30T19:56:02.041377Z",
     "iopub.status.busy": "2025-07-30T19:56:02.040598Z",
     "iopub.status.idle": "2025-07-30T19:56:02.048016Z",
     "shell.execute_reply": "2025-07-30T19:56:02.047022Z"
    },
    "papermill": {
     "duration": 0.035398,
     "end_time": "2025-07-30T19:56:02.049650",
     "exception": false,
     "start_time": "2025-07-30T19:56:02.014252",
     "status": "completed"
    },
    "tags": []
   },
   "outputs": [
    {
     "data": {
      "text/plain": [
       "{'frau1': 0.9109853079929909,\n",
       " 'nongerman': 0.9123112333688879,\n",
       " 'nongerman_male': 0.9278573358551743,\n",
       " 'nongerman_female': 0.8865871833084947}"
      ]
     },
     "execution_count": 69,
     "metadata": {},
     "output_type": "execute_result"
    }
   ],
   "source": [
    "cond_coverage"
   ]
  },
  {
   "cell_type": "code",
   "execution_count": 70,
   "id": "f5093324-c3dd-4d63-bc4c-8d945e5c8bbb",
   "metadata": {
    "execution": {
     "iopub.execute_input": "2025-07-30T19:56:02.104592Z",
     "iopub.status.busy": "2025-07-30T19:56:02.103705Z",
     "iopub.status.idle": "2025-07-30T19:56:02.111390Z",
     "shell.execute_reply": "2025-07-30T19:56:02.110373Z"
    },
    "papermill": {
     "duration": 0.036515,
     "end_time": "2025-07-30T19:56:02.113155",
     "exception": false,
     "start_time": "2025-07-30T19:56:02.076640",
     "status": "completed"
    },
    "tags": []
   },
   "outputs": [],
   "source": [
    "for subgroup, cov in cond_coverage.items():\n",
    "    cp_metrics_df[f\"cov_{subgroup}\"] = cov"
   ]
  },
  {
   "cell_type": "code",
   "execution_count": 71,
   "id": "6e872e10-dbe5-49e8-b554-5030c98ff75d",
   "metadata": {
    "execution": {
     "iopub.execute_input": "2025-07-30T19:56:02.167658Z",
     "iopub.status.busy": "2025-07-30T19:56:02.166977Z",
     "iopub.status.idle": "2025-07-30T19:56:02.186836Z",
     "shell.execute_reply": "2025-07-30T19:56:02.185892Z"
    },
    "papermill": {
     "duration": 0.047948,
     "end_time": "2025-07-30T19:56:02.188266",
     "exception": false,
     "start_time": "2025-07-30T19:56:02.140318",
     "status": "completed"
    },
    "tags": []
   },
   "outputs": [
    {
     "data": {
      "text/html": [
       "<div>\n",
       "<style scoped>\n",
       "    .dataframe tbody tr th:only-of-type {\n",
       "        vertical-align: middle;\n",
       "    }\n",
       "\n",
       "    .dataframe tbody tr th {\n",
       "        vertical-align: top;\n",
       "    }\n",
       "\n",
       "    .dataframe thead th {\n",
       "        text-align: right;\n",
       "    }\n",
       "</style>\n",
       "<table border=\"1\" class=\"dataframe\">\n",
       "  <thead>\n",
       "    <tr style=\"text-align: right;\">\n",
       "      <th></th>\n",
       "      <th>universe_id</th>\n",
       "      <th>universe_training_year</th>\n",
       "      <th>universe_training_size</th>\n",
       "      <th>universe_scale</th>\n",
       "      <th>universe_model</th>\n",
       "      <th>universe_exclude_features</th>\n",
       "      <th>universe_exclude_subgroups</th>\n",
       "      <th>q_hat</th>\n",
       "      <th>coverage</th>\n",
       "      <th>avg_size</th>\n",
       "      <th>cov_frau1</th>\n",
       "      <th>cov_nongerman</th>\n",
       "      <th>cov_nongerman_male</th>\n",
       "      <th>cov_nongerman_female</th>\n",
       "    </tr>\n",
       "  </thead>\n",
       "  <tbody>\n",
       "    <tr>\n",
       "      <th>0</th>\n",
       "      <td>559e3560cba9c70345d30626a247d3fe</td>\n",
       "      <td>2014</td>\n",
       "      <td>25k</td>\n",
       "      <td>scale</td>\n",
       "      <td>elasticnet</td>\n",
       "      <td>nationality</td>\n",
       "      <td>keep-all</td>\n",
       "      <td>0.675584</td>\n",
       "      <td>0.91234</td>\n",
       "      <td>1.125103</td>\n",
       "      <td>0.910985</td>\n",
       "      <td>0.912311</td>\n",
       "      <td>0.927857</td>\n",
       "      <td>0.886587</td>\n",
       "    </tr>\n",
       "  </tbody>\n",
       "</table>\n",
       "</div>"
      ],
      "text/plain": [
       "                        universe_id universe_training_year  \\\n",
       "0  559e3560cba9c70345d30626a247d3fe                   2014   \n",
       "\n",
       "  universe_training_size universe_scale universe_model  \\\n",
       "0                    25k          scale     elasticnet   \n",
       "\n",
       "  universe_exclude_features universe_exclude_subgroups     q_hat  coverage  \\\n",
       "0               nationality                   keep-all  0.675584   0.91234   \n",
       "\n",
       "   avg_size  cov_frau1  cov_nongerman  cov_nongerman_male  \\\n",
       "0  1.125103   0.910985       0.912311            0.927857   \n",
       "\n",
       "   cov_nongerman_female  \n",
       "0              0.886587  "
      ]
     },
     "execution_count": 71,
     "metadata": {},
     "output_type": "execute_result"
    }
   ],
   "source": [
    "cp_metrics_df"
   ]
  },
  {
   "cell_type": "markdown",
   "id": "33774451",
   "metadata": {
    "papermill": {
     "duration": 0.026522,
     "end_time": "2025-07-30T19:56:02.241463",
     "exception": false,
     "start_time": "2025-07-30T19:56:02.214941",
     "status": "completed"
    },
    "tags": []
   },
   "source": [
    "# (Fairness) Metrics"
   ]
  },
  {
   "cell_type": "code",
   "execution_count": 72,
   "id": "debc5d62",
   "metadata": {
    "execution": {
     "iopub.execute_input": "2025-07-30T19:56:02.296467Z",
     "iopub.status.busy": "2025-07-30T19:56:02.295590Z",
     "iopub.status.idle": "2025-07-30T19:56:02.317302Z",
     "shell.execute_reply": "2025-07-30T19:56:02.316358Z"
    },
    "papermill": {
     "duration": 0.05157,
     "end_time": "2025-07-30T19:56:02.319236",
     "exception": false,
     "start_time": "2025-07-30T19:56:02.267666",
     "status": "completed"
    },
    "tags": []
   },
   "outputs": [],
   "source": [
    "# do I need to include maxdeutsch1.missing?\n",
    "\n",
    "import numpy as np\n",
    "\n",
    "colname_to_bin = \"maxdeutsch1\"\n",
    "majority_value = org_train[colname_to_bin].mode()[0]\n",
    "\n",
    "org_test[\"majmin\"] = np.where(org_test[colname_to_bin] == majority_value, \"majority\", \"minority\")"
   ]
  },
  {
   "cell_type": "code",
   "execution_count": 73,
   "id": "06a50de5",
   "metadata": {
    "execution": {
     "iopub.execute_input": "2025-07-30T19:56:02.374371Z",
     "iopub.status.busy": "2025-07-30T19:56:02.373887Z",
     "iopub.status.idle": "2025-07-30T19:56:05.180628Z",
     "shell.execute_reply": "2025-07-30T19:56:05.179661Z"
    },
    "papermill": {
     "duration": 2.836614,
     "end_time": "2025-07-30T19:56:05.182618",
     "exception": false,
     "start_time": "2025-07-30T19:56:02.346004",
     "status": "completed"
    },
    "tags": []
   },
   "outputs": [],
   "source": [
    "example_universe = universe.copy()\n",
    "example_universe[\"cutoff\"] = example_universe[\"cutoff\"][0]\n",
    "example_universe[\"eval_fairness_grouping\"] = example_universe[\"eval_fairness_grouping\"][0]\n",
    "fairness_dict, metric_frame = universe_analysis.compute_metrics(\n",
    "    example_universe,\n",
    "    y_pred_prob=probs_test,\n",
    "    y_test=y_true,\n",
    "    org_test=org_test,\n",
    ")"
   ]
  },
  {
   "cell_type": "markdown",
   "id": "f95d4e02",
   "metadata": {
    "papermill": {
     "duration": 0.026599,
     "end_time": "2025-07-30T19:56:05.236379",
     "exception": false,
     "start_time": "2025-07-30T19:56:05.209780",
     "status": "completed"
    },
    "tags": []
   },
   "source": [
    "# Overall"
   ]
  },
  {
   "cell_type": "markdown",
   "id": "bdee4871",
   "metadata": {
    "papermill": {
     "duration": 0.025996,
     "end_time": "2025-07-30T19:56:05.289988",
     "exception": false,
     "start_time": "2025-07-30T19:56:05.263992",
     "status": "completed"
    },
    "tags": []
   },
   "source": [
    "Fairness\n",
    "Main fairness target: Equalized Odds. Seems to be a better fit than equal opportunity, since we're not only interested in Y = 1. Seems to be a better fit than demographic parity, since we also care about accuracy, not just equal distribution of preds.\n",
    "\n",
    "Pick column for computation of fairness metrics\n",
    "\n",
    "Performance\n",
    "Overall performance measures, most interesting in relation to the measures split by group below"
   ]
  },
  {
   "cell_type": "code",
   "execution_count": 74,
   "id": "c4e067c6",
   "metadata": {
    "execution": {
     "iopub.execute_input": "2025-07-30T19:56:05.346266Z",
     "iopub.status.busy": "2025-07-30T19:56:05.345692Z",
     "iopub.status.idle": "2025-07-30T19:56:05.354377Z",
     "shell.execute_reply": "2025-07-30T19:56:05.353436Z"
    },
    "papermill": {
     "duration": 0.038556,
     "end_time": "2025-07-30T19:56:05.356094",
     "exception": false,
     "start_time": "2025-07-30T19:56:05.317538",
     "status": "completed"
    },
    "tags": []
   },
   "outputs": [
    {
     "data": {
      "text/plain": [
       "accuracy                   0.225516\n",
       "balanced accuracy          0.551177\n",
       "f1                         0.246816\n",
       "precision                  0.140998\n",
       "false positive rate        0.886870\n",
       "false negative rate        0.010775\n",
       "selection rate             0.900000\n",
       "count                  89710.000000\n",
       "dtype: float64"
      ]
     },
     "execution_count": 74,
     "metadata": {},
     "output_type": "execute_result"
    }
   ],
   "source": [
    "metric_frame.overall"
   ]
  },
  {
   "cell_type": "markdown",
   "id": "e968fe9d",
   "metadata": {
    "papermill": {
     "duration": 0.028367,
     "end_time": "2025-07-30T19:56:05.412618",
     "exception": false,
     "start_time": "2025-07-30T19:56:05.384251",
     "status": "completed"
    },
    "tags": []
   },
   "source": [
    "By Group"
   ]
  },
  {
   "cell_type": "code",
   "execution_count": 75,
   "id": "ec325bce",
   "metadata": {
    "execution": {
     "iopub.execute_input": "2025-07-30T19:56:05.481753Z",
     "iopub.status.busy": "2025-07-30T19:56:05.481074Z",
     "iopub.status.idle": "2025-07-30T19:56:05.500464Z",
     "shell.execute_reply": "2025-07-30T19:56:05.499304Z"
    },
    "papermill": {
     "duration": 0.055712,
     "end_time": "2025-07-30T19:56:05.502222",
     "exception": false,
     "start_time": "2025-07-30T19:56:05.446510",
     "status": "completed"
    },
    "tags": []
   },
   "outputs": [
    {
     "data": {
      "text/html": [
       "<div>\n",
       "<style scoped>\n",
       "    .dataframe tbody tr th:only-of-type {\n",
       "        vertical-align: middle;\n",
       "    }\n",
       "\n",
       "    .dataframe tbody tr th {\n",
       "        vertical-align: top;\n",
       "    }\n",
       "\n",
       "    .dataframe thead th {\n",
       "        text-align: right;\n",
       "    }\n",
       "</style>\n",
       "<table border=\"1\" class=\"dataframe\">\n",
       "  <thead>\n",
       "    <tr style=\"text-align: right;\">\n",
       "      <th></th>\n",
       "      <th>accuracy</th>\n",
       "      <th>balanced accuracy</th>\n",
       "      <th>f1</th>\n",
       "      <th>precision</th>\n",
       "      <th>false positive rate</th>\n",
       "      <th>false negative rate</th>\n",
       "      <th>selection rate</th>\n",
       "      <th>count</th>\n",
       "    </tr>\n",
       "    <tr>\n",
       "      <th>majmin</th>\n",
       "      <th></th>\n",
       "      <th></th>\n",
       "      <th></th>\n",
       "      <th></th>\n",
       "      <th></th>\n",
       "      <th></th>\n",
       "      <th></th>\n",
       "      <th></th>\n",
       "    </tr>\n",
       "  </thead>\n",
       "  <tbody>\n",
       "    <tr>\n",
       "      <th>majority</th>\n",
       "      <td>0.247231</td>\n",
       "      <td>0.561207</td>\n",
       "      <td>0.257525</td>\n",
       "      <td>0.148059</td>\n",
       "      <td>0.865551</td>\n",
       "      <td>0.012035</td>\n",
       "      <td>0.881726</td>\n",
       "      <td>69170.0</td>\n",
       "    </tr>\n",
       "    <tr>\n",
       "      <th>minority</th>\n",
       "      <td>0.152386</td>\n",
       "      <td>0.518395</td>\n",
       "      <td>0.212858</td>\n",
       "      <td>0.119190</td>\n",
       "      <td>0.957297</td>\n",
       "      <td>0.005912</td>\n",
       "      <td>0.961538</td>\n",
       "      <td>20540.0</td>\n",
       "    </tr>\n",
       "  </tbody>\n",
       "</table>\n",
       "</div>"
      ],
      "text/plain": [
       "          accuracy  balanced accuracy        f1  precision  \\\n",
       "majmin                                                       \n",
       "majority  0.247231           0.561207  0.257525   0.148059   \n",
       "minority  0.152386           0.518395  0.212858   0.119190   \n",
       "\n",
       "          false positive rate  false negative rate  selection rate    count  \n",
       "majmin                                                                       \n",
       "majority             0.865551             0.012035        0.881726  69170.0  \n",
       "minority             0.957297             0.005912        0.961538  20540.0  "
      ]
     },
     "execution_count": 75,
     "metadata": {},
     "output_type": "execute_result"
    }
   ],
   "source": [
    "metric_frame.by_group"
   ]
  },
  {
   "cell_type": "code",
   "execution_count": 76,
   "id": "a9ddbe63",
   "metadata": {
    "execution": {
     "iopub.execute_input": "2025-07-30T19:56:05.573816Z",
     "iopub.status.busy": "2025-07-30T19:56:05.572718Z",
     "iopub.status.idle": "2025-07-30T19:56:08.263750Z",
     "shell.execute_reply": "2025-07-30T19:56:08.262418Z"
    },
    "papermill": {
     "duration": 2.728936,
     "end_time": "2025-07-30T19:56:08.265753",
     "exception": false,
     "start_time": "2025-07-30T19:56:05.536817",
     "status": "completed"
    },
    "tags": []
   },
   "outputs": [
    {
     "data": {
      "text/plain": [
       "array([[<Axes: title={'center': 'accuracy'}, xlabel='majmin'>,\n",
       "        <Axes: title={'center': 'balanced accuracy'}, xlabel='majmin'>,\n",
       "        <Axes: title={'center': 'f1'}, xlabel='majmin'>],\n",
       "       [<Axes: title={'center': 'precision'}, xlabel='majmin'>,\n",
       "        <Axes: title={'center': 'false positive rate'}, xlabel='majmin'>,\n",
       "        <Axes: title={'center': 'false negative rate'}, xlabel='majmin'>],\n",
       "       [<Axes: title={'center': 'selection rate'}, xlabel='majmin'>,\n",
       "        <Axes: title={'center': 'count'}, xlabel='majmin'>,\n",
       "        <Axes: xlabel='majmin'>]], dtype=object)"
      ]
     },
     "execution_count": 76,
     "metadata": {},
     "output_type": "execute_result"
    },
    {
     "data": {
      "image/png": "[encoded data removed]",
      "text/plain": [
       "<Figure size 1200x800 with 9 Axes>"
      ]
     },
     "metadata": {},
     "output_type": "display_data"
    }
   ],
   "source": [
    "# In a graphic\n",
    "metric_frame.by_group.plot.bar(\n",
    "    subplots=True,\n",
    "    layout=[3, 3],\n",
    "    legend=False,\n",
    "    figsize=[12, 8],\n",
    "    title=\"Show all metrics\",\n",
    ")"
   ]
  },
  {
   "cell_type": "markdown",
   "id": "f57a0bac",
   "metadata": {
    "papermill": {
     "duration": 0.030172,
     "end_time": "2025-07-30T19:56:08.328729",
     "exception": false,
     "start_time": "2025-07-30T19:56:08.298557",
     "status": "completed"
    },
    "tags": []
   },
   "source": [
    "# Final Output"
   ]
  },
  {
   "cell_type": "code",
   "execution_count": 77,
   "id": "96d280a3",
   "metadata": {
    "execution": {
     "iopub.execute_input": "2025-07-30T19:56:08.389511Z",
     "iopub.status.busy": "2025-07-30T19:56:08.388442Z",
     "iopub.status.idle": "2025-07-30T19:56:08.398422Z",
     "shell.execute_reply": "2025-07-30T19:56:08.397374Z"
    },
    "papermill": {
     "duration": 0.040832,
     "end_time": "2025-07-30T19:56:08.400254",
     "exception": false,
     "start_time": "2025-07-30T19:56:08.359422",
     "status": "completed"
    },
    "tags": []
   },
   "outputs": [
    {
     "data": {
      "text/plain": [
       "4"
      ]
     },
     "execution_count": 77,
     "metadata": {},
     "output_type": "execute_result"
    }
   ],
   "source": [
    "sub_universes = universe_analysis.generate_sub_universes()\n",
    "len(sub_universes)"
   ]
  },
  {
   "cell_type": "code",
   "execution_count": 78,
   "id": "92adf7ba",
   "metadata": {
    "execution": {
     "iopub.execute_input": "2025-07-30T19:56:08.457851Z",
     "iopub.status.busy": "2025-07-30T19:56:08.456979Z",
     "iopub.status.idle": "2025-07-30T19:56:08.468160Z",
     "shell.execute_reply": "2025-07-30T19:56:08.466675Z"
    },
    "papermill": {
     "duration": 0.042423,
     "end_time": "2025-07-30T19:56:08.470203",
     "exception": false,
     "start_time": "2025-07-30T19:56:08.427780",
     "status": "completed"
    },
    "tags": []
   },
   "outputs": [],
   "source": [
    "def filter_sub_universe_data(sub_universe, org_test):\n",
    "    # Keep all rows — no filtering\n",
    "    keep_rows_mask = np.ones(org_test.shape[0], dtype=bool)\n",
    "\n",
    "    print(f\"[INFO] Keeping all rows: {keep_rows_mask.sum()} rows retained.\")\n",
    "    return keep_rows_mask"
   ]
  },
  {
   "cell_type": "code",
   "execution_count": 79,
   "id": "4a759155",
   "metadata": {
    "execution": {
     "iopub.execute_input": "2025-07-30T19:56:08.529895Z",
     "iopub.status.busy": "2025-07-30T19:56:08.529245Z",
     "iopub.status.idle": "2025-07-30T19:56:17.469686Z",
     "shell.execute_reply": "2025-07-30T19:56:17.468958Z"
    },
    "papermill": {
     "duration": 8.971808,
     "end_time": "2025-07-30T19:56:17.470932",
     "exception": false,
     "start_time": "2025-07-30T19:56:08.499124",
     "status": "completed"
    },
    "tags": []
   },
   "outputs": [
    {
     "name": "stdout",
     "output_type": "stream",
     "text": [
      "Stopping execution_time clock.\n",
      "[INFO] Keeping all rows: 89710 rows retained.\n"
     ]
    },
    {
     "name": "stdout",
     "output_type": "stream",
     "text": [
      "[INFO] Keeping all rows: 89710 rows retained.\n"
     ]
    },
    {
     "name": "stdout",
     "output_type": "stream",
     "text": [
      "[INFO] Keeping all rows: 89710 rows retained.\n"
     ]
    },
    {
     "name": "stdout",
     "output_type": "stream",
     "text": [
      "[INFO] Keeping all rows: 89710 rows retained.\n"
     ]
    },
    {
     "data": {
      "text/html": [
       "<div>\n",
       "<style scoped>\n",
       "    .dataframe tbody tr th:only-of-type {\n",
       "        vertical-align: middle;\n",
       "    }\n",
       "\n",
       "    .dataframe tbody tr th {\n",
       "        vertical-align: top;\n",
       "    }\n",
       "\n",
       "    .dataframe thead th {\n",
       "        text-align: right;\n",
       "    }\n",
       "</style>\n",
       "<table border=\"1\" class=\"dataframe\">\n",
       "  <thead>\n",
       "    <tr style=\"text-align: right;\">\n",
       "      <th></th>\n",
       "      <th>run_no</th>\n",
       "      <th>universe_id</th>\n",
       "      <th>universe_settings</th>\n",
       "      <th>execution_time</th>\n",
       "      <th>test_size_n</th>\n",
       "      <th>test_size_frac</th>\n",
       "      <th>fair_main_equalized_odds_difference</th>\n",
       "      <th>fair_main_equalized_odds_ratio</th>\n",
       "      <th>fair_main_demographic_parity_difference</th>\n",
       "      <th>fair_main_demographic_parity_ratio</th>\n",
       "      <th>...</th>\n",
       "      <th>perf_grp_precision_0</th>\n",
       "      <th>perf_grp_precision_1</th>\n",
       "      <th>perf_grp_false positive rate_0</th>\n",
       "      <th>perf_grp_false positive rate_1</th>\n",
       "      <th>perf_grp_false negative rate_0</th>\n",
       "      <th>perf_grp_false negative rate_1</th>\n",
       "      <th>perf_grp_selection rate_0</th>\n",
       "      <th>perf_grp_selection rate_1</th>\n",
       "      <th>perf_grp_count_0</th>\n",
       "      <th>perf_grp_count_1</th>\n",
       "    </tr>\n",
       "  </thead>\n",
       "  <tbody>\n",
       "    <tr>\n",
       "      <th>0</th>\n",
       "      <td>14</td>\n",
       "      <td>559e3560cba9c70345d30626a247d3fe</td>\n",
       "      <td>{\"cutoff\": \"quantile_0.1\", \"eval_fairness_grou...</td>\n",
       "      <td>55.179507</td>\n",
       "      <td>89710</td>\n",
       "      <td>1.0</td>\n",
       "      <td>0.091746</td>\n",
       "      <td>0.904161</td>\n",
       "      <td>0.079812</td>\n",
       "      <td>0.916995</td>\n",
       "      <td>...</td>\n",
       "      <td>NaN</td>\n",
       "      <td>NaN</td>\n",
       "      <td>NaN</td>\n",
       "      <td>NaN</td>\n",
       "      <td>NaN</td>\n",
       "      <td>NaN</td>\n",
       "      <td>NaN</td>\n",
       "      <td>NaN</td>\n",
       "      <td>NaN</td>\n",
       "      <td>NaN</td>\n",
       "    </tr>\n",
       "    <tr>\n",
       "      <th>0</th>\n",
       "      <td>14</td>\n",
       "      <td>559e3560cba9c70345d30626a247d3fe</td>\n",
       "      <td>{\"cutoff\": \"quantile_0.1\", \"eval_fairness_grou...</td>\n",
       "      <td>55.179507</td>\n",
       "      <td>89710</td>\n",
       "      <td>1.0</td>\n",
       "      <td>0.091746</td>\n",
       "      <td>0.904161</td>\n",
       "      <td>0.079812</td>\n",
       "      <td>0.916995</td>\n",
       "      <td>...</td>\n",
       "      <td>0.119190</td>\n",
       "      <td>0.148059</td>\n",
       "      <td>0.957297</td>\n",
       "      <td>0.865551</td>\n",
       "      <td>0.005912</td>\n",
       "      <td>0.012035</td>\n",
       "      <td>0.961538</td>\n",
       "      <td>0.881726</td>\n",
       "      <td>20540.0</td>\n",
       "      <td>69170.0</td>\n",
       "    </tr>\n",
       "    <tr>\n",
       "      <th>0</th>\n",
       "      <td>14</td>\n",
       "      <td>559e3560cba9c70345d30626a247d3fe</td>\n",
       "      <td>{\"cutoff\": \"quantile_0.25\", \"eval_fairness_gro...</td>\n",
       "      <td>55.179507</td>\n",
       "      <td>89710</td>\n",
       "      <td>1.0</td>\n",
       "      <td>0.171539</td>\n",
       "      <td>0.798644</td>\n",
       "      <td>0.149087</td>\n",
       "      <td>0.827634</td>\n",
       "      <td>...</td>\n",
       "      <td>NaN</td>\n",
       "      <td>NaN</td>\n",
       "      <td>NaN</td>\n",
       "      <td>NaN</td>\n",
       "      <td>NaN</td>\n",
       "      <td>NaN</td>\n",
       "      <td>NaN</td>\n",
       "      <td>NaN</td>\n",
       "      <td>NaN</td>\n",
       "      <td>NaN</td>\n",
       "    </tr>\n",
       "    <tr>\n",
       "      <th>0</th>\n",
       "      <td>14</td>\n",
       "      <td>559e3560cba9c70345d30626a247d3fe</td>\n",
       "      <td>{\"cutoff\": \"quantile_0.25\", \"eval_fairness_gro...</td>\n",
       "      <td>55.179507</td>\n",
       "      <td>89710</td>\n",
       "      <td>1.0</td>\n",
       "      <td>0.171539</td>\n",
       "      <td>0.798644</td>\n",
       "      <td>0.149087</td>\n",
       "      <td>0.827634</td>\n",
       "      <td>...</td>\n",
       "      <td>0.128616</td>\n",
       "      <td>0.175156</td>\n",
       "      <td>0.851915</td>\n",
       "      <td>0.680376</td>\n",
       "      <td>0.035051</td>\n",
       "      <td>0.051094</td>\n",
       "      <td>0.864946</td>\n",
       "      <td>0.715859</td>\n",
       "      <td>20540.0</td>\n",
       "      <td>69170.0</td>\n",
       "    </tr>\n",
       "  </tbody>\n",
       "</table>\n",
       "<p>4 rows × 50 columns</p>\n",
       "</div>"
      ],
      "text/plain": [
       "  run_no                       universe_id  \\\n",
       "0     14  559e3560cba9c70345d30626a247d3fe   \n",
       "0     14  559e3560cba9c70345d30626a247d3fe   \n",
       "0     14  559e3560cba9c70345d30626a247d3fe   \n",
       "0     14  559e3560cba9c70345d30626a247d3fe   \n",
       "\n",
       "                                   universe_settings  execution_time  \\\n",
       "0  {\"cutoff\": \"quantile_0.1\", \"eval_fairness_grou...       55.179507   \n",
       "0  {\"cutoff\": \"quantile_0.1\", \"eval_fairness_grou...       55.179507   \n",
       "0  {\"cutoff\": \"quantile_0.25\", \"eval_fairness_gro...       55.179507   \n",
       "0  {\"cutoff\": \"quantile_0.25\", \"eval_fairness_gro...       55.179507   \n",
       "\n",
       "   test_size_n  test_size_frac  fair_main_equalized_odds_difference  \\\n",
       "0        89710             1.0                             0.091746   \n",
       "0        89710             1.0                             0.091746   \n",
       "0        89710             1.0                             0.171539   \n",
       "0        89710             1.0                             0.171539   \n",
       "\n",
       "   fair_main_equalized_odds_ratio  fair_main_demographic_parity_difference  \\\n",
       "0                        0.904161                                 0.079812   \n",
       "0                        0.904161                                 0.079812   \n",
       "0                        0.798644                                 0.149087   \n",
       "0                        0.798644                                 0.149087   \n",
       "\n",
       "   fair_main_demographic_parity_ratio  ...  perf_grp_precision_0  \\\n",
       "0                            0.916995  ...                   NaN   \n",
       "0                            0.916995  ...              0.119190   \n",
       "0                            0.827634  ...                   NaN   \n",
       "0                            0.827634  ...              0.128616   \n",
       "\n",
       "   perf_grp_precision_1  perf_grp_false positive rate_0  \\\n",
       "0                   NaN                             NaN   \n",
       "0              0.148059                        0.957297   \n",
       "0                   NaN                             NaN   \n",
       "0              0.175156                        0.851915   \n",
       "\n",
       "   perf_grp_false positive rate_1  perf_grp_false negative rate_0  \\\n",
       "0                             NaN                             NaN   \n",
       "0                        0.865551                        0.005912   \n",
       "0                             NaN                             NaN   \n",
       "0                        0.680376                        0.035051   \n",
       "\n",
       "   perf_grp_false negative rate_1  perf_grp_selection rate_0  \\\n",
       "0                             NaN                        NaN   \n",
       "0                        0.012035                   0.961538   \n",
       "0                             NaN                        NaN   \n",
       "0                        0.051094                   0.864946   \n",
       "\n",
       "   perf_grp_selection rate_1  perf_grp_count_0  perf_grp_count_1  \n",
       "0                        NaN               NaN               NaN  \n",
       "0                   0.881726           20540.0           69170.0  \n",
       "0                        NaN               NaN               NaN  \n",
       "0                   0.715859           20540.0           69170.0  \n",
       "\n",
       "[4 rows x 50 columns]"
      ]
     },
     "execution_count": 79,
     "metadata": {},
     "output_type": "execute_result"
    }
   ],
   "source": [
    "final_output = universe_analysis.generate_final_output(\n",
    "    y_pred_prob=probs_test,\n",
    "    y_test=y_true,\n",
    "    org_test=org_test,\n",
    "    filter_data=filter_sub_universe_data,\n",
    "    cp_metrics_df=cp_metrics_df,\n",
    "    save=True,\n",
    ")\n",
    "final_output"
   ]
  },
  {
   "cell_type": "code",
   "execution_count": null,
   "id": "721ff514-cb11-46f8-b6fc-50392f74b5cb",
   "metadata": {
    "papermill": {
     "duration": 0.015184,
     "end_time": "2025-07-30T19:56:17.504859",
     "exception": false,
     "start_time": "2025-07-30T19:56:17.489675",
     "status": "completed"
    },
    "tags": []
   },
   "outputs": [],
   "source": []
  }
 ],
 "metadata": {
  "celltoolbar": "Tags",
  "kernelspec": {
   "display_name": "Python (CMA Fairness)",
   "language": "python",
   "name": "cma_fair_env"
  },
  "language_info": {
   "codemirror_mode": {
    "name": "ipython",
    "version": 3
   },
   "file_extension": ".py",
   "mimetype": "text/x-python",
   "name": "python",
   "nbconvert_exporter": "python",
   "pygments_lexer": "ipython3",
   "version": "3.10.12"
  },
  "papermill": {
   "default_parameters": {},
   "duration": 67.756203,
   "end_time": "2025-07-30T19:56:18.238258",
   "environment_variables": {},
   "exception": null,
   "input_path": "universe_analysis.ipynb",
   "output_path": "output/runs/14/notebooks/m_14-559e3560cba9c70345d30626a247d3fe.ipynb",
   "parameters": {
    "output_dir": "output",
    "run_no": "14",
    "seed": "2023",
    "universe": "{\"cutoff\": [\"quantile_0.1\", \"quantile_0.25\"], \"eval_fairness_grouping\": [\"majority-minority\", \"nationality-all\"], \"exclude_features\": \"nationality\", \"exclude_subgroups\": \"keep-all\", \"model\": \"elasticnet\", \"scale\": \"scale\", \"training_size\": \"25k\", \"training_year\": \"2014\"}",
    "universe_id": "559e3560cba9c70345d30626a247d3fe"
   },
   "start_time": "2025-07-30T19:55:10.482055",
   "version": "2.6.0"
  }
 },
 "nbformat": 4,
 "nbformat_minor": 5
}