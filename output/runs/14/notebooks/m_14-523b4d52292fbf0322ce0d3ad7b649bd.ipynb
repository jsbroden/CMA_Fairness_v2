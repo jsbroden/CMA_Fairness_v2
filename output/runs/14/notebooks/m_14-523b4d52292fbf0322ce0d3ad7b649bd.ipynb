{
 "cells": [
  {
   "cell_type": "code",
   "execution_count": 1,
   "id": "f159f837-637b-42ba-96b5-ec9a68c44524",
   "metadata": {
    "execution": {
     "iopub.execute_input": "2025-07-30T21:31:17.332181Z",
     "iopub.status.busy": "2025-07-30T21:31:17.331673Z",
     "iopub.status.idle": "2025-07-30T21:31:17.340850Z",
     "shell.execute_reply": "2025-07-30T21:31:17.340220Z"
    },
    "papermill": {
     "duration": 0.023932,
     "end_time": "2025-07-30T21:31:17.342375",
     "exception": false,
     "start_time": "2025-07-30T21:31:17.318443",
     "status": "completed"
    },
    "tags": []
   },
   "outputs": [
    {
     "name": "stdout",
     "output_type": "stream",
     "text": [
      "/dss/dsshome1/0C/ra93lal2/cma/CMA_Fairness_v2\n"
     ]
    },
    {
     "name": "stderr",
     "output_type": "stream",
     "text": [
      "/dss/dsshome1/0C/ra93lal2/.local/share/virtualenvs/CMA_Fairness_v2-3j10GkSs/lib/python3.10/site-packages/IPython/core/magics/osm.py:393: UserWarning: This is now an optional IPython functionality, using bookmarks requires you to install the `pickleshare` library.\n",
      "  bkms = self.shell.db.get('bookmarks', {})\n",
      "/dss/dsshome1/0C/ra93lal2/.local/share/virtualenvs/CMA_Fairness_v2-3j10GkSs/lib/python3.10/site-packages/IPython/core/magics/osm.py:417: UserWarning: This is now an optional IPython functionality, setting dhist requires you to install the `pickleshare` library.\n",
      "  self.shell.db['dhist'] = compress_dhist(dhist)[-100:]\n"
     ]
    }
   ],
   "source": [
    "%cd ~/cma/CMA_Fairness_v2"
   ]
  },
  {
   "cell_type": "markdown",
   "id": "de2603b9",
   "metadata": {
    "papermill": {
     "duration": 0.018629,
     "end_time": "2025-07-30T21:31:17.379441",
     "exception": false,
     "start_time": "2025-07-30T21:31:17.360812",
     "status": "completed"
    },
    "tags": []
   },
   "source": [
    "The following cell holds the definition of our parameters, these values can be overriden by rendering the with e.g. the following command:\n",
    "\n",
    "papermill -p alpha 0.2 -p ratio 0.3 universe_analysis.ipynb output/test_run.ipynb"
   ]
  },
  {
   "cell_type": "code",
   "execution_count": 2,
   "id": "a80968a0-40bb-4fa9-85ef-2d5eefb01975",
   "metadata": {
    "execution": {
     "iopub.execute_input": "2025-07-30T21:31:17.418552Z",
     "iopub.status.busy": "2025-07-30T21:31:17.418292Z",
     "iopub.status.idle": "2025-07-30T21:31:17.421932Z",
     "shell.execute_reply": "2025-07-30T21:31:17.421351Z"
    },
    "papermill": {
     "duration": 0.024812,
     "end_time": "2025-07-30T21:31:17.423324",
     "exception": false,
     "start_time": "2025-07-30T21:31:17.398512",
     "status": "completed"
    },
    "tags": []
   },
   "outputs": [
    {
     "name": "stdout",
     "output_type": "stream",
     "text": [
      "Current working directory: /dss/dsshome1/0C/ra93lal2/cma/CMA_Fairness_v2\n"
     ]
    }
   ],
   "source": [
    "import os\n",
    "print(\"Current working directory:\", os.getcwd())"
   ]
  },
  {
   "cell_type": "code",
   "execution_count": 3,
   "id": "2dce4c03",
   "metadata": {
    "execution": {
     "iopub.execute_input": "2025-07-30T21:31:17.461582Z",
     "iopub.status.busy": "2025-07-30T21:31:17.461333Z",
     "iopub.status.idle": "2025-07-30T21:31:17.465541Z",
     "shell.execute_reply": "2025-07-30T21:31:17.464929Z"
    },
    "papermill": {
     "duration": 0.02513,
     "end_time": "2025-07-30T21:31:17.466650",
     "exception": false,
     "start_time": "2025-07-30T21:31:17.441520",
     "status": "completed"
    },
    "tags": [
     "parameters"
    ]
   },
   "outputs": [],
   "source": [
    "run_no = 0\n",
    "universe_id = \"test\"\n",
    "universe = {\n",
    "    \"training_size\": \"25k\", # \"25k\", \"5k\", \"1k\"\n",
    "    \"training_year\": \"2014\", # \"2014\", \"2012_14\", \"2010_14\"\n",
    "    \"scale\": \"scale\", # \"scale\", \"do-not-scale\",\n",
    "    #\"stratify_split\": \"target\", # \"none\", \"target\", \"protected-attribute\", \"both\",\n",
    "    \"model\": \"elasticnet\", # \"logreg\", \"penalized_logreg\", \"rf\", \"gbm\", \"elasticnet\"\n",
    "    \"cutoff\": [\"quantile_0.15\", \"quantile_0.30\"],\n",
    "    \"exclude_features\": \"age\", # \"none\", \"nationality\", \"sex\", \"nationality-sex\", \"age\"\n",
    "    \"exclude_subgroups\": \"keep-all\", # \"keep-all\", \"drop-non-german\"\n",
    "    \"eval_fairness_grouping\": [\"majority-minority\", \"nationality-all\"]\n",
    "}\n",
    "\n",
    "output_dir=\"./output\"\n",
    "seed=0"
   ]
  },
  {
   "cell_type": "code",
   "execution_count": 4,
   "id": "614eb209",
   "metadata": {
    "execution": {
     "iopub.execute_input": "2025-07-30T21:31:17.499579Z",
     "iopub.status.busy": "2025-07-30T21:31:17.498875Z",
     "iopub.status.idle": "2025-07-30T21:31:17.503236Z",
     "shell.execute_reply": "2025-07-30T21:31:17.502669Z"
    },
    "papermill": {
     "duration": 0.022431,
     "end_time": "2025-07-30T21:31:17.504325",
     "exception": false,
     "start_time": "2025-07-30T21:31:17.481894",
     "status": "completed"
    },
    "tags": [
     "injected-parameters"
    ]
   },
   "outputs": [],
   "source": [
    "# Parameters\n",
    "universe_id = \"523b4d52292fbf0322ce0d3ad7b649bd\"\n",
    "run_no = \"14\"\n",
    "universe = \"{\\\"cutoff\\\": [\\\"quantile_0.1\\\", \\\"quantile_0.25\\\"], \\\"eval_fairness_grouping\\\": [\\\"majority-minority\\\", \\\"nationality-all\\\"], \\\"exclude_features\\\": \\\"none\\\", \\\"exclude_subgroups\\\": \\\"drop-non-german\\\", \\\"model\\\": \\\"elasticnet\\\", \\\"scale\\\": \\\"do-not-scale\\\", \\\"training_size\\\": \\\"1k\\\", \\\"training_year\\\": \\\"2014\\\"}\"\n",
    "output_dir = \"output\"\n",
    "seed = \"2023\"\n"
   ]
  },
  {
   "cell_type": "code",
   "execution_count": 5,
   "id": "1650acaf",
   "metadata": {
    "execution": {
     "iopub.execute_input": "2025-07-30T21:31:17.526298Z",
     "iopub.status.busy": "2025-07-30T21:31:17.526069Z",
     "iopub.status.idle": "2025-07-30T21:31:17.529662Z",
     "shell.execute_reply": "2025-07-30T21:31:17.529072Z"
    },
    "papermill": {
     "duration": 0.014675,
     "end_time": "2025-07-30T21:31:17.530880",
     "exception": false,
     "start_time": "2025-07-30T21:31:17.516205",
     "status": "completed"
    },
    "tags": []
   },
   "outputs": [],
   "source": [
    "import json\n",
    "# Parse universe into dict if it is passed as a string\n",
    "if isinstance(universe, str):\n",
    "    universe = json.loads(universe)"
   ]
  },
  {
   "cell_type": "code",
   "execution_count": 6,
   "id": "16620c48",
   "metadata": {
    "execution": {
     "iopub.execute_input": "2025-07-30T21:31:17.554082Z",
     "iopub.status.busy": "2025-07-30T21:31:17.553856Z",
     "iopub.status.idle": "2025-07-30T21:31:17.582116Z",
     "shell.execute_reply": "2025-07-30T21:31:17.581099Z"
    },
    "papermill": {
     "duration": 0.041283,
     "end_time": "2025-07-30T21:31:17.583778",
     "exception": false,
     "start_time": "2025-07-30T21:31:17.542495",
     "status": "completed"
    },
    "tags": []
   },
   "outputs": [],
   "source": [
    "# Auto-reload the custom package\n",
    "%load_ext autoreload\n",
    "%autoreload 1\n",
    "%aimport fairness_multiverse"
   ]
  },
  {
   "cell_type": "code",
   "execution_count": 7,
   "id": "01c5c9f3",
   "metadata": {
    "execution": {
     "iopub.execute_input": "2025-07-30T21:31:17.618321Z",
     "iopub.status.busy": "2025-07-30T21:31:17.617897Z",
     "iopub.status.idle": "2025-07-30T21:31:20.251230Z",
     "shell.execute_reply": "2025-07-30T21:31:20.250221Z"
    },
    "papermill": {
     "duration": 2.649203,
     "end_time": "2025-07-30T21:31:20.253285",
     "exception": false,
     "start_time": "2025-07-30T21:31:17.604082",
     "status": "completed"
    },
    "tags": []
   },
   "outputs": [],
   "source": [
    "from fairness_multiverse.universe import UniverseAnalysis\n",
    "\n",
    "universe_analysis = UniverseAnalysis(\n",
    "    run_no = run_no,\n",
    "    universe_id = universe_id,\n",
    "    universe = universe,\n",
    "    output_dir=output_dir,\n",
    ")"
   ]
  },
  {
   "cell_type": "code",
   "execution_count": 8,
   "id": "106241f5",
   "metadata": {
    "execution": {
     "iopub.execute_input": "2025-07-30T21:31:20.279788Z",
     "iopub.status.busy": "2025-07-30T21:31:20.279487Z",
     "iopub.status.idle": "2025-07-30T21:31:20.284887Z",
     "shell.execute_reply": "2025-07-30T21:31:20.284078Z"
    },
    "papermill": {
     "duration": 0.017621,
     "end_time": "2025-07-30T21:31:20.286408",
     "exception": false,
     "start_time": "2025-07-30T21:31:20.268787",
     "status": "completed"
    },
    "tags": []
   },
   "outputs": [
    {
     "name": "stdout",
     "output_type": "stream",
     "text": [
      "Using Seed: 2023\n"
     ]
    }
   ],
   "source": [
    "import numpy as np\n",
    "parsed_seed = int(seed)\n",
    "np.random.seed(parsed_seed)\n",
    "print(f\"Using Seed: {parsed_seed}\")"
   ]
  },
  {
   "cell_type": "markdown",
   "id": "e0ebdc57",
   "metadata": {
    "papermill": {
     "duration": 0.020024,
     "end_time": "2025-07-30T21:31:20.329757",
     "exception": false,
     "start_time": "2025-07-30T21:31:20.309733",
     "status": "completed"
    },
    "tags": []
   },
   "source": [
    "# Loading Data"
   ]
  },
  {
   "cell_type": "markdown",
   "id": "681925a3",
   "metadata": {
    "papermill": {
     "duration": 0.020957,
     "end_time": "2025-07-30T21:31:20.371430",
     "exception": false,
     "start_time": "2025-07-30T21:31:20.350473",
     "status": "completed"
    },
    "tags": []
   },
   "source": [
    "Load siab_train, siab_test, siab_calib and/or \n",
    "load siab_train_features, siab_train_labels"
   ]
  },
  {
   "cell_type": "code",
   "execution_count": 9,
   "id": "f0496b8a",
   "metadata": {
    "execution": {
     "iopub.execute_input": "2025-07-30T21:31:20.415601Z",
     "iopub.status.busy": "2025-07-30T21:31:20.414868Z",
     "iopub.status.idle": "2025-07-30T21:31:34.303917Z",
     "shell.execute_reply": "2025-07-30T21:31:34.302629Z"
    },
    "papermill": {
     "duration": 13.912781,
     "end_time": "2025-07-30T21:31:34.305298",
     "exception": false,
     "start_time": "2025-07-30T21:31:20.392517",
     "status": "completed"
    },
    "tags": []
   },
   "outputs": [
    {
     "name": "stdout",
     "output_type": "stream",
     "text": [
      "Loading SIAB data from cache: data/siab_cached.csv.gz\n"
     ]
    },
    {
     "name": "stdout",
     "output_type": "stream",
     "text": [
      "(643690, 164)\n"
     ]
    }
   ],
   "source": [
    "from pathlib import Path\n",
    "import pandas as pd\n",
    "\n",
    "# File paths\n",
    "raw_file = Path(\"data/raw/siab.csv\")\n",
    "cache_file = Path(\"data/siab_cached.csv.gz\")\n",
    "\n",
    "# Ensure cache directory exists\n",
    "cache_file.parent.mkdir(parents=True, exist_ok=True)\n",
    "\n",
    "# Load with simple caching\n",
    "if cache_file.exists():\n",
    "    print(f\"Loading SIAB data from cache: {cache_file}\")\n",
    "    siab = pd.read_csv(cache_file, compression='gzip')\n",
    "else:\n",
    "    print(f\"Cache not found. Reading raw SIAB data: {raw_file}\")\n",
    "    siab = pd.read_csv(raw_file)\n",
    "    siab.to_csv(cache_file, index=False, compression='gzip')\n",
    "    print(f\"Cached SIAB data to: {cache_file}\")\n",
    "\n",
    "# Now use `siab` DataFrame as needed\n",
    "print(siab.shape)"
   ]
  },
  {
   "cell_type": "code",
   "execution_count": 10,
   "id": "db0ca512-5f53-4dba-abdb-a2888bca41ba",
   "metadata": {
    "execution": {
     "iopub.execute_input": "2025-07-30T21:31:34.331044Z",
     "iopub.status.busy": "2025-07-30T21:31:34.330521Z",
     "iopub.status.idle": "2025-07-30T21:31:34.336246Z",
     "shell.execute_reply": "2025-07-30T21:31:34.335373Z"
    },
    "papermill": {
     "duration": 0.019813,
     "end_time": "2025-07-30T21:31:34.338507",
     "exception": false,
     "start_time": "2025-07-30T21:31:34.318694",
     "status": "completed"
    },
    "tags": []
   },
   "outputs": [],
   "source": [
    "#siab"
   ]
  },
  {
   "cell_type": "code",
   "execution_count": 11,
   "id": "a0edb063",
   "metadata": {
    "execution": {
     "iopub.execute_input": "2025-07-30T21:31:34.366353Z",
     "iopub.status.busy": "2025-07-30T21:31:34.365762Z",
     "iopub.status.idle": "2025-07-30T21:31:34.370274Z",
     "shell.execute_reply": "2025-07-30T21:31:34.369462Z"
    },
    "papermill": {
     "duration": 0.019547,
     "end_time": "2025-07-30T21:31:34.371600",
     "exception": false,
     "start_time": "2025-07-30T21:31:34.352053",
     "status": "completed"
    },
    "tags": []
   },
   "outputs": [],
   "source": [
    "#import pandas as pd\n",
    "#\n",
    "#X_train = pd.read_csv(\"./data/X_train.csv\")\n",
    "#y_train = pd.read_csv(\"./data/y_train.csv\")"
   ]
  },
  {
   "cell_type": "code",
   "execution_count": 12,
   "id": "63d08085",
   "metadata": {
    "execution": {
     "iopub.execute_input": "2025-07-30T21:31:34.409516Z",
     "iopub.status.busy": "2025-07-30T21:31:34.409103Z",
     "iopub.status.idle": "2025-07-30T21:31:34.413862Z",
     "shell.execute_reply": "2025-07-30T21:31:34.412889Z"
    },
    "papermill": {
     "duration": 0.028918,
     "end_time": "2025-07-30T21:31:34.415598",
     "exception": false,
     "start_time": "2025-07-30T21:31:34.386680",
     "status": "completed"
    },
    "tags": []
   },
   "outputs": [],
   "source": [
    "#X_test = pd.read_csv(\"./data/X_test.csv\")\n",
    "#y_true = pd.read_csv(\"./data/y_test.csv\")"
   ]
  },
  {
   "cell_type": "code",
   "execution_count": 13,
   "id": "98a8d0fa-1d3d-4ed8-bb2c-281470e24add",
   "metadata": {
    "execution": {
     "iopub.execute_input": "2025-07-30T21:31:34.458928Z",
     "iopub.status.busy": "2025-07-30T21:31:34.458154Z",
     "iopub.status.idle": "2025-07-30T21:31:34.462921Z",
     "shell.execute_reply": "2025-07-30T21:31:34.462141Z"
    },
    "papermill": {
     "duration": 0.03025,
     "end_time": "2025-07-30T21:31:34.464211",
     "exception": false,
     "start_time": "2025-07-30T21:31:34.433961",
     "status": "completed"
    },
    "tags": []
   },
   "outputs": [],
   "source": [
    "# Calibration data for conformal\n",
    "#X_calib = pd.read_csv(\"./data/X_calib.csv\")\n",
    "#y_calib = pd.read_csv(\"./data/y_calib.csv\")"
   ]
  },
  {
   "cell_type": "markdown",
   "id": "997051c5-15bd-4b69-9786-c3001a3ce484",
   "metadata": {
    "papermill": {
     "duration": 0.025443,
     "end_time": "2025-07-30T21:31:34.502021",
     "exception": false,
     "start_time": "2025-07-30T21:31:34.476578",
     "status": "completed"
    },
    "tags": []
   },
   "source": [
    "# Splitting Data and Setting Training Data Size"
   ]
  },
  {
   "cell_type": "code",
   "execution_count": 14,
   "id": "e993b61f-042d-41a6-8c81-f55681f86335",
   "metadata": {
    "execution": {
     "iopub.execute_input": "2025-07-30T21:31:34.540461Z",
     "iopub.status.busy": "2025-07-30T21:31:34.539912Z",
     "iopub.status.idle": "2025-07-30T21:31:34.906673Z",
     "shell.execute_reply": "2025-07-30T21:31:34.905710Z"
    },
    "papermill": {
     "duration": 0.384993,
     "end_time": "2025-07-30T21:31:34.909231",
     "exception": false,
     "start_time": "2025-07-30T21:31:34.524238",
     "status": "completed"
    },
    "tags": []
   },
   "outputs": [],
   "source": [
    "def sample_by_year_size(df,\n",
    "                        training_year: str,\n",
    "                        training_size: str,\n",
    "                        random_state: int = 42):\n",
    "    # --- parse training_year into a list of int years ---\n",
    "    if \"_\" in training_year:\n",
    "        start_str, end_str = training_year.split(\"_\", 1)\n",
    "        start = int(start_str)\n",
    "        end   = int(end_str) if len(end_str) == 4 else (int(end_str) + (start // 100)*100)\n",
    "        years = list(range(start, end + 1))\n",
    "    else:\n",
    "        years = [int(training_year)]\n",
    "\n",
    "    df = df[df[\"year\"].isin(years)].reset_index(drop=True)\n",
    "\n",
    "    # --- map training_size to total number of samples ---\n",
    "    total_map = {\"25k\": 25_000, \"5k\": 5_000, \"1k\": 1_000}\n",
    "    if training_size not in total_map:\n",
    "        return df  # e.g. \"all\"\n",
    "\n",
    "    total_samples = total_map[training_size]\n",
    "    n_years       = len(years)\n",
    "    base          = total_samples // n_years\n",
    "    remainder     = total_samples % n_years\n",
    "\n",
    "    # --- build a dict: year -> how many to sample ---\n",
    "    # give +1 to the first `remainder` years in ascending order\n",
    "    quotas = {\n",
    "        year: base + (1 if idx < remainder else 0)\n",
    "        for idx, year in enumerate(sorted(years))\n",
    "    }\n",
    "\n",
    "    # --- sample per‐year according to the quota dict ---\n",
    "    sampled = (\n",
    "        df\n",
    "        .groupby(\"year\", group_keys=False)\n",
    "        .apply(lambda grp: grp.sample(\n",
    "            n=min(len(grp), quotas[grp.name]),\n",
    "            random_state=random_state))\n",
    "        .reset_index(drop=True)\n",
    "    )\n",
    "\n",
    "    return sampled"
   ]
  },
  {
   "cell_type": "code",
   "execution_count": 15,
   "id": "c0ccd338-0e02-41f3-a09d-f56f9266e3fb",
   "metadata": {
    "execution": {
     "iopub.execute_input": "2025-07-30T21:31:34.969593Z",
     "iopub.status.busy": "2025-07-30T21:31:34.969045Z",
     "iopub.status.idle": "2025-07-30T21:31:34.972960Z",
     "shell.execute_reply": "2025-07-30T21:31:34.972308Z"
    },
    "papermill": {
     "duration": 0.036816,
     "end_time": "2025-07-30T21:31:34.974844",
     "exception": false,
     "start_time": "2025-07-30T21:31:34.938028",
     "status": "completed"
    },
    "tags": []
   },
   "outputs": [],
   "source": [
    "#universe[\"training_size\"]"
   ]
  },
  {
   "cell_type": "code",
   "execution_count": 16,
   "id": "ca707fd7-8047-4acd-bfa5-66248fbbf8e6",
   "metadata": {
    "execution": {
     "iopub.execute_input": "2025-07-30T21:31:35.026474Z",
     "iopub.status.busy": "2025-07-30T21:31:35.025957Z",
     "iopub.status.idle": "2025-07-30T21:31:35.030886Z",
     "shell.execute_reply": "2025-07-30T21:31:35.029977Z"
    },
    "papermill": {
     "duration": 0.031215,
     "end_time": "2025-07-30T21:31:35.032530",
     "exception": false,
     "start_time": "2025-07-30T21:31:35.001315",
     "status": "completed"
    },
    "tags": []
   },
   "outputs": [],
   "source": [
    "#universe[\"training_year\"]"
   ]
  },
  {
   "cell_type": "code",
   "execution_count": 17,
   "id": "aea9c6ef-6f46-42c8-85eb-5a62025c1508",
   "metadata": {
    "execution": {
     "iopub.execute_input": "2025-07-30T21:31:35.081025Z",
     "iopub.status.busy": "2025-07-30T21:31:35.080495Z",
     "iopub.status.idle": "2025-07-30T21:31:35.306476Z",
     "shell.execute_reply": "2025-07-30T21:31:35.305391Z"
    },
    "papermill": {
     "duration": 0.252332,
     "end_time": "2025-07-30T21:31:35.308391",
     "exception": false,
     "start_time": "2025-07-30T21:31:35.056059",
     "status": "completed"
    },
    "tags": []
   },
   "outputs": [],
   "source": [
    "siab_train = sample_by_year_size(siab,\n",
    "                               training_year=universe[\"training_year\"],\n",
    "                               training_size=universe[\"training_size\"])"
   ]
  },
  {
   "cell_type": "code",
   "execution_count": 18,
   "id": "8d3afb32-789d-442c-8d5d-9f5aa8dd2eed",
   "metadata": {
    "execution": {
     "iopub.execute_input": "2025-07-30T21:31:35.363863Z",
     "iopub.status.busy": "2025-07-30T21:31:35.362827Z",
     "iopub.status.idle": "2025-07-30T21:31:35.369356Z",
     "shell.execute_reply": "2025-07-30T21:31:35.368101Z"
    },
    "papermill": {
     "duration": 0.038121,
     "end_time": "2025-07-30T21:31:35.371253",
     "exception": false,
     "start_time": "2025-07-30T21:31:35.333132",
     "status": "completed"
    },
    "tags": []
   },
   "outputs": [],
   "source": [
    "#siab_train.shape"
   ]
  },
  {
   "cell_type": "code",
   "execution_count": 19,
   "id": "d582db68-1a4c-47fb-84fc-08518dc1975a",
   "metadata": {
    "execution": {
     "iopub.execute_input": "2025-07-30T21:31:35.416698Z",
     "iopub.status.busy": "2025-07-30T21:31:35.416187Z",
     "iopub.status.idle": "2025-07-30T21:31:35.423577Z",
     "shell.execute_reply": "2025-07-30T21:31:35.420253Z"
    },
    "papermill": {
     "duration": 0.032759,
     "end_time": "2025-07-30T21:31:35.425047",
     "exception": false,
     "start_time": "2025-07-30T21:31:35.392288",
     "status": "completed"
    },
    "tags": []
   },
   "outputs": [],
   "source": [
    "#display(siab_train.groupby(\"year\").size())"
   ]
  },
  {
   "cell_type": "code",
   "execution_count": 20,
   "id": "a561edb4-d032-42cb-8256-22eac1111c64",
   "metadata": {
    "execution": {
     "iopub.execute_input": "2025-07-30T21:31:35.457882Z",
     "iopub.status.busy": "2025-07-30T21:31:35.457355Z",
     "iopub.status.idle": "2025-07-30T21:31:35.692126Z",
     "shell.execute_reply": "2025-07-30T21:31:35.691119Z"
    },
    "papermill": {
     "duration": 0.253698,
     "end_time": "2025-07-30T21:31:35.693616",
     "exception": false,
     "start_time": "2025-07-30T21:31:35.439918",
     "status": "completed"
    },
    "tags": []
   },
   "outputs": [],
   "source": [
    "#siab_train = siab_s[siab_s.year < 2015]\n",
    "siab_calib = siab[siab.year == 2015]\n",
    "siab_test = siab[siab.year == 2016]"
   ]
  },
  {
   "cell_type": "code",
   "execution_count": 21,
   "id": "472de16f-c3db-4916-846b-1f0de9cf1746",
   "metadata": {
    "execution": {
     "iopub.execute_input": "2025-07-30T21:31:35.720091Z",
     "iopub.status.busy": "2025-07-30T21:31:35.719555Z",
     "iopub.status.idle": "2025-07-30T21:31:35.726408Z",
     "shell.execute_reply": "2025-07-30T21:31:35.725561Z"
    },
    "papermill": {
     "duration": 0.020645,
     "end_time": "2025-07-30T21:31:35.727594",
     "exception": false,
     "start_time": "2025-07-30T21:31:35.706949",
     "status": "completed"
    },
    "tags": []
   },
   "outputs": [],
   "source": [
    "X_train = siab_train.iloc[:,4:164]\n",
    "y_train = siab_train.iloc[:, [3]]"
   ]
  },
  {
   "cell_type": "code",
   "execution_count": 22,
   "id": "828c96af-f43a-4ed6-ba47-8ac73a47d56c",
   "metadata": {
    "execution": {
     "iopub.execute_input": "2025-07-30T21:31:35.753888Z",
     "iopub.status.busy": "2025-07-30T21:31:35.753576Z",
     "iopub.status.idle": "2025-07-30T21:31:35.823406Z",
     "shell.execute_reply": "2025-07-30T21:31:35.822176Z"
    },
    "papermill": {
     "duration": 0.082578,
     "end_time": "2025-07-30T21:31:35.824702",
     "exception": false,
     "start_time": "2025-07-30T21:31:35.742124",
     "status": "completed"
    },
    "tags": []
   },
   "outputs": [],
   "source": [
    "X_calib = siab_calib.iloc[:,4:164]\n",
    "y_calib = siab_calib.iloc[:, [3]]"
   ]
  },
  {
   "cell_type": "code",
   "execution_count": 23,
   "id": "c34be9c3-6bd6-476e-acd3-845840e303be",
   "metadata": {
    "execution": {
     "iopub.execute_input": "2025-07-30T21:31:35.850940Z",
     "iopub.status.busy": "2025-07-30T21:31:35.850471Z",
     "iopub.status.idle": "2025-07-30T21:31:35.905046Z",
     "shell.execute_reply": "2025-07-30T21:31:35.904211Z"
    },
    "papermill": {
     "duration": 0.068835,
     "end_time": "2025-07-30T21:31:35.906273",
     "exception": false,
     "start_time": "2025-07-30T21:31:35.837438",
     "status": "completed"
    },
    "tags": []
   },
   "outputs": [],
   "source": [
    "X_test = siab_test.iloc[:,4:164]\n",
    "y_true = siab_test.iloc[:, [3]]"
   ]
  },
  {
   "cell_type": "markdown",
   "id": "9901737e-04df-44f0-9100-f5ad144ed040",
   "metadata": {
    "papermill": {
     "duration": 0.011848,
     "end_time": "2025-07-30T21:31:35.931221",
     "exception": false,
     "start_time": "2025-07-30T21:31:35.919373",
     "status": "completed"
    },
    "tags": []
   },
   "source": [
    "# Splitting Data and Setting Training Data Size OLD VERSION"
   ]
  },
  {
   "cell_type": "code",
   "execution_count": 24,
   "id": "acbc8f7d-8fc8-4e86-8c59-5dcb0f58384b",
   "metadata": {
    "execution": {
     "iopub.execute_input": "2025-07-30T21:31:35.960641Z",
     "iopub.status.busy": "2025-07-30T21:31:35.960148Z",
     "iopub.status.idle": "2025-07-30T21:31:35.965225Z",
     "shell.execute_reply": "2025-07-30T21:31:35.964389Z"
    },
    "papermill": {
     "duration": 0.021022,
     "end_time": "2025-07-30T21:31:35.966594",
     "exception": false,
     "start_time": "2025-07-30T21:31:35.945572",
     "status": "completed"
    },
    "tags": []
   },
   "outputs": [],
   "source": [
    "#def sample_by_year(df, training_size, random_state=42):\n",
    "#    if training_size == \"2014\":\n",
    "#        return df[df[\"year\"] == 2014].reset_index(drop=True)\n",
    "#    \n",
    "#    size_map = {\n",
    "#        \"25k\": 5000,\n",
    "#        \"5k\": 1000,\n",
    "#        \"1k\": 200\n",
    "#    }\n",
    "#\n",
    "#    if training_size not in size_map:\n",
    "#        return df.reset_index(drop=True)  # use all data\n",
    "#\n",
    "#    n_per_year = size_map[training_size]\n",
    "#    grouped = df.groupby(\"year\")\n",
    "#    sampled = grouped.apply(lambda x: x.sample(n=min(n_per_year, len(x)), random_state=random_state))\n",
    "#    return sampled.reset_index(drop=True)"
   ]
  },
  {
   "cell_type": "code",
   "execution_count": 25,
   "id": "6d931f52-beaf-43ff-9e78-9d44a448d54e",
   "metadata": {
    "execution": {
     "iopub.execute_input": "2025-07-30T21:31:35.993714Z",
     "iopub.status.busy": "2025-07-30T21:31:35.993393Z",
     "iopub.status.idle": "2025-07-30T21:31:35.997261Z",
     "shell.execute_reply": "2025-07-30T21:31:35.996579Z"
    },
    "papermill": {
     "duration": 0.020093,
     "end_time": "2025-07-30T21:31:35.998520",
     "exception": false,
     "start_time": "2025-07-30T21:31:35.978427",
     "status": "completed"
    },
    "tags": []
   },
   "outputs": [],
   "source": [
    "#siab_s = sample_by_year(siab, universe[\"training_size\"])"
   ]
  },
  {
   "cell_type": "code",
   "execution_count": 26,
   "id": "5db0a40e-a4e2-4920-be85-b12ae061d70d",
   "metadata": {
    "execution": {
     "iopub.execute_input": "2025-07-30T21:31:36.024948Z",
     "iopub.status.busy": "2025-07-30T21:31:36.024176Z",
     "iopub.status.idle": "2025-07-30T21:31:36.029345Z",
     "shell.execute_reply": "2025-07-30T21:31:36.028544Z"
    },
    "papermill": {
     "duration": 0.019457,
     "end_time": "2025-07-30T21:31:36.030530",
     "exception": false,
     "start_time": "2025-07-30T21:31:36.011073",
     "status": "completed"
    },
    "tags": []
   },
   "outputs": [],
   "source": [
    "#display(siab_s.groupby(\"year\").size())"
   ]
  },
  {
   "cell_type": "code",
   "execution_count": 27,
   "id": "e6c733c5",
   "metadata": {
    "execution": {
     "iopub.execute_input": "2025-07-30T21:31:36.058396Z",
     "iopub.status.busy": "2025-07-30T21:31:36.057836Z",
     "iopub.status.idle": "2025-07-30T21:31:36.238346Z",
     "shell.execute_reply": "2025-07-30T21:31:36.237312Z"
    },
    "papermill": {
     "duration": 0.196801,
     "end_time": "2025-07-30T21:31:36.240519",
     "exception": false,
     "start_time": "2025-07-30T21:31:36.043718",
     "status": "completed"
    },
    "tags": []
   },
   "outputs": [],
   "source": [
    "# Auxiliary data needed downstream in the pipeline\n",
    "\n",
    "org_train = X_train.copy()\n",
    "org_test = X_test.copy()\n",
    "org_calib = X_calib.copy()"
   ]
  },
  {
   "cell_type": "code",
   "execution_count": 28,
   "id": "1466abac-c6da-4492-a62f-4240ae3783af",
   "metadata": {
    "execution": {
     "iopub.execute_input": "2025-07-30T21:31:36.290375Z",
     "iopub.status.busy": "2025-07-30T21:31:36.289913Z",
     "iopub.status.idle": "2025-07-30T21:31:36.295356Z",
     "shell.execute_reply": "2025-07-30T21:31:36.294559Z"
    },
    "papermill": {
     "duration": 0.03138,
     "end_time": "2025-07-30T21:31:36.296983",
     "exception": false,
     "start_time": "2025-07-30T21:31:36.265603",
     "status": "completed"
    },
    "tags": []
   },
   "outputs": [],
   "source": [
    "# put in other script?\n",
    "# Group sizes\n",
    "\n",
    "#def calculate_percentages(df, df_name):\n",
    "#    total_entries = len(df)\n",
    "#\n",
    "#    female_pct = (df['frau1'] == 1).mean() * 100\n",
    "#    non_german_pct = ((df['maxdeutsch1'] == 0) & (df['maxdeutsch.Missing.'] == 0)).mean() * 100\n",
    "#    non_german_male_pct = ((df['frau1'] == 0) & (df['maxdeutsch1'] == 0) & (df['maxdeutsch.Missing.'] == 0)).mean() * 100\n",
    "#    non_german_female_pct = ((df['frau1'] == 1) & (df['maxdeutsch1'] == 0) & (df['maxdeutsch.Missing.'] == 0)).mean() * 100\n",
    "#\n",
    "#    print(f\"--- {df_name} ---\")\n",
    "#    print(f\"Female: {female_pct:.2f}%\")\n",
    "#    print(f\"Non-German: {non_german_pct:.2f}%\")\n",
    "#    print(f\"Non-German Male: {non_german_male_pct:.2f}%\")\n",
    "#    print(f\"Non-German Female: {non_german_female_pct:.2f}%\\n\")\n",
    "#\n",
    "## Calculate for each DataFrame\n",
    "#calculate_percentages(siab_calib, \"siab_calib\")\n",
    "#calculate_percentages(siab_test, \"siab_test\")\n",
    "#calculate_percentages(siab_train, \"siab_train\")"
   ]
  },
  {
   "cell_type": "markdown",
   "id": "0a4a1b33",
   "metadata": {
    "papermill": {
     "duration": 0.028603,
     "end_time": "2025-07-30T21:31:36.348776",
     "exception": false,
     "start_time": "2025-07-30T21:31:36.320173",
     "status": "completed"
    },
    "tags": []
   },
   "source": [
    "# Preprocessing Data"
   ]
  },
  {
   "cell_type": "code",
   "execution_count": 29,
   "id": "ca879031",
   "metadata": {
    "execution": {
     "iopub.execute_input": "2025-07-30T21:31:36.388623Z",
     "iopub.status.busy": "2025-07-30T21:31:36.388266Z",
     "iopub.status.idle": "2025-07-30T21:31:36.392843Z",
     "shell.execute_reply": "2025-07-30T21:31:36.392132Z"
    },
    "papermill": {
     "duration": 0.017734,
     "end_time": "2025-07-30T21:31:36.394038",
     "exception": false,
     "start_time": "2025-07-30T21:31:36.376304",
     "status": "completed"
    },
    "tags": []
   },
   "outputs": [],
   "source": [
    "# EXCLUDE PROTECTED FEATURES\n",
    "# ----------------------\n",
    "# \"exclude_features\": \"none\", # \"nationality\", \"sex\", \"nationality-sex\"\n",
    "\n",
    "excluded_features = universe[\"exclude_features\"].split(\"-\") # split, e.g.: \"nationality-sex\" -> [\"nationality\", \"sex\"]\n",
    "excluded_features_dictionary = {\n",
    "    \"nationality\": [\"maxdeutsch1\", \"maxdeutsch.Missing.\"],\n",
    "    \"sex\": [\"frau1\"],\n",
    "    \"age\": [\"age\"],\n",
    "}\n"
   ]
  },
  {
   "cell_type": "code",
   "execution_count": 30,
   "id": "b745ac60",
   "metadata": {
    "execution": {
     "iopub.execute_input": "2025-07-30T21:31:36.419486Z",
     "iopub.status.busy": "2025-07-30T21:31:36.419154Z",
     "iopub.status.idle": "2025-07-30T21:31:36.507020Z",
     "shell.execute_reply": "2025-07-30T21:31:36.506101Z"
    },
    "papermill": {
     "duration": 0.10271,
     "end_time": "2025-07-30T21:31:36.508659",
     "exception": false,
     "start_time": "2025-07-30T21:31:36.405949",
     "status": "completed"
    },
    "tags": []
   },
   "outputs": [],
   "source": [
    "# Code nice names to column names\n",
    "\n",
    "excluded_features_columns = [\n",
    "    excluded_features_dictionary[f] for f in excluded_features if len(f) > 0 and f != \"none\"\n",
    "]"
   ]
  },
  {
   "cell_type": "code",
   "execution_count": 31,
   "id": "f84f73a2",
   "metadata": {
    "execution": {
     "iopub.execute_input": "2025-07-30T21:31:36.555680Z",
     "iopub.status.busy": "2025-07-30T21:31:36.555260Z",
     "iopub.status.idle": "2025-07-30T21:31:36.560954Z",
     "shell.execute_reply": "2025-07-30T21:31:36.560240Z"
    },
    "papermill": {
     "duration": 0.031091,
     "end_time": "2025-07-30T21:31:36.562431",
     "exception": false,
     "start_time": "2025-07-30T21:31:36.531340",
     "status": "completed"
    },
    "tags": []
   },
   "outputs": [],
   "source": [
    "from utils import flatten_once\n",
    "\n",
    "excluded_features_columns = flatten_once(excluded_features_columns)"
   ]
  },
  {
   "cell_type": "code",
   "execution_count": 32,
   "id": "884dea22",
   "metadata": {
    "execution": {
     "iopub.execute_input": "2025-07-30T21:31:36.607133Z",
     "iopub.status.busy": "2025-07-30T21:31:36.606801Z",
     "iopub.status.idle": "2025-07-30T21:31:36.625612Z",
     "shell.execute_reply": "2025-07-30T21:31:36.624787Z"
    },
    "papermill": {
     "duration": 0.042595,
     "end_time": "2025-07-30T21:31:36.629031",
     "exception": false,
     "start_time": "2025-07-30T21:31:36.586436",
     "status": "completed"
    },
    "tags": []
   },
   "outputs": [],
   "source": [
    "if len(excluded_features_columns) > 0:\n",
    "    print(f\"Dropping features: {excluded_features_columns}\")\n",
    "    X_train.drop(excluded_features_columns, axis=1, inplace=True)"
   ]
  },
  {
   "cell_type": "code",
   "execution_count": 33,
   "id": "95ab8b16",
   "metadata": {
    "execution": {
     "iopub.execute_input": "2025-07-30T21:31:36.657182Z",
     "iopub.status.busy": "2025-07-30T21:31:36.656700Z",
     "iopub.status.idle": "2025-07-30T21:31:36.672825Z",
     "shell.execute_reply": "2025-07-30T21:31:36.671871Z"
    },
    "papermill": {
     "duration": 0.030943,
     "end_time": "2025-07-30T21:31:36.674704",
     "exception": false,
     "start_time": "2025-07-30T21:31:36.643761",
     "status": "completed"
    },
    "tags": []
   },
   "outputs": [],
   "source": [
    "if len(excluded_features_columns) > 0:\n",
    "    print(f\"Dropping features: {excluded_features_columns}\")\n",
    "    X_test.drop(excluded_features_columns, axis=1, inplace=True)"
   ]
  },
  {
   "cell_type": "code",
   "execution_count": 34,
   "id": "1853aaf5-fb9f-46cb-a2b5-8ea4ae2237e4",
   "metadata": {
    "execution": {
     "iopub.execute_input": "2025-07-30T21:31:36.702521Z",
     "iopub.status.busy": "2025-07-30T21:31:36.702139Z",
     "iopub.status.idle": "2025-07-30T21:31:36.814146Z",
     "shell.execute_reply": "2025-07-30T21:31:36.813265Z"
    },
    "papermill": {
     "duration": 0.127247,
     "end_time": "2025-07-30T21:31:36.816269",
     "exception": false,
     "start_time": "2025-07-30T21:31:36.689022",
     "status": "completed"
    },
    "tags": []
   },
   "outputs": [],
   "source": [
    "if len(excluded_features_columns) > 0:\n",
    "    print(f\"Dropping features: {excluded_features_columns}\")\n",
    "    X_calib.drop(excluded_features_columns, axis=1, inplace=True)"
   ]
  },
  {
   "cell_type": "code",
   "execution_count": 35,
   "id": "6727d079-03e5-481e-9d38-292a90b7a0a8",
   "metadata": {
    "execution": {
     "iopub.execute_input": "2025-07-30T21:31:36.845089Z",
     "iopub.status.busy": "2025-07-30T21:31:36.844693Z",
     "iopub.status.idle": "2025-07-30T21:31:36.848661Z",
     "shell.execute_reply": "2025-07-30T21:31:36.847833Z"
    },
    "papermill": {
     "duration": 0.017288,
     "end_time": "2025-07-30T21:31:36.849737",
     "exception": false,
     "start_time": "2025-07-30T21:31:36.832449",
     "status": "completed"
    },
    "tags": []
   },
   "outputs": [],
   "source": [
    "# SPLIT & STRATIFY DATA\n",
    "# ----------------------"
   ]
  },
  {
   "cell_type": "code",
   "execution_count": 36,
   "id": "76c4dc6d",
   "metadata": {
    "execution": {
     "iopub.execute_input": "2025-07-30T21:31:36.873754Z",
     "iopub.status.busy": "2025-07-30T21:31:36.873510Z",
     "iopub.status.idle": "2025-07-30T21:31:36.877133Z",
     "shell.execute_reply": "2025-07-30T21:31:36.876457Z"
    },
    "papermill": {
     "duration": 0.016563,
     "end_time": "2025-07-30T21:31:36.878305",
     "exception": false,
     "start_time": "2025-07-30T21:31:36.861742",
     "status": "completed"
    },
    "tags": []
   },
   "outputs": [],
   "source": [
    "# EXCLUDE CERTAIN SUBGROUPS\n",
    "# ----------------------\n",
    "\n",
    "mode = universe.get(\"exclude_subgroups\", \"keep-all\") \n",
    "# Fetches the exclude_subgroups setting from the universe dict.\n",
    "# Defaults to \"keep-all\" if the key is missing."
   ]
  },
  {
   "cell_type": "code",
   "execution_count": 37,
   "id": "21994072",
   "metadata": {
    "execution": {
     "iopub.execute_input": "2025-07-30T21:31:36.906248Z",
     "iopub.status.busy": "2025-07-30T21:31:36.905971Z",
     "iopub.status.idle": "2025-07-30T21:31:36.910711Z",
     "shell.execute_reply": "2025-07-30T21:31:36.909998Z"
    },
    "papermill": {
     "duration": 0.020545,
     "end_time": "2025-07-30T21:31:36.911835",
     "exception": false,
     "start_time": "2025-07-30T21:31:36.891290",
     "status": "completed"
    },
    "tags": []
   },
   "outputs": [],
   "source": [
    "if mode == \"keep-all\":\n",
    "    keep_mask = pd.Series(True, index=org_train.index)\n",
    "\n",
    "# org_train contains the original feature columns from features_org (in Simson)\n",
    "# features_org contains unprocessed features, for me X_train at beginning ???\n",
    "# For keep-all, creates a boolean Series (keep_mask) of all True, so no rows are removed.\n",
    "\n",
    "elif mode == \"drop-non-german\":\n",
    "    keep_mask = org_train[\"maxdeutsch1\"] == 1 # ??? what about missing values?\n",
    "\n",
    "else:\n",
    "    raise ValueError(f\"Unsupported mode for exclude_subgroups: {mode}\")\n"
   ]
  },
  {
   "cell_type": "code",
   "execution_count": 38,
   "id": "71651440",
   "metadata": {
    "execution": {
     "iopub.execute_input": "2025-07-30T21:31:36.941406Z",
     "iopub.status.busy": "2025-07-30T21:31:36.940827Z",
     "iopub.status.idle": "2025-07-30T21:31:36.977747Z",
     "shell.execute_reply": "2025-07-30T21:31:36.977103Z"
    },
    "papermill": {
     "duration": 0.053809,
     "end_time": "2025-07-30T21:31:36.978787",
     "exception": false,
     "start_time": "2025-07-30T21:31:36.924978",
     "status": "completed"
    },
    "tags": []
   },
   "outputs": [
    {
     "name": "stdout",
     "output_type": "stream",
     "text": [
      "Dropping 147 rows (14.70%) where mode='drop-non-german'\n"
     ]
    }
   ],
   "source": [
    "n_drop = (~keep_mask).sum() # Calculates how many rows are set to be dropped\n",
    "if n_drop > 0:\n",
    "    pct = n_drop / len(keep_mask) * 100\n",
    "    print(f\"Dropping {n_drop} rows ({pct:.2f}%) where mode='{mode}'\")"
   ]
  },
  {
   "cell_type": "code",
   "execution_count": 39,
   "id": "5fb8eee5",
   "metadata": {
    "execution": {
     "iopub.execute_input": "2025-07-30T21:31:37.003094Z",
     "iopub.status.busy": "2025-07-30T21:31:37.002687Z",
     "iopub.status.idle": "2025-07-30T21:31:37.007443Z",
     "shell.execute_reply": "2025-07-30T21:31:37.006601Z"
    },
    "papermill": {
     "duration": 0.018104,
     "end_time": "2025-07-30T21:31:37.008717",
     "exception": false,
     "start_time": "2025-07-30T21:31:36.990613",
     "status": "completed"
    },
    "tags": []
   },
   "outputs": [],
   "source": [
    "X_train = X_train[keep_mask]"
   ]
  },
  {
   "cell_type": "code",
   "execution_count": 40,
   "id": "b202bb3a",
   "metadata": {
    "execution": {
     "iopub.execute_input": "2025-07-30T21:31:37.035176Z",
     "iopub.status.busy": "2025-07-30T21:31:37.034931Z",
     "iopub.status.idle": "2025-07-30T21:31:37.038929Z",
     "shell.execute_reply": "2025-07-30T21:31:37.038179Z"
    },
    "papermill": {
     "duration": 0.018763,
     "end_time": "2025-07-30T21:31:37.040519",
     "exception": false,
     "start_time": "2025-07-30T21:31:37.021756",
     "status": "completed"
    },
    "tags": []
   },
   "outputs": [],
   "source": [
    "y_train = y_train[keep_mask]"
   ]
  },
  {
   "cell_type": "markdown",
   "id": "493e2ac3",
   "metadata": {
    "papermill": {
     "duration": 0.022688,
     "end_time": "2025-07-30T21:31:37.086016",
     "exception": false,
     "start_time": "2025-07-30T21:31:37.063328",
     "status": "completed"
    },
    "tags": []
   },
   "source": [
    "# Model Training"
   ]
  },
  {
   "cell_type": "code",
   "execution_count": 41,
   "id": "679e1268",
   "metadata": {
    "execution": {
     "iopub.execute_input": "2025-07-30T21:31:37.134944Z",
     "iopub.status.busy": "2025-07-30T21:31:37.134434Z",
     "iopub.status.idle": "2025-07-30T21:31:37.215909Z",
     "shell.execute_reply": "2025-07-30T21:31:37.215152Z"
    },
    "papermill": {
     "duration": 0.107429,
     "end_time": "2025-07-30T21:31:37.217249",
     "exception": false,
     "start_time": "2025-07-30T21:31:37.109820",
     "status": "completed"
    },
    "tags": []
   },
   "outputs": [],
   "source": [
    "from sklearn.linear_model import LogisticRegression\n",
    "from sklearn.ensemble import GradientBoostingClassifier, RandomForestClassifier\n",
    "\n",
    "if (universe[\"model\"] == \"logreg\"):\n",
    "    model = LogisticRegression() #penalty=\"none\") #, solver=\"newton-cg\", max_iter=1) # include random_state=19 ?\n",
    "elif (universe[\"model\"] == \"penalized_logreg\"):\n",
    "    model = LogisticRegression(penalty=\"l2\", C=1.0) #, solver=\"newton-cg\", max_iter=1)\n",
    "elif (universe[\"model\"] == \"rf\"):\n",
    "    model = RandomForestClassifier(n_estimators=100, n_jobs=-1)\n",
    "elif (universe[\"model\"] == \"gbm\"):\n",
    "    model = GradientBoostingClassifier()\n",
    "elif (universe[\"model\"] == \"elasticnet\"):\n",
    "    model = LogisticRegression(penalty = 'elasticnet', solver = 'saga', l1_ratio = 0.5, max_iter=5000) # which solver to use?\n",
    "else:\n",
    "    raise \"Unsupported universe.model\""
   ]
  },
  {
   "cell_type": "code",
   "execution_count": 42,
   "id": "0cc8f744",
   "metadata": {
    "execution": {
     "iopub.execute_input": "2025-07-30T21:31:37.244321Z",
     "iopub.status.busy": "2025-07-30T21:31:37.244041Z",
     "iopub.status.idle": "2025-07-30T21:31:37.248733Z",
     "shell.execute_reply": "2025-07-30T21:31:37.247945Z"
    },
    "papermill": {
     "duration": 0.021256,
     "end_time": "2025-07-30T21:31:37.250257",
     "exception": false,
     "start_time": "2025-07-30T21:31:37.229001",
     "status": "completed"
    },
    "tags": []
   },
   "outputs": [],
   "source": [
    "import numpy as np\n",
    "from sklearn.pipeline import Pipeline\n",
    "from sklearn.preprocessing import StandardScaler\n",
    "\n",
    "model = Pipeline([\n",
    "    #(\"continuous_processor\", continuous_processor),\n",
    "    #(\"categorical_preprocessor\", categorical_preprocessor),\n",
    "    (\"scale\", StandardScaler() if universe[\"scale\"] == \"scale\" else None), \n",
    "    (\"model\", model),\n",
    "])"
   ]
  },
  {
   "cell_type": "code",
   "execution_count": 43,
   "id": "9442c04d",
   "metadata": {
    "execution": {
     "iopub.execute_input": "2025-07-30T21:31:37.299741Z",
     "iopub.status.busy": "2025-07-30T21:31:37.299497Z",
     "iopub.status.idle": "2025-07-30T21:31:52.198847Z",
     "shell.execute_reply": "2025-07-30T21:31:52.198007Z"
    },
    "papermill": {
     "duration": 14.926668,
     "end_time": "2025-07-30T21:31:52.200643",
     "exception": false,
     "start_time": "2025-07-30T21:31:37.273975",
     "status": "completed"
    },
    "tags": []
   },
   "outputs": [
    {
     "name": "stderr",
     "output_type": "stream",
     "text": [
      "/dss/dsshome1/0C/ra93lal2/.local/share/virtualenvs/CMA_Fairness_v2-3j10GkSs/lib/python3.10/site-packages/sklearn/linear_model/_sag.py:350: ConvergenceWarning: The max_iter was reached which means the coef_ did not converge\n",
      "  warnings.warn(\n"
     ]
    },
    {
     "data": {
      "text/html": [
       "<style>#sk-container-id-1 {color: black;background-color: white;}#sk-container-id-1 pre{padding: 0;}#sk-container-id-1 div.sk-toggleable {background-color: white;}#sk-container-id-1 label.sk-toggleable__label {cursor: pointer;display: block;width: 100%;margin-bottom: 0;padding: 0.3em;box-sizing: border-box;text-align: center;}#sk-container-id-1 label.sk-toggleable__label-arrow:before {content: \"▸\";float: left;margin-right: 0.25em;color: #696969;}#sk-container-id-1 label.sk-toggleable__label-arrow:hover:before {color: black;}#sk-container-id-1 div.sk-estimator:hover label.sk-toggleable__label-arrow:before {color: black;}#sk-container-id-1 div.sk-toggleable__content {max-height: 0;max-width: 0;overflow: hidden;text-align: left;background-color: #f0f8ff;}#sk-container-id-1 div.sk-toggleable__content pre {margin: 0.2em;color: black;border-radius: 0.25em;background-color: #f0f8ff;}#sk-container-id-1 input.sk-toggleable__control:checked~div.sk-toggleable__content {max-height: 200px;max-width: 100%;overflow: auto;}#sk-container-id-1 input.sk-toggleable__control:checked~label.sk-toggleable__label-arrow:before {content: \"▾\";}#sk-container-id-1 div.sk-estimator input.sk-toggleable__control:checked~label.sk-toggleable__label {background-color: #d4ebff;}#sk-container-id-1 div.sk-label input.sk-toggleable__control:checked~label.sk-toggleable__label {background-color: #d4ebff;}#sk-container-id-1 input.sk-hidden--visually {border: 0;clip: rect(1px 1px 1px 1px);clip: rect(1px, 1px, 1px, 1px);height: 1px;margin: -1px;overflow: hidden;padding: 0;position: absolute;width: 1px;}#sk-container-id-1 div.sk-estimator {font-family: monospace;background-color: #f0f8ff;border: 1px dotted black;border-radius: 0.25em;box-sizing: border-box;margin-bottom: 0.5em;}#sk-container-id-1 div.sk-estimator:hover {background-color: #d4ebff;}#sk-container-id-1 div.sk-parallel-item::after {content: \"\";width: 100%;border-bottom: 1px solid gray;flex-grow: 1;}#sk-container-id-1 div.sk-label:hover label.sk-toggleable__label {background-color: #d4ebff;}#sk-container-id-1 div.sk-serial::before {content: \"\";position: absolute;border-left: 1px solid gray;box-sizing: border-box;top: 0;bottom: 0;left: 50%;z-index: 0;}#sk-container-id-1 div.sk-serial {display: flex;flex-direction: column;align-items: center;background-color: white;padding-right: 0.2em;padding-left: 0.2em;position: relative;}#sk-container-id-1 div.sk-item {position: relative;z-index: 1;}#sk-container-id-1 div.sk-parallel {display: flex;align-items: stretch;justify-content: center;background-color: white;position: relative;}#sk-container-id-1 div.sk-item::before, #sk-container-id-1 div.sk-parallel-item::before {content: \"\";position: absolute;border-left: 1px solid gray;box-sizing: border-box;top: 0;bottom: 0;left: 50%;z-index: -1;}#sk-container-id-1 div.sk-parallel-item {display: flex;flex-direction: column;z-index: 1;position: relative;background-color: white;}#sk-container-id-1 div.sk-parallel-item:first-child::after {align-self: flex-end;width: 50%;}#sk-container-id-1 div.sk-parallel-item:last-child::after {align-self: flex-start;width: 50%;}#sk-container-id-1 div.sk-parallel-item:only-child::after {width: 0;}#sk-container-id-1 div.sk-dashed-wrapped {border: 1px dashed gray;margin: 0 0.4em 0.5em 0.4em;box-sizing: border-box;padding-bottom: 0.4em;background-color: white;}#sk-container-id-1 div.sk-label label {font-family: monospace;font-weight: bold;display: inline-block;line-height: 1.2em;}#sk-container-id-1 div.sk-label-container {text-align: center;}#sk-container-id-1 div.sk-container {/* jupyter's `normalize.less` sets `[hidden] { display: none; }` but bootstrap.min.css set `[hidden] { display: none !important; }` so we also need the `!important` here to be able to override the default hidden behavior on the sphinx rendered scikit-learn.org. See: https://github.com/scikit-learn/scikit-learn/issues/21755 */display: inline-block !important;position: relative;}#sk-container-id-1 div.sk-text-repr-fallback {display: none;}</style><div id=\"sk-container-id-1\" class=\"sk-top-container\"><div class=\"sk-text-repr-fallback\"><pre>Pipeline(steps=[(&#x27;scale&#x27;, None),\n",
       "                (&#x27;model&#x27;,\n",
       "                 LogisticRegression(l1_ratio=0.5, max_iter=5000,\n",
       "                                    penalty=&#x27;elasticnet&#x27;, solver=&#x27;saga&#x27;))])</pre><b>In a Jupyter environment, please rerun this cell to show the HTML representation or trust the notebook. <br />On GitHub, the HTML representation is unable to render, please try loading this page with nbviewer.org.</b></div><div class=\"sk-container\" hidden><div class=\"sk-item sk-dashed-wrapped\"><div class=\"sk-label-container\"><div class=\"sk-label sk-toggleable\"><input class=\"sk-toggleable__control sk-hidden--visually\" id=\"sk-estimator-id-1\" type=\"checkbox\" ><label for=\"sk-estimator-id-1\" class=\"sk-toggleable__label sk-toggleable__label-arrow\">Pipeline</label><div class=\"sk-toggleable__content\"><pre>Pipeline(steps=[(&#x27;scale&#x27;, None),\n",
       "                (&#x27;model&#x27;,\n",
       "                 LogisticRegression(l1_ratio=0.5, max_iter=5000,\n",
       "                                    penalty=&#x27;elasticnet&#x27;, solver=&#x27;saga&#x27;))])</pre></div></div></div><div class=\"sk-serial\"><div class=\"sk-item\"><div class=\"sk-estimator sk-toggleable\"><input class=\"sk-toggleable__control sk-hidden--visually\" id=\"sk-estimator-id-2\" type=\"checkbox\" ><label for=\"sk-estimator-id-2\" class=\"sk-toggleable__label sk-toggleable__label-arrow\">None</label><div class=\"sk-toggleable__content\"><pre>None</pre></div></div></div><div class=\"sk-item\"><div class=\"sk-estimator sk-toggleable\"><input class=\"sk-toggleable__control sk-hidden--visually\" id=\"sk-estimator-id-3\" type=\"checkbox\" ><label for=\"sk-estimator-id-3\" class=\"sk-toggleable__label sk-toggleable__label-arrow\">LogisticRegression</label><div class=\"sk-toggleable__content\"><pre>LogisticRegression(l1_ratio=0.5, max_iter=5000, penalty=&#x27;elasticnet&#x27;,\n",
       "                   solver=&#x27;saga&#x27;)</pre></div></div></div></div></div></div></div>"
      ],
      "text/plain": [
       "Pipeline(steps=[('scale', None),\n",
       "                ('model',\n",
       "                 LogisticRegression(l1_ratio=0.5, max_iter=5000,\n",
       "                                    penalty='elasticnet', solver='saga'))])"
      ]
     },
     "execution_count": 43,
     "metadata": {},
     "output_type": "execute_result"
    }
   ],
   "source": [
    "model.fit(X_train, y_train.values.ravel())"
   ]
  },
  {
   "cell_type": "code",
   "execution_count": 44,
   "id": "af59f8c0",
   "metadata": {
    "execution": {
     "iopub.execute_input": "2025-07-30T21:31:52.249056Z",
     "iopub.status.busy": "2025-07-30T21:31:52.248010Z",
     "iopub.status.idle": "2025-07-30T21:31:52.253452Z",
     "shell.execute_reply": "2025-07-30T21:31:52.252516Z"
    },
    "papermill": {
     "duration": 0.030169,
     "end_time": "2025-07-30T21:31:52.255082",
     "exception": false,
     "start_time": "2025-07-30T21:31:52.224913",
     "status": "completed"
    },
    "tags": []
   },
   "outputs": [],
   "source": [
    "from fairness_multiverse.universe import predict_w_threshold"
   ]
  },
  {
   "cell_type": "code",
   "execution_count": 45,
   "id": "a7cf2e16",
   "metadata": {
    "execution": {
     "iopub.execute_input": "2025-07-30T21:31:52.299667Z",
     "iopub.status.busy": "2025-07-30T21:31:52.299051Z",
     "iopub.status.idle": "2025-07-30T21:31:52.399912Z",
     "shell.execute_reply": "2025-07-30T21:31:52.398936Z"
    },
    "papermill": {
     "duration": 0.124268,
     "end_time": "2025-07-30T21:31:52.401484",
     "exception": false,
     "start_time": "2025-07-30T21:31:52.277216",
     "status": "completed"
    },
    "tags": []
   },
   "outputs": [
    {
     "data": {
      "text/plain": [
       "0.8487571062311894"
      ]
     },
     "execution_count": 45,
     "metadata": {},
     "output_type": "execute_result"
    }
   ],
   "source": [
    "probs_test = model.predict_proba(X_test)\n",
    "\n",
    "'''\n",
    "Below code returns a boolean array (or binary 0/1 array depending on how it’s used) where each element \n",
    "is True if the probability of class 1 is greater than or equal to the threshold, and False otherwise.\n",
    "'''\n",
    "y_pred_default = predict_w_threshold(probs_test, 0.5)\n",
    "\n",
    "from sklearn.metrics import accuracy_score\n",
    "\n",
    "# Naive prediction\n",
    "accuracy_score(y_true = y_true, y_pred = y_pred_default)"
   ]
  },
  {
   "cell_type": "code",
   "execution_count": 46,
   "id": "081964c3",
   "metadata": {
    "execution": {
     "iopub.execute_input": "2025-07-30T21:31:52.446143Z",
     "iopub.status.busy": "2025-07-30T21:31:52.445568Z",
     "iopub.status.idle": "2025-07-30T21:31:52.530563Z",
     "shell.execute_reply": "2025-07-30T21:31:52.529675Z"
    },
    "papermill": {
     "duration": 0.108653,
     "end_time": "2025-07-30T21:31:52.532283",
     "exception": false,
     "start_time": "2025-07-30T21:31:52.423630",
     "status": "completed"
    },
    "tags": []
   },
   "outputs": [
    {
     "data": {
      "text/plain": [
       "array([0, 0, 0, ..., 0, 0, 0])"
      ]
     },
     "execution_count": 46,
     "metadata": {},
     "output_type": "execute_result"
    }
   ],
   "source": [
    "model.predict(X_test)"
   ]
  },
  {
   "cell_type": "markdown",
   "id": "56c9705b",
   "metadata": {
    "papermill": {
     "duration": 0.02127,
     "end_time": "2025-07-30T21:31:52.576141",
     "exception": false,
     "start_time": "2025-07-30T21:31:52.554871",
     "status": "completed"
    },
    "tags": []
   },
   "source": [
    "# Conformal Prediction"
   ]
  },
  {
   "cell_type": "code",
   "execution_count": 47,
   "id": "160ec6ff",
   "metadata": {
    "execution": {
     "iopub.execute_input": "2025-07-30T21:31:52.620257Z",
     "iopub.status.busy": "2025-07-30T21:31:52.619620Z",
     "iopub.status.idle": "2025-07-30T21:31:52.624798Z",
     "shell.execute_reply": "2025-07-30T21:31:52.623816Z"
    },
    "papermill": {
     "duration": 0.029006,
     "end_time": "2025-07-30T21:31:52.626177",
     "exception": false,
     "start_time": "2025-07-30T21:31:52.597171",
     "status": "completed"
    },
    "tags": []
   },
   "outputs": [],
   "source": [
    "# Miscoverage level for conformal prediction (10% allowed error rate => 90% target coverage)\n",
    "alpha = 0.1"
   ]
  },
  {
   "cell_type": "code",
   "execution_count": 48,
   "id": "eadf4555-3dd3-440e-8e35-f82a4ad9f855",
   "metadata": {
    "execution": {
     "iopub.execute_input": "2025-07-30T21:31:52.671131Z",
     "iopub.status.busy": "2025-07-30T21:31:52.670548Z",
     "iopub.status.idle": "2025-07-30T21:31:52.747670Z",
     "shell.execute_reply": "2025-07-30T21:31:52.746796Z"
    },
    "papermill": {
     "duration": 0.101498,
     "end_time": "2025-07-30T21:31:52.749536",
     "exception": false,
     "start_time": "2025-07-30T21:31:52.648038",
     "status": "completed"
    },
    "tags": []
   },
   "outputs": [],
   "source": [
    "probs_calib = model.predict_proba(X_calib)"
   ]
  },
  {
   "cell_type": "code",
   "execution_count": 49,
   "id": "2ed93547-6d5d-4983-9b36-1ecb300da49a",
   "metadata": {
    "execution": {
     "iopub.execute_input": "2025-07-30T21:31:52.796637Z",
     "iopub.status.busy": "2025-07-30T21:31:52.795992Z",
     "iopub.status.idle": "2025-07-30T21:31:52.801615Z",
     "shell.execute_reply": "2025-07-30T21:31:52.800735Z"
    },
    "papermill": {
     "duration": 0.03027,
     "end_time": "2025-07-30T21:31:52.803107",
     "exception": false,
     "start_time": "2025-07-30T21:31:52.772837",
     "status": "completed"
    },
    "tags": []
   },
   "outputs": [],
   "source": [
    "y_calib = y_calib.values.ravel().astype(int)"
   ]
  },
  {
   "cell_type": "code",
   "execution_count": 50,
   "id": "65d1320d-f588-4b38-9072-62af1ae97f7d",
   "metadata": {
    "execution": {
     "iopub.execute_input": "2025-07-30T21:31:52.850661Z",
     "iopub.status.busy": "2025-07-30T21:31:52.849934Z",
     "iopub.status.idle": "2025-07-30T21:31:52.856772Z",
     "shell.execute_reply": "2025-07-30T21:31:52.855898Z"
    },
    "papermill": {
     "duration": 0.030684,
     "end_time": "2025-07-30T21:31:52.858292",
     "exception": false,
     "start_time": "2025-07-30T21:31:52.827608",
     "status": "completed"
    },
    "tags": []
   },
   "outputs": [],
   "source": [
    "from fairness_multiverse.conformal import compute_nc_scores\n",
    "\n",
    "# Compute nonconformity scores on calibration set (1 - probability of true class)\n",
    "nc_scores = compute_nc_scores(probs_calib, y_calib)"
   ]
  },
  {
   "cell_type": "code",
   "execution_count": 51,
   "id": "df3b8ca3-53b7-43d5-9667-7c85da7aeda2",
   "metadata": {
    "execution": {
     "iopub.execute_input": "2025-07-30T21:31:52.903841Z",
     "iopub.status.busy": "2025-07-30T21:31:52.903279Z",
     "iopub.status.idle": "2025-07-30T21:31:52.909336Z",
     "shell.execute_reply": "2025-07-30T21:31:52.908576Z"
    },
    "papermill": {
     "duration": 0.030354,
     "end_time": "2025-07-30T21:31:52.910756",
     "exception": false,
     "start_time": "2025-07-30T21:31:52.880402",
     "status": "completed"
    },
    "tags": []
   },
   "outputs": [],
   "source": [
    "from fairness_multiverse.conformal import find_threshold\n",
    "\n",
    "# Find conformal threshold q_hat for the given alpha (split conformal method)\n",
    "q_hat = find_threshold(nc_scores, alpha)"
   ]
  },
  {
   "cell_type": "code",
   "execution_count": 52,
   "id": "4d29e6c1-0ef6-4aa4-b8fe-4fe79b0d033a",
   "metadata": {
    "execution": {
     "iopub.execute_input": "2025-07-30T21:31:52.956559Z",
     "iopub.status.busy": "2025-07-30T21:31:52.956122Z",
     "iopub.status.idle": "2025-07-30T21:31:52.962541Z",
     "shell.execute_reply": "2025-07-30T21:31:52.961603Z"
    },
    "papermill": {
     "duration": 0.030348,
     "end_time": "2025-07-30T21:31:52.964002",
     "exception": false,
     "start_time": "2025-07-30T21:31:52.933654",
     "status": "completed"
    },
    "tags": []
   },
   "outputs": [
    {
     "data": {
      "text/plain": [
       "0.6771811696244842"
      ]
     },
     "execution_count": 52,
     "metadata": {},
     "output_type": "execute_result"
    }
   ],
   "source": [
    "q_hat"
   ]
  },
  {
   "cell_type": "code",
   "execution_count": 53,
   "id": "92460794-cdac-4be2-ba28-f28c0515a6fb",
   "metadata": {
    "execution": {
     "iopub.execute_input": "2025-07-30T21:31:53.011153Z",
     "iopub.status.busy": "2025-07-30T21:31:53.010285Z",
     "iopub.status.idle": "2025-07-30T21:31:53.686972Z",
     "shell.execute_reply": "2025-07-30T21:31:53.686082Z"
    },
    "papermill": {
     "duration": 0.702334,
     "end_time": "2025-07-30T21:31:53.688727",
     "exception": false,
     "start_time": "2025-07-30T21:31:52.986393",
     "status": "completed"
    },
    "tags": []
   },
   "outputs": [],
   "source": [
    "from fairness_multiverse.conformal import predict_conformal_sets\n",
    "\n",
    "# Generate prediction sets for each test example\n",
    "pred_sets = predict_conformal_sets(model, X_test, q_hat)"
   ]
  },
  {
   "cell_type": "code",
   "execution_count": 54,
   "id": "d90c9a65-e6db-4f5d-80cd-e68fb7e46829",
   "metadata": {
    "execution": {
     "iopub.execute_input": "2025-07-30T21:31:53.738120Z",
     "iopub.status.busy": "2025-07-30T21:31:53.737751Z",
     "iopub.status.idle": "2025-07-30T21:31:53.742725Z",
     "shell.execute_reply": "2025-07-30T21:31:53.742046Z"
    },
    "papermill": {
     "duration": 0.032521,
     "end_time": "2025-07-30T21:31:53.743980",
     "exception": false,
     "start_time": "2025-07-30T21:31:53.711459",
     "status": "completed"
    },
    "tags": []
   },
   "outputs": [],
   "source": [
    "y_true = y_true.squeeze()"
   ]
  },
  {
   "cell_type": "code",
   "execution_count": 55,
   "id": "3a58a54a-1e68-46b9-927a-df01f18aebc8",
   "metadata": {
    "execution": {
     "iopub.execute_input": "2025-07-30T21:31:53.779662Z",
     "iopub.status.busy": "2025-07-30T21:31:53.779205Z",
     "iopub.status.idle": "2025-07-30T21:31:54.421479Z",
     "shell.execute_reply": "2025-07-30T21:31:54.420494Z"
    },
    "papermill": {
     "duration": 0.666446,
     "end_time": "2025-07-30T21:31:54.422928",
     "exception": false,
     "start_time": "2025-07-30T21:31:53.756482",
     "status": "completed"
    },
    "tags": []
   },
   "outputs": [],
   "source": [
    "from fairness_multiverse.conformal import evaluate_sets\n",
    "\n",
    "# Evaluate coverage and average set size on test data\n",
    "metrics = evaluate_sets(pred_sets, y_true)"
   ]
  },
  {
   "cell_type": "markdown",
   "id": "2b569c12-9aaa-4c88-98c9-bbcd0cf3ebb8",
   "metadata": {
    "papermill": {
     "duration": 0.012203,
     "end_time": "2025-07-30T21:31:54.448477",
     "exception": false,
     "start_time": "2025-07-30T21:31:54.436274",
     "status": "completed"
    },
    "tags": []
   },
   "source": [
    "# CP Metrics"
   ]
  },
  {
   "cell_type": "code",
   "execution_count": 56,
   "id": "5ce0a5cb-201f-45a0-ade5-94c7f0bd6095",
   "metadata": {
    "execution": {
     "iopub.execute_input": "2025-07-30T21:31:54.475275Z",
     "iopub.status.busy": "2025-07-30T21:31:54.474728Z",
     "iopub.status.idle": "2025-07-30T21:31:54.482152Z",
     "shell.execute_reply": "2025-07-30T21:31:54.481449Z"
    },
    "papermill": {
     "duration": 0.0224,
     "end_time": "2025-07-30T21:31:54.483462",
     "exception": false,
     "start_time": "2025-07-30T21:31:54.461062",
     "status": "completed"
    },
    "tags": []
   },
   "outputs": [
    {
     "data": {
      "text/plain": [
       "{'coverage': 0.9101437966781852, 'avg_size': 1.2515773046483112}"
      ]
     },
     "execution_count": 56,
     "metadata": {},
     "output_type": "execute_result"
    }
   ],
   "source": [
    "metrics"
   ]
  },
  {
   "cell_type": "code",
   "execution_count": 57,
   "id": "9b9a838d-31c9-430b-ae14-12baee460d17",
   "metadata": {
    "execution": {
     "iopub.execute_input": "2025-07-30T21:31:54.510294Z",
     "iopub.status.busy": "2025-07-30T21:31:54.509947Z",
     "iopub.status.idle": "2025-07-30T21:31:54.514914Z",
     "shell.execute_reply": "2025-07-30T21:31:54.514233Z"
    },
    "papermill": {
     "duration": 0.01965,
     "end_time": "2025-07-30T21:31:54.516239",
     "exception": false,
     "start_time": "2025-07-30T21:31:54.496589",
     "status": "completed"
    },
    "tags": []
   },
   "outputs": [],
   "source": [
    "example_universe = universe.copy()\n",
    "universe_training_year = example_universe.get(\"training_year\")\n",
    "universe_training_size = example_universe.get(\"training_size\")\n",
    "universe_scale = example_universe.get(\"scale\")\n",
    "universe_model = example_universe.get(\"model\")\n",
    "universe_exclude_features = example_universe.get(\"exclude_features\")\n",
    "universe_exclude_subgroups = example_universe.get(\"exclude_subgroups\")"
   ]
  },
  {
   "cell_type": "code",
   "execution_count": 58,
   "id": "f4b6a8ac-9dc0-4245-8a91-5b3b5999c4f9",
   "metadata": {
    "execution": {
     "iopub.execute_input": "2025-07-30T21:31:54.542684Z",
     "iopub.status.busy": "2025-07-30T21:31:54.542208Z",
     "iopub.status.idle": "2025-07-30T21:31:54.547264Z",
     "shell.execute_reply": "2025-07-30T21:31:54.546521Z"
    },
    "papermill": {
     "duration": 0.019797,
     "end_time": "2025-07-30T21:31:54.548597",
     "exception": false,
     "start_time": "2025-07-30T21:31:54.528800",
     "status": "completed"
    },
    "tags": []
   },
   "outputs": [],
   "source": [
    "cp_metrics_dict = {\n",
    "    \"universe_id\": [universe_id],\n",
    "    \"universe_training_year\": [universe_training_year],\n",
    "    \"universe_training_size\": [universe_training_size],\n",
    "    \"universe_scale\": [universe_scale],\n",
    "    \"universe_model\": [universe_model],\n",
    "    \"universe_exclude_features\": [universe_exclude_features],\n",
    "    \"universe_exclude_subgroups\": [universe_exclude_subgroups],\n",
    "    \"q_hat\": [q_hat],\n",
    "    \"coverage\": [metrics[\"coverage\"]],\n",
    "    \"avg_size\": [metrics[\"avg_size\"]],\n",
    "}"
   ]
  },
  {
   "cell_type": "code",
   "execution_count": 59,
   "id": "908acbb1-0371-4915-85ca-3fa520d2efe2",
   "metadata": {
    "execution": {
     "iopub.execute_input": "2025-07-30T21:31:54.574953Z",
     "iopub.status.busy": "2025-07-30T21:31:54.574575Z",
     "iopub.status.idle": "2025-07-30T21:31:54.580390Z",
     "shell.execute_reply": "2025-07-30T21:31:54.579688Z"
    },
    "papermill": {
     "duration": 0.020018,
     "end_time": "2025-07-30T21:31:54.581620",
     "exception": false,
     "start_time": "2025-07-30T21:31:54.561602",
     "status": "completed"
    },
    "tags": []
   },
   "outputs": [
    {
     "data": {
      "text/plain": [
       "{'universe_id': ['523b4d52292fbf0322ce0d3ad7b649bd'],\n",
       " 'universe_training_year': ['2014'],\n",
       " 'universe_training_size': ['1k'],\n",
       " 'universe_scale': ['do-not-scale'],\n",
       " 'universe_model': ['elasticnet'],\n",
       " 'universe_exclude_features': ['none'],\n",
       " 'universe_exclude_subgroups': ['drop-non-german'],\n",
       " 'q_hat': [0.6771811696244842],\n",
       " 'coverage': [0.9101437966781852],\n",
       " 'avg_size': [1.2515773046483112]}"
      ]
     },
     "execution_count": 59,
     "metadata": {},
     "output_type": "execute_result"
    }
   ],
   "source": [
    "cp_metrics_dict"
   ]
  },
  {
   "cell_type": "code",
   "execution_count": 60,
   "id": "33007efc-14e9-4ec6-97ac-56a455c82265",
   "metadata": {
    "execution": {
     "iopub.execute_input": "2025-07-30T21:31:54.608083Z",
     "iopub.status.busy": "2025-07-30T21:31:54.607594Z",
     "iopub.status.idle": "2025-07-30T21:31:54.612850Z",
     "shell.execute_reply": "2025-07-30T21:31:54.612097Z"
    },
    "papermill": {
     "duration": 0.019866,
     "end_time": "2025-07-30T21:31:54.614144",
     "exception": false,
     "start_time": "2025-07-30T21:31:54.594278",
     "status": "completed"
    },
    "tags": []
   },
   "outputs": [],
   "source": [
    "cp_metrics_df = pd.DataFrame(cp_metrics_dict)"
   ]
  },
  {
   "cell_type": "code",
   "execution_count": 61,
   "id": "db12611b-57b2-4910-b9d0-355adfd6e7bf",
   "metadata": {
    "execution": {
     "iopub.execute_input": "2025-07-30T21:31:54.640838Z",
     "iopub.status.busy": "2025-07-30T21:31:54.640362Z",
     "iopub.status.idle": "2025-07-30T21:31:54.654076Z",
     "shell.execute_reply": "2025-07-30T21:31:54.653423Z"
    },
    "papermill": {
     "duration": 0.028195,
     "end_time": "2025-07-30T21:31:54.655276",
     "exception": false,
     "start_time": "2025-07-30T21:31:54.627081",
     "status": "completed"
    },
    "tags": []
   },
   "outputs": [
    {
     "data": {
      "text/html": [
       "<div>\n",
       "<style scoped>\n",
       "    .dataframe tbody tr th:only-of-type {\n",
       "        vertical-align: middle;\n",
       "    }\n",
       "\n",
       "    .dataframe tbody tr th {\n",
       "        vertical-align: top;\n",
       "    }\n",
       "\n",
       "    .dataframe thead th {\n",
       "        text-align: right;\n",
       "    }\n",
       "</style>\n",
       "<table border=\"1\" class=\"dataframe\">\n",
       "  <thead>\n",
       "    <tr style=\"text-align: right;\">\n",
       "      <th></th>\n",
       "      <th>universe_id</th>\n",
       "      <th>universe_training_year</th>\n",
       "      <th>universe_training_size</th>\n",
       "      <th>universe_scale</th>\n",
       "      <th>universe_model</th>\n",
       "      <th>universe_exclude_features</th>\n",
       "      <th>universe_exclude_subgroups</th>\n",
       "      <th>q_hat</th>\n",
       "      <th>coverage</th>\n",
       "      <th>avg_size</th>\n",
       "    </tr>\n",
       "  </thead>\n",
       "  <tbody>\n",
       "    <tr>\n",
       "      <th>0</th>\n",
       "      <td>523b4d52292fbf0322ce0d3ad7b649bd</td>\n",
       "      <td>2014</td>\n",
       "      <td>1k</td>\n",
       "      <td>do-not-scale</td>\n",
       "      <td>elasticnet</td>\n",
       "      <td>none</td>\n",
       "      <td>drop-non-german</td>\n",
       "      <td>0.677181</td>\n",
       "      <td>0.910144</td>\n",
       "      <td>1.251577</td>\n",
       "    </tr>\n",
       "  </tbody>\n",
       "</table>\n",
       "</div>"
      ],
      "text/plain": [
       "                        universe_id universe_training_year  \\\n",
       "0  523b4d52292fbf0322ce0d3ad7b649bd                   2014   \n",
       "\n",
       "  universe_training_size universe_scale universe_model  \\\n",
       "0                     1k   do-not-scale     elasticnet   \n",
       "\n",
       "  universe_exclude_features universe_exclude_subgroups     q_hat  coverage  \\\n",
       "0                      none            drop-non-german  0.677181  0.910144   \n",
       "\n",
       "   avg_size  \n",
       "0  1.251577  "
      ]
     },
     "execution_count": 61,
     "metadata": {},
     "output_type": "execute_result"
    }
   ],
   "source": [
    "cp_metrics_df"
   ]
  },
  {
   "cell_type": "code",
   "execution_count": 62,
   "id": "b7fbde55-a0a1-47e4-9af6-fe4a17fa8c61",
   "metadata": {
    "execution": {
     "iopub.execute_input": "2025-07-30T21:31:54.682540Z",
     "iopub.status.busy": "2025-07-30T21:31:54.681923Z",
     "iopub.status.idle": "2025-07-30T21:31:54.686100Z",
     "shell.execute_reply": "2025-07-30T21:31:54.685429Z"
    },
    "papermill": {
     "duration": 0.019159,
     "end_time": "2025-07-30T21:31:54.687527",
     "exception": false,
     "start_time": "2025-07-30T21:31:54.668368",
     "status": "completed"
    },
    "tags": []
   },
   "outputs": [],
   "source": [
    "# Conditional Coverage & looking at subgroups"
   ]
  },
  {
   "cell_type": "code",
   "execution_count": 63,
   "id": "027ae886-68dd-4141-96c7-805a5450e1ef",
   "metadata": {
    "execution": {
     "iopub.execute_input": "2025-07-30T21:31:54.715114Z",
     "iopub.status.busy": "2025-07-30T21:31:54.714509Z",
     "iopub.status.idle": "2025-07-30T21:31:54.906940Z",
     "shell.execute_reply": "2025-07-30T21:31:54.905900Z"
    },
    "papermill": {
     "duration": 0.208071,
     "end_time": "2025-07-30T21:31:54.908809",
     "exception": false,
     "start_time": "2025-07-30T21:31:54.700738",
     "status": "completed"
    },
    "tags": []
   },
   "outputs": [],
   "source": [
    "from fairness_multiverse.conformal import build_cp_groups\n",
    "\n",
    "cp_groups_df = build_cp_groups(pred_sets, y_true, X_test.index, org_test)\n",
    "#needs universe_id and setting"
   ]
  },
  {
   "cell_type": "code",
   "execution_count": 64,
   "id": "01d5802c-663a-4d1f-9d69-e036faaffbf7",
   "metadata": {
    "execution": {
     "iopub.execute_input": "2025-07-30T21:31:54.960713Z",
     "iopub.status.busy": "2025-07-30T21:31:54.960196Z",
     "iopub.status.idle": "2025-07-30T21:31:54.965105Z",
     "shell.execute_reply": "2025-07-30T21:31:54.964115Z"
    },
    "papermill": {
     "duration": 0.033038,
     "end_time": "2025-07-30T21:31:54.966877",
     "exception": false,
     "start_time": "2025-07-30T21:31:54.933839",
     "status": "completed"
    },
    "tags": []
   },
   "outputs": [],
   "source": [
    "#delete\n",
    "#cp_groups_df"
   ]
  },
  {
   "cell_type": "code",
   "execution_count": 65,
   "id": "fa424af1-d1eb-443d-b717-2d279ada8408",
   "metadata": {
    "execution": {
     "iopub.execute_input": "2025-07-30T21:31:55.007191Z",
     "iopub.status.busy": "2025-07-30T21:31:55.006847Z",
     "iopub.status.idle": "2025-07-30T21:31:55.011023Z",
     "shell.execute_reply": "2025-07-30T21:31:55.010169Z"
    },
    "papermill": {
     "duration": 0.020203,
     "end_time": "2025-07-30T21:31:55.012576",
     "exception": false,
     "start_time": "2025-07-30T21:31:54.992373",
     "status": "completed"
    },
    "tags": []
   },
   "outputs": [],
   "source": [
    "#delete\n",
    "#percentage = (cp_groups_df['nongerman_female'] == 1).mean() * 100\n",
    "#print(percentage)\n"
   ]
  },
  {
   "cell_type": "code",
   "execution_count": 66,
   "id": "6cbdab96-b2b2-45af-ad54-d0516db2e28d",
   "metadata": {
    "execution": {
     "iopub.execute_input": "2025-07-30T21:31:55.067292Z",
     "iopub.status.busy": "2025-07-30T21:31:55.066894Z",
     "iopub.status.idle": "2025-07-30T21:31:56.642519Z",
     "shell.execute_reply": "2025-07-30T21:31:56.641467Z"
    },
    "papermill": {
     "duration": 1.605148,
     "end_time": "2025-07-30T21:31:56.644804",
     "exception": false,
     "start_time": "2025-07-30T21:31:55.039656",
     "status": "completed"
    },
    "tags": []
   },
   "outputs": [],
   "source": [
    "# Define covered = 1 if true_label is in the predicted set\n",
    "cp_groups_df['covered'] = cp_groups_df.apply(\n",
    "    lambda r: int(r['true_label'] in r['pred_set']),\n",
    "    axis=1\n",
    ")"
   ]
  },
  {
   "cell_type": "code",
   "execution_count": 67,
   "id": "338ff529-1a6b-4b87-a931-8e4788d52aad",
   "metadata": {
    "execution": {
     "iopub.execute_input": "2025-07-30T21:31:56.719110Z",
     "iopub.status.busy": "2025-07-30T21:31:56.718359Z",
     "iopub.status.idle": "2025-07-30T21:31:56.722849Z",
     "shell.execute_reply": "2025-07-30T21:31:56.722196Z"
    },
    "papermill": {
     "duration": 0.044446,
     "end_time": "2025-07-30T21:31:56.724190",
     "exception": false,
     "start_time": "2025-07-30T21:31:56.679744",
     "status": "completed"
    },
    "tags": []
   },
   "outputs": [],
   "source": [
    "#cp_groups_df"
   ]
  },
  {
   "cell_type": "code",
   "execution_count": 68,
   "id": "90032e27-66df-4540-9169-4e89cfbaa758",
   "metadata": {
    "execution": {
     "iopub.execute_input": "2025-07-30T21:31:56.758564Z",
     "iopub.status.busy": "2025-07-30T21:31:56.758323Z",
     "iopub.status.idle": "2025-07-30T21:31:56.769183Z",
     "shell.execute_reply": "2025-07-30T21:31:56.768178Z"
    },
    "papermill": {
     "duration": 0.033189,
     "end_time": "2025-07-30T21:31:56.771021",
     "exception": false,
     "start_time": "2025-07-30T21:31:56.737832",
     "status": "completed"
    },
    "tags": []
   },
   "outputs": [],
   "source": [
    "subgroups = ['frau1','nongerman','nongerman_male','nongerman_female']\n",
    "\n",
    "# Conditional coverage for subgroup==1\n",
    "cond_coverage = {\n",
    "    g: cp_groups_df.loc[cp_groups_df[g]==1, 'covered'].mean()\n",
    "    for g in subgroups\n",
    "}"
   ]
  },
  {
   "cell_type": "code",
   "execution_count": 69,
   "id": "1e348fb1-b9c3-45bc-ba23-f016827a7e0d",
   "metadata": {
    "execution": {
     "iopub.execute_input": "2025-07-30T21:31:56.828454Z",
     "iopub.status.busy": "2025-07-30T21:31:56.827768Z",
     "iopub.status.idle": "2025-07-30T21:31:56.834799Z",
     "shell.execute_reply": "2025-07-30T21:31:56.833824Z"
    },
    "papermill": {
     "duration": 0.036575,
     "end_time": "2025-07-30T21:31:56.836099",
     "exception": false,
     "start_time": "2025-07-30T21:31:56.799524",
     "status": "completed"
    },
    "tags": []
   },
   "outputs": [
    {
     "data": {
      "text/plain": [
       "{'frau1': 0.9094756705755492,\n",
       " 'nongerman': 0.9476786616516027,\n",
       " 'nongerman_male': 0.9568585067098982,\n",
       " 'nongerman_female': 0.9324888226527571}"
      ]
     },
     "execution_count": 69,
     "metadata": {},
     "output_type": "execute_result"
    }
   ],
   "source": [
    "cond_coverage"
   ]
  },
  {
   "cell_type": "code",
   "execution_count": 70,
   "id": "f5093324-c3dd-4d63-bc4c-8d945e5c8bbb",
   "metadata": {
    "execution": {
     "iopub.execute_input": "2025-07-30T21:31:56.892606Z",
     "iopub.status.busy": "2025-07-30T21:31:56.892086Z",
     "iopub.status.idle": "2025-07-30T21:31:56.899832Z",
     "shell.execute_reply": "2025-07-30T21:31:56.898708Z"
    },
    "papermill": {
     "duration": 0.037433,
     "end_time": "2025-07-30T21:31:56.901459",
     "exception": false,
     "start_time": "2025-07-30T21:31:56.864026",
     "status": "completed"
    },
    "tags": []
   },
   "outputs": [],
   "source": [
    "for subgroup, cov in cond_coverage.items():\n",
    "    cp_metrics_df[f\"cov_{subgroup}\"] = cov"
   ]
  },
  {
   "cell_type": "code",
   "execution_count": 71,
   "id": "6e872e10-dbe5-49e8-b554-5030c98ff75d",
   "metadata": {
    "execution": {
     "iopub.execute_input": "2025-07-30T21:31:56.954783Z",
     "iopub.status.busy": "2025-07-30T21:31:56.954389Z",
     "iopub.status.idle": "2025-07-30T21:31:56.968677Z",
     "shell.execute_reply": "2025-07-30T21:31:56.967662Z"
    },
    "papermill": {
     "duration": 0.042222,
     "end_time": "2025-07-30T21:31:56.970393",
     "exception": false,
     "start_time": "2025-07-30T21:31:56.928171",
     "status": "completed"
    },
    "tags": []
   },
   "outputs": [
    {
     "data": {
      "text/html": [
       "<div>\n",
       "<style scoped>\n",
       "    .dataframe tbody tr th:only-of-type {\n",
       "        vertical-align: middle;\n",
       "    }\n",
       "\n",
       "    .dataframe tbody tr th {\n",
       "        vertical-align: top;\n",
       "    }\n",
       "\n",
       "    .dataframe thead th {\n",
       "        text-align: right;\n",
       "    }\n",
       "</style>\n",
       "<table border=\"1\" class=\"dataframe\">\n",
       "  <thead>\n",
       "    <tr style=\"text-align: right;\">\n",
       "      <th></th>\n",
       "      <th>universe_id</th>\n",
       "      <th>universe_training_year</th>\n",
       "      <th>universe_training_size</th>\n",
       "      <th>universe_scale</th>\n",
       "      <th>universe_model</th>\n",
       "      <th>universe_exclude_features</th>\n",
       "      <th>universe_exclude_subgroups</th>\n",
       "      <th>q_hat</th>\n",
       "      <th>coverage</th>\n",
       "      <th>avg_size</th>\n",
       "      <th>cov_frau1</th>\n",
       "      <th>cov_nongerman</th>\n",
       "      <th>cov_nongerman_male</th>\n",
       "      <th>cov_nongerman_female</th>\n",
       "    </tr>\n",
       "  </thead>\n",
       "  <tbody>\n",
       "    <tr>\n",
       "      <th>0</th>\n",
       "      <td>523b4d52292fbf0322ce0d3ad7b649bd</td>\n",
       "      <td>2014</td>\n",
       "      <td>1k</td>\n",
       "      <td>do-not-scale</td>\n",
       "      <td>elasticnet</td>\n",
       "      <td>none</td>\n",
       "      <td>drop-non-german</td>\n",
       "      <td>0.677181</td>\n",
       "      <td>0.910144</td>\n",
       "      <td>1.251577</td>\n",
       "      <td>0.909476</td>\n",
       "      <td>0.947679</td>\n",
       "      <td>0.956859</td>\n",
       "      <td>0.932489</td>\n",
       "    </tr>\n",
       "  </tbody>\n",
       "</table>\n",
       "</div>"
      ],
      "text/plain": [
       "                        universe_id universe_training_year  \\\n",
       "0  523b4d52292fbf0322ce0d3ad7b649bd                   2014   \n",
       "\n",
       "  universe_training_size universe_scale universe_model  \\\n",
       "0                     1k   do-not-scale     elasticnet   \n",
       "\n",
       "  universe_exclude_features universe_exclude_subgroups     q_hat  coverage  \\\n",
       "0                      none            drop-non-german  0.677181  0.910144   \n",
       "\n",
       "   avg_size  cov_frau1  cov_nongerman  cov_nongerman_male  \\\n",
       "0  1.251577   0.909476       0.947679            0.956859   \n",
       "\n",
       "   cov_nongerman_female  \n",
       "0              0.932489  "
      ]
     },
     "execution_count": 71,
     "metadata": {},
     "output_type": "execute_result"
    }
   ],
   "source": [
    "cp_metrics_df"
   ]
  },
  {
   "cell_type": "markdown",
   "id": "33774451",
   "metadata": {
    "papermill": {
     "duration": 0.015102,
     "end_time": "2025-07-30T21:31:57.011112",
     "exception": false,
     "start_time": "2025-07-30T21:31:56.996010",
     "status": "completed"
    },
    "tags": []
   },
   "source": [
    "# (Fairness) Metrics"
   ]
  },
  {
   "cell_type": "code",
   "execution_count": 72,
   "id": "debc5d62",
   "metadata": {
    "execution": {
     "iopub.execute_input": "2025-07-30T21:31:57.039365Z",
     "iopub.status.busy": "2025-07-30T21:31:57.038964Z",
     "iopub.status.idle": "2025-07-30T21:31:57.053400Z",
     "shell.execute_reply": "2025-07-30T21:31:57.052688Z"
    },
    "papermill": {
     "duration": 0.030237,
     "end_time": "2025-07-30T21:31:57.054734",
     "exception": false,
     "start_time": "2025-07-30T21:31:57.024497",
     "status": "completed"
    },
    "tags": []
   },
   "outputs": [],
   "source": [
    "# do I need to include maxdeutsch1.missing?\n",
    "\n",
    "import numpy as np\n",
    "\n",
    "colname_to_bin = \"maxdeutsch1\"\n",
    "majority_value = org_train[colname_to_bin].mode()[0]\n",
    "\n",
    "org_test[\"majmin\"] = np.where(org_test[colname_to_bin] == majority_value, \"majority\", \"minority\")"
   ]
  },
  {
   "cell_type": "code",
   "execution_count": 73,
   "id": "06a50de5",
   "metadata": {
    "execution": {
     "iopub.execute_input": "2025-07-30T21:31:57.084269Z",
     "iopub.status.busy": "2025-07-30T21:31:57.083740Z",
     "iopub.status.idle": "2025-07-30T21:31:59.395940Z",
     "shell.execute_reply": "2025-07-30T21:31:59.394830Z"
    },
    "papermill": {
     "duration": 2.328766,
     "end_time": "2025-07-30T21:31:59.397934",
     "exception": false,
     "start_time": "2025-07-30T21:31:57.069168",
     "status": "completed"
    },
    "tags": []
   },
   "outputs": [],
   "source": [
    "example_universe = universe.copy()\n",
    "example_universe[\"cutoff\"] = example_universe[\"cutoff\"][0]\n",
    "example_universe[\"eval_fairness_grouping\"] = example_universe[\"eval_fairness_grouping\"][0]\n",
    "fairness_dict, metric_frame = universe_analysis.compute_metrics(\n",
    "    example_universe,\n",
    "    y_pred_prob=probs_test,\n",
    "    y_test=y_true,\n",
    "    org_test=org_test,\n",
    ")"
   ]
  },
  {
   "cell_type": "markdown",
   "id": "f95d4e02",
   "metadata": {
    "papermill": {
     "duration": 0.025043,
     "end_time": "2025-07-30T21:31:59.453674",
     "exception": false,
     "start_time": "2025-07-30T21:31:59.428631",
     "status": "completed"
    },
    "tags": []
   },
   "source": [
    "# Overall"
   ]
  },
  {
   "cell_type": "markdown",
   "id": "bdee4871",
   "metadata": {
    "papermill": {
     "duration": 0.013016,
     "end_time": "2025-07-30T21:31:59.481150",
     "exception": false,
     "start_time": "2025-07-30T21:31:59.468134",
     "status": "completed"
    },
    "tags": []
   },
   "source": [
    "Fairness\n",
    "Main fairness target: Equalized Odds. Seems to be a better fit than equal opportunity, since we're not only interested in Y = 1. Seems to be a better fit than demographic parity, since we also care about accuracy, not just equal distribution of preds.\n",
    "\n",
    "Pick column for computation of fairness metrics\n",
    "\n",
    "Performance\n",
    "Overall performance measures, most interesting in relation to the measures split by group below"
   ]
  },
  {
   "cell_type": "code",
   "execution_count": 74,
   "id": "c4e067c6",
   "metadata": {
    "execution": {
     "iopub.execute_input": "2025-07-30T21:31:59.508927Z",
     "iopub.status.busy": "2025-07-30T21:31:59.508493Z",
     "iopub.status.idle": "2025-07-30T21:31:59.517706Z",
     "shell.execute_reply": "2025-07-30T21:31:59.516555Z"
    },
    "papermill": {
     "duration": 0.025112,
     "end_time": "2025-07-30T21:31:59.519204",
     "exception": false,
     "start_time": "2025-07-30T21:31:59.494092",
     "status": "completed"
    },
    "tags": []
   },
   "outputs": [
    {
     "data": {
      "text/plain": [
       "accuracy                   0.215416\n",
       "balanced accuracy          0.528599\n",
       "f1                         0.236994\n",
       "precision                  0.135387\n",
       "false positive rate        0.892663\n",
       "false negative rate        0.050139\n",
       "selection rate             0.900000\n",
       "count                  89710.000000\n",
       "dtype: float64"
      ]
     },
     "execution_count": 74,
     "metadata": {},
     "output_type": "execute_result"
    }
   ],
   "source": [
    "metric_frame.overall"
   ]
  },
  {
   "cell_type": "markdown",
   "id": "e968fe9d",
   "metadata": {
    "papermill": {
     "duration": 0.027577,
     "end_time": "2025-07-30T21:31:59.574050",
     "exception": false,
     "start_time": "2025-07-30T21:31:59.546473",
     "status": "completed"
    },
    "tags": []
   },
   "source": [
    "By Group"
   ]
  },
  {
   "cell_type": "code",
   "execution_count": 75,
   "id": "ec325bce",
   "metadata": {
    "execution": {
     "iopub.execute_input": "2025-07-30T21:31:59.630483Z",
     "iopub.status.busy": "2025-07-30T21:31:59.629984Z",
     "iopub.status.idle": "2025-07-30T21:31:59.646389Z",
     "shell.execute_reply": "2025-07-30T21:31:59.645335Z"
    },
    "papermill": {
     "duration": 0.046131,
     "end_time": "2025-07-30T21:31:59.648222",
     "exception": false,
     "start_time": "2025-07-30T21:31:59.602091",
     "status": "completed"
    },
    "tags": []
   },
   "outputs": [
    {
     "data": {
      "text/html": [
       "<div>\n",
       "<style scoped>\n",
       "    .dataframe tbody tr th:only-of-type {\n",
       "        vertical-align: middle;\n",
       "    }\n",
       "\n",
       "    .dataframe tbody tr th {\n",
       "        vertical-align: top;\n",
       "    }\n",
       "\n",
       "    .dataframe thead th {\n",
       "        text-align: right;\n",
       "    }\n",
       "</style>\n",
       "<table border=\"1\" class=\"dataframe\">\n",
       "  <thead>\n",
       "    <tr style=\"text-align: right;\">\n",
       "      <th></th>\n",
       "      <th>accuracy</th>\n",
       "      <th>balanced accuracy</th>\n",
       "      <th>f1</th>\n",
       "      <th>precision</th>\n",
       "      <th>false positive rate</th>\n",
       "      <th>false negative rate</th>\n",
       "      <th>selection rate</th>\n",
       "      <th>count</th>\n",
       "    </tr>\n",
       "    <tr>\n",
       "      <th>majmin</th>\n",
       "      <th></th>\n",
       "      <th></th>\n",
       "      <th></th>\n",
       "      <th></th>\n",
       "      <th></th>\n",
       "      <th></th>\n",
       "      <th></th>\n",
       "      <th></th>\n",
       "    </tr>\n",
       "  </thead>\n",
       "  <tbody>\n",
       "    <tr>\n",
       "      <th>majority</th>\n",
       "      <td>0.235622</td>\n",
       "      <td>0.535598</td>\n",
       "      <td>0.245935</td>\n",
       "      <td>0.141400</td>\n",
       "      <td>0.872131</td>\n",
       "      <td>0.056674</td>\n",
       "      <td>0.881538</td>\n",
       "      <td>69170.0</td>\n",
       "    </tr>\n",
       "    <tr>\n",
       "      <th>minority</th>\n",
       "      <td>0.147371</td>\n",
       "      <td>0.507298</td>\n",
       "      <td>0.208667</td>\n",
       "      <td>0.116834</td>\n",
       "      <td>0.960489</td>\n",
       "      <td>0.024916</td>\n",
       "      <td>0.962171</td>\n",
       "      <td>20540.0</td>\n",
       "    </tr>\n",
       "  </tbody>\n",
       "</table>\n",
       "</div>"
      ],
      "text/plain": [
       "          accuracy  balanced accuracy        f1  precision  \\\n",
       "majmin                                                       \n",
       "majority  0.235622           0.535598  0.245935   0.141400   \n",
       "minority  0.147371           0.507298  0.208667   0.116834   \n",
       "\n",
       "          false positive rate  false negative rate  selection rate    count  \n",
       "majmin                                                                       \n",
       "majority             0.872131             0.056674        0.881538  69170.0  \n",
       "minority             0.960489             0.024916        0.962171  20540.0  "
      ]
     },
     "execution_count": 75,
     "metadata": {},
     "output_type": "execute_result"
    }
   ],
   "source": [
    "metric_frame.by_group"
   ]
  },
  {
   "cell_type": "code",
   "execution_count": 76,
   "id": "a9ddbe63",
   "metadata": {
    "execution": {
     "iopub.execute_input": "2025-07-30T21:31:59.759300Z",
     "iopub.status.busy": "2025-07-30T21:31:59.758840Z",
     "iopub.status.idle": "2025-07-30T21:32:02.219047Z",
     "shell.execute_reply": "2025-07-30T21:32:02.218099Z"
    },
    "papermill": {
     "duration": 2.490802,
     "end_time": "2025-07-30T21:32:02.220634",
     "exception": false,
     "start_time": "2025-07-30T21:31:59.729832",
     "status": "completed"
    },
    "tags": []
   },
   "outputs": [
    {
     "data": {
      "text/plain": [
       "array([[<Axes: title={'center': 'accuracy'}, xlabel='majmin'>,\n",
       "        <Axes: title={'center': 'balanced accuracy'}, xlabel='majmin'>,\n",
       "        <Axes: title={'center': 'f1'}, xlabel='majmin'>],\n",
       "       [<Axes: title={'center': 'precision'}, xlabel='majmin'>,\n",
       "        <Axes: title={'center': 'false positive rate'}, xlabel='majmin'>,\n",
       "        <Axes: title={'center': 'false negative rate'}, xlabel='majmin'>],\n",
       "       [<Axes: title={'center': 'selection rate'}, xlabel='majmin'>,\n",
       "        <Axes: title={'center': 'count'}, xlabel='majmin'>,\n",
       "        <Axes: xlabel='majmin'>]], dtype=object)"
      ]
     },
     "execution_count": 76,
     "metadata": {},
     "output_type": "execute_result"
    },
    {
     "data": {
      "image/png": "[encoded data removed]",
      "text/plain": [
       "<Figure size 1200x800 with 9 Axes>"
      ]
     },
     "metadata": {},
     "output_type": "display_data"
    }
   ],
   "source": [
    "# In a graphic\n",
    "metric_frame.by_group.plot.bar(\n",
    "    subplots=True,\n",
    "    layout=[3, 3],\n",
    "    legend=False,\n",
    "    figsize=[12, 8],\n",
    "    title=\"Show all metrics\",\n",
    ")"
   ]
  },
  {
   "cell_type": "markdown",
   "id": "f57a0bac",
   "metadata": {
    "papermill": {
     "duration": 0.032172,
     "end_time": "2025-07-30T21:32:02.284407",
     "exception": false,
     "start_time": "2025-07-30T21:32:02.252235",
     "status": "completed"
    },
    "tags": []
   },
   "source": [
    "# Final Output"
   ]
  },
  {
   "cell_type": "code",
   "execution_count": 77,
   "id": "96d280a3",
   "metadata": {
    "execution": {
     "iopub.execute_input": "2025-07-30T21:32:02.349207Z",
     "iopub.status.busy": "2025-07-30T21:32:02.348195Z",
     "iopub.status.idle": "2025-07-30T21:32:02.357317Z",
     "shell.execute_reply": "2025-07-30T21:32:02.356318Z"
    },
    "papermill": {
     "duration": 0.04272,
     "end_time": "2025-07-30T21:32:02.358933",
     "exception": false,
     "start_time": "2025-07-30T21:32:02.316213",
     "status": "completed"
    },
    "tags": []
   },
   "outputs": [
    {
     "data": {
      "text/plain": [
       "4"
      ]
     },
     "execution_count": 77,
     "metadata": {},
     "output_type": "execute_result"
    }
   ],
   "source": [
    "sub_universes = universe_analysis.generate_sub_universes()\n",
    "len(sub_universes)"
   ]
  },
  {
   "cell_type": "code",
   "execution_count": 78,
   "id": "92adf7ba",
   "metadata": {
    "execution": {
     "iopub.execute_input": "2025-07-30T21:32:02.415870Z",
     "iopub.status.busy": "2025-07-30T21:32:02.414905Z",
     "iopub.status.idle": "2025-07-30T21:32:02.421469Z",
     "shell.execute_reply": "2025-07-30T21:32:02.420313Z"
    },
    "papermill": {
     "duration": 0.035505,
     "end_time": "2025-07-30T21:32:02.423101",
     "exception": false,
     "start_time": "2025-07-30T21:32:02.387596",
     "status": "completed"
    },
    "tags": []
   },
   "outputs": [],
   "source": [
    "def filter_sub_universe_data(sub_universe, org_test):\n",
    "    # Keep all rows — no filtering\n",
    "    keep_rows_mask = np.ones(org_test.shape[0], dtype=bool)\n",
    "\n",
    "    print(f\"[INFO] Keeping all rows: {keep_rows_mask.sum()} rows retained.\")\n",
    "    return keep_rows_mask"
   ]
  },
  {
   "cell_type": "code",
   "execution_count": 79,
   "id": "4a759155",
   "metadata": {
    "execution": {
     "iopub.execute_input": "2025-07-30T21:32:02.478885Z",
     "iopub.status.busy": "2025-07-30T21:32:02.478171Z",
     "iopub.status.idle": "2025-07-30T21:32:12.612559Z",
     "shell.execute_reply": "2025-07-30T21:32:12.611700Z"
    },
    "papermill": {
     "duration": 10.163906,
     "end_time": "2025-07-30T21:32:12.614073",
     "exception": false,
     "start_time": "2025-07-30T21:32:02.450167",
     "status": "completed"
    },
    "tags": []
   },
   "outputs": [
    {
     "name": "stdout",
     "output_type": "stream",
     "text": [
      "Stopping execution_time clock.\n",
      "[INFO] Keeping all rows: 89710 rows retained.\n"
     ]
    },
    {
     "name": "stdout",
     "output_type": "stream",
     "text": [
      "[INFO] Keeping all rows: 89710 rows retained.\n"
     ]
    },
    {
     "name": "stdout",
     "output_type": "stream",
     "text": [
      "[INFO] Keeping all rows: 89710 rows retained.\n"
     ]
    },
    {
     "name": "stdout",
     "output_type": "stream",
     "text": [
      "[INFO] Keeping all rows: 89710 rows retained.\n"
     ]
    },
    {
     "data": {
      "text/html": [
       "<div>\n",
       "<style scoped>\n",
       "    .dataframe tbody tr th:only-of-type {\n",
       "        vertical-align: middle;\n",
       "    }\n",
       "\n",
       "    .dataframe tbody tr th {\n",
       "        vertical-align: top;\n",
       "    }\n",
       "\n",
       "    .dataframe thead th {\n",
       "        text-align: right;\n",
       "    }\n",
       "</style>\n",
       "<table border=\"1\" class=\"dataframe\">\n",
       "  <thead>\n",
       "    <tr style=\"text-align: right;\">\n",
       "      <th></th>\n",
       "      <th>run_no</th>\n",
       "      <th>universe_id</th>\n",
       "      <th>universe_settings</th>\n",
       "      <th>execution_time</th>\n",
       "      <th>test_size_n</th>\n",
       "      <th>test_size_frac</th>\n",
       "      <th>fair_main_equalized_odds_difference</th>\n",
       "      <th>fair_main_equalized_odds_ratio</th>\n",
       "      <th>fair_main_demographic_parity_difference</th>\n",
       "      <th>fair_main_demographic_parity_ratio</th>\n",
       "      <th>...</th>\n",
       "      <th>perf_grp_precision_0</th>\n",
       "      <th>perf_grp_precision_1</th>\n",
       "      <th>perf_grp_false positive rate_0</th>\n",
       "      <th>perf_grp_false positive rate_1</th>\n",
       "      <th>perf_grp_false negative rate_0</th>\n",
       "      <th>perf_grp_false negative rate_1</th>\n",
       "      <th>perf_grp_selection rate_0</th>\n",
       "      <th>perf_grp_selection rate_1</th>\n",
       "      <th>perf_grp_count_0</th>\n",
       "      <th>perf_grp_count_1</th>\n",
       "    </tr>\n",
       "  </thead>\n",
       "  <tbody>\n",
       "    <tr>\n",
       "      <th>0</th>\n",
       "      <td>14</td>\n",
       "      <td>523b4d52292fbf0322ce0d3ad7b649bd</td>\n",
       "      <td>{\"cutoff\": \"quantile_0.1\", \"eval_fairness_grou...</td>\n",
       "      <td>42.298013</td>\n",
       "      <td>89710</td>\n",
       "      <td>1.0</td>\n",
       "      <td>0.088358</td>\n",
       "      <td>0.908007</td>\n",
       "      <td>0.080633</td>\n",
       "      <td>0.916197</td>\n",
       "      <td>...</td>\n",
       "      <td>NaN</td>\n",
       "      <td>NaN</td>\n",
       "      <td>NaN</td>\n",
       "      <td>NaN</td>\n",
       "      <td>NaN</td>\n",
       "      <td>NaN</td>\n",
       "      <td>NaN</td>\n",
       "      <td>NaN</td>\n",
       "      <td>NaN</td>\n",
       "      <td>NaN</td>\n",
       "    </tr>\n",
       "    <tr>\n",
       "      <th>0</th>\n",
       "      <td>14</td>\n",
       "      <td>523b4d52292fbf0322ce0d3ad7b649bd</td>\n",
       "      <td>{\"cutoff\": \"quantile_0.1\", \"eval_fairness_grou...</td>\n",
       "      <td>42.298013</td>\n",
       "      <td>89710</td>\n",
       "      <td>1.0</td>\n",
       "      <td>0.088358</td>\n",
       "      <td>0.908007</td>\n",
       "      <td>0.080633</td>\n",
       "      <td>0.916197</td>\n",
       "      <td>...</td>\n",
       "      <td>0.116834</td>\n",
       "      <td>0.141400</td>\n",
       "      <td>0.960489</td>\n",
       "      <td>0.872131</td>\n",
       "      <td>0.024916</td>\n",
       "      <td>0.056674</td>\n",
       "      <td>0.962171</td>\n",
       "      <td>0.881538</td>\n",
       "      <td>20540.0</td>\n",
       "      <td>69170.0</td>\n",
       "    </tr>\n",
       "    <tr>\n",
       "      <th>0</th>\n",
       "      <td>14</td>\n",
       "      <td>523b4d52292fbf0322ce0d3ad7b649bd</td>\n",
       "      <td>{\"cutoff\": \"quantile_0.25\", \"eval_fairness_gro...</td>\n",
       "      <td>42.298013</td>\n",
       "      <td>89710</td>\n",
       "      <td>1.0</td>\n",
       "      <td>0.212992</td>\n",
       "      <td>0.762736</td>\n",
       "      <td>0.196065</td>\n",
       "      <td>0.782432</td>\n",
       "      <td>...</td>\n",
       "      <td>NaN</td>\n",
       "      <td>NaN</td>\n",
       "      <td>NaN</td>\n",
       "      <td>NaN</td>\n",
       "      <td>NaN</td>\n",
       "      <td>NaN</td>\n",
       "      <td>NaN</td>\n",
       "      <td>NaN</td>\n",
       "      <td>NaN</td>\n",
       "      <td>NaN</td>\n",
       "    </tr>\n",
       "    <tr>\n",
       "      <th>0</th>\n",
       "      <td>14</td>\n",
       "      <td>523b4d52292fbf0322ce0d3ad7b649bd</td>\n",
       "      <td>{\"cutoff\": \"quantile_0.25\", \"eval_fairness_gro...</td>\n",
       "      <td>42.298013</td>\n",
       "      <td>89710</td>\n",
       "      <td>1.0</td>\n",
       "      <td>0.212992</td>\n",
       "      <td>0.762736</td>\n",
       "      <td>0.196065</td>\n",
       "      <td>0.782432</td>\n",
       "      <td>...</td>\n",
       "      <td>0.118693</td>\n",
       "      <td>0.157242</td>\n",
       "      <td>0.897700</td>\n",
       "      <td>0.684708</td>\n",
       "      <td>0.072213</td>\n",
       "      <td>0.160941</td>\n",
       "      <td>0.901168</td>\n",
       "      <td>0.705103</td>\n",
       "      <td>20540.0</td>\n",
       "      <td>69170.0</td>\n",
       "    </tr>\n",
       "  </tbody>\n",
       "</table>\n",
       "<p>4 rows × 50 columns</p>\n",
       "</div>"
      ],
      "text/plain": [
       "  run_no                       universe_id  \\\n",
       "0     14  523b4d52292fbf0322ce0d3ad7b649bd   \n",
       "0     14  523b4d52292fbf0322ce0d3ad7b649bd   \n",
       "0     14  523b4d52292fbf0322ce0d3ad7b649bd   \n",
       "0     14  523b4d52292fbf0322ce0d3ad7b649bd   \n",
       "\n",
       "                                   universe_settings  execution_time  \\\n",
       "0  {\"cutoff\": \"quantile_0.1\", \"eval_fairness_grou...       42.298013   \n",
       "0  {\"cutoff\": \"quantile_0.1\", \"eval_fairness_grou...       42.298013   \n",
       "0  {\"cutoff\": \"quantile_0.25\", \"eval_fairness_gro...       42.298013   \n",
       "0  {\"cutoff\": \"quantile_0.25\", \"eval_fairness_gro...       42.298013   \n",
       "\n",
       "   test_size_n  test_size_frac  fair_main_equalized_odds_difference  \\\n",
       "0        89710             1.0                             0.088358   \n",
       "0        89710             1.0                             0.088358   \n",
       "0        89710             1.0                             0.212992   \n",
       "0        89710             1.0                             0.212992   \n",
       "\n",
       "   fair_main_equalized_odds_ratio  fair_main_demographic_parity_difference  \\\n",
       "0                        0.908007                                 0.080633   \n",
       "0                        0.908007                                 0.080633   \n",
       "0                        0.762736                                 0.196065   \n",
       "0                        0.762736                                 0.196065   \n",
       "\n",
       "   fair_main_demographic_parity_ratio  ...  perf_grp_precision_0  \\\n",
       "0                            0.916197  ...                   NaN   \n",
       "0                            0.916197  ...              0.116834   \n",
       "0                            0.782432  ...                   NaN   \n",
       "0                            0.782432  ...              0.118693   \n",
       "\n",
       "   perf_grp_precision_1  perf_grp_false positive rate_0  \\\n",
       "0                   NaN                             NaN   \n",
       "0              0.141400                        0.960489   \n",
       "0                   NaN                             NaN   \n",
       "0              0.157242                        0.897700   \n",
       "\n",
       "   perf_grp_false positive rate_1  perf_grp_false negative rate_0  \\\n",
       "0                             NaN                             NaN   \n",
       "0                        0.872131                        0.024916   \n",
       "0                             NaN                             NaN   \n",
       "0                        0.684708                        0.072213   \n",
       "\n",
       "   perf_grp_false negative rate_1  perf_grp_selection rate_0  \\\n",
       "0                             NaN                        NaN   \n",
       "0                        0.056674                   0.962171   \n",
       "0                             NaN                        NaN   \n",
       "0                        0.160941                   0.901168   \n",
       "\n",
       "   perf_grp_selection rate_1  perf_grp_count_0  perf_grp_count_1  \n",
       "0                        NaN               NaN               NaN  \n",
       "0                   0.881538           20540.0           69170.0  \n",
       "0                        NaN               NaN               NaN  \n",
       "0                   0.705103           20540.0           69170.0  \n",
       "\n",
       "[4 rows x 50 columns]"
      ]
     },
     "execution_count": 79,
     "metadata": {},
     "output_type": "execute_result"
    }
   ],
   "source": [
    "final_output = universe_analysis.generate_final_output(\n",
    "    y_pred_prob=probs_test,\n",
    "    y_test=y_true,\n",
    "    org_test=org_test,\n",
    "    filter_data=filter_sub_universe_data,\n",
    "    cp_metrics_df=cp_metrics_df,\n",
    "    save=True,\n",
    ")\n",
    "final_output"
   ]
  },
  {
   "cell_type": "code",
   "execution_count": null,
   "id": "721ff514-cb11-46f8-b6fc-50392f74b5cb",
   "metadata": {
    "papermill": {
     "duration": 0.027611,
     "end_time": "2025-07-30T21:32:12.672876",
     "exception": false,
     "start_time": "2025-07-30T21:32:12.645265",
     "status": "completed"
    },
    "tags": []
   },
   "outputs": [],
   "source": []
  }
 ],
 "metadata": {
  "celltoolbar": "Tags",
  "kernelspec": {
   "display_name": "Python (CMA Fairness)",
   "language": "python",
   "name": "cma_fair_env"
  },
  "language_info": {
   "codemirror_mode": {
    "name": "ipython",
    "version": 3
   },
   "file_extension": ".py",
   "mimetype": "text/x-python",
   "name": "python",
   "nbconvert_exporter": "python",
   "pygments_lexer": "ipython3",
   "version": "3.10.12"
  },
  "papermill": {
   "default_parameters": {},
   "duration": 56.961499,
   "end_time": "2025-07-30T21:32:13.420166",
   "environment_variables": {},
   "exception": null,
   "input_path": "universe_analysis.ipynb",
   "output_path": "output/runs/14/notebooks/m_14-523b4d52292fbf0322ce0d3ad7b649bd.ipynb",
   "parameters": {
    "output_dir": "output",
    "run_no": "14",
    "seed": "2023",
    "universe": "{\"cutoff\": [\"quantile_0.1\", \"quantile_0.25\"], \"eval_fairness_grouping\": [\"majority-minority\", \"nationality-all\"], \"exclude_features\": \"none\", \"exclude_subgroups\": \"drop-non-german\", \"model\": \"elasticnet\", \"scale\": \"do-not-scale\", \"training_size\": \"1k\", \"training_year\": \"2014\"}",
    "universe_id": "523b4d52292fbf0322ce0d3ad7b649bd"
   },
   "start_time": "2025-07-30T21:31:16.458667",
   "version": "2.6.0"
  }
 },
 "nbformat": 4,
 "nbformat_minor": 5
}