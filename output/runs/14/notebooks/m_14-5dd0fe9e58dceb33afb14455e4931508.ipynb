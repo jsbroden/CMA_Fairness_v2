{
 "cells": [
  {
   "cell_type": "code",
   "execution_count": 1,
   "id": "f159f837-637b-42ba-96b5-ec9a68c44524",
   "metadata": {
    "execution": {
     "iopub.execute_input": "2025-07-30T21:53:06.700152Z",
     "iopub.status.busy": "2025-07-30T21:53:06.699629Z",
     "iopub.status.idle": "2025-07-30T21:53:06.713743Z",
     "shell.execute_reply": "2025-07-30T21:53:06.712707Z"
    },
    "papermill": {
     "duration": 0.040804,
     "end_time": "2025-07-30T21:53:06.715595",
     "exception": false,
     "start_time": "2025-07-30T21:53:06.674791",
     "status": "completed"
    },
    "tags": []
   },
   "outputs": [
    {
     "name": "stdout",
     "output_type": "stream",
     "text": [
      "/dss/dsshome1/0C/ra93lal2/cma/CMA_Fairness_v2\n"
     ]
    },
    {
     "name": "stderr",
     "output_type": "stream",
     "text": [
      "/dss/dsshome1/0C/ra93lal2/.local/share/virtualenvs/CMA_Fairness_v2-3j10GkSs/lib/python3.10/site-packages/IPython/core/magics/osm.py:393: UserWarning: This is now an optional IPython functionality, using bookmarks requires you to install the `pickleshare` library.\n",
      "  bkms = self.shell.db.get('bookmarks', {})\n",
      "/dss/dsshome1/0C/ra93lal2/.local/share/virtualenvs/CMA_Fairness_v2-3j10GkSs/lib/python3.10/site-packages/IPython/core/magics/osm.py:417: UserWarning: This is now an optional IPython functionality, setting dhist requires you to install the `pickleshare` library.\n",
      "  self.shell.db['dhist'] = compress_dhist(dhist)[-100:]\n"
     ]
    }
   ],
   "source": [
    "%cd ~/cma/CMA_Fairness_v2"
   ]
  },
  {
   "cell_type": "markdown",
   "id": "de2603b9",
   "metadata": {
    "papermill": {
     "duration": 0.020723,
     "end_time": "2025-07-30T21:53:06.758070",
     "exception": false,
     "start_time": "2025-07-30T21:53:06.737347",
     "status": "completed"
    },
    "tags": []
   },
   "source": [
    "The following cell holds the definition of our parameters, these values can be overriden by rendering the with e.g. the following command:\n",
    "\n",
    "papermill -p alpha 0.2 -p ratio 0.3 universe_analysis.ipynb output/test_run.ipynb"
   ]
  },
  {
   "cell_type": "code",
   "execution_count": 2,
   "id": "a80968a0-40bb-4fa9-85ef-2d5eefb01975",
   "metadata": {
    "execution": {
     "iopub.execute_input": "2025-07-30T21:53:06.801584Z",
     "iopub.status.busy": "2025-07-30T21:53:06.800668Z",
     "iopub.status.idle": "2025-07-30T21:53:06.806748Z",
     "shell.execute_reply": "2025-07-30T21:53:06.805672Z"
    },
    "papermill": {
     "duration": 0.029783,
     "end_time": "2025-07-30T21:53:06.808631",
     "exception": false,
     "start_time": "2025-07-30T21:53:06.778848",
     "status": "completed"
    },
    "tags": []
   },
   "outputs": [
    {
     "name": "stdout",
     "output_type": "stream",
     "text": [
      "Current working directory: /dss/dsshome1/0C/ra93lal2/cma/CMA_Fairness_v2\n"
     ]
    }
   ],
   "source": [
    "import os\n",
    "print(\"Current working directory:\", os.getcwd())"
   ]
  },
  {
   "cell_type": "code",
   "execution_count": 3,
   "id": "2dce4c03",
   "metadata": {
    "execution": {
     "iopub.execute_input": "2025-07-30T21:53:06.853009Z",
     "iopub.status.busy": "2025-07-30T21:53:06.852142Z",
     "iopub.status.idle": "2025-07-30T21:53:06.858516Z",
     "shell.execute_reply": "2025-07-30T21:53:06.857549Z"
    },
    "papermill": {
     "duration": 0.029709,
     "end_time": "2025-07-30T21:53:06.860248",
     "exception": false,
     "start_time": "2025-07-30T21:53:06.830539",
     "status": "completed"
    },
    "tags": [
     "parameters"
    ]
   },
   "outputs": [],
   "source": [
    "run_no = 0\n",
    "universe_id = \"test\"\n",
    "universe = {\n",
    "    \"training_size\": \"25k\", # \"25k\", \"5k\", \"1k\"\n",
    "    \"training_year\": \"2014\", # \"2014\", \"2012_14\", \"2010_14\"\n",
    "    \"scale\": \"scale\", # \"scale\", \"do-not-scale\",\n",
    "    #\"stratify_split\": \"target\", # \"none\", \"target\", \"protected-attribute\", \"both\",\n",
    "    \"model\": \"elasticnet\", # \"logreg\", \"penalized_logreg\", \"rf\", \"gbm\", \"elasticnet\"\n",
    "    \"cutoff\": [\"quantile_0.15\", \"quantile_0.30\"],\n",
    "    \"exclude_features\": \"age\", # \"none\", \"nationality\", \"sex\", \"nationality-sex\", \"age\"\n",
    "    \"exclude_subgroups\": \"keep-all\", # \"keep-all\", \"drop-non-german\"\n",
    "    \"eval_fairness_grouping\": [\"majority-minority\", \"nationality-all\"]\n",
    "}\n",
    "\n",
    "output_dir=\"./output\"\n",
    "seed=0"
   ]
  },
  {
   "cell_type": "code",
   "execution_count": 4,
   "id": "c9bd1ce9",
   "metadata": {
    "execution": {
     "iopub.execute_input": "2025-07-30T21:53:06.904475Z",
     "iopub.status.busy": "2025-07-30T21:53:06.903805Z",
     "iopub.status.idle": "2025-07-30T21:53:06.909670Z",
     "shell.execute_reply": "2025-07-30T21:53:06.908670Z"
    },
    "papermill": {
     "duration": 0.029787,
     "end_time": "2025-07-30T21:53:06.911672",
     "exception": false,
     "start_time": "2025-07-30T21:53:06.881885",
     "status": "completed"
    },
    "tags": [
     "injected-parameters"
    ]
   },
   "outputs": [],
   "source": [
    "# Parameters\n",
    "universe_id = \"5dd0fe9e58dceb33afb14455e4931508\"\n",
    "run_no = \"14\"\n",
    "universe = \"{\\\"cutoff\\\": [\\\"quantile_0.1\\\", \\\"quantile_0.25\\\"], \\\"eval_fairness_grouping\\\": [\\\"majority-minority\\\", \\\"nationality-all\\\"], \\\"exclude_features\\\": \\\"none\\\", \\\"exclude_subgroups\\\": \\\"drop-non-german\\\", \\\"model\\\": \\\"elasticnet\\\", \\\"scale\\\": \\\"do-not-scale\\\", \\\"training_size\\\": \\\"1k\\\", \\\"training_year\\\": \\\"2010_14\\\"}\"\n",
    "output_dir = \"output\"\n",
    "seed = \"2023\"\n"
   ]
  },
  {
   "cell_type": "code",
   "execution_count": 5,
   "id": "1650acaf",
   "metadata": {
    "execution": {
     "iopub.execute_input": "2025-07-30T21:53:06.959720Z",
     "iopub.status.busy": "2025-07-30T21:53:06.959283Z",
     "iopub.status.idle": "2025-07-30T21:53:06.964423Z",
     "shell.execute_reply": "2025-07-30T21:53:06.963379Z"
    },
    "papermill": {
     "duration": 0.029325,
     "end_time": "2025-07-30T21:53:06.966233",
     "exception": false,
     "start_time": "2025-07-30T21:53:06.936908",
     "status": "completed"
    },
    "tags": []
   },
   "outputs": [],
   "source": [
    "import json\n",
    "# Parse universe into dict if it is passed as a string\n",
    "if isinstance(universe, str):\n",
    "    universe = json.loads(universe)"
   ]
  },
  {
   "cell_type": "code",
   "execution_count": 6,
   "id": "16620c48",
   "metadata": {
    "execution": {
     "iopub.execute_input": "2025-07-30T21:53:07.010258Z",
     "iopub.status.busy": "2025-07-30T21:53:07.009612Z",
     "iopub.status.idle": "2025-07-30T21:53:07.058294Z",
     "shell.execute_reply": "2025-07-30T21:53:07.057248Z"
    },
    "papermill": {
     "duration": 0.072328,
     "end_time": "2025-07-30T21:53:07.060198",
     "exception": false,
     "start_time": "2025-07-30T21:53:06.987870",
     "status": "completed"
    },
    "tags": []
   },
   "outputs": [],
   "source": [
    "# Auto-reload the custom package\n",
    "%load_ext autoreload\n",
    "%autoreload 1\n",
    "%aimport fairness_multiverse"
   ]
  },
  {
   "cell_type": "code",
   "execution_count": 7,
   "id": "01c5c9f3",
   "metadata": {
    "execution": {
     "iopub.execute_input": "2025-07-30T21:53:07.104262Z",
     "iopub.status.busy": "2025-07-30T21:53:07.103533Z",
     "iopub.status.idle": "2025-07-30T21:53:09.087891Z",
     "shell.execute_reply": "2025-07-30T21:53:09.086913Z"
    },
    "papermill": {
     "duration": 2.008063,
     "end_time": "2025-07-30T21:53:09.089874",
     "exception": false,
     "start_time": "2025-07-30T21:53:07.081811",
     "status": "completed"
    },
    "tags": []
   },
   "outputs": [],
   "source": [
    "from fairness_multiverse.universe import UniverseAnalysis\n",
    "\n",
    "universe_analysis = UniverseAnalysis(\n",
    "    run_no = run_no,\n",
    "    universe_id = universe_id,\n",
    "    universe = universe,\n",
    "    output_dir=output_dir,\n",
    ")"
   ]
  },
  {
   "cell_type": "code",
   "execution_count": 8,
   "id": "106241f5",
   "metadata": {
    "execution": {
     "iopub.execute_input": "2025-07-30T21:53:09.135278Z",
     "iopub.status.busy": "2025-07-30T21:53:09.134636Z",
     "iopub.status.idle": "2025-07-30T21:53:09.142201Z",
     "shell.execute_reply": "2025-07-30T21:53:09.141013Z"
    },
    "papermill": {
     "duration": 0.030784,
     "end_time": "2025-07-30T21:53:09.143975",
     "exception": false,
     "start_time": "2025-07-30T21:53:09.113191",
     "status": "completed"
    },
    "tags": []
   },
   "outputs": [
    {
     "name": "stdout",
     "output_type": "stream",
     "text": [
      "Using Seed: 2023\n"
     ]
    }
   ],
   "source": [
    "import numpy as np\n",
    "parsed_seed = int(seed)\n",
    "np.random.seed(parsed_seed)\n",
    "print(f\"Using Seed: {parsed_seed}\")"
   ]
  },
  {
   "cell_type": "markdown",
   "id": "e0ebdc57",
   "metadata": {
    "papermill": {
     "duration": 0.021565,
     "end_time": "2025-07-30T21:53:09.188370",
     "exception": false,
     "start_time": "2025-07-30T21:53:09.166805",
     "status": "completed"
    },
    "tags": []
   },
   "source": [
    "# Loading Data"
   ]
  },
  {
   "cell_type": "markdown",
   "id": "681925a3",
   "metadata": {
    "papermill": {
     "duration": 0.021941,
     "end_time": "2025-07-30T21:53:09.231073",
     "exception": false,
     "start_time": "2025-07-30T21:53:09.209132",
     "status": "completed"
    },
    "tags": []
   },
   "source": [
    "Load siab_train, siab_test, siab_calib and/or \n",
    "load siab_train_features, siab_train_labels"
   ]
  },
  {
   "cell_type": "code",
   "execution_count": 9,
   "id": "f0496b8a",
   "metadata": {
    "execution": {
     "iopub.execute_input": "2025-07-30T21:53:09.277157Z",
     "iopub.status.busy": "2025-07-30T21:53:09.276116Z",
     "iopub.status.idle": "2025-07-30T21:53:22.593963Z",
     "shell.execute_reply": "2025-07-30T21:53:22.592693Z"
    },
    "papermill": {
     "duration": 13.342197,
     "end_time": "2025-07-30T21:53:22.595909",
     "exception": false,
     "start_time": "2025-07-30T21:53:09.253712",
     "status": "completed"
    },
    "tags": []
   },
   "outputs": [
    {
     "name": "stdout",
     "output_type": "stream",
     "text": [
      "Loading SIAB data from cache: data/siab_cached.csv.gz\n"
     ]
    },
    {
     "name": "stdout",
     "output_type": "stream",
     "text": [
      "(643690, 164)\n"
     ]
    }
   ],
   "source": [
    "from pathlib import Path\n",
    "import pandas as pd\n",
    "\n",
    "# File paths\n",
    "raw_file = Path(\"data/raw/siab.csv\")\n",
    "cache_file = Path(\"data/siab_cached.csv.gz\")\n",
    "\n",
    "# Ensure cache directory exists\n",
    "cache_file.parent.mkdir(parents=True, exist_ok=True)\n",
    "\n",
    "# Load with simple caching\n",
    "if cache_file.exists():\n",
    "    print(f\"Loading SIAB data from cache: {cache_file}\")\n",
    "    siab = pd.read_csv(cache_file, compression='gzip')\n",
    "else:\n",
    "    print(f\"Cache not found. Reading raw SIAB data: {raw_file}\")\n",
    "    siab = pd.read_csv(raw_file)\n",
    "    siab.to_csv(cache_file, index=False, compression='gzip')\n",
    "    print(f\"Cached SIAB data to: {cache_file}\")\n",
    "\n",
    "# Now use `siab` DataFrame as needed\n",
    "print(siab.shape)"
   ]
  },
  {
   "cell_type": "code",
   "execution_count": 10,
   "id": "db0ca512-5f53-4dba-abdb-a2888bca41ba",
   "metadata": {
    "execution": {
     "iopub.execute_input": "2025-07-30T21:53:22.653803Z",
     "iopub.status.busy": "2025-07-30T21:53:22.653177Z",
     "iopub.status.idle": "2025-07-30T21:53:22.660180Z",
     "shell.execute_reply": "2025-07-30T21:53:22.658835Z"
    },
    "papermill": {
     "duration": 0.037133,
     "end_time": "2025-07-30T21:53:22.662595",
     "exception": false,
     "start_time": "2025-07-30T21:53:22.625462",
     "status": "completed"
    },
    "tags": []
   },
   "outputs": [],
   "source": [
    "#siab"
   ]
  },
  {
   "cell_type": "code",
   "execution_count": 11,
   "id": "a0edb063",
   "metadata": {
    "execution": {
     "iopub.execute_input": "2025-07-30T21:53:22.716918Z",
     "iopub.status.busy": "2025-07-30T21:53:22.716164Z",
     "iopub.status.idle": "2025-07-30T21:53:22.722132Z",
     "shell.execute_reply": "2025-07-30T21:53:22.721105Z"
    },
    "papermill": {
     "duration": 0.034801,
     "end_time": "2025-07-30T21:53:22.723964",
     "exception": false,
     "start_time": "2025-07-30T21:53:22.689163",
     "status": "completed"
    },
    "tags": []
   },
   "outputs": [],
   "source": [
    "#import pandas as pd\n",
    "#\n",
    "#X_train = pd.read_csv(\"./data/X_train.csv\")\n",
    "#y_train = pd.read_csv(\"./data/y_train.csv\")"
   ]
  },
  {
   "cell_type": "code",
   "execution_count": 12,
   "id": "63d08085",
   "metadata": {
    "execution": {
     "iopub.execute_input": "2025-07-30T21:53:22.778953Z",
     "iopub.status.busy": "2025-07-30T21:53:22.777892Z",
     "iopub.status.idle": "2025-07-30T21:53:22.783279Z",
     "shell.execute_reply": "2025-07-30T21:53:22.782398Z"
    },
    "papermill": {
     "duration": 0.034949,
     "end_time": "2025-07-30T21:53:22.785407",
     "exception": false,
     "start_time": "2025-07-30T21:53:22.750458",
     "status": "completed"
    },
    "tags": []
   },
   "outputs": [],
   "source": [
    "#X_test = pd.read_csv(\"./data/X_test.csv\")\n",
    "#y_true = pd.read_csv(\"./data/y_test.csv\")"
   ]
  },
  {
   "cell_type": "code",
   "execution_count": 13,
   "id": "98a8d0fa-1d3d-4ed8-bb2c-281470e24add",
   "metadata": {
    "execution": {
     "iopub.execute_input": "2025-07-30T21:53:22.839316Z",
     "iopub.status.busy": "2025-07-30T21:53:22.838669Z",
     "iopub.status.idle": "2025-07-30T21:53:22.844804Z",
     "shell.execute_reply": "2025-07-30T21:53:22.843609Z"
    },
    "papermill": {
     "duration": 0.033994,
     "end_time": "2025-07-30T21:53:22.846921",
     "exception": false,
     "start_time": "2025-07-30T21:53:22.812927",
     "status": "completed"
    },
    "tags": []
   },
   "outputs": [],
   "source": [
    "# Calibration data for conformal\n",
    "#X_calib = pd.read_csv(\"./data/X_calib.csv\")\n",
    "#y_calib = pd.read_csv(\"./data/y_calib.csv\")"
   ]
  },
  {
   "cell_type": "markdown",
   "id": "997051c5-15bd-4b69-9786-c3001a3ce484",
   "metadata": {
    "papermill": {
     "duration": 0.023693,
     "end_time": "2025-07-30T21:53:22.895029",
     "exception": false,
     "start_time": "2025-07-30T21:53:22.871336",
     "status": "completed"
    },
    "tags": []
   },
   "source": [
    "# Splitting Data and Setting Training Data Size"
   ]
  },
  {
   "cell_type": "code",
   "execution_count": 14,
   "id": "e993b61f-042d-41a6-8c81-f55681f86335",
   "metadata": {
    "execution": {
     "iopub.execute_input": "2025-07-30T21:53:22.943793Z",
     "iopub.status.busy": "2025-07-30T21:53:22.943211Z",
     "iopub.status.idle": "2025-07-30T21:53:22.959061Z",
     "shell.execute_reply": "2025-07-30T21:53:22.957947Z"
    },
    "papermill": {
     "duration": 0.0427,
     "end_time": "2025-07-30T21:53:22.961047",
     "exception": false,
     "start_time": "2025-07-30T21:53:22.918347",
     "status": "completed"
    },
    "tags": []
   },
   "outputs": [],
   "source": [
    "def sample_by_year_size(df,\n",
    "                        training_year: str,\n",
    "                        training_size: str,\n",
    "                        random_state: int = 42):\n",
    "    # --- parse training_year into a list of int years ---\n",
    "    if \"_\" in training_year:\n",
    "        start_str, end_str = training_year.split(\"_\", 1)\n",
    "        start = int(start_str)\n",
    "        end   = int(end_str) if len(end_str) == 4 else (int(end_str) + (start // 100)*100)\n",
    "        years = list(range(start, end + 1))\n",
    "    else:\n",
    "        years = [int(training_year)]\n",
    "\n",
    "    df = df[df[\"year\"].isin(years)].reset_index(drop=True)\n",
    "\n",
    "    # --- map training_size to total number of samples ---\n",
    "    total_map = {\"25k\": 25_000, \"5k\": 5_000, \"1k\": 1_000}\n",
    "    if training_size not in total_map:\n",
    "        return df  # e.g. \"all\"\n",
    "\n",
    "    total_samples = total_map[training_size]\n",
    "    n_years       = len(years)\n",
    "    base          = total_samples // n_years\n",
    "    remainder     = total_samples % n_years\n",
    "\n",
    "    # --- build a dict: year -> how many to sample ---\n",
    "    # give +1 to the first `remainder` years in ascending order\n",
    "    quotas = {\n",
    "        year: base + (1 if idx < remainder else 0)\n",
    "        for idx, year in enumerate(sorted(years))\n",
    "    }\n",
    "\n",
    "    # --- sample per‐year according to the quota dict ---\n",
    "    sampled = (\n",
    "        df\n",
    "        .groupby(\"year\", group_keys=False)\n",
    "        .apply(lambda grp: grp.sample(\n",
    "            n=min(len(grp), quotas[grp.name]),\n",
    "            random_state=random_state))\n",
    "        .reset_index(drop=True)\n",
    "    )\n",
    "\n",
    "    return sampled"
   ]
  },
  {
   "cell_type": "code",
   "execution_count": 15,
   "id": "c0ccd338-0e02-41f3-a09d-f56f9266e3fb",
   "metadata": {
    "execution": {
     "iopub.execute_input": "2025-07-30T21:53:23.025727Z",
     "iopub.status.busy": "2025-07-30T21:53:23.025158Z",
     "iopub.status.idle": "2025-07-30T21:53:23.030536Z",
     "shell.execute_reply": "2025-07-30T21:53:23.029490Z"
    },
    "papermill": {
     "duration": 0.046196,
     "end_time": "2025-07-30T21:53:23.032443",
     "exception": false,
     "start_time": "2025-07-30T21:53:22.986247",
     "status": "completed"
    },
    "tags": []
   },
   "outputs": [],
   "source": [
    "#universe[\"training_size\"]"
   ]
  },
  {
   "cell_type": "code",
   "execution_count": 16,
   "id": "ca707fd7-8047-4acd-bfa5-66248fbbf8e6",
   "metadata": {
    "execution": {
     "iopub.execute_input": "2025-07-30T21:53:23.081858Z",
     "iopub.status.busy": "2025-07-30T21:53:23.079736Z",
     "iopub.status.idle": "2025-07-30T21:53:23.087006Z",
     "shell.execute_reply": "2025-07-30T21:53:23.085828Z"
    },
    "papermill": {
     "duration": 0.032227,
     "end_time": "2025-07-30T21:53:23.089312",
     "exception": false,
     "start_time": "2025-07-30T21:53:23.057085",
     "status": "completed"
    },
    "tags": []
   },
   "outputs": [],
   "source": [
    "#universe[\"training_year\"]"
   ]
  },
  {
   "cell_type": "code",
   "execution_count": 17,
   "id": "aea9c6ef-6f46-42c8-85eb-5a62025c1508",
   "metadata": {
    "execution": {
     "iopub.execute_input": "2025-07-30T21:53:23.142168Z",
     "iopub.status.busy": "2025-07-30T21:53:23.141088Z",
     "iopub.status.idle": "2025-07-30T21:53:24.706787Z",
     "shell.execute_reply": "2025-07-30T21:53:24.705727Z"
    },
    "papermill": {
     "duration": 1.593454,
     "end_time": "2025-07-30T21:53:24.709187",
     "exception": false,
     "start_time": "2025-07-30T21:53:23.115733",
     "status": "completed"
    },
    "tags": []
   },
   "outputs": [],
   "source": [
    "siab_train = sample_by_year_size(siab,\n",
    "                               training_year=universe[\"training_year\"],\n",
    "                               training_size=universe[\"training_size\"])"
   ]
  },
  {
   "cell_type": "code",
   "execution_count": 18,
   "id": "8d3afb32-789d-442c-8d5d-9f5aa8dd2eed",
   "metadata": {
    "execution": {
     "iopub.execute_input": "2025-07-30T21:53:24.766846Z",
     "iopub.status.busy": "2025-07-30T21:53:24.766366Z",
     "iopub.status.idle": "2025-07-30T21:53:24.771959Z",
     "shell.execute_reply": "2025-07-30T21:53:24.770892Z"
    },
    "papermill": {
     "duration": 0.036472,
     "end_time": "2025-07-30T21:53:24.773944",
     "exception": false,
     "start_time": "2025-07-30T21:53:24.737472",
     "status": "completed"
    },
    "tags": []
   },
   "outputs": [],
   "source": [
    "#siab_train.shape"
   ]
  },
  {
   "cell_type": "code",
   "execution_count": 19,
   "id": "d582db68-1a4c-47fb-84fc-08518dc1975a",
   "metadata": {
    "execution": {
     "iopub.execute_input": "2025-07-30T21:53:24.833133Z",
     "iopub.status.busy": "2025-07-30T21:53:24.832602Z",
     "iopub.status.idle": "2025-07-30T21:53:24.838689Z",
     "shell.execute_reply": "2025-07-30T21:53:24.837401Z"
    },
    "papermill": {
     "duration": 0.038325,
     "end_time": "2025-07-30T21:53:24.840790",
     "exception": false,
     "start_time": "2025-07-30T21:53:24.802465",
     "status": "completed"
    },
    "tags": []
   },
   "outputs": [],
   "source": [
    "#display(siab_train.groupby(\"year\").size())"
   ]
  },
  {
   "cell_type": "code",
   "execution_count": 20,
   "id": "a561edb4-d032-42cb-8256-22eac1111c64",
   "metadata": {
    "execution": {
     "iopub.execute_input": "2025-07-30T21:53:24.900796Z",
     "iopub.status.busy": "2025-07-30T21:53:24.900156Z",
     "iopub.status.idle": "2025-07-30T21:53:25.314995Z",
     "shell.execute_reply": "2025-07-30T21:53:25.313651Z"
    },
    "papermill": {
     "duration": 0.447223,
     "end_time": "2025-07-30T21:53:25.317607",
     "exception": false,
     "start_time": "2025-07-30T21:53:24.870384",
     "status": "completed"
    },
    "tags": []
   },
   "outputs": [],
   "source": [
    "#siab_train = siab_s[siab_s.year < 2015]\n",
    "siab_calib = siab[siab.year == 2015]\n",
    "siab_test = siab[siab.year == 2016]"
   ]
  },
  {
   "cell_type": "code",
   "execution_count": 21,
   "id": "472de16f-c3db-4916-846b-1f0de9cf1746",
   "metadata": {
    "execution": {
     "iopub.execute_input": "2025-07-30T21:53:25.350865Z",
     "iopub.status.busy": "2025-07-30T21:53:25.349828Z",
     "iopub.status.idle": "2025-07-30T21:53:25.357432Z",
     "shell.execute_reply": "2025-07-30T21:53:25.356186Z"
    },
    "papermill": {
     "duration": 0.022479,
     "end_time": "2025-07-30T21:53:25.359812",
     "exception": false,
     "start_time": "2025-07-30T21:53:25.337333",
     "status": "completed"
    },
    "tags": []
   },
   "outputs": [],
   "source": [
    "X_train = siab_train.iloc[:,4:164]\n",
    "y_train = siab_train.iloc[:, [3]]"
   ]
  },
  {
   "cell_type": "code",
   "execution_count": 22,
   "id": "828c96af-f43a-4ed6-ba47-8ac73a47d56c",
   "metadata": {
    "execution": {
     "iopub.execute_input": "2025-07-30T21:53:25.425675Z",
     "iopub.status.busy": "2025-07-30T21:53:25.424867Z",
     "iopub.status.idle": "2025-07-30T21:53:25.485060Z",
     "shell.execute_reply": "2025-07-30T21:53:25.483722Z"
    },
    "papermill": {
     "duration": 0.095718,
     "end_time": "2025-07-30T21:53:25.487845",
     "exception": false,
     "start_time": "2025-07-30T21:53:25.392127",
     "status": "completed"
    },
    "tags": []
   },
   "outputs": [],
   "source": [
    "X_calib = siab_calib.iloc[:,4:164]\n",
    "y_calib = siab_calib.iloc[:, [3]]"
   ]
  },
  {
   "cell_type": "code",
   "execution_count": 23,
   "id": "c34be9c3-6bd6-476e-acd3-845840e303be",
   "metadata": {
    "execution": {
     "iopub.execute_input": "2025-07-30T21:53:25.558104Z",
     "iopub.status.busy": "2025-07-30T21:53:25.557332Z",
     "iopub.status.idle": "2025-07-30T21:53:25.611704Z",
     "shell.execute_reply": "2025-07-30T21:53:25.610823Z"
    },
    "papermill": {
     "duration": 0.090364,
     "end_time": "2025-07-30T21:53:25.613556",
     "exception": false,
     "start_time": "2025-07-30T21:53:25.523192",
     "status": "completed"
    },
    "tags": []
   },
   "outputs": [],
   "source": [
    "X_test = siab_test.iloc[:,4:164]\n",
    "y_true = siab_test.iloc[:, [3]]"
   ]
  },
  {
   "cell_type": "markdown",
   "id": "9901737e-04df-44f0-9100-f5ad144ed040",
   "metadata": {
    "papermill": {
     "duration": 0.02572,
     "end_time": "2025-07-30T21:53:25.663076",
     "exception": false,
     "start_time": "2025-07-30T21:53:25.637356",
     "status": "completed"
    },
    "tags": []
   },
   "source": [
    "# Splitting Data and Setting Training Data Size OLD VERSION"
   ]
  },
  {
   "cell_type": "code",
   "execution_count": 24,
   "id": "acbc8f7d-8fc8-4e86-8c59-5dcb0f58384b",
   "metadata": {
    "execution": {
     "iopub.execute_input": "2025-07-30T21:53:25.707770Z",
     "iopub.status.busy": "2025-07-30T21:53:25.707272Z",
     "iopub.status.idle": "2025-07-30T21:53:25.712304Z",
     "shell.execute_reply": "2025-07-30T21:53:25.711526Z"
    },
    "papermill": {
     "duration": 0.020693,
     "end_time": "2025-07-30T21:53:25.713702",
     "exception": false,
     "start_time": "2025-07-30T21:53:25.693009",
     "status": "completed"
    },
    "tags": []
   },
   "outputs": [],
   "source": [
    "#def sample_by_year(df, training_size, random_state=42):\n",
    "#    if training_size == \"2014\":\n",
    "#        return df[df[\"year\"] == 2014].reset_index(drop=True)\n",
    "#    \n",
    "#    size_map = {\n",
    "#        \"25k\": 5000,\n",
    "#        \"5k\": 1000,\n",
    "#        \"1k\": 200\n",
    "#    }\n",
    "#\n",
    "#    if training_size not in size_map:\n",
    "#        return df.reset_index(drop=True)  # use all data\n",
    "#\n",
    "#    n_per_year = size_map[training_size]\n",
    "#    grouped = df.groupby(\"year\")\n",
    "#    sampled = grouped.apply(lambda x: x.sample(n=min(n_per_year, len(x)), random_state=random_state))\n",
    "#    return sampled.reset_index(drop=True)"
   ]
  },
  {
   "cell_type": "code",
   "execution_count": 25,
   "id": "6d931f52-beaf-43ff-9e78-9d44a448d54e",
   "metadata": {
    "execution": {
     "iopub.execute_input": "2025-07-30T21:53:25.741005Z",
     "iopub.status.busy": "2025-07-30T21:53:25.740439Z",
     "iopub.status.idle": "2025-07-30T21:53:25.746104Z",
     "shell.execute_reply": "2025-07-30T21:53:25.745133Z"
    },
    "papermill": {
     "duration": 0.021723,
     "end_time": "2025-07-30T21:53:25.748118",
     "exception": false,
     "start_time": "2025-07-30T21:53:25.726395",
     "status": "completed"
    },
    "tags": []
   },
   "outputs": [],
   "source": [
    "#siab_s = sample_by_year(siab, universe[\"training_size\"])"
   ]
  },
  {
   "cell_type": "code",
   "execution_count": 26,
   "id": "5db0a40e-a4e2-4920-be85-b12ae061d70d",
   "metadata": {
    "execution": {
     "iopub.execute_input": "2025-07-30T21:53:25.804773Z",
     "iopub.status.busy": "2025-07-30T21:53:25.804424Z",
     "iopub.status.idle": "2025-07-30T21:53:25.809072Z",
     "shell.execute_reply": "2025-07-30T21:53:25.808307Z"
    },
    "papermill": {
     "duration": 0.030509,
     "end_time": "2025-07-30T21:53:25.811506",
     "exception": false,
     "start_time": "2025-07-30T21:53:25.780997",
     "status": "completed"
    },
    "tags": []
   },
   "outputs": [],
   "source": [
    "#display(siab_s.groupby(\"year\").size())"
   ]
  },
  {
   "cell_type": "code",
   "execution_count": 27,
   "id": "e6c733c5",
   "metadata": {
    "execution": {
     "iopub.execute_input": "2025-07-30T21:53:25.871584Z",
     "iopub.status.busy": "2025-07-30T21:53:25.870796Z",
     "iopub.status.idle": "2025-07-30T21:53:26.026859Z",
     "shell.execute_reply": "2025-07-30T21:53:26.025554Z"
    },
    "papermill": {
     "duration": 0.183652,
     "end_time": "2025-07-30T21:53:26.029166",
     "exception": false,
     "start_time": "2025-07-30T21:53:25.845514",
     "status": "completed"
    },
    "tags": []
   },
   "outputs": [],
   "source": [
    "# Auxiliary data needed downstream in the pipeline\n",
    "\n",
    "org_train = X_train.copy()\n",
    "org_test = X_test.copy()\n",
    "org_calib = X_calib.copy()"
   ]
  },
  {
   "cell_type": "code",
   "execution_count": 28,
   "id": "1466abac-c6da-4492-a62f-4240ae3783af",
   "metadata": {
    "execution": {
     "iopub.execute_input": "2025-07-30T21:53:26.077978Z",
     "iopub.status.busy": "2025-07-30T21:53:26.077461Z",
     "iopub.status.idle": "2025-07-30T21:53:26.083056Z",
     "shell.execute_reply": "2025-07-30T21:53:26.082217Z"
    },
    "papermill": {
     "duration": 0.034386,
     "end_time": "2025-07-30T21:53:26.086661",
     "exception": false,
     "start_time": "2025-07-30T21:53:26.052275",
     "status": "completed"
    },
    "tags": []
   },
   "outputs": [],
   "source": [
    "# put in other script?\n",
    "# Group sizes\n",
    "\n",
    "#def calculate_percentages(df, df_name):\n",
    "#    total_entries = len(df)\n",
    "#\n",
    "#    female_pct = (df['frau1'] == 1).mean() * 100\n",
    "#    non_german_pct = ((df['maxdeutsch1'] == 0) & (df['maxdeutsch.Missing.'] == 0)).mean() * 100\n",
    "#    non_german_male_pct = ((df['frau1'] == 0) & (df['maxdeutsch1'] == 0) & (df['maxdeutsch.Missing.'] == 0)).mean() * 100\n",
    "#    non_german_female_pct = ((df['frau1'] == 1) & (df['maxdeutsch1'] == 0) & (df['maxdeutsch.Missing.'] == 0)).mean() * 100\n",
    "#\n",
    "#    print(f\"--- {df_name} ---\")\n",
    "#    print(f\"Female: {female_pct:.2f}%\")\n",
    "#    print(f\"Non-German: {non_german_pct:.2f}%\")\n",
    "#    print(f\"Non-German Male: {non_german_male_pct:.2f}%\")\n",
    "#    print(f\"Non-German Female: {non_german_female_pct:.2f}%\\n\")\n",
    "#\n",
    "## Calculate for each DataFrame\n",
    "#calculate_percentages(siab_calib, \"siab_calib\")\n",
    "#calculate_percentages(siab_test, \"siab_test\")\n",
    "#calculate_percentages(siab_train, \"siab_train\")"
   ]
  },
  {
   "cell_type": "markdown",
   "id": "0a4a1b33",
   "metadata": {
    "papermill": {
     "duration": 0.029571,
     "end_time": "2025-07-30T21:53:26.147958",
     "exception": false,
     "start_time": "2025-07-30T21:53:26.118387",
     "status": "completed"
    },
    "tags": []
   },
   "source": [
    "# Preprocessing Data"
   ]
  },
  {
   "cell_type": "code",
   "execution_count": 29,
   "id": "ca879031",
   "metadata": {
    "execution": {
     "iopub.execute_input": "2025-07-30T21:53:26.204462Z",
     "iopub.status.busy": "2025-07-30T21:53:26.203819Z",
     "iopub.status.idle": "2025-07-30T21:53:26.211739Z",
     "shell.execute_reply": "2025-07-30T21:53:26.210644Z"
    },
    "papermill": {
     "duration": 0.033664,
     "end_time": "2025-07-30T21:53:26.213872",
     "exception": false,
     "start_time": "2025-07-30T21:53:26.180208",
     "status": "completed"
    },
    "tags": []
   },
   "outputs": [],
   "source": [
    "# EXCLUDE PROTECTED FEATURES\n",
    "# ----------------------\n",
    "# \"exclude_features\": \"none\", # \"nationality\", \"sex\", \"nationality-sex\"\n",
    "\n",
    "excluded_features = universe[\"exclude_features\"].split(\"-\") # split, e.g.: \"nationality-sex\" -> [\"nationality\", \"sex\"]\n",
    "excluded_features_dictionary = {\n",
    "    \"nationality\": [\"maxdeutsch1\", \"maxdeutsch.Missing.\"],\n",
    "    \"sex\": [\"frau1\"],\n",
    "    \"age\": [\"age\"],\n",
    "}\n"
   ]
  },
  {
   "cell_type": "code",
   "execution_count": 30,
   "id": "b745ac60",
   "metadata": {
    "execution": {
     "iopub.execute_input": "2025-07-30T21:53:26.266995Z",
     "iopub.status.busy": "2025-07-30T21:53:26.265800Z",
     "iopub.status.idle": "2025-07-30T21:53:26.273291Z",
     "shell.execute_reply": "2025-07-30T21:53:26.272096Z"
    },
    "papermill": {
     "duration": 0.0341,
     "end_time": "2025-07-30T21:53:26.275396",
     "exception": false,
     "start_time": "2025-07-30T21:53:26.241296",
     "status": "completed"
    },
    "tags": []
   },
   "outputs": [],
   "source": [
    "# Code nice names to column names\n",
    "\n",
    "excluded_features_columns = [\n",
    "    excluded_features_dictionary[f] for f in excluded_features if len(f) > 0 and f != \"none\"\n",
    "]"
   ]
  },
  {
   "cell_type": "code",
   "execution_count": 31,
   "id": "f84f73a2",
   "metadata": {
    "execution": {
     "iopub.execute_input": "2025-07-30T21:53:26.308193Z",
     "iopub.status.busy": "2025-07-30T21:53:26.307671Z",
     "iopub.status.idle": "2025-07-30T21:53:26.314213Z",
     "shell.execute_reply": "2025-07-30T21:53:26.313357Z"
    },
    "papermill": {
     "duration": 0.02227,
     "end_time": "2025-07-30T21:53:26.315783",
     "exception": false,
     "start_time": "2025-07-30T21:53:26.293513",
     "status": "completed"
    },
    "tags": []
   },
   "outputs": [],
   "source": [
    "from utils import flatten_once\n",
    "\n",
    "excluded_features_columns = flatten_once(excluded_features_columns)"
   ]
  },
  {
   "cell_type": "code",
   "execution_count": 32,
   "id": "884dea22",
   "metadata": {
    "execution": {
     "iopub.execute_input": "2025-07-30T21:53:26.363613Z",
     "iopub.status.busy": "2025-07-30T21:53:26.363121Z",
     "iopub.status.idle": "2025-07-30T21:53:26.369714Z",
     "shell.execute_reply": "2025-07-30T21:53:26.368641Z"
    },
    "papermill": {
     "duration": 0.032496,
     "end_time": "2025-07-30T21:53:26.371425",
     "exception": false,
     "start_time": "2025-07-30T21:53:26.338929",
     "status": "completed"
    },
    "tags": []
   },
   "outputs": [],
   "source": [
    "if len(excluded_features_columns) > 0:\n",
    "    print(f\"Dropping features: {excluded_features_columns}\")\n",
    "    X_train.drop(excluded_features_columns, axis=1, inplace=True)"
   ]
  },
  {
   "cell_type": "code",
   "execution_count": 33,
   "id": "95ab8b16",
   "metadata": {
    "execution": {
     "iopub.execute_input": "2025-07-30T21:53:26.421479Z",
     "iopub.status.busy": "2025-07-30T21:53:26.421015Z",
     "iopub.status.idle": "2025-07-30T21:53:26.427339Z",
     "shell.execute_reply": "2025-07-30T21:53:26.426232Z"
    },
    "papermill": {
     "duration": 0.035692,
     "end_time": "2025-07-30T21:53:26.429175",
     "exception": false,
     "start_time": "2025-07-30T21:53:26.393483",
     "status": "completed"
    },
    "tags": []
   },
   "outputs": [],
   "source": [
    "if len(excluded_features_columns) > 0:\n",
    "    print(f\"Dropping features: {excluded_features_columns}\")\n",
    "    X_test.drop(excluded_features_columns, axis=1, inplace=True)"
   ]
  },
  {
   "cell_type": "code",
   "execution_count": 34,
   "id": "1853aaf5-fb9f-46cb-a2b5-8ea4ae2237e4",
   "metadata": {
    "execution": {
     "iopub.execute_input": "2025-07-30T21:53:26.467689Z",
     "iopub.status.busy": "2025-07-30T21:53:26.467315Z",
     "iopub.status.idle": "2025-07-30T21:53:26.473226Z",
     "shell.execute_reply": "2025-07-30T21:53:26.472072Z"
    },
    "papermill": {
     "duration": 0.022193,
     "end_time": "2025-07-30T21:53:26.475231",
     "exception": false,
     "start_time": "2025-07-30T21:53:26.453038",
     "status": "completed"
    },
    "tags": []
   },
   "outputs": [],
   "source": [
    "if len(excluded_features_columns) > 0:\n",
    "    print(f\"Dropping features: {excluded_features_columns}\")\n",
    "    X_calib.drop(excluded_features_columns, axis=1, inplace=True)"
   ]
  },
  {
   "cell_type": "code",
   "execution_count": 35,
   "id": "6727d079-03e5-481e-9d38-292a90b7a0a8",
   "metadata": {
    "execution": {
     "iopub.execute_input": "2025-07-30T21:53:26.520710Z",
     "iopub.status.busy": "2025-07-30T21:53:26.520251Z",
     "iopub.status.idle": "2025-07-30T21:53:26.525114Z",
     "shell.execute_reply": "2025-07-30T21:53:26.524288Z"
    },
    "papermill": {
     "duration": 0.02887,
     "end_time": "2025-07-30T21:53:26.526892",
     "exception": false,
     "start_time": "2025-07-30T21:53:26.498022",
     "status": "completed"
    },
    "tags": []
   },
   "outputs": [],
   "source": [
    "# SPLIT & STRATIFY DATA\n",
    "# ----------------------"
   ]
  },
  {
   "cell_type": "code",
   "execution_count": 36,
   "id": "76c4dc6d",
   "metadata": {
    "execution": {
     "iopub.execute_input": "2025-07-30T21:53:26.572907Z",
     "iopub.status.busy": "2025-07-30T21:53:26.572156Z",
     "iopub.status.idle": "2025-07-30T21:53:26.577445Z",
     "shell.execute_reply": "2025-07-30T21:53:26.576595Z"
    },
    "papermill": {
     "duration": 0.02966,
     "end_time": "2025-07-30T21:53:26.578967",
     "exception": false,
     "start_time": "2025-07-30T21:53:26.549307",
     "status": "completed"
    },
    "tags": []
   },
   "outputs": [],
   "source": [
    "# EXCLUDE CERTAIN SUBGROUPS\n",
    "# ----------------------\n",
    "\n",
    "mode = universe.get(\"exclude_subgroups\", \"keep-all\") \n",
    "# Fetches the exclude_subgroups setting from the universe dict.\n",
    "# Defaults to \"keep-all\" if the key is missing."
   ]
  },
  {
   "cell_type": "code",
   "execution_count": 37,
   "id": "21994072",
   "metadata": {
    "execution": {
     "iopub.execute_input": "2025-07-30T21:53:26.625266Z",
     "iopub.status.busy": "2025-07-30T21:53:26.624128Z",
     "iopub.status.idle": "2025-07-30T21:53:26.633326Z",
     "shell.execute_reply": "2025-07-30T21:53:26.632171Z"
    },
    "papermill": {
     "duration": 0.034167,
     "end_time": "2025-07-30T21:53:26.634994",
     "exception": false,
     "start_time": "2025-07-30T21:53:26.600827",
     "status": "completed"
    },
    "tags": []
   },
   "outputs": [],
   "source": [
    "if mode == \"keep-all\":\n",
    "    keep_mask = pd.Series(True, index=org_train.index)\n",
    "\n",
    "# org_train contains the original feature columns from features_org (in Simson)\n",
    "# features_org contains unprocessed features, for me X_train at beginning ???\n",
    "# For keep-all, creates a boolean Series (keep_mask) of all True, so no rows are removed.\n",
    "\n",
    "elif mode == \"drop-non-german\":\n",
    "    keep_mask = org_train[\"maxdeutsch1\"] == 1 # ??? what about missing values?\n",
    "\n",
    "else:\n",
    "    raise ValueError(f\"Unsupported mode for exclude_subgroups: {mode}\")\n"
   ]
  },
  {
   "cell_type": "code",
   "execution_count": 38,
   "id": "71651440",
   "metadata": {
    "execution": {
     "iopub.execute_input": "2025-07-30T21:53:26.682175Z",
     "iopub.status.busy": "2025-07-30T21:53:26.681354Z",
     "iopub.status.idle": "2025-07-30T21:53:26.689365Z",
     "shell.execute_reply": "2025-07-30T21:53:26.688066Z"
    },
    "papermill": {
     "duration": 0.031761,
     "end_time": "2025-07-30T21:53:26.690965",
     "exception": false,
     "start_time": "2025-07-30T21:53:26.659204",
     "status": "completed"
    },
    "tags": []
   },
   "outputs": [
    {
     "name": "stdout",
     "output_type": "stream",
     "text": [
      "Dropping 131 rows (13.10%) where mode='drop-non-german'\n"
     ]
    }
   ],
   "source": [
    "n_drop = (~keep_mask).sum() # Calculates how many rows are set to be dropped\n",
    "if n_drop > 0:\n",
    "    pct = n_drop / len(keep_mask) * 100\n",
    "    print(f\"Dropping {n_drop} rows ({pct:.2f}%) where mode='{mode}'\")"
   ]
  },
  {
   "cell_type": "code",
   "execution_count": 39,
   "id": "5fb8eee5",
   "metadata": {
    "execution": {
     "iopub.execute_input": "2025-07-30T21:53:26.737318Z",
     "iopub.status.busy": "2025-07-30T21:53:26.736706Z",
     "iopub.status.idle": "2025-07-30T21:53:26.743317Z",
     "shell.execute_reply": "2025-07-30T21:53:26.742229Z"
    },
    "papermill": {
     "duration": 0.031597,
     "end_time": "2025-07-30T21:53:26.745544",
     "exception": false,
     "start_time": "2025-07-30T21:53:26.713947",
     "status": "completed"
    },
    "tags": []
   },
   "outputs": [],
   "source": [
    "X_train = X_train[keep_mask]"
   ]
  },
  {
   "cell_type": "code",
   "execution_count": 40,
   "id": "b202bb3a",
   "metadata": {
    "execution": {
     "iopub.execute_input": "2025-07-30T21:53:26.812185Z",
     "iopub.status.busy": "2025-07-30T21:53:26.811599Z",
     "iopub.status.idle": "2025-07-30T21:53:26.818821Z",
     "shell.execute_reply": "2025-07-30T21:53:26.817582Z"
    },
    "papermill": {
     "duration": 0.04372,
     "end_time": "2025-07-30T21:53:26.821544",
     "exception": false,
     "start_time": "2025-07-30T21:53:26.777824",
     "status": "completed"
    },
    "tags": []
   },
   "outputs": [],
   "source": [
    "y_train = y_train[keep_mask]"
   ]
  },
  {
   "cell_type": "markdown",
   "id": "493e2ac3",
   "metadata": {
    "papermill": {
     "duration": 0.031136,
     "end_time": "2025-07-30T21:53:26.885077",
     "exception": false,
     "start_time": "2025-07-30T21:53:26.853941",
     "status": "completed"
    },
    "tags": []
   },
   "source": [
    "# Model Training"
   ]
  },
  {
   "cell_type": "code",
   "execution_count": 41,
   "id": "679e1268",
   "metadata": {
    "execution": {
     "iopub.execute_input": "2025-07-30T21:53:26.948878Z",
     "iopub.status.busy": "2025-07-30T21:53:26.948480Z",
     "iopub.status.idle": "2025-07-30T21:53:27.055180Z",
     "shell.execute_reply": "2025-07-30T21:53:27.054266Z"
    },
    "papermill": {
     "duration": 0.141431,
     "end_time": "2025-07-30T21:53:27.057276",
     "exception": false,
     "start_time": "2025-07-30T21:53:26.915845",
     "status": "completed"
    },
    "tags": []
   },
   "outputs": [],
   "source": [
    "from sklearn.linear_model import LogisticRegression\n",
    "from sklearn.ensemble import GradientBoostingClassifier, RandomForestClassifier\n",
    "\n",
    "if (universe[\"model\"] == \"logreg\"):\n",
    "    model = LogisticRegression() #penalty=\"none\") #, solver=\"newton-cg\", max_iter=1) # include random_state=19 ?\n",
    "elif (universe[\"model\"] == \"penalized_logreg\"):\n",
    "    model = LogisticRegression(penalty=\"l2\", C=1.0) #, solver=\"newton-cg\", max_iter=1)\n",
    "elif (universe[\"model\"] == \"rf\"):\n",
    "    model = RandomForestClassifier(n_estimators=100, n_jobs=-1)\n",
    "elif (universe[\"model\"] == \"gbm\"):\n",
    "    model = GradientBoostingClassifier()\n",
    "elif (universe[\"model\"] == \"elasticnet\"):\n",
    "    model = LogisticRegression(penalty = 'elasticnet', solver = 'saga', l1_ratio = 0.5, max_iter=5000) # which solver to use?\n",
    "else:\n",
    "    raise \"Unsupported universe.model\""
   ]
  },
  {
   "cell_type": "code",
   "execution_count": 42,
   "id": "0cc8f744",
   "metadata": {
    "execution": {
     "iopub.execute_input": "2025-07-30T21:53:27.100523Z",
     "iopub.status.busy": "2025-07-30T21:53:27.100023Z",
     "iopub.status.idle": "2025-07-30T21:53:27.105732Z",
     "shell.execute_reply": "2025-07-30T21:53:27.104716Z"
    },
    "papermill": {
     "duration": 0.026384,
     "end_time": "2025-07-30T21:53:27.109278",
     "exception": false,
     "start_time": "2025-07-30T21:53:27.082894",
     "status": "completed"
    },
    "tags": []
   },
   "outputs": [],
   "source": [
    "import numpy as np\n",
    "from sklearn.pipeline import Pipeline\n",
    "from sklearn.preprocessing import StandardScaler\n",
    "\n",
    "model = Pipeline([\n",
    "    #(\"continuous_processor\", continuous_processor),\n",
    "    #(\"categorical_preprocessor\", categorical_preprocessor),\n",
    "    (\"scale\", StandardScaler() if universe[\"scale\"] == \"scale\" else None), \n",
    "    (\"model\", model),\n",
    "])"
   ]
  },
  {
   "cell_type": "code",
   "execution_count": 43,
   "id": "9442c04d",
   "metadata": {
    "execution": {
     "iopub.execute_input": "2025-07-30T21:53:27.159182Z",
     "iopub.status.busy": "2025-07-30T21:53:27.158253Z",
     "iopub.status.idle": "2025-07-30T21:53:43.825514Z",
     "shell.execute_reply": "2025-07-30T21:53:43.824377Z"
    },
    "papermill": {
     "duration": 16.694412,
     "end_time": "2025-07-30T21:53:43.827264",
     "exception": false,
     "start_time": "2025-07-30T21:53:27.132852",
     "status": "completed"
    },
    "tags": []
   },
   "outputs": [
    {
     "name": "stderr",
     "output_type": "stream",
     "text": [
      "/dss/dsshome1/0C/ra93lal2/.local/share/virtualenvs/CMA_Fairness_v2-3j10GkSs/lib/python3.10/site-packages/sklearn/linear_model/_sag.py:350: ConvergenceWarning: The max_iter was reached which means the coef_ did not converge\n",
      "  warnings.warn(\n"
     ]
    },
    {
     "data": {
      "text/html": [
       "<style>#sk-container-id-1 {color: black;background-color: white;}#sk-container-id-1 pre{padding: 0;}#sk-container-id-1 div.sk-toggleable {background-color: white;}#sk-container-id-1 label.sk-toggleable__label {cursor: pointer;display: block;width: 100%;margin-bottom: 0;padding: 0.3em;box-sizing: border-box;text-align: center;}#sk-container-id-1 label.sk-toggleable__label-arrow:before {content: \"▸\";float: left;margin-right: 0.25em;color: #696969;}#sk-container-id-1 label.sk-toggleable__label-arrow:hover:before {color: black;}#sk-container-id-1 div.sk-estimator:hover label.sk-toggleable__label-arrow:before {color: black;}#sk-container-id-1 div.sk-toggleable__content {max-height: 0;max-width: 0;overflow: hidden;text-align: left;background-color: #f0f8ff;}#sk-container-id-1 div.sk-toggleable__content pre {margin: 0.2em;color: black;border-radius: 0.25em;background-color: #f0f8ff;}#sk-container-id-1 input.sk-toggleable__control:checked~div.sk-toggleable__content {max-height: 200px;max-width: 100%;overflow: auto;}#sk-container-id-1 input.sk-toggleable__control:checked~label.sk-toggleable__label-arrow:before {content: \"▾\";}#sk-container-id-1 div.sk-estimator input.sk-toggleable__control:checked~label.sk-toggleable__label {background-color: #d4ebff;}#sk-container-id-1 div.sk-label input.sk-toggleable__control:checked~label.sk-toggleable__label {background-color: #d4ebff;}#sk-container-id-1 input.sk-hidden--visually {border: 0;clip: rect(1px 1px 1px 1px);clip: rect(1px, 1px, 1px, 1px);height: 1px;margin: -1px;overflow: hidden;padding: 0;position: absolute;width: 1px;}#sk-container-id-1 div.sk-estimator {font-family: monospace;background-color: #f0f8ff;border: 1px dotted black;border-radius: 0.25em;box-sizing: border-box;margin-bottom: 0.5em;}#sk-container-id-1 div.sk-estimator:hover {background-color: #d4ebff;}#sk-container-id-1 div.sk-parallel-item::after {content: \"\";width: 100%;border-bottom: 1px solid gray;flex-grow: 1;}#sk-container-id-1 div.sk-label:hover label.sk-toggleable__label {background-color: #d4ebff;}#sk-container-id-1 div.sk-serial::before {content: \"\";position: absolute;border-left: 1px solid gray;box-sizing: border-box;top: 0;bottom: 0;left: 50%;z-index: 0;}#sk-container-id-1 div.sk-serial {display: flex;flex-direction: column;align-items: center;background-color: white;padding-right: 0.2em;padding-left: 0.2em;position: relative;}#sk-container-id-1 div.sk-item {position: relative;z-index: 1;}#sk-container-id-1 div.sk-parallel {display: flex;align-items: stretch;justify-content: center;background-color: white;position: relative;}#sk-container-id-1 div.sk-item::before, #sk-container-id-1 div.sk-parallel-item::before {content: \"\";position: absolute;border-left: 1px solid gray;box-sizing: border-box;top: 0;bottom: 0;left: 50%;z-index: -1;}#sk-container-id-1 div.sk-parallel-item {display: flex;flex-direction: column;z-index: 1;position: relative;background-color: white;}#sk-container-id-1 div.sk-parallel-item:first-child::after {align-self: flex-end;width: 50%;}#sk-container-id-1 div.sk-parallel-item:last-child::after {align-self: flex-start;width: 50%;}#sk-container-id-1 div.sk-parallel-item:only-child::after {width: 0;}#sk-container-id-1 div.sk-dashed-wrapped {border: 1px dashed gray;margin: 0 0.4em 0.5em 0.4em;box-sizing: border-box;padding-bottom: 0.4em;background-color: white;}#sk-container-id-1 div.sk-label label {font-family: monospace;font-weight: bold;display: inline-block;line-height: 1.2em;}#sk-container-id-1 div.sk-label-container {text-align: center;}#sk-container-id-1 div.sk-container {/* jupyter's `normalize.less` sets `[hidden] { display: none; }` but bootstrap.min.css set `[hidden] { display: none !important; }` so we also need the `!important` here to be able to override the default hidden behavior on the sphinx rendered scikit-learn.org. See: https://github.com/scikit-learn/scikit-learn/issues/21755 */display: inline-block !important;position: relative;}#sk-container-id-1 div.sk-text-repr-fallback {display: none;}</style><div id=\"sk-container-id-1\" class=\"sk-top-container\"><div class=\"sk-text-repr-fallback\"><pre>Pipeline(steps=[(&#x27;scale&#x27;, None),\n",
       "                (&#x27;model&#x27;,\n",
       "                 LogisticRegression(l1_ratio=0.5, max_iter=5000,\n",
       "                                    penalty=&#x27;elasticnet&#x27;, solver=&#x27;saga&#x27;))])</pre><b>In a Jupyter environment, please rerun this cell to show the HTML representation or trust the notebook. <br />On GitHub, the HTML representation is unable to render, please try loading this page with nbviewer.org.</b></div><div class=\"sk-container\" hidden><div class=\"sk-item sk-dashed-wrapped\"><div class=\"sk-label-container\"><div class=\"sk-label sk-toggleable\"><input class=\"sk-toggleable__control sk-hidden--visually\" id=\"sk-estimator-id-1\" type=\"checkbox\" ><label for=\"sk-estimator-id-1\" class=\"sk-toggleable__label sk-toggleable__label-arrow\">Pipeline</label><div class=\"sk-toggleable__content\"><pre>Pipeline(steps=[(&#x27;scale&#x27;, None),\n",
       "                (&#x27;model&#x27;,\n",
       "                 LogisticRegression(l1_ratio=0.5, max_iter=5000,\n",
       "                                    penalty=&#x27;elasticnet&#x27;, solver=&#x27;saga&#x27;))])</pre></div></div></div><div class=\"sk-serial\"><div class=\"sk-item\"><div class=\"sk-estimator sk-toggleable\"><input class=\"sk-toggleable__control sk-hidden--visually\" id=\"sk-estimator-id-2\" type=\"checkbox\" ><label for=\"sk-estimator-id-2\" class=\"sk-toggleable__label sk-toggleable__label-arrow\">None</label><div class=\"sk-toggleable__content\"><pre>None</pre></div></div></div><div class=\"sk-item\"><div class=\"sk-estimator sk-toggleable\"><input class=\"sk-toggleable__control sk-hidden--visually\" id=\"sk-estimator-id-3\" type=\"checkbox\" ><label for=\"sk-estimator-id-3\" class=\"sk-toggleable__label sk-toggleable__label-arrow\">LogisticRegression</label><div class=\"sk-toggleable__content\"><pre>LogisticRegression(l1_ratio=0.5, max_iter=5000, penalty=&#x27;elasticnet&#x27;,\n",
       "                   solver=&#x27;saga&#x27;)</pre></div></div></div></div></div></div></div>"
      ],
      "text/plain": [
       "Pipeline(steps=[('scale', None),\n",
       "                ('model',\n",
       "                 LogisticRegression(l1_ratio=0.5, max_iter=5000,\n",
       "                                    penalty='elasticnet', solver='saga'))])"
      ]
     },
     "execution_count": 43,
     "metadata": {},
     "output_type": "execute_result"
    }
   ],
   "source": [
    "model.fit(X_train, y_train.values.ravel())"
   ]
  },
  {
   "cell_type": "code",
   "execution_count": 44,
   "id": "af59f8c0",
   "metadata": {
    "execution": {
     "iopub.execute_input": "2025-07-30T21:53:43.879939Z",
     "iopub.status.busy": "2025-07-30T21:53:43.879097Z",
     "iopub.status.idle": "2025-07-30T21:53:43.884624Z",
     "shell.execute_reply": "2025-07-30T21:53:43.883641Z"
    },
    "papermill": {
     "duration": 0.032297,
     "end_time": "2025-07-30T21:53:43.886562",
     "exception": false,
     "start_time": "2025-07-30T21:53:43.854265",
     "status": "completed"
    },
    "tags": []
   },
   "outputs": [],
   "source": [
    "from fairness_multiverse.universe import predict_w_threshold"
   ]
  },
  {
   "cell_type": "code",
   "execution_count": 45,
   "id": "a7cf2e16",
   "metadata": {
    "execution": {
     "iopub.execute_input": "2025-07-30T21:53:43.934478Z",
     "iopub.status.busy": "2025-07-30T21:53:43.933939Z",
     "iopub.status.idle": "2025-07-30T21:53:44.040817Z",
     "shell.execute_reply": "2025-07-30T21:53:44.039829Z"
    },
    "papermill": {
     "duration": 0.132113,
     "end_time": "2025-07-30T21:53:44.042659",
     "exception": false,
     "start_time": "2025-07-30T21:53:43.910546",
     "status": "completed"
    },
    "tags": []
   },
   "outputs": [
    {
     "data": {
      "text/plain": [
       "0.8631479210790325"
      ]
     },
     "execution_count": 45,
     "metadata": {},
     "output_type": "execute_result"
    }
   ],
   "source": [
    "probs_test = model.predict_proba(X_test)\n",
    "\n",
    "'''\n",
    "Below code returns a boolean array (or binary 0/1 array depending on how it’s used) where each element \n",
    "is True if the probability of class 1 is greater than or equal to the threshold, and False otherwise.\n",
    "'''\n",
    "y_pred_default = predict_w_threshold(probs_test, 0.5)\n",
    "\n",
    "from sklearn.metrics import accuracy_score\n",
    "\n",
    "# Naive prediction\n",
    "accuracy_score(y_true = y_true, y_pred = y_pred_default)"
   ]
  },
  {
   "cell_type": "code",
   "execution_count": 46,
   "id": "081964c3",
   "metadata": {
    "execution": {
     "iopub.execute_input": "2025-07-30T21:53:44.089656Z",
     "iopub.status.busy": "2025-07-30T21:53:44.088835Z",
     "iopub.status.idle": "2025-07-30T21:53:44.177329Z",
     "shell.execute_reply": "2025-07-30T21:53:44.176282Z"
    },
    "papermill": {
     "duration": 0.115106,
     "end_time": "2025-07-30T21:53:44.179000",
     "exception": false,
     "start_time": "2025-07-30T21:53:44.063894",
     "status": "completed"
    },
    "tags": []
   },
   "outputs": [
    {
     "data": {
      "text/plain": [
       "array([0, 0, 0, ..., 0, 0, 0])"
      ]
     },
     "execution_count": 46,
     "metadata": {},
     "output_type": "execute_result"
    }
   ],
   "source": [
    "model.predict(X_test)"
   ]
  },
  {
   "cell_type": "markdown",
   "id": "56c9705b",
   "metadata": {
    "papermill": {
     "duration": 0.024815,
     "end_time": "2025-07-30T21:53:44.226187",
     "exception": false,
     "start_time": "2025-07-30T21:53:44.201372",
     "status": "completed"
    },
    "tags": []
   },
   "source": [
    "# Conformal Prediction"
   ]
  },
  {
   "cell_type": "code",
   "execution_count": 47,
   "id": "160ec6ff",
   "metadata": {
    "execution": {
     "iopub.execute_input": "2025-07-30T21:53:44.267500Z",
     "iopub.status.busy": "2025-07-30T21:53:44.267134Z",
     "iopub.status.idle": "2025-07-30T21:53:44.271904Z",
     "shell.execute_reply": "2025-07-30T21:53:44.271039Z"
    },
    "papermill": {
     "duration": 0.022588,
     "end_time": "2025-07-30T21:53:44.273398",
     "exception": false,
     "start_time": "2025-07-30T21:53:44.250810",
     "status": "completed"
    },
    "tags": []
   },
   "outputs": [],
   "source": [
    "# Miscoverage level for conformal prediction (10% allowed error rate => 90% target coverage)\n",
    "alpha = 0.1"
   ]
  },
  {
   "cell_type": "code",
   "execution_count": 48,
   "id": "eadf4555-3dd3-440e-8e35-f82a4ad9f855",
   "metadata": {
    "execution": {
     "iopub.execute_input": "2025-07-30T21:53:44.326032Z",
     "iopub.status.busy": "2025-07-30T21:53:44.325472Z",
     "iopub.status.idle": "2025-07-30T21:53:44.416126Z",
     "shell.execute_reply": "2025-07-30T21:53:44.415047Z"
    },
    "papermill": {
     "duration": 0.118431,
     "end_time": "2025-07-30T21:53:44.418086",
     "exception": false,
     "start_time": "2025-07-30T21:53:44.299655",
     "status": "completed"
    },
    "tags": []
   },
   "outputs": [],
   "source": [
    "probs_calib = model.predict_proba(X_calib)"
   ]
  },
  {
   "cell_type": "code",
   "execution_count": 49,
   "id": "2ed93547-6d5d-4983-9b36-1ecb300da49a",
   "metadata": {
    "execution": {
     "iopub.execute_input": "2025-07-30T21:53:44.476488Z",
     "iopub.status.busy": "2025-07-30T21:53:44.475531Z",
     "iopub.status.idle": "2025-07-30T21:53:44.482043Z",
     "shell.execute_reply": "2025-07-30T21:53:44.481087Z"
    },
    "papermill": {
     "duration": 0.035593,
     "end_time": "2025-07-30T21:53:44.483873",
     "exception": false,
     "start_time": "2025-07-30T21:53:44.448280",
     "status": "completed"
    },
    "tags": []
   },
   "outputs": [],
   "source": [
    "y_calib = y_calib.values.ravel().astype(int)"
   ]
  },
  {
   "cell_type": "code",
   "execution_count": 50,
   "id": "65d1320d-f588-4b38-9072-62af1ae97f7d",
   "metadata": {
    "execution": {
     "iopub.execute_input": "2025-07-30T21:53:44.538722Z",
     "iopub.status.busy": "2025-07-30T21:53:44.538181Z",
     "iopub.status.idle": "2025-07-30T21:53:44.546276Z",
     "shell.execute_reply": "2025-07-30T21:53:44.545279Z"
    },
    "papermill": {
     "duration": 0.037841,
     "end_time": "2025-07-30T21:53:44.547982",
     "exception": false,
     "start_time": "2025-07-30T21:53:44.510141",
     "status": "completed"
    },
    "tags": []
   },
   "outputs": [],
   "source": [
    "from fairness_multiverse.conformal import compute_nc_scores\n",
    "\n",
    "# Compute nonconformity scores on calibration set (1 - probability of true class)\n",
    "nc_scores = compute_nc_scores(probs_calib, y_calib)"
   ]
  },
  {
   "cell_type": "code",
   "execution_count": 51,
   "id": "df3b8ca3-53b7-43d5-9667-7c85da7aeda2",
   "metadata": {
    "execution": {
     "iopub.execute_input": "2025-07-30T21:53:44.601961Z",
     "iopub.status.busy": "2025-07-30T21:53:44.601087Z",
     "iopub.status.idle": "2025-07-30T21:53:44.607900Z",
     "shell.execute_reply": "2025-07-30T21:53:44.606902Z"
    },
    "papermill": {
     "duration": 0.035802,
     "end_time": "2025-07-30T21:53:44.609840",
     "exception": false,
     "start_time": "2025-07-30T21:53:44.574038",
     "status": "completed"
    },
    "tags": []
   },
   "outputs": [],
   "source": [
    "from fairness_multiverse.conformal import find_threshold\n",
    "\n",
    "# Find conformal threshold q_hat for the given alpha (split conformal method)\n",
    "q_hat = find_threshold(nc_scores, alpha)"
   ]
  },
  {
   "cell_type": "code",
   "execution_count": 52,
   "id": "4d29e6c1-0ef6-4aa4-b8fe-4fe79b0d033a",
   "metadata": {
    "execution": {
     "iopub.execute_input": "2025-07-30T21:53:44.666380Z",
     "iopub.status.busy": "2025-07-30T21:53:44.665740Z",
     "iopub.status.idle": "2025-07-30T21:53:44.673989Z",
     "shell.execute_reply": "2025-07-30T21:53:44.672953Z"
    },
    "papermill": {
     "duration": 0.039693,
     "end_time": "2025-07-30T21:53:44.677261",
     "exception": false,
     "start_time": "2025-07-30T21:53:44.637568",
     "status": "completed"
    },
    "tags": []
   },
   "outputs": [
    {
     "data": {
      "text/plain": [
       "0.6909967687802409"
      ]
     },
     "execution_count": 52,
     "metadata": {},
     "output_type": "execute_result"
    }
   ],
   "source": [
    "q_hat"
   ]
  },
  {
   "cell_type": "code",
   "execution_count": 53,
   "id": "92460794-cdac-4be2-ba28-f28c0515a6fb",
   "metadata": {
    "execution": {
     "iopub.execute_input": "2025-07-30T21:53:44.730039Z",
     "iopub.status.busy": "2025-07-30T21:53:44.729326Z",
     "iopub.status.idle": "2025-07-30T21:53:45.376067Z",
     "shell.execute_reply": "2025-07-30T21:53:45.375292Z"
    },
    "papermill": {
     "duration": 0.67372,
     "end_time": "2025-07-30T21:53:45.377530",
     "exception": false,
     "start_time": "2025-07-30T21:53:44.703810",
     "status": "completed"
    },
    "tags": []
   },
   "outputs": [],
   "source": [
    "from fairness_multiverse.conformal import predict_conformal_sets\n",
    "\n",
    "# Generate prediction sets for each test example\n",
    "pred_sets = predict_conformal_sets(model, X_test, q_hat)"
   ]
  },
  {
   "cell_type": "code",
   "execution_count": 54,
   "id": "d90c9a65-e6db-4f5d-80cd-e68fb7e46829",
   "metadata": {
    "execution": {
     "iopub.execute_input": "2025-07-30T21:53:45.404903Z",
     "iopub.status.busy": "2025-07-30T21:53:45.404569Z",
     "iopub.status.idle": "2025-07-30T21:53:45.411506Z",
     "shell.execute_reply": "2025-07-30T21:53:45.410593Z"
    },
    "papermill": {
     "duration": 0.022638,
     "end_time": "2025-07-30T21:53:45.413187",
     "exception": false,
     "start_time": "2025-07-30T21:53:45.390549",
     "status": "completed"
    },
    "tags": []
   },
   "outputs": [],
   "source": [
    "y_true = y_true.squeeze()"
   ]
  },
  {
   "cell_type": "code",
   "execution_count": 55,
   "id": "3a58a54a-1e68-46b9-927a-df01f18aebc8",
   "metadata": {
    "execution": {
     "iopub.execute_input": "2025-07-30T21:53:45.469468Z",
     "iopub.status.busy": "2025-07-30T21:53:45.468755Z",
     "iopub.status.idle": "2025-07-30T21:53:46.485145Z",
     "shell.execute_reply": "2025-07-30T21:53:46.484419Z"
    },
    "papermill": {
     "duration": 1.044083,
     "end_time": "2025-07-30T21:53:46.486584",
     "exception": false,
     "start_time": "2025-07-30T21:53:45.442501",
     "status": "completed"
    },
    "tags": []
   },
   "outputs": [],
   "source": [
    "from fairness_multiverse.conformal import evaluate_sets\n",
    "\n",
    "# Evaluate coverage and average set size on test data\n",
    "metrics = evaluate_sets(pred_sets, y_true)"
   ]
  },
  {
   "cell_type": "markdown",
   "id": "2b569c12-9aaa-4c88-98c9-bbcd0cf3ebb8",
   "metadata": {
    "papermill": {
     "duration": 0.016,
     "end_time": "2025-07-30T21:53:46.515830",
     "exception": false,
     "start_time": "2025-07-30T21:53:46.499830",
     "status": "completed"
    },
    "tags": []
   },
   "source": [
    "# CP Metrics"
   ]
  },
  {
   "cell_type": "code",
   "execution_count": 56,
   "id": "5ce0a5cb-201f-45a0-ade5-94c7f0bd6095",
   "metadata": {
    "execution": {
     "iopub.execute_input": "2025-07-30T21:53:46.583653Z",
     "iopub.status.busy": "2025-07-30T21:53:46.582445Z",
     "iopub.status.idle": "2025-07-30T21:53:46.590606Z",
     "shell.execute_reply": "2025-07-30T21:53:46.589484Z"
    },
    "papermill": {
     "duration": 0.046082,
     "end_time": "2025-07-30T21:53:46.592593",
     "exception": false,
     "start_time": "2025-07-30T21:53:46.546511",
     "status": "completed"
    },
    "tags": []
   },
   "outputs": [
    {
     "data": {
      "text/plain": [
       "{'coverage': 0.9131869356816409, 'avg_size': 1.2532828001337644}"
      ]
     },
     "execution_count": 56,
     "metadata": {},
     "output_type": "execute_result"
    }
   ],
   "source": [
    "metrics"
   ]
  },
  {
   "cell_type": "code",
   "execution_count": 57,
   "id": "9b9a838d-31c9-430b-ae14-12baee460d17",
   "metadata": {
    "execution": {
     "iopub.execute_input": "2025-07-30T21:53:46.643906Z",
     "iopub.status.busy": "2025-07-30T21:53:46.643474Z",
     "iopub.status.idle": "2025-07-30T21:53:46.650117Z",
     "shell.execute_reply": "2025-07-30T21:53:46.649211Z"
    },
    "papermill": {
     "duration": 0.032075,
     "end_time": "2025-07-30T21:53:46.651683",
     "exception": false,
     "start_time": "2025-07-30T21:53:46.619608",
     "status": "completed"
    },
    "tags": []
   },
   "outputs": [],
   "source": [
    "example_universe = universe.copy()\n",
    "universe_training_year = example_universe.get(\"training_year\")\n",
    "universe_training_size = example_universe.get(\"training_size\")\n",
    "universe_scale = example_universe.get(\"scale\")\n",
    "universe_model = example_universe.get(\"model\")\n",
    "universe_exclude_features = example_universe.get(\"exclude_features\")\n",
    "universe_exclude_subgroups = example_universe.get(\"exclude_subgroups\")"
   ]
  },
  {
   "cell_type": "code",
   "execution_count": 58,
   "id": "f4b6a8ac-9dc0-4245-8a91-5b3b5999c4f9",
   "metadata": {
    "execution": {
     "iopub.execute_input": "2025-07-30T21:53:46.722065Z",
     "iopub.status.busy": "2025-07-30T21:53:46.721343Z",
     "iopub.status.idle": "2025-07-30T21:53:46.728789Z",
     "shell.execute_reply": "2025-07-30T21:53:46.727400Z"
    },
    "papermill": {
     "duration": 0.044707,
     "end_time": "2025-07-30T21:53:46.730710",
     "exception": false,
     "start_time": "2025-07-30T21:53:46.686003",
     "status": "completed"
    },
    "tags": []
   },
   "outputs": [],
   "source": [
    "cp_metrics_dict = {\n",
    "    \"universe_id\": [universe_id],\n",
    "    \"universe_training_year\": [universe_training_year],\n",
    "    \"universe_training_size\": [universe_training_size],\n",
    "    \"universe_scale\": [universe_scale],\n",
    "    \"universe_model\": [universe_model],\n",
    "    \"universe_exclude_features\": [universe_exclude_features],\n",
    "    \"universe_exclude_subgroups\": [universe_exclude_subgroups],\n",
    "    \"q_hat\": [q_hat],\n",
    "    \"coverage\": [metrics[\"coverage\"]],\n",
    "    \"avg_size\": [metrics[\"avg_size\"]],\n",
    "}"
   ]
  },
  {
   "cell_type": "code",
   "execution_count": 59,
   "id": "908acbb1-0371-4915-85ca-3fa520d2efe2",
   "metadata": {
    "execution": {
     "iopub.execute_input": "2025-07-30T21:53:46.767753Z",
     "iopub.status.busy": "2025-07-30T21:53:46.767288Z",
     "iopub.status.idle": "2025-07-30T21:53:46.774791Z",
     "shell.execute_reply": "2025-07-30T21:53:46.773703Z"
    },
    "papermill": {
     "duration": 0.027577,
     "end_time": "2025-07-30T21:53:46.776186",
     "exception": false,
     "start_time": "2025-07-30T21:53:46.748609",
     "status": "completed"
    },
    "tags": []
   },
   "outputs": [
    {
     "data": {
      "text/plain": [
       "{'universe_id': ['5dd0fe9e58dceb33afb14455e4931508'],\n",
       " 'universe_training_year': ['2010_14'],\n",
       " 'universe_training_size': ['1k'],\n",
       " 'universe_scale': ['do-not-scale'],\n",
       " 'universe_model': ['elasticnet'],\n",
       " 'universe_exclude_features': ['none'],\n",
       " 'universe_exclude_subgroups': ['drop-non-german'],\n",
       " 'q_hat': [0.6909967687802409],\n",
       " 'coverage': [0.9131869356816409],\n",
       " 'avg_size': [1.2532828001337644]}"
      ]
     },
     "execution_count": 59,
     "metadata": {},
     "output_type": "execute_result"
    }
   ],
   "source": [
    "cp_metrics_dict"
   ]
  },
  {
   "cell_type": "code",
   "execution_count": 60,
   "id": "33007efc-14e9-4ec6-97ac-56a455c82265",
   "metadata": {
    "execution": {
     "iopub.execute_input": "2025-07-30T21:53:46.806244Z",
     "iopub.status.busy": "2025-07-30T21:53:46.805877Z",
     "iopub.status.idle": "2025-07-30T21:53:46.811007Z",
     "shell.execute_reply": "2025-07-30T21:53:46.810179Z"
    },
    "papermill": {
     "duration": 0.021725,
     "end_time": "2025-07-30T21:53:46.812314",
     "exception": false,
     "start_time": "2025-07-30T21:53:46.790589",
     "status": "completed"
    },
    "tags": []
   },
   "outputs": [],
   "source": [
    "cp_metrics_df = pd.DataFrame(cp_metrics_dict)"
   ]
  },
  {
   "cell_type": "code",
   "execution_count": 61,
   "id": "db12611b-57b2-4910-b9d0-355adfd6e7bf",
   "metadata": {
    "execution": {
     "iopub.execute_input": "2025-07-30T21:53:46.842691Z",
     "iopub.status.busy": "2025-07-30T21:53:46.842226Z",
     "iopub.status.idle": "2025-07-30T21:53:46.857163Z",
     "shell.execute_reply": "2025-07-30T21:53:46.856385Z"
    },
    "papermill": {
     "duration": 0.031665,
     "end_time": "2025-07-30T21:53:46.858755",
     "exception": false,
     "start_time": "2025-07-30T21:53:46.827090",
     "status": "completed"
    },
    "tags": []
   },
   "outputs": [
    {
     "data": {
      "text/html": [
       "<div>\n",
       "<style scoped>\n",
       "    .dataframe tbody tr th:only-of-type {\n",
       "        vertical-align: middle;\n",
       "    }\n",
       "\n",
       "    .dataframe tbody tr th {\n",
       "        vertical-align: top;\n",
       "    }\n",
       "\n",
       "    .dataframe thead th {\n",
       "        text-align: right;\n",
       "    }\n",
       "</style>\n",
       "<table border=\"1\" class=\"dataframe\">\n",
       "  <thead>\n",
       "    <tr style=\"text-align: right;\">\n",
       "      <th></th>\n",
       "      <th>universe_id</th>\n",
       "      <th>universe_training_year</th>\n",
       "      <th>universe_training_size</th>\n",
       "      <th>universe_scale</th>\n",
       "      <th>universe_model</th>\n",
       "      <th>universe_exclude_features</th>\n",
       "      <th>universe_exclude_subgroups</th>\n",
       "      <th>q_hat</th>\n",
       "      <th>coverage</th>\n",
       "      <th>avg_size</th>\n",
       "    </tr>\n",
       "  </thead>\n",
       "  <tbody>\n",
       "    <tr>\n",
       "      <th>0</th>\n",
       "      <td>5dd0fe9e58dceb33afb14455e4931508</td>\n",
       "      <td>2010_14</td>\n",
       "      <td>1k</td>\n",
       "      <td>do-not-scale</td>\n",
       "      <td>elasticnet</td>\n",
       "      <td>none</td>\n",
       "      <td>drop-non-german</td>\n",
       "      <td>0.690997</td>\n",
       "      <td>0.913187</td>\n",
       "      <td>1.253283</td>\n",
       "    </tr>\n",
       "  </tbody>\n",
       "</table>\n",
       "</div>"
      ],
      "text/plain": [
       "                        universe_id universe_training_year  \\\n",
       "0  5dd0fe9e58dceb33afb14455e4931508                2010_14   \n",
       "\n",
       "  universe_training_size universe_scale universe_model  \\\n",
       "0                     1k   do-not-scale     elasticnet   \n",
       "\n",
       "  universe_exclude_features universe_exclude_subgroups     q_hat  coverage  \\\n",
       "0                      none            drop-non-german  0.690997  0.913187   \n",
       "\n",
       "   avg_size  \n",
       "0  1.253283  "
      ]
     },
     "execution_count": 61,
     "metadata": {},
     "output_type": "execute_result"
    }
   ],
   "source": [
    "cp_metrics_df"
   ]
  },
  {
   "cell_type": "code",
   "execution_count": 62,
   "id": "b7fbde55-a0a1-47e4-9af6-fe4a17fa8c61",
   "metadata": {
    "execution": {
     "iopub.execute_input": "2025-07-30T21:53:46.909942Z",
     "iopub.status.busy": "2025-07-30T21:53:46.909394Z",
     "iopub.status.idle": "2025-07-30T21:53:46.915296Z",
     "shell.execute_reply": "2025-07-30T21:53:46.914014Z"
    },
    "papermill": {
     "duration": 0.032598,
     "end_time": "2025-07-30T21:53:46.917565",
     "exception": false,
     "start_time": "2025-07-30T21:53:46.884967",
     "status": "completed"
    },
    "tags": []
   },
   "outputs": [],
   "source": [
    "# Conditional Coverage & looking at subgroups"
   ]
  },
  {
   "cell_type": "code",
   "execution_count": 63,
   "id": "027ae886-68dd-4141-96c7-805a5450e1ef",
   "metadata": {
    "execution": {
     "iopub.execute_input": "2025-07-30T21:53:46.989938Z",
     "iopub.status.busy": "2025-07-30T21:53:46.989538Z",
     "iopub.status.idle": "2025-07-30T21:53:47.179752Z",
     "shell.execute_reply": "2025-07-30T21:53:47.178998Z"
    },
    "papermill": {
     "duration": 0.228194,
     "end_time": "2025-07-30T21:53:47.181305",
     "exception": false,
     "start_time": "2025-07-30T21:53:46.953111",
     "status": "completed"
    },
    "tags": []
   },
   "outputs": [],
   "source": [
    "from fairness_multiverse.conformal import build_cp_groups\n",
    "\n",
    "cp_groups_df = build_cp_groups(pred_sets, y_true, X_test.index, org_test)\n",
    "#needs universe_id and setting"
   ]
  },
  {
   "cell_type": "code",
   "execution_count": 64,
   "id": "01d5802c-663a-4d1f-9d69-e036faaffbf7",
   "metadata": {
    "execution": {
     "iopub.execute_input": "2025-07-30T21:53:47.210599Z",
     "iopub.status.busy": "2025-07-30T21:53:47.210233Z",
     "iopub.status.idle": "2025-07-30T21:53:47.215089Z",
     "shell.execute_reply": "2025-07-30T21:53:47.214019Z"
    },
    "papermill": {
     "duration": 0.021382,
     "end_time": "2025-07-30T21:53:47.216871",
     "exception": false,
     "start_time": "2025-07-30T21:53:47.195489",
     "status": "completed"
    },
    "tags": []
   },
   "outputs": [],
   "source": [
    "#delete\n",
    "#cp_groups_df"
   ]
  },
  {
   "cell_type": "code",
   "execution_count": 65,
   "id": "fa424af1-d1eb-443d-b717-2d279ada8408",
   "metadata": {
    "execution": {
     "iopub.execute_input": "2025-07-30T21:53:47.247655Z",
     "iopub.status.busy": "2025-07-30T21:53:47.247304Z",
     "iopub.status.idle": "2025-07-30T21:53:47.251365Z",
     "shell.execute_reply": "2025-07-30T21:53:47.250568Z"
    },
    "papermill": {
     "duration": 0.020442,
     "end_time": "2025-07-30T21:53:47.252818",
     "exception": false,
     "start_time": "2025-07-30T21:53:47.232376",
     "status": "completed"
    },
    "tags": []
   },
   "outputs": [],
   "source": [
    "#delete\n",
    "#percentage = (cp_groups_df['nongerman_female'] == 1).mean() * 100\n",
    "#print(percentage)\n"
   ]
  },
  {
   "cell_type": "code",
   "execution_count": 66,
   "id": "6cbdab96-b2b2-45af-ad54-d0516db2e28d",
   "metadata": {
    "execution": {
     "iopub.execute_input": "2025-07-30T21:53:47.286747Z",
     "iopub.status.busy": "2025-07-30T21:53:47.286395Z",
     "iopub.status.idle": "2025-07-30T21:53:48.895261Z",
     "shell.execute_reply": "2025-07-30T21:53:48.894284Z"
    },
    "papermill": {
     "duration": 1.630192,
     "end_time": "2025-07-30T21:53:48.897282",
     "exception": false,
     "start_time": "2025-07-30T21:53:47.267090",
     "status": "completed"
    },
    "tags": []
   },
   "outputs": [],
   "source": [
    "# Define covered = 1 if true_label is in the predicted set\n",
    "cp_groups_df['covered'] = cp_groups_df.apply(\n",
    "    lambda r: int(r['true_label'] in r['pred_set']),\n",
    "    axis=1\n",
    ")"
   ]
  },
  {
   "cell_type": "code",
   "execution_count": 67,
   "id": "338ff529-1a6b-4b87-a931-8e4788d52aad",
   "metadata": {
    "execution": {
     "iopub.execute_input": "2025-07-30T21:53:48.950681Z",
     "iopub.status.busy": "2025-07-30T21:53:48.950032Z",
     "iopub.status.idle": "2025-07-30T21:53:48.955184Z",
     "shell.execute_reply": "2025-07-30T21:53:48.954145Z"
    },
    "papermill": {
     "duration": 0.032227,
     "end_time": "2025-07-30T21:53:48.957015",
     "exception": false,
     "start_time": "2025-07-30T21:53:48.924788",
     "status": "completed"
    },
    "tags": []
   },
   "outputs": [],
   "source": [
    "#cp_groups_df"
   ]
  },
  {
   "cell_type": "code",
   "execution_count": 68,
   "id": "90032e27-66df-4540-9169-4e89cfbaa758",
   "metadata": {
    "execution": {
     "iopub.execute_input": "2025-07-30T21:53:49.014701Z",
     "iopub.status.busy": "2025-07-30T21:53:49.014130Z",
     "iopub.status.idle": "2025-07-30T21:53:49.025339Z",
     "shell.execute_reply": "2025-07-30T21:53:49.024212Z"
    },
    "papermill": {
     "duration": 0.041647,
     "end_time": "2025-07-30T21:53:49.027008",
     "exception": false,
     "start_time": "2025-07-30T21:53:48.985361",
     "status": "completed"
    },
    "tags": []
   },
   "outputs": [],
   "source": [
    "subgroups = ['frau1','nongerman','nongerman_male','nongerman_female']\n",
    "\n",
    "# Conditional coverage for subgroup==1\n",
    "cond_coverage = {\n",
    "    g: cp_groups_df.loc[cp_groups_df[g]==1, 'covered'].mean()\n",
    "    for g in subgroups\n",
    "}"
   ]
  },
  {
   "cell_type": "code",
   "execution_count": 69,
   "id": "1e348fb1-b9c3-45bc-ba23-f016827a7e0d",
   "metadata": {
    "execution": {
     "iopub.execute_input": "2025-07-30T21:53:49.087224Z",
     "iopub.status.busy": "2025-07-30T21:53:49.086248Z",
     "iopub.status.idle": "2025-07-30T21:53:49.093459Z",
     "shell.execute_reply": "2025-07-30T21:53:49.092485Z"
    },
    "papermill": {
     "duration": 0.039485,
     "end_time": "2025-07-30T21:53:49.095382",
     "exception": false,
     "start_time": "2025-07-30T21:53:49.055897",
     "status": "completed"
    },
    "tags": []
   },
   "outputs": [
    {
     "data": {
      "text/plain": [
       "{'frau1': 0.9118749157568405,\n",
       " 'nongerman': 0.9512154044798743,\n",
       " 'nongerman_male': 0.9599207421417635,\n",
       " 'nongerman_female': 0.9368107302533532}"
      ]
     },
     "execution_count": 69,
     "metadata": {},
     "output_type": "execute_result"
    }
   ],
   "source": [
    "cond_coverage"
   ]
  },
  {
   "cell_type": "code",
   "execution_count": 70,
   "id": "f5093324-c3dd-4d63-bc4c-8d945e5c8bbb",
   "metadata": {
    "execution": {
     "iopub.execute_input": "2025-07-30T21:53:49.166532Z",
     "iopub.status.busy": "2025-07-30T21:53:49.166002Z",
     "iopub.status.idle": "2025-07-30T21:53:49.174595Z",
     "shell.execute_reply": "2025-07-30T21:53:49.173515Z"
    },
    "papermill": {
     "duration": 0.046058,
     "end_time": "2025-07-30T21:53:49.176906",
     "exception": false,
     "start_time": "2025-07-30T21:53:49.130848",
     "status": "completed"
    },
    "tags": []
   },
   "outputs": [],
   "source": [
    "for subgroup, cov in cond_coverage.items():\n",
    "    cp_metrics_df[f\"cov_{subgroup}\"] = cov"
   ]
  },
  {
   "cell_type": "code",
   "execution_count": 71,
   "id": "6e872e10-dbe5-49e8-b554-5030c98ff75d",
   "metadata": {
    "execution": {
     "iopub.execute_input": "2025-07-30T21:53:49.247307Z",
     "iopub.status.busy": "2025-07-30T21:53:49.246647Z",
     "iopub.status.idle": "2025-07-30T21:53:49.272570Z",
     "shell.execute_reply": "2025-07-30T21:53:49.271377Z"
    },
    "papermill": {
     "duration": 0.063252,
     "end_time": "2025-07-30T21:53:49.274634",
     "exception": false,
     "start_time": "2025-07-30T21:53:49.211382",
     "status": "completed"
    },
    "tags": []
   },
   "outputs": [
    {
     "data": {
      "text/html": [
       "<div>\n",
       "<style scoped>\n",
       "    .dataframe tbody tr th:only-of-type {\n",
       "        vertical-align: middle;\n",
       "    }\n",
       "\n",
       "    .dataframe tbody tr th {\n",
       "        vertical-align: top;\n",
       "    }\n",
       "\n",
       "    .dataframe thead th {\n",
       "        text-align: right;\n",
       "    }\n",
       "</style>\n",
       "<table border=\"1\" class=\"dataframe\">\n",
       "  <thead>\n",
       "    <tr style=\"text-align: right;\">\n",
       "      <th></th>\n",
       "      <th>universe_id</th>\n",
       "      <th>universe_training_year</th>\n",
       "      <th>universe_training_size</th>\n",
       "      <th>universe_scale</th>\n",
       "      <th>universe_model</th>\n",
       "      <th>universe_exclude_features</th>\n",
       "      <th>universe_exclude_subgroups</th>\n",
       "      <th>q_hat</th>\n",
       "      <th>coverage</th>\n",
       "      <th>avg_size</th>\n",
       "      <th>cov_frau1</th>\n",
       "      <th>cov_nongerman</th>\n",
       "      <th>cov_nongerman_male</th>\n",
       "      <th>cov_nongerman_female</th>\n",
       "    </tr>\n",
       "  </thead>\n",
       "  <tbody>\n",
       "    <tr>\n",
       "      <th>0</th>\n",
       "      <td>5dd0fe9e58dceb33afb14455e4931508</td>\n",
       "      <td>2010_14</td>\n",
       "      <td>1k</td>\n",
       "      <td>do-not-scale</td>\n",
       "      <td>elasticnet</td>\n",
       "      <td>none</td>\n",
       "      <td>drop-non-german</td>\n",
       "      <td>0.690997</td>\n",
       "      <td>0.913187</td>\n",
       "      <td>1.253283</td>\n",
       "      <td>0.911875</td>\n",
       "      <td>0.951215</td>\n",
       "      <td>0.959921</td>\n",
       "      <td>0.936811</td>\n",
       "    </tr>\n",
       "  </tbody>\n",
       "</table>\n",
       "</div>"
      ],
      "text/plain": [
       "                        universe_id universe_training_year  \\\n",
       "0  5dd0fe9e58dceb33afb14455e4931508                2010_14   \n",
       "\n",
       "  universe_training_size universe_scale universe_model  \\\n",
       "0                     1k   do-not-scale     elasticnet   \n",
       "\n",
       "  universe_exclude_features universe_exclude_subgroups     q_hat  coverage  \\\n",
       "0                      none            drop-non-german  0.690997  0.913187   \n",
       "\n",
       "   avg_size  cov_frau1  cov_nongerman  cov_nongerman_male  \\\n",
       "0  1.253283   0.911875       0.951215            0.959921   \n",
       "\n",
       "   cov_nongerman_female  \n",
       "0              0.936811  "
      ]
     },
     "execution_count": 71,
     "metadata": {},
     "output_type": "execute_result"
    }
   ],
   "source": [
    "cp_metrics_df"
   ]
  },
  {
   "cell_type": "markdown",
   "id": "33774451",
   "metadata": {
    "papermill": {
     "duration": 0.028398,
     "end_time": "2025-07-30T21:53:49.333158",
     "exception": false,
     "start_time": "2025-07-30T21:53:49.304760",
     "status": "completed"
    },
    "tags": []
   },
   "source": [
    "# (Fairness) Metrics"
   ]
  },
  {
   "cell_type": "code",
   "execution_count": 72,
   "id": "debc5d62",
   "metadata": {
    "execution": {
     "iopub.execute_input": "2025-07-30T21:53:49.392906Z",
     "iopub.status.busy": "2025-07-30T21:53:49.392384Z",
     "iopub.status.idle": "2025-07-30T21:53:49.413988Z",
     "shell.execute_reply": "2025-07-30T21:53:49.412889Z"
    },
    "papermill": {
     "duration": 0.054146,
     "end_time": "2025-07-30T21:53:49.415939",
     "exception": false,
     "start_time": "2025-07-30T21:53:49.361793",
     "status": "completed"
    },
    "tags": []
   },
   "outputs": [],
   "source": [
    "# do I need to include maxdeutsch1.missing?\n",
    "\n",
    "import numpy as np\n",
    "\n",
    "colname_to_bin = \"maxdeutsch1\"\n",
    "majority_value = org_train[colname_to_bin].mode()[0]\n",
    "\n",
    "org_test[\"majmin\"] = np.where(org_test[colname_to_bin] == majority_value, \"majority\", \"minority\")"
   ]
  },
  {
   "cell_type": "code",
   "execution_count": 73,
   "id": "06a50de5",
   "metadata": {
    "execution": {
     "iopub.execute_input": "2025-07-30T21:53:49.477352Z",
     "iopub.status.busy": "2025-07-30T21:53:49.476859Z",
     "iopub.status.idle": "2025-07-30T21:53:52.045272Z",
     "shell.execute_reply": "2025-07-30T21:53:52.044401Z"
    },
    "papermill": {
     "duration": 2.601096,
     "end_time": "2025-07-30T21:53:52.047014",
     "exception": false,
     "start_time": "2025-07-30T21:53:49.445918",
     "status": "completed"
    },
    "tags": []
   },
   "outputs": [],
   "source": [
    "example_universe = universe.copy()\n",
    "example_universe[\"cutoff\"] = example_universe[\"cutoff\"][0]\n",
    "example_universe[\"eval_fairness_grouping\"] = example_universe[\"eval_fairness_grouping\"][0]\n",
    "fairness_dict, metric_frame = universe_analysis.compute_metrics(\n",
    "    example_universe,\n",
    "    y_pred_prob=probs_test,\n",
    "    y_test=y_true,\n",
    "    org_test=org_test,\n",
    ")"
   ]
  },
  {
   "cell_type": "markdown",
   "id": "f95d4e02",
   "metadata": {
    "papermill": {
     "duration": 0.02395,
     "end_time": "2025-07-30T21:53:52.098061",
     "exception": false,
     "start_time": "2025-07-30T21:53:52.074111",
     "status": "completed"
    },
    "tags": []
   },
   "source": [
    "# Overall"
   ]
  },
  {
   "cell_type": "markdown",
   "id": "bdee4871",
   "metadata": {
    "papermill": {
     "duration": 0.024088,
     "end_time": "2025-07-30T21:53:52.146070",
     "exception": false,
     "start_time": "2025-07-30T21:53:52.121982",
     "status": "completed"
    },
    "tags": []
   },
   "source": [
    "Fairness\n",
    "Main fairness target: Equalized Odds. Seems to be a better fit than equal opportunity, since we're not only interested in Y = 1. Seems to be a better fit than demographic parity, since we also care about accuracy, not just equal distribution of preds.\n",
    "\n",
    "Pick column for computation of fairness metrics\n",
    "\n",
    "Performance\n",
    "Overall performance measures, most interesting in relation to the measures split by group below"
   ]
  },
  {
   "cell_type": "code",
   "execution_count": 74,
   "id": "c4e067c6",
   "metadata": {
    "execution": {
     "iopub.execute_input": "2025-07-30T21:53:52.196264Z",
     "iopub.status.busy": "2025-07-30T21:53:52.195597Z",
     "iopub.status.idle": "2025-07-30T21:53:52.203915Z",
     "shell.execute_reply": "2025-07-30T21:53:52.203016Z"
    },
    "papermill": {
     "duration": 0.035597,
     "end_time": "2025-07-30T21:53:52.205605",
     "exception": false,
     "start_time": "2025-07-30T21:53:52.170008",
     "status": "completed"
    },
    "tags": []
   },
   "outputs": [
    {
     "data": {
      "text/plain": [
       "accuracy                   0.214034\n",
       "balanced accuracy          0.525509\n",
       "f1                         0.235650\n",
       "precision                  0.134619\n",
       "false positive rate        0.893455\n",
       "false negative rate        0.055527\n",
       "selection rate             0.900000\n",
       "count                  89710.000000\n",
       "dtype: float64"
      ]
     },
     "execution_count": 74,
     "metadata": {},
     "output_type": "execute_result"
    }
   ],
   "source": [
    "metric_frame.overall"
   ]
  },
  {
   "cell_type": "markdown",
   "id": "e968fe9d",
   "metadata": {
    "papermill": {
     "duration": 0.024487,
     "end_time": "2025-07-30T21:53:52.255545",
     "exception": false,
     "start_time": "2025-07-30T21:53:52.231058",
     "status": "completed"
    },
    "tags": []
   },
   "source": [
    "By Group"
   ]
  },
  {
   "cell_type": "code",
   "execution_count": 75,
   "id": "ec325bce",
   "metadata": {
    "execution": {
     "iopub.execute_input": "2025-07-30T21:53:52.306243Z",
     "iopub.status.busy": "2025-07-30T21:53:52.305771Z",
     "iopub.status.idle": "2025-07-30T21:53:52.320853Z",
     "shell.execute_reply": "2025-07-30T21:53:52.319882Z"
    },
    "papermill": {
     "duration": 0.042655,
     "end_time": "2025-07-30T21:53:52.322514",
     "exception": false,
     "start_time": "2025-07-30T21:53:52.279859",
     "status": "completed"
    },
    "tags": []
   },
   "outputs": [
    {
     "data": {
      "text/html": [
       "<div>\n",
       "<style scoped>\n",
       "    .dataframe tbody tr th:only-of-type {\n",
       "        vertical-align: middle;\n",
       "    }\n",
       "\n",
       "    .dataframe tbody tr th {\n",
       "        vertical-align: top;\n",
       "    }\n",
       "\n",
       "    .dataframe thead th {\n",
       "        text-align: right;\n",
       "    }\n",
       "</style>\n",
       "<table border=\"1\" class=\"dataframe\">\n",
       "  <thead>\n",
       "    <tr style=\"text-align: right;\">\n",
       "      <th></th>\n",
       "      <th>accuracy</th>\n",
       "      <th>balanced accuracy</th>\n",
       "      <th>f1</th>\n",
       "      <th>precision</th>\n",
       "      <th>false positive rate</th>\n",
       "      <th>false negative rate</th>\n",
       "      <th>selection rate</th>\n",
       "      <th>count</th>\n",
       "    </tr>\n",
       "    <tr>\n",
       "      <th>majmin</th>\n",
       "      <th></th>\n",
       "      <th></th>\n",
       "      <th></th>\n",
       "      <th></th>\n",
       "      <th></th>\n",
       "      <th></th>\n",
       "      <th></th>\n",
       "      <th></th>\n",
       "    </tr>\n",
       "  </thead>\n",
       "  <tbody>\n",
       "    <tr>\n",
       "      <th>majority</th>\n",
       "      <td>0.235319</td>\n",
       "      <td>0.531852</td>\n",
       "      <td>0.244202</td>\n",
       "      <td>0.140443</td>\n",
       "      <td>0.871198</td>\n",
       "      <td>0.065098</td>\n",
       "      <td>0.879615</td>\n",
       "      <td>69170.0</td>\n",
       "    </tr>\n",
       "    <tr>\n",
       "      <th>minority</th>\n",
       "      <td>0.142356</td>\n",
       "      <td>0.507218</td>\n",
       "      <td>0.208768</td>\n",
       "      <td>0.116807</td>\n",
       "      <td>0.966982</td>\n",
       "      <td>0.018581</td>\n",
       "      <td>0.968647</td>\n",
       "      <td>20540.0</td>\n",
       "    </tr>\n",
       "  </tbody>\n",
       "</table>\n",
       "</div>"
      ],
      "text/plain": [
       "          accuracy  balanced accuracy        f1  precision  \\\n",
       "majmin                                                       \n",
       "majority  0.235319           0.531852  0.244202   0.140443   \n",
       "minority  0.142356           0.507218  0.208768   0.116807   \n",
       "\n",
       "          false positive rate  false negative rate  selection rate    count  \n",
       "majmin                                                                       \n",
       "majority             0.871198             0.065098        0.879615  69170.0  \n",
       "minority             0.966982             0.018581        0.968647  20540.0  "
      ]
     },
     "execution_count": 75,
     "metadata": {},
     "output_type": "execute_result"
    }
   ],
   "source": [
    "metric_frame.by_group"
   ]
  },
  {
   "cell_type": "code",
   "execution_count": 76,
   "id": "a9ddbe63",
   "metadata": {
    "execution": {
     "iopub.execute_input": "2025-07-30T21:53:52.374581Z",
     "iopub.status.busy": "2025-07-30T21:53:52.374200Z",
     "iopub.status.idle": "2025-07-30T21:53:54.620572Z",
     "shell.execute_reply": "2025-07-30T21:53:54.619582Z"
    },
    "papermill": {
     "duration": 2.27409,
     "end_time": "2025-07-30T21:53:54.622373",
     "exception": false,
     "start_time": "2025-07-30T21:53:52.348283",
     "status": "completed"
    },
    "tags": []
   },
   "outputs": [
    {
     "data": {
      "text/plain": [
       "array([[<Axes: title={'center': 'accuracy'}, xlabel='majmin'>,\n",
       "        <Axes: title={'center': 'balanced accuracy'}, xlabel='majmin'>,\n",
       "        <Axes: title={'center': 'f1'}, xlabel='majmin'>],\n",
       "       [<Axes: title={'center': 'precision'}, xlabel='majmin'>,\n",
       "        <Axes: title={'center': 'false positive rate'}, xlabel='majmin'>,\n",
       "        <Axes: title={'center': 'false negative rate'}, xlabel='majmin'>],\n",
       "       [<Axes: title={'center': 'selection rate'}, xlabel='majmin'>,\n",
       "        <Axes: title={'center': 'count'}, xlabel='majmin'>,\n",
       "        <Axes: xlabel='majmin'>]], dtype=object)"
      ]
     },
     "execution_count": 76,
     "metadata": {},
     "output_type": "execute_result"
    },
    {
     "data": {
      "image/png": "[encoded data removed]",
      "text/plain": [
       "<Figure size 1200x800 with 9 Axes>"
      ]
     },
     "metadata": {},
     "output_type": "display_data"
    }
   ],
   "source": [
    "# In a graphic\n",
    "metric_frame.by_group.plot.bar(\n",
    "    subplots=True,\n",
    "    layout=[3, 3],\n",
    "    legend=False,\n",
    "    figsize=[12, 8],\n",
    "    title=\"Show all metrics\",\n",
    ")"
   ]
  },
  {
   "cell_type": "markdown",
   "id": "f57a0bac",
   "metadata": {
    "papermill": {
     "duration": 0.030172,
     "end_time": "2025-07-30T21:53:54.684783",
     "exception": false,
     "start_time": "2025-07-30T21:53:54.654611",
     "status": "completed"
    },
    "tags": []
   },
   "source": [
    "# Final Output"
   ]
  },
  {
   "cell_type": "code",
   "execution_count": 77,
   "id": "96d280a3",
   "metadata": {
    "execution": {
     "iopub.execute_input": "2025-07-30T21:53:54.741248Z",
     "iopub.status.busy": "2025-07-30T21:53:54.740280Z",
     "iopub.status.idle": "2025-07-30T21:53:54.747629Z",
     "shell.execute_reply": "2025-07-30T21:53:54.746700Z"
    },
    "papermill": {
     "duration": 0.036065,
     "end_time": "2025-07-30T21:53:54.749235",
     "exception": false,
     "start_time": "2025-07-30T21:53:54.713170",
     "status": "completed"
    },
    "tags": []
   },
   "outputs": [
    {
     "data": {
      "text/plain": [
       "4"
      ]
     },
     "execution_count": 77,
     "metadata": {},
     "output_type": "execute_result"
    }
   ],
   "source": [
    "sub_universes = universe_analysis.generate_sub_universes()\n",
    "len(sub_universes)"
   ]
  },
  {
   "cell_type": "code",
   "execution_count": 78,
   "id": "92adf7ba",
   "metadata": {
    "execution": {
     "iopub.execute_input": "2025-07-30T21:53:54.814961Z",
     "iopub.status.busy": "2025-07-30T21:53:54.814480Z",
     "iopub.status.idle": "2025-07-30T21:53:54.820515Z",
     "shell.execute_reply": "2025-07-30T21:53:54.819475Z"
    },
    "papermill": {
     "duration": 0.04119,
     "end_time": "2025-07-30T21:53:54.822261",
     "exception": false,
     "start_time": "2025-07-30T21:53:54.781071",
     "status": "completed"
    },
    "tags": []
   },
   "outputs": [],
   "source": [
    "def filter_sub_universe_data(sub_universe, org_test):\n",
    "    # Keep all rows — no filtering\n",
    "    keep_rows_mask = np.ones(org_test.shape[0], dtype=bool)\n",
    "\n",
    "    print(f\"[INFO] Keeping all rows: {keep_rows_mask.sum()} rows retained.\")\n",
    "    return keep_rows_mask"
   ]
  },
  {
   "cell_type": "code",
   "execution_count": 79,
   "id": "4a759155",
   "metadata": {
    "execution": {
     "iopub.execute_input": "2025-07-30T21:53:54.931797Z",
     "iopub.status.busy": "2025-07-30T21:53:54.931319Z",
     "iopub.status.idle": "2025-07-30T21:54:04.524698Z",
     "shell.execute_reply": "2025-07-30T21:54:04.523632Z"
    },
    "papermill": {
     "duration": 9.669926,
     "end_time": "2025-07-30T21:54:04.526288",
     "exception": false,
     "start_time": "2025-07-30T21:53:54.856362",
     "status": "completed"
    },
    "tags": []
   },
   "outputs": [
    {
     "name": "stdout",
     "output_type": "stream",
     "text": [
      "Stopping execution_time clock.\n",
      "[INFO] Keeping all rows: 89710 rows retained.\n"
     ]
    },
    {
     "name": "stdout",
     "output_type": "stream",
     "text": [
      "[INFO] Keeping all rows: 89710 rows retained.\n"
     ]
    },
    {
     "name": "stdout",
     "output_type": "stream",
     "text": [
      "[INFO] Keeping all rows: 89710 rows retained.\n"
     ]
    },
    {
     "name": "stdout",
     "output_type": "stream",
     "text": [
      "[INFO] Keeping all rows: 89710 rows retained.\n"
     ]
    },
    {
     "data": {
      "text/html": [
       "<div>\n",
       "<style scoped>\n",
       "    .dataframe tbody tr th:only-of-type {\n",
       "        vertical-align: middle;\n",
       "    }\n",
       "\n",
       "    .dataframe tbody tr th {\n",
       "        vertical-align: top;\n",
       "    }\n",
       "\n",
       "    .dataframe thead th {\n",
       "        text-align: right;\n",
       "    }\n",
       "</style>\n",
       "<table border=\"1\" class=\"dataframe\">\n",
       "  <thead>\n",
       "    <tr style=\"text-align: right;\">\n",
       "      <th></th>\n",
       "      <th>run_no</th>\n",
       "      <th>universe_id</th>\n",
       "      <th>universe_settings</th>\n",
       "      <th>execution_time</th>\n",
       "      <th>test_size_n</th>\n",
       "      <th>test_size_frac</th>\n",
       "      <th>fair_main_equalized_odds_difference</th>\n",
       "      <th>fair_main_equalized_odds_ratio</th>\n",
       "      <th>fair_main_demographic_parity_difference</th>\n",
       "      <th>fair_main_demographic_parity_ratio</th>\n",
       "      <th>...</th>\n",
       "      <th>perf_grp_precision_0</th>\n",
       "      <th>perf_grp_precision_1</th>\n",
       "      <th>perf_grp_false positive rate_0</th>\n",
       "      <th>perf_grp_false positive rate_1</th>\n",
       "      <th>perf_grp_false negative rate_0</th>\n",
       "      <th>perf_grp_false negative rate_1</th>\n",
       "      <th>perf_grp_selection rate_0</th>\n",
       "      <th>perf_grp_selection rate_1</th>\n",
       "      <th>perf_grp_count_0</th>\n",
       "      <th>perf_grp_count_1</th>\n",
       "    </tr>\n",
       "  </thead>\n",
       "  <tbody>\n",
       "    <tr>\n",
       "      <th>0</th>\n",
       "      <td>14</td>\n",
       "      <td>5dd0fe9e58dceb33afb14455e4931508</td>\n",
       "      <td>{\"cutoff\": \"quantile_0.1\", \"eval_fairness_grou...</td>\n",
       "      <td>45.90613</td>\n",
       "      <td>89710</td>\n",
       "      <td>1.0</td>\n",
       "      <td>0.095784</td>\n",
       "      <td>0.900945</td>\n",
       "      <td>0.089031</td>\n",
       "      <td>0.908087</td>\n",
       "      <td>...</td>\n",
       "      <td>NaN</td>\n",
       "      <td>NaN</td>\n",
       "      <td>NaN</td>\n",
       "      <td>NaN</td>\n",
       "      <td>NaN</td>\n",
       "      <td>NaN</td>\n",
       "      <td>NaN</td>\n",
       "      <td>NaN</td>\n",
       "      <td>NaN</td>\n",
       "      <td>NaN</td>\n",
       "    </tr>\n",
       "    <tr>\n",
       "      <th>0</th>\n",
       "      <td>14</td>\n",
       "      <td>5dd0fe9e58dceb33afb14455e4931508</td>\n",
       "      <td>{\"cutoff\": \"quantile_0.1\", \"eval_fairness_grou...</td>\n",
       "      <td>45.90613</td>\n",
       "      <td>89710</td>\n",
       "      <td>1.0</td>\n",
       "      <td>0.095784</td>\n",
       "      <td>0.900945</td>\n",
       "      <td>0.089031</td>\n",
       "      <td>0.908087</td>\n",
       "      <td>...</td>\n",
       "      <td>0.116807</td>\n",
       "      <td>0.140443</td>\n",
       "      <td>0.966982</td>\n",
       "      <td>0.871198</td>\n",
       "      <td>0.018581</td>\n",
       "      <td>0.065098</td>\n",
       "      <td>0.968647</td>\n",
       "      <td>0.879615</td>\n",
       "      <td>20540.0</td>\n",
       "      <td>69170.0</td>\n",
       "    </tr>\n",
       "    <tr>\n",
       "      <th>0</th>\n",
       "      <td>14</td>\n",
       "      <td>5dd0fe9e58dceb33afb14455e4931508</td>\n",
       "      <td>{\"cutoff\": \"quantile_0.25\", \"eval_fairness_gro...</td>\n",
       "      <td>45.90613</td>\n",
       "      <td>89710</td>\n",
       "      <td>1.0</td>\n",
       "      <td>0.222660</td>\n",
       "      <td>0.753972</td>\n",
       "      <td>0.207241</td>\n",
       "      <td>0.772209</td>\n",
       "      <td>...</td>\n",
       "      <td>NaN</td>\n",
       "      <td>NaN</td>\n",
       "      <td>NaN</td>\n",
       "      <td>NaN</td>\n",
       "      <td>NaN</td>\n",
       "      <td>NaN</td>\n",
       "      <td>NaN</td>\n",
       "      <td>NaN</td>\n",
       "      <td>NaN</td>\n",
       "      <td>NaN</td>\n",
       "    </tr>\n",
       "    <tr>\n",
       "      <th>0</th>\n",
       "      <td>14</td>\n",
       "      <td>5dd0fe9e58dceb33afb14455e4931508</td>\n",
       "      <td>{\"cutoff\": \"quantile_0.25\", \"eval_fairness_gro...</td>\n",
       "      <td>45.90613</td>\n",
       "      <td>89710</td>\n",
       "      <td>1.0</td>\n",
       "      <td>0.222660</td>\n",
       "      <td>0.753972</td>\n",
       "      <td>0.207241</td>\n",
       "      <td>0.772209</td>\n",
       "      <td>...</td>\n",
       "      <td>0.119923</td>\n",
       "      <td>0.157074</td>\n",
       "      <td>0.905019</td>\n",
       "      <td>0.682359</td>\n",
       "      <td>0.053632</td>\n",
       "      <td>0.164880</td>\n",
       "      <td>0.909786</td>\n",
       "      <td>0.702544</td>\n",
       "      <td>20540.0</td>\n",
       "      <td>69170.0</td>\n",
       "    </tr>\n",
       "  </tbody>\n",
       "</table>\n",
       "<p>4 rows × 50 columns</p>\n",
       "</div>"
      ],
      "text/plain": [
       "  run_no                       universe_id  \\\n",
       "0     14  5dd0fe9e58dceb33afb14455e4931508   \n",
       "0     14  5dd0fe9e58dceb33afb14455e4931508   \n",
       "0     14  5dd0fe9e58dceb33afb14455e4931508   \n",
       "0     14  5dd0fe9e58dceb33afb14455e4931508   \n",
       "\n",
       "                                   universe_settings  execution_time  \\\n",
       "0  {\"cutoff\": \"quantile_0.1\", \"eval_fairness_grou...        45.90613   \n",
       "0  {\"cutoff\": \"quantile_0.1\", \"eval_fairness_grou...        45.90613   \n",
       "0  {\"cutoff\": \"quantile_0.25\", \"eval_fairness_gro...        45.90613   \n",
       "0  {\"cutoff\": \"quantile_0.25\", \"eval_fairness_gro...        45.90613   \n",
       "\n",
       "   test_size_n  test_size_frac  fair_main_equalized_odds_difference  \\\n",
       "0        89710             1.0                             0.095784   \n",
       "0        89710             1.0                             0.095784   \n",
       "0        89710             1.0                             0.222660   \n",
       "0        89710             1.0                             0.222660   \n",
       "\n",
       "   fair_main_equalized_odds_ratio  fair_main_demographic_parity_difference  \\\n",
       "0                        0.900945                                 0.089031   \n",
       "0                        0.900945                                 0.089031   \n",
       "0                        0.753972                                 0.207241   \n",
       "0                        0.753972                                 0.207241   \n",
       "\n",
       "   fair_main_demographic_parity_ratio  ...  perf_grp_precision_0  \\\n",
       "0                            0.908087  ...                   NaN   \n",
       "0                            0.908087  ...              0.116807   \n",
       "0                            0.772209  ...                   NaN   \n",
       "0                            0.772209  ...              0.119923   \n",
       "\n",
       "   perf_grp_precision_1  perf_grp_false positive rate_0  \\\n",
       "0                   NaN                             NaN   \n",
       "0              0.140443                        0.966982   \n",
       "0                   NaN                             NaN   \n",
       "0              0.157074                        0.905019   \n",
       "\n",
       "   perf_grp_false positive rate_1  perf_grp_false negative rate_0  \\\n",
       "0                             NaN                             NaN   \n",
       "0                        0.871198                        0.018581   \n",
       "0                             NaN                             NaN   \n",
       "0                        0.682359                        0.053632   \n",
       "\n",
       "   perf_grp_false negative rate_1  perf_grp_selection rate_0  \\\n",
       "0                             NaN                        NaN   \n",
       "0                        0.065098                   0.968647   \n",
       "0                             NaN                        NaN   \n",
       "0                        0.164880                   0.909786   \n",
       "\n",
       "   perf_grp_selection rate_1  perf_grp_count_0  perf_grp_count_1  \n",
       "0                        NaN               NaN               NaN  \n",
       "0                   0.879615           20540.0           69170.0  \n",
       "0                        NaN               NaN               NaN  \n",
       "0                   0.702544           20540.0           69170.0  \n",
       "\n",
       "[4 rows x 50 columns]"
      ]
     },
     "execution_count": 79,
     "metadata": {},
     "output_type": "execute_result"
    }
   ],
   "source": [
    "final_output = universe_analysis.generate_final_output(\n",
    "    y_pred_prob=probs_test,\n",
    "    y_test=y_true,\n",
    "    org_test=org_test,\n",
    "    filter_data=filter_sub_universe_data,\n",
    "    cp_metrics_df=cp_metrics_df,\n",
    "    save=True,\n",
    ")\n",
    "final_output"
   ]
  },
  {
   "cell_type": "code",
   "execution_count": null,
   "id": "721ff514-cb11-46f8-b6fc-50392f74b5cb",
   "metadata": {
    "papermill": {
     "duration": 0.02866,
     "end_time": "2025-07-30T21:54:04.587738",
     "exception": false,
     "start_time": "2025-07-30T21:54:04.559078",
     "status": "completed"
    },
    "tags": []
   },
   "outputs": [],
   "source": []
  }
 ],
 "metadata": {
  "celltoolbar": "Tags",
  "kernelspec": {
   "display_name": "Python (CMA Fairness)",
   "language": "python",
   "name": "cma_fair_env"
  },
  "language_info": {
   "codemirror_mode": {
    "name": "ipython",
    "version": 3
   },
   "file_extension": ".py",
   "mimetype": "text/x-python",
   "name": "python",
   "nbconvert_exporter": "python",
   "pygments_lexer": "ipython3",
   "version": "3.10.12"
  },
  "papermill": {
   "default_parameters": {},
   "duration": 59.57808,
   "end_time": "2025-07-30T21:54:05.336363",
   "environment_variables": {},
   "exception": null,
   "input_path": "universe_analysis.ipynb",
   "output_path": "output/runs/14/notebooks/m_14-5dd0fe9e58dceb33afb14455e4931508.ipynb",
   "parameters": {
    "output_dir": "output",
    "run_no": "14",
    "seed": "2023",
    "universe": "{\"cutoff\": [\"quantile_0.1\", \"quantile_0.25\"], \"eval_fairness_grouping\": [\"majority-minority\", \"nationality-all\"], \"exclude_features\": \"none\", \"exclude_subgroups\": \"drop-non-german\", \"model\": \"elasticnet\", \"scale\": \"do-not-scale\", \"training_size\": \"1k\", \"training_year\": \"2010_14\"}",
    "universe_id": "5dd0fe9e58dceb33afb14455e4931508"
   },
   "start_time": "2025-07-30T21:53:05.758283",
   "version": "2.6.0"
  }
 },
 "nbformat": 4,
 "nbformat_minor": 5
}