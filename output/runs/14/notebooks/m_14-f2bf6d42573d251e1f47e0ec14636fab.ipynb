{
 "cells": [
  {
   "cell_type": "code",
   "execution_count": 1,
   "id": "f159f837-637b-42ba-96b5-ec9a68c44524",
   "metadata": {
    "execution": {
     "iopub.execute_input": "2025-07-30T20:25:53.511755Z",
     "iopub.status.busy": "2025-07-30T20:25:53.511101Z",
     "iopub.status.idle": "2025-07-30T20:25:53.524480Z",
     "shell.execute_reply": "2025-07-30T20:25:53.523495Z"
    },
    "papermill": {
     "duration": 0.035246,
     "end_time": "2025-07-30T20:25:53.525961",
     "exception": false,
     "start_time": "2025-07-30T20:25:53.490715",
     "status": "completed"
    },
    "tags": []
   },
   "outputs": [
    {
     "name": "stdout",
     "output_type": "stream",
     "text": [
      "/dss/dsshome1/0C/ra93lal2/cma/CMA_Fairness_v2\n"
     ]
    },
    {
     "name": "stderr",
     "output_type": "stream",
     "text": [
      "/dss/dsshome1/0C/ra93lal2/.local/share/virtualenvs/CMA_Fairness_v2-3j10GkSs/lib/python3.10/site-packages/IPython/core/magics/osm.py:393: UserWarning: This is now an optional IPython functionality, using bookmarks requires you to install the `pickleshare` library.\n",
      "  bkms = self.shell.db.get('bookmarks', {})\n",
      "/dss/dsshome1/0C/ra93lal2/.local/share/virtualenvs/CMA_Fairness_v2-3j10GkSs/lib/python3.10/site-packages/IPython/core/magics/osm.py:417: UserWarning: This is now an optional IPython functionality, setting dhist requires you to install the `pickleshare` library.\n",
      "  self.shell.db['dhist'] = compress_dhist(dhist)[-100:]\n"
     ]
    }
   ],
   "source": [
    "%cd ~/cma/CMA_Fairness_v2"
   ]
  },
  {
   "cell_type": "markdown",
   "id": "de2603b9",
   "metadata": {
    "papermill": {
     "duration": 0.018132,
     "end_time": "2025-07-30T20:25:53.562802",
     "exception": false,
     "start_time": "2025-07-30T20:25:53.544670",
     "status": "completed"
    },
    "tags": []
   },
   "source": [
    "The following cell holds the definition of our parameters, these values can be overriden by rendering the with e.g. the following command:\n",
    "\n",
    "papermill -p alpha 0.2 -p ratio 0.3 universe_analysis.ipynb output/test_run.ipynb"
   ]
  },
  {
   "cell_type": "code",
   "execution_count": 2,
   "id": "a80968a0-40bb-4fa9-85ef-2d5eefb01975",
   "metadata": {
    "execution": {
     "iopub.execute_input": "2025-07-30T20:25:53.601322Z",
     "iopub.status.busy": "2025-07-30T20:25:53.600691Z",
     "iopub.status.idle": "2025-07-30T20:25:53.605941Z",
     "shell.execute_reply": "2025-07-30T20:25:53.604967Z"
    },
    "papermill": {
     "duration": 0.026482,
     "end_time": "2025-07-30T20:25:53.607518",
     "exception": false,
     "start_time": "2025-07-30T20:25:53.581036",
     "status": "completed"
    },
    "tags": []
   },
   "outputs": [
    {
     "name": "stdout",
     "output_type": "stream",
     "text": [
      "Current working directory: /dss/dsshome1/0C/ra93lal2/cma/CMA_Fairness_v2\n"
     ]
    }
   ],
   "source": [
    "import os\n",
    "print(\"Current working directory:\", os.getcwd())"
   ]
  },
  {
   "cell_type": "code",
   "execution_count": 3,
   "id": "2dce4c03",
   "metadata": {
    "execution": {
     "iopub.execute_input": "2025-07-30T20:25:53.647204Z",
     "iopub.status.busy": "2025-07-30T20:25:53.646572Z",
     "iopub.status.idle": "2025-07-30T20:25:53.652711Z",
     "shell.execute_reply": "2025-07-30T20:25:53.651706Z"
    },
    "papermill": {
     "duration": 0.027521,
     "end_time": "2025-07-30T20:25:53.654205",
     "exception": false,
     "start_time": "2025-07-30T20:25:53.626684",
     "status": "completed"
    },
    "tags": [
     "parameters"
    ]
   },
   "outputs": [],
   "source": [
    "run_no = 0\n",
    "universe_id = \"test\"\n",
    "universe = {\n",
    "    \"training_size\": \"25k\", # \"25k\", \"5k\", \"1k\"\n",
    "    \"training_year\": \"2014\", # \"2014\", \"2012_14\", \"2010_14\"\n",
    "    \"scale\": \"scale\", # \"scale\", \"do-not-scale\",\n",
    "    #\"stratify_split\": \"target\", # \"none\", \"target\", \"protected-attribute\", \"both\",\n",
    "    \"model\": \"elasticnet\", # \"logreg\", \"penalized_logreg\", \"rf\", \"gbm\", \"elasticnet\"\n",
    "    \"cutoff\": [\"quantile_0.15\", \"quantile_0.30\"],\n",
    "    \"exclude_features\": \"age\", # \"none\", \"nationality\", \"sex\", \"nationality-sex\", \"age\"\n",
    "    \"exclude_subgroups\": \"keep-all\", # \"keep-all\", \"drop-non-german\"\n",
    "    \"eval_fairness_grouping\": [\"majority-minority\", \"nationality-all\"]\n",
    "}\n",
    "\n",
    "output_dir=\"./output\"\n",
    "seed=0"
   ]
  },
  {
   "cell_type": "code",
   "execution_count": 4,
   "id": "32e24dac",
   "metadata": {
    "execution": {
     "iopub.execute_input": "2025-07-30T20:25:53.693731Z",
     "iopub.status.busy": "2025-07-30T20:25:53.693104Z",
     "iopub.status.idle": "2025-07-30T20:25:53.698319Z",
     "shell.execute_reply": "2025-07-30T20:25:53.697290Z"
    },
    "papermill": {
     "duration": 0.026419,
     "end_time": "2025-07-30T20:25:53.699800",
     "exception": false,
     "start_time": "2025-07-30T20:25:53.673381",
     "status": "completed"
    },
    "tags": [
     "injected-parameters"
    ]
   },
   "outputs": [],
   "source": [
    "# Parameters\n",
    "universe_id = \"f2bf6d42573d251e1f47e0ec14636fab\"\n",
    "run_no = \"14\"\n",
    "universe = \"{\\\"cutoff\\\": [\\\"quantile_0.1\\\", \\\"quantile_0.25\\\"], \\\"eval_fairness_grouping\\\": [\\\"majority-minority\\\", \\\"nationality-all\\\"], \\\"exclude_features\\\": \\\"age\\\", \\\"exclude_subgroups\\\": \\\"drop-non-german\\\", \\\"model\\\": \\\"logreg\\\", \\\"scale\\\": \\\"scale\\\", \\\"training_size\\\": \\\"25k\\\", \\\"training_year\\\": \\\"2010_14\\\"}\"\n",
    "output_dir = \"output\"\n",
    "seed = \"2023\"\n"
   ]
  },
  {
   "cell_type": "code",
   "execution_count": 5,
   "id": "1650acaf",
   "metadata": {
    "execution": {
     "iopub.execute_input": "2025-07-30T20:25:53.740257Z",
     "iopub.status.busy": "2025-07-30T20:25:53.739580Z",
     "iopub.status.idle": "2025-07-30T20:25:53.744552Z",
     "shell.execute_reply": "2025-07-30T20:25:53.743580Z"
    },
    "papermill": {
     "duration": 0.026795,
     "end_time": "2025-07-30T20:25:53.746105",
     "exception": false,
     "start_time": "2025-07-30T20:25:53.719310",
     "status": "completed"
    },
    "tags": []
   },
   "outputs": [],
   "source": [
    "import json\n",
    "# Parse universe into dict if it is passed as a string\n",
    "if isinstance(universe, str):\n",
    "    universe = json.loads(universe)"
   ]
  },
  {
   "cell_type": "code",
   "execution_count": 6,
   "id": "16620c48",
   "metadata": {
    "execution": {
     "iopub.execute_input": "2025-07-30T20:25:53.785633Z",
     "iopub.status.busy": "2025-07-30T20:25:53.784999Z",
     "iopub.status.idle": "2025-07-30T20:25:53.827481Z",
     "shell.execute_reply": "2025-07-30T20:25:53.826664Z"
    },
    "papermill": {
     "duration": 0.063991,
     "end_time": "2025-07-30T20:25:53.829399",
     "exception": false,
     "start_time": "2025-07-30T20:25:53.765408",
     "status": "completed"
    },
    "tags": []
   },
   "outputs": [],
   "source": [
    "# Auto-reload the custom package\n",
    "%load_ext autoreload\n",
    "%autoreload 1\n",
    "%aimport fairness_multiverse"
   ]
  },
  {
   "cell_type": "code",
   "execution_count": 7,
   "id": "01c5c9f3",
   "metadata": {
    "execution": {
     "iopub.execute_input": "2025-07-30T20:25:53.868313Z",
     "iopub.status.busy": "2025-07-30T20:25:53.867674Z",
     "iopub.status.idle": "2025-07-30T20:25:55.744556Z",
     "shell.execute_reply": "2025-07-30T20:25:55.743579Z"
    },
    "papermill": {
     "duration": 1.898305,
     "end_time": "2025-07-30T20:25:55.746564",
     "exception": false,
     "start_time": "2025-07-30T20:25:53.848259",
     "status": "completed"
    },
    "tags": []
   },
   "outputs": [],
   "source": [
    "from fairness_multiverse.universe import UniverseAnalysis\n",
    "\n",
    "universe_analysis = UniverseAnalysis(\n",
    "    run_no = run_no,\n",
    "    universe_id = universe_id,\n",
    "    universe = universe,\n",
    "    output_dir=output_dir,\n",
    ")"
   ]
  },
  {
   "cell_type": "code",
   "execution_count": 8,
   "id": "106241f5",
   "metadata": {
    "execution": {
     "iopub.execute_input": "2025-07-30T20:25:55.789674Z",
     "iopub.status.busy": "2025-07-30T20:25:55.789294Z",
     "iopub.status.idle": "2025-07-30T20:25:55.795574Z",
     "shell.execute_reply": "2025-07-30T20:25:55.794685Z"
    },
    "papermill": {
     "duration": 0.029575,
     "end_time": "2025-07-30T20:25:55.797285",
     "exception": false,
     "start_time": "2025-07-30T20:25:55.767710",
     "status": "completed"
    },
    "tags": []
   },
   "outputs": [
    {
     "name": "stdout",
     "output_type": "stream",
     "text": [
      "Using Seed: 2023\n"
     ]
    }
   ],
   "source": [
    "import numpy as np\n",
    "parsed_seed = int(seed)\n",
    "np.random.seed(parsed_seed)\n",
    "print(f\"Using Seed: {parsed_seed}\")"
   ]
  },
  {
   "cell_type": "markdown",
   "id": "e0ebdc57",
   "metadata": {
    "papermill": {
     "duration": 0.020297,
     "end_time": "2025-07-30T20:25:55.840091",
     "exception": false,
     "start_time": "2025-07-30T20:25:55.819794",
     "status": "completed"
    },
    "tags": []
   },
   "source": [
    "# Loading Data"
   ]
  },
  {
   "cell_type": "markdown",
   "id": "681925a3",
   "metadata": {
    "papermill": {
     "duration": 0.011154,
     "end_time": "2025-07-30T20:25:55.864547",
     "exception": false,
     "start_time": "2025-07-30T20:25:55.853393",
     "status": "completed"
    },
    "tags": []
   },
   "source": [
    "Load siab_train, siab_test, siab_calib and/or \n",
    "load siab_train_features, siab_train_labels"
   ]
  },
  {
   "cell_type": "code",
   "execution_count": 9,
   "id": "f0496b8a",
   "metadata": {
    "execution": {
     "iopub.execute_input": "2025-07-30T20:25:55.888255Z",
     "iopub.status.busy": "2025-07-30T20:25:55.887745Z",
     "iopub.status.idle": "2025-07-30T20:26:07.881543Z",
     "shell.execute_reply": "2025-07-30T20:26:07.880518Z"
    },
    "papermill": {
     "duration": 12.007348,
     "end_time": "2025-07-30T20:26:07.883098",
     "exception": false,
     "start_time": "2025-07-30T20:25:55.875750",
     "status": "completed"
    },
    "tags": []
   },
   "outputs": [
    {
     "name": "stdout",
     "output_type": "stream",
     "text": [
      "Loading SIAB data from cache: data/siab_cached.csv.gz\n"
     ]
    },
    {
     "name": "stdout",
     "output_type": "stream",
     "text": [
      "(643690, 164)\n"
     ]
    }
   ],
   "source": [
    "from pathlib import Path\n",
    "import pandas as pd\n",
    "\n",
    "# File paths\n",
    "raw_file = Path(\"data/raw/siab.csv\")\n",
    "cache_file = Path(\"data/siab_cached.csv.gz\")\n",
    "\n",
    "# Ensure cache directory exists\n",
    "cache_file.parent.mkdir(parents=True, exist_ok=True)\n",
    "\n",
    "# Load with simple caching\n",
    "if cache_file.exists():\n",
    "    print(f\"Loading SIAB data from cache: {cache_file}\")\n",
    "    siab = pd.read_csv(cache_file, compression='gzip')\n",
    "else:\n",
    "    print(f\"Cache not found. Reading raw SIAB data: {raw_file}\")\n",
    "    siab = pd.read_csv(raw_file)\n",
    "    siab.to_csv(cache_file, index=False, compression='gzip')\n",
    "    print(f\"Cached SIAB data to: {cache_file}\")\n",
    "\n",
    "# Now use `siab` DataFrame as needed\n",
    "print(siab.shape)"
   ]
  },
  {
   "cell_type": "code",
   "execution_count": 10,
   "id": "db0ca512-5f53-4dba-abdb-a2888bca41ba",
   "metadata": {
    "execution": {
     "iopub.execute_input": "2025-07-30T20:26:07.924747Z",
     "iopub.status.busy": "2025-07-30T20:26:07.924224Z",
     "iopub.status.idle": "2025-07-30T20:26:07.930538Z",
     "shell.execute_reply": "2025-07-30T20:26:07.929490Z"
    },
    "papermill": {
     "duration": 0.02753,
     "end_time": "2025-07-30T20:26:07.932210",
     "exception": false,
     "start_time": "2025-07-30T20:26:07.904680",
     "status": "completed"
    },
    "tags": []
   },
   "outputs": [],
   "source": [
    "#siab"
   ]
  },
  {
   "cell_type": "code",
   "execution_count": 11,
   "id": "a0edb063",
   "metadata": {
    "execution": {
     "iopub.execute_input": "2025-07-30T20:26:07.972359Z",
     "iopub.status.busy": "2025-07-30T20:26:07.971546Z",
     "iopub.status.idle": "2025-07-30T20:26:07.977042Z",
     "shell.execute_reply": "2025-07-30T20:26:07.975989Z"
    },
    "papermill": {
     "duration": 0.026831,
     "end_time": "2025-07-30T20:26:07.978799",
     "exception": false,
     "start_time": "2025-07-30T20:26:07.951968",
     "status": "completed"
    },
    "tags": []
   },
   "outputs": [],
   "source": [
    "#import pandas as pd\n",
    "#\n",
    "#X_train = pd.read_csv(\"./data/X_train.csv\")\n",
    "#y_train = pd.read_csv(\"./data/y_train.csv\")"
   ]
  },
  {
   "cell_type": "code",
   "execution_count": 12,
   "id": "63d08085",
   "metadata": {
    "execution": {
     "iopub.execute_input": "2025-07-30T20:26:08.018557Z",
     "iopub.status.busy": "2025-07-30T20:26:08.017822Z",
     "iopub.status.idle": "2025-07-30T20:26:08.022877Z",
     "shell.execute_reply": "2025-07-30T20:26:08.021871Z"
    },
    "papermill": {
     "duration": 0.026145,
     "end_time": "2025-07-30T20:26:08.024538",
     "exception": false,
     "start_time": "2025-07-30T20:26:07.998393",
     "status": "completed"
    },
    "tags": []
   },
   "outputs": [],
   "source": [
    "#X_test = pd.read_csv(\"./data/X_test.csv\")\n",
    "#y_true = pd.read_csv(\"./data/y_test.csv\")"
   ]
  },
  {
   "cell_type": "code",
   "execution_count": 13,
   "id": "98a8d0fa-1d3d-4ed8-bb2c-281470e24add",
   "metadata": {
    "execution": {
     "iopub.execute_input": "2025-07-30T20:26:08.065814Z",
     "iopub.status.busy": "2025-07-30T20:26:08.064985Z",
     "iopub.status.idle": "2025-07-30T20:26:08.070225Z",
     "shell.execute_reply": "2025-07-30T20:26:08.069223Z"
    },
    "papermill": {
     "duration": 0.02622,
     "end_time": "2025-07-30T20:26:08.071744",
     "exception": false,
     "start_time": "2025-07-30T20:26:08.045524",
     "status": "completed"
    },
    "tags": []
   },
   "outputs": [],
   "source": [
    "# Calibration data for conformal\n",
    "#X_calib = pd.read_csv(\"./data/X_calib.csv\")\n",
    "#y_calib = pd.read_csv(\"./data/y_calib.csv\")"
   ]
  },
  {
   "cell_type": "markdown",
   "id": "997051c5-15bd-4b69-9786-c3001a3ce484",
   "metadata": {
    "papermill": {
     "duration": 0.018735,
     "end_time": "2025-07-30T20:26:08.109874",
     "exception": false,
     "start_time": "2025-07-30T20:26:08.091139",
     "status": "completed"
    },
    "tags": []
   },
   "source": [
    "# Splitting Data and Setting Training Data Size"
   ]
  },
  {
   "cell_type": "code",
   "execution_count": 14,
   "id": "e993b61f-042d-41a6-8c81-f55681f86335",
   "metadata": {
    "execution": {
     "iopub.execute_input": "2025-07-30T20:26:08.149233Z",
     "iopub.status.busy": "2025-07-30T20:26:08.148433Z",
     "iopub.status.idle": "2025-07-30T20:26:08.159815Z",
     "shell.execute_reply": "2025-07-30T20:26:08.159162Z"
    },
    "papermill": {
     "duration": 0.032761,
     "end_time": "2025-07-30T20:26:08.161318",
     "exception": false,
     "start_time": "2025-07-30T20:26:08.128557",
     "status": "completed"
    },
    "tags": []
   },
   "outputs": [],
   "source": [
    "def sample_by_year_size(df,\n",
    "                        training_year: str,\n",
    "                        training_size: str,\n",
    "                        random_state: int = 42):\n",
    "    # --- parse training_year into a list of int years ---\n",
    "    if \"_\" in training_year:\n",
    "        start_str, end_str = training_year.split(\"_\", 1)\n",
    "        start = int(start_str)\n",
    "        end   = int(end_str) if len(end_str) == 4 else (int(end_str) + (start // 100)*100)\n",
    "        years = list(range(start, end + 1))\n",
    "    else:\n",
    "        years = [int(training_year)]\n",
    "\n",
    "    df = df[df[\"year\"].isin(years)].reset_index(drop=True)\n",
    "\n",
    "    # --- map training_size to total number of samples ---\n",
    "    total_map = {\"25k\": 25_000, \"5k\": 5_000, \"1k\": 1_000}\n",
    "    if training_size not in total_map:\n",
    "        return df  # e.g. \"all\"\n",
    "\n",
    "    total_samples = total_map[training_size]\n",
    "    n_years       = len(years)\n",
    "    base          = total_samples // n_years\n",
    "    remainder     = total_samples % n_years\n",
    "\n",
    "    # --- build a dict: year -> how many to sample ---\n",
    "    # give +1 to the first `remainder` years in ascending order\n",
    "    quotas = {\n",
    "        year: base + (1 if idx < remainder else 0)\n",
    "        for idx, year in enumerate(sorted(years))\n",
    "    }\n",
    "\n",
    "    # --- sample per‐year according to the quota dict ---\n",
    "    sampled = (\n",
    "        df\n",
    "        .groupby(\"year\", group_keys=False)\n",
    "        .apply(lambda grp: grp.sample(\n",
    "            n=min(len(grp), quotas[grp.name]),\n",
    "            random_state=random_state))\n",
    "        .reset_index(drop=True)\n",
    "    )\n",
    "\n",
    "    return sampled"
   ]
  },
  {
   "cell_type": "code",
   "execution_count": 15,
   "id": "c0ccd338-0e02-41f3-a09d-f56f9266e3fb",
   "metadata": {
    "execution": {
     "iopub.execute_input": "2025-07-30T20:26:08.185304Z",
     "iopub.status.busy": "2025-07-30T20:26:08.184793Z",
     "iopub.status.idle": "2025-07-30T20:26:08.189005Z",
     "shell.execute_reply": "2025-07-30T20:26:08.188254Z"
    },
    "papermill": {
     "duration": 0.016703,
     "end_time": "2025-07-30T20:26:08.190350",
     "exception": false,
     "start_time": "2025-07-30T20:26:08.173647",
     "status": "completed"
    },
    "tags": []
   },
   "outputs": [],
   "source": [
    "#universe[\"training_size\"]"
   ]
  },
  {
   "cell_type": "code",
   "execution_count": 16,
   "id": "ca707fd7-8047-4acd-bfa5-66248fbbf8e6",
   "metadata": {
    "execution": {
     "iopub.execute_input": "2025-07-30T20:26:08.215170Z",
     "iopub.status.busy": "2025-07-30T20:26:08.214207Z",
     "iopub.status.idle": "2025-07-30T20:26:08.219165Z",
     "shell.execute_reply": "2025-07-30T20:26:08.218385Z"
    },
    "papermill": {
     "duration": 0.018889,
     "end_time": "2025-07-30T20:26:08.220588",
     "exception": false,
     "start_time": "2025-07-30T20:26:08.201699",
     "status": "completed"
    },
    "tags": []
   },
   "outputs": [],
   "source": [
    "#universe[\"training_year\"]"
   ]
  },
  {
   "cell_type": "code",
   "execution_count": 17,
   "id": "aea9c6ef-6f46-42c8-85eb-5a62025c1508",
   "metadata": {
    "execution": {
     "iopub.execute_input": "2025-07-30T20:26:08.247376Z",
     "iopub.status.busy": "2025-07-30T20:26:08.247068Z",
     "iopub.status.idle": "2025-07-30T20:26:09.339161Z",
     "shell.execute_reply": "2025-07-30T20:26:09.338287Z"
    },
    "papermill": {
     "duration": 1.105863,
     "end_time": "2025-07-30T20:26:09.341023",
     "exception": false,
     "start_time": "2025-07-30T20:26:08.235160",
     "status": "completed"
    },
    "tags": []
   },
   "outputs": [],
   "source": [
    "siab_train = sample_by_year_size(siab,\n",
    "                               training_year=universe[\"training_year\"],\n",
    "                               training_size=universe[\"training_size\"])"
   ]
  },
  {
   "cell_type": "code",
   "execution_count": 18,
   "id": "8d3afb32-789d-442c-8d5d-9f5aa8dd2eed",
   "metadata": {
    "execution": {
     "iopub.execute_input": "2025-07-30T20:26:09.381302Z",
     "iopub.status.busy": "2025-07-30T20:26:09.380882Z",
     "iopub.status.idle": "2025-07-30T20:26:09.385877Z",
     "shell.execute_reply": "2025-07-30T20:26:09.384916Z"
    },
    "papermill": {
     "duration": 0.026545,
     "end_time": "2025-07-30T20:26:09.387459",
     "exception": false,
     "start_time": "2025-07-30T20:26:09.360914",
     "status": "completed"
    },
    "tags": []
   },
   "outputs": [],
   "source": [
    "#siab_train.shape"
   ]
  },
  {
   "cell_type": "code",
   "execution_count": 19,
   "id": "d582db68-1a4c-47fb-84fc-08518dc1975a",
   "metadata": {
    "execution": {
     "iopub.execute_input": "2025-07-30T20:26:09.428602Z",
     "iopub.status.busy": "2025-07-30T20:26:09.427967Z",
     "iopub.status.idle": "2025-07-30T20:26:09.432754Z",
     "shell.execute_reply": "2025-07-30T20:26:09.431837Z"
    },
    "papermill": {
     "duration": 0.026685,
     "end_time": "2025-07-30T20:26:09.434434",
     "exception": false,
     "start_time": "2025-07-30T20:26:09.407749",
     "status": "completed"
    },
    "tags": []
   },
   "outputs": [],
   "source": [
    "#display(siab_train.groupby(\"year\").size())"
   ]
  },
  {
   "cell_type": "code",
   "execution_count": 20,
   "id": "a561edb4-d032-42cb-8256-22eac1111c64",
   "metadata": {
    "execution": {
     "iopub.execute_input": "2025-07-30T20:26:09.475909Z",
     "iopub.status.busy": "2025-07-30T20:26:09.475319Z",
     "iopub.status.idle": "2025-07-30T20:26:09.718647Z",
     "shell.execute_reply": "2025-07-30T20:26:09.717735Z"
    },
    "papermill": {
     "duration": 0.265603,
     "end_time": "2025-07-30T20:26:09.720502",
     "exception": false,
     "start_time": "2025-07-30T20:26:09.454899",
     "status": "completed"
    },
    "tags": []
   },
   "outputs": [],
   "source": [
    "#siab_train = siab_s[siab_s.year < 2015]\n",
    "siab_calib = siab[siab.year == 2015]\n",
    "siab_test = siab[siab.year == 2016]"
   ]
  },
  {
   "cell_type": "code",
   "execution_count": 21,
   "id": "472de16f-c3db-4916-846b-1f0de9cf1746",
   "metadata": {
    "execution": {
     "iopub.execute_input": "2025-07-30T20:26:09.761734Z",
     "iopub.status.busy": "2025-07-30T20:26:09.761106Z",
     "iopub.status.idle": "2025-07-30T20:26:09.774745Z",
     "shell.execute_reply": "2025-07-30T20:26:09.773654Z"
    },
    "papermill": {
     "duration": 0.035623,
     "end_time": "2025-07-30T20:26:09.776426",
     "exception": false,
     "start_time": "2025-07-30T20:26:09.740803",
     "status": "completed"
    },
    "tags": []
   },
   "outputs": [],
   "source": [
    "X_train = siab_train.iloc[:,4:164]\n",
    "y_train = siab_train.iloc[:, [3]]"
   ]
  },
  {
   "cell_type": "code",
   "execution_count": 22,
   "id": "828c96af-f43a-4ed6-ba47-8ac73a47d56c",
   "metadata": {
    "execution": {
     "iopub.execute_input": "2025-07-30T20:26:09.818563Z",
     "iopub.status.busy": "2025-07-30T20:26:09.817931Z",
     "iopub.status.idle": "2025-07-30T20:26:09.865776Z",
     "shell.execute_reply": "2025-07-30T20:26:09.864592Z"
    },
    "papermill": {
     "duration": 0.070139,
     "end_time": "2025-07-30T20:26:09.867535",
     "exception": false,
     "start_time": "2025-07-30T20:26:09.797396",
     "status": "completed"
    },
    "tags": []
   },
   "outputs": [],
   "source": [
    "X_calib = siab_calib.iloc[:,4:164]\n",
    "y_calib = siab_calib.iloc[:, [3]]"
   ]
  },
  {
   "cell_type": "code",
   "execution_count": 23,
   "id": "c34be9c3-6bd6-476e-acd3-845840e303be",
   "metadata": {
    "execution": {
     "iopub.execute_input": "2025-07-30T20:26:09.909630Z",
     "iopub.status.busy": "2025-07-30T20:26:09.909013Z",
     "iopub.status.idle": "2025-07-30T20:26:09.959276Z",
     "shell.execute_reply": "2025-07-30T20:26:09.958069Z"
    },
    "papermill": {
     "duration": 0.07256,
     "end_time": "2025-07-30T20:26:09.961090",
     "exception": false,
     "start_time": "2025-07-30T20:26:09.888530",
     "status": "completed"
    },
    "tags": []
   },
   "outputs": [],
   "source": [
    "X_test = siab_test.iloc[:,4:164]\n",
    "y_true = siab_test.iloc[:, [3]]"
   ]
  },
  {
   "cell_type": "markdown",
   "id": "9901737e-04df-44f0-9100-f5ad144ed040",
   "metadata": {
    "papermill": {
     "duration": 0.019953,
     "end_time": "2025-07-30T20:26:10.002612",
     "exception": false,
     "start_time": "2025-07-30T20:26:09.982659",
     "status": "completed"
    },
    "tags": []
   },
   "source": [
    "# Splitting Data and Setting Training Data Size OLD VERSION"
   ]
  },
  {
   "cell_type": "code",
   "execution_count": 24,
   "id": "acbc8f7d-8fc8-4e86-8c59-5dcb0f58384b",
   "metadata": {
    "execution": {
     "iopub.execute_input": "2025-07-30T20:26:10.043331Z",
     "iopub.status.busy": "2025-07-30T20:26:10.042687Z",
     "iopub.status.idle": "2025-07-30T20:26:10.048196Z",
     "shell.execute_reply": "2025-07-30T20:26:10.047265Z"
    },
    "papermill": {
     "duration": 0.027669,
     "end_time": "2025-07-30T20:26:10.049752",
     "exception": false,
     "start_time": "2025-07-30T20:26:10.022083",
     "status": "completed"
    },
    "tags": []
   },
   "outputs": [],
   "source": [
    "#def sample_by_year(df, training_size, random_state=42):\n",
    "#    if training_size == \"2014\":\n",
    "#        return df[df[\"year\"] == 2014].reset_index(drop=True)\n",
    "#    \n",
    "#    size_map = {\n",
    "#        \"25k\": 5000,\n",
    "#        \"5k\": 1000,\n",
    "#        \"1k\": 200\n",
    "#    }\n",
    "#\n",
    "#    if training_size not in size_map:\n",
    "#        return df.reset_index(drop=True)  # use all data\n",
    "#\n",
    "#    n_per_year = size_map[training_size]\n",
    "#    grouped = df.groupby(\"year\")\n",
    "#    sampled = grouped.apply(lambda x: x.sample(n=min(n_per_year, len(x)), random_state=random_state))\n",
    "#    return sampled.reset_index(drop=True)"
   ]
  },
  {
   "cell_type": "code",
   "execution_count": 25,
   "id": "6d931f52-beaf-43ff-9e78-9d44a448d54e",
   "metadata": {
    "execution": {
     "iopub.execute_input": "2025-07-30T20:26:10.091244Z",
     "iopub.status.busy": "2025-07-30T20:26:10.090633Z",
     "iopub.status.idle": "2025-07-30T20:26:10.095438Z",
     "shell.execute_reply": "2025-07-30T20:26:10.094504Z"
    },
    "papermill": {
     "duration": 0.026967,
     "end_time": "2025-07-30T20:26:10.097066",
     "exception": false,
     "start_time": "2025-07-30T20:26:10.070099",
     "status": "completed"
    },
    "tags": []
   },
   "outputs": [],
   "source": [
    "#siab_s = sample_by_year(siab, universe[\"training_size\"])"
   ]
  },
  {
   "cell_type": "code",
   "execution_count": 26,
   "id": "5db0a40e-a4e2-4920-be85-b12ae061d70d",
   "metadata": {
    "execution": {
     "iopub.execute_input": "2025-07-30T20:26:10.138399Z",
     "iopub.status.busy": "2025-07-30T20:26:10.137901Z",
     "iopub.status.idle": "2025-07-30T20:26:10.142732Z",
     "shell.execute_reply": "2025-07-30T20:26:10.141815Z"
    },
    "papermill": {
     "duration": 0.026883,
     "end_time": "2025-07-30T20:26:10.144416",
     "exception": false,
     "start_time": "2025-07-30T20:26:10.117533",
     "status": "completed"
    },
    "tags": []
   },
   "outputs": [],
   "source": [
    "#display(siab_s.groupby(\"year\").size())"
   ]
  },
  {
   "cell_type": "code",
   "execution_count": 27,
   "id": "e6c733c5",
   "metadata": {
    "execution": {
     "iopub.execute_input": "2025-07-30T20:26:10.186242Z",
     "iopub.status.busy": "2025-07-30T20:26:10.185640Z",
     "iopub.status.idle": "2025-07-30T20:26:10.292088Z",
     "shell.execute_reply": "2025-07-30T20:26:10.291225Z"
    },
    "papermill": {
     "duration": 0.128835,
     "end_time": "2025-07-30T20:26:10.293949",
     "exception": false,
     "start_time": "2025-07-30T20:26:10.165114",
     "status": "completed"
    },
    "tags": []
   },
   "outputs": [],
   "source": [
    "# Auxiliary data needed downstream in the pipeline\n",
    "\n",
    "org_train = X_train.copy()\n",
    "org_test = X_test.copy()\n",
    "org_calib = X_calib.copy()"
   ]
  },
  {
   "cell_type": "code",
   "execution_count": 28,
   "id": "1466abac-c6da-4492-a62f-4240ae3783af",
   "metadata": {
    "execution": {
     "iopub.execute_input": "2025-07-30T20:26:10.336113Z",
     "iopub.status.busy": "2025-07-30T20:26:10.335498Z",
     "iopub.status.idle": "2025-07-30T20:26:10.341065Z",
     "shell.execute_reply": "2025-07-30T20:26:10.340134Z"
    },
    "papermill": {
     "duration": 0.027899,
     "end_time": "2025-07-30T20:26:10.342591",
     "exception": false,
     "start_time": "2025-07-30T20:26:10.314692",
     "status": "completed"
    },
    "tags": []
   },
   "outputs": [],
   "source": [
    "# put in other script?\n",
    "# Group sizes\n",
    "\n",
    "#def calculate_percentages(df, df_name):\n",
    "#    total_entries = len(df)\n",
    "#\n",
    "#    female_pct = (df['frau1'] == 1).mean() * 100\n",
    "#    non_german_pct = ((df['maxdeutsch1'] == 0) & (df['maxdeutsch.Missing.'] == 0)).mean() * 100\n",
    "#    non_german_male_pct = ((df['frau1'] == 0) & (df['maxdeutsch1'] == 0) & (df['maxdeutsch.Missing.'] == 0)).mean() * 100\n",
    "#    non_german_female_pct = ((df['frau1'] == 1) & (df['maxdeutsch1'] == 0) & (df['maxdeutsch.Missing.'] == 0)).mean() * 100\n",
    "#\n",
    "#    print(f\"--- {df_name} ---\")\n",
    "#    print(f\"Female: {female_pct:.2f}%\")\n",
    "#    print(f\"Non-German: {non_german_pct:.2f}%\")\n",
    "#    print(f\"Non-German Male: {non_german_male_pct:.2f}%\")\n",
    "#    print(f\"Non-German Female: {non_german_female_pct:.2f}%\\n\")\n",
    "#\n",
    "## Calculate for each DataFrame\n",
    "#calculate_percentages(siab_calib, \"siab_calib\")\n",
    "#calculate_percentages(siab_test, \"siab_test\")\n",
    "#calculate_percentages(siab_train, \"siab_train\")"
   ]
  },
  {
   "cell_type": "markdown",
   "id": "0a4a1b33",
   "metadata": {
    "papermill": {
     "duration": 0.019603,
     "end_time": "2025-07-30T20:26:10.383316",
     "exception": false,
     "start_time": "2025-07-30T20:26:10.363713",
     "status": "completed"
    },
    "tags": []
   },
   "source": [
    "# Preprocessing Data"
   ]
  },
  {
   "cell_type": "code",
   "execution_count": 29,
   "id": "ca879031",
   "metadata": {
    "execution": {
     "iopub.execute_input": "2025-07-30T20:26:10.424695Z",
     "iopub.status.busy": "2025-07-30T20:26:10.424004Z",
     "iopub.status.idle": "2025-07-30T20:26:10.430061Z",
     "shell.execute_reply": "2025-07-30T20:26:10.429082Z"
    },
    "papermill": {
     "duration": 0.028586,
     "end_time": "2025-07-30T20:26:10.431711",
     "exception": false,
     "start_time": "2025-07-30T20:26:10.403125",
     "status": "completed"
    },
    "tags": []
   },
   "outputs": [],
   "source": [
    "# EXCLUDE PROTECTED FEATURES\n",
    "# ----------------------\n",
    "# \"exclude_features\": \"none\", # \"nationality\", \"sex\", \"nationality-sex\"\n",
    "\n",
    "excluded_features = universe[\"exclude_features\"].split(\"-\") # split, e.g.: \"nationality-sex\" -> [\"nationality\", \"sex\"]\n",
    "excluded_features_dictionary = {\n",
    "    \"nationality\": [\"maxdeutsch1\", \"maxdeutsch.Missing.\"],\n",
    "    \"sex\": [\"frau1\"],\n",
    "    \"age\": [\"age\"],\n",
    "}\n"
   ]
  },
  {
   "cell_type": "code",
   "execution_count": 30,
   "id": "b745ac60",
   "metadata": {
    "execution": {
     "iopub.execute_input": "2025-07-30T20:26:10.474921Z",
     "iopub.status.busy": "2025-07-30T20:26:10.474273Z",
     "iopub.status.idle": "2025-07-30T20:26:10.479750Z",
     "shell.execute_reply": "2025-07-30T20:26:10.478820Z"
    },
    "papermill": {
     "duration": 0.028719,
     "end_time": "2025-07-30T20:26:10.481418",
     "exception": false,
     "start_time": "2025-07-30T20:26:10.452699",
     "status": "completed"
    },
    "tags": []
   },
   "outputs": [],
   "source": [
    "# Code nice names to column names\n",
    "\n",
    "excluded_features_columns = [\n",
    "    excluded_features_dictionary[f] for f in excluded_features if len(f) > 0 and f != \"none\"\n",
    "]"
   ]
  },
  {
   "cell_type": "code",
   "execution_count": 31,
   "id": "f84f73a2",
   "metadata": {
    "execution": {
     "iopub.execute_input": "2025-07-30T20:26:10.523468Z",
     "iopub.status.busy": "2025-07-30T20:26:10.523034Z",
     "iopub.status.idle": "2025-07-30T20:26:10.529271Z",
     "shell.execute_reply": "2025-07-30T20:26:10.528214Z"
    },
    "papermill": {
     "duration": 0.028753,
     "end_time": "2025-07-30T20:26:10.530962",
     "exception": false,
     "start_time": "2025-07-30T20:26:10.502209",
     "status": "completed"
    },
    "tags": []
   },
   "outputs": [],
   "source": [
    "from utils import flatten_once\n",
    "\n",
    "excluded_features_columns = flatten_once(excluded_features_columns)"
   ]
  },
  {
   "cell_type": "code",
   "execution_count": 32,
   "id": "884dea22",
   "metadata": {
    "execution": {
     "iopub.execute_input": "2025-07-30T20:26:10.573140Z",
     "iopub.status.busy": "2025-07-30T20:26:10.572516Z",
     "iopub.status.idle": "2025-07-30T20:26:10.586891Z",
     "shell.execute_reply": "2025-07-30T20:26:10.585923Z"
    },
    "papermill": {
     "duration": 0.03669,
     "end_time": "2025-07-30T20:26:10.588491",
     "exception": false,
     "start_time": "2025-07-30T20:26:10.551801",
     "status": "completed"
    },
    "tags": []
   },
   "outputs": [
    {
     "name": "stdout",
     "output_type": "stream",
     "text": [
      "Dropping features: ['age']\n"
     ]
    }
   ],
   "source": [
    "if len(excluded_features_columns) > 0:\n",
    "    print(f\"Dropping features: {excluded_features_columns}\")\n",
    "    X_train.drop(excluded_features_columns, axis=1, inplace=True)"
   ]
  },
  {
   "cell_type": "code",
   "execution_count": 33,
   "id": "95ab8b16",
   "metadata": {
    "execution": {
     "iopub.execute_input": "2025-07-30T20:26:10.632885Z",
     "iopub.status.busy": "2025-07-30T20:26:10.631935Z",
     "iopub.status.idle": "2025-07-30T20:26:10.681533Z",
     "shell.execute_reply": "2025-07-30T20:26:10.680644Z"
    },
    "papermill": {
     "duration": 0.07593,
     "end_time": "2025-07-30T20:26:10.685666",
     "exception": false,
     "start_time": "2025-07-30T20:26:10.609736",
     "status": "completed"
    },
    "tags": []
   },
   "outputs": [
    {
     "name": "stdout",
     "output_type": "stream",
     "text": [
      "Dropping features: ['age']\n"
     ]
    }
   ],
   "source": [
    "if len(excluded_features_columns) > 0:\n",
    "    print(f\"Dropping features: {excluded_features_columns}\")\n",
    "    X_test.drop(excluded_features_columns, axis=1, inplace=True)"
   ]
  },
  {
   "cell_type": "code",
   "execution_count": 34,
   "id": "1853aaf5-fb9f-46cb-a2b5-8ea4ae2237e4",
   "metadata": {
    "execution": {
     "iopub.execute_input": "2025-07-30T20:26:10.730726Z",
     "iopub.status.busy": "2025-07-30T20:26:10.730291Z",
     "iopub.status.idle": "2025-07-30T20:26:10.786629Z",
     "shell.execute_reply": "2025-07-30T20:26:10.785628Z"
    },
    "papermill": {
     "duration": 0.081077,
     "end_time": "2025-07-30T20:26:10.788528",
     "exception": false,
     "start_time": "2025-07-30T20:26:10.707451",
     "status": "completed"
    },
    "tags": []
   },
   "outputs": [
    {
     "name": "stdout",
     "output_type": "stream",
     "text": [
      "Dropping features: ['age']\n"
     ]
    }
   ],
   "source": [
    "if len(excluded_features_columns) > 0:\n",
    "    print(f\"Dropping features: {excluded_features_columns}\")\n",
    "    X_calib.drop(excluded_features_columns, axis=1, inplace=True)"
   ]
  },
  {
   "cell_type": "code",
   "execution_count": 35,
   "id": "6727d079-03e5-481e-9d38-292a90b7a0a8",
   "metadata": {
    "execution": {
     "iopub.execute_input": "2025-07-30T20:26:10.833603Z",
     "iopub.status.busy": "2025-07-30T20:26:10.832981Z",
     "iopub.status.idle": "2025-07-30T20:26:10.838694Z",
     "shell.execute_reply": "2025-07-30T20:26:10.837454Z"
    },
    "papermill": {
     "duration": 0.030111,
     "end_time": "2025-07-30T20:26:10.840427",
     "exception": false,
     "start_time": "2025-07-30T20:26:10.810316",
     "status": "completed"
    },
    "tags": []
   },
   "outputs": [],
   "source": [
    "# SPLIT & STRATIFY DATA\n",
    "# ----------------------"
   ]
  },
  {
   "cell_type": "code",
   "execution_count": 36,
   "id": "76c4dc6d",
   "metadata": {
    "execution": {
     "iopub.execute_input": "2025-07-30T20:26:10.885229Z",
     "iopub.status.busy": "2025-07-30T20:26:10.884425Z",
     "iopub.status.idle": "2025-07-30T20:26:10.889522Z",
     "shell.execute_reply": "2025-07-30T20:26:10.888729Z"
    },
    "papermill": {
     "duration": 0.027497,
     "end_time": "2025-07-30T20:26:10.890922",
     "exception": false,
     "start_time": "2025-07-30T20:26:10.863425",
     "status": "completed"
    },
    "tags": []
   },
   "outputs": [],
   "source": [
    "# EXCLUDE CERTAIN SUBGROUPS\n",
    "# ----------------------\n",
    "\n",
    "mode = universe.get(\"exclude_subgroups\", \"keep-all\") \n",
    "# Fetches the exclude_subgroups setting from the universe dict.\n",
    "# Defaults to \"keep-all\" if the key is missing."
   ]
  },
  {
   "cell_type": "code",
   "execution_count": 37,
   "id": "21994072",
   "metadata": {
    "execution": {
     "iopub.execute_input": "2025-07-30T20:26:10.935727Z",
     "iopub.status.busy": "2025-07-30T20:26:10.935094Z",
     "iopub.status.idle": "2025-07-30T20:26:10.955272Z",
     "shell.execute_reply": "2025-07-30T20:26:10.954364Z"
    },
    "papermill": {
     "duration": 0.04483,
     "end_time": "2025-07-30T20:26:10.957194",
     "exception": false,
     "start_time": "2025-07-30T20:26:10.912364",
     "status": "completed"
    },
    "tags": []
   },
   "outputs": [],
   "source": [
    "if mode == \"keep-all\":\n",
    "    keep_mask = pd.Series(True, index=org_train.index)\n",
    "\n",
    "# org_train contains the original feature columns from features_org (in Simson)\n",
    "# features_org contains unprocessed features, for me X_train at beginning ???\n",
    "# For keep-all, creates a boolean Series (keep_mask) of all True, so no rows are removed.\n",
    "\n",
    "elif mode == \"drop-non-german\":\n",
    "    keep_mask = org_train[\"maxdeutsch1\"] == 1 # ??? what about missing values?\n",
    "\n",
    "else:\n",
    "    raise ValueError(f\"Unsupported mode for exclude_subgroups: {mode}\")\n"
   ]
  },
  {
   "cell_type": "code",
   "execution_count": 38,
   "id": "71651440",
   "metadata": {
    "execution": {
     "iopub.execute_input": "2025-07-30T20:26:11.002369Z",
     "iopub.status.busy": "2025-07-30T20:26:11.001733Z",
     "iopub.status.idle": "2025-07-30T20:26:11.009260Z",
     "shell.execute_reply": "2025-07-30T20:26:11.008281Z"
    },
    "papermill": {
     "duration": 0.031844,
     "end_time": "2025-07-30T20:26:11.010804",
     "exception": false,
     "start_time": "2025-07-30T20:26:10.978960",
     "status": "completed"
    },
    "tags": []
   },
   "outputs": [
    {
     "name": "stdout",
     "output_type": "stream",
     "text": [
      "Dropping 3312 rows (13.25%) where mode='drop-non-german'\n"
     ]
    }
   ],
   "source": [
    "n_drop = (~keep_mask).sum() # Calculates how many rows are set to be dropped\n",
    "if n_drop > 0:\n",
    "    pct = n_drop / len(keep_mask) * 100\n",
    "    print(f\"Dropping {n_drop} rows ({pct:.2f}%) where mode='{mode}'\")"
   ]
  },
  {
   "cell_type": "code",
   "execution_count": 39,
   "id": "5fb8eee5",
   "metadata": {
    "execution": {
     "iopub.execute_input": "2025-07-30T20:26:11.055997Z",
     "iopub.status.busy": "2025-07-30T20:26:11.055351Z",
     "iopub.status.idle": "2025-07-30T20:26:11.070052Z",
     "shell.execute_reply": "2025-07-30T20:26:11.069022Z"
    },
    "papermill": {
     "duration": 0.039122,
     "end_time": "2025-07-30T20:26:11.072003",
     "exception": false,
     "start_time": "2025-07-30T20:26:11.032881",
     "status": "completed"
    },
    "tags": []
   },
   "outputs": [],
   "source": [
    "X_train = X_train[keep_mask]"
   ]
  },
  {
   "cell_type": "code",
   "execution_count": 40,
   "id": "b202bb3a",
   "metadata": {
    "execution": {
     "iopub.execute_input": "2025-07-30T20:26:11.116276Z",
     "iopub.status.busy": "2025-07-30T20:26:11.115620Z",
     "iopub.status.idle": "2025-07-30T20:26:11.121518Z",
     "shell.execute_reply": "2025-07-30T20:26:11.120625Z"
    },
    "papermill": {
     "duration": 0.029205,
     "end_time": "2025-07-30T20:26:11.123060",
     "exception": false,
     "start_time": "2025-07-30T20:26:11.093855",
     "status": "completed"
    },
    "tags": []
   },
   "outputs": [],
   "source": [
    "y_train = y_train[keep_mask]"
   ]
  },
  {
   "cell_type": "markdown",
   "id": "493e2ac3",
   "metadata": {
    "papermill": {
     "duration": 0.020788,
     "end_time": "2025-07-30T20:26:11.165343",
     "exception": false,
     "start_time": "2025-07-30T20:26:11.144555",
     "status": "completed"
    },
    "tags": []
   },
   "source": [
    "# Model Training"
   ]
  },
  {
   "cell_type": "code",
   "execution_count": 41,
   "id": "679e1268",
   "metadata": {
    "execution": {
     "iopub.execute_input": "2025-07-30T20:26:11.208627Z",
     "iopub.status.busy": "2025-07-30T20:26:11.207941Z",
     "iopub.status.idle": "2025-07-30T20:26:11.304649Z",
     "shell.execute_reply": "2025-07-30T20:26:11.303797Z"
    },
    "papermill": {
     "duration": 0.120407,
     "end_time": "2025-07-30T20:26:11.306421",
     "exception": false,
     "start_time": "2025-07-30T20:26:11.186014",
     "status": "completed"
    },
    "tags": []
   },
   "outputs": [],
   "source": [
    "from sklearn.linear_model import LogisticRegression\n",
    "from sklearn.ensemble import GradientBoostingClassifier, RandomForestClassifier\n",
    "\n",
    "if (universe[\"model\"] == \"logreg\"):\n",
    "    model = LogisticRegression() #penalty=\"none\") #, solver=\"newton-cg\", max_iter=1) # include random_state=19 ?\n",
    "elif (universe[\"model\"] == \"penalized_logreg\"):\n",
    "    model = LogisticRegression(penalty=\"l2\", C=1.0) #, solver=\"newton-cg\", max_iter=1)\n",
    "elif (universe[\"model\"] == \"rf\"):\n",
    "    model = RandomForestClassifier(n_estimators=100, n_jobs=-1)\n",
    "elif (universe[\"model\"] == \"gbm\"):\n",
    "    model = GradientBoostingClassifier()\n",
    "elif (universe[\"model\"] == \"elasticnet\"):\n",
    "    model = LogisticRegression(penalty = 'elasticnet', solver = 'saga', l1_ratio = 0.5, max_iter=5000) # which solver to use?\n",
    "else:\n",
    "    raise \"Unsupported universe.model\""
   ]
  },
  {
   "cell_type": "code",
   "execution_count": 42,
   "id": "0cc8f744",
   "metadata": {
    "execution": {
     "iopub.execute_input": "2025-07-30T20:26:11.350762Z",
     "iopub.status.busy": "2025-07-30T20:26:11.350291Z",
     "iopub.status.idle": "2025-07-30T20:26:11.356467Z",
     "shell.execute_reply": "2025-07-30T20:26:11.355593Z"
    },
    "papermill": {
     "duration": 0.0299,
     "end_time": "2025-07-30T20:26:11.358122",
     "exception": false,
     "start_time": "2025-07-30T20:26:11.328222",
     "status": "completed"
    },
    "tags": []
   },
   "outputs": [],
   "source": [
    "import numpy as np\n",
    "from sklearn.pipeline import Pipeline\n",
    "from sklearn.preprocessing import StandardScaler\n",
    "\n",
    "model = Pipeline([\n",
    "    #(\"continuous_processor\", continuous_processor),\n",
    "    #(\"categorical_preprocessor\", categorical_preprocessor),\n",
    "    (\"scale\", StandardScaler() if universe[\"scale\"] == \"scale\" else None), \n",
    "    (\"model\", model),\n",
    "])"
   ]
  },
  {
   "cell_type": "code",
   "execution_count": 43,
   "id": "9442c04d",
   "metadata": {
    "execution": {
     "iopub.execute_input": "2025-07-30T20:26:11.402451Z",
     "iopub.status.busy": "2025-07-30T20:26:11.402005Z",
     "iopub.status.idle": "2025-07-30T20:26:11.917534Z",
     "shell.execute_reply": "2025-07-30T20:26:11.916704Z"
    },
    "papermill": {
     "duration": 0.538939,
     "end_time": "2025-07-30T20:26:11.919149",
     "exception": false,
     "start_time": "2025-07-30T20:26:11.380210",
     "status": "completed"
    },
    "tags": []
   },
   "outputs": [
    {
     "name": "stderr",
     "output_type": "stream",
     "text": [
      "/dss/dsshome1/0C/ra93lal2/.local/share/virtualenvs/CMA_Fairness_v2-3j10GkSs/lib/python3.10/site-packages/sklearn/linear_model/_logistic.py:444: ConvergenceWarning: lbfgs failed to converge (status=1):\n",
      "STOP: TOTAL NO. of ITERATIONS REACHED LIMIT.\n",
      "\n",
      "Increase the number of iterations (max_iter) or scale the data as shown in:\n",
      "    https://scikit-learn.org/stable/modules/preprocessing.html\n",
      "Please also refer to the documentation for alternative solver options:\n",
      "    https://scikit-learn.org/stable/modules/linear_model.html#logistic-regression\n",
      "  n_iter_i = _check_optimize_result(\n"
     ]
    },
    {
     "data": {
      "text/html": [
       "<style>#sk-container-id-1 {color: black;background-color: white;}#sk-container-id-1 pre{padding: 0;}#sk-container-id-1 div.sk-toggleable {background-color: white;}#sk-container-id-1 label.sk-toggleable__label {cursor: pointer;display: block;width: 100%;margin-bottom: 0;padding: 0.3em;box-sizing: border-box;text-align: center;}#sk-container-id-1 label.sk-toggleable__label-arrow:before {content: \"▸\";float: left;margin-right: 0.25em;color: #696969;}#sk-container-id-1 label.sk-toggleable__label-arrow:hover:before {color: black;}#sk-container-id-1 div.sk-estimator:hover label.sk-toggleable__label-arrow:before {color: black;}#sk-container-id-1 div.sk-toggleable__content {max-height: 0;max-width: 0;overflow: hidden;text-align: left;background-color: #f0f8ff;}#sk-container-id-1 div.sk-toggleable__content pre {margin: 0.2em;color: black;border-radius: 0.25em;background-color: #f0f8ff;}#sk-container-id-1 input.sk-toggleable__control:checked~div.sk-toggleable__content {max-height: 200px;max-width: 100%;overflow: auto;}#sk-container-id-1 input.sk-toggleable__control:checked~label.sk-toggleable__label-arrow:before {content: \"▾\";}#sk-container-id-1 div.sk-estimator input.sk-toggleable__control:checked~label.sk-toggleable__label {background-color: #d4ebff;}#sk-container-id-1 div.sk-label input.sk-toggleable__control:checked~label.sk-toggleable__label {background-color: #d4ebff;}#sk-container-id-1 input.sk-hidden--visually {border: 0;clip: rect(1px 1px 1px 1px);clip: rect(1px, 1px, 1px, 1px);height: 1px;margin: -1px;overflow: hidden;padding: 0;position: absolute;width: 1px;}#sk-container-id-1 div.sk-estimator {font-family: monospace;background-color: #f0f8ff;border: 1px dotted black;border-radius: 0.25em;box-sizing: border-box;margin-bottom: 0.5em;}#sk-container-id-1 div.sk-estimator:hover {background-color: #d4ebff;}#sk-container-id-1 div.sk-parallel-item::after {content: \"\";width: 100%;border-bottom: 1px solid gray;flex-grow: 1;}#sk-container-id-1 div.sk-label:hover label.sk-toggleable__label {background-color: #d4ebff;}#sk-container-id-1 div.sk-serial::before {content: \"\";position: absolute;border-left: 1px solid gray;box-sizing: border-box;top: 0;bottom: 0;left: 50%;z-index: 0;}#sk-container-id-1 div.sk-serial {display: flex;flex-direction: column;align-items: center;background-color: white;padding-right: 0.2em;padding-left: 0.2em;position: relative;}#sk-container-id-1 div.sk-item {position: relative;z-index: 1;}#sk-container-id-1 div.sk-parallel {display: flex;align-items: stretch;justify-content: center;background-color: white;position: relative;}#sk-container-id-1 div.sk-item::before, #sk-container-id-1 div.sk-parallel-item::before {content: \"\";position: absolute;border-left: 1px solid gray;box-sizing: border-box;top: 0;bottom: 0;left: 50%;z-index: -1;}#sk-container-id-1 div.sk-parallel-item {display: flex;flex-direction: column;z-index: 1;position: relative;background-color: white;}#sk-container-id-1 div.sk-parallel-item:first-child::after {align-self: flex-end;width: 50%;}#sk-container-id-1 div.sk-parallel-item:last-child::after {align-self: flex-start;width: 50%;}#sk-container-id-1 div.sk-parallel-item:only-child::after {width: 0;}#sk-container-id-1 div.sk-dashed-wrapped {border: 1px dashed gray;margin: 0 0.4em 0.5em 0.4em;box-sizing: border-box;padding-bottom: 0.4em;background-color: white;}#sk-container-id-1 div.sk-label label {font-family: monospace;font-weight: bold;display: inline-block;line-height: 1.2em;}#sk-container-id-1 div.sk-label-container {text-align: center;}#sk-container-id-1 div.sk-container {/* jupyter's `normalize.less` sets `[hidden] { display: none; }` but bootstrap.min.css set `[hidden] { display: none !important; }` so we also need the `!important` here to be able to override the default hidden behavior on the sphinx rendered scikit-learn.org. See: https://github.com/scikit-learn/scikit-learn/issues/21755 */display: inline-block !important;position: relative;}#sk-container-id-1 div.sk-text-repr-fallback {display: none;}</style><div id=\"sk-container-id-1\" class=\"sk-top-container\"><div class=\"sk-text-repr-fallback\"><pre>Pipeline(steps=[(&#x27;scale&#x27;, StandardScaler()), (&#x27;model&#x27;, LogisticRegression())])</pre><b>In a Jupyter environment, please rerun this cell to show the HTML representation or trust the notebook. <br />On GitHub, the HTML representation is unable to render, please try loading this page with nbviewer.org.</b></div><div class=\"sk-container\" hidden><div class=\"sk-item sk-dashed-wrapped\"><div class=\"sk-label-container\"><div class=\"sk-label sk-toggleable\"><input class=\"sk-toggleable__control sk-hidden--visually\" id=\"sk-estimator-id-1\" type=\"checkbox\" ><label for=\"sk-estimator-id-1\" class=\"sk-toggleable__label sk-toggleable__label-arrow\">Pipeline</label><div class=\"sk-toggleable__content\"><pre>Pipeline(steps=[(&#x27;scale&#x27;, StandardScaler()), (&#x27;model&#x27;, LogisticRegression())])</pre></div></div></div><div class=\"sk-serial\"><div class=\"sk-item\"><div class=\"sk-estimator sk-toggleable\"><input class=\"sk-toggleable__control sk-hidden--visually\" id=\"sk-estimator-id-2\" type=\"checkbox\" ><label for=\"sk-estimator-id-2\" class=\"sk-toggleable__label sk-toggleable__label-arrow\">StandardScaler</label><div class=\"sk-toggleable__content\"><pre>StandardScaler()</pre></div></div></div><div class=\"sk-item\"><div class=\"sk-estimator sk-toggleable\"><input class=\"sk-toggleable__control sk-hidden--visually\" id=\"sk-estimator-id-3\" type=\"checkbox\" ><label for=\"sk-estimator-id-3\" class=\"sk-toggleable__label sk-toggleable__label-arrow\">LogisticRegression</label><div class=\"sk-toggleable__content\"><pre>LogisticRegression()</pre></div></div></div></div></div></div></div>"
      ],
      "text/plain": [
       "Pipeline(steps=[('scale', StandardScaler()), ('model', LogisticRegression())])"
      ]
     },
     "execution_count": 43,
     "metadata": {},
     "output_type": "execute_result"
    }
   ],
   "source": [
    "model.fit(X_train, y_train.values.ravel())"
   ]
  },
  {
   "cell_type": "code",
   "execution_count": 44,
   "id": "af59f8c0",
   "metadata": {
    "execution": {
     "iopub.execute_input": "2025-07-30T20:26:11.964291Z",
     "iopub.status.busy": "2025-07-30T20:26:11.963627Z",
     "iopub.status.idle": "2025-07-30T20:26:11.968915Z",
     "shell.execute_reply": "2025-07-30T20:26:11.967957Z"
    },
    "papermill": {
     "duration": 0.02919,
     "end_time": "2025-07-30T20:26:11.970577",
     "exception": false,
     "start_time": "2025-07-30T20:26:11.941387",
     "status": "completed"
    },
    "tags": []
   },
   "outputs": [],
   "source": [
    "from fairness_multiverse.universe import predict_w_threshold"
   ]
  },
  {
   "cell_type": "code",
   "execution_count": 45,
   "id": "a7cf2e16",
   "metadata": {
    "execution": {
     "iopub.execute_input": "2025-07-30T20:26:12.016374Z",
     "iopub.status.busy": "2025-07-30T20:26:12.015651Z",
     "iopub.status.idle": "2025-07-30T20:26:12.198965Z",
     "shell.execute_reply": "2025-07-30T20:26:12.198089Z"
    },
    "papermill": {
     "duration": 0.20731,
     "end_time": "2025-07-30T20:26:12.200503",
     "exception": false,
     "start_time": "2025-07-30T20:26:11.993193",
     "status": "completed"
    },
    "tags": []
   },
   "outputs": [
    {
     "data": {
      "text/plain": [
       "0.8571173782187047"
      ]
     },
     "execution_count": 45,
     "metadata": {},
     "output_type": "execute_result"
    }
   ],
   "source": [
    "probs_test = model.predict_proba(X_test)\n",
    "\n",
    "'''\n",
    "Below code returns a boolean array (or binary 0/1 array depending on how it’s used) where each element \n",
    "is True if the probability of class 1 is greater than or equal to the threshold, and False otherwise.\n",
    "'''\n",
    "y_pred_default = predict_w_threshold(probs_test, 0.5)\n",
    "\n",
    "from sklearn.metrics import accuracy_score\n",
    "\n",
    "# Naive prediction\n",
    "accuracy_score(y_true = y_true, y_pred = y_pred_default)"
   ]
  },
  {
   "cell_type": "code",
   "execution_count": 46,
   "id": "081964c3",
   "metadata": {
    "execution": {
     "iopub.execute_input": "2025-07-30T20:26:12.246568Z",
     "iopub.status.busy": "2025-07-30T20:26:12.245741Z",
     "iopub.status.idle": "2025-07-30T20:26:12.419844Z",
     "shell.execute_reply": "2025-07-30T20:26:12.419049Z"
    },
    "papermill": {
     "duration": 0.198548,
     "end_time": "2025-07-30T20:26:12.421390",
     "exception": false,
     "start_time": "2025-07-30T20:26:12.222842",
     "status": "completed"
    },
    "tags": []
   },
   "outputs": [
    {
     "data": {
      "text/plain": [
       "array([0, 0, 0, ..., 0, 0, 0])"
      ]
     },
     "execution_count": 46,
     "metadata": {},
     "output_type": "execute_result"
    }
   ],
   "source": [
    "model.predict(X_test)"
   ]
  },
  {
   "cell_type": "markdown",
   "id": "56c9705b",
   "metadata": {
    "papermill": {
     "duration": 0.02228,
     "end_time": "2025-07-30T20:26:12.466533",
     "exception": false,
     "start_time": "2025-07-30T20:26:12.444253",
     "status": "completed"
    },
    "tags": []
   },
   "source": [
    "# Conformal Prediction"
   ]
  },
  {
   "cell_type": "code",
   "execution_count": 47,
   "id": "160ec6ff",
   "metadata": {
    "execution": {
     "iopub.execute_input": "2025-07-30T20:26:12.512836Z",
     "iopub.status.busy": "2025-07-30T20:26:12.512190Z",
     "iopub.status.idle": "2025-07-30T20:26:12.517321Z",
     "shell.execute_reply": "2025-07-30T20:26:12.516389Z"
    },
    "papermill": {
     "duration": 0.029612,
     "end_time": "2025-07-30T20:26:12.519152",
     "exception": false,
     "start_time": "2025-07-30T20:26:12.489540",
     "status": "completed"
    },
    "tags": []
   },
   "outputs": [],
   "source": [
    "# Miscoverage level for conformal prediction (10% allowed error rate => 90% target coverage)\n",
    "alpha = 0.1"
   ]
  },
  {
   "cell_type": "code",
   "execution_count": 48,
   "id": "eadf4555-3dd3-440e-8e35-f82a4ad9f855",
   "metadata": {
    "execution": {
     "iopub.execute_input": "2025-07-30T20:26:12.566474Z",
     "iopub.status.busy": "2025-07-30T20:26:12.565805Z",
     "iopub.status.idle": "2025-07-30T20:26:12.734528Z",
     "shell.execute_reply": "2025-07-30T20:26:12.733506Z"
    },
    "papermill": {
     "duration": 0.193757,
     "end_time": "2025-07-30T20:26:12.736942",
     "exception": false,
     "start_time": "2025-07-30T20:26:12.543185",
     "status": "completed"
    },
    "tags": []
   },
   "outputs": [],
   "source": [
    "probs_calib = model.predict_proba(X_calib)"
   ]
  },
  {
   "cell_type": "code",
   "execution_count": 49,
   "id": "2ed93547-6d5d-4983-9b36-1ecb300da49a",
   "metadata": {
    "execution": {
     "iopub.execute_input": "2025-07-30T20:26:12.786259Z",
     "iopub.status.busy": "2025-07-30T20:26:12.785617Z",
     "iopub.status.idle": "2025-07-30T20:26:12.791235Z",
     "shell.execute_reply": "2025-07-30T20:26:12.790361Z"
    },
    "papermill": {
     "duration": 0.030596,
     "end_time": "2025-07-30T20:26:12.792936",
     "exception": false,
     "start_time": "2025-07-30T20:26:12.762340",
     "status": "completed"
    },
    "tags": []
   },
   "outputs": [],
   "source": [
    "y_calib = y_calib.values.ravel().astype(int)"
   ]
  },
  {
   "cell_type": "code",
   "execution_count": 50,
   "id": "65d1320d-f588-4b38-9072-62af1ae97f7d",
   "metadata": {
    "execution": {
     "iopub.execute_input": "2025-07-30T20:26:12.839743Z",
     "iopub.status.busy": "2025-07-30T20:26:12.839116Z",
     "iopub.status.idle": "2025-07-30T20:26:12.846721Z",
     "shell.execute_reply": "2025-07-30T20:26:12.845595Z"
    },
    "papermill": {
     "duration": 0.03236,
     "end_time": "2025-07-30T20:26:12.848333",
     "exception": false,
     "start_time": "2025-07-30T20:26:12.815973",
     "status": "completed"
    },
    "tags": []
   },
   "outputs": [],
   "source": [
    "from fairness_multiverse.conformal import compute_nc_scores\n",
    "\n",
    "# Compute nonconformity scores on calibration set (1 - probability of true class)\n",
    "nc_scores = compute_nc_scores(probs_calib, y_calib)"
   ]
  },
  {
   "cell_type": "code",
   "execution_count": 51,
   "id": "df3b8ca3-53b7-43d5-9667-7c85da7aeda2",
   "metadata": {
    "execution": {
     "iopub.execute_input": "2025-07-30T20:26:12.895350Z",
     "iopub.status.busy": "2025-07-30T20:26:12.894717Z",
     "iopub.status.idle": "2025-07-30T20:26:12.901409Z",
     "shell.execute_reply": "2025-07-30T20:26:12.900503Z"
    },
    "papermill": {
     "duration": 0.031483,
     "end_time": "2025-07-30T20:26:12.902978",
     "exception": false,
     "start_time": "2025-07-30T20:26:12.871495",
     "status": "completed"
    },
    "tags": []
   },
   "outputs": [],
   "source": [
    "from fairness_multiverse.conformal import find_threshold\n",
    "\n",
    "# Find conformal threshold q_hat for the given alpha (split conformal method)\n",
    "q_hat = find_threshold(nc_scores, alpha)"
   ]
  },
  {
   "cell_type": "code",
   "execution_count": 52,
   "id": "4d29e6c1-0ef6-4aa4-b8fe-4fe79b0d033a",
   "metadata": {
    "execution": {
     "iopub.execute_input": "2025-07-30T20:26:12.949963Z",
     "iopub.status.busy": "2025-07-30T20:26:12.949331Z",
     "iopub.status.idle": "2025-07-30T20:26:12.956232Z",
     "shell.execute_reply": "2025-07-30T20:26:12.955346Z"
    },
    "papermill": {
     "duration": 0.03165,
     "end_time": "2025-07-30T20:26:12.957761",
     "exception": false,
     "start_time": "2025-07-30T20:26:12.926111",
     "status": "completed"
    },
    "tags": []
   },
   "outputs": [
    {
     "data": {
      "text/plain": [
       "0.6675342616361196"
      ]
     },
     "execution_count": 52,
     "metadata": {},
     "output_type": "execute_result"
    }
   ],
   "source": [
    "q_hat"
   ]
  },
  {
   "cell_type": "code",
   "execution_count": 53,
   "id": "92460794-cdac-4be2-ba28-f28c0515a6fb",
   "metadata": {
    "execution": {
     "iopub.execute_input": "2025-07-30T20:26:13.005322Z",
     "iopub.status.busy": "2025-07-30T20:26:13.004685Z",
     "iopub.status.idle": "2025-07-30T20:26:13.853954Z",
     "shell.execute_reply": "2025-07-30T20:26:13.853069Z"
    },
    "papermill": {
     "duration": 0.874942,
     "end_time": "2025-07-30T20:26:13.855800",
     "exception": false,
     "start_time": "2025-07-30T20:26:12.980858",
     "status": "completed"
    },
    "tags": []
   },
   "outputs": [],
   "source": [
    "from fairness_multiverse.conformal import predict_conformal_sets\n",
    "\n",
    "# Generate prediction sets for each test example\n",
    "pred_sets = predict_conformal_sets(model, X_test, q_hat)"
   ]
  },
  {
   "cell_type": "code",
   "execution_count": 54,
   "id": "d90c9a65-e6db-4f5d-80cd-e68fb7e46829",
   "metadata": {
    "execution": {
     "iopub.execute_input": "2025-07-30T20:26:13.905795Z",
     "iopub.status.busy": "2025-07-30T20:26:13.905165Z",
     "iopub.status.idle": "2025-07-30T20:26:13.910488Z",
     "shell.execute_reply": "2025-07-30T20:26:13.909568Z"
    },
    "papermill": {
     "duration": 0.030696,
     "end_time": "2025-07-30T20:26:13.912076",
     "exception": false,
     "start_time": "2025-07-30T20:26:13.881380",
     "status": "completed"
    },
    "tags": []
   },
   "outputs": [],
   "source": [
    "y_true = y_true.squeeze()"
   ]
  },
  {
   "cell_type": "code",
   "execution_count": 55,
   "id": "3a58a54a-1e68-46b9-927a-df01f18aebc8",
   "metadata": {
    "execution": {
     "iopub.execute_input": "2025-07-30T20:26:13.960396Z",
     "iopub.status.busy": "2025-07-30T20:26:13.959703Z",
     "iopub.status.idle": "2025-07-30T20:26:14.833688Z",
     "shell.execute_reply": "2025-07-30T20:26:14.832819Z"
    },
    "papermill": {
     "duration": 0.899743,
     "end_time": "2025-07-30T20:26:14.835490",
     "exception": false,
     "start_time": "2025-07-30T20:26:13.935747",
     "status": "completed"
    },
    "tags": []
   },
   "outputs": [],
   "source": [
    "from fairness_multiverse.conformal import evaluate_sets\n",
    "\n",
    "# Evaluate coverage and average set size on test data\n",
    "metrics = evaluate_sets(pred_sets, y_true)"
   ]
  },
  {
   "cell_type": "markdown",
   "id": "2b569c12-9aaa-4c88-98c9-bbcd0cf3ebb8",
   "metadata": {
    "papermill": {
     "duration": 0.022355,
     "end_time": "2025-07-30T20:26:14.880661",
     "exception": false,
     "start_time": "2025-07-30T20:26:14.858306",
     "status": "completed"
    },
    "tags": []
   },
   "source": [
    "# CP Metrics"
   ]
  },
  {
   "cell_type": "code",
   "execution_count": 56,
   "id": "5ce0a5cb-201f-45a0-ade5-94c7f0bd6095",
   "metadata": {
    "execution": {
     "iopub.execute_input": "2025-07-30T20:26:14.927419Z",
     "iopub.status.busy": "2025-07-30T20:26:14.926784Z",
     "iopub.status.idle": "2025-07-30T20:26:14.933789Z",
     "shell.execute_reply": "2025-07-30T20:26:14.932944Z"
    },
    "papermill": {
     "duration": 0.032544,
     "end_time": "2025-07-30T20:26:14.935311",
     "exception": false,
     "start_time": "2025-07-30T20:26:14.902767",
     "status": "completed"
    },
    "tags": []
   },
   "outputs": [
    {
     "data": {
      "text/plain": [
       "{'coverage': 0.9089399175119831, 'avg_size': 1.1262958421580649}"
      ]
     },
     "execution_count": 56,
     "metadata": {},
     "output_type": "execute_result"
    }
   ],
   "source": [
    "metrics"
   ]
  },
  {
   "cell_type": "code",
   "execution_count": 57,
   "id": "9b9a838d-31c9-430b-ae14-12baee460d17",
   "metadata": {
    "execution": {
     "iopub.execute_input": "2025-07-30T20:26:14.985266Z",
     "iopub.status.busy": "2025-07-30T20:26:14.984629Z",
     "iopub.status.idle": "2025-07-30T20:26:14.991153Z",
     "shell.execute_reply": "2025-07-30T20:26:14.990107Z"
    },
    "papermill": {
     "duration": 0.034147,
     "end_time": "2025-07-30T20:26:14.992990",
     "exception": false,
     "start_time": "2025-07-30T20:26:14.958843",
     "status": "completed"
    },
    "tags": []
   },
   "outputs": [],
   "source": [
    "example_universe = universe.copy()\n",
    "universe_training_year = example_universe.get(\"training_year\")\n",
    "universe_training_size = example_universe.get(\"training_size\")\n",
    "universe_scale = example_universe.get(\"scale\")\n",
    "universe_model = example_universe.get(\"model\")\n",
    "universe_exclude_features = example_universe.get(\"exclude_features\")\n",
    "universe_exclude_subgroups = example_universe.get(\"exclude_subgroups\")"
   ]
  },
  {
   "cell_type": "code",
   "execution_count": 58,
   "id": "f4b6a8ac-9dc0-4245-8a91-5b3b5999c4f9",
   "metadata": {
    "execution": {
     "iopub.execute_input": "2025-07-30T20:26:15.041527Z",
     "iopub.status.busy": "2025-07-30T20:26:15.040892Z",
     "iopub.status.idle": "2025-07-30T20:26:15.047577Z",
     "shell.execute_reply": "2025-07-30T20:26:15.046559Z"
    },
    "papermill": {
     "duration": 0.032018,
     "end_time": "2025-07-30T20:26:15.049192",
     "exception": false,
     "start_time": "2025-07-30T20:26:15.017174",
     "status": "completed"
    },
    "tags": []
   },
   "outputs": [],
   "source": [
    "cp_metrics_dict = {\n",
    "    \"universe_id\": [universe_id],\n",
    "    \"universe_training_year\": [universe_training_year],\n",
    "    \"universe_training_size\": [universe_training_size],\n",
    "    \"universe_scale\": [universe_scale],\n",
    "    \"universe_model\": [universe_model],\n",
    "    \"universe_exclude_features\": [universe_exclude_features],\n",
    "    \"universe_exclude_subgroups\": [universe_exclude_subgroups],\n",
    "    \"q_hat\": [q_hat],\n",
    "    \"coverage\": [metrics[\"coverage\"]],\n",
    "    \"avg_size\": [metrics[\"avg_size\"]],\n",
    "}"
   ]
  },
  {
   "cell_type": "code",
   "execution_count": 59,
   "id": "908acbb1-0371-4915-85ca-3fa520d2efe2",
   "metadata": {
    "execution": {
     "iopub.execute_input": "2025-07-30T20:26:15.098923Z",
     "iopub.status.busy": "2025-07-30T20:26:15.098271Z",
     "iopub.status.idle": "2025-07-30T20:26:15.106252Z",
     "shell.execute_reply": "2025-07-30T20:26:15.105339Z"
    },
    "papermill": {
     "duration": 0.034692,
     "end_time": "2025-07-30T20:26:15.107834",
     "exception": false,
     "start_time": "2025-07-30T20:26:15.073142",
     "status": "completed"
    },
    "tags": []
   },
   "outputs": [
    {
     "data": {
      "text/plain": [
       "{'universe_id': ['f2bf6d42573d251e1f47e0ec14636fab'],\n",
       " 'universe_training_year': ['2010_14'],\n",
       " 'universe_training_size': ['25k'],\n",
       " 'universe_scale': ['scale'],\n",
       " 'universe_model': ['logreg'],\n",
       " 'universe_exclude_features': ['age'],\n",
       " 'universe_exclude_subgroups': ['drop-non-german'],\n",
       " 'q_hat': [0.6675342616361196],\n",
       " 'coverage': [0.9089399175119831],\n",
       " 'avg_size': [1.1262958421580649]}"
      ]
     },
     "execution_count": 59,
     "metadata": {},
     "output_type": "execute_result"
    }
   ],
   "source": [
    "cp_metrics_dict"
   ]
  },
  {
   "cell_type": "code",
   "execution_count": 60,
   "id": "33007efc-14e9-4ec6-97ac-56a455c82265",
   "metadata": {
    "execution": {
     "iopub.execute_input": "2025-07-30T20:26:15.157083Z",
     "iopub.status.busy": "2025-07-30T20:26:15.156410Z",
     "iopub.status.idle": "2025-07-30T20:26:15.163631Z",
     "shell.execute_reply": "2025-07-30T20:26:15.162790Z"
    },
    "papermill": {
     "duration": 0.033091,
     "end_time": "2025-07-30T20:26:15.165245",
     "exception": false,
     "start_time": "2025-07-30T20:26:15.132154",
     "status": "completed"
    },
    "tags": []
   },
   "outputs": [],
   "source": [
    "cp_metrics_df = pd.DataFrame(cp_metrics_dict)"
   ]
  },
  {
   "cell_type": "code",
   "execution_count": 61,
   "id": "db12611b-57b2-4910-b9d0-355adfd6e7bf",
   "metadata": {
    "execution": {
     "iopub.execute_input": "2025-07-30T20:26:15.214199Z",
     "iopub.status.busy": "2025-07-30T20:26:15.213571Z",
     "iopub.status.idle": "2025-07-30T20:26:15.231572Z",
     "shell.execute_reply": "2025-07-30T20:26:15.230455Z"
    },
    "papermill": {
     "duration": 0.043675,
     "end_time": "2025-07-30T20:26:15.233084",
     "exception": false,
     "start_time": "2025-07-30T20:26:15.189409",
     "status": "completed"
    },
    "tags": []
   },
   "outputs": [
    {
     "data": {
      "text/html": [
       "<div>\n",
       "<style scoped>\n",
       "    .dataframe tbody tr th:only-of-type {\n",
       "        vertical-align: middle;\n",
       "    }\n",
       "\n",
       "    .dataframe tbody tr th {\n",
       "        vertical-align: top;\n",
       "    }\n",
       "\n",
       "    .dataframe thead th {\n",
       "        text-align: right;\n",
       "    }\n",
       "</style>\n",
       "<table border=\"1\" class=\"dataframe\">\n",
       "  <thead>\n",
       "    <tr style=\"text-align: right;\">\n",
       "      <th></th>\n",
       "      <th>universe_id</th>\n",
       "      <th>universe_training_year</th>\n",
       "      <th>universe_training_size</th>\n",
       "      <th>universe_scale</th>\n",
       "      <th>universe_model</th>\n",
       "      <th>universe_exclude_features</th>\n",
       "      <th>universe_exclude_subgroups</th>\n",
       "      <th>q_hat</th>\n",
       "      <th>coverage</th>\n",
       "      <th>avg_size</th>\n",
       "    </tr>\n",
       "  </thead>\n",
       "  <tbody>\n",
       "    <tr>\n",
       "      <th>0</th>\n",
       "      <td>f2bf6d42573d251e1f47e0ec14636fab</td>\n",
       "      <td>2010_14</td>\n",
       "      <td>25k</td>\n",
       "      <td>scale</td>\n",
       "      <td>logreg</td>\n",
       "      <td>age</td>\n",
       "      <td>drop-non-german</td>\n",
       "      <td>0.667534</td>\n",
       "      <td>0.90894</td>\n",
       "      <td>1.126296</td>\n",
       "    </tr>\n",
       "  </tbody>\n",
       "</table>\n",
       "</div>"
      ],
      "text/plain": [
       "                        universe_id universe_training_year  \\\n",
       "0  f2bf6d42573d251e1f47e0ec14636fab                2010_14   \n",
       "\n",
       "  universe_training_size universe_scale universe_model  \\\n",
       "0                    25k          scale         logreg   \n",
       "\n",
       "  universe_exclude_features universe_exclude_subgroups     q_hat  coverage  \\\n",
       "0                       age            drop-non-german  0.667534   0.90894   \n",
       "\n",
       "   avg_size  \n",
       "0  1.126296  "
      ]
     },
     "execution_count": 61,
     "metadata": {},
     "output_type": "execute_result"
    }
   ],
   "source": [
    "cp_metrics_df"
   ]
  },
  {
   "cell_type": "code",
   "execution_count": 62,
   "id": "b7fbde55-a0a1-47e4-9af6-fe4a17fa8c61",
   "metadata": {
    "execution": {
     "iopub.execute_input": "2025-07-30T20:26:15.282520Z",
     "iopub.status.busy": "2025-07-30T20:26:15.281580Z",
     "iopub.status.idle": "2025-07-30T20:26:15.286797Z",
     "shell.execute_reply": "2025-07-30T20:26:15.285843Z"
    },
    "papermill": {
     "duration": 0.031249,
     "end_time": "2025-07-30T20:26:15.288372",
     "exception": false,
     "start_time": "2025-07-30T20:26:15.257123",
     "status": "completed"
    },
    "tags": []
   },
   "outputs": [],
   "source": [
    "# Conditional Coverage & looking at subgroups"
   ]
  },
  {
   "cell_type": "code",
   "execution_count": 63,
   "id": "027ae886-68dd-4141-96c7-805a5450e1ef",
   "metadata": {
    "execution": {
     "iopub.execute_input": "2025-07-30T20:26:15.337898Z",
     "iopub.status.busy": "2025-07-30T20:26:15.337262Z",
     "iopub.status.idle": "2025-07-30T20:26:15.586723Z",
     "shell.execute_reply": "2025-07-30T20:26:15.585866Z"
    },
    "papermill": {
     "duration": 0.275945,
     "end_time": "2025-07-30T20:26:15.588734",
     "exception": false,
     "start_time": "2025-07-30T20:26:15.312789",
     "status": "completed"
    },
    "tags": []
   },
   "outputs": [],
   "source": [
    "from fairness_multiverse.conformal import build_cp_groups\n",
    "\n",
    "cp_groups_df = build_cp_groups(pred_sets, y_true, X_test.index, org_test)\n",
    "#needs universe_id and setting"
   ]
  },
  {
   "cell_type": "code",
   "execution_count": 64,
   "id": "01d5802c-663a-4d1f-9d69-e036faaffbf7",
   "metadata": {
    "execution": {
     "iopub.execute_input": "2025-07-30T20:26:15.638125Z",
     "iopub.status.busy": "2025-07-30T20:26:15.637467Z",
     "iopub.status.idle": "2025-07-30T20:26:15.643169Z",
     "shell.execute_reply": "2025-07-30T20:26:15.642309Z"
    },
    "papermill": {
     "duration": 0.031855,
     "end_time": "2025-07-30T20:26:15.644814",
     "exception": false,
     "start_time": "2025-07-30T20:26:15.612959",
     "status": "completed"
    },
    "tags": []
   },
   "outputs": [],
   "source": [
    "#delete\n",
    "#cp_groups_df"
   ]
  },
  {
   "cell_type": "code",
   "execution_count": 65,
   "id": "fa424af1-d1eb-443d-b717-2d279ada8408",
   "metadata": {
    "execution": {
     "iopub.execute_input": "2025-07-30T20:26:15.695406Z",
     "iopub.status.busy": "2025-07-30T20:26:15.694757Z",
     "iopub.status.idle": "2025-07-30T20:26:15.699877Z",
     "shell.execute_reply": "2025-07-30T20:26:15.698999Z"
    },
    "papermill": {
     "duration": 0.032047,
     "end_time": "2025-07-30T20:26:15.701602",
     "exception": false,
     "start_time": "2025-07-30T20:26:15.669555",
     "status": "completed"
    },
    "tags": []
   },
   "outputs": [],
   "source": [
    "#delete\n",
    "#percentage = (cp_groups_df['nongerman_female'] == 1).mean() * 100\n",
    "#print(percentage)\n"
   ]
  },
  {
   "cell_type": "code",
   "execution_count": 66,
   "id": "6cbdab96-b2b2-45af-ad54-d0516db2e28d",
   "metadata": {
    "execution": {
     "iopub.execute_input": "2025-07-30T20:26:15.750968Z",
     "iopub.status.busy": "2025-07-30T20:26:15.750338Z",
     "iopub.status.idle": "2025-07-30T20:26:17.357896Z",
     "shell.execute_reply": "2025-07-30T20:26:17.356964Z"
    },
    "papermill": {
     "duration": 1.63371,
     "end_time": "2025-07-30T20:26:17.359739",
     "exception": false,
     "start_time": "2025-07-30T20:26:15.726029",
     "status": "completed"
    },
    "tags": []
   },
   "outputs": [],
   "source": [
    "# Define covered = 1 if true_label is in the predicted set\n",
    "cp_groups_df['covered'] = cp_groups_df.apply(\n",
    "    lambda r: int(r['true_label'] in r['pred_set']),\n",
    "    axis=1\n",
    ")"
   ]
  },
  {
   "cell_type": "code",
   "execution_count": 67,
   "id": "338ff529-1a6b-4b87-a931-8e4788d52aad",
   "metadata": {
    "execution": {
     "iopub.execute_input": "2025-07-30T20:26:17.410092Z",
     "iopub.status.busy": "2025-07-30T20:26:17.409456Z",
     "iopub.status.idle": "2025-07-30T20:26:17.414115Z",
     "shell.execute_reply": "2025-07-30T20:26:17.413297Z"
    },
    "papermill": {
     "duration": 0.031149,
     "end_time": "2025-07-30T20:26:17.415890",
     "exception": false,
     "start_time": "2025-07-30T20:26:17.384741",
     "status": "completed"
    },
    "tags": []
   },
   "outputs": [],
   "source": [
    "#cp_groups_df"
   ]
  },
  {
   "cell_type": "code",
   "execution_count": 68,
   "id": "90032e27-66df-4540-9169-4e89cfbaa758",
   "metadata": {
    "execution": {
     "iopub.execute_input": "2025-07-30T20:26:17.468362Z",
     "iopub.status.busy": "2025-07-30T20:26:17.467446Z",
     "iopub.status.idle": "2025-07-30T20:26:17.478982Z",
     "shell.execute_reply": "2025-07-30T20:26:17.478063Z"
    },
    "papermill": {
     "duration": 0.039226,
     "end_time": "2025-07-30T20:26:17.480755",
     "exception": false,
     "start_time": "2025-07-30T20:26:17.441529",
     "status": "completed"
    },
    "tags": []
   },
   "outputs": [],
   "source": [
    "subgroups = ['frau1','nongerman','nongerman_male','nongerman_female']\n",
    "\n",
    "# Conditional coverage for subgroup==1\n",
    "cond_coverage = {\n",
    "    g: cp_groups_df.loc[cp_groups_df[g]==1, 'covered'].mean()\n",
    "    for g in subgroups\n",
    "}"
   ]
  },
  {
   "cell_type": "code",
   "execution_count": 69,
   "id": "1e348fb1-b9c3-45bc-ba23-f016827a7e0d",
   "metadata": {
    "execution": {
     "iopub.execute_input": "2025-07-30T20:26:17.535080Z",
     "iopub.status.busy": "2025-07-30T20:26:17.534618Z",
     "iopub.status.idle": "2025-07-30T20:26:17.541516Z",
     "shell.execute_reply": "2025-07-30T20:26:17.540532Z"
    },
    "papermill": {
     "duration": 0.034378,
     "end_time": "2025-07-30T20:26:17.543194",
     "exception": false,
     "start_time": "2025-07-30T20:26:17.508816",
     "status": "completed"
    },
    "tags": []
   },
   "outputs": [
    {
     "data": {
      "text/plain": [
       "{'frau1': 0.9066720582288719,\n",
       " 'nongerman': 0.9050693313871891,\n",
       " 'nongerman_male': 0.9229037197153922,\n",
       " 'nongerman_female': 0.875558867362146}"
      ]
     },
     "execution_count": 69,
     "metadata": {},
     "output_type": "execute_result"
    }
   ],
   "source": [
    "cond_coverage"
   ]
  },
  {
   "cell_type": "code",
   "execution_count": 70,
   "id": "f5093324-c3dd-4d63-bc4c-8d945e5c8bbb",
   "metadata": {
    "execution": {
     "iopub.execute_input": "2025-07-30T20:26:17.594783Z",
     "iopub.status.busy": "2025-07-30T20:26:17.594301Z",
     "iopub.status.idle": "2025-07-30T20:26:17.601285Z",
     "shell.execute_reply": "2025-07-30T20:26:17.600325Z"
    },
    "papermill": {
     "duration": 0.033666,
     "end_time": "2025-07-30T20:26:17.602749",
     "exception": false,
     "start_time": "2025-07-30T20:26:17.569083",
     "status": "completed"
    },
    "tags": []
   },
   "outputs": [],
   "source": [
    "for subgroup, cov in cond_coverage.items():\n",
    "    cp_metrics_df[f\"cov_{subgroup}\"] = cov"
   ]
  },
  {
   "cell_type": "code",
   "execution_count": 71,
   "id": "6e872e10-dbe5-49e8-b554-5030c98ff75d",
   "metadata": {
    "execution": {
     "iopub.execute_input": "2025-07-30T20:26:17.653433Z",
     "iopub.status.busy": "2025-07-30T20:26:17.652992Z",
     "iopub.status.idle": "2025-07-30T20:26:17.670358Z",
     "shell.execute_reply": "2025-07-30T20:26:17.669432Z"
    },
    "papermill": {
     "duration": 0.044087,
     "end_time": "2025-07-30T20:26:17.671957",
     "exception": false,
     "start_time": "2025-07-30T20:26:17.627870",
     "status": "completed"
    },
    "tags": []
   },
   "outputs": [
    {
     "data": {
      "text/html": [
       "<div>\n",
       "<style scoped>\n",
       "    .dataframe tbody tr th:only-of-type {\n",
       "        vertical-align: middle;\n",
       "    }\n",
       "\n",
       "    .dataframe tbody tr th {\n",
       "        vertical-align: top;\n",
       "    }\n",
       "\n",
       "    .dataframe thead th {\n",
       "        text-align: right;\n",
       "    }\n",
       "</style>\n",
       "<table border=\"1\" class=\"dataframe\">\n",
       "  <thead>\n",
       "    <tr style=\"text-align: right;\">\n",
       "      <th></th>\n",
       "      <th>universe_id</th>\n",
       "      <th>universe_training_year</th>\n",
       "      <th>universe_training_size</th>\n",
       "      <th>universe_scale</th>\n",
       "      <th>universe_model</th>\n",
       "      <th>universe_exclude_features</th>\n",
       "      <th>universe_exclude_subgroups</th>\n",
       "      <th>q_hat</th>\n",
       "      <th>coverage</th>\n",
       "      <th>avg_size</th>\n",
       "      <th>cov_frau1</th>\n",
       "      <th>cov_nongerman</th>\n",
       "      <th>cov_nongerman_male</th>\n",
       "      <th>cov_nongerman_female</th>\n",
       "    </tr>\n",
       "  </thead>\n",
       "  <tbody>\n",
       "    <tr>\n",
       "      <th>0</th>\n",
       "      <td>f2bf6d42573d251e1f47e0ec14636fab</td>\n",
       "      <td>2010_14</td>\n",
       "      <td>25k</td>\n",
       "      <td>scale</td>\n",
       "      <td>logreg</td>\n",
       "      <td>age</td>\n",
       "      <td>drop-non-german</td>\n",
       "      <td>0.667534</td>\n",
       "      <td>0.90894</td>\n",
       "      <td>1.126296</td>\n",
       "      <td>0.906672</td>\n",
       "      <td>0.905069</td>\n",
       "      <td>0.922904</td>\n",
       "      <td>0.875559</td>\n",
       "    </tr>\n",
       "  </tbody>\n",
       "</table>\n",
       "</div>"
      ],
      "text/plain": [
       "                        universe_id universe_training_year  \\\n",
       "0  f2bf6d42573d251e1f47e0ec14636fab                2010_14   \n",
       "\n",
       "  universe_training_size universe_scale universe_model  \\\n",
       "0                    25k          scale         logreg   \n",
       "\n",
       "  universe_exclude_features universe_exclude_subgroups     q_hat  coverage  \\\n",
       "0                       age            drop-non-german  0.667534   0.90894   \n",
       "\n",
       "   avg_size  cov_frau1  cov_nongerman  cov_nongerman_male  \\\n",
       "0  1.126296   0.906672       0.905069            0.922904   \n",
       "\n",
       "   cov_nongerman_female  \n",
       "0              0.875559  "
      ]
     },
     "execution_count": 71,
     "metadata": {},
     "output_type": "execute_result"
    }
   ],
   "source": [
    "cp_metrics_df"
   ]
  },
  {
   "cell_type": "markdown",
   "id": "33774451",
   "metadata": {
    "papermill": {
     "duration": 0.024596,
     "end_time": "2025-07-30T20:26:17.722238",
     "exception": false,
     "start_time": "2025-07-30T20:26:17.697642",
     "status": "completed"
    },
    "tags": []
   },
   "source": [
    "# (Fairness) Metrics"
   ]
  },
  {
   "cell_type": "code",
   "execution_count": 72,
   "id": "debc5d62",
   "metadata": {
    "execution": {
     "iopub.execute_input": "2025-07-30T20:26:17.774452Z",
     "iopub.status.busy": "2025-07-30T20:26:17.774004Z",
     "iopub.status.idle": "2025-07-30T20:26:17.794959Z",
     "shell.execute_reply": "2025-07-30T20:26:17.794081Z"
    },
    "papermill": {
     "duration": 0.04869,
     "end_time": "2025-07-30T20:26:17.797269",
     "exception": false,
     "start_time": "2025-07-30T20:26:17.748579",
     "status": "completed"
    },
    "tags": []
   },
   "outputs": [],
   "source": [
    "# do I need to include maxdeutsch1.missing?\n",
    "\n",
    "import numpy as np\n",
    "\n",
    "colname_to_bin = \"maxdeutsch1\"\n",
    "majority_value = org_train[colname_to_bin].mode()[0]\n",
    "\n",
    "org_test[\"majmin\"] = np.where(org_test[colname_to_bin] == majority_value, \"majority\", \"minority\")"
   ]
  },
  {
   "cell_type": "code",
   "execution_count": 73,
   "id": "06a50de5",
   "metadata": {
    "execution": {
     "iopub.execute_input": "2025-07-30T20:26:17.857051Z",
     "iopub.status.busy": "2025-07-30T20:26:17.856597Z",
     "iopub.status.idle": "2025-07-30T20:26:20.780269Z",
     "shell.execute_reply": "2025-07-30T20:26:20.779293Z"
    },
    "papermill": {
     "duration": 2.954597,
     "end_time": "2025-07-30T20:26:20.782497",
     "exception": false,
     "start_time": "2025-07-30T20:26:17.827900",
     "status": "completed"
    },
    "tags": []
   },
   "outputs": [],
   "source": [
    "example_universe = universe.copy()\n",
    "example_universe[\"cutoff\"] = example_universe[\"cutoff\"][0]\n",
    "example_universe[\"eval_fairness_grouping\"] = example_universe[\"eval_fairness_grouping\"][0]\n",
    "fairness_dict, metric_frame = universe_analysis.compute_metrics(\n",
    "    example_universe,\n",
    "    y_pred_prob=probs_test,\n",
    "    y_test=y_true,\n",
    "    org_test=org_test,\n",
    ")"
   ]
  },
  {
   "cell_type": "markdown",
   "id": "f95d4e02",
   "metadata": {
    "papermill": {
     "duration": 0.024458,
     "end_time": "2025-07-30T20:26:20.834421",
     "exception": false,
     "start_time": "2025-07-30T20:26:20.809963",
     "status": "completed"
    },
    "tags": []
   },
   "source": [
    "# Overall"
   ]
  },
  {
   "cell_type": "markdown",
   "id": "bdee4871",
   "metadata": {
    "papermill": {
     "duration": 0.024394,
     "end_time": "2025-07-30T20:26:20.883693",
     "exception": false,
     "start_time": "2025-07-30T20:26:20.859299",
     "status": "completed"
    },
    "tags": []
   },
   "source": [
    "Fairness\n",
    "Main fairness target: Equalized Odds. Seems to be a better fit than equal opportunity, since we're not only interested in Y = 1. Seems to be a better fit than demographic parity, since we also care about accuracy, not just equal distribution of preds.\n",
    "\n",
    "Pick column for computation of fairness metrics\n",
    "\n",
    "Performance\n",
    "Overall performance measures, most interesting in relation to the measures split by group below"
   ]
  },
  {
   "cell_type": "code",
   "execution_count": 74,
   "id": "c4e067c6",
   "metadata": {
    "execution": {
     "iopub.execute_input": "2025-07-30T20:26:20.935593Z",
     "iopub.status.busy": "2025-07-30T20:26:20.935097Z",
     "iopub.status.idle": "2025-07-30T20:26:20.943830Z",
     "shell.execute_reply": "2025-07-30T20:26:20.942919Z"
    },
    "papermill": {
     "duration": 0.036553,
     "end_time": "2025-07-30T20:26:20.945342",
     "exception": false,
     "start_time": "2025-07-30T20:26:20.908789",
     "status": "completed"
    },
    "tags": []
   },
   "outputs": [
    {
     "data": {
      "text/plain": [
       "accuracy                   0.225092\n",
       "balanced accuracy          0.550231\n",
       "f1                         0.246404\n",
       "precision                  0.140762\n",
       "false positive rate        0.887113\n",
       "false negative rate        0.012426\n",
       "selection rate             0.900000\n",
       "count                  89710.000000\n",
       "dtype: float64"
      ]
     },
     "execution_count": 74,
     "metadata": {},
     "output_type": "execute_result"
    }
   ],
   "source": [
    "metric_frame.overall"
   ]
  },
  {
   "cell_type": "markdown",
   "id": "e968fe9d",
   "metadata": {
    "papermill": {
     "duration": 0.025626,
     "end_time": "2025-07-30T20:26:20.997895",
     "exception": false,
     "start_time": "2025-07-30T20:26:20.972269",
     "status": "completed"
    },
    "tags": []
   },
   "source": [
    "By Group"
   ]
  },
  {
   "cell_type": "code",
   "execution_count": 75,
   "id": "ec325bce",
   "metadata": {
    "execution": {
     "iopub.execute_input": "2025-07-30T20:26:21.051449Z",
     "iopub.status.busy": "2025-07-30T20:26:21.050611Z",
     "iopub.status.idle": "2025-07-30T20:26:21.066809Z",
     "shell.execute_reply": "2025-07-30T20:26:21.065832Z"
    },
    "papermill": {
     "duration": 0.045461,
     "end_time": "2025-07-30T20:26:21.068578",
     "exception": false,
     "start_time": "2025-07-30T20:26:21.023117",
     "status": "completed"
    },
    "tags": []
   },
   "outputs": [
    {
     "data": {
      "text/html": [
       "<div>\n",
       "<style scoped>\n",
       "    .dataframe tbody tr th:only-of-type {\n",
       "        vertical-align: middle;\n",
       "    }\n",
       "\n",
       "    .dataframe tbody tr th {\n",
       "        vertical-align: top;\n",
       "    }\n",
       "\n",
       "    .dataframe thead th {\n",
       "        text-align: right;\n",
       "    }\n",
       "</style>\n",
       "<table border=\"1\" class=\"dataframe\">\n",
       "  <thead>\n",
       "    <tr style=\"text-align: right;\">\n",
       "      <th></th>\n",
       "      <th>accuracy</th>\n",
       "      <th>balanced accuracy</th>\n",
       "      <th>f1</th>\n",
       "      <th>precision</th>\n",
       "      <th>false positive rate</th>\n",
       "      <th>false negative rate</th>\n",
       "      <th>selection rate</th>\n",
       "      <th>count</th>\n",
       "    </tr>\n",
       "    <tr>\n",
       "      <th>majmin</th>\n",
       "      <th></th>\n",
       "      <th></th>\n",
       "      <th></th>\n",
       "      <th></th>\n",
       "      <th></th>\n",
       "      <th></th>\n",
       "      <th></th>\n",
       "      <th></th>\n",
       "    </tr>\n",
       "  </thead>\n",
       "  <tbody>\n",
       "    <tr>\n",
       "      <th>majority</th>\n",
       "      <td>0.244499</td>\n",
       "      <td>0.559308</td>\n",
       "      <td>0.256685</td>\n",
       "      <td>0.147521</td>\n",
       "      <td>0.868582</td>\n",
       "      <td>0.012801</td>\n",
       "      <td>0.884256</td>\n",
       "      <td>69170.0</td>\n",
       "    </tr>\n",
       "    <tr>\n",
       "      <th>minority</th>\n",
       "      <td>0.159737</td>\n",
       "      <td>0.520347</td>\n",
       "      <td>0.213462</td>\n",
       "      <td>0.119642</td>\n",
       "      <td>0.948327</td>\n",
       "      <td>0.010980</td>\n",
       "      <td>0.953019</td>\n",
       "      <td>20540.0</td>\n",
       "    </tr>\n",
       "  </tbody>\n",
       "</table>\n",
       "</div>"
      ],
      "text/plain": [
       "          accuracy  balanced accuracy        f1  precision  \\\n",
       "majmin                                                       \n",
       "majority  0.244499           0.559308  0.256685   0.147521   \n",
       "minority  0.159737           0.520347  0.213462   0.119642   \n",
       "\n",
       "          false positive rate  false negative rate  selection rate    count  \n",
       "majmin                                                                       \n",
       "majority             0.868582             0.012801        0.884256  69170.0  \n",
       "minority             0.948327             0.010980        0.953019  20540.0  "
      ]
     },
     "execution_count": 75,
     "metadata": {},
     "output_type": "execute_result"
    }
   ],
   "source": [
    "metric_frame.by_group"
   ]
  },
  {
   "cell_type": "code",
   "execution_count": 76,
   "id": "a9ddbe63",
   "metadata": {
    "execution": {
     "iopub.execute_input": "2025-07-30T20:26:21.123605Z",
     "iopub.status.busy": "2025-07-30T20:26:21.122890Z",
     "iopub.status.idle": "2025-07-30T20:26:23.267438Z",
     "shell.execute_reply": "2025-07-30T20:26:23.266719Z"
    },
    "papermill": {
     "duration": 2.173672,
     "end_time": "2025-07-30T20:26:23.268914",
     "exception": false,
     "start_time": "2025-07-30T20:26:21.095242",
     "status": "completed"
    },
    "tags": []
   },
   "outputs": [
    {
     "data": {
      "text/plain": [
       "array([[<Axes: title={'center': 'accuracy'}, xlabel='majmin'>,\n",
       "        <Axes: title={'center': 'balanced accuracy'}, xlabel='majmin'>,\n",
       "        <Axes: title={'center': 'f1'}, xlabel='majmin'>],\n",
       "       [<Axes: title={'center': 'precision'}, xlabel='majmin'>,\n",
       "        <Axes: title={'center': 'false positive rate'}, xlabel='majmin'>,\n",
       "        <Axes: title={'center': 'false negative rate'}, xlabel='majmin'>],\n",
       "       [<Axes: title={'center': 'selection rate'}, xlabel='majmin'>,\n",
       "        <Axes: title={'center': 'count'}, xlabel='majmin'>,\n",
       "        <Axes: xlabel='majmin'>]], dtype=object)"
      ]
     },
     "execution_count": 76,
     "metadata": {},
     "output_type": "execute_result"
    },
    {
     "data": {
      "image/png": "[encoded data removed]",
      "text/plain": [
       "<Figure size 1200x800 with 9 Axes>"
      ]
     },
     "metadata": {},
     "output_type": "display_data"
    }
   ],
   "source": [
    "# In a graphic\n",
    "metric_frame.by_group.plot.bar(\n",
    "    subplots=True,\n",
    "    layout=[3, 3],\n",
    "    legend=False,\n",
    "    figsize=[12, 8],\n",
    "    title=\"Show all metrics\",\n",
    ")"
   ]
  },
  {
   "cell_type": "markdown",
   "id": "f57a0bac",
   "metadata": {
    "papermill": {
     "duration": 0.030043,
     "end_time": "2025-07-30T20:26:23.330805",
     "exception": false,
     "start_time": "2025-07-30T20:26:23.300762",
     "status": "completed"
    },
    "tags": []
   },
   "source": [
    "# Final Output"
   ]
  },
  {
   "cell_type": "code",
   "execution_count": 77,
   "id": "96d280a3",
   "metadata": {
    "execution": {
     "iopub.execute_input": "2025-07-30T20:26:23.391468Z",
     "iopub.status.busy": "2025-07-30T20:26:23.390818Z",
     "iopub.status.idle": "2025-07-30T20:26:23.399852Z",
     "shell.execute_reply": "2025-07-30T20:26:23.398832Z"
    },
    "papermill": {
     "duration": 0.04132,
     "end_time": "2025-07-30T20:26:23.401491",
     "exception": false,
     "start_time": "2025-07-30T20:26:23.360171",
     "status": "completed"
    },
    "tags": []
   },
   "outputs": [
    {
     "data": {
      "text/plain": [
       "4"
      ]
     },
     "execution_count": 77,
     "metadata": {},
     "output_type": "execute_result"
    }
   ],
   "source": [
    "sub_universes = universe_analysis.generate_sub_universes()\n",
    "len(sub_universes)"
   ]
  },
  {
   "cell_type": "code",
   "execution_count": 78,
   "id": "92adf7ba",
   "metadata": {
    "execution": {
     "iopub.execute_input": "2025-07-30T20:26:23.460961Z",
     "iopub.status.busy": "2025-07-30T20:26:23.460203Z",
     "iopub.status.idle": "2025-07-30T20:26:23.467248Z",
     "shell.execute_reply": "2025-07-30T20:26:23.466164Z"
    },
    "papermill": {
     "duration": 0.03853,
     "end_time": "2025-07-30T20:26:23.469280",
     "exception": false,
     "start_time": "2025-07-30T20:26:23.430750",
     "status": "completed"
    },
    "tags": []
   },
   "outputs": [],
   "source": [
    "def filter_sub_universe_data(sub_universe, org_test):\n",
    "    # Keep all rows — no filtering\n",
    "    keep_rows_mask = np.ones(org_test.shape[0], dtype=bool)\n",
    "\n",
    "    print(f\"[INFO] Keeping all rows: {keep_rows_mask.sum()} rows retained.\")\n",
    "    return keep_rows_mask"
   ]
  },
  {
   "cell_type": "code",
   "execution_count": 79,
   "id": "4a759155",
   "metadata": {
    "execution": {
     "iopub.execute_input": "2025-07-30T20:26:23.541493Z",
     "iopub.status.busy": "2025-07-30T20:26:23.541032Z",
     "iopub.status.idle": "2025-07-30T20:26:34.607683Z",
     "shell.execute_reply": "2025-07-30T20:26:34.606422Z"
    },
    "papermill": {
     "duration": 11.102653,
     "end_time": "2025-07-30T20:26:34.609849",
     "exception": false,
     "start_time": "2025-07-30T20:26:23.507196",
     "status": "completed"
    },
    "tags": []
   },
   "outputs": [
    {
     "name": "stdout",
     "output_type": "stream",
     "text": [
      "Stopping execution_time clock.\n",
      "[INFO] Keeping all rows: 89710 rows retained.\n"
     ]
    },
    {
     "name": "stdout",
     "output_type": "stream",
     "text": [
      "[INFO] Keeping all rows: 89710 rows retained.\n"
     ]
    },
    {
     "name": "stdout",
     "output_type": "stream",
     "text": [
      "[INFO] Keeping all rows: 89710 rows retained.\n"
     ]
    },
    {
     "name": "stdout",
     "output_type": "stream",
     "text": [
      "[INFO] Keeping all rows: 89710 rows retained.\n"
     ]
    },
    {
     "data": {
      "text/html": [
       "<div>\n",
       "<style scoped>\n",
       "    .dataframe tbody tr th:only-of-type {\n",
       "        vertical-align: middle;\n",
       "    }\n",
       "\n",
       "    .dataframe tbody tr th {\n",
       "        vertical-align: top;\n",
       "    }\n",
       "\n",
       "    .dataframe thead th {\n",
       "        text-align: right;\n",
       "    }\n",
       "</style>\n",
       "<table border=\"1\" class=\"dataframe\">\n",
       "  <thead>\n",
       "    <tr style=\"text-align: right;\">\n",
       "      <th></th>\n",
       "      <th>run_no</th>\n",
       "      <th>universe_id</th>\n",
       "      <th>universe_settings</th>\n",
       "      <th>execution_time</th>\n",
       "      <th>test_size_n</th>\n",
       "      <th>test_size_frac</th>\n",
       "      <th>fair_main_equalized_odds_difference</th>\n",
       "      <th>fair_main_equalized_odds_ratio</th>\n",
       "      <th>fair_main_demographic_parity_difference</th>\n",
       "      <th>fair_main_demographic_parity_ratio</th>\n",
       "      <th>...</th>\n",
       "      <th>perf_grp_precision_0</th>\n",
       "      <th>perf_grp_precision_1</th>\n",
       "      <th>perf_grp_false positive rate_0</th>\n",
       "      <th>perf_grp_false positive rate_1</th>\n",
       "      <th>perf_grp_false negative rate_0</th>\n",
       "      <th>perf_grp_false negative rate_1</th>\n",
       "      <th>perf_grp_selection rate_0</th>\n",
       "      <th>perf_grp_selection rate_1</th>\n",
       "      <th>perf_grp_count_0</th>\n",
       "      <th>perf_grp_count_1</th>\n",
       "    </tr>\n",
       "  </thead>\n",
       "  <tbody>\n",
       "    <tr>\n",
       "      <th>0</th>\n",
       "      <td>14</td>\n",
       "      <td>f2bf6d42573d251e1f47e0ec14636fab</td>\n",
       "      <td>{\"cutoff\": \"quantile_0.1\", \"eval_fairness_grou...</td>\n",
       "      <td>27.854473</td>\n",
       "      <td>89710</td>\n",
       "      <td>1.0</td>\n",
       "      <td>0.079745</td>\n",
       "      <td>0.915910</td>\n",
       "      <td>0.068762</td>\n",
       "      <td>0.927848</td>\n",
       "      <td>...</td>\n",
       "      <td>NaN</td>\n",
       "      <td>NaN</td>\n",
       "      <td>NaN</td>\n",
       "      <td>NaN</td>\n",
       "      <td>NaN</td>\n",
       "      <td>NaN</td>\n",
       "      <td>NaN</td>\n",
       "      <td>NaN</td>\n",
       "      <td>NaN</td>\n",
       "      <td>NaN</td>\n",
       "    </tr>\n",
       "    <tr>\n",
       "      <th>0</th>\n",
       "      <td>14</td>\n",
       "      <td>f2bf6d42573d251e1f47e0ec14636fab</td>\n",
       "      <td>{\"cutoff\": \"quantile_0.1\", \"eval_fairness_grou...</td>\n",
       "      <td>27.854473</td>\n",
       "      <td>89710</td>\n",
       "      <td>1.0</td>\n",
       "      <td>0.079745</td>\n",
       "      <td>0.915910</td>\n",
       "      <td>0.068762</td>\n",
       "      <td>0.927848</td>\n",
       "      <td>...</td>\n",
       "      <td>0.119642</td>\n",
       "      <td>0.147521</td>\n",
       "      <td>0.948327</td>\n",
       "      <td>0.868582</td>\n",
       "      <td>0.010980</td>\n",
       "      <td>0.012801</td>\n",
       "      <td>0.953019</td>\n",
       "      <td>0.884256</td>\n",
       "      <td>20540.0</td>\n",
       "      <td>69170.0</td>\n",
       "    </tr>\n",
       "    <tr>\n",
       "      <th>0</th>\n",
       "      <td>14</td>\n",
       "      <td>f2bf6d42573d251e1f47e0ec14636fab</td>\n",
       "      <td>{\"cutoff\": \"quantile_0.25\", \"eval_fairness_gro...</td>\n",
       "      <td>27.854473</td>\n",
       "      <td>89710</td>\n",
       "      <td>1.0</td>\n",
       "      <td>0.158325</td>\n",
       "      <td>0.812066</td>\n",
       "      <td>0.137279</td>\n",
       "      <td>0.839597</td>\n",
       "      <td>...</td>\n",
       "      <td>NaN</td>\n",
       "      <td>NaN</td>\n",
       "      <td>NaN</td>\n",
       "      <td>NaN</td>\n",
       "      <td>NaN</td>\n",
       "      <td>NaN</td>\n",
       "      <td>NaN</td>\n",
       "      <td>NaN</td>\n",
       "      <td>NaN</td>\n",
       "      <td>NaN</td>\n",
       "    </tr>\n",
       "    <tr>\n",
       "      <th>0</th>\n",
       "      <td>14</td>\n",
       "      <td>f2bf6d42573d251e1f47e0ec14636fab</td>\n",
       "      <td>{\"cutoff\": \"quantile_0.25\", \"eval_fairness_gro...</td>\n",
       "      <td>27.854473</td>\n",
       "      <td>89710</td>\n",
       "      <td>1.0</td>\n",
       "      <td>0.158325</td>\n",
       "      <td>0.812066</td>\n",
       "      <td>0.137279</td>\n",
       "      <td>0.839597</td>\n",
       "      <td>...</td>\n",
       "      <td>0.129131</td>\n",
       "      <td>0.173732</td>\n",
       "      <td>0.842450</td>\n",
       "      <td>0.684125</td>\n",
       "      <td>0.041385</td>\n",
       "      <td>0.055252</td>\n",
       "      <td>0.855842</td>\n",
       "      <td>0.718563</td>\n",
       "      <td>20540.0</td>\n",
       "      <td>69170.0</td>\n",
       "    </tr>\n",
       "  </tbody>\n",
       "</table>\n",
       "<p>4 rows × 50 columns</p>\n",
       "</div>"
      ],
      "text/plain": [
       "  run_no                       universe_id  \\\n",
       "0     14  f2bf6d42573d251e1f47e0ec14636fab   \n",
       "0     14  f2bf6d42573d251e1f47e0ec14636fab   \n",
       "0     14  f2bf6d42573d251e1f47e0ec14636fab   \n",
       "0     14  f2bf6d42573d251e1f47e0ec14636fab   \n",
       "\n",
       "                                   universe_settings  execution_time  \\\n",
       "0  {\"cutoff\": \"quantile_0.1\", \"eval_fairness_grou...       27.854473   \n",
       "0  {\"cutoff\": \"quantile_0.1\", \"eval_fairness_grou...       27.854473   \n",
       "0  {\"cutoff\": \"quantile_0.25\", \"eval_fairness_gro...       27.854473   \n",
       "0  {\"cutoff\": \"quantile_0.25\", \"eval_fairness_gro...       27.854473   \n",
       "\n",
       "   test_size_n  test_size_frac  fair_main_equalized_odds_difference  \\\n",
       "0        89710             1.0                             0.079745   \n",
       "0        89710             1.0                             0.079745   \n",
       "0        89710             1.0                             0.158325   \n",
       "0        89710             1.0                             0.158325   \n",
       "\n",
       "   fair_main_equalized_odds_ratio  fair_main_demographic_parity_difference  \\\n",
       "0                        0.915910                                 0.068762   \n",
       "0                        0.915910                                 0.068762   \n",
       "0                        0.812066                                 0.137279   \n",
       "0                        0.812066                                 0.137279   \n",
       "\n",
       "   fair_main_demographic_parity_ratio  ...  perf_grp_precision_0  \\\n",
       "0                            0.927848  ...                   NaN   \n",
       "0                            0.927848  ...              0.119642   \n",
       "0                            0.839597  ...                   NaN   \n",
       "0                            0.839597  ...              0.129131   \n",
       "\n",
       "   perf_grp_precision_1  perf_grp_false positive rate_0  \\\n",
       "0                   NaN                             NaN   \n",
       "0              0.147521                        0.948327   \n",
       "0                   NaN                             NaN   \n",
       "0              0.173732                        0.842450   \n",
       "\n",
       "   perf_grp_false positive rate_1  perf_grp_false negative rate_0  \\\n",
       "0                             NaN                             NaN   \n",
       "0                        0.868582                        0.010980   \n",
       "0                             NaN                             NaN   \n",
       "0                        0.684125                        0.041385   \n",
       "\n",
       "   perf_grp_false negative rate_1  perf_grp_selection rate_0  \\\n",
       "0                             NaN                        NaN   \n",
       "0                        0.012801                   0.953019   \n",
       "0                             NaN                        NaN   \n",
       "0                        0.055252                   0.855842   \n",
       "\n",
       "   perf_grp_selection rate_1  perf_grp_count_0  perf_grp_count_1  \n",
       "0                        NaN               NaN               NaN  \n",
       "0                   0.884256           20540.0           69170.0  \n",
       "0                        NaN               NaN               NaN  \n",
       "0                   0.718563           20540.0           69170.0  \n",
       "\n",
       "[4 rows x 50 columns]"
      ]
     },
     "execution_count": 79,
     "metadata": {},
     "output_type": "execute_result"
    }
   ],
   "source": [
    "final_output = universe_analysis.generate_final_output(\n",
    "    y_pred_prob=probs_test,\n",
    "    y_test=y_true,\n",
    "    org_test=org_test,\n",
    "    filter_data=filter_sub_universe_data,\n",
    "    cp_metrics_df=cp_metrics_df,\n",
    "    save=True,\n",
    ")\n",
    "final_output"
   ]
  },
  {
   "cell_type": "code",
   "execution_count": null,
   "id": "721ff514-cb11-46f8-b6fc-50392f74b5cb",
   "metadata": {
    "papermill": {
     "duration": 0.031229,
     "end_time": "2025-07-30T20:26:34.669263",
     "exception": false,
     "start_time": "2025-07-30T20:26:34.638034",
     "status": "completed"
    },
    "tags": []
   },
   "outputs": [],
   "source": []
  }
 ],
 "metadata": {
  "celltoolbar": "Tags",
  "kernelspec": {
   "display_name": "Python (CMA Fairness)",
   "language": "python",
   "name": "cma_fair_env"
  },
  "language_info": {
   "codemirror_mode": {
    "name": "ipython",
    "version": 3
   },
   "file_extension": ".py",
   "mimetype": "text/x-python",
   "name": "python",
   "nbconvert_exporter": "python",
   "pygments_lexer": "ipython3",
   "version": "3.10.12"
  },
  "papermill": {
   "default_parameters": {},
   "duration": 43.124917,
   "end_time": "2025-07-30T20:26:35.520838",
   "environment_variables": {},
   "exception": null,
   "input_path": "universe_analysis.ipynb",
   "output_path": "output/runs/14/notebooks/m_14-f2bf6d42573d251e1f47e0ec14636fab.ipynb",
   "parameters": {
    "output_dir": "output",
    "run_no": "14",
    "seed": "2023",
    "universe": "{\"cutoff\": [\"quantile_0.1\", \"quantile_0.25\"], \"eval_fairness_grouping\": [\"majority-minority\", \"nationality-all\"], \"exclude_features\": \"age\", \"exclude_subgroups\": \"drop-non-german\", \"model\": \"logreg\", \"scale\": \"scale\", \"training_size\": \"25k\", \"training_year\": \"2010_14\"}",
    "universe_id": "f2bf6d42573d251e1f47e0ec14636fab"
   },
   "start_time": "2025-07-30T20:25:52.395921",
   "version": "2.6.0"
  }
 },
 "nbformat": 4,
 "nbformat_minor": 5
}