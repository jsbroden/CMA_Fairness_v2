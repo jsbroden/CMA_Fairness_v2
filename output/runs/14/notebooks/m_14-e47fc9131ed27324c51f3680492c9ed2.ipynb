{
 "cells": [
  {
   "cell_type": "code",
   "execution_count": 1,
   "id": "f159f837-637b-42ba-96b5-ec9a68c44524",
   "metadata": {
    "execution": {
     "iopub.execute_input": "2025-07-30T20:56:56.397310Z",
     "iopub.status.busy": "2025-07-30T20:56:56.396873Z",
     "iopub.status.idle": "2025-07-30T20:56:56.409228Z",
     "shell.execute_reply": "2025-07-30T20:56:56.408371Z"
    },
    "papermill": {
     "duration": 0.038161,
     "end_time": "2025-07-30T20:56:56.411899",
     "exception": false,
     "start_time": "2025-07-30T20:56:56.373738",
     "status": "completed"
    },
    "tags": []
   },
   "outputs": [
    {
     "name": "stdout",
     "output_type": "stream",
     "text": [
      "/dss/dsshome1/0C/ra93lal2/cma/CMA_Fairness_v2\n"
     ]
    },
    {
     "name": "stderr",
     "output_type": "stream",
     "text": [
      "/dss/dsshome1/0C/ra93lal2/.local/share/virtualenvs/CMA_Fairness_v2-3j10GkSs/lib/python3.10/site-packages/IPython/core/magics/osm.py:393: UserWarning: This is now an optional IPython functionality, using bookmarks requires you to install the `pickleshare` library.\n",
      "  bkms = self.shell.db.get('bookmarks', {})\n",
      "/dss/dsshome1/0C/ra93lal2/.local/share/virtualenvs/CMA_Fairness_v2-3j10GkSs/lib/python3.10/site-packages/IPython/core/magics/osm.py:417: UserWarning: This is now an optional IPython functionality, setting dhist requires you to install the `pickleshare` library.\n",
      "  self.shell.db['dhist'] = compress_dhist(dhist)[-100:]\n"
     ]
    }
   ],
   "source": [
    "%cd ~/cma/CMA_Fairness_v2"
   ]
  },
  {
   "cell_type": "markdown",
   "id": "de2603b9",
   "metadata": {
    "papermill": {
     "duration": 0.027254,
     "end_time": "2025-07-30T20:56:56.459234",
     "exception": false,
     "start_time": "2025-07-30T20:56:56.431980",
     "status": "completed"
    },
    "tags": []
   },
   "source": [
    "The following cell holds the definition of our parameters, these values can be overriden by rendering the with e.g. the following command:\n",
    "\n",
    "papermill -p alpha 0.2 -p ratio 0.3 universe_analysis.ipynb output/test_run.ipynb"
   ]
  },
  {
   "cell_type": "code",
   "execution_count": 2,
   "id": "a80968a0-40bb-4fa9-85ef-2d5eefb01975",
   "metadata": {
    "execution": {
     "iopub.execute_input": "2025-07-30T20:56:56.516413Z",
     "iopub.status.busy": "2025-07-30T20:56:56.515585Z",
     "iopub.status.idle": "2025-07-30T20:56:56.521027Z",
     "shell.execute_reply": "2025-07-30T20:56:56.520128Z"
    },
    "papermill": {
     "duration": 0.035691,
     "end_time": "2025-07-30T20:56:56.523101",
     "exception": false,
     "start_time": "2025-07-30T20:56:56.487410",
     "status": "completed"
    },
    "tags": []
   },
   "outputs": [
    {
     "name": "stdout",
     "output_type": "stream",
     "text": [
      "Current working directory: /dss/dsshome1/0C/ra93lal2/cma/CMA_Fairness_v2\n"
     ]
    }
   ],
   "source": [
    "import os\n",
    "print(\"Current working directory:\", os.getcwd())"
   ]
  },
  {
   "cell_type": "code",
   "execution_count": 3,
   "id": "2dce4c03",
   "metadata": {
    "execution": {
     "iopub.execute_input": "2025-07-30T20:56:56.582452Z",
     "iopub.status.busy": "2025-07-30T20:56:56.581780Z",
     "iopub.status.idle": "2025-07-30T20:56:56.588224Z",
     "shell.execute_reply": "2025-07-30T20:56:56.587277Z"
    },
    "papermill": {
     "duration": 0.037729,
     "end_time": "2025-07-30T20:56:56.590076",
     "exception": false,
     "start_time": "2025-07-30T20:56:56.552347",
     "status": "completed"
    },
    "tags": [
     "parameters"
    ]
   },
   "outputs": [],
   "source": [
    "run_no = 0\n",
    "universe_id = \"test\"\n",
    "universe = {\n",
    "    \"training_size\": \"25k\", # \"25k\", \"5k\", \"1k\"\n",
    "    \"training_year\": \"2014\", # \"2014\", \"2012_14\", \"2010_14\"\n",
    "    \"scale\": \"scale\", # \"scale\", \"do-not-scale\",\n",
    "    #\"stratify_split\": \"target\", # \"none\", \"target\", \"protected-attribute\", \"both\",\n",
    "    \"model\": \"elasticnet\", # \"logreg\", \"penalized_logreg\", \"rf\", \"gbm\", \"elasticnet\"\n",
    "    \"cutoff\": [\"quantile_0.15\", \"quantile_0.30\"],\n",
    "    \"exclude_features\": \"age\", # \"none\", \"nationality\", \"sex\", \"nationality-sex\", \"age\"\n",
    "    \"exclude_subgroups\": \"keep-all\", # \"keep-all\", \"drop-non-german\"\n",
    "    \"eval_fairness_grouping\": [\"majority-minority\", \"nationality-all\"]\n",
    "}\n",
    "\n",
    "output_dir=\"./output\"\n",
    "seed=0"
   ]
  },
  {
   "cell_type": "code",
   "execution_count": 4,
   "id": "fb2f269f",
   "metadata": {
    "execution": {
     "iopub.execute_input": "2025-07-30T20:56:56.639791Z",
     "iopub.status.busy": "2025-07-30T20:56:56.639328Z",
     "iopub.status.idle": "2025-07-30T20:56:56.644989Z",
     "shell.execute_reply": "2025-07-30T20:56:56.643900Z"
    },
    "papermill": {
     "duration": 0.030255,
     "end_time": "2025-07-30T20:56:56.646851",
     "exception": false,
     "start_time": "2025-07-30T20:56:56.616596",
     "status": "completed"
    },
    "tags": [
     "injected-parameters"
    ]
   },
   "outputs": [],
   "source": [
    "# Parameters\n",
    "universe_id = \"e47fc9131ed27324c51f3680492c9ed2\"\n",
    "run_no = \"14\"\n",
    "universe = \"{\\\"cutoff\\\": [\\\"quantile_0.1\\\", \\\"quantile_0.25\\\"], \\\"eval_fairness_grouping\\\": [\\\"majority-minority\\\", \\\"nationality-all\\\"], \\\"exclude_features\\\": \\\"nationality\\\", \\\"exclude_subgroups\\\": \\\"keep-all\\\", \\\"model\\\": \\\"logreg\\\", \\\"scale\\\": \\\"scale\\\", \\\"training_size\\\": \\\"5k\\\", \\\"training_year\\\": \\\"2012_14\\\"}\"\n",
    "output_dir = \"output\"\n",
    "seed = \"2023\"\n"
   ]
  },
  {
   "cell_type": "code",
   "execution_count": 5,
   "id": "1650acaf",
   "metadata": {
    "execution": {
     "iopub.execute_input": "2025-07-30T20:56:56.692044Z",
     "iopub.status.busy": "2025-07-30T20:56:56.691718Z",
     "iopub.status.idle": "2025-07-30T20:56:56.696551Z",
     "shell.execute_reply": "2025-07-30T20:56:56.695432Z"
    },
    "papermill": {
     "duration": 0.029227,
     "end_time": "2025-07-30T20:56:56.698232",
     "exception": false,
     "start_time": "2025-07-30T20:56:56.669005",
     "status": "completed"
    },
    "tags": []
   },
   "outputs": [],
   "source": [
    "import json\n",
    "# Parse universe into dict if it is passed as a string\n",
    "if isinstance(universe, str):\n",
    "    universe = json.loads(universe)"
   ]
  },
  {
   "cell_type": "code",
   "execution_count": 6,
   "id": "16620c48",
   "metadata": {
    "execution": {
     "iopub.execute_input": "2025-07-30T20:56:56.742114Z",
     "iopub.status.busy": "2025-07-30T20:56:56.741811Z",
     "iopub.status.idle": "2025-07-30T20:56:56.787543Z",
     "shell.execute_reply": "2025-07-30T20:56:56.786752Z"
    },
    "papermill": {
     "duration": 0.06888,
     "end_time": "2025-07-30T20:56:56.789204",
     "exception": false,
     "start_time": "2025-07-30T20:56:56.720324",
     "status": "completed"
    },
    "tags": []
   },
   "outputs": [],
   "source": [
    "# Auto-reload the custom package\n",
    "%load_ext autoreload\n",
    "%autoreload 1\n",
    "%aimport fairness_multiverse"
   ]
  },
  {
   "cell_type": "code",
   "execution_count": 7,
   "id": "01c5c9f3",
   "metadata": {
    "execution": {
     "iopub.execute_input": "2025-07-30T20:56:56.829774Z",
     "iopub.status.busy": "2025-07-30T20:56:56.828917Z",
     "iopub.status.idle": "2025-07-30T20:56:58.730776Z",
     "shell.execute_reply": "2025-07-30T20:56:58.729740Z"
    },
    "papermill": {
     "duration": 1.924698,
     "end_time": "2025-07-30T20:56:58.732701",
     "exception": false,
     "start_time": "2025-07-30T20:56:56.808003",
     "status": "completed"
    },
    "tags": []
   },
   "outputs": [],
   "source": [
    "from fairness_multiverse.universe import UniverseAnalysis\n",
    "\n",
    "universe_analysis = UniverseAnalysis(\n",
    "    run_no = run_no,\n",
    "    universe_id = universe_id,\n",
    "    universe = universe,\n",
    "    output_dir=output_dir,\n",
    ")"
   ]
  },
  {
   "cell_type": "code",
   "execution_count": 8,
   "id": "106241f5",
   "metadata": {
    "execution": {
     "iopub.execute_input": "2025-07-30T20:56:58.771512Z",
     "iopub.status.busy": "2025-07-30T20:56:58.771098Z",
     "iopub.status.idle": "2025-07-30T20:56:58.776966Z",
     "shell.execute_reply": "2025-07-30T20:56:58.776128Z"
    },
    "papermill": {
     "duration": 0.026649,
     "end_time": "2025-07-30T20:56:58.778498",
     "exception": false,
     "start_time": "2025-07-30T20:56:58.751849",
     "status": "completed"
    },
    "tags": []
   },
   "outputs": [
    {
     "name": "stdout",
     "output_type": "stream",
     "text": [
      "Using Seed: 2023\n"
     ]
    }
   ],
   "source": [
    "import numpy as np\n",
    "parsed_seed = int(seed)\n",
    "np.random.seed(parsed_seed)\n",
    "print(f\"Using Seed: {parsed_seed}\")"
   ]
  },
  {
   "cell_type": "markdown",
   "id": "e0ebdc57",
   "metadata": {
    "papermill": {
     "duration": 0.018521,
     "end_time": "2025-07-30T20:56:58.816946",
     "exception": false,
     "start_time": "2025-07-30T20:56:58.798425",
     "status": "completed"
    },
    "tags": []
   },
   "source": [
    "# Loading Data"
   ]
  },
  {
   "cell_type": "markdown",
   "id": "681925a3",
   "metadata": {
    "papermill": {
     "duration": 0.019111,
     "end_time": "2025-07-30T20:56:58.854870",
     "exception": false,
     "start_time": "2025-07-30T20:56:58.835759",
     "status": "completed"
    },
    "tags": []
   },
   "source": [
    "Load siab_train, siab_test, siab_calib and/or \n",
    "load siab_train_features, siab_train_labels"
   ]
  },
  {
   "cell_type": "code",
   "execution_count": 9,
   "id": "f0496b8a",
   "metadata": {
    "execution": {
     "iopub.execute_input": "2025-07-30T20:56:58.894478Z",
     "iopub.status.busy": "2025-07-30T20:56:58.894005Z",
     "iopub.status.idle": "2025-07-30T20:57:10.655265Z",
     "shell.execute_reply": "2025-07-30T20:57:10.654151Z"
    },
    "papermill": {
     "duration": 11.782508,
     "end_time": "2025-07-30T20:57:10.657065",
     "exception": false,
     "start_time": "2025-07-30T20:56:58.874557",
     "status": "completed"
    },
    "tags": []
   },
   "outputs": [
    {
     "name": "stdout",
     "output_type": "stream",
     "text": [
      "Loading SIAB data from cache: data/siab_cached.csv.gz\n"
     ]
    },
    {
     "name": "stdout",
     "output_type": "stream",
     "text": [
      "(643690, 164)\n"
     ]
    }
   ],
   "source": [
    "from pathlib import Path\n",
    "import pandas as pd\n",
    "\n",
    "# File paths\n",
    "raw_file = Path(\"data/raw/siab.csv\")\n",
    "cache_file = Path(\"data/siab_cached.csv.gz\")\n",
    "\n",
    "# Ensure cache directory exists\n",
    "cache_file.parent.mkdir(parents=True, exist_ok=True)\n",
    "\n",
    "# Load with simple caching\n",
    "if cache_file.exists():\n",
    "    print(f\"Loading SIAB data from cache: {cache_file}\")\n",
    "    siab = pd.read_csv(cache_file, compression='gzip')\n",
    "else:\n",
    "    print(f\"Cache not found. Reading raw SIAB data: {raw_file}\")\n",
    "    siab = pd.read_csv(raw_file)\n",
    "    siab.to_csv(cache_file, index=False, compression='gzip')\n",
    "    print(f\"Cached SIAB data to: {cache_file}\")\n",
    "\n",
    "# Now use `siab` DataFrame as needed\n",
    "print(siab.shape)"
   ]
  },
  {
   "cell_type": "code",
   "execution_count": 10,
   "id": "db0ca512-5f53-4dba-abdb-a2888bca41ba",
   "metadata": {
    "execution": {
     "iopub.execute_input": "2025-07-30T20:57:10.703150Z",
     "iopub.status.busy": "2025-07-30T20:57:10.702502Z",
     "iopub.status.idle": "2025-07-30T20:57:10.708179Z",
     "shell.execute_reply": "2025-07-30T20:57:10.707259Z"
    },
    "papermill": {
     "duration": 0.028485,
     "end_time": "2025-07-30T20:57:10.709645",
     "exception": false,
     "start_time": "2025-07-30T20:57:10.681160",
     "status": "completed"
    },
    "tags": []
   },
   "outputs": [],
   "source": [
    "#siab"
   ]
  },
  {
   "cell_type": "code",
   "execution_count": 11,
   "id": "a0edb063",
   "metadata": {
    "execution": {
     "iopub.execute_input": "2025-07-30T20:57:10.749698Z",
     "iopub.status.busy": "2025-07-30T20:57:10.748888Z",
     "iopub.status.idle": "2025-07-30T20:57:10.753920Z",
     "shell.execute_reply": "2025-07-30T20:57:10.753034Z"
    },
    "papermill": {
     "duration": 0.026401,
     "end_time": "2025-07-30T20:57:10.755498",
     "exception": false,
     "start_time": "2025-07-30T20:57:10.729097",
     "status": "completed"
    },
    "tags": []
   },
   "outputs": [],
   "source": [
    "#import pandas as pd\n",
    "#\n",
    "#X_train = pd.read_csv(\"./data/X_train.csv\")\n",
    "#y_train = pd.read_csv(\"./data/y_train.csv\")"
   ]
  },
  {
   "cell_type": "code",
   "execution_count": 12,
   "id": "63d08085",
   "metadata": {
    "execution": {
     "iopub.execute_input": "2025-07-30T20:57:10.795680Z",
     "iopub.status.busy": "2025-07-30T20:57:10.794989Z",
     "iopub.status.idle": "2025-07-30T20:57:10.799670Z",
     "shell.execute_reply": "2025-07-30T20:57:10.798886Z"
    },
    "papermill": {
     "duration": 0.026098,
     "end_time": "2025-07-30T20:57:10.801260",
     "exception": false,
     "start_time": "2025-07-30T20:57:10.775162",
     "status": "completed"
    },
    "tags": []
   },
   "outputs": [],
   "source": [
    "#X_test = pd.read_csv(\"./data/X_test.csv\")\n",
    "#y_true = pd.read_csv(\"./data/y_test.csv\")"
   ]
  },
  {
   "cell_type": "code",
   "execution_count": 13,
   "id": "98a8d0fa-1d3d-4ed8-bb2c-281470e24add",
   "metadata": {
    "execution": {
     "iopub.execute_input": "2025-07-30T20:57:10.841348Z",
     "iopub.status.busy": "2025-07-30T20:57:10.840572Z",
     "iopub.status.idle": "2025-07-30T20:57:10.845187Z",
     "shell.execute_reply": "2025-07-30T20:57:10.844371Z"
    },
    "papermill": {
     "duration": 0.026163,
     "end_time": "2025-07-30T20:57:10.846757",
     "exception": false,
     "start_time": "2025-07-30T20:57:10.820594",
     "status": "completed"
    },
    "tags": []
   },
   "outputs": [],
   "source": [
    "# Calibration data for conformal\n",
    "#X_calib = pd.read_csv(\"./data/X_calib.csv\")\n",
    "#y_calib = pd.read_csv(\"./data/y_calib.csv\")"
   ]
  },
  {
   "cell_type": "markdown",
   "id": "997051c5-15bd-4b69-9786-c3001a3ce484",
   "metadata": {
    "papermill": {
     "duration": 0.01867,
     "end_time": "2025-07-30T20:57:10.884673",
     "exception": false,
     "start_time": "2025-07-30T20:57:10.866003",
     "status": "completed"
    },
    "tags": []
   },
   "source": [
    "# Splitting Data and Setting Training Data Size"
   ]
  },
  {
   "cell_type": "code",
   "execution_count": 14,
   "id": "e993b61f-042d-41a6-8c81-f55681f86335",
   "metadata": {
    "execution": {
     "iopub.execute_input": "2025-07-30T20:57:10.923912Z",
     "iopub.status.busy": "2025-07-30T20:57:10.923103Z",
     "iopub.status.idle": "2025-07-30T20:57:10.936106Z",
     "shell.execute_reply": "2025-07-30T20:57:10.935251Z"
    },
    "papermill": {
     "duration": 0.03456,
     "end_time": "2025-07-30T20:57:10.937887",
     "exception": false,
     "start_time": "2025-07-30T20:57:10.903327",
     "status": "completed"
    },
    "tags": []
   },
   "outputs": [],
   "source": [
    "def sample_by_year_size(df,\n",
    "                        training_year: str,\n",
    "                        training_size: str,\n",
    "                        random_state: int = 42):\n",
    "    # --- parse training_year into a list of int years ---\n",
    "    if \"_\" in training_year:\n",
    "        start_str, end_str = training_year.split(\"_\", 1)\n",
    "        start = int(start_str)\n",
    "        end   = int(end_str) if len(end_str) == 4 else (int(end_str) + (start // 100)*100)\n",
    "        years = list(range(start, end + 1))\n",
    "    else:\n",
    "        years = [int(training_year)]\n",
    "\n",
    "    df = df[df[\"year\"].isin(years)].reset_index(drop=True)\n",
    "\n",
    "    # --- map training_size to total number of samples ---\n",
    "    total_map = {\"25k\": 25_000, \"5k\": 5_000, \"1k\": 1_000}\n",
    "    if training_size not in total_map:\n",
    "        return df  # e.g. \"all\"\n",
    "\n",
    "    total_samples = total_map[training_size]\n",
    "    n_years       = len(years)\n",
    "    base          = total_samples // n_years\n",
    "    remainder     = total_samples % n_years\n",
    "\n",
    "    # --- build a dict: year -> how many to sample ---\n",
    "    # give +1 to the first `remainder` years in ascending order\n",
    "    quotas = {\n",
    "        year: base + (1 if idx < remainder else 0)\n",
    "        for idx, year in enumerate(sorted(years))\n",
    "    }\n",
    "\n",
    "    # --- sample per‐year according to the quota dict ---\n",
    "    sampled = (\n",
    "        df\n",
    "        .groupby(\"year\", group_keys=False)\n",
    "        .apply(lambda grp: grp.sample(\n",
    "            n=min(len(grp), quotas[grp.name]),\n",
    "            random_state=random_state))\n",
    "        .reset_index(drop=True)\n",
    "    )\n",
    "\n",
    "    return sampled"
   ]
  },
  {
   "cell_type": "code",
   "execution_count": 15,
   "id": "c0ccd338-0e02-41f3-a09d-f56f9266e3fb",
   "metadata": {
    "execution": {
     "iopub.execute_input": "2025-07-30T20:57:10.981905Z",
     "iopub.status.busy": "2025-07-30T20:57:10.981029Z",
     "iopub.status.idle": "2025-07-30T20:57:10.986333Z",
     "shell.execute_reply": "2025-07-30T20:57:10.985386Z"
    },
    "papermill": {
     "duration": 0.028198,
     "end_time": "2025-07-30T20:57:10.987910",
     "exception": false,
     "start_time": "2025-07-30T20:57:10.959712",
     "status": "completed"
    },
    "tags": []
   },
   "outputs": [],
   "source": [
    "#universe[\"training_size\"]"
   ]
  },
  {
   "cell_type": "code",
   "execution_count": 16,
   "id": "ca707fd7-8047-4acd-bfa5-66248fbbf8e6",
   "metadata": {
    "execution": {
     "iopub.execute_input": "2025-07-30T20:57:11.030965Z",
     "iopub.status.busy": "2025-07-30T20:57:11.030371Z",
     "iopub.status.idle": "2025-07-30T20:57:11.035416Z",
     "shell.execute_reply": "2025-07-30T20:57:11.034527Z"
    },
    "papermill": {
     "duration": 0.028454,
     "end_time": "2025-07-30T20:57:11.036976",
     "exception": false,
     "start_time": "2025-07-30T20:57:11.008522",
     "status": "completed"
    },
    "tags": []
   },
   "outputs": [],
   "source": [
    "#universe[\"training_year\"]"
   ]
  },
  {
   "cell_type": "code",
   "execution_count": 17,
   "id": "aea9c6ef-6f46-42c8-85eb-5a62025c1508",
   "metadata": {
    "execution": {
     "iopub.execute_input": "2025-07-30T20:57:11.079082Z",
     "iopub.status.busy": "2025-07-30T20:57:11.078460Z",
     "iopub.status.idle": "2025-07-30T20:57:11.636311Z",
     "shell.execute_reply": "2025-07-30T20:57:11.635400Z"
    },
    "papermill": {
     "duration": 0.581013,
     "end_time": "2025-07-30T20:57:11.638250",
     "exception": false,
     "start_time": "2025-07-30T20:57:11.057237",
     "status": "completed"
    },
    "tags": []
   },
   "outputs": [],
   "source": [
    "siab_train = sample_by_year_size(siab,\n",
    "                               training_year=universe[\"training_year\"],\n",
    "                               training_size=universe[\"training_size\"])"
   ]
  },
  {
   "cell_type": "code",
   "execution_count": 18,
   "id": "8d3afb32-789d-442c-8d5d-9f5aa8dd2eed",
   "metadata": {
    "execution": {
     "iopub.execute_input": "2025-07-30T20:57:11.685078Z",
     "iopub.status.busy": "2025-07-30T20:57:11.684456Z",
     "iopub.status.idle": "2025-07-30T20:57:11.689569Z",
     "shell.execute_reply": "2025-07-30T20:57:11.688675Z"
    },
    "papermill": {
     "duration": 0.028472,
     "end_time": "2025-07-30T20:57:11.691146",
     "exception": false,
     "start_time": "2025-07-30T20:57:11.662674",
     "status": "completed"
    },
    "tags": []
   },
   "outputs": [],
   "source": [
    "#siab_train.shape"
   ]
  },
  {
   "cell_type": "code",
   "execution_count": 19,
   "id": "d582db68-1a4c-47fb-84fc-08518dc1975a",
   "metadata": {
    "execution": {
     "iopub.execute_input": "2025-07-30T20:57:11.735825Z",
     "iopub.status.busy": "2025-07-30T20:57:11.735167Z",
     "iopub.status.idle": "2025-07-30T20:57:11.740386Z",
     "shell.execute_reply": "2025-07-30T20:57:11.739416Z"
    },
    "papermill": {
     "duration": 0.029666,
     "end_time": "2025-07-30T20:57:11.742029",
     "exception": false,
     "start_time": "2025-07-30T20:57:11.712363",
     "status": "completed"
    },
    "tags": []
   },
   "outputs": [],
   "source": [
    "#display(siab_train.groupby(\"year\").size())"
   ]
  },
  {
   "cell_type": "code",
   "execution_count": 20,
   "id": "a561edb4-d032-42cb-8256-22eac1111c64",
   "metadata": {
    "execution": {
     "iopub.execute_input": "2025-07-30T20:57:11.785550Z",
     "iopub.status.busy": "2025-07-30T20:57:11.784914Z",
     "iopub.status.idle": "2025-07-30T20:57:12.030407Z",
     "shell.execute_reply": "2025-07-30T20:57:12.029510Z"
    },
    "papermill": {
     "duration": 0.26865,
     "end_time": "2025-07-30T20:57:12.032335",
     "exception": false,
     "start_time": "2025-07-30T20:57:11.763685",
     "status": "completed"
    },
    "tags": []
   },
   "outputs": [],
   "source": [
    "#siab_train = siab_s[siab_s.year < 2015]\n",
    "siab_calib = siab[siab.year == 2015]\n",
    "siab_test = siab[siab.year == 2016]"
   ]
  },
  {
   "cell_type": "code",
   "execution_count": 21,
   "id": "472de16f-c3db-4916-846b-1f0de9cf1746",
   "metadata": {
    "execution": {
     "iopub.execute_input": "2025-07-30T20:57:12.075888Z",
     "iopub.status.busy": "2025-07-30T20:57:12.075283Z",
     "iopub.status.idle": "2025-07-30T20:57:12.083631Z",
     "shell.execute_reply": "2025-07-30T20:57:12.082625Z"
    },
    "papermill": {
     "duration": 0.031608,
     "end_time": "2025-07-30T20:57:12.085258",
     "exception": false,
     "start_time": "2025-07-30T20:57:12.053650",
     "status": "completed"
    },
    "tags": []
   },
   "outputs": [],
   "source": [
    "X_train = siab_train.iloc[:,4:164]\n",
    "y_train = siab_train.iloc[:, [3]]"
   ]
  },
  {
   "cell_type": "code",
   "execution_count": 22,
   "id": "828c96af-f43a-4ed6-ba47-8ac73a47d56c",
   "metadata": {
    "execution": {
     "iopub.execute_input": "2025-07-30T20:57:12.128612Z",
     "iopub.status.busy": "2025-07-30T20:57:12.128177Z",
     "iopub.status.idle": "2025-07-30T20:57:12.210632Z",
     "shell.execute_reply": "2025-07-30T20:57:12.209662Z"
    },
    "papermill": {
     "duration": 0.104995,
     "end_time": "2025-07-30T20:57:12.212371",
     "exception": false,
     "start_time": "2025-07-30T20:57:12.107376",
     "status": "completed"
    },
    "tags": []
   },
   "outputs": [],
   "source": [
    "X_calib = siab_calib.iloc[:,4:164]\n",
    "y_calib = siab_calib.iloc[:, [3]]"
   ]
  },
  {
   "cell_type": "code",
   "execution_count": 23,
   "id": "c34be9c3-6bd6-476e-acd3-845840e303be",
   "metadata": {
    "execution": {
     "iopub.execute_input": "2025-07-30T20:57:12.254324Z",
     "iopub.status.busy": "2025-07-30T20:57:12.253510Z",
     "iopub.status.idle": "2025-07-30T20:57:12.302509Z",
     "shell.execute_reply": "2025-07-30T20:57:12.301395Z"
    },
    "papermill": {
     "duration": 0.071328,
     "end_time": "2025-07-30T20:57:12.304209",
     "exception": false,
     "start_time": "2025-07-30T20:57:12.232881",
     "status": "completed"
    },
    "tags": []
   },
   "outputs": [],
   "source": [
    "X_test = siab_test.iloc[:,4:164]\n",
    "y_true = siab_test.iloc[:, [3]]"
   ]
  },
  {
   "cell_type": "markdown",
   "id": "9901737e-04df-44f0-9100-f5ad144ed040",
   "metadata": {
    "papermill": {
     "duration": 0.020883,
     "end_time": "2025-07-30T20:57:12.347153",
     "exception": false,
     "start_time": "2025-07-30T20:57:12.326270",
     "status": "completed"
    },
    "tags": []
   },
   "source": [
    "# Splitting Data and Setting Training Data Size OLD VERSION"
   ]
  },
  {
   "cell_type": "code",
   "execution_count": 24,
   "id": "acbc8f7d-8fc8-4e86-8c59-5dcb0f58384b",
   "metadata": {
    "execution": {
     "iopub.execute_input": "2025-07-30T20:57:12.389777Z",
     "iopub.status.busy": "2025-07-30T20:57:12.389143Z",
     "iopub.status.idle": "2025-07-30T20:57:12.394895Z",
     "shell.execute_reply": "2025-07-30T20:57:12.394015Z"
    },
    "papermill": {
     "duration": 0.028978,
     "end_time": "2025-07-30T20:57:12.396558",
     "exception": false,
     "start_time": "2025-07-30T20:57:12.367580",
     "status": "completed"
    },
    "tags": []
   },
   "outputs": [],
   "source": [
    "#def sample_by_year(df, training_size, random_state=42):\n",
    "#    if training_size == \"2014\":\n",
    "#        return df[df[\"year\"] == 2014].reset_index(drop=True)\n",
    "#    \n",
    "#    size_map = {\n",
    "#        \"25k\": 5000,\n",
    "#        \"5k\": 1000,\n",
    "#        \"1k\": 200\n",
    "#    }\n",
    "#\n",
    "#    if training_size not in size_map:\n",
    "#        return df.reset_index(drop=True)  # use all data\n",
    "#\n",
    "#    n_per_year = size_map[training_size]\n",
    "#    grouped = df.groupby(\"year\")\n",
    "#    sampled = grouped.apply(lambda x: x.sample(n=min(n_per_year, len(x)), random_state=random_state))\n",
    "#    return sampled.reset_index(drop=True)"
   ]
  },
  {
   "cell_type": "code",
   "execution_count": 25,
   "id": "6d931f52-beaf-43ff-9e78-9d44a448d54e",
   "metadata": {
    "execution": {
     "iopub.execute_input": "2025-07-30T20:57:12.440351Z",
     "iopub.status.busy": "2025-07-30T20:57:12.439625Z",
     "iopub.status.idle": "2025-07-30T20:57:12.444708Z",
     "shell.execute_reply": "2025-07-30T20:57:12.443681Z"
    },
    "papermill": {
     "duration": 0.027843,
     "end_time": "2025-07-30T20:57:12.446332",
     "exception": false,
     "start_time": "2025-07-30T20:57:12.418489",
     "status": "completed"
    },
    "tags": []
   },
   "outputs": [],
   "source": [
    "#siab_s = sample_by_year(siab, universe[\"training_size\"])"
   ]
  },
  {
   "cell_type": "code",
   "execution_count": 26,
   "id": "5db0a40e-a4e2-4920-be85-b12ae061d70d",
   "metadata": {
    "execution": {
     "iopub.execute_input": "2025-07-30T20:57:12.491495Z",
     "iopub.status.busy": "2025-07-30T20:57:12.490693Z",
     "iopub.status.idle": "2025-07-30T20:57:12.495779Z",
     "shell.execute_reply": "2025-07-30T20:57:12.495006Z"
    },
    "papermill": {
     "duration": 0.02899,
     "end_time": "2025-07-30T20:57:12.497536",
     "exception": false,
     "start_time": "2025-07-30T20:57:12.468546",
     "status": "completed"
    },
    "tags": []
   },
   "outputs": [],
   "source": [
    "#display(siab_s.groupby(\"year\").size())"
   ]
  },
  {
   "cell_type": "code",
   "execution_count": 27,
   "id": "e6c733c5",
   "metadata": {
    "execution": {
     "iopub.execute_input": "2025-07-30T20:57:12.542808Z",
     "iopub.status.busy": "2025-07-30T20:57:12.541430Z",
     "iopub.status.idle": "2025-07-30T20:57:12.636228Z",
     "shell.execute_reply": "2025-07-30T20:57:12.635292Z"
    },
    "papermill": {
     "duration": 0.118988,
     "end_time": "2025-07-30T20:57:12.638099",
     "exception": false,
     "start_time": "2025-07-30T20:57:12.519111",
     "status": "completed"
    },
    "tags": []
   },
   "outputs": [],
   "source": [
    "# Auxiliary data needed downstream in the pipeline\n",
    "\n",
    "org_train = X_train.copy()\n",
    "org_test = X_test.copy()\n",
    "org_calib = X_calib.copy()"
   ]
  },
  {
   "cell_type": "code",
   "execution_count": 28,
   "id": "1466abac-c6da-4492-a62f-4240ae3783af",
   "metadata": {
    "execution": {
     "iopub.execute_input": "2025-07-30T20:57:12.680284Z",
     "iopub.status.busy": "2025-07-30T20:57:12.679432Z",
     "iopub.status.idle": "2025-07-30T20:57:12.685015Z",
     "shell.execute_reply": "2025-07-30T20:57:12.684160Z"
    },
    "papermill": {
     "duration": 0.027625,
     "end_time": "2025-07-30T20:57:12.686497",
     "exception": false,
     "start_time": "2025-07-30T20:57:12.658872",
     "status": "completed"
    },
    "tags": []
   },
   "outputs": [],
   "source": [
    "# put in other script?\n",
    "# Group sizes\n",
    "\n",
    "#def calculate_percentages(df, df_name):\n",
    "#    total_entries = len(df)\n",
    "#\n",
    "#    female_pct = (df['frau1'] == 1).mean() * 100\n",
    "#    non_german_pct = ((df['maxdeutsch1'] == 0) & (df['maxdeutsch.Missing.'] == 0)).mean() * 100\n",
    "#    non_german_male_pct = ((df['frau1'] == 0) & (df['maxdeutsch1'] == 0) & (df['maxdeutsch.Missing.'] == 0)).mean() * 100\n",
    "#    non_german_female_pct = ((df['frau1'] == 1) & (df['maxdeutsch1'] == 0) & (df['maxdeutsch.Missing.'] == 0)).mean() * 100\n",
    "#\n",
    "#    print(f\"--- {df_name} ---\")\n",
    "#    print(f\"Female: {female_pct:.2f}%\")\n",
    "#    print(f\"Non-German: {non_german_pct:.2f}%\")\n",
    "#    print(f\"Non-German Male: {non_german_male_pct:.2f}%\")\n",
    "#    print(f\"Non-German Female: {non_german_female_pct:.2f}%\\n\")\n",
    "#\n",
    "## Calculate for each DataFrame\n",
    "#calculate_percentages(siab_calib, \"siab_calib\")\n",
    "#calculate_percentages(siab_test, \"siab_test\")\n",
    "#calculate_percentages(siab_train, \"siab_train\")"
   ]
  },
  {
   "cell_type": "markdown",
   "id": "0a4a1b33",
   "metadata": {
    "papermill": {
     "duration": 0.019522,
     "end_time": "2025-07-30T20:57:12.725981",
     "exception": false,
     "start_time": "2025-07-30T20:57:12.706459",
     "status": "completed"
    },
    "tags": []
   },
   "source": [
    "# Preprocessing Data"
   ]
  },
  {
   "cell_type": "code",
   "execution_count": 29,
   "id": "ca879031",
   "metadata": {
    "execution": {
     "iopub.execute_input": "2025-07-30T20:57:12.766904Z",
     "iopub.status.busy": "2025-07-30T20:57:12.766277Z",
     "iopub.status.idle": "2025-07-30T20:57:12.772609Z",
     "shell.execute_reply": "2025-07-30T20:57:12.771593Z"
    },
    "papermill": {
     "duration": 0.028505,
     "end_time": "2025-07-30T20:57:12.774111",
     "exception": false,
     "start_time": "2025-07-30T20:57:12.745606",
     "status": "completed"
    },
    "tags": []
   },
   "outputs": [],
   "source": [
    "# EXCLUDE PROTECTED FEATURES\n",
    "# ----------------------\n",
    "# \"exclude_features\": \"none\", # \"nationality\", \"sex\", \"nationality-sex\"\n",
    "\n",
    "excluded_features = universe[\"exclude_features\"].split(\"-\") # split, e.g.: \"nationality-sex\" -> [\"nationality\", \"sex\"]\n",
    "excluded_features_dictionary = {\n",
    "    \"nationality\": [\"maxdeutsch1\", \"maxdeutsch.Missing.\"],\n",
    "    \"sex\": [\"frau1\"],\n",
    "    \"age\": [\"age\"],\n",
    "}\n"
   ]
  },
  {
   "cell_type": "code",
   "execution_count": 30,
   "id": "b745ac60",
   "metadata": {
    "execution": {
     "iopub.execute_input": "2025-07-30T20:57:12.815776Z",
     "iopub.status.busy": "2025-07-30T20:57:12.814999Z",
     "iopub.status.idle": "2025-07-30T20:57:12.820474Z",
     "shell.execute_reply": "2025-07-30T20:57:12.819639Z"
    },
    "papermill": {
     "duration": 0.027919,
     "end_time": "2025-07-30T20:57:12.822029",
     "exception": false,
     "start_time": "2025-07-30T20:57:12.794110",
     "status": "completed"
    },
    "tags": []
   },
   "outputs": [],
   "source": [
    "# Code nice names to column names\n",
    "\n",
    "excluded_features_columns = [\n",
    "    excluded_features_dictionary[f] for f in excluded_features if len(f) > 0 and f != \"none\"\n",
    "]"
   ]
  },
  {
   "cell_type": "code",
   "execution_count": 31,
   "id": "f84f73a2",
   "metadata": {
    "execution": {
     "iopub.execute_input": "2025-07-30T20:57:12.865047Z",
     "iopub.status.busy": "2025-07-30T20:57:12.864403Z",
     "iopub.status.idle": "2025-07-30T20:57:12.870426Z",
     "shell.execute_reply": "2025-07-30T20:57:12.869554Z"
    },
    "papermill": {
     "duration": 0.029238,
     "end_time": "2025-07-30T20:57:12.871946",
     "exception": false,
     "start_time": "2025-07-30T20:57:12.842708",
     "status": "completed"
    },
    "tags": []
   },
   "outputs": [],
   "source": [
    "from utils import flatten_once\n",
    "\n",
    "excluded_features_columns = flatten_once(excluded_features_columns)"
   ]
  },
  {
   "cell_type": "code",
   "execution_count": 32,
   "id": "884dea22",
   "metadata": {
    "execution": {
     "iopub.execute_input": "2025-07-30T20:57:12.914565Z",
     "iopub.status.busy": "2025-07-30T20:57:12.913706Z",
     "iopub.status.idle": "2025-07-30T20:57:12.923079Z",
     "shell.execute_reply": "2025-07-30T20:57:12.922170Z"
    },
    "papermill": {
     "duration": 0.031884,
     "end_time": "2025-07-30T20:57:12.924611",
     "exception": false,
     "start_time": "2025-07-30T20:57:12.892727",
     "status": "completed"
    },
    "tags": []
   },
   "outputs": [
    {
     "name": "stdout",
     "output_type": "stream",
     "text": [
      "Dropping features: ['maxdeutsch1', 'maxdeutsch.Missing.']\n"
     ]
    }
   ],
   "source": [
    "if len(excluded_features_columns) > 0:\n",
    "    print(f\"Dropping features: {excluded_features_columns}\")\n",
    "    X_train.drop(excluded_features_columns, axis=1, inplace=True)"
   ]
  },
  {
   "cell_type": "code",
   "execution_count": 33,
   "id": "95ab8b16",
   "metadata": {
    "execution": {
     "iopub.execute_input": "2025-07-30T20:57:12.966683Z",
     "iopub.status.busy": "2025-07-30T20:57:12.966145Z",
     "iopub.status.idle": "2025-07-30T20:57:13.020320Z",
     "shell.execute_reply": "2025-07-30T20:57:13.019347Z"
    },
    "papermill": {
     "duration": 0.076767,
     "end_time": "2025-07-30T20:57:13.021932",
     "exception": false,
     "start_time": "2025-07-30T20:57:12.945165",
     "status": "completed"
    },
    "tags": []
   },
   "outputs": [
    {
     "name": "stdout",
     "output_type": "stream",
     "text": [
      "Dropping features: ['maxdeutsch1', 'maxdeutsch.Missing.']\n"
     ]
    }
   ],
   "source": [
    "if len(excluded_features_columns) > 0:\n",
    "    print(f\"Dropping features: {excluded_features_columns}\")\n",
    "    X_test.drop(excluded_features_columns, axis=1, inplace=True)"
   ]
  },
  {
   "cell_type": "code",
   "execution_count": 34,
   "id": "1853aaf5-fb9f-46cb-a2b5-8ea4ae2237e4",
   "metadata": {
    "execution": {
     "iopub.execute_input": "2025-07-30T20:57:13.068009Z",
     "iopub.status.busy": "2025-07-30T20:57:13.067203Z",
     "iopub.status.idle": "2025-07-30T20:57:13.116820Z",
     "shell.execute_reply": "2025-07-30T20:57:13.115845Z"
    },
    "papermill": {
     "duration": 0.074315,
     "end_time": "2025-07-30T20:57:13.118469",
     "exception": false,
     "start_time": "2025-07-30T20:57:13.044154",
     "status": "completed"
    },
    "tags": []
   },
   "outputs": [
    {
     "name": "stdout",
     "output_type": "stream",
     "text": [
      "Dropping features: ['maxdeutsch1', 'maxdeutsch.Missing.']\n"
     ]
    }
   ],
   "source": [
    "if len(excluded_features_columns) > 0:\n",
    "    print(f\"Dropping features: {excluded_features_columns}\")\n",
    "    X_calib.drop(excluded_features_columns, axis=1, inplace=True)"
   ]
  },
  {
   "cell_type": "code",
   "execution_count": 35,
   "id": "6727d079-03e5-481e-9d38-292a90b7a0a8",
   "metadata": {
    "execution": {
     "iopub.execute_input": "2025-07-30T20:57:13.164846Z",
     "iopub.status.busy": "2025-07-30T20:57:13.164227Z",
     "iopub.status.idle": "2025-07-30T20:57:13.169101Z",
     "shell.execute_reply": "2025-07-30T20:57:13.168176Z"
    },
    "papermill": {
     "duration": 0.028935,
     "end_time": "2025-07-30T20:57:13.170647",
     "exception": false,
     "start_time": "2025-07-30T20:57:13.141712",
     "status": "completed"
    },
    "tags": []
   },
   "outputs": [],
   "source": [
    "# SPLIT & STRATIFY DATA\n",
    "# ----------------------"
   ]
  },
  {
   "cell_type": "code",
   "execution_count": 36,
   "id": "76c4dc6d",
   "metadata": {
    "execution": {
     "iopub.execute_input": "2025-07-30T20:57:13.213493Z",
     "iopub.status.busy": "2025-07-30T20:57:13.212734Z",
     "iopub.status.idle": "2025-07-30T20:57:13.218135Z",
     "shell.execute_reply": "2025-07-30T20:57:13.217276Z"
    },
    "papermill": {
     "duration": 0.028278,
     "end_time": "2025-07-30T20:57:13.219756",
     "exception": false,
     "start_time": "2025-07-30T20:57:13.191478",
     "status": "completed"
    },
    "tags": []
   },
   "outputs": [],
   "source": [
    "# EXCLUDE CERTAIN SUBGROUPS\n",
    "# ----------------------\n",
    "\n",
    "mode = universe.get(\"exclude_subgroups\", \"keep-all\") \n",
    "# Fetches the exclude_subgroups setting from the universe dict.\n",
    "# Defaults to \"keep-all\" if the key is missing."
   ]
  },
  {
   "cell_type": "code",
   "execution_count": 37,
   "id": "21994072",
   "metadata": {
    "execution": {
     "iopub.execute_input": "2025-07-30T20:57:13.263013Z",
     "iopub.status.busy": "2025-07-30T20:57:13.262207Z",
     "iopub.status.idle": "2025-07-30T20:57:13.269596Z",
     "shell.execute_reply": "2025-07-30T20:57:13.268699Z"
    },
    "papermill": {
     "duration": 0.030525,
     "end_time": "2025-07-30T20:57:13.271100",
     "exception": false,
     "start_time": "2025-07-30T20:57:13.240575",
     "status": "completed"
    },
    "tags": []
   },
   "outputs": [],
   "source": [
    "if mode == \"keep-all\":\n",
    "    keep_mask = pd.Series(True, index=org_train.index)\n",
    "\n",
    "# org_train contains the original feature columns from features_org (in Simson)\n",
    "# features_org contains unprocessed features, for me X_train at beginning ???\n",
    "# For keep-all, creates a boolean Series (keep_mask) of all True, so no rows are removed.\n",
    "\n",
    "elif mode == \"drop-non-german\":\n",
    "    keep_mask = org_train[\"maxdeutsch1\"] == 1 # ??? what about missing values?\n",
    "\n",
    "else:\n",
    "    raise ValueError(f\"Unsupported mode for exclude_subgroups: {mode}\")\n"
   ]
  },
  {
   "cell_type": "code",
   "execution_count": 38,
   "id": "71651440",
   "metadata": {
    "execution": {
     "iopub.execute_input": "2025-07-30T20:57:13.314207Z",
     "iopub.status.busy": "2025-07-30T20:57:13.313696Z",
     "iopub.status.idle": "2025-07-30T20:57:13.319940Z",
     "shell.execute_reply": "2025-07-30T20:57:13.319083Z"
    },
    "papermill": {
     "duration": 0.029443,
     "end_time": "2025-07-30T20:57:13.321575",
     "exception": false,
     "start_time": "2025-07-30T20:57:13.292132",
     "status": "completed"
    },
    "tags": []
   },
   "outputs": [],
   "source": [
    "n_drop = (~keep_mask).sum() # Calculates how many rows are set to be dropped\n",
    "if n_drop > 0:\n",
    "    pct = n_drop / len(keep_mask) * 100\n",
    "    print(f\"Dropping {n_drop} rows ({pct:.2f}%) where mode='{mode}'\")"
   ]
  },
  {
   "cell_type": "code",
   "execution_count": 39,
   "id": "5fb8eee5",
   "metadata": {
    "execution": {
     "iopub.execute_input": "2025-07-30T20:57:13.364719Z",
     "iopub.status.busy": "2025-07-30T20:57:13.363995Z",
     "iopub.status.idle": "2025-07-30T20:57:13.371923Z",
     "shell.execute_reply": "2025-07-30T20:57:13.371062Z"
    },
    "papermill": {
     "duration": 0.0309,
     "end_time": "2025-07-30T20:57:13.373472",
     "exception": false,
     "start_time": "2025-07-30T20:57:13.342572",
     "status": "completed"
    },
    "tags": []
   },
   "outputs": [],
   "source": [
    "X_train = X_train[keep_mask]"
   ]
  },
  {
   "cell_type": "code",
   "execution_count": 40,
   "id": "b202bb3a",
   "metadata": {
    "execution": {
     "iopub.execute_input": "2025-07-30T20:57:13.417479Z",
     "iopub.status.busy": "2025-07-30T20:57:13.416535Z",
     "iopub.status.idle": "2025-07-30T20:57:13.422238Z",
     "shell.execute_reply": "2025-07-30T20:57:13.421428Z"
    },
    "papermill": {
     "duration": 0.028961,
     "end_time": "2025-07-30T20:57:13.423797",
     "exception": false,
     "start_time": "2025-07-30T20:57:13.394836",
     "status": "completed"
    },
    "tags": []
   },
   "outputs": [],
   "source": [
    "y_train = y_train[keep_mask]"
   ]
  },
  {
   "cell_type": "markdown",
   "id": "493e2ac3",
   "metadata": {
    "papermill": {
     "duration": 0.020464,
     "end_time": "2025-07-30T20:57:13.465361",
     "exception": false,
     "start_time": "2025-07-30T20:57:13.444897",
     "status": "completed"
    },
    "tags": []
   },
   "source": [
    "# Model Training"
   ]
  },
  {
   "cell_type": "code",
   "execution_count": 41,
   "id": "679e1268",
   "metadata": {
    "execution": {
     "iopub.execute_input": "2025-07-30T20:57:13.508468Z",
     "iopub.status.busy": "2025-07-30T20:57:13.507713Z",
     "iopub.status.idle": "2025-07-30T20:57:13.609996Z",
     "shell.execute_reply": "2025-07-30T20:57:13.609137Z"
    },
    "papermill": {
     "duration": 0.125721,
     "end_time": "2025-07-30T20:57:13.611853",
     "exception": false,
     "start_time": "2025-07-30T20:57:13.486132",
     "status": "completed"
    },
    "tags": []
   },
   "outputs": [],
   "source": [
    "from sklearn.linear_model import LogisticRegression\n",
    "from sklearn.ensemble import GradientBoostingClassifier, RandomForestClassifier\n",
    "\n",
    "if (universe[\"model\"] == \"logreg\"):\n",
    "    model = LogisticRegression() #penalty=\"none\") #, solver=\"newton-cg\", max_iter=1) # include random_state=19 ?\n",
    "elif (universe[\"model\"] == \"penalized_logreg\"):\n",
    "    model = LogisticRegression(penalty=\"l2\", C=1.0) #, solver=\"newton-cg\", max_iter=1)\n",
    "elif (universe[\"model\"] == \"rf\"):\n",
    "    model = RandomForestClassifier(n_estimators=100, n_jobs=-1)\n",
    "elif (universe[\"model\"] == \"gbm\"):\n",
    "    model = GradientBoostingClassifier()\n",
    "elif (universe[\"model\"] == \"elasticnet\"):\n",
    "    model = LogisticRegression(penalty = 'elasticnet', solver = 'saga', l1_ratio = 0.5, max_iter=5000) # which solver to use?\n",
    "else:\n",
    "    raise \"Unsupported universe.model\""
   ]
  },
  {
   "cell_type": "code",
   "execution_count": 42,
   "id": "0cc8f744",
   "metadata": {
    "execution": {
     "iopub.execute_input": "2025-07-30T20:57:13.655951Z",
     "iopub.status.busy": "2025-07-30T20:57:13.655221Z",
     "iopub.status.idle": "2025-07-30T20:57:13.662185Z",
     "shell.execute_reply": "2025-07-30T20:57:13.661356Z"
    },
    "papermill": {
     "duration": 0.030239,
     "end_time": "2025-07-30T20:57:13.663672",
     "exception": false,
     "start_time": "2025-07-30T20:57:13.633433",
     "status": "completed"
    },
    "tags": []
   },
   "outputs": [],
   "source": [
    "import numpy as np\n",
    "from sklearn.pipeline import Pipeline\n",
    "from sklearn.preprocessing import StandardScaler\n",
    "\n",
    "model = Pipeline([\n",
    "    #(\"continuous_processor\", continuous_processor),\n",
    "    #(\"categorical_preprocessor\", categorical_preprocessor),\n",
    "    (\"scale\", StandardScaler() if universe[\"scale\"] == \"scale\" else None), \n",
    "    (\"model\", model),\n",
    "])"
   ]
  },
  {
   "cell_type": "code",
   "execution_count": 43,
   "id": "9442c04d",
   "metadata": {
    "execution": {
     "iopub.execute_input": "2025-07-30T20:57:13.707443Z",
     "iopub.status.busy": "2025-07-30T20:57:13.706652Z",
     "iopub.status.idle": "2025-07-30T20:57:13.857940Z",
     "shell.execute_reply": "2025-07-30T20:57:13.857149Z"
    },
    "papermill": {
     "duration": 0.174518,
     "end_time": "2025-07-30T20:57:13.859663",
     "exception": false,
     "start_time": "2025-07-30T20:57:13.685145",
     "status": "completed"
    },
    "tags": []
   },
   "outputs": [
    {
     "name": "stderr",
     "output_type": "stream",
     "text": [
      "/dss/dsshome1/0C/ra93lal2/.local/share/virtualenvs/CMA_Fairness_v2-3j10GkSs/lib/python3.10/site-packages/sklearn/linear_model/_logistic.py:444: ConvergenceWarning: lbfgs failed to converge (status=1):\n",
      "STOP: TOTAL NO. of ITERATIONS REACHED LIMIT.\n",
      "\n",
      "Increase the number of iterations (max_iter) or scale the data as shown in:\n",
      "    https://scikit-learn.org/stable/modules/preprocessing.html\n",
      "Please also refer to the documentation for alternative solver options:\n",
      "    https://scikit-learn.org/stable/modules/linear_model.html#logistic-regression\n",
      "  n_iter_i = _check_optimize_result(\n"
     ]
    },
    {
     "data": {
      "text/html": [
       "<style>#sk-container-id-1 {color: black;background-color: white;}#sk-container-id-1 pre{padding: 0;}#sk-container-id-1 div.sk-toggleable {background-color: white;}#sk-container-id-1 label.sk-toggleable__label {cursor: pointer;display: block;width: 100%;margin-bottom: 0;padding: 0.3em;box-sizing: border-box;text-align: center;}#sk-container-id-1 label.sk-toggleable__label-arrow:before {content: \"▸\";float: left;margin-right: 0.25em;color: #696969;}#sk-container-id-1 label.sk-toggleable__label-arrow:hover:before {color: black;}#sk-container-id-1 div.sk-estimator:hover label.sk-toggleable__label-arrow:before {color: black;}#sk-container-id-1 div.sk-toggleable__content {max-height: 0;max-width: 0;overflow: hidden;text-align: left;background-color: #f0f8ff;}#sk-container-id-1 div.sk-toggleable__content pre {margin: 0.2em;color: black;border-radius: 0.25em;background-color: #f0f8ff;}#sk-container-id-1 input.sk-toggleable__control:checked~div.sk-toggleable__content {max-height: 200px;max-width: 100%;overflow: auto;}#sk-container-id-1 input.sk-toggleable__control:checked~label.sk-toggleable__label-arrow:before {content: \"▾\";}#sk-container-id-1 div.sk-estimator input.sk-toggleable__control:checked~label.sk-toggleable__label {background-color: #d4ebff;}#sk-container-id-1 div.sk-label input.sk-toggleable__control:checked~label.sk-toggleable__label {background-color: #d4ebff;}#sk-container-id-1 input.sk-hidden--visually {border: 0;clip: rect(1px 1px 1px 1px);clip: rect(1px, 1px, 1px, 1px);height: 1px;margin: -1px;overflow: hidden;padding: 0;position: absolute;width: 1px;}#sk-container-id-1 div.sk-estimator {font-family: monospace;background-color: #f0f8ff;border: 1px dotted black;border-radius: 0.25em;box-sizing: border-box;margin-bottom: 0.5em;}#sk-container-id-1 div.sk-estimator:hover {background-color: #d4ebff;}#sk-container-id-1 div.sk-parallel-item::after {content: \"\";width: 100%;border-bottom: 1px solid gray;flex-grow: 1;}#sk-container-id-1 div.sk-label:hover label.sk-toggleable__label {background-color: #d4ebff;}#sk-container-id-1 div.sk-serial::before {content: \"\";position: absolute;border-left: 1px solid gray;box-sizing: border-box;top: 0;bottom: 0;left: 50%;z-index: 0;}#sk-container-id-1 div.sk-serial {display: flex;flex-direction: column;align-items: center;background-color: white;padding-right: 0.2em;padding-left: 0.2em;position: relative;}#sk-container-id-1 div.sk-item {position: relative;z-index: 1;}#sk-container-id-1 div.sk-parallel {display: flex;align-items: stretch;justify-content: center;background-color: white;position: relative;}#sk-container-id-1 div.sk-item::before, #sk-container-id-1 div.sk-parallel-item::before {content: \"\";position: absolute;border-left: 1px solid gray;box-sizing: border-box;top: 0;bottom: 0;left: 50%;z-index: -1;}#sk-container-id-1 div.sk-parallel-item {display: flex;flex-direction: column;z-index: 1;position: relative;background-color: white;}#sk-container-id-1 div.sk-parallel-item:first-child::after {align-self: flex-end;width: 50%;}#sk-container-id-1 div.sk-parallel-item:last-child::after {align-self: flex-start;width: 50%;}#sk-container-id-1 div.sk-parallel-item:only-child::after {width: 0;}#sk-container-id-1 div.sk-dashed-wrapped {border: 1px dashed gray;margin: 0 0.4em 0.5em 0.4em;box-sizing: border-box;padding-bottom: 0.4em;background-color: white;}#sk-container-id-1 div.sk-label label {font-family: monospace;font-weight: bold;display: inline-block;line-height: 1.2em;}#sk-container-id-1 div.sk-label-container {text-align: center;}#sk-container-id-1 div.sk-container {/* jupyter's `normalize.less` sets `[hidden] { display: none; }` but bootstrap.min.css set `[hidden] { display: none !important; }` so we also need the `!important` here to be able to override the default hidden behavior on the sphinx rendered scikit-learn.org. See: https://github.com/scikit-learn/scikit-learn/issues/21755 */display: inline-block !important;position: relative;}#sk-container-id-1 div.sk-text-repr-fallback {display: none;}</style><div id=\"sk-container-id-1\" class=\"sk-top-container\"><div class=\"sk-text-repr-fallback\"><pre>Pipeline(steps=[(&#x27;scale&#x27;, StandardScaler()), (&#x27;model&#x27;, LogisticRegression())])</pre><b>In a Jupyter environment, please rerun this cell to show the HTML representation or trust the notebook. <br />On GitHub, the HTML representation is unable to render, please try loading this page with nbviewer.org.</b></div><div class=\"sk-container\" hidden><div class=\"sk-item sk-dashed-wrapped\"><div class=\"sk-label-container\"><div class=\"sk-label sk-toggleable\"><input class=\"sk-toggleable__control sk-hidden--visually\" id=\"sk-estimator-id-1\" type=\"checkbox\" ><label for=\"sk-estimator-id-1\" class=\"sk-toggleable__label sk-toggleable__label-arrow\">Pipeline</label><div class=\"sk-toggleable__content\"><pre>Pipeline(steps=[(&#x27;scale&#x27;, StandardScaler()), (&#x27;model&#x27;, LogisticRegression())])</pre></div></div></div><div class=\"sk-serial\"><div class=\"sk-item\"><div class=\"sk-estimator sk-toggleable\"><input class=\"sk-toggleable__control sk-hidden--visually\" id=\"sk-estimator-id-2\" type=\"checkbox\" ><label for=\"sk-estimator-id-2\" class=\"sk-toggleable__label sk-toggleable__label-arrow\">StandardScaler</label><div class=\"sk-toggleable__content\"><pre>StandardScaler()</pre></div></div></div><div class=\"sk-item\"><div class=\"sk-estimator sk-toggleable\"><input class=\"sk-toggleable__control sk-hidden--visually\" id=\"sk-estimator-id-3\" type=\"checkbox\" ><label for=\"sk-estimator-id-3\" class=\"sk-toggleable__label sk-toggleable__label-arrow\">LogisticRegression</label><div class=\"sk-toggleable__content\"><pre>LogisticRegression()</pre></div></div></div></div></div></div></div>"
      ],
      "text/plain": [
       "Pipeline(steps=[('scale', StandardScaler()), ('model', LogisticRegression())])"
      ]
     },
     "execution_count": 43,
     "metadata": {},
     "output_type": "execute_result"
    }
   ],
   "source": [
    "model.fit(X_train, y_train.values.ravel())"
   ]
  },
  {
   "cell_type": "code",
   "execution_count": 44,
   "id": "af59f8c0",
   "metadata": {
    "execution": {
     "iopub.execute_input": "2025-07-30T20:57:13.904596Z",
     "iopub.status.busy": "2025-07-30T20:57:13.903798Z",
     "iopub.status.idle": "2025-07-30T20:57:13.909447Z",
     "shell.execute_reply": "2025-07-30T20:57:13.908606Z"
    },
    "papermill": {
     "duration": 0.029287,
     "end_time": "2025-07-30T20:57:13.910958",
     "exception": false,
     "start_time": "2025-07-30T20:57:13.881671",
     "status": "completed"
    },
    "tags": []
   },
   "outputs": [],
   "source": [
    "from fairness_multiverse.universe import predict_w_threshold"
   ]
  },
  {
   "cell_type": "code",
   "execution_count": 45,
   "id": "a7cf2e16",
   "metadata": {
    "execution": {
     "iopub.execute_input": "2025-07-30T20:57:13.955442Z",
     "iopub.status.busy": "2025-07-30T20:57:13.954730Z",
     "iopub.status.idle": "2025-07-30T20:57:14.143955Z",
     "shell.execute_reply": "2025-07-30T20:57:14.143055Z"
    },
    "papermill": {
     "duration": 0.212707,
     "end_time": "2025-07-30T20:57:14.145520",
     "exception": false,
     "start_time": "2025-07-30T20:57:13.932813",
     "status": "completed"
    },
    "tags": []
   },
   "outputs": [
    {
     "data": {
      "text/plain": [
       "0.8571285252480214"
      ]
     },
     "execution_count": 45,
     "metadata": {},
     "output_type": "execute_result"
    }
   ],
   "source": [
    "probs_test = model.predict_proba(X_test)\n",
    "\n",
    "'''\n",
    "Below code returns a boolean array (or binary 0/1 array depending on how it’s used) where each element \n",
    "is True if the probability of class 1 is greater than or equal to the threshold, and False otherwise.\n",
    "'''\n",
    "y_pred_default = predict_w_threshold(probs_test, 0.5)\n",
    "\n",
    "from sklearn.metrics import accuracy_score\n",
    "\n",
    "# Naive prediction\n",
    "accuracy_score(y_true = y_true, y_pred = y_pred_default)"
   ]
  },
  {
   "cell_type": "code",
   "execution_count": 46,
   "id": "081964c3",
   "metadata": {
    "execution": {
     "iopub.execute_input": "2025-07-30T20:57:14.190818Z",
     "iopub.status.busy": "2025-07-30T20:57:14.190206Z",
     "iopub.status.idle": "2025-07-30T20:57:14.371344Z",
     "shell.execute_reply": "2025-07-30T20:57:14.370512Z"
    },
    "papermill": {
     "duration": 0.205442,
     "end_time": "2025-07-30T20:57:14.372930",
     "exception": false,
     "start_time": "2025-07-30T20:57:14.167488",
     "status": "completed"
    },
    "tags": []
   },
   "outputs": [
    {
     "data": {
      "text/plain": [
       "array([0, 0, 0, ..., 0, 0, 0])"
      ]
     },
     "execution_count": 46,
     "metadata": {},
     "output_type": "execute_result"
    }
   ],
   "source": [
    "model.predict(X_test)"
   ]
  },
  {
   "cell_type": "markdown",
   "id": "56c9705b",
   "metadata": {
    "papermill": {
     "duration": 0.02146,
     "end_time": "2025-07-30T20:57:14.416854",
     "exception": false,
     "start_time": "2025-07-30T20:57:14.395394",
     "status": "completed"
    },
    "tags": []
   },
   "source": [
    "# Conformal Prediction"
   ]
  },
  {
   "cell_type": "code",
   "execution_count": 47,
   "id": "160ec6ff",
   "metadata": {
    "execution": {
     "iopub.execute_input": "2025-07-30T20:57:14.462138Z",
     "iopub.status.busy": "2025-07-30T20:57:14.461263Z",
     "iopub.status.idle": "2025-07-30T20:57:14.466501Z",
     "shell.execute_reply": "2025-07-30T20:57:14.465590Z"
    },
    "papermill": {
     "duration": 0.02971,
     "end_time": "2025-07-30T20:57:14.468089",
     "exception": false,
     "start_time": "2025-07-30T20:57:14.438379",
     "status": "completed"
    },
    "tags": []
   },
   "outputs": [],
   "source": [
    "# Miscoverage level for conformal prediction (10% allowed error rate => 90% target coverage)\n",
    "alpha = 0.1"
   ]
  },
  {
   "cell_type": "code",
   "execution_count": 48,
   "id": "eadf4555-3dd3-440e-8e35-f82a4ad9f855",
   "metadata": {
    "execution": {
     "iopub.execute_input": "2025-07-30T20:57:14.514282Z",
     "iopub.status.busy": "2025-07-30T20:57:14.513527Z",
     "iopub.status.idle": "2025-07-30T20:57:14.688381Z",
     "shell.execute_reply": "2025-07-30T20:57:14.687502Z"
    },
    "papermill": {
     "duration": 0.199644,
     "end_time": "2025-07-30T20:57:14.690347",
     "exception": false,
     "start_time": "2025-07-30T20:57:14.490703",
     "status": "completed"
    },
    "tags": []
   },
   "outputs": [],
   "source": [
    "probs_calib = model.predict_proba(X_calib)"
   ]
  },
  {
   "cell_type": "code",
   "execution_count": 49,
   "id": "2ed93547-6d5d-4983-9b36-1ecb300da49a",
   "metadata": {
    "execution": {
     "iopub.execute_input": "2025-07-30T20:57:14.739872Z",
     "iopub.status.busy": "2025-07-30T20:57:14.739258Z",
     "iopub.status.idle": "2025-07-30T20:57:14.744370Z",
     "shell.execute_reply": "2025-07-30T20:57:14.743416Z"
    },
    "papermill": {
     "duration": 0.031796,
     "end_time": "2025-07-30T20:57:14.745957",
     "exception": false,
     "start_time": "2025-07-30T20:57:14.714161",
     "status": "completed"
    },
    "tags": []
   },
   "outputs": [],
   "source": [
    "y_calib = y_calib.values.ravel().astype(int)"
   ]
  },
  {
   "cell_type": "code",
   "execution_count": 50,
   "id": "65d1320d-f588-4b38-9072-62af1ae97f7d",
   "metadata": {
    "execution": {
     "iopub.execute_input": "2025-07-30T20:57:14.794062Z",
     "iopub.status.busy": "2025-07-30T20:57:14.793649Z",
     "iopub.status.idle": "2025-07-30T20:57:14.800854Z",
     "shell.execute_reply": "2025-07-30T20:57:14.799857Z"
    },
    "papermill": {
     "duration": 0.032608,
     "end_time": "2025-07-30T20:57:14.802385",
     "exception": false,
     "start_time": "2025-07-30T20:57:14.769777",
     "status": "completed"
    },
    "tags": []
   },
   "outputs": [],
   "source": [
    "from fairness_multiverse.conformal import compute_nc_scores\n",
    "\n",
    "# Compute nonconformity scores on calibration set (1 - probability of true class)\n",
    "nc_scores = compute_nc_scores(probs_calib, y_calib)"
   ]
  },
  {
   "cell_type": "code",
   "execution_count": 51,
   "id": "df3b8ca3-53b7-43d5-9667-7c85da7aeda2",
   "metadata": {
    "execution": {
     "iopub.execute_input": "2025-07-30T20:57:14.852347Z",
     "iopub.status.busy": "2025-07-30T20:57:14.851807Z",
     "iopub.status.idle": "2025-07-30T20:57:14.858942Z",
     "shell.execute_reply": "2025-07-30T20:57:14.858058Z"
    },
    "papermill": {
     "duration": 0.033459,
     "end_time": "2025-07-30T20:57:14.860610",
     "exception": false,
     "start_time": "2025-07-30T20:57:14.827151",
     "status": "completed"
    },
    "tags": []
   },
   "outputs": [],
   "source": [
    "from fairness_multiverse.conformal import find_threshold\n",
    "\n",
    "# Find conformal threshold q_hat for the given alpha (split conformal method)\n",
    "q_hat = find_threshold(nc_scores, alpha)"
   ]
  },
  {
   "cell_type": "code",
   "execution_count": 52,
   "id": "4d29e6c1-0ef6-4aa4-b8fe-4fe79b0d033a",
   "metadata": {
    "execution": {
     "iopub.execute_input": "2025-07-30T20:57:14.909943Z",
     "iopub.status.busy": "2025-07-30T20:57:14.909150Z",
     "iopub.status.idle": "2025-07-30T20:57:14.915808Z",
     "shell.execute_reply": "2025-07-30T20:57:14.914967Z"
    },
    "papermill": {
     "duration": 0.03218,
     "end_time": "2025-07-30T20:57:14.917363",
     "exception": false,
     "start_time": "2025-07-30T20:57:14.885183",
     "status": "completed"
    },
    "tags": []
   },
   "outputs": [
    {
     "data": {
      "text/plain": [
       "0.686006077134778"
      ]
     },
     "execution_count": 52,
     "metadata": {},
     "output_type": "execute_result"
    }
   ],
   "source": [
    "q_hat"
   ]
  },
  {
   "cell_type": "code",
   "execution_count": 53,
   "id": "92460794-cdac-4be2-ba28-f28c0515a6fb",
   "metadata": {
    "execution": {
     "iopub.execute_input": "2025-07-30T20:57:14.968226Z",
     "iopub.status.busy": "2025-07-30T20:57:14.967399Z",
     "iopub.status.idle": "2025-07-30T20:57:15.796396Z",
     "shell.execute_reply": "2025-07-30T20:57:15.795401Z"
    },
    "papermill": {
     "duration": 0.855904,
     "end_time": "2025-07-30T20:57:15.798248",
     "exception": false,
     "start_time": "2025-07-30T20:57:14.942344",
     "status": "completed"
    },
    "tags": []
   },
   "outputs": [],
   "source": [
    "from fairness_multiverse.conformal import predict_conformal_sets\n",
    "\n",
    "# Generate prediction sets for each test example\n",
    "pred_sets = predict_conformal_sets(model, X_test, q_hat)"
   ]
  },
  {
   "cell_type": "code",
   "execution_count": 54,
   "id": "d90c9a65-e6db-4f5d-80cd-e68fb7e46829",
   "metadata": {
    "execution": {
     "iopub.execute_input": "2025-07-30T20:57:15.848898Z",
     "iopub.status.busy": "2025-07-30T20:57:15.848232Z",
     "iopub.status.idle": "2025-07-30T20:57:15.853864Z",
     "shell.execute_reply": "2025-07-30T20:57:15.853020Z"
    },
    "papermill": {
     "duration": 0.032866,
     "end_time": "2025-07-30T20:57:15.855338",
     "exception": false,
     "start_time": "2025-07-30T20:57:15.822472",
     "status": "completed"
    },
    "tags": []
   },
   "outputs": [],
   "source": [
    "y_true = y_true.squeeze()"
   ]
  },
  {
   "cell_type": "code",
   "execution_count": 55,
   "id": "3a58a54a-1e68-46b9-927a-df01f18aebc8",
   "metadata": {
    "execution": {
     "iopub.execute_input": "2025-07-30T20:57:15.903478Z",
     "iopub.status.busy": "2025-07-30T20:57:15.902804Z",
     "iopub.status.idle": "2025-07-30T20:57:17.111331Z",
     "shell.execute_reply": "2025-07-30T20:57:17.110225Z"
    },
    "papermill": {
     "duration": 1.2346,
     "end_time": "2025-07-30T20:57:17.113214",
     "exception": false,
     "start_time": "2025-07-30T20:57:15.878614",
     "status": "completed"
    },
    "tags": []
   },
   "outputs": [],
   "source": [
    "from fairness_multiverse.conformal import evaluate_sets\n",
    "\n",
    "# Evaluate coverage and average set size on test data\n",
    "metrics = evaluate_sets(pred_sets, y_true)"
   ]
  },
  {
   "cell_type": "markdown",
   "id": "2b569c12-9aaa-4c88-98c9-bbcd0cf3ebb8",
   "metadata": {
    "papermill": {
     "duration": 0.022601,
     "end_time": "2025-07-30T20:57:17.159112",
     "exception": false,
     "start_time": "2025-07-30T20:57:17.136511",
     "status": "completed"
    },
    "tags": []
   },
   "source": [
    "# CP Metrics"
   ]
  },
  {
   "cell_type": "code",
   "execution_count": 56,
   "id": "5ce0a5cb-201f-45a0-ade5-94c7f0bd6095",
   "metadata": {
    "execution": {
     "iopub.execute_input": "2025-07-30T20:57:17.206518Z",
     "iopub.status.busy": "2025-07-30T20:57:17.205797Z",
     "iopub.status.idle": "2025-07-30T20:57:17.214339Z",
     "shell.execute_reply": "2025-07-30T20:57:17.213358Z"
    },
    "papermill": {
     "duration": 0.034218,
     "end_time": "2025-07-30T20:57:17.215997",
     "exception": false,
     "start_time": "2025-07-30T20:57:17.181779",
     "status": "completed"
    },
    "tags": []
   },
   "outputs": [
    {
     "data": {
      "text/plain": [
       "{'coverage': 0.9108126184371865, 'avg_size': 1.137197636829785}"
      ]
     },
     "execution_count": 56,
     "metadata": {},
     "output_type": "execute_result"
    }
   ],
   "source": [
    "metrics"
   ]
  },
  {
   "cell_type": "code",
   "execution_count": 57,
   "id": "9b9a838d-31c9-430b-ae14-12baee460d17",
   "metadata": {
    "execution": {
     "iopub.execute_input": "2025-07-30T20:57:17.264941Z",
     "iopub.status.busy": "2025-07-30T20:57:17.264245Z",
     "iopub.status.idle": "2025-07-30T20:57:17.272299Z",
     "shell.execute_reply": "2025-07-30T20:57:17.271170Z"
    },
    "papermill": {
     "duration": 0.034332,
     "end_time": "2025-07-30T20:57:17.273961",
     "exception": false,
     "start_time": "2025-07-30T20:57:17.239629",
     "status": "completed"
    },
    "tags": []
   },
   "outputs": [],
   "source": [
    "example_universe = universe.copy()\n",
    "universe_training_year = example_universe.get(\"training_year\")\n",
    "universe_training_size = example_universe.get(\"training_size\")\n",
    "universe_scale = example_universe.get(\"scale\")\n",
    "universe_model = example_universe.get(\"model\")\n",
    "universe_exclude_features = example_universe.get(\"exclude_features\")\n",
    "universe_exclude_subgroups = example_universe.get(\"exclude_subgroups\")"
   ]
  },
  {
   "cell_type": "code",
   "execution_count": 58,
   "id": "f4b6a8ac-9dc0-4245-8a91-5b3b5999c4f9",
   "metadata": {
    "execution": {
     "iopub.execute_input": "2025-07-30T20:57:17.323565Z",
     "iopub.status.busy": "2025-07-30T20:57:17.322857Z",
     "iopub.status.idle": "2025-07-30T20:57:17.331255Z",
     "shell.execute_reply": "2025-07-30T20:57:17.330159Z"
    },
    "papermill": {
     "duration": 0.035507,
     "end_time": "2025-07-30T20:57:17.333052",
     "exception": false,
     "start_time": "2025-07-30T20:57:17.297545",
     "status": "completed"
    },
    "tags": []
   },
   "outputs": [],
   "source": [
    "cp_metrics_dict = {\n",
    "    \"universe_id\": [universe_id],\n",
    "    \"universe_training_year\": [universe_training_year],\n",
    "    \"universe_training_size\": [universe_training_size],\n",
    "    \"universe_scale\": [universe_scale],\n",
    "    \"universe_model\": [universe_model],\n",
    "    \"universe_exclude_features\": [universe_exclude_features],\n",
    "    \"universe_exclude_subgroups\": [universe_exclude_subgroups],\n",
    "    \"q_hat\": [q_hat],\n",
    "    \"coverage\": [metrics[\"coverage\"]],\n",
    "    \"avg_size\": [metrics[\"avg_size\"]],\n",
    "}"
   ]
  },
  {
   "cell_type": "code",
   "execution_count": 59,
   "id": "908acbb1-0371-4915-85ca-3fa520d2efe2",
   "metadata": {
    "execution": {
     "iopub.execute_input": "2025-07-30T20:57:17.382510Z",
     "iopub.status.busy": "2025-07-30T20:57:17.381548Z",
     "iopub.status.idle": "2025-07-30T20:57:17.391330Z",
     "shell.execute_reply": "2025-07-30T20:57:17.390339Z"
    },
    "papermill": {
     "duration": 0.036583,
     "end_time": "2025-07-30T20:57:17.393237",
     "exception": false,
     "start_time": "2025-07-30T20:57:17.356654",
     "status": "completed"
    },
    "tags": []
   },
   "outputs": [
    {
     "data": {
      "text/plain": [
       "{'universe_id': ['e47fc9131ed27324c51f3680492c9ed2'],\n",
       " 'universe_training_year': ['2012_14'],\n",
       " 'universe_training_size': ['5k'],\n",
       " 'universe_scale': ['scale'],\n",
       " 'universe_model': ['logreg'],\n",
       " 'universe_exclude_features': ['nationality'],\n",
       " 'universe_exclude_subgroups': ['keep-all'],\n",
       " 'q_hat': [0.686006077134778],\n",
       " 'coverage': [0.9108126184371865],\n",
       " 'avg_size': [1.137197636829785]}"
      ]
     },
     "execution_count": 59,
     "metadata": {},
     "output_type": "execute_result"
    }
   ],
   "source": [
    "cp_metrics_dict"
   ]
  },
  {
   "cell_type": "code",
   "execution_count": 60,
   "id": "33007efc-14e9-4ec6-97ac-56a455c82265",
   "metadata": {
    "execution": {
     "iopub.execute_input": "2025-07-30T20:57:17.442575Z",
     "iopub.status.busy": "2025-07-30T20:57:17.441902Z",
     "iopub.status.idle": "2025-07-30T20:57:17.449809Z",
     "shell.execute_reply": "2025-07-30T20:57:17.448726Z"
    },
    "papermill": {
     "duration": 0.034445,
     "end_time": "2025-07-30T20:57:17.451438",
     "exception": false,
     "start_time": "2025-07-30T20:57:17.416993",
     "status": "completed"
    },
    "tags": []
   },
   "outputs": [],
   "source": [
    "cp_metrics_df = pd.DataFrame(cp_metrics_dict)"
   ]
  },
  {
   "cell_type": "code",
   "execution_count": 61,
   "id": "db12611b-57b2-4910-b9d0-355adfd6e7bf",
   "metadata": {
    "execution": {
     "iopub.execute_input": "2025-07-30T20:57:17.501163Z",
     "iopub.status.busy": "2025-07-30T20:57:17.500183Z",
     "iopub.status.idle": "2025-07-30T20:57:17.524267Z",
     "shell.execute_reply": "2025-07-30T20:57:17.523227Z"
    },
    "papermill": {
     "duration": 0.050463,
     "end_time": "2025-07-30T20:57:17.525834",
     "exception": false,
     "start_time": "2025-07-30T20:57:17.475371",
     "status": "completed"
    },
    "tags": []
   },
   "outputs": [
    {
     "data": {
      "text/html": [
       "<div>\n",
       "<style scoped>\n",
       "    .dataframe tbody tr th:only-of-type {\n",
       "        vertical-align: middle;\n",
       "    }\n",
       "\n",
       "    .dataframe tbody tr th {\n",
       "        vertical-align: top;\n",
       "    }\n",
       "\n",
       "    .dataframe thead th {\n",
       "        text-align: right;\n",
       "    }\n",
       "</style>\n",
       "<table border=\"1\" class=\"dataframe\">\n",
       "  <thead>\n",
       "    <tr style=\"text-align: right;\">\n",
       "      <th></th>\n",
       "      <th>universe_id</th>\n",
       "      <th>universe_training_year</th>\n",
       "      <th>universe_training_size</th>\n",
       "      <th>universe_scale</th>\n",
       "      <th>universe_model</th>\n",
       "      <th>universe_exclude_features</th>\n",
       "      <th>universe_exclude_subgroups</th>\n",
       "      <th>q_hat</th>\n",
       "      <th>coverage</th>\n",
       "      <th>avg_size</th>\n",
       "    </tr>\n",
       "  </thead>\n",
       "  <tbody>\n",
       "    <tr>\n",
       "      <th>0</th>\n",
       "      <td>e47fc9131ed27324c51f3680492c9ed2</td>\n",
       "      <td>2012_14</td>\n",
       "      <td>5k</td>\n",
       "      <td>scale</td>\n",
       "      <td>logreg</td>\n",
       "      <td>nationality</td>\n",
       "      <td>keep-all</td>\n",
       "      <td>0.686006</td>\n",
       "      <td>0.910813</td>\n",
       "      <td>1.137198</td>\n",
       "    </tr>\n",
       "  </tbody>\n",
       "</table>\n",
       "</div>"
      ],
      "text/plain": [
       "                        universe_id universe_training_year  \\\n",
       "0  e47fc9131ed27324c51f3680492c9ed2                2012_14   \n",
       "\n",
       "  universe_training_size universe_scale universe_model  \\\n",
       "0                     5k          scale         logreg   \n",
       "\n",
       "  universe_exclude_features universe_exclude_subgroups     q_hat  coverage  \\\n",
       "0               nationality                   keep-all  0.686006  0.910813   \n",
       "\n",
       "   avg_size  \n",
       "0  1.137198  "
      ]
     },
     "execution_count": 61,
     "metadata": {},
     "output_type": "execute_result"
    }
   ],
   "source": [
    "cp_metrics_df"
   ]
  },
  {
   "cell_type": "code",
   "execution_count": 62,
   "id": "b7fbde55-a0a1-47e4-9af6-fe4a17fa8c61",
   "metadata": {
    "execution": {
     "iopub.execute_input": "2025-07-30T20:57:17.575898Z",
     "iopub.status.busy": "2025-07-30T20:57:17.574964Z",
     "iopub.status.idle": "2025-07-30T20:57:17.581699Z",
     "shell.execute_reply": "2025-07-30T20:57:17.580583Z"
    },
    "papermill": {
     "duration": 0.03354,
     "end_time": "2025-07-30T20:57:17.583300",
     "exception": false,
     "start_time": "2025-07-30T20:57:17.549760",
     "status": "completed"
    },
    "tags": []
   },
   "outputs": [],
   "source": [
    "# Conditional Coverage & looking at subgroups"
   ]
  },
  {
   "cell_type": "code",
   "execution_count": 63,
   "id": "027ae886-68dd-4141-96c7-805a5450e1ef",
   "metadata": {
    "execution": {
     "iopub.execute_input": "2025-07-30T20:57:17.633561Z",
     "iopub.status.busy": "2025-07-30T20:57:17.632626Z",
     "iopub.status.idle": "2025-07-30T20:57:17.909634Z",
     "shell.execute_reply": "2025-07-30T20:57:17.908912Z"
    },
    "papermill": {
     "duration": 0.303957,
     "end_time": "2025-07-30T20:57:17.911353",
     "exception": false,
     "start_time": "2025-07-30T20:57:17.607396",
     "status": "completed"
    },
    "tags": []
   },
   "outputs": [],
   "source": [
    "from fairness_multiverse.conformal import build_cp_groups\n",
    "\n",
    "cp_groups_df = build_cp_groups(pred_sets, y_true, X_test.index, org_test)\n",
    "#needs universe_id and setting"
   ]
  },
  {
   "cell_type": "code",
   "execution_count": 64,
   "id": "01d5802c-663a-4d1f-9d69-e036faaffbf7",
   "metadata": {
    "execution": {
     "iopub.execute_input": "2025-07-30T20:57:17.963111Z",
     "iopub.status.busy": "2025-07-30T20:57:17.962670Z",
     "iopub.status.idle": "2025-07-30T20:57:17.967238Z",
     "shell.execute_reply": "2025-07-30T20:57:17.966368Z"
    },
    "papermill": {
     "duration": 0.030256,
     "end_time": "2025-07-30T20:57:17.968768",
     "exception": false,
     "start_time": "2025-07-30T20:57:17.938512",
     "status": "completed"
    },
    "tags": []
   },
   "outputs": [],
   "source": [
    "#delete\n",
    "#cp_groups_df"
   ]
  },
  {
   "cell_type": "code",
   "execution_count": 65,
   "id": "fa424af1-d1eb-443d-b717-2d279ada8408",
   "metadata": {
    "execution": {
     "iopub.execute_input": "2025-07-30T20:57:18.018187Z",
     "iopub.status.busy": "2025-07-30T20:57:18.017540Z",
     "iopub.status.idle": "2025-07-30T20:57:18.022347Z",
     "shell.execute_reply": "2025-07-30T20:57:18.021532Z"
    },
    "papermill": {
     "duration": 0.030851,
     "end_time": "2025-07-30T20:57:18.023813",
     "exception": false,
     "start_time": "2025-07-30T20:57:17.992962",
     "status": "completed"
    },
    "tags": []
   },
   "outputs": [],
   "source": [
    "#delete\n",
    "#percentage = (cp_groups_df['nongerman_female'] == 1).mean() * 100\n",
    "#print(percentage)\n"
   ]
  },
  {
   "cell_type": "code",
   "execution_count": 66,
   "id": "6cbdab96-b2b2-45af-ad54-d0516db2e28d",
   "metadata": {
    "execution": {
     "iopub.execute_input": "2025-07-30T20:57:18.072540Z",
     "iopub.status.busy": "2025-07-30T20:57:18.071998Z",
     "iopub.status.idle": "2025-07-30T20:57:19.607286Z",
     "shell.execute_reply": "2025-07-30T20:57:19.606305Z"
    },
    "papermill": {
     "duration": 1.562071,
     "end_time": "2025-07-30T20:57:19.609393",
     "exception": false,
     "start_time": "2025-07-30T20:57:18.047322",
     "status": "completed"
    },
    "tags": []
   },
   "outputs": [],
   "source": [
    "# Define covered = 1 if true_label is in the predicted set\n",
    "cp_groups_df['covered'] = cp_groups_df.apply(\n",
    "    lambda r: int(r['true_label'] in r['pred_set']),\n",
    "    axis=1\n",
    ")"
   ]
  },
  {
   "cell_type": "code",
   "execution_count": 67,
   "id": "338ff529-1a6b-4b87-a931-8e4788d52aad",
   "metadata": {
    "execution": {
     "iopub.execute_input": "2025-07-30T20:57:19.664491Z",
     "iopub.status.busy": "2025-07-30T20:57:19.663455Z",
     "iopub.status.idle": "2025-07-30T20:57:19.668682Z",
     "shell.execute_reply": "2025-07-30T20:57:19.667735Z"
    },
    "papermill": {
     "duration": 0.031657,
     "end_time": "2025-07-30T20:57:19.670149",
     "exception": false,
     "start_time": "2025-07-30T20:57:19.638492",
     "status": "completed"
    },
    "tags": []
   },
   "outputs": [],
   "source": [
    "#cp_groups_df"
   ]
  },
  {
   "cell_type": "code",
   "execution_count": 68,
   "id": "90032e27-66df-4540-9169-4e89cfbaa758",
   "metadata": {
    "execution": {
     "iopub.execute_input": "2025-07-30T20:57:19.720969Z",
     "iopub.status.busy": "2025-07-30T20:57:19.720422Z",
     "iopub.status.idle": "2025-07-30T20:57:19.730433Z",
     "shell.execute_reply": "2025-07-30T20:57:19.729758Z"
    },
    "papermill": {
     "duration": 0.036925,
     "end_time": "2025-07-30T20:57:19.731823",
     "exception": false,
     "start_time": "2025-07-30T20:57:19.694898",
     "status": "completed"
    },
    "tags": []
   },
   "outputs": [],
   "source": [
    "subgroups = ['frau1','nongerman','nongerman_male','nongerman_female']\n",
    "\n",
    "# Conditional coverage for subgroup==1\n",
    "cond_coverage = {\n",
    "    g: cp_groups_df.loc[cp_groups_df[g]==1, 'covered'].mean()\n",
    "    for g in subgroups\n",
    "}"
   ]
  },
  {
   "cell_type": "code",
   "execution_count": 69,
   "id": "1e348fb1-b9c3-45bc-ba23-f016827a7e0d",
   "metadata": {
    "execution": {
     "iopub.execute_input": "2025-07-30T20:57:19.792492Z",
     "iopub.status.busy": "2025-07-30T20:57:19.792088Z",
     "iopub.status.idle": "2025-07-30T20:57:19.800754Z",
     "shell.execute_reply": "2025-07-30T20:57:19.798719Z"
    },
    "papermill": {
     "duration": 0.045309,
     "end_time": "2025-07-30T20:57:19.802654",
     "exception": false,
     "start_time": "2025-07-30T20:57:19.757345",
     "status": "completed"
    },
    "tags": []
   },
   "outputs": [
    {
     "data": {
      "text/plain": [
       "{'frau1': 0.9055398301657905,\n",
       " 'nongerman': 0.9107393476674339,\n",
       " 'nongerman_male': 0.9286679275871386,\n",
       " 'nongerman_female': 0.8810730253353204}"
      ]
     },
     "execution_count": 69,
     "metadata": {},
     "output_type": "execute_result"
    }
   ],
   "source": [
    "cond_coverage"
   ]
  },
  {
   "cell_type": "code",
   "execution_count": 70,
   "id": "f5093324-c3dd-4d63-bc4c-8d945e5c8bbb",
   "metadata": {
    "execution": {
     "iopub.execute_input": "2025-07-30T20:57:19.858757Z",
     "iopub.status.busy": "2025-07-30T20:57:19.858368Z",
     "iopub.status.idle": "2025-07-30T20:57:19.867641Z",
     "shell.execute_reply": "2025-07-30T20:57:19.866334Z"
    },
    "papermill": {
     "duration": 0.039186,
     "end_time": "2025-07-30T20:57:19.869924",
     "exception": false,
     "start_time": "2025-07-30T20:57:19.830738",
     "status": "completed"
    },
    "tags": []
   },
   "outputs": [],
   "source": [
    "for subgroup, cov in cond_coverage.items():\n",
    "    cp_metrics_df[f\"cov_{subgroup}\"] = cov"
   ]
  },
  {
   "cell_type": "code",
   "execution_count": 71,
   "id": "6e872e10-dbe5-49e8-b554-5030c98ff75d",
   "metadata": {
    "execution": {
     "iopub.execute_input": "2025-07-30T20:57:19.922673Z",
     "iopub.status.busy": "2025-07-30T20:57:19.922250Z",
     "iopub.status.idle": "2025-07-30T20:57:19.947175Z",
     "shell.execute_reply": "2025-07-30T20:57:19.945576Z"
    },
    "papermill": {
     "duration": 0.042699,
     "end_time": "2025-07-30T20:57:19.948811",
     "exception": false,
     "start_time": "2025-07-30T20:57:19.906112",
     "status": "completed"
    },
    "tags": []
   },
   "outputs": [
    {
     "data": {
      "text/html": [
       "<div>\n",
       "<style scoped>\n",
       "    .dataframe tbody tr th:only-of-type {\n",
       "        vertical-align: middle;\n",
       "    }\n",
       "\n",
       "    .dataframe tbody tr th {\n",
       "        vertical-align: top;\n",
       "    }\n",
       "\n",
       "    .dataframe thead th {\n",
       "        text-align: right;\n",
       "    }\n",
       "</style>\n",
       "<table border=\"1\" class=\"dataframe\">\n",
       "  <thead>\n",
       "    <tr style=\"text-align: right;\">\n",
       "      <th></th>\n",
       "      <th>universe_id</th>\n",
       "      <th>universe_training_year</th>\n",
       "      <th>universe_training_size</th>\n",
       "      <th>universe_scale</th>\n",
       "      <th>universe_model</th>\n",
       "      <th>universe_exclude_features</th>\n",
       "      <th>universe_exclude_subgroups</th>\n",
       "      <th>q_hat</th>\n",
       "      <th>coverage</th>\n",
       "      <th>avg_size</th>\n",
       "      <th>cov_frau1</th>\n",
       "      <th>cov_nongerman</th>\n",
       "      <th>cov_nongerman_male</th>\n",
       "      <th>cov_nongerman_female</th>\n",
       "    </tr>\n",
       "  </thead>\n",
       "  <tbody>\n",
       "    <tr>\n",
       "      <th>0</th>\n",
       "      <td>e47fc9131ed27324c51f3680492c9ed2</td>\n",
       "      <td>2012_14</td>\n",
       "      <td>5k</td>\n",
       "      <td>scale</td>\n",
       "      <td>logreg</td>\n",
       "      <td>nationality</td>\n",
       "      <td>keep-all</td>\n",
       "      <td>0.686006</td>\n",
       "      <td>0.910813</td>\n",
       "      <td>1.137198</td>\n",
       "      <td>0.90554</td>\n",
       "      <td>0.910739</td>\n",
       "      <td>0.928668</td>\n",
       "      <td>0.881073</td>\n",
       "    </tr>\n",
       "  </tbody>\n",
       "</table>\n",
       "</div>"
      ],
      "text/plain": [
       "                        universe_id universe_training_year  \\\n",
       "0  e47fc9131ed27324c51f3680492c9ed2                2012_14   \n",
       "\n",
       "  universe_training_size universe_scale universe_model  \\\n",
       "0                     5k          scale         logreg   \n",
       "\n",
       "  universe_exclude_features universe_exclude_subgroups     q_hat  coverage  \\\n",
       "0               nationality                   keep-all  0.686006  0.910813   \n",
       "\n",
       "   avg_size  cov_frau1  cov_nongerman  cov_nongerman_male  \\\n",
       "0  1.137198    0.90554       0.910739            0.928668   \n",
       "\n",
       "   cov_nongerman_female  \n",
       "0              0.881073  "
      ]
     },
     "execution_count": 71,
     "metadata": {},
     "output_type": "execute_result"
    }
   ],
   "source": [
    "cp_metrics_df"
   ]
  },
  {
   "cell_type": "markdown",
   "id": "33774451",
   "metadata": {
    "papermill": {
     "duration": 0.013344,
     "end_time": "2025-07-30T20:57:19.978617",
     "exception": false,
     "start_time": "2025-07-30T20:57:19.965273",
     "status": "completed"
    },
    "tags": []
   },
   "source": [
    "# (Fairness) Metrics"
   ]
  },
  {
   "cell_type": "code",
   "execution_count": 72,
   "id": "debc5d62",
   "metadata": {
    "execution": {
     "iopub.execute_input": "2025-07-30T20:57:20.011954Z",
     "iopub.status.busy": "2025-07-30T20:57:20.011112Z",
     "iopub.status.idle": "2025-07-30T20:57:20.034035Z",
     "shell.execute_reply": "2025-07-30T20:57:20.032317Z"
    },
    "papermill": {
     "duration": 0.044181,
     "end_time": "2025-07-30T20:57:20.037034",
     "exception": false,
     "start_time": "2025-07-30T20:57:19.992853",
     "status": "completed"
    },
    "tags": []
   },
   "outputs": [],
   "source": [
    "# do I need to include maxdeutsch1.missing?\n",
    "\n",
    "import numpy as np\n",
    "\n",
    "colname_to_bin = \"maxdeutsch1\"\n",
    "majority_value = org_train[colname_to_bin].mode()[0]\n",
    "\n",
    "org_test[\"majmin\"] = np.where(org_test[colname_to_bin] == majority_value, \"majority\", \"minority\")"
   ]
  },
  {
   "cell_type": "code",
   "execution_count": 73,
   "id": "06a50de5",
   "metadata": {
    "execution": {
     "iopub.execute_input": "2025-07-30T20:57:20.086978Z",
     "iopub.status.busy": "2025-07-30T20:57:20.086635Z",
     "iopub.status.idle": "2025-07-30T20:57:22.410944Z",
     "shell.execute_reply": "2025-07-30T20:57:22.409986Z"
    },
    "papermill": {
     "duration": 2.345286,
     "end_time": "2025-07-30T20:57:22.412912",
     "exception": false,
     "start_time": "2025-07-30T20:57:20.067626",
     "status": "completed"
    },
    "tags": []
   },
   "outputs": [],
   "source": [
    "example_universe = universe.copy()\n",
    "example_universe[\"cutoff\"] = example_universe[\"cutoff\"][0]\n",
    "example_universe[\"eval_fairness_grouping\"] = example_universe[\"eval_fairness_grouping\"][0]\n",
    "fairness_dict, metric_frame = universe_analysis.compute_metrics(\n",
    "    example_universe,\n",
    "    y_pred_prob=probs_test,\n",
    "    y_test=y_true,\n",
    "    org_test=org_test,\n",
    ")"
   ]
  },
  {
   "cell_type": "markdown",
   "id": "f95d4e02",
   "metadata": {
    "papermill": {
     "duration": 0.025568,
     "end_time": "2025-07-30T20:57:22.467273",
     "exception": false,
     "start_time": "2025-07-30T20:57:22.441705",
     "status": "completed"
    },
    "tags": []
   },
   "source": [
    "# Overall"
   ]
  },
  {
   "cell_type": "markdown",
   "id": "bdee4871",
   "metadata": {
    "papermill": {
     "duration": 0.024495,
     "end_time": "2025-07-30T20:57:22.517272",
     "exception": false,
     "start_time": "2025-07-30T20:57:22.492777",
     "status": "completed"
    },
    "tags": []
   },
   "source": [
    "Fairness\n",
    "Main fairness target: Equalized Odds. Seems to be a better fit than equal opportunity, since we're not only interested in Y = 1. Seems to be a better fit than demographic parity, since we also care about accuracy, not just equal distribution of preds.\n",
    "\n",
    "Pick column for computation of fairness metrics\n",
    "\n",
    "Performance\n",
    "Overall performance measures, most interesting in relation to the measures split by group below"
   ]
  },
  {
   "cell_type": "code",
   "execution_count": 74,
   "id": "c4e067c6",
   "metadata": {
    "execution": {
     "iopub.execute_input": "2025-07-30T20:57:22.567695Z",
     "iopub.status.busy": "2025-07-30T20:57:22.567217Z",
     "iopub.status.idle": "2025-07-30T20:57:22.575323Z",
     "shell.execute_reply": "2025-07-30T20:57:22.574438Z"
    },
    "papermill": {
     "duration": 0.035468,
     "end_time": "2025-07-30T20:57:22.576978",
     "exception": false,
     "start_time": "2025-07-30T20:57:22.541510",
     "status": "completed"
    },
    "tags": []
   },
   "outputs": [
    {
     "data": {
      "text/plain": [
       "accuracy                   0.223955\n",
       "balanced accuracy          0.547689\n",
       "f1                         0.245298\n",
       "precision                  0.140131\n",
       "false positive rate        0.887765\n",
       "false negative rate        0.016858\n",
       "selection rate             0.900000\n",
       "count                  89710.000000\n",
       "dtype: float64"
      ]
     },
     "execution_count": 74,
     "metadata": {},
     "output_type": "execute_result"
    }
   ],
   "source": [
    "metric_frame.overall"
   ]
  },
  {
   "cell_type": "markdown",
   "id": "e968fe9d",
   "metadata": {
    "papermill": {
     "duration": 0.026632,
     "end_time": "2025-07-30T20:57:22.629617",
     "exception": false,
     "start_time": "2025-07-30T20:57:22.602985",
     "status": "completed"
    },
    "tags": []
   },
   "source": [
    "By Group"
   ]
  },
  {
   "cell_type": "code",
   "execution_count": 75,
   "id": "ec325bce",
   "metadata": {
    "execution": {
     "iopub.execute_input": "2025-07-30T20:57:22.683906Z",
     "iopub.status.busy": "2025-07-30T20:57:22.683509Z",
     "iopub.status.idle": "2025-07-30T20:57:22.699061Z",
     "shell.execute_reply": "2025-07-30T20:57:22.698140Z"
    },
    "papermill": {
     "duration": 0.044486,
     "end_time": "2025-07-30T20:57:22.700799",
     "exception": false,
     "start_time": "2025-07-30T20:57:22.656313",
     "status": "completed"
    },
    "tags": []
   },
   "outputs": [
    {
     "data": {
      "text/html": [
       "<div>\n",
       "<style scoped>\n",
       "    .dataframe tbody tr th:only-of-type {\n",
       "        vertical-align: middle;\n",
       "    }\n",
       "\n",
       "    .dataframe tbody tr th {\n",
       "        vertical-align: top;\n",
       "    }\n",
       "\n",
       "    .dataframe thead th {\n",
       "        text-align: right;\n",
       "    }\n",
       "</style>\n",
       "<table border=\"1\" class=\"dataframe\">\n",
       "  <thead>\n",
       "    <tr style=\"text-align: right;\">\n",
       "      <th></th>\n",
       "      <th>accuracy</th>\n",
       "      <th>balanced accuracy</th>\n",
       "      <th>f1</th>\n",
       "      <th>precision</th>\n",
       "      <th>false positive rate</th>\n",
       "      <th>false negative rate</th>\n",
       "      <th>selection rate</th>\n",
       "      <th>count</th>\n",
       "    </tr>\n",
       "    <tr>\n",
       "      <th>majmin</th>\n",
       "      <th></th>\n",
       "      <th></th>\n",
       "      <th></th>\n",
       "      <th></th>\n",
       "      <th></th>\n",
       "      <th></th>\n",
       "      <th></th>\n",
       "      <th></th>\n",
       "    </tr>\n",
       "  </thead>\n",
       "  <tbody>\n",
       "    <tr>\n",
       "      <th>majority</th>\n",
       "      <td>0.244210</td>\n",
       "      <td>0.556869</td>\n",
       "      <td>0.255575</td>\n",
       "      <td>0.146908</td>\n",
       "      <td>0.868099</td>\n",
       "      <td>0.018162</td>\n",
       "      <td>0.883129</td>\n",
       "      <td>69170.0</td>\n",
       "    </tr>\n",
       "    <tr>\n",
       "      <th>minority</th>\n",
       "      <td>0.155745</td>\n",
       "      <td>0.517723</td>\n",
       "      <td>0.212524</td>\n",
       "      <td>0.119066</td>\n",
       "      <td>0.952729</td>\n",
       "      <td>0.011824</td>\n",
       "      <td>0.956816</td>\n",
       "      <td>20540.0</td>\n",
       "    </tr>\n",
       "  </tbody>\n",
       "</table>\n",
       "</div>"
      ],
      "text/plain": [
       "          accuracy  balanced accuracy        f1  precision  \\\n",
       "majmin                                                       \n",
       "majority  0.244210           0.556869  0.255575   0.146908   \n",
       "minority  0.155745           0.517723  0.212524   0.119066   \n",
       "\n",
       "          false positive rate  false negative rate  selection rate    count  \n",
       "majmin                                                                       \n",
       "majority             0.868099             0.018162        0.883129  69170.0  \n",
       "minority             0.952729             0.011824        0.956816  20540.0  "
      ]
     },
     "execution_count": 75,
     "metadata": {},
     "output_type": "execute_result"
    }
   ],
   "source": [
    "metric_frame.by_group"
   ]
  },
  {
   "cell_type": "code",
   "execution_count": 76,
   "id": "a9ddbe63",
   "metadata": {
    "execution": {
     "iopub.execute_input": "2025-07-30T20:57:22.755698Z",
     "iopub.status.busy": "2025-07-30T20:57:22.755250Z",
     "iopub.status.idle": "2025-07-30T20:57:25.096007Z",
     "shell.execute_reply": "2025-07-30T20:57:25.095099Z"
    },
    "papermill": {
     "duration": 2.370209,
     "end_time": "2025-07-30T20:57:25.097815",
     "exception": false,
     "start_time": "2025-07-30T20:57:22.727606",
     "status": "completed"
    },
    "tags": []
   },
   "outputs": [
    {
     "data": {
      "text/plain": [
       "array([[<Axes: title={'center': 'accuracy'}, xlabel='majmin'>,\n",
       "        <Axes: title={'center': 'balanced accuracy'}, xlabel='majmin'>,\n",
       "        <Axes: title={'center': 'f1'}, xlabel='majmin'>],\n",
       "       [<Axes: title={'center': 'precision'}, xlabel='majmin'>,\n",
       "        <Axes: title={'center': 'false positive rate'}, xlabel='majmin'>,\n",
       "        <Axes: title={'center': 'false negative rate'}, xlabel='majmin'>],\n",
       "       [<Axes: title={'center': 'selection rate'}, xlabel='majmin'>,\n",
       "        <Axes: title={'center': 'count'}, xlabel='majmin'>,\n",
       "        <Axes: xlabel='majmin'>]], dtype=object)"
      ]
     },
     "execution_count": 76,
     "metadata": {},
     "output_type": "execute_result"
    },
    {
     "data": {
      "image/png": "[encoded data removed]",
      "text/plain": [
       "<Figure size 1200x800 with 9 Axes>"
      ]
     },
     "metadata": {},
     "output_type": "display_data"
    }
   ],
   "source": [
    "# In a graphic\n",
    "metric_frame.by_group.plot.bar(\n",
    "    subplots=True,\n",
    "    layout=[3, 3],\n",
    "    legend=False,\n",
    "    figsize=[12, 8],\n",
    "    title=\"Show all metrics\",\n",
    ")"
   ]
  },
  {
   "cell_type": "markdown",
   "id": "f57a0bac",
   "metadata": {
    "papermill": {
     "duration": 0.026067,
     "end_time": "2025-07-30T20:57:25.151040",
     "exception": false,
     "start_time": "2025-07-30T20:57:25.124973",
     "status": "completed"
    },
    "tags": []
   },
   "source": [
    "# Final Output"
   ]
  },
  {
   "cell_type": "code",
   "execution_count": 77,
   "id": "96d280a3",
   "metadata": {
    "execution": {
     "iopub.execute_input": "2025-07-30T20:57:25.205763Z",
     "iopub.status.busy": "2025-07-30T20:57:25.204924Z",
     "iopub.status.idle": "2025-07-30T20:57:25.213008Z",
     "shell.execute_reply": "2025-07-30T20:57:25.212117Z"
    },
    "papermill": {
     "duration": 0.036984,
     "end_time": "2025-07-30T20:57:25.214478",
     "exception": false,
     "start_time": "2025-07-30T20:57:25.177494",
     "status": "completed"
    },
    "tags": []
   },
   "outputs": [
    {
     "data": {
      "text/plain": [
       "4"
      ]
     },
     "execution_count": 77,
     "metadata": {},
     "output_type": "execute_result"
    }
   ],
   "source": [
    "sub_universes = universe_analysis.generate_sub_universes()\n",
    "len(sub_universes)"
   ]
  },
  {
   "cell_type": "code",
   "execution_count": 78,
   "id": "92adf7ba",
   "metadata": {
    "execution": {
     "iopub.execute_input": "2025-07-30T20:57:25.270191Z",
     "iopub.status.busy": "2025-07-30T20:57:25.269326Z",
     "iopub.status.idle": "2025-07-30T20:57:25.275408Z",
     "shell.execute_reply": "2025-07-30T20:57:25.274521Z"
    },
    "papermill": {
     "duration": 0.035753,
     "end_time": "2025-07-30T20:57:25.277221",
     "exception": false,
     "start_time": "2025-07-30T20:57:25.241468",
     "status": "completed"
    },
    "tags": []
   },
   "outputs": [],
   "source": [
    "def filter_sub_universe_data(sub_universe, org_test):\n",
    "    # Keep all rows — no filtering\n",
    "    keep_rows_mask = np.ones(org_test.shape[0], dtype=bool)\n",
    "\n",
    "    print(f\"[INFO] Keeping all rows: {keep_rows_mask.sum()} rows retained.\")\n",
    "    return keep_rows_mask"
   ]
  },
  {
   "cell_type": "code",
   "execution_count": 79,
   "id": "4a759155",
   "metadata": {
    "execution": {
     "iopub.execute_input": "2025-07-30T20:57:25.332550Z",
     "iopub.status.busy": "2025-07-30T20:57:25.331874Z",
     "iopub.status.idle": "2025-07-30T20:57:36.576698Z",
     "shell.execute_reply": "2025-07-30T20:57:36.575391Z"
    },
    "papermill": {
     "duration": 11.274835,
     "end_time": "2025-07-30T20:57:36.578975",
     "exception": false,
     "start_time": "2025-07-30T20:57:25.304140",
     "status": "completed"
    },
    "tags": []
   },
   "outputs": [
    {
     "name": "stdout",
     "output_type": "stream",
     "text": [
      "Stopping execution_time clock.\n",
      "[INFO] Keeping all rows: 89710 rows retained.\n"
     ]
    },
    {
     "name": "stdout",
     "output_type": "stream",
     "text": [
      "[INFO] Keeping all rows: 89710 rows retained.\n"
     ]
    },
    {
     "name": "stdout",
     "output_type": "stream",
     "text": [
      "[INFO] Keeping all rows: 89710 rows retained.\n"
     ]
    },
    {
     "name": "stdout",
     "output_type": "stream",
     "text": [
      "[INFO] Keeping all rows: 89710 rows retained.\n"
     ]
    },
    {
     "data": {
      "text/html": [
       "<div>\n",
       "<style scoped>\n",
       "    .dataframe tbody tr th:only-of-type {\n",
       "        vertical-align: middle;\n",
       "    }\n",
       "\n",
       "    .dataframe tbody tr th {\n",
       "        vertical-align: top;\n",
       "    }\n",
       "\n",
       "    .dataframe thead th {\n",
       "        text-align: right;\n",
       "    }\n",
       "</style>\n",
       "<table border=\"1\" class=\"dataframe\">\n",
       "  <thead>\n",
       "    <tr style=\"text-align: right;\">\n",
       "      <th></th>\n",
       "      <th>run_no</th>\n",
       "      <th>universe_id</th>\n",
       "      <th>universe_settings</th>\n",
       "      <th>execution_time</th>\n",
       "      <th>test_size_n</th>\n",
       "      <th>test_size_frac</th>\n",
       "      <th>fair_main_equalized_odds_difference</th>\n",
       "      <th>fair_main_equalized_odds_ratio</th>\n",
       "      <th>fair_main_demographic_parity_difference</th>\n",
       "      <th>fair_main_demographic_parity_ratio</th>\n",
       "      <th>...</th>\n",
       "      <th>perf_grp_precision_0</th>\n",
       "      <th>perf_grp_precision_1</th>\n",
       "      <th>perf_grp_false positive rate_0</th>\n",
       "      <th>perf_grp_false positive rate_1</th>\n",
       "      <th>perf_grp_false negative rate_0</th>\n",
       "      <th>perf_grp_false negative rate_1</th>\n",
       "      <th>perf_grp_selection rate_0</th>\n",
       "      <th>perf_grp_selection rate_1</th>\n",
       "      <th>perf_grp_count_0</th>\n",
       "      <th>perf_grp_count_1</th>\n",
       "    </tr>\n",
       "  </thead>\n",
       "  <tbody>\n",
       "    <tr>\n",
       "      <th>0</th>\n",
       "      <td>14</td>\n",
       "      <td>e47fc9131ed27324c51f3680492c9ed2</td>\n",
       "      <td>{\"cutoff\": \"quantile_0.1\", \"eval_fairness_grou...</td>\n",
       "      <td>26.660642</td>\n",
       "      <td>89710</td>\n",
       "      <td>1.0</td>\n",
       "      <td>0.08463</td>\n",
       "      <td>0.911171</td>\n",
       "      <td>0.073687</td>\n",
       "      <td>0.922987</td>\n",
       "      <td>...</td>\n",
       "      <td>NaN</td>\n",
       "      <td>NaN</td>\n",
       "      <td>NaN</td>\n",
       "      <td>NaN</td>\n",
       "      <td>NaN</td>\n",
       "      <td>NaN</td>\n",
       "      <td>NaN</td>\n",
       "      <td>NaN</td>\n",
       "      <td>NaN</td>\n",
       "      <td>NaN</td>\n",
       "    </tr>\n",
       "    <tr>\n",
       "      <th>0</th>\n",
       "      <td>14</td>\n",
       "      <td>e47fc9131ed27324c51f3680492c9ed2</td>\n",
       "      <td>{\"cutoff\": \"quantile_0.1\", \"eval_fairness_grou...</td>\n",
       "      <td>26.660642</td>\n",
       "      <td>89710</td>\n",
       "      <td>1.0</td>\n",
       "      <td>0.08463</td>\n",
       "      <td>0.911171</td>\n",
       "      <td>0.073687</td>\n",
       "      <td>0.922987</td>\n",
       "      <td>...</td>\n",
       "      <td>0.119066</td>\n",
       "      <td>0.146908</td>\n",
       "      <td>0.952729</td>\n",
       "      <td>0.868099</td>\n",
       "      <td>0.011824</td>\n",
       "      <td>0.018162</td>\n",
       "      <td>0.956816</td>\n",
       "      <td>0.883129</td>\n",
       "      <td>20540.0</td>\n",
       "      <td>69170.0</td>\n",
       "    </tr>\n",
       "    <tr>\n",
       "      <th>0</th>\n",
       "      <td>14</td>\n",
       "      <td>e47fc9131ed27324c51f3680492c9ed2</td>\n",
       "      <td>{\"cutoff\": \"quantile_0.25\", \"eval_fairness_gro...</td>\n",
       "      <td>26.660642</td>\n",
       "      <td>89710</td>\n",
       "      <td>1.0</td>\n",
       "      <td>0.16345</td>\n",
       "      <td>0.807254</td>\n",
       "      <td>0.142646</td>\n",
       "      <td>0.834128</td>\n",
       "      <td>...</td>\n",
       "      <td>NaN</td>\n",
       "      <td>NaN</td>\n",
       "      <td>NaN</td>\n",
       "      <td>NaN</td>\n",
       "      <td>NaN</td>\n",
       "      <td>NaN</td>\n",
       "      <td>NaN</td>\n",
       "      <td>NaN</td>\n",
       "      <td>NaN</td>\n",
       "      <td>NaN</td>\n",
       "    </tr>\n",
       "    <tr>\n",
       "      <th>0</th>\n",
       "      <td>14</td>\n",
       "      <td>e47fc9131ed27324c51f3680492c9ed2</td>\n",
       "      <td>{\"cutoff\": \"quantile_0.25\", \"eval_fairness_gro...</td>\n",
       "      <td>26.660642</td>\n",
       "      <td>89710</td>\n",
       "      <td>1.0</td>\n",
       "      <td>0.16345</td>\n",
       "      <td>0.807254</td>\n",
       "      <td>0.142646</td>\n",
       "      <td>0.834128</td>\n",
       "      <td>...</td>\n",
       "      <td>0.127604</td>\n",
       "      <td>0.171792</td>\n",
       "      <td>0.848008</td>\n",
       "      <td>0.684558</td>\n",
       "      <td>0.048142</td>\n",
       "      <td>0.067396</td>\n",
       "      <td>0.859981</td>\n",
       "      <td>0.717334</td>\n",
       "      <td>20540.0</td>\n",
       "      <td>69170.0</td>\n",
       "    </tr>\n",
       "  </tbody>\n",
       "</table>\n",
       "<p>4 rows × 50 columns</p>\n",
       "</div>"
      ],
      "text/plain": [
       "  run_no                       universe_id  \\\n",
       "0     14  e47fc9131ed27324c51f3680492c9ed2   \n",
       "0     14  e47fc9131ed27324c51f3680492c9ed2   \n",
       "0     14  e47fc9131ed27324c51f3680492c9ed2   \n",
       "0     14  e47fc9131ed27324c51f3680492c9ed2   \n",
       "\n",
       "                                   universe_settings  execution_time  \\\n",
       "0  {\"cutoff\": \"quantile_0.1\", \"eval_fairness_grou...       26.660642   \n",
       "0  {\"cutoff\": \"quantile_0.1\", \"eval_fairness_grou...       26.660642   \n",
       "0  {\"cutoff\": \"quantile_0.25\", \"eval_fairness_gro...       26.660642   \n",
       "0  {\"cutoff\": \"quantile_0.25\", \"eval_fairness_gro...       26.660642   \n",
       "\n",
       "   test_size_n  test_size_frac  fair_main_equalized_odds_difference  \\\n",
       "0        89710             1.0                              0.08463   \n",
       "0        89710             1.0                              0.08463   \n",
       "0        89710             1.0                              0.16345   \n",
       "0        89710             1.0                              0.16345   \n",
       "\n",
       "   fair_main_equalized_odds_ratio  fair_main_demographic_parity_difference  \\\n",
       "0                        0.911171                                 0.073687   \n",
       "0                        0.911171                                 0.073687   \n",
       "0                        0.807254                                 0.142646   \n",
       "0                        0.807254                                 0.142646   \n",
       "\n",
       "   fair_main_demographic_parity_ratio  ...  perf_grp_precision_0  \\\n",
       "0                            0.922987  ...                   NaN   \n",
       "0                            0.922987  ...              0.119066   \n",
       "0                            0.834128  ...                   NaN   \n",
       "0                            0.834128  ...              0.127604   \n",
       "\n",
       "   perf_grp_precision_1  perf_grp_false positive rate_0  \\\n",
       "0                   NaN                             NaN   \n",
       "0              0.146908                        0.952729   \n",
       "0                   NaN                             NaN   \n",
       "0              0.171792                        0.848008   \n",
       "\n",
       "   perf_grp_false positive rate_1  perf_grp_false negative rate_0  \\\n",
       "0                             NaN                             NaN   \n",
       "0                        0.868099                        0.011824   \n",
       "0                             NaN                             NaN   \n",
       "0                        0.684558                        0.048142   \n",
       "\n",
       "   perf_grp_false negative rate_1  perf_grp_selection rate_0  \\\n",
       "0                             NaN                        NaN   \n",
       "0                        0.018162                   0.956816   \n",
       "0                             NaN                        NaN   \n",
       "0                        0.067396                   0.859981   \n",
       "\n",
       "   perf_grp_selection rate_1  perf_grp_count_0  perf_grp_count_1  \n",
       "0                        NaN               NaN               NaN  \n",
       "0                   0.883129           20540.0           69170.0  \n",
       "0                        NaN               NaN               NaN  \n",
       "0                   0.717334           20540.0           69170.0  \n",
       "\n",
       "[4 rows x 50 columns]"
      ]
     },
     "execution_count": 79,
     "metadata": {},
     "output_type": "execute_result"
    }
   ],
   "source": [
    "final_output = universe_analysis.generate_final_output(\n",
    "    y_pred_prob=probs_test,\n",
    "    y_test=y_true,\n",
    "    org_test=org_test,\n",
    "    filter_data=filter_sub_universe_data,\n",
    "    cp_metrics_df=cp_metrics_df,\n",
    "    save=True,\n",
    ")\n",
    "final_output"
   ]
  },
  {
   "cell_type": "code",
   "execution_count": null,
   "id": "721ff514-cb11-46f8-b6fc-50392f74b5cb",
   "metadata": {
    "papermill": {
     "duration": 0.038873,
     "end_time": "2025-07-30T20:57:36.663084",
     "exception": false,
     "start_time": "2025-07-30T20:57:36.624211",
     "status": "completed"
    },
    "tags": []
   },
   "outputs": [],
   "source": []
  }
 ],
 "metadata": {
  "celltoolbar": "Tags",
  "kernelspec": {
   "display_name": "Python (CMA Fairness)",
   "language": "python",
   "name": "cma_fair_env"
  },
  "language_info": {
   "codemirror_mode": {
    "name": "ipython",
    "version": 3
   },
   "file_extension": ".py",
   "mimetype": "text/x-python",
   "name": "python",
   "nbconvert_exporter": "python",
   "pygments_lexer": "ipython3",
   "version": "3.10.12"
  },
  "papermill": {
   "default_parameters": {},
   "duration": 42.281746,
   "end_time": "2025-07-30T20:57:37.516902",
   "environment_variables": {},
   "exception": null,
   "input_path": "universe_analysis.ipynb",
   "output_path": "output/runs/14/notebooks/m_14-e47fc9131ed27324c51f3680492c9ed2.ipynb",
   "parameters": {
    "output_dir": "output",
    "run_no": "14",
    "seed": "2023",
    "universe": "{\"cutoff\": [\"quantile_0.1\", \"quantile_0.25\"], \"eval_fairness_grouping\": [\"majority-minority\", \"nationality-all\"], \"exclude_features\": \"nationality\", \"exclude_subgroups\": \"keep-all\", \"model\": \"logreg\", \"scale\": \"scale\", \"training_size\": \"5k\", \"training_year\": \"2012_14\"}",
    "universe_id": "e47fc9131ed27324c51f3680492c9ed2"
   },
   "start_time": "2025-07-30T20:56:55.235156",
   "version": "2.6.0"
  }
 },
 "nbformat": 4,
 "nbformat_minor": 5
}