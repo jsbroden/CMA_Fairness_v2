{
 "cells": [
  {
   "cell_type": "code",
   "execution_count": 1,
   "id": "f159f837-637b-42ba-96b5-ec9a68c44524",
   "metadata": {
    "execution": {
     "iopub.execute_input": "2025-07-30T20:51:35.772619Z",
     "iopub.status.busy": "2025-07-30T20:51:35.772113Z",
     "iopub.status.idle": "2025-07-30T20:51:35.786059Z",
     "shell.execute_reply": "2025-07-30T20:51:35.785014Z"
    },
    "papermill": {
     "duration": 0.036867,
     "end_time": "2025-07-30T20:51:35.787918",
     "exception": false,
     "start_time": "2025-07-30T20:51:35.751051",
     "status": "completed"
    },
    "tags": []
   },
   "outputs": [
    {
     "name": "stdout",
     "output_type": "stream",
     "text": [
      "/dss/dsshome1/0C/ra93lal2/cma/CMA_Fairness_v2\n"
     ]
    },
    {
     "name": "stderr",
     "output_type": "stream",
     "text": [
      "/dss/dsshome1/0C/ra93lal2/.local/share/virtualenvs/CMA_Fairness_v2-3j10GkSs/lib/python3.10/site-packages/IPython/core/magics/osm.py:393: UserWarning: This is now an optional IPython functionality, using bookmarks requires you to install the `pickleshare` library.\n",
      "  bkms = self.shell.db.get('bookmarks', {})\n",
      "/dss/dsshome1/0C/ra93lal2/.local/share/virtualenvs/CMA_Fairness_v2-3j10GkSs/lib/python3.10/site-packages/IPython/core/magics/osm.py:417: UserWarning: This is now an optional IPython functionality, setting dhist requires you to install the `pickleshare` library.\n",
      "  self.shell.db['dhist'] = compress_dhist(dhist)[-100:]\n"
     ]
    }
   ],
   "source": [
    "%cd ~/cma/CMA_Fairness_v2"
   ]
  },
  {
   "cell_type": "markdown",
   "id": "de2603b9",
   "metadata": {
    "papermill": {
     "duration": 0.019363,
     "end_time": "2025-07-30T20:51:35.828714",
     "exception": false,
     "start_time": "2025-07-30T20:51:35.809351",
     "status": "completed"
    },
    "tags": []
   },
   "source": [
    "The following cell holds the definition of our parameters, these values can be overriden by rendering the with e.g. the following command:\n",
    "\n",
    "papermill -p alpha 0.2 -p ratio 0.3 universe_analysis.ipynb output/test_run.ipynb"
   ]
  },
  {
   "cell_type": "code",
   "execution_count": 2,
   "id": "a80968a0-40bb-4fa9-85ef-2d5eefb01975",
   "metadata": {
    "execution": {
     "iopub.execute_input": "2025-07-30T20:51:35.868799Z",
     "iopub.status.busy": "2025-07-30T20:51:35.868312Z",
     "iopub.status.idle": "2025-07-30T20:51:35.874202Z",
     "shell.execute_reply": "2025-07-30T20:51:35.873094Z"
    },
    "papermill": {
     "duration": 0.027993,
     "end_time": "2025-07-30T20:51:35.875991",
     "exception": false,
     "start_time": "2025-07-30T20:51:35.847998",
     "status": "completed"
    },
    "tags": []
   },
   "outputs": [
    {
     "name": "stdout",
     "output_type": "stream",
     "text": [
      "Current working directory: /dss/dsshome1/0C/ra93lal2/cma/CMA_Fairness_v2\n"
     ]
    }
   ],
   "source": [
    "import os\n",
    "print(\"Current working directory:\", os.getcwd())"
   ]
  },
  {
   "cell_type": "code",
   "execution_count": 3,
   "id": "2dce4c03",
   "metadata": {
    "execution": {
     "iopub.execute_input": "2025-07-30T20:51:35.917198Z",
     "iopub.status.busy": "2025-07-30T20:51:35.916772Z",
     "iopub.status.idle": "2025-07-30T20:51:35.921307Z",
     "shell.execute_reply": "2025-07-30T20:51:35.920638Z"
    },
    "papermill": {
     "duration": 0.02504,
     "end_time": "2025-07-30T20:51:35.922694",
     "exception": false,
     "start_time": "2025-07-30T20:51:35.897654",
     "status": "completed"
    },
    "tags": [
     "parameters"
    ]
   },
   "outputs": [],
   "source": [
    "run_no = 0\n",
    "universe_id = \"test\"\n",
    "universe = {\n",
    "    \"training_size\": \"25k\", # \"25k\", \"5k\", \"1k\"\n",
    "    \"training_year\": \"2014\", # \"2014\", \"2012_14\", \"2010_14\"\n",
    "    \"scale\": \"scale\", # \"scale\", \"do-not-scale\",\n",
    "    #\"stratify_split\": \"target\", # \"none\", \"target\", \"protected-attribute\", \"both\",\n",
    "    \"model\": \"elasticnet\", # \"logreg\", \"penalized_logreg\", \"rf\", \"gbm\", \"elasticnet\"\n",
    "    \"cutoff\": [\"quantile_0.15\", \"quantile_0.30\"],\n",
    "    \"exclude_features\": \"age\", # \"none\", \"nationality\", \"sex\", \"nationality-sex\", \"age\"\n",
    "    \"exclude_subgroups\": \"keep-all\", # \"keep-all\", \"drop-non-german\"\n",
    "    \"eval_fairness_grouping\": [\"majority-minority\", \"nationality-all\"]\n",
    "}\n",
    "\n",
    "output_dir=\"./output\"\n",
    "seed=0"
   ]
  },
  {
   "cell_type": "code",
   "execution_count": 4,
   "id": "39298e86",
   "metadata": {
    "execution": {
     "iopub.execute_input": "2025-07-30T20:51:35.944835Z",
     "iopub.status.busy": "2025-07-30T20:51:35.944628Z",
     "iopub.status.idle": "2025-07-30T20:51:35.948624Z",
     "shell.execute_reply": "2025-07-30T20:51:35.947808Z"
    },
    "papermill": {
     "duration": 0.016423,
     "end_time": "2025-07-30T20:51:35.949771",
     "exception": false,
     "start_time": "2025-07-30T20:51:35.933348",
     "status": "completed"
    },
    "tags": [
     "injected-parameters"
    ]
   },
   "outputs": [],
   "source": [
    "# Parameters\n",
    "universe_id = \"876d35cfdafd654037f16ffa9789291b\"\n",
    "run_no = \"14\"\n",
    "universe = \"{\\\"cutoff\\\": [\\\"quantile_0.1\\\", \\\"quantile_0.25\\\"], \\\"eval_fairness_grouping\\\": [\\\"majority-minority\\\", \\\"nationality-all\\\"], \\\"exclude_features\\\": \\\"nationality\\\", \\\"exclude_subgroups\\\": \\\"keep-all\\\", \\\"model\\\": \\\"penalized_logreg\\\", \\\"scale\\\": \\\"do-not-scale\\\", \\\"training_size\\\": \\\"5k\\\", \\\"training_year\\\": \\\"2014\\\"}\"\n",
    "output_dir = \"output\"\n",
    "seed = \"2023\"\n"
   ]
  },
  {
   "cell_type": "code",
   "execution_count": 5,
   "id": "1650acaf",
   "metadata": {
    "execution": {
     "iopub.execute_input": "2025-07-30T20:51:35.972306Z",
     "iopub.status.busy": "2025-07-30T20:51:35.971823Z",
     "iopub.status.idle": "2025-07-30T20:51:35.976534Z",
     "shell.execute_reply": "2025-07-30T20:51:35.975370Z"
    },
    "papermill": {
     "duration": 0.017212,
     "end_time": "2025-07-30T20:51:35.978159",
     "exception": false,
     "start_time": "2025-07-30T20:51:35.960947",
     "status": "completed"
    },
    "tags": []
   },
   "outputs": [],
   "source": [
    "import json\n",
    "# Parse universe into dict if it is passed as a string\n",
    "if isinstance(universe, str):\n",
    "    universe = json.loads(universe)"
   ]
  },
  {
   "cell_type": "code",
   "execution_count": 6,
   "id": "16620c48",
   "metadata": {
    "execution": {
     "iopub.execute_input": "2025-07-30T20:51:36.024850Z",
     "iopub.status.busy": "2025-07-30T20:51:36.023866Z",
     "iopub.status.idle": "2025-07-30T20:51:36.071664Z",
     "shell.execute_reply": "2025-07-30T20:51:36.070578Z"
    },
    "papermill": {
     "duration": 0.074229,
     "end_time": "2025-07-30T20:51:36.073515",
     "exception": false,
     "start_time": "2025-07-30T20:51:35.999286",
     "status": "completed"
    },
    "tags": []
   },
   "outputs": [],
   "source": [
    "# Auto-reload the custom package\n",
    "%load_ext autoreload\n",
    "%autoreload 1\n",
    "%aimport fairness_multiverse"
   ]
  },
  {
   "cell_type": "code",
   "execution_count": 7,
   "id": "01c5c9f3",
   "metadata": {
    "execution": {
     "iopub.execute_input": "2025-07-30T20:51:36.118849Z",
     "iopub.status.busy": "2025-07-30T20:51:36.117909Z",
     "iopub.status.idle": "2025-07-30T20:51:37.820003Z",
     "shell.execute_reply": "2025-07-30T20:51:37.819090Z"
    },
    "papermill": {
     "duration": 1.726169,
     "end_time": "2025-07-30T20:51:37.821606",
     "exception": false,
     "start_time": "2025-07-30T20:51:36.095437",
     "status": "completed"
    },
    "tags": []
   },
   "outputs": [],
   "source": [
    "from fairness_multiverse.universe import UniverseAnalysis\n",
    "\n",
    "universe_analysis = UniverseAnalysis(\n",
    "    run_no = run_no,\n",
    "    universe_id = universe_id,\n",
    "    universe = universe,\n",
    "    output_dir=output_dir,\n",
    ")"
   ]
  },
  {
   "cell_type": "code",
   "execution_count": 8,
   "id": "106241f5",
   "metadata": {
    "execution": {
     "iopub.execute_input": "2025-07-30T20:51:37.845269Z",
     "iopub.status.busy": "2025-07-30T20:51:37.844911Z",
     "iopub.status.idle": "2025-07-30T20:51:37.851140Z",
     "shell.execute_reply": "2025-07-30T20:51:37.850024Z"
    },
    "papermill": {
     "duration": 0.019124,
     "end_time": "2025-07-30T20:51:37.852725",
     "exception": false,
     "start_time": "2025-07-30T20:51:37.833601",
     "status": "completed"
    },
    "tags": []
   },
   "outputs": [
    {
     "name": "stdout",
     "output_type": "stream",
     "text": [
      "Using Seed: 2023\n"
     ]
    }
   ],
   "source": [
    "import numpy as np\n",
    "parsed_seed = int(seed)\n",
    "np.random.seed(parsed_seed)\n",
    "print(f\"Using Seed: {parsed_seed}\")"
   ]
  },
  {
   "cell_type": "markdown",
   "id": "e0ebdc57",
   "metadata": {
    "papermill": {
     "duration": 0.020393,
     "end_time": "2025-07-30T20:51:37.885360",
     "exception": false,
     "start_time": "2025-07-30T20:51:37.864967",
     "status": "completed"
    },
    "tags": []
   },
   "source": [
    "# Loading Data"
   ]
  },
  {
   "cell_type": "markdown",
   "id": "681925a3",
   "metadata": {
    "papermill": {
     "duration": 0.019819,
     "end_time": "2025-07-30T20:51:37.924817",
     "exception": false,
     "start_time": "2025-07-30T20:51:37.904998",
     "status": "completed"
    },
    "tags": []
   },
   "source": [
    "Load siab_train, siab_test, siab_calib and/or \n",
    "load siab_train_features, siab_train_labels"
   ]
  },
  {
   "cell_type": "code",
   "execution_count": 9,
   "id": "f0496b8a",
   "metadata": {
    "execution": {
     "iopub.execute_input": "2025-07-30T20:51:37.959284Z",
     "iopub.status.busy": "2025-07-30T20:51:37.958895Z",
     "iopub.status.idle": "2025-07-30T20:51:48.158120Z",
     "shell.execute_reply": "2025-07-30T20:51:48.157135Z"
    },
    "papermill": {
     "duration": 10.214688,
     "end_time": "2025-07-30T20:51:48.159435",
     "exception": false,
     "start_time": "2025-07-30T20:51:37.944747",
     "status": "completed"
    },
    "tags": []
   },
   "outputs": [
    {
     "name": "stdout",
     "output_type": "stream",
     "text": [
      "Loading SIAB data from cache: data/siab_cached.csv.gz\n"
     ]
    },
    {
     "name": "stdout",
     "output_type": "stream",
     "text": [
      "(643690, 164)\n"
     ]
    }
   ],
   "source": [
    "from pathlib import Path\n",
    "import pandas as pd\n",
    "\n",
    "# File paths\n",
    "raw_file = Path(\"data/raw/siab.csv\")\n",
    "cache_file = Path(\"data/siab_cached.csv.gz\")\n",
    "\n",
    "# Ensure cache directory exists\n",
    "cache_file.parent.mkdir(parents=True, exist_ok=True)\n",
    "\n",
    "# Load with simple caching\n",
    "if cache_file.exists():\n",
    "    print(f\"Loading SIAB data from cache: {cache_file}\")\n",
    "    siab = pd.read_csv(cache_file, compression='gzip')\n",
    "else:\n",
    "    print(f\"Cache not found. Reading raw SIAB data: {raw_file}\")\n",
    "    siab = pd.read_csv(raw_file)\n",
    "    siab.to_csv(cache_file, index=False, compression='gzip')\n",
    "    print(f\"Cached SIAB data to: {cache_file}\")\n",
    "\n",
    "# Now use `siab` DataFrame as needed\n",
    "print(siab.shape)"
   ]
  },
  {
   "cell_type": "code",
   "execution_count": 10,
   "id": "db0ca512-5f53-4dba-abdb-a2888bca41ba",
   "metadata": {
    "execution": {
     "iopub.execute_input": "2025-07-30T20:51:48.185098Z",
     "iopub.status.busy": "2025-07-30T20:51:48.184529Z",
     "iopub.status.idle": "2025-07-30T20:51:48.194134Z",
     "shell.execute_reply": "2025-07-30T20:51:48.193234Z"
    },
    "papermill": {
     "duration": 0.02303,
     "end_time": "2025-07-30T20:51:48.195784",
     "exception": false,
     "start_time": "2025-07-30T20:51:48.172754",
     "status": "completed"
    },
    "tags": []
   },
   "outputs": [],
   "source": [
    "#siab"
   ]
  },
  {
   "cell_type": "code",
   "execution_count": 11,
   "id": "a0edb063",
   "metadata": {
    "execution": {
     "iopub.execute_input": "2025-07-30T20:51:48.243884Z",
     "iopub.status.busy": "2025-07-30T20:51:48.242977Z",
     "iopub.status.idle": "2025-07-30T20:51:48.248433Z",
     "shell.execute_reply": "2025-07-30T20:51:48.247317Z"
    },
    "papermill": {
     "duration": 0.031085,
     "end_time": "2025-07-30T20:51:48.250905",
     "exception": false,
     "start_time": "2025-07-30T20:51:48.219820",
     "status": "completed"
    },
    "tags": []
   },
   "outputs": [],
   "source": [
    "#import pandas as pd\n",
    "#\n",
    "#X_train = pd.read_csv(\"./data/X_train.csv\")\n",
    "#y_train = pd.read_csv(\"./data/y_train.csv\")"
   ]
  },
  {
   "cell_type": "code",
   "execution_count": 12,
   "id": "63d08085",
   "metadata": {
    "execution": {
     "iopub.execute_input": "2025-07-30T20:51:48.297183Z",
     "iopub.status.busy": "2025-07-30T20:51:48.296332Z",
     "iopub.status.idle": "2025-07-30T20:51:48.301324Z",
     "shell.execute_reply": "2025-07-30T20:51:48.300545Z"
    },
    "papermill": {
     "duration": 0.029888,
     "end_time": "2025-07-30T20:51:48.303483",
     "exception": false,
     "start_time": "2025-07-30T20:51:48.273595",
     "status": "completed"
    },
    "tags": []
   },
   "outputs": [],
   "source": [
    "#X_test = pd.read_csv(\"./data/X_test.csv\")\n",
    "#y_true = pd.read_csv(\"./data/y_test.csv\")"
   ]
  },
  {
   "cell_type": "code",
   "execution_count": 13,
   "id": "98a8d0fa-1d3d-4ed8-bb2c-281470e24add",
   "metadata": {
    "execution": {
     "iopub.execute_input": "2025-07-30T20:51:48.347734Z",
     "iopub.status.busy": "2025-07-30T20:51:48.346978Z",
     "iopub.status.idle": "2025-07-30T20:51:48.352263Z",
     "shell.execute_reply": "2025-07-30T20:51:48.351294Z"
    },
    "papermill": {
     "duration": 0.028488,
     "end_time": "2025-07-30T20:51:48.354008",
     "exception": false,
     "start_time": "2025-07-30T20:51:48.325520",
     "status": "completed"
    },
    "tags": []
   },
   "outputs": [],
   "source": [
    "# Calibration data for conformal\n",
    "#X_calib = pd.read_csv(\"./data/X_calib.csv\")\n",
    "#y_calib = pd.read_csv(\"./data/y_calib.csv\")"
   ]
  },
  {
   "cell_type": "markdown",
   "id": "997051c5-15bd-4b69-9786-c3001a3ce484",
   "metadata": {
    "papermill": {
     "duration": 0.020385,
     "end_time": "2025-07-30T20:51:48.396483",
     "exception": false,
     "start_time": "2025-07-30T20:51:48.376098",
     "status": "completed"
    },
    "tags": []
   },
   "source": [
    "# Splitting Data and Setting Training Data Size"
   ]
  },
  {
   "cell_type": "code",
   "execution_count": 14,
   "id": "e993b61f-042d-41a6-8c81-f55681f86335",
   "metadata": {
    "execution": {
     "iopub.execute_input": "2025-07-30T20:51:48.440667Z",
     "iopub.status.busy": "2025-07-30T20:51:48.440159Z",
     "iopub.status.idle": "2025-07-30T20:51:48.460194Z",
     "shell.execute_reply": "2025-07-30T20:51:48.458997Z"
    },
    "papermill": {
     "duration": 0.04505,
     "end_time": "2025-07-30T20:51:48.461886",
     "exception": false,
     "start_time": "2025-07-30T20:51:48.416836",
     "status": "completed"
    },
    "tags": []
   },
   "outputs": [],
   "source": [
    "def sample_by_year_size(df,\n",
    "                        training_year: str,\n",
    "                        training_size: str,\n",
    "                        random_state: int = 42):\n",
    "    # --- parse training_year into a list of int years ---\n",
    "    if \"_\" in training_year:\n",
    "        start_str, end_str = training_year.split(\"_\", 1)\n",
    "        start = int(start_str)\n",
    "        end   = int(end_str) if len(end_str) == 4 else (int(end_str) + (start // 100)*100)\n",
    "        years = list(range(start, end + 1))\n",
    "    else:\n",
    "        years = [int(training_year)]\n",
    "\n",
    "    df = df[df[\"year\"].isin(years)].reset_index(drop=True)\n",
    "\n",
    "    # --- map training_size to total number of samples ---\n",
    "    total_map = {\"25k\": 25_000, \"5k\": 5_000, \"1k\": 1_000}\n",
    "    if training_size not in total_map:\n",
    "        return df  # e.g. \"all\"\n",
    "\n",
    "    total_samples = total_map[training_size]\n",
    "    n_years       = len(years)\n",
    "    base          = total_samples // n_years\n",
    "    remainder     = total_samples % n_years\n",
    "\n",
    "    # --- build a dict: year -> how many to sample ---\n",
    "    # give +1 to the first `remainder` years in ascending order\n",
    "    quotas = {\n",
    "        year: base + (1 if idx < remainder else 0)\n",
    "        for idx, year in enumerate(sorted(years))\n",
    "    }\n",
    "\n",
    "    # --- sample per‐year according to the quota dict ---\n",
    "    sampled = (\n",
    "        df\n",
    "        .groupby(\"year\", group_keys=False)\n",
    "        .apply(lambda grp: grp.sample(\n",
    "            n=min(len(grp), quotas[grp.name]),\n",
    "            random_state=random_state))\n",
    "        .reset_index(drop=True)\n",
    "    )\n",
    "\n",
    "    return sampled"
   ]
  },
  {
   "cell_type": "code",
   "execution_count": 15,
   "id": "c0ccd338-0e02-41f3-a09d-f56f9266e3fb",
   "metadata": {
    "execution": {
     "iopub.execute_input": "2025-07-30T20:51:48.508667Z",
     "iopub.status.busy": "2025-07-30T20:51:48.507780Z",
     "iopub.status.idle": "2025-07-30T20:51:48.514407Z",
     "shell.execute_reply": "2025-07-30T20:51:48.513269Z"
    },
    "papermill": {
     "duration": 0.032877,
     "end_time": "2025-07-30T20:51:48.516256",
     "exception": false,
     "start_time": "2025-07-30T20:51:48.483379",
     "status": "completed"
    },
    "tags": []
   },
   "outputs": [],
   "source": [
    "#universe[\"training_size\"]"
   ]
  },
  {
   "cell_type": "code",
   "execution_count": 16,
   "id": "ca707fd7-8047-4acd-bfa5-66248fbbf8e6",
   "metadata": {
    "execution": {
     "iopub.execute_input": "2025-07-30T20:51:48.572896Z",
     "iopub.status.busy": "2025-07-30T20:51:48.572186Z",
     "iopub.status.idle": "2025-07-30T20:51:48.577793Z",
     "shell.execute_reply": "2025-07-30T20:51:48.576738Z"
    },
    "papermill": {
     "duration": 0.035987,
     "end_time": "2025-07-30T20:51:48.579761",
     "exception": false,
     "start_time": "2025-07-30T20:51:48.543774",
     "status": "completed"
    },
    "tags": []
   },
   "outputs": [],
   "source": [
    "#universe[\"training_year\"]"
   ]
  },
  {
   "cell_type": "code",
   "execution_count": 17,
   "id": "aea9c6ef-6f46-42c8-85eb-5a62025c1508",
   "metadata": {
    "execution": {
     "iopub.execute_input": "2025-07-30T20:51:48.640479Z",
     "iopub.status.busy": "2025-07-30T20:51:48.639680Z",
     "iopub.status.idle": "2025-07-30T20:51:48.880388Z",
     "shell.execute_reply": "2025-07-30T20:51:48.879249Z"
    },
    "papermill": {
     "duration": 0.27441,
     "end_time": "2025-07-30T20:51:48.882777",
     "exception": false,
     "start_time": "2025-07-30T20:51:48.608367",
     "status": "completed"
    },
    "tags": []
   },
   "outputs": [],
   "source": [
    "siab_train = sample_by_year_size(siab,\n",
    "                               training_year=universe[\"training_year\"],\n",
    "                               training_size=universe[\"training_size\"])"
   ]
  },
  {
   "cell_type": "code",
   "execution_count": 18,
   "id": "8d3afb32-789d-442c-8d5d-9f5aa8dd2eed",
   "metadata": {
    "execution": {
     "iopub.execute_input": "2025-07-30T20:51:48.939408Z",
     "iopub.status.busy": "2025-07-30T20:51:48.938801Z",
     "iopub.status.idle": "2025-07-30T20:51:48.945080Z",
     "shell.execute_reply": "2025-07-30T20:51:48.943830Z"
    },
    "papermill": {
     "duration": 0.036854,
     "end_time": "2025-07-30T20:51:48.947023",
     "exception": false,
     "start_time": "2025-07-30T20:51:48.910169",
     "status": "completed"
    },
    "tags": []
   },
   "outputs": [],
   "source": [
    "#siab_train.shape"
   ]
  },
  {
   "cell_type": "code",
   "execution_count": 19,
   "id": "d582db68-1a4c-47fb-84fc-08518dc1975a",
   "metadata": {
    "execution": {
     "iopub.execute_input": "2025-07-30T20:51:49.005253Z",
     "iopub.status.busy": "2025-07-30T20:51:49.004586Z",
     "iopub.status.idle": "2025-07-30T20:51:49.011915Z",
     "shell.execute_reply": "2025-07-30T20:51:49.010403Z"
    },
    "papermill": {
     "duration": 0.039331,
     "end_time": "2025-07-30T20:51:49.014336",
     "exception": false,
     "start_time": "2025-07-30T20:51:48.975005",
     "status": "completed"
    },
    "tags": []
   },
   "outputs": [],
   "source": [
    "#display(siab_train.groupby(\"year\").size())"
   ]
  },
  {
   "cell_type": "code",
   "execution_count": 20,
   "id": "a561edb4-d032-42cb-8256-22eac1111c64",
   "metadata": {
    "execution": {
     "iopub.execute_input": "2025-07-30T20:51:49.066992Z",
     "iopub.status.busy": "2025-07-30T20:51:49.066646Z",
     "iopub.status.idle": "2025-07-30T20:51:49.276771Z",
     "shell.execute_reply": "2025-07-30T20:51:49.275387Z"
    },
    "papermill": {
     "duration": 0.223429,
     "end_time": "2025-07-30T20:51:49.278370",
     "exception": false,
     "start_time": "2025-07-30T20:51:49.054941",
     "status": "completed"
    },
    "tags": []
   },
   "outputs": [],
   "source": [
    "#siab_train = siab_s[siab_s.year < 2015]\n",
    "siab_calib = siab[siab.year == 2015]\n",
    "siab_test = siab[siab.year == 2016]"
   ]
  },
  {
   "cell_type": "code",
   "execution_count": 21,
   "id": "472de16f-c3db-4916-846b-1f0de9cf1746",
   "metadata": {
    "execution": {
     "iopub.execute_input": "2025-07-30T20:51:49.302516Z",
     "iopub.status.busy": "2025-07-30T20:51:49.302016Z",
     "iopub.status.idle": "2025-07-30T20:51:49.308857Z",
     "shell.execute_reply": "2025-07-30T20:51:49.308094Z"
    },
    "papermill": {
     "duration": 0.019721,
     "end_time": "2025-07-30T20:51:49.310165",
     "exception": false,
     "start_time": "2025-07-30T20:51:49.290444",
     "status": "completed"
    },
    "tags": []
   },
   "outputs": [],
   "source": [
    "X_train = siab_train.iloc[:,4:164]\n",
    "y_train = siab_train.iloc[:, [3]]"
   ]
  },
  {
   "cell_type": "code",
   "execution_count": 22,
   "id": "828c96af-f43a-4ed6-ba47-8ac73a47d56c",
   "metadata": {
    "execution": {
     "iopub.execute_input": "2025-07-30T20:51:49.334400Z",
     "iopub.status.busy": "2025-07-30T20:51:49.333887Z",
     "iopub.status.idle": "2025-07-30T20:51:49.380754Z",
     "shell.execute_reply": "2025-07-30T20:51:49.379879Z"
    },
    "papermill": {
     "duration": 0.059889,
     "end_time": "2025-07-30T20:51:49.382116",
     "exception": false,
     "start_time": "2025-07-30T20:51:49.322227",
     "status": "completed"
    },
    "tags": []
   },
   "outputs": [],
   "source": [
    "X_calib = siab_calib.iloc[:,4:164]\n",
    "y_calib = siab_calib.iloc[:, [3]]"
   ]
  },
  {
   "cell_type": "code",
   "execution_count": 23,
   "id": "c34be9c3-6bd6-476e-acd3-845840e303be",
   "metadata": {
    "execution": {
     "iopub.execute_input": "2025-07-30T20:51:49.406850Z",
     "iopub.status.busy": "2025-07-30T20:51:49.406350Z",
     "iopub.status.idle": "2025-07-30T20:51:49.455716Z",
     "shell.execute_reply": "2025-07-30T20:51:49.454963Z"
    },
    "papermill": {
     "duration": 0.062702,
     "end_time": "2025-07-30T20:51:49.457060",
     "exception": false,
     "start_time": "2025-07-30T20:51:49.394358",
     "status": "completed"
    },
    "tags": []
   },
   "outputs": [],
   "source": [
    "X_test = siab_test.iloc[:,4:164]\n",
    "y_true = siab_test.iloc[:, [3]]"
   ]
  },
  {
   "cell_type": "markdown",
   "id": "9901737e-04df-44f0-9100-f5ad144ed040",
   "metadata": {
    "papermill": {
     "duration": 0.010528,
     "end_time": "2025-07-30T20:51:49.479738",
     "exception": false,
     "start_time": "2025-07-30T20:51:49.469210",
     "status": "completed"
    },
    "tags": []
   },
   "source": [
    "# Splitting Data and Setting Training Data Size OLD VERSION"
   ]
  },
  {
   "cell_type": "code",
   "execution_count": 24,
   "id": "acbc8f7d-8fc8-4e86-8c59-5dcb0f58384b",
   "metadata": {
    "execution": {
     "iopub.execute_input": "2025-07-30T20:51:49.502838Z",
     "iopub.status.busy": "2025-07-30T20:51:49.502338Z",
     "iopub.status.idle": "2025-07-30T20:51:49.506887Z",
     "shell.execute_reply": "2025-07-30T20:51:49.506236Z"
    },
    "papermill": {
     "duration": 0.017573,
     "end_time": "2025-07-30T20:51:49.508171",
     "exception": false,
     "start_time": "2025-07-30T20:51:49.490598",
     "status": "completed"
    },
    "tags": []
   },
   "outputs": [],
   "source": [
    "#def sample_by_year(df, training_size, random_state=42):\n",
    "#    if training_size == \"2014\":\n",
    "#        return df[df[\"year\"] == 2014].reset_index(drop=True)\n",
    "#    \n",
    "#    size_map = {\n",
    "#        \"25k\": 5000,\n",
    "#        \"5k\": 1000,\n",
    "#        \"1k\": 200\n",
    "#    }\n",
    "#\n",
    "#    if training_size not in size_map:\n",
    "#        return df.reset_index(drop=True)  # use all data\n",
    "#\n",
    "#    n_per_year = size_map[training_size]\n",
    "#    grouped = df.groupby(\"year\")\n",
    "#    sampled = grouped.apply(lambda x: x.sample(n=min(n_per_year, len(x)), random_state=random_state))\n",
    "#    return sampled.reset_index(drop=True)"
   ]
  },
  {
   "cell_type": "code",
   "execution_count": 25,
   "id": "6d931f52-beaf-43ff-9e78-9d44a448d54e",
   "metadata": {
    "execution": {
     "iopub.execute_input": "2025-07-30T20:51:49.532435Z",
     "iopub.status.busy": "2025-07-30T20:51:49.532088Z",
     "iopub.status.idle": "2025-07-30T20:51:49.536794Z",
     "shell.execute_reply": "2025-07-30T20:51:49.536095Z"
    },
    "papermill": {
     "duration": 0.018228,
     "end_time": "2025-07-30T20:51:49.538237",
     "exception": false,
     "start_time": "2025-07-30T20:51:49.520009",
     "status": "completed"
    },
    "tags": []
   },
   "outputs": [],
   "source": [
    "#siab_s = sample_by_year(siab, universe[\"training_size\"])"
   ]
  },
  {
   "cell_type": "code",
   "execution_count": 26,
   "id": "5db0a40e-a4e2-4920-be85-b12ae061d70d",
   "metadata": {
    "execution": {
     "iopub.execute_input": "2025-07-30T20:51:49.575662Z",
     "iopub.status.busy": "2025-07-30T20:51:49.574765Z",
     "iopub.status.idle": "2025-07-30T20:51:49.580720Z",
     "shell.execute_reply": "2025-07-30T20:51:49.579459Z"
    },
    "papermill": {
     "duration": 0.032387,
     "end_time": "2025-07-30T20:51:49.582443",
     "exception": false,
     "start_time": "2025-07-30T20:51:49.550056",
     "status": "completed"
    },
    "tags": []
   },
   "outputs": [],
   "source": [
    "#display(siab_s.groupby(\"year\").size())"
   ]
  },
  {
   "cell_type": "code",
   "execution_count": 27,
   "id": "e6c733c5",
   "metadata": {
    "execution": {
     "iopub.execute_input": "2025-07-30T20:51:49.621503Z",
     "iopub.status.busy": "2025-07-30T20:51:49.620975Z",
     "iopub.status.idle": "2025-07-30T20:51:49.710520Z",
     "shell.execute_reply": "2025-07-30T20:51:49.709765Z"
    },
    "papermill": {
     "duration": 0.106576,
     "end_time": "2025-07-30T20:51:49.711933",
     "exception": false,
     "start_time": "2025-07-30T20:51:49.605357",
     "status": "completed"
    },
    "tags": []
   },
   "outputs": [],
   "source": [
    "# Auxiliary data needed downstream in the pipeline\n",
    "\n",
    "org_train = X_train.copy()\n",
    "org_test = X_test.copy()\n",
    "org_calib = X_calib.copy()"
   ]
  },
  {
   "cell_type": "code",
   "execution_count": 28,
   "id": "1466abac-c6da-4492-a62f-4240ae3783af",
   "metadata": {
    "execution": {
     "iopub.execute_input": "2025-07-30T20:51:49.735716Z",
     "iopub.status.busy": "2025-07-30T20:51:49.735205Z",
     "iopub.status.idle": "2025-07-30T20:51:49.739897Z",
     "shell.execute_reply": "2025-07-30T20:51:49.739203Z"
    },
    "papermill": {
     "duration": 0.017836,
     "end_time": "2025-07-30T20:51:49.741200",
     "exception": false,
     "start_time": "2025-07-30T20:51:49.723364",
     "status": "completed"
    },
    "tags": []
   },
   "outputs": [],
   "source": [
    "# put in other script?\n",
    "# Group sizes\n",
    "\n",
    "#def calculate_percentages(df, df_name):\n",
    "#    total_entries = len(df)\n",
    "#\n",
    "#    female_pct = (df['frau1'] == 1).mean() * 100\n",
    "#    non_german_pct = ((df['maxdeutsch1'] == 0) & (df['maxdeutsch.Missing.'] == 0)).mean() * 100\n",
    "#    non_german_male_pct = ((df['frau1'] == 0) & (df['maxdeutsch1'] == 0) & (df['maxdeutsch.Missing.'] == 0)).mean() * 100\n",
    "#    non_german_female_pct = ((df['frau1'] == 1) & (df['maxdeutsch1'] == 0) & (df['maxdeutsch.Missing.'] == 0)).mean() * 100\n",
    "#\n",
    "#    print(f\"--- {df_name} ---\")\n",
    "#    print(f\"Female: {female_pct:.2f}%\")\n",
    "#    print(f\"Non-German: {non_german_pct:.2f}%\")\n",
    "#    print(f\"Non-German Male: {non_german_male_pct:.2f}%\")\n",
    "#    print(f\"Non-German Female: {non_german_female_pct:.2f}%\\n\")\n",
    "#\n",
    "## Calculate for each DataFrame\n",
    "#calculate_percentages(siab_calib, \"siab_calib\")\n",
    "#calculate_percentages(siab_test, \"siab_test\")\n",
    "#calculate_percentages(siab_train, \"siab_train\")"
   ]
  },
  {
   "cell_type": "markdown",
   "id": "0a4a1b33",
   "metadata": {
    "papermill": {
     "duration": 0.032059,
     "end_time": "2025-07-30T20:51:49.787032",
     "exception": false,
     "start_time": "2025-07-30T20:51:49.754973",
     "status": "completed"
    },
    "tags": []
   },
   "source": [
    "# Preprocessing Data"
   ]
  },
  {
   "cell_type": "code",
   "execution_count": 29,
   "id": "ca879031",
   "metadata": {
    "execution": {
     "iopub.execute_input": "2025-07-30T20:51:49.848279Z",
     "iopub.status.busy": "2025-07-30T20:51:49.847686Z",
     "iopub.status.idle": "2025-07-30T20:51:49.856541Z",
     "shell.execute_reply": "2025-07-30T20:51:49.855044Z"
    },
    "papermill": {
     "duration": 0.039656,
     "end_time": "2025-07-30T20:51:49.858061",
     "exception": false,
     "start_time": "2025-07-30T20:51:49.818405",
     "status": "completed"
    },
    "tags": []
   },
   "outputs": [],
   "source": [
    "# EXCLUDE PROTECTED FEATURES\n",
    "# ----------------------\n",
    "# \"exclude_features\": \"none\", # \"nationality\", \"sex\", \"nationality-sex\"\n",
    "\n",
    "excluded_features = universe[\"exclude_features\"].split(\"-\") # split, e.g.: \"nationality-sex\" -> [\"nationality\", \"sex\"]\n",
    "excluded_features_dictionary = {\n",
    "    \"nationality\": [\"maxdeutsch1\", \"maxdeutsch.Missing.\"],\n",
    "    \"sex\": [\"frau1\"],\n",
    "    \"age\": [\"age\"],\n",
    "}\n"
   ]
  },
  {
   "cell_type": "code",
   "execution_count": 30,
   "id": "b745ac60",
   "metadata": {
    "execution": {
     "iopub.execute_input": "2025-07-30T20:51:49.883738Z",
     "iopub.status.busy": "2025-07-30T20:51:49.883163Z",
     "iopub.status.idle": "2025-07-30T20:51:49.888740Z",
     "shell.execute_reply": "2025-07-30T20:51:49.887896Z"
    },
    "papermill": {
     "duration": 0.019776,
     "end_time": "2025-07-30T20:51:49.890124",
     "exception": false,
     "start_time": "2025-07-30T20:51:49.870348",
     "status": "completed"
    },
    "tags": []
   },
   "outputs": [],
   "source": [
    "# Code nice names to column names\n",
    "\n",
    "excluded_features_columns = [\n",
    "    excluded_features_dictionary[f] for f in excluded_features if len(f) > 0 and f != \"none\"\n",
    "]"
   ]
  },
  {
   "cell_type": "code",
   "execution_count": 31,
   "id": "f84f73a2",
   "metadata": {
    "execution": {
     "iopub.execute_input": "2025-07-30T20:51:49.914870Z",
     "iopub.status.busy": "2025-07-30T20:51:49.914517Z",
     "iopub.status.idle": "2025-07-30T20:51:49.919666Z",
     "shell.execute_reply": "2025-07-30T20:51:49.918959Z"
    },
    "papermill": {
     "duration": 0.018503,
     "end_time": "2025-07-30T20:51:49.920936",
     "exception": false,
     "start_time": "2025-07-30T20:51:49.902433",
     "status": "completed"
    },
    "tags": []
   },
   "outputs": [],
   "source": [
    "from utils import flatten_once\n",
    "\n",
    "excluded_features_columns = flatten_once(excluded_features_columns)"
   ]
  },
  {
   "cell_type": "code",
   "execution_count": 32,
   "id": "884dea22",
   "metadata": {
    "execution": {
     "iopub.execute_input": "2025-07-30T20:51:49.950703Z",
     "iopub.status.busy": "2025-07-30T20:51:49.950350Z",
     "iopub.status.idle": "2025-07-30T20:51:49.958231Z",
     "shell.execute_reply": "2025-07-30T20:51:49.957128Z"
    },
    "papermill": {
     "duration": 0.022566,
     "end_time": "2025-07-30T20:51:49.959606",
     "exception": false,
     "start_time": "2025-07-30T20:51:49.937040",
     "status": "completed"
    },
    "tags": []
   },
   "outputs": [
    {
     "name": "stdout",
     "output_type": "stream",
     "text": [
      "Dropping features: ['maxdeutsch1', 'maxdeutsch.Missing.']\n"
     ]
    }
   ],
   "source": [
    "if len(excluded_features_columns) > 0:\n",
    "    print(f\"Dropping features: {excluded_features_columns}\")\n",
    "    X_train.drop(excluded_features_columns, axis=1, inplace=True)"
   ]
  },
  {
   "cell_type": "code",
   "execution_count": 33,
   "id": "95ab8b16",
   "metadata": {
    "execution": {
     "iopub.execute_input": "2025-07-30T20:51:49.984797Z",
     "iopub.status.busy": "2025-07-30T20:51:49.984279Z",
     "iopub.status.idle": "2025-07-30T20:51:50.035586Z",
     "shell.execute_reply": "2025-07-30T20:51:50.034894Z"
    },
    "papermill": {
     "duration": 0.065074,
     "end_time": "2025-07-30T20:51:50.037041",
     "exception": false,
     "start_time": "2025-07-30T20:51:49.971967",
     "status": "completed"
    },
    "tags": []
   },
   "outputs": [
    {
     "name": "stdout",
     "output_type": "stream",
     "text": [
      "Dropping features: ['maxdeutsch1', 'maxdeutsch.Missing.']\n"
     ]
    }
   ],
   "source": [
    "if len(excluded_features_columns) > 0:\n",
    "    print(f\"Dropping features: {excluded_features_columns}\")\n",
    "    X_test.drop(excluded_features_columns, axis=1, inplace=True)"
   ]
  },
  {
   "cell_type": "code",
   "execution_count": 34,
   "id": "1853aaf5-fb9f-46cb-a2b5-8ea4ae2237e4",
   "metadata": {
    "execution": {
     "iopub.execute_input": "2025-07-30T20:51:50.075292Z",
     "iopub.status.busy": "2025-07-30T20:51:50.074456Z",
     "iopub.status.idle": "2025-07-30T20:51:50.127688Z",
     "shell.execute_reply": "2025-07-30T20:51:50.126635Z"
    },
    "papermill": {
     "duration": 0.080526,
     "end_time": "2025-07-30T20:51:50.129749",
     "exception": false,
     "start_time": "2025-07-30T20:51:50.049223",
     "status": "completed"
    },
    "tags": []
   },
   "outputs": [
    {
     "name": "stdout",
     "output_type": "stream",
     "text": [
      "Dropping features: ['maxdeutsch1', 'maxdeutsch.Missing.']\n"
     ]
    }
   ],
   "source": [
    "if len(excluded_features_columns) > 0:\n",
    "    print(f\"Dropping features: {excluded_features_columns}\")\n",
    "    X_calib.drop(excluded_features_columns, axis=1, inplace=True)"
   ]
  },
  {
   "cell_type": "code",
   "execution_count": 35,
   "id": "6727d079-03e5-481e-9d38-292a90b7a0a8",
   "metadata": {
    "execution": {
     "iopub.execute_input": "2025-07-30T20:51:50.180720Z",
     "iopub.status.busy": "2025-07-30T20:51:50.180221Z",
     "iopub.status.idle": "2025-07-30T20:51:50.184908Z",
     "shell.execute_reply": "2025-07-30T20:51:50.184087Z"
    },
    "papermill": {
     "duration": 0.042546,
     "end_time": "2025-07-30T20:51:50.197419",
     "exception": false,
     "start_time": "2025-07-30T20:51:50.154873",
     "status": "completed"
    },
    "tags": []
   },
   "outputs": [],
   "source": [
    "# SPLIT & STRATIFY DATA\n",
    "# ----------------------"
   ]
  },
  {
   "cell_type": "code",
   "execution_count": 36,
   "id": "76c4dc6d",
   "metadata": {
    "execution": {
     "iopub.execute_input": "2025-07-30T20:51:50.259573Z",
     "iopub.status.busy": "2025-07-30T20:51:50.258793Z",
     "iopub.status.idle": "2025-07-30T20:51:50.264938Z",
     "shell.execute_reply": "2025-07-30T20:51:50.263910Z"
    },
    "papermill": {
     "duration": 0.033682,
     "end_time": "2025-07-30T20:51:50.267092",
     "exception": false,
     "start_time": "2025-07-30T20:51:50.233410",
     "status": "completed"
    },
    "tags": []
   },
   "outputs": [],
   "source": [
    "# EXCLUDE CERTAIN SUBGROUPS\n",
    "# ----------------------\n",
    "\n",
    "mode = universe.get(\"exclude_subgroups\", \"keep-all\") \n",
    "# Fetches the exclude_subgroups setting from the universe dict.\n",
    "# Defaults to \"keep-all\" if the key is missing."
   ]
  },
  {
   "cell_type": "code",
   "execution_count": 37,
   "id": "21994072",
   "metadata": {
    "execution": {
     "iopub.execute_input": "2025-07-30T20:51:50.318547Z",
     "iopub.status.busy": "2025-07-30T20:51:50.318101Z",
     "iopub.status.idle": "2025-07-30T20:51:50.325064Z",
     "shell.execute_reply": "2025-07-30T20:51:50.324155Z"
    },
    "papermill": {
     "duration": 0.035062,
     "end_time": "2025-07-30T20:51:50.326671",
     "exception": false,
     "start_time": "2025-07-30T20:51:50.291609",
     "status": "completed"
    },
    "tags": []
   },
   "outputs": [],
   "source": [
    "if mode == \"keep-all\":\n",
    "    keep_mask = pd.Series(True, index=org_train.index)\n",
    "\n",
    "# org_train contains the original feature columns from features_org (in Simson)\n",
    "# features_org contains unprocessed features, for me X_train at beginning ???\n",
    "# For keep-all, creates a boolean Series (keep_mask) of all True, so no rows are removed.\n",
    "\n",
    "elif mode == \"drop-non-german\":\n",
    "    keep_mask = org_train[\"maxdeutsch1\"] == 1 # ??? what about missing values?\n",
    "\n",
    "else:\n",
    "    raise ValueError(f\"Unsupported mode for exclude_subgroups: {mode}\")\n"
   ]
  },
  {
   "cell_type": "code",
   "execution_count": 38,
   "id": "71651440",
   "metadata": {
    "execution": {
     "iopub.execute_input": "2025-07-30T20:51:50.365754Z",
     "iopub.status.busy": "2025-07-30T20:51:50.365329Z",
     "iopub.status.idle": "2025-07-30T20:51:50.372224Z",
     "shell.execute_reply": "2025-07-30T20:51:50.371227Z"
    },
    "papermill": {
     "duration": 0.022931,
     "end_time": "2025-07-30T20:51:50.374139",
     "exception": false,
     "start_time": "2025-07-30T20:51:50.351208",
     "status": "completed"
    },
    "tags": []
   },
   "outputs": [],
   "source": [
    "n_drop = (~keep_mask).sum() # Calculates how many rows are set to be dropped\n",
    "if n_drop > 0:\n",
    "    pct = n_drop / len(keep_mask) * 100\n",
    "    print(f\"Dropping {n_drop} rows ({pct:.2f}%) where mode='{mode}'\")"
   ]
  },
  {
   "cell_type": "code",
   "execution_count": 39,
   "id": "5fb8eee5",
   "metadata": {
    "execution": {
     "iopub.execute_input": "2025-07-30T20:51:50.425375Z",
     "iopub.status.busy": "2025-07-30T20:51:50.425075Z",
     "iopub.status.idle": "2025-07-30T20:51:50.434799Z",
     "shell.execute_reply": "2025-07-30T20:51:50.433793Z"
    },
    "papermill": {
     "duration": 0.037516,
     "end_time": "2025-07-30T20:51:50.436829",
     "exception": false,
     "start_time": "2025-07-30T20:51:50.399313",
     "status": "completed"
    },
    "tags": []
   },
   "outputs": [],
   "source": [
    "X_train = X_train[keep_mask]"
   ]
  },
  {
   "cell_type": "code",
   "execution_count": 40,
   "id": "b202bb3a",
   "metadata": {
    "execution": {
     "iopub.execute_input": "2025-07-30T20:51:50.487264Z",
     "iopub.status.busy": "2025-07-30T20:51:50.486420Z",
     "iopub.status.idle": "2025-07-30T20:51:50.492625Z",
     "shell.execute_reply": "2025-07-30T20:51:50.491494Z"
    },
    "papermill": {
     "duration": 0.039202,
     "end_time": "2025-07-30T20:51:50.501446",
     "exception": false,
     "start_time": "2025-07-30T20:51:50.462244",
     "status": "completed"
    },
    "tags": []
   },
   "outputs": [],
   "source": [
    "y_train = y_train[keep_mask]"
   ]
  },
  {
   "cell_type": "markdown",
   "id": "493e2ac3",
   "metadata": {
    "papermill": {
     "duration": 0.016974,
     "end_time": "2025-07-30T20:51:50.543402",
     "exception": false,
     "start_time": "2025-07-30T20:51:50.526428",
     "status": "completed"
    },
    "tags": []
   },
   "source": [
    "# Model Training"
   ]
  },
  {
   "cell_type": "code",
   "execution_count": 41,
   "id": "679e1268",
   "metadata": {
    "execution": {
     "iopub.execute_input": "2025-07-30T20:51:50.575470Z",
     "iopub.status.busy": "2025-07-30T20:51:50.574369Z",
     "iopub.status.idle": "2025-07-30T20:51:50.691651Z",
     "shell.execute_reply": "2025-07-30T20:51:50.690912Z"
    },
    "papermill": {
     "duration": 0.136745,
     "end_time": "2025-07-30T20:51:50.693191",
     "exception": false,
     "start_time": "2025-07-30T20:51:50.556446",
     "status": "completed"
    },
    "tags": []
   },
   "outputs": [],
   "source": [
    "from sklearn.linear_model import LogisticRegression\n",
    "from sklearn.ensemble import GradientBoostingClassifier, RandomForestClassifier\n",
    "\n",
    "if (universe[\"model\"] == \"logreg\"):\n",
    "    model = LogisticRegression() #penalty=\"none\") #, solver=\"newton-cg\", max_iter=1) # include random_state=19 ?\n",
    "elif (universe[\"model\"] == \"penalized_logreg\"):\n",
    "    model = LogisticRegression(penalty=\"l2\", C=1.0) #, solver=\"newton-cg\", max_iter=1)\n",
    "elif (universe[\"model\"] == \"rf\"):\n",
    "    model = RandomForestClassifier(n_estimators=100, n_jobs=-1)\n",
    "elif (universe[\"model\"] == \"gbm\"):\n",
    "    model = GradientBoostingClassifier()\n",
    "elif (universe[\"model\"] == \"elasticnet\"):\n",
    "    model = LogisticRegression(penalty = 'elasticnet', solver = 'saga', l1_ratio = 0.5, max_iter=5000) # which solver to use?\n",
    "else:\n",
    "    raise \"Unsupported universe.model\""
   ]
  },
  {
   "cell_type": "code",
   "execution_count": 42,
   "id": "0cc8f744",
   "metadata": {
    "execution": {
     "iopub.execute_input": "2025-07-30T20:51:50.723339Z",
     "iopub.status.busy": "2025-07-30T20:51:50.722955Z",
     "iopub.status.idle": "2025-07-30T20:51:50.728446Z",
     "shell.execute_reply": "2025-07-30T20:51:50.727656Z"
    },
    "papermill": {
     "duration": 0.024357,
     "end_time": "2025-07-30T20:51:50.729810",
     "exception": false,
     "start_time": "2025-07-30T20:51:50.705453",
     "status": "completed"
    },
    "tags": []
   },
   "outputs": [],
   "source": [
    "import numpy as np\n",
    "from sklearn.pipeline import Pipeline\n",
    "from sklearn.preprocessing import StandardScaler\n",
    "\n",
    "model = Pipeline([\n",
    "    #(\"continuous_processor\", continuous_processor),\n",
    "    #(\"categorical_preprocessor\", categorical_preprocessor),\n",
    "    (\"scale\", StandardScaler() if universe[\"scale\"] == \"scale\" else None), \n",
    "    (\"model\", model),\n",
    "])"
   ]
  },
  {
   "cell_type": "code",
   "execution_count": 43,
   "id": "9442c04d",
   "metadata": {
    "execution": {
     "iopub.execute_input": "2025-07-30T20:51:50.756460Z",
     "iopub.status.busy": "2025-07-30T20:51:50.755876Z",
     "iopub.status.idle": "2025-07-30T20:51:50.932719Z",
     "shell.execute_reply": "2025-07-30T20:51:50.931516Z"
    },
    "papermill": {
     "duration": 0.191957,
     "end_time": "2025-07-30T20:51:50.934586",
     "exception": false,
     "start_time": "2025-07-30T20:51:50.742629",
     "status": "completed"
    },
    "tags": []
   },
   "outputs": [
    {
     "name": "stderr",
     "output_type": "stream",
     "text": [
      "/dss/dsshome1/0C/ra93lal2/.local/share/virtualenvs/CMA_Fairness_v2-3j10GkSs/lib/python3.10/site-packages/sklearn/linear_model/_logistic.py:444: ConvergenceWarning: lbfgs failed to converge (status=1):\n",
      "STOP: TOTAL NO. of ITERATIONS REACHED LIMIT.\n",
      "\n",
      "Increase the number of iterations (max_iter) or scale the data as shown in:\n",
      "    https://scikit-learn.org/stable/modules/preprocessing.html\n",
      "Please also refer to the documentation for alternative solver options:\n",
      "    https://scikit-learn.org/stable/modules/linear_model.html#logistic-regression\n",
      "  n_iter_i = _check_optimize_result(\n"
     ]
    },
    {
     "data": {
      "text/html": [
       "<style>#sk-container-id-1 {color: black;background-color: white;}#sk-container-id-1 pre{padding: 0;}#sk-container-id-1 div.sk-toggleable {background-color: white;}#sk-container-id-1 label.sk-toggleable__label {cursor: pointer;display: block;width: 100%;margin-bottom: 0;padding: 0.3em;box-sizing: border-box;text-align: center;}#sk-container-id-1 label.sk-toggleable__label-arrow:before {content: \"▸\";float: left;margin-right: 0.25em;color: #696969;}#sk-container-id-1 label.sk-toggleable__label-arrow:hover:before {color: black;}#sk-container-id-1 div.sk-estimator:hover label.sk-toggleable__label-arrow:before {color: black;}#sk-container-id-1 div.sk-toggleable__content {max-height: 0;max-width: 0;overflow: hidden;text-align: left;background-color: #f0f8ff;}#sk-container-id-1 div.sk-toggleable__content pre {margin: 0.2em;color: black;border-radius: 0.25em;background-color: #f0f8ff;}#sk-container-id-1 input.sk-toggleable__control:checked~div.sk-toggleable__content {max-height: 200px;max-width: 100%;overflow: auto;}#sk-container-id-1 input.sk-toggleable__control:checked~label.sk-toggleable__label-arrow:before {content: \"▾\";}#sk-container-id-1 div.sk-estimator input.sk-toggleable__control:checked~label.sk-toggleable__label {background-color: #d4ebff;}#sk-container-id-1 div.sk-label input.sk-toggleable__control:checked~label.sk-toggleable__label {background-color: #d4ebff;}#sk-container-id-1 input.sk-hidden--visually {border: 0;clip: rect(1px 1px 1px 1px);clip: rect(1px, 1px, 1px, 1px);height: 1px;margin: -1px;overflow: hidden;padding: 0;position: absolute;width: 1px;}#sk-container-id-1 div.sk-estimator {font-family: monospace;background-color: #f0f8ff;border: 1px dotted black;border-radius: 0.25em;box-sizing: border-box;margin-bottom: 0.5em;}#sk-container-id-1 div.sk-estimator:hover {background-color: #d4ebff;}#sk-container-id-1 div.sk-parallel-item::after {content: \"\";width: 100%;border-bottom: 1px solid gray;flex-grow: 1;}#sk-container-id-1 div.sk-label:hover label.sk-toggleable__label {background-color: #d4ebff;}#sk-container-id-1 div.sk-serial::before {content: \"\";position: absolute;border-left: 1px solid gray;box-sizing: border-box;top: 0;bottom: 0;left: 50%;z-index: 0;}#sk-container-id-1 div.sk-serial {display: flex;flex-direction: column;align-items: center;background-color: white;padding-right: 0.2em;padding-left: 0.2em;position: relative;}#sk-container-id-1 div.sk-item {position: relative;z-index: 1;}#sk-container-id-1 div.sk-parallel {display: flex;align-items: stretch;justify-content: center;background-color: white;position: relative;}#sk-container-id-1 div.sk-item::before, #sk-container-id-1 div.sk-parallel-item::before {content: \"\";position: absolute;border-left: 1px solid gray;box-sizing: border-box;top: 0;bottom: 0;left: 50%;z-index: -1;}#sk-container-id-1 div.sk-parallel-item {display: flex;flex-direction: column;z-index: 1;position: relative;background-color: white;}#sk-container-id-1 div.sk-parallel-item:first-child::after {align-self: flex-end;width: 50%;}#sk-container-id-1 div.sk-parallel-item:last-child::after {align-self: flex-start;width: 50%;}#sk-container-id-1 div.sk-parallel-item:only-child::after {width: 0;}#sk-container-id-1 div.sk-dashed-wrapped {border: 1px dashed gray;margin: 0 0.4em 0.5em 0.4em;box-sizing: border-box;padding-bottom: 0.4em;background-color: white;}#sk-container-id-1 div.sk-label label {font-family: monospace;font-weight: bold;display: inline-block;line-height: 1.2em;}#sk-container-id-1 div.sk-label-container {text-align: center;}#sk-container-id-1 div.sk-container {/* jupyter's `normalize.less` sets `[hidden] { display: none; }` but bootstrap.min.css set `[hidden] { display: none !important; }` so we also need the `!important` here to be able to override the default hidden behavior on the sphinx rendered scikit-learn.org. See: https://github.com/scikit-learn/scikit-learn/issues/21755 */display: inline-block !important;position: relative;}#sk-container-id-1 div.sk-text-repr-fallback {display: none;}</style><div id=\"sk-container-id-1\" class=\"sk-top-container\"><div class=\"sk-text-repr-fallback\"><pre>Pipeline(steps=[(&#x27;scale&#x27;, None), (&#x27;model&#x27;, LogisticRegression())])</pre><b>In a Jupyter environment, please rerun this cell to show the HTML representation or trust the notebook. <br />On GitHub, the HTML representation is unable to render, please try loading this page with nbviewer.org.</b></div><div class=\"sk-container\" hidden><div class=\"sk-item sk-dashed-wrapped\"><div class=\"sk-label-container\"><div class=\"sk-label sk-toggleable\"><input class=\"sk-toggleable__control sk-hidden--visually\" id=\"sk-estimator-id-1\" type=\"checkbox\" ><label for=\"sk-estimator-id-1\" class=\"sk-toggleable__label sk-toggleable__label-arrow\">Pipeline</label><div class=\"sk-toggleable__content\"><pre>Pipeline(steps=[(&#x27;scale&#x27;, None), (&#x27;model&#x27;, LogisticRegression())])</pre></div></div></div><div class=\"sk-serial\"><div class=\"sk-item\"><div class=\"sk-estimator sk-toggleable\"><input class=\"sk-toggleable__control sk-hidden--visually\" id=\"sk-estimator-id-2\" type=\"checkbox\" ><label for=\"sk-estimator-id-2\" class=\"sk-toggleable__label sk-toggleable__label-arrow\">None</label><div class=\"sk-toggleable__content\"><pre>None</pre></div></div></div><div class=\"sk-item\"><div class=\"sk-estimator sk-toggleable\"><input class=\"sk-toggleable__control sk-hidden--visually\" id=\"sk-estimator-id-3\" type=\"checkbox\" ><label for=\"sk-estimator-id-3\" class=\"sk-toggleable__label sk-toggleable__label-arrow\">LogisticRegression</label><div class=\"sk-toggleable__content\"><pre>LogisticRegression()</pre></div></div></div></div></div></div></div>"
      ],
      "text/plain": [
       "Pipeline(steps=[('scale', None), ('model', LogisticRegression())])"
      ]
     },
     "execution_count": 43,
     "metadata": {},
     "output_type": "execute_result"
    }
   ],
   "source": [
    "model.fit(X_train, y_train.values.ravel())"
   ]
  },
  {
   "cell_type": "code",
   "execution_count": 44,
   "id": "af59f8c0",
   "metadata": {
    "execution": {
     "iopub.execute_input": "2025-07-30T20:51:50.986317Z",
     "iopub.status.busy": "2025-07-30T20:51:50.985832Z",
     "iopub.status.idle": "2025-07-30T20:51:50.991640Z",
     "shell.execute_reply": "2025-07-30T20:51:50.990447Z"
    },
    "papermill": {
     "duration": 0.033487,
     "end_time": "2025-07-30T20:51:50.993484",
     "exception": false,
     "start_time": "2025-07-30T20:51:50.959997",
     "status": "completed"
    },
    "tags": []
   },
   "outputs": [],
   "source": [
    "from fairness_multiverse.universe import predict_w_threshold"
   ]
  },
  {
   "cell_type": "code",
   "execution_count": 45,
   "id": "a7cf2e16",
   "metadata": {
    "execution": {
     "iopub.execute_input": "2025-07-30T20:51:51.069712Z",
     "iopub.status.busy": "2025-07-30T20:51:51.069185Z",
     "iopub.status.idle": "2025-07-30T20:51:51.155030Z",
     "shell.execute_reply": "2025-07-30T20:51:51.154318Z"
    },
    "papermill": {
     "duration": 0.136861,
     "end_time": "2025-07-30T20:51:51.156351",
     "exception": false,
     "start_time": "2025-07-30T20:51:51.019490",
     "status": "completed"
    },
    "tags": []
   },
   "outputs": [
    {
     "data": {
      "text/plain": [
       "0.858711403410991"
      ]
     },
     "execution_count": 45,
     "metadata": {},
     "output_type": "execute_result"
    }
   ],
   "source": [
    "probs_test = model.predict_proba(X_test)\n",
    "\n",
    "'''\n",
    "Below code returns a boolean array (or binary 0/1 array depending on how it’s used) where each element \n",
    "is True if the probability of class 1 is greater than or equal to the threshold, and False otherwise.\n",
    "'''\n",
    "y_pred_default = predict_w_threshold(probs_test, 0.5)\n",
    "\n",
    "from sklearn.metrics import accuracy_score\n",
    "\n",
    "# Naive prediction\n",
    "accuracy_score(y_true = y_true, y_pred = y_pred_default)"
   ]
  },
  {
   "cell_type": "code",
   "execution_count": 46,
   "id": "081964c3",
   "metadata": {
    "execution": {
     "iopub.execute_input": "2025-07-30T20:51:51.192011Z",
     "iopub.status.busy": "2025-07-30T20:51:51.191539Z",
     "iopub.status.idle": "2025-07-30T20:51:51.292008Z",
     "shell.execute_reply": "2025-07-30T20:51:51.290762Z"
    },
    "papermill": {
     "duration": 0.125051,
     "end_time": "2025-07-30T20:51:51.294498",
     "exception": false,
     "start_time": "2025-07-30T20:51:51.169447",
     "status": "completed"
    },
    "tags": []
   },
   "outputs": [
    {
     "data": {
      "text/plain": [
       "array([0, 0, 0, ..., 0, 0, 0])"
      ]
     },
     "execution_count": 46,
     "metadata": {},
     "output_type": "execute_result"
    }
   ],
   "source": [
    "model.predict(X_test)"
   ]
  },
  {
   "cell_type": "markdown",
   "id": "56c9705b",
   "metadata": {
    "papermill": {
     "duration": 0.03024,
     "end_time": "2025-07-30T20:51:51.355208",
     "exception": false,
     "start_time": "2025-07-30T20:51:51.324968",
     "status": "completed"
    },
    "tags": []
   },
   "source": [
    "# Conformal Prediction"
   ]
  },
  {
   "cell_type": "code",
   "execution_count": 47,
   "id": "160ec6ff",
   "metadata": {
    "execution": {
     "iopub.execute_input": "2025-07-30T20:51:51.408407Z",
     "iopub.status.busy": "2025-07-30T20:51:51.407787Z",
     "iopub.status.idle": "2025-07-30T20:51:51.413593Z",
     "shell.execute_reply": "2025-07-30T20:51:51.412431Z"
    },
    "papermill": {
     "duration": 0.034682,
     "end_time": "2025-07-30T20:51:51.415321",
     "exception": false,
     "start_time": "2025-07-30T20:51:51.380639",
     "status": "completed"
    },
    "tags": []
   },
   "outputs": [],
   "source": [
    "# Miscoverage level for conformal prediction (10% allowed error rate => 90% target coverage)\n",
    "alpha = 0.1"
   ]
  },
  {
   "cell_type": "code",
   "execution_count": 48,
   "id": "eadf4555-3dd3-440e-8e35-f82a4ad9f855",
   "metadata": {
    "execution": {
     "iopub.execute_input": "2025-07-30T20:51:51.466493Z",
     "iopub.status.busy": "2025-07-30T20:51:51.465906Z",
     "iopub.status.idle": "2025-07-30T20:51:51.550018Z",
     "shell.execute_reply": "2025-07-30T20:51:51.549247Z"
    },
    "papermill": {
     "duration": 0.11424,
     "end_time": "2025-07-30T20:51:51.552248",
     "exception": false,
     "start_time": "2025-07-30T20:51:51.438008",
     "status": "completed"
    },
    "tags": []
   },
   "outputs": [],
   "source": [
    "probs_calib = model.predict_proba(X_calib)"
   ]
  },
  {
   "cell_type": "code",
   "execution_count": 49,
   "id": "2ed93547-6d5d-4983-9b36-1ecb300da49a",
   "metadata": {
    "execution": {
     "iopub.execute_input": "2025-07-30T20:51:51.608112Z",
     "iopub.status.busy": "2025-07-30T20:51:51.607130Z",
     "iopub.status.idle": "2025-07-30T20:51:51.617438Z",
     "shell.execute_reply": "2025-07-30T20:51:51.615756Z"
    },
    "papermill": {
     "duration": 0.039606,
     "end_time": "2025-07-30T20:51:51.618937",
     "exception": false,
     "start_time": "2025-07-30T20:51:51.579331",
     "status": "completed"
    },
    "tags": []
   },
   "outputs": [],
   "source": [
    "y_calib = y_calib.values.ravel().astype(int)"
   ]
  },
  {
   "cell_type": "code",
   "execution_count": 50,
   "id": "65d1320d-f588-4b38-9072-62af1ae97f7d",
   "metadata": {
    "execution": {
     "iopub.execute_input": "2025-07-30T20:51:51.674088Z",
     "iopub.status.busy": "2025-07-30T20:51:51.673418Z",
     "iopub.status.idle": "2025-07-30T20:51:51.681055Z",
     "shell.execute_reply": "2025-07-30T20:51:51.680119Z"
    },
    "papermill": {
     "duration": 0.036189,
     "end_time": "2025-07-30T20:51:51.682791",
     "exception": false,
     "start_time": "2025-07-30T20:51:51.646602",
     "status": "completed"
    },
    "tags": []
   },
   "outputs": [],
   "source": [
    "from fairness_multiverse.conformal import compute_nc_scores\n",
    "\n",
    "# Compute nonconformity scores on calibration set (1 - probability of true class)\n",
    "nc_scores = compute_nc_scores(probs_calib, y_calib)"
   ]
  },
  {
   "cell_type": "code",
   "execution_count": 51,
   "id": "df3b8ca3-53b7-43d5-9667-7c85da7aeda2",
   "metadata": {
    "execution": {
     "iopub.execute_input": "2025-07-30T20:51:51.735937Z",
     "iopub.status.busy": "2025-07-30T20:51:51.735352Z",
     "iopub.status.idle": "2025-07-30T20:51:51.741452Z",
     "shell.execute_reply": "2025-07-30T20:51:51.740713Z"
    },
    "papermill": {
     "duration": 0.045678,
     "end_time": "2025-07-30T20:51:51.754398",
     "exception": false,
     "start_time": "2025-07-30T20:51:51.708720",
     "status": "completed"
    },
    "tags": []
   },
   "outputs": [],
   "source": [
    "from fairness_multiverse.conformal import find_threshold\n",
    "\n",
    "# Find conformal threshold q_hat for the given alpha (split conformal method)\n",
    "q_hat = find_threshold(nc_scores, alpha)"
   ]
  },
  {
   "cell_type": "code",
   "execution_count": 52,
   "id": "4d29e6c1-0ef6-4aa4-b8fe-4fe79b0d033a",
   "metadata": {
    "execution": {
     "iopub.execute_input": "2025-07-30T20:51:51.809829Z",
     "iopub.status.busy": "2025-07-30T20:51:51.809168Z",
     "iopub.status.idle": "2025-07-30T20:51:51.816192Z",
     "shell.execute_reply": "2025-07-30T20:51:51.815188Z"
    },
    "papermill": {
     "duration": 0.031698,
     "end_time": "2025-07-30T20:51:51.818006",
     "exception": false,
     "start_time": "2025-07-30T20:51:51.786308",
     "status": "completed"
    },
    "tags": []
   },
   "outputs": [
    {
     "data": {
      "text/plain": [
       "0.6757884919274081"
      ]
     },
     "execution_count": 52,
     "metadata": {},
     "output_type": "execute_result"
    }
   ],
   "source": [
    "q_hat"
   ]
  },
  {
   "cell_type": "code",
   "execution_count": 53,
   "id": "92460794-cdac-4be2-ba28-f28c0515a6fb",
   "metadata": {
    "execution": {
     "iopub.execute_input": "2025-07-30T20:51:51.857532Z",
     "iopub.status.busy": "2025-07-30T20:51:51.857183Z",
     "iopub.status.idle": "2025-07-30T20:51:52.602092Z",
     "shell.execute_reply": "2025-07-30T20:51:52.601345Z"
    },
    "papermill": {
     "duration": 0.760962,
     "end_time": "2025-07-30T20:51:52.603520",
     "exception": false,
     "start_time": "2025-07-30T20:51:51.842558",
     "status": "completed"
    },
    "tags": []
   },
   "outputs": [],
   "source": [
    "from fairness_multiverse.conformal import predict_conformal_sets\n",
    "\n",
    "# Generate prediction sets for each test example\n",
    "pred_sets = predict_conformal_sets(model, X_test, q_hat)"
   ]
  },
  {
   "cell_type": "code",
   "execution_count": 54,
   "id": "d90c9a65-e6db-4f5d-80cd-e68fb7e46829",
   "metadata": {
    "execution": {
     "iopub.execute_input": "2025-07-30T20:51:52.654403Z",
     "iopub.status.busy": "2025-07-30T20:51:52.653953Z",
     "iopub.status.idle": "2025-07-30T20:51:52.659766Z",
     "shell.execute_reply": "2025-07-30T20:51:52.658740Z"
    },
    "papermill": {
     "duration": 0.036052,
     "end_time": "2025-07-30T20:51:52.661625",
     "exception": false,
     "start_time": "2025-07-30T20:51:52.625573",
     "status": "completed"
    },
    "tags": []
   },
   "outputs": [],
   "source": [
    "y_true = y_true.squeeze()"
   ]
  },
  {
   "cell_type": "code",
   "execution_count": 55,
   "id": "3a58a54a-1e68-46b9-927a-df01f18aebc8",
   "metadata": {
    "execution": {
     "iopub.execute_input": "2025-07-30T20:51:52.728887Z",
     "iopub.status.busy": "2025-07-30T20:51:52.728319Z",
     "iopub.status.idle": "2025-07-30T20:51:53.718078Z",
     "shell.execute_reply": "2025-07-30T20:51:53.716937Z"
    },
    "papermill": {
     "duration": 1.025976,
     "end_time": "2025-07-30T20:51:53.720209",
     "exception": false,
     "start_time": "2025-07-30T20:51:52.694233",
     "status": "completed"
    },
    "tags": []
   },
   "outputs": [],
   "source": [
    "from fairness_multiverse.conformal import evaluate_sets\n",
    "\n",
    "# Evaluate coverage and average set size on test data\n",
    "metrics = evaluate_sets(pred_sets, y_true)"
   ]
  },
  {
   "cell_type": "markdown",
   "id": "2b569c12-9aaa-4c88-98c9-bbcd0cf3ebb8",
   "metadata": {
    "papermill": {
     "duration": 0.015112,
     "end_time": "2025-07-30T20:51:53.777738",
     "exception": false,
     "start_time": "2025-07-30T20:51:53.762626",
     "status": "completed"
    },
    "tags": []
   },
   "source": [
    "# CP Metrics"
   ]
  },
  {
   "cell_type": "code",
   "execution_count": 56,
   "id": "5ce0a5cb-201f-45a0-ade5-94c7f0bd6095",
   "metadata": {
    "execution": {
     "iopub.execute_input": "2025-07-30T20:51:53.806216Z",
     "iopub.status.busy": "2025-07-30T20:51:53.805210Z",
     "iopub.status.idle": "2025-07-30T20:51:53.812846Z",
     "shell.execute_reply": "2025-07-30T20:51:53.811757Z"
    },
    "papermill": {
     "duration": 0.023943,
     "end_time": "2025-07-30T20:51:53.814679",
     "exception": false,
     "start_time": "2025-07-30T20:51:53.790736",
     "status": "completed"
    },
    "tags": []
   },
   "outputs": [
    {
     "data": {
      "text/plain": [
       "{'coverage': 0.9113142347564374, 'avg_size': 1.1947497491918404}"
      ]
     },
     "execution_count": 56,
     "metadata": {},
     "output_type": "execute_result"
    }
   ],
   "source": [
    "metrics"
   ]
  },
  {
   "cell_type": "code",
   "execution_count": 57,
   "id": "9b9a838d-31c9-430b-ae14-12baee460d17",
   "metadata": {
    "execution": {
     "iopub.execute_input": "2025-07-30T20:51:53.870325Z",
     "iopub.status.busy": "2025-07-30T20:51:53.869794Z",
     "iopub.status.idle": "2025-07-30T20:51:53.877265Z",
     "shell.execute_reply": "2025-07-30T20:51:53.876168Z"
    },
    "papermill": {
     "duration": 0.039412,
     "end_time": "2025-07-30T20:51:53.878882",
     "exception": false,
     "start_time": "2025-07-30T20:51:53.839470",
     "status": "completed"
    },
    "tags": []
   },
   "outputs": [],
   "source": [
    "example_universe = universe.copy()\n",
    "universe_training_year = example_universe.get(\"training_year\")\n",
    "universe_training_size = example_universe.get(\"training_size\")\n",
    "universe_scale = example_universe.get(\"scale\")\n",
    "universe_model = example_universe.get(\"model\")\n",
    "universe_exclude_features = example_universe.get(\"exclude_features\")\n",
    "universe_exclude_subgroups = example_universe.get(\"exclude_subgroups\")"
   ]
  },
  {
   "cell_type": "code",
   "execution_count": 58,
   "id": "f4b6a8ac-9dc0-4245-8a91-5b3b5999c4f9",
   "metadata": {
    "execution": {
     "iopub.execute_input": "2025-07-30T20:51:53.934263Z",
     "iopub.status.busy": "2025-07-30T20:51:53.933752Z",
     "iopub.status.idle": "2025-07-30T20:51:53.941262Z",
     "shell.execute_reply": "2025-07-30T20:51:53.940236Z"
    },
    "papermill": {
     "duration": 0.03596,
     "end_time": "2025-07-30T20:51:53.943069",
     "exception": false,
     "start_time": "2025-07-30T20:51:53.907109",
     "status": "completed"
    },
    "tags": []
   },
   "outputs": [],
   "source": [
    "cp_metrics_dict = {\n",
    "    \"universe_id\": [universe_id],\n",
    "    \"universe_training_year\": [universe_training_year],\n",
    "    \"universe_training_size\": [universe_training_size],\n",
    "    \"universe_scale\": [universe_scale],\n",
    "    \"universe_model\": [universe_model],\n",
    "    \"universe_exclude_features\": [universe_exclude_features],\n",
    "    \"universe_exclude_subgroups\": [universe_exclude_subgroups],\n",
    "    \"q_hat\": [q_hat],\n",
    "    \"coverage\": [metrics[\"coverage\"]],\n",
    "    \"avg_size\": [metrics[\"avg_size\"]],\n",
    "}"
   ]
  },
  {
   "cell_type": "code",
   "execution_count": 59,
   "id": "908acbb1-0371-4915-85ca-3fa520d2efe2",
   "metadata": {
    "execution": {
     "iopub.execute_input": "2025-07-30T20:51:53.998506Z",
     "iopub.status.busy": "2025-07-30T20:51:53.997603Z",
     "iopub.status.idle": "2025-07-30T20:51:54.006221Z",
     "shell.execute_reply": "2025-07-30T20:51:54.005222Z"
    },
    "papermill": {
     "duration": 0.038043,
     "end_time": "2025-07-30T20:51:54.007936",
     "exception": false,
     "start_time": "2025-07-30T20:51:53.969893",
     "status": "completed"
    },
    "tags": []
   },
   "outputs": [
    {
     "data": {
      "text/plain": [
       "{'universe_id': ['876d35cfdafd654037f16ffa9789291b'],\n",
       " 'universe_training_year': ['2014'],\n",
       " 'universe_training_size': ['5k'],\n",
       " 'universe_scale': ['do-not-scale'],\n",
       " 'universe_model': ['penalized_logreg'],\n",
       " 'universe_exclude_features': ['nationality'],\n",
       " 'universe_exclude_subgroups': ['keep-all'],\n",
       " 'q_hat': [0.6757884919274081],\n",
       " 'coverage': [0.9113142347564374],\n",
       " 'avg_size': [1.1947497491918404]}"
      ]
     },
     "execution_count": 59,
     "metadata": {},
     "output_type": "execute_result"
    }
   ],
   "source": [
    "cp_metrics_dict"
   ]
  },
  {
   "cell_type": "code",
   "execution_count": 60,
   "id": "33007efc-14e9-4ec6-97ac-56a455c82265",
   "metadata": {
    "execution": {
     "iopub.execute_input": "2025-07-30T20:51:54.057979Z",
     "iopub.status.busy": "2025-07-30T20:51:54.057619Z",
     "iopub.status.idle": "2025-07-30T20:51:54.063036Z",
     "shell.execute_reply": "2025-07-30T20:51:54.062252Z"
    },
    "papermill": {
     "duration": 0.029289,
     "end_time": "2025-07-30T20:51:54.064418",
     "exception": false,
     "start_time": "2025-07-30T20:51:54.035129",
     "status": "completed"
    },
    "tags": []
   },
   "outputs": [],
   "source": [
    "cp_metrics_df = pd.DataFrame(cp_metrics_dict)"
   ]
  },
  {
   "cell_type": "code",
   "execution_count": 61,
   "id": "db12611b-57b2-4910-b9d0-355adfd6e7bf",
   "metadata": {
    "execution": {
     "iopub.execute_input": "2025-07-30T20:51:54.116466Z",
     "iopub.status.busy": "2025-07-30T20:51:54.115858Z",
     "iopub.status.idle": "2025-07-30T20:51:54.137443Z",
     "shell.execute_reply": "2025-07-30T20:51:54.136466Z"
    },
    "papermill": {
     "duration": 0.053025,
     "end_time": "2025-07-30T20:51:54.138710",
     "exception": false,
     "start_time": "2025-07-30T20:51:54.085685",
     "status": "completed"
    },
    "tags": []
   },
   "outputs": [
    {
     "data": {
      "text/html": [
       "<div>\n",
       "<style scoped>\n",
       "    .dataframe tbody tr th:only-of-type {\n",
       "        vertical-align: middle;\n",
       "    }\n",
       "\n",
       "    .dataframe tbody tr th {\n",
       "        vertical-align: top;\n",
       "    }\n",
       "\n",
       "    .dataframe thead th {\n",
       "        text-align: right;\n",
       "    }\n",
       "</style>\n",
       "<table border=\"1\" class=\"dataframe\">\n",
       "  <thead>\n",
       "    <tr style=\"text-align: right;\">\n",
       "      <th></th>\n",
       "      <th>universe_id</th>\n",
       "      <th>universe_training_year</th>\n",
       "      <th>universe_training_size</th>\n",
       "      <th>universe_scale</th>\n",
       "      <th>universe_model</th>\n",
       "      <th>universe_exclude_features</th>\n",
       "      <th>universe_exclude_subgroups</th>\n",
       "      <th>q_hat</th>\n",
       "      <th>coverage</th>\n",
       "      <th>avg_size</th>\n",
       "    </tr>\n",
       "  </thead>\n",
       "  <tbody>\n",
       "    <tr>\n",
       "      <th>0</th>\n",
       "      <td>876d35cfdafd654037f16ffa9789291b</td>\n",
       "      <td>2014</td>\n",
       "      <td>5k</td>\n",
       "      <td>do-not-scale</td>\n",
       "      <td>penalized_logreg</td>\n",
       "      <td>nationality</td>\n",
       "      <td>keep-all</td>\n",
       "      <td>0.675788</td>\n",
       "      <td>0.911314</td>\n",
       "      <td>1.19475</td>\n",
       "    </tr>\n",
       "  </tbody>\n",
       "</table>\n",
       "</div>"
      ],
      "text/plain": [
       "                        universe_id universe_training_year  \\\n",
       "0  876d35cfdafd654037f16ffa9789291b                   2014   \n",
       "\n",
       "  universe_training_size universe_scale    universe_model  \\\n",
       "0                     5k   do-not-scale  penalized_logreg   \n",
       "\n",
       "  universe_exclude_features universe_exclude_subgroups     q_hat  coverage  \\\n",
       "0               nationality                   keep-all  0.675788  0.911314   \n",
       "\n",
       "   avg_size  \n",
       "0   1.19475  "
      ]
     },
     "execution_count": 61,
     "metadata": {},
     "output_type": "execute_result"
    }
   ],
   "source": [
    "cp_metrics_df"
   ]
  },
  {
   "cell_type": "code",
   "execution_count": 62,
   "id": "b7fbde55-a0a1-47e4-9af6-fe4a17fa8c61",
   "metadata": {
    "execution": {
     "iopub.execute_input": "2025-07-30T20:51:54.196392Z",
     "iopub.status.busy": "2025-07-30T20:51:54.195684Z",
     "iopub.status.idle": "2025-07-30T20:51:54.201746Z",
     "shell.execute_reply": "2025-07-30T20:51:54.200702Z"
    },
    "papermill": {
     "duration": 0.035931,
     "end_time": "2025-07-30T20:51:54.203552",
     "exception": false,
     "start_time": "2025-07-30T20:51:54.167621",
     "status": "completed"
    },
    "tags": []
   },
   "outputs": [],
   "source": [
    "# Conditional Coverage & looking at subgroups"
   ]
  },
  {
   "cell_type": "code",
   "execution_count": 63,
   "id": "027ae886-68dd-4141-96c7-805a5450e1ef",
   "metadata": {
    "execution": {
     "iopub.execute_input": "2025-07-30T20:51:54.259648Z",
     "iopub.status.busy": "2025-07-30T20:51:54.259119Z",
     "iopub.status.idle": "2025-07-30T20:51:54.491000Z",
     "shell.execute_reply": "2025-07-30T20:51:54.490250Z"
    },
    "papermill": {
     "duration": 0.259646,
     "end_time": "2025-07-30T20:51:54.492845",
     "exception": false,
     "start_time": "2025-07-30T20:51:54.233199",
     "status": "completed"
    },
    "tags": []
   },
   "outputs": [],
   "source": [
    "from fairness_multiverse.conformal import build_cp_groups\n",
    "\n",
    "cp_groups_df = build_cp_groups(pred_sets, y_true, X_test.index, org_test)\n",
    "#needs universe_id and setting"
   ]
  },
  {
   "cell_type": "code",
   "execution_count": 64,
   "id": "01d5802c-663a-4d1f-9d69-e036faaffbf7",
   "metadata": {
    "execution": {
     "iopub.execute_input": "2025-07-30T20:51:54.546280Z",
     "iopub.status.busy": "2025-07-30T20:51:54.545749Z",
     "iopub.status.idle": "2025-07-30T20:51:54.551069Z",
     "shell.execute_reply": "2025-07-30T20:51:54.549920Z"
    },
    "papermill": {
     "duration": 0.038521,
     "end_time": "2025-07-30T20:51:54.552963",
     "exception": false,
     "start_time": "2025-07-30T20:51:54.514442",
     "status": "completed"
    },
    "tags": []
   },
   "outputs": [],
   "source": [
    "#delete\n",
    "#cp_groups_df"
   ]
  },
  {
   "cell_type": "code",
   "execution_count": 65,
   "id": "fa424af1-d1eb-443d-b717-2d279ada8408",
   "metadata": {
    "execution": {
     "iopub.execute_input": "2025-07-30T20:51:54.597636Z",
     "iopub.status.busy": "2025-07-30T20:51:54.597171Z",
     "iopub.status.idle": "2025-07-30T20:51:54.602293Z",
     "shell.execute_reply": "2025-07-30T20:51:54.601384Z"
    },
    "papermill": {
     "duration": 0.02189,
     "end_time": "2025-07-30T20:51:54.603629",
     "exception": false,
     "start_time": "2025-07-30T20:51:54.581739",
     "status": "completed"
    },
    "tags": []
   },
   "outputs": [],
   "source": [
    "#delete\n",
    "#percentage = (cp_groups_df['nongerman_female'] == 1).mean() * 100\n",
    "#print(percentage)\n"
   ]
  },
  {
   "cell_type": "code",
   "execution_count": 66,
   "id": "6cbdab96-b2b2-45af-ad54-d0516db2e28d",
   "metadata": {
    "execution": {
     "iopub.execute_input": "2025-07-30T20:51:54.632704Z",
     "iopub.status.busy": "2025-07-30T20:51:54.632229Z",
     "iopub.status.idle": "2025-07-30T20:51:56.313715Z",
     "shell.execute_reply": "2025-07-30T20:51:56.309014Z"
    },
    "papermill": {
     "duration": 1.698439,
     "end_time": "2025-07-30T20:51:56.316684",
     "exception": false,
     "start_time": "2025-07-30T20:51:54.618245",
     "status": "completed"
    },
    "tags": []
   },
   "outputs": [],
   "source": [
    "# Define covered = 1 if true_label is in the predicted set\n",
    "cp_groups_df['covered'] = cp_groups_df.apply(\n",
    "    lambda r: int(r['true_label'] in r['pred_set']),\n",
    "    axis=1\n",
    ")"
   ]
  },
  {
   "cell_type": "code",
   "execution_count": 67,
   "id": "338ff529-1a6b-4b87-a931-8e4788d52aad",
   "metadata": {
    "execution": {
     "iopub.execute_input": "2025-07-30T20:51:56.373672Z",
     "iopub.status.busy": "2025-07-30T20:51:56.373203Z",
     "iopub.status.idle": "2025-07-30T20:51:56.377590Z",
     "shell.execute_reply": "2025-07-30T20:51:56.376628Z"
    },
    "papermill": {
     "duration": 0.034708,
     "end_time": "2025-07-30T20:51:56.379219",
     "exception": false,
     "start_time": "2025-07-30T20:51:56.344511",
     "status": "completed"
    },
    "tags": []
   },
   "outputs": [],
   "source": [
    "#cp_groups_df"
   ]
  },
  {
   "cell_type": "code",
   "execution_count": 68,
   "id": "90032e27-66df-4540-9169-4e89cfbaa758",
   "metadata": {
    "execution": {
     "iopub.execute_input": "2025-07-30T20:51:56.436123Z",
     "iopub.status.busy": "2025-07-30T20:51:56.435527Z",
     "iopub.status.idle": "2025-07-30T20:51:56.574451Z",
     "shell.execute_reply": "2025-07-30T20:51:56.573645Z"
    },
    "papermill": {
     "duration": 0.171372,
     "end_time": "2025-07-30T20:51:56.576391",
     "exception": false,
     "start_time": "2025-07-30T20:51:56.405019",
     "status": "completed"
    },
    "tags": []
   },
   "outputs": [],
   "source": [
    "subgroups = ['frau1','nongerman','nongerman_male','nongerman_female']\n",
    "\n",
    "# Conditional coverage for subgroup==1\n",
    "cond_coverage = {\n",
    "    g: cp_groups_df.loc[cp_groups_df[g]==1, 'covered'].mean()\n",
    "    for g in subgroups\n",
    "}"
   ]
  },
  {
   "cell_type": "code",
   "execution_count": 69,
   "id": "1e348fb1-b9c3-45bc-ba23-f016827a7e0d",
   "metadata": {
    "execution": {
     "iopub.execute_input": "2025-07-30T20:51:56.636799Z",
     "iopub.status.busy": "2025-07-30T20:51:56.636253Z",
     "iopub.status.idle": "2025-07-30T20:51:56.643660Z",
     "shell.execute_reply": "2025-07-30T20:51:56.642683Z"
    },
    "papermill": {
     "duration": 0.038972,
     "end_time": "2025-07-30T20:51:56.645293",
     "exception": false,
     "start_time": "2025-07-30T20:51:56.606321",
     "status": "completed"
    },
    "tags": []
   },
   "outputs": [
    {
     "data": {
      "text/plain": [
       "{'frau1': 0.9092869658983691,\n",
       " 'nongerman': 0.9235389883792736,\n",
       " 'nongerman_male': 0.9398360803386472,\n",
       " 'nongerman_female': 0.8965722801788376}"
      ]
     },
     "execution_count": 69,
     "metadata": {},
     "output_type": "execute_result"
    }
   ],
   "source": [
    "cond_coverage"
   ]
  },
  {
   "cell_type": "code",
   "execution_count": 70,
   "id": "f5093324-c3dd-4d63-bc4c-8d945e5c8bbb",
   "metadata": {
    "execution": {
     "iopub.execute_input": "2025-07-30T20:51:56.679403Z",
     "iopub.status.busy": "2025-07-30T20:51:56.679042Z",
     "iopub.status.idle": "2025-07-30T20:51:56.687906Z",
     "shell.execute_reply": "2025-07-30T20:51:56.687159Z"
    },
    "papermill": {
     "duration": 0.025954,
     "end_time": "2025-07-30T20:51:56.689849",
     "exception": false,
     "start_time": "2025-07-30T20:51:56.663895",
     "status": "completed"
    },
    "tags": []
   },
   "outputs": [],
   "source": [
    "for subgroup, cov in cond_coverage.items():\n",
    "    cp_metrics_df[f\"cov_{subgroup}\"] = cov"
   ]
  },
  {
   "cell_type": "code",
   "execution_count": 71,
   "id": "6e872e10-dbe5-49e8-b554-5030c98ff75d",
   "metadata": {
    "execution": {
     "iopub.execute_input": "2025-07-30T20:51:56.729284Z",
     "iopub.status.busy": "2025-07-30T20:51:56.728869Z",
     "iopub.status.idle": "2025-07-30T20:51:57.348441Z",
     "shell.execute_reply": "2025-07-30T20:51:57.347238Z"
    },
    "papermill": {
     "duration": 0.636319,
     "end_time": "2025-07-30T20:51:57.349961",
     "exception": false,
     "start_time": "2025-07-30T20:51:56.713642",
     "status": "completed"
    },
    "tags": []
   },
   "outputs": [
    {
     "data": {
      "text/html": [
       "<div>\n",
       "<style scoped>\n",
       "    .dataframe tbody tr th:only-of-type {\n",
       "        vertical-align: middle;\n",
       "    }\n",
       "\n",
       "    .dataframe tbody tr th {\n",
       "        vertical-align: top;\n",
       "    }\n",
       "\n",
       "    .dataframe thead th {\n",
       "        text-align: right;\n",
       "    }\n",
       "</style>\n",
       "<table border=\"1\" class=\"dataframe\">\n",
       "  <thead>\n",
       "    <tr style=\"text-align: right;\">\n",
       "      <th></th>\n",
       "      <th>universe_id</th>\n",
       "      <th>universe_training_year</th>\n",
       "      <th>universe_training_size</th>\n",
       "      <th>universe_scale</th>\n",
       "      <th>universe_model</th>\n",
       "      <th>universe_exclude_features</th>\n",
       "      <th>universe_exclude_subgroups</th>\n",
       "      <th>q_hat</th>\n",
       "      <th>coverage</th>\n",
       "      <th>avg_size</th>\n",
       "      <th>cov_frau1</th>\n",
       "      <th>cov_nongerman</th>\n",
       "      <th>cov_nongerman_male</th>\n",
       "      <th>cov_nongerman_female</th>\n",
       "    </tr>\n",
       "  </thead>\n",
       "  <tbody>\n",
       "    <tr>\n",
       "      <th>0</th>\n",
       "      <td>876d35cfdafd654037f16ffa9789291b</td>\n",
       "      <td>2014</td>\n",
       "      <td>5k</td>\n",
       "      <td>do-not-scale</td>\n",
       "      <td>penalized_logreg</td>\n",
       "      <td>nationality</td>\n",
       "      <td>keep-all</td>\n",
       "      <td>0.675788</td>\n",
       "      <td>0.911314</td>\n",
       "      <td>1.19475</td>\n",
       "      <td>0.909287</td>\n",
       "      <td>0.923539</td>\n",
       "      <td>0.939836</td>\n",
       "      <td>0.896572</td>\n",
       "    </tr>\n",
       "  </tbody>\n",
       "</table>\n",
       "</div>"
      ],
      "text/plain": [
       "                        universe_id universe_training_year  \\\n",
       "0  876d35cfdafd654037f16ffa9789291b                   2014   \n",
       "\n",
       "  universe_training_size universe_scale    universe_model  \\\n",
       "0                     5k   do-not-scale  penalized_logreg   \n",
       "\n",
       "  universe_exclude_features universe_exclude_subgroups     q_hat  coverage  \\\n",
       "0               nationality                   keep-all  0.675788  0.911314   \n",
       "\n",
       "   avg_size  cov_frau1  cov_nongerman  cov_nongerman_male  \\\n",
       "0   1.19475   0.909287       0.923539            0.939836   \n",
       "\n",
       "   cov_nongerman_female  \n",
       "0              0.896572  "
      ]
     },
     "execution_count": 71,
     "metadata": {},
     "output_type": "execute_result"
    }
   ],
   "source": [
    "cp_metrics_df"
   ]
  },
  {
   "cell_type": "markdown",
   "id": "33774451",
   "metadata": {
    "papermill": {
     "duration": 0.033752,
     "end_time": "2025-07-30T20:51:57.411713",
     "exception": false,
     "start_time": "2025-07-30T20:51:57.377961",
     "status": "completed"
    },
    "tags": []
   },
   "source": [
    "# (Fairness) Metrics"
   ]
  },
  {
   "cell_type": "code",
   "execution_count": 72,
   "id": "debc5d62",
   "metadata": {
    "execution": {
     "iopub.execute_input": "2025-07-30T20:51:57.472706Z",
     "iopub.status.busy": "2025-07-30T20:51:57.472158Z",
     "iopub.status.idle": "2025-07-30T20:51:57.494384Z",
     "shell.execute_reply": "2025-07-30T20:51:57.493481Z"
    },
    "papermill": {
     "duration": 0.05451,
     "end_time": "2025-07-30T20:51:57.496108",
     "exception": false,
     "start_time": "2025-07-30T20:51:57.441598",
     "status": "completed"
    },
    "tags": []
   },
   "outputs": [],
   "source": [
    "# do I need to include maxdeutsch1.missing?\n",
    "\n",
    "import numpy as np\n",
    "\n",
    "colname_to_bin = \"maxdeutsch1\"\n",
    "majority_value = org_train[colname_to_bin].mode()[0]\n",
    "\n",
    "org_test[\"majmin\"] = np.where(org_test[colname_to_bin] == majority_value, \"majority\", \"minority\")"
   ]
  },
  {
   "cell_type": "code",
   "execution_count": 73,
   "id": "06a50de5",
   "metadata": {
    "execution": {
     "iopub.execute_input": "2025-07-30T20:51:57.560975Z",
     "iopub.status.busy": "2025-07-30T20:51:57.560475Z",
     "iopub.status.idle": "2025-07-30T20:52:00.457972Z",
     "shell.execute_reply": "2025-07-30T20:52:00.457051Z"
    },
    "papermill": {
     "duration": 2.931525,
     "end_time": "2025-07-30T20:52:00.459902",
     "exception": false,
     "start_time": "2025-07-30T20:51:57.528377",
     "status": "completed"
    },
    "tags": []
   },
   "outputs": [],
   "source": [
    "example_universe = universe.copy()\n",
    "example_universe[\"cutoff\"] = example_universe[\"cutoff\"][0]\n",
    "example_universe[\"eval_fairness_grouping\"] = example_universe[\"eval_fairness_grouping\"][0]\n",
    "fairness_dict, metric_frame = universe_analysis.compute_metrics(\n",
    "    example_universe,\n",
    "    y_pred_prob=probs_test,\n",
    "    y_test=y_true,\n",
    "    org_test=org_test,\n",
    ")"
   ]
  },
  {
   "cell_type": "markdown",
   "id": "f95d4e02",
   "metadata": {
    "papermill": {
     "duration": 0.026176,
     "end_time": "2025-07-30T20:52:00.524755",
     "exception": false,
     "start_time": "2025-07-30T20:52:00.498579",
     "status": "completed"
    },
    "tags": []
   },
   "source": [
    "# Overall"
   ]
  },
  {
   "cell_type": "markdown",
   "id": "bdee4871",
   "metadata": {
    "papermill": {
     "duration": 0.026049,
     "end_time": "2025-07-30T20:52:00.575719",
     "exception": false,
     "start_time": "2025-07-30T20:52:00.549670",
     "status": "completed"
    },
    "tags": []
   },
   "source": [
    "Fairness\n",
    "Main fairness target: Equalized Odds. Seems to be a better fit than equal opportunity, since we're not only interested in Y = 1. Seems to be a better fit than demographic parity, since we also care about accuracy, not just equal distribution of preds.\n",
    "\n",
    "Pick column for computation of fairness metrics\n",
    "\n",
    "Performance\n",
    "Overall performance measures, most interesting in relation to the measures split by group below"
   ]
  },
  {
   "cell_type": "code",
   "execution_count": 74,
   "id": "c4e067c6",
   "metadata": {
    "execution": {
     "iopub.execute_input": "2025-07-30T20:52:00.627077Z",
     "iopub.status.busy": "2025-07-30T20:52:00.626629Z",
     "iopub.status.idle": "2025-07-30T20:52:00.634864Z",
     "shell.execute_reply": "2025-07-30T20:52:00.634010Z"
    },
    "papermill": {
     "duration": 0.035615,
     "end_time": "2025-07-30T20:52:00.636482",
     "exception": false,
     "start_time": "2025-07-30T20:52:00.600867",
     "status": "completed"
    },
    "tags": []
   },
   "outputs": [
    {
     "data": {
      "text/plain": [
       "accuracy                   0.216709\n",
       "balanced accuracy          0.531490\n",
       "f1                         0.238252\n",
       "precision                  0.136105\n",
       "false positive rate        0.891921\n",
       "false negative rate        0.045099\n",
       "selection rate             0.900000\n",
       "count                  89710.000000\n",
       "dtype: float64"
      ]
     },
     "execution_count": 74,
     "metadata": {},
     "output_type": "execute_result"
    }
   ],
   "source": [
    "metric_frame.overall"
   ]
  },
  {
   "cell_type": "markdown",
   "id": "e968fe9d",
   "metadata": {
    "papermill": {
     "duration": 0.026338,
     "end_time": "2025-07-30T20:52:00.689072",
     "exception": false,
     "start_time": "2025-07-30T20:52:00.662734",
     "status": "completed"
    },
    "tags": []
   },
   "source": [
    "By Group"
   ]
  },
  {
   "cell_type": "code",
   "execution_count": 75,
   "id": "ec325bce",
   "metadata": {
    "execution": {
     "iopub.execute_input": "2025-07-30T20:52:00.741141Z",
     "iopub.status.busy": "2025-07-30T20:52:00.740243Z",
     "iopub.status.idle": "2025-07-30T20:52:00.756299Z",
     "shell.execute_reply": "2025-07-30T20:52:00.755423Z"
    },
    "papermill": {
     "duration": 0.043789,
     "end_time": "2025-07-30T20:52:00.757883",
     "exception": false,
     "start_time": "2025-07-30T20:52:00.714094",
     "status": "completed"
    },
    "tags": []
   },
   "outputs": [
    {
     "data": {
      "text/html": [
       "<div>\n",
       "<style scoped>\n",
       "    .dataframe tbody tr th:only-of-type {\n",
       "        vertical-align: middle;\n",
       "    }\n",
       "\n",
       "    .dataframe tbody tr th {\n",
       "        vertical-align: top;\n",
       "    }\n",
       "\n",
       "    .dataframe thead th {\n",
       "        text-align: right;\n",
       "    }\n",
       "</style>\n",
       "<table border=\"1\" class=\"dataframe\">\n",
       "  <thead>\n",
       "    <tr style=\"text-align: right;\">\n",
       "      <th></th>\n",
       "      <th>accuracy</th>\n",
       "      <th>balanced accuracy</th>\n",
       "      <th>f1</th>\n",
       "      <th>precision</th>\n",
       "      <th>false positive rate</th>\n",
       "      <th>false negative rate</th>\n",
       "      <th>selection rate</th>\n",
       "      <th>count</th>\n",
       "    </tr>\n",
       "    <tr>\n",
       "      <th>majmin</th>\n",
       "      <th></th>\n",
       "      <th></th>\n",
       "      <th></th>\n",
       "      <th></th>\n",
       "      <th></th>\n",
       "      <th></th>\n",
       "      <th></th>\n",
       "      <th></th>\n",
       "    </tr>\n",
       "  </thead>\n",
       "  <tbody>\n",
       "    <tr>\n",
       "      <th>majority</th>\n",
       "      <td>0.238239</td>\n",
       "      <td>0.538682</td>\n",
       "      <td>0.247304</td>\n",
       "      <td>0.142221</td>\n",
       "      <td>0.869682</td>\n",
       "      <td>0.052954</td>\n",
       "      <td>0.879905</td>\n",
       "      <td>69170.0</td>\n",
       "    </tr>\n",
       "    <tr>\n",
       "      <th>minority</th>\n",
       "      <td>0.144206</td>\n",
       "      <td>0.509917</td>\n",
       "      <td>0.209764</td>\n",
       "      <td>0.117378</td>\n",
       "      <td>0.965386</td>\n",
       "      <td>0.014780</td>\n",
       "      <td>0.967673</td>\n",
       "      <td>20540.0</td>\n",
       "    </tr>\n",
       "  </tbody>\n",
       "</table>\n",
       "</div>"
      ],
      "text/plain": [
       "          accuracy  balanced accuracy        f1  precision  \\\n",
       "majmin                                                       \n",
       "majority  0.238239           0.538682  0.247304   0.142221   \n",
       "minority  0.144206           0.509917  0.209764   0.117378   \n",
       "\n",
       "          false positive rate  false negative rate  selection rate    count  \n",
       "majmin                                                                       \n",
       "majority             0.869682             0.052954        0.879905  69170.0  \n",
       "minority             0.965386             0.014780        0.967673  20540.0  "
      ]
     },
     "execution_count": 75,
     "metadata": {},
     "output_type": "execute_result"
    }
   ],
   "source": [
    "metric_frame.by_group"
   ]
  },
  {
   "cell_type": "code",
   "execution_count": 76,
   "id": "a9ddbe63",
   "metadata": {
    "execution": {
     "iopub.execute_input": "2025-07-30T20:52:00.811300Z",
     "iopub.status.busy": "2025-07-30T20:52:00.810481Z",
     "iopub.status.idle": "2025-07-30T20:52:03.177648Z",
     "shell.execute_reply": "2025-07-30T20:52:03.176723Z"
    },
    "papermill": {
     "duration": 2.395105,
     "end_time": "2025-07-30T20:52:03.179397",
     "exception": false,
     "start_time": "2025-07-30T20:52:00.784292",
     "status": "completed"
    },
    "tags": []
   },
   "outputs": [
    {
     "data": {
      "text/plain": [
       "array([[<Axes: title={'center': 'accuracy'}, xlabel='majmin'>,\n",
       "        <Axes: title={'center': 'balanced accuracy'}, xlabel='majmin'>,\n",
       "        <Axes: title={'center': 'f1'}, xlabel='majmin'>],\n",
       "       [<Axes: title={'center': 'precision'}, xlabel='majmin'>,\n",
       "        <Axes: title={'center': 'false positive rate'}, xlabel='majmin'>,\n",
       "        <Axes: title={'center': 'false negative rate'}, xlabel='majmin'>],\n",
       "       [<Axes: title={'center': 'selection rate'}, xlabel='majmin'>,\n",
       "        <Axes: title={'center': 'count'}, xlabel='majmin'>,\n",
       "        <Axes: xlabel='majmin'>]], dtype=object)"
      ]
     },
     "execution_count": 76,
     "metadata": {},
     "output_type": "execute_result"
    },
    {
     "data": {
      "image/png": "[encoded data removed]",
      "text/plain": [
       "<Figure size 1200x800 with 9 Axes>"
      ]
     },
     "metadata": {},
     "output_type": "display_data"
    }
   ],
   "source": [
    "# In a graphic\n",
    "metric_frame.by_group.plot.bar(\n",
    "    subplots=True,\n",
    "    layout=[3, 3],\n",
    "    legend=False,\n",
    "    figsize=[12, 8],\n",
    "    title=\"Show all metrics\",\n",
    ")"
   ]
  },
  {
   "cell_type": "markdown",
   "id": "f57a0bac",
   "metadata": {
    "papermill": {
     "duration": 0.029915,
     "end_time": "2025-07-30T20:52:03.241997",
     "exception": false,
     "start_time": "2025-07-30T20:52:03.212082",
     "status": "completed"
    },
    "tags": []
   },
   "source": [
    "# Final Output"
   ]
  },
  {
   "cell_type": "code",
   "execution_count": 77,
   "id": "96d280a3",
   "metadata": {
    "execution": {
     "iopub.execute_input": "2025-07-30T20:52:03.304711Z",
     "iopub.status.busy": "2025-07-30T20:52:03.304089Z",
     "iopub.status.idle": "2025-07-30T20:52:03.312263Z",
     "shell.execute_reply": "2025-07-30T20:52:03.311301Z"
    },
    "papermill": {
     "duration": 0.041431,
     "end_time": "2025-07-30T20:52:03.313947",
     "exception": false,
     "start_time": "2025-07-30T20:52:03.272516",
     "status": "completed"
    },
    "tags": []
   },
   "outputs": [
    {
     "data": {
      "text/plain": [
       "4"
      ]
     },
     "execution_count": 77,
     "metadata": {},
     "output_type": "execute_result"
    }
   ],
   "source": [
    "sub_universes = universe_analysis.generate_sub_universes()\n",
    "len(sub_universes)"
   ]
  },
  {
   "cell_type": "code",
   "execution_count": 78,
   "id": "92adf7ba",
   "metadata": {
    "execution": {
     "iopub.execute_input": "2025-07-30T20:52:03.379918Z",
     "iopub.status.busy": "2025-07-30T20:52:03.379016Z",
     "iopub.status.idle": "2025-07-30T20:52:03.385692Z",
     "shell.execute_reply": "2025-07-30T20:52:03.384754Z"
    },
    "papermill": {
     "duration": 0.040983,
     "end_time": "2025-07-30T20:52:03.387304",
     "exception": false,
     "start_time": "2025-07-30T20:52:03.346321",
     "status": "completed"
    },
    "tags": []
   },
   "outputs": [],
   "source": [
    "def filter_sub_universe_data(sub_universe, org_test):\n",
    "    # Keep all rows — no filtering\n",
    "    keep_rows_mask = np.ones(org_test.shape[0], dtype=bool)\n",
    "\n",
    "    print(f\"[INFO] Keeping all rows: {keep_rows_mask.sum()} rows retained.\")\n",
    "    return keep_rows_mask"
   ]
  },
  {
   "cell_type": "code",
   "execution_count": 79,
   "id": "4a759155",
   "metadata": {
    "execution": {
     "iopub.execute_input": "2025-07-30T20:52:03.444311Z",
     "iopub.status.busy": "2025-07-30T20:52:03.443414Z",
     "iopub.status.idle": "2025-07-30T20:52:11.547827Z",
     "shell.execute_reply": "2025-07-30T20:52:11.546871Z"
    },
    "papermill": {
     "duration": 8.134015,
     "end_time": "2025-07-30T20:52:11.549345",
     "exception": false,
     "start_time": "2025-07-30T20:52:03.415330",
     "status": "completed"
    },
    "tags": []
   },
   "outputs": [
    {
     "name": "stdout",
     "output_type": "stream",
     "text": [
      "Stopping execution_time clock.\n",
      "[INFO] Keeping all rows: 89710 rows retained.\n"
     ]
    },
    {
     "name": "stdout",
     "output_type": "stream",
     "text": [
      "[INFO] Keeping all rows: 89710 rows retained.\n"
     ]
    },
    {
     "name": "stdout",
     "output_type": "stream",
     "text": [
      "[INFO] Keeping all rows: 89710 rows retained.\n"
     ]
    },
    {
     "name": "stdout",
     "output_type": "stream",
     "text": [
      "[INFO] Keeping all rows: 89710 rows retained.\n"
     ]
    },
    {
     "data": {
      "text/html": [
       "<div>\n",
       "<style scoped>\n",
       "    .dataframe tbody tr th:only-of-type {\n",
       "        vertical-align: middle;\n",
       "    }\n",
       "\n",
       "    .dataframe tbody tr th {\n",
       "        vertical-align: top;\n",
       "    }\n",
       "\n",
       "    .dataframe thead th {\n",
       "        text-align: right;\n",
       "    }\n",
       "</style>\n",
       "<table border=\"1\" class=\"dataframe\">\n",
       "  <thead>\n",
       "    <tr style=\"text-align: right;\">\n",
       "      <th></th>\n",
       "      <th>run_no</th>\n",
       "      <th>universe_id</th>\n",
       "      <th>universe_settings</th>\n",
       "      <th>execution_time</th>\n",
       "      <th>test_size_n</th>\n",
       "      <th>test_size_frac</th>\n",
       "      <th>fair_main_equalized_odds_difference</th>\n",
       "      <th>fair_main_equalized_odds_ratio</th>\n",
       "      <th>fair_main_demographic_parity_difference</th>\n",
       "      <th>fair_main_demographic_parity_ratio</th>\n",
       "      <th>...</th>\n",
       "      <th>perf_grp_precision_0</th>\n",
       "      <th>perf_grp_precision_1</th>\n",
       "      <th>perf_grp_false positive rate_0</th>\n",
       "      <th>perf_grp_false positive rate_1</th>\n",
       "      <th>perf_grp_false negative rate_0</th>\n",
       "      <th>perf_grp_false negative rate_1</th>\n",
       "      <th>perf_grp_selection rate_0</th>\n",
       "      <th>perf_grp_selection rate_1</th>\n",
       "      <th>perf_grp_count_0</th>\n",
       "      <th>perf_grp_count_1</th>\n",
       "    </tr>\n",
       "  </thead>\n",
       "  <tbody>\n",
       "    <tr>\n",
       "      <th>0</th>\n",
       "      <td>14</td>\n",
       "      <td>876d35cfdafd654037f16ffa9789291b</td>\n",
       "      <td>{\"cutoff\": \"quantile_0.1\", \"eval_fairness_grou...</td>\n",
       "      <td>25.67087</td>\n",
       "      <td>89710</td>\n",
       "      <td>1.0</td>\n",
       "      <td>0.095704</td>\n",
       "      <td>0.900864</td>\n",
       "      <td>0.087768</td>\n",
       "      <td>0.909300</td>\n",
       "      <td>...</td>\n",
       "      <td>NaN</td>\n",
       "      <td>NaN</td>\n",
       "      <td>NaN</td>\n",
       "      <td>NaN</td>\n",
       "      <td>NaN</td>\n",
       "      <td>NaN</td>\n",
       "      <td>NaN</td>\n",
       "      <td>NaN</td>\n",
       "      <td>NaN</td>\n",
       "      <td>NaN</td>\n",
       "    </tr>\n",
       "    <tr>\n",
       "      <th>0</th>\n",
       "      <td>14</td>\n",
       "      <td>876d35cfdafd654037f16ffa9789291b</td>\n",
       "      <td>{\"cutoff\": \"quantile_0.1\", \"eval_fairness_grou...</td>\n",
       "      <td>25.67087</td>\n",
       "      <td>89710</td>\n",
       "      <td>1.0</td>\n",
       "      <td>0.095704</td>\n",
       "      <td>0.900864</td>\n",
       "      <td>0.087768</td>\n",
       "      <td>0.909300</td>\n",
       "      <td>...</td>\n",
       "      <td>0.117378</td>\n",
       "      <td>0.142221</td>\n",
       "      <td>0.965386</td>\n",
       "      <td>0.869682</td>\n",
       "      <td>0.014780</td>\n",
       "      <td>0.052954</td>\n",
       "      <td>0.967673</td>\n",
       "      <td>0.879905</td>\n",
       "      <td>20540.0</td>\n",
       "      <td>69170.0</td>\n",
       "    </tr>\n",
       "    <tr>\n",
       "      <th>0</th>\n",
       "      <td>14</td>\n",
       "      <td>876d35cfdafd654037f16ffa9789291b</td>\n",
       "      <td>{\"cutoff\": \"quantile_0.25\", \"eval_fairness_gro...</td>\n",
       "      <td>25.67087</td>\n",
       "      <td>89710</td>\n",
       "      <td>1.0</td>\n",
       "      <td>0.207074</td>\n",
       "      <td>0.767057</td>\n",
       "      <td>0.189877</td>\n",
       "      <td>0.788178</td>\n",
       "      <td>...</td>\n",
       "      <td>NaN</td>\n",
       "      <td>NaN</td>\n",
       "      <td>NaN</td>\n",
       "      <td>NaN</td>\n",
       "      <td>NaN</td>\n",
       "      <td>NaN</td>\n",
       "      <td>NaN</td>\n",
       "      <td>NaN</td>\n",
       "      <td>NaN</td>\n",
       "      <td>NaN</td>\n",
       "    </tr>\n",
       "    <tr>\n",
       "      <th>0</th>\n",
       "      <td>14</td>\n",
       "      <td>876d35cfdafd654037f16ffa9789291b</td>\n",
       "      <td>{\"cutoff\": \"quantile_0.25\", \"eval_fairness_gro...</td>\n",
       "      <td>25.67087</td>\n",
       "      <td>89710</td>\n",
       "      <td>1.0</td>\n",
       "      <td>0.207074</td>\n",
       "      <td>0.767057</td>\n",
       "      <td>0.189877</td>\n",
       "      <td>0.788178</td>\n",
       "      <td>...</td>\n",
       "      <td>0.122637</td>\n",
       "      <td>0.162410</td>\n",
       "      <td>0.888950</td>\n",
       "      <td>0.681876</td>\n",
       "      <td>0.046453</td>\n",
       "      <td>0.131619</td>\n",
       "      <td>0.896397</td>\n",
       "      <td>0.706520</td>\n",
       "      <td>20540.0</td>\n",
       "      <td>69170.0</td>\n",
       "    </tr>\n",
       "  </tbody>\n",
       "</table>\n",
       "<p>4 rows × 50 columns</p>\n",
       "</div>"
      ],
      "text/plain": [
       "  run_no                       universe_id  \\\n",
       "0     14  876d35cfdafd654037f16ffa9789291b   \n",
       "0     14  876d35cfdafd654037f16ffa9789291b   \n",
       "0     14  876d35cfdafd654037f16ffa9789291b   \n",
       "0     14  876d35cfdafd654037f16ffa9789291b   \n",
       "\n",
       "                                   universe_settings  execution_time  \\\n",
       "0  {\"cutoff\": \"quantile_0.1\", \"eval_fairness_grou...        25.67087   \n",
       "0  {\"cutoff\": \"quantile_0.1\", \"eval_fairness_grou...        25.67087   \n",
       "0  {\"cutoff\": \"quantile_0.25\", \"eval_fairness_gro...        25.67087   \n",
       "0  {\"cutoff\": \"quantile_0.25\", \"eval_fairness_gro...        25.67087   \n",
       "\n",
       "   test_size_n  test_size_frac  fair_main_equalized_odds_difference  \\\n",
       "0        89710             1.0                             0.095704   \n",
       "0        89710             1.0                             0.095704   \n",
       "0        89710             1.0                             0.207074   \n",
       "0        89710             1.0                             0.207074   \n",
       "\n",
       "   fair_main_equalized_odds_ratio  fair_main_demographic_parity_difference  \\\n",
       "0                        0.900864                                 0.087768   \n",
       "0                        0.900864                                 0.087768   \n",
       "0                        0.767057                                 0.189877   \n",
       "0                        0.767057                                 0.189877   \n",
       "\n",
       "   fair_main_demographic_parity_ratio  ...  perf_grp_precision_0  \\\n",
       "0                            0.909300  ...                   NaN   \n",
       "0                            0.909300  ...              0.117378   \n",
       "0                            0.788178  ...                   NaN   \n",
       "0                            0.788178  ...              0.122637   \n",
       "\n",
       "   perf_grp_precision_1  perf_grp_false positive rate_0  \\\n",
       "0                   NaN                             NaN   \n",
       "0              0.142221                        0.965386   \n",
       "0                   NaN                             NaN   \n",
       "0              0.162410                        0.888950   \n",
       "\n",
       "   perf_grp_false positive rate_1  perf_grp_false negative rate_0  \\\n",
       "0                             NaN                             NaN   \n",
       "0                        0.869682                        0.014780   \n",
       "0                             NaN                             NaN   \n",
       "0                        0.681876                        0.046453   \n",
       "\n",
       "   perf_grp_false negative rate_1  perf_grp_selection rate_0  \\\n",
       "0                             NaN                        NaN   \n",
       "0                        0.052954                   0.967673   \n",
       "0                             NaN                        NaN   \n",
       "0                        0.131619                   0.896397   \n",
       "\n",
       "   perf_grp_selection rate_1  perf_grp_count_0  perf_grp_count_1  \n",
       "0                        NaN               NaN               NaN  \n",
       "0                   0.879905           20540.0           69170.0  \n",
       "0                        NaN               NaN               NaN  \n",
       "0                   0.706520           20540.0           69170.0  \n",
       "\n",
       "[4 rows x 50 columns]"
      ]
     },
     "execution_count": 79,
     "metadata": {},
     "output_type": "execute_result"
    }
   ],
   "source": [
    "final_output = universe_analysis.generate_final_output(\n",
    "    y_pred_prob=probs_test,\n",
    "    y_test=y_true,\n",
    "    org_test=org_test,\n",
    "    filter_data=filter_sub_universe_data,\n",
    "    cp_metrics_df=cp_metrics_df,\n",
    "    save=True,\n",
    ")\n",
    "final_output"
   ]
  },
  {
   "cell_type": "code",
   "execution_count": null,
   "id": "721ff514-cb11-46f8-b6fc-50392f74b5cb",
   "metadata": {
    "papermill": {
     "duration": 0.041275,
     "end_time": "2025-07-30T20:52:11.622014",
     "exception": false,
     "start_time": "2025-07-30T20:52:11.580739",
     "status": "completed"
    },
    "tags": []
   },
   "outputs": [],
   "source": []
  }
 ],
 "metadata": {
  "celltoolbar": "Tags",
  "kernelspec": {
   "display_name": "Python (CMA Fairness)",
   "language": "python",
   "name": "cma_fair_env"
  },
  "language_info": {
   "codemirror_mode": {
    "name": "ipython",
    "version": 3
   },
   "file_extension": ".py",
   "mimetype": "text/x-python",
   "name": "python",
   "nbconvert_exporter": "python",
   "pygments_lexer": "ipython3",
   "version": "3.10.12"
  },
  "papermill": {
   "default_parameters": {},
   "duration": 37.752845,
   "end_time": "2025-07-30T20:52:12.357412",
   "environment_variables": {},
   "exception": null,
   "input_path": "universe_analysis.ipynb",
   "output_path": "output/runs/14/notebooks/m_14-876d35cfdafd654037f16ffa9789291b.ipynb",
   "parameters": {
    "output_dir": "output",
    "run_no": "14",
    "seed": "2023",
    "universe": "{\"cutoff\": [\"quantile_0.1\", \"quantile_0.25\"], \"eval_fairness_grouping\": [\"majority-minority\", \"nationality-all\"], \"exclude_features\": \"nationality\", \"exclude_subgroups\": \"keep-all\", \"model\": \"penalized_logreg\", \"scale\": \"do-not-scale\", \"training_size\": \"5k\", \"training_year\": \"2014\"}",
    "universe_id": "876d35cfdafd654037f16ffa9789291b"
   },
   "start_time": "2025-07-30T20:51:34.604567",
   "version": "2.6.0"
  }
 },
 "nbformat": 4,
 "nbformat_minor": 5
}