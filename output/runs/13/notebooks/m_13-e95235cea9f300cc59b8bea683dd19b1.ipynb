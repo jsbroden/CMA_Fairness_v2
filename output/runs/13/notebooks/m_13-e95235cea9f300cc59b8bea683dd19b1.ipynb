{
 "cells": [
  {
   "cell_type": "code",
   "execution_count": 1,
   "id": "f159f837-637b-42ba-96b5-ec9a68c44524",
   "metadata": {
    "execution": {
     "iopub.execute_input": "2025-07-16T11:42:39.810346Z",
     "iopub.status.busy": "2025-07-16T11:42:39.809631Z",
     "iopub.status.idle": "2025-07-16T11:42:39.823818Z",
     "shell.execute_reply": "2025-07-16T11:42:39.822827Z"
    },
    "papermill": {
     "duration": 0.0321,
     "end_time": "2025-07-16T11:42:39.825655",
     "exception": false,
     "start_time": "2025-07-16T11:42:39.793555",
     "status": "completed"
    },
    "tags": []
   },
   "outputs": [
    {
     "name": "stdout",
     "output_type": "stream",
     "text": [
      "/dss/dsshome1/0C/ra93lal2/cma/CMA_Fairness_v2\n"
     ]
    },
    {
     "name": "stderr",
     "output_type": "stream",
     "text": [
      "/dss/dsshome1/0C/ra93lal2/.local/share/virtualenvs/CMA_Fairness_v2-3j10GkSs/lib/python3.10/site-packages/IPython/core/magics/osm.py:393: UserWarning: This is now an optional IPython functionality, using bookmarks requires you to install the `pickleshare` library.\n",
      "  bkms = self.shell.db.get('bookmarks', {})\n",
      "/dss/dsshome1/0C/ra93lal2/.local/share/virtualenvs/CMA_Fairness_v2-3j10GkSs/lib/python3.10/site-packages/IPython/core/magics/osm.py:417: UserWarning: This is now an optional IPython functionality, setting dhist requires you to install the `pickleshare` library.\n",
      "  self.shell.db['dhist'] = compress_dhist(dhist)[-100:]\n"
     ]
    }
   ],
   "source": [
    "%cd ~/cma/CMA_Fairness_v2"
   ]
  },
  {
   "cell_type": "markdown",
   "id": "de2603b9",
   "metadata": {
    "papermill": {
     "duration": 0.01412,
     "end_time": "2025-07-16T11:42:39.855243",
     "exception": false,
     "start_time": "2025-07-16T11:42:39.841123",
     "status": "completed"
    },
    "tags": []
   },
   "source": [
    "The following cell holds the definition of our parameters, these values can be overriden by rendering the with e.g. the following command:\n",
    "\n",
    "papermill -p alpha 0.2 -p ratio 0.3 universe_analysis.ipynb output/test_run.ipynb"
   ]
  },
  {
   "cell_type": "code",
   "execution_count": 2,
   "id": "a80968a0-40bb-4fa9-85ef-2d5eefb01975",
   "metadata": {
    "execution": {
     "iopub.execute_input": "2025-07-16T11:42:39.885667Z",
     "iopub.status.busy": "2025-07-16T11:42:39.884895Z",
     "iopub.status.idle": "2025-07-16T11:42:39.891069Z",
     "shell.execute_reply": "2025-07-16T11:42:39.889965Z"
    },
    "papermill": {
     "duration": 0.023608,
     "end_time": "2025-07-16T11:42:39.892975",
     "exception": false,
     "start_time": "2025-07-16T11:42:39.869367",
     "status": "completed"
    },
    "tags": []
   },
   "outputs": [
    {
     "name": "stdout",
     "output_type": "stream",
     "text": [
      "Current working directory: /dss/dsshome1/0C/ra93lal2/cma/CMA_Fairness_v2\n"
     ]
    }
   ],
   "source": [
    "import os\n",
    "print(\"Current working directory:\", os.getcwd())"
   ]
  },
  {
   "cell_type": "code",
   "execution_count": 3,
   "id": "2dce4c03",
   "metadata": {
    "execution": {
     "iopub.execute_input": "2025-07-16T11:42:39.927309Z",
     "iopub.status.busy": "2025-07-16T11:42:39.926671Z",
     "iopub.status.idle": "2025-07-16T11:42:39.932818Z",
     "shell.execute_reply": "2025-07-16T11:42:39.931882Z"
    },
    "papermill": {
     "duration": 0.023792,
     "end_time": "2025-07-16T11:42:39.934456",
     "exception": false,
     "start_time": "2025-07-16T11:42:39.910664",
     "status": "completed"
    },
    "tags": [
     "parameters"
    ]
   },
   "outputs": [],
   "source": [
    "run_no = 0\n",
    "universe_id = \"test\"\n",
    "universe = {\n",
    "    #\"scale\": \"scale\", # \"scale\", \"do-not-scale\",\n",
    "    #\"encode_categorical\": \"one-hot\", # \"ordinal\", \"one-hot\"\n",
    "    \"model\": \"elasticnet\", # \"logreg\", \"penalized_logreg\", \"rf\", \"gbm\", \"elasticnet\"\n",
    "    \"cutoff\": [\"quantile_0.15\", \"quantile_0.30\"],\n",
    "    \"exclude_features\": \"nationality-sex\", # \"none\", \"nationality\", \"sex\", \"nationality-sex\"\n",
    "    \"exclude_subgroups\": \"keep-all\", # \"keep-all\", \"drop-non-german\"\n",
    "    \"eval_fairness_grouping\": [\"majority-minority\", \"nationality-all\"]\n",
    "}\n",
    "\n",
    "output_dir=\"./output\"\n",
    "seed=0"
   ]
  },
  {
   "cell_type": "code",
   "execution_count": 4,
   "id": "596b9487",
   "metadata": {
    "execution": {
     "iopub.execute_input": "2025-07-16T11:42:39.966806Z",
     "iopub.status.busy": "2025-07-16T11:42:39.965962Z",
     "iopub.status.idle": "2025-07-16T11:42:39.971373Z",
     "shell.execute_reply": "2025-07-16T11:42:39.970360Z"
    },
    "papermill": {
     "duration": 0.022798,
     "end_time": "2025-07-16T11:42:39.973180",
     "exception": false,
     "start_time": "2025-07-16T11:42:39.950382",
     "status": "completed"
    },
    "tags": [
     "injected-parameters"
    ]
   },
   "outputs": [],
   "source": [
    "# Parameters\n",
    "universe_id = \"e95235cea9f300cc59b8bea683dd19b1\"\n",
    "run_no = \"13\"\n",
    "universe = \"{\\\"cutoff\\\": [\\\"quantile_0.1\\\", \\\"quantile_0.25\\\"], \\\"eval_fairness_grouping\\\": [\\\"majority-minority\\\", \\\"nationality-all\\\"], \\\"exclude_features\\\": \\\"sex\\\", \\\"exclude_subgroups\\\": \\\"drop-non-german\\\", \\\"model\\\": \\\"rf\\\"}\"\n",
    "output_dir = \"output\"\n",
    "seed = \"2023\"\n"
   ]
  },
  {
   "cell_type": "code",
   "execution_count": 5,
   "id": "1650acaf",
   "metadata": {
    "execution": {
     "iopub.execute_input": "2025-07-16T11:42:40.009195Z",
     "iopub.status.busy": "2025-07-16T11:42:40.008203Z",
     "iopub.status.idle": "2025-07-16T11:42:40.013600Z",
     "shell.execute_reply": "2025-07-16T11:42:40.012568Z"
    },
    "papermill": {
     "duration": 0.023677,
     "end_time": "2025-07-16T11:42:40.015271",
     "exception": false,
     "start_time": "2025-07-16T11:42:39.991594",
     "status": "completed"
    },
    "tags": []
   },
   "outputs": [],
   "source": [
    "import json\n",
    "# Parse universe into dict if it is passed as a string\n",
    "if isinstance(universe, str):\n",
    "    universe = json.loads(universe)"
   ]
  },
  {
   "cell_type": "code",
   "execution_count": 6,
   "id": "16620c48",
   "metadata": {
    "execution": {
     "iopub.execute_input": "2025-07-16T11:42:40.048505Z",
     "iopub.status.busy": "2025-07-16T11:42:40.047830Z",
     "iopub.status.idle": "2025-07-16T11:42:40.094332Z",
     "shell.execute_reply": "2025-07-16T11:42:40.093473Z"
    },
    "papermill": {
     "duration": 0.064521,
     "end_time": "2025-07-16T11:42:40.096326",
     "exception": false,
     "start_time": "2025-07-16T11:42:40.031805",
     "status": "completed"
    },
    "tags": []
   },
   "outputs": [],
   "source": [
    "# Auto-reload the custom package\n",
    "%load_ext autoreload\n",
    "%autoreload 1\n",
    "%aimport fairness_multiverse"
   ]
  },
  {
   "cell_type": "code",
   "execution_count": 7,
   "id": "01c5c9f3",
   "metadata": {
    "execution": {
     "iopub.execute_input": "2025-07-16T11:42:40.128642Z",
     "iopub.status.busy": "2025-07-16T11:42:40.127854Z",
     "iopub.status.idle": "2025-07-16T11:42:42.233300Z",
     "shell.execute_reply": "2025-07-16T11:42:42.231943Z"
    },
    "papermill": {
     "duration": 2.123962,
     "end_time": "2025-07-16T11:42:42.235659",
     "exception": false,
     "start_time": "2025-07-16T11:42:40.111697",
     "status": "completed"
    },
    "tags": []
   },
   "outputs": [],
   "source": [
    "from fairness_multiverse.universe import UniverseAnalysis\n",
    "\n",
    "universe_analysis = UniverseAnalysis(\n",
    "    run_no = run_no,\n",
    "    universe_id = universe_id,\n",
    "    universe = universe,\n",
    "    output_dir=output_dir,\n",
    ")"
   ]
  },
  {
   "cell_type": "code",
   "execution_count": 8,
   "id": "68c9d67d-7ef8-4974-b431-56f099b5f338",
   "metadata": {
    "execution": {
     "iopub.execute_input": "2025-07-16T11:42:42.270459Z",
     "iopub.status.busy": "2025-07-16T11:42:42.269752Z",
     "iopub.status.idle": "2025-07-16T11:42:42.277810Z",
     "shell.execute_reply": "2025-07-16T11:42:42.276548Z"
    },
    "papermill": {
     "duration": 0.027878,
     "end_time": "2025-07-16T11:42:42.280415",
     "exception": false,
     "start_time": "2025-07-16T11:42:42.252537",
     "status": "completed"
    },
    "tags": []
   },
   "outputs": [
    {
     "name": "stdout",
     "output_type": "stream",
     "text": [
      "Variable              Type                Data/Info\n",
      "---------------------------------------------------\n",
      "UniverseAnalysis      type                <class 'fairness_multiver<...>iverse.UniverseAnalysis'>\n",
      "fairness_multiverse   module              <module 'fairness_multive<...>_multiverse/__init__.py'>\n",
      "json                  module              <module 'json' from '/usr<...>on3.10/json/__init__.py'>\n",
      "os                    module              <module 'os' from '/usr/lib/python3.10/os.py'>\n",
      "output_dir            str                 output\n",
      "run_no                str                 13\n",
      "seed                  str                 2023\n",
      "universe              dict                n=5\n",
      "universe_analysis     UniverseAnalysis    <fairness_multiverse.univ<...>object at 0x7fb165b65c30>\n",
      "universe_id           str                 e95235cea9f300cc59b8bea683dd19b1\n"
     ]
    }
   ],
   "source": [
    "%whos"
   ]
  },
  {
   "cell_type": "code",
   "execution_count": 9,
   "id": "106241f5",
   "metadata": {
    "execution": {
     "iopub.execute_input": "2025-07-16T11:42:42.321914Z",
     "iopub.status.busy": "2025-07-16T11:42:42.321420Z",
     "iopub.status.idle": "2025-07-16T11:42:42.328100Z",
     "shell.execute_reply": "2025-07-16T11:42:42.327235Z"
    },
    "papermill": {
     "duration": 0.026092,
     "end_time": "2025-07-16T11:42:42.329928",
     "exception": false,
     "start_time": "2025-07-16T11:42:42.303836",
     "status": "completed"
    },
    "tags": []
   },
   "outputs": [
    {
     "name": "stdout",
     "output_type": "stream",
     "text": [
      "Using Seed: 2023\n"
     ]
    }
   ],
   "source": [
    "import numpy as np\n",
    "parsed_seed = int(seed)\n",
    "np.random.seed(parsed_seed)\n",
    "print(f\"Using Seed: {parsed_seed}\")"
   ]
  },
  {
   "cell_type": "markdown",
   "id": "e0ebdc57",
   "metadata": {
    "papermill": {
     "duration": 0.016571,
     "end_time": "2025-07-16T11:42:42.363010",
     "exception": false,
     "start_time": "2025-07-16T11:42:42.346439",
     "status": "completed"
    },
    "tags": []
   },
   "source": [
    "# Loading Data"
   ]
  },
  {
   "cell_type": "markdown",
   "id": "681925a3",
   "metadata": {
    "papermill": {
     "duration": 0.015582,
     "end_time": "2025-07-16T11:42:42.394429",
     "exception": false,
     "start_time": "2025-07-16T11:42:42.378847",
     "status": "completed"
    },
    "tags": []
   },
   "source": [
    "Load siab_train, siab_test, siab_calib and/or \n",
    "load siab_train_features, siab_train_labels"
   ]
  },
  {
   "cell_type": "code",
   "execution_count": 10,
   "id": "f0496b8a",
   "metadata": {
    "execution": {
     "iopub.execute_input": "2025-07-16T11:42:42.428037Z",
     "iopub.status.busy": "2025-07-16T11:42:42.427559Z",
     "iopub.status.idle": "2025-07-16T11:42:55.594329Z",
     "shell.execute_reply": "2025-07-16T11:42:55.592918Z"
    },
    "papermill": {
     "duration": 13.186143,
     "end_time": "2025-07-16T11:42:55.595990",
     "exception": false,
     "start_time": "2025-07-16T11:42:42.409847",
     "status": "completed"
    },
    "tags": []
   },
   "outputs": [
    {
     "name": "stdout",
     "output_type": "stream",
     "text": [
      "Loading SIAB data from cache: data/siab_cached.csv.gz\n"
     ]
    },
    {
     "name": "stdout",
     "output_type": "stream",
     "text": [
      "(643690, 164)\n"
     ]
    }
   ],
   "source": [
    "# Do I need to load siab? Delete this cell?\n",
    "\n",
    "from pathlib import Path\n",
    "import pandas as pd\n",
    "\n",
    "# File paths\n",
    "raw_file = Path(\"data/raw/siab.csv\")\n",
    "cache_file = Path(\"data/siab_cached.csv.gz\")\n",
    "\n",
    "# Ensure cache directory exists\n",
    "cache_file.parent.mkdir(parents=True, exist_ok=True)\n",
    "\n",
    "# Load with simple caching\n",
    "if cache_file.exists():\n",
    "    print(f\"Loading SIAB data from cache: {cache_file}\")\n",
    "    siab = pd.read_csv(cache_file, compression='gzip')\n",
    "else:\n",
    "    print(f\"Cache not found. Reading raw SIAB data: {raw_file}\")\n",
    "    siab = pd.read_csv(raw_file)\n",
    "    siab.to_csv(cache_file, index=False, compression='gzip')\n",
    "    print(f\"Cached SIAB data to: {cache_file}\")\n",
    "\n",
    "# Now use `siab` DataFrame as needed\n",
    "print(siab.shape)\n"
   ]
  },
  {
   "cell_type": "code",
   "execution_count": 11,
   "id": "a0edb063",
   "metadata": {
    "execution": {
     "iopub.execute_input": "2025-07-16T11:42:55.635166Z",
     "iopub.status.busy": "2025-07-16T11:42:55.634185Z",
     "iopub.status.idle": "2025-07-16T11:42:56.067418Z",
     "shell.execute_reply": "2025-07-16T11:42:56.066268Z"
    },
    "papermill": {
     "duration": 0.454339,
     "end_time": "2025-07-16T11:42:56.069769",
     "exception": false,
     "start_time": "2025-07-16T11:42:55.615430",
     "status": "completed"
    },
    "tags": []
   },
   "outputs": [],
   "source": [
    "import pandas as pd\n",
    "\n",
    "X_train = pd.read_csv(\"./data/X_train.csv\")\n",
    "y_train = pd.read_csv(\"./data/y_train.csv\")"
   ]
  },
  {
   "cell_type": "code",
   "execution_count": 12,
   "id": "63d08085",
   "metadata": {
    "execution": {
     "iopub.execute_input": "2025-07-16T11:42:56.108711Z",
     "iopub.status.busy": "2025-07-16T11:42:56.108089Z",
     "iopub.status.idle": "2025-07-16T11:42:57.662943Z",
     "shell.execute_reply": "2025-07-16T11:42:57.661921Z"
    },
    "papermill": {
     "duration": 1.576087,
     "end_time": "2025-07-16T11:42:57.664968",
     "exception": false,
     "start_time": "2025-07-16T11:42:56.088881",
     "status": "completed"
    },
    "tags": []
   },
   "outputs": [],
   "source": [
    "X_test = pd.read_csv(\"./data/X_test.csv\")\n",
    "y_true = pd.read_csv(\"./data/y_test.csv\")"
   ]
  },
  {
   "cell_type": "code",
   "execution_count": 13,
   "id": "98a8d0fa-1d3d-4ed8-bb2c-281470e24add",
   "metadata": {
    "execution": {
     "iopub.execute_input": "2025-07-16T11:42:57.708188Z",
     "iopub.status.busy": "2025-07-16T11:42:57.707664Z",
     "iopub.status.idle": "2025-07-16T11:42:59.209545Z",
     "shell.execute_reply": "2025-07-16T11:42:59.208567Z"
    },
    "papermill": {
     "duration": 1.525078,
     "end_time": "2025-07-16T11:42:59.211588",
     "exception": false,
     "start_time": "2025-07-16T11:42:57.686510",
     "status": "completed"
    },
    "tags": []
   },
   "outputs": [],
   "source": [
    "# Calibration data for conformal\n",
    "X_calib = pd.read_csv(\"./data/X_calib.csv\")\n",
    "y_calib = pd.read_csv(\"./data/y_calib.csv\")"
   ]
  },
  {
   "cell_type": "code",
   "execution_count": 14,
   "id": "e6c733c5",
   "metadata": {
    "execution": {
     "iopub.execute_input": "2025-07-16T11:42:59.249745Z",
     "iopub.status.busy": "2025-07-16T11:42:59.249211Z",
     "iopub.status.idle": "2025-07-16T11:42:59.355414Z",
     "shell.execute_reply": "2025-07-16T11:42:59.354371Z"
    },
    "papermill": {
     "duration": 0.128655,
     "end_time": "2025-07-16T11:42:59.357609",
     "exception": false,
     "start_time": "2025-07-16T11:42:59.228954",
     "status": "completed"
    },
    "tags": []
   },
   "outputs": [],
   "source": [
    "# Auxiliary data needed downstream in the pipeline\n",
    "\n",
    "org_train = X_train.copy()\n",
    "org_test = X_test.copy()\n",
    "org_calib = X_calib.copy()"
   ]
  },
  {
   "cell_type": "code",
   "execution_count": 15,
   "id": "e33f5cce",
   "metadata": {
    "execution": {
     "iopub.execute_input": "2025-07-16T11:42:59.394653Z",
     "iopub.status.busy": "2025-07-16T11:42:59.393681Z",
     "iopub.status.idle": "2025-07-16T11:42:59.556734Z",
     "shell.execute_reply": "2025-07-16T11:42:59.555713Z"
    },
    "papermill": {
     "duration": 0.183139,
     "end_time": "2025-07-16T11:42:59.558687",
     "exception": false,
     "start_time": "2025-07-16T11:42:59.375548",
     "status": "completed"
    },
    "tags": []
   },
   "outputs": [
    {
     "data": {
      "text/html": [
       "<div>\n",
       "<style scoped>\n",
       "    .dataframe tbody tr th:only-of-type {\n",
       "        vertical-align: middle;\n",
       "    }\n",
       "\n",
       "    .dataframe tbody tr th {\n",
       "        vertical-align: top;\n",
       "    }\n",
       "\n",
       "    .dataframe thead th {\n",
       "        text-align: right;\n",
       "    }\n",
       "</style>\n",
       "<table border=\"1\" class=\"dataframe\">\n",
       "  <thead>\n",
       "    <tr style=\"text-align: right;\">\n",
       "      <th></th>\n",
       "      <th>persnr</th>\n",
       "      <th>year</th>\n",
       "      <th>nrEntry</th>\n",
       "      <th>ltue</th>\n",
       "      <th>employed_before</th>\n",
       "      <th>receipt_leh_before</th>\n",
       "      <th>receipt_lhg_before</th>\n",
       "      <th>se_before</th>\n",
       "      <th>ASU_notue_seeking_before</th>\n",
       "      <th>ASU_other_before</th>\n",
       "      <th>...</th>\n",
       "      <th>minijob_tot_dur_byage</th>\n",
       "      <th>ft_tot_dur_byage</th>\n",
       "      <th>befrist_tot_dur_byage</th>\n",
       "      <th>leih_tot_dur_byage</th>\n",
       "      <th>LHG_tot_dur_byage</th>\n",
       "      <th>LEH_tot_dur_byage</th>\n",
       "      <th>almp_tot_dur_byage</th>\n",
       "      <th>almp_aw_tot_dur_byage</th>\n",
       "      <th>se_tot_dur_byage</th>\n",
       "      <th>seeking1_tot_dur_byage</th>\n",
       "    </tr>\n",
       "  </thead>\n",
       "  <tbody>\n",
       "    <tr>\n",
       "      <th>0</th>\n",
       "      <td>7</td>\n",
       "      <td>2015</td>\n",
       "      <td>1</td>\n",
       "      <td>0</td>\n",
       "      <td>1</td>\n",
       "      <td>0</td>\n",
       "      <td>0</td>\n",
       "      <td>0</td>\n",
       "      <td>1</td>\n",
       "      <td>0</td>\n",
       "      <td>...</td>\n",
       "      <td>0.000000</td>\n",
       "      <td>0.000000</td>\n",
       "      <td>15.043478</td>\n",
       "      <td>0.000000</td>\n",
       "      <td>0.000000</td>\n",
       "      <td>0.000000</td>\n",
       "      <td>0.000000</td>\n",
       "      <td>0.000000</td>\n",
       "      <td>0.000000</td>\n",
       "      <td>0.000000</td>\n",
       "    </tr>\n",
       "    <tr>\n",
       "      <th>1</th>\n",
       "      <td>18</td>\n",
       "      <td>2010</td>\n",
       "      <td>1</td>\n",
       "      <td>1</td>\n",
       "      <td>0</td>\n",
       "      <td>0</td>\n",
       "      <td>0</td>\n",
       "      <td>0</td>\n",
       "      <td>0</td>\n",
       "      <td>0</td>\n",
       "      <td>...</td>\n",
       "      <td>0.000000</td>\n",
       "      <td>0.000000</td>\n",
       "      <td>0.000000</td>\n",
       "      <td>0.000000</td>\n",
       "      <td>0.000000</td>\n",
       "      <td>0.000000</td>\n",
       "      <td>0.000000</td>\n",
       "      <td>0.000000</td>\n",
       "      <td>0.000000</td>\n",
       "      <td>0.000000</td>\n",
       "    </tr>\n",
       "    <tr>\n",
       "      <th>2</th>\n",
       "      <td>18</td>\n",
       "      <td>2011</td>\n",
       "      <td>2</td>\n",
       "      <td>0</td>\n",
       "      <td>1</td>\n",
       "      <td>0</td>\n",
       "      <td>1</td>\n",
       "      <td>0</td>\n",
       "      <td>1</td>\n",
       "      <td>0</td>\n",
       "      <td>...</td>\n",
       "      <td>2.714286</td>\n",
       "      <td>2.714286</td>\n",
       "      <td>0.000000</td>\n",
       "      <td>0.000000</td>\n",
       "      <td>10.775510</td>\n",
       "      <td>0.000000</td>\n",
       "      <td>8.367347</td>\n",
       "      <td>0.000000</td>\n",
       "      <td>0.000000</td>\n",
       "      <td>9.836735</td>\n",
       "    </tr>\n",
       "    <tr>\n",
       "      <th>3</th>\n",
       "      <td>18</td>\n",
       "      <td>2012</td>\n",
       "      <td>3</td>\n",
       "      <td>0</td>\n",
       "      <td>1</td>\n",
       "      <td>0</td>\n",
       "      <td>1</td>\n",
       "      <td>0</td>\n",
       "      <td>1</td>\n",
       "      <td>0</td>\n",
       "      <td>...</td>\n",
       "      <td>4.200000</td>\n",
       "      <td>4.200000</td>\n",
       "      <td>0.000000</td>\n",
       "      <td>0.000000</td>\n",
       "      <td>12.100000</td>\n",
       "      <td>0.000000</td>\n",
       "      <td>9.400000</td>\n",
       "      <td>0.000000</td>\n",
       "      <td>0.000000</td>\n",
       "      <td>9.960000</td>\n",
       "    </tr>\n",
       "    <tr>\n",
       "      <th>4</th>\n",
       "      <td>18</td>\n",
       "      <td>2012</td>\n",
       "      <td>4</td>\n",
       "      <td>0</td>\n",
       "      <td>1</td>\n",
       "      <td>0</td>\n",
       "      <td>1</td>\n",
       "      <td>0</td>\n",
       "      <td>1</td>\n",
       "      <td>0</td>\n",
       "      <td>...</td>\n",
       "      <td>5.460000</td>\n",
       "      <td>5.460000</td>\n",
       "      <td>0.000000</td>\n",
       "      <td>0.000000</td>\n",
       "      <td>13.360000</td>\n",
       "      <td>0.000000</td>\n",
       "      <td>10.320000</td>\n",
       "      <td>0.000000</td>\n",
       "      <td>0.000000</td>\n",
       "      <td>10.280000</td>\n",
       "    </tr>\n",
       "    <tr>\n",
       "      <th>...</th>\n",
       "      <td>...</td>\n",
       "      <td>...</td>\n",
       "      <td>...</td>\n",
       "      <td>...</td>\n",
       "      <td>...</td>\n",
       "      <td>...</td>\n",
       "      <td>...</td>\n",
       "      <td>...</td>\n",
       "      <td>...</td>\n",
       "      <td>...</td>\n",
       "      <td>...</td>\n",
       "      <td>...</td>\n",
       "      <td>...</td>\n",
       "      <td>...</td>\n",
       "      <td>...</td>\n",
       "      <td>...</td>\n",
       "      <td>...</td>\n",
       "      <td>...</td>\n",
       "      <td>...</td>\n",
       "      <td>...</td>\n",
       "      <td>...</td>\n",
       "    </tr>\n",
       "    <tr>\n",
       "      <th>643685</th>\n",
       "      <td>1827860</td>\n",
       "      <td>2013</td>\n",
       "      <td>1</td>\n",
       "      <td>0</td>\n",
       "      <td>0</td>\n",
       "      <td>0</td>\n",
       "      <td>1</td>\n",
       "      <td>0</td>\n",
       "      <td>0</td>\n",
       "      <td>1</td>\n",
       "      <td>...</td>\n",
       "      <td>0.000000</td>\n",
       "      <td>0.000000</td>\n",
       "      <td>0.000000</td>\n",
       "      <td>0.000000</td>\n",
       "      <td>0.612903</td>\n",
       "      <td>0.000000</td>\n",
       "      <td>0.000000</td>\n",
       "      <td>0.000000</td>\n",
       "      <td>0.000000</td>\n",
       "      <td>0.000000</td>\n",
       "    </tr>\n",
       "    <tr>\n",
       "      <th>643686</th>\n",
       "      <td>1827860</td>\n",
       "      <td>2015</td>\n",
       "      <td>2</td>\n",
       "      <td>1</td>\n",
       "      <td>0</td>\n",
       "      <td>0</td>\n",
       "      <td>1</td>\n",
       "      <td>0</td>\n",
       "      <td>1</td>\n",
       "      <td>0</td>\n",
       "      <td>...</td>\n",
       "      <td>0.000000</td>\n",
       "      <td>0.000000</td>\n",
       "      <td>0.212121</td>\n",
       "      <td>0.212121</td>\n",
       "      <td>17.363636</td>\n",
       "      <td>0.000000</td>\n",
       "      <td>8.909091</td>\n",
       "      <td>0.000000</td>\n",
       "      <td>0.000000</td>\n",
       "      <td>7.121212</td>\n",
       "    </tr>\n",
       "    <tr>\n",
       "      <th>643687</th>\n",
       "      <td>1827860</td>\n",
       "      <td>2016</td>\n",
       "      <td>3</td>\n",
       "      <td>1</td>\n",
       "      <td>0</td>\n",
       "      <td>0</td>\n",
       "      <td>1</td>\n",
       "      <td>1</td>\n",
       "      <td>0</td>\n",
       "      <td>1</td>\n",
       "      <td>...</td>\n",
       "      <td>0.000000</td>\n",
       "      <td>0.000000</td>\n",
       "      <td>0.294118</td>\n",
       "      <td>0.205882</td>\n",
       "      <td>34.705882</td>\n",
       "      <td>0.000000</td>\n",
       "      <td>10.352941</td>\n",
       "      <td>1.705882</td>\n",
       "      <td>1.705882</td>\n",
       "      <td>23.911765</td>\n",
       "    </tr>\n",
       "    <tr>\n",
       "      <th>643688</th>\n",
       "      <td>1827869</td>\n",
       "      <td>2013</td>\n",
       "      <td>1</td>\n",
       "      <td>1</td>\n",
       "      <td>1</td>\n",
       "      <td>0</td>\n",
       "      <td>0</td>\n",
       "      <td>0</td>\n",
       "      <td>1</td>\n",
       "      <td>0</td>\n",
       "      <td>...</td>\n",
       "      <td>0.000000</td>\n",
       "      <td>0.000000</td>\n",
       "      <td>0.000000</td>\n",
       "      <td>0.000000</td>\n",
       "      <td>0.000000</td>\n",
       "      <td>0.525424</td>\n",
       "      <td>0.000000</td>\n",
       "      <td>0.000000</td>\n",
       "      <td>0.000000</td>\n",
       "      <td>0.000000</td>\n",
       "    </tr>\n",
       "    <tr>\n",
       "      <th>643689</th>\n",
       "      <td>1827869</td>\n",
       "      <td>2014</td>\n",
       "      <td>2</td>\n",
       "      <td>0</td>\n",
       "      <td>0</td>\n",
       "      <td>1</td>\n",
       "      <td>0</td>\n",
       "      <td>0</td>\n",
       "      <td>1</td>\n",
       "      <td>0</td>\n",
       "      <td>...</td>\n",
       "      <td>0.000000</td>\n",
       "      <td>0.666667</td>\n",
       "      <td>0.666667</td>\n",
       "      <td>0.000000</td>\n",
       "      <td>0.000000</td>\n",
       "      <td>8.950000</td>\n",
       "      <td>1.033333</td>\n",
       "      <td>0.083333</td>\n",
       "      <td>0.083333</td>\n",
       "      <td>8.133333</td>\n",
       "    </tr>\n",
       "  </tbody>\n",
       "</table>\n",
       "<p>643690 rows × 164 columns</p>\n",
       "</div>"
      ],
      "text/plain": [
       "         persnr  year  nrEntry  ltue  employed_before  receipt_leh_before  \\\n",
       "0             7  2015        1     0                1                   0   \n",
       "1            18  2010        1     1                0                   0   \n",
       "2            18  2011        2     0                1                   0   \n",
       "3            18  2012        3     0                1                   0   \n",
       "4            18  2012        4     0                1                   0   \n",
       "...         ...   ...      ...   ...              ...                 ...   \n",
       "643685  1827860  2013        1     0                0                   0   \n",
       "643686  1827860  2015        2     1                0                   0   \n",
       "643687  1827860  2016        3     1                0                   0   \n",
       "643688  1827869  2013        1     1                1                   0   \n",
       "643689  1827869  2014        2     0                0                   1   \n",
       "\n",
       "        receipt_lhg_before  se_before  ASU_notue_seeking_before  \\\n",
       "0                        0          0                         1   \n",
       "1                        0          0                         0   \n",
       "2                        1          0                         1   \n",
       "3                        1          0                         1   \n",
       "4                        1          0                         1   \n",
       "...                    ...        ...                       ...   \n",
       "643685                   1          0                         0   \n",
       "643686                   1          0                         1   \n",
       "643687                   1          1                         0   \n",
       "643688                   0          0                         1   \n",
       "643689                   0          0                         1   \n",
       "\n",
       "        ASU_other_before  ...  minijob_tot_dur_byage  ft_tot_dur_byage  \\\n",
       "0                      0  ...               0.000000          0.000000   \n",
       "1                      0  ...               0.000000          0.000000   \n",
       "2                      0  ...               2.714286          2.714286   \n",
       "3                      0  ...               4.200000          4.200000   \n",
       "4                      0  ...               5.460000          5.460000   \n",
       "...                  ...  ...                    ...               ...   \n",
       "643685                 1  ...               0.000000          0.000000   \n",
       "643686                 0  ...               0.000000          0.000000   \n",
       "643687                 1  ...               0.000000          0.000000   \n",
       "643688                 0  ...               0.000000          0.000000   \n",
       "643689                 0  ...               0.000000          0.666667   \n",
       "\n",
       "        befrist_tot_dur_byage  leih_tot_dur_byage  LHG_tot_dur_byage  \\\n",
       "0                   15.043478            0.000000           0.000000   \n",
       "1                    0.000000            0.000000           0.000000   \n",
       "2                    0.000000            0.000000          10.775510   \n",
       "3                    0.000000            0.000000          12.100000   \n",
       "4                    0.000000            0.000000          13.360000   \n",
       "...                       ...                 ...                ...   \n",
       "643685               0.000000            0.000000           0.612903   \n",
       "643686               0.212121            0.212121          17.363636   \n",
       "643687               0.294118            0.205882          34.705882   \n",
       "643688               0.000000            0.000000           0.000000   \n",
       "643689               0.666667            0.000000           0.000000   \n",
       "\n",
       "        LEH_tot_dur_byage  almp_tot_dur_byage  almp_aw_tot_dur_byage  \\\n",
       "0                0.000000            0.000000               0.000000   \n",
       "1                0.000000            0.000000               0.000000   \n",
       "2                0.000000            8.367347               0.000000   \n",
       "3                0.000000            9.400000               0.000000   \n",
       "4                0.000000           10.320000               0.000000   \n",
       "...                   ...                 ...                    ...   \n",
       "643685           0.000000            0.000000               0.000000   \n",
       "643686           0.000000            8.909091               0.000000   \n",
       "643687           0.000000           10.352941               1.705882   \n",
       "643688           0.525424            0.000000               0.000000   \n",
       "643689           8.950000            1.033333               0.083333   \n",
       "\n",
       "        se_tot_dur_byage  seeking1_tot_dur_byage  \n",
       "0               0.000000                0.000000  \n",
       "1               0.000000                0.000000  \n",
       "2               0.000000                9.836735  \n",
       "3               0.000000                9.960000  \n",
       "4               0.000000               10.280000  \n",
       "...                  ...                     ...  \n",
       "643685          0.000000                0.000000  \n",
       "643686          0.000000                7.121212  \n",
       "643687          1.705882               23.911765  \n",
       "643688          0.000000                0.000000  \n",
       "643689          0.083333                8.133333  \n",
       "\n",
       "[643690 rows x 164 columns]"
      ]
     },
     "execution_count": 15,
     "metadata": {},
     "output_type": "execute_result"
    }
   ],
   "source": [
    "siab"
   ]
  },
  {
   "cell_type": "markdown",
   "id": "ad49c3ce",
   "metadata": {
    "papermill": {
     "duration": 0.018424,
     "end_time": "2025-07-16T11:42:59.596979",
     "exception": false,
     "start_time": "2025-07-16T11:42:59.578555",
     "status": "completed"
    },
    "tags": []
   },
   "source": [
    "Pre-Processing for Selected Task -> skipped. I think I don't need this"
   ]
  },
  {
   "cell_type": "markdown",
   "id": "0a4a1b33",
   "metadata": {
    "papermill": {
     "duration": 0.018093,
     "end_time": "2025-07-16T11:42:59.633266",
     "exception": false,
     "start_time": "2025-07-16T11:42:59.615173",
     "status": "completed"
    },
    "tags": []
   },
   "source": [
    "# Preprocessing Data"
   ]
  },
  {
   "cell_type": "code",
   "execution_count": 16,
   "id": "ca879031",
   "metadata": {
    "execution": {
     "iopub.execute_input": "2025-07-16T11:42:59.673592Z",
     "iopub.status.busy": "2025-07-16T11:42:59.672770Z",
     "iopub.status.idle": "2025-07-16T11:42:59.679520Z",
     "shell.execute_reply": "2025-07-16T11:42:59.678449Z"
    },
    "papermill": {
     "duration": 0.029857,
     "end_time": "2025-07-16T11:42:59.681617",
     "exception": false,
     "start_time": "2025-07-16T11:42:59.651760",
     "status": "completed"
    },
    "tags": []
   },
   "outputs": [],
   "source": [
    "# EXCLUDE PROTECTED FEATURES\n",
    "# ----------------------\n",
    "# \"exclude_features\": \"none\", # \"nationality\", \"sex\", \"nationality-sex\"\n",
    "\n",
    "excluded_features = universe[\"exclude_features\"].split(\"-\") # split, e.g.: \"nationality-sex\" -> [\"nationality\", \"sex\"]\n",
    "excluded_features_dictionary = {\n",
    "    \"nationality\": [\"maxdeutsch1\", \"maxdeutsch.Missing.\"],\n",
    "    \"sex\": [\"frau1\"],\n",
    "}\n"
   ]
  },
  {
   "cell_type": "code",
   "execution_count": 17,
   "id": "b745ac60",
   "metadata": {
    "execution": {
     "iopub.execute_input": "2025-07-16T11:42:59.723408Z",
     "iopub.status.busy": "2025-07-16T11:42:59.722648Z",
     "iopub.status.idle": "2025-07-16T11:42:59.729441Z",
     "shell.execute_reply": "2025-07-16T11:42:59.728239Z"
    },
    "papermill": {
     "duration": 0.029811,
     "end_time": "2025-07-16T11:42:59.731751",
     "exception": false,
     "start_time": "2025-07-16T11:42:59.701940",
     "status": "completed"
    },
    "tags": []
   },
   "outputs": [],
   "source": [
    "# Code nice names to column names\n",
    "\n",
    "excluded_features_columns = [\n",
    "    excluded_features_dictionary[f] for f in excluded_features if len(f) > 0 and f != \"none\"\n",
    "]"
   ]
  },
  {
   "cell_type": "code",
   "execution_count": 18,
   "id": "f84f73a2",
   "metadata": {
    "execution": {
     "iopub.execute_input": "2025-07-16T11:42:59.773338Z",
     "iopub.status.busy": "2025-07-16T11:42:59.772481Z",
     "iopub.status.idle": "2025-07-16T11:42:59.780132Z",
     "shell.execute_reply": "2025-07-16T11:42:59.779069Z"
    },
    "papermill": {
     "duration": 0.029353,
     "end_time": "2025-07-16T11:42:59.782358",
     "exception": false,
     "start_time": "2025-07-16T11:42:59.753005",
     "status": "completed"
    },
    "tags": []
   },
   "outputs": [],
   "source": [
    "from utils import flatten_once\n",
    "\n",
    "excluded_features_columns = flatten_once(excluded_features_columns)"
   ]
  },
  {
   "cell_type": "code",
   "execution_count": 19,
   "id": "884dea22",
   "metadata": {
    "execution": {
     "iopub.execute_input": "2025-07-16T11:42:59.824169Z",
     "iopub.status.busy": "2025-07-16T11:42:59.823127Z",
     "iopub.status.idle": "2025-07-16T11:42:59.841272Z",
     "shell.execute_reply": "2025-07-16T11:42:59.840004Z"
    },
    "papermill": {
     "duration": 0.040591,
     "end_time": "2025-07-16T11:42:59.843233",
     "exception": false,
     "start_time": "2025-07-16T11:42:59.802642",
     "status": "completed"
    },
    "tags": []
   },
   "outputs": [
    {
     "name": "stdout",
     "output_type": "stream",
     "text": [
      "Dropping features: ['frau1']\n"
     ]
    }
   ],
   "source": [
    "if len(excluded_features_columns) > 0:\n",
    "    print(f\"Dropping features: {excluded_features_columns}\")\n",
    "    X_train.drop(excluded_features_columns, axis=1, inplace=True)"
   ]
  },
  {
   "cell_type": "code",
   "execution_count": 20,
   "id": "95ab8b16",
   "metadata": {
    "execution": {
     "iopub.execute_input": "2025-07-16T11:42:59.884677Z",
     "iopub.status.busy": "2025-07-16T11:42:59.884078Z",
     "iopub.status.idle": "2025-07-16T11:42:59.944408Z",
     "shell.execute_reply": "2025-07-16T11:42:59.943197Z"
    },
    "papermill": {
     "duration": 0.082876,
     "end_time": "2025-07-16T11:42:59.946654",
     "exception": false,
     "start_time": "2025-07-16T11:42:59.863778",
     "status": "completed"
    },
    "tags": []
   },
   "outputs": [
    {
     "name": "stdout",
     "output_type": "stream",
     "text": [
      "Dropping features: ['frau1']\n"
     ]
    }
   ],
   "source": [
    "if len(excluded_features_columns) > 0:\n",
    "    print(f\"Dropping features: {excluded_features_columns}\")\n",
    "    X_test.drop(excluded_features_columns, axis=1, inplace=True)"
   ]
  },
  {
   "cell_type": "code",
   "execution_count": 21,
   "id": "1853aaf5-fb9f-46cb-a2b5-8ea4ae2237e4",
   "metadata": {
    "execution": {
     "iopub.execute_input": "2025-07-16T11:42:59.988309Z",
     "iopub.status.busy": "2025-07-16T11:42:59.987755Z",
     "iopub.status.idle": "2025-07-16T11:43:00.045566Z",
     "shell.execute_reply": "2025-07-16T11:43:00.044419Z"
    },
    "papermill": {
     "duration": 0.080223,
     "end_time": "2025-07-16T11:43:00.047496",
     "exception": false,
     "start_time": "2025-07-16T11:42:59.967273",
     "status": "completed"
    },
    "tags": []
   },
   "outputs": [
    {
     "name": "stdout",
     "output_type": "stream",
     "text": [
      "Dropping features: ['frau1']\n"
     ]
    }
   ],
   "source": [
    "if len(excluded_features_columns) > 0:\n",
    "    print(f\"Dropping features: {excluded_features_columns}\")\n",
    "    X_calib.drop(excluded_features_columns, axis=1, inplace=True)"
   ]
  },
  {
   "cell_type": "code",
   "execution_count": 22,
   "id": "76c4dc6d",
   "metadata": {
    "execution": {
     "iopub.execute_input": "2025-07-16T11:43:00.090746Z",
     "iopub.status.busy": "2025-07-16T11:43:00.089782Z",
     "iopub.status.idle": "2025-07-16T11:43:00.095900Z",
     "shell.execute_reply": "2025-07-16T11:43:00.094740Z"
    },
    "papermill": {
     "duration": 0.029759,
     "end_time": "2025-07-16T11:43:00.098020",
     "exception": false,
     "start_time": "2025-07-16T11:43:00.068261",
     "status": "completed"
    },
    "tags": []
   },
   "outputs": [],
   "source": [
    "# EXCLUDE CERTAIN SUBGROUPS\n",
    "# ----------------------\n",
    "\n",
    "mode = universe.get(\"exclude_subgroups\", \"keep-all\") \n",
    "# Fetches the exclude_subgroups setting from the universe dict.\n",
    "# Defaults to \"keep-all\" if the key is missing."
   ]
  },
  {
   "cell_type": "code",
   "execution_count": 23,
   "id": "21994072",
   "metadata": {
    "execution": {
     "iopub.execute_input": "2025-07-16T11:43:00.140057Z",
     "iopub.status.busy": "2025-07-16T11:43:00.139295Z",
     "iopub.status.idle": "2025-07-16T11:43:00.146923Z",
     "shell.execute_reply": "2025-07-16T11:43:00.145867Z"
    },
    "papermill": {
     "duration": 0.029603,
     "end_time": "2025-07-16T11:43:00.148830",
     "exception": false,
     "start_time": "2025-07-16T11:43:00.119227",
     "status": "completed"
    },
    "tags": []
   },
   "outputs": [],
   "source": [
    "if mode == \"keep-all\":\n",
    "    keep_mask = pd.Series(True, index=org_train.index)\n",
    "\n",
    "# org_train contains the original feature columns from features_org (in Simson)\n",
    "# features_org contains unprocessed features, for me X_train at beginning ???\n",
    "# For keep-all, creates a boolean Series (keep_mask) of all True, so no rows are removed.\n",
    "\n",
    "elif mode == \"drop-non-german\":\n",
    "    keep_mask = org_train[\"maxdeutsch1\"] == 1 # ??? what about missing values?\n",
    "\n",
    "else:\n",
    "    raise ValueError(f\"Unsupported mode for exclude_subgroups: {mode}\")\n"
   ]
  },
  {
   "cell_type": "code",
   "execution_count": 24,
   "id": "71651440",
   "metadata": {
    "execution": {
     "iopub.execute_input": "2025-07-16T11:43:00.192912Z",
     "iopub.status.busy": "2025-07-16T11:43:00.192161Z",
     "iopub.status.idle": "2025-07-16T11:43:00.200406Z",
     "shell.execute_reply": "2025-07-16T11:43:00.199382Z"
    },
    "papermill": {
     "duration": 0.031168,
     "end_time": "2025-07-16T11:43:00.202061",
     "exception": false,
     "start_time": "2025-07-16T11:43:00.170893",
     "status": "completed"
    },
    "tags": []
   },
   "outputs": [
    {
     "name": "stdout",
     "output_type": "stream",
     "text": [
      "Dropping 3312 rows (13.25%) where mode='drop-non-german'\n"
     ]
    }
   ],
   "source": [
    "n_drop = (~keep_mask).sum() # Calculates how many rows are set to be dropped\n",
    "if n_drop > 0:\n",
    "    pct = n_drop / len(keep_mask) * 100\n",
    "    print(f\"Dropping {n_drop} rows ({pct:.2f}%) where mode='{mode}'\")"
   ]
  },
  {
   "cell_type": "code",
   "execution_count": 25,
   "id": "5fb8eee5",
   "metadata": {
    "execution": {
     "iopub.execute_input": "2025-07-16T11:43:00.244432Z",
     "iopub.status.busy": "2025-07-16T11:43:00.243428Z",
     "iopub.status.idle": "2025-07-16T11:43:00.260259Z",
     "shell.execute_reply": "2025-07-16T11:43:00.259013Z"
    },
    "papermill": {
     "duration": 0.04019,
     "end_time": "2025-07-16T11:43:00.262501",
     "exception": false,
     "start_time": "2025-07-16T11:43:00.222311",
     "status": "completed"
    },
    "tags": []
   },
   "outputs": [],
   "source": [
    "X_train = X_train[keep_mask]"
   ]
  },
  {
   "cell_type": "code",
   "execution_count": 26,
   "id": "b202bb3a",
   "metadata": {
    "execution": {
     "iopub.execute_input": "2025-07-16T11:43:00.303833Z",
     "iopub.status.busy": "2025-07-16T11:43:00.303067Z",
     "iopub.status.idle": "2025-07-16T11:43:00.310243Z",
     "shell.execute_reply": "2025-07-16T11:43:00.309112Z"
    },
    "papermill": {
     "duration": 0.029742,
     "end_time": "2025-07-16T11:43:00.312342",
     "exception": false,
     "start_time": "2025-07-16T11:43:00.282600",
     "status": "completed"
    },
    "tags": []
   },
   "outputs": [],
   "source": [
    "y_train = y_train[keep_mask]"
   ]
  },
  {
   "cell_type": "markdown",
   "id": "493e2ac3",
   "metadata": {
    "papermill": {
     "duration": 0.020985,
     "end_time": "2025-07-16T11:43:00.354317",
     "exception": false,
     "start_time": "2025-07-16T11:43:00.333332",
     "status": "completed"
    },
    "tags": []
   },
   "source": [
    "# Model Training"
   ]
  },
  {
   "cell_type": "code",
   "execution_count": 27,
   "id": "679e1268",
   "metadata": {
    "execution": {
     "iopub.execute_input": "2025-07-16T11:43:00.396101Z",
     "iopub.status.busy": "2025-07-16T11:43:00.395388Z",
     "iopub.status.idle": "2025-07-16T11:43:00.547718Z",
     "shell.execute_reply": "2025-07-16T11:43:00.546686Z"
    },
    "papermill": {
     "duration": 0.175172,
     "end_time": "2025-07-16T11:43:00.549809",
     "exception": false,
     "start_time": "2025-07-16T11:43:00.374637",
     "status": "completed"
    },
    "tags": []
   },
   "outputs": [],
   "source": [
    "from sklearn.linear_model import LogisticRegression\n",
    "from sklearn.ensemble import GradientBoostingClassifier, RandomForestClassifier\n",
    "\n",
    "if (universe[\"model\"] == \"logreg\"):\n",
    "    model = LogisticRegression() #penalty=\"none\") #, solver=\"newton-cg\", max_iter=1) # include random_state=19 ?\n",
    "elif (universe[\"model\"] == \"penalized_logreg\"):\n",
    "    model = LogisticRegression(penalty=\"l2\", C=1.0) #, solver=\"newton-cg\", max_iter=1)\n",
    "elif (universe[\"model\"] == \"rf\"):\n",
    "    model = RandomForestClassifier(n_estimators=100, n_jobs=-1)\n",
    "elif (universe[\"model\"] == \"gbm\"):\n",
    "    model = GradientBoostingClassifier()\n",
    "elif (universe[\"model\"] == \"elasticnet\"):\n",
    "    model = LogisticRegression(penalty = 'elasticnet', solver = 'saga', l1_ratio = 0.5, max_iter=5000) # which solver to use?\n",
    "else:\n",
    "    raise \"Unsupported universe.model\""
   ]
  },
  {
   "cell_type": "code",
   "execution_count": 28,
   "id": "0cc8f744",
   "metadata": {
    "execution": {
     "iopub.execute_input": "2025-07-16T11:43:00.592149Z",
     "iopub.status.busy": "2025-07-16T11:43:00.591340Z",
     "iopub.status.idle": "2025-07-16T11:43:00.599213Z",
     "shell.execute_reply": "2025-07-16T11:43:00.598072Z"
    },
    "papermill": {
     "duration": 0.031223,
     "end_time": "2025-07-16T11:43:00.601184",
     "exception": false,
     "start_time": "2025-07-16T11:43:00.569961",
     "status": "completed"
    },
    "tags": []
   },
   "outputs": [],
   "source": [
    "import numpy as np\n",
    "from sklearn.pipeline import Pipeline\n",
    "from sklearn.preprocessing import StandardScaler\n",
    "from sklearn.metrics import accuracy_score\n",
    "\n",
    "model = Pipeline([\n",
    "    #(\"continuous_processor\", continuous_processor),\n",
    "    #(\"categorical_preprocessor\", categorical_preprocessor),\n",
    "    #(\"scale\", StandardScaler() if universe[\"scale\"] == \"scale\" else None),\n",
    "    (\"model\", model),\n",
    "])"
   ]
  },
  {
   "cell_type": "code",
   "execution_count": 29,
   "id": "9442c04d",
   "metadata": {
    "execution": {
     "iopub.execute_input": "2025-07-16T11:43:00.644961Z",
     "iopub.status.busy": "2025-07-16T11:43:00.644398Z",
     "iopub.status.idle": "2025-07-16T11:43:03.896773Z",
     "shell.execute_reply": "2025-07-16T11:43:03.895691Z"
    },
    "papermill": {
     "duration": 3.275987,
     "end_time": "2025-07-16T11:43:03.898931",
     "exception": false,
     "start_time": "2025-07-16T11:43:00.622944",
     "status": "completed"
    },
    "tags": []
   },
   "outputs": [
    {
     "data": {
      "text/html": [
       "<style>#sk-container-id-1 {color: black;background-color: white;}#sk-container-id-1 pre{padding: 0;}#sk-container-id-1 div.sk-toggleable {background-color: white;}#sk-container-id-1 label.sk-toggleable__label {cursor: pointer;display: block;width: 100%;margin-bottom: 0;padding: 0.3em;box-sizing: border-box;text-align: center;}#sk-container-id-1 label.sk-toggleable__label-arrow:before {content: \"▸\";float: left;margin-right: 0.25em;color: #696969;}#sk-container-id-1 label.sk-toggleable__label-arrow:hover:before {color: black;}#sk-container-id-1 div.sk-estimator:hover label.sk-toggleable__label-arrow:before {color: black;}#sk-container-id-1 div.sk-toggleable__content {max-height: 0;max-width: 0;overflow: hidden;text-align: left;background-color: #f0f8ff;}#sk-container-id-1 div.sk-toggleable__content pre {margin: 0.2em;color: black;border-radius: 0.25em;background-color: #f0f8ff;}#sk-container-id-1 input.sk-toggleable__control:checked~div.sk-toggleable__content {max-height: 200px;max-width: 100%;overflow: auto;}#sk-container-id-1 input.sk-toggleable__control:checked~label.sk-toggleable__label-arrow:before {content: \"▾\";}#sk-container-id-1 div.sk-estimator input.sk-toggleable__control:checked~label.sk-toggleable__label {background-color: #d4ebff;}#sk-container-id-1 div.sk-label input.sk-toggleable__control:checked~label.sk-toggleable__label {background-color: #d4ebff;}#sk-container-id-1 input.sk-hidden--visually {border: 0;clip: rect(1px 1px 1px 1px);clip: rect(1px, 1px, 1px, 1px);height: 1px;margin: -1px;overflow: hidden;padding: 0;position: absolute;width: 1px;}#sk-container-id-1 div.sk-estimator {font-family: monospace;background-color: #f0f8ff;border: 1px dotted black;border-radius: 0.25em;box-sizing: border-box;margin-bottom: 0.5em;}#sk-container-id-1 div.sk-estimator:hover {background-color: #d4ebff;}#sk-container-id-1 div.sk-parallel-item::after {content: \"\";width: 100%;border-bottom: 1px solid gray;flex-grow: 1;}#sk-container-id-1 div.sk-label:hover label.sk-toggleable__label {background-color: #d4ebff;}#sk-container-id-1 div.sk-serial::before {content: \"\";position: absolute;border-left: 1px solid gray;box-sizing: border-box;top: 0;bottom: 0;left: 50%;z-index: 0;}#sk-container-id-1 div.sk-serial {display: flex;flex-direction: column;align-items: center;background-color: white;padding-right: 0.2em;padding-left: 0.2em;position: relative;}#sk-container-id-1 div.sk-item {position: relative;z-index: 1;}#sk-container-id-1 div.sk-parallel {display: flex;align-items: stretch;justify-content: center;background-color: white;position: relative;}#sk-container-id-1 div.sk-item::before, #sk-container-id-1 div.sk-parallel-item::before {content: \"\";position: absolute;border-left: 1px solid gray;box-sizing: border-box;top: 0;bottom: 0;left: 50%;z-index: -1;}#sk-container-id-1 div.sk-parallel-item {display: flex;flex-direction: column;z-index: 1;position: relative;background-color: white;}#sk-container-id-1 div.sk-parallel-item:first-child::after {align-self: flex-end;width: 50%;}#sk-container-id-1 div.sk-parallel-item:last-child::after {align-self: flex-start;width: 50%;}#sk-container-id-1 div.sk-parallel-item:only-child::after {width: 0;}#sk-container-id-1 div.sk-dashed-wrapped {border: 1px dashed gray;margin: 0 0.4em 0.5em 0.4em;box-sizing: border-box;padding-bottom: 0.4em;background-color: white;}#sk-container-id-1 div.sk-label label {font-family: monospace;font-weight: bold;display: inline-block;line-height: 1.2em;}#sk-container-id-1 div.sk-label-container {text-align: center;}#sk-container-id-1 div.sk-container {/* jupyter's `normalize.less` sets `[hidden] { display: none; }` but bootstrap.min.css set `[hidden] { display: none !important; }` so we also need the `!important` here to be able to override the default hidden behavior on the sphinx rendered scikit-learn.org. See: https://github.com/scikit-learn/scikit-learn/issues/21755 */display: inline-block !important;position: relative;}#sk-container-id-1 div.sk-text-repr-fallback {display: none;}</style><div id=\"sk-container-id-1\" class=\"sk-top-container\"><div class=\"sk-text-repr-fallback\"><pre>Pipeline(steps=[(&#x27;model&#x27;, RandomForestClassifier(n_jobs=-1))])</pre><b>In a Jupyter environment, please rerun this cell to show the HTML representation or trust the notebook. <br />On GitHub, the HTML representation is unable to render, please try loading this page with nbviewer.org.</b></div><div class=\"sk-container\" hidden><div class=\"sk-item sk-dashed-wrapped\"><div class=\"sk-label-container\"><div class=\"sk-label sk-toggleable\"><input class=\"sk-toggleable__control sk-hidden--visually\" id=\"sk-estimator-id-1\" type=\"checkbox\" ><label for=\"sk-estimator-id-1\" class=\"sk-toggleable__label sk-toggleable__label-arrow\">Pipeline</label><div class=\"sk-toggleable__content\"><pre>Pipeline(steps=[(&#x27;model&#x27;, RandomForestClassifier(n_jobs=-1))])</pre></div></div></div><div class=\"sk-serial\"><div class=\"sk-item\"><div class=\"sk-estimator sk-toggleable\"><input class=\"sk-toggleable__control sk-hidden--visually\" id=\"sk-estimator-id-2\" type=\"checkbox\" ><label for=\"sk-estimator-id-2\" class=\"sk-toggleable__label sk-toggleable__label-arrow\">RandomForestClassifier</label><div class=\"sk-toggleable__content\"><pre>RandomForestClassifier(n_jobs=-1)</pre></div></div></div></div></div></div></div>"
      ],
      "text/plain": [
       "Pipeline(steps=[('model', RandomForestClassifier(n_jobs=-1))])"
      ]
     },
     "execution_count": 29,
     "metadata": {},
     "output_type": "execute_result"
    }
   ],
   "source": [
    "model.fit(X_train, y_train.values.ravel())"
   ]
  },
  {
   "cell_type": "code",
   "execution_count": 30,
   "id": "af59f8c0",
   "metadata": {
    "execution": {
     "iopub.execute_input": "2025-07-16T11:43:03.994956Z",
     "iopub.status.busy": "2025-07-16T11:43:03.994475Z",
     "iopub.status.idle": "2025-07-16T11:43:04.000945Z",
     "shell.execute_reply": "2025-07-16T11:43:03.999871Z"
    },
    "papermill": {
     "duration": 0.057243,
     "end_time": "2025-07-16T11:43:04.004281",
     "exception": false,
     "start_time": "2025-07-16T11:43:03.947038",
     "status": "completed"
    },
    "tags": []
   },
   "outputs": [],
   "source": [
    "from fairness_multiverse.universe import predict_w_threshold"
   ]
  },
  {
   "cell_type": "code",
   "execution_count": 31,
   "id": "a7cf2e16",
   "metadata": {
    "execution": {
     "iopub.execute_input": "2025-07-16T11:43:04.127050Z",
     "iopub.status.busy": "2025-07-16T11:43:04.126624Z",
     "iopub.status.idle": "2025-07-16T11:43:05.584469Z",
     "shell.execute_reply": "2025-07-16T11:43:05.583471Z"
    },
    "papermill": {
     "duration": 1.516024,
     "end_time": "2025-07-16T11:43:05.586298",
     "exception": false,
     "start_time": "2025-07-16T11:43:04.070274",
     "status": "completed"
    },
    "tags": []
   },
   "outputs": [
    {
     "data": {
      "text/plain": [
       "0.8672388808382566"
      ]
     },
     "execution_count": 31,
     "metadata": {},
     "output_type": "execute_result"
    }
   ],
   "source": [
    "probs_test = model.predict_proba(X_test)\n",
    "\n",
    "'''\n",
    "Below code returns a boolean array (or binary 0/1 array depending on how it’s used) where each element \n",
    "is True if the probability of class 1 is greater than or equal to the threshold, and False otherwise.\n",
    "'''\n",
    "y_pred_default = predict_w_threshold(probs_test, 0.5)\n",
    "\n",
    "# Naive prediction\n",
    "accuracy_score(y_true = y_true, y_pred = y_pred_default)"
   ]
  },
  {
   "cell_type": "code",
   "execution_count": 32,
   "id": "081964c3",
   "metadata": {
    "execution": {
     "iopub.execute_input": "2025-07-16T11:43:05.691758Z",
     "iopub.status.busy": "2025-07-16T11:43:05.690710Z",
     "iopub.status.idle": "2025-07-16T11:43:07.102431Z",
     "shell.execute_reply": "2025-07-16T11:43:07.101353Z"
    },
    "papermill": {
     "duration": 1.471856,
     "end_time": "2025-07-16T11:43:07.104995",
     "exception": false,
     "start_time": "2025-07-16T11:43:05.633139",
     "status": "completed"
    },
    "tags": []
   },
   "outputs": [
    {
     "data": {
      "text/plain": [
       "array([0, 0, 0, ..., 0, 0, 0])"
      ]
     },
     "execution_count": 32,
     "metadata": {},
     "output_type": "execute_result"
    }
   ],
   "source": [
    "model.predict(X_test)"
   ]
  },
  {
   "cell_type": "markdown",
   "id": "56c9705b",
   "metadata": {
    "papermill": {
     "duration": 0.086859,
     "end_time": "2025-07-16T11:43:07.245062",
     "exception": false,
     "start_time": "2025-07-16T11:43:07.158203",
     "status": "completed"
    },
    "tags": []
   },
   "source": [
    "# Conformal Prediction"
   ]
  },
  {
   "cell_type": "code",
   "execution_count": 33,
   "id": "160ec6ff",
   "metadata": {
    "execution": {
     "iopub.execute_input": "2025-07-16T11:43:07.355774Z",
     "iopub.status.busy": "2025-07-16T11:43:07.355184Z",
     "iopub.status.idle": "2025-07-16T11:43:07.363305Z",
     "shell.execute_reply": "2025-07-16T11:43:07.362077Z"
    },
    "papermill": {
     "duration": 0.056801,
     "end_time": "2025-07-16T11:43:07.365622",
     "exception": false,
     "start_time": "2025-07-16T11:43:07.308821",
     "status": "completed"
    },
    "tags": []
   },
   "outputs": [],
   "source": [
    "# Miscoverage level for conformal prediction (10% allowed error rate => 90% target coverage)\n",
    "alpha = 0.10"
   ]
  },
  {
   "cell_type": "code",
   "execution_count": 34,
   "id": "eadf4555-3dd3-440e-8e35-f82a4ad9f855",
   "metadata": {
    "execution": {
     "iopub.execute_input": "2025-07-16T11:43:07.423328Z",
     "iopub.status.busy": "2025-07-16T11:43:07.422858Z",
     "iopub.status.idle": "2025-07-16T11:43:09.007214Z",
     "shell.execute_reply": "2025-07-16T11:43:09.006163Z"
    },
    "papermill": {
     "duration": 1.611421,
     "end_time": "2025-07-16T11:43:09.009820",
     "exception": false,
     "start_time": "2025-07-16T11:43:07.398399",
     "status": "completed"
    },
    "tags": []
   },
   "outputs": [],
   "source": [
    "probs_calib = model.predict_proba(X_calib)"
   ]
  },
  {
   "cell_type": "code",
   "execution_count": 35,
   "id": "2ed93547-6d5d-4983-9b36-1ecb300da49a",
   "metadata": {
    "execution": {
     "iopub.execute_input": "2025-07-16T11:43:09.071100Z",
     "iopub.status.busy": "2025-07-16T11:43:09.070707Z",
     "iopub.status.idle": "2025-07-16T11:43:09.077265Z",
     "shell.execute_reply": "2025-07-16T11:43:09.075970Z"
    },
    "papermill": {
     "duration": 0.034451,
     "end_time": "2025-07-16T11:43:09.081202",
     "exception": false,
     "start_time": "2025-07-16T11:43:09.046751",
     "status": "completed"
    },
    "tags": []
   },
   "outputs": [],
   "source": [
    "y_calib = y_calib.values.ravel().astype(int)"
   ]
  },
  {
   "cell_type": "code",
   "execution_count": 36,
   "id": "65d1320d-f588-4b38-9072-62af1ae97f7d",
   "metadata": {
    "execution": {
     "iopub.execute_input": "2025-07-16T11:43:09.126097Z",
     "iopub.status.busy": "2025-07-16T11:43:09.125686Z",
     "iopub.status.idle": "2025-07-16T11:43:09.133801Z",
     "shell.execute_reply": "2025-07-16T11:43:09.132684Z"
    },
    "papermill": {
     "duration": 0.034441,
     "end_time": "2025-07-16T11:43:09.137693",
     "exception": false,
     "start_time": "2025-07-16T11:43:09.103252",
     "status": "completed"
    },
    "tags": []
   },
   "outputs": [],
   "source": [
    "from fairness_multiverse.conformal import compute_nc_scores\n",
    "\n",
    "# Compute nonconformity scores on calibration set (1 - probability of true class)\n",
    "nc_scores = compute_nc_scores(probs_calib, y_calib)"
   ]
  },
  {
   "cell_type": "code",
   "execution_count": 37,
   "id": "df3b8ca3-53b7-43d5-9667-7c85da7aeda2",
   "metadata": {
    "execution": {
     "iopub.execute_input": "2025-07-16T11:43:09.181367Z",
     "iopub.status.busy": "2025-07-16T11:43:09.180886Z",
     "iopub.status.idle": "2025-07-16T11:43:09.188684Z",
     "shell.execute_reply": "2025-07-16T11:43:09.187432Z"
    },
    "papermill": {
     "duration": 0.034849,
     "end_time": "2025-07-16T11:43:09.194137",
     "exception": false,
     "start_time": "2025-07-16T11:43:09.159288",
     "status": "completed"
    },
    "tags": []
   },
   "outputs": [],
   "source": [
    "from fairness_multiverse.conformal import find_threshold\n",
    "\n",
    "# Find conformal threshold q_hat for the given alpha (split conformal method)\n",
    "q_hat = find_threshold(nc_scores, alpha)"
   ]
  },
  {
   "cell_type": "code",
   "execution_count": 38,
   "id": "4d29e6c1-0ef6-4aa4-b8fe-4fe79b0d033a",
   "metadata": {
    "execution": {
     "iopub.execute_input": "2025-07-16T11:43:09.242139Z",
     "iopub.status.busy": "2025-07-16T11:43:09.241757Z",
     "iopub.status.idle": "2025-07-16T11:43:09.249491Z",
     "shell.execute_reply": "2025-07-16T11:43:09.248369Z"
    },
    "papermill": {
     "duration": 0.036032,
     "end_time": "2025-07-16T11:43:09.255274",
     "exception": false,
     "start_time": "2025-07-16T11:43:09.219242",
     "status": "completed"
    },
    "tags": []
   },
   "outputs": [
    {
     "data": {
      "text/plain": [
       "0.65"
      ]
     },
     "execution_count": 38,
     "metadata": {},
     "output_type": "execute_result"
    }
   ],
   "source": [
    "q_hat"
   ]
  },
  {
   "cell_type": "code",
   "execution_count": 39,
   "id": "92460794-cdac-4be2-ba28-f28c0515a6fb",
   "metadata": {
    "execution": {
     "iopub.execute_input": "2025-07-16T11:43:09.304335Z",
     "iopub.status.busy": "2025-07-16T11:43:09.303935Z",
     "iopub.status.idle": "2025-07-16T11:43:12.004242Z",
     "shell.execute_reply": "2025-07-16T11:43:12.003076Z"
    },
    "papermill": {
     "duration": 2.728787,
     "end_time": "2025-07-16T11:43:12.006748",
     "exception": false,
     "start_time": "2025-07-16T11:43:09.277961",
     "status": "completed"
    },
    "tags": []
   },
   "outputs": [],
   "source": [
    "from fairness_multiverse.conformal import predict_conformal_sets\n",
    "\n",
    "# Generate prediction sets for each test example\n",
    "pred_sets = predict_conformal_sets(model, X_test, q_hat)"
   ]
  },
  {
   "cell_type": "code",
   "execution_count": 40,
   "id": "d90c9a65-e6db-4f5d-80cd-e68fb7e46829",
   "metadata": {
    "execution": {
     "iopub.execute_input": "2025-07-16T11:43:12.132319Z",
     "iopub.status.busy": "2025-07-16T11:43:12.131804Z",
     "iopub.status.idle": "2025-07-16T11:43:12.138698Z",
     "shell.execute_reply": "2025-07-16T11:43:12.137450Z"
    },
    "papermill": {
     "duration": 0.096689,
     "end_time": "2025-07-16T11:43:12.142492",
     "exception": false,
     "start_time": "2025-07-16T11:43:12.045803",
     "status": "completed"
    },
    "tags": []
   },
   "outputs": [],
   "source": [
    "y_true = y_true.squeeze()"
   ]
  },
  {
   "cell_type": "code",
   "execution_count": 41,
   "id": "3a58a54a-1e68-46b9-927a-df01f18aebc8",
   "metadata": {
    "execution": {
     "iopub.execute_input": "2025-07-16T11:43:12.267405Z",
     "iopub.status.busy": "2025-07-16T11:43:12.266986Z",
     "iopub.status.idle": "2025-07-16T11:43:13.542990Z",
     "shell.execute_reply": "2025-07-16T11:43:13.541882Z"
    },
    "papermill": {
     "duration": 1.324365,
     "end_time": "2025-07-16T11:43:13.545076",
     "exception": false,
     "start_time": "2025-07-16T11:43:12.220711",
     "status": "completed"
    },
    "tags": []
   },
   "outputs": [],
   "source": [
    "from fairness_multiverse.conformal import evaluate_sets\n",
    "\n",
    "# Evaluate coverage and average set size on test data\n",
    "metrics = evaluate_sets(pred_sets, y_true)"
   ]
  },
  {
   "cell_type": "code",
   "execution_count": 42,
   "id": "5ce0a5cb-201f-45a0-ade5-94c7f0bd6095",
   "metadata": {
    "execution": {
     "iopub.execute_input": "2025-07-16T11:43:13.690984Z",
     "iopub.status.busy": "2025-07-16T11:43:13.690584Z",
     "iopub.status.idle": "2025-07-16T11:43:13.698086Z",
     "shell.execute_reply": "2025-07-16T11:43:13.697074Z"
    },
    "papermill": {
     "duration": 0.067348,
     "end_time": "2025-07-16T11:43:13.700047",
     "exception": false,
     "start_time": "2025-07-16T11:43:13.632699",
     "status": "completed"
    },
    "tags": []
   },
   "outputs": [
    {
     "data": {
      "text/plain": [
       "{'coverage': 0.914000668821759, 'avg_size': 1.1392709842826887}"
      ]
     },
     "execution_count": 42,
     "metadata": {},
     "output_type": "execute_result"
    }
   ],
   "source": [
    "metrics"
   ]
  },
  {
   "cell_type": "code",
   "execution_count": 43,
   "id": "9b9a838d-31c9-430b-ae14-12baee460d17",
   "metadata": {
    "execution": {
     "iopub.execute_input": "2025-07-16T11:43:13.799204Z",
     "iopub.status.busy": "2025-07-16T11:43:13.798652Z",
     "iopub.status.idle": "2025-07-16T11:43:13.805422Z",
     "shell.execute_reply": "2025-07-16T11:43:13.804273Z"
    },
    "papermill": {
     "duration": 0.055048,
     "end_time": "2025-07-16T11:43:13.810654",
     "exception": false,
     "start_time": "2025-07-16T11:43:13.755606",
     "status": "completed"
    },
    "tags": []
   },
   "outputs": [],
   "source": [
    "example_universe = universe.copy()\n",
    "universe_model = example_universe.get(\"model\")\n",
    "universe_exclude_features = example_universe.get(\"exclude_features\")\n",
    "universe_exclude_subgroups = example_universe.get(\"exclude_subgroups\")"
   ]
  },
  {
   "cell_type": "code",
   "execution_count": 44,
   "id": "f4b6a8ac-9dc0-4245-8a91-5b3b5999c4f9",
   "metadata": {
    "execution": {
     "iopub.execute_input": "2025-07-16T11:43:13.903303Z",
     "iopub.status.busy": "2025-07-16T11:43:13.902754Z",
     "iopub.status.idle": "2025-07-16T11:43:13.911472Z",
     "shell.execute_reply": "2025-07-16T11:43:13.909859Z"
    },
    "papermill": {
     "duration": 0.052564,
     "end_time": "2025-07-16T11:43:13.913686",
     "exception": false,
     "start_time": "2025-07-16T11:43:13.861122",
     "status": "completed"
    },
    "tags": []
   },
   "outputs": [],
   "source": [
    "cp_metrics_dict = {\n",
    "    \"universe_id\": [universe_id],\n",
    "    \"universe_model\": [universe_model],\n",
    "    \"universe_exclude_features\": [universe_exclude_features],\n",
    "    \"universe_exclude_subgroups\": [universe_exclude_subgroups],\n",
    "    \"q_hat\": [q_hat],\n",
    "    \"coverage\": [metrics[\"coverage\"]],\n",
    "    \"avg_size\": [metrics[\"avg_size\"]],\n",
    "}"
   ]
  },
  {
   "cell_type": "code",
   "execution_count": 45,
   "id": "908acbb1-0371-4915-85ca-3fa520d2efe2",
   "metadata": {
    "execution": {
     "iopub.execute_input": "2025-07-16T11:43:13.963459Z",
     "iopub.status.busy": "2025-07-16T11:43:13.963007Z",
     "iopub.status.idle": "2025-07-16T11:43:13.971485Z",
     "shell.execute_reply": "2025-07-16T11:43:13.970170Z"
    },
    "papermill": {
     "duration": 0.038141,
     "end_time": "2025-07-16T11:43:13.976416",
     "exception": false,
     "start_time": "2025-07-16T11:43:13.938275",
     "status": "completed"
    },
    "tags": []
   },
   "outputs": [
    {
     "data": {
      "text/plain": [
       "{'universe_id': ['e95235cea9f300cc59b8bea683dd19b1'],\n",
       " 'universe_model': ['rf'],\n",
       " 'universe_exclude_features': ['sex'],\n",
       " 'universe_exclude_subgroups': ['drop-non-german'],\n",
       " 'q_hat': [0.65],\n",
       " 'coverage': [0.914000668821759],\n",
       " 'avg_size': [1.1392709842826887]}"
      ]
     },
     "execution_count": 45,
     "metadata": {},
     "output_type": "execute_result"
    }
   ],
   "source": [
    "cp_metrics_dict"
   ]
  },
  {
   "cell_type": "code",
   "execution_count": 46,
   "id": "33007efc-14e9-4ec6-97ac-56a455c82265",
   "metadata": {
    "execution": {
     "iopub.execute_input": "2025-07-16T11:43:14.050846Z",
     "iopub.status.busy": "2025-07-16T11:43:14.050412Z",
     "iopub.status.idle": "2025-07-16T11:43:14.057633Z",
     "shell.execute_reply": "2025-07-16T11:43:14.056356Z"
    },
    "papermill": {
     "duration": 0.055772,
     "end_time": "2025-07-16T11:43:14.059439",
     "exception": false,
     "start_time": "2025-07-16T11:43:14.003667",
     "status": "completed"
    },
    "tags": []
   },
   "outputs": [],
   "source": [
    "cp_metrics_df = pd.DataFrame(cp_metrics_dict)"
   ]
  },
  {
   "cell_type": "code",
   "execution_count": 47,
   "id": "db12611b-57b2-4910-b9d0-355adfd6e7bf",
   "metadata": {
    "execution": {
     "iopub.execute_input": "2025-07-16T11:43:14.117340Z",
     "iopub.status.busy": "2025-07-16T11:43:14.116137Z",
     "iopub.status.idle": "2025-07-16T11:43:14.134719Z",
     "shell.execute_reply": "2025-07-16T11:43:14.133547Z"
    },
    "papermill": {
     "duration": 0.049362,
     "end_time": "2025-07-16T11:43:14.138938",
     "exception": false,
     "start_time": "2025-07-16T11:43:14.089576",
     "status": "completed"
    },
    "tags": []
   },
   "outputs": [
    {
     "data": {
      "text/html": [
       "<div>\n",
       "<style scoped>\n",
       "    .dataframe tbody tr th:only-of-type {\n",
       "        vertical-align: middle;\n",
       "    }\n",
       "\n",
       "    .dataframe tbody tr th {\n",
       "        vertical-align: top;\n",
       "    }\n",
       "\n",
       "    .dataframe thead th {\n",
       "        text-align: right;\n",
       "    }\n",
       "</style>\n",
       "<table border=\"1\" class=\"dataframe\">\n",
       "  <thead>\n",
       "    <tr style=\"text-align: right;\">\n",
       "      <th></th>\n",
       "      <th>universe_id</th>\n",
       "      <th>universe_model</th>\n",
       "      <th>universe_exclude_features</th>\n",
       "      <th>universe_exclude_subgroups</th>\n",
       "      <th>q_hat</th>\n",
       "      <th>coverage</th>\n",
       "      <th>avg_size</th>\n",
       "    </tr>\n",
       "  </thead>\n",
       "  <tbody>\n",
       "    <tr>\n",
       "      <th>0</th>\n",
       "      <td>e95235cea9f300cc59b8bea683dd19b1</td>\n",
       "      <td>rf</td>\n",
       "      <td>sex</td>\n",
       "      <td>drop-non-german</td>\n",
       "      <td>0.65</td>\n",
       "      <td>0.914001</td>\n",
       "      <td>1.139271</td>\n",
       "    </tr>\n",
       "  </tbody>\n",
       "</table>\n",
       "</div>"
      ],
      "text/plain": [
       "                        universe_id universe_model universe_exclude_features  \\\n",
       "0  e95235cea9f300cc59b8bea683dd19b1             rf                       sex   \n",
       "\n",
       "  universe_exclude_subgroups  q_hat  coverage  avg_size  \n",
       "0            drop-non-german   0.65  0.914001  1.139271  "
      ]
     },
     "execution_count": 47,
     "metadata": {},
     "output_type": "execute_result"
    }
   ],
   "source": [
    "cp_metrics_df.head()"
   ]
  },
  {
   "cell_type": "code",
   "execution_count": 48,
   "id": "e6aa1fe0-b882-4a50-8bdf-05f68c24faeb",
   "metadata": {
    "execution": {
     "iopub.execute_input": "2025-07-16T11:43:14.203028Z",
     "iopub.status.busy": "2025-07-16T11:43:14.202577Z",
     "iopub.status.idle": "2025-07-16T11:43:14.208982Z",
     "shell.execute_reply": "2025-07-16T11:43:14.207694Z"
    },
    "papermill": {
     "duration": 0.03525,
     "end_time": "2025-07-16T11:43:14.212622",
     "exception": false,
     "start_time": "2025-07-16T11:43:14.177372",
     "status": "completed"
    },
    "tags": []
   },
   "outputs": [],
   "source": [
    "output_folder = \"results/cp_metrics\"\n",
    "os.makedirs(output_folder, exist_ok=True)"
   ]
  },
  {
   "cell_type": "code",
   "execution_count": 49,
   "id": "b53d024f-1be6-4b80-9953-843618c45449",
   "metadata": {
    "execution": {
     "iopub.execute_input": "2025-07-16T11:43:14.260863Z",
     "iopub.status.busy": "2025-07-16T11:43:14.260396Z",
     "iopub.status.idle": "2025-07-16T11:43:14.267113Z",
     "shell.execute_reply": "2025-07-16T11:43:14.265781Z"
    },
    "papermill": {
     "duration": 0.034319,
     "end_time": "2025-07-16T11:43:14.270969",
     "exception": false,
     "start_time": "2025-07-16T11:43:14.236650",
     "status": "completed"
    },
    "tags": []
   },
   "outputs": [],
   "source": [
    "output_file = os.path.join(output_folder, f\"metrics_{universe_id}.csv\")"
   ]
  },
  {
   "cell_type": "code",
   "execution_count": 50,
   "id": "c1f366d1-edb8-4383-bdcb-c7ea0c25e9d1",
   "metadata": {
    "execution": {
     "iopub.execute_input": "2025-07-16T11:43:14.320523Z",
     "iopub.status.busy": "2025-07-16T11:43:14.320090Z",
     "iopub.status.idle": "2025-07-16T11:43:14.329528Z",
     "shell.execute_reply": "2025-07-16T11:43:14.328246Z"
    },
    "papermill": {
     "duration": 0.037162,
     "end_time": "2025-07-16T11:43:14.332822",
     "exception": false,
     "start_time": "2025-07-16T11:43:14.295660",
     "status": "completed"
    },
    "tags": []
   },
   "outputs": [],
   "source": [
    "cp_metrics_df.to_csv(output_file, index=False)"
   ]
  },
  {
   "cell_type": "markdown",
   "id": "33774451",
   "metadata": {
    "papermill": {
     "duration": 0.052057,
     "end_time": "2025-07-16T11:43:14.456933",
     "exception": false,
     "start_time": "2025-07-16T11:43:14.404876",
     "status": "completed"
    },
    "tags": []
   },
   "source": [
    "# (Fairness) Metrics"
   ]
  },
  {
   "cell_type": "code",
   "execution_count": 51,
   "id": "debc5d62",
   "metadata": {
    "execution": {
     "iopub.execute_input": "2025-07-16T11:43:14.560312Z",
     "iopub.status.busy": "2025-07-16T11:43:14.559874Z",
     "iopub.status.idle": "2025-07-16T11:43:14.620191Z",
     "shell.execute_reply": "2025-07-16T11:43:14.619157Z"
    },
    "papermill": {
     "duration": 0.108969,
     "end_time": "2025-07-16T11:43:14.622165",
     "exception": false,
     "start_time": "2025-07-16T11:43:14.513196",
     "status": "completed"
    },
    "tags": []
   },
   "outputs": [],
   "source": [
    "# do I need to include maxdeutsch1.missing?\n",
    "\n",
    "import numpy as np\n",
    "\n",
    "colname_to_bin = \"maxdeutsch1\"\n",
    "majority_value = org_train[colname_to_bin].mode()[0]\n",
    "\n",
    "org_test[\"majmin\"] = np.where(org_test[colname_to_bin] == majority_value, \"majority\", \"minority\")"
   ]
  },
  {
   "cell_type": "code",
   "execution_count": 52,
   "id": "06a50de5",
   "metadata": {
    "execution": {
     "iopub.execute_input": "2025-07-16T11:43:14.720283Z",
     "iopub.status.busy": "2025-07-16T11:43:14.719413Z",
     "iopub.status.idle": "2025-07-16T11:43:17.799423Z",
     "shell.execute_reply": "2025-07-16T11:43:17.798500Z"
    },
    "papermill": {
     "duration": 3.123825,
     "end_time": "2025-07-16T11:43:17.801345",
     "exception": false,
     "start_time": "2025-07-16T11:43:14.677520",
     "status": "completed"
    },
    "tags": []
   },
   "outputs": [],
   "source": [
    "example_universe = universe.copy()\n",
    "example_universe[\"cutoff\"] = example_universe[\"cutoff\"][0]\n",
    "example_universe[\"eval_fairness_grouping\"] = example_universe[\"eval_fairness_grouping\"][0]\n",
    "fairness_dict, metric_frame = universe_analysis.compute_metrics(\n",
    "    example_universe,\n",
    "    y_pred_prob=probs_test,\n",
    "    y_test=y_true,\n",
    "    org_test=org_test,\n",
    ")"
   ]
  },
  {
   "cell_type": "markdown",
   "id": "f95d4e02",
   "metadata": {
    "papermill": {
     "duration": 0.021579,
     "end_time": "2025-07-16T11:43:17.843674",
     "exception": false,
     "start_time": "2025-07-16T11:43:17.822095",
     "status": "completed"
    },
    "tags": []
   },
   "source": [
    "# Overall"
   ]
  },
  {
   "cell_type": "markdown",
   "id": "bdee4871",
   "metadata": {
    "papermill": {
     "duration": 0.02031,
     "end_time": "2025-07-16T11:43:17.885973",
     "exception": false,
     "start_time": "2025-07-16T11:43:17.865663",
     "status": "completed"
    },
    "tags": []
   },
   "source": [
    "Fairness\n",
    "Main fairness target: Equalized Odds. Seems to be a better fit than equal opportunity, since we're not only interested in Y = 1. Seems to be a better fit than demographic parity, since we also care about accuracy, not just equal distribution of preds.\n",
    "\n",
    "Pick column for computation of fairness metrics\n",
    "\n",
    "Performance\n",
    "Overall performance measures, most interesting in relation to the measures split by group below"
   ]
  },
  {
   "cell_type": "code",
   "execution_count": 53,
   "id": "c4e067c6",
   "metadata": {
    "execution": {
     "iopub.execute_input": "2025-07-16T11:43:17.930259Z",
     "iopub.status.busy": "2025-07-16T11:43:17.929322Z",
     "iopub.status.idle": "2025-07-16T11:43:17.938681Z",
     "shell.execute_reply": "2025-07-16T11:43:17.937639Z"
    },
    "papermill": {
     "duration": 0.034172,
     "end_time": "2025-07-16T11:43:17.940473",
     "exception": false,
     "start_time": "2025-07-16T11:43:17.906301",
     "status": "completed"
    },
    "tags": []
   },
   "outputs": [
    {
     "data": {
      "text/plain": [
       "accuracy                   0.195586\n",
       "balanced accuracy          0.530194\n",
       "f1                         0.238182\n",
       "precision                  0.135560\n",
       "false positive rate        0.919887\n",
       "false negative rate        0.019725\n",
       "selection rate             0.927633\n",
       "count                  89710.000000\n",
       "dtype: float64"
      ]
     },
     "execution_count": 53,
     "metadata": {},
     "output_type": "execute_result"
    }
   ],
   "source": [
    "metric_frame.overall"
   ]
  },
  {
   "cell_type": "markdown",
   "id": "e968fe9d",
   "metadata": {
    "papermill": {
     "duration": 0.021598,
     "end_time": "2025-07-16T11:43:17.984218",
     "exception": false,
     "start_time": "2025-07-16T11:43:17.962620",
     "status": "completed"
    },
    "tags": []
   },
   "source": [
    "By Group"
   ]
  },
  {
   "cell_type": "code",
   "execution_count": 54,
   "id": "ec325bce",
   "metadata": {
    "execution": {
     "iopub.execute_input": "2025-07-16T11:43:18.028459Z",
     "iopub.status.busy": "2025-07-16T11:43:18.027677Z",
     "iopub.status.idle": "2025-07-16T11:43:18.044840Z",
     "shell.execute_reply": "2025-07-16T11:43:18.043657Z"
    },
    "papermill": {
     "duration": 0.041237,
     "end_time": "2025-07-16T11:43:18.046786",
     "exception": false,
     "start_time": "2025-07-16T11:43:18.005549",
     "status": "completed"
    },
    "tags": []
   },
   "outputs": [
    {
     "data": {
      "text/html": [
       "<div>\n",
       "<style scoped>\n",
       "    .dataframe tbody tr th:only-of-type {\n",
       "        vertical-align: middle;\n",
       "    }\n",
       "\n",
       "    .dataframe tbody tr th {\n",
       "        vertical-align: top;\n",
       "    }\n",
       "\n",
       "    .dataframe thead th {\n",
       "        text-align: right;\n",
       "    }\n",
       "</style>\n",
       "<table border=\"1\" class=\"dataframe\">\n",
       "  <thead>\n",
       "    <tr style=\"text-align: right;\">\n",
       "      <th></th>\n",
       "      <th>accuracy</th>\n",
       "      <th>balanced accuracy</th>\n",
       "      <th>f1</th>\n",
       "      <th>precision</th>\n",
       "      <th>false positive rate</th>\n",
       "      <th>false negative rate</th>\n",
       "      <th>selection rate</th>\n",
       "      <th>count</th>\n",
       "    </tr>\n",
       "    <tr>\n",
       "      <th>majmin</th>\n",
       "      <th></th>\n",
       "      <th></th>\n",
       "      <th></th>\n",
       "      <th></th>\n",
       "      <th></th>\n",
       "      <th></th>\n",
       "      <th></th>\n",
       "      <th></th>\n",
       "    </tr>\n",
       "  </thead>\n",
       "  <tbody>\n",
       "    <tr>\n",
       "      <th>majority</th>\n",
       "      <td>0.191456</td>\n",
       "      <td>0.530279</td>\n",
       "      <td>0.244628</td>\n",
       "      <td>0.139540</td>\n",
       "      <td>0.930252</td>\n",
       "      <td>0.009190</td>\n",
       "      <td>0.938254</td>\n",
       "      <td>69170.0</td>\n",
       "    </tr>\n",
       "    <tr>\n",
       "      <th>minority</th>\n",
       "      <td>0.209494</td>\n",
       "      <td>0.526982</td>\n",
       "      <td>0.215111</td>\n",
       "      <td>0.121459</td>\n",
       "      <td>0.885648</td>\n",
       "      <td>0.060389</td>\n",
       "      <td>0.891870</td>\n",
       "      <td>20540.0</td>\n",
       "    </tr>\n",
       "  </tbody>\n",
       "</table>\n",
       "</div>"
      ],
      "text/plain": [
       "          accuracy  balanced accuracy        f1  precision  \\\n",
       "majmin                                                       \n",
       "majority  0.191456           0.530279  0.244628   0.139540   \n",
       "minority  0.209494           0.526982  0.215111   0.121459   \n",
       "\n",
       "          false positive rate  false negative rate  selection rate    count  \n",
       "majmin                                                                       \n",
       "majority             0.930252             0.009190        0.938254  69170.0  \n",
       "minority             0.885648             0.060389        0.891870  20540.0  "
      ]
     },
     "execution_count": 54,
     "metadata": {},
     "output_type": "execute_result"
    }
   ],
   "source": [
    "metric_frame.by_group"
   ]
  },
  {
   "cell_type": "code",
   "execution_count": 55,
   "id": "a9ddbe63",
   "metadata": {
    "execution": {
     "iopub.execute_input": "2025-07-16T11:43:18.095651Z",
     "iopub.status.busy": "2025-07-16T11:43:18.094981Z",
     "iopub.status.idle": "2025-07-16T11:43:20.419561Z",
     "shell.execute_reply": "2025-07-16T11:43:20.418808Z"
    },
    "papermill": {
     "duration": 2.351098,
     "end_time": "2025-07-16T11:43:20.421294",
     "exception": false,
     "start_time": "2025-07-16T11:43:18.070196",
     "status": "completed"
    },
    "tags": []
   },
   "outputs": [
    {
     "data": {
      "text/plain": [
       "array([[<Axes: title={'center': 'accuracy'}, xlabel='majmin'>,\n",
       "        <Axes: title={'center': 'balanced accuracy'}, xlabel='majmin'>,\n",
       "        <Axes: title={'center': 'f1'}, xlabel='majmin'>],\n",
       "       [<Axes: title={'center': 'precision'}, xlabel='majmin'>,\n",
       "        <Axes: title={'center': 'false positive rate'}, xlabel='majmin'>,\n",
       "        <Axes: title={'center': 'false negative rate'}, xlabel='majmin'>],\n",
       "       [<Axes: title={'center': 'selection rate'}, xlabel='majmin'>,\n",
       "        <Axes: title={'center': 'count'}, xlabel='majmin'>,\n",
       "        <Axes: xlabel='majmin'>]], dtype=object)"
      ]
     },
     "execution_count": 55,
     "metadata": {},
     "output_type": "execute_result"
    },
    {
     "data": {
      "image/png": "[encoded data removed]",
      "text/plain": [
       "<Figure size 1200x800 with 9 Axes>"
      ]
     },
     "metadata": {},
     "output_type": "display_data"
    }
   ],
   "source": [
    "# In a graphic\n",
    "metric_frame.by_group.plot.bar(\n",
    "    subplots=True,\n",
    "    layout=[3, 3],\n",
    "    legend=False,\n",
    "    figsize=[12, 8],\n",
    "    title=\"Show all metrics\",\n",
    ")"
   ]
  },
  {
   "cell_type": "markdown",
   "id": "f57a0bac",
   "metadata": {
    "papermill": {
     "duration": 0.025725,
     "end_time": "2025-07-16T11:43:20.476830",
     "exception": false,
     "start_time": "2025-07-16T11:43:20.451105",
     "status": "completed"
    },
    "tags": []
   },
   "source": [
    "# Final Output"
   ]
  },
  {
   "cell_type": "code",
   "execution_count": 56,
   "id": "96d280a3",
   "metadata": {
    "execution": {
     "iopub.execute_input": "2025-07-16T11:43:20.530626Z",
     "iopub.status.busy": "2025-07-16T11:43:20.529849Z",
     "iopub.status.idle": "2025-07-16T11:43:20.539259Z",
     "shell.execute_reply": "2025-07-16T11:43:20.538104Z"
    },
    "papermill": {
     "duration": 0.037913,
     "end_time": "2025-07-16T11:43:20.541243",
     "exception": false,
     "start_time": "2025-07-16T11:43:20.503330",
     "status": "completed"
    },
    "tags": []
   },
   "outputs": [
    {
     "data": {
      "text/plain": [
       "4"
      ]
     },
     "execution_count": 56,
     "metadata": {},
     "output_type": "execute_result"
    }
   ],
   "source": [
    "sub_universes = universe_analysis.generate_sub_universes()\n",
    "len(sub_universes)"
   ]
  },
  {
   "cell_type": "code",
   "execution_count": 57,
   "id": "92adf7ba",
   "metadata": {
    "execution": {
     "iopub.execute_input": "2025-07-16T11:43:20.597071Z",
     "iopub.status.busy": "2025-07-16T11:43:20.596087Z",
     "iopub.status.idle": "2025-07-16T11:43:20.603613Z",
     "shell.execute_reply": "2025-07-16T11:43:20.602587Z"
    },
    "papermill": {
     "duration": 0.038182,
     "end_time": "2025-07-16T11:43:20.605542",
     "exception": false,
     "start_time": "2025-07-16T11:43:20.567360",
     "status": "completed"
    },
    "tags": []
   },
   "outputs": [],
   "source": [
    "def filter_sub_universe_data(sub_universe, org_test):\n",
    "    # Keep all rows — no filtering\n",
    "    keep_rows_mask = np.ones(org_test.shape[0], dtype=bool)\n",
    "\n",
    "    print(f\"[INFO] Keeping all rows: {keep_rows_mask.sum()} rows retained.\")\n",
    "    return keep_rows_mask"
   ]
  },
  {
   "cell_type": "code",
   "execution_count": 58,
   "id": "4a759155",
   "metadata": {
    "execution": {
     "iopub.execute_input": "2025-07-16T11:43:20.661499Z",
     "iopub.status.busy": "2025-07-16T11:43:20.660735Z",
     "iopub.status.idle": "2025-07-16T11:43:32.264520Z",
     "shell.execute_reply": "2025-07-16T11:43:32.263286Z"
    },
    "papermill": {
     "duration": 11.632672,
     "end_time": "2025-07-16T11:43:32.266330",
     "exception": false,
     "start_time": "2025-07-16T11:43:20.633658",
     "status": "completed"
    },
    "tags": []
   },
   "outputs": [
    {
     "name": "stdout",
     "output_type": "stream",
     "text": [
      "Stopping execution_time clock.\n",
      "[INFO] Keeping all rows: 89710 rows retained.\n"
     ]
    },
    {
     "name": "stdout",
     "output_type": "stream",
     "text": [
      "[INFO] Keeping all rows: 89710 rows retained.\n"
     ]
    },
    {
     "name": "stdout",
     "output_type": "stream",
     "text": [
      "[INFO] Keeping all rows: 89710 rows retained.\n"
     ]
    },
    {
     "name": "stdout",
     "output_type": "stream",
     "text": [
      "[INFO] Keeping all rows: 89710 rows retained.\n"
     ]
    },
    {
     "data": {
      "text/html": [
       "<div>\n",
       "<style scoped>\n",
       "    .dataframe tbody tr th:only-of-type {\n",
       "        vertical-align: middle;\n",
       "    }\n",
       "\n",
       "    .dataframe tbody tr th {\n",
       "        vertical-align: top;\n",
       "    }\n",
       "\n",
       "    .dataframe thead th {\n",
       "        text-align: right;\n",
       "    }\n",
       "</style>\n",
       "<table border=\"1\" class=\"dataframe\">\n",
       "  <thead>\n",
       "    <tr style=\"text-align: right;\">\n",
       "      <th></th>\n",
       "      <th>run_no</th>\n",
       "      <th>universe_id</th>\n",
       "      <th>universe_settings</th>\n",
       "      <th>execution_time</th>\n",
       "      <th>test_size_n</th>\n",
       "      <th>test_size_frac</th>\n",
       "      <th>fair_main_equalized_odds_difference</th>\n",
       "      <th>fair_main_equalized_odds_ratio</th>\n",
       "      <th>fair_main_demographic_parity_difference</th>\n",
       "      <th>fair_main_demographic_parity_ratio</th>\n",
       "      <th>...</th>\n",
       "      <th>perf_grp_precision_0</th>\n",
       "      <th>perf_grp_precision_1</th>\n",
       "      <th>perf_grp_false positive rate_0</th>\n",
       "      <th>perf_grp_false positive rate_1</th>\n",
       "      <th>perf_grp_false negative rate_0</th>\n",
       "      <th>perf_grp_false negative rate_1</th>\n",
       "      <th>perf_grp_selection rate_0</th>\n",
       "      <th>perf_grp_selection rate_1</th>\n",
       "      <th>perf_grp_count_0</th>\n",
       "      <th>perf_grp_count_1</th>\n",
       "    </tr>\n",
       "  </thead>\n",
       "  <tbody>\n",
       "    <tr>\n",
       "      <th>0</th>\n",
       "      <td>13</td>\n",
       "      <td>e95235cea9f300cc59b8bea683dd19b1</td>\n",
       "      <td>{\"cutoff\": \"quantile_0.1\", \"eval_fairness_grou...</td>\n",
       "      <td>38.504025</td>\n",
       "      <td>89710</td>\n",
       "      <td>1.0</td>\n",
       "      <td>0.051198</td>\n",
       "      <td>0.948327</td>\n",
       "      <td>0.046384</td>\n",
       "      <td>0.950563</td>\n",
       "      <td>...</td>\n",
       "      <td>NaN</td>\n",
       "      <td>NaN</td>\n",
       "      <td>NaN</td>\n",
       "      <td>NaN</td>\n",
       "      <td>NaN</td>\n",
       "      <td>NaN</td>\n",
       "      <td>NaN</td>\n",
       "      <td>NaN</td>\n",
       "      <td>NaN</td>\n",
       "      <td>NaN</td>\n",
       "    </tr>\n",
       "    <tr>\n",
       "      <th>0</th>\n",
       "      <td>13</td>\n",
       "      <td>e95235cea9f300cc59b8bea683dd19b1</td>\n",
       "      <td>{\"cutoff\": \"quantile_0.1\", \"eval_fairness_grou...</td>\n",
       "      <td>38.504025</td>\n",
       "      <td>89710</td>\n",
       "      <td>1.0</td>\n",
       "      <td>0.051198</td>\n",
       "      <td>0.948327</td>\n",
       "      <td>0.046384</td>\n",
       "      <td>0.950563</td>\n",
       "      <td>...</td>\n",
       "      <td>0.121459</td>\n",
       "      <td>0.139540</td>\n",
       "      <td>0.885648</td>\n",
       "      <td>0.930252</td>\n",
       "      <td>0.060389</td>\n",
       "      <td>0.009190</td>\n",
       "      <td>0.891870</td>\n",
       "      <td>0.938254</td>\n",
       "      <td>20540.0</td>\n",
       "      <td>69170.0</td>\n",
       "    </tr>\n",
       "    <tr>\n",
       "      <th>0</th>\n",
       "      <td>13</td>\n",
       "      <td>e95235cea9f300cc59b8bea683dd19b1</td>\n",
       "      <td>{\"cutoff\": \"quantile_0.25\", \"eval_fairness_gro...</td>\n",
       "      <td>38.504025</td>\n",
       "      <td>89710</td>\n",
       "      <td>1.0</td>\n",
       "      <td>0.099739</td>\n",
       "      <td>0.895780</td>\n",
       "      <td>0.061401</td>\n",
       "      <td>0.922433</td>\n",
       "      <td>...</td>\n",
       "      <td>NaN</td>\n",
       "      <td>NaN</td>\n",
       "      <td>NaN</td>\n",
       "      <td>NaN</td>\n",
       "      <td>NaN</td>\n",
       "      <td>NaN</td>\n",
       "      <td>NaN</td>\n",
       "      <td>NaN</td>\n",
       "      <td>NaN</td>\n",
       "      <td>NaN</td>\n",
       "    </tr>\n",
       "    <tr>\n",
       "      <th>0</th>\n",
       "      <td>13</td>\n",
       "      <td>e95235cea9f300cc59b8bea683dd19b1</td>\n",
       "      <td>{\"cutoff\": \"quantile_0.25\", \"eval_fairness_gro...</td>\n",
       "      <td>38.504025</td>\n",
       "      <td>89710</td>\n",
       "      <td>1.0</td>\n",
       "      <td>0.099739</td>\n",
       "      <td>0.895780</td>\n",
       "      <td>0.061401</td>\n",
       "      <td>0.922433</td>\n",
       "      <td>...</td>\n",
       "      <td>0.135351</td>\n",
       "      <td>0.159751</td>\n",
       "      <td>0.713625</td>\n",
       "      <td>0.766400</td>\n",
       "      <td>0.142736</td>\n",
       "      <td>0.042998</td>\n",
       "      <td>0.730185</td>\n",
       "      <td>0.791586</td>\n",
       "      <td>20540.0</td>\n",
       "      <td>69170.0</td>\n",
       "    </tr>\n",
       "  </tbody>\n",
       "</table>\n",
       "<p>4 rows × 50 columns</p>\n",
       "</div>"
      ],
      "text/plain": [
       "  run_no                       universe_id  \\\n",
       "0     13  e95235cea9f300cc59b8bea683dd19b1   \n",
       "0     13  e95235cea9f300cc59b8bea683dd19b1   \n",
       "0     13  e95235cea9f300cc59b8bea683dd19b1   \n",
       "0     13  e95235cea9f300cc59b8bea683dd19b1   \n",
       "\n",
       "                                   universe_settings  execution_time  \\\n",
       "0  {\"cutoff\": \"quantile_0.1\", \"eval_fairness_grou...       38.504025   \n",
       "0  {\"cutoff\": \"quantile_0.1\", \"eval_fairness_grou...       38.504025   \n",
       "0  {\"cutoff\": \"quantile_0.25\", \"eval_fairness_gro...       38.504025   \n",
       "0  {\"cutoff\": \"quantile_0.25\", \"eval_fairness_gro...       38.504025   \n",
       "\n",
       "   test_size_n  test_size_frac  fair_main_equalized_odds_difference  \\\n",
       "0        89710             1.0                             0.051198   \n",
       "0        89710             1.0                             0.051198   \n",
       "0        89710             1.0                             0.099739   \n",
       "0        89710             1.0                             0.099739   \n",
       "\n",
       "   fair_main_equalized_odds_ratio  fair_main_demographic_parity_difference  \\\n",
       "0                        0.948327                                 0.046384   \n",
       "0                        0.948327                                 0.046384   \n",
       "0                        0.895780                                 0.061401   \n",
       "0                        0.895780                                 0.061401   \n",
       "\n",
       "   fair_main_demographic_parity_ratio  ...  perf_grp_precision_0  \\\n",
       "0                            0.950563  ...                   NaN   \n",
       "0                            0.950563  ...              0.121459   \n",
       "0                            0.922433  ...                   NaN   \n",
       "0                            0.922433  ...              0.135351   \n",
       "\n",
       "   perf_grp_precision_1  perf_grp_false positive rate_0  \\\n",
       "0                   NaN                             NaN   \n",
       "0              0.139540                        0.885648   \n",
       "0                   NaN                             NaN   \n",
       "0              0.159751                        0.713625   \n",
       "\n",
       "   perf_grp_false positive rate_1  perf_grp_false negative rate_0  \\\n",
       "0                             NaN                             NaN   \n",
       "0                        0.930252                        0.060389   \n",
       "0                             NaN                             NaN   \n",
       "0                        0.766400                        0.142736   \n",
       "\n",
       "   perf_grp_false negative rate_1  perf_grp_selection rate_0  \\\n",
       "0                             NaN                        NaN   \n",
       "0                        0.009190                   0.891870   \n",
       "0                             NaN                        NaN   \n",
       "0                        0.042998                   0.730185   \n",
       "\n",
       "   perf_grp_selection rate_1  perf_grp_count_0  perf_grp_count_1  \n",
       "0                        NaN               NaN               NaN  \n",
       "0                   0.938254           20540.0           69170.0  \n",
       "0                        NaN               NaN               NaN  \n",
       "0                   0.791586           20540.0           69170.0  \n",
       "\n",
       "[4 rows x 50 columns]"
      ]
     },
     "execution_count": 58,
     "metadata": {},
     "output_type": "execute_result"
    }
   ],
   "source": [
    "final_output = universe_analysis.generate_final_output(\n",
    "    y_pred_prob=probs_test,\n",
    "    y_test=y_true,\n",
    "    org_test=org_test,\n",
    "    save=True,\n",
    "    filter_data=filter_sub_universe_data\n",
    ")\n",
    "final_output"
   ]
  },
  {
   "cell_type": "code",
   "execution_count": null,
   "id": "721ff514-cb11-46f8-b6fc-50392f74b5cb",
   "metadata": {
    "papermill": {
     "duration": 0.025691,
     "end_time": "2025-07-16T11:43:32.320939",
     "exception": false,
     "start_time": "2025-07-16T11:43:32.295248",
     "status": "completed"
    },
    "tags": []
   },
   "outputs": [],
   "source": []
  }
 ],
 "metadata": {
  "celltoolbar": "Tags",
  "kernelspec": {
   "display_name": "Python (CMA Fairness)",
   "language": "python",
   "name": "cma_fair_env"
  },
  "language_info": {
   "codemirror_mode": {
    "name": "ipython",
    "version": 3
   },
   "file_extension": ".py",
   "mimetype": "text/x-python",
   "name": "python",
   "nbconvert_exporter": "python",
   "pygments_lexer": "ipython3",
   "version": "3.10.12"
  },
  "papermill": {
   "default_parameters": {},
   "duration": 54.536921,
   "end_time": "2025-07-16T11:43:33.167981",
   "environment_variables": {},
   "exception": null,
   "input_path": "universe_analysis.ipynb",
   "output_path": "output/runs/13/notebooks/m_13-e95235cea9f300cc59b8bea683dd19b1.ipynb",
   "parameters": {
    "output_dir": "output",
    "run_no": "13",
    "seed": "2023",
    "universe": "{\"cutoff\": [\"quantile_0.1\", \"quantile_0.25\"], \"eval_fairness_grouping\": [\"majority-minority\", \"nationality-all\"], \"exclude_features\": \"sex\", \"exclude_subgroups\": \"drop-non-german\", \"model\": \"rf\"}",
    "universe_id": "e95235cea9f300cc59b8bea683dd19b1"
   },
   "start_time": "2025-07-16T11:42:38.631060",
   "version": "2.6.0"
  }
 },
 "nbformat": 4,
 "nbformat_minor": 5
}