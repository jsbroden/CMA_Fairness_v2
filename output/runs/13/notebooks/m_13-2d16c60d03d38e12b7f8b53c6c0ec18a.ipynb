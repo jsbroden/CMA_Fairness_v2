{
 "cells": [
  {
   "cell_type": "code",
   "execution_count": 1,
   "id": "f159f837-637b-42ba-96b5-ec9a68c44524",
   "metadata": {
    "execution": {
     "iopub.execute_input": "2025-07-30T19:45:31.247814Z",
     "iopub.status.busy": "2025-07-30T19:45:31.247179Z",
     "iopub.status.idle": "2025-07-30T19:45:31.260276Z",
     "shell.execute_reply": "2025-07-30T19:45:31.259325Z"
    },
    "papermill": {
     "duration": 0.036809,
     "end_time": "2025-07-30T19:45:31.261838",
     "exception": false,
     "start_time": "2025-07-30T19:45:31.225029",
     "status": "completed"
    },
    "tags": []
   },
   "outputs": [
    {
     "name": "stdout",
     "output_type": "stream",
     "text": [
      "/dss/dsshome1/0C/ra93lal2/cma/CMA_Fairness_v2\n"
     ]
    },
    {
     "name": "stderr",
     "output_type": "stream",
     "text": [
      "/dss/dsshome1/0C/ra93lal2/.local/share/virtualenvs/CMA_Fairness_v2-3j10GkSs/lib/python3.10/site-packages/IPython/core/magics/osm.py:393: UserWarning: This is now an optional IPython functionality, using bookmarks requires you to install the `pickleshare` library.\n",
      "  bkms = self.shell.db.get('bookmarks', {})\n",
      "/dss/dsshome1/0C/ra93lal2/.local/share/virtualenvs/CMA_Fairness_v2-3j10GkSs/lib/python3.10/site-packages/IPython/core/magics/osm.py:417: UserWarning: This is now an optional IPython functionality, setting dhist requires you to install the `pickleshare` library.\n",
      "  self.shell.db['dhist'] = compress_dhist(dhist)[-100:]\n"
     ]
    }
   ],
   "source": [
    "%cd ~/cma/CMA_Fairness_v2"
   ]
  },
  {
   "cell_type": "markdown",
   "id": "de2603b9",
   "metadata": {
    "papermill": {
     "duration": 0.019727,
     "end_time": "2025-07-30T19:45:31.301684",
     "exception": false,
     "start_time": "2025-07-30T19:45:31.281957",
     "status": "completed"
    },
    "tags": []
   },
   "source": [
    "The following cell holds the definition of our parameters, these values can be overriden by rendering the with e.g. the following command:\n",
    "\n",
    "papermill -p alpha 0.2 -p ratio 0.3 universe_analysis.ipynb output/test_run.ipynb"
   ]
  },
  {
   "cell_type": "code",
   "execution_count": 2,
   "id": "a80968a0-40bb-4fa9-85ef-2d5eefb01975",
   "metadata": {
    "execution": {
     "iopub.execute_input": "2025-07-30T19:45:31.341243Z",
     "iopub.status.busy": "2025-07-30T19:45:31.340601Z",
     "iopub.status.idle": "2025-07-30T19:45:31.346315Z",
     "shell.execute_reply": "2025-07-30T19:45:31.345219Z"
    },
    "papermill": {
     "duration": 0.027834,
     "end_time": "2025-07-30T19:45:31.348463",
     "exception": false,
     "start_time": "2025-07-30T19:45:31.320629",
     "status": "completed"
    },
    "tags": []
   },
   "outputs": [
    {
     "name": "stdout",
     "output_type": "stream",
     "text": [
      "Current working directory: /dss/dsshome1/0C/ra93lal2/cma/CMA_Fairness_v2\n"
     ]
    }
   ],
   "source": [
    "import os\n",
    "print(\"Current working directory:\", os.getcwd())"
   ]
  },
  {
   "cell_type": "code",
   "execution_count": 3,
   "id": "2dce4c03",
   "metadata": {
    "execution": {
     "iopub.execute_input": "2025-07-30T19:45:31.389458Z",
     "iopub.status.busy": "2025-07-30T19:45:31.388885Z",
     "iopub.status.idle": "2025-07-30T19:45:31.394828Z",
     "shell.execute_reply": "2025-07-30T19:45:31.393992Z"
    },
    "papermill": {
     "duration": 0.027703,
     "end_time": "2025-07-30T19:45:31.396513",
     "exception": false,
     "start_time": "2025-07-30T19:45:31.368810",
     "status": "completed"
    },
    "tags": [
     "parameters"
    ]
   },
   "outputs": [],
   "source": [
    "run_no = 0\n",
    "universe_id = \"test\"\n",
    "universe = {\n",
    "    \"training_size\": \"25k\", # \"25k\", \"5k\", \"1k\"\n",
    "    \"training_year\": \"2014\", # \"2014\", \"2012_14\", \"2010_14\"\n",
    "    \"scale\": \"scale\", # \"scale\", \"do-not-scale\",\n",
    "    #\"stratify_split\": \"target\", # \"none\", \"target\", \"protected-attribute\", \"both\",\n",
    "    \"model\": \"elasticnet\", # \"logreg\", \"penalized_logreg\", \"rf\", \"gbm\", \"elasticnet\"\n",
    "    \"cutoff\": [\"quantile_0.15\", \"quantile_0.30\"],\n",
    "    \"exclude_features\": \"age\", # \"none\", \"nationality\", \"sex\", \"nationality-sex\", \"age\"\n",
    "    \"exclude_subgroups\": \"keep-all\", # \"keep-all\", \"drop-non-german\"\n",
    "    \"eval_fairness_grouping\": [\"majority-minority\", \"nationality-all\"]\n",
    "}\n",
    "\n",
    "output_dir=\"./output\"\n",
    "seed=0"
   ]
  },
  {
   "cell_type": "code",
   "execution_count": 4,
   "id": "e0210a54",
   "metadata": {
    "execution": {
     "iopub.execute_input": "2025-07-30T19:45:31.436782Z",
     "iopub.status.busy": "2025-07-30T19:45:31.435923Z",
     "iopub.status.idle": "2025-07-30T19:45:31.441089Z",
     "shell.execute_reply": "2025-07-30T19:45:31.440114Z"
    },
    "papermill": {
     "duration": 0.025992,
     "end_time": "2025-07-30T19:45:31.442728",
     "exception": false,
     "start_time": "2025-07-30T19:45:31.416736",
     "status": "completed"
    },
    "tags": [
     "injected-parameters"
    ]
   },
   "outputs": [],
   "source": [
    "# Parameters\n",
    "universe_id = \"2d16c60d03d38e12b7f8b53c6c0ec18a\"\n",
    "run_no = \"13\"\n",
    "universe = \"{\\\"cutoff\\\": [\\\"quantile_0.1\\\", \\\"quantile_0.25\\\"], \\\"eval_fairness_grouping\\\": [\\\"majority-minority\\\", \\\"nationality-all\\\"], \\\"exclude_features\\\": \\\"nationality\\\", \\\"exclude_subgroups\\\": \\\"drop-non-german\\\", \\\"model\\\": \\\"rf\\\", \\\"scale\\\": \\\"scale\\\", \\\"training_size\\\": \\\"25k\\\", \\\"training_year\\\": \\\"2014\\\"}\"\n",
    "output_dir = \"output\"\n",
    "seed = \"2023\"\n"
   ]
  },
  {
   "cell_type": "code",
   "execution_count": 5,
   "id": "1650acaf",
   "metadata": {
    "execution": {
     "iopub.execute_input": "2025-07-30T19:45:31.485673Z",
     "iopub.status.busy": "2025-07-30T19:45:31.484777Z",
     "iopub.status.idle": "2025-07-30T19:45:31.489677Z",
     "shell.execute_reply": "2025-07-30T19:45:31.488819Z"
    },
    "papermill": {
     "duration": 0.028762,
     "end_time": "2025-07-30T19:45:31.491394",
     "exception": false,
     "start_time": "2025-07-30T19:45:31.462632",
     "status": "completed"
    },
    "tags": []
   },
   "outputs": [],
   "source": [
    "import json\n",
    "# Parse universe into dict if it is passed as a string\n",
    "if isinstance(universe, str):\n",
    "    universe = json.loads(universe)"
   ]
  },
  {
   "cell_type": "code",
   "execution_count": 6,
   "id": "16620c48",
   "metadata": {
    "execution": {
     "iopub.execute_input": "2025-07-30T19:45:31.531529Z",
     "iopub.status.busy": "2025-07-30T19:45:31.530938Z",
     "iopub.status.idle": "2025-07-30T19:45:31.576486Z",
     "shell.execute_reply": "2025-07-30T19:45:31.575510Z"
    },
    "papermill": {
     "duration": 0.067103,
     "end_time": "2025-07-30T19:45:31.578315",
     "exception": false,
     "start_time": "2025-07-30T19:45:31.511212",
     "status": "completed"
    },
    "tags": []
   },
   "outputs": [],
   "source": [
    "# Auto-reload the custom package\n",
    "%load_ext autoreload\n",
    "%autoreload 1\n",
    "%aimport fairness_multiverse"
   ]
  },
  {
   "cell_type": "code",
   "execution_count": 7,
   "id": "01c5c9f3",
   "metadata": {
    "execution": {
     "iopub.execute_input": "2025-07-30T19:45:31.621748Z",
     "iopub.status.busy": "2025-07-30T19:45:31.621274Z",
     "iopub.status.idle": "2025-07-30T19:45:33.631657Z",
     "shell.execute_reply": "2025-07-30T19:45:33.630571Z"
    },
    "papermill": {
     "duration": 2.032433,
     "end_time": "2025-07-30T19:45:33.633170",
     "exception": false,
     "start_time": "2025-07-30T19:45:31.600737",
     "status": "completed"
    },
    "tags": []
   },
   "outputs": [],
   "source": [
    "from fairness_multiverse.universe import UniverseAnalysis\n",
    "\n",
    "universe_analysis = UniverseAnalysis(\n",
    "    run_no = run_no,\n",
    "    universe_id = universe_id,\n",
    "    universe = universe,\n",
    "    output_dir=output_dir,\n",
    ")"
   ]
  },
  {
   "cell_type": "code",
   "execution_count": 8,
   "id": "106241f5",
   "metadata": {
    "execution": {
     "iopub.execute_input": "2025-07-30T19:45:33.668506Z",
     "iopub.status.busy": "2025-07-30T19:45:33.667873Z",
     "iopub.status.idle": "2025-07-30T19:45:33.674729Z",
     "shell.execute_reply": "2025-07-30T19:45:33.673661Z"
    },
    "papermill": {
     "duration": 0.029526,
     "end_time": "2025-07-30T19:45:33.676785",
     "exception": false,
     "start_time": "2025-07-30T19:45:33.647259",
     "status": "completed"
    },
    "tags": []
   },
   "outputs": [
    {
     "name": "stdout",
     "output_type": "stream",
     "text": [
      "Using Seed: 2023\n"
     ]
    }
   ],
   "source": [
    "import numpy as np\n",
    "parsed_seed = int(seed)\n",
    "np.random.seed(parsed_seed)\n",
    "print(f\"Using Seed: {parsed_seed}\")"
   ]
  },
  {
   "cell_type": "markdown",
   "id": "e0ebdc57",
   "metadata": {
    "papermill": {
     "duration": 0.01046,
     "end_time": "2025-07-30T19:45:33.700896",
     "exception": false,
     "start_time": "2025-07-30T19:45:33.690436",
     "status": "completed"
    },
    "tags": []
   },
   "source": [
    "# Loading Data"
   ]
  },
  {
   "cell_type": "markdown",
   "id": "681925a3",
   "metadata": {
    "papermill": {
     "duration": 0.010068,
     "end_time": "2025-07-30T19:45:33.721734",
     "exception": false,
     "start_time": "2025-07-30T19:45:33.711666",
     "status": "completed"
    },
    "tags": []
   },
   "source": [
    "Load siab_train, siab_test, siab_calib and/or \n",
    "load siab_train_features, siab_train_labels"
   ]
  },
  {
   "cell_type": "code",
   "execution_count": 9,
   "id": "f0496b8a",
   "metadata": {
    "execution": {
     "iopub.execute_input": "2025-07-30T19:45:33.743569Z",
     "iopub.status.busy": "2025-07-30T19:45:33.743217Z",
     "iopub.status.idle": "2025-07-30T19:45:48.753266Z",
     "shell.execute_reply": "2025-07-30T19:45:48.752065Z"
    },
    "papermill": {
     "duration": 15.023099,
     "end_time": "2025-07-30T19:45:48.755250",
     "exception": false,
     "start_time": "2025-07-30T19:45:33.732151",
     "status": "completed"
    },
    "tags": []
   },
   "outputs": [
    {
     "name": "stdout",
     "output_type": "stream",
     "text": [
      "Loading SIAB data from cache: data/siab_cached.csv.gz\n"
     ]
    },
    {
     "name": "stdout",
     "output_type": "stream",
     "text": [
      "(643690, 164)\n"
     ]
    }
   ],
   "source": [
    "from pathlib import Path\n",
    "import pandas as pd\n",
    "\n",
    "# File paths\n",
    "raw_file = Path(\"data/raw/siab.csv\")\n",
    "cache_file = Path(\"data/siab_cached.csv.gz\")\n",
    "\n",
    "# Ensure cache directory exists\n",
    "cache_file.parent.mkdir(parents=True, exist_ok=True)\n",
    "\n",
    "# Load with simple caching\n",
    "if cache_file.exists():\n",
    "    print(f\"Loading SIAB data from cache: {cache_file}\")\n",
    "    siab = pd.read_csv(cache_file, compression='gzip')\n",
    "else:\n",
    "    print(f\"Cache not found. Reading raw SIAB data: {raw_file}\")\n",
    "    siab = pd.read_csv(raw_file)\n",
    "    siab.to_csv(cache_file, index=False, compression='gzip')\n",
    "    print(f\"Cached SIAB data to: {cache_file}\")\n",
    "\n",
    "# Now use `siab` DataFrame as needed\n",
    "print(siab.shape)"
   ]
  },
  {
   "cell_type": "code",
   "execution_count": 10,
   "id": "db0ca512-5f53-4dba-abdb-a2888bca41ba",
   "metadata": {
    "execution": {
     "iopub.execute_input": "2025-07-30T19:45:48.878882Z",
     "iopub.status.busy": "2025-07-30T19:45:48.878371Z",
     "iopub.status.idle": "2025-07-30T19:45:48.884885Z",
     "shell.execute_reply": "2025-07-30T19:45:48.883731Z"
    },
    "papermill": {
     "duration": 0.071799,
     "end_time": "2025-07-30T19:45:48.886450",
     "exception": false,
     "start_time": "2025-07-30T19:45:48.814651",
     "status": "completed"
    },
    "tags": []
   },
   "outputs": [],
   "source": [
    "#siab"
   ]
  },
  {
   "cell_type": "code",
   "execution_count": 11,
   "id": "a0edb063",
   "metadata": {
    "execution": {
     "iopub.execute_input": "2025-07-30T19:45:49.018781Z",
     "iopub.status.busy": "2025-07-30T19:45:49.018342Z",
     "iopub.status.idle": "2025-07-30T19:45:49.024144Z",
     "shell.execute_reply": "2025-07-30T19:45:49.022951Z"
    },
    "papermill": {
     "duration": 0.071828,
     "end_time": "2025-07-30T19:45:49.027756",
     "exception": false,
     "start_time": "2025-07-30T19:45:48.955928",
     "status": "completed"
    },
    "tags": []
   },
   "outputs": [],
   "source": [
    "#import pandas as pd\n",
    "#\n",
    "#X_train = pd.read_csv(\"./data/X_train.csv\")\n",
    "#y_train = pd.read_csv(\"./data/y_train.csv\")"
   ]
  },
  {
   "cell_type": "code",
   "execution_count": 12,
   "id": "63d08085",
   "metadata": {
    "execution": {
     "iopub.execute_input": "2025-07-30T19:45:49.125198Z",
     "iopub.status.busy": "2025-07-30T19:45:49.124784Z",
     "iopub.status.idle": "2025-07-30T19:45:49.131296Z",
     "shell.execute_reply": "2025-07-30T19:45:49.130374Z"
    },
    "papermill": {
     "duration": 0.069518,
     "end_time": "2025-07-30T19:45:49.133590",
     "exception": false,
     "start_time": "2025-07-30T19:45:49.064072",
     "status": "completed"
    },
    "tags": []
   },
   "outputs": [],
   "source": [
    "#X_test = pd.read_csv(\"./data/X_test.csv\")\n",
    "#y_true = pd.read_csv(\"./data/y_test.csv\")"
   ]
  },
  {
   "cell_type": "code",
   "execution_count": 13,
   "id": "98a8d0fa-1d3d-4ed8-bb2c-281470e24add",
   "metadata": {
    "execution": {
     "iopub.execute_input": "2025-07-30T19:45:49.212343Z",
     "iopub.status.busy": "2025-07-30T19:45:49.211854Z",
     "iopub.status.idle": "2025-07-30T19:45:49.217169Z",
     "shell.execute_reply": "2025-07-30T19:45:49.216100Z"
    },
    "papermill": {
     "duration": 0.060922,
     "end_time": "2025-07-30T19:45:49.220303",
     "exception": false,
     "start_time": "2025-07-30T19:45:49.159381",
     "status": "completed"
    },
    "tags": []
   },
   "outputs": [],
   "source": [
    "# Calibration data for conformal\n",
    "#X_calib = pd.read_csv(\"./data/X_calib.csv\")\n",
    "#y_calib = pd.read_csv(\"./data/y_calib.csv\")"
   ]
  },
  {
   "cell_type": "markdown",
   "id": "997051c5-15bd-4b69-9786-c3001a3ce484",
   "metadata": {
    "papermill": {
     "duration": 0.021773,
     "end_time": "2025-07-30T19:45:49.283514",
     "exception": false,
     "start_time": "2025-07-30T19:45:49.261741",
     "status": "completed"
    },
    "tags": []
   },
   "source": [
    "# Splitting Data and Setting Training Data Size"
   ]
  },
  {
   "cell_type": "code",
   "execution_count": 14,
   "id": "e993b61f-042d-41a6-8c81-f55681f86335",
   "metadata": {
    "execution": {
     "iopub.execute_input": "2025-07-30T19:45:49.329088Z",
     "iopub.status.busy": "2025-07-30T19:45:49.328655Z",
     "iopub.status.idle": "2025-07-30T19:45:49.342828Z",
     "shell.execute_reply": "2025-07-30T19:45:49.341898Z"
    },
    "papermill": {
     "duration": 0.041443,
     "end_time": "2025-07-30T19:45:49.346397",
     "exception": false,
     "start_time": "2025-07-30T19:45:49.304954",
     "status": "completed"
    },
    "tags": []
   },
   "outputs": [],
   "source": [
    "def sample_by_year_size(df,\n",
    "                        training_year: str,\n",
    "                        training_size: str,\n",
    "                        random_state: int = 42):\n",
    "    # --- parse training_year into a list of int years ---\n",
    "    if \"_\" in training_year:\n",
    "        start_str, end_str = training_year.split(\"_\", 1)\n",
    "        start = int(start_str)\n",
    "        end   = int(end_str) if len(end_str) == 4 else (int(end_str) + (start // 100)*100)\n",
    "        years = list(range(start, end + 1))\n",
    "    else:\n",
    "        years = [int(training_year)]\n",
    "\n",
    "    df = df[df[\"year\"].isin(years)].reset_index(drop=True)\n",
    "\n",
    "    # --- map training_size to total number of samples ---\n",
    "    total_map = {\"25k\": 25_000, \"5k\": 5_000, \"1k\": 1_000}\n",
    "    if training_size not in total_map:\n",
    "        return df  # e.g. \"all\"\n",
    "\n",
    "    total_samples = total_map[training_size]\n",
    "    n_years       = len(years)\n",
    "    base          = total_samples // n_years\n",
    "    remainder     = total_samples % n_years\n",
    "\n",
    "    # --- build a dict: year -> how many to sample ---\n",
    "    # give +1 to the first `remainder` years in ascending order\n",
    "    quotas = {\n",
    "        year: base + (1 if idx < remainder else 0)\n",
    "        for idx, year in enumerate(sorted(years))\n",
    "    }\n",
    "\n",
    "    # --- sample per‐year according to the quota dict ---\n",
    "    sampled = (\n",
    "        df\n",
    "        .groupby(\"year\", group_keys=False)\n",
    "        .apply(lambda grp: grp.sample(\n",
    "            n=min(len(grp), quotas[grp.name]),\n",
    "            random_state=random_state))\n",
    "        .reset_index(drop=True)\n",
    "    )\n",
    "\n",
    "    return sampled"
   ]
  },
  {
   "cell_type": "code",
   "execution_count": 15,
   "id": "c0ccd338-0e02-41f3-a09d-f56f9266e3fb",
   "metadata": {
    "execution": {
     "iopub.execute_input": "2025-07-30T19:45:49.400363Z",
     "iopub.status.busy": "2025-07-30T19:45:49.399882Z",
     "iopub.status.idle": "2025-07-30T19:45:49.414043Z",
     "shell.execute_reply": "2025-07-30T19:45:49.411476Z"
    },
    "papermill": {
     "duration": 0.046938,
     "end_time": "2025-07-30T19:45:49.416255",
     "exception": false,
     "start_time": "2025-07-30T19:45:49.369317",
     "status": "completed"
    },
    "tags": []
   },
   "outputs": [
    {
     "data": {
      "text/plain": [
       "'25k'"
      ]
     },
     "execution_count": 15,
     "metadata": {},
     "output_type": "execute_result"
    }
   ],
   "source": [
    "universe[\"training_size\"]"
   ]
  },
  {
   "cell_type": "code",
   "execution_count": 16,
   "id": "ca707fd7-8047-4acd-bfa5-66248fbbf8e6",
   "metadata": {
    "execution": {
     "iopub.execute_input": "2025-07-30T19:45:49.464140Z",
     "iopub.status.busy": "2025-07-30T19:45:49.463687Z",
     "iopub.status.idle": "2025-07-30T19:45:49.471495Z",
     "shell.execute_reply": "2025-07-30T19:45:49.470471Z"
    },
    "papermill": {
     "duration": 0.035565,
     "end_time": "2025-07-30T19:45:49.476133",
     "exception": false,
     "start_time": "2025-07-30T19:45:49.440568",
     "status": "completed"
    },
    "tags": []
   },
   "outputs": [
    {
     "data": {
      "text/plain": [
       "'2014'"
      ]
     },
     "execution_count": 16,
     "metadata": {},
     "output_type": "execute_result"
    }
   ],
   "source": [
    "universe[\"training_year\"]"
   ]
  },
  {
   "cell_type": "code",
   "execution_count": 17,
   "id": "aea9c6ef-6f46-42c8-85eb-5a62025c1508",
   "metadata": {
    "execution": {
     "iopub.execute_input": "2025-07-30T19:45:49.528273Z",
     "iopub.status.busy": "2025-07-30T19:45:49.527829Z",
     "iopub.status.idle": "2025-07-30T19:45:49.957080Z",
     "shell.execute_reply": "2025-07-30T19:45:49.956012Z"
    },
    "papermill": {
     "duration": 0.455885,
     "end_time": "2025-07-30T19:45:49.959236",
     "exception": false,
     "start_time": "2025-07-30T19:45:49.503351",
     "status": "completed"
    },
    "tags": []
   },
   "outputs": [],
   "source": [
    "siab_train = sample_by_year_size(siab,\n",
    "                               training_year=universe[\"training_year\"],\n",
    "                               training_size=universe[\"training_size\"])"
   ]
  },
  {
   "cell_type": "code",
   "execution_count": 18,
   "id": "8d3afb32-789d-442c-8d5d-9f5aa8dd2eed",
   "metadata": {
    "execution": {
     "iopub.execute_input": "2025-07-30T19:45:50.058596Z",
     "iopub.status.busy": "2025-07-30T19:45:50.058092Z",
     "iopub.status.idle": "2025-07-30T19:45:50.069064Z",
     "shell.execute_reply": "2025-07-30T19:45:50.067863Z"
    },
    "papermill": {
     "duration": 0.068463,
     "end_time": "2025-07-30T19:45:50.070827",
     "exception": false,
     "start_time": "2025-07-30T19:45:50.002364",
     "status": "completed"
    },
    "tags": []
   },
   "outputs": [
    {
     "data": {
      "text/plain": [
       "(25000, 164)"
      ]
     },
     "execution_count": 18,
     "metadata": {},
     "output_type": "execute_result"
    }
   ],
   "source": [
    "siab_train.shape"
   ]
  },
  {
   "cell_type": "code",
   "execution_count": 19,
   "id": "d582db68-1a4c-47fb-84fc-08518dc1975a",
   "metadata": {
    "execution": {
     "iopub.execute_input": "2025-07-30T19:45:50.169808Z",
     "iopub.status.busy": "2025-07-30T19:45:50.169333Z",
     "iopub.status.idle": "2025-07-30T19:45:50.191055Z",
     "shell.execute_reply": "2025-07-30T19:45:50.186014Z"
    },
    "papermill": {
     "duration": 0.053839,
     "end_time": "2025-07-30T19:45:50.194018",
     "exception": false,
     "start_time": "2025-07-30T19:45:50.140179",
     "status": "completed"
    },
    "tags": []
   },
   "outputs": [
    {
     "data": {
      "text/plain": [
       "year\n",
       "2014    25000\n",
       "dtype: int64"
      ]
     },
     "metadata": {},
     "output_type": "display_data"
    }
   ],
   "source": [
    "display(siab_train.groupby(\"year\").size())"
   ]
  },
  {
   "cell_type": "code",
   "execution_count": 20,
   "id": "a561edb4-d032-42cb-8256-22eac1111c64",
   "metadata": {
    "execution": {
     "iopub.execute_input": "2025-07-30T19:45:50.311188Z",
     "iopub.status.busy": "2025-07-30T19:45:50.310747Z",
     "iopub.status.idle": "2025-07-30T19:45:50.896830Z",
     "shell.execute_reply": "2025-07-30T19:45:50.886877Z"
    },
    "papermill": {
     "duration": 0.652555,
     "end_time": "2025-07-30T19:45:50.899257",
     "exception": false,
     "start_time": "2025-07-30T19:45:50.246702",
     "status": "completed"
    },
    "tags": []
   },
   "outputs": [],
   "source": [
    "#siab_train = siab_s[siab_s.year < 2015]\n",
    "siab_calib = siab[siab.year == 2015]\n",
    "siab_test = siab[siab.year == 2016]"
   ]
  },
  {
   "cell_type": "code",
   "execution_count": 21,
   "id": "472de16f-c3db-4916-846b-1f0de9cf1746",
   "metadata": {
    "execution": {
     "iopub.execute_input": "2025-07-30T19:45:51.039507Z",
     "iopub.status.busy": "2025-07-30T19:45:51.038968Z",
     "iopub.status.idle": "2025-07-30T19:45:51.069398Z",
     "shell.execute_reply": "2025-07-30T19:45:51.068409Z"
    },
    "papermill": {
     "duration": 0.101257,
     "end_time": "2025-07-30T19:45:51.071420",
     "exception": false,
     "start_time": "2025-07-30T19:45:50.970163",
     "status": "completed"
    },
    "tags": []
   },
   "outputs": [],
   "source": [
    "X_train = siab_train.iloc[:,4:164]\n",
    "y_train = siab_train.iloc[:, [3]]"
   ]
  },
  {
   "cell_type": "code",
   "execution_count": 22,
   "id": "828c96af-f43a-4ed6-ba47-8ac73a47d56c",
   "metadata": {
    "execution": {
     "iopub.execute_input": "2025-07-30T19:45:51.227042Z",
     "iopub.status.busy": "2025-07-30T19:45:51.226596Z",
     "iopub.status.idle": "2025-07-30T19:45:51.371703Z",
     "shell.execute_reply": "2025-07-30T19:45:51.365810Z"
    },
    "papermill": {
     "duration": 0.228404,
     "end_time": "2025-07-30T19:45:51.374203",
     "exception": false,
     "start_time": "2025-07-30T19:45:51.145799",
     "status": "completed"
    },
    "tags": []
   },
   "outputs": [],
   "source": [
    "X_calib = siab_calib.iloc[:,4:164]\n",
    "y_calib = siab_calib.iloc[:, [3]]"
   ]
  },
  {
   "cell_type": "code",
   "execution_count": 23,
   "id": "c34be9c3-6bd6-476e-acd3-845840e303be",
   "metadata": {
    "execution": {
     "iopub.execute_input": "2025-07-30T19:45:51.506367Z",
     "iopub.status.busy": "2025-07-30T19:45:51.505317Z",
     "iopub.status.idle": "2025-07-30T19:45:51.574899Z",
     "shell.execute_reply": "2025-07-30T19:45:51.573544Z"
    },
    "papermill": {
     "duration": 0.134178,
     "end_time": "2025-07-30T19:45:51.577571",
     "exception": false,
     "start_time": "2025-07-30T19:45:51.443393",
     "status": "completed"
    },
    "tags": []
   },
   "outputs": [],
   "source": [
    "X_test = siab_test.iloc[:,4:164]\n",
    "y_true = siab_test.iloc[:, [3]]"
   ]
  },
  {
   "cell_type": "markdown",
   "id": "9901737e-04df-44f0-9100-f5ad144ed040",
   "metadata": {
    "papermill": {
     "duration": 0.025841,
     "end_time": "2025-07-30T19:45:51.644419",
     "exception": false,
     "start_time": "2025-07-30T19:45:51.618578",
     "status": "completed"
    },
    "tags": []
   },
   "source": [
    "# Splitting Data and Setting Training Data Size OLD VERSION"
   ]
  },
  {
   "cell_type": "code",
   "execution_count": 24,
   "id": "acbc8f7d-8fc8-4e86-8c59-5dcb0f58384b",
   "metadata": {
    "execution": {
     "iopub.execute_input": "2025-07-30T19:45:51.689795Z",
     "iopub.status.busy": "2025-07-30T19:45:51.689282Z",
     "iopub.status.idle": "2025-07-30T19:45:51.695247Z",
     "shell.execute_reply": "2025-07-30T19:45:51.694259Z"
    },
    "papermill": {
     "duration": 0.028437,
     "end_time": "2025-07-30T19:45:51.696990",
     "exception": false,
     "start_time": "2025-07-30T19:45:51.668553",
     "status": "completed"
    },
    "tags": []
   },
   "outputs": [],
   "source": [
    "#def sample_by_year(df, training_size, random_state=42):\n",
    "#    if training_size == \"2014\":\n",
    "#        return df[df[\"year\"] == 2014].reset_index(drop=True)\n",
    "#    \n",
    "#    size_map = {\n",
    "#        \"25k\": 5000,\n",
    "#        \"5k\": 1000,\n",
    "#        \"1k\": 200\n",
    "#    }\n",
    "#\n",
    "#    if training_size not in size_map:\n",
    "#        return df.reset_index(drop=True)  # use all data\n",
    "#\n",
    "#    n_per_year = size_map[training_size]\n",
    "#    grouped = df.groupby(\"year\")\n",
    "#    sampled = grouped.apply(lambda x: x.sample(n=min(n_per_year, len(x)), random_state=random_state))\n",
    "#    return sampled.reset_index(drop=True)"
   ]
  },
  {
   "cell_type": "code",
   "execution_count": 25,
   "id": "6d931f52-beaf-43ff-9e78-9d44a448d54e",
   "metadata": {
    "execution": {
     "iopub.execute_input": "2025-07-30T19:45:51.760135Z",
     "iopub.status.busy": "2025-07-30T19:45:51.758803Z",
     "iopub.status.idle": "2025-07-30T19:45:51.765591Z",
     "shell.execute_reply": "2025-07-30T19:45:51.764307Z"
    },
    "papermill": {
     "duration": 0.045894,
     "end_time": "2025-07-30T19:45:51.768192",
     "exception": false,
     "start_time": "2025-07-30T19:45:51.722298",
     "status": "completed"
    },
    "tags": []
   },
   "outputs": [],
   "source": [
    "#siab_s = sample_by_year(siab, universe[\"training_size\"])"
   ]
  },
  {
   "cell_type": "code",
   "execution_count": 26,
   "id": "5db0a40e-a4e2-4920-be85-b12ae061d70d",
   "metadata": {
    "execution": {
     "iopub.execute_input": "2025-07-30T19:45:51.838740Z",
     "iopub.status.busy": "2025-07-30T19:45:51.837732Z",
     "iopub.status.idle": "2025-07-30T19:45:51.846853Z",
     "shell.execute_reply": "2025-07-30T19:45:51.843337Z"
    },
    "papermill": {
     "duration": 0.046499,
     "end_time": "2025-07-30T19:45:51.849174",
     "exception": false,
     "start_time": "2025-07-30T19:45:51.802675",
     "status": "completed"
    },
    "tags": []
   },
   "outputs": [],
   "source": [
    "#display(siab_s.groupby(\"year\").size())"
   ]
  },
  {
   "cell_type": "code",
   "execution_count": 27,
   "id": "e6c733c5",
   "metadata": {
    "execution": {
     "iopub.execute_input": "2025-07-30T19:45:51.907161Z",
     "iopub.status.busy": "2025-07-30T19:45:51.906710Z",
     "iopub.status.idle": "2025-07-30T19:45:52.019582Z",
     "shell.execute_reply": "2025-07-30T19:45:52.016713Z"
    },
    "papermill": {
     "duration": 0.138616,
     "end_time": "2025-07-30T19:45:52.021457",
     "exception": false,
     "start_time": "2025-07-30T19:45:51.882841",
     "status": "completed"
    },
    "tags": []
   },
   "outputs": [],
   "source": [
    "# Auxiliary data needed downstream in the pipeline\n",
    "\n",
    "org_train = X_train.copy()\n",
    "org_test = X_test.copy()\n",
    "org_calib = X_calib.copy()"
   ]
  },
  {
   "cell_type": "code",
   "execution_count": 28,
   "id": "1466abac-c6da-4492-a62f-4240ae3783af",
   "metadata": {
    "execution": {
     "iopub.execute_input": "2025-07-30T19:45:52.069818Z",
     "iopub.status.busy": "2025-07-30T19:45:52.069419Z",
     "iopub.status.idle": "2025-07-30T19:45:52.075557Z",
     "shell.execute_reply": "2025-07-30T19:45:52.074553Z"
    },
    "papermill": {
     "duration": 0.034504,
     "end_time": "2025-07-30T19:45:52.080136",
     "exception": false,
     "start_time": "2025-07-30T19:45:52.045632",
     "status": "completed"
    },
    "tags": []
   },
   "outputs": [],
   "source": [
    "# put in other script?\n",
    "# Group sizes\n",
    "\n",
    "#def calculate_percentages(df, df_name):\n",
    "#    total_entries = len(df)\n",
    "#\n",
    "#    female_pct = (df['frau1'] == 1).mean() * 100\n",
    "#    non_german_pct = ((df['maxdeutsch1'] == 0) & (df['maxdeutsch.Missing.'] == 0)).mean() * 100\n",
    "#    non_german_male_pct = ((df['frau1'] == 0) & (df['maxdeutsch1'] == 0) & (df['maxdeutsch.Missing.'] == 0)).mean() * 100\n",
    "#    non_german_female_pct = ((df['frau1'] == 1) & (df['maxdeutsch1'] == 0) & (df['maxdeutsch.Missing.'] == 0)).mean() * 100\n",
    "#\n",
    "#    print(f\"--- {df_name} ---\")\n",
    "#    print(f\"Female: {female_pct:.2f}%\")\n",
    "#    print(f\"Non-German: {non_german_pct:.2f}%\")\n",
    "#    print(f\"Non-German Male: {non_german_male_pct:.2f}%\")\n",
    "#    print(f\"Non-German Female: {non_german_female_pct:.2f}%\\n\")\n",
    "#\n",
    "## Calculate for each DataFrame\n",
    "#calculate_percentages(siab_calib, \"siab_calib\")\n",
    "#calculate_percentages(siab_test, \"siab_test\")\n",
    "#calculate_percentages(siab_train, \"siab_train\")"
   ]
  },
  {
   "cell_type": "markdown",
   "id": "0a4a1b33",
   "metadata": {
    "papermill": {
     "duration": 0.025806,
     "end_time": "2025-07-30T19:45:52.139928",
     "exception": false,
     "start_time": "2025-07-30T19:45:52.114122",
     "status": "completed"
    },
    "tags": []
   },
   "source": [
    "# Preprocessing Data"
   ]
  },
  {
   "cell_type": "code",
   "execution_count": 29,
   "id": "ca879031",
   "metadata": {
    "execution": {
     "iopub.execute_input": "2025-07-30T19:45:52.225069Z",
     "iopub.status.busy": "2025-07-30T19:45:52.224647Z",
     "iopub.status.idle": "2025-07-30T19:45:52.231329Z",
     "shell.execute_reply": "2025-07-30T19:45:52.230188Z"
    },
    "papermill": {
     "duration": 0.065332,
     "end_time": "2025-07-30T19:45:52.233030",
     "exception": false,
     "start_time": "2025-07-30T19:45:52.167698",
     "status": "completed"
    },
    "tags": []
   },
   "outputs": [],
   "source": [
    "# EXCLUDE PROTECTED FEATURES\n",
    "# ----------------------\n",
    "# \"exclude_features\": \"none\", # \"nationality\", \"sex\", \"nationality-sex\"\n",
    "\n",
    "excluded_features = universe[\"exclude_features\"].split(\"-\") # split, e.g.: \"nationality-sex\" -> [\"nationality\", \"sex\"]\n",
    "excluded_features_dictionary = {\n",
    "    \"nationality\": [\"maxdeutsch1\", \"maxdeutsch.Missing.\"],\n",
    "    \"sex\": [\"frau1\"],\n",
    "    \"age\": [\"age\"],\n",
    "}\n"
   ]
  },
  {
   "cell_type": "code",
   "execution_count": 30,
   "id": "b745ac60",
   "metadata": {
    "execution": {
     "iopub.execute_input": "2025-07-30T19:45:52.321545Z",
     "iopub.status.busy": "2025-07-30T19:45:52.320973Z",
     "iopub.status.idle": "2025-07-30T19:45:52.328781Z",
     "shell.execute_reply": "2025-07-30T19:45:52.327617Z"
    },
    "papermill": {
     "duration": 0.04596,
     "end_time": "2025-07-30T19:45:52.334212",
     "exception": false,
     "start_time": "2025-07-30T19:45:52.288252",
     "status": "completed"
    },
    "tags": []
   },
   "outputs": [],
   "source": [
    "# Code nice names to column names\n",
    "\n",
    "excluded_features_columns = [\n",
    "    excluded_features_dictionary[f] for f in excluded_features if len(f) > 0 and f != \"none\"\n",
    "]"
   ]
  },
  {
   "cell_type": "code",
   "execution_count": 31,
   "id": "f84f73a2",
   "metadata": {
    "execution": {
     "iopub.execute_input": "2025-07-30T19:45:52.422446Z",
     "iopub.status.busy": "2025-07-30T19:45:52.421937Z",
     "iopub.status.idle": "2025-07-30T19:45:52.429495Z",
     "shell.execute_reply": "2025-07-30T19:45:52.428522Z"
    },
    "papermill": {
     "duration": 0.04314,
     "end_time": "2025-07-30T19:45:52.431427",
     "exception": false,
     "start_time": "2025-07-30T19:45:52.388287",
     "status": "completed"
    },
    "tags": []
   },
   "outputs": [],
   "source": [
    "from utils import flatten_once\n",
    "\n",
    "excluded_features_columns = flatten_once(excluded_features_columns)"
   ]
  },
  {
   "cell_type": "code",
   "execution_count": 32,
   "id": "884dea22",
   "metadata": {
    "execution": {
     "iopub.execute_input": "2025-07-30T19:45:52.537686Z",
     "iopub.status.busy": "2025-07-30T19:45:52.537238Z",
     "iopub.status.idle": "2025-07-30T19:45:52.560098Z",
     "shell.execute_reply": "2025-07-30T19:45:52.559223Z"
    },
    "papermill": {
     "duration": 0.065436,
     "end_time": "2025-07-30T19:45:52.561715",
     "exception": false,
     "start_time": "2025-07-30T19:45:52.496279",
     "status": "completed"
    },
    "tags": []
   },
   "outputs": [
    {
     "name": "stdout",
     "output_type": "stream",
     "text": [
      "Dropping features: ['maxdeutsch1', 'maxdeutsch.Missing.']\n"
     ]
    }
   ],
   "source": [
    "if len(excluded_features_columns) > 0:\n",
    "    print(f\"Dropping features: {excluded_features_columns}\")\n",
    "    X_train.drop(excluded_features_columns, axis=1, inplace=True)"
   ]
  },
  {
   "cell_type": "code",
   "execution_count": 33,
   "id": "95ab8b16",
   "metadata": {
    "execution": {
     "iopub.execute_input": "2025-07-30T19:45:52.642230Z",
     "iopub.status.busy": "2025-07-30T19:45:52.641792Z",
     "iopub.status.idle": "2025-07-30T19:45:52.731399Z",
     "shell.execute_reply": "2025-07-30T19:45:52.730446Z"
    },
    "papermill": {
     "duration": 0.128539,
     "end_time": "2025-07-30T19:45:52.733290",
     "exception": false,
     "start_time": "2025-07-30T19:45:52.604751",
     "status": "completed"
    },
    "tags": []
   },
   "outputs": [
    {
     "name": "stdout",
     "output_type": "stream",
     "text": [
      "Dropping features: ['maxdeutsch1', 'maxdeutsch.Missing.']\n"
     ]
    }
   ],
   "source": [
    "if len(excluded_features_columns) > 0:\n",
    "    print(f\"Dropping features: {excluded_features_columns}\")\n",
    "    X_test.drop(excluded_features_columns, axis=1, inplace=True)"
   ]
  },
  {
   "cell_type": "code",
   "execution_count": 34,
   "id": "1853aaf5-fb9f-46cb-a2b5-8ea4ae2237e4",
   "metadata": {
    "execution": {
     "iopub.execute_input": "2025-07-30T19:45:52.806611Z",
     "iopub.status.busy": "2025-07-30T19:45:52.806207Z",
     "iopub.status.idle": "2025-07-30T19:45:52.894010Z",
     "shell.execute_reply": "2025-07-30T19:45:52.892911Z"
    },
    "papermill": {
     "duration": 0.132959,
     "end_time": "2025-07-30T19:45:52.895971",
     "exception": false,
     "start_time": "2025-07-30T19:45:52.763012",
     "status": "completed"
    },
    "tags": []
   },
   "outputs": [
    {
     "name": "stdout",
     "output_type": "stream",
     "text": [
      "Dropping features: ['maxdeutsch1', 'maxdeutsch.Missing.']\n"
     ]
    }
   ],
   "source": [
    "if len(excluded_features_columns) > 0:\n",
    "    print(f\"Dropping features: {excluded_features_columns}\")\n",
    "    X_calib.drop(excluded_features_columns, axis=1, inplace=True)"
   ]
  },
  {
   "cell_type": "code",
   "execution_count": 35,
   "id": "6727d079-03e5-481e-9d38-292a90b7a0a8",
   "metadata": {
    "execution": {
     "iopub.execute_input": "2025-07-30T19:45:52.965181Z",
     "iopub.status.busy": "2025-07-30T19:45:52.964244Z",
     "iopub.status.idle": "2025-07-30T19:45:52.969802Z",
     "shell.execute_reply": "2025-07-30T19:45:52.968355Z"
    },
    "papermill": {
     "duration": 0.046287,
     "end_time": "2025-07-30T19:45:52.971503",
     "exception": false,
     "start_time": "2025-07-30T19:45:52.925216",
     "status": "completed"
    },
    "tags": []
   },
   "outputs": [],
   "source": [
    "# SPLIT & STRATIFY DATA\n",
    "# ----------------------"
   ]
  },
  {
   "cell_type": "code",
   "execution_count": 36,
   "id": "76c4dc6d",
   "metadata": {
    "execution": {
     "iopub.execute_input": "2025-07-30T19:45:53.027971Z",
     "iopub.status.busy": "2025-07-30T19:45:53.027533Z",
     "iopub.status.idle": "2025-07-30T19:45:53.032968Z",
     "shell.execute_reply": "2025-07-30T19:45:53.032169Z"
    },
    "papermill": {
     "duration": 0.027275,
     "end_time": "2025-07-30T19:45:53.034411",
     "exception": false,
     "start_time": "2025-07-30T19:45:53.007136",
     "status": "completed"
    },
    "tags": []
   },
   "outputs": [],
   "source": [
    "# EXCLUDE CERTAIN SUBGROUPS\n",
    "# ----------------------\n",
    "\n",
    "mode = universe.get(\"exclude_subgroups\", \"keep-all\") \n",
    "# Fetches the exclude_subgroups setting from the universe dict.\n",
    "# Defaults to \"keep-all\" if the key is missing."
   ]
  },
  {
   "cell_type": "code",
   "execution_count": 37,
   "id": "21994072",
   "metadata": {
    "execution": {
     "iopub.execute_input": "2025-07-30T19:45:53.066559Z",
     "iopub.status.busy": "2025-07-30T19:45:53.065927Z",
     "iopub.status.idle": "2025-07-30T19:45:53.075207Z",
     "shell.execute_reply": "2025-07-30T19:45:53.073682Z"
    },
    "papermill": {
     "duration": 0.028673,
     "end_time": "2025-07-30T19:45:53.077502",
     "exception": false,
     "start_time": "2025-07-30T19:45:53.048829",
     "status": "completed"
    },
    "tags": []
   },
   "outputs": [],
   "source": [
    "if mode == \"keep-all\":\n",
    "    keep_mask = pd.Series(True, index=org_train.index)\n",
    "\n",
    "# org_train contains the original feature columns from features_org (in Simson)\n",
    "# features_org contains unprocessed features, for me X_train at beginning ???\n",
    "# For keep-all, creates a boolean Series (keep_mask) of all True, so no rows are removed.\n",
    "\n",
    "elif mode == \"drop-non-german\":\n",
    "    keep_mask = org_train[\"maxdeutsch1\"] == 1 # ??? what about missing values?\n",
    "\n",
    "else:\n",
    "    raise ValueError(f\"Unsupported mode for exclude_subgroups: {mode}\")\n"
   ]
  },
  {
   "cell_type": "code",
   "execution_count": 38,
   "id": "71651440",
   "metadata": {
    "execution": {
     "iopub.execute_input": "2025-07-30T19:45:53.140699Z",
     "iopub.status.busy": "2025-07-30T19:45:53.140184Z",
     "iopub.status.idle": "2025-07-30T19:45:53.149278Z",
     "shell.execute_reply": "2025-07-30T19:45:53.147978Z"
    },
    "papermill": {
     "duration": 0.040775,
     "end_time": "2025-07-30T19:45:53.151348",
     "exception": false,
     "start_time": "2025-07-30T19:45:53.110573",
     "status": "completed"
    },
    "tags": []
   },
   "outputs": [
    {
     "name": "stdout",
     "output_type": "stream",
     "text": [
      "Dropping 3688 rows (14.75%) where mode='drop-non-german'\n"
     ]
    }
   ],
   "source": [
    "n_drop = (~keep_mask).sum() # Calculates how many rows are set to be dropped\n",
    "if n_drop > 0:\n",
    "    pct = n_drop / len(keep_mask) * 100\n",
    "    print(f\"Dropping {n_drop} rows ({pct:.2f}%) where mode='{mode}'\")"
   ]
  },
  {
   "cell_type": "code",
   "execution_count": 39,
   "id": "5fb8eee5",
   "metadata": {
    "execution": {
     "iopub.execute_input": "2025-07-30T19:45:53.208959Z",
     "iopub.status.busy": "2025-07-30T19:45:53.208516Z",
     "iopub.status.idle": "2025-07-30T19:45:53.226360Z",
     "shell.execute_reply": "2025-07-30T19:45:53.225130Z"
    },
    "papermill": {
     "duration": 0.049589,
     "end_time": "2025-07-30T19:45:53.229017",
     "exception": false,
     "start_time": "2025-07-30T19:45:53.179428",
     "status": "completed"
    },
    "tags": []
   },
   "outputs": [],
   "source": [
    "X_train = X_train[keep_mask]"
   ]
  },
  {
   "cell_type": "code",
   "execution_count": 40,
   "id": "b202bb3a",
   "metadata": {
    "execution": {
     "iopub.execute_input": "2025-07-30T19:45:53.285907Z",
     "iopub.status.busy": "2025-07-30T19:45:53.285470Z",
     "iopub.status.idle": "2025-07-30T19:45:53.292886Z",
     "shell.execute_reply": "2025-07-30T19:45:53.291657Z"
    },
    "papermill": {
     "duration": 0.04,
     "end_time": "2025-07-30T19:45:53.296730",
     "exception": false,
     "start_time": "2025-07-30T19:45:53.256730",
     "status": "completed"
    },
    "tags": []
   },
   "outputs": [],
   "source": [
    "y_train = y_train[keep_mask]"
   ]
  },
  {
   "cell_type": "markdown",
   "id": "493e2ac3",
   "metadata": {
    "papermill": {
     "duration": 0.027316,
     "end_time": "2025-07-30T19:45:53.352286",
     "exception": false,
     "start_time": "2025-07-30T19:45:53.324970",
     "status": "completed"
    },
    "tags": []
   },
   "source": [
    "# Model Training"
   ]
  },
  {
   "cell_type": "code",
   "execution_count": 41,
   "id": "679e1268",
   "metadata": {
    "execution": {
     "iopub.execute_input": "2025-07-30T19:45:53.409658Z",
     "iopub.status.busy": "2025-07-30T19:45:53.409201Z",
     "iopub.status.idle": "2025-07-30T19:45:53.567083Z",
     "shell.execute_reply": "2025-07-30T19:45:53.565939Z"
    },
    "papermill": {
     "duration": 0.189519,
     "end_time": "2025-07-30T19:45:53.569392",
     "exception": false,
     "start_time": "2025-07-30T19:45:53.379873",
     "status": "completed"
    },
    "tags": []
   },
   "outputs": [],
   "source": [
    "from sklearn.linear_model import LogisticRegression\n",
    "from sklearn.ensemble import GradientBoostingClassifier, RandomForestClassifier\n",
    "\n",
    "if (universe[\"model\"] == \"logreg\"):\n",
    "    model = LogisticRegression() #penalty=\"none\") #, solver=\"newton-cg\", max_iter=1) # include random_state=19 ?\n",
    "elif (universe[\"model\"] == \"penalized_logreg\"):\n",
    "    model = LogisticRegression(penalty=\"l2\", C=1.0) #, solver=\"newton-cg\", max_iter=1)\n",
    "elif (universe[\"model\"] == \"rf\"):\n",
    "    model = RandomForestClassifier(n_estimators=100, n_jobs=-1)\n",
    "elif (universe[\"model\"] == \"gbm\"):\n",
    "    model = GradientBoostingClassifier()\n",
    "elif (universe[\"model\"] == \"elasticnet\"):\n",
    "    model = LogisticRegression(penalty = 'elasticnet', solver = 'saga', l1_ratio = 0.5, max_iter=5000) # which solver to use?\n",
    "else:\n",
    "    raise \"Unsupported universe.model\""
   ]
  },
  {
   "cell_type": "code",
   "execution_count": 42,
   "id": "0cc8f744",
   "metadata": {
    "execution": {
     "iopub.execute_input": "2025-07-30T19:45:53.649627Z",
     "iopub.status.busy": "2025-07-30T19:45:53.648648Z",
     "iopub.status.idle": "2025-07-30T19:45:53.655054Z",
     "shell.execute_reply": "2025-07-30T19:45:53.654285Z"
    },
    "papermill": {
     "duration": 0.03662,
     "end_time": "2025-07-30T19:45:53.657247",
     "exception": false,
     "start_time": "2025-07-30T19:45:53.620627",
     "status": "completed"
    },
    "tags": []
   },
   "outputs": [],
   "source": [
    "import numpy as np\n",
    "from sklearn.pipeline import Pipeline\n",
    "from sklearn.preprocessing import StandardScaler\n",
    "\n",
    "model = Pipeline([\n",
    "    #(\"continuous_processor\", continuous_processor),\n",
    "    #(\"categorical_preprocessor\", categorical_preprocessor),\n",
    "    (\"scale\", StandardScaler() if universe[\"scale\"] == \"scale\" else None), \n",
    "    (\"model\", model),\n",
    "])"
   ]
  },
  {
   "cell_type": "code",
   "execution_count": 43,
   "id": "9442c04d",
   "metadata": {
    "execution": {
     "iopub.execute_input": "2025-07-30T19:45:53.758595Z",
     "iopub.status.busy": "2025-07-30T19:45:53.758160Z",
     "iopub.status.idle": "2025-07-30T19:45:57.561060Z",
     "shell.execute_reply": "2025-07-30T19:45:57.560078Z"
    },
    "papermill": {
     "duration": 3.880385,
     "end_time": "2025-07-30T19:45:57.562688",
     "exception": false,
     "start_time": "2025-07-30T19:45:53.682303",
     "status": "completed"
    },
    "tags": []
   },
   "outputs": [
    {
     "data": {
      "text/html": [
       "<style>#sk-container-id-1 {color: black;background-color: white;}#sk-container-id-1 pre{padding: 0;}#sk-container-id-1 div.sk-toggleable {background-color: white;}#sk-container-id-1 label.sk-toggleable__label {cursor: pointer;display: block;width: 100%;margin-bottom: 0;padding: 0.3em;box-sizing: border-box;text-align: center;}#sk-container-id-1 label.sk-toggleable__label-arrow:before {content: \"▸\";float: left;margin-right: 0.25em;color: #696969;}#sk-container-id-1 label.sk-toggleable__label-arrow:hover:before {color: black;}#sk-container-id-1 div.sk-estimator:hover label.sk-toggleable__label-arrow:before {color: black;}#sk-container-id-1 div.sk-toggleable__content {max-height: 0;max-width: 0;overflow: hidden;text-align: left;background-color: #f0f8ff;}#sk-container-id-1 div.sk-toggleable__content pre {margin: 0.2em;color: black;border-radius: 0.25em;background-color: #f0f8ff;}#sk-container-id-1 input.sk-toggleable__control:checked~div.sk-toggleable__content {max-height: 200px;max-width: 100%;overflow: auto;}#sk-container-id-1 input.sk-toggleable__control:checked~label.sk-toggleable__label-arrow:before {content: \"▾\";}#sk-container-id-1 div.sk-estimator input.sk-toggleable__control:checked~label.sk-toggleable__label {background-color: #d4ebff;}#sk-container-id-1 div.sk-label input.sk-toggleable__control:checked~label.sk-toggleable__label {background-color: #d4ebff;}#sk-container-id-1 input.sk-hidden--visually {border: 0;clip: rect(1px 1px 1px 1px);clip: rect(1px, 1px, 1px, 1px);height: 1px;margin: -1px;overflow: hidden;padding: 0;position: absolute;width: 1px;}#sk-container-id-1 div.sk-estimator {font-family: monospace;background-color: #f0f8ff;border: 1px dotted black;border-radius: 0.25em;box-sizing: border-box;margin-bottom: 0.5em;}#sk-container-id-1 div.sk-estimator:hover {background-color: #d4ebff;}#sk-container-id-1 div.sk-parallel-item::after {content: \"\";width: 100%;border-bottom: 1px solid gray;flex-grow: 1;}#sk-container-id-1 div.sk-label:hover label.sk-toggleable__label {background-color: #d4ebff;}#sk-container-id-1 div.sk-serial::before {content: \"\";position: absolute;border-left: 1px solid gray;box-sizing: border-box;top: 0;bottom: 0;left: 50%;z-index: 0;}#sk-container-id-1 div.sk-serial {display: flex;flex-direction: column;align-items: center;background-color: white;padding-right: 0.2em;padding-left: 0.2em;position: relative;}#sk-container-id-1 div.sk-item {position: relative;z-index: 1;}#sk-container-id-1 div.sk-parallel {display: flex;align-items: stretch;justify-content: center;background-color: white;position: relative;}#sk-container-id-1 div.sk-item::before, #sk-container-id-1 div.sk-parallel-item::before {content: \"\";position: absolute;border-left: 1px solid gray;box-sizing: border-box;top: 0;bottom: 0;left: 50%;z-index: -1;}#sk-container-id-1 div.sk-parallel-item {display: flex;flex-direction: column;z-index: 1;position: relative;background-color: white;}#sk-container-id-1 div.sk-parallel-item:first-child::after {align-self: flex-end;width: 50%;}#sk-container-id-1 div.sk-parallel-item:last-child::after {align-self: flex-start;width: 50%;}#sk-container-id-1 div.sk-parallel-item:only-child::after {width: 0;}#sk-container-id-1 div.sk-dashed-wrapped {border: 1px dashed gray;margin: 0 0.4em 0.5em 0.4em;box-sizing: border-box;padding-bottom: 0.4em;background-color: white;}#sk-container-id-1 div.sk-label label {font-family: monospace;font-weight: bold;display: inline-block;line-height: 1.2em;}#sk-container-id-1 div.sk-label-container {text-align: center;}#sk-container-id-1 div.sk-container {/* jupyter's `normalize.less` sets `[hidden] { display: none; }` but bootstrap.min.css set `[hidden] { display: none !important; }` so we also need the `!important` here to be able to override the default hidden behavior on the sphinx rendered scikit-learn.org. See: https://github.com/scikit-learn/scikit-learn/issues/21755 */display: inline-block !important;position: relative;}#sk-container-id-1 div.sk-text-repr-fallback {display: none;}</style><div id=\"sk-container-id-1\" class=\"sk-top-container\"><div class=\"sk-text-repr-fallback\"><pre>Pipeline(steps=[(&#x27;scale&#x27;, StandardScaler()),\n",
       "                (&#x27;model&#x27;, RandomForestClassifier(n_jobs=-1))])</pre><b>In a Jupyter environment, please rerun this cell to show the HTML representation or trust the notebook. <br />On GitHub, the HTML representation is unable to render, please try loading this page with nbviewer.org.</b></div><div class=\"sk-container\" hidden><div class=\"sk-item sk-dashed-wrapped\"><div class=\"sk-label-container\"><div class=\"sk-label sk-toggleable\"><input class=\"sk-toggleable__control sk-hidden--visually\" id=\"sk-estimator-id-1\" type=\"checkbox\" ><label for=\"sk-estimator-id-1\" class=\"sk-toggleable__label sk-toggleable__label-arrow\">Pipeline</label><div class=\"sk-toggleable__content\"><pre>Pipeline(steps=[(&#x27;scale&#x27;, StandardScaler()),\n",
       "                (&#x27;model&#x27;, RandomForestClassifier(n_jobs=-1))])</pre></div></div></div><div class=\"sk-serial\"><div class=\"sk-item\"><div class=\"sk-estimator sk-toggleable\"><input class=\"sk-toggleable__control sk-hidden--visually\" id=\"sk-estimator-id-2\" type=\"checkbox\" ><label for=\"sk-estimator-id-2\" class=\"sk-toggleable__label sk-toggleable__label-arrow\">StandardScaler</label><div class=\"sk-toggleable__content\"><pre>StandardScaler()</pre></div></div></div><div class=\"sk-item\"><div class=\"sk-estimator sk-toggleable\"><input class=\"sk-toggleable__control sk-hidden--visually\" id=\"sk-estimator-id-3\" type=\"checkbox\" ><label for=\"sk-estimator-id-3\" class=\"sk-toggleable__label sk-toggleable__label-arrow\">RandomForestClassifier</label><div class=\"sk-toggleable__content\"><pre>RandomForestClassifier(n_jobs=-1)</pre></div></div></div></div></div></div></div>"
      ],
      "text/plain": [
       "Pipeline(steps=[('scale', StandardScaler()),\n",
       "                ('model', RandomForestClassifier(n_jobs=-1))])"
      ]
     },
     "execution_count": 43,
     "metadata": {},
     "output_type": "execute_result"
    }
   ],
   "source": [
    "model.fit(X_train, y_train.values.ravel())"
   ]
  },
  {
   "cell_type": "code",
   "execution_count": 44,
   "id": "af59f8c0",
   "metadata": {
    "execution": {
     "iopub.execute_input": "2025-07-30T19:45:57.750729Z",
     "iopub.status.busy": "2025-07-30T19:45:57.750310Z",
     "iopub.status.idle": "2025-07-30T19:45:57.756453Z",
     "shell.execute_reply": "2025-07-30T19:45:57.755486Z"
    },
    "papermill": {
     "duration": 0.103046,
     "end_time": "2025-07-30T19:45:57.759228",
     "exception": false,
     "start_time": "2025-07-30T19:45:57.656182",
     "status": "completed"
    },
    "tags": []
   },
   "outputs": [],
   "source": [
    "from fairness_multiverse.universe import predict_w_threshold"
   ]
  },
  {
   "cell_type": "code",
   "execution_count": 45,
   "id": "a7cf2e16",
   "metadata": {
    "execution": {
     "iopub.execute_input": "2025-07-30T19:45:57.958145Z",
     "iopub.status.busy": "2025-07-30T19:45:57.957713Z",
     "iopub.status.idle": "2025-07-30T19:46:00.901227Z",
     "shell.execute_reply": "2025-07-30T19:46:00.900110Z"
    },
    "papermill": {
     "duration": 3.056185,
     "end_time": "2025-07-30T19:46:00.903507",
     "exception": false,
     "start_time": "2025-07-30T19:45:57.847322",
     "status": "completed"
    },
    "tags": []
   },
   "outputs": [
    {
     "data": {
      "text/plain": [
       "0.8622784527923308"
      ]
     },
     "execution_count": 45,
     "metadata": {},
     "output_type": "execute_result"
    }
   ],
   "source": [
    "probs_test = model.predict_proba(X_test)\n",
    "\n",
    "'''\n",
    "Below code returns a boolean array (or binary 0/1 array depending on how it’s used) where each element \n",
    "is True if the probability of class 1 is greater than or equal to the threshold, and False otherwise.\n",
    "'''\n",
    "y_pred_default = predict_w_threshold(probs_test, 0.5)\n",
    "\n",
    "from sklearn.metrics import accuracy_score\n",
    "\n",
    "# Naive prediction\n",
    "accuracy_score(y_true = y_true, y_pred = y_pred_default)"
   ]
  },
  {
   "cell_type": "code",
   "execution_count": 46,
   "id": "081964c3",
   "metadata": {
    "execution": {
     "iopub.execute_input": "2025-07-30T19:46:01.062871Z",
     "iopub.status.busy": "2025-07-30T19:46:01.061883Z",
     "iopub.status.idle": "2025-07-30T19:46:03.081084Z",
     "shell.execute_reply": "2025-07-30T19:46:03.080104Z"
    },
    "papermill": {
     "duration": 2.108286,
     "end_time": "2025-07-30T19:46:03.082872",
     "exception": false,
     "start_time": "2025-07-30T19:46:00.974586",
     "status": "completed"
    },
    "tags": []
   },
   "outputs": [
    {
     "data": {
      "text/plain": [
       "array([0, 0, 0, ..., 0, 0, 0])"
      ]
     },
     "execution_count": 46,
     "metadata": {},
     "output_type": "execute_result"
    }
   ],
   "source": [
    "model.predict(X_test)"
   ]
  },
  {
   "cell_type": "markdown",
   "id": "56c9705b",
   "metadata": {
    "papermill": {
     "duration": 0.087501,
     "end_time": "2025-07-30T19:46:03.234640",
     "exception": false,
     "start_time": "2025-07-30T19:46:03.147139",
     "status": "completed"
    },
    "tags": []
   },
   "source": [
    "# Conformal Prediction"
   ]
  },
  {
   "cell_type": "code",
   "execution_count": 47,
   "id": "160ec6ff",
   "metadata": {
    "execution": {
     "iopub.execute_input": "2025-07-30T19:46:03.378634Z",
     "iopub.status.busy": "2025-07-30T19:46:03.378108Z",
     "iopub.status.idle": "2025-07-30T19:46:03.384820Z",
     "shell.execute_reply": "2025-07-30T19:46:03.383701Z"
    },
    "papermill": {
     "duration": 0.082884,
     "end_time": "2025-07-30T19:46:03.387544",
     "exception": false,
     "start_time": "2025-07-30T19:46:03.304660",
     "status": "completed"
    },
    "tags": []
   },
   "outputs": [],
   "source": [
    "# Miscoverage level for conformal prediction (10% allowed error rate => 90% target coverage)\n",
    "alpha = 0.1"
   ]
  },
  {
   "cell_type": "code",
   "execution_count": 48,
   "id": "eadf4555-3dd3-440e-8e35-f82a4ad9f855",
   "metadata": {
    "execution": {
     "iopub.execute_input": "2025-07-30T19:46:03.525354Z",
     "iopub.status.busy": "2025-07-30T19:46:03.524801Z",
     "iopub.status.idle": "2025-07-30T19:46:05.324968Z",
     "shell.execute_reply": "2025-07-30T19:46:05.323995Z"
    },
    "papermill": {
     "duration": 1.86697,
     "end_time": "2025-07-30T19:46:05.327376",
     "exception": false,
     "start_time": "2025-07-30T19:46:03.460406",
     "status": "completed"
    },
    "tags": []
   },
   "outputs": [],
   "source": [
    "probs_calib = model.predict_proba(X_calib)"
   ]
  },
  {
   "cell_type": "code",
   "execution_count": 49,
   "id": "2ed93547-6d5d-4983-9b36-1ecb300da49a",
   "metadata": {
    "execution": {
     "iopub.execute_input": "2025-07-30T19:46:05.474617Z",
     "iopub.status.busy": "2025-07-30T19:46:05.474149Z",
     "iopub.status.idle": "2025-07-30T19:46:05.480646Z",
     "shell.execute_reply": "2025-07-30T19:46:05.479717Z"
    },
    "papermill": {
     "duration": 0.091076,
     "end_time": "2025-07-30T19:46:05.482227",
     "exception": false,
     "start_time": "2025-07-30T19:46:05.391151",
     "status": "completed"
    },
    "tags": []
   },
   "outputs": [],
   "source": [
    "y_calib = y_calib.values.ravel().astype(int)"
   ]
  },
  {
   "cell_type": "code",
   "execution_count": 50,
   "id": "65d1320d-f588-4b38-9072-62af1ae97f7d",
   "metadata": {
    "execution": {
     "iopub.execute_input": "2025-07-30T19:46:05.614126Z",
     "iopub.status.busy": "2025-07-30T19:46:05.613723Z",
     "iopub.status.idle": "2025-07-30T19:46:05.624549Z",
     "shell.execute_reply": "2025-07-30T19:46:05.622473Z"
    },
    "papermill": {
     "duration": 0.082393,
     "end_time": "2025-07-30T19:46:05.626433",
     "exception": false,
     "start_time": "2025-07-30T19:46:05.544040",
     "status": "completed"
    },
    "tags": []
   },
   "outputs": [],
   "source": [
    "from fairness_multiverse.conformal import compute_nc_scores\n",
    "\n",
    "# Compute nonconformity scores on calibration set (1 - probability of true class)\n",
    "nc_scores = compute_nc_scores(probs_calib, y_calib)"
   ]
  },
  {
   "cell_type": "code",
   "execution_count": 51,
   "id": "df3b8ca3-53b7-43d5-9667-7c85da7aeda2",
   "metadata": {
    "execution": {
     "iopub.execute_input": "2025-07-30T19:46:05.754673Z",
     "iopub.status.busy": "2025-07-30T19:46:05.754138Z",
     "iopub.status.idle": "2025-07-30T19:46:05.761876Z",
     "shell.execute_reply": "2025-07-30T19:46:05.760626Z"
    },
    "papermill": {
     "duration": 0.064035,
     "end_time": "2025-07-30T19:46:05.763556",
     "exception": false,
     "start_time": "2025-07-30T19:46:05.699521",
     "status": "completed"
    },
    "tags": []
   },
   "outputs": [],
   "source": [
    "from fairness_multiverse.conformal import find_threshold\n",
    "\n",
    "# Find conformal threshold q_hat for the given alpha (split conformal method)\n",
    "q_hat = find_threshold(nc_scores, alpha)"
   ]
  },
  {
   "cell_type": "code",
   "execution_count": 52,
   "id": "4d29e6c1-0ef6-4aa4-b8fe-4fe79b0d033a",
   "metadata": {
    "execution": {
     "iopub.execute_input": "2025-07-30T19:46:05.821400Z",
     "iopub.status.busy": "2025-07-30T19:46:05.820447Z",
     "iopub.status.idle": "2025-07-30T19:46:05.830149Z",
     "shell.execute_reply": "2025-07-30T19:46:05.829323Z"
    },
    "papermill": {
     "duration": 0.0421,
     "end_time": "2025-07-30T19:46:05.831591",
     "exception": false,
     "start_time": "2025-07-30T19:46:05.789491",
     "status": "completed"
    },
    "tags": []
   },
   "outputs": [
    {
     "data": {
      "text/plain": [
       "0.6699999999999999"
      ]
     },
     "execution_count": 52,
     "metadata": {},
     "output_type": "execute_result"
    }
   ],
   "source": [
    "q_hat"
   ]
  },
  {
   "cell_type": "code",
   "execution_count": 53,
   "id": "92460794-cdac-4be2-ba28-f28c0515a6fb",
   "metadata": {
    "execution": {
     "iopub.execute_input": "2025-07-30T19:46:05.861627Z",
     "iopub.status.busy": "2025-07-30T19:46:05.861117Z",
     "iopub.status.idle": "2025-07-30T19:46:08.854279Z",
     "shell.execute_reply": "2025-07-30T19:46:08.853174Z"
    },
    "papermill": {
     "duration": 3.010585,
     "end_time": "2025-07-30T19:46:08.856612",
     "exception": false,
     "start_time": "2025-07-30T19:46:05.846027",
     "status": "completed"
    },
    "tags": []
   },
   "outputs": [],
   "source": [
    "from fairness_multiverse.conformal import predict_conformal_sets\n",
    "\n",
    "# Generate prediction sets for each test example\n",
    "pred_sets = predict_conformal_sets(model, X_test, q_hat)"
   ]
  },
  {
   "cell_type": "code",
   "execution_count": 54,
   "id": "d90c9a65-e6db-4f5d-80cd-e68fb7e46829",
   "metadata": {
    "execution": {
     "iopub.execute_input": "2025-07-30T19:46:08.962359Z",
     "iopub.status.busy": "2025-07-30T19:46:08.961863Z",
     "iopub.status.idle": "2025-07-30T19:46:08.967832Z",
     "shell.execute_reply": "2025-07-30T19:46:08.966786Z"
    },
    "papermill": {
     "duration": 0.073432,
     "end_time": "2025-07-30T19:46:08.969788",
     "exception": false,
     "start_time": "2025-07-30T19:46:08.896356",
     "status": "completed"
    },
    "tags": []
   },
   "outputs": [],
   "source": [
    "y_true = y_true.squeeze()"
   ]
  },
  {
   "cell_type": "code",
   "execution_count": 55,
   "id": "3a58a54a-1e68-46b9-927a-df01f18aebc8",
   "metadata": {
    "execution": {
     "iopub.execute_input": "2025-07-30T19:46:09.053274Z",
     "iopub.status.busy": "2025-07-30T19:46:09.052835Z",
     "iopub.status.idle": "2025-07-30T19:46:10.193101Z",
     "shell.execute_reply": "2025-07-30T19:46:10.191903Z"
    },
    "papermill": {
     "duration": 1.193543,
     "end_time": "2025-07-30T19:46:10.195111",
     "exception": false,
     "start_time": "2025-07-30T19:46:09.001568",
     "status": "completed"
    },
    "tags": []
   },
   "outputs": [],
   "source": [
    "from fairness_multiverse.conformal import evaluate_sets\n",
    "\n",
    "# Evaluate coverage and average set size on test data\n",
    "metrics = evaluate_sets(pred_sets, y_true)"
   ]
  },
  {
   "cell_type": "markdown",
   "id": "2b569c12-9aaa-4c88-98c9-bbcd0cf3ebb8",
   "metadata": {
    "papermill": {
     "duration": 0.027973,
     "end_time": "2025-07-30T19:46:10.251948",
     "exception": false,
     "start_time": "2025-07-30T19:46:10.223975",
     "status": "completed"
    },
    "tags": []
   },
   "source": [
    "# CP Metrics"
   ]
  },
  {
   "cell_type": "code",
   "execution_count": 56,
   "id": "5ce0a5cb-201f-45a0-ade5-94c7f0bd6095",
   "metadata": {
    "execution": {
     "iopub.execute_input": "2025-07-30T19:46:10.310066Z",
     "iopub.status.busy": "2025-07-30T19:46:10.309632Z",
     "iopub.status.idle": "2025-07-30T19:46:10.317054Z",
     "shell.execute_reply": "2025-07-30T19:46:10.316091Z"
    },
    "papermill": {
     "duration": 0.040735,
     "end_time": "2025-07-30T19:46:10.321363",
     "exception": false,
     "start_time": "2025-07-30T19:46:10.280628",
     "status": "completed"
    },
    "tags": []
   },
   "outputs": [
    {
     "data": {
      "text/plain": [
       "{'coverage': 0.9162858098316798, 'avg_size': 1.1569724668375878}"
      ]
     },
     "execution_count": 56,
     "metadata": {},
     "output_type": "execute_result"
    }
   ],
   "source": [
    "metrics"
   ]
  },
  {
   "cell_type": "code",
   "execution_count": 57,
   "id": "9b9a838d-31c9-430b-ae14-12baee460d17",
   "metadata": {
    "execution": {
     "iopub.execute_input": "2025-07-30T19:46:10.379768Z",
     "iopub.status.busy": "2025-07-30T19:46:10.379335Z",
     "iopub.status.idle": "2025-07-30T19:46:10.386399Z",
     "shell.execute_reply": "2025-07-30T19:46:10.385410Z"
    },
    "papermill": {
     "duration": 0.039954,
     "end_time": "2025-07-30T19:46:10.389761",
     "exception": false,
     "start_time": "2025-07-30T19:46:10.349807",
     "status": "completed"
    },
    "tags": []
   },
   "outputs": [],
   "source": [
    "example_universe = universe.copy()\n",
    "universe_training_size = example_universe.get(\"training_size\")\n",
    "universe_scale = example_universe.get(\"scale\")\n",
    "universe_model = example_universe.get(\"model\")\n",
    "universe_exclude_features = example_universe.get(\"exclude_features\")\n",
    "universe_exclude_subgroups = example_universe.get(\"exclude_subgroups\")"
   ]
  },
  {
   "cell_type": "code",
   "execution_count": 58,
   "id": "f4b6a8ac-9dc0-4245-8a91-5b3b5999c4f9",
   "metadata": {
    "execution": {
     "iopub.execute_input": "2025-07-30T19:46:10.446524Z",
     "iopub.status.busy": "2025-07-30T19:46:10.446096Z",
     "iopub.status.idle": "2025-07-30T19:46:10.453007Z",
     "shell.execute_reply": "2025-07-30T19:46:10.452088Z"
    },
    "papermill": {
     "duration": 0.037477,
     "end_time": "2025-07-30T19:46:10.456320",
     "exception": false,
     "start_time": "2025-07-30T19:46:10.418843",
     "status": "completed"
    },
    "tags": []
   },
   "outputs": [],
   "source": [
    "cp_metrics_dict = {\n",
    "    \"universe_id\": [universe_id],\n",
    "    \"universe_training_size\": [universe_training_size],\n",
    "    \"universe_scale\": [universe_scale],\n",
    "    \"universe_model\": [universe_model],\n",
    "    \"universe_exclude_features\": [universe_exclude_features],\n",
    "    \"universe_exclude_subgroups\": [universe_exclude_subgroups],\n",
    "    \"q_hat\": [q_hat],\n",
    "    \"coverage\": [metrics[\"coverage\"]],\n",
    "    \"avg_size\": [metrics[\"avg_size\"]],\n",
    "}"
   ]
  },
  {
   "cell_type": "code",
   "execution_count": 59,
   "id": "908acbb1-0371-4915-85ca-3fa520d2efe2",
   "metadata": {
    "execution": {
     "iopub.execute_input": "2025-07-30T19:46:10.513209Z",
     "iopub.status.busy": "2025-07-30T19:46:10.512771Z",
     "iopub.status.idle": "2025-07-30T19:46:10.520694Z",
     "shell.execute_reply": "2025-07-30T19:46:10.519680Z"
    },
    "papermill": {
     "duration": 0.038663,
     "end_time": "2025-07-30T19:46:10.522297",
     "exception": false,
     "start_time": "2025-07-30T19:46:10.483634",
     "status": "completed"
    },
    "tags": []
   },
   "outputs": [
    {
     "data": {
      "text/plain": [
       "{'universe_id': ['2d16c60d03d38e12b7f8b53c6c0ec18a'],\n",
       " 'universe_training_size': ['25k'],\n",
       " 'universe_scale': ['scale'],\n",
       " 'universe_model': ['rf'],\n",
       " 'universe_exclude_features': ['nationality'],\n",
       " 'universe_exclude_subgroups': ['drop-non-german'],\n",
       " 'q_hat': [0.6699999999999999],\n",
       " 'coverage': [0.9162858098316798],\n",
       " 'avg_size': [1.1569724668375878]}"
      ]
     },
     "execution_count": 59,
     "metadata": {},
     "output_type": "execute_result"
    }
   ],
   "source": [
    "cp_metrics_dict"
   ]
  },
  {
   "cell_type": "code",
   "execution_count": 60,
   "id": "33007efc-14e9-4ec6-97ac-56a455c82265",
   "metadata": {
    "execution": {
     "iopub.execute_input": "2025-07-30T19:46:10.573074Z",
     "iopub.status.busy": "2025-07-30T19:46:10.572555Z",
     "iopub.status.idle": "2025-07-30T19:46:10.578784Z",
     "shell.execute_reply": "2025-07-30T19:46:10.577720Z"
    },
    "papermill": {
     "duration": 0.032561,
     "end_time": "2025-07-30T19:46:10.580339",
     "exception": false,
     "start_time": "2025-07-30T19:46:10.547778",
     "status": "completed"
    },
    "tags": []
   },
   "outputs": [],
   "source": [
    "cp_metrics_df = pd.DataFrame(cp_metrics_dict)"
   ]
  },
  {
   "cell_type": "code",
   "execution_count": 61,
   "id": "db12611b-57b2-4910-b9d0-355adfd6e7bf",
   "metadata": {
    "execution": {
     "iopub.execute_input": "2025-07-30T19:46:10.634940Z",
     "iopub.status.busy": "2025-07-30T19:46:10.634092Z",
     "iopub.status.idle": "2025-07-30T19:46:10.651742Z",
     "shell.execute_reply": "2025-07-30T19:46:10.650407Z"
    },
    "papermill": {
     "duration": 0.048927,
     "end_time": "2025-07-30T19:46:10.653472",
     "exception": false,
     "start_time": "2025-07-30T19:46:10.604545",
     "status": "completed"
    },
    "tags": []
   },
   "outputs": [
    {
     "data": {
      "text/html": [
       "<div>\n",
       "<style scoped>\n",
       "    .dataframe tbody tr th:only-of-type {\n",
       "        vertical-align: middle;\n",
       "    }\n",
       "\n",
       "    .dataframe tbody tr th {\n",
       "        vertical-align: top;\n",
       "    }\n",
       "\n",
       "    .dataframe thead th {\n",
       "        text-align: right;\n",
       "    }\n",
       "</style>\n",
       "<table border=\"1\" class=\"dataframe\">\n",
       "  <thead>\n",
       "    <tr style=\"text-align: right;\">\n",
       "      <th></th>\n",
       "      <th>universe_id</th>\n",
       "      <th>universe_training_size</th>\n",
       "      <th>universe_scale</th>\n",
       "      <th>universe_model</th>\n",
       "      <th>universe_exclude_features</th>\n",
       "      <th>universe_exclude_subgroups</th>\n",
       "      <th>q_hat</th>\n",
       "      <th>coverage</th>\n",
       "      <th>avg_size</th>\n",
       "    </tr>\n",
       "  </thead>\n",
       "  <tbody>\n",
       "    <tr>\n",
       "      <th>0</th>\n",
       "      <td>2d16c60d03d38e12b7f8b53c6c0ec18a</td>\n",
       "      <td>25k</td>\n",
       "      <td>scale</td>\n",
       "      <td>rf</td>\n",
       "      <td>nationality</td>\n",
       "      <td>drop-non-german</td>\n",
       "      <td>0.67</td>\n",
       "      <td>0.916286</td>\n",
       "      <td>1.156972</td>\n",
       "    </tr>\n",
       "  </tbody>\n",
       "</table>\n",
       "</div>"
      ],
      "text/plain": [
       "                        universe_id universe_training_size universe_scale  \\\n",
       "0  2d16c60d03d38e12b7f8b53c6c0ec18a                    25k          scale   \n",
       "\n",
       "  universe_model universe_exclude_features universe_exclude_subgroups  q_hat  \\\n",
       "0             rf               nationality            drop-non-german   0.67   \n",
       "\n",
       "   coverage  avg_size  \n",
       "0  0.916286  1.156972  "
      ]
     },
     "execution_count": 61,
     "metadata": {},
     "output_type": "execute_result"
    }
   ],
   "source": [
    "cp_metrics_df"
   ]
  },
  {
   "cell_type": "code",
   "execution_count": 62,
   "id": "b7fbde55-a0a1-47e4-9af6-fe4a17fa8c61",
   "metadata": {
    "execution": {
     "iopub.execute_input": "2025-07-30T19:46:10.707255Z",
     "iopub.status.busy": "2025-07-30T19:46:10.706802Z",
     "iopub.status.idle": "2025-07-30T19:46:10.711838Z",
     "shell.execute_reply": "2025-07-30T19:46:10.711006Z"
    },
    "papermill": {
     "duration": 0.033172,
     "end_time": "2025-07-30T19:46:10.713462",
     "exception": false,
     "start_time": "2025-07-30T19:46:10.680290",
     "status": "completed"
    },
    "tags": []
   },
   "outputs": [],
   "source": [
    "# Conditional Coverage & looking at subgroups"
   ]
  },
  {
   "cell_type": "code",
   "execution_count": 63,
   "id": "027ae886-68dd-4141-96c7-805a5450e1ef",
   "metadata": {
    "execution": {
     "iopub.execute_input": "2025-07-30T19:46:10.768096Z",
     "iopub.status.busy": "2025-07-30T19:46:10.767608Z",
     "iopub.status.idle": "2025-07-30T19:46:11.052234Z",
     "shell.execute_reply": "2025-07-30T19:46:11.051163Z"
    },
    "papermill": {
     "duration": 0.328822,
     "end_time": "2025-07-30T19:46:11.068953",
     "exception": false,
     "start_time": "2025-07-30T19:46:10.740131",
     "status": "completed"
    },
    "tags": []
   },
   "outputs": [],
   "source": [
    "from fairness_multiverse.conformal import build_cp_groups\n",
    "\n",
    "cp_groups_df = build_cp_groups(pred_sets, y_true, X_test.index, org_test)\n",
    "#needs universe_id and setting"
   ]
  },
  {
   "cell_type": "code",
   "execution_count": 64,
   "id": "01d5802c-663a-4d1f-9d69-e036faaffbf7",
   "metadata": {
    "execution": {
     "iopub.execute_input": "2025-07-30T19:46:11.170873Z",
     "iopub.status.busy": "2025-07-30T19:46:11.170195Z",
     "iopub.status.idle": "2025-07-30T19:46:11.175722Z",
     "shell.execute_reply": "2025-07-30T19:46:11.174715Z"
    },
    "papermill": {
     "duration": 0.037975,
     "end_time": "2025-07-30T19:46:11.178503",
     "exception": false,
     "start_time": "2025-07-30T19:46:11.140528",
     "status": "completed"
    },
    "tags": []
   },
   "outputs": [],
   "source": [
    "#delete\n",
    "#cp_groups_df"
   ]
  },
  {
   "cell_type": "code",
   "execution_count": 65,
   "id": "fa424af1-d1eb-443d-b717-2d279ada8408",
   "metadata": {
    "execution": {
     "iopub.execute_input": "2025-07-30T19:46:11.232183Z",
     "iopub.status.busy": "2025-07-30T19:46:11.231751Z",
     "iopub.status.idle": "2025-07-30T19:46:11.236909Z",
     "shell.execute_reply": "2025-07-30T19:46:11.235901Z"
    },
    "papermill": {
     "duration": 0.036618,
     "end_time": "2025-07-30T19:46:11.240071",
     "exception": false,
     "start_time": "2025-07-30T19:46:11.203453",
     "status": "completed"
    },
    "tags": []
   },
   "outputs": [],
   "source": [
    "#delete\n",
    "#percentage = (cp_groups_df['nongerman_female'] == 1).mean() * 100\n",
    "#print(percentage)\n"
   ]
  },
  {
   "cell_type": "code",
   "execution_count": 66,
   "id": "6cbdab96-b2b2-45af-ad54-d0516db2e28d",
   "metadata": {
    "execution": {
     "iopub.execute_input": "2025-07-30T19:46:11.350448Z",
     "iopub.status.busy": "2025-07-30T19:46:11.350025Z",
     "iopub.status.idle": "2025-07-30T19:46:13.821208Z",
     "shell.execute_reply": "2025-07-30T19:46:13.820263Z"
    },
    "papermill": {
     "duration": 2.524315,
     "end_time": "2025-07-30T19:46:13.822873",
     "exception": false,
     "start_time": "2025-07-30T19:46:11.298558",
     "status": "completed"
    },
    "tags": []
   },
   "outputs": [],
   "source": [
    "# Define covered = 1 if true_label is in the predicted set\n",
    "cp_groups_df['covered'] = cp_groups_df.apply(\n",
    "    lambda r: int(r['true_label'] in r['pred_set']),\n",
    "    axis=1\n",
    ")"
   ]
  },
  {
   "cell_type": "code",
   "execution_count": 67,
   "id": "338ff529-1a6b-4b87-a931-8e4788d52aad",
   "metadata": {
    "execution": {
     "iopub.execute_input": "2025-07-30T19:46:13.894615Z",
     "iopub.status.busy": "2025-07-30T19:46:13.894113Z",
     "iopub.status.idle": "2025-07-30T19:46:13.899876Z",
     "shell.execute_reply": "2025-07-30T19:46:13.898804Z"
    },
    "papermill": {
     "duration": 0.044175,
     "end_time": "2025-07-30T19:46:13.901888",
     "exception": false,
     "start_time": "2025-07-30T19:46:13.857713",
     "status": "completed"
    },
    "tags": []
   },
   "outputs": [],
   "source": [
    "#cp_groups_df"
   ]
  },
  {
   "cell_type": "code",
   "execution_count": 68,
   "id": "90032e27-66df-4540-9169-4e89cfbaa758",
   "metadata": {
    "execution": {
     "iopub.execute_input": "2025-07-30T19:46:13.977221Z",
     "iopub.status.busy": "2025-07-30T19:46:13.976374Z",
     "iopub.status.idle": "2025-07-30T19:46:13.987617Z",
     "shell.execute_reply": "2025-07-30T19:46:13.986581Z"
    },
    "papermill": {
     "duration": 0.051223,
     "end_time": "2025-07-30T19:46:13.989427",
     "exception": false,
     "start_time": "2025-07-30T19:46:13.938204",
     "status": "completed"
    },
    "tags": []
   },
   "outputs": [],
   "source": [
    "subgroups = ['frau1','nongerman','nongerman_male','nongerman_female']\n",
    "\n",
    "# Conditional coverage for subgroup==1\n",
    "cond_coverage = {\n",
    "    g: cp_groups_df.loc[cp_groups_df[g]==1, 'covered'].mean()\n",
    "    for g in subgroups\n",
    "}"
   ]
  },
  {
   "cell_type": "code",
   "execution_count": 69,
   "id": "1e348fb1-b9c3-45bc-ba23-f016827a7e0d",
   "metadata": {
    "execution": {
     "iopub.execute_input": "2025-07-30T19:46:14.049115Z",
     "iopub.status.busy": "2025-07-30T19:46:14.048688Z",
     "iopub.status.idle": "2025-07-30T19:46:14.056756Z",
     "shell.execute_reply": "2025-07-30T19:46:14.055634Z"
    },
    "papermill": {
     "duration": 0.042388,
     "end_time": "2025-07-30T19:46:14.060877",
     "exception": false,
     "start_time": "2025-07-30T19:46:14.018489",
     "status": "completed"
    },
    "tags": []
   },
   "outputs": [
    {
     "data": {
      "text/plain": [
       "{'frau1': 0.9164577436312171,\n",
       " 'nongerman': 0.9142199517206534,\n",
       " 'nongerman_male': 0.9279474016031704,\n",
       " 'nongerman_female': 0.89150521609538}"
      ]
     },
     "execution_count": 69,
     "metadata": {},
     "output_type": "execute_result"
    }
   ],
   "source": [
    "cond_coverage"
   ]
  },
  {
   "cell_type": "code",
   "execution_count": 70,
   "id": "f5093324-c3dd-4d63-bc4c-8d945e5c8bbb",
   "metadata": {
    "execution": {
     "iopub.execute_input": "2025-07-30T19:46:14.125556Z",
     "iopub.status.busy": "2025-07-30T19:46:14.125106Z",
     "iopub.status.idle": "2025-07-30T19:46:14.132803Z",
     "shell.execute_reply": "2025-07-30T19:46:14.131858Z"
    },
    "papermill": {
     "duration": 0.042191,
     "end_time": "2025-07-30T19:46:14.136115",
     "exception": false,
     "start_time": "2025-07-30T19:46:14.093924",
     "status": "completed"
    },
    "tags": []
   },
   "outputs": [],
   "source": [
    "for subgroup, cov in cond_coverage.items():\n",
    "    cp_metrics_df[f\"cov_{subgroup}\"] = cov"
   ]
  },
  {
   "cell_type": "code",
   "execution_count": 71,
   "id": "6e872e10-dbe5-49e8-b554-5030c98ff75d",
   "metadata": {
    "execution": {
     "iopub.execute_input": "2025-07-30T19:46:14.194995Z",
     "iopub.status.busy": "2025-07-30T19:46:14.194564Z",
     "iopub.status.idle": "2025-07-30T19:46:14.232093Z",
     "shell.execute_reply": "2025-07-30T19:46:14.230581Z"
    },
    "papermill": {
     "duration": 0.06857,
     "end_time": "2025-07-30T19:46:14.234079",
     "exception": false,
     "start_time": "2025-07-30T19:46:14.165509",
     "status": "completed"
    },
    "tags": []
   },
   "outputs": [
    {
     "data": {
      "text/html": [
       "<div>\n",
       "<style scoped>\n",
       "    .dataframe tbody tr th:only-of-type {\n",
       "        vertical-align: middle;\n",
       "    }\n",
       "\n",
       "    .dataframe tbody tr th {\n",
       "        vertical-align: top;\n",
       "    }\n",
       "\n",
       "    .dataframe thead th {\n",
       "        text-align: right;\n",
       "    }\n",
       "</style>\n",
       "<table border=\"1\" class=\"dataframe\">\n",
       "  <thead>\n",
       "    <tr style=\"text-align: right;\">\n",
       "      <th></th>\n",
       "      <th>universe_id</th>\n",
       "      <th>universe_training_size</th>\n",
       "      <th>universe_scale</th>\n",
       "      <th>universe_model</th>\n",
       "      <th>universe_exclude_features</th>\n",
       "      <th>universe_exclude_subgroups</th>\n",
       "      <th>q_hat</th>\n",
       "      <th>coverage</th>\n",
       "      <th>avg_size</th>\n",
       "      <th>cov_frau1</th>\n",
       "      <th>cov_nongerman</th>\n",
       "      <th>cov_nongerman_male</th>\n",
       "      <th>cov_nongerman_female</th>\n",
       "    </tr>\n",
       "  </thead>\n",
       "  <tbody>\n",
       "    <tr>\n",
       "      <th>0</th>\n",
       "      <td>2d16c60d03d38e12b7f8b53c6c0ec18a</td>\n",
       "      <td>25k</td>\n",
       "      <td>scale</td>\n",
       "      <td>rf</td>\n",
       "      <td>nationality</td>\n",
       "      <td>drop-non-german</td>\n",
       "      <td>0.67</td>\n",
       "      <td>0.916286</td>\n",
       "      <td>1.156972</td>\n",
       "      <td>0.916458</td>\n",
       "      <td>0.91422</td>\n",
       "      <td>0.927947</td>\n",
       "      <td>0.891505</td>\n",
       "    </tr>\n",
       "  </tbody>\n",
       "</table>\n",
       "</div>"
      ],
      "text/plain": [
       "                        universe_id universe_training_size universe_scale  \\\n",
       "0  2d16c60d03d38e12b7f8b53c6c0ec18a                    25k          scale   \n",
       "\n",
       "  universe_model universe_exclude_features universe_exclude_subgroups  q_hat  \\\n",
       "0             rf               nationality            drop-non-german   0.67   \n",
       "\n",
       "   coverage  avg_size  cov_frau1  cov_nongerman  cov_nongerman_male  \\\n",
       "0  0.916286  1.156972   0.916458        0.91422            0.927947   \n",
       "\n",
       "   cov_nongerman_female  \n",
       "0              0.891505  "
      ]
     },
     "execution_count": 71,
     "metadata": {},
     "output_type": "execute_result"
    }
   ],
   "source": [
    "cp_metrics_df"
   ]
  },
  {
   "cell_type": "markdown",
   "id": "33774451",
   "metadata": {
    "papermill": {
     "duration": 0.060153,
     "end_time": "2025-07-30T19:46:14.364857",
     "exception": false,
     "start_time": "2025-07-30T19:46:14.304704",
     "status": "completed"
    },
    "tags": []
   },
   "source": [
    "# (Fairness) Metrics"
   ]
  },
  {
   "cell_type": "code",
   "execution_count": 72,
   "id": "debc5d62",
   "metadata": {
    "execution": {
     "iopub.execute_input": "2025-07-30T19:46:14.472343Z",
     "iopub.status.busy": "2025-07-30T19:46:14.471925Z",
     "iopub.status.idle": "2025-07-30T19:46:14.508375Z",
     "shell.execute_reply": "2025-07-30T19:46:14.507382Z"
    },
    "papermill": {
     "duration": 0.06607,
     "end_time": "2025-07-30T19:46:14.510406",
     "exception": false,
     "start_time": "2025-07-30T19:46:14.444336",
     "status": "completed"
    },
    "tags": []
   },
   "outputs": [],
   "source": [
    "# do I need to include maxdeutsch1.missing?\n",
    "\n",
    "import numpy as np\n",
    "\n",
    "colname_to_bin = \"maxdeutsch1\"\n",
    "majority_value = org_train[colname_to_bin].mode()[0]\n",
    "\n",
    "org_test[\"majmin\"] = np.where(org_test[colname_to_bin] == majority_value, \"majority\", \"minority\")"
   ]
  },
  {
   "cell_type": "code",
   "execution_count": 73,
   "id": "06a50de5",
   "metadata": {
    "execution": {
     "iopub.execute_input": "2025-07-30T19:46:14.574564Z",
     "iopub.status.busy": "2025-07-30T19:46:14.574135Z",
     "iopub.status.idle": "2025-07-30T19:46:17.483351Z",
     "shell.execute_reply": "2025-07-30T19:46:17.482384Z"
    },
    "papermill": {
     "duration": 2.943161,
     "end_time": "2025-07-30T19:46:17.485020",
     "exception": false,
     "start_time": "2025-07-30T19:46:14.541859",
     "status": "completed"
    },
    "tags": []
   },
   "outputs": [],
   "source": [
    "example_universe = universe.copy()\n",
    "example_universe[\"cutoff\"] = example_universe[\"cutoff\"][0]\n",
    "example_universe[\"eval_fairness_grouping\"] = example_universe[\"eval_fairness_grouping\"][0]\n",
    "fairness_dict, metric_frame = universe_analysis.compute_metrics(\n",
    "    example_universe,\n",
    "    y_pred_prob=probs_test,\n",
    "    y_test=y_true,\n",
    "    org_test=org_test,\n",
    ")"
   ]
  },
  {
   "cell_type": "markdown",
   "id": "f95d4e02",
   "metadata": {
    "papermill": {
     "duration": 0.026753,
     "end_time": "2025-07-30T19:46:17.537980",
     "exception": false,
     "start_time": "2025-07-30T19:46:17.511227",
     "status": "completed"
    },
    "tags": []
   },
   "source": [
    "# Overall"
   ]
  },
  {
   "cell_type": "markdown",
   "id": "bdee4871",
   "metadata": {
    "papermill": {
     "duration": 0.026863,
     "end_time": "2025-07-30T19:46:17.589481",
     "exception": false,
     "start_time": "2025-07-30T19:46:17.562618",
     "status": "completed"
    },
    "tags": []
   },
   "source": [
    "Fairness\n",
    "Main fairness target: Equalized Odds. Seems to be a better fit than equal opportunity, since we're not only interested in Y = 1. Seems to be a better fit than demographic parity, since we also care about accuracy, not just equal distribution of preds.\n",
    "\n",
    "Pick column for computation of fairness metrics\n",
    "\n",
    "Performance\n",
    "Overall performance measures, most interesting in relation to the measures split by group below"
   ]
  },
  {
   "cell_type": "code",
   "execution_count": 74,
   "id": "c4e067c6",
   "metadata": {
    "execution": {
     "iopub.execute_input": "2025-07-30T19:46:17.642146Z",
     "iopub.status.busy": "2025-07-30T19:46:17.641188Z",
     "iopub.status.idle": "2025-07-30T19:46:17.649421Z",
     "shell.execute_reply": "2025-07-30T19:46:17.648495Z"
    },
    "papermill": {
     "duration": 0.036923,
     "end_time": "2025-07-30T19:46:17.651067",
     "exception": false,
     "start_time": "2025-07-30T19:46:17.614144",
     "status": "completed"
    },
    "tags": []
   },
   "outputs": [
    {
     "data": {
      "text/plain": [
       "accuracy                   0.204938\n",
       "balanced accuracy          0.535929\n",
       "f1                         0.240472\n",
       "precision                  0.137028\n",
       "false positive rate        0.909286\n",
       "false negative rate        0.018856\n",
       "selection rate             0.918504\n",
       "count                  89710.000000\n",
       "dtype: float64"
      ]
     },
     "execution_count": 74,
     "metadata": {},
     "output_type": "execute_result"
    }
   ],
   "source": [
    "metric_frame.overall"
   ]
  },
  {
   "cell_type": "markdown",
   "id": "e968fe9d",
   "metadata": {
    "papermill": {
     "duration": 0.025297,
     "end_time": "2025-07-30T19:46:17.702929",
     "exception": false,
     "start_time": "2025-07-30T19:46:17.677632",
     "status": "completed"
    },
    "tags": []
   },
   "source": [
    "By Group"
   ]
  },
  {
   "cell_type": "code",
   "execution_count": 75,
   "id": "ec325bce",
   "metadata": {
    "execution": {
     "iopub.execute_input": "2025-07-30T19:46:17.755478Z",
     "iopub.status.busy": "2025-07-30T19:46:17.754999Z",
     "iopub.status.idle": "2025-07-30T19:46:17.771235Z",
     "shell.execute_reply": "2025-07-30T19:46:17.770361Z"
    },
    "papermill": {
     "duration": 0.044557,
     "end_time": "2025-07-30T19:46:17.772801",
     "exception": false,
     "start_time": "2025-07-30T19:46:17.728244",
     "status": "completed"
    },
    "tags": []
   },
   "outputs": [
    {
     "data": {
      "text/html": [
       "<div>\n",
       "<style scoped>\n",
       "    .dataframe tbody tr th:only-of-type {\n",
       "        vertical-align: middle;\n",
       "    }\n",
       "\n",
       "    .dataframe tbody tr th {\n",
       "        vertical-align: top;\n",
       "    }\n",
       "\n",
       "    .dataframe thead th {\n",
       "        text-align: right;\n",
       "    }\n",
       "</style>\n",
       "<table border=\"1\" class=\"dataframe\">\n",
       "  <thead>\n",
       "    <tr style=\"text-align: right;\">\n",
       "      <th></th>\n",
       "      <th>accuracy</th>\n",
       "      <th>balanced accuracy</th>\n",
       "      <th>f1</th>\n",
       "      <th>precision</th>\n",
       "      <th>false positive rate</th>\n",
       "      <th>false negative rate</th>\n",
       "      <th>selection rate</th>\n",
       "      <th>count</th>\n",
       "    </tr>\n",
       "    <tr>\n",
       "      <th>majmin</th>\n",
       "      <th></th>\n",
       "      <th></th>\n",
       "      <th></th>\n",
       "      <th></th>\n",
       "      <th></th>\n",
       "      <th></th>\n",
       "      <th></th>\n",
       "      <th></th>\n",
       "    </tr>\n",
       "  </thead>\n",
       "  <tbody>\n",
       "    <tr>\n",
       "      <th>majority</th>\n",
       "      <td>0.200058</td>\n",
       "      <td>0.535003</td>\n",
       "      <td>0.246507</td>\n",
       "      <td>0.140775</td>\n",
       "      <td>0.920257</td>\n",
       "      <td>0.009737</td>\n",
       "      <td>0.929507</td>\n",
       "      <td>69170.0</td>\n",
       "    </tr>\n",
       "    <tr>\n",
       "      <th>minority</th>\n",
       "      <td>0.221373</td>\n",
       "      <td>0.536450</td>\n",
       "      <td>0.218825</td>\n",
       "      <td>0.123723</td>\n",
       "      <td>0.873046</td>\n",
       "      <td>0.054054</td>\n",
       "      <td>0.881451</td>\n",
       "      <td>20540.0</td>\n",
       "    </tr>\n",
       "  </tbody>\n",
       "</table>\n",
       "</div>"
      ],
      "text/plain": [
       "          accuracy  balanced accuracy        f1  precision  \\\n",
       "majmin                                                       \n",
       "majority  0.200058           0.535003  0.246507   0.140775   \n",
       "minority  0.221373           0.536450  0.218825   0.123723   \n",
       "\n",
       "          false positive rate  false negative rate  selection rate    count  \n",
       "majmin                                                                       \n",
       "majority             0.920257             0.009737        0.929507  69170.0  \n",
       "minority             0.873046             0.054054        0.881451  20540.0  "
      ]
     },
     "execution_count": 75,
     "metadata": {},
     "output_type": "execute_result"
    }
   ],
   "source": [
    "metric_frame.by_group"
   ]
  },
  {
   "cell_type": "code",
   "execution_count": 76,
   "id": "a9ddbe63",
   "metadata": {
    "execution": {
     "iopub.execute_input": "2025-07-30T19:46:17.829257Z",
     "iopub.status.busy": "2025-07-30T19:46:17.828607Z",
     "iopub.status.idle": "2025-07-30T19:46:20.391298Z",
     "shell.execute_reply": "2025-07-30T19:46:20.390286Z"
    },
    "papermill": {
     "duration": 2.593408,
     "end_time": "2025-07-30T19:46:20.393366",
     "exception": false,
     "start_time": "2025-07-30T19:46:17.799958",
     "status": "completed"
    },
    "tags": []
   },
   "outputs": [
    {
     "data": {
      "text/plain": [
       "array([[<Axes: title={'center': 'accuracy'}, xlabel='majmin'>,\n",
       "        <Axes: title={'center': 'balanced accuracy'}, xlabel='majmin'>,\n",
       "        <Axes: title={'center': 'f1'}, xlabel='majmin'>],\n",
       "       [<Axes: title={'center': 'precision'}, xlabel='majmin'>,\n",
       "        <Axes: title={'center': 'false positive rate'}, xlabel='majmin'>,\n",
       "        <Axes: title={'center': 'false negative rate'}, xlabel='majmin'>],\n",
       "       [<Axes: title={'center': 'selection rate'}, xlabel='majmin'>,\n",
       "        <Axes: title={'center': 'count'}, xlabel='majmin'>,\n",
       "        <Axes: xlabel='majmin'>]], dtype=object)"
      ]
     },
     "execution_count": 76,
     "metadata": {},
     "output_type": "execute_result"
    },
    {
     "data": {
      "image/png": "[encoded data removed]",
      "text/plain": [
       "<Figure size 1200x800 with 9 Axes>"
      ]
     },
     "metadata": {},
     "output_type": "display_data"
    }
   ],
   "source": [
    "# In a graphic\n",
    "metric_frame.by_group.plot.bar(\n",
    "    subplots=True,\n",
    "    layout=[3, 3],\n",
    "    legend=False,\n",
    "    figsize=[12, 8],\n",
    "    title=\"Show all metrics\",\n",
    ")"
   ]
  },
  {
   "cell_type": "markdown",
   "id": "f57a0bac",
   "metadata": {
    "papermill": {
     "duration": 0.02923,
     "end_time": "2025-07-30T19:46:20.452739",
     "exception": false,
     "start_time": "2025-07-30T19:46:20.423509",
     "status": "completed"
    },
    "tags": []
   },
   "source": [
    "# Final Output"
   ]
  },
  {
   "cell_type": "code",
   "execution_count": 77,
   "id": "96d280a3",
   "metadata": {
    "execution": {
     "iopub.execute_input": "2025-07-30T19:46:20.510070Z",
     "iopub.status.busy": "2025-07-30T19:46:20.509469Z",
     "iopub.status.idle": "2025-07-30T19:46:20.517697Z",
     "shell.execute_reply": "2025-07-30T19:46:20.516878Z"
    },
    "papermill": {
     "duration": 0.040081,
     "end_time": "2025-07-30T19:46:20.519123",
     "exception": false,
     "start_time": "2025-07-30T19:46:20.479042",
     "status": "completed"
    },
    "tags": []
   },
   "outputs": [
    {
     "data": {
      "text/plain": [
       "4"
      ]
     },
     "execution_count": 77,
     "metadata": {},
     "output_type": "execute_result"
    }
   ],
   "source": [
    "sub_universes = universe_analysis.generate_sub_universes()\n",
    "len(sub_universes)"
   ]
  },
  {
   "cell_type": "code",
   "execution_count": 78,
   "id": "92adf7ba",
   "metadata": {
    "execution": {
     "iopub.execute_input": "2025-07-30T19:46:20.575510Z",
     "iopub.status.busy": "2025-07-30T19:46:20.574740Z",
     "iopub.status.idle": "2025-07-30T19:46:20.581179Z",
     "shell.execute_reply": "2025-07-30T19:46:20.580279Z"
    },
    "papermill": {
     "duration": 0.03605,
     "end_time": "2025-07-30T19:46:20.582624",
     "exception": false,
     "start_time": "2025-07-30T19:46:20.546574",
     "status": "completed"
    },
    "tags": []
   },
   "outputs": [],
   "source": [
    "def filter_sub_universe_data(sub_universe, org_test):\n",
    "    # Keep all rows — no filtering\n",
    "    keep_rows_mask = np.ones(org_test.shape[0], dtype=bool)\n",
    "\n",
    "    print(f\"[INFO] Keeping all rows: {keep_rows_mask.sum()} rows retained.\")\n",
    "    return keep_rows_mask"
   ]
  },
  {
   "cell_type": "code",
   "execution_count": 79,
   "id": "4a759155",
   "metadata": {
    "execution": {
     "iopub.execute_input": "2025-07-30T19:46:20.637914Z",
     "iopub.status.busy": "2025-07-30T19:46:20.637492Z",
     "iopub.status.idle": "2025-07-30T19:46:31.295510Z",
     "shell.execute_reply": "2025-07-30T19:46:31.294436Z"
    },
    "papermill": {
     "duration": 10.687404,
     "end_time": "2025-07-30T19:46:31.297263",
     "exception": false,
     "start_time": "2025-07-30T19:46:20.609859",
     "status": "completed"
    },
    "tags": []
   },
   "outputs": [
    {
     "name": "stdout",
     "output_type": "stream",
     "text": [
      "Stopping execution_time clock.\n",
      "[INFO] Keeping all rows: 89710 rows retained.\n"
     ]
    },
    {
     "name": "stdout",
     "output_type": "stream",
     "text": [
      "[INFO] Keeping all rows: 89710 rows retained.\n"
     ]
    },
    {
     "name": "stdout",
     "output_type": "stream",
     "text": [
      "[INFO] Keeping all rows: 89710 rows retained.\n"
     ]
    },
    {
     "name": "stdout",
     "output_type": "stream",
     "text": [
      "[INFO] Keeping all rows: 89710 rows retained.\n"
     ]
    },
    {
     "data": {
      "text/html": [
       "<div>\n",
       "<style scoped>\n",
       "    .dataframe tbody tr th:only-of-type {\n",
       "        vertical-align: middle;\n",
       "    }\n",
       "\n",
       "    .dataframe tbody tr th {\n",
       "        vertical-align: top;\n",
       "    }\n",
       "\n",
       "    .dataframe thead th {\n",
       "        text-align: right;\n",
       "    }\n",
       "</style>\n",
       "<table border=\"1\" class=\"dataframe\">\n",
       "  <thead>\n",
       "    <tr style=\"text-align: right;\">\n",
       "      <th></th>\n",
       "      <th>run_no</th>\n",
       "      <th>universe_id</th>\n",
       "      <th>universe_settings</th>\n",
       "      <th>execution_time</th>\n",
       "      <th>test_size_n</th>\n",
       "      <th>test_size_frac</th>\n",
       "      <th>fair_main_equalized_odds_difference</th>\n",
       "      <th>fair_main_equalized_odds_ratio</th>\n",
       "      <th>fair_main_demographic_parity_difference</th>\n",
       "      <th>fair_main_demographic_parity_ratio</th>\n",
       "      <th>...</th>\n",
       "      <th>perf_grp_precision_0</th>\n",
       "      <th>perf_grp_precision_1</th>\n",
       "      <th>perf_grp_false positive rate_0</th>\n",
       "      <th>perf_grp_false positive rate_1</th>\n",
       "      <th>perf_grp_false negative rate_0</th>\n",
       "      <th>perf_grp_false negative rate_1</th>\n",
       "      <th>perf_grp_selection rate_0</th>\n",
       "      <th>perf_grp_selection rate_1</th>\n",
       "      <th>perf_grp_count_0</th>\n",
       "      <th>perf_grp_count_1</th>\n",
       "    </tr>\n",
       "  </thead>\n",
       "  <tbody>\n",
       "    <tr>\n",
       "      <th>0</th>\n",
       "      <td>13</td>\n",
       "      <td>2d16c60d03d38e12b7f8b53c6c0ec18a</td>\n",
       "      <td>{\"cutoff\": \"quantile_0.1\", \"eval_fairness_grou...</td>\n",
       "      <td>47.07798</td>\n",
       "      <td>89710</td>\n",
       "      <td>1.0</td>\n",
       "      <td>0.047210</td>\n",
       "      <td>0.948699</td>\n",
       "      <td>0.048056</td>\n",
       "      <td>0.948299</td>\n",
       "      <td>...</td>\n",
       "      <td>NaN</td>\n",
       "      <td>NaN</td>\n",
       "      <td>NaN</td>\n",
       "      <td>NaN</td>\n",
       "      <td>NaN</td>\n",
       "      <td>NaN</td>\n",
       "      <td>NaN</td>\n",
       "      <td>NaN</td>\n",
       "      <td>NaN</td>\n",
       "      <td>NaN</td>\n",
       "    </tr>\n",
       "    <tr>\n",
       "      <th>0</th>\n",
       "      <td>13</td>\n",
       "      <td>2d16c60d03d38e12b7f8b53c6c0ec18a</td>\n",
       "      <td>{\"cutoff\": \"quantile_0.1\", \"eval_fairness_grou...</td>\n",
       "      <td>47.07798</td>\n",
       "      <td>89710</td>\n",
       "      <td>1.0</td>\n",
       "      <td>0.047210</td>\n",
       "      <td>0.948699</td>\n",
       "      <td>0.048056</td>\n",
       "      <td>0.948299</td>\n",
       "      <td>...</td>\n",
       "      <td>0.123723</td>\n",
       "      <td>0.140775</td>\n",
       "      <td>0.873046</td>\n",
       "      <td>0.920257</td>\n",
       "      <td>0.054054</td>\n",
       "      <td>0.009737</td>\n",
       "      <td>0.881451</td>\n",
       "      <td>0.929507</td>\n",
       "      <td>20540.0</td>\n",
       "      <td>69170.0</td>\n",
       "    </tr>\n",
       "    <tr>\n",
       "      <th>0</th>\n",
       "      <td>13</td>\n",
       "      <td>2d16c60d03d38e12b7f8b53c6c0ec18a</td>\n",
       "      <td>{\"cutoff\": \"quantile_0.25\", \"eval_fairness_gro...</td>\n",
       "      <td>47.07798</td>\n",
       "      <td>89710</td>\n",
       "      <td>1.0</td>\n",
       "      <td>0.069228</td>\n",
       "      <td>0.927204</td>\n",
       "      <td>0.029632</td>\n",
       "      <td>0.961058</td>\n",
       "      <td>...</td>\n",
       "      <td>NaN</td>\n",
       "      <td>NaN</td>\n",
       "      <td>NaN</td>\n",
       "      <td>NaN</td>\n",
       "      <td>NaN</td>\n",
       "      <td>NaN</td>\n",
       "      <td>NaN</td>\n",
       "      <td>NaN</td>\n",
       "      <td>NaN</td>\n",
       "      <td>NaN</td>\n",
       "    </tr>\n",
       "    <tr>\n",
       "      <th>0</th>\n",
       "      <td>13</td>\n",
       "      <td>2d16c60d03d38e12b7f8b53c6c0ec18a</td>\n",
       "      <td>{\"cutoff\": \"quantile_0.25\", \"eval_fairness_gro...</td>\n",
       "      <td>47.07798</td>\n",
       "      <td>89710</td>\n",
       "      <td>1.0</td>\n",
       "      <td>0.069228</td>\n",
       "      <td>0.927204</td>\n",
       "      <td>0.029632</td>\n",
       "      <td>0.961058</td>\n",
       "      <td>...</td>\n",
       "      <td>0.139005</td>\n",
       "      <td>0.165140</td>\n",
       "      <td>0.711699</td>\n",
       "      <td>0.732001</td>\n",
       "      <td>0.118243</td>\n",
       "      <td>0.049015</td>\n",
       "      <td>0.731305</td>\n",
       "      <td>0.760937</td>\n",
       "      <td>20540.0</td>\n",
       "      <td>69170.0</td>\n",
       "    </tr>\n",
       "  </tbody>\n",
       "</table>\n",
       "<p>4 rows × 50 columns</p>\n",
       "</div>"
      ],
      "text/plain": [
       "  run_no                       universe_id  \\\n",
       "0     13  2d16c60d03d38e12b7f8b53c6c0ec18a   \n",
       "0     13  2d16c60d03d38e12b7f8b53c6c0ec18a   \n",
       "0     13  2d16c60d03d38e12b7f8b53c6c0ec18a   \n",
       "0     13  2d16c60d03d38e12b7f8b53c6c0ec18a   \n",
       "\n",
       "                                   universe_settings  execution_time  \\\n",
       "0  {\"cutoff\": \"quantile_0.1\", \"eval_fairness_grou...        47.07798   \n",
       "0  {\"cutoff\": \"quantile_0.1\", \"eval_fairness_grou...        47.07798   \n",
       "0  {\"cutoff\": \"quantile_0.25\", \"eval_fairness_gro...        47.07798   \n",
       "0  {\"cutoff\": \"quantile_0.25\", \"eval_fairness_gro...        47.07798   \n",
       "\n",
       "   test_size_n  test_size_frac  fair_main_equalized_odds_difference  \\\n",
       "0        89710             1.0                             0.047210   \n",
       "0        89710             1.0                             0.047210   \n",
       "0        89710             1.0                             0.069228   \n",
       "0        89710             1.0                             0.069228   \n",
       "\n",
       "   fair_main_equalized_odds_ratio  fair_main_demographic_parity_difference  \\\n",
       "0                        0.948699                                 0.048056   \n",
       "0                        0.948699                                 0.048056   \n",
       "0                        0.927204                                 0.029632   \n",
       "0                        0.927204                                 0.029632   \n",
       "\n",
       "   fair_main_demographic_parity_ratio  ...  perf_grp_precision_0  \\\n",
       "0                            0.948299  ...                   NaN   \n",
       "0                            0.948299  ...              0.123723   \n",
       "0                            0.961058  ...                   NaN   \n",
       "0                            0.961058  ...              0.139005   \n",
       "\n",
       "   perf_grp_precision_1  perf_grp_false positive rate_0  \\\n",
       "0                   NaN                             NaN   \n",
       "0              0.140775                        0.873046   \n",
       "0                   NaN                             NaN   \n",
       "0              0.165140                        0.711699   \n",
       "\n",
       "   perf_grp_false positive rate_1  perf_grp_false negative rate_0  \\\n",
       "0                             NaN                             NaN   \n",
       "0                        0.920257                        0.054054   \n",
       "0                             NaN                             NaN   \n",
       "0                        0.732001                        0.118243   \n",
       "\n",
       "   perf_grp_false negative rate_1  perf_grp_selection rate_0  \\\n",
       "0                             NaN                        NaN   \n",
       "0                        0.009737                   0.881451   \n",
       "0                             NaN                        NaN   \n",
       "0                        0.049015                   0.731305   \n",
       "\n",
       "   perf_grp_selection rate_1  perf_grp_count_0  perf_grp_count_1  \n",
       "0                        NaN               NaN               NaN  \n",
       "0                   0.929507           20540.0           69170.0  \n",
       "0                        NaN               NaN               NaN  \n",
       "0                   0.760937           20540.0           69170.0  \n",
       "\n",
       "[4 rows x 50 columns]"
      ]
     },
     "execution_count": 79,
     "metadata": {},
     "output_type": "execute_result"
    }
   ],
   "source": [
    "final_output = universe_analysis.generate_final_output(\n",
    "    y_pred_prob=probs_test,\n",
    "    y_test=y_true,\n",
    "    org_test=org_test,\n",
    "    filter_data=filter_sub_universe_data,\n",
    "    cp_metrics_df=cp_metrics_df,\n",
    "    save=True,\n",
    ")\n",
    "final_output"
   ]
  },
  {
   "cell_type": "code",
   "execution_count": null,
   "id": "721ff514-cb11-46f8-b6fc-50392f74b5cb",
   "metadata": {
    "papermill": {
     "duration": 0.031587,
     "end_time": "2025-07-30T19:46:31.362399",
     "exception": false,
     "start_time": "2025-07-30T19:46:31.330812",
     "status": "completed"
    },
    "tags": []
   },
   "outputs": [],
   "source": []
  }
 ],
 "metadata": {
  "celltoolbar": "Tags",
  "kernelspec": {
   "display_name": "Python (CMA Fairness)",
   "language": "python",
   "name": "cma_fair_env"
  },
  "language_info": {
   "codemirror_mode": {
    "name": "ipython",
    "version": 3
   },
   "file_extension": ".py",
   "mimetype": "text/x-python",
   "name": "python",
   "nbconvert_exporter": "python",
   "pygments_lexer": "ipython3",
   "version": "3.10.12"
  },
  "papermill": {
   "default_parameters": {},
   "duration": 62.082283,
   "end_time": "2025-07-30T19:46:32.203389",
   "environment_variables": {},
   "exception": null,
   "input_path": "universe_analysis.ipynb",
   "output_path": "output/runs/13/notebooks/m_13-2d16c60d03d38e12b7f8b53c6c0ec18a.ipynb",
   "parameters": {
    "output_dir": "output",
    "run_no": "13",
    "seed": "2023",
    "universe": "{\"cutoff\": [\"quantile_0.1\", \"quantile_0.25\"], \"eval_fairness_grouping\": [\"majority-minority\", \"nationality-all\"], \"exclude_features\": \"nationality\", \"exclude_subgroups\": \"drop-non-german\", \"model\": \"rf\", \"scale\": \"scale\", \"training_size\": \"25k\", \"training_year\": \"2014\"}",
    "universe_id": "2d16c60d03d38e12b7f8b53c6c0ec18a"
   },
   "start_time": "2025-07-30T19:45:30.121106",
   "version": "2.6.0"
  }
 },
 "nbformat": 4,
 "nbformat_minor": 5
}