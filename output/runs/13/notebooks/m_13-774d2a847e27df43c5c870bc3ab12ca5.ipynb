{
 "cells": [
  {
   "cell_type": "code",
   "execution_count": 1,
   "id": "f159f837-637b-42ba-96b5-ec9a68c44524",
   "metadata": {
    "execution": {
     "iopub.execute_input": "2025-07-30T19:45:33.907542Z",
     "iopub.status.busy": "2025-07-30T19:45:33.907078Z",
     "iopub.status.idle": "2025-07-30T19:45:33.921677Z",
     "shell.execute_reply": "2025-07-30T19:45:33.920467Z"
    },
    "papermill": {
     "duration": 0.037114,
     "end_time": "2025-07-30T19:45:33.923520",
     "exception": false,
     "start_time": "2025-07-30T19:45:33.886406",
     "status": "completed"
    },
    "tags": []
   },
   "outputs": [
    {
     "name": "stdout",
     "output_type": "stream",
     "text": [
      "/dss/dsshome1/0C/ra93lal2/cma/CMA_Fairness_v2\n"
     ]
    },
    {
     "name": "stderr",
     "output_type": "stream",
     "text": [
      "/dss/dsshome1/0C/ra93lal2/.local/share/virtualenvs/CMA_Fairness_v2-3j10GkSs/lib/python3.10/site-packages/IPython/core/magics/osm.py:393: UserWarning: This is now an optional IPython functionality, using bookmarks requires you to install the `pickleshare` library.\n",
      "  bkms = self.shell.db.get('bookmarks', {})\n",
      "/dss/dsshome1/0C/ra93lal2/.local/share/virtualenvs/CMA_Fairness_v2-3j10GkSs/lib/python3.10/site-packages/IPython/core/magics/osm.py:417: UserWarning: This is now an optional IPython functionality, setting dhist requires you to install the `pickleshare` library.\n",
      "  self.shell.db['dhist'] = compress_dhist(dhist)[-100:]\n"
     ]
    }
   ],
   "source": [
    "%cd ~/cma/CMA_Fairness_v2"
   ]
  },
  {
   "cell_type": "markdown",
   "id": "de2603b9",
   "metadata": {
    "papermill": {
     "duration": 0.021742,
     "end_time": "2025-07-30T19:45:33.970343",
     "exception": false,
     "start_time": "2025-07-30T19:45:33.948601",
     "status": "completed"
    },
    "tags": []
   },
   "source": [
    "The following cell holds the definition of our parameters, these values can be overriden by rendering the with e.g. the following command:\n",
    "\n",
    "papermill -p alpha 0.2 -p ratio 0.3 universe_analysis.ipynb output/test_run.ipynb"
   ]
  },
  {
   "cell_type": "code",
   "execution_count": 2,
   "id": "a80968a0-40bb-4fa9-85ef-2d5eefb01975",
   "metadata": {
    "execution": {
     "iopub.execute_input": "2025-07-30T19:45:34.010414Z",
     "iopub.status.busy": "2025-07-30T19:45:34.009941Z",
     "iopub.status.idle": "2025-07-30T19:45:34.016556Z",
     "shell.execute_reply": "2025-07-30T19:45:34.015290Z"
    },
    "papermill": {
     "duration": 0.026555,
     "end_time": "2025-07-30T19:45:34.018556",
     "exception": false,
     "start_time": "2025-07-30T19:45:33.992001",
     "status": "completed"
    },
    "tags": []
   },
   "outputs": [
    {
     "name": "stdout",
     "output_type": "stream",
     "text": [
      "Current working directory: /dss/dsshome1/0C/ra93lal2/cma/CMA_Fairness_v2\n"
     ]
    }
   ],
   "source": [
    "import os\n",
    "print(\"Current working directory:\", os.getcwd())"
   ]
  },
  {
   "cell_type": "code",
   "execution_count": 3,
   "id": "2dce4c03",
   "metadata": {
    "execution": {
     "iopub.execute_input": "2025-07-30T19:45:34.060693Z",
     "iopub.status.busy": "2025-07-30T19:45:34.060217Z",
     "iopub.status.idle": "2025-07-30T19:45:34.067502Z",
     "shell.execute_reply": "2025-07-30T19:45:34.066384Z"
    },
    "papermill": {
     "duration": 0.028909,
     "end_time": "2025-07-30T19:45:34.069458",
     "exception": false,
     "start_time": "2025-07-30T19:45:34.040549",
     "status": "completed"
    },
    "tags": [
     "parameters"
    ]
   },
   "outputs": [],
   "source": [
    "run_no = 0\n",
    "universe_id = \"test\"\n",
    "universe = {\n",
    "    \"training_size\": \"25k\", # \"25k\", \"5k\", \"1k\"\n",
    "    \"training_year\": \"2014\", # \"2014\", \"2012_14\", \"2010_14\"\n",
    "    \"scale\": \"scale\", # \"scale\", \"do-not-scale\",\n",
    "    #\"stratify_split\": \"target\", # \"none\", \"target\", \"protected-attribute\", \"both\",\n",
    "    \"model\": \"elasticnet\", # \"logreg\", \"penalized_logreg\", \"rf\", \"gbm\", \"elasticnet\"\n",
    "    \"cutoff\": [\"quantile_0.15\", \"quantile_0.30\"],\n",
    "    \"exclude_features\": \"age\", # \"none\", \"nationality\", \"sex\", \"nationality-sex\", \"age\"\n",
    "    \"exclude_subgroups\": \"keep-all\", # \"keep-all\", \"drop-non-german\"\n",
    "    \"eval_fairness_grouping\": [\"majority-minority\", \"nationality-all\"]\n",
    "}\n",
    "\n",
    "output_dir=\"./output\"\n",
    "seed=0"
   ]
  },
  {
   "cell_type": "code",
   "execution_count": 4,
   "id": "0020b1b9",
   "metadata": {
    "execution": {
     "iopub.execute_input": "2025-07-30T19:45:34.111369Z",
     "iopub.status.busy": "2025-07-30T19:45:34.110899Z",
     "iopub.status.idle": "2025-07-30T19:45:34.116582Z",
     "shell.execute_reply": "2025-07-30T19:45:34.115565Z"
    },
    "papermill": {
     "duration": 0.029097,
     "end_time": "2025-07-30T19:45:34.119468",
     "exception": false,
     "start_time": "2025-07-30T19:45:34.090371",
     "status": "completed"
    },
    "tags": [
     "injected-parameters"
    ]
   },
   "outputs": [],
   "source": [
    "# Parameters\n",
    "universe_id = \"774d2a847e27df43c5c870bc3ab12ca5\"\n",
    "run_no = \"13\"\n",
    "universe = \"{\\\"cutoff\\\": [\\\"quantile_0.1\\\", \\\"quantile_0.25\\\"], \\\"eval_fairness_grouping\\\": [\\\"majority-minority\\\", \\\"nationality-all\\\"], \\\"exclude_features\\\": \\\"sex\\\", \\\"exclude_subgroups\\\": \\\"drop-non-german\\\", \\\"model\\\": \\\"rf\\\", \\\"scale\\\": \\\"scale\\\", \\\"training_size\\\": \\\"25k\\\", \\\"training_year\\\": \\\"2014\\\"}\"\n",
    "output_dir = \"output\"\n",
    "seed = \"2023\"\n"
   ]
  },
  {
   "cell_type": "code",
   "execution_count": 5,
   "id": "1650acaf",
   "metadata": {
    "execution": {
     "iopub.execute_input": "2025-07-30T19:45:34.160017Z",
     "iopub.status.busy": "2025-07-30T19:45:34.159548Z",
     "iopub.status.idle": "2025-07-30T19:45:34.164875Z",
     "shell.execute_reply": "2025-07-30T19:45:34.163765Z"
    },
    "papermill": {
     "duration": 0.027189,
     "end_time": "2025-07-30T19:45:34.166688",
     "exception": false,
     "start_time": "2025-07-30T19:45:34.139499",
     "status": "completed"
    },
    "tags": []
   },
   "outputs": [],
   "source": [
    "import json\n",
    "# Parse universe into dict if it is passed as a string\n",
    "if isinstance(universe, str):\n",
    "    universe = json.loads(universe)"
   ]
  },
  {
   "cell_type": "code",
   "execution_count": 6,
   "id": "16620c48",
   "metadata": {
    "execution": {
     "iopub.execute_input": "2025-07-30T19:45:34.207447Z",
     "iopub.status.busy": "2025-07-30T19:45:34.206940Z",
     "iopub.status.idle": "2025-07-30T19:45:34.254731Z",
     "shell.execute_reply": "2025-07-30T19:45:34.253735Z"
    },
    "papermill": {
     "duration": 0.070432,
     "end_time": "2025-07-30T19:45:34.256763",
     "exception": false,
     "start_time": "2025-07-30T19:45:34.186331",
     "status": "completed"
    },
    "tags": []
   },
   "outputs": [],
   "source": [
    "# Auto-reload the custom package\n",
    "%load_ext autoreload\n",
    "%autoreload 1\n",
    "%aimport fairness_multiverse"
   ]
  },
  {
   "cell_type": "code",
   "execution_count": 7,
   "id": "01c5c9f3",
   "metadata": {
    "execution": {
     "iopub.execute_input": "2025-07-30T19:45:34.302536Z",
     "iopub.status.busy": "2025-07-30T19:45:34.301790Z",
     "iopub.status.idle": "2025-07-30T19:45:35.930641Z",
     "shell.execute_reply": "2025-07-30T19:45:35.929820Z"
    },
    "papermill": {
     "duration": 1.653233,
     "end_time": "2025-07-30T19:45:35.932185",
     "exception": false,
     "start_time": "2025-07-30T19:45:34.278952",
     "status": "completed"
    },
    "tags": []
   },
   "outputs": [],
   "source": [
    "from fairness_multiverse.universe import UniverseAnalysis\n",
    "\n",
    "universe_analysis = UniverseAnalysis(\n",
    "    run_no = run_no,\n",
    "    universe_id = universe_id,\n",
    "    universe = universe,\n",
    "    output_dir=output_dir,\n",
    ")"
   ]
  },
  {
   "cell_type": "code",
   "execution_count": 8,
   "id": "106241f5",
   "metadata": {
    "execution": {
     "iopub.execute_input": "2025-07-30T19:45:35.956431Z",
     "iopub.status.busy": "2025-07-30T19:45:35.955909Z",
     "iopub.status.idle": "2025-07-30T19:45:35.962089Z",
     "shell.execute_reply": "2025-07-30T19:45:35.961005Z"
    },
    "papermill": {
     "duration": 0.019947,
     "end_time": "2025-07-30T19:45:35.963894",
     "exception": false,
     "start_time": "2025-07-30T19:45:35.943947",
     "status": "completed"
    },
    "tags": []
   },
   "outputs": [
    {
     "name": "stdout",
     "output_type": "stream",
     "text": [
      "Using Seed: 2023\n"
     ]
    }
   ],
   "source": [
    "import numpy as np\n",
    "parsed_seed = int(seed)\n",
    "np.random.seed(parsed_seed)\n",
    "print(f\"Using Seed: {parsed_seed}\")"
   ]
  },
  {
   "cell_type": "markdown",
   "id": "e0ebdc57",
   "metadata": {
    "papermill": {
     "duration": 0.020288,
     "end_time": "2025-07-30T19:45:36.005452",
     "exception": false,
     "start_time": "2025-07-30T19:45:35.985164",
     "status": "completed"
    },
    "tags": []
   },
   "source": [
    "# Loading Data"
   ]
  },
  {
   "cell_type": "markdown",
   "id": "681925a3",
   "metadata": {
    "papermill": {
     "duration": 0.02041,
     "end_time": "2025-07-30T19:45:36.046165",
     "exception": false,
     "start_time": "2025-07-30T19:45:36.025755",
     "status": "completed"
    },
    "tags": []
   },
   "source": [
    "Load siab_train, siab_test, siab_calib and/or \n",
    "load siab_train_features, siab_train_labels"
   ]
  },
  {
   "cell_type": "code",
   "execution_count": 9,
   "id": "f0496b8a",
   "metadata": {
    "execution": {
     "iopub.execute_input": "2025-07-30T19:45:36.089288Z",
     "iopub.status.busy": "2025-07-30T19:45:36.088537Z",
     "iopub.status.idle": "2025-07-30T19:45:51.848911Z",
     "shell.execute_reply": "2025-07-30T19:45:51.847632Z"
    },
    "papermill": {
     "duration": 15.784088,
     "end_time": "2025-07-30T19:45:51.851003",
     "exception": false,
     "start_time": "2025-07-30T19:45:36.066915",
     "status": "completed"
    },
    "tags": []
   },
   "outputs": [
    {
     "name": "stdout",
     "output_type": "stream",
     "text": [
      "Loading SIAB data from cache: data/siab_cached.csv.gz\n"
     ]
    },
    {
     "name": "stdout",
     "output_type": "stream",
     "text": [
      "(643690, 164)\n"
     ]
    }
   ],
   "source": [
    "from pathlib import Path\n",
    "import pandas as pd\n",
    "\n",
    "# File paths\n",
    "raw_file = Path(\"data/raw/siab.csv\")\n",
    "cache_file = Path(\"data/siab_cached.csv.gz\")\n",
    "\n",
    "# Ensure cache directory exists\n",
    "cache_file.parent.mkdir(parents=True, exist_ok=True)\n",
    "\n",
    "# Load with simple caching\n",
    "if cache_file.exists():\n",
    "    print(f\"Loading SIAB data from cache: {cache_file}\")\n",
    "    siab = pd.read_csv(cache_file, compression='gzip')\n",
    "else:\n",
    "    print(f\"Cache not found. Reading raw SIAB data: {raw_file}\")\n",
    "    siab = pd.read_csv(raw_file)\n",
    "    siab.to_csv(cache_file, index=False, compression='gzip')\n",
    "    print(f\"Cached SIAB data to: {cache_file}\")\n",
    "\n",
    "# Now use `siab` DataFrame as needed\n",
    "print(siab.shape)"
   ]
  },
  {
   "cell_type": "code",
   "execution_count": 10,
   "id": "db0ca512-5f53-4dba-abdb-a2888bca41ba",
   "metadata": {
    "execution": {
     "iopub.execute_input": "2025-07-30T19:45:51.899995Z",
     "iopub.status.busy": "2025-07-30T19:45:51.899416Z",
     "iopub.status.idle": "2025-07-30T19:45:51.905497Z",
     "shell.execute_reply": "2025-07-30T19:45:51.904405Z"
    },
    "papermill": {
     "duration": 0.035065,
     "end_time": "2025-07-30T19:45:51.907556",
     "exception": false,
     "start_time": "2025-07-30T19:45:51.872491",
     "status": "completed"
    },
    "tags": []
   },
   "outputs": [],
   "source": [
    "#siab"
   ]
  },
  {
   "cell_type": "code",
   "execution_count": 11,
   "id": "a0edb063",
   "metadata": {
    "execution": {
     "iopub.execute_input": "2025-07-30T19:45:51.966795Z",
     "iopub.status.busy": "2025-07-30T19:45:51.966410Z",
     "iopub.status.idle": "2025-07-30T19:45:51.970644Z",
     "shell.execute_reply": "2025-07-30T19:45:51.969926Z"
    },
    "papermill": {
     "duration": 0.031664,
     "end_time": "2025-07-30T19:45:51.972246",
     "exception": false,
     "start_time": "2025-07-30T19:45:51.940582",
     "status": "completed"
    },
    "tags": []
   },
   "outputs": [],
   "source": [
    "#import pandas as pd\n",
    "#\n",
    "#X_train = pd.read_csv(\"./data/X_train.csv\")\n",
    "#y_train = pd.read_csv(\"./data/y_train.csv\")"
   ]
  },
  {
   "cell_type": "code",
   "execution_count": 12,
   "id": "63d08085",
   "metadata": {
    "execution": {
     "iopub.execute_input": "2025-07-30T19:45:52.021057Z",
     "iopub.status.busy": "2025-07-30T19:45:52.020636Z",
     "iopub.status.idle": "2025-07-30T19:45:52.025609Z",
     "shell.execute_reply": "2025-07-30T19:45:52.024659Z"
    },
    "papermill": {
     "duration": 0.031915,
     "end_time": "2025-07-30T19:45:52.027346",
     "exception": false,
     "start_time": "2025-07-30T19:45:51.995431",
     "status": "completed"
    },
    "tags": []
   },
   "outputs": [],
   "source": [
    "#X_test = pd.read_csv(\"./data/X_test.csv\")\n",
    "#y_true = pd.read_csv(\"./data/y_test.csv\")"
   ]
  },
  {
   "cell_type": "code",
   "execution_count": 13,
   "id": "98a8d0fa-1d3d-4ed8-bb2c-281470e24add",
   "metadata": {
    "execution": {
     "iopub.execute_input": "2025-07-30T19:45:52.097900Z",
     "iopub.status.busy": "2025-07-30T19:45:52.097387Z",
     "iopub.status.idle": "2025-07-30T19:45:52.103247Z",
     "shell.execute_reply": "2025-07-30T19:45:52.102032Z"
    },
    "papermill": {
     "duration": 0.056331,
     "end_time": "2025-07-30T19:45:52.105012",
     "exception": false,
     "start_time": "2025-07-30T19:45:52.048681",
     "status": "completed"
    },
    "tags": []
   },
   "outputs": [],
   "source": [
    "# Calibration data for conformal\n",
    "#X_calib = pd.read_csv(\"./data/X_calib.csv\")\n",
    "#y_calib = pd.read_csv(\"./data/y_calib.csv\")"
   ]
  },
  {
   "cell_type": "markdown",
   "id": "997051c5-15bd-4b69-9786-c3001a3ce484",
   "metadata": {
    "papermill": {
     "duration": 0.040908,
     "end_time": "2025-07-30T19:45:52.167864",
     "exception": false,
     "start_time": "2025-07-30T19:45:52.126956",
     "status": "completed"
    },
    "tags": []
   },
   "source": [
    "# Splitting Data and Setting Training Data Size"
   ]
  },
  {
   "cell_type": "code",
   "execution_count": 14,
   "id": "e993b61f-042d-41a6-8c81-f55681f86335",
   "metadata": {
    "execution": {
     "iopub.execute_input": "2025-07-30T19:45:52.246534Z",
     "iopub.status.busy": "2025-07-30T19:45:52.246010Z",
     "iopub.status.idle": "2025-07-30T19:45:52.260332Z",
     "shell.execute_reply": "2025-07-30T19:45:52.259211Z"
    },
    "papermill": {
     "duration": 0.070826,
     "end_time": "2025-07-30T19:45:52.261921",
     "exception": false,
     "start_time": "2025-07-30T19:45:52.191095",
     "status": "completed"
    },
    "tags": []
   },
   "outputs": [],
   "source": [
    "def sample_by_year_size(df,\n",
    "                        training_year: str,\n",
    "                        training_size: str,\n",
    "                        random_state: int = 42):\n",
    "    # --- parse training_year into a list of int years ---\n",
    "    if \"_\" in training_year:\n",
    "        start_str, end_str = training_year.split(\"_\", 1)\n",
    "        start = int(start_str)\n",
    "        end   = int(end_str) if len(end_str) == 4 else (int(end_str) + (start // 100)*100)\n",
    "        years = list(range(start, end + 1))\n",
    "    else:\n",
    "        years = [int(training_year)]\n",
    "\n",
    "    df = df[df[\"year\"].isin(years)].reset_index(drop=True)\n",
    "\n",
    "    # --- map training_size to total number of samples ---\n",
    "    total_map = {\"25k\": 25_000, \"5k\": 5_000, \"1k\": 1_000}\n",
    "    if training_size not in total_map:\n",
    "        return df  # e.g. \"all\"\n",
    "\n",
    "    total_samples = total_map[training_size]\n",
    "    n_years       = len(years)\n",
    "    base          = total_samples // n_years\n",
    "    remainder     = total_samples % n_years\n",
    "\n",
    "    # --- build a dict: year -> how many to sample ---\n",
    "    # give +1 to the first `remainder` years in ascending order\n",
    "    quotas = {\n",
    "        year: base + (1 if idx < remainder else 0)\n",
    "        for idx, year in enumerate(sorted(years))\n",
    "    }\n",
    "\n",
    "    # --- sample per‐year according to the quota dict ---\n",
    "    sampled = (\n",
    "        df\n",
    "        .groupby(\"year\", group_keys=False)\n",
    "        .apply(lambda grp: grp.sample(\n",
    "            n=min(len(grp), quotas[grp.name]),\n",
    "            random_state=random_state))\n",
    "        .reset_index(drop=True)\n",
    "    )\n",
    "\n",
    "    return sampled"
   ]
  },
  {
   "cell_type": "code",
   "execution_count": 15,
   "id": "c0ccd338-0e02-41f3-a09d-f56f9266e3fb",
   "metadata": {
    "execution": {
     "iopub.execute_input": "2025-07-30T19:45:52.355304Z",
     "iopub.status.busy": "2025-07-30T19:45:52.354891Z",
     "iopub.status.idle": "2025-07-30T19:45:52.368536Z",
     "shell.execute_reply": "2025-07-30T19:45:52.367341Z"
    },
    "papermill": {
     "duration": 0.061338,
     "end_time": "2025-07-30T19:45:52.370159",
     "exception": false,
     "start_time": "2025-07-30T19:45:52.308821",
     "status": "completed"
    },
    "tags": []
   },
   "outputs": [
    {
     "data": {
      "text/plain": [
       "'25k'"
      ]
     },
     "execution_count": 15,
     "metadata": {},
     "output_type": "execute_result"
    }
   ],
   "source": [
    "universe[\"training_size\"]"
   ]
  },
  {
   "cell_type": "code",
   "execution_count": 16,
   "id": "ca707fd7-8047-4acd-bfa5-66248fbbf8e6",
   "metadata": {
    "execution": {
     "iopub.execute_input": "2025-07-30T19:45:52.442901Z",
     "iopub.status.busy": "2025-07-30T19:45:52.442468Z",
     "iopub.status.idle": "2025-07-30T19:45:52.449725Z",
     "shell.execute_reply": "2025-07-30T19:45:52.448741Z"
    },
    "papermill": {
     "duration": 0.032022,
     "end_time": "2025-07-30T19:45:52.452164",
     "exception": false,
     "start_time": "2025-07-30T19:45:52.420142",
     "status": "completed"
    },
    "tags": []
   },
   "outputs": [
    {
     "data": {
      "text/plain": [
       "'2014'"
      ]
     },
     "execution_count": 16,
     "metadata": {},
     "output_type": "execute_result"
    }
   ],
   "source": [
    "universe[\"training_year\"]"
   ]
  },
  {
   "cell_type": "code",
   "execution_count": 17,
   "id": "aea9c6ef-6f46-42c8-85eb-5a62025c1508",
   "metadata": {
    "execution": {
     "iopub.execute_input": "2025-07-30T19:45:52.546417Z",
     "iopub.status.busy": "2025-07-30T19:45:52.545935Z",
     "iopub.status.idle": "2025-07-30T19:45:52.952114Z",
     "shell.execute_reply": "2025-07-30T19:45:52.950897Z"
    },
    "papermill": {
     "duration": 0.437556,
     "end_time": "2025-07-30T19:45:52.953846",
     "exception": false,
     "start_time": "2025-07-30T19:45:52.516290",
     "status": "completed"
    },
    "tags": []
   },
   "outputs": [],
   "source": [
    "siab_train = sample_by_year_size(siab,\n",
    "                               training_year=universe[\"training_year\"],\n",
    "                               training_size=universe[\"training_size\"])"
   ]
  },
  {
   "cell_type": "code",
   "execution_count": 18,
   "id": "8d3afb32-789d-442c-8d5d-9f5aa8dd2eed",
   "metadata": {
    "execution": {
     "iopub.execute_input": "2025-07-30T19:45:53.009313Z",
     "iopub.status.busy": "2025-07-30T19:45:53.008276Z",
     "iopub.status.idle": "2025-07-30T19:45:53.017294Z",
     "shell.execute_reply": "2025-07-30T19:45:53.016095Z"
    },
    "papermill": {
     "duration": 0.042447,
     "end_time": "2025-07-30T19:45:53.019297",
     "exception": false,
     "start_time": "2025-07-30T19:45:52.976850",
     "status": "completed"
    },
    "tags": []
   },
   "outputs": [
    {
     "data": {
      "text/plain": [
       "(25000, 164)"
      ]
     },
     "execution_count": 18,
     "metadata": {},
     "output_type": "execute_result"
    }
   ],
   "source": [
    "siab_train.shape"
   ]
  },
  {
   "cell_type": "code",
   "execution_count": 19,
   "id": "d582db68-1a4c-47fb-84fc-08518dc1975a",
   "metadata": {
    "execution": {
     "iopub.execute_input": "2025-07-30T19:45:53.075101Z",
     "iopub.status.busy": "2025-07-30T19:45:53.073651Z",
     "iopub.status.idle": "2025-07-30T19:45:53.088601Z",
     "shell.execute_reply": "2025-07-30T19:45:53.086942Z"
    },
    "papermill": {
     "duration": 0.044642,
     "end_time": "2025-07-30T19:45:53.090628",
     "exception": false,
     "start_time": "2025-07-30T19:45:53.045986",
     "status": "completed"
    },
    "tags": []
   },
   "outputs": [
    {
     "data": {
      "text/plain": [
       "year\n",
       "2014    25000\n",
       "dtype: int64"
      ]
     },
     "metadata": {},
     "output_type": "display_data"
    }
   ],
   "source": [
    "display(siab_train.groupby(\"year\").size())"
   ]
  },
  {
   "cell_type": "code",
   "execution_count": 20,
   "id": "a561edb4-d032-42cb-8256-22eac1111c64",
   "metadata": {
    "execution": {
     "iopub.execute_input": "2025-07-30T19:45:53.140758Z",
     "iopub.status.busy": "2025-07-30T19:45:53.140186Z",
     "iopub.status.idle": "2025-07-30T19:45:53.470461Z",
     "shell.execute_reply": "2025-07-30T19:45:53.469353Z"
    },
    "papermill": {
     "duration": 0.356305,
     "end_time": "2025-07-30T19:45:53.472403",
     "exception": false,
     "start_time": "2025-07-30T19:45:53.116098",
     "status": "completed"
    },
    "tags": []
   },
   "outputs": [],
   "source": [
    "#siab_train = siab_s[siab_s.year < 2015]\n",
    "siab_calib = siab[siab.year == 2015]\n",
    "siab_test = siab[siab.year == 2016]"
   ]
  },
  {
   "cell_type": "code",
   "execution_count": 21,
   "id": "472de16f-c3db-4916-846b-1f0de9cf1746",
   "metadata": {
    "execution": {
     "iopub.execute_input": "2025-07-30T19:45:53.589655Z",
     "iopub.status.busy": "2025-07-30T19:45:53.589089Z",
     "iopub.status.idle": "2025-07-30T19:45:53.620174Z",
     "shell.execute_reply": "2025-07-30T19:45:53.605530Z"
    },
    "papermill": {
     "duration": 0.111888,
     "end_time": "2025-07-30T19:45:53.622847",
     "exception": false,
     "start_time": "2025-07-30T19:45:53.510959",
     "status": "completed"
    },
    "tags": []
   },
   "outputs": [],
   "source": [
    "X_train = siab_train.iloc[:,4:164]\n",
    "y_train = siab_train.iloc[:, [3]]"
   ]
  },
  {
   "cell_type": "code",
   "execution_count": 22,
   "id": "828c96af-f43a-4ed6-ba47-8ac73a47d56c",
   "metadata": {
    "execution": {
     "iopub.execute_input": "2025-07-30T19:45:53.677729Z",
     "iopub.status.busy": "2025-07-30T19:45:53.677316Z",
     "iopub.status.idle": "2025-07-30T19:45:53.763845Z",
     "shell.execute_reply": "2025-07-30T19:45:53.762816Z"
    },
    "papermill": {
     "duration": 0.116321,
     "end_time": "2025-07-30T19:45:53.765748",
     "exception": false,
     "start_time": "2025-07-30T19:45:53.649427",
     "status": "completed"
    },
    "tags": []
   },
   "outputs": [],
   "source": [
    "X_calib = siab_calib.iloc[:,4:164]\n",
    "y_calib = siab_calib.iloc[:, [3]]"
   ]
  },
  {
   "cell_type": "code",
   "execution_count": 23,
   "id": "c34be9c3-6bd6-476e-acd3-845840e303be",
   "metadata": {
    "execution": {
     "iopub.execute_input": "2025-07-30T19:45:53.858428Z",
     "iopub.status.busy": "2025-07-30T19:45:53.857911Z",
     "iopub.status.idle": "2025-07-30T19:45:53.963839Z",
     "shell.execute_reply": "2025-07-30T19:45:53.962717Z"
    },
    "papermill": {
     "duration": 0.153407,
     "end_time": "2025-07-30T19:45:53.965721",
     "exception": false,
     "start_time": "2025-07-30T19:45:53.812314",
     "status": "completed"
    },
    "tags": []
   },
   "outputs": [],
   "source": [
    "X_test = siab_test.iloc[:,4:164]\n",
    "y_true = siab_test.iloc[:, [3]]"
   ]
  },
  {
   "cell_type": "markdown",
   "id": "9901737e-04df-44f0-9100-f5ad144ed040",
   "metadata": {
    "papermill": {
     "duration": 0.046086,
     "end_time": "2025-07-30T19:45:54.053434",
     "exception": false,
     "start_time": "2025-07-30T19:45:54.007348",
     "status": "completed"
    },
    "tags": []
   },
   "source": [
    "# Splitting Data and Setting Training Data Size OLD VERSION"
   ]
  },
  {
   "cell_type": "code",
   "execution_count": 24,
   "id": "acbc8f7d-8fc8-4e86-8c59-5dcb0f58384b",
   "metadata": {
    "execution": {
     "iopub.execute_input": "2025-07-30T19:45:54.146965Z",
     "iopub.status.busy": "2025-07-30T19:45:54.146525Z",
     "iopub.status.idle": "2025-07-30T19:45:54.152561Z",
     "shell.execute_reply": "2025-07-30T19:45:54.151501Z"
    },
    "papermill": {
     "duration": 0.07047,
     "end_time": "2025-07-30T19:45:54.154371",
     "exception": false,
     "start_time": "2025-07-30T19:45:54.083901",
     "status": "completed"
    },
    "tags": []
   },
   "outputs": [],
   "source": [
    "#def sample_by_year(df, training_size, random_state=42):\n",
    "#    if training_size == \"2014\":\n",
    "#        return df[df[\"year\"] == 2014].reset_index(drop=True)\n",
    "#    \n",
    "#    size_map = {\n",
    "#        \"25k\": 5000,\n",
    "#        \"5k\": 1000,\n",
    "#        \"1k\": 200\n",
    "#    }\n",
    "#\n",
    "#    if training_size not in size_map:\n",
    "#        return df.reset_index(drop=True)  # use all data\n",
    "#\n",
    "#    n_per_year = size_map[training_size]\n",
    "#    grouped = df.groupby(\"year\")\n",
    "#    sampled = grouped.apply(lambda x: x.sample(n=min(n_per_year, len(x)), random_state=random_state))\n",
    "#    return sampled.reset_index(drop=True)"
   ]
  },
  {
   "cell_type": "code",
   "execution_count": 25,
   "id": "6d931f52-beaf-43ff-9e78-9d44a448d54e",
   "metadata": {
    "execution": {
     "iopub.execute_input": "2025-07-30T19:45:54.217909Z",
     "iopub.status.busy": "2025-07-30T19:45:54.217485Z",
     "iopub.status.idle": "2025-07-30T19:45:54.223190Z",
     "shell.execute_reply": "2025-07-30T19:45:54.222063Z"
    },
    "papermill": {
     "duration": 0.047703,
     "end_time": "2025-07-30T19:45:54.225637",
     "exception": false,
     "start_time": "2025-07-30T19:45:54.177934",
     "status": "completed"
    },
    "tags": []
   },
   "outputs": [],
   "source": [
    "#siab_s = sample_by_year(siab, universe[\"training_size\"])"
   ]
  },
  {
   "cell_type": "code",
   "execution_count": 26,
   "id": "5db0a40e-a4e2-4920-be85-b12ae061d70d",
   "metadata": {
    "execution": {
     "iopub.execute_input": "2025-07-30T19:45:54.279337Z",
     "iopub.status.busy": "2025-07-30T19:45:54.278263Z",
     "iopub.status.idle": "2025-07-30T19:45:54.284625Z",
     "shell.execute_reply": "2025-07-30T19:45:54.283417Z"
    },
    "papermill": {
     "duration": 0.037297,
     "end_time": "2025-07-30T19:45:54.286922",
     "exception": false,
     "start_time": "2025-07-30T19:45:54.249625",
     "status": "completed"
    },
    "tags": []
   },
   "outputs": [],
   "source": [
    "#display(siab_s.groupby(\"year\").size())"
   ]
  },
  {
   "cell_type": "code",
   "execution_count": 27,
   "id": "e6c733c5",
   "metadata": {
    "execution": {
     "iopub.execute_input": "2025-07-30T19:45:54.383380Z",
     "iopub.status.busy": "2025-07-30T19:45:54.383000Z",
     "iopub.status.idle": "2025-07-30T19:45:54.491175Z",
     "shell.execute_reply": "2025-07-30T19:45:54.490189Z"
    },
    "papermill": {
     "duration": 0.156356,
     "end_time": "2025-07-30T19:45:54.493084",
     "exception": false,
     "start_time": "2025-07-30T19:45:54.336728",
     "status": "completed"
    },
    "tags": []
   },
   "outputs": [],
   "source": [
    "# Auxiliary data needed downstream in the pipeline\n",
    "\n",
    "org_train = X_train.copy()\n",
    "org_test = X_test.copy()\n",
    "org_calib = X_calib.copy()"
   ]
  },
  {
   "cell_type": "code",
   "execution_count": 28,
   "id": "1466abac-c6da-4492-a62f-4240ae3783af",
   "metadata": {
    "execution": {
     "iopub.execute_input": "2025-07-30T19:45:54.678885Z",
     "iopub.status.busy": "2025-07-30T19:45:54.677941Z",
     "iopub.status.idle": "2025-07-30T19:45:54.684878Z",
     "shell.execute_reply": "2025-07-30T19:45:54.683927Z"
    },
    "papermill": {
     "duration": 0.164094,
     "end_time": "2025-07-30T19:45:54.687879",
     "exception": false,
     "start_time": "2025-07-30T19:45:54.523785",
     "status": "completed"
    },
    "tags": []
   },
   "outputs": [],
   "source": [
    "# put in other script?\n",
    "# Group sizes\n",
    "\n",
    "#def calculate_percentages(df, df_name):\n",
    "#    total_entries = len(df)\n",
    "#\n",
    "#    female_pct = (df['frau1'] == 1).mean() * 100\n",
    "#    non_german_pct = ((df['maxdeutsch1'] == 0) & (df['maxdeutsch.Missing.'] == 0)).mean() * 100\n",
    "#    non_german_male_pct = ((df['frau1'] == 0) & (df['maxdeutsch1'] == 0) & (df['maxdeutsch.Missing.'] == 0)).mean() * 100\n",
    "#    non_german_female_pct = ((df['frau1'] == 1) & (df['maxdeutsch1'] == 0) & (df['maxdeutsch.Missing.'] == 0)).mean() * 100\n",
    "#\n",
    "#    print(f\"--- {df_name} ---\")\n",
    "#    print(f\"Female: {female_pct:.2f}%\")\n",
    "#    print(f\"Non-German: {non_german_pct:.2f}%\")\n",
    "#    print(f\"Non-German Male: {non_german_male_pct:.2f}%\")\n",
    "#    print(f\"Non-German Female: {non_german_female_pct:.2f}%\\n\")\n",
    "#\n",
    "## Calculate for each DataFrame\n",
    "#calculate_percentages(siab_calib, \"siab_calib\")\n",
    "#calculate_percentages(siab_test, \"siab_test\")\n",
    "#calculate_percentages(siab_train, \"siab_train\")"
   ]
  },
  {
   "cell_type": "markdown",
   "id": "0a4a1b33",
   "metadata": {
    "papermill": {
     "duration": 0.04,
     "end_time": "2025-07-30T19:45:54.776692",
     "exception": false,
     "start_time": "2025-07-30T19:45:54.736692",
     "status": "completed"
    },
    "tags": []
   },
   "source": [
    "# Preprocessing Data"
   ]
  },
  {
   "cell_type": "code",
   "execution_count": 29,
   "id": "ca879031",
   "metadata": {
    "execution": {
     "iopub.execute_input": "2025-07-30T19:45:54.878243Z",
     "iopub.status.busy": "2025-07-30T19:45:54.877798Z",
     "iopub.status.idle": "2025-07-30T19:45:54.884613Z",
     "shell.execute_reply": "2025-07-30T19:45:54.883502Z"
    },
    "papermill": {
     "duration": 0.064853,
     "end_time": "2025-07-30T19:45:54.887742",
     "exception": false,
     "start_time": "2025-07-30T19:45:54.822889",
     "status": "completed"
    },
    "tags": []
   },
   "outputs": [],
   "source": [
    "# EXCLUDE PROTECTED FEATURES\n",
    "# ----------------------\n",
    "# \"exclude_features\": \"none\", # \"nationality\", \"sex\", \"nationality-sex\"\n",
    "\n",
    "excluded_features = universe[\"exclude_features\"].split(\"-\") # split, e.g.: \"nationality-sex\" -> [\"nationality\", \"sex\"]\n",
    "excluded_features_dictionary = {\n",
    "    \"nationality\": [\"maxdeutsch1\", \"maxdeutsch.Missing.\"],\n",
    "    \"sex\": [\"frau1\"],\n",
    "    \"age\": [\"age\"],\n",
    "}\n"
   ]
  },
  {
   "cell_type": "code",
   "execution_count": 30,
   "id": "b745ac60",
   "metadata": {
    "execution": {
     "iopub.execute_input": "2025-07-30T19:45:54.962970Z",
     "iopub.status.busy": "2025-07-30T19:45:54.962424Z",
     "iopub.status.idle": "2025-07-30T19:45:54.969078Z",
     "shell.execute_reply": "2025-07-30T19:45:54.968178Z"
    },
    "papermill": {
     "duration": 0.034807,
     "end_time": "2025-07-30T19:45:54.973465",
     "exception": false,
     "start_time": "2025-07-30T19:45:54.938658",
     "status": "completed"
    },
    "tags": []
   },
   "outputs": [],
   "source": [
    "# Code nice names to column names\n",
    "\n",
    "excluded_features_columns = [\n",
    "    excluded_features_dictionary[f] for f in excluded_features if len(f) > 0 and f != \"none\"\n",
    "]"
   ]
  },
  {
   "cell_type": "code",
   "execution_count": 31,
   "id": "f84f73a2",
   "metadata": {
    "execution": {
     "iopub.execute_input": "2025-07-30T19:45:55.090905Z",
     "iopub.status.busy": "2025-07-30T19:45:55.090514Z",
     "iopub.status.idle": "2025-07-30T19:45:55.098886Z",
     "shell.execute_reply": "2025-07-30T19:45:55.097828Z"
    },
    "papermill": {
     "duration": 0.07401,
     "end_time": "2025-07-30T19:45:55.100445",
     "exception": false,
     "start_time": "2025-07-30T19:45:55.026435",
     "status": "completed"
    },
    "tags": []
   },
   "outputs": [],
   "source": [
    "from utils import flatten_once\n",
    "\n",
    "excluded_features_columns = flatten_once(excluded_features_columns)"
   ]
  },
  {
   "cell_type": "code",
   "execution_count": 32,
   "id": "884dea22",
   "metadata": {
    "execution": {
     "iopub.execute_input": "2025-07-30T19:45:55.227687Z",
     "iopub.status.busy": "2025-07-30T19:45:55.226646Z",
     "iopub.status.idle": "2025-07-30T19:45:55.255775Z",
     "shell.execute_reply": "2025-07-30T19:45:55.254145Z"
    },
    "papermill": {
     "duration": 0.0867,
     "end_time": "2025-07-30T19:45:55.259446",
     "exception": false,
     "start_time": "2025-07-30T19:45:55.172746",
     "status": "completed"
    },
    "tags": []
   },
   "outputs": [
    {
     "name": "stdout",
     "output_type": "stream",
     "text": [
      "Dropping features: ['frau1']\n"
     ]
    }
   ],
   "source": [
    "if len(excluded_features_columns) > 0:\n",
    "    print(f\"Dropping features: {excluded_features_columns}\")\n",
    "    X_train.drop(excluded_features_columns, axis=1, inplace=True)"
   ]
  },
  {
   "cell_type": "code",
   "execution_count": 33,
   "id": "95ab8b16",
   "metadata": {
    "execution": {
     "iopub.execute_input": "2025-07-30T19:45:55.399363Z",
     "iopub.status.busy": "2025-07-30T19:45:55.398965Z",
     "iopub.status.idle": "2025-07-30T19:45:55.490499Z",
     "shell.execute_reply": "2025-07-30T19:45:55.489191Z"
    },
    "papermill": {
     "duration": 0.175341,
     "end_time": "2025-07-30T19:45:55.492693",
     "exception": false,
     "start_time": "2025-07-30T19:45:55.317352",
     "status": "completed"
    },
    "tags": []
   },
   "outputs": [
    {
     "name": "stdout",
     "output_type": "stream",
     "text": [
      "Dropping features: ['frau1']\n"
     ]
    }
   ],
   "source": [
    "if len(excluded_features_columns) > 0:\n",
    "    print(f\"Dropping features: {excluded_features_columns}\")\n",
    "    X_test.drop(excluded_features_columns, axis=1, inplace=True)"
   ]
  },
  {
   "cell_type": "code",
   "execution_count": 34,
   "id": "1853aaf5-fb9f-46cb-a2b5-8ea4ae2237e4",
   "metadata": {
    "execution": {
     "iopub.execute_input": "2025-07-30T19:45:55.618544Z",
     "iopub.status.busy": "2025-07-30T19:45:55.618156Z",
     "iopub.status.idle": "2025-07-30T19:45:55.722753Z",
     "shell.execute_reply": "2025-07-30T19:45:55.721601Z"
    },
    "papermill": {
     "duration": 0.187196,
     "end_time": "2025-07-30T19:45:55.725093",
     "exception": false,
     "start_time": "2025-07-30T19:45:55.537897",
     "status": "completed"
    },
    "tags": []
   },
   "outputs": [
    {
     "name": "stdout",
     "output_type": "stream",
     "text": [
      "Dropping features: ['frau1']\n"
     ]
    }
   ],
   "source": [
    "if len(excluded_features_columns) > 0:\n",
    "    print(f\"Dropping features: {excluded_features_columns}\")\n",
    "    X_calib.drop(excluded_features_columns, axis=1, inplace=True)"
   ]
  },
  {
   "cell_type": "code",
   "execution_count": 35,
   "id": "6727d079-03e5-481e-9d38-292a90b7a0a8",
   "metadata": {
    "execution": {
     "iopub.execute_input": "2025-07-30T19:45:55.905779Z",
     "iopub.status.busy": "2025-07-30T19:45:55.905349Z",
     "iopub.status.idle": "2025-07-30T19:45:55.911004Z",
     "shell.execute_reply": "2025-07-30T19:45:55.909974Z"
    },
    "papermill": {
     "duration": 0.108785,
     "end_time": "2025-07-30T19:45:55.914339",
     "exception": false,
     "start_time": "2025-07-30T19:45:55.805554",
     "status": "completed"
    },
    "tags": []
   },
   "outputs": [],
   "source": [
    "# SPLIT & STRATIFY DATA\n",
    "# ----------------------"
   ]
  },
  {
   "cell_type": "code",
   "execution_count": 36,
   "id": "76c4dc6d",
   "metadata": {
    "execution": {
     "iopub.execute_input": "2025-07-30T19:45:56.132465Z",
     "iopub.status.busy": "2025-07-30T19:45:56.132006Z",
     "iopub.status.idle": "2025-07-30T19:45:56.137773Z",
     "shell.execute_reply": "2025-07-30T19:45:56.136752Z"
    },
    "papermill": {
     "duration": 0.094292,
     "end_time": "2025-07-30T19:45:56.146494",
     "exception": false,
     "start_time": "2025-07-30T19:45:56.052202",
     "status": "completed"
    },
    "tags": []
   },
   "outputs": [],
   "source": [
    "# EXCLUDE CERTAIN SUBGROUPS\n",
    "# ----------------------\n",
    "\n",
    "mode = universe.get(\"exclude_subgroups\", \"keep-all\") \n",
    "# Fetches the exclude_subgroups setting from the universe dict.\n",
    "# Defaults to \"keep-all\" if the key is missing."
   ]
  },
  {
   "cell_type": "code",
   "execution_count": 37,
   "id": "21994072",
   "metadata": {
    "execution": {
     "iopub.execute_input": "2025-07-30T19:45:56.247302Z",
     "iopub.status.busy": "2025-07-30T19:45:56.246880Z",
     "iopub.status.idle": "2025-07-30T19:45:56.255005Z",
     "shell.execute_reply": "2025-07-30T19:45:56.253986Z"
    },
    "papermill": {
     "duration": 0.037807,
     "end_time": "2025-07-30T19:45:56.258342",
     "exception": false,
     "start_time": "2025-07-30T19:45:56.220535",
     "status": "completed"
    },
    "tags": []
   },
   "outputs": [],
   "source": [
    "if mode == \"keep-all\":\n",
    "    keep_mask = pd.Series(True, index=org_train.index)\n",
    "\n",
    "# org_train contains the original feature columns from features_org (in Simson)\n",
    "# features_org contains unprocessed features, for me X_train at beginning ???\n",
    "# For keep-all, creates a boolean Series (keep_mask) of all True, so no rows are removed.\n",
    "\n",
    "elif mode == \"drop-non-german\":\n",
    "    keep_mask = org_train[\"maxdeutsch1\"] == 1 # ??? what about missing values?\n",
    "\n",
    "else:\n",
    "    raise ValueError(f\"Unsupported mode for exclude_subgroups: {mode}\")\n"
   ]
  },
  {
   "cell_type": "code",
   "execution_count": 38,
   "id": "71651440",
   "metadata": {
    "execution": {
     "iopub.execute_input": "2025-07-30T19:45:56.336703Z",
     "iopub.status.busy": "2025-07-30T19:45:56.336193Z",
     "iopub.status.idle": "2025-07-30T19:45:56.342945Z",
     "shell.execute_reply": "2025-07-30T19:45:56.341860Z"
    },
    "papermill": {
     "duration": 0.05113,
     "end_time": "2025-07-30T19:45:56.346782",
     "exception": false,
     "start_time": "2025-07-30T19:45:56.295652",
     "status": "completed"
    },
    "tags": []
   },
   "outputs": [
    {
     "name": "stdout",
     "output_type": "stream",
     "text": [
      "Dropping 3688 rows (14.75%) where mode='drop-non-german'\n"
     ]
    }
   ],
   "source": [
    "n_drop = (~keep_mask).sum() # Calculates how many rows are set to be dropped\n",
    "if n_drop > 0:\n",
    "    pct = n_drop / len(keep_mask) * 100\n",
    "    print(f\"Dropping {n_drop} rows ({pct:.2f}%) where mode='{mode}'\")"
   ]
  },
  {
   "cell_type": "code",
   "execution_count": 39,
   "id": "5fb8eee5",
   "metadata": {
    "execution": {
     "iopub.execute_input": "2025-07-30T19:45:56.450083Z",
     "iopub.status.busy": "2025-07-30T19:45:56.449711Z",
     "iopub.status.idle": "2025-07-30T19:45:56.465351Z",
     "shell.execute_reply": "2025-07-30T19:45:56.464319Z"
    },
    "papermill": {
     "duration": 0.070932,
     "end_time": "2025-07-30T19:45:56.467489",
     "exception": false,
     "start_time": "2025-07-30T19:45:56.396557",
     "status": "completed"
    },
    "tags": []
   },
   "outputs": [],
   "source": [
    "X_train = X_train[keep_mask]"
   ]
  },
  {
   "cell_type": "code",
   "execution_count": 40,
   "id": "b202bb3a",
   "metadata": {
    "execution": {
     "iopub.execute_input": "2025-07-30T19:45:56.578435Z",
     "iopub.status.busy": "2025-07-30T19:45:56.578003Z",
     "iopub.status.idle": "2025-07-30T19:45:56.585658Z",
     "shell.execute_reply": "2025-07-30T19:45:56.584760Z"
    },
    "papermill": {
     "duration": 0.065404,
     "end_time": "2025-07-30T19:45:56.587527",
     "exception": false,
     "start_time": "2025-07-30T19:45:56.522123",
     "status": "completed"
    },
    "tags": []
   },
   "outputs": [],
   "source": [
    "y_train = y_train[keep_mask]"
   ]
  },
  {
   "cell_type": "markdown",
   "id": "493e2ac3",
   "metadata": {
    "papermill": {
     "duration": 0.030019,
     "end_time": "2025-07-30T19:45:56.670286",
     "exception": false,
     "start_time": "2025-07-30T19:45:56.640267",
     "status": "completed"
    },
    "tags": []
   },
   "source": [
    "# Model Training"
   ]
  },
  {
   "cell_type": "code",
   "execution_count": 41,
   "id": "679e1268",
   "metadata": {
    "execution": {
     "iopub.execute_input": "2025-07-30T19:45:56.737544Z",
     "iopub.status.busy": "2025-07-30T19:45:56.737133Z",
     "iopub.status.idle": "2025-07-30T19:45:57.056328Z",
     "shell.execute_reply": "2025-07-30T19:45:57.055267Z"
    },
    "papermill": {
     "duration": 0.363363,
     "end_time": "2025-07-30T19:45:57.058319",
     "exception": false,
     "start_time": "2025-07-30T19:45:56.694956",
     "status": "completed"
    },
    "tags": []
   },
   "outputs": [],
   "source": [
    "from sklearn.linear_model import LogisticRegression\n",
    "from sklearn.ensemble import GradientBoostingClassifier, RandomForestClassifier\n",
    "\n",
    "if (universe[\"model\"] == \"logreg\"):\n",
    "    model = LogisticRegression() #penalty=\"none\") #, solver=\"newton-cg\", max_iter=1) # include random_state=19 ?\n",
    "elif (universe[\"model\"] == \"penalized_logreg\"):\n",
    "    model = LogisticRegression(penalty=\"l2\", C=1.0) #, solver=\"newton-cg\", max_iter=1)\n",
    "elif (universe[\"model\"] == \"rf\"):\n",
    "    model = RandomForestClassifier(n_estimators=100, n_jobs=-1)\n",
    "elif (universe[\"model\"] == \"gbm\"):\n",
    "    model = GradientBoostingClassifier()\n",
    "elif (universe[\"model\"] == \"elasticnet\"):\n",
    "    model = LogisticRegression(penalty = 'elasticnet', solver = 'saga', l1_ratio = 0.5, max_iter=5000) # which solver to use?\n",
    "else:\n",
    "    raise \"Unsupported universe.model\""
   ]
  },
  {
   "cell_type": "code",
   "execution_count": 42,
   "id": "0cc8f744",
   "metadata": {
    "execution": {
     "iopub.execute_input": "2025-07-30T19:45:57.159053Z",
     "iopub.status.busy": "2025-07-30T19:45:57.158604Z",
     "iopub.status.idle": "2025-07-30T19:45:57.167091Z",
     "shell.execute_reply": "2025-07-30T19:45:57.166054Z"
    },
    "papermill": {
     "duration": 0.073982,
     "end_time": "2025-07-30T19:45:57.168897",
     "exception": false,
     "start_time": "2025-07-30T19:45:57.094915",
     "status": "completed"
    },
    "tags": []
   },
   "outputs": [],
   "source": [
    "import numpy as np\n",
    "from sklearn.pipeline import Pipeline\n",
    "from sklearn.preprocessing import StandardScaler\n",
    "\n",
    "model = Pipeline([\n",
    "    #(\"continuous_processor\", continuous_processor),\n",
    "    #(\"categorical_preprocessor\", categorical_preprocessor),\n",
    "    (\"scale\", StandardScaler() if universe[\"scale\"] == \"scale\" else None), \n",
    "    (\"model\", model),\n",
    "])"
   ]
  },
  {
   "cell_type": "code",
   "execution_count": 43,
   "id": "9442c04d",
   "metadata": {
    "execution": {
     "iopub.execute_input": "2025-07-30T19:45:57.243206Z",
     "iopub.status.busy": "2025-07-30T19:45:57.242798Z",
     "iopub.status.idle": "2025-07-30T19:46:01.497139Z",
     "shell.execute_reply": "2025-07-30T19:46:01.496129Z"
    },
    "papermill": {
     "duration": 4.281434,
     "end_time": "2025-07-30T19:46:01.498948",
     "exception": false,
     "start_time": "2025-07-30T19:45:57.217514",
     "status": "completed"
    },
    "tags": []
   },
   "outputs": [
    {
     "data": {
      "text/html": [
       "<style>#sk-container-id-1 {color: black;background-color: white;}#sk-container-id-1 pre{padding: 0;}#sk-container-id-1 div.sk-toggleable {background-color: white;}#sk-container-id-1 label.sk-toggleable__label {cursor: pointer;display: block;width: 100%;margin-bottom: 0;padding: 0.3em;box-sizing: border-box;text-align: center;}#sk-container-id-1 label.sk-toggleable__label-arrow:before {content: \"▸\";float: left;margin-right: 0.25em;color: #696969;}#sk-container-id-1 label.sk-toggleable__label-arrow:hover:before {color: black;}#sk-container-id-1 div.sk-estimator:hover label.sk-toggleable__label-arrow:before {color: black;}#sk-container-id-1 div.sk-toggleable__content {max-height: 0;max-width: 0;overflow: hidden;text-align: left;background-color: #f0f8ff;}#sk-container-id-1 div.sk-toggleable__content pre {margin: 0.2em;color: black;border-radius: 0.25em;background-color: #f0f8ff;}#sk-container-id-1 input.sk-toggleable__control:checked~div.sk-toggleable__content {max-height: 200px;max-width: 100%;overflow: auto;}#sk-container-id-1 input.sk-toggleable__control:checked~label.sk-toggleable__label-arrow:before {content: \"▾\";}#sk-container-id-1 div.sk-estimator input.sk-toggleable__control:checked~label.sk-toggleable__label {background-color: #d4ebff;}#sk-container-id-1 div.sk-label input.sk-toggleable__control:checked~label.sk-toggleable__label {background-color: #d4ebff;}#sk-container-id-1 input.sk-hidden--visually {border: 0;clip: rect(1px 1px 1px 1px);clip: rect(1px, 1px, 1px, 1px);height: 1px;margin: -1px;overflow: hidden;padding: 0;position: absolute;width: 1px;}#sk-container-id-1 div.sk-estimator {font-family: monospace;background-color: #f0f8ff;border: 1px dotted black;border-radius: 0.25em;box-sizing: border-box;margin-bottom: 0.5em;}#sk-container-id-1 div.sk-estimator:hover {background-color: #d4ebff;}#sk-container-id-1 div.sk-parallel-item::after {content: \"\";width: 100%;border-bottom: 1px solid gray;flex-grow: 1;}#sk-container-id-1 div.sk-label:hover label.sk-toggleable__label {background-color: #d4ebff;}#sk-container-id-1 div.sk-serial::before {content: \"\";position: absolute;border-left: 1px solid gray;box-sizing: border-box;top: 0;bottom: 0;left: 50%;z-index: 0;}#sk-container-id-1 div.sk-serial {display: flex;flex-direction: column;align-items: center;background-color: white;padding-right: 0.2em;padding-left: 0.2em;position: relative;}#sk-container-id-1 div.sk-item {position: relative;z-index: 1;}#sk-container-id-1 div.sk-parallel {display: flex;align-items: stretch;justify-content: center;background-color: white;position: relative;}#sk-container-id-1 div.sk-item::before, #sk-container-id-1 div.sk-parallel-item::before {content: \"\";position: absolute;border-left: 1px solid gray;box-sizing: border-box;top: 0;bottom: 0;left: 50%;z-index: -1;}#sk-container-id-1 div.sk-parallel-item {display: flex;flex-direction: column;z-index: 1;position: relative;background-color: white;}#sk-container-id-1 div.sk-parallel-item:first-child::after {align-self: flex-end;width: 50%;}#sk-container-id-1 div.sk-parallel-item:last-child::after {align-self: flex-start;width: 50%;}#sk-container-id-1 div.sk-parallel-item:only-child::after {width: 0;}#sk-container-id-1 div.sk-dashed-wrapped {border: 1px dashed gray;margin: 0 0.4em 0.5em 0.4em;box-sizing: border-box;padding-bottom: 0.4em;background-color: white;}#sk-container-id-1 div.sk-label label {font-family: monospace;font-weight: bold;display: inline-block;line-height: 1.2em;}#sk-container-id-1 div.sk-label-container {text-align: center;}#sk-container-id-1 div.sk-container {/* jupyter's `normalize.less` sets `[hidden] { display: none; }` but bootstrap.min.css set `[hidden] { display: none !important; }` so we also need the `!important` here to be able to override the default hidden behavior on the sphinx rendered scikit-learn.org. See: https://github.com/scikit-learn/scikit-learn/issues/21755 */display: inline-block !important;position: relative;}#sk-container-id-1 div.sk-text-repr-fallback {display: none;}</style><div id=\"sk-container-id-1\" class=\"sk-top-container\"><div class=\"sk-text-repr-fallback\"><pre>Pipeline(steps=[(&#x27;scale&#x27;, StandardScaler()),\n",
       "                (&#x27;model&#x27;, RandomForestClassifier(n_jobs=-1))])</pre><b>In a Jupyter environment, please rerun this cell to show the HTML representation or trust the notebook. <br />On GitHub, the HTML representation is unable to render, please try loading this page with nbviewer.org.</b></div><div class=\"sk-container\" hidden><div class=\"sk-item sk-dashed-wrapped\"><div class=\"sk-label-container\"><div class=\"sk-label sk-toggleable\"><input class=\"sk-toggleable__control sk-hidden--visually\" id=\"sk-estimator-id-1\" type=\"checkbox\" ><label for=\"sk-estimator-id-1\" class=\"sk-toggleable__label sk-toggleable__label-arrow\">Pipeline</label><div class=\"sk-toggleable__content\"><pre>Pipeline(steps=[(&#x27;scale&#x27;, StandardScaler()),\n",
       "                (&#x27;model&#x27;, RandomForestClassifier(n_jobs=-1))])</pre></div></div></div><div class=\"sk-serial\"><div class=\"sk-item\"><div class=\"sk-estimator sk-toggleable\"><input class=\"sk-toggleable__control sk-hidden--visually\" id=\"sk-estimator-id-2\" type=\"checkbox\" ><label for=\"sk-estimator-id-2\" class=\"sk-toggleable__label sk-toggleable__label-arrow\">StandardScaler</label><div class=\"sk-toggleable__content\"><pre>StandardScaler()</pre></div></div></div><div class=\"sk-item\"><div class=\"sk-estimator sk-toggleable\"><input class=\"sk-toggleable__control sk-hidden--visually\" id=\"sk-estimator-id-3\" type=\"checkbox\" ><label for=\"sk-estimator-id-3\" class=\"sk-toggleable__label sk-toggleable__label-arrow\">RandomForestClassifier</label><div class=\"sk-toggleable__content\"><pre>RandomForestClassifier(n_jobs=-1)</pre></div></div></div></div></div></div></div>"
      ],
      "text/plain": [
       "Pipeline(steps=[('scale', StandardScaler()),\n",
       "                ('model', RandomForestClassifier(n_jobs=-1))])"
      ]
     },
     "execution_count": 43,
     "metadata": {},
     "output_type": "execute_result"
    }
   ],
   "source": [
    "model.fit(X_train, y_train.values.ravel())"
   ]
  },
  {
   "cell_type": "code",
   "execution_count": 44,
   "id": "af59f8c0",
   "metadata": {
    "execution": {
     "iopub.execute_input": "2025-07-30T19:46:01.658227Z",
     "iopub.status.busy": "2025-07-30T19:46:01.657818Z",
     "iopub.status.idle": "2025-07-30T19:46:01.663444Z",
     "shell.execute_reply": "2025-07-30T19:46:01.662437Z"
    },
    "papermill": {
     "duration": 0.090581,
     "end_time": "2025-07-30T19:46:01.665220",
     "exception": false,
     "start_time": "2025-07-30T19:46:01.574639",
     "status": "completed"
    },
    "tags": []
   },
   "outputs": [],
   "source": [
    "from fairness_multiverse.universe import predict_w_threshold"
   ]
  },
  {
   "cell_type": "code",
   "execution_count": 45,
   "id": "a7cf2e16",
   "metadata": {
    "execution": {
     "iopub.execute_input": "2025-07-30T19:46:01.740265Z",
     "iopub.status.busy": "2025-07-30T19:46:01.739880Z",
     "iopub.status.idle": "2025-07-30T19:46:03.677467Z",
     "shell.execute_reply": "2025-07-30T19:46:03.676089Z"
    },
    "papermill": {
     "duration": 1.966191,
     "end_time": "2025-07-30T19:46:03.679740",
     "exception": false,
     "start_time": "2025-07-30T19:46:01.713549",
     "status": "completed"
    },
    "tags": []
   },
   "outputs": [
    {
     "data": {
      "text/plain": [
       "0.8636049492810166"
      ]
     },
     "execution_count": 45,
     "metadata": {},
     "output_type": "execute_result"
    }
   ],
   "source": [
    "probs_test = model.predict_proba(X_test)\n",
    "\n",
    "'''\n",
    "Below code returns a boolean array (or binary 0/1 array depending on how it’s used) where each element \n",
    "is True if the probability of class 1 is greater than or equal to the threshold, and False otherwise.\n",
    "'''\n",
    "y_pred_default = predict_w_threshold(probs_test, 0.5)\n",
    "\n",
    "from sklearn.metrics import accuracy_score\n",
    "\n",
    "# Naive prediction\n",
    "accuracy_score(y_true = y_true, y_pred = y_pred_default)"
   ]
  },
  {
   "cell_type": "code",
   "execution_count": 46,
   "id": "081964c3",
   "metadata": {
    "execution": {
     "iopub.execute_input": "2025-07-30T19:46:03.750376Z",
     "iopub.status.busy": "2025-07-30T19:46:03.749718Z",
     "iopub.status.idle": "2025-07-30T19:46:05.770929Z",
     "shell.execute_reply": "2025-07-30T19:46:05.769937Z"
    },
    "papermill": {
     "duration": 2.058608,
     "end_time": "2025-07-30T19:46:05.772677",
     "exception": false,
     "start_time": "2025-07-30T19:46:03.714069",
     "status": "completed"
    },
    "tags": []
   },
   "outputs": [
    {
     "data": {
      "text/plain": [
       "array([0, 0, 0, ..., 0, 0, 0])"
      ]
     },
     "execution_count": 46,
     "metadata": {},
     "output_type": "execute_result"
    }
   ],
   "source": [
    "model.predict(X_test)"
   ]
  },
  {
   "cell_type": "markdown",
   "id": "56c9705b",
   "metadata": {
    "papermill": {
     "duration": 0.027741,
     "end_time": "2025-07-30T19:46:05.828668",
     "exception": false,
     "start_time": "2025-07-30T19:46:05.800927",
     "status": "completed"
    },
    "tags": []
   },
   "source": [
    "# Conformal Prediction"
   ]
  },
  {
   "cell_type": "code",
   "execution_count": 47,
   "id": "160ec6ff",
   "metadata": {
    "execution": {
     "iopub.execute_input": "2025-07-30T19:46:05.946999Z",
     "iopub.status.busy": "2025-07-30T19:46:05.946125Z",
     "iopub.status.idle": "2025-07-30T19:46:05.952295Z",
     "shell.execute_reply": "2025-07-30T19:46:05.951163Z"
    },
    "papermill": {
     "duration": 0.094229,
     "end_time": "2025-07-30T19:46:05.954087",
     "exception": false,
     "start_time": "2025-07-30T19:46:05.859858",
     "status": "completed"
    },
    "tags": []
   },
   "outputs": [],
   "source": [
    "# Miscoverage level for conformal prediction (10% allowed error rate => 90% target coverage)\n",
    "alpha = 0.1"
   ]
  },
  {
   "cell_type": "code",
   "execution_count": 48,
   "id": "eadf4555-3dd3-440e-8e35-f82a4ad9f855",
   "metadata": {
    "execution": {
     "iopub.execute_input": "2025-07-30T19:46:06.021475Z",
     "iopub.status.busy": "2025-07-30T19:46:06.020718Z",
     "iopub.status.idle": "2025-07-30T19:46:07.774848Z",
     "shell.execute_reply": "2025-07-30T19:46:07.773772Z"
    },
    "papermill": {
     "duration": 1.784278,
     "end_time": "2025-07-30T19:46:07.777455",
     "exception": false,
     "start_time": "2025-07-30T19:46:05.993177",
     "status": "completed"
    },
    "tags": []
   },
   "outputs": [],
   "source": [
    "probs_calib = model.predict_proba(X_calib)"
   ]
  },
  {
   "cell_type": "code",
   "execution_count": 49,
   "id": "2ed93547-6d5d-4983-9b36-1ecb300da49a",
   "metadata": {
    "execution": {
     "iopub.execute_input": "2025-07-30T19:46:07.918806Z",
     "iopub.status.busy": "2025-07-30T19:46:07.918311Z",
     "iopub.status.idle": "2025-07-30T19:46:07.926831Z",
     "shell.execute_reply": "2025-07-30T19:46:07.925390Z"
    },
    "papermill": {
     "duration": 0.085201,
     "end_time": "2025-07-30T19:46:07.929545",
     "exception": false,
     "start_time": "2025-07-30T19:46:07.844344",
     "status": "completed"
    },
    "tags": []
   },
   "outputs": [],
   "source": [
    "y_calib = y_calib.values.ravel().astype(int)"
   ]
  },
  {
   "cell_type": "code",
   "execution_count": 50,
   "id": "65d1320d-f588-4b38-9072-62af1ae97f7d",
   "metadata": {
    "execution": {
     "iopub.execute_input": "2025-07-30T19:46:07.997113Z",
     "iopub.status.busy": "2025-07-30T19:46:07.996746Z",
     "iopub.status.idle": "2025-07-30T19:46:08.003954Z",
     "shell.execute_reply": "2025-07-30T19:46:08.003011Z"
    },
    "papermill": {
     "duration": 0.051671,
     "end_time": "2025-07-30T19:46:08.021370",
     "exception": false,
     "start_time": "2025-07-30T19:46:07.969699",
     "status": "completed"
    },
    "tags": []
   },
   "outputs": [],
   "source": [
    "from fairness_multiverse.conformal import compute_nc_scores\n",
    "\n",
    "# Compute nonconformity scores on calibration set (1 - probability of true class)\n",
    "nc_scores = compute_nc_scores(probs_calib, y_calib)"
   ]
  },
  {
   "cell_type": "code",
   "execution_count": 51,
   "id": "df3b8ca3-53b7-43d5-9667-7c85da7aeda2",
   "metadata": {
    "execution": {
     "iopub.execute_input": "2025-07-30T19:46:08.074961Z",
     "iopub.status.busy": "2025-07-30T19:46:08.074527Z",
     "iopub.status.idle": "2025-07-30T19:46:08.081734Z",
     "shell.execute_reply": "2025-07-30T19:46:08.080710Z"
    },
    "papermill": {
     "duration": 0.037878,
     "end_time": "2025-07-30T19:46:08.085222",
     "exception": false,
     "start_time": "2025-07-30T19:46:08.047344",
     "status": "completed"
    },
    "tags": []
   },
   "outputs": [],
   "source": [
    "from fairness_multiverse.conformal import find_threshold\n",
    "\n",
    "# Find conformal threshold q_hat for the given alpha (split conformal method)\n",
    "q_hat = find_threshold(nc_scores, alpha)"
   ]
  },
  {
   "cell_type": "code",
   "execution_count": 52,
   "id": "4d29e6c1-0ef6-4aa4-b8fe-4fe79b0d033a",
   "metadata": {
    "execution": {
     "iopub.execute_input": "2025-07-30T19:46:08.199700Z",
     "iopub.status.busy": "2025-07-30T19:46:08.199266Z",
     "iopub.status.idle": "2025-07-30T19:46:08.207461Z",
     "shell.execute_reply": "2025-07-30T19:46:08.206369Z"
    },
    "papermill": {
     "duration": 0.062232,
     "end_time": "2025-07-30T19:46:08.209089",
     "exception": false,
     "start_time": "2025-07-30T19:46:08.146857",
     "status": "completed"
    },
    "tags": []
   },
   "outputs": [
    {
     "data": {
      "text/plain": [
       "0.6599999999999999"
      ]
     },
     "execution_count": 52,
     "metadata": {},
     "output_type": "execute_result"
    }
   ],
   "source": [
    "q_hat"
   ]
  },
  {
   "cell_type": "code",
   "execution_count": 53,
   "id": "92460794-cdac-4be2-ba28-f28c0515a6fb",
   "metadata": {
    "execution": {
     "iopub.execute_input": "2025-07-30T19:46:08.316150Z",
     "iopub.status.busy": "2025-07-30T19:46:08.315647Z",
     "iopub.status.idle": "2025-07-30T19:46:10.427011Z",
     "shell.execute_reply": "2025-07-30T19:46:10.426096Z"
    },
    "papermill": {
     "duration": 2.170147,
     "end_time": "2025-07-30T19:46:10.429033",
     "exception": false,
     "start_time": "2025-07-30T19:46:08.258886",
     "status": "completed"
    },
    "tags": []
   },
   "outputs": [],
   "source": [
    "from fairness_multiverse.conformal import predict_conformal_sets\n",
    "\n",
    "# Generate prediction sets for each test example\n",
    "pred_sets = predict_conformal_sets(model, X_test, q_hat)"
   ]
  },
  {
   "cell_type": "code",
   "execution_count": 54,
   "id": "d90c9a65-e6db-4f5d-80cd-e68fb7e46829",
   "metadata": {
    "execution": {
     "iopub.execute_input": "2025-07-30T19:46:10.483901Z",
     "iopub.status.busy": "2025-07-30T19:46:10.483483Z",
     "iopub.status.idle": "2025-07-30T19:46:10.489309Z",
     "shell.execute_reply": "2025-07-30T19:46:10.488310Z"
    },
    "papermill": {
     "duration": 0.037007,
     "end_time": "2025-07-30T19:46:10.492213",
     "exception": false,
     "start_time": "2025-07-30T19:46:10.455206",
     "status": "completed"
    },
    "tags": []
   },
   "outputs": [],
   "source": [
    "y_true = y_true.squeeze()"
   ]
  },
  {
   "cell_type": "code",
   "execution_count": 55,
   "id": "3a58a54a-1e68-46b9-927a-df01f18aebc8",
   "metadata": {
    "execution": {
     "iopub.execute_input": "2025-07-30T19:46:10.535947Z",
     "iopub.status.busy": "2025-07-30T19:46:10.535601Z",
     "iopub.status.idle": "2025-07-30T19:46:11.536596Z",
     "shell.execute_reply": "2025-07-30T19:46:11.535552Z"
    },
    "papermill": {
     "duration": 1.019591,
     "end_time": "2025-07-30T19:46:11.538286",
     "exception": false,
     "start_time": "2025-07-30T19:46:10.518695",
     "status": "completed"
    },
    "tags": []
   },
   "outputs": [],
   "source": [
    "from fairness_multiverse.conformal import evaluate_sets\n",
    "\n",
    "# Evaluate coverage and average set size on test data\n",
    "metrics = evaluate_sets(pred_sets, y_true)"
   ]
  },
  {
   "cell_type": "markdown",
   "id": "2b569c12-9aaa-4c88-98c9-bbcd0cf3ebb8",
   "metadata": {
    "papermill": {
     "duration": 0.063666,
     "end_time": "2025-07-30T19:46:11.652268",
     "exception": false,
     "start_time": "2025-07-30T19:46:11.588602",
     "status": "completed"
    },
    "tags": []
   },
   "source": [
    "# CP Metrics"
   ]
  },
  {
   "cell_type": "code",
   "execution_count": 56,
   "id": "5ce0a5cb-201f-45a0-ade5-94c7f0bd6095",
   "metadata": {
    "execution": {
     "iopub.execute_input": "2025-07-30T19:46:11.747532Z",
     "iopub.status.busy": "2025-07-30T19:46:11.747018Z",
     "iopub.status.idle": "2025-07-30T19:46:11.754635Z",
     "shell.execute_reply": "2025-07-30T19:46:11.753786Z"
    },
    "papermill": {
     "duration": 0.060302,
     "end_time": "2025-07-30T19:46:11.768824",
     "exception": false,
     "start_time": "2025-07-30T19:46:11.708522",
     "status": "completed"
    },
    "tags": []
   },
   "outputs": [
    {
     "data": {
      "text/plain": [
       "{'coverage': 0.9132984059748077, 'avg_size': 1.1434845613643965}"
      ]
     },
     "execution_count": 56,
     "metadata": {},
     "output_type": "execute_result"
    }
   ],
   "source": [
    "metrics"
   ]
  },
  {
   "cell_type": "code",
   "execution_count": 57,
   "id": "9b9a838d-31c9-430b-ae14-12baee460d17",
   "metadata": {
    "execution": {
     "iopub.execute_input": "2025-07-30T19:46:11.894420Z",
     "iopub.status.busy": "2025-07-30T19:46:11.893948Z",
     "iopub.status.idle": "2025-07-30T19:46:11.900719Z",
     "shell.execute_reply": "2025-07-30T19:46:11.899655Z"
    },
    "papermill": {
     "duration": 0.06604,
     "end_time": "2025-07-30T19:46:11.902317",
     "exception": false,
     "start_time": "2025-07-30T19:46:11.836277",
     "status": "completed"
    },
    "tags": []
   },
   "outputs": [],
   "source": [
    "example_universe = universe.copy()\n",
    "universe_training_size = example_universe.get(\"training_size\")\n",
    "universe_scale = example_universe.get(\"scale\")\n",
    "universe_model = example_universe.get(\"model\")\n",
    "universe_exclude_features = example_universe.get(\"exclude_features\")\n",
    "universe_exclude_subgroups = example_universe.get(\"exclude_subgroups\")"
   ]
  },
  {
   "cell_type": "code",
   "execution_count": 58,
   "id": "f4b6a8ac-9dc0-4245-8a91-5b3b5999c4f9",
   "metadata": {
    "execution": {
     "iopub.execute_input": "2025-07-30T19:46:12.020921Z",
     "iopub.status.busy": "2025-07-30T19:46:12.020535Z",
     "iopub.status.idle": "2025-07-30T19:46:12.026926Z",
     "shell.execute_reply": "2025-07-30T19:46:12.026072Z"
    },
    "papermill": {
     "duration": 0.07631,
     "end_time": "2025-07-30T19:46:12.028921",
     "exception": false,
     "start_time": "2025-07-30T19:46:11.952611",
     "status": "completed"
    },
    "tags": []
   },
   "outputs": [],
   "source": [
    "cp_metrics_dict = {\n",
    "    \"universe_id\": [universe_id],\n",
    "    \"universe_training_size\": [universe_training_size],\n",
    "    \"universe_scale\": [universe_scale],\n",
    "    \"universe_model\": [universe_model],\n",
    "    \"universe_exclude_features\": [universe_exclude_features],\n",
    "    \"universe_exclude_subgroups\": [universe_exclude_subgroups],\n",
    "    \"q_hat\": [q_hat],\n",
    "    \"coverage\": [metrics[\"coverage\"]],\n",
    "    \"avg_size\": [metrics[\"avg_size\"]],\n",
    "}"
   ]
  },
  {
   "cell_type": "code",
   "execution_count": 59,
   "id": "908acbb1-0371-4915-85ca-3fa520d2efe2",
   "metadata": {
    "execution": {
     "iopub.execute_input": "2025-07-30T19:46:12.077967Z",
     "iopub.status.busy": "2025-07-30T19:46:12.077619Z",
     "iopub.status.idle": "2025-07-30T19:46:12.084379Z",
     "shell.execute_reply": "2025-07-30T19:46:12.083485Z"
    },
    "papermill": {
     "duration": 0.034554,
     "end_time": "2025-07-30T19:46:12.088009",
     "exception": false,
     "start_time": "2025-07-30T19:46:12.053455",
     "status": "completed"
    },
    "tags": []
   },
   "outputs": [
    {
     "data": {
      "text/plain": [
       "{'universe_id': ['774d2a847e27df43c5c870bc3ab12ca5'],\n",
       " 'universe_training_size': ['25k'],\n",
       " 'universe_scale': ['scale'],\n",
       " 'universe_model': ['rf'],\n",
       " 'universe_exclude_features': ['sex'],\n",
       " 'universe_exclude_subgroups': ['drop-non-german'],\n",
       " 'q_hat': [0.6599999999999999],\n",
       " 'coverage': [0.9132984059748077],\n",
       " 'avg_size': [1.1434845613643965]}"
      ]
     },
     "execution_count": 59,
     "metadata": {},
     "output_type": "execute_result"
    }
   ],
   "source": [
    "cp_metrics_dict"
   ]
  },
  {
   "cell_type": "code",
   "execution_count": 60,
   "id": "33007efc-14e9-4ec6-97ac-56a455c82265",
   "metadata": {
    "execution": {
     "iopub.execute_input": "2025-07-30T19:46:12.137430Z",
     "iopub.status.busy": "2025-07-30T19:46:12.137078Z",
     "iopub.status.idle": "2025-07-30T19:46:12.142720Z",
     "shell.execute_reply": "2025-07-30T19:46:12.141842Z"
    },
    "papermill": {
     "duration": 0.03222,
     "end_time": "2025-07-30T19:46:12.145093",
     "exception": false,
     "start_time": "2025-07-30T19:46:12.112873",
     "status": "completed"
    },
    "tags": []
   },
   "outputs": [],
   "source": [
    "cp_metrics_df = pd.DataFrame(cp_metrics_dict)"
   ]
  },
  {
   "cell_type": "code",
   "execution_count": 61,
   "id": "db12611b-57b2-4910-b9d0-355adfd6e7bf",
   "metadata": {
    "execution": {
     "iopub.execute_input": "2025-07-30T19:46:12.194109Z",
     "iopub.status.busy": "2025-07-30T19:46:12.193700Z",
     "iopub.status.idle": "2025-07-30T19:46:12.212488Z",
     "shell.execute_reply": "2025-07-30T19:46:12.211627Z"
    },
    "papermill": {
     "duration": 0.045098,
     "end_time": "2025-07-30T19:46:12.214387",
     "exception": false,
     "start_time": "2025-07-30T19:46:12.169289",
     "status": "completed"
    },
    "tags": []
   },
   "outputs": [
    {
     "data": {
      "text/html": [
       "<div>\n",
       "<style scoped>\n",
       "    .dataframe tbody tr th:only-of-type {\n",
       "        vertical-align: middle;\n",
       "    }\n",
       "\n",
       "    .dataframe tbody tr th {\n",
       "        vertical-align: top;\n",
       "    }\n",
       "\n",
       "    .dataframe thead th {\n",
       "        text-align: right;\n",
       "    }\n",
       "</style>\n",
       "<table border=\"1\" class=\"dataframe\">\n",
       "  <thead>\n",
       "    <tr style=\"text-align: right;\">\n",
       "      <th></th>\n",
       "      <th>universe_id</th>\n",
       "      <th>universe_training_size</th>\n",
       "      <th>universe_scale</th>\n",
       "      <th>universe_model</th>\n",
       "      <th>universe_exclude_features</th>\n",
       "      <th>universe_exclude_subgroups</th>\n",
       "      <th>q_hat</th>\n",
       "      <th>coverage</th>\n",
       "      <th>avg_size</th>\n",
       "    </tr>\n",
       "  </thead>\n",
       "  <tbody>\n",
       "    <tr>\n",
       "      <th>0</th>\n",
       "      <td>774d2a847e27df43c5c870bc3ab12ca5</td>\n",
       "      <td>25k</td>\n",
       "      <td>scale</td>\n",
       "      <td>rf</td>\n",
       "      <td>sex</td>\n",
       "      <td>drop-non-german</td>\n",
       "      <td>0.66</td>\n",
       "      <td>0.913298</td>\n",
       "      <td>1.143485</td>\n",
       "    </tr>\n",
       "  </tbody>\n",
       "</table>\n",
       "</div>"
      ],
      "text/plain": [
       "                        universe_id universe_training_size universe_scale  \\\n",
       "0  774d2a847e27df43c5c870bc3ab12ca5                    25k          scale   \n",
       "\n",
       "  universe_model universe_exclude_features universe_exclude_subgroups  q_hat  \\\n",
       "0             rf                       sex            drop-non-german   0.66   \n",
       "\n",
       "   coverage  avg_size  \n",
       "0  0.913298  1.143485  "
      ]
     },
     "execution_count": 61,
     "metadata": {},
     "output_type": "execute_result"
    }
   ],
   "source": [
    "cp_metrics_df"
   ]
  },
  {
   "cell_type": "code",
   "execution_count": 62,
   "id": "b7fbde55-a0a1-47e4-9af6-fe4a17fa8c61",
   "metadata": {
    "execution": {
     "iopub.execute_input": "2025-07-30T19:46:12.264433Z",
     "iopub.status.busy": "2025-07-30T19:46:12.263892Z",
     "iopub.status.idle": "2025-07-30T19:46:12.269065Z",
     "shell.execute_reply": "2025-07-30T19:46:12.268068Z"
    },
    "papermill": {
     "duration": 0.032861,
     "end_time": "2025-07-30T19:46:12.271459",
     "exception": false,
     "start_time": "2025-07-30T19:46:12.238598",
     "status": "completed"
    },
    "tags": []
   },
   "outputs": [],
   "source": [
    "# Conditional Coverage & looking at subgroups"
   ]
  },
  {
   "cell_type": "code",
   "execution_count": 63,
   "id": "027ae886-68dd-4141-96c7-805a5450e1ef",
   "metadata": {
    "execution": {
     "iopub.execute_input": "2025-07-30T19:46:12.322085Z",
     "iopub.status.busy": "2025-07-30T19:46:12.321755Z",
     "iopub.status.idle": "2025-07-30T19:46:12.571105Z",
     "shell.execute_reply": "2025-07-30T19:46:12.570029Z"
    },
    "papermill": {
     "duration": 0.276337,
     "end_time": "2025-07-30T19:46:12.573190",
     "exception": false,
     "start_time": "2025-07-30T19:46:12.296853",
     "status": "completed"
    },
    "tags": []
   },
   "outputs": [],
   "source": [
    "from fairness_multiverse.conformal import build_cp_groups\n",
    "\n",
    "cp_groups_df = build_cp_groups(pred_sets, y_true, X_test.index, org_test)\n",
    "#needs universe_id and setting"
   ]
  },
  {
   "cell_type": "code",
   "execution_count": 64,
   "id": "01d5802c-663a-4d1f-9d69-e036faaffbf7",
   "metadata": {
    "execution": {
     "iopub.execute_input": "2025-07-30T19:46:12.623889Z",
     "iopub.status.busy": "2025-07-30T19:46:12.623535Z",
     "iopub.status.idle": "2025-07-30T19:46:12.628405Z",
     "shell.execute_reply": "2025-07-30T19:46:12.627493Z"
    },
    "papermill": {
     "duration": 0.032936,
     "end_time": "2025-07-30T19:46:12.631157",
     "exception": false,
     "start_time": "2025-07-30T19:46:12.598221",
     "status": "completed"
    },
    "tags": []
   },
   "outputs": [],
   "source": [
    "#delete\n",
    "#cp_groups_df"
   ]
  },
  {
   "cell_type": "code",
   "execution_count": 65,
   "id": "fa424af1-d1eb-443d-b717-2d279ada8408",
   "metadata": {
    "execution": {
     "iopub.execute_input": "2025-07-30T19:46:12.681242Z",
     "iopub.status.busy": "2025-07-30T19:46:12.680928Z",
     "iopub.status.idle": "2025-07-30T19:46:12.685428Z",
     "shell.execute_reply": "2025-07-30T19:46:12.684464Z"
    },
    "papermill": {
     "duration": 0.032162,
     "end_time": "2025-07-30T19:46:12.688556",
     "exception": false,
     "start_time": "2025-07-30T19:46:12.656394",
     "status": "completed"
    },
    "tags": []
   },
   "outputs": [],
   "source": [
    "#delete\n",
    "#percentage = (cp_groups_df['nongerman_female'] == 1).mean() * 100\n",
    "#print(percentage)\n"
   ]
  },
  {
   "cell_type": "code",
   "execution_count": 66,
   "id": "6cbdab96-b2b2-45af-ad54-d0516db2e28d",
   "metadata": {
    "execution": {
     "iopub.execute_input": "2025-07-30T19:46:12.739473Z",
     "iopub.status.busy": "2025-07-30T19:46:12.739110Z",
     "iopub.status.idle": "2025-07-30T19:46:14.457702Z",
     "shell.execute_reply": "2025-07-30T19:46:14.456618Z"
    },
    "papermill": {
     "duration": 1.745469,
     "end_time": "2025-07-30T19:46:14.459587",
     "exception": false,
     "start_time": "2025-07-30T19:46:12.714118",
     "status": "completed"
    },
    "tags": []
   },
   "outputs": [],
   "source": [
    "# Define covered = 1 if true_label is in the predicted set\n",
    "cp_groups_df['covered'] = cp_groups_df.apply(\n",
    "    lambda r: int(r['true_label'] in r['pred_set']),\n",
    "    axis=1\n",
    ")"
   ]
  },
  {
   "cell_type": "code",
   "execution_count": 67,
   "id": "338ff529-1a6b-4b87-a931-8e4788d52aad",
   "metadata": {
    "execution": {
     "iopub.execute_input": "2025-07-30T19:46:14.560379Z",
     "iopub.status.busy": "2025-07-30T19:46:14.559903Z",
     "iopub.status.idle": "2025-07-30T19:46:14.565344Z",
     "shell.execute_reply": "2025-07-30T19:46:14.564245Z"
    },
    "papermill": {
     "duration": 0.069415,
     "end_time": "2025-07-30T19:46:14.581727",
     "exception": false,
     "start_time": "2025-07-30T19:46:14.512312",
     "status": "completed"
    },
    "tags": []
   },
   "outputs": [],
   "source": [
    "#cp_groups_df"
   ]
  },
  {
   "cell_type": "code",
   "execution_count": 68,
   "id": "90032e27-66df-4540-9169-4e89cfbaa758",
   "metadata": {
    "execution": {
     "iopub.execute_input": "2025-07-30T19:46:14.642923Z",
     "iopub.status.busy": "2025-07-30T19:46:14.642489Z",
     "iopub.status.idle": "2025-07-30T19:46:14.655152Z",
     "shell.execute_reply": "2025-07-30T19:46:14.654055Z"
    },
    "papermill": {
     "duration": 0.046512,
     "end_time": "2025-07-30T19:46:14.657994",
     "exception": false,
     "start_time": "2025-07-30T19:46:14.611482",
     "status": "completed"
    },
    "tags": []
   },
   "outputs": [],
   "source": [
    "subgroups = ['frau1','nongerman','nongerman_male','nongerman_female']\n",
    "\n",
    "# Conditional coverage for subgroup==1\n",
    "cond_coverage = {\n",
    "    g: cp_groups_df.loc[cp_groups_df[g]==1, 'covered'].mean()\n",
    "    for g in subgroups\n",
    "}"
   ]
  },
  {
   "cell_type": "code",
   "execution_count": 69,
   "id": "1e348fb1-b9c3-45bc-ba23-f016827a7e0d",
   "metadata": {
    "execution": {
     "iopub.execute_input": "2025-07-30T19:46:14.720235Z",
     "iopub.status.busy": "2025-07-30T19:46:14.719755Z",
     "iopub.status.idle": "2025-07-30T19:46:14.727912Z",
     "shell.execute_reply": "2025-07-30T19:46:14.726905Z"
    },
    "papermill": {
     "duration": 0.044043,
     "end_time": "2025-07-30T19:46:14.732604",
     "exception": false,
     "start_time": "2025-07-30T19:46:14.688561",
     "status": "completed"
    },
    "tags": []
   },
   "outputs": [
    {
     "data": {
      "text/plain": [
       "{'frau1': 0.9126566922765872,\n",
       " 'nongerman': 0.91382698029529,\n",
       " 'nongerman_male': 0.927136809871206,\n",
       " 'nongerman_female': 0.8918032786885246}"
      ]
     },
     "execution_count": 69,
     "metadata": {},
     "output_type": "execute_result"
    }
   ],
   "source": [
    "cond_coverage"
   ]
  },
  {
   "cell_type": "code",
   "execution_count": 70,
   "id": "f5093324-c3dd-4d63-bc4c-8d945e5c8bbb",
   "metadata": {
    "execution": {
     "iopub.execute_input": "2025-07-30T19:46:14.794777Z",
     "iopub.status.busy": "2025-07-30T19:46:14.794314Z",
     "iopub.status.idle": "2025-07-30T19:46:14.801675Z",
     "shell.execute_reply": "2025-07-30T19:46:14.800742Z"
    },
    "papermill": {
     "duration": 0.050022,
     "end_time": "2025-07-30T19:46:14.813241",
     "exception": false,
     "start_time": "2025-07-30T19:46:14.763219",
     "status": "completed"
    },
    "tags": []
   },
   "outputs": [],
   "source": [
    "for subgroup, cov in cond_coverage.items():\n",
    "    cp_metrics_df[f\"cov_{subgroup}\"] = cov"
   ]
  },
  {
   "cell_type": "code",
   "execution_count": 71,
   "id": "6e872e10-dbe5-49e8-b554-5030c98ff75d",
   "metadata": {
    "execution": {
     "iopub.execute_input": "2025-07-30T19:46:14.870385Z",
     "iopub.status.busy": "2025-07-30T19:46:14.869911Z",
     "iopub.status.idle": "2025-07-30T19:46:14.887632Z",
     "shell.execute_reply": "2025-07-30T19:46:14.886766Z"
    },
    "papermill": {
     "duration": 0.049837,
     "end_time": "2025-07-30T19:46:14.889053",
     "exception": false,
     "start_time": "2025-07-30T19:46:14.839216",
     "status": "completed"
    },
    "tags": []
   },
   "outputs": [
    {
     "data": {
      "text/html": [
       "<div>\n",
       "<style scoped>\n",
       "    .dataframe tbody tr th:only-of-type {\n",
       "        vertical-align: middle;\n",
       "    }\n",
       "\n",
       "    .dataframe tbody tr th {\n",
       "        vertical-align: top;\n",
       "    }\n",
       "\n",
       "    .dataframe thead th {\n",
       "        text-align: right;\n",
       "    }\n",
       "</style>\n",
       "<table border=\"1\" class=\"dataframe\">\n",
       "  <thead>\n",
       "    <tr style=\"text-align: right;\">\n",
       "      <th></th>\n",
       "      <th>universe_id</th>\n",
       "      <th>universe_training_size</th>\n",
       "      <th>universe_scale</th>\n",
       "      <th>universe_model</th>\n",
       "      <th>universe_exclude_features</th>\n",
       "      <th>universe_exclude_subgroups</th>\n",
       "      <th>q_hat</th>\n",
       "      <th>coverage</th>\n",
       "      <th>avg_size</th>\n",
       "      <th>cov_frau1</th>\n",
       "      <th>cov_nongerman</th>\n",
       "      <th>cov_nongerman_male</th>\n",
       "      <th>cov_nongerman_female</th>\n",
       "    </tr>\n",
       "  </thead>\n",
       "  <tbody>\n",
       "    <tr>\n",
       "      <th>0</th>\n",
       "      <td>774d2a847e27df43c5c870bc3ab12ca5</td>\n",
       "      <td>25k</td>\n",
       "      <td>scale</td>\n",
       "      <td>rf</td>\n",
       "      <td>sex</td>\n",
       "      <td>drop-non-german</td>\n",
       "      <td>0.66</td>\n",
       "      <td>0.913298</td>\n",
       "      <td>1.143485</td>\n",
       "      <td>0.912657</td>\n",
       "      <td>0.913827</td>\n",
       "      <td>0.927137</td>\n",
       "      <td>0.891803</td>\n",
       "    </tr>\n",
       "  </tbody>\n",
       "</table>\n",
       "</div>"
      ],
      "text/plain": [
       "                        universe_id universe_training_size universe_scale  \\\n",
       "0  774d2a847e27df43c5c870bc3ab12ca5                    25k          scale   \n",
       "\n",
       "  universe_model universe_exclude_features universe_exclude_subgroups  q_hat  \\\n",
       "0             rf                       sex            drop-non-german   0.66   \n",
       "\n",
       "   coverage  avg_size  cov_frau1  cov_nongerman  cov_nongerman_male  \\\n",
       "0  0.913298  1.143485   0.912657       0.913827            0.927137   \n",
       "\n",
       "   cov_nongerman_female  \n",
       "0              0.891803  "
      ]
     },
     "execution_count": 71,
     "metadata": {},
     "output_type": "execute_result"
    }
   ],
   "source": [
    "cp_metrics_df"
   ]
  },
  {
   "cell_type": "markdown",
   "id": "33774451",
   "metadata": {
    "papermill": {
     "duration": 0.027251,
     "end_time": "2025-07-30T19:46:14.942874",
     "exception": false,
     "start_time": "2025-07-30T19:46:14.915623",
     "status": "completed"
    },
    "tags": []
   },
   "source": [
    "# (Fairness) Metrics"
   ]
  },
  {
   "cell_type": "code",
   "execution_count": 72,
   "id": "debc5d62",
   "metadata": {
    "execution": {
     "iopub.execute_input": "2025-07-30T19:46:14.995854Z",
     "iopub.status.busy": "2025-07-30T19:46:14.995206Z",
     "iopub.status.idle": "2025-07-30T19:46:15.015953Z",
     "shell.execute_reply": "2025-07-30T19:46:15.015013Z"
    },
    "papermill": {
     "duration": 0.049964,
     "end_time": "2025-07-30T19:46:15.017874",
     "exception": false,
     "start_time": "2025-07-30T19:46:14.967910",
     "status": "completed"
    },
    "tags": []
   },
   "outputs": [],
   "source": [
    "# do I need to include maxdeutsch1.missing?\n",
    "\n",
    "import numpy as np\n",
    "\n",
    "colname_to_bin = \"maxdeutsch1\"\n",
    "majority_value = org_train[colname_to_bin].mode()[0]\n",
    "\n",
    "org_test[\"majmin\"] = np.where(org_test[colname_to_bin] == majority_value, \"majority\", \"minority\")"
   ]
  },
  {
   "cell_type": "code",
   "execution_count": 73,
   "id": "06a50de5",
   "metadata": {
    "execution": {
     "iopub.execute_input": "2025-07-30T19:46:15.070240Z",
     "iopub.status.busy": "2025-07-30T19:46:15.069855Z",
     "iopub.status.idle": "2025-07-30T19:46:18.167965Z",
     "shell.execute_reply": "2025-07-30T19:46:18.166628Z"
    },
    "papermill": {
     "duration": 3.12625,
     "end_time": "2025-07-30T19:46:18.170046",
     "exception": false,
     "start_time": "2025-07-30T19:46:15.043796",
     "status": "completed"
    },
    "tags": []
   },
   "outputs": [],
   "source": [
    "example_universe = universe.copy()\n",
    "example_universe[\"cutoff\"] = example_universe[\"cutoff\"][0]\n",
    "example_universe[\"eval_fairness_grouping\"] = example_universe[\"eval_fairness_grouping\"][0]\n",
    "fairness_dict, metric_frame = universe_analysis.compute_metrics(\n",
    "    example_universe,\n",
    "    y_pred_prob=probs_test,\n",
    "    y_test=y_true,\n",
    "    org_test=org_test,\n",
    ")"
   ]
  },
  {
   "cell_type": "markdown",
   "id": "f95d4e02",
   "metadata": {
    "papermill": {
     "duration": 0.028377,
     "end_time": "2025-07-30T19:46:18.246250",
     "exception": false,
     "start_time": "2025-07-30T19:46:18.217873",
     "status": "completed"
    },
    "tags": []
   },
   "source": [
    "# Overall"
   ]
  },
  {
   "cell_type": "markdown",
   "id": "bdee4871",
   "metadata": {
    "papermill": {
     "duration": 0.02894,
     "end_time": "2025-07-30T19:46:18.304058",
     "exception": false,
     "start_time": "2025-07-30T19:46:18.275118",
     "status": "completed"
    },
    "tags": []
   },
   "source": [
    "Fairness\n",
    "Main fairness target: Equalized Odds. Seems to be a better fit than equal opportunity, since we're not only interested in Y = 1. Seems to be a better fit than demographic parity, since we also care about accuracy, not just equal distribution of preds.\n",
    "\n",
    "Pick column for computation of fairness metrics\n",
    "\n",
    "Performance\n",
    "Overall performance measures, most interesting in relation to the measures split by group below"
   ]
  },
  {
   "cell_type": "code",
   "execution_count": 74,
   "id": "c4e067c6",
   "metadata": {
    "execution": {
     "iopub.execute_input": "2025-07-30T19:46:18.365180Z",
     "iopub.status.busy": "2025-07-30T19:46:18.364799Z",
     "iopub.status.idle": "2025-07-30T19:46:18.379328Z",
     "shell.execute_reply": "2025-07-30T19:46:18.378333Z"
    },
    "papermill": {
     "duration": 0.048928,
     "end_time": "2025-07-30T19:46:18.381234",
     "exception": false,
     "start_time": "2025-07-30T19:46:18.332306",
     "status": "completed"
    },
    "tags": []
   },
   "outputs": [
    {
     "data": {
      "text/plain": [
       "accuracy                   0.204827\n",
       "balanced accuracy          0.535791\n",
       "f1                         0.240414\n",
       "precision                  0.136994\n",
       "false positive rate        0.909389\n",
       "false negative rate        0.019030\n",
       "selection rate             0.918571\n",
       "count                  89710.000000\n",
       "dtype: float64"
      ]
     },
     "execution_count": 74,
     "metadata": {},
     "output_type": "execute_result"
    }
   ],
   "source": [
    "metric_frame.overall"
   ]
  },
  {
   "cell_type": "markdown",
   "id": "e968fe9d",
   "metadata": {
    "papermill": {
     "duration": 0.05945,
     "end_time": "2025-07-30T19:46:18.468454",
     "exception": false,
     "start_time": "2025-07-30T19:46:18.409004",
     "status": "completed"
    },
    "tags": []
   },
   "source": [
    "By Group"
   ]
  },
  {
   "cell_type": "code",
   "execution_count": 75,
   "id": "ec325bce",
   "metadata": {
    "execution": {
     "iopub.execute_input": "2025-07-30T19:46:18.541862Z",
     "iopub.status.busy": "2025-07-30T19:46:18.541482Z",
     "iopub.status.idle": "2025-07-30T19:46:18.562125Z",
     "shell.execute_reply": "2025-07-30T19:46:18.561215Z"
    },
    "papermill": {
     "duration": 0.05052,
     "end_time": "2025-07-30T19:46:18.564216",
     "exception": false,
     "start_time": "2025-07-30T19:46:18.513696",
     "status": "completed"
    },
    "tags": []
   },
   "outputs": [
    {
     "data": {
      "text/html": [
       "<div>\n",
       "<style scoped>\n",
       "    .dataframe tbody tr th:only-of-type {\n",
       "        vertical-align: middle;\n",
       "    }\n",
       "\n",
       "    .dataframe tbody tr th {\n",
       "        vertical-align: top;\n",
       "    }\n",
       "\n",
       "    .dataframe thead th {\n",
       "        text-align: right;\n",
       "    }\n",
       "</style>\n",
       "<table border=\"1\" class=\"dataframe\">\n",
       "  <thead>\n",
       "    <tr style=\"text-align: right;\">\n",
       "      <th></th>\n",
       "      <th>accuracy</th>\n",
       "      <th>balanced accuracy</th>\n",
       "      <th>f1</th>\n",
       "      <th>precision</th>\n",
       "      <th>false positive rate</th>\n",
       "      <th>false negative rate</th>\n",
       "      <th>selection rate</th>\n",
       "      <th>count</th>\n",
       "    </tr>\n",
       "    <tr>\n",
       "      <th>majmin</th>\n",
       "      <th></th>\n",
       "      <th></th>\n",
       "      <th></th>\n",
       "      <th></th>\n",
       "      <th></th>\n",
       "      <th></th>\n",
       "      <th></th>\n",
       "      <th></th>\n",
       "    </tr>\n",
       "  </thead>\n",
       "  <tbody>\n",
       "    <tr>\n",
       "      <th>majority</th>\n",
       "      <td>0.201475</td>\n",
       "      <td>0.535356</td>\n",
       "      <td>0.246631</td>\n",
       "      <td>0.140878</td>\n",
       "      <td>0.918457</td>\n",
       "      <td>0.010832</td>\n",
       "      <td>0.927801</td>\n",
       "      <td>69170.0</td>\n",
       "    </tr>\n",
       "    <tr>\n",
       "      <th>minority</th>\n",
       "      <td>0.216115</td>\n",
       "      <td>0.534947</td>\n",
       "      <td>0.218284</td>\n",
       "      <td>0.123320</td>\n",
       "      <td>0.879430</td>\n",
       "      <td>0.050676</td>\n",
       "      <td>0.887488</td>\n",
       "      <td>20540.0</td>\n",
       "    </tr>\n",
       "  </tbody>\n",
       "</table>\n",
       "</div>"
      ],
      "text/plain": [
       "          accuracy  balanced accuracy        f1  precision  \\\n",
       "majmin                                                       \n",
       "majority  0.201475           0.535356  0.246631   0.140878   \n",
       "minority  0.216115           0.534947  0.218284   0.123320   \n",
       "\n",
       "          false positive rate  false negative rate  selection rate    count  \n",
       "majmin                                                                       \n",
       "majority             0.918457             0.010832        0.927801  69170.0  \n",
       "minority             0.879430             0.050676        0.887488  20540.0  "
      ]
     },
     "execution_count": 75,
     "metadata": {},
     "output_type": "execute_result"
    }
   ],
   "source": [
    "metric_frame.by_group"
   ]
  },
  {
   "cell_type": "code",
   "execution_count": 76,
   "id": "a9ddbe63",
   "metadata": {
    "execution": {
     "iopub.execute_input": "2025-07-30T19:46:18.621505Z",
     "iopub.status.busy": "2025-07-30T19:46:18.621072Z",
     "iopub.status.idle": "2025-07-30T19:46:20.897871Z",
     "shell.execute_reply": "2025-07-30T19:46:20.896935Z"
    },
    "papermill": {
     "duration": 2.306743,
     "end_time": "2025-07-30T19:46:20.899498",
     "exception": false,
     "start_time": "2025-07-30T19:46:18.592755",
     "status": "completed"
    },
    "tags": []
   },
   "outputs": [
    {
     "data": {
      "text/plain": [
       "array([[<Axes: title={'center': 'accuracy'}, xlabel='majmin'>,\n",
       "        <Axes: title={'center': 'balanced accuracy'}, xlabel='majmin'>,\n",
       "        <Axes: title={'center': 'f1'}, xlabel='majmin'>],\n",
       "       [<Axes: title={'center': 'precision'}, xlabel='majmin'>,\n",
       "        <Axes: title={'center': 'false positive rate'}, xlabel='majmin'>,\n",
       "        <Axes: title={'center': 'false negative rate'}, xlabel='majmin'>],\n",
       "       [<Axes: title={'center': 'selection rate'}, xlabel='majmin'>,\n",
       "        <Axes: title={'center': 'count'}, xlabel='majmin'>,\n",
       "        <Axes: xlabel='majmin'>]], dtype=object)"
      ]
     },
     "execution_count": 76,
     "metadata": {},
     "output_type": "execute_result"
    },
    {
     "data": {
      "image/png": "[encoded data removed]",
      "text/plain": [
       "<Figure size 1200x800 with 9 Axes>"
      ]
     },
     "metadata": {},
     "output_type": "display_data"
    }
   ],
   "source": [
    "# In a graphic\n",
    "metric_frame.by_group.plot.bar(\n",
    "    subplots=True,\n",
    "    layout=[3, 3],\n",
    "    legend=False,\n",
    "    figsize=[12, 8],\n",
    "    title=\"Show all metrics\",\n",
    ")"
   ]
  },
  {
   "cell_type": "markdown",
   "id": "f57a0bac",
   "metadata": {
    "papermill": {
     "duration": 0.027964,
     "end_time": "2025-07-30T19:46:20.955812",
     "exception": false,
     "start_time": "2025-07-30T19:46:20.927848",
     "status": "completed"
    },
    "tags": []
   },
   "source": [
    "# Final Output"
   ]
  },
  {
   "cell_type": "code",
   "execution_count": 77,
   "id": "96d280a3",
   "metadata": {
    "execution": {
     "iopub.execute_input": "2025-07-30T19:46:21.011876Z",
     "iopub.status.busy": "2025-07-30T19:46:21.011035Z",
     "iopub.status.idle": "2025-07-30T19:46:21.019247Z",
     "shell.execute_reply": "2025-07-30T19:46:21.018357Z"
    },
    "papermill": {
     "duration": 0.037603,
     "end_time": "2025-07-30T19:46:21.020704",
     "exception": false,
     "start_time": "2025-07-30T19:46:20.983101",
     "status": "completed"
    },
    "tags": []
   },
   "outputs": [
    {
     "data": {
      "text/plain": [
       "4"
      ]
     },
     "execution_count": 77,
     "metadata": {},
     "output_type": "execute_result"
    }
   ],
   "source": [
    "sub_universes = universe_analysis.generate_sub_universes()\n",
    "len(sub_universes)"
   ]
  },
  {
   "cell_type": "code",
   "execution_count": 78,
   "id": "92adf7ba",
   "metadata": {
    "execution": {
     "iopub.execute_input": "2025-07-30T19:46:21.078388Z",
     "iopub.status.busy": "2025-07-30T19:46:21.077454Z",
     "iopub.status.idle": "2025-07-30T19:46:21.083556Z",
     "shell.execute_reply": "2025-07-30T19:46:21.082633Z"
    },
    "papermill": {
     "duration": 0.037429,
     "end_time": "2025-07-30T19:46:21.085041",
     "exception": false,
     "start_time": "2025-07-30T19:46:21.047612",
     "status": "completed"
    },
    "tags": []
   },
   "outputs": [],
   "source": [
    "def filter_sub_universe_data(sub_universe, org_test):\n",
    "    # Keep all rows — no filtering\n",
    "    keep_rows_mask = np.ones(org_test.shape[0], dtype=bool)\n",
    "\n",
    "    print(f\"[INFO] Keeping all rows: {keep_rows_mask.sum()} rows retained.\")\n",
    "    return keep_rows_mask"
   ]
  },
  {
   "cell_type": "code",
   "execution_count": 79,
   "id": "4a759155",
   "metadata": {
    "execution": {
     "iopub.execute_input": "2025-07-30T19:46:21.143069Z",
     "iopub.status.busy": "2025-07-30T19:46:21.142556Z",
     "iopub.status.idle": "2025-07-30T19:46:31.228049Z",
     "shell.execute_reply": "2025-07-30T19:46:31.227030Z"
    },
    "papermill": {
     "duration": 10.117025,
     "end_time": "2025-07-30T19:46:31.229708",
     "exception": false,
     "start_time": "2025-07-30T19:46:21.112683",
     "status": "completed"
    },
    "tags": []
   },
   "outputs": [
    {
     "name": "stdout",
     "output_type": "stream",
     "text": [
      "Stopping execution_time clock.\n",
      "[INFO] Keeping all rows: 89710 rows retained.\n"
     ]
    },
    {
     "name": "stdout",
     "output_type": "stream",
     "text": [
      "[INFO] Keeping all rows: 89710 rows retained.\n"
     ]
    },
    {
     "name": "stdout",
     "output_type": "stream",
     "text": [
      "[INFO] Keeping all rows: 89710 rows retained.\n"
     ]
    },
    {
     "name": "stdout",
     "output_type": "stream",
     "text": [
      "[INFO] Keeping all rows: 89710 rows retained.\n"
     ]
    },
    {
     "data": {
      "text/html": [
       "<div>\n",
       "<style scoped>\n",
       "    .dataframe tbody tr th:only-of-type {\n",
       "        vertical-align: middle;\n",
       "    }\n",
       "\n",
       "    .dataframe tbody tr th {\n",
       "        vertical-align: top;\n",
       "    }\n",
       "\n",
       "    .dataframe thead th {\n",
       "        text-align: right;\n",
       "    }\n",
       "</style>\n",
       "<table border=\"1\" class=\"dataframe\">\n",
       "  <thead>\n",
       "    <tr style=\"text-align: right;\">\n",
       "      <th></th>\n",
       "      <th>run_no</th>\n",
       "      <th>universe_id</th>\n",
       "      <th>universe_settings</th>\n",
       "      <th>execution_time</th>\n",
       "      <th>test_size_n</th>\n",
       "      <th>test_size_frac</th>\n",
       "      <th>fair_main_equalized_odds_difference</th>\n",
       "      <th>fair_main_equalized_odds_ratio</th>\n",
       "      <th>fair_main_demographic_parity_difference</th>\n",
       "      <th>fair_main_demographic_parity_ratio</th>\n",
       "      <th>...</th>\n",
       "      <th>perf_grp_precision_0</th>\n",
       "      <th>perf_grp_precision_1</th>\n",
       "      <th>perf_grp_false positive rate_0</th>\n",
       "      <th>perf_grp_false positive rate_1</th>\n",
       "      <th>perf_grp_false negative rate_0</th>\n",
       "      <th>perf_grp_false negative rate_1</th>\n",
       "      <th>perf_grp_selection rate_0</th>\n",
       "      <th>perf_grp_selection rate_1</th>\n",
       "      <th>perf_grp_count_0</th>\n",
       "      <th>perf_grp_count_1</th>\n",
       "    </tr>\n",
       "  </thead>\n",
       "  <tbody>\n",
       "    <tr>\n",
       "      <th>0</th>\n",
       "      <td>13</td>\n",
       "      <td>774d2a847e27df43c5c870bc3ab12ca5</td>\n",
       "      <td>{\"cutoff\": \"quantile_0.1\", \"eval_fairness_grou...</td>\n",
       "      <td>45.254582</td>\n",
       "      <td>89710</td>\n",
       "      <td>1.0</td>\n",
       "      <td>0.039844</td>\n",
       "      <td>0.957508</td>\n",
       "      <td>0.040313</td>\n",
       "      <td>0.956550</td>\n",
       "      <td>...</td>\n",
       "      <td>NaN</td>\n",
       "      <td>NaN</td>\n",
       "      <td>NaN</td>\n",
       "      <td>NaN</td>\n",
       "      <td>NaN</td>\n",
       "      <td>NaN</td>\n",
       "      <td>NaN</td>\n",
       "      <td>NaN</td>\n",
       "      <td>NaN</td>\n",
       "      <td>NaN</td>\n",
       "    </tr>\n",
       "    <tr>\n",
       "      <th>0</th>\n",
       "      <td>13</td>\n",
       "      <td>774d2a847e27df43c5c870bc3ab12ca5</td>\n",
       "      <td>{\"cutoff\": \"quantile_0.1\", \"eval_fairness_grou...</td>\n",
       "      <td>45.254582</td>\n",
       "      <td>89710</td>\n",
       "      <td>1.0</td>\n",
       "      <td>0.039844</td>\n",
       "      <td>0.957508</td>\n",
       "      <td>0.040313</td>\n",
       "      <td>0.956550</td>\n",
       "      <td>...</td>\n",
       "      <td>0.123320</td>\n",
       "      <td>0.140878</td>\n",
       "      <td>0.879430</td>\n",
       "      <td>0.918457</td>\n",
       "      <td>0.050676</td>\n",
       "      <td>0.010832</td>\n",
       "      <td>0.887488</td>\n",
       "      <td>0.927801</td>\n",
       "      <td>20540.0</td>\n",
       "      <td>69170.0</td>\n",
       "    </tr>\n",
       "    <tr>\n",
       "      <th>0</th>\n",
       "      <td>13</td>\n",
       "      <td>774d2a847e27df43c5c870bc3ab12ca5</td>\n",
       "      <td>{\"cutoff\": \"quantile_0.25\", \"eval_fairness_gro...</td>\n",
       "      <td>45.254582</td>\n",
       "      <td>89710</td>\n",
       "      <td>1.0</td>\n",
       "      <td>0.065826</td>\n",
       "      <td>0.931600</td>\n",
       "      <td>0.035697</td>\n",
       "      <td>0.955271</td>\n",
       "      <td>...</td>\n",
       "      <td>NaN</td>\n",
       "      <td>NaN</td>\n",
       "      <td>NaN</td>\n",
       "      <td>NaN</td>\n",
       "      <td>NaN</td>\n",
       "      <td>NaN</td>\n",
       "      <td>NaN</td>\n",
       "      <td>NaN</td>\n",
       "      <td>NaN</td>\n",
       "      <td>NaN</td>\n",
       "    </tr>\n",
       "    <tr>\n",
       "      <th>0</th>\n",
       "      <td>13</td>\n",
       "      <td>774d2a847e27df43c5c870bc3ab12ca5</td>\n",
       "      <td>{\"cutoff\": \"quantile_0.25\", \"eval_fairness_gro...</td>\n",
       "      <td>45.254582</td>\n",
       "      <td>89710</td>\n",
       "      <td>1.0</td>\n",
       "      <td>0.065826</td>\n",
       "      <td>0.931600</td>\n",
       "      <td>0.035697</td>\n",
       "      <td>0.955271</td>\n",
       "      <td>...</td>\n",
       "      <td>0.135577</td>\n",
       "      <td>0.159342</td>\n",
       "      <td>0.744882</td>\n",
       "      <td>0.773047</td>\n",
       "      <td>0.103463</td>\n",
       "      <td>0.037637</td>\n",
       "      <td>0.762366</td>\n",
       "      <td>0.798063</td>\n",
       "      <td>20540.0</td>\n",
       "      <td>69170.0</td>\n",
       "    </tr>\n",
       "  </tbody>\n",
       "</table>\n",
       "<p>4 rows × 50 columns</p>\n",
       "</div>"
      ],
      "text/plain": [
       "  run_no                       universe_id  \\\n",
       "0     13  774d2a847e27df43c5c870bc3ab12ca5   \n",
       "0     13  774d2a847e27df43c5c870bc3ab12ca5   \n",
       "0     13  774d2a847e27df43c5c870bc3ab12ca5   \n",
       "0     13  774d2a847e27df43c5c870bc3ab12ca5   \n",
       "\n",
       "                                   universe_settings  execution_time  \\\n",
       "0  {\"cutoff\": \"quantile_0.1\", \"eval_fairness_grou...       45.254582   \n",
       "0  {\"cutoff\": \"quantile_0.1\", \"eval_fairness_grou...       45.254582   \n",
       "0  {\"cutoff\": \"quantile_0.25\", \"eval_fairness_gro...       45.254582   \n",
       "0  {\"cutoff\": \"quantile_0.25\", \"eval_fairness_gro...       45.254582   \n",
       "\n",
       "   test_size_n  test_size_frac  fair_main_equalized_odds_difference  \\\n",
       "0        89710             1.0                             0.039844   \n",
       "0        89710             1.0                             0.039844   \n",
       "0        89710             1.0                             0.065826   \n",
       "0        89710             1.0                             0.065826   \n",
       "\n",
       "   fair_main_equalized_odds_ratio  fair_main_demographic_parity_difference  \\\n",
       "0                        0.957508                                 0.040313   \n",
       "0                        0.957508                                 0.040313   \n",
       "0                        0.931600                                 0.035697   \n",
       "0                        0.931600                                 0.035697   \n",
       "\n",
       "   fair_main_demographic_parity_ratio  ...  perf_grp_precision_0  \\\n",
       "0                            0.956550  ...                   NaN   \n",
       "0                            0.956550  ...              0.123320   \n",
       "0                            0.955271  ...                   NaN   \n",
       "0                            0.955271  ...              0.135577   \n",
       "\n",
       "   perf_grp_precision_1  perf_grp_false positive rate_0  \\\n",
       "0                   NaN                             NaN   \n",
       "0              0.140878                        0.879430   \n",
       "0                   NaN                             NaN   \n",
       "0              0.159342                        0.744882   \n",
       "\n",
       "   perf_grp_false positive rate_1  perf_grp_false negative rate_0  \\\n",
       "0                             NaN                             NaN   \n",
       "0                        0.918457                        0.050676   \n",
       "0                             NaN                             NaN   \n",
       "0                        0.773047                        0.103463   \n",
       "\n",
       "   perf_grp_false negative rate_1  perf_grp_selection rate_0  \\\n",
       "0                             NaN                        NaN   \n",
       "0                        0.010832                   0.887488   \n",
       "0                             NaN                        NaN   \n",
       "0                        0.037637                   0.762366   \n",
       "\n",
       "   perf_grp_selection rate_1  perf_grp_count_0  perf_grp_count_1  \n",
       "0                        NaN               NaN               NaN  \n",
       "0                   0.927801           20540.0           69170.0  \n",
       "0                        NaN               NaN               NaN  \n",
       "0                   0.798063           20540.0           69170.0  \n",
       "\n",
       "[4 rows x 50 columns]"
      ]
     },
     "execution_count": 79,
     "metadata": {},
     "output_type": "execute_result"
    }
   ],
   "source": [
    "final_output = universe_analysis.generate_final_output(\n",
    "    y_pred_prob=probs_test,\n",
    "    y_test=y_true,\n",
    "    org_test=org_test,\n",
    "    filter_data=filter_sub_universe_data,\n",
    "    cp_metrics_df=cp_metrics_df,\n",
    "    save=True,\n",
    ")\n",
    "final_output"
   ]
  },
  {
   "cell_type": "code",
   "execution_count": null,
   "id": "721ff514-cb11-46f8-b6fc-50392f74b5cb",
   "metadata": {
    "papermill": {
     "duration": 0.030421,
     "end_time": "2025-07-30T19:46:31.304167",
     "exception": false,
     "start_time": "2025-07-30T19:46:31.273746",
     "status": "completed"
    },
    "tags": []
   },
   "outputs": [],
   "source": []
  }
 ],
 "metadata": {
  "celltoolbar": "Tags",
  "kernelspec": {
   "display_name": "Python (CMA Fairness)",
   "language": "python",
   "name": "cma_fair_env"
  },
  "language_info": {
   "codemirror_mode": {
    "name": "ipython",
    "version": 3
   },
   "file_extension": ".py",
   "mimetype": "text/x-python",
   "name": "python",
   "nbconvert_exporter": "python",
   "pygments_lexer": "ipython3",
   "version": "3.10.12"
  },
  "papermill": {
   "default_parameters": {},
   "duration": 59.386606,
   "end_time": "2025-07-30T19:46:32.154900",
   "environment_variables": {},
   "exception": null,
   "input_path": "universe_analysis.ipynb",
   "output_path": "output/runs/13/notebooks/m_13-774d2a847e27df43c5c870bc3ab12ca5.ipynb",
   "parameters": {
    "output_dir": "output",
    "run_no": "13",
    "seed": "2023",
    "universe": "{\"cutoff\": [\"quantile_0.1\", \"quantile_0.25\"], \"eval_fairness_grouping\": [\"majority-minority\", \"nationality-all\"], \"exclude_features\": \"sex\", \"exclude_subgroups\": \"drop-non-german\", \"model\": \"rf\", \"scale\": \"scale\", \"training_size\": \"25k\", \"training_year\": \"2014\"}",
    "universe_id": "774d2a847e27df43c5c870bc3ab12ca5"
   },
   "start_time": "2025-07-30T19:45:32.768294",
   "version": "2.6.0"
  }
 },
 "nbformat": 4,
 "nbformat_minor": 5
}