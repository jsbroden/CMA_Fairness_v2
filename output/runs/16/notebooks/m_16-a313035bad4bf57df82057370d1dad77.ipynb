{
 "cells": [
  {
   "cell_type": "code",
   "execution_count": 1,
   "id": "f159f837-637b-42ba-96b5-ec9a68c44524",
   "metadata": {
    "execution": {
     "iopub.execute_input": "2025-08-05T20:46:32.822627Z",
     "iopub.status.busy": "2025-08-05T20:46:32.822180Z",
     "iopub.status.idle": "2025-08-05T20:46:32.831564Z",
     "shell.execute_reply": "2025-08-05T20:46:32.830653Z"
    },
    "papermill": {
     "duration": 0.020606,
     "end_time": "2025-08-05T20:46:32.833400",
     "exception": false,
     "start_time": "2025-08-05T20:46:32.812794",
     "status": "completed"
    },
    "tags": []
   },
   "outputs": [
    {
     "name": "stdout",
     "output_type": "stream",
     "text": [
      "/dss/dsshome1/0C/ra93lal2/cma/CMA_Fairness_v2\n"
     ]
    },
    {
     "name": "stderr",
     "output_type": "stream",
     "text": [
      "/dss/dsshome1/0C/ra93lal2/.local/share/virtualenvs/CMA_Fairness_v2-3j10GkSs/lib/python3.10/site-packages/IPython/core/magics/osm.py:393: UserWarning: This is now an optional IPython functionality, using bookmarks requires you to install the `pickleshare` library.\n",
      "  bkms = self.shell.db.get('bookmarks', {})\n",
      "/dss/dsshome1/0C/ra93lal2/.local/share/virtualenvs/CMA_Fairness_v2-3j10GkSs/lib/python3.10/site-packages/IPython/core/magics/osm.py:417: UserWarning: This is now an optional IPython functionality, setting dhist requires you to install the `pickleshare` library.\n",
      "  self.shell.db['dhist'] = compress_dhist(dhist)[-100:]\n"
     ]
    }
   ],
   "source": [
    "%cd ~/cma/CMA_Fairness_v2"
   ]
  },
  {
   "cell_type": "markdown",
   "id": "de2603b9",
   "metadata": {
    "papermill": {
     "duration": 0.013046,
     "end_time": "2025-08-05T20:46:32.859044",
     "exception": false,
     "start_time": "2025-08-05T20:46:32.845998",
     "status": "completed"
    },
    "tags": []
   },
   "source": [
    "The following cell holds the definition of our parameters, these values can be overriden by rendering the with e.g. the following command:\n",
    "\n",
    "papermill -p alpha 0.2 -p ratio 0.3 universe_analysis.ipynb output/test_run.ipynb"
   ]
  },
  {
   "cell_type": "code",
   "execution_count": 2,
   "id": "a80968a0-40bb-4fa9-85ef-2d5eefb01975",
   "metadata": {
    "execution": {
     "iopub.execute_input": "2025-08-05T20:46:32.877235Z",
     "iopub.status.busy": "2025-08-05T20:46:32.876690Z",
     "iopub.status.idle": "2025-08-05T20:46:32.881413Z",
     "shell.execute_reply": "2025-08-05T20:46:32.880629Z"
    },
    "papermill": {
     "duration": 0.015393,
     "end_time": "2025-08-05T20:46:32.882733",
     "exception": false,
     "start_time": "2025-08-05T20:46:32.867340",
     "status": "completed"
    },
    "tags": []
   },
   "outputs": [
    {
     "name": "stdout",
     "output_type": "stream",
     "text": [
      "Current working directory: /dss/dsshome1/0C/ra93lal2/cma/CMA_Fairness_v2\n"
     ]
    }
   ],
   "source": [
    "import os\n",
    "print(\"Current working directory:\", os.getcwd())"
   ]
  },
  {
   "cell_type": "code",
   "execution_count": 3,
   "id": "2dce4c03",
   "metadata": {
    "execution": {
     "iopub.execute_input": "2025-08-05T20:46:32.901132Z",
     "iopub.status.busy": "2025-08-05T20:46:32.900773Z",
     "iopub.status.idle": "2025-08-05T20:46:32.907130Z",
     "shell.execute_reply": "2025-08-05T20:46:32.906007Z"
    },
    "papermill": {
     "duration": 0.017007,
     "end_time": "2025-08-05T20:46:32.908452",
     "exception": false,
     "start_time": "2025-08-05T20:46:32.891445",
     "status": "completed"
    },
    "tags": [
     "parameters"
    ]
   },
   "outputs": [],
   "source": [
    "run_no = 0\n",
    "universe_id = \"test\"\n",
    "universe = {\n",
    "    \"training_size\": \"25k\", # \"25k\", \"5k\", \"1k\"\n",
    "    \"training_year\": \"2014\", # \"2014\", \"2012_14\", \"2010_14\"\n",
    "    \"scale\": \"scale\", # \"scale\", \"do-not-scale\",\n",
    "    \"model\": \"elasticnet\", # \"logreg\", \"penalized_logreg\", \"rf\", \"gbm\", \"elasticnet\"\n",
    "    \"cutoff\": [\"quantile_0.15\", \"quantile_0.30\"],\n",
    "    \"exclude_features\": \"age\", # \"none\", \"nationality\", \"sex\", \"nationality-sex\", \"age\"\n",
    "    \"exclude_subgroups\": \"keep-all\", # \"keep-all\", \"drop-non-german\"\n",
    "    \"eval_fairness_grouping\": [\"majority-minority\", \"nationality-all\"]\n",
    "}\n",
    "\n",
    "output_dir=\"./output\"\n",
    "seed=0"
   ]
  },
  {
   "cell_type": "code",
   "execution_count": 4,
   "id": "5801a87a",
   "metadata": {
    "execution": {
     "iopub.execute_input": "2025-08-05T20:46:32.927162Z",
     "iopub.status.busy": "2025-08-05T20:46:32.926410Z",
     "iopub.status.idle": "2025-08-05T20:46:32.938217Z",
     "shell.execute_reply": "2025-08-05T20:46:32.937547Z"
    },
    "papermill": {
     "duration": 0.022381,
     "end_time": "2025-08-05T20:46:32.939552",
     "exception": false,
     "start_time": "2025-08-05T20:46:32.917171",
     "status": "completed"
    },
    "tags": [
     "injected-parameters"
    ]
   },
   "outputs": [],
   "source": [
    "# Parameters\n",
    "universe_id = \"a313035bad4bf57df82057370d1dad77\"\n",
    "run_no = \"16\"\n",
    "universe = \"{\\\"cutoff\\\": [\\\"quantile_0.1\\\", \\\"quantile_0.25\\\"], \\\"eval_fairness_grouping\\\": [\\\"majority-minority\\\", \\\"nationality-all\\\"], \\\"exclude_features\\\": \\\"age\\\", \\\"exclude_subgroups\\\": \\\"drop-non-german\\\", \\\"model\\\": \\\"gbm\\\", \\\"scale\\\": \\\"do-not-scale\\\", \\\"training_size\\\": \\\"25k\\\", \\\"training_year\\\": \\\"2014\\\"}\"\n",
    "output_dir = \"output\"\n",
    "seed = \"2023\"\n"
   ]
  },
  {
   "cell_type": "code",
   "execution_count": 5,
   "id": "1650acaf",
   "metadata": {
    "execution": {
     "iopub.execute_input": "2025-08-05T20:46:32.957721Z",
     "iopub.status.busy": "2025-08-05T20:46:32.957245Z",
     "iopub.status.idle": "2025-08-05T20:46:32.960947Z",
     "shell.execute_reply": "2025-08-05T20:46:32.960258Z"
    },
    "papermill": {
     "duration": 0.013942,
     "end_time": "2025-08-05T20:46:32.962393",
     "exception": false,
     "start_time": "2025-08-05T20:46:32.948451",
     "status": "completed"
    },
    "tags": []
   },
   "outputs": [],
   "source": [
    "import json\n",
    "if isinstance(universe, str):\n",
    "    universe = json.loads(universe)"
   ]
  },
  {
   "cell_type": "code",
   "execution_count": 6,
   "id": "16620c48",
   "metadata": {
    "execution": {
     "iopub.execute_input": "2025-08-05T20:46:32.980962Z",
     "iopub.status.busy": "2025-08-05T20:46:32.980385Z",
     "iopub.status.idle": "2025-08-05T20:46:33.012611Z",
     "shell.execute_reply": "2025-08-05T20:46:33.011739Z"
    },
    "papermill": {
     "duration": 0.042993,
     "end_time": "2025-08-05T20:46:33.014308",
     "exception": false,
     "start_time": "2025-08-05T20:46:32.971315",
     "status": "completed"
    },
    "tags": []
   },
   "outputs": [],
   "source": [
    "# Auto-reload the custom package\n",
    "%load_ext autoreload\n",
    "%autoreload 1\n",
    "%aimport fairness_multiverse"
   ]
  },
  {
   "cell_type": "code",
   "execution_count": 7,
   "id": "01c5c9f3",
   "metadata": {
    "execution": {
     "iopub.execute_input": "2025-08-05T20:46:33.047041Z",
     "iopub.status.busy": "2025-08-05T20:46:33.046814Z",
     "iopub.status.idle": "2025-08-05T20:46:34.915076Z",
     "shell.execute_reply": "2025-08-05T20:46:34.913991Z"
    },
    "papermill": {
     "duration": 1.886533,
     "end_time": "2025-08-05T20:46:34.917113",
     "exception": false,
     "start_time": "2025-08-05T20:46:33.030580",
     "status": "completed"
    },
    "tags": []
   },
   "outputs": [],
   "source": [
    "from fairness_multiverse.universe import UniverseAnalysis\n",
    "\n",
    "universe_analysis = UniverseAnalysis(\n",
    "    run_no = run_no,\n",
    "    universe_id = universe_id,\n",
    "    universe = universe,\n",
    "    output_dir=output_dir,\n",
    ")"
   ]
  },
  {
   "cell_type": "code",
   "execution_count": 8,
   "id": "106241f5",
   "metadata": {
    "execution": {
     "iopub.execute_input": "2025-08-05T20:46:34.957389Z",
     "iopub.status.busy": "2025-08-05T20:46:34.956885Z",
     "iopub.status.idle": "2025-08-05T20:46:34.963867Z",
     "shell.execute_reply": "2025-08-05T20:46:34.962693Z"
    },
    "papermill": {
     "duration": 0.029015,
     "end_time": "2025-08-05T20:46:34.965787",
     "exception": false,
     "start_time": "2025-08-05T20:46:34.936772",
     "status": "completed"
    },
    "tags": []
   },
   "outputs": [
    {
     "name": "stdout",
     "output_type": "stream",
     "text": [
      "Using Seed: 2023\n"
     ]
    }
   ],
   "source": [
    "import numpy as np\n",
    "parsed_seed = int(seed)\n",
    "np.random.seed(parsed_seed)\n",
    "print(f\"Using Seed: {parsed_seed}\")"
   ]
  },
  {
   "cell_type": "markdown",
   "id": "e0ebdc57",
   "metadata": {
    "papermill": {
     "duration": 0.016336,
     "end_time": "2025-08-05T20:46:34.999377",
     "exception": false,
     "start_time": "2025-08-05T20:46:34.983041",
     "status": "completed"
    },
    "tags": []
   },
   "source": [
    "# Loading Data"
   ]
  },
  {
   "cell_type": "code",
   "execution_count": 9,
   "id": "f0496b8a",
   "metadata": {
    "execution": {
     "iopub.execute_input": "2025-08-05T20:46:35.034485Z",
     "iopub.status.busy": "2025-08-05T20:46:35.033683Z",
     "iopub.status.idle": "2025-08-05T20:46:47.076499Z",
     "shell.execute_reply": "2025-08-05T20:46:47.075258Z"
    },
    "papermill": {
     "duration": 12.062225,
     "end_time": "2025-08-05T20:46:47.078113",
     "exception": false,
     "start_time": "2025-08-05T20:46:35.015888",
     "status": "completed"
    },
    "tags": []
   },
   "outputs": [
    {
     "name": "stdout",
     "output_type": "stream",
     "text": [
      "Loading SIAB data from cache: data/siab_cached.csv.gz\n"
     ]
    },
    {
     "name": "stdout",
     "output_type": "stream",
     "text": [
      "(643690, 164)\n"
     ]
    }
   ],
   "source": [
    "from pathlib import Path\n",
    "import pandas as pd\n",
    "\n",
    "# File paths\n",
    "raw_file = Path(\"data/raw/siab.csv\")\n",
    "cache_file = Path(\"data/siab_cached.csv.gz\")\n",
    "\n",
    "# Ensure cache directory exists\n",
    "cache_file.parent.mkdir(parents=True, exist_ok=True)\n",
    "\n",
    "# Load with simple caching\n",
    "if cache_file.exists():\n",
    "    print(f\"Loading SIAB data from cache: {cache_file}\")\n",
    "    siab = pd.read_csv(cache_file, compression='gzip')\n",
    "else:\n",
    "    print(f\"Cache not found. Reading raw SIAB data: {raw_file}\")\n",
    "    siab = pd.read_csv(raw_file)\n",
    "    siab.to_csv(cache_file, index=False, compression='gzip')\n",
    "    print(f\"Cached SIAB data to: {cache_file}\")\n",
    "\n",
    "print(siab.shape)"
   ]
  },
  {
   "cell_type": "code",
   "execution_count": 10,
   "id": "db0ca512-5f53-4dba-abdb-a2888bca41ba",
   "metadata": {
    "execution": {
     "iopub.execute_input": "2025-08-05T20:46:47.118651Z",
     "iopub.status.busy": "2025-08-05T20:46:47.118131Z",
     "iopub.status.idle": "2025-08-05T20:46:47.123883Z",
     "shell.execute_reply": "2025-08-05T20:46:47.122860Z"
    },
    "papermill": {
     "duration": 0.026806,
     "end_time": "2025-08-05T20:46:47.125749",
     "exception": false,
     "start_time": "2025-08-05T20:46:47.098943",
     "status": "completed"
    },
    "tags": []
   },
   "outputs": [],
   "source": [
    "#siab"
   ]
  },
  {
   "cell_type": "markdown",
   "id": "997051c5-15bd-4b69-9786-c3001a3ce484",
   "metadata": {
    "papermill": {
     "duration": 0.017774,
     "end_time": "2025-08-05T20:46:47.162042",
     "exception": false,
     "start_time": "2025-08-05T20:46:47.144268",
     "status": "completed"
    },
    "tags": []
   },
   "source": [
    "# Splitting Data and Setting Training Data Size"
   ]
  },
  {
   "cell_type": "code",
   "execution_count": 11,
   "id": "aea9c6ef-6f46-42c8-85eb-5a62025c1508",
   "metadata": {
    "execution": {
     "iopub.execute_input": "2025-08-05T20:46:47.199007Z",
     "iopub.status.busy": "2025-08-05T20:46:47.198274Z",
     "iopub.status.idle": "2025-08-05T20:46:47.440263Z",
     "shell.execute_reply": "2025-08-05T20:46:47.439311Z"
    },
    "papermill": {
     "duration": 0.262293,
     "end_time": "2025-08-05T20:46:47.442193",
     "exception": false,
     "start_time": "2025-08-05T20:46:47.179900",
     "status": "completed"
    },
    "tags": []
   },
   "outputs": [],
   "source": [
    "from fairness_multiverse.universe import sample_by_year_size\n",
    "\n",
    "siab_train = sample_by_year_size(siab,\n",
    "                               training_year=universe[\"training_year\"],\n",
    "                               training_size=universe[\"training_size\"])"
   ]
  },
  {
   "cell_type": "code",
   "execution_count": 12,
   "id": "8d3afb32-789d-442c-8d5d-9f5aa8dd2eed",
   "metadata": {
    "execution": {
     "iopub.execute_input": "2025-08-05T20:46:47.478147Z",
     "iopub.status.busy": "2025-08-05T20:46:47.477637Z",
     "iopub.status.idle": "2025-08-05T20:46:47.482381Z",
     "shell.execute_reply": "2025-08-05T20:46:47.481373Z"
    },
    "papermill": {
     "duration": 0.024181,
     "end_time": "2025-08-05T20:46:47.484033",
     "exception": false,
     "start_time": "2025-08-05T20:46:47.459852",
     "status": "completed"
    },
    "tags": []
   },
   "outputs": [],
   "source": [
    "#siab_train.shape"
   ]
  },
  {
   "cell_type": "code",
   "execution_count": 13,
   "id": "d582db68-1a4c-47fb-84fc-08518dc1975a",
   "metadata": {
    "execution": {
     "iopub.execute_input": "2025-08-05T20:46:47.519602Z",
     "iopub.status.busy": "2025-08-05T20:46:47.518835Z",
     "iopub.status.idle": "2025-08-05T20:46:47.523794Z",
     "shell.execute_reply": "2025-08-05T20:46:47.522832Z"
    },
    "papermill": {
     "duration": 0.024469,
     "end_time": "2025-08-05T20:46:47.525511",
     "exception": false,
     "start_time": "2025-08-05T20:46:47.501042",
     "status": "completed"
    },
    "tags": []
   },
   "outputs": [],
   "source": [
    "#display(siab_train.groupby(\"year\").size())"
   ]
  },
  {
   "cell_type": "code",
   "execution_count": 14,
   "id": "a561edb4-d032-42cb-8256-22eac1111c64",
   "metadata": {
    "execution": {
     "iopub.execute_input": "2025-08-05T20:46:47.561770Z",
     "iopub.status.busy": "2025-08-05T20:46:47.561435Z",
     "iopub.status.idle": "2025-08-05T20:46:47.795219Z",
     "shell.execute_reply": "2025-08-05T20:46:47.794186Z"
    },
    "papermill": {
     "duration": 0.254188,
     "end_time": "2025-08-05T20:46:47.797168",
     "exception": false,
     "start_time": "2025-08-05T20:46:47.542980",
     "status": "completed"
    },
    "tags": []
   },
   "outputs": [],
   "source": [
    "#siab_train = siab_s[siab_s.year < 2015]\n",
    "siab_calib = siab[siab.year == 2015]\n",
    "siab_test = siab[siab.year == 2016]"
   ]
  },
  {
   "cell_type": "code",
   "execution_count": 15,
   "id": "472de16f-c3db-4916-846b-1f0de9cf1746",
   "metadata": {
    "execution": {
     "iopub.execute_input": "2025-08-05T20:46:47.834258Z",
     "iopub.status.busy": "2025-08-05T20:46:47.833740Z",
     "iopub.status.idle": "2025-08-05T20:46:47.849587Z",
     "shell.execute_reply": "2025-08-05T20:46:47.848375Z"
    },
    "papermill": {
     "duration": 0.036016,
     "end_time": "2025-08-05T20:46:47.851519",
     "exception": false,
     "start_time": "2025-08-05T20:46:47.815503",
     "status": "completed"
    },
    "tags": []
   },
   "outputs": [],
   "source": [
    "X_train = siab_train.iloc[:,4:164]\n",
    "y_train = siab_train.iloc[:, [3]]"
   ]
  },
  {
   "cell_type": "code",
   "execution_count": 16,
   "id": "828c96af-f43a-4ed6-ba47-8ac73a47d56c",
   "metadata": {
    "execution": {
     "iopub.execute_input": "2025-08-05T20:46:47.887759Z",
     "iopub.status.busy": "2025-08-05T20:46:47.887114Z",
     "iopub.status.idle": "2025-08-05T20:46:47.929830Z",
     "shell.execute_reply": "2025-08-05T20:46:47.928629Z"
    },
    "papermill": {
     "duration": 0.062078,
     "end_time": "2025-08-05T20:46:47.931696",
     "exception": false,
     "start_time": "2025-08-05T20:46:47.869618",
     "status": "completed"
    },
    "tags": []
   },
   "outputs": [],
   "source": [
    "X_calib = siab_calib.iloc[:,4:164]\n",
    "y_calib = siab_calib.iloc[:, [3]]"
   ]
  },
  {
   "cell_type": "code",
   "execution_count": 17,
   "id": "c34be9c3-6bd6-476e-acd3-845840e303be",
   "metadata": {
    "execution": {
     "iopub.execute_input": "2025-08-05T20:46:47.968404Z",
     "iopub.status.busy": "2025-08-05T20:46:47.967570Z",
     "iopub.status.idle": "2025-08-05T20:46:48.019428Z",
     "shell.execute_reply": "2025-08-05T20:46:48.018289Z"
    },
    "papermill": {
     "duration": 0.071569,
     "end_time": "2025-08-05T20:46:48.021368",
     "exception": false,
     "start_time": "2025-08-05T20:46:47.949799",
     "status": "completed"
    },
    "tags": []
   },
   "outputs": [],
   "source": [
    "X_test = siab_test.iloc[:,4:164]\n",
    "y_true = siab_test.iloc[:, [3]]"
   ]
  },
  {
   "cell_type": "code",
   "execution_count": 18,
   "id": "e6c733c5",
   "metadata": {
    "execution": {
     "iopub.execute_input": "2025-08-05T20:46:48.057615Z",
     "iopub.status.busy": "2025-08-05T20:46:48.057104Z",
     "iopub.status.idle": "2025-08-05T20:46:48.181144Z",
     "shell.execute_reply": "2025-08-05T20:46:48.179991Z"
    },
    "papermill": {
     "duration": 0.143781,
     "end_time": "2025-08-05T20:46:48.183061",
     "exception": false,
     "start_time": "2025-08-05T20:46:48.039280",
     "status": "completed"
    },
    "tags": []
   },
   "outputs": [],
   "source": [
    "# Auxiliary data needed downstream in the pipeline\n",
    "\n",
    "org_train = X_train.copy()\n",
    "org_test = X_test.copy()\n",
    "org_calib = X_calib.copy()"
   ]
  },
  {
   "cell_type": "markdown",
   "id": "0a4a1b33",
   "metadata": {
    "papermill": {
     "duration": 0.017072,
     "end_time": "2025-08-05T20:46:48.218211",
     "exception": false,
     "start_time": "2025-08-05T20:46:48.201139",
     "status": "completed"
    },
    "tags": []
   },
   "source": [
    "# Preprocessing Data"
   ]
  },
  {
   "cell_type": "code",
   "execution_count": 19,
   "id": "ca879031",
   "metadata": {
    "execution": {
     "iopub.execute_input": "2025-08-05T20:46:48.254269Z",
     "iopub.status.busy": "2025-08-05T20:46:48.253439Z",
     "iopub.status.idle": "2025-08-05T20:46:48.259665Z",
     "shell.execute_reply": "2025-08-05T20:46:48.258673Z"
    },
    "papermill": {
     "duration": 0.025969,
     "end_time": "2025-08-05T20:46:48.261282",
     "exception": false,
     "start_time": "2025-08-05T20:46:48.235313",
     "status": "completed"
    },
    "tags": []
   },
   "outputs": [],
   "source": [
    "# EXCLUDE PROTECTED FEATURES\n",
    "# ----------------------\n",
    "# \"exclude_features\": \"none\", # \"nationality\", \"sex\", \"nationality-sex\"\n",
    "\n",
    "excluded_features = universe[\"exclude_features\"].split(\"-\") # split, e.g.: \"nationality-sex\" -> [\"nationality\", \"sex\"]\n",
    "excluded_features_dictionary = {\n",
    "    \"nationality\": [\"maxdeutsch1\", \"maxdeutsch.Missing.\"],\n",
    "    \"sex\": [\"frau1\"],\n",
    "    \"age\": [\"age\"],\n",
    "}"
   ]
  },
  {
   "cell_type": "code",
   "execution_count": 20,
   "id": "b745ac60",
   "metadata": {
    "execution": {
     "iopub.execute_input": "2025-08-05T20:46:48.297645Z",
     "iopub.status.busy": "2025-08-05T20:46:48.296879Z",
     "iopub.status.idle": "2025-08-05T20:46:48.302149Z",
     "shell.execute_reply": "2025-08-05T20:46:48.301181Z"
    },
    "papermill": {
     "duration": 0.024756,
     "end_time": "2025-08-05T20:46:48.303925",
     "exception": false,
     "start_time": "2025-08-05T20:46:48.279169",
     "status": "completed"
    },
    "tags": []
   },
   "outputs": [],
   "source": [
    "# Code nice names to column names\n",
    "\n",
    "excluded_features_columns = [\n",
    "    excluded_features_dictionary[f] for f in excluded_features if len(f) > 0 and f != \"none\"\n",
    "]"
   ]
  },
  {
   "cell_type": "code",
   "execution_count": 21,
   "id": "f84f73a2",
   "metadata": {
    "execution": {
     "iopub.execute_input": "2025-08-05T20:46:48.340955Z",
     "iopub.status.busy": "2025-08-05T20:46:48.340092Z",
     "iopub.status.idle": "2025-08-05T20:46:48.346185Z",
     "shell.execute_reply": "2025-08-05T20:46:48.345234Z"
    },
    "papermill": {
     "duration": 0.025907,
     "end_time": "2025-08-05T20:46:48.347835",
     "exception": false,
     "start_time": "2025-08-05T20:46:48.321928",
     "status": "completed"
    },
    "tags": []
   },
   "outputs": [],
   "source": [
    "from utils import flatten_once\n",
    "\n",
    "excluded_features_columns = flatten_once(excluded_features_columns)"
   ]
  },
  {
   "cell_type": "code",
   "execution_count": 22,
   "id": "884dea22",
   "metadata": {
    "execution": {
     "iopub.execute_input": "2025-08-05T20:46:48.385079Z",
     "iopub.status.busy": "2025-08-05T20:46:48.384299Z",
     "iopub.status.idle": "2025-08-05T20:46:48.399995Z",
     "shell.execute_reply": "2025-08-05T20:46:48.398730Z"
    },
    "papermill": {
     "duration": 0.036036,
     "end_time": "2025-08-05T20:46:48.401796",
     "exception": false,
     "start_time": "2025-08-05T20:46:48.365760",
     "status": "completed"
    },
    "tags": []
   },
   "outputs": [
    {
     "name": "stdout",
     "output_type": "stream",
     "text": [
      "Dropping features: ['age']\n"
     ]
    }
   ],
   "source": [
    "if len(excluded_features_columns) > 0:\n",
    "    print(f\"Dropping features: {excluded_features_columns}\")\n",
    "    X_train.drop(excluded_features_columns, axis=1, inplace=True)"
   ]
  },
  {
   "cell_type": "code",
   "execution_count": 23,
   "id": "95ab8b16",
   "metadata": {
    "execution": {
     "iopub.execute_input": "2025-08-05T20:46:48.441473Z",
     "iopub.status.busy": "2025-08-05T20:46:48.440141Z",
     "iopub.status.idle": "2025-08-05T20:46:48.496950Z",
     "shell.execute_reply": "2025-08-05T20:46:48.495506Z"
    },
    "papermill": {
     "duration": 0.078287,
     "end_time": "2025-08-05T20:46:48.499157",
     "exception": false,
     "start_time": "2025-08-05T20:46:48.420870",
     "status": "completed"
    },
    "tags": []
   },
   "outputs": [
    {
     "name": "stdout",
     "output_type": "stream",
     "text": [
      "Dropping features: ['age']\n"
     ]
    }
   ],
   "source": [
    "if len(excluded_features_columns) > 0:\n",
    "    print(f\"Dropping features: {excluded_features_columns}\")\n",
    "    X_test.drop(excluded_features_columns, axis=1, inplace=True)"
   ]
  },
  {
   "cell_type": "code",
   "execution_count": 24,
   "id": "1853aaf5-fb9f-46cb-a2b5-8ea4ae2237e4",
   "metadata": {
    "execution": {
     "iopub.execute_input": "2025-08-05T20:46:48.545938Z",
     "iopub.status.busy": "2025-08-05T20:46:48.544479Z",
     "iopub.status.idle": "2025-08-05T20:46:48.596687Z",
     "shell.execute_reply": "2025-08-05T20:46:48.595738Z"
    },
    "papermill": {
     "duration": 0.07546,
     "end_time": "2025-08-05T20:46:48.598497",
     "exception": false,
     "start_time": "2025-08-05T20:46:48.523037",
     "status": "completed"
    },
    "tags": []
   },
   "outputs": [
    {
     "name": "stdout",
     "output_type": "stream",
     "text": [
      "Dropping features: ['age']\n"
     ]
    }
   ],
   "source": [
    "if len(excluded_features_columns) > 0:\n",
    "    print(f\"Dropping features: {excluded_features_columns}\")\n",
    "    X_calib.drop(excluded_features_columns, axis=1, inplace=True)"
   ]
  },
  {
   "cell_type": "code",
   "execution_count": 25,
   "id": "76c4dc6d",
   "metadata": {
    "execution": {
     "iopub.execute_input": "2025-08-05T20:46:48.637757Z",
     "iopub.status.busy": "2025-08-05T20:46:48.637132Z",
     "iopub.status.idle": "2025-08-05T20:46:48.642612Z",
     "shell.execute_reply": "2025-08-05T20:46:48.641551Z"
    },
    "papermill": {
     "duration": 0.026516,
     "end_time": "2025-08-05T20:46:48.644315",
     "exception": false,
     "start_time": "2025-08-05T20:46:48.617799",
     "status": "completed"
    },
    "tags": []
   },
   "outputs": [],
   "source": [
    "# EXCLUDE CERTAIN SUBGROUPS\n",
    "# ----------------------\n",
    "\n",
    "mode = universe.get(\"exclude_subgroups\", \"keep-all\") \n",
    "# Fetches the exclude_subgroups setting from the universe dict.\n",
    "# Defaults to \"keep-all\" if the key is missing."
   ]
  },
  {
   "cell_type": "code",
   "execution_count": 26,
   "id": "21994072",
   "metadata": {
    "execution": {
     "iopub.execute_input": "2025-08-05T20:46:48.682008Z",
     "iopub.status.busy": "2025-08-05T20:46:48.681226Z",
     "iopub.status.idle": "2025-08-05T20:46:48.687504Z",
     "shell.execute_reply": "2025-08-05T20:46:48.686600Z"
    },
    "papermill": {
     "duration": 0.026569,
     "end_time": "2025-08-05T20:46:48.689113",
     "exception": false,
     "start_time": "2025-08-05T20:46:48.662544",
     "status": "completed"
    },
    "tags": []
   },
   "outputs": [],
   "source": [
    "if mode == \"keep-all\":\n",
    "    keep_mask = pd.Series(True, index=org_train.index)\n",
    "\n",
    "# org_train contains the original feature columns from features_org (in Simson)\n",
    "# features_org contains unprocessed features, for me X_train at beginning ???\n",
    "# For keep-all, creates a boolean Series (keep_mask) of all True, so no rows are removed.\n",
    "\n",
    "elif mode == \"drop-non-german\":\n",
    "    keep_mask = org_train[\"maxdeutsch1\"] == 1 # ??? what about missing values?\n",
    "\n",
    "else:\n",
    "    raise ValueError(f\"Unsupported mode for exclude_subgroups: {mode}\")"
   ]
  },
  {
   "cell_type": "code",
   "execution_count": 27,
   "id": "71651440",
   "metadata": {
    "execution": {
     "iopub.execute_input": "2025-08-05T20:46:48.727616Z",
     "iopub.status.busy": "2025-08-05T20:46:48.726922Z",
     "iopub.status.idle": "2025-08-05T20:46:48.734135Z",
     "shell.execute_reply": "2025-08-05T20:46:48.733085Z"
    },
    "papermill": {
     "duration": 0.027464,
     "end_time": "2025-08-05T20:46:48.735762",
     "exception": false,
     "start_time": "2025-08-05T20:46:48.708298",
     "status": "completed"
    },
    "tags": []
   },
   "outputs": [
    {
     "name": "stdout",
     "output_type": "stream",
     "text": [
      "Dropping 3688 rows (14.75%) where mode='drop-non-german'\n"
     ]
    }
   ],
   "source": [
    "n_drop = (~keep_mask).sum() # Calculates how many rows are set to be dropped\n",
    "if n_drop > 0:\n",
    "    pct = n_drop / len(keep_mask) * 100\n",
    "    print(f\"Dropping {n_drop} rows ({pct:.2f}%) where mode='{mode}'\")"
   ]
  },
  {
   "cell_type": "code",
   "execution_count": 28,
   "id": "5fb8eee5",
   "metadata": {
    "execution": {
     "iopub.execute_input": "2025-08-05T20:46:48.774353Z",
     "iopub.status.busy": "2025-08-05T20:46:48.773697Z",
     "iopub.status.idle": "2025-08-05T20:46:48.795112Z",
     "shell.execute_reply": "2025-08-05T20:46:48.794054Z"
    },
    "papermill": {
     "duration": 0.042759,
     "end_time": "2025-08-05T20:46:48.797053",
     "exception": false,
     "start_time": "2025-08-05T20:46:48.754294",
     "status": "completed"
    },
    "tags": []
   },
   "outputs": [],
   "source": [
    "X_train = X_train[keep_mask]"
   ]
  },
  {
   "cell_type": "code",
   "execution_count": 29,
   "id": "b202bb3a",
   "metadata": {
    "execution": {
     "iopub.execute_input": "2025-08-05T20:46:48.836147Z",
     "iopub.status.busy": "2025-08-05T20:46:48.835606Z",
     "iopub.status.idle": "2025-08-05T20:46:48.842855Z",
     "shell.execute_reply": "2025-08-05T20:46:48.841864Z"
    },
    "papermill": {
     "duration": 0.028135,
     "end_time": "2025-08-05T20:46:48.844658",
     "exception": false,
     "start_time": "2025-08-05T20:46:48.816523",
     "status": "completed"
    },
    "tags": []
   },
   "outputs": [],
   "source": [
    "y_train = y_train[keep_mask]"
   ]
  },
  {
   "cell_type": "markdown",
   "id": "493e2ac3",
   "metadata": {
    "papermill": {
     "duration": 0.017833,
     "end_time": "2025-08-05T20:46:48.881216",
     "exception": false,
     "start_time": "2025-08-05T20:46:48.863383",
     "status": "completed"
    },
    "tags": []
   },
   "source": [
    "# Model Training"
   ]
  },
  {
   "cell_type": "code",
   "execution_count": 30,
   "id": "679e1268",
   "metadata": {
    "execution": {
     "iopub.execute_input": "2025-08-05T20:46:48.919351Z",
     "iopub.status.busy": "2025-08-05T20:46:48.917920Z",
     "iopub.status.idle": "2025-08-05T20:46:49.021270Z",
     "shell.execute_reply": "2025-08-05T20:46:49.020293Z"
    },
    "papermill": {
     "duration": 0.124115,
     "end_time": "2025-08-05T20:46:49.023235",
     "exception": false,
     "start_time": "2025-08-05T20:46:48.899120",
     "status": "completed"
    },
    "tags": []
   },
   "outputs": [],
   "source": [
    "from sklearn.linear_model import LogisticRegression\n",
    "from sklearn.ensemble import GradientBoostingClassifier, RandomForestClassifier\n",
    "\n",
    "if (universe[\"model\"] == \"logreg\"):\n",
    "    model = LogisticRegression() #penalty=\"none\", solver=\"newton-cg\", max_iter=1) # include random_state=19 ?\n",
    "elif (universe[\"model\"] == \"penalized_logreg\"):\n",
    "    model = LogisticRegression(penalty=\"l2\", C=0.1) #, solver=\"newton-cg\", max_iter=1)\n",
    "elif (universe[\"model\"] == \"rf\"):\n",
    "    model = RandomForestClassifier() # n_estimators=100, n_jobs=-1\n",
    "elif (universe[\"model\"] == \"gbm\"):\n",
    "    model = GradientBoostingClassifier()\n",
    "elif (universe[\"model\"] == \"elasticnet\"):\n",
    "    model = LogisticRegression(penalty = 'elasticnet', solver = 'saga', l1_ratio = 0.5) # max_iter=5000\n",
    "else:\n",
    "    raise \"Unsupported universe.model\""
   ]
  },
  {
   "cell_type": "code",
   "execution_count": 31,
   "id": "0cc8f744",
   "metadata": {
    "execution": {
     "iopub.execute_input": "2025-08-05T20:46:49.062476Z",
     "iopub.status.busy": "2025-08-05T20:46:49.061673Z",
     "iopub.status.idle": "2025-08-05T20:46:49.068136Z",
     "shell.execute_reply": "2025-08-05T20:46:49.067104Z"
    },
    "papermill": {
     "duration": 0.027159,
     "end_time": "2025-08-05T20:46:49.069912",
     "exception": false,
     "start_time": "2025-08-05T20:46:49.042753",
     "status": "completed"
    },
    "tags": []
   },
   "outputs": [],
   "source": [
    "import numpy as np\n",
    "from sklearn.pipeline import Pipeline\n",
    "from sklearn.preprocessing import StandardScaler\n",
    "\n",
    "model = Pipeline([\n",
    "    #(\"continuous_processor\", continuous_processor),\n",
    "    #(\"categorical_preprocessor\", categorical_preprocessor),\n",
    "    (\"scale\", StandardScaler() if universe[\"scale\"] == \"scale\" else None), \n",
    "    (\"model\", model),\n",
    "])"
   ]
  },
  {
   "cell_type": "code",
   "execution_count": 32,
   "id": "9442c04d",
   "metadata": {
    "execution": {
     "iopub.execute_input": "2025-08-05T20:46:49.109523Z",
     "iopub.status.busy": "2025-08-05T20:46:49.108845Z",
     "iopub.status.idle": "2025-08-05T20:47:10.789055Z",
     "shell.execute_reply": "2025-08-05T20:47:10.788077Z"
    },
    "papermill": {
     "duration": 21.701035,
     "end_time": "2025-08-05T20:47:10.790783",
     "exception": false,
     "start_time": "2025-08-05T20:46:49.089748",
     "status": "completed"
    },
    "tags": []
   },
   "outputs": [
    {
     "data": {
      "text/html": [
       "<style>#sk-container-id-1 {color: black;background-color: white;}#sk-container-id-1 pre{padding: 0;}#sk-container-id-1 div.sk-toggleable {background-color: white;}#sk-container-id-1 label.sk-toggleable__label {cursor: pointer;display: block;width: 100%;margin-bottom: 0;padding: 0.3em;box-sizing: border-box;text-align: center;}#sk-container-id-1 label.sk-toggleable__label-arrow:before {content: \"▸\";float: left;margin-right: 0.25em;color: #696969;}#sk-container-id-1 label.sk-toggleable__label-arrow:hover:before {color: black;}#sk-container-id-1 div.sk-estimator:hover label.sk-toggleable__label-arrow:before {color: black;}#sk-container-id-1 div.sk-toggleable__content {max-height: 0;max-width: 0;overflow: hidden;text-align: left;background-color: #f0f8ff;}#sk-container-id-1 div.sk-toggleable__content pre {margin: 0.2em;color: black;border-radius: 0.25em;background-color: #f0f8ff;}#sk-container-id-1 input.sk-toggleable__control:checked~div.sk-toggleable__content {max-height: 200px;max-width: 100%;overflow: auto;}#sk-container-id-1 input.sk-toggleable__control:checked~label.sk-toggleable__label-arrow:before {content: \"▾\";}#sk-container-id-1 div.sk-estimator input.sk-toggleable__control:checked~label.sk-toggleable__label {background-color: #d4ebff;}#sk-container-id-1 div.sk-label input.sk-toggleable__control:checked~label.sk-toggleable__label {background-color: #d4ebff;}#sk-container-id-1 input.sk-hidden--visually {border: 0;clip: rect(1px 1px 1px 1px);clip: rect(1px, 1px, 1px, 1px);height: 1px;margin: -1px;overflow: hidden;padding: 0;position: absolute;width: 1px;}#sk-container-id-1 div.sk-estimator {font-family: monospace;background-color: #f0f8ff;border: 1px dotted black;border-radius: 0.25em;box-sizing: border-box;margin-bottom: 0.5em;}#sk-container-id-1 div.sk-estimator:hover {background-color: #d4ebff;}#sk-container-id-1 div.sk-parallel-item::after {content: \"\";width: 100%;border-bottom: 1px solid gray;flex-grow: 1;}#sk-container-id-1 div.sk-label:hover label.sk-toggleable__label {background-color: #d4ebff;}#sk-container-id-1 div.sk-serial::before {content: \"\";position: absolute;border-left: 1px solid gray;box-sizing: border-box;top: 0;bottom: 0;left: 50%;z-index: 0;}#sk-container-id-1 div.sk-serial {display: flex;flex-direction: column;align-items: center;background-color: white;padding-right: 0.2em;padding-left: 0.2em;position: relative;}#sk-container-id-1 div.sk-item {position: relative;z-index: 1;}#sk-container-id-1 div.sk-parallel {display: flex;align-items: stretch;justify-content: center;background-color: white;position: relative;}#sk-container-id-1 div.sk-item::before, #sk-container-id-1 div.sk-parallel-item::before {content: \"\";position: absolute;border-left: 1px solid gray;box-sizing: border-box;top: 0;bottom: 0;left: 50%;z-index: -1;}#sk-container-id-1 div.sk-parallel-item {display: flex;flex-direction: column;z-index: 1;position: relative;background-color: white;}#sk-container-id-1 div.sk-parallel-item:first-child::after {align-self: flex-end;width: 50%;}#sk-container-id-1 div.sk-parallel-item:last-child::after {align-self: flex-start;width: 50%;}#sk-container-id-1 div.sk-parallel-item:only-child::after {width: 0;}#sk-container-id-1 div.sk-dashed-wrapped {border: 1px dashed gray;margin: 0 0.4em 0.5em 0.4em;box-sizing: border-box;padding-bottom: 0.4em;background-color: white;}#sk-container-id-1 div.sk-label label {font-family: monospace;font-weight: bold;display: inline-block;line-height: 1.2em;}#sk-container-id-1 div.sk-label-container {text-align: center;}#sk-container-id-1 div.sk-container {/* jupyter's `normalize.less` sets `[hidden] { display: none; }` but bootstrap.min.css set `[hidden] { display: none !important; }` so we also need the `!important` here to be able to override the default hidden behavior on the sphinx rendered scikit-learn.org. See: https://github.com/scikit-learn/scikit-learn/issues/21755 */display: inline-block !important;position: relative;}#sk-container-id-1 div.sk-text-repr-fallback {display: none;}</style><div id=\"sk-container-id-1\" class=\"sk-top-container\"><div class=\"sk-text-repr-fallback\"><pre>Pipeline(steps=[(&#x27;scale&#x27;, None), (&#x27;model&#x27;, GradientBoostingClassifier())])</pre><b>In a Jupyter environment, please rerun this cell to show the HTML representation or trust the notebook. <br />On GitHub, the HTML representation is unable to render, please try loading this page with nbviewer.org.</b></div><div class=\"sk-container\" hidden><div class=\"sk-item sk-dashed-wrapped\"><div class=\"sk-label-container\"><div class=\"sk-label sk-toggleable\"><input class=\"sk-toggleable__control sk-hidden--visually\" id=\"sk-estimator-id-1\" type=\"checkbox\" ><label for=\"sk-estimator-id-1\" class=\"sk-toggleable__label sk-toggleable__label-arrow\">Pipeline</label><div class=\"sk-toggleable__content\"><pre>Pipeline(steps=[(&#x27;scale&#x27;, None), (&#x27;model&#x27;, GradientBoostingClassifier())])</pre></div></div></div><div class=\"sk-serial\"><div class=\"sk-item\"><div class=\"sk-estimator sk-toggleable\"><input class=\"sk-toggleable__control sk-hidden--visually\" id=\"sk-estimator-id-2\" type=\"checkbox\" ><label for=\"sk-estimator-id-2\" class=\"sk-toggleable__label sk-toggleable__label-arrow\">None</label><div class=\"sk-toggleable__content\"><pre>None</pre></div></div></div><div class=\"sk-item\"><div class=\"sk-estimator sk-toggleable\"><input class=\"sk-toggleable__control sk-hidden--visually\" id=\"sk-estimator-id-3\" type=\"checkbox\" ><label for=\"sk-estimator-id-3\" class=\"sk-toggleable__label sk-toggleable__label-arrow\">GradientBoostingClassifier</label><div class=\"sk-toggleable__content\"><pre>GradientBoostingClassifier()</pre></div></div></div></div></div></div></div>"
      ],
      "text/plain": [
       "Pipeline(steps=[('scale', None), ('model', GradientBoostingClassifier())])"
      ]
     },
     "execution_count": 32,
     "metadata": {},
     "output_type": "execute_result"
    }
   ],
   "source": [
    "model.fit(X_train, y_train.values.ravel())"
   ]
  },
  {
   "cell_type": "code",
   "execution_count": 33,
   "id": "af59f8c0",
   "metadata": {
    "execution": {
     "iopub.execute_input": "2025-08-05T20:47:10.852015Z",
     "iopub.status.busy": "2025-08-05T20:47:10.851479Z",
     "iopub.status.idle": "2025-08-05T20:47:10.857342Z",
     "shell.execute_reply": "2025-08-05T20:47:10.856338Z"
    },
    "papermill": {
     "duration": 0.027905,
     "end_time": "2025-08-05T20:47:10.859140",
     "exception": false,
     "start_time": "2025-08-05T20:47:10.831235",
     "status": "completed"
    },
    "tags": []
   },
   "outputs": [],
   "source": [
    "from fairness_multiverse.universe import predict_w_threshold"
   ]
  },
  {
   "cell_type": "code",
   "execution_count": 34,
   "id": "a7cf2e16",
   "metadata": {
    "execution": {
     "iopub.execute_input": "2025-08-05T20:47:10.897124Z",
     "iopub.status.busy": "2025-08-05T20:47:10.896391Z",
     "iopub.status.idle": "2025-08-05T20:47:11.504975Z",
     "shell.execute_reply": "2025-08-05T20:47:11.503854Z"
    },
    "papermill": {
     "duration": 0.62949,
     "end_time": "2025-08-05T20:47:11.506631",
     "exception": false,
     "start_time": "2025-08-05T20:47:10.877141",
     "status": "completed"
    },
    "tags": []
   },
   "outputs": [
    {
     "data": {
      "text/plain": [
       "0.8706833128971129"
      ]
     },
     "execution_count": 34,
     "metadata": {},
     "output_type": "execute_result"
    }
   ],
   "source": [
    "probs_test = model.predict_proba(X_test)\n",
    "\n",
    "'''\n",
    "Below code returns a boolean array (or binary 0/1 array depending on how it’s used) where each element \n",
    "is True if the probability of class 1 is greater than or equal to the threshold, and False otherwise.\n",
    "'''\n",
    "y_pred_default = predict_w_threshold(probs_test, 0.5)\n",
    "\n",
    "from sklearn.metrics import accuracy_score\n",
    "\n",
    "# Naive prediction\n",
    "accuracy_score(y_true = y_true, y_pred = y_pred_default)"
   ]
  },
  {
   "cell_type": "code",
   "execution_count": 35,
   "id": "081964c3",
   "metadata": {
    "execution": {
     "iopub.execute_input": "2025-08-05T20:47:11.547679Z",
     "iopub.status.busy": "2025-08-05T20:47:11.547040Z",
     "iopub.status.idle": "2025-08-05T20:47:12.129137Z",
     "shell.execute_reply": "2025-08-05T20:47:12.128147Z"
    },
    "papermill": {
     "duration": 0.602506,
     "end_time": "2025-08-05T20:47:12.130888",
     "exception": false,
     "start_time": "2025-08-05T20:47:11.528382",
     "status": "completed"
    },
    "tags": []
   },
   "outputs": [
    {
     "data": {
      "text/plain": [
       "array([0, 0, 0, ..., 0, 0, 0])"
      ]
     },
     "execution_count": 35,
     "metadata": {},
     "output_type": "execute_result"
    }
   ],
   "source": [
    "model.predict(X_test)"
   ]
  },
  {
   "cell_type": "markdown",
   "id": "56c9705b",
   "metadata": {
    "papermill": {
     "duration": 0.017529,
     "end_time": "2025-08-05T20:47:12.167558",
     "exception": false,
     "start_time": "2025-08-05T20:47:12.150029",
     "status": "completed"
    },
    "tags": []
   },
   "source": [
    "# Conformal Prediction"
   ]
  },
  {
   "cell_type": "code",
   "execution_count": 36,
   "id": "160ec6ff",
   "metadata": {
    "execution": {
     "iopub.execute_input": "2025-08-05T20:47:12.206225Z",
     "iopub.status.busy": "2025-08-05T20:47:12.205622Z",
     "iopub.status.idle": "2025-08-05T20:47:12.210951Z",
     "shell.execute_reply": "2025-08-05T20:47:12.209969Z"
    },
    "papermill": {
     "duration": 0.026794,
     "end_time": "2025-08-05T20:47:12.212611",
     "exception": false,
     "start_time": "2025-08-05T20:47:12.185817",
     "status": "completed"
    },
    "tags": []
   },
   "outputs": [],
   "source": [
    "# Miscoverage level for conformal prediction (10% allowed error rate => 90% target coverage)\n",
    "alpha = 0.1"
   ]
  },
  {
   "cell_type": "code",
   "execution_count": 37,
   "id": "eadf4555-3dd3-440e-8e35-f82a4ad9f855",
   "metadata": {
    "execution": {
     "iopub.execute_input": "2025-08-05T20:47:12.250597Z",
     "iopub.status.busy": "2025-08-05T20:47:12.249991Z",
     "iopub.status.idle": "2025-08-05T20:47:12.795737Z",
     "shell.execute_reply": "2025-08-05T20:47:12.794729Z"
    },
    "papermill": {
     "duration": 0.566898,
     "end_time": "2025-08-05T20:47:12.797791",
     "exception": false,
     "start_time": "2025-08-05T20:47:12.230893",
     "status": "completed"
    },
    "tags": []
   },
   "outputs": [],
   "source": [
    "probs_calib = model.predict_proba(X_calib)"
   ]
  },
  {
   "cell_type": "code",
   "execution_count": 38,
   "id": "2ed93547-6d5d-4983-9b36-1ecb300da49a",
   "metadata": {
    "execution": {
     "iopub.execute_input": "2025-08-05T20:47:12.838903Z",
     "iopub.status.busy": "2025-08-05T20:47:12.838078Z",
     "iopub.status.idle": "2025-08-05T20:47:12.843857Z",
     "shell.execute_reply": "2025-08-05T20:47:12.842923Z"
    },
    "papermill": {
     "duration": 0.027291,
     "end_time": "2025-08-05T20:47:12.845660",
     "exception": false,
     "start_time": "2025-08-05T20:47:12.818369",
     "status": "completed"
    },
    "tags": []
   },
   "outputs": [],
   "source": [
    "y_calib = y_calib.values.ravel().astype(int)"
   ]
  },
  {
   "cell_type": "code",
   "execution_count": 39,
   "id": "65d1320d-f588-4b38-9072-62af1ae97f7d",
   "metadata": {
    "execution": {
     "iopub.execute_input": "2025-08-05T20:47:12.884353Z",
     "iopub.status.busy": "2025-08-05T20:47:12.883812Z",
     "iopub.status.idle": "2025-08-05T20:47:12.890869Z",
     "shell.execute_reply": "2025-08-05T20:47:12.890053Z"
    },
    "papermill": {
     "duration": 0.028135,
     "end_time": "2025-08-05T20:47:12.892373",
     "exception": false,
     "start_time": "2025-08-05T20:47:12.864238",
     "status": "completed"
    },
    "tags": []
   },
   "outputs": [],
   "source": [
    "from fairness_multiverse.conformal import compute_nc_scores\n",
    "\n",
    "# Compute nonconformity scores on calibration set (1 - probability of true class)\n",
    "nc_scores = compute_nc_scores(probs_calib, y_calib)"
   ]
  },
  {
   "cell_type": "code",
   "execution_count": 40,
   "id": "df3b8ca3-53b7-43d5-9667-7c85da7aeda2",
   "metadata": {
    "execution": {
     "iopub.execute_input": "2025-08-05T20:47:12.934253Z",
     "iopub.status.busy": "2025-08-05T20:47:12.933300Z",
     "iopub.status.idle": "2025-08-05T20:47:12.939816Z",
     "shell.execute_reply": "2025-08-05T20:47:12.938950Z"
    },
    "papermill": {
     "duration": 0.02956,
     "end_time": "2025-08-05T20:47:12.941453",
     "exception": false,
     "start_time": "2025-08-05T20:47:12.911893",
     "status": "completed"
    },
    "tags": []
   },
   "outputs": [],
   "source": [
    "from fairness_multiverse.conformal import find_threshold\n",
    "\n",
    "# Find conformal threshold q_hat for the given alpha (split conformal method)\n",
    "q_hat = find_threshold(nc_scores, alpha)"
   ]
  },
  {
   "cell_type": "code",
   "execution_count": 41,
   "id": "4d29e6c1-0ef6-4aa4-b8fe-4fe79b0d033a",
   "metadata": {
    "execution": {
     "iopub.execute_input": "2025-08-05T20:47:12.979901Z",
     "iopub.status.busy": "2025-08-05T20:47:12.979133Z",
     "iopub.status.idle": "2025-08-05T20:47:12.987126Z",
     "shell.execute_reply": "2025-08-05T20:47:12.986111Z"
    },
    "papermill": {
     "duration": 0.029101,
     "end_time": "2025-08-05T20:47:12.988926",
     "exception": false,
     "start_time": "2025-08-05T20:47:12.959825",
     "status": "completed"
    },
    "tags": []
   },
   "outputs": [
    {
     "data": {
      "text/plain": [
       "0.6976614646074211"
      ]
     },
     "execution_count": 41,
     "metadata": {},
     "output_type": "execute_result"
    }
   ],
   "source": [
    "q_hat"
   ]
  },
  {
   "cell_type": "code",
   "execution_count": 42,
   "id": "92460794-cdac-4be2-ba28-f28c0515a6fb",
   "metadata": {
    "execution": {
     "iopub.execute_input": "2025-08-05T20:47:13.034927Z",
     "iopub.status.busy": "2025-08-05T20:47:13.034079Z",
     "iopub.status.idle": "2025-08-05T20:47:14.606753Z",
     "shell.execute_reply": "2025-08-05T20:47:14.605707Z"
    },
    "papermill": {
     "duration": 1.595599,
     "end_time": "2025-08-05T20:47:14.608580",
     "exception": false,
     "start_time": "2025-08-05T20:47:13.012981",
     "status": "completed"
    },
    "tags": []
   },
   "outputs": [],
   "source": [
    "from fairness_multiverse.conformal import predict_conformal_sets\n",
    "\n",
    "# Generate prediction sets for each test example\n",
    "pred_sets = predict_conformal_sets(model, X_test, q_hat)"
   ]
  },
  {
   "cell_type": "code",
   "execution_count": 43,
   "id": "d90c9a65-e6db-4f5d-80cd-e68fb7e46829",
   "metadata": {
    "execution": {
     "iopub.execute_input": "2025-08-05T20:47:14.635628Z",
     "iopub.status.busy": "2025-08-05T20:47:14.635181Z",
     "iopub.status.idle": "2025-08-05T20:47:14.641109Z",
     "shell.execute_reply": "2025-08-05T20:47:14.640077Z"
    },
    "papermill": {
     "duration": 0.021989,
     "end_time": "2025-08-05T20:47:14.643242",
     "exception": false,
     "start_time": "2025-08-05T20:47:14.621253",
     "status": "completed"
    },
    "tags": []
   },
   "outputs": [],
   "source": [
    "y_true = y_true.squeeze()"
   ]
  },
  {
   "cell_type": "code",
   "execution_count": 44,
   "id": "3a58a54a-1e68-46b9-927a-df01f18aebc8",
   "metadata": {
    "execution": {
     "iopub.execute_input": "2025-08-05T20:47:14.691105Z",
     "iopub.status.busy": "2025-08-05T20:47:14.690144Z",
     "iopub.status.idle": "2025-08-05T20:47:15.513801Z",
     "shell.execute_reply": "2025-08-05T20:47:15.513058Z"
    },
    "papermill": {
     "duration": 0.848478,
     "end_time": "2025-08-05T20:47:15.515484",
     "exception": false,
     "start_time": "2025-08-05T20:47:14.667006",
     "status": "completed"
    },
    "tags": []
   },
   "outputs": [],
   "source": [
    "from fairness_multiverse.conformal import evaluate_sets\n",
    "\n",
    "# Evaluate coverage and average set size on test data\n",
    "metrics = evaluate_sets(pred_sets, y_true)"
   ]
  },
  {
   "cell_type": "markdown",
   "id": "2b569c12-9aaa-4c88-98c9-bbcd0cf3ebb8",
   "metadata": {
    "papermill": {
     "duration": 0.022574,
     "end_time": "2025-08-05T20:47:15.562128",
     "exception": false,
     "start_time": "2025-08-05T20:47:15.539554",
     "status": "completed"
    },
    "tags": []
   },
   "source": [
    "# CP Metrics"
   ]
  },
  {
   "cell_type": "code",
   "execution_count": 45,
   "id": "5ce0a5cb-201f-45a0-ade5-94c7f0bd6095",
   "metadata": {
    "execution": {
     "iopub.execute_input": "2025-08-05T20:47:15.605946Z",
     "iopub.status.busy": "2025-08-05T20:47:15.605460Z",
     "iopub.status.idle": "2025-08-05T20:47:15.610978Z",
     "shell.execute_reply": "2025-08-05T20:47:15.610232Z"
    },
    "papermill": {
     "duration": 0.029391,
     "end_time": "2025-08-05T20:47:15.612367",
     "exception": false,
     "start_time": "2025-08-05T20:47:15.582976",
     "status": "completed"
    },
    "tags": []
   },
   "outputs": [
    {
     "data": {
      "text/plain": [
       "{'coverage': 0.9102441199420355, 'avg_size': 1.115104224724111}"
      ]
     },
     "execution_count": 45,
     "metadata": {},
     "output_type": "execute_result"
    }
   ],
   "source": [
    "metrics"
   ]
  },
  {
   "cell_type": "code",
   "execution_count": 46,
   "id": "9b9a838d-31c9-430b-ae14-12baee460d17",
   "metadata": {
    "execution": {
     "iopub.execute_input": "2025-08-05T20:47:15.634806Z",
     "iopub.status.busy": "2025-08-05T20:47:15.634425Z",
     "iopub.status.idle": "2025-08-05T20:47:15.640543Z",
     "shell.execute_reply": "2025-08-05T20:47:15.639801Z"
    },
    "papermill": {
     "duration": 0.018639,
     "end_time": "2025-08-05T20:47:15.642142",
     "exception": false,
     "start_time": "2025-08-05T20:47:15.623503",
     "status": "completed"
    },
    "tags": []
   },
   "outputs": [],
   "source": [
    "example_universe = universe.copy()\n",
    "universe_training_year = example_universe.get(\"training_year\")\n",
    "universe_training_size = example_universe.get(\"training_size\")\n",
    "universe_scale = example_universe.get(\"scale\")\n",
    "universe_model = example_universe.get(\"model\")\n",
    "universe_exclude_features = example_universe.get(\"exclude_features\")\n",
    "universe_exclude_subgroups = example_universe.get(\"exclude_subgroups\")"
   ]
  },
  {
   "cell_type": "code",
   "execution_count": 47,
   "id": "f4b6a8ac-9dc0-4245-8a91-5b3b5999c4f9",
   "metadata": {
    "execution": {
     "iopub.execute_input": "2025-08-05T20:47:15.689199Z",
     "iopub.status.busy": "2025-08-05T20:47:15.688695Z",
     "iopub.status.idle": "2025-08-05T20:47:15.693465Z",
     "shell.execute_reply": "2025-08-05T20:47:15.692613Z"
    },
    "papermill": {
     "duration": 0.029908,
     "end_time": "2025-08-05T20:47:15.694962",
     "exception": false,
     "start_time": "2025-08-05T20:47:15.665054",
     "status": "completed"
    },
    "tags": []
   },
   "outputs": [],
   "source": [
    "cp_metrics_dict = {\n",
    "    \"universe_id\": [universe_id],\n",
    "    \"universe_training_year\": [universe_training_year],\n",
    "    \"universe_training_size\": [universe_training_size],\n",
    "    \"universe_scale\": [universe_scale],\n",
    "    \"universe_model\": [universe_model],\n",
    "    \"universe_exclude_features\": [universe_exclude_features],\n",
    "    \"universe_exclude_subgroups\": [universe_exclude_subgroups],\n",
    "    \"q_hat\": [q_hat],\n",
    "    \"coverage\": [metrics[\"coverage\"]],\n",
    "    \"avg_size\": [metrics[\"avg_size\"]],\n",
    "}"
   ]
  },
  {
   "cell_type": "code",
   "execution_count": 48,
   "id": "908acbb1-0371-4915-85ca-3fa520d2efe2",
   "metadata": {
    "execution": {
     "iopub.execute_input": "2025-08-05T20:47:15.720098Z",
     "iopub.status.busy": "2025-08-05T20:47:15.719718Z",
     "iopub.status.idle": "2025-08-05T20:47:15.726848Z",
     "shell.execute_reply": "2025-08-05T20:47:15.725985Z"
    },
    "papermill": {
     "duration": 0.021493,
     "end_time": "2025-08-05T20:47:15.728211",
     "exception": false,
     "start_time": "2025-08-05T20:47:15.706718",
     "status": "completed"
    },
    "tags": []
   },
   "outputs": [
    {
     "data": {
      "text/plain": [
       "{'universe_id': ['a313035bad4bf57df82057370d1dad77'],\n",
       " 'universe_training_year': ['2014'],\n",
       " 'universe_training_size': ['25k'],\n",
       " 'universe_scale': ['do-not-scale'],\n",
       " 'universe_model': ['gbm'],\n",
       " 'universe_exclude_features': ['age'],\n",
       " 'universe_exclude_subgroups': ['drop-non-german'],\n",
       " 'q_hat': [0.6976614646074211],\n",
       " 'coverage': [0.9102441199420355],\n",
       " 'avg_size': [1.115104224724111]}"
      ]
     },
     "execution_count": 48,
     "metadata": {},
     "output_type": "execute_result"
    }
   ],
   "source": [
    "cp_metrics_dict"
   ]
  },
  {
   "cell_type": "code",
   "execution_count": 49,
   "id": "33007efc-14e9-4ec6-97ac-56a455c82265",
   "metadata": {
    "execution": {
     "iopub.execute_input": "2025-08-05T20:47:15.750777Z",
     "iopub.status.busy": "2025-08-05T20:47:15.750286Z",
     "iopub.status.idle": "2025-08-05T20:47:15.754871Z",
     "shell.execute_reply": "2025-08-05T20:47:15.753981Z"
    },
    "papermill": {
     "duration": 0.016853,
     "end_time": "2025-08-05T20:47:15.756132",
     "exception": false,
     "start_time": "2025-08-05T20:47:15.739279",
     "status": "completed"
    },
    "tags": []
   },
   "outputs": [],
   "source": [
    "cp_metrics_df = pd.DataFrame(cp_metrics_dict)"
   ]
  },
  {
   "cell_type": "code",
   "execution_count": 50,
   "id": "db12611b-57b2-4910-b9d0-355adfd6e7bf",
   "metadata": {
    "execution": {
     "iopub.execute_input": "2025-08-05T20:47:15.779098Z",
     "iopub.status.busy": "2025-08-05T20:47:15.778713Z",
     "iopub.status.idle": "2025-08-05T20:47:15.791717Z",
     "shell.execute_reply": "2025-08-05T20:47:15.790928Z"
    },
    "papermill": {
     "duration": 0.025753,
     "end_time": "2025-08-05T20:47:15.792999",
     "exception": false,
     "start_time": "2025-08-05T20:47:15.767246",
     "status": "completed"
    },
    "tags": []
   },
   "outputs": [
    {
     "data": {
      "text/html": [
       "<div>\n",
       "<style scoped>\n",
       "    .dataframe tbody tr th:only-of-type {\n",
       "        vertical-align: middle;\n",
       "    }\n",
       "\n",
       "    .dataframe tbody tr th {\n",
       "        vertical-align: top;\n",
       "    }\n",
       "\n",
       "    .dataframe thead th {\n",
       "        text-align: right;\n",
       "    }\n",
       "</style>\n",
       "<table border=\"1\" class=\"dataframe\">\n",
       "  <thead>\n",
       "    <tr style=\"text-align: right;\">\n",
       "      <th></th>\n",
       "      <th>universe_id</th>\n",
       "      <th>universe_training_year</th>\n",
       "      <th>universe_training_size</th>\n",
       "      <th>universe_scale</th>\n",
       "      <th>universe_model</th>\n",
       "      <th>universe_exclude_features</th>\n",
       "      <th>universe_exclude_subgroups</th>\n",
       "      <th>q_hat</th>\n",
       "      <th>coverage</th>\n",
       "      <th>avg_size</th>\n",
       "    </tr>\n",
       "  </thead>\n",
       "  <tbody>\n",
       "    <tr>\n",
       "      <th>0</th>\n",
       "      <td>a313035bad4bf57df82057370d1dad77</td>\n",
       "      <td>2014</td>\n",
       "      <td>25k</td>\n",
       "      <td>do-not-scale</td>\n",
       "      <td>gbm</td>\n",
       "      <td>age</td>\n",
       "      <td>drop-non-german</td>\n",
       "      <td>0.697661</td>\n",
       "      <td>0.910244</td>\n",
       "      <td>1.115104</td>\n",
       "    </tr>\n",
       "  </tbody>\n",
       "</table>\n",
       "</div>"
      ],
      "text/plain": [
       "                        universe_id universe_training_year  \\\n",
       "0  a313035bad4bf57df82057370d1dad77                   2014   \n",
       "\n",
       "  universe_training_size universe_scale universe_model  \\\n",
       "0                    25k   do-not-scale            gbm   \n",
       "\n",
       "  universe_exclude_features universe_exclude_subgroups     q_hat  coverage  \\\n",
       "0                       age            drop-non-german  0.697661  0.910244   \n",
       "\n",
       "   avg_size  \n",
       "0  1.115104  "
      ]
     },
     "execution_count": 50,
     "metadata": {},
     "output_type": "execute_result"
    }
   ],
   "source": [
    "cp_metrics_df"
   ]
  },
  {
   "cell_type": "code",
   "execution_count": 51,
   "id": "b7fbde55-a0a1-47e4-9af6-fe4a17fa8c61",
   "metadata": {
    "execution": {
     "iopub.execute_input": "2025-08-05T20:47:15.815442Z",
     "iopub.status.busy": "2025-08-05T20:47:15.815062Z",
     "iopub.status.idle": "2025-08-05T20:47:15.818826Z",
     "shell.execute_reply": "2025-08-05T20:47:15.817950Z"
    },
    "papermill": {
     "duration": 0.016246,
     "end_time": "2025-08-05T20:47:15.820229",
     "exception": false,
     "start_time": "2025-08-05T20:47:15.803983",
     "status": "completed"
    },
    "tags": []
   },
   "outputs": [],
   "source": [
    "# Conditional Coverage & looking at subgroups"
   ]
  },
  {
   "cell_type": "code",
   "execution_count": 52,
   "id": "027ae886-68dd-4141-96c7-805a5450e1ef",
   "metadata": {
    "execution": {
     "iopub.execute_input": "2025-08-05T20:47:15.843334Z",
     "iopub.status.busy": "2025-08-05T20:47:15.842967Z",
     "iopub.status.idle": "2025-08-05T20:47:16.020648Z",
     "shell.execute_reply": "2025-08-05T20:47:16.019903Z"
    },
    "papermill": {
     "duration": 0.191205,
     "end_time": "2025-08-05T20:47:16.022572",
     "exception": false,
     "start_time": "2025-08-05T20:47:15.831367",
     "status": "completed"
    },
    "tags": []
   },
   "outputs": [],
   "source": [
    "from fairness_multiverse.conformal import build_cp_groups\n",
    "\n",
    "cp_groups_df = build_cp_groups(pred_sets, y_true, X_test.index, org_test)\n",
    "#needs universe_id and setting"
   ]
  },
  {
   "cell_type": "code",
   "execution_count": 53,
   "id": "6cbdab96-b2b2-45af-ad54-d0516db2e28d",
   "metadata": {
    "execution": {
     "iopub.execute_input": "2025-08-05T20:47:16.073476Z",
     "iopub.status.busy": "2025-08-05T20:47:16.072590Z",
     "iopub.status.idle": "2025-08-05T20:47:17.198438Z",
     "shell.execute_reply": "2025-08-05T20:47:17.197547Z"
    },
    "papermill": {
     "duration": 1.151941,
     "end_time": "2025-08-05T20:47:17.200280",
     "exception": false,
     "start_time": "2025-08-05T20:47:16.048339",
     "status": "completed"
    },
    "tags": []
   },
   "outputs": [],
   "source": [
    "# Define covered = 1 if true_label is in the predicted set\n",
    "cp_groups_df['covered'] = cp_groups_df.apply(\n",
    "    lambda r: int(r['true_label'] in r['pred_set']),\n",
    "    axis=1\n",
    ")"
   ]
  },
  {
   "cell_type": "code",
   "execution_count": 54,
   "id": "338ff529-1a6b-4b87-a931-8e4788d52aad",
   "metadata": {
    "execution": {
     "iopub.execute_input": "2025-08-05T20:47:17.242857Z",
     "iopub.status.busy": "2025-08-05T20:47:17.242253Z",
     "iopub.status.idle": "2025-08-05T20:47:17.246897Z",
     "shell.execute_reply": "2025-08-05T20:47:17.245963Z"
    },
    "papermill": {
     "duration": 0.026893,
     "end_time": "2025-08-05T20:47:17.248519",
     "exception": false,
     "start_time": "2025-08-05T20:47:17.221626",
     "status": "completed"
    },
    "tags": []
   },
   "outputs": [],
   "source": [
    "#cp_groups_df"
   ]
  },
  {
   "cell_type": "code",
   "execution_count": 55,
   "id": "90032e27-66df-4540-9169-4e89cfbaa758",
   "metadata": {
    "execution": {
     "iopub.execute_input": "2025-08-05T20:47:17.289696Z",
     "iopub.status.busy": "2025-08-05T20:47:17.289144Z",
     "iopub.status.idle": "2025-08-05T20:47:17.300517Z",
     "shell.execute_reply": "2025-08-05T20:47:17.299661Z"
    },
    "papermill": {
     "duration": 0.033719,
     "end_time": "2025-08-05T20:47:17.302092",
     "exception": false,
     "start_time": "2025-08-05T20:47:17.268373",
     "status": "completed"
    },
    "tags": []
   },
   "outputs": [],
   "source": [
    "subgroups = ['frau1','nongerman','nongerman_male','nongerman_female']\n",
    "\n",
    "# Conditional coverage for subgroup==1\n",
    "cond_coverage = {\n",
    "    g: cp_groups_df.loc[cp_groups_df[g]==1, 'covered'].mean()\n",
    "    for g in subgroups\n",
    "}"
   ]
  },
  {
   "cell_type": "code",
   "execution_count": 56,
   "id": "1e348fb1-b9c3-45bc-ba23-f016827a7e0d",
   "metadata": {
    "execution": {
     "iopub.execute_input": "2025-08-05T20:47:17.343947Z",
     "iopub.status.busy": "2025-08-05T20:47:17.343341Z",
     "iopub.status.idle": "2025-08-05T20:47:17.350626Z",
     "shell.execute_reply": "2025-08-05T20:47:17.349645Z"
    },
    "papermill": {
     "duration": 0.029985,
     "end_time": "2025-08-05T20:47:17.352131",
     "exception": false,
     "start_time": "2025-08-05T20:47:17.322146",
     "status": "completed"
    },
    "tags": []
   },
   "outputs": [
    {
     "data": {
      "text/plain": [
       "{'frau1': 0.9091252190322145,\n",
       " 'nongerman': 0.9057429966878122,\n",
       " 'nongerman_male': 0.9229937854633883,\n",
       " 'nongerman_female': 0.8771982116244411}"
      ]
     },
     "execution_count": 56,
     "metadata": {},
     "output_type": "execute_result"
    }
   ],
   "source": [
    "cond_coverage"
   ]
  },
  {
   "cell_type": "code",
   "execution_count": 57,
   "id": "f5093324-c3dd-4d63-bc4c-8d945e5c8bbb",
   "metadata": {
    "execution": {
     "iopub.execute_input": "2025-08-05T20:47:17.393933Z",
     "iopub.status.busy": "2025-08-05T20:47:17.393212Z",
     "iopub.status.idle": "2025-08-05T20:47:17.399792Z",
     "shell.execute_reply": "2025-08-05T20:47:17.398850Z"
    },
    "papermill": {
     "duration": 0.029819,
     "end_time": "2025-08-05T20:47:17.401958",
     "exception": false,
     "start_time": "2025-08-05T20:47:17.372139",
     "status": "completed"
    },
    "tags": []
   },
   "outputs": [],
   "source": [
    "for subgroup, cov in cond_coverage.items():\n",
    "    cp_metrics_df[f\"cov_{subgroup}\"] = cov"
   ]
  },
  {
   "cell_type": "code",
   "execution_count": 58,
   "id": "6e872e10-dbe5-49e8-b554-5030c98ff75d",
   "metadata": {
    "execution": {
     "iopub.execute_input": "2025-08-05T20:47:17.447324Z",
     "iopub.status.busy": "2025-08-05T20:47:17.446844Z",
     "iopub.status.idle": "2025-08-05T20:47:17.466602Z",
     "shell.execute_reply": "2025-08-05T20:47:17.465690Z"
    },
    "papermill": {
     "duration": 0.042439,
     "end_time": "2025-08-05T20:47:17.468170",
     "exception": false,
     "start_time": "2025-08-05T20:47:17.425731",
     "status": "completed"
    },
    "tags": []
   },
   "outputs": [
    {
     "data": {
      "text/html": [
       "<div>\n",
       "<style scoped>\n",
       "    .dataframe tbody tr th:only-of-type {\n",
       "        vertical-align: middle;\n",
       "    }\n",
       "\n",
       "    .dataframe tbody tr th {\n",
       "        vertical-align: top;\n",
       "    }\n",
       "\n",
       "    .dataframe thead th {\n",
       "        text-align: right;\n",
       "    }\n",
       "</style>\n",
       "<table border=\"1\" class=\"dataframe\">\n",
       "  <thead>\n",
       "    <tr style=\"text-align: right;\">\n",
       "      <th></th>\n",
       "      <th>universe_id</th>\n",
       "      <th>universe_training_year</th>\n",
       "      <th>universe_training_size</th>\n",
       "      <th>universe_scale</th>\n",
       "      <th>universe_model</th>\n",
       "      <th>universe_exclude_features</th>\n",
       "      <th>universe_exclude_subgroups</th>\n",
       "      <th>q_hat</th>\n",
       "      <th>coverage</th>\n",
       "      <th>avg_size</th>\n",
       "      <th>cov_frau1</th>\n",
       "      <th>cov_nongerman</th>\n",
       "      <th>cov_nongerman_male</th>\n",
       "      <th>cov_nongerman_female</th>\n",
       "    </tr>\n",
       "  </thead>\n",
       "  <tbody>\n",
       "    <tr>\n",
       "      <th>0</th>\n",
       "      <td>a313035bad4bf57df82057370d1dad77</td>\n",
       "      <td>2014</td>\n",
       "      <td>25k</td>\n",
       "      <td>do-not-scale</td>\n",
       "      <td>gbm</td>\n",
       "      <td>age</td>\n",
       "      <td>drop-non-german</td>\n",
       "      <td>0.697661</td>\n",
       "      <td>0.910244</td>\n",
       "      <td>1.115104</td>\n",
       "      <td>0.909125</td>\n",
       "      <td>0.905743</td>\n",
       "      <td>0.922994</td>\n",
       "      <td>0.877198</td>\n",
       "    </tr>\n",
       "  </tbody>\n",
       "</table>\n",
       "</div>"
      ],
      "text/plain": [
       "                        universe_id universe_training_year  \\\n",
       "0  a313035bad4bf57df82057370d1dad77                   2014   \n",
       "\n",
       "  universe_training_size universe_scale universe_model  \\\n",
       "0                    25k   do-not-scale            gbm   \n",
       "\n",
       "  universe_exclude_features universe_exclude_subgroups     q_hat  coverage  \\\n",
       "0                       age            drop-non-german  0.697661  0.910244   \n",
       "\n",
       "   avg_size  cov_frau1  cov_nongerman  cov_nongerman_male  \\\n",
       "0  1.115104   0.909125       0.905743            0.922994   \n",
       "\n",
       "   cov_nongerman_female  \n",
       "0              0.877198  "
      ]
     },
     "execution_count": 58,
     "metadata": {},
     "output_type": "execute_result"
    }
   ],
   "source": [
    "cp_metrics_df"
   ]
  },
  {
   "cell_type": "markdown",
   "id": "33774451",
   "metadata": {
    "papermill": {
     "duration": 0.019759,
     "end_time": "2025-08-05T20:47:17.508069",
     "exception": false,
     "start_time": "2025-08-05T20:47:17.488310",
     "status": "completed"
    },
    "tags": []
   },
   "source": [
    "# (Fairness) Metrics"
   ]
  },
  {
   "cell_type": "code",
   "execution_count": 59,
   "id": "debc5d62",
   "metadata": {
    "execution": {
     "iopub.execute_input": "2025-08-05T20:47:17.552191Z",
     "iopub.status.busy": "2025-08-05T20:47:17.551340Z",
     "iopub.status.idle": "2025-08-05T20:47:17.571833Z",
     "shell.execute_reply": "2025-08-05T20:47:17.570958Z"
    },
    "papermill": {
     "duration": 0.044114,
     "end_time": "2025-08-05T20:47:17.573675",
     "exception": false,
     "start_time": "2025-08-05T20:47:17.529561",
     "status": "completed"
    },
    "tags": []
   },
   "outputs": [],
   "source": [
    "# do I need to include maxdeutsch1.missing?\n",
    "\n",
    "import numpy as np\n",
    "\n",
    "colname_to_bin = \"maxdeutsch1\"\n",
    "majority_value = org_train[colname_to_bin].mode()[0]\n",
    "\n",
    "org_test[\"majmin\"] = np.where(org_test[colname_to_bin] == majority_value, \"majority\", \"minority\")"
   ]
  },
  {
   "cell_type": "code",
   "execution_count": 60,
   "id": "06a50de5",
   "metadata": {
    "execution": {
     "iopub.execute_input": "2025-08-05T20:47:17.626360Z",
     "iopub.status.busy": "2025-08-05T20:47:17.625485Z",
     "iopub.status.idle": "2025-08-05T20:47:20.401869Z",
     "shell.execute_reply": "2025-08-05T20:47:20.400718Z"
    },
    "papermill": {
     "duration": 2.804464,
     "end_time": "2025-08-05T20:47:20.404454",
     "exception": false,
     "start_time": "2025-08-05T20:47:17.599990",
     "status": "completed"
    },
    "tags": []
   },
   "outputs": [],
   "source": [
    "example_universe = universe.copy()\n",
    "example_universe[\"cutoff\"] = example_universe[\"cutoff\"][0]\n",
    "example_universe[\"eval_fairness_grouping\"] = example_universe[\"eval_fairness_grouping\"][0]\n",
    "fairness_dict, metric_frame = universe_analysis.compute_metrics(\n",
    "    example_universe,\n",
    "    y_pred_prob=probs_test,\n",
    "    y_test=y_true,\n",
    "    org_test=org_test,\n",
    ")"
   ]
  },
  {
   "cell_type": "markdown",
   "id": "f95d4e02",
   "metadata": {
    "papermill": {
     "duration": 0.035299,
     "end_time": "2025-08-05T20:47:20.478759",
     "exception": false,
     "start_time": "2025-08-05T20:47:20.443460",
     "status": "completed"
    },
    "tags": []
   },
   "source": [
    "# Overall"
   ]
  },
  {
   "cell_type": "markdown",
   "id": "bdee4871",
   "metadata": {
    "papermill": {
     "duration": 0.03542,
     "end_time": "2025-08-05T20:47:20.550653",
     "exception": false,
     "start_time": "2025-08-05T20:47:20.515233",
     "status": "completed"
    },
    "tags": []
   },
   "source": [
    "Fairness\n",
    "Main fairness target: Equalized Odds. Seems to be a better fit than equal opportunity, since we're not only interested in Y = 1. Seems to be a better fit than demographic parity, since we also care about accuracy, not just equal distribution of preds.\n",
    "\n",
    "Pick column for computation of fairness metrics\n",
    "\n",
    "Performance\n",
    "Overall performance measures, most interesting in relation to the measures split by group below"
   ]
  },
  {
   "cell_type": "code",
   "execution_count": 61,
   "id": "c4e067c6",
   "metadata": {
    "execution": {
     "iopub.execute_input": "2025-08-05T20:47:20.623026Z",
     "iopub.status.busy": "2025-08-05T20:47:20.622516Z",
     "iopub.status.idle": "2025-08-05T20:47:20.631203Z",
     "shell.execute_reply": "2025-08-05T20:47:20.630266Z"
    },
    "papermill": {
     "duration": 0.047473,
     "end_time": "2025-08-05T20:47:20.633403",
     "exception": false,
     "start_time": "2025-08-05T20:47:20.585930",
     "status": "completed"
    },
    "tags": []
   },
   "outputs": [
    {
     "data": {
      "text/plain": [
       "accuracy                   0.225047\n",
       "balanced accuracy          0.550131\n",
       "f1                         0.246360\n",
       "precision                  0.140737\n",
       "false positive rate        0.887138\n",
       "false negative rate        0.012600\n",
       "selection rate             0.900000\n",
       "count                  89710.000000\n",
       "dtype: float64"
      ]
     },
     "execution_count": 61,
     "metadata": {},
     "output_type": "execute_result"
    }
   ],
   "source": [
    "metric_frame.overall"
   ]
  },
  {
   "cell_type": "markdown",
   "id": "e968fe9d",
   "metadata": {
    "papermill": {
     "duration": 0.03528,
     "end_time": "2025-08-05T20:47:20.704364",
     "exception": false,
     "start_time": "2025-08-05T20:47:20.669084",
     "status": "completed"
    },
    "tags": []
   },
   "source": [
    "By Group"
   ]
  },
  {
   "cell_type": "code",
   "execution_count": 62,
   "id": "ec325bce",
   "metadata": {
    "execution": {
     "iopub.execute_input": "2025-08-05T20:47:20.777383Z",
     "iopub.status.busy": "2025-08-05T20:47:20.776594Z",
     "iopub.status.idle": "2025-08-05T20:47:20.799259Z",
     "shell.execute_reply": "2025-08-05T20:47:20.797937Z"
    },
    "papermill": {
     "duration": 0.061234,
     "end_time": "2025-08-05T20:47:20.801278",
     "exception": false,
     "start_time": "2025-08-05T20:47:20.740044",
     "status": "completed"
    },
    "tags": []
   },
   "outputs": [
    {
     "data": {
      "text/html": [
       "<div>\n",
       "<style scoped>\n",
       "    .dataframe tbody tr th:only-of-type {\n",
       "        vertical-align: middle;\n",
       "    }\n",
       "\n",
       "    .dataframe tbody tr th {\n",
       "        vertical-align: top;\n",
       "    }\n",
       "\n",
       "    .dataframe thead th {\n",
       "        text-align: right;\n",
       "    }\n",
       "</style>\n",
       "<table border=\"1\" class=\"dataframe\">\n",
       "  <thead>\n",
       "    <tr style=\"text-align: right;\">\n",
       "      <th></th>\n",
       "      <th>accuracy</th>\n",
       "      <th>balanced accuracy</th>\n",
       "      <th>f1</th>\n",
       "      <th>precision</th>\n",
       "      <th>false positive rate</th>\n",
       "      <th>false negative rate</th>\n",
       "      <th>selection rate</th>\n",
       "      <th>count</th>\n",
       "    </tr>\n",
       "    <tr>\n",
       "      <th>majmin</th>\n",
       "      <th></th>\n",
       "      <th></th>\n",
       "      <th></th>\n",
       "      <th></th>\n",
       "      <th></th>\n",
       "      <th></th>\n",
       "      <th></th>\n",
       "      <th></th>\n",
       "    </tr>\n",
       "  </thead>\n",
       "  <tbody>\n",
       "    <tr>\n",
       "      <th>majority</th>\n",
       "      <td>0.237487</td>\n",
       "      <td>0.555408</td>\n",
       "      <td>0.254990</td>\n",
       "      <td>0.146395</td>\n",
       "      <td>0.876712</td>\n",
       "      <td>0.012473</td>\n",
       "      <td>0.891355</td>\n",
       "      <td>69170.0</td>\n",
       "    </tr>\n",
       "    <tr>\n",
       "      <th>minority</th>\n",
       "      <td>0.183155</td>\n",
       "      <td>0.532663</td>\n",
       "      <td>0.217882</td>\n",
       "      <td>0.122459</td>\n",
       "      <td>0.921583</td>\n",
       "      <td>0.013091</td>\n",
       "      <td>0.929114</td>\n",
       "      <td>20540.0</td>\n",
       "    </tr>\n",
       "  </tbody>\n",
       "</table>\n",
       "</div>"
      ],
      "text/plain": [
       "          accuracy  balanced accuracy        f1  precision  \\\n",
       "majmin                                                       \n",
       "majority  0.237487           0.555408  0.254990   0.146395   \n",
       "minority  0.183155           0.532663  0.217882   0.122459   \n",
       "\n",
       "          false positive rate  false negative rate  selection rate    count  \n",
       "majmin                                                                       \n",
       "majority             0.876712             0.012473        0.891355  69170.0  \n",
       "minority             0.921583             0.013091        0.929114  20540.0  "
      ]
     },
     "execution_count": 62,
     "metadata": {},
     "output_type": "execute_result"
    }
   ],
   "source": [
    "metric_frame.by_group"
   ]
  },
  {
   "cell_type": "code",
   "execution_count": 63,
   "id": "a9ddbe63",
   "metadata": {
    "execution": {
     "iopub.execute_input": "2025-08-05T20:47:20.848727Z",
     "iopub.status.busy": "2025-08-05T20:47:20.847743Z",
     "iopub.status.idle": "2025-08-05T20:47:23.108488Z",
     "shell.execute_reply": "2025-08-05T20:47:23.107718Z"
    },
    "papermill": {
     "duration": 2.28462,
     "end_time": "2025-08-05T20:47:23.109846",
     "exception": false,
     "start_time": "2025-08-05T20:47:20.825226",
     "status": "completed"
    },
    "tags": []
   },
   "outputs": [
    {
     "data": {
      "text/plain": [
       "array([[<Axes: title={'center': 'accuracy'}, xlabel='majmin'>,\n",
       "        <Axes: title={'center': 'balanced accuracy'}, xlabel='majmin'>,\n",
       "        <Axes: title={'center': 'f1'}, xlabel='majmin'>],\n",
       "       [<Axes: title={'center': 'precision'}, xlabel='majmin'>,\n",
       "        <Axes: title={'center': 'false positive rate'}, xlabel='majmin'>,\n",
       "        <Axes: title={'center': 'false negative rate'}, xlabel='majmin'>],\n",
       "       [<Axes: title={'center': 'selection rate'}, xlabel='majmin'>,\n",
       "        <Axes: title={'center': 'count'}, xlabel='majmin'>,\n",
       "        <Axes: xlabel='majmin'>]], dtype=object)"
      ]
     },
     "execution_count": 63,
     "metadata": {},
     "output_type": "execute_result"
    },
    {
     "data": {
      "image/png": "[encoded data removed]",
      "text/plain": [
       "<Figure size 1200x800 with 9 Axes>"
      ]
     },
     "metadata": {},
     "output_type": "display_data"
    }
   ],
   "source": [
    "# In a graphic\n",
    "metric_frame.by_group.plot.bar(\n",
    "    subplots=True,\n",
    "    layout=[3, 3],\n",
    "    legend=False,\n",
    "    figsize=[12, 8],\n",
    "    title=\"Show all metrics\",\n",
    ")"
   ]
  },
  {
   "cell_type": "markdown",
   "id": "f57a0bac",
   "metadata": {
    "papermill": {
     "duration": 0.01272,
     "end_time": "2025-08-05T20:47:23.135798",
     "exception": false,
     "start_time": "2025-08-05T20:47:23.123078",
     "status": "completed"
    },
    "tags": []
   },
   "source": [
    "# Final Output"
   ]
  },
  {
   "cell_type": "code",
   "execution_count": 64,
   "id": "96d280a3",
   "metadata": {
    "execution": {
     "iopub.execute_input": "2025-08-05T20:47:23.162471Z",
     "iopub.status.busy": "2025-08-05T20:47:23.161991Z",
     "iopub.status.idle": "2025-08-05T20:47:23.168898Z",
     "shell.execute_reply": "2025-08-05T20:47:23.168133Z"
    },
    "papermill": {
     "duration": 0.022019,
     "end_time": "2025-08-05T20:47:23.170401",
     "exception": false,
     "start_time": "2025-08-05T20:47:23.148382",
     "status": "completed"
    },
    "tags": []
   },
   "outputs": [
    {
     "data": {
      "text/plain": [
       "4"
      ]
     },
     "execution_count": 64,
     "metadata": {},
     "output_type": "execute_result"
    }
   ],
   "source": [
    "sub_universes = universe_analysis.generate_sub_universes()\n",
    "len(sub_universes)"
   ]
  },
  {
   "cell_type": "code",
   "execution_count": 65,
   "id": "92adf7ba",
   "metadata": {
    "execution": {
     "iopub.execute_input": "2025-08-05T20:47:23.196896Z",
     "iopub.status.busy": "2025-08-05T20:47:23.196369Z",
     "iopub.status.idle": "2025-08-05T20:47:23.210449Z",
     "shell.execute_reply": "2025-08-05T20:47:23.209604Z"
    },
    "papermill": {
     "duration": 0.028863,
     "end_time": "2025-08-05T20:47:23.211927",
     "exception": false,
     "start_time": "2025-08-05T20:47:23.183064",
     "status": "completed"
    },
    "tags": []
   },
   "outputs": [],
   "source": [
    "def filter_sub_universe_data(sub_universe, org_test):\n",
    "    # Keep all rows — no filtering\n",
    "    keep_rows_mask = np.ones(org_test.shape[0], dtype=bool)\n",
    "\n",
    "    print(f\"[INFO] Keeping all rows: {keep_rows_mask.sum()} rows retained.\")\n",
    "    return keep_rows_mask"
   ]
  },
  {
   "cell_type": "code",
   "execution_count": 66,
   "id": "4a759155",
   "metadata": {
    "execution": {
     "iopub.execute_input": "2025-08-05T20:47:23.239522Z",
     "iopub.status.busy": "2025-08-05T20:47:23.239217Z",
     "iopub.status.idle": "2025-08-05T20:47:28.882802Z",
     "shell.execute_reply": "2025-08-05T20:47:28.881934Z"
    },
    "papermill": {
     "duration": 5.658285,
     "end_time": "2025-08-05T20:47:28.884126",
     "exception": false,
     "start_time": "2025-08-05T20:47:23.225841",
     "status": "completed"
    },
    "tags": []
   },
   "outputs": [
    {
     "name": "stdout",
     "output_type": "stream",
     "text": [
      "Stopping execution_time clock.\n",
      "[INFO] Keeping all rows: 89710 rows retained.\n"
     ]
    },
    {
     "name": "stdout",
     "output_type": "stream",
     "text": [
      "[INFO] Keeping all rows: 89710 rows retained.\n"
     ]
    },
    {
     "name": "stdout",
     "output_type": "stream",
     "text": [
      "[INFO] Keeping all rows: 89710 rows retained.\n"
     ]
    },
    {
     "name": "stdout",
     "output_type": "stream",
     "text": [
      "[INFO] Keeping all rows: 89710 rows retained.\n"
     ]
    },
    {
     "data": {
      "text/html": [
       "<div>\n",
       "<style scoped>\n",
       "    .dataframe tbody tr th:only-of-type {\n",
       "        vertical-align: middle;\n",
       "    }\n",
       "\n",
       "    .dataframe tbody tr th {\n",
       "        vertical-align: top;\n",
       "    }\n",
       "\n",
       "    .dataframe thead th {\n",
       "        text-align: right;\n",
       "    }\n",
       "</style>\n",
       "<table border=\"1\" class=\"dataframe\">\n",
       "  <thead>\n",
       "    <tr style=\"text-align: right;\">\n",
       "      <th></th>\n",
       "      <th>run_no</th>\n",
       "      <th>universe_id</th>\n",
       "      <th>universe_settings</th>\n",
       "      <th>execution_time</th>\n",
       "      <th>test_size_n</th>\n",
       "      <th>test_size_frac</th>\n",
       "      <th>fair_main_equalized_odds_difference</th>\n",
       "      <th>fair_main_equalized_odds_ratio</th>\n",
       "      <th>fair_main_demographic_parity_difference</th>\n",
       "      <th>fair_main_demographic_parity_ratio</th>\n",
       "      <th>...</th>\n",
       "      <th>perf_grp_precision_0</th>\n",
       "      <th>perf_grp_precision_1</th>\n",
       "      <th>perf_grp_false positive rate_0</th>\n",
       "      <th>perf_grp_false positive rate_1</th>\n",
       "      <th>perf_grp_false negative rate_0</th>\n",
       "      <th>perf_grp_false negative rate_1</th>\n",
       "      <th>perf_grp_selection rate_0</th>\n",
       "      <th>perf_grp_selection rate_1</th>\n",
       "      <th>perf_grp_count_0</th>\n",
       "      <th>perf_grp_count_1</th>\n",
       "    </tr>\n",
       "  </thead>\n",
       "  <tbody>\n",
       "    <tr>\n",
       "      <th>0</th>\n",
       "      <td>16</td>\n",
       "      <td>a313035bad4bf57df82057370d1dad77</td>\n",
       "      <td>{\"cutoff\": \"quantile_0.1\", \"eval_fairness_grou...</td>\n",
       "      <td>48.383688</td>\n",
       "      <td>89710</td>\n",
       "      <td>1.0</td>\n",
       "      <td>0.044871</td>\n",
       "      <td>0.951311</td>\n",
       "      <td>0.037759</td>\n",
       "      <td>0.959360</td>\n",
       "      <td>...</td>\n",
       "      <td>NaN</td>\n",
       "      <td>NaN</td>\n",
       "      <td>NaN</td>\n",
       "      <td>NaN</td>\n",
       "      <td>NaN</td>\n",
       "      <td>NaN</td>\n",
       "      <td>NaN</td>\n",
       "      <td>NaN</td>\n",
       "      <td>NaN</td>\n",
       "      <td>NaN</td>\n",
       "    </tr>\n",
       "    <tr>\n",
       "      <th>0</th>\n",
       "      <td>16</td>\n",
       "      <td>a313035bad4bf57df82057370d1dad77</td>\n",
       "      <td>{\"cutoff\": \"quantile_0.1\", \"eval_fairness_grou...</td>\n",
       "      <td>48.383688</td>\n",
       "      <td>89710</td>\n",
       "      <td>1.0</td>\n",
       "      <td>0.044871</td>\n",
       "      <td>0.951311</td>\n",
       "      <td>0.037759</td>\n",
       "      <td>0.959360</td>\n",
       "      <td>...</td>\n",
       "      <td>0.122459</td>\n",
       "      <td>0.146395</td>\n",
       "      <td>0.921583</td>\n",
       "      <td>0.876712</td>\n",
       "      <td>0.013091</td>\n",
       "      <td>0.012473</td>\n",
       "      <td>0.929114</td>\n",
       "      <td>0.891355</td>\n",
       "      <td>20540.0</td>\n",
       "      <td>69170.0</td>\n",
       "    </tr>\n",
       "    <tr>\n",
       "      <th>0</th>\n",
       "      <td>16</td>\n",
       "      <td>a313035bad4bf57df82057370d1dad77</td>\n",
       "      <td>{\"cutoff\": \"quantile_0.25\", \"eval_fairness_gro...</td>\n",
       "      <td>48.383688</td>\n",
       "      <td>89710</td>\n",
       "      <td>1.0</td>\n",
       "      <td>0.110600</td>\n",
       "      <td>0.862811</td>\n",
       "      <td>0.091753</td>\n",
       "      <td>0.888206</td>\n",
       "      <td>...</td>\n",
       "      <td>NaN</td>\n",
       "      <td>NaN</td>\n",
       "      <td>NaN</td>\n",
       "      <td>NaN</td>\n",
       "      <td>NaN</td>\n",
       "      <td>NaN</td>\n",
       "      <td>NaN</td>\n",
       "      <td>NaN</td>\n",
       "      <td>NaN</td>\n",
       "      <td>NaN</td>\n",
       "    </tr>\n",
       "    <tr>\n",
       "      <th>0</th>\n",
       "      <td>16</td>\n",
       "      <td>a313035bad4bf57df82057370d1dad77</td>\n",
       "      <td>{\"cutoff\": \"quantile_0.25\", \"eval_fairness_gro...</td>\n",
       "      <td>48.383688</td>\n",
       "      <td>89710</td>\n",
       "      <td>1.0</td>\n",
       "      <td>0.110600</td>\n",
       "      <td>0.862811</td>\n",
       "      <td>0.091753</td>\n",
       "      <td>0.888206</td>\n",
       "      <td>...</td>\n",
       "      <td>0.130976</td>\n",
       "      <td>0.171902</td>\n",
       "      <td>0.806185</td>\n",
       "      <td>0.695586</td>\n",
       "      <td>0.067568</td>\n",
       "      <td>0.051641</td>\n",
       "      <td>0.820740</td>\n",
       "      <td>0.728987</td>\n",
       "      <td>20540.0</td>\n",
       "      <td>69170.0</td>\n",
       "    </tr>\n",
       "  </tbody>\n",
       "</table>\n",
       "<p>4 rows × 50 columns</p>\n",
       "</div>"
      ],
      "text/plain": [
       "  run_no                       universe_id  \\\n",
       "0     16  a313035bad4bf57df82057370d1dad77   \n",
       "0     16  a313035bad4bf57df82057370d1dad77   \n",
       "0     16  a313035bad4bf57df82057370d1dad77   \n",
       "0     16  a313035bad4bf57df82057370d1dad77   \n",
       "\n",
       "                                   universe_settings  execution_time  \\\n",
       "0  {\"cutoff\": \"quantile_0.1\", \"eval_fairness_grou...       48.383688   \n",
       "0  {\"cutoff\": \"quantile_0.1\", \"eval_fairness_grou...       48.383688   \n",
       "0  {\"cutoff\": \"quantile_0.25\", \"eval_fairness_gro...       48.383688   \n",
       "0  {\"cutoff\": \"quantile_0.25\", \"eval_fairness_gro...       48.383688   \n",
       "\n",
       "   test_size_n  test_size_frac  fair_main_equalized_odds_difference  \\\n",
       "0        89710             1.0                             0.044871   \n",
       "0        89710             1.0                             0.044871   \n",
       "0        89710             1.0                             0.110600   \n",
       "0        89710             1.0                             0.110600   \n",
       "\n",
       "   fair_main_equalized_odds_ratio  fair_main_demographic_parity_difference  \\\n",
       "0                        0.951311                                 0.037759   \n",
       "0                        0.951311                                 0.037759   \n",
       "0                        0.862811                                 0.091753   \n",
       "0                        0.862811                                 0.091753   \n",
       "\n",
       "   fair_main_demographic_parity_ratio  ...  perf_grp_precision_0  \\\n",
       "0                            0.959360  ...                   NaN   \n",
       "0                            0.959360  ...              0.122459   \n",
       "0                            0.888206  ...                   NaN   \n",
       "0                            0.888206  ...              0.130976   \n",
       "\n",
       "   perf_grp_precision_1  perf_grp_false positive rate_0  \\\n",
       "0                   NaN                             NaN   \n",
       "0              0.146395                        0.921583   \n",
       "0                   NaN                             NaN   \n",
       "0              0.171902                        0.806185   \n",
       "\n",
       "   perf_grp_false positive rate_1  perf_grp_false negative rate_0  \\\n",
       "0                             NaN                             NaN   \n",
       "0                        0.876712                        0.013091   \n",
       "0                             NaN                             NaN   \n",
       "0                        0.695586                        0.067568   \n",
       "\n",
       "   perf_grp_false negative rate_1  perf_grp_selection rate_0  \\\n",
       "0                             NaN                        NaN   \n",
       "0                        0.012473                   0.929114   \n",
       "0                             NaN                        NaN   \n",
       "0                        0.051641                   0.820740   \n",
       "\n",
       "   perf_grp_selection rate_1  perf_grp_count_0  perf_grp_count_1  \n",
       "0                        NaN               NaN               NaN  \n",
       "0                   0.891355           20540.0           69170.0  \n",
       "0                        NaN               NaN               NaN  \n",
       "0                   0.728987           20540.0           69170.0  \n",
       "\n",
       "[4 rows x 50 columns]"
      ]
     },
     "execution_count": 66,
     "metadata": {},
     "output_type": "execute_result"
    }
   ],
   "source": [
    "final_output = universe_analysis.generate_final_output(\n",
    "    y_pred_prob=probs_test,\n",
    "    y_test=y_true,\n",
    "    org_test=org_test,\n",
    "    filter_data=filter_sub_universe_data,\n",
    "    cp_metrics_df=cp_metrics_df,\n",
    "    save=True,\n",
    ")\n",
    "final_output"
   ]
  }
 ],
 "metadata": {
  "celltoolbar": "Tags",
  "kernelspec": {
   "display_name": "Python (CMA Fairness)",
   "language": "python",
   "name": "cma_fair_env"
  },
  "language_info": {
   "codemirror_mode": {
    "name": "ipython",
    "version": 3
   },
   "file_extension": ".py",
   "mimetype": "text/x-python",
   "name": "python",
   "nbconvert_exporter": "python",
   "pygments_lexer": "ipython3",
   "version": "3.10.12"
  },
  "papermill": {
   "default_parameters": {},
   "duration": 57.867156,
   "end_time": "2025-08-05T20:47:29.518348",
   "environment_variables": {},
   "exception": null,
   "input_path": "universe_analysis.ipynb",
   "output_path": "output/runs/16/notebooks/m_16-a313035bad4bf57df82057370d1dad77.ipynb",
   "parameters": {
    "output_dir": "output",
    "run_no": "16",
    "seed": "2023",
    "universe": "{\"cutoff\": [\"quantile_0.1\", \"quantile_0.25\"], \"eval_fairness_grouping\": [\"majority-minority\", \"nationality-all\"], \"exclude_features\": \"age\", \"exclude_subgroups\": \"drop-non-german\", \"model\": \"gbm\", \"scale\": \"do-not-scale\", \"training_size\": \"25k\", \"training_year\": \"2014\"}",
    "universe_id": "a313035bad4bf57df82057370d1dad77"
   },
   "start_time": "2025-08-05T20:46:31.651192",
   "version": "2.6.0"
  }
 },
 "nbformat": 4,
 "nbformat_minor": 5
}