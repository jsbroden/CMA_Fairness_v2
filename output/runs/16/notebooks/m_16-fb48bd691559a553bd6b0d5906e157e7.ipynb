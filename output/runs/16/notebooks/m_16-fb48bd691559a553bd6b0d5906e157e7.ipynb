{
 "cells": [
  {
   "cell_type": "code",
   "execution_count": 1,
   "id": "f159f837-637b-42ba-96b5-ec9a68c44524",
   "metadata": {
    "execution": {
     "iopub.execute_input": "2025-08-05T20:35:18.707966Z",
     "iopub.status.busy": "2025-08-05T20:35:18.707331Z",
     "iopub.status.idle": "2025-08-05T20:35:18.721261Z",
     "shell.execute_reply": "2025-08-05T20:35:18.720163Z"
    },
    "papermill": {
     "duration": 0.033688,
     "end_time": "2025-08-05T20:35:18.723027",
     "exception": false,
     "start_time": "2025-08-05T20:35:18.689339",
     "status": "completed"
    },
    "tags": []
   },
   "outputs": [
    {
     "name": "stdout",
     "output_type": "stream",
     "text": [
      "/dss/dsshome1/0C/ra93lal2/cma/CMA_Fairness_v2\n"
     ]
    },
    {
     "name": "stderr",
     "output_type": "stream",
     "text": [
      "/dss/dsshome1/0C/ra93lal2/.local/share/virtualenvs/CMA_Fairness_v2-3j10GkSs/lib/python3.10/site-packages/IPython/core/magics/osm.py:393: UserWarning: This is now an optional IPython functionality, using bookmarks requires you to install the `pickleshare` library.\n",
      "  bkms = self.shell.db.get('bookmarks', {})\n",
      "/dss/dsshome1/0C/ra93lal2/.local/share/virtualenvs/CMA_Fairness_v2-3j10GkSs/lib/python3.10/site-packages/IPython/core/magics/osm.py:417: UserWarning: This is now an optional IPython functionality, setting dhist requires you to install the `pickleshare` library.\n",
      "  self.shell.db['dhist'] = compress_dhist(dhist)[-100:]\n"
     ]
    }
   ],
   "source": [
    "%cd ~/cma/CMA_Fairness_v2"
   ]
  },
  {
   "cell_type": "markdown",
   "id": "de2603b9",
   "metadata": {
    "papermill": {
     "duration": 0.016408,
     "end_time": "2025-08-05T20:35:18.756616",
     "exception": false,
     "start_time": "2025-08-05T20:35:18.740208",
     "status": "completed"
    },
    "tags": []
   },
   "source": [
    "The following cell holds the definition of our parameters, these values can be overriden by rendering the with e.g. the following command:\n",
    "\n",
    "papermill -p alpha 0.2 -p ratio 0.3 universe_analysis.ipynb output/test_run.ipynb"
   ]
  },
  {
   "cell_type": "code",
   "execution_count": 2,
   "id": "a80968a0-40bb-4fa9-85ef-2d5eefb01975",
   "metadata": {
    "execution": {
     "iopub.execute_input": "2025-08-05T20:35:18.793435Z",
     "iopub.status.busy": "2025-08-05T20:35:18.792765Z",
     "iopub.status.idle": "2025-08-05T20:35:18.798730Z",
     "shell.execute_reply": "2025-08-05T20:35:18.797648Z"
    },
    "papermill": {
     "duration": 0.027048,
     "end_time": "2025-08-05T20:35:18.800444",
     "exception": false,
     "start_time": "2025-08-05T20:35:18.773396",
     "status": "completed"
    },
    "tags": []
   },
   "outputs": [
    {
     "name": "stdout",
     "output_type": "stream",
     "text": [
      "Current working directory: /dss/dsshome1/0C/ra93lal2/cma/CMA_Fairness_v2\n"
     ]
    }
   ],
   "source": [
    "import os\n",
    "print(\"Current working directory:\", os.getcwd())"
   ]
  },
  {
   "cell_type": "code",
   "execution_count": 3,
   "id": "2dce4c03",
   "metadata": {
    "execution": {
     "iopub.execute_input": "2025-08-05T20:35:18.836394Z",
     "iopub.status.busy": "2025-08-05T20:35:18.835671Z",
     "iopub.status.idle": "2025-08-05T20:35:18.841769Z",
     "shell.execute_reply": "2025-08-05T20:35:18.840873Z"
    },
    "papermill": {
     "duration": 0.026184,
     "end_time": "2025-08-05T20:35:18.843429",
     "exception": false,
     "start_time": "2025-08-05T20:35:18.817245",
     "status": "completed"
    },
    "tags": [
     "parameters"
    ]
   },
   "outputs": [],
   "source": [
    "run_no = 0\n",
    "universe_id = \"test\"\n",
    "universe = {\n",
    "    \"training_size\": \"25k\", # \"25k\", \"5k\", \"1k\"\n",
    "    \"training_year\": \"2014\", # \"2014\", \"2012_14\", \"2010_14\"\n",
    "    \"scale\": \"scale\", # \"scale\", \"do-not-scale\",\n",
    "    \"model\": \"elasticnet\", # \"logreg\", \"penalized_logreg\", \"rf\", \"gbm\", \"elasticnet\"\n",
    "    \"cutoff\": [\"quantile_0.15\", \"quantile_0.30\"],\n",
    "    \"exclude_features\": \"age\", # \"none\", \"nationality\", \"sex\", \"nationality-sex\", \"age\"\n",
    "    \"exclude_subgroups\": \"keep-all\", # \"keep-all\", \"drop-non-german\"\n",
    "    \"eval_fairness_grouping\": [\"majority-minority\", \"nationality-all\"]\n",
    "}\n",
    "\n",
    "output_dir=\"./output\"\n",
    "seed=0"
   ]
  },
  {
   "cell_type": "code",
   "execution_count": 4,
   "id": "d6a4bf09",
   "metadata": {
    "execution": {
     "iopub.execute_input": "2025-08-05T20:35:18.879078Z",
     "iopub.status.busy": "2025-08-05T20:35:18.878296Z",
     "iopub.status.idle": "2025-08-05T20:35:18.883526Z",
     "shell.execute_reply": "2025-08-05T20:35:18.882602Z"
    },
    "papermill": {
     "duration": 0.024936,
     "end_time": "2025-08-05T20:35:18.885306",
     "exception": false,
     "start_time": "2025-08-05T20:35:18.860370",
     "status": "completed"
    },
    "tags": [
     "injected-parameters"
    ]
   },
   "outputs": [],
   "source": [
    "# Parameters\n",
    "universe_id = \"fb48bd691559a553bd6b0d5906e157e7\"\n",
    "run_no = \"16\"\n",
    "universe = \"{\\\"cutoff\\\": [\\\"quantile_0.1\\\", \\\"quantile_0.25\\\"], \\\"eval_fairness_grouping\\\": [\\\"majority-minority\\\", \\\"nationality-all\\\"], \\\"exclude_features\\\": \\\"nationality\\\", \\\"exclude_subgroups\\\": \\\"keep-all\\\", \\\"model\\\": \\\"rf\\\", \\\"scale\\\": \\\"scale\\\", \\\"training_size\\\": \\\"25k\\\", \\\"training_year\\\": \\\"2014\\\"}\"\n",
    "output_dir = \"output\"\n",
    "seed = \"2023\"\n"
   ]
  },
  {
   "cell_type": "code",
   "execution_count": 5,
   "id": "1650acaf",
   "metadata": {
    "execution": {
     "iopub.execute_input": "2025-08-05T20:35:18.918016Z",
     "iopub.status.busy": "2025-08-05T20:35:18.917572Z",
     "iopub.status.idle": "2025-08-05T20:35:18.921986Z",
     "shell.execute_reply": "2025-08-05T20:35:18.921026Z"
    },
    "papermill": {
     "duration": 0.022117,
     "end_time": "2025-08-05T20:35:18.923602",
     "exception": false,
     "start_time": "2025-08-05T20:35:18.901485",
     "status": "completed"
    },
    "tags": []
   },
   "outputs": [],
   "source": [
    "import json\n",
    "if isinstance(universe, str):\n",
    "    universe = json.loads(universe)"
   ]
  },
  {
   "cell_type": "code",
   "execution_count": 6,
   "id": "16620c48",
   "metadata": {
    "execution": {
     "iopub.execute_input": "2025-08-05T20:35:18.958947Z",
     "iopub.status.busy": "2025-08-05T20:35:18.958138Z",
     "iopub.status.idle": "2025-08-05T20:35:19.004779Z",
     "shell.execute_reply": "2025-08-05T20:35:19.003805Z"
    },
    "papermill": {
     "duration": 0.065217,
     "end_time": "2025-08-05T20:35:19.006634",
     "exception": false,
     "start_time": "2025-08-05T20:35:18.941417",
     "status": "completed"
    },
    "tags": []
   },
   "outputs": [],
   "source": [
    "# Auto-reload the custom package\n",
    "%load_ext autoreload\n",
    "%autoreload 1\n",
    "%aimport fairness_multiverse"
   ]
  },
  {
   "cell_type": "code",
   "execution_count": 7,
   "id": "01c5c9f3",
   "metadata": {
    "execution": {
     "iopub.execute_input": "2025-08-05T20:35:19.041958Z",
     "iopub.status.busy": "2025-08-05T20:35:19.040932Z",
     "iopub.status.idle": "2025-08-05T20:35:21.031801Z",
     "shell.execute_reply": "2025-08-05T20:35:21.030811Z"
    },
    "papermill": {
     "duration": 2.01054,
     "end_time": "2025-08-05T20:35:21.033929",
     "exception": false,
     "start_time": "2025-08-05T20:35:19.023389",
     "status": "completed"
    },
    "tags": []
   },
   "outputs": [],
   "source": [
    "from fairness_multiverse.universe import UniverseAnalysis\n",
    "\n",
    "universe_analysis = UniverseAnalysis(\n",
    "    run_no = run_no,\n",
    "    universe_id = universe_id,\n",
    "    universe = universe,\n",
    "    output_dir=output_dir,\n",
    ")"
   ]
  },
  {
   "cell_type": "code",
   "execution_count": 8,
   "id": "106241f5",
   "metadata": {
    "execution": {
     "iopub.execute_input": "2025-08-05T20:35:21.069182Z",
     "iopub.status.busy": "2025-08-05T20:35:21.068505Z",
     "iopub.status.idle": "2025-08-05T20:35:21.074544Z",
     "shell.execute_reply": "2025-08-05T20:35:21.073650Z"
    },
    "papermill": {
     "duration": 0.025284,
     "end_time": "2025-08-05T20:35:21.076271",
     "exception": false,
     "start_time": "2025-08-05T20:35:21.050987",
     "status": "completed"
    },
    "tags": []
   },
   "outputs": [
    {
     "name": "stdout",
     "output_type": "stream",
     "text": [
      "Using Seed: 2023\n"
     ]
    }
   ],
   "source": [
    "import numpy as np\n",
    "parsed_seed = int(seed)\n",
    "np.random.seed(parsed_seed)\n",
    "print(f\"Using Seed: {parsed_seed}\")"
   ]
  },
  {
   "cell_type": "markdown",
   "id": "e0ebdc57",
   "metadata": {
    "papermill": {
     "duration": 0.016171,
     "end_time": "2025-08-05T20:35:21.109775",
     "exception": false,
     "start_time": "2025-08-05T20:35:21.093604",
     "status": "completed"
    },
    "tags": []
   },
   "source": [
    "# Loading Data"
   ]
  },
  {
   "cell_type": "code",
   "execution_count": 9,
   "id": "f0496b8a",
   "metadata": {
    "execution": {
     "iopub.execute_input": "2025-08-05T20:35:21.142247Z",
     "iopub.status.busy": "2025-08-05T20:35:21.141894Z",
     "iopub.status.idle": "2025-08-05T20:35:32.833209Z",
     "shell.execute_reply": "2025-08-05T20:35:32.831937Z"
    },
    "papermill": {
     "duration": 11.709752,
     "end_time": "2025-08-05T20:35:32.834959",
     "exception": false,
     "start_time": "2025-08-05T20:35:21.125207",
     "status": "completed"
    },
    "tags": []
   },
   "outputs": [
    {
     "name": "stdout",
     "output_type": "stream",
     "text": [
      "Loading SIAB data from cache: data/siab_cached.csv.gz\n"
     ]
    },
    {
     "name": "stdout",
     "output_type": "stream",
     "text": [
      "(643690, 164)\n"
     ]
    }
   ],
   "source": [
    "from pathlib import Path\n",
    "import pandas as pd\n",
    "\n",
    "# File paths\n",
    "raw_file = Path(\"data/raw/siab.csv\")\n",
    "cache_file = Path(\"data/siab_cached.csv.gz\")\n",
    "\n",
    "# Ensure cache directory exists\n",
    "cache_file.parent.mkdir(parents=True, exist_ok=True)\n",
    "\n",
    "# Load with simple caching\n",
    "if cache_file.exists():\n",
    "    print(f\"Loading SIAB data from cache: {cache_file}\")\n",
    "    siab = pd.read_csv(cache_file, compression='gzip')\n",
    "else:\n",
    "    print(f\"Cache not found. Reading raw SIAB data: {raw_file}\")\n",
    "    siab = pd.read_csv(raw_file)\n",
    "    siab.to_csv(cache_file, index=False, compression='gzip')\n",
    "    print(f\"Cached SIAB data to: {cache_file}\")\n",
    "\n",
    "print(siab.shape)"
   ]
  },
  {
   "cell_type": "code",
   "execution_count": 10,
   "id": "db0ca512-5f53-4dba-abdb-a2888bca41ba",
   "metadata": {
    "execution": {
     "iopub.execute_input": "2025-08-05T20:35:32.880313Z",
     "iopub.status.busy": "2025-08-05T20:35:32.879755Z",
     "iopub.status.idle": "2025-08-05T20:35:32.886166Z",
     "shell.execute_reply": "2025-08-05T20:35:32.885025Z"
    },
    "papermill": {
     "duration": 0.031008,
     "end_time": "2025-08-05T20:35:32.888095",
     "exception": false,
     "start_time": "2025-08-05T20:35:32.857087",
     "status": "completed"
    },
    "tags": []
   },
   "outputs": [],
   "source": [
    "#siab"
   ]
  },
  {
   "cell_type": "markdown",
   "id": "997051c5-15bd-4b69-9786-c3001a3ce484",
   "metadata": {
    "papermill": {
     "duration": 0.019149,
     "end_time": "2025-08-05T20:35:32.927181",
     "exception": false,
     "start_time": "2025-08-05T20:35:32.908032",
     "status": "completed"
    },
    "tags": []
   },
   "source": [
    "# Splitting Data and Setting Training Data Size"
   ]
  },
  {
   "cell_type": "code",
   "execution_count": 11,
   "id": "aea9c6ef-6f46-42c8-85eb-5a62025c1508",
   "metadata": {
    "execution": {
     "iopub.execute_input": "2025-08-05T20:35:32.968362Z",
     "iopub.status.busy": "2025-08-05T20:35:32.967382Z",
     "iopub.status.idle": "2025-08-05T20:35:33.301193Z",
     "shell.execute_reply": "2025-08-05T20:35:33.300106Z"
    },
    "papermill": {
     "duration": 0.356385,
     "end_time": "2025-08-05T20:35:33.303217",
     "exception": false,
     "start_time": "2025-08-05T20:35:32.946832",
     "status": "completed"
    },
    "tags": []
   },
   "outputs": [],
   "source": [
    "from fairness_multiverse.universe import sample_by_year_size\n",
    "\n",
    "siab_train = sample_by_year_size(siab,\n",
    "                               training_year=universe[\"training_year\"],\n",
    "                               training_size=universe[\"training_size\"])"
   ]
  },
  {
   "cell_type": "code",
   "execution_count": 12,
   "id": "8d3afb32-789d-442c-8d5d-9f5aa8dd2eed",
   "metadata": {
    "execution": {
     "iopub.execute_input": "2025-08-05T20:35:33.343463Z",
     "iopub.status.busy": "2025-08-05T20:35:33.342606Z",
     "iopub.status.idle": "2025-08-05T20:35:33.348356Z",
     "shell.execute_reply": "2025-08-05T20:35:33.347161Z"
    },
    "papermill": {
     "duration": 0.027127,
     "end_time": "2025-08-05T20:35:33.350412",
     "exception": false,
     "start_time": "2025-08-05T20:35:33.323285",
     "status": "completed"
    },
    "tags": []
   },
   "outputs": [],
   "source": [
    "#siab_train.shape"
   ]
  },
  {
   "cell_type": "code",
   "execution_count": 13,
   "id": "d582db68-1a4c-47fb-84fc-08518dc1975a",
   "metadata": {
    "execution": {
     "iopub.execute_input": "2025-08-05T20:35:33.391424Z",
     "iopub.status.busy": "2025-08-05T20:35:33.391023Z",
     "iopub.status.idle": "2025-08-05T20:35:33.396613Z",
     "shell.execute_reply": "2025-08-05T20:35:33.395048Z"
    },
    "papermill": {
     "duration": 0.027372,
     "end_time": "2025-08-05T20:35:33.398302",
     "exception": false,
     "start_time": "2025-08-05T20:35:33.370930",
     "status": "completed"
    },
    "tags": []
   },
   "outputs": [],
   "source": [
    "#display(siab_train.groupby(\"year\").size())"
   ]
  },
  {
   "cell_type": "code",
   "execution_count": 14,
   "id": "a561edb4-d032-42cb-8256-22eac1111c64",
   "metadata": {
    "execution": {
     "iopub.execute_input": "2025-08-05T20:35:33.438597Z",
     "iopub.status.busy": "2025-08-05T20:35:33.438110Z",
     "iopub.status.idle": "2025-08-05T20:35:33.710983Z",
     "shell.execute_reply": "2025-08-05T20:35:33.709830Z"
    },
    "papermill": {
     "duration": 0.295267,
     "end_time": "2025-08-05T20:35:33.713020",
     "exception": false,
     "start_time": "2025-08-05T20:35:33.417753",
     "status": "completed"
    },
    "tags": []
   },
   "outputs": [],
   "source": [
    "#siab_train = siab_s[siab_s.year < 2015]\n",
    "siab_calib = siab[siab.year == 2015]\n",
    "siab_test = siab[siab.year == 2016]"
   ]
  },
  {
   "cell_type": "code",
   "execution_count": 15,
   "id": "472de16f-c3db-4916-846b-1f0de9cf1746",
   "metadata": {
    "execution": {
     "iopub.execute_input": "2025-08-05T20:35:33.754214Z",
     "iopub.status.busy": "2025-08-05T20:35:33.753252Z",
     "iopub.status.idle": "2025-08-05T20:35:33.779372Z",
     "shell.execute_reply": "2025-08-05T20:35:33.778124Z"
    },
    "papermill": {
     "duration": 0.04853,
     "end_time": "2025-08-05T20:35:33.781623",
     "exception": false,
     "start_time": "2025-08-05T20:35:33.733093",
     "status": "completed"
    },
    "tags": []
   },
   "outputs": [],
   "source": [
    "X_train = siab_train.iloc[:,4:164]\n",
    "y_train = siab_train.iloc[:, [3]]"
   ]
  },
  {
   "cell_type": "code",
   "execution_count": 16,
   "id": "828c96af-f43a-4ed6-ba47-8ac73a47d56c",
   "metadata": {
    "execution": {
     "iopub.execute_input": "2025-08-05T20:35:33.823624Z",
     "iopub.status.busy": "2025-08-05T20:35:33.822865Z",
     "iopub.status.idle": "2025-08-05T20:35:33.876048Z",
     "shell.execute_reply": "2025-08-05T20:35:33.874944Z"
    },
    "papermill": {
     "duration": 0.076373,
     "end_time": "2025-08-05T20:35:33.877947",
     "exception": false,
     "start_time": "2025-08-05T20:35:33.801574",
     "status": "completed"
    },
    "tags": []
   },
   "outputs": [],
   "source": [
    "X_calib = siab_calib.iloc[:,4:164]\n",
    "y_calib = siab_calib.iloc[:, [3]]"
   ]
  },
  {
   "cell_type": "code",
   "execution_count": 17,
   "id": "c34be9c3-6bd6-476e-acd3-845840e303be",
   "metadata": {
    "execution": {
     "iopub.execute_input": "2025-08-05T20:35:33.916275Z",
     "iopub.status.busy": "2025-08-05T20:35:33.915368Z",
     "iopub.status.idle": "2025-08-05T20:35:33.973770Z",
     "shell.execute_reply": "2025-08-05T20:35:33.972631Z"
    },
    "papermill": {
     "duration": 0.080206,
     "end_time": "2025-08-05T20:35:33.975763",
     "exception": false,
     "start_time": "2025-08-05T20:35:33.895557",
     "status": "completed"
    },
    "tags": []
   },
   "outputs": [],
   "source": [
    "X_test = siab_test.iloc[:,4:164]\n",
    "y_true = siab_test.iloc[:, [3]]"
   ]
  },
  {
   "cell_type": "code",
   "execution_count": 18,
   "id": "e6c733c5",
   "metadata": {
    "execution": {
     "iopub.execute_input": "2025-08-05T20:35:34.014547Z",
     "iopub.status.busy": "2025-08-05T20:35:34.013692Z",
     "iopub.status.idle": "2025-08-05T20:35:34.112453Z",
     "shell.execute_reply": "2025-08-05T20:35:34.111386Z"
    },
    "papermill": {
     "duration": 0.119852,
     "end_time": "2025-08-05T20:35:34.114390",
     "exception": false,
     "start_time": "2025-08-05T20:35:33.994538",
     "status": "completed"
    },
    "tags": []
   },
   "outputs": [],
   "source": [
    "# Auxiliary data needed downstream in the pipeline\n",
    "\n",
    "org_train = X_train.copy()\n",
    "org_test = X_test.copy()\n",
    "org_calib = X_calib.copy()"
   ]
  },
  {
   "cell_type": "markdown",
   "id": "0a4a1b33",
   "metadata": {
    "papermill": {
     "duration": 0.019786,
     "end_time": "2025-08-05T20:35:34.153407",
     "exception": false,
     "start_time": "2025-08-05T20:35:34.133621",
     "status": "completed"
    },
    "tags": []
   },
   "source": [
    "# Preprocessing Data"
   ]
  },
  {
   "cell_type": "code",
   "execution_count": 19,
   "id": "ca879031",
   "metadata": {
    "execution": {
     "iopub.execute_input": "2025-08-05T20:35:34.194076Z",
     "iopub.status.busy": "2025-08-05T20:35:34.193381Z",
     "iopub.status.idle": "2025-08-05T20:35:34.199830Z",
     "shell.execute_reply": "2025-08-05T20:35:34.198701Z"
    },
    "papermill": {
     "duration": 0.028613,
     "end_time": "2025-08-05T20:35:34.201773",
     "exception": false,
     "start_time": "2025-08-05T20:35:34.173160",
     "status": "completed"
    },
    "tags": []
   },
   "outputs": [],
   "source": [
    "# EXCLUDE PROTECTED FEATURES\n",
    "# ----------------------\n",
    "# \"exclude_features\": \"none\", # \"nationality\", \"sex\", \"nationality-sex\"\n",
    "\n",
    "excluded_features = universe[\"exclude_features\"].split(\"-\") # split, e.g.: \"nationality-sex\" -> [\"nationality\", \"sex\"]\n",
    "excluded_features_dictionary = {\n",
    "    \"nationality\": [\"maxdeutsch1\", \"maxdeutsch.Missing.\"],\n",
    "    \"sex\": [\"frau1\"],\n",
    "    \"age\": [\"age\"],\n",
    "}"
   ]
  },
  {
   "cell_type": "code",
   "execution_count": 20,
   "id": "b745ac60",
   "metadata": {
    "execution": {
     "iopub.execute_input": "2025-08-05T20:35:34.244241Z",
     "iopub.status.busy": "2025-08-05T20:35:34.243353Z",
     "iopub.status.idle": "2025-08-05T20:35:34.249472Z",
     "shell.execute_reply": "2025-08-05T20:35:34.248428Z"
    },
    "papermill": {
     "duration": 0.029117,
     "end_time": "2025-08-05T20:35:34.251440",
     "exception": false,
     "start_time": "2025-08-05T20:35:34.222323",
     "status": "completed"
    },
    "tags": []
   },
   "outputs": [],
   "source": [
    "# Code nice names to column names\n",
    "\n",
    "excluded_features_columns = [\n",
    "    excluded_features_dictionary[f] for f in excluded_features if len(f) > 0 and f != \"none\"\n",
    "]"
   ]
  },
  {
   "cell_type": "code",
   "execution_count": 21,
   "id": "f84f73a2",
   "metadata": {
    "execution": {
     "iopub.execute_input": "2025-08-05T20:35:34.293183Z",
     "iopub.status.busy": "2025-08-05T20:35:34.292238Z",
     "iopub.status.idle": "2025-08-05T20:35:34.298910Z",
     "shell.execute_reply": "2025-08-05T20:35:34.297779Z"
    },
    "papermill": {
     "duration": 0.029821,
     "end_time": "2025-08-05T20:35:34.300795",
     "exception": false,
     "start_time": "2025-08-05T20:35:34.270974",
     "status": "completed"
    },
    "tags": []
   },
   "outputs": [],
   "source": [
    "from utils import flatten_once\n",
    "\n",
    "excluded_features_columns = flatten_once(excluded_features_columns)"
   ]
  },
  {
   "cell_type": "code",
   "execution_count": 22,
   "id": "884dea22",
   "metadata": {
    "execution": {
     "iopub.execute_input": "2025-08-05T20:35:34.339730Z",
     "iopub.status.busy": "2025-08-05T20:35:34.338843Z",
     "iopub.status.idle": "2025-08-05T20:35:34.355466Z",
     "shell.execute_reply": "2025-08-05T20:35:34.354230Z"
    },
    "papermill": {
     "duration": 0.037773,
     "end_time": "2025-08-05T20:35:34.357318",
     "exception": false,
     "start_time": "2025-08-05T20:35:34.319545",
     "status": "completed"
    },
    "tags": []
   },
   "outputs": [
    {
     "name": "stdout",
     "output_type": "stream",
     "text": [
      "Dropping features: ['maxdeutsch1', 'maxdeutsch.Missing.']\n"
     ]
    }
   ],
   "source": [
    "if len(excluded_features_columns) > 0:\n",
    "    print(f\"Dropping features: {excluded_features_columns}\")\n",
    "    X_train.drop(excluded_features_columns, axis=1, inplace=True)"
   ]
  },
  {
   "cell_type": "code",
   "execution_count": 23,
   "id": "95ab8b16",
   "metadata": {
    "execution": {
     "iopub.execute_input": "2025-08-05T20:35:34.399293Z",
     "iopub.status.busy": "2025-08-05T20:35:34.398359Z",
     "iopub.status.idle": "2025-08-05T20:35:34.456981Z",
     "shell.execute_reply": "2025-08-05T20:35:34.455800Z"
    },
    "papermill": {
     "duration": 0.081783,
     "end_time": "2025-08-05T20:35:34.458899",
     "exception": false,
     "start_time": "2025-08-05T20:35:34.377116",
     "status": "completed"
    },
    "tags": []
   },
   "outputs": [
    {
     "name": "stdout",
     "output_type": "stream",
     "text": [
      "Dropping features: ['maxdeutsch1', 'maxdeutsch.Missing.']\n"
     ]
    }
   ],
   "source": [
    "if len(excluded_features_columns) > 0:\n",
    "    print(f\"Dropping features: {excluded_features_columns}\")\n",
    "    X_test.drop(excluded_features_columns, axis=1, inplace=True)"
   ]
  },
  {
   "cell_type": "code",
   "execution_count": 24,
   "id": "1853aaf5-fb9f-46cb-a2b5-8ea4ae2237e4",
   "metadata": {
    "execution": {
     "iopub.execute_input": "2025-08-05T20:35:34.500824Z",
     "iopub.status.busy": "2025-08-05T20:35:34.500115Z",
     "iopub.status.idle": "2025-08-05T20:35:34.551866Z",
     "shell.execute_reply": "2025-08-05T20:35:34.550706Z"
    },
    "papermill": {
     "duration": 0.074963,
     "end_time": "2025-08-05T20:35:34.553736",
     "exception": false,
     "start_time": "2025-08-05T20:35:34.478773",
     "status": "completed"
    },
    "tags": []
   },
   "outputs": [
    {
     "name": "stdout",
     "output_type": "stream",
     "text": [
      "Dropping features: ['maxdeutsch1', 'maxdeutsch.Missing.']\n"
     ]
    }
   ],
   "source": [
    "if len(excluded_features_columns) > 0:\n",
    "    print(f\"Dropping features: {excluded_features_columns}\")\n",
    "    X_calib.drop(excluded_features_columns, axis=1, inplace=True)"
   ]
  },
  {
   "cell_type": "code",
   "execution_count": 25,
   "id": "76c4dc6d",
   "metadata": {
    "execution": {
     "iopub.execute_input": "2025-08-05T20:35:34.592397Z",
     "iopub.status.busy": "2025-08-05T20:35:34.591602Z",
     "iopub.status.idle": "2025-08-05T20:35:34.597421Z",
     "shell.execute_reply": "2025-08-05T20:35:34.596375Z"
    },
    "papermill": {
     "duration": 0.027278,
     "end_time": "2025-08-05T20:35:34.599222",
     "exception": false,
     "start_time": "2025-08-05T20:35:34.571944",
     "status": "completed"
    },
    "tags": []
   },
   "outputs": [],
   "source": [
    "# EXCLUDE CERTAIN SUBGROUPS\n",
    "# ----------------------\n",
    "\n",
    "mode = universe.get(\"exclude_subgroups\", \"keep-all\") \n",
    "# Fetches the exclude_subgroups setting from the universe dict.\n",
    "# Defaults to \"keep-all\" if the key is missing."
   ]
  },
  {
   "cell_type": "code",
   "execution_count": 26,
   "id": "21994072",
   "metadata": {
    "execution": {
     "iopub.execute_input": "2025-08-05T20:35:34.638029Z",
     "iopub.status.busy": "2025-08-05T20:35:34.637436Z",
     "iopub.status.idle": "2025-08-05T20:35:34.644507Z",
     "shell.execute_reply": "2025-08-05T20:35:34.643392Z"
    },
    "papermill": {
     "duration": 0.02788,
     "end_time": "2025-08-05T20:35:34.646416",
     "exception": false,
     "start_time": "2025-08-05T20:35:34.618536",
     "status": "completed"
    },
    "tags": []
   },
   "outputs": [],
   "source": [
    "if mode == \"keep-all\":\n",
    "    keep_mask = pd.Series(True, index=org_train.index)\n",
    "\n",
    "# org_train contains the original feature columns from features_org (in Simson)\n",
    "# features_org contains unprocessed features, for me X_train at beginning ???\n",
    "# For keep-all, creates a boolean Series (keep_mask) of all True, so no rows are removed.\n",
    "\n",
    "elif mode == \"drop-non-german\":\n",
    "    keep_mask = org_train[\"maxdeutsch1\"] == 1 # ??? what about missing values?\n",
    "\n",
    "else:\n",
    "    raise ValueError(f\"Unsupported mode for exclude_subgroups: {mode}\")"
   ]
  },
  {
   "cell_type": "code",
   "execution_count": 27,
   "id": "71651440",
   "metadata": {
    "execution": {
     "iopub.execute_input": "2025-08-05T20:35:34.686348Z",
     "iopub.status.busy": "2025-08-05T20:35:34.685683Z",
     "iopub.status.idle": "2025-08-05T20:35:34.692741Z",
     "shell.execute_reply": "2025-08-05T20:35:34.691662Z"
    },
    "papermill": {
     "duration": 0.028868,
     "end_time": "2025-08-05T20:35:34.694576",
     "exception": false,
     "start_time": "2025-08-05T20:35:34.665708",
     "status": "completed"
    },
    "tags": []
   },
   "outputs": [],
   "source": [
    "n_drop = (~keep_mask).sum() # Calculates how many rows are set to be dropped\n",
    "if n_drop > 0:\n",
    "    pct = n_drop / len(keep_mask) * 100\n",
    "    print(f\"Dropping {n_drop} rows ({pct:.2f}%) where mode='{mode}'\")"
   ]
  },
  {
   "cell_type": "code",
   "execution_count": 28,
   "id": "5fb8eee5",
   "metadata": {
    "execution": {
     "iopub.execute_input": "2025-08-05T20:35:34.738955Z",
     "iopub.status.busy": "2025-08-05T20:35:34.738040Z",
     "iopub.status.idle": "2025-08-05T20:35:34.753442Z",
     "shell.execute_reply": "2025-08-05T20:35:34.752292Z"
    },
    "papermill": {
     "duration": 0.039538,
     "end_time": "2025-08-05T20:35:34.755615",
     "exception": false,
     "start_time": "2025-08-05T20:35:34.716077",
     "status": "completed"
    },
    "tags": []
   },
   "outputs": [],
   "source": [
    "X_train = X_train[keep_mask]"
   ]
  },
  {
   "cell_type": "code",
   "execution_count": 29,
   "id": "b202bb3a",
   "metadata": {
    "execution": {
     "iopub.execute_input": "2025-08-05T20:35:34.800283Z",
     "iopub.status.busy": "2025-08-05T20:35:34.799231Z",
     "iopub.status.idle": "2025-08-05T20:35:34.806940Z",
     "shell.execute_reply": "2025-08-05T20:35:34.805823Z"
    },
    "papermill": {
     "duration": 0.031372,
     "end_time": "2025-08-05T20:35:34.808777",
     "exception": false,
     "start_time": "2025-08-05T20:35:34.777405",
     "status": "completed"
    },
    "tags": []
   },
   "outputs": [],
   "source": [
    "y_train = y_train[keep_mask]"
   ]
  },
  {
   "cell_type": "markdown",
   "id": "493e2ac3",
   "metadata": {
    "papermill": {
     "duration": 0.020838,
     "end_time": "2025-08-05T20:35:34.850093",
     "exception": false,
     "start_time": "2025-08-05T20:35:34.829255",
     "status": "completed"
    },
    "tags": []
   },
   "source": [
    "# Model Training"
   ]
  },
  {
   "cell_type": "code",
   "execution_count": 30,
   "id": "679e1268",
   "metadata": {
    "execution": {
     "iopub.execute_input": "2025-08-05T20:35:34.893115Z",
     "iopub.status.busy": "2025-08-05T20:35:34.892131Z",
     "iopub.status.idle": "2025-08-05T20:35:34.996010Z",
     "shell.execute_reply": "2025-08-05T20:35:34.995004Z"
    },
    "papermill": {
     "duration": 0.127362,
     "end_time": "2025-08-05T20:35:34.998162",
     "exception": false,
     "start_time": "2025-08-05T20:35:34.870800",
     "status": "completed"
    },
    "tags": []
   },
   "outputs": [],
   "source": [
    "from sklearn.linear_model import LogisticRegression\n",
    "from sklearn.ensemble import GradientBoostingClassifier, RandomForestClassifier\n",
    "\n",
    "if (universe[\"model\"] == \"logreg\"):\n",
    "    model = LogisticRegression() #penalty=\"none\", solver=\"newton-cg\", max_iter=1) # include random_state=19 ?\n",
    "elif (universe[\"model\"] == \"penalized_logreg\"):\n",
    "    model = LogisticRegression(penalty=\"l2\", C=0.1) #, solver=\"newton-cg\", max_iter=1)\n",
    "elif (universe[\"model\"] == \"rf\"):\n",
    "    model = RandomForestClassifier() # n_estimators=100, n_jobs=-1\n",
    "elif (universe[\"model\"] == \"gbm\"):\n",
    "    model = GradientBoostingClassifier()\n",
    "elif (universe[\"model\"] == \"elasticnet\"):\n",
    "    model = LogisticRegression(penalty = 'elasticnet', solver = 'saga', l1_ratio = 0.5) # max_iter=5000\n",
    "else:\n",
    "    raise \"Unsupported universe.model\""
   ]
  },
  {
   "cell_type": "code",
   "execution_count": 31,
   "id": "0cc8f744",
   "metadata": {
    "execution": {
     "iopub.execute_input": "2025-08-05T20:35:35.041146Z",
     "iopub.status.busy": "2025-08-05T20:35:35.040188Z",
     "iopub.status.idle": "2025-08-05T20:35:35.046970Z",
     "shell.execute_reply": "2025-08-05T20:35:35.046040Z"
    },
    "papermill": {
     "duration": 0.029742,
     "end_time": "2025-08-05T20:35:35.048777",
     "exception": false,
     "start_time": "2025-08-05T20:35:35.019035",
     "status": "completed"
    },
    "tags": []
   },
   "outputs": [],
   "source": [
    "import numpy as np\n",
    "from sklearn.pipeline import Pipeline\n",
    "from sklearn.preprocessing import StandardScaler\n",
    "\n",
    "model = Pipeline([\n",
    "    #(\"continuous_processor\", continuous_processor),\n",
    "    #(\"categorical_preprocessor\", categorical_preprocessor),\n",
    "    (\"scale\", StandardScaler() if universe[\"scale\"] == \"scale\" else None), \n",
    "    (\"model\", model),\n",
    "])"
   ]
  },
  {
   "cell_type": "code",
   "execution_count": 32,
   "id": "9442c04d",
   "metadata": {
    "execution": {
     "iopub.execute_input": "2025-08-05T20:35:35.089761Z",
     "iopub.status.busy": "2025-08-05T20:35:35.089013Z",
     "iopub.status.idle": "2025-08-05T20:35:45.678652Z",
     "shell.execute_reply": "2025-08-05T20:35:45.677670Z"
    },
    "papermill": {
     "duration": 10.6121,
     "end_time": "2025-08-05T20:35:45.680327",
     "exception": false,
     "start_time": "2025-08-05T20:35:35.068227",
     "status": "completed"
    },
    "tags": []
   },
   "outputs": [
    {
     "data": {
      "text/html": [
       "<style>#sk-container-id-1 {color: black;background-color: white;}#sk-container-id-1 pre{padding: 0;}#sk-container-id-1 div.sk-toggleable {background-color: white;}#sk-container-id-1 label.sk-toggleable__label {cursor: pointer;display: block;width: 100%;margin-bottom: 0;padding: 0.3em;box-sizing: border-box;text-align: center;}#sk-container-id-1 label.sk-toggleable__label-arrow:before {content: \"▸\";float: left;margin-right: 0.25em;color: #696969;}#sk-container-id-1 label.sk-toggleable__label-arrow:hover:before {color: black;}#sk-container-id-1 div.sk-estimator:hover label.sk-toggleable__label-arrow:before {color: black;}#sk-container-id-1 div.sk-toggleable__content {max-height: 0;max-width: 0;overflow: hidden;text-align: left;background-color: #f0f8ff;}#sk-container-id-1 div.sk-toggleable__content pre {margin: 0.2em;color: black;border-radius: 0.25em;background-color: #f0f8ff;}#sk-container-id-1 input.sk-toggleable__control:checked~div.sk-toggleable__content {max-height: 200px;max-width: 100%;overflow: auto;}#sk-container-id-1 input.sk-toggleable__control:checked~label.sk-toggleable__label-arrow:before {content: \"▾\";}#sk-container-id-1 div.sk-estimator input.sk-toggleable__control:checked~label.sk-toggleable__label {background-color: #d4ebff;}#sk-container-id-1 div.sk-label input.sk-toggleable__control:checked~label.sk-toggleable__label {background-color: #d4ebff;}#sk-container-id-1 input.sk-hidden--visually {border: 0;clip: rect(1px 1px 1px 1px);clip: rect(1px, 1px, 1px, 1px);height: 1px;margin: -1px;overflow: hidden;padding: 0;position: absolute;width: 1px;}#sk-container-id-1 div.sk-estimator {font-family: monospace;background-color: #f0f8ff;border: 1px dotted black;border-radius: 0.25em;box-sizing: border-box;margin-bottom: 0.5em;}#sk-container-id-1 div.sk-estimator:hover {background-color: #d4ebff;}#sk-container-id-1 div.sk-parallel-item::after {content: \"\";width: 100%;border-bottom: 1px solid gray;flex-grow: 1;}#sk-container-id-1 div.sk-label:hover label.sk-toggleable__label {background-color: #d4ebff;}#sk-container-id-1 div.sk-serial::before {content: \"\";position: absolute;border-left: 1px solid gray;box-sizing: border-box;top: 0;bottom: 0;left: 50%;z-index: 0;}#sk-container-id-1 div.sk-serial {display: flex;flex-direction: column;align-items: center;background-color: white;padding-right: 0.2em;padding-left: 0.2em;position: relative;}#sk-container-id-1 div.sk-item {position: relative;z-index: 1;}#sk-container-id-1 div.sk-parallel {display: flex;align-items: stretch;justify-content: center;background-color: white;position: relative;}#sk-container-id-1 div.sk-item::before, #sk-container-id-1 div.sk-parallel-item::before {content: \"\";position: absolute;border-left: 1px solid gray;box-sizing: border-box;top: 0;bottom: 0;left: 50%;z-index: -1;}#sk-container-id-1 div.sk-parallel-item {display: flex;flex-direction: column;z-index: 1;position: relative;background-color: white;}#sk-container-id-1 div.sk-parallel-item:first-child::after {align-self: flex-end;width: 50%;}#sk-container-id-1 div.sk-parallel-item:last-child::after {align-self: flex-start;width: 50%;}#sk-container-id-1 div.sk-parallel-item:only-child::after {width: 0;}#sk-container-id-1 div.sk-dashed-wrapped {border: 1px dashed gray;margin: 0 0.4em 0.5em 0.4em;box-sizing: border-box;padding-bottom: 0.4em;background-color: white;}#sk-container-id-1 div.sk-label label {font-family: monospace;font-weight: bold;display: inline-block;line-height: 1.2em;}#sk-container-id-1 div.sk-label-container {text-align: center;}#sk-container-id-1 div.sk-container {/* jupyter's `normalize.less` sets `[hidden] { display: none; }` but bootstrap.min.css set `[hidden] { display: none !important; }` so we also need the `!important` here to be able to override the default hidden behavior on the sphinx rendered scikit-learn.org. See: https://github.com/scikit-learn/scikit-learn/issues/21755 */display: inline-block !important;position: relative;}#sk-container-id-1 div.sk-text-repr-fallback {display: none;}</style><div id=\"sk-container-id-1\" class=\"sk-top-container\"><div class=\"sk-text-repr-fallback\"><pre>Pipeline(steps=[(&#x27;scale&#x27;, StandardScaler()),\n",
       "                (&#x27;model&#x27;, RandomForestClassifier())])</pre><b>In a Jupyter environment, please rerun this cell to show the HTML representation or trust the notebook. <br />On GitHub, the HTML representation is unable to render, please try loading this page with nbviewer.org.</b></div><div class=\"sk-container\" hidden><div class=\"sk-item sk-dashed-wrapped\"><div class=\"sk-label-container\"><div class=\"sk-label sk-toggleable\"><input class=\"sk-toggleable__control sk-hidden--visually\" id=\"sk-estimator-id-1\" type=\"checkbox\" ><label for=\"sk-estimator-id-1\" class=\"sk-toggleable__label sk-toggleable__label-arrow\">Pipeline</label><div class=\"sk-toggleable__content\"><pre>Pipeline(steps=[(&#x27;scale&#x27;, StandardScaler()),\n",
       "                (&#x27;model&#x27;, RandomForestClassifier())])</pre></div></div></div><div class=\"sk-serial\"><div class=\"sk-item\"><div class=\"sk-estimator sk-toggleable\"><input class=\"sk-toggleable__control sk-hidden--visually\" id=\"sk-estimator-id-2\" type=\"checkbox\" ><label for=\"sk-estimator-id-2\" class=\"sk-toggleable__label sk-toggleable__label-arrow\">StandardScaler</label><div class=\"sk-toggleable__content\"><pre>StandardScaler()</pre></div></div></div><div class=\"sk-item\"><div class=\"sk-estimator sk-toggleable\"><input class=\"sk-toggleable__control sk-hidden--visually\" id=\"sk-estimator-id-3\" type=\"checkbox\" ><label for=\"sk-estimator-id-3\" class=\"sk-toggleable__label sk-toggleable__label-arrow\">RandomForestClassifier</label><div class=\"sk-toggleable__content\"><pre>RandomForestClassifier()</pre></div></div></div></div></div></div></div>"
      ],
      "text/plain": [
       "Pipeline(steps=[('scale', StandardScaler()),\n",
       "                ('model', RandomForestClassifier())])"
      ]
     },
     "execution_count": 32,
     "metadata": {},
     "output_type": "execute_result"
    }
   ],
   "source": [
    "model.fit(X_train, y_train.values.ravel())"
   ]
  },
  {
   "cell_type": "code",
   "execution_count": 33,
   "id": "af59f8c0",
   "metadata": {
    "execution": {
     "iopub.execute_input": "2025-08-05T20:35:45.722784Z",
     "iopub.status.busy": "2025-08-05T20:35:45.722249Z",
     "iopub.status.idle": "2025-08-05T20:35:45.729688Z",
     "shell.execute_reply": "2025-08-05T20:35:45.728552Z"
    },
    "papermill": {
     "duration": 0.029237,
     "end_time": "2025-08-05T20:35:45.731441",
     "exception": false,
     "start_time": "2025-08-05T20:35:45.702204",
     "status": "completed"
    },
    "tags": []
   },
   "outputs": [],
   "source": [
    "from fairness_multiverse.universe import predict_w_threshold"
   ]
  },
  {
   "cell_type": "code",
   "execution_count": 34,
   "id": "a7cf2e16",
   "metadata": {
    "execution": {
     "iopub.execute_input": "2025-08-05T20:35:45.770572Z",
     "iopub.status.busy": "2025-08-05T20:35:45.770099Z",
     "iopub.status.idle": "2025-08-05T20:35:49.047131Z",
     "shell.execute_reply": "2025-08-05T20:35:49.046388Z"
    },
    "papermill": {
     "duration": 3.297744,
     "end_time": "2025-08-05T20:35:49.048383",
     "exception": false,
     "start_time": "2025-08-05T20:35:45.750639",
     "status": "completed"
    },
    "tags": []
   },
   "outputs": [
    {
     "data": {
      "text/plain": [
       "0.8666146471965221"
      ]
     },
     "execution_count": 34,
     "metadata": {},
     "output_type": "execute_result"
    }
   ],
   "source": [
    "probs_test = model.predict_proba(X_test)\n",
    "\n",
    "'''\n",
    "Below code returns a boolean array (or binary 0/1 array depending on how it’s used) where each element \n",
    "is True if the probability of class 1 is greater than or equal to the threshold, and False otherwise.\n",
    "'''\n",
    "y_pred_default = predict_w_threshold(probs_test, 0.5)\n",
    "\n",
    "from sklearn.metrics import accuracy_score\n",
    "\n",
    "# Naive prediction\n",
    "accuracy_score(y_true = y_true, y_pred = y_pred_default)"
   ]
  },
  {
   "cell_type": "code",
   "execution_count": 35,
   "id": "081964c3",
   "metadata": {
    "execution": {
     "iopub.execute_input": "2025-08-05T20:35:49.070277Z",
     "iopub.status.busy": "2025-08-05T20:35:49.069761Z",
     "iopub.status.idle": "2025-08-05T20:35:51.468451Z",
     "shell.execute_reply": "2025-08-05T20:35:51.467546Z"
    },
    "papermill": {
     "duration": 2.41096,
     "end_time": "2025-08-05T20:35:51.469897",
     "exception": false,
     "start_time": "2025-08-05T20:35:49.058937",
     "status": "completed"
    },
    "tags": []
   },
   "outputs": [
    {
     "data": {
      "text/plain": [
       "array([0, 0, 0, ..., 0, 0, 0])"
      ]
     },
     "execution_count": 35,
     "metadata": {},
     "output_type": "execute_result"
    }
   ],
   "source": [
    "model.predict(X_test)"
   ]
  },
  {
   "cell_type": "markdown",
   "id": "56c9705b",
   "metadata": {
    "papermill": {
     "duration": 0.010266,
     "end_time": "2025-08-05T20:35:51.490533",
     "exception": false,
     "start_time": "2025-08-05T20:35:51.480267",
     "status": "completed"
    },
    "tags": []
   },
   "source": [
    "# Conformal Prediction"
   ]
  },
  {
   "cell_type": "code",
   "execution_count": 36,
   "id": "160ec6ff",
   "metadata": {
    "execution": {
     "iopub.execute_input": "2025-08-05T20:35:51.532495Z",
     "iopub.status.busy": "2025-08-05T20:35:51.532054Z",
     "iopub.status.idle": "2025-08-05T20:35:51.537961Z",
     "shell.execute_reply": "2025-08-05T20:35:51.536510Z"
    },
    "papermill": {
     "duration": 0.031051,
     "end_time": "2025-08-05T20:35:51.540045",
     "exception": false,
     "start_time": "2025-08-05T20:35:51.508994",
     "status": "completed"
    },
    "tags": []
   },
   "outputs": [],
   "source": [
    "# Miscoverage level for conformal prediction (10% allowed error rate => 90% target coverage)\n",
    "alpha = 0.1"
   ]
  },
  {
   "cell_type": "code",
   "execution_count": 37,
   "id": "eadf4555-3dd3-440e-8e35-f82a4ad9f855",
   "metadata": {
    "execution": {
     "iopub.execute_input": "2025-08-05T20:35:51.585701Z",
     "iopub.status.busy": "2025-08-05T20:35:51.585211Z",
     "iopub.status.idle": "2025-08-05T20:35:54.836436Z",
     "shell.execute_reply": "2025-08-05T20:35:54.833787Z"
    },
    "papermill": {
     "duration": 3.275952,
     "end_time": "2025-08-05T20:35:54.838340",
     "exception": false,
     "start_time": "2025-08-05T20:35:51.562388",
     "status": "completed"
    },
    "tags": []
   },
   "outputs": [],
   "source": [
    "probs_calib = model.predict_proba(X_calib)"
   ]
  },
  {
   "cell_type": "code",
   "execution_count": 38,
   "id": "2ed93547-6d5d-4983-9b36-1ecb300da49a",
   "metadata": {
    "execution": {
     "iopub.execute_input": "2025-08-05T20:35:54.882975Z",
     "iopub.status.busy": "2025-08-05T20:35:54.882502Z",
     "iopub.status.idle": "2025-08-05T20:35:54.888231Z",
     "shell.execute_reply": "2025-08-05T20:35:54.887174Z"
    },
    "papermill": {
     "duration": 0.030971,
     "end_time": "2025-08-05T20:35:54.890875",
     "exception": false,
     "start_time": "2025-08-05T20:35:54.859904",
     "status": "completed"
    },
    "tags": []
   },
   "outputs": [],
   "source": [
    "y_calib = y_calib.values.ravel().astype(int)"
   ]
  },
  {
   "cell_type": "code",
   "execution_count": 39,
   "id": "65d1320d-f588-4b38-9072-62af1ae97f7d",
   "metadata": {
    "execution": {
     "iopub.execute_input": "2025-08-05T20:35:54.936473Z",
     "iopub.status.busy": "2025-08-05T20:35:54.936040Z",
     "iopub.status.idle": "2025-08-05T20:35:54.943786Z",
     "shell.execute_reply": "2025-08-05T20:35:54.942815Z"
    },
    "papermill": {
     "duration": 0.032691,
     "end_time": "2025-08-05T20:35:54.945548",
     "exception": false,
     "start_time": "2025-08-05T20:35:54.912857",
     "status": "completed"
    },
    "tags": []
   },
   "outputs": [],
   "source": [
    "from fairness_multiverse.conformal import compute_nc_scores\n",
    "\n",
    "# Compute nonconformity scores on calibration set (1 - probability of true class)\n",
    "nc_scores = compute_nc_scores(probs_calib, y_calib)"
   ]
  },
  {
   "cell_type": "code",
   "execution_count": 40,
   "id": "df3b8ca3-53b7-43d5-9667-7c85da7aeda2",
   "metadata": {
    "execution": {
     "iopub.execute_input": "2025-08-05T20:35:54.991754Z",
     "iopub.status.busy": "2025-08-05T20:35:54.990686Z",
     "iopub.status.idle": "2025-08-05T20:35:54.997765Z",
     "shell.execute_reply": "2025-08-05T20:35:54.996608Z"
    },
    "papermill": {
     "duration": 0.031239,
     "end_time": "2025-08-05T20:35:54.999630",
     "exception": false,
     "start_time": "2025-08-05T20:35:54.968391",
     "status": "completed"
    },
    "tags": []
   },
   "outputs": [],
   "source": [
    "from fairness_multiverse.conformal import find_threshold\n",
    "\n",
    "# Find conformal threshold q_hat for the given alpha (split conformal method)\n",
    "q_hat = find_threshold(nc_scores, alpha)"
   ]
  },
  {
   "cell_type": "code",
   "execution_count": 41,
   "id": "4d29e6c1-0ef6-4aa4-b8fe-4fe79b0d033a",
   "metadata": {
    "execution": {
     "iopub.execute_input": "2025-08-05T20:35:55.052158Z",
     "iopub.status.busy": "2025-08-05T20:35:55.051706Z",
     "iopub.status.idle": "2025-08-05T20:35:55.060472Z",
     "shell.execute_reply": "2025-08-05T20:35:55.059162Z"
    },
    "papermill": {
     "duration": 0.03836,
     "end_time": "2025-08-05T20:35:55.062323",
     "exception": false,
     "start_time": "2025-08-05T20:35:55.023963",
     "status": "completed"
    },
    "tags": []
   },
   "outputs": [
    {
     "data": {
      "text/plain": [
       "0.6699999999999999"
      ]
     },
     "execution_count": 41,
     "metadata": {},
     "output_type": "execute_result"
    }
   ],
   "source": [
    "q_hat"
   ]
  },
  {
   "cell_type": "code",
   "execution_count": 42,
   "id": "92460794-cdac-4be2-ba28-f28c0515a6fb",
   "metadata": {
    "execution": {
     "iopub.execute_input": "2025-08-05T20:35:55.109561Z",
     "iopub.status.busy": "2025-08-05T20:35:55.108853Z",
     "iopub.status.idle": "2025-08-05T20:35:58.934136Z",
     "shell.execute_reply": "2025-08-05T20:35:58.933351Z"
    },
    "papermill": {
     "duration": 3.850244,
     "end_time": "2025-08-05T20:35:58.935608",
     "exception": false,
     "start_time": "2025-08-05T20:35:55.085364",
     "status": "completed"
    },
    "tags": []
   },
   "outputs": [],
   "source": [
    "from fairness_multiverse.conformal import predict_conformal_sets\n",
    "\n",
    "# Generate prediction sets for each test example\n",
    "pred_sets = predict_conformal_sets(model, X_test, q_hat)"
   ]
  },
  {
   "cell_type": "code",
   "execution_count": 43,
   "id": "d90c9a65-e6db-4f5d-80cd-e68fb7e46829",
   "metadata": {
    "execution": {
     "iopub.execute_input": "2025-08-05T20:35:58.957765Z",
     "iopub.status.busy": "2025-08-05T20:35:58.957394Z",
     "iopub.status.idle": "2025-08-05T20:35:58.961837Z",
     "shell.execute_reply": "2025-08-05T20:35:58.961012Z"
    },
    "papermill": {
     "duration": 0.016882,
     "end_time": "2025-08-05T20:35:58.963300",
     "exception": false,
     "start_time": "2025-08-05T20:35:58.946418",
     "status": "completed"
    },
    "tags": []
   },
   "outputs": [],
   "source": [
    "y_true = y_true.squeeze()"
   ]
  },
  {
   "cell_type": "code",
   "execution_count": 44,
   "id": "3a58a54a-1e68-46b9-927a-df01f18aebc8",
   "metadata": {
    "execution": {
     "iopub.execute_input": "2025-08-05T20:35:58.986320Z",
     "iopub.status.busy": "2025-08-05T20:35:58.985692Z",
     "iopub.status.idle": "2025-08-05T20:35:59.759815Z",
     "shell.execute_reply": "2025-08-05T20:35:59.758820Z"
    },
    "papermill": {
     "duration": 0.78771,
     "end_time": "2025-08-05T20:35:59.761776",
     "exception": false,
     "start_time": "2025-08-05T20:35:58.974066",
     "status": "completed"
    },
    "tags": []
   },
   "outputs": [],
   "source": [
    "from fairness_multiverse.conformal import evaluate_sets\n",
    "\n",
    "# Evaluate coverage and average set size on test data\n",
    "metrics = evaluate_sets(pred_sets, y_true)"
   ]
  },
  {
   "cell_type": "markdown",
   "id": "2b569c12-9aaa-4c88-98c9-bbcd0cf3ebb8",
   "metadata": {
    "papermill": {
     "duration": 0.021541,
     "end_time": "2025-08-05T20:35:59.809649",
     "exception": false,
     "start_time": "2025-08-05T20:35:59.788108",
     "status": "completed"
    },
    "tags": []
   },
   "source": [
    "# CP Metrics"
   ]
  },
  {
   "cell_type": "code",
   "execution_count": 45,
   "id": "5ce0a5cb-201f-45a0-ade5-94c7f0bd6095",
   "metadata": {
    "execution": {
     "iopub.execute_input": "2025-08-05T20:35:59.855143Z",
     "iopub.status.busy": "2025-08-05T20:35:59.854182Z",
     "iopub.status.idle": "2025-08-05T20:35:59.862163Z",
     "shell.execute_reply": "2025-08-05T20:35:59.861086Z"
    },
    "papermill": {
     "duration": 0.033135,
     "end_time": "2025-08-05T20:35:59.863851",
     "exception": false,
     "start_time": "2025-08-05T20:35:59.830716",
     "status": "completed"
    },
    "tags": []
   },
   "outputs": [
    {
     "data": {
      "text/plain": [
       "{'coverage': 0.9164195741834801, 'avg_size': 1.15084160071341}"
      ]
     },
     "execution_count": 45,
     "metadata": {},
     "output_type": "execute_result"
    }
   ],
   "source": [
    "metrics"
   ]
  },
  {
   "cell_type": "code",
   "execution_count": 46,
   "id": "9b9a838d-31c9-430b-ae14-12baee460d17",
   "metadata": {
    "execution": {
     "iopub.execute_input": "2025-08-05T20:35:59.910862Z",
     "iopub.status.busy": "2025-08-05T20:35:59.910434Z",
     "iopub.status.idle": "2025-08-05T20:35:59.918043Z",
     "shell.execute_reply": "2025-08-05T20:35:59.916992Z"
    },
    "papermill": {
     "duration": 0.033775,
     "end_time": "2025-08-05T20:35:59.919740",
     "exception": false,
     "start_time": "2025-08-05T20:35:59.885965",
     "status": "completed"
    },
    "tags": []
   },
   "outputs": [],
   "source": [
    "example_universe = universe.copy()\n",
    "universe_training_year = example_universe.get(\"training_year\")\n",
    "universe_training_size = example_universe.get(\"training_size\")\n",
    "universe_scale = example_universe.get(\"scale\")\n",
    "universe_model = example_universe.get(\"model\")\n",
    "universe_exclude_features = example_universe.get(\"exclude_features\")\n",
    "universe_exclude_subgroups = example_universe.get(\"exclude_subgroups\")"
   ]
  },
  {
   "cell_type": "code",
   "execution_count": 47,
   "id": "f4b6a8ac-9dc0-4245-8a91-5b3b5999c4f9",
   "metadata": {
    "execution": {
     "iopub.execute_input": "2025-08-05T20:35:59.968160Z",
     "iopub.status.busy": "2025-08-05T20:35:59.967456Z",
     "iopub.status.idle": "2025-08-05T20:35:59.974148Z",
     "shell.execute_reply": "2025-08-05T20:35:59.973111Z"
    },
    "papermill": {
     "duration": 0.032761,
     "end_time": "2025-08-05T20:35:59.976103",
     "exception": false,
     "start_time": "2025-08-05T20:35:59.943342",
     "status": "completed"
    },
    "tags": []
   },
   "outputs": [],
   "source": [
    "cp_metrics_dict = {\n",
    "    \"universe_id\": [universe_id],\n",
    "    \"universe_training_year\": [universe_training_year],\n",
    "    \"universe_training_size\": [universe_training_size],\n",
    "    \"universe_scale\": [universe_scale],\n",
    "    \"universe_model\": [universe_model],\n",
    "    \"universe_exclude_features\": [universe_exclude_features],\n",
    "    \"universe_exclude_subgroups\": [universe_exclude_subgroups],\n",
    "    \"q_hat\": [q_hat],\n",
    "    \"coverage\": [metrics[\"coverage\"]],\n",
    "    \"avg_size\": [metrics[\"avg_size\"]],\n",
    "}"
   ]
  },
  {
   "cell_type": "code",
   "execution_count": 48,
   "id": "908acbb1-0371-4915-85ca-3fa520d2efe2",
   "metadata": {
    "execution": {
     "iopub.execute_input": "2025-08-05T20:36:00.023698Z",
     "iopub.status.busy": "2025-08-05T20:36:00.022780Z",
     "iopub.status.idle": "2025-08-05T20:36:00.030760Z",
     "shell.execute_reply": "2025-08-05T20:36:00.029608Z"
    },
    "papermill": {
     "duration": 0.032909,
     "end_time": "2025-08-05T20:36:00.032578",
     "exception": false,
     "start_time": "2025-08-05T20:35:59.999669",
     "status": "completed"
    },
    "tags": []
   },
   "outputs": [
    {
     "data": {
      "text/plain": [
       "{'universe_id': ['fb48bd691559a553bd6b0d5906e157e7'],\n",
       " 'universe_training_year': ['2014'],\n",
       " 'universe_training_size': ['25k'],\n",
       " 'universe_scale': ['scale'],\n",
       " 'universe_model': ['rf'],\n",
       " 'universe_exclude_features': ['nationality'],\n",
       " 'universe_exclude_subgroups': ['keep-all'],\n",
       " 'q_hat': [0.6699999999999999],\n",
       " 'coverage': [0.9164195741834801],\n",
       " 'avg_size': [1.15084160071341]}"
      ]
     },
     "execution_count": 48,
     "metadata": {},
     "output_type": "execute_result"
    }
   ],
   "source": [
    "cp_metrics_dict"
   ]
  },
  {
   "cell_type": "code",
   "execution_count": 49,
   "id": "33007efc-14e9-4ec6-97ac-56a455c82265",
   "metadata": {
    "execution": {
     "iopub.execute_input": "2025-08-05T20:36:00.079465Z",
     "iopub.status.busy": "2025-08-05T20:36:00.078996Z",
     "iopub.status.idle": "2025-08-05T20:36:00.085059Z",
     "shell.execute_reply": "2025-08-05T20:36:00.084036Z"
    },
    "papermill": {
     "duration": 0.031083,
     "end_time": "2025-08-05T20:36:00.086896",
     "exception": false,
     "start_time": "2025-08-05T20:36:00.055813",
     "status": "completed"
    },
    "tags": []
   },
   "outputs": [],
   "source": [
    "cp_metrics_df = pd.DataFrame(cp_metrics_dict)"
   ]
  },
  {
   "cell_type": "code",
   "execution_count": 50,
   "id": "db12611b-57b2-4910-b9d0-355adfd6e7bf",
   "metadata": {
    "execution": {
     "iopub.execute_input": "2025-08-05T20:36:00.133558Z",
     "iopub.status.busy": "2025-08-05T20:36:00.132653Z",
     "iopub.status.idle": "2025-08-05T20:36:00.151203Z",
     "shell.execute_reply": "2025-08-05T20:36:00.150364Z"
    },
    "papermill": {
     "duration": 0.043804,
     "end_time": "2025-08-05T20:36:00.153264",
     "exception": false,
     "start_time": "2025-08-05T20:36:00.109460",
     "status": "completed"
    },
    "tags": []
   },
   "outputs": [
    {
     "data": {
      "text/html": [
       "<div>\n",
       "<style scoped>\n",
       "    .dataframe tbody tr th:only-of-type {\n",
       "        vertical-align: middle;\n",
       "    }\n",
       "\n",
       "    .dataframe tbody tr th {\n",
       "        vertical-align: top;\n",
       "    }\n",
       "\n",
       "    .dataframe thead th {\n",
       "        text-align: right;\n",
       "    }\n",
       "</style>\n",
       "<table border=\"1\" class=\"dataframe\">\n",
       "  <thead>\n",
       "    <tr style=\"text-align: right;\">\n",
       "      <th></th>\n",
       "      <th>universe_id</th>\n",
       "      <th>universe_training_year</th>\n",
       "      <th>universe_training_size</th>\n",
       "      <th>universe_scale</th>\n",
       "      <th>universe_model</th>\n",
       "      <th>universe_exclude_features</th>\n",
       "      <th>universe_exclude_subgroups</th>\n",
       "      <th>q_hat</th>\n",
       "      <th>coverage</th>\n",
       "      <th>avg_size</th>\n",
       "    </tr>\n",
       "  </thead>\n",
       "  <tbody>\n",
       "    <tr>\n",
       "      <th>0</th>\n",
       "      <td>fb48bd691559a553bd6b0d5906e157e7</td>\n",
       "      <td>2014</td>\n",
       "      <td>25k</td>\n",
       "      <td>scale</td>\n",
       "      <td>rf</td>\n",
       "      <td>nationality</td>\n",
       "      <td>keep-all</td>\n",
       "      <td>0.67</td>\n",
       "      <td>0.91642</td>\n",
       "      <td>1.150842</td>\n",
       "    </tr>\n",
       "  </tbody>\n",
       "</table>\n",
       "</div>"
      ],
      "text/plain": [
       "                        universe_id universe_training_year  \\\n",
       "0  fb48bd691559a553bd6b0d5906e157e7                   2014   \n",
       "\n",
       "  universe_training_size universe_scale universe_model  \\\n",
       "0                    25k          scale             rf   \n",
       "\n",
       "  universe_exclude_features universe_exclude_subgroups  q_hat  coverage  \\\n",
       "0               nationality                   keep-all   0.67   0.91642   \n",
       "\n",
       "   avg_size  \n",
       "0  1.150842  "
      ]
     },
     "execution_count": 50,
     "metadata": {},
     "output_type": "execute_result"
    }
   ],
   "source": [
    "cp_metrics_df"
   ]
  },
  {
   "cell_type": "code",
   "execution_count": 51,
   "id": "b7fbde55-a0a1-47e4-9af6-fe4a17fa8c61",
   "metadata": {
    "execution": {
     "iopub.execute_input": "2025-08-05T20:36:00.194287Z",
     "iopub.status.busy": "2025-08-05T20:36:00.193423Z",
     "iopub.status.idle": "2025-08-05T20:36:00.198617Z",
     "shell.execute_reply": "2025-08-05T20:36:00.197658Z"
    },
    "papermill": {
     "duration": 0.026939,
     "end_time": "2025-08-05T20:36:00.200360",
     "exception": false,
     "start_time": "2025-08-05T20:36:00.173421",
     "status": "completed"
    },
    "tags": []
   },
   "outputs": [],
   "source": [
    "# Conditional Coverage & looking at subgroups"
   ]
  },
  {
   "cell_type": "code",
   "execution_count": 52,
   "id": "027ae886-68dd-4141-96c7-805a5450e1ef",
   "metadata": {
    "execution": {
     "iopub.execute_input": "2025-08-05T20:36:00.235738Z",
     "iopub.status.busy": "2025-08-05T20:36:00.235168Z",
     "iopub.status.idle": "2025-08-05T20:36:00.479543Z",
     "shell.execute_reply": "2025-08-05T20:36:00.478635Z"
    },
    "papermill": {
     "duration": 0.260641,
     "end_time": "2025-08-05T20:36:00.481537",
     "exception": false,
     "start_time": "2025-08-05T20:36:00.220896",
     "status": "completed"
    },
    "tags": []
   },
   "outputs": [],
   "source": [
    "from fairness_multiverse.conformal import build_cp_groups\n",
    "\n",
    "cp_groups_df = build_cp_groups(pred_sets, y_true, X_test.index, org_test)\n",
    "#needs universe_id and setting"
   ]
  },
  {
   "cell_type": "code",
   "execution_count": 53,
   "id": "6cbdab96-b2b2-45af-ad54-d0516db2e28d",
   "metadata": {
    "execution": {
     "iopub.execute_input": "2025-08-05T20:36:00.519982Z",
     "iopub.status.busy": "2025-08-05T20:36:00.519553Z",
     "iopub.status.idle": "2025-08-05T20:36:02.057989Z",
     "shell.execute_reply": "2025-08-05T20:36:02.056944Z"
    },
    "papermill": {
     "duration": 1.556885,
     "end_time": "2025-08-05T20:36:02.059927",
     "exception": false,
     "start_time": "2025-08-05T20:36:00.503042",
     "status": "completed"
    },
    "tags": []
   },
   "outputs": [],
   "source": [
    "# Define covered = 1 if true_label is in the predicted set\n",
    "cp_groups_df['covered'] = cp_groups_df.apply(\n",
    "    lambda r: int(r['true_label'] in r['pred_set']),\n",
    "    axis=1\n",
    ")"
   ]
  },
  {
   "cell_type": "code",
   "execution_count": 54,
   "id": "338ff529-1a6b-4b87-a931-8e4788d52aad",
   "metadata": {
    "execution": {
     "iopub.execute_input": "2025-08-05T20:36:02.107740Z",
     "iopub.status.busy": "2025-08-05T20:36:02.107215Z",
     "iopub.status.idle": "2025-08-05T20:36:02.112099Z",
     "shell.execute_reply": "2025-08-05T20:36:02.111013Z"
    },
    "papermill": {
     "duration": 0.030123,
     "end_time": "2025-08-05T20:36:02.113919",
     "exception": false,
     "start_time": "2025-08-05T20:36:02.083796",
     "status": "completed"
    },
    "tags": []
   },
   "outputs": [],
   "source": [
    "#cp_groups_df"
   ]
  },
  {
   "cell_type": "code",
   "execution_count": 55,
   "id": "90032e27-66df-4540-9169-4e89cfbaa758",
   "metadata": {
    "execution": {
     "iopub.execute_input": "2025-08-05T20:36:02.162168Z",
     "iopub.status.busy": "2025-08-05T20:36:02.161245Z",
     "iopub.status.idle": "2025-08-05T20:36:02.173408Z",
     "shell.execute_reply": "2025-08-05T20:36:02.172457Z"
    },
    "papermill": {
     "duration": 0.03835,
     "end_time": "2025-08-05T20:36:02.175380",
     "exception": false,
     "start_time": "2025-08-05T20:36:02.137030",
     "status": "completed"
    },
    "tags": []
   },
   "outputs": [],
   "source": [
    "subgroups = ['frau1','nongerman','nongerman_male','nongerman_female']\n",
    "\n",
    "# Conditional coverage for subgroup==1\n",
    "cond_coverage = {\n",
    "    g: cp_groups_df.loc[cp_groups_df[g]==1, 'covered'].mean()\n",
    "    for g in subgroups\n",
    "}"
   ]
  },
  {
   "cell_type": "code",
   "execution_count": 56,
   "id": "1e348fb1-b9c3-45bc-ba23-f016827a7e0d",
   "metadata": {
    "execution": {
     "iopub.execute_input": "2025-08-05T20:36:02.224772Z",
     "iopub.status.busy": "2025-08-05T20:36:02.223889Z",
     "iopub.status.idle": "2025-08-05T20:36:02.231671Z",
     "shell.execute_reply": "2025-08-05T20:36:02.230576Z"
    },
    "papermill": {
     "duration": 0.033799,
     "end_time": "2025-08-05T20:36:02.233497",
     "exception": false,
     "start_time": "2025-08-05T20:36:02.199698",
     "status": "completed"
    },
    "tags": []
   },
   "outputs": [
    {
     "data": {
      "text/plain": [
       "{'frau1': 0.9169699420407063,\n",
       " 'nongerman': 0.9155111435468478,\n",
       " 'nongerman_male': 0.9280374673511663,\n",
       " 'nongerman_female': 0.8947839046199701}"
      ]
     },
     "execution_count": 56,
     "metadata": {},
     "output_type": "execute_result"
    }
   ],
   "source": [
    "cond_coverage"
   ]
  },
  {
   "cell_type": "code",
   "execution_count": 57,
   "id": "f5093324-c3dd-4d63-bc4c-8d945e5c8bbb",
   "metadata": {
    "execution": {
     "iopub.execute_input": "2025-08-05T20:36:02.282406Z",
     "iopub.status.busy": "2025-08-05T20:36:02.281646Z",
     "iopub.status.idle": "2025-08-05T20:36:02.289212Z",
     "shell.execute_reply": "2025-08-05T20:36:02.288208Z"
    },
    "papermill": {
     "duration": 0.033656,
     "end_time": "2025-08-05T20:36:02.291265",
     "exception": false,
     "start_time": "2025-08-05T20:36:02.257609",
     "status": "completed"
    },
    "tags": []
   },
   "outputs": [],
   "source": [
    "for subgroup, cov in cond_coverage.items():\n",
    "    cp_metrics_df[f\"cov_{subgroup}\"] = cov"
   ]
  },
  {
   "cell_type": "code",
   "execution_count": 58,
   "id": "6e872e10-dbe5-49e8-b554-5030c98ff75d",
   "metadata": {
    "execution": {
     "iopub.execute_input": "2025-08-05T20:36:02.338721Z",
     "iopub.status.busy": "2025-08-05T20:36:02.338101Z",
     "iopub.status.idle": "2025-08-05T20:36:02.357421Z",
     "shell.execute_reply": "2025-08-05T20:36:02.356296Z"
    },
    "papermill": {
     "duration": 0.047495,
     "end_time": "2025-08-05T20:36:02.361844",
     "exception": false,
     "start_time": "2025-08-05T20:36:02.314349",
     "status": "completed"
    },
    "tags": []
   },
   "outputs": [
    {
     "data": {
      "text/html": [
       "<div>\n",
       "<style scoped>\n",
       "    .dataframe tbody tr th:only-of-type {\n",
       "        vertical-align: middle;\n",
       "    }\n",
       "\n",
       "    .dataframe tbody tr th {\n",
       "        vertical-align: top;\n",
       "    }\n",
       "\n",
       "    .dataframe thead th {\n",
       "        text-align: right;\n",
       "    }\n",
       "</style>\n",
       "<table border=\"1\" class=\"dataframe\">\n",
       "  <thead>\n",
       "    <tr style=\"text-align: right;\">\n",
       "      <th></th>\n",
       "      <th>universe_id</th>\n",
       "      <th>universe_training_year</th>\n",
       "      <th>universe_training_size</th>\n",
       "      <th>universe_scale</th>\n",
       "      <th>universe_model</th>\n",
       "      <th>universe_exclude_features</th>\n",
       "      <th>universe_exclude_subgroups</th>\n",
       "      <th>q_hat</th>\n",
       "      <th>coverage</th>\n",
       "      <th>avg_size</th>\n",
       "      <th>cov_frau1</th>\n",
       "      <th>cov_nongerman</th>\n",
       "      <th>cov_nongerman_male</th>\n",
       "      <th>cov_nongerman_female</th>\n",
       "    </tr>\n",
       "  </thead>\n",
       "  <tbody>\n",
       "    <tr>\n",
       "      <th>0</th>\n",
       "      <td>fb48bd691559a553bd6b0d5906e157e7</td>\n",
       "      <td>2014</td>\n",
       "      <td>25k</td>\n",
       "      <td>scale</td>\n",
       "      <td>rf</td>\n",
       "      <td>nationality</td>\n",
       "      <td>keep-all</td>\n",
       "      <td>0.67</td>\n",
       "      <td>0.91642</td>\n",
       "      <td>1.150842</td>\n",
       "      <td>0.91697</td>\n",
       "      <td>0.915511</td>\n",
       "      <td>0.928037</td>\n",
       "      <td>0.894784</td>\n",
       "    </tr>\n",
       "  </tbody>\n",
       "</table>\n",
       "</div>"
      ],
      "text/plain": [
       "                        universe_id universe_training_year  \\\n",
       "0  fb48bd691559a553bd6b0d5906e157e7                   2014   \n",
       "\n",
       "  universe_training_size universe_scale universe_model  \\\n",
       "0                    25k          scale             rf   \n",
       "\n",
       "  universe_exclude_features universe_exclude_subgroups  q_hat  coverage  \\\n",
       "0               nationality                   keep-all   0.67   0.91642   \n",
       "\n",
       "   avg_size  cov_frau1  cov_nongerman  cov_nongerman_male  \\\n",
       "0  1.150842    0.91697       0.915511            0.928037   \n",
       "\n",
       "   cov_nongerman_female  \n",
       "0              0.894784  "
      ]
     },
     "execution_count": 58,
     "metadata": {},
     "output_type": "execute_result"
    }
   ],
   "source": [
    "cp_metrics_df"
   ]
  },
  {
   "cell_type": "markdown",
   "id": "33774451",
   "metadata": {
    "papermill": {
     "duration": 0.023359,
     "end_time": "2025-08-05T20:36:02.406257",
     "exception": false,
     "start_time": "2025-08-05T20:36:02.382898",
     "status": "completed"
    },
    "tags": []
   },
   "source": [
    "# (Fairness) Metrics"
   ]
  },
  {
   "cell_type": "code",
   "execution_count": 59,
   "id": "debc5d62",
   "metadata": {
    "execution": {
     "iopub.execute_input": "2025-08-05T20:36:02.459054Z",
     "iopub.status.busy": "2025-08-05T20:36:02.458237Z",
     "iopub.status.idle": "2025-08-05T20:36:02.481955Z",
     "shell.execute_reply": "2025-08-05T20:36:02.480517Z"
    },
    "papermill": {
     "duration": 0.05271,
     "end_time": "2025-08-05T20:36:02.484387",
     "exception": false,
     "start_time": "2025-08-05T20:36:02.431677",
     "status": "completed"
    },
    "tags": []
   },
   "outputs": [],
   "source": [
    "# do I need to include maxdeutsch1.missing?\n",
    "\n",
    "import numpy as np\n",
    "\n",
    "colname_to_bin = \"maxdeutsch1\"\n",
    "majority_value = org_train[colname_to_bin].mode()[0]\n",
    "\n",
    "org_test[\"majmin\"] = np.where(org_test[colname_to_bin] == majority_value, \"majority\", \"minority\")"
   ]
  },
  {
   "cell_type": "code",
   "execution_count": 60,
   "id": "06a50de5",
   "metadata": {
    "execution": {
     "iopub.execute_input": "2025-08-05T20:36:02.532493Z",
     "iopub.status.busy": "2025-08-05T20:36:02.531508Z",
     "iopub.status.idle": "2025-08-05T20:36:05.031254Z",
     "shell.execute_reply": "2025-08-05T20:36:05.030426Z"
    },
    "papermill": {
     "duration": 2.522705,
     "end_time": "2025-08-05T20:36:05.032776",
     "exception": false,
     "start_time": "2025-08-05T20:36:02.510071",
     "status": "completed"
    },
    "tags": []
   },
   "outputs": [],
   "source": [
    "example_universe = universe.copy()\n",
    "example_universe[\"cutoff\"] = example_universe[\"cutoff\"][0]\n",
    "example_universe[\"eval_fairness_grouping\"] = example_universe[\"eval_fairness_grouping\"][0]\n",
    "fairness_dict, metric_frame = universe_analysis.compute_metrics(\n",
    "    example_universe,\n",
    "    y_pred_prob=probs_test,\n",
    "    y_test=y_true,\n",
    "    org_test=org_test,\n",
    ")"
   ]
  },
  {
   "cell_type": "markdown",
   "id": "f95d4e02",
   "metadata": {
    "papermill": {
     "duration": 0.011127,
     "end_time": "2025-08-05T20:36:05.057995",
     "exception": false,
     "start_time": "2025-08-05T20:36:05.046868",
     "status": "completed"
    },
    "tags": []
   },
   "source": [
    "# Overall"
   ]
  },
  {
   "cell_type": "markdown",
   "id": "bdee4871",
   "metadata": {
    "papermill": {
     "duration": 0.010982,
     "end_time": "2025-08-05T20:36:05.079930",
     "exception": false,
     "start_time": "2025-08-05T20:36:05.068948",
     "status": "completed"
    },
    "tags": []
   },
   "source": [
    "Fairness\n",
    "Main fairness target: Equalized Odds. Seems to be a better fit than equal opportunity, since we're not only interested in Y = 1. Seems to be a better fit than demographic parity, since we also care about accuracy, not just equal distribution of preds.\n",
    "\n",
    "Pick column for computation of fairness metrics\n",
    "\n",
    "Performance\n",
    "Overall performance measures, most interesting in relation to the measures split by group below"
   ]
  },
  {
   "cell_type": "code",
   "execution_count": 61,
   "id": "c4e067c6",
   "metadata": {
    "execution": {
     "iopub.execute_input": "2025-08-05T20:36:05.103779Z",
     "iopub.status.busy": "2025-08-05T20:36:05.103114Z",
     "iopub.status.idle": "2025-08-05T20:36:05.110477Z",
     "shell.execute_reply": "2025-08-05T20:36:05.109507Z"
    },
    "papermill": {
     "duration": 0.020664,
     "end_time": "2025-08-05T20:36:05.111963",
     "exception": false,
     "start_time": "2025-08-05T20:36:05.091299",
     "status": "completed"
    },
    "tags": []
   },
   "outputs": [
    {
     "data": {
      "text/plain": [
       "accuracy                   0.204994\n",
       "balanced accuracy          0.534404\n",
       "f1                         0.239805\n",
       "precision                  0.136666\n",
       "false positive rate        0.908685\n",
       "false negative rate        0.022506\n",
       "selection rate             0.917512\n",
       "count                  89710.000000\n",
       "dtype: float64"
      ]
     },
     "execution_count": 61,
     "metadata": {},
     "output_type": "execute_result"
    }
   ],
   "source": [
    "metric_frame.overall"
   ]
  },
  {
   "cell_type": "markdown",
   "id": "e968fe9d",
   "metadata": {
    "papermill": {
     "duration": 0.01117,
     "end_time": "2025-08-05T20:36:05.135168",
     "exception": false,
     "start_time": "2025-08-05T20:36:05.123998",
     "status": "completed"
    },
    "tags": []
   },
   "source": [
    "By Group"
   ]
  },
  {
   "cell_type": "code",
   "execution_count": 62,
   "id": "ec325bce",
   "metadata": {
    "execution": {
     "iopub.execute_input": "2025-08-05T20:36:05.159444Z",
     "iopub.status.busy": "2025-08-05T20:36:05.158771Z",
     "iopub.status.idle": "2025-08-05T20:36:05.171221Z",
     "shell.execute_reply": "2025-08-05T20:36:05.170273Z"
    },
    "papermill": {
     "duration": 0.026004,
     "end_time": "2025-08-05T20:36:05.172854",
     "exception": false,
     "start_time": "2025-08-05T20:36:05.146850",
     "status": "completed"
    },
    "tags": []
   },
   "outputs": [
    {
     "data": {
      "text/html": [
       "<div>\n",
       "<style scoped>\n",
       "    .dataframe tbody tr th:only-of-type {\n",
       "        vertical-align: middle;\n",
       "    }\n",
       "\n",
       "    .dataframe tbody tr th {\n",
       "        vertical-align: top;\n",
       "    }\n",
       "\n",
       "    .dataframe thead th {\n",
       "        text-align: right;\n",
       "    }\n",
       "</style>\n",
       "<table border=\"1\" class=\"dataframe\">\n",
       "  <thead>\n",
       "    <tr style=\"text-align: right;\">\n",
       "      <th></th>\n",
       "      <th>accuracy</th>\n",
       "      <th>balanced accuracy</th>\n",
       "      <th>f1</th>\n",
       "      <th>precision</th>\n",
       "      <th>false positive rate</th>\n",
       "      <th>false negative rate</th>\n",
       "      <th>selection rate</th>\n",
       "      <th>count</th>\n",
       "    </tr>\n",
       "    <tr>\n",
       "      <th>majmin</th>\n",
       "      <th></th>\n",
       "      <th></th>\n",
       "      <th></th>\n",
       "      <th></th>\n",
       "      <th></th>\n",
       "      <th></th>\n",
       "      <th></th>\n",
       "      <th></th>\n",
       "    </tr>\n",
       "  </thead>\n",
       "  <tbody>\n",
       "    <tr>\n",
       "      <th>majority</th>\n",
       "      <td>0.195432</td>\n",
       "      <td>0.532662</td>\n",
       "      <td>0.245581</td>\n",
       "      <td>0.140156</td>\n",
       "      <td>0.925704</td>\n",
       "      <td>0.008972</td>\n",
       "      <td>0.934336</td>\n",
       "      <td>69170.0</td>\n",
       "    </tr>\n",
       "    <tr>\n",
       "      <th>minority</th>\n",
       "      <td>0.237196</td>\n",
       "      <td>0.536394</td>\n",
       "      <td>0.218554</td>\n",
       "      <td>0.123911</td>\n",
       "      <td>0.852465</td>\n",
       "      <td>0.074747</td>\n",
       "      <td>0.860857</td>\n",
       "      <td>20540.0</td>\n",
       "    </tr>\n",
       "  </tbody>\n",
       "</table>\n",
       "</div>"
      ],
      "text/plain": [
       "          accuracy  balanced accuracy        f1  precision  \\\n",
       "majmin                                                       \n",
       "majority  0.195432           0.532662  0.245581   0.140156   \n",
       "minority  0.237196           0.536394  0.218554   0.123911   \n",
       "\n",
       "          false positive rate  false negative rate  selection rate    count  \n",
       "majmin                                                                       \n",
       "majority             0.925704             0.008972        0.934336  69170.0  \n",
       "minority             0.852465             0.074747        0.860857  20540.0  "
      ]
     },
     "execution_count": 62,
     "metadata": {},
     "output_type": "execute_result"
    }
   ],
   "source": [
    "metric_frame.by_group"
   ]
  },
  {
   "cell_type": "code",
   "execution_count": 63,
   "id": "a9ddbe63",
   "metadata": {
    "execution": {
     "iopub.execute_input": "2025-08-05T20:36:05.197833Z",
     "iopub.status.busy": "2025-08-05T20:36:05.197215Z",
     "iopub.status.idle": "2025-08-05T20:36:07.046882Z",
     "shell.execute_reply": "2025-08-05T20:36:07.046141Z"
    },
    "papermill": {
     "duration": 1.863022,
     "end_time": "2025-08-05T20:36:07.048210",
     "exception": false,
     "start_time": "2025-08-05T20:36:05.185188",
     "status": "completed"
    },
    "tags": []
   },
   "outputs": [
    {
     "data": {
      "text/plain": [
       "array([[<Axes: title={'center': 'accuracy'}, xlabel='majmin'>,\n",
       "        <Axes: title={'center': 'balanced accuracy'}, xlabel='majmin'>,\n",
       "        <Axes: title={'center': 'f1'}, xlabel='majmin'>],\n",
       "       [<Axes: title={'center': 'precision'}, xlabel='majmin'>,\n",
       "        <Axes: title={'center': 'false positive rate'}, xlabel='majmin'>,\n",
       "        <Axes: title={'center': 'false negative rate'}, xlabel='majmin'>],\n",
       "       [<Axes: title={'center': 'selection rate'}, xlabel='majmin'>,\n",
       "        <Axes: title={'center': 'count'}, xlabel='majmin'>,\n",
       "        <Axes: xlabel='majmin'>]], dtype=object)"
      ]
     },
     "execution_count": 63,
     "metadata": {},
     "output_type": "execute_result"
    },
    {
     "data": {
      "image/png": "[encoded data removed]",
      "text/plain": [
       "<Figure size 1200x800 with 9 Axes>"
      ]
     },
     "metadata": {},
     "output_type": "display_data"
    }
   ],
   "source": [
    "# In a graphic\n",
    "metric_frame.by_group.plot.bar(\n",
    "    subplots=True,\n",
    "    layout=[3, 3],\n",
    "    legend=False,\n",
    "    figsize=[12, 8],\n",
    "    title=\"Show all metrics\",\n",
    ")"
   ]
  },
  {
   "cell_type": "markdown",
   "id": "f57a0bac",
   "metadata": {
    "papermill": {
     "duration": 0.012469,
     "end_time": "2025-08-05T20:36:07.073854",
     "exception": false,
     "start_time": "2025-08-05T20:36:07.061385",
     "status": "completed"
    },
    "tags": []
   },
   "source": [
    "# Final Output"
   ]
  },
  {
   "cell_type": "code",
   "execution_count": 64,
   "id": "96d280a3",
   "metadata": {
    "execution": {
     "iopub.execute_input": "2025-08-05T20:36:07.099788Z",
     "iopub.status.busy": "2025-08-05T20:36:07.099409Z",
     "iopub.status.idle": "2025-08-05T20:36:07.106166Z",
     "shell.execute_reply": "2025-08-05T20:36:07.105287Z"
    },
    "papermill": {
     "duration": 0.021209,
     "end_time": "2025-08-05T20:36:07.107527",
     "exception": false,
     "start_time": "2025-08-05T20:36:07.086318",
     "status": "completed"
    },
    "tags": []
   },
   "outputs": [
    {
     "data": {
      "text/plain": [
       "4"
      ]
     },
     "execution_count": 64,
     "metadata": {},
     "output_type": "execute_result"
    }
   ],
   "source": [
    "sub_universes = universe_analysis.generate_sub_universes()\n",
    "len(sub_universes)"
   ]
  },
  {
   "cell_type": "code",
   "execution_count": 65,
   "id": "92adf7ba",
   "metadata": {
    "execution": {
     "iopub.execute_input": "2025-08-05T20:36:07.133657Z",
     "iopub.status.busy": "2025-08-05T20:36:07.133013Z",
     "iopub.status.idle": "2025-08-05T20:36:07.157321Z",
     "shell.execute_reply": "2025-08-05T20:36:07.156478Z"
    },
    "papermill": {
     "duration": 0.038947,
     "end_time": "2025-08-05T20:36:07.158920",
     "exception": false,
     "start_time": "2025-08-05T20:36:07.119973",
     "status": "completed"
    },
    "tags": []
   },
   "outputs": [],
   "source": [
    "def filter_sub_universe_data(sub_universe, org_test):\n",
    "    # Keep all rows — no filtering\n",
    "    keep_rows_mask = np.ones(org_test.shape[0], dtype=bool)\n",
    "\n",
    "    print(f\"[INFO] Keeping all rows: {keep_rows_mask.sum()} rows retained.\")\n",
    "    return keep_rows_mask"
   ]
  },
  {
   "cell_type": "code",
   "execution_count": 66,
   "id": "4a759155",
   "metadata": {
    "execution": {
     "iopub.execute_input": "2025-08-05T20:36:07.185800Z",
     "iopub.status.busy": "2025-08-05T20:36:07.185159Z",
     "iopub.status.idle": "2025-08-05T20:36:15.889392Z",
     "shell.execute_reply": "2025-08-05T20:36:15.888302Z"
    },
    "papermill": {
     "duration": 8.719194,
     "end_time": "2025-08-05T20:36:15.891228",
     "exception": false,
     "start_time": "2025-08-05T20:36:07.172034",
     "status": "completed"
    },
    "tags": []
   },
   "outputs": [
    {
     "name": "stdout",
     "output_type": "stream",
     "text": [
      "Stopping execution_time clock.\n",
      "[INFO] Keeping all rows: 89710 rows retained.\n"
     ]
    },
    {
     "name": "stdout",
     "output_type": "stream",
     "text": [
      "[INFO] Keeping all rows: 89710 rows retained.\n"
     ]
    },
    {
     "name": "stdout",
     "output_type": "stream",
     "text": [
      "[INFO] Keeping all rows: 89710 rows retained.\n"
     ]
    },
    {
     "name": "stdout",
     "output_type": "stream",
     "text": [
      "[INFO] Keeping all rows: 89710 rows retained.\n"
     ]
    },
    {
     "data": {
      "text/html": [
       "<div>\n",
       "<style scoped>\n",
       "    .dataframe tbody tr th:only-of-type {\n",
       "        vertical-align: middle;\n",
       "    }\n",
       "\n",
       "    .dataframe tbody tr th {\n",
       "        vertical-align: top;\n",
       "    }\n",
       "\n",
       "    .dataframe thead th {\n",
       "        text-align: right;\n",
       "    }\n",
       "</style>\n",
       "<table border=\"1\" class=\"dataframe\">\n",
       "  <thead>\n",
       "    <tr style=\"text-align: right;\">\n",
       "      <th></th>\n",
       "      <th>run_no</th>\n",
       "      <th>universe_id</th>\n",
       "      <th>universe_settings</th>\n",
       "      <th>execution_time</th>\n",
       "      <th>test_size_n</th>\n",
       "      <th>test_size_frac</th>\n",
       "      <th>fair_main_equalized_odds_difference</th>\n",
       "      <th>fair_main_equalized_odds_ratio</th>\n",
       "      <th>fair_main_demographic_parity_difference</th>\n",
       "      <th>fair_main_demographic_parity_ratio</th>\n",
       "      <th>...</th>\n",
       "      <th>perf_grp_precision_0</th>\n",
       "      <th>perf_grp_precision_1</th>\n",
       "      <th>perf_grp_false positive rate_0</th>\n",
       "      <th>perf_grp_false positive rate_1</th>\n",
       "      <th>perf_grp_false negative rate_0</th>\n",
       "      <th>perf_grp_false negative rate_1</th>\n",
       "      <th>perf_grp_selection rate_0</th>\n",
       "      <th>perf_grp_selection rate_1</th>\n",
       "      <th>perf_grp_count_0</th>\n",
       "      <th>perf_grp_count_1</th>\n",
       "    </tr>\n",
       "  </thead>\n",
       "  <tbody>\n",
       "    <tr>\n",
       "      <th>0</th>\n",
       "      <td>16</td>\n",
       "      <td>fb48bd691559a553bd6b0d5906e157e7</td>\n",
       "      <td>{\"cutoff\": \"quantile_0.1\", \"eval_fairness_grou...</td>\n",
       "      <td>46.213799</td>\n",
       "      <td>89710</td>\n",
       "      <td>1.0</td>\n",
       "      <td>0.073238</td>\n",
       "      <td>0.920883</td>\n",
       "      <td>0.073479</td>\n",
       "      <td>0.921357</td>\n",
       "      <td>...</td>\n",
       "      <td>NaN</td>\n",
       "      <td>NaN</td>\n",
       "      <td>NaN</td>\n",
       "      <td>NaN</td>\n",
       "      <td>NaN</td>\n",
       "      <td>NaN</td>\n",
       "      <td>NaN</td>\n",
       "      <td>NaN</td>\n",
       "      <td>NaN</td>\n",
       "      <td>NaN</td>\n",
       "    </tr>\n",
       "    <tr>\n",
       "      <th>0</th>\n",
       "      <td>16</td>\n",
       "      <td>fb48bd691559a553bd6b0d5906e157e7</td>\n",
       "      <td>{\"cutoff\": \"quantile_0.1\", \"eval_fairness_grou...</td>\n",
       "      <td>46.213799</td>\n",
       "      <td>89710</td>\n",
       "      <td>1.0</td>\n",
       "      <td>0.073238</td>\n",
       "      <td>0.920883</td>\n",
       "      <td>0.073479</td>\n",
       "      <td>0.921357</td>\n",
       "      <td>...</td>\n",
       "      <td>0.123911</td>\n",
       "      <td>0.140156</td>\n",
       "      <td>0.852465</td>\n",
       "      <td>0.925704</td>\n",
       "      <td>0.074747</td>\n",
       "      <td>0.008972</td>\n",
       "      <td>0.860857</td>\n",
       "      <td>0.934336</td>\n",
       "      <td>20540.0</td>\n",
       "      <td>69170.0</td>\n",
       "    </tr>\n",
       "    <tr>\n",
       "      <th>0</th>\n",
       "      <td>16</td>\n",
       "      <td>fb48bd691559a553bd6b0d5906e157e7</td>\n",
       "      <td>{\"cutoff\": \"quantile_0.25\", \"eval_fairness_gro...</td>\n",
       "      <td>46.213799</td>\n",
       "      <td>89710</td>\n",
       "      <td>1.0</td>\n",
       "      <td>0.100461</td>\n",
       "      <td>0.894640</td>\n",
       "      <td>0.076700</td>\n",
       "      <td>0.900463</td>\n",
       "      <td>...</td>\n",
       "      <td>NaN</td>\n",
       "      <td>NaN</td>\n",
       "      <td>NaN</td>\n",
       "      <td>NaN</td>\n",
       "      <td>NaN</td>\n",
       "      <td>NaN</td>\n",
       "      <td>NaN</td>\n",
       "      <td>NaN</td>\n",
       "      <td>NaN</td>\n",
       "      <td>NaN</td>\n",
       "    </tr>\n",
       "    <tr>\n",
       "      <th>0</th>\n",
       "      <td>16</td>\n",
       "      <td>fb48bd691559a553bd6b0d5906e157e7</td>\n",
       "      <td>{\"cutoff\": \"quantile_0.25\", \"eval_fairness_gro...</td>\n",
       "      <td>46.213799</td>\n",
       "      <td>89710</td>\n",
       "      <td>1.0</td>\n",
       "      <td>0.100461</td>\n",
       "      <td>0.894640</td>\n",
       "      <td>0.076700</td>\n",
       "      <td>0.900463</td>\n",
       "      <td>...</td>\n",
       "      <td>0.141734</td>\n",
       "      <td>0.163508</td>\n",
       "      <td>0.673123</td>\n",
       "      <td>0.742712</td>\n",
       "      <td>0.146959</td>\n",
       "      <td>0.046499</td>\n",
       "      <td>0.693866</td>\n",
       "      <td>0.770565</td>\n",
       "      <td>20540.0</td>\n",
       "      <td>69170.0</td>\n",
       "    </tr>\n",
       "  </tbody>\n",
       "</table>\n",
       "<p>4 rows × 50 columns</p>\n",
       "</div>"
      ],
      "text/plain": [
       "  run_no                       universe_id  \\\n",
       "0     16  fb48bd691559a553bd6b0d5906e157e7   \n",
       "0     16  fb48bd691559a553bd6b0d5906e157e7   \n",
       "0     16  fb48bd691559a553bd6b0d5906e157e7   \n",
       "0     16  fb48bd691559a553bd6b0d5906e157e7   \n",
       "\n",
       "                                   universe_settings  execution_time  \\\n",
       "0  {\"cutoff\": \"quantile_0.1\", \"eval_fairness_grou...       46.213799   \n",
       "0  {\"cutoff\": \"quantile_0.1\", \"eval_fairness_grou...       46.213799   \n",
       "0  {\"cutoff\": \"quantile_0.25\", \"eval_fairness_gro...       46.213799   \n",
       "0  {\"cutoff\": \"quantile_0.25\", \"eval_fairness_gro...       46.213799   \n",
       "\n",
       "   test_size_n  test_size_frac  fair_main_equalized_odds_difference  \\\n",
       "0        89710             1.0                             0.073238   \n",
       "0        89710             1.0                             0.073238   \n",
       "0        89710             1.0                             0.100461   \n",
       "0        89710             1.0                             0.100461   \n",
       "\n",
       "   fair_main_equalized_odds_ratio  fair_main_demographic_parity_difference  \\\n",
       "0                        0.920883                                 0.073479   \n",
       "0                        0.920883                                 0.073479   \n",
       "0                        0.894640                                 0.076700   \n",
       "0                        0.894640                                 0.076700   \n",
       "\n",
       "   fair_main_demographic_parity_ratio  ...  perf_grp_precision_0  \\\n",
       "0                            0.921357  ...                   NaN   \n",
       "0                            0.921357  ...              0.123911   \n",
       "0                            0.900463  ...                   NaN   \n",
       "0                            0.900463  ...              0.141734   \n",
       "\n",
       "   perf_grp_precision_1  perf_grp_false positive rate_0  \\\n",
       "0                   NaN                             NaN   \n",
       "0              0.140156                        0.852465   \n",
       "0                   NaN                             NaN   \n",
       "0              0.163508                        0.673123   \n",
       "\n",
       "   perf_grp_false positive rate_1  perf_grp_false negative rate_0  \\\n",
       "0                             NaN                             NaN   \n",
       "0                        0.925704                        0.074747   \n",
       "0                             NaN                             NaN   \n",
       "0                        0.742712                        0.146959   \n",
       "\n",
       "   perf_grp_false negative rate_1  perf_grp_selection rate_0  \\\n",
       "0                             NaN                        NaN   \n",
       "0                        0.008972                   0.860857   \n",
       "0                             NaN                        NaN   \n",
       "0                        0.046499                   0.693866   \n",
       "\n",
       "   perf_grp_selection rate_1  perf_grp_count_0  perf_grp_count_1  \n",
       "0                        NaN               NaN               NaN  \n",
       "0                   0.934336           20540.0           69170.0  \n",
       "0                        NaN               NaN               NaN  \n",
       "0                   0.770565           20540.0           69170.0  \n",
       "\n",
       "[4 rows x 50 columns]"
      ]
     },
     "execution_count": 66,
     "metadata": {},
     "output_type": "execute_result"
    }
   ],
   "source": [
    "final_output = universe_analysis.generate_final_output(\n",
    "    y_pred_prob=probs_test,\n",
    "    y_test=y_true,\n",
    "    org_test=org_test,\n",
    "    filter_data=filter_sub_universe_data,\n",
    "    cp_metrics_df=cp_metrics_df,\n",
    "    save=True,\n",
    ")\n",
    "final_output"
   ]
  }
 ],
 "metadata": {
  "celltoolbar": "Tags",
  "kernelspec": {
   "display_name": "Python (CMA Fairness)",
   "language": "python",
   "name": "cma_fair_env"
  },
  "language_info": {
   "codemirror_mode": {
    "name": "ipython",
    "version": 3
   },
   "file_extension": ".py",
   "mimetype": "text/x-python",
   "name": "python",
   "nbconvert_exporter": "python",
   "pygments_lexer": "ipython3",
   "version": "3.10.12"
  },
  "papermill": {
   "default_parameters": {},
   "duration": 59.073611,
   "end_time": "2025-08-05T20:36:16.634863",
   "environment_variables": {},
   "exception": null,
   "input_path": "universe_analysis.ipynb",
   "output_path": "output/runs/16/notebooks/m_16-fb48bd691559a553bd6b0d5906e157e7.ipynb",
   "parameters": {
    "output_dir": "output",
    "run_no": "16",
    "seed": "2023",
    "universe": "{\"cutoff\": [\"quantile_0.1\", \"quantile_0.25\"], \"eval_fairness_grouping\": [\"majority-minority\", \"nationality-all\"], \"exclude_features\": \"nationality\", \"exclude_subgroups\": \"keep-all\", \"model\": \"rf\", \"scale\": \"scale\", \"training_size\": \"25k\", \"training_year\": \"2014\"}",
    "universe_id": "fb48bd691559a553bd6b0d5906e157e7"
   },
   "start_time": "2025-08-05T20:35:17.561252",
   "version": "2.6.0"
  }
 },
 "nbformat": 4,
 "nbformat_minor": 5
}