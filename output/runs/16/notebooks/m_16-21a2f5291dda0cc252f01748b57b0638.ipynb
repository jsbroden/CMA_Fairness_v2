{
 "cells": [
  {
   "cell_type": "code",
   "execution_count": 1,
   "id": "f159f837-637b-42ba-96b5-ec9a68c44524",
   "metadata": {
    "execution": {
     "iopub.execute_input": "2025-08-05T20:56:17.212315Z",
     "iopub.status.busy": "2025-08-05T20:56:17.211865Z",
     "iopub.status.idle": "2025-08-05T20:56:17.225114Z",
     "shell.execute_reply": "2025-08-05T20:56:17.224148Z"
    },
    "papermill": {
     "duration": 0.031631,
     "end_time": "2025-08-05T20:56:17.227038",
     "exception": false,
     "start_time": "2025-08-05T20:56:17.195407",
     "status": "completed"
    },
    "tags": []
   },
   "outputs": [
    {
     "name": "stdout",
     "output_type": "stream",
     "text": [
      "/dss/dsshome1/0C/ra93lal2/cma/CMA_Fairness_v2\n"
     ]
    },
    {
     "name": "stderr",
     "output_type": "stream",
     "text": [
      "/dss/dsshome1/0C/ra93lal2/.local/share/virtualenvs/CMA_Fairness_v2-3j10GkSs/lib/python3.10/site-packages/IPython/core/magics/osm.py:393: UserWarning: This is now an optional IPython functionality, using bookmarks requires you to install the `pickleshare` library.\n",
      "  bkms = self.shell.db.get('bookmarks', {})\n",
      "/dss/dsshome1/0C/ra93lal2/.local/share/virtualenvs/CMA_Fairness_v2-3j10GkSs/lib/python3.10/site-packages/IPython/core/magics/osm.py:417: UserWarning: This is now an optional IPython functionality, setting dhist requires you to install the `pickleshare` library.\n",
      "  self.shell.db['dhist'] = compress_dhist(dhist)[-100:]\n"
     ]
    }
   ],
   "source": [
    "%cd ~/cma/CMA_Fairness_v2"
   ]
  },
  {
   "cell_type": "markdown",
   "id": "de2603b9",
   "metadata": {
    "papermill": {
     "duration": 0.017109,
     "end_time": "2025-08-05T20:56:17.262892",
     "exception": false,
     "start_time": "2025-08-05T20:56:17.245783",
     "status": "completed"
    },
    "tags": []
   },
   "source": [
    "The following cell holds the definition of our parameters, these values can be overriden by rendering the with e.g. the following command:\n",
    "\n",
    "papermill -p alpha 0.2 -p ratio 0.3 universe_analysis.ipynb output/test_run.ipynb"
   ]
  },
  {
   "cell_type": "code",
   "execution_count": 2,
   "id": "a80968a0-40bb-4fa9-85ef-2d5eefb01975",
   "metadata": {
    "execution": {
     "iopub.execute_input": "2025-08-05T20:56:17.301017Z",
     "iopub.status.busy": "2025-08-05T20:56:17.300356Z",
     "iopub.status.idle": "2025-08-05T20:56:17.306227Z",
     "shell.execute_reply": "2025-08-05T20:56:17.305135Z"
    },
    "papermill": {
     "duration": 0.027025,
     "end_time": "2025-08-05T20:56:17.308057",
     "exception": false,
     "start_time": "2025-08-05T20:56:17.281032",
     "status": "completed"
    },
    "tags": []
   },
   "outputs": [
    {
     "name": "stdout",
     "output_type": "stream",
     "text": [
      "Current working directory: /dss/dsshome1/0C/ra93lal2/cma/CMA_Fairness_v2\n"
     ]
    }
   ],
   "source": [
    "import os\n",
    "print(\"Current working directory:\", os.getcwd())"
   ]
  },
  {
   "cell_type": "code",
   "execution_count": 3,
   "id": "2dce4c03",
   "metadata": {
    "execution": {
     "iopub.execute_input": "2025-08-05T20:56:17.345665Z",
     "iopub.status.busy": "2025-08-05T20:56:17.344985Z",
     "iopub.status.idle": "2025-08-05T20:56:17.350884Z",
     "shell.execute_reply": "2025-08-05T20:56:17.349939Z"
    },
    "papermill": {
     "duration": 0.026758,
     "end_time": "2025-08-05T20:56:17.352742",
     "exception": false,
     "start_time": "2025-08-05T20:56:17.325984",
     "status": "completed"
    },
    "tags": [
     "parameters"
    ]
   },
   "outputs": [],
   "source": [
    "run_no = 0\n",
    "universe_id = \"test\"\n",
    "universe = {\n",
    "    \"training_size\": \"25k\", # \"25k\", \"5k\", \"1k\"\n",
    "    \"training_year\": \"2014\", # \"2014\", \"2012_14\", \"2010_14\"\n",
    "    \"scale\": \"scale\", # \"scale\", \"do-not-scale\",\n",
    "    \"model\": \"elasticnet\", # \"logreg\", \"penalized_logreg\", \"rf\", \"gbm\", \"elasticnet\"\n",
    "    \"cutoff\": [\"quantile_0.15\", \"quantile_0.30\"],\n",
    "    \"exclude_features\": \"age\", # \"none\", \"nationality\", \"sex\", \"nationality-sex\", \"age\"\n",
    "    \"exclude_subgroups\": \"keep-all\", # \"keep-all\", \"drop-non-german\"\n",
    "    \"eval_fairness_grouping\": [\"majority-minority\", \"nationality-all\"]\n",
    "}\n",
    "\n",
    "output_dir=\"./output\"\n",
    "seed=0"
   ]
  },
  {
   "cell_type": "code",
   "execution_count": 4,
   "id": "e1a78ecb",
   "metadata": {
    "execution": {
     "iopub.execute_input": "2025-08-05T20:56:17.391393Z",
     "iopub.status.busy": "2025-08-05T20:56:17.390596Z",
     "iopub.status.idle": "2025-08-05T20:56:17.396277Z",
     "shell.execute_reply": "2025-08-05T20:56:17.395255Z"
    },
    "papermill": {
     "duration": 0.026446,
     "end_time": "2025-08-05T20:56:17.398284",
     "exception": false,
     "start_time": "2025-08-05T20:56:17.371838",
     "status": "completed"
    },
    "tags": [
     "injected-parameters"
    ]
   },
   "outputs": [],
   "source": [
    "# Parameters\n",
    "universe_id = \"21a2f5291dda0cc252f01748b57b0638\"\n",
    "run_no = \"16\"\n",
    "universe = \"{\\\"cutoff\\\": [\\\"quantile_0.1\\\", \\\"quantile_0.25\\\"], \\\"eval_fairness_grouping\\\": [\\\"majority-minority\\\", \\\"nationality-all\\\"], \\\"exclude_features\\\": \\\"age\\\", \\\"exclude_subgroups\\\": \\\"keep-all\\\", \\\"model\\\": \\\"elasticnet\\\", \\\"scale\\\": \\\"scale\\\", \\\"training_size\\\": \\\"25k\\\", \\\"training_year\\\": \\\"2012_14\\\"}\"\n",
    "output_dir = \"output\"\n",
    "seed = \"2023\"\n"
   ]
  },
  {
   "cell_type": "code",
   "execution_count": 5,
   "id": "1650acaf",
   "metadata": {
    "execution": {
     "iopub.execute_input": "2025-08-05T20:56:17.437352Z",
     "iopub.status.busy": "2025-08-05T20:56:17.436737Z",
     "iopub.status.idle": "2025-08-05T20:56:17.441693Z",
     "shell.execute_reply": "2025-08-05T20:56:17.440651Z"
    },
    "papermill": {
     "duration": 0.026206,
     "end_time": "2025-08-05T20:56:17.443426",
     "exception": false,
     "start_time": "2025-08-05T20:56:17.417220",
     "status": "completed"
    },
    "tags": []
   },
   "outputs": [],
   "source": [
    "import json\n",
    "if isinstance(universe, str):\n",
    "    universe = json.loads(universe)"
   ]
  },
  {
   "cell_type": "code",
   "execution_count": 6,
   "id": "16620c48",
   "metadata": {
    "execution": {
     "iopub.execute_input": "2025-08-05T20:56:17.481981Z",
     "iopub.status.busy": "2025-08-05T20:56:17.481157Z",
     "iopub.status.idle": "2025-08-05T20:56:17.523949Z",
     "shell.execute_reply": "2025-08-05T20:56:17.523016Z"
    },
    "papermill": {
     "duration": 0.064429,
     "end_time": "2025-08-05T20:56:17.525954",
     "exception": false,
     "start_time": "2025-08-05T20:56:17.461525",
     "status": "completed"
    },
    "tags": []
   },
   "outputs": [],
   "source": [
    "# Auto-reload the custom package\n",
    "%load_ext autoreload\n",
    "%autoreload 1\n",
    "%aimport fairness_multiverse"
   ]
  },
  {
   "cell_type": "code",
   "execution_count": 7,
   "id": "01c5c9f3",
   "metadata": {
    "execution": {
     "iopub.execute_input": "2025-08-05T20:56:17.564729Z",
     "iopub.status.busy": "2025-08-05T20:56:17.564123Z",
     "iopub.status.idle": "2025-08-05T20:56:19.458810Z",
     "shell.execute_reply": "2025-08-05T20:56:19.457756Z"
    },
    "papermill": {
     "duration": 1.915565,
     "end_time": "2025-08-05T20:56:19.460854",
     "exception": false,
     "start_time": "2025-08-05T20:56:17.545289",
     "status": "completed"
    },
    "tags": []
   },
   "outputs": [],
   "source": [
    "from fairness_multiverse.universe import UniverseAnalysis\n",
    "\n",
    "universe_analysis = UniverseAnalysis(\n",
    "    run_no = run_no,\n",
    "    universe_id = universe_id,\n",
    "    universe = universe,\n",
    "    output_dir=output_dir,\n",
    ")"
   ]
  },
  {
   "cell_type": "code",
   "execution_count": 8,
   "id": "106241f5",
   "metadata": {
    "execution": {
     "iopub.execute_input": "2025-08-05T20:56:19.504537Z",
     "iopub.status.busy": "2025-08-05T20:56:19.503732Z",
     "iopub.status.idle": "2025-08-05T20:56:19.512351Z",
     "shell.execute_reply": "2025-08-05T20:56:19.511299Z"
    },
    "papermill": {
     "duration": 0.031345,
     "end_time": "2025-08-05T20:56:19.514264",
     "exception": false,
     "start_time": "2025-08-05T20:56:19.482919",
     "status": "completed"
    },
    "tags": []
   },
   "outputs": [
    {
     "name": "stdout",
     "output_type": "stream",
     "text": [
      "Using Seed: 2023\n"
     ]
    }
   ],
   "source": [
    "import numpy as np\n",
    "parsed_seed = int(seed)\n",
    "np.random.seed(parsed_seed)\n",
    "print(f\"Using Seed: {parsed_seed}\")"
   ]
  },
  {
   "cell_type": "markdown",
   "id": "e0ebdc57",
   "metadata": {
    "papermill": {
     "duration": 0.01526,
     "end_time": "2025-08-05T20:56:19.545693",
     "exception": false,
     "start_time": "2025-08-05T20:56:19.530433",
     "status": "completed"
    },
    "tags": []
   },
   "source": [
    "# Loading Data"
   ]
  },
  {
   "cell_type": "code",
   "execution_count": 9,
   "id": "f0496b8a",
   "metadata": {
    "execution": {
     "iopub.execute_input": "2025-08-05T20:56:19.578846Z",
     "iopub.status.busy": "2025-08-05T20:56:19.577977Z",
     "iopub.status.idle": "2025-08-05T20:56:31.206524Z",
     "shell.execute_reply": "2025-08-05T20:56:31.205061Z"
    },
    "papermill": {
     "duration": 11.647037,
     "end_time": "2025-08-05T20:56:31.208266",
     "exception": false,
     "start_time": "2025-08-05T20:56:19.561229",
     "status": "completed"
    },
    "tags": []
   },
   "outputs": [
    {
     "name": "stdout",
     "output_type": "stream",
     "text": [
      "Loading SIAB data from cache: data/siab_cached.csv.gz\n"
     ]
    },
    {
     "name": "stdout",
     "output_type": "stream",
     "text": [
      "(643690, 164)\n"
     ]
    }
   ],
   "source": [
    "from pathlib import Path\n",
    "import pandas as pd\n",
    "\n",
    "# File paths\n",
    "raw_file = Path(\"data/raw/siab.csv\")\n",
    "cache_file = Path(\"data/siab_cached.csv.gz\")\n",
    "\n",
    "# Ensure cache directory exists\n",
    "cache_file.parent.mkdir(parents=True, exist_ok=True)\n",
    "\n",
    "# Load with simple caching\n",
    "if cache_file.exists():\n",
    "    print(f\"Loading SIAB data from cache: {cache_file}\")\n",
    "    siab = pd.read_csv(cache_file, compression='gzip')\n",
    "else:\n",
    "    print(f\"Cache not found. Reading raw SIAB data: {raw_file}\")\n",
    "    siab = pd.read_csv(raw_file)\n",
    "    siab.to_csv(cache_file, index=False, compression='gzip')\n",
    "    print(f\"Cached SIAB data to: {cache_file}\")\n",
    "\n",
    "print(siab.shape)"
   ]
  },
  {
   "cell_type": "code",
   "execution_count": 10,
   "id": "db0ca512-5f53-4dba-abdb-a2888bca41ba",
   "metadata": {
    "execution": {
     "iopub.execute_input": "2025-08-05T20:56:31.252349Z",
     "iopub.status.busy": "2025-08-05T20:56:31.251438Z",
     "iopub.status.idle": "2025-08-05T20:56:31.258255Z",
     "shell.execute_reply": "2025-08-05T20:56:31.257228Z"
    },
    "papermill": {
     "duration": 0.028275,
     "end_time": "2025-08-05T20:56:31.259950",
     "exception": false,
     "start_time": "2025-08-05T20:56:31.231675",
     "status": "completed"
    },
    "tags": []
   },
   "outputs": [],
   "source": [
    "#siab"
   ]
  },
  {
   "cell_type": "markdown",
   "id": "997051c5-15bd-4b69-9786-c3001a3ce484",
   "metadata": {
    "papermill": {
     "duration": 0.015076,
     "end_time": "2025-08-05T20:56:31.291376",
     "exception": false,
     "start_time": "2025-08-05T20:56:31.276300",
     "status": "completed"
    },
    "tags": []
   },
   "source": [
    "# Splitting Data and Setting Training Data Size"
   ]
  },
  {
   "cell_type": "code",
   "execution_count": 11,
   "id": "aea9c6ef-6f46-42c8-85eb-5a62025c1508",
   "metadata": {
    "execution": {
     "iopub.execute_input": "2025-08-05T20:56:31.324260Z",
     "iopub.status.busy": "2025-08-05T20:56:31.323439Z",
     "iopub.status.idle": "2025-08-05T20:56:31.989772Z",
     "shell.execute_reply": "2025-08-05T20:56:31.988772Z"
    },
    "papermill": {
     "duration": 0.684925,
     "end_time": "2025-08-05T20:56:31.991679",
     "exception": false,
     "start_time": "2025-08-05T20:56:31.306754",
     "status": "completed"
    },
    "tags": []
   },
   "outputs": [],
   "source": [
    "from fairness_multiverse.universe import sample_by_year_size\n",
    "\n",
    "siab_train = sample_by_year_size(siab,\n",
    "                               training_year=universe[\"training_year\"],\n",
    "                               training_size=universe[\"training_size\"])"
   ]
  },
  {
   "cell_type": "code",
   "execution_count": 12,
   "id": "8d3afb32-789d-442c-8d5d-9f5aa8dd2eed",
   "metadata": {
    "execution": {
     "iopub.execute_input": "2025-08-05T20:56:32.025152Z",
     "iopub.status.busy": "2025-08-05T20:56:32.024331Z",
     "iopub.status.idle": "2025-08-05T20:56:32.029633Z",
     "shell.execute_reply": "2025-08-05T20:56:32.028680Z"
    },
    "papermill": {
     "duration": 0.023363,
     "end_time": "2025-08-05T20:56:32.031207",
     "exception": false,
     "start_time": "2025-08-05T20:56:32.007844",
     "status": "completed"
    },
    "tags": []
   },
   "outputs": [],
   "source": [
    "#siab_train.shape"
   ]
  },
  {
   "cell_type": "code",
   "execution_count": 13,
   "id": "d582db68-1a4c-47fb-84fc-08518dc1975a",
   "metadata": {
    "execution": {
     "iopub.execute_input": "2025-08-05T20:56:32.064772Z",
     "iopub.status.busy": "2025-08-05T20:56:32.064184Z",
     "iopub.status.idle": "2025-08-05T20:56:32.069061Z",
     "shell.execute_reply": "2025-08-05T20:56:32.068106Z"
    },
    "papermill": {
     "duration": 0.023203,
     "end_time": "2025-08-05T20:56:32.070948",
     "exception": false,
     "start_time": "2025-08-05T20:56:32.047745",
     "status": "completed"
    },
    "tags": []
   },
   "outputs": [],
   "source": [
    "#display(siab_train.groupby(\"year\").size())"
   ]
  },
  {
   "cell_type": "code",
   "execution_count": 14,
   "id": "a561edb4-d032-42cb-8256-22eac1111c64",
   "metadata": {
    "execution": {
     "iopub.execute_input": "2025-08-05T20:56:32.103692Z",
     "iopub.status.busy": "2025-08-05T20:56:32.103258Z",
     "iopub.status.idle": "2025-08-05T20:56:32.323399Z",
     "shell.execute_reply": "2025-08-05T20:56:32.322436Z"
    },
    "papermill": {
     "duration": 0.238149,
     "end_time": "2025-08-05T20:56:32.325069",
     "exception": false,
     "start_time": "2025-08-05T20:56:32.086920",
     "status": "completed"
    },
    "tags": []
   },
   "outputs": [],
   "source": [
    "#siab_train = siab_s[siab_s.year < 2015]\n",
    "siab_calib = siab[siab.year == 2015]\n",
    "siab_test = siab[siab.year == 2016]"
   ]
  },
  {
   "cell_type": "code",
   "execution_count": 15,
   "id": "472de16f-c3db-4916-846b-1f0de9cf1746",
   "metadata": {
    "execution": {
     "iopub.execute_input": "2025-08-05T20:56:32.358629Z",
     "iopub.status.busy": "2025-08-05T20:56:32.357965Z",
     "iopub.status.idle": "2025-08-05T20:56:32.382527Z",
     "shell.execute_reply": "2025-08-05T20:56:32.381420Z"
    },
    "papermill": {
     "duration": 0.043271,
     "end_time": "2025-08-05T20:56:32.384635",
     "exception": false,
     "start_time": "2025-08-05T20:56:32.341364",
     "status": "completed"
    },
    "tags": []
   },
   "outputs": [],
   "source": [
    "X_train = siab_train.iloc[:,4:164]\n",
    "y_train = siab_train.iloc[:, [3]]"
   ]
  },
  {
   "cell_type": "code",
   "execution_count": 16,
   "id": "828c96af-f43a-4ed6-ba47-8ac73a47d56c",
   "metadata": {
    "execution": {
     "iopub.execute_input": "2025-08-05T20:56:32.425697Z",
     "iopub.status.busy": "2025-08-05T20:56:32.425004Z",
     "iopub.status.idle": "2025-08-05T20:56:32.513659Z",
     "shell.execute_reply": "2025-08-05T20:56:32.512481Z"
    },
    "papermill": {
     "duration": 0.110332,
     "end_time": "2025-08-05T20:56:32.515680",
     "exception": false,
     "start_time": "2025-08-05T20:56:32.405348",
     "status": "completed"
    },
    "tags": []
   },
   "outputs": [],
   "source": [
    "X_calib = siab_calib.iloc[:,4:164]\n",
    "y_calib = siab_calib.iloc[:, [3]]"
   ]
  },
  {
   "cell_type": "code",
   "execution_count": 17,
   "id": "c34be9c3-6bd6-476e-acd3-845840e303be",
   "metadata": {
    "execution": {
     "iopub.execute_input": "2025-08-05T20:56:32.550235Z",
     "iopub.status.busy": "2025-08-05T20:56:32.549332Z",
     "iopub.status.idle": "2025-08-05T20:56:32.602437Z",
     "shell.execute_reply": "2025-08-05T20:56:32.601240Z"
    },
    "papermill": {
     "duration": 0.071729,
     "end_time": "2025-08-05T20:56:32.604479",
     "exception": false,
     "start_time": "2025-08-05T20:56:32.532750",
     "status": "completed"
    },
    "tags": []
   },
   "outputs": [],
   "source": [
    "X_test = siab_test.iloc[:,4:164]\n",
    "y_true = siab_test.iloc[:, [3]]"
   ]
  },
  {
   "cell_type": "code",
   "execution_count": 18,
   "id": "e6c733c5",
   "metadata": {
    "execution": {
     "iopub.execute_input": "2025-08-05T20:56:32.639088Z",
     "iopub.status.busy": "2025-08-05T20:56:32.638295Z",
     "iopub.status.idle": "2025-08-05T20:56:32.741219Z",
     "shell.execute_reply": "2025-08-05T20:56:32.740217Z"
    },
    "papermill": {
     "duration": 0.121806,
     "end_time": "2025-08-05T20:56:32.743267",
     "exception": false,
     "start_time": "2025-08-05T20:56:32.621461",
     "status": "completed"
    },
    "tags": []
   },
   "outputs": [],
   "source": [
    "# Auxiliary data needed downstream in the pipeline\n",
    "\n",
    "org_train = X_train.copy()\n",
    "org_test = X_test.copy()\n",
    "org_calib = X_calib.copy()"
   ]
  },
  {
   "cell_type": "markdown",
   "id": "0a4a1b33",
   "metadata": {
    "papermill": {
     "duration": 0.019104,
     "end_time": "2025-08-05T20:56:32.781981",
     "exception": false,
     "start_time": "2025-08-05T20:56:32.762877",
     "status": "completed"
    },
    "tags": []
   },
   "source": [
    "# Preprocessing Data"
   ]
  },
  {
   "cell_type": "code",
   "execution_count": 19,
   "id": "ca879031",
   "metadata": {
    "execution": {
     "iopub.execute_input": "2025-08-05T20:56:32.823229Z",
     "iopub.status.busy": "2025-08-05T20:56:32.822558Z",
     "iopub.status.idle": "2025-08-05T20:56:32.829082Z",
     "shell.execute_reply": "2025-08-05T20:56:32.827967Z"
    },
    "papermill": {
     "duration": 0.028906,
     "end_time": "2025-08-05T20:56:32.830982",
     "exception": false,
     "start_time": "2025-08-05T20:56:32.802076",
     "status": "completed"
    },
    "tags": []
   },
   "outputs": [],
   "source": [
    "# EXCLUDE PROTECTED FEATURES\n",
    "# ----------------------\n",
    "# \"exclude_features\": \"none\", # \"nationality\", \"sex\", \"nationality-sex\"\n",
    "\n",
    "excluded_features = universe[\"exclude_features\"].split(\"-\") # split, e.g.: \"nationality-sex\" -> [\"nationality\", \"sex\"]\n",
    "excluded_features_dictionary = {\n",
    "    \"nationality\": [\"maxdeutsch1\", \"maxdeutsch.Missing.\"],\n",
    "    \"sex\": [\"frau1\"],\n",
    "    \"age\": [\"age\"],\n",
    "}"
   ]
  },
  {
   "cell_type": "code",
   "execution_count": 20,
   "id": "b745ac60",
   "metadata": {
    "execution": {
     "iopub.execute_input": "2025-08-05T20:56:32.873399Z",
     "iopub.status.busy": "2025-08-05T20:56:32.872539Z",
     "iopub.status.idle": "2025-08-05T20:56:32.878495Z",
     "shell.execute_reply": "2025-08-05T20:56:32.877486Z"
    },
    "papermill": {
     "duration": 0.028968,
     "end_time": "2025-08-05T20:56:32.880291",
     "exception": false,
     "start_time": "2025-08-05T20:56:32.851323",
     "status": "completed"
    },
    "tags": []
   },
   "outputs": [],
   "source": [
    "# Code nice names to column names\n",
    "\n",
    "excluded_features_columns = [\n",
    "    excluded_features_dictionary[f] for f in excluded_features if len(f) > 0 and f != \"none\"\n",
    "]"
   ]
  },
  {
   "cell_type": "code",
   "execution_count": 21,
   "id": "f84f73a2",
   "metadata": {
    "execution": {
     "iopub.execute_input": "2025-08-05T20:56:32.921548Z",
     "iopub.status.busy": "2025-08-05T20:56:32.920884Z",
     "iopub.status.idle": "2025-08-05T20:56:32.927761Z",
     "shell.execute_reply": "2025-08-05T20:56:32.926670Z"
    },
    "papermill": {
     "duration": 0.029438,
     "end_time": "2025-08-05T20:56:32.929643",
     "exception": false,
     "start_time": "2025-08-05T20:56:32.900205",
     "status": "completed"
    },
    "tags": []
   },
   "outputs": [],
   "source": [
    "from utils import flatten_once\n",
    "\n",
    "excluded_features_columns = flatten_once(excluded_features_columns)"
   ]
  },
  {
   "cell_type": "code",
   "execution_count": 22,
   "id": "884dea22",
   "metadata": {
    "execution": {
     "iopub.execute_input": "2025-08-05T20:56:32.970658Z",
     "iopub.status.busy": "2025-08-05T20:56:32.969787Z",
     "iopub.status.idle": "2025-08-05T20:56:32.984597Z",
     "shell.execute_reply": "2025-08-05T20:56:32.983465Z"
    },
    "papermill": {
     "duration": 0.036578,
     "end_time": "2025-08-05T20:56:32.986567",
     "exception": false,
     "start_time": "2025-08-05T20:56:32.949989",
     "status": "completed"
    },
    "tags": []
   },
   "outputs": [
    {
     "name": "stdout",
     "output_type": "stream",
     "text": [
      "Dropping features: ['age']\n"
     ]
    }
   ],
   "source": [
    "if len(excluded_features_columns) > 0:\n",
    "    print(f\"Dropping features: {excluded_features_columns}\")\n",
    "    X_train.drop(excluded_features_columns, axis=1, inplace=True)"
   ]
  },
  {
   "cell_type": "code",
   "execution_count": 23,
   "id": "95ab8b16",
   "metadata": {
    "execution": {
     "iopub.execute_input": "2025-08-05T20:56:33.028715Z",
     "iopub.status.busy": "2025-08-05T20:56:33.028073Z",
     "iopub.status.idle": "2025-08-05T20:56:33.078791Z",
     "shell.execute_reply": "2025-08-05T20:56:33.077642Z"
    },
    "papermill": {
     "duration": 0.073361,
     "end_time": "2025-08-05T20:56:33.080949",
     "exception": false,
     "start_time": "2025-08-05T20:56:33.007588",
     "status": "completed"
    },
    "tags": []
   },
   "outputs": [
    {
     "name": "stdout",
     "output_type": "stream",
     "text": [
      "Dropping features: ['age']\n"
     ]
    }
   ],
   "source": [
    "if len(excluded_features_columns) > 0:\n",
    "    print(f\"Dropping features: {excluded_features_columns}\")\n",
    "    X_test.drop(excluded_features_columns, axis=1, inplace=True)"
   ]
  },
  {
   "cell_type": "code",
   "execution_count": 24,
   "id": "1853aaf5-fb9f-46cb-a2b5-8ea4ae2237e4",
   "metadata": {
    "execution": {
     "iopub.execute_input": "2025-08-05T20:56:33.124116Z",
     "iopub.status.busy": "2025-08-05T20:56:33.123477Z",
     "iopub.status.idle": "2025-08-05T20:56:33.175929Z",
     "shell.execute_reply": "2025-08-05T20:56:33.174789Z"
    },
    "papermill": {
     "duration": 0.075467,
     "end_time": "2025-08-05T20:56:33.177803",
     "exception": false,
     "start_time": "2025-08-05T20:56:33.102336",
     "status": "completed"
    },
    "tags": []
   },
   "outputs": [
    {
     "name": "stdout",
     "output_type": "stream",
     "text": [
      "Dropping features: ['age']\n"
     ]
    }
   ],
   "source": [
    "if len(excluded_features_columns) > 0:\n",
    "    print(f\"Dropping features: {excluded_features_columns}\")\n",
    "    X_calib.drop(excluded_features_columns, axis=1, inplace=True)"
   ]
  },
  {
   "cell_type": "code",
   "execution_count": 25,
   "id": "76c4dc6d",
   "metadata": {
    "execution": {
     "iopub.execute_input": "2025-08-05T20:56:33.213239Z",
     "iopub.status.busy": "2025-08-05T20:56:33.212442Z",
     "iopub.status.idle": "2025-08-05T20:56:33.218246Z",
     "shell.execute_reply": "2025-08-05T20:56:33.217163Z"
    },
    "papermill": {
     "duration": 0.024867,
     "end_time": "2025-08-05T20:56:33.219927",
     "exception": false,
     "start_time": "2025-08-05T20:56:33.195060",
     "status": "completed"
    },
    "tags": []
   },
   "outputs": [],
   "source": [
    "# EXCLUDE CERTAIN SUBGROUPS\n",
    "# ----------------------\n",
    "\n",
    "mode = universe.get(\"exclude_subgroups\", \"keep-all\") \n",
    "# Fetches the exclude_subgroups setting from the universe dict.\n",
    "# Defaults to \"keep-all\" if the key is missing."
   ]
  },
  {
   "cell_type": "code",
   "execution_count": 26,
   "id": "21994072",
   "metadata": {
    "execution": {
     "iopub.execute_input": "2025-08-05T20:56:33.255155Z",
     "iopub.status.busy": "2025-08-05T20:56:33.254398Z",
     "iopub.status.idle": "2025-08-05T20:56:33.261333Z",
     "shell.execute_reply": "2025-08-05T20:56:33.260349Z"
    },
    "papermill": {
     "duration": 0.02599,
     "end_time": "2025-08-05T20:56:33.262975",
     "exception": false,
     "start_time": "2025-08-05T20:56:33.236985",
     "status": "completed"
    },
    "tags": []
   },
   "outputs": [],
   "source": [
    "if mode == \"keep-all\":\n",
    "    keep_mask = pd.Series(True, index=org_train.index)\n",
    "\n",
    "# org_train contains the original feature columns from features_org (in Simson)\n",
    "# features_org contains unprocessed features, for me X_train at beginning ???\n",
    "# For keep-all, creates a boolean Series (keep_mask) of all True, so no rows are removed.\n",
    "\n",
    "elif mode == \"drop-non-german\":\n",
    "    keep_mask = org_train[\"maxdeutsch1\"] == 1 # ??? what about missing values?\n",
    "\n",
    "else:\n",
    "    raise ValueError(f\"Unsupported mode for exclude_subgroups: {mode}\")"
   ]
  },
  {
   "cell_type": "code",
   "execution_count": 27,
   "id": "71651440",
   "metadata": {
    "execution": {
     "iopub.execute_input": "2025-08-05T20:56:33.298514Z",
     "iopub.status.busy": "2025-08-05T20:56:33.297723Z",
     "iopub.status.idle": "2025-08-05T20:56:33.304801Z",
     "shell.execute_reply": "2025-08-05T20:56:33.303880Z"
    },
    "papermill": {
     "duration": 0.026399,
     "end_time": "2025-08-05T20:56:33.306566",
     "exception": false,
     "start_time": "2025-08-05T20:56:33.280167",
     "status": "completed"
    },
    "tags": []
   },
   "outputs": [],
   "source": [
    "n_drop = (~keep_mask).sum() # Calculates how many rows are set to be dropped\n",
    "if n_drop > 0:\n",
    "    pct = n_drop / len(keep_mask) * 100\n",
    "    print(f\"Dropping {n_drop} rows ({pct:.2f}%) where mode='{mode}'\")"
   ]
  },
  {
   "cell_type": "code",
   "execution_count": 28,
   "id": "5fb8eee5",
   "metadata": {
    "execution": {
     "iopub.execute_input": "2025-08-05T20:56:33.345223Z",
     "iopub.status.busy": "2025-08-05T20:56:33.344792Z",
     "iopub.status.idle": "2025-08-05T20:56:33.360253Z",
     "shell.execute_reply": "2025-08-05T20:56:33.359197Z"
    },
    "papermill": {
     "duration": 0.038182,
     "end_time": "2025-08-05T20:56:33.362031",
     "exception": false,
     "start_time": "2025-08-05T20:56:33.323849",
     "status": "completed"
    },
    "tags": []
   },
   "outputs": [],
   "source": [
    "X_train = X_train[keep_mask]"
   ]
  },
  {
   "cell_type": "code",
   "execution_count": 29,
   "id": "b202bb3a",
   "metadata": {
    "execution": {
     "iopub.execute_input": "2025-08-05T20:56:33.405979Z",
     "iopub.status.busy": "2025-08-05T20:56:33.405254Z",
     "iopub.status.idle": "2025-08-05T20:56:33.413142Z",
     "shell.execute_reply": "2025-08-05T20:56:33.412195Z"
    },
    "papermill": {
     "duration": 0.031509,
     "end_time": "2025-08-05T20:56:33.415133",
     "exception": false,
     "start_time": "2025-08-05T20:56:33.383624",
     "status": "completed"
    },
    "tags": []
   },
   "outputs": [],
   "source": [
    "y_train = y_train[keep_mask]"
   ]
  },
  {
   "cell_type": "markdown",
   "id": "493e2ac3",
   "metadata": {
    "papermill": {
     "duration": 0.021068,
     "end_time": "2025-08-05T20:56:33.457968",
     "exception": false,
     "start_time": "2025-08-05T20:56:33.436900",
     "status": "completed"
    },
    "tags": []
   },
   "source": [
    "# Model Training"
   ]
  },
  {
   "cell_type": "code",
   "execution_count": 30,
   "id": "679e1268",
   "metadata": {
    "execution": {
     "iopub.execute_input": "2025-08-05T20:56:33.500216Z",
     "iopub.status.busy": "2025-08-05T20:56:33.499548Z",
     "iopub.status.idle": "2025-08-05T20:56:33.604446Z",
     "shell.execute_reply": "2025-08-05T20:56:33.603516Z"
    },
    "papermill": {
     "duration": 0.128514,
     "end_time": "2025-08-05T20:56:33.606427",
     "exception": false,
     "start_time": "2025-08-05T20:56:33.477913",
     "status": "completed"
    },
    "tags": []
   },
   "outputs": [],
   "source": [
    "from sklearn.linear_model import LogisticRegression\n",
    "from sklearn.ensemble import GradientBoostingClassifier, RandomForestClassifier\n",
    "\n",
    "if (universe[\"model\"] == \"logreg\"):\n",
    "    model = LogisticRegression() #penalty=\"none\", solver=\"newton-cg\", max_iter=1) # include random_state=19 ?\n",
    "elif (universe[\"model\"] == \"penalized_logreg\"):\n",
    "    model = LogisticRegression(penalty=\"l2\", C=0.1) #, solver=\"newton-cg\", max_iter=1)\n",
    "elif (universe[\"model\"] == \"rf\"):\n",
    "    model = RandomForestClassifier() # n_estimators=100, n_jobs=-1\n",
    "elif (universe[\"model\"] == \"gbm\"):\n",
    "    model = GradientBoostingClassifier()\n",
    "elif (universe[\"model\"] == \"elasticnet\"):\n",
    "    model = LogisticRegression(penalty = 'elasticnet', solver = 'saga', l1_ratio = 0.5) # max_iter=5000\n",
    "else:\n",
    "    raise \"Unsupported universe.model\""
   ]
  },
  {
   "cell_type": "code",
   "execution_count": 31,
   "id": "0cc8f744",
   "metadata": {
    "execution": {
     "iopub.execute_input": "2025-08-05T20:56:33.649734Z",
     "iopub.status.busy": "2025-08-05T20:56:33.648808Z",
     "iopub.status.idle": "2025-08-05T20:56:33.655149Z",
     "shell.execute_reply": "2025-08-05T20:56:33.654227Z"
    },
    "papermill": {
     "duration": 0.028743,
     "end_time": "2025-08-05T20:56:33.656689",
     "exception": false,
     "start_time": "2025-08-05T20:56:33.627946",
     "status": "completed"
    },
    "tags": []
   },
   "outputs": [],
   "source": [
    "import numpy as np\n",
    "from sklearn.pipeline import Pipeline\n",
    "from sklearn.preprocessing import StandardScaler\n",
    "\n",
    "model = Pipeline([\n",
    "    #(\"continuous_processor\", continuous_processor),\n",
    "    #(\"categorical_preprocessor\", categorical_preprocessor),\n",
    "    (\"scale\", StandardScaler() if universe[\"scale\"] == \"scale\" else None), \n",
    "    (\"model\", model),\n",
    "])"
   ]
  },
  {
   "cell_type": "code",
   "execution_count": 32,
   "id": "9442c04d",
   "metadata": {
    "execution": {
     "iopub.execute_input": "2025-08-05T20:56:33.700874Z",
     "iopub.status.busy": "2025-08-05T20:56:33.700230Z",
     "iopub.status.idle": "2025-08-05T20:56:42.622094Z",
     "shell.execute_reply": "2025-08-05T20:56:42.621380Z"
    },
    "papermill": {
     "duration": 8.945298,
     "end_time": "2025-08-05T20:56:42.623304",
     "exception": false,
     "start_time": "2025-08-05T20:56:33.678006",
     "status": "completed"
    },
    "tags": []
   },
   "outputs": [
    {
     "name": "stderr",
     "output_type": "stream",
     "text": [
      "/dss/dsshome1/0C/ra93lal2/.local/share/virtualenvs/CMA_Fairness_v2-3j10GkSs/lib/python3.10/site-packages/sklearn/linear_model/_sag.py:350: ConvergenceWarning: The max_iter was reached which means the coef_ did not converge\n",
      "  warnings.warn(\n"
     ]
    },
    {
     "data": {
      "text/html": [
       "<style>#sk-container-id-1 {color: black;background-color: white;}#sk-container-id-1 pre{padding: 0;}#sk-container-id-1 div.sk-toggleable {background-color: white;}#sk-container-id-1 label.sk-toggleable__label {cursor: pointer;display: block;width: 100%;margin-bottom: 0;padding: 0.3em;box-sizing: border-box;text-align: center;}#sk-container-id-1 label.sk-toggleable__label-arrow:before {content: \"▸\";float: left;margin-right: 0.25em;color: #696969;}#sk-container-id-1 label.sk-toggleable__label-arrow:hover:before {color: black;}#sk-container-id-1 div.sk-estimator:hover label.sk-toggleable__label-arrow:before {color: black;}#sk-container-id-1 div.sk-toggleable__content {max-height: 0;max-width: 0;overflow: hidden;text-align: left;background-color: #f0f8ff;}#sk-container-id-1 div.sk-toggleable__content pre {margin: 0.2em;color: black;border-radius: 0.25em;background-color: #f0f8ff;}#sk-container-id-1 input.sk-toggleable__control:checked~div.sk-toggleable__content {max-height: 200px;max-width: 100%;overflow: auto;}#sk-container-id-1 input.sk-toggleable__control:checked~label.sk-toggleable__label-arrow:before {content: \"▾\";}#sk-container-id-1 div.sk-estimator input.sk-toggleable__control:checked~label.sk-toggleable__label {background-color: #d4ebff;}#sk-container-id-1 div.sk-label input.sk-toggleable__control:checked~label.sk-toggleable__label {background-color: #d4ebff;}#sk-container-id-1 input.sk-hidden--visually {border: 0;clip: rect(1px 1px 1px 1px);clip: rect(1px, 1px, 1px, 1px);height: 1px;margin: -1px;overflow: hidden;padding: 0;position: absolute;width: 1px;}#sk-container-id-1 div.sk-estimator {font-family: monospace;background-color: #f0f8ff;border: 1px dotted black;border-radius: 0.25em;box-sizing: border-box;margin-bottom: 0.5em;}#sk-container-id-1 div.sk-estimator:hover {background-color: #d4ebff;}#sk-container-id-1 div.sk-parallel-item::after {content: \"\";width: 100%;border-bottom: 1px solid gray;flex-grow: 1;}#sk-container-id-1 div.sk-label:hover label.sk-toggleable__label {background-color: #d4ebff;}#sk-container-id-1 div.sk-serial::before {content: \"\";position: absolute;border-left: 1px solid gray;box-sizing: border-box;top: 0;bottom: 0;left: 50%;z-index: 0;}#sk-container-id-1 div.sk-serial {display: flex;flex-direction: column;align-items: center;background-color: white;padding-right: 0.2em;padding-left: 0.2em;position: relative;}#sk-container-id-1 div.sk-item {position: relative;z-index: 1;}#sk-container-id-1 div.sk-parallel {display: flex;align-items: stretch;justify-content: center;background-color: white;position: relative;}#sk-container-id-1 div.sk-item::before, #sk-container-id-1 div.sk-parallel-item::before {content: \"\";position: absolute;border-left: 1px solid gray;box-sizing: border-box;top: 0;bottom: 0;left: 50%;z-index: -1;}#sk-container-id-1 div.sk-parallel-item {display: flex;flex-direction: column;z-index: 1;position: relative;background-color: white;}#sk-container-id-1 div.sk-parallel-item:first-child::after {align-self: flex-end;width: 50%;}#sk-container-id-1 div.sk-parallel-item:last-child::after {align-self: flex-start;width: 50%;}#sk-container-id-1 div.sk-parallel-item:only-child::after {width: 0;}#sk-container-id-1 div.sk-dashed-wrapped {border: 1px dashed gray;margin: 0 0.4em 0.5em 0.4em;box-sizing: border-box;padding-bottom: 0.4em;background-color: white;}#sk-container-id-1 div.sk-label label {font-family: monospace;font-weight: bold;display: inline-block;line-height: 1.2em;}#sk-container-id-1 div.sk-label-container {text-align: center;}#sk-container-id-1 div.sk-container {/* jupyter's `normalize.less` sets `[hidden] { display: none; }` but bootstrap.min.css set `[hidden] { display: none !important; }` so we also need the `!important` here to be able to override the default hidden behavior on the sphinx rendered scikit-learn.org. See: https://github.com/scikit-learn/scikit-learn/issues/21755 */display: inline-block !important;position: relative;}#sk-container-id-1 div.sk-text-repr-fallback {display: none;}</style><div id=\"sk-container-id-1\" class=\"sk-top-container\"><div class=\"sk-text-repr-fallback\"><pre>Pipeline(steps=[(&#x27;scale&#x27;, StandardScaler()),\n",
       "                (&#x27;model&#x27;,\n",
       "                 LogisticRegression(l1_ratio=0.5, penalty=&#x27;elasticnet&#x27;,\n",
       "                                    solver=&#x27;saga&#x27;))])</pre><b>In a Jupyter environment, please rerun this cell to show the HTML representation or trust the notebook. <br />On GitHub, the HTML representation is unable to render, please try loading this page with nbviewer.org.</b></div><div class=\"sk-container\" hidden><div class=\"sk-item sk-dashed-wrapped\"><div class=\"sk-label-container\"><div class=\"sk-label sk-toggleable\"><input class=\"sk-toggleable__control sk-hidden--visually\" id=\"sk-estimator-id-1\" type=\"checkbox\" ><label for=\"sk-estimator-id-1\" class=\"sk-toggleable__label sk-toggleable__label-arrow\">Pipeline</label><div class=\"sk-toggleable__content\"><pre>Pipeline(steps=[(&#x27;scale&#x27;, StandardScaler()),\n",
       "                (&#x27;model&#x27;,\n",
       "                 LogisticRegression(l1_ratio=0.5, penalty=&#x27;elasticnet&#x27;,\n",
       "                                    solver=&#x27;saga&#x27;))])</pre></div></div></div><div class=\"sk-serial\"><div class=\"sk-item\"><div class=\"sk-estimator sk-toggleable\"><input class=\"sk-toggleable__control sk-hidden--visually\" id=\"sk-estimator-id-2\" type=\"checkbox\" ><label for=\"sk-estimator-id-2\" class=\"sk-toggleable__label sk-toggleable__label-arrow\">StandardScaler</label><div class=\"sk-toggleable__content\"><pre>StandardScaler()</pre></div></div></div><div class=\"sk-item\"><div class=\"sk-estimator sk-toggleable\"><input class=\"sk-toggleable__control sk-hidden--visually\" id=\"sk-estimator-id-3\" type=\"checkbox\" ><label for=\"sk-estimator-id-3\" class=\"sk-toggleable__label sk-toggleable__label-arrow\">LogisticRegression</label><div class=\"sk-toggleable__content\"><pre>LogisticRegression(l1_ratio=0.5, penalty=&#x27;elasticnet&#x27;, solver=&#x27;saga&#x27;)</pre></div></div></div></div></div></div></div>"
      ],
      "text/plain": [
       "Pipeline(steps=[('scale', StandardScaler()),\n",
       "                ('model',\n",
       "                 LogisticRegression(l1_ratio=0.5, penalty='elasticnet',\n",
       "                                    solver='saga'))])"
      ]
     },
     "execution_count": 32,
     "metadata": {},
     "output_type": "execute_result"
    }
   ],
   "source": [
    "model.fit(X_train, y_train.values.ravel())"
   ]
  },
  {
   "cell_type": "code",
   "execution_count": 33,
   "id": "af59f8c0",
   "metadata": {
    "execution": {
     "iopub.execute_input": "2025-08-05T20:56:42.650146Z",
     "iopub.status.busy": "2025-08-05T20:56:42.649500Z",
     "iopub.status.idle": "2025-08-05T20:56:42.654383Z",
     "shell.execute_reply": "2025-08-05T20:56:42.653561Z"
    },
    "papermill": {
     "duration": 0.01807,
     "end_time": "2025-08-05T20:56:42.655693",
     "exception": false,
     "start_time": "2025-08-05T20:56:42.637623",
     "status": "completed"
    },
    "tags": []
   },
   "outputs": [],
   "source": [
    "from fairness_multiverse.universe import predict_w_threshold"
   ]
  },
  {
   "cell_type": "code",
   "execution_count": 34,
   "id": "a7cf2e16",
   "metadata": {
    "execution": {
     "iopub.execute_input": "2025-08-05T20:56:42.678855Z",
     "iopub.status.busy": "2025-08-05T20:56:42.678353Z",
     "iopub.status.idle": "2025-08-05T20:56:42.858715Z",
     "shell.execute_reply": "2025-08-05T20:56:42.858036Z"
    },
    "papermill": {
     "duration": 0.192493,
     "end_time": "2025-08-05T20:56:42.859917",
     "exception": false,
     "start_time": "2025-08-05T20:56:42.667424",
     "status": "completed"
    },
    "tags": []
   },
   "outputs": [
    {
     "data": {
      "text/plain": [
       "0.8608293389811615"
      ]
     },
     "execution_count": 34,
     "metadata": {},
     "output_type": "execute_result"
    }
   ],
   "source": [
    "probs_test = model.predict_proba(X_test)\n",
    "\n",
    "'''\n",
    "Below code returns a boolean array (or binary 0/1 array depending on how it’s used) where each element \n",
    "is True if the probability of class 1 is greater than or equal to the threshold, and False otherwise.\n",
    "'''\n",
    "y_pred_default = predict_w_threshold(probs_test, 0.5)\n",
    "\n",
    "from sklearn.metrics import accuracy_score\n",
    "\n",
    "# Naive prediction\n",
    "accuracy_score(y_true = y_true, y_pred = y_pred_default)"
   ]
  },
  {
   "cell_type": "code",
   "execution_count": 35,
   "id": "081964c3",
   "metadata": {
    "execution": {
     "iopub.execute_input": "2025-08-05T20:56:42.885709Z",
     "iopub.status.busy": "2025-08-05T20:56:42.885342Z",
     "iopub.status.idle": "2025-08-05T20:56:43.064912Z",
     "shell.execute_reply": "2025-08-05T20:56:43.064209Z"
    },
    "papermill": {
     "duration": 0.193712,
     "end_time": "2025-08-05T20:56:43.066179",
     "exception": false,
     "start_time": "2025-08-05T20:56:42.872467",
     "status": "completed"
    },
    "tags": []
   },
   "outputs": [
    {
     "data": {
      "text/plain": [
       "array([0, 0, 0, ..., 0, 0, 0])"
      ]
     },
     "execution_count": 35,
     "metadata": {},
     "output_type": "execute_result"
    }
   ],
   "source": [
    "model.predict(X_test)"
   ]
  },
  {
   "cell_type": "markdown",
   "id": "56c9705b",
   "metadata": {
    "papermill": {
     "duration": 0.012314,
     "end_time": "2025-08-05T20:56:43.089052",
     "exception": false,
     "start_time": "2025-08-05T20:56:43.076738",
     "status": "completed"
    },
    "tags": []
   },
   "source": [
    "# Conformal Prediction"
   ]
  },
  {
   "cell_type": "code",
   "execution_count": 36,
   "id": "160ec6ff",
   "metadata": {
    "execution": {
     "iopub.execute_input": "2025-08-05T20:56:43.118638Z",
     "iopub.status.busy": "2025-08-05T20:56:43.118286Z",
     "iopub.status.idle": "2025-08-05T20:56:43.122686Z",
     "shell.execute_reply": "2025-08-05T20:56:43.122009Z"
    },
    "papermill": {
     "duration": 0.017971,
     "end_time": "2025-08-05T20:56:43.123948",
     "exception": false,
     "start_time": "2025-08-05T20:56:43.105977",
     "status": "completed"
    },
    "tags": []
   },
   "outputs": [],
   "source": [
    "# Miscoverage level for conformal prediction (10% allowed error rate => 90% target coverage)\n",
    "alpha = 0.1"
   ]
  },
  {
   "cell_type": "code",
   "execution_count": 37,
   "id": "eadf4555-3dd3-440e-8e35-f82a4ad9f855",
   "metadata": {
    "execution": {
     "iopub.execute_input": "2025-08-05T20:56:43.153228Z",
     "iopub.status.busy": "2025-08-05T20:56:43.152478Z",
     "iopub.status.idle": "2025-08-05T20:56:43.332509Z",
     "shell.execute_reply": "2025-08-05T20:56:43.331042Z"
    },
    "papermill": {
     "duration": 0.199121,
     "end_time": "2025-08-05T20:56:43.334983",
     "exception": false,
     "start_time": "2025-08-05T20:56:43.135862",
     "status": "completed"
    },
    "tags": []
   },
   "outputs": [],
   "source": [
    "probs_calib = model.predict_proba(X_calib)"
   ]
  },
  {
   "cell_type": "code",
   "execution_count": 38,
   "id": "2ed93547-6d5d-4983-9b36-1ecb300da49a",
   "metadata": {
    "execution": {
     "iopub.execute_input": "2025-08-05T20:56:43.389266Z",
     "iopub.status.busy": "2025-08-05T20:56:43.388711Z",
     "iopub.status.idle": "2025-08-05T20:56:43.394580Z",
     "shell.execute_reply": "2025-08-05T20:56:43.393587Z"
    },
    "papermill": {
     "duration": 0.035199,
     "end_time": "2025-08-05T20:56:43.396602",
     "exception": false,
     "start_time": "2025-08-05T20:56:43.361403",
     "status": "completed"
    },
    "tags": []
   },
   "outputs": [],
   "source": [
    "y_calib = y_calib.values.ravel().astype(int)"
   ]
  },
  {
   "cell_type": "code",
   "execution_count": 39,
   "id": "65d1320d-f588-4b38-9072-62af1ae97f7d",
   "metadata": {
    "execution": {
     "iopub.execute_input": "2025-08-05T20:56:43.431806Z",
     "iopub.status.busy": "2025-08-05T20:56:43.431365Z",
     "iopub.status.idle": "2025-08-05T20:56:43.437748Z",
     "shell.execute_reply": "2025-08-05T20:56:43.436441Z"
    },
    "papermill": {
     "duration": 0.020878,
     "end_time": "2025-08-05T20:56:43.439228",
     "exception": false,
     "start_time": "2025-08-05T20:56:43.418350",
     "status": "completed"
    },
    "tags": []
   },
   "outputs": [],
   "source": [
    "from fairness_multiverse.conformal import compute_nc_scores\n",
    "\n",
    "# Compute nonconformity scores on calibration set (1 - probability of true class)\n",
    "nc_scores = compute_nc_scores(probs_calib, y_calib)"
   ]
  },
  {
   "cell_type": "code",
   "execution_count": 40,
   "id": "df3b8ca3-53b7-43d5-9667-7c85da7aeda2",
   "metadata": {
    "execution": {
     "iopub.execute_input": "2025-08-05T20:56:43.462366Z",
     "iopub.status.busy": "2025-08-05T20:56:43.461670Z",
     "iopub.status.idle": "2025-08-05T20:56:43.468147Z",
     "shell.execute_reply": "2025-08-05T20:56:43.466977Z"
    },
    "papermill": {
     "duration": 0.020269,
     "end_time": "2025-08-05T20:56:43.470828",
     "exception": false,
     "start_time": "2025-08-05T20:56:43.450559",
     "status": "completed"
    },
    "tags": []
   },
   "outputs": [],
   "source": [
    "from fairness_multiverse.conformal import find_threshold\n",
    "\n",
    "# Find conformal threshold q_hat for the given alpha (split conformal method)\n",
    "q_hat = find_threshold(nc_scores, alpha)"
   ]
  },
  {
   "cell_type": "code",
   "execution_count": 41,
   "id": "4d29e6c1-0ef6-4aa4-b8fe-4fe79b0d033a",
   "metadata": {
    "execution": {
     "iopub.execute_input": "2025-08-05T20:56:43.515446Z",
     "iopub.status.busy": "2025-08-05T20:56:43.514725Z",
     "iopub.status.idle": "2025-08-05T20:56:43.521722Z",
     "shell.execute_reply": "2025-08-05T20:56:43.520812Z"
    },
    "papermill": {
     "duration": 0.031437,
     "end_time": "2025-08-05T20:56:43.523278",
     "exception": false,
     "start_time": "2025-08-05T20:56:43.491841",
     "status": "completed"
    },
    "tags": []
   },
   "outputs": [
    {
     "data": {
      "text/plain": [
       "0.6675367434077553"
      ]
     },
     "execution_count": 41,
     "metadata": {},
     "output_type": "execute_result"
    }
   ],
   "source": [
    "q_hat"
   ]
  },
  {
   "cell_type": "code",
   "execution_count": 42,
   "id": "92460794-cdac-4be2-ba28-f28c0515a6fb",
   "metadata": {
    "execution": {
     "iopub.execute_input": "2025-08-05T20:56:43.556441Z",
     "iopub.status.busy": "2025-08-05T20:56:43.555929Z",
     "iopub.status.idle": "2025-08-05T20:56:44.809706Z",
     "shell.execute_reply": "2025-08-05T20:56:44.808895Z"
    },
    "papermill": {
     "duration": 1.275544,
     "end_time": "2025-08-05T20:56:44.811175",
     "exception": false,
     "start_time": "2025-08-05T20:56:43.535631",
     "status": "completed"
    },
    "tags": []
   },
   "outputs": [],
   "source": [
    "from fairness_multiverse.conformal import predict_conformal_sets\n",
    "\n",
    "# Generate prediction sets for each test example\n",
    "pred_sets = predict_conformal_sets(model, X_test, q_hat)"
   ]
  },
  {
   "cell_type": "code",
   "execution_count": 43,
   "id": "d90c9a65-e6db-4f5d-80cd-e68fb7e46829",
   "metadata": {
    "execution": {
     "iopub.execute_input": "2025-08-05T20:56:44.841728Z",
     "iopub.status.busy": "2025-08-05T20:56:44.840829Z",
     "iopub.status.idle": "2025-08-05T20:56:44.845940Z",
     "shell.execute_reply": "2025-08-05T20:56:44.845135Z"
    },
    "papermill": {
     "duration": 0.022879,
     "end_time": "2025-08-05T20:56:44.847270",
     "exception": false,
     "start_time": "2025-08-05T20:56:44.824391",
     "status": "completed"
    },
    "tags": []
   },
   "outputs": [],
   "source": [
    "y_true = y_true.squeeze()"
   ]
  },
  {
   "cell_type": "code",
   "execution_count": 44,
   "id": "3a58a54a-1e68-46b9-927a-df01f18aebc8",
   "metadata": {
    "execution": {
     "iopub.execute_input": "2025-08-05T20:56:44.870896Z",
     "iopub.status.busy": "2025-08-05T20:56:44.870366Z",
     "iopub.status.idle": "2025-08-05T20:56:45.829069Z",
     "shell.execute_reply": "2025-08-05T20:56:45.828227Z"
    },
    "papermill": {
     "duration": 0.972557,
     "end_time": "2025-08-05T20:56:45.830488",
     "exception": false,
     "start_time": "2025-08-05T20:56:44.857931",
     "status": "completed"
    },
    "tags": []
   },
   "outputs": [],
   "source": [
    "from fairness_multiverse.conformal import evaluate_sets\n",
    "\n",
    "# Evaluate coverage and average set size on test data\n",
    "metrics = evaluate_sets(pred_sets, y_true)"
   ]
  },
  {
   "cell_type": "markdown",
   "id": "2b569c12-9aaa-4c88-98c9-bbcd0cf3ebb8",
   "metadata": {
    "papermill": {
     "duration": 0.010359,
     "end_time": "2025-08-05T20:56:45.854550",
     "exception": false,
     "start_time": "2025-08-05T20:56:45.844191",
     "status": "completed"
    },
    "tags": []
   },
   "source": [
    "# CP Metrics"
   ]
  },
  {
   "cell_type": "code",
   "execution_count": 45,
   "id": "5ce0a5cb-201f-45a0-ade5-94c7f0bd6095",
   "metadata": {
    "execution": {
     "iopub.execute_input": "2025-08-05T20:56:45.876689Z",
     "iopub.status.busy": "2025-08-05T20:56:45.876033Z",
     "iopub.status.idle": "2025-08-05T20:56:45.882233Z",
     "shell.execute_reply": "2025-08-05T20:56:45.881363Z"
    },
    "papermill": {
     "duration": 0.01909,
     "end_time": "2025-08-05T20:56:45.883760",
     "exception": false,
     "start_time": "2025-08-05T20:56:45.864670",
     "status": "completed"
    },
    "tags": []
   },
   "outputs": [
    {
     "data": {
      "text/plain": [
       "{'coverage': 0.9110578530821536, 'avg_size': 1.1265076357150818}"
      ]
     },
     "execution_count": 45,
     "metadata": {},
     "output_type": "execute_result"
    }
   ],
   "source": [
    "metrics"
   ]
  },
  {
   "cell_type": "code",
   "execution_count": 46,
   "id": "9b9a838d-31c9-430b-ae14-12baee460d17",
   "metadata": {
    "execution": {
     "iopub.execute_input": "2025-08-05T20:56:45.906623Z",
     "iopub.status.busy": "2025-08-05T20:56:45.906280Z",
     "iopub.status.idle": "2025-08-05T20:56:45.911394Z",
     "shell.execute_reply": "2025-08-05T20:56:45.910551Z"
    },
    "papermill": {
     "duration": 0.017554,
     "end_time": "2025-08-05T20:56:45.912748",
     "exception": false,
     "start_time": "2025-08-05T20:56:45.895194",
     "status": "completed"
    },
    "tags": []
   },
   "outputs": [],
   "source": [
    "example_universe = universe.copy()\n",
    "universe_training_year = example_universe.get(\"training_year\")\n",
    "universe_training_size = example_universe.get(\"training_size\")\n",
    "universe_scale = example_universe.get(\"scale\")\n",
    "universe_model = example_universe.get(\"model\")\n",
    "universe_exclude_features = example_universe.get(\"exclude_features\")\n",
    "universe_exclude_subgroups = example_universe.get(\"exclude_subgroups\")"
   ]
  },
  {
   "cell_type": "code",
   "execution_count": 47,
   "id": "f4b6a8ac-9dc0-4245-8a91-5b3b5999c4f9",
   "metadata": {
    "execution": {
     "iopub.execute_input": "2025-08-05T20:56:45.935866Z",
     "iopub.status.busy": "2025-08-05T20:56:45.935364Z",
     "iopub.status.idle": "2025-08-05T20:56:45.940468Z",
     "shell.execute_reply": "2025-08-05T20:56:45.939649Z"
    },
    "papermill": {
     "duration": 0.017744,
     "end_time": "2025-08-05T20:56:45.941908",
     "exception": false,
     "start_time": "2025-08-05T20:56:45.924164",
     "status": "completed"
    },
    "tags": []
   },
   "outputs": [],
   "source": [
    "cp_metrics_dict = {\n",
    "    \"universe_id\": [universe_id],\n",
    "    \"universe_training_year\": [universe_training_year],\n",
    "    \"universe_training_size\": [universe_training_size],\n",
    "    \"universe_scale\": [universe_scale],\n",
    "    \"universe_model\": [universe_model],\n",
    "    \"universe_exclude_features\": [universe_exclude_features],\n",
    "    \"universe_exclude_subgroups\": [universe_exclude_subgroups],\n",
    "    \"q_hat\": [q_hat],\n",
    "    \"coverage\": [metrics[\"coverage\"]],\n",
    "    \"avg_size\": [metrics[\"avg_size\"]],\n",
    "}"
   ]
  },
  {
   "cell_type": "code",
   "execution_count": 48,
   "id": "908acbb1-0371-4915-85ca-3fa520d2efe2",
   "metadata": {
    "execution": {
     "iopub.execute_input": "2025-08-05T20:56:45.964915Z",
     "iopub.status.busy": "2025-08-05T20:56:45.964417Z",
     "iopub.status.idle": "2025-08-05T20:56:45.970693Z",
     "shell.execute_reply": "2025-08-05T20:56:45.969831Z"
    },
    "papermill": {
     "duration": 0.018832,
     "end_time": "2025-08-05T20:56:45.972199",
     "exception": false,
     "start_time": "2025-08-05T20:56:45.953367",
     "status": "completed"
    },
    "tags": []
   },
   "outputs": [
    {
     "data": {
      "text/plain": [
       "{'universe_id': ['21a2f5291dda0cc252f01748b57b0638'],\n",
       " 'universe_training_year': ['2012_14'],\n",
       " 'universe_training_size': ['25k'],\n",
       " 'universe_scale': ['scale'],\n",
       " 'universe_model': ['elasticnet'],\n",
       " 'universe_exclude_features': ['age'],\n",
       " 'universe_exclude_subgroups': ['keep-all'],\n",
       " 'q_hat': [0.6675367434077553],\n",
       " 'coverage': [0.9110578530821536],\n",
       " 'avg_size': [1.1265076357150818]}"
      ]
     },
     "execution_count": 48,
     "metadata": {},
     "output_type": "execute_result"
    }
   ],
   "source": [
    "cp_metrics_dict"
   ]
  },
  {
   "cell_type": "code",
   "execution_count": 49,
   "id": "33007efc-14e9-4ec6-97ac-56a455c82265",
   "metadata": {
    "execution": {
     "iopub.execute_input": "2025-08-05T20:56:45.995350Z",
     "iopub.status.busy": "2025-08-05T20:56:45.994847Z",
     "iopub.status.idle": "2025-08-05T20:56:45.999458Z",
     "shell.execute_reply": "2025-08-05T20:56:45.998699Z"
    },
    "papermill": {
     "duration": 0.017329,
     "end_time": "2025-08-05T20:56:46.000864",
     "exception": false,
     "start_time": "2025-08-05T20:56:45.983535",
     "status": "completed"
    },
    "tags": []
   },
   "outputs": [],
   "source": [
    "cp_metrics_df = pd.DataFrame(cp_metrics_dict)"
   ]
  },
  {
   "cell_type": "code",
   "execution_count": 50,
   "id": "db12611b-57b2-4910-b9d0-355adfd6e7bf",
   "metadata": {
    "execution": {
     "iopub.execute_input": "2025-08-05T20:56:46.024812Z",
     "iopub.status.busy": "2025-08-05T20:56:46.024298Z",
     "iopub.status.idle": "2025-08-05T20:56:46.038281Z",
     "shell.execute_reply": "2025-08-05T20:56:46.037424Z"
    },
    "papermill": {
     "duration": 0.026892,
     "end_time": "2025-08-05T20:56:46.039673",
     "exception": false,
     "start_time": "2025-08-05T20:56:46.012781",
     "status": "completed"
    },
    "tags": []
   },
   "outputs": [
    {
     "data": {
      "text/html": [
       "<div>\n",
       "<style scoped>\n",
       "    .dataframe tbody tr th:only-of-type {\n",
       "        vertical-align: middle;\n",
       "    }\n",
       "\n",
       "    .dataframe tbody tr th {\n",
       "        vertical-align: top;\n",
       "    }\n",
       "\n",
       "    .dataframe thead th {\n",
       "        text-align: right;\n",
       "    }\n",
       "</style>\n",
       "<table border=\"1\" class=\"dataframe\">\n",
       "  <thead>\n",
       "    <tr style=\"text-align: right;\">\n",
       "      <th></th>\n",
       "      <th>universe_id</th>\n",
       "      <th>universe_training_year</th>\n",
       "      <th>universe_training_size</th>\n",
       "      <th>universe_scale</th>\n",
       "      <th>universe_model</th>\n",
       "      <th>universe_exclude_features</th>\n",
       "      <th>universe_exclude_subgroups</th>\n",
       "      <th>q_hat</th>\n",
       "      <th>coverage</th>\n",
       "      <th>avg_size</th>\n",
       "    </tr>\n",
       "  </thead>\n",
       "  <tbody>\n",
       "    <tr>\n",
       "      <th>0</th>\n",
       "      <td>21a2f5291dda0cc252f01748b57b0638</td>\n",
       "      <td>2012_14</td>\n",
       "      <td>25k</td>\n",
       "      <td>scale</td>\n",
       "      <td>elasticnet</td>\n",
       "      <td>age</td>\n",
       "      <td>keep-all</td>\n",
       "      <td>0.667537</td>\n",
       "      <td>0.911058</td>\n",
       "      <td>1.126508</td>\n",
       "    </tr>\n",
       "  </tbody>\n",
       "</table>\n",
       "</div>"
      ],
      "text/plain": [
       "                        universe_id universe_training_year  \\\n",
       "0  21a2f5291dda0cc252f01748b57b0638                2012_14   \n",
       "\n",
       "  universe_training_size universe_scale universe_model  \\\n",
       "0                    25k          scale     elasticnet   \n",
       "\n",
       "  universe_exclude_features universe_exclude_subgroups     q_hat  coverage  \\\n",
       "0                       age                   keep-all  0.667537  0.911058   \n",
       "\n",
       "   avg_size  \n",
       "0  1.126508  "
      ]
     },
     "execution_count": 50,
     "metadata": {},
     "output_type": "execute_result"
    }
   ],
   "source": [
    "cp_metrics_df"
   ]
  },
  {
   "cell_type": "code",
   "execution_count": 51,
   "id": "b7fbde55-a0a1-47e4-9af6-fe4a17fa8c61",
   "metadata": {
    "execution": {
     "iopub.execute_input": "2025-08-05T20:56:46.063202Z",
     "iopub.status.busy": "2025-08-05T20:56:46.062655Z",
     "iopub.status.idle": "2025-08-05T20:56:46.066991Z",
     "shell.execute_reply": "2025-08-05T20:56:46.066270Z"
    },
    "papermill": {
     "duration": 0.017233,
     "end_time": "2025-08-05T20:56:46.068410",
     "exception": false,
     "start_time": "2025-08-05T20:56:46.051177",
     "status": "completed"
    },
    "tags": []
   },
   "outputs": [],
   "source": [
    "# Conditional Coverage & looking at subgroups"
   ]
  },
  {
   "cell_type": "code",
   "execution_count": 52,
   "id": "027ae886-68dd-4141-96c7-805a5450e1ef",
   "metadata": {
    "execution": {
     "iopub.execute_input": "2025-08-05T20:56:46.092346Z",
     "iopub.status.busy": "2025-08-05T20:56:46.091848Z",
     "iopub.status.idle": "2025-08-05T20:56:46.257213Z",
     "shell.execute_reply": "2025-08-05T20:56:46.256396Z"
    },
    "papermill": {
     "duration": 0.178517,
     "end_time": "2025-08-05T20:56:46.258795",
     "exception": false,
     "start_time": "2025-08-05T20:56:46.080278",
     "status": "completed"
    },
    "tags": []
   },
   "outputs": [],
   "source": [
    "from fairness_multiverse.conformal import build_cp_groups\n",
    "\n",
    "cp_groups_df = build_cp_groups(pred_sets, y_true, X_test.index, org_test)\n",
    "#needs universe_id and setting"
   ]
  },
  {
   "cell_type": "code",
   "execution_count": 53,
   "id": "6cbdab96-b2b2-45af-ad54-d0516db2e28d",
   "metadata": {
    "execution": {
     "iopub.execute_input": "2025-08-05T20:56:46.282331Z",
     "iopub.status.busy": "2025-08-05T20:56:46.282029Z",
     "iopub.status.idle": "2025-08-05T20:56:47.710529Z",
     "shell.execute_reply": "2025-08-05T20:56:47.709571Z"
    },
    "papermill": {
     "duration": 1.441919,
     "end_time": "2025-08-05T20:56:47.712309",
     "exception": false,
     "start_time": "2025-08-05T20:56:46.270390",
     "status": "completed"
    },
    "tags": []
   },
   "outputs": [],
   "source": [
    "# Define covered = 1 if true_label is in the predicted set\n",
    "cp_groups_df['covered'] = cp_groups_df.apply(\n",
    "    lambda r: int(r['true_label'] in r['pred_set']),\n",
    "    axis=1\n",
    ")"
   ]
  },
  {
   "cell_type": "code",
   "execution_count": 54,
   "id": "338ff529-1a6b-4b87-a931-8e4788d52aad",
   "metadata": {
    "execution": {
     "iopub.execute_input": "2025-08-05T20:56:47.754697Z",
     "iopub.status.busy": "2025-08-05T20:56:47.754018Z",
     "iopub.status.idle": "2025-08-05T20:56:47.758913Z",
     "shell.execute_reply": "2025-08-05T20:56:47.757780Z"
    },
    "papermill": {
     "duration": 0.027673,
     "end_time": "2025-08-05T20:56:47.760523",
     "exception": false,
     "start_time": "2025-08-05T20:56:47.732850",
     "status": "completed"
    },
    "tags": []
   },
   "outputs": [],
   "source": [
    "#cp_groups_df"
   ]
  },
  {
   "cell_type": "code",
   "execution_count": 55,
   "id": "90032e27-66df-4540-9169-4e89cfbaa758",
   "metadata": {
    "execution": {
     "iopub.execute_input": "2025-08-05T20:56:47.803524Z",
     "iopub.status.busy": "2025-08-05T20:56:47.803056Z",
     "iopub.status.idle": "2025-08-05T20:56:47.814576Z",
     "shell.execute_reply": "2025-08-05T20:56:47.813569Z"
    },
    "papermill": {
     "duration": 0.035207,
     "end_time": "2025-08-05T20:56:47.816152",
     "exception": false,
     "start_time": "2025-08-05T20:56:47.780945",
     "status": "completed"
    },
    "tags": []
   },
   "outputs": [],
   "source": [
    "subgroups = ['frau1','nongerman','nongerman_male','nongerman_female']\n",
    "\n",
    "# Conditional coverage for subgroup==1\n",
    "cond_coverage = {\n",
    "    g: cp_groups_df.loc[cp_groups_df[g]==1, 'covered'].mean()\n",
    "    for g in subgroups\n",
    "}"
   ]
  },
  {
   "cell_type": "code",
   "execution_count": 56,
   "id": "1e348fb1-b9c3-45bc-ba23-f016827a7e0d",
   "metadata": {
    "execution": {
     "iopub.execute_input": "2025-08-05T20:56:47.857149Z",
     "iopub.status.busy": "2025-08-05T20:56:47.856660Z",
     "iopub.status.idle": "2025-08-05T20:56:47.863952Z",
     "shell.execute_reply": "2025-08-05T20:56:47.862932Z"
    },
    "papermill": {
     "duration": 0.029791,
     "end_time": "2025-08-05T20:56:47.865629",
     "exception": false,
     "start_time": "2025-08-05T20:56:47.835838",
     "status": "completed"
    },
    "tags": []
   },
   "outputs": [
    {
     "data": {
      "text/plain": [
       "{'frau1': 0.9089095565440086,\n",
       " 'nongerman': 0.9081569640150452,\n",
       " 'nongerman_male': 0.9251553634152931,\n",
       " 'nongerman_female': 0.8800298062593145}"
      ]
     },
     "execution_count": 56,
     "metadata": {},
     "output_type": "execute_result"
    }
   ],
   "source": [
    "cond_coverage"
   ]
  },
  {
   "cell_type": "code",
   "execution_count": 57,
   "id": "f5093324-c3dd-4d63-bc4c-8d945e5c8bbb",
   "metadata": {
    "execution": {
     "iopub.execute_input": "2025-08-05T20:56:47.909009Z",
     "iopub.status.busy": "2025-08-05T20:56:47.908536Z",
     "iopub.status.idle": "2025-08-05T20:56:47.915698Z",
     "shell.execute_reply": "2025-08-05T20:56:47.914668Z"
    },
    "papermill": {
     "duration": 0.031528,
     "end_time": "2025-08-05T20:56:47.917466",
     "exception": false,
     "start_time": "2025-08-05T20:56:47.885938",
     "status": "completed"
    },
    "tags": []
   },
   "outputs": [],
   "source": [
    "for subgroup, cov in cond_coverage.items():\n",
    "    cp_metrics_df[f\"cov_{subgroup}\"] = cov"
   ]
  },
  {
   "cell_type": "code",
   "execution_count": 58,
   "id": "6e872e10-dbe5-49e8-b554-5030c98ff75d",
   "metadata": {
    "execution": {
     "iopub.execute_input": "2025-08-05T20:56:47.968387Z",
     "iopub.status.busy": "2025-08-05T20:56:47.968079Z",
     "iopub.status.idle": "2025-08-05T20:56:47.985607Z",
     "shell.execute_reply": "2025-08-05T20:56:47.984524Z"
    },
    "papermill": {
     "duration": 0.04455,
     "end_time": "2025-08-05T20:56:47.987334",
     "exception": false,
     "start_time": "2025-08-05T20:56:47.942784",
     "status": "completed"
    },
    "tags": []
   },
   "outputs": [
    {
     "data": {
      "text/html": [
       "<div>\n",
       "<style scoped>\n",
       "    .dataframe tbody tr th:only-of-type {\n",
       "        vertical-align: middle;\n",
       "    }\n",
       "\n",
       "    .dataframe tbody tr th {\n",
       "        vertical-align: top;\n",
       "    }\n",
       "\n",
       "    .dataframe thead th {\n",
       "        text-align: right;\n",
       "    }\n",
       "</style>\n",
       "<table border=\"1\" class=\"dataframe\">\n",
       "  <thead>\n",
       "    <tr style=\"text-align: right;\">\n",
       "      <th></th>\n",
       "      <th>universe_id</th>\n",
       "      <th>universe_training_year</th>\n",
       "      <th>universe_training_size</th>\n",
       "      <th>universe_scale</th>\n",
       "      <th>universe_model</th>\n",
       "      <th>universe_exclude_features</th>\n",
       "      <th>universe_exclude_subgroups</th>\n",
       "      <th>q_hat</th>\n",
       "      <th>coverage</th>\n",
       "      <th>avg_size</th>\n",
       "      <th>cov_frau1</th>\n",
       "      <th>cov_nongerman</th>\n",
       "      <th>cov_nongerman_male</th>\n",
       "      <th>cov_nongerman_female</th>\n",
       "    </tr>\n",
       "  </thead>\n",
       "  <tbody>\n",
       "    <tr>\n",
       "      <th>0</th>\n",
       "      <td>21a2f5291dda0cc252f01748b57b0638</td>\n",
       "      <td>2012_14</td>\n",
       "      <td>25k</td>\n",
       "      <td>scale</td>\n",
       "      <td>elasticnet</td>\n",
       "      <td>age</td>\n",
       "      <td>keep-all</td>\n",
       "      <td>0.667537</td>\n",
       "      <td>0.911058</td>\n",
       "      <td>1.126508</td>\n",
       "      <td>0.90891</td>\n",
       "      <td>0.908157</td>\n",
       "      <td>0.925155</td>\n",
       "      <td>0.88003</td>\n",
       "    </tr>\n",
       "  </tbody>\n",
       "</table>\n",
       "</div>"
      ],
      "text/plain": [
       "                        universe_id universe_training_year  \\\n",
       "0  21a2f5291dda0cc252f01748b57b0638                2012_14   \n",
       "\n",
       "  universe_training_size universe_scale universe_model  \\\n",
       "0                    25k          scale     elasticnet   \n",
       "\n",
       "  universe_exclude_features universe_exclude_subgroups     q_hat  coverage  \\\n",
       "0                       age                   keep-all  0.667537  0.911058   \n",
       "\n",
       "   avg_size  cov_frau1  cov_nongerman  cov_nongerman_male  \\\n",
       "0  1.126508    0.90891       0.908157            0.925155   \n",
       "\n",
       "   cov_nongerman_female  \n",
       "0               0.88003  "
      ]
     },
     "execution_count": 58,
     "metadata": {},
     "output_type": "execute_result"
    }
   ],
   "source": [
    "cp_metrics_df"
   ]
  },
  {
   "cell_type": "markdown",
   "id": "33774451",
   "metadata": {
    "papermill": {
     "duration": 0.024649,
     "end_time": "2025-08-05T20:56:48.036988",
     "exception": false,
     "start_time": "2025-08-05T20:56:48.012339",
     "status": "completed"
    },
    "tags": []
   },
   "source": [
    "# (Fairness) Metrics"
   ]
  },
  {
   "cell_type": "code",
   "execution_count": 59,
   "id": "debc5d62",
   "metadata": {
    "execution": {
     "iopub.execute_input": "2025-08-05T20:56:48.088216Z",
     "iopub.status.busy": "2025-08-05T20:56:48.087754Z",
     "iopub.status.idle": "2025-08-05T20:56:48.108480Z",
     "shell.execute_reply": "2025-08-05T20:56:48.107629Z"
    },
    "papermill": {
     "duration": 0.048482,
     "end_time": "2025-08-05T20:56:48.110100",
     "exception": false,
     "start_time": "2025-08-05T20:56:48.061618",
     "status": "completed"
    },
    "tags": []
   },
   "outputs": [],
   "source": [
    "# do I need to include maxdeutsch1.missing?\n",
    "\n",
    "import numpy as np\n",
    "\n",
    "colname_to_bin = \"maxdeutsch1\"\n",
    "majority_value = org_train[colname_to_bin].mode()[0]\n",
    "\n",
    "org_test[\"majmin\"] = np.where(org_test[colname_to_bin] == majority_value, \"majority\", \"minority\")"
   ]
  },
  {
   "cell_type": "code",
   "execution_count": 60,
   "id": "06a50de5",
   "metadata": {
    "execution": {
     "iopub.execute_input": "2025-08-05T20:56:48.151619Z",
     "iopub.status.busy": "2025-08-05T20:56:48.151144Z",
     "iopub.status.idle": "2025-08-05T20:56:50.612755Z",
     "shell.execute_reply": "2025-08-05T20:56:50.611618Z"
    },
    "papermill": {
     "duration": 2.484289,
     "end_time": "2025-08-05T20:56:50.614665",
     "exception": false,
     "start_time": "2025-08-05T20:56:48.130376",
     "status": "completed"
    },
    "tags": []
   },
   "outputs": [],
   "source": [
    "example_universe = universe.copy()\n",
    "example_universe[\"cutoff\"] = example_universe[\"cutoff\"][0]\n",
    "example_universe[\"eval_fairness_grouping\"] = example_universe[\"eval_fairness_grouping\"][0]\n",
    "fairness_dict, metric_frame = universe_analysis.compute_metrics(\n",
    "    example_universe,\n",
    "    y_pred_prob=probs_test,\n",
    "    y_test=y_true,\n",
    "    org_test=org_test,\n",
    ")"
   ]
  },
  {
   "cell_type": "markdown",
   "id": "f95d4e02",
   "metadata": {
    "papermill": {
     "duration": 0.019981,
     "end_time": "2025-08-05T20:56:50.655477",
     "exception": false,
     "start_time": "2025-08-05T20:56:50.635496",
     "status": "completed"
    },
    "tags": []
   },
   "source": [
    "# Overall"
   ]
  },
  {
   "cell_type": "markdown",
   "id": "bdee4871",
   "metadata": {
    "papermill": {
     "duration": 0.020182,
     "end_time": "2025-08-05T20:56:50.696740",
     "exception": false,
     "start_time": "2025-08-05T20:56:50.676558",
     "status": "completed"
    },
    "tags": []
   },
   "source": [
    "Fairness\n",
    "Main fairness target: Equalized Odds. Seems to be a better fit than equal opportunity, since we're not only interested in Y = 1. Seems to be a better fit than demographic parity, since we also care about accuracy, not just equal distribution of preds.\n",
    "\n",
    "Pick column for computation of fairness metrics\n",
    "\n",
    "Performance\n",
    "Overall performance measures, most interesting in relation to the measures split by group below"
   ]
  },
  {
   "cell_type": "code",
   "execution_count": 61,
   "id": "c4e067c6",
   "metadata": {
    "execution": {
     "iopub.execute_input": "2025-08-05T20:56:50.743805Z",
     "iopub.status.busy": "2025-08-05T20:56:50.743306Z",
     "iopub.status.idle": "2025-08-05T20:56:50.752502Z",
     "shell.execute_reply": "2025-08-05T20:56:50.751573Z"
    },
    "papermill": {
     "duration": 0.036759,
     "end_time": "2025-08-05T20:56:50.754347",
     "exception": false,
     "start_time": "2025-08-05T20:56:50.717588",
     "status": "completed"
    },
    "tags": []
   },
   "outputs": [
    {
     "data": {
      "text/plain": [
       "accuracy                   0.225159\n",
       "balanced accuracy          0.550380\n",
       "f1                         0.246469\n",
       "precision                  0.140799\n",
       "false positive rate        0.887074\n",
       "false negative rate        0.012165\n",
       "selection rate             0.900000\n",
       "count                  89710.000000\n",
       "dtype: float64"
      ]
     },
     "execution_count": 61,
     "metadata": {},
     "output_type": "execute_result"
    }
   ],
   "source": [
    "metric_frame.overall"
   ]
  },
  {
   "cell_type": "markdown",
   "id": "e968fe9d",
   "metadata": {
    "papermill": {
     "duration": 0.021936,
     "end_time": "2025-08-05T20:56:50.804468",
     "exception": false,
     "start_time": "2025-08-05T20:56:50.782532",
     "status": "completed"
    },
    "tags": []
   },
   "source": [
    "By Group"
   ]
  },
  {
   "cell_type": "code",
   "execution_count": 62,
   "id": "ec325bce",
   "metadata": {
    "execution": {
     "iopub.execute_input": "2025-08-05T20:56:50.853250Z",
     "iopub.status.busy": "2025-08-05T20:56:50.852290Z",
     "iopub.status.idle": "2025-08-05T20:56:50.867716Z",
     "shell.execute_reply": "2025-08-05T20:56:50.866638Z"
    },
    "papermill": {
     "duration": 0.042597,
     "end_time": "2025-08-05T20:56:50.870171",
     "exception": false,
     "start_time": "2025-08-05T20:56:50.827574",
     "status": "completed"
    },
    "tags": []
   },
   "outputs": [
    {
     "data": {
      "text/html": [
       "<div>\n",
       "<style scoped>\n",
       "    .dataframe tbody tr th:only-of-type {\n",
       "        vertical-align: middle;\n",
       "    }\n",
       "\n",
       "    .dataframe tbody tr th {\n",
       "        vertical-align: top;\n",
       "    }\n",
       "\n",
       "    .dataframe thead th {\n",
       "        text-align: right;\n",
       "    }\n",
       "</style>\n",
       "<table border=\"1\" class=\"dataframe\">\n",
       "  <thead>\n",
       "    <tr style=\"text-align: right;\">\n",
       "      <th></th>\n",
       "      <th>accuracy</th>\n",
       "      <th>balanced accuracy</th>\n",
       "      <th>f1</th>\n",
       "      <th>precision</th>\n",
       "      <th>false positive rate</th>\n",
       "      <th>false negative rate</th>\n",
       "      <th>selection rate</th>\n",
       "      <th>count</th>\n",
       "    </tr>\n",
       "    <tr>\n",
       "      <th>majmin</th>\n",
       "      <th></th>\n",
       "      <th></th>\n",
       "      <th></th>\n",
       "      <th></th>\n",
       "      <th></th>\n",
       "      <th></th>\n",
       "      <th></th>\n",
       "      <th></th>\n",
       "    </tr>\n",
       "  </thead>\n",
       "  <tbody>\n",
       "    <tr>\n",
       "      <th>majority</th>\n",
       "      <td>0.247795</td>\n",
       "      <td>0.560883</td>\n",
       "      <td>0.257372</td>\n",
       "      <td>0.147993</td>\n",
       "      <td>0.864668</td>\n",
       "      <td>0.013567</td>\n",
       "      <td>0.880758</td>\n",
       "      <td>69170.0</td>\n",
       "    </tr>\n",
       "    <tr>\n",
       "      <th>minority</th>\n",
       "      <td>0.148929</td>\n",
       "      <td>0.516075</td>\n",
       "      <td>0.212035</td>\n",
       "      <td>0.118686</td>\n",
       "      <td>0.961094</td>\n",
       "      <td>0.006757</td>\n",
       "      <td>0.964800</td>\n",
       "      <td>20540.0</td>\n",
       "    </tr>\n",
       "  </tbody>\n",
       "</table>\n",
       "</div>"
      ],
      "text/plain": [
       "          accuracy  balanced accuracy        f1  precision  \\\n",
       "majmin                                                       \n",
       "majority  0.247795           0.560883  0.257372   0.147993   \n",
       "minority  0.148929           0.516075  0.212035   0.118686   \n",
       "\n",
       "          false positive rate  false negative rate  selection rate    count  \n",
       "majmin                                                                       \n",
       "majority             0.864668             0.013567        0.880758  69170.0  \n",
       "minority             0.961094             0.006757        0.964800  20540.0  "
      ]
     },
     "execution_count": 62,
     "metadata": {},
     "output_type": "execute_result"
    }
   ],
   "source": [
    "metric_frame.by_group"
   ]
  },
  {
   "cell_type": "code",
   "execution_count": 63,
   "id": "a9ddbe63",
   "metadata": {
    "execution": {
     "iopub.execute_input": "2025-08-05T20:56:50.920627Z",
     "iopub.status.busy": "2025-08-05T20:56:50.920154Z",
     "iopub.status.idle": "2025-08-05T20:56:53.401809Z",
     "shell.execute_reply": "2025-08-05T20:56:53.400867Z"
    },
    "papermill": {
     "duration": 2.508907,
     "end_time": "2025-08-05T20:56:53.403573",
     "exception": false,
     "start_time": "2025-08-05T20:56:50.894666",
     "status": "completed"
    },
    "tags": []
   },
   "outputs": [
    {
     "data": {
      "text/plain": [
       "array([[<Axes: title={'center': 'accuracy'}, xlabel='majmin'>,\n",
       "        <Axes: title={'center': 'balanced accuracy'}, xlabel='majmin'>,\n",
       "        <Axes: title={'center': 'f1'}, xlabel='majmin'>],\n",
       "       [<Axes: title={'center': 'precision'}, xlabel='majmin'>,\n",
       "        <Axes: title={'center': 'false positive rate'}, xlabel='majmin'>,\n",
       "        <Axes: title={'center': 'false negative rate'}, xlabel='majmin'>],\n",
       "       [<Axes: title={'center': 'selection rate'}, xlabel='majmin'>,\n",
       "        <Axes: title={'center': 'count'}, xlabel='majmin'>,\n",
       "        <Axes: xlabel='majmin'>]], dtype=object)"
      ]
     },
     "execution_count": 63,
     "metadata": {},
     "output_type": "execute_result"
    },
    {
     "data": {
      "image/png": "[encoded data removed]",
      "text/plain": [
       "<Figure size 1200x800 with 9 Axes>"
      ]
     },
     "metadata": {},
     "output_type": "display_data"
    }
   ],
   "source": [
    "# In a graphic\n",
    "metric_frame.by_group.plot.bar(\n",
    "    subplots=True,\n",
    "    layout=[3, 3],\n",
    "    legend=False,\n",
    "    figsize=[12, 8],\n",
    "    title=\"Show all metrics\",\n",
    ")"
   ]
  },
  {
   "cell_type": "markdown",
   "id": "f57a0bac",
   "metadata": {
    "papermill": {
     "duration": 0.022108,
     "end_time": "2025-08-05T20:56:53.452302",
     "exception": false,
     "start_time": "2025-08-05T20:56:53.430194",
     "status": "completed"
    },
    "tags": []
   },
   "source": [
    "# Final Output"
   ]
  },
  {
   "cell_type": "code",
   "execution_count": 64,
   "id": "96d280a3",
   "metadata": {
    "execution": {
     "iopub.execute_input": "2025-08-05T20:56:53.500414Z",
     "iopub.status.busy": "2025-08-05T20:56:53.499830Z",
     "iopub.status.idle": "2025-08-05T20:56:53.507972Z",
     "shell.execute_reply": "2025-08-05T20:56:53.507043Z"
    },
    "papermill": {
     "duration": 0.033463,
     "end_time": "2025-08-05T20:56:53.509601",
     "exception": false,
     "start_time": "2025-08-05T20:56:53.476138",
     "status": "completed"
    },
    "tags": []
   },
   "outputs": [
    {
     "data": {
      "text/plain": [
       "4"
      ]
     },
     "execution_count": 64,
     "metadata": {},
     "output_type": "execute_result"
    }
   ],
   "source": [
    "sub_universes = universe_analysis.generate_sub_universes()\n",
    "len(sub_universes)"
   ]
  },
  {
   "cell_type": "code",
   "execution_count": 65,
   "id": "92adf7ba",
   "metadata": {
    "execution": {
     "iopub.execute_input": "2025-08-05T20:56:53.556400Z",
     "iopub.status.busy": "2025-08-05T20:56:53.555946Z",
     "iopub.status.idle": "2025-08-05T20:56:53.561897Z",
     "shell.execute_reply": "2025-08-05T20:56:53.560824Z"
    },
    "papermill": {
     "duration": 0.030745,
     "end_time": "2025-08-05T20:56:53.563515",
     "exception": false,
     "start_time": "2025-08-05T20:56:53.532770",
     "status": "completed"
    },
    "tags": []
   },
   "outputs": [],
   "source": [
    "def filter_sub_universe_data(sub_universe, org_test):\n",
    "    # Keep all rows — no filtering\n",
    "    keep_rows_mask = np.ones(org_test.shape[0], dtype=bool)\n",
    "\n",
    "    print(f\"[INFO] Keeping all rows: {keep_rows_mask.sum()} rows retained.\")\n",
    "    return keep_rows_mask"
   ]
  },
  {
   "cell_type": "code",
   "execution_count": 66,
   "id": "4a759155",
   "metadata": {
    "execution": {
     "iopub.execute_input": "2025-08-05T20:56:53.614585Z",
     "iopub.status.busy": "2025-08-05T20:56:53.613938Z",
     "iopub.status.idle": "2025-08-05T20:57:01.441959Z",
     "shell.execute_reply": "2025-08-05T20:57:01.441047Z"
    },
    "papermill": {
     "duration": 7.852925,
     "end_time": "2025-08-05T20:57:01.443385",
     "exception": false,
     "start_time": "2025-08-05T20:56:53.590460",
     "status": "completed"
    },
    "tags": []
   },
   "outputs": [
    {
     "name": "stdout",
     "output_type": "stream",
     "text": [
      "Stopping execution_time clock.\n",
      "[INFO] Keeping all rows: 89710 rows retained.\n"
     ]
    },
    {
     "name": "stdout",
     "output_type": "stream",
     "text": [
      "[INFO] Keeping all rows: 89710 rows retained.\n"
     ]
    },
    {
     "name": "stdout",
     "output_type": "stream",
     "text": [
      "[INFO] Keeping all rows: 89710 rows retained.\n"
     ]
    },
    {
     "name": "stdout",
     "output_type": "stream",
     "text": [
      "[INFO] Keeping all rows: 89710 rows retained.\n"
     ]
    },
    {
     "data": {
      "text/html": [
       "<div>\n",
       "<style scoped>\n",
       "    .dataframe tbody tr th:only-of-type {\n",
       "        vertical-align: middle;\n",
       "    }\n",
       "\n",
       "    .dataframe tbody tr th {\n",
       "        vertical-align: top;\n",
       "    }\n",
       "\n",
       "    .dataframe thead th {\n",
       "        text-align: right;\n",
       "    }\n",
       "</style>\n",
       "<table border=\"1\" class=\"dataframe\">\n",
       "  <thead>\n",
       "    <tr style=\"text-align: right;\">\n",
       "      <th></th>\n",
       "      <th>run_no</th>\n",
       "      <th>universe_id</th>\n",
       "      <th>universe_settings</th>\n",
       "      <th>execution_time</th>\n",
       "      <th>test_size_n</th>\n",
       "      <th>test_size_frac</th>\n",
       "      <th>fair_main_equalized_odds_difference</th>\n",
       "      <th>fair_main_equalized_odds_ratio</th>\n",
       "      <th>fair_main_demographic_parity_difference</th>\n",
       "      <th>fair_main_demographic_parity_ratio</th>\n",
       "      <th>...</th>\n",
       "      <th>perf_grp_precision_0</th>\n",
       "      <th>perf_grp_precision_1</th>\n",
       "      <th>perf_grp_false positive rate_0</th>\n",
       "      <th>perf_grp_false positive rate_1</th>\n",
       "      <th>perf_grp_false negative rate_0</th>\n",
       "      <th>perf_grp_false negative rate_1</th>\n",
       "      <th>perf_grp_selection rate_0</th>\n",
       "      <th>perf_grp_selection rate_1</th>\n",
       "      <th>perf_grp_count_0</th>\n",
       "      <th>perf_grp_count_1</th>\n",
       "    </tr>\n",
       "  </thead>\n",
       "  <tbody>\n",
       "    <tr>\n",
       "      <th>0</th>\n",
       "      <td>16</td>\n",
       "      <td>21a2f5291dda0cc252f01748b57b0638</td>\n",
       "      <td>{\"cutoff\": \"quantile_0.1\", \"eval_fairness_grou...</td>\n",
       "      <td>34.213305</td>\n",
       "      <td>89710</td>\n",
       "      <td>1.0</td>\n",
       "      <td>0.096426</td>\n",
       "      <td>0.899670</td>\n",
       "      <td>0.084043</td>\n",
       "      <td>0.912891</td>\n",
       "      <td>...</td>\n",
       "      <td>NaN</td>\n",
       "      <td>NaN</td>\n",
       "      <td>NaN</td>\n",
       "      <td>NaN</td>\n",
       "      <td>NaN</td>\n",
       "      <td>NaN</td>\n",
       "      <td>NaN</td>\n",
       "      <td>NaN</td>\n",
       "      <td>NaN</td>\n",
       "      <td>NaN</td>\n",
       "    </tr>\n",
       "    <tr>\n",
       "      <th>0</th>\n",
       "      <td>16</td>\n",
       "      <td>21a2f5291dda0cc252f01748b57b0638</td>\n",
       "      <td>{\"cutoff\": \"quantile_0.1\", \"eval_fairness_grou...</td>\n",
       "      <td>34.213305</td>\n",
       "      <td>89710</td>\n",
       "      <td>1.0</td>\n",
       "      <td>0.096426</td>\n",
       "      <td>0.899670</td>\n",
       "      <td>0.084043</td>\n",
       "      <td>0.912891</td>\n",
       "      <td>...</td>\n",
       "      <td>0.118686</td>\n",
       "      <td>0.147993</td>\n",
       "      <td>0.961094</td>\n",
       "      <td>0.864668</td>\n",
       "      <td>0.006757</td>\n",
       "      <td>0.013567</td>\n",
       "      <td>0.964800</td>\n",
       "      <td>0.880758</td>\n",
       "      <td>20540.0</td>\n",
       "      <td>69170.0</td>\n",
       "    </tr>\n",
       "    <tr>\n",
       "      <th>0</th>\n",
       "      <td>16</td>\n",
       "      <td>21a2f5291dda0cc252f01748b57b0638</td>\n",
       "      <td>{\"cutoff\": \"quantile_0.25\", \"eval_fairness_gro...</td>\n",
       "      <td>34.213305</td>\n",
       "      <td>89710</td>\n",
       "      <td>1.0</td>\n",
       "      <td>0.171214</td>\n",
       "      <td>0.799089</td>\n",
       "      <td>0.149276</td>\n",
       "      <td>0.827445</td>\n",
       "      <td>...</td>\n",
       "      <td>NaN</td>\n",
       "      <td>NaN</td>\n",
       "      <td>NaN</td>\n",
       "      <td>NaN</td>\n",
       "      <td>NaN</td>\n",
       "      <td>NaN</td>\n",
       "      <td>NaN</td>\n",
       "      <td>NaN</td>\n",
       "      <td>NaN</td>\n",
       "      <td>NaN</td>\n",
       "    </tr>\n",
       "    <tr>\n",
       "      <th>0</th>\n",
       "      <td>16</td>\n",
       "      <td>21a2f5291dda0cc252f01748b57b0638</td>\n",
       "      <td>{\"cutoff\": \"quantile_0.25\", \"eval_fairness_gro...</td>\n",
       "      <td>34.213305</td>\n",
       "      <td>89710</td>\n",
       "      <td>1.0</td>\n",
       "      <td>0.171214</td>\n",
       "      <td>0.799089</td>\n",
       "      <td>0.149276</td>\n",
       "      <td>0.827445</td>\n",
       "      <td>...</td>\n",
       "      <td>0.128482</td>\n",
       "      <td>0.174378</td>\n",
       "      <td>0.852190</td>\n",
       "      <td>0.680976</td>\n",
       "      <td>0.035895</td>\n",
       "      <td>0.055361</td>\n",
       "      <td>0.865093</td>\n",
       "      <td>0.715816</td>\n",
       "      <td>20540.0</td>\n",
       "      <td>69170.0</td>\n",
       "    </tr>\n",
       "  </tbody>\n",
       "</table>\n",
       "<p>4 rows × 50 columns</p>\n",
       "</div>"
      ],
      "text/plain": [
       "  run_no                       universe_id  \\\n",
       "0     16  21a2f5291dda0cc252f01748b57b0638   \n",
       "0     16  21a2f5291dda0cc252f01748b57b0638   \n",
       "0     16  21a2f5291dda0cc252f01748b57b0638   \n",
       "0     16  21a2f5291dda0cc252f01748b57b0638   \n",
       "\n",
       "                                   universe_settings  execution_time  \\\n",
       "0  {\"cutoff\": \"quantile_0.1\", \"eval_fairness_grou...       34.213305   \n",
       "0  {\"cutoff\": \"quantile_0.1\", \"eval_fairness_grou...       34.213305   \n",
       "0  {\"cutoff\": \"quantile_0.25\", \"eval_fairness_gro...       34.213305   \n",
       "0  {\"cutoff\": \"quantile_0.25\", \"eval_fairness_gro...       34.213305   \n",
       "\n",
       "   test_size_n  test_size_frac  fair_main_equalized_odds_difference  \\\n",
       "0        89710             1.0                             0.096426   \n",
       "0        89710             1.0                             0.096426   \n",
       "0        89710             1.0                             0.171214   \n",
       "0        89710             1.0                             0.171214   \n",
       "\n",
       "   fair_main_equalized_odds_ratio  fair_main_demographic_parity_difference  \\\n",
       "0                        0.899670                                 0.084043   \n",
       "0                        0.899670                                 0.084043   \n",
       "0                        0.799089                                 0.149276   \n",
       "0                        0.799089                                 0.149276   \n",
       "\n",
       "   fair_main_demographic_parity_ratio  ...  perf_grp_precision_0  \\\n",
       "0                            0.912891  ...                   NaN   \n",
       "0                            0.912891  ...              0.118686   \n",
       "0                            0.827445  ...                   NaN   \n",
       "0                            0.827445  ...              0.128482   \n",
       "\n",
       "   perf_grp_precision_1  perf_grp_false positive rate_0  \\\n",
       "0                   NaN                             NaN   \n",
       "0              0.147993                        0.961094   \n",
       "0                   NaN                             NaN   \n",
       "0              0.174378                        0.852190   \n",
       "\n",
       "   perf_grp_false positive rate_1  perf_grp_false negative rate_0  \\\n",
       "0                             NaN                             NaN   \n",
       "0                        0.864668                        0.006757   \n",
       "0                             NaN                             NaN   \n",
       "0                        0.680976                        0.035895   \n",
       "\n",
       "   perf_grp_false negative rate_1  perf_grp_selection rate_0  \\\n",
       "0                             NaN                        NaN   \n",
       "0                        0.013567                   0.964800   \n",
       "0                             NaN                        NaN   \n",
       "0                        0.055361                   0.865093   \n",
       "\n",
       "   perf_grp_selection rate_1  perf_grp_count_0  perf_grp_count_1  \n",
       "0                        NaN               NaN               NaN  \n",
       "0                   0.880758           20540.0           69170.0  \n",
       "0                        NaN               NaN               NaN  \n",
       "0                   0.715816           20540.0           69170.0  \n",
       "\n",
       "[4 rows x 50 columns]"
      ]
     },
     "execution_count": 66,
     "metadata": {},
     "output_type": "execute_result"
    }
   ],
   "source": [
    "final_output = universe_analysis.generate_final_output(\n",
    "    y_pred_prob=probs_test,\n",
    "    y_test=y_true,\n",
    "    org_test=org_test,\n",
    "    filter_data=filter_sub_universe_data,\n",
    "    cp_metrics_df=cp_metrics_df,\n",
    "    save=True,\n",
    ")\n",
    "final_output"
   ]
  }
 ],
 "metadata": {
  "celltoolbar": "Tags",
  "kernelspec": {
   "display_name": "Python (CMA Fairness)",
   "language": "python",
   "name": "cma_fair_env"
  },
  "language_info": {
   "codemirror_mode": {
    "name": "ipython",
    "version": 3
   },
   "file_extension": ".py",
   "mimetype": "text/x-python",
   "name": "python",
   "nbconvert_exporter": "python",
   "pygments_lexer": "ipython3",
   "version": "3.10.12"
  },
  "papermill": {
   "default_parameters": {},
   "duration": 45.914329,
   "end_time": "2025-08-05T20:57:02.191792",
   "environment_variables": {},
   "exception": null,
   "input_path": "universe_analysis.ipynb",
   "output_path": "output/runs/16/notebooks/m_16-21a2f5291dda0cc252f01748b57b0638.ipynb",
   "parameters": {
    "output_dir": "output",
    "run_no": "16",
    "seed": "2023",
    "universe": "{\"cutoff\": [\"quantile_0.1\", \"quantile_0.25\"], \"eval_fairness_grouping\": [\"majority-minority\", \"nationality-all\"], \"exclude_features\": \"age\", \"exclude_subgroups\": \"keep-all\", \"model\": \"elasticnet\", \"scale\": \"scale\", \"training_size\": \"25k\", \"training_year\": \"2012_14\"}",
    "universe_id": "21a2f5291dda0cc252f01748b57b0638"
   },
   "start_time": "2025-08-05T20:56:16.277463",
   "version": "2.6.0"
  }
 },
 "nbformat": 4,
 "nbformat_minor": 5
}