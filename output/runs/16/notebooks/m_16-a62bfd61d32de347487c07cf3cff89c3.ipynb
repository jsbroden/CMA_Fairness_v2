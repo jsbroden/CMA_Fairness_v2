{
 "cells": [
  {
   "cell_type": "code",
   "execution_count": 1,
   "id": "f159f837-637b-42ba-96b5-ec9a68c44524",
   "metadata": {
    "execution": {
     "iopub.execute_input": "2025-08-05T20:58:19.115639Z",
     "iopub.status.busy": "2025-08-05T20:58:19.115138Z",
     "iopub.status.idle": "2025-08-05T20:58:19.128961Z",
     "shell.execute_reply": "2025-08-05T20:58:19.127914Z"
    },
    "papermill": {
     "duration": 0.033964,
     "end_time": "2025-08-05T20:58:19.130625",
     "exception": false,
     "start_time": "2025-08-05T20:58:19.096661",
     "status": "completed"
    },
    "tags": []
   },
   "outputs": [
    {
     "name": "stdout",
     "output_type": "stream",
     "text": [
      "/dss/dsshome1/0C/ra93lal2/cma/CMA_Fairness_v2\n"
     ]
    },
    {
     "name": "stderr",
     "output_type": "stream",
     "text": [
      "/dss/dsshome1/0C/ra93lal2/.local/share/virtualenvs/CMA_Fairness_v2-3j10GkSs/lib/python3.10/site-packages/IPython/core/magics/osm.py:393: UserWarning: This is now an optional IPython functionality, using bookmarks requires you to install the `pickleshare` library.\n",
      "  bkms = self.shell.db.get('bookmarks', {})\n",
      "/dss/dsshome1/0C/ra93lal2/.local/share/virtualenvs/CMA_Fairness_v2-3j10GkSs/lib/python3.10/site-packages/IPython/core/magics/osm.py:417: UserWarning: This is now an optional IPython functionality, setting dhist requires you to install the `pickleshare` library.\n",
      "  self.shell.db['dhist'] = compress_dhist(dhist)[-100:]\n"
     ]
    }
   ],
   "source": [
    "%cd ~/cma/CMA_Fairness_v2"
   ]
  },
  {
   "cell_type": "markdown",
   "id": "de2603b9",
   "metadata": {
    "papermill": {
     "duration": 0.01916,
     "end_time": "2025-08-05T20:58:19.169282",
     "exception": false,
     "start_time": "2025-08-05T20:58:19.150122",
     "status": "completed"
    },
    "tags": []
   },
   "source": [
    "The following cell holds the definition of our parameters, these values can be overriden by rendering the with e.g. the following command:\n",
    "\n",
    "papermill -p alpha 0.2 -p ratio 0.3 universe_analysis.ipynb output/test_run.ipynb"
   ]
  },
  {
   "cell_type": "code",
   "execution_count": 2,
   "id": "a80968a0-40bb-4fa9-85ef-2d5eefb01975",
   "metadata": {
    "execution": {
     "iopub.execute_input": "2025-08-05T20:58:19.199078Z",
     "iopub.status.busy": "2025-08-05T20:58:19.198374Z",
     "iopub.status.idle": "2025-08-05T20:58:19.203542Z",
     "shell.execute_reply": "2025-08-05T20:58:19.202703Z"
    },
    "papermill": {
     "duration": 0.016117,
     "end_time": "2025-08-05T20:58:19.205145",
     "exception": false,
     "start_time": "2025-08-05T20:58:19.189028",
     "status": "completed"
    },
    "tags": []
   },
   "outputs": [
    {
     "name": "stdout",
     "output_type": "stream",
     "text": [
      "Current working directory: /dss/dsshome1/0C/ra93lal2/cma/CMA_Fairness_v2\n"
     ]
    }
   ],
   "source": [
    "import os\n",
    "print(\"Current working directory:\", os.getcwd())"
   ]
  },
  {
   "cell_type": "code",
   "execution_count": 3,
   "id": "2dce4c03",
   "metadata": {
    "execution": {
     "iopub.execute_input": "2025-08-05T20:58:19.234887Z",
     "iopub.status.busy": "2025-08-05T20:58:19.234172Z",
     "iopub.status.idle": "2025-08-05T20:58:19.240281Z",
     "shell.execute_reply": "2025-08-05T20:58:19.239248Z"
    },
    "papermill": {
     "duration": 0.026817,
     "end_time": "2025-08-05T20:58:19.242407",
     "exception": false,
     "start_time": "2025-08-05T20:58:19.215590",
     "status": "completed"
    },
    "tags": [
     "parameters"
    ]
   },
   "outputs": [],
   "source": [
    "run_no = 0\n",
    "universe_id = \"test\"\n",
    "universe = {\n",
    "    \"training_size\": \"25k\", # \"25k\", \"5k\", \"1k\"\n",
    "    \"training_year\": \"2014\", # \"2014\", \"2012_14\", \"2010_14\"\n",
    "    \"scale\": \"scale\", # \"scale\", \"do-not-scale\",\n",
    "    \"model\": \"elasticnet\", # \"logreg\", \"penalized_logreg\", \"rf\", \"gbm\", \"elasticnet\"\n",
    "    \"cutoff\": [\"quantile_0.15\", \"quantile_0.30\"],\n",
    "    \"exclude_features\": \"age\", # \"none\", \"nationality\", \"sex\", \"nationality-sex\", \"age\"\n",
    "    \"exclude_subgroups\": \"keep-all\", # \"keep-all\", \"drop-non-german\"\n",
    "    \"eval_fairness_grouping\": [\"majority-minority\", \"nationality-all\"]\n",
    "}\n",
    "\n",
    "output_dir=\"./output\"\n",
    "seed=0"
   ]
  },
  {
   "cell_type": "code",
   "execution_count": 4,
   "id": "46f12579",
   "metadata": {
    "execution": {
     "iopub.execute_input": "2025-08-05T20:58:19.267635Z",
     "iopub.status.busy": "2025-08-05T20:58:19.267001Z",
     "iopub.status.idle": "2025-08-05T20:58:19.271838Z",
     "shell.execute_reply": "2025-08-05T20:58:19.271018Z"
    },
    "papermill": {
     "duration": 0.015722,
     "end_time": "2025-08-05T20:58:19.273335",
     "exception": false,
     "start_time": "2025-08-05T20:58:19.257613",
     "status": "completed"
    },
    "tags": [
     "injected-parameters"
    ]
   },
   "outputs": [],
   "source": [
    "# Parameters\n",
    "universe_id = \"a62bfd61d32de347487c07cf3cff89c3\"\n",
    "run_no = \"16\"\n",
    "universe = \"{\\\"cutoff\\\": [\\\"quantile_0.1\\\", \\\"quantile_0.25\\\"], \\\"eval_fairness_grouping\\\": [\\\"majority-minority\\\", \\\"nationality-all\\\"], \\\"exclude_features\\\": \\\"nationality\\\", \\\"exclude_subgroups\\\": \\\"drop-non-german\\\", \\\"model\\\": \\\"penalized_logreg\\\", \\\"scale\\\": \\\"do-not-scale\\\", \\\"training_size\\\": \\\"25k\\\", \\\"training_year\\\": \\\"2012_14\\\"}\"\n",
    "output_dir = \"output\"\n",
    "seed = \"2023\"\n"
   ]
  },
  {
   "cell_type": "code",
   "execution_count": 5,
   "id": "1650acaf",
   "metadata": {
    "execution": {
     "iopub.execute_input": "2025-08-05T20:58:19.292835Z",
     "iopub.status.busy": "2025-08-05T20:58:19.292345Z",
     "iopub.status.idle": "2025-08-05T20:58:19.298116Z",
     "shell.execute_reply": "2025-08-05T20:58:19.295871Z"
    },
    "papermill": {
     "duration": 0.020157,
     "end_time": "2025-08-05T20:58:19.303249",
     "exception": false,
     "start_time": "2025-08-05T20:58:19.283092",
     "status": "completed"
    },
    "tags": []
   },
   "outputs": [],
   "source": [
    "import json\n",
    "if isinstance(universe, str):\n",
    "    universe = json.loads(universe)"
   ]
  },
  {
   "cell_type": "code",
   "execution_count": 6,
   "id": "16620c48",
   "metadata": {
    "execution": {
     "iopub.execute_input": "2025-08-05T20:58:19.339250Z",
     "iopub.status.busy": "2025-08-05T20:58:19.338267Z",
     "iopub.status.idle": "2025-08-05T20:58:19.384846Z",
     "shell.execute_reply": "2025-08-05T20:58:19.383876Z"
    },
    "papermill": {
     "duration": 0.067111,
     "end_time": "2025-08-05T20:58:19.387195",
     "exception": false,
     "start_time": "2025-08-05T20:58:19.320084",
     "status": "completed"
    },
    "tags": []
   },
   "outputs": [],
   "source": [
    "# Auto-reload the custom package\n",
    "%load_ext autoreload\n",
    "%autoreload 1\n",
    "%aimport fairness_multiverse"
   ]
  },
  {
   "cell_type": "code",
   "execution_count": 7,
   "id": "01c5c9f3",
   "metadata": {
    "execution": {
     "iopub.execute_input": "2025-08-05T20:58:19.424394Z",
     "iopub.status.busy": "2025-08-05T20:58:19.423467Z",
     "iopub.status.idle": "2025-08-05T20:58:20.787715Z",
     "shell.execute_reply": "2025-08-05T20:58:20.786667Z"
    },
    "papermill": {
     "duration": 1.384512,
     "end_time": "2025-08-05T20:58:20.789639",
     "exception": false,
     "start_time": "2025-08-05T20:58:19.405127",
     "status": "completed"
    },
    "tags": []
   },
   "outputs": [],
   "source": [
    "from fairness_multiverse.universe import UniverseAnalysis\n",
    "\n",
    "universe_analysis = UniverseAnalysis(\n",
    "    run_no = run_no,\n",
    "    universe_id = universe_id,\n",
    "    universe = universe,\n",
    "    output_dir=output_dir,\n",
    ")"
   ]
  },
  {
   "cell_type": "code",
   "execution_count": 8,
   "id": "106241f5",
   "metadata": {
    "execution": {
     "iopub.execute_input": "2025-08-05T20:58:20.826705Z",
     "iopub.status.busy": "2025-08-05T20:58:20.825787Z",
     "iopub.status.idle": "2025-08-05T20:58:20.832455Z",
     "shell.execute_reply": "2025-08-05T20:58:20.831418Z"
    },
    "papermill": {
     "duration": 0.027712,
     "end_time": "2025-08-05T20:58:20.834704",
     "exception": false,
     "start_time": "2025-08-05T20:58:20.806992",
     "status": "completed"
    },
    "tags": []
   },
   "outputs": [
    {
     "name": "stdout",
     "output_type": "stream",
     "text": [
      "Using Seed: 2023\n"
     ]
    }
   ],
   "source": [
    "import numpy as np\n",
    "parsed_seed = int(seed)\n",
    "np.random.seed(parsed_seed)\n",
    "print(f\"Using Seed: {parsed_seed}\")"
   ]
  },
  {
   "cell_type": "markdown",
   "id": "e0ebdc57",
   "metadata": {
    "papermill": {
     "duration": 0.02097,
     "end_time": "2025-08-05T20:58:20.875288",
     "exception": false,
     "start_time": "2025-08-05T20:58:20.854318",
     "status": "completed"
    },
    "tags": []
   },
   "source": [
    "# Loading Data"
   ]
  },
  {
   "cell_type": "code",
   "execution_count": 9,
   "id": "f0496b8a",
   "metadata": {
    "execution": {
     "iopub.execute_input": "2025-08-05T20:58:20.915251Z",
     "iopub.status.busy": "2025-08-05T20:58:20.914286Z",
     "iopub.status.idle": "2025-08-05T20:58:29.870599Z",
     "shell.execute_reply": "2025-08-05T20:58:29.869720Z"
    },
    "papermill": {
     "duration": 8.988669,
     "end_time": "2025-08-05T20:58:29.883440",
     "exception": false,
     "start_time": "2025-08-05T20:58:20.894771",
     "status": "completed"
    },
    "tags": []
   },
   "outputs": [
    {
     "name": "stdout",
     "output_type": "stream",
     "text": [
      "Loading SIAB data from cache: data/siab_cached.csv.gz\n"
     ]
    },
    {
     "name": "stdout",
     "output_type": "stream",
     "text": [
      "(643690, 164)\n"
     ]
    }
   ],
   "source": [
    "from pathlib import Path\n",
    "import pandas as pd\n",
    "\n",
    "# File paths\n",
    "raw_file = Path(\"data/raw/siab.csv\")\n",
    "cache_file = Path(\"data/siab_cached.csv.gz\")\n",
    "\n",
    "# Ensure cache directory exists\n",
    "cache_file.parent.mkdir(parents=True, exist_ok=True)\n",
    "\n",
    "# Load with simple caching\n",
    "if cache_file.exists():\n",
    "    print(f\"Loading SIAB data from cache: {cache_file}\")\n",
    "    siab = pd.read_csv(cache_file, compression='gzip')\n",
    "else:\n",
    "    print(f\"Cache not found. Reading raw SIAB data: {raw_file}\")\n",
    "    siab = pd.read_csv(raw_file)\n",
    "    siab.to_csv(cache_file, index=False, compression='gzip')\n",
    "    print(f\"Cached SIAB data to: {cache_file}\")\n",
    "\n",
    "print(siab.shape)"
   ]
  },
  {
   "cell_type": "code",
   "execution_count": 10,
   "id": "db0ca512-5f53-4dba-abdb-a2888bca41ba",
   "metadata": {
    "execution": {
     "iopub.execute_input": "2025-08-05T20:58:29.936622Z",
     "iopub.status.busy": "2025-08-05T20:58:29.935626Z",
     "iopub.status.idle": "2025-08-05T20:58:29.941175Z",
     "shell.execute_reply": "2025-08-05T20:58:29.940167Z"
    },
    "papermill": {
     "duration": 0.026062,
     "end_time": "2025-08-05T20:58:29.943118",
     "exception": false,
     "start_time": "2025-08-05T20:58:29.917056",
     "status": "completed"
    },
    "tags": []
   },
   "outputs": [],
   "source": [
    "#siab"
   ]
  },
  {
   "cell_type": "markdown",
   "id": "997051c5-15bd-4b69-9786-c3001a3ce484",
   "metadata": {
    "papermill": {
     "duration": 0.020564,
     "end_time": "2025-08-05T20:58:29.984539",
     "exception": false,
     "start_time": "2025-08-05T20:58:29.963975",
     "status": "completed"
    },
    "tags": []
   },
   "source": [
    "# Splitting Data and Setting Training Data Size"
   ]
  },
  {
   "cell_type": "code",
   "execution_count": 11,
   "id": "aea9c6ef-6f46-42c8-85eb-5a62025c1508",
   "metadata": {
    "execution": {
     "iopub.execute_input": "2025-08-05T20:58:30.018494Z",
     "iopub.status.busy": "2025-08-05T20:58:30.017993Z",
     "iopub.status.idle": "2025-08-05T20:58:30.692558Z",
     "shell.execute_reply": "2025-08-05T20:58:30.691510Z"
    },
    "papermill": {
     "duration": 0.690164,
     "end_time": "2025-08-05T20:58:30.694539",
     "exception": false,
     "start_time": "2025-08-05T20:58:30.004375",
     "status": "completed"
    },
    "tags": []
   },
   "outputs": [],
   "source": [
    "from fairness_multiverse.universe import sample_by_year_size\n",
    "\n",
    "siab_train = sample_by_year_size(siab,\n",
    "                               training_year=universe[\"training_year\"],\n",
    "                               training_size=universe[\"training_size\"])"
   ]
  },
  {
   "cell_type": "code",
   "execution_count": 12,
   "id": "8d3afb32-789d-442c-8d5d-9f5aa8dd2eed",
   "metadata": {
    "execution": {
     "iopub.execute_input": "2025-08-05T20:58:30.732869Z",
     "iopub.status.busy": "2025-08-05T20:58:30.732409Z",
     "iopub.status.idle": "2025-08-05T20:58:30.737903Z",
     "shell.execute_reply": "2025-08-05T20:58:30.736825Z"
    },
    "papermill": {
     "duration": 0.024768,
     "end_time": "2025-08-05T20:58:30.739720",
     "exception": false,
     "start_time": "2025-08-05T20:58:30.714952",
     "status": "completed"
    },
    "tags": []
   },
   "outputs": [],
   "source": [
    "#siab_train.shape"
   ]
  },
  {
   "cell_type": "code",
   "execution_count": 13,
   "id": "d582db68-1a4c-47fb-84fc-08518dc1975a",
   "metadata": {
    "execution": {
     "iopub.execute_input": "2025-08-05T20:58:30.779340Z",
     "iopub.status.busy": "2025-08-05T20:58:30.778569Z",
     "iopub.status.idle": "2025-08-05T20:58:30.784039Z",
     "shell.execute_reply": "2025-08-05T20:58:30.783082Z"
    },
    "papermill": {
     "duration": 0.025012,
     "end_time": "2025-08-05T20:58:30.786073",
     "exception": false,
     "start_time": "2025-08-05T20:58:30.761061",
     "status": "completed"
    },
    "tags": []
   },
   "outputs": [],
   "source": [
    "#display(siab_train.groupby(\"year\").size())"
   ]
  },
  {
   "cell_type": "code",
   "execution_count": 14,
   "id": "a561edb4-d032-42cb-8256-22eac1111c64",
   "metadata": {
    "execution": {
     "iopub.execute_input": "2025-08-05T20:58:30.826225Z",
     "iopub.status.busy": "2025-08-05T20:58:30.825915Z",
     "iopub.status.idle": "2025-08-05T20:58:31.062551Z",
     "shell.execute_reply": "2025-08-05T20:58:31.061751Z"
    },
    "papermill": {
     "duration": 0.256437,
     "end_time": "2025-08-05T20:58:31.064455",
     "exception": false,
     "start_time": "2025-08-05T20:58:30.808018",
     "status": "completed"
    },
    "tags": []
   },
   "outputs": [],
   "source": [
    "#siab_train = siab_s[siab_s.year < 2015]\n",
    "siab_calib = siab[siab.year == 2015]\n",
    "siab_test = siab[siab.year == 2016]"
   ]
  },
  {
   "cell_type": "code",
   "execution_count": 15,
   "id": "472de16f-c3db-4916-846b-1f0de9cf1746",
   "metadata": {
    "execution": {
     "iopub.execute_input": "2025-08-05T20:58:31.102562Z",
     "iopub.status.busy": "2025-08-05T20:58:31.101551Z",
     "iopub.status.idle": "2025-08-05T20:58:31.117677Z",
     "shell.execute_reply": "2025-08-05T20:58:31.116328Z"
    },
    "papermill": {
     "duration": 0.037625,
     "end_time": "2025-08-05T20:58:31.120204",
     "exception": false,
     "start_time": "2025-08-05T20:58:31.082579",
     "status": "completed"
    },
    "tags": []
   },
   "outputs": [],
   "source": [
    "X_train = siab_train.iloc[:,4:164]\n",
    "y_train = siab_train.iloc[:, [3]]"
   ]
  },
  {
   "cell_type": "code",
   "execution_count": 16,
   "id": "828c96af-f43a-4ed6-ba47-8ac73a47d56c",
   "metadata": {
    "execution": {
     "iopub.execute_input": "2025-08-05T20:58:31.178102Z",
     "iopub.status.busy": "2025-08-05T20:58:31.177040Z",
     "iopub.status.idle": "2025-08-05T20:58:31.242693Z",
     "shell.execute_reply": "2025-08-05T20:58:31.241320Z"
    },
    "papermill": {
     "duration": 0.096079,
     "end_time": "2025-08-05T20:58:31.244694",
     "exception": false,
     "start_time": "2025-08-05T20:58:31.148615",
     "status": "completed"
    },
    "tags": []
   },
   "outputs": [],
   "source": [
    "X_calib = siab_calib.iloc[:,4:164]\n",
    "y_calib = siab_calib.iloc[:, [3]]"
   ]
  },
  {
   "cell_type": "code",
   "execution_count": 17,
   "id": "c34be9c3-6bd6-476e-acd3-845840e303be",
   "metadata": {
    "execution": {
     "iopub.execute_input": "2025-08-05T20:58:31.285959Z",
     "iopub.status.busy": "2025-08-05T20:58:31.284778Z",
     "iopub.status.idle": "2025-08-05T20:58:31.364476Z",
     "shell.execute_reply": "2025-08-05T20:58:31.363074Z"
    },
    "papermill": {
     "duration": 0.102094,
     "end_time": "2025-08-05T20:58:31.366635",
     "exception": false,
     "start_time": "2025-08-05T20:58:31.264541",
     "status": "completed"
    },
    "tags": []
   },
   "outputs": [],
   "source": [
    "X_test = siab_test.iloc[:,4:164]\n",
    "y_true = siab_test.iloc[:, [3]]"
   ]
  },
  {
   "cell_type": "code",
   "execution_count": 18,
   "id": "e6c733c5",
   "metadata": {
    "execution": {
     "iopub.execute_input": "2025-08-05T20:58:31.407363Z",
     "iopub.status.busy": "2025-08-05T20:58:31.406347Z",
     "iopub.status.idle": "2025-08-05T20:58:31.507647Z",
     "shell.execute_reply": "2025-08-05T20:58:31.506533Z"
    },
    "papermill": {
     "duration": 0.123941,
     "end_time": "2025-08-05T20:58:31.510259",
     "exception": false,
     "start_time": "2025-08-05T20:58:31.386318",
     "status": "completed"
    },
    "tags": []
   },
   "outputs": [],
   "source": [
    "# Auxiliary data needed downstream in the pipeline\n",
    "\n",
    "org_train = X_train.copy()\n",
    "org_test = X_test.copy()\n",
    "org_calib = X_calib.copy()"
   ]
  },
  {
   "cell_type": "markdown",
   "id": "0a4a1b33",
   "metadata": {
    "papermill": {
     "duration": 0.027914,
     "end_time": "2025-08-05T20:58:31.563203",
     "exception": false,
     "start_time": "2025-08-05T20:58:31.535289",
     "status": "completed"
    },
    "tags": []
   },
   "source": [
    "# Preprocessing Data"
   ]
  },
  {
   "cell_type": "code",
   "execution_count": 19,
   "id": "ca879031",
   "metadata": {
    "execution": {
     "iopub.execute_input": "2025-08-05T20:58:31.614800Z",
     "iopub.status.busy": "2025-08-05T20:58:31.614365Z",
     "iopub.status.idle": "2025-08-05T20:58:31.621257Z",
     "shell.execute_reply": "2025-08-05T20:58:31.619881Z"
    },
    "papermill": {
     "duration": 0.033054,
     "end_time": "2025-08-05T20:58:31.623598",
     "exception": false,
     "start_time": "2025-08-05T20:58:31.590544",
     "status": "completed"
    },
    "tags": []
   },
   "outputs": [],
   "source": [
    "# EXCLUDE PROTECTED FEATURES\n",
    "# ----------------------\n",
    "# \"exclude_features\": \"none\", # \"nationality\", \"sex\", \"nationality-sex\"\n",
    "\n",
    "excluded_features = universe[\"exclude_features\"].split(\"-\") # split, e.g.: \"nationality-sex\" -> [\"nationality\", \"sex\"]\n",
    "excluded_features_dictionary = {\n",
    "    \"nationality\": [\"maxdeutsch1\", \"maxdeutsch.Missing.\"],\n",
    "    \"sex\": [\"frau1\"],\n",
    "    \"age\": [\"age\"],\n",
    "}"
   ]
  },
  {
   "cell_type": "code",
   "execution_count": 20,
   "id": "b745ac60",
   "metadata": {
    "execution": {
     "iopub.execute_input": "2025-08-05T20:58:31.672918Z",
     "iopub.status.busy": "2025-08-05T20:58:31.672315Z",
     "iopub.status.idle": "2025-08-05T20:58:31.679402Z",
     "shell.execute_reply": "2025-08-05T20:58:31.677904Z"
    },
    "papermill": {
     "duration": 0.035179,
     "end_time": "2025-08-05T20:58:31.681881",
     "exception": false,
     "start_time": "2025-08-05T20:58:31.646702",
     "status": "completed"
    },
    "tags": []
   },
   "outputs": [],
   "source": [
    "# Code nice names to column names\n",
    "\n",
    "excluded_features_columns = [\n",
    "    excluded_features_dictionary[f] for f in excluded_features if len(f) > 0 and f != \"none\"\n",
    "]"
   ]
  },
  {
   "cell_type": "code",
   "execution_count": 21,
   "id": "f84f73a2",
   "metadata": {
    "execution": {
     "iopub.execute_input": "2025-08-05T20:58:31.742573Z",
     "iopub.status.busy": "2025-08-05T20:58:31.742210Z",
     "iopub.status.idle": "2025-08-05T20:58:31.748276Z",
     "shell.execute_reply": "2025-08-05T20:58:31.747438Z"
    },
    "papermill": {
     "duration": 0.03933,
     "end_time": "2025-08-05T20:58:31.749986",
     "exception": false,
     "start_time": "2025-08-05T20:58:31.710656",
     "status": "completed"
    },
    "tags": []
   },
   "outputs": [],
   "source": [
    "from utils import flatten_once\n",
    "\n",
    "excluded_features_columns = flatten_once(excluded_features_columns)"
   ]
  },
  {
   "cell_type": "code",
   "execution_count": 22,
   "id": "884dea22",
   "metadata": {
    "execution": {
     "iopub.execute_input": "2025-08-05T20:58:31.773339Z",
     "iopub.status.busy": "2025-08-05T20:58:31.772890Z",
     "iopub.status.idle": "2025-08-05T20:58:31.788778Z",
     "shell.execute_reply": "2025-08-05T20:58:31.787539Z"
    },
    "papermill": {
     "duration": 0.029691,
     "end_time": "2025-08-05T20:58:31.790295",
     "exception": false,
     "start_time": "2025-08-05T20:58:31.760604",
     "status": "completed"
    },
    "tags": []
   },
   "outputs": [
    {
     "name": "stdout",
     "output_type": "stream",
     "text": [
      "Dropping features: ['maxdeutsch1', 'maxdeutsch.Missing.']\n"
     ]
    }
   ],
   "source": [
    "if len(excluded_features_columns) > 0:\n",
    "    print(f\"Dropping features: {excluded_features_columns}\")\n",
    "    X_train.drop(excluded_features_columns, axis=1, inplace=True)"
   ]
  },
  {
   "cell_type": "code",
   "execution_count": 23,
   "id": "95ab8b16",
   "metadata": {
    "execution": {
     "iopub.execute_input": "2025-08-05T20:58:31.812723Z",
     "iopub.status.busy": "2025-08-05T20:58:31.811906Z",
     "iopub.status.idle": "2025-08-05T20:58:31.884278Z",
     "shell.execute_reply": "2025-08-05T20:58:31.882904Z"
    },
    "papermill": {
     "duration": 0.084814,
     "end_time": "2025-08-05T20:58:31.885890",
     "exception": false,
     "start_time": "2025-08-05T20:58:31.801076",
     "status": "completed"
    },
    "tags": []
   },
   "outputs": [
    {
     "name": "stdout",
     "output_type": "stream",
     "text": [
      "Dropping features: ['maxdeutsch1', 'maxdeutsch.Missing.']\n"
     ]
    }
   ],
   "source": [
    "if len(excluded_features_columns) > 0:\n",
    "    print(f\"Dropping features: {excluded_features_columns}\")\n",
    "    X_test.drop(excluded_features_columns, axis=1, inplace=True)"
   ]
  },
  {
   "cell_type": "code",
   "execution_count": 24,
   "id": "1853aaf5-fb9f-46cb-a2b5-8ea4ae2237e4",
   "metadata": {
    "execution": {
     "iopub.execute_input": "2025-08-05T20:58:31.945318Z",
     "iopub.status.busy": "2025-08-05T20:58:31.944547Z",
     "iopub.status.idle": "2025-08-05T20:58:31.998847Z",
     "shell.execute_reply": "2025-08-05T20:58:31.997539Z"
    },
    "papermill": {
     "duration": 0.088446,
     "end_time": "2025-08-05T20:58:32.003316",
     "exception": false,
     "start_time": "2025-08-05T20:58:31.914870",
     "status": "completed"
    },
    "tags": []
   },
   "outputs": [
    {
     "name": "stdout",
     "output_type": "stream",
     "text": [
      "Dropping features: ['maxdeutsch1', 'maxdeutsch.Missing.']\n"
     ]
    }
   ],
   "source": [
    "if len(excluded_features_columns) > 0:\n",
    "    print(f\"Dropping features: {excluded_features_columns}\")\n",
    "    X_calib.drop(excluded_features_columns, axis=1, inplace=True)"
   ]
  },
  {
   "cell_type": "code",
   "execution_count": 25,
   "id": "76c4dc6d",
   "metadata": {
    "execution": {
     "iopub.execute_input": "2025-08-05T20:58:32.061883Z",
     "iopub.status.busy": "2025-08-05T20:58:32.061113Z",
     "iopub.status.idle": "2025-08-05T20:58:32.068604Z",
     "shell.execute_reply": "2025-08-05T20:58:32.067576Z"
    },
    "papermill": {
     "duration": 0.039581,
     "end_time": "2025-08-05T20:58:32.071330",
     "exception": false,
     "start_time": "2025-08-05T20:58:32.031749",
     "status": "completed"
    },
    "tags": []
   },
   "outputs": [],
   "source": [
    "# EXCLUDE CERTAIN SUBGROUPS\n",
    "# ----------------------\n",
    "\n",
    "mode = universe.get(\"exclude_subgroups\", \"keep-all\") \n",
    "# Fetches the exclude_subgroups setting from the universe dict.\n",
    "# Defaults to \"keep-all\" if the key is missing."
   ]
  },
  {
   "cell_type": "code",
   "execution_count": 26,
   "id": "21994072",
   "metadata": {
    "execution": {
     "iopub.execute_input": "2025-08-05T20:58:32.121585Z",
     "iopub.status.busy": "2025-08-05T20:58:32.121044Z",
     "iopub.status.idle": "2025-08-05T20:58:32.128189Z",
     "shell.execute_reply": "2025-08-05T20:58:32.127291Z"
    },
    "papermill": {
     "duration": 0.030378,
     "end_time": "2025-08-05T20:58:32.129896",
     "exception": false,
     "start_time": "2025-08-05T20:58:32.099518",
     "status": "completed"
    },
    "tags": []
   },
   "outputs": [],
   "source": [
    "if mode == \"keep-all\":\n",
    "    keep_mask = pd.Series(True, index=org_train.index)\n",
    "\n",
    "# org_train contains the original feature columns from features_org (in Simson)\n",
    "# features_org contains unprocessed features, for me X_train at beginning ???\n",
    "# For keep-all, creates a boolean Series (keep_mask) of all True, so no rows are removed.\n",
    "\n",
    "elif mode == \"drop-non-german\":\n",
    "    keep_mask = org_train[\"maxdeutsch1\"] == 1 # ??? what about missing values?\n",
    "\n",
    "else:\n",
    "    raise ValueError(f\"Unsupported mode for exclude_subgroups: {mode}\")"
   ]
  },
  {
   "cell_type": "code",
   "execution_count": 27,
   "id": "71651440",
   "metadata": {
    "execution": {
     "iopub.execute_input": "2025-08-05T20:58:32.177324Z",
     "iopub.status.busy": "2025-08-05T20:58:32.176895Z",
     "iopub.status.idle": "2025-08-05T20:58:32.184903Z",
     "shell.execute_reply": "2025-08-05T20:58:32.183864Z"
    },
    "papermill": {
     "duration": 0.030922,
     "end_time": "2025-08-05T20:58:32.187036",
     "exception": false,
     "start_time": "2025-08-05T20:58:32.156114",
     "status": "completed"
    },
    "tags": []
   },
   "outputs": [
    {
     "name": "stdout",
     "output_type": "stream",
     "text": [
      "Dropping 3481 rows (13.92%) where mode='drop-non-german'\n"
     ]
    }
   ],
   "source": [
    "n_drop = (~keep_mask).sum() # Calculates how many rows are set to be dropped\n",
    "if n_drop > 0:\n",
    "    pct = n_drop / len(keep_mask) * 100\n",
    "    print(f\"Dropping {n_drop} rows ({pct:.2f}%) where mode='{mode}'\")"
   ]
  },
  {
   "cell_type": "code",
   "execution_count": 28,
   "id": "5fb8eee5",
   "metadata": {
    "execution": {
     "iopub.execute_input": "2025-08-05T20:58:32.229874Z",
     "iopub.status.busy": "2025-08-05T20:58:32.228876Z",
     "iopub.status.idle": "2025-08-05T20:58:32.254196Z",
     "shell.execute_reply": "2025-08-05T20:58:32.253038Z"
    },
    "papermill": {
     "duration": 0.048246,
     "end_time": "2025-08-05T20:58:32.256416",
     "exception": false,
     "start_time": "2025-08-05T20:58:32.208170",
     "status": "completed"
    },
    "tags": []
   },
   "outputs": [],
   "source": [
    "X_train = X_train[keep_mask]"
   ]
  },
  {
   "cell_type": "code",
   "execution_count": 29,
   "id": "b202bb3a",
   "metadata": {
    "execution": {
     "iopub.execute_input": "2025-08-05T20:58:32.302606Z",
     "iopub.status.busy": "2025-08-05T20:58:32.301649Z",
     "iopub.status.idle": "2025-08-05T20:58:32.308508Z",
     "shell.execute_reply": "2025-08-05T20:58:32.307450Z"
    },
    "papermill": {
     "duration": 0.032322,
     "end_time": "2025-08-05T20:58:32.310503",
     "exception": false,
     "start_time": "2025-08-05T20:58:32.278181",
     "status": "completed"
    },
    "tags": []
   },
   "outputs": [],
   "source": [
    "y_train = y_train[keep_mask]"
   ]
  },
  {
   "cell_type": "markdown",
   "id": "493e2ac3",
   "metadata": {
    "papermill": {
     "duration": 0.029874,
     "end_time": "2025-08-05T20:58:32.362391",
     "exception": false,
     "start_time": "2025-08-05T20:58:32.332517",
     "status": "completed"
    },
    "tags": []
   },
   "source": [
    "# Model Training"
   ]
  },
  {
   "cell_type": "code",
   "execution_count": 30,
   "id": "679e1268",
   "metadata": {
    "execution": {
     "iopub.execute_input": "2025-08-05T20:58:32.421507Z",
     "iopub.status.busy": "2025-08-05T20:58:32.421007Z",
     "iopub.status.idle": "2025-08-05T20:58:32.528787Z",
     "shell.execute_reply": "2025-08-05T20:58:32.527632Z"
    },
    "papermill": {
     "duration": 0.137953,
     "end_time": "2025-08-05T20:58:32.531703",
     "exception": false,
     "start_time": "2025-08-05T20:58:32.393750",
     "status": "completed"
    },
    "tags": []
   },
   "outputs": [],
   "source": [
    "from sklearn.linear_model import LogisticRegression\n",
    "from sklearn.ensemble import GradientBoostingClassifier, RandomForestClassifier\n",
    "\n",
    "if (universe[\"model\"] == \"logreg\"):\n",
    "    model = LogisticRegression() #penalty=\"none\", solver=\"newton-cg\", max_iter=1) # include random_state=19 ?\n",
    "elif (universe[\"model\"] == \"penalized_logreg\"):\n",
    "    model = LogisticRegression(penalty=\"l2\", C=0.1) #, solver=\"newton-cg\", max_iter=1)\n",
    "elif (universe[\"model\"] == \"rf\"):\n",
    "    model = RandomForestClassifier() # n_estimators=100, n_jobs=-1\n",
    "elif (universe[\"model\"] == \"gbm\"):\n",
    "    model = GradientBoostingClassifier()\n",
    "elif (universe[\"model\"] == \"elasticnet\"):\n",
    "    model = LogisticRegression(penalty = 'elasticnet', solver = 'saga', l1_ratio = 0.5) # max_iter=5000\n",
    "else:\n",
    "    raise \"Unsupported universe.model\""
   ]
  },
  {
   "cell_type": "code",
   "execution_count": 31,
   "id": "0cc8f744",
   "metadata": {
    "execution": {
     "iopub.execute_input": "2025-08-05T20:58:32.574643Z",
     "iopub.status.busy": "2025-08-05T20:58:32.573936Z",
     "iopub.status.idle": "2025-08-05T20:58:32.581337Z",
     "shell.execute_reply": "2025-08-05T20:58:32.580276Z"
    },
    "papermill": {
     "duration": 0.031967,
     "end_time": "2025-08-05T20:58:32.583539",
     "exception": false,
     "start_time": "2025-08-05T20:58:32.551572",
     "status": "completed"
    },
    "tags": []
   },
   "outputs": [],
   "source": [
    "import numpy as np\n",
    "from sklearn.pipeline import Pipeline\n",
    "from sklearn.preprocessing import StandardScaler\n",
    "\n",
    "model = Pipeline([\n",
    "    #(\"continuous_processor\", continuous_processor),\n",
    "    #(\"categorical_preprocessor\", categorical_preprocessor),\n",
    "    (\"scale\", StandardScaler() if universe[\"scale\"] == \"scale\" else None), \n",
    "    (\"model\", model),\n",
    "])"
   ]
  },
  {
   "cell_type": "code",
   "execution_count": 32,
   "id": "9442c04d",
   "metadata": {
    "execution": {
     "iopub.execute_input": "2025-08-05T20:58:32.632669Z",
     "iopub.status.busy": "2025-08-05T20:58:32.631737Z",
     "iopub.status.idle": "2025-08-05T20:58:33.204363Z",
     "shell.execute_reply": "2025-08-05T20:58:33.203149Z"
    },
    "papermill": {
     "duration": 0.594812,
     "end_time": "2025-08-05T20:58:33.206132",
     "exception": false,
     "start_time": "2025-08-05T20:58:32.611320",
     "status": "completed"
    },
    "tags": []
   },
   "outputs": [
    {
     "name": "stderr",
     "output_type": "stream",
     "text": [
      "/dss/dsshome1/0C/ra93lal2/.local/share/virtualenvs/CMA_Fairness_v2-3j10GkSs/lib/python3.10/site-packages/sklearn/linear_model/_logistic.py:444: ConvergenceWarning: lbfgs failed to converge (status=1):\n",
      "STOP: TOTAL NO. of ITERATIONS REACHED LIMIT.\n",
      "\n",
      "Increase the number of iterations (max_iter) or scale the data as shown in:\n",
      "    https://scikit-learn.org/stable/modules/preprocessing.html\n",
      "Please also refer to the documentation for alternative solver options:\n",
      "    https://scikit-learn.org/stable/modules/linear_model.html#logistic-regression\n",
      "  n_iter_i = _check_optimize_result(\n"
     ]
    },
    {
     "data": {
      "text/html": [
       "<style>#sk-container-id-1 {color: black;background-color: white;}#sk-container-id-1 pre{padding: 0;}#sk-container-id-1 div.sk-toggleable {background-color: white;}#sk-container-id-1 label.sk-toggleable__label {cursor: pointer;display: block;width: 100%;margin-bottom: 0;padding: 0.3em;box-sizing: border-box;text-align: center;}#sk-container-id-1 label.sk-toggleable__label-arrow:before {content: \"▸\";float: left;margin-right: 0.25em;color: #696969;}#sk-container-id-1 label.sk-toggleable__label-arrow:hover:before {color: black;}#sk-container-id-1 div.sk-estimator:hover label.sk-toggleable__label-arrow:before {color: black;}#sk-container-id-1 div.sk-toggleable__content {max-height: 0;max-width: 0;overflow: hidden;text-align: left;background-color: #f0f8ff;}#sk-container-id-1 div.sk-toggleable__content pre {margin: 0.2em;color: black;border-radius: 0.25em;background-color: #f0f8ff;}#sk-container-id-1 input.sk-toggleable__control:checked~div.sk-toggleable__content {max-height: 200px;max-width: 100%;overflow: auto;}#sk-container-id-1 input.sk-toggleable__control:checked~label.sk-toggleable__label-arrow:before {content: \"▾\";}#sk-container-id-1 div.sk-estimator input.sk-toggleable__control:checked~label.sk-toggleable__label {background-color: #d4ebff;}#sk-container-id-1 div.sk-label input.sk-toggleable__control:checked~label.sk-toggleable__label {background-color: #d4ebff;}#sk-container-id-1 input.sk-hidden--visually {border: 0;clip: rect(1px 1px 1px 1px);clip: rect(1px, 1px, 1px, 1px);height: 1px;margin: -1px;overflow: hidden;padding: 0;position: absolute;width: 1px;}#sk-container-id-1 div.sk-estimator {font-family: monospace;background-color: #f0f8ff;border: 1px dotted black;border-radius: 0.25em;box-sizing: border-box;margin-bottom: 0.5em;}#sk-container-id-1 div.sk-estimator:hover {background-color: #d4ebff;}#sk-container-id-1 div.sk-parallel-item::after {content: \"\";width: 100%;border-bottom: 1px solid gray;flex-grow: 1;}#sk-container-id-1 div.sk-label:hover label.sk-toggleable__label {background-color: #d4ebff;}#sk-container-id-1 div.sk-serial::before {content: \"\";position: absolute;border-left: 1px solid gray;box-sizing: border-box;top: 0;bottom: 0;left: 50%;z-index: 0;}#sk-container-id-1 div.sk-serial {display: flex;flex-direction: column;align-items: center;background-color: white;padding-right: 0.2em;padding-left: 0.2em;position: relative;}#sk-container-id-1 div.sk-item {position: relative;z-index: 1;}#sk-container-id-1 div.sk-parallel {display: flex;align-items: stretch;justify-content: center;background-color: white;position: relative;}#sk-container-id-1 div.sk-item::before, #sk-container-id-1 div.sk-parallel-item::before {content: \"\";position: absolute;border-left: 1px solid gray;box-sizing: border-box;top: 0;bottom: 0;left: 50%;z-index: -1;}#sk-container-id-1 div.sk-parallel-item {display: flex;flex-direction: column;z-index: 1;position: relative;background-color: white;}#sk-container-id-1 div.sk-parallel-item:first-child::after {align-self: flex-end;width: 50%;}#sk-container-id-1 div.sk-parallel-item:last-child::after {align-self: flex-start;width: 50%;}#sk-container-id-1 div.sk-parallel-item:only-child::after {width: 0;}#sk-container-id-1 div.sk-dashed-wrapped {border: 1px dashed gray;margin: 0 0.4em 0.5em 0.4em;box-sizing: border-box;padding-bottom: 0.4em;background-color: white;}#sk-container-id-1 div.sk-label label {font-family: monospace;font-weight: bold;display: inline-block;line-height: 1.2em;}#sk-container-id-1 div.sk-label-container {text-align: center;}#sk-container-id-1 div.sk-container {/* jupyter's `normalize.less` sets `[hidden] { display: none; }` but bootstrap.min.css set `[hidden] { display: none !important; }` so we also need the `!important` here to be able to override the default hidden behavior on the sphinx rendered scikit-learn.org. See: https://github.com/scikit-learn/scikit-learn/issues/21755 */display: inline-block !important;position: relative;}#sk-container-id-1 div.sk-text-repr-fallback {display: none;}</style><div id=\"sk-container-id-1\" class=\"sk-top-container\"><div class=\"sk-text-repr-fallback\"><pre>Pipeline(steps=[(&#x27;scale&#x27;, None), (&#x27;model&#x27;, LogisticRegression(C=0.1))])</pre><b>In a Jupyter environment, please rerun this cell to show the HTML representation or trust the notebook. <br />On GitHub, the HTML representation is unable to render, please try loading this page with nbviewer.org.</b></div><div class=\"sk-container\" hidden><div class=\"sk-item sk-dashed-wrapped\"><div class=\"sk-label-container\"><div class=\"sk-label sk-toggleable\"><input class=\"sk-toggleable__control sk-hidden--visually\" id=\"sk-estimator-id-1\" type=\"checkbox\" ><label for=\"sk-estimator-id-1\" class=\"sk-toggleable__label sk-toggleable__label-arrow\">Pipeline</label><div class=\"sk-toggleable__content\"><pre>Pipeline(steps=[(&#x27;scale&#x27;, None), (&#x27;model&#x27;, LogisticRegression(C=0.1))])</pre></div></div></div><div class=\"sk-serial\"><div class=\"sk-item\"><div class=\"sk-estimator sk-toggleable\"><input class=\"sk-toggleable__control sk-hidden--visually\" id=\"sk-estimator-id-2\" type=\"checkbox\" ><label for=\"sk-estimator-id-2\" class=\"sk-toggleable__label sk-toggleable__label-arrow\">None</label><div class=\"sk-toggleable__content\"><pre>None</pre></div></div></div><div class=\"sk-item\"><div class=\"sk-estimator sk-toggleable\"><input class=\"sk-toggleable__control sk-hidden--visually\" id=\"sk-estimator-id-3\" type=\"checkbox\" ><label for=\"sk-estimator-id-3\" class=\"sk-toggleable__label sk-toggleable__label-arrow\">LogisticRegression</label><div class=\"sk-toggleable__content\"><pre>LogisticRegression(C=0.1)</pre></div></div></div></div></div></div></div>"
      ],
      "text/plain": [
       "Pipeline(steps=[('scale', None), ('model', LogisticRegression(C=0.1))])"
      ]
     },
     "execution_count": 32,
     "metadata": {},
     "output_type": "execute_result"
    }
   ],
   "source": [
    "model.fit(X_train, y_train.values.ravel())"
   ]
  },
  {
   "cell_type": "code",
   "execution_count": 33,
   "id": "af59f8c0",
   "metadata": {
    "execution": {
     "iopub.execute_input": "2025-08-05T20:58:33.248005Z",
     "iopub.status.busy": "2025-08-05T20:58:33.247551Z",
     "iopub.status.idle": "2025-08-05T20:58:33.253394Z",
     "shell.execute_reply": "2025-08-05T20:58:33.252333Z"
    },
    "papermill": {
     "duration": 0.02861,
     "end_time": "2025-08-05T20:58:33.255287",
     "exception": false,
     "start_time": "2025-08-05T20:58:33.226677",
     "status": "completed"
    },
    "tags": []
   },
   "outputs": [],
   "source": [
    "from fairness_multiverse.universe import predict_w_threshold"
   ]
  },
  {
   "cell_type": "code",
   "execution_count": 34,
   "id": "a7cf2e16",
   "metadata": {
    "execution": {
     "iopub.execute_input": "2025-08-05T20:58:33.298641Z",
     "iopub.status.busy": "2025-08-05T20:58:33.297885Z",
     "iopub.status.idle": "2025-08-05T20:58:33.394789Z",
     "shell.execute_reply": "2025-08-05T20:58:33.393853Z"
    },
    "papermill": {
     "duration": 0.120083,
     "end_time": "2025-08-05T20:58:33.396489",
     "exception": false,
     "start_time": "2025-08-05T20:58:33.276406",
     "status": "completed"
    },
    "tags": []
   },
   "outputs": [
    {
     "data": {
      "text/plain": [
       "0.860851633039795"
      ]
     },
     "execution_count": 34,
     "metadata": {},
     "output_type": "execute_result"
    }
   ],
   "source": [
    "probs_test = model.predict_proba(X_test)\n",
    "\n",
    "'''\n",
    "Below code returns a boolean array (or binary 0/1 array depending on how it’s used) where each element \n",
    "is True if the probability of class 1 is greater than or equal to the threshold, and False otherwise.\n",
    "'''\n",
    "y_pred_default = predict_w_threshold(probs_test, 0.5)\n",
    "\n",
    "from sklearn.metrics import accuracy_score\n",
    "\n",
    "# Naive prediction\n",
    "accuracy_score(y_true = y_true, y_pred = y_pred_default)"
   ]
  },
  {
   "cell_type": "code",
   "execution_count": 35,
   "id": "081964c3",
   "metadata": {
    "execution": {
     "iopub.execute_input": "2025-08-05T20:58:33.438172Z",
     "iopub.status.busy": "2025-08-05T20:58:33.437379Z",
     "iopub.status.idle": "2025-08-05T20:58:33.526761Z",
     "shell.execute_reply": "2025-08-05T20:58:33.525848Z"
    },
    "papermill": {
     "duration": 0.111711,
     "end_time": "2025-08-05T20:58:33.528208",
     "exception": false,
     "start_time": "2025-08-05T20:58:33.416497",
     "status": "completed"
    },
    "tags": []
   },
   "outputs": [
    {
     "data": {
      "text/plain": [
       "array([0, 0, 0, ..., 0, 0, 0])"
      ]
     },
     "execution_count": 35,
     "metadata": {},
     "output_type": "execute_result"
    }
   ],
   "source": [
    "model.predict(X_test)"
   ]
  },
  {
   "cell_type": "markdown",
   "id": "56c9705b",
   "metadata": {
    "papermill": {
     "duration": 0.020773,
     "end_time": "2025-08-05T20:58:33.570181",
     "exception": false,
     "start_time": "2025-08-05T20:58:33.549408",
     "status": "completed"
    },
    "tags": []
   },
   "source": [
    "# Conformal Prediction"
   ]
  },
  {
   "cell_type": "code",
   "execution_count": 36,
   "id": "160ec6ff",
   "metadata": {
    "execution": {
     "iopub.execute_input": "2025-08-05T20:58:33.612407Z",
     "iopub.status.busy": "2025-08-05T20:58:33.611476Z",
     "iopub.status.idle": "2025-08-05T20:58:33.617464Z",
     "shell.execute_reply": "2025-08-05T20:58:33.616191Z"
    },
    "papermill": {
     "duration": 0.029372,
     "end_time": "2025-08-05T20:58:33.619543",
     "exception": false,
     "start_time": "2025-08-05T20:58:33.590171",
     "status": "completed"
    },
    "tags": []
   },
   "outputs": [],
   "source": [
    "# Miscoverage level for conformal prediction (10% allowed error rate => 90% target coverage)\n",
    "alpha = 0.1"
   ]
  },
  {
   "cell_type": "code",
   "execution_count": 37,
   "id": "eadf4555-3dd3-440e-8e35-f82a4ad9f855",
   "metadata": {
    "execution": {
     "iopub.execute_input": "2025-08-05T20:58:33.663627Z",
     "iopub.status.busy": "2025-08-05T20:58:33.662824Z",
     "iopub.status.idle": "2025-08-05T20:58:33.746089Z",
     "shell.execute_reply": "2025-08-05T20:58:33.745096Z"
    },
    "papermill": {
     "duration": 0.106567,
     "end_time": "2025-08-05T20:58:33.748078",
     "exception": false,
     "start_time": "2025-08-05T20:58:33.641511",
     "status": "completed"
    },
    "tags": []
   },
   "outputs": [],
   "source": [
    "probs_calib = model.predict_proba(X_calib)"
   ]
  },
  {
   "cell_type": "code",
   "execution_count": 38,
   "id": "2ed93547-6d5d-4983-9b36-1ecb300da49a",
   "metadata": {
    "execution": {
     "iopub.execute_input": "2025-08-05T20:58:33.791491Z",
     "iopub.status.busy": "2025-08-05T20:58:33.790832Z",
     "iopub.status.idle": "2025-08-05T20:58:33.797570Z",
     "shell.execute_reply": "2025-08-05T20:58:33.796331Z"
    },
    "papermill": {
     "duration": 0.031008,
     "end_time": "2025-08-05T20:58:33.799552",
     "exception": false,
     "start_time": "2025-08-05T20:58:33.768544",
     "status": "completed"
    },
    "tags": []
   },
   "outputs": [],
   "source": [
    "y_calib = y_calib.values.ravel().astype(int)"
   ]
  },
  {
   "cell_type": "code",
   "execution_count": 39,
   "id": "65d1320d-f588-4b38-9072-62af1ae97f7d",
   "metadata": {
    "execution": {
     "iopub.execute_input": "2025-08-05T20:58:33.844546Z",
     "iopub.status.busy": "2025-08-05T20:58:33.843725Z",
     "iopub.status.idle": "2025-08-05T20:58:33.852187Z",
     "shell.execute_reply": "2025-08-05T20:58:33.850931Z"
    },
    "papermill": {
     "duration": 0.033148,
     "end_time": "2025-08-05T20:58:33.854540",
     "exception": false,
     "start_time": "2025-08-05T20:58:33.821392",
     "status": "completed"
    },
    "tags": []
   },
   "outputs": [],
   "source": [
    "from fairness_multiverse.conformal import compute_nc_scores\n",
    "\n",
    "# Compute nonconformity scores on calibration set (1 - probability of true class)\n",
    "nc_scores = compute_nc_scores(probs_calib, y_calib)"
   ]
  },
  {
   "cell_type": "code",
   "execution_count": 40,
   "id": "df3b8ca3-53b7-43d5-9667-7c85da7aeda2",
   "metadata": {
    "execution": {
     "iopub.execute_input": "2025-08-05T20:58:33.902393Z",
     "iopub.status.busy": "2025-08-05T20:58:33.901507Z",
     "iopub.status.idle": "2025-08-05T20:58:33.908840Z",
     "shell.execute_reply": "2025-08-05T20:58:33.907804Z"
    },
    "papermill": {
     "duration": 0.03271,
     "end_time": "2025-08-05T20:58:33.910905",
     "exception": false,
     "start_time": "2025-08-05T20:58:33.878195",
     "status": "completed"
    },
    "tags": []
   },
   "outputs": [],
   "source": [
    "from fairness_multiverse.conformal import find_threshold\n",
    "\n",
    "# Find conformal threshold q_hat for the given alpha (split conformal method)\n",
    "q_hat = find_threshold(nc_scores, alpha)"
   ]
  },
  {
   "cell_type": "code",
   "execution_count": 41,
   "id": "4d29e6c1-0ef6-4aa4-b8fe-4fe79b0d033a",
   "metadata": {
    "execution": {
     "iopub.execute_input": "2025-08-05T20:58:33.956460Z",
     "iopub.status.busy": "2025-08-05T20:58:33.955576Z",
     "iopub.status.idle": "2025-08-05T20:58:33.962948Z",
     "shell.execute_reply": "2025-08-05T20:58:33.961954Z"
    },
    "papermill": {
     "duration": 0.031895,
     "end_time": "2025-08-05T20:58:33.964792",
     "exception": false,
     "start_time": "2025-08-05T20:58:33.932897",
     "status": "completed"
    },
    "tags": []
   },
   "outputs": [
    {
     "data": {
      "text/plain": [
       "0.6625674311734084"
      ]
     },
     "execution_count": 41,
     "metadata": {},
     "output_type": "execute_result"
    }
   ],
   "source": [
    "q_hat"
   ]
  },
  {
   "cell_type": "code",
   "execution_count": 42,
   "id": "92460794-cdac-4be2-ba28-f28c0515a6fb",
   "metadata": {
    "execution": {
     "iopub.execute_input": "2025-08-05T20:58:34.009571Z",
     "iopub.status.busy": "2025-08-05T20:58:34.008855Z",
     "iopub.status.idle": "2025-08-05T20:58:34.785502Z",
     "shell.execute_reply": "2025-08-05T20:58:34.784404Z"
    },
    "papermill": {
     "duration": 0.801806,
     "end_time": "2025-08-05T20:58:34.787818",
     "exception": false,
     "start_time": "2025-08-05T20:58:33.986012",
     "status": "completed"
    },
    "tags": []
   },
   "outputs": [],
   "source": [
    "from fairness_multiverse.conformal import predict_conformal_sets\n",
    "\n",
    "# Generate prediction sets for each test example\n",
    "pred_sets = predict_conformal_sets(model, X_test, q_hat)"
   ]
  },
  {
   "cell_type": "code",
   "execution_count": 43,
   "id": "d90c9a65-e6db-4f5d-80cd-e68fb7e46829",
   "metadata": {
    "execution": {
     "iopub.execute_input": "2025-08-05T20:58:34.858917Z",
     "iopub.status.busy": "2025-08-05T20:58:34.857798Z",
     "iopub.status.idle": "2025-08-05T20:58:34.864551Z",
     "shell.execute_reply": "2025-08-05T20:58:34.863530Z"
    },
    "papermill": {
     "duration": 0.035864,
     "end_time": "2025-08-05T20:58:34.866863",
     "exception": false,
     "start_time": "2025-08-05T20:58:34.830999",
     "status": "completed"
    },
    "tags": []
   },
   "outputs": [],
   "source": [
    "y_true = y_true.squeeze()"
   ]
  },
  {
   "cell_type": "code",
   "execution_count": 44,
   "id": "3a58a54a-1e68-46b9-927a-df01f18aebc8",
   "metadata": {
    "execution": {
     "iopub.execute_input": "2025-08-05T20:58:34.912686Z",
     "iopub.status.busy": "2025-08-05T20:58:34.912070Z",
     "iopub.status.idle": "2025-08-05T20:58:36.086559Z",
     "shell.execute_reply": "2025-08-05T20:58:36.085184Z"
    },
    "papermill": {
     "duration": 1.198965,
     "end_time": "2025-08-05T20:58:36.088983",
     "exception": false,
     "start_time": "2025-08-05T20:58:34.890018",
     "status": "completed"
    },
    "tags": []
   },
   "outputs": [],
   "source": [
    "from fairness_multiverse.conformal import evaluate_sets\n",
    "\n",
    "# Evaluate coverage and average set size on test data\n",
    "metrics = evaluate_sets(pred_sets, y_true)"
   ]
  },
  {
   "cell_type": "markdown",
   "id": "2b569c12-9aaa-4c88-98c9-bbcd0cf3ebb8",
   "metadata": {
    "papermill": {
     "duration": 0.028894,
     "end_time": "2025-08-05T20:58:36.147536",
     "exception": false,
     "start_time": "2025-08-05T20:58:36.118642",
     "status": "completed"
    },
    "tags": []
   },
   "source": [
    "# CP Metrics"
   ]
  },
  {
   "cell_type": "code",
   "execution_count": 45,
   "id": "5ce0a5cb-201f-45a0-ade5-94c7f0bd6095",
   "metadata": {
    "execution": {
     "iopub.execute_input": "2025-08-05T20:58:36.193712Z",
     "iopub.status.busy": "2025-08-05T20:58:36.193140Z",
     "iopub.status.idle": "2025-08-05T20:58:36.199899Z",
     "shell.execute_reply": "2025-08-05T20:58:36.199062Z"
    },
    "papermill": {
     "duration": 0.030324,
     "end_time": "2025-08-05T20:58:36.201390",
     "exception": false,
     "start_time": "2025-08-05T20:58:36.171066",
     "status": "completed"
    },
    "tags": []
   },
   "outputs": [
    {
     "data": {
      "text/plain": [
       "{'coverage': 0.9118715862222717, 'avg_size': 1.2151488128413779}"
      ]
     },
     "execution_count": 45,
     "metadata": {},
     "output_type": "execute_result"
    }
   ],
   "source": [
    "metrics"
   ]
  },
  {
   "cell_type": "code",
   "execution_count": 46,
   "id": "9b9a838d-31c9-430b-ae14-12baee460d17",
   "metadata": {
    "execution": {
     "iopub.execute_input": "2025-08-05T20:58:36.225039Z",
     "iopub.status.busy": "2025-08-05T20:58:36.224669Z",
     "iopub.status.idle": "2025-08-05T20:58:36.230027Z",
     "shell.execute_reply": "2025-08-05T20:58:36.229036Z"
    },
    "papermill": {
     "duration": 0.019085,
     "end_time": "2025-08-05T20:58:36.232017",
     "exception": false,
     "start_time": "2025-08-05T20:58:36.212932",
     "status": "completed"
    },
    "tags": []
   },
   "outputs": [],
   "source": [
    "example_universe = universe.copy()\n",
    "universe_training_year = example_universe.get(\"training_year\")\n",
    "universe_training_size = example_universe.get(\"training_size\")\n",
    "universe_scale = example_universe.get(\"scale\")\n",
    "universe_model = example_universe.get(\"model\")\n",
    "universe_exclude_features = example_universe.get(\"exclude_features\")\n",
    "universe_exclude_subgroups = example_universe.get(\"exclude_subgroups\")"
   ]
  },
  {
   "cell_type": "code",
   "execution_count": 47,
   "id": "f4b6a8ac-9dc0-4245-8a91-5b3b5999c4f9",
   "metadata": {
    "execution": {
     "iopub.execute_input": "2025-08-05T20:58:36.284985Z",
     "iopub.status.busy": "2025-08-05T20:58:36.284577Z",
     "iopub.status.idle": "2025-08-05T20:58:36.291040Z",
     "shell.execute_reply": "2025-08-05T20:58:36.290039Z"
    },
    "papermill": {
     "duration": 0.034531,
     "end_time": "2025-08-05T20:58:36.292917",
     "exception": false,
     "start_time": "2025-08-05T20:58:36.258386",
     "status": "completed"
    },
    "tags": []
   },
   "outputs": [],
   "source": [
    "cp_metrics_dict = {\n",
    "    \"universe_id\": [universe_id],\n",
    "    \"universe_training_year\": [universe_training_year],\n",
    "    \"universe_training_size\": [universe_training_size],\n",
    "    \"universe_scale\": [universe_scale],\n",
    "    \"universe_model\": [universe_model],\n",
    "    \"universe_exclude_features\": [universe_exclude_features],\n",
    "    \"universe_exclude_subgroups\": [universe_exclude_subgroups],\n",
    "    \"q_hat\": [q_hat],\n",
    "    \"coverage\": [metrics[\"coverage\"]],\n",
    "    \"avg_size\": [metrics[\"avg_size\"]],\n",
    "}"
   ]
  },
  {
   "cell_type": "code",
   "execution_count": 48,
   "id": "908acbb1-0371-4915-85ca-3fa520d2efe2",
   "metadata": {
    "execution": {
     "iopub.execute_input": "2025-08-05T20:58:36.334148Z",
     "iopub.status.busy": "2025-08-05T20:58:36.333625Z",
     "iopub.status.idle": "2025-08-05T20:58:36.339485Z",
     "shell.execute_reply": "2025-08-05T20:58:36.338779Z"
    },
    "papermill": {
     "duration": 0.024068,
     "end_time": "2025-08-05T20:58:36.340911",
     "exception": false,
     "start_time": "2025-08-05T20:58:36.316843",
     "status": "completed"
    },
    "tags": []
   },
   "outputs": [
    {
     "data": {
      "text/plain": [
       "{'universe_id': ['a62bfd61d32de347487c07cf3cff89c3'],\n",
       " 'universe_training_year': ['2012_14'],\n",
       " 'universe_training_size': ['25k'],\n",
       " 'universe_scale': ['do-not-scale'],\n",
       " 'universe_model': ['penalized_logreg'],\n",
       " 'universe_exclude_features': ['nationality'],\n",
       " 'universe_exclude_subgroups': ['drop-non-german'],\n",
       " 'q_hat': [0.6625674311734084],\n",
       " 'coverage': [0.9118715862222717],\n",
       " 'avg_size': [1.2151488128413779]}"
      ]
     },
     "execution_count": 48,
     "metadata": {},
     "output_type": "execute_result"
    }
   ],
   "source": [
    "cp_metrics_dict"
   ]
  },
  {
   "cell_type": "code",
   "execution_count": 49,
   "id": "33007efc-14e9-4ec6-97ac-56a455c82265",
   "metadata": {
    "execution": {
     "iopub.execute_input": "2025-08-05T20:58:36.367525Z",
     "iopub.status.busy": "2025-08-05T20:58:36.367169Z",
     "iopub.status.idle": "2025-08-05T20:58:36.372413Z",
     "shell.execute_reply": "2025-08-05T20:58:36.371639Z"
    },
    "papermill": {
     "duration": 0.019883,
     "end_time": "2025-08-05T20:58:36.373960",
     "exception": false,
     "start_time": "2025-08-05T20:58:36.354077",
     "status": "completed"
    },
    "tags": []
   },
   "outputs": [],
   "source": [
    "cp_metrics_df = pd.DataFrame(cp_metrics_dict)"
   ]
  },
  {
   "cell_type": "code",
   "execution_count": 50,
   "id": "db12611b-57b2-4910-b9d0-355adfd6e7bf",
   "metadata": {
    "execution": {
     "iopub.execute_input": "2025-08-05T20:58:36.399563Z",
     "iopub.status.busy": "2025-08-05T20:58:36.399042Z",
     "iopub.status.idle": "2025-08-05T20:58:36.414013Z",
     "shell.execute_reply": "2025-08-05T20:58:36.412875Z"
    },
    "papermill": {
     "duration": 0.02882,
     "end_time": "2025-08-05T20:58:36.415422",
     "exception": false,
     "start_time": "2025-08-05T20:58:36.386602",
     "status": "completed"
    },
    "tags": []
   },
   "outputs": [
    {
     "data": {
      "text/html": [
       "<div>\n",
       "<style scoped>\n",
       "    .dataframe tbody tr th:only-of-type {\n",
       "        vertical-align: middle;\n",
       "    }\n",
       "\n",
       "    .dataframe tbody tr th {\n",
       "        vertical-align: top;\n",
       "    }\n",
       "\n",
       "    .dataframe thead th {\n",
       "        text-align: right;\n",
       "    }\n",
       "</style>\n",
       "<table border=\"1\" class=\"dataframe\">\n",
       "  <thead>\n",
       "    <tr style=\"text-align: right;\">\n",
       "      <th></th>\n",
       "      <th>universe_id</th>\n",
       "      <th>universe_training_year</th>\n",
       "      <th>universe_training_size</th>\n",
       "      <th>universe_scale</th>\n",
       "      <th>universe_model</th>\n",
       "      <th>universe_exclude_features</th>\n",
       "      <th>universe_exclude_subgroups</th>\n",
       "      <th>q_hat</th>\n",
       "      <th>coverage</th>\n",
       "      <th>avg_size</th>\n",
       "    </tr>\n",
       "  </thead>\n",
       "  <tbody>\n",
       "    <tr>\n",
       "      <th>0</th>\n",
       "      <td>a62bfd61d32de347487c07cf3cff89c3</td>\n",
       "      <td>2012_14</td>\n",
       "      <td>25k</td>\n",
       "      <td>do-not-scale</td>\n",
       "      <td>penalized_logreg</td>\n",
       "      <td>nationality</td>\n",
       "      <td>drop-non-german</td>\n",
       "      <td>0.662567</td>\n",
       "      <td>0.911872</td>\n",
       "      <td>1.215149</td>\n",
       "    </tr>\n",
       "  </tbody>\n",
       "</table>\n",
       "</div>"
      ],
      "text/plain": [
       "                        universe_id universe_training_year  \\\n",
       "0  a62bfd61d32de347487c07cf3cff89c3                2012_14   \n",
       "\n",
       "  universe_training_size universe_scale    universe_model  \\\n",
       "0                    25k   do-not-scale  penalized_logreg   \n",
       "\n",
       "  universe_exclude_features universe_exclude_subgroups     q_hat  coverage  \\\n",
       "0               nationality            drop-non-german  0.662567  0.911872   \n",
       "\n",
       "   avg_size  \n",
       "0  1.215149  "
      ]
     },
     "execution_count": 50,
     "metadata": {},
     "output_type": "execute_result"
    }
   ],
   "source": [
    "cp_metrics_df"
   ]
  },
  {
   "cell_type": "code",
   "execution_count": 51,
   "id": "b7fbde55-a0a1-47e4-9af6-fe4a17fa8c61",
   "metadata": {
    "execution": {
     "iopub.execute_input": "2025-08-05T20:58:36.440706Z",
     "iopub.status.busy": "2025-08-05T20:58:36.440186Z",
     "iopub.status.idle": "2025-08-05T20:58:36.444865Z",
     "shell.execute_reply": "2025-08-05T20:58:36.444087Z"
    },
    "papermill": {
     "duration": 0.018763,
     "end_time": "2025-08-05T20:58:36.446394",
     "exception": false,
     "start_time": "2025-08-05T20:58:36.427631",
     "status": "completed"
    },
    "tags": []
   },
   "outputs": [],
   "source": [
    "# Conditional Coverage & looking at subgroups"
   ]
  },
  {
   "cell_type": "code",
   "execution_count": 52,
   "id": "027ae886-68dd-4141-96c7-805a5450e1ef",
   "metadata": {
    "execution": {
     "iopub.execute_input": "2025-08-05T20:58:36.472747Z",
     "iopub.status.busy": "2025-08-05T20:58:36.471903Z",
     "iopub.status.idle": "2025-08-05T20:58:36.658250Z",
     "shell.execute_reply": "2025-08-05T20:58:36.657312Z"
    },
    "papermill": {
     "duration": 0.200696,
     "end_time": "2025-08-05T20:58:36.659853",
     "exception": false,
     "start_time": "2025-08-05T20:58:36.459157",
     "status": "completed"
    },
    "tags": []
   },
   "outputs": [],
   "source": [
    "from fairness_multiverse.conformal import build_cp_groups\n",
    "\n",
    "cp_groups_df = build_cp_groups(pred_sets, y_true, X_test.index, org_test)\n",
    "#needs universe_id and setting"
   ]
  },
  {
   "cell_type": "code",
   "execution_count": 53,
   "id": "6cbdab96-b2b2-45af-ad54-d0516db2e28d",
   "metadata": {
    "execution": {
     "iopub.execute_input": "2025-08-05T20:58:36.688947Z",
     "iopub.status.busy": "2025-08-05T20:58:36.688555Z",
     "iopub.status.idle": "2025-08-05T20:58:38.139939Z",
     "shell.execute_reply": "2025-08-05T20:58:38.138960Z"
    },
    "papermill": {
     "duration": 1.466738,
     "end_time": "2025-08-05T20:58:38.141783",
     "exception": false,
     "start_time": "2025-08-05T20:58:36.675045",
     "status": "completed"
    },
    "tags": []
   },
   "outputs": [],
   "source": [
    "# Define covered = 1 if true_label is in the predicted set\n",
    "cp_groups_df['covered'] = cp_groups_df.apply(\n",
    "    lambda r: int(r['true_label'] in r['pred_set']),\n",
    "    axis=1\n",
    ")"
   ]
  },
  {
   "cell_type": "code",
   "execution_count": 54,
   "id": "338ff529-1a6b-4b87-a931-8e4788d52aad",
   "metadata": {
    "execution": {
     "iopub.execute_input": "2025-08-05T20:58:38.195007Z",
     "iopub.status.busy": "2025-08-05T20:58:38.194269Z",
     "iopub.status.idle": "2025-08-05T20:58:38.200796Z",
     "shell.execute_reply": "2025-08-05T20:58:38.199545Z"
    },
    "papermill": {
     "duration": 0.041541,
     "end_time": "2025-08-05T20:58:38.203240",
     "exception": false,
     "start_time": "2025-08-05T20:58:38.161699",
     "status": "completed"
    },
    "tags": []
   },
   "outputs": [],
   "source": [
    "#cp_groups_df"
   ]
  },
  {
   "cell_type": "code",
   "execution_count": 55,
   "id": "90032e27-66df-4540-9169-4e89cfbaa758",
   "metadata": {
    "execution": {
     "iopub.execute_input": "2025-08-05T20:58:38.252650Z",
     "iopub.status.busy": "2025-08-05T20:58:38.251918Z",
     "iopub.status.idle": "2025-08-05T20:58:38.268251Z",
     "shell.execute_reply": "2025-08-05T20:58:38.267242Z"
    },
    "papermill": {
     "duration": 0.041665,
     "end_time": "2025-08-05T20:58:38.270000",
     "exception": false,
     "start_time": "2025-08-05T20:58:38.228335",
     "status": "completed"
    },
    "tags": []
   },
   "outputs": [],
   "source": [
    "subgroups = ['frau1','nongerman','nongerman_male','nongerman_female']\n",
    "\n",
    "# Conditional coverage for subgroup==1\n",
    "cond_coverage = {\n",
    "    g: cp_groups_df.loc[cp_groups_df[g]==1, 'covered'].mean()\n",
    "    for g in subgroups\n",
    "}"
   ]
  },
  {
   "cell_type": "code",
   "execution_count": 56,
   "id": "1e348fb1-b9c3-45bc-ba23-f016827a7e0d",
   "metadata": {
    "execution": {
     "iopub.execute_input": "2025-08-05T20:58:38.314531Z",
     "iopub.status.busy": "2025-08-05T20:58:38.313618Z",
     "iopub.status.idle": "2025-08-05T20:58:38.320993Z",
     "shell.execute_reply": "2025-08-05T20:58:38.319888Z"
    },
    "papermill": {
     "duration": 0.029019,
     "end_time": "2025-08-05T20:58:38.322748",
     "exception": false,
     "start_time": "2025-08-05T20:58:38.293729",
     "status": "completed"
    },
    "tags": []
   },
   "outputs": [
    {
     "data": {
      "text/plain": [
       "{'frau1': 0.9107426876937592,\n",
       " 'nongerman': 0.9385841800931903,\n",
       " 'nongerman_male': 0.9501035756101954,\n",
       " 'nongerman_female': 0.9195230998509687}"
      ]
     },
     "execution_count": 56,
     "metadata": {},
     "output_type": "execute_result"
    }
   ],
   "source": [
    "cond_coverage"
   ]
  },
  {
   "cell_type": "code",
   "execution_count": 57,
   "id": "f5093324-c3dd-4d63-bc4c-8d945e5c8bbb",
   "metadata": {
    "execution": {
     "iopub.execute_input": "2025-08-05T20:58:38.369296Z",
     "iopub.status.busy": "2025-08-05T20:58:38.368514Z",
     "iopub.status.idle": "2025-08-05T20:58:38.375644Z",
     "shell.execute_reply": "2025-08-05T20:58:38.374571Z"
    },
    "papermill": {
     "duration": 0.032212,
     "end_time": "2025-08-05T20:58:38.377581",
     "exception": false,
     "start_time": "2025-08-05T20:58:38.345369",
     "status": "completed"
    },
    "tags": []
   },
   "outputs": [],
   "source": [
    "for subgroup, cov in cond_coverage.items():\n",
    "    cp_metrics_df[f\"cov_{subgroup}\"] = cov"
   ]
  },
  {
   "cell_type": "code",
   "execution_count": 58,
   "id": "6e872e10-dbe5-49e8-b554-5030c98ff75d",
   "metadata": {
    "execution": {
     "iopub.execute_input": "2025-08-05T20:58:38.418268Z",
     "iopub.status.busy": "2025-08-05T20:58:38.417772Z",
     "iopub.status.idle": "2025-08-05T20:58:38.440726Z",
     "shell.execute_reply": "2025-08-05T20:58:38.439453Z"
    },
    "papermill": {
     "duration": 0.044246,
     "end_time": "2025-08-05T20:58:38.442449",
     "exception": false,
     "start_time": "2025-08-05T20:58:38.398203",
     "status": "completed"
    },
    "tags": []
   },
   "outputs": [
    {
     "data": {
      "text/html": [
       "<div>\n",
       "<style scoped>\n",
       "    .dataframe tbody tr th:only-of-type {\n",
       "        vertical-align: middle;\n",
       "    }\n",
       "\n",
       "    .dataframe tbody tr th {\n",
       "        vertical-align: top;\n",
       "    }\n",
       "\n",
       "    .dataframe thead th {\n",
       "        text-align: right;\n",
       "    }\n",
       "</style>\n",
       "<table border=\"1\" class=\"dataframe\">\n",
       "  <thead>\n",
       "    <tr style=\"text-align: right;\">\n",
       "      <th></th>\n",
       "      <th>universe_id</th>\n",
       "      <th>universe_training_year</th>\n",
       "      <th>universe_training_size</th>\n",
       "      <th>universe_scale</th>\n",
       "      <th>universe_model</th>\n",
       "      <th>universe_exclude_features</th>\n",
       "      <th>universe_exclude_subgroups</th>\n",
       "      <th>q_hat</th>\n",
       "      <th>coverage</th>\n",
       "      <th>avg_size</th>\n",
       "      <th>cov_frau1</th>\n",
       "      <th>cov_nongerman</th>\n",
       "      <th>cov_nongerman_male</th>\n",
       "      <th>cov_nongerman_female</th>\n",
       "    </tr>\n",
       "  </thead>\n",
       "  <tbody>\n",
       "    <tr>\n",
       "      <th>0</th>\n",
       "      <td>a62bfd61d32de347487c07cf3cff89c3</td>\n",
       "      <td>2012_14</td>\n",
       "      <td>25k</td>\n",
       "      <td>do-not-scale</td>\n",
       "      <td>penalized_logreg</td>\n",
       "      <td>nationality</td>\n",
       "      <td>drop-non-german</td>\n",
       "      <td>0.662567</td>\n",
       "      <td>0.911872</td>\n",
       "      <td>1.215149</td>\n",
       "      <td>0.910743</td>\n",
       "      <td>0.938584</td>\n",
       "      <td>0.950104</td>\n",
       "      <td>0.919523</td>\n",
       "    </tr>\n",
       "  </tbody>\n",
       "</table>\n",
       "</div>"
      ],
      "text/plain": [
       "                        universe_id universe_training_year  \\\n",
       "0  a62bfd61d32de347487c07cf3cff89c3                2012_14   \n",
       "\n",
       "  universe_training_size universe_scale    universe_model  \\\n",
       "0                    25k   do-not-scale  penalized_logreg   \n",
       "\n",
       "  universe_exclude_features universe_exclude_subgroups     q_hat  coverage  \\\n",
       "0               nationality            drop-non-german  0.662567  0.911872   \n",
       "\n",
       "   avg_size  cov_frau1  cov_nongerman  cov_nongerman_male  \\\n",
       "0  1.215149   0.910743       0.938584            0.950104   \n",
       "\n",
       "   cov_nongerman_female  \n",
       "0              0.919523  "
      ]
     },
     "execution_count": 58,
     "metadata": {},
     "output_type": "execute_result"
    }
   ],
   "source": [
    "cp_metrics_df"
   ]
  },
  {
   "cell_type": "markdown",
   "id": "33774451",
   "metadata": {
    "papermill": {
     "duration": 0.02357,
     "end_time": "2025-08-05T20:58:38.490822",
     "exception": false,
     "start_time": "2025-08-05T20:58:38.467252",
     "status": "completed"
    },
    "tags": []
   },
   "source": [
    "# (Fairness) Metrics"
   ]
  },
  {
   "cell_type": "code",
   "execution_count": 59,
   "id": "debc5d62",
   "metadata": {
    "execution": {
     "iopub.execute_input": "2025-08-05T20:58:38.541069Z",
     "iopub.status.busy": "2025-08-05T20:58:38.540251Z",
     "iopub.status.idle": "2025-08-05T20:58:38.561249Z",
     "shell.execute_reply": "2025-08-05T20:58:38.560178Z"
    },
    "papermill": {
     "duration": 0.047327,
     "end_time": "2025-08-05T20:58:38.563291",
     "exception": false,
     "start_time": "2025-08-05T20:58:38.515964",
     "status": "completed"
    },
    "tags": []
   },
   "outputs": [],
   "source": [
    "# do I need to include maxdeutsch1.missing?\n",
    "\n",
    "import numpy as np\n",
    "\n",
    "colname_to_bin = \"maxdeutsch1\"\n",
    "majority_value = org_train[colname_to_bin].mode()[0]\n",
    "\n",
    "org_test[\"majmin\"] = np.where(org_test[colname_to_bin] == majority_value, \"majority\", \"minority\")"
   ]
  },
  {
   "cell_type": "code",
   "execution_count": 60,
   "id": "06a50de5",
   "metadata": {
    "execution": {
     "iopub.execute_input": "2025-08-05T20:58:38.613365Z",
     "iopub.status.busy": "2025-08-05T20:58:38.612639Z",
     "iopub.status.idle": "2025-08-05T20:58:41.233117Z",
     "shell.execute_reply": "2025-08-05T20:58:41.232073Z"
    },
    "papermill": {
     "duration": 2.647538,
     "end_time": "2025-08-05T20:58:41.234963",
     "exception": false,
     "start_time": "2025-08-05T20:58:38.587425",
     "status": "completed"
    },
    "tags": []
   },
   "outputs": [],
   "source": [
    "example_universe = universe.copy()\n",
    "example_universe[\"cutoff\"] = example_universe[\"cutoff\"][0]\n",
    "example_universe[\"eval_fairness_grouping\"] = example_universe[\"eval_fairness_grouping\"][0]\n",
    "fairness_dict, metric_frame = universe_analysis.compute_metrics(\n",
    "    example_universe,\n",
    "    y_pred_prob=probs_test,\n",
    "    y_test=y_true,\n",
    "    org_test=org_test,\n",
    ")"
   ]
  },
  {
   "cell_type": "markdown",
   "id": "f95d4e02",
   "metadata": {
    "papermill": {
     "duration": 0.021707,
     "end_time": "2025-08-05T20:58:41.283044",
     "exception": false,
     "start_time": "2025-08-05T20:58:41.261337",
     "status": "completed"
    },
    "tags": []
   },
   "source": [
    "# Overall"
   ]
  },
  {
   "cell_type": "markdown",
   "id": "bdee4871",
   "metadata": {
    "papermill": {
     "duration": 0.026362,
     "end_time": "2025-08-05T20:58:41.334142",
     "exception": false,
     "start_time": "2025-08-05T20:58:41.307780",
     "status": "completed"
    },
    "tags": []
   },
   "source": [
    "Fairness\n",
    "Main fairness target: Equalized Odds. Seems to be a better fit than equal opportunity, since we're not only interested in Y = 1. Seems to be a better fit than demographic parity, since we also care about accuracy, not just equal distribution of preds.\n",
    "\n",
    "Pick column for computation of fairness metrics\n",
    "\n",
    "Performance\n",
    "Overall performance measures, most interesting in relation to the measures split by group below"
   ]
  },
  {
   "cell_type": "code",
   "execution_count": 61,
   "id": "c4e067c6",
   "metadata": {
    "execution": {
     "iopub.execute_input": "2025-08-05T20:58:41.382160Z",
     "iopub.status.busy": "2025-08-05T20:58:41.381326Z",
     "iopub.status.idle": "2025-08-05T20:58:41.390644Z",
     "shell.execute_reply": "2025-08-05T20:58:41.389506Z"
    },
    "papermill": {
     "duration": 0.035564,
     "end_time": "2025-08-05T20:58:41.392867",
     "exception": false,
     "start_time": "2025-08-05T20:58:41.357303",
     "status": "completed"
    },
    "tags": []
   },
   "outputs": [
    {
     "data": {
      "text/plain": [
       "accuracy                   0.217824\n",
       "balanced accuracy          0.533982\n",
       "f1                         0.239336\n",
       "precision                  0.136725\n",
       "false positive rate        0.891282\n",
       "false negative rate        0.040754\n",
       "selection rate             0.900000\n",
       "count                  89710.000000\n",
       "dtype: float64"
      ]
     },
     "execution_count": 61,
     "metadata": {},
     "output_type": "execute_result"
    }
   ],
   "source": [
    "metric_frame.overall"
   ]
  },
  {
   "cell_type": "markdown",
   "id": "e968fe9d",
   "metadata": {
    "papermill": {
     "duration": 0.024918,
     "end_time": "2025-08-05T20:58:41.443469",
     "exception": false,
     "start_time": "2025-08-05T20:58:41.418551",
     "status": "completed"
    },
    "tags": []
   },
   "source": [
    "By Group"
   ]
  },
  {
   "cell_type": "code",
   "execution_count": 62,
   "id": "ec325bce",
   "metadata": {
    "execution": {
     "iopub.execute_input": "2025-08-05T20:58:41.484953Z",
     "iopub.status.busy": "2025-08-05T20:58:41.484253Z",
     "iopub.status.idle": "2025-08-05T20:58:41.496502Z",
     "shell.execute_reply": "2025-08-05T20:58:41.495667Z"
    },
    "papermill": {
     "duration": 0.030615,
     "end_time": "2025-08-05T20:58:41.497993",
     "exception": false,
     "start_time": "2025-08-05T20:58:41.467378",
     "status": "completed"
    },
    "tags": []
   },
   "outputs": [
    {
     "data": {
      "text/html": [
       "<div>\n",
       "<style scoped>\n",
       "    .dataframe tbody tr th:only-of-type {\n",
       "        vertical-align: middle;\n",
       "    }\n",
       "\n",
       "    .dataframe tbody tr th {\n",
       "        vertical-align: top;\n",
       "    }\n",
       "\n",
       "    .dataframe thead th {\n",
       "        text-align: right;\n",
       "    }\n",
       "</style>\n",
       "<table border=\"1\" class=\"dataframe\">\n",
       "  <thead>\n",
       "    <tr style=\"text-align: right;\">\n",
       "      <th></th>\n",
       "      <th>accuracy</th>\n",
       "      <th>balanced accuracy</th>\n",
       "      <th>f1</th>\n",
       "      <th>precision</th>\n",
       "      <th>false positive rate</th>\n",
       "      <th>false negative rate</th>\n",
       "      <th>selection rate</th>\n",
       "      <th>count</th>\n",
       "    </tr>\n",
       "    <tr>\n",
       "      <th>majmin</th>\n",
       "      <th></th>\n",
       "      <th></th>\n",
       "      <th></th>\n",
       "      <th></th>\n",
       "      <th></th>\n",
       "      <th></th>\n",
       "      <th></th>\n",
       "      <th></th>\n",
       "    </tr>\n",
       "  </thead>\n",
       "  <tbody>\n",
       "    <tr>\n",
       "      <th>majority</th>\n",
       "      <td>0.240249</td>\n",
       "      <td>0.542205</td>\n",
       "      <td>0.248892</td>\n",
       "      <td>0.143146</td>\n",
       "      <td>0.868216</td>\n",
       "      <td>0.047374</td>\n",
       "      <td>0.879370</td>\n",
       "      <td>69170.0</td>\n",
       "    </tr>\n",
       "    <tr>\n",
       "      <th>minority</th>\n",
       "      <td>0.142308</td>\n",
       "      <td>0.508660</td>\n",
       "      <td>0.209326</td>\n",
       "      <td>0.117109</td>\n",
       "      <td>0.967477</td>\n",
       "      <td>0.015203</td>\n",
       "      <td>0.969474</td>\n",
       "      <td>20540.0</td>\n",
       "    </tr>\n",
       "  </tbody>\n",
       "</table>\n",
       "</div>"
      ],
      "text/plain": [
       "          accuracy  balanced accuracy        f1  precision  \\\n",
       "majmin                                                       \n",
       "majority  0.240249           0.542205  0.248892   0.143146   \n",
       "minority  0.142308           0.508660  0.209326   0.117109   \n",
       "\n",
       "          false positive rate  false negative rate  selection rate    count  \n",
       "majmin                                                                       \n",
       "majority             0.868216             0.047374        0.879370  69170.0  \n",
       "minority             0.967477             0.015203        0.969474  20540.0  "
      ]
     },
     "execution_count": 62,
     "metadata": {},
     "output_type": "execute_result"
    }
   ],
   "source": [
    "metric_frame.by_group"
   ]
  },
  {
   "cell_type": "code",
   "execution_count": 63,
   "id": "a9ddbe63",
   "metadata": {
    "execution": {
     "iopub.execute_input": "2025-08-05T20:58:41.524642Z",
     "iopub.status.busy": "2025-08-05T20:58:41.523964Z",
     "iopub.status.idle": "2025-08-05T20:58:43.311158Z",
     "shell.execute_reply": "2025-08-05T20:58:43.310056Z"
    },
    "papermill": {
     "duration": 1.801823,
     "end_time": "2025-08-05T20:58:43.313088",
     "exception": false,
     "start_time": "2025-08-05T20:58:41.511265",
     "status": "completed"
    },
    "tags": []
   },
   "outputs": [
    {
     "data": {
      "text/plain": [
       "array([[<Axes: title={'center': 'accuracy'}, xlabel='majmin'>,\n",
       "        <Axes: title={'center': 'balanced accuracy'}, xlabel='majmin'>,\n",
       "        <Axes: title={'center': 'f1'}, xlabel='majmin'>],\n",
       "       [<Axes: title={'center': 'precision'}, xlabel='majmin'>,\n",
       "        <Axes: title={'center': 'false positive rate'}, xlabel='majmin'>,\n",
       "        <Axes: title={'center': 'false negative rate'}, xlabel='majmin'>],\n",
       "       [<Axes: title={'center': 'selection rate'}, xlabel='majmin'>,\n",
       "        <Axes: title={'center': 'count'}, xlabel='majmin'>,\n",
       "        <Axes: xlabel='majmin'>]], dtype=object)"
      ]
     },
     "execution_count": 63,
     "metadata": {},
     "output_type": "execute_result"
    },
    {
     "data": {
      "image/png": "[encoded data removed]",
      "text/plain": [
       "<Figure size 1200x800 with 9 Axes>"
      ]
     },
     "metadata": {},
     "output_type": "display_data"
    }
   ],
   "source": [
    "# In a graphic\n",
    "metric_frame.by_group.plot.bar(\n",
    "    subplots=True,\n",
    "    layout=[3, 3],\n",
    "    legend=False,\n",
    "    figsize=[12, 8],\n",
    "    title=\"Show all metrics\",\n",
    ")"
   ]
  },
  {
   "cell_type": "markdown",
   "id": "f57a0bac",
   "metadata": {
    "papermill": {
     "duration": 0.016119,
     "end_time": "2025-08-05T20:58:43.355948",
     "exception": false,
     "start_time": "2025-08-05T20:58:43.339829",
     "status": "completed"
    },
    "tags": []
   },
   "source": [
    "# Final Output"
   ]
  },
  {
   "cell_type": "code",
   "execution_count": 64,
   "id": "96d280a3",
   "metadata": {
    "execution": {
     "iopub.execute_input": "2025-08-05T20:58:43.411037Z",
     "iopub.status.busy": "2025-08-05T20:58:43.410369Z",
     "iopub.status.idle": "2025-08-05T20:58:43.418798Z",
     "shell.execute_reply": "2025-08-05T20:58:43.417685Z"
    },
    "papermill": {
     "duration": 0.038275,
     "end_time": "2025-08-05T20:58:43.420837",
     "exception": false,
     "start_time": "2025-08-05T20:58:43.382562",
     "status": "completed"
    },
    "tags": []
   },
   "outputs": [
    {
     "data": {
      "text/plain": [
       "4"
      ]
     },
     "execution_count": 64,
     "metadata": {},
     "output_type": "execute_result"
    }
   ],
   "source": [
    "sub_universes = universe_analysis.generate_sub_universes()\n",
    "len(sub_universes)"
   ]
  },
  {
   "cell_type": "code",
   "execution_count": 65,
   "id": "92adf7ba",
   "metadata": {
    "execution": {
     "iopub.execute_input": "2025-08-05T20:58:43.481822Z",
     "iopub.status.busy": "2025-08-05T20:58:43.481272Z",
     "iopub.status.idle": "2025-08-05T20:58:43.511191Z",
     "shell.execute_reply": "2025-08-05T20:58:43.509848Z"
    },
    "papermill": {
     "duration": 0.063272,
     "end_time": "2025-08-05T20:58:43.513653",
     "exception": false,
     "start_time": "2025-08-05T20:58:43.450381",
     "status": "completed"
    },
    "tags": []
   },
   "outputs": [],
   "source": [
    "def filter_sub_universe_data(sub_universe, org_test):\n",
    "    # Keep all rows — no filtering\n",
    "    keep_rows_mask = np.ones(org_test.shape[0], dtype=bool)\n",
    "\n",
    "    print(f\"[INFO] Keeping all rows: {keep_rows_mask.sum()} rows retained.\")\n",
    "    return keep_rows_mask"
   ]
  },
  {
   "cell_type": "code",
   "execution_count": 66,
   "id": "4a759155",
   "metadata": {
    "execution": {
     "iopub.execute_input": "2025-08-05T20:58:43.573265Z",
     "iopub.status.busy": "2025-08-05T20:58:43.572816Z",
     "iopub.status.idle": "2025-08-05T20:58:52.961605Z",
     "shell.execute_reply": "2025-08-05T20:58:52.960695Z"
    },
    "papermill": {
     "duration": 9.418131,
     "end_time": "2025-08-05T20:58:52.962884",
     "exception": false,
     "start_time": "2025-08-05T20:58:43.544753",
     "status": "completed"
    },
    "tags": []
   },
   "outputs": [
    {
     "name": "stdout",
     "output_type": "stream",
     "text": [
      "Stopping execution_time clock.\n",
      "[INFO] Keeping all rows: 89710 rows retained.\n"
     ]
    },
    {
     "name": "stdout",
     "output_type": "stream",
     "text": [
      "[INFO] Keeping all rows: 89710 rows retained.\n"
     ]
    },
    {
     "name": "stdout",
     "output_type": "stream",
     "text": [
      "[INFO] Keeping all rows: 89710 rows retained.\n"
     ]
    },
    {
     "name": "stdout",
     "output_type": "stream",
     "text": [
      "[INFO] Keeping all rows: 89710 rows retained.\n"
     ]
    },
    {
     "data": {
      "text/html": [
       "<div>\n",
       "<style scoped>\n",
       "    .dataframe tbody tr th:only-of-type {\n",
       "        vertical-align: middle;\n",
       "    }\n",
       "\n",
       "    .dataframe tbody tr th {\n",
       "        vertical-align: top;\n",
       "    }\n",
       "\n",
       "    .dataframe thead th {\n",
       "        text-align: right;\n",
       "    }\n",
       "</style>\n",
       "<table border=\"1\" class=\"dataframe\">\n",
       "  <thead>\n",
       "    <tr style=\"text-align: right;\">\n",
       "      <th></th>\n",
       "      <th>run_no</th>\n",
       "      <th>universe_id</th>\n",
       "      <th>universe_settings</th>\n",
       "      <th>execution_time</th>\n",
       "      <th>test_size_n</th>\n",
       "      <th>test_size_frac</th>\n",
       "      <th>fair_main_equalized_odds_difference</th>\n",
       "      <th>fair_main_equalized_odds_ratio</th>\n",
       "      <th>fair_main_demographic_parity_difference</th>\n",
       "      <th>fair_main_demographic_parity_ratio</th>\n",
       "      <th>...</th>\n",
       "      <th>perf_grp_precision_0</th>\n",
       "      <th>perf_grp_precision_1</th>\n",
       "      <th>perf_grp_false positive rate_0</th>\n",
       "      <th>perf_grp_false positive rate_1</th>\n",
       "      <th>perf_grp_false negative rate_0</th>\n",
       "      <th>perf_grp_false negative rate_1</th>\n",
       "      <th>perf_grp_selection rate_0</th>\n",
       "      <th>perf_grp_selection rate_1</th>\n",
       "      <th>perf_grp_count_0</th>\n",
       "      <th>perf_grp_count_1</th>\n",
       "    </tr>\n",
       "  </thead>\n",
       "  <tbody>\n",
       "    <tr>\n",
       "      <th>0</th>\n",
       "      <td>16</td>\n",
       "      <td>a62bfd61d32de347487c07cf3cff89c3</td>\n",
       "      <td>{\"cutoff\": \"quantile_0.1\", \"eval_fairness_grou...</td>\n",
       "      <td>22.846114</td>\n",
       "      <td>89710</td>\n",
       "      <td>1.0</td>\n",
       "      <td>0.099262</td>\n",
       "      <td>0.897402</td>\n",
       "      <td>0.090105</td>\n",
       "      <td>0.907058</td>\n",
       "      <td>...</td>\n",
       "      <td>NaN</td>\n",
       "      <td>NaN</td>\n",
       "      <td>NaN</td>\n",
       "      <td>NaN</td>\n",
       "      <td>NaN</td>\n",
       "      <td>NaN</td>\n",
       "      <td>NaN</td>\n",
       "      <td>NaN</td>\n",
       "      <td>NaN</td>\n",
       "      <td>NaN</td>\n",
       "    </tr>\n",
       "    <tr>\n",
       "      <th>0</th>\n",
       "      <td>16</td>\n",
       "      <td>a62bfd61d32de347487c07cf3cff89c3</td>\n",
       "      <td>{\"cutoff\": \"quantile_0.1\", \"eval_fairness_grou...</td>\n",
       "      <td>22.846114</td>\n",
       "      <td>89710</td>\n",
       "      <td>1.0</td>\n",
       "      <td>0.099262</td>\n",
       "      <td>0.897402</td>\n",
       "      <td>0.090105</td>\n",
       "      <td>0.907058</td>\n",
       "      <td>...</td>\n",
       "      <td>0.117109</td>\n",
       "      <td>0.143146</td>\n",
       "      <td>0.967477</td>\n",
       "      <td>0.868216</td>\n",
       "      <td>0.015203</td>\n",
       "      <td>0.047374</td>\n",
       "      <td>0.969474</td>\n",
       "      <td>0.87937</td>\n",
       "      <td>20540.0</td>\n",
       "      <td>69170.0</td>\n",
       "    </tr>\n",
       "    <tr>\n",
       "      <th>0</th>\n",
       "      <td>16</td>\n",
       "      <td>a62bfd61d32de347487c07cf3cff89c3</td>\n",
       "      <td>{\"cutoff\": \"quantile_0.25\", \"eval_fairness_gro...</td>\n",
       "      <td>22.846114</td>\n",
       "      <td>89710</td>\n",
       "      <td>1.0</td>\n",
       "      <td>0.224890</td>\n",
       "      <td>0.750902</td>\n",
       "      <td>0.206168</td>\n",
       "      <td>0.773182</td>\n",
       "      <td>...</td>\n",
       "      <td>NaN</td>\n",
       "      <td>NaN</td>\n",
       "      <td>NaN</td>\n",
       "      <td>NaN</td>\n",
       "      <td>NaN</td>\n",
       "      <td>NaN</td>\n",
       "      <td>NaN</td>\n",
       "      <td>NaN</td>\n",
       "      <td>NaN</td>\n",
       "      <td>NaN</td>\n",
       "    </tr>\n",
       "    <tr>\n",
       "      <th>0</th>\n",
       "      <td>16</td>\n",
       "      <td>a62bfd61d32de347487c07cf3cff89c3</td>\n",
       "      <td>{\"cutoff\": \"quantile_0.25\", \"eval_fairness_gro...</td>\n",
       "      <td>22.846114</td>\n",
       "      <td>89710</td>\n",
       "      <td>1.0</td>\n",
       "      <td>0.224890</td>\n",
       "      <td>0.750902</td>\n",
       "      <td>0.206168</td>\n",
       "      <td>0.773182</td>\n",
       "      <td>...</td>\n",
       "      <td>0.121264</td>\n",
       "      <td>0.162840</td>\n",
       "      <td>0.902818</td>\n",
       "      <td>0.677928</td>\n",
       "      <td>0.043919</td>\n",
       "      <td>0.133917</td>\n",
       "      <td>0.908958</td>\n",
       "      <td>0.70279</td>\n",
       "      <td>20540.0</td>\n",
       "      <td>69170.0</td>\n",
       "    </tr>\n",
       "  </tbody>\n",
       "</table>\n",
       "<p>4 rows × 50 columns</p>\n",
       "</div>"
      ],
      "text/plain": [
       "  run_no                       universe_id  \\\n",
       "0     16  a62bfd61d32de347487c07cf3cff89c3   \n",
       "0     16  a62bfd61d32de347487c07cf3cff89c3   \n",
       "0     16  a62bfd61d32de347487c07cf3cff89c3   \n",
       "0     16  a62bfd61d32de347487c07cf3cff89c3   \n",
       "\n",
       "                                   universe_settings  execution_time  \\\n",
       "0  {\"cutoff\": \"quantile_0.1\", \"eval_fairness_grou...       22.846114   \n",
       "0  {\"cutoff\": \"quantile_0.1\", \"eval_fairness_grou...       22.846114   \n",
       "0  {\"cutoff\": \"quantile_0.25\", \"eval_fairness_gro...       22.846114   \n",
       "0  {\"cutoff\": \"quantile_0.25\", \"eval_fairness_gro...       22.846114   \n",
       "\n",
       "   test_size_n  test_size_frac  fair_main_equalized_odds_difference  \\\n",
       "0        89710             1.0                             0.099262   \n",
       "0        89710             1.0                             0.099262   \n",
       "0        89710             1.0                             0.224890   \n",
       "0        89710             1.0                             0.224890   \n",
       "\n",
       "   fair_main_equalized_odds_ratio  fair_main_demographic_parity_difference  \\\n",
       "0                        0.897402                                 0.090105   \n",
       "0                        0.897402                                 0.090105   \n",
       "0                        0.750902                                 0.206168   \n",
       "0                        0.750902                                 0.206168   \n",
       "\n",
       "   fair_main_demographic_parity_ratio  ...  perf_grp_precision_0  \\\n",
       "0                            0.907058  ...                   NaN   \n",
       "0                            0.907058  ...              0.117109   \n",
       "0                            0.773182  ...                   NaN   \n",
       "0                            0.773182  ...              0.121264   \n",
       "\n",
       "   perf_grp_precision_1  perf_grp_false positive rate_0  \\\n",
       "0                   NaN                             NaN   \n",
       "0              0.143146                        0.967477   \n",
       "0                   NaN                             NaN   \n",
       "0              0.162840                        0.902818   \n",
       "\n",
       "   perf_grp_false positive rate_1  perf_grp_false negative rate_0  \\\n",
       "0                             NaN                             NaN   \n",
       "0                        0.868216                        0.015203   \n",
       "0                             NaN                             NaN   \n",
       "0                        0.677928                        0.043919   \n",
       "\n",
       "   perf_grp_false negative rate_1  perf_grp_selection rate_0  \\\n",
       "0                             NaN                        NaN   \n",
       "0                        0.047374                   0.969474   \n",
       "0                             NaN                        NaN   \n",
       "0                        0.133917                   0.908958   \n",
       "\n",
       "   perf_grp_selection rate_1  perf_grp_count_0  perf_grp_count_1  \n",
       "0                        NaN               NaN               NaN  \n",
       "0                    0.87937           20540.0           69170.0  \n",
       "0                        NaN               NaN               NaN  \n",
       "0                    0.70279           20540.0           69170.0  \n",
       "\n",
       "[4 rows x 50 columns]"
      ]
     },
     "execution_count": 66,
     "metadata": {},
     "output_type": "execute_result"
    }
   ],
   "source": [
    "final_output = universe_analysis.generate_final_output(\n",
    "    y_pred_prob=probs_test,\n",
    "    y_test=y_true,\n",
    "    org_test=org_test,\n",
    "    filter_data=filter_sub_universe_data,\n",
    "    cp_metrics_df=cp_metrics_df,\n",
    "    save=True,\n",
    ")\n",
    "final_output"
   ]
  }
 ],
 "metadata": {
  "celltoolbar": "Tags",
  "kernelspec": {
   "display_name": "Python (CMA Fairness)",
   "language": "python",
   "name": "cma_fair_env"
  },
  "language_info": {
   "codemirror_mode": {
    "name": "ipython",
    "version": 3
   },
   "file_extension": ".py",
   "mimetype": "text/x-python",
   "name": "python",
   "nbconvert_exporter": "python",
   "pygments_lexer": "ipython3",
   "version": "3.10.12"
  },
  "papermill": {
   "default_parameters": {},
   "duration": 35.53867,
   "end_time": "2025-08-05T20:58:53.697263",
   "environment_variables": {},
   "exception": null,
   "input_path": "universe_analysis.ipynb",
   "output_path": "output/runs/16/notebooks/m_16-a62bfd61d32de347487c07cf3cff89c3.ipynb",
   "parameters": {
    "output_dir": "output",
    "run_no": "16",
    "seed": "2023",
    "universe": "{\"cutoff\": [\"quantile_0.1\", \"quantile_0.25\"], \"eval_fairness_grouping\": [\"majority-minority\", \"nationality-all\"], \"exclude_features\": \"nationality\", \"exclude_subgroups\": \"drop-non-german\", \"model\": \"penalized_logreg\", \"scale\": \"do-not-scale\", \"training_size\": \"25k\", \"training_year\": \"2012_14\"}",
    "universe_id": "a62bfd61d32de347487c07cf3cff89c3"
   },
   "start_time": "2025-08-05T20:58:18.158593",
   "version": "2.6.0"
  }
 },
 "nbformat": 4,
 "nbformat_minor": 5
}