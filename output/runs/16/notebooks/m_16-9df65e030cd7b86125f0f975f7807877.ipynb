{
 "cells": [
  {
   "cell_type": "code",
   "execution_count": 1,
   "id": "f159f837-637b-42ba-96b5-ec9a68c44524",
   "metadata": {
    "execution": {
     "iopub.execute_input": "2025-08-05T20:46:23.187562Z",
     "iopub.status.busy": "2025-08-05T20:46:23.186662Z",
     "iopub.status.idle": "2025-08-05T20:46:23.199985Z",
     "shell.execute_reply": "2025-08-05T20:46:23.198901Z"
    },
    "papermill": {
     "duration": 0.034626,
     "end_time": "2025-08-05T20:46:23.201696",
     "exception": false,
     "start_time": "2025-08-05T20:46:23.167070",
     "status": "completed"
    },
    "tags": []
   },
   "outputs": [
    {
     "name": "stdout",
     "output_type": "stream",
     "text": [
      "/dss/dsshome1/0C/ra93lal2/cma/CMA_Fairness_v2\n"
     ]
    },
    {
     "name": "stderr",
     "output_type": "stream",
     "text": [
      "/dss/dsshome1/0C/ra93lal2/.local/share/virtualenvs/CMA_Fairness_v2-3j10GkSs/lib/python3.10/site-packages/IPython/core/magics/osm.py:393: UserWarning: This is now an optional IPython functionality, using bookmarks requires you to install the `pickleshare` library.\n",
      "  bkms = self.shell.db.get('bookmarks', {})\n",
      "/dss/dsshome1/0C/ra93lal2/.local/share/virtualenvs/CMA_Fairness_v2-3j10GkSs/lib/python3.10/site-packages/IPython/core/magics/osm.py:417: UserWarning: This is now an optional IPython functionality, setting dhist requires you to install the `pickleshare` library.\n",
      "  self.shell.db['dhist'] = compress_dhist(dhist)[-100:]\n"
     ]
    }
   ],
   "source": [
    "%cd ~/cma/CMA_Fairness_v2"
   ]
  },
  {
   "cell_type": "markdown",
   "id": "de2603b9",
   "metadata": {
    "papermill": {
     "duration": 0.017764,
     "end_time": "2025-08-05T20:46:23.237730",
     "exception": false,
     "start_time": "2025-08-05T20:46:23.219966",
     "status": "completed"
    },
    "tags": []
   },
   "source": [
    "The following cell holds the definition of our parameters, these values can be overriden by rendering the with e.g. the following command:\n",
    "\n",
    "papermill -p alpha 0.2 -p ratio 0.3 universe_analysis.ipynb output/test_run.ipynb"
   ]
  },
  {
   "cell_type": "code",
   "execution_count": 2,
   "id": "a80968a0-40bb-4fa9-85ef-2d5eefb01975",
   "metadata": {
    "execution": {
     "iopub.execute_input": "2025-08-05T20:46:23.275342Z",
     "iopub.status.busy": "2025-08-05T20:46:23.274659Z",
     "iopub.status.idle": "2025-08-05T20:46:23.280381Z",
     "shell.execute_reply": "2025-08-05T20:46:23.279406Z"
    },
    "papermill": {
     "duration": 0.026347,
     "end_time": "2025-08-05T20:46:23.282212",
     "exception": false,
     "start_time": "2025-08-05T20:46:23.255865",
     "status": "completed"
    },
    "tags": []
   },
   "outputs": [
    {
     "name": "stdout",
     "output_type": "stream",
     "text": [
      "Current working directory: /dss/dsshome1/0C/ra93lal2/cma/CMA_Fairness_v2\n"
     ]
    }
   ],
   "source": [
    "import os\n",
    "print(\"Current working directory:\", os.getcwd())"
   ]
  },
  {
   "cell_type": "code",
   "execution_count": 3,
   "id": "2dce4c03",
   "metadata": {
    "execution": {
     "iopub.execute_input": "2025-08-05T20:46:23.319768Z",
     "iopub.status.busy": "2025-08-05T20:46:23.319197Z",
     "iopub.status.idle": "2025-08-05T20:46:23.325460Z",
     "shell.execute_reply": "2025-08-05T20:46:23.324443Z"
    },
    "papermill": {
     "duration": 0.026716,
     "end_time": "2025-08-05T20:46:23.327199",
     "exception": false,
     "start_time": "2025-08-05T20:46:23.300483",
     "status": "completed"
    },
    "tags": [
     "parameters"
    ]
   },
   "outputs": [],
   "source": [
    "run_no = 0\n",
    "universe_id = \"test\"\n",
    "universe = {\n",
    "    \"training_size\": \"25k\", # \"25k\", \"5k\", \"1k\"\n",
    "    \"training_year\": \"2014\", # \"2014\", \"2012_14\", \"2010_14\"\n",
    "    \"scale\": \"scale\", # \"scale\", \"do-not-scale\",\n",
    "    \"model\": \"elasticnet\", # \"logreg\", \"penalized_logreg\", \"rf\", \"gbm\", \"elasticnet\"\n",
    "    \"cutoff\": [\"quantile_0.15\", \"quantile_0.30\"],\n",
    "    \"exclude_features\": \"age\", # \"none\", \"nationality\", \"sex\", \"nationality-sex\", \"age\"\n",
    "    \"exclude_subgroups\": \"keep-all\", # \"keep-all\", \"drop-non-german\"\n",
    "    \"eval_fairness_grouping\": [\"majority-minority\", \"nationality-all\"]\n",
    "}\n",
    "\n",
    "output_dir=\"./output\"\n",
    "seed=0"
   ]
  },
  {
   "cell_type": "code",
   "execution_count": 4,
   "id": "393b2f67",
   "metadata": {
    "execution": {
     "iopub.execute_input": "2025-08-05T20:46:23.365222Z",
     "iopub.status.busy": "2025-08-05T20:46:23.364329Z",
     "iopub.status.idle": "2025-08-05T20:46:23.369798Z",
     "shell.execute_reply": "2025-08-05T20:46:23.368770Z"
    },
    "papermill": {
     "duration": 0.025969,
     "end_time": "2025-08-05T20:46:23.371529",
     "exception": false,
     "start_time": "2025-08-05T20:46:23.345560",
     "status": "completed"
    },
    "tags": [
     "injected-parameters"
    ]
   },
   "outputs": [],
   "source": [
    "# Parameters\n",
    "universe_id = \"9df65e030cd7b86125f0f975f7807877\"\n",
    "run_no = \"16\"\n",
    "universe = \"{\\\"cutoff\\\": [\\\"quantile_0.1\\\", \\\"quantile_0.25\\\"], \\\"eval_fairness_grouping\\\": [\\\"majority-minority\\\", \\\"nationality-all\\\"], \\\"exclude_features\\\": \\\"age\\\", \\\"exclude_subgroups\\\": \\\"keep-all\\\", \\\"model\\\": \\\"gbm\\\", \\\"scale\\\": \\\"do-not-scale\\\", \\\"training_size\\\": \\\"25k\\\", \\\"training_year\\\": \\\"2014\\\"}\"\n",
    "output_dir = \"output\"\n",
    "seed = \"2023\"\n"
   ]
  },
  {
   "cell_type": "code",
   "execution_count": 5,
   "id": "1650acaf",
   "metadata": {
    "execution": {
     "iopub.execute_input": "2025-08-05T20:46:23.406471Z",
     "iopub.status.busy": "2025-08-05T20:46:23.405893Z",
     "iopub.status.idle": "2025-08-05T20:46:23.410808Z",
     "shell.execute_reply": "2025-08-05T20:46:23.409857Z"
    },
    "papermill": {
     "duration": 0.023771,
     "end_time": "2025-08-05T20:46:23.412346",
     "exception": false,
     "start_time": "2025-08-05T20:46:23.388575",
     "status": "completed"
    },
    "tags": []
   },
   "outputs": [],
   "source": [
    "import json\n",
    "if isinstance(universe, str):\n",
    "    universe = json.loads(universe)"
   ]
  },
  {
   "cell_type": "code",
   "execution_count": 6,
   "id": "16620c48",
   "metadata": {
    "execution": {
     "iopub.execute_input": "2025-08-05T20:46:23.446745Z",
     "iopub.status.busy": "2025-08-05T20:46:23.445985Z",
     "iopub.status.idle": "2025-08-05T20:46:23.493252Z",
     "shell.execute_reply": "2025-08-05T20:46:23.492284Z"
    },
    "papermill": {
     "duration": 0.065839,
     "end_time": "2025-08-05T20:46:23.495110",
     "exception": false,
     "start_time": "2025-08-05T20:46:23.429271",
     "status": "completed"
    },
    "tags": []
   },
   "outputs": [],
   "source": [
    "# Auto-reload the custom package\n",
    "%load_ext autoreload\n",
    "%autoreload 1\n",
    "%aimport fairness_multiverse"
   ]
  },
  {
   "cell_type": "code",
   "execution_count": 7,
   "id": "01c5c9f3",
   "metadata": {
    "execution": {
     "iopub.execute_input": "2025-08-05T20:46:23.530467Z",
     "iopub.status.busy": "2025-08-05T20:46:23.529633Z",
     "iopub.status.idle": "2025-08-05T20:46:25.442770Z",
     "shell.execute_reply": "2025-08-05T20:46:25.441733Z"
    },
    "papermill": {
     "duration": 1.932363,
     "end_time": "2025-08-05T20:46:25.444991",
     "exception": false,
     "start_time": "2025-08-05T20:46:23.512628",
     "status": "completed"
    },
    "tags": []
   },
   "outputs": [],
   "source": [
    "from fairness_multiverse.universe import UniverseAnalysis\n",
    "\n",
    "universe_analysis = UniverseAnalysis(\n",
    "    run_no = run_no,\n",
    "    universe_id = universe_id,\n",
    "    universe = universe,\n",
    "    output_dir=output_dir,\n",
    ")"
   ]
  },
  {
   "cell_type": "code",
   "execution_count": 8,
   "id": "106241f5",
   "metadata": {
    "execution": {
     "iopub.execute_input": "2025-08-05T20:46:25.487721Z",
     "iopub.status.busy": "2025-08-05T20:46:25.487035Z",
     "iopub.status.idle": "2025-08-05T20:46:25.493464Z",
     "shell.execute_reply": "2025-08-05T20:46:25.492487Z"
    },
    "papermill": {
     "duration": 0.029704,
     "end_time": "2025-08-05T20:46:25.495380",
     "exception": false,
     "start_time": "2025-08-05T20:46:25.465676",
     "status": "completed"
    },
    "tags": []
   },
   "outputs": [
    {
     "name": "stdout",
     "output_type": "stream",
     "text": [
      "Using Seed: 2023\n"
     ]
    }
   ],
   "source": [
    "import numpy as np\n",
    "parsed_seed = int(seed)\n",
    "np.random.seed(parsed_seed)\n",
    "print(f\"Using Seed: {parsed_seed}\")"
   ]
  },
  {
   "cell_type": "markdown",
   "id": "e0ebdc57",
   "metadata": {
    "papermill": {
     "duration": 0.020027,
     "end_time": "2025-08-05T20:46:25.536048",
     "exception": false,
     "start_time": "2025-08-05T20:46:25.516021",
     "status": "completed"
    },
    "tags": []
   },
   "source": [
    "# Loading Data"
   ]
  },
  {
   "cell_type": "code",
   "execution_count": 9,
   "id": "f0496b8a",
   "metadata": {
    "execution": {
     "iopub.execute_input": "2025-08-05T20:46:25.578749Z",
     "iopub.status.busy": "2025-08-05T20:46:25.577700Z",
     "iopub.status.idle": "2025-08-05T20:46:36.666199Z",
     "shell.execute_reply": "2025-08-05T20:46:36.664853Z"
    },
    "papermill": {
     "duration": 11.111776,
     "end_time": "2025-08-05T20:46:36.667913",
     "exception": false,
     "start_time": "2025-08-05T20:46:25.556137",
     "status": "completed"
    },
    "tags": []
   },
   "outputs": [
    {
     "name": "stdout",
     "output_type": "stream",
     "text": [
      "Loading SIAB data from cache: data/siab_cached.csv.gz\n"
     ]
    },
    {
     "name": "stdout",
     "output_type": "stream",
     "text": [
      "(643690, 164)\n"
     ]
    }
   ],
   "source": [
    "from pathlib import Path\n",
    "import pandas as pd\n",
    "\n",
    "# File paths\n",
    "raw_file = Path(\"data/raw/siab.csv\")\n",
    "cache_file = Path(\"data/siab_cached.csv.gz\")\n",
    "\n",
    "# Ensure cache directory exists\n",
    "cache_file.parent.mkdir(parents=True, exist_ok=True)\n",
    "\n",
    "# Load with simple caching\n",
    "if cache_file.exists():\n",
    "    print(f\"Loading SIAB data from cache: {cache_file}\")\n",
    "    siab = pd.read_csv(cache_file, compression='gzip')\n",
    "else:\n",
    "    print(f\"Cache not found. Reading raw SIAB data: {raw_file}\")\n",
    "    siab = pd.read_csv(raw_file)\n",
    "    siab.to_csv(cache_file, index=False, compression='gzip')\n",
    "    print(f\"Cached SIAB data to: {cache_file}\")\n",
    "\n",
    "print(siab.shape)"
   ]
  },
  {
   "cell_type": "code",
   "execution_count": 10,
   "id": "db0ca512-5f53-4dba-abdb-a2888bca41ba",
   "metadata": {
    "execution": {
     "iopub.execute_input": "2025-08-05T20:46:36.713599Z",
     "iopub.status.busy": "2025-08-05T20:46:36.712653Z",
     "iopub.status.idle": "2025-08-05T20:46:36.718802Z",
     "shell.execute_reply": "2025-08-05T20:46:36.717748Z"
    },
    "papermill": {
     "duration": 0.030214,
     "end_time": "2025-08-05T20:46:36.720609",
     "exception": false,
     "start_time": "2025-08-05T20:46:36.690395",
     "status": "completed"
    },
    "tags": []
   },
   "outputs": [],
   "source": [
    "#siab"
   ]
  },
  {
   "cell_type": "markdown",
   "id": "997051c5-15bd-4b69-9786-c3001a3ce484",
   "metadata": {
    "papermill": {
     "duration": 0.017353,
     "end_time": "2025-08-05T20:46:36.755536",
     "exception": false,
     "start_time": "2025-08-05T20:46:36.738183",
     "status": "completed"
    },
    "tags": []
   },
   "source": [
    "# Splitting Data and Setting Training Data Size"
   ]
  },
  {
   "cell_type": "code",
   "execution_count": 11,
   "id": "aea9c6ef-6f46-42c8-85eb-5a62025c1508",
   "metadata": {
    "execution": {
     "iopub.execute_input": "2025-08-05T20:46:36.792213Z",
     "iopub.status.busy": "2025-08-05T20:46:36.791648Z",
     "iopub.status.idle": "2025-08-05T20:46:37.116836Z",
     "shell.execute_reply": "2025-08-05T20:46:37.115876Z"
    },
    "papermill": {
     "duration": 0.346362,
     "end_time": "2025-08-05T20:46:37.118982",
     "exception": false,
     "start_time": "2025-08-05T20:46:36.772620",
     "status": "completed"
    },
    "tags": []
   },
   "outputs": [],
   "source": [
    "from fairness_multiverse.universe import sample_by_year_size\n",
    "\n",
    "siab_train = sample_by_year_size(siab,\n",
    "                               training_year=universe[\"training_year\"],\n",
    "                               training_size=universe[\"training_size\"])"
   ]
  },
  {
   "cell_type": "code",
   "execution_count": 12,
   "id": "8d3afb32-789d-442c-8d5d-9f5aa8dd2eed",
   "metadata": {
    "execution": {
     "iopub.execute_input": "2025-08-05T20:46:37.155858Z",
     "iopub.status.busy": "2025-08-05T20:46:37.155298Z",
     "iopub.status.idle": "2025-08-05T20:46:37.160738Z",
     "shell.execute_reply": "2025-08-05T20:46:37.159619Z"
    },
    "papermill": {
     "duration": 0.025755,
     "end_time": "2025-08-05T20:46:37.162928",
     "exception": false,
     "start_time": "2025-08-05T20:46:37.137173",
     "status": "completed"
    },
    "tags": []
   },
   "outputs": [],
   "source": [
    "#siab_train.shape"
   ]
  },
  {
   "cell_type": "code",
   "execution_count": 13,
   "id": "d582db68-1a4c-47fb-84fc-08518dc1975a",
   "metadata": {
    "execution": {
     "iopub.execute_input": "2025-08-05T20:46:37.204255Z",
     "iopub.status.busy": "2025-08-05T20:46:37.203376Z",
     "iopub.status.idle": "2025-08-05T20:46:37.208491Z",
     "shell.execute_reply": "2025-08-05T20:46:37.207579Z"
    },
    "papermill": {
     "duration": 0.027788,
     "end_time": "2025-08-05T20:46:37.210499",
     "exception": false,
     "start_time": "2025-08-05T20:46:37.182711",
     "status": "completed"
    },
    "tags": []
   },
   "outputs": [],
   "source": [
    "#display(siab_train.groupby(\"year\").size())"
   ]
  },
  {
   "cell_type": "code",
   "execution_count": 14,
   "id": "a561edb4-d032-42cb-8256-22eac1111c64",
   "metadata": {
    "execution": {
     "iopub.execute_input": "2025-08-05T20:46:37.251977Z",
     "iopub.status.busy": "2025-08-05T20:46:37.251225Z",
     "iopub.status.idle": "2025-08-05T20:46:37.486113Z",
     "shell.execute_reply": "2025-08-05T20:46:37.485056Z"
    },
    "papermill": {
     "duration": 0.257448,
     "end_time": "2025-08-05T20:46:37.488257",
     "exception": false,
     "start_time": "2025-08-05T20:46:37.230809",
     "status": "completed"
    },
    "tags": []
   },
   "outputs": [],
   "source": [
    "#siab_train = siab_s[siab_s.year < 2015]\n",
    "siab_calib = siab[siab.year == 2015]\n",
    "siab_test = siab[siab.year == 2016]"
   ]
  },
  {
   "cell_type": "code",
   "execution_count": 15,
   "id": "472de16f-c3db-4916-846b-1f0de9cf1746",
   "metadata": {
    "execution": {
     "iopub.execute_input": "2025-08-05T20:46:37.529164Z",
     "iopub.status.busy": "2025-08-05T20:46:37.528618Z",
     "iopub.status.idle": "2025-08-05T20:46:37.543194Z",
     "shell.execute_reply": "2025-08-05T20:46:37.542153Z"
    },
    "papermill": {
     "duration": 0.036509,
     "end_time": "2025-08-05T20:46:37.545156",
     "exception": false,
     "start_time": "2025-08-05T20:46:37.508647",
     "status": "completed"
    },
    "tags": []
   },
   "outputs": [],
   "source": [
    "X_train = siab_train.iloc[:,4:164]\n",
    "y_train = siab_train.iloc[:, [3]]"
   ]
  },
  {
   "cell_type": "code",
   "execution_count": 16,
   "id": "828c96af-f43a-4ed6-ba47-8ac73a47d56c",
   "metadata": {
    "execution": {
     "iopub.execute_input": "2025-08-05T20:46:37.586814Z",
     "iopub.status.busy": "2025-08-05T20:46:37.585928Z",
     "iopub.status.idle": "2025-08-05T20:46:37.636526Z",
     "shell.execute_reply": "2025-08-05T20:46:37.635368Z"
    },
    "papermill": {
     "duration": 0.073023,
     "end_time": "2025-08-05T20:46:37.638857",
     "exception": false,
     "start_time": "2025-08-05T20:46:37.565834",
     "status": "completed"
    },
    "tags": []
   },
   "outputs": [],
   "source": [
    "X_calib = siab_calib.iloc[:,4:164]\n",
    "y_calib = siab_calib.iloc[:, [3]]"
   ]
  },
  {
   "cell_type": "code",
   "execution_count": 17,
   "id": "c34be9c3-6bd6-476e-acd3-845840e303be",
   "metadata": {
    "execution": {
     "iopub.execute_input": "2025-08-05T20:46:37.680064Z",
     "iopub.status.busy": "2025-08-05T20:46:37.679413Z",
     "iopub.status.idle": "2025-08-05T20:46:37.731517Z",
     "shell.execute_reply": "2025-08-05T20:46:37.730434Z"
    },
    "papermill": {
     "duration": 0.074407,
     "end_time": "2025-08-05T20:46:37.733493",
     "exception": false,
     "start_time": "2025-08-05T20:46:37.659086",
     "status": "completed"
    },
    "tags": []
   },
   "outputs": [],
   "source": [
    "X_test = siab_test.iloc[:,4:164]\n",
    "y_true = siab_test.iloc[:, [3]]"
   ]
  },
  {
   "cell_type": "code",
   "execution_count": 18,
   "id": "e6c733c5",
   "metadata": {
    "execution": {
     "iopub.execute_input": "2025-08-05T20:46:37.770854Z",
     "iopub.status.busy": "2025-08-05T20:46:37.770308Z",
     "iopub.status.idle": "2025-08-05T20:46:37.870033Z",
     "shell.execute_reply": "2025-08-05T20:46:37.869013Z"
    },
    "papermill": {
     "duration": 0.120104,
     "end_time": "2025-08-05T20:46:37.872048",
     "exception": false,
     "start_time": "2025-08-05T20:46:37.751944",
     "status": "completed"
    },
    "tags": []
   },
   "outputs": [],
   "source": [
    "# Auxiliary data needed downstream in the pipeline\n",
    "\n",
    "org_train = X_train.copy()\n",
    "org_test = X_test.copy()\n",
    "org_calib = X_calib.copy()"
   ]
  },
  {
   "cell_type": "markdown",
   "id": "0a4a1b33",
   "metadata": {
    "papermill": {
     "duration": 0.017148,
     "end_time": "2025-08-05T20:46:37.909548",
     "exception": false,
     "start_time": "2025-08-05T20:46:37.892400",
     "status": "completed"
    },
    "tags": []
   },
   "source": [
    "# Preprocessing Data"
   ]
  },
  {
   "cell_type": "code",
   "execution_count": 19,
   "id": "ca879031",
   "metadata": {
    "execution": {
     "iopub.execute_input": "2025-08-05T20:46:37.946098Z",
     "iopub.status.busy": "2025-08-05T20:46:37.945387Z",
     "iopub.status.idle": "2025-08-05T20:46:37.951721Z",
     "shell.execute_reply": "2025-08-05T20:46:37.950714Z"
    },
    "papermill": {
     "duration": 0.026823,
     "end_time": "2025-08-05T20:46:37.953420",
     "exception": false,
     "start_time": "2025-08-05T20:46:37.926597",
     "status": "completed"
    },
    "tags": []
   },
   "outputs": [],
   "source": [
    "# EXCLUDE PROTECTED FEATURES\n",
    "# ----------------------\n",
    "# \"exclude_features\": \"none\", # \"nationality\", \"sex\", \"nationality-sex\"\n",
    "\n",
    "excluded_features = universe[\"exclude_features\"].split(\"-\") # split, e.g.: \"nationality-sex\" -> [\"nationality\", \"sex\"]\n",
    "excluded_features_dictionary = {\n",
    "    \"nationality\": [\"maxdeutsch1\", \"maxdeutsch.Missing.\"],\n",
    "    \"sex\": [\"frau1\"],\n",
    "    \"age\": [\"age\"],\n",
    "}"
   ]
  },
  {
   "cell_type": "code",
   "execution_count": 20,
   "id": "b745ac60",
   "metadata": {
    "execution": {
     "iopub.execute_input": "2025-08-05T20:46:37.990456Z",
     "iopub.status.busy": "2025-08-05T20:46:37.989651Z",
     "iopub.status.idle": "2025-08-05T20:46:37.995376Z",
     "shell.execute_reply": "2025-08-05T20:46:37.994433Z"
    },
    "papermill": {
     "duration": 0.025767,
     "end_time": "2025-08-05T20:46:37.997149",
     "exception": false,
     "start_time": "2025-08-05T20:46:37.971382",
     "status": "completed"
    },
    "tags": []
   },
   "outputs": [],
   "source": [
    "# Code nice names to column names\n",
    "\n",
    "excluded_features_columns = [\n",
    "    excluded_features_dictionary[f] for f in excluded_features if len(f) > 0 and f != \"none\"\n",
    "]"
   ]
  },
  {
   "cell_type": "code",
   "execution_count": 21,
   "id": "f84f73a2",
   "metadata": {
    "execution": {
     "iopub.execute_input": "2025-08-05T20:46:38.039041Z",
     "iopub.status.busy": "2025-08-05T20:46:38.038255Z",
     "iopub.status.idle": "2025-08-05T20:46:38.044550Z",
     "shell.execute_reply": "2025-08-05T20:46:38.043533Z"
    },
    "papermill": {
     "duration": 0.029181,
     "end_time": "2025-08-05T20:46:38.046447",
     "exception": false,
     "start_time": "2025-08-05T20:46:38.017266",
     "status": "completed"
    },
    "tags": []
   },
   "outputs": [],
   "source": [
    "from utils import flatten_once\n",
    "\n",
    "excluded_features_columns = flatten_once(excluded_features_columns)"
   ]
  },
  {
   "cell_type": "code",
   "execution_count": 22,
   "id": "884dea22",
   "metadata": {
    "execution": {
     "iopub.execute_input": "2025-08-05T20:46:38.084068Z",
     "iopub.status.busy": "2025-08-05T20:46:38.083301Z",
     "iopub.status.idle": "2025-08-05T20:46:38.100598Z",
     "shell.execute_reply": "2025-08-05T20:46:38.099475Z"
    },
    "papermill": {
     "duration": 0.037986,
     "end_time": "2025-08-05T20:46:38.102508",
     "exception": false,
     "start_time": "2025-08-05T20:46:38.064522",
     "status": "completed"
    },
    "tags": []
   },
   "outputs": [
    {
     "name": "stdout",
     "output_type": "stream",
     "text": [
      "Dropping features: ['age']\n"
     ]
    }
   ],
   "source": [
    "if len(excluded_features_columns) > 0:\n",
    "    print(f\"Dropping features: {excluded_features_columns}\")\n",
    "    X_train.drop(excluded_features_columns, axis=1, inplace=True)"
   ]
  },
  {
   "cell_type": "code",
   "execution_count": 23,
   "id": "95ab8b16",
   "metadata": {
    "execution": {
     "iopub.execute_input": "2025-08-05T20:46:38.144626Z",
     "iopub.status.busy": "2025-08-05T20:46:38.143891Z",
     "iopub.status.idle": "2025-08-05T20:46:38.200389Z",
     "shell.execute_reply": "2025-08-05T20:46:38.199318Z"
    },
    "papermill": {
     "duration": 0.07906,
     "end_time": "2025-08-05T20:46:38.202392",
     "exception": false,
     "start_time": "2025-08-05T20:46:38.123332",
     "status": "completed"
    },
    "tags": []
   },
   "outputs": [
    {
     "name": "stdout",
     "output_type": "stream",
     "text": [
      "Dropping features: ['age']\n"
     ]
    }
   ],
   "source": [
    "if len(excluded_features_columns) > 0:\n",
    "    print(f\"Dropping features: {excluded_features_columns}\")\n",
    "    X_test.drop(excluded_features_columns, axis=1, inplace=True)"
   ]
  },
  {
   "cell_type": "code",
   "execution_count": 24,
   "id": "1853aaf5-fb9f-46cb-a2b5-8ea4ae2237e4",
   "metadata": {
    "execution": {
     "iopub.execute_input": "2025-08-05T20:46:38.245881Z",
     "iopub.status.busy": "2025-08-05T20:46:38.245059Z",
     "iopub.status.idle": "2025-08-05T20:46:38.297316Z",
     "shell.execute_reply": "2025-08-05T20:46:38.296219Z"
    },
    "papermill": {
     "duration": 0.076012,
     "end_time": "2025-08-05T20:46:38.299654",
     "exception": false,
     "start_time": "2025-08-05T20:46:38.223642",
     "status": "completed"
    },
    "tags": []
   },
   "outputs": [
    {
     "name": "stdout",
     "output_type": "stream",
     "text": [
      "Dropping features: ['age']\n"
     ]
    }
   ],
   "source": [
    "if len(excluded_features_columns) > 0:\n",
    "    print(f\"Dropping features: {excluded_features_columns}\")\n",
    "    X_calib.drop(excluded_features_columns, axis=1, inplace=True)"
   ]
  },
  {
   "cell_type": "code",
   "execution_count": 25,
   "id": "76c4dc6d",
   "metadata": {
    "execution": {
     "iopub.execute_input": "2025-08-05T20:46:38.338785Z",
     "iopub.status.busy": "2025-08-05T20:46:38.337970Z",
     "iopub.status.idle": "2025-08-05T20:46:38.343524Z",
     "shell.execute_reply": "2025-08-05T20:46:38.342517Z"
    },
    "papermill": {
     "duration": 0.026554,
     "end_time": "2025-08-05T20:46:38.345330",
     "exception": false,
     "start_time": "2025-08-05T20:46:38.318776",
     "status": "completed"
    },
    "tags": []
   },
   "outputs": [],
   "source": [
    "# EXCLUDE CERTAIN SUBGROUPS\n",
    "# ----------------------\n",
    "\n",
    "mode = universe.get(\"exclude_subgroups\", \"keep-all\") \n",
    "# Fetches the exclude_subgroups setting from the universe dict.\n",
    "# Defaults to \"keep-all\" if the key is missing."
   ]
  },
  {
   "cell_type": "code",
   "execution_count": 26,
   "id": "21994072",
   "metadata": {
    "execution": {
     "iopub.execute_input": "2025-08-05T20:46:38.387917Z",
     "iopub.status.busy": "2025-08-05T20:46:38.387078Z",
     "iopub.status.idle": "2025-08-05T20:46:38.394000Z",
     "shell.execute_reply": "2025-08-05T20:46:38.392933Z"
    },
    "papermill": {
     "duration": 0.030144,
     "end_time": "2025-08-05T20:46:38.395831",
     "exception": false,
     "start_time": "2025-08-05T20:46:38.365687",
     "status": "completed"
    },
    "tags": []
   },
   "outputs": [],
   "source": [
    "if mode == \"keep-all\":\n",
    "    keep_mask = pd.Series(True, index=org_train.index)\n",
    "\n",
    "# org_train contains the original feature columns from features_org (in Simson)\n",
    "# features_org contains unprocessed features, for me X_train at beginning ???\n",
    "# For keep-all, creates a boolean Series (keep_mask) of all True, so no rows are removed.\n",
    "\n",
    "elif mode == \"drop-non-german\":\n",
    "    keep_mask = org_train[\"maxdeutsch1\"] == 1 # ??? what about missing values?\n",
    "\n",
    "else:\n",
    "    raise ValueError(f\"Unsupported mode for exclude_subgroups: {mode}\")"
   ]
  },
  {
   "cell_type": "code",
   "execution_count": 27,
   "id": "71651440",
   "metadata": {
    "execution": {
     "iopub.execute_input": "2025-08-05T20:46:38.438921Z",
     "iopub.status.busy": "2025-08-05T20:46:38.438011Z",
     "iopub.status.idle": "2025-08-05T20:46:38.444965Z",
     "shell.execute_reply": "2025-08-05T20:46:38.443973Z"
    },
    "papermill": {
     "duration": 0.029895,
     "end_time": "2025-08-05T20:46:38.446662",
     "exception": false,
     "start_time": "2025-08-05T20:46:38.416767",
     "status": "completed"
    },
    "tags": []
   },
   "outputs": [],
   "source": [
    "n_drop = (~keep_mask).sum() # Calculates how many rows are set to be dropped\n",
    "if n_drop > 0:\n",
    "    pct = n_drop / len(keep_mask) * 100\n",
    "    print(f\"Dropping {n_drop} rows ({pct:.2f}%) where mode='{mode}'\")"
   ]
  },
  {
   "cell_type": "code",
   "execution_count": 28,
   "id": "5fb8eee5",
   "metadata": {
    "execution": {
     "iopub.execute_input": "2025-08-05T20:46:38.488968Z",
     "iopub.status.busy": "2025-08-05T20:46:38.488351Z",
     "iopub.status.idle": "2025-08-05T20:46:38.503678Z",
     "shell.execute_reply": "2025-08-05T20:46:38.502609Z"
    },
    "papermill": {
     "duration": 0.038212,
     "end_time": "2025-08-05T20:46:38.505447",
     "exception": false,
     "start_time": "2025-08-05T20:46:38.467235",
     "status": "completed"
    },
    "tags": []
   },
   "outputs": [],
   "source": [
    "X_train = X_train[keep_mask]"
   ]
  },
  {
   "cell_type": "code",
   "execution_count": 29,
   "id": "b202bb3a",
   "metadata": {
    "execution": {
     "iopub.execute_input": "2025-08-05T20:46:38.544156Z",
     "iopub.status.busy": "2025-08-05T20:46:38.543536Z",
     "iopub.status.idle": "2025-08-05T20:46:38.549965Z",
     "shell.execute_reply": "2025-08-05T20:46:38.548963Z"
    },
    "papermill": {
     "duration": 0.026998,
     "end_time": "2025-08-05T20:46:38.551701",
     "exception": false,
     "start_time": "2025-08-05T20:46:38.524703",
     "status": "completed"
    },
    "tags": []
   },
   "outputs": [],
   "source": [
    "y_train = y_train[keep_mask]"
   ]
  },
  {
   "cell_type": "markdown",
   "id": "493e2ac3",
   "metadata": {
    "papermill": {
     "duration": 0.018223,
     "end_time": "2025-08-05T20:46:38.588903",
     "exception": false,
     "start_time": "2025-08-05T20:46:38.570680",
     "status": "completed"
    },
    "tags": []
   },
   "source": [
    "# Model Training"
   ]
  },
  {
   "cell_type": "code",
   "execution_count": 30,
   "id": "679e1268",
   "metadata": {
    "execution": {
     "iopub.execute_input": "2025-08-05T20:46:38.626765Z",
     "iopub.status.busy": "2025-08-05T20:46:38.626098Z",
     "iopub.status.idle": "2025-08-05T20:46:38.736694Z",
     "shell.execute_reply": "2025-08-05T20:46:38.735592Z"
    },
    "papermill": {
     "duration": 0.131622,
     "end_time": "2025-08-05T20:46:38.738648",
     "exception": false,
     "start_time": "2025-08-05T20:46:38.607026",
     "status": "completed"
    },
    "tags": []
   },
   "outputs": [],
   "source": [
    "from sklearn.linear_model import LogisticRegression\n",
    "from sklearn.ensemble import GradientBoostingClassifier, RandomForestClassifier\n",
    "\n",
    "if (universe[\"model\"] == \"logreg\"):\n",
    "    model = LogisticRegression() #penalty=\"none\", solver=\"newton-cg\", max_iter=1) # include random_state=19 ?\n",
    "elif (universe[\"model\"] == \"penalized_logreg\"):\n",
    "    model = LogisticRegression(penalty=\"l2\", C=0.1) #, solver=\"newton-cg\", max_iter=1)\n",
    "elif (universe[\"model\"] == \"rf\"):\n",
    "    model = RandomForestClassifier() # n_estimators=100, n_jobs=-1\n",
    "elif (universe[\"model\"] == \"gbm\"):\n",
    "    model = GradientBoostingClassifier()\n",
    "elif (universe[\"model\"] == \"elasticnet\"):\n",
    "    model = LogisticRegression(penalty = 'elasticnet', solver = 'saga', l1_ratio = 0.5) # max_iter=5000\n",
    "else:\n",
    "    raise \"Unsupported universe.model\""
   ]
  },
  {
   "cell_type": "code",
   "execution_count": 31,
   "id": "0cc8f744",
   "metadata": {
    "execution": {
     "iopub.execute_input": "2025-08-05T20:46:38.778397Z",
     "iopub.status.busy": "2025-08-05T20:46:38.777718Z",
     "iopub.status.idle": "2025-08-05T20:46:38.784501Z",
     "shell.execute_reply": "2025-08-05T20:46:38.783477Z"
    },
    "papermill": {
     "duration": 0.0282,
     "end_time": "2025-08-05T20:46:38.786306",
     "exception": false,
     "start_time": "2025-08-05T20:46:38.758106",
     "status": "completed"
    },
    "tags": []
   },
   "outputs": [],
   "source": [
    "import numpy as np\n",
    "from sklearn.pipeline import Pipeline\n",
    "from sklearn.preprocessing import StandardScaler\n",
    "\n",
    "model = Pipeline([\n",
    "    #(\"continuous_processor\", continuous_processor),\n",
    "    #(\"categorical_preprocessor\", categorical_preprocessor),\n",
    "    (\"scale\", StandardScaler() if universe[\"scale\"] == \"scale\" else None), \n",
    "    (\"model\", model),\n",
    "])"
   ]
  },
  {
   "cell_type": "code",
   "execution_count": 32,
   "id": "9442c04d",
   "metadata": {
    "execution": {
     "iopub.execute_input": "2025-08-05T20:46:38.824875Z",
     "iopub.status.busy": "2025-08-05T20:46:38.824159Z",
     "iopub.status.idle": "2025-08-05T20:47:04.529774Z",
     "shell.execute_reply": "2025-08-05T20:47:04.528691Z"
    },
    "papermill": {
     "duration": 25.726334,
     "end_time": "2025-08-05T20:47:04.531410",
     "exception": false,
     "start_time": "2025-08-05T20:46:38.805076",
     "status": "completed"
    },
    "tags": []
   },
   "outputs": [
    {
     "data": {
      "text/html": [
       "<style>#sk-container-id-1 {color: black;background-color: white;}#sk-container-id-1 pre{padding: 0;}#sk-container-id-1 div.sk-toggleable {background-color: white;}#sk-container-id-1 label.sk-toggleable__label {cursor: pointer;display: block;width: 100%;margin-bottom: 0;padding: 0.3em;box-sizing: border-box;text-align: center;}#sk-container-id-1 label.sk-toggleable__label-arrow:before {content: \"▸\";float: left;margin-right: 0.25em;color: #696969;}#sk-container-id-1 label.sk-toggleable__label-arrow:hover:before {color: black;}#sk-container-id-1 div.sk-estimator:hover label.sk-toggleable__label-arrow:before {color: black;}#sk-container-id-1 div.sk-toggleable__content {max-height: 0;max-width: 0;overflow: hidden;text-align: left;background-color: #f0f8ff;}#sk-container-id-1 div.sk-toggleable__content pre {margin: 0.2em;color: black;border-radius: 0.25em;background-color: #f0f8ff;}#sk-container-id-1 input.sk-toggleable__control:checked~div.sk-toggleable__content {max-height: 200px;max-width: 100%;overflow: auto;}#sk-container-id-1 input.sk-toggleable__control:checked~label.sk-toggleable__label-arrow:before {content: \"▾\";}#sk-container-id-1 div.sk-estimator input.sk-toggleable__control:checked~label.sk-toggleable__label {background-color: #d4ebff;}#sk-container-id-1 div.sk-label input.sk-toggleable__control:checked~label.sk-toggleable__label {background-color: #d4ebff;}#sk-container-id-1 input.sk-hidden--visually {border: 0;clip: rect(1px 1px 1px 1px);clip: rect(1px, 1px, 1px, 1px);height: 1px;margin: -1px;overflow: hidden;padding: 0;position: absolute;width: 1px;}#sk-container-id-1 div.sk-estimator {font-family: monospace;background-color: #f0f8ff;border: 1px dotted black;border-radius: 0.25em;box-sizing: border-box;margin-bottom: 0.5em;}#sk-container-id-1 div.sk-estimator:hover {background-color: #d4ebff;}#sk-container-id-1 div.sk-parallel-item::after {content: \"\";width: 100%;border-bottom: 1px solid gray;flex-grow: 1;}#sk-container-id-1 div.sk-label:hover label.sk-toggleable__label {background-color: #d4ebff;}#sk-container-id-1 div.sk-serial::before {content: \"\";position: absolute;border-left: 1px solid gray;box-sizing: border-box;top: 0;bottom: 0;left: 50%;z-index: 0;}#sk-container-id-1 div.sk-serial {display: flex;flex-direction: column;align-items: center;background-color: white;padding-right: 0.2em;padding-left: 0.2em;position: relative;}#sk-container-id-1 div.sk-item {position: relative;z-index: 1;}#sk-container-id-1 div.sk-parallel {display: flex;align-items: stretch;justify-content: center;background-color: white;position: relative;}#sk-container-id-1 div.sk-item::before, #sk-container-id-1 div.sk-parallel-item::before {content: \"\";position: absolute;border-left: 1px solid gray;box-sizing: border-box;top: 0;bottom: 0;left: 50%;z-index: -1;}#sk-container-id-1 div.sk-parallel-item {display: flex;flex-direction: column;z-index: 1;position: relative;background-color: white;}#sk-container-id-1 div.sk-parallel-item:first-child::after {align-self: flex-end;width: 50%;}#sk-container-id-1 div.sk-parallel-item:last-child::after {align-self: flex-start;width: 50%;}#sk-container-id-1 div.sk-parallel-item:only-child::after {width: 0;}#sk-container-id-1 div.sk-dashed-wrapped {border: 1px dashed gray;margin: 0 0.4em 0.5em 0.4em;box-sizing: border-box;padding-bottom: 0.4em;background-color: white;}#sk-container-id-1 div.sk-label label {font-family: monospace;font-weight: bold;display: inline-block;line-height: 1.2em;}#sk-container-id-1 div.sk-label-container {text-align: center;}#sk-container-id-1 div.sk-container {/* jupyter's `normalize.less` sets `[hidden] { display: none; }` but bootstrap.min.css set `[hidden] { display: none !important; }` so we also need the `!important` here to be able to override the default hidden behavior on the sphinx rendered scikit-learn.org. See: https://github.com/scikit-learn/scikit-learn/issues/21755 */display: inline-block !important;position: relative;}#sk-container-id-1 div.sk-text-repr-fallback {display: none;}</style><div id=\"sk-container-id-1\" class=\"sk-top-container\"><div class=\"sk-text-repr-fallback\"><pre>Pipeline(steps=[(&#x27;scale&#x27;, None), (&#x27;model&#x27;, GradientBoostingClassifier())])</pre><b>In a Jupyter environment, please rerun this cell to show the HTML representation or trust the notebook. <br />On GitHub, the HTML representation is unable to render, please try loading this page with nbviewer.org.</b></div><div class=\"sk-container\" hidden><div class=\"sk-item sk-dashed-wrapped\"><div class=\"sk-label-container\"><div class=\"sk-label sk-toggleable\"><input class=\"sk-toggleable__control sk-hidden--visually\" id=\"sk-estimator-id-1\" type=\"checkbox\" ><label for=\"sk-estimator-id-1\" class=\"sk-toggleable__label sk-toggleable__label-arrow\">Pipeline</label><div class=\"sk-toggleable__content\"><pre>Pipeline(steps=[(&#x27;scale&#x27;, None), (&#x27;model&#x27;, GradientBoostingClassifier())])</pre></div></div></div><div class=\"sk-serial\"><div class=\"sk-item\"><div class=\"sk-estimator sk-toggleable\"><input class=\"sk-toggleable__control sk-hidden--visually\" id=\"sk-estimator-id-2\" type=\"checkbox\" ><label for=\"sk-estimator-id-2\" class=\"sk-toggleable__label sk-toggleable__label-arrow\">None</label><div class=\"sk-toggleable__content\"><pre>None</pre></div></div></div><div class=\"sk-item\"><div class=\"sk-estimator sk-toggleable\"><input class=\"sk-toggleable__control sk-hidden--visually\" id=\"sk-estimator-id-3\" type=\"checkbox\" ><label for=\"sk-estimator-id-3\" class=\"sk-toggleable__label sk-toggleable__label-arrow\">GradientBoostingClassifier</label><div class=\"sk-toggleable__content\"><pre>GradientBoostingClassifier()</pre></div></div></div></div></div></div></div>"
      ],
      "text/plain": [
       "Pipeline(steps=[('scale', None), ('model', GradientBoostingClassifier())])"
      ]
     },
     "execution_count": 32,
     "metadata": {},
     "output_type": "execute_result"
    }
   ],
   "source": [
    "model.fit(X_train, y_train.values.ravel())"
   ]
  },
  {
   "cell_type": "code",
   "execution_count": 33,
   "id": "af59f8c0",
   "metadata": {
    "execution": {
     "iopub.execute_input": "2025-08-05T20:47:04.573644Z",
     "iopub.status.busy": "2025-08-05T20:47:04.573186Z",
     "iopub.status.idle": "2025-08-05T20:47:04.579149Z",
     "shell.execute_reply": "2025-08-05T20:47:04.578129Z"
    },
    "papermill": {
     "duration": 0.027224,
     "end_time": "2025-08-05T20:47:04.580971",
     "exception": false,
     "start_time": "2025-08-05T20:47:04.553747",
     "status": "completed"
    },
    "tags": []
   },
   "outputs": [],
   "source": [
    "from fairness_multiverse.universe import predict_w_threshold"
   ]
  },
  {
   "cell_type": "code",
   "execution_count": 34,
   "id": "a7cf2e16",
   "metadata": {
    "execution": {
     "iopub.execute_input": "2025-08-05T20:47:04.622068Z",
     "iopub.status.busy": "2025-08-05T20:47:04.621484Z",
     "iopub.status.idle": "2025-08-05T20:47:05.250885Z",
     "shell.execute_reply": "2025-08-05T20:47:05.249852Z"
    },
    "papermill": {
     "duration": 0.651524,
     "end_time": "2025-08-05T20:47:05.252614",
     "exception": false,
     "start_time": "2025-08-05T20:47:04.601090",
     "status": "completed"
    },
    "tags": []
   },
   "outputs": [
    {
     "data": {
      "text/plain": [
       "0.8704269312228291"
      ]
     },
     "execution_count": 34,
     "metadata": {},
     "output_type": "execute_result"
    }
   ],
   "source": [
    "probs_test = model.predict_proba(X_test)\n",
    "\n",
    "'''\n",
    "Below code returns a boolean array (or binary 0/1 array depending on how it’s used) where each element \n",
    "is True if the probability of class 1 is greater than or equal to the threshold, and False otherwise.\n",
    "'''\n",
    "y_pred_default = predict_w_threshold(probs_test, 0.5)\n",
    "\n",
    "from sklearn.metrics import accuracy_score\n",
    "\n",
    "# Naive prediction\n",
    "accuracy_score(y_true = y_true, y_pred = y_pred_default)"
   ]
  },
  {
   "cell_type": "code",
   "execution_count": 35,
   "id": "081964c3",
   "metadata": {
    "execution": {
     "iopub.execute_input": "2025-08-05T20:47:05.291354Z",
     "iopub.status.busy": "2025-08-05T20:47:05.290660Z",
     "iopub.status.idle": "2025-08-05T20:47:05.855044Z",
     "shell.execute_reply": "2025-08-05T20:47:05.854185Z"
    },
    "papermill": {
     "duration": 0.58589,
     "end_time": "2025-08-05T20:47:05.856669",
     "exception": false,
     "start_time": "2025-08-05T20:47:05.270779",
     "status": "completed"
    },
    "tags": []
   },
   "outputs": [
    {
     "data": {
      "text/plain": [
       "array([0, 0, 0, ..., 0, 0, 0])"
      ]
     },
     "execution_count": 35,
     "metadata": {},
     "output_type": "execute_result"
    }
   ],
   "source": [
    "model.predict(X_test)"
   ]
  },
  {
   "cell_type": "markdown",
   "id": "56c9705b",
   "metadata": {
    "papermill": {
     "duration": 0.019037,
     "end_time": "2025-08-05T20:47:05.895341",
     "exception": false,
     "start_time": "2025-08-05T20:47:05.876304",
     "status": "completed"
    },
    "tags": []
   },
   "source": [
    "# Conformal Prediction"
   ]
  },
  {
   "cell_type": "code",
   "execution_count": 36,
   "id": "160ec6ff",
   "metadata": {
    "execution": {
     "iopub.execute_input": "2025-08-05T20:47:05.936265Z",
     "iopub.status.busy": "2025-08-05T20:47:05.935235Z",
     "iopub.status.idle": "2025-08-05T20:47:05.940575Z",
     "shell.execute_reply": "2025-08-05T20:47:05.939570Z"
    },
    "papermill": {
     "duration": 0.027513,
     "end_time": "2025-08-05T20:47:05.942459",
     "exception": false,
     "start_time": "2025-08-05T20:47:05.914946",
     "status": "completed"
    },
    "tags": []
   },
   "outputs": [],
   "source": [
    "# Miscoverage level for conformal prediction (10% allowed error rate => 90% target coverage)\n",
    "alpha = 0.1"
   ]
  },
  {
   "cell_type": "code",
   "execution_count": 37,
   "id": "eadf4555-3dd3-440e-8e35-f82a4ad9f855",
   "metadata": {
    "execution": {
     "iopub.execute_input": "2025-08-05T20:47:05.983697Z",
     "iopub.status.busy": "2025-08-05T20:47:05.983396Z",
     "iopub.status.idle": "2025-08-05T20:47:06.404523Z",
     "shell.execute_reply": "2025-08-05T20:47:06.403756Z"
    },
    "papermill": {
     "duration": 0.443774,
     "end_time": "2025-08-05T20:47:06.406426",
     "exception": false,
     "start_time": "2025-08-05T20:47:05.962652",
     "status": "completed"
    },
    "tags": []
   },
   "outputs": [],
   "source": [
    "probs_calib = model.predict_proba(X_calib)"
   ]
  },
  {
   "cell_type": "code",
   "execution_count": 38,
   "id": "2ed93547-6d5d-4983-9b36-1ecb300da49a",
   "metadata": {
    "execution": {
     "iopub.execute_input": "2025-08-05T20:47:06.458861Z",
     "iopub.status.busy": "2025-08-05T20:47:06.458097Z",
     "iopub.status.idle": "2025-08-05T20:47:06.462873Z",
     "shell.execute_reply": "2025-08-05T20:47:06.462174Z"
    },
    "papermill": {
     "duration": 0.021437,
     "end_time": "2025-08-05T20:47:06.464087",
     "exception": false,
     "start_time": "2025-08-05T20:47:06.442650",
     "status": "completed"
    },
    "tags": []
   },
   "outputs": [],
   "source": [
    "y_calib = y_calib.values.ravel().astype(int)"
   ]
  },
  {
   "cell_type": "code",
   "execution_count": 39,
   "id": "65d1320d-f588-4b38-9072-62af1ae97f7d",
   "metadata": {
    "execution": {
     "iopub.execute_input": "2025-08-05T20:47:06.486356Z",
     "iopub.status.busy": "2025-08-05T20:47:06.485876Z",
     "iopub.status.idle": "2025-08-05T20:47:06.491421Z",
     "shell.execute_reply": "2025-08-05T20:47:06.490692Z"
    },
    "papermill": {
     "duration": 0.017761,
     "end_time": "2025-08-05T20:47:06.492777",
     "exception": false,
     "start_time": "2025-08-05T20:47:06.475016",
     "status": "completed"
    },
    "tags": []
   },
   "outputs": [],
   "source": [
    "from fairness_multiverse.conformal import compute_nc_scores\n",
    "\n",
    "# Compute nonconformity scores on calibration set (1 - probability of true class)\n",
    "nc_scores = compute_nc_scores(probs_calib, y_calib)"
   ]
  },
  {
   "cell_type": "code",
   "execution_count": 40,
   "id": "df3b8ca3-53b7-43d5-9667-7c85da7aeda2",
   "metadata": {
    "execution": {
     "iopub.execute_input": "2025-08-05T20:47:06.514212Z",
     "iopub.status.busy": "2025-08-05T20:47:06.513715Z",
     "iopub.status.idle": "2025-08-05T20:47:06.519031Z",
     "shell.execute_reply": "2025-08-05T20:47:06.518210Z"
    },
    "papermill": {
     "duration": 0.017201,
     "end_time": "2025-08-05T20:47:06.520298",
     "exception": false,
     "start_time": "2025-08-05T20:47:06.503097",
     "status": "completed"
    },
    "tags": []
   },
   "outputs": [],
   "source": [
    "from fairness_multiverse.conformal import find_threshold\n",
    "\n",
    "# Find conformal threshold q_hat for the given alpha (split conformal method)\n",
    "q_hat = find_threshold(nc_scores, alpha)"
   ]
  },
  {
   "cell_type": "code",
   "execution_count": 41,
   "id": "4d29e6c1-0ef6-4aa4-b8fe-4fe79b0d033a",
   "metadata": {
    "execution": {
     "iopub.execute_input": "2025-08-05T20:47:06.541967Z",
     "iopub.status.busy": "2025-08-05T20:47:06.541566Z",
     "iopub.status.idle": "2025-08-05T20:47:06.547602Z",
     "shell.execute_reply": "2025-08-05T20:47:06.546776Z"
    },
    "papermill": {
     "duration": 0.018246,
     "end_time": "2025-08-05T20:47:06.548938",
     "exception": false,
     "start_time": "2025-08-05T20:47:06.530692",
     "status": "completed"
    },
    "tags": []
   },
   "outputs": [
    {
     "data": {
      "text/plain": [
       "0.688902768858837"
      ]
     },
     "execution_count": 41,
     "metadata": {},
     "output_type": "execute_result"
    }
   ],
   "source": [
    "q_hat"
   ]
  },
  {
   "cell_type": "code",
   "execution_count": 42,
   "id": "92460794-cdac-4be2-ba28-f28c0515a6fb",
   "metadata": {
    "execution": {
     "iopub.execute_input": "2025-08-05T20:47:06.580960Z",
     "iopub.status.busy": "2025-08-05T20:47:06.580617Z",
     "iopub.status.idle": "2025-08-05T20:47:07.636369Z",
     "shell.execute_reply": "2025-08-05T20:47:07.635270Z"
    },
    "papermill": {
     "duration": 1.073651,
     "end_time": "2025-08-05T20:47:07.638586",
     "exception": false,
     "start_time": "2025-08-05T20:47:06.564935",
     "status": "completed"
    },
    "tags": []
   },
   "outputs": [],
   "source": [
    "from fairness_multiverse.conformal import predict_conformal_sets\n",
    "\n",
    "# Generate prediction sets for each test example\n",
    "pred_sets = predict_conformal_sets(model, X_test, q_hat)"
   ]
  },
  {
   "cell_type": "code",
   "execution_count": 43,
   "id": "d90c9a65-e6db-4f5d-80cd-e68fb7e46829",
   "metadata": {
    "execution": {
     "iopub.execute_input": "2025-08-05T20:47:07.688879Z",
     "iopub.status.busy": "2025-08-05T20:47:07.688223Z",
     "iopub.status.idle": "2025-08-05T20:47:07.694179Z",
     "shell.execute_reply": "2025-08-05T20:47:07.693019Z"
    },
    "papermill": {
     "duration": 0.032932,
     "end_time": "2025-08-05T20:47:07.696055",
     "exception": false,
     "start_time": "2025-08-05T20:47:07.663123",
     "status": "completed"
    },
    "tags": []
   },
   "outputs": [],
   "source": [
    "y_true = y_true.squeeze()"
   ]
  },
  {
   "cell_type": "code",
   "execution_count": 44,
   "id": "3a58a54a-1e68-46b9-927a-df01f18aebc8",
   "metadata": {
    "execution": {
     "iopub.execute_input": "2025-08-05T20:47:07.744781Z",
     "iopub.status.busy": "2025-08-05T20:47:07.744135Z",
     "iopub.status.idle": "2025-08-05T20:47:08.576587Z",
     "shell.execute_reply": "2025-08-05T20:47:08.575637Z"
    },
    "papermill": {
     "duration": 0.858409,
     "end_time": "2025-08-05T20:47:08.578110",
     "exception": false,
     "start_time": "2025-08-05T20:47:07.719701",
     "status": "completed"
    },
    "tags": []
   },
   "outputs": [],
   "source": [
    "from fairness_multiverse.conformal import evaluate_sets\n",
    "\n",
    "# Evaluate coverage and average set size on test data\n",
    "metrics = evaluate_sets(pred_sets, y_true)"
   ]
  },
  {
   "cell_type": "markdown",
   "id": "2b569c12-9aaa-4c88-98c9-bbcd0cf3ebb8",
   "metadata": {
    "papermill": {
     "duration": 0.010329,
     "end_time": "2025-08-05T20:47:08.599451",
     "exception": false,
     "start_time": "2025-08-05T20:47:08.589122",
     "status": "completed"
    },
    "tags": []
   },
   "source": [
    "# CP Metrics"
   ]
  },
  {
   "cell_type": "code",
   "execution_count": 45,
   "id": "5ce0a5cb-201f-45a0-ade5-94c7f0bd6095",
   "metadata": {
    "execution": {
     "iopub.execute_input": "2025-08-05T20:47:08.621306Z",
     "iopub.status.busy": "2025-08-05T20:47:08.620862Z",
     "iopub.status.idle": "2025-08-05T20:47:08.628294Z",
     "shell.execute_reply": "2025-08-05T20:47:08.627389Z"
    },
    "papermill": {
     "duration": 0.019814,
     "end_time": "2025-08-05T20:47:08.629648",
     "exception": false,
     "start_time": "2025-08-05T20:47:08.609834",
     "status": "completed"
    },
    "tags": []
   },
   "outputs": [
    {
     "data": {
      "text/plain": [
       "{'coverage': 0.9098651209452681, 'avg_size': 1.114814401961877}"
      ]
     },
     "execution_count": 45,
     "metadata": {},
     "output_type": "execute_result"
    }
   ],
   "source": [
    "metrics"
   ]
  },
  {
   "cell_type": "code",
   "execution_count": 46,
   "id": "9b9a838d-31c9-430b-ae14-12baee460d17",
   "metadata": {
    "execution": {
     "iopub.execute_input": "2025-08-05T20:47:08.651922Z",
     "iopub.status.busy": "2025-08-05T20:47:08.651439Z",
     "iopub.status.idle": "2025-08-05T20:47:08.656166Z",
     "shell.execute_reply": "2025-08-05T20:47:08.655465Z"
    },
    "papermill": {
     "duration": 0.017116,
     "end_time": "2025-08-05T20:47:08.657550",
     "exception": false,
     "start_time": "2025-08-05T20:47:08.640434",
     "status": "completed"
    },
    "tags": []
   },
   "outputs": [],
   "source": [
    "example_universe = universe.copy()\n",
    "universe_training_year = example_universe.get(\"training_year\")\n",
    "universe_training_size = example_universe.get(\"training_size\")\n",
    "universe_scale = example_universe.get(\"scale\")\n",
    "universe_model = example_universe.get(\"model\")\n",
    "universe_exclude_features = example_universe.get(\"exclude_features\")\n",
    "universe_exclude_subgroups = example_universe.get(\"exclude_subgroups\")"
   ]
  },
  {
   "cell_type": "code",
   "execution_count": 47,
   "id": "f4b6a8ac-9dc0-4245-8a91-5b3b5999c4f9",
   "metadata": {
    "execution": {
     "iopub.execute_input": "2025-08-05T20:47:08.687417Z",
     "iopub.status.busy": "2025-08-05T20:47:08.686936Z",
     "iopub.status.idle": "2025-08-05T20:47:08.691931Z",
     "shell.execute_reply": "2025-08-05T20:47:08.691224Z"
    },
    "papermill": {
     "duration": 0.022958,
     "end_time": "2025-08-05T20:47:08.693382",
     "exception": false,
     "start_time": "2025-08-05T20:47:08.670424",
     "status": "completed"
    },
    "tags": []
   },
   "outputs": [],
   "source": [
    "cp_metrics_dict = {\n",
    "    \"universe_id\": [universe_id],\n",
    "    \"universe_training_year\": [universe_training_year],\n",
    "    \"universe_training_size\": [universe_training_size],\n",
    "    \"universe_scale\": [universe_scale],\n",
    "    \"universe_model\": [universe_model],\n",
    "    \"universe_exclude_features\": [universe_exclude_features],\n",
    "    \"universe_exclude_subgroups\": [universe_exclude_subgroups],\n",
    "    \"q_hat\": [q_hat],\n",
    "    \"coverage\": [metrics[\"coverage\"]],\n",
    "    \"avg_size\": [metrics[\"avg_size\"]],\n",
    "}"
   ]
  },
  {
   "cell_type": "code",
   "execution_count": 48,
   "id": "908acbb1-0371-4915-85ca-3fa520d2efe2",
   "metadata": {
    "execution": {
     "iopub.execute_input": "2025-08-05T20:47:08.715892Z",
     "iopub.status.busy": "2025-08-05T20:47:08.715592Z",
     "iopub.status.idle": "2025-08-05T20:47:08.721312Z",
     "shell.execute_reply": "2025-08-05T20:47:08.720526Z"
    },
    "papermill": {
     "duration": 0.018227,
     "end_time": "2025-08-05T20:47:08.722688",
     "exception": false,
     "start_time": "2025-08-05T20:47:08.704461",
     "status": "completed"
    },
    "tags": []
   },
   "outputs": [
    {
     "data": {
      "text/plain": [
       "{'universe_id': ['9df65e030cd7b86125f0f975f7807877'],\n",
       " 'universe_training_year': ['2014'],\n",
       " 'universe_training_size': ['25k'],\n",
       " 'universe_scale': ['do-not-scale'],\n",
       " 'universe_model': ['gbm'],\n",
       " 'universe_exclude_features': ['age'],\n",
       " 'universe_exclude_subgroups': ['keep-all'],\n",
       " 'q_hat': [0.688902768858837],\n",
       " 'coverage': [0.9098651209452681],\n",
       " 'avg_size': [1.114814401961877]}"
      ]
     },
     "execution_count": 48,
     "metadata": {},
     "output_type": "execute_result"
    }
   ],
   "source": [
    "cp_metrics_dict"
   ]
  },
  {
   "cell_type": "code",
   "execution_count": 49,
   "id": "33007efc-14e9-4ec6-97ac-56a455c82265",
   "metadata": {
    "execution": {
     "iopub.execute_input": "2025-08-05T20:47:08.745375Z",
     "iopub.status.busy": "2025-08-05T20:47:08.744899Z",
     "iopub.status.idle": "2025-08-05T20:47:08.749457Z",
     "shell.execute_reply": "2025-08-05T20:47:08.748722Z"
    },
    "papermill": {
     "duration": 0.016953,
     "end_time": "2025-08-05T20:47:08.750889",
     "exception": false,
     "start_time": "2025-08-05T20:47:08.733936",
     "status": "completed"
    },
    "tags": []
   },
   "outputs": [],
   "source": [
    "cp_metrics_df = pd.DataFrame(cp_metrics_dict)"
   ]
  },
  {
   "cell_type": "code",
   "execution_count": 50,
   "id": "db12611b-57b2-4910-b9d0-355adfd6e7bf",
   "metadata": {
    "execution": {
     "iopub.execute_input": "2025-08-05T20:47:08.777686Z",
     "iopub.status.busy": "2025-08-05T20:47:08.777284Z",
     "iopub.status.idle": "2025-08-05T20:47:08.790987Z",
     "shell.execute_reply": "2025-08-05T20:47:08.790280Z"
    },
    "papermill": {
     "duration": 0.030834,
     "end_time": "2025-08-05T20:47:08.792765",
     "exception": false,
     "start_time": "2025-08-05T20:47:08.761931",
     "status": "completed"
    },
    "tags": []
   },
   "outputs": [
    {
     "data": {
      "text/html": [
       "<div>\n",
       "<style scoped>\n",
       "    .dataframe tbody tr th:only-of-type {\n",
       "        vertical-align: middle;\n",
       "    }\n",
       "\n",
       "    .dataframe tbody tr th {\n",
       "        vertical-align: top;\n",
       "    }\n",
       "\n",
       "    .dataframe thead th {\n",
       "        text-align: right;\n",
       "    }\n",
       "</style>\n",
       "<table border=\"1\" class=\"dataframe\">\n",
       "  <thead>\n",
       "    <tr style=\"text-align: right;\">\n",
       "      <th></th>\n",
       "      <th>universe_id</th>\n",
       "      <th>universe_training_year</th>\n",
       "      <th>universe_training_size</th>\n",
       "      <th>universe_scale</th>\n",
       "      <th>universe_model</th>\n",
       "      <th>universe_exclude_features</th>\n",
       "      <th>universe_exclude_subgroups</th>\n",
       "      <th>q_hat</th>\n",
       "      <th>coverage</th>\n",
       "      <th>avg_size</th>\n",
       "    </tr>\n",
       "  </thead>\n",
       "  <tbody>\n",
       "    <tr>\n",
       "      <th>0</th>\n",
       "      <td>9df65e030cd7b86125f0f975f7807877</td>\n",
       "      <td>2014</td>\n",
       "      <td>25k</td>\n",
       "      <td>do-not-scale</td>\n",
       "      <td>gbm</td>\n",
       "      <td>age</td>\n",
       "      <td>keep-all</td>\n",
       "      <td>0.688903</td>\n",
       "      <td>0.909865</td>\n",
       "      <td>1.114814</td>\n",
       "    </tr>\n",
       "  </tbody>\n",
       "</table>\n",
       "</div>"
      ],
      "text/plain": [
       "                        universe_id universe_training_year  \\\n",
       "0  9df65e030cd7b86125f0f975f7807877                   2014   \n",
       "\n",
       "  universe_training_size universe_scale universe_model  \\\n",
       "0                    25k   do-not-scale            gbm   \n",
       "\n",
       "  universe_exclude_features universe_exclude_subgroups     q_hat  coverage  \\\n",
       "0                       age                   keep-all  0.688903  0.909865   \n",
       "\n",
       "   avg_size  \n",
       "0  1.114814  "
      ]
     },
     "execution_count": 50,
     "metadata": {},
     "output_type": "execute_result"
    }
   ],
   "source": [
    "cp_metrics_df"
   ]
  },
  {
   "cell_type": "code",
   "execution_count": 51,
   "id": "b7fbde55-a0a1-47e4-9af6-fe4a17fa8c61",
   "metadata": {
    "execution": {
     "iopub.execute_input": "2025-08-05T20:47:08.847043Z",
     "iopub.status.busy": "2025-08-05T20:47:08.846714Z",
     "iopub.status.idle": "2025-08-05T20:47:08.853224Z",
     "shell.execute_reply": "2025-08-05T20:47:08.852103Z"
    },
    "papermill": {
     "duration": 0.035491,
     "end_time": "2025-08-05T20:47:08.855066",
     "exception": false,
     "start_time": "2025-08-05T20:47:08.819575",
     "status": "completed"
    },
    "tags": []
   },
   "outputs": [],
   "source": [
    "# Conditional Coverage & looking at subgroups"
   ]
  },
  {
   "cell_type": "code",
   "execution_count": 52,
   "id": "027ae886-68dd-4141-96c7-805a5450e1ef",
   "metadata": {
    "execution": {
     "iopub.execute_input": "2025-08-05T20:47:08.908758Z",
     "iopub.status.busy": "2025-08-05T20:47:08.908035Z",
     "iopub.status.idle": "2025-08-05T20:47:09.170263Z",
     "shell.execute_reply": "2025-08-05T20:47:09.169201Z"
    },
    "papermill": {
     "duration": 0.291183,
     "end_time": "2025-08-05T20:47:09.172350",
     "exception": false,
     "start_time": "2025-08-05T20:47:08.881167",
     "status": "completed"
    },
    "tags": []
   },
   "outputs": [],
   "source": [
    "from fairness_multiverse.conformal import build_cp_groups\n",
    "\n",
    "cp_groups_df = build_cp_groups(pred_sets, y_true, X_test.index, org_test)\n",
    "#needs universe_id and setting"
   ]
  },
  {
   "cell_type": "code",
   "execution_count": 53,
   "id": "6cbdab96-b2b2-45af-ad54-d0516db2e28d",
   "metadata": {
    "execution": {
     "iopub.execute_input": "2025-08-05T20:47:09.222161Z",
     "iopub.status.busy": "2025-08-05T20:47:09.221528Z",
     "iopub.status.idle": "2025-08-05T20:47:10.756840Z",
     "shell.execute_reply": "2025-08-05T20:47:10.755837Z"
    },
    "papermill": {
     "duration": 1.561791,
     "end_time": "2025-08-05T20:47:10.758723",
     "exception": false,
     "start_time": "2025-08-05T20:47:09.196932",
     "status": "completed"
    },
    "tags": []
   },
   "outputs": [],
   "source": [
    "# Define covered = 1 if true_label is in the predicted set\n",
    "cp_groups_df['covered'] = cp_groups_df.apply(\n",
    "    lambda r: int(r['true_label'] in r['pred_set']),\n",
    "    axis=1\n",
    ")"
   ]
  },
  {
   "cell_type": "code",
   "execution_count": 54,
   "id": "338ff529-1a6b-4b87-a931-8e4788d52aad",
   "metadata": {
    "execution": {
     "iopub.execute_input": "2025-08-05T20:47:10.828776Z",
     "iopub.status.busy": "2025-08-05T20:47:10.828075Z",
     "iopub.status.idle": "2025-08-05T20:47:10.833498Z",
     "shell.execute_reply": "2025-08-05T20:47:10.832506Z"
    },
    "papermill": {
     "duration": 0.05158,
     "end_time": "2025-08-05T20:47:10.835488",
     "exception": false,
     "start_time": "2025-08-05T20:47:10.783908",
     "status": "completed"
    },
    "tags": []
   },
   "outputs": [],
   "source": [
    "#cp_groups_df"
   ]
  },
  {
   "cell_type": "code",
   "execution_count": 55,
   "id": "90032e27-66df-4540-9169-4e89cfbaa758",
   "metadata": {
    "execution": {
     "iopub.execute_input": "2025-08-05T20:47:10.879527Z",
     "iopub.status.busy": "2025-08-05T20:47:10.878764Z",
     "iopub.status.idle": "2025-08-05T20:47:10.890637Z",
     "shell.execute_reply": "2025-08-05T20:47:10.889571Z"
    },
    "papermill": {
     "duration": 0.03485,
     "end_time": "2025-08-05T20:47:10.892279",
     "exception": false,
     "start_time": "2025-08-05T20:47:10.857429",
     "status": "completed"
    },
    "tags": []
   },
   "outputs": [],
   "source": [
    "subgroups = ['frau1','nongerman','nongerman_male','nongerman_female']\n",
    "\n",
    "# Conditional coverage for subgroup==1\n",
    "cond_coverage = {\n",
    "    g: cp_groups_df.loc[cp_groups_df[g]==1, 'covered'].mean()\n",
    "    for g in subgroups\n",
    "}"
   ]
  },
  {
   "cell_type": "code",
   "execution_count": 56,
   "id": "1e348fb1-b9c3-45bc-ba23-f016827a7e0d",
   "metadata": {
    "execution": {
     "iopub.execute_input": "2025-08-05T20:47:10.936276Z",
     "iopub.status.busy": "2025-08-05T20:47:10.935805Z",
     "iopub.status.idle": "2025-08-05T20:47:10.943022Z",
     "shell.execute_reply": "2025-08-05T20:47:10.942087Z"
    },
    "papermill": {
     "duration": 0.030129,
     "end_time": "2025-08-05T20:47:10.944703",
     "exception": false,
     "start_time": "2025-08-05T20:47:10.914574",
     "status": "completed"
    },
    "tags": []
   },
   "outputs": [
    {
     "data": {
      "text/plain": [
       "{'frau1': 0.9103113627173474,\n",
       " 'nongerman': 0.9087744905406164,\n",
       " 'nongerman_male': 0.9241646401873368,\n",
       " 'nongerman_female': 0.8833084947839046}"
      ]
     },
     "execution_count": 56,
     "metadata": {},
     "output_type": "execute_result"
    }
   ],
   "source": [
    "cond_coverage"
   ]
  },
  {
   "cell_type": "code",
   "execution_count": 57,
   "id": "f5093324-c3dd-4d63-bc4c-8d945e5c8bbb",
   "metadata": {
    "execution": {
     "iopub.execute_input": "2025-08-05T20:47:10.990333Z",
     "iopub.status.busy": "2025-08-05T20:47:10.989680Z",
     "iopub.status.idle": "2025-08-05T20:47:10.997269Z",
     "shell.execute_reply": "2025-08-05T20:47:10.996221Z"
    },
    "papermill": {
     "duration": 0.030882,
     "end_time": "2025-08-05T20:47:10.998982",
     "exception": false,
     "start_time": "2025-08-05T20:47:10.968100",
     "status": "completed"
    },
    "tags": []
   },
   "outputs": [],
   "source": [
    "for subgroup, cov in cond_coverage.items():\n",
    "    cp_metrics_df[f\"cov_{subgroup}\"] = cov"
   ]
  },
  {
   "cell_type": "code",
   "execution_count": 58,
   "id": "6e872e10-dbe5-49e8-b554-5030c98ff75d",
   "metadata": {
    "execution": {
     "iopub.execute_input": "2025-08-05T20:47:11.043055Z",
     "iopub.status.busy": "2025-08-05T20:47:11.042391Z",
     "iopub.status.idle": "2025-08-05T20:47:11.062352Z",
     "shell.execute_reply": "2025-08-05T20:47:11.061253Z"
    },
    "papermill": {
     "duration": 0.043306,
     "end_time": "2025-08-05T20:47:11.064045",
     "exception": false,
     "start_time": "2025-08-05T20:47:11.020739",
     "status": "completed"
    },
    "tags": []
   },
   "outputs": [
    {
     "data": {
      "text/html": [
       "<div>\n",
       "<style scoped>\n",
       "    .dataframe tbody tr th:only-of-type {\n",
       "        vertical-align: middle;\n",
       "    }\n",
       "\n",
       "    .dataframe tbody tr th {\n",
       "        vertical-align: top;\n",
       "    }\n",
       "\n",
       "    .dataframe thead th {\n",
       "        text-align: right;\n",
       "    }\n",
       "</style>\n",
       "<table border=\"1\" class=\"dataframe\">\n",
       "  <thead>\n",
       "    <tr style=\"text-align: right;\">\n",
       "      <th></th>\n",
       "      <th>universe_id</th>\n",
       "      <th>universe_training_year</th>\n",
       "      <th>universe_training_size</th>\n",
       "      <th>universe_scale</th>\n",
       "      <th>universe_model</th>\n",
       "      <th>universe_exclude_features</th>\n",
       "      <th>universe_exclude_subgroups</th>\n",
       "      <th>q_hat</th>\n",
       "      <th>coverage</th>\n",
       "      <th>avg_size</th>\n",
       "      <th>cov_frau1</th>\n",
       "      <th>cov_nongerman</th>\n",
       "      <th>cov_nongerman_male</th>\n",
       "      <th>cov_nongerman_female</th>\n",
       "    </tr>\n",
       "  </thead>\n",
       "  <tbody>\n",
       "    <tr>\n",
       "      <th>0</th>\n",
       "      <td>9df65e030cd7b86125f0f975f7807877</td>\n",
       "      <td>2014</td>\n",
       "      <td>25k</td>\n",
       "      <td>do-not-scale</td>\n",
       "      <td>gbm</td>\n",
       "      <td>age</td>\n",
       "      <td>keep-all</td>\n",
       "      <td>0.688903</td>\n",
       "      <td>0.909865</td>\n",
       "      <td>1.114814</td>\n",
       "      <td>0.910311</td>\n",
       "      <td>0.908774</td>\n",
       "      <td>0.924165</td>\n",
       "      <td>0.883308</td>\n",
       "    </tr>\n",
       "  </tbody>\n",
       "</table>\n",
       "</div>"
      ],
      "text/plain": [
       "                        universe_id universe_training_year  \\\n",
       "0  9df65e030cd7b86125f0f975f7807877                   2014   \n",
       "\n",
       "  universe_training_size universe_scale universe_model  \\\n",
       "0                    25k   do-not-scale            gbm   \n",
       "\n",
       "  universe_exclude_features universe_exclude_subgroups     q_hat  coverage  \\\n",
       "0                       age                   keep-all  0.688903  0.909865   \n",
       "\n",
       "   avg_size  cov_frau1  cov_nongerman  cov_nongerman_male  \\\n",
       "0  1.114814   0.910311       0.908774            0.924165   \n",
       "\n",
       "   cov_nongerman_female  \n",
       "0              0.883308  "
      ]
     },
     "execution_count": 58,
     "metadata": {},
     "output_type": "execute_result"
    }
   ],
   "source": [
    "cp_metrics_df"
   ]
  },
  {
   "cell_type": "markdown",
   "id": "33774451",
   "metadata": {
    "papermill": {
     "duration": 0.021775,
     "end_time": "2025-08-05T20:47:11.111590",
     "exception": false,
     "start_time": "2025-08-05T20:47:11.089815",
     "status": "completed"
    },
    "tags": []
   },
   "source": [
    "# (Fairness) Metrics"
   ]
  },
  {
   "cell_type": "code",
   "execution_count": 59,
   "id": "debc5d62",
   "metadata": {
    "execution": {
     "iopub.execute_input": "2025-08-05T20:47:11.163882Z",
     "iopub.status.busy": "2025-08-05T20:47:11.163237Z",
     "iopub.status.idle": "2025-08-05T20:47:11.188663Z",
     "shell.execute_reply": "2025-08-05T20:47:11.187762Z"
    },
    "papermill": {
     "duration": 0.054319,
     "end_time": "2025-08-05T20:47:11.190716",
     "exception": false,
     "start_time": "2025-08-05T20:47:11.136397",
     "status": "completed"
    },
    "tags": []
   },
   "outputs": [],
   "source": [
    "# do I need to include maxdeutsch1.missing?\n",
    "\n",
    "import numpy as np\n",
    "\n",
    "colname_to_bin = \"maxdeutsch1\"\n",
    "majority_value = org_train[colname_to_bin].mode()[0]\n",
    "\n",
    "org_test[\"majmin\"] = np.where(org_test[colname_to_bin] == majority_value, \"majority\", \"minority\")"
   ]
  },
  {
   "cell_type": "code",
   "execution_count": 60,
   "id": "06a50de5",
   "metadata": {
    "execution": {
     "iopub.execute_input": "2025-08-05T20:47:11.235887Z",
     "iopub.status.busy": "2025-08-05T20:47:11.235429Z",
     "iopub.status.idle": "2025-08-05T20:47:14.060169Z",
     "shell.execute_reply": "2025-08-05T20:47:14.059228Z"
    },
    "papermill": {
     "duration": 2.849439,
     "end_time": "2025-08-05T20:47:14.062133",
     "exception": false,
     "start_time": "2025-08-05T20:47:11.212694",
     "status": "completed"
    },
    "tags": []
   },
   "outputs": [],
   "source": [
    "example_universe = universe.copy()\n",
    "example_universe[\"cutoff\"] = example_universe[\"cutoff\"][0]\n",
    "example_universe[\"eval_fairness_grouping\"] = example_universe[\"eval_fairness_grouping\"][0]\n",
    "fairness_dict, metric_frame = universe_analysis.compute_metrics(\n",
    "    example_universe,\n",
    "    y_pred_prob=probs_test,\n",
    "    y_test=y_true,\n",
    "    org_test=org_test,\n",
    ")"
   ]
  },
  {
   "cell_type": "markdown",
   "id": "f95d4e02",
   "metadata": {
    "papermill": {
     "duration": 0.020408,
     "end_time": "2025-08-05T20:47:14.107488",
     "exception": false,
     "start_time": "2025-08-05T20:47:14.087080",
     "status": "completed"
    },
    "tags": []
   },
   "source": [
    "# Overall"
   ]
  },
  {
   "cell_type": "markdown",
   "id": "bdee4871",
   "metadata": {
    "papermill": {
     "duration": 0.02485,
     "end_time": "2025-08-05T20:47:14.155634",
     "exception": false,
     "start_time": "2025-08-05T20:47:14.130784",
     "status": "completed"
    },
    "tags": []
   },
   "source": [
    "Fairness\n",
    "Main fairness target: Equalized Odds. Seems to be a better fit than equal opportunity, since we're not only interested in Y = 1. Seems to be a better fit than demographic parity, since we also care about accuracy, not just equal distribution of preds.\n",
    "\n",
    "Pick column for computation of fairness metrics\n",
    "\n",
    "Performance\n",
    "Overall performance measures, most interesting in relation to the measures split by group below"
   ]
  },
  {
   "cell_type": "code",
   "execution_count": 61,
   "id": "c4e067c6",
   "metadata": {
    "execution": {
     "iopub.execute_input": "2025-08-05T20:47:14.201376Z",
     "iopub.status.busy": "2025-08-05T20:47:14.200697Z",
     "iopub.status.idle": "2025-08-05T20:47:14.209690Z",
     "shell.execute_reply": "2025-08-05T20:47:14.208431Z"
    },
    "papermill": {
     "duration": 0.033075,
     "end_time": "2025-08-05T20:47:14.211310",
     "exception": false,
     "start_time": "2025-08-05T20:47:14.178235",
     "status": "completed"
    },
    "tags": []
   },
   "outputs": [
    {
     "data": {
      "text/plain": [
       "accuracy                   0.225415\n",
       "balanced accuracy          0.550972\n",
       "f1                         0.246726\n",
       "precision                  0.140946\n",
       "false positive rate        0.886934\n",
       "false negative rate        0.011123\n",
       "selection rate             0.900011\n",
       "count                  89710.000000\n",
       "dtype: float64"
      ]
     },
     "execution_count": 61,
     "metadata": {},
     "output_type": "execute_result"
    }
   ],
   "source": [
    "metric_frame.overall"
   ]
  },
  {
   "cell_type": "markdown",
   "id": "e968fe9d",
   "metadata": {
    "papermill": {
     "duration": 0.022313,
     "end_time": "2025-08-05T20:47:14.258330",
     "exception": false,
     "start_time": "2025-08-05T20:47:14.236017",
     "status": "completed"
    },
    "tags": []
   },
   "source": [
    "By Group"
   ]
  },
  {
   "cell_type": "code",
   "execution_count": 62,
   "id": "ec325bce",
   "metadata": {
    "execution": {
     "iopub.execute_input": "2025-08-05T20:47:14.306010Z",
     "iopub.status.busy": "2025-08-05T20:47:14.305337Z",
     "iopub.status.idle": "2025-08-05T20:47:14.321314Z",
     "shell.execute_reply": "2025-08-05T20:47:14.320240Z"
    },
    "papermill": {
     "duration": 0.041696,
     "end_time": "2025-08-05T20:47:14.323078",
     "exception": false,
     "start_time": "2025-08-05T20:47:14.281382",
     "status": "completed"
    },
    "tags": []
   },
   "outputs": [
    {
     "data": {
      "text/html": [
       "<div>\n",
       "<style scoped>\n",
       "    .dataframe tbody tr th:only-of-type {\n",
       "        vertical-align: middle;\n",
       "    }\n",
       "\n",
       "    .dataframe tbody tr th {\n",
       "        vertical-align: top;\n",
       "    }\n",
       "\n",
       "    .dataframe thead th {\n",
       "        text-align: right;\n",
       "    }\n",
       "</style>\n",
       "<table border=\"1\" class=\"dataframe\">\n",
       "  <thead>\n",
       "    <tr style=\"text-align: right;\">\n",
       "      <th></th>\n",
       "      <th>accuracy</th>\n",
       "      <th>balanced accuracy</th>\n",
       "      <th>f1</th>\n",
       "      <th>precision</th>\n",
       "      <th>false positive rate</th>\n",
       "      <th>false negative rate</th>\n",
       "      <th>selection rate</th>\n",
       "      <th>count</th>\n",
       "    </tr>\n",
       "    <tr>\n",
       "      <th>majmin</th>\n",
       "      <th></th>\n",
       "      <th></th>\n",
       "      <th></th>\n",
       "      <th></th>\n",
       "      <th></th>\n",
       "      <th></th>\n",
       "      <th></th>\n",
       "      <th></th>\n",
       "    </tr>\n",
       "  </thead>\n",
       "  <tbody>\n",
       "    <tr>\n",
       "      <th>majority</th>\n",
       "      <td>0.241550</td>\n",
       "      <td>0.557934</td>\n",
       "      <td>0.256090</td>\n",
       "      <td>0.147112</td>\n",
       "      <td>0.872097</td>\n",
       "      <td>0.012035</td>\n",
       "      <td>0.887408</td>\n",
       "      <td>69170.0</td>\n",
       "    </tr>\n",
       "    <tr>\n",
       "      <th>minority</th>\n",
       "      <td>0.171081</td>\n",
       "      <td>0.528227</td>\n",
       "      <td>0.216331</td>\n",
       "      <td>0.121397</td>\n",
       "      <td>0.935945</td>\n",
       "      <td>0.007601</td>\n",
       "      <td>0.942454</td>\n",
       "      <td>20540.0</td>\n",
       "    </tr>\n",
       "  </tbody>\n",
       "</table>\n",
       "</div>"
      ],
      "text/plain": [
       "          accuracy  balanced accuracy        f1  precision  \\\n",
       "majmin                                                       \n",
       "majority  0.241550           0.557934  0.256090   0.147112   \n",
       "minority  0.171081           0.528227  0.216331   0.121397   \n",
       "\n",
       "          false positive rate  false negative rate  selection rate    count  \n",
       "majmin                                                                       \n",
       "majority             0.872097             0.012035        0.887408  69170.0  \n",
       "minority             0.935945             0.007601        0.942454  20540.0  "
      ]
     },
     "execution_count": 62,
     "metadata": {},
     "output_type": "execute_result"
    }
   ],
   "source": [
    "metric_frame.by_group"
   ]
  },
  {
   "cell_type": "code",
   "execution_count": 63,
   "id": "a9ddbe63",
   "metadata": {
    "execution": {
     "iopub.execute_input": "2025-08-05T20:47:14.371226Z",
     "iopub.status.busy": "2025-08-05T20:47:14.370389Z",
     "iopub.status.idle": "2025-08-05T20:47:16.685793Z",
     "shell.execute_reply": "2025-08-05T20:47:16.684704Z"
    },
    "papermill": {
     "duration": 2.340384,
     "end_time": "2025-08-05T20:47:16.687516",
     "exception": false,
     "start_time": "2025-08-05T20:47:14.347132",
     "status": "completed"
    },
    "tags": []
   },
   "outputs": [
    {
     "data": {
      "text/plain": [
       "array([[<Axes: title={'center': 'accuracy'}, xlabel='majmin'>,\n",
       "        <Axes: title={'center': 'balanced accuracy'}, xlabel='majmin'>,\n",
       "        <Axes: title={'center': 'f1'}, xlabel='majmin'>],\n",
       "       [<Axes: title={'center': 'precision'}, xlabel='majmin'>,\n",
       "        <Axes: title={'center': 'false positive rate'}, xlabel='majmin'>,\n",
       "        <Axes: title={'center': 'false negative rate'}, xlabel='majmin'>],\n",
       "       [<Axes: title={'center': 'selection rate'}, xlabel='majmin'>,\n",
       "        <Axes: title={'center': 'count'}, xlabel='majmin'>,\n",
       "        <Axes: xlabel='majmin'>]], dtype=object)"
      ]
     },
     "execution_count": 63,
     "metadata": {},
     "output_type": "execute_result"
    },
    {
     "data": {
      "image/png": "[encoded data removed]",
      "text/plain": [
       "<Figure size 1200x800 with 9 Axes>"
      ]
     },
     "metadata": {},
     "output_type": "display_data"
    }
   ],
   "source": [
    "# In a graphic\n",
    "metric_frame.by_group.plot.bar(\n",
    "    subplots=True,\n",
    "    layout=[3, 3],\n",
    "    legend=False,\n",
    "    figsize=[12, 8],\n",
    "    title=\"Show all metrics\",\n",
    ")"
   ]
  },
  {
   "cell_type": "markdown",
   "id": "f57a0bac",
   "metadata": {
    "papermill": {
     "duration": 0.026792,
     "end_time": "2025-08-05T20:47:16.743504",
     "exception": false,
     "start_time": "2025-08-05T20:47:16.716712",
     "status": "completed"
    },
    "tags": []
   },
   "source": [
    "# Final Output"
   ]
  },
  {
   "cell_type": "code",
   "execution_count": 64,
   "id": "96d280a3",
   "metadata": {
    "execution": {
     "iopub.execute_input": "2025-08-05T20:47:16.798031Z",
     "iopub.status.busy": "2025-08-05T20:47:16.797386Z",
     "iopub.status.idle": "2025-08-05T20:47:16.805748Z",
     "shell.execute_reply": "2025-08-05T20:47:16.804821Z"
    },
    "papermill": {
     "duration": 0.037078,
     "end_time": "2025-08-05T20:47:16.807327",
     "exception": false,
     "start_time": "2025-08-05T20:47:16.770249",
     "status": "completed"
    },
    "tags": []
   },
   "outputs": [
    {
     "data": {
      "text/plain": [
       "4"
      ]
     },
     "execution_count": 64,
     "metadata": {},
     "output_type": "execute_result"
    }
   ],
   "source": [
    "sub_universes = universe_analysis.generate_sub_universes()\n",
    "len(sub_universes)"
   ]
  },
  {
   "cell_type": "code",
   "execution_count": 65,
   "id": "92adf7ba",
   "metadata": {
    "execution": {
     "iopub.execute_input": "2025-08-05T20:47:16.861206Z",
     "iopub.status.busy": "2025-08-05T20:47:16.860627Z",
     "iopub.status.idle": "2025-08-05T20:47:16.866696Z",
     "shell.execute_reply": "2025-08-05T20:47:16.865753Z"
    },
    "papermill": {
     "duration": 0.035104,
     "end_time": "2025-08-05T20:47:16.868437",
     "exception": false,
     "start_time": "2025-08-05T20:47:16.833333",
     "status": "completed"
    },
    "tags": []
   },
   "outputs": [],
   "source": [
    "def filter_sub_universe_data(sub_universe, org_test):\n",
    "    # Keep all rows — no filtering\n",
    "    keep_rows_mask = np.ones(org_test.shape[0], dtype=bool)\n",
    "\n",
    "    print(f\"[INFO] Keeping all rows: {keep_rows_mask.sum()} rows retained.\")\n",
    "    return keep_rows_mask"
   ]
  },
  {
   "cell_type": "code",
   "execution_count": 66,
   "id": "4a759155",
   "metadata": {
    "execution": {
     "iopub.execute_input": "2025-08-05T20:47:16.918395Z",
     "iopub.status.busy": "2025-08-05T20:47:16.917738Z",
     "iopub.status.idle": "2025-08-05T20:47:26.433593Z",
     "shell.execute_reply": "2025-08-05T20:47:26.432628Z"
    },
    "papermill": {
     "duration": 9.544077,
     "end_time": "2025-08-05T20:47:26.435221",
     "exception": false,
     "start_time": "2025-08-05T20:47:16.891144",
     "status": "completed"
    },
    "tags": []
   },
   "outputs": [
    {
     "name": "stdout",
     "output_type": "stream",
     "text": [
      "Stopping execution_time clock.\n",
      "[INFO] Keeping all rows: 89710 rows retained.\n"
     ]
    },
    {
     "name": "stdout",
     "output_type": "stream",
     "text": [
      "[INFO] Keeping all rows: 89710 rows retained.\n"
     ]
    },
    {
     "name": "stdout",
     "output_type": "stream",
     "text": [
      "[INFO] Keeping all rows: 89710 rows retained.\n"
     ]
    },
    {
     "name": "stdout",
     "output_type": "stream",
     "text": [
      "[INFO] Keeping all rows: 89710 rows retained.\n"
     ]
    },
    {
     "data": {
      "text/html": [
       "<div>\n",
       "<style scoped>\n",
       "    .dataframe tbody tr th:only-of-type {\n",
       "        vertical-align: middle;\n",
       "    }\n",
       "\n",
       "    .dataframe tbody tr th {\n",
       "        vertical-align: top;\n",
       "    }\n",
       "\n",
       "    .dataframe thead th {\n",
       "        text-align: right;\n",
       "    }\n",
       "</style>\n",
       "<table border=\"1\" class=\"dataframe\">\n",
       "  <thead>\n",
       "    <tr style=\"text-align: right;\">\n",
       "      <th></th>\n",
       "      <th>run_no</th>\n",
       "      <th>universe_id</th>\n",
       "      <th>universe_settings</th>\n",
       "      <th>execution_time</th>\n",
       "      <th>test_size_n</th>\n",
       "      <th>test_size_frac</th>\n",
       "      <th>fair_main_equalized_odds_difference</th>\n",
       "      <th>fair_main_equalized_odds_ratio</th>\n",
       "      <th>fair_main_demographic_parity_difference</th>\n",
       "      <th>fair_main_demographic_parity_ratio</th>\n",
       "      <th>...</th>\n",
       "      <th>perf_grp_precision_0</th>\n",
       "      <th>perf_grp_precision_1</th>\n",
       "      <th>perf_grp_false positive rate_0</th>\n",
       "      <th>perf_grp_false positive rate_1</th>\n",
       "      <th>perf_grp_false negative rate_0</th>\n",
       "      <th>perf_grp_false negative rate_1</th>\n",
       "      <th>perf_grp_selection rate_0</th>\n",
       "      <th>perf_grp_selection rate_1</th>\n",
       "      <th>perf_grp_count_0</th>\n",
       "      <th>perf_grp_count_1</th>\n",
       "    </tr>\n",
       "  </thead>\n",
       "  <tbody>\n",
       "    <tr>\n",
       "      <th>0</th>\n",
       "      <td>16</td>\n",
       "      <td>9df65e030cd7b86125f0f975f7807877</td>\n",
       "      <td>{\"cutoff\": \"quantile_0.1\", \"eval_fairness_grou...</td>\n",
       "      <td>51.533216</td>\n",
       "      <td>89710</td>\n",
       "      <td>1.0</td>\n",
       "      <td>0.063848</td>\n",
       "      <td>0.931782</td>\n",
       "      <td>0.055046</td>\n",
       "      <td>0.941593</td>\n",
       "      <td>...</td>\n",
       "      <td>NaN</td>\n",
       "      <td>NaN</td>\n",
       "      <td>NaN</td>\n",
       "      <td>NaN</td>\n",
       "      <td>NaN</td>\n",
       "      <td>NaN</td>\n",
       "      <td>NaN</td>\n",
       "      <td>NaN</td>\n",
       "      <td>NaN</td>\n",
       "      <td>NaN</td>\n",
       "    </tr>\n",
       "    <tr>\n",
       "      <th>0</th>\n",
       "      <td>16</td>\n",
       "      <td>9df65e030cd7b86125f0f975f7807877</td>\n",
       "      <td>{\"cutoff\": \"quantile_0.1\", \"eval_fairness_grou...</td>\n",
       "      <td>51.533216</td>\n",
       "      <td>89710</td>\n",
       "      <td>1.0</td>\n",
       "      <td>0.063848</td>\n",
       "      <td>0.931782</td>\n",
       "      <td>0.055046</td>\n",
       "      <td>0.941593</td>\n",
       "      <td>...</td>\n",
       "      <td>0.121397</td>\n",
       "      <td>0.147112</td>\n",
       "      <td>0.935945</td>\n",
       "      <td>0.872097</td>\n",
       "      <td>0.007601</td>\n",
       "      <td>0.012035</td>\n",
       "      <td>0.942454</td>\n",
       "      <td>0.887408</td>\n",
       "      <td>20540.0</td>\n",
       "      <td>69170.0</td>\n",
       "    </tr>\n",
       "    <tr>\n",
       "      <th>0</th>\n",
       "      <td>16</td>\n",
       "      <td>9df65e030cd7b86125f0f975f7807877</td>\n",
       "      <td>{\"cutoff\": \"quantile_0.25\", \"eval_fairness_gro...</td>\n",
       "      <td>51.533216</td>\n",
       "      <td>89710</td>\n",
       "      <td>1.0</td>\n",
       "      <td>0.140172</td>\n",
       "      <td>0.830818</td>\n",
       "      <td>0.120610</td>\n",
       "      <td>0.856926</td>\n",
       "      <td>...</td>\n",
       "      <td>NaN</td>\n",
       "      <td>NaN</td>\n",
       "      <td>NaN</td>\n",
       "      <td>NaN</td>\n",
       "      <td>NaN</td>\n",
       "      <td>NaN</td>\n",
       "      <td>NaN</td>\n",
       "      <td>NaN</td>\n",
       "      <td>NaN</td>\n",
       "      <td>NaN</td>\n",
       "    </tr>\n",
       "    <tr>\n",
       "      <th>0</th>\n",
       "      <td>16</td>\n",
       "      <td>9df65e030cd7b86125f0f975f7807877</td>\n",
       "      <td>{\"cutoff\": \"quantile_0.25\", \"eval_fairness_gro...</td>\n",
       "      <td>51.533216</td>\n",
       "      <td>89710</td>\n",
       "      <td>1.0</td>\n",
       "      <td>0.140172</td>\n",
       "      <td>0.830818</td>\n",
       "      <td>0.120610</td>\n",
       "      <td>0.856926</td>\n",
       "      <td>...</td>\n",
       "      <td>0.130465</td>\n",
       "      <td>0.173014</td>\n",
       "      <td>0.828527</td>\n",
       "      <td>0.688356</td>\n",
       "      <td>0.046030</td>\n",
       "      <td>0.054158</td>\n",
       "      <td>0.842989</td>\n",
       "      <td>0.722380</td>\n",
       "      <td>20540.0</td>\n",
       "      <td>69170.0</td>\n",
       "    </tr>\n",
       "  </tbody>\n",
       "</table>\n",
       "<p>4 rows × 50 columns</p>\n",
       "</div>"
      ],
      "text/plain": [
       "  run_no                       universe_id  \\\n",
       "0     16  9df65e030cd7b86125f0f975f7807877   \n",
       "0     16  9df65e030cd7b86125f0f975f7807877   \n",
       "0     16  9df65e030cd7b86125f0f975f7807877   \n",
       "0     16  9df65e030cd7b86125f0f975f7807877   \n",
       "\n",
       "                                   universe_settings  execution_time  \\\n",
       "0  {\"cutoff\": \"quantile_0.1\", \"eval_fairness_grou...       51.533216   \n",
       "0  {\"cutoff\": \"quantile_0.1\", \"eval_fairness_grou...       51.533216   \n",
       "0  {\"cutoff\": \"quantile_0.25\", \"eval_fairness_gro...       51.533216   \n",
       "0  {\"cutoff\": \"quantile_0.25\", \"eval_fairness_gro...       51.533216   \n",
       "\n",
       "   test_size_n  test_size_frac  fair_main_equalized_odds_difference  \\\n",
       "0        89710             1.0                             0.063848   \n",
       "0        89710             1.0                             0.063848   \n",
       "0        89710             1.0                             0.140172   \n",
       "0        89710             1.0                             0.140172   \n",
       "\n",
       "   fair_main_equalized_odds_ratio  fair_main_demographic_parity_difference  \\\n",
       "0                        0.931782                                 0.055046   \n",
       "0                        0.931782                                 0.055046   \n",
       "0                        0.830818                                 0.120610   \n",
       "0                        0.830818                                 0.120610   \n",
       "\n",
       "   fair_main_demographic_parity_ratio  ...  perf_grp_precision_0  \\\n",
       "0                            0.941593  ...                   NaN   \n",
       "0                            0.941593  ...              0.121397   \n",
       "0                            0.856926  ...                   NaN   \n",
       "0                            0.856926  ...              0.130465   \n",
       "\n",
       "   perf_grp_precision_1  perf_grp_false positive rate_0  \\\n",
       "0                   NaN                             NaN   \n",
       "0              0.147112                        0.935945   \n",
       "0                   NaN                             NaN   \n",
       "0              0.173014                        0.828527   \n",
       "\n",
       "   perf_grp_false positive rate_1  perf_grp_false negative rate_0  \\\n",
       "0                             NaN                             NaN   \n",
       "0                        0.872097                        0.007601   \n",
       "0                             NaN                             NaN   \n",
       "0                        0.688356                        0.046030   \n",
       "\n",
       "   perf_grp_false negative rate_1  perf_grp_selection rate_0  \\\n",
       "0                             NaN                        NaN   \n",
       "0                        0.012035                   0.942454   \n",
       "0                             NaN                        NaN   \n",
       "0                        0.054158                   0.842989   \n",
       "\n",
       "   perf_grp_selection rate_1  perf_grp_count_0  perf_grp_count_1  \n",
       "0                        NaN               NaN               NaN  \n",
       "0                   0.887408           20540.0           69170.0  \n",
       "0                        NaN               NaN               NaN  \n",
       "0                   0.722380           20540.0           69170.0  \n",
       "\n",
       "[4 rows x 50 columns]"
      ]
     },
     "execution_count": 66,
     "metadata": {},
     "output_type": "execute_result"
    }
   ],
   "source": [
    "final_output = universe_analysis.generate_final_output(\n",
    "    y_pred_prob=probs_test,\n",
    "    y_test=y_true,\n",
    "    org_test=org_test,\n",
    "    filter_data=filter_sub_universe_data,\n",
    "    cp_metrics_df=cp_metrics_df,\n",
    "    save=True,\n",
    ")\n",
    "final_output"
   ]
  }
 ],
 "metadata": {
  "celltoolbar": "Tags",
  "kernelspec": {
   "display_name": "Python (CMA Fairness)",
   "language": "python",
   "name": "cma_fair_env"
  },
  "language_info": {
   "codemirror_mode": {
    "name": "ipython",
    "version": 3
   },
   "file_extension": ".py",
   "mimetype": "text/x-python",
   "name": "python",
   "nbconvert_exporter": "python",
   "pygments_lexer": "ipython3",
   "version": "3.10.12"
  },
  "papermill": {
   "default_parameters": {},
   "duration": 65.145131,
   "end_time": "2025-08-05T20:47:27.184346",
   "environment_variables": {},
   "exception": null,
   "input_path": "universe_analysis.ipynb",
   "output_path": "output/runs/16/notebooks/m_16-9df65e030cd7b86125f0f975f7807877.ipynb",
   "parameters": {
    "output_dir": "output",
    "run_no": "16",
    "seed": "2023",
    "universe": "{\"cutoff\": [\"quantile_0.1\", \"quantile_0.25\"], \"eval_fairness_grouping\": [\"majority-minority\", \"nationality-all\"], \"exclude_features\": \"age\", \"exclude_subgroups\": \"keep-all\", \"model\": \"gbm\", \"scale\": \"do-not-scale\", \"training_size\": \"25k\", \"training_year\": \"2014\"}",
    "universe_id": "9df65e030cd7b86125f0f975f7807877"
   },
   "start_time": "2025-08-05T20:46:22.039215",
   "version": "2.6.0"
  }
 },
 "nbformat": 4,
 "nbformat_minor": 5
}