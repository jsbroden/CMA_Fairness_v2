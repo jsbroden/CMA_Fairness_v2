{
 "cells": [
  {
   "cell_type": "code",
   "execution_count": 1,
   "id": "f159f837-637b-42ba-96b5-ec9a68c44524",
   "metadata": {
    "execution": {
     "iopub.execute_input": "2025-08-05T20:50:58.129807Z",
     "iopub.status.busy": "2025-08-05T20:50:58.129146Z",
     "iopub.status.idle": "2025-08-05T20:50:58.146557Z",
     "shell.execute_reply": "2025-08-05T20:50:58.145276Z"
    },
    "papermill": {
     "duration": 0.043626,
     "end_time": "2025-08-05T20:50:58.149108",
     "exception": false,
     "start_time": "2025-08-05T20:50:58.105482",
     "status": "completed"
    },
    "tags": []
   },
   "outputs": [
    {
     "name": "stdout",
     "output_type": "stream",
     "text": [
      "/dss/dsshome1/0C/ra93lal2/cma/CMA_Fairness_v2\n"
     ]
    },
    {
     "name": "stderr",
     "output_type": "stream",
     "text": [
      "/dss/dsshome1/0C/ra93lal2/.local/share/virtualenvs/CMA_Fairness_v2-3j10GkSs/lib/python3.10/site-packages/IPython/core/magics/osm.py:393: UserWarning: This is now an optional IPython functionality, using bookmarks requires you to install the `pickleshare` library.\n",
      "  bkms = self.shell.db.get('bookmarks', {})\n",
      "/dss/dsshome1/0C/ra93lal2/.local/share/virtualenvs/CMA_Fairness_v2-3j10GkSs/lib/python3.10/site-packages/IPython/core/magics/osm.py:417: UserWarning: This is now an optional IPython functionality, setting dhist requires you to install the `pickleshare` library.\n",
      "  self.shell.db['dhist'] = compress_dhist(dhist)[-100:]\n"
     ]
    }
   ],
   "source": [
    "%cd ~/cma/CMA_Fairness_v2"
   ]
  },
  {
   "cell_type": "markdown",
   "id": "de2603b9",
   "metadata": {
    "papermill": {
     "duration": 0.00891,
     "end_time": "2025-08-05T20:50:58.171604",
     "exception": false,
     "start_time": "2025-08-05T20:50:58.162694",
     "status": "completed"
    },
    "tags": []
   },
   "source": [
    "The following cell holds the definition of our parameters, these values can be overriden by rendering the with e.g. the following command:\n",
    "\n",
    "papermill -p alpha 0.2 -p ratio 0.3 universe_analysis.ipynb output/test_run.ipynb"
   ]
  },
  {
   "cell_type": "code",
   "execution_count": 2,
   "id": "a80968a0-40bb-4fa9-85ef-2d5eefb01975",
   "metadata": {
    "execution": {
     "iopub.execute_input": "2025-08-05T20:50:58.190296Z",
     "iopub.status.busy": "2025-08-05T20:50:58.189856Z",
     "iopub.status.idle": "2025-08-05T20:50:58.196161Z",
     "shell.execute_reply": "2025-08-05T20:50:58.195029Z"
    },
    "papermill": {
     "duration": 0.018102,
     "end_time": "2025-08-05T20:50:58.198131",
     "exception": false,
     "start_time": "2025-08-05T20:50:58.180029",
     "status": "completed"
    },
    "tags": []
   },
   "outputs": [
    {
     "name": "stdout",
     "output_type": "stream",
     "text": [
      "Current working directory: /dss/dsshome1/0C/ra93lal2/cma/CMA_Fairness_v2\n"
     ]
    }
   ],
   "source": [
    "import os\n",
    "print(\"Current working directory:\", os.getcwd())"
   ]
  },
  {
   "cell_type": "code",
   "execution_count": 3,
   "id": "2dce4c03",
   "metadata": {
    "execution": {
     "iopub.execute_input": "2025-08-05T20:50:58.221070Z",
     "iopub.status.busy": "2025-08-05T20:50:58.220726Z",
     "iopub.status.idle": "2025-08-05T20:50:58.225482Z",
     "shell.execute_reply": "2025-08-05T20:50:58.224693Z"
    },
    "papermill": {
     "duration": 0.015946,
     "end_time": "2025-08-05T20:50:58.227044",
     "exception": false,
     "start_time": "2025-08-05T20:50:58.211098",
     "status": "completed"
    },
    "tags": [
     "parameters"
    ]
   },
   "outputs": [],
   "source": [
    "run_no = 0\n",
    "universe_id = \"test\"\n",
    "universe = {\n",
    "    \"training_size\": \"25k\", # \"25k\", \"5k\", \"1k\"\n",
    "    \"training_year\": \"2014\", # \"2014\", \"2012_14\", \"2010_14\"\n",
    "    \"scale\": \"scale\", # \"scale\", \"do-not-scale\",\n",
    "    \"model\": \"elasticnet\", # \"logreg\", \"penalized_logreg\", \"rf\", \"gbm\", \"elasticnet\"\n",
    "    \"cutoff\": [\"quantile_0.15\", \"quantile_0.30\"],\n",
    "    \"exclude_features\": \"age\", # \"none\", \"nationality\", \"sex\", \"nationality-sex\", \"age\"\n",
    "    \"exclude_subgroups\": \"keep-all\", # \"keep-all\", \"drop-non-german\"\n",
    "    \"eval_fairness_grouping\": [\"majority-minority\", \"nationality-all\"]\n",
    "}\n",
    "\n",
    "output_dir=\"./output\"\n",
    "seed=0"
   ]
  },
  {
   "cell_type": "code",
   "execution_count": 4,
   "id": "d04d6e3b",
   "metadata": {
    "execution": {
     "iopub.execute_input": "2025-08-05T20:50:58.247878Z",
     "iopub.status.busy": "2025-08-05T20:50:58.247538Z",
     "iopub.status.idle": "2025-08-05T20:50:58.251987Z",
     "shell.execute_reply": "2025-08-05T20:50:58.250958Z"
    },
    "papermill": {
     "duration": 0.015778,
     "end_time": "2025-08-05T20:50:58.253363",
     "exception": false,
     "start_time": "2025-08-05T20:50:58.237585",
     "status": "completed"
    },
    "tags": [
     "injected-parameters"
    ]
   },
   "outputs": [],
   "source": [
    "# Parameters\n",
    "universe_id = \"a0cb5d4ca4192c7c974d6dd32fd7fdf3\"\n",
    "run_no = \"16\"\n",
    "universe = \"{\\\"cutoff\\\": [\\\"quantile_0.1\\\", \\\"quantile_0.25\\\"], \\\"eval_fairness_grouping\\\": [\\\"majority-minority\\\", \\\"nationality-all\\\"], \\\"exclude_features\\\": \\\"age\\\", \\\"exclude_subgroups\\\": \\\"drop-non-german\\\", \\\"model\\\": \\\"penalized_logreg\\\", \\\"scale\\\": \\\"scale\\\", \\\"training_size\\\": \\\"25k\\\", \\\"training_year\\\": \\\"2012_14\\\"}\"\n",
    "output_dir = \"output\"\n",
    "seed = \"2023\"\n"
   ]
  },
  {
   "cell_type": "code",
   "execution_count": 5,
   "id": "1650acaf",
   "metadata": {
    "execution": {
     "iopub.execute_input": "2025-08-05T20:50:58.288856Z",
     "iopub.status.busy": "2025-08-05T20:50:58.288354Z",
     "iopub.status.idle": "2025-08-05T20:50:58.293601Z",
     "shell.execute_reply": "2025-08-05T20:50:58.292574Z"
    },
    "papermill": {
     "duration": 0.02541,
     "end_time": "2025-08-05T20:50:58.295580",
     "exception": false,
     "start_time": "2025-08-05T20:50:58.270170",
     "status": "completed"
    },
    "tags": []
   },
   "outputs": [],
   "source": [
    "import json\n",
    "if isinstance(universe, str):\n",
    "    universe = json.loads(universe)"
   ]
  },
  {
   "cell_type": "code",
   "execution_count": 6,
   "id": "16620c48",
   "metadata": {
    "execution": {
     "iopub.execute_input": "2025-08-05T20:50:58.328645Z",
     "iopub.status.busy": "2025-08-05T20:50:58.328129Z",
     "iopub.status.idle": "2025-08-05T20:50:58.370988Z",
     "shell.execute_reply": "2025-08-05T20:50:58.370011Z"
    },
    "papermill": {
     "duration": 0.062226,
     "end_time": "2025-08-05T20:50:58.372485",
     "exception": false,
     "start_time": "2025-08-05T20:50:58.310259",
     "status": "completed"
    },
    "tags": []
   },
   "outputs": [],
   "source": [
    "# Auto-reload the custom package\n",
    "%load_ext autoreload\n",
    "%autoreload 1\n",
    "%aimport fairness_multiverse"
   ]
  },
  {
   "cell_type": "code",
   "execution_count": 7,
   "id": "01c5c9f3",
   "metadata": {
    "execution": {
     "iopub.execute_input": "2025-08-05T20:50:58.404304Z",
     "iopub.status.busy": "2025-08-05T20:50:58.403522Z",
     "iopub.status.idle": "2025-08-05T20:51:00.439979Z",
     "shell.execute_reply": "2025-08-05T20:51:00.438906Z"
    },
    "papermill": {
     "duration": 2.052582,
     "end_time": "2025-08-05T20:51:00.442031",
     "exception": false,
     "start_time": "2025-08-05T20:50:58.389449",
     "status": "completed"
    },
    "tags": []
   },
   "outputs": [],
   "source": [
    "from fairness_multiverse.universe import UniverseAnalysis\n",
    "\n",
    "universe_analysis = UniverseAnalysis(\n",
    "    run_no = run_no,\n",
    "    universe_id = universe_id,\n",
    "    universe = universe,\n",
    "    output_dir=output_dir,\n",
    ")"
   ]
  },
  {
   "cell_type": "code",
   "execution_count": 8,
   "id": "106241f5",
   "metadata": {
    "execution": {
     "iopub.execute_input": "2025-08-05T20:51:00.477010Z",
     "iopub.status.busy": "2025-08-05T20:51:00.476018Z",
     "iopub.status.idle": "2025-08-05T20:51:00.483274Z",
     "shell.execute_reply": "2025-08-05T20:51:00.482290Z"
    },
    "papermill": {
     "duration": 0.026364,
     "end_time": "2025-08-05T20:51:00.485151",
     "exception": false,
     "start_time": "2025-08-05T20:51:00.458787",
     "status": "completed"
    },
    "tags": []
   },
   "outputs": [
    {
     "name": "stdout",
     "output_type": "stream",
     "text": [
      "Using Seed: 2023\n"
     ]
    }
   ],
   "source": [
    "import numpy as np\n",
    "parsed_seed = int(seed)\n",
    "np.random.seed(parsed_seed)\n",
    "print(f\"Using Seed: {parsed_seed}\")"
   ]
  },
  {
   "cell_type": "markdown",
   "id": "e0ebdc57",
   "metadata": {
    "papermill": {
     "duration": 0.016332,
     "end_time": "2025-08-05T20:51:00.518508",
     "exception": false,
     "start_time": "2025-08-05T20:51:00.502176",
     "status": "completed"
    },
    "tags": []
   },
   "source": [
    "# Loading Data"
   ]
  },
  {
   "cell_type": "code",
   "execution_count": 9,
   "id": "f0496b8a",
   "metadata": {
    "execution": {
     "iopub.execute_input": "2025-08-05T20:51:00.553355Z",
     "iopub.status.busy": "2025-08-05T20:51:00.552501Z",
     "iopub.status.idle": "2025-08-05T20:51:12.476621Z",
     "shell.execute_reply": "2025-08-05T20:51:12.475448Z"
    },
    "papermill": {
     "duration": 11.944099,
     "end_time": "2025-08-05T20:51:12.478652",
     "exception": false,
     "start_time": "2025-08-05T20:51:00.534553",
     "status": "completed"
    },
    "tags": []
   },
   "outputs": [
    {
     "name": "stdout",
     "output_type": "stream",
     "text": [
      "Loading SIAB data from cache: data/siab_cached.csv.gz\n"
     ]
    },
    {
     "name": "stdout",
     "output_type": "stream",
     "text": [
      "(643690, 164)\n"
     ]
    }
   ],
   "source": [
    "from pathlib import Path\n",
    "import pandas as pd\n",
    "\n",
    "# File paths\n",
    "raw_file = Path(\"data/raw/siab.csv\")\n",
    "cache_file = Path(\"data/siab_cached.csv.gz\")\n",
    "\n",
    "# Ensure cache directory exists\n",
    "cache_file.parent.mkdir(parents=True, exist_ok=True)\n",
    "\n",
    "# Load with simple caching\n",
    "if cache_file.exists():\n",
    "    print(f\"Loading SIAB data from cache: {cache_file}\")\n",
    "    siab = pd.read_csv(cache_file, compression='gzip')\n",
    "else:\n",
    "    print(f\"Cache not found. Reading raw SIAB data: {raw_file}\")\n",
    "    siab = pd.read_csv(raw_file)\n",
    "    siab.to_csv(cache_file, index=False, compression='gzip')\n",
    "    print(f\"Cached SIAB data to: {cache_file}\")\n",
    "\n",
    "print(siab.shape)"
   ]
  },
  {
   "cell_type": "code",
   "execution_count": 10,
   "id": "db0ca512-5f53-4dba-abdb-a2888bca41ba",
   "metadata": {
    "execution": {
     "iopub.execute_input": "2025-08-05T20:51:12.520713Z",
     "iopub.status.busy": "2025-08-05T20:51:12.519748Z",
     "iopub.status.idle": "2025-08-05T20:51:12.525632Z",
     "shell.execute_reply": "2025-08-05T20:51:12.524437Z"
    },
    "papermill": {
     "duration": 0.02696,
     "end_time": "2025-08-05T20:51:12.527115",
     "exception": false,
     "start_time": "2025-08-05T20:51:12.500155",
     "status": "completed"
    },
    "tags": []
   },
   "outputs": [],
   "source": [
    "#siab"
   ]
  },
  {
   "cell_type": "markdown",
   "id": "997051c5-15bd-4b69-9786-c3001a3ce484",
   "metadata": {
    "papermill": {
     "duration": 0.009212,
     "end_time": "2025-08-05T20:51:12.545919",
     "exception": false,
     "start_time": "2025-08-05T20:51:12.536707",
     "status": "completed"
    },
    "tags": []
   },
   "source": [
    "# Splitting Data and Setting Training Data Size"
   ]
  },
  {
   "cell_type": "code",
   "execution_count": 11,
   "id": "aea9c6ef-6f46-42c8-85eb-5a62025c1508",
   "metadata": {
    "execution": {
     "iopub.execute_input": "2025-08-05T20:51:12.564891Z",
     "iopub.status.busy": "2025-08-05T20:51:12.564384Z",
     "iopub.status.idle": "2025-08-05T20:51:13.154251Z",
     "shell.execute_reply": "2025-08-05T20:51:13.153471Z"
    },
    "papermill": {
     "duration": 0.60108,
     "end_time": "2025-08-05T20:51:13.155738",
     "exception": false,
     "start_time": "2025-08-05T20:51:12.554658",
     "status": "completed"
    },
    "tags": []
   },
   "outputs": [],
   "source": [
    "from fairness_multiverse.universe import sample_by_year_size\n",
    "\n",
    "siab_train = sample_by_year_size(siab,\n",
    "                               training_year=universe[\"training_year\"],\n",
    "                               training_size=universe[\"training_size\"])"
   ]
  },
  {
   "cell_type": "code",
   "execution_count": 12,
   "id": "8d3afb32-789d-442c-8d5d-9f5aa8dd2eed",
   "metadata": {
    "execution": {
     "iopub.execute_input": "2025-08-05T20:51:13.174740Z",
     "iopub.status.busy": "2025-08-05T20:51:13.174244Z",
     "iopub.status.idle": "2025-08-05T20:51:13.178576Z",
     "shell.execute_reply": "2025-08-05T20:51:13.177784Z"
    },
    "papermill": {
     "duration": 0.014832,
     "end_time": "2025-08-05T20:51:13.179899",
     "exception": false,
     "start_time": "2025-08-05T20:51:13.165067",
     "status": "completed"
    },
    "tags": []
   },
   "outputs": [],
   "source": [
    "#siab_train.shape"
   ]
  },
  {
   "cell_type": "code",
   "execution_count": 13,
   "id": "d582db68-1a4c-47fb-84fc-08518dc1975a",
   "metadata": {
    "execution": {
     "iopub.execute_input": "2025-08-05T20:51:13.199295Z",
     "iopub.status.busy": "2025-08-05T20:51:13.198809Z",
     "iopub.status.idle": "2025-08-05T20:51:13.202885Z",
     "shell.execute_reply": "2025-08-05T20:51:13.202124Z"
    },
    "papermill": {
     "duration": 0.014923,
     "end_time": "2025-08-05T20:51:13.204381",
     "exception": false,
     "start_time": "2025-08-05T20:51:13.189458",
     "status": "completed"
    },
    "tags": []
   },
   "outputs": [],
   "source": [
    "#display(siab_train.groupby(\"year\").size())"
   ]
  },
  {
   "cell_type": "code",
   "execution_count": 14,
   "id": "a561edb4-d032-42cb-8256-22eac1111c64",
   "metadata": {
    "execution": {
     "iopub.execute_input": "2025-08-05T20:51:13.223193Z",
     "iopub.status.busy": "2025-08-05T20:51:13.222910Z",
     "iopub.status.idle": "2025-08-05T20:51:13.434142Z",
     "shell.execute_reply": "2025-08-05T20:51:13.433379Z"
    },
    "papermill": {
     "duration": 0.221953,
     "end_time": "2025-08-05T20:51:13.435653",
     "exception": false,
     "start_time": "2025-08-05T20:51:13.213700",
     "status": "completed"
    },
    "tags": []
   },
   "outputs": [],
   "source": [
    "#siab_train = siab_s[siab_s.year < 2015]\n",
    "siab_calib = siab[siab.year == 2015]\n",
    "siab_test = siab[siab.year == 2016]"
   ]
  },
  {
   "cell_type": "code",
   "execution_count": 15,
   "id": "472de16f-c3db-4916-846b-1f0de9cf1746",
   "metadata": {
    "execution": {
     "iopub.execute_input": "2025-08-05T20:51:13.454674Z",
     "iopub.status.busy": "2025-08-05T20:51:13.454387Z",
     "iopub.status.idle": "2025-08-05T20:51:13.466967Z",
     "shell.execute_reply": "2025-08-05T20:51:13.466137Z"
    },
    "papermill": {
     "duration": 0.023292,
     "end_time": "2025-08-05T20:51:13.468331",
     "exception": false,
     "start_time": "2025-08-05T20:51:13.445039",
     "status": "completed"
    },
    "tags": []
   },
   "outputs": [],
   "source": [
    "X_train = siab_train.iloc[:,4:164]\n",
    "y_train = siab_train.iloc[:, [3]]"
   ]
  },
  {
   "cell_type": "code",
   "execution_count": 16,
   "id": "828c96af-f43a-4ed6-ba47-8ac73a47d56c",
   "metadata": {
    "execution": {
     "iopub.execute_input": "2025-08-05T20:51:13.488211Z",
     "iopub.status.busy": "2025-08-05T20:51:13.487725Z",
     "iopub.status.idle": "2025-08-05T20:51:13.533748Z",
     "shell.execute_reply": "2025-08-05T20:51:13.532929Z"
    },
    "papermill": {
     "duration": 0.05704,
     "end_time": "2025-08-05T20:51:13.535426",
     "exception": false,
     "start_time": "2025-08-05T20:51:13.478386",
     "status": "completed"
    },
    "tags": []
   },
   "outputs": [],
   "source": [
    "X_calib = siab_calib.iloc[:,4:164]\n",
    "y_calib = siab_calib.iloc[:, [3]]"
   ]
  },
  {
   "cell_type": "code",
   "execution_count": 17,
   "id": "c34be9c3-6bd6-476e-acd3-845840e303be",
   "metadata": {
    "execution": {
     "iopub.execute_input": "2025-08-05T20:51:13.555399Z",
     "iopub.status.busy": "2025-08-05T20:51:13.555113Z",
     "iopub.status.idle": "2025-08-05T20:51:13.602754Z",
     "shell.execute_reply": "2025-08-05T20:51:13.601930Z"
    },
    "papermill": {
     "duration": 0.058395,
     "end_time": "2025-08-05T20:51:13.604109",
     "exception": false,
     "start_time": "2025-08-05T20:51:13.545714",
     "status": "completed"
    },
    "tags": []
   },
   "outputs": [],
   "source": [
    "X_test = siab_test.iloc[:,4:164]\n",
    "y_true = siab_test.iloc[:, [3]]"
   ]
  },
  {
   "cell_type": "code",
   "execution_count": 18,
   "id": "e6c733c5",
   "metadata": {
    "execution": {
     "iopub.execute_input": "2025-08-05T20:51:13.624094Z",
     "iopub.status.busy": "2025-08-05T20:51:13.623807Z",
     "iopub.status.idle": "2025-08-05T20:51:13.713196Z",
     "shell.execute_reply": "2025-08-05T20:51:13.712432Z"
    },
    "papermill": {
     "duration": 0.100572,
     "end_time": "2025-08-05T20:51:13.714718",
     "exception": false,
     "start_time": "2025-08-05T20:51:13.614146",
     "status": "completed"
    },
    "tags": []
   },
   "outputs": [],
   "source": [
    "# Auxiliary data needed downstream in the pipeline\n",
    "\n",
    "org_train = X_train.copy()\n",
    "org_test = X_test.copy()\n",
    "org_calib = X_calib.copy()"
   ]
  },
  {
   "cell_type": "markdown",
   "id": "0a4a1b33",
   "metadata": {
    "papermill": {
     "duration": 0.009079,
     "end_time": "2025-08-05T20:51:13.733427",
     "exception": false,
     "start_time": "2025-08-05T20:51:13.724348",
     "status": "completed"
    },
    "tags": []
   },
   "source": [
    "# Preprocessing Data"
   ]
  },
  {
   "cell_type": "code",
   "execution_count": 19,
   "id": "ca879031",
   "metadata": {
    "execution": {
     "iopub.execute_input": "2025-08-05T20:51:13.752261Z",
     "iopub.status.busy": "2025-08-05T20:51:13.751759Z",
     "iopub.status.idle": "2025-08-05T20:51:13.756719Z",
     "shell.execute_reply": "2025-08-05T20:51:13.755934Z"
    },
    "papermill": {
     "duration": 0.015885,
     "end_time": "2025-08-05T20:51:13.758056",
     "exception": false,
     "start_time": "2025-08-05T20:51:13.742171",
     "status": "completed"
    },
    "tags": []
   },
   "outputs": [],
   "source": [
    "# EXCLUDE PROTECTED FEATURES\n",
    "# ----------------------\n",
    "# \"exclude_features\": \"none\", # \"nationality\", \"sex\", \"nationality-sex\"\n",
    "\n",
    "excluded_features = universe[\"exclude_features\"].split(\"-\") # split, e.g.: \"nationality-sex\" -> [\"nationality\", \"sex\"]\n",
    "excluded_features_dictionary = {\n",
    "    \"nationality\": [\"maxdeutsch1\", \"maxdeutsch.Missing.\"],\n",
    "    \"sex\": [\"frau1\"],\n",
    "    \"age\": [\"age\"],\n",
    "}"
   ]
  },
  {
   "cell_type": "code",
   "execution_count": 20,
   "id": "b745ac60",
   "metadata": {
    "execution": {
     "iopub.execute_input": "2025-08-05T20:51:13.777564Z",
     "iopub.status.busy": "2025-08-05T20:51:13.777085Z",
     "iopub.status.idle": "2025-08-05T20:51:13.781907Z",
     "shell.execute_reply": "2025-08-05T20:51:13.781120Z"
    },
    "papermill": {
     "duration": 0.01572,
     "end_time": "2025-08-05T20:51:13.783274",
     "exception": false,
     "start_time": "2025-08-05T20:51:13.767554",
     "status": "completed"
    },
    "tags": []
   },
   "outputs": [],
   "source": [
    "# Code nice names to column names\n",
    "\n",
    "excluded_features_columns = [\n",
    "    excluded_features_dictionary[f] for f in excluded_features if len(f) > 0 and f != \"none\"\n",
    "]"
   ]
  },
  {
   "cell_type": "code",
   "execution_count": 21,
   "id": "f84f73a2",
   "metadata": {
    "execution": {
     "iopub.execute_input": "2025-08-05T20:51:13.803153Z",
     "iopub.status.busy": "2025-08-05T20:51:13.802671Z",
     "iopub.status.idle": "2025-08-05T20:51:13.807888Z",
     "shell.execute_reply": "2025-08-05T20:51:13.807169Z"
    },
    "papermill": {
     "duration": 0.016231,
     "end_time": "2025-08-05T20:51:13.809339",
     "exception": false,
     "start_time": "2025-08-05T20:51:13.793108",
     "status": "completed"
    },
    "tags": []
   },
   "outputs": [],
   "source": [
    "from utils import flatten_once\n",
    "\n",
    "excluded_features_columns = flatten_once(excluded_features_columns)"
   ]
  },
  {
   "cell_type": "code",
   "execution_count": 22,
   "id": "884dea22",
   "metadata": {
    "execution": {
     "iopub.execute_input": "2025-08-05T20:51:13.829128Z",
     "iopub.status.busy": "2025-08-05T20:51:13.828488Z",
     "iopub.status.idle": "2025-08-05T20:51:13.842222Z",
     "shell.execute_reply": "2025-08-05T20:51:13.841238Z"
    },
    "papermill": {
     "duration": 0.024877,
     "end_time": "2025-08-05T20:51:13.843667",
     "exception": false,
     "start_time": "2025-08-05T20:51:13.818790",
     "status": "completed"
    },
    "tags": []
   },
   "outputs": [
    {
     "name": "stdout",
     "output_type": "stream",
     "text": [
      "Dropping features: ['age']\n"
     ]
    }
   ],
   "source": [
    "if len(excluded_features_columns) > 0:\n",
    "    print(f\"Dropping features: {excluded_features_columns}\")\n",
    "    X_train.drop(excluded_features_columns, axis=1, inplace=True)"
   ]
  },
  {
   "cell_type": "code",
   "execution_count": 23,
   "id": "95ab8b16",
   "metadata": {
    "execution": {
     "iopub.execute_input": "2025-08-05T20:51:13.864693Z",
     "iopub.status.busy": "2025-08-05T20:51:13.864057Z",
     "iopub.status.idle": "2025-08-05T20:51:13.912556Z",
     "shell.execute_reply": "2025-08-05T20:51:13.911584Z"
    },
    "papermill": {
     "duration": 0.059906,
     "end_time": "2025-08-05T20:51:13.914198",
     "exception": false,
     "start_time": "2025-08-05T20:51:13.854292",
     "status": "completed"
    },
    "tags": []
   },
   "outputs": [
    {
     "name": "stdout",
     "output_type": "stream",
     "text": [
      "Dropping features: ['age']\n"
     ]
    }
   ],
   "source": [
    "if len(excluded_features_columns) > 0:\n",
    "    print(f\"Dropping features: {excluded_features_columns}\")\n",
    "    X_test.drop(excluded_features_columns, axis=1, inplace=True)"
   ]
  },
  {
   "cell_type": "code",
   "execution_count": 24,
   "id": "1853aaf5-fb9f-46cb-a2b5-8ea4ae2237e4",
   "metadata": {
    "execution": {
     "iopub.execute_input": "2025-08-05T20:51:13.946990Z",
     "iopub.status.busy": "2025-08-05T20:51:13.946160Z",
     "iopub.status.idle": "2025-08-05T20:51:13.999785Z",
     "shell.execute_reply": "2025-08-05T20:51:13.998821Z"
    },
    "papermill": {
     "duration": 0.076468,
     "end_time": "2025-08-05T20:51:14.001371",
     "exception": false,
     "start_time": "2025-08-05T20:51:13.924903",
     "status": "completed"
    },
    "tags": []
   },
   "outputs": [
    {
     "name": "stdout",
     "output_type": "stream",
     "text": [
      "Dropping features: ['age']\n"
     ]
    }
   ],
   "source": [
    "if len(excluded_features_columns) > 0:\n",
    "    print(f\"Dropping features: {excluded_features_columns}\")\n",
    "    X_calib.drop(excluded_features_columns, axis=1, inplace=True)"
   ]
  },
  {
   "cell_type": "code",
   "execution_count": 25,
   "id": "76c4dc6d",
   "metadata": {
    "execution": {
     "iopub.execute_input": "2025-08-05T20:51:14.042093Z",
     "iopub.status.busy": "2025-08-05T20:51:14.041482Z",
     "iopub.status.idle": "2025-08-05T20:51:14.047860Z",
     "shell.execute_reply": "2025-08-05T20:51:14.047016Z"
    },
    "papermill": {
     "duration": 0.027908,
     "end_time": "2025-08-05T20:51:14.050085",
     "exception": false,
     "start_time": "2025-08-05T20:51:14.022177",
     "status": "completed"
    },
    "tags": []
   },
   "outputs": [],
   "source": [
    "# EXCLUDE CERTAIN SUBGROUPS\n",
    "# ----------------------\n",
    "\n",
    "mode = universe.get(\"exclude_subgroups\", \"keep-all\") \n",
    "# Fetches the exclude_subgroups setting from the universe dict.\n",
    "# Defaults to \"keep-all\" if the key is missing."
   ]
  },
  {
   "cell_type": "code",
   "execution_count": 26,
   "id": "21994072",
   "metadata": {
    "execution": {
     "iopub.execute_input": "2025-08-05T20:51:14.091491Z",
     "iopub.status.busy": "2025-08-05T20:51:14.091003Z",
     "iopub.status.idle": "2025-08-05T20:51:14.099135Z",
     "shell.execute_reply": "2025-08-05T20:51:14.098012Z"
    },
    "papermill": {
     "duration": 0.030505,
     "end_time": "2025-08-05T20:51:14.100948",
     "exception": false,
     "start_time": "2025-08-05T20:51:14.070443",
     "status": "completed"
    },
    "tags": []
   },
   "outputs": [],
   "source": [
    "if mode == \"keep-all\":\n",
    "    keep_mask = pd.Series(True, index=org_train.index)\n",
    "\n",
    "# org_train contains the original feature columns from features_org (in Simson)\n",
    "# features_org contains unprocessed features, for me X_train at beginning ???\n",
    "# For keep-all, creates a boolean Series (keep_mask) of all True, so no rows are removed.\n",
    "\n",
    "elif mode == \"drop-non-german\":\n",
    "    keep_mask = org_train[\"maxdeutsch1\"] == 1 # ??? what about missing values?\n",
    "\n",
    "else:\n",
    "    raise ValueError(f\"Unsupported mode for exclude_subgroups: {mode}\")"
   ]
  },
  {
   "cell_type": "code",
   "execution_count": 27,
   "id": "71651440",
   "metadata": {
    "execution": {
     "iopub.execute_input": "2025-08-05T20:51:14.143728Z",
     "iopub.status.busy": "2025-08-05T20:51:14.143390Z",
     "iopub.status.idle": "2025-08-05T20:51:14.150524Z",
     "shell.execute_reply": "2025-08-05T20:51:14.149424Z"
    },
    "papermill": {
     "duration": 0.031497,
     "end_time": "2025-08-05T20:51:14.152372",
     "exception": false,
     "start_time": "2025-08-05T20:51:14.120875",
     "status": "completed"
    },
    "tags": []
   },
   "outputs": [
    {
     "name": "stdout",
     "output_type": "stream",
     "text": [
      "Dropping 3481 rows (13.92%) where mode='drop-non-german'\n"
     ]
    }
   ],
   "source": [
    "n_drop = (~keep_mask).sum() # Calculates how many rows are set to be dropped\n",
    "if n_drop > 0:\n",
    "    pct = n_drop / len(keep_mask) * 100\n",
    "    print(f\"Dropping {n_drop} rows ({pct:.2f}%) where mode='{mode}'\")"
   ]
  },
  {
   "cell_type": "code",
   "execution_count": 28,
   "id": "5fb8eee5",
   "metadata": {
    "execution": {
     "iopub.execute_input": "2025-08-05T20:51:14.192194Z",
     "iopub.status.busy": "2025-08-05T20:51:14.191646Z",
     "iopub.status.idle": "2025-08-05T20:51:14.205637Z",
     "shell.execute_reply": "2025-08-05T20:51:14.204412Z"
    },
    "papermill": {
     "duration": 0.035389,
     "end_time": "2025-08-05T20:51:14.207837",
     "exception": false,
     "start_time": "2025-08-05T20:51:14.172448",
     "status": "completed"
    },
    "tags": []
   },
   "outputs": [],
   "source": [
    "X_train = X_train[keep_mask]"
   ]
  },
  {
   "cell_type": "code",
   "execution_count": 29,
   "id": "b202bb3a",
   "metadata": {
    "execution": {
     "iopub.execute_input": "2025-08-05T20:51:14.247957Z",
     "iopub.status.busy": "2025-08-05T20:51:14.247496Z",
     "iopub.status.idle": "2025-08-05T20:51:14.253891Z",
     "shell.execute_reply": "2025-08-05T20:51:14.252849Z"
    },
    "papermill": {
     "duration": 0.027359,
     "end_time": "2025-08-05T20:51:14.255610",
     "exception": false,
     "start_time": "2025-08-05T20:51:14.228251",
     "status": "completed"
    },
    "tags": []
   },
   "outputs": [],
   "source": [
    "y_train = y_train[keep_mask]"
   ]
  },
  {
   "cell_type": "markdown",
   "id": "493e2ac3",
   "metadata": {
    "papermill": {
     "duration": 0.018635,
     "end_time": "2025-08-05T20:51:14.294842",
     "exception": false,
     "start_time": "2025-08-05T20:51:14.276207",
     "status": "completed"
    },
    "tags": []
   },
   "source": [
    "# Model Training"
   ]
  },
  {
   "cell_type": "code",
   "execution_count": 30,
   "id": "679e1268",
   "metadata": {
    "execution": {
     "iopub.execute_input": "2025-08-05T20:51:14.334165Z",
     "iopub.status.busy": "2025-08-05T20:51:14.333722Z",
     "iopub.status.idle": "2025-08-05T20:51:14.434004Z",
     "shell.execute_reply": "2025-08-05T20:51:14.432928Z"
    },
    "papermill": {
     "duration": 0.122415,
     "end_time": "2025-08-05T20:51:14.436156",
     "exception": false,
     "start_time": "2025-08-05T20:51:14.313741",
     "status": "completed"
    },
    "tags": []
   },
   "outputs": [],
   "source": [
    "from sklearn.linear_model import LogisticRegression\n",
    "from sklearn.ensemble import GradientBoostingClassifier, RandomForestClassifier\n",
    "\n",
    "if (universe[\"model\"] == \"logreg\"):\n",
    "    model = LogisticRegression() #penalty=\"none\", solver=\"newton-cg\", max_iter=1) # include random_state=19 ?\n",
    "elif (universe[\"model\"] == \"penalized_logreg\"):\n",
    "    model = LogisticRegression(penalty=\"l2\", C=0.1) #, solver=\"newton-cg\", max_iter=1)\n",
    "elif (universe[\"model\"] == \"rf\"):\n",
    "    model = RandomForestClassifier() # n_estimators=100, n_jobs=-1\n",
    "elif (universe[\"model\"] == \"gbm\"):\n",
    "    model = GradientBoostingClassifier()\n",
    "elif (universe[\"model\"] == \"elasticnet\"):\n",
    "    model = LogisticRegression(penalty = 'elasticnet', solver = 'saga', l1_ratio = 0.5) # max_iter=5000\n",
    "else:\n",
    "    raise \"Unsupported universe.model\""
   ]
  },
  {
   "cell_type": "code",
   "execution_count": 31,
   "id": "0cc8f744",
   "metadata": {
    "execution": {
     "iopub.execute_input": "2025-08-05T20:51:14.476470Z",
     "iopub.status.busy": "2025-08-05T20:51:14.475793Z",
     "iopub.status.idle": "2025-08-05T20:51:14.481968Z",
     "shell.execute_reply": "2025-08-05T20:51:14.480891Z"
    },
    "papermill": {
     "duration": 0.027598,
     "end_time": "2025-08-05T20:51:14.483655",
     "exception": false,
     "start_time": "2025-08-05T20:51:14.456057",
     "status": "completed"
    },
    "tags": []
   },
   "outputs": [],
   "source": [
    "import numpy as np\n",
    "from sklearn.pipeline import Pipeline\n",
    "from sklearn.preprocessing import StandardScaler\n",
    "\n",
    "model = Pipeline([\n",
    "    #(\"continuous_processor\", continuous_processor),\n",
    "    #(\"categorical_preprocessor\", categorical_preprocessor),\n",
    "    (\"scale\", StandardScaler() if universe[\"scale\"] == \"scale\" else None), \n",
    "    (\"model\", model),\n",
    "])"
   ]
  },
  {
   "cell_type": "code",
   "execution_count": 32,
   "id": "9442c04d",
   "metadata": {
    "execution": {
     "iopub.execute_input": "2025-08-05T20:51:14.525441Z",
     "iopub.status.busy": "2025-08-05T20:51:14.525118Z",
     "iopub.status.idle": "2025-08-05T20:51:15.080518Z",
     "shell.execute_reply": "2025-08-05T20:51:15.079660Z"
    },
    "papermill": {
     "duration": 0.57782,
     "end_time": "2025-08-05T20:51:15.082186",
     "exception": false,
     "start_time": "2025-08-05T20:51:14.504366",
     "status": "completed"
    },
    "tags": []
   },
   "outputs": [
    {
     "name": "stderr",
     "output_type": "stream",
     "text": [
      "/dss/dsshome1/0C/ra93lal2/.local/share/virtualenvs/CMA_Fairness_v2-3j10GkSs/lib/python3.10/site-packages/sklearn/linear_model/_logistic.py:444: ConvergenceWarning: lbfgs failed to converge (status=1):\n",
      "STOP: TOTAL NO. of ITERATIONS REACHED LIMIT.\n",
      "\n",
      "Increase the number of iterations (max_iter) or scale the data as shown in:\n",
      "    https://scikit-learn.org/stable/modules/preprocessing.html\n",
      "Please also refer to the documentation for alternative solver options:\n",
      "    https://scikit-learn.org/stable/modules/linear_model.html#logistic-regression\n",
      "  n_iter_i = _check_optimize_result(\n"
     ]
    },
    {
     "data": {
      "text/html": [
       "<style>#sk-container-id-1 {color: black;background-color: white;}#sk-container-id-1 pre{padding: 0;}#sk-container-id-1 div.sk-toggleable {background-color: white;}#sk-container-id-1 label.sk-toggleable__label {cursor: pointer;display: block;width: 100%;margin-bottom: 0;padding: 0.3em;box-sizing: border-box;text-align: center;}#sk-container-id-1 label.sk-toggleable__label-arrow:before {content: \"▸\";float: left;margin-right: 0.25em;color: #696969;}#sk-container-id-1 label.sk-toggleable__label-arrow:hover:before {color: black;}#sk-container-id-1 div.sk-estimator:hover label.sk-toggleable__label-arrow:before {color: black;}#sk-container-id-1 div.sk-toggleable__content {max-height: 0;max-width: 0;overflow: hidden;text-align: left;background-color: #f0f8ff;}#sk-container-id-1 div.sk-toggleable__content pre {margin: 0.2em;color: black;border-radius: 0.25em;background-color: #f0f8ff;}#sk-container-id-1 input.sk-toggleable__control:checked~div.sk-toggleable__content {max-height: 200px;max-width: 100%;overflow: auto;}#sk-container-id-1 input.sk-toggleable__control:checked~label.sk-toggleable__label-arrow:before {content: \"▾\";}#sk-container-id-1 div.sk-estimator input.sk-toggleable__control:checked~label.sk-toggleable__label {background-color: #d4ebff;}#sk-container-id-1 div.sk-label input.sk-toggleable__control:checked~label.sk-toggleable__label {background-color: #d4ebff;}#sk-container-id-1 input.sk-hidden--visually {border: 0;clip: rect(1px 1px 1px 1px);clip: rect(1px, 1px, 1px, 1px);height: 1px;margin: -1px;overflow: hidden;padding: 0;position: absolute;width: 1px;}#sk-container-id-1 div.sk-estimator {font-family: monospace;background-color: #f0f8ff;border: 1px dotted black;border-radius: 0.25em;box-sizing: border-box;margin-bottom: 0.5em;}#sk-container-id-1 div.sk-estimator:hover {background-color: #d4ebff;}#sk-container-id-1 div.sk-parallel-item::after {content: \"\";width: 100%;border-bottom: 1px solid gray;flex-grow: 1;}#sk-container-id-1 div.sk-label:hover label.sk-toggleable__label {background-color: #d4ebff;}#sk-container-id-1 div.sk-serial::before {content: \"\";position: absolute;border-left: 1px solid gray;box-sizing: border-box;top: 0;bottom: 0;left: 50%;z-index: 0;}#sk-container-id-1 div.sk-serial {display: flex;flex-direction: column;align-items: center;background-color: white;padding-right: 0.2em;padding-left: 0.2em;position: relative;}#sk-container-id-1 div.sk-item {position: relative;z-index: 1;}#sk-container-id-1 div.sk-parallel {display: flex;align-items: stretch;justify-content: center;background-color: white;position: relative;}#sk-container-id-1 div.sk-item::before, #sk-container-id-1 div.sk-parallel-item::before {content: \"\";position: absolute;border-left: 1px solid gray;box-sizing: border-box;top: 0;bottom: 0;left: 50%;z-index: -1;}#sk-container-id-1 div.sk-parallel-item {display: flex;flex-direction: column;z-index: 1;position: relative;background-color: white;}#sk-container-id-1 div.sk-parallel-item:first-child::after {align-self: flex-end;width: 50%;}#sk-container-id-1 div.sk-parallel-item:last-child::after {align-self: flex-start;width: 50%;}#sk-container-id-1 div.sk-parallel-item:only-child::after {width: 0;}#sk-container-id-1 div.sk-dashed-wrapped {border: 1px dashed gray;margin: 0 0.4em 0.5em 0.4em;box-sizing: border-box;padding-bottom: 0.4em;background-color: white;}#sk-container-id-1 div.sk-label label {font-family: monospace;font-weight: bold;display: inline-block;line-height: 1.2em;}#sk-container-id-1 div.sk-label-container {text-align: center;}#sk-container-id-1 div.sk-container {/* jupyter's `normalize.less` sets `[hidden] { display: none; }` but bootstrap.min.css set `[hidden] { display: none !important; }` so we also need the `!important` here to be able to override the default hidden behavior on the sphinx rendered scikit-learn.org. See: https://github.com/scikit-learn/scikit-learn/issues/21755 */display: inline-block !important;position: relative;}#sk-container-id-1 div.sk-text-repr-fallback {display: none;}</style><div id=\"sk-container-id-1\" class=\"sk-top-container\"><div class=\"sk-text-repr-fallback\"><pre>Pipeline(steps=[(&#x27;scale&#x27;, StandardScaler()),\n",
       "                (&#x27;model&#x27;, LogisticRegression(C=0.1))])</pre><b>In a Jupyter environment, please rerun this cell to show the HTML representation or trust the notebook. <br />On GitHub, the HTML representation is unable to render, please try loading this page with nbviewer.org.</b></div><div class=\"sk-container\" hidden><div class=\"sk-item sk-dashed-wrapped\"><div class=\"sk-label-container\"><div class=\"sk-label sk-toggleable\"><input class=\"sk-toggleable__control sk-hidden--visually\" id=\"sk-estimator-id-1\" type=\"checkbox\" ><label for=\"sk-estimator-id-1\" class=\"sk-toggleable__label sk-toggleable__label-arrow\">Pipeline</label><div class=\"sk-toggleable__content\"><pre>Pipeline(steps=[(&#x27;scale&#x27;, StandardScaler()),\n",
       "                (&#x27;model&#x27;, LogisticRegression(C=0.1))])</pre></div></div></div><div class=\"sk-serial\"><div class=\"sk-item\"><div class=\"sk-estimator sk-toggleable\"><input class=\"sk-toggleable__control sk-hidden--visually\" id=\"sk-estimator-id-2\" type=\"checkbox\" ><label for=\"sk-estimator-id-2\" class=\"sk-toggleable__label sk-toggleable__label-arrow\">StandardScaler</label><div class=\"sk-toggleable__content\"><pre>StandardScaler()</pre></div></div></div><div class=\"sk-item\"><div class=\"sk-estimator sk-toggleable\"><input class=\"sk-toggleable__control sk-hidden--visually\" id=\"sk-estimator-id-3\" type=\"checkbox\" ><label for=\"sk-estimator-id-3\" class=\"sk-toggleable__label sk-toggleable__label-arrow\">LogisticRegression</label><div class=\"sk-toggleable__content\"><pre>LogisticRegression(C=0.1)</pre></div></div></div></div></div></div></div>"
      ],
      "text/plain": [
       "Pipeline(steps=[('scale', StandardScaler()),\n",
       "                ('model', LogisticRegression(C=0.1))])"
      ]
     },
     "execution_count": 32,
     "metadata": {},
     "output_type": "execute_result"
    }
   ],
   "source": [
    "model.fit(X_train, y_train.values.ravel())"
   ]
  },
  {
   "cell_type": "code",
   "execution_count": 33,
   "id": "af59f8c0",
   "metadata": {
    "execution": {
     "iopub.execute_input": "2025-08-05T20:51:15.123811Z",
     "iopub.status.busy": "2025-08-05T20:51:15.122930Z",
     "iopub.status.idle": "2025-08-05T20:51:15.128571Z",
     "shell.execute_reply": "2025-08-05T20:51:15.127597Z"
    },
    "papermill": {
     "duration": 0.028221,
     "end_time": "2025-08-05T20:51:15.130302",
     "exception": false,
     "start_time": "2025-08-05T20:51:15.102081",
     "status": "completed"
    },
    "tags": []
   },
   "outputs": [],
   "source": [
    "from fairness_multiverse.universe import predict_w_threshold"
   ]
  },
  {
   "cell_type": "code",
   "execution_count": 34,
   "id": "a7cf2e16",
   "metadata": {
    "execution": {
     "iopub.execute_input": "2025-08-05T20:51:15.168464Z",
     "iopub.status.busy": "2025-08-05T20:51:15.167748Z",
     "iopub.status.idle": "2025-08-05T20:51:15.360342Z",
     "shell.execute_reply": "2025-08-05T20:51:15.359339Z"
    },
    "papermill": {
     "duration": 0.213503,
     "end_time": "2025-08-05T20:51:15.362289",
     "exception": false,
     "start_time": "2025-08-05T20:51:15.148786",
     "status": "completed"
    },
    "tags": []
   },
   "outputs": [
    {
     "data": {
      "text/plain": [
       "0.8603723107791773"
      ]
     },
     "execution_count": 34,
     "metadata": {},
     "output_type": "execute_result"
    }
   ],
   "source": [
    "probs_test = model.predict_proba(X_test)\n",
    "\n",
    "'''\n",
    "Below code returns a boolean array (or binary 0/1 array depending on how it’s used) where each element \n",
    "is True if the probability of class 1 is greater than or equal to the threshold, and False otherwise.\n",
    "'''\n",
    "y_pred_default = predict_w_threshold(probs_test, 0.5)\n",
    "\n",
    "from sklearn.metrics import accuracy_score\n",
    "\n",
    "# Naive prediction\n",
    "accuracy_score(y_true = y_true, y_pred = y_pred_default)"
   ]
  },
  {
   "cell_type": "code",
   "execution_count": 35,
   "id": "081964c3",
   "metadata": {
    "execution": {
     "iopub.execute_input": "2025-08-05T20:51:15.403780Z",
     "iopub.status.busy": "2025-08-05T20:51:15.403177Z",
     "iopub.status.idle": "2025-08-05T20:51:15.581420Z",
     "shell.execute_reply": "2025-08-05T20:51:15.580314Z"
    },
    "papermill": {
     "duration": 0.202169,
     "end_time": "2025-08-05T20:51:15.584483",
     "exception": false,
     "start_time": "2025-08-05T20:51:15.382314",
     "status": "completed"
    },
    "tags": []
   },
   "outputs": [
    {
     "data": {
      "text/plain": [
       "array([0, 0, 0, ..., 0, 0, 0])"
      ]
     },
     "execution_count": 35,
     "metadata": {},
     "output_type": "execute_result"
    }
   ],
   "source": [
    "model.predict(X_test)"
   ]
  },
  {
   "cell_type": "markdown",
   "id": "56c9705b",
   "metadata": {
    "papermill": {
     "duration": 0.019908,
     "end_time": "2025-08-05T20:51:15.632372",
     "exception": false,
     "start_time": "2025-08-05T20:51:15.612464",
     "status": "completed"
    },
    "tags": []
   },
   "source": [
    "# Conformal Prediction"
   ]
  },
  {
   "cell_type": "code",
   "execution_count": 36,
   "id": "160ec6ff",
   "metadata": {
    "execution": {
     "iopub.execute_input": "2025-08-05T20:51:15.677288Z",
     "iopub.status.busy": "2025-08-05T20:51:15.676912Z",
     "iopub.status.idle": "2025-08-05T20:51:15.682352Z",
     "shell.execute_reply": "2025-08-05T20:51:15.681369Z"
    },
    "papermill": {
     "duration": 0.029421,
     "end_time": "2025-08-05T20:51:15.684042",
     "exception": false,
     "start_time": "2025-08-05T20:51:15.654621",
     "status": "completed"
    },
    "tags": []
   },
   "outputs": [],
   "source": [
    "# Miscoverage level for conformal prediction (10% allowed error rate => 90% target coverage)\n",
    "alpha = 0.1"
   ]
  },
  {
   "cell_type": "code",
   "execution_count": 37,
   "id": "eadf4555-3dd3-440e-8e35-f82a4ad9f855",
   "metadata": {
    "execution": {
     "iopub.execute_input": "2025-08-05T20:51:15.725375Z",
     "iopub.status.busy": "2025-08-05T20:51:15.724590Z",
     "iopub.status.idle": "2025-08-05T20:51:15.895309Z",
     "shell.execute_reply": "2025-08-05T20:51:15.894355Z"
    },
    "papermill": {
     "duration": 0.193423,
     "end_time": "2025-08-05T20:51:15.897156",
     "exception": false,
     "start_time": "2025-08-05T20:51:15.703733",
     "status": "completed"
    },
    "tags": []
   },
   "outputs": [],
   "source": [
    "probs_calib = model.predict_proba(X_calib)"
   ]
  },
  {
   "cell_type": "code",
   "execution_count": 38,
   "id": "2ed93547-6d5d-4983-9b36-1ecb300da49a",
   "metadata": {
    "execution": {
     "iopub.execute_input": "2025-08-05T20:51:15.935505Z",
     "iopub.status.busy": "2025-08-05T20:51:15.934702Z",
     "iopub.status.idle": "2025-08-05T20:51:15.940345Z",
     "shell.execute_reply": "2025-08-05T20:51:15.939356Z"
    },
    "papermill": {
     "duration": 0.026304,
     "end_time": "2025-08-05T20:51:15.942192",
     "exception": false,
     "start_time": "2025-08-05T20:51:15.915888",
     "status": "completed"
    },
    "tags": []
   },
   "outputs": [],
   "source": [
    "y_calib = y_calib.values.ravel().astype(int)"
   ]
  },
  {
   "cell_type": "code",
   "execution_count": 39,
   "id": "65d1320d-f588-4b38-9072-62af1ae97f7d",
   "metadata": {
    "execution": {
     "iopub.execute_input": "2025-08-05T20:51:15.987681Z",
     "iopub.status.busy": "2025-08-05T20:51:15.986911Z",
     "iopub.status.idle": "2025-08-05T20:51:15.994372Z",
     "shell.execute_reply": "2025-08-05T20:51:15.993415Z"
    },
    "papermill": {
     "duration": 0.030979,
     "end_time": "2025-08-05T20:51:15.996142",
     "exception": false,
     "start_time": "2025-08-05T20:51:15.965163",
     "status": "completed"
    },
    "tags": []
   },
   "outputs": [],
   "source": [
    "from fairness_multiverse.conformal import compute_nc_scores\n",
    "\n",
    "# Compute nonconformity scores on calibration set (1 - probability of true class)\n",
    "nc_scores = compute_nc_scores(probs_calib, y_calib)"
   ]
  },
  {
   "cell_type": "code",
   "execution_count": 40,
   "id": "df3b8ca3-53b7-43d5-9667-7c85da7aeda2",
   "metadata": {
    "execution": {
     "iopub.execute_input": "2025-08-05T20:51:16.038151Z",
     "iopub.status.busy": "2025-08-05T20:51:16.037373Z",
     "iopub.status.idle": "2025-08-05T20:51:16.043753Z",
     "shell.execute_reply": "2025-08-05T20:51:16.042840Z"
    },
    "papermill": {
     "duration": 0.028793,
     "end_time": "2025-08-05T20:51:16.045402",
     "exception": false,
     "start_time": "2025-08-05T20:51:16.016609",
     "status": "completed"
    },
    "tags": []
   },
   "outputs": [],
   "source": [
    "from fairness_multiverse.conformal import find_threshold\n",
    "\n",
    "# Find conformal threshold q_hat for the given alpha (split conformal method)\n",
    "q_hat = find_threshold(nc_scores, alpha)"
   ]
  },
  {
   "cell_type": "code",
   "execution_count": 41,
   "id": "4d29e6c1-0ef6-4aa4-b8fe-4fe79b0d033a",
   "metadata": {
    "execution": {
     "iopub.execute_input": "2025-08-05T20:51:16.086708Z",
     "iopub.status.busy": "2025-08-05T20:51:16.086233Z",
     "iopub.status.idle": "2025-08-05T20:51:16.093412Z",
     "shell.execute_reply": "2025-08-05T20:51:16.092454Z"
    },
    "papermill": {
     "duration": 0.030067,
     "end_time": "2025-08-05T20:51:16.095130",
     "exception": false,
     "start_time": "2025-08-05T20:51:16.065063",
     "status": "completed"
    },
    "tags": []
   },
   "outputs": [
    {
     "data": {
      "text/plain": [
       "0.6688203276196854"
      ]
     },
     "execution_count": 41,
     "metadata": {},
     "output_type": "execute_result"
    }
   ],
   "source": [
    "q_hat"
   ]
  },
  {
   "cell_type": "code",
   "execution_count": 42,
   "id": "92460794-cdac-4be2-ba28-f28c0515a6fb",
   "metadata": {
    "execution": {
     "iopub.execute_input": "2025-08-05T20:51:16.137053Z",
     "iopub.status.busy": "2025-08-05T20:51:16.136311Z",
     "iopub.status.idle": "2025-08-05T20:51:16.823641Z",
     "shell.execute_reply": "2025-08-05T20:51:16.822636Z"
    },
    "papermill": {
     "duration": 0.710166,
     "end_time": "2025-08-05T20:51:16.825540",
     "exception": false,
     "start_time": "2025-08-05T20:51:16.115374",
     "status": "completed"
    },
    "tags": []
   },
   "outputs": [],
   "source": [
    "from fairness_multiverse.conformal import predict_conformal_sets\n",
    "\n",
    "# Generate prediction sets for each test example\n",
    "pred_sets = predict_conformal_sets(model, X_test, q_hat)"
   ]
  },
  {
   "cell_type": "code",
   "execution_count": 43,
   "id": "d90c9a65-e6db-4f5d-80cd-e68fb7e46829",
   "metadata": {
    "execution": {
     "iopub.execute_input": "2025-08-05T20:51:16.871100Z",
     "iopub.status.busy": "2025-08-05T20:51:16.870477Z",
     "iopub.status.idle": "2025-08-05T20:51:16.877100Z",
     "shell.execute_reply": "2025-08-05T20:51:16.876036Z"
    },
    "papermill": {
     "duration": 0.031864,
     "end_time": "2025-08-05T20:51:16.878966",
     "exception": false,
     "start_time": "2025-08-05T20:51:16.847102",
     "status": "completed"
    },
    "tags": []
   },
   "outputs": [],
   "source": [
    "y_true = y_true.squeeze()"
   ]
  },
  {
   "cell_type": "code",
   "execution_count": 44,
   "id": "3a58a54a-1e68-46b9-927a-df01f18aebc8",
   "metadata": {
    "execution": {
     "iopub.execute_input": "2025-08-05T20:51:16.928904Z",
     "iopub.status.busy": "2025-08-05T20:51:16.928218Z",
     "iopub.status.idle": "2025-08-05T20:51:17.888602Z",
     "shell.execute_reply": "2025-08-05T20:51:17.887804Z"
    },
    "papermill": {
     "duration": 0.987982,
     "end_time": "2025-08-05T20:51:17.890625",
     "exception": false,
     "start_time": "2025-08-05T20:51:16.902643",
     "status": "completed"
    },
    "tags": []
   },
   "outputs": [],
   "source": [
    "from fairness_multiverse.conformal import evaluate_sets\n",
    "\n",
    "# Evaluate coverage and average set size on test data\n",
    "metrics = evaluate_sets(pred_sets, y_true)"
   ]
  },
  {
   "cell_type": "markdown",
   "id": "2b569c12-9aaa-4c88-98c9-bbcd0cf3ebb8",
   "metadata": {
    "papermill": {
     "duration": 0.011519,
     "end_time": "2025-08-05T20:51:17.943233",
     "exception": false,
     "start_time": "2025-08-05T20:51:17.931714",
     "status": "completed"
    },
    "tags": []
   },
   "source": [
    "# CP Metrics"
   ]
  },
  {
   "cell_type": "code",
   "execution_count": 45,
   "id": "5ce0a5cb-201f-45a0-ade5-94c7f0bd6095",
   "metadata": {
    "execution": {
     "iopub.execute_input": "2025-08-05T20:51:17.965756Z",
     "iopub.status.busy": "2025-08-05T20:51:17.965357Z",
     "iopub.status.idle": "2025-08-05T20:51:17.971901Z",
     "shell.execute_reply": "2025-08-05T20:51:17.971097Z"
    },
    "papermill": {
     "duration": 0.019712,
     "end_time": "2025-08-05T20:51:17.973511",
     "exception": false,
     "start_time": "2025-08-05T20:51:17.953799",
     "status": "completed"
    },
    "tags": []
   },
   "outputs": [
    {
     "data": {
      "text/plain": [
       "{'coverage': 0.9106454129974362, 'avg_size': 1.124969345669379}"
      ]
     },
     "execution_count": 45,
     "metadata": {},
     "output_type": "execute_result"
    }
   ],
   "source": [
    "metrics"
   ]
  },
  {
   "cell_type": "code",
   "execution_count": 46,
   "id": "9b9a838d-31c9-430b-ae14-12baee460d17",
   "metadata": {
    "execution": {
     "iopub.execute_input": "2025-08-05T20:51:17.997270Z",
     "iopub.status.busy": "2025-08-05T20:51:17.996558Z",
     "iopub.status.idle": "2025-08-05T20:51:18.002242Z",
     "shell.execute_reply": "2025-08-05T20:51:18.001394Z"
    },
    "papermill": {
     "duration": 0.018729,
     "end_time": "2025-08-05T20:51:18.003732",
     "exception": false,
     "start_time": "2025-08-05T20:51:17.985003",
     "status": "completed"
    },
    "tags": []
   },
   "outputs": [],
   "source": [
    "example_universe = universe.copy()\n",
    "universe_training_year = example_universe.get(\"training_year\")\n",
    "universe_training_size = example_universe.get(\"training_size\")\n",
    "universe_scale = example_universe.get(\"scale\")\n",
    "universe_model = example_universe.get(\"model\")\n",
    "universe_exclude_features = example_universe.get(\"exclude_features\")\n",
    "universe_exclude_subgroups = example_universe.get(\"exclude_subgroups\")"
   ]
  },
  {
   "cell_type": "code",
   "execution_count": 47,
   "id": "f4b6a8ac-9dc0-4245-8a91-5b3b5999c4f9",
   "metadata": {
    "execution": {
     "iopub.execute_input": "2025-08-05T20:51:18.027836Z",
     "iopub.status.busy": "2025-08-05T20:51:18.027134Z",
     "iopub.status.idle": "2025-08-05T20:51:18.032589Z",
     "shell.execute_reply": "2025-08-05T20:51:18.031789Z"
    },
    "papermill": {
     "duration": 0.018412,
     "end_time": "2025-08-05T20:51:18.034015",
     "exception": false,
     "start_time": "2025-08-05T20:51:18.015603",
     "status": "completed"
    },
    "tags": []
   },
   "outputs": [],
   "source": [
    "cp_metrics_dict = {\n",
    "    \"universe_id\": [universe_id],\n",
    "    \"universe_training_year\": [universe_training_year],\n",
    "    \"universe_training_size\": [universe_training_size],\n",
    "    \"universe_scale\": [universe_scale],\n",
    "    \"universe_model\": [universe_model],\n",
    "    \"universe_exclude_features\": [universe_exclude_features],\n",
    "    \"universe_exclude_subgroups\": [universe_exclude_subgroups],\n",
    "    \"q_hat\": [q_hat],\n",
    "    \"coverage\": [metrics[\"coverage\"]],\n",
    "    \"avg_size\": [metrics[\"avg_size\"]],\n",
    "}"
   ]
  },
  {
   "cell_type": "code",
   "execution_count": 48,
   "id": "908acbb1-0371-4915-85ca-3fa520d2efe2",
   "metadata": {
    "execution": {
     "iopub.execute_input": "2025-08-05T20:51:18.058384Z",
     "iopub.status.busy": "2025-08-05T20:51:18.057651Z",
     "iopub.status.idle": "2025-08-05T20:51:18.064290Z",
     "shell.execute_reply": "2025-08-05T20:51:18.063450Z"
    },
    "papermill": {
     "duration": 0.019776,
     "end_time": "2025-08-05T20:51:18.065796",
     "exception": false,
     "start_time": "2025-08-05T20:51:18.046020",
     "status": "completed"
    },
    "tags": []
   },
   "outputs": [
    {
     "data": {
      "text/plain": [
       "{'universe_id': ['a0cb5d4ca4192c7c974d6dd32fd7fdf3'],\n",
       " 'universe_training_year': ['2012_14'],\n",
       " 'universe_training_size': ['25k'],\n",
       " 'universe_scale': ['scale'],\n",
       " 'universe_model': ['penalized_logreg'],\n",
       " 'universe_exclude_features': ['age'],\n",
       " 'universe_exclude_subgroups': ['drop-non-german'],\n",
       " 'q_hat': [0.6688203276196854],\n",
       " 'coverage': [0.9106454129974362],\n",
       " 'avg_size': [1.124969345669379]}"
      ]
     },
     "execution_count": 48,
     "metadata": {},
     "output_type": "execute_result"
    }
   ],
   "source": [
    "cp_metrics_dict"
   ]
  },
  {
   "cell_type": "code",
   "execution_count": 49,
   "id": "33007efc-14e9-4ec6-97ac-56a455c82265",
   "metadata": {
    "execution": {
     "iopub.execute_input": "2025-08-05T20:51:18.089762Z",
     "iopub.status.busy": "2025-08-05T20:51:18.089027Z",
     "iopub.status.idle": "2025-08-05T20:51:18.094791Z",
     "shell.execute_reply": "2025-08-05T20:51:18.093914Z"
    },
    "papermill": {
     "duration": 0.018631,
     "end_time": "2025-08-05T20:51:18.096215",
     "exception": false,
     "start_time": "2025-08-05T20:51:18.077584",
     "status": "completed"
    },
    "tags": []
   },
   "outputs": [],
   "source": [
    "cp_metrics_df = pd.DataFrame(cp_metrics_dict)"
   ]
  },
  {
   "cell_type": "code",
   "execution_count": 50,
   "id": "db12611b-57b2-4910-b9d0-355adfd6e7bf",
   "metadata": {
    "execution": {
     "iopub.execute_input": "2025-08-05T20:51:18.119853Z",
     "iopub.status.busy": "2025-08-05T20:51:18.119312Z",
     "iopub.status.idle": "2025-08-05T20:51:18.133673Z",
     "shell.execute_reply": "2025-08-05T20:51:18.132877Z"
    },
    "papermill": {
     "duration": 0.027156,
     "end_time": "2025-08-05T20:51:18.135142",
     "exception": false,
     "start_time": "2025-08-05T20:51:18.107986",
     "status": "completed"
    },
    "tags": []
   },
   "outputs": [
    {
     "data": {
      "text/html": [
       "<div>\n",
       "<style scoped>\n",
       "    .dataframe tbody tr th:only-of-type {\n",
       "        vertical-align: middle;\n",
       "    }\n",
       "\n",
       "    .dataframe tbody tr th {\n",
       "        vertical-align: top;\n",
       "    }\n",
       "\n",
       "    .dataframe thead th {\n",
       "        text-align: right;\n",
       "    }\n",
       "</style>\n",
       "<table border=\"1\" class=\"dataframe\">\n",
       "  <thead>\n",
       "    <tr style=\"text-align: right;\">\n",
       "      <th></th>\n",
       "      <th>universe_id</th>\n",
       "      <th>universe_training_year</th>\n",
       "      <th>universe_training_size</th>\n",
       "      <th>universe_scale</th>\n",
       "      <th>universe_model</th>\n",
       "      <th>universe_exclude_features</th>\n",
       "      <th>universe_exclude_subgroups</th>\n",
       "      <th>q_hat</th>\n",
       "      <th>coverage</th>\n",
       "      <th>avg_size</th>\n",
       "    </tr>\n",
       "  </thead>\n",
       "  <tbody>\n",
       "    <tr>\n",
       "      <th>0</th>\n",
       "      <td>a0cb5d4ca4192c7c974d6dd32fd7fdf3</td>\n",
       "      <td>2012_14</td>\n",
       "      <td>25k</td>\n",
       "      <td>scale</td>\n",
       "      <td>penalized_logreg</td>\n",
       "      <td>age</td>\n",
       "      <td>drop-non-german</td>\n",
       "      <td>0.66882</td>\n",
       "      <td>0.910645</td>\n",
       "      <td>1.124969</td>\n",
       "    </tr>\n",
       "  </tbody>\n",
       "</table>\n",
       "</div>"
      ],
      "text/plain": [
       "                        universe_id universe_training_year  \\\n",
       "0  a0cb5d4ca4192c7c974d6dd32fd7fdf3                2012_14   \n",
       "\n",
       "  universe_training_size universe_scale    universe_model  \\\n",
       "0                    25k          scale  penalized_logreg   \n",
       "\n",
       "  universe_exclude_features universe_exclude_subgroups    q_hat  coverage  \\\n",
       "0                       age            drop-non-german  0.66882  0.910645   \n",
       "\n",
       "   avg_size  \n",
       "0  1.124969  "
      ]
     },
     "execution_count": 50,
     "metadata": {},
     "output_type": "execute_result"
    }
   ],
   "source": [
    "cp_metrics_df"
   ]
  },
  {
   "cell_type": "code",
   "execution_count": 51,
   "id": "b7fbde55-a0a1-47e4-9af6-fe4a17fa8c61",
   "metadata": {
    "execution": {
     "iopub.execute_input": "2025-08-05T20:51:18.159266Z",
     "iopub.status.busy": "2025-08-05T20:51:18.158568Z",
     "iopub.status.idle": "2025-08-05T20:51:18.163107Z",
     "shell.execute_reply": "2025-08-05T20:51:18.162324Z"
    },
    "papermill": {
     "duration": 0.017765,
     "end_time": "2025-08-05T20:51:18.164606",
     "exception": false,
     "start_time": "2025-08-05T20:51:18.146841",
     "status": "completed"
    },
    "tags": []
   },
   "outputs": [],
   "source": [
    "# Conditional Coverage & looking at subgroups"
   ]
  },
  {
   "cell_type": "code",
   "execution_count": 52,
   "id": "027ae886-68dd-4141-96c7-805a5450e1ef",
   "metadata": {
    "execution": {
     "iopub.execute_input": "2025-08-05T20:51:18.188901Z",
     "iopub.status.busy": "2025-08-05T20:51:18.188218Z",
     "iopub.status.idle": "2025-08-05T20:51:18.359002Z",
     "shell.execute_reply": "2025-08-05T20:51:18.358207Z"
    },
    "papermill": {
     "duration": 0.184595,
     "end_time": "2025-08-05T20:51:18.361006",
     "exception": false,
     "start_time": "2025-08-05T20:51:18.176411",
     "status": "completed"
    },
    "tags": []
   },
   "outputs": [],
   "source": [
    "from fairness_multiverse.conformal import build_cp_groups\n",
    "\n",
    "cp_groups_df = build_cp_groups(pred_sets, y_true, X_test.index, org_test)\n",
    "#needs universe_id and setting"
   ]
  },
  {
   "cell_type": "code",
   "execution_count": 53,
   "id": "6cbdab96-b2b2-45af-ad54-d0516db2e28d",
   "metadata": {
    "execution": {
     "iopub.execute_input": "2025-08-05T20:51:18.409524Z",
     "iopub.status.busy": "2025-08-05T20:51:18.409058Z",
     "iopub.status.idle": "2025-08-05T20:51:19.899252Z",
     "shell.execute_reply": "2025-08-05T20:51:19.898470Z"
    },
    "papermill": {
     "duration": 1.51565,
     "end_time": "2025-08-05T20:51:19.900757",
     "exception": false,
     "start_time": "2025-08-05T20:51:18.385107",
     "status": "completed"
    },
    "tags": []
   },
   "outputs": [],
   "source": [
    "# Define covered = 1 if true_label is in the predicted set\n",
    "cp_groups_df['covered'] = cp_groups_df.apply(\n",
    "    lambda r: int(r['true_label'] in r['pred_set']),\n",
    "    axis=1\n",
    ")"
   ]
  },
  {
   "cell_type": "code",
   "execution_count": 54,
   "id": "338ff529-1a6b-4b87-a931-8e4788d52aad",
   "metadata": {
    "execution": {
     "iopub.execute_input": "2025-08-05T20:51:19.930264Z",
     "iopub.status.busy": "2025-08-05T20:51:19.929789Z",
     "iopub.status.idle": "2025-08-05T20:51:19.934934Z",
     "shell.execute_reply": "2025-08-05T20:51:19.933925Z"
    },
    "papermill": {
     "duration": 0.021975,
     "end_time": "2025-08-05T20:51:19.936750",
     "exception": false,
     "start_time": "2025-08-05T20:51:19.914775",
     "status": "completed"
    },
    "tags": []
   },
   "outputs": [],
   "source": [
    "#cp_groups_df"
   ]
  },
  {
   "cell_type": "code",
   "execution_count": 55,
   "id": "90032e27-66df-4540-9169-4e89cfbaa758",
   "metadata": {
    "execution": {
     "iopub.execute_input": "2025-08-05T20:51:19.977437Z",
     "iopub.status.busy": "2025-08-05T20:51:19.977113Z",
     "iopub.status.idle": "2025-08-05T20:51:19.988993Z",
     "shell.execute_reply": "2025-08-05T20:51:19.988075Z"
    },
    "papermill": {
     "duration": 0.029628,
     "end_time": "2025-08-05T20:51:19.990738",
     "exception": false,
     "start_time": "2025-08-05T20:51:19.961110",
     "status": "completed"
    },
    "tags": []
   },
   "outputs": [],
   "source": [
    "subgroups = ['frau1','nongerman','nongerman_male','nongerman_female']\n",
    "\n",
    "# Conditional coverage for subgroup==1\n",
    "cond_coverage = {\n",
    "    g: cp_groups_df.loc[cp_groups_df[g]==1, 'covered'].mean()\n",
    "    for g in subgroups\n",
    "}"
   ]
  },
  {
   "cell_type": "code",
   "execution_count": 56,
   "id": "1e348fb1-b9c3-45bc-ba23-f016827a7e0d",
   "metadata": {
    "execution": {
     "iopub.execute_input": "2025-08-05T20:51:20.024519Z",
     "iopub.status.busy": "2025-08-05T20:51:20.023992Z",
     "iopub.status.idle": "2025-08-05T20:51:20.030614Z",
     "shell.execute_reply": "2025-08-05T20:51:20.029772Z"
    },
    "papermill": {
     "duration": 0.020675,
     "end_time": "2025-08-05T20:51:20.032202",
     "exception": false,
     "start_time": "2025-08-05T20:51:20.011527",
     "status": "completed"
    },
    "tags": []
   },
   "outputs": [
    {
     "data": {
      "text/plain": [
       "{'frau1': 0.9075886238037472,\n",
       " 'nongerman': 0.9061359681131758,\n",
       " 'nongerman_male': 0.9244348374313248,\n",
       " 'nongerman_female': 0.8758569299552906}"
      ]
     },
     "execution_count": 56,
     "metadata": {},
     "output_type": "execute_result"
    }
   ],
   "source": [
    "cond_coverage"
   ]
  },
  {
   "cell_type": "code",
   "execution_count": 57,
   "id": "f5093324-c3dd-4d63-bc4c-8d945e5c8bbb",
   "metadata": {
    "execution": {
     "iopub.execute_input": "2025-08-05T20:51:20.056403Z",
     "iopub.status.busy": "2025-08-05T20:51:20.055901Z",
     "iopub.status.idle": "2025-08-05T20:51:20.062263Z",
     "shell.execute_reply": "2025-08-05T20:51:20.061326Z"
    },
    "papermill": {
     "duration": 0.01963,
     "end_time": "2025-08-05T20:51:20.063745",
     "exception": false,
     "start_time": "2025-08-05T20:51:20.044115",
     "status": "completed"
    },
    "tags": []
   },
   "outputs": [],
   "source": [
    "for subgroup, cov in cond_coverage.items():\n",
    "    cp_metrics_df[f\"cov_{subgroup}\"] = cov"
   ]
  },
  {
   "cell_type": "code",
   "execution_count": 58,
   "id": "6e872e10-dbe5-49e8-b554-5030c98ff75d",
   "metadata": {
    "execution": {
     "iopub.execute_input": "2025-08-05T20:51:20.088301Z",
     "iopub.status.busy": "2025-08-05T20:51:20.087927Z",
     "iopub.status.idle": "2025-08-05T20:51:20.105783Z",
     "shell.execute_reply": "2025-08-05T20:51:20.104945Z"
    },
    "papermill": {
     "duration": 0.031478,
     "end_time": "2025-08-05T20:51:20.107319",
     "exception": false,
     "start_time": "2025-08-05T20:51:20.075841",
     "status": "completed"
    },
    "tags": []
   },
   "outputs": [
    {
     "data": {
      "text/html": [
       "<div>\n",
       "<style scoped>\n",
       "    .dataframe tbody tr th:only-of-type {\n",
       "        vertical-align: middle;\n",
       "    }\n",
       "\n",
       "    .dataframe tbody tr th {\n",
       "        vertical-align: top;\n",
       "    }\n",
       "\n",
       "    .dataframe thead th {\n",
       "        text-align: right;\n",
       "    }\n",
       "</style>\n",
       "<table border=\"1\" class=\"dataframe\">\n",
       "  <thead>\n",
       "    <tr style=\"text-align: right;\">\n",
       "      <th></th>\n",
       "      <th>universe_id</th>\n",
       "      <th>universe_training_year</th>\n",
       "      <th>universe_training_size</th>\n",
       "      <th>universe_scale</th>\n",
       "      <th>universe_model</th>\n",
       "      <th>universe_exclude_features</th>\n",
       "      <th>universe_exclude_subgroups</th>\n",
       "      <th>q_hat</th>\n",
       "      <th>coverage</th>\n",
       "      <th>avg_size</th>\n",
       "      <th>cov_frau1</th>\n",
       "      <th>cov_nongerman</th>\n",
       "      <th>cov_nongerman_male</th>\n",
       "      <th>cov_nongerman_female</th>\n",
       "    </tr>\n",
       "  </thead>\n",
       "  <tbody>\n",
       "    <tr>\n",
       "      <th>0</th>\n",
       "      <td>a0cb5d4ca4192c7c974d6dd32fd7fdf3</td>\n",
       "      <td>2012_14</td>\n",
       "      <td>25k</td>\n",
       "      <td>scale</td>\n",
       "      <td>penalized_logreg</td>\n",
       "      <td>age</td>\n",
       "      <td>drop-non-german</td>\n",
       "      <td>0.66882</td>\n",
       "      <td>0.910645</td>\n",
       "      <td>1.124969</td>\n",
       "      <td>0.907589</td>\n",
       "      <td>0.906136</td>\n",
       "      <td>0.924435</td>\n",
       "      <td>0.875857</td>\n",
       "    </tr>\n",
       "  </tbody>\n",
       "</table>\n",
       "</div>"
      ],
      "text/plain": [
       "                        universe_id universe_training_year  \\\n",
       "0  a0cb5d4ca4192c7c974d6dd32fd7fdf3                2012_14   \n",
       "\n",
       "  universe_training_size universe_scale    universe_model  \\\n",
       "0                    25k          scale  penalized_logreg   \n",
       "\n",
       "  universe_exclude_features universe_exclude_subgroups    q_hat  coverage  \\\n",
       "0                       age            drop-non-german  0.66882  0.910645   \n",
       "\n",
       "   avg_size  cov_frau1  cov_nongerman  cov_nongerman_male  \\\n",
       "0  1.124969   0.907589       0.906136            0.924435   \n",
       "\n",
       "   cov_nongerman_female  \n",
       "0              0.875857  "
      ]
     },
     "execution_count": 58,
     "metadata": {},
     "output_type": "execute_result"
    }
   ],
   "source": [
    "cp_metrics_df"
   ]
  },
  {
   "cell_type": "markdown",
   "id": "33774451",
   "metadata": {
    "papermill": {
     "duration": 0.022033,
     "end_time": "2025-08-05T20:51:20.142352",
     "exception": false,
     "start_time": "2025-08-05T20:51:20.120319",
     "status": "completed"
    },
    "tags": []
   },
   "source": [
    "# (Fairness) Metrics"
   ]
  },
  {
   "cell_type": "code",
   "execution_count": 59,
   "id": "debc5d62",
   "metadata": {
    "execution": {
     "iopub.execute_input": "2025-08-05T20:51:20.190162Z",
     "iopub.status.busy": "2025-08-05T20:51:20.189738Z",
     "iopub.status.idle": "2025-08-05T20:51:20.210767Z",
     "shell.execute_reply": "2025-08-05T20:51:20.209730Z"
    },
    "papermill": {
     "duration": 0.04885,
     "end_time": "2025-08-05T20:51:20.212768",
     "exception": false,
     "start_time": "2025-08-05T20:51:20.163918",
     "status": "completed"
    },
    "tags": []
   },
   "outputs": [],
   "source": [
    "# do I need to include maxdeutsch1.missing?\n",
    "\n",
    "import numpy as np\n",
    "\n",
    "colname_to_bin = \"maxdeutsch1\"\n",
    "majority_value = org_train[colname_to_bin].mode()[0]\n",
    "\n",
    "org_test[\"majmin\"] = np.where(org_test[colname_to_bin] == majority_value, \"majority\", \"minority\")"
   ]
  },
  {
   "cell_type": "code",
   "execution_count": 60,
   "id": "06a50de5",
   "metadata": {
    "execution": {
     "iopub.execute_input": "2025-08-05T20:51:20.270449Z",
     "iopub.status.busy": "2025-08-05T20:51:20.269782Z",
     "iopub.status.idle": "2025-08-05T20:51:21.891494Z",
     "shell.execute_reply": "2025-08-05T20:51:21.890705Z"
    },
    "papermill": {
     "duration": 1.654387,
     "end_time": "2025-08-05T20:51:21.893236",
     "exception": false,
     "start_time": "2025-08-05T20:51:20.238849",
     "status": "completed"
    },
    "tags": []
   },
   "outputs": [],
   "source": [
    "example_universe = universe.copy()\n",
    "example_universe[\"cutoff\"] = example_universe[\"cutoff\"][0]\n",
    "example_universe[\"eval_fairness_grouping\"] = example_universe[\"eval_fairness_grouping\"][0]\n",
    "fairness_dict, metric_frame = universe_analysis.compute_metrics(\n",
    "    example_universe,\n",
    "    y_pred_prob=probs_test,\n",
    "    y_test=y_true,\n",
    "    org_test=org_test,\n",
    ")"
   ]
  },
  {
   "cell_type": "markdown",
   "id": "f95d4e02",
   "metadata": {
    "papermill": {
     "duration": 0.011522,
     "end_time": "2025-08-05T20:51:21.917582",
     "exception": false,
     "start_time": "2025-08-05T20:51:21.906060",
     "status": "completed"
    },
    "tags": []
   },
   "source": [
    "# Overall"
   ]
  },
  {
   "cell_type": "markdown",
   "id": "bdee4871",
   "metadata": {
    "papermill": {
     "duration": 0.015045,
     "end_time": "2025-08-05T20:51:21.943936",
     "exception": false,
     "start_time": "2025-08-05T20:51:21.928891",
     "status": "completed"
    },
    "tags": []
   },
   "source": [
    "Fairness\n",
    "Main fairness target: Equalized Odds. Seems to be a better fit than equal opportunity, since we're not only interested in Y = 1. Seems to be a better fit than demographic parity, since we also care about accuracy, not just equal distribution of preds.\n",
    "\n",
    "Pick column for computation of fairness metrics\n",
    "\n",
    "Performance\n",
    "Overall performance measures, most interesting in relation to the measures split by group below"
   ]
  },
  {
   "cell_type": "code",
   "execution_count": 61,
   "id": "c4e067c6",
   "metadata": {
    "execution": {
     "iopub.execute_input": "2025-08-05T20:51:21.995200Z",
     "iopub.status.busy": "2025-08-05T20:51:21.994739Z",
     "iopub.status.idle": "2025-08-05T20:51:22.003783Z",
     "shell.execute_reply": "2025-08-05T20:51:22.002638Z"
    },
    "papermill": {
     "duration": 0.036976,
     "end_time": "2025-08-05T20:51:22.005855",
     "exception": false,
     "start_time": "2025-08-05T20:51:21.968879",
     "status": "completed"
    },
    "tags": []
   },
   "outputs": [
    {
     "data": {
      "text/plain": [
       "accuracy                   0.224980\n",
       "balanced accuracy          0.549981\n",
       "f1                         0.246295\n",
       "precision                  0.140700\n",
       "false positive rate        0.887177\n",
       "false negative rate        0.012861\n",
       "selection rate             0.900000\n",
       "count                  89710.000000\n",
       "dtype: float64"
      ]
     },
     "execution_count": 61,
     "metadata": {},
     "output_type": "execute_result"
    }
   ],
   "source": [
    "metric_frame.overall"
   ]
  },
  {
   "cell_type": "markdown",
   "id": "e968fe9d",
   "metadata": {
    "papermill": {
     "duration": 0.025652,
     "end_time": "2025-08-05T20:51:22.053482",
     "exception": false,
     "start_time": "2025-08-05T20:51:22.027830",
     "status": "completed"
    },
    "tags": []
   },
   "source": [
    "By Group"
   ]
  },
  {
   "cell_type": "code",
   "execution_count": 62,
   "id": "ec325bce",
   "metadata": {
    "execution": {
     "iopub.execute_input": "2025-08-05T20:51:22.105075Z",
     "iopub.status.busy": "2025-08-05T20:51:22.103992Z",
     "iopub.status.idle": "2025-08-05T20:51:22.125109Z",
     "shell.execute_reply": "2025-08-05T20:51:22.124048Z"
    },
    "papermill": {
     "duration": 0.049424,
     "end_time": "2025-08-05T20:51:22.127532",
     "exception": false,
     "start_time": "2025-08-05T20:51:22.078108",
     "status": "completed"
    },
    "tags": []
   },
   "outputs": [
    {
     "data": {
      "text/html": [
       "<div>\n",
       "<style scoped>\n",
       "    .dataframe tbody tr th:only-of-type {\n",
       "        vertical-align: middle;\n",
       "    }\n",
       "\n",
       "    .dataframe tbody tr th {\n",
       "        vertical-align: top;\n",
       "    }\n",
       "\n",
       "    .dataframe thead th {\n",
       "        text-align: right;\n",
       "    }\n",
       "</style>\n",
       "<table border=\"1\" class=\"dataframe\">\n",
       "  <thead>\n",
       "    <tr style=\"text-align: right;\">\n",
       "      <th></th>\n",
       "      <th>accuracy</th>\n",
       "      <th>balanced accuracy</th>\n",
       "      <th>f1</th>\n",
       "      <th>precision</th>\n",
       "      <th>false positive rate</th>\n",
       "      <th>false negative rate</th>\n",
       "      <th>selection rate</th>\n",
       "      <th>count</th>\n",
       "    </tr>\n",
       "    <tr>\n",
       "      <th>majmin</th>\n",
       "      <th></th>\n",
       "      <th></th>\n",
       "      <th></th>\n",
       "      <th></th>\n",
       "      <th></th>\n",
       "      <th></th>\n",
       "      <th></th>\n",
       "      <th></th>\n",
       "    </tr>\n",
       "  </thead>\n",
       "  <tbody>\n",
       "    <tr>\n",
       "      <th>majority</th>\n",
       "      <td>0.244962</td>\n",
       "      <td>0.559158</td>\n",
       "      <td>0.256612</td>\n",
       "      <td>0.147495</td>\n",
       "      <td>0.867899</td>\n",
       "      <td>0.013786</td>\n",
       "      <td>0.883533</td>\n",
       "      <td>69170.0</td>\n",
       "    </tr>\n",
       "    <tr>\n",
       "      <th>minority</th>\n",
       "      <td>0.157692</td>\n",
       "      <td>0.519925</td>\n",
       "      <td>0.213341</td>\n",
       "      <td>0.119541</td>\n",
       "      <td>0.950858</td>\n",
       "      <td>0.009291</td>\n",
       "      <td>0.955453</td>\n",
       "      <td>20540.0</td>\n",
       "    </tr>\n",
       "  </tbody>\n",
       "</table>\n",
       "</div>"
      ],
      "text/plain": [
       "          accuracy  balanced accuracy        f1  precision  \\\n",
       "majmin                                                       \n",
       "majority  0.244962           0.559158  0.256612   0.147495   \n",
       "minority  0.157692           0.519925  0.213341   0.119541   \n",
       "\n",
       "          false positive rate  false negative rate  selection rate    count  \n",
       "majmin                                                                       \n",
       "majority             0.867899             0.013786        0.883533  69170.0  \n",
       "minority             0.950858             0.009291        0.955453  20540.0  "
      ]
     },
     "execution_count": 62,
     "metadata": {},
     "output_type": "execute_result"
    }
   ],
   "source": [
    "metric_frame.by_group"
   ]
  },
  {
   "cell_type": "code",
   "execution_count": 63,
   "id": "a9ddbe63",
   "metadata": {
    "execution": {
     "iopub.execute_input": "2025-08-05T20:51:22.192504Z",
     "iopub.status.busy": "2025-08-05T20:51:22.192146Z",
     "iopub.status.idle": "2025-08-05T20:51:24.491149Z",
     "shell.execute_reply": "2025-08-05T20:51:24.490384Z"
    },
    "papermill": {
     "duration": 2.331735,
     "end_time": "2025-08-05T20:51:24.492680",
     "exception": false,
     "start_time": "2025-08-05T20:51:22.160945",
     "status": "completed"
    },
    "tags": []
   },
   "outputs": [
    {
     "data": {
      "text/plain": [
       "array([[<Axes: title={'center': 'accuracy'}, xlabel='majmin'>,\n",
       "        <Axes: title={'center': 'balanced accuracy'}, xlabel='majmin'>,\n",
       "        <Axes: title={'center': 'f1'}, xlabel='majmin'>],\n",
       "       [<Axes: title={'center': 'precision'}, xlabel='majmin'>,\n",
       "        <Axes: title={'center': 'false positive rate'}, xlabel='majmin'>,\n",
       "        <Axes: title={'center': 'false negative rate'}, xlabel='majmin'>],\n",
       "       [<Axes: title={'center': 'selection rate'}, xlabel='majmin'>,\n",
       "        <Axes: title={'center': 'count'}, xlabel='majmin'>,\n",
       "        <Axes: xlabel='majmin'>]], dtype=object)"
      ]
     },
     "execution_count": 63,
     "metadata": {},
     "output_type": "execute_result"
    },
    {
     "data": {
      "image/png": "[encoded data removed]",
      "text/plain": [
       "<Figure size 1200x800 with 9 Axes>"
      ]
     },
     "metadata": {},
     "output_type": "display_data"
    }
   ],
   "source": [
    "# In a graphic\n",
    "metric_frame.by_group.plot.bar(\n",
    "    subplots=True,\n",
    "    layout=[3, 3],\n",
    "    legend=False,\n",
    "    figsize=[12, 8],\n",
    "    title=\"Show all metrics\",\n",
    ")"
   ]
  },
  {
   "cell_type": "markdown",
   "id": "f57a0bac",
   "metadata": {
    "papermill": {
     "duration": 0.023201,
     "end_time": "2025-08-05T20:51:24.541270",
     "exception": false,
     "start_time": "2025-08-05T20:51:24.518069",
     "status": "completed"
    },
    "tags": []
   },
   "source": [
    "# Final Output"
   ]
  },
  {
   "cell_type": "code",
   "execution_count": 64,
   "id": "96d280a3",
   "metadata": {
    "execution": {
     "iopub.execute_input": "2025-08-05T20:51:24.591544Z",
     "iopub.status.busy": "2025-08-05T20:51:24.590878Z",
     "iopub.status.idle": "2025-08-05T20:51:24.599434Z",
     "shell.execute_reply": "2025-08-05T20:51:24.598338Z"
    },
    "papermill": {
     "duration": 0.035111,
     "end_time": "2025-08-05T20:51:24.600897",
     "exception": false,
     "start_time": "2025-08-05T20:51:24.565786",
     "status": "completed"
    },
    "tags": []
   },
   "outputs": [
    {
     "data": {
      "text/plain": [
       "4"
      ]
     },
     "execution_count": 64,
     "metadata": {},
     "output_type": "execute_result"
    }
   ],
   "source": [
    "sub_universes = universe_analysis.generate_sub_universes()\n",
    "len(sub_universes)"
   ]
  },
  {
   "cell_type": "code",
   "execution_count": 65,
   "id": "92adf7ba",
   "metadata": {
    "execution": {
     "iopub.execute_input": "2025-08-05T20:51:24.653261Z",
     "iopub.status.busy": "2025-08-05T20:51:24.652396Z",
     "iopub.status.idle": "2025-08-05T20:51:24.658740Z",
     "shell.execute_reply": "2025-08-05T20:51:24.657682Z"
    },
    "papermill": {
     "duration": 0.034707,
     "end_time": "2025-08-05T20:51:24.660707",
     "exception": false,
     "start_time": "2025-08-05T20:51:24.626000",
     "status": "completed"
    },
    "tags": []
   },
   "outputs": [],
   "source": [
    "def filter_sub_universe_data(sub_universe, org_test):\n",
    "    # Keep all rows — no filtering\n",
    "    keep_rows_mask = np.ones(org_test.shape[0], dtype=bool)\n",
    "\n",
    "    print(f\"[INFO] Keeping all rows: {keep_rows_mask.sum()} rows retained.\")\n",
    "    return keep_rows_mask"
   ]
  },
  {
   "cell_type": "code",
   "execution_count": 66,
   "id": "4a759155",
   "metadata": {
    "execution": {
     "iopub.execute_input": "2025-08-05T20:51:24.719906Z",
     "iopub.status.busy": "2025-08-05T20:51:24.718939Z",
     "iopub.status.idle": "2025-08-05T20:51:35.414438Z",
     "shell.execute_reply": "2025-08-05T20:51:35.412977Z"
    },
    "papermill": {
     "duration": 10.726715,
     "end_time": "2025-08-05T20:51:35.416152",
     "exception": false,
     "start_time": "2025-08-05T20:51:24.689437",
     "status": "completed"
    },
    "tags": []
   },
   "outputs": [
    {
     "name": "stdout",
     "output_type": "stream",
     "text": [
      "Stopping execution_time clock.\n",
      "[INFO] Keeping all rows: 89710 rows retained.\n"
     ]
    },
    {
     "name": "stdout",
     "output_type": "stream",
     "text": [
      "[INFO] Keeping all rows: 89710 rows retained.\n"
     ]
    },
    {
     "name": "stdout",
     "output_type": "stream",
     "text": [
      "[INFO] Keeping all rows: 89710 rows retained.\n"
     ]
    },
    {
     "name": "stdout",
     "output_type": "stream",
     "text": [
      "[INFO] Keeping all rows: 89710 rows retained.\n"
     ]
    },
    {
     "data": {
      "text/html": [
       "<div>\n",
       "<style scoped>\n",
       "    .dataframe tbody tr th:only-of-type {\n",
       "        vertical-align: middle;\n",
       "    }\n",
       "\n",
       "    .dataframe tbody tr th {\n",
       "        vertical-align: top;\n",
       "    }\n",
       "\n",
       "    .dataframe thead th {\n",
       "        text-align: right;\n",
       "    }\n",
       "</style>\n",
       "<table border=\"1\" class=\"dataframe\">\n",
       "  <thead>\n",
       "    <tr style=\"text-align: right;\">\n",
       "      <th></th>\n",
       "      <th>run_no</th>\n",
       "      <th>universe_id</th>\n",
       "      <th>universe_settings</th>\n",
       "      <th>execution_time</th>\n",
       "      <th>test_size_n</th>\n",
       "      <th>test_size_frac</th>\n",
       "      <th>fair_main_equalized_odds_difference</th>\n",
       "      <th>fair_main_equalized_odds_ratio</th>\n",
       "      <th>fair_main_demographic_parity_difference</th>\n",
       "      <th>fair_main_demographic_parity_ratio</th>\n",
       "      <th>...</th>\n",
       "      <th>perf_grp_precision_0</th>\n",
       "      <th>perf_grp_precision_1</th>\n",
       "      <th>perf_grp_false positive rate_0</th>\n",
       "      <th>perf_grp_false positive rate_1</th>\n",
       "      <th>perf_grp_false negative rate_0</th>\n",
       "      <th>perf_grp_false negative rate_1</th>\n",
       "      <th>perf_grp_selection rate_0</th>\n",
       "      <th>perf_grp_selection rate_1</th>\n",
       "      <th>perf_grp_count_0</th>\n",
       "      <th>perf_grp_count_1</th>\n",
       "    </tr>\n",
       "  </thead>\n",
       "  <tbody>\n",
       "    <tr>\n",
       "      <th>0</th>\n",
       "      <td>16</td>\n",
       "      <td>a0cb5d4ca4192c7c974d6dd32fd7fdf3</td>\n",
       "      <td>{\"cutoff\": \"quantile_0.1\", \"eval_fairness_grou...</td>\n",
       "      <td>24.343896</td>\n",
       "      <td>89710</td>\n",
       "      <td>1.0</td>\n",
       "      <td>0.082959</td>\n",
       "      <td>0.912753</td>\n",
       "      <td>0.071919</td>\n",
       "      <td>0.924727</td>\n",
       "      <td>...</td>\n",
       "      <td>NaN</td>\n",
       "      <td>NaN</td>\n",
       "      <td>NaN</td>\n",
       "      <td>NaN</td>\n",
       "      <td>NaN</td>\n",
       "      <td>NaN</td>\n",
       "      <td>NaN</td>\n",
       "      <td>NaN</td>\n",
       "      <td>NaN</td>\n",
       "      <td>NaN</td>\n",
       "    </tr>\n",
       "    <tr>\n",
       "      <th>0</th>\n",
       "      <td>16</td>\n",
       "      <td>a0cb5d4ca4192c7c974d6dd32fd7fdf3</td>\n",
       "      <td>{\"cutoff\": \"quantile_0.1\", \"eval_fairness_grou...</td>\n",
       "      <td>24.343896</td>\n",
       "      <td>89710</td>\n",
       "      <td>1.0</td>\n",
       "      <td>0.082959</td>\n",
       "      <td>0.912753</td>\n",
       "      <td>0.071919</td>\n",
       "      <td>0.924727</td>\n",
       "      <td>...</td>\n",
       "      <td>0.119541</td>\n",
       "      <td>0.147495</td>\n",
       "      <td>0.950858</td>\n",
       "      <td>0.867899</td>\n",
       "      <td>0.009291</td>\n",
       "      <td>0.013786</td>\n",
       "      <td>0.955453</td>\n",
       "      <td>0.883533</td>\n",
       "      <td>20540.0</td>\n",
       "      <td>69170.0</td>\n",
       "    </tr>\n",
       "    <tr>\n",
       "      <th>0</th>\n",
       "      <td>16</td>\n",
       "      <td>a0cb5d4ca4192c7c974d6dd32fd7fdf3</td>\n",
       "      <td>{\"cutoff\": \"quantile_0.25\", \"eval_fairness_gro...</td>\n",
       "      <td>24.343896</td>\n",
       "      <td>89710</td>\n",
       "      <td>1.0</td>\n",
       "      <td>0.141522</td>\n",
       "      <td>0.829415</td>\n",
       "      <td>0.121430</td>\n",
       "      <td>0.856061</td>\n",
       "      <td>...</td>\n",
       "      <td>NaN</td>\n",
       "      <td>NaN</td>\n",
       "      <td>NaN</td>\n",
       "      <td>NaN</td>\n",
       "      <td>NaN</td>\n",
       "      <td>NaN</td>\n",
       "      <td>NaN</td>\n",
       "      <td>NaN</td>\n",
       "      <td>NaN</td>\n",
       "      <td>NaN</td>\n",
       "    </tr>\n",
       "    <tr>\n",
       "      <th>0</th>\n",
       "      <td>16</td>\n",
       "      <td>a0cb5d4ca4192c7c974d6dd32fd7fdf3</td>\n",
       "      <td>{\"cutoff\": \"quantile_0.25\", \"eval_fairness_gro...</td>\n",
       "      <td>24.343896</td>\n",
       "      <td>89710</td>\n",
       "      <td>1.0</td>\n",
       "      <td>0.141522</td>\n",
       "      <td>0.829415</td>\n",
       "      <td>0.121430</td>\n",
       "      <td>0.856061</td>\n",
       "      <td>...</td>\n",
       "      <td>0.129963</td>\n",
       "      <td>0.173099</td>\n",
       "      <td>0.829628</td>\n",
       "      <td>0.688106</td>\n",
       "      <td>0.048986</td>\n",
       "      <td>0.053939</td>\n",
       "      <td>0.843622</td>\n",
       "      <td>0.722192</td>\n",
       "      <td>20540.0</td>\n",
       "      <td>69170.0</td>\n",
       "    </tr>\n",
       "  </tbody>\n",
       "</table>\n",
       "<p>4 rows × 50 columns</p>\n",
       "</div>"
      ],
      "text/plain": [
       "  run_no                       universe_id  \\\n",
       "0     16  a0cb5d4ca4192c7c974d6dd32fd7fdf3   \n",
       "0     16  a0cb5d4ca4192c7c974d6dd32fd7fdf3   \n",
       "0     16  a0cb5d4ca4192c7c974d6dd32fd7fdf3   \n",
       "0     16  a0cb5d4ca4192c7c974d6dd32fd7fdf3   \n",
       "\n",
       "                                   universe_settings  execution_time  \\\n",
       "0  {\"cutoff\": \"quantile_0.1\", \"eval_fairness_grou...       24.343896   \n",
       "0  {\"cutoff\": \"quantile_0.1\", \"eval_fairness_grou...       24.343896   \n",
       "0  {\"cutoff\": \"quantile_0.25\", \"eval_fairness_gro...       24.343896   \n",
       "0  {\"cutoff\": \"quantile_0.25\", \"eval_fairness_gro...       24.343896   \n",
       "\n",
       "   test_size_n  test_size_frac  fair_main_equalized_odds_difference  \\\n",
       "0        89710             1.0                             0.082959   \n",
       "0        89710             1.0                             0.082959   \n",
       "0        89710             1.0                             0.141522   \n",
       "0        89710             1.0                             0.141522   \n",
       "\n",
       "   fair_main_equalized_odds_ratio  fair_main_demographic_parity_difference  \\\n",
       "0                        0.912753                                 0.071919   \n",
       "0                        0.912753                                 0.071919   \n",
       "0                        0.829415                                 0.121430   \n",
       "0                        0.829415                                 0.121430   \n",
       "\n",
       "   fair_main_demographic_parity_ratio  ...  perf_grp_precision_0  \\\n",
       "0                            0.924727  ...                   NaN   \n",
       "0                            0.924727  ...              0.119541   \n",
       "0                            0.856061  ...                   NaN   \n",
       "0                            0.856061  ...              0.129963   \n",
       "\n",
       "   perf_grp_precision_1  perf_grp_false positive rate_0  \\\n",
       "0                   NaN                             NaN   \n",
       "0              0.147495                        0.950858   \n",
       "0                   NaN                             NaN   \n",
       "0              0.173099                        0.829628   \n",
       "\n",
       "   perf_grp_false positive rate_1  perf_grp_false negative rate_0  \\\n",
       "0                             NaN                             NaN   \n",
       "0                        0.867899                        0.009291   \n",
       "0                             NaN                             NaN   \n",
       "0                        0.688106                        0.048986   \n",
       "\n",
       "   perf_grp_false negative rate_1  perf_grp_selection rate_0  \\\n",
       "0                             NaN                        NaN   \n",
       "0                        0.013786                   0.955453   \n",
       "0                             NaN                        NaN   \n",
       "0                        0.053939                   0.843622   \n",
       "\n",
       "   perf_grp_selection rate_1  perf_grp_count_0  perf_grp_count_1  \n",
       "0                        NaN               NaN               NaN  \n",
       "0                   0.883533           20540.0           69170.0  \n",
       "0                        NaN               NaN               NaN  \n",
       "0                   0.722192           20540.0           69170.0  \n",
       "\n",
       "[4 rows x 50 columns]"
      ]
     },
     "execution_count": 66,
     "metadata": {},
     "output_type": "execute_result"
    }
   ],
   "source": [
    "final_output = universe_analysis.generate_final_output(\n",
    "    y_pred_prob=probs_test,\n",
    "    y_test=y_true,\n",
    "    org_test=org_test,\n",
    "    filter_data=filter_sub_universe_data,\n",
    "    cp_metrics_df=cp_metrics_df,\n",
    "    save=True,\n",
    ")\n",
    "final_output"
   ]
  }
 ],
 "metadata": {
  "celltoolbar": "Tags",
  "kernelspec": {
   "display_name": "Python (CMA Fairness)",
   "language": "python",
   "name": "cma_fair_env"
  },
  "language_info": {
   "codemirror_mode": {
    "name": "ipython",
    "version": 3
   },
   "file_extension": ".py",
   "mimetype": "text/x-python",
   "name": "python",
   "nbconvert_exporter": "python",
   "pygments_lexer": "ipython3",
   "version": "3.10.12"
  },
  "papermill": {
   "default_parameters": {},
   "duration": 39.476188,
   "end_time": "2025-08-05T20:51:36.265255",
   "environment_variables": {},
   "exception": null,
   "input_path": "universe_analysis.ipynb",
   "output_path": "output/runs/16/notebooks/m_16-a0cb5d4ca4192c7c974d6dd32fd7fdf3.ipynb",
   "parameters": {
    "output_dir": "output",
    "run_no": "16",
    "seed": "2023",
    "universe": "{\"cutoff\": [\"quantile_0.1\", \"quantile_0.25\"], \"eval_fairness_grouping\": [\"majority-minority\", \"nationality-all\"], \"exclude_features\": \"age\", \"exclude_subgroups\": \"drop-non-german\", \"model\": \"penalized_logreg\", \"scale\": \"scale\", \"training_size\": \"25k\", \"training_year\": \"2012_14\"}",
    "universe_id": "a0cb5d4ca4192c7c974d6dd32fd7fdf3"
   },
   "start_time": "2025-08-05T20:50:56.789067",
   "version": "2.6.0"
  }
 },
 "nbformat": 4,
 "nbformat_minor": 5
}