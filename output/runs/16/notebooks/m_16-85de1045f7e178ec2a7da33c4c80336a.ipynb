{
 "cells": [
  {
   "cell_type": "code",
   "execution_count": 1,
   "id": "f159f837-637b-42ba-96b5-ec9a68c44524",
   "metadata": {
    "execution": {
     "iopub.execute_input": "2025-08-05T20:36:18.745109Z",
     "iopub.status.busy": "2025-08-05T20:36:18.744384Z",
     "iopub.status.idle": "2025-08-05T20:36:18.758432Z",
     "shell.execute_reply": "2025-08-05T20:36:18.757469Z"
    },
    "papermill": {
     "duration": 0.03322,
     "end_time": "2025-08-05T20:36:18.759830",
     "exception": false,
     "start_time": "2025-08-05T20:36:18.726610",
     "status": "completed"
    },
    "tags": []
   },
   "outputs": [
    {
     "name": "stdout",
     "output_type": "stream",
     "text": [
      "/dss/dsshome1/0C/ra93lal2/cma/CMA_Fairness_v2\n"
     ]
    },
    {
     "name": "stderr",
     "output_type": "stream",
     "text": [
      "/dss/dsshome1/0C/ra93lal2/.local/share/virtualenvs/CMA_Fairness_v2-3j10GkSs/lib/python3.10/site-packages/IPython/core/magics/osm.py:393: UserWarning: This is now an optional IPython functionality, using bookmarks requires you to install the `pickleshare` library.\n",
      "  bkms = self.shell.db.get('bookmarks', {})\n",
      "/dss/dsshome1/0C/ra93lal2/.local/share/virtualenvs/CMA_Fairness_v2-3j10GkSs/lib/python3.10/site-packages/IPython/core/magics/osm.py:417: UserWarning: This is now an optional IPython functionality, setting dhist requires you to install the `pickleshare` library.\n",
      "  self.shell.db['dhist'] = compress_dhist(dhist)[-100:]\n"
     ]
    }
   ],
   "source": [
    "%cd ~/cma/CMA_Fairness_v2"
   ]
  },
  {
   "cell_type": "markdown",
   "id": "de2603b9",
   "metadata": {
    "papermill": {
     "duration": 0.008325,
     "end_time": "2025-08-05T20:36:18.777212",
     "exception": false,
     "start_time": "2025-08-05T20:36:18.768887",
     "status": "completed"
    },
    "tags": []
   },
   "source": [
    "The following cell holds the definition of our parameters, these values can be overriden by rendering the with e.g. the following command:\n",
    "\n",
    "papermill -p alpha 0.2 -p ratio 0.3 universe_analysis.ipynb output/test_run.ipynb"
   ]
  },
  {
   "cell_type": "code",
   "execution_count": 2,
   "id": "a80968a0-40bb-4fa9-85ef-2d5eefb01975",
   "metadata": {
    "execution": {
     "iopub.execute_input": "2025-08-05T20:36:18.795398Z",
     "iopub.status.busy": "2025-08-05T20:36:18.794745Z",
     "iopub.status.idle": "2025-08-05T20:36:18.800300Z",
     "shell.execute_reply": "2025-08-05T20:36:18.799494Z"
    },
    "papermill": {
     "duration": 0.01643,
     "end_time": "2025-08-05T20:36:18.802058",
     "exception": false,
     "start_time": "2025-08-05T20:36:18.785628",
     "status": "completed"
    },
    "tags": []
   },
   "outputs": [
    {
     "name": "stdout",
     "output_type": "stream",
     "text": [
      "Current working directory: /dss/dsshome1/0C/ra93lal2/cma/CMA_Fairness_v2\n"
     ]
    }
   ],
   "source": [
    "import os\n",
    "print(\"Current working directory:\", os.getcwd())"
   ]
  },
  {
   "cell_type": "code",
   "execution_count": 3,
   "id": "2dce4c03",
   "metadata": {
    "execution": {
     "iopub.execute_input": "2025-08-05T20:36:18.837333Z",
     "iopub.status.busy": "2025-08-05T20:36:18.836739Z",
     "iopub.status.idle": "2025-08-05T20:36:18.842895Z",
     "shell.execute_reply": "2025-08-05T20:36:18.841895Z"
    },
    "papermill": {
     "duration": 0.025655,
     "end_time": "2025-08-05T20:36:18.844686",
     "exception": false,
     "start_time": "2025-08-05T20:36:18.819031",
     "status": "completed"
    },
    "tags": [
     "parameters"
    ]
   },
   "outputs": [],
   "source": [
    "run_no = 0\n",
    "universe_id = \"test\"\n",
    "universe = {\n",
    "    \"training_size\": \"25k\", # \"25k\", \"5k\", \"1k\"\n",
    "    \"training_year\": \"2014\", # \"2014\", \"2012_14\", \"2010_14\"\n",
    "    \"scale\": \"scale\", # \"scale\", \"do-not-scale\",\n",
    "    \"model\": \"elasticnet\", # \"logreg\", \"penalized_logreg\", \"rf\", \"gbm\", \"elasticnet\"\n",
    "    \"cutoff\": [\"quantile_0.15\", \"quantile_0.30\"],\n",
    "    \"exclude_features\": \"age\", # \"none\", \"nationality\", \"sex\", \"nationality-sex\", \"age\"\n",
    "    \"exclude_subgroups\": \"keep-all\", # \"keep-all\", \"drop-non-german\"\n",
    "    \"eval_fairness_grouping\": [\"majority-minority\", \"nationality-all\"]\n",
    "}\n",
    "\n",
    "output_dir=\"./output\"\n",
    "seed=0"
   ]
  },
  {
   "cell_type": "code",
   "execution_count": 4,
   "id": "d1596985",
   "metadata": {
    "execution": {
     "iopub.execute_input": "2025-08-05T20:36:18.879381Z",
     "iopub.status.busy": "2025-08-05T20:36:18.878883Z",
     "iopub.status.idle": "2025-08-05T20:36:18.884236Z",
     "shell.execute_reply": "2025-08-05T20:36:18.883145Z"
    },
    "papermill": {
     "duration": 0.025076,
     "end_time": "2025-08-05T20:36:18.886079",
     "exception": false,
     "start_time": "2025-08-05T20:36:18.861003",
     "status": "completed"
    },
    "tags": [
     "injected-parameters"
    ]
   },
   "outputs": [],
   "source": [
    "# Parameters\n",
    "universe_id = \"85de1045f7e178ec2a7da33c4c80336a\"\n",
    "run_no = \"16\"\n",
    "universe = \"{\\\"cutoff\\\": [\\\"quantile_0.1\\\", \\\"quantile_0.25\\\"], \\\"eval_fairness_grouping\\\": [\\\"majority-minority\\\", \\\"nationality-all\\\"], \\\"exclude_features\\\": \\\"age\\\", \\\"exclude_subgroups\\\": \\\"keep-all\\\", \\\"model\\\": \\\"rf\\\", \\\"scale\\\": \\\"scale\\\", \\\"training_size\\\": \\\"25k\\\", \\\"training_year\\\": \\\"2014\\\"}\"\n",
    "output_dir = \"output\"\n",
    "seed = \"2023\"\n"
   ]
  },
  {
   "cell_type": "code",
   "execution_count": 5,
   "id": "1650acaf",
   "metadata": {
    "execution": {
     "iopub.execute_input": "2025-08-05T20:36:18.920311Z",
     "iopub.status.busy": "2025-08-05T20:36:18.919629Z",
     "iopub.status.idle": "2025-08-05T20:36:18.924863Z",
     "shell.execute_reply": "2025-08-05T20:36:18.923690Z"
    },
    "papermill": {
     "duration": 0.023643,
     "end_time": "2025-08-05T20:36:18.926699",
     "exception": false,
     "start_time": "2025-08-05T20:36:18.903056",
     "status": "completed"
    },
    "tags": []
   },
   "outputs": [],
   "source": [
    "import json\n",
    "if isinstance(universe, str):\n",
    "    universe = json.loads(universe)"
   ]
  },
  {
   "cell_type": "code",
   "execution_count": 6,
   "id": "16620c48",
   "metadata": {
    "execution": {
     "iopub.execute_input": "2025-08-05T20:36:18.962776Z",
     "iopub.status.busy": "2025-08-05T20:36:18.962041Z",
     "iopub.status.idle": "2025-08-05T20:36:19.007044Z",
     "shell.execute_reply": "2025-08-05T20:36:19.006066Z"
    },
    "papermill": {
     "duration": 0.064803,
     "end_time": "2025-08-05T20:36:19.008893",
     "exception": false,
     "start_time": "2025-08-05T20:36:18.944090",
     "status": "completed"
    },
    "tags": []
   },
   "outputs": [],
   "source": [
    "# Auto-reload the custom package\n",
    "%load_ext autoreload\n",
    "%autoreload 1\n",
    "%aimport fairness_multiverse"
   ]
  },
  {
   "cell_type": "code",
   "execution_count": 7,
   "id": "01c5c9f3",
   "metadata": {
    "execution": {
     "iopub.execute_input": "2025-08-05T20:36:19.046863Z",
     "iopub.status.busy": "2025-08-05T20:36:19.046351Z",
     "iopub.status.idle": "2025-08-05T20:36:20.574566Z",
     "shell.execute_reply": "2025-08-05T20:36:20.573638Z"
    },
    "papermill": {
     "duration": 1.548323,
     "end_time": "2025-08-05T20:36:20.576129",
     "exception": false,
     "start_time": "2025-08-05T20:36:19.027806",
     "status": "completed"
    },
    "tags": []
   },
   "outputs": [],
   "source": [
    "from fairness_multiverse.universe import UniverseAnalysis\n",
    "\n",
    "universe_analysis = UniverseAnalysis(\n",
    "    run_no = run_no,\n",
    "    universe_id = universe_id,\n",
    "    universe = universe,\n",
    "    output_dir=output_dir,\n",
    ")"
   ]
  },
  {
   "cell_type": "code",
   "execution_count": 8,
   "id": "106241f5",
   "metadata": {
    "execution": {
     "iopub.execute_input": "2025-08-05T20:36:20.597487Z",
     "iopub.status.busy": "2025-08-05T20:36:20.596991Z",
     "iopub.status.idle": "2025-08-05T20:36:20.602879Z",
     "shell.execute_reply": "2025-08-05T20:36:20.601767Z"
    },
    "papermill": {
     "duration": 0.016804,
     "end_time": "2025-08-05T20:36:20.604329",
     "exception": false,
     "start_time": "2025-08-05T20:36:20.587525",
     "status": "completed"
    },
    "tags": []
   },
   "outputs": [
    {
     "name": "stdout",
     "output_type": "stream",
     "text": [
      "Using Seed: 2023\n"
     ]
    }
   ],
   "source": [
    "import numpy as np\n",
    "parsed_seed = int(seed)\n",
    "np.random.seed(parsed_seed)\n",
    "print(f\"Using Seed: {parsed_seed}\")"
   ]
  },
  {
   "cell_type": "markdown",
   "id": "e0ebdc57",
   "metadata": {
    "papermill": {
     "duration": 0.00875,
     "end_time": "2025-08-05T20:36:20.622622",
     "exception": false,
     "start_time": "2025-08-05T20:36:20.613872",
     "status": "completed"
    },
    "tags": []
   },
   "source": [
    "# Loading Data"
   ]
  },
  {
   "cell_type": "code",
   "execution_count": 9,
   "id": "f0496b8a",
   "metadata": {
    "execution": {
     "iopub.execute_input": "2025-08-05T20:36:20.641652Z",
     "iopub.status.busy": "2025-08-05T20:36:20.641134Z",
     "iopub.status.idle": "2025-08-05T20:36:30.757474Z",
     "shell.execute_reply": "2025-08-05T20:36:30.756272Z"
    },
    "papermill": {
     "duration": 10.127784,
     "end_time": "2025-08-05T20:36:30.759089",
     "exception": false,
     "start_time": "2025-08-05T20:36:20.631305",
     "status": "completed"
    },
    "tags": []
   },
   "outputs": [
    {
     "name": "stdout",
     "output_type": "stream",
     "text": [
      "Loading SIAB data from cache: data/siab_cached.csv.gz\n"
     ]
    },
    {
     "name": "stdout",
     "output_type": "stream",
     "text": [
      "(643690, 164)\n"
     ]
    }
   ],
   "source": [
    "from pathlib import Path\n",
    "import pandas as pd\n",
    "\n",
    "# File paths\n",
    "raw_file = Path(\"data/raw/siab.csv\")\n",
    "cache_file = Path(\"data/siab_cached.csv.gz\")\n",
    "\n",
    "# Ensure cache directory exists\n",
    "cache_file.parent.mkdir(parents=True, exist_ok=True)\n",
    "\n",
    "# Load with simple caching\n",
    "if cache_file.exists():\n",
    "    print(f\"Loading SIAB data from cache: {cache_file}\")\n",
    "    siab = pd.read_csv(cache_file, compression='gzip')\n",
    "else:\n",
    "    print(f\"Cache not found. Reading raw SIAB data: {raw_file}\")\n",
    "    siab = pd.read_csv(raw_file)\n",
    "    siab.to_csv(cache_file, index=False, compression='gzip')\n",
    "    print(f\"Cached SIAB data to: {cache_file}\")\n",
    "\n",
    "print(siab.shape)"
   ]
  },
  {
   "cell_type": "code",
   "execution_count": 10,
   "id": "db0ca512-5f53-4dba-abdb-a2888bca41ba",
   "metadata": {
    "execution": {
     "iopub.execute_input": "2025-08-05T20:36:30.798866Z",
     "iopub.status.busy": "2025-08-05T20:36:30.798330Z",
     "iopub.status.idle": "2025-08-05T20:36:30.803872Z",
     "shell.execute_reply": "2025-08-05T20:36:30.802874Z"
    },
    "papermill": {
     "duration": 0.026178,
     "end_time": "2025-08-05T20:36:30.805767",
     "exception": false,
     "start_time": "2025-08-05T20:36:30.779589",
     "status": "completed"
    },
    "tags": []
   },
   "outputs": [],
   "source": [
    "#siab"
   ]
  },
  {
   "cell_type": "markdown",
   "id": "997051c5-15bd-4b69-9786-c3001a3ce484",
   "metadata": {
    "papermill": {
     "duration": 0.017551,
     "end_time": "2025-08-05T20:36:30.841439",
     "exception": false,
     "start_time": "2025-08-05T20:36:30.823888",
     "status": "completed"
    },
    "tags": []
   },
   "source": [
    "# Splitting Data and Setting Training Data Size"
   ]
  },
  {
   "cell_type": "code",
   "execution_count": 11,
   "id": "aea9c6ef-6f46-42c8-85eb-5a62025c1508",
   "metadata": {
    "execution": {
     "iopub.execute_input": "2025-08-05T20:36:30.878543Z",
     "iopub.status.busy": "2025-08-05T20:36:30.877642Z",
     "iopub.status.idle": "2025-08-05T20:36:31.172133Z",
     "shell.execute_reply": "2025-08-05T20:36:31.171097Z"
    },
    "papermill": {
     "duration": 0.315404,
     "end_time": "2025-08-05T20:36:31.174299",
     "exception": false,
     "start_time": "2025-08-05T20:36:30.858895",
     "status": "completed"
    },
    "tags": []
   },
   "outputs": [],
   "source": [
    "from fairness_multiverse.universe import sample_by_year_size\n",
    "\n",
    "siab_train = sample_by_year_size(siab,\n",
    "                               training_year=universe[\"training_year\"],\n",
    "                               training_size=universe[\"training_size\"])"
   ]
  },
  {
   "cell_type": "code",
   "execution_count": 12,
   "id": "8d3afb32-789d-442c-8d5d-9f5aa8dd2eed",
   "metadata": {
    "execution": {
     "iopub.execute_input": "2025-08-05T20:36:31.216407Z",
     "iopub.status.busy": "2025-08-05T20:36:31.215441Z",
     "iopub.status.idle": "2025-08-05T20:36:31.221161Z",
     "shell.execute_reply": "2025-08-05T20:36:31.220166Z"
    },
    "papermill": {
     "duration": 0.028742,
     "end_time": "2025-08-05T20:36:31.223093",
     "exception": false,
     "start_time": "2025-08-05T20:36:31.194351",
     "status": "completed"
    },
    "tags": []
   },
   "outputs": [],
   "source": [
    "#siab_train.shape"
   ]
  },
  {
   "cell_type": "code",
   "execution_count": 13,
   "id": "d582db68-1a4c-47fb-84fc-08518dc1975a",
   "metadata": {
    "execution": {
     "iopub.execute_input": "2025-08-05T20:36:31.261342Z",
     "iopub.status.busy": "2025-08-05T20:36:31.260406Z",
     "iopub.status.idle": "2025-08-05T20:36:31.265889Z",
     "shell.execute_reply": "2025-08-05T20:36:31.264809Z"
    },
    "papermill": {
     "duration": 0.026544,
     "end_time": "2025-08-05T20:36:31.267896",
     "exception": false,
     "start_time": "2025-08-05T20:36:31.241352",
     "status": "completed"
    },
    "tags": []
   },
   "outputs": [],
   "source": [
    "#display(siab_train.groupby(\"year\").size())"
   ]
  },
  {
   "cell_type": "code",
   "execution_count": 14,
   "id": "a561edb4-d032-42cb-8256-22eac1111c64",
   "metadata": {
    "execution": {
     "iopub.execute_input": "2025-08-05T20:36:31.305944Z",
     "iopub.status.busy": "2025-08-05T20:36:31.305214Z",
     "iopub.status.idle": "2025-08-05T20:36:31.545639Z",
     "shell.execute_reply": "2025-08-05T20:36:31.544579Z"
    },
    "papermill": {
     "duration": 0.261378,
     "end_time": "2025-08-05T20:36:31.547663",
     "exception": false,
     "start_time": "2025-08-05T20:36:31.286285",
     "status": "completed"
    },
    "tags": []
   },
   "outputs": [],
   "source": [
    "#siab_train = siab_s[siab_s.year < 2015]\n",
    "siab_calib = siab[siab.year == 2015]\n",
    "siab_test = siab[siab.year == 2016]"
   ]
  },
  {
   "cell_type": "code",
   "execution_count": 15,
   "id": "472de16f-c3db-4916-846b-1f0de9cf1746",
   "metadata": {
    "execution": {
     "iopub.execute_input": "2025-08-05T20:36:31.586386Z",
     "iopub.status.busy": "2025-08-05T20:36:31.585410Z",
     "iopub.status.idle": "2025-08-05T20:36:31.601785Z",
     "shell.execute_reply": "2025-08-05T20:36:31.600576Z"
    },
    "papermill": {
     "duration": 0.037578,
     "end_time": "2025-08-05T20:36:31.603694",
     "exception": false,
     "start_time": "2025-08-05T20:36:31.566116",
     "status": "completed"
    },
    "tags": []
   },
   "outputs": [],
   "source": [
    "X_train = siab_train.iloc[:,4:164]\n",
    "y_train = siab_train.iloc[:, [3]]"
   ]
  },
  {
   "cell_type": "code",
   "execution_count": 16,
   "id": "828c96af-f43a-4ed6-ba47-8ac73a47d56c",
   "metadata": {
    "execution": {
     "iopub.execute_input": "2025-08-05T20:36:31.646859Z",
     "iopub.status.busy": "2025-08-05T20:36:31.646129Z",
     "iopub.status.idle": "2025-08-05T20:36:31.698277Z",
     "shell.execute_reply": "2025-08-05T20:36:31.697067Z"
    },
    "papermill": {
     "duration": 0.075861,
     "end_time": "2025-08-05T20:36:31.700546",
     "exception": false,
     "start_time": "2025-08-05T20:36:31.624685",
     "status": "completed"
    },
    "tags": []
   },
   "outputs": [],
   "source": [
    "X_calib = siab_calib.iloc[:,4:164]\n",
    "y_calib = siab_calib.iloc[:, [3]]"
   ]
  },
  {
   "cell_type": "code",
   "execution_count": 17,
   "id": "c34be9c3-6bd6-476e-acd3-845840e303be",
   "metadata": {
    "execution": {
     "iopub.execute_input": "2025-08-05T20:36:31.739521Z",
     "iopub.status.busy": "2025-08-05T20:36:31.738587Z",
     "iopub.status.idle": "2025-08-05T20:36:31.793433Z",
     "shell.execute_reply": "2025-08-05T20:36:31.792219Z"
    },
    "papermill": {
     "duration": 0.07606,
     "end_time": "2025-08-05T20:36:31.795283",
     "exception": false,
     "start_time": "2025-08-05T20:36:31.719223",
     "status": "completed"
    },
    "tags": []
   },
   "outputs": [],
   "source": [
    "X_test = siab_test.iloc[:,4:164]\n",
    "y_true = siab_test.iloc[:, [3]]"
   ]
  },
  {
   "cell_type": "code",
   "execution_count": 18,
   "id": "e6c733c5",
   "metadata": {
    "execution": {
     "iopub.execute_input": "2025-08-05T20:36:31.838363Z",
     "iopub.status.busy": "2025-08-05T20:36:31.837702Z",
     "iopub.status.idle": "2025-08-05T20:36:31.937008Z",
     "shell.execute_reply": "2025-08-05T20:36:31.936000Z"
    },
    "papermill": {
     "duration": 0.122907,
     "end_time": "2025-08-05T20:36:31.939204",
     "exception": false,
     "start_time": "2025-08-05T20:36:31.816297",
     "status": "completed"
    },
    "tags": []
   },
   "outputs": [],
   "source": [
    "# Auxiliary data needed downstream in the pipeline\n",
    "\n",
    "org_train = X_train.copy()\n",
    "org_test = X_test.copy()\n",
    "org_calib = X_calib.copy()"
   ]
  },
  {
   "cell_type": "markdown",
   "id": "0a4a1b33",
   "metadata": {
    "papermill": {
     "duration": 0.020635,
     "end_time": "2025-08-05T20:36:31.980480",
     "exception": false,
     "start_time": "2025-08-05T20:36:31.959845",
     "status": "completed"
    },
    "tags": []
   },
   "source": [
    "# Preprocessing Data"
   ]
  },
  {
   "cell_type": "code",
   "execution_count": 19,
   "id": "ca879031",
   "metadata": {
    "execution": {
     "iopub.execute_input": "2025-08-05T20:36:32.023567Z",
     "iopub.status.busy": "2025-08-05T20:36:32.022846Z",
     "iopub.status.idle": "2025-08-05T20:36:32.030369Z",
     "shell.execute_reply": "2025-08-05T20:36:32.029308Z"
    },
    "papermill": {
     "duration": 0.03125,
     "end_time": "2025-08-05T20:36:32.032322",
     "exception": false,
     "start_time": "2025-08-05T20:36:32.001072",
     "status": "completed"
    },
    "tags": []
   },
   "outputs": [],
   "source": [
    "# EXCLUDE PROTECTED FEATURES\n",
    "# ----------------------\n",
    "# \"exclude_features\": \"none\", # \"nationality\", \"sex\", \"nationality-sex\"\n",
    "\n",
    "excluded_features = universe[\"exclude_features\"].split(\"-\") # split, e.g.: \"nationality-sex\" -> [\"nationality\", \"sex\"]\n",
    "excluded_features_dictionary = {\n",
    "    \"nationality\": [\"maxdeutsch1\", \"maxdeutsch.Missing.\"],\n",
    "    \"sex\": [\"frau1\"],\n",
    "    \"age\": [\"age\"],\n",
    "}"
   ]
  },
  {
   "cell_type": "code",
   "execution_count": 20,
   "id": "b745ac60",
   "metadata": {
    "execution": {
     "iopub.execute_input": "2025-08-05T20:36:32.077037Z",
     "iopub.status.busy": "2025-08-05T20:36:32.076070Z",
     "iopub.status.idle": "2025-08-05T20:36:32.082157Z",
     "shell.execute_reply": "2025-08-05T20:36:32.081126Z"
    },
    "papermill": {
     "duration": 0.030055,
     "end_time": "2025-08-05T20:36:32.084151",
     "exception": false,
     "start_time": "2025-08-05T20:36:32.054096",
     "status": "completed"
    },
    "tags": []
   },
   "outputs": [],
   "source": [
    "# Code nice names to column names\n",
    "\n",
    "excluded_features_columns = [\n",
    "    excluded_features_dictionary[f] for f in excluded_features if len(f) > 0 and f != \"none\"\n",
    "]"
   ]
  },
  {
   "cell_type": "code",
   "execution_count": 21,
   "id": "f84f73a2",
   "metadata": {
    "execution": {
     "iopub.execute_input": "2025-08-05T20:36:32.127813Z",
     "iopub.status.busy": "2025-08-05T20:36:32.126887Z",
     "iopub.status.idle": "2025-08-05T20:36:32.133864Z",
     "shell.execute_reply": "2025-08-05T20:36:32.132684Z"
    },
    "papermill": {
     "duration": 0.030559,
     "end_time": "2025-08-05T20:36:32.135921",
     "exception": false,
     "start_time": "2025-08-05T20:36:32.105362",
     "status": "completed"
    },
    "tags": []
   },
   "outputs": [],
   "source": [
    "from utils import flatten_once\n",
    "\n",
    "excluded_features_columns = flatten_once(excluded_features_columns)"
   ]
  },
  {
   "cell_type": "code",
   "execution_count": 22,
   "id": "884dea22",
   "metadata": {
    "execution": {
     "iopub.execute_input": "2025-08-05T20:36:32.180988Z",
     "iopub.status.busy": "2025-08-05T20:36:32.179934Z",
     "iopub.status.idle": "2025-08-05T20:36:32.197486Z",
     "shell.execute_reply": "2025-08-05T20:36:32.196320Z"
    },
    "papermill": {
     "duration": 0.041781,
     "end_time": "2025-08-05T20:36:32.199439",
     "exception": false,
     "start_time": "2025-08-05T20:36:32.157658",
     "status": "completed"
    },
    "tags": []
   },
   "outputs": [
    {
     "name": "stdout",
     "output_type": "stream",
     "text": [
      "Dropping features: ['age']\n"
     ]
    }
   ],
   "source": [
    "if len(excluded_features_columns) > 0:\n",
    "    print(f\"Dropping features: {excluded_features_columns}\")\n",
    "    X_train.drop(excluded_features_columns, axis=1, inplace=True)"
   ]
  },
  {
   "cell_type": "code",
   "execution_count": 23,
   "id": "95ab8b16",
   "metadata": {
    "execution": {
     "iopub.execute_input": "2025-08-05T20:36:32.244456Z",
     "iopub.status.busy": "2025-08-05T20:36:32.243733Z",
     "iopub.status.idle": "2025-08-05T20:36:32.298728Z",
     "shell.execute_reply": "2025-08-05T20:36:32.297698Z"
    },
    "papermill": {
     "duration": 0.079669,
     "end_time": "2025-08-05T20:36:32.300659",
     "exception": false,
     "start_time": "2025-08-05T20:36:32.220990",
     "status": "completed"
    },
    "tags": []
   },
   "outputs": [
    {
     "name": "stdout",
     "output_type": "stream",
     "text": [
      "Dropping features: ['age']\n"
     ]
    }
   ],
   "source": [
    "if len(excluded_features_columns) > 0:\n",
    "    print(f\"Dropping features: {excluded_features_columns}\")\n",
    "    X_test.drop(excluded_features_columns, axis=1, inplace=True)"
   ]
  },
  {
   "cell_type": "code",
   "execution_count": 24,
   "id": "1853aaf5-fb9f-46cb-a2b5-8ea4ae2237e4",
   "metadata": {
    "execution": {
     "iopub.execute_input": "2025-08-05T20:36:32.345276Z",
     "iopub.status.busy": "2025-08-05T20:36:32.344545Z",
     "iopub.status.idle": "2025-08-05T20:36:32.400379Z",
     "shell.execute_reply": "2025-08-05T20:36:32.399206Z"
    },
    "papermill": {
     "duration": 0.080333,
     "end_time": "2025-08-05T20:36:32.402715",
     "exception": false,
     "start_time": "2025-08-05T20:36:32.322382",
     "status": "completed"
    },
    "tags": []
   },
   "outputs": [
    {
     "name": "stdout",
     "output_type": "stream",
     "text": [
      "Dropping features: ['age']\n"
     ]
    }
   ],
   "source": [
    "if len(excluded_features_columns) > 0:\n",
    "    print(f\"Dropping features: {excluded_features_columns}\")\n",
    "    X_calib.drop(excluded_features_columns, axis=1, inplace=True)"
   ]
  },
  {
   "cell_type": "code",
   "execution_count": 25,
   "id": "76c4dc6d",
   "metadata": {
    "execution": {
     "iopub.execute_input": "2025-08-05T20:36:32.448653Z",
     "iopub.status.busy": "2025-08-05T20:36:32.447941Z",
     "iopub.status.idle": "2025-08-05T20:36:32.453721Z",
     "shell.execute_reply": "2025-08-05T20:36:32.452576Z"
    },
    "papermill": {
     "duration": 0.030468,
     "end_time": "2025-08-05T20:36:32.455602",
     "exception": false,
     "start_time": "2025-08-05T20:36:32.425134",
     "status": "completed"
    },
    "tags": []
   },
   "outputs": [],
   "source": [
    "# EXCLUDE CERTAIN SUBGROUPS\n",
    "# ----------------------\n",
    "\n",
    "mode = universe.get(\"exclude_subgroups\", \"keep-all\") \n",
    "# Fetches the exclude_subgroups setting from the universe dict.\n",
    "# Defaults to \"keep-all\" if the key is missing."
   ]
  },
  {
   "cell_type": "code",
   "execution_count": 26,
   "id": "21994072",
   "metadata": {
    "execution": {
     "iopub.execute_input": "2025-08-05T20:36:32.502532Z",
     "iopub.status.busy": "2025-08-05T20:36:32.501524Z",
     "iopub.status.idle": "2025-08-05T20:36:32.509169Z",
     "shell.execute_reply": "2025-08-05T20:36:32.508050Z"
    },
    "papermill": {
     "duration": 0.03292,
     "end_time": "2025-08-05T20:36:32.511141",
     "exception": false,
     "start_time": "2025-08-05T20:36:32.478221",
     "status": "completed"
    },
    "tags": []
   },
   "outputs": [],
   "source": [
    "if mode == \"keep-all\":\n",
    "    keep_mask = pd.Series(True, index=org_train.index)\n",
    "\n",
    "# org_train contains the original feature columns from features_org (in Simson)\n",
    "# features_org contains unprocessed features, for me X_train at beginning ???\n",
    "# For keep-all, creates a boolean Series (keep_mask) of all True, so no rows are removed.\n",
    "\n",
    "elif mode == \"drop-non-german\":\n",
    "    keep_mask = org_train[\"maxdeutsch1\"] == 1 # ??? what about missing values?\n",
    "\n",
    "else:\n",
    "    raise ValueError(f\"Unsupported mode for exclude_subgroups: {mode}\")"
   ]
  },
  {
   "cell_type": "code",
   "execution_count": 27,
   "id": "71651440",
   "metadata": {
    "execution": {
     "iopub.execute_input": "2025-08-05T20:36:32.556948Z",
     "iopub.status.busy": "2025-08-05T20:36:32.555997Z",
     "iopub.status.idle": "2025-08-05T20:36:32.563088Z",
     "shell.execute_reply": "2025-08-05T20:36:32.562060Z"
    },
    "papermill": {
     "duration": 0.031688,
     "end_time": "2025-08-05T20:36:32.565149",
     "exception": false,
     "start_time": "2025-08-05T20:36:32.533461",
     "status": "completed"
    },
    "tags": []
   },
   "outputs": [],
   "source": [
    "n_drop = (~keep_mask).sum() # Calculates how many rows are set to be dropped\n",
    "if n_drop > 0:\n",
    "    pct = n_drop / len(keep_mask) * 100\n",
    "    print(f\"Dropping {n_drop} rows ({pct:.2f}%) where mode='{mode}'\")"
   ]
  },
  {
   "cell_type": "code",
   "execution_count": 28,
   "id": "5fb8eee5",
   "metadata": {
    "execution": {
     "iopub.execute_input": "2025-08-05T20:36:32.611707Z",
     "iopub.status.busy": "2025-08-05T20:36:32.611206Z",
     "iopub.status.idle": "2025-08-05T20:36:32.631596Z",
     "shell.execute_reply": "2025-08-05T20:36:32.630476Z"
    },
    "papermill": {
     "duration": 0.045214,
     "end_time": "2025-08-05T20:36:32.633910",
     "exception": false,
     "start_time": "2025-08-05T20:36:32.588696",
     "status": "completed"
    },
    "tags": []
   },
   "outputs": [],
   "source": [
    "X_train = X_train[keep_mask]"
   ]
  },
  {
   "cell_type": "code",
   "execution_count": 29,
   "id": "b202bb3a",
   "metadata": {
    "execution": {
     "iopub.execute_input": "2025-08-05T20:36:32.689897Z",
     "iopub.status.busy": "2025-08-05T20:36:32.688921Z",
     "iopub.status.idle": "2025-08-05T20:36:32.696061Z",
     "shell.execute_reply": "2025-08-05T20:36:32.694990Z"
    },
    "papermill": {
     "duration": 0.032549,
     "end_time": "2025-08-05T20:36:32.697961",
     "exception": false,
     "start_time": "2025-08-05T20:36:32.665412",
     "status": "completed"
    },
    "tags": []
   },
   "outputs": [],
   "source": [
    "y_train = y_train[keep_mask]"
   ]
  },
  {
   "cell_type": "markdown",
   "id": "493e2ac3",
   "metadata": {
    "papermill": {
     "duration": 0.022836,
     "end_time": "2025-08-05T20:36:32.743590",
     "exception": false,
     "start_time": "2025-08-05T20:36:32.720754",
     "status": "completed"
    },
    "tags": []
   },
   "source": [
    "# Model Training"
   ]
  },
  {
   "cell_type": "code",
   "execution_count": 30,
   "id": "679e1268",
   "metadata": {
    "execution": {
     "iopub.execute_input": "2025-08-05T20:36:32.789996Z",
     "iopub.status.busy": "2025-08-05T20:36:32.789456Z",
     "iopub.status.idle": "2025-08-05T20:36:32.896075Z",
     "shell.execute_reply": "2025-08-05T20:36:32.895006Z"
    },
    "papermill": {
     "duration": 0.132218,
     "end_time": "2025-08-05T20:36:32.898261",
     "exception": false,
     "start_time": "2025-08-05T20:36:32.766043",
     "status": "completed"
    },
    "tags": []
   },
   "outputs": [],
   "source": [
    "from sklearn.linear_model import LogisticRegression\n",
    "from sklearn.ensemble import GradientBoostingClassifier, RandomForestClassifier\n",
    "\n",
    "if (universe[\"model\"] == \"logreg\"):\n",
    "    model = LogisticRegression() #penalty=\"none\", solver=\"newton-cg\", max_iter=1) # include random_state=19 ?\n",
    "elif (universe[\"model\"] == \"penalized_logreg\"):\n",
    "    model = LogisticRegression(penalty=\"l2\", C=0.1) #, solver=\"newton-cg\", max_iter=1)\n",
    "elif (universe[\"model\"] == \"rf\"):\n",
    "    model = RandomForestClassifier() # n_estimators=100, n_jobs=-1\n",
    "elif (universe[\"model\"] == \"gbm\"):\n",
    "    model = GradientBoostingClassifier()\n",
    "elif (universe[\"model\"] == \"elasticnet\"):\n",
    "    model = LogisticRegression(penalty = 'elasticnet', solver = 'saga', l1_ratio = 0.5) # max_iter=5000\n",
    "else:\n",
    "    raise \"Unsupported universe.model\""
   ]
  },
  {
   "cell_type": "code",
   "execution_count": 31,
   "id": "0cc8f744",
   "metadata": {
    "execution": {
     "iopub.execute_input": "2025-08-05T20:36:32.944169Z",
     "iopub.status.busy": "2025-08-05T20:36:32.943464Z",
     "iopub.status.idle": "2025-08-05T20:36:32.950208Z",
     "shell.execute_reply": "2025-08-05T20:36:32.949069Z"
    },
    "papermill": {
     "duration": 0.032265,
     "end_time": "2025-08-05T20:36:32.952263",
     "exception": false,
     "start_time": "2025-08-05T20:36:32.919998",
     "status": "completed"
    },
    "tags": []
   },
   "outputs": [],
   "source": [
    "import numpy as np\n",
    "from sklearn.pipeline import Pipeline\n",
    "from sklearn.preprocessing import StandardScaler\n",
    "\n",
    "model = Pipeline([\n",
    "    #(\"continuous_processor\", continuous_processor),\n",
    "    #(\"categorical_preprocessor\", categorical_preprocessor),\n",
    "    (\"scale\", StandardScaler() if universe[\"scale\"] == \"scale\" else None), \n",
    "    (\"model\", model),\n",
    "])"
   ]
  },
  {
   "cell_type": "code",
   "execution_count": 32,
   "id": "9442c04d",
   "metadata": {
    "execution": {
     "iopub.execute_input": "2025-08-05T20:36:32.998386Z",
     "iopub.status.busy": "2025-08-05T20:36:32.997920Z",
     "iopub.status.idle": "2025-08-05T20:36:43.572586Z",
     "shell.execute_reply": "2025-08-05T20:36:43.571444Z"
    },
    "papermill": {
     "duration": 10.59901,
     "end_time": "2025-08-05T20:36:43.574099",
     "exception": false,
     "start_time": "2025-08-05T20:36:32.975089",
     "status": "completed"
    },
    "tags": []
   },
   "outputs": [
    {
     "data": {
      "text/html": [
       "<style>#sk-container-id-1 {color: black;background-color: white;}#sk-container-id-1 pre{padding: 0;}#sk-container-id-1 div.sk-toggleable {background-color: white;}#sk-container-id-1 label.sk-toggleable__label {cursor: pointer;display: block;width: 100%;margin-bottom: 0;padding: 0.3em;box-sizing: border-box;text-align: center;}#sk-container-id-1 label.sk-toggleable__label-arrow:before {content: \"▸\";float: left;margin-right: 0.25em;color: #696969;}#sk-container-id-1 label.sk-toggleable__label-arrow:hover:before {color: black;}#sk-container-id-1 div.sk-estimator:hover label.sk-toggleable__label-arrow:before {color: black;}#sk-container-id-1 div.sk-toggleable__content {max-height: 0;max-width: 0;overflow: hidden;text-align: left;background-color: #f0f8ff;}#sk-container-id-1 div.sk-toggleable__content pre {margin: 0.2em;color: black;border-radius: 0.25em;background-color: #f0f8ff;}#sk-container-id-1 input.sk-toggleable__control:checked~div.sk-toggleable__content {max-height: 200px;max-width: 100%;overflow: auto;}#sk-container-id-1 input.sk-toggleable__control:checked~label.sk-toggleable__label-arrow:before {content: \"▾\";}#sk-container-id-1 div.sk-estimator input.sk-toggleable__control:checked~label.sk-toggleable__label {background-color: #d4ebff;}#sk-container-id-1 div.sk-label input.sk-toggleable__control:checked~label.sk-toggleable__label {background-color: #d4ebff;}#sk-container-id-1 input.sk-hidden--visually {border: 0;clip: rect(1px 1px 1px 1px);clip: rect(1px, 1px, 1px, 1px);height: 1px;margin: -1px;overflow: hidden;padding: 0;position: absolute;width: 1px;}#sk-container-id-1 div.sk-estimator {font-family: monospace;background-color: #f0f8ff;border: 1px dotted black;border-radius: 0.25em;box-sizing: border-box;margin-bottom: 0.5em;}#sk-container-id-1 div.sk-estimator:hover {background-color: #d4ebff;}#sk-container-id-1 div.sk-parallel-item::after {content: \"\";width: 100%;border-bottom: 1px solid gray;flex-grow: 1;}#sk-container-id-1 div.sk-label:hover label.sk-toggleable__label {background-color: #d4ebff;}#sk-container-id-1 div.sk-serial::before {content: \"\";position: absolute;border-left: 1px solid gray;box-sizing: border-box;top: 0;bottom: 0;left: 50%;z-index: 0;}#sk-container-id-1 div.sk-serial {display: flex;flex-direction: column;align-items: center;background-color: white;padding-right: 0.2em;padding-left: 0.2em;position: relative;}#sk-container-id-1 div.sk-item {position: relative;z-index: 1;}#sk-container-id-1 div.sk-parallel {display: flex;align-items: stretch;justify-content: center;background-color: white;position: relative;}#sk-container-id-1 div.sk-item::before, #sk-container-id-1 div.sk-parallel-item::before {content: \"\";position: absolute;border-left: 1px solid gray;box-sizing: border-box;top: 0;bottom: 0;left: 50%;z-index: -1;}#sk-container-id-1 div.sk-parallel-item {display: flex;flex-direction: column;z-index: 1;position: relative;background-color: white;}#sk-container-id-1 div.sk-parallel-item:first-child::after {align-self: flex-end;width: 50%;}#sk-container-id-1 div.sk-parallel-item:last-child::after {align-self: flex-start;width: 50%;}#sk-container-id-1 div.sk-parallel-item:only-child::after {width: 0;}#sk-container-id-1 div.sk-dashed-wrapped {border: 1px dashed gray;margin: 0 0.4em 0.5em 0.4em;box-sizing: border-box;padding-bottom: 0.4em;background-color: white;}#sk-container-id-1 div.sk-label label {font-family: monospace;font-weight: bold;display: inline-block;line-height: 1.2em;}#sk-container-id-1 div.sk-label-container {text-align: center;}#sk-container-id-1 div.sk-container {/* jupyter's `normalize.less` sets `[hidden] { display: none; }` but bootstrap.min.css set `[hidden] { display: none !important; }` so we also need the `!important` here to be able to override the default hidden behavior on the sphinx rendered scikit-learn.org. See: https://github.com/scikit-learn/scikit-learn/issues/21755 */display: inline-block !important;position: relative;}#sk-container-id-1 div.sk-text-repr-fallback {display: none;}</style><div id=\"sk-container-id-1\" class=\"sk-top-container\"><div class=\"sk-text-repr-fallback\"><pre>Pipeline(steps=[(&#x27;scale&#x27;, StandardScaler()),\n",
       "                (&#x27;model&#x27;, RandomForestClassifier())])</pre><b>In a Jupyter environment, please rerun this cell to show the HTML representation or trust the notebook. <br />On GitHub, the HTML representation is unable to render, please try loading this page with nbviewer.org.</b></div><div class=\"sk-container\" hidden><div class=\"sk-item sk-dashed-wrapped\"><div class=\"sk-label-container\"><div class=\"sk-label sk-toggleable\"><input class=\"sk-toggleable__control sk-hidden--visually\" id=\"sk-estimator-id-1\" type=\"checkbox\" ><label for=\"sk-estimator-id-1\" class=\"sk-toggleable__label sk-toggleable__label-arrow\">Pipeline</label><div class=\"sk-toggleable__content\"><pre>Pipeline(steps=[(&#x27;scale&#x27;, StandardScaler()),\n",
       "                (&#x27;model&#x27;, RandomForestClassifier())])</pre></div></div></div><div class=\"sk-serial\"><div class=\"sk-item\"><div class=\"sk-estimator sk-toggleable\"><input class=\"sk-toggleable__control sk-hidden--visually\" id=\"sk-estimator-id-2\" type=\"checkbox\" ><label for=\"sk-estimator-id-2\" class=\"sk-toggleable__label sk-toggleable__label-arrow\">StandardScaler</label><div class=\"sk-toggleable__content\"><pre>StandardScaler()</pre></div></div></div><div class=\"sk-item\"><div class=\"sk-estimator sk-toggleable\"><input class=\"sk-toggleable__control sk-hidden--visually\" id=\"sk-estimator-id-3\" type=\"checkbox\" ><label for=\"sk-estimator-id-3\" class=\"sk-toggleable__label sk-toggleable__label-arrow\">RandomForestClassifier</label><div class=\"sk-toggleable__content\"><pre>RandomForestClassifier()</pre></div></div></div></div></div></div></div>"
      ],
      "text/plain": [
       "Pipeline(steps=[('scale', StandardScaler()),\n",
       "                ('model', RandomForestClassifier())])"
      ]
     },
     "execution_count": 32,
     "metadata": {},
     "output_type": "execute_result"
    }
   ],
   "source": [
    "model.fit(X_train, y_train.values.ravel())"
   ]
  },
  {
   "cell_type": "code",
   "execution_count": 33,
   "id": "af59f8c0",
   "metadata": {
    "execution": {
     "iopub.execute_input": "2025-08-05T20:36:43.627554Z",
     "iopub.status.busy": "2025-08-05T20:36:43.627139Z",
     "iopub.status.idle": "2025-08-05T20:36:43.636313Z",
     "shell.execute_reply": "2025-08-05T20:36:43.635011Z"
    },
    "papermill": {
     "duration": 0.041519,
     "end_time": "2025-08-05T20:36:43.638515",
     "exception": false,
     "start_time": "2025-08-05T20:36:43.596996",
     "status": "completed"
    },
    "tags": []
   },
   "outputs": [],
   "source": [
    "from fairness_multiverse.universe import predict_w_threshold"
   ]
  },
  {
   "cell_type": "code",
   "execution_count": 34,
   "id": "a7cf2e16",
   "metadata": {
    "execution": {
     "iopub.execute_input": "2025-08-05T20:36:43.693976Z",
     "iopub.status.busy": "2025-08-05T20:36:43.693540Z",
     "iopub.status.idle": "2025-08-05T20:36:47.282936Z",
     "shell.execute_reply": "2025-08-05T20:36:47.281892Z"
    },
    "papermill": {
     "duration": 3.620207,
     "end_time": "2025-08-05T20:36:47.284698",
     "exception": false,
     "start_time": "2025-08-05T20:36:43.664491",
     "status": "completed"
    },
    "tags": []
   },
   "outputs": [
    {
     "data": {
      "text/plain": [
       "0.8676401738936573"
      ]
     },
     "execution_count": 34,
     "metadata": {},
     "output_type": "execute_result"
    }
   ],
   "source": [
    "probs_test = model.predict_proba(X_test)\n",
    "\n",
    "'''\n",
    "Below code returns a boolean array (or binary 0/1 array depending on how it’s used) where each element \n",
    "is True if the probability of class 1 is greater than or equal to the threshold, and False otherwise.\n",
    "'''\n",
    "y_pred_default = predict_w_threshold(probs_test, 0.5)\n",
    "\n",
    "from sklearn.metrics import accuracy_score\n",
    "\n",
    "# Naive prediction\n",
    "accuracy_score(y_true = y_true, y_pred = y_pred_default)"
   ]
  },
  {
   "cell_type": "code",
   "execution_count": 35,
   "id": "081964c3",
   "metadata": {
    "execution": {
     "iopub.execute_input": "2025-08-05T20:36:47.330389Z",
     "iopub.status.busy": "2025-08-05T20:36:47.329718Z",
     "iopub.status.idle": "2025-08-05T20:36:50.977126Z",
     "shell.execute_reply": "2025-08-05T20:36:50.976169Z"
    },
    "papermill": {
     "duration": 3.67118,
     "end_time": "2025-08-05T20:36:50.978768",
     "exception": false,
     "start_time": "2025-08-05T20:36:47.307588",
     "status": "completed"
    },
    "tags": []
   },
   "outputs": [
    {
     "data": {
      "text/plain": [
       "array([0, 0, 0, ..., 0, 0, 0])"
      ]
     },
     "execution_count": 35,
     "metadata": {},
     "output_type": "execute_result"
    }
   ],
   "source": [
    "model.predict(X_test)"
   ]
  },
  {
   "cell_type": "markdown",
   "id": "56c9705b",
   "metadata": {
    "papermill": {
     "duration": 0.020026,
     "end_time": "2025-08-05T20:36:51.019176",
     "exception": false,
     "start_time": "2025-08-05T20:36:50.999150",
     "status": "completed"
    },
    "tags": []
   },
   "source": [
    "# Conformal Prediction"
   ]
  },
  {
   "cell_type": "code",
   "execution_count": 36,
   "id": "160ec6ff",
   "metadata": {
    "execution": {
     "iopub.execute_input": "2025-08-05T20:36:51.061764Z",
     "iopub.status.busy": "2025-08-05T20:36:51.061018Z",
     "iopub.status.idle": "2025-08-05T20:36:51.066688Z",
     "shell.execute_reply": "2025-08-05T20:36:51.065606Z"
    },
    "papermill": {
     "duration": 0.029475,
     "end_time": "2025-08-05T20:36:51.068606",
     "exception": false,
     "start_time": "2025-08-05T20:36:51.039131",
     "status": "completed"
    },
    "tags": []
   },
   "outputs": [],
   "source": [
    "# Miscoverage level for conformal prediction (10% allowed error rate => 90% target coverage)\n",
    "alpha = 0.1"
   ]
  },
  {
   "cell_type": "code",
   "execution_count": 37,
   "id": "eadf4555-3dd3-440e-8e35-f82a4ad9f855",
   "metadata": {
    "execution": {
     "iopub.execute_input": "2025-08-05T20:36:51.111017Z",
     "iopub.status.busy": "2025-08-05T20:36:51.110131Z",
     "iopub.status.idle": "2025-08-05T20:36:54.296140Z",
     "shell.execute_reply": "2025-08-05T20:36:54.295163Z"
    },
    "papermill": {
     "duration": 3.207645,
     "end_time": "2025-08-05T20:36:54.298023",
     "exception": false,
     "start_time": "2025-08-05T20:36:51.090378",
     "status": "completed"
    },
    "tags": []
   },
   "outputs": [],
   "source": [
    "probs_calib = model.predict_proba(X_calib)"
   ]
  },
  {
   "cell_type": "code",
   "execution_count": 38,
   "id": "2ed93547-6d5d-4983-9b36-1ecb300da49a",
   "metadata": {
    "execution": {
     "iopub.execute_input": "2025-08-05T20:36:54.338314Z",
     "iopub.status.busy": "2025-08-05T20:36:54.337635Z",
     "iopub.status.idle": "2025-08-05T20:36:54.343135Z",
     "shell.execute_reply": "2025-08-05T20:36:54.342229Z"
    },
    "papermill": {
     "duration": 0.027411,
     "end_time": "2025-08-05T20:36:54.344851",
     "exception": false,
     "start_time": "2025-08-05T20:36:54.317440",
     "status": "completed"
    },
    "tags": []
   },
   "outputs": [],
   "source": [
    "y_calib = y_calib.values.ravel().astype(int)"
   ]
  },
  {
   "cell_type": "code",
   "execution_count": 39,
   "id": "65d1320d-f588-4b38-9072-62af1ae97f7d",
   "metadata": {
    "execution": {
     "iopub.execute_input": "2025-08-05T20:36:54.383949Z",
     "iopub.status.busy": "2025-08-05T20:36:54.383329Z",
     "iopub.status.idle": "2025-08-05T20:36:54.391103Z",
     "shell.execute_reply": "2025-08-05T20:36:54.390127Z"
    },
    "papermill": {
     "duration": 0.028736,
     "end_time": "2025-08-05T20:36:54.392664",
     "exception": false,
     "start_time": "2025-08-05T20:36:54.363928",
     "status": "completed"
    },
    "tags": []
   },
   "outputs": [],
   "source": [
    "from fairness_multiverse.conformal import compute_nc_scores\n",
    "\n",
    "# Compute nonconformity scores on calibration set (1 - probability of true class)\n",
    "nc_scores = compute_nc_scores(probs_calib, y_calib)"
   ]
  },
  {
   "cell_type": "code",
   "execution_count": 40,
   "id": "df3b8ca3-53b7-43d5-9667-7c85da7aeda2",
   "metadata": {
    "execution": {
     "iopub.execute_input": "2025-08-05T20:36:54.432079Z",
     "iopub.status.busy": "2025-08-05T20:36:54.431276Z",
     "iopub.status.idle": "2025-08-05T20:36:54.438129Z",
     "shell.execute_reply": "2025-08-05T20:36:54.437062Z"
    },
    "papermill": {
     "duration": 0.028026,
     "end_time": "2025-08-05T20:36:54.439903",
     "exception": false,
     "start_time": "2025-08-05T20:36:54.411877",
     "status": "completed"
    },
    "tags": []
   },
   "outputs": [],
   "source": [
    "from fairness_multiverse.conformal import find_threshold\n",
    "\n",
    "# Find conformal threshold q_hat for the given alpha (split conformal method)\n",
    "q_hat = find_threshold(nc_scores, alpha)"
   ]
  },
  {
   "cell_type": "code",
   "execution_count": 41,
   "id": "4d29e6c1-0ef6-4aa4-b8fe-4fe79b0d033a",
   "metadata": {
    "execution": {
     "iopub.execute_input": "2025-08-05T20:36:54.479328Z",
     "iopub.status.busy": "2025-08-05T20:36:54.478500Z",
     "iopub.status.idle": "2025-08-05T20:36:54.485597Z",
     "shell.execute_reply": "2025-08-05T20:36:54.484569Z"
    },
    "papermill": {
     "duration": 0.028314,
     "end_time": "2025-08-05T20:36:54.487205",
     "exception": false,
     "start_time": "2025-08-05T20:36:54.458891",
     "status": "completed"
    },
    "tags": []
   },
   "outputs": [
    {
     "data": {
      "text/plain": [
       "0.6699999999999999"
      ]
     },
     "execution_count": 41,
     "metadata": {},
     "output_type": "execute_result"
    }
   ],
   "source": [
    "q_hat"
   ]
  },
  {
   "cell_type": "code",
   "execution_count": 42,
   "id": "92460794-cdac-4be2-ba28-f28c0515a6fb",
   "metadata": {
    "execution": {
     "iopub.execute_input": "2025-08-05T20:36:54.527377Z",
     "iopub.status.busy": "2025-08-05T20:36:54.526750Z",
     "iopub.status.idle": "2025-08-05T20:36:58.739012Z",
     "shell.execute_reply": "2025-08-05T20:36:58.737751Z"
    },
    "papermill": {
     "duration": 4.234244,
     "end_time": "2025-08-05T20:36:58.740957",
     "exception": false,
     "start_time": "2025-08-05T20:36:54.506713",
     "status": "completed"
    },
    "tags": []
   },
   "outputs": [],
   "source": [
    "from fairness_multiverse.conformal import predict_conformal_sets\n",
    "\n",
    "# Generate prediction sets for each test example\n",
    "pred_sets = predict_conformal_sets(model, X_test, q_hat)"
   ]
  },
  {
   "cell_type": "code",
   "execution_count": 43,
   "id": "d90c9a65-e6db-4f5d-80cd-e68fb7e46829",
   "metadata": {
    "execution": {
     "iopub.execute_input": "2025-08-05T20:36:58.788144Z",
     "iopub.status.busy": "2025-08-05T20:36:58.787209Z",
     "iopub.status.idle": "2025-08-05T20:36:58.794269Z",
     "shell.execute_reply": "2025-08-05T20:36:58.793180Z"
    },
    "papermill": {
     "duration": 0.032637,
     "end_time": "2025-08-05T20:36:58.795978",
     "exception": false,
     "start_time": "2025-08-05T20:36:58.763341",
     "status": "completed"
    },
    "tags": []
   },
   "outputs": [],
   "source": [
    "y_true = y_true.squeeze()"
   ]
  },
  {
   "cell_type": "code",
   "execution_count": 44,
   "id": "3a58a54a-1e68-46b9-927a-df01f18aebc8",
   "metadata": {
    "execution": {
     "iopub.execute_input": "2025-08-05T20:36:58.837041Z",
     "iopub.status.busy": "2025-08-05T20:36:58.836143Z",
     "iopub.status.idle": "2025-08-05T20:36:59.731334Z",
     "shell.execute_reply": "2025-08-05T20:36:59.730182Z"
    },
    "papermill": {
     "duration": 0.917566,
     "end_time": "2025-08-05T20:36:59.733326",
     "exception": false,
     "start_time": "2025-08-05T20:36:58.815760",
     "status": "completed"
    },
    "tags": []
   },
   "outputs": [],
   "source": [
    "from fairness_multiverse.conformal import evaluate_sets\n",
    "\n",
    "# Evaluate coverage and average set size on test data\n",
    "metrics = evaluate_sets(pred_sets, y_true)"
   ]
  },
  {
   "cell_type": "markdown",
   "id": "2b569c12-9aaa-4c88-98c9-bbcd0cf3ebb8",
   "metadata": {
    "papermill": {
     "duration": 0.02427,
     "end_time": "2025-08-05T20:36:59.786221",
     "exception": false,
     "start_time": "2025-08-05T20:36:59.761951",
     "status": "completed"
    },
    "tags": []
   },
   "source": [
    "# CP Metrics"
   ]
  },
  {
   "cell_type": "code",
   "execution_count": 45,
   "id": "5ce0a5cb-201f-45a0-ade5-94c7f0bd6095",
   "metadata": {
    "execution": {
     "iopub.execute_input": "2025-08-05T20:36:59.834330Z",
     "iopub.status.busy": "2025-08-05T20:36:59.833893Z",
     "iopub.status.idle": "2025-08-05T20:36:59.841111Z",
     "shell.execute_reply": "2025-08-05T20:36:59.840072Z"
    },
    "papermill": {
     "duration": 0.033272,
     "end_time": "2025-08-05T20:36:59.842694",
     "exception": false,
     "start_time": "2025-08-05T20:36:59.809422",
     "status": "completed"
    },
    "tags": []
   },
   "outputs": [
    {
     "data": {
      "text/plain": [
       "{'coverage': 0.914892431167094, 'avg_size': 1.1441087950061308}"
      ]
     },
     "execution_count": 45,
     "metadata": {},
     "output_type": "execute_result"
    }
   ],
   "source": [
    "metrics"
   ]
  },
  {
   "cell_type": "code",
   "execution_count": 46,
   "id": "9b9a838d-31c9-430b-ae14-12baee460d17",
   "metadata": {
    "execution": {
     "iopub.execute_input": "2025-08-05T20:36:59.866090Z",
     "iopub.status.busy": "2025-08-05T20:36:59.865791Z",
     "iopub.status.idle": "2025-08-05T20:36:59.870796Z",
     "shell.execute_reply": "2025-08-05T20:36:59.869951Z"
    },
    "papermill": {
     "duration": 0.017978,
     "end_time": "2025-08-05T20:36:59.872204",
     "exception": false,
     "start_time": "2025-08-05T20:36:59.854226",
     "status": "completed"
    },
    "tags": []
   },
   "outputs": [],
   "source": [
    "example_universe = universe.copy()\n",
    "universe_training_year = example_universe.get(\"training_year\")\n",
    "universe_training_size = example_universe.get(\"training_size\")\n",
    "universe_scale = example_universe.get(\"scale\")\n",
    "universe_model = example_universe.get(\"model\")\n",
    "universe_exclude_features = example_universe.get(\"exclude_features\")\n",
    "universe_exclude_subgroups = example_universe.get(\"exclude_subgroups\")"
   ]
  },
  {
   "cell_type": "code",
   "execution_count": 47,
   "id": "f4b6a8ac-9dc0-4245-8a91-5b3b5999c4f9",
   "metadata": {
    "execution": {
     "iopub.execute_input": "2025-08-05T20:36:59.896018Z",
     "iopub.status.busy": "2025-08-05T20:36:59.895499Z",
     "iopub.status.idle": "2025-08-05T20:36:59.900834Z",
     "shell.execute_reply": "2025-08-05T20:36:59.899981Z"
    },
    "papermill": {
     "duration": 0.018242,
     "end_time": "2025-08-05T20:36:59.902430",
     "exception": false,
     "start_time": "2025-08-05T20:36:59.884188",
     "status": "completed"
    },
    "tags": []
   },
   "outputs": [],
   "source": [
    "cp_metrics_dict = {\n",
    "    \"universe_id\": [universe_id],\n",
    "    \"universe_training_year\": [universe_training_year],\n",
    "    \"universe_training_size\": [universe_training_size],\n",
    "    \"universe_scale\": [universe_scale],\n",
    "    \"universe_model\": [universe_model],\n",
    "    \"universe_exclude_features\": [universe_exclude_features],\n",
    "    \"universe_exclude_subgroups\": [universe_exclude_subgroups],\n",
    "    \"q_hat\": [q_hat],\n",
    "    \"coverage\": [metrics[\"coverage\"]],\n",
    "    \"avg_size\": [metrics[\"avg_size\"]],\n",
    "}"
   ]
  },
  {
   "cell_type": "code",
   "execution_count": 48,
   "id": "908acbb1-0371-4915-85ca-3fa520d2efe2",
   "metadata": {
    "execution": {
     "iopub.execute_input": "2025-08-05T20:36:59.926049Z",
     "iopub.status.busy": "2025-08-05T20:36:59.925413Z",
     "iopub.status.idle": "2025-08-05T20:36:59.932000Z",
     "shell.execute_reply": "2025-08-05T20:36:59.931192Z"
    },
    "papermill": {
     "duration": 0.019376,
     "end_time": "2025-08-05T20:36:59.933428",
     "exception": false,
     "start_time": "2025-08-05T20:36:59.914052",
     "status": "completed"
    },
    "tags": []
   },
   "outputs": [
    {
     "data": {
      "text/plain": [
       "{'universe_id': ['85de1045f7e178ec2a7da33c4c80336a'],\n",
       " 'universe_training_year': ['2014'],\n",
       " 'universe_training_size': ['25k'],\n",
       " 'universe_scale': ['scale'],\n",
       " 'universe_model': ['rf'],\n",
       " 'universe_exclude_features': ['age'],\n",
       " 'universe_exclude_subgroups': ['keep-all'],\n",
       " 'q_hat': [0.6699999999999999],\n",
       " 'coverage': [0.914892431167094],\n",
       " 'avg_size': [1.1441087950061308]}"
      ]
     },
     "execution_count": 48,
     "metadata": {},
     "output_type": "execute_result"
    }
   ],
   "source": [
    "cp_metrics_dict"
   ]
  },
  {
   "cell_type": "code",
   "execution_count": 49,
   "id": "33007efc-14e9-4ec6-97ac-56a455c82265",
   "metadata": {
    "execution": {
     "iopub.execute_input": "2025-08-05T20:36:59.957241Z",
     "iopub.status.busy": "2025-08-05T20:36:59.956595Z",
     "iopub.status.idle": "2025-08-05T20:36:59.962289Z",
     "shell.execute_reply": "2025-08-05T20:36:59.961416Z"
    },
    "papermill": {
     "duration": 0.018638,
     "end_time": "2025-08-05T20:36:59.963669",
     "exception": false,
     "start_time": "2025-08-05T20:36:59.945031",
     "status": "completed"
    },
    "tags": []
   },
   "outputs": [],
   "source": [
    "cp_metrics_df = pd.DataFrame(cp_metrics_dict)"
   ]
  },
  {
   "cell_type": "code",
   "execution_count": 50,
   "id": "db12611b-57b2-4910-b9d0-355adfd6e7bf",
   "metadata": {
    "execution": {
     "iopub.execute_input": "2025-08-05T20:36:59.987645Z",
     "iopub.status.busy": "2025-08-05T20:36:59.987109Z",
     "iopub.status.idle": "2025-08-05T20:37:00.002417Z",
     "shell.execute_reply": "2025-08-05T20:37:00.001654Z"
    },
    "papermill": {
     "duration": 0.028302,
     "end_time": "2025-08-05T20:37:00.003786",
     "exception": false,
     "start_time": "2025-08-05T20:36:59.975484",
     "status": "completed"
    },
    "tags": []
   },
   "outputs": [
    {
     "data": {
      "text/html": [
       "<div>\n",
       "<style scoped>\n",
       "    .dataframe tbody tr th:only-of-type {\n",
       "        vertical-align: middle;\n",
       "    }\n",
       "\n",
       "    .dataframe tbody tr th {\n",
       "        vertical-align: top;\n",
       "    }\n",
       "\n",
       "    .dataframe thead th {\n",
       "        text-align: right;\n",
       "    }\n",
       "</style>\n",
       "<table border=\"1\" class=\"dataframe\">\n",
       "  <thead>\n",
       "    <tr style=\"text-align: right;\">\n",
       "      <th></th>\n",
       "      <th>universe_id</th>\n",
       "      <th>universe_training_year</th>\n",
       "      <th>universe_training_size</th>\n",
       "      <th>universe_scale</th>\n",
       "      <th>universe_model</th>\n",
       "      <th>universe_exclude_features</th>\n",
       "      <th>universe_exclude_subgroups</th>\n",
       "      <th>q_hat</th>\n",
       "      <th>coverage</th>\n",
       "      <th>avg_size</th>\n",
       "    </tr>\n",
       "  </thead>\n",
       "  <tbody>\n",
       "    <tr>\n",
       "      <th>0</th>\n",
       "      <td>85de1045f7e178ec2a7da33c4c80336a</td>\n",
       "      <td>2014</td>\n",
       "      <td>25k</td>\n",
       "      <td>scale</td>\n",
       "      <td>rf</td>\n",
       "      <td>age</td>\n",
       "      <td>keep-all</td>\n",
       "      <td>0.67</td>\n",
       "      <td>0.914892</td>\n",
       "      <td>1.144109</td>\n",
       "    </tr>\n",
       "  </tbody>\n",
       "</table>\n",
       "</div>"
      ],
      "text/plain": [
       "                        universe_id universe_training_year  \\\n",
       "0  85de1045f7e178ec2a7da33c4c80336a                   2014   \n",
       "\n",
       "  universe_training_size universe_scale universe_model  \\\n",
       "0                    25k          scale             rf   \n",
       "\n",
       "  universe_exclude_features universe_exclude_subgroups  q_hat  coverage  \\\n",
       "0                       age                   keep-all   0.67  0.914892   \n",
       "\n",
       "   avg_size  \n",
       "0  1.144109  "
      ]
     },
     "execution_count": 50,
     "metadata": {},
     "output_type": "execute_result"
    }
   ],
   "source": [
    "cp_metrics_df"
   ]
  },
  {
   "cell_type": "code",
   "execution_count": 51,
   "id": "b7fbde55-a0a1-47e4-9af6-fe4a17fa8c61",
   "metadata": {
    "execution": {
     "iopub.execute_input": "2025-08-05T20:37:00.027250Z",
     "iopub.status.busy": "2025-08-05T20:37:00.026924Z",
     "iopub.status.idle": "2025-08-05T20:37:00.031551Z",
     "shell.execute_reply": "2025-08-05T20:37:00.030704Z"
    },
    "papermill": {
     "duration": 0.018002,
     "end_time": "2025-08-05T20:37:00.033225",
     "exception": false,
     "start_time": "2025-08-05T20:37:00.015223",
     "status": "completed"
    },
    "tags": []
   },
   "outputs": [],
   "source": [
    "# Conditional Coverage & looking at subgroups"
   ]
  },
  {
   "cell_type": "code",
   "execution_count": 52,
   "id": "027ae886-68dd-4141-96c7-805a5450e1ef",
   "metadata": {
    "execution": {
     "iopub.execute_input": "2025-08-05T20:37:00.078641Z",
     "iopub.status.busy": "2025-08-05T20:37:00.077879Z",
     "iopub.status.idle": "2025-08-05T20:37:00.353912Z",
     "shell.execute_reply": "2025-08-05T20:37:00.352933Z"
    },
    "papermill": {
     "duration": 0.299017,
     "end_time": "2025-08-05T20:37:00.355767",
     "exception": false,
     "start_time": "2025-08-05T20:37:00.056750",
     "status": "completed"
    },
    "tags": []
   },
   "outputs": [],
   "source": [
    "from fairness_multiverse.conformal import build_cp_groups\n",
    "\n",
    "cp_groups_df = build_cp_groups(pred_sets, y_true, X_test.index, org_test)\n",
    "#needs universe_id and setting"
   ]
  },
  {
   "cell_type": "code",
   "execution_count": 53,
   "id": "6cbdab96-b2b2-45af-ad54-d0516db2e28d",
   "metadata": {
    "execution": {
     "iopub.execute_input": "2025-08-05T20:37:00.397470Z",
     "iopub.status.busy": "2025-08-05T20:37:00.396544Z",
     "iopub.status.idle": "2025-08-05T20:37:02.325510Z",
     "shell.execute_reply": "2025-08-05T20:37:02.324629Z"
    },
    "papermill": {
     "duration": 1.951107,
     "end_time": "2025-08-05T20:37:02.327025",
     "exception": false,
     "start_time": "2025-08-05T20:37:00.375918",
     "status": "completed"
    },
    "tags": []
   },
   "outputs": [],
   "source": [
    "# Define covered = 1 if true_label is in the predicted set\n",
    "cp_groups_df['covered'] = cp_groups_df.apply(\n",
    "    lambda r: int(r['true_label'] in r['pred_set']),\n",
    "    axis=1\n",
    ")"
   ]
  },
  {
   "cell_type": "code",
   "execution_count": 54,
   "id": "338ff529-1a6b-4b87-a931-8e4788d52aad",
   "metadata": {
    "execution": {
     "iopub.execute_input": "2025-08-05T20:37:02.351945Z",
     "iopub.status.busy": "2025-08-05T20:37:02.351210Z",
     "iopub.status.idle": "2025-08-05T20:37:02.356132Z",
     "shell.execute_reply": "2025-08-05T20:37:02.355295Z"
    },
    "papermill": {
     "duration": 0.018372,
     "end_time": "2025-08-05T20:37:02.357509",
     "exception": false,
     "start_time": "2025-08-05T20:37:02.339137",
     "status": "completed"
    },
    "tags": []
   },
   "outputs": [],
   "source": [
    "#cp_groups_df"
   ]
  },
  {
   "cell_type": "code",
   "execution_count": 55,
   "id": "90032e27-66df-4540-9169-4e89cfbaa758",
   "metadata": {
    "execution": {
     "iopub.execute_input": "2025-08-05T20:37:02.382290Z",
     "iopub.status.busy": "2025-08-05T20:37:02.381817Z",
     "iopub.status.idle": "2025-08-05T20:37:02.392277Z",
     "shell.execute_reply": "2025-08-05T20:37:02.391568Z"
    },
    "papermill": {
     "duration": 0.023746,
     "end_time": "2025-08-05T20:37:02.393729",
     "exception": false,
     "start_time": "2025-08-05T20:37:02.369983",
     "status": "completed"
    },
    "tags": []
   },
   "outputs": [],
   "source": [
    "subgroups = ['frau1','nongerman','nongerman_male','nongerman_female']\n",
    "\n",
    "# Conditional coverage for subgroup==1\n",
    "cond_coverage = {\n",
    "    g: cp_groups_df.loc[cp_groups_df[g]==1, 'covered'].mean()\n",
    "    for g in subgroups\n",
    "}"
   ]
  },
  {
   "cell_type": "code",
   "execution_count": 56,
   "id": "1e348fb1-b9c3-45bc-ba23-f016827a7e0d",
   "metadata": {
    "execution": {
     "iopub.execute_input": "2025-08-05T20:37:02.419175Z",
     "iopub.status.busy": "2025-08-05T20:37:02.418458Z",
     "iopub.status.idle": "2025-08-05T20:37:02.425111Z",
     "shell.execute_reply": "2025-08-05T20:37:02.424193Z"
    },
    "papermill": {
     "duration": 0.020684,
     "end_time": "2025-08-05T20:37:02.426852",
     "exception": false,
     "start_time": "2025-08-05T20:37:02.406168",
     "status": "completed"
    },
    "tags": []
   },
   "outputs": [
    {
     "data": {
      "text/plain": [
       "{'frau1': 0.9144359078042863,\n",
       " 'nongerman': 0.9127042047942514,\n",
       " 'nongerman_male': 0.9265063496352337,\n",
       " 'nongerman_female': 0.889865871833085}"
      ]
     },
     "execution_count": 56,
     "metadata": {},
     "output_type": "execute_result"
    }
   ],
   "source": [
    "cond_coverage"
   ]
  },
  {
   "cell_type": "code",
   "execution_count": 57,
   "id": "f5093324-c3dd-4d63-bc4c-8d945e5c8bbb",
   "metadata": {
    "execution": {
     "iopub.execute_input": "2025-08-05T20:37:02.451760Z",
     "iopub.status.busy": "2025-08-05T20:37:02.451078Z",
     "iopub.status.idle": "2025-08-05T20:37:02.457445Z",
     "shell.execute_reply": "2025-08-05T20:37:02.456576Z"
    },
    "papermill": {
     "duration": 0.020025,
     "end_time": "2025-08-05T20:37:02.459061",
     "exception": false,
     "start_time": "2025-08-05T20:37:02.439036",
     "status": "completed"
    },
    "tags": []
   },
   "outputs": [],
   "source": [
    "for subgroup, cov in cond_coverage.items():\n",
    "    cp_metrics_df[f\"cov_{subgroup}\"] = cov"
   ]
  },
  {
   "cell_type": "code",
   "execution_count": 58,
   "id": "6e872e10-dbe5-49e8-b554-5030c98ff75d",
   "metadata": {
    "execution": {
     "iopub.execute_input": "2025-08-05T20:37:02.484541Z",
     "iopub.status.busy": "2025-08-05T20:37:02.483769Z",
     "iopub.status.idle": "2025-08-05T20:37:02.498259Z",
     "shell.execute_reply": "2025-08-05T20:37:02.497185Z"
    },
    "papermill": {
     "duration": 0.028167,
     "end_time": "2025-08-05T20:37:02.499791",
     "exception": false,
     "start_time": "2025-08-05T20:37:02.471624",
     "status": "completed"
    },
    "tags": []
   },
   "outputs": [
    {
     "data": {
      "text/html": [
       "<div>\n",
       "<style scoped>\n",
       "    .dataframe tbody tr th:only-of-type {\n",
       "        vertical-align: middle;\n",
       "    }\n",
       "\n",
       "    .dataframe tbody tr th {\n",
       "        vertical-align: top;\n",
       "    }\n",
       "\n",
       "    .dataframe thead th {\n",
       "        text-align: right;\n",
       "    }\n",
       "</style>\n",
       "<table border=\"1\" class=\"dataframe\">\n",
       "  <thead>\n",
       "    <tr style=\"text-align: right;\">\n",
       "      <th></th>\n",
       "      <th>universe_id</th>\n",
       "      <th>universe_training_year</th>\n",
       "      <th>universe_training_size</th>\n",
       "      <th>universe_scale</th>\n",
       "      <th>universe_model</th>\n",
       "      <th>universe_exclude_features</th>\n",
       "      <th>universe_exclude_subgroups</th>\n",
       "      <th>q_hat</th>\n",
       "      <th>coverage</th>\n",
       "      <th>avg_size</th>\n",
       "      <th>cov_frau1</th>\n",
       "      <th>cov_nongerman</th>\n",
       "      <th>cov_nongerman_male</th>\n",
       "      <th>cov_nongerman_female</th>\n",
       "    </tr>\n",
       "  </thead>\n",
       "  <tbody>\n",
       "    <tr>\n",
       "      <th>0</th>\n",
       "      <td>85de1045f7e178ec2a7da33c4c80336a</td>\n",
       "      <td>2014</td>\n",
       "      <td>25k</td>\n",
       "      <td>scale</td>\n",
       "      <td>rf</td>\n",
       "      <td>age</td>\n",
       "      <td>keep-all</td>\n",
       "      <td>0.67</td>\n",
       "      <td>0.914892</td>\n",
       "      <td>1.144109</td>\n",
       "      <td>0.914436</td>\n",
       "      <td>0.912704</td>\n",
       "      <td>0.926506</td>\n",
       "      <td>0.889866</td>\n",
       "    </tr>\n",
       "  </tbody>\n",
       "</table>\n",
       "</div>"
      ],
      "text/plain": [
       "                        universe_id universe_training_year  \\\n",
       "0  85de1045f7e178ec2a7da33c4c80336a                   2014   \n",
       "\n",
       "  universe_training_size universe_scale universe_model  \\\n",
       "0                    25k          scale             rf   \n",
       "\n",
       "  universe_exclude_features universe_exclude_subgroups  q_hat  coverage  \\\n",
       "0                       age                   keep-all   0.67  0.914892   \n",
       "\n",
       "   avg_size  cov_frau1  cov_nongerman  cov_nongerman_male  \\\n",
       "0  1.144109   0.914436       0.912704            0.926506   \n",
       "\n",
       "   cov_nongerman_female  \n",
       "0              0.889866  "
      ]
     },
     "execution_count": 58,
     "metadata": {},
     "output_type": "execute_result"
    }
   ],
   "source": [
    "cp_metrics_df"
   ]
  },
  {
   "cell_type": "markdown",
   "id": "33774451",
   "metadata": {
    "papermill": {
     "duration": 0.055851,
     "end_time": "2025-08-05T20:37:02.568023",
     "exception": false,
     "start_time": "2025-08-05T20:37:02.512172",
     "status": "completed"
    },
    "tags": []
   },
   "source": [
    "# (Fairness) Metrics"
   ]
  },
  {
   "cell_type": "code",
   "execution_count": 59,
   "id": "debc5d62",
   "metadata": {
    "execution": {
     "iopub.execute_input": "2025-08-05T20:37:02.594700Z",
     "iopub.status.busy": "2025-08-05T20:37:02.594179Z",
     "iopub.status.idle": "2025-08-05T20:37:02.609179Z",
     "shell.execute_reply": "2025-08-05T20:37:02.608468Z"
    },
    "papermill": {
     "duration": 0.030857,
     "end_time": "2025-08-05T20:37:02.610725",
     "exception": false,
     "start_time": "2025-08-05T20:37:02.579868",
     "status": "completed"
    },
    "tags": []
   },
   "outputs": [],
   "source": [
    "# do I need to include maxdeutsch1.missing?\n",
    "\n",
    "import numpy as np\n",
    "\n",
    "colname_to_bin = \"maxdeutsch1\"\n",
    "majority_value = org_train[colname_to_bin].mode()[0]\n",
    "\n",
    "org_test[\"majmin\"] = np.where(org_test[colname_to_bin] == majority_value, \"majority\", \"minority\")"
   ]
  },
  {
   "cell_type": "code",
   "execution_count": 60,
   "id": "06a50de5",
   "metadata": {
    "execution": {
     "iopub.execute_input": "2025-08-05T20:37:02.636394Z",
     "iopub.status.busy": "2025-08-05T20:37:02.635803Z",
     "iopub.status.idle": "2025-08-05T20:37:04.018618Z",
     "shell.execute_reply": "2025-08-05T20:37:04.017844Z"
    },
    "papermill": {
     "duration": 1.397003,
     "end_time": "2025-08-05T20:37:04.020165",
     "exception": false,
     "start_time": "2025-08-05T20:37:02.623162",
     "status": "completed"
    },
    "tags": []
   },
   "outputs": [],
   "source": [
    "example_universe = universe.copy()\n",
    "example_universe[\"cutoff\"] = example_universe[\"cutoff\"][0]\n",
    "example_universe[\"eval_fairness_grouping\"] = example_universe[\"eval_fairness_grouping\"][0]\n",
    "fairness_dict, metric_frame = universe_analysis.compute_metrics(\n",
    "    example_universe,\n",
    "    y_pred_prob=probs_test,\n",
    "    y_test=y_true,\n",
    "    org_test=org_test,\n",
    ")"
   ]
  },
  {
   "cell_type": "markdown",
   "id": "f95d4e02",
   "metadata": {
    "papermill": {
     "duration": 0.011682,
     "end_time": "2025-08-05T20:37:04.044469",
     "exception": false,
     "start_time": "2025-08-05T20:37:04.032787",
     "status": "completed"
    },
    "tags": []
   },
   "source": [
    "# Overall"
   ]
  },
  {
   "cell_type": "markdown",
   "id": "bdee4871",
   "metadata": {
    "papermill": {
     "duration": 0.011545,
     "end_time": "2025-08-05T20:37:04.067613",
     "exception": false,
     "start_time": "2025-08-05T20:37:04.056068",
     "status": "completed"
    },
    "tags": []
   },
   "source": [
    "Fairness\n",
    "Main fairness target: Equalized Odds. Seems to be a better fit than equal opportunity, since we're not only interested in Y = 1. Seems to be a better fit than demographic parity, since we also care about accuracy, not just equal distribution of preds.\n",
    "\n",
    "Pick column for computation of fairness metrics\n",
    "\n",
    "Performance\n",
    "Overall performance measures, most interesting in relation to the measures split by group below"
   ]
  },
  {
   "cell_type": "code",
   "execution_count": 61,
   "id": "c4e067c6",
   "metadata": {
    "execution": {
     "iopub.execute_input": "2025-08-05T20:37:04.095753Z",
     "iopub.status.busy": "2025-08-05T20:37:04.094959Z",
     "iopub.status.idle": "2025-08-05T20:37:04.102179Z",
     "shell.execute_reply": "2025-08-05T20:37:04.101279Z"
    },
    "papermill": {
     "duration": 0.021222,
     "end_time": "2025-08-05T20:37:04.103787",
     "exception": false,
     "start_time": "2025-08-05T20:37:04.082565",
     "status": "completed"
    },
    "tags": []
   },
   "outputs": [
    {
     "data": {
      "text/plain": [
       "accuracy                   0.196333\n",
       "balanced accuracy          0.532364\n",
       "f1                         0.239106\n",
       "precision                  0.136080\n",
       "false positive rate        0.919631\n",
       "false negative rate        0.015641\n",
       "selection rate             0.927934\n",
       "count                  89710.000000\n",
       "dtype: float64"
      ]
     },
     "execution_count": 61,
     "metadata": {},
     "output_type": "execute_result"
    }
   ],
   "source": [
    "metric_frame.overall"
   ]
  },
  {
   "cell_type": "markdown",
   "id": "e968fe9d",
   "metadata": {
    "papermill": {
     "duration": 0.011717,
     "end_time": "2025-08-05T20:37:04.128322",
     "exception": false,
     "start_time": "2025-08-05T20:37:04.116605",
     "status": "completed"
    },
    "tags": []
   },
   "source": [
    "By Group"
   ]
  },
  {
   "cell_type": "code",
   "execution_count": 62,
   "id": "ec325bce",
   "metadata": {
    "execution": {
     "iopub.execute_input": "2025-08-05T20:37:04.153732Z",
     "iopub.status.busy": "2025-08-05T20:37:04.153119Z",
     "iopub.status.idle": "2025-08-05T20:37:04.165510Z",
     "shell.execute_reply": "2025-08-05T20:37:04.164405Z"
    },
    "papermill": {
     "duration": 0.026769,
     "end_time": "2025-08-05T20:37:04.167049",
     "exception": false,
     "start_time": "2025-08-05T20:37:04.140280",
     "status": "completed"
    },
    "tags": []
   },
   "outputs": [
    {
     "data": {
      "text/html": [
       "<div>\n",
       "<style scoped>\n",
       "    .dataframe tbody tr th:only-of-type {\n",
       "        vertical-align: middle;\n",
       "    }\n",
       "\n",
       "    .dataframe tbody tr th {\n",
       "        vertical-align: top;\n",
       "    }\n",
       "\n",
       "    .dataframe thead th {\n",
       "        text-align: right;\n",
       "    }\n",
       "</style>\n",
       "<table border=\"1\" class=\"dataframe\">\n",
       "  <thead>\n",
       "    <tr style=\"text-align: right;\">\n",
       "      <th></th>\n",
       "      <th>accuracy</th>\n",
       "      <th>balanced accuracy</th>\n",
       "      <th>f1</th>\n",
       "      <th>precision</th>\n",
       "      <th>false positive rate</th>\n",
       "      <th>false negative rate</th>\n",
       "      <th>selection rate</th>\n",
       "      <th>count</th>\n",
       "    </tr>\n",
       "    <tr>\n",
       "      <th>majmin</th>\n",
       "      <th></th>\n",
       "      <th></th>\n",
       "      <th></th>\n",
       "      <th></th>\n",
       "      <th></th>\n",
       "      <th></th>\n",
       "      <th></th>\n",
       "      <th></th>\n",
       "    </tr>\n",
       "  </thead>\n",
       "  <tbody>\n",
       "    <tr>\n",
       "      <th>majority</th>\n",
       "      <td>0.193191</td>\n",
       "      <td>0.531047</td>\n",
       "      <td>0.244923</td>\n",
       "      <td>0.139743</td>\n",
       "      <td>0.928169</td>\n",
       "      <td>0.009737</td>\n",
       "      <td>0.936374</td>\n",
       "      <td>69170.0</td>\n",
       "    </tr>\n",
       "    <tr>\n",
       "      <th>minority</th>\n",
       "      <td>0.206913</td>\n",
       "      <td>0.535072</td>\n",
       "      <td>0.218480</td>\n",
       "      <td>0.123241</td>\n",
       "      <td>0.891426</td>\n",
       "      <td>0.038429</td>\n",
       "      <td>0.899513</td>\n",
       "      <td>20540.0</td>\n",
       "    </tr>\n",
       "  </tbody>\n",
       "</table>\n",
       "</div>"
      ],
      "text/plain": [
       "          accuracy  balanced accuracy        f1  precision  \\\n",
       "majmin                                                       \n",
       "majority  0.193191           0.531047  0.244923   0.139743   \n",
       "minority  0.206913           0.535072  0.218480   0.123241   \n",
       "\n",
       "          false positive rate  false negative rate  selection rate    count  \n",
       "majmin                                                                       \n",
       "majority             0.928169             0.009737        0.936374  69170.0  \n",
       "minority             0.891426             0.038429        0.899513  20540.0  "
      ]
     },
     "execution_count": 62,
     "metadata": {},
     "output_type": "execute_result"
    }
   ],
   "source": [
    "metric_frame.by_group"
   ]
  },
  {
   "cell_type": "code",
   "execution_count": 63,
   "id": "a9ddbe63",
   "metadata": {
    "execution": {
     "iopub.execute_input": "2025-08-05T20:37:04.193728Z",
     "iopub.status.busy": "2025-08-05T20:37:04.193191Z",
     "iopub.status.idle": "2025-08-05T20:37:05.940584Z",
     "shell.execute_reply": "2025-08-05T20:37:05.939606Z"
    },
    "papermill": {
     "duration": 1.761648,
     "end_time": "2025-08-05T20:37:05.942179",
     "exception": false,
     "start_time": "2025-08-05T20:37:04.180531",
     "status": "completed"
    },
    "tags": []
   },
   "outputs": [
    {
     "data": {
      "text/plain": [
       "array([[<Axes: title={'center': 'accuracy'}, xlabel='majmin'>,\n",
       "        <Axes: title={'center': 'balanced accuracy'}, xlabel='majmin'>,\n",
       "        <Axes: title={'center': 'f1'}, xlabel='majmin'>],\n",
       "       [<Axes: title={'center': 'precision'}, xlabel='majmin'>,\n",
       "        <Axes: title={'center': 'false positive rate'}, xlabel='majmin'>,\n",
       "        <Axes: title={'center': 'false negative rate'}, xlabel='majmin'>],\n",
       "       [<Axes: title={'center': 'selection rate'}, xlabel='majmin'>,\n",
       "        <Axes: title={'center': 'count'}, xlabel='majmin'>,\n",
       "        <Axes: xlabel='majmin'>]], dtype=object)"
      ]
     },
     "execution_count": 63,
     "metadata": {},
     "output_type": "execute_result"
    },
    {
     "data": {
      "image/png": "[encoded data removed]",
      "text/plain": [
       "<Figure size 1200x800 with 9 Axes>"
      ]
     },
     "metadata": {},
     "output_type": "display_data"
    }
   ],
   "source": [
    "# In a graphic\n",
    "metric_frame.by_group.plot.bar(\n",
    "    subplots=True,\n",
    "    layout=[3, 3],\n",
    "    legend=False,\n",
    "    figsize=[12, 8],\n",
    "    title=\"Show all metrics\",\n",
    ")"
   ]
  },
  {
   "cell_type": "markdown",
   "id": "f57a0bac",
   "metadata": {
    "papermill": {
     "duration": 0.023661,
     "end_time": "2025-08-05T20:37:05.990588",
     "exception": false,
     "start_time": "2025-08-05T20:37:05.966927",
     "status": "completed"
    },
    "tags": []
   },
   "source": [
    "# Final Output"
   ]
  },
  {
   "cell_type": "code",
   "execution_count": 64,
   "id": "96d280a3",
   "metadata": {
    "execution": {
     "iopub.execute_input": "2025-08-05T20:37:06.043233Z",
     "iopub.status.busy": "2025-08-05T20:37:06.042230Z",
     "iopub.status.idle": "2025-08-05T20:37:06.051411Z",
     "shell.execute_reply": "2025-08-05T20:37:06.050535Z"
    },
    "papermill": {
     "duration": 0.036431,
     "end_time": "2025-08-05T20:37:06.052868",
     "exception": false,
     "start_time": "2025-08-05T20:37:06.016437",
     "status": "completed"
    },
    "tags": []
   },
   "outputs": [
    {
     "data": {
      "text/plain": [
       "4"
      ]
     },
     "execution_count": 64,
     "metadata": {},
     "output_type": "execute_result"
    }
   ],
   "source": [
    "sub_universes = universe_analysis.generate_sub_universes()\n",
    "len(sub_universes)"
   ]
  },
  {
   "cell_type": "code",
   "execution_count": 65,
   "id": "92adf7ba",
   "metadata": {
    "execution": {
     "iopub.execute_input": "2025-08-05T20:37:06.101988Z",
     "iopub.status.busy": "2025-08-05T20:37:06.101376Z",
     "iopub.status.idle": "2025-08-05T20:37:06.106092Z",
     "shell.execute_reply": "2025-08-05T20:37:06.105280Z"
    },
    "papermill": {
     "duration": 0.031628,
     "end_time": "2025-08-05T20:37:06.107603",
     "exception": false,
     "start_time": "2025-08-05T20:37:06.075975",
     "status": "completed"
    },
    "tags": []
   },
   "outputs": [],
   "source": [
    "def filter_sub_universe_data(sub_universe, org_test):\n",
    "    # Keep all rows — no filtering\n",
    "    keep_rows_mask = np.ones(org_test.shape[0], dtype=bool)\n",
    "\n",
    "    print(f\"[INFO] Keeping all rows: {keep_rows_mask.sum()} rows retained.\")\n",
    "    return keep_rows_mask"
   ]
  },
  {
   "cell_type": "code",
   "execution_count": 66,
   "id": "4a759155",
   "metadata": {
    "execution": {
     "iopub.execute_input": "2025-08-05T20:37:06.138516Z",
     "iopub.status.busy": "2025-08-05T20:37:06.137854Z",
     "iopub.status.idle": "2025-08-05T20:37:14.083773Z",
     "shell.execute_reply": "2025-08-05T20:37:14.082873Z"
    },
    "papermill": {
     "duration": 7.962213,
     "end_time": "2025-08-05T20:37:14.085472",
     "exception": false,
     "start_time": "2025-08-05T20:37:06.123259",
     "status": "completed"
    },
    "tags": []
   },
   "outputs": [
    {
     "name": "stdout",
     "output_type": "stream",
     "text": [
      "Stopping execution_time clock.\n",
      "[INFO] Keeping all rows: 89710 rows retained.\n"
     ]
    },
    {
     "name": "stdout",
     "output_type": "stream",
     "text": [
      "[INFO] Keeping all rows: 89710 rows retained.\n"
     ]
    },
    {
     "name": "stdout",
     "output_type": "stream",
     "text": [
      "[INFO] Keeping all rows: 89710 rows retained.\n"
     ]
    },
    {
     "name": "stdout",
     "output_type": "stream",
     "text": [
      "[INFO] Keeping all rows: 89710 rows retained.\n"
     ]
    },
    {
     "data": {
      "text/html": [
       "<div>\n",
       "<style scoped>\n",
       "    .dataframe tbody tr th:only-of-type {\n",
       "        vertical-align: middle;\n",
       "    }\n",
       "\n",
       "    .dataframe tbody tr th {\n",
       "        vertical-align: top;\n",
       "    }\n",
       "\n",
       "    .dataframe thead th {\n",
       "        text-align: right;\n",
       "    }\n",
       "</style>\n",
       "<table border=\"1\" class=\"dataframe\">\n",
       "  <thead>\n",
       "    <tr style=\"text-align: right;\">\n",
       "      <th></th>\n",
       "      <th>run_no</th>\n",
       "      <th>universe_id</th>\n",
       "      <th>universe_settings</th>\n",
       "      <th>execution_time</th>\n",
       "      <th>test_size_n</th>\n",
       "      <th>test_size_frac</th>\n",
       "      <th>fair_main_equalized_odds_difference</th>\n",
       "      <th>fair_main_equalized_odds_ratio</th>\n",
       "      <th>fair_main_demographic_parity_difference</th>\n",
       "      <th>fair_main_demographic_parity_ratio</th>\n",
       "      <th>...</th>\n",
       "      <th>perf_grp_precision_0</th>\n",
       "      <th>perf_grp_precision_1</th>\n",
       "      <th>perf_grp_false positive rate_0</th>\n",
       "      <th>perf_grp_false positive rate_1</th>\n",
       "      <th>perf_grp_false negative rate_0</th>\n",
       "      <th>perf_grp_false negative rate_1</th>\n",
       "      <th>perf_grp_selection rate_0</th>\n",
       "      <th>perf_grp_selection rate_1</th>\n",
       "      <th>perf_grp_count_0</th>\n",
       "      <th>perf_grp_count_1</th>\n",
       "    </tr>\n",
       "  </thead>\n",
       "  <tbody>\n",
       "    <tr>\n",
       "      <th>0</th>\n",
       "      <td>16</td>\n",
       "      <td>85de1045f7e178ec2a7da33c4c80336a</td>\n",
       "      <td>{\"cutoff\": \"quantile_0.1\", \"eval_fairness_grou...</td>\n",
       "      <td>45.604315</td>\n",
       "      <td>89710</td>\n",
       "      <td>1.0</td>\n",
       "      <td>0.036743</td>\n",
       "      <td>0.960414</td>\n",
       "      <td>0.036861</td>\n",
       "      <td>0.960634</td>\n",
       "      <td>...</td>\n",
       "      <td>NaN</td>\n",
       "      <td>NaN</td>\n",
       "      <td>NaN</td>\n",
       "      <td>NaN</td>\n",
       "      <td>NaN</td>\n",
       "      <td>NaN</td>\n",
       "      <td>NaN</td>\n",
       "      <td>NaN</td>\n",
       "      <td>NaN</td>\n",
       "      <td>NaN</td>\n",
       "    </tr>\n",
       "    <tr>\n",
       "      <th>0</th>\n",
       "      <td>16</td>\n",
       "      <td>85de1045f7e178ec2a7da33c4c80336a</td>\n",
       "      <td>{\"cutoff\": \"quantile_0.1\", \"eval_fairness_grou...</td>\n",
       "      <td>45.604315</td>\n",
       "      <td>89710</td>\n",
       "      <td>1.0</td>\n",
       "      <td>0.036743</td>\n",
       "      <td>0.960414</td>\n",
       "      <td>0.036861</td>\n",
       "      <td>0.960634</td>\n",
       "      <td>...</td>\n",
       "      <td>0.123241</td>\n",
       "      <td>0.139743</td>\n",
       "      <td>0.891426</td>\n",
       "      <td>0.928169</td>\n",
       "      <td>0.038429</td>\n",
       "      <td>0.009737</td>\n",
       "      <td>0.899513</td>\n",
       "      <td>0.936374</td>\n",
       "      <td>20540.0</td>\n",
       "      <td>69170.0</td>\n",
       "    </tr>\n",
       "    <tr>\n",
       "      <th>0</th>\n",
       "      <td>16</td>\n",
       "      <td>85de1045f7e178ec2a7da33c4c80336a</td>\n",
       "      <td>{\"cutoff\": \"quantile_0.25\", \"eval_fairness_gro...</td>\n",
       "      <td>45.604315</td>\n",
       "      <td>89710</td>\n",
       "      <td>1.0</td>\n",
       "      <td>0.056102</td>\n",
       "      <td>0.941317</td>\n",
       "      <td>0.027091</td>\n",
       "      <td>0.965136</td>\n",
       "      <td>...</td>\n",
       "      <td>NaN</td>\n",
       "      <td>NaN</td>\n",
       "      <td>NaN</td>\n",
       "      <td>NaN</td>\n",
       "      <td>NaN</td>\n",
       "      <td>NaN</td>\n",
       "      <td>NaN</td>\n",
       "      <td>NaN</td>\n",
       "      <td>NaN</td>\n",
       "      <td>NaN</td>\n",
       "    </tr>\n",
       "    <tr>\n",
       "      <th>0</th>\n",
       "      <td>16</td>\n",
       "      <td>85de1045f7e178ec2a7da33c4c80336a</td>\n",
       "      <td>{\"cutoff\": \"quantile_0.25\", \"eval_fairness_gro...</td>\n",
       "      <td>45.604315</td>\n",
       "      <td>89710</td>\n",
       "      <td>1.0</td>\n",
       "      <td>0.056102</td>\n",
       "      <td>0.941317</td>\n",
       "      <td>0.027091</td>\n",
       "      <td>0.965136</td>\n",
       "      <td>...</td>\n",
       "      <td>0.138341</td>\n",
       "      <td>0.162573</td>\n",
       "      <td>0.730409</td>\n",
       "      <td>0.749792</td>\n",
       "      <td>0.100084</td>\n",
       "      <td>0.043982</td>\n",
       "      <td>0.749951</td>\n",
       "      <td>0.777042</td>\n",
       "      <td>20540.0</td>\n",
       "      <td>69170.0</td>\n",
       "    </tr>\n",
       "  </tbody>\n",
       "</table>\n",
       "<p>4 rows × 50 columns</p>\n",
       "</div>"
      ],
      "text/plain": [
       "  run_no                       universe_id  \\\n",
       "0     16  85de1045f7e178ec2a7da33c4c80336a   \n",
       "0     16  85de1045f7e178ec2a7da33c4c80336a   \n",
       "0     16  85de1045f7e178ec2a7da33c4c80336a   \n",
       "0     16  85de1045f7e178ec2a7da33c4c80336a   \n",
       "\n",
       "                                   universe_settings  execution_time  \\\n",
       "0  {\"cutoff\": \"quantile_0.1\", \"eval_fairness_grou...       45.604315   \n",
       "0  {\"cutoff\": \"quantile_0.1\", \"eval_fairness_grou...       45.604315   \n",
       "0  {\"cutoff\": \"quantile_0.25\", \"eval_fairness_gro...       45.604315   \n",
       "0  {\"cutoff\": \"quantile_0.25\", \"eval_fairness_gro...       45.604315   \n",
       "\n",
       "   test_size_n  test_size_frac  fair_main_equalized_odds_difference  \\\n",
       "0        89710             1.0                             0.036743   \n",
       "0        89710             1.0                             0.036743   \n",
       "0        89710             1.0                             0.056102   \n",
       "0        89710             1.0                             0.056102   \n",
       "\n",
       "   fair_main_equalized_odds_ratio  fair_main_demographic_parity_difference  \\\n",
       "0                        0.960414                                 0.036861   \n",
       "0                        0.960414                                 0.036861   \n",
       "0                        0.941317                                 0.027091   \n",
       "0                        0.941317                                 0.027091   \n",
       "\n",
       "   fair_main_demographic_parity_ratio  ...  perf_grp_precision_0  \\\n",
       "0                            0.960634  ...                   NaN   \n",
       "0                            0.960634  ...              0.123241   \n",
       "0                            0.965136  ...                   NaN   \n",
       "0                            0.965136  ...              0.138341   \n",
       "\n",
       "   perf_grp_precision_1  perf_grp_false positive rate_0  \\\n",
       "0                   NaN                             NaN   \n",
       "0              0.139743                        0.891426   \n",
       "0                   NaN                             NaN   \n",
       "0              0.162573                        0.730409   \n",
       "\n",
       "   perf_grp_false positive rate_1  perf_grp_false negative rate_0  \\\n",
       "0                             NaN                             NaN   \n",
       "0                        0.928169                        0.038429   \n",
       "0                             NaN                             NaN   \n",
       "0                        0.749792                        0.100084   \n",
       "\n",
       "   perf_grp_false negative rate_1  perf_grp_selection rate_0  \\\n",
       "0                             NaN                        NaN   \n",
       "0                        0.009737                   0.899513   \n",
       "0                             NaN                        NaN   \n",
       "0                        0.043982                   0.749951   \n",
       "\n",
       "   perf_grp_selection rate_1  perf_grp_count_0  perf_grp_count_1  \n",
       "0                        NaN               NaN               NaN  \n",
       "0                   0.936374           20540.0           69170.0  \n",
       "0                        NaN               NaN               NaN  \n",
       "0                   0.777042           20540.0           69170.0  \n",
       "\n",
       "[4 rows x 50 columns]"
      ]
     },
     "execution_count": 66,
     "metadata": {},
     "output_type": "execute_result"
    }
   ],
   "source": [
    "final_output = universe_analysis.generate_final_output(\n",
    "    y_pred_prob=probs_test,\n",
    "    y_test=y_true,\n",
    "    org_test=org_test,\n",
    "    filter_data=filter_sub_universe_data,\n",
    "    cp_metrics_df=cp_metrics_df,\n",
    "    save=True,\n",
    ")\n",
    "final_output"
   ]
  }
 ],
 "metadata": {
  "celltoolbar": "Tags",
  "kernelspec": {
   "display_name": "Python (CMA Fairness)",
   "language": "python",
   "name": "cma_fair_env"
  },
  "language_info": {
   "codemirror_mode": {
    "name": "ipython",
    "version": 3
   },
   "file_extension": ".py",
   "mimetype": "text/x-python",
   "name": "python",
   "nbconvert_exporter": "python",
   "pygments_lexer": "ipython3",
   "version": "3.10.12"
  },
  "papermill": {
   "default_parameters": {},
   "duration": 56.934501,
   "end_time": "2025-08-05T20:37:14.736107",
   "environment_variables": {},
   "exception": null,
   "input_path": "universe_analysis.ipynb",
   "output_path": "output/runs/16/notebooks/m_16-85de1045f7e178ec2a7da33c4c80336a.ipynb",
   "parameters": {
    "output_dir": "output",
    "run_no": "16",
    "seed": "2023",
    "universe": "{\"cutoff\": [\"quantile_0.1\", \"quantile_0.25\"], \"eval_fairness_grouping\": [\"majority-minority\", \"nationality-all\"], \"exclude_features\": \"age\", \"exclude_subgroups\": \"keep-all\", \"model\": \"rf\", \"scale\": \"scale\", \"training_size\": \"25k\", \"training_year\": \"2014\"}",
    "universe_id": "85de1045f7e178ec2a7da33c4c80336a"
   },
   "start_time": "2025-08-05T20:36:17.801606",
   "version": "2.6.0"
  }
 },
 "nbformat": 4,
 "nbformat_minor": 5
}