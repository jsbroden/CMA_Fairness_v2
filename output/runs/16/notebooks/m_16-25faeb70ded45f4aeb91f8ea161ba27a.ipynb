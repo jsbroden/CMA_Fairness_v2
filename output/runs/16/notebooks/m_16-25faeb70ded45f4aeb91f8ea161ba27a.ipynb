{
 "cells": [
  {
   "cell_type": "code",
   "execution_count": 1,
   "id": "f159f837-637b-42ba-96b5-ec9a68c44524",
   "metadata": {
    "execution": {
     "iopub.execute_input": "2025-08-05T20:40:08.181944Z",
     "iopub.status.busy": "2025-08-05T20:40:08.181138Z",
     "iopub.status.idle": "2025-08-05T20:40:08.194991Z",
     "shell.execute_reply": "2025-08-05T20:40:08.193821Z"
    },
    "papermill": {
     "duration": 0.034165,
     "end_time": "2025-08-05T20:40:08.196833",
     "exception": false,
     "start_time": "2025-08-05T20:40:08.162668",
     "status": "completed"
    },
    "tags": []
   },
   "outputs": [
    {
     "name": "stdout",
     "output_type": "stream",
     "text": [
      "/dss/dsshome1/0C/ra93lal2/cma/CMA_Fairness_v2\n"
     ]
    },
    {
     "name": "stderr",
     "output_type": "stream",
     "text": [
      "/dss/dsshome1/0C/ra93lal2/.local/share/virtualenvs/CMA_Fairness_v2-3j10GkSs/lib/python3.10/site-packages/IPython/core/magics/osm.py:393: UserWarning: This is now an optional IPython functionality, using bookmarks requires you to install the `pickleshare` library.\n",
      "  bkms = self.shell.db.get('bookmarks', {})\n",
      "/dss/dsshome1/0C/ra93lal2/.local/share/virtualenvs/CMA_Fairness_v2-3j10GkSs/lib/python3.10/site-packages/IPython/core/magics/osm.py:417: UserWarning: This is now an optional IPython functionality, setting dhist requires you to install the `pickleshare` library.\n",
      "  self.shell.db['dhist'] = compress_dhist(dhist)[-100:]\n"
     ]
    }
   ],
   "source": [
    "%cd ~/cma/CMA_Fairness_v2"
   ]
  },
  {
   "cell_type": "markdown",
   "id": "de2603b9",
   "metadata": {
    "papermill": {
     "duration": 0.015548,
     "end_time": "2025-08-05T20:40:08.229512",
     "exception": false,
     "start_time": "2025-08-05T20:40:08.213964",
     "status": "completed"
    },
    "tags": []
   },
   "source": [
    "The following cell holds the definition of our parameters, these values can be overriden by rendering the with e.g. the following command:\n",
    "\n",
    "papermill -p alpha 0.2 -p ratio 0.3 universe_analysis.ipynb output/test_run.ipynb"
   ]
  },
  {
   "cell_type": "code",
   "execution_count": 2,
   "id": "a80968a0-40bb-4fa9-85ef-2d5eefb01975",
   "metadata": {
    "execution": {
     "iopub.execute_input": "2025-08-05T20:40:08.264801Z",
     "iopub.status.busy": "2025-08-05T20:40:08.263939Z",
     "iopub.status.idle": "2025-08-05T20:40:08.271225Z",
     "shell.execute_reply": "2025-08-05T20:40:08.269974Z"
    },
    "papermill": {
     "duration": 0.026931,
     "end_time": "2025-08-05T20:40:08.273055",
     "exception": false,
     "start_time": "2025-08-05T20:40:08.246124",
     "status": "completed"
    },
    "tags": []
   },
   "outputs": [
    {
     "name": "stdout",
     "output_type": "stream",
     "text": [
      "Current working directory: /dss/dsshome1/0C/ra93lal2/cma/CMA_Fairness_v2\n"
     ]
    }
   ],
   "source": [
    "import os\n",
    "print(\"Current working directory:\", os.getcwd())"
   ]
  },
  {
   "cell_type": "code",
   "execution_count": 3,
   "id": "2dce4c03",
   "metadata": {
    "execution": {
     "iopub.execute_input": "2025-08-05T20:40:08.307729Z",
     "iopub.status.busy": "2025-08-05T20:40:08.307055Z",
     "iopub.status.idle": "2025-08-05T20:40:08.313457Z",
     "shell.execute_reply": "2025-08-05T20:40:08.312413Z"
    },
    "papermill": {
     "duration": 0.025379,
     "end_time": "2025-08-05T20:40:08.315354",
     "exception": false,
     "start_time": "2025-08-05T20:40:08.289975",
     "status": "completed"
    },
    "tags": [
     "parameters"
    ]
   },
   "outputs": [],
   "source": [
    "run_no = 0\n",
    "universe_id = \"test\"\n",
    "universe = {\n",
    "    \"training_size\": \"25k\", # \"25k\", \"5k\", \"1k\"\n",
    "    \"training_year\": \"2014\", # \"2014\", \"2012_14\", \"2010_14\"\n",
    "    \"scale\": \"scale\", # \"scale\", \"do-not-scale\",\n",
    "    \"model\": \"elasticnet\", # \"logreg\", \"penalized_logreg\", \"rf\", \"gbm\", \"elasticnet\"\n",
    "    \"cutoff\": [\"quantile_0.15\", \"quantile_0.30\"],\n",
    "    \"exclude_features\": \"age\", # \"none\", \"nationality\", \"sex\", \"nationality-sex\", \"age\"\n",
    "    \"exclude_subgroups\": \"keep-all\", # \"keep-all\", \"drop-non-german\"\n",
    "    \"eval_fairness_grouping\": [\"majority-minority\", \"nationality-all\"]\n",
    "}\n",
    "\n",
    "output_dir=\"./output\"\n",
    "seed=0"
   ]
  },
  {
   "cell_type": "code",
   "execution_count": 4,
   "id": "ae458667",
   "metadata": {
    "execution": {
     "iopub.execute_input": "2025-08-05T20:40:08.351716Z",
     "iopub.status.busy": "2025-08-05T20:40:08.351055Z",
     "iopub.status.idle": "2025-08-05T20:40:08.356435Z",
     "shell.execute_reply": "2025-08-05T20:40:08.355460Z"
    },
    "papermill": {
     "duration": 0.024691,
     "end_time": "2025-08-05T20:40:08.358323",
     "exception": false,
     "start_time": "2025-08-05T20:40:08.333632",
     "status": "completed"
    },
    "tags": [
     "injected-parameters"
    ]
   },
   "outputs": [],
   "source": [
    "# Parameters\n",
    "universe_id = \"25faeb70ded45f4aeb91f8ea161ba27a\"\n",
    "run_no = \"16\"\n",
    "universe = \"{\\\"cutoff\\\": [\\\"quantile_0.1\\\", \\\"quantile_0.25\\\"], \\\"eval_fairness_grouping\\\": [\\\"majority-minority\\\", \\\"nationality-all\\\"], \\\"exclude_features\\\": \\\"age\\\", \\\"exclude_subgroups\\\": \\\"keep-all\\\", \\\"model\\\": \\\"elasticnet\\\", \\\"scale\\\": \\\"scale\\\", \\\"training_size\\\": \\\"25k\\\", \\\"training_year\\\": \\\"2014\\\"}\"\n",
    "output_dir = \"output\"\n",
    "seed = \"2023\"\n"
   ]
  },
  {
   "cell_type": "code",
   "execution_count": 5,
   "id": "1650acaf",
   "metadata": {
    "execution": {
     "iopub.execute_input": "2025-08-05T20:40:08.394018Z",
     "iopub.status.busy": "2025-08-05T20:40:08.393144Z",
     "iopub.status.idle": "2025-08-05T20:40:08.398275Z",
     "shell.execute_reply": "2025-08-05T20:40:08.397226Z"
    },
    "papermill": {
     "duration": 0.025085,
     "end_time": "2025-08-05T20:40:08.400191",
     "exception": false,
     "start_time": "2025-08-05T20:40:08.375106",
     "status": "completed"
    },
    "tags": []
   },
   "outputs": [],
   "source": [
    "import json\n",
    "if isinstance(universe, str):\n",
    "    universe = json.loads(universe)"
   ]
  },
  {
   "cell_type": "code",
   "execution_count": 6,
   "id": "16620c48",
   "metadata": {
    "execution": {
     "iopub.execute_input": "2025-08-05T20:40:08.436413Z",
     "iopub.status.busy": "2025-08-05T20:40:08.435535Z",
     "iopub.status.idle": "2025-08-05T20:40:08.480155Z",
     "shell.execute_reply": "2025-08-05T20:40:08.479006Z"
    },
    "papermill": {
     "duration": 0.065346,
     "end_time": "2025-08-05T20:40:08.482768",
     "exception": false,
     "start_time": "2025-08-05T20:40:08.417422",
     "status": "completed"
    },
    "tags": []
   },
   "outputs": [],
   "source": [
    "# Auto-reload the custom package\n",
    "%load_ext autoreload\n",
    "%autoreload 1\n",
    "%aimport fairness_multiverse"
   ]
  },
  {
   "cell_type": "code",
   "execution_count": 7,
   "id": "01c5c9f3",
   "metadata": {
    "execution": {
     "iopub.execute_input": "2025-08-05T20:40:08.528198Z",
     "iopub.status.busy": "2025-08-05T20:40:08.527341Z",
     "iopub.status.idle": "2025-08-05T20:40:10.495388Z",
     "shell.execute_reply": "2025-08-05T20:40:10.494378Z"
    },
    "papermill": {
     "duration": 1.989375,
     "end_time": "2025-08-05T20:40:10.497378",
     "exception": false,
     "start_time": "2025-08-05T20:40:08.508003",
     "status": "completed"
    },
    "tags": []
   },
   "outputs": [],
   "source": [
    "from fairness_multiverse.universe import UniverseAnalysis\n",
    "\n",
    "universe_analysis = UniverseAnalysis(\n",
    "    run_no = run_no,\n",
    "    universe_id = universe_id,\n",
    "    universe = universe,\n",
    "    output_dir=output_dir,\n",
    ")"
   ]
  },
  {
   "cell_type": "code",
   "execution_count": 8,
   "id": "106241f5",
   "metadata": {
    "execution": {
     "iopub.execute_input": "2025-08-05T20:40:10.537980Z",
     "iopub.status.busy": "2025-08-05T20:40:10.537034Z",
     "iopub.status.idle": "2025-08-05T20:40:10.544658Z",
     "shell.execute_reply": "2025-08-05T20:40:10.543470Z"
    },
    "papermill": {
     "duration": 0.028846,
     "end_time": "2025-08-05T20:40:10.546563",
     "exception": false,
     "start_time": "2025-08-05T20:40:10.517717",
     "status": "completed"
    },
    "tags": []
   },
   "outputs": [
    {
     "name": "stdout",
     "output_type": "stream",
     "text": [
      "Using Seed: 2023\n"
     ]
    }
   ],
   "source": [
    "import numpy as np\n",
    "parsed_seed = int(seed)\n",
    "np.random.seed(parsed_seed)\n",
    "print(f\"Using Seed: {parsed_seed}\")"
   ]
  },
  {
   "cell_type": "markdown",
   "id": "e0ebdc57",
   "metadata": {
    "papermill": {
     "duration": 0.017704,
     "end_time": "2025-08-05T20:40:10.582558",
     "exception": false,
     "start_time": "2025-08-05T20:40:10.564854",
     "status": "completed"
    },
    "tags": []
   },
   "source": [
    "# Loading Data"
   ]
  },
  {
   "cell_type": "code",
   "execution_count": 9,
   "id": "f0496b8a",
   "metadata": {
    "execution": {
     "iopub.execute_input": "2025-08-05T20:40:10.620385Z",
     "iopub.status.busy": "2025-08-05T20:40:10.619515Z",
     "iopub.status.idle": "2025-08-05T20:40:23.030072Z",
     "shell.execute_reply": "2025-08-05T20:40:23.028942Z"
    },
    "papermill": {
     "duration": 12.430139,
     "end_time": "2025-08-05T20:40:23.031692",
     "exception": false,
     "start_time": "2025-08-05T20:40:10.601553",
     "status": "completed"
    },
    "tags": []
   },
   "outputs": [
    {
     "name": "stdout",
     "output_type": "stream",
     "text": [
      "Loading SIAB data from cache: data/siab_cached.csv.gz\n"
     ]
    },
    {
     "name": "stdout",
     "output_type": "stream",
     "text": [
      "(643690, 164)\n"
     ]
    }
   ],
   "source": [
    "from pathlib import Path\n",
    "import pandas as pd\n",
    "\n",
    "# File paths\n",
    "raw_file = Path(\"data/raw/siab.csv\")\n",
    "cache_file = Path(\"data/siab_cached.csv.gz\")\n",
    "\n",
    "# Ensure cache directory exists\n",
    "cache_file.parent.mkdir(parents=True, exist_ok=True)\n",
    "\n",
    "# Load with simple caching\n",
    "if cache_file.exists():\n",
    "    print(f\"Loading SIAB data from cache: {cache_file}\")\n",
    "    siab = pd.read_csv(cache_file, compression='gzip')\n",
    "else:\n",
    "    print(f\"Cache not found. Reading raw SIAB data: {raw_file}\")\n",
    "    siab = pd.read_csv(raw_file)\n",
    "    siab.to_csv(cache_file, index=False, compression='gzip')\n",
    "    print(f\"Cached SIAB data to: {cache_file}\")\n",
    "\n",
    "print(siab.shape)"
   ]
  },
  {
   "cell_type": "code",
   "execution_count": 10,
   "id": "db0ca512-5f53-4dba-abdb-a2888bca41ba",
   "metadata": {
    "execution": {
     "iopub.execute_input": "2025-08-05T20:40:23.068363Z",
     "iopub.status.busy": "2025-08-05T20:40:23.067850Z",
     "iopub.status.idle": "2025-08-05T20:40:23.073452Z",
     "shell.execute_reply": "2025-08-05T20:40:23.072478Z"
    },
    "papermill": {
     "duration": 0.024981,
     "end_time": "2025-08-05T20:40:23.075205",
     "exception": false,
     "start_time": "2025-08-05T20:40:23.050224",
     "status": "completed"
    },
    "tags": []
   },
   "outputs": [],
   "source": [
    "#siab"
   ]
  },
  {
   "cell_type": "markdown",
   "id": "997051c5-15bd-4b69-9786-c3001a3ce484",
   "metadata": {
    "papermill": {
     "duration": 0.016304,
     "end_time": "2025-08-05T20:40:23.108352",
     "exception": false,
     "start_time": "2025-08-05T20:40:23.092048",
     "status": "completed"
    },
    "tags": []
   },
   "source": [
    "# Splitting Data and Setting Training Data Size"
   ]
  },
  {
   "cell_type": "code",
   "execution_count": 11,
   "id": "aea9c6ef-6f46-42c8-85eb-5a62025c1508",
   "metadata": {
    "execution": {
     "iopub.execute_input": "2025-08-05T20:40:23.141986Z",
     "iopub.status.busy": "2025-08-05T20:40:23.141169Z",
     "iopub.status.idle": "2025-08-05T20:40:23.427151Z",
     "shell.execute_reply": "2025-08-05T20:40:23.426209Z"
    },
    "papermill": {
     "duration": 0.30475,
     "end_time": "2025-08-05T20:40:23.428979",
     "exception": false,
     "start_time": "2025-08-05T20:40:23.124229",
     "status": "completed"
    },
    "tags": []
   },
   "outputs": [],
   "source": [
    "from fairness_multiverse.universe import sample_by_year_size\n",
    "\n",
    "siab_train = sample_by_year_size(siab,\n",
    "                               training_year=universe[\"training_year\"],\n",
    "                               training_size=universe[\"training_size\"])"
   ]
  },
  {
   "cell_type": "code",
   "execution_count": 12,
   "id": "8d3afb32-789d-442c-8d5d-9f5aa8dd2eed",
   "metadata": {
    "execution": {
     "iopub.execute_input": "2025-08-05T20:40:23.463082Z",
     "iopub.status.busy": "2025-08-05T20:40:23.462268Z",
     "iopub.status.idle": "2025-08-05T20:40:23.467154Z",
     "shell.execute_reply": "2025-08-05T20:40:23.466208Z"
    },
    "papermill": {
     "duration": 0.023569,
     "end_time": "2025-08-05T20:40:23.469038",
     "exception": false,
     "start_time": "2025-08-05T20:40:23.445469",
     "status": "completed"
    },
    "tags": []
   },
   "outputs": [],
   "source": [
    "#siab_train.shape"
   ]
  },
  {
   "cell_type": "code",
   "execution_count": 13,
   "id": "d582db68-1a4c-47fb-84fc-08518dc1975a",
   "metadata": {
    "execution": {
     "iopub.execute_input": "2025-08-05T20:40:23.508932Z",
     "iopub.status.busy": "2025-08-05T20:40:23.508129Z",
     "iopub.status.idle": "2025-08-05T20:40:23.513238Z",
     "shell.execute_reply": "2025-08-05T20:40:23.512204Z"
    },
    "papermill": {
     "duration": 0.026646,
     "end_time": "2025-08-05T20:40:23.515076",
     "exception": false,
     "start_time": "2025-08-05T20:40:23.488430",
     "status": "completed"
    },
    "tags": []
   },
   "outputs": [],
   "source": [
    "#display(siab_train.groupby(\"year\").size())"
   ]
  },
  {
   "cell_type": "code",
   "execution_count": 14,
   "id": "a561edb4-d032-42cb-8256-22eac1111c64",
   "metadata": {
    "execution": {
     "iopub.execute_input": "2025-08-05T20:40:23.555079Z",
     "iopub.status.busy": "2025-08-05T20:40:23.554287Z",
     "iopub.status.idle": "2025-08-05T20:40:23.779974Z",
     "shell.execute_reply": "2025-08-05T20:40:23.779026Z"
    },
    "papermill": {
     "duration": 0.247535,
     "end_time": "2025-08-05T20:40:23.782085",
     "exception": false,
     "start_time": "2025-08-05T20:40:23.534550",
     "status": "completed"
    },
    "tags": []
   },
   "outputs": [],
   "source": [
    "#siab_train = siab_s[siab_s.year < 2015]\n",
    "siab_calib = siab[siab.year == 2015]\n",
    "siab_test = siab[siab.year == 2016]"
   ]
  },
  {
   "cell_type": "code",
   "execution_count": 15,
   "id": "472de16f-c3db-4916-846b-1f0de9cf1746",
   "metadata": {
    "execution": {
     "iopub.execute_input": "2025-08-05T20:40:23.822876Z",
     "iopub.status.busy": "2025-08-05T20:40:23.822062Z",
     "iopub.status.idle": "2025-08-05T20:40:23.837954Z",
     "shell.execute_reply": "2025-08-05T20:40:23.836771Z"
    },
    "papermill": {
     "duration": 0.037789,
     "end_time": "2025-08-05T20:40:23.840009",
     "exception": false,
     "start_time": "2025-08-05T20:40:23.802220",
     "status": "completed"
    },
    "tags": []
   },
   "outputs": [],
   "source": [
    "X_train = siab_train.iloc[:,4:164]\n",
    "y_train = siab_train.iloc[:, [3]]"
   ]
  },
  {
   "cell_type": "code",
   "execution_count": 16,
   "id": "828c96af-f43a-4ed6-ba47-8ac73a47d56c",
   "metadata": {
    "execution": {
     "iopub.execute_input": "2025-08-05T20:40:23.881923Z",
     "iopub.status.busy": "2025-08-05T20:40:23.881032Z",
     "iopub.status.idle": "2025-08-05T20:40:23.934607Z",
     "shell.execute_reply": "2025-08-05T20:40:23.933512Z"
    },
    "papermill": {
     "duration": 0.075719,
     "end_time": "2025-08-05T20:40:23.936329",
     "exception": false,
     "start_time": "2025-08-05T20:40:23.860610",
     "status": "completed"
    },
    "tags": []
   },
   "outputs": [],
   "source": [
    "X_calib = siab_calib.iloc[:,4:164]\n",
    "y_calib = siab_calib.iloc[:, [3]]"
   ]
  },
  {
   "cell_type": "code",
   "execution_count": 17,
   "id": "c34be9c3-6bd6-476e-acd3-845840e303be",
   "metadata": {
    "execution": {
     "iopub.execute_input": "2025-08-05T20:40:23.977667Z",
     "iopub.status.busy": "2025-08-05T20:40:23.976841Z",
     "iopub.status.idle": "2025-08-05T20:40:24.029529Z",
     "shell.execute_reply": "2025-08-05T20:40:24.028486Z"
    },
    "papermill": {
     "duration": 0.074713,
     "end_time": "2025-08-05T20:40:24.031574",
     "exception": false,
     "start_time": "2025-08-05T20:40:23.956861",
     "status": "completed"
    },
    "tags": []
   },
   "outputs": [],
   "source": [
    "X_test = siab_test.iloc[:,4:164]\n",
    "y_true = siab_test.iloc[:, [3]]"
   ]
  },
  {
   "cell_type": "code",
   "execution_count": 18,
   "id": "e6c733c5",
   "metadata": {
    "execution": {
     "iopub.execute_input": "2025-08-05T20:40:24.066549Z",
     "iopub.status.busy": "2025-08-05T20:40:24.066026Z",
     "iopub.status.idle": "2025-08-05T20:40:24.176778Z",
     "shell.execute_reply": "2025-08-05T20:40:24.175834Z"
    },
    "papermill": {
     "duration": 0.129708,
     "end_time": "2025-08-05T20:40:24.178626",
     "exception": false,
     "start_time": "2025-08-05T20:40:24.048918",
     "status": "completed"
    },
    "tags": []
   },
   "outputs": [],
   "source": [
    "# Auxiliary data needed downstream in the pipeline\n",
    "\n",
    "org_train = X_train.copy()\n",
    "org_test = X_test.copy()\n",
    "org_calib = X_calib.copy()"
   ]
  },
  {
   "cell_type": "markdown",
   "id": "0a4a1b33",
   "metadata": {
    "papermill": {
     "duration": 0.016155,
     "end_time": "2025-08-05T20:40:24.211769",
     "exception": false,
     "start_time": "2025-08-05T20:40:24.195614",
     "status": "completed"
    },
    "tags": []
   },
   "source": [
    "# Preprocessing Data"
   ]
  },
  {
   "cell_type": "code",
   "execution_count": 19,
   "id": "ca879031",
   "metadata": {
    "execution": {
     "iopub.execute_input": "2025-08-05T20:40:24.245764Z",
     "iopub.status.busy": "2025-08-05T20:40:24.245055Z",
     "iopub.status.idle": "2025-08-05T20:40:24.251301Z",
     "shell.execute_reply": "2025-08-05T20:40:24.250329Z"
    },
    "papermill": {
     "duration": 0.025267,
     "end_time": "2025-08-05T20:40:24.253031",
     "exception": false,
     "start_time": "2025-08-05T20:40:24.227764",
     "status": "completed"
    },
    "tags": []
   },
   "outputs": [],
   "source": [
    "# EXCLUDE PROTECTED FEATURES\n",
    "# ----------------------\n",
    "# \"exclude_features\": \"none\", # \"nationality\", \"sex\", \"nationality-sex\"\n",
    "\n",
    "excluded_features = universe[\"exclude_features\"].split(\"-\") # split, e.g.: \"nationality-sex\" -> [\"nationality\", \"sex\"]\n",
    "excluded_features_dictionary = {\n",
    "    \"nationality\": [\"maxdeutsch1\", \"maxdeutsch.Missing.\"],\n",
    "    \"sex\": [\"frau1\"],\n",
    "    \"age\": [\"age\"],\n",
    "}"
   ]
  },
  {
   "cell_type": "code",
   "execution_count": 20,
   "id": "b745ac60",
   "metadata": {
    "execution": {
     "iopub.execute_input": "2025-08-05T20:40:24.287295Z",
     "iopub.status.busy": "2025-08-05T20:40:24.286796Z",
     "iopub.status.idle": "2025-08-05T20:40:24.292230Z",
     "shell.execute_reply": "2025-08-05T20:40:24.291249Z"
    },
    "papermill": {
     "duration": 0.024341,
     "end_time": "2025-08-05T20:40:24.294084",
     "exception": false,
     "start_time": "2025-08-05T20:40:24.269743",
     "status": "completed"
    },
    "tags": []
   },
   "outputs": [],
   "source": [
    "# Code nice names to column names\n",
    "\n",
    "excluded_features_columns = [\n",
    "    excluded_features_dictionary[f] for f in excluded_features if len(f) > 0 and f != \"none\"\n",
    "]"
   ]
  },
  {
   "cell_type": "code",
   "execution_count": 21,
   "id": "f84f73a2",
   "metadata": {
    "execution": {
     "iopub.execute_input": "2025-08-05T20:40:24.328564Z",
     "iopub.status.busy": "2025-08-05T20:40:24.328078Z",
     "iopub.status.idle": "2025-08-05T20:40:24.334666Z",
     "shell.execute_reply": "2025-08-05T20:40:24.333617Z"
    },
    "papermill": {
     "duration": 0.025412,
     "end_time": "2025-08-05T20:40:24.336280",
     "exception": false,
     "start_time": "2025-08-05T20:40:24.310868",
     "status": "completed"
    },
    "tags": []
   },
   "outputs": [],
   "source": [
    "from utils import flatten_once\n",
    "\n",
    "excluded_features_columns = flatten_once(excluded_features_columns)"
   ]
  },
  {
   "cell_type": "code",
   "execution_count": 22,
   "id": "884dea22",
   "metadata": {
    "execution": {
     "iopub.execute_input": "2025-08-05T20:40:24.372149Z",
     "iopub.status.busy": "2025-08-05T20:40:24.371653Z",
     "iopub.status.idle": "2025-08-05T20:40:24.388762Z",
     "shell.execute_reply": "2025-08-05T20:40:24.387689Z"
    },
    "papermill": {
     "duration": 0.036,
     "end_time": "2025-08-05T20:40:24.390514",
     "exception": false,
     "start_time": "2025-08-05T20:40:24.354514",
     "status": "completed"
    },
    "tags": []
   },
   "outputs": [
    {
     "name": "stdout",
     "output_type": "stream",
     "text": [
      "Dropping features: ['age']\n"
     ]
    }
   ],
   "source": [
    "if len(excluded_features_columns) > 0:\n",
    "    print(f\"Dropping features: {excluded_features_columns}\")\n",
    "    X_train.drop(excluded_features_columns, axis=1, inplace=True)"
   ]
  },
  {
   "cell_type": "code",
   "execution_count": 23,
   "id": "95ab8b16",
   "metadata": {
    "execution": {
     "iopub.execute_input": "2025-08-05T20:40:24.425981Z",
     "iopub.status.busy": "2025-08-05T20:40:24.425219Z",
     "iopub.status.idle": "2025-08-05T20:40:24.476875Z",
     "shell.execute_reply": "2025-08-05T20:40:24.475759Z"
    },
    "papermill": {
     "duration": 0.070924,
     "end_time": "2025-08-05T20:40:24.478788",
     "exception": false,
     "start_time": "2025-08-05T20:40:24.407864",
     "status": "completed"
    },
    "tags": []
   },
   "outputs": [
    {
     "name": "stdout",
     "output_type": "stream",
     "text": [
      "Dropping features: ['age']\n"
     ]
    }
   ],
   "source": [
    "if len(excluded_features_columns) > 0:\n",
    "    print(f\"Dropping features: {excluded_features_columns}\")\n",
    "    X_test.drop(excluded_features_columns, axis=1, inplace=True)"
   ]
  },
  {
   "cell_type": "code",
   "execution_count": 24,
   "id": "1853aaf5-fb9f-46cb-a2b5-8ea4ae2237e4",
   "metadata": {
    "execution": {
     "iopub.execute_input": "2025-08-05T20:40:24.514335Z",
     "iopub.status.busy": "2025-08-05T20:40:24.513983Z",
     "iopub.status.idle": "2025-08-05T20:40:24.567697Z",
     "shell.execute_reply": "2025-08-05T20:40:24.564942Z"
    },
    "papermill": {
     "duration": 0.072741,
     "end_time": "2025-08-05T20:40:24.568966",
     "exception": false,
     "start_time": "2025-08-05T20:40:24.496225",
     "status": "completed"
    },
    "tags": []
   },
   "outputs": [
    {
     "name": "stdout",
     "output_type": "stream",
     "text": [
      "Dropping features: ['age']\n"
     ]
    }
   ],
   "source": [
    "if len(excluded_features_columns) > 0:\n",
    "    print(f\"Dropping features: {excluded_features_columns}\")\n",
    "    X_calib.drop(excluded_features_columns, axis=1, inplace=True)"
   ]
  },
  {
   "cell_type": "code",
   "execution_count": 25,
   "id": "76c4dc6d",
   "metadata": {
    "execution": {
     "iopub.execute_input": "2025-08-05T20:40:24.590274Z",
     "iopub.status.busy": "2025-08-05T20:40:24.589740Z",
     "iopub.status.idle": "2025-08-05T20:40:24.594077Z",
     "shell.execute_reply": "2025-08-05T20:40:24.593274Z"
    },
    "papermill": {
     "duration": 0.01602,
     "end_time": "2025-08-05T20:40:24.595524",
     "exception": false,
     "start_time": "2025-08-05T20:40:24.579504",
     "status": "completed"
    },
    "tags": []
   },
   "outputs": [],
   "source": [
    "# EXCLUDE CERTAIN SUBGROUPS\n",
    "# ----------------------\n",
    "\n",
    "mode = universe.get(\"exclude_subgroups\", \"keep-all\") \n",
    "# Fetches the exclude_subgroups setting from the universe dict.\n",
    "# Defaults to \"keep-all\" if the key is missing."
   ]
  },
  {
   "cell_type": "code",
   "execution_count": 26,
   "id": "21994072",
   "metadata": {
    "execution": {
     "iopub.execute_input": "2025-08-05T20:40:24.624512Z",
     "iopub.status.busy": "2025-08-05T20:40:24.624095Z",
     "iopub.status.idle": "2025-08-05T20:40:24.629155Z",
     "shell.execute_reply": "2025-08-05T20:40:24.628396Z"
    },
    "papermill": {
     "duration": 0.017194,
     "end_time": "2025-08-05T20:40:24.630815",
     "exception": false,
     "start_time": "2025-08-05T20:40:24.613621",
     "status": "completed"
    },
    "tags": []
   },
   "outputs": [],
   "source": [
    "if mode == \"keep-all\":\n",
    "    keep_mask = pd.Series(True, index=org_train.index)\n",
    "\n",
    "# org_train contains the original feature columns from features_org (in Simson)\n",
    "# features_org contains unprocessed features, for me X_train at beginning ???\n",
    "# For keep-all, creates a boolean Series (keep_mask) of all True, so no rows are removed.\n",
    "\n",
    "elif mode == \"drop-non-german\":\n",
    "    keep_mask = org_train[\"maxdeutsch1\"] == 1 # ??? what about missing values?\n",
    "\n",
    "else:\n",
    "    raise ValueError(f\"Unsupported mode for exclude_subgroups: {mode}\")"
   ]
  },
  {
   "cell_type": "code",
   "execution_count": 27,
   "id": "71651440",
   "metadata": {
    "execution": {
     "iopub.execute_input": "2025-08-05T20:40:24.652076Z",
     "iopub.status.busy": "2025-08-05T20:40:24.651256Z",
     "iopub.status.idle": "2025-08-05T20:40:24.658313Z",
     "shell.execute_reply": "2025-08-05T20:40:24.656711Z"
    },
    "papermill": {
     "duration": 0.019173,
     "end_time": "2025-08-05T20:40:24.660167",
     "exception": false,
     "start_time": "2025-08-05T20:40:24.640994",
     "status": "completed"
    },
    "tags": []
   },
   "outputs": [],
   "source": [
    "n_drop = (~keep_mask).sum() # Calculates how many rows are set to be dropped\n",
    "if n_drop > 0:\n",
    "    pct = n_drop / len(keep_mask) * 100\n",
    "    print(f\"Dropping {n_drop} rows ({pct:.2f}%) where mode='{mode}'\")"
   ]
  },
  {
   "cell_type": "code",
   "execution_count": 28,
   "id": "5fb8eee5",
   "metadata": {
    "execution": {
     "iopub.execute_input": "2025-08-05T20:40:24.702072Z",
     "iopub.status.busy": "2025-08-05T20:40:24.701604Z",
     "iopub.status.idle": "2025-08-05T20:40:24.715171Z",
     "shell.execute_reply": "2025-08-05T20:40:24.714266Z"
    },
    "papermill": {
     "duration": 0.035842,
     "end_time": "2025-08-05T20:40:24.716855",
     "exception": false,
     "start_time": "2025-08-05T20:40:24.681013",
     "status": "completed"
    },
    "tags": []
   },
   "outputs": [],
   "source": [
    "X_train = X_train[keep_mask]"
   ]
  },
  {
   "cell_type": "code",
   "execution_count": 29,
   "id": "b202bb3a",
   "metadata": {
    "execution": {
     "iopub.execute_input": "2025-08-05T20:40:24.758638Z",
     "iopub.status.busy": "2025-08-05T20:40:24.758195Z",
     "iopub.status.idle": "2025-08-05T20:40:24.764636Z",
     "shell.execute_reply": "2025-08-05T20:40:24.763611Z"
    },
    "papermill": {
     "duration": 0.028526,
     "end_time": "2025-08-05T20:40:24.766281",
     "exception": false,
     "start_time": "2025-08-05T20:40:24.737755",
     "status": "completed"
    },
    "tags": []
   },
   "outputs": [],
   "source": [
    "y_train = y_train[keep_mask]"
   ]
  },
  {
   "cell_type": "markdown",
   "id": "493e2ac3",
   "metadata": {
    "papermill": {
     "duration": 0.010625,
     "end_time": "2025-08-05T20:40:24.796982",
     "exception": false,
     "start_time": "2025-08-05T20:40:24.786357",
     "status": "completed"
    },
    "tags": []
   },
   "source": [
    "# Model Training"
   ]
  },
  {
   "cell_type": "code",
   "execution_count": 30,
   "id": "679e1268",
   "metadata": {
    "execution": {
     "iopub.execute_input": "2025-08-05T20:40:24.817927Z",
     "iopub.status.busy": "2025-08-05T20:40:24.817438Z",
     "iopub.status.idle": "2025-08-05T20:40:24.897123Z",
     "shell.execute_reply": "2025-08-05T20:40:24.896394Z"
    },
    "papermill": {
     "duration": 0.091889,
     "end_time": "2025-08-05T20:40:24.898530",
     "exception": false,
     "start_time": "2025-08-05T20:40:24.806641",
     "status": "completed"
    },
    "tags": []
   },
   "outputs": [],
   "source": [
    "from sklearn.linear_model import LogisticRegression\n",
    "from sklearn.ensemble import GradientBoostingClassifier, RandomForestClassifier\n",
    "\n",
    "if (universe[\"model\"] == \"logreg\"):\n",
    "    model = LogisticRegression() #penalty=\"none\", solver=\"newton-cg\", max_iter=1) # include random_state=19 ?\n",
    "elif (universe[\"model\"] == \"penalized_logreg\"):\n",
    "    model = LogisticRegression(penalty=\"l2\", C=0.1) #, solver=\"newton-cg\", max_iter=1)\n",
    "elif (universe[\"model\"] == \"rf\"):\n",
    "    model = RandomForestClassifier() # n_estimators=100, n_jobs=-1\n",
    "elif (universe[\"model\"] == \"gbm\"):\n",
    "    model = GradientBoostingClassifier()\n",
    "elif (universe[\"model\"] == \"elasticnet\"):\n",
    "    model = LogisticRegression(penalty = 'elasticnet', solver = 'saga', l1_ratio = 0.5) # max_iter=5000\n",
    "else:\n",
    "    raise \"Unsupported universe.model\""
   ]
  },
  {
   "cell_type": "code",
   "execution_count": 31,
   "id": "0cc8f744",
   "metadata": {
    "execution": {
     "iopub.execute_input": "2025-08-05T20:40:24.920254Z",
     "iopub.status.busy": "2025-08-05T20:40:24.919450Z",
     "iopub.status.idle": "2025-08-05T20:40:24.924396Z",
     "shell.execute_reply": "2025-08-05T20:40:24.923710Z"
    },
    "papermill": {
     "duration": 0.016927,
     "end_time": "2025-08-05T20:40:24.925944",
     "exception": false,
     "start_time": "2025-08-05T20:40:24.909017",
     "status": "completed"
    },
    "tags": []
   },
   "outputs": [],
   "source": [
    "import numpy as np\n",
    "from sklearn.pipeline import Pipeline\n",
    "from sklearn.preprocessing import StandardScaler\n",
    "\n",
    "model = Pipeline([\n",
    "    #(\"continuous_processor\", continuous_processor),\n",
    "    #(\"categorical_preprocessor\", categorical_preprocessor),\n",
    "    (\"scale\", StandardScaler() if universe[\"scale\"] == \"scale\" else None), \n",
    "    (\"model\", model),\n",
    "])"
   ]
  },
  {
   "cell_type": "code",
   "execution_count": 32,
   "id": "9442c04d",
   "metadata": {
    "execution": {
     "iopub.execute_input": "2025-08-05T20:40:24.956790Z",
     "iopub.status.busy": "2025-08-05T20:40:24.956333Z",
     "iopub.status.idle": "2025-08-05T20:40:33.783697Z",
     "shell.execute_reply": "2025-08-05T20:40:33.782998Z"
    },
    "papermill": {
     "duration": 8.848642,
     "end_time": "2025-08-05T20:40:33.784919",
     "exception": false,
     "start_time": "2025-08-05T20:40:24.936277",
     "status": "completed"
    },
    "tags": []
   },
   "outputs": [
    {
     "name": "stderr",
     "output_type": "stream",
     "text": [
      "/dss/dsshome1/0C/ra93lal2/.local/share/virtualenvs/CMA_Fairness_v2-3j10GkSs/lib/python3.10/site-packages/sklearn/linear_model/_sag.py:350: ConvergenceWarning: The max_iter was reached which means the coef_ did not converge\n",
      "  warnings.warn(\n"
     ]
    },
    {
     "data": {
      "text/html": [
       "<style>#sk-container-id-1 {color: black;background-color: white;}#sk-container-id-1 pre{padding: 0;}#sk-container-id-1 div.sk-toggleable {background-color: white;}#sk-container-id-1 label.sk-toggleable__label {cursor: pointer;display: block;width: 100%;margin-bottom: 0;padding: 0.3em;box-sizing: border-box;text-align: center;}#sk-container-id-1 label.sk-toggleable__label-arrow:before {content: \"▸\";float: left;margin-right: 0.25em;color: #696969;}#sk-container-id-1 label.sk-toggleable__label-arrow:hover:before {color: black;}#sk-container-id-1 div.sk-estimator:hover label.sk-toggleable__label-arrow:before {color: black;}#sk-container-id-1 div.sk-toggleable__content {max-height: 0;max-width: 0;overflow: hidden;text-align: left;background-color: #f0f8ff;}#sk-container-id-1 div.sk-toggleable__content pre {margin: 0.2em;color: black;border-radius: 0.25em;background-color: #f0f8ff;}#sk-container-id-1 input.sk-toggleable__control:checked~div.sk-toggleable__content {max-height: 200px;max-width: 100%;overflow: auto;}#sk-container-id-1 input.sk-toggleable__control:checked~label.sk-toggleable__label-arrow:before {content: \"▾\";}#sk-container-id-1 div.sk-estimator input.sk-toggleable__control:checked~label.sk-toggleable__label {background-color: #d4ebff;}#sk-container-id-1 div.sk-label input.sk-toggleable__control:checked~label.sk-toggleable__label {background-color: #d4ebff;}#sk-container-id-1 input.sk-hidden--visually {border: 0;clip: rect(1px 1px 1px 1px);clip: rect(1px, 1px, 1px, 1px);height: 1px;margin: -1px;overflow: hidden;padding: 0;position: absolute;width: 1px;}#sk-container-id-1 div.sk-estimator {font-family: monospace;background-color: #f0f8ff;border: 1px dotted black;border-radius: 0.25em;box-sizing: border-box;margin-bottom: 0.5em;}#sk-container-id-1 div.sk-estimator:hover {background-color: #d4ebff;}#sk-container-id-1 div.sk-parallel-item::after {content: \"\";width: 100%;border-bottom: 1px solid gray;flex-grow: 1;}#sk-container-id-1 div.sk-label:hover label.sk-toggleable__label {background-color: #d4ebff;}#sk-container-id-1 div.sk-serial::before {content: \"\";position: absolute;border-left: 1px solid gray;box-sizing: border-box;top: 0;bottom: 0;left: 50%;z-index: 0;}#sk-container-id-1 div.sk-serial {display: flex;flex-direction: column;align-items: center;background-color: white;padding-right: 0.2em;padding-left: 0.2em;position: relative;}#sk-container-id-1 div.sk-item {position: relative;z-index: 1;}#sk-container-id-1 div.sk-parallel {display: flex;align-items: stretch;justify-content: center;background-color: white;position: relative;}#sk-container-id-1 div.sk-item::before, #sk-container-id-1 div.sk-parallel-item::before {content: \"\";position: absolute;border-left: 1px solid gray;box-sizing: border-box;top: 0;bottom: 0;left: 50%;z-index: -1;}#sk-container-id-1 div.sk-parallel-item {display: flex;flex-direction: column;z-index: 1;position: relative;background-color: white;}#sk-container-id-1 div.sk-parallel-item:first-child::after {align-self: flex-end;width: 50%;}#sk-container-id-1 div.sk-parallel-item:last-child::after {align-self: flex-start;width: 50%;}#sk-container-id-1 div.sk-parallel-item:only-child::after {width: 0;}#sk-container-id-1 div.sk-dashed-wrapped {border: 1px dashed gray;margin: 0 0.4em 0.5em 0.4em;box-sizing: border-box;padding-bottom: 0.4em;background-color: white;}#sk-container-id-1 div.sk-label label {font-family: monospace;font-weight: bold;display: inline-block;line-height: 1.2em;}#sk-container-id-1 div.sk-label-container {text-align: center;}#sk-container-id-1 div.sk-container {/* jupyter's `normalize.less` sets `[hidden] { display: none; }` but bootstrap.min.css set `[hidden] { display: none !important; }` so we also need the `!important` here to be able to override the default hidden behavior on the sphinx rendered scikit-learn.org. See: https://github.com/scikit-learn/scikit-learn/issues/21755 */display: inline-block !important;position: relative;}#sk-container-id-1 div.sk-text-repr-fallback {display: none;}</style><div id=\"sk-container-id-1\" class=\"sk-top-container\"><div class=\"sk-text-repr-fallback\"><pre>Pipeline(steps=[(&#x27;scale&#x27;, StandardScaler()),\n",
       "                (&#x27;model&#x27;,\n",
       "                 LogisticRegression(l1_ratio=0.5, penalty=&#x27;elasticnet&#x27;,\n",
       "                                    solver=&#x27;saga&#x27;))])</pre><b>In a Jupyter environment, please rerun this cell to show the HTML representation or trust the notebook. <br />On GitHub, the HTML representation is unable to render, please try loading this page with nbviewer.org.</b></div><div class=\"sk-container\" hidden><div class=\"sk-item sk-dashed-wrapped\"><div class=\"sk-label-container\"><div class=\"sk-label sk-toggleable\"><input class=\"sk-toggleable__control sk-hidden--visually\" id=\"sk-estimator-id-1\" type=\"checkbox\" ><label for=\"sk-estimator-id-1\" class=\"sk-toggleable__label sk-toggleable__label-arrow\">Pipeline</label><div class=\"sk-toggleable__content\"><pre>Pipeline(steps=[(&#x27;scale&#x27;, StandardScaler()),\n",
       "                (&#x27;model&#x27;,\n",
       "                 LogisticRegression(l1_ratio=0.5, penalty=&#x27;elasticnet&#x27;,\n",
       "                                    solver=&#x27;saga&#x27;))])</pre></div></div></div><div class=\"sk-serial\"><div class=\"sk-item\"><div class=\"sk-estimator sk-toggleable\"><input class=\"sk-toggleable__control sk-hidden--visually\" id=\"sk-estimator-id-2\" type=\"checkbox\" ><label for=\"sk-estimator-id-2\" class=\"sk-toggleable__label sk-toggleable__label-arrow\">StandardScaler</label><div class=\"sk-toggleable__content\"><pre>StandardScaler()</pre></div></div></div><div class=\"sk-item\"><div class=\"sk-estimator sk-toggleable\"><input class=\"sk-toggleable__control sk-hidden--visually\" id=\"sk-estimator-id-3\" type=\"checkbox\" ><label for=\"sk-estimator-id-3\" class=\"sk-toggleable__label sk-toggleable__label-arrow\">LogisticRegression</label><div class=\"sk-toggleable__content\"><pre>LogisticRegression(l1_ratio=0.5, penalty=&#x27;elasticnet&#x27;, solver=&#x27;saga&#x27;)</pre></div></div></div></div></div></div></div>"
      ],
      "text/plain": [
       "Pipeline(steps=[('scale', StandardScaler()),\n",
       "                ('model',\n",
       "                 LogisticRegression(l1_ratio=0.5, penalty='elasticnet',\n",
       "                                    solver='saga'))])"
      ]
     },
     "execution_count": 32,
     "metadata": {},
     "output_type": "execute_result"
    }
   ],
   "source": [
    "model.fit(X_train, y_train.values.ravel())"
   ]
  },
  {
   "cell_type": "code",
   "execution_count": 33,
   "id": "af59f8c0",
   "metadata": {
    "execution": {
     "iopub.execute_input": "2025-08-05T20:40:33.808512Z",
     "iopub.status.busy": "2025-08-05T20:40:33.808220Z",
     "iopub.status.idle": "2025-08-05T20:40:33.812290Z",
     "shell.execute_reply": "2025-08-05T20:40:33.811577Z"
    },
    "papermill": {
     "duration": 0.016198,
     "end_time": "2025-08-05T20:40:33.813856",
     "exception": false,
     "start_time": "2025-08-05T20:40:33.797658",
     "status": "completed"
    },
    "tags": []
   },
   "outputs": [],
   "source": [
    "from fairness_multiverse.universe import predict_w_threshold"
   ]
  },
  {
   "cell_type": "code",
   "execution_count": 34,
   "id": "a7cf2e16",
   "metadata": {
    "execution": {
     "iopub.execute_input": "2025-08-05T20:40:33.835782Z",
     "iopub.status.busy": "2025-08-05T20:40:33.835143Z",
     "iopub.status.idle": "2025-08-05T20:40:34.018300Z",
     "shell.execute_reply": "2025-08-05T20:40:34.017569Z"
    },
    "papermill": {
     "duration": 0.194974,
     "end_time": "2025-08-05T20:40:34.019515",
     "exception": false,
     "start_time": "2025-08-05T20:40:33.824541",
     "status": "completed"
    },
    "tags": []
   },
   "outputs": [
    {
     "data": {
      "text/plain": [
       "0.864730799242002"
      ]
     },
     "execution_count": 34,
     "metadata": {},
     "output_type": "execute_result"
    }
   ],
   "source": [
    "probs_test = model.predict_proba(X_test)\n",
    "\n",
    "'''\n",
    "Below code returns a boolean array (or binary 0/1 array depending on how it’s used) where each element \n",
    "is True if the probability of class 1 is greater than or equal to the threshold, and False otherwise.\n",
    "'''\n",
    "y_pred_default = predict_w_threshold(probs_test, 0.5)\n",
    "\n",
    "from sklearn.metrics import accuracy_score\n",
    "\n",
    "# Naive prediction\n",
    "accuracy_score(y_true = y_true, y_pred = y_pred_default)"
   ]
  },
  {
   "cell_type": "code",
   "execution_count": 35,
   "id": "081964c3",
   "metadata": {
    "execution": {
     "iopub.execute_input": "2025-08-05T20:40:34.048016Z",
     "iopub.status.busy": "2025-08-05T20:40:34.047713Z",
     "iopub.status.idle": "2025-08-05T20:40:34.214371Z",
     "shell.execute_reply": "2025-08-05T20:40:34.213504Z"
    },
    "papermill": {
     "duration": 0.185307,
     "end_time": "2025-08-05T20:40:34.215752",
     "exception": false,
     "start_time": "2025-08-05T20:40:34.030445",
     "status": "completed"
    },
    "tags": []
   },
   "outputs": [
    {
     "data": {
      "text/plain": [
       "array([0, 0, 0, ..., 0, 0, 0])"
      ]
     },
     "execution_count": 35,
     "metadata": {},
     "output_type": "execute_result"
    }
   ],
   "source": [
    "model.predict(X_test)"
   ]
  },
  {
   "cell_type": "markdown",
   "id": "56c9705b",
   "metadata": {
    "papermill": {
     "duration": 0.014689,
     "end_time": "2025-08-05T20:40:34.241311",
     "exception": false,
     "start_time": "2025-08-05T20:40:34.226622",
     "status": "completed"
    },
    "tags": []
   },
   "source": [
    "# Conformal Prediction"
   ]
  },
  {
   "cell_type": "code",
   "execution_count": 36,
   "id": "160ec6ff",
   "metadata": {
    "execution": {
     "iopub.execute_input": "2025-08-05T20:40:34.266010Z",
     "iopub.status.busy": "2025-08-05T20:40:34.265683Z",
     "iopub.status.idle": "2025-08-05T20:40:34.269827Z",
     "shell.execute_reply": "2025-08-05T20:40:34.269049Z"
    },
    "papermill": {
     "duration": 0.016966,
     "end_time": "2025-08-05T20:40:34.271282",
     "exception": false,
     "start_time": "2025-08-05T20:40:34.254316",
     "status": "completed"
    },
    "tags": []
   },
   "outputs": [],
   "source": [
    "# Miscoverage level for conformal prediction (10% allowed error rate => 90% target coverage)\n",
    "alpha = 0.1"
   ]
  },
  {
   "cell_type": "code",
   "execution_count": 37,
   "id": "eadf4555-3dd3-440e-8e35-f82a4ad9f855",
   "metadata": {
    "execution": {
     "iopub.execute_input": "2025-08-05T20:40:34.293359Z",
     "iopub.status.busy": "2025-08-05T20:40:34.292985Z",
     "iopub.status.idle": "2025-08-05T20:40:34.456876Z",
     "shell.execute_reply": "2025-08-05T20:40:34.456082Z"
    },
    "papermill": {
     "duration": 0.176264,
     "end_time": "2025-08-05T20:40:34.458363",
     "exception": false,
     "start_time": "2025-08-05T20:40:34.282099",
     "status": "completed"
    },
    "tags": []
   },
   "outputs": [],
   "source": [
    "probs_calib = model.predict_proba(X_calib)"
   ]
  },
  {
   "cell_type": "code",
   "execution_count": 38,
   "id": "2ed93547-6d5d-4983-9b36-1ecb300da49a",
   "metadata": {
    "execution": {
     "iopub.execute_input": "2025-08-05T20:40:34.481140Z",
     "iopub.status.busy": "2025-08-05T20:40:34.480410Z",
     "iopub.status.idle": "2025-08-05T20:40:34.484909Z",
     "shell.execute_reply": "2025-08-05T20:40:34.484166Z"
    },
    "papermill": {
     "duration": 0.016909,
     "end_time": "2025-08-05T20:40:34.486353",
     "exception": false,
     "start_time": "2025-08-05T20:40:34.469444",
     "status": "completed"
    },
    "tags": []
   },
   "outputs": [],
   "source": [
    "y_calib = y_calib.values.ravel().astype(int)"
   ]
  },
  {
   "cell_type": "code",
   "execution_count": 39,
   "id": "65d1320d-f588-4b38-9072-62af1ae97f7d",
   "metadata": {
    "execution": {
     "iopub.execute_input": "2025-08-05T20:40:34.508889Z",
     "iopub.status.busy": "2025-08-05T20:40:34.508259Z",
     "iopub.status.idle": "2025-08-05T20:40:34.513794Z",
     "shell.execute_reply": "2025-08-05T20:40:34.512995Z"
    },
    "papermill": {
     "duration": 0.017848,
     "end_time": "2025-08-05T20:40:34.515129",
     "exception": false,
     "start_time": "2025-08-05T20:40:34.497281",
     "status": "completed"
    },
    "tags": []
   },
   "outputs": [],
   "source": [
    "from fairness_multiverse.conformal import compute_nc_scores\n",
    "\n",
    "# Compute nonconformity scores on calibration set (1 - probability of true class)\n",
    "nc_scores = compute_nc_scores(probs_calib, y_calib)"
   ]
  },
  {
   "cell_type": "code",
   "execution_count": 40,
   "id": "df3b8ca3-53b7-43d5-9667-7c85da7aeda2",
   "metadata": {
    "execution": {
     "iopub.execute_input": "2025-08-05T20:40:34.537089Z",
     "iopub.status.busy": "2025-08-05T20:40:34.536610Z",
     "iopub.status.idle": "2025-08-05T20:40:34.541733Z",
     "shell.execute_reply": "2025-08-05T20:40:34.540916Z"
    },
    "papermill": {
     "duration": 0.017354,
     "end_time": "2025-08-05T20:40:34.543106",
     "exception": false,
     "start_time": "2025-08-05T20:40:34.525752",
     "status": "completed"
    },
    "tags": []
   },
   "outputs": [],
   "source": [
    "from fairness_multiverse.conformal import find_threshold\n",
    "\n",
    "# Find conformal threshold q_hat for the given alpha (split conformal method)\n",
    "q_hat = find_threshold(nc_scores, alpha)"
   ]
  },
  {
   "cell_type": "code",
   "execution_count": 41,
   "id": "4d29e6c1-0ef6-4aa4-b8fe-4fe79b0d033a",
   "metadata": {
    "execution": {
     "iopub.execute_input": "2025-08-05T20:40:34.565481Z",
     "iopub.status.busy": "2025-08-05T20:40:34.564997Z",
     "iopub.status.idle": "2025-08-05T20:40:34.570761Z",
     "shell.execute_reply": "2025-08-05T20:40:34.570049Z"
    },
    "papermill": {
     "duration": 0.018212,
     "end_time": "2025-08-05T20:40:34.572134",
     "exception": false,
     "start_time": "2025-08-05T20:40:34.553922",
     "status": "completed"
    },
    "tags": []
   },
   "outputs": [
    {
     "data": {
      "text/plain": [
       "0.6781173398788518"
      ]
     },
     "execution_count": 41,
     "metadata": {},
     "output_type": "execute_result"
    }
   ],
   "source": [
    "q_hat"
   ]
  },
  {
   "cell_type": "code",
   "execution_count": 42,
   "id": "92460794-cdac-4be2-ba28-f28c0515a6fb",
   "metadata": {
    "execution": {
     "iopub.execute_input": "2025-08-05T20:40:34.594947Z",
     "iopub.status.busy": "2025-08-05T20:40:34.594360Z",
     "iopub.status.idle": "2025-08-05T20:40:35.258818Z",
     "shell.execute_reply": "2025-08-05T20:40:35.258054Z"
    },
    "papermill": {
     "duration": 0.677088,
     "end_time": "2025-08-05T20:40:35.260246",
     "exception": false,
     "start_time": "2025-08-05T20:40:34.583158",
     "status": "completed"
    },
    "tags": []
   },
   "outputs": [],
   "source": [
    "from fairness_multiverse.conformal import predict_conformal_sets\n",
    "\n",
    "# Generate prediction sets for each test example\n",
    "pred_sets = predict_conformal_sets(model, X_test, q_hat)"
   ]
  },
  {
   "cell_type": "code",
   "execution_count": 43,
   "id": "d90c9a65-e6db-4f5d-80cd-e68fb7e46829",
   "metadata": {
    "execution": {
     "iopub.execute_input": "2025-08-05T20:40:35.283662Z",
     "iopub.status.busy": "2025-08-05T20:40:35.283150Z",
     "iopub.status.idle": "2025-08-05T20:40:35.287776Z",
     "shell.execute_reply": "2025-08-05T20:40:35.286965Z"
    },
    "papermill": {
     "duration": 0.017632,
     "end_time": "2025-08-05T20:40:35.289104",
     "exception": false,
     "start_time": "2025-08-05T20:40:35.271472",
     "status": "completed"
    },
    "tags": []
   },
   "outputs": [],
   "source": [
    "y_true = y_true.squeeze()"
   ]
  },
  {
   "cell_type": "code",
   "execution_count": 44,
   "id": "3a58a54a-1e68-46b9-927a-df01f18aebc8",
   "metadata": {
    "execution": {
     "iopub.execute_input": "2025-08-05T20:40:35.312326Z",
     "iopub.status.busy": "2025-08-05T20:40:35.311751Z",
     "iopub.status.idle": "2025-08-05T20:40:35.791635Z",
     "shell.execute_reply": "2025-08-05T20:40:35.790883Z"
    },
    "papermill": {
     "duration": 0.492727,
     "end_time": "2025-08-05T20:40:35.793017",
     "exception": false,
     "start_time": "2025-08-05T20:40:35.300290",
     "status": "completed"
    },
    "tags": []
   },
   "outputs": [],
   "source": [
    "from fairness_multiverse.conformal import evaluate_sets\n",
    "\n",
    "# Evaluate coverage and average set size on test data\n",
    "metrics = evaluate_sets(pred_sets, y_true)"
   ]
  },
  {
   "cell_type": "markdown",
   "id": "2b569c12-9aaa-4c88-98c9-bbcd0cf3ebb8",
   "metadata": {
    "papermill": {
     "duration": 0.010458,
     "end_time": "2025-08-05T20:40:35.814780",
     "exception": false,
     "start_time": "2025-08-05T20:40:35.804322",
     "status": "completed"
    },
    "tags": []
   },
   "source": [
    "# CP Metrics"
   ]
  },
  {
   "cell_type": "code",
   "execution_count": 45,
   "id": "5ce0a5cb-201f-45a0-ade5-94c7f0bd6095",
   "metadata": {
    "execution": {
     "iopub.execute_input": "2025-08-05T20:40:35.837779Z",
     "iopub.status.busy": "2025-08-05T20:40:35.837071Z",
     "iopub.status.idle": "2025-08-05T20:40:35.843108Z",
     "shell.execute_reply": "2025-08-05T20:40:35.842362Z"
    },
    "papermill": {
     "duration": 0.018925,
     "end_time": "2025-08-05T20:40:35.844466",
     "exception": false,
     "start_time": "2025-08-05T20:40:35.825541",
     "status": "completed"
    },
    "tags": []
   },
   "outputs": [
    {
     "data": {
      "text/plain": [
       "{'coverage': 0.9123954966001561, 'avg_size': 1.1264519005684985}"
      ]
     },
     "execution_count": 45,
     "metadata": {},
     "output_type": "execute_result"
    }
   ],
   "source": [
    "metrics"
   ]
  },
  {
   "cell_type": "code",
   "execution_count": 46,
   "id": "9b9a838d-31c9-430b-ae14-12baee460d17",
   "metadata": {
    "execution": {
     "iopub.execute_input": "2025-08-05T20:40:35.867262Z",
     "iopub.status.busy": "2025-08-05T20:40:35.866782Z",
     "iopub.status.idle": "2025-08-05T20:40:35.871594Z",
     "shell.execute_reply": "2025-08-05T20:40:35.870886Z"
    },
    "papermill": {
     "duration": 0.017347,
     "end_time": "2025-08-05T20:40:35.872929",
     "exception": false,
     "start_time": "2025-08-05T20:40:35.855582",
     "status": "completed"
    },
    "tags": []
   },
   "outputs": [],
   "source": [
    "example_universe = universe.copy()\n",
    "universe_training_year = example_universe.get(\"training_year\")\n",
    "universe_training_size = example_universe.get(\"training_size\")\n",
    "universe_scale = example_universe.get(\"scale\")\n",
    "universe_model = example_universe.get(\"model\")\n",
    "universe_exclude_features = example_universe.get(\"exclude_features\")\n",
    "universe_exclude_subgroups = example_universe.get(\"exclude_subgroups\")"
   ]
  },
  {
   "cell_type": "code",
   "execution_count": 47,
   "id": "f4b6a8ac-9dc0-4245-8a91-5b3b5999c4f9",
   "metadata": {
    "execution": {
     "iopub.execute_input": "2025-08-05T20:40:35.896033Z",
     "iopub.status.busy": "2025-08-05T20:40:35.895546Z",
     "iopub.status.idle": "2025-08-05T20:40:35.900788Z",
     "shell.execute_reply": "2025-08-05T20:40:35.900028Z"
    },
    "papermill": {
     "duration": 0.017894,
     "end_time": "2025-08-05T20:40:35.902147",
     "exception": false,
     "start_time": "2025-08-05T20:40:35.884253",
     "status": "completed"
    },
    "tags": []
   },
   "outputs": [],
   "source": [
    "cp_metrics_dict = {\n",
    "    \"universe_id\": [universe_id],\n",
    "    \"universe_training_year\": [universe_training_year],\n",
    "    \"universe_training_size\": [universe_training_size],\n",
    "    \"universe_scale\": [universe_scale],\n",
    "    \"universe_model\": [universe_model],\n",
    "    \"universe_exclude_features\": [universe_exclude_features],\n",
    "    \"universe_exclude_subgroups\": [universe_exclude_subgroups],\n",
    "    \"q_hat\": [q_hat],\n",
    "    \"coverage\": [metrics[\"coverage\"]],\n",
    "    \"avg_size\": [metrics[\"avg_size\"]],\n",
    "}"
   ]
  },
  {
   "cell_type": "code",
   "execution_count": 48,
   "id": "908acbb1-0371-4915-85ca-3fa520d2efe2",
   "metadata": {
    "execution": {
     "iopub.execute_input": "2025-08-05T20:40:35.925219Z",
     "iopub.status.busy": "2025-08-05T20:40:35.924743Z",
     "iopub.status.idle": "2025-08-05T20:40:35.930776Z",
     "shell.execute_reply": "2025-08-05T20:40:35.929999Z"
    },
    "papermill": {
     "duration": 0.018705,
     "end_time": "2025-08-05T20:40:35.932117",
     "exception": false,
     "start_time": "2025-08-05T20:40:35.913412",
     "status": "completed"
    },
    "tags": []
   },
   "outputs": [
    {
     "data": {
      "text/plain": [
       "{'universe_id': ['25faeb70ded45f4aeb91f8ea161ba27a'],\n",
       " 'universe_training_year': ['2014'],\n",
       " 'universe_training_size': ['25k'],\n",
       " 'universe_scale': ['scale'],\n",
       " 'universe_model': ['elasticnet'],\n",
       " 'universe_exclude_features': ['age'],\n",
       " 'universe_exclude_subgroups': ['keep-all'],\n",
       " 'q_hat': [0.6781173398788518],\n",
       " 'coverage': [0.9123954966001561],\n",
       " 'avg_size': [1.1264519005684985]}"
      ]
     },
     "execution_count": 48,
     "metadata": {},
     "output_type": "execute_result"
    }
   ],
   "source": [
    "cp_metrics_dict"
   ]
  },
  {
   "cell_type": "code",
   "execution_count": 49,
   "id": "33007efc-14e9-4ec6-97ac-56a455c82265",
   "metadata": {
    "execution": {
     "iopub.execute_input": "2025-08-05T20:40:35.955629Z",
     "iopub.status.busy": "2025-08-05T20:40:35.954879Z",
     "iopub.status.idle": "2025-08-05T20:40:35.959718Z",
     "shell.execute_reply": "2025-08-05T20:40:35.958992Z"
    },
    "papermill": {
     "duration": 0.017699,
     "end_time": "2025-08-05T20:40:35.961078",
     "exception": false,
     "start_time": "2025-08-05T20:40:35.943379",
     "status": "completed"
    },
    "tags": []
   },
   "outputs": [],
   "source": [
    "cp_metrics_df = pd.DataFrame(cp_metrics_dict)"
   ]
  },
  {
   "cell_type": "code",
   "execution_count": 50,
   "id": "db12611b-57b2-4910-b9d0-355adfd6e7bf",
   "metadata": {
    "execution": {
     "iopub.execute_input": "2025-08-05T20:40:35.985058Z",
     "iopub.status.busy": "2025-08-05T20:40:35.984313Z",
     "iopub.status.idle": "2025-08-05T20:40:35.997624Z",
     "shell.execute_reply": "2025-08-05T20:40:35.996891Z"
    },
    "papermill": {
     "duration": 0.026072,
     "end_time": "2025-08-05T20:40:35.998830",
     "exception": false,
     "start_time": "2025-08-05T20:40:35.972758",
     "status": "completed"
    },
    "tags": []
   },
   "outputs": [
    {
     "data": {
      "text/html": [
       "<div>\n",
       "<style scoped>\n",
       "    .dataframe tbody tr th:only-of-type {\n",
       "        vertical-align: middle;\n",
       "    }\n",
       "\n",
       "    .dataframe tbody tr th {\n",
       "        vertical-align: top;\n",
       "    }\n",
       "\n",
       "    .dataframe thead th {\n",
       "        text-align: right;\n",
       "    }\n",
       "</style>\n",
       "<table border=\"1\" class=\"dataframe\">\n",
       "  <thead>\n",
       "    <tr style=\"text-align: right;\">\n",
       "      <th></th>\n",
       "      <th>universe_id</th>\n",
       "      <th>universe_training_year</th>\n",
       "      <th>universe_training_size</th>\n",
       "      <th>universe_scale</th>\n",
       "      <th>universe_model</th>\n",
       "      <th>universe_exclude_features</th>\n",
       "      <th>universe_exclude_subgroups</th>\n",
       "      <th>q_hat</th>\n",
       "      <th>coverage</th>\n",
       "      <th>avg_size</th>\n",
       "    </tr>\n",
       "  </thead>\n",
       "  <tbody>\n",
       "    <tr>\n",
       "      <th>0</th>\n",
       "      <td>25faeb70ded45f4aeb91f8ea161ba27a</td>\n",
       "      <td>2014</td>\n",
       "      <td>25k</td>\n",
       "      <td>scale</td>\n",
       "      <td>elasticnet</td>\n",
       "      <td>age</td>\n",
       "      <td>keep-all</td>\n",
       "      <td>0.678117</td>\n",
       "      <td>0.912395</td>\n",
       "      <td>1.126452</td>\n",
       "    </tr>\n",
       "  </tbody>\n",
       "</table>\n",
       "</div>"
      ],
      "text/plain": [
       "                        universe_id universe_training_year  \\\n",
       "0  25faeb70ded45f4aeb91f8ea161ba27a                   2014   \n",
       "\n",
       "  universe_training_size universe_scale universe_model  \\\n",
       "0                    25k          scale     elasticnet   \n",
       "\n",
       "  universe_exclude_features universe_exclude_subgroups     q_hat  coverage  \\\n",
       "0                       age                   keep-all  0.678117  0.912395   \n",
       "\n",
       "   avg_size  \n",
       "0  1.126452  "
      ]
     },
     "execution_count": 50,
     "metadata": {},
     "output_type": "execute_result"
    }
   ],
   "source": [
    "cp_metrics_df"
   ]
  },
  {
   "cell_type": "code",
   "execution_count": 51,
   "id": "b7fbde55-a0a1-47e4-9af6-fe4a17fa8c61",
   "metadata": {
    "execution": {
     "iopub.execute_input": "2025-08-05T20:40:36.022293Z",
     "iopub.status.busy": "2025-08-05T20:40:36.021788Z",
     "iopub.status.idle": "2025-08-05T20:40:36.025566Z",
     "shell.execute_reply": "2025-08-05T20:40:36.024815Z"
    },
    "papermill": {
     "duration": 0.016954,
     "end_time": "2025-08-05T20:40:36.026999",
     "exception": false,
     "start_time": "2025-08-05T20:40:36.010045",
     "status": "completed"
    },
    "tags": []
   },
   "outputs": [],
   "source": [
    "# Conditional Coverage & looking at subgroups"
   ]
  },
  {
   "cell_type": "code",
   "execution_count": 52,
   "id": "027ae886-68dd-4141-96c7-805a5450e1ef",
   "metadata": {
    "execution": {
     "iopub.execute_input": "2025-08-05T20:40:36.050856Z",
     "iopub.status.busy": "2025-08-05T20:40:36.050370Z",
     "iopub.status.idle": "2025-08-05T20:40:36.216906Z",
     "shell.execute_reply": "2025-08-05T20:40:36.216154Z"
    },
    "papermill": {
     "duration": 0.179744,
     "end_time": "2025-08-05T20:40:36.218371",
     "exception": false,
     "start_time": "2025-08-05T20:40:36.038627",
     "status": "completed"
    },
    "tags": []
   },
   "outputs": [],
   "source": [
    "from fairness_multiverse.conformal import build_cp_groups\n",
    "\n",
    "cp_groups_df = build_cp_groups(pred_sets, y_true, X_test.index, org_test)\n",
    "#needs universe_id and setting"
   ]
  },
  {
   "cell_type": "code",
   "execution_count": 53,
   "id": "6cbdab96-b2b2-45af-ad54-d0516db2e28d",
   "metadata": {
    "execution": {
     "iopub.execute_input": "2025-08-05T20:40:36.242612Z",
     "iopub.status.busy": "2025-08-05T20:40:36.242325Z",
     "iopub.status.idle": "2025-08-05T20:40:37.213616Z",
     "shell.execute_reply": "2025-08-05T20:40:37.212805Z"
    },
    "papermill": {
     "duration": 0.98478,
     "end_time": "2025-08-05T20:40:37.215023",
     "exception": false,
     "start_time": "2025-08-05T20:40:36.230243",
     "status": "completed"
    },
    "tags": []
   },
   "outputs": [],
   "source": [
    "# Define covered = 1 if true_label is in the predicted set\n",
    "cp_groups_df['covered'] = cp_groups_df.apply(\n",
    "    lambda r: int(r['true_label'] in r['pred_set']),\n",
    "    axis=1\n",
    ")"
   ]
  },
  {
   "cell_type": "code",
   "execution_count": 54,
   "id": "338ff529-1a6b-4b87-a931-8e4788d52aad",
   "metadata": {
    "execution": {
     "iopub.execute_input": "2025-08-05T20:40:37.241770Z",
     "iopub.status.busy": "2025-08-05T20:40:37.241468Z",
     "iopub.status.idle": "2025-08-05T20:40:37.245963Z",
     "shell.execute_reply": "2025-08-05T20:40:37.245165Z"
    },
    "papermill": {
     "duration": 0.018384,
     "end_time": "2025-08-05T20:40:37.247297",
     "exception": false,
     "start_time": "2025-08-05T20:40:37.228913",
     "status": "completed"
    },
    "tags": []
   },
   "outputs": [],
   "source": [
    "#cp_groups_df"
   ]
  },
  {
   "cell_type": "code",
   "execution_count": 55,
   "id": "90032e27-66df-4540-9169-4e89cfbaa758",
   "metadata": {
    "execution": {
     "iopub.execute_input": "2025-08-05T20:40:37.271112Z",
     "iopub.status.busy": "2025-08-05T20:40:37.270634Z",
     "iopub.status.idle": "2025-08-05T20:40:37.279856Z",
     "shell.execute_reply": "2025-08-05T20:40:37.278811Z"
    },
    "papermill": {
     "duration": 0.023201,
     "end_time": "2025-08-05T20:40:37.282116",
     "exception": false,
     "start_time": "2025-08-05T20:40:37.258915",
     "status": "completed"
    },
    "tags": []
   },
   "outputs": [],
   "source": [
    "subgroups = ['frau1','nongerman','nongerman_male','nongerman_female']\n",
    "\n",
    "# Conditional coverage for subgroup==1\n",
    "cond_coverage = {\n",
    "    g: cp_groups_df.loc[cp_groups_df[g]==1, 'covered'].mean()\n",
    "    for g in subgroups\n",
    "}"
   ]
  },
  {
   "cell_type": "code",
   "execution_count": 56,
   "id": "1e348fb1-b9c3-45bc-ba23-f016827a7e0d",
   "metadata": {
    "execution": {
     "iopub.execute_input": "2025-08-05T20:40:37.330511Z",
     "iopub.status.busy": "2025-08-05T20:40:37.329736Z",
     "iopub.status.idle": "2025-08-05T20:40:37.337812Z",
     "shell.execute_reply": "2025-08-05T20:40:37.336719Z"
    },
    "papermill": {
     "duration": 0.032768,
     "end_time": "2025-08-05T20:40:37.339478",
     "exception": false,
     "start_time": "2025-08-05T20:40:37.306710",
     "status": "completed"
    },
    "tags": []
   },
   "outputs": [
    {
     "data": {
      "text/plain": [
       "{'frau1': 0.9114435907804286,\n",
       " 'nongerman': 0.9105147925672262,\n",
       " 'nongerman_male': 0.9258758893992615,\n",
       " 'nongerman_female': 0.885096870342772}"
      ]
     },
     "execution_count": 56,
     "metadata": {},
     "output_type": "execute_result"
    }
   ],
   "source": [
    "cond_coverage"
   ]
  },
  {
   "cell_type": "code",
   "execution_count": 57,
   "id": "f5093324-c3dd-4d63-bc4c-8d945e5c8bbb",
   "metadata": {
    "execution": {
     "iopub.execute_input": "2025-08-05T20:40:37.387358Z",
     "iopub.status.busy": "2025-08-05T20:40:37.386525Z",
     "iopub.status.idle": "2025-08-05T20:40:37.393641Z",
     "shell.execute_reply": "2025-08-05T20:40:37.392609Z"
    },
    "papermill": {
     "duration": 0.0331,
     "end_time": "2025-08-05T20:40:37.395601",
     "exception": false,
     "start_time": "2025-08-05T20:40:37.362501",
     "status": "completed"
    },
    "tags": []
   },
   "outputs": [],
   "source": [
    "for subgroup, cov in cond_coverage.items():\n",
    "    cp_metrics_df[f\"cov_{subgroup}\"] = cov"
   ]
  },
  {
   "cell_type": "code",
   "execution_count": 58,
   "id": "6e872e10-dbe5-49e8-b554-5030c98ff75d",
   "metadata": {
    "execution": {
     "iopub.execute_input": "2025-08-05T20:40:37.445231Z",
     "iopub.status.busy": "2025-08-05T20:40:37.444420Z",
     "iopub.status.idle": "2025-08-05T20:40:37.464246Z",
     "shell.execute_reply": "2025-08-05T20:40:37.463244Z"
    },
    "papermill": {
     "duration": 0.046616,
     "end_time": "2025-08-05T20:40:37.466027",
     "exception": false,
     "start_time": "2025-08-05T20:40:37.419411",
     "status": "completed"
    },
    "tags": []
   },
   "outputs": [
    {
     "data": {
      "text/html": [
       "<div>\n",
       "<style scoped>\n",
       "    .dataframe tbody tr th:only-of-type {\n",
       "        vertical-align: middle;\n",
       "    }\n",
       "\n",
       "    .dataframe tbody tr th {\n",
       "        vertical-align: top;\n",
       "    }\n",
       "\n",
       "    .dataframe thead th {\n",
       "        text-align: right;\n",
       "    }\n",
       "</style>\n",
       "<table border=\"1\" class=\"dataframe\">\n",
       "  <thead>\n",
       "    <tr style=\"text-align: right;\">\n",
       "      <th></th>\n",
       "      <th>universe_id</th>\n",
       "      <th>universe_training_year</th>\n",
       "      <th>universe_training_size</th>\n",
       "      <th>universe_scale</th>\n",
       "      <th>universe_model</th>\n",
       "      <th>universe_exclude_features</th>\n",
       "      <th>universe_exclude_subgroups</th>\n",
       "      <th>q_hat</th>\n",
       "      <th>coverage</th>\n",
       "      <th>avg_size</th>\n",
       "      <th>cov_frau1</th>\n",
       "      <th>cov_nongerman</th>\n",
       "      <th>cov_nongerman_male</th>\n",
       "      <th>cov_nongerman_female</th>\n",
       "    </tr>\n",
       "  </thead>\n",
       "  <tbody>\n",
       "    <tr>\n",
       "      <th>0</th>\n",
       "      <td>25faeb70ded45f4aeb91f8ea161ba27a</td>\n",
       "      <td>2014</td>\n",
       "      <td>25k</td>\n",
       "      <td>scale</td>\n",
       "      <td>elasticnet</td>\n",
       "      <td>age</td>\n",
       "      <td>keep-all</td>\n",
       "      <td>0.678117</td>\n",
       "      <td>0.912395</td>\n",
       "      <td>1.126452</td>\n",
       "      <td>0.911444</td>\n",
       "      <td>0.910515</td>\n",
       "      <td>0.925876</td>\n",
       "      <td>0.885097</td>\n",
       "    </tr>\n",
       "  </tbody>\n",
       "</table>\n",
       "</div>"
      ],
      "text/plain": [
       "                        universe_id universe_training_year  \\\n",
       "0  25faeb70ded45f4aeb91f8ea161ba27a                   2014   \n",
       "\n",
       "  universe_training_size universe_scale universe_model  \\\n",
       "0                    25k          scale     elasticnet   \n",
       "\n",
       "  universe_exclude_features universe_exclude_subgroups     q_hat  coverage  \\\n",
       "0                       age                   keep-all  0.678117  0.912395   \n",
       "\n",
       "   avg_size  cov_frau1  cov_nongerman  cov_nongerman_male  \\\n",
       "0  1.126452   0.911444       0.910515            0.925876   \n",
       "\n",
       "   cov_nongerman_female  \n",
       "0              0.885097  "
      ]
     },
     "execution_count": 58,
     "metadata": {},
     "output_type": "execute_result"
    }
   ],
   "source": [
    "cp_metrics_df"
   ]
  },
  {
   "cell_type": "markdown",
   "id": "33774451",
   "metadata": {
    "papermill": {
     "duration": 0.02347,
     "end_time": "2025-08-05T20:40:37.514209",
     "exception": false,
     "start_time": "2025-08-05T20:40:37.490739",
     "status": "completed"
    },
    "tags": []
   },
   "source": [
    "# (Fairness) Metrics"
   ]
  },
  {
   "cell_type": "code",
   "execution_count": 59,
   "id": "debc5d62",
   "metadata": {
    "execution": {
     "iopub.execute_input": "2025-08-05T20:40:37.563080Z",
     "iopub.status.busy": "2025-08-05T20:40:37.562164Z",
     "iopub.status.idle": "2025-08-05T20:40:37.583876Z",
     "shell.execute_reply": "2025-08-05T20:40:37.582941Z"
    },
    "papermill": {
     "duration": 0.047954,
     "end_time": "2025-08-05T20:40:37.585692",
     "exception": false,
     "start_time": "2025-08-05T20:40:37.537738",
     "status": "completed"
    },
    "tags": []
   },
   "outputs": [],
   "source": [
    "# do I need to include maxdeutsch1.missing?\n",
    "\n",
    "import numpy as np\n",
    "\n",
    "colname_to_bin = \"maxdeutsch1\"\n",
    "majority_value = org_train[colname_to_bin].mode()[0]\n",
    "\n",
    "org_test[\"majmin\"] = np.where(org_test[colname_to_bin] == majority_value, \"majority\", \"minority\")"
   ]
  },
  {
   "cell_type": "code",
   "execution_count": 60,
   "id": "06a50de5",
   "metadata": {
    "execution": {
     "iopub.execute_input": "2025-08-05T20:40:37.633431Z",
     "iopub.status.busy": "2025-08-05T20:40:37.632873Z",
     "iopub.status.idle": "2025-08-05T20:40:40.221709Z",
     "shell.execute_reply": "2025-08-05T20:40:40.220743Z"
    },
    "papermill": {
     "duration": 2.614691,
     "end_time": "2025-08-05T20:40:40.223498",
     "exception": false,
     "start_time": "2025-08-05T20:40:37.608807",
     "status": "completed"
    },
    "tags": []
   },
   "outputs": [],
   "source": [
    "example_universe = universe.copy()\n",
    "example_universe[\"cutoff\"] = example_universe[\"cutoff\"][0]\n",
    "example_universe[\"eval_fairness_grouping\"] = example_universe[\"eval_fairness_grouping\"][0]\n",
    "fairness_dict, metric_frame = universe_analysis.compute_metrics(\n",
    "    example_universe,\n",
    "    y_pred_prob=probs_test,\n",
    "    y_test=y_true,\n",
    "    org_test=org_test,\n",
    ")"
   ]
  },
  {
   "cell_type": "markdown",
   "id": "f95d4e02",
   "metadata": {
    "papermill": {
     "duration": 0.023462,
     "end_time": "2025-08-05T20:40:40.272509",
     "exception": false,
     "start_time": "2025-08-05T20:40:40.249047",
     "status": "completed"
    },
    "tags": []
   },
   "source": [
    "# Overall"
   ]
  },
  {
   "cell_type": "markdown",
   "id": "bdee4871",
   "metadata": {
    "papermill": {
     "duration": 0.024657,
     "end_time": "2025-08-05T20:40:40.321097",
     "exception": false,
     "start_time": "2025-08-05T20:40:40.296440",
     "status": "completed"
    },
    "tags": []
   },
   "source": [
    "Fairness\n",
    "Main fairness target: Equalized Odds. Seems to be a better fit than equal opportunity, since we're not only interested in Y = 1. Seems to be a better fit than demographic parity, since we also care about accuracy, not just equal distribution of preds.\n",
    "\n",
    "Pick column for computation of fairness metrics\n",
    "\n",
    "Performance\n",
    "Overall performance measures, most interesting in relation to the measures split by group below"
   ]
  },
  {
   "cell_type": "code",
   "execution_count": 61,
   "id": "c4e067c6",
   "metadata": {
    "execution": {
     "iopub.execute_input": "2025-08-05T20:40:40.359065Z",
     "iopub.status.busy": "2025-08-05T20:40:40.358565Z",
     "iopub.status.idle": "2025-08-05T20:40:40.369453Z",
     "shell.execute_reply": "2025-08-05T20:40:40.368131Z"
    },
    "papermill": {
     "duration": 0.02772,
     "end_time": "2025-08-05T20:40:40.371649",
     "exception": false,
     "start_time": "2025-08-05T20:40:40.343929",
     "status": "completed"
    },
    "tags": []
   },
   "outputs": [
    {
     "data": {
      "text/plain": [
       "accuracy                   0.225337\n",
       "balanced accuracy          0.550779\n",
       "f1                         0.246642\n",
       "precision                  0.140898\n",
       "false positive rate        0.886972\n",
       "false negative rate        0.011470\n",
       "selection rate             0.900000\n",
       "count                  89710.000000\n",
       "dtype: float64"
      ]
     },
     "execution_count": 61,
     "metadata": {},
     "output_type": "execute_result"
    }
   ],
   "source": [
    "metric_frame.overall"
   ]
  },
  {
   "cell_type": "markdown",
   "id": "e968fe9d",
   "metadata": {
    "papermill": {
     "duration": 0.030317,
     "end_time": "2025-08-05T20:40:40.433366",
     "exception": false,
     "start_time": "2025-08-05T20:40:40.403049",
     "status": "completed"
    },
    "tags": []
   },
   "source": [
    "By Group"
   ]
  },
  {
   "cell_type": "code",
   "execution_count": 62,
   "id": "ec325bce",
   "metadata": {
    "execution": {
     "iopub.execute_input": "2025-08-05T20:40:40.499431Z",
     "iopub.status.busy": "2025-08-05T20:40:40.498472Z",
     "iopub.status.idle": "2025-08-05T20:40:40.515685Z",
     "shell.execute_reply": "2025-08-05T20:40:40.514673Z"
    },
    "papermill": {
     "duration": 0.05368,
     "end_time": "2025-08-05T20:40:40.517640",
     "exception": false,
     "start_time": "2025-08-05T20:40:40.463960",
     "status": "completed"
    },
    "tags": []
   },
   "outputs": [
    {
     "data": {
      "text/html": [
       "<div>\n",
       "<style scoped>\n",
       "    .dataframe tbody tr th:only-of-type {\n",
       "        vertical-align: middle;\n",
       "    }\n",
       "\n",
       "    .dataframe tbody tr th {\n",
       "        vertical-align: top;\n",
       "    }\n",
       "\n",
       "    .dataframe thead th {\n",
       "        text-align: right;\n",
       "    }\n",
       "</style>\n",
       "<table border=\"1\" class=\"dataframe\">\n",
       "  <thead>\n",
       "    <tr style=\"text-align: right;\">\n",
       "      <th></th>\n",
       "      <th>accuracy</th>\n",
       "      <th>balanced accuracy</th>\n",
       "      <th>f1</th>\n",
       "      <th>precision</th>\n",
       "      <th>false positive rate</th>\n",
       "      <th>false negative rate</th>\n",
       "      <th>selection rate</th>\n",
       "      <th>count</th>\n",
       "    </tr>\n",
       "    <tr>\n",
       "      <th>majmin</th>\n",
       "      <th></th>\n",
       "      <th></th>\n",
       "      <th></th>\n",
       "      <th></th>\n",
       "      <th></th>\n",
       "      <th></th>\n",
       "      <th></th>\n",
       "      <th></th>\n",
       "    </tr>\n",
       "  </thead>\n",
       "  <tbody>\n",
       "    <tr>\n",
       "      <th>majority</th>\n",
       "      <td>0.248243</td>\n",
       "      <td>0.561419</td>\n",
       "      <td>0.257613</td>\n",
       "      <td>0.148137</td>\n",
       "      <td>0.864251</td>\n",
       "      <td>0.012910</td>\n",
       "      <td>0.880483</td>\n",
       "      <td>69170.0</td>\n",
       "    </tr>\n",
       "    <tr>\n",
       "      <th>minority</th>\n",
       "      <td>0.148199</td>\n",
       "      <td>0.516029</td>\n",
       "      <td>0.212034</td>\n",
       "      <td>0.118673</td>\n",
       "      <td>0.962029</td>\n",
       "      <td>0.005912</td>\n",
       "      <td>0.965725</td>\n",
       "      <td>20540.0</td>\n",
       "    </tr>\n",
       "  </tbody>\n",
       "</table>\n",
       "</div>"
      ],
      "text/plain": [
       "          accuracy  balanced accuracy        f1  precision  \\\n",
       "majmin                                                       \n",
       "majority  0.248243           0.561419  0.257613   0.148137   \n",
       "minority  0.148199           0.516029  0.212034   0.118673   \n",
       "\n",
       "          false positive rate  false negative rate  selection rate    count  \n",
       "majmin                                                                       \n",
       "majority             0.864251             0.012910        0.880483  69170.0  \n",
       "minority             0.962029             0.005912        0.965725  20540.0  "
      ]
     },
     "execution_count": 62,
     "metadata": {},
     "output_type": "execute_result"
    }
   ],
   "source": [
    "metric_frame.by_group"
   ]
  },
  {
   "cell_type": "code",
   "execution_count": 63,
   "id": "a9ddbe63",
   "metadata": {
    "execution": {
     "iopub.execute_input": "2025-08-05T20:40:40.559625Z",
     "iopub.status.busy": "2025-08-05T20:40:40.559158Z",
     "iopub.status.idle": "2025-08-05T20:40:43.040080Z",
     "shell.execute_reply": "2025-08-05T20:40:43.039195Z"
    },
    "papermill": {
     "duration": 2.496687,
     "end_time": "2025-08-05T20:40:43.041783",
     "exception": false,
     "start_time": "2025-08-05T20:40:40.545096",
     "status": "completed"
    },
    "tags": []
   },
   "outputs": [
    {
     "data": {
      "text/plain": [
       "array([[<Axes: title={'center': 'accuracy'}, xlabel='majmin'>,\n",
       "        <Axes: title={'center': 'balanced accuracy'}, xlabel='majmin'>,\n",
       "        <Axes: title={'center': 'f1'}, xlabel='majmin'>],\n",
       "       [<Axes: title={'center': 'precision'}, xlabel='majmin'>,\n",
       "        <Axes: title={'center': 'false positive rate'}, xlabel='majmin'>,\n",
       "        <Axes: title={'center': 'false negative rate'}, xlabel='majmin'>],\n",
       "       [<Axes: title={'center': 'selection rate'}, xlabel='majmin'>,\n",
       "        <Axes: title={'center': 'count'}, xlabel='majmin'>,\n",
       "        <Axes: xlabel='majmin'>]], dtype=object)"
      ]
     },
     "execution_count": 63,
     "metadata": {},
     "output_type": "execute_result"
    },
    {
     "data": {
      "image/png": "[encoded data removed]",
      "text/plain": [
       "<Figure size 1200x800 with 9 Axes>"
      ]
     },
     "metadata": {},
     "output_type": "display_data"
    }
   ],
   "source": [
    "# In a graphic\n",
    "metric_frame.by_group.plot.bar(\n",
    "    subplots=True,\n",
    "    layout=[3, 3],\n",
    "    legend=False,\n",
    "    figsize=[12, 8],\n",
    "    title=\"Show all metrics\",\n",
    ")"
   ]
  },
  {
   "cell_type": "markdown",
   "id": "f57a0bac",
   "metadata": {
    "papermill": {
     "duration": 0.022881,
     "end_time": "2025-08-05T20:40:43.088993",
     "exception": false,
     "start_time": "2025-08-05T20:40:43.066112",
     "status": "completed"
    },
    "tags": []
   },
   "source": [
    "# Final Output"
   ]
  },
  {
   "cell_type": "code",
   "execution_count": 64,
   "id": "96d280a3",
   "metadata": {
    "execution": {
     "iopub.execute_input": "2025-08-05T20:40:43.137599Z",
     "iopub.status.busy": "2025-08-05T20:40:43.136910Z",
     "iopub.status.idle": "2025-08-05T20:40:43.145233Z",
     "shell.execute_reply": "2025-08-05T20:40:43.144313Z"
    },
    "papermill": {
     "duration": 0.034677,
     "end_time": "2025-08-05T20:40:43.146825",
     "exception": false,
     "start_time": "2025-08-05T20:40:43.112148",
     "status": "completed"
    },
    "tags": []
   },
   "outputs": [
    {
     "data": {
      "text/plain": [
       "4"
      ]
     },
     "execution_count": 64,
     "metadata": {},
     "output_type": "execute_result"
    }
   ],
   "source": [
    "sub_universes = universe_analysis.generate_sub_universes()\n",
    "len(sub_universes)"
   ]
  },
  {
   "cell_type": "code",
   "execution_count": 65,
   "id": "92adf7ba",
   "metadata": {
    "execution": {
     "iopub.execute_input": "2025-08-05T20:40:43.197079Z",
     "iopub.status.busy": "2025-08-05T20:40:43.196343Z",
     "iopub.status.idle": "2025-08-05T20:40:43.202170Z",
     "shell.execute_reply": "2025-08-05T20:40:43.201185Z"
    },
    "papermill": {
     "duration": 0.032619,
     "end_time": "2025-08-05T20:40:43.203726",
     "exception": false,
     "start_time": "2025-08-05T20:40:43.171107",
     "status": "completed"
    },
    "tags": []
   },
   "outputs": [],
   "source": [
    "def filter_sub_universe_data(sub_universe, org_test):\n",
    "    # Keep all rows — no filtering\n",
    "    keep_rows_mask = np.ones(org_test.shape[0], dtype=bool)\n",
    "\n",
    "    print(f\"[INFO] Keeping all rows: {keep_rows_mask.sum()} rows retained.\")\n",
    "    return keep_rows_mask"
   ]
  },
  {
   "cell_type": "code",
   "execution_count": 66,
   "id": "4a759155",
   "metadata": {
    "execution": {
     "iopub.execute_input": "2025-08-05T20:40:43.245112Z",
     "iopub.status.busy": "2025-08-05T20:40:43.244570Z",
     "iopub.status.idle": "2025-08-05T20:40:52.667730Z",
     "shell.execute_reply": "2025-08-05T20:40:52.666612Z"
    },
    "papermill": {
     "duration": 9.43951,
     "end_time": "2025-08-05T20:40:52.669993",
     "exception": false,
     "start_time": "2025-08-05T20:40:43.230483",
     "status": "completed"
    },
    "tags": []
   },
   "outputs": [
    {
     "name": "stdout",
     "output_type": "stream",
     "text": [
      "Stopping execution_time clock.\n",
      "[INFO] Keeping all rows: 89710 rows retained.\n"
     ]
    },
    {
     "name": "stdout",
     "output_type": "stream",
     "text": [
      "[INFO] Keeping all rows: 89710 rows retained.\n"
     ]
    },
    {
     "name": "stdout",
     "output_type": "stream",
     "text": [
      "[INFO] Keeping all rows: 89710 rows retained.\n"
     ]
    },
    {
     "name": "stdout",
     "output_type": "stream",
     "text": [
      "[INFO] Keeping all rows: 89710 rows retained.\n"
     ]
    },
    {
     "data": {
      "text/html": [
       "<div>\n",
       "<style scoped>\n",
       "    .dataframe tbody tr th:only-of-type {\n",
       "        vertical-align: middle;\n",
       "    }\n",
       "\n",
       "    .dataframe tbody tr th {\n",
       "        vertical-align: top;\n",
       "    }\n",
       "\n",
       "    .dataframe thead th {\n",
       "        text-align: right;\n",
       "    }\n",
       "</style>\n",
       "<table border=\"1\" class=\"dataframe\">\n",
       "  <thead>\n",
       "    <tr style=\"text-align: right;\">\n",
       "      <th></th>\n",
       "      <th>run_no</th>\n",
       "      <th>universe_id</th>\n",
       "      <th>universe_settings</th>\n",
       "      <th>execution_time</th>\n",
       "      <th>test_size_n</th>\n",
       "      <th>test_size_frac</th>\n",
       "      <th>fair_main_equalized_odds_difference</th>\n",
       "      <th>fair_main_equalized_odds_ratio</th>\n",
       "      <th>fair_main_demographic_parity_difference</th>\n",
       "      <th>fair_main_demographic_parity_ratio</th>\n",
       "      <th>...</th>\n",
       "      <th>perf_grp_precision_0</th>\n",
       "      <th>perf_grp_precision_1</th>\n",
       "      <th>perf_grp_false positive rate_0</th>\n",
       "      <th>perf_grp_false positive rate_1</th>\n",
       "      <th>perf_grp_false negative rate_0</th>\n",
       "      <th>perf_grp_false negative rate_1</th>\n",
       "      <th>perf_grp_selection rate_0</th>\n",
       "      <th>perf_grp_selection rate_1</th>\n",
       "      <th>perf_grp_count_0</th>\n",
       "      <th>perf_grp_count_1</th>\n",
       "    </tr>\n",
       "  </thead>\n",
       "  <tbody>\n",
       "    <tr>\n",
       "      <th>0</th>\n",
       "      <td>16</td>\n",
       "      <td>25faeb70ded45f4aeb91f8ea161ba27a</td>\n",
       "      <td>{\"cutoff\": \"quantile_0.1\", \"eval_fairness_grou...</td>\n",
       "      <td>32.809758</td>\n",
       "      <td>89710</td>\n",
       "      <td>1.0</td>\n",
       "      <td>0.097778</td>\n",
       "      <td>0.898362</td>\n",
       "      <td>0.085243</td>\n",
       "      <td>0.911732</td>\n",
       "      <td>...</td>\n",
       "      <td>NaN</td>\n",
       "      <td>NaN</td>\n",
       "      <td>NaN</td>\n",
       "      <td>NaN</td>\n",
       "      <td>NaN</td>\n",
       "      <td>NaN</td>\n",
       "      <td>NaN</td>\n",
       "      <td>NaN</td>\n",
       "      <td>NaN</td>\n",
       "      <td>NaN</td>\n",
       "    </tr>\n",
       "    <tr>\n",
       "      <th>0</th>\n",
       "      <td>16</td>\n",
       "      <td>25faeb70ded45f4aeb91f8ea161ba27a</td>\n",
       "      <td>{\"cutoff\": \"quantile_0.1\", \"eval_fairness_grou...</td>\n",
       "      <td>32.809758</td>\n",
       "      <td>89710</td>\n",
       "      <td>1.0</td>\n",
       "      <td>0.097778</td>\n",
       "      <td>0.898362</td>\n",
       "      <td>0.085243</td>\n",
       "      <td>0.911732</td>\n",
       "      <td>...</td>\n",
       "      <td>0.118673</td>\n",
       "      <td>0.148137</td>\n",
       "      <td>0.962029</td>\n",
       "      <td>0.864251</td>\n",
       "      <td>0.005912</td>\n",
       "      <td>0.012910</td>\n",
       "      <td>0.965725</td>\n",
       "      <td>0.880483</td>\n",
       "      <td>20540.0</td>\n",
       "      <td>69170.0</td>\n",
       "    </tr>\n",
       "    <tr>\n",
       "      <th>0</th>\n",
       "      <td>16</td>\n",
       "      <td>25faeb70ded45f4aeb91f8ea161ba27a</td>\n",
       "      <td>{\"cutoff\": \"quantile_0.25\", \"eval_fairness_gro...</td>\n",
       "      <td>32.809758</td>\n",
       "      <td>89710</td>\n",
       "      <td>1.0</td>\n",
       "      <td>0.180103</td>\n",
       "      <td>0.790337</td>\n",
       "      <td>0.157296</td>\n",
       "      <td>0.819465</td>\n",
       "      <td>...</td>\n",
       "      <td>NaN</td>\n",
       "      <td>NaN</td>\n",
       "      <td>NaN</td>\n",
       "      <td>NaN</td>\n",
       "      <td>NaN</td>\n",
       "      <td>NaN</td>\n",
       "      <td>NaN</td>\n",
       "      <td>NaN</td>\n",
       "      <td>NaN</td>\n",
       "      <td>NaN</td>\n",
       "    </tr>\n",
       "    <tr>\n",
       "      <th>0</th>\n",
       "      <td>16</td>\n",
       "      <td>25faeb70ded45f4aeb91f8ea161ba27a</td>\n",
       "      <td>{\"cutoff\": \"quantile_0.25\", \"eval_fairness_gro...</td>\n",
       "      <td>32.809758</td>\n",
       "      <td>89710</td>\n",
       "      <td>1.0</td>\n",
       "      <td>0.180103</td>\n",
       "      <td>0.790337</td>\n",
       "      <td>0.157296</td>\n",
       "      <td>0.819465</td>\n",
       "      <td>...</td>\n",
       "      <td>0.127738</td>\n",
       "      <td>0.174766</td>\n",
       "      <td>0.859014</td>\n",
       "      <td>0.678911</td>\n",
       "      <td>0.034628</td>\n",
       "      <td>0.055689</td>\n",
       "      <td>0.871276</td>\n",
       "      <td>0.713980</td>\n",
       "      <td>20540.0</td>\n",
       "      <td>69170.0</td>\n",
       "    </tr>\n",
       "  </tbody>\n",
       "</table>\n",
       "<p>4 rows × 50 columns</p>\n",
       "</div>"
      ],
      "text/plain": [
       "  run_no                       universe_id  \\\n",
       "0     16  25faeb70ded45f4aeb91f8ea161ba27a   \n",
       "0     16  25faeb70ded45f4aeb91f8ea161ba27a   \n",
       "0     16  25faeb70ded45f4aeb91f8ea161ba27a   \n",
       "0     16  25faeb70ded45f4aeb91f8ea161ba27a   \n",
       "\n",
       "                                   universe_settings  execution_time  \\\n",
       "0  {\"cutoff\": \"quantile_0.1\", \"eval_fairness_grou...       32.809758   \n",
       "0  {\"cutoff\": \"quantile_0.1\", \"eval_fairness_grou...       32.809758   \n",
       "0  {\"cutoff\": \"quantile_0.25\", \"eval_fairness_gro...       32.809758   \n",
       "0  {\"cutoff\": \"quantile_0.25\", \"eval_fairness_gro...       32.809758   \n",
       "\n",
       "   test_size_n  test_size_frac  fair_main_equalized_odds_difference  \\\n",
       "0        89710             1.0                             0.097778   \n",
       "0        89710             1.0                             0.097778   \n",
       "0        89710             1.0                             0.180103   \n",
       "0        89710             1.0                             0.180103   \n",
       "\n",
       "   fair_main_equalized_odds_ratio  fair_main_demographic_parity_difference  \\\n",
       "0                        0.898362                                 0.085243   \n",
       "0                        0.898362                                 0.085243   \n",
       "0                        0.790337                                 0.157296   \n",
       "0                        0.790337                                 0.157296   \n",
       "\n",
       "   fair_main_demographic_parity_ratio  ...  perf_grp_precision_0  \\\n",
       "0                            0.911732  ...                   NaN   \n",
       "0                            0.911732  ...              0.118673   \n",
       "0                            0.819465  ...                   NaN   \n",
       "0                            0.819465  ...              0.127738   \n",
       "\n",
       "   perf_grp_precision_1  perf_grp_false positive rate_0  \\\n",
       "0                   NaN                             NaN   \n",
       "0              0.148137                        0.962029   \n",
       "0                   NaN                             NaN   \n",
       "0              0.174766                        0.859014   \n",
       "\n",
       "   perf_grp_false positive rate_1  perf_grp_false negative rate_0  \\\n",
       "0                             NaN                             NaN   \n",
       "0                        0.864251                        0.005912   \n",
       "0                             NaN                             NaN   \n",
       "0                        0.678911                        0.034628   \n",
       "\n",
       "   perf_grp_false negative rate_1  perf_grp_selection rate_0  \\\n",
       "0                             NaN                        NaN   \n",
       "0                        0.012910                   0.965725   \n",
       "0                             NaN                        NaN   \n",
       "0                        0.055689                   0.871276   \n",
       "\n",
       "   perf_grp_selection rate_1  perf_grp_count_0  perf_grp_count_1  \n",
       "0                        NaN               NaN               NaN  \n",
       "0                   0.880483           20540.0           69170.0  \n",
       "0                        NaN               NaN               NaN  \n",
       "0                   0.713980           20540.0           69170.0  \n",
       "\n",
       "[4 rows x 50 columns]"
      ]
     },
     "execution_count": 66,
     "metadata": {},
     "output_type": "execute_result"
    }
   ],
   "source": [
    "final_output = universe_analysis.generate_final_output(\n",
    "    y_pred_prob=probs_test,\n",
    "    y_test=y_true,\n",
    "    org_test=org_test,\n",
    "    filter_data=filter_sub_universe_data,\n",
    "    cp_metrics_df=cp_metrics_df,\n",
    "    save=True,\n",
    ")\n",
    "final_output"
   ]
  }
 ],
 "metadata": {
  "celltoolbar": "Tags",
  "kernelspec": {
   "display_name": "Python (CMA Fairness)",
   "language": "python",
   "name": "cma_fair_env"
  },
  "language_info": {
   "codemirror_mode": {
    "name": "ipython",
    "version": 3
   },
   "file_extension": ".py",
   "mimetype": "text/x-python",
   "name": "python",
   "nbconvert_exporter": "python",
   "pygments_lexer": "ipython3",
   "version": "3.10.12"
  },
  "papermill": {
   "default_parameters": {},
   "duration": 46.58574,
   "end_time": "2025-08-05T20:40:53.637554",
   "environment_variables": {},
   "exception": null,
   "input_path": "universe_analysis.ipynb",
   "output_path": "output/runs/16/notebooks/m_16-25faeb70ded45f4aeb91f8ea161ba27a.ipynb",
   "parameters": {
    "output_dir": "output",
    "run_no": "16",
    "seed": "2023",
    "universe": "{\"cutoff\": [\"quantile_0.1\", \"quantile_0.25\"], \"eval_fairness_grouping\": [\"majority-minority\", \"nationality-all\"], \"exclude_features\": \"age\", \"exclude_subgroups\": \"keep-all\", \"model\": \"elasticnet\", \"scale\": \"scale\", \"training_size\": \"25k\", \"training_year\": \"2014\"}",
    "universe_id": "25faeb70ded45f4aeb91f8ea161ba27a"
   },
   "start_time": "2025-08-05T20:40:07.051814",
   "version": "2.6.0"
  }
 },
 "nbformat": 4,
 "nbformat_minor": 5
}