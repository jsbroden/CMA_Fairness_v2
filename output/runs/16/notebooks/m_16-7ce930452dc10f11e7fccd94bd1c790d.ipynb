{
 "cells": [
  {
   "cell_type": "code",
   "execution_count": 1,
   "id": "f159f837-637b-42ba-96b5-ec9a68c44524",
   "metadata": {
    "execution": {
     "iopub.execute_input": "2025-08-05T20:34:45.207809Z",
     "iopub.status.busy": "2025-08-05T20:34:45.206885Z",
     "iopub.status.idle": "2025-08-05T20:34:45.223541Z",
     "shell.execute_reply": "2025-08-05T20:34:45.222626Z"
    },
    "papermill": {
     "duration": 0.037991,
     "end_time": "2025-08-05T20:34:45.224982",
     "exception": false,
     "start_time": "2025-08-05T20:34:45.186991",
     "status": "completed"
    },
    "tags": []
   },
   "outputs": [
    {
     "name": "stdout",
     "output_type": "stream",
     "text": [
      "/dss/dsshome1/0C/ra93lal2/cma/CMA_Fairness_v2\n"
     ]
    },
    {
     "name": "stderr",
     "output_type": "stream",
     "text": [
      "/dss/dsshome1/0C/ra93lal2/.local/share/virtualenvs/CMA_Fairness_v2-3j10GkSs/lib/python3.10/site-packages/IPython/core/magics/osm.py:393: UserWarning: This is now an optional IPython functionality, using bookmarks requires you to install the `pickleshare` library.\n",
      "  bkms = self.shell.db.get('bookmarks', {})\n",
      "/dss/dsshome1/0C/ra93lal2/.local/share/virtualenvs/CMA_Fairness_v2-3j10GkSs/lib/python3.10/site-packages/IPython/core/magics/osm.py:417: UserWarning: This is now an optional IPython functionality, setting dhist requires you to install the `pickleshare` library.\n",
      "  self.shell.db['dhist'] = compress_dhist(dhist)[-100:]\n"
     ]
    }
   ],
   "source": [
    "%cd ~/cma/CMA_Fairness_v2"
   ]
  },
  {
   "cell_type": "markdown",
   "id": "de2603b9",
   "metadata": {
    "papermill": {
     "duration": 0.017048,
     "end_time": "2025-08-05T20:34:45.258857",
     "exception": false,
     "start_time": "2025-08-05T20:34:45.241809",
     "status": "completed"
    },
    "tags": []
   },
   "source": [
    "The following cell holds the definition of our parameters, these values can be overriden by rendering the with e.g. the following command:\n",
    "\n",
    "papermill -p alpha 0.2 -p ratio 0.3 universe_analysis.ipynb output/test_run.ipynb"
   ]
  },
  {
   "cell_type": "code",
   "execution_count": 2,
   "id": "a80968a0-40bb-4fa9-85ef-2d5eefb01975",
   "metadata": {
    "execution": {
     "iopub.execute_input": "2025-08-05T20:34:45.293306Z",
     "iopub.status.busy": "2025-08-05T20:34:45.292518Z",
     "iopub.status.idle": "2025-08-05T20:34:45.298573Z",
     "shell.execute_reply": "2025-08-05T20:34:45.297416Z"
    },
    "papermill": {
     "duration": 0.02482,
     "end_time": "2025-08-05T20:34:45.300179",
     "exception": false,
     "start_time": "2025-08-05T20:34:45.275359",
     "status": "completed"
    },
    "tags": []
   },
   "outputs": [
    {
     "name": "stdout",
     "output_type": "stream",
     "text": [
      "Current working directory: /dss/dsshome1/0C/ra93lal2/cma/CMA_Fairness_v2\n"
     ]
    }
   ],
   "source": [
    "import os\n",
    "print(\"Current working directory:\", os.getcwd())"
   ]
  },
  {
   "cell_type": "code",
   "execution_count": 3,
   "id": "2dce4c03",
   "metadata": {
    "execution": {
     "iopub.execute_input": "2025-08-05T20:34:45.335438Z",
     "iopub.status.busy": "2025-08-05T20:34:45.334846Z",
     "iopub.status.idle": "2025-08-05T20:34:45.340815Z",
     "shell.execute_reply": "2025-08-05T20:34:45.339848Z"
    },
    "papermill": {
     "duration": 0.025694,
     "end_time": "2025-08-05T20:34:45.342654",
     "exception": false,
     "start_time": "2025-08-05T20:34:45.316960",
     "status": "completed"
    },
    "tags": [
     "parameters"
    ]
   },
   "outputs": [],
   "source": [
    "run_no = 0\n",
    "universe_id = \"test\"\n",
    "universe = {\n",
    "    \"training_size\": \"25k\", # \"25k\", \"5k\", \"1k\"\n",
    "    \"training_year\": \"2014\", # \"2014\", \"2012_14\", \"2010_14\"\n",
    "    \"scale\": \"scale\", # \"scale\", \"do-not-scale\",\n",
    "    \"model\": \"elasticnet\", # \"logreg\", \"penalized_logreg\", \"rf\", \"gbm\", \"elasticnet\"\n",
    "    \"cutoff\": [\"quantile_0.15\", \"quantile_0.30\"],\n",
    "    \"exclude_features\": \"age\", # \"none\", \"nationality\", \"sex\", \"nationality-sex\", \"age\"\n",
    "    \"exclude_subgroups\": \"keep-all\", # \"keep-all\", \"drop-non-german\"\n",
    "    \"eval_fairness_grouping\": [\"majority-minority\", \"nationality-all\"]\n",
    "}\n",
    "\n",
    "output_dir=\"./output\"\n",
    "seed=0"
   ]
  },
  {
   "cell_type": "code",
   "execution_count": 4,
   "id": "b6e1815f",
   "metadata": {
    "execution": {
     "iopub.execute_input": "2025-08-05T20:34:45.379184Z",
     "iopub.status.busy": "2025-08-05T20:34:45.378195Z",
     "iopub.status.idle": "2025-08-05T20:34:45.384090Z",
     "shell.execute_reply": "2025-08-05T20:34:45.383199Z"
    },
    "papermill": {
     "duration": 0.026169,
     "end_time": "2025-08-05T20:34:45.385946",
     "exception": false,
     "start_time": "2025-08-05T20:34:45.359777",
     "status": "completed"
    },
    "tags": [
     "injected-parameters"
    ]
   },
   "outputs": [],
   "source": [
    "# Parameters\n",
    "universe_id = \"7ce930452dc10f11e7fccd94bd1c790d\"\n",
    "run_no = \"16\"\n",
    "universe = \"{\\\"cutoff\\\": [\\\"quantile_0.1\\\", \\\"quantile_0.25\\\"], \\\"eval_fairness_grouping\\\": [\\\"majority-minority\\\", \\\"nationality-all\\\"], \\\"exclude_features\\\": \\\"age\\\", \\\"exclude_subgroups\\\": \\\"keep-all\\\", \\\"model\\\": \\\"penalized_logreg\\\", \\\"scale\\\": \\\"scale\\\", \\\"training_size\\\": \\\"25k\\\", \\\"training_year\\\": \\\"2014\\\"}\"\n",
    "output_dir = \"output\"\n",
    "seed = \"2023\"\n"
   ]
  },
  {
   "cell_type": "code",
   "execution_count": 5,
   "id": "1650acaf",
   "metadata": {
    "execution": {
     "iopub.execute_input": "2025-08-05T20:34:45.421619Z",
     "iopub.status.busy": "2025-08-05T20:34:45.420827Z",
     "iopub.status.idle": "2025-08-05T20:34:45.427157Z",
     "shell.execute_reply": "2025-08-05T20:34:45.426074Z"
    },
    "papermill": {
     "duration": 0.026044,
     "end_time": "2025-08-05T20:34:45.428991",
     "exception": false,
     "start_time": "2025-08-05T20:34:45.402947",
     "status": "completed"
    },
    "tags": []
   },
   "outputs": [],
   "source": [
    "import json\n",
    "if isinstance(universe, str):\n",
    "    universe = json.loads(universe)"
   ]
  },
  {
   "cell_type": "code",
   "execution_count": 6,
   "id": "16620c48",
   "metadata": {
    "execution": {
     "iopub.execute_input": "2025-08-05T20:34:45.463107Z",
     "iopub.status.busy": "2025-08-05T20:34:45.462468Z",
     "iopub.status.idle": "2025-08-05T20:34:45.507889Z",
     "shell.execute_reply": "2025-08-05T20:34:45.507010Z"
    },
    "papermill": {
     "duration": 0.064037,
     "end_time": "2025-08-05T20:34:45.509668",
     "exception": false,
     "start_time": "2025-08-05T20:34:45.445631",
     "status": "completed"
    },
    "tags": []
   },
   "outputs": [],
   "source": [
    "# Auto-reload the custom package\n",
    "%load_ext autoreload\n",
    "%autoreload 1\n",
    "%aimport fairness_multiverse"
   ]
  },
  {
   "cell_type": "code",
   "execution_count": 7,
   "id": "01c5c9f3",
   "metadata": {
    "execution": {
     "iopub.execute_input": "2025-08-05T20:34:45.545091Z",
     "iopub.status.busy": "2025-08-05T20:34:45.544369Z",
     "iopub.status.idle": "2025-08-05T20:34:47.500237Z",
     "shell.execute_reply": "2025-08-05T20:34:47.499162Z"
    },
    "papermill": {
     "duration": 1.975881,
     "end_time": "2025-08-05T20:34:47.502284",
     "exception": false,
     "start_time": "2025-08-05T20:34:45.526403",
     "status": "completed"
    },
    "tags": []
   },
   "outputs": [],
   "source": [
    "from fairness_multiverse.universe import UniverseAnalysis\n",
    "\n",
    "universe_analysis = UniverseAnalysis(\n",
    "    run_no = run_no,\n",
    "    universe_id = universe_id,\n",
    "    universe = universe,\n",
    "    output_dir=output_dir,\n",
    ")"
   ]
  },
  {
   "cell_type": "code",
   "execution_count": 8,
   "id": "106241f5",
   "metadata": {
    "execution": {
     "iopub.execute_input": "2025-08-05T20:34:47.538829Z",
     "iopub.status.busy": "2025-08-05T20:34:47.538283Z",
     "iopub.status.idle": "2025-08-05T20:34:47.545346Z",
     "shell.execute_reply": "2025-08-05T20:34:47.544237Z"
    },
    "papermill": {
     "duration": 0.027538,
     "end_time": "2025-08-05T20:34:47.547669",
     "exception": false,
     "start_time": "2025-08-05T20:34:47.520131",
     "status": "completed"
    },
    "tags": []
   },
   "outputs": [
    {
     "name": "stdout",
     "output_type": "stream",
     "text": [
      "Using Seed: 2023\n"
     ]
    }
   ],
   "source": [
    "import numpy as np\n",
    "parsed_seed = int(seed)\n",
    "np.random.seed(parsed_seed)\n",
    "print(f\"Using Seed: {parsed_seed}\")"
   ]
  },
  {
   "cell_type": "markdown",
   "id": "e0ebdc57",
   "metadata": {
    "papermill": {
     "duration": 0.017621,
     "end_time": "2025-08-05T20:34:47.583417",
     "exception": false,
     "start_time": "2025-08-05T20:34:47.565796",
     "status": "completed"
    },
    "tags": []
   },
   "source": [
    "# Loading Data"
   ]
  },
  {
   "cell_type": "code",
   "execution_count": 9,
   "id": "f0496b8a",
   "metadata": {
    "execution": {
     "iopub.execute_input": "2025-08-05T20:34:47.618964Z",
     "iopub.status.busy": "2025-08-05T20:34:47.618238Z",
     "iopub.status.idle": "2025-08-05T20:34:59.750319Z",
     "shell.execute_reply": "2025-08-05T20:34:59.749044Z"
    },
    "papermill": {
     "duration": 12.15163,
     "end_time": "2025-08-05T20:34:59.752091",
     "exception": false,
     "start_time": "2025-08-05T20:34:47.600461",
     "status": "completed"
    },
    "tags": []
   },
   "outputs": [
    {
     "name": "stdout",
     "output_type": "stream",
     "text": [
      "Loading SIAB data from cache: data/siab_cached.csv.gz\n"
     ]
    },
    {
     "name": "stdout",
     "output_type": "stream",
     "text": [
      "(643690, 164)\n"
     ]
    }
   ],
   "source": [
    "from pathlib import Path\n",
    "import pandas as pd\n",
    "\n",
    "# File paths\n",
    "raw_file = Path(\"data/raw/siab.csv\")\n",
    "cache_file = Path(\"data/siab_cached.csv.gz\")\n",
    "\n",
    "# Ensure cache directory exists\n",
    "cache_file.parent.mkdir(parents=True, exist_ok=True)\n",
    "\n",
    "# Load with simple caching\n",
    "if cache_file.exists():\n",
    "    print(f\"Loading SIAB data from cache: {cache_file}\")\n",
    "    siab = pd.read_csv(cache_file, compression='gzip')\n",
    "else:\n",
    "    print(f\"Cache not found. Reading raw SIAB data: {raw_file}\")\n",
    "    siab = pd.read_csv(raw_file)\n",
    "    siab.to_csv(cache_file, index=False, compression='gzip')\n",
    "    print(f\"Cached SIAB data to: {cache_file}\")\n",
    "\n",
    "print(siab.shape)"
   ]
  },
  {
   "cell_type": "code",
   "execution_count": 10,
   "id": "db0ca512-5f53-4dba-abdb-a2888bca41ba",
   "metadata": {
    "execution": {
     "iopub.execute_input": "2025-08-05T20:34:59.790289Z",
     "iopub.status.busy": "2025-08-05T20:34:59.789847Z",
     "iopub.status.idle": "2025-08-05T20:34:59.795073Z",
     "shell.execute_reply": "2025-08-05T20:34:59.794092Z"
    },
    "papermill": {
     "duration": 0.024436,
     "end_time": "2025-08-05T20:34:59.796835",
     "exception": false,
     "start_time": "2025-08-05T20:34:59.772399",
     "status": "completed"
    },
    "tags": []
   },
   "outputs": [],
   "source": [
    "#siab"
   ]
  },
  {
   "cell_type": "markdown",
   "id": "997051c5-15bd-4b69-9786-c3001a3ce484",
   "metadata": {
    "papermill": {
     "duration": 0.017296,
     "end_time": "2025-08-05T20:34:59.832803",
     "exception": false,
     "start_time": "2025-08-05T20:34:59.815507",
     "status": "completed"
    },
    "tags": []
   },
   "source": [
    "# Splitting Data and Setting Training Data Size"
   ]
  },
  {
   "cell_type": "code",
   "execution_count": 11,
   "id": "aea9c6ef-6f46-42c8-85eb-5a62025c1508",
   "metadata": {
    "execution": {
     "iopub.execute_input": "2025-08-05T20:34:59.867696Z",
     "iopub.status.busy": "2025-08-05T20:34:59.867018Z",
     "iopub.status.idle": "2025-08-05T20:35:00.125888Z",
     "shell.execute_reply": "2025-08-05T20:35:00.124818Z"
    },
    "papermill": {
     "duration": 0.278582,
     "end_time": "2025-08-05T20:35:00.127879",
     "exception": false,
     "start_time": "2025-08-05T20:34:59.849297",
     "status": "completed"
    },
    "tags": []
   },
   "outputs": [],
   "source": [
    "from fairness_multiverse.universe import sample_by_year_size\n",
    "\n",
    "siab_train = sample_by_year_size(siab,\n",
    "                               training_year=universe[\"training_year\"],\n",
    "                               training_size=universe[\"training_size\"])"
   ]
  },
  {
   "cell_type": "code",
   "execution_count": 12,
   "id": "8d3afb32-789d-442c-8d5d-9f5aa8dd2eed",
   "metadata": {
    "execution": {
     "iopub.execute_input": "2025-08-05T20:35:00.164572Z",
     "iopub.status.busy": "2025-08-05T20:35:00.163792Z",
     "iopub.status.idle": "2025-08-05T20:35:00.168807Z",
     "shell.execute_reply": "2025-08-05T20:35:00.167723Z"
    },
    "papermill": {
     "duration": 0.024987,
     "end_time": "2025-08-05T20:35:00.170847",
     "exception": false,
     "start_time": "2025-08-05T20:35:00.145860",
     "status": "completed"
    },
    "tags": []
   },
   "outputs": [],
   "source": [
    "#siab_train.shape"
   ]
  },
  {
   "cell_type": "code",
   "execution_count": 13,
   "id": "d582db68-1a4c-47fb-84fc-08518dc1975a",
   "metadata": {
    "execution": {
     "iopub.execute_input": "2025-08-05T20:35:00.208185Z",
     "iopub.status.busy": "2025-08-05T20:35:00.207420Z",
     "iopub.status.idle": "2025-08-05T20:35:00.212225Z",
     "shell.execute_reply": "2025-08-05T20:35:00.211122Z"
    },
    "papermill": {
     "duration": 0.02491,
     "end_time": "2025-08-05T20:35:00.214294",
     "exception": false,
     "start_time": "2025-08-05T20:35:00.189384",
     "status": "completed"
    },
    "tags": []
   },
   "outputs": [],
   "source": [
    "#display(siab_train.groupby(\"year\").size())"
   ]
  },
  {
   "cell_type": "code",
   "execution_count": 14,
   "id": "a561edb4-d032-42cb-8256-22eac1111c64",
   "metadata": {
    "execution": {
     "iopub.execute_input": "2025-08-05T20:35:00.250370Z",
     "iopub.status.busy": "2025-08-05T20:35:00.249766Z",
     "iopub.status.idle": "2025-08-05T20:35:00.515114Z",
     "shell.execute_reply": "2025-08-05T20:35:00.514050Z"
    },
    "papermill": {
     "duration": 0.284906,
     "end_time": "2025-08-05T20:35:00.517071",
     "exception": false,
     "start_time": "2025-08-05T20:35:00.232165",
     "status": "completed"
    },
    "tags": []
   },
   "outputs": [],
   "source": [
    "#siab_train = siab_s[siab_s.year < 2015]\n",
    "siab_calib = siab[siab.year == 2015]\n",
    "siab_test = siab[siab.year == 2016]"
   ]
  },
  {
   "cell_type": "code",
   "execution_count": 15,
   "id": "472de16f-c3db-4916-846b-1f0de9cf1746",
   "metadata": {
    "execution": {
     "iopub.execute_input": "2025-08-05T20:35:00.555794Z",
     "iopub.status.busy": "2025-08-05T20:35:00.554914Z",
     "iopub.status.idle": "2025-08-05T20:35:00.574586Z",
     "shell.execute_reply": "2025-08-05T20:35:00.573020Z"
    },
    "papermill": {
     "duration": 0.040952,
     "end_time": "2025-08-05T20:35:00.576649",
     "exception": false,
     "start_time": "2025-08-05T20:35:00.535697",
     "status": "completed"
    },
    "tags": []
   },
   "outputs": [],
   "source": [
    "X_train = siab_train.iloc[:,4:164]\n",
    "y_train = siab_train.iloc[:, [3]]"
   ]
  },
  {
   "cell_type": "code",
   "execution_count": 16,
   "id": "828c96af-f43a-4ed6-ba47-8ac73a47d56c",
   "metadata": {
    "execution": {
     "iopub.execute_input": "2025-08-05T20:35:00.616319Z",
     "iopub.status.busy": "2025-08-05T20:35:00.615635Z",
     "iopub.status.idle": "2025-08-05T20:35:00.725821Z",
     "shell.execute_reply": "2025-08-05T20:35:00.724518Z"
    },
    "papermill": {
     "duration": 0.132633,
     "end_time": "2025-08-05T20:35:00.728374",
     "exception": false,
     "start_time": "2025-08-05T20:35:00.595741",
     "status": "completed"
    },
    "tags": []
   },
   "outputs": [],
   "source": [
    "X_calib = siab_calib.iloc[:,4:164]\n",
    "y_calib = siab_calib.iloc[:, [3]]"
   ]
  },
  {
   "cell_type": "code",
   "execution_count": 17,
   "id": "c34be9c3-6bd6-476e-acd3-845840e303be",
   "metadata": {
    "execution": {
     "iopub.execute_input": "2025-08-05T20:35:00.774032Z",
     "iopub.status.busy": "2025-08-05T20:35:00.773297Z",
     "iopub.status.idle": "2025-08-05T20:35:00.825904Z",
     "shell.execute_reply": "2025-08-05T20:35:00.824618Z"
    },
    "papermill": {
     "duration": 0.077887,
     "end_time": "2025-08-05T20:35:00.828660",
     "exception": false,
     "start_time": "2025-08-05T20:35:00.750773",
     "status": "completed"
    },
    "tags": []
   },
   "outputs": [],
   "source": [
    "X_test = siab_test.iloc[:,4:164]\n",
    "y_true = siab_test.iloc[:, [3]]"
   ]
  },
  {
   "cell_type": "code",
   "execution_count": 18,
   "id": "e6c733c5",
   "metadata": {
    "execution": {
     "iopub.execute_input": "2025-08-05T20:35:00.870106Z",
     "iopub.status.busy": "2025-08-05T20:35:00.869283Z",
     "iopub.status.idle": "2025-08-05T20:35:00.999328Z",
     "shell.execute_reply": "2025-08-05T20:35:00.998283Z"
    },
    "papermill": {
     "duration": 0.152378,
     "end_time": "2025-08-05T20:35:01.001404",
     "exception": false,
     "start_time": "2025-08-05T20:35:00.849026",
     "status": "completed"
    },
    "tags": []
   },
   "outputs": [],
   "source": [
    "# Auxiliary data needed downstream in the pipeline\n",
    "\n",
    "org_train = X_train.copy()\n",
    "org_test = X_test.copy()\n",
    "org_calib = X_calib.copy()"
   ]
  },
  {
   "cell_type": "markdown",
   "id": "0a4a1b33",
   "metadata": {
    "papermill": {
     "duration": 0.022393,
     "end_time": "2025-08-05T20:35:01.047355",
     "exception": false,
     "start_time": "2025-08-05T20:35:01.024962",
     "status": "completed"
    },
    "tags": []
   },
   "source": [
    "# Preprocessing Data"
   ]
  },
  {
   "cell_type": "code",
   "execution_count": 19,
   "id": "ca879031",
   "metadata": {
    "execution": {
     "iopub.execute_input": "2025-08-05T20:35:01.095439Z",
     "iopub.status.busy": "2025-08-05T20:35:01.094792Z",
     "iopub.status.idle": "2025-08-05T20:35:01.101648Z",
     "shell.execute_reply": "2025-08-05T20:35:01.100642Z"
    },
    "papermill": {
     "duration": 0.034193,
     "end_time": "2025-08-05T20:35:01.103532",
     "exception": false,
     "start_time": "2025-08-05T20:35:01.069339",
     "status": "completed"
    },
    "tags": []
   },
   "outputs": [],
   "source": [
    "# EXCLUDE PROTECTED FEATURES\n",
    "# ----------------------\n",
    "# \"exclude_features\": \"none\", # \"nationality\", \"sex\", \"nationality-sex\"\n",
    "\n",
    "excluded_features = universe[\"exclude_features\"].split(\"-\") # split, e.g.: \"nationality-sex\" -> [\"nationality\", \"sex\"]\n",
    "excluded_features_dictionary = {\n",
    "    \"nationality\": [\"maxdeutsch1\", \"maxdeutsch.Missing.\"],\n",
    "    \"sex\": [\"frau1\"],\n",
    "    \"age\": [\"age\"],\n",
    "}"
   ]
  },
  {
   "cell_type": "code",
   "execution_count": 20,
   "id": "b745ac60",
   "metadata": {
    "execution": {
     "iopub.execute_input": "2025-08-05T20:35:01.152246Z",
     "iopub.status.busy": "2025-08-05T20:35:01.151815Z",
     "iopub.status.idle": "2025-08-05T20:35:01.157683Z",
     "shell.execute_reply": "2025-08-05T20:35:01.156531Z"
    },
    "papermill": {
     "duration": 0.032493,
     "end_time": "2025-08-05T20:35:01.160126",
     "exception": false,
     "start_time": "2025-08-05T20:35:01.127633",
     "status": "completed"
    },
    "tags": []
   },
   "outputs": [],
   "source": [
    "# Code nice names to column names\n",
    "\n",
    "excluded_features_columns = [\n",
    "    excluded_features_dictionary[f] for f in excluded_features if len(f) > 0 and f != \"none\"\n",
    "]"
   ]
  },
  {
   "cell_type": "code",
   "execution_count": 21,
   "id": "f84f73a2",
   "metadata": {
    "execution": {
     "iopub.execute_input": "2025-08-05T20:35:01.211200Z",
     "iopub.status.busy": "2025-08-05T20:35:01.210742Z",
     "iopub.status.idle": "2025-08-05T20:35:01.218131Z",
     "shell.execute_reply": "2025-08-05T20:35:01.216967Z"
    },
    "papermill": {
     "duration": 0.034819,
     "end_time": "2025-08-05T20:35:01.220184",
     "exception": false,
     "start_time": "2025-08-05T20:35:01.185365",
     "status": "completed"
    },
    "tags": []
   },
   "outputs": [],
   "source": [
    "from utils import flatten_once\n",
    "\n",
    "excluded_features_columns = flatten_once(excluded_features_columns)"
   ]
  },
  {
   "cell_type": "code",
   "execution_count": 22,
   "id": "884dea22",
   "metadata": {
    "execution": {
     "iopub.execute_input": "2025-08-05T20:35:01.274855Z",
     "iopub.status.busy": "2025-08-05T20:35:01.274426Z",
     "iopub.status.idle": "2025-08-05T20:35:01.296827Z",
     "shell.execute_reply": "2025-08-05T20:35:01.295721Z"
    },
    "papermill": {
     "duration": 0.051023,
     "end_time": "2025-08-05T20:35:01.298502",
     "exception": false,
     "start_time": "2025-08-05T20:35:01.247479",
     "status": "completed"
    },
    "tags": []
   },
   "outputs": [
    {
     "name": "stdout",
     "output_type": "stream",
     "text": [
      "Dropping features: ['age']\n"
     ]
    }
   ],
   "source": [
    "if len(excluded_features_columns) > 0:\n",
    "    print(f\"Dropping features: {excluded_features_columns}\")\n",
    "    X_train.drop(excluded_features_columns, axis=1, inplace=True)"
   ]
  },
  {
   "cell_type": "code",
   "execution_count": 23,
   "id": "95ab8b16",
   "metadata": {
    "execution": {
     "iopub.execute_input": "2025-08-05T20:35:01.319740Z",
     "iopub.status.busy": "2025-08-05T20:35:01.319409Z",
     "iopub.status.idle": "2025-08-05T20:35:01.374818Z",
     "shell.execute_reply": "2025-08-05T20:35:01.373439Z"
    },
    "papermill": {
     "duration": 0.067833,
     "end_time": "2025-08-05T20:35:01.376840",
     "exception": false,
     "start_time": "2025-08-05T20:35:01.309007",
     "status": "completed"
    },
    "tags": []
   },
   "outputs": [
    {
     "name": "stdout",
     "output_type": "stream",
     "text": [
      "Dropping features: ['age']\n"
     ]
    }
   ],
   "source": [
    "if len(excluded_features_columns) > 0:\n",
    "    print(f\"Dropping features: {excluded_features_columns}\")\n",
    "    X_test.drop(excluded_features_columns, axis=1, inplace=True)"
   ]
  },
  {
   "cell_type": "code",
   "execution_count": 24,
   "id": "1853aaf5-fb9f-46cb-a2b5-8ea4ae2237e4",
   "metadata": {
    "execution": {
     "iopub.execute_input": "2025-08-05T20:35:01.422258Z",
     "iopub.status.busy": "2025-08-05T20:35:01.421368Z",
     "iopub.status.idle": "2025-08-05T20:35:01.475374Z",
     "shell.execute_reply": "2025-08-05T20:35:01.473951Z"
    },
    "papermill": {
     "duration": 0.081204,
     "end_time": "2025-08-05T20:35:01.478074",
     "exception": false,
     "start_time": "2025-08-05T20:35:01.396870",
     "status": "completed"
    },
    "tags": []
   },
   "outputs": [
    {
     "name": "stdout",
     "output_type": "stream",
     "text": [
      "Dropping features: ['age']\n"
     ]
    }
   ],
   "source": [
    "if len(excluded_features_columns) > 0:\n",
    "    print(f\"Dropping features: {excluded_features_columns}\")\n",
    "    X_calib.drop(excluded_features_columns, axis=1, inplace=True)"
   ]
  },
  {
   "cell_type": "code",
   "execution_count": 25,
   "id": "76c4dc6d",
   "metadata": {
    "execution": {
     "iopub.execute_input": "2025-08-05T20:35:01.534955Z",
     "iopub.status.busy": "2025-08-05T20:35:01.534418Z",
     "iopub.status.idle": "2025-08-05T20:35:01.540821Z",
     "shell.execute_reply": "2025-08-05T20:35:01.539479Z"
    },
    "papermill": {
     "duration": 0.037002,
     "end_time": "2025-08-05T20:35:01.543510",
     "exception": false,
     "start_time": "2025-08-05T20:35:01.506508",
     "status": "completed"
    },
    "tags": []
   },
   "outputs": [],
   "source": [
    "# EXCLUDE CERTAIN SUBGROUPS\n",
    "# ----------------------\n",
    "\n",
    "mode = universe.get(\"exclude_subgroups\", \"keep-all\") \n",
    "# Fetches the exclude_subgroups setting from the universe dict.\n",
    "# Defaults to \"keep-all\" if the key is missing."
   ]
  },
  {
   "cell_type": "code",
   "execution_count": 26,
   "id": "21994072",
   "metadata": {
    "execution": {
     "iopub.execute_input": "2025-08-05T20:35:01.599615Z",
     "iopub.status.busy": "2025-08-05T20:35:01.599071Z",
     "iopub.status.idle": "2025-08-05T20:35:01.606037Z",
     "shell.execute_reply": "2025-08-05T20:35:01.604951Z"
    },
    "papermill": {
     "duration": 0.038376,
     "end_time": "2025-08-05T20:35:01.608607",
     "exception": false,
     "start_time": "2025-08-05T20:35:01.570231",
     "status": "completed"
    },
    "tags": []
   },
   "outputs": [],
   "source": [
    "if mode == \"keep-all\":\n",
    "    keep_mask = pd.Series(True, index=org_train.index)\n",
    "\n",
    "# org_train contains the original feature columns from features_org (in Simson)\n",
    "# features_org contains unprocessed features, for me X_train at beginning ???\n",
    "# For keep-all, creates a boolean Series (keep_mask) of all True, so no rows are removed.\n",
    "\n",
    "elif mode == \"drop-non-german\":\n",
    "    keep_mask = org_train[\"maxdeutsch1\"] == 1 # ??? what about missing values?\n",
    "\n",
    "else:\n",
    "    raise ValueError(f\"Unsupported mode for exclude_subgroups: {mode}\")"
   ]
  },
  {
   "cell_type": "code",
   "execution_count": 27,
   "id": "71651440",
   "metadata": {
    "execution": {
     "iopub.execute_input": "2025-08-05T20:35:01.663128Z",
     "iopub.status.busy": "2025-08-05T20:35:01.662305Z",
     "iopub.status.idle": "2025-08-05T20:35:01.670999Z",
     "shell.execute_reply": "2025-08-05T20:35:01.669573Z"
    },
    "papermill": {
     "duration": 0.03818,
     "end_time": "2025-08-05T20:35:01.672942",
     "exception": false,
     "start_time": "2025-08-05T20:35:01.634762",
     "status": "completed"
    },
    "tags": []
   },
   "outputs": [],
   "source": [
    "n_drop = (~keep_mask).sum() # Calculates how many rows are set to be dropped\n",
    "if n_drop > 0:\n",
    "    pct = n_drop / len(keep_mask) * 100\n",
    "    print(f\"Dropping {n_drop} rows ({pct:.2f}%) where mode='{mode}'\")"
   ]
  },
  {
   "cell_type": "code",
   "execution_count": 28,
   "id": "5fb8eee5",
   "metadata": {
    "execution": {
     "iopub.execute_input": "2025-08-05T20:35:01.716031Z",
     "iopub.status.busy": "2025-08-05T20:35:01.715066Z",
     "iopub.status.idle": "2025-08-05T20:35:01.730454Z",
     "shell.execute_reply": "2025-08-05T20:35:01.729067Z"
    },
    "papermill": {
     "duration": 0.040251,
     "end_time": "2025-08-05T20:35:01.733371",
     "exception": false,
     "start_time": "2025-08-05T20:35:01.693120",
     "status": "completed"
    },
    "tags": []
   },
   "outputs": [],
   "source": [
    "X_train = X_train[keep_mask]"
   ]
  },
  {
   "cell_type": "code",
   "execution_count": 29,
   "id": "b202bb3a",
   "metadata": {
    "execution": {
     "iopub.execute_input": "2025-08-05T20:35:01.790580Z",
     "iopub.status.busy": "2025-08-05T20:35:01.789819Z",
     "iopub.status.idle": "2025-08-05T20:35:01.797368Z",
     "shell.execute_reply": "2025-08-05T20:35:01.796136Z"
    },
    "papermill": {
     "duration": 0.03813,
     "end_time": "2025-08-05T20:35:01.799768",
     "exception": false,
     "start_time": "2025-08-05T20:35:01.761638",
     "status": "completed"
    },
    "tags": []
   },
   "outputs": [],
   "source": [
    "y_train = y_train[keep_mask]"
   ]
  },
  {
   "cell_type": "markdown",
   "id": "493e2ac3",
   "metadata": {
    "papermill": {
     "duration": 0.026578,
     "end_time": "2025-08-05T20:35:01.853929",
     "exception": false,
     "start_time": "2025-08-05T20:35:01.827351",
     "status": "completed"
    },
    "tags": []
   },
   "source": [
    "# Model Training"
   ]
  },
  {
   "cell_type": "code",
   "execution_count": 30,
   "id": "679e1268",
   "metadata": {
    "execution": {
     "iopub.execute_input": "2025-08-05T20:35:01.909355Z",
     "iopub.status.busy": "2025-08-05T20:35:01.908586Z",
     "iopub.status.idle": "2025-08-05T20:35:02.014069Z",
     "shell.execute_reply": "2025-08-05T20:35:02.012905Z"
    },
    "papermill": {
     "duration": 0.136036,
     "end_time": "2025-08-05T20:35:02.016481",
     "exception": false,
     "start_time": "2025-08-05T20:35:01.880445",
     "status": "completed"
    },
    "tags": []
   },
   "outputs": [],
   "source": [
    "from sklearn.linear_model import LogisticRegression\n",
    "from sklearn.ensemble import GradientBoostingClassifier, RandomForestClassifier\n",
    "\n",
    "if (universe[\"model\"] == \"logreg\"):\n",
    "    model = LogisticRegression() #penalty=\"none\", solver=\"newton-cg\", max_iter=1) # include random_state=19 ?\n",
    "elif (universe[\"model\"] == \"penalized_logreg\"):\n",
    "    model = LogisticRegression(penalty=\"l2\", C=0.1) #, solver=\"newton-cg\", max_iter=1)\n",
    "elif (universe[\"model\"] == \"rf\"):\n",
    "    model = RandomForestClassifier() # n_estimators=100, n_jobs=-1\n",
    "elif (universe[\"model\"] == \"gbm\"):\n",
    "    model = GradientBoostingClassifier()\n",
    "elif (universe[\"model\"] == \"elasticnet\"):\n",
    "    model = LogisticRegression(penalty = 'elasticnet', solver = 'saga', l1_ratio = 0.5) # max_iter=5000\n",
    "else:\n",
    "    raise \"Unsupported universe.model\""
   ]
  },
  {
   "cell_type": "code",
   "execution_count": 31,
   "id": "0cc8f744",
   "metadata": {
    "execution": {
     "iopub.execute_input": "2025-08-05T20:35:02.073180Z",
     "iopub.status.busy": "2025-08-05T20:35:02.072329Z",
     "iopub.status.idle": "2025-08-05T20:35:02.079517Z",
     "shell.execute_reply": "2025-08-05T20:35:02.078402Z"
    },
    "papermill": {
     "duration": 0.03812,
     "end_time": "2025-08-05T20:35:02.081940",
     "exception": false,
     "start_time": "2025-08-05T20:35:02.043820",
     "status": "completed"
    },
    "tags": []
   },
   "outputs": [],
   "source": [
    "import numpy as np\n",
    "from sklearn.pipeline import Pipeline\n",
    "from sklearn.preprocessing import StandardScaler\n",
    "\n",
    "model = Pipeline([\n",
    "    #(\"continuous_processor\", continuous_processor),\n",
    "    #(\"categorical_preprocessor\", categorical_preprocessor),\n",
    "    (\"scale\", StandardScaler() if universe[\"scale\"] == \"scale\" else None), \n",
    "    (\"model\", model),\n",
    "])"
   ]
  },
  {
   "cell_type": "code",
   "execution_count": 32,
   "id": "9442c04d",
   "metadata": {
    "execution": {
     "iopub.execute_input": "2025-08-05T20:35:02.138142Z",
     "iopub.status.busy": "2025-08-05T20:35:02.137375Z",
     "iopub.status.idle": "2025-08-05T20:35:03.037932Z",
     "shell.execute_reply": "2025-08-05T20:35:03.036832Z"
    },
    "papermill": {
     "duration": 0.929435,
     "end_time": "2025-08-05T20:35:03.039264",
     "exception": false,
     "start_time": "2025-08-05T20:35:02.109829",
     "status": "completed"
    },
    "tags": []
   },
   "outputs": [
    {
     "name": "stderr",
     "output_type": "stream",
     "text": [
      "/dss/dsshome1/0C/ra93lal2/.local/share/virtualenvs/CMA_Fairness_v2-3j10GkSs/lib/python3.10/site-packages/sklearn/linear_model/_logistic.py:444: ConvergenceWarning: lbfgs failed to converge (status=1):\n",
      "STOP: TOTAL NO. of ITERATIONS REACHED LIMIT.\n",
      "\n",
      "Increase the number of iterations (max_iter) or scale the data as shown in:\n",
      "    https://scikit-learn.org/stable/modules/preprocessing.html\n",
      "Please also refer to the documentation for alternative solver options:\n",
      "    https://scikit-learn.org/stable/modules/linear_model.html#logistic-regression\n",
      "  n_iter_i = _check_optimize_result(\n"
     ]
    },
    {
     "data": {
      "text/html": [
       "<style>#sk-container-id-1 {color: black;background-color: white;}#sk-container-id-1 pre{padding: 0;}#sk-container-id-1 div.sk-toggleable {background-color: white;}#sk-container-id-1 label.sk-toggleable__label {cursor: pointer;display: block;width: 100%;margin-bottom: 0;padding: 0.3em;box-sizing: border-box;text-align: center;}#sk-container-id-1 label.sk-toggleable__label-arrow:before {content: \"▸\";float: left;margin-right: 0.25em;color: #696969;}#sk-container-id-1 label.sk-toggleable__label-arrow:hover:before {color: black;}#sk-container-id-1 div.sk-estimator:hover label.sk-toggleable__label-arrow:before {color: black;}#sk-container-id-1 div.sk-toggleable__content {max-height: 0;max-width: 0;overflow: hidden;text-align: left;background-color: #f0f8ff;}#sk-container-id-1 div.sk-toggleable__content pre {margin: 0.2em;color: black;border-radius: 0.25em;background-color: #f0f8ff;}#sk-container-id-1 input.sk-toggleable__control:checked~div.sk-toggleable__content {max-height: 200px;max-width: 100%;overflow: auto;}#sk-container-id-1 input.sk-toggleable__control:checked~label.sk-toggleable__label-arrow:before {content: \"▾\";}#sk-container-id-1 div.sk-estimator input.sk-toggleable__control:checked~label.sk-toggleable__label {background-color: #d4ebff;}#sk-container-id-1 div.sk-label input.sk-toggleable__control:checked~label.sk-toggleable__label {background-color: #d4ebff;}#sk-container-id-1 input.sk-hidden--visually {border: 0;clip: rect(1px 1px 1px 1px);clip: rect(1px, 1px, 1px, 1px);height: 1px;margin: -1px;overflow: hidden;padding: 0;position: absolute;width: 1px;}#sk-container-id-1 div.sk-estimator {font-family: monospace;background-color: #f0f8ff;border: 1px dotted black;border-radius: 0.25em;box-sizing: border-box;margin-bottom: 0.5em;}#sk-container-id-1 div.sk-estimator:hover {background-color: #d4ebff;}#sk-container-id-1 div.sk-parallel-item::after {content: \"\";width: 100%;border-bottom: 1px solid gray;flex-grow: 1;}#sk-container-id-1 div.sk-label:hover label.sk-toggleable__label {background-color: #d4ebff;}#sk-container-id-1 div.sk-serial::before {content: \"\";position: absolute;border-left: 1px solid gray;box-sizing: border-box;top: 0;bottom: 0;left: 50%;z-index: 0;}#sk-container-id-1 div.sk-serial {display: flex;flex-direction: column;align-items: center;background-color: white;padding-right: 0.2em;padding-left: 0.2em;position: relative;}#sk-container-id-1 div.sk-item {position: relative;z-index: 1;}#sk-container-id-1 div.sk-parallel {display: flex;align-items: stretch;justify-content: center;background-color: white;position: relative;}#sk-container-id-1 div.sk-item::before, #sk-container-id-1 div.sk-parallel-item::before {content: \"\";position: absolute;border-left: 1px solid gray;box-sizing: border-box;top: 0;bottom: 0;left: 50%;z-index: -1;}#sk-container-id-1 div.sk-parallel-item {display: flex;flex-direction: column;z-index: 1;position: relative;background-color: white;}#sk-container-id-1 div.sk-parallel-item:first-child::after {align-self: flex-end;width: 50%;}#sk-container-id-1 div.sk-parallel-item:last-child::after {align-self: flex-start;width: 50%;}#sk-container-id-1 div.sk-parallel-item:only-child::after {width: 0;}#sk-container-id-1 div.sk-dashed-wrapped {border: 1px dashed gray;margin: 0 0.4em 0.5em 0.4em;box-sizing: border-box;padding-bottom: 0.4em;background-color: white;}#sk-container-id-1 div.sk-label label {font-family: monospace;font-weight: bold;display: inline-block;line-height: 1.2em;}#sk-container-id-1 div.sk-label-container {text-align: center;}#sk-container-id-1 div.sk-container {/* jupyter's `normalize.less` sets `[hidden] { display: none; }` but bootstrap.min.css set `[hidden] { display: none !important; }` so we also need the `!important` here to be able to override the default hidden behavior on the sphinx rendered scikit-learn.org. See: https://github.com/scikit-learn/scikit-learn/issues/21755 */display: inline-block !important;position: relative;}#sk-container-id-1 div.sk-text-repr-fallback {display: none;}</style><div id=\"sk-container-id-1\" class=\"sk-top-container\"><div class=\"sk-text-repr-fallback\"><pre>Pipeline(steps=[(&#x27;scale&#x27;, StandardScaler()),\n",
       "                (&#x27;model&#x27;, LogisticRegression(C=0.1))])</pre><b>In a Jupyter environment, please rerun this cell to show the HTML representation or trust the notebook. <br />On GitHub, the HTML representation is unable to render, please try loading this page with nbviewer.org.</b></div><div class=\"sk-container\" hidden><div class=\"sk-item sk-dashed-wrapped\"><div class=\"sk-label-container\"><div class=\"sk-label sk-toggleable\"><input class=\"sk-toggleable__control sk-hidden--visually\" id=\"sk-estimator-id-1\" type=\"checkbox\" ><label for=\"sk-estimator-id-1\" class=\"sk-toggleable__label sk-toggleable__label-arrow\">Pipeline</label><div class=\"sk-toggleable__content\"><pre>Pipeline(steps=[(&#x27;scale&#x27;, StandardScaler()),\n",
       "                (&#x27;model&#x27;, LogisticRegression(C=0.1))])</pre></div></div></div><div class=\"sk-serial\"><div class=\"sk-item\"><div class=\"sk-estimator sk-toggleable\"><input class=\"sk-toggleable__control sk-hidden--visually\" id=\"sk-estimator-id-2\" type=\"checkbox\" ><label for=\"sk-estimator-id-2\" class=\"sk-toggleable__label sk-toggleable__label-arrow\">StandardScaler</label><div class=\"sk-toggleable__content\"><pre>StandardScaler()</pre></div></div></div><div class=\"sk-item\"><div class=\"sk-estimator sk-toggleable\"><input class=\"sk-toggleable__control sk-hidden--visually\" id=\"sk-estimator-id-3\" type=\"checkbox\" ><label for=\"sk-estimator-id-3\" class=\"sk-toggleable__label sk-toggleable__label-arrow\">LogisticRegression</label><div class=\"sk-toggleable__content\"><pre>LogisticRegression(C=0.1)</pre></div></div></div></div></div></div></div>"
      ],
      "text/plain": [
       "Pipeline(steps=[('scale', StandardScaler()),\n",
       "                ('model', LogisticRegression(C=0.1))])"
      ]
     },
     "execution_count": 32,
     "metadata": {},
     "output_type": "execute_result"
    }
   ],
   "source": [
    "model.fit(X_train, y_train.values.ravel())"
   ]
  },
  {
   "cell_type": "code",
   "execution_count": 33,
   "id": "af59f8c0",
   "metadata": {
    "execution": {
     "iopub.execute_input": "2025-08-05T20:35:03.094767Z",
     "iopub.status.busy": "2025-08-05T20:35:03.094359Z",
     "iopub.status.idle": "2025-08-05T20:35:03.099133Z",
     "shell.execute_reply": "2025-08-05T20:35:03.098245Z"
    },
    "papermill": {
     "duration": 0.04326,
     "end_time": "2025-08-05T20:35:03.100616",
     "exception": false,
     "start_time": "2025-08-05T20:35:03.057356",
     "status": "completed"
    },
    "tags": []
   },
   "outputs": [],
   "source": [
    "from fairness_multiverse.universe import predict_w_threshold"
   ]
  },
  {
   "cell_type": "code",
   "execution_count": 34,
   "id": "a7cf2e16",
   "metadata": {
    "execution": {
     "iopub.execute_input": "2025-08-05T20:35:03.123802Z",
     "iopub.status.busy": "2025-08-05T20:35:03.123398Z",
     "iopub.status.idle": "2025-08-05T20:35:03.310924Z",
     "shell.execute_reply": "2025-08-05T20:35:03.309918Z"
    },
    "papermill": {
     "duration": 0.200214,
     "end_time": "2025-08-05T20:35:03.312572",
     "exception": false,
     "start_time": "2025-08-05T20:35:03.112358",
     "status": "completed"
    },
    "tags": []
   },
   "outputs": [
    {
     "data": {
      "text/plain": [
       "0.8648534165644856"
      ]
     },
     "execution_count": 34,
     "metadata": {},
     "output_type": "execute_result"
    }
   ],
   "source": [
    "probs_test = model.predict_proba(X_test)\n",
    "\n",
    "'''\n",
    "Below code returns a boolean array (or binary 0/1 array depending on how it’s used) where each element \n",
    "is True if the probability of class 1 is greater than or equal to the threshold, and False otherwise.\n",
    "'''\n",
    "y_pred_default = predict_w_threshold(probs_test, 0.5)\n",
    "\n",
    "from sklearn.metrics import accuracy_score\n",
    "\n",
    "# Naive prediction\n",
    "accuracy_score(y_true = y_true, y_pred = y_pred_default)"
   ]
  },
  {
   "cell_type": "code",
   "execution_count": 35,
   "id": "081964c3",
   "metadata": {
    "execution": {
     "iopub.execute_input": "2025-08-05T20:35:03.353653Z",
     "iopub.status.busy": "2025-08-05T20:35:03.352897Z",
     "iopub.status.idle": "2025-08-05T20:35:03.568573Z",
     "shell.execute_reply": "2025-08-05T20:35:03.567879Z"
    },
    "papermill": {
     "duration": 0.238201,
     "end_time": "2025-08-05T20:35:03.569835",
     "exception": false,
     "start_time": "2025-08-05T20:35:03.331634",
     "status": "completed"
    },
    "tags": []
   },
   "outputs": [
    {
     "data": {
      "text/plain": [
       "array([0, 0, 0, ..., 0, 0, 0])"
      ]
     },
     "execution_count": 35,
     "metadata": {},
     "output_type": "execute_result"
    }
   ],
   "source": [
    "model.predict(X_test)"
   ]
  },
  {
   "cell_type": "markdown",
   "id": "56c9705b",
   "metadata": {
    "papermill": {
     "duration": 0.009924,
     "end_time": "2025-08-05T20:35:03.590462",
     "exception": false,
     "start_time": "2025-08-05T20:35:03.580538",
     "status": "completed"
    },
    "tags": []
   },
   "source": [
    "# Conformal Prediction"
   ]
  },
  {
   "cell_type": "code",
   "execution_count": 36,
   "id": "160ec6ff",
   "metadata": {
    "execution": {
     "iopub.execute_input": "2025-08-05T20:35:03.612675Z",
     "iopub.status.busy": "2025-08-05T20:35:03.612158Z",
     "iopub.status.idle": "2025-08-05T20:35:03.618096Z",
     "shell.execute_reply": "2025-08-05T20:35:03.617006Z"
    },
    "papermill": {
     "duration": 0.019432,
     "end_time": "2025-08-05T20:35:03.620394",
     "exception": false,
     "start_time": "2025-08-05T20:35:03.600962",
     "status": "completed"
    },
    "tags": []
   },
   "outputs": [],
   "source": [
    "# Miscoverage level for conformal prediction (10% allowed error rate => 90% target coverage)\n",
    "alpha = 0.1"
   ]
  },
  {
   "cell_type": "code",
   "execution_count": 37,
   "id": "eadf4555-3dd3-440e-8e35-f82a4ad9f855",
   "metadata": {
    "execution": {
     "iopub.execute_input": "2025-08-05T20:35:03.674231Z",
     "iopub.status.busy": "2025-08-05T20:35:03.673643Z",
     "iopub.status.idle": "2025-08-05T20:35:03.856397Z",
     "shell.execute_reply": "2025-08-05T20:35:03.855420Z"
    },
    "papermill": {
     "duration": 0.207136,
     "end_time": "2025-08-05T20:35:03.858455",
     "exception": false,
     "start_time": "2025-08-05T20:35:03.651319",
     "status": "completed"
    },
    "tags": []
   },
   "outputs": [],
   "source": [
    "probs_calib = model.predict_proba(X_calib)"
   ]
  },
  {
   "cell_type": "code",
   "execution_count": 38,
   "id": "2ed93547-6d5d-4983-9b36-1ecb300da49a",
   "metadata": {
    "execution": {
     "iopub.execute_input": "2025-08-05T20:35:03.904215Z",
     "iopub.status.busy": "2025-08-05T20:35:03.903651Z",
     "iopub.status.idle": "2025-08-05T20:35:03.910801Z",
     "shell.execute_reply": "2025-08-05T20:35:03.909660Z"
    },
    "papermill": {
     "duration": 0.030436,
     "end_time": "2025-08-05T20:35:03.912809",
     "exception": false,
     "start_time": "2025-08-05T20:35:03.882373",
     "status": "completed"
    },
    "tags": []
   },
   "outputs": [],
   "source": [
    "y_calib = y_calib.values.ravel().astype(int)"
   ]
  },
  {
   "cell_type": "code",
   "execution_count": 39,
   "id": "65d1320d-f588-4b38-9072-62af1ae97f7d",
   "metadata": {
    "execution": {
     "iopub.execute_input": "2025-08-05T20:35:03.959003Z",
     "iopub.status.busy": "2025-08-05T20:35:03.958689Z",
     "iopub.status.idle": "2025-08-05T20:35:03.965361Z",
     "shell.execute_reply": "2025-08-05T20:35:03.964381Z"
    },
    "papermill": {
     "duration": 0.031639,
     "end_time": "2025-08-05T20:35:03.967153",
     "exception": false,
     "start_time": "2025-08-05T20:35:03.935514",
     "status": "completed"
    },
    "tags": []
   },
   "outputs": [],
   "source": [
    "from fairness_multiverse.conformal import compute_nc_scores\n",
    "\n",
    "# Compute nonconformity scores on calibration set (1 - probability of true class)\n",
    "nc_scores = compute_nc_scores(probs_calib, y_calib)"
   ]
  },
  {
   "cell_type": "code",
   "execution_count": 40,
   "id": "df3b8ca3-53b7-43d5-9667-7c85da7aeda2",
   "metadata": {
    "execution": {
     "iopub.execute_input": "2025-08-05T20:35:03.996046Z",
     "iopub.status.busy": "2025-08-05T20:35:03.995719Z",
     "iopub.status.idle": "2025-08-05T20:35:04.001113Z",
     "shell.execute_reply": "2025-08-05T20:35:04.000198Z"
    },
    "papermill": {
     "duration": 0.018402,
     "end_time": "2025-08-05T20:35:04.002565",
     "exception": false,
     "start_time": "2025-08-05T20:35:03.984163",
     "status": "completed"
    },
    "tags": []
   },
   "outputs": [],
   "source": [
    "from fairness_multiverse.conformal import find_threshold\n",
    "\n",
    "# Find conformal threshold q_hat for the given alpha (split conformal method)\n",
    "q_hat = find_threshold(nc_scores, alpha)"
   ]
  },
  {
   "cell_type": "code",
   "execution_count": 41,
   "id": "4d29e6c1-0ef6-4aa4-b8fe-4fe79b0d033a",
   "metadata": {
    "execution": {
     "iopub.execute_input": "2025-08-05T20:35:04.024955Z",
     "iopub.status.busy": "2025-08-05T20:35:04.024503Z",
     "iopub.status.idle": "2025-08-05T20:35:04.030746Z",
     "shell.execute_reply": "2025-08-05T20:35:04.029968Z"
    },
    "papermill": {
     "duration": 0.018909,
     "end_time": "2025-08-05T20:35:04.032277",
     "exception": false,
     "start_time": "2025-08-05T20:35:04.013368",
     "status": "completed"
    },
    "tags": []
   },
   "outputs": [
    {
     "data": {
      "text/plain": [
       "0.6796543145147559"
      ]
     },
     "execution_count": 41,
     "metadata": {},
     "output_type": "execute_result"
    }
   ],
   "source": [
    "q_hat"
   ]
  },
  {
   "cell_type": "code",
   "execution_count": 42,
   "id": "92460794-cdac-4be2-ba28-f28c0515a6fb",
   "metadata": {
    "execution": {
     "iopub.execute_input": "2025-08-05T20:35:04.056044Z",
     "iopub.status.busy": "2025-08-05T20:35:04.055414Z",
     "iopub.status.idle": "2025-08-05T20:35:04.907593Z",
     "shell.execute_reply": "2025-08-05T20:35:04.906781Z"
    },
    "papermill": {
     "duration": 0.865678,
     "end_time": "2025-08-05T20:35:04.909092",
     "exception": false,
     "start_time": "2025-08-05T20:35:04.043414",
     "status": "completed"
    },
    "tags": []
   },
   "outputs": [],
   "source": [
    "from fairness_multiverse.conformal import predict_conformal_sets\n",
    "\n",
    "# Generate prediction sets for each test example\n",
    "pred_sets = predict_conformal_sets(model, X_test, q_hat)"
   ]
  },
  {
   "cell_type": "code",
   "execution_count": 43,
   "id": "d90c9a65-e6db-4f5d-80cd-e68fb7e46829",
   "metadata": {
    "execution": {
     "iopub.execute_input": "2025-08-05T20:35:04.933945Z",
     "iopub.status.busy": "2025-08-05T20:35:04.933177Z",
     "iopub.status.idle": "2025-08-05T20:35:04.938126Z",
     "shell.execute_reply": "2025-08-05T20:35:04.937290Z"
    },
    "papermill": {
     "duration": 0.01884,
     "end_time": "2025-08-05T20:35:04.939705",
     "exception": false,
     "start_time": "2025-08-05T20:35:04.920865",
     "status": "completed"
    },
    "tags": []
   },
   "outputs": [],
   "source": [
    "y_true = y_true.squeeze()"
   ]
  },
  {
   "cell_type": "code",
   "execution_count": 44,
   "id": "3a58a54a-1e68-46b9-927a-df01f18aebc8",
   "metadata": {
    "execution": {
     "iopub.execute_input": "2025-08-05T20:35:04.964477Z",
     "iopub.status.busy": "2025-08-05T20:35:04.963636Z",
     "iopub.status.idle": "2025-08-05T20:35:05.855874Z",
     "shell.execute_reply": "2025-08-05T20:35:05.855108Z"
    },
    "papermill": {
     "duration": 0.90556,
     "end_time": "2025-08-05T20:35:05.857324",
     "exception": false,
     "start_time": "2025-08-05T20:35:04.951764",
     "status": "completed"
    },
    "tags": []
   },
   "outputs": [],
   "source": [
    "from fairness_multiverse.conformal import evaluate_sets\n",
    "\n",
    "# Evaluate coverage and average set size on test data\n",
    "metrics = evaluate_sets(pred_sets, y_true)"
   ]
  },
  {
   "cell_type": "markdown",
   "id": "2b569c12-9aaa-4c88-98c9-bbcd0cf3ebb8",
   "metadata": {
    "papermill": {
     "duration": 0.010732,
     "end_time": "2025-08-05T20:35:05.879300",
     "exception": false,
     "start_time": "2025-08-05T20:35:05.868568",
     "status": "completed"
    },
    "tags": []
   },
   "source": [
    "# CP Metrics"
   ]
  },
  {
   "cell_type": "code",
   "execution_count": 45,
   "id": "5ce0a5cb-201f-45a0-ade5-94c7f0bd6095",
   "metadata": {
    "execution": {
     "iopub.execute_input": "2025-08-05T20:35:05.902774Z",
     "iopub.status.busy": "2025-08-05T20:35:05.901991Z",
     "iopub.status.idle": "2025-08-05T20:35:05.908845Z",
     "shell.execute_reply": "2025-08-05T20:35:05.907954Z"
    },
    "papermill": {
     "duration": 0.020493,
     "end_time": "2025-08-05T20:35:05.910614",
     "exception": false,
     "start_time": "2025-08-05T20:35:05.890121",
     "status": "completed"
    },
    "tags": []
   },
   "outputs": [
    {
     "data": {
      "text/plain": [
       "{'coverage': 0.9125181139226396, 'avg_size': 1.1268308995652658}"
      ]
     },
     "execution_count": 45,
     "metadata": {},
     "output_type": "execute_result"
    }
   ],
   "source": [
    "metrics"
   ]
  },
  {
   "cell_type": "code",
   "execution_count": 46,
   "id": "9b9a838d-31c9-430b-ae14-12baee460d17",
   "metadata": {
    "execution": {
     "iopub.execute_input": "2025-08-05T20:35:05.935494Z",
     "iopub.status.busy": "2025-08-05T20:35:05.934965Z",
     "iopub.status.idle": "2025-08-05T20:35:05.941222Z",
     "shell.execute_reply": "2025-08-05T20:35:05.940357Z"
    },
    "papermill": {
     "duration": 0.020021,
     "end_time": "2025-08-05T20:35:05.942781",
     "exception": false,
     "start_time": "2025-08-05T20:35:05.922760",
     "status": "completed"
    },
    "tags": []
   },
   "outputs": [],
   "source": [
    "example_universe = universe.copy()\n",
    "universe_training_year = example_universe.get(\"training_year\")\n",
    "universe_training_size = example_universe.get(\"training_size\")\n",
    "universe_scale = example_universe.get(\"scale\")\n",
    "universe_model = example_universe.get(\"model\")\n",
    "universe_exclude_features = example_universe.get(\"exclude_features\")\n",
    "universe_exclude_subgroups = example_universe.get(\"exclude_subgroups\")"
   ]
  },
  {
   "cell_type": "code",
   "execution_count": 47,
   "id": "f4b6a8ac-9dc0-4245-8a91-5b3b5999c4f9",
   "metadata": {
    "execution": {
     "iopub.execute_input": "2025-08-05T20:35:05.967720Z",
     "iopub.status.busy": "2025-08-05T20:35:05.967185Z",
     "iopub.status.idle": "2025-08-05T20:35:05.972843Z",
     "shell.execute_reply": "2025-08-05T20:35:05.971931Z"
    },
    "papermill": {
     "duration": 0.019583,
     "end_time": "2025-08-05T20:35:05.974397",
     "exception": false,
     "start_time": "2025-08-05T20:35:05.954814",
     "status": "completed"
    },
    "tags": []
   },
   "outputs": [],
   "source": [
    "cp_metrics_dict = {\n",
    "    \"universe_id\": [universe_id],\n",
    "    \"universe_training_year\": [universe_training_year],\n",
    "    \"universe_training_size\": [universe_training_size],\n",
    "    \"universe_scale\": [universe_scale],\n",
    "    \"universe_model\": [universe_model],\n",
    "    \"universe_exclude_features\": [universe_exclude_features],\n",
    "    \"universe_exclude_subgroups\": [universe_exclude_subgroups],\n",
    "    \"q_hat\": [q_hat],\n",
    "    \"coverage\": [metrics[\"coverage\"]],\n",
    "    \"avg_size\": [metrics[\"avg_size\"]],\n",
    "}"
   ]
  },
  {
   "cell_type": "code",
   "execution_count": 48,
   "id": "908acbb1-0371-4915-85ca-3fa520d2efe2",
   "metadata": {
    "execution": {
     "iopub.execute_input": "2025-08-05T20:35:05.998681Z",
     "iopub.status.busy": "2025-08-05T20:35:05.998163Z",
     "iopub.status.idle": "2025-08-05T20:35:06.004779Z",
     "shell.execute_reply": "2025-08-05T20:35:06.003792Z"
    },
    "papermill": {
     "duration": 0.020048,
     "end_time": "2025-08-05T20:35:06.006350",
     "exception": false,
     "start_time": "2025-08-05T20:35:05.986302",
     "status": "completed"
    },
    "tags": []
   },
   "outputs": [
    {
     "data": {
      "text/plain": [
       "{'universe_id': ['7ce930452dc10f11e7fccd94bd1c790d'],\n",
       " 'universe_training_year': ['2014'],\n",
       " 'universe_training_size': ['25k'],\n",
       " 'universe_scale': ['scale'],\n",
       " 'universe_model': ['penalized_logreg'],\n",
       " 'universe_exclude_features': ['age'],\n",
       " 'universe_exclude_subgroups': ['keep-all'],\n",
       " 'q_hat': [0.6796543145147559],\n",
       " 'coverage': [0.9125181139226396],\n",
       " 'avg_size': [1.1268308995652658]}"
      ]
     },
     "execution_count": 48,
     "metadata": {},
     "output_type": "execute_result"
    }
   ],
   "source": [
    "cp_metrics_dict"
   ]
  },
  {
   "cell_type": "code",
   "execution_count": 49,
   "id": "33007efc-14e9-4ec6-97ac-56a455c82265",
   "metadata": {
    "execution": {
     "iopub.execute_input": "2025-08-05T20:35:06.029791Z",
     "iopub.status.busy": "2025-08-05T20:35:06.029288Z",
     "iopub.status.idle": "2025-08-05T20:35:06.034305Z",
     "shell.execute_reply": "2025-08-05T20:35:06.033481Z"
    },
    "papermill": {
     "duration": 0.018044,
     "end_time": "2025-08-05T20:35:06.035819",
     "exception": false,
     "start_time": "2025-08-05T20:35:06.017775",
     "status": "completed"
    },
    "tags": []
   },
   "outputs": [],
   "source": [
    "cp_metrics_df = pd.DataFrame(cp_metrics_dict)"
   ]
  },
  {
   "cell_type": "code",
   "execution_count": 50,
   "id": "db12611b-57b2-4910-b9d0-355adfd6e7bf",
   "metadata": {
    "execution": {
     "iopub.execute_input": "2025-08-05T20:35:06.060700Z",
     "iopub.status.busy": "2025-08-05T20:35:06.060207Z",
     "iopub.status.idle": "2025-08-05T20:35:06.074352Z",
     "shell.execute_reply": "2025-08-05T20:35:06.073469Z"
    },
    "papermill": {
     "duration": 0.028165,
     "end_time": "2025-08-05T20:35:06.075607",
     "exception": false,
     "start_time": "2025-08-05T20:35:06.047442",
     "status": "completed"
    },
    "tags": []
   },
   "outputs": [
    {
     "data": {
      "text/html": [
       "<div>\n",
       "<style scoped>\n",
       "    .dataframe tbody tr th:only-of-type {\n",
       "        vertical-align: middle;\n",
       "    }\n",
       "\n",
       "    .dataframe tbody tr th {\n",
       "        vertical-align: top;\n",
       "    }\n",
       "\n",
       "    .dataframe thead th {\n",
       "        text-align: right;\n",
       "    }\n",
       "</style>\n",
       "<table border=\"1\" class=\"dataframe\">\n",
       "  <thead>\n",
       "    <tr style=\"text-align: right;\">\n",
       "      <th></th>\n",
       "      <th>universe_id</th>\n",
       "      <th>universe_training_year</th>\n",
       "      <th>universe_training_size</th>\n",
       "      <th>universe_scale</th>\n",
       "      <th>universe_model</th>\n",
       "      <th>universe_exclude_features</th>\n",
       "      <th>universe_exclude_subgroups</th>\n",
       "      <th>q_hat</th>\n",
       "      <th>coverage</th>\n",
       "      <th>avg_size</th>\n",
       "    </tr>\n",
       "  </thead>\n",
       "  <tbody>\n",
       "    <tr>\n",
       "      <th>0</th>\n",
       "      <td>7ce930452dc10f11e7fccd94bd1c790d</td>\n",
       "      <td>2014</td>\n",
       "      <td>25k</td>\n",
       "      <td>scale</td>\n",
       "      <td>penalized_logreg</td>\n",
       "      <td>age</td>\n",
       "      <td>keep-all</td>\n",
       "      <td>0.679654</td>\n",
       "      <td>0.912518</td>\n",
       "      <td>1.126831</td>\n",
       "    </tr>\n",
       "  </tbody>\n",
       "</table>\n",
       "</div>"
      ],
      "text/plain": [
       "                        universe_id universe_training_year  \\\n",
       "0  7ce930452dc10f11e7fccd94bd1c790d                   2014   \n",
       "\n",
       "  universe_training_size universe_scale    universe_model  \\\n",
       "0                    25k          scale  penalized_logreg   \n",
       "\n",
       "  universe_exclude_features universe_exclude_subgroups     q_hat  coverage  \\\n",
       "0                       age                   keep-all  0.679654  0.912518   \n",
       "\n",
       "   avg_size  \n",
       "0  1.126831  "
      ]
     },
     "execution_count": 50,
     "metadata": {},
     "output_type": "execute_result"
    }
   ],
   "source": [
    "cp_metrics_df"
   ]
  },
  {
   "cell_type": "code",
   "execution_count": 51,
   "id": "b7fbde55-a0a1-47e4-9af6-fe4a17fa8c61",
   "metadata": {
    "execution": {
     "iopub.execute_input": "2025-08-05T20:35:06.098845Z",
     "iopub.status.busy": "2025-08-05T20:35:06.098400Z",
     "iopub.status.idle": "2025-08-05T20:35:06.102415Z",
     "shell.execute_reply": "2025-08-05T20:35:06.101596Z"
    },
    "papermill": {
     "duration": 0.017364,
     "end_time": "2025-08-05T20:35:06.103985",
     "exception": false,
     "start_time": "2025-08-05T20:35:06.086621",
     "status": "completed"
    },
    "tags": []
   },
   "outputs": [],
   "source": [
    "# Conditional Coverage & looking at subgroups"
   ]
  },
  {
   "cell_type": "code",
   "execution_count": 52,
   "id": "027ae886-68dd-4141-96c7-805a5450e1ef",
   "metadata": {
    "execution": {
     "iopub.execute_input": "2025-08-05T20:35:06.128104Z",
     "iopub.status.busy": "2025-08-05T20:35:06.127719Z",
     "iopub.status.idle": "2025-08-05T20:35:06.302814Z",
     "shell.execute_reply": "2025-08-05T20:35:06.302032Z"
    },
    "papermill": {
     "duration": 0.188445,
     "end_time": "2025-08-05T20:35:06.304253",
     "exception": false,
     "start_time": "2025-08-05T20:35:06.115808",
     "status": "completed"
    },
    "tags": []
   },
   "outputs": [],
   "source": [
    "from fairness_multiverse.conformal import build_cp_groups\n",
    "\n",
    "cp_groups_df = build_cp_groups(pred_sets, y_true, X_test.index, org_test)\n",
    "#needs universe_id and setting"
   ]
  },
  {
   "cell_type": "code",
   "execution_count": 53,
   "id": "6cbdab96-b2b2-45af-ad54-d0516db2e28d",
   "metadata": {
    "execution": {
     "iopub.execute_input": "2025-08-05T20:35:06.328600Z",
     "iopub.status.busy": "2025-08-05T20:35:06.327960Z",
     "iopub.status.idle": "2025-08-05T20:35:07.352204Z",
     "shell.execute_reply": "2025-08-05T20:35:07.351431Z"
    },
    "papermill": {
     "duration": 1.037655,
     "end_time": "2025-08-05T20:35:07.353681",
     "exception": false,
     "start_time": "2025-08-05T20:35:06.316026",
     "status": "completed"
    },
    "tags": []
   },
   "outputs": [],
   "source": [
    "# Define covered = 1 if true_label is in the predicted set\n",
    "cp_groups_df['covered'] = cp_groups_df.apply(\n",
    "    lambda r: int(r['true_label'] in r['pred_set']),\n",
    "    axis=1\n",
    ")"
   ]
  },
  {
   "cell_type": "code",
   "execution_count": 54,
   "id": "338ff529-1a6b-4b87-a931-8e4788d52aad",
   "metadata": {
    "execution": {
     "iopub.execute_input": "2025-08-05T20:35:07.402543Z",
     "iopub.status.busy": "2025-08-05T20:35:07.401630Z",
     "iopub.status.idle": "2025-08-05T20:35:07.407032Z",
     "shell.execute_reply": "2025-08-05T20:35:07.406014Z"
    },
    "papermill": {
     "duration": 0.040929,
     "end_time": "2025-08-05T20:35:07.409748",
     "exception": false,
     "start_time": "2025-08-05T20:35:07.368819",
     "status": "completed"
    },
    "tags": []
   },
   "outputs": [],
   "source": [
    "#cp_groups_df"
   ]
  },
  {
   "cell_type": "code",
   "execution_count": 55,
   "id": "90032e27-66df-4540-9169-4e89cfbaa758",
   "metadata": {
    "execution": {
     "iopub.execute_input": "2025-08-05T20:35:07.464844Z",
     "iopub.status.busy": "2025-08-05T20:35:07.464190Z",
     "iopub.status.idle": "2025-08-05T20:35:07.475581Z",
     "shell.execute_reply": "2025-08-05T20:35:07.474720Z"
    },
    "papermill": {
     "duration": 0.036864,
     "end_time": "2025-08-05T20:35:07.477232",
     "exception": false,
     "start_time": "2025-08-05T20:35:07.440368",
     "status": "completed"
    },
    "tags": []
   },
   "outputs": [],
   "source": [
    "subgroups = ['frau1','nongerman','nongerman_male','nongerman_female']\n",
    "\n",
    "# Conditional coverage for subgroup==1\n",
    "cond_coverage = {\n",
    "    g: cp_groups_df.loc[cp_groups_df[g]==1, 'covered'].mean()\n",
    "    for g in subgroups\n",
    "}"
   ]
  },
  {
   "cell_type": "code",
   "execution_count": 56,
   "id": "1e348fb1-b9c3-45bc-ba23-f016827a7e0d",
   "metadata": {
    "execution": {
     "iopub.execute_input": "2025-08-05T20:35:07.523297Z",
     "iopub.status.busy": "2025-08-05T20:35:07.522675Z",
     "iopub.status.idle": "2025-08-05T20:35:07.529510Z",
     "shell.execute_reply": "2025-08-05T20:35:07.528551Z"
    },
    "papermill": {
     "duration": 0.03129,
     "end_time": "2025-08-05T20:35:07.531165",
     "exception": false,
     "start_time": "2025-08-05T20:35:07.499875",
     "status": "completed"
    },
    "tags": []
   },
   "outputs": [
    {
     "data": {
      "text/plain": [
       "{'frau1': 0.9113627173473514,\n",
       " 'nongerman': 0.9105709313422781,\n",
       " 'nongerman_male': 0.9259659551472575,\n",
       " 'nongerman_female': 0.885096870342772}"
      ]
     },
     "execution_count": 56,
     "metadata": {},
     "output_type": "execute_result"
    }
   ],
   "source": [
    "cond_coverage"
   ]
  },
  {
   "cell_type": "code",
   "execution_count": 57,
   "id": "f5093324-c3dd-4d63-bc4c-8d945e5c8bbb",
   "metadata": {
    "execution": {
     "iopub.execute_input": "2025-08-05T20:35:07.578323Z",
     "iopub.status.busy": "2025-08-05T20:35:07.577466Z",
     "iopub.status.idle": "2025-08-05T20:35:07.584217Z",
     "shell.execute_reply": "2025-08-05T20:35:07.583187Z"
    },
    "papermill": {
     "duration": 0.032067,
     "end_time": "2025-08-05T20:35:07.586061",
     "exception": false,
     "start_time": "2025-08-05T20:35:07.553994",
     "status": "completed"
    },
    "tags": []
   },
   "outputs": [],
   "source": [
    "for subgroup, cov in cond_coverage.items():\n",
    "    cp_metrics_df[f\"cov_{subgroup}\"] = cov"
   ]
  },
  {
   "cell_type": "code",
   "execution_count": 58,
   "id": "6e872e10-dbe5-49e8-b554-5030c98ff75d",
   "metadata": {
    "execution": {
     "iopub.execute_input": "2025-08-05T20:35:07.630216Z",
     "iopub.status.busy": "2025-08-05T20:35:07.629818Z",
     "iopub.status.idle": "2025-08-05T20:35:07.649851Z",
     "shell.execute_reply": "2025-08-05T20:35:07.648813Z"
    },
    "papermill": {
     "duration": 0.043646,
     "end_time": "2025-08-05T20:35:07.651399",
     "exception": false,
     "start_time": "2025-08-05T20:35:07.607753",
     "status": "completed"
    },
    "tags": []
   },
   "outputs": [
    {
     "data": {
      "text/html": [
       "<div>\n",
       "<style scoped>\n",
       "    .dataframe tbody tr th:only-of-type {\n",
       "        vertical-align: middle;\n",
       "    }\n",
       "\n",
       "    .dataframe tbody tr th {\n",
       "        vertical-align: top;\n",
       "    }\n",
       "\n",
       "    .dataframe thead th {\n",
       "        text-align: right;\n",
       "    }\n",
       "</style>\n",
       "<table border=\"1\" class=\"dataframe\">\n",
       "  <thead>\n",
       "    <tr style=\"text-align: right;\">\n",
       "      <th></th>\n",
       "      <th>universe_id</th>\n",
       "      <th>universe_training_year</th>\n",
       "      <th>universe_training_size</th>\n",
       "      <th>universe_scale</th>\n",
       "      <th>universe_model</th>\n",
       "      <th>universe_exclude_features</th>\n",
       "      <th>universe_exclude_subgroups</th>\n",
       "      <th>q_hat</th>\n",
       "      <th>coverage</th>\n",
       "      <th>avg_size</th>\n",
       "      <th>cov_frau1</th>\n",
       "      <th>cov_nongerman</th>\n",
       "      <th>cov_nongerman_male</th>\n",
       "      <th>cov_nongerman_female</th>\n",
       "    </tr>\n",
       "  </thead>\n",
       "  <tbody>\n",
       "    <tr>\n",
       "      <th>0</th>\n",
       "      <td>7ce930452dc10f11e7fccd94bd1c790d</td>\n",
       "      <td>2014</td>\n",
       "      <td>25k</td>\n",
       "      <td>scale</td>\n",
       "      <td>penalized_logreg</td>\n",
       "      <td>age</td>\n",
       "      <td>keep-all</td>\n",
       "      <td>0.679654</td>\n",
       "      <td>0.912518</td>\n",
       "      <td>1.126831</td>\n",
       "      <td>0.911363</td>\n",
       "      <td>0.910571</td>\n",
       "      <td>0.925966</td>\n",
       "      <td>0.885097</td>\n",
       "    </tr>\n",
       "  </tbody>\n",
       "</table>\n",
       "</div>"
      ],
      "text/plain": [
       "                        universe_id universe_training_year  \\\n",
       "0  7ce930452dc10f11e7fccd94bd1c790d                   2014   \n",
       "\n",
       "  universe_training_size universe_scale    universe_model  \\\n",
       "0                    25k          scale  penalized_logreg   \n",
       "\n",
       "  universe_exclude_features universe_exclude_subgroups     q_hat  coverage  \\\n",
       "0                       age                   keep-all  0.679654  0.912518   \n",
       "\n",
       "   avg_size  cov_frau1  cov_nongerman  cov_nongerman_male  \\\n",
       "0  1.126831   0.911363       0.910571            0.925966   \n",
       "\n",
       "   cov_nongerman_female  \n",
       "0              0.885097  "
      ]
     },
     "execution_count": 58,
     "metadata": {},
     "output_type": "execute_result"
    }
   ],
   "source": [
    "cp_metrics_df"
   ]
  },
  {
   "cell_type": "markdown",
   "id": "33774451",
   "metadata": {
    "papermill": {
     "duration": 0.020807,
     "end_time": "2025-08-05T20:35:07.693686",
     "exception": false,
     "start_time": "2025-08-05T20:35:07.672879",
     "status": "completed"
    },
    "tags": []
   },
   "source": [
    "# (Fairness) Metrics"
   ]
  },
  {
   "cell_type": "code",
   "execution_count": 59,
   "id": "debc5d62",
   "metadata": {
    "execution": {
     "iopub.execute_input": "2025-08-05T20:35:07.737058Z",
     "iopub.status.busy": "2025-08-05T20:35:07.736239Z",
     "iopub.status.idle": "2025-08-05T20:35:07.757187Z",
     "shell.execute_reply": "2025-08-05T20:35:07.756206Z"
    },
    "papermill": {
     "duration": 0.045013,
     "end_time": "2025-08-05T20:35:07.758954",
     "exception": false,
     "start_time": "2025-08-05T20:35:07.713941",
     "status": "completed"
    },
    "tags": []
   },
   "outputs": [],
   "source": [
    "# do I need to include maxdeutsch1.missing?\n",
    "\n",
    "import numpy as np\n",
    "\n",
    "colname_to_bin = \"maxdeutsch1\"\n",
    "majority_value = org_train[colname_to_bin].mode()[0]\n",
    "\n",
    "org_test[\"majmin\"] = np.where(org_test[colname_to_bin] == majority_value, \"majority\", \"minority\")"
   ]
  },
  {
   "cell_type": "code",
   "execution_count": 60,
   "id": "06a50de5",
   "metadata": {
    "execution": {
     "iopub.execute_input": "2025-08-05T20:35:07.803349Z",
     "iopub.status.busy": "2025-08-05T20:35:07.802940Z",
     "iopub.status.idle": "2025-08-05T20:35:10.589703Z",
     "shell.execute_reply": "2025-08-05T20:35:10.588789Z"
    },
    "papermill": {
     "duration": 2.810604,
     "end_time": "2025-08-05T20:35:10.591641",
     "exception": false,
     "start_time": "2025-08-05T20:35:07.781037",
     "status": "completed"
    },
    "tags": []
   },
   "outputs": [],
   "source": [
    "example_universe = universe.copy()\n",
    "example_universe[\"cutoff\"] = example_universe[\"cutoff\"][0]\n",
    "example_universe[\"eval_fairness_grouping\"] = example_universe[\"eval_fairness_grouping\"][0]\n",
    "fairness_dict, metric_frame = universe_analysis.compute_metrics(\n",
    "    example_universe,\n",
    "    y_pred_prob=probs_test,\n",
    "    y_test=y_true,\n",
    "    org_test=org_test,\n",
    ")"
   ]
  },
  {
   "cell_type": "markdown",
   "id": "f95d4e02",
   "metadata": {
    "papermill": {
     "duration": 0.022849,
     "end_time": "2025-08-05T20:35:10.638343",
     "exception": false,
     "start_time": "2025-08-05T20:35:10.615494",
     "status": "completed"
    },
    "tags": []
   },
   "source": [
    "# Overall"
   ]
  },
  {
   "cell_type": "markdown",
   "id": "bdee4871",
   "metadata": {
    "papermill": {
     "duration": 0.023983,
     "end_time": "2025-08-05T20:35:10.685354",
     "exception": false,
     "start_time": "2025-08-05T20:35:10.661371",
     "status": "completed"
    },
    "tags": []
   },
   "source": [
    "Fairness\n",
    "Main fairness target: Equalized Odds. Seems to be a better fit than equal opportunity, since we're not only interested in Y = 1. Seems to be a better fit than demographic parity, since we also care about accuracy, not just equal distribution of preds.\n",
    "\n",
    "Pick column for computation of fairness metrics\n",
    "\n",
    "Performance\n",
    "Overall performance measures, most interesting in relation to the measures split by group below"
   ]
  },
  {
   "cell_type": "code",
   "execution_count": 61,
   "id": "c4e067c6",
   "metadata": {
    "execution": {
     "iopub.execute_input": "2025-08-05T20:35:10.732651Z",
     "iopub.status.busy": "2025-08-05T20:35:10.731993Z",
     "iopub.status.idle": "2025-08-05T20:35:10.741924Z",
     "shell.execute_reply": "2025-08-05T20:35:10.740682Z"
    },
    "papermill": {
     "duration": 0.035671,
     "end_time": "2025-08-05T20:35:10.743561",
     "exception": false,
     "start_time": "2025-08-05T20:35:10.707890",
     "status": "completed"
    },
    "tags": []
   },
   "outputs": [
    {
     "data": {
      "text/plain": [
       "accuracy                   0.225315\n",
       "balanced accuracy          0.550729\n",
       "f1                         0.246620\n",
       "precision                  0.140886\n",
       "false positive rate        0.886985\n",
       "false negative rate        0.011557\n",
       "selection rate             0.900000\n",
       "count                  89710.000000\n",
       "dtype: float64"
      ]
     },
     "execution_count": 61,
     "metadata": {},
     "output_type": "execute_result"
    }
   ],
   "source": [
    "metric_frame.overall"
   ]
  },
  {
   "cell_type": "markdown",
   "id": "e968fe9d",
   "metadata": {
    "papermill": {
     "duration": 0.020796,
     "end_time": "2025-08-05T20:35:10.786491",
     "exception": false,
     "start_time": "2025-08-05T20:35:10.765695",
     "status": "completed"
    },
    "tags": []
   },
   "source": [
    "By Group"
   ]
  },
  {
   "cell_type": "code",
   "execution_count": 62,
   "id": "ec325bce",
   "metadata": {
    "execution": {
     "iopub.execute_input": "2025-08-05T20:35:10.829754Z",
     "iopub.status.busy": "2025-08-05T20:35:10.828954Z",
     "iopub.status.idle": "2025-08-05T20:35:10.846618Z",
     "shell.execute_reply": "2025-08-05T20:35:10.845587Z"
    },
    "papermill": {
     "duration": 0.040999,
     "end_time": "2025-08-05T20:35:10.848210",
     "exception": false,
     "start_time": "2025-08-05T20:35:10.807211",
     "status": "completed"
    },
    "tags": []
   },
   "outputs": [
    {
     "data": {
      "text/html": [
       "<div>\n",
       "<style scoped>\n",
       "    .dataframe tbody tr th:only-of-type {\n",
       "        vertical-align: middle;\n",
       "    }\n",
       "\n",
       "    .dataframe tbody tr th {\n",
       "        vertical-align: top;\n",
       "    }\n",
       "\n",
       "    .dataframe thead th {\n",
       "        text-align: right;\n",
       "    }\n",
       "</style>\n",
       "<table border=\"1\" class=\"dataframe\">\n",
       "  <thead>\n",
       "    <tr style=\"text-align: right;\">\n",
       "      <th></th>\n",
       "      <th>accuracy</th>\n",
       "      <th>balanced accuracy</th>\n",
       "      <th>f1</th>\n",
       "      <th>precision</th>\n",
       "      <th>false positive rate</th>\n",
       "      <th>false negative rate</th>\n",
       "      <th>selection rate</th>\n",
       "      <th>count</th>\n",
       "    </tr>\n",
       "    <tr>\n",
       "      <th>majmin</th>\n",
       "      <th></th>\n",
       "      <th></th>\n",
       "      <th></th>\n",
       "      <th></th>\n",
       "      <th></th>\n",
       "      <th></th>\n",
       "      <th></th>\n",
       "      <th></th>\n",
       "    </tr>\n",
       "  </thead>\n",
       "  <tbody>\n",
       "    <tr>\n",
       "      <th>majority</th>\n",
       "      <td>0.247911</td>\n",
       "      <td>0.561181</td>\n",
       "      <td>0.257507</td>\n",
       "      <td>0.148070</td>\n",
       "      <td>0.864618</td>\n",
       "      <td>0.013020</td>\n",
       "      <td>0.880786</td>\n",
       "      <td>69170.0</td>\n",
       "    </tr>\n",
       "    <tr>\n",
       "      <th>minority</th>\n",
       "      <td>0.149221</td>\n",
       "      <td>0.516607</td>\n",
       "      <td>0.212235</td>\n",
       "      <td>0.118799</td>\n",
       "      <td>0.960874</td>\n",
       "      <td>0.005912</td>\n",
       "      <td>0.964703</td>\n",
       "      <td>20540.0</td>\n",
       "    </tr>\n",
       "  </tbody>\n",
       "</table>\n",
       "</div>"
      ],
      "text/plain": [
       "          accuracy  balanced accuracy        f1  precision  \\\n",
       "majmin                                                       \n",
       "majority  0.247911           0.561181  0.257507   0.148070   \n",
       "minority  0.149221           0.516607  0.212235   0.118799   \n",
       "\n",
       "          false positive rate  false negative rate  selection rate    count  \n",
       "majmin                                                                       \n",
       "majority             0.864618             0.013020        0.880786  69170.0  \n",
       "minority             0.960874             0.005912        0.964703  20540.0  "
      ]
     },
     "execution_count": 62,
     "metadata": {},
     "output_type": "execute_result"
    }
   ],
   "source": [
    "metric_frame.by_group"
   ]
  },
  {
   "cell_type": "code",
   "execution_count": 63,
   "id": "a9ddbe63",
   "metadata": {
    "execution": {
     "iopub.execute_input": "2025-08-05T20:35:10.893693Z",
     "iopub.status.busy": "2025-08-05T20:35:10.892910Z",
     "iopub.status.idle": "2025-08-05T20:35:13.197435Z",
     "shell.execute_reply": "2025-08-05T20:35:13.196448Z"
    },
    "papermill": {
     "duration": 2.328514,
     "end_time": "2025-08-05T20:35:13.198833",
     "exception": false,
     "start_time": "2025-08-05T20:35:10.870319",
     "status": "completed"
    },
    "tags": []
   },
   "outputs": [
    {
     "data": {
      "text/plain": [
       "array([[<Axes: title={'center': 'accuracy'}, xlabel='majmin'>,\n",
       "        <Axes: title={'center': 'balanced accuracy'}, xlabel='majmin'>,\n",
       "        <Axes: title={'center': 'f1'}, xlabel='majmin'>],\n",
       "       [<Axes: title={'center': 'precision'}, xlabel='majmin'>,\n",
       "        <Axes: title={'center': 'false positive rate'}, xlabel='majmin'>,\n",
       "        <Axes: title={'center': 'false negative rate'}, xlabel='majmin'>],\n",
       "       [<Axes: title={'center': 'selection rate'}, xlabel='majmin'>,\n",
       "        <Axes: title={'center': 'count'}, xlabel='majmin'>,\n",
       "        <Axes: xlabel='majmin'>]], dtype=object)"
      ]
     },
     "execution_count": 63,
     "metadata": {},
     "output_type": "execute_result"
    },
    {
     "data": {
      "image/png": "[encoded data removed]",
      "text/plain": [
       "<Figure size 1200x800 with 9 Axes>"
      ]
     },
     "metadata": {},
     "output_type": "display_data"
    }
   ],
   "source": [
    "# In a graphic\n",
    "metric_frame.by_group.plot.bar(\n",
    "    subplots=True,\n",
    "    layout=[3, 3],\n",
    "    legend=False,\n",
    "    figsize=[12, 8],\n",
    "    title=\"Show all metrics\",\n",
    ")"
   ]
  },
  {
   "cell_type": "markdown",
   "id": "f57a0bac",
   "metadata": {
    "papermill": {
     "duration": 0.02268,
     "end_time": "2025-08-05T20:35:13.246264",
     "exception": false,
     "start_time": "2025-08-05T20:35:13.223584",
     "status": "completed"
    },
    "tags": []
   },
   "source": [
    "# Final Output"
   ]
  },
  {
   "cell_type": "code",
   "execution_count": 64,
   "id": "96d280a3",
   "metadata": {
    "execution": {
     "iopub.execute_input": "2025-08-05T20:35:13.295038Z",
     "iopub.status.busy": "2025-08-05T20:35:13.294228Z",
     "iopub.status.idle": "2025-08-05T20:35:13.302548Z",
     "shell.execute_reply": "2025-08-05T20:35:13.301609Z"
    },
    "papermill": {
     "duration": 0.03349,
     "end_time": "2025-08-05T20:35:13.303982",
     "exception": false,
     "start_time": "2025-08-05T20:35:13.270492",
     "status": "completed"
    },
    "tags": []
   },
   "outputs": [
    {
     "data": {
      "text/plain": [
       "4"
      ]
     },
     "execution_count": 64,
     "metadata": {},
     "output_type": "execute_result"
    }
   ],
   "source": [
    "sub_universes = universe_analysis.generate_sub_universes()\n",
    "len(sub_universes)"
   ]
  },
  {
   "cell_type": "code",
   "execution_count": 65,
   "id": "92adf7ba",
   "metadata": {
    "execution": {
     "iopub.execute_input": "2025-08-05T20:35:13.360355Z",
     "iopub.status.busy": "2025-08-05T20:35:13.359818Z",
     "iopub.status.idle": "2025-08-05T20:35:13.366761Z",
     "shell.execute_reply": "2025-08-05T20:35:13.365529Z"
    },
    "papermill": {
     "duration": 0.038001,
     "end_time": "2025-08-05T20:35:13.368395",
     "exception": false,
     "start_time": "2025-08-05T20:35:13.330394",
     "status": "completed"
    },
    "tags": []
   },
   "outputs": [],
   "source": [
    "def filter_sub_universe_data(sub_universe, org_test):\n",
    "    # Keep all rows — no filtering\n",
    "    keep_rows_mask = np.ones(org_test.shape[0], dtype=bool)\n",
    "\n",
    "    print(f\"[INFO] Keeping all rows: {keep_rows_mask.sum()} rows retained.\")\n",
    "    return keep_rows_mask"
   ]
  },
  {
   "cell_type": "code",
   "execution_count": 66,
   "id": "4a759155",
   "metadata": {
    "execution": {
     "iopub.execute_input": "2025-08-05T20:35:13.418723Z",
     "iopub.status.busy": "2025-08-05T20:35:13.418317Z",
     "iopub.status.idle": "2025-08-05T20:35:20.527165Z",
     "shell.execute_reply": "2025-08-05T20:35:20.526454Z"
    },
    "papermill": {
     "duration": 7.13229,
     "end_time": "2025-08-05T20:35:20.528423",
     "exception": false,
     "start_time": "2025-08-05T20:35:13.396133",
     "status": "completed"
    },
    "tags": []
   },
   "outputs": [
    {
     "name": "stdout",
     "output_type": "stream",
     "text": [
      "Stopping execution_time clock.\n",
      "[INFO] Keeping all rows: 89710 rows retained.\n"
     ]
    },
    {
     "name": "stdout",
     "output_type": "stream",
     "text": [
      "[INFO] Keeping all rows: 89710 rows retained.\n"
     ]
    },
    {
     "name": "stdout",
     "output_type": "stream",
     "text": [
      "[INFO] Keeping all rows: 89710 rows retained.\n"
     ]
    },
    {
     "name": "stdout",
     "output_type": "stream",
     "text": [
      "[INFO] Keeping all rows: 89710 rows retained.\n"
     ]
    },
    {
     "data": {
      "text/html": [
       "<div>\n",
       "<style scoped>\n",
       "    .dataframe tbody tr th:only-of-type {\n",
       "        vertical-align: middle;\n",
       "    }\n",
       "\n",
       "    .dataframe tbody tr th {\n",
       "        vertical-align: top;\n",
       "    }\n",
       "\n",
       "    .dataframe thead th {\n",
       "        text-align: right;\n",
       "    }\n",
       "</style>\n",
       "<table border=\"1\" class=\"dataframe\">\n",
       "  <thead>\n",
       "    <tr style=\"text-align: right;\">\n",
       "      <th></th>\n",
       "      <th>run_no</th>\n",
       "      <th>universe_id</th>\n",
       "      <th>universe_settings</th>\n",
       "      <th>execution_time</th>\n",
       "      <th>test_size_n</th>\n",
       "      <th>test_size_frac</th>\n",
       "      <th>fair_main_equalized_odds_difference</th>\n",
       "      <th>fair_main_equalized_odds_ratio</th>\n",
       "      <th>fair_main_demographic_parity_difference</th>\n",
       "      <th>fair_main_demographic_parity_ratio</th>\n",
       "      <th>...</th>\n",
       "      <th>perf_grp_precision_0</th>\n",
       "      <th>perf_grp_precision_1</th>\n",
       "      <th>perf_grp_false positive rate_0</th>\n",
       "      <th>perf_grp_false positive rate_1</th>\n",
       "      <th>perf_grp_false negative rate_0</th>\n",
       "      <th>perf_grp_false negative rate_1</th>\n",
       "      <th>perf_grp_selection rate_0</th>\n",
       "      <th>perf_grp_selection rate_1</th>\n",
       "      <th>perf_grp_count_0</th>\n",
       "      <th>perf_grp_count_1</th>\n",
       "    </tr>\n",
       "  </thead>\n",
       "  <tbody>\n",
       "    <tr>\n",
       "      <th>0</th>\n",
       "      <td>16</td>\n",
       "      <td>7ce930452dc10f11e7fccd94bd1c790d</td>\n",
       "      <td>{\"cutoff\": \"quantile_0.1\", \"eval_fairness_grou...</td>\n",
       "      <td>25.981475</td>\n",
       "      <td>89710</td>\n",
       "      <td>1.0</td>\n",
       "      <td>0.096256</td>\n",
       "      <td>0.899824</td>\n",
       "      <td>0.083917</td>\n",
       "      <td>0.913013</td>\n",
       "      <td>...</td>\n",
       "      <td>NaN</td>\n",
       "      <td>NaN</td>\n",
       "      <td>NaN</td>\n",
       "      <td>NaN</td>\n",
       "      <td>NaN</td>\n",
       "      <td>NaN</td>\n",
       "      <td>NaN</td>\n",
       "      <td>NaN</td>\n",
       "      <td>NaN</td>\n",
       "      <td>NaN</td>\n",
       "    </tr>\n",
       "    <tr>\n",
       "      <th>0</th>\n",
       "      <td>16</td>\n",
       "      <td>7ce930452dc10f11e7fccd94bd1c790d</td>\n",
       "      <td>{\"cutoff\": \"quantile_0.1\", \"eval_fairness_grou...</td>\n",
       "      <td>25.981475</td>\n",
       "      <td>89710</td>\n",
       "      <td>1.0</td>\n",
       "      <td>0.096256</td>\n",
       "      <td>0.899824</td>\n",
       "      <td>0.083917</td>\n",
       "      <td>0.913013</td>\n",
       "      <td>...</td>\n",
       "      <td>0.118799</td>\n",
       "      <td>0.148070</td>\n",
       "      <td>0.960874</td>\n",
       "      <td>0.864618</td>\n",
       "      <td>0.005912</td>\n",
       "      <td>0.013020</td>\n",
       "      <td>0.964703</td>\n",
       "      <td>0.880786</td>\n",
       "      <td>20540.0</td>\n",
       "      <td>69170.0</td>\n",
       "    </tr>\n",
       "    <tr>\n",
       "      <th>0</th>\n",
       "      <td>16</td>\n",
       "      <td>7ce930452dc10f11e7fccd94bd1c790d</td>\n",
       "      <td>{\"cutoff\": \"quantile_0.25\", \"eval_fairness_gro...</td>\n",
       "      <td>25.981475</td>\n",
       "      <td>89710</td>\n",
       "      <td>1.0</td>\n",
       "      <td>0.176964</td>\n",
       "      <td>0.793449</td>\n",
       "      <td>0.154707</td>\n",
       "      <td>0.822029</td>\n",
       "      <td>...</td>\n",
       "      <td>NaN</td>\n",
       "      <td>NaN</td>\n",
       "      <td>NaN</td>\n",
       "      <td>NaN</td>\n",
       "      <td>NaN</td>\n",
       "      <td>NaN</td>\n",
       "      <td>NaN</td>\n",
       "      <td>NaN</td>\n",
       "      <td>NaN</td>\n",
       "      <td>NaN</td>\n",
       "    </tr>\n",
       "    <tr>\n",
       "      <th>0</th>\n",
       "      <td>16</td>\n",
       "      <td>7ce930452dc10f11e7fccd94bd1c790d</td>\n",
       "      <td>{\"cutoff\": \"quantile_0.25\", \"eval_fairness_gro...</td>\n",
       "      <td>25.981475</td>\n",
       "      <td>89710</td>\n",
       "      <td>1.0</td>\n",
       "      <td>0.176964</td>\n",
       "      <td>0.793449</td>\n",
       "      <td>0.154707</td>\n",
       "      <td>0.822029</td>\n",
       "      <td>...</td>\n",
       "      <td>0.128031</td>\n",
       "      <td>0.174378</td>\n",
       "      <td>0.856758</td>\n",
       "      <td>0.679793</td>\n",
       "      <td>0.034628</td>\n",
       "      <td>0.057002</td>\n",
       "      <td>0.869279</td>\n",
       "      <td>0.714573</td>\n",
       "      <td>20540.0</td>\n",
       "      <td>69170.0</td>\n",
       "    </tr>\n",
       "  </tbody>\n",
       "</table>\n",
       "<p>4 rows × 50 columns</p>\n",
       "</div>"
      ],
      "text/plain": [
       "  run_no                       universe_id  \\\n",
       "0     16  7ce930452dc10f11e7fccd94bd1c790d   \n",
       "0     16  7ce930452dc10f11e7fccd94bd1c790d   \n",
       "0     16  7ce930452dc10f11e7fccd94bd1c790d   \n",
       "0     16  7ce930452dc10f11e7fccd94bd1c790d   \n",
       "\n",
       "                                   universe_settings  execution_time  \\\n",
       "0  {\"cutoff\": \"quantile_0.1\", \"eval_fairness_grou...       25.981475   \n",
       "0  {\"cutoff\": \"quantile_0.1\", \"eval_fairness_grou...       25.981475   \n",
       "0  {\"cutoff\": \"quantile_0.25\", \"eval_fairness_gro...       25.981475   \n",
       "0  {\"cutoff\": \"quantile_0.25\", \"eval_fairness_gro...       25.981475   \n",
       "\n",
       "   test_size_n  test_size_frac  fair_main_equalized_odds_difference  \\\n",
       "0        89710             1.0                             0.096256   \n",
       "0        89710             1.0                             0.096256   \n",
       "0        89710             1.0                             0.176964   \n",
       "0        89710             1.0                             0.176964   \n",
       "\n",
       "   fair_main_equalized_odds_ratio  fair_main_demographic_parity_difference  \\\n",
       "0                        0.899824                                 0.083917   \n",
       "0                        0.899824                                 0.083917   \n",
       "0                        0.793449                                 0.154707   \n",
       "0                        0.793449                                 0.154707   \n",
       "\n",
       "   fair_main_demographic_parity_ratio  ...  perf_grp_precision_0  \\\n",
       "0                            0.913013  ...                   NaN   \n",
       "0                            0.913013  ...              0.118799   \n",
       "0                            0.822029  ...                   NaN   \n",
       "0                            0.822029  ...              0.128031   \n",
       "\n",
       "   perf_grp_precision_1  perf_grp_false positive rate_0  \\\n",
       "0                   NaN                             NaN   \n",
       "0              0.148070                        0.960874   \n",
       "0                   NaN                             NaN   \n",
       "0              0.174378                        0.856758   \n",
       "\n",
       "   perf_grp_false positive rate_1  perf_grp_false negative rate_0  \\\n",
       "0                             NaN                             NaN   \n",
       "0                        0.864618                        0.005912   \n",
       "0                             NaN                             NaN   \n",
       "0                        0.679793                        0.034628   \n",
       "\n",
       "   perf_grp_false negative rate_1  perf_grp_selection rate_0  \\\n",
       "0                             NaN                        NaN   \n",
       "0                        0.013020                   0.964703   \n",
       "0                             NaN                        NaN   \n",
       "0                        0.057002                   0.869279   \n",
       "\n",
       "   perf_grp_selection rate_1  perf_grp_count_0  perf_grp_count_1  \n",
       "0                        NaN               NaN               NaN  \n",
       "0                   0.880786           20540.0           69170.0  \n",
       "0                        NaN               NaN               NaN  \n",
       "0                   0.714573           20540.0           69170.0  \n",
       "\n",
       "[4 rows x 50 columns]"
      ]
     },
     "execution_count": 66,
     "metadata": {},
     "output_type": "execute_result"
    }
   ],
   "source": [
    "final_output = universe_analysis.generate_final_output(\n",
    "    y_pred_prob=probs_test,\n",
    "    y_test=y_true,\n",
    "    org_test=org_test,\n",
    "    filter_data=filter_sub_universe_data,\n",
    "    cp_metrics_df=cp_metrics_df,\n",
    "    save=True,\n",
    ")\n",
    "final_output"
   ]
  }
 ],
 "metadata": {
  "celltoolbar": "Tags",
  "kernelspec": {
   "display_name": "Python (CMA Fairness)",
   "language": "python",
   "name": "cma_fair_env"
  },
  "language_info": {
   "codemirror_mode": {
    "name": "ipython",
    "version": 3
   },
   "file_extension": ".py",
   "mimetype": "text/x-python",
   "name": "python",
   "nbconvert_exporter": "python",
   "pygments_lexer": "ipython3",
   "version": "3.10.12"
  },
  "papermill": {
   "default_parameters": {},
   "duration": 37.132056,
   "end_time": "2025-08-05T20:35:21.164084",
   "environment_variables": {},
   "exception": null,
   "input_path": "universe_analysis.ipynb",
   "output_path": "output/runs/16/notebooks/m_16-7ce930452dc10f11e7fccd94bd1c790d.ipynb",
   "parameters": {
    "output_dir": "output",
    "run_no": "16",
    "seed": "2023",
    "universe": "{\"cutoff\": [\"quantile_0.1\", \"quantile_0.25\"], \"eval_fairness_grouping\": [\"majority-minority\", \"nationality-all\"], \"exclude_features\": \"age\", \"exclude_subgroups\": \"keep-all\", \"model\": \"penalized_logreg\", \"scale\": \"scale\", \"training_size\": \"25k\", \"training_year\": \"2014\"}",
    "universe_id": "7ce930452dc10f11e7fccd94bd1c790d"
   },
   "start_time": "2025-08-05T20:34:44.032028",
   "version": "2.6.0"
  }
 },
 "nbformat": 4,
 "nbformat_minor": 5
}