{
 "cells": [
  {
   "cell_type": "code",
   "execution_count": 1,
   "id": "f159f837-637b-42ba-96b5-ec9a68c44524",
   "metadata": {
    "execution": {
     "iopub.execute_input": "2025-08-05T20:33:23.842165Z",
     "iopub.status.busy": "2025-08-05T20:33:23.841859Z",
     "iopub.status.idle": "2025-08-05T20:33:23.850918Z",
     "shell.execute_reply": "2025-08-05T20:33:23.850127Z"
    },
    "papermill": {
     "duration": 0.020278,
     "end_time": "2025-08-05T20:33:23.852190",
     "exception": false,
     "start_time": "2025-08-05T20:33:23.831912",
     "status": "completed"
    },
    "tags": []
   },
   "outputs": [
    {
     "name": "stdout",
     "output_type": "stream",
     "text": [
      "/dss/dsshome1/0C/ra93lal2/cma/CMA_Fairness_v2\n"
     ]
    },
    {
     "name": "stderr",
     "output_type": "stream",
     "text": [
      "/dss/dsshome1/0C/ra93lal2/.local/share/virtualenvs/CMA_Fairness_v2-3j10GkSs/lib/python3.10/site-packages/IPython/core/magics/osm.py:393: UserWarning: This is now an optional IPython functionality, using bookmarks requires you to install the `pickleshare` library.\n",
      "  bkms = self.shell.db.get('bookmarks', {})\n",
      "/dss/dsshome1/0C/ra93lal2/.local/share/virtualenvs/CMA_Fairness_v2-3j10GkSs/lib/python3.10/site-packages/IPython/core/magics/osm.py:417: UserWarning: This is now an optional IPython functionality, setting dhist requires you to install the `pickleshare` library.\n",
      "  self.shell.db['dhist'] = compress_dhist(dhist)[-100:]\n"
     ]
    }
   ],
   "source": [
    "%cd ~/cma/CMA_Fairness_v2"
   ]
  },
  {
   "cell_type": "markdown",
   "id": "de2603b9",
   "metadata": {
    "papermill": {
     "duration": 0.00826,
     "end_time": "2025-08-05T20:33:23.869422",
     "exception": false,
     "start_time": "2025-08-05T20:33:23.861162",
     "status": "completed"
    },
    "tags": []
   },
   "source": [
    "The following cell holds the definition of our parameters, these values can be overriden by rendering the with e.g. the following command:\n",
    "\n",
    "papermill -p alpha 0.2 -p ratio 0.3 universe_analysis.ipynb output/test_run.ipynb"
   ]
  },
  {
   "cell_type": "code",
   "execution_count": 2,
   "id": "a80968a0-40bb-4fa9-85ef-2d5eefb01975",
   "metadata": {
    "execution": {
     "iopub.execute_input": "2025-08-05T20:33:23.886902Z",
     "iopub.status.busy": "2025-08-05T20:33:23.886615Z",
     "iopub.status.idle": "2025-08-05T20:33:23.890513Z",
     "shell.execute_reply": "2025-08-05T20:33:23.889804Z"
    },
    "papermill": {
     "duration": 0.014804,
     "end_time": "2025-08-05T20:33:23.892387",
     "exception": false,
     "start_time": "2025-08-05T20:33:23.877583",
     "status": "completed"
    },
    "tags": []
   },
   "outputs": [
    {
     "name": "stdout",
     "output_type": "stream",
     "text": [
      "Current working directory: /dss/dsshome1/0C/ra93lal2/cma/CMA_Fairness_v2\n"
     ]
    }
   ],
   "source": [
    "import os\n",
    "print(\"Current working directory:\", os.getcwd())"
   ]
  },
  {
   "cell_type": "code",
   "execution_count": 3,
   "id": "2dce4c03",
   "metadata": {
    "execution": {
     "iopub.execute_input": "2025-08-05T20:33:23.915522Z",
     "iopub.status.busy": "2025-08-05T20:33:23.914936Z",
     "iopub.status.idle": "2025-08-05T20:33:23.920826Z",
     "shell.execute_reply": "2025-08-05T20:33:23.919842Z"
    },
    "papermill": {
     "duration": 0.018061,
     "end_time": "2025-08-05T20:33:23.922419",
     "exception": false,
     "start_time": "2025-08-05T20:33:23.904358",
     "status": "completed"
    },
    "tags": [
     "parameters"
    ]
   },
   "outputs": [],
   "source": [
    "run_no = 0\n",
    "universe_id = \"test\"\n",
    "universe = {\n",
    "    \"training_size\": \"25k\", # \"25k\", \"5k\", \"1k\"\n",
    "    \"training_year\": \"2014\", # \"2014\", \"2012_14\", \"2010_14\"\n",
    "    \"scale\": \"scale\", # \"scale\", \"do-not-scale\",\n",
    "    \"model\": \"elasticnet\", # \"logreg\", \"penalized_logreg\", \"rf\", \"gbm\", \"elasticnet\"\n",
    "    \"cutoff\": [\"quantile_0.15\", \"quantile_0.30\"],\n",
    "    \"exclude_features\": \"age\", # \"none\", \"nationality\", \"sex\", \"nationality-sex\", \"age\"\n",
    "    \"exclude_subgroups\": \"keep-all\", # \"keep-all\", \"drop-non-german\"\n",
    "    \"eval_fairness_grouping\": [\"majority-minority\", \"nationality-all\"]\n",
    "}\n",
    "\n",
    "output_dir=\"./output\"\n",
    "seed=0"
   ]
  },
  {
   "cell_type": "code",
   "execution_count": 4,
   "id": "f82d68f1",
   "metadata": {
    "execution": {
     "iopub.execute_input": "2025-08-05T20:33:23.958666Z",
     "iopub.status.busy": "2025-08-05T20:33:23.957946Z",
     "iopub.status.idle": "2025-08-05T20:33:23.962561Z",
     "shell.execute_reply": "2025-08-05T20:33:23.961605Z"
    },
    "papermill": {
     "duration": 0.02556,
     "end_time": "2025-08-05T20:33:23.964455",
     "exception": false,
     "start_time": "2025-08-05T20:33:23.938895",
     "status": "completed"
    },
    "tags": [
     "injected-parameters"
    ]
   },
   "outputs": [],
   "source": [
    "# Parameters\n",
    "universe_id = \"fe2fc8ae174c4630204dacd3b251d2fa\"\n",
    "run_no = \"16\"\n",
    "universe = \"{\\\"cutoff\\\": [\\\"quantile_0.1\\\", \\\"quantile_0.25\\\"], \\\"eval_fairness_grouping\\\": [\\\"majority-minority\\\", \\\"nationality-all\\\"], \\\"exclude_features\\\": \\\"nationality-sex\\\", \\\"exclude_subgroups\\\": \\\"keep-all\\\", \\\"model\\\": \\\"logreg\\\", \\\"scale\\\": \\\"scale\\\", \\\"training_size\\\": \\\"25k\\\", \\\"training_year\\\": \\\"2014\\\"}\"\n",
    "output_dir = \"output\"\n",
    "seed = \"2023\"\n"
   ]
  },
  {
   "cell_type": "code",
   "execution_count": 5,
   "id": "1650acaf",
   "metadata": {
    "execution": {
     "iopub.execute_input": "2025-08-05T20:33:23.988312Z",
     "iopub.status.busy": "2025-08-05T20:33:23.987907Z",
     "iopub.status.idle": "2025-08-05T20:33:23.992903Z",
     "shell.execute_reply": "2025-08-05T20:33:23.991750Z"
    },
    "papermill": {
     "duration": 0.018451,
     "end_time": "2025-08-05T20:33:23.995155",
     "exception": false,
     "start_time": "2025-08-05T20:33:23.976704",
     "status": "completed"
    },
    "tags": []
   },
   "outputs": [],
   "source": [
    "import json\n",
    "if isinstance(universe, str):\n",
    "    universe = json.loads(universe)"
   ]
  },
  {
   "cell_type": "code",
   "execution_count": 6,
   "id": "16620c48",
   "metadata": {
    "execution": {
     "iopub.execute_input": "2025-08-05T20:33:24.036557Z",
     "iopub.status.busy": "2025-08-05T20:33:24.036082Z",
     "iopub.status.idle": "2025-08-05T20:33:24.084108Z",
     "shell.execute_reply": "2025-08-05T20:33:24.083034Z"
    },
    "papermill": {
     "duration": 0.069876,
     "end_time": "2025-08-05T20:33:24.085916",
     "exception": false,
     "start_time": "2025-08-05T20:33:24.016040",
     "status": "completed"
    },
    "tags": []
   },
   "outputs": [],
   "source": [
    "# Auto-reload the custom package\n",
    "%load_ext autoreload\n",
    "%autoreload 1\n",
    "%aimport fairness_multiverse"
   ]
  },
  {
   "cell_type": "code",
   "execution_count": 7,
   "id": "01c5c9f3",
   "metadata": {
    "execution": {
     "iopub.execute_input": "2025-08-05T20:33:24.124151Z",
     "iopub.status.busy": "2025-08-05T20:33:24.123738Z",
     "iopub.status.idle": "2025-08-05T20:33:25.909839Z",
     "shell.execute_reply": "2025-08-05T20:33:25.908961Z"
    },
    "papermill": {
     "duration": 1.806695,
     "end_time": "2025-08-05T20:33:25.911353",
     "exception": false,
     "start_time": "2025-08-05T20:33:24.104658",
     "status": "completed"
    },
    "tags": []
   },
   "outputs": [],
   "source": [
    "from fairness_multiverse.universe import UniverseAnalysis\n",
    "\n",
    "universe_analysis = UniverseAnalysis(\n",
    "    run_no = run_no,\n",
    "    universe_id = universe_id,\n",
    "    universe = universe,\n",
    "    output_dir=output_dir,\n",
    ")"
   ]
  },
  {
   "cell_type": "code",
   "execution_count": 8,
   "id": "106241f5",
   "metadata": {
    "execution": {
     "iopub.execute_input": "2025-08-05T20:33:25.930355Z",
     "iopub.status.busy": "2025-08-05T20:33:25.930023Z",
     "iopub.status.idle": "2025-08-05T20:33:25.935910Z",
     "shell.execute_reply": "2025-08-05T20:33:25.934853Z"
    },
    "papermill": {
     "duration": 0.017632,
     "end_time": "2025-08-05T20:33:25.938132",
     "exception": false,
     "start_time": "2025-08-05T20:33:25.920500",
     "status": "completed"
    },
    "tags": []
   },
   "outputs": [
    {
     "name": "stdout",
     "output_type": "stream",
     "text": [
      "Using Seed: 2023\n"
     ]
    }
   ],
   "source": [
    "import numpy as np\n",
    "parsed_seed = int(seed)\n",
    "np.random.seed(parsed_seed)\n",
    "print(f\"Using Seed: {parsed_seed}\")"
   ]
  },
  {
   "cell_type": "markdown",
   "id": "e0ebdc57",
   "metadata": {
    "papermill": {
     "duration": 0.01675,
     "end_time": "2025-08-05T20:33:25.972696",
     "exception": false,
     "start_time": "2025-08-05T20:33:25.955946",
     "status": "completed"
    },
    "tags": []
   },
   "source": [
    "# Loading Data"
   ]
  },
  {
   "cell_type": "code",
   "execution_count": 9,
   "id": "f0496b8a",
   "metadata": {
    "execution": {
     "iopub.execute_input": "2025-08-05T20:33:26.007795Z",
     "iopub.status.busy": "2025-08-05T20:33:26.007115Z",
     "iopub.status.idle": "2025-08-05T20:33:38.542441Z",
     "shell.execute_reply": "2025-08-05T20:33:38.541079Z"
    },
    "papermill": {
     "duration": 12.55559,
     "end_time": "2025-08-05T20:33:38.544848",
     "exception": false,
     "start_time": "2025-08-05T20:33:25.989258",
     "status": "completed"
    },
    "tags": []
   },
   "outputs": [
    {
     "name": "stdout",
     "output_type": "stream",
     "text": [
      "Loading SIAB data from cache: data/siab_cached.csv.gz\n"
     ]
    },
    {
     "name": "stdout",
     "output_type": "stream",
     "text": [
      "(643690, 164)\n"
     ]
    }
   ],
   "source": [
    "from pathlib import Path\n",
    "import pandas as pd\n",
    "\n",
    "# File paths\n",
    "raw_file = Path(\"data/raw/siab.csv\")\n",
    "cache_file = Path(\"data/siab_cached.csv.gz\")\n",
    "\n",
    "# Ensure cache directory exists\n",
    "cache_file.parent.mkdir(parents=True, exist_ok=True)\n",
    "\n",
    "# Load with simple caching\n",
    "if cache_file.exists():\n",
    "    print(f\"Loading SIAB data from cache: {cache_file}\")\n",
    "    siab = pd.read_csv(cache_file, compression='gzip')\n",
    "else:\n",
    "    print(f\"Cache not found. Reading raw SIAB data: {raw_file}\")\n",
    "    siab = pd.read_csv(raw_file)\n",
    "    siab.to_csv(cache_file, index=False, compression='gzip')\n",
    "    print(f\"Cached SIAB data to: {cache_file}\")\n",
    "\n",
    "print(siab.shape)"
   ]
  },
  {
   "cell_type": "code",
   "execution_count": 10,
   "id": "db0ca512-5f53-4dba-abdb-a2888bca41ba",
   "metadata": {
    "execution": {
     "iopub.execute_input": "2025-08-05T20:33:38.596927Z",
     "iopub.status.busy": "2025-08-05T20:33:38.596273Z",
     "iopub.status.idle": "2025-08-05T20:33:38.602271Z",
     "shell.execute_reply": "2025-08-05T20:33:38.601211Z"
    },
    "papermill": {
     "duration": 0.027479,
     "end_time": "2025-08-05T20:33:38.603928",
     "exception": false,
     "start_time": "2025-08-05T20:33:38.576449",
     "status": "completed"
    },
    "tags": []
   },
   "outputs": [],
   "source": [
    "#siab"
   ]
  },
  {
   "cell_type": "markdown",
   "id": "997051c5-15bd-4b69-9786-c3001a3ce484",
   "metadata": {
    "papermill": {
     "duration": 0.017926,
     "end_time": "2025-08-05T20:33:38.639096",
     "exception": false,
     "start_time": "2025-08-05T20:33:38.621170",
     "status": "completed"
    },
    "tags": []
   },
   "source": [
    "# Splitting Data and Setting Training Data Size"
   ]
  },
  {
   "cell_type": "code",
   "execution_count": 11,
   "id": "aea9c6ef-6f46-42c8-85eb-5a62025c1508",
   "metadata": {
    "execution": {
     "iopub.execute_input": "2025-08-05T20:33:38.677040Z",
     "iopub.status.busy": "2025-08-05T20:33:38.676498Z",
     "iopub.status.idle": "2025-08-05T20:33:39.001493Z",
     "shell.execute_reply": "2025-08-05T20:33:39.000387Z"
    },
    "papermill": {
     "duration": 0.347252,
     "end_time": "2025-08-05T20:33:39.004218",
     "exception": false,
     "start_time": "2025-08-05T20:33:38.656966",
     "status": "completed"
    },
    "tags": []
   },
   "outputs": [],
   "source": [
    "from fairness_multiverse.universe import sample_by_year_size\n",
    "\n",
    "siab_train = sample_by_year_size(siab,\n",
    "                               training_year=universe[\"training_year\"],\n",
    "                               training_size=universe[\"training_size\"])"
   ]
  },
  {
   "cell_type": "code",
   "execution_count": 12,
   "id": "8d3afb32-789d-442c-8d5d-9f5aa8dd2eed",
   "metadata": {
    "execution": {
     "iopub.execute_input": "2025-08-05T20:33:39.049436Z",
     "iopub.status.busy": "2025-08-05T20:33:39.048940Z",
     "iopub.status.idle": "2025-08-05T20:33:39.064503Z",
     "shell.execute_reply": "2025-08-05T20:33:39.063389Z"
    },
    "papermill": {
     "duration": 0.040264,
     "end_time": "2025-08-05T20:33:39.066335",
     "exception": false,
     "start_time": "2025-08-05T20:33:39.026071",
     "status": "completed"
    },
    "tags": []
   },
   "outputs": [],
   "source": [
    "#siab_train.shape"
   ]
  },
  {
   "cell_type": "code",
   "execution_count": 13,
   "id": "d582db68-1a4c-47fb-84fc-08518dc1975a",
   "metadata": {
    "execution": {
     "iopub.execute_input": "2025-08-05T20:33:39.109287Z",
     "iopub.status.busy": "2025-08-05T20:33:39.108795Z",
     "iopub.status.idle": "2025-08-05T20:33:39.113818Z",
     "shell.execute_reply": "2025-08-05T20:33:39.113025Z"
    },
    "papermill": {
     "duration": 0.027115,
     "end_time": "2025-08-05T20:33:39.115358",
     "exception": false,
     "start_time": "2025-08-05T20:33:39.088243",
     "status": "completed"
    },
    "tags": []
   },
   "outputs": [],
   "source": [
    "#display(siab_train.groupby(\"year\").size())"
   ]
  },
  {
   "cell_type": "code",
   "execution_count": 14,
   "id": "a561edb4-d032-42cb-8256-22eac1111c64",
   "metadata": {
    "execution": {
     "iopub.execute_input": "2025-08-05T20:33:39.137782Z",
     "iopub.status.busy": "2025-08-05T20:33:39.137004Z",
     "iopub.status.idle": "2025-08-05T20:33:39.374504Z",
     "shell.execute_reply": "2025-08-05T20:33:39.373428Z"
    },
    "papermill": {
     "duration": 0.249469,
     "end_time": "2025-08-05T20:33:39.376220",
     "exception": false,
     "start_time": "2025-08-05T20:33:39.126751",
     "status": "completed"
    },
    "tags": []
   },
   "outputs": [],
   "source": [
    "#siab_train = siab_s[siab_s.year < 2015]\n",
    "siab_calib = siab[siab.year == 2015]\n",
    "siab_test = siab[siab.year == 2016]"
   ]
  },
  {
   "cell_type": "code",
   "execution_count": 15,
   "id": "472de16f-c3db-4916-846b-1f0de9cf1746",
   "metadata": {
    "execution": {
     "iopub.execute_input": "2025-08-05T20:33:39.418771Z",
     "iopub.status.busy": "2025-08-05T20:33:39.418240Z",
     "iopub.status.idle": "2025-08-05T20:33:39.434855Z",
     "shell.execute_reply": "2025-08-05T20:33:39.433619Z"
    },
    "papermill": {
     "duration": 0.040862,
     "end_time": "2025-08-05T20:33:39.436805",
     "exception": false,
     "start_time": "2025-08-05T20:33:39.395943",
     "status": "completed"
    },
    "tags": []
   },
   "outputs": [],
   "source": [
    "X_train = siab_train.iloc[:,4:164]\n",
    "y_train = siab_train.iloc[:, [3]]"
   ]
  },
  {
   "cell_type": "code",
   "execution_count": 16,
   "id": "828c96af-f43a-4ed6-ba47-8ac73a47d56c",
   "metadata": {
    "execution": {
     "iopub.execute_input": "2025-08-05T20:33:39.486274Z",
     "iopub.status.busy": "2025-08-05T20:33:39.485145Z",
     "iopub.status.idle": "2025-08-05T20:33:39.541679Z",
     "shell.execute_reply": "2025-08-05T20:33:39.540406Z"
    },
    "papermill": {
     "duration": 0.083733,
     "end_time": "2025-08-05T20:33:39.544587",
     "exception": false,
     "start_time": "2025-08-05T20:33:39.460854",
     "status": "completed"
    },
    "tags": []
   },
   "outputs": [],
   "source": [
    "X_calib = siab_calib.iloc[:,4:164]\n",
    "y_calib = siab_calib.iloc[:, [3]]"
   ]
  },
  {
   "cell_type": "code",
   "execution_count": 17,
   "id": "c34be9c3-6bd6-476e-acd3-845840e303be",
   "metadata": {
    "execution": {
     "iopub.execute_input": "2025-08-05T20:33:39.591778Z",
     "iopub.status.busy": "2025-08-05T20:33:39.591239Z",
     "iopub.status.idle": "2025-08-05T20:33:39.645010Z",
     "shell.execute_reply": "2025-08-05T20:33:39.643905Z"
    },
    "papermill": {
     "duration": 0.079327,
     "end_time": "2025-08-05T20:33:39.647377",
     "exception": false,
     "start_time": "2025-08-05T20:33:39.568050",
     "status": "completed"
    },
    "tags": []
   },
   "outputs": [],
   "source": [
    "X_test = siab_test.iloc[:,4:164]\n",
    "y_true = siab_test.iloc[:, [3]]"
   ]
  },
  {
   "cell_type": "code",
   "execution_count": 18,
   "id": "e6c733c5",
   "metadata": {
    "execution": {
     "iopub.execute_input": "2025-08-05T20:33:39.693831Z",
     "iopub.status.busy": "2025-08-05T20:33:39.693312Z",
     "iopub.status.idle": "2025-08-05T20:33:39.814669Z",
     "shell.execute_reply": "2025-08-05T20:33:39.813459Z"
    },
    "papermill": {
     "duration": 0.147037,
     "end_time": "2025-08-05T20:33:39.816893",
     "exception": false,
     "start_time": "2025-08-05T20:33:39.669856",
     "status": "completed"
    },
    "tags": []
   },
   "outputs": [],
   "source": [
    "# Auxiliary data needed downstream in the pipeline\n",
    "\n",
    "org_train = X_train.copy()\n",
    "org_test = X_test.copy()\n",
    "org_calib = X_calib.copy()"
   ]
  },
  {
   "cell_type": "markdown",
   "id": "0a4a1b33",
   "metadata": {
    "papermill": {
     "duration": 0.021351,
     "end_time": "2025-08-05T20:33:39.859847",
     "exception": false,
     "start_time": "2025-08-05T20:33:39.838496",
     "status": "completed"
    },
    "tags": []
   },
   "source": [
    "# Preprocessing Data"
   ]
  },
  {
   "cell_type": "code",
   "execution_count": 19,
   "id": "ca879031",
   "metadata": {
    "execution": {
     "iopub.execute_input": "2025-08-05T20:33:39.905051Z",
     "iopub.status.busy": "2025-08-05T20:33:39.904422Z",
     "iopub.status.idle": "2025-08-05T20:33:39.912762Z",
     "shell.execute_reply": "2025-08-05T20:33:39.911315Z"
    },
    "papermill": {
     "duration": 0.033767,
     "end_time": "2025-08-05T20:33:39.915052",
     "exception": false,
     "start_time": "2025-08-05T20:33:39.881285",
     "status": "completed"
    },
    "tags": []
   },
   "outputs": [],
   "source": [
    "# EXCLUDE PROTECTED FEATURES\n",
    "# ----------------------\n",
    "# \"exclude_features\": \"none\", # \"nationality\", \"sex\", \"nationality-sex\"\n",
    "\n",
    "excluded_features = universe[\"exclude_features\"].split(\"-\") # split, e.g.: \"nationality-sex\" -> [\"nationality\", \"sex\"]\n",
    "excluded_features_dictionary = {\n",
    "    \"nationality\": [\"maxdeutsch1\", \"maxdeutsch.Missing.\"],\n",
    "    \"sex\": [\"frau1\"],\n",
    "    \"age\": [\"age\"],\n",
    "}"
   ]
  },
  {
   "cell_type": "code",
   "execution_count": 20,
   "id": "b745ac60",
   "metadata": {
    "execution": {
     "iopub.execute_input": "2025-08-05T20:33:39.961667Z",
     "iopub.status.busy": "2025-08-05T20:33:39.960596Z",
     "iopub.status.idle": "2025-08-05T20:33:39.981616Z",
     "shell.execute_reply": "2025-08-05T20:33:39.966071Z"
    },
    "papermill": {
     "duration": 0.046416,
     "end_time": "2025-08-05T20:33:39.983966",
     "exception": false,
     "start_time": "2025-08-05T20:33:39.937550",
     "status": "completed"
    },
    "tags": []
   },
   "outputs": [],
   "source": [
    "# Code nice names to column names\n",
    "\n",
    "excluded_features_columns = [\n",
    "    excluded_features_dictionary[f] for f in excluded_features if len(f) > 0 and f != \"none\"\n",
    "]"
   ]
  },
  {
   "cell_type": "code",
   "execution_count": 21,
   "id": "f84f73a2",
   "metadata": {
    "execution": {
     "iopub.execute_input": "2025-08-05T20:33:40.029981Z",
     "iopub.status.busy": "2025-08-05T20:33:40.029391Z",
     "iopub.status.idle": "2025-08-05T20:33:40.037575Z",
     "shell.execute_reply": "2025-08-05T20:33:40.036344Z"
    },
    "papermill": {
     "duration": 0.037243,
     "end_time": "2025-08-05T20:33:40.043521",
     "exception": false,
     "start_time": "2025-08-05T20:33:40.006278",
     "status": "completed"
    },
    "tags": []
   },
   "outputs": [],
   "source": [
    "from utils import flatten_once\n",
    "\n",
    "excluded_features_columns = flatten_once(excluded_features_columns)"
   ]
  },
  {
   "cell_type": "code",
   "execution_count": 22,
   "id": "884dea22",
   "metadata": {
    "execution": {
     "iopub.execute_input": "2025-08-05T20:33:40.090661Z",
     "iopub.status.busy": "2025-08-05T20:33:40.089888Z",
     "iopub.status.idle": "2025-08-05T20:33:40.107574Z",
     "shell.execute_reply": "2025-08-05T20:33:40.106348Z"
    },
    "papermill": {
     "duration": 0.043628,
     "end_time": "2025-08-05T20:33:40.109811",
     "exception": false,
     "start_time": "2025-08-05T20:33:40.066183",
     "status": "completed"
    },
    "tags": []
   },
   "outputs": [
    {
     "name": "stdout",
     "output_type": "stream",
     "text": [
      "Dropping features: ['maxdeutsch1', 'maxdeutsch.Missing.', 'frau1']\n"
     ]
    }
   ],
   "source": [
    "if len(excluded_features_columns) > 0:\n",
    "    print(f\"Dropping features: {excluded_features_columns}\")\n",
    "    X_train.drop(excluded_features_columns, axis=1, inplace=True)"
   ]
  },
  {
   "cell_type": "code",
   "execution_count": 23,
   "id": "95ab8b16",
   "metadata": {
    "execution": {
     "iopub.execute_input": "2025-08-05T20:33:40.156309Z",
     "iopub.status.busy": "2025-08-05T20:33:40.155552Z",
     "iopub.status.idle": "2025-08-05T20:33:40.213292Z",
     "shell.execute_reply": "2025-08-05T20:33:40.212066Z"
    },
    "papermill": {
     "duration": 0.083369,
     "end_time": "2025-08-05T20:33:40.215364",
     "exception": false,
     "start_time": "2025-08-05T20:33:40.131995",
     "status": "completed"
    },
    "tags": []
   },
   "outputs": [
    {
     "name": "stdout",
     "output_type": "stream",
     "text": [
      "Dropping features: ['maxdeutsch1', 'maxdeutsch.Missing.', 'frau1']\n"
     ]
    }
   ],
   "source": [
    "if len(excluded_features_columns) > 0:\n",
    "    print(f\"Dropping features: {excluded_features_columns}\")\n",
    "    X_test.drop(excluded_features_columns, axis=1, inplace=True)"
   ]
  },
  {
   "cell_type": "code",
   "execution_count": 24,
   "id": "1853aaf5-fb9f-46cb-a2b5-8ea4ae2237e4",
   "metadata": {
    "execution": {
     "iopub.execute_input": "2025-08-05T20:33:40.239433Z",
     "iopub.status.busy": "2025-08-05T20:33:40.239024Z",
     "iopub.status.idle": "2025-08-05T20:33:40.293428Z",
     "shell.execute_reply": "2025-08-05T20:33:40.292228Z"
    },
    "papermill": {
     "duration": 0.067663,
     "end_time": "2025-08-05T20:33:40.295496",
     "exception": false,
     "start_time": "2025-08-05T20:33:40.227833",
     "status": "completed"
    },
    "tags": []
   },
   "outputs": [
    {
     "name": "stdout",
     "output_type": "stream",
     "text": [
      "Dropping features: ['maxdeutsch1', 'maxdeutsch.Missing.', 'frau1']\n"
     ]
    }
   ],
   "source": [
    "if len(excluded_features_columns) > 0:\n",
    "    print(f\"Dropping features: {excluded_features_columns}\")\n",
    "    X_calib.drop(excluded_features_columns, axis=1, inplace=True)"
   ]
  },
  {
   "cell_type": "code",
   "execution_count": 25,
   "id": "76c4dc6d",
   "metadata": {
    "execution": {
     "iopub.execute_input": "2025-08-05T20:33:40.351006Z",
     "iopub.status.busy": "2025-08-05T20:33:40.350072Z",
     "iopub.status.idle": "2025-08-05T20:33:40.358402Z",
     "shell.execute_reply": "2025-08-05T20:33:40.356824Z"
    },
    "papermill": {
     "duration": 0.038159,
     "end_time": "2025-08-05T20:33:40.361020",
     "exception": false,
     "start_time": "2025-08-05T20:33:40.322861",
     "status": "completed"
    },
    "tags": []
   },
   "outputs": [],
   "source": [
    "# EXCLUDE CERTAIN SUBGROUPS\n",
    "# ----------------------\n",
    "\n",
    "mode = universe.get(\"exclude_subgroups\", \"keep-all\") \n",
    "# Fetches the exclude_subgroups setting from the universe dict.\n",
    "# Defaults to \"keep-all\" if the key is missing."
   ]
  },
  {
   "cell_type": "code",
   "execution_count": 26,
   "id": "21994072",
   "metadata": {
    "execution": {
     "iopub.execute_input": "2025-08-05T20:33:40.415664Z",
     "iopub.status.busy": "2025-08-05T20:33:40.415124Z",
     "iopub.status.idle": "2025-08-05T20:33:40.423002Z",
     "shell.execute_reply": "2025-08-05T20:33:40.421560Z"
    },
    "papermill": {
     "duration": 0.036431,
     "end_time": "2025-08-05T20:33:40.425737",
     "exception": false,
     "start_time": "2025-08-05T20:33:40.389306",
     "status": "completed"
    },
    "tags": []
   },
   "outputs": [],
   "source": [
    "if mode == \"keep-all\":\n",
    "    keep_mask = pd.Series(True, index=org_train.index)\n",
    "\n",
    "# org_train contains the original feature columns from features_org (in Simson)\n",
    "# features_org contains unprocessed features, for me X_train at beginning ???\n",
    "# For keep-all, creates a boolean Series (keep_mask) of all True, so no rows are removed.\n",
    "\n",
    "elif mode == \"drop-non-german\":\n",
    "    keep_mask = org_train[\"maxdeutsch1\"] == 1 # ??? what about missing values?\n",
    "\n",
    "else:\n",
    "    raise ValueError(f\"Unsupported mode for exclude_subgroups: {mode}\")"
   ]
  },
  {
   "cell_type": "code",
   "execution_count": 27,
   "id": "71651440",
   "metadata": {
    "execution": {
     "iopub.execute_input": "2025-08-05T20:33:40.471372Z",
     "iopub.status.busy": "2025-08-05T20:33:40.470503Z",
     "iopub.status.idle": "2025-08-05T20:33:40.478239Z",
     "shell.execute_reply": "2025-08-05T20:33:40.477211Z"
    },
    "papermill": {
     "duration": 0.03112,
     "end_time": "2025-08-05T20:33:40.480266",
     "exception": false,
     "start_time": "2025-08-05T20:33:40.449146",
     "status": "completed"
    },
    "tags": []
   },
   "outputs": [],
   "source": [
    "n_drop = (~keep_mask).sum() # Calculates how many rows are set to be dropped\n",
    "if n_drop > 0:\n",
    "    pct = n_drop / len(keep_mask) * 100\n",
    "    print(f\"Dropping {n_drop} rows ({pct:.2f}%) where mode='{mode}'\")"
   ]
  },
  {
   "cell_type": "code",
   "execution_count": 28,
   "id": "5fb8eee5",
   "metadata": {
    "execution": {
     "iopub.execute_input": "2025-08-05T20:33:40.538296Z",
     "iopub.status.busy": "2025-08-05T20:33:40.537949Z",
     "iopub.status.idle": "2025-08-05T20:33:40.553277Z",
     "shell.execute_reply": "2025-08-05T20:33:40.552030Z"
    },
    "papermill": {
     "duration": 0.050825,
     "end_time": "2025-08-05T20:33:40.556419",
     "exception": false,
     "start_time": "2025-08-05T20:33:40.505594",
     "status": "completed"
    },
    "tags": []
   },
   "outputs": [],
   "source": [
    "X_train = X_train[keep_mask]"
   ]
  },
  {
   "cell_type": "code",
   "execution_count": 29,
   "id": "b202bb3a",
   "metadata": {
    "execution": {
     "iopub.execute_input": "2025-08-05T20:33:40.620783Z",
     "iopub.status.busy": "2025-08-05T20:33:40.620272Z",
     "iopub.status.idle": "2025-08-05T20:33:40.626993Z",
     "shell.execute_reply": "2025-08-05T20:33:40.626008Z"
    },
    "papermill": {
     "duration": 0.041651,
     "end_time": "2025-08-05T20:33:40.629557",
     "exception": false,
     "start_time": "2025-08-05T20:33:40.587906",
     "status": "completed"
    },
    "tags": []
   },
   "outputs": [],
   "source": [
    "y_train = y_train[keep_mask]"
   ]
  },
  {
   "cell_type": "markdown",
   "id": "493e2ac3",
   "metadata": {
    "papermill": {
     "duration": 0.029549,
     "end_time": "2025-08-05T20:33:40.688824",
     "exception": false,
     "start_time": "2025-08-05T20:33:40.659275",
     "status": "completed"
    },
    "tags": []
   },
   "source": [
    "# Model Training"
   ]
  },
  {
   "cell_type": "code",
   "execution_count": 30,
   "id": "679e1268",
   "metadata": {
    "execution": {
     "iopub.execute_input": "2025-08-05T20:33:40.723949Z",
     "iopub.status.busy": "2025-08-05T20:33:40.723515Z",
     "iopub.status.idle": "2025-08-05T20:33:40.826415Z",
     "shell.execute_reply": "2025-08-05T20:33:40.825119Z"
    },
    "papermill": {
     "duration": 0.126167,
     "end_time": "2025-08-05T20:33:40.828391",
     "exception": false,
     "start_time": "2025-08-05T20:33:40.702224",
     "status": "completed"
    },
    "tags": []
   },
   "outputs": [],
   "source": [
    "from sklearn.linear_model import LogisticRegression\n",
    "from sklearn.ensemble import GradientBoostingClassifier, RandomForestClassifier\n",
    "\n",
    "if (universe[\"model\"] == \"logreg\"):\n",
    "    model = LogisticRegression() #penalty=\"none\", solver=\"newton-cg\", max_iter=1) # include random_state=19 ?\n",
    "elif (universe[\"model\"] == \"penalized_logreg\"):\n",
    "    model = LogisticRegression(penalty=\"l2\", C=0.1) #, solver=\"newton-cg\", max_iter=1)\n",
    "elif (universe[\"model\"] == \"rf\"):\n",
    "    model = RandomForestClassifier() # n_estimators=100, n_jobs=-1\n",
    "elif (universe[\"model\"] == \"gbm\"):\n",
    "    model = GradientBoostingClassifier()\n",
    "elif (universe[\"model\"] == \"elasticnet\"):\n",
    "    model = LogisticRegression(penalty = 'elasticnet', solver = 'saga', l1_ratio = 0.5) # max_iter=5000\n",
    "else:\n",
    "    raise \"Unsupported universe.model\""
   ]
  },
  {
   "cell_type": "code",
   "execution_count": 31,
   "id": "0cc8f744",
   "metadata": {
    "execution": {
     "iopub.execute_input": "2025-08-05T20:33:40.892368Z",
     "iopub.status.busy": "2025-08-05T20:33:40.891282Z",
     "iopub.status.idle": "2025-08-05T20:33:40.897803Z",
     "shell.execute_reply": "2025-08-05T20:33:40.896716Z"
    },
    "papermill": {
     "duration": 0.040765,
     "end_time": "2025-08-05T20:33:40.899903",
     "exception": false,
     "start_time": "2025-08-05T20:33:40.859138",
     "status": "completed"
    },
    "tags": []
   },
   "outputs": [],
   "source": [
    "import numpy as np\n",
    "from sklearn.pipeline import Pipeline\n",
    "from sklearn.preprocessing import StandardScaler\n",
    "\n",
    "model = Pipeline([\n",
    "    #(\"continuous_processor\", continuous_processor),\n",
    "    #(\"categorical_preprocessor\", categorical_preprocessor),\n",
    "    (\"scale\", StandardScaler() if universe[\"scale\"] == \"scale\" else None), \n",
    "    (\"model\", model),\n",
    "])"
   ]
  },
  {
   "cell_type": "code",
   "execution_count": 32,
   "id": "9442c04d",
   "metadata": {
    "execution": {
     "iopub.execute_input": "2025-08-05T20:33:40.963402Z",
     "iopub.status.busy": "2025-08-05T20:33:40.962774Z",
     "iopub.status.idle": "2025-08-05T20:33:42.300260Z",
     "shell.execute_reply": "2025-08-05T20:33:42.298996Z"
    },
    "papermill": {
     "duration": 1.373414,
     "end_time": "2025-08-05T20:33:42.303182",
     "exception": false,
     "start_time": "2025-08-05T20:33:40.929768",
     "status": "completed"
    },
    "tags": []
   },
   "outputs": [
    {
     "name": "stderr",
     "output_type": "stream",
     "text": [
      "/dss/dsshome1/0C/ra93lal2/.local/share/virtualenvs/CMA_Fairness_v2-3j10GkSs/lib/python3.10/site-packages/sklearn/linear_model/_logistic.py:444: ConvergenceWarning: lbfgs failed to converge (status=1):\n",
      "STOP: TOTAL NO. of ITERATIONS REACHED LIMIT.\n",
      "\n",
      "Increase the number of iterations (max_iter) or scale the data as shown in:\n",
      "    https://scikit-learn.org/stable/modules/preprocessing.html\n",
      "Please also refer to the documentation for alternative solver options:\n",
      "    https://scikit-learn.org/stable/modules/linear_model.html#logistic-regression\n",
      "  n_iter_i = _check_optimize_result(\n"
     ]
    },
    {
     "data": {
      "text/html": [
       "<style>#sk-container-id-1 {color: black;background-color: white;}#sk-container-id-1 pre{padding: 0;}#sk-container-id-1 div.sk-toggleable {background-color: white;}#sk-container-id-1 label.sk-toggleable__label {cursor: pointer;display: block;width: 100%;margin-bottom: 0;padding: 0.3em;box-sizing: border-box;text-align: center;}#sk-container-id-1 label.sk-toggleable__label-arrow:before {content: \"▸\";float: left;margin-right: 0.25em;color: #696969;}#sk-container-id-1 label.sk-toggleable__label-arrow:hover:before {color: black;}#sk-container-id-1 div.sk-estimator:hover label.sk-toggleable__label-arrow:before {color: black;}#sk-container-id-1 div.sk-toggleable__content {max-height: 0;max-width: 0;overflow: hidden;text-align: left;background-color: #f0f8ff;}#sk-container-id-1 div.sk-toggleable__content pre {margin: 0.2em;color: black;border-radius: 0.25em;background-color: #f0f8ff;}#sk-container-id-1 input.sk-toggleable__control:checked~div.sk-toggleable__content {max-height: 200px;max-width: 100%;overflow: auto;}#sk-container-id-1 input.sk-toggleable__control:checked~label.sk-toggleable__label-arrow:before {content: \"▾\";}#sk-container-id-1 div.sk-estimator input.sk-toggleable__control:checked~label.sk-toggleable__label {background-color: #d4ebff;}#sk-container-id-1 div.sk-label input.sk-toggleable__control:checked~label.sk-toggleable__label {background-color: #d4ebff;}#sk-container-id-1 input.sk-hidden--visually {border: 0;clip: rect(1px 1px 1px 1px);clip: rect(1px, 1px, 1px, 1px);height: 1px;margin: -1px;overflow: hidden;padding: 0;position: absolute;width: 1px;}#sk-container-id-1 div.sk-estimator {font-family: monospace;background-color: #f0f8ff;border: 1px dotted black;border-radius: 0.25em;box-sizing: border-box;margin-bottom: 0.5em;}#sk-container-id-1 div.sk-estimator:hover {background-color: #d4ebff;}#sk-container-id-1 div.sk-parallel-item::after {content: \"\";width: 100%;border-bottom: 1px solid gray;flex-grow: 1;}#sk-container-id-1 div.sk-label:hover label.sk-toggleable__label {background-color: #d4ebff;}#sk-container-id-1 div.sk-serial::before {content: \"\";position: absolute;border-left: 1px solid gray;box-sizing: border-box;top: 0;bottom: 0;left: 50%;z-index: 0;}#sk-container-id-1 div.sk-serial {display: flex;flex-direction: column;align-items: center;background-color: white;padding-right: 0.2em;padding-left: 0.2em;position: relative;}#sk-container-id-1 div.sk-item {position: relative;z-index: 1;}#sk-container-id-1 div.sk-parallel {display: flex;align-items: stretch;justify-content: center;background-color: white;position: relative;}#sk-container-id-1 div.sk-item::before, #sk-container-id-1 div.sk-parallel-item::before {content: \"\";position: absolute;border-left: 1px solid gray;box-sizing: border-box;top: 0;bottom: 0;left: 50%;z-index: -1;}#sk-container-id-1 div.sk-parallel-item {display: flex;flex-direction: column;z-index: 1;position: relative;background-color: white;}#sk-container-id-1 div.sk-parallel-item:first-child::after {align-self: flex-end;width: 50%;}#sk-container-id-1 div.sk-parallel-item:last-child::after {align-self: flex-start;width: 50%;}#sk-container-id-1 div.sk-parallel-item:only-child::after {width: 0;}#sk-container-id-1 div.sk-dashed-wrapped {border: 1px dashed gray;margin: 0 0.4em 0.5em 0.4em;box-sizing: border-box;padding-bottom: 0.4em;background-color: white;}#sk-container-id-1 div.sk-label label {font-family: monospace;font-weight: bold;display: inline-block;line-height: 1.2em;}#sk-container-id-1 div.sk-label-container {text-align: center;}#sk-container-id-1 div.sk-container {/* jupyter's `normalize.less` sets `[hidden] { display: none; }` but bootstrap.min.css set `[hidden] { display: none !important; }` so we also need the `!important` here to be able to override the default hidden behavior on the sphinx rendered scikit-learn.org. See: https://github.com/scikit-learn/scikit-learn/issues/21755 */display: inline-block !important;position: relative;}#sk-container-id-1 div.sk-text-repr-fallback {display: none;}</style><div id=\"sk-container-id-1\" class=\"sk-top-container\"><div class=\"sk-text-repr-fallback\"><pre>Pipeline(steps=[(&#x27;scale&#x27;, StandardScaler()), (&#x27;model&#x27;, LogisticRegression())])</pre><b>In a Jupyter environment, please rerun this cell to show the HTML representation or trust the notebook. <br />On GitHub, the HTML representation is unable to render, please try loading this page with nbviewer.org.</b></div><div class=\"sk-container\" hidden><div class=\"sk-item sk-dashed-wrapped\"><div class=\"sk-label-container\"><div class=\"sk-label sk-toggleable\"><input class=\"sk-toggleable__control sk-hidden--visually\" id=\"sk-estimator-id-1\" type=\"checkbox\" ><label for=\"sk-estimator-id-1\" class=\"sk-toggleable__label sk-toggleable__label-arrow\">Pipeline</label><div class=\"sk-toggleable__content\"><pre>Pipeline(steps=[(&#x27;scale&#x27;, StandardScaler()), (&#x27;model&#x27;, LogisticRegression())])</pre></div></div></div><div class=\"sk-serial\"><div class=\"sk-item\"><div class=\"sk-estimator sk-toggleable\"><input class=\"sk-toggleable__control sk-hidden--visually\" id=\"sk-estimator-id-2\" type=\"checkbox\" ><label for=\"sk-estimator-id-2\" class=\"sk-toggleable__label sk-toggleable__label-arrow\">StandardScaler</label><div class=\"sk-toggleable__content\"><pre>StandardScaler()</pre></div></div></div><div class=\"sk-item\"><div class=\"sk-estimator sk-toggleable\"><input class=\"sk-toggleable__control sk-hidden--visually\" id=\"sk-estimator-id-3\" type=\"checkbox\" ><label for=\"sk-estimator-id-3\" class=\"sk-toggleable__label sk-toggleable__label-arrow\">LogisticRegression</label><div class=\"sk-toggleable__content\"><pre>LogisticRegression()</pre></div></div></div></div></div></div></div>"
      ],
      "text/plain": [
       "Pipeline(steps=[('scale', StandardScaler()), ('model', LogisticRegression())])"
      ]
     },
     "execution_count": 32,
     "metadata": {},
     "output_type": "execute_result"
    }
   ],
   "source": [
    "model.fit(X_train, y_train.values.ravel())"
   ]
  },
  {
   "cell_type": "code",
   "execution_count": 33,
   "id": "af59f8c0",
   "metadata": {
    "execution": {
     "iopub.execute_input": "2025-08-05T20:33:42.362950Z",
     "iopub.status.busy": "2025-08-05T20:33:42.362420Z",
     "iopub.status.idle": "2025-08-05T20:33:42.368575Z",
     "shell.execute_reply": "2025-08-05T20:33:42.367481Z"
    },
    "papermill": {
     "duration": 0.046938,
     "end_time": "2025-08-05T20:33:42.380633",
     "exception": false,
     "start_time": "2025-08-05T20:33:42.333695",
     "status": "completed"
    },
    "tags": []
   },
   "outputs": [],
   "source": [
    "from fairness_multiverse.universe import predict_w_threshold"
   ]
  },
  {
   "cell_type": "code",
   "execution_count": 34,
   "id": "a7cf2e16",
   "metadata": {
    "execution": {
     "iopub.execute_input": "2025-08-05T20:33:42.434544Z",
     "iopub.status.busy": "2025-08-05T20:33:42.434030Z",
     "iopub.status.idle": "2025-08-05T20:33:42.631549Z",
     "shell.execute_reply": "2025-08-05T20:33:42.629856Z"
    },
    "papermill": {
     "duration": 0.215284,
     "end_time": "2025-08-05T20:33:42.634215",
     "exception": false,
     "start_time": "2025-08-05T20:33:42.418931",
     "status": "completed"
    },
    "tags": []
   },
   "outputs": [
    {
     "data": {
      "text/plain": [
       "0.8652992977371531"
      ]
     },
     "execution_count": 34,
     "metadata": {},
     "output_type": "execute_result"
    }
   ],
   "source": [
    "probs_test = model.predict_proba(X_test)\n",
    "\n",
    "'''\n",
    "Below code returns a boolean array (or binary 0/1 array depending on how it’s used) where each element \n",
    "is True if the probability of class 1 is greater than or equal to the threshold, and False otherwise.\n",
    "'''\n",
    "y_pred_default = predict_w_threshold(probs_test, 0.5)\n",
    "\n",
    "from sklearn.metrics import accuracy_score\n",
    "\n",
    "# Naive prediction\n",
    "accuracy_score(y_true = y_true, y_pred = y_pred_default)"
   ]
  },
  {
   "cell_type": "code",
   "execution_count": 35,
   "id": "081964c3",
   "metadata": {
    "execution": {
     "iopub.execute_input": "2025-08-05T20:33:42.691031Z",
     "iopub.status.busy": "2025-08-05T20:33:42.690509Z",
     "iopub.status.idle": "2025-08-05T20:33:42.883915Z",
     "shell.execute_reply": "2025-08-05T20:33:42.882325Z"
    },
    "papermill": {
     "duration": 0.216057,
     "end_time": "2025-08-05T20:33:42.885699",
     "exception": false,
     "start_time": "2025-08-05T20:33:42.669642",
     "status": "completed"
    },
    "tags": []
   },
   "outputs": [
    {
     "data": {
      "text/plain": [
       "array([0, 0, 0, ..., 0, 0, 0])"
      ]
     },
     "execution_count": 35,
     "metadata": {},
     "output_type": "execute_result"
    }
   ],
   "source": [
    "model.predict(X_test)"
   ]
  },
  {
   "cell_type": "markdown",
   "id": "56c9705b",
   "metadata": {
    "papermill": {
     "duration": 0.01632,
     "end_time": "2025-08-05T20:33:42.923748",
     "exception": false,
     "start_time": "2025-08-05T20:33:42.907428",
     "status": "completed"
    },
    "tags": []
   },
   "source": [
    "# Conformal Prediction"
   ]
  },
  {
   "cell_type": "code",
   "execution_count": 36,
   "id": "160ec6ff",
   "metadata": {
    "execution": {
     "iopub.execute_input": "2025-08-05T20:33:42.968383Z",
     "iopub.status.busy": "2025-08-05T20:33:42.967843Z",
     "iopub.status.idle": "2025-08-05T20:33:42.973275Z",
     "shell.execute_reply": "2025-08-05T20:33:42.972205Z"
    },
    "papermill": {
     "duration": 0.029507,
     "end_time": "2025-08-05T20:33:42.975392",
     "exception": false,
     "start_time": "2025-08-05T20:33:42.945885",
     "status": "completed"
    },
    "tags": []
   },
   "outputs": [],
   "source": [
    "# Miscoverage level for conformal prediction (10% allowed error rate => 90% target coverage)\n",
    "alpha = 0.1"
   ]
  },
  {
   "cell_type": "code",
   "execution_count": 37,
   "id": "eadf4555-3dd3-440e-8e35-f82a4ad9f855",
   "metadata": {
    "execution": {
     "iopub.execute_input": "2025-08-05T20:33:43.019639Z",
     "iopub.status.busy": "2025-08-05T20:33:43.019226Z",
     "iopub.status.idle": "2025-08-05T20:33:43.218581Z",
     "shell.execute_reply": "2025-08-05T20:33:43.217126Z"
    },
    "papermill": {
     "duration": 0.223851,
     "end_time": "2025-08-05T20:33:43.220376",
     "exception": false,
     "start_time": "2025-08-05T20:33:42.996525",
     "status": "completed"
    },
    "tags": []
   },
   "outputs": [],
   "source": [
    "probs_calib = model.predict_proba(X_calib)"
   ]
  },
  {
   "cell_type": "code",
   "execution_count": 38,
   "id": "2ed93547-6d5d-4983-9b36-1ecb300da49a",
   "metadata": {
    "execution": {
     "iopub.execute_input": "2025-08-05T20:33:43.274816Z",
     "iopub.status.busy": "2025-08-05T20:33:43.273888Z",
     "iopub.status.idle": "2025-08-05T20:33:43.281010Z",
     "shell.execute_reply": "2025-08-05T20:33:43.279829Z"
    },
    "papermill": {
     "duration": 0.035042,
     "end_time": "2025-08-05T20:33:43.283328",
     "exception": false,
     "start_time": "2025-08-05T20:33:43.248286",
     "status": "completed"
    },
    "tags": []
   },
   "outputs": [],
   "source": [
    "y_calib = y_calib.values.ravel().astype(int)"
   ]
  },
  {
   "cell_type": "code",
   "execution_count": 39,
   "id": "65d1320d-f588-4b38-9072-62af1ae97f7d",
   "metadata": {
    "execution": {
     "iopub.execute_input": "2025-08-05T20:33:43.340854Z",
     "iopub.status.busy": "2025-08-05T20:33:43.340355Z",
     "iopub.status.idle": "2025-08-05T20:33:43.349228Z",
     "shell.execute_reply": "2025-08-05T20:33:43.348108Z"
    },
    "papermill": {
     "duration": 0.039548,
     "end_time": "2025-08-05T20:33:43.351392",
     "exception": false,
     "start_time": "2025-08-05T20:33:43.311844",
     "status": "completed"
    },
    "tags": []
   },
   "outputs": [],
   "source": [
    "from fairness_multiverse.conformal import compute_nc_scores\n",
    "\n",
    "# Compute nonconformity scores on calibration set (1 - probability of true class)\n",
    "nc_scores = compute_nc_scores(probs_calib, y_calib)"
   ]
  },
  {
   "cell_type": "code",
   "execution_count": 40,
   "id": "df3b8ca3-53b7-43d5-9667-7c85da7aeda2",
   "metadata": {
    "execution": {
     "iopub.execute_input": "2025-08-05T20:33:43.404605Z",
     "iopub.status.busy": "2025-08-05T20:33:43.403647Z",
     "iopub.status.idle": "2025-08-05T20:33:43.411369Z",
     "shell.execute_reply": "2025-08-05T20:33:43.410173Z"
    },
    "papermill": {
     "duration": 0.036427,
     "end_time": "2025-08-05T20:33:43.413495",
     "exception": false,
     "start_time": "2025-08-05T20:33:43.377068",
     "status": "completed"
    },
    "tags": []
   },
   "outputs": [],
   "source": [
    "from fairness_multiverse.conformal import find_threshold\n",
    "\n",
    "# Find conformal threshold q_hat for the given alpha (split conformal method)\n",
    "q_hat = find_threshold(nc_scores, alpha)"
   ]
  },
  {
   "cell_type": "code",
   "execution_count": 41,
   "id": "4d29e6c1-0ef6-4aa4-b8fe-4fe79b0d033a",
   "metadata": {
    "execution": {
     "iopub.execute_input": "2025-08-05T20:33:43.466844Z",
     "iopub.status.busy": "2025-08-05T20:33:43.466054Z",
     "iopub.status.idle": "2025-08-05T20:33:43.474724Z",
     "shell.execute_reply": "2025-08-05T20:33:43.473467Z"
    },
    "papermill": {
     "duration": 0.037563,
     "end_time": "2025-08-05T20:33:43.476589",
     "exception": false,
     "start_time": "2025-08-05T20:33:43.439026",
     "status": "completed"
    },
    "tags": []
   },
   "outputs": [
    {
     "data": {
      "text/plain": [
       "0.6759456409334792"
      ]
     },
     "execution_count": 41,
     "metadata": {},
     "output_type": "execute_result"
    }
   ],
   "source": [
    "q_hat"
   ]
  },
  {
   "cell_type": "code",
   "execution_count": 42,
   "id": "92460794-cdac-4be2-ba28-f28c0515a6fb",
   "metadata": {
    "execution": {
     "iopub.execute_input": "2025-08-05T20:33:43.531336Z",
     "iopub.status.busy": "2025-08-05T20:33:43.530552Z",
     "iopub.status.idle": "2025-08-05T20:33:44.333100Z",
     "shell.execute_reply": "2025-08-05T20:33:44.332364Z"
    },
    "papermill": {
     "duration": 0.83166,
     "end_time": "2025-08-05T20:33:44.334649",
     "exception": false,
     "start_time": "2025-08-05T20:33:43.502989",
     "status": "completed"
    },
    "tags": []
   },
   "outputs": [],
   "source": [
    "from fairness_multiverse.conformal import predict_conformal_sets\n",
    "\n",
    "# Generate prediction sets for each test example\n",
    "pred_sets = predict_conformal_sets(model, X_test, q_hat)"
   ]
  },
  {
   "cell_type": "code",
   "execution_count": 43,
   "id": "d90c9a65-e6db-4f5d-80cd-e68fb7e46829",
   "metadata": {
    "execution": {
     "iopub.execute_input": "2025-08-05T20:33:44.363118Z",
     "iopub.status.busy": "2025-08-05T20:33:44.362421Z",
     "iopub.status.idle": "2025-08-05T20:33:44.367306Z",
     "shell.execute_reply": "2025-08-05T20:33:44.366581Z"
    },
    "papermill": {
     "duration": 0.020229,
     "end_time": "2025-08-05T20:33:44.368763",
     "exception": false,
     "start_time": "2025-08-05T20:33:44.348534",
     "status": "completed"
    },
    "tags": []
   },
   "outputs": [],
   "source": [
    "y_true = y_true.squeeze()"
   ]
  },
  {
   "cell_type": "code",
   "execution_count": 44,
   "id": "3a58a54a-1e68-46b9-927a-df01f18aebc8",
   "metadata": {
    "execution": {
     "iopub.execute_input": "2025-08-05T20:33:44.395674Z",
     "iopub.status.busy": "2025-08-05T20:33:44.395132Z",
     "iopub.status.idle": "2025-08-05T20:33:45.198806Z",
     "shell.execute_reply": "2025-08-05T20:33:45.197547Z"
    },
    "papermill": {
     "duration": 0.817446,
     "end_time": "2025-08-05T20:33:45.200667",
     "exception": false,
     "start_time": "2025-08-05T20:33:44.383221",
     "status": "completed"
    },
    "tags": []
   },
   "outputs": [],
   "source": [
    "from fairness_multiverse.conformal import evaluate_sets\n",
    "\n",
    "# Evaluate coverage and average set size on test data\n",
    "metrics = evaluate_sets(pred_sets, y_true)"
   ]
  },
  {
   "cell_type": "markdown",
   "id": "2b569c12-9aaa-4c88-98c9-bbcd0cf3ebb8",
   "metadata": {
    "papermill": {
     "duration": 0.020814,
     "end_time": "2025-08-05T20:33:45.245484",
     "exception": false,
     "start_time": "2025-08-05T20:33:45.224670",
     "status": "completed"
    },
    "tags": []
   },
   "source": [
    "# CP Metrics"
   ]
  },
  {
   "cell_type": "code",
   "execution_count": 45,
   "id": "5ce0a5cb-201f-45a0-ade5-94c7f0bd6095",
   "metadata": {
    "execution": {
     "iopub.execute_input": "2025-08-05T20:33:45.290046Z",
     "iopub.status.busy": "2025-08-05T20:33:45.289621Z",
     "iopub.status.idle": "2025-08-05T20:33:45.296809Z",
     "shell.execute_reply": "2025-08-05T20:33:45.295663Z"
    },
    "papermill": {
     "duration": 0.031471,
     "end_time": "2025-08-05T20:33:45.298842",
     "exception": false,
     "start_time": "2025-08-05T20:33:45.267371",
     "status": "completed"
    },
    "tags": []
   },
   "outputs": [
    {
     "data": {
      "text/plain": [
       "{'coverage': 0.9126407312451231, 'avg_size': 1.1256047263404303}"
      ]
     },
     "execution_count": 45,
     "metadata": {},
     "output_type": "execute_result"
    }
   ],
   "source": [
    "metrics"
   ]
  },
  {
   "cell_type": "code",
   "execution_count": 46,
   "id": "9b9a838d-31c9-430b-ae14-12baee460d17",
   "metadata": {
    "execution": {
     "iopub.execute_input": "2025-08-05T20:33:45.347061Z",
     "iopub.status.busy": "2025-08-05T20:33:45.346331Z",
     "iopub.status.idle": "2025-08-05T20:33:45.353152Z",
     "shell.execute_reply": "2025-08-05T20:33:45.352057Z"
    },
    "papermill": {
     "duration": 0.033184,
     "end_time": "2025-08-05T20:33:45.355444",
     "exception": false,
     "start_time": "2025-08-05T20:33:45.322260",
     "status": "completed"
    },
    "tags": []
   },
   "outputs": [],
   "source": [
    "example_universe = universe.copy()\n",
    "universe_training_year = example_universe.get(\"training_year\")\n",
    "universe_training_size = example_universe.get(\"training_size\")\n",
    "universe_scale = example_universe.get(\"scale\")\n",
    "universe_model = example_universe.get(\"model\")\n",
    "universe_exclude_features = example_universe.get(\"exclude_features\")\n",
    "universe_exclude_subgroups = example_universe.get(\"exclude_subgroups\")"
   ]
  },
  {
   "cell_type": "code",
   "execution_count": 47,
   "id": "f4b6a8ac-9dc0-4245-8a91-5b3b5999c4f9",
   "metadata": {
    "execution": {
     "iopub.execute_input": "2025-08-05T20:33:45.407311Z",
     "iopub.status.busy": "2025-08-05T20:33:45.406805Z",
     "iopub.status.idle": "2025-08-05T20:33:45.413919Z",
     "shell.execute_reply": "2025-08-05T20:33:45.412741Z"
    },
    "papermill": {
     "duration": 0.034165,
     "end_time": "2025-08-05T20:33:45.415863",
     "exception": false,
     "start_time": "2025-08-05T20:33:45.381698",
     "status": "completed"
    },
    "tags": []
   },
   "outputs": [],
   "source": [
    "cp_metrics_dict = {\n",
    "    \"universe_id\": [universe_id],\n",
    "    \"universe_training_year\": [universe_training_year],\n",
    "    \"universe_training_size\": [universe_training_size],\n",
    "    \"universe_scale\": [universe_scale],\n",
    "    \"universe_model\": [universe_model],\n",
    "    \"universe_exclude_features\": [universe_exclude_features],\n",
    "    \"universe_exclude_subgroups\": [universe_exclude_subgroups],\n",
    "    \"q_hat\": [q_hat],\n",
    "    \"coverage\": [metrics[\"coverage\"]],\n",
    "    \"avg_size\": [metrics[\"avg_size\"]],\n",
    "}"
   ]
  },
  {
   "cell_type": "code",
   "execution_count": 48,
   "id": "908acbb1-0371-4915-85ca-3fa520d2efe2",
   "metadata": {
    "execution": {
     "iopub.execute_input": "2025-08-05T20:33:45.465067Z",
     "iopub.status.busy": "2025-08-05T20:33:45.464375Z",
     "iopub.status.idle": "2025-08-05T20:33:45.472806Z",
     "shell.execute_reply": "2025-08-05T20:33:45.471536Z"
    },
    "papermill": {
     "duration": 0.035401,
     "end_time": "2025-08-05T20:33:45.475161",
     "exception": false,
     "start_time": "2025-08-05T20:33:45.439760",
     "status": "completed"
    },
    "tags": []
   },
   "outputs": [
    {
     "data": {
      "text/plain": [
       "{'universe_id': ['fe2fc8ae174c4630204dacd3b251d2fa'],\n",
       " 'universe_training_year': ['2014'],\n",
       " 'universe_training_size': ['25k'],\n",
       " 'universe_scale': ['scale'],\n",
       " 'universe_model': ['logreg'],\n",
       " 'universe_exclude_features': ['nationality-sex'],\n",
       " 'universe_exclude_subgroups': ['keep-all'],\n",
       " 'q_hat': [0.6759456409334792],\n",
       " 'coverage': [0.9126407312451231],\n",
       " 'avg_size': [1.1256047263404303]}"
      ]
     },
     "execution_count": 48,
     "metadata": {},
     "output_type": "execute_result"
    }
   ],
   "source": [
    "cp_metrics_dict"
   ]
  },
  {
   "cell_type": "code",
   "execution_count": 49,
   "id": "33007efc-14e9-4ec6-97ac-56a455c82265",
   "metadata": {
    "execution": {
     "iopub.execute_input": "2025-08-05T20:33:45.523871Z",
     "iopub.status.busy": "2025-08-05T20:33:45.523410Z",
     "iopub.status.idle": "2025-08-05T20:33:45.530193Z",
     "shell.execute_reply": "2025-08-05T20:33:45.529130Z"
    },
    "papermill": {
     "duration": 0.032438,
     "end_time": "2025-08-05T20:33:45.531834",
     "exception": false,
     "start_time": "2025-08-05T20:33:45.499396",
     "status": "completed"
    },
    "tags": []
   },
   "outputs": [],
   "source": [
    "cp_metrics_df = pd.DataFrame(cp_metrics_dict)"
   ]
  },
  {
   "cell_type": "code",
   "execution_count": 50,
   "id": "db12611b-57b2-4910-b9d0-355adfd6e7bf",
   "metadata": {
    "execution": {
     "iopub.execute_input": "2025-08-05T20:33:45.584448Z",
     "iopub.status.busy": "2025-08-05T20:33:45.583410Z",
     "iopub.status.idle": "2025-08-05T20:33:45.603506Z",
     "shell.execute_reply": "2025-08-05T20:33:45.602509Z"
    },
    "papermill": {
     "duration": 0.048377,
     "end_time": "2025-08-05T20:33:45.605281",
     "exception": false,
     "start_time": "2025-08-05T20:33:45.556904",
     "status": "completed"
    },
    "tags": []
   },
   "outputs": [
    {
     "data": {
      "text/html": [
       "<div>\n",
       "<style scoped>\n",
       "    .dataframe tbody tr th:only-of-type {\n",
       "        vertical-align: middle;\n",
       "    }\n",
       "\n",
       "    .dataframe tbody tr th {\n",
       "        vertical-align: top;\n",
       "    }\n",
       "\n",
       "    .dataframe thead th {\n",
       "        text-align: right;\n",
       "    }\n",
       "</style>\n",
       "<table border=\"1\" class=\"dataframe\">\n",
       "  <thead>\n",
       "    <tr style=\"text-align: right;\">\n",
       "      <th></th>\n",
       "      <th>universe_id</th>\n",
       "      <th>universe_training_year</th>\n",
       "      <th>universe_training_size</th>\n",
       "      <th>universe_scale</th>\n",
       "      <th>universe_model</th>\n",
       "      <th>universe_exclude_features</th>\n",
       "      <th>universe_exclude_subgroups</th>\n",
       "      <th>q_hat</th>\n",
       "      <th>coverage</th>\n",
       "      <th>avg_size</th>\n",
       "    </tr>\n",
       "  </thead>\n",
       "  <tbody>\n",
       "    <tr>\n",
       "      <th>0</th>\n",
       "      <td>fe2fc8ae174c4630204dacd3b251d2fa</td>\n",
       "      <td>2014</td>\n",
       "      <td>25k</td>\n",
       "      <td>scale</td>\n",
       "      <td>logreg</td>\n",
       "      <td>nationality-sex</td>\n",
       "      <td>keep-all</td>\n",
       "      <td>0.675946</td>\n",
       "      <td>0.912641</td>\n",
       "      <td>1.125605</td>\n",
       "    </tr>\n",
       "  </tbody>\n",
       "</table>\n",
       "</div>"
      ],
      "text/plain": [
       "                        universe_id universe_training_year  \\\n",
       "0  fe2fc8ae174c4630204dacd3b251d2fa                   2014   \n",
       "\n",
       "  universe_training_size universe_scale universe_model  \\\n",
       "0                    25k          scale         logreg   \n",
       "\n",
       "  universe_exclude_features universe_exclude_subgroups     q_hat  coverage  \\\n",
       "0           nationality-sex                   keep-all  0.675946  0.912641   \n",
       "\n",
       "   avg_size  \n",
       "0  1.125605  "
      ]
     },
     "execution_count": 50,
     "metadata": {},
     "output_type": "execute_result"
    }
   ],
   "source": [
    "cp_metrics_df"
   ]
  },
  {
   "cell_type": "code",
   "execution_count": 51,
   "id": "b7fbde55-a0a1-47e4-9af6-fe4a17fa8c61",
   "metadata": {
    "execution": {
     "iopub.execute_input": "2025-08-05T20:33:45.658147Z",
     "iopub.status.busy": "2025-08-05T20:33:45.656935Z",
     "iopub.status.idle": "2025-08-05T20:33:45.662571Z",
     "shell.execute_reply": "2025-08-05T20:33:45.661482Z"
    },
    "papermill": {
     "duration": 0.033383,
     "end_time": "2025-08-05T20:33:45.664737",
     "exception": false,
     "start_time": "2025-08-05T20:33:45.631354",
     "status": "completed"
    },
    "tags": []
   },
   "outputs": [],
   "source": [
    "# Conditional Coverage & looking at subgroups"
   ]
  },
  {
   "cell_type": "code",
   "execution_count": 52,
   "id": "027ae886-68dd-4141-96c7-805a5450e1ef",
   "metadata": {
    "execution": {
     "iopub.execute_input": "2025-08-05T20:33:45.715608Z",
     "iopub.status.busy": "2025-08-05T20:33:45.715114Z",
     "iopub.status.idle": "2025-08-05T20:33:45.962271Z",
     "shell.execute_reply": "2025-08-05T20:33:45.961168Z"
    },
    "papermill": {
     "duration": 0.274468,
     "end_time": "2025-08-05T20:33:45.963795",
     "exception": false,
     "start_time": "2025-08-05T20:33:45.689327",
     "status": "completed"
    },
    "tags": []
   },
   "outputs": [],
   "source": [
    "from fairness_multiverse.conformal import build_cp_groups\n",
    "\n",
    "cp_groups_df = build_cp_groups(pred_sets, y_true, X_test.index, org_test)\n",
    "#needs universe_id and setting"
   ]
  },
  {
   "cell_type": "code",
   "execution_count": 53,
   "id": "6cbdab96-b2b2-45af-ad54-d0516db2e28d",
   "metadata": {
    "execution": {
     "iopub.execute_input": "2025-08-05T20:33:46.015132Z",
     "iopub.status.busy": "2025-08-05T20:33:46.014387Z",
     "iopub.status.idle": "2025-08-05T20:33:47.933279Z",
     "shell.execute_reply": "2025-08-05T20:33:47.931907Z"
    },
    "papermill": {
     "duration": 1.948126,
     "end_time": "2025-08-05T20:33:47.935195",
     "exception": false,
     "start_time": "2025-08-05T20:33:45.987069",
     "status": "completed"
    },
    "tags": []
   },
   "outputs": [],
   "source": [
    "# Define covered = 1 if true_label is in the predicted set\n",
    "cp_groups_df['covered'] = cp_groups_df.apply(\n",
    "    lambda r: int(r['true_label'] in r['pred_set']),\n",
    "    axis=1\n",
    ")"
   ]
  },
  {
   "cell_type": "code",
   "execution_count": 54,
   "id": "338ff529-1a6b-4b87-a931-8e4788d52aad",
   "metadata": {
    "execution": {
     "iopub.execute_input": "2025-08-05T20:33:47.984354Z",
     "iopub.status.busy": "2025-08-05T20:33:47.983978Z",
     "iopub.status.idle": "2025-08-05T20:33:47.988625Z",
     "shell.execute_reply": "2025-08-05T20:33:47.987641Z"
    },
    "papermill": {
     "duration": 0.033136,
     "end_time": "2025-08-05T20:33:47.990531",
     "exception": false,
     "start_time": "2025-08-05T20:33:47.957395",
     "status": "completed"
    },
    "tags": []
   },
   "outputs": [],
   "source": [
    "#cp_groups_df"
   ]
  },
  {
   "cell_type": "code",
   "execution_count": 55,
   "id": "90032e27-66df-4540-9169-4e89cfbaa758",
   "metadata": {
    "execution": {
     "iopub.execute_input": "2025-08-05T20:33:48.038785Z",
     "iopub.status.busy": "2025-08-05T20:33:48.038465Z",
     "iopub.status.idle": "2025-08-05T20:33:48.049208Z",
     "shell.execute_reply": "2025-08-05T20:33:48.048094Z"
    },
    "papermill": {
     "duration": 0.042047,
     "end_time": "2025-08-05T20:33:48.054936",
     "exception": false,
     "start_time": "2025-08-05T20:33:48.012889",
     "status": "completed"
    },
    "tags": []
   },
   "outputs": [],
   "source": [
    "subgroups = ['frau1','nongerman','nongerman_male','nongerman_female']\n",
    "\n",
    "# Conditional coverage for subgroup==1\n",
    "cond_coverage = {\n",
    "    g: cp_groups_df.loc[cp_groups_df[g]==1, 'covered'].mean()\n",
    "    for g in subgroups\n",
    "}"
   ]
  },
  {
   "cell_type": "code",
   "execution_count": 56,
   "id": "1e348fb1-b9c3-45bc-ba23-f016827a7e0d",
   "metadata": {
    "execution": {
     "iopub.execute_input": "2025-08-05T20:33:48.084601Z",
     "iopub.status.busy": "2025-08-05T20:33:48.083998Z",
     "iopub.status.idle": "2025-08-05T20:33:48.090617Z",
     "shell.execute_reply": "2025-08-05T20:33:48.089796Z"
    },
    "papermill": {
     "duration": 0.021545,
     "end_time": "2025-08-05T20:33:48.092443",
     "exception": false,
     "start_time": "2025-08-05T20:33:48.070898",
     "status": "completed"
    },
    "tags": []
   },
   "outputs": [
    {
     "data": {
      "text/plain": [
       "{'frau1': 0.9125488610324841,\n",
       " 'nongerman': 0.9127042047942514,\n",
       " 'nongerman_male': 0.9274070071151941,\n",
       " 'nongerman_female': 0.8883755588673622}"
      ]
     },
     "execution_count": 56,
     "metadata": {},
     "output_type": "execute_result"
    }
   ],
   "source": [
    "cond_coverage"
   ]
  },
  {
   "cell_type": "code",
   "execution_count": 57,
   "id": "f5093324-c3dd-4d63-bc4c-8d945e5c8bbb",
   "metadata": {
    "execution": {
     "iopub.execute_input": "2025-08-05T20:33:48.156241Z",
     "iopub.status.busy": "2025-08-05T20:33:48.155888Z",
     "iopub.status.idle": "2025-08-05T20:33:48.162091Z",
     "shell.execute_reply": "2025-08-05T20:33:48.161122Z"
    },
    "papermill": {
     "duration": 0.028621,
     "end_time": "2025-08-05T20:33:48.163808",
     "exception": false,
     "start_time": "2025-08-05T20:33:48.135187",
     "status": "completed"
    },
    "tags": []
   },
   "outputs": [],
   "source": [
    "for subgroup, cov in cond_coverage.items():\n",
    "    cp_metrics_df[f\"cov_{subgroup}\"] = cov"
   ]
  },
  {
   "cell_type": "code",
   "execution_count": 58,
   "id": "6e872e10-dbe5-49e8-b554-5030c98ff75d",
   "metadata": {
    "execution": {
     "iopub.execute_input": "2025-08-05T20:33:48.202355Z",
     "iopub.status.busy": "2025-08-05T20:33:48.202047Z",
     "iopub.status.idle": "2025-08-05T20:33:48.216391Z",
     "shell.execute_reply": "2025-08-05T20:33:48.215533Z"
    },
    "papermill": {
     "duration": 0.036359,
     "end_time": "2025-08-05T20:33:48.218563",
     "exception": false,
     "start_time": "2025-08-05T20:33:48.182204",
     "status": "completed"
    },
    "tags": []
   },
   "outputs": [
    {
     "data": {
      "text/html": [
       "<div>\n",
       "<style scoped>\n",
       "    .dataframe tbody tr th:only-of-type {\n",
       "        vertical-align: middle;\n",
       "    }\n",
       "\n",
       "    .dataframe tbody tr th {\n",
       "        vertical-align: top;\n",
       "    }\n",
       "\n",
       "    .dataframe thead th {\n",
       "        text-align: right;\n",
       "    }\n",
       "</style>\n",
       "<table border=\"1\" class=\"dataframe\">\n",
       "  <thead>\n",
       "    <tr style=\"text-align: right;\">\n",
       "      <th></th>\n",
       "      <th>universe_id</th>\n",
       "      <th>universe_training_year</th>\n",
       "      <th>universe_training_size</th>\n",
       "      <th>universe_scale</th>\n",
       "      <th>universe_model</th>\n",
       "      <th>universe_exclude_features</th>\n",
       "      <th>universe_exclude_subgroups</th>\n",
       "      <th>q_hat</th>\n",
       "      <th>coverage</th>\n",
       "      <th>avg_size</th>\n",
       "      <th>cov_frau1</th>\n",
       "      <th>cov_nongerman</th>\n",
       "      <th>cov_nongerman_male</th>\n",
       "      <th>cov_nongerman_female</th>\n",
       "    </tr>\n",
       "  </thead>\n",
       "  <tbody>\n",
       "    <tr>\n",
       "      <th>0</th>\n",
       "      <td>fe2fc8ae174c4630204dacd3b251d2fa</td>\n",
       "      <td>2014</td>\n",
       "      <td>25k</td>\n",
       "      <td>scale</td>\n",
       "      <td>logreg</td>\n",
       "      <td>nationality-sex</td>\n",
       "      <td>keep-all</td>\n",
       "      <td>0.675946</td>\n",
       "      <td>0.912641</td>\n",
       "      <td>1.125605</td>\n",
       "      <td>0.912549</td>\n",
       "      <td>0.912704</td>\n",
       "      <td>0.927407</td>\n",
       "      <td>0.888376</td>\n",
       "    </tr>\n",
       "  </tbody>\n",
       "</table>\n",
       "</div>"
      ],
      "text/plain": [
       "                        universe_id universe_training_year  \\\n",
       "0  fe2fc8ae174c4630204dacd3b251d2fa                   2014   \n",
       "\n",
       "  universe_training_size universe_scale universe_model  \\\n",
       "0                    25k          scale         logreg   \n",
       "\n",
       "  universe_exclude_features universe_exclude_subgroups     q_hat  coverage  \\\n",
       "0           nationality-sex                   keep-all  0.675946  0.912641   \n",
       "\n",
       "   avg_size  cov_frau1  cov_nongerman  cov_nongerman_male  \\\n",
       "0  1.125605   0.912549       0.912704            0.927407   \n",
       "\n",
       "   cov_nongerman_female  \n",
       "0              0.888376  "
      ]
     },
     "execution_count": 58,
     "metadata": {},
     "output_type": "execute_result"
    }
   ],
   "source": [
    "cp_metrics_df"
   ]
  },
  {
   "cell_type": "markdown",
   "id": "33774451",
   "metadata": {
    "papermill": {
     "duration": 0.02257,
     "end_time": "2025-08-05T20:33:48.267647",
     "exception": false,
     "start_time": "2025-08-05T20:33:48.245077",
     "status": "completed"
    },
    "tags": []
   },
   "source": [
    "# (Fairness) Metrics"
   ]
  },
  {
   "cell_type": "code",
   "execution_count": 59,
   "id": "debc5d62",
   "metadata": {
    "execution": {
     "iopub.execute_input": "2025-08-05T20:33:48.315699Z",
     "iopub.status.busy": "2025-08-05T20:33:48.315247Z",
     "iopub.status.idle": "2025-08-05T20:33:48.337024Z",
     "shell.execute_reply": "2025-08-05T20:33:48.336226Z"
    },
    "papermill": {
     "duration": 0.047214,
     "end_time": "2025-08-05T20:33:48.338624",
     "exception": false,
     "start_time": "2025-08-05T20:33:48.291410",
     "status": "completed"
    },
    "tags": []
   },
   "outputs": [],
   "source": [
    "# do I need to include maxdeutsch1.missing?\n",
    "\n",
    "import numpy as np\n",
    "\n",
    "colname_to_bin = \"maxdeutsch1\"\n",
    "majority_value = org_train[colname_to_bin].mode()[0]\n",
    "\n",
    "org_test[\"majmin\"] = np.where(org_test[colname_to_bin] == majority_value, \"majority\", \"minority\")"
   ]
  },
  {
   "cell_type": "code",
   "execution_count": 60,
   "id": "06a50de5",
   "metadata": {
    "execution": {
     "iopub.execute_input": "2025-08-05T20:33:48.393226Z",
     "iopub.status.busy": "2025-08-05T20:33:48.392373Z",
     "iopub.status.idle": "2025-08-05T20:33:51.216771Z",
     "shell.execute_reply": "2025-08-05T20:33:51.215763Z"
    },
    "papermill": {
     "duration": 2.848734,
     "end_time": "2025-08-05T20:33:51.218468",
     "exception": false,
     "start_time": "2025-08-05T20:33:48.369734",
     "status": "completed"
    },
    "tags": []
   },
   "outputs": [],
   "source": [
    "example_universe = universe.copy()\n",
    "example_universe[\"cutoff\"] = example_universe[\"cutoff\"][0]\n",
    "example_universe[\"eval_fairness_grouping\"] = example_universe[\"eval_fairness_grouping\"][0]\n",
    "fairness_dict, metric_frame = universe_analysis.compute_metrics(\n",
    "    example_universe,\n",
    "    y_pred_prob=probs_test,\n",
    "    y_test=y_true,\n",
    "    org_test=org_test,\n",
    ")"
   ]
  },
  {
   "cell_type": "markdown",
   "id": "f95d4e02",
   "metadata": {
    "papermill": {
     "duration": 0.022122,
     "end_time": "2025-08-05T20:33:51.265015",
     "exception": false,
     "start_time": "2025-08-05T20:33:51.242893",
     "status": "completed"
    },
    "tags": []
   },
   "source": [
    "# Overall"
   ]
  },
  {
   "cell_type": "markdown",
   "id": "bdee4871",
   "metadata": {
    "papermill": {
     "duration": 0.023648,
     "end_time": "2025-08-05T20:33:51.309321",
     "exception": false,
     "start_time": "2025-08-05T20:33:51.285673",
     "status": "completed"
    },
    "tags": []
   },
   "source": [
    "Fairness\n",
    "Main fairness target: Equalized Odds. Seems to be a better fit than equal opportunity, since we're not only interested in Y = 1. Seems to be a better fit than demographic parity, since we also care about accuracy, not just equal distribution of preds.\n",
    "\n",
    "Pick column for computation of fairness metrics\n",
    "\n",
    "Performance\n",
    "Overall performance measures, most interesting in relation to the measures split by group below"
   ]
  },
  {
   "cell_type": "code",
   "execution_count": 61,
   "id": "c4e067c6",
   "metadata": {
    "execution": {
     "iopub.execute_input": "2025-08-05T20:33:51.353705Z",
     "iopub.status.busy": "2025-08-05T20:33:51.352781Z",
     "iopub.status.idle": "2025-08-05T20:33:51.361745Z",
     "shell.execute_reply": "2025-08-05T20:33:51.360607Z"
    },
    "papermill": {
     "duration": 0.033403,
     "end_time": "2025-08-05T20:33:51.363824",
     "exception": false,
     "start_time": "2025-08-05T20:33:51.330421",
     "status": "completed"
    },
    "tags": []
   },
   "outputs": [
    {
     "data": {
      "text/plain": [
       "accuracy                   0.225493\n",
       "balanced accuracy          0.551128\n",
       "f1                         0.246794\n",
       "precision                  0.140985\n",
       "false positive rate        0.886883\n",
       "false negative rate        0.010862\n",
       "selection rate             0.900000\n",
       "count                  89710.000000\n",
       "dtype: float64"
      ]
     },
     "execution_count": 61,
     "metadata": {},
     "output_type": "execute_result"
    }
   ],
   "source": [
    "metric_frame.overall"
   ]
  },
  {
   "cell_type": "markdown",
   "id": "e968fe9d",
   "metadata": {
    "papermill": {
     "duration": 0.027165,
     "end_time": "2025-08-05T20:33:51.417443",
     "exception": false,
     "start_time": "2025-08-05T20:33:51.390278",
     "status": "completed"
    },
    "tags": []
   },
   "source": [
    "By Group"
   ]
  },
  {
   "cell_type": "code",
   "execution_count": 62,
   "id": "ec325bce",
   "metadata": {
    "execution": {
     "iopub.execute_input": "2025-08-05T20:33:51.471903Z",
     "iopub.status.busy": "2025-08-05T20:33:51.471222Z",
     "iopub.status.idle": "2025-08-05T20:33:51.491296Z",
     "shell.execute_reply": "2025-08-05T20:33:51.490317Z"
    },
    "papermill": {
     "duration": 0.047996,
     "end_time": "2025-08-05T20:33:51.493105",
     "exception": false,
     "start_time": "2025-08-05T20:33:51.445109",
     "status": "completed"
    },
    "tags": []
   },
   "outputs": [
    {
     "data": {
      "text/html": [
       "<div>\n",
       "<style scoped>\n",
       "    .dataframe tbody tr th:only-of-type {\n",
       "        vertical-align: middle;\n",
       "    }\n",
       "\n",
       "    .dataframe tbody tr th {\n",
       "        vertical-align: top;\n",
       "    }\n",
       "\n",
       "    .dataframe thead th {\n",
       "        text-align: right;\n",
       "    }\n",
       "</style>\n",
       "<table border=\"1\" class=\"dataframe\">\n",
       "  <thead>\n",
       "    <tr style=\"text-align: right;\">\n",
       "      <th></th>\n",
       "      <th>accuracy</th>\n",
       "      <th>balanced accuracy</th>\n",
       "      <th>f1</th>\n",
       "      <th>precision</th>\n",
       "      <th>false positive rate</th>\n",
       "      <th>false negative rate</th>\n",
       "      <th>selection rate</th>\n",
       "      <th>count</th>\n",
       "    </tr>\n",
       "    <tr>\n",
       "      <th>majmin</th>\n",
       "      <th></th>\n",
       "      <th></th>\n",
       "      <th></th>\n",
       "      <th></th>\n",
       "      <th></th>\n",
       "      <th></th>\n",
       "      <th></th>\n",
       "      <th></th>\n",
       "    </tr>\n",
       "  </thead>\n",
       "  <tbody>\n",
       "    <tr>\n",
       "      <th>majority</th>\n",
       "      <td>0.247188</td>\n",
       "      <td>0.561136</td>\n",
       "      <td>0.257493</td>\n",
       "      <td>0.148041</td>\n",
       "      <td>0.865584</td>\n",
       "      <td>0.012144</td>\n",
       "      <td>0.881741</td>\n",
       "      <td>69170.0</td>\n",
       "    </tr>\n",
       "    <tr>\n",
       "      <th>minority</th>\n",
       "      <td>0.152434</td>\n",
       "      <td>0.518423</td>\n",
       "      <td>0.212868</td>\n",
       "      <td>0.119196</td>\n",
       "      <td>0.957242</td>\n",
       "      <td>0.005912</td>\n",
       "      <td>0.961490</td>\n",
       "      <td>20540.0</td>\n",
       "    </tr>\n",
       "  </tbody>\n",
       "</table>\n",
       "</div>"
      ],
      "text/plain": [
       "          accuracy  balanced accuracy        f1  precision  \\\n",
       "majmin                                                       \n",
       "majority  0.247188           0.561136  0.257493   0.148041   \n",
       "minority  0.152434           0.518423  0.212868   0.119196   \n",
       "\n",
       "          false positive rate  false negative rate  selection rate    count  \n",
       "majmin                                                                       \n",
       "majority             0.865584             0.012144        0.881741  69170.0  \n",
       "minority             0.957242             0.005912        0.961490  20540.0  "
      ]
     },
     "execution_count": 62,
     "metadata": {},
     "output_type": "execute_result"
    }
   ],
   "source": [
    "metric_frame.by_group"
   ]
  },
  {
   "cell_type": "code",
   "execution_count": 63,
   "id": "a9ddbe63",
   "metadata": {
    "execution": {
     "iopub.execute_input": "2025-08-05T20:33:51.539717Z",
     "iopub.status.busy": "2025-08-05T20:33:51.538924Z",
     "iopub.status.idle": "2025-08-05T20:33:53.836212Z",
     "shell.execute_reply": "2025-08-05T20:33:53.835355Z"
    },
    "papermill": {
     "duration": 2.322731,
     "end_time": "2025-08-05T20:33:53.837893",
     "exception": false,
     "start_time": "2025-08-05T20:33:51.515162",
     "status": "completed"
    },
    "tags": []
   },
   "outputs": [
    {
     "data": {
      "text/plain": [
       "array([[<Axes: title={'center': 'accuracy'}, xlabel='majmin'>,\n",
       "        <Axes: title={'center': 'balanced accuracy'}, xlabel='majmin'>,\n",
       "        <Axes: title={'center': 'f1'}, xlabel='majmin'>],\n",
       "       [<Axes: title={'center': 'precision'}, xlabel='majmin'>,\n",
       "        <Axes: title={'center': 'false positive rate'}, xlabel='majmin'>,\n",
       "        <Axes: title={'center': 'false negative rate'}, xlabel='majmin'>],\n",
       "       [<Axes: title={'center': 'selection rate'}, xlabel='majmin'>,\n",
       "        <Axes: title={'center': 'count'}, xlabel='majmin'>,\n",
       "        <Axes: xlabel='majmin'>]], dtype=object)"
      ]
     },
     "execution_count": 63,
     "metadata": {},
     "output_type": "execute_result"
    },
    {
     "data": {
      "image/png": "[encoded data removed]",
      "text/plain": [
       "<Figure size 1200x800 with 9 Axes>"
      ]
     },
     "metadata": {},
     "output_type": "display_data"
    }
   ],
   "source": [
    "# In a graphic\n",
    "metric_frame.by_group.plot.bar(\n",
    "    subplots=True,\n",
    "    layout=[3, 3],\n",
    "    legend=False,\n",
    "    figsize=[12, 8],\n",
    "    title=\"Show all metrics\",\n",
    ")"
   ]
  },
  {
   "cell_type": "markdown",
   "id": "f57a0bac",
   "metadata": {
    "papermill": {
     "duration": 0.023649,
     "end_time": "2025-08-05T20:33:53.887634",
     "exception": false,
     "start_time": "2025-08-05T20:33:53.863985",
     "status": "completed"
    },
    "tags": []
   },
   "source": [
    "# Final Output"
   ]
  },
  {
   "cell_type": "code",
   "execution_count": 64,
   "id": "96d280a3",
   "metadata": {
    "execution": {
     "iopub.execute_input": "2025-08-05T20:33:53.937911Z",
     "iopub.status.busy": "2025-08-05T20:33:53.936921Z",
     "iopub.status.idle": "2025-08-05T20:33:53.944521Z",
     "shell.execute_reply": "2025-08-05T20:33:53.943520Z"
    },
    "papermill": {
     "duration": 0.033379,
     "end_time": "2025-08-05T20:33:53.946036",
     "exception": false,
     "start_time": "2025-08-05T20:33:53.912657",
     "status": "completed"
    },
    "tags": []
   },
   "outputs": [
    {
     "data": {
      "text/plain": [
       "4"
      ]
     },
     "execution_count": 64,
     "metadata": {},
     "output_type": "execute_result"
    }
   ],
   "source": [
    "sub_universes = universe_analysis.generate_sub_universes()\n",
    "len(sub_universes)"
   ]
  },
  {
   "cell_type": "code",
   "execution_count": 65,
   "id": "92adf7ba",
   "metadata": {
    "execution": {
     "iopub.execute_input": "2025-08-05T20:33:53.996007Z",
     "iopub.status.busy": "2025-08-05T20:33:53.995388Z",
     "iopub.status.idle": "2025-08-05T20:33:54.001447Z",
     "shell.execute_reply": "2025-08-05T20:33:54.000380Z"
    },
    "papermill": {
     "duration": 0.033088,
     "end_time": "2025-08-05T20:33:54.003431",
     "exception": false,
     "start_time": "2025-08-05T20:33:53.970343",
     "status": "completed"
    },
    "tags": []
   },
   "outputs": [],
   "source": [
    "def filter_sub_universe_data(sub_universe, org_test):\n",
    "    # Keep all rows — no filtering\n",
    "    keep_rows_mask = np.ones(org_test.shape[0], dtype=bool)\n",
    "\n",
    "    print(f\"[INFO] Keeping all rows: {keep_rows_mask.sum()} rows retained.\")\n",
    "    return keep_rows_mask"
   ]
  },
  {
   "cell_type": "code",
   "execution_count": 66,
   "id": "4a759155",
   "metadata": {
    "execution": {
     "iopub.execute_input": "2025-08-05T20:33:54.057539Z",
     "iopub.status.busy": "2025-08-05T20:33:54.056600Z",
     "iopub.status.idle": "2025-08-05T20:34:02.746841Z",
     "shell.execute_reply": "2025-08-05T20:34:02.746020Z"
    },
    "papermill": {
     "duration": 8.717462,
     "end_time": "2025-08-05T20:34:02.748051",
     "exception": false,
     "start_time": "2025-08-05T20:33:54.030589",
     "status": "completed"
    },
    "tags": []
   },
   "outputs": [
    {
     "name": "stdout",
     "output_type": "stream",
     "text": [
      "Stopping execution_time clock.\n",
      "[INFO] Keeping all rows: 89710 rows retained.\n"
     ]
    },
    {
     "name": "stdout",
     "output_type": "stream",
     "text": [
      "[INFO] Keeping all rows: 89710 rows retained.\n"
     ]
    },
    {
     "name": "stdout",
     "output_type": "stream",
     "text": [
      "[INFO] Keeping all rows: 89710 rows retained.\n"
     ]
    },
    {
     "name": "stdout",
     "output_type": "stream",
     "text": [
      "[INFO] Keeping all rows: 89710 rows retained.\n"
     ]
    },
    {
     "data": {
      "text/html": [
       "<div>\n",
       "<style scoped>\n",
       "    .dataframe tbody tr th:only-of-type {\n",
       "        vertical-align: middle;\n",
       "    }\n",
       "\n",
       "    .dataframe tbody tr th {\n",
       "        vertical-align: top;\n",
       "    }\n",
       "\n",
       "    .dataframe thead th {\n",
       "        text-align: right;\n",
       "    }\n",
       "</style>\n",
       "<table border=\"1\" class=\"dataframe\">\n",
       "  <thead>\n",
       "    <tr style=\"text-align: right;\">\n",
       "      <th></th>\n",
       "      <th>run_no</th>\n",
       "      <th>universe_id</th>\n",
       "      <th>universe_settings</th>\n",
       "      <th>execution_time</th>\n",
       "      <th>test_size_n</th>\n",
       "      <th>test_size_frac</th>\n",
       "      <th>fair_main_equalized_odds_difference</th>\n",
       "      <th>fair_main_equalized_odds_ratio</th>\n",
       "      <th>fair_main_demographic_parity_difference</th>\n",
       "      <th>fair_main_demographic_parity_ratio</th>\n",
       "      <th>...</th>\n",
       "      <th>perf_grp_precision_0</th>\n",
       "      <th>perf_grp_precision_1</th>\n",
       "      <th>perf_grp_false positive rate_0</th>\n",
       "      <th>perf_grp_false positive rate_1</th>\n",
       "      <th>perf_grp_false negative rate_0</th>\n",
       "      <th>perf_grp_false negative rate_1</th>\n",
       "      <th>perf_grp_selection rate_0</th>\n",
       "      <th>perf_grp_selection rate_1</th>\n",
       "      <th>perf_grp_count_0</th>\n",
       "      <th>perf_grp_count_1</th>\n",
       "    </tr>\n",
       "  </thead>\n",
       "  <tbody>\n",
       "    <tr>\n",
       "      <th>0</th>\n",
       "      <td>16</td>\n",
       "      <td>fe2fc8ae174c4630204dacd3b251d2fa</td>\n",
       "      <td>{\"cutoff\": \"quantile_0.1\", \"eval_fairness_grou...</td>\n",
       "      <td>28.188214</td>\n",
       "      <td>89710</td>\n",
       "      <td>1.0</td>\n",
       "      <td>0.091658</td>\n",
       "      <td>0.904248</td>\n",
       "      <td>0.079749</td>\n",
       "      <td>0.917057</td>\n",
       "      <td>...</td>\n",
       "      <td>NaN</td>\n",
       "      <td>NaN</td>\n",
       "      <td>NaN</td>\n",
       "      <td>NaN</td>\n",
       "      <td>NaN</td>\n",
       "      <td>NaN</td>\n",
       "      <td>NaN</td>\n",
       "      <td>NaN</td>\n",
       "      <td>NaN</td>\n",
       "      <td>NaN</td>\n",
       "    </tr>\n",
       "    <tr>\n",
       "      <th>0</th>\n",
       "      <td>16</td>\n",
       "      <td>fe2fc8ae174c4630204dacd3b251d2fa</td>\n",
       "      <td>{\"cutoff\": \"quantile_0.1\", \"eval_fairness_grou...</td>\n",
       "      <td>28.188214</td>\n",
       "      <td>89710</td>\n",
       "      <td>1.0</td>\n",
       "      <td>0.091658</td>\n",
       "      <td>0.904248</td>\n",
       "      <td>0.079749</td>\n",
       "      <td>0.917057</td>\n",
       "      <td>...</td>\n",
       "      <td>0.119196</td>\n",
       "      <td>0.148041</td>\n",
       "      <td>0.957242</td>\n",
       "      <td>0.865584</td>\n",
       "      <td>0.005912</td>\n",
       "      <td>0.012144</td>\n",
       "      <td>0.961490</td>\n",
       "      <td>0.881741</td>\n",
       "      <td>20540.0</td>\n",
       "      <td>69170.0</td>\n",
       "    </tr>\n",
       "    <tr>\n",
       "      <th>0</th>\n",
       "      <td>16</td>\n",
       "      <td>fe2fc8ae174c4630204dacd3b251d2fa</td>\n",
       "      <td>{\"cutoff\": \"quantile_0.25\", \"eval_fairness_gro...</td>\n",
       "      <td>28.188214</td>\n",
       "      <td>89710</td>\n",
       "      <td>1.0</td>\n",
       "      <td>0.169885</td>\n",
       "      <td>0.800275</td>\n",
       "      <td>0.147445</td>\n",
       "      <td>0.829283</td>\n",
       "      <td>...</td>\n",
       "      <td>NaN</td>\n",
       "      <td>NaN</td>\n",
       "      <td>NaN</td>\n",
       "      <td>NaN</td>\n",
       "      <td>NaN</td>\n",
       "      <td>NaN</td>\n",
       "      <td>NaN</td>\n",
       "      <td>NaN</td>\n",
       "      <td>NaN</td>\n",
       "      <td>NaN</td>\n",
       "    </tr>\n",
       "    <tr>\n",
       "      <th>0</th>\n",
       "      <td>16</td>\n",
       "      <td>fe2fc8ae174c4630204dacd3b251d2fa</td>\n",
       "      <td>{\"cutoff\": \"quantile_0.25\", \"eval_fairness_gro...</td>\n",
       "      <td>28.188214</td>\n",
       "      <td>89710</td>\n",
       "      <td>1.0</td>\n",
       "      <td>0.169885</td>\n",
       "      <td>0.800275</td>\n",
       "      <td>0.147445</td>\n",
       "      <td>0.829283</td>\n",
       "      <td>...</td>\n",
       "      <td>0.128692</td>\n",
       "      <td>0.175185</td>\n",
       "      <td>0.850594</td>\n",
       "      <td>0.680710</td>\n",
       "      <td>0.035895</td>\n",
       "      <td>0.050438</td>\n",
       "      <td>0.863681</td>\n",
       "      <td>0.716235</td>\n",
       "      <td>20540.0</td>\n",
       "      <td>69170.0</td>\n",
       "    </tr>\n",
       "  </tbody>\n",
       "</table>\n",
       "<p>4 rows × 50 columns</p>\n",
       "</div>"
      ],
      "text/plain": [
       "  run_no                       universe_id  \\\n",
       "0     16  fe2fc8ae174c4630204dacd3b251d2fa   \n",
       "0     16  fe2fc8ae174c4630204dacd3b251d2fa   \n",
       "0     16  fe2fc8ae174c4630204dacd3b251d2fa   \n",
       "0     16  fe2fc8ae174c4630204dacd3b251d2fa   \n",
       "\n",
       "                                   universe_settings  execution_time  \\\n",
       "0  {\"cutoff\": \"quantile_0.1\", \"eval_fairness_grou...       28.188214   \n",
       "0  {\"cutoff\": \"quantile_0.1\", \"eval_fairness_grou...       28.188214   \n",
       "0  {\"cutoff\": \"quantile_0.25\", \"eval_fairness_gro...       28.188214   \n",
       "0  {\"cutoff\": \"quantile_0.25\", \"eval_fairness_gro...       28.188214   \n",
       "\n",
       "   test_size_n  test_size_frac  fair_main_equalized_odds_difference  \\\n",
       "0        89710             1.0                             0.091658   \n",
       "0        89710             1.0                             0.091658   \n",
       "0        89710             1.0                             0.169885   \n",
       "0        89710             1.0                             0.169885   \n",
       "\n",
       "   fair_main_equalized_odds_ratio  fair_main_demographic_parity_difference  \\\n",
       "0                        0.904248                                 0.079749   \n",
       "0                        0.904248                                 0.079749   \n",
       "0                        0.800275                                 0.147445   \n",
       "0                        0.800275                                 0.147445   \n",
       "\n",
       "   fair_main_demographic_parity_ratio  ...  perf_grp_precision_0  \\\n",
       "0                            0.917057  ...                   NaN   \n",
       "0                            0.917057  ...              0.119196   \n",
       "0                            0.829283  ...                   NaN   \n",
       "0                            0.829283  ...              0.128692   \n",
       "\n",
       "   perf_grp_precision_1  perf_grp_false positive rate_0  \\\n",
       "0                   NaN                             NaN   \n",
       "0              0.148041                        0.957242   \n",
       "0                   NaN                             NaN   \n",
       "0              0.175185                        0.850594   \n",
       "\n",
       "   perf_grp_false positive rate_1  perf_grp_false negative rate_0  \\\n",
       "0                             NaN                             NaN   \n",
       "0                        0.865584                        0.005912   \n",
       "0                             NaN                             NaN   \n",
       "0                        0.680710                        0.035895   \n",
       "\n",
       "   perf_grp_false negative rate_1  perf_grp_selection rate_0  \\\n",
       "0                             NaN                        NaN   \n",
       "0                        0.012144                   0.961490   \n",
       "0                             NaN                        NaN   \n",
       "0                        0.050438                   0.863681   \n",
       "\n",
       "   perf_grp_selection rate_1  perf_grp_count_0  perf_grp_count_1  \n",
       "0                        NaN               NaN               NaN  \n",
       "0                   0.881741           20540.0           69170.0  \n",
       "0                        NaN               NaN               NaN  \n",
       "0                   0.716235           20540.0           69170.0  \n",
       "\n",
       "[4 rows x 50 columns]"
      ]
     },
     "execution_count": 66,
     "metadata": {},
     "output_type": "execute_result"
    }
   ],
   "source": [
    "final_output = universe_analysis.generate_final_output(\n",
    "    y_pred_prob=probs_test,\n",
    "    y_test=y_true,\n",
    "    org_test=org_test,\n",
    "    filter_data=filter_sub_universe_data,\n",
    "    cp_metrics_df=cp_metrics_df,\n",
    "    save=True,\n",
    ")\n",
    "final_output"
   ]
  }
 ],
 "metadata": {
  "celltoolbar": "Tags",
  "kernelspec": {
   "display_name": "Python (CMA Fairness)",
   "language": "python",
   "name": "cma_fair_env"
  },
  "language_info": {
   "codemirror_mode": {
    "name": "ipython",
    "version": 3
   },
   "file_extension": ".py",
   "mimetype": "text/x-python",
   "name": "python",
   "nbconvert_exporter": "python",
   "pygments_lexer": "ipython3",
   "version": "3.10.12"
  },
  "papermill": {
   "default_parameters": {},
   "duration": 40.657137,
   "end_time": "2025-08-05T20:34:03.386927",
   "environment_variables": {},
   "exception": null,
   "input_path": "universe_analysis.ipynb",
   "output_path": "output/runs/16/notebooks/m_16-fe2fc8ae174c4630204dacd3b251d2fa.ipynb",
   "parameters": {
    "output_dir": "output",
    "run_no": "16",
    "seed": "2023",
    "universe": "{\"cutoff\": [\"quantile_0.1\", \"quantile_0.25\"], \"eval_fairness_grouping\": [\"majority-minority\", \"nationality-all\"], \"exclude_features\": \"nationality-sex\", \"exclude_subgroups\": \"keep-all\", \"model\": \"logreg\", \"scale\": \"scale\", \"training_size\": \"25k\", \"training_year\": \"2014\"}",
    "universe_id": "fe2fc8ae174c4630204dacd3b251d2fa"
   },
   "start_time": "2025-08-05T20:33:22.729790",
   "version": "2.6.0"
  }
 },
 "nbformat": 4,
 "nbformat_minor": 5
}