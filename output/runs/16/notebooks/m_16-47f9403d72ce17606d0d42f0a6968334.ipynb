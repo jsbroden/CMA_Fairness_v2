{
 "cells": [
  {
   "cell_type": "code",
   "execution_count": 1,
   "id": "f159f837-637b-42ba-96b5-ec9a68c44524",
   "metadata": {
    "execution": {
     "iopub.execute_input": "2025-08-05T20:48:15.447614Z",
     "iopub.status.busy": "2025-08-05T20:48:15.447167Z",
     "iopub.status.idle": "2025-08-05T20:48:15.460087Z",
     "shell.execute_reply": "2025-08-05T20:48:15.458647Z"
    },
    "papermill": {
     "duration": 0.026985,
     "end_time": "2025-08-05T20:48:15.462222",
     "exception": false,
     "start_time": "2025-08-05T20:48:15.435237",
     "status": "completed"
    },
    "tags": []
   },
   "outputs": [
    {
     "name": "stdout",
     "output_type": "stream",
     "text": [
      "/dss/dsshome1/0C/ra93lal2/cma/CMA_Fairness_v2\n"
     ]
    },
    {
     "name": "stderr",
     "output_type": "stream",
     "text": [
      "/dss/dsshome1/0C/ra93lal2/.local/share/virtualenvs/CMA_Fairness_v2-3j10GkSs/lib/python3.10/site-packages/IPython/core/magics/osm.py:393: UserWarning: This is now an optional IPython functionality, using bookmarks requires you to install the `pickleshare` library.\n",
      "  bkms = self.shell.db.get('bookmarks', {})\n",
      "/dss/dsshome1/0C/ra93lal2/.local/share/virtualenvs/CMA_Fairness_v2-3j10GkSs/lib/python3.10/site-packages/IPython/core/magics/osm.py:417: UserWarning: This is now an optional IPython functionality, setting dhist requires you to install the `pickleshare` library.\n",
      "  self.shell.db['dhist'] = compress_dhist(dhist)[-100:]\n"
     ]
    }
   ],
   "source": [
    "%cd ~/cma/CMA_Fairness_v2"
   ]
  },
  {
   "cell_type": "markdown",
   "id": "de2603b9",
   "metadata": {
    "papermill": {
     "duration": 0.016853,
     "end_time": "2025-08-05T20:48:15.496659",
     "exception": false,
     "start_time": "2025-08-05T20:48:15.479806",
     "status": "completed"
    },
    "tags": []
   },
   "source": [
    "The following cell holds the definition of our parameters, these values can be overriden by rendering the with e.g. the following command:\n",
    "\n",
    "papermill -p alpha 0.2 -p ratio 0.3 universe_analysis.ipynb output/test_run.ipynb"
   ]
  },
  {
   "cell_type": "code",
   "execution_count": 2,
   "id": "a80968a0-40bb-4fa9-85ef-2d5eefb01975",
   "metadata": {
    "execution": {
     "iopub.execute_input": "2025-08-05T20:48:15.531921Z",
     "iopub.status.busy": "2025-08-05T20:48:15.531459Z",
     "iopub.status.idle": "2025-08-05T20:48:15.536497Z",
     "shell.execute_reply": "2025-08-05T20:48:15.535483Z"
    },
    "papermill": {
     "duration": 0.025984,
     "end_time": "2025-08-05T20:48:15.538043",
     "exception": false,
     "start_time": "2025-08-05T20:48:15.512059",
     "status": "completed"
    },
    "tags": []
   },
   "outputs": [
    {
     "name": "stdout",
     "output_type": "stream",
     "text": [
      "Current working directory: /dss/dsshome1/0C/ra93lal2/cma/CMA_Fairness_v2\n"
     ]
    }
   ],
   "source": [
    "import os\n",
    "print(\"Current working directory:\", os.getcwd())"
   ]
  },
  {
   "cell_type": "code",
   "execution_count": 3,
   "id": "2dce4c03",
   "metadata": {
    "execution": {
     "iopub.execute_input": "2025-08-05T20:48:15.559880Z",
     "iopub.status.busy": "2025-08-05T20:48:15.559545Z",
     "iopub.status.idle": "2025-08-05T20:48:15.565733Z",
     "shell.execute_reply": "2025-08-05T20:48:15.564785Z"
    },
    "papermill": {
     "duration": 0.019156,
     "end_time": "2025-08-05T20:48:15.567523",
     "exception": false,
     "start_time": "2025-08-05T20:48:15.548367",
     "status": "completed"
    },
    "tags": [
     "parameters"
    ]
   },
   "outputs": [],
   "source": [
    "run_no = 0\n",
    "universe_id = \"test\"\n",
    "universe = {\n",
    "    \"training_size\": \"25k\", # \"25k\", \"5k\", \"1k\"\n",
    "    \"training_year\": \"2014\", # \"2014\", \"2012_14\", \"2010_14\"\n",
    "    \"scale\": \"scale\", # \"scale\", \"do-not-scale\",\n",
    "    \"model\": \"elasticnet\", # \"logreg\", \"penalized_logreg\", \"rf\", \"gbm\", \"elasticnet\"\n",
    "    \"cutoff\": [\"quantile_0.15\", \"quantile_0.30\"],\n",
    "    \"exclude_features\": \"age\", # \"none\", \"nationality\", \"sex\", \"nationality-sex\", \"age\"\n",
    "    \"exclude_subgroups\": \"keep-all\", # \"keep-all\", \"drop-non-german\"\n",
    "    \"eval_fairness_grouping\": [\"majority-minority\", \"nationality-all\"]\n",
    "}\n",
    "\n",
    "output_dir=\"./output\"\n",
    "seed=0"
   ]
  },
  {
   "cell_type": "code",
   "execution_count": 4,
   "id": "e6feeaac",
   "metadata": {
    "execution": {
     "iopub.execute_input": "2025-08-05T20:48:15.604683Z",
     "iopub.status.busy": "2025-08-05T20:48:15.604189Z",
     "iopub.status.idle": "2025-08-05T20:48:15.615865Z",
     "shell.execute_reply": "2025-08-05T20:48:15.614694Z"
    },
    "papermill": {
     "duration": 0.032989,
     "end_time": "2025-08-05T20:48:15.618049",
     "exception": false,
     "start_time": "2025-08-05T20:48:15.585060",
     "status": "completed"
    },
    "tags": [
     "injected-parameters"
    ]
   },
   "outputs": [],
   "source": [
    "# Parameters\n",
    "universe_id = \"47f9403d72ce17606d0d42f0a6968334\"\n",
    "run_no = \"16\"\n",
    "universe = \"{\\\"cutoff\\\": [\\\"quantile_0.1\\\", \\\"quantile_0.25\\\"], \\\"eval_fairness_grouping\\\": [\\\"majority-minority\\\", \\\"nationality-all\\\"], \\\"exclude_features\\\": \\\"age\\\", \\\"exclude_subgroups\\\": \\\"drop-non-german\\\", \\\"model\\\": \\\"elasticnet\\\", \\\"scale\\\": \\\"do-not-scale\\\", \\\"training_size\\\": \\\"25k\\\", \\\"training_year\\\": \\\"2014\\\"}\"\n",
    "output_dir = \"output\"\n",
    "seed = \"2023\"\n"
   ]
  },
  {
   "cell_type": "code",
   "execution_count": 5,
   "id": "1650acaf",
   "metadata": {
    "execution": {
     "iopub.execute_input": "2025-08-05T20:48:15.655231Z",
     "iopub.status.busy": "2025-08-05T20:48:15.654674Z",
     "iopub.status.idle": "2025-08-05T20:48:15.659903Z",
     "shell.execute_reply": "2025-08-05T20:48:15.658944Z"
    },
    "papermill": {
     "duration": 0.026464,
     "end_time": "2025-08-05T20:48:15.661926",
     "exception": false,
     "start_time": "2025-08-05T20:48:15.635462",
     "status": "completed"
    },
    "tags": []
   },
   "outputs": [],
   "source": [
    "import json\n",
    "if isinstance(universe, str):\n",
    "    universe = json.loads(universe)"
   ]
  },
  {
   "cell_type": "code",
   "execution_count": 6,
   "id": "16620c48",
   "metadata": {
    "execution": {
     "iopub.execute_input": "2025-08-05T20:48:15.698904Z",
     "iopub.status.busy": "2025-08-05T20:48:15.698416Z",
     "iopub.status.idle": "2025-08-05T20:48:15.745135Z",
     "shell.execute_reply": "2025-08-05T20:48:15.744213Z"
    },
    "papermill": {
     "duration": 0.06718,
     "end_time": "2025-08-05T20:48:15.746917",
     "exception": false,
     "start_time": "2025-08-05T20:48:15.679737",
     "status": "completed"
    },
    "tags": []
   },
   "outputs": [],
   "source": [
    "# Auto-reload the custom package\n",
    "%load_ext autoreload\n",
    "%autoreload 1\n",
    "%aimport fairness_multiverse"
   ]
  },
  {
   "cell_type": "code",
   "execution_count": 7,
   "id": "01c5c9f3",
   "metadata": {
    "execution": {
     "iopub.execute_input": "2025-08-05T20:48:15.782578Z",
     "iopub.status.busy": "2025-08-05T20:48:15.781990Z",
     "iopub.status.idle": "2025-08-05T20:48:17.587200Z",
     "shell.execute_reply": "2025-08-05T20:48:17.586381Z"
    },
    "papermill": {
     "duration": 1.825051,
     "end_time": "2025-08-05T20:48:17.588735",
     "exception": false,
     "start_time": "2025-08-05T20:48:15.763684",
     "status": "completed"
    },
    "tags": []
   },
   "outputs": [],
   "source": [
    "from fairness_multiverse.universe import UniverseAnalysis\n",
    "\n",
    "universe_analysis = UniverseAnalysis(\n",
    "    run_no = run_no,\n",
    "    universe_id = universe_id,\n",
    "    universe = universe,\n",
    "    output_dir=output_dir,\n",
    ")"
   ]
  },
  {
   "cell_type": "code",
   "execution_count": 8,
   "id": "106241f5",
   "metadata": {
    "execution": {
     "iopub.execute_input": "2025-08-05T20:48:17.607471Z",
     "iopub.status.busy": "2025-08-05T20:48:17.607130Z",
     "iopub.status.idle": "2025-08-05T20:48:17.612627Z",
     "shell.execute_reply": "2025-08-05T20:48:17.611668Z"
    },
    "papermill": {
     "duration": 0.016662,
     "end_time": "2025-08-05T20:48:17.614501",
     "exception": false,
     "start_time": "2025-08-05T20:48:17.597839",
     "status": "completed"
    },
    "tags": []
   },
   "outputs": [
    {
     "name": "stdout",
     "output_type": "stream",
     "text": [
      "Using Seed: 2023\n"
     ]
    }
   ],
   "source": [
    "import numpy as np\n",
    "parsed_seed = int(seed)\n",
    "np.random.seed(parsed_seed)\n",
    "print(f\"Using Seed: {parsed_seed}\")"
   ]
  },
  {
   "cell_type": "markdown",
   "id": "e0ebdc57",
   "metadata": {
    "papermill": {
     "duration": 0.008867,
     "end_time": "2025-08-05T20:48:17.633253",
     "exception": false,
     "start_time": "2025-08-05T20:48:17.624386",
     "status": "completed"
    },
    "tags": []
   },
   "source": [
    "# Loading Data"
   ]
  },
  {
   "cell_type": "code",
   "execution_count": 9,
   "id": "f0496b8a",
   "metadata": {
    "execution": {
     "iopub.execute_input": "2025-08-05T20:48:17.652383Z",
     "iopub.status.busy": "2025-08-05T20:48:17.651550Z",
     "iopub.status.idle": "2025-08-05T20:48:26.720287Z",
     "shell.execute_reply": "2025-08-05T20:48:26.719068Z"
    },
    "papermill": {
     "duration": 9.080039,
     "end_time": "2025-08-05T20:48:26.721961",
     "exception": false,
     "start_time": "2025-08-05T20:48:17.641922",
     "status": "completed"
    },
    "tags": []
   },
   "outputs": [
    {
     "name": "stdout",
     "output_type": "stream",
     "text": [
      "Loading SIAB data from cache: data/siab_cached.csv.gz\n"
     ]
    },
    {
     "name": "stdout",
     "output_type": "stream",
     "text": [
      "(643690, 164)\n"
     ]
    }
   ],
   "source": [
    "from pathlib import Path\n",
    "import pandas as pd\n",
    "\n",
    "# File paths\n",
    "raw_file = Path(\"data/raw/siab.csv\")\n",
    "cache_file = Path(\"data/siab_cached.csv.gz\")\n",
    "\n",
    "# Ensure cache directory exists\n",
    "cache_file.parent.mkdir(parents=True, exist_ok=True)\n",
    "\n",
    "# Load with simple caching\n",
    "if cache_file.exists():\n",
    "    print(f\"Loading SIAB data from cache: {cache_file}\")\n",
    "    siab = pd.read_csv(cache_file, compression='gzip')\n",
    "else:\n",
    "    print(f\"Cache not found. Reading raw SIAB data: {raw_file}\")\n",
    "    siab = pd.read_csv(raw_file)\n",
    "    siab.to_csv(cache_file, index=False, compression='gzip')\n",
    "    print(f\"Cached SIAB data to: {cache_file}\")\n",
    "\n",
    "print(siab.shape)"
   ]
  },
  {
   "cell_type": "code",
   "execution_count": 10,
   "id": "db0ca512-5f53-4dba-abdb-a2888bca41ba",
   "metadata": {
    "execution": {
     "iopub.execute_input": "2025-08-05T20:48:26.767175Z",
     "iopub.status.busy": "2025-08-05T20:48:26.766567Z",
     "iopub.status.idle": "2025-08-05T20:48:26.773717Z",
     "shell.execute_reply": "2025-08-05T20:48:26.772396Z"
    },
    "papermill": {
     "duration": 0.032129,
     "end_time": "2025-08-05T20:48:26.776190",
     "exception": false,
     "start_time": "2025-08-05T20:48:26.744061",
     "status": "completed"
    },
    "tags": []
   },
   "outputs": [],
   "source": [
    "#siab"
   ]
  },
  {
   "cell_type": "markdown",
   "id": "997051c5-15bd-4b69-9786-c3001a3ce484",
   "metadata": {
    "papermill": {
     "duration": 0.021586,
     "end_time": "2025-08-05T20:48:26.819831",
     "exception": false,
     "start_time": "2025-08-05T20:48:26.798245",
     "status": "completed"
    },
    "tags": []
   },
   "source": [
    "# Splitting Data and Setting Training Data Size"
   ]
  },
  {
   "cell_type": "code",
   "execution_count": 11,
   "id": "aea9c6ef-6f46-42c8-85eb-5a62025c1508",
   "metadata": {
    "execution": {
     "iopub.execute_input": "2025-08-05T20:48:26.864068Z",
     "iopub.status.busy": "2025-08-05T20:48:26.863584Z",
     "iopub.status.idle": "2025-08-05T20:48:27.102995Z",
     "shell.execute_reply": "2025-08-05T20:48:27.101935Z"
    },
    "papermill": {
     "duration": 0.264114,
     "end_time": "2025-08-05T20:48:27.105223",
     "exception": false,
     "start_time": "2025-08-05T20:48:26.841109",
     "status": "completed"
    },
    "tags": []
   },
   "outputs": [],
   "source": [
    "from fairness_multiverse.universe import sample_by_year_size\n",
    "\n",
    "siab_train = sample_by_year_size(siab,\n",
    "                               training_year=universe[\"training_year\"],\n",
    "                               training_size=universe[\"training_size\"])"
   ]
  },
  {
   "cell_type": "code",
   "execution_count": 12,
   "id": "8d3afb32-789d-442c-8d5d-9f5aa8dd2eed",
   "metadata": {
    "execution": {
     "iopub.execute_input": "2025-08-05T20:48:27.148193Z",
     "iopub.status.busy": "2025-08-05T20:48:27.147356Z",
     "iopub.status.idle": "2025-08-05T20:48:27.153472Z",
     "shell.execute_reply": "2025-08-05T20:48:27.152449Z"
    },
    "papermill": {
     "duration": 0.028211,
     "end_time": "2025-08-05T20:48:27.155303",
     "exception": false,
     "start_time": "2025-08-05T20:48:27.127092",
     "status": "completed"
    },
    "tags": []
   },
   "outputs": [],
   "source": [
    "#siab_train.shape"
   ]
  },
  {
   "cell_type": "code",
   "execution_count": 13,
   "id": "d582db68-1a4c-47fb-84fc-08518dc1975a",
   "metadata": {
    "execution": {
     "iopub.execute_input": "2025-08-05T20:48:27.188611Z",
     "iopub.status.busy": "2025-08-05T20:48:27.188232Z",
     "iopub.status.idle": "2025-08-05T20:48:27.193156Z",
     "shell.execute_reply": "2025-08-05T20:48:27.192336Z"
    },
    "papermill": {
     "duration": 0.023127,
     "end_time": "2025-08-05T20:48:27.194717",
     "exception": false,
     "start_time": "2025-08-05T20:48:27.171590",
     "status": "completed"
    },
    "tags": []
   },
   "outputs": [],
   "source": [
    "#display(siab_train.groupby(\"year\").size())"
   ]
  },
  {
   "cell_type": "code",
   "execution_count": 14,
   "id": "a561edb4-d032-42cb-8256-22eac1111c64",
   "metadata": {
    "execution": {
     "iopub.execute_input": "2025-08-05T20:48:27.230077Z",
     "iopub.status.busy": "2025-08-05T20:48:27.229599Z",
     "iopub.status.idle": "2025-08-05T20:48:27.436816Z",
     "shell.execute_reply": "2025-08-05T20:48:27.435609Z"
    },
    "papermill": {
     "duration": 0.227116,
     "end_time": "2025-08-05T20:48:27.438822",
     "exception": false,
     "start_time": "2025-08-05T20:48:27.211706",
     "status": "completed"
    },
    "tags": []
   },
   "outputs": [],
   "source": [
    "#siab_train = siab_s[siab_s.year < 2015]\n",
    "siab_calib = siab[siab.year == 2015]\n",
    "siab_test = siab[siab.year == 2016]"
   ]
  },
  {
   "cell_type": "code",
   "execution_count": 15,
   "id": "472de16f-c3db-4916-846b-1f0de9cf1746",
   "metadata": {
    "execution": {
     "iopub.execute_input": "2025-08-05T20:48:27.472654Z",
     "iopub.status.busy": "2025-08-05T20:48:27.472144Z",
     "iopub.status.idle": "2025-08-05T20:48:27.488678Z",
     "shell.execute_reply": "2025-08-05T20:48:27.487671Z"
    },
    "papermill": {
     "duration": 0.03535,
     "end_time": "2025-08-05T20:48:27.490565",
     "exception": false,
     "start_time": "2025-08-05T20:48:27.455215",
     "status": "completed"
    },
    "tags": []
   },
   "outputs": [],
   "source": [
    "X_train = siab_train.iloc[:,4:164]\n",
    "y_train = siab_train.iloc[:, [3]]"
   ]
  },
  {
   "cell_type": "code",
   "execution_count": 16,
   "id": "828c96af-f43a-4ed6-ba47-8ac73a47d56c",
   "metadata": {
    "execution": {
     "iopub.execute_input": "2025-08-05T20:48:27.525659Z",
     "iopub.status.busy": "2025-08-05T20:48:27.524816Z",
     "iopub.status.idle": "2025-08-05T20:48:27.580535Z",
     "shell.execute_reply": "2025-08-05T20:48:27.579447Z"
    },
    "papermill": {
     "duration": 0.074776,
     "end_time": "2025-08-05T20:48:27.582166",
     "exception": false,
     "start_time": "2025-08-05T20:48:27.507390",
     "status": "completed"
    },
    "tags": []
   },
   "outputs": [],
   "source": [
    "X_calib = siab_calib.iloc[:,4:164]\n",
    "y_calib = siab_calib.iloc[:, [3]]"
   ]
  },
  {
   "cell_type": "code",
   "execution_count": 17,
   "id": "c34be9c3-6bd6-476e-acd3-845840e303be",
   "metadata": {
    "execution": {
     "iopub.execute_input": "2025-08-05T20:48:27.617444Z",
     "iopub.status.busy": "2025-08-05T20:48:27.616733Z",
     "iopub.status.idle": "2025-08-05T20:48:27.703290Z",
     "shell.execute_reply": "2025-08-05T20:48:27.701962Z"
    },
    "papermill": {
     "duration": 0.105765,
     "end_time": "2025-08-05T20:48:27.705349",
     "exception": false,
     "start_time": "2025-08-05T20:48:27.599584",
     "status": "completed"
    },
    "tags": []
   },
   "outputs": [],
   "source": [
    "X_test = siab_test.iloc[:,4:164]\n",
    "y_true = siab_test.iloc[:, [3]]"
   ]
  },
  {
   "cell_type": "code",
   "execution_count": 18,
   "id": "e6c733c5",
   "metadata": {
    "execution": {
     "iopub.execute_input": "2025-08-05T20:48:27.740581Z",
     "iopub.status.busy": "2025-08-05T20:48:27.740060Z",
     "iopub.status.idle": "2025-08-05T20:48:27.839461Z",
     "shell.execute_reply": "2025-08-05T20:48:27.838415Z"
    },
    "papermill": {
     "duration": 0.11946,
     "end_time": "2025-08-05T20:48:27.841883",
     "exception": false,
     "start_time": "2025-08-05T20:48:27.722423",
     "status": "completed"
    },
    "tags": []
   },
   "outputs": [],
   "source": [
    "# Auxiliary data needed downstream in the pipeline\n",
    "\n",
    "org_train = X_train.copy()\n",
    "org_test = X_test.copy()\n",
    "org_calib = X_calib.copy()"
   ]
  },
  {
   "cell_type": "markdown",
   "id": "0a4a1b33",
   "metadata": {
    "papermill": {
     "duration": 0.021733,
     "end_time": "2025-08-05T20:48:27.889172",
     "exception": false,
     "start_time": "2025-08-05T20:48:27.867439",
     "status": "completed"
    },
    "tags": []
   },
   "source": [
    "# Preprocessing Data"
   ]
  },
  {
   "cell_type": "code",
   "execution_count": 19,
   "id": "ca879031",
   "metadata": {
    "execution": {
     "iopub.execute_input": "2025-08-05T20:48:27.928260Z",
     "iopub.status.busy": "2025-08-05T20:48:27.927603Z",
     "iopub.status.idle": "2025-08-05T20:48:27.933616Z",
     "shell.execute_reply": "2025-08-05T20:48:27.932590Z"
    },
    "papermill": {
     "duration": 0.027311,
     "end_time": "2025-08-05T20:48:27.935286",
     "exception": false,
     "start_time": "2025-08-05T20:48:27.907975",
     "status": "completed"
    },
    "tags": []
   },
   "outputs": [],
   "source": [
    "# EXCLUDE PROTECTED FEATURES\n",
    "# ----------------------\n",
    "# \"exclude_features\": \"none\", # \"nationality\", \"sex\", \"nationality-sex\"\n",
    "\n",
    "excluded_features = universe[\"exclude_features\"].split(\"-\") # split, e.g.: \"nationality-sex\" -> [\"nationality\", \"sex\"]\n",
    "excluded_features_dictionary = {\n",
    "    \"nationality\": [\"maxdeutsch1\", \"maxdeutsch.Missing.\"],\n",
    "    \"sex\": [\"frau1\"],\n",
    "    \"age\": [\"age\"],\n",
    "}"
   ]
  },
  {
   "cell_type": "code",
   "execution_count": 20,
   "id": "b745ac60",
   "metadata": {
    "execution": {
     "iopub.execute_input": "2025-08-05T20:48:27.970945Z",
     "iopub.status.busy": "2025-08-05T20:48:27.970273Z",
     "iopub.status.idle": "2025-08-05T20:48:27.975883Z",
     "shell.execute_reply": "2025-08-05T20:48:27.974943Z"
    },
    "papermill": {
     "duration": 0.024891,
     "end_time": "2025-08-05T20:48:27.977482",
     "exception": false,
     "start_time": "2025-08-05T20:48:27.952591",
     "status": "completed"
    },
    "tags": []
   },
   "outputs": [],
   "source": [
    "# Code nice names to column names\n",
    "\n",
    "excluded_features_columns = [\n",
    "    excluded_features_dictionary[f] for f in excluded_features if len(f) > 0 and f != \"none\"\n",
    "]"
   ]
  },
  {
   "cell_type": "code",
   "execution_count": 21,
   "id": "f84f73a2",
   "metadata": {
    "execution": {
     "iopub.execute_input": "2025-08-05T20:48:28.013297Z",
     "iopub.status.busy": "2025-08-05T20:48:28.012630Z",
     "iopub.status.idle": "2025-08-05T20:48:28.019152Z",
     "shell.execute_reply": "2025-08-05T20:48:28.018252Z"
    },
    "papermill": {
     "duration": 0.025975,
     "end_time": "2025-08-05T20:48:28.020841",
     "exception": false,
     "start_time": "2025-08-05T20:48:27.994866",
     "status": "completed"
    },
    "tags": []
   },
   "outputs": [],
   "source": [
    "from utils import flatten_once\n",
    "\n",
    "excluded_features_columns = flatten_once(excluded_features_columns)"
   ]
  },
  {
   "cell_type": "code",
   "execution_count": 22,
   "id": "884dea22",
   "metadata": {
    "execution": {
     "iopub.execute_input": "2025-08-05T20:48:28.056173Z",
     "iopub.status.busy": "2025-08-05T20:48:28.055355Z",
     "iopub.status.idle": "2025-08-05T20:48:28.072289Z",
     "shell.execute_reply": "2025-08-05T20:48:28.071278Z"
    },
    "papermill": {
     "duration": 0.036187,
     "end_time": "2025-08-05T20:48:28.074064",
     "exception": false,
     "start_time": "2025-08-05T20:48:28.037877",
     "status": "completed"
    },
    "tags": []
   },
   "outputs": [
    {
     "name": "stdout",
     "output_type": "stream",
     "text": [
      "Dropping features: ['age']\n"
     ]
    }
   ],
   "source": [
    "if len(excluded_features_columns) > 0:\n",
    "    print(f\"Dropping features: {excluded_features_columns}\")\n",
    "    X_train.drop(excluded_features_columns, axis=1, inplace=True)"
   ]
  },
  {
   "cell_type": "code",
   "execution_count": 23,
   "id": "95ab8b16",
   "metadata": {
    "execution": {
     "iopub.execute_input": "2025-08-05T20:48:28.110103Z",
     "iopub.status.busy": "2025-08-05T20:48:28.109212Z",
     "iopub.status.idle": "2025-08-05T20:48:28.160561Z",
     "shell.execute_reply": "2025-08-05T20:48:28.159518Z"
    },
    "papermill": {
     "duration": 0.070577,
     "end_time": "2025-08-05T20:48:28.162371",
     "exception": false,
     "start_time": "2025-08-05T20:48:28.091794",
     "status": "completed"
    },
    "tags": []
   },
   "outputs": [
    {
     "name": "stdout",
     "output_type": "stream",
     "text": [
      "Dropping features: ['age']\n"
     ]
    }
   ],
   "source": [
    "if len(excluded_features_columns) > 0:\n",
    "    print(f\"Dropping features: {excluded_features_columns}\")\n",
    "    X_test.drop(excluded_features_columns, axis=1, inplace=True)"
   ]
  },
  {
   "cell_type": "code",
   "execution_count": 24,
   "id": "1853aaf5-fb9f-46cb-a2b5-8ea4ae2237e4",
   "metadata": {
    "execution": {
     "iopub.execute_input": "2025-08-05T20:48:28.198606Z",
     "iopub.status.busy": "2025-08-05T20:48:28.197727Z",
     "iopub.status.idle": "2025-08-05T20:48:28.248451Z",
     "shell.execute_reply": "2025-08-05T20:48:28.247467Z"
    },
    "papermill": {
     "duration": 0.070054,
     "end_time": "2025-08-05T20:48:28.250261",
     "exception": false,
     "start_time": "2025-08-05T20:48:28.180207",
     "status": "completed"
    },
    "tags": []
   },
   "outputs": [
    {
     "name": "stdout",
     "output_type": "stream",
     "text": [
      "Dropping features: ['age']\n"
     ]
    }
   ],
   "source": [
    "if len(excluded_features_columns) > 0:\n",
    "    print(f\"Dropping features: {excluded_features_columns}\")\n",
    "    X_calib.drop(excluded_features_columns, axis=1, inplace=True)"
   ]
  },
  {
   "cell_type": "code",
   "execution_count": 25,
   "id": "76c4dc6d",
   "metadata": {
    "execution": {
     "iopub.execute_input": "2025-08-05T20:48:28.286588Z",
     "iopub.status.busy": "2025-08-05T20:48:28.285728Z",
     "iopub.status.idle": "2025-08-05T20:48:28.291548Z",
     "shell.execute_reply": "2025-08-05T20:48:28.290518Z"
    },
    "papermill": {
     "duration": 0.025376,
     "end_time": "2025-08-05T20:48:28.293358",
     "exception": false,
     "start_time": "2025-08-05T20:48:28.267982",
     "status": "completed"
    },
    "tags": []
   },
   "outputs": [],
   "source": [
    "# EXCLUDE CERTAIN SUBGROUPS\n",
    "# ----------------------\n",
    "\n",
    "mode = universe.get(\"exclude_subgroups\", \"keep-all\") \n",
    "# Fetches the exclude_subgroups setting from the universe dict.\n",
    "# Defaults to \"keep-all\" if the key is missing."
   ]
  },
  {
   "cell_type": "code",
   "execution_count": 26,
   "id": "21994072",
   "metadata": {
    "execution": {
     "iopub.execute_input": "2025-08-05T20:48:28.329541Z",
     "iopub.status.busy": "2025-08-05T20:48:28.328695Z",
     "iopub.status.idle": "2025-08-05T20:48:28.335585Z",
     "shell.execute_reply": "2025-08-05T20:48:28.334576Z"
    },
    "papermill": {
     "duration": 0.026373,
     "end_time": "2025-08-05T20:48:28.337394",
     "exception": false,
     "start_time": "2025-08-05T20:48:28.311021",
     "status": "completed"
    },
    "tags": []
   },
   "outputs": [],
   "source": [
    "if mode == \"keep-all\":\n",
    "    keep_mask = pd.Series(True, index=org_train.index)\n",
    "\n",
    "# org_train contains the original feature columns from features_org (in Simson)\n",
    "# features_org contains unprocessed features, for me X_train at beginning ???\n",
    "# For keep-all, creates a boolean Series (keep_mask) of all True, so no rows are removed.\n",
    "\n",
    "elif mode == \"drop-non-german\":\n",
    "    keep_mask = org_train[\"maxdeutsch1\"] == 1 # ??? what about missing values?\n",
    "\n",
    "else:\n",
    "    raise ValueError(f\"Unsupported mode for exclude_subgroups: {mode}\")"
   ]
  },
  {
   "cell_type": "code",
   "execution_count": 27,
   "id": "71651440",
   "metadata": {
    "execution": {
     "iopub.execute_input": "2025-08-05T20:48:28.379039Z",
     "iopub.status.busy": "2025-08-05T20:48:28.378383Z",
     "iopub.status.idle": "2025-08-05T20:48:28.385752Z",
     "shell.execute_reply": "2025-08-05T20:48:28.384713Z"
    },
    "papermill": {
     "duration": 0.029404,
     "end_time": "2025-08-05T20:48:28.387717",
     "exception": false,
     "start_time": "2025-08-05T20:48:28.358313",
     "status": "completed"
    },
    "tags": []
   },
   "outputs": [
    {
     "name": "stdout",
     "output_type": "stream",
     "text": [
      "Dropping 3688 rows (14.75%) where mode='drop-non-german'\n"
     ]
    }
   ],
   "source": [
    "n_drop = (~keep_mask).sum() # Calculates how many rows are set to be dropped\n",
    "if n_drop > 0:\n",
    "    pct = n_drop / len(keep_mask) * 100\n",
    "    print(f\"Dropping {n_drop} rows ({pct:.2f}%) where mode='{mode}'\")"
   ]
  },
  {
   "cell_type": "code",
   "execution_count": 28,
   "id": "5fb8eee5",
   "metadata": {
    "execution": {
     "iopub.execute_input": "2025-08-05T20:48:28.430037Z",
     "iopub.status.busy": "2025-08-05T20:48:28.429372Z",
     "iopub.status.idle": "2025-08-05T20:48:28.444868Z",
     "shell.execute_reply": "2025-08-05T20:48:28.443789Z"
    },
    "papermill": {
     "duration": 0.038198,
     "end_time": "2025-08-05T20:48:28.446968",
     "exception": false,
     "start_time": "2025-08-05T20:48:28.408770",
     "status": "completed"
    },
    "tags": []
   },
   "outputs": [],
   "source": [
    "X_train = X_train[keep_mask]"
   ]
  },
  {
   "cell_type": "code",
   "execution_count": 29,
   "id": "b202bb3a",
   "metadata": {
    "execution": {
     "iopub.execute_input": "2025-08-05T20:48:28.488333Z",
     "iopub.status.busy": "2025-08-05T20:48:28.487674Z",
     "iopub.status.idle": "2025-08-05T20:48:28.494395Z",
     "shell.execute_reply": "2025-08-05T20:48:28.493506Z"
    },
    "papermill": {
     "duration": 0.028854,
     "end_time": "2025-08-05T20:48:28.496073",
     "exception": false,
     "start_time": "2025-08-05T20:48:28.467219",
     "status": "completed"
    },
    "tags": []
   },
   "outputs": [],
   "source": [
    "y_train = y_train[keep_mask]"
   ]
  },
  {
   "cell_type": "markdown",
   "id": "493e2ac3",
   "metadata": {
    "papermill": {
     "duration": 0.016833,
     "end_time": "2025-08-05T20:48:28.530504",
     "exception": false,
     "start_time": "2025-08-05T20:48:28.513671",
     "status": "completed"
    },
    "tags": []
   },
   "source": [
    "# Model Training"
   ]
  },
  {
   "cell_type": "code",
   "execution_count": 30,
   "id": "679e1268",
   "metadata": {
    "execution": {
     "iopub.execute_input": "2025-08-05T20:48:28.565700Z",
     "iopub.status.busy": "2025-08-05T20:48:28.565014Z",
     "iopub.status.idle": "2025-08-05T20:48:28.664906Z",
     "shell.execute_reply": "2025-08-05T20:48:28.663846Z"
    },
    "papermill": {
     "duration": 0.120038,
     "end_time": "2025-08-05T20:48:28.667174",
     "exception": false,
     "start_time": "2025-08-05T20:48:28.547136",
     "status": "completed"
    },
    "tags": []
   },
   "outputs": [],
   "source": [
    "from sklearn.linear_model import LogisticRegression\n",
    "from sklearn.ensemble import GradientBoostingClassifier, RandomForestClassifier\n",
    "\n",
    "if (universe[\"model\"] == \"logreg\"):\n",
    "    model = LogisticRegression() #penalty=\"none\", solver=\"newton-cg\", max_iter=1) # include random_state=19 ?\n",
    "elif (universe[\"model\"] == \"penalized_logreg\"):\n",
    "    model = LogisticRegression(penalty=\"l2\", C=0.1) #, solver=\"newton-cg\", max_iter=1)\n",
    "elif (universe[\"model\"] == \"rf\"):\n",
    "    model = RandomForestClassifier() # n_estimators=100, n_jobs=-1\n",
    "elif (universe[\"model\"] == \"gbm\"):\n",
    "    model = GradientBoostingClassifier()\n",
    "elif (universe[\"model\"] == \"elasticnet\"):\n",
    "    model = LogisticRegression(penalty = 'elasticnet', solver = 'saga', l1_ratio = 0.5) # max_iter=5000\n",
    "else:\n",
    "    raise \"Unsupported universe.model\""
   ]
  },
  {
   "cell_type": "code",
   "execution_count": 31,
   "id": "0cc8f744",
   "metadata": {
    "execution": {
     "iopub.execute_input": "2025-08-05T20:48:28.708879Z",
     "iopub.status.busy": "2025-08-05T20:48:28.708252Z",
     "iopub.status.idle": "2025-08-05T20:48:28.714353Z",
     "shell.execute_reply": "2025-08-05T20:48:28.713381Z"
    },
    "papermill": {
     "duration": 0.02771,
     "end_time": "2025-08-05T20:48:28.715945",
     "exception": false,
     "start_time": "2025-08-05T20:48:28.688235",
     "status": "completed"
    },
    "tags": []
   },
   "outputs": [],
   "source": [
    "import numpy as np\n",
    "from sklearn.pipeline import Pipeline\n",
    "from sklearn.preprocessing import StandardScaler\n",
    "\n",
    "model = Pipeline([\n",
    "    #(\"continuous_processor\", continuous_processor),\n",
    "    #(\"categorical_preprocessor\", categorical_preprocessor),\n",
    "    (\"scale\", StandardScaler() if universe[\"scale\"] == \"scale\" else None), \n",
    "    (\"model\", model),\n",
    "])"
   ]
  },
  {
   "cell_type": "code",
   "execution_count": 32,
   "id": "9442c04d",
   "metadata": {
    "execution": {
     "iopub.execute_input": "2025-08-05T20:48:28.754569Z",
     "iopub.status.busy": "2025-08-05T20:48:28.754120Z",
     "iopub.status.idle": "2025-08-05T20:48:36.284740Z",
     "shell.execute_reply": "2025-08-05T20:48:36.284032Z"
    },
    "papermill": {
     "duration": 7.552769,
     "end_time": "2025-08-05T20:48:36.286376",
     "exception": false,
     "start_time": "2025-08-05T20:48:28.733607",
     "status": "completed"
    },
    "tags": []
   },
   "outputs": [
    {
     "name": "stderr",
     "output_type": "stream",
     "text": [
      "/dss/dsshome1/0C/ra93lal2/.local/share/virtualenvs/CMA_Fairness_v2-3j10GkSs/lib/python3.10/site-packages/sklearn/linear_model/_sag.py:350: ConvergenceWarning: The max_iter was reached which means the coef_ did not converge\n",
      "  warnings.warn(\n"
     ]
    },
    {
     "data": {
      "text/html": [
       "<style>#sk-container-id-1 {color: black;background-color: white;}#sk-container-id-1 pre{padding: 0;}#sk-container-id-1 div.sk-toggleable {background-color: white;}#sk-container-id-1 label.sk-toggleable__label {cursor: pointer;display: block;width: 100%;margin-bottom: 0;padding: 0.3em;box-sizing: border-box;text-align: center;}#sk-container-id-1 label.sk-toggleable__label-arrow:before {content: \"▸\";float: left;margin-right: 0.25em;color: #696969;}#sk-container-id-1 label.sk-toggleable__label-arrow:hover:before {color: black;}#sk-container-id-1 div.sk-estimator:hover label.sk-toggleable__label-arrow:before {color: black;}#sk-container-id-1 div.sk-toggleable__content {max-height: 0;max-width: 0;overflow: hidden;text-align: left;background-color: #f0f8ff;}#sk-container-id-1 div.sk-toggleable__content pre {margin: 0.2em;color: black;border-radius: 0.25em;background-color: #f0f8ff;}#sk-container-id-1 input.sk-toggleable__control:checked~div.sk-toggleable__content {max-height: 200px;max-width: 100%;overflow: auto;}#sk-container-id-1 input.sk-toggleable__control:checked~label.sk-toggleable__label-arrow:before {content: \"▾\";}#sk-container-id-1 div.sk-estimator input.sk-toggleable__control:checked~label.sk-toggleable__label {background-color: #d4ebff;}#sk-container-id-1 div.sk-label input.sk-toggleable__control:checked~label.sk-toggleable__label {background-color: #d4ebff;}#sk-container-id-1 input.sk-hidden--visually {border: 0;clip: rect(1px 1px 1px 1px);clip: rect(1px, 1px, 1px, 1px);height: 1px;margin: -1px;overflow: hidden;padding: 0;position: absolute;width: 1px;}#sk-container-id-1 div.sk-estimator {font-family: monospace;background-color: #f0f8ff;border: 1px dotted black;border-radius: 0.25em;box-sizing: border-box;margin-bottom: 0.5em;}#sk-container-id-1 div.sk-estimator:hover {background-color: #d4ebff;}#sk-container-id-1 div.sk-parallel-item::after {content: \"\";width: 100%;border-bottom: 1px solid gray;flex-grow: 1;}#sk-container-id-1 div.sk-label:hover label.sk-toggleable__label {background-color: #d4ebff;}#sk-container-id-1 div.sk-serial::before {content: \"\";position: absolute;border-left: 1px solid gray;box-sizing: border-box;top: 0;bottom: 0;left: 50%;z-index: 0;}#sk-container-id-1 div.sk-serial {display: flex;flex-direction: column;align-items: center;background-color: white;padding-right: 0.2em;padding-left: 0.2em;position: relative;}#sk-container-id-1 div.sk-item {position: relative;z-index: 1;}#sk-container-id-1 div.sk-parallel {display: flex;align-items: stretch;justify-content: center;background-color: white;position: relative;}#sk-container-id-1 div.sk-item::before, #sk-container-id-1 div.sk-parallel-item::before {content: \"\";position: absolute;border-left: 1px solid gray;box-sizing: border-box;top: 0;bottom: 0;left: 50%;z-index: -1;}#sk-container-id-1 div.sk-parallel-item {display: flex;flex-direction: column;z-index: 1;position: relative;background-color: white;}#sk-container-id-1 div.sk-parallel-item:first-child::after {align-self: flex-end;width: 50%;}#sk-container-id-1 div.sk-parallel-item:last-child::after {align-self: flex-start;width: 50%;}#sk-container-id-1 div.sk-parallel-item:only-child::after {width: 0;}#sk-container-id-1 div.sk-dashed-wrapped {border: 1px dashed gray;margin: 0 0.4em 0.5em 0.4em;box-sizing: border-box;padding-bottom: 0.4em;background-color: white;}#sk-container-id-1 div.sk-label label {font-family: monospace;font-weight: bold;display: inline-block;line-height: 1.2em;}#sk-container-id-1 div.sk-label-container {text-align: center;}#sk-container-id-1 div.sk-container {/* jupyter's `normalize.less` sets `[hidden] { display: none; }` but bootstrap.min.css set `[hidden] { display: none !important; }` so we also need the `!important` here to be able to override the default hidden behavior on the sphinx rendered scikit-learn.org. See: https://github.com/scikit-learn/scikit-learn/issues/21755 */display: inline-block !important;position: relative;}#sk-container-id-1 div.sk-text-repr-fallback {display: none;}</style><div id=\"sk-container-id-1\" class=\"sk-top-container\"><div class=\"sk-text-repr-fallback\"><pre>Pipeline(steps=[(&#x27;scale&#x27;, None),\n",
       "                (&#x27;model&#x27;,\n",
       "                 LogisticRegression(l1_ratio=0.5, penalty=&#x27;elasticnet&#x27;,\n",
       "                                    solver=&#x27;saga&#x27;))])</pre><b>In a Jupyter environment, please rerun this cell to show the HTML representation or trust the notebook. <br />On GitHub, the HTML representation is unable to render, please try loading this page with nbviewer.org.</b></div><div class=\"sk-container\" hidden><div class=\"sk-item sk-dashed-wrapped\"><div class=\"sk-label-container\"><div class=\"sk-label sk-toggleable\"><input class=\"sk-toggleable__control sk-hidden--visually\" id=\"sk-estimator-id-1\" type=\"checkbox\" ><label for=\"sk-estimator-id-1\" class=\"sk-toggleable__label sk-toggleable__label-arrow\">Pipeline</label><div class=\"sk-toggleable__content\"><pre>Pipeline(steps=[(&#x27;scale&#x27;, None),\n",
       "                (&#x27;model&#x27;,\n",
       "                 LogisticRegression(l1_ratio=0.5, penalty=&#x27;elasticnet&#x27;,\n",
       "                                    solver=&#x27;saga&#x27;))])</pre></div></div></div><div class=\"sk-serial\"><div class=\"sk-item\"><div class=\"sk-estimator sk-toggleable\"><input class=\"sk-toggleable__control sk-hidden--visually\" id=\"sk-estimator-id-2\" type=\"checkbox\" ><label for=\"sk-estimator-id-2\" class=\"sk-toggleable__label sk-toggleable__label-arrow\">None</label><div class=\"sk-toggleable__content\"><pre>None</pre></div></div></div><div class=\"sk-item\"><div class=\"sk-estimator sk-toggleable\"><input class=\"sk-toggleable__control sk-hidden--visually\" id=\"sk-estimator-id-3\" type=\"checkbox\" ><label for=\"sk-estimator-id-3\" class=\"sk-toggleable__label sk-toggleable__label-arrow\">LogisticRegression</label><div class=\"sk-toggleable__content\"><pre>LogisticRegression(l1_ratio=0.5, penalty=&#x27;elasticnet&#x27;, solver=&#x27;saga&#x27;)</pre></div></div></div></div></div></div></div>"
      ],
      "text/plain": [
       "Pipeline(steps=[('scale', None),\n",
       "                ('model',\n",
       "                 LogisticRegression(l1_ratio=0.5, penalty='elasticnet',\n",
       "                                    solver='saga'))])"
      ]
     },
     "execution_count": 32,
     "metadata": {},
     "output_type": "execute_result"
    }
   ],
   "source": [
    "model.fit(X_train, y_train.values.ravel())"
   ]
  },
  {
   "cell_type": "code",
   "execution_count": 33,
   "id": "af59f8c0",
   "metadata": {
    "execution": {
     "iopub.execute_input": "2025-08-05T20:48:36.330064Z",
     "iopub.status.busy": "2025-08-05T20:48:36.329325Z",
     "iopub.status.idle": "2025-08-05T20:48:36.334398Z",
     "shell.execute_reply": "2025-08-05T20:48:36.333387Z"
    },
    "papermill": {
     "duration": 0.027512,
     "end_time": "2025-08-05T20:48:36.336125",
     "exception": false,
     "start_time": "2025-08-05T20:48:36.308613",
     "status": "completed"
    },
    "tags": []
   },
   "outputs": [],
   "source": [
    "from fairness_multiverse.universe import predict_w_threshold"
   ]
  },
  {
   "cell_type": "code",
   "execution_count": 34,
   "id": "a7cf2e16",
   "metadata": {
    "execution": {
     "iopub.execute_input": "2025-08-05T20:48:36.377194Z",
     "iopub.status.busy": "2025-08-05T20:48:36.376369Z",
     "iopub.status.idle": "2025-08-05T20:48:36.473816Z",
     "shell.execute_reply": "2025-08-05T20:48:36.472844Z"
    },
    "papermill": {
     "duration": 0.119296,
     "end_time": "2025-08-05T20:48:36.476012",
     "exception": false,
     "start_time": "2025-08-05T20:48:36.356716",
     "status": "completed"
    },
    "tags": []
   },
   "outputs": [
    {
     "data": {
      "text/plain": [
       "0.8661576189945379"
      ]
     },
     "execution_count": 34,
     "metadata": {},
     "output_type": "execute_result"
    }
   ],
   "source": [
    "probs_test = model.predict_proba(X_test)\n",
    "\n",
    "'''\n",
    "Below code returns a boolean array (or binary 0/1 array depending on how it’s used) where each element \n",
    "is True if the probability of class 1 is greater than or equal to the threshold, and False otherwise.\n",
    "'''\n",
    "y_pred_default = predict_w_threshold(probs_test, 0.5)\n",
    "\n",
    "from sklearn.metrics import accuracy_score\n",
    "\n",
    "# Naive prediction\n",
    "accuracy_score(y_true = y_true, y_pred = y_pred_default)"
   ]
  },
  {
   "cell_type": "code",
   "execution_count": 35,
   "id": "081964c3",
   "metadata": {
    "execution": {
     "iopub.execute_input": "2025-08-05T20:48:36.516979Z",
     "iopub.status.busy": "2025-08-05T20:48:36.516458Z",
     "iopub.status.idle": "2025-08-05T20:48:36.602422Z",
     "shell.execute_reply": "2025-08-05T20:48:36.601378Z"
    },
    "papermill": {
     "duration": 0.108021,
     "end_time": "2025-08-05T20:48:36.604346",
     "exception": false,
     "start_time": "2025-08-05T20:48:36.496325",
     "status": "completed"
    },
    "tags": []
   },
   "outputs": [
    {
     "data": {
      "text/plain": [
       "array([0, 0, 0, ..., 0, 0, 0])"
      ]
     },
     "execution_count": 35,
     "metadata": {},
     "output_type": "execute_result"
    }
   ],
   "source": [
    "model.predict(X_test)"
   ]
  },
  {
   "cell_type": "markdown",
   "id": "56c9705b",
   "metadata": {
    "papermill": {
     "duration": 0.022181,
     "end_time": "2025-08-05T20:48:36.647414",
     "exception": false,
     "start_time": "2025-08-05T20:48:36.625233",
     "status": "completed"
    },
    "tags": []
   },
   "source": [
    "# Conformal Prediction"
   ]
  },
  {
   "cell_type": "code",
   "execution_count": 36,
   "id": "160ec6ff",
   "metadata": {
    "execution": {
     "iopub.execute_input": "2025-08-05T20:48:36.691515Z",
     "iopub.status.busy": "2025-08-05T20:48:36.690783Z",
     "iopub.status.idle": "2025-08-05T20:48:36.695467Z",
     "shell.execute_reply": "2025-08-05T20:48:36.694773Z"
    },
    "papermill": {
     "duration": 0.02741,
     "end_time": "2025-08-05T20:48:36.696835",
     "exception": false,
     "start_time": "2025-08-05T20:48:36.669425",
     "status": "completed"
    },
    "tags": []
   },
   "outputs": [],
   "source": [
    "# Miscoverage level for conformal prediction (10% allowed error rate => 90% target coverage)\n",
    "alpha = 0.1"
   ]
  },
  {
   "cell_type": "code",
   "execution_count": 37,
   "id": "eadf4555-3dd3-440e-8e35-f82a4ad9f855",
   "metadata": {
    "execution": {
     "iopub.execute_input": "2025-08-05T20:48:36.718888Z",
     "iopub.status.busy": "2025-08-05T20:48:36.718528Z",
     "iopub.status.idle": "2025-08-05T20:48:36.800557Z",
     "shell.execute_reply": "2025-08-05T20:48:36.799529Z"
    },
    "papermill": {
     "duration": 0.09476,
     "end_time": "2025-08-05T20:48:36.802621",
     "exception": false,
     "start_time": "2025-08-05T20:48:36.707861",
     "status": "completed"
    },
    "tags": []
   },
   "outputs": [],
   "source": [
    "probs_calib = model.predict_proba(X_calib)"
   ]
  },
  {
   "cell_type": "code",
   "execution_count": 38,
   "id": "2ed93547-6d5d-4983-9b36-1ecb300da49a",
   "metadata": {
    "execution": {
     "iopub.execute_input": "2025-08-05T20:48:36.849119Z",
     "iopub.status.busy": "2025-08-05T20:48:36.848880Z",
     "iopub.status.idle": "2025-08-05T20:48:36.853913Z",
     "shell.execute_reply": "2025-08-05T20:48:36.853138Z"
    },
    "papermill": {
     "duration": 0.028576,
     "end_time": "2025-08-05T20:48:36.855242",
     "exception": false,
     "start_time": "2025-08-05T20:48:36.826666",
     "status": "completed"
    },
    "tags": []
   },
   "outputs": [],
   "source": [
    "y_calib = y_calib.values.ravel().astype(int)"
   ]
  },
  {
   "cell_type": "code",
   "execution_count": 39,
   "id": "65d1320d-f588-4b38-9072-62af1ae97f7d",
   "metadata": {
    "execution": {
     "iopub.execute_input": "2025-08-05T20:48:36.876880Z",
     "iopub.status.busy": "2025-08-05T20:48:36.876665Z",
     "iopub.status.idle": "2025-08-05T20:48:36.881955Z",
     "shell.execute_reply": "2025-08-05T20:48:36.881189Z"
    },
    "papermill": {
     "duration": 0.017374,
     "end_time": "2025-08-05T20:48:36.883491",
     "exception": false,
     "start_time": "2025-08-05T20:48:36.866117",
     "status": "completed"
    },
    "tags": []
   },
   "outputs": [],
   "source": [
    "from fairness_multiverse.conformal import compute_nc_scores\n",
    "\n",
    "# Compute nonconformity scores on calibration set (1 - probability of true class)\n",
    "nc_scores = compute_nc_scores(probs_calib, y_calib)"
   ]
  },
  {
   "cell_type": "code",
   "execution_count": 40,
   "id": "df3b8ca3-53b7-43d5-9667-7c85da7aeda2",
   "metadata": {
    "execution": {
     "iopub.execute_input": "2025-08-05T20:48:36.905212Z",
     "iopub.status.busy": "2025-08-05T20:48:36.904845Z",
     "iopub.status.idle": "2025-08-05T20:48:36.910461Z",
     "shell.execute_reply": "2025-08-05T20:48:36.909635Z"
    },
    "papermill": {
     "duration": 0.017707,
     "end_time": "2025-08-05T20:48:36.911851",
     "exception": false,
     "start_time": "2025-08-05T20:48:36.894144",
     "status": "completed"
    },
    "tags": []
   },
   "outputs": [],
   "source": [
    "from fairness_multiverse.conformal import find_threshold\n",
    "\n",
    "# Find conformal threshold q_hat for the given alpha (split conformal method)\n",
    "q_hat = find_threshold(nc_scores, alpha)"
   ]
  },
  {
   "cell_type": "code",
   "execution_count": 41,
   "id": "4d29e6c1-0ef6-4aa4-b8fe-4fe79b0d033a",
   "metadata": {
    "execution": {
     "iopub.execute_input": "2025-08-05T20:48:36.934078Z",
     "iopub.status.busy": "2025-08-05T20:48:36.933568Z",
     "iopub.status.idle": "2025-08-05T20:48:36.939781Z",
     "shell.execute_reply": "2025-08-05T20:48:36.939026Z"
    },
    "papermill": {
     "duration": 0.01836,
     "end_time": "2025-08-05T20:48:36.941131",
     "exception": false,
     "start_time": "2025-08-05T20:48:36.922771",
     "status": "completed"
    },
    "tags": []
   },
   "outputs": [
    {
     "data": {
      "text/plain": [
       "0.6509309724086169"
      ]
     },
     "execution_count": 41,
     "metadata": {},
     "output_type": "execute_result"
    }
   ],
   "source": [
    "q_hat"
   ]
  },
  {
   "cell_type": "code",
   "execution_count": 42,
   "id": "92460794-cdac-4be2-ba28-f28c0515a6fb",
   "metadata": {
    "execution": {
     "iopub.execute_input": "2025-08-05T20:48:36.963331Z",
     "iopub.status.busy": "2025-08-05T20:48:36.962931Z",
     "iopub.status.idle": "2025-08-05T20:48:37.642568Z",
     "shell.execute_reply": "2025-08-05T20:48:37.641580Z"
    },
    "papermill": {
     "duration": 0.692689,
     "end_time": "2025-08-05T20:48:37.644535",
     "exception": false,
     "start_time": "2025-08-05T20:48:36.951846",
     "status": "completed"
    },
    "tags": []
   },
   "outputs": [],
   "source": [
    "from fairness_multiverse.conformal import predict_conformal_sets\n",
    "\n",
    "# Generate prediction sets for each test example\n",
    "pred_sets = predict_conformal_sets(model, X_test, q_hat)"
   ]
  },
  {
   "cell_type": "code",
   "execution_count": 43,
   "id": "d90c9a65-e6db-4f5d-80cd-e68fb7e46829",
   "metadata": {
    "execution": {
     "iopub.execute_input": "2025-08-05T20:48:37.687416Z",
     "iopub.status.busy": "2025-08-05T20:48:37.686727Z",
     "iopub.status.idle": "2025-08-05T20:48:37.692398Z",
     "shell.execute_reply": "2025-08-05T20:48:37.691376Z"
    },
    "papermill": {
     "duration": 0.030487,
     "end_time": "2025-08-05T20:48:37.694350",
     "exception": false,
     "start_time": "2025-08-05T20:48:37.663863",
     "status": "completed"
    },
    "tags": []
   },
   "outputs": [],
   "source": [
    "y_true = y_true.squeeze()"
   ]
  },
  {
   "cell_type": "code",
   "execution_count": 44,
   "id": "3a58a54a-1e68-46b9-927a-df01f18aebc8",
   "metadata": {
    "execution": {
     "iopub.execute_input": "2025-08-05T20:48:37.738735Z",
     "iopub.status.busy": "2025-08-05T20:48:37.737828Z",
     "iopub.status.idle": "2025-08-05T20:48:38.727137Z",
     "shell.execute_reply": "2025-08-05T20:48:38.725635Z"
    },
    "papermill": {
     "duration": 1.013518,
     "end_time": "2025-08-05T20:48:38.729676",
     "exception": false,
     "start_time": "2025-08-05T20:48:37.716158",
     "status": "completed"
    },
    "tags": []
   },
   "outputs": [],
   "source": [
    "from fairness_multiverse.conformal import evaluate_sets\n",
    "\n",
    "# Evaluate coverage and average set size on test data\n",
    "metrics = evaluate_sets(pred_sets, y_true)"
   ]
  },
  {
   "cell_type": "markdown",
   "id": "2b569c12-9aaa-4c88-98c9-bbcd0cf3ebb8",
   "metadata": {
    "papermill": {
     "duration": 0.030417,
     "end_time": "2025-08-05T20:48:38.792020",
     "exception": false,
     "start_time": "2025-08-05T20:48:38.761603",
     "status": "completed"
    },
    "tags": []
   },
   "source": [
    "# CP Metrics"
   ]
  },
  {
   "cell_type": "code",
   "execution_count": 45,
   "id": "5ce0a5cb-201f-45a0-ade5-94c7f0bd6095",
   "metadata": {
    "execution": {
     "iopub.execute_input": "2025-08-05T20:48:38.838618Z",
     "iopub.status.busy": "2025-08-05T20:48:38.838061Z",
     "iopub.status.idle": "2025-08-05T20:48:38.847026Z",
     "shell.execute_reply": "2025-08-05T20:48:38.845899Z"
    },
    "papermill": {
     "duration": 0.034575,
     "end_time": "2025-08-05T20:48:38.848942",
     "exception": false,
     "start_time": "2025-08-05T20:48:38.814367",
     "status": "completed"
    },
    "tags": []
   },
   "outputs": [
    {
     "data": {
      "text/plain": [
       "{'coverage': 0.9137331401181585, 'avg_size': 1.2719094861219484}"
      ]
     },
     "execution_count": 45,
     "metadata": {},
     "output_type": "execute_result"
    }
   ],
   "source": [
    "metrics"
   ]
  },
  {
   "cell_type": "code",
   "execution_count": 46,
   "id": "9b9a838d-31c9-430b-ae14-12baee460d17",
   "metadata": {
    "execution": {
     "iopub.execute_input": "2025-08-05T20:48:38.895756Z",
     "iopub.status.busy": "2025-08-05T20:48:38.895043Z",
     "iopub.status.idle": "2025-08-05T20:48:38.901721Z",
     "shell.execute_reply": "2025-08-05T20:48:38.900685Z"
    },
    "papermill": {
     "duration": 0.03173,
     "end_time": "2025-08-05T20:48:38.903674",
     "exception": false,
     "start_time": "2025-08-05T20:48:38.871944",
     "status": "completed"
    },
    "tags": []
   },
   "outputs": [],
   "source": [
    "example_universe = universe.copy()\n",
    "universe_training_year = example_universe.get(\"training_year\")\n",
    "universe_training_size = example_universe.get(\"training_size\")\n",
    "universe_scale = example_universe.get(\"scale\")\n",
    "universe_model = example_universe.get(\"model\")\n",
    "universe_exclude_features = example_universe.get(\"exclude_features\")\n",
    "universe_exclude_subgroups = example_universe.get(\"exclude_subgroups\")"
   ]
  },
  {
   "cell_type": "code",
   "execution_count": 47,
   "id": "f4b6a8ac-9dc0-4245-8a91-5b3b5999c4f9",
   "metadata": {
    "execution": {
     "iopub.execute_input": "2025-08-05T20:48:38.950307Z",
     "iopub.status.busy": "2025-08-05T20:48:38.949751Z",
     "iopub.status.idle": "2025-08-05T20:48:38.956234Z",
     "shell.execute_reply": "2025-08-05T20:48:38.955156Z"
    },
    "papermill": {
     "duration": 0.031421,
     "end_time": "2025-08-05T20:48:38.958066",
     "exception": false,
     "start_time": "2025-08-05T20:48:38.926645",
     "status": "completed"
    },
    "tags": []
   },
   "outputs": [],
   "source": [
    "cp_metrics_dict = {\n",
    "    \"universe_id\": [universe_id],\n",
    "    \"universe_training_year\": [universe_training_year],\n",
    "    \"universe_training_size\": [universe_training_size],\n",
    "    \"universe_scale\": [universe_scale],\n",
    "    \"universe_model\": [universe_model],\n",
    "    \"universe_exclude_features\": [universe_exclude_features],\n",
    "    \"universe_exclude_subgroups\": [universe_exclude_subgroups],\n",
    "    \"q_hat\": [q_hat],\n",
    "    \"coverage\": [metrics[\"coverage\"]],\n",
    "    \"avg_size\": [metrics[\"avg_size\"]],\n",
    "}"
   ]
  },
  {
   "cell_type": "code",
   "execution_count": 48,
   "id": "908acbb1-0371-4915-85ca-3fa520d2efe2",
   "metadata": {
    "execution": {
     "iopub.execute_input": "2025-08-05T20:48:39.005159Z",
     "iopub.status.busy": "2025-08-05T20:48:39.004599Z",
     "iopub.status.idle": "2025-08-05T20:48:39.012525Z",
     "shell.execute_reply": "2025-08-05T20:48:39.011467Z"
    },
    "papermill": {
     "duration": 0.033082,
     "end_time": "2025-08-05T20:48:39.014378",
     "exception": false,
     "start_time": "2025-08-05T20:48:38.981296",
     "status": "completed"
    },
    "tags": []
   },
   "outputs": [
    {
     "data": {
      "text/plain": [
       "{'universe_id': ['47f9403d72ce17606d0d42f0a6968334'],\n",
       " 'universe_training_year': ['2014'],\n",
       " 'universe_training_size': ['25k'],\n",
       " 'universe_scale': ['do-not-scale'],\n",
       " 'universe_model': ['elasticnet'],\n",
       " 'universe_exclude_features': ['age'],\n",
       " 'universe_exclude_subgroups': ['drop-non-german'],\n",
       " 'q_hat': [0.6509309724086169],\n",
       " 'coverage': [0.9137331401181585],\n",
       " 'avg_size': [1.2719094861219484]}"
      ]
     },
     "execution_count": 48,
     "metadata": {},
     "output_type": "execute_result"
    }
   ],
   "source": [
    "cp_metrics_dict"
   ]
  },
  {
   "cell_type": "code",
   "execution_count": 49,
   "id": "33007efc-14e9-4ec6-97ac-56a455c82265",
   "metadata": {
    "execution": {
     "iopub.execute_input": "2025-08-05T20:48:39.061549Z",
     "iopub.status.busy": "2025-08-05T20:48:39.060993Z",
     "iopub.status.idle": "2025-08-05T20:48:39.067509Z",
     "shell.execute_reply": "2025-08-05T20:48:39.066449Z"
    },
    "papermill": {
     "duration": 0.031804,
     "end_time": "2025-08-05T20:48:39.069419",
     "exception": false,
     "start_time": "2025-08-05T20:48:39.037615",
     "status": "completed"
    },
    "tags": []
   },
   "outputs": [],
   "source": [
    "cp_metrics_df = pd.DataFrame(cp_metrics_dict)"
   ]
  },
  {
   "cell_type": "code",
   "execution_count": 50,
   "id": "db12611b-57b2-4910-b9d0-355adfd6e7bf",
   "metadata": {
    "execution": {
     "iopub.execute_input": "2025-08-05T20:48:39.119734Z",
     "iopub.status.busy": "2025-08-05T20:48:39.118946Z",
     "iopub.status.idle": "2025-08-05T20:48:39.137913Z",
     "shell.execute_reply": "2025-08-05T20:48:39.136926Z"
    },
    "papermill": {
     "duration": 0.046597,
     "end_time": "2025-08-05T20:48:39.139530",
     "exception": false,
     "start_time": "2025-08-05T20:48:39.092933",
     "status": "completed"
    },
    "tags": []
   },
   "outputs": [
    {
     "data": {
      "text/html": [
       "<div>\n",
       "<style scoped>\n",
       "    .dataframe tbody tr th:only-of-type {\n",
       "        vertical-align: middle;\n",
       "    }\n",
       "\n",
       "    .dataframe tbody tr th {\n",
       "        vertical-align: top;\n",
       "    }\n",
       "\n",
       "    .dataframe thead th {\n",
       "        text-align: right;\n",
       "    }\n",
       "</style>\n",
       "<table border=\"1\" class=\"dataframe\">\n",
       "  <thead>\n",
       "    <tr style=\"text-align: right;\">\n",
       "      <th></th>\n",
       "      <th>universe_id</th>\n",
       "      <th>universe_training_year</th>\n",
       "      <th>universe_training_size</th>\n",
       "      <th>universe_scale</th>\n",
       "      <th>universe_model</th>\n",
       "      <th>universe_exclude_features</th>\n",
       "      <th>universe_exclude_subgroups</th>\n",
       "      <th>q_hat</th>\n",
       "      <th>coverage</th>\n",
       "      <th>avg_size</th>\n",
       "    </tr>\n",
       "  </thead>\n",
       "  <tbody>\n",
       "    <tr>\n",
       "      <th>0</th>\n",
       "      <td>47f9403d72ce17606d0d42f0a6968334</td>\n",
       "      <td>2014</td>\n",
       "      <td>25k</td>\n",
       "      <td>do-not-scale</td>\n",
       "      <td>elasticnet</td>\n",
       "      <td>age</td>\n",
       "      <td>drop-non-german</td>\n",
       "      <td>0.650931</td>\n",
       "      <td>0.913733</td>\n",
       "      <td>1.271909</td>\n",
       "    </tr>\n",
       "  </tbody>\n",
       "</table>\n",
       "</div>"
      ],
      "text/plain": [
       "                        universe_id universe_training_year  \\\n",
       "0  47f9403d72ce17606d0d42f0a6968334                   2014   \n",
       "\n",
       "  universe_training_size universe_scale universe_model  \\\n",
       "0                    25k   do-not-scale     elasticnet   \n",
       "\n",
       "  universe_exclude_features universe_exclude_subgroups     q_hat  coverage  \\\n",
       "0                       age            drop-non-german  0.650931  0.913733   \n",
       "\n",
       "   avg_size  \n",
       "0  1.271909  "
      ]
     },
     "execution_count": 50,
     "metadata": {},
     "output_type": "execute_result"
    }
   ],
   "source": [
    "cp_metrics_df"
   ]
  },
  {
   "cell_type": "code",
   "execution_count": 51,
   "id": "b7fbde55-a0a1-47e4-9af6-fe4a17fa8c61",
   "metadata": {
    "execution": {
     "iopub.execute_input": "2025-08-05T20:48:39.189980Z",
     "iopub.status.busy": "2025-08-05T20:48:39.189048Z",
     "iopub.status.idle": "2025-08-05T20:48:39.194657Z",
     "shell.execute_reply": "2025-08-05T20:48:39.193635Z"
    },
    "papermill": {
     "duration": 0.033749,
     "end_time": "2025-08-05T20:48:39.196672",
     "exception": false,
     "start_time": "2025-08-05T20:48:39.162923",
     "status": "completed"
    },
    "tags": []
   },
   "outputs": [],
   "source": [
    "# Conditional Coverage & looking at subgroups"
   ]
  },
  {
   "cell_type": "code",
   "execution_count": 52,
   "id": "027ae886-68dd-4141-96c7-805a5450e1ef",
   "metadata": {
    "execution": {
     "iopub.execute_input": "2025-08-05T20:48:39.245258Z",
     "iopub.status.busy": "2025-08-05T20:48:39.244941Z",
     "iopub.status.idle": "2025-08-05T20:48:39.497554Z",
     "shell.execute_reply": "2025-08-05T20:48:39.496593Z"
    },
    "papermill": {
     "duration": 0.278734,
     "end_time": "2025-08-05T20:48:39.499474",
     "exception": false,
     "start_time": "2025-08-05T20:48:39.220740",
     "status": "completed"
    },
    "tags": []
   },
   "outputs": [],
   "source": [
    "from fairness_multiverse.conformal import build_cp_groups\n",
    "\n",
    "cp_groups_df = build_cp_groups(pred_sets, y_true, X_test.index, org_test)\n",
    "#needs universe_id and setting"
   ]
  },
  {
   "cell_type": "code",
   "execution_count": 53,
   "id": "6cbdab96-b2b2-45af-ad54-d0516db2e28d",
   "metadata": {
    "execution": {
     "iopub.execute_input": "2025-08-05T20:48:39.542299Z",
     "iopub.status.busy": "2025-08-05T20:48:39.541603Z",
     "iopub.status.idle": "2025-08-05T20:48:41.392884Z",
     "shell.execute_reply": "2025-08-05T20:48:41.391812Z"
    },
    "papermill": {
     "duration": 1.87526,
     "end_time": "2025-08-05T20:48:41.395054",
     "exception": false,
     "start_time": "2025-08-05T20:48:39.519794",
     "status": "completed"
    },
    "tags": []
   },
   "outputs": [],
   "source": [
    "# Define covered = 1 if true_label is in the predicted set\n",
    "cp_groups_df['covered'] = cp_groups_df.apply(\n",
    "    lambda r: int(r['true_label'] in r['pred_set']),\n",
    "    axis=1\n",
    ")"
   ]
  },
  {
   "cell_type": "code",
   "execution_count": 54,
   "id": "338ff529-1a6b-4b87-a931-8e4788d52aad",
   "metadata": {
    "execution": {
     "iopub.execute_input": "2025-08-05T20:48:41.443693Z",
     "iopub.status.busy": "2025-08-05T20:48:41.442970Z",
     "iopub.status.idle": "2025-08-05T20:48:41.448281Z",
     "shell.execute_reply": "2025-08-05T20:48:41.447273Z"
    },
    "papermill": {
     "duration": 0.030855,
     "end_time": "2025-08-05T20:48:41.450032",
     "exception": false,
     "start_time": "2025-08-05T20:48:41.419177",
     "status": "completed"
    },
    "tags": []
   },
   "outputs": [],
   "source": [
    "#cp_groups_df"
   ]
  },
  {
   "cell_type": "code",
   "execution_count": 55,
   "id": "90032e27-66df-4540-9169-4e89cfbaa758",
   "metadata": {
    "execution": {
     "iopub.execute_input": "2025-08-05T20:48:41.496335Z",
     "iopub.status.busy": "2025-08-05T20:48:41.495479Z",
     "iopub.status.idle": "2025-08-05T20:48:41.508485Z",
     "shell.execute_reply": "2025-08-05T20:48:41.507461Z"
    },
    "papermill": {
     "duration": 0.038433,
     "end_time": "2025-08-05T20:48:41.510355",
     "exception": false,
     "start_time": "2025-08-05T20:48:41.471922",
     "status": "completed"
    },
    "tags": []
   },
   "outputs": [],
   "source": [
    "subgroups = ['frau1','nongerman','nongerman_male','nongerman_female']\n",
    "\n",
    "# Conditional coverage for subgroup==1\n",
    "cond_coverage = {\n",
    "    g: cp_groups_df.loc[cp_groups_df[g]==1, 'covered'].mean()\n",
    "    for g in subgroups\n",
    "}"
   ]
  },
  {
   "cell_type": "code",
   "execution_count": 56,
   "id": "1e348fb1-b9c3-45bc-ba23-f016827a7e0d",
   "metadata": {
    "execution": {
     "iopub.execute_input": "2025-08-05T20:48:41.556414Z",
     "iopub.status.busy": "2025-08-05T20:48:41.555451Z",
     "iopub.status.idle": "2025-08-05T20:48:41.563457Z",
     "shell.execute_reply": "2025-08-05T20:48:41.562326Z"
    },
    "papermill": {
     "duration": 0.032764,
     "end_time": "2025-08-05T20:48:41.565306",
     "exception": false,
     "start_time": "2025-08-05T20:48:41.532542",
     "status": "completed"
    },
    "tags": []
   },
   "outputs": [
    {
     "data": {
      "text/plain": [
       "{'frau1': 0.9127914813317158,\n",
       " 'nongerman': 0.9654185145680121,\n",
       " 'nongerman_male': 0.9727100783572008,\n",
       " 'nongerman_female': 0.9533532041728763}"
      ]
     },
     "execution_count": 56,
     "metadata": {},
     "output_type": "execute_result"
    }
   ],
   "source": [
    "cond_coverage"
   ]
  },
  {
   "cell_type": "code",
   "execution_count": 57,
   "id": "f5093324-c3dd-4d63-bc4c-8d945e5c8bbb",
   "metadata": {
    "execution": {
     "iopub.execute_input": "2025-08-05T20:48:41.612578Z",
     "iopub.status.busy": "2025-08-05T20:48:41.611634Z",
     "iopub.status.idle": "2025-08-05T20:48:41.619190Z",
     "shell.execute_reply": "2025-08-05T20:48:41.618114Z"
    },
    "papermill": {
     "duration": 0.03255,
     "end_time": "2025-08-05T20:48:41.621049",
     "exception": false,
     "start_time": "2025-08-05T20:48:41.588499",
     "status": "completed"
    },
    "tags": []
   },
   "outputs": [],
   "source": [
    "for subgroup, cov in cond_coverage.items():\n",
    "    cp_metrics_df[f\"cov_{subgroup}\"] = cov"
   ]
  },
  {
   "cell_type": "code",
   "execution_count": 58,
   "id": "6e872e10-dbe5-49e8-b554-5030c98ff75d",
   "metadata": {
    "execution": {
     "iopub.execute_input": "2025-08-05T20:48:41.668561Z",
     "iopub.status.busy": "2025-08-05T20:48:41.667562Z",
     "iopub.status.idle": "2025-08-05T20:48:41.689422Z",
     "shell.execute_reply": "2025-08-05T20:48:41.688290Z"
    },
    "papermill": {
     "duration": 0.046924,
     "end_time": "2025-08-05T20:48:41.691249",
     "exception": false,
     "start_time": "2025-08-05T20:48:41.644325",
     "status": "completed"
    },
    "tags": []
   },
   "outputs": [
    {
     "data": {
      "text/html": [
       "<div>\n",
       "<style scoped>\n",
       "    .dataframe tbody tr th:only-of-type {\n",
       "        vertical-align: middle;\n",
       "    }\n",
       "\n",
       "    .dataframe tbody tr th {\n",
       "        vertical-align: top;\n",
       "    }\n",
       "\n",
       "    .dataframe thead th {\n",
       "        text-align: right;\n",
       "    }\n",
       "</style>\n",
       "<table border=\"1\" class=\"dataframe\">\n",
       "  <thead>\n",
       "    <tr style=\"text-align: right;\">\n",
       "      <th></th>\n",
       "      <th>universe_id</th>\n",
       "      <th>universe_training_year</th>\n",
       "      <th>universe_training_size</th>\n",
       "      <th>universe_scale</th>\n",
       "      <th>universe_model</th>\n",
       "      <th>universe_exclude_features</th>\n",
       "      <th>universe_exclude_subgroups</th>\n",
       "      <th>q_hat</th>\n",
       "      <th>coverage</th>\n",
       "      <th>avg_size</th>\n",
       "      <th>cov_frau1</th>\n",
       "      <th>cov_nongerman</th>\n",
       "      <th>cov_nongerman_male</th>\n",
       "      <th>cov_nongerman_female</th>\n",
       "    </tr>\n",
       "  </thead>\n",
       "  <tbody>\n",
       "    <tr>\n",
       "      <th>0</th>\n",
       "      <td>47f9403d72ce17606d0d42f0a6968334</td>\n",
       "      <td>2014</td>\n",
       "      <td>25k</td>\n",
       "      <td>do-not-scale</td>\n",
       "      <td>elasticnet</td>\n",
       "      <td>age</td>\n",
       "      <td>drop-non-german</td>\n",
       "      <td>0.650931</td>\n",
       "      <td>0.913733</td>\n",
       "      <td>1.271909</td>\n",
       "      <td>0.912791</td>\n",
       "      <td>0.965419</td>\n",
       "      <td>0.97271</td>\n",
       "      <td>0.953353</td>\n",
       "    </tr>\n",
       "  </tbody>\n",
       "</table>\n",
       "</div>"
      ],
      "text/plain": [
       "                        universe_id universe_training_year  \\\n",
       "0  47f9403d72ce17606d0d42f0a6968334                   2014   \n",
       "\n",
       "  universe_training_size universe_scale universe_model  \\\n",
       "0                    25k   do-not-scale     elasticnet   \n",
       "\n",
       "  universe_exclude_features universe_exclude_subgroups     q_hat  coverage  \\\n",
       "0                       age            drop-non-german  0.650931  0.913733   \n",
       "\n",
       "   avg_size  cov_frau1  cov_nongerman  cov_nongerman_male  \\\n",
       "0  1.271909   0.912791       0.965419             0.97271   \n",
       "\n",
       "   cov_nongerman_female  \n",
       "0              0.953353  "
      ]
     },
     "execution_count": 58,
     "metadata": {},
     "output_type": "execute_result"
    }
   ],
   "source": [
    "cp_metrics_df"
   ]
  },
  {
   "cell_type": "markdown",
   "id": "33774451",
   "metadata": {
    "papermill": {
     "duration": 0.021181,
     "end_time": "2025-08-05T20:48:41.735656",
     "exception": false,
     "start_time": "2025-08-05T20:48:41.714475",
     "status": "completed"
    },
    "tags": []
   },
   "source": [
    "# (Fairness) Metrics"
   ]
  },
  {
   "cell_type": "code",
   "execution_count": 59,
   "id": "debc5d62",
   "metadata": {
    "execution": {
     "iopub.execute_input": "2025-08-05T20:48:41.782430Z",
     "iopub.status.busy": "2025-08-05T20:48:41.781626Z",
     "iopub.status.idle": "2025-08-05T20:48:41.803104Z",
     "shell.execute_reply": "2025-08-05T20:48:41.802192Z"
    },
    "papermill": {
     "duration": 0.046711,
     "end_time": "2025-08-05T20:48:41.804717",
     "exception": false,
     "start_time": "2025-08-05T20:48:41.758006",
     "status": "completed"
    },
    "tags": []
   },
   "outputs": [],
   "source": [
    "# do I need to include maxdeutsch1.missing?\n",
    "\n",
    "import numpy as np\n",
    "\n",
    "colname_to_bin = \"maxdeutsch1\"\n",
    "majority_value = org_train[colname_to_bin].mode()[0]\n",
    "\n",
    "org_test[\"majmin\"] = np.where(org_test[colname_to_bin] == majority_value, \"majority\", \"minority\")"
   ]
  },
  {
   "cell_type": "code",
   "execution_count": 60,
   "id": "06a50de5",
   "metadata": {
    "execution": {
     "iopub.execute_input": "2025-08-05T20:48:41.851731Z",
     "iopub.status.busy": "2025-08-05T20:48:41.851255Z",
     "iopub.status.idle": "2025-08-05T20:48:44.167861Z",
     "shell.execute_reply": "2025-08-05T20:48:44.167020Z"
    },
    "papermill": {
     "duration": 2.341031,
     "end_time": "2025-08-05T20:48:44.169321",
     "exception": false,
     "start_time": "2025-08-05T20:48:41.828290",
     "status": "completed"
    },
    "tags": []
   },
   "outputs": [],
   "source": [
    "example_universe = universe.copy()\n",
    "example_universe[\"cutoff\"] = example_universe[\"cutoff\"][0]\n",
    "example_universe[\"eval_fairness_grouping\"] = example_universe[\"eval_fairness_grouping\"][0]\n",
    "fairness_dict, metric_frame = universe_analysis.compute_metrics(\n",
    "    example_universe,\n",
    "    y_pred_prob=probs_test,\n",
    "    y_test=y_true,\n",
    "    org_test=org_test,\n",
    ")"
   ]
  },
  {
   "cell_type": "markdown",
   "id": "f95d4e02",
   "metadata": {
    "papermill": {
     "duration": 0.011248,
     "end_time": "2025-08-05T20:48:44.192939",
     "exception": false,
     "start_time": "2025-08-05T20:48:44.181691",
     "status": "completed"
    },
    "tags": []
   },
   "source": [
    "# Overall"
   ]
  },
  {
   "cell_type": "markdown",
   "id": "bdee4871",
   "metadata": {
    "papermill": {
     "duration": 0.011346,
     "end_time": "2025-08-05T20:48:44.215612",
     "exception": false,
     "start_time": "2025-08-05T20:48:44.204266",
     "status": "completed"
    },
    "tags": []
   },
   "source": [
    "Fairness\n",
    "Main fairness target: Equalized Odds. Seems to be a better fit than equal opportunity, since we're not only interested in Y = 1. Seems to be a better fit than demographic parity, since we also care about accuracy, not just equal distribution of preds.\n",
    "\n",
    "Pick column for computation of fairness metrics\n",
    "\n",
    "Performance\n",
    "Overall performance measures, most interesting in relation to the measures split by group below"
   ]
  },
  {
   "cell_type": "code",
   "execution_count": 61,
   "id": "c4e067c6",
   "metadata": {
    "execution": {
     "iopub.execute_input": "2025-08-05T20:48:44.240373Z",
     "iopub.status.busy": "2025-08-05T20:48:44.239621Z",
     "iopub.status.idle": "2025-08-05T20:48:44.247338Z",
     "shell.execute_reply": "2025-08-05T20:48:44.246493Z"
    },
    "papermill": {
     "duration": 0.021696,
     "end_time": "2025-08-05T20:48:44.248798",
     "exception": false,
     "start_time": "2025-08-05T20:48:44.227102",
     "status": "completed"
    },
    "tags": []
   },
   "outputs": [
    {
     "data": {
      "text/plain": [
       "accuracy                   0.214279\n",
       "balanced accuracy          0.526057\n",
       "f1                         0.235888\n",
       "precision                  0.134755\n",
       "false positive rate        0.893315\n",
       "false negative rate        0.054571\n",
       "selection rate             0.900000\n",
       "count                  89710.000000\n",
       "dtype: float64"
      ]
     },
     "execution_count": 61,
     "metadata": {},
     "output_type": "execute_result"
    }
   ],
   "source": [
    "metric_frame.overall"
   ]
  },
  {
   "cell_type": "markdown",
   "id": "e968fe9d",
   "metadata": {
    "papermill": {
     "duration": 0.011399,
     "end_time": "2025-08-05T20:48:44.272416",
     "exception": false,
     "start_time": "2025-08-05T20:48:44.261017",
     "status": "completed"
    },
    "tags": []
   },
   "source": [
    "By Group"
   ]
  },
  {
   "cell_type": "code",
   "execution_count": 62,
   "id": "ec325bce",
   "metadata": {
    "execution": {
     "iopub.execute_input": "2025-08-05T20:48:44.297413Z",
     "iopub.status.busy": "2025-08-05T20:48:44.296622Z",
     "iopub.status.idle": "2025-08-05T20:48:44.309314Z",
     "shell.execute_reply": "2025-08-05T20:48:44.308199Z"
    },
    "papermill": {
     "duration": 0.026445,
     "end_time": "2025-08-05T20:48:44.310756",
     "exception": false,
     "start_time": "2025-08-05T20:48:44.284311",
     "status": "completed"
    },
    "tags": []
   },
   "outputs": [
    {
     "data": {
      "text/html": [
       "<div>\n",
       "<style scoped>\n",
       "    .dataframe tbody tr th:only-of-type {\n",
       "        vertical-align: middle;\n",
       "    }\n",
       "\n",
       "    .dataframe tbody tr th {\n",
       "        vertical-align: top;\n",
       "    }\n",
       "\n",
       "    .dataframe thead th {\n",
       "        text-align: right;\n",
       "    }\n",
       "</style>\n",
       "<table border=\"1\" class=\"dataframe\">\n",
       "  <thead>\n",
       "    <tr style=\"text-align: right;\">\n",
       "      <th></th>\n",
       "      <th>accuracy</th>\n",
       "      <th>balanced accuracy</th>\n",
       "      <th>f1</th>\n",
       "      <th>precision</th>\n",
       "      <th>false positive rate</th>\n",
       "      <th>false negative rate</th>\n",
       "      <th>selection rate</th>\n",
       "      <th>count</th>\n",
       "    </tr>\n",
       "    <tr>\n",
       "      <th>majmin</th>\n",
       "      <th></th>\n",
       "      <th></th>\n",
       "      <th></th>\n",
       "      <th></th>\n",
       "      <th></th>\n",
       "      <th></th>\n",
       "      <th></th>\n",
       "      <th></th>\n",
       "    </tr>\n",
       "  </thead>\n",
       "  <tbody>\n",
       "    <tr>\n",
       "      <th>majority</th>\n",
       "      <td>0.235348</td>\n",
       "      <td>0.532935</td>\n",
       "      <td>0.244706</td>\n",
       "      <td>0.140720</td>\n",
       "      <td>0.871548</td>\n",
       "      <td>0.062582</td>\n",
       "      <td>0.880252</td>\n",
       "      <td>69170.0</td>\n",
       "    </tr>\n",
       "    <tr>\n",
       "      <th>minority</th>\n",
       "      <td>0.143330</td>\n",
       "      <td>0.505565</td>\n",
       "      <td>0.208101</td>\n",
       "      <td>0.116462</td>\n",
       "      <td>0.965221</td>\n",
       "      <td>0.023649</td>\n",
       "      <td>0.966504</td>\n",
       "      <td>20540.0</td>\n",
       "    </tr>\n",
       "  </tbody>\n",
       "</table>\n",
       "</div>"
      ],
      "text/plain": [
       "          accuracy  balanced accuracy        f1  precision  \\\n",
       "majmin                                                       \n",
       "majority  0.235348           0.532935  0.244706   0.140720   \n",
       "minority  0.143330           0.505565  0.208101   0.116462   \n",
       "\n",
       "          false positive rate  false negative rate  selection rate    count  \n",
       "majmin                                                                       \n",
       "majority             0.871548             0.062582        0.880252  69170.0  \n",
       "minority             0.965221             0.023649        0.966504  20540.0  "
      ]
     },
     "execution_count": 62,
     "metadata": {},
     "output_type": "execute_result"
    }
   ],
   "source": [
    "metric_frame.by_group"
   ]
  },
  {
   "cell_type": "code",
   "execution_count": 63,
   "id": "a9ddbe63",
   "metadata": {
    "execution": {
     "iopub.execute_input": "2025-08-05T20:48:44.336021Z",
     "iopub.status.busy": "2025-08-05T20:48:44.335305Z",
     "iopub.status.idle": "2025-08-05T20:48:45.967186Z",
     "shell.execute_reply": "2025-08-05T20:48:45.966434Z"
    },
    "papermill": {
     "duration": 1.645442,
     "end_time": "2025-08-05T20:48:45.968532",
     "exception": false,
     "start_time": "2025-08-05T20:48:44.323090",
     "status": "completed"
    },
    "tags": []
   },
   "outputs": [
    {
     "data": {
      "text/plain": [
       "array([[<Axes: title={'center': 'accuracy'}, xlabel='majmin'>,\n",
       "        <Axes: title={'center': 'balanced accuracy'}, xlabel='majmin'>,\n",
       "        <Axes: title={'center': 'f1'}, xlabel='majmin'>],\n",
       "       [<Axes: title={'center': 'precision'}, xlabel='majmin'>,\n",
       "        <Axes: title={'center': 'false positive rate'}, xlabel='majmin'>,\n",
       "        <Axes: title={'center': 'false negative rate'}, xlabel='majmin'>],\n",
       "       [<Axes: title={'center': 'selection rate'}, xlabel='majmin'>,\n",
       "        <Axes: title={'center': 'count'}, xlabel='majmin'>,\n",
       "        <Axes: xlabel='majmin'>]], dtype=object)"
      ]
     },
     "execution_count": 63,
     "metadata": {},
     "output_type": "execute_result"
    },
    {
     "data": {
      "image/png": "[encoded data removed]",
      "text/plain": [
       "<Figure size 1200x800 with 9 Axes>"
      ]
     },
     "metadata": {},
     "output_type": "display_data"
    }
   ],
   "source": [
    "# In a graphic\n",
    "metric_frame.by_group.plot.bar(\n",
    "    subplots=True,\n",
    "    layout=[3, 3],\n",
    "    legend=False,\n",
    "    figsize=[12, 8],\n",
    "    title=\"Show all metrics\",\n",
    ")"
   ]
  },
  {
   "cell_type": "markdown",
   "id": "f57a0bac",
   "metadata": {
    "papermill": {
     "duration": 0.012662,
     "end_time": "2025-08-05T20:48:45.994615",
     "exception": false,
     "start_time": "2025-08-05T20:48:45.981953",
     "status": "completed"
    },
    "tags": []
   },
   "source": [
    "# Final Output"
   ]
  },
  {
   "cell_type": "code",
   "execution_count": 64,
   "id": "96d280a3",
   "metadata": {
    "execution": {
     "iopub.execute_input": "2025-08-05T20:48:46.021541Z",
     "iopub.status.busy": "2025-08-05T20:48:46.021044Z",
     "iopub.status.idle": "2025-08-05T20:48:46.027833Z",
     "shell.execute_reply": "2025-08-05T20:48:46.027040Z"
    },
    "papermill": {
     "duration": 0.021927,
     "end_time": "2025-08-05T20:48:46.029207",
     "exception": false,
     "start_time": "2025-08-05T20:48:46.007280",
     "status": "completed"
    },
    "tags": []
   },
   "outputs": [
    {
     "data": {
      "text/plain": [
       "4"
      ]
     },
     "execution_count": 64,
     "metadata": {},
     "output_type": "execute_result"
    }
   ],
   "source": [
    "sub_universes = universe_analysis.generate_sub_universes()\n",
    "len(sub_universes)"
   ]
  },
  {
   "cell_type": "code",
   "execution_count": 65,
   "id": "92adf7ba",
   "metadata": {
    "execution": {
     "iopub.execute_input": "2025-08-05T20:48:46.059565Z",
     "iopub.status.busy": "2025-08-05T20:48:46.058927Z",
     "iopub.status.idle": "2025-08-05T20:48:46.072637Z",
     "shell.execute_reply": "2025-08-05T20:48:46.071818Z"
    },
    "papermill": {
     "duration": 0.029241,
     "end_time": "2025-08-05T20:48:46.074296",
     "exception": false,
     "start_time": "2025-08-05T20:48:46.045055",
     "status": "completed"
    },
    "tags": []
   },
   "outputs": [],
   "source": [
    "def filter_sub_universe_data(sub_universe, org_test):\n",
    "    # Keep all rows — no filtering\n",
    "    keep_rows_mask = np.ones(org_test.shape[0], dtype=bool)\n",
    "\n",
    "    print(f\"[INFO] Keeping all rows: {keep_rows_mask.sum()} rows retained.\")\n",
    "    return keep_rows_mask"
   ]
  },
  {
   "cell_type": "code",
   "execution_count": 66,
   "id": "4a759155",
   "metadata": {
    "execution": {
     "iopub.execute_input": "2025-08-05T20:48:46.102035Z",
     "iopub.status.busy": "2025-08-05T20:48:46.101555Z",
     "iopub.status.idle": "2025-08-05T20:48:54.252348Z",
     "shell.execute_reply": "2025-08-05T20:48:54.251650Z"
    },
    "papermill": {
     "duration": 8.165752,
     "end_time": "2025-08-05T20:48:54.253875",
     "exception": false,
     "start_time": "2025-08-05T20:48:46.088123",
     "status": "completed"
    },
    "tags": []
   },
   "outputs": [
    {
     "name": "stdout",
     "output_type": "stream",
     "text": [
      "Stopping execution_time clock.\n",
      "[INFO] Keeping all rows: 89710 rows retained.\n"
     ]
    },
    {
     "name": "stdout",
     "output_type": "stream",
     "text": [
      "[INFO] Keeping all rows: 89710 rows retained.\n"
     ]
    },
    {
     "name": "stdout",
     "output_type": "stream",
     "text": [
      "[INFO] Keeping all rows: 89710 rows retained.\n"
     ]
    },
    {
     "name": "stdout",
     "output_type": "stream",
     "text": [
      "[INFO] Keeping all rows: 89710 rows retained.\n"
     ]
    },
    {
     "data": {
      "text/html": [
       "<div>\n",
       "<style scoped>\n",
       "    .dataframe tbody tr th:only-of-type {\n",
       "        vertical-align: middle;\n",
       "    }\n",
       "\n",
       "    .dataframe tbody tr th {\n",
       "        vertical-align: top;\n",
       "    }\n",
       "\n",
       "    .dataframe thead th {\n",
       "        text-align: right;\n",
       "    }\n",
       "</style>\n",
       "<table border=\"1\" class=\"dataframe\">\n",
       "  <thead>\n",
       "    <tr style=\"text-align: right;\">\n",
       "      <th></th>\n",
       "      <th>run_no</th>\n",
       "      <th>universe_id</th>\n",
       "      <th>universe_settings</th>\n",
       "      <th>execution_time</th>\n",
       "      <th>test_size_n</th>\n",
       "      <th>test_size_frac</th>\n",
       "      <th>fair_main_equalized_odds_difference</th>\n",
       "      <th>fair_main_equalized_odds_ratio</th>\n",
       "      <th>fair_main_demographic_parity_difference</th>\n",
       "      <th>fair_main_demographic_parity_ratio</th>\n",
       "      <th>...</th>\n",
       "      <th>perf_grp_precision_0</th>\n",
       "      <th>perf_grp_precision_1</th>\n",
       "      <th>perf_grp_false positive rate_0</th>\n",
       "      <th>perf_grp_false positive rate_1</th>\n",
       "      <th>perf_grp_false negative rate_0</th>\n",
       "      <th>perf_grp_false negative rate_1</th>\n",
       "      <th>perf_grp_selection rate_0</th>\n",
       "      <th>perf_grp_selection rate_1</th>\n",
       "      <th>perf_grp_count_0</th>\n",
       "      <th>perf_grp_count_1</th>\n",
       "    </tr>\n",
       "  </thead>\n",
       "  <tbody>\n",
       "    <tr>\n",
       "      <th>0</th>\n",
       "      <td>16</td>\n",
       "      <td>47f9403d72ce17606d0d42f0a6968334</td>\n",
       "      <td>{\"cutoff\": \"quantile_0.1\", \"eval_fairness_grou...</td>\n",
       "      <td>28.551358</td>\n",
       "      <td>89710</td>\n",
       "      <td>1.0</td>\n",
       "      <td>0.093674</td>\n",
       "      <td>0.902951</td>\n",
       "      <td>0.086253</td>\n",
       "      <td>0.910758</td>\n",
       "      <td>...</td>\n",
       "      <td>NaN</td>\n",
       "      <td>NaN</td>\n",
       "      <td>NaN</td>\n",
       "      <td>NaN</td>\n",
       "      <td>NaN</td>\n",
       "      <td>NaN</td>\n",
       "      <td>NaN</td>\n",
       "      <td>NaN</td>\n",
       "      <td>NaN</td>\n",
       "      <td>NaN</td>\n",
       "    </tr>\n",
       "    <tr>\n",
       "      <th>0</th>\n",
       "      <td>16</td>\n",
       "      <td>47f9403d72ce17606d0d42f0a6968334</td>\n",
       "      <td>{\"cutoff\": \"quantile_0.1\", \"eval_fairness_grou...</td>\n",
       "      <td>28.551358</td>\n",
       "      <td>89710</td>\n",
       "      <td>1.0</td>\n",
       "      <td>0.093674</td>\n",
       "      <td>0.902951</td>\n",
       "      <td>0.086253</td>\n",
       "      <td>0.910758</td>\n",
       "      <td>...</td>\n",
       "      <td>0.116462</td>\n",
       "      <td>0.140720</td>\n",
       "      <td>0.965221</td>\n",
       "      <td>0.871548</td>\n",
       "      <td>0.023649</td>\n",
       "      <td>0.062582</td>\n",
       "      <td>0.966504</td>\n",
       "      <td>0.880252</td>\n",
       "      <td>20540.0</td>\n",
       "      <td>69170.0</td>\n",
       "    </tr>\n",
       "    <tr>\n",
       "      <th>0</th>\n",
       "      <td>16</td>\n",
       "      <td>47f9403d72ce17606d0d42f0a6968334</td>\n",
       "      <td>{\"cutoff\": \"quantile_0.25\", \"eval_fairness_gro...</td>\n",
       "      <td>28.551358</td>\n",
       "      <td>89710</td>\n",
       "      <td>1.0</td>\n",
       "      <td>0.228520</td>\n",
       "      <td>0.749295</td>\n",
       "      <td>0.213177</td>\n",
       "      <td>0.766857</td>\n",
       "      <td>...</td>\n",
       "      <td>NaN</td>\n",
       "      <td>NaN</td>\n",
       "      <td>NaN</td>\n",
       "      <td>NaN</td>\n",
       "      <td>NaN</td>\n",
       "      <td>NaN</td>\n",
       "      <td>NaN</td>\n",
       "      <td>NaN</td>\n",
       "      <td>NaN</td>\n",
       "      <td>NaN</td>\n",
       "    </tr>\n",
       "    <tr>\n",
       "      <th>0</th>\n",
       "      <td>16</td>\n",
       "      <td>47f9403d72ce17606d0d42f0a6968334</td>\n",
       "      <td>{\"cutoff\": \"quantile_0.25\", \"eval_fairness_gro...</td>\n",
       "      <td>28.551358</td>\n",
       "      <td>89710</td>\n",
       "      <td>1.0</td>\n",
       "      <td>0.228520</td>\n",
       "      <td>0.749295</td>\n",
       "      <td>0.213177</td>\n",
       "      <td>0.766857</td>\n",
       "      <td>...</td>\n",
       "      <td>0.118045</td>\n",
       "      <td>0.154657</td>\n",
       "      <td>0.911512</td>\n",
       "      <td>0.682992</td>\n",
       "      <td>0.063767</td>\n",
       "      <td>0.179322</td>\n",
       "      <td>0.914362</td>\n",
       "      <td>0.701185</td>\n",
       "      <td>20540.0</td>\n",
       "      <td>69170.0</td>\n",
       "    </tr>\n",
       "  </tbody>\n",
       "</table>\n",
       "<p>4 rows × 50 columns</p>\n",
       "</div>"
      ],
      "text/plain": [
       "  run_no                       universe_id  \\\n",
       "0     16  47f9403d72ce17606d0d42f0a6968334   \n",
       "0     16  47f9403d72ce17606d0d42f0a6968334   \n",
       "0     16  47f9403d72ce17606d0d42f0a6968334   \n",
       "0     16  47f9403d72ce17606d0d42f0a6968334   \n",
       "\n",
       "                                   universe_settings  execution_time  \\\n",
       "0  {\"cutoff\": \"quantile_0.1\", \"eval_fairness_grou...       28.551358   \n",
       "0  {\"cutoff\": \"quantile_0.1\", \"eval_fairness_grou...       28.551358   \n",
       "0  {\"cutoff\": \"quantile_0.25\", \"eval_fairness_gro...       28.551358   \n",
       "0  {\"cutoff\": \"quantile_0.25\", \"eval_fairness_gro...       28.551358   \n",
       "\n",
       "   test_size_n  test_size_frac  fair_main_equalized_odds_difference  \\\n",
       "0        89710             1.0                             0.093674   \n",
       "0        89710             1.0                             0.093674   \n",
       "0        89710             1.0                             0.228520   \n",
       "0        89710             1.0                             0.228520   \n",
       "\n",
       "   fair_main_equalized_odds_ratio  fair_main_demographic_parity_difference  \\\n",
       "0                        0.902951                                 0.086253   \n",
       "0                        0.902951                                 0.086253   \n",
       "0                        0.749295                                 0.213177   \n",
       "0                        0.749295                                 0.213177   \n",
       "\n",
       "   fair_main_demographic_parity_ratio  ...  perf_grp_precision_0  \\\n",
       "0                            0.910758  ...                   NaN   \n",
       "0                            0.910758  ...              0.116462   \n",
       "0                            0.766857  ...                   NaN   \n",
       "0                            0.766857  ...              0.118045   \n",
       "\n",
       "   perf_grp_precision_1  perf_grp_false positive rate_0  \\\n",
       "0                   NaN                             NaN   \n",
       "0              0.140720                        0.965221   \n",
       "0                   NaN                             NaN   \n",
       "0              0.154657                        0.911512   \n",
       "\n",
       "   perf_grp_false positive rate_1  perf_grp_false negative rate_0  \\\n",
       "0                             NaN                             NaN   \n",
       "0                        0.871548                        0.023649   \n",
       "0                             NaN                             NaN   \n",
       "0                        0.682992                        0.063767   \n",
       "\n",
       "   perf_grp_false negative rate_1  perf_grp_selection rate_0  \\\n",
       "0                             NaN                        NaN   \n",
       "0                        0.062582                   0.966504   \n",
       "0                             NaN                        NaN   \n",
       "0                        0.179322                   0.914362   \n",
       "\n",
       "   perf_grp_selection rate_1  perf_grp_count_0  perf_grp_count_1  \n",
       "0                        NaN               NaN               NaN  \n",
       "0                   0.880252           20540.0           69170.0  \n",
       "0                        NaN               NaN               NaN  \n",
       "0                   0.701185           20540.0           69170.0  \n",
       "\n",
       "[4 rows x 50 columns]"
      ]
     },
     "execution_count": 66,
     "metadata": {},
     "output_type": "execute_result"
    }
   ],
   "source": [
    "final_output = universe_analysis.generate_final_output(\n",
    "    y_pred_prob=probs_test,\n",
    "    y_test=y_true,\n",
    "    org_test=org_test,\n",
    "    filter_data=filter_sub_universe_data,\n",
    "    cp_metrics_df=cp_metrics_df,\n",
    "    save=True,\n",
    ")\n",
    "final_output"
   ]
  }
 ],
 "metadata": {
  "celltoolbar": "Tags",
  "kernelspec": {
   "display_name": "Python (CMA Fairness)",
   "language": "python",
   "name": "cma_fair_env"
  },
  "language_info": {
   "codemirror_mode": {
    "name": "ipython",
    "version": 3
   },
   "file_extension": ".py",
   "mimetype": "text/x-python",
   "name": "python",
   "nbconvert_exporter": "python",
   "pygments_lexer": "ipython3",
   "version": "3.10.12"
  },
  "papermill": {
   "default_parameters": {},
   "duration": 40.759403,
   "end_time": "2025-08-05T20:48:54.787544",
   "environment_variables": {},
   "exception": null,
   "input_path": "universe_analysis.ipynb",
   "output_path": "output/runs/16/notebooks/m_16-47f9403d72ce17606d0d42f0a6968334.ipynb",
   "parameters": {
    "output_dir": "output",
    "run_no": "16",
    "seed": "2023",
    "universe": "{\"cutoff\": [\"quantile_0.1\", \"quantile_0.25\"], \"eval_fairness_grouping\": [\"majority-minority\", \"nationality-all\"], \"exclude_features\": \"age\", \"exclude_subgroups\": \"drop-non-german\", \"model\": \"elasticnet\", \"scale\": \"do-not-scale\", \"training_size\": \"25k\", \"training_year\": \"2014\"}",
    "universe_id": "47f9403d72ce17606d0d42f0a6968334"
   },
   "start_time": "2025-08-05T20:48:14.028141",
   "version": "2.6.0"
  }
 },
 "nbformat": 4,
 "nbformat_minor": 5
}