{
 "cells": [
  {
   "cell_type": "code",
   "execution_count": 1,
   "id": "f159f837-637b-42ba-96b5-ec9a68c44524",
   "metadata": {
    "execution": {
     "iopub.execute_input": "2025-08-05T21:05:57.111787Z",
     "iopub.status.busy": "2025-08-05T21:05:57.110928Z",
     "iopub.status.idle": "2025-08-05T21:05:57.125977Z",
     "shell.execute_reply": "2025-08-05T21:05:57.124984Z"
    },
    "papermill": {
     "duration": 0.035719,
     "end_time": "2025-08-05T21:05:57.127495",
     "exception": false,
     "start_time": "2025-08-05T21:05:57.091776",
     "status": "completed"
    },
    "tags": []
   },
   "outputs": [
    {
     "name": "stdout",
     "output_type": "stream",
     "text": [
      "/dss/dsshome1/0C/ra93lal2/cma/CMA_Fairness_v2\n"
     ]
    },
    {
     "name": "stderr",
     "output_type": "stream",
     "text": [
      "/dss/dsshome1/0C/ra93lal2/.local/share/virtualenvs/CMA_Fairness_v2-3j10GkSs/lib/python3.10/site-packages/IPython/core/magics/osm.py:393: UserWarning: This is now an optional IPython functionality, using bookmarks requires you to install the `pickleshare` library.\n",
      "  bkms = self.shell.db.get('bookmarks', {})\n",
      "/dss/dsshome1/0C/ra93lal2/.local/share/virtualenvs/CMA_Fairness_v2-3j10GkSs/lib/python3.10/site-packages/IPython/core/magics/osm.py:417: UserWarning: This is now an optional IPython functionality, setting dhist requires you to install the `pickleshare` library.\n",
      "  self.shell.db['dhist'] = compress_dhist(dhist)[-100:]\n"
     ]
    }
   ],
   "source": [
    "%cd ~/cma/CMA_Fairness_v2"
   ]
  },
  {
   "cell_type": "markdown",
   "id": "de2603b9",
   "metadata": {
    "papermill": {
     "duration": 0.017188,
     "end_time": "2025-08-05T21:05:57.162287",
     "exception": false,
     "start_time": "2025-08-05T21:05:57.145099",
     "status": "completed"
    },
    "tags": []
   },
   "source": [
    "The following cell holds the definition of our parameters, these values can be overriden by rendering the with e.g. the following command:\n",
    "\n",
    "papermill -p alpha 0.2 -p ratio 0.3 universe_analysis.ipynb output/test_run.ipynb"
   ]
  },
  {
   "cell_type": "code",
   "execution_count": 2,
   "id": "a80968a0-40bb-4fa9-85ef-2d5eefb01975",
   "metadata": {
    "execution": {
     "iopub.execute_input": "2025-08-05T21:05:57.198029Z",
     "iopub.status.busy": "2025-08-05T21:05:57.197533Z",
     "iopub.status.idle": "2025-08-05T21:05:57.203365Z",
     "shell.execute_reply": "2025-08-05T21:05:57.202382Z"
    },
    "papermill": {
     "duration": 0.025782,
     "end_time": "2025-08-05T21:05:57.205148",
     "exception": false,
     "start_time": "2025-08-05T21:05:57.179366",
     "status": "completed"
    },
    "tags": []
   },
   "outputs": [
    {
     "name": "stdout",
     "output_type": "stream",
     "text": [
      "Current working directory: /dss/dsshome1/0C/ra93lal2/cma/CMA_Fairness_v2\n"
     ]
    }
   ],
   "source": [
    "import os\n",
    "print(\"Current working directory:\", os.getcwd())"
   ]
  },
  {
   "cell_type": "code",
   "execution_count": 3,
   "id": "2dce4c03",
   "metadata": {
    "execution": {
     "iopub.execute_input": "2025-08-05T21:05:57.242461Z",
     "iopub.status.busy": "2025-08-05T21:05:57.241702Z",
     "iopub.status.idle": "2025-08-05T21:05:57.247938Z",
     "shell.execute_reply": "2025-08-05T21:05:57.246983Z"
    },
    "papermill": {
     "duration": 0.026713,
     "end_time": "2025-08-05T21:05:57.249860",
     "exception": false,
     "start_time": "2025-08-05T21:05:57.223147",
     "status": "completed"
    },
    "tags": [
     "parameters"
    ]
   },
   "outputs": [],
   "source": [
    "run_no = 0\n",
    "universe_id = \"test\"\n",
    "universe = {\n",
    "    \"training_size\": \"25k\", # \"25k\", \"5k\", \"1k\"\n",
    "    \"training_year\": \"2014\", # \"2014\", \"2012_14\", \"2010_14\"\n",
    "    \"scale\": \"scale\", # \"scale\", \"do-not-scale\",\n",
    "    \"model\": \"elasticnet\", # \"logreg\", \"penalized_logreg\", \"rf\", \"gbm\", \"elasticnet\"\n",
    "    \"cutoff\": [\"quantile_0.15\", \"quantile_0.30\"],\n",
    "    \"exclude_features\": \"age\", # \"none\", \"nationality\", \"sex\", \"nationality-sex\", \"age\"\n",
    "    \"exclude_subgroups\": \"keep-all\", # \"keep-all\", \"drop-non-german\"\n",
    "    \"eval_fairness_grouping\": [\"majority-minority\", \"nationality-all\"]\n",
    "}\n",
    "\n",
    "output_dir=\"./output\"\n",
    "seed=0"
   ]
  },
  {
   "cell_type": "code",
   "execution_count": 4,
   "id": "49063589",
   "metadata": {
    "execution": {
     "iopub.execute_input": "2025-08-05T21:05:57.289499Z",
     "iopub.status.busy": "2025-08-05T21:05:57.289181Z",
     "iopub.status.idle": "2025-08-05T21:05:57.294353Z",
     "shell.execute_reply": "2025-08-05T21:05:57.293282Z"
    },
    "papermill": {
     "duration": 0.026861,
     "end_time": "2025-08-05T21:05:57.296246",
     "exception": false,
     "start_time": "2025-08-05T21:05:57.269385",
     "status": "completed"
    },
    "tags": [
     "injected-parameters"
    ]
   },
   "outputs": [],
   "source": [
    "# Parameters\n",
    "universe_id = \"7f1cc2e4b28484658178dc22476311a3\"\n",
    "run_no = \"16\"\n",
    "universe = \"{\\\"cutoff\\\": [\\\"quantile_0.1\\\", \\\"quantile_0.25\\\"], \\\"eval_fairness_grouping\\\": [\\\"majority-minority\\\", \\\"nationality-all\\\"], \\\"exclude_features\\\": \\\"none\\\", \\\"exclude_subgroups\\\": \\\"keep-all\\\", \\\"model\\\": \\\"penalized_logreg\\\", \\\"scale\\\": \\\"scale\\\", \\\"training_size\\\": \\\"25k\\\", \\\"training_year\\\": \\\"2010_14\\\"}\"\n",
    "output_dir = \"output\"\n",
    "seed = \"2023\"\n"
   ]
  },
  {
   "cell_type": "code",
   "execution_count": 5,
   "id": "1650acaf",
   "metadata": {
    "execution": {
     "iopub.execute_input": "2025-08-05T21:05:57.336586Z",
     "iopub.status.busy": "2025-08-05T21:05:57.336256Z",
     "iopub.status.idle": "2025-08-05T21:05:57.341055Z",
     "shell.execute_reply": "2025-08-05T21:05:57.340013Z"
    },
    "papermill": {
     "duration": 0.026846,
     "end_time": "2025-08-05T21:05:57.343048",
     "exception": false,
     "start_time": "2025-08-05T21:05:57.316202",
     "status": "completed"
    },
    "tags": []
   },
   "outputs": [],
   "source": [
    "import json\n",
    "if isinstance(universe, str):\n",
    "    universe = json.loads(universe)"
   ]
  },
  {
   "cell_type": "code",
   "execution_count": 6,
   "id": "16620c48",
   "metadata": {
    "execution": {
     "iopub.execute_input": "2025-08-05T21:05:57.384800Z",
     "iopub.status.busy": "2025-08-05T21:05:57.384505Z",
     "iopub.status.idle": "2025-08-05T21:05:57.429812Z",
     "shell.execute_reply": "2025-08-05T21:05:57.428860Z"
    },
    "papermill": {
     "duration": 0.067944,
     "end_time": "2025-08-05T21:05:57.431654",
     "exception": false,
     "start_time": "2025-08-05T21:05:57.363710",
     "status": "completed"
    },
    "tags": []
   },
   "outputs": [],
   "source": [
    "# Auto-reload the custom package\n",
    "%load_ext autoreload\n",
    "%autoreload 1\n",
    "%aimport fairness_multiverse"
   ]
  },
  {
   "cell_type": "code",
   "execution_count": 7,
   "id": "01c5c9f3",
   "metadata": {
    "execution": {
     "iopub.execute_input": "2025-08-05T21:05:57.472514Z",
     "iopub.status.busy": "2025-08-05T21:05:57.472175Z",
     "iopub.status.idle": "2025-08-05T21:05:59.419959Z",
     "shell.execute_reply": "2025-08-05T21:05:59.418991Z"
    },
    "papermill": {
     "duration": 1.970531,
     "end_time": "2025-08-05T21:05:59.421994",
     "exception": false,
     "start_time": "2025-08-05T21:05:57.451463",
     "status": "completed"
    },
    "tags": []
   },
   "outputs": [],
   "source": [
    "from fairness_multiverse.universe import UniverseAnalysis\n",
    "\n",
    "universe_analysis = UniverseAnalysis(\n",
    "    run_no = run_no,\n",
    "    universe_id = universe_id,\n",
    "    universe = universe,\n",
    "    output_dir=output_dir,\n",
    ")"
   ]
  },
  {
   "cell_type": "code",
   "execution_count": 8,
   "id": "106241f5",
   "metadata": {
    "execution": {
     "iopub.execute_input": "2025-08-05T21:05:59.456387Z",
     "iopub.status.busy": "2025-08-05T21:05:59.455638Z",
     "iopub.status.idle": "2025-08-05T21:05:59.462166Z",
     "shell.execute_reply": "2025-08-05T21:05:59.461035Z"
    },
    "papermill": {
     "duration": 0.025084,
     "end_time": "2025-08-05T21:05:59.463957",
     "exception": false,
     "start_time": "2025-08-05T21:05:59.438873",
     "status": "completed"
    },
    "tags": []
   },
   "outputs": [
    {
     "name": "stdout",
     "output_type": "stream",
     "text": [
      "Using Seed: 2023\n"
     ]
    }
   ],
   "source": [
    "import numpy as np\n",
    "parsed_seed = int(seed)\n",
    "np.random.seed(parsed_seed)\n",
    "print(f\"Using Seed: {parsed_seed}\")"
   ]
  },
  {
   "cell_type": "markdown",
   "id": "e0ebdc57",
   "metadata": {
    "papermill": {
     "duration": 0.015357,
     "end_time": "2025-08-05T21:05:59.496680",
     "exception": false,
     "start_time": "2025-08-05T21:05:59.481323",
     "status": "completed"
    },
    "tags": []
   },
   "source": [
    "# Loading Data"
   ]
  },
  {
   "cell_type": "code",
   "execution_count": 9,
   "id": "f0496b8a",
   "metadata": {
    "execution": {
     "iopub.execute_input": "2025-08-05T21:05:59.531061Z",
     "iopub.status.busy": "2025-08-05T21:05:59.530216Z",
     "iopub.status.idle": "2025-08-05T21:06:10.271106Z",
     "shell.execute_reply": "2025-08-05T21:06:10.269652Z"
    },
    "papermill": {
     "duration": 10.75955,
     "end_time": "2025-08-05T21:06:10.272785",
     "exception": false,
     "start_time": "2025-08-05T21:05:59.513235",
     "status": "completed"
    },
    "tags": []
   },
   "outputs": [
    {
     "name": "stdout",
     "output_type": "stream",
     "text": [
      "Loading SIAB data from cache: data/siab_cached.csv.gz\n"
     ]
    },
    {
     "name": "stdout",
     "output_type": "stream",
     "text": [
      "(643690, 164)\n"
     ]
    }
   ],
   "source": [
    "from pathlib import Path\n",
    "import pandas as pd\n",
    "\n",
    "# File paths\n",
    "raw_file = Path(\"data/raw/siab.csv\")\n",
    "cache_file = Path(\"data/siab_cached.csv.gz\")\n",
    "\n",
    "# Ensure cache directory exists\n",
    "cache_file.parent.mkdir(parents=True, exist_ok=True)\n",
    "\n",
    "# Load with simple caching\n",
    "if cache_file.exists():\n",
    "    print(f\"Loading SIAB data from cache: {cache_file}\")\n",
    "    siab = pd.read_csv(cache_file, compression='gzip')\n",
    "else:\n",
    "    print(f\"Cache not found. Reading raw SIAB data: {raw_file}\")\n",
    "    siab = pd.read_csv(raw_file)\n",
    "    siab.to_csv(cache_file, index=False, compression='gzip')\n",
    "    print(f\"Cached SIAB data to: {cache_file}\")\n",
    "\n",
    "print(siab.shape)"
   ]
  },
  {
   "cell_type": "code",
   "execution_count": 10,
   "id": "db0ca512-5f53-4dba-abdb-a2888bca41ba",
   "metadata": {
    "execution": {
     "iopub.execute_input": "2025-08-05T21:06:10.315174Z",
     "iopub.status.busy": "2025-08-05T21:06:10.314445Z",
     "iopub.status.idle": "2025-08-05T21:06:10.320371Z",
     "shell.execute_reply": "2025-08-05T21:06:10.319276Z"
    },
    "papermill": {
     "duration": 0.028165,
     "end_time": "2025-08-05T21:06:10.322344",
     "exception": false,
     "start_time": "2025-08-05T21:06:10.294179",
     "status": "completed"
    },
    "tags": []
   },
   "outputs": [],
   "source": [
    "#siab"
   ]
  },
  {
   "cell_type": "markdown",
   "id": "997051c5-15bd-4b69-9786-c3001a3ce484",
   "metadata": {
    "papermill": {
     "duration": 0.019224,
     "end_time": "2025-08-05T21:06:10.360694",
     "exception": false,
     "start_time": "2025-08-05T21:06:10.341470",
     "status": "completed"
    },
    "tags": []
   },
   "source": [
    "# Splitting Data and Setting Training Data Size"
   ]
  },
  {
   "cell_type": "code",
   "execution_count": 11,
   "id": "aea9c6ef-6f46-42c8-85eb-5a62025c1508",
   "metadata": {
    "execution": {
     "iopub.execute_input": "2025-08-05T21:06:10.398141Z",
     "iopub.status.busy": "2025-08-05T21:06:10.397424Z",
     "iopub.status.idle": "2025-08-05T21:06:11.440540Z",
     "shell.execute_reply": "2025-08-05T21:06:11.439797Z"
    },
    "papermill": {
     "duration": 1.063792,
     "end_time": "2025-08-05T21:06:11.442048",
     "exception": false,
     "start_time": "2025-08-05T21:06:10.378256",
     "status": "completed"
    },
    "tags": []
   },
   "outputs": [],
   "source": [
    "from fairness_multiverse.universe import sample_by_year_size\n",
    "\n",
    "siab_train = sample_by_year_size(siab,\n",
    "                               training_year=universe[\"training_year\"],\n",
    "                               training_size=universe[\"training_size\"])"
   ]
  },
  {
   "cell_type": "code",
   "execution_count": 12,
   "id": "8d3afb32-789d-442c-8d5d-9f5aa8dd2eed",
   "metadata": {
    "execution": {
     "iopub.execute_input": "2025-08-05T21:06:11.462058Z",
     "iopub.status.busy": "2025-08-05T21:06:11.461298Z",
     "iopub.status.idle": "2025-08-05T21:06:11.465720Z",
     "shell.execute_reply": "2025-08-05T21:06:11.465036Z"
    },
    "papermill": {
     "duration": 0.015349,
     "end_time": "2025-08-05T21:06:11.467021",
     "exception": false,
     "start_time": "2025-08-05T21:06:11.451672",
     "status": "completed"
    },
    "tags": []
   },
   "outputs": [],
   "source": [
    "#siab_train.shape"
   ]
  },
  {
   "cell_type": "code",
   "execution_count": 13,
   "id": "d582db68-1a4c-47fb-84fc-08518dc1975a",
   "metadata": {
    "execution": {
     "iopub.execute_input": "2025-08-05T21:06:11.492360Z",
     "iopub.status.busy": "2025-08-05T21:06:11.491608Z",
     "iopub.status.idle": "2025-08-05T21:06:11.499378Z",
     "shell.execute_reply": "2025-08-05T21:06:11.498228Z"
    },
    "papermill": {
     "duration": 0.021816,
     "end_time": "2025-08-05T21:06:11.501041",
     "exception": false,
     "start_time": "2025-08-05T21:06:11.479225",
     "status": "completed"
    },
    "tags": []
   },
   "outputs": [],
   "source": [
    "#display(siab_train.groupby(\"year\").size())"
   ]
  },
  {
   "cell_type": "code",
   "execution_count": 14,
   "id": "a561edb4-d032-42cb-8256-22eac1111c64",
   "metadata": {
    "execution": {
     "iopub.execute_input": "2025-08-05T21:06:11.642593Z",
     "iopub.status.busy": "2025-08-05T21:06:11.641463Z",
     "iopub.status.idle": "2025-08-05T21:06:11.867129Z",
     "shell.execute_reply": "2025-08-05T21:06:11.866097Z"
    },
    "papermill": {
     "duration": 0.248836,
     "end_time": "2025-08-05T21:06:11.868991",
     "exception": false,
     "start_time": "2025-08-05T21:06:11.620155",
     "status": "completed"
    },
    "tags": []
   },
   "outputs": [],
   "source": [
    "#siab_train = siab_s[siab_s.year < 2015]\n",
    "siab_calib = siab[siab.year == 2015]\n",
    "siab_test = siab[siab.year == 2016]"
   ]
  },
  {
   "cell_type": "code",
   "execution_count": 15,
   "id": "472de16f-c3db-4916-846b-1f0de9cf1746",
   "metadata": {
    "execution": {
     "iopub.execute_input": "2025-08-05T21:06:11.905981Z",
     "iopub.status.busy": "2025-08-05T21:06:11.905455Z",
     "iopub.status.idle": "2025-08-05T21:06:11.921177Z",
     "shell.execute_reply": "2025-08-05T21:06:11.919967Z"
    },
    "papermill": {
     "duration": 0.036352,
     "end_time": "2025-08-05T21:06:11.923032",
     "exception": false,
     "start_time": "2025-08-05T21:06:11.886680",
     "status": "completed"
    },
    "tags": []
   },
   "outputs": [],
   "source": [
    "X_train = siab_train.iloc[:,4:164]\n",
    "y_train = siab_train.iloc[:, [3]]"
   ]
  },
  {
   "cell_type": "code",
   "execution_count": 16,
   "id": "828c96af-f43a-4ed6-ba47-8ac73a47d56c",
   "metadata": {
    "execution": {
     "iopub.execute_input": "2025-08-05T21:06:11.960681Z",
     "iopub.status.busy": "2025-08-05T21:06:11.960310Z",
     "iopub.status.idle": "2025-08-05T21:06:12.014996Z",
     "shell.execute_reply": "2025-08-05T21:06:12.013961Z"
    },
    "papermill": {
     "duration": 0.075748,
     "end_time": "2025-08-05T21:06:12.017335",
     "exception": false,
     "start_time": "2025-08-05T21:06:11.941587",
     "status": "completed"
    },
    "tags": []
   },
   "outputs": [],
   "source": [
    "X_calib = siab_calib.iloc[:,4:164]\n",
    "y_calib = siab_calib.iloc[:, [3]]"
   ]
  },
  {
   "cell_type": "code",
   "execution_count": 17,
   "id": "c34be9c3-6bd6-476e-acd3-845840e303be",
   "metadata": {
    "execution": {
     "iopub.execute_input": "2025-08-05T21:06:12.056755Z",
     "iopub.status.busy": "2025-08-05T21:06:12.056230Z",
     "iopub.status.idle": "2025-08-05T21:06:12.114835Z",
     "shell.execute_reply": "2025-08-05T21:06:12.113332Z"
    },
    "papermill": {
     "duration": 0.080904,
     "end_time": "2025-08-05T21:06:12.116794",
     "exception": false,
     "start_time": "2025-08-05T21:06:12.035890",
     "status": "completed"
    },
    "tags": []
   },
   "outputs": [],
   "source": [
    "X_test = siab_test.iloc[:,4:164]\n",
    "y_true = siab_test.iloc[:, [3]]"
   ]
  },
  {
   "cell_type": "code",
   "execution_count": 18,
   "id": "e6c733c5",
   "metadata": {
    "execution": {
     "iopub.execute_input": "2025-08-05T21:06:12.162990Z",
     "iopub.status.busy": "2025-08-05T21:06:12.162471Z",
     "iopub.status.idle": "2025-08-05T21:06:12.262695Z",
     "shell.execute_reply": "2025-08-05T21:06:12.261717Z"
    },
    "papermill": {
     "duration": 0.129166,
     "end_time": "2025-08-05T21:06:12.264507",
     "exception": false,
     "start_time": "2025-08-05T21:06:12.135341",
     "status": "completed"
    },
    "tags": []
   },
   "outputs": [],
   "source": [
    "# Auxiliary data needed downstream in the pipeline\n",
    "\n",
    "org_train = X_train.copy()\n",
    "org_test = X_test.copy()\n",
    "org_calib = X_calib.copy()"
   ]
  },
  {
   "cell_type": "markdown",
   "id": "0a4a1b33",
   "metadata": {
    "papermill": {
     "duration": 0.018884,
     "end_time": "2025-08-05T21:06:12.302294",
     "exception": false,
     "start_time": "2025-08-05T21:06:12.283410",
     "status": "completed"
    },
    "tags": []
   },
   "source": [
    "# Preprocessing Data"
   ]
  },
  {
   "cell_type": "code",
   "execution_count": 19,
   "id": "ca879031",
   "metadata": {
    "execution": {
     "iopub.execute_input": "2025-08-05T21:06:12.340465Z",
     "iopub.status.busy": "2025-08-05T21:06:12.339357Z",
     "iopub.status.idle": "2025-08-05T21:06:12.346729Z",
     "shell.execute_reply": "2025-08-05T21:06:12.345534Z"
    },
    "papermill": {
     "duration": 0.028287,
     "end_time": "2025-08-05T21:06:12.348578",
     "exception": false,
     "start_time": "2025-08-05T21:06:12.320291",
     "status": "completed"
    },
    "tags": []
   },
   "outputs": [],
   "source": [
    "# EXCLUDE PROTECTED FEATURES\n",
    "# ----------------------\n",
    "# \"exclude_features\": \"none\", # \"nationality\", \"sex\", \"nationality-sex\"\n",
    "\n",
    "excluded_features = universe[\"exclude_features\"].split(\"-\") # split, e.g.: \"nationality-sex\" -> [\"nationality\", \"sex\"]\n",
    "excluded_features_dictionary = {\n",
    "    \"nationality\": [\"maxdeutsch1\", \"maxdeutsch.Missing.\"],\n",
    "    \"sex\": [\"frau1\"],\n",
    "    \"age\": [\"age\"],\n",
    "}"
   ]
  },
  {
   "cell_type": "code",
   "execution_count": 20,
   "id": "b745ac60",
   "metadata": {
    "execution": {
     "iopub.execute_input": "2025-08-05T21:06:12.388078Z",
     "iopub.status.busy": "2025-08-05T21:06:12.387065Z",
     "iopub.status.idle": "2025-08-05T21:06:12.393206Z",
     "shell.execute_reply": "2025-08-05T21:06:12.392150Z"
    },
    "papermill": {
     "duration": 0.028021,
     "end_time": "2025-08-05T21:06:12.395625",
     "exception": false,
     "start_time": "2025-08-05T21:06:12.367604",
     "status": "completed"
    },
    "tags": []
   },
   "outputs": [],
   "source": [
    "# Code nice names to column names\n",
    "\n",
    "excluded_features_columns = [\n",
    "    excluded_features_dictionary[f] for f in excluded_features if len(f) > 0 and f != \"none\"\n",
    "]"
   ]
  },
  {
   "cell_type": "code",
   "execution_count": 21,
   "id": "f84f73a2",
   "metadata": {
    "execution": {
     "iopub.execute_input": "2025-08-05T21:06:12.451006Z",
     "iopub.status.busy": "2025-08-05T21:06:12.450259Z",
     "iopub.status.idle": "2025-08-05T21:06:12.458545Z",
     "shell.execute_reply": "2025-08-05T21:06:12.457135Z"
    },
    "papermill": {
     "duration": 0.038631,
     "end_time": "2025-08-05T21:06:12.460914",
     "exception": false,
     "start_time": "2025-08-05T21:06:12.422283",
     "status": "completed"
    },
    "tags": []
   },
   "outputs": [],
   "source": [
    "from utils import flatten_once\n",
    "\n",
    "excluded_features_columns = flatten_once(excluded_features_columns)"
   ]
  },
  {
   "cell_type": "code",
   "execution_count": 22,
   "id": "884dea22",
   "metadata": {
    "execution": {
     "iopub.execute_input": "2025-08-05T21:06:12.512059Z",
     "iopub.status.busy": "2025-08-05T21:06:12.511260Z",
     "iopub.status.idle": "2025-08-05T21:06:12.517764Z",
     "shell.execute_reply": "2025-08-05T21:06:12.516722Z"
    },
    "papermill": {
     "duration": 0.03202,
     "end_time": "2025-08-05T21:06:12.519632",
     "exception": false,
     "start_time": "2025-08-05T21:06:12.487612",
     "status": "completed"
    },
    "tags": []
   },
   "outputs": [],
   "source": [
    "if len(excluded_features_columns) > 0:\n",
    "    print(f\"Dropping features: {excluded_features_columns}\")\n",
    "    X_train.drop(excluded_features_columns, axis=1, inplace=True)"
   ]
  },
  {
   "cell_type": "code",
   "execution_count": 23,
   "id": "95ab8b16",
   "metadata": {
    "execution": {
     "iopub.execute_input": "2025-08-05T21:06:12.548575Z",
     "iopub.status.busy": "2025-08-05T21:06:12.547474Z",
     "iopub.status.idle": "2025-08-05T21:06:12.552460Z",
     "shell.execute_reply": "2025-08-05T21:06:12.551718Z"
    },
    "papermill": {
     "duration": 0.023201,
     "end_time": "2025-08-05T21:06:12.558969",
     "exception": false,
     "start_time": "2025-08-05T21:06:12.535768",
     "status": "completed"
    },
    "tags": []
   },
   "outputs": [],
   "source": [
    "if len(excluded_features_columns) > 0:\n",
    "    print(f\"Dropping features: {excluded_features_columns}\")\n",
    "    X_test.drop(excluded_features_columns, axis=1, inplace=True)"
   ]
  },
  {
   "cell_type": "code",
   "execution_count": 24,
   "id": "1853aaf5-fb9f-46cb-a2b5-8ea4ae2237e4",
   "metadata": {
    "execution": {
     "iopub.execute_input": "2025-08-05T21:06:12.579649Z",
     "iopub.status.busy": "2025-08-05T21:06:12.579261Z",
     "iopub.status.idle": "2025-08-05T21:06:12.583511Z",
     "shell.execute_reply": "2025-08-05T21:06:12.582736Z"
    },
    "papermill": {
     "duration": 0.015679,
     "end_time": "2025-08-05T21:06:12.584930",
     "exception": false,
     "start_time": "2025-08-05T21:06:12.569251",
     "status": "completed"
    },
    "tags": []
   },
   "outputs": [],
   "source": [
    "if len(excluded_features_columns) > 0:\n",
    "    print(f\"Dropping features: {excluded_features_columns}\")\n",
    "    X_calib.drop(excluded_features_columns, axis=1, inplace=True)"
   ]
  },
  {
   "cell_type": "code",
   "execution_count": 25,
   "id": "76c4dc6d",
   "metadata": {
    "execution": {
     "iopub.execute_input": "2025-08-05T21:06:12.635213Z",
     "iopub.status.busy": "2025-08-05T21:06:12.634684Z",
     "iopub.status.idle": "2025-08-05T21:06:12.640976Z",
     "shell.execute_reply": "2025-08-05T21:06:12.639935Z"
    },
    "papermill": {
     "duration": 0.03953,
     "end_time": "2025-08-05T21:06:12.642790",
     "exception": false,
     "start_time": "2025-08-05T21:06:12.603260",
     "status": "completed"
    },
    "tags": []
   },
   "outputs": [],
   "source": [
    "# EXCLUDE CERTAIN SUBGROUPS\n",
    "# ----------------------\n",
    "\n",
    "mode = universe.get(\"exclude_subgroups\", \"keep-all\") \n",
    "# Fetches the exclude_subgroups setting from the universe dict.\n",
    "# Defaults to \"keep-all\" if the key is missing."
   ]
  },
  {
   "cell_type": "code",
   "execution_count": 26,
   "id": "21994072",
   "metadata": {
    "execution": {
     "iopub.execute_input": "2025-08-05T21:06:12.664134Z",
     "iopub.status.busy": "2025-08-05T21:06:12.663689Z",
     "iopub.status.idle": "2025-08-05T21:06:12.668781Z",
     "shell.execute_reply": "2025-08-05T21:06:12.667972Z"
    },
    "papermill": {
     "duration": 0.017238,
     "end_time": "2025-08-05T21:06:12.670165",
     "exception": false,
     "start_time": "2025-08-05T21:06:12.652927",
     "status": "completed"
    },
    "tags": []
   },
   "outputs": [],
   "source": [
    "if mode == \"keep-all\":\n",
    "    keep_mask = pd.Series(True, index=org_train.index)\n",
    "\n",
    "# org_train contains the original feature columns from features_org (in Simson)\n",
    "# features_org contains unprocessed features, for me X_train at beginning ???\n",
    "# For keep-all, creates a boolean Series (keep_mask) of all True, so no rows are removed.\n",
    "\n",
    "elif mode == \"drop-non-german\":\n",
    "    keep_mask = org_train[\"maxdeutsch1\"] == 1 # ??? what about missing values?\n",
    "\n",
    "else:\n",
    "    raise ValueError(f\"Unsupported mode for exclude_subgroups: {mode}\")"
   ]
  },
  {
   "cell_type": "code",
   "execution_count": 27,
   "id": "71651440",
   "metadata": {
    "execution": {
     "iopub.execute_input": "2025-08-05T21:06:12.709963Z",
     "iopub.status.busy": "2025-08-05T21:06:12.709358Z",
     "iopub.status.idle": "2025-08-05T21:06:12.717069Z",
     "shell.execute_reply": "2025-08-05T21:06:12.715809Z"
    },
    "papermill": {
     "duration": 0.038901,
     "end_time": "2025-08-05T21:06:12.719480",
     "exception": false,
     "start_time": "2025-08-05T21:06:12.680579",
     "status": "completed"
    },
    "tags": []
   },
   "outputs": [],
   "source": [
    "n_drop = (~keep_mask).sum() # Calculates how many rows are set to be dropped\n",
    "if n_drop > 0:\n",
    "    pct = n_drop / len(keep_mask) * 100\n",
    "    print(f\"Dropping {n_drop} rows ({pct:.2f}%) where mode='{mode}'\")"
   ]
  },
  {
   "cell_type": "code",
   "execution_count": 28,
   "id": "5fb8eee5",
   "metadata": {
    "execution": {
     "iopub.execute_input": "2025-08-05T21:06:12.758542Z",
     "iopub.status.busy": "2025-08-05T21:06:12.758084Z",
     "iopub.status.idle": "2025-08-05T21:06:12.782147Z",
     "shell.execute_reply": "2025-08-05T21:06:12.780798Z"
    },
    "papermill": {
     "duration": 0.04727,
     "end_time": "2025-08-05T21:06:12.783722",
     "exception": false,
     "start_time": "2025-08-05T21:06:12.736452",
     "status": "completed"
    },
    "tags": []
   },
   "outputs": [],
   "source": [
    "X_train = X_train[keep_mask]"
   ]
  },
  {
   "cell_type": "code",
   "execution_count": 29,
   "id": "b202bb3a",
   "metadata": {
    "execution": {
     "iopub.execute_input": "2025-08-05T21:06:12.841615Z",
     "iopub.status.busy": "2025-08-05T21:06:12.841170Z",
     "iopub.status.idle": "2025-08-05T21:06:12.849412Z",
     "shell.execute_reply": "2025-08-05T21:06:12.848122Z"
    },
    "papermill": {
     "duration": 0.040603,
     "end_time": "2025-08-05T21:06:12.851406",
     "exception": false,
     "start_time": "2025-08-05T21:06:12.810803",
     "status": "completed"
    },
    "tags": []
   },
   "outputs": [],
   "source": [
    "y_train = y_train[keep_mask]"
   ]
  },
  {
   "cell_type": "markdown",
   "id": "493e2ac3",
   "metadata": {
    "papermill": {
     "duration": 0.019769,
     "end_time": "2025-08-05T21:06:12.891971",
     "exception": false,
     "start_time": "2025-08-05T21:06:12.872202",
     "status": "completed"
    },
    "tags": []
   },
   "source": [
    "# Model Training"
   ]
  },
  {
   "cell_type": "code",
   "execution_count": 30,
   "id": "679e1268",
   "metadata": {
    "execution": {
     "iopub.execute_input": "2025-08-05T21:06:12.917995Z",
     "iopub.status.busy": "2025-08-05T21:06:12.917624Z",
     "iopub.status.idle": "2025-08-05T21:06:13.000613Z",
     "shell.execute_reply": "2025-08-05T21:06:12.999874Z"
    },
    "papermill": {
     "duration": 0.094813,
     "end_time": "2025-08-05T21:06:13.002243",
     "exception": false,
     "start_time": "2025-08-05T21:06:12.907430",
     "status": "completed"
    },
    "tags": []
   },
   "outputs": [],
   "source": [
    "from sklearn.linear_model import LogisticRegression\n",
    "from sklearn.ensemble import GradientBoostingClassifier, RandomForestClassifier\n",
    "\n",
    "if (universe[\"model\"] == \"logreg\"):\n",
    "    model = LogisticRegression() #penalty=\"none\", solver=\"newton-cg\", max_iter=1) # include random_state=19 ?\n",
    "elif (universe[\"model\"] == \"penalized_logreg\"):\n",
    "    model = LogisticRegression(penalty=\"l2\", C=0.1) #, solver=\"newton-cg\", max_iter=1)\n",
    "elif (universe[\"model\"] == \"rf\"):\n",
    "    model = RandomForestClassifier() # n_estimators=100, n_jobs=-1\n",
    "elif (universe[\"model\"] == \"gbm\"):\n",
    "    model = GradientBoostingClassifier()\n",
    "elif (universe[\"model\"] == \"elasticnet\"):\n",
    "    model = LogisticRegression(penalty = 'elasticnet', solver = 'saga', l1_ratio = 0.5) # max_iter=5000\n",
    "else:\n",
    "    raise \"Unsupported universe.model\""
   ]
  },
  {
   "cell_type": "code",
   "execution_count": 31,
   "id": "0cc8f744",
   "metadata": {
    "execution": {
     "iopub.execute_input": "2025-08-05T21:06:13.032687Z",
     "iopub.status.busy": "2025-08-05T21:06:13.032045Z",
     "iopub.status.idle": "2025-08-05T21:06:13.037438Z",
     "shell.execute_reply": "2025-08-05T21:06:13.036692Z"
    },
    "papermill": {
     "duration": 0.02168,
     "end_time": "2025-08-05T21:06:13.038919",
     "exception": false,
     "start_time": "2025-08-05T21:06:13.017239",
     "status": "completed"
    },
    "tags": []
   },
   "outputs": [],
   "source": [
    "import numpy as np\n",
    "from sklearn.pipeline import Pipeline\n",
    "from sklearn.preprocessing import StandardScaler\n",
    "\n",
    "model = Pipeline([\n",
    "    #(\"continuous_processor\", continuous_processor),\n",
    "    #(\"categorical_preprocessor\", categorical_preprocessor),\n",
    "    (\"scale\", StandardScaler() if universe[\"scale\"] == \"scale\" else None), \n",
    "    (\"model\", model),\n",
    "])"
   ]
  },
  {
   "cell_type": "code",
   "execution_count": 32,
   "id": "9442c04d",
   "metadata": {
    "execution": {
     "iopub.execute_input": "2025-08-05T21:06:13.060242Z",
     "iopub.status.busy": "2025-08-05T21:06:13.059747Z",
     "iopub.status.idle": "2025-08-05T21:06:13.665189Z",
     "shell.execute_reply": "2025-08-05T21:06:13.664241Z"
    },
    "papermill": {
     "duration": 0.617691,
     "end_time": "2025-08-05T21:06:13.666812",
     "exception": false,
     "start_time": "2025-08-05T21:06:13.049121",
     "status": "completed"
    },
    "tags": []
   },
   "outputs": [
    {
     "name": "stderr",
     "output_type": "stream",
     "text": [
      "/dss/dsshome1/0C/ra93lal2/.local/share/virtualenvs/CMA_Fairness_v2-3j10GkSs/lib/python3.10/site-packages/sklearn/linear_model/_logistic.py:444: ConvergenceWarning: lbfgs failed to converge (status=1):\n",
      "STOP: TOTAL NO. of ITERATIONS REACHED LIMIT.\n",
      "\n",
      "Increase the number of iterations (max_iter) or scale the data as shown in:\n",
      "    https://scikit-learn.org/stable/modules/preprocessing.html\n",
      "Please also refer to the documentation for alternative solver options:\n",
      "    https://scikit-learn.org/stable/modules/linear_model.html#logistic-regression\n",
      "  n_iter_i = _check_optimize_result(\n"
     ]
    },
    {
     "data": {
      "text/html": [
       "<style>#sk-container-id-1 {color: black;background-color: white;}#sk-container-id-1 pre{padding: 0;}#sk-container-id-1 div.sk-toggleable {background-color: white;}#sk-container-id-1 label.sk-toggleable__label {cursor: pointer;display: block;width: 100%;margin-bottom: 0;padding: 0.3em;box-sizing: border-box;text-align: center;}#sk-container-id-1 label.sk-toggleable__label-arrow:before {content: \"▸\";float: left;margin-right: 0.25em;color: #696969;}#sk-container-id-1 label.sk-toggleable__label-arrow:hover:before {color: black;}#sk-container-id-1 div.sk-estimator:hover label.sk-toggleable__label-arrow:before {color: black;}#sk-container-id-1 div.sk-toggleable__content {max-height: 0;max-width: 0;overflow: hidden;text-align: left;background-color: #f0f8ff;}#sk-container-id-1 div.sk-toggleable__content pre {margin: 0.2em;color: black;border-radius: 0.25em;background-color: #f0f8ff;}#sk-container-id-1 input.sk-toggleable__control:checked~div.sk-toggleable__content {max-height: 200px;max-width: 100%;overflow: auto;}#sk-container-id-1 input.sk-toggleable__control:checked~label.sk-toggleable__label-arrow:before {content: \"▾\";}#sk-container-id-1 div.sk-estimator input.sk-toggleable__control:checked~label.sk-toggleable__label {background-color: #d4ebff;}#sk-container-id-1 div.sk-label input.sk-toggleable__control:checked~label.sk-toggleable__label {background-color: #d4ebff;}#sk-container-id-1 input.sk-hidden--visually {border: 0;clip: rect(1px 1px 1px 1px);clip: rect(1px, 1px, 1px, 1px);height: 1px;margin: -1px;overflow: hidden;padding: 0;position: absolute;width: 1px;}#sk-container-id-1 div.sk-estimator {font-family: monospace;background-color: #f0f8ff;border: 1px dotted black;border-radius: 0.25em;box-sizing: border-box;margin-bottom: 0.5em;}#sk-container-id-1 div.sk-estimator:hover {background-color: #d4ebff;}#sk-container-id-1 div.sk-parallel-item::after {content: \"\";width: 100%;border-bottom: 1px solid gray;flex-grow: 1;}#sk-container-id-1 div.sk-label:hover label.sk-toggleable__label {background-color: #d4ebff;}#sk-container-id-1 div.sk-serial::before {content: \"\";position: absolute;border-left: 1px solid gray;box-sizing: border-box;top: 0;bottom: 0;left: 50%;z-index: 0;}#sk-container-id-1 div.sk-serial {display: flex;flex-direction: column;align-items: center;background-color: white;padding-right: 0.2em;padding-left: 0.2em;position: relative;}#sk-container-id-1 div.sk-item {position: relative;z-index: 1;}#sk-container-id-1 div.sk-parallel {display: flex;align-items: stretch;justify-content: center;background-color: white;position: relative;}#sk-container-id-1 div.sk-item::before, #sk-container-id-1 div.sk-parallel-item::before {content: \"\";position: absolute;border-left: 1px solid gray;box-sizing: border-box;top: 0;bottom: 0;left: 50%;z-index: -1;}#sk-container-id-1 div.sk-parallel-item {display: flex;flex-direction: column;z-index: 1;position: relative;background-color: white;}#sk-container-id-1 div.sk-parallel-item:first-child::after {align-self: flex-end;width: 50%;}#sk-container-id-1 div.sk-parallel-item:last-child::after {align-self: flex-start;width: 50%;}#sk-container-id-1 div.sk-parallel-item:only-child::after {width: 0;}#sk-container-id-1 div.sk-dashed-wrapped {border: 1px dashed gray;margin: 0 0.4em 0.5em 0.4em;box-sizing: border-box;padding-bottom: 0.4em;background-color: white;}#sk-container-id-1 div.sk-label label {font-family: monospace;font-weight: bold;display: inline-block;line-height: 1.2em;}#sk-container-id-1 div.sk-label-container {text-align: center;}#sk-container-id-1 div.sk-container {/* jupyter's `normalize.less` sets `[hidden] { display: none; }` but bootstrap.min.css set `[hidden] { display: none !important; }` so we also need the `!important` here to be able to override the default hidden behavior on the sphinx rendered scikit-learn.org. See: https://github.com/scikit-learn/scikit-learn/issues/21755 */display: inline-block !important;position: relative;}#sk-container-id-1 div.sk-text-repr-fallback {display: none;}</style><div id=\"sk-container-id-1\" class=\"sk-top-container\"><div class=\"sk-text-repr-fallback\"><pre>Pipeline(steps=[(&#x27;scale&#x27;, StandardScaler()),\n",
       "                (&#x27;model&#x27;, LogisticRegression(C=0.1))])</pre><b>In a Jupyter environment, please rerun this cell to show the HTML representation or trust the notebook. <br />On GitHub, the HTML representation is unable to render, please try loading this page with nbviewer.org.</b></div><div class=\"sk-container\" hidden><div class=\"sk-item sk-dashed-wrapped\"><div class=\"sk-label-container\"><div class=\"sk-label sk-toggleable\"><input class=\"sk-toggleable__control sk-hidden--visually\" id=\"sk-estimator-id-1\" type=\"checkbox\" ><label for=\"sk-estimator-id-1\" class=\"sk-toggleable__label sk-toggleable__label-arrow\">Pipeline</label><div class=\"sk-toggleable__content\"><pre>Pipeline(steps=[(&#x27;scale&#x27;, StandardScaler()),\n",
       "                (&#x27;model&#x27;, LogisticRegression(C=0.1))])</pre></div></div></div><div class=\"sk-serial\"><div class=\"sk-item\"><div class=\"sk-estimator sk-toggleable\"><input class=\"sk-toggleable__control sk-hidden--visually\" id=\"sk-estimator-id-2\" type=\"checkbox\" ><label for=\"sk-estimator-id-2\" class=\"sk-toggleable__label sk-toggleable__label-arrow\">StandardScaler</label><div class=\"sk-toggleable__content\"><pre>StandardScaler()</pre></div></div></div><div class=\"sk-item\"><div class=\"sk-estimator sk-toggleable\"><input class=\"sk-toggleable__control sk-hidden--visually\" id=\"sk-estimator-id-3\" type=\"checkbox\" ><label for=\"sk-estimator-id-3\" class=\"sk-toggleable__label sk-toggleable__label-arrow\">LogisticRegression</label><div class=\"sk-toggleable__content\"><pre>LogisticRegression(C=0.1)</pre></div></div></div></div></div></div></div>"
      ],
      "text/plain": [
       "Pipeline(steps=[('scale', StandardScaler()),\n",
       "                ('model', LogisticRegression(C=0.1))])"
      ]
     },
     "execution_count": 32,
     "metadata": {},
     "output_type": "execute_result"
    }
   ],
   "source": [
    "model.fit(X_train, y_train.values.ravel())"
   ]
  },
  {
   "cell_type": "code",
   "execution_count": 33,
   "id": "af59f8c0",
   "metadata": {
    "execution": {
     "iopub.execute_input": "2025-08-05T21:06:13.707073Z",
     "iopub.status.busy": "2025-08-05T21:06:13.706674Z",
     "iopub.status.idle": "2025-08-05T21:06:13.711771Z",
     "shell.execute_reply": "2025-08-05T21:06:13.710647Z"
    },
    "papermill": {
     "duration": 0.02595,
     "end_time": "2025-08-05T21:06:13.713598",
     "exception": false,
     "start_time": "2025-08-05T21:06:13.687648",
     "status": "completed"
    },
    "tags": []
   },
   "outputs": [],
   "source": [
    "from fairness_multiverse.universe import predict_w_threshold"
   ]
  },
  {
   "cell_type": "code",
   "execution_count": 34,
   "id": "a7cf2e16",
   "metadata": {
    "execution": {
     "iopub.execute_input": "2025-08-05T21:06:13.754014Z",
     "iopub.status.busy": "2025-08-05T21:06:13.753155Z",
     "iopub.status.idle": "2025-08-05T21:06:13.951402Z",
     "shell.execute_reply": "2025-08-05T21:06:13.950416Z"
    },
    "papermill": {
     "duration": 0.220481,
     "end_time": "2025-08-05T21:06:13.953145",
     "exception": false,
     "start_time": "2025-08-05T21:06:13.732664",
     "status": "completed"
    },
    "tags": []
   },
   "outputs": [
    {
     "data": {
      "text/plain": [
       "0.8603165756325939"
      ]
     },
     "execution_count": 34,
     "metadata": {},
     "output_type": "execute_result"
    }
   ],
   "source": [
    "probs_test = model.predict_proba(X_test)\n",
    "\n",
    "'''\n",
    "Below code returns a boolean array (or binary 0/1 array depending on how it’s used) where each element \n",
    "is True if the probability of class 1 is greater than or equal to the threshold, and False otherwise.\n",
    "'''\n",
    "y_pred_default = predict_w_threshold(probs_test, 0.5)\n",
    "\n",
    "from sklearn.metrics import accuracy_score\n",
    "\n",
    "# Naive prediction\n",
    "accuracy_score(y_true = y_true, y_pred = y_pred_default)"
   ]
  },
  {
   "cell_type": "code",
   "execution_count": 35,
   "id": "081964c3",
   "metadata": {
    "execution": {
     "iopub.execute_input": "2025-08-05T21:06:13.994271Z",
     "iopub.status.busy": "2025-08-05T21:06:13.993673Z",
     "iopub.status.idle": "2025-08-05T21:06:14.186037Z",
     "shell.execute_reply": "2025-08-05T21:06:14.184959Z"
    },
    "papermill": {
     "duration": 0.214858,
     "end_time": "2025-08-05T21:06:14.187628",
     "exception": false,
     "start_time": "2025-08-05T21:06:13.972770",
     "status": "completed"
    },
    "tags": []
   },
   "outputs": [
    {
     "data": {
      "text/plain": [
       "array([0, 0, 0, ..., 0, 0, 0])"
      ]
     },
     "execution_count": 35,
     "metadata": {},
     "output_type": "execute_result"
    }
   ],
   "source": [
    "model.predict(X_test)"
   ]
  },
  {
   "cell_type": "markdown",
   "id": "56c9705b",
   "metadata": {
    "papermill": {
     "duration": 0.020388,
     "end_time": "2025-08-05T21:06:14.228512",
     "exception": false,
     "start_time": "2025-08-05T21:06:14.208124",
     "status": "completed"
    },
    "tags": []
   },
   "source": [
    "# Conformal Prediction"
   ]
  },
  {
   "cell_type": "code",
   "execution_count": 36,
   "id": "160ec6ff",
   "metadata": {
    "execution": {
     "iopub.execute_input": "2025-08-05T21:06:14.268190Z",
     "iopub.status.busy": "2025-08-05T21:06:14.267666Z",
     "iopub.status.idle": "2025-08-05T21:06:14.273147Z",
     "shell.execute_reply": "2025-08-05T21:06:14.272092Z"
    },
    "papermill": {
     "duration": 0.029885,
     "end_time": "2025-08-05T21:06:14.275163",
     "exception": false,
     "start_time": "2025-08-05T21:06:14.245278",
     "status": "completed"
    },
    "tags": []
   },
   "outputs": [],
   "source": [
    "# Miscoverage level for conformal prediction (10% allowed error rate => 90% target coverage)\n",
    "alpha = 0.1"
   ]
  },
  {
   "cell_type": "code",
   "execution_count": 37,
   "id": "eadf4555-3dd3-440e-8e35-f82a4ad9f855",
   "metadata": {
    "execution": {
     "iopub.execute_input": "2025-08-05T21:06:14.315206Z",
     "iopub.status.busy": "2025-08-05T21:06:14.314271Z",
     "iopub.status.idle": "2025-08-05T21:06:14.487384Z",
     "shell.execute_reply": "2025-08-05T21:06:14.486300Z"
    },
    "papermill": {
     "duration": 0.193203,
     "end_time": "2025-08-05T21:06:14.489011",
     "exception": false,
     "start_time": "2025-08-05T21:06:14.295808",
     "status": "completed"
    },
    "tags": []
   },
   "outputs": [],
   "source": [
    "probs_calib = model.predict_proba(X_calib)"
   ]
  },
  {
   "cell_type": "code",
   "execution_count": 38,
   "id": "2ed93547-6d5d-4983-9b36-1ecb300da49a",
   "metadata": {
    "execution": {
     "iopub.execute_input": "2025-08-05T21:06:14.512417Z",
     "iopub.status.busy": "2025-08-05T21:06:14.511614Z",
     "iopub.status.idle": "2025-08-05T21:06:14.518295Z",
     "shell.execute_reply": "2025-08-05T21:06:14.517044Z"
    },
    "papermill": {
     "duration": 0.020101,
     "end_time": "2025-08-05T21:06:14.519947",
     "exception": false,
     "start_time": "2025-08-05T21:06:14.499846",
     "status": "completed"
    },
    "tags": []
   },
   "outputs": [],
   "source": [
    "y_calib = y_calib.values.ravel().astype(int)"
   ]
  },
  {
   "cell_type": "code",
   "execution_count": 39,
   "id": "65d1320d-f588-4b38-9072-62af1ae97f7d",
   "metadata": {
    "execution": {
     "iopub.execute_input": "2025-08-05T21:06:14.553220Z",
     "iopub.status.busy": "2025-08-05T21:06:14.552778Z",
     "iopub.status.idle": "2025-08-05T21:06:14.559559Z",
     "shell.execute_reply": "2025-08-05T21:06:14.558662Z"
    },
    "papermill": {
     "duration": 0.021829,
     "end_time": "2025-08-05T21:06:14.561047",
     "exception": false,
     "start_time": "2025-08-05T21:06:14.539218",
     "status": "completed"
    },
    "tags": []
   },
   "outputs": [],
   "source": [
    "from fairness_multiverse.conformal import compute_nc_scores\n",
    "\n",
    "# Compute nonconformity scores on calibration set (1 - probability of true class)\n",
    "nc_scores = compute_nc_scores(probs_calib, y_calib)"
   ]
  },
  {
   "cell_type": "code",
   "execution_count": 40,
   "id": "df3b8ca3-53b7-43d5-9667-7c85da7aeda2",
   "metadata": {
    "execution": {
     "iopub.execute_input": "2025-08-05T21:06:14.586145Z",
     "iopub.status.busy": "2025-08-05T21:06:14.585295Z",
     "iopub.status.idle": "2025-08-05T21:06:14.592034Z",
     "shell.execute_reply": "2025-08-05T21:06:14.590892Z"
    },
    "papermill": {
     "duration": 0.021376,
     "end_time": "2025-08-05T21:06:14.594089",
     "exception": false,
     "start_time": "2025-08-05T21:06:14.572713",
     "status": "completed"
    },
    "tags": []
   },
   "outputs": [],
   "source": [
    "from fairness_multiverse.conformal import find_threshold\n",
    "\n",
    "# Find conformal threshold q_hat for the given alpha (split conformal method)\n",
    "q_hat = find_threshold(nc_scores, alpha)"
   ]
  },
  {
   "cell_type": "code",
   "execution_count": 41,
   "id": "4d29e6c1-0ef6-4aa4-b8fe-4fe79b0d033a",
   "metadata": {
    "execution": {
     "iopub.execute_input": "2025-08-05T21:06:14.638093Z",
     "iopub.status.busy": "2025-08-05T21:06:14.637332Z",
     "iopub.status.idle": "2025-08-05T21:06:14.645224Z",
     "shell.execute_reply": "2025-08-05T21:06:14.644123Z"
    },
    "papermill": {
     "duration": 0.03208,
     "end_time": "2025-08-05T21:06:14.647086",
     "exception": false,
     "start_time": "2025-08-05T21:06:14.615006",
     "status": "completed"
    },
    "tags": []
   },
   "outputs": [
    {
     "data": {
      "text/plain": [
       "0.6600230364403135"
      ]
     },
     "execution_count": 41,
     "metadata": {},
     "output_type": "execute_result"
    }
   ],
   "source": [
    "q_hat"
   ]
  },
  {
   "cell_type": "code",
   "execution_count": 42,
   "id": "92460794-cdac-4be2-ba28-f28c0515a6fb",
   "metadata": {
    "execution": {
     "iopub.execute_input": "2025-08-05T21:06:14.693103Z",
     "iopub.status.busy": "2025-08-05T21:06:14.692500Z",
     "iopub.status.idle": "2025-08-05T21:06:15.924708Z",
     "shell.execute_reply": "2025-08-05T21:06:15.923522Z"
    },
    "papermill": {
     "duration": 1.256731,
     "end_time": "2025-08-05T21:06:15.927074",
     "exception": false,
     "start_time": "2025-08-05T21:06:14.670343",
     "status": "completed"
    },
    "tags": []
   },
   "outputs": [],
   "source": [
    "from fairness_multiverse.conformal import predict_conformal_sets\n",
    "\n",
    "# Generate prediction sets for each test example\n",
    "pred_sets = predict_conformal_sets(model, X_test, q_hat)"
   ]
  },
  {
   "cell_type": "code",
   "execution_count": 43,
   "id": "d90c9a65-e6db-4f5d-80cd-e68fb7e46829",
   "metadata": {
    "execution": {
     "iopub.execute_input": "2025-08-05T21:06:15.976864Z",
     "iopub.status.busy": "2025-08-05T21:06:15.976005Z",
     "iopub.status.idle": "2025-08-05T21:06:15.982398Z",
     "shell.execute_reply": "2025-08-05T21:06:15.981445Z"
    },
    "papermill": {
     "duration": 0.031346,
     "end_time": "2025-08-05T21:06:15.984004",
     "exception": false,
     "start_time": "2025-08-05T21:06:15.952658",
     "status": "completed"
    },
    "tags": []
   },
   "outputs": [],
   "source": [
    "y_true = y_true.squeeze()"
   ]
  },
  {
   "cell_type": "code",
   "execution_count": 44,
   "id": "3a58a54a-1e68-46b9-927a-df01f18aebc8",
   "metadata": {
    "execution": {
     "iopub.execute_input": "2025-08-05T21:06:16.008206Z",
     "iopub.status.busy": "2025-08-05T21:06:16.007710Z",
     "iopub.status.idle": "2025-08-05T21:06:16.768904Z",
     "shell.execute_reply": "2025-08-05T21:06:16.767875Z"
    },
    "papermill": {
     "duration": 0.77452,
     "end_time": "2025-08-05T21:06:16.770671",
     "exception": false,
     "start_time": "2025-08-05T21:06:15.996151",
     "status": "completed"
    },
    "tags": []
   },
   "outputs": [],
   "source": [
    "from fairness_multiverse.conformal import evaluate_sets\n",
    "\n",
    "# Evaluate coverage and average set size on test data\n",
    "metrics = evaluate_sets(pred_sets, y_true)"
   ]
  },
  {
   "cell_type": "markdown",
   "id": "2b569c12-9aaa-4c88-98c9-bbcd0cf3ebb8",
   "metadata": {
    "papermill": {
     "duration": 0.02228,
     "end_time": "2025-08-05T21:06:16.814766",
     "exception": false,
     "start_time": "2025-08-05T21:06:16.792486",
     "status": "completed"
    },
    "tags": []
   },
   "source": [
    "# CP Metrics"
   ]
  },
  {
   "cell_type": "code",
   "execution_count": 45,
   "id": "5ce0a5cb-201f-45a0-ade5-94c7f0bd6095",
   "metadata": {
    "execution": {
     "iopub.execute_input": "2025-08-05T21:06:16.860223Z",
     "iopub.status.busy": "2025-08-05T21:06:16.859746Z",
     "iopub.status.idle": "2025-08-05T21:06:16.867162Z",
     "shell.execute_reply": "2025-08-05T21:06:16.866066Z"
    },
    "papermill": {
     "duration": 0.032513,
     "end_time": "2025-08-05T21:06:16.869083",
     "exception": false,
     "start_time": "2025-08-05T21:06:16.836570",
     "status": "completed"
    },
    "tags": []
   },
   "outputs": [
    {
     "data": {
      "text/plain": [
       "{'coverage': 0.9104893545870025, 'avg_size': 1.1253594916954632}"
      ]
     },
     "execution_count": 45,
     "metadata": {},
     "output_type": "execute_result"
    }
   ],
   "source": [
    "metrics"
   ]
  },
  {
   "cell_type": "code",
   "execution_count": 46,
   "id": "9b9a838d-31c9-430b-ae14-12baee460d17",
   "metadata": {
    "execution": {
     "iopub.execute_input": "2025-08-05T21:06:16.912352Z",
     "iopub.status.busy": "2025-08-05T21:06:16.911796Z",
     "iopub.status.idle": "2025-08-05T21:06:16.918272Z",
     "shell.execute_reply": "2025-08-05T21:06:16.917289Z"
    },
    "papermill": {
     "duration": 0.029777,
     "end_time": "2025-08-05T21:06:16.920213",
     "exception": false,
     "start_time": "2025-08-05T21:06:16.890436",
     "status": "completed"
    },
    "tags": []
   },
   "outputs": [],
   "source": [
    "example_universe = universe.copy()\n",
    "universe_training_year = example_universe.get(\"training_year\")\n",
    "universe_training_size = example_universe.get(\"training_size\")\n",
    "universe_scale = example_universe.get(\"scale\")\n",
    "universe_model = example_universe.get(\"model\")\n",
    "universe_exclude_features = example_universe.get(\"exclude_features\")\n",
    "universe_exclude_subgroups = example_universe.get(\"exclude_subgroups\")"
   ]
  },
  {
   "cell_type": "code",
   "execution_count": 47,
   "id": "f4b6a8ac-9dc0-4245-8a91-5b3b5999c4f9",
   "metadata": {
    "execution": {
     "iopub.execute_input": "2025-08-05T21:06:16.958881Z",
     "iopub.status.busy": "2025-08-05T21:06:16.958207Z",
     "iopub.status.idle": "2025-08-05T21:06:16.984292Z",
     "shell.execute_reply": "2025-08-05T21:06:16.983591Z"
    },
    "papermill": {
     "duration": 0.046359,
     "end_time": "2025-08-05T21:06:16.985852",
     "exception": false,
     "start_time": "2025-08-05T21:06:16.939493",
     "status": "completed"
    },
    "tags": []
   },
   "outputs": [],
   "source": [
    "cp_metrics_dict = {\n",
    "    \"universe_id\": [universe_id],\n",
    "    \"universe_training_year\": [universe_training_year],\n",
    "    \"universe_training_size\": [universe_training_size],\n",
    "    \"universe_scale\": [universe_scale],\n",
    "    \"universe_model\": [universe_model],\n",
    "    \"universe_exclude_features\": [universe_exclude_features],\n",
    "    \"universe_exclude_subgroups\": [universe_exclude_subgroups],\n",
    "    \"q_hat\": [q_hat],\n",
    "    \"coverage\": [metrics[\"coverage\"]],\n",
    "    \"avg_size\": [metrics[\"avg_size\"]],\n",
    "}"
   ]
  },
  {
   "cell_type": "code",
   "execution_count": 48,
   "id": "908acbb1-0371-4915-85ca-3fa520d2efe2",
   "metadata": {
    "execution": {
     "iopub.execute_input": "2025-08-05T21:06:17.028422Z",
     "iopub.status.busy": "2025-08-05T21:06:17.027815Z",
     "iopub.status.idle": "2025-08-05T21:06:17.035762Z",
     "shell.execute_reply": "2025-08-05T21:06:17.034684Z"
    },
    "papermill": {
     "duration": 0.031644,
     "end_time": "2025-08-05T21:06:17.037396",
     "exception": false,
     "start_time": "2025-08-05T21:06:17.005752",
     "status": "completed"
    },
    "tags": []
   },
   "outputs": [
    {
     "data": {
      "text/plain": [
       "{'universe_id': ['7f1cc2e4b28484658178dc22476311a3'],\n",
       " 'universe_training_year': ['2010_14'],\n",
       " 'universe_training_size': ['25k'],\n",
       " 'universe_scale': ['scale'],\n",
       " 'universe_model': ['penalized_logreg'],\n",
       " 'universe_exclude_features': ['none'],\n",
       " 'universe_exclude_subgroups': ['keep-all'],\n",
       " 'q_hat': [0.6600230364403135],\n",
       " 'coverage': [0.9104893545870025],\n",
       " 'avg_size': [1.1253594916954632]}"
      ]
     },
     "execution_count": 48,
     "metadata": {},
     "output_type": "execute_result"
    }
   ],
   "source": [
    "cp_metrics_dict"
   ]
  },
  {
   "cell_type": "code",
   "execution_count": 49,
   "id": "33007efc-14e9-4ec6-97ac-56a455c82265",
   "metadata": {
    "execution": {
     "iopub.execute_input": "2025-08-05T21:06:17.077314Z",
     "iopub.status.busy": "2025-08-05T21:06:17.076914Z",
     "iopub.status.idle": "2025-08-05T21:06:17.087992Z",
     "shell.execute_reply": "2025-08-05T21:06:17.087202Z"
    },
    "papermill": {
     "duration": 0.030022,
     "end_time": "2025-08-05T21:06:17.089358",
     "exception": false,
     "start_time": "2025-08-05T21:06:17.059336",
     "status": "completed"
    },
    "tags": []
   },
   "outputs": [],
   "source": [
    "cp_metrics_df = pd.DataFrame(cp_metrics_dict)"
   ]
  },
  {
   "cell_type": "code",
   "execution_count": 50,
   "id": "db12611b-57b2-4910-b9d0-355adfd6e7bf",
   "metadata": {
    "execution": {
     "iopub.execute_input": "2025-08-05T21:06:17.126919Z",
     "iopub.status.busy": "2025-08-05T21:06:17.126174Z",
     "iopub.status.idle": "2025-08-05T21:06:17.145479Z",
     "shell.execute_reply": "2025-08-05T21:06:17.144328Z"
    },
    "papermill": {
     "duration": 0.044425,
     "end_time": "2025-08-05T21:06:17.147287",
     "exception": false,
     "start_time": "2025-08-05T21:06:17.102862",
     "status": "completed"
    },
    "tags": []
   },
   "outputs": [
    {
     "data": {
      "text/html": [
       "<div>\n",
       "<style scoped>\n",
       "    .dataframe tbody tr th:only-of-type {\n",
       "        vertical-align: middle;\n",
       "    }\n",
       "\n",
       "    .dataframe tbody tr th {\n",
       "        vertical-align: top;\n",
       "    }\n",
       "\n",
       "    .dataframe thead th {\n",
       "        text-align: right;\n",
       "    }\n",
       "</style>\n",
       "<table border=\"1\" class=\"dataframe\">\n",
       "  <thead>\n",
       "    <tr style=\"text-align: right;\">\n",
       "      <th></th>\n",
       "      <th>universe_id</th>\n",
       "      <th>universe_training_year</th>\n",
       "      <th>universe_training_size</th>\n",
       "      <th>universe_scale</th>\n",
       "      <th>universe_model</th>\n",
       "      <th>universe_exclude_features</th>\n",
       "      <th>universe_exclude_subgroups</th>\n",
       "      <th>q_hat</th>\n",
       "      <th>coverage</th>\n",
       "      <th>avg_size</th>\n",
       "    </tr>\n",
       "  </thead>\n",
       "  <tbody>\n",
       "    <tr>\n",
       "      <th>0</th>\n",
       "      <td>7f1cc2e4b28484658178dc22476311a3</td>\n",
       "      <td>2010_14</td>\n",
       "      <td>25k</td>\n",
       "      <td>scale</td>\n",
       "      <td>penalized_logreg</td>\n",
       "      <td>none</td>\n",
       "      <td>keep-all</td>\n",
       "      <td>0.660023</td>\n",
       "      <td>0.910489</td>\n",
       "      <td>1.125359</td>\n",
       "    </tr>\n",
       "  </tbody>\n",
       "</table>\n",
       "</div>"
      ],
      "text/plain": [
       "                        universe_id universe_training_year  \\\n",
       "0  7f1cc2e4b28484658178dc22476311a3                2010_14   \n",
       "\n",
       "  universe_training_size universe_scale    universe_model  \\\n",
       "0                    25k          scale  penalized_logreg   \n",
       "\n",
       "  universe_exclude_features universe_exclude_subgroups     q_hat  coverage  \\\n",
       "0                      none                   keep-all  0.660023  0.910489   \n",
       "\n",
       "   avg_size  \n",
       "0  1.125359  "
      ]
     },
     "execution_count": 50,
     "metadata": {},
     "output_type": "execute_result"
    }
   ],
   "source": [
    "cp_metrics_df"
   ]
  },
  {
   "cell_type": "code",
   "execution_count": 51,
   "id": "b7fbde55-a0a1-47e4-9af6-fe4a17fa8c61",
   "metadata": {
    "execution": {
     "iopub.execute_input": "2025-08-05T21:06:17.194490Z",
     "iopub.status.busy": "2025-08-05T21:06:17.194064Z",
     "iopub.status.idle": "2025-08-05T21:06:17.198681Z",
     "shell.execute_reply": "2025-08-05T21:06:17.197682Z"
    },
    "papermill": {
     "duration": 0.029548,
     "end_time": "2025-08-05T21:06:17.200259",
     "exception": false,
     "start_time": "2025-08-05T21:06:17.170711",
     "status": "completed"
    },
    "tags": []
   },
   "outputs": [],
   "source": [
    "# Conditional Coverage & looking at subgroups"
   ]
  },
  {
   "cell_type": "code",
   "execution_count": 52,
   "id": "027ae886-68dd-4141-96c7-805a5450e1ef",
   "metadata": {
    "execution": {
     "iopub.execute_input": "2025-08-05T21:06:17.234136Z",
     "iopub.status.busy": "2025-08-05T21:06:17.233339Z",
     "iopub.status.idle": "2025-08-05T21:06:17.456871Z",
     "shell.execute_reply": "2025-08-05T21:06:17.455827Z"
    },
    "papermill": {
     "duration": 0.246209,
     "end_time": "2025-08-05T21:06:17.458884",
     "exception": false,
     "start_time": "2025-08-05T21:06:17.212675",
     "status": "completed"
    },
    "tags": []
   },
   "outputs": [],
   "source": [
    "from fairness_multiverse.conformal import build_cp_groups\n",
    "\n",
    "cp_groups_df = build_cp_groups(pred_sets, y_true, X_test.index, org_test)\n",
    "#needs universe_id and setting"
   ]
  },
  {
   "cell_type": "code",
   "execution_count": 53,
   "id": "6cbdab96-b2b2-45af-ad54-d0516db2e28d",
   "metadata": {
    "execution": {
     "iopub.execute_input": "2025-08-05T21:06:17.504458Z",
     "iopub.status.busy": "2025-08-05T21:06:17.503543Z",
     "iopub.status.idle": "2025-08-05T21:06:19.226542Z",
     "shell.execute_reply": "2025-08-05T21:06:19.225479Z"
    },
    "papermill": {
     "duration": 1.749323,
     "end_time": "2025-08-05T21:06:19.228491",
     "exception": false,
     "start_time": "2025-08-05T21:06:17.479168",
     "status": "completed"
    },
    "tags": []
   },
   "outputs": [],
   "source": [
    "# Define covered = 1 if true_label is in the predicted set\n",
    "cp_groups_df['covered'] = cp_groups_df.apply(\n",
    "    lambda r: int(r['true_label'] in r['pred_set']),\n",
    "    axis=1\n",
    ")"
   ]
  },
  {
   "cell_type": "code",
   "execution_count": 54,
   "id": "338ff529-1a6b-4b87-a931-8e4788d52aad",
   "metadata": {
    "execution": {
     "iopub.execute_input": "2025-08-05T21:06:19.278605Z",
     "iopub.status.busy": "2025-08-05T21:06:19.278133Z",
     "iopub.status.idle": "2025-08-05T21:06:19.283474Z",
     "shell.execute_reply": "2025-08-05T21:06:19.282524Z"
    },
    "papermill": {
     "duration": 0.032924,
     "end_time": "2025-08-05T21:06:19.285470",
     "exception": false,
     "start_time": "2025-08-05T21:06:19.252546",
     "status": "completed"
    },
    "tags": []
   },
   "outputs": [],
   "source": [
    "#cp_groups_df"
   ]
  },
  {
   "cell_type": "code",
   "execution_count": 55,
   "id": "90032e27-66df-4540-9169-4e89cfbaa758",
   "metadata": {
    "execution": {
     "iopub.execute_input": "2025-08-05T21:06:19.335566Z",
     "iopub.status.busy": "2025-08-05T21:06:19.334613Z",
     "iopub.status.idle": "2025-08-05T21:06:19.346711Z",
     "shell.execute_reply": "2025-08-05T21:06:19.345733Z"
    },
    "papermill": {
     "duration": 0.039431,
     "end_time": "2025-08-05T21:06:19.348534",
     "exception": false,
     "start_time": "2025-08-05T21:06:19.309103",
     "status": "completed"
    },
    "tags": []
   },
   "outputs": [],
   "source": [
    "subgroups = ['frau1','nongerman','nongerman_male','nongerman_female']\n",
    "\n",
    "# Conditional coverage for subgroup==1\n",
    "cond_coverage = {\n",
    "    g: cp_groups_df.loc[cp_groups_df[g]==1, 'covered'].mean()\n",
    "    for g in subgroups\n",
    "}"
   ]
  },
  {
   "cell_type": "code",
   "execution_count": 56,
   "id": "1e348fb1-b9c3-45bc-ba23-f016827a7e0d",
   "metadata": {
    "execution": {
     "iopub.execute_input": "2025-08-05T21:06:19.399209Z",
     "iopub.status.busy": "2025-08-05T21:06:19.398809Z",
     "iopub.status.idle": "2025-08-05T21:06:19.405806Z",
     "shell.execute_reply": "2025-08-05T21:06:19.404811Z"
    },
    "papermill": {
     "duration": 0.0351,
     "end_time": "2025-08-05T21:06:19.407820",
     "exception": false,
     "start_time": "2025-08-05T21:06:19.372720",
     "status": "completed"
    },
    "tags": []
   },
   "outputs": [
    {
     "data": {
      "text/plain": [
       "{'frau1': 0.9091521768432403,\n",
       " 'nongerman': 0.9129287598944591,\n",
       " 'nongerman_male': 0.9290281905791228,\n",
       " 'nongerman_female': 0.8862891207153503}"
      ]
     },
     "execution_count": 56,
     "metadata": {},
     "output_type": "execute_result"
    }
   ],
   "source": [
    "cond_coverage"
   ]
  },
  {
   "cell_type": "code",
   "execution_count": 57,
   "id": "f5093324-c3dd-4d63-bc4c-8d945e5c8bbb",
   "metadata": {
    "execution": {
     "iopub.execute_input": "2025-08-05T21:06:19.457573Z",
     "iopub.status.busy": "2025-08-05T21:06:19.456912Z",
     "iopub.status.idle": "2025-08-05T21:06:19.464624Z",
     "shell.execute_reply": "2025-08-05T21:06:19.463619Z"
    },
    "papermill": {
     "duration": 0.03393,
     "end_time": "2025-08-05T21:06:19.466689",
     "exception": false,
     "start_time": "2025-08-05T21:06:19.432759",
     "status": "completed"
    },
    "tags": []
   },
   "outputs": [],
   "source": [
    "for subgroup, cov in cond_coverage.items():\n",
    "    cp_metrics_df[f\"cov_{subgroup}\"] = cov"
   ]
  },
  {
   "cell_type": "code",
   "execution_count": 58,
   "id": "6e872e10-dbe5-49e8-b554-5030c98ff75d",
   "metadata": {
    "execution": {
     "iopub.execute_input": "2025-08-05T21:06:19.515785Z",
     "iopub.status.busy": "2025-08-05T21:06:19.515300Z",
     "iopub.status.idle": "2025-08-05T21:06:19.535259Z",
     "shell.execute_reply": "2025-08-05T21:06:19.534236Z"
    },
    "papermill": {
     "duration": 0.04863,
     "end_time": "2025-08-05T21:06:19.537026",
     "exception": false,
     "start_time": "2025-08-05T21:06:19.488396",
     "status": "completed"
    },
    "tags": []
   },
   "outputs": [
    {
     "data": {
      "text/html": [
       "<div>\n",
       "<style scoped>\n",
       "    .dataframe tbody tr th:only-of-type {\n",
       "        vertical-align: middle;\n",
       "    }\n",
       "\n",
       "    .dataframe tbody tr th {\n",
       "        vertical-align: top;\n",
       "    }\n",
       "\n",
       "    .dataframe thead th {\n",
       "        text-align: right;\n",
       "    }\n",
       "</style>\n",
       "<table border=\"1\" class=\"dataframe\">\n",
       "  <thead>\n",
       "    <tr style=\"text-align: right;\">\n",
       "      <th></th>\n",
       "      <th>universe_id</th>\n",
       "      <th>universe_training_year</th>\n",
       "      <th>universe_training_size</th>\n",
       "      <th>universe_scale</th>\n",
       "      <th>universe_model</th>\n",
       "      <th>universe_exclude_features</th>\n",
       "      <th>universe_exclude_subgroups</th>\n",
       "      <th>q_hat</th>\n",
       "      <th>coverage</th>\n",
       "      <th>avg_size</th>\n",
       "      <th>cov_frau1</th>\n",
       "      <th>cov_nongerman</th>\n",
       "      <th>cov_nongerman_male</th>\n",
       "      <th>cov_nongerman_female</th>\n",
       "    </tr>\n",
       "  </thead>\n",
       "  <tbody>\n",
       "    <tr>\n",
       "      <th>0</th>\n",
       "      <td>7f1cc2e4b28484658178dc22476311a3</td>\n",
       "      <td>2010_14</td>\n",
       "      <td>25k</td>\n",
       "      <td>scale</td>\n",
       "      <td>penalized_logreg</td>\n",
       "      <td>none</td>\n",
       "      <td>keep-all</td>\n",
       "      <td>0.660023</td>\n",
       "      <td>0.910489</td>\n",
       "      <td>1.125359</td>\n",
       "      <td>0.909152</td>\n",
       "      <td>0.912929</td>\n",
       "      <td>0.929028</td>\n",
       "      <td>0.886289</td>\n",
       "    </tr>\n",
       "  </tbody>\n",
       "</table>\n",
       "</div>"
      ],
      "text/plain": [
       "                        universe_id universe_training_year  \\\n",
       "0  7f1cc2e4b28484658178dc22476311a3                2010_14   \n",
       "\n",
       "  universe_training_size universe_scale    universe_model  \\\n",
       "0                    25k          scale  penalized_logreg   \n",
       "\n",
       "  universe_exclude_features universe_exclude_subgroups     q_hat  coverage  \\\n",
       "0                      none                   keep-all  0.660023  0.910489   \n",
       "\n",
       "   avg_size  cov_frau1  cov_nongerman  cov_nongerman_male  \\\n",
       "0  1.125359   0.909152       0.912929            0.929028   \n",
       "\n",
       "   cov_nongerman_female  \n",
       "0              0.886289  "
      ]
     },
     "execution_count": 58,
     "metadata": {},
     "output_type": "execute_result"
    }
   ],
   "source": [
    "cp_metrics_df"
   ]
  },
  {
   "cell_type": "markdown",
   "id": "33774451",
   "metadata": {
    "papermill": {
     "duration": 0.024938,
     "end_time": "2025-08-05T21:06:19.587336",
     "exception": false,
     "start_time": "2025-08-05T21:06:19.562398",
     "status": "completed"
    },
    "tags": []
   },
   "source": [
    "# (Fairness) Metrics"
   ]
  },
  {
   "cell_type": "code",
   "execution_count": 59,
   "id": "debc5d62",
   "metadata": {
    "execution": {
     "iopub.execute_input": "2025-08-05T21:06:19.636111Z",
     "iopub.status.busy": "2025-08-05T21:06:19.635599Z",
     "iopub.status.idle": "2025-08-05T21:06:19.658178Z",
     "shell.execute_reply": "2025-08-05T21:06:19.657222Z"
    },
    "papermill": {
     "duration": 0.049249,
     "end_time": "2025-08-05T21:06:19.660136",
     "exception": false,
     "start_time": "2025-08-05T21:06:19.610887",
     "status": "completed"
    },
    "tags": []
   },
   "outputs": [],
   "source": [
    "# do I need to include maxdeutsch1.missing?\n",
    "\n",
    "import numpy as np\n",
    "\n",
    "colname_to_bin = \"maxdeutsch1\"\n",
    "majority_value = org_train[colname_to_bin].mode()[0]\n",
    "\n",
    "org_test[\"majmin\"] = np.where(org_test[colname_to_bin] == majority_value, \"majority\", \"minority\")"
   ]
  },
  {
   "cell_type": "code",
   "execution_count": 60,
   "id": "06a50de5",
   "metadata": {
    "execution": {
     "iopub.execute_input": "2025-08-05T21:06:19.714121Z",
     "iopub.status.busy": "2025-08-05T21:06:19.713614Z",
     "iopub.status.idle": "2025-08-05T21:06:22.524749Z",
     "shell.execute_reply": "2025-08-05T21:06:22.523744Z"
    },
    "papermill": {
     "duration": 2.840437,
     "end_time": "2025-08-05T21:06:22.526286",
     "exception": false,
     "start_time": "2025-08-05T21:06:19.685849",
     "status": "completed"
    },
    "tags": []
   },
   "outputs": [],
   "source": [
    "example_universe = universe.copy()\n",
    "example_universe[\"cutoff\"] = example_universe[\"cutoff\"][0]\n",
    "example_universe[\"eval_fairness_grouping\"] = example_universe[\"eval_fairness_grouping\"][0]\n",
    "fairness_dict, metric_frame = universe_analysis.compute_metrics(\n",
    "    example_universe,\n",
    "    y_pred_prob=probs_test,\n",
    "    y_test=y_true,\n",
    "    org_test=org_test,\n",
    ")"
   ]
  },
  {
   "cell_type": "markdown",
   "id": "f95d4e02",
   "metadata": {
    "papermill": {
     "duration": 0.011453,
     "end_time": "2025-08-05T21:06:22.554101",
     "exception": false,
     "start_time": "2025-08-05T21:06:22.542648",
     "status": "completed"
    },
    "tags": []
   },
   "source": [
    "# Overall"
   ]
  },
  {
   "cell_type": "markdown",
   "id": "bdee4871",
   "metadata": {
    "papermill": {
     "duration": 0.022306,
     "end_time": "2025-08-05T21:06:22.590137",
     "exception": false,
     "start_time": "2025-08-05T21:06:22.567831",
     "status": "completed"
    },
    "tags": []
   },
   "source": [
    "Fairness\n",
    "Main fairness target: Equalized Odds. Seems to be a better fit than equal opportunity, since we're not only interested in Y = 1. Seems to be a better fit than demographic parity, since we also care about accuracy, not just equal distribution of preds.\n",
    "\n",
    "Pick column for computation of fairness metrics\n",
    "\n",
    "Performance\n",
    "Overall performance measures, most interesting in relation to the measures split by group below"
   ]
  },
  {
   "cell_type": "code",
   "execution_count": 61,
   "id": "c4e067c6",
   "metadata": {
    "execution": {
     "iopub.execute_input": "2025-08-05T21:06:22.632696Z",
     "iopub.status.busy": "2025-08-05T21:06:22.632215Z",
     "iopub.status.idle": "2025-08-05T21:06:22.641322Z",
     "shell.execute_reply": "2025-08-05T21:06:22.640105Z"
    },
    "papermill": {
     "duration": 0.033954,
     "end_time": "2025-08-05T21:06:22.643072",
     "exception": false,
     "start_time": "2025-08-05T21:06:22.609118",
     "status": "completed"
    },
    "tags": []
   },
   "outputs": [
    {
     "data": {
      "text/plain": [
       "accuracy                   0.225516\n",
       "balanced accuracy          0.551177\n",
       "f1                         0.246816\n",
       "precision                  0.140998\n",
       "false positive rate        0.886870\n",
       "false negative rate        0.010775\n",
       "selection rate             0.900000\n",
       "count                  89710.000000\n",
       "dtype: float64"
      ]
     },
     "execution_count": 61,
     "metadata": {},
     "output_type": "execute_result"
    }
   ],
   "source": [
    "metric_frame.overall"
   ]
  },
  {
   "cell_type": "markdown",
   "id": "e968fe9d",
   "metadata": {
    "papermill": {
     "duration": 0.02696,
     "end_time": "2025-08-05T21:06:22.696312",
     "exception": false,
     "start_time": "2025-08-05T21:06:22.669352",
     "status": "completed"
    },
    "tags": []
   },
   "source": [
    "By Group"
   ]
  },
  {
   "cell_type": "code",
   "execution_count": 62,
   "id": "ec325bce",
   "metadata": {
    "execution": {
     "iopub.execute_input": "2025-08-05T21:06:22.751973Z",
     "iopub.status.busy": "2025-08-05T21:06:22.751382Z",
     "iopub.status.idle": "2025-08-05T21:06:22.770730Z",
     "shell.execute_reply": "2025-08-05T21:06:22.769589Z"
    },
    "papermill": {
     "duration": 0.050338,
     "end_time": "2025-08-05T21:06:22.772465",
     "exception": false,
     "start_time": "2025-08-05T21:06:22.722127",
     "status": "completed"
    },
    "tags": []
   },
   "outputs": [
    {
     "data": {
      "text/html": [
       "<div>\n",
       "<style scoped>\n",
       "    .dataframe tbody tr th:only-of-type {\n",
       "        vertical-align: middle;\n",
       "    }\n",
       "\n",
       "    .dataframe tbody tr th {\n",
       "        vertical-align: top;\n",
       "    }\n",
       "\n",
       "    .dataframe thead th {\n",
       "        text-align: right;\n",
       "    }\n",
       "</style>\n",
       "<table border=\"1\" class=\"dataframe\">\n",
       "  <thead>\n",
       "    <tr style=\"text-align: right;\">\n",
       "      <th></th>\n",
       "      <th>accuracy</th>\n",
       "      <th>balanced accuracy</th>\n",
       "      <th>f1</th>\n",
       "      <th>precision</th>\n",
       "      <th>false positive rate</th>\n",
       "      <th>false negative rate</th>\n",
       "      <th>selection rate</th>\n",
       "      <th>count</th>\n",
       "    </tr>\n",
       "    <tr>\n",
       "      <th>majmin</th>\n",
       "      <th></th>\n",
       "      <th></th>\n",
       "      <th></th>\n",
       "      <th></th>\n",
       "      <th></th>\n",
       "      <th></th>\n",
       "      <th></th>\n",
       "      <th></th>\n",
       "    </tr>\n",
       "  </thead>\n",
       "  <tbody>\n",
       "    <tr>\n",
       "      <th>majority</th>\n",
       "      <td>0.247709</td>\n",
       "      <td>0.561621</td>\n",
       "      <td>0.257710</td>\n",
       "      <td>0.148174</td>\n",
       "      <td>0.865051</td>\n",
       "      <td>0.011707</td>\n",
       "      <td>0.881336</td>\n",
       "      <td>69170.0</td>\n",
       "    </tr>\n",
       "    <tr>\n",
       "      <th>minority</th>\n",
       "      <td>0.150779</td>\n",
       "      <td>0.516937</td>\n",
       "      <td>0.212328</td>\n",
       "      <td>0.118875</td>\n",
       "      <td>0.958948</td>\n",
       "      <td>0.007179</td>\n",
       "      <td>0.962853</td>\n",
       "      <td>20540.0</td>\n",
       "    </tr>\n",
       "  </tbody>\n",
       "</table>\n",
       "</div>"
      ],
      "text/plain": [
       "          accuracy  balanced accuracy        f1  precision  \\\n",
       "majmin                                                       \n",
       "majority  0.247709           0.561621  0.257710   0.148174   \n",
       "minority  0.150779           0.516937  0.212328   0.118875   \n",
       "\n",
       "          false positive rate  false negative rate  selection rate    count  \n",
       "majmin                                                                       \n",
       "majority             0.865051             0.011707        0.881336  69170.0  \n",
       "minority             0.958948             0.007179        0.962853  20540.0  "
      ]
     },
     "execution_count": 62,
     "metadata": {},
     "output_type": "execute_result"
    }
   ],
   "source": [
    "metric_frame.by_group"
   ]
  },
  {
   "cell_type": "code",
   "execution_count": 63,
   "id": "a9ddbe63",
   "metadata": {
    "execution": {
     "iopub.execute_input": "2025-08-05T21:06:22.826613Z",
     "iopub.status.busy": "2025-08-05T21:06:22.825938Z",
     "iopub.status.idle": "2025-08-05T21:06:25.740547Z",
     "shell.execute_reply": "2025-08-05T21:06:25.739514Z"
    },
    "papermill": {
     "duration": 2.944196,
     "end_time": "2025-08-05T21:06:25.742438",
     "exception": false,
     "start_time": "2025-08-05T21:06:22.798242",
     "status": "completed"
    },
    "tags": []
   },
   "outputs": [
    {
     "data": {
      "text/plain": [
       "array([[<Axes: title={'center': 'accuracy'}, xlabel='majmin'>,\n",
       "        <Axes: title={'center': 'balanced accuracy'}, xlabel='majmin'>,\n",
       "        <Axes: title={'center': 'f1'}, xlabel='majmin'>],\n",
       "       [<Axes: title={'center': 'precision'}, xlabel='majmin'>,\n",
       "        <Axes: title={'center': 'false positive rate'}, xlabel='majmin'>,\n",
       "        <Axes: title={'center': 'false negative rate'}, xlabel='majmin'>],\n",
       "       [<Axes: title={'center': 'selection rate'}, xlabel='majmin'>,\n",
       "        <Axes: title={'center': 'count'}, xlabel='majmin'>,\n",
       "        <Axes: xlabel='majmin'>]], dtype=object)"
      ]
     },
     "execution_count": 63,
     "metadata": {},
     "output_type": "execute_result"
    },
    {
     "data": {
      "image/png": "[encoded data removed]",
      "text/plain": [
       "<Figure size 1200x800 with 9 Axes>"
      ]
     },
     "metadata": {},
     "output_type": "display_data"
    }
   ],
   "source": [
    "# In a graphic\n",
    "metric_frame.by_group.plot.bar(\n",
    "    subplots=True,\n",
    "    layout=[3, 3],\n",
    "    legend=False,\n",
    "    figsize=[12, 8],\n",
    "    title=\"Show all metrics\",\n",
    ")"
   ]
  },
  {
   "cell_type": "markdown",
   "id": "f57a0bac",
   "metadata": {
    "papermill": {
     "duration": 0.013304,
     "end_time": "2025-08-05T21:06:25.772494",
     "exception": false,
     "start_time": "2025-08-05T21:06:25.759190",
     "status": "completed"
    },
    "tags": []
   },
   "source": [
    "# Final Output"
   ]
  },
  {
   "cell_type": "code",
   "execution_count": 64,
   "id": "96d280a3",
   "metadata": {
    "execution": {
     "iopub.execute_input": "2025-08-05T21:06:25.800427Z",
     "iopub.status.busy": "2025-08-05T21:06:25.799812Z",
     "iopub.status.idle": "2025-08-05T21:06:25.809616Z",
     "shell.execute_reply": "2025-08-05T21:06:25.808350Z"
    },
    "papermill": {
     "duration": 0.026294,
     "end_time": "2025-08-05T21:06:25.811541",
     "exception": false,
     "start_time": "2025-08-05T21:06:25.785247",
     "status": "completed"
    },
    "tags": []
   },
   "outputs": [
    {
     "data": {
      "text/plain": [
       "4"
      ]
     },
     "execution_count": 64,
     "metadata": {},
     "output_type": "execute_result"
    }
   ],
   "source": [
    "sub_universes = universe_analysis.generate_sub_universes()\n",
    "len(sub_universes)"
   ]
  },
  {
   "cell_type": "code",
   "execution_count": 65,
   "id": "92adf7ba",
   "metadata": {
    "execution": {
     "iopub.execute_input": "2025-08-05T21:06:25.880338Z",
     "iopub.status.busy": "2025-08-05T21:06:25.879479Z",
     "iopub.status.idle": "2025-08-05T21:06:25.886461Z",
     "shell.execute_reply": "2025-08-05T21:06:25.885201Z"
    },
    "papermill": {
     "duration": 0.044828,
     "end_time": "2025-08-05T21:06:25.888559",
     "exception": false,
     "start_time": "2025-08-05T21:06:25.843731",
     "status": "completed"
    },
    "tags": []
   },
   "outputs": [],
   "source": [
    "def filter_sub_universe_data(sub_universe, org_test):\n",
    "    # Keep all rows — no filtering\n",
    "    keep_rows_mask = np.ones(org_test.shape[0], dtype=bool)\n",
    "\n",
    "    print(f\"[INFO] Keeping all rows: {keep_rows_mask.sum()} rows retained.\")\n",
    "    return keep_rows_mask"
   ]
  },
  {
   "cell_type": "code",
   "execution_count": 66,
   "id": "4a759155",
   "metadata": {
    "execution": {
     "iopub.execute_input": "2025-08-05T21:06:25.967911Z",
     "iopub.status.busy": "2025-08-05T21:06:25.967050Z",
     "iopub.status.idle": "2025-08-05T21:06:34.771051Z",
     "shell.execute_reply": "2025-08-05T21:06:34.770111Z"
    },
    "papermill": {
     "duration": 8.852759,
     "end_time": "2025-08-05T21:06:34.772665",
     "exception": false,
     "start_time": "2025-08-05T21:06:25.919906",
     "status": "completed"
    },
    "tags": []
   },
   "outputs": [
    {
     "name": "stdout",
     "output_type": "stream",
     "text": [
      "Stopping execution_time clock.\n",
      "[INFO] Keeping all rows: 89710 rows retained.\n"
     ]
    },
    {
     "name": "stdout",
     "output_type": "stream",
     "text": [
      "[INFO] Keeping all rows: 89710 rows retained.\n"
     ]
    },
    {
     "name": "stdout",
     "output_type": "stream",
     "text": [
      "[INFO] Keeping all rows: 89710 rows retained.\n"
     ]
    },
    {
     "name": "stdout",
     "output_type": "stream",
     "text": [
      "[INFO] Keeping all rows: 89710 rows retained.\n"
     ]
    },
    {
     "data": {
      "text/html": [
       "<div>\n",
       "<style scoped>\n",
       "    .dataframe tbody tr th:only-of-type {\n",
       "        vertical-align: middle;\n",
       "    }\n",
       "\n",
       "    .dataframe tbody tr th {\n",
       "        vertical-align: top;\n",
       "    }\n",
       "\n",
       "    .dataframe thead th {\n",
       "        text-align: right;\n",
       "    }\n",
       "</style>\n",
       "<table border=\"1\" class=\"dataframe\">\n",
       "  <thead>\n",
       "    <tr style=\"text-align: right;\">\n",
       "      <th></th>\n",
       "      <th>run_no</th>\n",
       "      <th>universe_id</th>\n",
       "      <th>universe_settings</th>\n",
       "      <th>execution_time</th>\n",
       "      <th>test_size_n</th>\n",
       "      <th>test_size_frac</th>\n",
       "      <th>fair_main_equalized_odds_difference</th>\n",
       "      <th>fair_main_equalized_odds_ratio</th>\n",
       "      <th>fair_main_demographic_parity_difference</th>\n",
       "      <th>fair_main_demographic_parity_ratio</th>\n",
       "      <th>...</th>\n",
       "      <th>perf_grp_precision_0</th>\n",
       "      <th>perf_grp_precision_1</th>\n",
       "      <th>perf_grp_false positive rate_0</th>\n",
       "      <th>perf_grp_false positive rate_1</th>\n",
       "      <th>perf_grp_false negative rate_0</th>\n",
       "      <th>perf_grp_false negative rate_1</th>\n",
       "      <th>perf_grp_selection rate_0</th>\n",
       "      <th>perf_grp_selection rate_1</th>\n",
       "      <th>perf_grp_count_0</th>\n",
       "      <th>perf_grp_count_1</th>\n",
       "    </tr>\n",
       "  </thead>\n",
       "  <tbody>\n",
       "    <tr>\n",
       "      <th>0</th>\n",
       "      <td>16</td>\n",
       "      <td>7f1cc2e4b28484658178dc22476311a3</td>\n",
       "      <td>{\"cutoff\": \"quantile_0.1\", \"eval_fairness_grou...</td>\n",
       "      <td>26.610335</td>\n",
       "      <td>89710</td>\n",
       "      <td>1.0</td>\n",
       "      <td>0.093897</td>\n",
       "      <td>0.902083</td>\n",
       "      <td>0.081517</td>\n",
       "      <td>0.915338</td>\n",
       "      <td>...</td>\n",
       "      <td>NaN</td>\n",
       "      <td>NaN</td>\n",
       "      <td>NaN</td>\n",
       "      <td>NaN</td>\n",
       "      <td>NaN</td>\n",
       "      <td>NaN</td>\n",
       "      <td>NaN</td>\n",
       "      <td>NaN</td>\n",
       "      <td>NaN</td>\n",
       "      <td>NaN</td>\n",
       "    </tr>\n",
       "    <tr>\n",
       "      <th>0</th>\n",
       "      <td>16</td>\n",
       "      <td>7f1cc2e4b28484658178dc22476311a3</td>\n",
       "      <td>{\"cutoff\": \"quantile_0.1\", \"eval_fairness_grou...</td>\n",
       "      <td>26.610335</td>\n",
       "      <td>89710</td>\n",
       "      <td>1.0</td>\n",
       "      <td>0.093897</td>\n",
       "      <td>0.902083</td>\n",
       "      <td>0.081517</td>\n",
       "      <td>0.915338</td>\n",
       "      <td>...</td>\n",
       "      <td>0.118875</td>\n",
       "      <td>0.148174</td>\n",
       "      <td>0.958948</td>\n",
       "      <td>0.865051</td>\n",
       "      <td>0.007179</td>\n",
       "      <td>0.011707</td>\n",
       "      <td>0.962853</td>\n",
       "      <td>0.881336</td>\n",
       "      <td>20540.0</td>\n",
       "      <td>69170.0</td>\n",
       "    </tr>\n",
       "    <tr>\n",
       "      <th>0</th>\n",
       "      <td>16</td>\n",
       "      <td>7f1cc2e4b28484658178dc22476311a3</td>\n",
       "      <td>{\"cutoff\": \"quantile_0.25\", \"eval_fairness_gro...</td>\n",
       "      <td>26.610335</td>\n",
       "      <td>89710</td>\n",
       "      <td>1.0</td>\n",
       "      <td>0.170213</td>\n",
       "      <td>0.800005</td>\n",
       "      <td>0.148111</td>\n",
       "      <td>0.828618</td>\n",
       "      <td>...</td>\n",
       "      <td>NaN</td>\n",
       "      <td>NaN</td>\n",
       "      <td>NaN</td>\n",
       "      <td>NaN</td>\n",
       "      <td>NaN</td>\n",
       "      <td>NaN</td>\n",
       "      <td>NaN</td>\n",
       "      <td>NaN</td>\n",
       "      <td>NaN</td>\n",
       "      <td>NaN</td>\n",
       "    </tr>\n",
       "    <tr>\n",
       "      <th>0</th>\n",
       "      <td>16</td>\n",
       "      <td>7f1cc2e4b28484658178dc22476311a3</td>\n",
       "      <td>{\"cutoff\": \"quantile_0.25\", \"eval_fairness_gro...</td>\n",
       "      <td>26.610335</td>\n",
       "      <td>89710</td>\n",
       "      <td>1.0</td>\n",
       "      <td>0.170213</td>\n",
       "      <td>0.800005</td>\n",
       "      <td>0.148111</td>\n",
       "      <td>0.828618</td>\n",
       "      <td>...</td>\n",
       "      <td>0.128725</td>\n",
       "      <td>0.174833</td>\n",
       "      <td>0.851090</td>\n",
       "      <td>0.680876</td>\n",
       "      <td>0.035051</td>\n",
       "      <td>0.052516</td>\n",
       "      <td>0.864216</td>\n",
       "      <td>0.716105</td>\n",
       "      <td>20540.0</td>\n",
       "      <td>69170.0</td>\n",
       "    </tr>\n",
       "  </tbody>\n",
       "</table>\n",
       "<p>4 rows × 50 columns</p>\n",
       "</div>"
      ],
      "text/plain": [
       "  run_no                       universe_id  \\\n",
       "0     16  7f1cc2e4b28484658178dc22476311a3   \n",
       "0     16  7f1cc2e4b28484658178dc22476311a3   \n",
       "0     16  7f1cc2e4b28484658178dc22476311a3   \n",
       "0     16  7f1cc2e4b28484658178dc22476311a3   \n",
       "\n",
       "                                   universe_settings  execution_time  \\\n",
       "0  {\"cutoff\": \"quantile_0.1\", \"eval_fairness_grou...       26.610335   \n",
       "0  {\"cutoff\": \"quantile_0.1\", \"eval_fairness_grou...       26.610335   \n",
       "0  {\"cutoff\": \"quantile_0.25\", \"eval_fairness_gro...       26.610335   \n",
       "0  {\"cutoff\": \"quantile_0.25\", \"eval_fairness_gro...       26.610335   \n",
       "\n",
       "   test_size_n  test_size_frac  fair_main_equalized_odds_difference  \\\n",
       "0        89710             1.0                             0.093897   \n",
       "0        89710             1.0                             0.093897   \n",
       "0        89710             1.0                             0.170213   \n",
       "0        89710             1.0                             0.170213   \n",
       "\n",
       "   fair_main_equalized_odds_ratio  fair_main_demographic_parity_difference  \\\n",
       "0                        0.902083                                 0.081517   \n",
       "0                        0.902083                                 0.081517   \n",
       "0                        0.800005                                 0.148111   \n",
       "0                        0.800005                                 0.148111   \n",
       "\n",
       "   fair_main_demographic_parity_ratio  ...  perf_grp_precision_0  \\\n",
       "0                            0.915338  ...                   NaN   \n",
       "0                            0.915338  ...              0.118875   \n",
       "0                            0.828618  ...                   NaN   \n",
       "0                            0.828618  ...              0.128725   \n",
       "\n",
       "   perf_grp_precision_1  perf_grp_false positive rate_0  \\\n",
       "0                   NaN                             NaN   \n",
       "0              0.148174                        0.958948   \n",
       "0                   NaN                             NaN   \n",
       "0              0.174833                        0.851090   \n",
       "\n",
       "   perf_grp_false positive rate_1  perf_grp_false negative rate_0  \\\n",
       "0                             NaN                             NaN   \n",
       "0                        0.865051                        0.007179   \n",
       "0                             NaN                             NaN   \n",
       "0                        0.680876                        0.035051   \n",
       "\n",
       "   perf_grp_false negative rate_1  perf_grp_selection rate_0  \\\n",
       "0                             NaN                        NaN   \n",
       "0                        0.011707                   0.962853   \n",
       "0                             NaN                        NaN   \n",
       "0                        0.052516                   0.864216   \n",
       "\n",
       "   perf_grp_selection rate_1  perf_grp_count_0  perf_grp_count_1  \n",
       "0                        NaN               NaN               NaN  \n",
       "0                   0.881336           20540.0           69170.0  \n",
       "0                        NaN               NaN               NaN  \n",
       "0                   0.716105           20540.0           69170.0  \n",
       "\n",
       "[4 rows x 50 columns]"
      ]
     },
     "execution_count": 66,
     "metadata": {},
     "output_type": "execute_result"
    }
   ],
   "source": [
    "final_output = universe_analysis.generate_final_output(\n",
    "    y_pred_prob=probs_test,\n",
    "    y_test=y_true,\n",
    "    org_test=org_test,\n",
    "    filter_data=filter_sub_universe_data,\n",
    "    cp_metrics_df=cp_metrics_df,\n",
    "    save=True,\n",
    ")\n",
    "final_output"
   ]
  }
 ],
 "metadata": {
  "celltoolbar": "Tags",
  "kernelspec": {
   "display_name": "Python (CMA Fairness)",
   "language": "python",
   "name": "cma_fair_env"
  },
  "language_info": {
   "codemirror_mode": {
    "name": "ipython",
    "version": 3
   },
   "file_extension": ".py",
   "mimetype": "text/x-python",
   "name": "python",
   "nbconvert_exporter": "python",
   "pygments_lexer": "ipython3",
   "version": "3.10.12"
  },
  "papermill": {
   "default_parameters": {},
   "duration": 39.556471,
   "end_time": "2025-08-05T21:06:35.518385",
   "environment_variables": {},
   "exception": null,
   "input_path": "universe_analysis.ipynb",
   "output_path": "output/runs/16/notebooks/m_16-7f1cc2e4b28484658178dc22476311a3.ipynb",
   "parameters": {
    "output_dir": "output",
    "run_no": "16",
    "seed": "2023",
    "universe": "{\"cutoff\": [\"quantile_0.1\", \"quantile_0.25\"], \"eval_fairness_grouping\": [\"majority-minority\", \"nationality-all\"], \"exclude_features\": \"none\", \"exclude_subgroups\": \"keep-all\", \"model\": \"penalized_logreg\", \"scale\": \"scale\", \"training_size\": \"25k\", \"training_year\": \"2010_14\"}",
    "universe_id": "7f1cc2e4b28484658178dc22476311a3"
   },
   "start_time": "2025-08-05T21:05:55.961914",
   "version": "2.6.0"
  }
 },
 "nbformat": 4,
 "nbformat_minor": 5
}