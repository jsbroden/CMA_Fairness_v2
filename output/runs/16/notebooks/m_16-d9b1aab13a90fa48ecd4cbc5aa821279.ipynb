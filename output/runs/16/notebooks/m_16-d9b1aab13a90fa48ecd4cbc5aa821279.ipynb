{
 "cells": [
  {
   "cell_type": "code",
   "execution_count": 1,
   "id": "f159f837-637b-42ba-96b5-ec9a68c44524",
   "metadata": {
    "execution": {
     "iopub.execute_input": "2025-08-05T20:52:19.081197Z",
     "iopub.status.busy": "2025-08-05T20:52:19.080704Z",
     "iopub.status.idle": "2025-08-05T20:52:19.093728Z",
     "shell.execute_reply": "2025-08-05T20:52:19.092729Z"
    },
    "papermill": {
     "duration": 0.033767,
     "end_time": "2025-08-05T20:52:19.095617",
     "exception": false,
     "start_time": "2025-08-05T20:52:19.061850",
     "status": "completed"
    },
    "tags": []
   },
   "outputs": [
    {
     "name": "stdout",
     "output_type": "stream",
     "text": [
      "/dss/dsshome1/0C/ra93lal2/cma/CMA_Fairness_v2\n"
     ]
    },
    {
     "name": "stderr",
     "output_type": "stream",
     "text": [
      "/dss/dsshome1/0C/ra93lal2/.local/share/virtualenvs/CMA_Fairness_v2-3j10GkSs/lib/python3.10/site-packages/IPython/core/magics/osm.py:393: UserWarning: This is now an optional IPython functionality, using bookmarks requires you to install the `pickleshare` library.\n",
      "  bkms = self.shell.db.get('bookmarks', {})\n",
      "/dss/dsshome1/0C/ra93lal2/.local/share/virtualenvs/CMA_Fairness_v2-3j10GkSs/lib/python3.10/site-packages/IPython/core/magics/osm.py:417: UserWarning: This is now an optional IPython functionality, setting dhist requires you to install the `pickleshare` library.\n",
      "  self.shell.db['dhist'] = compress_dhist(dhist)[-100:]\n"
     ]
    }
   ],
   "source": [
    "%cd ~/cma/CMA_Fairness_v2"
   ]
  },
  {
   "cell_type": "markdown",
   "id": "de2603b9",
   "metadata": {
    "papermill": {
     "duration": 0.016212,
     "end_time": "2025-08-05T20:52:19.129834",
     "exception": false,
     "start_time": "2025-08-05T20:52:19.113622",
     "status": "completed"
    },
    "tags": []
   },
   "source": [
    "The following cell holds the definition of our parameters, these values can be overriden by rendering the with e.g. the following command:\n",
    "\n",
    "papermill -p alpha 0.2 -p ratio 0.3 universe_analysis.ipynb output/test_run.ipynb"
   ]
  },
  {
   "cell_type": "code",
   "execution_count": 2,
   "id": "a80968a0-40bb-4fa9-85ef-2d5eefb01975",
   "metadata": {
    "execution": {
     "iopub.execute_input": "2025-08-05T20:52:19.164433Z",
     "iopub.status.busy": "2025-08-05T20:52:19.164026Z",
     "iopub.status.idle": "2025-08-05T20:52:19.169417Z",
     "shell.execute_reply": "2025-08-05T20:52:19.168292Z"
    },
    "papermill": {
     "duration": 0.024585,
     "end_time": "2025-08-05T20:52:19.171250",
     "exception": false,
     "start_time": "2025-08-05T20:52:19.146665",
     "status": "completed"
    },
    "tags": []
   },
   "outputs": [
    {
     "name": "stdout",
     "output_type": "stream",
     "text": [
      "Current working directory: /dss/dsshome1/0C/ra93lal2/cma/CMA_Fairness_v2\n"
     ]
    }
   ],
   "source": [
    "import os\n",
    "print(\"Current working directory:\", os.getcwd())"
   ]
  },
  {
   "cell_type": "code",
   "execution_count": 3,
   "id": "2dce4c03",
   "metadata": {
    "execution": {
     "iopub.execute_input": "2025-08-05T20:52:19.206320Z",
     "iopub.status.busy": "2025-08-05T20:52:19.205772Z",
     "iopub.status.idle": "2025-08-05T20:52:19.211826Z",
     "shell.execute_reply": "2025-08-05T20:52:19.210881Z"
    },
    "papermill": {
     "duration": 0.024985,
     "end_time": "2025-08-05T20:52:19.213609",
     "exception": false,
     "start_time": "2025-08-05T20:52:19.188624",
     "status": "completed"
    },
    "tags": [
     "parameters"
    ]
   },
   "outputs": [],
   "source": [
    "run_no = 0\n",
    "universe_id = \"test\"\n",
    "universe = {\n",
    "    \"training_size\": \"25k\", # \"25k\", \"5k\", \"1k\"\n",
    "    \"training_year\": \"2014\", # \"2014\", \"2012_14\", \"2010_14\"\n",
    "    \"scale\": \"scale\", # \"scale\", \"do-not-scale\",\n",
    "    \"model\": \"elasticnet\", # \"logreg\", \"penalized_logreg\", \"rf\", \"gbm\", \"elasticnet\"\n",
    "    \"cutoff\": [\"quantile_0.15\", \"quantile_0.30\"],\n",
    "    \"exclude_features\": \"age\", # \"none\", \"nationality\", \"sex\", \"nationality-sex\", \"age\"\n",
    "    \"exclude_subgroups\": \"keep-all\", # \"keep-all\", \"drop-non-german\"\n",
    "    \"eval_fairness_grouping\": [\"majority-minority\", \"nationality-all\"]\n",
    "}\n",
    "\n",
    "output_dir=\"./output\"\n",
    "seed=0"
   ]
  },
  {
   "cell_type": "code",
   "execution_count": 4,
   "id": "2d7e0788",
   "metadata": {
    "execution": {
     "iopub.execute_input": "2025-08-05T20:52:19.249821Z",
     "iopub.status.busy": "2025-08-05T20:52:19.249043Z",
     "iopub.status.idle": "2025-08-05T20:52:19.254442Z",
     "shell.execute_reply": "2025-08-05T20:52:19.253421Z"
    },
    "papermill": {
     "duration": 0.025971,
     "end_time": "2025-08-05T20:52:19.256456",
     "exception": false,
     "start_time": "2025-08-05T20:52:19.230485",
     "status": "completed"
    },
    "tags": [
     "injected-parameters"
    ]
   },
   "outputs": [],
   "source": [
    "# Parameters\n",
    "universe_id = \"d9b1aab13a90fa48ecd4cbc5aa821279\"\n",
    "run_no = \"16\"\n",
    "universe = \"{\\\"cutoff\\\": [\\\"quantile_0.1\\\", \\\"quantile_0.25\\\"], \\\"eval_fairness_grouping\\\": [\\\"majority-minority\\\", \\\"nationality-all\\\"], \\\"exclude_features\\\": \\\"nationality-sex\\\", \\\"exclude_subgroups\\\": \\\"drop-non-german\\\", \\\"model\\\": \\\"rf\\\", \\\"scale\\\": \\\"scale\\\", \\\"training_size\\\": \\\"25k\\\", \\\"training_year\\\": \\\"2012_14\\\"}\"\n",
    "output_dir = \"output\"\n",
    "seed = \"2023\"\n"
   ]
  },
  {
   "cell_type": "code",
   "execution_count": 5,
   "id": "1650acaf",
   "metadata": {
    "execution": {
     "iopub.execute_input": "2025-08-05T20:52:19.291906Z",
     "iopub.status.busy": "2025-08-05T20:52:19.291399Z",
     "iopub.status.idle": "2025-08-05T20:52:19.296340Z",
     "shell.execute_reply": "2025-08-05T20:52:19.295416Z"
    },
    "papermill": {
     "duration": 0.02492,
     "end_time": "2025-08-05T20:52:19.298202",
     "exception": false,
     "start_time": "2025-08-05T20:52:19.273282",
     "status": "completed"
    },
    "tags": []
   },
   "outputs": [],
   "source": [
    "import json\n",
    "if isinstance(universe, str):\n",
    "    universe = json.loads(universe)"
   ]
  },
  {
   "cell_type": "code",
   "execution_count": 6,
   "id": "16620c48",
   "metadata": {
    "execution": {
     "iopub.execute_input": "2025-08-05T20:52:19.333908Z",
     "iopub.status.busy": "2025-08-05T20:52:19.333264Z",
     "iopub.status.idle": "2025-08-05T20:52:19.378358Z",
     "shell.execute_reply": "2025-08-05T20:52:19.377427Z"
    },
    "papermill": {
     "duration": 0.064551,
     "end_time": "2025-08-05T20:52:19.380106",
     "exception": false,
     "start_time": "2025-08-05T20:52:19.315555",
     "status": "completed"
    },
    "tags": []
   },
   "outputs": [],
   "source": [
    "# Auto-reload the custom package\n",
    "%load_ext autoreload\n",
    "%autoreload 1\n",
    "%aimport fairness_multiverse"
   ]
  },
  {
   "cell_type": "code",
   "execution_count": 7,
   "id": "01c5c9f3",
   "metadata": {
    "execution": {
     "iopub.execute_input": "2025-08-05T20:52:19.415821Z",
     "iopub.status.busy": "2025-08-05T20:52:19.415065Z",
     "iopub.status.idle": "2025-08-05T20:52:21.354688Z",
     "shell.execute_reply": "2025-08-05T20:52:21.353615Z"
    },
    "papermill": {
     "duration": 1.959061,
     "end_time": "2025-08-05T20:52:21.356636",
     "exception": false,
     "start_time": "2025-08-05T20:52:19.397575",
     "status": "completed"
    },
    "tags": []
   },
   "outputs": [],
   "source": [
    "from fairness_multiverse.universe import UniverseAnalysis\n",
    "\n",
    "universe_analysis = UniverseAnalysis(\n",
    "    run_no = run_no,\n",
    "    universe_id = universe_id,\n",
    "    universe = universe,\n",
    "    output_dir=output_dir,\n",
    ")"
   ]
  },
  {
   "cell_type": "code",
   "execution_count": 8,
   "id": "106241f5",
   "metadata": {
    "execution": {
     "iopub.execute_input": "2025-08-05T20:52:21.391923Z",
     "iopub.status.busy": "2025-08-05T20:52:21.391017Z",
     "iopub.status.idle": "2025-08-05T20:52:21.397937Z",
     "shell.execute_reply": "2025-08-05T20:52:21.396774Z"
    },
    "papermill": {
     "duration": 0.025947,
     "end_time": "2025-08-05T20:52:21.399994",
     "exception": false,
     "start_time": "2025-08-05T20:52:21.374047",
     "status": "completed"
    },
    "tags": []
   },
   "outputs": [
    {
     "name": "stdout",
     "output_type": "stream",
     "text": [
      "Using Seed: 2023\n"
     ]
    }
   ],
   "source": [
    "import numpy as np\n",
    "parsed_seed = int(seed)\n",
    "np.random.seed(parsed_seed)\n",
    "print(f\"Using Seed: {parsed_seed}\")"
   ]
  },
  {
   "cell_type": "markdown",
   "id": "e0ebdc57",
   "metadata": {
    "papermill": {
     "duration": 0.017746,
     "end_time": "2025-08-05T20:52:21.436598",
     "exception": false,
     "start_time": "2025-08-05T20:52:21.418852",
     "status": "completed"
    },
    "tags": []
   },
   "source": [
    "# Loading Data"
   ]
  },
  {
   "cell_type": "code",
   "execution_count": 9,
   "id": "f0496b8a",
   "metadata": {
    "execution": {
     "iopub.execute_input": "2025-08-05T20:52:21.470535Z",
     "iopub.status.busy": "2025-08-05T20:52:21.469839Z",
     "iopub.status.idle": "2025-08-05T20:52:33.134214Z",
     "shell.execute_reply": "2025-08-05T20:52:33.133037Z"
    },
    "papermill": {
     "duration": 11.683169,
     "end_time": "2025-08-05T20:52:33.135919",
     "exception": false,
     "start_time": "2025-08-05T20:52:21.452750",
     "status": "completed"
    },
    "tags": []
   },
   "outputs": [
    {
     "name": "stdout",
     "output_type": "stream",
     "text": [
      "Loading SIAB data from cache: data/siab_cached.csv.gz\n"
     ]
    },
    {
     "name": "stdout",
     "output_type": "stream",
     "text": [
      "(643690, 164)\n"
     ]
    }
   ],
   "source": [
    "from pathlib import Path\n",
    "import pandas as pd\n",
    "\n",
    "# File paths\n",
    "raw_file = Path(\"data/raw/siab.csv\")\n",
    "cache_file = Path(\"data/siab_cached.csv.gz\")\n",
    "\n",
    "# Ensure cache directory exists\n",
    "cache_file.parent.mkdir(parents=True, exist_ok=True)\n",
    "\n",
    "# Load with simple caching\n",
    "if cache_file.exists():\n",
    "    print(f\"Loading SIAB data from cache: {cache_file}\")\n",
    "    siab = pd.read_csv(cache_file, compression='gzip')\n",
    "else:\n",
    "    print(f\"Cache not found. Reading raw SIAB data: {raw_file}\")\n",
    "    siab = pd.read_csv(raw_file)\n",
    "    siab.to_csv(cache_file, index=False, compression='gzip')\n",
    "    print(f\"Cached SIAB data to: {cache_file}\")\n",
    "\n",
    "print(siab.shape)"
   ]
  },
  {
   "cell_type": "code",
   "execution_count": 10,
   "id": "db0ca512-5f53-4dba-abdb-a2888bca41ba",
   "metadata": {
    "execution": {
     "iopub.execute_input": "2025-08-05T20:52:33.175549Z",
     "iopub.status.busy": "2025-08-05T20:52:33.174808Z",
     "iopub.status.idle": "2025-08-05T20:52:33.180685Z",
     "shell.execute_reply": "2025-08-05T20:52:33.179716Z"
    },
    "papermill": {
     "duration": 0.02646,
     "end_time": "2025-08-05T20:52:33.182368",
     "exception": false,
     "start_time": "2025-08-05T20:52:33.155908",
     "status": "completed"
    },
    "tags": []
   },
   "outputs": [],
   "source": [
    "#siab"
   ]
  },
  {
   "cell_type": "markdown",
   "id": "997051c5-15bd-4b69-9786-c3001a3ce484",
   "metadata": {
    "papermill": {
     "duration": 0.017622,
     "end_time": "2025-08-05T20:52:33.217287",
     "exception": false,
     "start_time": "2025-08-05T20:52:33.199665",
     "status": "completed"
    },
    "tags": []
   },
   "source": [
    "# Splitting Data and Setting Training Data Size"
   ]
  },
  {
   "cell_type": "code",
   "execution_count": 11,
   "id": "aea9c6ef-6f46-42c8-85eb-5a62025c1508",
   "metadata": {
    "execution": {
     "iopub.execute_input": "2025-08-05T20:52:33.254116Z",
     "iopub.status.busy": "2025-08-05T20:52:33.253411Z",
     "iopub.status.idle": "2025-08-05T20:52:33.918862Z",
     "shell.execute_reply": "2025-08-05T20:52:33.917871Z"
    },
    "papermill": {
     "duration": 0.685567,
     "end_time": "2025-08-05T20:52:33.920476",
     "exception": false,
     "start_time": "2025-08-05T20:52:33.234909",
     "status": "completed"
    },
    "tags": []
   },
   "outputs": [],
   "source": [
    "from fairness_multiverse.universe import sample_by_year_size\n",
    "\n",
    "siab_train = sample_by_year_size(siab,\n",
    "                               training_year=universe[\"training_year\"],\n",
    "                               training_size=universe[\"training_size\"])"
   ]
  },
  {
   "cell_type": "code",
   "execution_count": 12,
   "id": "8d3afb32-789d-442c-8d5d-9f5aa8dd2eed",
   "metadata": {
    "execution": {
     "iopub.execute_input": "2025-08-05T20:52:33.956790Z",
     "iopub.status.busy": "2025-08-05T20:52:33.956088Z",
     "iopub.status.idle": "2025-08-05T20:52:33.961689Z",
     "shell.execute_reply": "2025-08-05T20:52:33.960686Z"
    },
    "papermill": {
     "duration": 0.026136,
     "end_time": "2025-08-05T20:52:33.963478",
     "exception": false,
     "start_time": "2025-08-05T20:52:33.937342",
     "status": "completed"
    },
    "tags": []
   },
   "outputs": [],
   "source": [
    "#siab_train.shape"
   ]
  },
  {
   "cell_type": "code",
   "execution_count": 13,
   "id": "d582db68-1a4c-47fb-84fc-08518dc1975a",
   "metadata": {
    "execution": {
     "iopub.execute_input": "2025-08-05T20:52:34.001417Z",
     "iopub.status.busy": "2025-08-05T20:52:34.000941Z",
     "iopub.status.idle": "2025-08-05T20:52:34.006218Z",
     "shell.execute_reply": "2025-08-05T20:52:34.005075Z"
    },
    "papermill": {
     "duration": 0.02576,
     "end_time": "2025-08-05T20:52:34.008148",
     "exception": false,
     "start_time": "2025-08-05T20:52:33.982388",
     "status": "completed"
    },
    "tags": []
   },
   "outputs": [],
   "source": [
    "#display(siab_train.groupby(\"year\").size())"
   ]
  },
  {
   "cell_type": "code",
   "execution_count": 14,
   "id": "a561edb4-d032-42cb-8256-22eac1111c64",
   "metadata": {
    "execution": {
     "iopub.execute_input": "2025-08-05T20:52:34.048572Z",
     "iopub.status.busy": "2025-08-05T20:52:34.047651Z",
     "iopub.status.idle": "2025-08-05T20:52:34.294669Z",
     "shell.execute_reply": "2025-08-05T20:52:34.293722Z"
    },
    "papermill": {
     "duration": 0.268272,
     "end_time": "2025-08-05T20:52:34.296599",
     "exception": false,
     "start_time": "2025-08-05T20:52:34.028327",
     "status": "completed"
    },
    "tags": []
   },
   "outputs": [],
   "source": [
    "#siab_train = siab_s[siab_s.year < 2015]\n",
    "siab_calib = siab[siab.year == 2015]\n",
    "siab_test = siab[siab.year == 2016]"
   ]
  },
  {
   "cell_type": "code",
   "execution_count": 15,
   "id": "472de16f-c3db-4916-846b-1f0de9cf1746",
   "metadata": {
    "execution": {
     "iopub.execute_input": "2025-08-05T20:52:34.336770Z",
     "iopub.status.busy": "2025-08-05T20:52:34.335897Z",
     "iopub.status.idle": "2025-08-05T20:52:34.350859Z",
     "shell.execute_reply": "2025-08-05T20:52:34.349745Z"
    },
    "papermill": {
     "duration": 0.034838,
     "end_time": "2025-08-05T20:52:34.352866",
     "exception": false,
     "start_time": "2025-08-05T20:52:34.318028",
     "status": "completed"
    },
    "tags": []
   },
   "outputs": [],
   "source": [
    "X_train = siab_train.iloc[:,4:164]\n",
    "y_train = siab_train.iloc[:, [3]]"
   ]
  },
  {
   "cell_type": "code",
   "execution_count": 16,
   "id": "828c96af-f43a-4ed6-ba47-8ac73a47d56c",
   "metadata": {
    "execution": {
     "iopub.execute_input": "2025-08-05T20:52:34.391090Z",
     "iopub.status.busy": "2025-08-05T20:52:34.390564Z",
     "iopub.status.idle": "2025-08-05T20:52:34.445179Z",
     "shell.execute_reply": "2025-08-05T20:52:34.444274Z"
    },
    "papermill": {
     "duration": 0.076361,
     "end_time": "2025-08-05T20:52:34.447142",
     "exception": false,
     "start_time": "2025-08-05T20:52:34.370781",
     "status": "completed"
    },
    "tags": []
   },
   "outputs": [],
   "source": [
    "X_calib = siab_calib.iloc[:,4:164]\n",
    "y_calib = siab_calib.iloc[:, [3]]"
   ]
  },
  {
   "cell_type": "code",
   "execution_count": 17,
   "id": "c34be9c3-6bd6-476e-acd3-845840e303be",
   "metadata": {
    "execution": {
     "iopub.execute_input": "2025-08-05T20:52:34.485226Z",
     "iopub.status.busy": "2025-08-05T20:52:34.484744Z",
     "iopub.status.idle": "2025-08-05T20:52:34.538936Z",
     "shell.execute_reply": "2025-08-05T20:52:34.537926Z"
    },
    "papermill": {
     "duration": 0.076092,
     "end_time": "2025-08-05T20:52:34.540515",
     "exception": false,
     "start_time": "2025-08-05T20:52:34.464423",
     "status": "completed"
    },
    "tags": []
   },
   "outputs": [],
   "source": [
    "X_test = siab_test.iloc[:,4:164]\n",
    "y_true = siab_test.iloc[:, [3]]"
   ]
  },
  {
   "cell_type": "code",
   "execution_count": 18,
   "id": "e6c733c5",
   "metadata": {
    "execution": {
     "iopub.execute_input": "2025-08-05T20:52:34.580205Z",
     "iopub.status.busy": "2025-08-05T20:52:34.579720Z",
     "iopub.status.idle": "2025-08-05T20:52:34.678808Z",
     "shell.execute_reply": "2025-08-05T20:52:34.677804Z"
    },
    "papermill": {
     "duration": 0.120898,
     "end_time": "2025-08-05T20:52:34.680603",
     "exception": false,
     "start_time": "2025-08-05T20:52:34.559705",
     "status": "completed"
    },
    "tags": []
   },
   "outputs": [],
   "source": [
    "# Auxiliary data needed downstream in the pipeline\n",
    "\n",
    "org_train = X_train.copy()\n",
    "org_test = X_test.copy()\n",
    "org_calib = X_calib.copy()"
   ]
  },
  {
   "cell_type": "markdown",
   "id": "0a4a1b33",
   "metadata": {
    "papermill": {
     "duration": 0.017623,
     "end_time": "2025-08-05T20:52:34.717366",
     "exception": false,
     "start_time": "2025-08-05T20:52:34.699743",
     "status": "completed"
    },
    "tags": []
   },
   "source": [
    "# Preprocessing Data"
   ]
  },
  {
   "cell_type": "code",
   "execution_count": 19,
   "id": "ca879031",
   "metadata": {
    "execution": {
     "iopub.execute_input": "2025-08-05T20:52:34.755167Z",
     "iopub.status.busy": "2025-08-05T20:52:34.754637Z",
     "iopub.status.idle": "2025-08-05T20:52:34.760936Z",
     "shell.execute_reply": "2025-08-05T20:52:34.759962Z"
    },
    "papermill": {
     "duration": 0.027743,
     "end_time": "2025-08-05T20:52:34.762751",
     "exception": false,
     "start_time": "2025-08-05T20:52:34.735008",
     "status": "completed"
    },
    "tags": []
   },
   "outputs": [],
   "source": [
    "# EXCLUDE PROTECTED FEATURES\n",
    "# ----------------------\n",
    "# \"exclude_features\": \"none\", # \"nationality\", \"sex\", \"nationality-sex\"\n",
    "\n",
    "excluded_features = universe[\"exclude_features\"].split(\"-\") # split, e.g.: \"nationality-sex\" -> [\"nationality\", \"sex\"]\n",
    "excluded_features_dictionary = {\n",
    "    \"nationality\": [\"maxdeutsch1\", \"maxdeutsch.Missing.\"],\n",
    "    \"sex\": [\"frau1\"],\n",
    "    \"age\": [\"age\"],\n",
    "}"
   ]
  },
  {
   "cell_type": "code",
   "execution_count": 20,
   "id": "b745ac60",
   "metadata": {
    "execution": {
     "iopub.execute_input": "2025-08-05T20:52:34.800143Z",
     "iopub.status.busy": "2025-08-05T20:52:34.799643Z",
     "iopub.status.idle": "2025-08-05T20:52:34.805637Z",
     "shell.execute_reply": "2025-08-05T20:52:34.804456Z"
    },
    "papermill": {
     "duration": 0.026468,
     "end_time": "2025-08-05T20:52:34.807397",
     "exception": false,
     "start_time": "2025-08-05T20:52:34.780929",
     "status": "completed"
    },
    "tags": []
   },
   "outputs": [],
   "source": [
    "# Code nice names to column names\n",
    "\n",
    "excluded_features_columns = [\n",
    "    excluded_features_dictionary[f] for f in excluded_features if len(f) > 0 and f != \"none\"\n",
    "]"
   ]
  },
  {
   "cell_type": "code",
   "execution_count": 21,
   "id": "f84f73a2",
   "metadata": {
    "execution": {
     "iopub.execute_input": "2025-08-05T20:52:34.846043Z",
     "iopub.status.busy": "2025-08-05T20:52:34.845101Z",
     "iopub.status.idle": "2025-08-05T20:52:34.851578Z",
     "shell.execute_reply": "2025-08-05T20:52:34.850585Z"
    },
    "papermill": {
     "duration": 0.02739,
     "end_time": "2025-08-05T20:52:34.853462",
     "exception": false,
     "start_time": "2025-08-05T20:52:34.826072",
     "status": "completed"
    },
    "tags": []
   },
   "outputs": [],
   "source": [
    "from utils import flatten_once\n",
    "\n",
    "excluded_features_columns = flatten_once(excluded_features_columns)"
   ]
  },
  {
   "cell_type": "code",
   "execution_count": 22,
   "id": "884dea22",
   "metadata": {
    "execution": {
     "iopub.execute_input": "2025-08-05T20:52:34.893428Z",
     "iopub.status.busy": "2025-08-05T20:52:34.892888Z",
     "iopub.status.idle": "2025-08-05T20:52:34.908440Z",
     "shell.execute_reply": "2025-08-05T20:52:34.907501Z"
    },
    "papermill": {
     "duration": 0.035716,
     "end_time": "2025-08-05T20:52:34.910085",
     "exception": false,
     "start_time": "2025-08-05T20:52:34.874369",
     "status": "completed"
    },
    "tags": []
   },
   "outputs": [
    {
     "name": "stdout",
     "output_type": "stream",
     "text": [
      "Dropping features: ['maxdeutsch1', 'maxdeutsch.Missing.', 'frau1']\n"
     ]
    }
   ],
   "source": [
    "if len(excluded_features_columns) > 0:\n",
    "    print(f\"Dropping features: {excluded_features_columns}\")\n",
    "    X_train.drop(excluded_features_columns, axis=1, inplace=True)"
   ]
  },
  {
   "cell_type": "code",
   "execution_count": 23,
   "id": "95ab8b16",
   "metadata": {
    "execution": {
     "iopub.execute_input": "2025-08-05T20:52:34.950830Z",
     "iopub.status.busy": "2025-08-05T20:52:34.950375Z",
     "iopub.status.idle": "2025-08-05T20:52:35.007438Z",
     "shell.execute_reply": "2025-08-05T20:52:35.006528Z"
    },
    "papermill": {
     "duration": 0.078029,
     "end_time": "2025-08-05T20:52:35.008962",
     "exception": false,
     "start_time": "2025-08-05T20:52:34.930933",
     "status": "completed"
    },
    "tags": []
   },
   "outputs": [
    {
     "name": "stdout",
     "output_type": "stream",
     "text": [
      "Dropping features: ['maxdeutsch1', 'maxdeutsch.Missing.', 'frau1']\n"
     ]
    }
   ],
   "source": [
    "if len(excluded_features_columns) > 0:\n",
    "    print(f\"Dropping features: {excluded_features_columns}\")\n",
    "    X_test.drop(excluded_features_columns, axis=1, inplace=True)"
   ]
  },
  {
   "cell_type": "code",
   "execution_count": 24,
   "id": "1853aaf5-fb9f-46cb-a2b5-8ea4ae2237e4",
   "metadata": {
    "execution": {
     "iopub.execute_input": "2025-08-05T20:52:35.030966Z",
     "iopub.status.busy": "2025-08-05T20:52:35.030446Z",
     "iopub.status.idle": "2025-08-05T20:52:35.079406Z",
     "shell.execute_reply": "2025-08-05T20:52:35.078516Z"
    },
    "papermill": {
     "duration": 0.061256,
     "end_time": "2025-08-05T20:52:35.080930",
     "exception": false,
     "start_time": "2025-08-05T20:52:35.019674",
     "status": "completed"
    },
    "tags": []
   },
   "outputs": [
    {
     "name": "stdout",
     "output_type": "stream",
     "text": [
      "Dropping features: ['maxdeutsch1', 'maxdeutsch.Missing.', 'frau1']\n"
     ]
    }
   ],
   "source": [
    "if len(excluded_features_columns) > 0:\n",
    "    print(f\"Dropping features: {excluded_features_columns}\")\n",
    "    X_calib.drop(excluded_features_columns, axis=1, inplace=True)"
   ]
  },
  {
   "cell_type": "code",
   "execution_count": 25,
   "id": "76c4dc6d",
   "metadata": {
    "execution": {
     "iopub.execute_input": "2025-08-05T20:52:35.102558Z",
     "iopub.status.busy": "2025-08-05T20:52:35.101876Z",
     "iopub.status.idle": "2025-08-05T20:52:35.106777Z",
     "shell.execute_reply": "2025-08-05T20:52:35.105934Z"
    },
    "papermill": {
     "duration": 0.0167,
     "end_time": "2025-08-05T20:52:35.108187",
     "exception": false,
     "start_time": "2025-08-05T20:52:35.091487",
     "status": "completed"
    },
    "tags": []
   },
   "outputs": [],
   "source": [
    "# EXCLUDE CERTAIN SUBGROUPS\n",
    "# ----------------------\n",
    "\n",
    "mode = universe.get(\"exclude_subgroups\", \"keep-all\") \n",
    "# Fetches the exclude_subgroups setting from the universe dict.\n",
    "# Defaults to \"keep-all\" if the key is missing."
   ]
  },
  {
   "cell_type": "code",
   "execution_count": 26,
   "id": "21994072",
   "metadata": {
    "execution": {
     "iopub.execute_input": "2025-08-05T20:52:35.139419Z",
     "iopub.status.busy": "2025-08-05T20:52:35.138415Z",
     "iopub.status.idle": "2025-08-05T20:52:35.145249Z",
     "shell.execute_reply": "2025-08-05T20:52:35.144338Z"
    },
    "papermill": {
     "duration": 0.028297,
     "end_time": "2025-08-05T20:52:35.147122",
     "exception": false,
     "start_time": "2025-08-05T20:52:35.118825",
     "status": "completed"
    },
    "tags": []
   },
   "outputs": [],
   "source": [
    "if mode == \"keep-all\":\n",
    "    keep_mask = pd.Series(True, index=org_train.index)\n",
    "\n",
    "# org_train contains the original feature columns from features_org (in Simson)\n",
    "# features_org contains unprocessed features, for me X_train at beginning ???\n",
    "# For keep-all, creates a boolean Series (keep_mask) of all True, so no rows are removed.\n",
    "\n",
    "elif mode == \"drop-non-german\":\n",
    "    keep_mask = org_train[\"maxdeutsch1\"] == 1 # ??? what about missing values?\n",
    "\n",
    "else:\n",
    "    raise ValueError(f\"Unsupported mode for exclude_subgroups: {mode}\")"
   ]
  },
  {
   "cell_type": "code",
   "execution_count": 27,
   "id": "71651440",
   "metadata": {
    "execution": {
     "iopub.execute_input": "2025-08-05T20:52:35.189077Z",
     "iopub.status.busy": "2025-08-05T20:52:35.188210Z",
     "iopub.status.idle": "2025-08-05T20:52:35.195852Z",
     "shell.execute_reply": "2025-08-05T20:52:35.194869Z"
    },
    "papermill": {
     "duration": 0.029685,
     "end_time": "2025-08-05T20:52:35.197223",
     "exception": false,
     "start_time": "2025-08-05T20:52:35.167538",
     "status": "completed"
    },
    "tags": []
   },
   "outputs": [
    {
     "name": "stdout",
     "output_type": "stream",
     "text": [
      "Dropping 3481 rows (13.92%) where mode='drop-non-german'\n"
     ]
    }
   ],
   "source": [
    "n_drop = (~keep_mask).sum() # Calculates how many rows are set to be dropped\n",
    "if n_drop > 0:\n",
    "    pct = n_drop / len(keep_mask) * 100\n",
    "    print(f\"Dropping {n_drop} rows ({pct:.2f}%) where mode='{mode}'\")"
   ]
  },
  {
   "cell_type": "code",
   "execution_count": 28,
   "id": "5fb8eee5",
   "metadata": {
    "execution": {
     "iopub.execute_input": "2025-08-05T20:52:35.217952Z",
     "iopub.status.busy": "2025-08-05T20:52:35.217602Z",
     "iopub.status.idle": "2025-08-05T20:52:35.239750Z",
     "shell.execute_reply": "2025-08-05T20:52:35.238915Z"
    },
    "papermill": {
     "duration": 0.033741,
     "end_time": "2025-08-05T20:52:35.241186",
     "exception": false,
     "start_time": "2025-08-05T20:52:35.207445",
     "status": "completed"
    },
    "tags": []
   },
   "outputs": [],
   "source": [
    "X_train = X_train[keep_mask]"
   ]
  },
  {
   "cell_type": "code",
   "execution_count": 29,
   "id": "b202bb3a",
   "metadata": {
    "execution": {
     "iopub.execute_input": "2025-08-05T20:52:35.262339Z",
     "iopub.status.busy": "2025-08-05T20:52:35.261986Z",
     "iopub.status.idle": "2025-08-05T20:52:35.267463Z",
     "shell.execute_reply": "2025-08-05T20:52:35.266636Z"
    },
    "papermill": {
     "duration": 0.031045,
     "end_time": "2025-08-05T20:52:35.282410",
     "exception": false,
     "start_time": "2025-08-05T20:52:35.251365",
     "status": "completed"
    },
    "tags": []
   },
   "outputs": [],
   "source": [
    "y_train = y_train[keep_mask]"
   ]
  },
  {
   "cell_type": "markdown",
   "id": "493e2ac3",
   "metadata": {
    "papermill": {
     "duration": 0.00958,
     "end_time": "2025-08-05T20:52:35.301891",
     "exception": false,
     "start_time": "2025-08-05T20:52:35.292311",
     "status": "completed"
    },
    "tags": []
   },
   "source": [
    "# Model Training"
   ]
  },
  {
   "cell_type": "code",
   "execution_count": 30,
   "id": "679e1268",
   "metadata": {
    "execution": {
     "iopub.execute_input": "2025-08-05T20:52:35.323446Z",
     "iopub.status.busy": "2025-08-05T20:52:35.323088Z",
     "iopub.status.idle": "2025-08-05T20:52:35.412074Z",
     "shell.execute_reply": "2025-08-05T20:52:35.411292Z"
    },
    "papermill": {
     "duration": 0.102142,
     "end_time": "2025-08-05T20:52:35.413552",
     "exception": false,
     "start_time": "2025-08-05T20:52:35.311410",
     "status": "completed"
    },
    "tags": []
   },
   "outputs": [],
   "source": [
    "from sklearn.linear_model import LogisticRegression\n",
    "from sklearn.ensemble import GradientBoostingClassifier, RandomForestClassifier\n",
    "\n",
    "if (universe[\"model\"] == \"logreg\"):\n",
    "    model = LogisticRegression() #penalty=\"none\", solver=\"newton-cg\", max_iter=1) # include random_state=19 ?\n",
    "elif (universe[\"model\"] == \"penalized_logreg\"):\n",
    "    model = LogisticRegression(penalty=\"l2\", C=0.1) #, solver=\"newton-cg\", max_iter=1)\n",
    "elif (universe[\"model\"] == \"rf\"):\n",
    "    model = RandomForestClassifier() # n_estimators=100, n_jobs=-1\n",
    "elif (universe[\"model\"] == \"gbm\"):\n",
    "    model = GradientBoostingClassifier()\n",
    "elif (universe[\"model\"] == \"elasticnet\"):\n",
    "    model = LogisticRegression(penalty = 'elasticnet', solver = 'saga', l1_ratio = 0.5) # max_iter=5000\n",
    "else:\n",
    "    raise \"Unsupported universe.model\""
   ]
  },
  {
   "cell_type": "code",
   "execution_count": 31,
   "id": "0cc8f744",
   "metadata": {
    "execution": {
     "iopub.execute_input": "2025-08-05T20:52:35.435415Z",
     "iopub.status.busy": "2025-08-05T20:52:35.434906Z",
     "iopub.status.idle": "2025-08-05T20:52:35.440133Z",
     "shell.execute_reply": "2025-08-05T20:52:35.438999Z"
    },
    "papermill": {
     "duration": 0.017074,
     "end_time": "2025-08-05T20:52:35.441398",
     "exception": false,
     "start_time": "2025-08-05T20:52:35.424324",
     "status": "completed"
    },
    "tags": []
   },
   "outputs": [],
   "source": [
    "import numpy as np\n",
    "from sklearn.pipeline import Pipeline\n",
    "from sklearn.preprocessing import StandardScaler\n",
    "\n",
    "model = Pipeline([\n",
    "    #(\"continuous_processor\", continuous_processor),\n",
    "    #(\"categorical_preprocessor\", categorical_preprocessor),\n",
    "    (\"scale\", StandardScaler() if universe[\"scale\"] == \"scale\" else None), \n",
    "    (\"model\", model),\n",
    "])"
   ]
  },
  {
   "cell_type": "code",
   "execution_count": 32,
   "id": "9442c04d",
   "metadata": {
    "execution": {
     "iopub.execute_input": "2025-08-05T20:52:35.464282Z",
     "iopub.status.busy": "2025-08-05T20:52:35.463555Z",
     "iopub.status.idle": "2025-08-05T20:52:41.827137Z",
     "shell.execute_reply": "2025-08-05T20:52:41.826161Z"
    },
    "papermill": {
     "duration": 6.376516,
     "end_time": "2025-08-05T20:52:41.828917",
     "exception": false,
     "start_time": "2025-08-05T20:52:35.452401",
     "status": "completed"
    },
    "tags": []
   },
   "outputs": [
    {
     "data": {
      "text/html": [
       "<style>#sk-container-id-1 {color: black;background-color: white;}#sk-container-id-1 pre{padding: 0;}#sk-container-id-1 div.sk-toggleable {background-color: white;}#sk-container-id-1 label.sk-toggleable__label {cursor: pointer;display: block;width: 100%;margin-bottom: 0;padding: 0.3em;box-sizing: border-box;text-align: center;}#sk-container-id-1 label.sk-toggleable__label-arrow:before {content: \"▸\";float: left;margin-right: 0.25em;color: #696969;}#sk-container-id-1 label.sk-toggleable__label-arrow:hover:before {color: black;}#sk-container-id-1 div.sk-estimator:hover label.sk-toggleable__label-arrow:before {color: black;}#sk-container-id-1 div.sk-toggleable__content {max-height: 0;max-width: 0;overflow: hidden;text-align: left;background-color: #f0f8ff;}#sk-container-id-1 div.sk-toggleable__content pre {margin: 0.2em;color: black;border-radius: 0.25em;background-color: #f0f8ff;}#sk-container-id-1 input.sk-toggleable__control:checked~div.sk-toggleable__content {max-height: 200px;max-width: 100%;overflow: auto;}#sk-container-id-1 input.sk-toggleable__control:checked~label.sk-toggleable__label-arrow:before {content: \"▾\";}#sk-container-id-1 div.sk-estimator input.sk-toggleable__control:checked~label.sk-toggleable__label {background-color: #d4ebff;}#sk-container-id-1 div.sk-label input.sk-toggleable__control:checked~label.sk-toggleable__label {background-color: #d4ebff;}#sk-container-id-1 input.sk-hidden--visually {border: 0;clip: rect(1px 1px 1px 1px);clip: rect(1px, 1px, 1px, 1px);height: 1px;margin: -1px;overflow: hidden;padding: 0;position: absolute;width: 1px;}#sk-container-id-1 div.sk-estimator {font-family: monospace;background-color: #f0f8ff;border: 1px dotted black;border-radius: 0.25em;box-sizing: border-box;margin-bottom: 0.5em;}#sk-container-id-1 div.sk-estimator:hover {background-color: #d4ebff;}#sk-container-id-1 div.sk-parallel-item::after {content: \"\";width: 100%;border-bottom: 1px solid gray;flex-grow: 1;}#sk-container-id-1 div.sk-label:hover label.sk-toggleable__label {background-color: #d4ebff;}#sk-container-id-1 div.sk-serial::before {content: \"\";position: absolute;border-left: 1px solid gray;box-sizing: border-box;top: 0;bottom: 0;left: 50%;z-index: 0;}#sk-container-id-1 div.sk-serial {display: flex;flex-direction: column;align-items: center;background-color: white;padding-right: 0.2em;padding-left: 0.2em;position: relative;}#sk-container-id-1 div.sk-item {position: relative;z-index: 1;}#sk-container-id-1 div.sk-parallel {display: flex;align-items: stretch;justify-content: center;background-color: white;position: relative;}#sk-container-id-1 div.sk-item::before, #sk-container-id-1 div.sk-parallel-item::before {content: \"\";position: absolute;border-left: 1px solid gray;box-sizing: border-box;top: 0;bottom: 0;left: 50%;z-index: -1;}#sk-container-id-1 div.sk-parallel-item {display: flex;flex-direction: column;z-index: 1;position: relative;background-color: white;}#sk-container-id-1 div.sk-parallel-item:first-child::after {align-self: flex-end;width: 50%;}#sk-container-id-1 div.sk-parallel-item:last-child::after {align-self: flex-start;width: 50%;}#sk-container-id-1 div.sk-parallel-item:only-child::after {width: 0;}#sk-container-id-1 div.sk-dashed-wrapped {border: 1px dashed gray;margin: 0 0.4em 0.5em 0.4em;box-sizing: border-box;padding-bottom: 0.4em;background-color: white;}#sk-container-id-1 div.sk-label label {font-family: monospace;font-weight: bold;display: inline-block;line-height: 1.2em;}#sk-container-id-1 div.sk-label-container {text-align: center;}#sk-container-id-1 div.sk-container {/* jupyter's `normalize.less` sets `[hidden] { display: none; }` but bootstrap.min.css set `[hidden] { display: none !important; }` so we also need the `!important` here to be able to override the default hidden behavior on the sphinx rendered scikit-learn.org. See: https://github.com/scikit-learn/scikit-learn/issues/21755 */display: inline-block !important;position: relative;}#sk-container-id-1 div.sk-text-repr-fallback {display: none;}</style><div id=\"sk-container-id-1\" class=\"sk-top-container\"><div class=\"sk-text-repr-fallback\"><pre>Pipeline(steps=[(&#x27;scale&#x27;, StandardScaler()),\n",
       "                (&#x27;model&#x27;, RandomForestClassifier())])</pre><b>In a Jupyter environment, please rerun this cell to show the HTML representation or trust the notebook. <br />On GitHub, the HTML representation is unable to render, please try loading this page with nbviewer.org.</b></div><div class=\"sk-container\" hidden><div class=\"sk-item sk-dashed-wrapped\"><div class=\"sk-label-container\"><div class=\"sk-label sk-toggleable\"><input class=\"sk-toggleable__control sk-hidden--visually\" id=\"sk-estimator-id-1\" type=\"checkbox\" ><label for=\"sk-estimator-id-1\" class=\"sk-toggleable__label sk-toggleable__label-arrow\">Pipeline</label><div class=\"sk-toggleable__content\"><pre>Pipeline(steps=[(&#x27;scale&#x27;, StandardScaler()),\n",
       "                (&#x27;model&#x27;, RandomForestClassifier())])</pre></div></div></div><div class=\"sk-serial\"><div class=\"sk-item\"><div class=\"sk-estimator sk-toggleable\"><input class=\"sk-toggleable__control sk-hidden--visually\" id=\"sk-estimator-id-2\" type=\"checkbox\" ><label for=\"sk-estimator-id-2\" class=\"sk-toggleable__label sk-toggleable__label-arrow\">StandardScaler</label><div class=\"sk-toggleable__content\"><pre>StandardScaler()</pre></div></div></div><div class=\"sk-item\"><div class=\"sk-estimator sk-toggleable\"><input class=\"sk-toggleable__control sk-hidden--visually\" id=\"sk-estimator-id-3\" type=\"checkbox\" ><label for=\"sk-estimator-id-3\" class=\"sk-toggleable__label sk-toggleable__label-arrow\">RandomForestClassifier</label><div class=\"sk-toggleable__content\"><pre>RandomForestClassifier()</pre></div></div></div></div></div></div></div>"
      ],
      "text/plain": [
       "Pipeline(steps=[('scale', StandardScaler()),\n",
       "                ('model', RandomForestClassifier())])"
      ]
     },
     "execution_count": 32,
     "metadata": {},
     "output_type": "execute_result"
    }
   ],
   "source": [
    "model.fit(X_train, y_train.values.ravel())"
   ]
  },
  {
   "cell_type": "code",
   "execution_count": 33,
   "id": "af59f8c0",
   "metadata": {
    "execution": {
     "iopub.execute_input": "2025-08-05T20:52:41.933619Z",
     "iopub.status.busy": "2025-08-05T20:52:41.932843Z",
     "iopub.status.idle": "2025-08-05T20:52:41.938467Z",
     "shell.execute_reply": "2025-08-05T20:52:41.937419Z"
    },
    "papermill": {
     "duration": 0.090684,
     "end_time": "2025-08-05T20:52:41.940212",
     "exception": false,
     "start_time": "2025-08-05T20:52:41.849528",
     "status": "completed"
    },
    "tags": []
   },
   "outputs": [],
   "source": [
    "from fairness_multiverse.universe import predict_w_threshold"
   ]
  },
  {
   "cell_type": "code",
   "execution_count": 34,
   "id": "a7cf2e16",
   "metadata": {
    "execution": {
     "iopub.execute_input": "2025-08-05T20:52:41.981297Z",
     "iopub.status.busy": "2025-08-05T20:52:41.980547Z",
     "iopub.status.idle": "2025-08-05T20:52:45.116194Z",
     "shell.execute_reply": "2025-08-05T20:52:45.115438Z"
    },
    "papermill": {
     "duration": 3.157585,
     "end_time": "2025-08-05T20:52:45.117475",
     "exception": false,
     "start_time": "2025-08-05T20:52:41.959890",
     "status": "completed"
    },
    "tags": []
   },
   "outputs": [
    {
     "data": {
      "text/plain": [
       "0.8660461487013711"
      ]
     },
     "execution_count": 34,
     "metadata": {},
     "output_type": "execute_result"
    }
   ],
   "source": [
    "probs_test = model.predict_proba(X_test)\n",
    "\n",
    "'''\n",
    "Below code returns a boolean array (or binary 0/1 array depending on how it’s used) where each element \n",
    "is True if the probability of class 1 is greater than or equal to the threshold, and False otherwise.\n",
    "'''\n",
    "y_pred_default = predict_w_threshold(probs_test, 0.5)\n",
    "\n",
    "from sklearn.metrics import accuracy_score\n",
    "\n",
    "# Naive prediction\n",
    "accuracy_score(y_true = y_true, y_pred = y_pred_default)"
   ]
  },
  {
   "cell_type": "code",
   "execution_count": 35,
   "id": "081964c3",
   "metadata": {
    "execution": {
     "iopub.execute_input": "2025-08-05T20:52:45.140326Z",
     "iopub.status.busy": "2025-08-05T20:52:45.139801Z",
     "iopub.status.idle": "2025-08-05T20:52:47.804640Z",
     "shell.execute_reply": "2025-08-05T20:52:47.803860Z"
    },
    "papermill": {
     "duration": 2.677851,
     "end_time": "2025-08-05T20:52:47.805997",
     "exception": false,
     "start_time": "2025-08-05T20:52:45.128146",
     "status": "completed"
    },
    "tags": []
   },
   "outputs": [
    {
     "data": {
      "text/plain": [
       "array([0, 0, 0, ..., 0, 0, 0])"
      ]
     },
     "execution_count": 35,
     "metadata": {},
     "output_type": "execute_result"
    }
   ],
   "source": [
    "model.predict(X_test)"
   ]
  },
  {
   "cell_type": "markdown",
   "id": "56c9705b",
   "metadata": {
    "papermill": {
     "duration": 0.010167,
     "end_time": "2025-08-05T20:52:47.827026",
     "exception": false,
     "start_time": "2025-08-05T20:52:47.816859",
     "status": "completed"
    },
    "tags": []
   },
   "source": [
    "# Conformal Prediction"
   ]
  },
  {
   "cell_type": "code",
   "execution_count": 36,
   "id": "160ec6ff",
   "metadata": {
    "execution": {
     "iopub.execute_input": "2025-08-05T20:52:47.848803Z",
     "iopub.status.busy": "2025-08-05T20:52:47.848283Z",
     "iopub.status.idle": "2025-08-05T20:52:47.853248Z",
     "shell.execute_reply": "2025-08-05T20:52:47.852480Z"
    },
    "papermill": {
     "duration": 0.017671,
     "end_time": "2025-08-05T20:52:47.854661",
     "exception": false,
     "start_time": "2025-08-05T20:52:47.836990",
     "status": "completed"
    },
    "tags": []
   },
   "outputs": [],
   "source": [
    "# Miscoverage level for conformal prediction (10% allowed error rate => 90% target coverage)\n",
    "alpha = 0.1"
   ]
  },
  {
   "cell_type": "code",
   "execution_count": 37,
   "id": "eadf4555-3dd3-440e-8e35-f82a4ad9f855",
   "metadata": {
    "execution": {
     "iopub.execute_input": "2025-08-05T20:52:47.877915Z",
     "iopub.status.busy": "2025-08-05T20:52:47.877562Z",
     "iopub.status.idle": "2025-08-05T20:52:50.156651Z",
     "shell.execute_reply": "2025-08-05T20:52:50.155845Z"
    },
    "papermill": {
     "duration": 2.292131,
     "end_time": "2025-08-05T20:52:50.158247",
     "exception": false,
     "start_time": "2025-08-05T20:52:47.866116",
     "status": "completed"
    },
    "tags": []
   },
   "outputs": [],
   "source": [
    "probs_calib = model.predict_proba(X_calib)"
   ]
  },
  {
   "cell_type": "code",
   "execution_count": 38,
   "id": "2ed93547-6d5d-4983-9b36-1ecb300da49a",
   "metadata": {
    "execution": {
     "iopub.execute_input": "2025-08-05T20:52:50.181343Z",
     "iopub.status.busy": "2025-08-05T20:52:50.180975Z",
     "iopub.status.idle": "2025-08-05T20:52:50.186080Z",
     "shell.execute_reply": "2025-08-05T20:52:50.185177Z"
    },
    "papermill": {
     "duration": 0.018123,
     "end_time": "2025-08-05T20:52:50.187534",
     "exception": false,
     "start_time": "2025-08-05T20:52:50.169411",
     "status": "completed"
    },
    "tags": []
   },
   "outputs": [],
   "source": [
    "y_calib = y_calib.values.ravel().astype(int)"
   ]
  },
  {
   "cell_type": "code",
   "execution_count": 39,
   "id": "65d1320d-f588-4b38-9072-62af1ae97f7d",
   "metadata": {
    "execution": {
     "iopub.execute_input": "2025-08-05T20:52:50.212410Z",
     "iopub.status.busy": "2025-08-05T20:52:50.211873Z",
     "iopub.status.idle": "2025-08-05T20:52:50.218528Z",
     "shell.execute_reply": "2025-08-05T20:52:50.217646Z"
    },
    "papermill": {
     "duration": 0.019995,
     "end_time": "2025-08-05T20:52:50.220110",
     "exception": false,
     "start_time": "2025-08-05T20:52:50.200115",
     "status": "completed"
    },
    "tags": []
   },
   "outputs": [],
   "source": [
    "from fairness_multiverse.conformal import compute_nc_scores\n",
    "\n",
    "# Compute nonconformity scores on calibration set (1 - probability of true class)\n",
    "nc_scores = compute_nc_scores(probs_calib, y_calib)"
   ]
  },
  {
   "cell_type": "code",
   "execution_count": 40,
   "id": "df3b8ca3-53b7-43d5-9667-7c85da7aeda2",
   "metadata": {
    "execution": {
     "iopub.execute_input": "2025-08-05T20:52:50.244398Z",
     "iopub.status.busy": "2025-08-05T20:52:50.243874Z",
     "iopub.status.idle": "2025-08-05T20:52:50.250160Z",
     "shell.execute_reply": "2025-08-05T20:52:50.249317Z"
    },
    "papermill": {
     "duration": 0.019946,
     "end_time": "2025-08-05T20:52:50.251762",
     "exception": false,
     "start_time": "2025-08-05T20:52:50.231816",
     "status": "completed"
    },
    "tags": []
   },
   "outputs": [],
   "source": [
    "from fairness_multiverse.conformal import find_threshold\n",
    "\n",
    "# Find conformal threshold q_hat for the given alpha (split conformal method)\n",
    "q_hat = find_threshold(nc_scores, alpha)"
   ]
  },
  {
   "cell_type": "code",
   "execution_count": 41,
   "id": "4d29e6c1-0ef6-4aa4-b8fe-4fe79b0d033a",
   "metadata": {
    "execution": {
     "iopub.execute_input": "2025-08-05T20:52:50.276606Z",
     "iopub.status.busy": "2025-08-05T20:52:50.276082Z",
     "iopub.status.idle": "2025-08-05T20:52:50.283032Z",
     "shell.execute_reply": "2025-08-05T20:52:50.282102Z"
    },
    "papermill": {
     "duration": 0.020502,
     "end_time": "2025-08-05T20:52:50.284507",
     "exception": false,
     "start_time": "2025-08-05T20:52:50.264005",
     "status": "completed"
    },
    "tags": []
   },
   "outputs": [
    {
     "data": {
      "text/plain": [
       "0.65"
      ]
     },
     "execution_count": 41,
     "metadata": {},
     "output_type": "execute_result"
    }
   ],
   "source": [
    "q_hat"
   ]
  },
  {
   "cell_type": "code",
   "execution_count": 42,
   "id": "92460794-cdac-4be2-ba28-f28c0515a6fb",
   "metadata": {
    "execution": {
     "iopub.execute_input": "2025-08-05T20:52:50.309334Z",
     "iopub.status.busy": "2025-08-05T20:52:50.308809Z",
     "iopub.status.idle": "2025-08-05T20:52:53.551289Z",
     "shell.execute_reply": "2025-08-05T20:52:53.550480Z"
    },
    "papermill": {
     "duration": 3.256505,
     "end_time": "2025-08-05T20:52:53.553145",
     "exception": false,
     "start_time": "2025-08-05T20:52:50.296640",
     "status": "completed"
    },
    "tags": []
   },
   "outputs": [],
   "source": [
    "from fairness_multiverse.conformal import predict_conformal_sets\n",
    "\n",
    "# Generate prediction sets for each test example\n",
    "pred_sets = predict_conformal_sets(model, X_test, q_hat)"
   ]
  },
  {
   "cell_type": "code",
   "execution_count": 43,
   "id": "d90c9a65-e6db-4f5d-80cd-e68fb7e46829",
   "metadata": {
    "execution": {
     "iopub.execute_input": "2025-08-05T20:52:53.578122Z",
     "iopub.status.busy": "2025-08-05T20:52:53.577758Z",
     "iopub.status.idle": "2025-08-05T20:52:53.583289Z",
     "shell.execute_reply": "2025-08-05T20:52:53.582483Z"
    },
    "papermill": {
     "duration": 0.018241,
     "end_time": "2025-08-05T20:52:53.584764",
     "exception": false,
     "start_time": "2025-08-05T20:52:53.566523",
     "status": "completed"
    },
    "tags": []
   },
   "outputs": [],
   "source": [
    "y_true = y_true.squeeze()"
   ]
  },
  {
   "cell_type": "code",
   "execution_count": 44,
   "id": "3a58a54a-1e68-46b9-927a-df01f18aebc8",
   "metadata": {
    "execution": {
     "iopub.execute_input": "2025-08-05T20:52:53.608494Z",
     "iopub.status.busy": "2025-08-05T20:52:53.608006Z",
     "iopub.status.idle": "2025-08-05T20:52:54.174451Z",
     "shell.execute_reply": "2025-08-05T20:52:54.173259Z"
    },
    "papermill": {
     "duration": 0.57948,
     "end_time": "2025-08-05T20:52:54.176176",
     "exception": false,
     "start_time": "2025-08-05T20:52:53.596696",
     "status": "completed"
    },
    "tags": []
   },
   "outputs": [],
   "source": [
    "from fairness_multiverse.conformal import evaluate_sets\n",
    "\n",
    "# Evaluate coverage and average set size on test data\n",
    "metrics = evaluate_sets(pred_sets, y_true)"
   ]
  },
  {
   "cell_type": "markdown",
   "id": "2b569c12-9aaa-4c88-98c9-bbcd0cf3ebb8",
   "metadata": {
    "papermill": {
     "duration": 0.025826,
     "end_time": "2025-08-05T20:52:54.225271",
     "exception": false,
     "start_time": "2025-08-05T20:52:54.199445",
     "status": "completed"
    },
    "tags": []
   },
   "source": [
    "# CP Metrics"
   ]
  },
  {
   "cell_type": "code",
   "execution_count": 45,
   "id": "5ce0a5cb-201f-45a0-ade5-94c7f0bd6095",
   "metadata": {
    "execution": {
     "iopub.execute_input": "2025-08-05T20:52:54.271300Z",
     "iopub.status.busy": "2025-08-05T20:52:54.270782Z",
     "iopub.status.idle": "2025-08-05T20:52:54.277939Z",
     "shell.execute_reply": "2025-08-05T20:52:54.277021Z"
    },
    "papermill": {
     "duration": 0.027352,
     "end_time": "2025-08-05T20:52:54.279391",
     "exception": false,
     "start_time": "2025-08-05T20:52:54.252039",
     "status": "completed"
    },
    "tags": []
   },
   "outputs": [
    {
     "data": {
      "text/plain": [
       "{'coverage': 0.9129751421246238, 'avg_size': 1.136551109129417}"
      ]
     },
     "execution_count": 45,
     "metadata": {},
     "output_type": "execute_result"
    }
   ],
   "source": [
    "metrics"
   ]
  },
  {
   "cell_type": "code",
   "execution_count": 46,
   "id": "9b9a838d-31c9-430b-ae14-12baee460d17",
   "metadata": {
    "execution": {
     "iopub.execute_input": "2025-08-05T20:52:54.325444Z",
     "iopub.status.busy": "2025-08-05T20:52:54.324725Z",
     "iopub.status.idle": "2025-08-05T20:52:54.331576Z",
     "shell.execute_reply": "2025-08-05T20:52:54.330563Z"
    },
    "papermill": {
     "duration": 0.031762,
     "end_time": "2025-08-05T20:52:54.333386",
     "exception": false,
     "start_time": "2025-08-05T20:52:54.301624",
     "status": "completed"
    },
    "tags": []
   },
   "outputs": [],
   "source": [
    "example_universe = universe.copy()\n",
    "universe_training_year = example_universe.get(\"training_year\")\n",
    "universe_training_size = example_universe.get(\"training_size\")\n",
    "universe_scale = example_universe.get(\"scale\")\n",
    "universe_model = example_universe.get(\"model\")\n",
    "universe_exclude_features = example_universe.get(\"exclude_features\")\n",
    "universe_exclude_subgroups = example_universe.get(\"exclude_subgroups\")"
   ]
  },
  {
   "cell_type": "code",
   "execution_count": 47,
   "id": "f4b6a8ac-9dc0-4245-8a91-5b3b5999c4f9",
   "metadata": {
    "execution": {
     "iopub.execute_input": "2025-08-05T20:52:54.378955Z",
     "iopub.status.busy": "2025-08-05T20:52:54.377881Z",
     "iopub.status.idle": "2025-08-05T20:52:54.385054Z",
     "shell.execute_reply": "2025-08-05T20:52:54.384031Z"
    },
    "papermill": {
     "duration": 0.031535,
     "end_time": "2025-08-05T20:52:54.386879",
     "exception": false,
     "start_time": "2025-08-05T20:52:54.355344",
     "status": "completed"
    },
    "tags": []
   },
   "outputs": [],
   "source": [
    "cp_metrics_dict = {\n",
    "    \"universe_id\": [universe_id],\n",
    "    \"universe_training_year\": [universe_training_year],\n",
    "    \"universe_training_size\": [universe_training_size],\n",
    "    \"universe_scale\": [universe_scale],\n",
    "    \"universe_model\": [universe_model],\n",
    "    \"universe_exclude_features\": [universe_exclude_features],\n",
    "    \"universe_exclude_subgroups\": [universe_exclude_subgroups],\n",
    "    \"q_hat\": [q_hat],\n",
    "    \"coverage\": [metrics[\"coverage\"]],\n",
    "    \"avg_size\": [metrics[\"avg_size\"]],\n",
    "}"
   ]
  },
  {
   "cell_type": "code",
   "execution_count": 48,
   "id": "908acbb1-0371-4915-85ca-3fa520d2efe2",
   "metadata": {
    "execution": {
     "iopub.execute_input": "2025-08-05T20:52:54.433040Z",
     "iopub.status.busy": "2025-08-05T20:52:54.432308Z",
     "iopub.status.idle": "2025-08-05T20:52:54.441215Z",
     "shell.execute_reply": "2025-08-05T20:52:54.440036Z"
    },
    "papermill": {
     "duration": 0.033489,
     "end_time": "2025-08-05T20:52:54.442975",
     "exception": false,
     "start_time": "2025-08-05T20:52:54.409486",
     "status": "completed"
    },
    "tags": []
   },
   "outputs": [
    {
     "data": {
      "text/plain": [
       "{'universe_id': ['d9b1aab13a90fa48ecd4cbc5aa821279'],\n",
       " 'universe_training_year': ['2012_14'],\n",
       " 'universe_training_size': ['25k'],\n",
       " 'universe_scale': ['scale'],\n",
       " 'universe_model': ['rf'],\n",
       " 'universe_exclude_features': ['nationality-sex'],\n",
       " 'universe_exclude_subgroups': ['drop-non-german'],\n",
       " 'q_hat': [0.65],\n",
       " 'coverage': [0.9129751421246238],\n",
       " 'avg_size': [1.136551109129417]}"
      ]
     },
     "execution_count": 48,
     "metadata": {},
     "output_type": "execute_result"
    }
   ],
   "source": [
    "cp_metrics_dict"
   ]
  },
  {
   "cell_type": "code",
   "execution_count": 49,
   "id": "33007efc-14e9-4ec6-97ac-56a455c82265",
   "metadata": {
    "execution": {
     "iopub.execute_input": "2025-08-05T20:52:54.488845Z",
     "iopub.status.busy": "2025-08-05T20:52:54.488106Z",
     "iopub.status.idle": "2025-08-05T20:52:54.495391Z",
     "shell.execute_reply": "2025-08-05T20:52:54.494385Z"
    },
    "papermill": {
     "duration": 0.032165,
     "end_time": "2025-08-05T20:52:54.497103",
     "exception": false,
     "start_time": "2025-08-05T20:52:54.464938",
     "status": "completed"
    },
    "tags": []
   },
   "outputs": [],
   "source": [
    "cp_metrics_df = pd.DataFrame(cp_metrics_dict)"
   ]
  },
  {
   "cell_type": "code",
   "execution_count": 50,
   "id": "db12611b-57b2-4910-b9d0-355adfd6e7bf",
   "metadata": {
    "execution": {
     "iopub.execute_input": "2025-08-05T20:52:54.543390Z",
     "iopub.status.busy": "2025-08-05T20:52:54.542485Z",
     "iopub.status.idle": "2025-08-05T20:52:54.562657Z",
     "shell.execute_reply": "2025-08-05T20:52:54.561616Z"
    },
    "papermill": {
     "duration": 0.044662,
     "end_time": "2025-08-05T20:52:54.564335",
     "exception": false,
     "start_time": "2025-08-05T20:52:54.519673",
     "status": "completed"
    },
    "tags": []
   },
   "outputs": [
    {
     "data": {
      "text/html": [
       "<div>\n",
       "<style scoped>\n",
       "    .dataframe tbody tr th:only-of-type {\n",
       "        vertical-align: middle;\n",
       "    }\n",
       "\n",
       "    .dataframe tbody tr th {\n",
       "        vertical-align: top;\n",
       "    }\n",
       "\n",
       "    .dataframe thead th {\n",
       "        text-align: right;\n",
       "    }\n",
       "</style>\n",
       "<table border=\"1\" class=\"dataframe\">\n",
       "  <thead>\n",
       "    <tr style=\"text-align: right;\">\n",
       "      <th></th>\n",
       "      <th>universe_id</th>\n",
       "      <th>universe_training_year</th>\n",
       "      <th>universe_training_size</th>\n",
       "      <th>universe_scale</th>\n",
       "      <th>universe_model</th>\n",
       "      <th>universe_exclude_features</th>\n",
       "      <th>universe_exclude_subgroups</th>\n",
       "      <th>q_hat</th>\n",
       "      <th>coverage</th>\n",
       "      <th>avg_size</th>\n",
       "    </tr>\n",
       "  </thead>\n",
       "  <tbody>\n",
       "    <tr>\n",
       "      <th>0</th>\n",
       "      <td>d9b1aab13a90fa48ecd4cbc5aa821279</td>\n",
       "      <td>2012_14</td>\n",
       "      <td>25k</td>\n",
       "      <td>scale</td>\n",
       "      <td>rf</td>\n",
       "      <td>nationality-sex</td>\n",
       "      <td>drop-non-german</td>\n",
       "      <td>0.65</td>\n",
       "      <td>0.912975</td>\n",
       "      <td>1.136551</td>\n",
       "    </tr>\n",
       "  </tbody>\n",
       "</table>\n",
       "</div>"
      ],
      "text/plain": [
       "                        universe_id universe_training_year  \\\n",
       "0  d9b1aab13a90fa48ecd4cbc5aa821279                2012_14   \n",
       "\n",
       "  universe_training_size universe_scale universe_model  \\\n",
       "0                    25k          scale             rf   \n",
       "\n",
       "  universe_exclude_features universe_exclude_subgroups  q_hat  coverage  \\\n",
       "0           nationality-sex            drop-non-german   0.65  0.912975   \n",
       "\n",
       "   avg_size  \n",
       "0  1.136551  "
      ]
     },
     "execution_count": 50,
     "metadata": {},
     "output_type": "execute_result"
    }
   ],
   "source": [
    "cp_metrics_df"
   ]
  },
  {
   "cell_type": "code",
   "execution_count": 51,
   "id": "b7fbde55-a0a1-47e4-9af6-fe4a17fa8c61",
   "metadata": {
    "execution": {
     "iopub.execute_input": "2025-08-05T20:52:54.615796Z",
     "iopub.status.busy": "2025-08-05T20:52:54.614897Z",
     "iopub.status.idle": "2025-08-05T20:52:54.620393Z",
     "shell.execute_reply": "2025-08-05T20:52:54.619437Z"
    },
    "papermill": {
     "duration": 0.033805,
     "end_time": "2025-08-05T20:52:54.622444",
     "exception": false,
     "start_time": "2025-08-05T20:52:54.588639",
     "status": "completed"
    },
    "tags": []
   },
   "outputs": [],
   "source": [
    "# Conditional Coverage & looking at subgroups"
   ]
  },
  {
   "cell_type": "code",
   "execution_count": 52,
   "id": "027ae886-68dd-4141-96c7-805a5450e1ef",
   "metadata": {
    "execution": {
     "iopub.execute_input": "2025-08-05T20:52:54.672055Z",
     "iopub.status.busy": "2025-08-05T20:52:54.671218Z",
     "iopub.status.idle": "2025-08-05T20:52:54.868066Z",
     "shell.execute_reply": "2025-08-05T20:52:54.864008Z"
    },
    "papermill": {
     "duration": 0.223595,
     "end_time": "2025-08-05T20:52:54.870100",
     "exception": false,
     "start_time": "2025-08-05T20:52:54.646505",
     "status": "completed"
    },
    "tags": []
   },
   "outputs": [],
   "source": [
    "from fairness_multiverse.conformal import build_cp_groups\n",
    "\n",
    "cp_groups_df = build_cp_groups(pred_sets, y_true, X_test.index, org_test)\n",
    "#needs universe_id and setting"
   ]
  },
  {
   "cell_type": "code",
   "execution_count": 53,
   "id": "6cbdab96-b2b2-45af-ad54-d0516db2e28d",
   "metadata": {
    "execution": {
     "iopub.execute_input": "2025-08-05T20:52:54.916061Z",
     "iopub.status.busy": "2025-08-05T20:52:54.915533Z",
     "iopub.status.idle": "2025-08-05T20:52:56.599342Z",
     "shell.execute_reply": "2025-08-05T20:52:56.598337Z"
    },
    "papermill": {
     "duration": 1.70886,
     "end_time": "2025-08-05T20:52:56.601279",
     "exception": false,
     "start_time": "2025-08-05T20:52:54.892419",
     "status": "completed"
    },
    "tags": []
   },
   "outputs": [],
   "source": [
    "# Define covered = 1 if true_label is in the predicted set\n",
    "cp_groups_df['covered'] = cp_groups_df.apply(\n",
    "    lambda r: int(r['true_label'] in r['pred_set']),\n",
    "    axis=1\n",
    ")"
   ]
  },
  {
   "cell_type": "code",
   "execution_count": 54,
   "id": "338ff529-1a6b-4b87-a931-8e4788d52aad",
   "metadata": {
    "execution": {
     "iopub.execute_input": "2025-08-05T20:52:56.649762Z",
     "iopub.status.busy": "2025-08-05T20:52:56.649251Z",
     "iopub.status.idle": "2025-08-05T20:52:56.655091Z",
     "shell.execute_reply": "2025-08-05T20:52:56.654036Z"
    },
    "papermill": {
     "duration": 0.031001,
     "end_time": "2025-08-05T20:52:56.657128",
     "exception": false,
     "start_time": "2025-08-05T20:52:56.626127",
     "status": "completed"
    },
    "tags": []
   },
   "outputs": [],
   "source": [
    "#cp_groups_df"
   ]
  },
  {
   "cell_type": "code",
   "execution_count": 55,
   "id": "90032e27-66df-4540-9169-4e89cfbaa758",
   "metadata": {
    "execution": {
     "iopub.execute_input": "2025-08-05T20:52:56.704068Z",
     "iopub.status.busy": "2025-08-05T20:52:56.703561Z",
     "iopub.status.idle": "2025-08-05T20:52:56.715351Z",
     "shell.execute_reply": "2025-08-05T20:52:56.714242Z"
    },
    "papermill": {
     "duration": 0.03735,
     "end_time": "2025-08-05T20:52:56.717384",
     "exception": false,
     "start_time": "2025-08-05T20:52:56.680034",
     "status": "completed"
    },
    "tags": []
   },
   "outputs": [],
   "source": [
    "subgroups = ['frau1','nongerman','nongerman_male','nongerman_female']\n",
    "\n",
    "# Conditional coverage for subgroup==1\n",
    "cond_coverage = {\n",
    "    g: cp_groups_df.loc[cp_groups_df[g]==1, 'covered'].mean()\n",
    "    for g in subgroups\n",
    "}"
   ]
  },
  {
   "cell_type": "code",
   "execution_count": 56,
   "id": "1e348fb1-b9c3-45bc-ba23-f016827a7e0d",
   "metadata": {
    "execution": {
     "iopub.execute_input": "2025-08-05T20:52:56.764175Z",
     "iopub.status.busy": "2025-08-05T20:52:56.763468Z",
     "iopub.status.idle": "2025-08-05T20:52:56.771184Z",
     "shell.execute_reply": "2025-08-05T20:52:56.769995Z"
    },
    "papermill": {
     "duration": 0.032804,
     "end_time": "2025-08-05T20:52:56.773093",
     "exception": false,
     "start_time": "2025-08-05T20:52:56.740289",
     "status": "completed"
    },
    "tags": []
   },
   "outputs": [
    {
     "data": {
      "text/plain": [
       "{'frau1': 0.912252325111201,\n",
       " 'nongerman': 0.9057429966878122,\n",
       " 'nongerman_male': 0.92227325947942,\n",
       " 'nongerman_female': 0.8783904619970194}"
      ]
     },
     "execution_count": 56,
     "metadata": {},
     "output_type": "execute_result"
    }
   ],
   "source": [
    "cond_coverage"
   ]
  },
  {
   "cell_type": "code",
   "execution_count": 57,
   "id": "f5093324-c3dd-4d63-bc4c-8d945e5c8bbb",
   "metadata": {
    "execution": {
     "iopub.execute_input": "2025-08-05T20:52:56.819876Z",
     "iopub.status.busy": "2025-08-05T20:52:56.819175Z",
     "iopub.status.idle": "2025-08-05T20:52:56.826896Z",
     "shell.execute_reply": "2025-08-05T20:52:56.825707Z"
    },
    "papermill": {
     "duration": 0.033038,
     "end_time": "2025-08-05T20:52:56.828912",
     "exception": false,
     "start_time": "2025-08-05T20:52:56.795874",
     "status": "completed"
    },
    "tags": []
   },
   "outputs": [],
   "source": [
    "for subgroup, cov in cond_coverage.items():\n",
    "    cp_metrics_df[f\"cov_{subgroup}\"] = cov"
   ]
  },
  {
   "cell_type": "code",
   "execution_count": 58,
   "id": "6e872e10-dbe5-49e8-b554-5030c98ff75d",
   "metadata": {
    "execution": {
     "iopub.execute_input": "2025-08-05T20:52:56.880884Z",
     "iopub.status.busy": "2025-08-05T20:52:56.879946Z",
     "iopub.status.idle": "2025-08-05T20:52:56.899742Z",
     "shell.execute_reply": "2025-08-05T20:52:56.898640Z"
    },
    "papermill": {
     "duration": 0.047103,
     "end_time": "2025-08-05T20:52:56.901742",
     "exception": false,
     "start_time": "2025-08-05T20:52:56.854639",
     "status": "completed"
    },
    "tags": []
   },
   "outputs": [
    {
     "data": {
      "text/html": [
       "<div>\n",
       "<style scoped>\n",
       "    .dataframe tbody tr th:only-of-type {\n",
       "        vertical-align: middle;\n",
       "    }\n",
       "\n",
       "    .dataframe tbody tr th {\n",
       "        vertical-align: top;\n",
       "    }\n",
       "\n",
       "    .dataframe thead th {\n",
       "        text-align: right;\n",
       "    }\n",
       "</style>\n",
       "<table border=\"1\" class=\"dataframe\">\n",
       "  <thead>\n",
       "    <tr style=\"text-align: right;\">\n",
       "      <th></th>\n",
       "      <th>universe_id</th>\n",
       "      <th>universe_training_year</th>\n",
       "      <th>universe_training_size</th>\n",
       "      <th>universe_scale</th>\n",
       "      <th>universe_model</th>\n",
       "      <th>universe_exclude_features</th>\n",
       "      <th>universe_exclude_subgroups</th>\n",
       "      <th>q_hat</th>\n",
       "      <th>coverage</th>\n",
       "      <th>avg_size</th>\n",
       "      <th>cov_frau1</th>\n",
       "      <th>cov_nongerman</th>\n",
       "      <th>cov_nongerman_male</th>\n",
       "      <th>cov_nongerman_female</th>\n",
       "    </tr>\n",
       "  </thead>\n",
       "  <tbody>\n",
       "    <tr>\n",
       "      <th>0</th>\n",
       "      <td>d9b1aab13a90fa48ecd4cbc5aa821279</td>\n",
       "      <td>2012_14</td>\n",
       "      <td>25k</td>\n",
       "      <td>scale</td>\n",
       "      <td>rf</td>\n",
       "      <td>nationality-sex</td>\n",
       "      <td>drop-non-german</td>\n",
       "      <td>0.65</td>\n",
       "      <td>0.912975</td>\n",
       "      <td>1.136551</td>\n",
       "      <td>0.912252</td>\n",
       "      <td>0.905743</td>\n",
       "      <td>0.922273</td>\n",
       "      <td>0.87839</td>\n",
       "    </tr>\n",
       "  </tbody>\n",
       "</table>\n",
       "</div>"
      ],
      "text/plain": [
       "                        universe_id universe_training_year  \\\n",
       "0  d9b1aab13a90fa48ecd4cbc5aa821279                2012_14   \n",
       "\n",
       "  universe_training_size universe_scale universe_model  \\\n",
       "0                    25k          scale             rf   \n",
       "\n",
       "  universe_exclude_features universe_exclude_subgroups  q_hat  coverage  \\\n",
       "0           nationality-sex            drop-non-german   0.65  0.912975   \n",
       "\n",
       "   avg_size  cov_frau1  cov_nongerman  cov_nongerman_male  \\\n",
       "0  1.136551   0.912252       0.905743            0.922273   \n",
       "\n",
       "   cov_nongerman_female  \n",
       "0               0.87839  "
      ]
     },
     "execution_count": 58,
     "metadata": {},
     "output_type": "execute_result"
    }
   ],
   "source": [
    "cp_metrics_df"
   ]
  },
  {
   "cell_type": "markdown",
   "id": "33774451",
   "metadata": {
    "papermill": {
     "duration": 0.024881,
     "end_time": "2025-08-05T20:52:56.952648",
     "exception": false,
     "start_time": "2025-08-05T20:52:56.927767",
     "status": "completed"
    },
    "tags": []
   },
   "source": [
    "# (Fairness) Metrics"
   ]
  },
  {
   "cell_type": "code",
   "execution_count": 59,
   "id": "debc5d62",
   "metadata": {
    "execution": {
     "iopub.execute_input": "2025-08-05T20:52:57.004211Z",
     "iopub.status.busy": "2025-08-05T20:52:57.003234Z",
     "iopub.status.idle": "2025-08-05T20:52:57.025322Z",
     "shell.execute_reply": "2025-08-05T20:52:57.024334Z"
    },
    "papermill": {
     "duration": 0.050061,
     "end_time": "2025-08-05T20:52:57.027590",
     "exception": false,
     "start_time": "2025-08-05T20:52:56.977529",
     "status": "completed"
    },
    "tags": []
   },
   "outputs": [],
   "source": [
    "# do I need to include maxdeutsch1.missing?\n",
    "\n",
    "import numpy as np\n",
    "\n",
    "colname_to_bin = \"maxdeutsch1\"\n",
    "majority_value = org_train[colname_to_bin].mode()[0]\n",
    "\n",
    "org_test[\"majmin\"] = np.where(org_test[colname_to_bin] == majority_value, \"majority\", \"minority\")"
   ]
  },
  {
   "cell_type": "code",
   "execution_count": 60,
   "id": "06a50de5",
   "metadata": {
    "execution": {
     "iopub.execute_input": "2025-08-05T20:52:57.076195Z",
     "iopub.status.busy": "2025-08-05T20:52:57.075836Z",
     "iopub.status.idle": "2025-08-05T20:52:59.433284Z",
     "shell.execute_reply": "2025-08-05T20:52:59.432054Z"
    },
    "papermill": {
     "duration": 2.382056,
     "end_time": "2025-08-05T20:52:59.435312",
     "exception": false,
     "start_time": "2025-08-05T20:52:57.053256",
     "status": "completed"
    },
    "tags": []
   },
   "outputs": [],
   "source": [
    "example_universe = universe.copy()\n",
    "example_universe[\"cutoff\"] = example_universe[\"cutoff\"][0]\n",
    "example_universe[\"eval_fairness_grouping\"] = example_universe[\"eval_fairness_grouping\"][0]\n",
    "fairness_dict, metric_frame = universe_analysis.compute_metrics(\n",
    "    example_universe,\n",
    "    y_pred_prob=probs_test,\n",
    "    y_test=y_true,\n",
    "    org_test=org_test,\n",
    ")"
   ]
  },
  {
   "cell_type": "markdown",
   "id": "f95d4e02",
   "metadata": {
    "papermill": {
     "duration": 0.021493,
     "end_time": "2025-08-05T20:52:59.478359",
     "exception": false,
     "start_time": "2025-08-05T20:52:59.456866",
     "status": "completed"
    },
    "tags": []
   },
   "source": [
    "# Overall"
   ]
  },
  {
   "cell_type": "markdown",
   "id": "bdee4871",
   "metadata": {
    "papermill": {
     "duration": 0.020862,
     "end_time": "2025-08-05T20:52:59.520629",
     "exception": false,
     "start_time": "2025-08-05T20:52:59.499767",
     "status": "completed"
    },
    "tags": []
   },
   "source": [
    "Fairness\n",
    "Main fairness target: Equalized Odds. Seems to be a better fit than equal opportunity, since we're not only interested in Y = 1. Seems to be a better fit than demographic parity, since we also care about accuracy, not just equal distribution of preds.\n",
    "\n",
    "Pick column for computation of fairness metrics\n",
    "\n",
    "Performance\n",
    "Overall performance measures, most interesting in relation to the measures split by group below"
   ]
  },
  {
   "cell_type": "code",
   "execution_count": 61,
   "id": "c4e067c6",
   "metadata": {
    "execution": {
     "iopub.execute_input": "2025-08-05T20:52:59.566160Z",
     "iopub.status.busy": "2025-08-05T20:52:59.565192Z",
     "iopub.status.idle": "2025-08-05T20:52:59.574364Z",
     "shell.execute_reply": "2025-08-05T20:52:59.573348Z"
    },
    "papermill": {
     "duration": 0.033773,
     "end_time": "2025-08-05T20:52:59.576023",
     "exception": false,
     "start_time": "2025-08-05T20:52:59.542250",
     "status": "completed"
    },
    "tags": []
   },
   "outputs": [
    {
     "data": {
      "text/plain": [
       "accuracy                   0.196567\n",
       "balanced accuracy          0.530868\n",
       "f1                         0.238451\n",
       "precision                  0.135729\n",
       "false positive rate        0.918800\n",
       "false negative rate        0.019465\n",
       "selection rate             0.926719\n",
       "count                  89710.000000\n",
       "dtype: float64"
      ]
     },
     "execution_count": 61,
     "metadata": {},
     "output_type": "execute_result"
    }
   ],
   "source": [
    "metric_frame.overall"
   ]
  },
  {
   "cell_type": "markdown",
   "id": "e968fe9d",
   "metadata": {
    "papermill": {
     "duration": 0.024619,
     "end_time": "2025-08-05T20:52:59.626356",
     "exception": false,
     "start_time": "2025-08-05T20:52:59.601737",
     "status": "completed"
    },
    "tags": []
   },
   "source": [
    "By Group"
   ]
  },
  {
   "cell_type": "code",
   "execution_count": 62,
   "id": "ec325bce",
   "metadata": {
    "execution": {
     "iopub.execute_input": "2025-08-05T20:52:59.677761Z",
     "iopub.status.busy": "2025-08-05T20:52:59.676731Z",
     "iopub.status.idle": "2025-08-05T20:52:59.692538Z",
     "shell.execute_reply": "2025-08-05T20:52:59.691536Z"
    },
    "papermill": {
     "duration": 0.043225,
     "end_time": "2025-08-05T20:52:59.694458",
     "exception": false,
     "start_time": "2025-08-05T20:52:59.651233",
     "status": "completed"
    },
    "tags": []
   },
   "outputs": [
    {
     "data": {
      "text/html": [
       "<div>\n",
       "<style scoped>\n",
       "    .dataframe tbody tr th:only-of-type {\n",
       "        vertical-align: middle;\n",
       "    }\n",
       "\n",
       "    .dataframe tbody tr th {\n",
       "        vertical-align: top;\n",
       "    }\n",
       "\n",
       "    .dataframe thead th {\n",
       "        text-align: right;\n",
       "    }\n",
       "</style>\n",
       "<table border=\"1\" class=\"dataframe\">\n",
       "  <thead>\n",
       "    <tr style=\"text-align: right;\">\n",
       "      <th></th>\n",
       "      <th>accuracy</th>\n",
       "      <th>balanced accuracy</th>\n",
       "      <th>f1</th>\n",
       "      <th>precision</th>\n",
       "      <th>false positive rate</th>\n",
       "      <th>false negative rate</th>\n",
       "      <th>selection rate</th>\n",
       "      <th>count</th>\n",
       "    </tr>\n",
       "    <tr>\n",
       "      <th>majmin</th>\n",
       "      <th></th>\n",
       "      <th></th>\n",
       "      <th></th>\n",
       "      <th></th>\n",
       "      <th></th>\n",
       "      <th></th>\n",
       "      <th></th>\n",
       "      <th></th>\n",
       "    </tr>\n",
       "  </thead>\n",
       "  <tbody>\n",
       "    <tr>\n",
       "      <th>majority</th>\n",
       "      <td>0.191832</td>\n",
       "      <td>0.530217</td>\n",
       "      <td>0.244591</td>\n",
       "      <td>0.139529</td>\n",
       "      <td>0.929718</td>\n",
       "      <td>0.009847</td>\n",
       "      <td>0.937704</td>\n",
       "      <td>69170.0</td>\n",
       "    </tr>\n",
       "    <tr>\n",
       "      <th>minority</th>\n",
       "      <td>0.212512</td>\n",
       "      <td>0.530340</td>\n",
       "      <td>0.216441</td>\n",
       "      <td>0.122244</td>\n",
       "      <td>0.882732</td>\n",
       "      <td>0.056588</td>\n",
       "      <td>0.889727</td>\n",
       "      <td>20540.0</td>\n",
       "    </tr>\n",
       "  </tbody>\n",
       "</table>\n",
       "</div>"
      ],
      "text/plain": [
       "          accuracy  balanced accuracy        f1  precision  \\\n",
       "majmin                                                       \n",
       "majority  0.191832           0.530217  0.244591   0.139529   \n",
       "minority  0.212512           0.530340  0.216441   0.122244   \n",
       "\n",
       "          false positive rate  false negative rate  selection rate    count  \n",
       "majmin                                                                       \n",
       "majority             0.929718             0.009847        0.937704  69170.0  \n",
       "minority             0.882732             0.056588        0.889727  20540.0  "
      ]
     },
     "execution_count": 62,
     "metadata": {},
     "output_type": "execute_result"
    }
   ],
   "source": [
    "metric_frame.by_group"
   ]
  },
  {
   "cell_type": "code",
   "execution_count": 63,
   "id": "a9ddbe63",
   "metadata": {
    "execution": {
     "iopub.execute_input": "2025-08-05T20:52:59.746903Z",
     "iopub.status.busy": "2025-08-05T20:52:59.745980Z",
     "iopub.status.idle": "2025-08-05T20:53:02.097747Z",
     "shell.execute_reply": "2025-08-05T20:53:02.096715Z"
    },
    "papermill": {
     "duration": 2.379512,
     "end_time": "2025-08-05T20:53:02.099579",
     "exception": false,
     "start_time": "2025-08-05T20:52:59.720067",
     "status": "completed"
    },
    "tags": []
   },
   "outputs": [
    {
     "data": {
      "text/plain": [
       "array([[<Axes: title={'center': 'accuracy'}, xlabel='majmin'>,\n",
       "        <Axes: title={'center': 'balanced accuracy'}, xlabel='majmin'>,\n",
       "        <Axes: title={'center': 'f1'}, xlabel='majmin'>],\n",
       "       [<Axes: title={'center': 'precision'}, xlabel='majmin'>,\n",
       "        <Axes: title={'center': 'false positive rate'}, xlabel='majmin'>,\n",
       "        <Axes: title={'center': 'false negative rate'}, xlabel='majmin'>],\n",
       "       [<Axes: title={'center': 'selection rate'}, xlabel='majmin'>,\n",
       "        <Axes: title={'center': 'count'}, xlabel='majmin'>,\n",
       "        <Axes: xlabel='majmin'>]], dtype=object)"
      ]
     },
     "execution_count": 63,
     "metadata": {},
     "output_type": "execute_result"
    },
    {
     "data": {
      "image/png": "[encoded data removed]",
      "text/plain": [
       "<Figure size 1200x800 with 9 Axes>"
      ]
     },
     "metadata": {},
     "output_type": "display_data"
    }
   ],
   "source": [
    "# In a graphic\n",
    "metric_frame.by_group.plot.bar(\n",
    "    subplots=True,\n",
    "    layout=[3, 3],\n",
    "    legend=False,\n",
    "    figsize=[12, 8],\n",
    "    title=\"Show all metrics\",\n",
    ")"
   ]
  },
  {
   "cell_type": "markdown",
   "id": "f57a0bac",
   "metadata": {
    "papermill": {
     "duration": 0.024151,
     "end_time": "2025-08-05T20:53:02.150482",
     "exception": false,
     "start_time": "2025-08-05T20:53:02.126331",
     "status": "completed"
    },
    "tags": []
   },
   "source": [
    "# Final Output"
   ]
  },
  {
   "cell_type": "code",
   "execution_count": 64,
   "id": "96d280a3",
   "metadata": {
    "execution": {
     "iopub.execute_input": "2025-08-05T20:53:02.199880Z",
     "iopub.status.busy": "2025-08-05T20:53:02.199146Z",
     "iopub.status.idle": "2025-08-05T20:53:02.207922Z",
     "shell.execute_reply": "2025-08-05T20:53:02.207082Z"
    },
    "papermill": {
     "duration": 0.035137,
     "end_time": "2025-08-05T20:53:02.209550",
     "exception": false,
     "start_time": "2025-08-05T20:53:02.174413",
     "status": "completed"
    },
    "tags": []
   },
   "outputs": [
    {
     "data": {
      "text/plain": [
       "4"
      ]
     },
     "execution_count": 64,
     "metadata": {},
     "output_type": "execute_result"
    }
   ],
   "source": [
    "sub_universes = universe_analysis.generate_sub_universes()\n",
    "len(sub_universes)"
   ]
  },
  {
   "cell_type": "code",
   "execution_count": 65,
   "id": "92adf7ba",
   "metadata": {
    "execution": {
     "iopub.execute_input": "2025-08-05T20:53:02.260611Z",
     "iopub.status.busy": "2025-08-05T20:53:02.259958Z",
     "iopub.status.idle": "2025-08-05T20:53:02.266770Z",
     "shell.execute_reply": "2025-08-05T20:53:02.265699Z"
    },
    "papermill": {
     "duration": 0.034065,
     "end_time": "2025-08-05T20:53:02.268616",
     "exception": false,
     "start_time": "2025-08-05T20:53:02.234551",
     "status": "completed"
    },
    "tags": []
   },
   "outputs": [],
   "source": [
    "def filter_sub_universe_data(sub_universe, org_test):\n",
    "    # Keep all rows — no filtering\n",
    "    keep_rows_mask = np.ones(org_test.shape[0], dtype=bool)\n",
    "\n",
    "    print(f\"[INFO] Keeping all rows: {keep_rows_mask.sum()} rows retained.\")\n",
    "    return keep_rows_mask"
   ]
  },
  {
   "cell_type": "code",
   "execution_count": 66,
   "id": "4a759155",
   "metadata": {
    "execution": {
     "iopub.execute_input": "2025-08-05T20:53:02.319191Z",
     "iopub.status.busy": "2025-08-05T20:53:02.318345Z",
     "iopub.status.idle": "2025-08-05T20:53:11.118957Z",
     "shell.execute_reply": "2025-08-05T20:53:11.118077Z"
    },
    "papermill": {
     "duration": 8.827557,
     "end_time": "2025-08-05T20:53:11.120569",
     "exception": false,
     "start_time": "2025-08-05T20:53:02.293012",
     "status": "completed"
    },
    "tags": []
   },
   "outputs": [
    {
     "name": "stdout",
     "output_type": "stream",
     "text": [
      "Stopping execution_time clock.\n",
      "[INFO] Keeping all rows: 89710 rows retained.\n"
     ]
    },
    {
     "name": "stdout",
     "output_type": "stream",
     "text": [
      "[INFO] Keeping all rows: 89710 rows retained.\n"
     ]
    },
    {
     "name": "stdout",
     "output_type": "stream",
     "text": [
      "[INFO] Keeping all rows: 89710 rows retained.\n"
     ]
    },
    {
     "name": "stdout",
     "output_type": "stream",
     "text": [
      "[INFO] Keeping all rows: 89710 rows retained.\n"
     ]
    },
    {
     "data": {
      "text/html": [
       "<div>\n",
       "<style scoped>\n",
       "    .dataframe tbody tr th:only-of-type {\n",
       "        vertical-align: middle;\n",
       "    }\n",
       "\n",
       "    .dataframe tbody tr th {\n",
       "        vertical-align: top;\n",
       "    }\n",
       "\n",
       "    .dataframe thead th {\n",
       "        text-align: right;\n",
       "    }\n",
       "</style>\n",
       "<table border=\"1\" class=\"dataframe\">\n",
       "  <thead>\n",
       "    <tr style=\"text-align: right;\">\n",
       "      <th></th>\n",
       "      <th>run_no</th>\n",
       "      <th>universe_id</th>\n",
       "      <th>universe_settings</th>\n",
       "      <th>execution_time</th>\n",
       "      <th>test_size_n</th>\n",
       "      <th>test_size_frac</th>\n",
       "      <th>fair_main_equalized_odds_difference</th>\n",
       "      <th>fair_main_equalized_odds_ratio</th>\n",
       "      <th>fair_main_demographic_parity_difference</th>\n",
       "      <th>fair_main_demographic_parity_ratio</th>\n",
       "      <th>...</th>\n",
       "      <th>perf_grp_precision_0</th>\n",
       "      <th>perf_grp_precision_1</th>\n",
       "      <th>perf_grp_false positive rate_0</th>\n",
       "      <th>perf_grp_false positive rate_1</th>\n",
       "      <th>perf_grp_false negative rate_0</th>\n",
       "      <th>perf_grp_false negative rate_1</th>\n",
       "      <th>perf_grp_selection rate_0</th>\n",
       "      <th>perf_grp_selection rate_1</th>\n",
       "      <th>perf_grp_count_0</th>\n",
       "      <th>perf_grp_count_1</th>\n",
       "    </tr>\n",
       "  </thead>\n",
       "  <tbody>\n",
       "    <tr>\n",
       "      <th>0</th>\n",
       "      <td>16</td>\n",
       "      <td>d9b1aab13a90fa48ecd4cbc5aa821279</td>\n",
       "      <td>{\"cutoff\": \"quantile_0.1\", \"eval_fairness_grou...</td>\n",
       "      <td>41.021327</td>\n",
       "      <td>89710</td>\n",
       "      <td>1.0</td>\n",
       "      <td>0.046987</td>\n",
       "      <td>0.949461</td>\n",
       "      <td>0.047977</td>\n",
       "      <td>0.948836</td>\n",
       "      <td>...</td>\n",
       "      <td>NaN</td>\n",
       "      <td>NaN</td>\n",
       "      <td>NaN</td>\n",
       "      <td>NaN</td>\n",
       "      <td>NaN</td>\n",
       "      <td>NaN</td>\n",
       "      <td>NaN</td>\n",
       "      <td>NaN</td>\n",
       "      <td>NaN</td>\n",
       "      <td>NaN</td>\n",
       "    </tr>\n",
       "    <tr>\n",
       "      <th>0</th>\n",
       "      <td>16</td>\n",
       "      <td>d9b1aab13a90fa48ecd4cbc5aa821279</td>\n",
       "      <td>{\"cutoff\": \"quantile_0.1\", \"eval_fairness_grou...</td>\n",
       "      <td>41.021327</td>\n",
       "      <td>89710</td>\n",
       "      <td>1.0</td>\n",
       "      <td>0.046987</td>\n",
       "      <td>0.949461</td>\n",
       "      <td>0.047977</td>\n",
       "      <td>0.948836</td>\n",
       "      <td>...</td>\n",
       "      <td>0.122244</td>\n",
       "      <td>0.139529</td>\n",
       "      <td>0.882732</td>\n",
       "      <td>0.929718</td>\n",
       "      <td>0.056588</td>\n",
       "      <td>0.009847</td>\n",
       "      <td>0.889727</td>\n",
       "      <td>0.937704</td>\n",
       "      <td>20540.0</td>\n",
       "      <td>69170.0</td>\n",
       "    </tr>\n",
       "    <tr>\n",
       "      <th>0</th>\n",
       "      <td>16</td>\n",
       "      <td>d9b1aab13a90fa48ecd4cbc5aa821279</td>\n",
       "      <td>{\"cutoff\": \"quantile_0.25\", \"eval_fairness_gro...</td>\n",
       "      <td>41.021327</td>\n",
       "      <td>89710</td>\n",
       "      <td>1.0</td>\n",
       "      <td>0.094170</td>\n",
       "      <td>0.901678</td>\n",
       "      <td>0.056491</td>\n",
       "      <td>0.928186</td>\n",
       "      <td>...</td>\n",
       "      <td>NaN</td>\n",
       "      <td>NaN</td>\n",
       "      <td>NaN</td>\n",
       "      <td>NaN</td>\n",
       "      <td>NaN</td>\n",
       "      <td>NaN</td>\n",
       "      <td>NaN</td>\n",
       "      <td>NaN</td>\n",
       "      <td>NaN</td>\n",
       "      <td>NaN</td>\n",
       "    </tr>\n",
       "    <tr>\n",
       "      <th>0</th>\n",
       "      <td>16</td>\n",
       "      <td>d9b1aab13a90fa48ecd4cbc5aa821279</td>\n",
       "      <td>{\"cutoff\": \"quantile_0.25\", \"eval_fairness_gro...</td>\n",
       "      <td>41.021327</td>\n",
       "      <td>89710</td>\n",
       "      <td>1.0</td>\n",
       "      <td>0.094170</td>\n",
       "      <td>0.901678</td>\n",
       "      <td>0.056491</td>\n",
       "      <td>0.928186</td>\n",
       "      <td>...</td>\n",
       "      <td>0.136361</td>\n",
       "      <td>0.160887</td>\n",
       "      <td>0.712745</td>\n",
       "      <td>0.760570</td>\n",
       "      <td>0.136402</td>\n",
       "      <td>0.042232</td>\n",
       "      <td>0.730136</td>\n",
       "      <td>0.786627</td>\n",
       "      <td>20540.0</td>\n",
       "      <td>69170.0</td>\n",
       "    </tr>\n",
       "  </tbody>\n",
       "</table>\n",
       "<p>4 rows × 50 columns</p>\n",
       "</div>"
      ],
      "text/plain": [
       "  run_no                       universe_id  \\\n",
       "0     16  d9b1aab13a90fa48ecd4cbc5aa821279   \n",
       "0     16  d9b1aab13a90fa48ecd4cbc5aa821279   \n",
       "0     16  d9b1aab13a90fa48ecd4cbc5aa821279   \n",
       "0     16  d9b1aab13a90fa48ecd4cbc5aa821279   \n",
       "\n",
       "                                   universe_settings  execution_time  \\\n",
       "0  {\"cutoff\": \"quantile_0.1\", \"eval_fairness_grou...       41.021327   \n",
       "0  {\"cutoff\": \"quantile_0.1\", \"eval_fairness_grou...       41.021327   \n",
       "0  {\"cutoff\": \"quantile_0.25\", \"eval_fairness_gro...       41.021327   \n",
       "0  {\"cutoff\": \"quantile_0.25\", \"eval_fairness_gro...       41.021327   \n",
       "\n",
       "   test_size_n  test_size_frac  fair_main_equalized_odds_difference  \\\n",
       "0        89710             1.0                             0.046987   \n",
       "0        89710             1.0                             0.046987   \n",
       "0        89710             1.0                             0.094170   \n",
       "0        89710             1.0                             0.094170   \n",
       "\n",
       "   fair_main_equalized_odds_ratio  fair_main_demographic_parity_difference  \\\n",
       "0                        0.949461                                 0.047977   \n",
       "0                        0.949461                                 0.047977   \n",
       "0                        0.901678                                 0.056491   \n",
       "0                        0.901678                                 0.056491   \n",
       "\n",
       "   fair_main_demographic_parity_ratio  ...  perf_grp_precision_0  \\\n",
       "0                            0.948836  ...                   NaN   \n",
       "0                            0.948836  ...              0.122244   \n",
       "0                            0.928186  ...                   NaN   \n",
       "0                            0.928186  ...              0.136361   \n",
       "\n",
       "   perf_grp_precision_1  perf_grp_false positive rate_0  \\\n",
       "0                   NaN                             NaN   \n",
       "0              0.139529                        0.882732   \n",
       "0                   NaN                             NaN   \n",
       "0              0.160887                        0.712745   \n",
       "\n",
       "   perf_grp_false positive rate_1  perf_grp_false negative rate_0  \\\n",
       "0                             NaN                             NaN   \n",
       "0                        0.929718                        0.056588   \n",
       "0                             NaN                             NaN   \n",
       "0                        0.760570                        0.136402   \n",
       "\n",
       "   perf_grp_false negative rate_1  perf_grp_selection rate_0  \\\n",
       "0                             NaN                        NaN   \n",
       "0                        0.009847                   0.889727   \n",
       "0                             NaN                        NaN   \n",
       "0                        0.042232                   0.730136   \n",
       "\n",
       "   perf_grp_selection rate_1  perf_grp_count_0  perf_grp_count_1  \n",
       "0                        NaN               NaN               NaN  \n",
       "0                   0.937704           20540.0           69170.0  \n",
       "0                        NaN               NaN               NaN  \n",
       "0                   0.786627           20540.0           69170.0  \n",
       "\n",
       "[4 rows x 50 columns]"
      ]
     },
     "execution_count": 66,
     "metadata": {},
     "output_type": "execute_result"
    }
   ],
   "source": [
    "final_output = universe_analysis.generate_final_output(\n",
    "    y_pred_prob=probs_test,\n",
    "    y_test=y_true,\n",
    "    org_test=org_test,\n",
    "    filter_data=filter_sub_universe_data,\n",
    "    cp_metrics_df=cp_metrics_df,\n",
    "    save=True,\n",
    ")\n",
    "final_output"
   ]
  }
 ],
 "metadata": {
  "celltoolbar": "Tags",
  "kernelspec": {
   "display_name": "Python (CMA Fairness)",
   "language": "python",
   "name": "cma_fair_env"
  },
  "language_info": {
   "codemirror_mode": {
    "name": "ipython",
    "version": 3
   },
   "file_extension": ".py",
   "mimetype": "text/x-python",
   "name": "python",
   "nbconvert_exporter": "python",
   "pygments_lexer": "ipython3",
   "version": "3.10.12"
  },
  "papermill": {
   "default_parameters": {},
   "duration": 53.970211,
   "end_time": "2025-08-05T20:53:11.972663",
   "environment_variables": {},
   "exception": null,
   "input_path": "universe_analysis.ipynb",
   "output_path": "output/runs/16/notebooks/m_16-d9b1aab13a90fa48ecd4cbc5aa821279.ipynb",
   "parameters": {
    "output_dir": "output",
    "run_no": "16",
    "seed": "2023",
    "universe": "{\"cutoff\": [\"quantile_0.1\", \"quantile_0.25\"], \"eval_fairness_grouping\": [\"majority-minority\", \"nationality-all\"], \"exclude_features\": \"nationality-sex\", \"exclude_subgroups\": \"drop-non-german\", \"model\": \"rf\", \"scale\": \"scale\", \"training_size\": \"25k\", \"training_year\": \"2012_14\"}",
    "universe_id": "d9b1aab13a90fa48ecd4cbc5aa821279"
   },
   "start_time": "2025-08-05T20:52:18.002452",
   "version": "2.6.0"
  }
 },
 "nbformat": 4,
 "nbformat_minor": 5
}