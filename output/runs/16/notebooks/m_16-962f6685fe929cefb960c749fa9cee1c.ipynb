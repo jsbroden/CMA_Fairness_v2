{
 "cells": [
  {
   "cell_type": "code",
   "execution_count": 1,
   "id": "f159f837-637b-42ba-96b5-ec9a68c44524",
   "metadata": {
    "execution": {
     "iopub.execute_input": "2025-08-05T20:58:56.362728Z",
     "iopub.status.busy": "2025-08-05T20:58:56.361860Z",
     "iopub.status.idle": "2025-08-05T20:58:56.375672Z",
     "shell.execute_reply": "2025-08-05T20:58:56.374631Z"
    },
    "papermill": {
     "duration": 0.033382,
     "end_time": "2025-08-05T20:58:56.377351",
     "exception": false,
     "start_time": "2025-08-05T20:58:56.343969",
     "status": "completed"
    },
    "tags": []
   },
   "outputs": [
    {
     "name": "stdout",
     "output_type": "stream",
     "text": [
      "/dss/dsshome1/0C/ra93lal2/cma/CMA_Fairness_v2\n"
     ]
    },
    {
     "name": "stderr",
     "output_type": "stream",
     "text": [
      "/dss/dsshome1/0C/ra93lal2/.local/share/virtualenvs/CMA_Fairness_v2-3j10GkSs/lib/python3.10/site-packages/IPython/core/magics/osm.py:393: UserWarning: This is now an optional IPython functionality, using bookmarks requires you to install the `pickleshare` library.\n",
      "  bkms = self.shell.db.get('bookmarks', {})\n",
      "/dss/dsshome1/0C/ra93lal2/.local/share/virtualenvs/CMA_Fairness_v2-3j10GkSs/lib/python3.10/site-packages/IPython/core/magics/osm.py:417: UserWarning: This is now an optional IPython functionality, setting dhist requires you to install the `pickleshare` library.\n",
      "  self.shell.db['dhist'] = compress_dhist(dhist)[-100:]\n"
     ]
    }
   ],
   "source": [
    "%cd ~/cma/CMA_Fairness_v2"
   ]
  },
  {
   "cell_type": "markdown",
   "id": "de2603b9",
   "metadata": {
    "papermill": {
     "duration": 0.017152,
     "end_time": "2025-08-05T20:58:56.412017",
     "exception": false,
     "start_time": "2025-08-05T20:58:56.394865",
     "status": "completed"
    },
    "tags": []
   },
   "source": [
    "The following cell holds the definition of our parameters, these values can be overriden by rendering the with e.g. the following command:\n",
    "\n",
    "papermill -p alpha 0.2 -p ratio 0.3 universe_analysis.ipynb output/test_run.ipynb"
   ]
  },
  {
   "cell_type": "code",
   "execution_count": 2,
   "id": "a80968a0-40bb-4fa9-85ef-2d5eefb01975",
   "metadata": {
    "execution": {
     "iopub.execute_input": "2025-08-05T20:58:56.448416Z",
     "iopub.status.busy": "2025-08-05T20:58:56.447941Z",
     "iopub.status.idle": "2025-08-05T20:58:56.452883Z",
     "shell.execute_reply": "2025-08-05T20:58:56.452073Z"
    },
    "papermill": {
     "duration": 0.024713,
     "end_time": "2025-08-05T20:58:56.454437",
     "exception": false,
     "start_time": "2025-08-05T20:58:56.429724",
     "status": "completed"
    },
    "tags": []
   },
   "outputs": [
    {
     "name": "stdout",
     "output_type": "stream",
     "text": [
      "Current working directory: /dss/dsshome1/0C/ra93lal2/cma/CMA_Fairness_v2\n"
     ]
    }
   ],
   "source": [
    "import os\n",
    "print(\"Current working directory:\", os.getcwd())"
   ]
  },
  {
   "cell_type": "code",
   "execution_count": 3,
   "id": "2dce4c03",
   "metadata": {
    "execution": {
     "iopub.execute_input": "2025-08-05T20:58:56.472988Z",
     "iopub.status.busy": "2025-08-05T20:58:56.472450Z",
     "iopub.status.idle": "2025-08-05T20:58:56.477143Z",
     "shell.execute_reply": "2025-08-05T20:58:56.476418Z"
    },
    "papermill": {
     "duration": 0.015222,
     "end_time": "2025-08-05T20:58:56.478543",
     "exception": false,
     "start_time": "2025-08-05T20:58:56.463321",
     "status": "completed"
    },
    "tags": [
     "parameters"
    ]
   },
   "outputs": [],
   "source": [
    "run_no = 0\n",
    "universe_id = \"test\"\n",
    "universe = {\n",
    "    \"training_size\": \"25k\", # \"25k\", \"5k\", \"1k\"\n",
    "    \"training_year\": \"2014\", # \"2014\", \"2012_14\", \"2010_14\"\n",
    "    \"scale\": \"scale\", # \"scale\", \"do-not-scale\",\n",
    "    \"model\": \"elasticnet\", # \"logreg\", \"penalized_logreg\", \"rf\", \"gbm\", \"elasticnet\"\n",
    "    \"cutoff\": [\"quantile_0.15\", \"quantile_0.30\"],\n",
    "    \"exclude_features\": \"age\", # \"none\", \"nationality\", \"sex\", \"nationality-sex\", \"age\"\n",
    "    \"exclude_subgroups\": \"keep-all\", # \"keep-all\", \"drop-non-german\"\n",
    "    \"eval_fairness_grouping\": [\"majority-minority\", \"nationality-all\"]\n",
    "}\n",
    "\n",
    "output_dir=\"./output\"\n",
    "seed=0"
   ]
  },
  {
   "cell_type": "code",
   "execution_count": 4,
   "id": "314dbd45",
   "metadata": {
    "execution": {
     "iopub.execute_input": "2025-08-05T20:58:56.507226Z",
     "iopub.status.busy": "2025-08-05T20:58:56.506847Z",
     "iopub.status.idle": "2025-08-05T20:58:56.511835Z",
     "shell.execute_reply": "2025-08-05T20:58:56.510889Z"
    },
    "papermill": {
     "duration": 0.024235,
     "end_time": "2025-08-05T20:58:56.513935",
     "exception": false,
     "start_time": "2025-08-05T20:58:56.489700",
     "status": "completed"
    },
    "tags": [
     "injected-parameters"
    ]
   },
   "outputs": [],
   "source": [
    "# Parameters\n",
    "universe_id = \"962f6685fe929cefb960c749fa9cee1c\"\n",
    "run_no = \"16\"\n",
    "universe = \"{\\\"cutoff\\\": [\\\"quantile_0.1\\\", \\\"quantile_0.25\\\"], \\\"eval_fairness_grouping\\\": [\\\"majority-minority\\\", \\\"nationality-all\\\"], \\\"exclude_features\\\": \\\"age\\\", \\\"exclude_subgroups\\\": \\\"keep-all\\\", \\\"model\\\": \\\"penalized_logreg\\\", \\\"scale\\\": \\\"do-not-scale\\\", \\\"training_size\\\": \\\"25k\\\", \\\"training_year\\\": \\\"2012_14\\\"}\"\n",
    "output_dir = \"output\"\n",
    "seed = \"2023\"\n"
   ]
  },
  {
   "cell_type": "code",
   "execution_count": 5,
   "id": "1650acaf",
   "metadata": {
    "execution": {
     "iopub.execute_input": "2025-08-05T20:58:56.549153Z",
     "iopub.status.busy": "2025-08-05T20:58:56.548703Z",
     "iopub.status.idle": "2025-08-05T20:58:56.553847Z",
     "shell.execute_reply": "2025-08-05T20:58:56.552818Z"
    },
    "papermill": {
     "duration": 0.025383,
     "end_time": "2025-08-05T20:58:56.555870",
     "exception": false,
     "start_time": "2025-08-05T20:58:56.530487",
     "status": "completed"
    },
    "tags": []
   },
   "outputs": [],
   "source": [
    "import json\n",
    "if isinstance(universe, str):\n",
    "    universe = json.loads(universe)"
   ]
  },
  {
   "cell_type": "code",
   "execution_count": 6,
   "id": "16620c48",
   "metadata": {
    "execution": {
     "iopub.execute_input": "2025-08-05T20:58:56.589530Z",
     "iopub.status.busy": "2025-08-05T20:58:56.589163Z",
     "iopub.status.idle": "2025-08-05T20:58:56.633303Z",
     "shell.execute_reply": "2025-08-05T20:58:56.632343Z"
    },
    "papermill": {
     "duration": 0.062365,
     "end_time": "2025-08-05T20:58:56.634921",
     "exception": false,
     "start_time": "2025-08-05T20:58:56.572556",
     "status": "completed"
    },
    "tags": []
   },
   "outputs": [],
   "source": [
    "# Auto-reload the custom package\n",
    "%load_ext autoreload\n",
    "%autoreload 1\n",
    "%aimport fairness_multiverse"
   ]
  },
  {
   "cell_type": "code",
   "execution_count": 7,
   "id": "01c5c9f3",
   "metadata": {
    "execution": {
     "iopub.execute_input": "2025-08-05T20:58:56.654113Z",
     "iopub.status.busy": "2025-08-05T20:58:56.653475Z",
     "iopub.status.idle": "2025-08-05T20:58:58.591921Z",
     "shell.execute_reply": "2025-08-05T20:58:58.590912Z"
    },
    "papermill": {
     "duration": 1.949943,
     "end_time": "2025-08-05T20:58:58.593875",
     "exception": false,
     "start_time": "2025-08-05T20:58:56.643932",
     "status": "completed"
    },
    "tags": []
   },
   "outputs": [],
   "source": [
    "from fairness_multiverse.universe import UniverseAnalysis\n",
    "\n",
    "universe_analysis = UniverseAnalysis(\n",
    "    run_no = run_no,\n",
    "    universe_id = universe_id,\n",
    "    universe = universe,\n",
    "    output_dir=output_dir,\n",
    ")"
   ]
  },
  {
   "cell_type": "code",
   "execution_count": 8,
   "id": "106241f5",
   "metadata": {
    "execution": {
     "iopub.execute_input": "2025-08-05T20:58:58.629295Z",
     "iopub.status.busy": "2025-08-05T20:58:58.628455Z",
     "iopub.status.idle": "2025-08-05T20:58:58.634616Z",
     "shell.execute_reply": "2025-08-05T20:58:58.633647Z"
    },
    "papermill": {
     "duration": 0.024971,
     "end_time": "2025-08-05T20:58:58.636388",
     "exception": false,
     "start_time": "2025-08-05T20:58:58.611417",
     "status": "completed"
    },
    "tags": []
   },
   "outputs": [
    {
     "name": "stdout",
     "output_type": "stream",
     "text": [
      "Using Seed: 2023\n"
     ]
    }
   ],
   "source": [
    "import numpy as np\n",
    "parsed_seed = int(seed)\n",
    "np.random.seed(parsed_seed)\n",
    "print(f\"Using Seed: {parsed_seed}\")"
   ]
  },
  {
   "cell_type": "markdown",
   "id": "e0ebdc57",
   "metadata": {
    "papermill": {
     "duration": 0.016387,
     "end_time": "2025-08-05T20:58:58.669789",
     "exception": false,
     "start_time": "2025-08-05T20:58:58.653402",
     "status": "completed"
    },
    "tags": []
   },
   "source": [
    "# Loading Data"
   ]
  },
  {
   "cell_type": "code",
   "execution_count": 9,
   "id": "f0496b8a",
   "metadata": {
    "execution": {
     "iopub.execute_input": "2025-08-05T20:58:58.705272Z",
     "iopub.status.busy": "2025-08-05T20:58:58.704609Z",
     "iopub.status.idle": "2025-08-05T20:59:11.754182Z",
     "shell.execute_reply": "2025-08-05T20:59:11.752822Z"
    },
    "papermill": {
     "duration": 13.069086,
     "end_time": "2025-08-05T20:59:11.756072",
     "exception": false,
     "start_time": "2025-08-05T20:58:58.686986",
     "status": "completed"
    },
    "tags": []
   },
   "outputs": [
    {
     "name": "stdout",
     "output_type": "stream",
     "text": [
      "Loading SIAB data from cache: data/siab_cached.csv.gz\n"
     ]
    },
    {
     "name": "stdout",
     "output_type": "stream",
     "text": [
      "(643690, 164)\n"
     ]
    }
   ],
   "source": [
    "from pathlib import Path\n",
    "import pandas as pd\n",
    "\n",
    "# File paths\n",
    "raw_file = Path(\"data/raw/siab.csv\")\n",
    "cache_file = Path(\"data/siab_cached.csv.gz\")\n",
    "\n",
    "# Ensure cache directory exists\n",
    "cache_file.parent.mkdir(parents=True, exist_ok=True)\n",
    "\n",
    "# Load with simple caching\n",
    "if cache_file.exists():\n",
    "    print(f\"Loading SIAB data from cache: {cache_file}\")\n",
    "    siab = pd.read_csv(cache_file, compression='gzip')\n",
    "else:\n",
    "    print(f\"Cache not found. Reading raw SIAB data: {raw_file}\")\n",
    "    siab = pd.read_csv(raw_file)\n",
    "    siab.to_csv(cache_file, index=False, compression='gzip')\n",
    "    print(f\"Cached SIAB data to: {cache_file}\")\n",
    "\n",
    "print(siab.shape)"
   ]
  },
  {
   "cell_type": "code",
   "execution_count": 10,
   "id": "db0ca512-5f53-4dba-abdb-a2888bca41ba",
   "metadata": {
    "execution": {
     "iopub.execute_input": "2025-08-05T20:59:11.800952Z",
     "iopub.status.busy": "2025-08-05T20:59:11.800231Z",
     "iopub.status.idle": "2025-08-05T20:59:11.806910Z",
     "shell.execute_reply": "2025-08-05T20:59:11.805794Z"
    },
    "papermill": {
     "duration": 0.030404,
     "end_time": "2025-08-05T20:59:11.809091",
     "exception": false,
     "start_time": "2025-08-05T20:59:11.778687",
     "status": "completed"
    },
    "tags": []
   },
   "outputs": [],
   "source": [
    "#siab"
   ]
  },
  {
   "cell_type": "markdown",
   "id": "997051c5-15bd-4b69-9786-c3001a3ce484",
   "metadata": {
    "papermill": {
     "duration": 0.021759,
     "end_time": "2025-08-05T20:59:11.859261",
     "exception": false,
     "start_time": "2025-08-05T20:59:11.837502",
     "status": "completed"
    },
    "tags": []
   },
   "source": [
    "# Splitting Data and Setting Training Data Size"
   ]
  },
  {
   "cell_type": "code",
   "execution_count": 11,
   "id": "aea9c6ef-6f46-42c8-85eb-5a62025c1508",
   "metadata": {
    "execution": {
     "iopub.execute_input": "2025-08-05T20:59:11.904554Z",
     "iopub.status.busy": "2025-08-05T20:59:11.903554Z",
     "iopub.status.idle": "2025-08-05T20:59:12.727298Z",
     "shell.execute_reply": "2025-08-05T20:59:12.726204Z"
    },
    "papermill": {
     "duration": 0.847653,
     "end_time": "2025-08-05T20:59:12.728883",
     "exception": false,
     "start_time": "2025-08-05T20:59:11.881230",
     "status": "completed"
    },
    "tags": []
   },
   "outputs": [],
   "source": [
    "from fairness_multiverse.universe import sample_by_year_size\n",
    "\n",
    "siab_train = sample_by_year_size(siab,\n",
    "                               training_year=universe[\"training_year\"],\n",
    "                               training_size=universe[\"training_size\"])"
   ]
  },
  {
   "cell_type": "code",
   "execution_count": 12,
   "id": "8d3afb32-789d-442c-8d5d-9f5aa8dd2eed",
   "metadata": {
    "execution": {
     "iopub.execute_input": "2025-08-05T20:59:12.768683Z",
     "iopub.status.busy": "2025-08-05T20:59:12.768011Z",
     "iopub.status.idle": "2025-08-05T20:59:12.774039Z",
     "shell.execute_reply": "2025-08-05T20:59:12.772879Z"
    },
    "papermill": {
     "duration": 0.029172,
     "end_time": "2025-08-05T20:59:12.776056",
     "exception": false,
     "start_time": "2025-08-05T20:59:12.746884",
     "status": "completed"
    },
    "tags": []
   },
   "outputs": [],
   "source": [
    "#siab_train.shape"
   ]
  },
  {
   "cell_type": "code",
   "execution_count": 13,
   "id": "d582db68-1a4c-47fb-84fc-08518dc1975a",
   "metadata": {
    "execution": {
     "iopub.execute_input": "2025-08-05T20:59:12.815114Z",
     "iopub.status.busy": "2025-08-05T20:59:12.814604Z",
     "iopub.status.idle": "2025-08-05T20:59:12.820316Z",
     "shell.execute_reply": "2025-08-05T20:59:12.819306Z"
    },
    "papermill": {
     "duration": 0.027453,
     "end_time": "2025-08-05T20:59:12.822094",
     "exception": false,
     "start_time": "2025-08-05T20:59:12.794641",
     "status": "completed"
    },
    "tags": []
   },
   "outputs": [],
   "source": [
    "#display(siab_train.groupby(\"year\").size())"
   ]
  },
  {
   "cell_type": "code",
   "execution_count": 14,
   "id": "a561edb4-d032-42cb-8256-22eac1111c64",
   "metadata": {
    "execution": {
     "iopub.execute_input": "2025-08-05T20:59:12.852463Z",
     "iopub.status.busy": "2025-08-05T20:59:12.852171Z",
     "iopub.status.idle": "2025-08-05T20:59:13.091156Z",
     "shell.execute_reply": "2025-08-05T20:59:13.090181Z"
    },
    "papermill": {
     "duration": 0.253047,
     "end_time": "2025-08-05T20:59:13.093225",
     "exception": false,
     "start_time": "2025-08-05T20:59:12.840178",
     "status": "completed"
    },
    "tags": []
   },
   "outputs": [],
   "source": [
    "#siab_train = siab_s[siab_s.year < 2015]\n",
    "siab_calib = siab[siab.year == 2015]\n",
    "siab_test = siab[siab.year == 2016]"
   ]
  },
  {
   "cell_type": "code",
   "execution_count": 15,
   "id": "472de16f-c3db-4916-846b-1f0de9cf1746",
   "metadata": {
    "execution": {
     "iopub.execute_input": "2025-08-05T20:59:13.128866Z",
     "iopub.status.busy": "2025-08-05T20:59:13.128383Z",
     "iopub.status.idle": "2025-08-05T20:59:13.143448Z",
     "shell.execute_reply": "2025-08-05T20:59:13.142221Z"
    },
    "papermill": {
     "duration": 0.033883,
     "end_time": "2025-08-05T20:59:13.145273",
     "exception": false,
     "start_time": "2025-08-05T20:59:13.111390",
     "status": "completed"
    },
    "tags": []
   },
   "outputs": [],
   "source": [
    "X_train = siab_train.iloc[:,4:164]\n",
    "y_train = siab_train.iloc[:, [3]]"
   ]
  },
  {
   "cell_type": "code",
   "execution_count": 16,
   "id": "828c96af-f43a-4ed6-ba47-8ac73a47d56c",
   "metadata": {
    "execution": {
     "iopub.execute_input": "2025-08-05T20:59:13.183862Z",
     "iopub.status.busy": "2025-08-05T20:59:13.183023Z",
     "iopub.status.idle": "2025-08-05T20:59:13.235244Z",
     "shell.execute_reply": "2025-08-05T20:59:13.234103Z"
    },
    "papermill": {
     "duration": 0.075534,
     "end_time": "2025-08-05T20:59:13.238955",
     "exception": false,
     "start_time": "2025-08-05T20:59:13.163421",
     "status": "completed"
    },
    "tags": []
   },
   "outputs": [],
   "source": [
    "X_calib = siab_calib.iloc[:,4:164]\n",
    "y_calib = siab_calib.iloc[:, [3]]"
   ]
  },
  {
   "cell_type": "code",
   "execution_count": 17,
   "id": "c34be9c3-6bd6-476e-acd3-845840e303be",
   "metadata": {
    "execution": {
     "iopub.execute_input": "2025-08-05T20:59:13.292646Z",
     "iopub.status.busy": "2025-08-05T20:59:13.291921Z",
     "iopub.status.idle": "2025-08-05T20:59:13.344916Z",
     "shell.execute_reply": "2025-08-05T20:59:13.343810Z"
    },
    "papermill": {
     "duration": 0.081009,
     "end_time": "2025-08-05T20:59:13.347062",
     "exception": false,
     "start_time": "2025-08-05T20:59:13.266053",
     "status": "completed"
    },
    "tags": []
   },
   "outputs": [],
   "source": [
    "X_test = siab_test.iloc[:,4:164]\n",
    "y_true = siab_test.iloc[:, [3]]"
   ]
  },
  {
   "cell_type": "code",
   "execution_count": 18,
   "id": "e6c733c5",
   "metadata": {
    "execution": {
     "iopub.execute_input": "2025-08-05T20:59:13.388089Z",
     "iopub.status.busy": "2025-08-05T20:59:13.387320Z",
     "iopub.status.idle": "2025-08-05T20:59:13.483742Z",
     "shell.execute_reply": "2025-08-05T20:59:13.482793Z"
    },
    "papermill": {
     "duration": 0.11807,
     "end_time": "2025-08-05T20:59:13.485596",
     "exception": false,
     "start_time": "2025-08-05T20:59:13.367526",
     "status": "completed"
    },
    "tags": []
   },
   "outputs": [],
   "source": [
    "# Auxiliary data needed downstream in the pipeline\n",
    "\n",
    "org_train = X_train.copy()\n",
    "org_test = X_test.copy()\n",
    "org_calib = X_calib.copy()"
   ]
  },
  {
   "cell_type": "markdown",
   "id": "0a4a1b33",
   "metadata": {
    "papermill": {
     "duration": 0.019136,
     "end_time": "2025-08-05T20:59:13.521562",
     "exception": false,
     "start_time": "2025-08-05T20:59:13.502426",
     "status": "completed"
    },
    "tags": []
   },
   "source": [
    "# Preprocessing Data"
   ]
  },
  {
   "cell_type": "code",
   "execution_count": 19,
   "id": "ca879031",
   "metadata": {
    "execution": {
     "iopub.execute_input": "2025-08-05T20:59:13.561880Z",
     "iopub.status.busy": "2025-08-05T20:59:13.561150Z",
     "iopub.status.idle": "2025-08-05T20:59:13.567530Z",
     "shell.execute_reply": "2025-08-05T20:59:13.566555Z"
    },
    "papermill": {
     "duration": 0.02858,
     "end_time": "2025-08-05T20:59:13.569315",
     "exception": false,
     "start_time": "2025-08-05T20:59:13.540735",
     "status": "completed"
    },
    "tags": []
   },
   "outputs": [],
   "source": [
    "# EXCLUDE PROTECTED FEATURES\n",
    "# ----------------------\n",
    "# \"exclude_features\": \"none\", # \"nationality\", \"sex\", \"nationality-sex\"\n",
    "\n",
    "excluded_features = universe[\"exclude_features\"].split(\"-\") # split, e.g.: \"nationality-sex\" -> [\"nationality\", \"sex\"]\n",
    "excluded_features_dictionary = {\n",
    "    \"nationality\": [\"maxdeutsch1\", \"maxdeutsch.Missing.\"],\n",
    "    \"sex\": [\"frau1\"],\n",
    "    \"age\": [\"age\"],\n",
    "}"
   ]
  },
  {
   "cell_type": "code",
   "execution_count": 20,
   "id": "b745ac60",
   "metadata": {
    "execution": {
     "iopub.execute_input": "2025-08-05T20:59:13.609431Z",
     "iopub.status.busy": "2025-08-05T20:59:13.608833Z",
     "iopub.status.idle": "2025-08-05T20:59:13.614445Z",
     "shell.execute_reply": "2025-08-05T20:59:13.613383Z"
    },
    "papermill": {
     "duration": 0.027217,
     "end_time": "2025-08-05T20:59:13.616282",
     "exception": false,
     "start_time": "2025-08-05T20:59:13.589065",
     "status": "completed"
    },
    "tags": []
   },
   "outputs": [],
   "source": [
    "# Code nice names to column names\n",
    "\n",
    "excluded_features_columns = [\n",
    "    excluded_features_dictionary[f] for f in excluded_features if len(f) > 0 and f != \"none\"\n",
    "]"
   ]
  },
  {
   "cell_type": "code",
   "execution_count": 21,
   "id": "f84f73a2",
   "metadata": {
    "execution": {
     "iopub.execute_input": "2025-08-05T20:59:13.656372Z",
     "iopub.status.busy": "2025-08-05T20:59:13.655780Z",
     "iopub.status.idle": "2025-08-05T20:59:13.662847Z",
     "shell.execute_reply": "2025-08-05T20:59:13.661910Z"
    },
    "papermill": {
     "duration": 0.028869,
     "end_time": "2025-08-05T20:59:13.664745",
     "exception": false,
     "start_time": "2025-08-05T20:59:13.635876",
     "status": "completed"
    },
    "tags": []
   },
   "outputs": [],
   "source": [
    "from utils import flatten_once\n",
    "\n",
    "excluded_features_columns = flatten_once(excluded_features_columns)"
   ]
  },
  {
   "cell_type": "code",
   "execution_count": 22,
   "id": "884dea22",
   "metadata": {
    "execution": {
     "iopub.execute_input": "2025-08-05T20:59:13.713676Z",
     "iopub.status.busy": "2025-08-05T20:59:13.712963Z",
     "iopub.status.idle": "2025-08-05T20:59:13.729317Z",
     "shell.execute_reply": "2025-08-05T20:59:13.727955Z"
    },
    "papermill": {
     "duration": 0.044876,
     "end_time": "2025-08-05T20:59:13.731554",
     "exception": false,
     "start_time": "2025-08-05T20:59:13.686678",
     "status": "completed"
    },
    "tags": []
   },
   "outputs": [
    {
     "name": "stdout",
     "output_type": "stream",
     "text": [
      "Dropping features: ['age']\n"
     ]
    }
   ],
   "source": [
    "if len(excluded_features_columns) > 0:\n",
    "    print(f\"Dropping features: {excluded_features_columns}\")\n",
    "    X_train.drop(excluded_features_columns, axis=1, inplace=True)"
   ]
  },
  {
   "cell_type": "code",
   "execution_count": 23,
   "id": "95ab8b16",
   "metadata": {
    "execution": {
     "iopub.execute_input": "2025-08-05T20:59:13.776265Z",
     "iopub.status.busy": "2025-08-05T20:59:13.775583Z",
     "iopub.status.idle": "2025-08-05T20:59:13.835782Z",
     "shell.execute_reply": "2025-08-05T20:59:13.834706Z"
    },
    "papermill": {
     "duration": 0.084351,
     "end_time": "2025-08-05T20:59:13.837714",
     "exception": false,
     "start_time": "2025-08-05T20:59:13.753363",
     "status": "completed"
    },
    "tags": []
   },
   "outputs": [
    {
     "name": "stdout",
     "output_type": "stream",
     "text": [
      "Dropping features: ['age']\n"
     ]
    }
   ],
   "source": [
    "if len(excluded_features_columns) > 0:\n",
    "    print(f\"Dropping features: {excluded_features_columns}\")\n",
    "    X_test.drop(excluded_features_columns, axis=1, inplace=True)"
   ]
  },
  {
   "cell_type": "code",
   "execution_count": 24,
   "id": "1853aaf5-fb9f-46cb-a2b5-8ea4ae2237e4",
   "metadata": {
    "execution": {
     "iopub.execute_input": "2025-08-05T20:59:13.879335Z",
     "iopub.status.busy": "2025-08-05T20:59:13.878601Z",
     "iopub.status.idle": "2025-08-05T20:59:13.931273Z",
     "shell.execute_reply": "2025-08-05T20:59:13.930078Z"
    },
    "papermill": {
     "duration": 0.074493,
     "end_time": "2025-08-05T20:59:13.933279",
     "exception": false,
     "start_time": "2025-08-05T20:59:13.858786",
     "status": "completed"
    },
    "tags": []
   },
   "outputs": [
    {
     "name": "stdout",
     "output_type": "stream",
     "text": [
      "Dropping features: ['age']\n"
     ]
    }
   ],
   "source": [
    "if len(excluded_features_columns) > 0:\n",
    "    print(f\"Dropping features: {excluded_features_columns}\")\n",
    "    X_calib.drop(excluded_features_columns, axis=1, inplace=True)"
   ]
  },
  {
   "cell_type": "code",
   "execution_count": 25,
   "id": "76c4dc6d",
   "metadata": {
    "execution": {
     "iopub.execute_input": "2025-08-05T20:59:13.969371Z",
     "iopub.status.busy": "2025-08-05T20:59:13.968901Z",
     "iopub.status.idle": "2025-08-05T20:59:13.974720Z",
     "shell.execute_reply": "2025-08-05T20:59:13.973673Z"
    },
    "papermill": {
     "duration": 0.02837,
     "end_time": "2025-08-05T20:59:13.976833",
     "exception": false,
     "start_time": "2025-08-05T20:59:13.948463",
     "status": "completed"
    },
    "tags": []
   },
   "outputs": [],
   "source": [
    "# EXCLUDE CERTAIN SUBGROUPS\n",
    "# ----------------------\n",
    "\n",
    "mode = universe.get(\"exclude_subgroups\", \"keep-all\") \n",
    "# Fetches the exclude_subgroups setting from the universe dict.\n",
    "# Defaults to \"keep-all\" if the key is missing."
   ]
  },
  {
   "cell_type": "code",
   "execution_count": 26,
   "id": "21994072",
   "metadata": {
    "execution": {
     "iopub.execute_input": "2025-08-05T20:59:14.005921Z",
     "iopub.status.busy": "2025-08-05T20:59:14.005442Z",
     "iopub.status.idle": "2025-08-05T20:59:14.010582Z",
     "shell.execute_reply": "2025-08-05T20:59:14.009863Z"
    },
    "papermill": {
     "duration": 0.018441,
     "end_time": "2025-08-05T20:59:14.011826",
     "exception": false,
     "start_time": "2025-08-05T20:59:13.993385",
     "status": "completed"
    },
    "tags": []
   },
   "outputs": [],
   "source": [
    "if mode == \"keep-all\":\n",
    "    keep_mask = pd.Series(True, index=org_train.index)\n",
    "\n",
    "# org_train contains the original feature columns from features_org (in Simson)\n",
    "# features_org contains unprocessed features, for me X_train at beginning ???\n",
    "# For keep-all, creates a boolean Series (keep_mask) of all True, so no rows are removed.\n",
    "\n",
    "elif mode == \"drop-non-german\":\n",
    "    keep_mask = org_train[\"maxdeutsch1\"] == 1 # ??? what about missing values?\n",
    "\n",
    "else:\n",
    "    raise ValueError(f\"Unsupported mode for exclude_subgroups: {mode}\")"
   ]
  },
  {
   "cell_type": "code",
   "execution_count": 27,
   "id": "71651440",
   "metadata": {
    "execution": {
     "iopub.execute_input": "2025-08-05T20:59:14.033985Z",
     "iopub.status.busy": "2025-08-05T20:59:14.033028Z",
     "iopub.status.idle": "2025-08-05T20:59:14.058429Z",
     "shell.execute_reply": "2025-08-05T20:59:14.057654Z"
    },
    "papermill": {
     "duration": 0.038575,
     "end_time": "2025-08-05T20:59:14.060154",
     "exception": false,
     "start_time": "2025-08-05T20:59:14.021579",
     "status": "completed"
    },
    "tags": []
   },
   "outputs": [],
   "source": [
    "n_drop = (~keep_mask).sum() # Calculates how many rows are set to be dropped\n",
    "if n_drop > 0:\n",
    "    pct = n_drop / len(keep_mask) * 100\n",
    "    print(f\"Dropping {n_drop} rows ({pct:.2f}%) where mode='{mode}'\")"
   ]
  },
  {
   "cell_type": "code",
   "execution_count": 28,
   "id": "5fb8eee5",
   "metadata": {
    "execution": {
     "iopub.execute_input": "2025-08-05T20:59:14.082006Z",
     "iopub.status.busy": "2025-08-05T20:59:14.081359Z",
     "iopub.status.idle": "2025-08-05T20:59:14.094893Z",
     "shell.execute_reply": "2025-08-05T20:59:14.094017Z"
    },
    "papermill": {
     "duration": 0.025579,
     "end_time": "2025-08-05T20:59:14.096713",
     "exception": false,
     "start_time": "2025-08-05T20:59:14.071134",
     "status": "completed"
    },
    "tags": []
   },
   "outputs": [],
   "source": [
    "X_train = X_train[keep_mask]"
   ]
  },
  {
   "cell_type": "code",
   "execution_count": 29,
   "id": "b202bb3a",
   "metadata": {
    "execution": {
     "iopub.execute_input": "2025-08-05T20:59:14.118495Z",
     "iopub.status.busy": "2025-08-05T20:59:14.117814Z",
     "iopub.status.idle": "2025-08-05T20:59:14.123173Z",
     "shell.execute_reply": "2025-08-05T20:59:14.122466Z"
    },
    "papermill": {
     "duration": 0.017296,
     "end_time": "2025-08-05T20:59:14.124642",
     "exception": false,
     "start_time": "2025-08-05T20:59:14.107346",
     "status": "completed"
    },
    "tags": []
   },
   "outputs": [],
   "source": [
    "y_train = y_train[keep_mask]"
   ]
  },
  {
   "cell_type": "markdown",
   "id": "493e2ac3",
   "metadata": {
    "papermill": {
     "duration": 0.009417,
     "end_time": "2025-08-05T20:59:14.144793",
     "exception": false,
     "start_time": "2025-08-05T20:59:14.135376",
     "status": "completed"
    },
    "tags": []
   },
   "source": [
    "# Model Training"
   ]
  },
  {
   "cell_type": "code",
   "execution_count": 30,
   "id": "679e1268",
   "metadata": {
    "execution": {
     "iopub.execute_input": "2025-08-05T20:59:14.165051Z",
     "iopub.status.busy": "2025-08-05T20:59:14.164550Z",
     "iopub.status.idle": "2025-08-05T20:59:14.238382Z",
     "shell.execute_reply": "2025-08-05T20:59:14.237652Z"
    },
    "papermill": {
     "duration": 0.085606,
     "end_time": "2025-08-05T20:59:14.239818",
     "exception": false,
     "start_time": "2025-08-05T20:59:14.154212",
     "status": "completed"
    },
    "tags": []
   },
   "outputs": [],
   "source": [
    "from sklearn.linear_model import LogisticRegression\n",
    "from sklearn.ensemble import GradientBoostingClassifier, RandomForestClassifier\n",
    "\n",
    "if (universe[\"model\"] == \"logreg\"):\n",
    "    model = LogisticRegression() #penalty=\"none\", solver=\"newton-cg\", max_iter=1) # include random_state=19 ?\n",
    "elif (universe[\"model\"] == \"penalized_logreg\"):\n",
    "    model = LogisticRegression(penalty=\"l2\", C=0.1) #, solver=\"newton-cg\", max_iter=1)\n",
    "elif (universe[\"model\"] == \"rf\"):\n",
    "    model = RandomForestClassifier() # n_estimators=100, n_jobs=-1\n",
    "elif (universe[\"model\"] == \"gbm\"):\n",
    "    model = GradientBoostingClassifier()\n",
    "elif (universe[\"model\"] == \"elasticnet\"):\n",
    "    model = LogisticRegression(penalty = 'elasticnet', solver = 'saga', l1_ratio = 0.5) # max_iter=5000\n",
    "else:\n",
    "    raise \"Unsupported universe.model\""
   ]
  },
  {
   "cell_type": "code",
   "execution_count": 31,
   "id": "0cc8f744",
   "metadata": {
    "execution": {
     "iopub.execute_input": "2025-08-05T20:59:14.275210Z",
     "iopub.status.busy": "2025-08-05T20:59:14.274825Z",
     "iopub.status.idle": "2025-08-05T20:59:14.283402Z",
     "shell.execute_reply": "2025-08-05T20:59:14.280858Z"
    },
    "papermill": {
     "duration": 0.030581,
     "end_time": "2025-08-05T20:59:14.285391",
     "exception": false,
     "start_time": "2025-08-05T20:59:14.254810",
     "status": "completed"
    },
    "tags": []
   },
   "outputs": [],
   "source": [
    "import numpy as np\n",
    "from sklearn.pipeline import Pipeline\n",
    "from sklearn.preprocessing import StandardScaler\n",
    "\n",
    "model = Pipeline([\n",
    "    #(\"continuous_processor\", continuous_processor),\n",
    "    #(\"categorical_preprocessor\", categorical_preprocessor),\n",
    "    (\"scale\", StandardScaler() if universe[\"scale\"] == \"scale\" else None), \n",
    "    (\"model\", model),\n",
    "])"
   ]
  },
  {
   "cell_type": "code",
   "execution_count": 32,
   "id": "9442c04d",
   "metadata": {
    "execution": {
     "iopub.execute_input": "2025-08-05T20:59:14.326081Z",
     "iopub.status.busy": "2025-08-05T20:59:14.325567Z",
     "iopub.status.idle": "2025-08-05T20:59:15.110850Z",
     "shell.execute_reply": "2025-08-05T20:59:15.109849Z"
    },
    "papermill": {
     "duration": 0.807325,
     "end_time": "2025-08-05T20:59:15.112664",
     "exception": false,
     "start_time": "2025-08-05T20:59:14.305339",
     "status": "completed"
    },
    "tags": []
   },
   "outputs": [
    {
     "name": "stderr",
     "output_type": "stream",
     "text": [
      "/dss/dsshome1/0C/ra93lal2/.local/share/virtualenvs/CMA_Fairness_v2-3j10GkSs/lib/python3.10/site-packages/sklearn/linear_model/_logistic.py:444: ConvergenceWarning: lbfgs failed to converge (status=1):\n",
      "STOP: TOTAL NO. of ITERATIONS REACHED LIMIT.\n",
      "\n",
      "Increase the number of iterations (max_iter) or scale the data as shown in:\n",
      "    https://scikit-learn.org/stable/modules/preprocessing.html\n",
      "Please also refer to the documentation for alternative solver options:\n",
      "    https://scikit-learn.org/stable/modules/linear_model.html#logistic-regression\n",
      "  n_iter_i = _check_optimize_result(\n"
     ]
    },
    {
     "data": {
      "text/html": [
       "<style>#sk-container-id-1 {color: black;background-color: white;}#sk-container-id-1 pre{padding: 0;}#sk-container-id-1 div.sk-toggleable {background-color: white;}#sk-container-id-1 label.sk-toggleable__label {cursor: pointer;display: block;width: 100%;margin-bottom: 0;padding: 0.3em;box-sizing: border-box;text-align: center;}#sk-container-id-1 label.sk-toggleable__label-arrow:before {content: \"▸\";float: left;margin-right: 0.25em;color: #696969;}#sk-container-id-1 label.sk-toggleable__label-arrow:hover:before {color: black;}#sk-container-id-1 div.sk-estimator:hover label.sk-toggleable__label-arrow:before {color: black;}#sk-container-id-1 div.sk-toggleable__content {max-height: 0;max-width: 0;overflow: hidden;text-align: left;background-color: #f0f8ff;}#sk-container-id-1 div.sk-toggleable__content pre {margin: 0.2em;color: black;border-radius: 0.25em;background-color: #f0f8ff;}#sk-container-id-1 input.sk-toggleable__control:checked~div.sk-toggleable__content {max-height: 200px;max-width: 100%;overflow: auto;}#sk-container-id-1 input.sk-toggleable__control:checked~label.sk-toggleable__label-arrow:before {content: \"▾\";}#sk-container-id-1 div.sk-estimator input.sk-toggleable__control:checked~label.sk-toggleable__label {background-color: #d4ebff;}#sk-container-id-1 div.sk-label input.sk-toggleable__control:checked~label.sk-toggleable__label {background-color: #d4ebff;}#sk-container-id-1 input.sk-hidden--visually {border: 0;clip: rect(1px 1px 1px 1px);clip: rect(1px, 1px, 1px, 1px);height: 1px;margin: -1px;overflow: hidden;padding: 0;position: absolute;width: 1px;}#sk-container-id-1 div.sk-estimator {font-family: monospace;background-color: #f0f8ff;border: 1px dotted black;border-radius: 0.25em;box-sizing: border-box;margin-bottom: 0.5em;}#sk-container-id-1 div.sk-estimator:hover {background-color: #d4ebff;}#sk-container-id-1 div.sk-parallel-item::after {content: \"\";width: 100%;border-bottom: 1px solid gray;flex-grow: 1;}#sk-container-id-1 div.sk-label:hover label.sk-toggleable__label {background-color: #d4ebff;}#sk-container-id-1 div.sk-serial::before {content: \"\";position: absolute;border-left: 1px solid gray;box-sizing: border-box;top: 0;bottom: 0;left: 50%;z-index: 0;}#sk-container-id-1 div.sk-serial {display: flex;flex-direction: column;align-items: center;background-color: white;padding-right: 0.2em;padding-left: 0.2em;position: relative;}#sk-container-id-1 div.sk-item {position: relative;z-index: 1;}#sk-container-id-1 div.sk-parallel {display: flex;align-items: stretch;justify-content: center;background-color: white;position: relative;}#sk-container-id-1 div.sk-item::before, #sk-container-id-1 div.sk-parallel-item::before {content: \"\";position: absolute;border-left: 1px solid gray;box-sizing: border-box;top: 0;bottom: 0;left: 50%;z-index: -1;}#sk-container-id-1 div.sk-parallel-item {display: flex;flex-direction: column;z-index: 1;position: relative;background-color: white;}#sk-container-id-1 div.sk-parallel-item:first-child::after {align-self: flex-end;width: 50%;}#sk-container-id-1 div.sk-parallel-item:last-child::after {align-self: flex-start;width: 50%;}#sk-container-id-1 div.sk-parallel-item:only-child::after {width: 0;}#sk-container-id-1 div.sk-dashed-wrapped {border: 1px dashed gray;margin: 0 0.4em 0.5em 0.4em;box-sizing: border-box;padding-bottom: 0.4em;background-color: white;}#sk-container-id-1 div.sk-label label {font-family: monospace;font-weight: bold;display: inline-block;line-height: 1.2em;}#sk-container-id-1 div.sk-label-container {text-align: center;}#sk-container-id-1 div.sk-container {/* jupyter's `normalize.less` sets `[hidden] { display: none; }` but bootstrap.min.css set `[hidden] { display: none !important; }` so we also need the `!important` here to be able to override the default hidden behavior on the sphinx rendered scikit-learn.org. See: https://github.com/scikit-learn/scikit-learn/issues/21755 */display: inline-block !important;position: relative;}#sk-container-id-1 div.sk-text-repr-fallback {display: none;}</style><div id=\"sk-container-id-1\" class=\"sk-top-container\"><div class=\"sk-text-repr-fallback\"><pre>Pipeline(steps=[(&#x27;scale&#x27;, None), (&#x27;model&#x27;, LogisticRegression(C=0.1))])</pre><b>In a Jupyter environment, please rerun this cell to show the HTML representation or trust the notebook. <br />On GitHub, the HTML representation is unable to render, please try loading this page with nbviewer.org.</b></div><div class=\"sk-container\" hidden><div class=\"sk-item sk-dashed-wrapped\"><div class=\"sk-label-container\"><div class=\"sk-label sk-toggleable\"><input class=\"sk-toggleable__control sk-hidden--visually\" id=\"sk-estimator-id-1\" type=\"checkbox\" ><label for=\"sk-estimator-id-1\" class=\"sk-toggleable__label sk-toggleable__label-arrow\">Pipeline</label><div class=\"sk-toggleable__content\"><pre>Pipeline(steps=[(&#x27;scale&#x27;, None), (&#x27;model&#x27;, LogisticRegression(C=0.1))])</pre></div></div></div><div class=\"sk-serial\"><div class=\"sk-item\"><div class=\"sk-estimator sk-toggleable\"><input class=\"sk-toggleable__control sk-hidden--visually\" id=\"sk-estimator-id-2\" type=\"checkbox\" ><label for=\"sk-estimator-id-2\" class=\"sk-toggleable__label sk-toggleable__label-arrow\">None</label><div class=\"sk-toggleable__content\"><pre>None</pre></div></div></div><div class=\"sk-item\"><div class=\"sk-estimator sk-toggleable\"><input class=\"sk-toggleable__control sk-hidden--visually\" id=\"sk-estimator-id-3\" type=\"checkbox\" ><label for=\"sk-estimator-id-3\" class=\"sk-toggleable__label sk-toggleable__label-arrow\">LogisticRegression</label><div class=\"sk-toggleable__content\"><pre>LogisticRegression(C=0.1)</pre></div></div></div></div></div></div></div>"
      ],
      "text/plain": [
       "Pipeline(steps=[('scale', None), ('model', LogisticRegression(C=0.1))])"
      ]
     },
     "execution_count": 32,
     "metadata": {},
     "output_type": "execute_result"
    }
   ],
   "source": [
    "model.fit(X_train, y_train.values.ravel())"
   ]
  },
  {
   "cell_type": "code",
   "execution_count": 33,
   "id": "af59f8c0",
   "metadata": {
    "execution": {
     "iopub.execute_input": "2025-08-05T20:59:15.158249Z",
     "iopub.status.busy": "2025-08-05T20:59:15.157522Z",
     "iopub.status.idle": "2025-08-05T20:59:15.164310Z",
     "shell.execute_reply": "2025-08-05T20:59:15.163152Z"
    },
    "papermill": {
     "duration": 0.031655,
     "end_time": "2025-08-05T20:59:15.166530",
     "exception": false,
     "start_time": "2025-08-05T20:59:15.134875",
     "status": "completed"
    },
    "tags": []
   },
   "outputs": [],
   "source": [
    "from fairness_multiverse.universe import predict_w_threshold"
   ]
  },
  {
   "cell_type": "code",
   "execution_count": 34,
   "id": "a7cf2e16",
   "metadata": {
    "execution": {
     "iopub.execute_input": "2025-08-05T20:59:15.214209Z",
     "iopub.status.busy": "2025-08-05T20:59:15.212960Z",
     "iopub.status.idle": "2025-08-05T20:59:15.313787Z",
     "shell.execute_reply": "2025-08-05T20:59:15.312753Z"
    },
    "papermill": {
     "duration": 0.126237,
     "end_time": "2025-08-05T20:59:15.315842",
     "exception": false,
     "start_time": "2025-08-05T20:59:15.189605",
     "status": "completed"
    },
    "tags": []
   },
   "outputs": [
    {
     "data": {
      "text/plain": [
       "0.8631033329617657"
      ]
     },
     "execution_count": 34,
     "metadata": {},
     "output_type": "execute_result"
    }
   ],
   "source": [
    "probs_test = model.predict_proba(X_test)\n",
    "\n",
    "'''\n",
    "Below code returns a boolean array (or binary 0/1 array depending on how it’s used) where each element \n",
    "is True if the probability of class 1 is greater than or equal to the threshold, and False otherwise.\n",
    "'''\n",
    "y_pred_default = predict_w_threshold(probs_test, 0.5)\n",
    "\n",
    "from sklearn.metrics import accuracy_score\n",
    "\n",
    "# Naive prediction\n",
    "accuracy_score(y_true = y_true, y_pred = y_pred_default)"
   ]
  },
  {
   "cell_type": "code",
   "execution_count": 35,
   "id": "081964c3",
   "metadata": {
    "execution": {
     "iopub.execute_input": "2025-08-05T20:59:15.359599Z",
     "iopub.status.busy": "2025-08-05T20:59:15.358572Z",
     "iopub.status.idle": "2025-08-05T20:59:15.455161Z",
     "shell.execute_reply": "2025-08-05T20:59:15.454204Z"
    },
    "papermill": {
     "duration": 0.120726,
     "end_time": "2025-08-05T20:59:15.456576",
     "exception": false,
     "start_time": "2025-08-05T20:59:15.335850",
     "status": "completed"
    },
    "tags": []
   },
   "outputs": [
    {
     "data": {
      "text/plain": [
       "array([0, 0, 0, ..., 0, 0, 0])"
      ]
     },
     "execution_count": 35,
     "metadata": {},
     "output_type": "execute_result"
    }
   ],
   "source": [
    "model.predict(X_test)"
   ]
  },
  {
   "cell_type": "markdown",
   "id": "56c9705b",
   "metadata": {
    "papermill": {
     "duration": 0.010086,
     "end_time": "2025-08-05T20:59:15.477958",
     "exception": false,
     "start_time": "2025-08-05T20:59:15.467872",
     "status": "completed"
    },
    "tags": []
   },
   "source": [
    "# Conformal Prediction"
   ]
  },
  {
   "cell_type": "code",
   "execution_count": 36,
   "id": "160ec6ff",
   "metadata": {
    "execution": {
     "iopub.execute_input": "2025-08-05T20:59:15.499639Z",
     "iopub.status.busy": "2025-08-05T20:59:15.499125Z",
     "iopub.status.idle": "2025-08-05T20:59:15.503998Z",
     "shell.execute_reply": "2025-08-05T20:59:15.503201Z"
    },
    "papermill": {
     "duration": 0.017344,
     "end_time": "2025-08-05T20:59:15.505351",
     "exception": false,
     "start_time": "2025-08-05T20:59:15.488007",
     "status": "completed"
    },
    "tags": []
   },
   "outputs": [],
   "source": [
    "# Miscoverage level for conformal prediction (10% allowed error rate => 90% target coverage)\n",
    "alpha = 0.1"
   ]
  },
  {
   "cell_type": "code",
   "execution_count": 37,
   "id": "eadf4555-3dd3-440e-8e35-f82a4ad9f855",
   "metadata": {
    "execution": {
     "iopub.execute_input": "2025-08-05T20:59:15.533152Z",
     "iopub.status.busy": "2025-08-05T20:59:15.532443Z",
     "iopub.status.idle": "2025-08-05T20:59:15.607558Z",
     "shell.execute_reply": "2025-08-05T20:59:15.606642Z"
    },
    "papermill": {
     "duration": 0.088758,
     "end_time": "2025-08-05T20:59:15.609215",
     "exception": false,
     "start_time": "2025-08-05T20:59:15.520457",
     "status": "completed"
    },
    "tags": []
   },
   "outputs": [],
   "source": [
    "probs_calib = model.predict_proba(X_calib)"
   ]
  },
  {
   "cell_type": "code",
   "execution_count": 38,
   "id": "2ed93547-6d5d-4983-9b36-1ecb300da49a",
   "metadata": {
    "execution": {
     "iopub.execute_input": "2025-08-05T20:59:15.631941Z",
     "iopub.status.busy": "2025-08-05T20:59:15.631438Z",
     "iopub.status.idle": "2025-08-05T20:59:15.637212Z",
     "shell.execute_reply": "2025-08-05T20:59:15.636346Z"
    },
    "papermill": {
     "duration": 0.018527,
     "end_time": "2025-08-05T20:59:15.638825",
     "exception": false,
     "start_time": "2025-08-05T20:59:15.620298",
     "status": "completed"
    },
    "tags": []
   },
   "outputs": [],
   "source": [
    "y_calib = y_calib.values.ravel().astype(int)"
   ]
  },
  {
   "cell_type": "code",
   "execution_count": 39,
   "id": "65d1320d-f588-4b38-9072-62af1ae97f7d",
   "metadata": {
    "execution": {
     "iopub.execute_input": "2025-08-05T20:59:15.663523Z",
     "iopub.status.busy": "2025-08-05T20:59:15.663005Z",
     "iopub.status.idle": "2025-08-05T20:59:15.669409Z",
     "shell.execute_reply": "2025-08-05T20:59:15.668591Z"
    },
    "papermill": {
     "duration": 0.019837,
     "end_time": "2025-08-05T20:59:15.671006",
     "exception": false,
     "start_time": "2025-08-05T20:59:15.651169",
     "status": "completed"
    },
    "tags": []
   },
   "outputs": [],
   "source": [
    "from fairness_multiverse.conformal import compute_nc_scores\n",
    "\n",
    "# Compute nonconformity scores on calibration set (1 - probability of true class)\n",
    "nc_scores = compute_nc_scores(probs_calib, y_calib)"
   ]
  },
  {
   "cell_type": "code",
   "execution_count": 40,
   "id": "df3b8ca3-53b7-43d5-9667-7c85da7aeda2",
   "metadata": {
    "execution": {
     "iopub.execute_input": "2025-08-05T20:59:15.695201Z",
     "iopub.status.busy": "2025-08-05T20:59:15.694683Z",
     "iopub.status.idle": "2025-08-05T20:59:15.701014Z",
     "shell.execute_reply": "2025-08-05T20:59:15.700182Z"
    },
    "papermill": {
     "duration": 0.019747,
     "end_time": "2025-08-05T20:59:15.702610",
     "exception": false,
     "start_time": "2025-08-05T20:59:15.682863",
     "status": "completed"
    },
    "tags": []
   },
   "outputs": [],
   "source": [
    "from fairness_multiverse.conformal import find_threshold\n",
    "\n",
    "# Find conformal threshold q_hat for the given alpha (split conformal method)\n",
    "q_hat = find_threshold(nc_scores, alpha)"
   ]
  },
  {
   "cell_type": "code",
   "execution_count": 41,
   "id": "4d29e6c1-0ef6-4aa4-b8fe-4fe79b0d033a",
   "metadata": {
    "execution": {
     "iopub.execute_input": "2025-08-05T20:59:15.745266Z",
     "iopub.status.busy": "2025-08-05T20:59:15.744806Z",
     "iopub.status.idle": "2025-08-05T20:59:15.752828Z",
     "shell.execute_reply": "2025-08-05T20:59:15.751732Z"
    },
    "papermill": {
     "duration": 0.031537,
     "end_time": "2025-08-05T20:59:15.754804",
     "exception": false,
     "start_time": "2025-08-05T20:59:15.723267",
     "status": "completed"
    },
    "tags": []
   },
   "outputs": [
    {
     "data": {
      "text/plain": [
       "0.6553659973469371"
      ]
     },
     "execution_count": 41,
     "metadata": {},
     "output_type": "execute_result"
    }
   ],
   "source": [
    "q_hat"
   ]
  },
  {
   "cell_type": "code",
   "execution_count": 42,
   "id": "92460794-cdac-4be2-ba28-f28c0515a6fb",
   "metadata": {
    "execution": {
     "iopub.execute_input": "2025-08-05T20:59:15.798013Z",
     "iopub.status.busy": "2025-08-05T20:59:15.797471Z",
     "iopub.status.idle": "2025-08-05T20:59:16.946546Z",
     "shell.execute_reply": "2025-08-05T20:59:16.945754Z"
    },
    "papermill": {
     "duration": 1.171392,
     "end_time": "2025-08-05T20:59:16.948523",
     "exception": false,
     "start_time": "2025-08-05T20:59:15.777131",
     "status": "completed"
    },
    "tags": []
   },
   "outputs": [],
   "source": [
    "from fairness_multiverse.conformal import predict_conformal_sets\n",
    "\n",
    "# Generate prediction sets for each test example\n",
    "pred_sets = predict_conformal_sets(model, X_test, q_hat)"
   ]
  },
  {
   "cell_type": "code",
   "execution_count": 43,
   "id": "d90c9a65-e6db-4f5d-80cd-e68fb7e46829",
   "metadata": {
    "execution": {
     "iopub.execute_input": "2025-08-05T20:59:17.017655Z",
     "iopub.status.busy": "2025-08-05T20:59:17.016823Z",
     "iopub.status.idle": "2025-08-05T20:59:17.024503Z",
     "shell.execute_reply": "2025-08-05T20:59:17.023235Z"
    },
    "papermill": {
     "duration": 0.035608,
     "end_time": "2025-08-05T20:59:17.026782",
     "exception": false,
     "start_time": "2025-08-05T20:59:16.991174",
     "status": "completed"
    },
    "tags": []
   },
   "outputs": [],
   "source": [
    "y_true = y_true.squeeze()"
   ]
  },
  {
   "cell_type": "code",
   "execution_count": 44,
   "id": "3a58a54a-1e68-46b9-927a-df01f18aebc8",
   "metadata": {
    "execution": {
     "iopub.execute_input": "2025-08-05T20:59:17.076488Z",
     "iopub.status.busy": "2025-08-05T20:59:17.075641Z",
     "iopub.status.idle": "2025-08-05T20:59:17.935145Z",
     "shell.execute_reply": "2025-08-05T20:59:17.934088Z"
    },
    "papermill": {
     "duration": 0.886123,
     "end_time": "2025-08-05T20:59:17.937422",
     "exception": false,
     "start_time": "2025-08-05T20:59:17.051299",
     "status": "completed"
    },
    "tags": []
   },
   "outputs": [],
   "source": [
    "from fairness_multiverse.conformal import evaluate_sets\n",
    "\n",
    "# Evaluate coverage and average set size on test data\n",
    "metrics = evaluate_sets(pred_sets, y_true)"
   ]
  },
  {
   "cell_type": "markdown",
   "id": "2b569c12-9aaa-4c88-98c9-bbcd0cf3ebb8",
   "metadata": {
    "papermill": {
     "duration": 0.011344,
     "end_time": "2025-08-05T20:59:17.972162",
     "exception": false,
     "start_time": "2025-08-05T20:59:17.960818",
     "status": "completed"
    },
    "tags": []
   },
   "source": [
    "# CP Metrics"
   ]
  },
  {
   "cell_type": "code",
   "execution_count": 45,
   "id": "5ce0a5cb-201f-45a0-ade5-94c7f0bd6095",
   "metadata": {
    "execution": {
     "iopub.execute_input": "2025-08-05T20:59:17.994948Z",
     "iopub.status.busy": "2025-08-05T20:59:17.994348Z",
     "iopub.status.idle": "2025-08-05T20:59:18.000426Z",
     "shell.execute_reply": "2025-08-05T20:59:17.999611Z"
    },
    "papermill": {
     "duration": 0.019073,
     "end_time": "2025-08-05T20:59:18.002005",
     "exception": false,
     "start_time": "2025-08-05T20:59:17.982932",
     "status": "completed"
    },
    "tags": []
   },
   "outputs": [
    {
     "data": {
      "text/plain": [
       "{'coverage': 0.9129751421246238, 'avg_size': 1.251800245234645}"
      ]
     },
     "execution_count": 45,
     "metadata": {},
     "output_type": "execute_result"
    }
   ],
   "source": [
    "metrics"
   ]
  },
  {
   "cell_type": "code",
   "execution_count": 46,
   "id": "9b9a838d-31c9-430b-ae14-12baee460d17",
   "metadata": {
    "execution": {
     "iopub.execute_input": "2025-08-05T20:59:18.026947Z",
     "iopub.status.busy": "2025-08-05T20:59:18.026424Z",
     "iopub.status.idle": "2025-08-05T20:59:18.032105Z",
     "shell.execute_reply": "2025-08-05T20:59:18.031337Z"
    },
    "papermill": {
     "duration": 0.019589,
     "end_time": "2025-08-05T20:59:18.033614",
     "exception": false,
     "start_time": "2025-08-05T20:59:18.014025",
     "status": "completed"
    },
    "tags": []
   },
   "outputs": [],
   "source": [
    "example_universe = universe.copy()\n",
    "universe_training_year = example_universe.get(\"training_year\")\n",
    "universe_training_size = example_universe.get(\"training_size\")\n",
    "universe_scale = example_universe.get(\"scale\")\n",
    "universe_model = example_universe.get(\"model\")\n",
    "universe_exclude_features = example_universe.get(\"exclude_features\")\n",
    "universe_exclude_subgroups = example_universe.get(\"exclude_subgroups\")"
   ]
  },
  {
   "cell_type": "code",
   "execution_count": 47,
   "id": "f4b6a8ac-9dc0-4245-8a91-5b3b5999c4f9",
   "metadata": {
    "execution": {
     "iopub.execute_input": "2025-08-05T20:59:18.058620Z",
     "iopub.status.busy": "2025-08-05T20:59:18.058122Z",
     "iopub.status.idle": "2025-08-05T20:59:18.063442Z",
     "shell.execute_reply": "2025-08-05T20:59:18.062615Z"
    },
    "papermill": {
     "duration": 0.018866,
     "end_time": "2025-08-05T20:59:18.064882",
     "exception": false,
     "start_time": "2025-08-05T20:59:18.046016",
     "status": "completed"
    },
    "tags": []
   },
   "outputs": [],
   "source": [
    "cp_metrics_dict = {\n",
    "    \"universe_id\": [universe_id],\n",
    "    \"universe_training_year\": [universe_training_year],\n",
    "    \"universe_training_size\": [universe_training_size],\n",
    "    \"universe_scale\": [universe_scale],\n",
    "    \"universe_model\": [universe_model],\n",
    "    \"universe_exclude_features\": [universe_exclude_features],\n",
    "    \"universe_exclude_subgroups\": [universe_exclude_subgroups],\n",
    "    \"q_hat\": [q_hat],\n",
    "    \"coverage\": [metrics[\"coverage\"]],\n",
    "    \"avg_size\": [metrics[\"avg_size\"]],\n",
    "}"
   ]
  },
  {
   "cell_type": "code",
   "execution_count": 48,
   "id": "908acbb1-0371-4915-85ca-3fa520d2efe2",
   "metadata": {
    "execution": {
     "iopub.execute_input": "2025-08-05T20:59:18.090230Z",
     "iopub.status.busy": "2025-08-05T20:59:18.089708Z",
     "iopub.status.idle": "2025-08-05T20:59:18.096531Z",
     "shell.execute_reply": "2025-08-05T20:59:18.095775Z"
    },
    "papermill": {
     "duration": 0.020953,
     "end_time": "2025-08-05T20:59:18.098140",
     "exception": false,
     "start_time": "2025-08-05T20:59:18.077187",
     "status": "completed"
    },
    "tags": []
   },
   "outputs": [
    {
     "data": {
      "text/plain": [
       "{'universe_id': ['962f6685fe929cefb960c749fa9cee1c'],\n",
       " 'universe_training_year': ['2012_14'],\n",
       " 'universe_training_size': ['25k'],\n",
       " 'universe_scale': ['do-not-scale'],\n",
       " 'universe_model': ['penalized_logreg'],\n",
       " 'universe_exclude_features': ['age'],\n",
       " 'universe_exclude_subgroups': ['keep-all'],\n",
       " 'q_hat': [0.6553659973469371],\n",
       " 'coverage': [0.9129751421246238],\n",
       " 'avg_size': [1.251800245234645]}"
      ]
     },
     "execution_count": 48,
     "metadata": {},
     "output_type": "execute_result"
    }
   ],
   "source": [
    "cp_metrics_dict"
   ]
  },
  {
   "cell_type": "code",
   "execution_count": 49,
   "id": "33007efc-14e9-4ec6-97ac-56a455c82265",
   "metadata": {
    "execution": {
     "iopub.execute_input": "2025-08-05T20:59:18.123056Z",
     "iopub.status.busy": "2025-08-05T20:59:18.122560Z",
     "iopub.status.idle": "2025-08-05T20:59:18.127693Z",
     "shell.execute_reply": "2025-08-05T20:59:18.126774Z"
    },
    "papermill": {
     "duration": 0.018905,
     "end_time": "2025-08-05T20:59:18.129238",
     "exception": false,
     "start_time": "2025-08-05T20:59:18.110333",
     "status": "completed"
    },
    "tags": []
   },
   "outputs": [],
   "source": [
    "cp_metrics_df = pd.DataFrame(cp_metrics_dict)"
   ]
  },
  {
   "cell_type": "code",
   "execution_count": 50,
   "id": "db12611b-57b2-4910-b9d0-355adfd6e7bf",
   "metadata": {
    "execution": {
     "iopub.execute_input": "2025-08-05T20:59:18.154507Z",
     "iopub.status.busy": "2025-08-05T20:59:18.154003Z",
     "iopub.status.idle": "2025-08-05T20:59:18.168787Z",
     "shell.execute_reply": "2025-08-05T20:59:18.168095Z"
    },
    "papermill": {
     "duration": 0.028557,
     "end_time": "2025-08-05T20:59:18.170284",
     "exception": false,
     "start_time": "2025-08-05T20:59:18.141727",
     "status": "completed"
    },
    "tags": []
   },
   "outputs": [
    {
     "data": {
      "text/html": [
       "<div>\n",
       "<style scoped>\n",
       "    .dataframe tbody tr th:only-of-type {\n",
       "        vertical-align: middle;\n",
       "    }\n",
       "\n",
       "    .dataframe tbody tr th {\n",
       "        vertical-align: top;\n",
       "    }\n",
       "\n",
       "    .dataframe thead th {\n",
       "        text-align: right;\n",
       "    }\n",
       "</style>\n",
       "<table border=\"1\" class=\"dataframe\">\n",
       "  <thead>\n",
       "    <tr style=\"text-align: right;\">\n",
       "      <th></th>\n",
       "      <th>universe_id</th>\n",
       "      <th>universe_training_year</th>\n",
       "      <th>universe_training_size</th>\n",
       "      <th>universe_scale</th>\n",
       "      <th>universe_model</th>\n",
       "      <th>universe_exclude_features</th>\n",
       "      <th>universe_exclude_subgroups</th>\n",
       "      <th>q_hat</th>\n",
       "      <th>coverage</th>\n",
       "      <th>avg_size</th>\n",
       "    </tr>\n",
       "  </thead>\n",
       "  <tbody>\n",
       "    <tr>\n",
       "      <th>0</th>\n",
       "      <td>962f6685fe929cefb960c749fa9cee1c</td>\n",
       "      <td>2012_14</td>\n",
       "      <td>25k</td>\n",
       "      <td>do-not-scale</td>\n",
       "      <td>penalized_logreg</td>\n",
       "      <td>age</td>\n",
       "      <td>keep-all</td>\n",
       "      <td>0.655366</td>\n",
       "      <td>0.912975</td>\n",
       "      <td>1.2518</td>\n",
       "    </tr>\n",
       "  </tbody>\n",
       "</table>\n",
       "</div>"
      ],
      "text/plain": [
       "                        universe_id universe_training_year  \\\n",
       "0  962f6685fe929cefb960c749fa9cee1c                2012_14   \n",
       "\n",
       "  universe_training_size universe_scale    universe_model  \\\n",
       "0                    25k   do-not-scale  penalized_logreg   \n",
       "\n",
       "  universe_exclude_features universe_exclude_subgroups     q_hat  coverage  \\\n",
       "0                       age                   keep-all  0.655366  0.912975   \n",
       "\n",
       "   avg_size  \n",
       "0    1.2518  "
      ]
     },
     "execution_count": 50,
     "metadata": {},
     "output_type": "execute_result"
    }
   ],
   "source": [
    "cp_metrics_df"
   ]
  },
  {
   "cell_type": "code",
   "execution_count": 51,
   "id": "b7fbde55-a0a1-47e4-9af6-fe4a17fa8c61",
   "metadata": {
    "execution": {
     "iopub.execute_input": "2025-08-05T20:59:18.195175Z",
     "iopub.status.busy": "2025-08-05T20:59:18.194673Z",
     "iopub.status.idle": "2025-08-05T20:59:18.199358Z",
     "shell.execute_reply": "2025-08-05T20:59:18.198599Z"
    },
    "papermill": {
     "duration": 0.018777,
     "end_time": "2025-08-05T20:59:18.200771",
     "exception": false,
     "start_time": "2025-08-05T20:59:18.181994",
     "status": "completed"
    },
    "tags": []
   },
   "outputs": [],
   "source": [
    "# Conditional Coverage & looking at subgroups"
   ]
  },
  {
   "cell_type": "code",
   "execution_count": 52,
   "id": "027ae886-68dd-4141-96c7-805a5450e1ef",
   "metadata": {
    "execution": {
     "iopub.execute_input": "2025-08-05T20:59:18.226585Z",
     "iopub.status.busy": "2025-08-05T20:59:18.226074Z",
     "iopub.status.idle": "2025-08-05T20:59:18.418501Z",
     "shell.execute_reply": "2025-08-05T20:59:18.417754Z"
    },
    "papermill": {
     "duration": 0.206467,
     "end_time": "2025-08-05T20:59:18.420025",
     "exception": false,
     "start_time": "2025-08-05T20:59:18.213558",
     "status": "completed"
    },
    "tags": []
   },
   "outputs": [],
   "source": [
    "from fairness_multiverse.conformal import build_cp_groups\n",
    "\n",
    "cp_groups_df = build_cp_groups(pred_sets, y_true, X_test.index, org_test)\n",
    "#needs universe_id and setting"
   ]
  },
  {
   "cell_type": "code",
   "execution_count": 53,
   "id": "6cbdab96-b2b2-45af-ad54-d0516db2e28d",
   "metadata": {
    "execution": {
     "iopub.execute_input": "2025-08-05T20:59:18.445119Z",
     "iopub.status.busy": "2025-08-05T20:59:18.444596Z",
     "iopub.status.idle": "2025-08-05T20:59:19.526324Z",
     "shell.execute_reply": "2025-08-05T20:59:19.525593Z"
    },
    "papermill": {
     "duration": 1.096176,
     "end_time": "2025-08-05T20:59:19.527882",
     "exception": false,
     "start_time": "2025-08-05T20:59:18.431706",
     "status": "completed"
    },
    "tags": []
   },
   "outputs": [],
   "source": [
    "# Define covered = 1 if true_label is in the predicted set\n",
    "cp_groups_df['covered'] = cp_groups_df.apply(\n",
    "    lambda r: int(r['true_label'] in r['pred_set']),\n",
    "    axis=1\n",
    ")"
   ]
  },
  {
   "cell_type": "code",
   "execution_count": 54,
   "id": "338ff529-1a6b-4b87-a931-8e4788d52aad",
   "metadata": {
    "execution": {
     "iopub.execute_input": "2025-08-05T20:59:19.551715Z",
     "iopub.status.busy": "2025-08-05T20:59:19.551383Z",
     "iopub.status.idle": "2025-08-05T20:59:19.555414Z",
     "shell.execute_reply": "2025-08-05T20:59:19.554523Z"
    },
    "papermill": {
     "duration": 0.017079,
     "end_time": "2025-08-05T20:59:19.556727",
     "exception": false,
     "start_time": "2025-08-05T20:59:19.539648",
     "status": "completed"
    },
    "tags": []
   },
   "outputs": [],
   "source": [
    "#cp_groups_df"
   ]
  },
  {
   "cell_type": "code",
   "execution_count": 55,
   "id": "90032e27-66df-4540-9169-4e89cfbaa758",
   "metadata": {
    "execution": {
     "iopub.execute_input": "2025-08-05T20:59:19.581415Z",
     "iopub.status.busy": "2025-08-05T20:59:19.580637Z",
     "iopub.status.idle": "2025-08-05T20:59:19.589909Z",
     "shell.execute_reply": "2025-08-05T20:59:19.589064Z"
    },
    "papermill": {
     "duration": 0.022234,
     "end_time": "2025-08-05T20:59:19.591158",
     "exception": false,
     "start_time": "2025-08-05T20:59:19.568924",
     "status": "completed"
    },
    "tags": []
   },
   "outputs": [],
   "source": [
    "subgroups = ['frau1','nongerman','nongerman_male','nongerman_female']\n",
    "\n",
    "# Conditional coverage for subgroup==1\n",
    "cond_coverage = {\n",
    "    g: cp_groups_df.loc[cp_groups_df[g]==1, 'covered'].mean()\n",
    "    for g in subgroups\n",
    "}"
   ]
  },
  {
   "cell_type": "code",
   "execution_count": 56,
   "id": "1e348fb1-b9c3-45bc-ba23-f016827a7e0d",
   "metadata": {
    "execution": {
     "iopub.execute_input": "2025-08-05T20:59:19.615258Z",
     "iopub.status.busy": "2025-08-05T20:59:19.614611Z",
     "iopub.status.idle": "2025-08-05T20:59:19.620762Z",
     "shell.execute_reply": "2025-08-05T20:59:19.620054Z"
    },
    "papermill": {
     "duration": 0.019199,
     "end_time": "2025-08-05T20:59:19.622211",
     "exception": false,
     "start_time": "2025-08-05T20:59:19.603012",
     "status": "completed"
    },
    "tags": []
   },
   "outputs": [
    {
     "data": {
      "text/plain": [
       "{'frau1': 0.9131419328750505,\n",
       " 'nongerman': 0.9625554370403637,\n",
       " 'nongerman_male': 0.968386922453391,\n",
       " 'nongerman_female': 0.9529061102831594}"
      ]
     },
     "execution_count": 56,
     "metadata": {},
     "output_type": "execute_result"
    }
   ],
   "source": [
    "cond_coverage"
   ]
  },
  {
   "cell_type": "code",
   "execution_count": 57,
   "id": "f5093324-c3dd-4d63-bc4c-8d945e5c8bbb",
   "metadata": {
    "execution": {
     "iopub.execute_input": "2025-08-05T20:59:19.647320Z",
     "iopub.status.busy": "2025-08-05T20:59:19.646632Z",
     "iopub.status.idle": "2025-08-05T20:59:19.652576Z",
     "shell.execute_reply": "2025-08-05T20:59:19.651847Z"
    },
    "papermill": {
     "duration": 0.019596,
     "end_time": "2025-08-05T20:59:19.654027",
     "exception": false,
     "start_time": "2025-08-05T20:59:19.634431",
     "status": "completed"
    },
    "tags": []
   },
   "outputs": [],
   "source": [
    "for subgroup, cov in cond_coverage.items():\n",
    "    cp_metrics_df[f\"cov_{subgroup}\"] = cov"
   ]
  },
  {
   "cell_type": "code",
   "execution_count": 58,
   "id": "6e872e10-dbe5-49e8-b554-5030c98ff75d",
   "metadata": {
    "execution": {
     "iopub.execute_input": "2025-08-05T20:59:19.679646Z",
     "iopub.status.busy": "2025-08-05T20:59:19.679147Z",
     "iopub.status.idle": "2025-08-05T20:59:19.693162Z",
     "shell.execute_reply": "2025-08-05T20:59:19.692264Z"
    },
    "papermill": {
     "duration": 0.027956,
     "end_time": "2025-08-05T20:59:19.694707",
     "exception": false,
     "start_time": "2025-08-05T20:59:19.666751",
     "status": "completed"
    },
    "tags": []
   },
   "outputs": [
    {
     "data": {
      "text/html": [
       "<div>\n",
       "<style scoped>\n",
       "    .dataframe tbody tr th:only-of-type {\n",
       "        vertical-align: middle;\n",
       "    }\n",
       "\n",
       "    .dataframe tbody tr th {\n",
       "        vertical-align: top;\n",
       "    }\n",
       "\n",
       "    .dataframe thead th {\n",
       "        text-align: right;\n",
       "    }\n",
       "</style>\n",
       "<table border=\"1\" class=\"dataframe\">\n",
       "  <thead>\n",
       "    <tr style=\"text-align: right;\">\n",
       "      <th></th>\n",
       "      <th>universe_id</th>\n",
       "      <th>universe_training_year</th>\n",
       "      <th>universe_training_size</th>\n",
       "      <th>universe_scale</th>\n",
       "      <th>universe_model</th>\n",
       "      <th>universe_exclude_features</th>\n",
       "      <th>universe_exclude_subgroups</th>\n",
       "      <th>q_hat</th>\n",
       "      <th>coverage</th>\n",
       "      <th>avg_size</th>\n",
       "      <th>cov_frau1</th>\n",
       "      <th>cov_nongerman</th>\n",
       "      <th>cov_nongerman_male</th>\n",
       "      <th>cov_nongerman_female</th>\n",
       "    </tr>\n",
       "  </thead>\n",
       "  <tbody>\n",
       "    <tr>\n",
       "      <th>0</th>\n",
       "      <td>962f6685fe929cefb960c749fa9cee1c</td>\n",
       "      <td>2012_14</td>\n",
       "      <td>25k</td>\n",
       "      <td>do-not-scale</td>\n",
       "      <td>penalized_logreg</td>\n",
       "      <td>age</td>\n",
       "      <td>keep-all</td>\n",
       "      <td>0.655366</td>\n",
       "      <td>0.912975</td>\n",
       "      <td>1.2518</td>\n",
       "      <td>0.913142</td>\n",
       "      <td>0.962555</td>\n",
       "      <td>0.968387</td>\n",
       "      <td>0.952906</td>\n",
       "    </tr>\n",
       "  </tbody>\n",
       "</table>\n",
       "</div>"
      ],
      "text/plain": [
       "                        universe_id universe_training_year  \\\n",
       "0  962f6685fe929cefb960c749fa9cee1c                2012_14   \n",
       "\n",
       "  universe_training_size universe_scale    universe_model  \\\n",
       "0                    25k   do-not-scale  penalized_logreg   \n",
       "\n",
       "  universe_exclude_features universe_exclude_subgroups     q_hat  coverage  \\\n",
       "0                       age                   keep-all  0.655366  0.912975   \n",
       "\n",
       "   avg_size  cov_frau1  cov_nongerman  cov_nongerman_male  \\\n",
       "0    1.2518   0.913142       0.962555            0.968387   \n",
       "\n",
       "   cov_nongerman_female  \n",
       "0              0.952906  "
      ]
     },
     "execution_count": 58,
     "metadata": {},
     "output_type": "execute_result"
    }
   ],
   "source": [
    "cp_metrics_df"
   ]
  },
  {
   "cell_type": "markdown",
   "id": "33774451",
   "metadata": {
    "papermill": {
     "duration": 0.01184,
     "end_time": "2025-08-05T20:59:19.719374",
     "exception": false,
     "start_time": "2025-08-05T20:59:19.707534",
     "status": "completed"
    },
    "tags": []
   },
   "source": [
    "# (Fairness) Metrics"
   ]
  },
  {
   "cell_type": "code",
   "execution_count": 59,
   "id": "debc5d62",
   "metadata": {
    "execution": {
     "iopub.execute_input": "2025-08-05T20:59:19.744522Z",
     "iopub.status.busy": "2025-08-05T20:59:19.743824Z",
     "iopub.status.idle": "2025-08-05T20:59:19.758046Z",
     "shell.execute_reply": "2025-08-05T20:59:19.757183Z"
    },
    "papermill": {
     "duration": 0.028432,
     "end_time": "2025-08-05T20:59:19.759637",
     "exception": false,
     "start_time": "2025-08-05T20:59:19.731205",
     "status": "completed"
    },
    "tags": []
   },
   "outputs": [],
   "source": [
    "# do I need to include maxdeutsch1.missing?\n",
    "\n",
    "import numpy as np\n",
    "\n",
    "colname_to_bin = \"maxdeutsch1\"\n",
    "majority_value = org_train[colname_to_bin].mode()[0]\n",
    "\n",
    "org_test[\"majmin\"] = np.where(org_test[colname_to_bin] == majority_value, \"majority\", \"minority\")"
   ]
  },
  {
   "cell_type": "code",
   "execution_count": 60,
   "id": "06a50de5",
   "metadata": {
    "execution": {
     "iopub.execute_input": "2025-08-05T20:59:19.803264Z",
     "iopub.status.busy": "2025-08-05T20:59:19.802715Z",
     "iopub.status.idle": "2025-08-05T20:59:21.792978Z",
     "shell.execute_reply": "2025-08-05T20:59:21.791885Z"
    },
    "papermill": {
     "duration": 2.014802,
     "end_time": "2025-08-05T20:59:21.795371",
     "exception": false,
     "start_time": "2025-08-05T20:59:19.780569",
     "status": "completed"
    },
    "tags": []
   },
   "outputs": [],
   "source": [
    "example_universe = universe.copy()\n",
    "example_universe[\"cutoff\"] = example_universe[\"cutoff\"][0]\n",
    "example_universe[\"eval_fairness_grouping\"] = example_universe[\"eval_fairness_grouping\"][0]\n",
    "fairness_dict, metric_frame = universe_analysis.compute_metrics(\n",
    "    example_universe,\n",
    "    y_pred_prob=probs_test,\n",
    "    y_test=y_true,\n",
    "    org_test=org_test,\n",
    ")"
   ]
  },
  {
   "cell_type": "markdown",
   "id": "f95d4e02",
   "metadata": {
    "papermill": {
     "duration": 0.026728,
     "end_time": "2025-08-05T20:59:21.853162",
     "exception": false,
     "start_time": "2025-08-05T20:59:21.826434",
     "status": "completed"
    },
    "tags": []
   },
   "source": [
    "# Overall"
   ]
  },
  {
   "cell_type": "markdown",
   "id": "bdee4871",
   "metadata": {
    "papermill": {
     "duration": 0.028365,
     "end_time": "2025-08-05T20:59:21.909120",
     "exception": false,
     "start_time": "2025-08-05T20:59:21.880755",
     "status": "completed"
    },
    "tags": []
   },
   "source": [
    "Fairness\n",
    "Main fairness target: Equalized Odds. Seems to be a better fit than equal opportunity, since we're not only interested in Y = 1. Seems to be a better fit than demographic parity, since we also care about accuracy, not just equal distribution of preds.\n",
    "\n",
    "Pick column for computation of fairness metrics\n",
    "\n",
    "Performance\n",
    "Overall performance measures, most interesting in relation to the measures split by group below"
   ]
  },
  {
   "cell_type": "code",
   "execution_count": 61,
   "id": "c4e067c6",
   "metadata": {
    "execution": {
     "iopub.execute_input": "2025-08-05T20:59:21.964869Z",
     "iopub.status.busy": "2025-08-05T20:59:21.964333Z",
     "iopub.status.idle": "2025-08-05T20:59:21.973474Z",
     "shell.execute_reply": "2025-08-05T20:59:21.972344Z"
    },
    "papermill": {
     "duration": 0.039011,
     "end_time": "2025-08-05T20:59:21.975348",
     "exception": false,
     "start_time": "2025-08-05T20:59:21.936337",
     "status": "completed"
    },
    "tags": []
   },
   "outputs": [
    {
     "data": {
      "text/plain": [
       "accuracy                   0.217088\n",
       "balanced accuracy          0.532337\n",
       "f1                         0.238620\n",
       "precision                  0.136316\n",
       "false positive rate        0.891704\n",
       "false negative rate        0.043622\n",
       "selection rate             0.900000\n",
       "count                  89710.000000\n",
       "dtype: float64"
      ]
     },
     "execution_count": 61,
     "metadata": {},
     "output_type": "execute_result"
    }
   ],
   "source": [
    "metric_frame.overall"
   ]
  },
  {
   "cell_type": "markdown",
   "id": "e968fe9d",
   "metadata": {
    "papermill": {
     "duration": 0.029354,
     "end_time": "2025-08-05T20:59:22.033321",
     "exception": false,
     "start_time": "2025-08-05T20:59:22.003967",
     "status": "completed"
    },
    "tags": []
   },
   "source": [
    "By Group"
   ]
  },
  {
   "cell_type": "code",
   "execution_count": 62,
   "id": "ec325bce",
   "metadata": {
    "execution": {
     "iopub.execute_input": "2025-08-05T20:59:22.092779Z",
     "iopub.status.busy": "2025-08-05T20:59:22.092254Z",
     "iopub.status.idle": "2025-08-05T20:59:22.108319Z",
     "shell.execute_reply": "2025-08-05T20:59:22.107379Z"
    },
    "papermill": {
     "duration": 0.048637,
     "end_time": "2025-08-05T20:59:22.110279",
     "exception": false,
     "start_time": "2025-08-05T20:59:22.061642",
     "status": "completed"
    },
    "tags": []
   },
   "outputs": [
    {
     "data": {
      "text/html": [
       "<div>\n",
       "<style scoped>\n",
       "    .dataframe tbody tr th:only-of-type {\n",
       "        vertical-align: middle;\n",
       "    }\n",
       "\n",
       "    .dataframe tbody tr th {\n",
       "        vertical-align: top;\n",
       "    }\n",
       "\n",
       "    .dataframe thead th {\n",
       "        text-align: right;\n",
       "    }\n",
       "</style>\n",
       "<table border=\"1\" class=\"dataframe\">\n",
       "  <thead>\n",
       "    <tr style=\"text-align: right;\">\n",
       "      <th></th>\n",
       "      <th>accuracy</th>\n",
       "      <th>balanced accuracy</th>\n",
       "      <th>f1</th>\n",
       "      <th>precision</th>\n",
       "      <th>false positive rate</th>\n",
       "      <th>false negative rate</th>\n",
       "      <th>selection rate</th>\n",
       "      <th>count</th>\n",
       "    </tr>\n",
       "    <tr>\n",
       "      <th>majmin</th>\n",
       "      <th></th>\n",
       "      <th></th>\n",
       "      <th></th>\n",
       "      <th></th>\n",
       "      <th></th>\n",
       "      <th></th>\n",
       "      <th></th>\n",
       "      <th></th>\n",
       "    </tr>\n",
       "  </thead>\n",
       "  <tbody>\n",
       "    <tr>\n",
       "      <th>majority</th>\n",
       "      <td>0.239468</td>\n",
       "      <td>0.540086</td>\n",
       "      <td>0.247927</td>\n",
       "      <td>0.142596</td>\n",
       "      <td>0.868516</td>\n",
       "      <td>0.051313</td>\n",
       "      <td>0.879109</td>\n",
       "      <td>69170.0</td>\n",
       "    </tr>\n",
       "    <tr>\n",
       "      <th>minority</th>\n",
       "      <td>0.141723</td>\n",
       "      <td>0.508881</td>\n",
       "      <td>0.209426</td>\n",
       "      <td>0.117154</td>\n",
       "      <td>0.968303</td>\n",
       "      <td>0.013936</td>\n",
       "      <td>0.970351</td>\n",
       "      <td>20540.0</td>\n",
       "    </tr>\n",
       "  </tbody>\n",
       "</table>\n",
       "</div>"
      ],
      "text/plain": [
       "          accuracy  balanced accuracy        f1  precision  \\\n",
       "majmin                                                       \n",
       "majority  0.239468           0.540086  0.247927   0.142596   \n",
       "minority  0.141723           0.508881  0.209426   0.117154   \n",
       "\n",
       "          false positive rate  false negative rate  selection rate    count  \n",
       "majmin                                                                       \n",
       "majority             0.868516             0.051313        0.879109  69170.0  \n",
       "minority             0.968303             0.013936        0.970351  20540.0  "
      ]
     },
     "execution_count": 62,
     "metadata": {},
     "output_type": "execute_result"
    }
   ],
   "source": [
    "metric_frame.by_group"
   ]
  },
  {
   "cell_type": "code",
   "execution_count": 63,
   "id": "a9ddbe63",
   "metadata": {
    "execution": {
     "iopub.execute_input": "2025-08-05T20:59:22.167604Z",
     "iopub.status.busy": "2025-08-05T20:59:22.166696Z",
     "iopub.status.idle": "2025-08-05T20:59:24.639344Z",
     "shell.execute_reply": "2025-08-05T20:59:24.638407Z"
    },
    "papermill": {
     "duration": 2.502793,
     "end_time": "2025-08-05T20:59:24.641032",
     "exception": false,
     "start_time": "2025-08-05T20:59:22.138239",
     "status": "completed"
    },
    "tags": []
   },
   "outputs": [
    {
     "data": {
      "text/plain": [
       "array([[<Axes: title={'center': 'accuracy'}, xlabel='majmin'>,\n",
       "        <Axes: title={'center': 'balanced accuracy'}, xlabel='majmin'>,\n",
       "        <Axes: title={'center': 'f1'}, xlabel='majmin'>],\n",
       "       [<Axes: title={'center': 'precision'}, xlabel='majmin'>,\n",
       "        <Axes: title={'center': 'false positive rate'}, xlabel='majmin'>,\n",
       "        <Axes: title={'center': 'false negative rate'}, xlabel='majmin'>],\n",
       "       [<Axes: title={'center': 'selection rate'}, xlabel='majmin'>,\n",
       "        <Axes: title={'center': 'count'}, xlabel='majmin'>,\n",
       "        <Axes: xlabel='majmin'>]], dtype=object)"
      ]
     },
     "execution_count": 63,
     "metadata": {},
     "output_type": "execute_result"
    },
    {
     "data": {
      "image/png": "[encoded data removed]",
      "text/plain": [
       "<Figure size 1200x800 with 9 Axes>"
      ]
     },
     "metadata": {},
     "output_type": "display_data"
    }
   ],
   "source": [
    "# In a graphic\n",
    "metric_frame.by_group.plot.bar(\n",
    "    subplots=True,\n",
    "    layout=[3, 3],\n",
    "    legend=False,\n",
    "    figsize=[12, 8],\n",
    "    title=\"Show all metrics\",\n",
    ")"
   ]
  },
  {
   "cell_type": "markdown",
   "id": "f57a0bac",
   "metadata": {
    "papermill": {
     "duration": 0.0242,
     "end_time": "2025-08-05T20:59:24.690644",
     "exception": false,
     "start_time": "2025-08-05T20:59:24.666444",
     "status": "completed"
    },
    "tags": []
   },
   "source": [
    "# Final Output"
   ]
  },
  {
   "cell_type": "code",
   "execution_count": 64,
   "id": "96d280a3",
   "metadata": {
    "execution": {
     "iopub.execute_input": "2025-08-05T20:59:24.741631Z",
     "iopub.status.busy": "2025-08-05T20:59:24.740931Z",
     "iopub.status.idle": "2025-08-05T20:59:24.749509Z",
     "shell.execute_reply": "2025-08-05T20:59:24.748472Z"
    },
    "papermill": {
     "duration": 0.036012,
     "end_time": "2025-08-05T20:59:24.751201",
     "exception": false,
     "start_time": "2025-08-05T20:59:24.715189",
     "status": "completed"
    },
    "tags": []
   },
   "outputs": [
    {
     "data": {
      "text/plain": [
       "4"
      ]
     },
     "execution_count": 64,
     "metadata": {},
     "output_type": "execute_result"
    }
   ],
   "source": [
    "sub_universes = universe_analysis.generate_sub_universes()\n",
    "len(sub_universes)"
   ]
  },
  {
   "cell_type": "code",
   "execution_count": 65,
   "id": "92adf7ba",
   "metadata": {
    "execution": {
     "iopub.execute_input": "2025-08-05T20:59:24.804906Z",
     "iopub.status.busy": "2025-08-05T20:59:24.804197Z",
     "iopub.status.idle": "2025-08-05T20:59:24.810237Z",
     "shell.execute_reply": "2025-08-05T20:59:24.809270Z"
    },
    "papermill": {
     "duration": 0.035553,
     "end_time": "2025-08-05T20:59:24.811825",
     "exception": false,
     "start_time": "2025-08-05T20:59:24.776272",
     "status": "completed"
    },
    "tags": []
   },
   "outputs": [],
   "source": [
    "def filter_sub_universe_data(sub_universe, org_test):\n",
    "    # Keep all rows — no filtering\n",
    "    keep_rows_mask = np.ones(org_test.shape[0], dtype=bool)\n",
    "\n",
    "    print(f\"[INFO] Keeping all rows: {keep_rows_mask.sum()} rows retained.\")\n",
    "    return keep_rows_mask"
   ]
  },
  {
   "cell_type": "code",
   "execution_count": 66,
   "id": "4a759155",
   "metadata": {
    "execution": {
     "iopub.execute_input": "2025-08-05T20:59:24.862000Z",
     "iopub.status.busy": "2025-08-05T20:59:24.861537Z",
     "iopub.status.idle": "2025-08-05T20:59:35.525756Z",
     "shell.execute_reply": "2025-08-05T20:59:35.524557Z"
    },
    "papermill": {
     "duration": 10.689681,
     "end_time": "2025-08-05T20:59:35.527600",
     "exception": false,
     "start_time": "2025-08-05T20:59:24.837919",
     "status": "completed"
    },
    "tags": []
   },
   "outputs": [
    {
     "name": "stdout",
     "output_type": "stream",
     "text": [
      "Stopping execution_time clock.\n",
      "[INFO] Keeping all rows: 89710 rows retained.\n"
     ]
    },
    {
     "name": "stdout",
     "output_type": "stream",
     "text": [
      "[INFO] Keeping all rows: 89710 rows retained.\n"
     ]
    },
    {
     "name": "stdout",
     "output_type": "stream",
     "text": [
      "[INFO] Keeping all rows: 89710 rows retained.\n"
     ]
    },
    {
     "name": "stdout",
     "output_type": "stream",
     "text": [
      "[INFO] Keeping all rows: 89710 rows retained.\n"
     ]
    },
    {
     "data": {
      "text/html": [
       "<div>\n",
       "<style scoped>\n",
       "    .dataframe tbody tr th:only-of-type {\n",
       "        vertical-align: middle;\n",
       "    }\n",
       "\n",
       "    .dataframe tbody tr th {\n",
       "        vertical-align: top;\n",
       "    }\n",
       "\n",
       "    .dataframe thead th {\n",
       "        text-align: right;\n",
       "    }\n",
       "</style>\n",
       "<table border=\"1\" class=\"dataframe\">\n",
       "  <thead>\n",
       "    <tr style=\"text-align: right;\">\n",
       "      <th></th>\n",
       "      <th>run_no</th>\n",
       "      <th>universe_id</th>\n",
       "      <th>universe_settings</th>\n",
       "      <th>execution_time</th>\n",
       "      <th>test_size_n</th>\n",
       "      <th>test_size_frac</th>\n",
       "      <th>fair_main_equalized_odds_difference</th>\n",
       "      <th>fair_main_equalized_odds_ratio</th>\n",
       "      <th>fair_main_demographic_parity_difference</th>\n",
       "      <th>fair_main_demographic_parity_ratio</th>\n",
       "      <th>...</th>\n",
       "      <th>perf_grp_precision_0</th>\n",
       "      <th>perf_grp_precision_1</th>\n",
       "      <th>perf_grp_false positive rate_0</th>\n",
       "      <th>perf_grp_false positive rate_1</th>\n",
       "      <th>perf_grp_false negative rate_0</th>\n",
       "      <th>perf_grp_false negative rate_1</th>\n",
       "      <th>perf_grp_selection rate_0</th>\n",
       "      <th>perf_grp_selection rate_1</th>\n",
       "      <th>perf_grp_count_0</th>\n",
       "      <th>perf_grp_count_1</th>\n",
       "    </tr>\n",
       "  </thead>\n",
       "  <tbody>\n",
       "    <tr>\n",
       "      <th>0</th>\n",
       "      <td>16</td>\n",
       "      <td>962f6685fe929cefb960c749fa9cee1c</td>\n",
       "      <td>{\"cutoff\": \"quantile_0.1\", \"eval_fairness_grou...</td>\n",
       "      <td>26.330127</td>\n",
       "      <td>89710</td>\n",
       "      <td>1.0</td>\n",
       "      <td>0.099787</td>\n",
       "      <td>0.896946</td>\n",
       "      <td>0.091241</td>\n",
       "      <td>0.905971</td>\n",
       "      <td>...</td>\n",
       "      <td>NaN</td>\n",
       "      <td>NaN</td>\n",
       "      <td>NaN</td>\n",
       "      <td>NaN</td>\n",
       "      <td>NaN</td>\n",
       "      <td>NaN</td>\n",
       "      <td>NaN</td>\n",
       "      <td>NaN</td>\n",
       "      <td>NaN</td>\n",
       "      <td>NaN</td>\n",
       "    </tr>\n",
       "    <tr>\n",
       "      <th>0</th>\n",
       "      <td>16</td>\n",
       "      <td>962f6685fe929cefb960c749fa9cee1c</td>\n",
       "      <td>{\"cutoff\": \"quantile_0.1\", \"eval_fairness_grou...</td>\n",
       "      <td>26.330127</td>\n",
       "      <td>89710</td>\n",
       "      <td>1.0</td>\n",
       "      <td>0.099787</td>\n",
       "      <td>0.896946</td>\n",
       "      <td>0.091241</td>\n",
       "      <td>0.905971</td>\n",
       "      <td>...</td>\n",
       "      <td>0.117154</td>\n",
       "      <td>0.142596</td>\n",
       "      <td>0.968303</td>\n",
       "      <td>0.868516</td>\n",
       "      <td>0.013936</td>\n",
       "      <td>0.051313</td>\n",
       "      <td>0.970351</td>\n",
       "      <td>0.879109</td>\n",
       "      <td>20540.0</td>\n",
       "      <td>69170.0</td>\n",
       "    </tr>\n",
       "    <tr>\n",
       "      <th>0</th>\n",
       "      <td>16</td>\n",
       "      <td>962f6685fe929cefb960c749fa9cee1c</td>\n",
       "      <td>{\"cutoff\": \"quantile_0.25\", \"eval_fairness_gro...</td>\n",
       "      <td>26.330127</td>\n",
       "      <td>89710</td>\n",
       "      <td>1.0</td>\n",
       "      <td>0.235584</td>\n",
       "      <td>0.742060</td>\n",
       "      <td>0.217597</td>\n",
       "      <td>0.762907</td>\n",
       "      <td>...</td>\n",
       "      <td>NaN</td>\n",
       "      <td>NaN</td>\n",
       "      <td>NaN</td>\n",
       "      <td>NaN</td>\n",
       "      <td>NaN</td>\n",
       "      <td>NaN</td>\n",
       "      <td>NaN</td>\n",
       "      <td>NaN</td>\n",
       "      <td>NaN</td>\n",
       "      <td>NaN</td>\n",
       "    </tr>\n",
       "    <tr>\n",
       "      <th>0</th>\n",
       "      <td>16</td>\n",
       "      <td>962f6685fe929cefb960c749fa9cee1c</td>\n",
       "      <td>{\"cutoff\": \"quantile_0.25\", \"eval_fairness_gro...</td>\n",
       "      <td>26.330127</td>\n",
       "      <td>89710</td>\n",
       "      <td>1.0</td>\n",
       "      <td>0.235584</td>\n",
       "      <td>0.742060</td>\n",
       "      <td>0.217597</td>\n",
       "      <td>0.762907</td>\n",
       "      <td>...</td>\n",
       "      <td>0.119569</td>\n",
       "      <td>0.159939</td>\n",
       "      <td>0.913328</td>\n",
       "      <td>0.677744</td>\n",
       "      <td>0.048142</td>\n",
       "      <td>0.152516</td>\n",
       "      <td>0.917770</td>\n",
       "      <td>0.700173</td>\n",
       "      <td>20540.0</td>\n",
       "      <td>69170.0</td>\n",
       "    </tr>\n",
       "  </tbody>\n",
       "</table>\n",
       "<p>4 rows × 50 columns</p>\n",
       "</div>"
      ],
      "text/plain": [
       "  run_no                       universe_id  \\\n",
       "0     16  962f6685fe929cefb960c749fa9cee1c   \n",
       "0     16  962f6685fe929cefb960c749fa9cee1c   \n",
       "0     16  962f6685fe929cefb960c749fa9cee1c   \n",
       "0     16  962f6685fe929cefb960c749fa9cee1c   \n",
       "\n",
       "                                   universe_settings  execution_time  \\\n",
       "0  {\"cutoff\": \"quantile_0.1\", \"eval_fairness_grou...       26.330127   \n",
       "0  {\"cutoff\": \"quantile_0.1\", \"eval_fairness_grou...       26.330127   \n",
       "0  {\"cutoff\": \"quantile_0.25\", \"eval_fairness_gro...       26.330127   \n",
       "0  {\"cutoff\": \"quantile_0.25\", \"eval_fairness_gro...       26.330127   \n",
       "\n",
       "   test_size_n  test_size_frac  fair_main_equalized_odds_difference  \\\n",
       "0        89710             1.0                             0.099787   \n",
       "0        89710             1.0                             0.099787   \n",
       "0        89710             1.0                             0.235584   \n",
       "0        89710             1.0                             0.235584   \n",
       "\n",
       "   fair_main_equalized_odds_ratio  fair_main_demographic_parity_difference  \\\n",
       "0                        0.896946                                 0.091241   \n",
       "0                        0.896946                                 0.091241   \n",
       "0                        0.742060                                 0.217597   \n",
       "0                        0.742060                                 0.217597   \n",
       "\n",
       "   fair_main_demographic_parity_ratio  ...  perf_grp_precision_0  \\\n",
       "0                            0.905971  ...                   NaN   \n",
       "0                            0.905971  ...              0.117154   \n",
       "0                            0.762907  ...                   NaN   \n",
       "0                            0.762907  ...              0.119569   \n",
       "\n",
       "   perf_grp_precision_1  perf_grp_false positive rate_0  \\\n",
       "0                   NaN                             NaN   \n",
       "0              0.142596                        0.968303   \n",
       "0                   NaN                             NaN   \n",
       "0              0.159939                        0.913328   \n",
       "\n",
       "   perf_grp_false positive rate_1  perf_grp_false negative rate_0  \\\n",
       "0                             NaN                             NaN   \n",
       "0                        0.868516                        0.013936   \n",
       "0                             NaN                             NaN   \n",
       "0                        0.677744                        0.048142   \n",
       "\n",
       "   perf_grp_false negative rate_1  perf_grp_selection rate_0  \\\n",
       "0                             NaN                        NaN   \n",
       "0                        0.051313                   0.970351   \n",
       "0                             NaN                        NaN   \n",
       "0                        0.152516                   0.917770   \n",
       "\n",
       "   perf_grp_selection rate_1  perf_grp_count_0  perf_grp_count_1  \n",
       "0                        NaN               NaN               NaN  \n",
       "0                   0.879109           20540.0           69170.0  \n",
       "0                        NaN               NaN               NaN  \n",
       "0                   0.700173           20540.0           69170.0  \n",
       "\n",
       "[4 rows x 50 columns]"
      ]
     },
     "execution_count": 66,
     "metadata": {},
     "output_type": "execute_result"
    }
   ],
   "source": [
    "final_output = universe_analysis.generate_final_output(\n",
    "    y_pred_prob=probs_test,\n",
    "    y_test=y_true,\n",
    "    org_test=org_test,\n",
    "    filter_data=filter_sub_universe_data,\n",
    "    cp_metrics_df=cp_metrics_df,\n",
    "    save=True,\n",
    ")\n",
    "final_output"
   ]
  }
 ],
 "metadata": {
  "celltoolbar": "Tags",
  "kernelspec": {
   "display_name": "Python (CMA Fairness)",
   "language": "python",
   "name": "cma_fair_env"
  },
  "language_info": {
   "codemirror_mode": {
    "name": "ipython",
    "version": 3
   },
   "file_extension": ".py",
   "mimetype": "text/x-python",
   "name": "python",
   "nbconvert_exporter": "python",
   "pygments_lexer": "ipython3",
   "version": "3.10.12"
  },
  "papermill": {
   "default_parameters": {},
   "duration": 40.865879,
   "end_time": "2025-08-05T20:59:36.377169",
   "environment_variables": {},
   "exception": null,
   "input_path": "universe_analysis.ipynb",
   "output_path": "output/runs/16/notebooks/m_16-962f6685fe929cefb960c749fa9cee1c.ipynb",
   "parameters": {
    "output_dir": "output",
    "run_no": "16",
    "seed": "2023",
    "universe": "{\"cutoff\": [\"quantile_0.1\", \"quantile_0.25\"], \"eval_fairness_grouping\": [\"majority-minority\", \"nationality-all\"], \"exclude_features\": \"age\", \"exclude_subgroups\": \"keep-all\", \"model\": \"penalized_logreg\", \"scale\": \"do-not-scale\", \"training_size\": \"25k\", \"training_year\": \"2012_14\"}",
    "universe_id": "962f6685fe929cefb960c749fa9cee1c"
   },
   "start_time": "2025-08-05T20:58:55.511290",
   "version": "2.6.0"
  }
 },
 "nbformat": 4,
 "nbformat_minor": 5
}