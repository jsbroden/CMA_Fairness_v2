{
 "cells": [
  {
   "cell_type": "code",
   "execution_count": 1,
   "id": "f159f837-637b-42ba-96b5-ec9a68c44524",
   "metadata": {
    "execution": {
     "iopub.execute_input": "2025-08-05T20:50:28.472236Z",
     "iopub.status.busy": "2025-08-05T20:50:28.471762Z",
     "iopub.status.idle": "2025-08-05T20:50:28.485495Z",
     "shell.execute_reply": "2025-08-05T20:50:28.484313Z"
    },
    "papermill": {
     "duration": 0.034504,
     "end_time": "2025-08-05T20:50:28.487210",
     "exception": false,
     "start_time": "2025-08-05T20:50:28.452706",
     "status": "completed"
    },
    "tags": []
   },
   "outputs": [
    {
     "name": "stdout",
     "output_type": "stream",
     "text": [
      "/dss/dsshome1/0C/ra93lal2/cma/CMA_Fairness_v2\n"
     ]
    },
    {
     "name": "stderr",
     "output_type": "stream",
     "text": [
      "/dss/dsshome1/0C/ra93lal2/.local/share/virtualenvs/CMA_Fairness_v2-3j10GkSs/lib/python3.10/site-packages/IPython/core/magics/osm.py:393: UserWarning: This is now an optional IPython functionality, using bookmarks requires you to install the `pickleshare` library.\n",
      "  bkms = self.shell.db.get('bookmarks', {})\n",
      "/dss/dsshome1/0C/ra93lal2/.local/share/virtualenvs/CMA_Fairness_v2-3j10GkSs/lib/python3.10/site-packages/IPython/core/magics/osm.py:417: UserWarning: This is now an optional IPython functionality, setting dhist requires you to install the `pickleshare` library.\n",
      "  self.shell.db['dhist'] = compress_dhist(dhist)[-100:]\n"
     ]
    }
   ],
   "source": [
    "%cd ~/cma/CMA_Fairness_v2"
   ]
  },
  {
   "cell_type": "markdown",
   "id": "de2603b9",
   "metadata": {
    "papermill": {
     "duration": 0.017753,
     "end_time": "2025-08-05T20:50:28.522226",
     "exception": false,
     "start_time": "2025-08-05T20:50:28.504473",
     "status": "completed"
    },
    "tags": []
   },
   "source": [
    "The following cell holds the definition of our parameters, these values can be overriden by rendering the with e.g. the following command:\n",
    "\n",
    "papermill -p alpha 0.2 -p ratio 0.3 universe_analysis.ipynb output/test_run.ipynb"
   ]
  },
  {
   "cell_type": "code",
   "execution_count": 2,
   "id": "a80968a0-40bb-4fa9-85ef-2d5eefb01975",
   "metadata": {
    "execution": {
     "iopub.execute_input": "2025-08-05T20:50:28.558688Z",
     "iopub.status.busy": "2025-08-05T20:50:28.557791Z",
     "iopub.status.idle": "2025-08-05T20:50:28.564497Z",
     "shell.execute_reply": "2025-08-05T20:50:28.563470Z"
    },
    "papermill": {
     "duration": 0.026724,
     "end_time": "2025-08-05T20:50:28.566353",
     "exception": false,
     "start_time": "2025-08-05T20:50:28.539629",
     "status": "completed"
    },
    "tags": []
   },
   "outputs": [
    {
     "name": "stdout",
     "output_type": "stream",
     "text": [
      "Current working directory: /dss/dsshome1/0C/ra93lal2/cma/CMA_Fairness_v2\n"
     ]
    }
   ],
   "source": [
    "import os\n",
    "print(\"Current working directory:\", os.getcwd())"
   ]
  },
  {
   "cell_type": "code",
   "execution_count": 3,
   "id": "2dce4c03",
   "metadata": {
    "execution": {
     "iopub.execute_input": "2025-08-05T20:50:28.604716Z",
     "iopub.status.busy": "2025-08-05T20:50:28.604058Z",
     "iopub.status.idle": "2025-08-05T20:50:28.609974Z",
     "shell.execute_reply": "2025-08-05T20:50:28.609017Z"
    },
    "papermill": {
     "duration": 0.026705,
     "end_time": "2025-08-05T20:50:28.611692",
     "exception": false,
     "start_time": "2025-08-05T20:50:28.584987",
     "status": "completed"
    },
    "tags": [
     "parameters"
    ]
   },
   "outputs": [],
   "source": [
    "run_no = 0\n",
    "universe_id = \"test\"\n",
    "universe = {\n",
    "    \"training_size\": \"25k\", # \"25k\", \"5k\", \"1k\"\n",
    "    \"training_year\": \"2014\", # \"2014\", \"2012_14\", \"2010_14\"\n",
    "    \"scale\": \"scale\", # \"scale\", \"do-not-scale\",\n",
    "    \"model\": \"elasticnet\", # \"logreg\", \"penalized_logreg\", \"rf\", \"gbm\", \"elasticnet\"\n",
    "    \"cutoff\": [\"quantile_0.15\", \"quantile_0.30\"],\n",
    "    \"exclude_features\": \"age\", # \"none\", \"nationality\", \"sex\", \"nationality-sex\", \"age\"\n",
    "    \"exclude_subgroups\": \"keep-all\", # \"keep-all\", \"drop-non-german\"\n",
    "    \"eval_fairness_grouping\": [\"majority-minority\", \"nationality-all\"]\n",
    "}\n",
    "\n",
    "output_dir=\"./output\"\n",
    "seed=0"
   ]
  },
  {
   "cell_type": "code",
   "execution_count": 4,
   "id": "01472e7c",
   "metadata": {
    "execution": {
     "iopub.execute_input": "2025-08-05T20:50:28.649039Z",
     "iopub.status.busy": "2025-08-05T20:50:28.648391Z",
     "iopub.status.idle": "2025-08-05T20:50:28.653626Z",
     "shell.execute_reply": "2025-08-05T20:50:28.652693Z"
    },
    "papermill": {
     "duration": 0.025949,
     "end_time": "2025-08-05T20:50:28.655327",
     "exception": false,
     "start_time": "2025-08-05T20:50:28.629378",
     "status": "completed"
    },
    "tags": [
     "injected-parameters"
    ]
   },
   "outputs": [],
   "source": [
    "# Parameters\n",
    "universe_id = \"a439ddea44b6b085ec2927078bde0af6\"\n",
    "run_no = \"16\"\n",
    "universe = \"{\\\"cutoff\\\": [\\\"quantile_0.1\\\", \\\"quantile_0.25\\\"], \\\"eval_fairness_grouping\\\": [\\\"majority-minority\\\", \\\"nationality-all\\\"], \\\"exclude_features\\\": \\\"sex\\\", \\\"exclude_subgroups\\\": \\\"drop-non-german\\\", \\\"model\\\": \\\"penalized_logreg\\\", \\\"scale\\\": \\\"scale\\\", \\\"training_size\\\": \\\"25k\\\", \\\"training_year\\\": \\\"2012_14\\\"}\"\n",
    "output_dir = \"output\"\n",
    "seed = \"2023\"\n"
   ]
  },
  {
   "cell_type": "code",
   "execution_count": 5,
   "id": "1650acaf",
   "metadata": {
    "execution": {
     "iopub.execute_input": "2025-08-05T20:50:28.691972Z",
     "iopub.status.busy": "2025-08-05T20:50:28.691336Z",
     "iopub.status.idle": "2025-08-05T20:50:28.696109Z",
     "shell.execute_reply": "2025-08-05T20:50:28.695195Z"
    },
    "papermill": {
     "duration": 0.025123,
     "end_time": "2025-08-05T20:50:28.697939",
     "exception": false,
     "start_time": "2025-08-05T20:50:28.672816",
     "status": "completed"
    },
    "tags": []
   },
   "outputs": [],
   "source": [
    "import json\n",
    "if isinstance(universe, str):\n",
    "    universe = json.loads(universe)"
   ]
  },
  {
   "cell_type": "code",
   "execution_count": 6,
   "id": "16620c48",
   "metadata": {
    "execution": {
     "iopub.execute_input": "2025-08-05T20:50:28.734083Z",
     "iopub.status.busy": "2025-08-05T20:50:28.733428Z",
     "iopub.status.idle": "2025-08-05T20:50:28.778086Z",
     "shell.execute_reply": "2025-08-05T20:50:28.777035Z"
    },
    "papermill": {
     "duration": 0.064563,
     "end_time": "2025-08-05T20:50:28.780125",
     "exception": false,
     "start_time": "2025-08-05T20:50:28.715562",
     "status": "completed"
    },
    "tags": []
   },
   "outputs": [],
   "source": [
    "# Auto-reload the custom package\n",
    "%load_ext autoreload\n",
    "%autoreload 1\n",
    "%aimport fairness_multiverse"
   ]
  },
  {
   "cell_type": "code",
   "execution_count": 7,
   "id": "01c5c9f3",
   "metadata": {
    "execution": {
     "iopub.execute_input": "2025-08-05T20:50:28.816427Z",
     "iopub.status.busy": "2025-08-05T20:50:28.815764Z",
     "iopub.status.idle": "2025-08-05T20:50:30.848363Z",
     "shell.execute_reply": "2025-08-05T20:50:30.847352Z"
    },
    "papermill": {
     "duration": 2.052623,
     "end_time": "2025-08-05T20:50:30.850198",
     "exception": false,
     "start_time": "2025-08-05T20:50:28.797575",
     "status": "completed"
    },
    "tags": []
   },
   "outputs": [],
   "source": [
    "from fairness_multiverse.universe import UniverseAnalysis\n",
    "\n",
    "universe_analysis = UniverseAnalysis(\n",
    "    run_no = run_no,\n",
    "    universe_id = universe_id,\n",
    "    universe = universe,\n",
    "    output_dir=output_dir,\n",
    ")"
   ]
  },
  {
   "cell_type": "code",
   "execution_count": 8,
   "id": "106241f5",
   "metadata": {
    "execution": {
     "iopub.execute_input": "2025-08-05T20:50:30.888619Z",
     "iopub.status.busy": "2025-08-05T20:50:30.887763Z",
     "iopub.status.idle": "2025-08-05T20:50:30.894037Z",
     "shell.execute_reply": "2025-08-05T20:50:30.892963Z"
    },
    "papermill": {
     "duration": 0.027763,
     "end_time": "2025-08-05T20:50:30.895808",
     "exception": false,
     "start_time": "2025-08-05T20:50:30.868045",
     "status": "completed"
    },
    "tags": []
   },
   "outputs": [
    {
     "name": "stdout",
     "output_type": "stream",
     "text": [
      "Using Seed: 2023\n"
     ]
    }
   ],
   "source": [
    "import numpy as np\n",
    "parsed_seed = int(seed)\n",
    "np.random.seed(parsed_seed)\n",
    "print(f\"Using Seed: {parsed_seed}\")"
   ]
  },
  {
   "cell_type": "markdown",
   "id": "e0ebdc57",
   "metadata": {
    "papermill": {
     "duration": 0.017888,
     "end_time": "2025-08-05T20:50:30.932142",
     "exception": false,
     "start_time": "2025-08-05T20:50:30.914254",
     "status": "completed"
    },
    "tags": []
   },
   "source": [
    "# Loading Data"
   ]
  },
  {
   "cell_type": "code",
   "execution_count": 9,
   "id": "f0496b8a",
   "metadata": {
    "execution": {
     "iopub.execute_input": "2025-08-05T20:50:30.970304Z",
     "iopub.status.busy": "2025-08-05T20:50:30.969567Z",
     "iopub.status.idle": "2025-08-05T20:50:41.897150Z",
     "shell.execute_reply": "2025-08-05T20:50:41.896150Z"
    },
    "papermill": {
     "duration": 10.948442,
     "end_time": "2025-08-05T20:50:41.898979",
     "exception": false,
     "start_time": "2025-08-05T20:50:30.950537",
     "status": "completed"
    },
    "tags": []
   },
   "outputs": [
    {
     "name": "stdout",
     "output_type": "stream",
     "text": [
      "Loading SIAB data from cache: data/siab_cached.csv.gz\n"
     ]
    },
    {
     "name": "stdout",
     "output_type": "stream",
     "text": [
      "(643690, 164)\n"
     ]
    }
   ],
   "source": [
    "from pathlib import Path\n",
    "import pandas as pd\n",
    "\n",
    "# File paths\n",
    "raw_file = Path(\"data/raw/siab.csv\")\n",
    "cache_file = Path(\"data/siab_cached.csv.gz\")\n",
    "\n",
    "# Ensure cache directory exists\n",
    "cache_file.parent.mkdir(parents=True, exist_ok=True)\n",
    "\n",
    "# Load with simple caching\n",
    "if cache_file.exists():\n",
    "    print(f\"Loading SIAB data from cache: {cache_file}\")\n",
    "    siab = pd.read_csv(cache_file, compression='gzip')\n",
    "else:\n",
    "    print(f\"Cache not found. Reading raw SIAB data: {raw_file}\")\n",
    "    siab = pd.read_csv(raw_file)\n",
    "    siab.to_csv(cache_file, index=False, compression='gzip')\n",
    "    print(f\"Cached SIAB data to: {cache_file}\")\n",
    "\n",
    "print(siab.shape)"
   ]
  },
  {
   "cell_type": "code",
   "execution_count": 10,
   "id": "db0ca512-5f53-4dba-abdb-a2888bca41ba",
   "metadata": {
    "execution": {
     "iopub.execute_input": "2025-08-05T20:50:41.938555Z",
     "iopub.status.busy": "2025-08-05T20:50:41.938242Z",
     "iopub.status.idle": "2025-08-05T20:50:41.942273Z",
     "shell.execute_reply": "2025-08-05T20:50:41.941639Z"
    },
    "papermill": {
     "duration": 0.023919,
     "end_time": "2025-08-05T20:50:41.943693",
     "exception": false,
     "start_time": "2025-08-05T20:50:41.919774",
     "status": "completed"
    },
    "tags": []
   },
   "outputs": [],
   "source": [
    "#siab"
   ]
  },
  {
   "cell_type": "markdown",
   "id": "997051c5-15bd-4b69-9786-c3001a3ce484",
   "metadata": {
    "papermill": {
     "duration": 0.018706,
     "end_time": "2025-08-05T20:50:41.981188",
     "exception": false,
     "start_time": "2025-08-05T20:50:41.962482",
     "status": "completed"
    },
    "tags": []
   },
   "source": [
    "# Splitting Data and Setting Training Data Size"
   ]
  },
  {
   "cell_type": "code",
   "execution_count": 11,
   "id": "aea9c6ef-6f46-42c8-85eb-5a62025c1508",
   "metadata": {
    "execution": {
     "iopub.execute_input": "2025-08-05T20:50:42.018454Z",
     "iopub.status.busy": "2025-08-05T20:50:42.018090Z",
     "iopub.status.idle": "2025-08-05T20:50:42.688604Z",
     "shell.execute_reply": "2025-08-05T20:50:42.687861Z"
    },
    "papermill": {
     "duration": 0.690961,
     "end_time": "2025-08-05T20:50:42.690399",
     "exception": false,
     "start_time": "2025-08-05T20:50:41.999438",
     "status": "completed"
    },
    "tags": []
   },
   "outputs": [],
   "source": [
    "from fairness_multiverse.universe import sample_by_year_size\n",
    "\n",
    "siab_train = sample_by_year_size(siab,\n",
    "                               training_year=universe[\"training_year\"],\n",
    "                               training_size=universe[\"training_size\"])"
   ]
  },
  {
   "cell_type": "code",
   "execution_count": 12,
   "id": "8d3afb32-789d-442c-8d5d-9f5aa8dd2eed",
   "metadata": {
    "execution": {
     "iopub.execute_input": "2025-08-05T20:50:42.724146Z",
     "iopub.status.busy": "2025-08-05T20:50:42.723716Z",
     "iopub.status.idle": "2025-08-05T20:50:42.728419Z",
     "shell.execute_reply": "2025-08-05T20:50:42.727365Z"
    },
    "papermill": {
     "duration": 0.023347,
     "end_time": "2025-08-05T20:50:42.730401",
     "exception": false,
     "start_time": "2025-08-05T20:50:42.707054",
     "status": "completed"
    },
    "tags": []
   },
   "outputs": [],
   "source": [
    "#siab_train.shape"
   ]
  },
  {
   "cell_type": "code",
   "execution_count": 13,
   "id": "d582db68-1a4c-47fb-84fc-08518dc1975a",
   "metadata": {
    "execution": {
     "iopub.execute_input": "2025-08-05T20:50:42.766535Z",
     "iopub.status.busy": "2025-08-05T20:50:42.765654Z",
     "iopub.status.idle": "2025-08-05T20:50:42.770689Z",
     "shell.execute_reply": "2025-08-05T20:50:42.769822Z"
    },
    "papermill": {
     "duration": 0.024492,
     "end_time": "2025-08-05T20:50:42.772270",
     "exception": false,
     "start_time": "2025-08-05T20:50:42.747778",
     "status": "completed"
    },
    "tags": []
   },
   "outputs": [],
   "source": [
    "#display(siab_train.groupby(\"year\").size())"
   ]
  },
  {
   "cell_type": "code",
   "execution_count": 14,
   "id": "a561edb4-d032-42cb-8256-22eac1111c64",
   "metadata": {
    "execution": {
     "iopub.execute_input": "2025-08-05T20:50:42.807757Z",
     "iopub.status.busy": "2025-08-05T20:50:42.806811Z",
     "iopub.status.idle": "2025-08-05T20:50:43.018462Z",
     "shell.execute_reply": "2025-08-05T20:50:43.017698Z"
    },
    "papermill": {
     "duration": 0.230848,
     "end_time": "2025-08-05T20:50:43.020396",
     "exception": false,
     "start_time": "2025-08-05T20:50:42.789548",
     "status": "completed"
    },
    "tags": []
   },
   "outputs": [],
   "source": [
    "#siab_train = siab_s[siab_s.year < 2015]\n",
    "siab_calib = siab[siab.year == 2015]\n",
    "siab_test = siab[siab.year == 2016]"
   ]
  },
  {
   "cell_type": "code",
   "execution_count": 15,
   "id": "472de16f-c3db-4916-846b-1f0de9cf1746",
   "metadata": {
    "execution": {
     "iopub.execute_input": "2025-08-05T20:50:43.055494Z",
     "iopub.status.busy": "2025-08-05T20:50:43.055008Z",
     "iopub.status.idle": "2025-08-05T20:50:43.070273Z",
     "shell.execute_reply": "2025-08-05T20:50:43.069117Z"
    },
    "papermill": {
     "duration": 0.034592,
     "end_time": "2025-08-05T20:50:43.072121",
     "exception": false,
     "start_time": "2025-08-05T20:50:43.037529",
     "status": "completed"
    },
    "tags": []
   },
   "outputs": [],
   "source": [
    "X_train = siab_train.iloc[:,4:164]\n",
    "y_train = siab_train.iloc[:, [3]]"
   ]
  },
  {
   "cell_type": "code",
   "execution_count": 16,
   "id": "828c96af-f43a-4ed6-ba47-8ac73a47d56c",
   "metadata": {
    "execution": {
     "iopub.execute_input": "2025-08-05T20:50:43.111469Z",
     "iopub.status.busy": "2025-08-05T20:50:43.110589Z",
     "iopub.status.idle": "2025-08-05T20:50:43.164895Z",
     "shell.execute_reply": "2025-08-05T20:50:43.163720Z"
    },
    "papermill": {
     "duration": 0.076438,
     "end_time": "2025-08-05T20:50:43.167143",
     "exception": false,
     "start_time": "2025-08-05T20:50:43.090705",
     "status": "completed"
    },
    "tags": []
   },
   "outputs": [],
   "source": [
    "X_calib = siab_calib.iloc[:,4:164]\n",
    "y_calib = siab_calib.iloc[:, [3]]"
   ]
  },
  {
   "cell_type": "code",
   "execution_count": 17,
   "id": "c34be9c3-6bd6-476e-acd3-845840e303be",
   "metadata": {
    "execution": {
     "iopub.execute_input": "2025-08-05T20:50:43.206655Z",
     "iopub.status.busy": "2025-08-05T20:50:43.205992Z",
     "iopub.status.idle": "2025-08-05T20:50:43.258713Z",
     "shell.execute_reply": "2025-08-05T20:50:43.257596Z"
    },
    "papermill": {
     "duration": 0.07349,
     "end_time": "2025-08-05T20:50:43.260486",
     "exception": false,
     "start_time": "2025-08-05T20:50:43.186996",
     "status": "completed"
    },
    "tags": []
   },
   "outputs": [],
   "source": [
    "X_test = siab_test.iloc[:,4:164]\n",
    "y_true = siab_test.iloc[:, [3]]"
   ]
  },
  {
   "cell_type": "code",
   "execution_count": 18,
   "id": "e6c733c5",
   "metadata": {
    "execution": {
     "iopub.execute_input": "2025-08-05T20:50:43.295914Z",
     "iopub.status.busy": "2025-08-05T20:50:43.295121Z",
     "iopub.status.idle": "2025-08-05T20:50:43.393659Z",
     "shell.execute_reply": "2025-08-05T20:50:43.392892Z"
    },
    "papermill": {
     "duration": 0.117342,
     "end_time": "2025-08-05T20:50:43.395381",
     "exception": false,
     "start_time": "2025-08-05T20:50:43.278039",
     "status": "completed"
    },
    "tags": []
   },
   "outputs": [],
   "source": [
    "# Auxiliary data needed downstream in the pipeline\n",
    "\n",
    "org_train = X_train.copy()\n",
    "org_test = X_test.copy()\n",
    "org_calib = X_calib.copy()"
   ]
  },
  {
   "cell_type": "markdown",
   "id": "0a4a1b33",
   "metadata": {
    "papermill": {
     "duration": 0.016455,
     "end_time": "2025-08-05T20:50:43.428361",
     "exception": false,
     "start_time": "2025-08-05T20:50:43.411906",
     "status": "completed"
    },
    "tags": []
   },
   "source": [
    "# Preprocessing Data"
   ]
  },
  {
   "cell_type": "code",
   "execution_count": 19,
   "id": "ca879031",
   "metadata": {
    "execution": {
     "iopub.execute_input": "2025-08-05T20:50:43.465577Z",
     "iopub.status.busy": "2025-08-05T20:50:43.464678Z",
     "iopub.status.idle": "2025-08-05T20:50:43.470940Z",
     "shell.execute_reply": "2025-08-05T20:50:43.470018Z"
    },
    "papermill": {
     "duration": 0.026994,
     "end_time": "2025-08-05T20:50:43.472433",
     "exception": false,
     "start_time": "2025-08-05T20:50:43.445439",
     "status": "completed"
    },
    "tags": []
   },
   "outputs": [],
   "source": [
    "# EXCLUDE PROTECTED FEATURES\n",
    "# ----------------------\n",
    "# \"exclude_features\": \"none\", # \"nationality\", \"sex\", \"nationality-sex\"\n",
    "\n",
    "excluded_features = universe[\"exclude_features\"].split(\"-\") # split, e.g.: \"nationality-sex\" -> [\"nationality\", \"sex\"]\n",
    "excluded_features_dictionary = {\n",
    "    \"nationality\": [\"maxdeutsch1\", \"maxdeutsch.Missing.\"],\n",
    "    \"sex\": [\"frau1\"],\n",
    "    \"age\": [\"age\"],\n",
    "}"
   ]
  },
  {
   "cell_type": "code",
   "execution_count": 20,
   "id": "b745ac60",
   "metadata": {
    "execution": {
     "iopub.execute_input": "2025-08-05T20:50:43.510294Z",
     "iopub.status.busy": "2025-08-05T20:50:43.509547Z",
     "iopub.status.idle": "2025-08-05T20:50:43.515918Z",
     "shell.execute_reply": "2025-08-05T20:50:43.514688Z"
    },
    "papermill": {
     "duration": 0.027188,
     "end_time": "2025-08-05T20:50:43.517798",
     "exception": false,
     "start_time": "2025-08-05T20:50:43.490610",
     "status": "completed"
    },
    "tags": []
   },
   "outputs": [],
   "source": [
    "# Code nice names to column names\n",
    "\n",
    "excluded_features_columns = [\n",
    "    excluded_features_dictionary[f] for f in excluded_features if len(f) > 0 and f != \"none\"\n",
    "]"
   ]
  },
  {
   "cell_type": "code",
   "execution_count": 21,
   "id": "f84f73a2",
   "metadata": {
    "execution": {
     "iopub.execute_input": "2025-08-05T20:50:43.554505Z",
     "iopub.status.busy": "2025-08-05T20:50:43.554195Z",
     "iopub.status.idle": "2025-08-05T20:50:43.559675Z",
     "shell.execute_reply": "2025-08-05T20:50:43.558546Z"
    },
    "papermill": {
     "duration": 0.026008,
     "end_time": "2025-08-05T20:50:43.561505",
     "exception": false,
     "start_time": "2025-08-05T20:50:43.535497",
     "status": "completed"
    },
    "tags": []
   },
   "outputs": [],
   "source": [
    "from utils import flatten_once\n",
    "\n",
    "excluded_features_columns = flatten_once(excluded_features_columns)"
   ]
  },
  {
   "cell_type": "code",
   "execution_count": 22,
   "id": "884dea22",
   "metadata": {
    "execution": {
     "iopub.execute_input": "2025-08-05T20:50:43.601702Z",
     "iopub.status.busy": "2025-08-05T20:50:43.601212Z",
     "iopub.status.idle": "2025-08-05T20:50:43.616898Z",
     "shell.execute_reply": "2025-08-05T20:50:43.615814Z"
    },
    "papermill": {
     "duration": 0.037544,
     "end_time": "2025-08-05T20:50:43.618741",
     "exception": false,
     "start_time": "2025-08-05T20:50:43.581197",
     "status": "completed"
    },
    "tags": []
   },
   "outputs": [
    {
     "name": "stdout",
     "output_type": "stream",
     "text": [
      "Dropping features: ['frau1']\n"
     ]
    }
   ],
   "source": [
    "if len(excluded_features_columns) > 0:\n",
    "    print(f\"Dropping features: {excluded_features_columns}\")\n",
    "    X_train.drop(excluded_features_columns, axis=1, inplace=True)"
   ]
  },
  {
   "cell_type": "code",
   "execution_count": 23,
   "id": "95ab8b16",
   "metadata": {
    "execution": {
     "iopub.execute_input": "2025-08-05T20:50:43.656424Z",
     "iopub.status.busy": "2025-08-05T20:50:43.655865Z",
     "iopub.status.idle": "2025-08-05T20:50:43.714740Z",
     "shell.execute_reply": "2025-08-05T20:50:43.713752Z"
    },
    "papermill": {
     "duration": 0.079591,
     "end_time": "2025-08-05T20:50:43.716468",
     "exception": false,
     "start_time": "2025-08-05T20:50:43.636877",
     "status": "completed"
    },
    "tags": []
   },
   "outputs": [
    {
     "name": "stdout",
     "output_type": "stream",
     "text": [
      "Dropping features: ['frau1']\n"
     ]
    }
   ],
   "source": [
    "if len(excluded_features_columns) > 0:\n",
    "    print(f\"Dropping features: {excluded_features_columns}\")\n",
    "    X_test.drop(excluded_features_columns, axis=1, inplace=True)"
   ]
  },
  {
   "cell_type": "code",
   "execution_count": 24,
   "id": "1853aaf5-fb9f-46cb-a2b5-8ea4ae2237e4",
   "metadata": {
    "execution": {
     "iopub.execute_input": "2025-08-05T20:50:43.759657Z",
     "iopub.status.busy": "2025-08-05T20:50:43.759079Z",
     "iopub.status.idle": "2025-08-05T20:50:43.829484Z",
     "shell.execute_reply": "2025-08-05T20:50:43.828211Z"
    },
    "papermill": {
     "duration": 0.094465,
     "end_time": "2025-08-05T20:50:43.831657",
     "exception": false,
     "start_time": "2025-08-05T20:50:43.737192",
     "status": "completed"
    },
    "tags": []
   },
   "outputs": [
    {
     "name": "stdout",
     "output_type": "stream",
     "text": [
      "Dropping features: ['frau1']\n"
     ]
    }
   ],
   "source": [
    "if len(excluded_features_columns) > 0:\n",
    "    print(f\"Dropping features: {excluded_features_columns}\")\n",
    "    X_calib.drop(excluded_features_columns, axis=1, inplace=True)"
   ]
  },
  {
   "cell_type": "code",
   "execution_count": 25,
   "id": "76c4dc6d",
   "metadata": {
    "execution": {
     "iopub.execute_input": "2025-08-05T20:50:43.873869Z",
     "iopub.status.busy": "2025-08-05T20:50:43.873378Z",
     "iopub.status.idle": "2025-08-05T20:50:43.879009Z",
     "shell.execute_reply": "2025-08-05T20:50:43.877936Z"
    },
    "papermill": {
     "duration": 0.0283,
     "end_time": "2025-08-05T20:50:43.880698",
     "exception": false,
     "start_time": "2025-08-05T20:50:43.852398",
     "status": "completed"
    },
    "tags": []
   },
   "outputs": [],
   "source": [
    "# EXCLUDE CERTAIN SUBGROUPS\n",
    "# ----------------------\n",
    "\n",
    "mode = universe.get(\"exclude_subgroups\", \"keep-all\") \n",
    "# Fetches the exclude_subgroups setting from the universe dict.\n",
    "# Defaults to \"keep-all\" if the key is missing."
   ]
  },
  {
   "cell_type": "code",
   "execution_count": 26,
   "id": "21994072",
   "metadata": {
    "execution": {
     "iopub.execute_input": "2025-08-05T20:50:43.916117Z",
     "iopub.status.busy": "2025-08-05T20:50:43.915455Z",
     "iopub.status.idle": "2025-08-05T20:50:43.922166Z",
     "shell.execute_reply": "2025-08-05T20:50:43.921040Z"
    },
    "papermill": {
     "duration": 0.025909,
     "end_time": "2025-08-05T20:50:43.923857",
     "exception": false,
     "start_time": "2025-08-05T20:50:43.897948",
     "status": "completed"
    },
    "tags": []
   },
   "outputs": [],
   "source": [
    "if mode == \"keep-all\":\n",
    "    keep_mask = pd.Series(True, index=org_train.index)\n",
    "\n",
    "# org_train contains the original feature columns from features_org (in Simson)\n",
    "# features_org contains unprocessed features, for me X_train at beginning ???\n",
    "# For keep-all, creates a boolean Series (keep_mask) of all True, so no rows are removed.\n",
    "\n",
    "elif mode == \"drop-non-german\":\n",
    "    keep_mask = org_train[\"maxdeutsch1\"] == 1 # ??? what about missing values?\n",
    "\n",
    "else:\n",
    "    raise ValueError(f\"Unsupported mode for exclude_subgroups: {mode}\")"
   ]
  },
  {
   "cell_type": "code",
   "execution_count": 27,
   "id": "71651440",
   "metadata": {
    "execution": {
     "iopub.execute_input": "2025-08-05T20:50:43.960016Z",
     "iopub.status.busy": "2025-08-05T20:50:43.959337Z",
     "iopub.status.idle": "2025-08-05T20:50:43.966616Z",
     "shell.execute_reply": "2025-08-05T20:50:43.965570Z"
    },
    "papermill": {
     "duration": 0.027519,
     "end_time": "2025-08-05T20:50:43.968486",
     "exception": false,
     "start_time": "2025-08-05T20:50:43.940967",
     "status": "completed"
    },
    "tags": []
   },
   "outputs": [
    {
     "name": "stdout",
     "output_type": "stream",
     "text": [
      "Dropping 3481 rows (13.92%) where mode='drop-non-german'\n"
     ]
    }
   ],
   "source": [
    "n_drop = (~keep_mask).sum() # Calculates how many rows are set to be dropped\n",
    "if n_drop > 0:\n",
    "    pct = n_drop / len(keep_mask) * 100\n",
    "    print(f\"Dropping {n_drop} rows ({pct:.2f}%) where mode='{mode}'\")"
   ]
  },
  {
   "cell_type": "code",
   "execution_count": 28,
   "id": "5fb8eee5",
   "metadata": {
    "execution": {
     "iopub.execute_input": "2025-08-05T20:50:44.004431Z",
     "iopub.status.busy": "2025-08-05T20:50:44.004015Z",
     "iopub.status.idle": "2025-08-05T20:50:44.018433Z",
     "shell.execute_reply": "2025-08-05T20:50:44.017270Z"
    },
    "papermill": {
     "duration": 0.0345,
     "end_time": "2025-08-05T20:50:44.020604",
     "exception": false,
     "start_time": "2025-08-05T20:50:43.986104",
     "status": "completed"
    },
    "tags": []
   },
   "outputs": [],
   "source": [
    "X_train = X_train[keep_mask]"
   ]
  },
  {
   "cell_type": "code",
   "execution_count": 29,
   "id": "b202bb3a",
   "metadata": {
    "execution": {
     "iopub.execute_input": "2025-08-05T20:50:44.070468Z",
     "iopub.status.busy": "2025-08-05T20:50:44.070054Z",
     "iopub.status.idle": "2025-08-05T20:50:44.075878Z",
     "shell.execute_reply": "2025-08-05T20:50:44.075000Z"
    },
    "papermill": {
     "duration": 0.026523,
     "end_time": "2025-08-05T20:50:44.077439",
     "exception": false,
     "start_time": "2025-08-05T20:50:44.050916",
     "status": "completed"
    },
    "tags": []
   },
   "outputs": [],
   "source": [
    "y_train = y_train[keep_mask]"
   ]
  },
  {
   "cell_type": "markdown",
   "id": "493e2ac3",
   "metadata": {
    "papermill": {
     "duration": 0.021169,
     "end_time": "2025-08-05T20:50:44.109639",
     "exception": false,
     "start_time": "2025-08-05T20:50:44.088470",
     "status": "completed"
    },
    "tags": []
   },
   "source": [
    "# Model Training"
   ]
  },
  {
   "cell_type": "code",
   "execution_count": 30,
   "id": "679e1268",
   "metadata": {
    "execution": {
     "iopub.execute_input": "2025-08-05T20:50:44.151879Z",
     "iopub.status.busy": "2025-08-05T20:50:44.151461Z",
     "iopub.status.idle": "2025-08-05T20:50:44.260640Z",
     "shell.execute_reply": "2025-08-05T20:50:44.259496Z"
    },
    "papermill": {
     "duration": 0.132668,
     "end_time": "2025-08-05T20:50:44.262750",
     "exception": false,
     "start_time": "2025-08-05T20:50:44.130082",
     "status": "completed"
    },
    "tags": []
   },
   "outputs": [],
   "source": [
    "from sklearn.linear_model import LogisticRegression\n",
    "from sklearn.ensemble import GradientBoostingClassifier, RandomForestClassifier\n",
    "\n",
    "if (universe[\"model\"] == \"logreg\"):\n",
    "    model = LogisticRegression() #penalty=\"none\", solver=\"newton-cg\", max_iter=1) # include random_state=19 ?\n",
    "elif (universe[\"model\"] == \"penalized_logreg\"):\n",
    "    model = LogisticRegression(penalty=\"l2\", C=0.1) #, solver=\"newton-cg\", max_iter=1)\n",
    "elif (universe[\"model\"] == \"rf\"):\n",
    "    model = RandomForestClassifier() # n_estimators=100, n_jobs=-1\n",
    "elif (universe[\"model\"] == \"gbm\"):\n",
    "    model = GradientBoostingClassifier()\n",
    "elif (universe[\"model\"] == \"elasticnet\"):\n",
    "    model = LogisticRegression(penalty = 'elasticnet', solver = 'saga', l1_ratio = 0.5) # max_iter=5000\n",
    "else:\n",
    "    raise \"Unsupported universe.model\""
   ]
  },
  {
   "cell_type": "code",
   "execution_count": 31,
   "id": "0cc8f744",
   "metadata": {
    "execution": {
     "iopub.execute_input": "2025-08-05T20:50:44.306551Z",
     "iopub.status.busy": "2025-08-05T20:50:44.305771Z",
     "iopub.status.idle": "2025-08-05T20:50:44.312576Z",
     "shell.execute_reply": "2025-08-05T20:50:44.311363Z"
    },
    "papermill": {
     "duration": 0.030555,
     "end_time": "2025-08-05T20:50:44.314531",
     "exception": false,
     "start_time": "2025-08-05T20:50:44.283976",
     "status": "completed"
    },
    "tags": []
   },
   "outputs": [],
   "source": [
    "import numpy as np\n",
    "from sklearn.pipeline import Pipeline\n",
    "from sklearn.preprocessing import StandardScaler\n",
    "\n",
    "model = Pipeline([\n",
    "    #(\"continuous_processor\", continuous_processor),\n",
    "    #(\"categorical_preprocessor\", categorical_preprocessor),\n",
    "    (\"scale\", StandardScaler() if universe[\"scale\"] == \"scale\" else None), \n",
    "    (\"model\", model),\n",
    "])"
   ]
  },
  {
   "cell_type": "code",
   "execution_count": 32,
   "id": "9442c04d",
   "metadata": {
    "execution": {
     "iopub.execute_input": "2025-08-05T20:50:44.338043Z",
     "iopub.status.busy": "2025-08-05T20:50:44.337647Z",
     "iopub.status.idle": "2025-08-05T20:50:44.906608Z",
     "shell.execute_reply": "2025-08-05T20:50:44.905682Z"
    },
    "papermill": {
     "duration": 0.580875,
     "end_time": "2025-08-05T20:50:44.908217",
     "exception": false,
     "start_time": "2025-08-05T20:50:44.327342",
     "status": "completed"
    },
    "tags": []
   },
   "outputs": [
    {
     "name": "stderr",
     "output_type": "stream",
     "text": [
      "/dss/dsshome1/0C/ra93lal2/.local/share/virtualenvs/CMA_Fairness_v2-3j10GkSs/lib/python3.10/site-packages/sklearn/linear_model/_logistic.py:444: ConvergenceWarning: lbfgs failed to converge (status=1):\n",
      "STOP: TOTAL NO. of ITERATIONS REACHED LIMIT.\n",
      "\n",
      "Increase the number of iterations (max_iter) or scale the data as shown in:\n",
      "    https://scikit-learn.org/stable/modules/preprocessing.html\n",
      "Please also refer to the documentation for alternative solver options:\n",
      "    https://scikit-learn.org/stable/modules/linear_model.html#logistic-regression\n",
      "  n_iter_i = _check_optimize_result(\n"
     ]
    },
    {
     "data": {
      "text/html": [
       "<style>#sk-container-id-1 {color: black;background-color: white;}#sk-container-id-1 pre{padding: 0;}#sk-container-id-1 div.sk-toggleable {background-color: white;}#sk-container-id-1 label.sk-toggleable__label {cursor: pointer;display: block;width: 100%;margin-bottom: 0;padding: 0.3em;box-sizing: border-box;text-align: center;}#sk-container-id-1 label.sk-toggleable__label-arrow:before {content: \"▸\";float: left;margin-right: 0.25em;color: #696969;}#sk-container-id-1 label.sk-toggleable__label-arrow:hover:before {color: black;}#sk-container-id-1 div.sk-estimator:hover label.sk-toggleable__label-arrow:before {color: black;}#sk-container-id-1 div.sk-toggleable__content {max-height: 0;max-width: 0;overflow: hidden;text-align: left;background-color: #f0f8ff;}#sk-container-id-1 div.sk-toggleable__content pre {margin: 0.2em;color: black;border-radius: 0.25em;background-color: #f0f8ff;}#sk-container-id-1 input.sk-toggleable__control:checked~div.sk-toggleable__content {max-height: 200px;max-width: 100%;overflow: auto;}#sk-container-id-1 input.sk-toggleable__control:checked~label.sk-toggleable__label-arrow:before {content: \"▾\";}#sk-container-id-1 div.sk-estimator input.sk-toggleable__control:checked~label.sk-toggleable__label {background-color: #d4ebff;}#sk-container-id-1 div.sk-label input.sk-toggleable__control:checked~label.sk-toggleable__label {background-color: #d4ebff;}#sk-container-id-1 input.sk-hidden--visually {border: 0;clip: rect(1px 1px 1px 1px);clip: rect(1px, 1px, 1px, 1px);height: 1px;margin: -1px;overflow: hidden;padding: 0;position: absolute;width: 1px;}#sk-container-id-1 div.sk-estimator {font-family: monospace;background-color: #f0f8ff;border: 1px dotted black;border-radius: 0.25em;box-sizing: border-box;margin-bottom: 0.5em;}#sk-container-id-1 div.sk-estimator:hover {background-color: #d4ebff;}#sk-container-id-1 div.sk-parallel-item::after {content: \"\";width: 100%;border-bottom: 1px solid gray;flex-grow: 1;}#sk-container-id-1 div.sk-label:hover label.sk-toggleable__label {background-color: #d4ebff;}#sk-container-id-1 div.sk-serial::before {content: \"\";position: absolute;border-left: 1px solid gray;box-sizing: border-box;top: 0;bottom: 0;left: 50%;z-index: 0;}#sk-container-id-1 div.sk-serial {display: flex;flex-direction: column;align-items: center;background-color: white;padding-right: 0.2em;padding-left: 0.2em;position: relative;}#sk-container-id-1 div.sk-item {position: relative;z-index: 1;}#sk-container-id-1 div.sk-parallel {display: flex;align-items: stretch;justify-content: center;background-color: white;position: relative;}#sk-container-id-1 div.sk-item::before, #sk-container-id-1 div.sk-parallel-item::before {content: \"\";position: absolute;border-left: 1px solid gray;box-sizing: border-box;top: 0;bottom: 0;left: 50%;z-index: -1;}#sk-container-id-1 div.sk-parallel-item {display: flex;flex-direction: column;z-index: 1;position: relative;background-color: white;}#sk-container-id-1 div.sk-parallel-item:first-child::after {align-self: flex-end;width: 50%;}#sk-container-id-1 div.sk-parallel-item:last-child::after {align-self: flex-start;width: 50%;}#sk-container-id-1 div.sk-parallel-item:only-child::after {width: 0;}#sk-container-id-1 div.sk-dashed-wrapped {border: 1px dashed gray;margin: 0 0.4em 0.5em 0.4em;box-sizing: border-box;padding-bottom: 0.4em;background-color: white;}#sk-container-id-1 div.sk-label label {font-family: monospace;font-weight: bold;display: inline-block;line-height: 1.2em;}#sk-container-id-1 div.sk-label-container {text-align: center;}#sk-container-id-1 div.sk-container {/* jupyter's `normalize.less` sets `[hidden] { display: none; }` but bootstrap.min.css set `[hidden] { display: none !important; }` so we also need the `!important` here to be able to override the default hidden behavior on the sphinx rendered scikit-learn.org. See: https://github.com/scikit-learn/scikit-learn/issues/21755 */display: inline-block !important;position: relative;}#sk-container-id-1 div.sk-text-repr-fallback {display: none;}</style><div id=\"sk-container-id-1\" class=\"sk-top-container\"><div class=\"sk-text-repr-fallback\"><pre>Pipeline(steps=[(&#x27;scale&#x27;, StandardScaler()),\n",
       "                (&#x27;model&#x27;, LogisticRegression(C=0.1))])</pre><b>In a Jupyter environment, please rerun this cell to show the HTML representation or trust the notebook. <br />On GitHub, the HTML representation is unable to render, please try loading this page with nbviewer.org.</b></div><div class=\"sk-container\" hidden><div class=\"sk-item sk-dashed-wrapped\"><div class=\"sk-label-container\"><div class=\"sk-label sk-toggleable\"><input class=\"sk-toggleable__control sk-hidden--visually\" id=\"sk-estimator-id-1\" type=\"checkbox\" ><label for=\"sk-estimator-id-1\" class=\"sk-toggleable__label sk-toggleable__label-arrow\">Pipeline</label><div class=\"sk-toggleable__content\"><pre>Pipeline(steps=[(&#x27;scale&#x27;, StandardScaler()),\n",
       "                (&#x27;model&#x27;, LogisticRegression(C=0.1))])</pre></div></div></div><div class=\"sk-serial\"><div class=\"sk-item\"><div class=\"sk-estimator sk-toggleable\"><input class=\"sk-toggleable__control sk-hidden--visually\" id=\"sk-estimator-id-2\" type=\"checkbox\" ><label for=\"sk-estimator-id-2\" class=\"sk-toggleable__label sk-toggleable__label-arrow\">StandardScaler</label><div class=\"sk-toggleable__content\"><pre>StandardScaler()</pre></div></div></div><div class=\"sk-item\"><div class=\"sk-estimator sk-toggleable\"><input class=\"sk-toggleable__control sk-hidden--visually\" id=\"sk-estimator-id-3\" type=\"checkbox\" ><label for=\"sk-estimator-id-3\" class=\"sk-toggleable__label sk-toggleable__label-arrow\">LogisticRegression</label><div class=\"sk-toggleable__content\"><pre>LogisticRegression(C=0.1)</pre></div></div></div></div></div></div></div>"
      ],
      "text/plain": [
       "Pipeline(steps=[('scale', StandardScaler()),\n",
       "                ('model', LogisticRegression(C=0.1))])"
      ]
     },
     "execution_count": 32,
     "metadata": {},
     "output_type": "execute_result"
    }
   ],
   "source": [
    "model.fit(X_train, y_train.values.ravel())"
   ]
  },
  {
   "cell_type": "code",
   "execution_count": 33,
   "id": "af59f8c0",
   "metadata": {
    "execution": {
     "iopub.execute_input": "2025-08-05T20:50:44.949107Z",
     "iopub.status.busy": "2025-08-05T20:50:44.948298Z",
     "iopub.status.idle": "2025-08-05T20:50:44.953159Z",
     "shell.execute_reply": "2025-08-05T20:50:44.952456Z"
    },
    "papermill": {
     "duration": 0.02649,
     "end_time": "2025-08-05T20:50:44.954677",
     "exception": false,
     "start_time": "2025-08-05T20:50:44.928187",
     "status": "completed"
    },
    "tags": []
   },
   "outputs": [],
   "source": [
    "from fairness_multiverse.universe import predict_w_threshold"
   ]
  },
  {
   "cell_type": "code",
   "execution_count": 34,
   "id": "a7cf2e16",
   "metadata": {
    "execution": {
     "iopub.execute_input": "2025-08-05T20:50:44.975972Z",
     "iopub.status.busy": "2025-08-05T20:50:44.975483Z",
     "iopub.status.idle": "2025-08-05T20:50:45.144877Z",
     "shell.execute_reply": "2025-08-05T20:50:45.144016Z"
    },
    "papermill": {
     "duration": 0.18109,
     "end_time": "2025-08-05T20:50:45.146207",
     "exception": false,
     "start_time": "2025-08-05T20:50:44.965117",
     "status": "completed"
    },
    "tags": []
   },
   "outputs": [
    {
     "data": {
      "text/plain": [
       "0.8613421023297291"
      ]
     },
     "execution_count": 34,
     "metadata": {},
     "output_type": "execute_result"
    }
   ],
   "source": [
    "probs_test = model.predict_proba(X_test)\n",
    "\n",
    "'''\n",
    "Below code returns a boolean array (or binary 0/1 array depending on how it’s used) where each element \n",
    "is True if the probability of class 1 is greater than or equal to the threshold, and False otherwise.\n",
    "'''\n",
    "y_pred_default = predict_w_threshold(probs_test, 0.5)\n",
    "\n",
    "from sklearn.metrics import accuracy_score\n",
    "\n",
    "# Naive prediction\n",
    "accuracy_score(y_true = y_true, y_pred = y_pred_default)"
   ]
  },
  {
   "cell_type": "code",
   "execution_count": 35,
   "id": "081964c3",
   "metadata": {
    "execution": {
     "iopub.execute_input": "2025-08-05T20:50:45.167751Z",
     "iopub.status.busy": "2025-08-05T20:50:45.167455Z",
     "iopub.status.idle": "2025-08-05T20:50:45.330764Z",
     "shell.execute_reply": "2025-08-05T20:50:45.329909Z"
    },
    "papermill": {
     "duration": 0.175202,
     "end_time": "2025-08-05T20:50:45.332103",
     "exception": false,
     "start_time": "2025-08-05T20:50:45.156901",
     "status": "completed"
    },
    "tags": []
   },
   "outputs": [
    {
     "data": {
      "text/plain": [
       "array([0, 0, 0, ..., 0, 0, 0])"
      ]
     },
     "execution_count": 35,
     "metadata": {},
     "output_type": "execute_result"
    }
   ],
   "source": [
    "model.predict(X_test)"
   ]
  },
  {
   "cell_type": "markdown",
   "id": "56c9705b",
   "metadata": {
    "papermill": {
     "duration": 0.010252,
     "end_time": "2025-08-05T20:50:45.355719",
     "exception": false,
     "start_time": "2025-08-05T20:50:45.345467",
     "status": "completed"
    },
    "tags": []
   },
   "source": [
    "# Conformal Prediction"
   ]
  },
  {
   "cell_type": "code",
   "execution_count": 36,
   "id": "160ec6ff",
   "metadata": {
    "execution": {
     "iopub.execute_input": "2025-08-05T20:50:45.378478Z",
     "iopub.status.busy": "2025-08-05T20:50:45.377658Z",
     "iopub.status.idle": "2025-08-05T20:50:45.382119Z",
     "shell.execute_reply": "2025-08-05T20:50:45.381372Z"
    },
    "papermill": {
     "duration": 0.016594,
     "end_time": "2025-08-05T20:50:45.383496",
     "exception": false,
     "start_time": "2025-08-05T20:50:45.366902",
     "status": "completed"
    },
    "tags": []
   },
   "outputs": [],
   "source": [
    "# Miscoverage level for conformal prediction (10% allowed error rate => 90% target coverage)\n",
    "alpha = 0.1"
   ]
  },
  {
   "cell_type": "code",
   "execution_count": 37,
   "id": "eadf4555-3dd3-440e-8e35-f82a4ad9f855",
   "metadata": {
    "execution": {
     "iopub.execute_input": "2025-08-05T20:50:45.405286Z",
     "iopub.status.busy": "2025-08-05T20:50:45.404698Z",
     "iopub.status.idle": "2025-08-05T20:50:45.564096Z",
     "shell.execute_reply": "2025-08-05T20:50:45.563342Z"
    },
    "papermill": {
     "duration": 0.171432,
     "end_time": "2025-08-05T20:50:45.565612",
     "exception": false,
     "start_time": "2025-08-05T20:50:45.394180",
     "status": "completed"
    },
    "tags": []
   },
   "outputs": [],
   "source": [
    "probs_calib = model.predict_proba(X_calib)"
   ]
  },
  {
   "cell_type": "code",
   "execution_count": 38,
   "id": "2ed93547-6d5d-4983-9b36-1ecb300da49a",
   "metadata": {
    "execution": {
     "iopub.execute_input": "2025-08-05T20:50:45.590733Z",
     "iopub.status.busy": "2025-08-05T20:50:45.590507Z",
     "iopub.status.idle": "2025-08-05T20:50:45.595020Z",
     "shell.execute_reply": "2025-08-05T20:50:45.594261Z"
    },
    "papermill": {
     "duration": 0.018165,
     "end_time": "2025-08-05T20:50:45.596571",
     "exception": false,
     "start_time": "2025-08-05T20:50:45.578406",
     "status": "completed"
    },
    "tags": []
   },
   "outputs": [],
   "source": [
    "y_calib = y_calib.values.ravel().astype(int)"
   ]
  },
  {
   "cell_type": "code",
   "execution_count": 39,
   "id": "65d1320d-f588-4b38-9072-62af1ae97f7d",
   "metadata": {
    "execution": {
     "iopub.execute_input": "2025-08-05T20:50:45.618717Z",
     "iopub.status.busy": "2025-08-05T20:50:45.618228Z",
     "iopub.status.idle": "2025-08-05T20:50:45.624013Z",
     "shell.execute_reply": "2025-08-05T20:50:45.623266Z"
    },
    "papermill": {
     "duration": 0.017989,
     "end_time": "2025-08-05T20:50:45.625428",
     "exception": false,
     "start_time": "2025-08-05T20:50:45.607439",
     "status": "completed"
    },
    "tags": []
   },
   "outputs": [],
   "source": [
    "from fairness_multiverse.conformal import compute_nc_scores\n",
    "\n",
    "# Compute nonconformity scores on calibration set (1 - probability of true class)\n",
    "nc_scores = compute_nc_scores(probs_calib, y_calib)"
   ]
  },
  {
   "cell_type": "code",
   "execution_count": 40,
   "id": "df3b8ca3-53b7-43d5-9667-7c85da7aeda2",
   "metadata": {
    "execution": {
     "iopub.execute_input": "2025-08-05T20:50:45.647138Z",
     "iopub.status.busy": "2025-08-05T20:50:45.646655Z",
     "iopub.status.idle": "2025-08-05T20:50:45.652112Z",
     "shell.execute_reply": "2025-08-05T20:50:45.651320Z"
    },
    "papermill": {
     "duration": 0.017648,
     "end_time": "2025-08-05T20:50:45.653548",
     "exception": false,
     "start_time": "2025-08-05T20:50:45.635900",
     "status": "completed"
    },
    "tags": []
   },
   "outputs": [],
   "source": [
    "from fairness_multiverse.conformal import find_threshold\n",
    "\n",
    "# Find conformal threshold q_hat for the given alpha (split conformal method)\n",
    "q_hat = find_threshold(nc_scores, alpha)"
   ]
  },
  {
   "cell_type": "code",
   "execution_count": 41,
   "id": "4d29e6c1-0ef6-4aa4-b8fe-4fe79b0d033a",
   "metadata": {
    "execution": {
     "iopub.execute_input": "2025-08-05T20:50:45.675677Z",
     "iopub.status.busy": "2025-08-05T20:50:45.675198Z",
     "iopub.status.idle": "2025-08-05T20:50:45.682991Z",
     "shell.execute_reply": "2025-08-05T20:50:45.682055Z"
    },
    "papermill": {
     "duration": 0.020475,
     "end_time": "2025-08-05T20:50:45.684815",
     "exception": false,
     "start_time": "2025-08-05T20:50:45.664340",
     "status": "completed"
    },
    "tags": []
   },
   "outputs": [
    {
     "data": {
      "text/plain": [
       "0.6628337128715276"
      ]
     },
     "execution_count": 41,
     "metadata": {},
     "output_type": "execute_result"
    }
   ],
   "source": [
    "q_hat"
   ]
  },
  {
   "cell_type": "code",
   "execution_count": 42,
   "id": "92460794-cdac-4be2-ba28-f28c0515a6fb",
   "metadata": {
    "execution": {
     "iopub.execute_input": "2025-08-05T20:50:45.726775Z",
     "iopub.status.busy": "2025-08-05T20:50:45.726096Z",
     "iopub.status.idle": "2025-08-05T20:50:46.557946Z",
     "shell.execute_reply": "2025-08-05T20:50:46.556958Z"
    },
    "papermill": {
     "duration": 0.854322,
     "end_time": "2025-08-05T20:50:46.559769",
     "exception": false,
     "start_time": "2025-08-05T20:50:45.705447",
     "status": "completed"
    },
    "tags": []
   },
   "outputs": [],
   "source": [
    "from fairness_multiverse.conformal import predict_conformal_sets\n",
    "\n",
    "# Generate prediction sets for each test example\n",
    "pred_sets = predict_conformal_sets(model, X_test, q_hat)"
   ]
  },
  {
   "cell_type": "code",
   "execution_count": 43,
   "id": "d90c9a65-e6db-4f5d-80cd-e68fb7e46829",
   "metadata": {
    "execution": {
     "iopub.execute_input": "2025-08-05T20:50:46.603614Z",
     "iopub.status.busy": "2025-08-05T20:50:46.602975Z",
     "iopub.status.idle": "2025-08-05T20:50:46.608434Z",
     "shell.execute_reply": "2025-08-05T20:50:46.607536Z"
    },
    "papermill": {
     "duration": 0.028962,
     "end_time": "2025-08-05T20:50:46.610270",
     "exception": false,
     "start_time": "2025-08-05T20:50:46.581308",
     "status": "completed"
    },
    "tags": []
   },
   "outputs": [],
   "source": [
    "y_true = y_true.squeeze()"
   ]
  },
  {
   "cell_type": "code",
   "execution_count": 44,
   "id": "3a58a54a-1e68-46b9-927a-df01f18aebc8",
   "metadata": {
    "execution": {
     "iopub.execute_input": "2025-08-05T20:50:46.653896Z",
     "iopub.status.busy": "2025-08-05T20:50:46.653207Z",
     "iopub.status.idle": "2025-08-05T20:50:47.576521Z",
     "shell.execute_reply": "2025-08-05T20:50:47.575574Z"
    },
    "papermill": {
     "duration": 0.947995,
     "end_time": "2025-08-05T20:50:47.578488",
     "exception": false,
     "start_time": "2025-08-05T20:50:46.630493",
     "status": "completed"
    },
    "tags": []
   },
   "outputs": [],
   "source": [
    "from fairness_multiverse.conformal import evaluate_sets\n",
    "\n",
    "# Evaluate coverage and average set size on test data\n",
    "metrics = evaluate_sets(pred_sets, y_true)"
   ]
  },
  {
   "cell_type": "markdown",
   "id": "2b569c12-9aaa-4c88-98c9-bbcd0cf3ebb8",
   "metadata": {
    "papermill": {
     "duration": 0.018279,
     "end_time": "2025-08-05T20:50:47.616349",
     "exception": false,
     "start_time": "2025-08-05T20:50:47.598070",
     "status": "completed"
    },
    "tags": []
   },
   "source": [
    "# CP Metrics"
   ]
  },
  {
   "cell_type": "code",
   "execution_count": 45,
   "id": "5ce0a5cb-201f-45a0-ade5-94c7f0bd6095",
   "metadata": {
    "execution": {
     "iopub.execute_input": "2025-08-05T20:50:47.661582Z",
     "iopub.status.busy": "2025-08-05T20:50:47.660599Z",
     "iopub.status.idle": "2025-08-05T20:50:47.667992Z",
     "shell.execute_reply": "2025-08-05T20:50:47.667067Z"
    },
    "papermill": {
     "duration": 0.032842,
     "end_time": "2025-08-05T20:50:47.669975",
     "exception": false,
     "start_time": "2025-08-05T20:50:47.637133",
     "status": "completed"
    },
    "tags": []
   },
   "outputs": [
    {
     "data": {
      "text/plain": [
       "{'coverage': 0.9108906476424034, 'avg_size': 1.1242224947051611}"
      ]
     },
     "execution_count": 45,
     "metadata": {},
     "output_type": "execute_result"
    }
   ],
   "source": [
    "metrics"
   ]
  },
  {
   "cell_type": "code",
   "execution_count": 46,
   "id": "9b9a838d-31c9-430b-ae14-12baee460d17",
   "metadata": {
    "execution": {
     "iopub.execute_input": "2025-08-05T20:50:47.726445Z",
     "iopub.status.busy": "2025-08-05T20:50:47.725682Z",
     "iopub.status.idle": "2025-08-05T20:50:47.732865Z",
     "shell.execute_reply": "2025-08-05T20:50:47.731921Z"
    },
    "papermill": {
     "duration": 0.038045,
     "end_time": "2025-08-05T20:50:47.734598",
     "exception": false,
     "start_time": "2025-08-05T20:50:47.696553",
     "status": "completed"
    },
    "tags": []
   },
   "outputs": [],
   "source": [
    "example_universe = universe.copy()\n",
    "universe_training_year = example_universe.get(\"training_year\")\n",
    "universe_training_size = example_universe.get(\"training_size\")\n",
    "universe_scale = example_universe.get(\"scale\")\n",
    "universe_model = example_universe.get(\"model\")\n",
    "universe_exclude_features = example_universe.get(\"exclude_features\")\n",
    "universe_exclude_subgroups = example_universe.get(\"exclude_subgroups\")"
   ]
  },
  {
   "cell_type": "code",
   "execution_count": 47,
   "id": "f4b6a8ac-9dc0-4245-8a91-5b3b5999c4f9",
   "metadata": {
    "execution": {
     "iopub.execute_input": "2025-08-05T20:50:47.775837Z",
     "iopub.status.busy": "2025-08-05T20:50:47.775022Z",
     "iopub.status.idle": "2025-08-05T20:50:47.781490Z",
     "shell.execute_reply": "2025-08-05T20:50:47.780534Z"
    },
    "papermill": {
     "duration": 0.028052,
     "end_time": "2025-08-05T20:50:47.783233",
     "exception": false,
     "start_time": "2025-08-05T20:50:47.755181",
     "status": "completed"
    },
    "tags": []
   },
   "outputs": [],
   "source": [
    "cp_metrics_dict = {\n",
    "    \"universe_id\": [universe_id],\n",
    "    \"universe_training_year\": [universe_training_year],\n",
    "    \"universe_training_size\": [universe_training_size],\n",
    "    \"universe_scale\": [universe_scale],\n",
    "    \"universe_model\": [universe_model],\n",
    "    \"universe_exclude_features\": [universe_exclude_features],\n",
    "    \"universe_exclude_subgroups\": [universe_exclude_subgroups],\n",
    "    \"q_hat\": [q_hat],\n",
    "    \"coverage\": [metrics[\"coverage\"]],\n",
    "    \"avg_size\": [metrics[\"avg_size\"]],\n",
    "}"
   ]
  },
  {
   "cell_type": "code",
   "execution_count": 48,
   "id": "908acbb1-0371-4915-85ca-3fa520d2efe2",
   "metadata": {
    "execution": {
     "iopub.execute_input": "2025-08-05T20:50:47.828166Z",
     "iopub.status.busy": "2025-08-05T20:50:47.827344Z",
     "iopub.status.idle": "2025-08-05T20:50:47.834483Z",
     "shell.execute_reply": "2025-08-05T20:50:47.833623Z"
    },
    "papermill": {
     "duration": 0.030933,
     "end_time": "2025-08-05T20:50:47.836238",
     "exception": false,
     "start_time": "2025-08-05T20:50:47.805305",
     "status": "completed"
    },
    "tags": []
   },
   "outputs": [
    {
     "data": {
      "text/plain": [
       "{'universe_id': ['a439ddea44b6b085ec2927078bde0af6'],\n",
       " 'universe_training_year': ['2012_14'],\n",
       " 'universe_training_size': ['25k'],\n",
       " 'universe_scale': ['scale'],\n",
       " 'universe_model': ['penalized_logreg'],\n",
       " 'universe_exclude_features': ['sex'],\n",
       " 'universe_exclude_subgroups': ['drop-non-german'],\n",
       " 'q_hat': [0.6628337128715276],\n",
       " 'coverage': [0.9108906476424034],\n",
       " 'avg_size': [1.1242224947051611]}"
      ]
     },
     "execution_count": 48,
     "metadata": {},
     "output_type": "execute_result"
    }
   ],
   "source": [
    "cp_metrics_dict"
   ]
  },
  {
   "cell_type": "code",
   "execution_count": 49,
   "id": "33007efc-14e9-4ec6-97ac-56a455c82265",
   "metadata": {
    "execution": {
     "iopub.execute_input": "2025-08-05T20:50:47.882031Z",
     "iopub.status.busy": "2025-08-05T20:50:47.881235Z",
     "iopub.status.idle": "2025-08-05T20:50:47.887190Z",
     "shell.execute_reply": "2025-08-05T20:50:47.886347Z"
    },
    "papermill": {
     "duration": 0.030523,
     "end_time": "2025-08-05T20:50:47.888854",
     "exception": false,
     "start_time": "2025-08-05T20:50:47.858331",
     "status": "completed"
    },
    "tags": []
   },
   "outputs": [],
   "source": [
    "cp_metrics_df = pd.DataFrame(cp_metrics_dict)"
   ]
  },
  {
   "cell_type": "code",
   "execution_count": 50,
   "id": "db12611b-57b2-4910-b9d0-355adfd6e7bf",
   "metadata": {
    "execution": {
     "iopub.execute_input": "2025-08-05T20:50:47.933191Z",
     "iopub.status.busy": "2025-08-05T20:50:47.932399Z",
     "iopub.status.idle": "2025-08-05T20:50:47.950735Z",
     "shell.execute_reply": "2025-08-05T20:50:47.949934Z"
    },
    "papermill": {
     "duration": 0.042241,
     "end_time": "2025-08-05T20:50:47.952170",
     "exception": false,
     "start_time": "2025-08-05T20:50:47.909929",
     "status": "completed"
    },
    "tags": []
   },
   "outputs": [
    {
     "data": {
      "text/html": [
       "<div>\n",
       "<style scoped>\n",
       "    .dataframe tbody tr th:only-of-type {\n",
       "        vertical-align: middle;\n",
       "    }\n",
       "\n",
       "    .dataframe tbody tr th {\n",
       "        vertical-align: top;\n",
       "    }\n",
       "\n",
       "    .dataframe thead th {\n",
       "        text-align: right;\n",
       "    }\n",
       "</style>\n",
       "<table border=\"1\" class=\"dataframe\">\n",
       "  <thead>\n",
       "    <tr style=\"text-align: right;\">\n",
       "      <th></th>\n",
       "      <th>universe_id</th>\n",
       "      <th>universe_training_year</th>\n",
       "      <th>universe_training_size</th>\n",
       "      <th>universe_scale</th>\n",
       "      <th>universe_model</th>\n",
       "      <th>universe_exclude_features</th>\n",
       "      <th>universe_exclude_subgroups</th>\n",
       "      <th>q_hat</th>\n",
       "      <th>coverage</th>\n",
       "      <th>avg_size</th>\n",
       "    </tr>\n",
       "  </thead>\n",
       "  <tbody>\n",
       "    <tr>\n",
       "      <th>0</th>\n",
       "      <td>a439ddea44b6b085ec2927078bde0af6</td>\n",
       "      <td>2012_14</td>\n",
       "      <td>25k</td>\n",
       "      <td>scale</td>\n",
       "      <td>penalized_logreg</td>\n",
       "      <td>sex</td>\n",
       "      <td>drop-non-german</td>\n",
       "      <td>0.662834</td>\n",
       "      <td>0.910891</td>\n",
       "      <td>1.124222</td>\n",
       "    </tr>\n",
       "  </tbody>\n",
       "</table>\n",
       "</div>"
      ],
      "text/plain": [
       "                        universe_id universe_training_year  \\\n",
       "0  a439ddea44b6b085ec2927078bde0af6                2012_14   \n",
       "\n",
       "  universe_training_size universe_scale    universe_model  \\\n",
       "0                    25k          scale  penalized_logreg   \n",
       "\n",
       "  universe_exclude_features universe_exclude_subgroups     q_hat  coverage  \\\n",
       "0                       sex            drop-non-german  0.662834  0.910891   \n",
       "\n",
       "   avg_size  \n",
       "0  1.124222  "
      ]
     },
     "execution_count": 50,
     "metadata": {},
     "output_type": "execute_result"
    }
   ],
   "source": [
    "cp_metrics_df"
   ]
  },
  {
   "cell_type": "code",
   "execution_count": 51,
   "id": "b7fbde55-a0a1-47e4-9af6-fe4a17fa8c61",
   "metadata": {
    "execution": {
     "iopub.execute_input": "2025-08-05T20:50:47.997408Z",
     "iopub.status.busy": "2025-08-05T20:50:47.996617Z",
     "iopub.status.idle": "2025-08-05T20:50:48.001808Z",
     "shell.execute_reply": "2025-08-05T20:50:48.000835Z"
    },
    "papermill": {
     "duration": 0.029745,
     "end_time": "2025-08-05T20:50:48.003521",
     "exception": false,
     "start_time": "2025-08-05T20:50:47.973776",
     "status": "completed"
    },
    "tags": []
   },
   "outputs": [],
   "source": [
    "# Conditional Coverage & looking at subgroups"
   ]
  },
  {
   "cell_type": "code",
   "execution_count": 52,
   "id": "027ae886-68dd-4141-96c7-805a5450e1ef",
   "metadata": {
    "execution": {
     "iopub.execute_input": "2025-08-05T20:50:48.047980Z",
     "iopub.status.busy": "2025-08-05T20:50:48.047353Z",
     "iopub.status.idle": "2025-08-05T20:50:48.301682Z",
     "shell.execute_reply": "2025-08-05T20:50:48.300723Z"
    },
    "papermill": {
     "duration": 0.278626,
     "end_time": "2025-08-05T20:50:48.303568",
     "exception": false,
     "start_time": "2025-08-05T20:50:48.024942",
     "status": "completed"
    },
    "tags": []
   },
   "outputs": [],
   "source": [
    "from fairness_multiverse.conformal import build_cp_groups\n",
    "\n",
    "cp_groups_df = build_cp_groups(pred_sets, y_true, X_test.index, org_test)\n",
    "#needs universe_id and setting"
   ]
  },
  {
   "cell_type": "code",
   "execution_count": 53,
   "id": "6cbdab96-b2b2-45af-ad54-d0516db2e28d",
   "metadata": {
    "execution": {
     "iopub.execute_input": "2025-08-05T20:50:48.346351Z",
     "iopub.status.busy": "2025-08-05T20:50:48.345803Z",
     "iopub.status.idle": "2025-08-05T20:50:49.977550Z",
     "shell.execute_reply": "2025-08-05T20:50:49.976548Z"
    },
    "papermill": {
     "duration": 1.654751,
     "end_time": "2025-08-05T20:50:49.979616",
     "exception": false,
     "start_time": "2025-08-05T20:50:48.324865",
     "status": "completed"
    },
    "tags": []
   },
   "outputs": [],
   "source": [
    "# Define covered = 1 if true_label is in the predicted set\n",
    "cp_groups_df['covered'] = cp_groups_df.apply(\n",
    "    lambda r: int(r['true_label'] in r['pred_set']),\n",
    "    axis=1\n",
    ")"
   ]
  },
  {
   "cell_type": "code",
   "execution_count": 54,
   "id": "338ff529-1a6b-4b87-a931-8e4788d52aad",
   "metadata": {
    "execution": {
     "iopub.execute_input": "2025-08-05T20:50:50.021671Z",
     "iopub.status.busy": "2025-08-05T20:50:50.020999Z",
     "iopub.status.idle": "2025-08-05T20:50:50.025930Z",
     "shell.execute_reply": "2025-08-05T20:50:50.024981Z"
    },
    "papermill": {
     "duration": 0.027395,
     "end_time": "2025-08-05T20:50:50.027529",
     "exception": false,
     "start_time": "2025-08-05T20:50:50.000134",
     "status": "completed"
    },
    "tags": []
   },
   "outputs": [],
   "source": [
    "#cp_groups_df"
   ]
  },
  {
   "cell_type": "code",
   "execution_count": 55,
   "id": "90032e27-66df-4540-9169-4e89cfbaa758",
   "metadata": {
    "execution": {
     "iopub.execute_input": "2025-08-05T20:50:50.070095Z",
     "iopub.status.busy": "2025-08-05T20:50:50.069225Z",
     "iopub.status.idle": "2025-08-05T20:50:50.080380Z",
     "shell.execute_reply": "2025-08-05T20:50:50.079466Z"
    },
    "papermill": {
     "duration": 0.033502,
     "end_time": "2025-08-05T20:50:50.082084",
     "exception": false,
     "start_time": "2025-08-05T20:50:50.048582",
     "status": "completed"
    },
    "tags": []
   },
   "outputs": [],
   "source": [
    "subgroups = ['frau1','nongerman','nongerman_male','nongerman_female']\n",
    "\n",
    "# Conditional coverage for subgroup==1\n",
    "cond_coverage = {\n",
    "    g: cp_groups_df.loc[cp_groups_df[g]==1, 'covered'].mean()\n",
    "    for g in subgroups\n",
    "}"
   ]
  },
  {
   "cell_type": "code",
   "execution_count": 56,
   "id": "1e348fb1-b9c3-45bc-ba23-f016827a7e0d",
   "metadata": {
    "execution": {
     "iopub.execute_input": "2025-08-05T20:50:50.124508Z",
     "iopub.status.busy": "2025-08-05T20:50:50.123658Z",
     "iopub.status.idle": "2025-08-05T20:50:50.131463Z",
     "shell.execute_reply": "2025-08-05T20:50:50.130435Z"
    },
    "papermill": {
     "duration": 0.029817,
     "end_time": "2025-08-05T20:50:50.132954",
     "exception": false,
     "start_time": "2025-08-05T20:50:50.103137",
     "status": "completed"
    },
    "tags": []
   },
   "outputs": [
    {
     "data": {
      "text/plain": [
       "{'frau1': 0.9098800377409354,\n",
       " 'nongerman': 0.9094481558412395,\n",
       " 'nongerman_male': 0.9251553634152931,\n",
       " 'nongerman_female': 0.8834575260804769}"
      ]
     },
     "execution_count": 56,
     "metadata": {},
     "output_type": "execute_result"
    }
   ],
   "source": [
    "cond_coverage"
   ]
  },
  {
   "cell_type": "code",
   "execution_count": 57,
   "id": "f5093324-c3dd-4d63-bc4c-8d945e5c8bbb",
   "metadata": {
    "execution": {
     "iopub.execute_input": "2025-08-05T20:50:50.175966Z",
     "iopub.status.busy": "2025-08-05T20:50:50.175242Z",
     "iopub.status.idle": "2025-08-05T20:50:50.183092Z",
     "shell.execute_reply": "2025-08-05T20:50:50.182205Z"
    },
    "papermill": {
     "duration": 0.031059,
     "end_time": "2025-08-05T20:50:50.184645",
     "exception": false,
     "start_time": "2025-08-05T20:50:50.153586",
     "status": "completed"
    },
    "tags": []
   },
   "outputs": [],
   "source": [
    "for subgroup, cov in cond_coverage.items():\n",
    "    cp_metrics_df[f\"cov_{subgroup}\"] = cov"
   ]
  },
  {
   "cell_type": "code",
   "execution_count": 58,
   "id": "6e872e10-dbe5-49e8-b554-5030c98ff75d",
   "metadata": {
    "execution": {
     "iopub.execute_input": "2025-08-05T20:50:50.231485Z",
     "iopub.status.busy": "2025-08-05T20:50:50.230746Z",
     "iopub.status.idle": "2025-08-05T20:50:50.249905Z",
     "shell.execute_reply": "2025-08-05T20:50:50.248835Z"
    },
    "papermill": {
     "duration": 0.045885,
     "end_time": "2025-08-05T20:50:50.251514",
     "exception": false,
     "start_time": "2025-08-05T20:50:50.205629",
     "status": "completed"
    },
    "tags": []
   },
   "outputs": [
    {
     "data": {
      "text/html": [
       "<div>\n",
       "<style scoped>\n",
       "    .dataframe tbody tr th:only-of-type {\n",
       "        vertical-align: middle;\n",
       "    }\n",
       "\n",
       "    .dataframe tbody tr th {\n",
       "        vertical-align: top;\n",
       "    }\n",
       "\n",
       "    .dataframe thead th {\n",
       "        text-align: right;\n",
       "    }\n",
       "</style>\n",
       "<table border=\"1\" class=\"dataframe\">\n",
       "  <thead>\n",
       "    <tr style=\"text-align: right;\">\n",
       "      <th></th>\n",
       "      <th>universe_id</th>\n",
       "      <th>universe_training_year</th>\n",
       "      <th>universe_training_size</th>\n",
       "      <th>universe_scale</th>\n",
       "      <th>universe_model</th>\n",
       "      <th>universe_exclude_features</th>\n",
       "      <th>universe_exclude_subgroups</th>\n",
       "      <th>q_hat</th>\n",
       "      <th>coverage</th>\n",
       "      <th>avg_size</th>\n",
       "      <th>cov_frau1</th>\n",
       "      <th>cov_nongerman</th>\n",
       "      <th>cov_nongerman_male</th>\n",
       "      <th>cov_nongerman_female</th>\n",
       "    </tr>\n",
       "  </thead>\n",
       "  <tbody>\n",
       "    <tr>\n",
       "      <th>0</th>\n",
       "      <td>a439ddea44b6b085ec2927078bde0af6</td>\n",
       "      <td>2012_14</td>\n",
       "      <td>25k</td>\n",
       "      <td>scale</td>\n",
       "      <td>penalized_logreg</td>\n",
       "      <td>sex</td>\n",
       "      <td>drop-non-german</td>\n",
       "      <td>0.662834</td>\n",
       "      <td>0.910891</td>\n",
       "      <td>1.124222</td>\n",
       "      <td>0.90988</td>\n",
       "      <td>0.909448</td>\n",
       "      <td>0.925155</td>\n",
       "      <td>0.883458</td>\n",
       "    </tr>\n",
       "  </tbody>\n",
       "</table>\n",
       "</div>"
      ],
      "text/plain": [
       "                        universe_id universe_training_year  \\\n",
       "0  a439ddea44b6b085ec2927078bde0af6                2012_14   \n",
       "\n",
       "  universe_training_size universe_scale    universe_model  \\\n",
       "0                    25k          scale  penalized_logreg   \n",
       "\n",
       "  universe_exclude_features universe_exclude_subgroups     q_hat  coverage  \\\n",
       "0                       sex            drop-non-german  0.662834  0.910891   \n",
       "\n",
       "   avg_size  cov_frau1  cov_nongerman  cov_nongerman_male  \\\n",
       "0  1.124222    0.90988       0.909448            0.925155   \n",
       "\n",
       "   cov_nongerman_female  \n",
       "0              0.883458  "
      ]
     },
     "execution_count": 58,
     "metadata": {},
     "output_type": "execute_result"
    }
   ],
   "source": [
    "cp_metrics_df"
   ]
  },
  {
   "cell_type": "markdown",
   "id": "33774451",
   "metadata": {
    "papermill": {
     "duration": 0.019989,
     "end_time": "2025-08-05T20:50:50.293403",
     "exception": false,
     "start_time": "2025-08-05T20:50:50.273414",
     "status": "completed"
    },
    "tags": []
   },
   "source": [
    "# (Fairness) Metrics"
   ]
  },
  {
   "cell_type": "code",
   "execution_count": 59,
   "id": "debc5d62",
   "metadata": {
    "execution": {
     "iopub.execute_input": "2025-08-05T20:50:50.335349Z",
     "iopub.status.busy": "2025-08-05T20:50:50.334712Z",
     "iopub.status.idle": "2025-08-05T20:50:50.355579Z",
     "shell.execute_reply": "2025-08-05T20:50:50.354605Z"
    },
    "papermill": {
     "duration": 0.043846,
     "end_time": "2025-08-05T20:50:50.357405",
     "exception": false,
     "start_time": "2025-08-05T20:50:50.313559",
     "status": "completed"
    },
    "tags": []
   },
   "outputs": [],
   "source": [
    "# do I need to include maxdeutsch1.missing?\n",
    "\n",
    "import numpy as np\n",
    "\n",
    "colname_to_bin = \"maxdeutsch1\"\n",
    "majority_value = org_train[colname_to_bin].mode()[0]\n",
    "\n",
    "org_test[\"majmin\"] = np.where(org_test[colname_to_bin] == majority_value, \"majority\", \"minority\")"
   ]
  },
  {
   "cell_type": "code",
   "execution_count": 60,
   "id": "06a50de5",
   "metadata": {
    "execution": {
     "iopub.execute_input": "2025-08-05T20:50:50.401690Z",
     "iopub.status.busy": "2025-08-05T20:50:50.400809Z",
     "iopub.status.idle": "2025-08-05T20:50:53.063005Z",
     "shell.execute_reply": "2025-08-05T20:50:53.062006Z"
    },
    "papermill": {
     "duration": 2.68605,
     "end_time": "2025-08-05T20:50:53.064925",
     "exception": false,
     "start_time": "2025-08-05T20:50:50.378875",
     "status": "completed"
    },
    "tags": []
   },
   "outputs": [],
   "source": [
    "example_universe = universe.copy()\n",
    "example_universe[\"cutoff\"] = example_universe[\"cutoff\"][0]\n",
    "example_universe[\"eval_fairness_grouping\"] = example_universe[\"eval_fairness_grouping\"][0]\n",
    "fairness_dict, metric_frame = universe_analysis.compute_metrics(\n",
    "    example_universe,\n",
    "    y_pred_prob=probs_test,\n",
    "    y_test=y_true,\n",
    "    org_test=org_test,\n",
    ")"
   ]
  },
  {
   "cell_type": "markdown",
   "id": "f95d4e02",
   "metadata": {
    "papermill": {
     "duration": 0.022977,
     "end_time": "2025-08-05T20:50:53.112322",
     "exception": false,
     "start_time": "2025-08-05T20:50:53.089345",
     "status": "completed"
    },
    "tags": []
   },
   "source": [
    "# Overall"
   ]
  },
  {
   "cell_type": "markdown",
   "id": "bdee4871",
   "metadata": {
    "papermill": {
     "duration": 0.023558,
     "end_time": "2025-08-05T20:50:53.159608",
     "exception": false,
     "start_time": "2025-08-05T20:50:53.136050",
     "status": "completed"
    },
    "tags": []
   },
   "source": [
    "Fairness\n",
    "Main fairness target: Equalized Odds. Seems to be a better fit than equal opportunity, since we're not only interested in Y = 1. Seems to be a better fit than demographic parity, since we also care about accuracy, not just equal distribution of preds.\n",
    "\n",
    "Pick column for computation of fairness metrics\n",
    "\n",
    "Performance\n",
    "Overall performance measures, most interesting in relation to the measures split by group below"
   ]
  },
  {
   "cell_type": "code",
   "execution_count": 61,
   "id": "c4e067c6",
   "metadata": {
    "execution": {
     "iopub.execute_input": "2025-08-05T20:50:53.209801Z",
     "iopub.status.busy": "2025-08-05T20:50:53.209244Z",
     "iopub.status.idle": "2025-08-05T20:50:53.218484Z",
     "shell.execute_reply": "2025-08-05T20:50:53.217401Z"
    },
    "papermill": {
     "duration": 0.037645,
     "end_time": "2025-08-05T20:50:53.220241",
     "exception": false,
     "start_time": "2025-08-05T20:50:53.182596",
     "status": "completed"
    },
    "tags": []
   },
   "outputs": [
    {
     "data": {
      "text/plain": [
       "accuracy                   0.225337\n",
       "balanced accuracy          0.550779\n",
       "f1                         0.246642\n",
       "precision                  0.140898\n",
       "false positive rate        0.886972\n",
       "false negative rate        0.011470\n",
       "selection rate             0.900000\n",
       "count                  89710.000000\n",
       "dtype: float64"
      ]
     },
     "execution_count": 61,
     "metadata": {},
     "output_type": "execute_result"
    }
   ],
   "source": [
    "metric_frame.overall"
   ]
  },
  {
   "cell_type": "markdown",
   "id": "e968fe9d",
   "metadata": {
    "papermill": {
     "duration": 0.02385,
     "end_time": "2025-08-05T20:50:53.273961",
     "exception": false,
     "start_time": "2025-08-05T20:50:53.250111",
     "status": "completed"
    },
    "tags": []
   },
   "source": [
    "By Group"
   ]
  },
  {
   "cell_type": "code",
   "execution_count": 62,
   "id": "ec325bce",
   "metadata": {
    "execution": {
     "iopub.execute_input": "2025-08-05T20:50:53.323375Z",
     "iopub.status.busy": "2025-08-05T20:50:53.322299Z",
     "iopub.status.idle": "2025-08-05T20:50:53.340074Z",
     "shell.execute_reply": "2025-08-05T20:50:53.339102Z"
    },
    "papermill": {
     "duration": 0.044918,
     "end_time": "2025-08-05T20:50:53.341995",
     "exception": false,
     "start_time": "2025-08-05T20:50:53.297077",
     "status": "completed"
    },
    "tags": []
   },
   "outputs": [
    {
     "data": {
      "text/html": [
       "<div>\n",
       "<style scoped>\n",
       "    .dataframe tbody tr th:only-of-type {\n",
       "        vertical-align: middle;\n",
       "    }\n",
       "\n",
       "    .dataframe tbody tr th {\n",
       "        vertical-align: top;\n",
       "    }\n",
       "\n",
       "    .dataframe thead th {\n",
       "        text-align: right;\n",
       "    }\n",
       "</style>\n",
       "<table border=\"1\" class=\"dataframe\">\n",
       "  <thead>\n",
       "    <tr style=\"text-align: right;\">\n",
       "      <th></th>\n",
       "      <th>accuracy</th>\n",
       "      <th>balanced accuracy</th>\n",
       "      <th>f1</th>\n",
       "      <th>precision</th>\n",
       "      <th>false positive rate</th>\n",
       "      <th>false negative rate</th>\n",
       "      <th>selection rate</th>\n",
       "      <th>count</th>\n",
       "    </tr>\n",
       "    <tr>\n",
       "      <th>majmin</th>\n",
       "      <th></th>\n",
       "      <th></th>\n",
       "      <th></th>\n",
       "      <th></th>\n",
       "      <th></th>\n",
       "      <th></th>\n",
       "      <th></th>\n",
       "      <th></th>\n",
       "    </tr>\n",
       "  </thead>\n",
       "  <tbody>\n",
       "    <tr>\n",
       "      <th>majority</th>\n",
       "      <td>0.245872</td>\n",
       "      <td>0.560285</td>\n",
       "      <td>0.257117</td>\n",
       "      <td>0.147797</td>\n",
       "      <td>0.867066</td>\n",
       "      <td>0.012363</td>\n",
       "      <td>0.882998</td>\n",
       "      <td>69170.0</td>\n",
       "    </tr>\n",
       "    <tr>\n",
       "      <th>minority</th>\n",
       "      <td>0.156183</td>\n",
       "      <td>0.519623</td>\n",
       "      <td>0.213255</td>\n",
       "      <td>0.119469</td>\n",
       "      <td>0.952729</td>\n",
       "      <td>0.008024</td>\n",
       "      <td>0.957254</td>\n",
       "      <td>20540.0</td>\n",
       "    </tr>\n",
       "  </tbody>\n",
       "</table>\n",
       "</div>"
      ],
      "text/plain": [
       "          accuracy  balanced accuracy        f1  precision  \\\n",
       "majmin                                                       \n",
       "majority  0.245872           0.560285  0.257117   0.147797   \n",
       "minority  0.156183           0.519623  0.213255   0.119469   \n",
       "\n",
       "          false positive rate  false negative rate  selection rate    count  \n",
       "majmin                                                                       \n",
       "majority             0.867066             0.012363        0.882998  69170.0  \n",
       "minority             0.952729             0.008024        0.957254  20540.0  "
      ]
     },
     "execution_count": 62,
     "metadata": {},
     "output_type": "execute_result"
    }
   ],
   "source": [
    "metric_frame.by_group"
   ]
  },
  {
   "cell_type": "code",
   "execution_count": 63,
   "id": "a9ddbe63",
   "metadata": {
    "execution": {
     "iopub.execute_input": "2025-08-05T20:50:53.392200Z",
     "iopub.status.busy": "2025-08-05T20:50:53.391431Z",
     "iopub.status.idle": "2025-08-05T20:50:56.163343Z",
     "shell.execute_reply": "2025-08-05T20:50:56.162322Z"
    },
    "papermill": {
     "duration": 2.798373,
     "end_time": "2025-08-05T20:50:56.165292",
     "exception": false,
     "start_time": "2025-08-05T20:50:53.366919",
     "status": "completed"
    },
    "tags": []
   },
   "outputs": [
    {
     "data": {
      "text/plain": [
       "array([[<Axes: title={'center': 'accuracy'}, xlabel='majmin'>,\n",
       "        <Axes: title={'center': 'balanced accuracy'}, xlabel='majmin'>,\n",
       "        <Axes: title={'center': 'f1'}, xlabel='majmin'>],\n",
       "       [<Axes: title={'center': 'precision'}, xlabel='majmin'>,\n",
       "        <Axes: title={'center': 'false positive rate'}, xlabel='majmin'>,\n",
       "        <Axes: title={'center': 'false negative rate'}, xlabel='majmin'>],\n",
       "       [<Axes: title={'center': 'selection rate'}, xlabel='majmin'>,\n",
       "        <Axes: title={'center': 'count'}, xlabel='majmin'>,\n",
       "        <Axes: xlabel='majmin'>]], dtype=object)"
      ]
     },
     "execution_count": 63,
     "metadata": {},
     "output_type": "execute_result"
    },
    {
     "data": {
      "image/png": "[encoded data removed]",
      "text/plain": [
       "<Figure size 1200x800 with 9 Axes>"
      ]
     },
     "metadata": {},
     "output_type": "display_data"
    }
   ],
   "source": [
    "# In a graphic\n",
    "metric_frame.by_group.plot.bar(\n",
    "    subplots=True,\n",
    "    layout=[3, 3],\n",
    "    legend=False,\n",
    "    figsize=[12, 8],\n",
    "    title=\"Show all metrics\",\n",
    ")"
   ]
  },
  {
   "cell_type": "markdown",
   "id": "f57a0bac",
   "metadata": {
    "papermill": {
     "duration": 0.028405,
     "end_time": "2025-08-05T20:50:56.224625",
     "exception": false,
     "start_time": "2025-08-05T20:50:56.196220",
     "status": "completed"
    },
    "tags": []
   },
   "source": [
    "# Final Output"
   ]
  },
  {
   "cell_type": "code",
   "execution_count": 64,
   "id": "96d280a3",
   "metadata": {
    "execution": {
     "iopub.execute_input": "2025-08-05T20:50:56.282800Z",
     "iopub.status.busy": "2025-08-05T20:50:56.282168Z",
     "iopub.status.idle": "2025-08-05T20:50:56.290540Z",
     "shell.execute_reply": "2025-08-05T20:50:56.289437Z"
    },
    "papermill": {
     "duration": 0.038891,
     "end_time": "2025-08-05T20:50:56.292287",
     "exception": false,
     "start_time": "2025-08-05T20:50:56.253396",
     "status": "completed"
    },
    "tags": []
   },
   "outputs": [
    {
     "data": {
      "text/plain": [
       "4"
      ]
     },
     "execution_count": 64,
     "metadata": {},
     "output_type": "execute_result"
    }
   ],
   "source": [
    "sub_universes = universe_analysis.generate_sub_universes()\n",
    "len(sub_universes)"
   ]
  },
  {
   "cell_type": "code",
   "execution_count": 65,
   "id": "92adf7ba",
   "metadata": {
    "execution": {
     "iopub.execute_input": "2025-08-05T20:50:56.351628Z",
     "iopub.status.busy": "2025-08-05T20:50:56.350700Z",
     "iopub.status.idle": "2025-08-05T20:50:56.357373Z",
     "shell.execute_reply": "2025-08-05T20:50:56.356284Z"
    },
    "papermill": {
     "duration": 0.03793,
     "end_time": "2025-08-05T20:50:56.359296",
     "exception": false,
     "start_time": "2025-08-05T20:50:56.321366",
     "status": "completed"
    },
    "tags": []
   },
   "outputs": [],
   "source": [
    "def filter_sub_universe_data(sub_universe, org_test):\n",
    "    # Keep all rows — no filtering\n",
    "    keep_rows_mask = np.ones(org_test.shape[0], dtype=bool)\n",
    "\n",
    "    print(f\"[INFO] Keeping all rows: {keep_rows_mask.sum()} rows retained.\")\n",
    "    return keep_rows_mask"
   ]
  },
  {
   "cell_type": "code",
   "execution_count": 66,
   "id": "4a759155",
   "metadata": {
    "execution": {
     "iopub.execute_input": "2025-08-05T20:50:56.418666Z",
     "iopub.status.busy": "2025-08-05T20:50:56.417566Z",
     "iopub.status.idle": "2025-08-05T20:51:05.529256Z",
     "shell.execute_reply": "2025-08-05T20:51:05.528286Z"
    },
    "papermill": {
     "duration": 9.142208,
     "end_time": "2025-08-05T20:51:05.530967",
     "exception": false,
     "start_time": "2025-08-05T20:50:56.388759",
     "status": "completed"
    },
    "tags": []
   },
   "outputs": [
    {
     "name": "stdout",
     "output_type": "stream",
     "text": [
      "Stopping execution_time clock.\n",
      "[INFO] Keeping all rows: 89710 rows retained.\n"
     ]
    },
    {
     "name": "stdout",
     "output_type": "stream",
     "text": [
      "[INFO] Keeping all rows: 89710 rows retained.\n"
     ]
    },
    {
     "name": "stdout",
     "output_type": "stream",
     "text": [
      "[INFO] Keeping all rows: 89710 rows retained.\n"
     ]
    },
    {
     "name": "stdout",
     "output_type": "stream",
     "text": [
      "[INFO] Keeping all rows: 89710 rows retained.\n"
     ]
    },
    {
     "data": {
      "text/html": [
       "<div>\n",
       "<style scoped>\n",
       "    .dataframe tbody tr th:only-of-type {\n",
       "        vertical-align: middle;\n",
       "    }\n",
       "\n",
       "    .dataframe tbody tr th {\n",
       "        vertical-align: top;\n",
       "    }\n",
       "\n",
       "    .dataframe thead th {\n",
       "        text-align: right;\n",
       "    }\n",
       "</style>\n",
       "<table border=\"1\" class=\"dataframe\">\n",
       "  <thead>\n",
       "    <tr style=\"text-align: right;\">\n",
       "      <th></th>\n",
       "      <th>run_no</th>\n",
       "      <th>universe_id</th>\n",
       "      <th>universe_settings</th>\n",
       "      <th>execution_time</th>\n",
       "      <th>test_size_n</th>\n",
       "      <th>test_size_frac</th>\n",
       "      <th>fair_main_equalized_odds_difference</th>\n",
       "      <th>fair_main_equalized_odds_ratio</th>\n",
       "      <th>fair_main_demographic_parity_difference</th>\n",
       "      <th>fair_main_demographic_parity_ratio</th>\n",
       "      <th>...</th>\n",
       "      <th>perf_grp_precision_0</th>\n",
       "      <th>perf_grp_precision_1</th>\n",
       "      <th>perf_grp_false positive rate_0</th>\n",
       "      <th>perf_grp_false positive rate_1</th>\n",
       "      <th>perf_grp_false negative rate_0</th>\n",
       "      <th>perf_grp_false negative rate_1</th>\n",
       "      <th>perf_grp_selection rate_0</th>\n",
       "      <th>perf_grp_selection rate_1</th>\n",
       "      <th>perf_grp_count_0</th>\n",
       "      <th>perf_grp_count_1</th>\n",
       "    </tr>\n",
       "  </thead>\n",
       "  <tbody>\n",
       "    <tr>\n",
       "      <th>0</th>\n",
       "      <td>16</td>\n",
       "      <td>a439ddea44b6b085ec2927078bde0af6</td>\n",
       "      <td>{\"cutoff\": \"quantile_0.1\", \"eval_fairness_grou...</td>\n",
       "      <td>25.63541</td>\n",
       "      <td>89710</td>\n",
       "      <td>1.0</td>\n",
       "      <td>0.085663</td>\n",
       "      <td>0.910087</td>\n",
       "      <td>0.074256</td>\n",
       "      <td>0.922428</td>\n",
       "      <td>...</td>\n",
       "      <td>NaN</td>\n",
       "      <td>NaN</td>\n",
       "      <td>NaN</td>\n",
       "      <td>NaN</td>\n",
       "      <td>NaN</td>\n",
       "      <td>NaN</td>\n",
       "      <td>NaN</td>\n",
       "      <td>NaN</td>\n",
       "      <td>NaN</td>\n",
       "      <td>NaN</td>\n",
       "    </tr>\n",
       "    <tr>\n",
       "      <th>0</th>\n",
       "      <td>16</td>\n",
       "      <td>a439ddea44b6b085ec2927078bde0af6</td>\n",
       "      <td>{\"cutoff\": \"quantile_0.1\", \"eval_fairness_grou...</td>\n",
       "      <td>25.63541</td>\n",
       "      <td>89710</td>\n",
       "      <td>1.0</td>\n",
       "      <td>0.085663</td>\n",
       "      <td>0.910087</td>\n",
       "      <td>0.074256</td>\n",
       "      <td>0.922428</td>\n",
       "      <td>...</td>\n",
       "      <td>0.119469</td>\n",
       "      <td>0.147797</td>\n",
       "      <td>0.952729</td>\n",
       "      <td>0.867066</td>\n",
       "      <td>0.008024</td>\n",
       "      <td>0.012363</td>\n",
       "      <td>0.957254</td>\n",
       "      <td>0.882998</td>\n",
       "      <td>20540.0</td>\n",
       "      <td>69170.0</td>\n",
       "    </tr>\n",
       "    <tr>\n",
       "      <th>0</th>\n",
       "      <td>16</td>\n",
       "      <td>a439ddea44b6b085ec2927078bde0af6</td>\n",
       "      <td>{\"cutoff\": \"quantile_0.25\", \"eval_fairness_gro...</td>\n",
       "      <td>25.63541</td>\n",
       "      <td>89710</td>\n",
       "      <td>1.0</td>\n",
       "      <td>0.094529</td>\n",
       "      <td>0.880850</td>\n",
       "      <td>0.076726</td>\n",
       "      <td>0.905178</td>\n",
       "      <td>...</td>\n",
       "      <td>NaN</td>\n",
       "      <td>NaN</td>\n",
       "      <td>NaN</td>\n",
       "      <td>NaN</td>\n",
       "      <td>NaN</td>\n",
       "      <td>NaN</td>\n",
       "      <td>NaN</td>\n",
       "      <td>NaN</td>\n",
       "      <td>NaN</td>\n",
       "      <td>NaN</td>\n",
       "    </tr>\n",
       "    <tr>\n",
       "      <th>0</th>\n",
       "      <td>16</td>\n",
       "      <td>a439ddea44b6b085ec2927078bde0af6</td>\n",
       "      <td>{\"cutoff\": \"quantile_0.25\", \"eval_fairness_gro...</td>\n",
       "      <td>25.63541</td>\n",
       "      <td>89710</td>\n",
       "      <td>1.0</td>\n",
       "      <td>0.094529</td>\n",
       "      <td>0.880850</td>\n",
       "      <td>0.076726</td>\n",
       "      <td>0.905178</td>\n",
       "      <td>...</td>\n",
       "      <td>0.132551</td>\n",
       "      <td>0.171943</td>\n",
       "      <td>0.793363</td>\n",
       "      <td>0.698834</td>\n",
       "      <td>0.069679</td>\n",
       "      <td>0.046937</td>\n",
       "      <td>0.809153</td>\n",
       "      <td>0.732427</td>\n",
       "      <td>20540.0</td>\n",
       "      <td>69170.0</td>\n",
       "    </tr>\n",
       "  </tbody>\n",
       "</table>\n",
       "<p>4 rows × 50 columns</p>\n",
       "</div>"
      ],
      "text/plain": [
       "  run_no                       universe_id  \\\n",
       "0     16  a439ddea44b6b085ec2927078bde0af6   \n",
       "0     16  a439ddea44b6b085ec2927078bde0af6   \n",
       "0     16  a439ddea44b6b085ec2927078bde0af6   \n",
       "0     16  a439ddea44b6b085ec2927078bde0af6   \n",
       "\n",
       "                                   universe_settings  execution_time  \\\n",
       "0  {\"cutoff\": \"quantile_0.1\", \"eval_fairness_grou...        25.63541   \n",
       "0  {\"cutoff\": \"quantile_0.1\", \"eval_fairness_grou...        25.63541   \n",
       "0  {\"cutoff\": \"quantile_0.25\", \"eval_fairness_gro...        25.63541   \n",
       "0  {\"cutoff\": \"quantile_0.25\", \"eval_fairness_gro...        25.63541   \n",
       "\n",
       "   test_size_n  test_size_frac  fair_main_equalized_odds_difference  \\\n",
       "0        89710             1.0                             0.085663   \n",
       "0        89710             1.0                             0.085663   \n",
       "0        89710             1.0                             0.094529   \n",
       "0        89710             1.0                             0.094529   \n",
       "\n",
       "   fair_main_equalized_odds_ratio  fair_main_demographic_parity_difference  \\\n",
       "0                        0.910087                                 0.074256   \n",
       "0                        0.910087                                 0.074256   \n",
       "0                        0.880850                                 0.076726   \n",
       "0                        0.880850                                 0.076726   \n",
       "\n",
       "   fair_main_demographic_parity_ratio  ...  perf_grp_precision_0  \\\n",
       "0                            0.922428  ...                   NaN   \n",
       "0                            0.922428  ...              0.119469   \n",
       "0                            0.905178  ...                   NaN   \n",
       "0                            0.905178  ...              0.132551   \n",
       "\n",
       "   perf_grp_precision_1  perf_grp_false positive rate_0  \\\n",
       "0                   NaN                             NaN   \n",
       "0              0.147797                        0.952729   \n",
       "0                   NaN                             NaN   \n",
       "0              0.171943                        0.793363   \n",
       "\n",
       "   perf_grp_false positive rate_1  perf_grp_false negative rate_0  \\\n",
       "0                             NaN                             NaN   \n",
       "0                        0.867066                        0.008024   \n",
       "0                             NaN                             NaN   \n",
       "0                        0.698834                        0.069679   \n",
       "\n",
       "   perf_grp_false negative rate_1  perf_grp_selection rate_0  \\\n",
       "0                             NaN                        NaN   \n",
       "0                        0.012363                   0.957254   \n",
       "0                             NaN                        NaN   \n",
       "0                        0.046937                   0.809153   \n",
       "\n",
       "   perf_grp_selection rate_1  perf_grp_count_0  perf_grp_count_1  \n",
       "0                        NaN               NaN               NaN  \n",
       "0                   0.882998           20540.0           69170.0  \n",
       "0                        NaN               NaN               NaN  \n",
       "0                   0.732427           20540.0           69170.0  \n",
       "\n",
       "[4 rows x 50 columns]"
      ]
     },
     "execution_count": 66,
     "metadata": {},
     "output_type": "execute_result"
    }
   ],
   "source": [
    "final_output = universe_analysis.generate_final_output(\n",
    "    y_pred_prob=probs_test,\n",
    "    y_test=y_true,\n",
    "    org_test=org_test,\n",
    "    filter_data=filter_sub_universe_data,\n",
    "    cp_metrics_df=cp_metrics_df,\n",
    "    save=True,\n",
    ")\n",
    "final_output"
   ]
  }
 ],
 "metadata": {
  "celltoolbar": "Tags",
  "kernelspec": {
   "display_name": "Python (CMA Fairness)",
   "language": "python",
   "name": "cma_fair_env"
  },
  "language_info": {
   "codemirror_mode": {
    "name": "ipython",
    "version": 3
   },
   "file_extension": ".py",
   "mimetype": "text/x-python",
   "name": "python",
   "nbconvert_exporter": "python",
   "pygments_lexer": "ipython3",
   "version": "3.10.12"
  },
  "papermill": {
   "default_parameters": {},
   "duration": 39.075037,
   "end_time": "2025-08-05T20:51:06.467115",
   "environment_variables": {},
   "exception": null,
   "input_path": "universe_analysis.ipynb",
   "output_path": "output/runs/16/notebooks/m_16-a439ddea44b6b085ec2927078bde0af6.ipynb",
   "parameters": {
    "output_dir": "output",
    "run_no": "16",
    "seed": "2023",
    "universe": "{\"cutoff\": [\"quantile_0.1\", \"quantile_0.25\"], \"eval_fairness_grouping\": [\"majority-minority\", \"nationality-all\"], \"exclude_features\": \"sex\", \"exclude_subgroups\": \"drop-non-german\", \"model\": \"penalized_logreg\", \"scale\": \"scale\", \"training_size\": \"25k\", \"training_year\": \"2012_14\"}",
    "universe_id": "a439ddea44b6b085ec2927078bde0af6"
   },
   "start_time": "2025-08-05T20:50:27.392078",
   "version": "2.6.0"
  }
 },
 "nbformat": 4,
 "nbformat_minor": 5
}