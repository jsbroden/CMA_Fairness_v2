{
 "cells": [
  {
   "cell_type": "code",
   "execution_count": 1,
   "id": "f159f837-637b-42ba-96b5-ec9a68c44524",
   "metadata": {
    "execution": {
     "iopub.execute_input": "2025-08-05T20:55:43.749942Z",
     "iopub.status.busy": "2025-08-05T20:55:43.749094Z",
     "iopub.status.idle": "2025-08-05T20:55:43.759018Z",
     "shell.execute_reply": "2025-08-05T20:55:43.758199Z"
    },
    "papermill": {
     "duration": 0.021446,
     "end_time": "2025-08-05T20:55:43.760497",
     "exception": false,
     "start_time": "2025-08-05T20:55:43.739051",
     "status": "completed"
    },
    "tags": []
   },
   "outputs": [
    {
     "name": "stdout",
     "output_type": "stream",
     "text": [
      "/dss/dsshome1/0C/ra93lal2/cma/CMA_Fairness_v2\n"
     ]
    },
    {
     "name": "stderr",
     "output_type": "stream",
     "text": [
      "/dss/dsshome1/0C/ra93lal2/.local/share/virtualenvs/CMA_Fairness_v2-3j10GkSs/lib/python3.10/site-packages/IPython/core/magics/osm.py:393: UserWarning: This is now an optional IPython functionality, using bookmarks requires you to install the `pickleshare` library.\n",
      "  bkms = self.shell.db.get('bookmarks', {})\n",
      "/dss/dsshome1/0C/ra93lal2/.local/share/virtualenvs/CMA_Fairness_v2-3j10GkSs/lib/python3.10/site-packages/IPython/core/magics/osm.py:417: UserWarning: This is now an optional IPython functionality, setting dhist requires you to install the `pickleshare` library.\n",
      "  self.shell.db['dhist'] = compress_dhist(dhist)[-100:]\n"
     ]
    }
   ],
   "source": [
    "%cd ~/cma/CMA_Fairness_v2"
   ]
  },
  {
   "cell_type": "markdown",
   "id": "de2603b9",
   "metadata": {
    "papermill": {
     "duration": 0.008528,
     "end_time": "2025-08-05T20:55:43.778087",
     "exception": false,
     "start_time": "2025-08-05T20:55:43.769559",
     "status": "completed"
    },
    "tags": []
   },
   "source": [
    "The following cell holds the definition of our parameters, these values can be overriden by rendering the with e.g. the following command:\n",
    "\n",
    "papermill -p alpha 0.2 -p ratio 0.3 universe_analysis.ipynb output/test_run.ipynb"
   ]
  },
  {
   "cell_type": "code",
   "execution_count": 2,
   "id": "a80968a0-40bb-4fa9-85ef-2d5eefb01975",
   "metadata": {
    "execution": {
     "iopub.execute_input": "2025-08-05T20:55:43.795738Z",
     "iopub.status.busy": "2025-08-05T20:55:43.795278Z",
     "iopub.status.idle": "2025-08-05T20:55:43.799996Z",
     "shell.execute_reply": "2025-08-05T20:55:43.799289Z"
    },
    "papermill": {
     "duration": 0.015031,
     "end_time": "2025-08-05T20:55:43.801344",
     "exception": false,
     "start_time": "2025-08-05T20:55:43.786313",
     "status": "completed"
    },
    "tags": []
   },
   "outputs": [
    {
     "name": "stdout",
     "output_type": "stream",
     "text": [
      "Current working directory: /dss/dsshome1/0C/ra93lal2/cma/CMA_Fairness_v2\n"
     ]
    }
   ],
   "source": [
    "import os\n",
    "print(\"Current working directory:\", os.getcwd())"
   ]
  },
  {
   "cell_type": "code",
   "execution_count": 3,
   "id": "2dce4c03",
   "metadata": {
    "execution": {
     "iopub.execute_input": "2025-08-05T20:55:43.820337Z",
     "iopub.status.busy": "2025-08-05T20:55:43.819861Z",
     "iopub.status.idle": "2025-08-05T20:55:43.824559Z",
     "shell.execute_reply": "2025-08-05T20:55:43.823910Z"
    },
    "papermill": {
     "duration": 0.015001,
     "end_time": "2025-08-05T20:55:43.825925",
     "exception": false,
     "start_time": "2025-08-05T20:55:43.810924",
     "status": "completed"
    },
    "tags": [
     "parameters"
    ]
   },
   "outputs": [],
   "source": [
    "run_no = 0\n",
    "universe_id = \"test\"\n",
    "universe = {\n",
    "    \"training_size\": \"25k\", # \"25k\", \"5k\", \"1k\"\n",
    "    \"training_year\": \"2014\", # \"2014\", \"2012_14\", \"2010_14\"\n",
    "    \"scale\": \"scale\", # \"scale\", \"do-not-scale\",\n",
    "    \"model\": \"elasticnet\", # \"logreg\", \"penalized_logreg\", \"rf\", \"gbm\", \"elasticnet\"\n",
    "    \"cutoff\": [\"quantile_0.15\", \"quantile_0.30\"],\n",
    "    \"exclude_features\": \"age\", # \"none\", \"nationality\", \"sex\", \"nationality-sex\", \"age\"\n",
    "    \"exclude_subgroups\": \"keep-all\", # \"keep-all\", \"drop-non-german\"\n",
    "    \"eval_fairness_grouping\": [\"majority-minority\", \"nationality-all\"]\n",
    "}\n",
    "\n",
    "output_dir=\"./output\"\n",
    "seed=0"
   ]
  },
  {
   "cell_type": "code",
   "execution_count": 4,
   "id": "691ff66e",
   "metadata": {
    "execution": {
     "iopub.execute_input": "2025-08-05T20:55:43.844376Z",
     "iopub.status.busy": "2025-08-05T20:55:43.843901Z",
     "iopub.status.idle": "2025-08-05T20:55:43.848009Z",
     "shell.execute_reply": "2025-08-05T20:55:43.847258Z"
    },
    "papermill": {
     "duration": 0.014671,
     "end_time": "2025-08-05T20:55:43.849511",
     "exception": false,
     "start_time": "2025-08-05T20:55:43.834840",
     "status": "completed"
    },
    "tags": [
     "injected-parameters"
    ]
   },
   "outputs": [],
   "source": [
    "# Parameters\n",
    "universe_id = \"a6759c0a0832f92029f7b458055725f4\"\n",
    "run_no = \"16\"\n",
    "universe = \"{\\\"cutoff\\\": [\\\"quantile_0.1\\\", \\\"quantile_0.25\\\"], \\\"eval_fairness_grouping\\\": [\\\"majority-minority\\\", \\\"nationality-all\\\"], \\\"exclude_features\\\": \\\"sex\\\", \\\"exclude_subgroups\\\": \\\"drop-non-german\\\", \\\"model\\\": \\\"elasticnet\\\", \\\"scale\\\": \\\"scale\\\", \\\"training_size\\\": \\\"25k\\\", \\\"training_year\\\": \\\"2012_14\\\"}\"\n",
    "output_dir = \"output\"\n",
    "seed = \"2023\"\n"
   ]
  },
  {
   "cell_type": "code",
   "execution_count": 5,
   "id": "1650acaf",
   "metadata": {
    "execution": {
     "iopub.execute_input": "2025-08-05T20:55:43.868229Z",
     "iopub.status.busy": "2025-08-05T20:55:43.867755Z",
     "iopub.status.idle": "2025-08-05T20:55:43.871577Z",
     "shell.execute_reply": "2025-08-05T20:55:43.870889Z"
    },
    "papermill": {
     "duration": 0.014308,
     "end_time": "2025-08-05T20:55:43.872940",
     "exception": false,
     "start_time": "2025-08-05T20:55:43.858632",
     "status": "completed"
    },
    "tags": []
   },
   "outputs": [],
   "source": [
    "import json\n",
    "if isinstance(universe, str):\n",
    "    universe = json.loads(universe)"
   ]
  },
  {
   "cell_type": "code",
   "execution_count": 6,
   "id": "16620c48",
   "metadata": {
    "execution": {
     "iopub.execute_input": "2025-08-05T20:55:43.891455Z",
     "iopub.status.busy": "2025-08-05T20:55:43.890984Z",
     "iopub.status.idle": "2025-08-05T20:55:43.917891Z",
     "shell.execute_reply": "2025-08-05T20:55:43.917206Z"
    },
    "papermill": {
     "duration": 0.037154,
     "end_time": "2025-08-05T20:55:43.919178",
     "exception": false,
     "start_time": "2025-08-05T20:55:43.882024",
     "status": "completed"
    },
    "tags": []
   },
   "outputs": [],
   "source": [
    "# Auto-reload the custom package\n",
    "%load_ext autoreload\n",
    "%autoreload 1\n",
    "%aimport fairness_multiverse"
   ]
  },
  {
   "cell_type": "code",
   "execution_count": 7,
   "id": "01c5c9f3",
   "metadata": {
    "execution": {
     "iopub.execute_input": "2025-08-05T20:55:43.937704Z",
     "iopub.status.busy": "2025-08-05T20:55:43.937174Z",
     "iopub.status.idle": "2025-08-05T20:55:45.513418Z",
     "shell.execute_reply": "2025-08-05T20:55:45.512067Z"
    },
    "papermill": {
     "duration": 1.587579,
     "end_time": "2025-08-05T20:55:45.515596",
     "exception": false,
     "start_time": "2025-08-05T20:55:43.928017",
     "status": "completed"
    },
    "tags": []
   },
   "outputs": [],
   "source": [
    "from fairness_multiverse.universe import UniverseAnalysis\n",
    "\n",
    "universe_analysis = UniverseAnalysis(\n",
    "    run_no = run_no,\n",
    "    universe_id = universe_id,\n",
    "    universe = universe,\n",
    "    output_dir=output_dir,\n",
    ")"
   ]
  },
  {
   "cell_type": "code",
   "execution_count": 8,
   "id": "106241f5",
   "metadata": {
    "execution": {
     "iopub.execute_input": "2025-08-05T20:55:45.552091Z",
     "iopub.status.busy": "2025-08-05T20:55:45.551599Z",
     "iopub.status.idle": "2025-08-05T20:55:45.559604Z",
     "shell.execute_reply": "2025-08-05T20:55:45.558578Z"
    },
    "papermill": {
     "duration": 0.027615,
     "end_time": "2025-08-05T20:55:45.562632",
     "exception": false,
     "start_time": "2025-08-05T20:55:45.535017",
     "status": "completed"
    },
    "tags": []
   },
   "outputs": [
    {
     "name": "stdout",
     "output_type": "stream",
     "text": [
      "Using Seed: 2023\n"
     ]
    }
   ],
   "source": [
    "import numpy as np\n",
    "parsed_seed = int(seed)\n",
    "np.random.seed(parsed_seed)\n",
    "print(f\"Using Seed: {parsed_seed}\")"
   ]
  },
  {
   "cell_type": "markdown",
   "id": "e0ebdc57",
   "metadata": {
    "papermill": {
     "duration": 0.018329,
     "end_time": "2025-08-05T20:55:45.599950",
     "exception": false,
     "start_time": "2025-08-05T20:55:45.581621",
     "status": "completed"
    },
    "tags": []
   },
   "source": [
    "# Loading Data"
   ]
  },
  {
   "cell_type": "code",
   "execution_count": 9,
   "id": "f0496b8a",
   "metadata": {
    "execution": {
     "iopub.execute_input": "2025-08-05T20:55:45.641415Z",
     "iopub.status.busy": "2025-08-05T20:55:45.640615Z",
     "iopub.status.idle": "2025-08-05T20:55:56.851269Z",
     "shell.execute_reply": "2025-08-05T20:55:56.850102Z"
    },
    "papermill": {
     "duration": 11.233268,
     "end_time": "2025-08-05T20:55:56.852838",
     "exception": false,
     "start_time": "2025-08-05T20:55:45.619570",
     "status": "completed"
    },
    "tags": []
   },
   "outputs": [
    {
     "name": "stdout",
     "output_type": "stream",
     "text": [
      "Loading SIAB data from cache: data/siab_cached.csv.gz\n"
     ]
    },
    {
     "name": "stdout",
     "output_type": "stream",
     "text": [
      "(643690, 164)\n"
     ]
    }
   ],
   "source": [
    "from pathlib import Path\n",
    "import pandas as pd\n",
    "\n",
    "# File paths\n",
    "raw_file = Path(\"data/raw/siab.csv\")\n",
    "cache_file = Path(\"data/siab_cached.csv.gz\")\n",
    "\n",
    "# Ensure cache directory exists\n",
    "cache_file.parent.mkdir(parents=True, exist_ok=True)\n",
    "\n",
    "# Load with simple caching\n",
    "if cache_file.exists():\n",
    "    print(f\"Loading SIAB data from cache: {cache_file}\")\n",
    "    siab = pd.read_csv(cache_file, compression='gzip')\n",
    "else:\n",
    "    print(f\"Cache not found. Reading raw SIAB data: {raw_file}\")\n",
    "    siab = pd.read_csv(raw_file)\n",
    "    siab.to_csv(cache_file, index=False, compression='gzip')\n",
    "    print(f\"Cached SIAB data to: {cache_file}\")\n",
    "\n",
    "print(siab.shape)"
   ]
  },
  {
   "cell_type": "code",
   "execution_count": 10,
   "id": "db0ca512-5f53-4dba-abdb-a2888bca41ba",
   "metadata": {
    "execution": {
     "iopub.execute_input": "2025-08-05T20:55:56.888470Z",
     "iopub.status.busy": "2025-08-05T20:55:56.888006Z",
     "iopub.status.idle": "2025-08-05T20:55:56.893600Z",
     "shell.execute_reply": "2025-08-05T20:55:56.892677Z"
    },
    "papermill": {
     "duration": 0.02363,
     "end_time": "2025-08-05T20:55:56.895228",
     "exception": false,
     "start_time": "2025-08-05T20:55:56.871598",
     "status": "completed"
    },
    "tags": []
   },
   "outputs": [],
   "source": [
    "#siab"
   ]
  },
  {
   "cell_type": "markdown",
   "id": "997051c5-15bd-4b69-9786-c3001a3ce484",
   "metadata": {
    "papermill": {
     "duration": 0.015344,
     "end_time": "2025-08-05T20:55:56.926499",
     "exception": false,
     "start_time": "2025-08-05T20:55:56.911155",
     "status": "completed"
    },
    "tags": []
   },
   "source": [
    "# Splitting Data and Setting Training Data Size"
   ]
  },
  {
   "cell_type": "code",
   "execution_count": 11,
   "id": "aea9c6ef-6f46-42c8-85eb-5a62025c1508",
   "metadata": {
    "execution": {
     "iopub.execute_input": "2025-08-05T20:55:56.959163Z",
     "iopub.status.busy": "2025-08-05T20:55:56.958817Z",
     "iopub.status.idle": "2025-08-05T20:55:57.601582Z",
     "shell.execute_reply": "2025-08-05T20:55:57.600601Z"
    },
    "papermill": {
     "duration": 0.662003,
     "end_time": "2025-08-05T20:55:57.603982",
     "exception": false,
     "start_time": "2025-08-05T20:55:56.941979",
     "status": "completed"
    },
    "tags": []
   },
   "outputs": [],
   "source": [
    "from fairness_multiverse.universe import sample_by_year_size\n",
    "\n",
    "siab_train = sample_by_year_size(siab,\n",
    "                               training_year=universe[\"training_year\"],\n",
    "                               training_size=universe[\"training_size\"])"
   ]
  },
  {
   "cell_type": "code",
   "execution_count": 12,
   "id": "8d3afb32-789d-442c-8d5d-9f5aa8dd2eed",
   "metadata": {
    "execution": {
     "iopub.execute_input": "2025-08-05T20:55:57.653190Z",
     "iopub.status.busy": "2025-08-05T20:55:57.652681Z",
     "iopub.status.idle": "2025-08-05T20:55:57.658849Z",
     "shell.execute_reply": "2025-08-05T20:55:57.657527Z"
    },
    "papermill": {
     "duration": 0.03192,
     "end_time": "2025-08-05T20:55:57.660875",
     "exception": false,
     "start_time": "2025-08-05T20:55:57.628955",
     "status": "completed"
    },
    "tags": []
   },
   "outputs": [],
   "source": [
    "#siab_train.shape"
   ]
  },
  {
   "cell_type": "code",
   "execution_count": 13,
   "id": "d582db68-1a4c-47fb-84fc-08518dc1975a",
   "metadata": {
    "execution": {
     "iopub.execute_input": "2025-08-05T20:55:57.687402Z",
     "iopub.status.busy": "2025-08-05T20:55:57.686983Z",
     "iopub.status.idle": "2025-08-05T20:55:57.690839Z",
     "shell.execute_reply": "2025-08-05T20:55:57.690027Z"
    },
    "papermill": {
     "duration": 0.019616,
     "end_time": "2025-08-05T20:55:57.692089",
     "exception": false,
     "start_time": "2025-08-05T20:55:57.672473",
     "status": "completed"
    },
    "tags": []
   },
   "outputs": [],
   "source": [
    "#display(siab_train.groupby(\"year\").size())"
   ]
  },
  {
   "cell_type": "code",
   "execution_count": 14,
   "id": "a561edb4-d032-42cb-8256-22eac1111c64",
   "metadata": {
    "execution": {
     "iopub.execute_input": "2025-08-05T20:55:57.711733Z",
     "iopub.status.busy": "2025-08-05T20:55:57.711363Z",
     "iopub.status.idle": "2025-08-05T20:55:58.016417Z",
     "shell.execute_reply": "2025-08-05T20:55:58.015298Z"
    },
    "papermill": {
     "duration": 0.317231,
     "end_time": "2025-08-05T20:55:58.018927",
     "exception": false,
     "start_time": "2025-08-05T20:55:57.701696",
     "status": "completed"
    },
    "tags": []
   },
   "outputs": [],
   "source": [
    "#siab_train = siab_s[siab_s.year < 2015]\n",
    "siab_calib = siab[siab.year == 2015]\n",
    "siab_test = siab[siab.year == 2016]"
   ]
  },
  {
   "cell_type": "code",
   "execution_count": 15,
   "id": "472de16f-c3db-4916-846b-1f0de9cf1746",
   "metadata": {
    "execution": {
     "iopub.execute_input": "2025-08-05T20:55:58.057328Z",
     "iopub.status.busy": "2025-08-05T20:55:58.056837Z",
     "iopub.status.idle": "2025-08-05T20:55:58.071730Z",
     "shell.execute_reply": "2025-08-05T20:55:58.070706Z"
    },
    "papermill": {
     "duration": 0.033669,
     "end_time": "2025-08-05T20:55:58.073373",
     "exception": false,
     "start_time": "2025-08-05T20:55:58.039704",
     "status": "completed"
    },
    "tags": []
   },
   "outputs": [],
   "source": [
    "X_train = siab_train.iloc[:,4:164]\n",
    "y_train = siab_train.iloc[:, [3]]"
   ]
  },
  {
   "cell_type": "code",
   "execution_count": 16,
   "id": "828c96af-f43a-4ed6-ba47-8ac73a47d56c",
   "metadata": {
    "execution": {
     "iopub.execute_input": "2025-08-05T20:55:58.110386Z",
     "iopub.status.busy": "2025-08-05T20:55:58.109589Z",
     "iopub.status.idle": "2025-08-05T20:55:58.161373Z",
     "shell.execute_reply": "2025-08-05T20:55:58.160231Z"
    },
    "papermill": {
     "duration": 0.07194,
     "end_time": "2025-08-05T20:55:58.163414",
     "exception": false,
     "start_time": "2025-08-05T20:55:58.091474",
     "status": "completed"
    },
    "tags": []
   },
   "outputs": [],
   "source": [
    "X_calib = siab_calib.iloc[:,4:164]\n",
    "y_calib = siab_calib.iloc[:, [3]]"
   ]
  },
  {
   "cell_type": "code",
   "execution_count": 17,
   "id": "c34be9c3-6bd6-476e-acd3-845840e303be",
   "metadata": {
    "execution": {
     "iopub.execute_input": "2025-08-05T20:55:58.200694Z",
     "iopub.status.busy": "2025-08-05T20:55:58.199867Z",
     "iopub.status.idle": "2025-08-05T20:55:58.252213Z",
     "shell.execute_reply": "2025-08-05T20:55:58.251029Z"
    },
    "papermill": {
     "duration": 0.071675,
     "end_time": "2025-08-05T20:55:58.254429",
     "exception": false,
     "start_time": "2025-08-05T20:55:58.182754",
     "status": "completed"
    },
    "tags": []
   },
   "outputs": [],
   "source": [
    "X_test = siab_test.iloc[:,4:164]\n",
    "y_true = siab_test.iloc[:, [3]]"
   ]
  },
  {
   "cell_type": "code",
   "execution_count": 18,
   "id": "e6c733c5",
   "metadata": {
    "execution": {
     "iopub.execute_input": "2025-08-05T20:55:58.293527Z",
     "iopub.status.busy": "2025-08-05T20:55:58.293010Z",
     "iopub.status.idle": "2025-08-05T20:55:58.390662Z",
     "shell.execute_reply": "2025-08-05T20:55:58.389682Z"
    },
    "papermill": {
     "duration": 0.118184,
     "end_time": "2025-08-05T20:55:58.392620",
     "exception": false,
     "start_time": "2025-08-05T20:55:58.274436",
     "status": "completed"
    },
    "tags": []
   },
   "outputs": [],
   "source": [
    "# Auxiliary data needed downstream in the pipeline\n",
    "\n",
    "org_train = X_train.copy()\n",
    "org_test = X_test.copy()\n",
    "org_calib = X_calib.copy()"
   ]
  },
  {
   "cell_type": "markdown",
   "id": "0a4a1b33",
   "metadata": {
    "papermill": {
     "duration": 0.016493,
     "end_time": "2025-08-05T20:55:58.425814",
     "exception": false,
     "start_time": "2025-08-05T20:55:58.409321",
     "status": "completed"
    },
    "tags": []
   },
   "source": [
    "# Preprocessing Data"
   ]
  },
  {
   "cell_type": "code",
   "execution_count": 19,
   "id": "ca879031",
   "metadata": {
    "execution": {
     "iopub.execute_input": "2025-08-05T20:55:58.460188Z",
     "iopub.status.busy": "2025-08-05T20:55:58.459530Z",
     "iopub.status.idle": "2025-08-05T20:55:58.466015Z",
     "shell.execute_reply": "2025-08-05T20:55:58.465098Z"
    },
    "papermill": {
     "duration": 0.024989,
     "end_time": "2025-08-05T20:55:58.467563",
     "exception": false,
     "start_time": "2025-08-05T20:55:58.442574",
     "status": "completed"
    },
    "tags": []
   },
   "outputs": [],
   "source": [
    "# EXCLUDE PROTECTED FEATURES\n",
    "# ----------------------\n",
    "# \"exclude_features\": \"none\", # \"nationality\", \"sex\", \"nationality-sex\"\n",
    "\n",
    "excluded_features = universe[\"exclude_features\"].split(\"-\") # split, e.g.: \"nationality-sex\" -> [\"nationality\", \"sex\"]\n",
    "excluded_features_dictionary = {\n",
    "    \"nationality\": [\"maxdeutsch1\", \"maxdeutsch.Missing.\"],\n",
    "    \"sex\": [\"frau1\"],\n",
    "    \"age\": [\"age\"],\n",
    "}"
   ]
  },
  {
   "cell_type": "code",
   "execution_count": 20,
   "id": "b745ac60",
   "metadata": {
    "execution": {
     "iopub.execute_input": "2025-08-05T20:55:58.501341Z",
     "iopub.status.busy": "2025-08-05T20:55:58.500616Z",
     "iopub.status.idle": "2025-08-05T20:55:58.506167Z",
     "shell.execute_reply": "2025-08-05T20:55:58.504996Z"
    },
    "papermill": {
     "duration": 0.023789,
     "end_time": "2025-08-05T20:55:58.507920",
     "exception": false,
     "start_time": "2025-08-05T20:55:58.484131",
     "status": "completed"
    },
    "tags": []
   },
   "outputs": [],
   "source": [
    "# Code nice names to column names\n",
    "\n",
    "excluded_features_columns = [\n",
    "    excluded_features_dictionary[f] for f in excluded_features if len(f) > 0 and f != \"none\"\n",
    "]"
   ]
  },
  {
   "cell_type": "code",
   "execution_count": 21,
   "id": "f84f73a2",
   "metadata": {
    "execution": {
     "iopub.execute_input": "2025-08-05T20:55:58.543235Z",
     "iopub.status.busy": "2025-08-05T20:55:58.542513Z",
     "iopub.status.idle": "2025-08-05T20:55:58.547946Z",
     "shell.execute_reply": "2025-08-05T20:55:58.547068Z"
    },
    "papermill": {
     "duration": 0.024355,
     "end_time": "2025-08-05T20:55:58.549667",
     "exception": false,
     "start_time": "2025-08-05T20:55:58.525312",
     "status": "completed"
    },
    "tags": []
   },
   "outputs": [],
   "source": [
    "from utils import flatten_once\n",
    "\n",
    "excluded_features_columns = flatten_once(excluded_features_columns)"
   ]
  },
  {
   "cell_type": "code",
   "execution_count": 22,
   "id": "884dea22",
   "metadata": {
    "execution": {
     "iopub.execute_input": "2025-08-05T20:55:58.584295Z",
     "iopub.status.busy": "2025-08-05T20:55:58.583559Z",
     "iopub.status.idle": "2025-08-05T20:55:58.597714Z",
     "shell.execute_reply": "2025-08-05T20:55:58.596614Z"
    },
    "papermill": {
     "duration": 0.032992,
     "end_time": "2025-08-05T20:55:58.599575",
     "exception": false,
     "start_time": "2025-08-05T20:55:58.566583",
     "status": "completed"
    },
    "tags": []
   },
   "outputs": [
    {
     "name": "stdout",
     "output_type": "stream",
     "text": [
      "Dropping features: ['frau1']\n"
     ]
    }
   ],
   "source": [
    "if len(excluded_features_columns) > 0:\n",
    "    print(f\"Dropping features: {excluded_features_columns}\")\n",
    "    X_train.drop(excluded_features_columns, axis=1, inplace=True)"
   ]
  },
  {
   "cell_type": "code",
   "execution_count": 23,
   "id": "95ab8b16",
   "metadata": {
    "execution": {
     "iopub.execute_input": "2025-08-05T20:55:58.634622Z",
     "iopub.status.busy": "2025-08-05T20:55:58.633941Z",
     "iopub.status.idle": "2025-08-05T20:55:58.688709Z",
     "shell.execute_reply": "2025-08-05T20:55:58.687700Z"
    },
    "papermill": {
     "duration": 0.074102,
     "end_time": "2025-08-05T20:55:58.690898",
     "exception": false,
     "start_time": "2025-08-05T20:55:58.616796",
     "status": "completed"
    },
    "tags": []
   },
   "outputs": [
    {
     "name": "stdout",
     "output_type": "stream",
     "text": [
      "Dropping features: ['frau1']\n"
     ]
    }
   ],
   "source": [
    "if len(excluded_features_columns) > 0:\n",
    "    print(f\"Dropping features: {excluded_features_columns}\")\n",
    "    X_test.drop(excluded_features_columns, axis=1, inplace=True)"
   ]
  },
  {
   "cell_type": "code",
   "execution_count": 24,
   "id": "1853aaf5-fb9f-46cb-a2b5-8ea4ae2237e4",
   "metadata": {
    "execution": {
     "iopub.execute_input": "2025-08-05T20:55:58.735834Z",
     "iopub.status.busy": "2025-08-05T20:55:58.735169Z",
     "iopub.status.idle": "2025-08-05T20:55:58.785644Z",
     "shell.execute_reply": "2025-08-05T20:55:58.784705Z"
    },
    "papermill": {
     "duration": 0.074148,
     "end_time": "2025-08-05T20:55:58.787388",
     "exception": false,
     "start_time": "2025-08-05T20:55:58.713240",
     "status": "completed"
    },
    "tags": []
   },
   "outputs": [
    {
     "name": "stdout",
     "output_type": "stream",
     "text": [
      "Dropping features: ['frau1']\n"
     ]
    }
   ],
   "source": [
    "if len(excluded_features_columns) > 0:\n",
    "    print(f\"Dropping features: {excluded_features_columns}\")\n",
    "    X_calib.drop(excluded_features_columns, axis=1, inplace=True)"
   ]
  },
  {
   "cell_type": "code",
   "execution_count": 25,
   "id": "76c4dc6d",
   "metadata": {
    "execution": {
     "iopub.execute_input": "2025-08-05T20:55:58.830367Z",
     "iopub.status.busy": "2025-08-05T20:55:58.830068Z",
     "iopub.status.idle": "2025-08-05T20:55:58.834966Z",
     "shell.execute_reply": "2025-08-05T20:55:58.833868Z"
    },
    "papermill": {
     "duration": 0.027546,
     "end_time": "2025-08-05T20:55:58.836596",
     "exception": false,
     "start_time": "2025-08-05T20:55:58.809050",
     "status": "completed"
    },
    "tags": []
   },
   "outputs": [],
   "source": [
    "# EXCLUDE CERTAIN SUBGROUPS\n",
    "# ----------------------\n",
    "\n",
    "mode = universe.get(\"exclude_subgroups\", \"keep-all\") \n",
    "# Fetches the exclude_subgroups setting from the universe dict.\n",
    "# Defaults to \"keep-all\" if the key is missing."
   ]
  },
  {
   "cell_type": "code",
   "execution_count": 26,
   "id": "21994072",
   "metadata": {
    "execution": {
     "iopub.execute_input": "2025-08-05T20:55:58.879515Z",
     "iopub.status.busy": "2025-08-05T20:55:58.878696Z",
     "iopub.status.idle": "2025-08-05T20:55:58.885287Z",
     "shell.execute_reply": "2025-08-05T20:55:58.884467Z"
    },
    "papermill": {
     "duration": 0.042863,
     "end_time": "2025-08-05T20:55:58.899889",
     "exception": false,
     "start_time": "2025-08-05T20:55:58.857026",
     "status": "completed"
    },
    "tags": []
   },
   "outputs": [],
   "source": [
    "if mode == \"keep-all\":\n",
    "    keep_mask = pd.Series(True, index=org_train.index)\n",
    "\n",
    "# org_train contains the original feature columns from features_org (in Simson)\n",
    "# features_org contains unprocessed features, for me X_train at beginning ???\n",
    "# For keep-all, creates a boolean Series (keep_mask) of all True, so no rows are removed.\n",
    "\n",
    "elif mode == \"drop-non-german\":\n",
    "    keep_mask = org_train[\"maxdeutsch1\"] == 1 # ??? what about missing values?\n",
    "\n",
    "else:\n",
    "    raise ValueError(f\"Unsupported mode for exclude_subgroups: {mode}\")"
   ]
  },
  {
   "cell_type": "code",
   "execution_count": 27,
   "id": "71651440",
   "metadata": {
    "execution": {
     "iopub.execute_input": "2025-08-05T20:55:58.946938Z",
     "iopub.status.busy": "2025-08-05T20:55:58.945931Z",
     "iopub.status.idle": "2025-08-05T20:55:58.955421Z",
     "shell.execute_reply": "2025-08-05T20:55:58.954349Z"
    },
    "papermill": {
     "duration": 0.029236,
     "end_time": "2025-08-05T20:55:58.957325",
     "exception": false,
     "start_time": "2025-08-05T20:55:58.928089",
     "status": "completed"
    },
    "tags": []
   },
   "outputs": [
    {
     "name": "stdout",
     "output_type": "stream",
     "text": [
      "Dropping 3481 rows (13.92%) where mode='drop-non-german'\n"
     ]
    }
   ],
   "source": [
    "n_drop = (~keep_mask).sum() # Calculates how many rows are set to be dropped\n",
    "if n_drop > 0:\n",
    "    pct = n_drop / len(keep_mask) * 100\n",
    "    print(f\"Dropping {n_drop} rows ({pct:.2f}%) where mode='{mode}'\")"
   ]
  },
  {
   "cell_type": "code",
   "execution_count": 28,
   "id": "5fb8eee5",
   "metadata": {
    "execution": {
     "iopub.execute_input": "2025-08-05T20:55:59.001788Z",
     "iopub.status.busy": "2025-08-05T20:55:59.000995Z",
     "iopub.status.idle": "2025-08-05T20:55:59.014303Z",
     "shell.execute_reply": "2025-08-05T20:55:59.013151Z"
    },
    "papermill": {
     "duration": 0.037406,
     "end_time": "2025-08-05T20:55:59.016459",
     "exception": false,
     "start_time": "2025-08-05T20:55:58.979053",
     "status": "completed"
    },
    "tags": []
   },
   "outputs": [],
   "source": [
    "X_train = X_train[keep_mask]"
   ]
  },
  {
   "cell_type": "code",
   "execution_count": 29,
   "id": "b202bb3a",
   "metadata": {
    "execution": {
     "iopub.execute_input": "2025-08-05T20:55:59.060025Z",
     "iopub.status.busy": "2025-08-05T20:55:59.059435Z",
     "iopub.status.idle": "2025-08-05T20:55:59.065831Z",
     "shell.execute_reply": "2025-08-05T20:55:59.064885Z"
    },
    "papermill": {
     "duration": 0.029487,
     "end_time": "2025-08-05T20:55:59.067607",
     "exception": false,
     "start_time": "2025-08-05T20:55:59.038120",
     "status": "completed"
    },
    "tags": []
   },
   "outputs": [],
   "source": [
    "y_train = y_train[keep_mask]"
   ]
  },
  {
   "cell_type": "markdown",
   "id": "493e2ac3",
   "metadata": {
    "papermill": {
     "duration": 0.020018,
     "end_time": "2025-08-05T20:55:59.108399",
     "exception": false,
     "start_time": "2025-08-05T20:55:59.088381",
     "status": "completed"
    },
    "tags": []
   },
   "source": [
    "# Model Training"
   ]
  },
  {
   "cell_type": "code",
   "execution_count": 30,
   "id": "679e1268",
   "metadata": {
    "execution": {
     "iopub.execute_input": "2025-08-05T20:55:59.150784Z",
     "iopub.status.busy": "2025-08-05T20:55:59.150132Z",
     "iopub.status.idle": "2025-08-05T20:55:59.256802Z",
     "shell.execute_reply": "2025-08-05T20:55:59.255764Z"
    },
    "papermill": {
     "duration": 0.129923,
     "end_time": "2025-08-05T20:55:59.258720",
     "exception": false,
     "start_time": "2025-08-05T20:55:59.128797",
     "status": "completed"
    },
    "tags": []
   },
   "outputs": [],
   "source": [
    "from sklearn.linear_model import LogisticRegression\n",
    "from sklearn.ensemble import GradientBoostingClassifier, RandomForestClassifier\n",
    "\n",
    "if (universe[\"model\"] == \"logreg\"):\n",
    "    model = LogisticRegression() #penalty=\"none\", solver=\"newton-cg\", max_iter=1) # include random_state=19 ?\n",
    "elif (universe[\"model\"] == \"penalized_logreg\"):\n",
    "    model = LogisticRegression(penalty=\"l2\", C=0.1) #, solver=\"newton-cg\", max_iter=1)\n",
    "elif (universe[\"model\"] == \"rf\"):\n",
    "    model = RandomForestClassifier() # n_estimators=100, n_jobs=-1\n",
    "elif (universe[\"model\"] == \"gbm\"):\n",
    "    model = GradientBoostingClassifier()\n",
    "elif (universe[\"model\"] == \"elasticnet\"):\n",
    "    model = LogisticRegression(penalty = 'elasticnet', solver = 'saga', l1_ratio = 0.5) # max_iter=5000\n",
    "else:\n",
    "    raise \"Unsupported universe.model\""
   ]
  },
  {
   "cell_type": "code",
   "execution_count": 31,
   "id": "0cc8f744",
   "metadata": {
    "execution": {
     "iopub.execute_input": "2025-08-05T20:55:59.295104Z",
     "iopub.status.busy": "2025-08-05T20:55:59.294629Z",
     "iopub.status.idle": "2025-08-05T20:55:59.300995Z",
     "shell.execute_reply": "2025-08-05T20:55:59.300118Z"
    },
    "papermill": {
     "duration": 0.026145,
     "end_time": "2025-08-05T20:55:59.302759",
     "exception": false,
     "start_time": "2025-08-05T20:55:59.276614",
     "status": "completed"
    },
    "tags": []
   },
   "outputs": [],
   "source": [
    "import numpy as np\n",
    "from sklearn.pipeline import Pipeline\n",
    "from sklearn.preprocessing import StandardScaler\n",
    "\n",
    "model = Pipeline([\n",
    "    #(\"continuous_processor\", continuous_processor),\n",
    "    #(\"categorical_preprocessor\", categorical_preprocessor),\n",
    "    (\"scale\", StandardScaler() if universe[\"scale\"] == \"scale\" else None), \n",
    "    (\"model\", model),\n",
    "])"
   ]
  },
  {
   "cell_type": "code",
   "execution_count": 32,
   "id": "9442c04d",
   "metadata": {
    "execution": {
     "iopub.execute_input": "2025-08-05T20:55:59.339091Z",
     "iopub.status.busy": "2025-08-05T20:55:59.338760Z",
     "iopub.status.idle": "2025-08-05T20:56:07.625210Z",
     "shell.execute_reply": "2025-08-05T20:56:07.624523Z"
    },
    "papermill": {
     "duration": 8.305909,
     "end_time": "2025-08-05T20:56:07.626533",
     "exception": false,
     "start_time": "2025-08-05T20:55:59.320624",
     "status": "completed"
    },
    "tags": []
   },
   "outputs": [
    {
     "name": "stderr",
     "output_type": "stream",
     "text": [
      "/dss/dsshome1/0C/ra93lal2/.local/share/virtualenvs/CMA_Fairness_v2-3j10GkSs/lib/python3.10/site-packages/sklearn/linear_model/_sag.py:350: ConvergenceWarning: The max_iter was reached which means the coef_ did not converge\n",
      "  warnings.warn(\n"
     ]
    },
    {
     "data": {
      "text/html": [
       "<style>#sk-container-id-1 {color: black;background-color: white;}#sk-container-id-1 pre{padding: 0;}#sk-container-id-1 div.sk-toggleable {background-color: white;}#sk-container-id-1 label.sk-toggleable__label {cursor: pointer;display: block;width: 100%;margin-bottom: 0;padding: 0.3em;box-sizing: border-box;text-align: center;}#sk-container-id-1 label.sk-toggleable__label-arrow:before {content: \"▸\";float: left;margin-right: 0.25em;color: #696969;}#sk-container-id-1 label.sk-toggleable__label-arrow:hover:before {color: black;}#sk-container-id-1 div.sk-estimator:hover label.sk-toggleable__label-arrow:before {color: black;}#sk-container-id-1 div.sk-toggleable__content {max-height: 0;max-width: 0;overflow: hidden;text-align: left;background-color: #f0f8ff;}#sk-container-id-1 div.sk-toggleable__content pre {margin: 0.2em;color: black;border-radius: 0.25em;background-color: #f0f8ff;}#sk-container-id-1 input.sk-toggleable__control:checked~div.sk-toggleable__content {max-height: 200px;max-width: 100%;overflow: auto;}#sk-container-id-1 input.sk-toggleable__control:checked~label.sk-toggleable__label-arrow:before {content: \"▾\";}#sk-container-id-1 div.sk-estimator input.sk-toggleable__control:checked~label.sk-toggleable__label {background-color: #d4ebff;}#sk-container-id-1 div.sk-label input.sk-toggleable__control:checked~label.sk-toggleable__label {background-color: #d4ebff;}#sk-container-id-1 input.sk-hidden--visually {border: 0;clip: rect(1px 1px 1px 1px);clip: rect(1px, 1px, 1px, 1px);height: 1px;margin: -1px;overflow: hidden;padding: 0;position: absolute;width: 1px;}#sk-container-id-1 div.sk-estimator {font-family: monospace;background-color: #f0f8ff;border: 1px dotted black;border-radius: 0.25em;box-sizing: border-box;margin-bottom: 0.5em;}#sk-container-id-1 div.sk-estimator:hover {background-color: #d4ebff;}#sk-container-id-1 div.sk-parallel-item::after {content: \"\";width: 100%;border-bottom: 1px solid gray;flex-grow: 1;}#sk-container-id-1 div.sk-label:hover label.sk-toggleable__label {background-color: #d4ebff;}#sk-container-id-1 div.sk-serial::before {content: \"\";position: absolute;border-left: 1px solid gray;box-sizing: border-box;top: 0;bottom: 0;left: 50%;z-index: 0;}#sk-container-id-1 div.sk-serial {display: flex;flex-direction: column;align-items: center;background-color: white;padding-right: 0.2em;padding-left: 0.2em;position: relative;}#sk-container-id-1 div.sk-item {position: relative;z-index: 1;}#sk-container-id-1 div.sk-parallel {display: flex;align-items: stretch;justify-content: center;background-color: white;position: relative;}#sk-container-id-1 div.sk-item::before, #sk-container-id-1 div.sk-parallel-item::before {content: \"\";position: absolute;border-left: 1px solid gray;box-sizing: border-box;top: 0;bottom: 0;left: 50%;z-index: -1;}#sk-container-id-1 div.sk-parallel-item {display: flex;flex-direction: column;z-index: 1;position: relative;background-color: white;}#sk-container-id-1 div.sk-parallel-item:first-child::after {align-self: flex-end;width: 50%;}#sk-container-id-1 div.sk-parallel-item:last-child::after {align-self: flex-start;width: 50%;}#sk-container-id-1 div.sk-parallel-item:only-child::after {width: 0;}#sk-container-id-1 div.sk-dashed-wrapped {border: 1px dashed gray;margin: 0 0.4em 0.5em 0.4em;box-sizing: border-box;padding-bottom: 0.4em;background-color: white;}#sk-container-id-1 div.sk-label label {font-family: monospace;font-weight: bold;display: inline-block;line-height: 1.2em;}#sk-container-id-1 div.sk-label-container {text-align: center;}#sk-container-id-1 div.sk-container {/* jupyter's `normalize.less` sets `[hidden] { display: none; }` but bootstrap.min.css set `[hidden] { display: none !important; }` so we also need the `!important` here to be able to override the default hidden behavior on the sphinx rendered scikit-learn.org. See: https://github.com/scikit-learn/scikit-learn/issues/21755 */display: inline-block !important;position: relative;}#sk-container-id-1 div.sk-text-repr-fallback {display: none;}</style><div id=\"sk-container-id-1\" class=\"sk-top-container\"><div class=\"sk-text-repr-fallback\"><pre>Pipeline(steps=[(&#x27;scale&#x27;, StandardScaler()),\n",
       "                (&#x27;model&#x27;,\n",
       "                 LogisticRegression(l1_ratio=0.5, penalty=&#x27;elasticnet&#x27;,\n",
       "                                    solver=&#x27;saga&#x27;))])</pre><b>In a Jupyter environment, please rerun this cell to show the HTML representation or trust the notebook. <br />On GitHub, the HTML representation is unable to render, please try loading this page with nbviewer.org.</b></div><div class=\"sk-container\" hidden><div class=\"sk-item sk-dashed-wrapped\"><div class=\"sk-label-container\"><div class=\"sk-label sk-toggleable\"><input class=\"sk-toggleable__control sk-hidden--visually\" id=\"sk-estimator-id-1\" type=\"checkbox\" ><label for=\"sk-estimator-id-1\" class=\"sk-toggleable__label sk-toggleable__label-arrow\">Pipeline</label><div class=\"sk-toggleable__content\"><pre>Pipeline(steps=[(&#x27;scale&#x27;, StandardScaler()),\n",
       "                (&#x27;model&#x27;,\n",
       "                 LogisticRegression(l1_ratio=0.5, penalty=&#x27;elasticnet&#x27;,\n",
       "                                    solver=&#x27;saga&#x27;))])</pre></div></div></div><div class=\"sk-serial\"><div class=\"sk-item\"><div class=\"sk-estimator sk-toggleable\"><input class=\"sk-toggleable__control sk-hidden--visually\" id=\"sk-estimator-id-2\" type=\"checkbox\" ><label for=\"sk-estimator-id-2\" class=\"sk-toggleable__label sk-toggleable__label-arrow\">StandardScaler</label><div class=\"sk-toggleable__content\"><pre>StandardScaler()</pre></div></div></div><div class=\"sk-item\"><div class=\"sk-estimator sk-toggleable\"><input class=\"sk-toggleable__control sk-hidden--visually\" id=\"sk-estimator-id-3\" type=\"checkbox\" ><label for=\"sk-estimator-id-3\" class=\"sk-toggleable__label sk-toggleable__label-arrow\">LogisticRegression</label><div class=\"sk-toggleable__content\"><pre>LogisticRegression(l1_ratio=0.5, penalty=&#x27;elasticnet&#x27;, solver=&#x27;saga&#x27;)</pre></div></div></div></div></div></div></div>"
      ],
      "text/plain": [
       "Pipeline(steps=[('scale', StandardScaler()),\n",
       "                ('model',\n",
       "                 LogisticRegression(l1_ratio=0.5, penalty='elasticnet',\n",
       "                                    solver='saga'))])"
      ]
     },
     "execution_count": 32,
     "metadata": {},
     "output_type": "execute_result"
    }
   ],
   "source": [
    "model.fit(X_train, y_train.values.ravel())"
   ]
  },
  {
   "cell_type": "code",
   "execution_count": 33,
   "id": "af59f8c0",
   "metadata": {
    "execution": {
     "iopub.execute_input": "2025-08-05T20:56:07.650796Z",
     "iopub.status.busy": "2025-08-05T20:56:07.650514Z",
     "iopub.status.idle": "2025-08-05T20:56:07.654748Z",
     "shell.execute_reply": "2025-08-05T20:56:07.654066Z"
    },
    "papermill": {
     "duration": 0.016529,
     "end_time": "2025-08-05T20:56:07.655912",
     "exception": false,
     "start_time": "2025-08-05T20:56:07.639383",
     "status": "completed"
    },
    "tags": []
   },
   "outputs": [],
   "source": [
    "from fairness_multiverse.universe import predict_w_threshold"
   ]
  },
  {
   "cell_type": "code",
   "execution_count": 34,
   "id": "a7cf2e16",
   "metadata": {
    "execution": {
     "iopub.execute_input": "2025-08-05T20:56:07.679067Z",
     "iopub.status.busy": "2025-08-05T20:56:07.678849Z",
     "iopub.status.idle": "2025-08-05T20:56:07.861367Z",
     "shell.execute_reply": "2025-08-05T20:56:07.860356Z"
    },
    "papermill": {
     "duration": 0.195555,
     "end_time": "2025-08-05T20:56:07.863392",
     "exception": false,
     "start_time": "2025-08-05T20:56:07.667837",
     "status": "completed"
    },
    "tags": []
   },
   "outputs": [
    {
     "data": {
      "text/plain": [
       "0.8615093077694794"
      ]
     },
     "execution_count": 34,
     "metadata": {},
     "output_type": "execute_result"
    }
   ],
   "source": [
    "probs_test = model.predict_proba(X_test)\n",
    "\n",
    "'''\n",
    "Below code returns a boolean array (or binary 0/1 array depending on how it’s used) where each element \n",
    "is True if the probability of class 1 is greater than or equal to the threshold, and False otherwise.\n",
    "'''\n",
    "y_pred_default = predict_w_threshold(probs_test, 0.5)\n",
    "\n",
    "from sklearn.metrics import accuracy_score\n",
    "\n",
    "# Naive prediction\n",
    "accuracy_score(y_true = y_true, y_pred = y_pred_default)"
   ]
  },
  {
   "cell_type": "code",
   "execution_count": 35,
   "id": "081964c3",
   "metadata": {
    "execution": {
     "iopub.execute_input": "2025-08-05T20:56:07.896504Z",
     "iopub.status.busy": "2025-08-05T20:56:07.895976Z",
     "iopub.status.idle": "2025-08-05T20:56:08.059771Z",
     "shell.execute_reply": "2025-08-05T20:56:08.058923Z"
    },
    "papermill": {
     "duration": 0.176727,
     "end_time": "2025-08-05T20:56:08.061109",
     "exception": false,
     "start_time": "2025-08-05T20:56:07.884382",
     "status": "completed"
    },
    "tags": []
   },
   "outputs": [
    {
     "data": {
      "text/plain": [
       "array([0, 0, 0, ..., 0, 0, 0])"
      ]
     },
     "execution_count": 35,
     "metadata": {},
     "output_type": "execute_result"
    }
   ],
   "source": [
    "model.predict(X_test)"
   ]
  },
  {
   "cell_type": "markdown",
   "id": "56c9705b",
   "metadata": {
    "papermill": {
     "duration": 0.010051,
     "end_time": "2025-08-05T20:56:08.081831",
     "exception": false,
     "start_time": "2025-08-05T20:56:08.071780",
     "status": "completed"
    },
    "tags": []
   },
   "source": [
    "# Conformal Prediction"
   ]
  },
  {
   "cell_type": "code",
   "execution_count": 36,
   "id": "160ec6ff",
   "metadata": {
    "execution": {
     "iopub.execute_input": "2025-08-05T20:56:08.102835Z",
     "iopub.status.busy": "2025-08-05T20:56:08.102548Z",
     "iopub.status.idle": "2025-08-05T20:56:08.107082Z",
     "shell.execute_reply": "2025-08-05T20:56:08.106122Z"
    },
    "papermill": {
     "duration": 0.016677,
     "end_time": "2025-08-05T20:56:08.108485",
     "exception": false,
     "start_time": "2025-08-05T20:56:08.091808",
     "status": "completed"
    },
    "tags": []
   },
   "outputs": [],
   "source": [
    "# Miscoverage level for conformal prediction (10% allowed error rate => 90% target coverage)\n",
    "alpha = 0.1"
   ]
  },
  {
   "cell_type": "code",
   "execution_count": 37,
   "id": "eadf4555-3dd3-440e-8e35-f82a4ad9f855",
   "metadata": {
    "execution": {
     "iopub.execute_input": "2025-08-05T20:56:08.131202Z",
     "iopub.status.busy": "2025-08-05T20:56:08.130841Z",
     "iopub.status.idle": "2025-08-05T20:56:08.292052Z",
     "shell.execute_reply": "2025-08-05T20:56:08.291298Z"
    },
    "papermill": {
     "duration": 0.173985,
     "end_time": "2025-08-05T20:56:08.293547",
     "exception": false,
     "start_time": "2025-08-05T20:56:08.119562",
     "status": "completed"
    },
    "tags": []
   },
   "outputs": [],
   "source": [
    "probs_calib = model.predict_proba(X_calib)"
   ]
  },
  {
   "cell_type": "code",
   "execution_count": 38,
   "id": "2ed93547-6d5d-4983-9b36-1ecb300da49a",
   "metadata": {
    "execution": {
     "iopub.execute_input": "2025-08-05T20:56:08.315399Z",
     "iopub.status.busy": "2025-08-05T20:56:08.315117Z",
     "iopub.status.idle": "2025-08-05T20:56:08.320007Z",
     "shell.execute_reply": "2025-08-05T20:56:08.319280Z"
    },
    "papermill": {
     "duration": 0.017096,
     "end_time": "2025-08-05T20:56:08.321426",
     "exception": false,
     "start_time": "2025-08-05T20:56:08.304330",
     "status": "completed"
    },
    "tags": []
   },
   "outputs": [],
   "source": [
    "y_calib = y_calib.values.ravel().astype(int)"
   ]
  },
  {
   "cell_type": "code",
   "execution_count": 39,
   "id": "65d1320d-f588-4b38-9072-62af1ae97f7d",
   "metadata": {
    "execution": {
     "iopub.execute_input": "2025-08-05T20:56:08.344017Z",
     "iopub.status.busy": "2025-08-05T20:56:08.343396Z",
     "iopub.status.idle": "2025-08-05T20:56:08.348761Z",
     "shell.execute_reply": "2025-08-05T20:56:08.348095Z"
    },
    "papermill": {
     "duration": 0.018196,
     "end_time": "2025-08-05T20:56:08.350447",
     "exception": false,
     "start_time": "2025-08-05T20:56:08.332251",
     "status": "completed"
    },
    "tags": []
   },
   "outputs": [],
   "source": [
    "from fairness_multiverse.conformal import compute_nc_scores\n",
    "\n",
    "# Compute nonconformity scores on calibration set (1 - probability of true class)\n",
    "nc_scores = compute_nc_scores(probs_calib, y_calib)"
   ]
  },
  {
   "cell_type": "code",
   "execution_count": 40,
   "id": "df3b8ca3-53b7-43d5-9667-7c85da7aeda2",
   "metadata": {
    "execution": {
     "iopub.execute_input": "2025-08-05T20:56:08.372505Z",
     "iopub.status.busy": "2025-08-05T20:56:08.372028Z",
     "iopub.status.idle": "2025-08-05T20:56:08.377269Z",
     "shell.execute_reply": "2025-08-05T20:56:08.376492Z"
    },
    "papermill": {
     "duration": 0.017452,
     "end_time": "2025-08-05T20:56:08.378681",
     "exception": false,
     "start_time": "2025-08-05T20:56:08.361229",
     "status": "completed"
    },
    "tags": []
   },
   "outputs": [],
   "source": [
    "from fairness_multiverse.conformal import find_threshold\n",
    "\n",
    "# Find conformal threshold q_hat for the given alpha (split conformal method)\n",
    "q_hat = find_threshold(nc_scores, alpha)"
   ]
  },
  {
   "cell_type": "code",
   "execution_count": 41,
   "id": "4d29e6c1-0ef6-4aa4-b8fe-4fe79b0d033a",
   "metadata": {
    "execution": {
     "iopub.execute_input": "2025-08-05T20:56:08.402055Z",
     "iopub.status.busy": "2025-08-05T20:56:08.401303Z",
     "iopub.status.idle": "2025-08-05T20:56:08.407063Z",
     "shell.execute_reply": "2025-08-05T20:56:08.406368Z"
    },
    "papermill": {
     "duration": 0.017837,
     "end_time": "2025-08-05T20:56:08.408455",
     "exception": false,
     "start_time": "2025-08-05T20:56:08.390618",
     "status": "completed"
    },
    "tags": []
   },
   "outputs": [
    {
     "data": {
      "text/plain": [
       "0.662272010457177"
      ]
     },
     "execution_count": 41,
     "metadata": {},
     "output_type": "execute_result"
    }
   ],
   "source": [
    "q_hat"
   ]
  },
  {
   "cell_type": "code",
   "execution_count": 42,
   "id": "92460794-cdac-4be2-ba28-f28c0515a6fb",
   "metadata": {
    "execution": {
     "iopub.execute_input": "2025-08-05T20:56:08.430888Z",
     "iopub.status.busy": "2025-08-05T20:56:08.430399Z",
     "iopub.status.idle": "2025-08-05T20:56:09.117619Z",
     "shell.execute_reply": "2025-08-05T20:56:09.113201Z"
    },
    "papermill": {
     "duration": 0.699638,
     "end_time": "2025-08-05T20:56:09.119022",
     "exception": false,
     "start_time": "2025-08-05T20:56:08.419384",
     "status": "completed"
    },
    "tags": []
   },
   "outputs": [],
   "source": [
    "from fairness_multiverse.conformal import predict_conformal_sets\n",
    "\n",
    "# Generate prediction sets for each test example\n",
    "pred_sets = predict_conformal_sets(model, X_test, q_hat)"
   ]
  },
  {
   "cell_type": "code",
   "execution_count": 43,
   "id": "d90c9a65-e6db-4f5d-80cd-e68fb7e46829",
   "metadata": {
    "execution": {
     "iopub.execute_input": "2025-08-05T20:56:09.141617Z",
     "iopub.status.busy": "2025-08-05T20:56:09.141106Z",
     "iopub.status.idle": "2025-08-05T20:56:09.145679Z",
     "shell.execute_reply": "2025-08-05T20:56:09.144913Z"
    },
    "papermill": {
     "duration": 0.016954,
     "end_time": "2025-08-05T20:56:09.147107",
     "exception": false,
     "start_time": "2025-08-05T20:56:09.130153",
     "status": "completed"
    },
    "tags": []
   },
   "outputs": [],
   "source": [
    "y_true = y_true.squeeze()"
   ]
  },
  {
   "cell_type": "code",
   "execution_count": 44,
   "id": "3a58a54a-1e68-46b9-927a-df01f18aebc8",
   "metadata": {
    "execution": {
     "iopub.execute_input": "2025-08-05T20:56:09.172722Z",
     "iopub.status.busy": "2025-08-05T20:56:09.172348Z",
     "iopub.status.idle": "2025-08-05T20:56:09.675092Z",
     "shell.execute_reply": "2025-08-05T20:56:09.674361Z"
    },
    "papermill": {
     "duration": 0.516865,
     "end_time": "2025-08-05T20:56:09.676447",
     "exception": false,
     "start_time": "2025-08-05T20:56:09.159582",
     "status": "completed"
    },
    "tags": []
   },
   "outputs": [],
   "source": [
    "from fairness_multiverse.conformal import evaluate_sets\n",
    "\n",
    "# Evaluate coverage and average set size on test data\n",
    "metrics = evaluate_sets(pred_sets, y_true)"
   ]
  },
  {
   "cell_type": "markdown",
   "id": "2b569c12-9aaa-4c88-98c9-bbcd0cf3ebb8",
   "metadata": {
    "papermill": {
     "duration": 0.010347,
     "end_time": "2025-08-05T20:56:09.698069",
     "exception": false,
     "start_time": "2025-08-05T20:56:09.687722",
     "status": "completed"
    },
    "tags": []
   },
   "source": [
    "# CP Metrics"
   ]
  },
  {
   "cell_type": "code",
   "execution_count": 45,
   "id": "5ce0a5cb-201f-45a0-ade5-94c7f0bd6095",
   "metadata": {
    "execution": {
     "iopub.execute_input": "2025-08-05T20:56:09.719851Z",
     "iopub.status.busy": "2025-08-05T20:56:09.719452Z",
     "iopub.status.idle": "2025-08-05T20:56:09.725793Z",
     "shell.execute_reply": "2025-08-05T20:56:09.724977Z"
    },
    "papermill": {
     "duration": 0.01882,
     "end_time": "2025-08-05T20:56:09.727175",
     "exception": false,
     "start_time": "2025-08-05T20:56:09.708355",
     "status": "completed"
    },
    "tags": []
   },
   "outputs": [
    {
     "data": {
      "text/plain": [
       "{'coverage': 0.9110244119942036, 'avg_size': 1.1243451120276446}"
      ]
     },
     "execution_count": 45,
     "metadata": {},
     "output_type": "execute_result"
    }
   ],
   "source": [
    "metrics"
   ]
  },
  {
   "cell_type": "code",
   "execution_count": 46,
   "id": "9b9a838d-31c9-430b-ae14-12baee460d17",
   "metadata": {
    "execution": {
     "iopub.execute_input": "2025-08-05T20:56:09.749678Z",
     "iopub.status.busy": "2025-08-05T20:56:09.749174Z",
     "iopub.status.idle": "2025-08-05T20:56:09.753941Z",
     "shell.execute_reply": "2025-08-05T20:56:09.753207Z"
    },
    "papermill": {
     "duration": 0.01727,
     "end_time": "2025-08-05T20:56:09.755300",
     "exception": false,
     "start_time": "2025-08-05T20:56:09.738030",
     "status": "completed"
    },
    "tags": []
   },
   "outputs": [],
   "source": [
    "example_universe = universe.copy()\n",
    "universe_training_year = example_universe.get(\"training_year\")\n",
    "universe_training_size = example_universe.get(\"training_size\")\n",
    "universe_scale = example_universe.get(\"scale\")\n",
    "universe_model = example_universe.get(\"model\")\n",
    "universe_exclude_features = example_universe.get(\"exclude_features\")\n",
    "universe_exclude_subgroups = example_universe.get(\"exclude_subgroups\")"
   ]
  },
  {
   "cell_type": "code",
   "execution_count": 47,
   "id": "f4b6a8ac-9dc0-4245-8a91-5b3b5999c4f9",
   "metadata": {
    "execution": {
     "iopub.execute_input": "2025-08-05T20:56:09.778209Z",
     "iopub.status.busy": "2025-08-05T20:56:09.777718Z",
     "iopub.status.idle": "2025-08-05T20:56:09.782557Z",
     "shell.execute_reply": "2025-08-05T20:56:09.781867Z"
    },
    "papermill": {
     "duration": 0.01732,
     "end_time": "2025-08-05T20:56:09.783969",
     "exception": false,
     "start_time": "2025-08-05T20:56:09.766649",
     "status": "completed"
    },
    "tags": []
   },
   "outputs": [],
   "source": [
    "cp_metrics_dict = {\n",
    "    \"universe_id\": [universe_id],\n",
    "    \"universe_training_year\": [universe_training_year],\n",
    "    \"universe_training_size\": [universe_training_size],\n",
    "    \"universe_scale\": [universe_scale],\n",
    "    \"universe_model\": [universe_model],\n",
    "    \"universe_exclude_features\": [universe_exclude_features],\n",
    "    \"universe_exclude_subgroups\": [universe_exclude_subgroups],\n",
    "    \"q_hat\": [q_hat],\n",
    "    \"coverage\": [metrics[\"coverage\"]],\n",
    "    \"avg_size\": [metrics[\"avg_size\"]],\n",
    "}"
   ]
  },
  {
   "cell_type": "code",
   "execution_count": 48,
   "id": "908acbb1-0371-4915-85ca-3fa520d2efe2",
   "metadata": {
    "execution": {
     "iopub.execute_input": "2025-08-05T20:56:09.806967Z",
     "iopub.status.busy": "2025-08-05T20:56:09.806492Z",
     "iopub.status.idle": "2025-08-05T20:56:09.812642Z",
     "shell.execute_reply": "2025-08-05T20:56:09.811923Z"
    },
    "papermill": {
     "duration": 0.019017,
     "end_time": "2025-08-05T20:56:09.814176",
     "exception": false,
     "start_time": "2025-08-05T20:56:09.795159",
     "status": "completed"
    },
    "tags": []
   },
   "outputs": [
    {
     "data": {
      "text/plain": [
       "{'universe_id': ['a6759c0a0832f92029f7b458055725f4'],\n",
       " 'universe_training_year': ['2012_14'],\n",
       " 'universe_training_size': ['25k'],\n",
       " 'universe_scale': ['scale'],\n",
       " 'universe_model': ['elasticnet'],\n",
       " 'universe_exclude_features': ['sex'],\n",
       " 'universe_exclude_subgroups': ['drop-non-german'],\n",
       " 'q_hat': [0.662272010457177],\n",
       " 'coverage': [0.9110244119942036],\n",
       " 'avg_size': [1.1243451120276446]}"
      ]
     },
     "execution_count": 48,
     "metadata": {},
     "output_type": "execute_result"
    }
   ],
   "source": [
    "cp_metrics_dict"
   ]
  },
  {
   "cell_type": "code",
   "execution_count": 49,
   "id": "33007efc-14e9-4ec6-97ac-56a455c82265",
   "metadata": {
    "execution": {
     "iopub.execute_input": "2025-08-05T20:56:09.837078Z",
     "iopub.status.busy": "2025-08-05T20:56:09.836710Z",
     "iopub.status.idle": "2025-08-05T20:56:09.841318Z",
     "shell.execute_reply": "2025-08-05T20:56:09.840373Z"
    },
    "papermill": {
     "duration": 0.01749,
     "end_time": "2025-08-05T20:56:09.842759",
     "exception": false,
     "start_time": "2025-08-05T20:56:09.825269",
     "status": "completed"
    },
    "tags": []
   },
   "outputs": [],
   "source": [
    "cp_metrics_df = pd.DataFrame(cp_metrics_dict)"
   ]
  },
  {
   "cell_type": "code",
   "execution_count": 50,
   "id": "db12611b-57b2-4910-b9d0-355adfd6e7bf",
   "metadata": {
    "execution": {
     "iopub.execute_input": "2025-08-05T20:56:09.865947Z",
     "iopub.status.busy": "2025-08-05T20:56:09.865483Z",
     "iopub.status.idle": "2025-08-05T20:56:09.878868Z",
     "shell.execute_reply": "2025-08-05T20:56:09.878170Z"
    },
    "papermill": {
     "duration": 0.026228,
     "end_time": "2025-08-05T20:56:09.880205",
     "exception": false,
     "start_time": "2025-08-05T20:56:09.853977",
     "status": "completed"
    },
    "tags": []
   },
   "outputs": [
    {
     "data": {
      "text/html": [
       "<div>\n",
       "<style scoped>\n",
       "    .dataframe tbody tr th:only-of-type {\n",
       "        vertical-align: middle;\n",
       "    }\n",
       "\n",
       "    .dataframe tbody tr th {\n",
       "        vertical-align: top;\n",
       "    }\n",
       "\n",
       "    .dataframe thead th {\n",
       "        text-align: right;\n",
       "    }\n",
       "</style>\n",
       "<table border=\"1\" class=\"dataframe\">\n",
       "  <thead>\n",
       "    <tr style=\"text-align: right;\">\n",
       "      <th></th>\n",
       "      <th>universe_id</th>\n",
       "      <th>universe_training_year</th>\n",
       "      <th>universe_training_size</th>\n",
       "      <th>universe_scale</th>\n",
       "      <th>universe_model</th>\n",
       "      <th>universe_exclude_features</th>\n",
       "      <th>universe_exclude_subgroups</th>\n",
       "      <th>q_hat</th>\n",
       "      <th>coverage</th>\n",
       "      <th>avg_size</th>\n",
       "    </tr>\n",
       "  </thead>\n",
       "  <tbody>\n",
       "    <tr>\n",
       "      <th>0</th>\n",
       "      <td>a6759c0a0832f92029f7b458055725f4</td>\n",
       "      <td>2012_14</td>\n",
       "      <td>25k</td>\n",
       "      <td>scale</td>\n",
       "      <td>elasticnet</td>\n",
       "      <td>sex</td>\n",
       "      <td>drop-non-german</td>\n",
       "      <td>0.662272</td>\n",
       "      <td>0.911024</td>\n",
       "      <td>1.124345</td>\n",
       "    </tr>\n",
       "  </tbody>\n",
       "</table>\n",
       "</div>"
      ],
      "text/plain": [
       "                        universe_id universe_training_year  \\\n",
       "0  a6759c0a0832f92029f7b458055725f4                2012_14   \n",
       "\n",
       "  universe_training_size universe_scale universe_model  \\\n",
       "0                    25k          scale     elasticnet   \n",
       "\n",
       "  universe_exclude_features universe_exclude_subgroups     q_hat  coverage  \\\n",
       "0                       sex            drop-non-german  0.662272  0.911024   \n",
       "\n",
       "   avg_size  \n",
       "0  1.124345  "
      ]
     },
     "execution_count": 50,
     "metadata": {},
     "output_type": "execute_result"
    }
   ],
   "source": [
    "cp_metrics_df"
   ]
  },
  {
   "cell_type": "code",
   "execution_count": 51,
   "id": "b7fbde55-a0a1-47e4-9af6-fe4a17fa8c61",
   "metadata": {
    "execution": {
     "iopub.execute_input": "2025-08-05T20:56:09.903037Z",
     "iopub.status.busy": "2025-08-05T20:56:09.902821Z",
     "iopub.status.idle": "2025-08-05T20:56:09.906543Z",
     "shell.execute_reply": "2025-08-05T20:56:09.905781Z"
    },
    "papermill": {
     "duration": 0.016542,
     "end_time": "2025-08-05T20:56:09.907864",
     "exception": false,
     "start_time": "2025-08-05T20:56:09.891322",
     "status": "completed"
    },
    "tags": []
   },
   "outputs": [],
   "source": [
    "# Conditional Coverage & looking at subgroups"
   ]
  },
  {
   "cell_type": "code",
   "execution_count": 52,
   "id": "027ae886-68dd-4141-96c7-805a5450e1ef",
   "metadata": {
    "execution": {
     "iopub.execute_input": "2025-08-05T20:56:09.931673Z",
     "iopub.status.busy": "2025-08-05T20:56:09.931104Z",
     "iopub.status.idle": "2025-08-05T20:56:10.104298Z",
     "shell.execute_reply": "2025-08-05T20:56:10.103542Z"
    },
    "papermill": {
     "duration": 0.186369,
     "end_time": "2025-08-05T20:56:10.105798",
     "exception": false,
     "start_time": "2025-08-05T20:56:09.919429",
     "status": "completed"
    },
    "tags": []
   },
   "outputs": [],
   "source": [
    "from fairness_multiverse.conformal import build_cp_groups\n",
    "\n",
    "cp_groups_df = build_cp_groups(pred_sets, y_true, X_test.index, org_test)\n",
    "#needs universe_id and setting"
   ]
  },
  {
   "cell_type": "code",
   "execution_count": 53,
   "id": "6cbdab96-b2b2-45af-ad54-d0516db2e28d",
   "metadata": {
    "execution": {
     "iopub.execute_input": "2025-08-05T20:56:10.129564Z",
     "iopub.status.busy": "2025-08-05T20:56:10.129252Z",
     "iopub.status.idle": "2025-08-05T20:56:11.019659Z",
     "shell.execute_reply": "2025-08-05T20:56:11.018639Z"
    },
    "papermill": {
     "duration": 0.903841,
     "end_time": "2025-08-05T20:56:11.021499",
     "exception": false,
     "start_time": "2025-08-05T20:56:10.117658",
     "status": "completed"
    },
    "tags": []
   },
   "outputs": [],
   "source": [
    "# Define covered = 1 if true_label is in the predicted set\n",
    "cp_groups_df['covered'] = cp_groups_df.apply(\n",
    "    lambda r: int(r['true_label'] in r['pred_set']),\n",
    "    axis=1\n",
    ")"
   ]
  },
  {
   "cell_type": "code",
   "execution_count": 54,
   "id": "338ff529-1a6b-4b87-a931-8e4788d52aad",
   "metadata": {
    "execution": {
     "iopub.execute_input": "2025-08-05T20:56:11.062834Z",
     "iopub.status.busy": "2025-08-05T20:56:11.062311Z",
     "iopub.status.idle": "2025-08-05T20:56:11.067525Z",
     "shell.execute_reply": "2025-08-05T20:56:11.066512Z"
    },
    "papermill": {
     "duration": 0.029855,
     "end_time": "2025-08-05T20:56:11.071991",
     "exception": false,
     "start_time": "2025-08-05T20:56:11.042136",
     "status": "completed"
    },
    "tags": []
   },
   "outputs": [],
   "source": [
    "#cp_groups_df"
   ]
  },
  {
   "cell_type": "code",
   "execution_count": 55,
   "id": "90032e27-66df-4540-9169-4e89cfbaa758",
   "metadata": {
    "execution": {
     "iopub.execute_input": "2025-08-05T20:56:11.117308Z",
     "iopub.status.busy": "2025-08-05T20:56:11.116373Z",
     "iopub.status.idle": "2025-08-05T20:56:11.127991Z",
     "shell.execute_reply": "2025-08-05T20:56:11.127020Z"
    },
    "papermill": {
     "duration": 0.034369,
     "end_time": "2025-08-05T20:56:11.129817",
     "exception": false,
     "start_time": "2025-08-05T20:56:11.095448",
     "status": "completed"
    },
    "tags": []
   },
   "outputs": [],
   "source": [
    "subgroups = ['frau1','nongerman','nongerman_male','nongerman_female']\n",
    "\n",
    "# Conditional coverage for subgroup==1\n",
    "cond_coverage = {\n",
    "    g: cp_groups_df.loc[cp_groups_df[g]==1, 'covered'].mean()\n",
    "    for g in subgroups\n",
    "}"
   ]
  },
  {
   "cell_type": "code",
   "execution_count": 56,
   "id": "1e348fb1-b9c3-45bc-ba23-f016827a7e0d",
   "metadata": {
    "execution": {
     "iopub.execute_input": "2025-08-05T20:56:11.176012Z",
     "iopub.status.busy": "2025-08-05T20:56:11.175237Z",
     "iopub.status.idle": "2025-08-05T20:56:11.182943Z",
     "shell.execute_reply": "2025-08-05T20:56:11.182012Z"
    },
    "papermill": {
     "duration": 0.030843,
     "end_time": "2025-08-05T20:56:11.184654",
     "exception": false,
     "start_time": "2025-08-05T20:56:11.153811",
     "status": "completed"
    },
    "tags": []
   },
   "outputs": [
    {
     "data": {
      "text/plain": [
       "{'frau1': 0.9099878689850384,\n",
       " 'nongerman': 0.9095604333913434,\n",
       " 'nongerman_male': 0.9253354949112852,\n",
       " 'nongerman_female': 0.8834575260804769}"
      ]
     },
     "execution_count": 56,
     "metadata": {},
     "output_type": "execute_result"
    }
   ],
   "source": [
    "cond_coverage"
   ]
  },
  {
   "cell_type": "code",
   "execution_count": 57,
   "id": "f5093324-c3dd-4d63-bc4c-8d945e5c8bbb",
   "metadata": {
    "execution": {
     "iopub.execute_input": "2025-08-05T20:56:11.225982Z",
     "iopub.status.busy": "2025-08-05T20:56:11.225294Z",
     "iopub.status.idle": "2025-08-05T20:56:11.231346Z",
     "shell.execute_reply": "2025-08-05T20:56:11.230684Z"
    },
    "papermill": {
     "duration": 0.023988,
     "end_time": "2025-08-05T20:56:11.232780",
     "exception": false,
     "start_time": "2025-08-05T20:56:11.208792",
     "status": "completed"
    },
    "tags": []
   },
   "outputs": [],
   "source": [
    "for subgroup, cov in cond_coverage.items():\n",
    "    cp_metrics_df[f\"cov_{subgroup}\"] = cov"
   ]
  },
  {
   "cell_type": "code",
   "execution_count": 58,
   "id": "6e872e10-dbe5-49e8-b554-5030c98ff75d",
   "metadata": {
    "execution": {
     "iopub.execute_input": "2025-08-05T20:56:11.258737Z",
     "iopub.status.busy": "2025-08-05T20:56:11.258242Z",
     "iopub.status.idle": "2025-08-05T20:56:11.274228Z",
     "shell.execute_reply": "2025-08-05T20:56:11.273440Z"
    },
    "papermill": {
     "duration": 0.029778,
     "end_time": "2025-08-05T20:56:11.275537",
     "exception": false,
     "start_time": "2025-08-05T20:56:11.245759",
     "status": "completed"
    },
    "tags": []
   },
   "outputs": [
    {
     "data": {
      "text/html": [
       "<div>\n",
       "<style scoped>\n",
       "    .dataframe tbody tr th:only-of-type {\n",
       "        vertical-align: middle;\n",
       "    }\n",
       "\n",
       "    .dataframe tbody tr th {\n",
       "        vertical-align: top;\n",
       "    }\n",
       "\n",
       "    .dataframe thead th {\n",
       "        text-align: right;\n",
       "    }\n",
       "</style>\n",
       "<table border=\"1\" class=\"dataframe\">\n",
       "  <thead>\n",
       "    <tr style=\"text-align: right;\">\n",
       "      <th></th>\n",
       "      <th>universe_id</th>\n",
       "      <th>universe_training_year</th>\n",
       "      <th>universe_training_size</th>\n",
       "      <th>universe_scale</th>\n",
       "      <th>universe_model</th>\n",
       "      <th>universe_exclude_features</th>\n",
       "      <th>universe_exclude_subgroups</th>\n",
       "      <th>q_hat</th>\n",
       "      <th>coverage</th>\n",
       "      <th>avg_size</th>\n",
       "      <th>cov_frau1</th>\n",
       "      <th>cov_nongerman</th>\n",
       "      <th>cov_nongerman_male</th>\n",
       "      <th>cov_nongerman_female</th>\n",
       "    </tr>\n",
       "  </thead>\n",
       "  <tbody>\n",
       "    <tr>\n",
       "      <th>0</th>\n",
       "      <td>a6759c0a0832f92029f7b458055725f4</td>\n",
       "      <td>2012_14</td>\n",
       "      <td>25k</td>\n",
       "      <td>scale</td>\n",
       "      <td>elasticnet</td>\n",
       "      <td>sex</td>\n",
       "      <td>drop-non-german</td>\n",
       "      <td>0.662272</td>\n",
       "      <td>0.911024</td>\n",
       "      <td>1.124345</td>\n",
       "      <td>0.909988</td>\n",
       "      <td>0.90956</td>\n",
       "      <td>0.925335</td>\n",
       "      <td>0.883458</td>\n",
       "    </tr>\n",
       "  </tbody>\n",
       "</table>\n",
       "</div>"
      ],
      "text/plain": [
       "                        universe_id universe_training_year  \\\n",
       "0  a6759c0a0832f92029f7b458055725f4                2012_14   \n",
       "\n",
       "  universe_training_size universe_scale universe_model  \\\n",
       "0                    25k          scale     elasticnet   \n",
       "\n",
       "  universe_exclude_features universe_exclude_subgroups     q_hat  coverage  \\\n",
       "0                       sex            drop-non-german  0.662272  0.911024   \n",
       "\n",
       "   avg_size  cov_frau1  cov_nongerman  cov_nongerman_male  \\\n",
       "0  1.124345   0.909988        0.90956            0.925335   \n",
       "\n",
       "   cov_nongerman_female  \n",
       "0              0.883458  "
      ]
     },
     "execution_count": 58,
     "metadata": {},
     "output_type": "execute_result"
    }
   ],
   "source": [
    "cp_metrics_df"
   ]
  },
  {
   "cell_type": "markdown",
   "id": "33774451",
   "metadata": {
    "papermill": {
     "duration": 0.01259,
     "end_time": "2025-08-05T20:56:11.303869",
     "exception": false,
     "start_time": "2025-08-05T20:56:11.291279",
     "status": "completed"
    },
    "tags": []
   },
   "source": [
    "# (Fairness) Metrics"
   ]
  },
  {
   "cell_type": "code",
   "execution_count": 59,
   "id": "debc5d62",
   "metadata": {
    "execution": {
     "iopub.execute_input": "2025-08-05T20:56:11.328610Z",
     "iopub.status.busy": "2025-08-05T20:56:11.327912Z",
     "iopub.status.idle": "2025-08-05T20:56:11.348649Z",
     "shell.execute_reply": "2025-08-05T20:56:11.347831Z"
    },
    "papermill": {
     "duration": 0.034529,
     "end_time": "2025-08-05T20:56:11.350068",
     "exception": false,
     "start_time": "2025-08-05T20:56:11.315539",
     "status": "completed"
    },
    "tags": []
   },
   "outputs": [],
   "source": [
    "# do I need to include maxdeutsch1.missing?\n",
    "\n",
    "import numpy as np\n",
    "\n",
    "colname_to_bin = \"maxdeutsch1\"\n",
    "majority_value = org_train[colname_to_bin].mode()[0]\n",
    "\n",
    "org_test[\"majmin\"] = np.where(org_test[colname_to_bin] == majority_value, \"majority\", \"minority\")"
   ]
  },
  {
   "cell_type": "code",
   "execution_count": 60,
   "id": "06a50de5",
   "metadata": {
    "execution": {
     "iopub.execute_input": "2025-08-05T20:56:11.393421Z",
     "iopub.status.busy": "2025-08-05T20:56:11.392784Z",
     "iopub.status.idle": "2025-08-05T20:56:13.069388Z",
     "shell.execute_reply": "2025-08-05T20:56:13.068424Z"
    },
    "papermill": {
     "duration": 1.700138,
     "end_time": "2025-08-05T20:56:13.071251",
     "exception": false,
     "start_time": "2025-08-05T20:56:11.371113",
     "status": "completed"
    },
    "tags": []
   },
   "outputs": [],
   "source": [
    "example_universe = universe.copy()\n",
    "example_universe[\"cutoff\"] = example_universe[\"cutoff\"][0]\n",
    "example_universe[\"eval_fairness_grouping\"] = example_universe[\"eval_fairness_grouping\"][0]\n",
    "fairness_dict, metric_frame = universe_analysis.compute_metrics(\n",
    "    example_universe,\n",
    "    y_pred_prob=probs_test,\n",
    "    y_test=y_true,\n",
    "    org_test=org_test,\n",
    ")"
   ]
  },
  {
   "cell_type": "markdown",
   "id": "f95d4e02",
   "metadata": {
    "papermill": {
     "duration": 0.02148,
     "end_time": "2025-08-05T20:56:13.115253",
     "exception": false,
     "start_time": "2025-08-05T20:56:13.093773",
     "status": "completed"
    },
    "tags": []
   },
   "source": [
    "# Overall"
   ]
  },
  {
   "cell_type": "markdown",
   "id": "bdee4871",
   "metadata": {
    "papermill": {
     "duration": 0.022841,
     "end_time": "2025-08-05T20:56:13.161184",
     "exception": false,
     "start_time": "2025-08-05T20:56:13.138343",
     "status": "completed"
    },
    "tags": []
   },
   "source": [
    "Fairness\n",
    "Main fairness target: Equalized Odds. Seems to be a better fit than equal opportunity, since we're not only interested in Y = 1. Seems to be a better fit than demographic parity, since we also care about accuracy, not just equal distribution of preds.\n",
    "\n",
    "Pick column for computation of fairness metrics\n",
    "\n",
    "Performance\n",
    "Overall performance measures, most interesting in relation to the measures split by group below"
   ]
  },
  {
   "cell_type": "code",
   "execution_count": 61,
   "id": "c4e067c6",
   "metadata": {
    "execution": {
     "iopub.execute_input": "2025-08-05T20:56:13.208865Z",
     "iopub.status.busy": "2025-08-05T20:56:13.208420Z",
     "iopub.status.idle": "2025-08-05T20:56:13.216719Z",
     "shell.execute_reply": "2025-08-05T20:56:13.215977Z"
    },
    "papermill": {
     "duration": 0.03392,
     "end_time": "2025-08-05T20:56:13.218245",
     "exception": false,
     "start_time": "2025-08-05T20:56:13.184325",
     "status": "completed"
    },
    "tags": []
   },
   "outputs": [
    {
     "data": {
      "text/plain": [
       "accuracy                   0.225382\n",
       "balanced accuracy          0.550878\n",
       "f1                         0.246686\n",
       "precision                  0.140923\n",
       "false positive rate        0.886947\n",
       "false negative rate        0.011296\n",
       "selection rate             0.900000\n",
       "count                  89710.000000\n",
       "dtype: float64"
      ]
     },
     "execution_count": 61,
     "metadata": {},
     "output_type": "execute_result"
    }
   ],
   "source": [
    "metric_frame.overall"
   ]
  },
  {
   "cell_type": "markdown",
   "id": "e968fe9d",
   "metadata": {
    "papermill": {
     "duration": 0.011846,
     "end_time": "2025-08-05T20:56:13.242798",
     "exception": false,
     "start_time": "2025-08-05T20:56:13.230952",
     "status": "completed"
    },
    "tags": []
   },
   "source": [
    "By Group"
   ]
  },
  {
   "cell_type": "code",
   "execution_count": 62,
   "id": "ec325bce",
   "metadata": {
    "execution": {
     "iopub.execute_input": "2025-08-05T20:56:13.266967Z",
     "iopub.status.busy": "2025-08-05T20:56:13.266451Z",
     "iopub.status.idle": "2025-08-05T20:56:13.278900Z",
     "shell.execute_reply": "2025-08-05T20:56:13.278146Z"
    },
    "papermill": {
     "duration": 0.026167,
     "end_time": "2025-08-05T20:56:13.280299",
     "exception": false,
     "start_time": "2025-08-05T20:56:13.254132",
     "status": "completed"
    },
    "tags": []
   },
   "outputs": [
    {
     "data": {
      "text/html": [
       "<div>\n",
       "<style scoped>\n",
       "    .dataframe tbody tr th:only-of-type {\n",
       "        vertical-align: middle;\n",
       "    }\n",
       "\n",
       "    .dataframe tbody tr th {\n",
       "        vertical-align: top;\n",
       "    }\n",
       "\n",
       "    .dataframe thead th {\n",
       "        text-align: right;\n",
       "    }\n",
       "</style>\n",
       "<table border=\"1\" class=\"dataframe\">\n",
       "  <thead>\n",
       "    <tr style=\"text-align: right;\">\n",
       "      <th></th>\n",
       "      <th>accuracy</th>\n",
       "      <th>balanced accuracy</th>\n",
       "      <th>f1</th>\n",
       "      <th>precision</th>\n",
       "      <th>false positive rate</th>\n",
       "      <th>false negative rate</th>\n",
       "      <th>selection rate</th>\n",
       "      <th>count</th>\n",
       "    </tr>\n",
       "    <tr>\n",
       "      <th>majmin</th>\n",
       "      <th></th>\n",
       "      <th></th>\n",
       "      <th></th>\n",
       "      <th></th>\n",
       "      <th></th>\n",
       "      <th></th>\n",
       "      <th></th>\n",
       "      <th></th>\n",
       "    </tr>\n",
       "  </thead>\n",
       "  <tbody>\n",
       "    <tr>\n",
       "      <th>majority</th>\n",
       "      <td>0.246133</td>\n",
       "      <td>0.560528</td>\n",
       "      <td>0.257225</td>\n",
       "      <td>0.147864</td>\n",
       "      <td>0.8668</td>\n",
       "      <td>0.012144</td>\n",
       "      <td>0.882796</td>\n",
       "      <td>69170.0</td>\n",
       "    </tr>\n",
       "    <tr>\n",
       "      <th>minority</th>\n",
       "      <td>0.155501</td>\n",
       "      <td>0.519238</td>\n",
       "      <td>0.213119</td>\n",
       "      <td>0.119384</td>\n",
       "      <td>0.9535</td>\n",
       "      <td>0.008024</td>\n",
       "      <td>0.957936</td>\n",
       "      <td>20540.0</td>\n",
       "    </tr>\n",
       "  </tbody>\n",
       "</table>\n",
       "</div>"
      ],
      "text/plain": [
       "          accuracy  balanced accuracy        f1  precision  \\\n",
       "majmin                                                       \n",
       "majority  0.246133           0.560528  0.257225   0.147864   \n",
       "minority  0.155501           0.519238  0.213119   0.119384   \n",
       "\n",
       "          false positive rate  false negative rate  selection rate    count  \n",
       "majmin                                                                       \n",
       "majority               0.8668             0.012144        0.882796  69170.0  \n",
       "minority               0.9535             0.008024        0.957936  20540.0  "
      ]
     },
     "execution_count": 62,
     "metadata": {},
     "output_type": "execute_result"
    }
   ],
   "source": [
    "metric_frame.by_group"
   ]
  },
  {
   "cell_type": "code",
   "execution_count": 63,
   "id": "a9ddbe63",
   "metadata": {
    "execution": {
     "iopub.execute_input": "2025-08-05T20:56:13.305318Z",
     "iopub.status.busy": "2025-08-05T20:56:13.304837Z",
     "iopub.status.idle": "2025-08-05T20:56:15.686338Z",
     "shell.execute_reply": "2025-08-05T20:56:15.684854Z"
    },
    "papermill": {
     "duration": 2.395871,
     "end_time": "2025-08-05T20:56:15.688538",
     "exception": false,
     "start_time": "2025-08-05T20:56:13.292667",
     "status": "completed"
    },
    "tags": []
   },
   "outputs": [
    {
     "data": {
      "text/plain": [
       "array([[<Axes: title={'center': 'accuracy'}, xlabel='majmin'>,\n",
       "        <Axes: title={'center': 'balanced accuracy'}, xlabel='majmin'>,\n",
       "        <Axes: title={'center': 'f1'}, xlabel='majmin'>],\n",
       "       [<Axes: title={'center': 'precision'}, xlabel='majmin'>,\n",
       "        <Axes: title={'center': 'false positive rate'}, xlabel='majmin'>,\n",
       "        <Axes: title={'center': 'false negative rate'}, xlabel='majmin'>],\n",
       "       [<Axes: title={'center': 'selection rate'}, xlabel='majmin'>,\n",
       "        <Axes: title={'center': 'count'}, xlabel='majmin'>,\n",
       "        <Axes: xlabel='majmin'>]], dtype=object)"
      ]
     },
     "execution_count": 63,
     "metadata": {},
     "output_type": "execute_result"
    },
    {
     "data": {
      "image/png": "[encoded data removed]",
      "text/plain": [
       "<Figure size 1200x800 with 9 Axes>"
      ]
     },
     "metadata": {},
     "output_type": "display_data"
    }
   ],
   "source": [
    "# In a graphic\n",
    "metric_frame.by_group.plot.bar(\n",
    "    subplots=True,\n",
    "    layout=[3, 3],\n",
    "    legend=False,\n",
    "    figsize=[12, 8],\n",
    "    title=\"Show all metrics\",\n",
    ")"
   ]
  },
  {
   "cell_type": "markdown",
   "id": "f57a0bac",
   "metadata": {
    "papermill": {
     "duration": 0.02495,
     "end_time": "2025-08-05T20:56:15.739263",
     "exception": false,
     "start_time": "2025-08-05T20:56:15.714313",
     "status": "completed"
    },
    "tags": []
   },
   "source": [
    "# Final Output"
   ]
  },
  {
   "cell_type": "code",
   "execution_count": 64,
   "id": "96d280a3",
   "metadata": {
    "execution": {
     "iopub.execute_input": "2025-08-05T20:56:15.791852Z",
     "iopub.status.busy": "2025-08-05T20:56:15.790946Z",
     "iopub.status.idle": "2025-08-05T20:56:15.799424Z",
     "shell.execute_reply": "2025-08-05T20:56:15.798408Z"
    },
    "papermill": {
     "duration": 0.035749,
     "end_time": "2025-08-05T20:56:15.801065",
     "exception": false,
     "start_time": "2025-08-05T20:56:15.765316",
     "status": "completed"
    },
    "tags": []
   },
   "outputs": [
    {
     "data": {
      "text/plain": [
       "4"
      ]
     },
     "execution_count": 64,
     "metadata": {},
     "output_type": "execute_result"
    }
   ],
   "source": [
    "sub_universes = universe_analysis.generate_sub_universes()\n",
    "len(sub_universes)"
   ]
  },
  {
   "cell_type": "code",
   "execution_count": 65,
   "id": "92adf7ba",
   "metadata": {
    "execution": {
     "iopub.execute_input": "2025-08-05T20:56:15.853591Z",
     "iopub.status.busy": "2025-08-05T20:56:15.852660Z",
     "iopub.status.idle": "2025-08-05T20:56:15.859070Z",
     "shell.execute_reply": "2025-08-05T20:56:15.858075Z"
    },
    "papermill": {
     "duration": 0.03439,
     "end_time": "2025-08-05T20:56:15.860945",
     "exception": false,
     "start_time": "2025-08-05T20:56:15.826555",
     "status": "completed"
    },
    "tags": []
   },
   "outputs": [],
   "source": [
    "def filter_sub_universe_data(sub_universe, org_test):\n",
    "    # Keep all rows — no filtering\n",
    "    keep_rows_mask = np.ones(org_test.shape[0], dtype=bool)\n",
    "\n",
    "    print(f\"[INFO] Keeping all rows: {keep_rows_mask.sum()} rows retained.\")\n",
    "    return keep_rows_mask"
   ]
  },
  {
   "cell_type": "code",
   "execution_count": 66,
   "id": "4a759155",
   "metadata": {
    "execution": {
     "iopub.execute_input": "2025-08-05T20:56:15.923404Z",
     "iopub.status.busy": "2025-08-05T20:56:15.922508Z",
     "iopub.status.idle": "2025-08-05T20:56:25.647178Z",
     "shell.execute_reply": "2025-08-05T20:56:25.645800Z"
    },
    "papermill": {
     "duration": 9.758591,
     "end_time": "2025-08-05T20:56:25.649713",
     "exception": false,
     "start_time": "2025-08-05T20:56:15.891122",
     "status": "completed"
    },
    "tags": []
   },
   "outputs": [
    {
     "name": "stdout",
     "output_type": "stream",
     "text": [
      "Stopping execution_time clock.\n",
      "[INFO] Keeping all rows: 89710 rows retained.\n"
     ]
    },
    {
     "name": "stdout",
     "output_type": "stream",
     "text": [
      "[INFO] Keeping all rows: 89710 rows retained.\n"
     ]
    },
    {
     "name": "stdout",
     "output_type": "stream",
     "text": [
      "[INFO] Keeping all rows: 89710 rows retained.\n"
     ]
    },
    {
     "name": "stdout",
     "output_type": "stream",
     "text": [
      "[INFO] Keeping all rows: 89710 rows retained.\n"
     ]
    },
    {
     "data": {
      "text/html": [
       "<div>\n",
       "<style scoped>\n",
       "    .dataframe tbody tr th:only-of-type {\n",
       "        vertical-align: middle;\n",
       "    }\n",
       "\n",
       "    .dataframe tbody tr th {\n",
       "        vertical-align: top;\n",
       "    }\n",
       "\n",
       "    .dataframe thead th {\n",
       "        text-align: right;\n",
       "    }\n",
       "</style>\n",
       "<table border=\"1\" class=\"dataframe\">\n",
       "  <thead>\n",
       "    <tr style=\"text-align: right;\">\n",
       "      <th></th>\n",
       "      <th>run_no</th>\n",
       "      <th>universe_id</th>\n",
       "      <th>universe_settings</th>\n",
       "      <th>execution_time</th>\n",
       "      <th>test_size_n</th>\n",
       "      <th>test_size_frac</th>\n",
       "      <th>fair_main_equalized_odds_difference</th>\n",
       "      <th>fair_main_equalized_odds_ratio</th>\n",
       "      <th>fair_main_demographic_parity_difference</th>\n",
       "      <th>fair_main_demographic_parity_ratio</th>\n",
       "      <th>...</th>\n",
       "      <th>perf_grp_precision_0</th>\n",
       "      <th>perf_grp_precision_1</th>\n",
       "      <th>perf_grp_false positive rate_0</th>\n",
       "      <th>perf_grp_false positive rate_1</th>\n",
       "      <th>perf_grp_false negative rate_0</th>\n",
       "      <th>perf_grp_false negative rate_1</th>\n",
       "      <th>perf_grp_selection rate_0</th>\n",
       "      <th>perf_grp_selection rate_1</th>\n",
       "      <th>perf_grp_count_0</th>\n",
       "      <th>perf_grp_count_1</th>\n",
       "    </tr>\n",
       "  </thead>\n",
       "  <tbody>\n",
       "    <tr>\n",
       "      <th>0</th>\n",
       "      <td>16</td>\n",
       "      <td>a6759c0a0832f92029f7b458055725f4</td>\n",
       "      <td>{\"cutoff\": \"quantile_0.1\", \"eval_fairness_grou...</td>\n",
       "      <td>30.478948</td>\n",
       "      <td>89710</td>\n",
       "      <td>1.0</td>\n",
       "      <td>0.086700</td>\n",
       "      <td>0.909072</td>\n",
       "      <td>0.075140</td>\n",
       "      <td>0.921561</td>\n",
       "      <td>...</td>\n",
       "      <td>NaN</td>\n",
       "      <td>NaN</td>\n",
       "      <td>NaN</td>\n",
       "      <td>NaN</td>\n",
       "      <td>NaN</td>\n",
       "      <td>NaN</td>\n",
       "      <td>NaN</td>\n",
       "      <td>NaN</td>\n",
       "      <td>NaN</td>\n",
       "      <td>NaN</td>\n",
       "    </tr>\n",
       "    <tr>\n",
       "      <th>0</th>\n",
       "      <td>16</td>\n",
       "      <td>a6759c0a0832f92029f7b458055725f4</td>\n",
       "      <td>{\"cutoff\": \"quantile_0.1\", \"eval_fairness_grou...</td>\n",
       "      <td>30.478948</td>\n",
       "      <td>89710</td>\n",
       "      <td>1.0</td>\n",
       "      <td>0.086700</td>\n",
       "      <td>0.909072</td>\n",
       "      <td>0.075140</td>\n",
       "      <td>0.921561</td>\n",
       "      <td>...</td>\n",
       "      <td>0.119384</td>\n",
       "      <td>0.147864</td>\n",
       "      <td>0.95350</td>\n",
       "      <td>0.866800</td>\n",
       "      <td>0.008024</td>\n",
       "      <td>0.012144</td>\n",
       "      <td>0.957936</td>\n",
       "      <td>0.882796</td>\n",
       "      <td>20540.0</td>\n",
       "      <td>69170.0</td>\n",
       "    </tr>\n",
       "    <tr>\n",
       "      <th>0</th>\n",
       "      <td>16</td>\n",
       "      <td>a6759c0a0832f92029f7b458055725f4</td>\n",
       "      <td>{\"cutoff\": \"quantile_0.25\", \"eval_fairness_gro...</td>\n",
       "      <td>30.478948</td>\n",
       "      <td>89710</td>\n",
       "      <td>1.0</td>\n",
       "      <td>0.098362</td>\n",
       "      <td>0.876473</td>\n",
       "      <td>0.080451</td>\n",
       "      <td>0.900926</td>\n",
       "      <td>...</td>\n",
       "      <td>NaN</td>\n",
       "      <td>NaN</td>\n",
       "      <td>NaN</td>\n",
       "      <td>NaN</td>\n",
       "      <td>NaN</td>\n",
       "      <td>NaN</td>\n",
       "      <td>NaN</td>\n",
       "      <td>NaN</td>\n",
       "      <td>NaN</td>\n",
       "      <td>NaN</td>\n",
       "    </tr>\n",
       "    <tr>\n",
       "      <th>0</th>\n",
       "      <td>16</td>\n",
       "      <td>a6759c0a0832f92029f7b458055725f4</td>\n",
       "      <td>{\"cutoff\": \"quantile_0.25\", \"eval_fairness_gro...</td>\n",
       "      <td>30.478948</td>\n",
       "      <td>89710</td>\n",
       "      <td>1.0</td>\n",
       "      <td>0.098362</td>\n",
       "      <td>0.876473</td>\n",
       "      <td>0.080451</td>\n",
       "      <td>0.900926</td>\n",
       "      <td>...</td>\n",
       "      <td>0.132442</td>\n",
       "      <td>0.172065</td>\n",
       "      <td>0.79628</td>\n",
       "      <td>0.697918</td>\n",
       "      <td>0.067145</td>\n",
       "      <td>0.047374</td>\n",
       "      <td>0.812025</td>\n",
       "      <td>0.731574</td>\n",
       "      <td>20540.0</td>\n",
       "      <td>69170.0</td>\n",
       "    </tr>\n",
       "  </tbody>\n",
       "</table>\n",
       "<p>4 rows × 50 columns</p>\n",
       "</div>"
      ],
      "text/plain": [
       "  run_no                       universe_id  \\\n",
       "0     16  a6759c0a0832f92029f7b458055725f4   \n",
       "0     16  a6759c0a0832f92029f7b458055725f4   \n",
       "0     16  a6759c0a0832f92029f7b458055725f4   \n",
       "0     16  a6759c0a0832f92029f7b458055725f4   \n",
       "\n",
       "                                   universe_settings  execution_time  \\\n",
       "0  {\"cutoff\": \"quantile_0.1\", \"eval_fairness_grou...       30.478948   \n",
       "0  {\"cutoff\": \"quantile_0.1\", \"eval_fairness_grou...       30.478948   \n",
       "0  {\"cutoff\": \"quantile_0.25\", \"eval_fairness_gro...       30.478948   \n",
       "0  {\"cutoff\": \"quantile_0.25\", \"eval_fairness_gro...       30.478948   \n",
       "\n",
       "   test_size_n  test_size_frac  fair_main_equalized_odds_difference  \\\n",
       "0        89710             1.0                             0.086700   \n",
       "0        89710             1.0                             0.086700   \n",
       "0        89710             1.0                             0.098362   \n",
       "0        89710             1.0                             0.098362   \n",
       "\n",
       "   fair_main_equalized_odds_ratio  fair_main_demographic_parity_difference  \\\n",
       "0                        0.909072                                 0.075140   \n",
       "0                        0.909072                                 0.075140   \n",
       "0                        0.876473                                 0.080451   \n",
       "0                        0.876473                                 0.080451   \n",
       "\n",
       "   fair_main_demographic_parity_ratio  ...  perf_grp_precision_0  \\\n",
       "0                            0.921561  ...                   NaN   \n",
       "0                            0.921561  ...              0.119384   \n",
       "0                            0.900926  ...                   NaN   \n",
       "0                            0.900926  ...              0.132442   \n",
       "\n",
       "   perf_grp_precision_1  perf_grp_false positive rate_0  \\\n",
       "0                   NaN                             NaN   \n",
       "0              0.147864                         0.95350   \n",
       "0                   NaN                             NaN   \n",
       "0              0.172065                         0.79628   \n",
       "\n",
       "   perf_grp_false positive rate_1  perf_grp_false negative rate_0  \\\n",
       "0                             NaN                             NaN   \n",
       "0                        0.866800                        0.008024   \n",
       "0                             NaN                             NaN   \n",
       "0                        0.697918                        0.067145   \n",
       "\n",
       "   perf_grp_false negative rate_1  perf_grp_selection rate_0  \\\n",
       "0                             NaN                        NaN   \n",
       "0                        0.012144                   0.957936   \n",
       "0                             NaN                        NaN   \n",
       "0                        0.047374                   0.812025   \n",
       "\n",
       "   perf_grp_selection rate_1  perf_grp_count_0  perf_grp_count_1  \n",
       "0                        NaN               NaN               NaN  \n",
       "0                   0.882796           20540.0           69170.0  \n",
       "0                        NaN               NaN               NaN  \n",
       "0                   0.731574           20540.0           69170.0  \n",
       "\n",
       "[4 rows x 50 columns]"
      ]
     },
     "execution_count": 66,
     "metadata": {},
     "output_type": "execute_result"
    }
   ],
   "source": [
    "final_output = universe_analysis.generate_final_output(\n",
    "    y_pred_prob=probs_test,\n",
    "    y_test=y_true,\n",
    "    org_test=org_test,\n",
    "    filter_data=filter_sub_universe_data,\n",
    "    cp_metrics_df=cp_metrics_df,\n",
    "    save=True,\n",
    ")\n",
    "final_output"
   ]
  }
 ],
 "metadata": {
  "celltoolbar": "Tags",
  "kernelspec": {
   "display_name": "Python (CMA Fairness)",
   "language": "python",
   "name": "cma_fair_env"
  },
  "language_info": {
   "codemirror_mode": {
    "name": "ipython",
    "version": 3
   },
   "file_extension": ".py",
   "mimetype": "text/x-python",
   "name": "python",
   "nbconvert_exporter": "python",
   "pygments_lexer": "ipython3",
   "version": "3.10.12"
  },
  "papermill": {
   "default_parameters": {},
   "duration": 43.595697,
   "end_time": "2025-08-05T20:56:26.513988",
   "environment_variables": {},
   "exception": null,
   "input_path": "universe_analysis.ipynb",
   "output_path": "output/runs/16/notebooks/m_16-a6759c0a0832f92029f7b458055725f4.ipynb",
   "parameters": {
    "output_dir": "output",
    "run_no": "16",
    "seed": "2023",
    "universe": "{\"cutoff\": [\"quantile_0.1\", \"quantile_0.25\"], \"eval_fairness_grouping\": [\"majority-minority\", \"nationality-all\"], \"exclude_features\": \"sex\", \"exclude_subgroups\": \"drop-non-german\", \"model\": \"elasticnet\", \"scale\": \"scale\", \"training_size\": \"25k\", \"training_year\": \"2012_14\"}",
    "universe_id": "a6759c0a0832f92029f7b458055725f4"
   },
   "start_time": "2025-08-05T20:55:42.918291",
   "version": "2.6.0"
  }
 },
 "nbformat": 4,
 "nbformat_minor": 5
}