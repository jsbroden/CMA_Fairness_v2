{
 "cells": [
  {
   "cell_type": "code",
   "execution_count": 1,
   "id": "f159f837-637b-42ba-96b5-ec9a68c44524",
   "metadata": {
    "execution": {
     "iopub.execute_input": "2025-08-05T20:55:35.708746Z",
     "iopub.status.busy": "2025-08-05T20:55:35.707809Z",
     "iopub.status.idle": "2025-08-05T20:55:35.722072Z",
     "shell.execute_reply": "2025-08-05T20:55:35.720883Z"
    },
    "papermill": {
     "duration": 0.033973,
     "end_time": "2025-08-05T20:55:35.723720",
     "exception": false,
     "start_time": "2025-08-05T20:55:35.689747",
     "status": "completed"
    },
    "tags": []
   },
   "outputs": [
    {
     "name": "stdout",
     "output_type": "stream",
     "text": [
      "/dss/dsshome1/0C/ra93lal2/cma/CMA_Fairness_v2\n"
     ]
    },
    {
     "name": "stderr",
     "output_type": "stream",
     "text": [
      "/dss/dsshome1/0C/ra93lal2/.local/share/virtualenvs/CMA_Fairness_v2-3j10GkSs/lib/python3.10/site-packages/IPython/core/magics/osm.py:393: UserWarning: This is now an optional IPython functionality, using bookmarks requires you to install the `pickleshare` library.\n",
      "  bkms = self.shell.db.get('bookmarks', {})\n",
      "/dss/dsshome1/0C/ra93lal2/.local/share/virtualenvs/CMA_Fairness_v2-3j10GkSs/lib/python3.10/site-packages/IPython/core/magics/osm.py:417: UserWarning: This is now an optional IPython functionality, setting dhist requires you to install the `pickleshare` library.\n",
      "  self.shell.db['dhist'] = compress_dhist(dhist)[-100:]\n"
     ]
    }
   ],
   "source": [
    "%cd ~/cma/CMA_Fairness_v2"
   ]
  },
  {
   "cell_type": "markdown",
   "id": "de2603b9",
   "metadata": {
    "papermill": {
     "duration": 0.016048,
     "end_time": "2025-08-05T20:55:35.756697",
     "exception": false,
     "start_time": "2025-08-05T20:55:35.740649",
     "status": "completed"
    },
    "tags": []
   },
   "source": [
    "The following cell holds the definition of our parameters, these values can be overriden by rendering the with e.g. the following command:\n",
    "\n",
    "papermill -p alpha 0.2 -p ratio 0.3 universe_analysis.ipynb output/test_run.ipynb"
   ]
  },
  {
   "cell_type": "code",
   "execution_count": 2,
   "id": "a80968a0-40bb-4fa9-85ef-2d5eefb01975",
   "metadata": {
    "execution": {
     "iopub.execute_input": "2025-08-05T20:55:35.790382Z",
     "iopub.status.busy": "2025-08-05T20:55:35.789470Z",
     "iopub.status.idle": "2025-08-05T20:55:35.795732Z",
     "shell.execute_reply": "2025-08-05T20:55:35.794777Z"
    },
    "papermill": {
     "duration": 0.025335,
     "end_time": "2025-08-05T20:55:35.797398",
     "exception": false,
     "start_time": "2025-08-05T20:55:35.772063",
     "status": "completed"
    },
    "tags": []
   },
   "outputs": [
    {
     "name": "stdout",
     "output_type": "stream",
     "text": [
      "Current working directory: /dss/dsshome1/0C/ra93lal2/cma/CMA_Fairness_v2\n"
     ]
    }
   ],
   "source": [
    "import os\n",
    "print(\"Current working directory:\", os.getcwd())"
   ]
  },
  {
   "cell_type": "code",
   "execution_count": 3,
   "id": "2dce4c03",
   "metadata": {
    "execution": {
     "iopub.execute_input": "2025-08-05T20:55:35.832627Z",
     "iopub.status.busy": "2025-08-05T20:55:35.831971Z",
     "iopub.status.idle": "2025-08-05T20:55:35.838220Z",
     "shell.execute_reply": "2025-08-05T20:55:35.837150Z"
    },
    "papermill": {
     "duration": 0.025363,
     "end_time": "2025-08-05T20:55:35.839954",
     "exception": false,
     "start_time": "2025-08-05T20:55:35.814591",
     "status": "completed"
    },
    "tags": [
     "parameters"
    ]
   },
   "outputs": [],
   "source": [
    "run_no = 0\n",
    "universe_id = \"test\"\n",
    "universe = {\n",
    "    \"training_size\": \"25k\", # \"25k\", \"5k\", \"1k\"\n",
    "    \"training_year\": \"2014\", # \"2014\", \"2012_14\", \"2010_14\"\n",
    "    \"scale\": \"scale\", # \"scale\", \"do-not-scale\",\n",
    "    \"model\": \"elasticnet\", # \"logreg\", \"penalized_logreg\", \"rf\", \"gbm\", \"elasticnet\"\n",
    "    \"cutoff\": [\"quantile_0.15\", \"quantile_0.30\"],\n",
    "    \"exclude_features\": \"age\", # \"none\", \"nationality\", \"sex\", \"nationality-sex\", \"age\"\n",
    "    \"exclude_subgroups\": \"keep-all\", # \"keep-all\", \"drop-non-german\"\n",
    "    \"eval_fairness_grouping\": [\"majority-minority\", \"nationality-all\"]\n",
    "}\n",
    "\n",
    "output_dir=\"./output\"\n",
    "seed=0"
   ]
  },
  {
   "cell_type": "code",
   "execution_count": 4,
   "id": "f650d88a",
   "metadata": {
    "execution": {
     "iopub.execute_input": "2025-08-05T20:55:35.875922Z",
     "iopub.status.busy": "2025-08-05T20:55:35.875242Z",
     "iopub.status.idle": "2025-08-05T20:55:35.880705Z",
     "shell.execute_reply": "2025-08-05T20:55:35.879656Z"
    },
    "papermill": {
     "duration": 0.024644,
     "end_time": "2025-08-05T20:55:35.882372",
     "exception": false,
     "start_time": "2025-08-05T20:55:35.857728",
     "status": "completed"
    },
    "tags": [
     "injected-parameters"
    ]
   },
   "outputs": [],
   "source": [
    "# Parameters\n",
    "universe_id = \"1037b4bfd65ba52d69eedc2d62fcb827\"\n",
    "run_no = \"16\"\n",
    "universe = \"{\\\"cutoff\\\": [\\\"quantile_0.1\\\", \\\"quantile_0.25\\\"], \\\"eval_fairness_grouping\\\": [\\\"majority-minority\\\", \\\"nationality-all\\\"], \\\"exclude_features\\\": \\\"nationality\\\", \\\"exclude_subgroups\\\": \\\"drop-non-german\\\", \\\"model\\\": \\\"elasticnet\\\", \\\"scale\\\": \\\"scale\\\", \\\"training_size\\\": \\\"25k\\\", \\\"training_year\\\": \\\"2012_14\\\"}\"\n",
    "output_dir = \"output\"\n",
    "seed = \"2023\"\n"
   ]
  },
  {
   "cell_type": "code",
   "execution_count": 5,
   "id": "1650acaf",
   "metadata": {
    "execution": {
     "iopub.execute_input": "2025-08-05T20:55:35.916357Z",
     "iopub.status.busy": "2025-08-05T20:55:35.915606Z",
     "iopub.status.idle": "2025-08-05T20:55:35.920779Z",
     "shell.execute_reply": "2025-08-05T20:55:35.919715Z"
    },
    "papermill": {
     "duration": 0.024004,
     "end_time": "2025-08-05T20:55:35.922588",
     "exception": false,
     "start_time": "2025-08-05T20:55:35.898584",
     "status": "completed"
    },
    "tags": []
   },
   "outputs": [],
   "source": [
    "import json\n",
    "if isinstance(universe, str):\n",
    "    universe = json.loads(universe)"
   ]
  },
  {
   "cell_type": "code",
   "execution_count": 6,
   "id": "16620c48",
   "metadata": {
    "execution": {
     "iopub.execute_input": "2025-08-05T20:55:35.957963Z",
     "iopub.status.busy": "2025-08-05T20:55:35.957112Z",
     "iopub.status.idle": "2025-08-05T20:55:36.001795Z",
     "shell.execute_reply": "2025-08-05T20:55:36.000601Z"
    },
    "papermill": {
     "duration": 0.063729,
     "end_time": "2025-08-05T20:55:36.003638",
     "exception": false,
     "start_time": "2025-08-05T20:55:35.939909",
     "status": "completed"
    },
    "tags": []
   },
   "outputs": [],
   "source": [
    "# Auto-reload the custom package\n",
    "%load_ext autoreload\n",
    "%autoreload 1\n",
    "%aimport fairness_multiverse"
   ]
  },
  {
   "cell_type": "code",
   "execution_count": 7,
   "id": "01c5c9f3",
   "metadata": {
    "execution": {
     "iopub.execute_input": "2025-08-05T20:55:36.040781Z",
     "iopub.status.busy": "2025-08-05T20:55:36.038793Z",
     "iopub.status.idle": "2025-08-05T20:55:37.776096Z",
     "shell.execute_reply": "2025-08-05T20:55:37.775273Z"
    },
    "papermill": {
     "duration": 1.756573,
     "end_time": "2025-08-05T20:55:37.777616",
     "exception": false,
     "start_time": "2025-08-05T20:55:36.021043",
     "status": "completed"
    },
    "tags": []
   },
   "outputs": [],
   "source": [
    "from fairness_multiverse.universe import UniverseAnalysis\n",
    "\n",
    "universe_analysis = UniverseAnalysis(\n",
    "    run_no = run_no,\n",
    "    universe_id = universe_id,\n",
    "    universe = universe,\n",
    "    output_dir=output_dir,\n",
    ")"
   ]
  },
  {
   "cell_type": "code",
   "execution_count": 8,
   "id": "106241f5",
   "metadata": {
    "execution": {
     "iopub.execute_input": "2025-08-05T20:55:37.797403Z",
     "iopub.status.busy": "2025-08-05T20:55:37.796869Z",
     "iopub.status.idle": "2025-08-05T20:55:37.802994Z",
     "shell.execute_reply": "2025-08-05T20:55:37.802060Z"
    },
    "papermill": {
     "duration": 0.017476,
     "end_time": "2025-08-05T20:55:37.804474",
     "exception": false,
     "start_time": "2025-08-05T20:55:37.786998",
     "status": "completed"
    },
    "tags": []
   },
   "outputs": [
    {
     "name": "stdout",
     "output_type": "stream",
     "text": [
      "Using Seed: 2023\n"
     ]
    }
   ],
   "source": [
    "import numpy as np\n",
    "parsed_seed = int(seed)\n",
    "np.random.seed(parsed_seed)\n",
    "print(f\"Using Seed: {parsed_seed}\")"
   ]
  },
  {
   "cell_type": "markdown",
   "id": "e0ebdc57",
   "metadata": {
    "papermill": {
     "duration": 0.00886,
     "end_time": "2025-08-05T20:55:37.823497",
     "exception": false,
     "start_time": "2025-08-05T20:55:37.814637",
     "status": "completed"
    },
    "tags": []
   },
   "source": [
    "# Loading Data"
   ]
  },
  {
   "cell_type": "code",
   "execution_count": 9,
   "id": "f0496b8a",
   "metadata": {
    "execution": {
     "iopub.execute_input": "2025-08-05T20:55:37.842522Z",
     "iopub.status.busy": "2025-08-05T20:55:37.841994Z",
     "iopub.status.idle": "2025-08-05T20:55:48.009948Z",
     "shell.execute_reply": "2025-08-05T20:55:48.008822Z"
    },
    "papermill": {
     "duration": 10.179102,
     "end_time": "2025-08-05T20:55:48.011337",
     "exception": false,
     "start_time": "2025-08-05T20:55:37.832235",
     "status": "completed"
    },
    "tags": []
   },
   "outputs": [
    {
     "name": "stdout",
     "output_type": "stream",
     "text": [
      "Loading SIAB data from cache: data/siab_cached.csv.gz\n"
     ]
    },
    {
     "name": "stdout",
     "output_type": "stream",
     "text": [
      "(643690, 164)\n"
     ]
    }
   ],
   "source": [
    "from pathlib import Path\n",
    "import pandas as pd\n",
    "\n",
    "# File paths\n",
    "raw_file = Path(\"data/raw/siab.csv\")\n",
    "cache_file = Path(\"data/siab_cached.csv.gz\")\n",
    "\n",
    "# Ensure cache directory exists\n",
    "cache_file.parent.mkdir(parents=True, exist_ok=True)\n",
    "\n",
    "# Load with simple caching\n",
    "if cache_file.exists():\n",
    "    print(f\"Loading SIAB data from cache: {cache_file}\")\n",
    "    siab = pd.read_csv(cache_file, compression='gzip')\n",
    "else:\n",
    "    print(f\"Cache not found. Reading raw SIAB data: {raw_file}\")\n",
    "    siab = pd.read_csv(raw_file)\n",
    "    siab.to_csv(cache_file, index=False, compression='gzip')\n",
    "    print(f\"Cached SIAB data to: {cache_file}\")\n",
    "\n",
    "print(siab.shape)"
   ]
  },
  {
   "cell_type": "code",
   "execution_count": 10,
   "id": "db0ca512-5f53-4dba-abdb-a2888bca41ba",
   "metadata": {
    "execution": {
     "iopub.execute_input": "2025-08-05T20:55:48.032864Z",
     "iopub.status.busy": "2025-08-05T20:55:48.032497Z",
     "iopub.status.idle": "2025-08-05T20:55:48.037190Z",
     "shell.execute_reply": "2025-08-05T20:55:48.036245Z"
    },
    "papermill": {
     "duration": 0.015583,
     "end_time": "2025-08-05T20:55:48.038569",
     "exception": false,
     "start_time": "2025-08-05T20:55:48.022986",
     "status": "completed"
    },
    "tags": []
   },
   "outputs": [],
   "source": [
    "#siab"
   ]
  },
  {
   "cell_type": "markdown",
   "id": "997051c5-15bd-4b69-9786-c3001a3ce484",
   "metadata": {
    "papermill": {
     "duration": 0.008969,
     "end_time": "2025-08-05T20:55:48.057319",
     "exception": false,
     "start_time": "2025-08-05T20:55:48.048350",
     "status": "completed"
    },
    "tags": []
   },
   "source": [
    "# Splitting Data and Setting Training Data Size"
   ]
  },
  {
   "cell_type": "code",
   "execution_count": 11,
   "id": "aea9c6ef-6f46-42c8-85eb-5a62025c1508",
   "metadata": {
    "execution": {
     "iopub.execute_input": "2025-08-05T20:55:48.076087Z",
     "iopub.status.busy": "2025-08-05T20:55:48.075407Z",
     "iopub.status.idle": "2025-08-05T20:55:48.656368Z",
     "shell.execute_reply": "2025-08-05T20:55:48.655587Z"
    },
    "papermill": {
     "duration": 0.592086,
     "end_time": "2025-08-05T20:55:48.657965",
     "exception": false,
     "start_time": "2025-08-05T20:55:48.065879",
     "status": "completed"
    },
    "tags": []
   },
   "outputs": [],
   "source": [
    "from fairness_multiverse.universe import sample_by_year_size\n",
    "\n",
    "siab_train = sample_by_year_size(siab,\n",
    "                               training_year=universe[\"training_year\"],\n",
    "                               training_size=universe[\"training_size\"])"
   ]
  },
  {
   "cell_type": "code",
   "execution_count": 12,
   "id": "8d3afb32-789d-442c-8d5d-9f5aa8dd2eed",
   "metadata": {
    "execution": {
     "iopub.execute_input": "2025-08-05T20:55:48.677297Z",
     "iopub.status.busy": "2025-08-05T20:55:48.676893Z",
     "iopub.status.idle": "2025-08-05T20:55:48.681171Z",
     "shell.execute_reply": "2025-08-05T20:55:48.680236Z"
    },
    "papermill": {
     "duration": 0.015114,
     "end_time": "2025-08-05T20:55:48.682468",
     "exception": false,
     "start_time": "2025-08-05T20:55:48.667354",
     "status": "completed"
    },
    "tags": []
   },
   "outputs": [],
   "source": [
    "#siab_train.shape"
   ]
  },
  {
   "cell_type": "code",
   "execution_count": 13,
   "id": "d582db68-1a4c-47fb-84fc-08518dc1975a",
   "metadata": {
    "execution": {
     "iopub.execute_input": "2025-08-05T20:55:48.702069Z",
     "iopub.status.busy": "2025-08-05T20:55:48.701488Z",
     "iopub.status.idle": "2025-08-05T20:55:48.705497Z",
     "shell.execute_reply": "2025-08-05T20:55:48.704627Z"
    },
    "papermill": {
     "duration": 0.015026,
     "end_time": "2025-08-05T20:55:48.707006",
     "exception": false,
     "start_time": "2025-08-05T20:55:48.691980",
     "status": "completed"
    },
    "tags": []
   },
   "outputs": [],
   "source": [
    "#display(siab_train.groupby(\"year\").size())"
   ]
  },
  {
   "cell_type": "code",
   "execution_count": 14,
   "id": "a561edb4-d032-42cb-8256-22eac1111c64",
   "metadata": {
    "execution": {
     "iopub.execute_input": "2025-08-05T20:55:48.726593Z",
     "iopub.status.busy": "2025-08-05T20:55:48.726078Z",
     "iopub.status.idle": "2025-08-05T20:55:48.926386Z",
     "shell.execute_reply": "2025-08-05T20:55:48.925596Z"
    },
    "papermill": {
     "duration": 0.211389,
     "end_time": "2025-08-05T20:55:48.927925",
     "exception": false,
     "start_time": "2025-08-05T20:55:48.716536",
     "status": "completed"
    },
    "tags": []
   },
   "outputs": [],
   "source": [
    "#siab_train = siab_s[siab_s.year < 2015]\n",
    "siab_calib = siab[siab.year == 2015]\n",
    "siab_test = siab[siab.year == 2016]"
   ]
  },
  {
   "cell_type": "code",
   "execution_count": 15,
   "id": "472de16f-c3db-4916-846b-1f0de9cf1746",
   "metadata": {
    "execution": {
     "iopub.execute_input": "2025-08-05T20:55:48.947323Z",
     "iopub.status.busy": "2025-08-05T20:55:48.947011Z",
     "iopub.status.idle": "2025-08-05T20:55:48.961218Z",
     "shell.execute_reply": "2025-08-05T20:55:48.960283Z"
    },
    "papermill": {
     "duration": 0.025317,
     "end_time": "2025-08-05T20:55:48.962755",
     "exception": false,
     "start_time": "2025-08-05T20:55:48.937438",
     "status": "completed"
    },
    "tags": []
   },
   "outputs": [],
   "source": [
    "X_train = siab_train.iloc[:,4:164]\n",
    "y_train = siab_train.iloc[:, [3]]"
   ]
  },
  {
   "cell_type": "code",
   "execution_count": 16,
   "id": "828c96af-f43a-4ed6-ba47-8ac73a47d56c",
   "metadata": {
    "execution": {
     "iopub.execute_input": "2025-08-05T20:55:48.982671Z",
     "iopub.status.busy": "2025-08-05T20:55:48.982131Z",
     "iopub.status.idle": "2025-08-05T20:55:49.011879Z",
     "shell.execute_reply": "2025-08-05T20:55:49.011007Z"
    },
    "papermill": {
     "duration": 0.041042,
     "end_time": "2025-08-05T20:55:49.013663",
     "exception": false,
     "start_time": "2025-08-05T20:55:48.972621",
     "status": "completed"
    },
    "tags": []
   },
   "outputs": [],
   "source": [
    "X_calib = siab_calib.iloc[:,4:164]\n",
    "y_calib = siab_calib.iloc[:, [3]]"
   ]
  },
  {
   "cell_type": "code",
   "execution_count": 17,
   "id": "c34be9c3-6bd6-476e-acd3-845840e303be",
   "metadata": {
    "execution": {
     "iopub.execute_input": "2025-08-05T20:55:49.034341Z",
     "iopub.status.busy": "2025-08-05T20:55:49.033615Z",
     "iopub.status.idle": "2025-08-05T20:55:49.081975Z",
     "shell.execute_reply": "2025-08-05T20:55:49.081139Z"
    },
    "papermill": {
     "duration": 0.059538,
     "end_time": "2025-08-05T20:55:49.083530",
     "exception": false,
     "start_time": "2025-08-05T20:55:49.023992",
     "status": "completed"
    },
    "tags": []
   },
   "outputs": [],
   "source": [
    "X_test = siab_test.iloc[:,4:164]\n",
    "y_true = siab_test.iloc[:, [3]]"
   ]
  },
  {
   "cell_type": "code",
   "execution_count": 18,
   "id": "e6c733c5",
   "metadata": {
    "execution": {
     "iopub.execute_input": "2025-08-05T20:55:49.104250Z",
     "iopub.status.busy": "2025-08-05T20:55:49.103667Z",
     "iopub.status.idle": "2025-08-05T20:55:49.194827Z",
     "shell.execute_reply": "2025-08-05T20:55:49.194036Z"
    },
    "papermill": {
     "duration": 0.102312,
     "end_time": "2025-08-05T20:55:49.196358",
     "exception": false,
     "start_time": "2025-08-05T20:55:49.094046",
     "status": "completed"
    },
    "tags": []
   },
   "outputs": [],
   "source": [
    "# Auxiliary data needed downstream in the pipeline\n",
    "\n",
    "org_train = X_train.copy()\n",
    "org_test = X_test.copy()\n",
    "org_calib = X_calib.copy()"
   ]
  },
  {
   "cell_type": "markdown",
   "id": "0a4a1b33",
   "metadata": {
    "papermill": {
     "duration": 0.008824,
     "end_time": "2025-08-05T20:55:49.214802",
     "exception": false,
     "start_time": "2025-08-05T20:55:49.205978",
     "status": "completed"
    },
    "tags": []
   },
   "source": [
    "# Preprocessing Data"
   ]
  },
  {
   "cell_type": "code",
   "execution_count": 19,
   "id": "ca879031",
   "metadata": {
    "execution": {
     "iopub.execute_input": "2025-08-05T20:55:49.234083Z",
     "iopub.status.busy": "2025-08-05T20:55:49.233713Z",
     "iopub.status.idle": "2025-08-05T20:55:49.238494Z",
     "shell.execute_reply": "2025-08-05T20:55:49.237659Z"
    },
    "papermill": {
     "duration": 0.01603,
     "end_time": "2025-08-05T20:55:49.239965",
     "exception": false,
     "start_time": "2025-08-05T20:55:49.223935",
     "status": "completed"
    },
    "tags": []
   },
   "outputs": [],
   "source": [
    "# EXCLUDE PROTECTED FEATURES\n",
    "# ----------------------\n",
    "# \"exclude_features\": \"none\", # \"nationality\", \"sex\", \"nationality-sex\"\n",
    "\n",
    "excluded_features = universe[\"exclude_features\"].split(\"-\") # split, e.g.: \"nationality-sex\" -> [\"nationality\", \"sex\"]\n",
    "excluded_features_dictionary = {\n",
    "    \"nationality\": [\"maxdeutsch1\", \"maxdeutsch.Missing.\"],\n",
    "    \"sex\": [\"frau1\"],\n",
    "    \"age\": [\"age\"],\n",
    "}"
   ]
  },
  {
   "cell_type": "code",
   "execution_count": 20,
   "id": "b745ac60",
   "metadata": {
    "execution": {
     "iopub.execute_input": "2025-08-05T20:55:49.260418Z",
     "iopub.status.busy": "2025-08-05T20:55:49.260008Z",
     "iopub.status.idle": "2025-08-05T20:55:49.264559Z",
     "shell.execute_reply": "2025-08-05T20:55:49.263752Z"
    },
    "papermill": {
     "duration": 0.016159,
     "end_time": "2025-08-05T20:55:49.266019",
     "exception": false,
     "start_time": "2025-08-05T20:55:49.249860",
     "status": "completed"
    },
    "tags": []
   },
   "outputs": [],
   "source": [
    "# Code nice names to column names\n",
    "\n",
    "excluded_features_columns = [\n",
    "    excluded_features_dictionary[f] for f in excluded_features if len(f) > 0 and f != \"none\"\n",
    "]"
   ]
  },
  {
   "cell_type": "code",
   "execution_count": 21,
   "id": "f84f73a2",
   "metadata": {
    "execution": {
     "iopub.execute_input": "2025-08-05T20:55:49.286228Z",
     "iopub.status.busy": "2025-08-05T20:55:49.285688Z",
     "iopub.status.idle": "2025-08-05T20:55:49.291165Z",
     "shell.execute_reply": "2025-08-05T20:55:49.290342Z"
    },
    "papermill": {
     "duration": 0.016814,
     "end_time": "2025-08-05T20:55:49.292666",
     "exception": false,
     "start_time": "2025-08-05T20:55:49.275852",
     "status": "completed"
    },
    "tags": []
   },
   "outputs": [],
   "source": [
    "from utils import flatten_once\n",
    "\n",
    "excluded_features_columns = flatten_once(excluded_features_columns)"
   ]
  },
  {
   "cell_type": "code",
   "execution_count": 22,
   "id": "884dea22",
   "metadata": {
    "execution": {
     "iopub.execute_input": "2025-08-05T20:55:49.312908Z",
     "iopub.status.busy": "2025-08-05T20:55:49.312176Z",
     "iopub.status.idle": "2025-08-05T20:55:49.325895Z",
     "shell.execute_reply": "2025-08-05T20:55:49.325009Z"
    },
    "papermill": {
     "duration": 0.025028,
     "end_time": "2025-08-05T20:55:49.327483",
     "exception": false,
     "start_time": "2025-08-05T20:55:49.302455",
     "status": "completed"
    },
    "tags": []
   },
   "outputs": [
    {
     "name": "stdout",
     "output_type": "stream",
     "text": [
      "Dropping features: ['maxdeutsch1', 'maxdeutsch.Missing.']\n"
     ]
    }
   ],
   "source": [
    "if len(excluded_features_columns) > 0:\n",
    "    print(f\"Dropping features: {excluded_features_columns}\")\n",
    "    X_train.drop(excluded_features_columns, axis=1, inplace=True)"
   ]
  },
  {
   "cell_type": "code",
   "execution_count": 23,
   "id": "95ab8b16",
   "metadata": {
    "execution": {
     "iopub.execute_input": "2025-08-05T20:55:49.348467Z",
     "iopub.status.busy": "2025-08-05T20:55:49.347804Z",
     "iopub.status.idle": "2025-08-05T20:55:49.396768Z",
     "shell.execute_reply": "2025-08-05T20:55:49.395938Z"
    },
    "papermill": {
     "duration": 0.060317,
     "end_time": "2025-08-05T20:55:49.398324",
     "exception": false,
     "start_time": "2025-08-05T20:55:49.338007",
     "status": "completed"
    },
    "tags": []
   },
   "outputs": [
    {
     "name": "stdout",
     "output_type": "stream",
     "text": [
      "Dropping features: ['maxdeutsch1', 'maxdeutsch.Missing.']\n"
     ]
    }
   ],
   "source": [
    "if len(excluded_features_columns) > 0:\n",
    "    print(f\"Dropping features: {excluded_features_columns}\")\n",
    "    X_test.drop(excluded_features_columns, axis=1, inplace=True)"
   ]
  },
  {
   "cell_type": "code",
   "execution_count": 24,
   "id": "1853aaf5-fb9f-46cb-a2b5-8ea4ae2237e4",
   "metadata": {
    "execution": {
     "iopub.execute_input": "2025-08-05T20:55:49.419412Z",
     "iopub.status.busy": "2025-08-05T20:55:49.418738Z",
     "iopub.status.idle": "2025-08-05T20:55:49.465127Z",
     "shell.execute_reply": "2025-08-05T20:55:49.464064Z"
    },
    "papermill": {
     "duration": 0.057728,
     "end_time": "2025-08-05T20:55:49.466501",
     "exception": false,
     "start_time": "2025-08-05T20:55:49.408773",
     "status": "completed"
    },
    "tags": []
   },
   "outputs": [
    {
     "name": "stdout",
     "output_type": "stream",
     "text": [
      "Dropping features: ['maxdeutsch1', 'maxdeutsch.Missing.']\n"
     ]
    }
   ],
   "source": [
    "if len(excluded_features_columns) > 0:\n",
    "    print(f\"Dropping features: {excluded_features_columns}\")\n",
    "    X_calib.drop(excluded_features_columns, axis=1, inplace=True)"
   ]
  },
  {
   "cell_type": "code",
   "execution_count": 25,
   "id": "76c4dc6d",
   "metadata": {
    "execution": {
     "iopub.execute_input": "2025-08-05T20:55:49.488267Z",
     "iopub.status.busy": "2025-08-05T20:55:49.487802Z",
     "iopub.status.idle": "2025-08-05T20:55:49.492339Z",
     "shell.execute_reply": "2025-08-05T20:55:49.491579Z"
    },
    "papermill": {
     "duration": 0.016324,
     "end_time": "2025-08-05T20:55:49.493819",
     "exception": false,
     "start_time": "2025-08-05T20:55:49.477495",
     "status": "completed"
    },
    "tags": []
   },
   "outputs": [],
   "source": [
    "# EXCLUDE CERTAIN SUBGROUPS\n",
    "# ----------------------\n",
    "\n",
    "mode = universe.get(\"exclude_subgroups\", \"keep-all\") \n",
    "# Fetches the exclude_subgroups setting from the universe dict.\n",
    "# Defaults to \"keep-all\" if the key is missing."
   ]
  },
  {
   "cell_type": "code",
   "execution_count": 26,
   "id": "21994072",
   "metadata": {
    "execution": {
     "iopub.execute_input": "2025-08-05T20:55:49.514778Z",
     "iopub.status.busy": "2025-08-05T20:55:49.514134Z",
     "iopub.status.idle": "2025-08-05T20:55:49.520049Z",
     "shell.execute_reply": "2025-08-05T20:55:49.519271Z"
    },
    "papermill": {
     "duration": 0.017654,
     "end_time": "2025-08-05T20:55:49.521467",
     "exception": false,
     "start_time": "2025-08-05T20:55:49.503813",
     "status": "completed"
    },
    "tags": []
   },
   "outputs": [],
   "source": [
    "if mode == \"keep-all\":\n",
    "    keep_mask = pd.Series(True, index=org_train.index)\n",
    "\n",
    "# org_train contains the original feature columns from features_org (in Simson)\n",
    "# features_org contains unprocessed features, for me X_train at beginning ???\n",
    "# For keep-all, creates a boolean Series (keep_mask) of all True, so no rows are removed.\n",
    "\n",
    "elif mode == \"drop-non-german\":\n",
    "    keep_mask = org_train[\"maxdeutsch1\"] == 1 # ??? what about missing values?\n",
    "\n",
    "else:\n",
    "    raise ValueError(f\"Unsupported mode for exclude_subgroups: {mode}\")"
   ]
  },
  {
   "cell_type": "code",
   "execution_count": 27,
   "id": "71651440",
   "metadata": {
    "execution": {
     "iopub.execute_input": "2025-08-05T20:55:49.542342Z",
     "iopub.status.busy": "2025-08-05T20:55:49.541699Z",
     "iopub.status.idle": "2025-08-05T20:55:49.547756Z",
     "shell.execute_reply": "2025-08-05T20:55:49.546925Z"
    },
    "papermill": {
     "duration": 0.017426,
     "end_time": "2025-08-05T20:55:49.549146",
     "exception": false,
     "start_time": "2025-08-05T20:55:49.531720",
     "status": "completed"
    },
    "tags": []
   },
   "outputs": [
    {
     "name": "stdout",
     "output_type": "stream",
     "text": [
      "Dropping 3481 rows (13.92%) where mode='drop-non-german'\n"
     ]
    }
   ],
   "source": [
    "n_drop = (~keep_mask).sum() # Calculates how many rows are set to be dropped\n",
    "if n_drop > 0:\n",
    "    pct = n_drop / len(keep_mask) * 100\n",
    "    print(f\"Dropping {n_drop} rows ({pct:.2f}%) where mode='{mode}'\")"
   ]
  },
  {
   "cell_type": "code",
   "execution_count": 28,
   "id": "5fb8eee5",
   "metadata": {
    "execution": {
     "iopub.execute_input": "2025-08-05T20:55:49.570353Z",
     "iopub.status.busy": "2025-08-05T20:55:49.569735Z",
     "iopub.status.idle": "2025-08-05T20:55:49.581896Z",
     "shell.execute_reply": "2025-08-05T20:55:49.580989Z"
    },
    "papermill": {
     "duration": 0.024026,
     "end_time": "2025-08-05T20:55:49.583571",
     "exception": false,
     "start_time": "2025-08-05T20:55:49.559545",
     "status": "completed"
    },
    "tags": []
   },
   "outputs": [],
   "source": [
    "X_train = X_train[keep_mask]"
   ]
  },
  {
   "cell_type": "code",
   "execution_count": 29,
   "id": "b202bb3a",
   "metadata": {
    "execution": {
     "iopub.execute_input": "2025-08-05T20:55:49.605137Z",
     "iopub.status.busy": "2025-08-05T20:55:49.604543Z",
     "iopub.status.idle": "2025-08-05T20:55:49.609960Z",
     "shell.execute_reply": "2025-08-05T20:55:49.609228Z"
    },
    "papermill": {
     "duration": 0.017058,
     "end_time": "2025-08-05T20:55:49.611451",
     "exception": false,
     "start_time": "2025-08-05T20:55:49.594393",
     "status": "completed"
    },
    "tags": []
   },
   "outputs": [],
   "source": [
    "y_train = y_train[keep_mask]"
   ]
  },
  {
   "cell_type": "markdown",
   "id": "493e2ac3",
   "metadata": {
    "papermill": {
     "duration": 0.009574,
     "end_time": "2025-08-05T20:55:49.631472",
     "exception": false,
     "start_time": "2025-08-05T20:55:49.621898",
     "status": "completed"
    },
    "tags": []
   },
   "source": [
    "# Model Training"
   ]
  },
  {
   "cell_type": "code",
   "execution_count": 30,
   "id": "679e1268",
   "metadata": {
    "execution": {
     "iopub.execute_input": "2025-08-05T20:55:49.652130Z",
     "iopub.status.busy": "2025-08-05T20:55:49.651334Z",
     "iopub.status.idle": "2025-08-05T20:55:49.725432Z",
     "shell.execute_reply": "2025-08-05T20:55:49.724661Z"
    },
    "papermill": {
     "duration": 0.086126,
     "end_time": "2025-08-05T20:55:49.727023",
     "exception": false,
     "start_time": "2025-08-05T20:55:49.640897",
     "status": "completed"
    },
    "tags": []
   },
   "outputs": [],
   "source": [
    "from sklearn.linear_model import LogisticRegression\n",
    "from sklearn.ensemble import GradientBoostingClassifier, RandomForestClassifier\n",
    "\n",
    "if (universe[\"model\"] == \"logreg\"):\n",
    "    model = LogisticRegression() #penalty=\"none\", solver=\"newton-cg\", max_iter=1) # include random_state=19 ?\n",
    "elif (universe[\"model\"] == \"penalized_logreg\"):\n",
    "    model = LogisticRegression(penalty=\"l2\", C=0.1) #, solver=\"newton-cg\", max_iter=1)\n",
    "elif (universe[\"model\"] == \"rf\"):\n",
    "    model = RandomForestClassifier() # n_estimators=100, n_jobs=-1\n",
    "elif (universe[\"model\"] == \"gbm\"):\n",
    "    model = GradientBoostingClassifier()\n",
    "elif (universe[\"model\"] == \"elasticnet\"):\n",
    "    model = LogisticRegression(penalty = 'elasticnet', solver = 'saga', l1_ratio = 0.5) # max_iter=5000\n",
    "else:\n",
    "    raise \"Unsupported universe.model\""
   ]
  },
  {
   "cell_type": "code",
   "execution_count": 31,
   "id": "0cc8f744",
   "metadata": {
    "execution": {
     "iopub.execute_input": "2025-08-05T20:55:49.747825Z",
     "iopub.status.busy": "2025-08-05T20:55:49.747504Z",
     "iopub.status.idle": "2025-08-05T20:55:49.752527Z",
     "shell.execute_reply": "2025-08-05T20:55:49.751631Z"
    },
    "papermill": {
     "duration": 0.016869,
     "end_time": "2025-08-05T20:55:49.754137",
     "exception": false,
     "start_time": "2025-08-05T20:55:49.737268",
     "status": "completed"
    },
    "tags": []
   },
   "outputs": [],
   "source": [
    "import numpy as np\n",
    "from sklearn.pipeline import Pipeline\n",
    "from sklearn.preprocessing import StandardScaler\n",
    "\n",
    "model = Pipeline([\n",
    "    #(\"continuous_processor\", continuous_processor),\n",
    "    #(\"categorical_preprocessor\", categorical_preprocessor),\n",
    "    (\"scale\", StandardScaler() if universe[\"scale\"] == \"scale\" else None), \n",
    "    (\"model\", model),\n",
    "])"
   ]
  },
  {
   "cell_type": "code",
   "execution_count": 32,
   "id": "9442c04d",
   "metadata": {
    "execution": {
     "iopub.execute_input": "2025-08-05T20:55:49.775890Z",
     "iopub.status.busy": "2025-08-05T20:55:49.775154Z",
     "iopub.status.idle": "2025-08-05T20:55:57.148861Z",
     "shell.execute_reply": "2025-08-05T20:55:57.147905Z"
    },
    "papermill": {
     "duration": 7.385894,
     "end_time": "2025-08-05T20:55:57.150526",
     "exception": false,
     "start_time": "2025-08-05T20:55:49.764632",
     "status": "completed"
    },
    "tags": []
   },
   "outputs": [
    {
     "name": "stderr",
     "output_type": "stream",
     "text": [
      "/dss/dsshome1/0C/ra93lal2/.local/share/virtualenvs/CMA_Fairness_v2-3j10GkSs/lib/python3.10/site-packages/sklearn/linear_model/_sag.py:350: ConvergenceWarning: The max_iter was reached which means the coef_ did not converge\n",
      "  warnings.warn(\n"
     ]
    },
    {
     "data": {
      "text/html": [
       "<style>#sk-container-id-1 {color: black;background-color: white;}#sk-container-id-1 pre{padding: 0;}#sk-container-id-1 div.sk-toggleable {background-color: white;}#sk-container-id-1 label.sk-toggleable__label {cursor: pointer;display: block;width: 100%;margin-bottom: 0;padding: 0.3em;box-sizing: border-box;text-align: center;}#sk-container-id-1 label.sk-toggleable__label-arrow:before {content: \"▸\";float: left;margin-right: 0.25em;color: #696969;}#sk-container-id-1 label.sk-toggleable__label-arrow:hover:before {color: black;}#sk-container-id-1 div.sk-estimator:hover label.sk-toggleable__label-arrow:before {color: black;}#sk-container-id-1 div.sk-toggleable__content {max-height: 0;max-width: 0;overflow: hidden;text-align: left;background-color: #f0f8ff;}#sk-container-id-1 div.sk-toggleable__content pre {margin: 0.2em;color: black;border-radius: 0.25em;background-color: #f0f8ff;}#sk-container-id-1 input.sk-toggleable__control:checked~div.sk-toggleable__content {max-height: 200px;max-width: 100%;overflow: auto;}#sk-container-id-1 input.sk-toggleable__control:checked~label.sk-toggleable__label-arrow:before {content: \"▾\";}#sk-container-id-1 div.sk-estimator input.sk-toggleable__control:checked~label.sk-toggleable__label {background-color: #d4ebff;}#sk-container-id-1 div.sk-label input.sk-toggleable__control:checked~label.sk-toggleable__label {background-color: #d4ebff;}#sk-container-id-1 input.sk-hidden--visually {border: 0;clip: rect(1px 1px 1px 1px);clip: rect(1px, 1px, 1px, 1px);height: 1px;margin: -1px;overflow: hidden;padding: 0;position: absolute;width: 1px;}#sk-container-id-1 div.sk-estimator {font-family: monospace;background-color: #f0f8ff;border: 1px dotted black;border-radius: 0.25em;box-sizing: border-box;margin-bottom: 0.5em;}#sk-container-id-1 div.sk-estimator:hover {background-color: #d4ebff;}#sk-container-id-1 div.sk-parallel-item::after {content: \"\";width: 100%;border-bottom: 1px solid gray;flex-grow: 1;}#sk-container-id-1 div.sk-label:hover label.sk-toggleable__label {background-color: #d4ebff;}#sk-container-id-1 div.sk-serial::before {content: \"\";position: absolute;border-left: 1px solid gray;box-sizing: border-box;top: 0;bottom: 0;left: 50%;z-index: 0;}#sk-container-id-1 div.sk-serial {display: flex;flex-direction: column;align-items: center;background-color: white;padding-right: 0.2em;padding-left: 0.2em;position: relative;}#sk-container-id-1 div.sk-item {position: relative;z-index: 1;}#sk-container-id-1 div.sk-parallel {display: flex;align-items: stretch;justify-content: center;background-color: white;position: relative;}#sk-container-id-1 div.sk-item::before, #sk-container-id-1 div.sk-parallel-item::before {content: \"\";position: absolute;border-left: 1px solid gray;box-sizing: border-box;top: 0;bottom: 0;left: 50%;z-index: -1;}#sk-container-id-1 div.sk-parallel-item {display: flex;flex-direction: column;z-index: 1;position: relative;background-color: white;}#sk-container-id-1 div.sk-parallel-item:first-child::after {align-self: flex-end;width: 50%;}#sk-container-id-1 div.sk-parallel-item:last-child::after {align-self: flex-start;width: 50%;}#sk-container-id-1 div.sk-parallel-item:only-child::after {width: 0;}#sk-container-id-1 div.sk-dashed-wrapped {border: 1px dashed gray;margin: 0 0.4em 0.5em 0.4em;box-sizing: border-box;padding-bottom: 0.4em;background-color: white;}#sk-container-id-1 div.sk-label label {font-family: monospace;font-weight: bold;display: inline-block;line-height: 1.2em;}#sk-container-id-1 div.sk-label-container {text-align: center;}#sk-container-id-1 div.sk-container {/* jupyter's `normalize.less` sets `[hidden] { display: none; }` but bootstrap.min.css set `[hidden] { display: none !important; }` so we also need the `!important` here to be able to override the default hidden behavior on the sphinx rendered scikit-learn.org. See: https://github.com/scikit-learn/scikit-learn/issues/21755 */display: inline-block !important;position: relative;}#sk-container-id-1 div.sk-text-repr-fallback {display: none;}</style><div id=\"sk-container-id-1\" class=\"sk-top-container\"><div class=\"sk-text-repr-fallback\"><pre>Pipeline(steps=[(&#x27;scale&#x27;, StandardScaler()),\n",
       "                (&#x27;model&#x27;,\n",
       "                 LogisticRegression(l1_ratio=0.5, penalty=&#x27;elasticnet&#x27;,\n",
       "                                    solver=&#x27;saga&#x27;))])</pre><b>In a Jupyter environment, please rerun this cell to show the HTML representation or trust the notebook. <br />On GitHub, the HTML representation is unable to render, please try loading this page with nbviewer.org.</b></div><div class=\"sk-container\" hidden><div class=\"sk-item sk-dashed-wrapped\"><div class=\"sk-label-container\"><div class=\"sk-label sk-toggleable\"><input class=\"sk-toggleable__control sk-hidden--visually\" id=\"sk-estimator-id-1\" type=\"checkbox\" ><label for=\"sk-estimator-id-1\" class=\"sk-toggleable__label sk-toggleable__label-arrow\">Pipeline</label><div class=\"sk-toggleable__content\"><pre>Pipeline(steps=[(&#x27;scale&#x27;, StandardScaler()),\n",
       "                (&#x27;model&#x27;,\n",
       "                 LogisticRegression(l1_ratio=0.5, penalty=&#x27;elasticnet&#x27;,\n",
       "                                    solver=&#x27;saga&#x27;))])</pre></div></div></div><div class=\"sk-serial\"><div class=\"sk-item\"><div class=\"sk-estimator sk-toggleable\"><input class=\"sk-toggleable__control sk-hidden--visually\" id=\"sk-estimator-id-2\" type=\"checkbox\" ><label for=\"sk-estimator-id-2\" class=\"sk-toggleable__label sk-toggleable__label-arrow\">StandardScaler</label><div class=\"sk-toggleable__content\"><pre>StandardScaler()</pre></div></div></div><div class=\"sk-item\"><div class=\"sk-estimator sk-toggleable\"><input class=\"sk-toggleable__control sk-hidden--visually\" id=\"sk-estimator-id-3\" type=\"checkbox\" ><label for=\"sk-estimator-id-3\" class=\"sk-toggleable__label sk-toggleable__label-arrow\">LogisticRegression</label><div class=\"sk-toggleable__content\"><pre>LogisticRegression(l1_ratio=0.5, penalty=&#x27;elasticnet&#x27;, solver=&#x27;saga&#x27;)</pre></div></div></div></div></div></div></div>"
      ],
      "text/plain": [
       "Pipeline(steps=[('scale', StandardScaler()),\n",
       "                ('model',\n",
       "                 LogisticRegression(l1_ratio=0.5, penalty='elasticnet',\n",
       "                                    solver='saga'))])"
      ]
     },
     "execution_count": 32,
     "metadata": {},
     "output_type": "execute_result"
    }
   ],
   "source": [
    "model.fit(X_train, y_train.values.ravel())"
   ]
  },
  {
   "cell_type": "code",
   "execution_count": 33,
   "id": "af59f8c0",
   "metadata": {
    "execution": {
     "iopub.execute_input": "2025-08-05T20:55:57.197363Z",
     "iopub.status.busy": "2025-08-05T20:55:57.196678Z",
     "iopub.status.idle": "2025-08-05T20:55:57.202502Z",
     "shell.execute_reply": "2025-08-05T20:55:57.201396Z"
    },
    "papermill": {
     "duration": 0.029917,
     "end_time": "2025-08-05T20:55:57.204404",
     "exception": false,
     "start_time": "2025-08-05T20:55:57.174487",
     "status": "completed"
    },
    "tags": []
   },
   "outputs": [],
   "source": [
    "from fairness_multiverse.universe import predict_w_threshold"
   ]
  },
  {
   "cell_type": "code",
   "execution_count": 34,
   "id": "a7cf2e16",
   "metadata": {
    "execution": {
     "iopub.execute_input": "2025-08-05T20:55:57.248784Z",
     "iopub.status.busy": "2025-08-05T20:55:57.248113Z",
     "iopub.status.idle": "2025-08-05T20:55:57.440457Z",
     "shell.execute_reply": "2025-08-05T20:55:57.439529Z"
    },
    "papermill": {
     "duration": 0.215973,
     "end_time": "2025-08-05T20:55:57.442044",
     "exception": false,
     "start_time": "2025-08-05T20:55:57.226071",
     "status": "completed"
    },
    "tags": []
   },
   "outputs": [
    {
     "data": {
      "text/plain": [
       "0.8616765132092298"
      ]
     },
     "execution_count": 34,
     "metadata": {},
     "output_type": "execute_result"
    }
   ],
   "source": [
    "probs_test = model.predict_proba(X_test)\n",
    "\n",
    "'''\n",
    "Below code returns a boolean array (or binary 0/1 array depending on how it’s used) where each element \n",
    "is True if the probability of class 1 is greater than or equal to the threshold, and False otherwise.\n",
    "'''\n",
    "y_pred_default = predict_w_threshold(probs_test, 0.5)\n",
    "\n",
    "from sklearn.metrics import accuracy_score\n",
    "\n",
    "# Naive prediction\n",
    "accuracy_score(y_true = y_true, y_pred = y_pred_default)"
   ]
  },
  {
   "cell_type": "code",
   "execution_count": 35,
   "id": "081964c3",
   "metadata": {
    "execution": {
     "iopub.execute_input": "2025-08-05T20:55:57.481409Z",
     "iopub.status.busy": "2025-08-05T20:55:57.480429Z",
     "iopub.status.idle": "2025-08-05T20:55:57.666903Z",
     "shell.execute_reply": "2025-08-05T20:55:57.665796Z"
    },
    "papermill": {
     "duration": 0.208543,
     "end_time": "2025-08-05T20:55:57.668727",
     "exception": false,
     "start_time": "2025-08-05T20:55:57.460184",
     "status": "completed"
    },
    "tags": []
   },
   "outputs": [
    {
     "data": {
      "text/plain": [
       "array([0, 0, 0, ..., 0, 0, 0])"
      ]
     },
     "execution_count": 35,
     "metadata": {},
     "output_type": "execute_result"
    }
   ],
   "source": [
    "model.predict(X_test)"
   ]
  },
  {
   "cell_type": "markdown",
   "id": "56c9705b",
   "metadata": {
    "papermill": {
     "duration": 0.020293,
     "end_time": "2025-08-05T20:55:57.712253",
     "exception": false,
     "start_time": "2025-08-05T20:55:57.691960",
     "status": "completed"
    },
    "tags": []
   },
   "source": [
    "# Conformal Prediction"
   ]
  },
  {
   "cell_type": "code",
   "execution_count": 36,
   "id": "160ec6ff",
   "metadata": {
    "execution": {
     "iopub.execute_input": "2025-08-05T20:55:57.755026Z",
     "iopub.status.busy": "2025-08-05T20:55:57.754450Z",
     "iopub.status.idle": "2025-08-05T20:55:57.760547Z",
     "shell.execute_reply": "2025-08-05T20:55:57.759528Z"
    },
    "papermill": {
     "duration": 0.028345,
     "end_time": "2025-08-05T20:55:57.762273",
     "exception": false,
     "start_time": "2025-08-05T20:55:57.733928",
     "status": "completed"
    },
    "tags": []
   },
   "outputs": [],
   "source": [
    "# Miscoverage level for conformal prediction (10% allowed error rate => 90% target coverage)\n",
    "alpha = 0.1"
   ]
  },
  {
   "cell_type": "code",
   "execution_count": 37,
   "id": "eadf4555-3dd3-440e-8e35-f82a4ad9f855",
   "metadata": {
    "execution": {
     "iopub.execute_input": "2025-08-05T20:55:57.802562Z",
     "iopub.status.busy": "2025-08-05T20:55:57.801899Z",
     "iopub.status.idle": "2025-08-05T20:55:58.036446Z",
     "shell.execute_reply": "2025-08-05T20:55:58.035501Z"
    },
    "papermill": {
     "duration": 0.256898,
     "end_time": "2025-08-05T20:55:58.038325",
     "exception": false,
     "start_time": "2025-08-05T20:55:57.781427",
     "status": "completed"
    },
    "tags": []
   },
   "outputs": [],
   "source": [
    "probs_calib = model.predict_proba(X_calib)"
   ]
  },
  {
   "cell_type": "code",
   "execution_count": 38,
   "id": "2ed93547-6d5d-4983-9b36-1ecb300da49a",
   "metadata": {
    "execution": {
     "iopub.execute_input": "2025-08-05T20:55:58.077929Z",
     "iopub.status.busy": "2025-08-05T20:55:58.077119Z",
     "iopub.status.idle": "2025-08-05T20:55:58.083106Z",
     "shell.execute_reply": "2025-08-05T20:55:58.082156Z"
    },
    "papermill": {
     "duration": 0.027831,
     "end_time": "2025-08-05T20:55:58.084743",
     "exception": false,
     "start_time": "2025-08-05T20:55:58.056912",
     "status": "completed"
    },
    "tags": []
   },
   "outputs": [],
   "source": [
    "y_calib = y_calib.values.ravel().astype(int)"
   ]
  },
  {
   "cell_type": "code",
   "execution_count": 39,
   "id": "65d1320d-f588-4b38-9072-62af1ae97f7d",
   "metadata": {
    "execution": {
     "iopub.execute_input": "2025-08-05T20:55:58.122975Z",
     "iopub.status.busy": "2025-08-05T20:55:58.122484Z",
     "iopub.status.idle": "2025-08-05T20:55:58.129616Z",
     "shell.execute_reply": "2025-08-05T20:55:58.128685Z"
    },
    "papermill": {
     "duration": 0.027854,
     "end_time": "2025-08-05T20:55:58.131411",
     "exception": false,
     "start_time": "2025-08-05T20:55:58.103557",
     "status": "completed"
    },
    "tags": []
   },
   "outputs": [],
   "source": [
    "from fairness_multiverse.conformal import compute_nc_scores\n",
    "\n",
    "# Compute nonconformity scores on calibration set (1 - probability of true class)\n",
    "nc_scores = compute_nc_scores(probs_calib, y_calib)"
   ]
  },
  {
   "cell_type": "code",
   "execution_count": 40,
   "id": "df3b8ca3-53b7-43d5-9667-7c85da7aeda2",
   "metadata": {
    "execution": {
     "iopub.execute_input": "2025-08-05T20:55:58.171115Z",
     "iopub.status.busy": "2025-08-05T20:55:58.170638Z",
     "iopub.status.idle": "2025-08-05T20:55:58.176977Z",
     "shell.execute_reply": "2025-08-05T20:55:58.176056Z"
    },
    "papermill": {
     "duration": 0.028115,
     "end_time": "2025-08-05T20:55:58.178567",
     "exception": false,
     "start_time": "2025-08-05T20:55:58.150452",
     "status": "completed"
    },
    "tags": []
   },
   "outputs": [],
   "source": [
    "from fairness_multiverse.conformal import find_threshold\n",
    "\n",
    "# Find conformal threshold q_hat for the given alpha (split conformal method)\n",
    "q_hat = find_threshold(nc_scores, alpha)"
   ]
  },
  {
   "cell_type": "code",
   "execution_count": 41,
   "id": "4d29e6c1-0ef6-4aa4-b8fe-4fe79b0d033a",
   "metadata": {
    "execution": {
     "iopub.execute_input": "2025-08-05T20:55:58.217063Z",
     "iopub.status.busy": "2025-08-05T20:55:58.216572Z",
     "iopub.status.idle": "2025-08-05T20:55:58.223639Z",
     "shell.execute_reply": "2025-08-05T20:55:58.222717Z"
    },
    "papermill": {
     "duration": 0.028314,
     "end_time": "2025-08-05T20:55:58.225392",
     "exception": false,
     "start_time": "2025-08-05T20:55:58.197078",
     "status": "completed"
    },
    "tags": []
   },
   "outputs": [
    {
     "data": {
      "text/plain": [
       "0.662329211139268"
      ]
     },
     "execution_count": 41,
     "metadata": {},
     "output_type": "execute_result"
    }
   ],
   "source": [
    "q_hat"
   ]
  },
  {
   "cell_type": "code",
   "execution_count": 42,
   "id": "92460794-cdac-4be2-ba28-f28c0515a6fb",
   "metadata": {
    "execution": {
     "iopub.execute_input": "2025-08-05T20:55:58.266285Z",
     "iopub.status.busy": "2025-08-05T20:55:58.265779Z",
     "iopub.status.idle": "2025-08-05T20:55:59.279399Z",
     "shell.execute_reply": "2025-08-05T20:55:59.278618Z"
    },
    "papermill": {
     "duration": 1.03582,
     "end_time": "2025-08-05T20:55:59.280831",
     "exception": false,
     "start_time": "2025-08-05T20:55:58.245011",
     "status": "completed"
    },
    "tags": []
   },
   "outputs": [],
   "source": [
    "from fairness_multiverse.conformal import predict_conformal_sets\n",
    "\n",
    "# Generate prediction sets for each test example\n",
    "pred_sets = predict_conformal_sets(model, X_test, q_hat)"
   ]
  },
  {
   "cell_type": "code",
   "execution_count": 43,
   "id": "d90c9a65-e6db-4f5d-80cd-e68fb7e46829",
   "metadata": {
    "execution": {
     "iopub.execute_input": "2025-08-05T20:55:59.306185Z",
     "iopub.status.busy": "2025-08-05T20:55:59.305667Z",
     "iopub.status.idle": "2025-08-05T20:55:59.310621Z",
     "shell.execute_reply": "2025-08-05T20:55:59.309922Z"
    },
    "papermill": {
     "duration": 0.020064,
     "end_time": "2025-08-05T20:55:59.311855",
     "exception": false,
     "start_time": "2025-08-05T20:55:59.291791",
     "status": "completed"
    },
    "tags": []
   },
   "outputs": [],
   "source": [
    "y_true = y_true.squeeze()"
   ]
  },
  {
   "cell_type": "code",
   "execution_count": 44,
   "id": "3a58a54a-1e68-46b9-927a-df01f18aebc8",
   "metadata": {
    "execution": {
     "iopub.execute_input": "2025-08-05T20:55:59.335375Z",
     "iopub.status.busy": "2025-08-05T20:55:59.334877Z",
     "iopub.status.idle": "2025-08-05T20:56:00.204434Z",
     "shell.execute_reply": "2025-08-05T20:56:00.203416Z"
    },
    "papermill": {
     "duration": 0.88292,
     "end_time": "2025-08-05T20:56:00.206361",
     "exception": false,
     "start_time": "2025-08-05T20:55:59.323441",
     "status": "completed"
    },
    "tags": []
   },
   "outputs": [],
   "source": [
    "from fairness_multiverse.conformal import evaluate_sets\n",
    "\n",
    "# Evaluate coverage and average set size on test data\n",
    "metrics = evaluate_sets(pred_sets, y_true)"
   ]
  },
  {
   "cell_type": "markdown",
   "id": "2b569c12-9aaa-4c88-98c9-bbcd0cf3ebb8",
   "metadata": {
    "papermill": {
     "duration": 0.02357,
     "end_time": "2025-08-05T20:56:00.254570",
     "exception": false,
     "start_time": "2025-08-05T20:56:00.231000",
     "status": "completed"
    },
    "tags": []
   },
   "source": [
    "# CP Metrics"
   ]
  },
  {
   "cell_type": "code",
   "execution_count": 45,
   "id": "5ce0a5cb-201f-45a0-ade5-94c7f0bd6095",
   "metadata": {
    "execution": {
     "iopub.execute_input": "2025-08-05T20:56:00.303031Z",
     "iopub.status.busy": "2025-08-05T20:56:00.302533Z",
     "iopub.status.idle": "2025-08-05T20:56:00.310320Z",
     "shell.execute_reply": "2025-08-05T20:56:00.309232Z"
    },
    "papermill": {
     "duration": 0.034093,
     "end_time": "2025-08-05T20:56:00.312142",
     "exception": false,
     "start_time": "2025-08-05T20:56:00.278049",
     "status": "completed"
    },
    "tags": []
   },
   "outputs": [
    {
     "data": {
      "text/plain": [
       "{'coverage': 0.9111693233753205, 'avg_size': 1.1248913164641623}"
      ]
     },
     "execution_count": 45,
     "metadata": {},
     "output_type": "execute_result"
    }
   ],
   "source": [
    "metrics"
   ]
  },
  {
   "cell_type": "code",
   "execution_count": 46,
   "id": "9b9a838d-31c9-430b-ae14-12baee460d17",
   "metadata": {
    "execution": {
     "iopub.execute_input": "2025-08-05T20:56:00.361488Z",
     "iopub.status.busy": "2025-08-05T20:56:00.361188Z",
     "iopub.status.idle": "2025-08-05T20:56:00.366212Z",
     "shell.execute_reply": "2025-08-05T20:56:00.365547Z"
    },
    "papermill": {
     "duration": 0.031107,
     "end_time": "2025-08-05T20:56:00.367417",
     "exception": false,
     "start_time": "2025-08-05T20:56:00.336310",
     "status": "completed"
    },
    "tags": []
   },
   "outputs": [],
   "source": [
    "example_universe = universe.copy()\n",
    "universe_training_year = example_universe.get(\"training_year\")\n",
    "universe_training_size = example_universe.get(\"training_size\")\n",
    "universe_scale = example_universe.get(\"scale\")\n",
    "universe_model = example_universe.get(\"model\")\n",
    "universe_exclude_features = example_universe.get(\"exclude_features\")\n",
    "universe_exclude_subgroups = example_universe.get(\"exclude_subgroups\")"
   ]
  },
  {
   "cell_type": "code",
   "execution_count": 47,
   "id": "f4b6a8ac-9dc0-4245-8a91-5b3b5999c4f9",
   "metadata": {
    "execution": {
     "iopub.execute_input": "2025-08-05T20:56:00.390855Z",
     "iopub.status.busy": "2025-08-05T20:56:00.390273Z",
     "iopub.status.idle": "2025-08-05T20:56:00.395154Z",
     "shell.execute_reply": "2025-08-05T20:56:00.394449Z"
    },
    "papermill": {
     "duration": 0.017404,
     "end_time": "2025-08-05T20:56:00.396483",
     "exception": false,
     "start_time": "2025-08-05T20:56:00.379079",
     "status": "completed"
    },
    "tags": []
   },
   "outputs": [],
   "source": [
    "cp_metrics_dict = {\n",
    "    \"universe_id\": [universe_id],\n",
    "    \"universe_training_year\": [universe_training_year],\n",
    "    \"universe_training_size\": [universe_training_size],\n",
    "    \"universe_scale\": [universe_scale],\n",
    "    \"universe_model\": [universe_model],\n",
    "    \"universe_exclude_features\": [universe_exclude_features],\n",
    "    \"universe_exclude_subgroups\": [universe_exclude_subgroups],\n",
    "    \"q_hat\": [q_hat],\n",
    "    \"coverage\": [metrics[\"coverage\"]],\n",
    "    \"avg_size\": [metrics[\"avg_size\"]],\n",
    "}"
   ]
  },
  {
   "cell_type": "code",
   "execution_count": 48,
   "id": "908acbb1-0371-4915-85ca-3fa520d2efe2",
   "metadata": {
    "execution": {
     "iopub.execute_input": "2025-08-05T20:56:00.418886Z",
     "iopub.status.busy": "2025-08-05T20:56:00.418405Z",
     "iopub.status.idle": "2025-08-05T20:56:00.424166Z",
     "shell.execute_reply": "2025-08-05T20:56:00.423415Z"
    },
    "papermill": {
     "duration": 0.017976,
     "end_time": "2025-08-05T20:56:00.425525",
     "exception": false,
     "start_time": "2025-08-05T20:56:00.407549",
     "status": "completed"
    },
    "tags": []
   },
   "outputs": [
    {
     "data": {
      "text/plain": [
       "{'universe_id': ['1037b4bfd65ba52d69eedc2d62fcb827'],\n",
       " 'universe_training_year': ['2012_14'],\n",
       " 'universe_training_size': ['25k'],\n",
       " 'universe_scale': ['scale'],\n",
       " 'universe_model': ['elasticnet'],\n",
       " 'universe_exclude_features': ['nationality'],\n",
       " 'universe_exclude_subgroups': ['drop-non-german'],\n",
       " 'q_hat': [0.662329211139268],\n",
       " 'coverage': [0.9111693233753205],\n",
       " 'avg_size': [1.1248913164641623]}"
      ]
     },
     "execution_count": 48,
     "metadata": {},
     "output_type": "execute_result"
    }
   ],
   "source": [
    "cp_metrics_dict"
   ]
  },
  {
   "cell_type": "code",
   "execution_count": 49,
   "id": "33007efc-14e9-4ec6-97ac-56a455c82265",
   "metadata": {
    "execution": {
     "iopub.execute_input": "2025-08-05T20:56:00.447848Z",
     "iopub.status.busy": "2025-08-05T20:56:00.447373Z",
     "iopub.status.idle": "2025-08-05T20:56:00.452278Z",
     "shell.execute_reply": "2025-08-05T20:56:00.451591Z"
    },
    "papermill": {
     "duration": 0.017145,
     "end_time": "2025-08-05T20:56:00.453609",
     "exception": false,
     "start_time": "2025-08-05T20:56:00.436464",
     "status": "completed"
    },
    "tags": []
   },
   "outputs": [],
   "source": [
    "cp_metrics_df = pd.DataFrame(cp_metrics_dict)"
   ]
  },
  {
   "cell_type": "code",
   "execution_count": 50,
   "id": "db12611b-57b2-4910-b9d0-355adfd6e7bf",
   "metadata": {
    "execution": {
     "iopub.execute_input": "2025-08-05T20:56:00.482395Z",
     "iopub.status.busy": "2025-08-05T20:56:00.482042Z",
     "iopub.status.idle": "2025-08-05T20:56:00.497177Z",
     "shell.execute_reply": "2025-08-05T20:56:00.496534Z"
    },
    "papermill": {
     "duration": 0.033781,
     "end_time": "2025-08-05T20:56:00.498558",
     "exception": false,
     "start_time": "2025-08-05T20:56:00.464777",
     "status": "completed"
    },
    "tags": []
   },
   "outputs": [
    {
     "data": {
      "text/html": [
       "<div>\n",
       "<style scoped>\n",
       "    .dataframe tbody tr th:only-of-type {\n",
       "        vertical-align: middle;\n",
       "    }\n",
       "\n",
       "    .dataframe tbody tr th {\n",
       "        vertical-align: top;\n",
       "    }\n",
       "\n",
       "    .dataframe thead th {\n",
       "        text-align: right;\n",
       "    }\n",
       "</style>\n",
       "<table border=\"1\" class=\"dataframe\">\n",
       "  <thead>\n",
       "    <tr style=\"text-align: right;\">\n",
       "      <th></th>\n",
       "      <th>universe_id</th>\n",
       "      <th>universe_training_year</th>\n",
       "      <th>universe_training_size</th>\n",
       "      <th>universe_scale</th>\n",
       "      <th>universe_model</th>\n",
       "      <th>universe_exclude_features</th>\n",
       "      <th>universe_exclude_subgroups</th>\n",
       "      <th>q_hat</th>\n",
       "      <th>coverage</th>\n",
       "      <th>avg_size</th>\n",
       "    </tr>\n",
       "  </thead>\n",
       "  <tbody>\n",
       "    <tr>\n",
       "      <th>0</th>\n",
       "      <td>1037b4bfd65ba52d69eedc2d62fcb827</td>\n",
       "      <td>2012_14</td>\n",
       "      <td>25k</td>\n",
       "      <td>scale</td>\n",
       "      <td>elasticnet</td>\n",
       "      <td>nationality</td>\n",
       "      <td>drop-non-german</td>\n",
       "      <td>0.662329</td>\n",
       "      <td>0.911169</td>\n",
       "      <td>1.124891</td>\n",
       "    </tr>\n",
       "  </tbody>\n",
       "</table>\n",
       "</div>"
      ],
      "text/plain": [
       "                        universe_id universe_training_year  \\\n",
       "0  1037b4bfd65ba52d69eedc2d62fcb827                2012_14   \n",
       "\n",
       "  universe_training_size universe_scale universe_model  \\\n",
       "0                    25k          scale     elasticnet   \n",
       "\n",
       "  universe_exclude_features universe_exclude_subgroups     q_hat  coverage  \\\n",
       "0               nationality            drop-non-german  0.662329  0.911169   \n",
       "\n",
       "   avg_size  \n",
       "0  1.124891  "
      ]
     },
     "execution_count": 50,
     "metadata": {},
     "output_type": "execute_result"
    }
   ],
   "source": [
    "cp_metrics_df"
   ]
  },
  {
   "cell_type": "code",
   "execution_count": 51,
   "id": "b7fbde55-a0a1-47e4-9af6-fe4a17fa8c61",
   "metadata": {
    "execution": {
     "iopub.execute_input": "2025-08-05T20:56:00.522949Z",
     "iopub.status.busy": "2025-08-05T20:56:00.522387Z",
     "iopub.status.idle": "2025-08-05T20:56:00.526333Z",
     "shell.execute_reply": "2025-08-05T20:56:00.525583Z"
    },
    "papermill": {
     "duration": 0.016976,
     "end_time": "2025-08-05T20:56:00.527660",
     "exception": false,
     "start_time": "2025-08-05T20:56:00.510684",
     "status": "completed"
    },
    "tags": []
   },
   "outputs": [],
   "source": [
    "# Conditional Coverage & looking at subgroups"
   ]
  },
  {
   "cell_type": "code",
   "execution_count": 52,
   "id": "027ae886-68dd-4141-96c7-805a5450e1ef",
   "metadata": {
    "execution": {
     "iopub.execute_input": "2025-08-05T20:56:00.553083Z",
     "iopub.status.busy": "2025-08-05T20:56:00.552211Z",
     "iopub.status.idle": "2025-08-05T20:56:00.810789Z",
     "shell.execute_reply": "2025-08-05T20:56:00.809796Z"
    },
    "papermill": {
     "duration": 0.273258,
     "end_time": "2025-08-05T20:56:00.812378",
     "exception": false,
     "start_time": "2025-08-05T20:56:00.539120",
     "status": "completed"
    },
    "tags": []
   },
   "outputs": [],
   "source": [
    "from fairness_multiverse.conformal import build_cp_groups\n",
    "\n",
    "cp_groups_df = build_cp_groups(pred_sets, y_true, X_test.index, org_test)\n",
    "#needs universe_id and setting"
   ]
  },
  {
   "cell_type": "code",
   "execution_count": 53,
   "id": "6cbdab96-b2b2-45af-ad54-d0516db2e28d",
   "metadata": {
    "execution": {
     "iopub.execute_input": "2025-08-05T20:56:00.860287Z",
     "iopub.status.busy": "2025-08-05T20:56:00.859896Z",
     "iopub.status.idle": "2025-08-05T20:56:02.249168Z",
     "shell.execute_reply": "2025-08-05T20:56:02.248161Z"
    },
    "papermill": {
     "duration": 1.416391,
     "end_time": "2025-08-05T20:56:02.251257",
     "exception": false,
     "start_time": "2025-08-05T20:56:00.834866",
     "status": "completed"
    },
    "tags": []
   },
   "outputs": [],
   "source": [
    "# Define covered = 1 if true_label is in the predicted set\n",
    "cp_groups_df['covered'] = cp_groups_df.apply(\n",
    "    lambda r: int(r['true_label'] in r['pred_set']),\n",
    "    axis=1\n",
    ")"
   ]
  },
  {
   "cell_type": "code",
   "execution_count": 54,
   "id": "338ff529-1a6b-4b87-a931-8e4788d52aad",
   "metadata": {
    "execution": {
     "iopub.execute_input": "2025-08-05T20:56:02.294349Z",
     "iopub.status.busy": "2025-08-05T20:56:02.293712Z",
     "iopub.status.idle": "2025-08-05T20:56:02.298707Z",
     "shell.execute_reply": "2025-08-05T20:56:02.297715Z"
    },
    "papermill": {
     "duration": 0.026945,
     "end_time": "2025-08-05T20:56:02.300293",
     "exception": false,
     "start_time": "2025-08-05T20:56:02.273348",
     "status": "completed"
    },
    "tags": []
   },
   "outputs": [],
   "source": [
    "#cp_groups_df"
   ]
  },
  {
   "cell_type": "code",
   "execution_count": 55,
   "id": "90032e27-66df-4540-9169-4e89cfbaa758",
   "metadata": {
    "execution": {
     "iopub.execute_input": "2025-08-05T20:56:02.342541Z",
     "iopub.status.busy": "2025-08-05T20:56:02.342167Z",
     "iopub.status.idle": "2025-08-05T20:56:02.353605Z",
     "shell.execute_reply": "2025-08-05T20:56:02.352669Z"
    },
    "papermill": {
     "duration": 0.033679,
     "end_time": "2025-08-05T20:56:02.355204",
     "exception": false,
     "start_time": "2025-08-05T20:56:02.321525",
     "status": "completed"
    },
    "tags": []
   },
   "outputs": [],
   "source": [
    "subgroups = ['frau1','nongerman','nongerman_male','nongerman_female']\n",
    "\n",
    "# Conditional coverage for subgroup==1\n",
    "cond_coverage = {\n",
    "    g: cp_groups_df.loc[cp_groups_df[g]==1, 'covered'].mean()\n",
    "    for g in subgroups\n",
    "}"
   ]
  },
  {
   "cell_type": "code",
   "execution_count": 56,
   "id": "1e348fb1-b9c3-45bc-ba23-f016827a7e0d",
   "metadata": {
    "execution": {
     "iopub.execute_input": "2025-08-05T20:56:02.396183Z",
     "iopub.status.busy": "2025-08-05T20:56:02.395605Z",
     "iopub.status.idle": "2025-08-05T20:56:02.403340Z",
     "shell.execute_reply": "2025-08-05T20:56:02.402225Z"
    },
    "papermill": {
     "duration": 0.029739,
     "end_time": "2025-08-05T20:56:02.404936",
     "exception": false,
     "start_time": "2025-08-05T20:56:02.375197",
     "status": "completed"
    },
    "tags": []
   },
   "outputs": [
    {
     "data": {
      "text/plain": [
       "{'frau1': 0.9083704003234937,\n",
       " 'nongerman': 0.9095604333913434,\n",
       " 'nongerman_male': 0.9262361523912456,\n",
       " 'nongerman_female': 0.8819672131147541}"
      ]
     },
     "execution_count": 56,
     "metadata": {},
     "output_type": "execute_result"
    }
   ],
   "source": [
    "cond_coverage"
   ]
  },
  {
   "cell_type": "code",
   "execution_count": 57,
   "id": "f5093324-c3dd-4d63-bc4c-8d945e5c8bbb",
   "metadata": {
    "execution": {
     "iopub.execute_input": "2025-08-05T20:56:02.447689Z",
     "iopub.status.busy": "2025-08-05T20:56:02.446983Z",
     "iopub.status.idle": "2025-08-05T20:56:02.454608Z",
     "shell.execute_reply": "2025-08-05T20:56:02.453622Z"
    },
    "papermill": {
     "duration": 0.030252,
     "end_time": "2025-08-05T20:56:02.456169",
     "exception": false,
     "start_time": "2025-08-05T20:56:02.425917",
     "status": "completed"
    },
    "tags": []
   },
   "outputs": [],
   "source": [
    "for subgroup, cov in cond_coverage.items():\n",
    "    cp_metrics_df[f\"cov_{subgroup}\"] = cov"
   ]
  },
  {
   "cell_type": "code",
   "execution_count": 58,
   "id": "6e872e10-dbe5-49e8-b554-5030c98ff75d",
   "metadata": {
    "execution": {
     "iopub.execute_input": "2025-08-05T20:56:02.498876Z",
     "iopub.status.busy": "2025-08-05T20:56:02.498253Z",
     "iopub.status.idle": "2025-08-05T20:56:02.519125Z",
     "shell.execute_reply": "2025-08-05T20:56:02.518084Z"
    },
    "papermill": {
     "duration": 0.044271,
     "end_time": "2025-08-05T20:56:02.520906",
     "exception": false,
     "start_time": "2025-08-05T20:56:02.476635",
     "status": "completed"
    },
    "tags": []
   },
   "outputs": [
    {
     "data": {
      "text/html": [
       "<div>\n",
       "<style scoped>\n",
       "    .dataframe tbody tr th:only-of-type {\n",
       "        vertical-align: middle;\n",
       "    }\n",
       "\n",
       "    .dataframe tbody tr th {\n",
       "        vertical-align: top;\n",
       "    }\n",
       "\n",
       "    .dataframe thead th {\n",
       "        text-align: right;\n",
       "    }\n",
       "</style>\n",
       "<table border=\"1\" class=\"dataframe\">\n",
       "  <thead>\n",
       "    <tr style=\"text-align: right;\">\n",
       "      <th></th>\n",
       "      <th>universe_id</th>\n",
       "      <th>universe_training_year</th>\n",
       "      <th>universe_training_size</th>\n",
       "      <th>universe_scale</th>\n",
       "      <th>universe_model</th>\n",
       "      <th>universe_exclude_features</th>\n",
       "      <th>universe_exclude_subgroups</th>\n",
       "      <th>q_hat</th>\n",
       "      <th>coverage</th>\n",
       "      <th>avg_size</th>\n",
       "      <th>cov_frau1</th>\n",
       "      <th>cov_nongerman</th>\n",
       "      <th>cov_nongerman_male</th>\n",
       "      <th>cov_nongerman_female</th>\n",
       "    </tr>\n",
       "  </thead>\n",
       "  <tbody>\n",
       "    <tr>\n",
       "      <th>0</th>\n",
       "      <td>1037b4bfd65ba52d69eedc2d62fcb827</td>\n",
       "      <td>2012_14</td>\n",
       "      <td>25k</td>\n",
       "      <td>scale</td>\n",
       "      <td>elasticnet</td>\n",
       "      <td>nationality</td>\n",
       "      <td>drop-non-german</td>\n",
       "      <td>0.662329</td>\n",
       "      <td>0.911169</td>\n",
       "      <td>1.124891</td>\n",
       "      <td>0.90837</td>\n",
       "      <td>0.90956</td>\n",
       "      <td>0.926236</td>\n",
       "      <td>0.881967</td>\n",
       "    </tr>\n",
       "  </tbody>\n",
       "</table>\n",
       "</div>"
      ],
      "text/plain": [
       "                        universe_id universe_training_year  \\\n",
       "0  1037b4bfd65ba52d69eedc2d62fcb827                2012_14   \n",
       "\n",
       "  universe_training_size universe_scale universe_model  \\\n",
       "0                    25k          scale     elasticnet   \n",
       "\n",
       "  universe_exclude_features universe_exclude_subgroups     q_hat  coverage  \\\n",
       "0               nationality            drop-non-german  0.662329  0.911169   \n",
       "\n",
       "   avg_size  cov_frau1  cov_nongerman  cov_nongerman_male  \\\n",
       "0  1.124891    0.90837        0.90956            0.926236   \n",
       "\n",
       "   cov_nongerman_female  \n",
       "0              0.881967  "
      ]
     },
     "execution_count": 58,
     "metadata": {},
     "output_type": "execute_result"
    }
   ],
   "source": [
    "cp_metrics_df"
   ]
  },
  {
   "cell_type": "markdown",
   "id": "33774451",
   "metadata": {
    "papermill": {
     "duration": 0.019969,
     "end_time": "2025-08-05T20:56:02.562617",
     "exception": false,
     "start_time": "2025-08-05T20:56:02.542648",
     "status": "completed"
    },
    "tags": []
   },
   "source": [
    "# (Fairness) Metrics"
   ]
  },
  {
   "cell_type": "code",
   "execution_count": 59,
   "id": "debc5d62",
   "metadata": {
    "execution": {
     "iopub.execute_input": "2025-08-05T20:56:02.605459Z",
     "iopub.status.busy": "2025-08-05T20:56:02.605030Z",
     "iopub.status.idle": "2025-08-05T20:56:02.627044Z",
     "shell.execute_reply": "2025-08-05T20:56:02.626094Z"
    },
    "papermill": {
     "duration": 0.045485,
     "end_time": "2025-08-05T20:56:02.628774",
     "exception": false,
     "start_time": "2025-08-05T20:56:02.583289",
     "status": "completed"
    },
    "tags": []
   },
   "outputs": [],
   "source": [
    "# do I need to include maxdeutsch1.missing?\n",
    "\n",
    "import numpy as np\n",
    "\n",
    "colname_to_bin = \"maxdeutsch1\"\n",
    "majority_value = org_train[colname_to_bin].mode()[0]\n",
    "\n",
    "org_test[\"majmin\"] = np.where(org_test[colname_to_bin] == majority_value, \"majority\", \"minority\")"
   ]
  },
  {
   "cell_type": "code",
   "execution_count": 60,
   "id": "06a50de5",
   "metadata": {
    "execution": {
     "iopub.execute_input": "2025-08-05T20:56:02.686021Z",
     "iopub.status.busy": "2025-08-05T20:56:02.685092Z",
     "iopub.status.idle": "2025-08-05T20:56:04.209286Z",
     "shell.execute_reply": "2025-08-05T20:56:04.208504Z"
    },
    "papermill": {
     "duration": 1.554473,
     "end_time": "2025-08-05T20:56:04.210788",
     "exception": false,
     "start_time": "2025-08-05T20:56:02.656315",
     "status": "completed"
    },
    "tags": []
   },
   "outputs": [],
   "source": [
    "example_universe = universe.copy()\n",
    "example_universe[\"cutoff\"] = example_universe[\"cutoff\"][0]\n",
    "example_universe[\"eval_fairness_grouping\"] = example_universe[\"eval_fairness_grouping\"][0]\n",
    "fairness_dict, metric_frame = universe_analysis.compute_metrics(\n",
    "    example_universe,\n",
    "    y_pred_prob=probs_test,\n",
    "    y_test=y_true,\n",
    "    org_test=org_test,\n",
    ")"
   ]
  },
  {
   "cell_type": "markdown",
   "id": "f95d4e02",
   "metadata": {
    "papermill": {
     "duration": 0.011533,
     "end_time": "2025-08-05T20:56:04.234650",
     "exception": false,
     "start_time": "2025-08-05T20:56:04.223117",
     "status": "completed"
    },
    "tags": []
   },
   "source": [
    "# Overall"
   ]
  },
  {
   "cell_type": "markdown",
   "id": "bdee4871",
   "metadata": {
    "papermill": {
     "duration": 0.011335,
     "end_time": "2025-08-05T20:56:04.257331",
     "exception": false,
     "start_time": "2025-08-05T20:56:04.245996",
     "status": "completed"
    },
    "tags": []
   },
   "source": [
    "Fairness\n",
    "Main fairness target: Equalized Odds. Seems to be a better fit than equal opportunity, since we're not only interested in Y = 1. Seems to be a better fit than demographic parity, since we also care about accuracy, not just equal distribution of preds.\n",
    "\n",
    "Pick column for computation of fairness metrics\n",
    "\n",
    "Performance\n",
    "Overall performance measures, most interesting in relation to the measures split by group below"
   ]
  },
  {
   "cell_type": "code",
   "execution_count": 61,
   "id": "c4e067c6",
   "metadata": {
    "execution": {
     "iopub.execute_input": "2025-08-05T20:56:04.281510Z",
     "iopub.status.busy": "2025-08-05T20:56:04.281160Z",
     "iopub.status.idle": "2025-08-05T20:56:04.288359Z",
     "shell.execute_reply": "2025-08-05T20:56:04.287617Z"
    },
    "papermill": {
     "duration": 0.021198,
     "end_time": "2025-08-05T20:56:04.289878",
     "exception": false,
     "start_time": "2025-08-05T20:56:04.268680",
     "status": "completed"
    },
    "tags": []
   },
   "outputs": [
    {
     "data": {
      "text/plain": [
       "accuracy                   0.225337\n",
       "balanced accuracy          0.550779\n",
       "f1                         0.246642\n",
       "precision                  0.140898\n",
       "false positive rate        0.886972\n",
       "false negative rate        0.011470\n",
       "selection rate             0.900000\n",
       "count                  89710.000000\n",
       "dtype: float64"
      ]
     },
     "execution_count": 61,
     "metadata": {},
     "output_type": "execute_result"
    }
   ],
   "source": [
    "metric_frame.overall"
   ]
  },
  {
   "cell_type": "markdown",
   "id": "e968fe9d",
   "metadata": {
    "papermill": {
     "duration": 0.011366,
     "end_time": "2025-08-05T20:56:04.313936",
     "exception": false,
     "start_time": "2025-08-05T20:56:04.302570",
     "status": "completed"
    },
    "tags": []
   },
   "source": [
    "By Group"
   ]
  },
  {
   "cell_type": "code",
   "execution_count": 62,
   "id": "ec325bce",
   "metadata": {
    "execution": {
     "iopub.execute_input": "2025-08-05T20:56:04.337976Z",
     "iopub.status.busy": "2025-08-05T20:56:04.337458Z",
     "iopub.status.idle": "2025-08-05T20:56:04.350077Z",
     "shell.execute_reply": "2025-08-05T20:56:04.349229Z"
    },
    "papermill": {
     "duration": 0.026182,
     "end_time": "2025-08-05T20:56:04.351466",
     "exception": false,
     "start_time": "2025-08-05T20:56:04.325284",
     "status": "completed"
    },
    "tags": []
   },
   "outputs": [
    {
     "data": {
      "text/html": [
       "<div>\n",
       "<style scoped>\n",
       "    .dataframe tbody tr th:only-of-type {\n",
       "        vertical-align: middle;\n",
       "    }\n",
       "\n",
       "    .dataframe tbody tr th {\n",
       "        vertical-align: top;\n",
       "    }\n",
       "\n",
       "    .dataframe thead th {\n",
       "        text-align: right;\n",
       "    }\n",
       "</style>\n",
       "<table border=\"1\" class=\"dataframe\">\n",
       "  <thead>\n",
       "    <tr style=\"text-align: right;\">\n",
       "      <th></th>\n",
       "      <th>accuracy</th>\n",
       "      <th>balanced accuracy</th>\n",
       "      <th>f1</th>\n",
       "      <th>precision</th>\n",
       "      <th>false positive rate</th>\n",
       "      <th>false negative rate</th>\n",
       "      <th>selection rate</th>\n",
       "      <th>count</th>\n",
       "    </tr>\n",
       "    <tr>\n",
       "      <th>majmin</th>\n",
       "      <th></th>\n",
       "      <th></th>\n",
       "      <th></th>\n",
       "      <th></th>\n",
       "      <th></th>\n",
       "      <th></th>\n",
       "      <th></th>\n",
       "      <th></th>\n",
       "    </tr>\n",
       "  </thead>\n",
       "  <tbody>\n",
       "    <tr>\n",
       "      <th>majority</th>\n",
       "      <td>0.246350</td>\n",
       "      <td>0.560514</td>\n",
       "      <td>0.257217</td>\n",
       "      <td>0.147865</td>\n",
       "      <td>0.8665</td>\n",
       "      <td>0.012473</td>\n",
       "      <td>0.882492</td>\n",
       "      <td>69170.0</td>\n",
       "    </tr>\n",
       "    <tr>\n",
       "      <th>minority</th>\n",
       "      <td>0.154576</td>\n",
       "      <td>0.518899</td>\n",
       "      <td>0.213007</td>\n",
       "      <td>0.119308</td>\n",
       "      <td>0.9546</td>\n",
       "      <td>0.007601</td>\n",
       "      <td>0.958958</td>\n",
       "      <td>20540.0</td>\n",
       "    </tr>\n",
       "  </tbody>\n",
       "</table>\n",
       "</div>"
      ],
      "text/plain": [
       "          accuracy  balanced accuracy        f1  precision  \\\n",
       "majmin                                                       \n",
       "majority  0.246350           0.560514  0.257217   0.147865   \n",
       "minority  0.154576           0.518899  0.213007   0.119308   \n",
       "\n",
       "          false positive rate  false negative rate  selection rate    count  \n",
       "majmin                                                                       \n",
       "majority               0.8665             0.012473        0.882492  69170.0  \n",
       "minority               0.9546             0.007601        0.958958  20540.0  "
      ]
     },
     "execution_count": 62,
     "metadata": {},
     "output_type": "execute_result"
    }
   ],
   "source": [
    "metric_frame.by_group"
   ]
  },
  {
   "cell_type": "code",
   "execution_count": 63,
   "id": "a9ddbe63",
   "metadata": {
    "execution": {
     "iopub.execute_input": "2025-08-05T20:56:04.377442Z",
     "iopub.status.busy": "2025-08-05T20:56:04.376807Z",
     "iopub.status.idle": "2025-08-05T20:56:06.202605Z",
     "shell.execute_reply": "2025-08-05T20:56:06.201681Z"
    },
    "papermill": {
     "duration": 1.839789,
     "end_time": "2025-08-05T20:56:06.204213",
     "exception": false,
     "start_time": "2025-08-05T20:56:04.364424",
     "status": "completed"
    },
    "tags": []
   },
   "outputs": [
    {
     "data": {
      "text/plain": [
       "array([[<Axes: title={'center': 'accuracy'}, xlabel='majmin'>,\n",
       "        <Axes: title={'center': 'balanced accuracy'}, xlabel='majmin'>,\n",
       "        <Axes: title={'center': 'f1'}, xlabel='majmin'>],\n",
       "       [<Axes: title={'center': 'precision'}, xlabel='majmin'>,\n",
       "        <Axes: title={'center': 'false positive rate'}, xlabel='majmin'>,\n",
       "        <Axes: title={'center': 'false negative rate'}, xlabel='majmin'>],\n",
       "       [<Axes: title={'center': 'selection rate'}, xlabel='majmin'>,\n",
       "        <Axes: title={'center': 'count'}, xlabel='majmin'>,\n",
       "        <Axes: xlabel='majmin'>]], dtype=object)"
      ]
     },
     "execution_count": 63,
     "metadata": {},
     "output_type": "execute_result"
    },
    {
     "data": {
      "image/png": "[encoded data removed]",
      "text/plain": [
       "<Figure size 1200x800 with 9 Axes>"
      ]
     },
     "metadata": {},
     "output_type": "display_data"
    }
   ],
   "source": [
    "# In a graphic\n",
    "metric_frame.by_group.plot.bar(\n",
    "    subplots=True,\n",
    "    layout=[3, 3],\n",
    "    legend=False,\n",
    "    figsize=[12, 8],\n",
    "    title=\"Show all metrics\",\n",
    ")"
   ]
  },
  {
   "cell_type": "markdown",
   "id": "f57a0bac",
   "metadata": {
    "papermill": {
     "duration": 0.027226,
     "end_time": "2025-08-05T20:56:06.258107",
     "exception": false,
     "start_time": "2025-08-05T20:56:06.230881",
     "status": "completed"
    },
    "tags": []
   },
   "source": [
    "# Final Output"
   ]
  },
  {
   "cell_type": "code",
   "execution_count": 64,
   "id": "96d280a3",
   "metadata": {
    "execution": {
     "iopub.execute_input": "2025-08-05T20:56:06.315212Z",
     "iopub.status.busy": "2025-08-05T20:56:06.314562Z",
     "iopub.status.idle": "2025-08-05T20:56:06.322868Z",
     "shell.execute_reply": "2025-08-05T20:56:06.321935Z"
    },
    "papermill": {
     "duration": 0.038232,
     "end_time": "2025-08-05T20:56:06.324578",
     "exception": false,
     "start_time": "2025-08-05T20:56:06.286346",
     "status": "completed"
    },
    "tags": []
   },
   "outputs": [
    {
     "data": {
      "text/plain": [
       "4"
      ]
     },
     "execution_count": 64,
     "metadata": {},
     "output_type": "execute_result"
    }
   ],
   "source": [
    "sub_universes = universe_analysis.generate_sub_universes()\n",
    "len(sub_universes)"
   ]
  },
  {
   "cell_type": "code",
   "execution_count": 65,
   "id": "92adf7ba",
   "metadata": {
    "execution": {
     "iopub.execute_input": "2025-08-05T20:56:06.378105Z",
     "iopub.status.busy": "2025-08-05T20:56:06.377442Z",
     "iopub.status.idle": "2025-08-05T20:56:06.383520Z",
     "shell.execute_reply": "2025-08-05T20:56:06.382649Z"
    },
    "papermill": {
     "duration": 0.034314,
     "end_time": "2025-08-05T20:56:06.385147",
     "exception": false,
     "start_time": "2025-08-05T20:56:06.350833",
     "status": "completed"
    },
    "tags": []
   },
   "outputs": [],
   "source": [
    "def filter_sub_universe_data(sub_universe, org_test):\n",
    "    # Keep all rows — no filtering\n",
    "    keep_rows_mask = np.ones(org_test.shape[0], dtype=bool)\n",
    "\n",
    "    print(f\"[INFO] Keeping all rows: {keep_rows_mask.sum()} rows retained.\")\n",
    "    return keep_rows_mask"
   ]
  },
  {
   "cell_type": "code",
   "execution_count": 66,
   "id": "4a759155",
   "metadata": {
    "execution": {
     "iopub.execute_input": "2025-08-05T20:56:06.433367Z",
     "iopub.status.busy": "2025-08-05T20:56:06.432941Z",
     "iopub.status.idle": "2025-08-05T20:56:15.499141Z",
     "shell.execute_reply": "2025-08-05T20:56:15.498429Z"
    },
    "papermill": {
     "duration": 9.090772,
     "end_time": "2025-08-05T20:56:15.500389",
     "exception": false,
     "start_time": "2025-08-05T20:56:06.409617",
     "status": "completed"
    },
    "tags": []
   },
   "outputs": [
    {
     "name": "stdout",
     "output_type": "stream",
     "text": [
      "Stopping execution_time clock.\n",
      "[INFO] Keeping all rows: 89710 rows retained.\n"
     ]
    },
    {
     "name": "stdout",
     "output_type": "stream",
     "text": [
      "[INFO] Keeping all rows: 89710 rows retained.\n"
     ]
    },
    {
     "name": "stdout",
     "output_type": "stream",
     "text": [
      "[INFO] Keeping all rows: 89710 rows retained.\n"
     ]
    },
    {
     "name": "stdout",
     "output_type": "stream",
     "text": [
      "[INFO] Keeping all rows: 89710 rows retained.\n"
     ]
    },
    {
     "data": {
      "text/html": [
       "<div>\n",
       "<style scoped>\n",
       "    .dataframe tbody tr th:only-of-type {\n",
       "        vertical-align: middle;\n",
       "    }\n",
       "\n",
       "    .dataframe tbody tr th {\n",
       "        vertical-align: top;\n",
       "    }\n",
       "\n",
       "    .dataframe thead th {\n",
       "        text-align: right;\n",
       "    }\n",
       "</style>\n",
       "<table border=\"1\" class=\"dataframe\">\n",
       "  <thead>\n",
       "    <tr style=\"text-align: right;\">\n",
       "      <th></th>\n",
       "      <th>run_no</th>\n",
       "      <th>universe_id</th>\n",
       "      <th>universe_settings</th>\n",
       "      <th>execution_time</th>\n",
       "      <th>test_size_n</th>\n",
       "      <th>test_size_frac</th>\n",
       "      <th>fair_main_equalized_odds_difference</th>\n",
       "      <th>fair_main_equalized_odds_ratio</th>\n",
       "      <th>fair_main_demographic_parity_difference</th>\n",
       "      <th>fair_main_demographic_parity_ratio</th>\n",
       "      <th>...</th>\n",
       "      <th>perf_grp_precision_0</th>\n",
       "      <th>perf_grp_precision_1</th>\n",
       "      <th>perf_grp_false positive rate_0</th>\n",
       "      <th>perf_grp_false positive rate_1</th>\n",
       "      <th>perf_grp_false negative rate_0</th>\n",
       "      <th>perf_grp_false negative rate_1</th>\n",
       "      <th>perf_grp_selection rate_0</th>\n",
       "      <th>perf_grp_selection rate_1</th>\n",
       "      <th>perf_grp_count_0</th>\n",
       "      <th>perf_grp_count_1</th>\n",
       "    </tr>\n",
       "  </thead>\n",
       "  <tbody>\n",
       "    <tr>\n",
       "      <th>0</th>\n",
       "      <td>16</td>\n",
       "      <td>1037b4bfd65ba52d69eedc2d62fcb827</td>\n",
       "      <td>{\"cutoff\": \"quantile_0.1\", \"eval_fairness_grou...</td>\n",
       "      <td>28.695059</td>\n",
       "      <td>89710</td>\n",
       "      <td>1.0</td>\n",
       "      <td>0.08810</td>\n",
       "      <td>0.907710</td>\n",
       "      <td>0.076466</td>\n",
       "      <td>0.920262</td>\n",
       "      <td>...</td>\n",
       "      <td>NaN</td>\n",
       "      <td>NaN</td>\n",
       "      <td>NaN</td>\n",
       "      <td>NaN</td>\n",
       "      <td>NaN</td>\n",
       "      <td>NaN</td>\n",
       "      <td>NaN</td>\n",
       "      <td>NaN</td>\n",
       "      <td>NaN</td>\n",
       "      <td>NaN</td>\n",
       "    </tr>\n",
       "    <tr>\n",
       "      <th>0</th>\n",
       "      <td>16</td>\n",
       "      <td>1037b4bfd65ba52d69eedc2d62fcb827</td>\n",
       "      <td>{\"cutoff\": \"quantile_0.1\", \"eval_fairness_grou...</td>\n",
       "      <td>28.695059</td>\n",
       "      <td>89710</td>\n",
       "      <td>1.0</td>\n",
       "      <td>0.08810</td>\n",
       "      <td>0.907710</td>\n",
       "      <td>0.076466</td>\n",
       "      <td>0.920262</td>\n",
       "      <td>...</td>\n",
       "      <td>0.119308</td>\n",
       "      <td>0.147865</td>\n",
       "      <td>0.954600</td>\n",
       "      <td>0.866500</td>\n",
       "      <td>0.007601</td>\n",
       "      <td>0.012473</td>\n",
       "      <td>0.958958</td>\n",
       "      <td>0.882492</td>\n",
       "      <td>20540.0</td>\n",
       "      <td>69170.0</td>\n",
       "    </tr>\n",
       "    <tr>\n",
       "      <th>0</th>\n",
       "      <td>16</td>\n",
       "      <td>1037b4bfd65ba52d69eedc2d62fcb827</td>\n",
       "      <td>{\"cutoff\": \"quantile_0.25\", \"eval_fairness_gro...</td>\n",
       "      <td>28.695059</td>\n",
       "      <td>89710</td>\n",
       "      <td>1.0</td>\n",
       "      <td>0.10333</td>\n",
       "      <td>0.870858</td>\n",
       "      <td>0.084555</td>\n",
       "      <td>0.896275</td>\n",
       "      <td>...</td>\n",
       "      <td>NaN</td>\n",
       "      <td>NaN</td>\n",
       "      <td>NaN</td>\n",
       "      <td>NaN</td>\n",
       "      <td>NaN</td>\n",
       "      <td>NaN</td>\n",
       "      <td>NaN</td>\n",
       "      <td>NaN</td>\n",
       "      <td>NaN</td>\n",
       "      <td>NaN</td>\n",
       "    </tr>\n",
       "    <tr>\n",
       "      <th>0</th>\n",
       "      <td>16</td>\n",
       "      <td>1037b4bfd65ba52d69eedc2d62fcb827</td>\n",
       "      <td>{\"cutoff\": \"quantile_0.25\", \"eval_fairness_gro...</td>\n",
       "      <td>28.695059</td>\n",
       "      <td>89710</td>\n",
       "      <td>1.0</td>\n",
       "      <td>0.10333</td>\n",
       "      <td>0.870858</td>\n",
       "      <td>0.084555</td>\n",
       "      <td>0.896275</td>\n",
       "      <td>...</td>\n",
       "      <td>0.131629</td>\n",
       "      <td>0.172326</td>\n",
       "      <td>0.800132</td>\n",
       "      <td>0.696802</td>\n",
       "      <td>0.069257</td>\n",
       "      <td>0.047155</td>\n",
       "      <td>0.815190</td>\n",
       "      <td>0.730635</td>\n",
       "      <td>20540.0</td>\n",
       "      <td>69170.0</td>\n",
       "    </tr>\n",
       "  </tbody>\n",
       "</table>\n",
       "<p>4 rows × 50 columns</p>\n",
       "</div>"
      ],
      "text/plain": [
       "  run_no                       universe_id  \\\n",
       "0     16  1037b4bfd65ba52d69eedc2d62fcb827   \n",
       "0     16  1037b4bfd65ba52d69eedc2d62fcb827   \n",
       "0     16  1037b4bfd65ba52d69eedc2d62fcb827   \n",
       "0     16  1037b4bfd65ba52d69eedc2d62fcb827   \n",
       "\n",
       "                                   universe_settings  execution_time  \\\n",
       "0  {\"cutoff\": \"quantile_0.1\", \"eval_fairness_grou...       28.695059   \n",
       "0  {\"cutoff\": \"quantile_0.1\", \"eval_fairness_grou...       28.695059   \n",
       "0  {\"cutoff\": \"quantile_0.25\", \"eval_fairness_gro...       28.695059   \n",
       "0  {\"cutoff\": \"quantile_0.25\", \"eval_fairness_gro...       28.695059   \n",
       "\n",
       "   test_size_n  test_size_frac  fair_main_equalized_odds_difference  \\\n",
       "0        89710             1.0                              0.08810   \n",
       "0        89710             1.0                              0.08810   \n",
       "0        89710             1.0                              0.10333   \n",
       "0        89710             1.0                              0.10333   \n",
       "\n",
       "   fair_main_equalized_odds_ratio  fair_main_demographic_parity_difference  \\\n",
       "0                        0.907710                                 0.076466   \n",
       "0                        0.907710                                 0.076466   \n",
       "0                        0.870858                                 0.084555   \n",
       "0                        0.870858                                 0.084555   \n",
       "\n",
       "   fair_main_demographic_parity_ratio  ...  perf_grp_precision_0  \\\n",
       "0                            0.920262  ...                   NaN   \n",
       "0                            0.920262  ...              0.119308   \n",
       "0                            0.896275  ...                   NaN   \n",
       "0                            0.896275  ...              0.131629   \n",
       "\n",
       "   perf_grp_precision_1  perf_grp_false positive rate_0  \\\n",
       "0                   NaN                             NaN   \n",
       "0              0.147865                        0.954600   \n",
       "0                   NaN                             NaN   \n",
       "0              0.172326                        0.800132   \n",
       "\n",
       "   perf_grp_false positive rate_1  perf_grp_false negative rate_0  \\\n",
       "0                             NaN                             NaN   \n",
       "0                        0.866500                        0.007601   \n",
       "0                             NaN                             NaN   \n",
       "0                        0.696802                        0.069257   \n",
       "\n",
       "   perf_grp_false negative rate_1  perf_grp_selection rate_0  \\\n",
       "0                             NaN                        NaN   \n",
       "0                        0.012473                   0.958958   \n",
       "0                             NaN                        NaN   \n",
       "0                        0.047155                   0.815190   \n",
       "\n",
       "   perf_grp_selection rate_1  perf_grp_count_0  perf_grp_count_1  \n",
       "0                        NaN               NaN               NaN  \n",
       "0                   0.882492           20540.0           69170.0  \n",
       "0                        NaN               NaN               NaN  \n",
       "0                   0.730635           20540.0           69170.0  \n",
       "\n",
       "[4 rows x 50 columns]"
      ]
     },
     "execution_count": 66,
     "metadata": {},
     "output_type": "execute_result"
    }
   ],
   "source": [
    "final_output = universe_analysis.generate_final_output(\n",
    "    y_pred_prob=probs_test,\n",
    "    y_test=y_true,\n",
    "    org_test=org_test,\n",
    "    filter_data=filter_sub_universe_data,\n",
    "    cp_metrics_df=cp_metrics_df,\n",
    "    save=True,\n",
    ")\n",
    "final_output"
   ]
  }
 ],
 "metadata": {
  "celltoolbar": "Tags",
  "kernelspec": {
   "display_name": "Python (CMA Fairness)",
   "language": "python",
   "name": "cma_fair_env"
  },
  "language_info": {
   "codemirror_mode": {
    "name": "ipython",
    "version": 3
   },
   "file_extension": ".py",
   "mimetype": "text/x-python",
   "name": "python",
   "nbconvert_exporter": "python",
   "pygments_lexer": "ipython3",
   "version": "3.10.12"
  },
  "papermill": {
   "default_parameters": {},
   "duration": 41.670814,
   "end_time": "2025-08-05T20:56:16.241313",
   "environment_variables": {},
   "exception": null,
   "input_path": "universe_analysis.ipynb",
   "output_path": "output/runs/16/notebooks/m_16-1037b4bfd65ba52d69eedc2d62fcb827.ipynb",
   "parameters": {
    "output_dir": "output",
    "run_no": "16",
    "seed": "2023",
    "universe": "{\"cutoff\": [\"quantile_0.1\", \"quantile_0.25\"], \"eval_fairness_grouping\": [\"majority-minority\", \"nationality-all\"], \"exclude_features\": \"nationality\", \"exclude_subgroups\": \"drop-non-german\", \"model\": \"elasticnet\", \"scale\": \"scale\", \"training_size\": \"25k\", \"training_year\": \"2012_14\"}",
    "universe_id": "1037b4bfd65ba52d69eedc2d62fcb827"
   },
   "start_time": "2025-08-05T20:55:34.570499",
   "version": "2.6.0"
  }
 },
 "nbformat": 4,
 "nbformat_minor": 5
}