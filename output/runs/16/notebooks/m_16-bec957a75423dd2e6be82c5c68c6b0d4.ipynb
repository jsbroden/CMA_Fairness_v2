{
 "cells": [
  {
   "cell_type": "code",
   "execution_count": 1,
   "id": "f159f837-637b-42ba-96b5-ec9a68c44524",
   "metadata": {
    "execution": {
     "iopub.execute_input": "2025-08-05T20:45:09.474607Z",
     "iopub.status.busy": "2025-08-05T20:45:09.474153Z",
     "iopub.status.idle": "2025-08-05T20:45:09.486453Z",
     "shell.execute_reply": "2025-08-05T20:45:09.485553Z"
    },
    "papermill": {
     "duration": 0.0318,
     "end_time": "2025-08-05T20:45:09.488010",
     "exception": false,
     "start_time": "2025-08-05T20:45:09.456210",
     "status": "completed"
    },
    "tags": []
   },
   "outputs": [
    {
     "name": "stdout",
     "output_type": "stream",
     "text": [
      "/dss/dsshome1/0C/ra93lal2/cma/CMA_Fairness_v2\n"
     ]
    },
    {
     "name": "stderr",
     "output_type": "stream",
     "text": [
      "/dss/dsshome1/0C/ra93lal2/.local/share/virtualenvs/CMA_Fairness_v2-3j10GkSs/lib/python3.10/site-packages/IPython/core/magics/osm.py:393: UserWarning: This is now an optional IPython functionality, using bookmarks requires you to install the `pickleshare` library.\n",
      "  bkms = self.shell.db.get('bookmarks', {})\n",
      "/dss/dsshome1/0C/ra93lal2/.local/share/virtualenvs/CMA_Fairness_v2-3j10GkSs/lib/python3.10/site-packages/IPython/core/magics/osm.py:417: UserWarning: This is now an optional IPython functionality, setting dhist requires you to install the `pickleshare` library.\n",
      "  self.shell.db['dhist'] = compress_dhist(dhist)[-100:]\n"
     ]
    }
   ],
   "source": [
    "%cd ~/cma/CMA_Fairness_v2"
   ]
  },
  {
   "cell_type": "markdown",
   "id": "de2603b9",
   "metadata": {
    "papermill": {
     "duration": 0.014491,
     "end_time": "2025-08-05T20:45:09.517734",
     "exception": false,
     "start_time": "2025-08-05T20:45:09.503243",
     "status": "completed"
    },
    "tags": []
   },
   "source": [
    "The following cell holds the definition of our parameters, these values can be overriden by rendering the with e.g. the following command:\n",
    "\n",
    "papermill -p alpha 0.2 -p ratio 0.3 universe_analysis.ipynb output/test_run.ipynb"
   ]
  },
  {
   "cell_type": "code",
   "execution_count": 2,
   "id": "a80968a0-40bb-4fa9-85ef-2d5eefb01975",
   "metadata": {
    "execution": {
     "iopub.execute_input": "2025-08-05T20:45:09.549309Z",
     "iopub.status.busy": "2025-08-05T20:45:09.548768Z",
     "iopub.status.idle": "2025-08-05T20:45:09.553604Z",
     "shell.execute_reply": "2025-08-05T20:45:09.552653Z"
    },
    "papermill": {
     "duration": 0.022809,
     "end_time": "2025-08-05T20:45:09.555151",
     "exception": false,
     "start_time": "2025-08-05T20:45:09.532342",
     "status": "completed"
    },
    "tags": []
   },
   "outputs": [
    {
     "name": "stdout",
     "output_type": "stream",
     "text": [
      "Current working directory: /dss/dsshome1/0C/ra93lal2/cma/CMA_Fairness_v2\n"
     ]
    }
   ],
   "source": [
    "import os\n",
    "print(\"Current working directory:\", os.getcwd())"
   ]
  },
  {
   "cell_type": "code",
   "execution_count": 3,
   "id": "2dce4c03",
   "metadata": {
    "execution": {
     "iopub.execute_input": "2025-08-05T20:45:09.587067Z",
     "iopub.status.busy": "2025-08-05T20:45:09.586475Z",
     "iopub.status.idle": "2025-08-05T20:45:09.592241Z",
     "shell.execute_reply": "2025-08-05T20:45:09.591291Z"
    },
    "papermill": {
     "duration": 0.022994,
     "end_time": "2025-08-05T20:45:09.593888",
     "exception": false,
     "start_time": "2025-08-05T20:45:09.570894",
     "status": "completed"
    },
    "tags": [
     "parameters"
    ]
   },
   "outputs": [],
   "source": [
    "run_no = 0\n",
    "universe_id = \"test\"\n",
    "universe = {\n",
    "    \"training_size\": \"25k\", # \"25k\", \"5k\", \"1k\"\n",
    "    \"training_year\": \"2014\", # \"2014\", \"2012_14\", \"2010_14\"\n",
    "    \"scale\": \"scale\", # \"scale\", \"do-not-scale\",\n",
    "    \"model\": \"elasticnet\", # \"logreg\", \"penalized_logreg\", \"rf\", \"gbm\", \"elasticnet\"\n",
    "    \"cutoff\": [\"quantile_0.15\", \"quantile_0.30\"],\n",
    "    \"exclude_features\": \"age\", # \"none\", \"nationality\", \"sex\", \"nationality-sex\", \"age\"\n",
    "    \"exclude_subgroups\": \"keep-all\", # \"keep-all\", \"drop-non-german\"\n",
    "    \"eval_fairness_grouping\": [\"majority-minority\", \"nationality-all\"]\n",
    "}\n",
    "\n",
    "output_dir=\"./output\"\n",
    "seed=0"
   ]
  },
  {
   "cell_type": "code",
   "execution_count": 4,
   "id": "3f013554",
   "metadata": {
    "execution": {
     "iopub.execute_input": "2025-08-05T20:45:09.626231Z",
     "iopub.status.busy": "2025-08-05T20:45:09.625640Z",
     "iopub.status.idle": "2025-08-05T20:45:09.630468Z",
     "shell.execute_reply": "2025-08-05T20:45:09.629456Z"
    },
    "papermill": {
     "duration": 0.022198,
     "end_time": "2025-08-05T20:45:09.631921",
     "exception": false,
     "start_time": "2025-08-05T20:45:09.609723",
     "status": "completed"
    },
    "tags": [
     "injected-parameters"
    ]
   },
   "outputs": [],
   "source": [
    "# Parameters\n",
    "universe_id = \"bec957a75423dd2e6be82c5c68c6b0d4\"\n",
    "run_no = \"16\"\n",
    "universe = \"{\\\"cutoff\\\": [\\\"quantile_0.1\\\", \\\"quantile_0.25\\\"], \\\"eval_fairness_grouping\\\": [\\\"majority-minority\\\", \\\"nationality-all\\\"], \\\"exclude_features\\\": \\\"none\\\", \\\"exclude_subgroups\\\": \\\"keep-all\\\", \\\"model\\\": \\\"gbm\\\", \\\"scale\\\": \\\"do-not-scale\\\", \\\"training_size\\\": \\\"25k\\\", \\\"training_year\\\": \\\"2014\\\"}\"\n",
    "output_dir = \"output\"\n",
    "seed = \"2023\"\n"
   ]
  },
  {
   "cell_type": "code",
   "execution_count": 5,
   "id": "1650acaf",
   "metadata": {
    "execution": {
     "iopub.execute_input": "2025-08-05T20:45:09.664094Z",
     "iopub.status.busy": "2025-08-05T20:45:09.663508Z",
     "iopub.status.idle": "2025-08-05T20:45:09.668065Z",
     "shell.execute_reply": "2025-08-05T20:45:09.667141Z"
    },
    "papermill": {
     "duration": 0.022081,
     "end_time": "2025-08-05T20:45:09.669730",
     "exception": false,
     "start_time": "2025-08-05T20:45:09.647649",
     "status": "completed"
    },
    "tags": []
   },
   "outputs": [],
   "source": [
    "import json\n",
    "if isinstance(universe, str):\n",
    "    universe = json.loads(universe)"
   ]
  },
  {
   "cell_type": "code",
   "execution_count": 6,
   "id": "16620c48",
   "metadata": {
    "execution": {
     "iopub.execute_input": "2025-08-05T20:45:09.701475Z",
     "iopub.status.busy": "2025-08-05T20:45:09.700794Z",
     "iopub.status.idle": "2025-08-05T20:45:09.744068Z",
     "shell.execute_reply": "2025-08-05T20:45:09.742925Z"
    },
    "papermill": {
     "duration": 0.061513,
     "end_time": "2025-08-05T20:45:09.746625",
     "exception": false,
     "start_time": "2025-08-05T20:45:09.685112",
     "status": "completed"
    },
    "tags": []
   },
   "outputs": [],
   "source": [
    "# Auto-reload the custom package\n",
    "%load_ext autoreload\n",
    "%autoreload 1\n",
    "%aimport fairness_multiverse"
   ]
  },
  {
   "cell_type": "code",
   "execution_count": 7,
   "id": "01c5c9f3",
   "metadata": {
    "execution": {
     "iopub.execute_input": "2025-08-05T20:45:09.785638Z",
     "iopub.status.busy": "2025-08-05T20:45:09.785174Z",
     "iopub.status.idle": "2025-08-05T20:45:11.603157Z",
     "shell.execute_reply": "2025-08-05T20:45:11.602048Z"
    },
    "papermill": {
     "duration": 1.838032,
     "end_time": "2025-08-05T20:45:11.605271",
     "exception": false,
     "start_time": "2025-08-05T20:45:09.767239",
     "status": "completed"
    },
    "tags": []
   },
   "outputs": [],
   "source": [
    "from fairness_multiverse.universe import UniverseAnalysis\n",
    "\n",
    "universe_analysis = UniverseAnalysis(\n",
    "    run_no = run_no,\n",
    "    universe_id = universe_id,\n",
    "    universe = universe,\n",
    "    output_dir=output_dir,\n",
    ")"
   ]
  },
  {
   "cell_type": "code",
   "execution_count": 8,
   "id": "106241f5",
   "metadata": {
    "execution": {
     "iopub.execute_input": "2025-08-05T20:45:11.644600Z",
     "iopub.status.busy": "2025-08-05T20:45:11.644165Z",
     "iopub.status.idle": "2025-08-05T20:45:11.650921Z",
     "shell.execute_reply": "2025-08-05T20:45:11.649906Z"
    },
    "papermill": {
     "duration": 0.027955,
     "end_time": "2025-08-05T20:45:11.652670",
     "exception": false,
     "start_time": "2025-08-05T20:45:11.624715",
     "status": "completed"
    },
    "tags": []
   },
   "outputs": [
    {
     "name": "stdout",
     "output_type": "stream",
     "text": [
      "Using Seed: 2023\n"
     ]
    }
   ],
   "source": [
    "import numpy as np\n",
    "parsed_seed = int(seed)\n",
    "np.random.seed(parsed_seed)\n",
    "print(f\"Using Seed: {parsed_seed}\")"
   ]
  },
  {
   "cell_type": "markdown",
   "id": "e0ebdc57",
   "metadata": {
    "papermill": {
     "duration": 0.010048,
     "end_time": "2025-08-05T20:45:11.677679",
     "exception": false,
     "start_time": "2025-08-05T20:45:11.667631",
     "status": "completed"
    },
    "tags": []
   },
   "source": [
    "# Loading Data"
   ]
  },
  {
   "cell_type": "code",
   "execution_count": 9,
   "id": "f0496b8a",
   "metadata": {
    "execution": {
     "iopub.execute_input": "2025-08-05T20:45:11.715074Z",
     "iopub.status.busy": "2025-08-05T20:45:11.714629Z",
     "iopub.status.idle": "2025-08-05T20:45:22.236616Z",
     "shell.execute_reply": "2025-08-05T20:45:22.235608Z"
    },
    "papermill": {
     "duration": 10.542246,
     "end_time": "2025-08-05T20:45:22.238014",
     "exception": false,
     "start_time": "2025-08-05T20:45:11.695768",
     "status": "completed"
    },
    "tags": []
   },
   "outputs": [
    {
     "name": "stdout",
     "output_type": "stream",
     "text": [
      "Loading SIAB data from cache: data/siab_cached.csv.gz\n"
     ]
    },
    {
     "name": "stdout",
     "output_type": "stream",
     "text": [
      "(643690, 164)\n"
     ]
    }
   ],
   "source": [
    "from pathlib import Path\n",
    "import pandas as pd\n",
    "\n",
    "# File paths\n",
    "raw_file = Path(\"data/raw/siab.csv\")\n",
    "cache_file = Path(\"data/siab_cached.csv.gz\")\n",
    "\n",
    "# Ensure cache directory exists\n",
    "cache_file.parent.mkdir(parents=True, exist_ok=True)\n",
    "\n",
    "# Load with simple caching\n",
    "if cache_file.exists():\n",
    "    print(f\"Loading SIAB data from cache: {cache_file}\")\n",
    "    siab = pd.read_csv(cache_file, compression='gzip')\n",
    "else:\n",
    "    print(f\"Cache not found. Reading raw SIAB data: {raw_file}\")\n",
    "    siab = pd.read_csv(raw_file)\n",
    "    siab.to_csv(cache_file, index=False, compression='gzip')\n",
    "    print(f\"Cached SIAB data to: {cache_file}\")\n",
    "\n",
    "print(siab.shape)"
   ]
  },
  {
   "cell_type": "code",
   "execution_count": 10,
   "id": "db0ca512-5f53-4dba-abdb-a2888bca41ba",
   "metadata": {
    "execution": {
     "iopub.execute_input": "2025-08-05T20:45:22.260832Z",
     "iopub.status.busy": "2025-08-05T20:45:22.260175Z",
     "iopub.status.idle": "2025-08-05T20:45:22.264973Z",
     "shell.execute_reply": "2025-08-05T20:45:22.264072Z"
    },
    "papermill": {
     "duration": 0.016109,
     "end_time": "2025-08-05T20:45:22.266357",
     "exception": false,
     "start_time": "2025-08-05T20:45:22.250248",
     "status": "completed"
    },
    "tags": []
   },
   "outputs": [],
   "source": [
    "#siab"
   ]
  },
  {
   "cell_type": "markdown",
   "id": "997051c5-15bd-4b69-9786-c3001a3ce484",
   "metadata": {
    "papermill": {
     "duration": 0.008934,
     "end_time": "2025-08-05T20:45:22.285036",
     "exception": false,
     "start_time": "2025-08-05T20:45:22.276102",
     "status": "completed"
    },
    "tags": []
   },
   "source": [
    "# Splitting Data and Setting Training Data Size"
   ]
  },
  {
   "cell_type": "code",
   "execution_count": 11,
   "id": "aea9c6ef-6f46-42c8-85eb-5a62025c1508",
   "metadata": {
    "execution": {
     "iopub.execute_input": "2025-08-05T20:45:22.304149Z",
     "iopub.status.busy": "2025-08-05T20:45:22.303505Z",
     "iopub.status.idle": "2025-08-05T20:45:22.537006Z",
     "shell.execute_reply": "2025-08-05T20:45:22.536217Z"
    },
    "papermill": {
     "duration": 0.244673,
     "end_time": "2025-08-05T20:45:22.538486",
     "exception": false,
     "start_time": "2025-08-05T20:45:22.293813",
     "status": "completed"
    },
    "tags": []
   },
   "outputs": [],
   "source": [
    "from fairness_multiverse.universe import sample_by_year_size\n",
    "\n",
    "siab_train = sample_by_year_size(siab,\n",
    "                               training_year=universe[\"training_year\"],\n",
    "                               training_size=universe[\"training_size\"])"
   ]
  },
  {
   "cell_type": "code",
   "execution_count": 12,
   "id": "8d3afb32-789d-442c-8d5d-9f5aa8dd2eed",
   "metadata": {
    "execution": {
     "iopub.execute_input": "2025-08-05T20:45:22.558057Z",
     "iopub.status.busy": "2025-08-05T20:45:22.557688Z",
     "iopub.status.idle": "2025-08-05T20:45:22.562003Z",
     "shell.execute_reply": "2025-08-05T20:45:22.561255Z"
    },
    "papermill": {
     "duration": 0.015591,
     "end_time": "2025-08-05T20:45:22.563444",
     "exception": false,
     "start_time": "2025-08-05T20:45:22.547853",
     "status": "completed"
    },
    "tags": []
   },
   "outputs": [],
   "source": [
    "#siab_train.shape"
   ]
  },
  {
   "cell_type": "code",
   "execution_count": 13,
   "id": "d582db68-1a4c-47fb-84fc-08518dc1975a",
   "metadata": {
    "execution": {
     "iopub.execute_input": "2025-08-05T20:45:22.583778Z",
     "iopub.status.busy": "2025-08-05T20:45:22.583089Z",
     "iopub.status.idle": "2025-08-05T20:45:22.587598Z",
     "shell.execute_reply": "2025-08-05T20:45:22.586836Z"
    },
    "papermill": {
     "duration": 0.015797,
     "end_time": "2025-08-05T20:45:22.589081",
     "exception": false,
     "start_time": "2025-08-05T20:45:22.573284",
     "status": "completed"
    },
    "tags": []
   },
   "outputs": [],
   "source": [
    "#display(siab_train.groupby(\"year\").size())"
   ]
  },
  {
   "cell_type": "code",
   "execution_count": 14,
   "id": "a561edb4-d032-42cb-8256-22eac1111c64",
   "metadata": {
    "execution": {
     "iopub.execute_input": "2025-08-05T20:45:22.609017Z",
     "iopub.status.busy": "2025-08-05T20:45:22.608680Z",
     "iopub.status.idle": "2025-08-05T20:45:22.813379Z",
     "shell.execute_reply": "2025-08-05T20:45:22.812609Z"
    },
    "papermill": {
     "duration": 0.215742,
     "end_time": "2025-08-05T20:45:22.814879",
     "exception": false,
     "start_time": "2025-08-05T20:45:22.599137",
     "status": "completed"
    },
    "tags": []
   },
   "outputs": [],
   "source": [
    "#siab_train = siab_s[siab_s.year < 2015]\n",
    "siab_calib = siab[siab.year == 2015]\n",
    "siab_test = siab[siab.year == 2016]"
   ]
  },
  {
   "cell_type": "code",
   "execution_count": 15,
   "id": "472de16f-c3db-4916-846b-1f0de9cf1746",
   "metadata": {
    "execution": {
     "iopub.execute_input": "2025-08-05T20:45:22.836795Z",
     "iopub.status.busy": "2025-08-05T20:45:22.836445Z",
     "iopub.status.idle": "2025-08-05T20:45:22.849195Z",
     "shell.execute_reply": "2025-08-05T20:45:22.848191Z"
    },
    "papermill": {
     "duration": 0.024271,
     "end_time": "2025-08-05T20:45:22.850780",
     "exception": false,
     "start_time": "2025-08-05T20:45:22.826509",
     "status": "completed"
    },
    "tags": []
   },
   "outputs": [],
   "source": [
    "X_train = siab_train.iloc[:,4:164]\n",
    "y_train = siab_train.iloc[:, [3]]"
   ]
  },
  {
   "cell_type": "code",
   "execution_count": 16,
   "id": "828c96af-f43a-4ed6-ba47-8ac73a47d56c",
   "metadata": {
    "execution": {
     "iopub.execute_input": "2025-08-05T20:45:22.870879Z",
     "iopub.status.busy": "2025-08-05T20:45:22.870535Z",
     "iopub.status.idle": "2025-08-05T20:45:22.918402Z",
     "shell.execute_reply": "2025-08-05T20:45:22.917488Z"
    },
    "papermill": {
     "duration": 0.059046,
     "end_time": "2025-08-05T20:45:22.919758",
     "exception": false,
     "start_time": "2025-08-05T20:45:22.860712",
     "status": "completed"
    },
    "tags": []
   },
   "outputs": [],
   "source": [
    "X_calib = siab_calib.iloc[:,4:164]\n",
    "y_calib = siab_calib.iloc[:, [3]]"
   ]
  },
  {
   "cell_type": "code",
   "execution_count": 17,
   "id": "c34be9c3-6bd6-476e-acd3-845840e303be",
   "metadata": {
    "execution": {
     "iopub.execute_input": "2025-08-05T20:45:22.950357Z",
     "iopub.status.busy": "2025-08-05T20:45:22.949958Z",
     "iopub.status.idle": "2025-08-05T20:45:23.001326Z",
     "shell.execute_reply": "2025-08-05T20:45:23.000109Z"
    },
    "papermill": {
     "duration": 0.072023,
     "end_time": "2025-08-05T20:45:23.003305",
     "exception": false,
     "start_time": "2025-08-05T20:45:22.931282",
     "status": "completed"
    },
    "tags": []
   },
   "outputs": [],
   "source": [
    "X_test = siab_test.iloc[:,4:164]\n",
    "y_true = siab_test.iloc[:, [3]]"
   ]
  },
  {
   "cell_type": "code",
   "execution_count": 18,
   "id": "e6c733c5",
   "metadata": {
    "execution": {
     "iopub.execute_input": "2025-08-05T20:45:23.041437Z",
     "iopub.status.busy": "2025-08-05T20:45:23.040818Z",
     "iopub.status.idle": "2025-08-05T20:45:23.137850Z",
     "shell.execute_reply": "2025-08-05T20:45:23.136732Z"
    },
    "papermill": {
     "duration": 0.117265,
     "end_time": "2025-08-05T20:45:23.139443",
     "exception": false,
     "start_time": "2025-08-05T20:45:23.022178",
     "status": "completed"
    },
    "tags": []
   },
   "outputs": [],
   "source": [
    "# Auxiliary data needed downstream in the pipeline\n",
    "\n",
    "org_train = X_train.copy()\n",
    "org_test = X_test.copy()\n",
    "org_calib = X_calib.copy()"
   ]
  },
  {
   "cell_type": "markdown",
   "id": "0a4a1b33",
   "metadata": {
    "papermill": {
     "duration": 0.023418,
     "end_time": "2025-08-05T20:45:23.182966",
     "exception": false,
     "start_time": "2025-08-05T20:45:23.159548",
     "status": "completed"
    },
    "tags": []
   },
   "source": [
    "# Preprocessing Data"
   ]
  },
  {
   "cell_type": "code",
   "execution_count": 19,
   "id": "ca879031",
   "metadata": {
    "execution": {
     "iopub.execute_input": "2025-08-05T20:45:23.233349Z",
     "iopub.status.busy": "2025-08-05T20:45:23.232580Z",
     "iopub.status.idle": "2025-08-05T20:45:23.239862Z",
     "shell.execute_reply": "2025-08-05T20:45:23.238594Z"
    },
    "papermill": {
     "duration": 0.033831,
     "end_time": "2025-08-05T20:45:23.241909",
     "exception": false,
     "start_time": "2025-08-05T20:45:23.208078",
     "status": "completed"
    },
    "tags": []
   },
   "outputs": [],
   "source": [
    "# EXCLUDE PROTECTED FEATURES\n",
    "# ----------------------\n",
    "# \"exclude_features\": \"none\", # \"nationality\", \"sex\", \"nationality-sex\"\n",
    "\n",
    "excluded_features = universe[\"exclude_features\"].split(\"-\") # split, e.g.: \"nationality-sex\" -> [\"nationality\", \"sex\"]\n",
    "excluded_features_dictionary = {\n",
    "    \"nationality\": [\"maxdeutsch1\", \"maxdeutsch.Missing.\"],\n",
    "    \"sex\": [\"frau1\"],\n",
    "    \"age\": [\"age\"],\n",
    "}"
   ]
  },
  {
   "cell_type": "code",
   "execution_count": 20,
   "id": "b745ac60",
   "metadata": {
    "execution": {
     "iopub.execute_input": "2025-08-05T20:45:23.282133Z",
     "iopub.status.busy": "2025-08-05T20:45:23.281063Z",
     "iopub.status.idle": "2025-08-05T20:45:23.287314Z",
     "shell.execute_reply": "2025-08-05T20:45:23.286314Z"
    },
    "papermill": {
     "duration": 0.028127,
     "end_time": "2025-08-05T20:45:23.289083",
     "exception": false,
     "start_time": "2025-08-05T20:45:23.260956",
     "status": "completed"
    },
    "tags": []
   },
   "outputs": [],
   "source": [
    "# Code nice names to column names\n",
    "\n",
    "excluded_features_columns = [\n",
    "    excluded_features_dictionary[f] for f in excluded_features if len(f) > 0 and f != \"none\"\n",
    "]"
   ]
  },
  {
   "cell_type": "code",
   "execution_count": 21,
   "id": "f84f73a2",
   "metadata": {
    "execution": {
     "iopub.execute_input": "2025-08-05T20:45:23.331764Z",
     "iopub.status.busy": "2025-08-05T20:45:23.330443Z",
     "iopub.status.idle": "2025-08-05T20:45:23.339336Z",
     "shell.execute_reply": "2025-08-05T20:45:23.337809Z"
    },
    "papermill": {
     "duration": 0.033243,
     "end_time": "2025-08-05T20:45:23.341856",
     "exception": false,
     "start_time": "2025-08-05T20:45:23.308613",
     "status": "completed"
    },
    "tags": []
   },
   "outputs": [],
   "source": [
    "from utils import flatten_once\n",
    "\n",
    "excluded_features_columns = flatten_once(excluded_features_columns)"
   ]
  },
  {
   "cell_type": "code",
   "execution_count": 22,
   "id": "884dea22",
   "metadata": {
    "execution": {
     "iopub.execute_input": "2025-08-05T20:45:23.385099Z",
     "iopub.status.busy": "2025-08-05T20:45:23.384322Z",
     "iopub.status.idle": "2025-08-05T20:45:23.390558Z",
     "shell.execute_reply": "2025-08-05T20:45:23.389401Z"
    },
    "papermill": {
     "duration": 0.028461,
     "end_time": "2025-08-05T20:45:23.392507",
     "exception": false,
     "start_time": "2025-08-05T20:45:23.364046",
     "status": "completed"
    },
    "tags": []
   },
   "outputs": [],
   "source": [
    "if len(excluded_features_columns) > 0:\n",
    "    print(f\"Dropping features: {excluded_features_columns}\")\n",
    "    X_train.drop(excluded_features_columns, axis=1, inplace=True)"
   ]
  },
  {
   "cell_type": "code",
   "execution_count": 23,
   "id": "95ab8b16",
   "metadata": {
    "execution": {
     "iopub.execute_input": "2025-08-05T20:45:23.432172Z",
     "iopub.status.busy": "2025-08-05T20:45:23.431401Z",
     "iopub.status.idle": "2025-08-05T20:45:23.437852Z",
     "shell.execute_reply": "2025-08-05T20:45:23.436691Z"
    },
    "papermill": {
     "duration": 0.028641,
     "end_time": "2025-08-05T20:45:23.439859",
     "exception": false,
     "start_time": "2025-08-05T20:45:23.411218",
     "status": "completed"
    },
    "tags": []
   },
   "outputs": [],
   "source": [
    "if len(excluded_features_columns) > 0:\n",
    "    print(f\"Dropping features: {excluded_features_columns}\")\n",
    "    X_test.drop(excluded_features_columns, axis=1, inplace=True)"
   ]
  },
  {
   "cell_type": "code",
   "execution_count": 24,
   "id": "1853aaf5-fb9f-46cb-a2b5-8ea4ae2237e4",
   "metadata": {
    "execution": {
     "iopub.execute_input": "2025-08-05T20:45:23.478170Z",
     "iopub.status.busy": "2025-08-05T20:45:23.476899Z",
     "iopub.status.idle": "2025-08-05T20:45:23.483743Z",
     "shell.execute_reply": "2025-08-05T20:45:23.482598Z"
    },
    "papermill": {
     "duration": 0.027827,
     "end_time": "2025-08-05T20:45:23.485839",
     "exception": false,
     "start_time": "2025-08-05T20:45:23.458012",
     "status": "completed"
    },
    "tags": []
   },
   "outputs": [],
   "source": [
    "if len(excluded_features_columns) > 0:\n",
    "    print(f\"Dropping features: {excluded_features_columns}\")\n",
    "    X_calib.drop(excluded_features_columns, axis=1, inplace=True)"
   ]
  },
  {
   "cell_type": "code",
   "execution_count": 25,
   "id": "76c4dc6d",
   "metadata": {
    "execution": {
     "iopub.execute_input": "2025-08-05T20:45:23.527636Z",
     "iopub.status.busy": "2025-08-05T20:45:23.526719Z",
     "iopub.status.idle": "2025-08-05T20:45:23.532510Z",
     "shell.execute_reply": "2025-08-05T20:45:23.531382Z"
    },
    "papermill": {
     "duration": 0.028806,
     "end_time": "2025-08-05T20:45:23.534714",
     "exception": false,
     "start_time": "2025-08-05T20:45:23.505908",
     "status": "completed"
    },
    "tags": []
   },
   "outputs": [],
   "source": [
    "# EXCLUDE CERTAIN SUBGROUPS\n",
    "# ----------------------\n",
    "\n",
    "mode = universe.get(\"exclude_subgroups\", \"keep-all\") \n",
    "# Fetches the exclude_subgroups setting from the universe dict.\n",
    "# Defaults to \"keep-all\" if the key is missing."
   ]
  },
  {
   "cell_type": "code",
   "execution_count": 26,
   "id": "21994072",
   "metadata": {
    "execution": {
     "iopub.execute_input": "2025-08-05T20:45:23.583673Z",
     "iopub.status.busy": "2025-08-05T20:45:23.582946Z",
     "iopub.status.idle": "2025-08-05T20:45:23.591957Z",
     "shell.execute_reply": "2025-08-05T20:45:23.590712Z"
    },
    "papermill": {
     "duration": 0.036334,
     "end_time": "2025-08-05T20:45:23.594268",
     "exception": false,
     "start_time": "2025-08-05T20:45:23.557934",
     "status": "completed"
    },
    "tags": []
   },
   "outputs": [],
   "source": [
    "if mode == \"keep-all\":\n",
    "    keep_mask = pd.Series(True, index=org_train.index)\n",
    "\n",
    "# org_train contains the original feature columns from features_org (in Simson)\n",
    "# features_org contains unprocessed features, for me X_train at beginning ???\n",
    "# For keep-all, creates a boolean Series (keep_mask) of all True, so no rows are removed.\n",
    "\n",
    "elif mode == \"drop-non-german\":\n",
    "    keep_mask = org_train[\"maxdeutsch1\"] == 1 # ??? what about missing values?\n",
    "\n",
    "else:\n",
    "    raise ValueError(f\"Unsupported mode for exclude_subgroups: {mode}\")"
   ]
  },
  {
   "cell_type": "code",
   "execution_count": 27,
   "id": "71651440",
   "metadata": {
    "execution": {
     "iopub.execute_input": "2025-08-05T20:45:23.644209Z",
     "iopub.status.busy": "2025-08-05T20:45:23.643452Z",
     "iopub.status.idle": "2025-08-05T20:45:23.651436Z",
     "shell.execute_reply": "2025-08-05T20:45:23.650184Z"
    },
    "papermill": {
     "duration": 0.03494,
     "end_time": "2025-08-05T20:45:23.653373",
     "exception": false,
     "start_time": "2025-08-05T20:45:23.618433",
     "status": "completed"
    },
    "tags": []
   },
   "outputs": [],
   "source": [
    "n_drop = (~keep_mask).sum() # Calculates how many rows are set to be dropped\n",
    "if n_drop > 0:\n",
    "    pct = n_drop / len(keep_mask) * 100\n",
    "    print(f\"Dropping {n_drop} rows ({pct:.2f}%) where mode='{mode}'\")"
   ]
  },
  {
   "cell_type": "code",
   "execution_count": 28,
   "id": "5fb8eee5",
   "metadata": {
    "execution": {
     "iopub.execute_input": "2025-08-05T20:45:23.692797Z",
     "iopub.status.busy": "2025-08-05T20:45:23.691951Z",
     "iopub.status.idle": "2025-08-05T20:45:23.706480Z",
     "shell.execute_reply": "2025-08-05T20:45:23.705217Z"
    },
    "papermill": {
     "duration": 0.038335,
     "end_time": "2025-08-05T20:45:23.710983",
     "exception": false,
     "start_time": "2025-08-05T20:45:23.672648",
     "status": "completed"
    },
    "tags": []
   },
   "outputs": [],
   "source": [
    "X_train = X_train[keep_mask]"
   ]
  },
  {
   "cell_type": "code",
   "execution_count": 29,
   "id": "b202bb3a",
   "metadata": {
    "execution": {
     "iopub.execute_input": "2025-08-05T20:45:23.748339Z",
     "iopub.status.busy": "2025-08-05T20:45:23.748002Z",
     "iopub.status.idle": "2025-08-05T20:45:23.753435Z",
     "shell.execute_reply": "2025-08-05T20:45:23.752685Z"
    },
    "papermill": {
     "duration": 0.023824,
     "end_time": "2025-08-05T20:45:23.754901",
     "exception": false,
     "start_time": "2025-08-05T20:45:23.731077",
     "status": "completed"
    },
    "tags": []
   },
   "outputs": [],
   "source": [
    "y_train = y_train[keep_mask]"
   ]
  },
  {
   "cell_type": "markdown",
   "id": "493e2ac3",
   "metadata": {
    "papermill": {
     "duration": 0.009535,
     "end_time": "2025-08-05T20:45:23.775593",
     "exception": false,
     "start_time": "2025-08-05T20:45:23.766058",
     "status": "completed"
    },
    "tags": []
   },
   "source": [
    "# Model Training"
   ]
  },
  {
   "cell_type": "code",
   "execution_count": 30,
   "id": "679e1268",
   "metadata": {
    "execution": {
     "iopub.execute_input": "2025-08-05T20:45:23.798015Z",
     "iopub.status.busy": "2025-08-05T20:45:23.797453Z",
     "iopub.status.idle": "2025-08-05T20:45:23.904466Z",
     "shell.execute_reply": "2025-08-05T20:45:23.903303Z"
    },
    "papermill": {
     "duration": 0.121279,
     "end_time": "2025-08-05T20:45:23.906823",
     "exception": false,
     "start_time": "2025-08-05T20:45:23.785544",
     "status": "completed"
    },
    "tags": []
   },
   "outputs": [],
   "source": [
    "from sklearn.linear_model import LogisticRegression\n",
    "from sklearn.ensemble import GradientBoostingClassifier, RandomForestClassifier\n",
    "\n",
    "if (universe[\"model\"] == \"logreg\"):\n",
    "    model = LogisticRegression() #penalty=\"none\", solver=\"newton-cg\", max_iter=1) # include random_state=19 ?\n",
    "elif (universe[\"model\"] == \"penalized_logreg\"):\n",
    "    model = LogisticRegression(penalty=\"l2\", C=0.1) #, solver=\"newton-cg\", max_iter=1)\n",
    "elif (universe[\"model\"] == \"rf\"):\n",
    "    model = RandomForestClassifier() # n_estimators=100, n_jobs=-1\n",
    "elif (universe[\"model\"] == \"gbm\"):\n",
    "    model = GradientBoostingClassifier()\n",
    "elif (universe[\"model\"] == \"elasticnet\"):\n",
    "    model = LogisticRegression(penalty = 'elasticnet', solver = 'saga', l1_ratio = 0.5) # max_iter=5000\n",
    "else:\n",
    "    raise \"Unsupported universe.model\""
   ]
  },
  {
   "cell_type": "code",
   "execution_count": 31,
   "id": "0cc8f744",
   "metadata": {
    "execution": {
     "iopub.execute_input": "2025-08-05T20:45:23.959719Z",
     "iopub.status.busy": "2025-08-05T20:45:23.958970Z",
     "iopub.status.idle": "2025-08-05T20:45:23.967014Z",
     "shell.execute_reply": "2025-08-05T20:45:23.965768Z"
    },
    "papermill": {
     "duration": 0.035394,
     "end_time": "2025-08-05T20:45:23.968700",
     "exception": false,
     "start_time": "2025-08-05T20:45:23.933306",
     "status": "completed"
    },
    "tags": []
   },
   "outputs": [],
   "source": [
    "import numpy as np\n",
    "from sklearn.pipeline import Pipeline\n",
    "from sklearn.preprocessing import StandardScaler\n",
    "\n",
    "model = Pipeline([\n",
    "    #(\"continuous_processor\", continuous_processor),\n",
    "    #(\"categorical_preprocessor\", categorical_preprocessor),\n",
    "    (\"scale\", StandardScaler() if universe[\"scale\"] == \"scale\" else None), \n",
    "    (\"model\", model),\n",
    "])"
   ]
  },
  {
   "cell_type": "code",
   "execution_count": 32,
   "id": "9442c04d",
   "metadata": {
    "execution": {
     "iopub.execute_input": "2025-08-05T20:45:24.007117Z",
     "iopub.status.busy": "2025-08-05T20:45:24.006264Z",
     "iopub.status.idle": "2025-08-05T20:45:51.552056Z",
     "shell.execute_reply": "2025-08-05T20:45:51.550957Z"
    },
    "papermill": {
     "duration": 27.566714,
     "end_time": "2025-08-05T20:45:51.553828",
     "exception": false,
     "start_time": "2025-08-05T20:45:23.987114",
     "status": "completed"
    },
    "tags": []
   },
   "outputs": [
    {
     "data": {
      "text/html": [
       "<style>#sk-container-id-1 {color: black;background-color: white;}#sk-container-id-1 pre{padding: 0;}#sk-container-id-1 div.sk-toggleable {background-color: white;}#sk-container-id-1 label.sk-toggleable__label {cursor: pointer;display: block;width: 100%;margin-bottom: 0;padding: 0.3em;box-sizing: border-box;text-align: center;}#sk-container-id-1 label.sk-toggleable__label-arrow:before {content: \"▸\";float: left;margin-right: 0.25em;color: #696969;}#sk-container-id-1 label.sk-toggleable__label-arrow:hover:before {color: black;}#sk-container-id-1 div.sk-estimator:hover label.sk-toggleable__label-arrow:before {color: black;}#sk-container-id-1 div.sk-toggleable__content {max-height: 0;max-width: 0;overflow: hidden;text-align: left;background-color: #f0f8ff;}#sk-container-id-1 div.sk-toggleable__content pre {margin: 0.2em;color: black;border-radius: 0.25em;background-color: #f0f8ff;}#sk-container-id-1 input.sk-toggleable__control:checked~div.sk-toggleable__content {max-height: 200px;max-width: 100%;overflow: auto;}#sk-container-id-1 input.sk-toggleable__control:checked~label.sk-toggleable__label-arrow:before {content: \"▾\";}#sk-container-id-1 div.sk-estimator input.sk-toggleable__control:checked~label.sk-toggleable__label {background-color: #d4ebff;}#sk-container-id-1 div.sk-label input.sk-toggleable__control:checked~label.sk-toggleable__label {background-color: #d4ebff;}#sk-container-id-1 input.sk-hidden--visually {border: 0;clip: rect(1px 1px 1px 1px);clip: rect(1px, 1px, 1px, 1px);height: 1px;margin: -1px;overflow: hidden;padding: 0;position: absolute;width: 1px;}#sk-container-id-1 div.sk-estimator {font-family: monospace;background-color: #f0f8ff;border: 1px dotted black;border-radius: 0.25em;box-sizing: border-box;margin-bottom: 0.5em;}#sk-container-id-1 div.sk-estimator:hover {background-color: #d4ebff;}#sk-container-id-1 div.sk-parallel-item::after {content: \"\";width: 100%;border-bottom: 1px solid gray;flex-grow: 1;}#sk-container-id-1 div.sk-label:hover label.sk-toggleable__label {background-color: #d4ebff;}#sk-container-id-1 div.sk-serial::before {content: \"\";position: absolute;border-left: 1px solid gray;box-sizing: border-box;top: 0;bottom: 0;left: 50%;z-index: 0;}#sk-container-id-1 div.sk-serial {display: flex;flex-direction: column;align-items: center;background-color: white;padding-right: 0.2em;padding-left: 0.2em;position: relative;}#sk-container-id-1 div.sk-item {position: relative;z-index: 1;}#sk-container-id-1 div.sk-parallel {display: flex;align-items: stretch;justify-content: center;background-color: white;position: relative;}#sk-container-id-1 div.sk-item::before, #sk-container-id-1 div.sk-parallel-item::before {content: \"\";position: absolute;border-left: 1px solid gray;box-sizing: border-box;top: 0;bottom: 0;left: 50%;z-index: -1;}#sk-container-id-1 div.sk-parallel-item {display: flex;flex-direction: column;z-index: 1;position: relative;background-color: white;}#sk-container-id-1 div.sk-parallel-item:first-child::after {align-self: flex-end;width: 50%;}#sk-container-id-1 div.sk-parallel-item:last-child::after {align-self: flex-start;width: 50%;}#sk-container-id-1 div.sk-parallel-item:only-child::after {width: 0;}#sk-container-id-1 div.sk-dashed-wrapped {border: 1px dashed gray;margin: 0 0.4em 0.5em 0.4em;box-sizing: border-box;padding-bottom: 0.4em;background-color: white;}#sk-container-id-1 div.sk-label label {font-family: monospace;font-weight: bold;display: inline-block;line-height: 1.2em;}#sk-container-id-1 div.sk-label-container {text-align: center;}#sk-container-id-1 div.sk-container {/* jupyter's `normalize.less` sets `[hidden] { display: none; }` but bootstrap.min.css set `[hidden] { display: none !important; }` so we also need the `!important` here to be able to override the default hidden behavior on the sphinx rendered scikit-learn.org. See: https://github.com/scikit-learn/scikit-learn/issues/21755 */display: inline-block !important;position: relative;}#sk-container-id-1 div.sk-text-repr-fallback {display: none;}</style><div id=\"sk-container-id-1\" class=\"sk-top-container\"><div class=\"sk-text-repr-fallback\"><pre>Pipeline(steps=[(&#x27;scale&#x27;, None), (&#x27;model&#x27;, GradientBoostingClassifier())])</pre><b>In a Jupyter environment, please rerun this cell to show the HTML representation or trust the notebook. <br />On GitHub, the HTML representation is unable to render, please try loading this page with nbviewer.org.</b></div><div class=\"sk-container\" hidden><div class=\"sk-item sk-dashed-wrapped\"><div class=\"sk-label-container\"><div class=\"sk-label sk-toggleable\"><input class=\"sk-toggleable__control sk-hidden--visually\" id=\"sk-estimator-id-1\" type=\"checkbox\" ><label for=\"sk-estimator-id-1\" class=\"sk-toggleable__label sk-toggleable__label-arrow\">Pipeline</label><div class=\"sk-toggleable__content\"><pre>Pipeline(steps=[(&#x27;scale&#x27;, None), (&#x27;model&#x27;, GradientBoostingClassifier())])</pre></div></div></div><div class=\"sk-serial\"><div class=\"sk-item\"><div class=\"sk-estimator sk-toggleable\"><input class=\"sk-toggleable__control sk-hidden--visually\" id=\"sk-estimator-id-2\" type=\"checkbox\" ><label for=\"sk-estimator-id-2\" class=\"sk-toggleable__label sk-toggleable__label-arrow\">None</label><div class=\"sk-toggleable__content\"><pre>None</pre></div></div></div><div class=\"sk-item\"><div class=\"sk-estimator sk-toggleable\"><input class=\"sk-toggleable__control sk-hidden--visually\" id=\"sk-estimator-id-3\" type=\"checkbox\" ><label for=\"sk-estimator-id-3\" class=\"sk-toggleable__label sk-toggleable__label-arrow\">GradientBoostingClassifier</label><div class=\"sk-toggleable__content\"><pre>GradientBoostingClassifier()</pre></div></div></div></div></div></div></div>"
      ],
      "text/plain": [
       "Pipeline(steps=[('scale', None), ('model', GradientBoostingClassifier())])"
      ]
     },
     "execution_count": 32,
     "metadata": {},
     "output_type": "execute_result"
    }
   ],
   "source": [
    "model.fit(X_train, y_train.values.ravel())"
   ]
  },
  {
   "cell_type": "code",
   "execution_count": 33,
   "id": "af59f8c0",
   "metadata": {
    "execution": {
     "iopub.execute_input": "2025-08-05T20:45:51.595557Z",
     "iopub.status.busy": "2025-08-05T20:45:51.594628Z",
     "iopub.status.idle": "2025-08-05T20:45:51.600844Z",
     "shell.execute_reply": "2025-08-05T20:45:51.599848Z"
    },
    "papermill": {
     "duration": 0.027941,
     "end_time": "2025-08-05T20:45:51.603005",
     "exception": false,
     "start_time": "2025-08-05T20:45:51.575064",
     "status": "completed"
    },
    "tags": []
   },
   "outputs": [],
   "source": [
    "from fairness_multiverse.universe import predict_w_threshold"
   ]
  },
  {
   "cell_type": "code",
   "execution_count": 34,
   "id": "a7cf2e16",
   "metadata": {
    "execution": {
     "iopub.execute_input": "2025-08-05T20:45:51.648879Z",
     "iopub.status.busy": "2025-08-05T20:45:51.648086Z",
     "iopub.status.idle": "2025-08-05T20:45:52.288228Z",
     "shell.execute_reply": "2025-08-05T20:45:52.287344Z"
    },
    "papermill": {
     "duration": 0.664535,
     "end_time": "2025-08-05T20:45:52.289940",
     "exception": false,
     "start_time": "2025-08-05T20:45:51.625405",
     "status": "completed"
    },
    "tags": []
   },
   "outputs": [
    {
     "data": {
      "text/plain": [
       "0.8714858990079144"
      ]
     },
     "execution_count": 34,
     "metadata": {},
     "output_type": "execute_result"
    }
   ],
   "source": [
    "probs_test = model.predict_proba(X_test)\n",
    "\n",
    "'''\n",
    "Below code returns a boolean array (or binary 0/1 array depending on how it’s used) where each element \n",
    "is True if the probability of class 1 is greater than or equal to the threshold, and False otherwise.\n",
    "'''\n",
    "y_pred_default = predict_w_threshold(probs_test, 0.5)\n",
    "\n",
    "from sklearn.metrics import accuracy_score\n",
    "\n",
    "# Naive prediction\n",
    "accuracy_score(y_true = y_true, y_pred = y_pred_default)"
   ]
  },
  {
   "cell_type": "code",
   "execution_count": 35,
   "id": "081964c3",
   "metadata": {
    "execution": {
     "iopub.execute_input": "2025-08-05T20:45:52.329964Z",
     "iopub.status.busy": "2025-08-05T20:45:52.329377Z",
     "iopub.status.idle": "2025-08-05T20:45:52.883348Z",
     "shell.execute_reply": "2025-08-05T20:45:52.882365Z"
    },
    "papermill": {
     "duration": 0.575664,
     "end_time": "2025-08-05T20:45:52.885215",
     "exception": false,
     "start_time": "2025-08-05T20:45:52.309551",
     "status": "completed"
    },
    "tags": []
   },
   "outputs": [
    {
     "data": {
      "text/plain": [
       "array([0, 0, 0, ..., 0, 0, 0])"
      ]
     },
     "execution_count": 35,
     "metadata": {},
     "output_type": "execute_result"
    }
   ],
   "source": [
    "model.predict(X_test)"
   ]
  },
  {
   "cell_type": "markdown",
   "id": "56c9705b",
   "metadata": {
    "papermill": {
     "duration": 0.019109,
     "end_time": "2025-08-05T20:45:52.924264",
     "exception": false,
     "start_time": "2025-08-05T20:45:52.905155",
     "status": "completed"
    },
    "tags": []
   },
   "source": [
    "# Conformal Prediction"
   ]
  },
  {
   "cell_type": "code",
   "execution_count": 36,
   "id": "160ec6ff",
   "metadata": {
    "execution": {
     "iopub.execute_input": "2025-08-05T20:45:52.964993Z",
     "iopub.status.busy": "2025-08-05T20:45:52.964311Z",
     "iopub.status.idle": "2025-08-05T20:45:52.969686Z",
     "shell.execute_reply": "2025-08-05T20:45:52.968566Z"
    },
    "papermill": {
     "duration": 0.027521,
     "end_time": "2025-08-05T20:45:52.971482",
     "exception": false,
     "start_time": "2025-08-05T20:45:52.943961",
     "status": "completed"
    },
    "tags": []
   },
   "outputs": [],
   "source": [
    "# Miscoverage level for conformal prediction (10% allowed error rate => 90% target coverage)\n",
    "alpha = 0.1"
   ]
  },
  {
   "cell_type": "code",
   "execution_count": 37,
   "id": "eadf4555-3dd3-440e-8e35-f82a4ad9f855",
   "metadata": {
    "execution": {
     "iopub.execute_input": "2025-08-05T20:45:53.011939Z",
     "iopub.status.busy": "2025-08-05T20:45:53.011229Z",
     "iopub.status.idle": "2025-08-05T20:45:53.535126Z",
     "shell.execute_reply": "2025-08-05T20:45:53.534132Z"
    },
    "papermill": {
     "duration": 0.545758,
     "end_time": "2025-08-05T20:45:53.537133",
     "exception": false,
     "start_time": "2025-08-05T20:45:52.991375",
     "status": "completed"
    },
    "tags": []
   },
   "outputs": [],
   "source": [
    "probs_calib = model.predict_proba(X_calib)"
   ]
  },
  {
   "cell_type": "code",
   "execution_count": 38,
   "id": "2ed93547-6d5d-4983-9b36-1ecb300da49a",
   "metadata": {
    "execution": {
     "iopub.execute_input": "2025-08-05T20:45:53.578252Z",
     "iopub.status.busy": "2025-08-05T20:45:53.577396Z",
     "iopub.status.idle": "2025-08-05T20:45:53.582943Z",
     "shell.execute_reply": "2025-08-05T20:45:53.581934Z"
    },
    "papermill": {
     "duration": 0.027572,
     "end_time": "2025-08-05T20:45:53.584677",
     "exception": false,
     "start_time": "2025-08-05T20:45:53.557105",
     "status": "completed"
    },
    "tags": []
   },
   "outputs": [],
   "source": [
    "y_calib = y_calib.values.ravel().astype(int)"
   ]
  },
  {
   "cell_type": "code",
   "execution_count": 39,
   "id": "65d1320d-f588-4b38-9072-62af1ae97f7d",
   "metadata": {
    "execution": {
     "iopub.execute_input": "2025-08-05T20:45:53.625332Z",
     "iopub.status.busy": "2025-08-05T20:45:53.624511Z",
     "iopub.status.idle": "2025-08-05T20:45:53.631951Z",
     "shell.execute_reply": "2025-08-05T20:45:53.630947Z"
    },
    "papermill": {
     "duration": 0.029027,
     "end_time": "2025-08-05T20:45:53.633666",
     "exception": false,
     "start_time": "2025-08-05T20:45:53.604639",
     "status": "completed"
    },
    "tags": []
   },
   "outputs": [],
   "source": [
    "from fairness_multiverse.conformal import compute_nc_scores\n",
    "\n",
    "# Compute nonconformity scores on calibration set (1 - probability of true class)\n",
    "nc_scores = compute_nc_scores(probs_calib, y_calib)"
   ]
  },
  {
   "cell_type": "code",
   "execution_count": 40,
   "id": "df3b8ca3-53b7-43d5-9667-7c85da7aeda2",
   "metadata": {
    "execution": {
     "iopub.execute_input": "2025-08-05T20:45:53.674368Z",
     "iopub.status.busy": "2025-08-05T20:45:53.673703Z",
     "iopub.status.idle": "2025-08-05T20:45:53.679846Z",
     "shell.execute_reply": "2025-08-05T20:45:53.678877Z"
    },
    "papermill": {
     "duration": 0.028041,
     "end_time": "2025-08-05T20:45:53.681526",
     "exception": false,
     "start_time": "2025-08-05T20:45:53.653485",
     "status": "completed"
    },
    "tags": []
   },
   "outputs": [],
   "source": [
    "from fairness_multiverse.conformal import find_threshold\n",
    "\n",
    "# Find conformal threshold q_hat for the given alpha (split conformal method)\n",
    "q_hat = find_threshold(nc_scores, alpha)"
   ]
  },
  {
   "cell_type": "code",
   "execution_count": 41,
   "id": "4d29e6c1-0ef6-4aa4-b8fe-4fe79b0d033a",
   "metadata": {
    "execution": {
     "iopub.execute_input": "2025-08-05T20:45:53.722069Z",
     "iopub.status.busy": "2025-08-05T20:45:53.721141Z",
     "iopub.status.idle": "2025-08-05T20:45:53.728135Z",
     "shell.execute_reply": "2025-08-05T20:45:53.727097Z"
    },
    "papermill": {
     "duration": 0.028632,
     "end_time": "2025-08-05T20:45:53.729901",
     "exception": false,
     "start_time": "2025-08-05T20:45:53.701269",
     "status": "completed"
    },
    "tags": []
   },
   "outputs": [
    {
     "data": {
      "text/plain": [
       "0.6806247334008906"
      ]
     },
     "execution_count": 41,
     "metadata": {},
     "output_type": "execute_result"
    }
   ],
   "source": [
    "q_hat"
   ]
  },
  {
   "cell_type": "code",
   "execution_count": 42,
   "id": "92460794-cdac-4be2-ba28-f28c0515a6fb",
   "metadata": {
    "execution": {
     "iopub.execute_input": "2025-08-05T20:45:53.771061Z",
     "iopub.status.busy": "2025-08-05T20:45:53.770224Z",
     "iopub.status.idle": "2025-08-05T20:45:55.026176Z",
     "shell.execute_reply": "2025-08-05T20:45:55.025158Z"
    },
    "papermill": {
     "duration": 1.278722,
     "end_time": "2025-08-05T20:45:55.028213",
     "exception": false,
     "start_time": "2025-08-05T20:45:53.749491",
     "status": "completed"
    },
    "tags": []
   },
   "outputs": [],
   "source": [
    "from fairness_multiverse.conformal import predict_conformal_sets\n",
    "\n",
    "# Generate prediction sets for each test example\n",
    "pred_sets = predict_conformal_sets(model, X_test, q_hat)"
   ]
  },
  {
   "cell_type": "code",
   "execution_count": 43,
   "id": "d90c9a65-e6db-4f5d-80cd-e68fb7e46829",
   "metadata": {
    "execution": {
     "iopub.execute_input": "2025-08-05T20:45:55.074906Z",
     "iopub.status.busy": "2025-08-05T20:45:55.074004Z",
     "iopub.status.idle": "2025-08-05T20:45:55.079819Z",
     "shell.execute_reply": "2025-08-05T20:45:55.078792Z"
    },
    "papermill": {
     "duration": 0.030541,
     "end_time": "2025-08-05T20:45:55.081619",
     "exception": false,
     "start_time": "2025-08-05T20:45:55.051078",
     "status": "completed"
    },
    "tags": []
   },
   "outputs": [],
   "source": [
    "y_true = y_true.squeeze()"
   ]
  },
  {
   "cell_type": "code",
   "execution_count": 44,
   "id": "3a58a54a-1e68-46b9-927a-df01f18aebc8",
   "metadata": {
    "execution": {
     "iopub.execute_input": "2025-08-05T20:45:55.122632Z",
     "iopub.status.busy": "2025-08-05T20:45:55.121978Z",
     "iopub.status.idle": "2025-08-05T20:45:56.042937Z",
     "shell.execute_reply": "2025-08-05T20:45:56.041976Z"
    },
    "papermill": {
     "duration": 0.943136,
     "end_time": "2025-08-05T20:45:56.045081",
     "exception": false,
     "start_time": "2025-08-05T20:45:55.101945",
     "status": "completed"
    },
    "tags": []
   },
   "outputs": [],
   "source": [
    "from fairness_multiverse.conformal import evaluate_sets\n",
    "\n",
    "# Evaluate coverage and average set size on test data\n",
    "metrics = evaluate_sets(pred_sets, y_true)"
   ]
  },
  {
   "cell_type": "markdown",
   "id": "2b569c12-9aaa-4c88-98c9-bbcd0cf3ebb8",
   "metadata": {
    "papermill": {
     "duration": 0.022084,
     "end_time": "2025-08-05T20:45:56.090095",
     "exception": false,
     "start_time": "2025-08-05T20:45:56.068011",
     "status": "completed"
    },
    "tags": []
   },
   "source": [
    "# CP Metrics"
   ]
  },
  {
   "cell_type": "code",
   "execution_count": 45,
   "id": "5ce0a5cb-201f-45a0-ade5-94c7f0bd6095",
   "metadata": {
    "execution": {
     "iopub.execute_input": "2025-08-05T20:45:56.136114Z",
     "iopub.status.busy": "2025-08-05T20:45:56.135405Z",
     "iopub.status.idle": "2025-08-05T20:45:56.143940Z",
     "shell.execute_reply": "2025-08-05T20:45:56.142867Z"
    },
    "papermill": {
     "duration": 0.0335,
     "end_time": "2025-08-05T20:45:56.145694",
     "exception": false,
     "start_time": "2025-08-05T20:45:56.112194",
     "status": "completed"
    },
    "tags": []
   },
   "outputs": [
    {
     "data": {
      "text/plain": [
       "{'coverage': 0.9108349124958198, 'avg_size': 1.1102106788540853}"
      ]
     },
     "execution_count": 45,
     "metadata": {},
     "output_type": "execute_result"
    }
   ],
   "source": [
    "metrics"
   ]
  },
  {
   "cell_type": "code",
   "execution_count": 46,
   "id": "9b9a838d-31c9-430b-ae14-12baee460d17",
   "metadata": {
    "execution": {
     "iopub.execute_input": "2025-08-05T20:45:56.192800Z",
     "iopub.status.busy": "2025-08-05T20:45:56.192094Z",
     "iopub.status.idle": "2025-08-05T20:45:56.198749Z",
     "shell.execute_reply": "2025-08-05T20:45:56.197648Z"
    },
    "papermill": {
     "duration": 0.031872,
     "end_time": "2025-08-05T20:45:56.200727",
     "exception": false,
     "start_time": "2025-08-05T20:45:56.168855",
     "status": "completed"
    },
    "tags": []
   },
   "outputs": [],
   "source": [
    "example_universe = universe.copy()\n",
    "universe_training_year = example_universe.get(\"training_year\")\n",
    "universe_training_size = example_universe.get(\"training_size\")\n",
    "universe_scale = example_universe.get(\"scale\")\n",
    "universe_model = example_universe.get(\"model\")\n",
    "universe_exclude_features = example_universe.get(\"exclude_features\")\n",
    "universe_exclude_subgroups = example_universe.get(\"exclude_subgroups\")"
   ]
  },
  {
   "cell_type": "code",
   "execution_count": 47,
   "id": "f4b6a8ac-9dc0-4245-8a91-5b3b5999c4f9",
   "metadata": {
    "execution": {
     "iopub.execute_input": "2025-08-05T20:45:56.247600Z",
     "iopub.status.busy": "2025-08-05T20:45:56.246988Z",
     "iopub.status.idle": "2025-08-05T20:45:56.253669Z",
     "shell.execute_reply": "2025-08-05T20:45:56.252685Z"
    },
    "papermill": {
     "duration": 0.031552,
     "end_time": "2025-08-05T20:45:56.255431",
     "exception": false,
     "start_time": "2025-08-05T20:45:56.223879",
     "status": "completed"
    },
    "tags": []
   },
   "outputs": [],
   "source": [
    "cp_metrics_dict = {\n",
    "    \"universe_id\": [universe_id],\n",
    "    \"universe_training_year\": [universe_training_year],\n",
    "    \"universe_training_size\": [universe_training_size],\n",
    "    \"universe_scale\": [universe_scale],\n",
    "    \"universe_model\": [universe_model],\n",
    "    \"universe_exclude_features\": [universe_exclude_features],\n",
    "    \"universe_exclude_subgroups\": [universe_exclude_subgroups],\n",
    "    \"q_hat\": [q_hat],\n",
    "    \"coverage\": [metrics[\"coverage\"]],\n",
    "    \"avg_size\": [metrics[\"avg_size\"]],\n",
    "}"
   ]
  },
  {
   "cell_type": "code",
   "execution_count": 48,
   "id": "908acbb1-0371-4915-85ca-3fa520d2efe2",
   "metadata": {
    "execution": {
     "iopub.execute_input": "2025-08-05T20:45:56.297996Z",
     "iopub.status.busy": "2025-08-05T20:45:56.297182Z",
     "iopub.status.idle": "2025-08-05T20:45:56.305015Z",
     "shell.execute_reply": "2025-08-05T20:45:56.303933Z"
    },
    "papermill": {
     "duration": 0.030449,
     "end_time": "2025-08-05T20:45:56.306759",
     "exception": false,
     "start_time": "2025-08-05T20:45:56.276310",
     "status": "completed"
    },
    "tags": []
   },
   "outputs": [
    {
     "data": {
      "text/plain": [
       "{'universe_id': ['bec957a75423dd2e6be82c5c68c6b0d4'],\n",
       " 'universe_training_year': ['2014'],\n",
       " 'universe_training_size': ['25k'],\n",
       " 'universe_scale': ['do-not-scale'],\n",
       " 'universe_model': ['gbm'],\n",
       " 'universe_exclude_features': ['none'],\n",
       " 'universe_exclude_subgroups': ['keep-all'],\n",
       " 'q_hat': [0.6806247334008906],\n",
       " 'coverage': [0.9108349124958198],\n",
       " 'avg_size': [1.1102106788540853]}"
      ]
     },
     "execution_count": 48,
     "metadata": {},
     "output_type": "execute_result"
    }
   ],
   "source": [
    "cp_metrics_dict"
   ]
  },
  {
   "cell_type": "code",
   "execution_count": 49,
   "id": "33007efc-14e9-4ec6-97ac-56a455c82265",
   "metadata": {
    "execution": {
     "iopub.execute_input": "2025-08-05T20:45:56.350076Z",
     "iopub.status.busy": "2025-08-05T20:45:56.349542Z",
     "iopub.status.idle": "2025-08-05T20:45:56.355970Z",
     "shell.execute_reply": "2025-08-05T20:45:56.354934Z"
    },
    "papermill": {
     "duration": 0.030328,
     "end_time": "2025-08-05T20:45:56.357799",
     "exception": false,
     "start_time": "2025-08-05T20:45:56.327471",
     "status": "completed"
    },
    "tags": []
   },
   "outputs": [],
   "source": [
    "cp_metrics_df = pd.DataFrame(cp_metrics_dict)"
   ]
  },
  {
   "cell_type": "code",
   "execution_count": 50,
   "id": "db12611b-57b2-4910-b9d0-355adfd6e7bf",
   "metadata": {
    "execution": {
     "iopub.execute_input": "2025-08-05T20:45:56.400691Z",
     "iopub.status.busy": "2025-08-05T20:45:56.399930Z",
     "iopub.status.idle": "2025-08-05T20:45:56.418579Z",
     "shell.execute_reply": "2025-08-05T20:45:56.417620Z"
    },
    "papermill": {
     "duration": 0.041578,
     "end_time": "2025-08-05T20:45:56.420305",
     "exception": false,
     "start_time": "2025-08-05T20:45:56.378727",
     "status": "completed"
    },
    "tags": []
   },
   "outputs": [
    {
     "data": {
      "text/html": [
       "<div>\n",
       "<style scoped>\n",
       "    .dataframe tbody tr th:only-of-type {\n",
       "        vertical-align: middle;\n",
       "    }\n",
       "\n",
       "    .dataframe tbody tr th {\n",
       "        vertical-align: top;\n",
       "    }\n",
       "\n",
       "    .dataframe thead th {\n",
       "        text-align: right;\n",
       "    }\n",
       "</style>\n",
       "<table border=\"1\" class=\"dataframe\">\n",
       "  <thead>\n",
       "    <tr style=\"text-align: right;\">\n",
       "      <th></th>\n",
       "      <th>universe_id</th>\n",
       "      <th>universe_training_year</th>\n",
       "      <th>universe_training_size</th>\n",
       "      <th>universe_scale</th>\n",
       "      <th>universe_model</th>\n",
       "      <th>universe_exclude_features</th>\n",
       "      <th>universe_exclude_subgroups</th>\n",
       "      <th>q_hat</th>\n",
       "      <th>coverage</th>\n",
       "      <th>avg_size</th>\n",
       "    </tr>\n",
       "  </thead>\n",
       "  <tbody>\n",
       "    <tr>\n",
       "      <th>0</th>\n",
       "      <td>bec957a75423dd2e6be82c5c68c6b0d4</td>\n",
       "      <td>2014</td>\n",
       "      <td>25k</td>\n",
       "      <td>do-not-scale</td>\n",
       "      <td>gbm</td>\n",
       "      <td>none</td>\n",
       "      <td>keep-all</td>\n",
       "      <td>0.680625</td>\n",
       "      <td>0.910835</td>\n",
       "      <td>1.110211</td>\n",
       "    </tr>\n",
       "  </tbody>\n",
       "</table>\n",
       "</div>"
      ],
      "text/plain": [
       "                        universe_id universe_training_year  \\\n",
       "0  bec957a75423dd2e6be82c5c68c6b0d4                   2014   \n",
       "\n",
       "  universe_training_size universe_scale universe_model  \\\n",
       "0                    25k   do-not-scale            gbm   \n",
       "\n",
       "  universe_exclude_features universe_exclude_subgroups     q_hat  coverage  \\\n",
       "0                      none                   keep-all  0.680625  0.910835   \n",
       "\n",
       "   avg_size  \n",
       "0  1.110211  "
      ]
     },
     "execution_count": 50,
     "metadata": {},
     "output_type": "execute_result"
    }
   ],
   "source": [
    "cp_metrics_df"
   ]
  },
  {
   "cell_type": "code",
   "execution_count": 51,
   "id": "b7fbde55-a0a1-47e4-9af6-fe4a17fa8c61",
   "metadata": {
    "execution": {
     "iopub.execute_input": "2025-08-05T20:45:56.468342Z",
     "iopub.status.busy": "2025-08-05T20:45:56.467848Z",
     "iopub.status.idle": "2025-08-05T20:45:56.472808Z",
     "shell.execute_reply": "2025-08-05T20:45:56.471721Z"
    },
    "papermill": {
     "duration": 0.030455,
     "end_time": "2025-08-05T20:45:56.474672",
     "exception": false,
     "start_time": "2025-08-05T20:45:56.444217",
     "status": "completed"
    },
    "tags": []
   },
   "outputs": [],
   "source": [
    "# Conditional Coverage & looking at subgroups"
   ]
  },
  {
   "cell_type": "code",
   "execution_count": 52,
   "id": "027ae886-68dd-4141-96c7-805a5450e1ef",
   "metadata": {
    "execution": {
     "iopub.execute_input": "2025-08-05T20:45:56.523916Z",
     "iopub.status.busy": "2025-08-05T20:45:56.523002Z",
     "iopub.status.idle": "2025-08-05T20:45:56.699386Z",
     "shell.execute_reply": "2025-08-05T20:45:56.698607Z"
    },
    "papermill": {
     "duration": 0.202172,
     "end_time": "2025-08-05T20:45:56.700924",
     "exception": false,
     "start_time": "2025-08-05T20:45:56.498752",
     "status": "completed"
    },
    "tags": []
   },
   "outputs": [],
   "source": [
    "from fairness_multiverse.conformal import build_cp_groups\n",
    "\n",
    "cp_groups_df = build_cp_groups(pred_sets, y_true, X_test.index, org_test)\n",
    "#needs universe_id and setting"
   ]
  },
  {
   "cell_type": "code",
   "execution_count": 53,
   "id": "6cbdab96-b2b2-45af-ad54-d0516db2e28d",
   "metadata": {
    "execution": {
     "iopub.execute_input": "2025-08-05T20:45:56.724870Z",
     "iopub.status.busy": "2025-08-05T20:45:56.724517Z",
     "iopub.status.idle": "2025-08-05T20:45:57.614601Z",
     "shell.execute_reply": "2025-08-05T20:45:57.613835Z"
    },
    "papermill": {
     "duration": 0.903601,
     "end_time": "2025-08-05T20:45:57.616085",
     "exception": false,
     "start_time": "2025-08-05T20:45:56.712484",
     "status": "completed"
    },
    "tags": []
   },
   "outputs": [],
   "source": [
    "# Define covered = 1 if true_label is in the predicted set\n",
    "cp_groups_df['covered'] = cp_groups_df.apply(\n",
    "    lambda r: int(r['true_label'] in r['pred_set']),\n",
    "    axis=1\n",
    ")"
   ]
  },
  {
   "cell_type": "code",
   "execution_count": 54,
   "id": "338ff529-1a6b-4b87-a931-8e4788d52aad",
   "metadata": {
    "execution": {
     "iopub.execute_input": "2025-08-05T20:45:57.640590Z",
     "iopub.status.busy": "2025-08-05T20:45:57.639820Z",
     "iopub.status.idle": "2025-08-05T20:45:57.644853Z",
     "shell.execute_reply": "2025-08-05T20:45:57.643957Z"
    },
    "papermill": {
     "duration": 0.018636,
     "end_time": "2025-08-05T20:45:57.646254",
     "exception": false,
     "start_time": "2025-08-05T20:45:57.627618",
     "status": "completed"
    },
    "tags": []
   },
   "outputs": [],
   "source": [
    "#cp_groups_df"
   ]
  },
  {
   "cell_type": "code",
   "execution_count": 55,
   "id": "90032e27-66df-4540-9169-4e89cfbaa758",
   "metadata": {
    "execution": {
     "iopub.execute_input": "2025-08-05T20:45:57.671964Z",
     "iopub.status.busy": "2025-08-05T20:45:57.671246Z",
     "iopub.status.idle": "2025-08-05T20:45:57.680967Z",
     "shell.execute_reply": "2025-08-05T20:45:57.680132Z"
    },
    "papermill": {
     "duration": 0.023495,
     "end_time": "2025-08-05T20:45:57.682437",
     "exception": false,
     "start_time": "2025-08-05T20:45:57.658942",
     "status": "completed"
    },
    "tags": []
   },
   "outputs": [],
   "source": [
    "subgroups = ['frau1','nongerman','nongerman_male','nongerman_female']\n",
    "\n",
    "# Conditional coverage for subgroup==1\n",
    "cond_coverage = {\n",
    "    g: cp_groups_df.loc[cp_groups_df[g]==1, 'covered'].mean()\n",
    "    for g in subgroups\n",
    "}"
   ]
  },
  {
   "cell_type": "code",
   "execution_count": 56,
   "id": "1e348fb1-b9c3-45bc-ba23-f016827a7e0d",
   "metadata": {
    "execution": {
     "iopub.execute_input": "2025-08-05T20:45:57.707465Z",
     "iopub.status.busy": "2025-08-05T20:45:57.706952Z",
     "iopub.status.idle": "2025-08-05T20:45:57.713808Z",
     "shell.execute_reply": "2025-08-05T20:45:57.712944Z"
    },
    "papermill": {
     "duration": 0.020873,
     "end_time": "2025-08-05T20:45:57.715215",
     "exception": false,
     "start_time": "2025-08-05T20:45:57.694342",
     "status": "completed"
    },
    "tags": []
   },
   "outputs": [
    {
     "data": {
      "text/plain": [
       "{'frau1': 0.9127375657096644,\n",
       " 'nongerman': 0.9104586537921743,\n",
       " 'nongerman_male': 0.9251553634152931,\n",
       " 'nongerman_female': 0.886140089418778}"
      ]
     },
     "execution_count": 56,
     "metadata": {},
     "output_type": "execute_result"
    }
   ],
   "source": [
    "cond_coverage"
   ]
  },
  {
   "cell_type": "code",
   "execution_count": 57,
   "id": "f5093324-c3dd-4d63-bc4c-8d945e5c8bbb",
   "metadata": {
    "execution": {
     "iopub.execute_input": "2025-08-05T20:45:57.740475Z",
     "iopub.status.busy": "2025-08-05T20:45:57.739971Z",
     "iopub.status.idle": "2025-08-05T20:45:57.746684Z",
     "shell.execute_reply": "2025-08-05T20:45:57.745786Z"
    },
    "papermill": {
     "duration": 0.020628,
     "end_time": "2025-08-05T20:45:57.748130",
     "exception": false,
     "start_time": "2025-08-05T20:45:57.727502",
     "status": "completed"
    },
    "tags": []
   },
   "outputs": [],
   "source": [
    "for subgroup, cov in cond_coverage.items():\n",
    "    cp_metrics_df[f\"cov_{subgroup}\"] = cov"
   ]
  },
  {
   "cell_type": "code",
   "execution_count": 58,
   "id": "6e872e10-dbe5-49e8-b554-5030c98ff75d",
   "metadata": {
    "execution": {
     "iopub.execute_input": "2025-08-05T20:45:57.773523Z",
     "iopub.status.busy": "2025-08-05T20:45:57.772990Z",
     "iopub.status.idle": "2025-08-05T20:45:57.789149Z",
     "shell.execute_reply": "2025-08-05T20:45:57.788034Z"
    },
    "papermill": {
     "duration": 0.030475,
     "end_time": "2025-08-05T20:45:57.791040",
     "exception": false,
     "start_time": "2025-08-05T20:45:57.760565",
     "status": "completed"
    },
    "tags": []
   },
   "outputs": [
    {
     "data": {
      "text/html": [
       "<div>\n",
       "<style scoped>\n",
       "    .dataframe tbody tr th:only-of-type {\n",
       "        vertical-align: middle;\n",
       "    }\n",
       "\n",
       "    .dataframe tbody tr th {\n",
       "        vertical-align: top;\n",
       "    }\n",
       "\n",
       "    .dataframe thead th {\n",
       "        text-align: right;\n",
       "    }\n",
       "</style>\n",
       "<table border=\"1\" class=\"dataframe\">\n",
       "  <thead>\n",
       "    <tr style=\"text-align: right;\">\n",
       "      <th></th>\n",
       "      <th>universe_id</th>\n",
       "      <th>universe_training_year</th>\n",
       "      <th>universe_training_size</th>\n",
       "      <th>universe_scale</th>\n",
       "      <th>universe_model</th>\n",
       "      <th>universe_exclude_features</th>\n",
       "      <th>universe_exclude_subgroups</th>\n",
       "      <th>q_hat</th>\n",
       "      <th>coverage</th>\n",
       "      <th>avg_size</th>\n",
       "      <th>cov_frau1</th>\n",
       "      <th>cov_nongerman</th>\n",
       "      <th>cov_nongerman_male</th>\n",
       "      <th>cov_nongerman_female</th>\n",
       "    </tr>\n",
       "  </thead>\n",
       "  <tbody>\n",
       "    <tr>\n",
       "      <th>0</th>\n",
       "      <td>bec957a75423dd2e6be82c5c68c6b0d4</td>\n",
       "      <td>2014</td>\n",
       "      <td>25k</td>\n",
       "      <td>do-not-scale</td>\n",
       "      <td>gbm</td>\n",
       "      <td>none</td>\n",
       "      <td>keep-all</td>\n",
       "      <td>0.680625</td>\n",
       "      <td>0.910835</td>\n",
       "      <td>1.110211</td>\n",
       "      <td>0.912738</td>\n",
       "      <td>0.910459</td>\n",
       "      <td>0.925155</td>\n",
       "      <td>0.88614</td>\n",
       "    </tr>\n",
       "  </tbody>\n",
       "</table>\n",
       "</div>"
      ],
      "text/plain": [
       "                        universe_id universe_training_year  \\\n",
       "0  bec957a75423dd2e6be82c5c68c6b0d4                   2014   \n",
       "\n",
       "  universe_training_size universe_scale universe_model  \\\n",
       "0                    25k   do-not-scale            gbm   \n",
       "\n",
       "  universe_exclude_features universe_exclude_subgroups     q_hat  coverage  \\\n",
       "0                      none                   keep-all  0.680625  0.910835   \n",
       "\n",
       "   avg_size  cov_frau1  cov_nongerman  cov_nongerman_male  \\\n",
       "0  1.110211   0.912738       0.910459            0.925155   \n",
       "\n",
       "   cov_nongerman_female  \n",
       "0               0.88614  "
      ]
     },
     "execution_count": 58,
     "metadata": {},
     "output_type": "execute_result"
    }
   ],
   "source": [
    "cp_metrics_df"
   ]
  },
  {
   "cell_type": "markdown",
   "id": "33774451",
   "metadata": {
    "papermill": {
     "duration": 0.02176,
     "end_time": "2025-08-05T20:45:57.834247",
     "exception": false,
     "start_time": "2025-08-05T20:45:57.812487",
     "status": "completed"
    },
    "tags": []
   },
   "source": [
    "# (Fairness) Metrics"
   ]
  },
  {
   "cell_type": "code",
   "execution_count": 59,
   "id": "debc5d62",
   "metadata": {
    "execution": {
     "iopub.execute_input": "2025-08-05T20:45:57.880639Z",
     "iopub.status.busy": "2025-08-05T20:45:57.879894Z",
     "iopub.status.idle": "2025-08-05T20:45:57.900993Z",
     "shell.execute_reply": "2025-08-05T20:45:57.900041Z"
    },
    "papermill": {
     "duration": 0.046509,
     "end_time": "2025-08-05T20:45:57.902933",
     "exception": false,
     "start_time": "2025-08-05T20:45:57.856424",
     "status": "completed"
    },
    "tags": []
   },
   "outputs": [],
   "source": [
    "# do I need to include maxdeutsch1.missing?\n",
    "\n",
    "import numpy as np\n",
    "\n",
    "colname_to_bin = \"maxdeutsch1\"\n",
    "majority_value = org_train[colname_to_bin].mode()[0]\n",
    "\n",
    "org_test[\"majmin\"] = np.where(org_test[colname_to_bin] == majority_value, \"majority\", \"minority\")"
   ]
  },
  {
   "cell_type": "code",
   "execution_count": 60,
   "id": "06a50de5",
   "metadata": {
    "execution": {
     "iopub.execute_input": "2025-08-05T20:45:57.947574Z",
     "iopub.status.busy": "2025-08-05T20:45:57.947232Z",
     "iopub.status.idle": "2025-08-05T20:45:59.467501Z",
     "shell.execute_reply": "2025-08-05T20:45:59.466742Z"
    },
    "papermill": {
     "duration": 1.542846,
     "end_time": "2025-08-05T20:45:59.468994",
     "exception": false,
     "start_time": "2025-08-05T20:45:57.926148",
     "status": "completed"
    },
    "tags": []
   },
   "outputs": [],
   "source": [
    "example_universe = universe.copy()\n",
    "example_universe[\"cutoff\"] = example_universe[\"cutoff\"][0]\n",
    "example_universe[\"eval_fairness_grouping\"] = example_universe[\"eval_fairness_grouping\"][0]\n",
    "fairness_dict, metric_frame = universe_analysis.compute_metrics(\n",
    "    example_universe,\n",
    "    y_pred_prob=probs_test,\n",
    "    y_test=y_true,\n",
    "    org_test=org_test,\n",
    ")"
   ]
  },
  {
   "cell_type": "markdown",
   "id": "f95d4e02",
   "metadata": {
    "papermill": {
     "duration": 0.011017,
     "end_time": "2025-08-05T20:45:59.491767",
     "exception": false,
     "start_time": "2025-08-05T20:45:59.480750",
     "status": "completed"
    },
    "tags": []
   },
   "source": [
    "# Overall"
   ]
  },
  {
   "cell_type": "markdown",
   "id": "bdee4871",
   "metadata": {
    "papermill": {
     "duration": 0.010874,
     "end_time": "2025-08-05T20:45:59.513891",
     "exception": false,
     "start_time": "2025-08-05T20:45:59.503017",
     "status": "completed"
    },
    "tags": []
   },
   "source": [
    "Fairness\n",
    "Main fairness target: Equalized Odds. Seems to be a better fit than equal opportunity, since we're not only interested in Y = 1. Seems to be a better fit than demographic parity, since we also care about accuracy, not just equal distribution of preds.\n",
    "\n",
    "Pick column for computation of fairness metrics\n",
    "\n",
    "Performance\n",
    "Overall performance measures, most interesting in relation to the measures split by group below"
   ]
  },
  {
   "cell_type": "code",
   "execution_count": 61,
   "id": "c4e067c6",
   "metadata": {
    "execution": {
     "iopub.execute_input": "2025-08-05T20:45:59.537710Z",
     "iopub.status.busy": "2025-08-05T20:45:59.536984Z",
     "iopub.status.idle": "2025-08-05T20:45:59.544468Z",
     "shell.execute_reply": "2025-08-05T20:45:59.543632Z"
    },
    "papermill": {
     "duration": 0.021075,
     "end_time": "2025-08-05T20:45:59.546028",
     "exception": false,
     "start_time": "2025-08-05T20:45:59.524953",
     "status": "completed"
    },
    "tags": []
   },
   "outputs": [
    {
     "data": {
      "text/plain": [
       "accuracy                   0.225047\n",
       "balanced accuracy          0.550131\n",
       "f1                         0.246360\n",
       "precision                  0.140737\n",
       "false positive rate        0.887138\n",
       "false negative rate        0.012600\n",
       "selection rate             0.900000\n",
       "count                  89710.000000\n",
       "dtype: float64"
      ]
     },
     "execution_count": 61,
     "metadata": {},
     "output_type": "execute_result"
    }
   ],
   "source": [
    "metric_frame.overall"
   ]
  },
  {
   "cell_type": "markdown",
   "id": "e968fe9d",
   "metadata": {
    "papermill": {
     "duration": 0.011112,
     "end_time": "2025-08-05T20:45:59.569479",
     "exception": false,
     "start_time": "2025-08-05T20:45:59.558367",
     "status": "completed"
    },
    "tags": []
   },
   "source": [
    "By Group"
   ]
  },
  {
   "cell_type": "code",
   "execution_count": 62,
   "id": "ec325bce",
   "metadata": {
    "execution": {
     "iopub.execute_input": "2025-08-05T20:45:59.593196Z",
     "iopub.status.busy": "2025-08-05T20:45:59.592703Z",
     "iopub.status.idle": "2025-08-05T20:45:59.605082Z",
     "shell.execute_reply": "2025-08-05T20:45:59.604222Z"
    },
    "papermill": {
     "duration": 0.025876,
     "end_time": "2025-08-05T20:45:59.606550",
     "exception": false,
     "start_time": "2025-08-05T20:45:59.580674",
     "status": "completed"
    },
    "tags": []
   },
   "outputs": [
    {
     "data": {
      "text/html": [
       "<div>\n",
       "<style scoped>\n",
       "    .dataframe tbody tr th:only-of-type {\n",
       "        vertical-align: middle;\n",
       "    }\n",
       "\n",
       "    .dataframe tbody tr th {\n",
       "        vertical-align: top;\n",
       "    }\n",
       "\n",
       "    .dataframe thead th {\n",
       "        text-align: right;\n",
       "    }\n",
       "</style>\n",
       "<table border=\"1\" class=\"dataframe\">\n",
       "  <thead>\n",
       "    <tr style=\"text-align: right;\">\n",
       "      <th></th>\n",
       "      <th>accuracy</th>\n",
       "      <th>balanced accuracy</th>\n",
       "      <th>f1</th>\n",
       "      <th>precision</th>\n",
       "      <th>false positive rate</th>\n",
       "      <th>false negative rate</th>\n",
       "      <th>selection rate</th>\n",
       "      <th>count</th>\n",
       "    </tr>\n",
       "    <tr>\n",
       "      <th>majmin</th>\n",
       "      <th></th>\n",
       "      <th></th>\n",
       "      <th></th>\n",
       "      <th></th>\n",
       "      <th></th>\n",
       "      <th></th>\n",
       "      <th></th>\n",
       "      <th></th>\n",
       "    </tr>\n",
       "  </thead>\n",
       "  <tbody>\n",
       "    <tr>\n",
       "      <th>majority</th>\n",
       "      <td>0.245381</td>\n",
       "      <td>0.559445</td>\n",
       "      <td>0.256739</td>\n",
       "      <td>0.147576</td>\n",
       "      <td>0.867433</td>\n",
       "      <td>0.013676</td>\n",
       "      <td>0.883143</td>\n",
       "      <td>69170.0</td>\n",
       "    </tr>\n",
       "    <tr>\n",
       "      <th>minority</th>\n",
       "      <td>0.156573</td>\n",
       "      <td>0.519660</td>\n",
       "      <td>0.213261</td>\n",
       "      <td>0.119479</td>\n",
       "      <td>0.952234</td>\n",
       "      <td>0.008446</td>\n",
       "      <td>0.956767</td>\n",
       "      <td>20540.0</td>\n",
       "    </tr>\n",
       "  </tbody>\n",
       "</table>\n",
       "</div>"
      ],
      "text/plain": [
       "          accuracy  balanced accuracy        f1  precision  \\\n",
       "majmin                                                       \n",
       "majority  0.245381           0.559445  0.256739   0.147576   \n",
       "minority  0.156573           0.519660  0.213261   0.119479   \n",
       "\n",
       "          false positive rate  false negative rate  selection rate    count  \n",
       "majmin                                                                       \n",
       "majority             0.867433             0.013676        0.883143  69170.0  \n",
       "minority             0.952234             0.008446        0.956767  20540.0  "
      ]
     },
     "execution_count": 62,
     "metadata": {},
     "output_type": "execute_result"
    }
   ],
   "source": [
    "metric_frame.by_group"
   ]
  },
  {
   "cell_type": "code",
   "execution_count": 63,
   "id": "a9ddbe63",
   "metadata": {
    "execution": {
     "iopub.execute_input": "2025-08-05T20:45:59.630770Z",
     "iopub.status.busy": "2025-08-05T20:45:59.630285Z",
     "iopub.status.idle": "2025-08-05T20:46:01.858199Z",
     "shell.execute_reply": "2025-08-05T20:46:01.857066Z"
    },
    "papermill": {
     "duration": 2.241516,
     "end_time": "2025-08-05T20:46:01.859900",
     "exception": false,
     "start_time": "2025-08-05T20:45:59.618384",
     "status": "completed"
    },
    "tags": []
   },
   "outputs": [
    {
     "data": {
      "text/plain": [
       "array([[<Axes: title={'center': 'accuracy'}, xlabel='majmin'>,\n",
       "        <Axes: title={'center': 'balanced accuracy'}, xlabel='majmin'>,\n",
       "        <Axes: title={'center': 'f1'}, xlabel='majmin'>],\n",
       "       [<Axes: title={'center': 'precision'}, xlabel='majmin'>,\n",
       "        <Axes: title={'center': 'false positive rate'}, xlabel='majmin'>,\n",
       "        <Axes: title={'center': 'false negative rate'}, xlabel='majmin'>],\n",
       "       [<Axes: title={'center': 'selection rate'}, xlabel='majmin'>,\n",
       "        <Axes: title={'center': 'count'}, xlabel='majmin'>,\n",
       "        <Axes: xlabel='majmin'>]], dtype=object)"
      ]
     },
     "execution_count": 63,
     "metadata": {},
     "output_type": "execute_result"
    },
    {
     "data": {
      "image/png": "[encoded data removed]",
      "text/plain": [
       "<Figure size 1200x800 with 9 Axes>"
      ]
     },
     "metadata": {},
     "output_type": "display_data"
    }
   ],
   "source": [
    "# In a graphic\n",
    "metric_frame.by_group.plot.bar(\n",
    "    subplots=True,\n",
    "    layout=[3, 3],\n",
    "    legend=False,\n",
    "    figsize=[12, 8],\n",
    "    title=\"Show all metrics\",\n",
    ")"
   ]
  },
  {
   "cell_type": "markdown",
   "id": "f57a0bac",
   "metadata": {
    "papermill": {
     "duration": 0.025434,
     "end_time": "2025-08-05T20:46:01.912306",
     "exception": false,
     "start_time": "2025-08-05T20:46:01.886872",
     "status": "completed"
    },
    "tags": []
   },
   "source": [
    "# Final Output"
   ]
  },
  {
   "cell_type": "code",
   "execution_count": 64,
   "id": "96d280a3",
   "metadata": {
    "execution": {
     "iopub.execute_input": "2025-08-05T20:46:01.966335Z",
     "iopub.status.busy": "2025-08-05T20:46:01.965575Z",
     "iopub.status.idle": "2025-08-05T20:46:01.975540Z",
     "shell.execute_reply": "2025-08-05T20:46:01.974503Z"
    },
    "papermill": {
     "duration": 0.040884,
     "end_time": "2025-08-05T20:46:01.977233",
     "exception": false,
     "start_time": "2025-08-05T20:46:01.936349",
     "status": "completed"
    },
    "tags": []
   },
   "outputs": [
    {
     "data": {
      "text/plain": [
       "4"
      ]
     },
     "execution_count": 64,
     "metadata": {},
     "output_type": "execute_result"
    }
   ],
   "source": [
    "sub_universes = universe_analysis.generate_sub_universes()\n",
    "len(sub_universes)"
   ]
  },
  {
   "cell_type": "code",
   "execution_count": 65,
   "id": "92adf7ba",
   "metadata": {
    "execution": {
     "iopub.execute_input": "2025-08-05T20:46:02.033764Z",
     "iopub.status.busy": "2025-08-05T20:46:02.032844Z",
     "iopub.status.idle": "2025-08-05T20:46:02.039352Z",
     "shell.execute_reply": "2025-08-05T20:46:02.038386Z"
    },
    "papermill": {
     "duration": 0.036534,
     "end_time": "2025-08-05T20:46:02.040982",
     "exception": false,
     "start_time": "2025-08-05T20:46:02.004448",
     "status": "completed"
    },
    "tags": []
   },
   "outputs": [],
   "source": [
    "def filter_sub_universe_data(sub_universe, org_test):\n",
    "    # Keep all rows — no filtering\n",
    "    keep_rows_mask = np.ones(org_test.shape[0], dtype=bool)\n",
    "\n",
    "    print(f\"[INFO] Keeping all rows: {keep_rows_mask.sum()} rows retained.\")\n",
    "    return keep_rows_mask"
   ]
  },
  {
   "cell_type": "code",
   "execution_count": 66,
   "id": "4a759155",
   "metadata": {
    "execution": {
     "iopub.execute_input": "2025-08-05T20:46:02.097554Z",
     "iopub.status.busy": "2025-08-05T20:46:02.096844Z",
     "iopub.status.idle": "2025-08-05T20:46:12.520838Z",
     "shell.execute_reply": "2025-08-05T20:46:12.519756Z"
    },
    "papermill": {
     "duration": 10.453761,
     "end_time": "2025-08-05T20:46:12.522631",
     "exception": false,
     "start_time": "2025-08-05T20:46:02.068870",
     "status": "completed"
    },
    "tags": []
   },
   "outputs": [
    {
     "name": "stdout",
     "output_type": "stream",
     "text": [
      "Stopping execution_time clock.\n",
      "[INFO] Keeping all rows: 89710 rows retained.\n"
     ]
    },
    {
     "name": "stdout",
     "output_type": "stream",
     "text": [
      "[INFO] Keeping all rows: 89710 rows retained.\n"
     ]
    },
    {
     "name": "stdout",
     "output_type": "stream",
     "text": [
      "[INFO] Keeping all rows: 89710 rows retained.\n"
     ]
    },
    {
     "name": "stdout",
     "output_type": "stream",
     "text": [
      "[INFO] Keeping all rows: 89710 rows retained.\n"
     ]
    },
    {
     "data": {
      "text/html": [
       "<div>\n",
       "<style scoped>\n",
       "    .dataframe tbody tr th:only-of-type {\n",
       "        vertical-align: middle;\n",
       "    }\n",
       "\n",
       "    .dataframe tbody tr th {\n",
       "        vertical-align: top;\n",
       "    }\n",
       "\n",
       "    .dataframe thead th {\n",
       "        text-align: right;\n",
       "    }\n",
       "</style>\n",
       "<table border=\"1\" class=\"dataframe\">\n",
       "  <thead>\n",
       "    <tr style=\"text-align: right;\">\n",
       "      <th></th>\n",
       "      <th>run_no</th>\n",
       "      <th>universe_id</th>\n",
       "      <th>universe_settings</th>\n",
       "      <th>execution_time</th>\n",
       "      <th>test_size_n</th>\n",
       "      <th>test_size_frac</th>\n",
       "      <th>fair_main_equalized_odds_difference</th>\n",
       "      <th>fair_main_equalized_odds_ratio</th>\n",
       "      <th>fair_main_demographic_parity_difference</th>\n",
       "      <th>fair_main_demographic_parity_ratio</th>\n",
       "      <th>...</th>\n",
       "      <th>perf_grp_precision_0</th>\n",
       "      <th>perf_grp_precision_1</th>\n",
       "      <th>perf_grp_false positive rate_0</th>\n",
       "      <th>perf_grp_false positive rate_1</th>\n",
       "      <th>perf_grp_false negative rate_0</th>\n",
       "      <th>perf_grp_false negative rate_1</th>\n",
       "      <th>perf_grp_selection rate_0</th>\n",
       "      <th>perf_grp_selection rate_1</th>\n",
       "      <th>perf_grp_count_0</th>\n",
       "      <th>perf_grp_count_1</th>\n",
       "    </tr>\n",
       "  </thead>\n",
       "  <tbody>\n",
       "    <tr>\n",
       "      <th>0</th>\n",
       "      <td>16</td>\n",
       "      <td>bec957a75423dd2e6be82c5c68c6b0d4</td>\n",
       "      <td>{\"cutoff\": \"quantile_0.1\", \"eval_fairness_grou...</td>\n",
       "      <td>50.556986</td>\n",
       "      <td>89710</td>\n",
       "      <td>1.0</td>\n",
       "      <td>0.084801</td>\n",
       "      <td>0.910945</td>\n",
       "      <td>0.073624</td>\n",
       "      <td>0.923049</td>\n",
       "      <td>...</td>\n",
       "      <td>NaN</td>\n",
       "      <td>NaN</td>\n",
       "      <td>NaN</td>\n",
       "      <td>NaN</td>\n",
       "      <td>NaN</td>\n",
       "      <td>NaN</td>\n",
       "      <td>NaN</td>\n",
       "      <td>NaN</td>\n",
       "      <td>NaN</td>\n",
       "      <td>NaN</td>\n",
       "    </tr>\n",
       "    <tr>\n",
       "      <th>0</th>\n",
       "      <td>16</td>\n",
       "      <td>bec957a75423dd2e6be82c5c68c6b0d4</td>\n",
       "      <td>{\"cutoff\": \"quantile_0.1\", \"eval_fairness_grou...</td>\n",
       "      <td>50.556986</td>\n",
       "      <td>89710</td>\n",
       "      <td>1.0</td>\n",
       "      <td>0.084801</td>\n",
       "      <td>0.910945</td>\n",
       "      <td>0.073624</td>\n",
       "      <td>0.923049</td>\n",
       "      <td>...</td>\n",
       "      <td>0.119479</td>\n",
       "      <td>0.147576</td>\n",
       "      <td>0.952234</td>\n",
       "      <td>0.867433</td>\n",
       "      <td>0.008446</td>\n",
       "      <td>0.013676</td>\n",
       "      <td>0.956767</td>\n",
       "      <td>0.883143</td>\n",
       "      <td>20540.0</td>\n",
       "      <td>69170.0</td>\n",
       "    </tr>\n",
       "    <tr>\n",
       "      <th>0</th>\n",
       "      <td>16</td>\n",
       "      <td>bec957a75423dd2e6be82c5c68c6b0d4</td>\n",
       "      <td>{\"cutoff\": \"quantile_0.25\", \"eval_fairness_gro...</td>\n",
       "      <td>50.556986</td>\n",
       "      <td>89710</td>\n",
       "      <td>1.0</td>\n",
       "      <td>0.097622</td>\n",
       "      <td>0.877334</td>\n",
       "      <td>0.080704</td>\n",
       "      <td>0.900638</td>\n",
       "      <td>...</td>\n",
       "      <td>NaN</td>\n",
       "      <td>NaN</td>\n",
       "      <td>NaN</td>\n",
       "      <td>NaN</td>\n",
       "      <td>NaN</td>\n",
       "      <td>NaN</td>\n",
       "      <td>NaN</td>\n",
       "      <td>NaN</td>\n",
       "      <td>NaN</td>\n",
       "      <td>NaN</td>\n",
       "    </tr>\n",
       "    <tr>\n",
       "      <th>0</th>\n",
       "      <td>16</td>\n",
       "      <td>bec957a75423dd2e6be82c5c68c6b0d4</td>\n",
       "      <td>{\"cutoff\": \"quantile_0.25\", \"eval_fairness_gro...</td>\n",
       "      <td>50.556986</td>\n",
       "      <td>89710</td>\n",
       "      <td>1.0</td>\n",
       "      <td>0.097622</td>\n",
       "      <td>0.877334</td>\n",
       "      <td>0.080704</td>\n",
       "      <td>0.900638</td>\n",
       "      <td>...</td>\n",
       "      <td>0.133130</td>\n",
       "      <td>0.171644</td>\n",
       "      <td>0.795840</td>\n",
       "      <td>0.698218</td>\n",
       "      <td>0.062078</td>\n",
       "      <td>0.049781</td>\n",
       "      <td>0.812220</td>\n",
       "      <td>0.731517</td>\n",
       "      <td>20540.0</td>\n",
       "      <td>69170.0</td>\n",
       "    </tr>\n",
       "  </tbody>\n",
       "</table>\n",
       "<p>4 rows × 50 columns</p>\n",
       "</div>"
      ],
      "text/plain": [
       "  run_no                       universe_id  \\\n",
       "0     16  bec957a75423dd2e6be82c5c68c6b0d4   \n",
       "0     16  bec957a75423dd2e6be82c5c68c6b0d4   \n",
       "0     16  bec957a75423dd2e6be82c5c68c6b0d4   \n",
       "0     16  bec957a75423dd2e6be82c5c68c6b0d4   \n",
       "\n",
       "                                   universe_settings  execution_time  \\\n",
       "0  {\"cutoff\": \"quantile_0.1\", \"eval_fairness_grou...       50.556986   \n",
       "0  {\"cutoff\": \"quantile_0.1\", \"eval_fairness_grou...       50.556986   \n",
       "0  {\"cutoff\": \"quantile_0.25\", \"eval_fairness_gro...       50.556986   \n",
       "0  {\"cutoff\": \"quantile_0.25\", \"eval_fairness_gro...       50.556986   \n",
       "\n",
       "   test_size_n  test_size_frac  fair_main_equalized_odds_difference  \\\n",
       "0        89710             1.0                             0.084801   \n",
       "0        89710             1.0                             0.084801   \n",
       "0        89710             1.0                             0.097622   \n",
       "0        89710             1.0                             0.097622   \n",
       "\n",
       "   fair_main_equalized_odds_ratio  fair_main_demographic_parity_difference  \\\n",
       "0                        0.910945                                 0.073624   \n",
       "0                        0.910945                                 0.073624   \n",
       "0                        0.877334                                 0.080704   \n",
       "0                        0.877334                                 0.080704   \n",
       "\n",
       "   fair_main_demographic_parity_ratio  ...  perf_grp_precision_0  \\\n",
       "0                            0.923049  ...                   NaN   \n",
       "0                            0.923049  ...              0.119479   \n",
       "0                            0.900638  ...                   NaN   \n",
       "0                            0.900638  ...              0.133130   \n",
       "\n",
       "   perf_grp_precision_1  perf_grp_false positive rate_0  \\\n",
       "0                   NaN                             NaN   \n",
       "0              0.147576                        0.952234   \n",
       "0                   NaN                             NaN   \n",
       "0              0.171644                        0.795840   \n",
       "\n",
       "   perf_grp_false positive rate_1  perf_grp_false negative rate_0  \\\n",
       "0                             NaN                             NaN   \n",
       "0                        0.867433                        0.008446   \n",
       "0                             NaN                             NaN   \n",
       "0                        0.698218                        0.062078   \n",
       "\n",
       "   perf_grp_false negative rate_1  perf_grp_selection rate_0  \\\n",
       "0                             NaN                        NaN   \n",
       "0                        0.013676                   0.956767   \n",
       "0                             NaN                        NaN   \n",
       "0                        0.049781                   0.812220   \n",
       "\n",
       "   perf_grp_selection rate_1  perf_grp_count_0  perf_grp_count_1  \n",
       "0                        NaN               NaN               NaN  \n",
       "0                   0.883143           20540.0           69170.0  \n",
       "0                        NaN               NaN               NaN  \n",
       "0                   0.731517           20540.0           69170.0  \n",
       "\n",
       "[4 rows x 50 columns]"
      ]
     },
     "execution_count": 66,
     "metadata": {},
     "output_type": "execute_result"
    }
   ],
   "source": [
    "final_output = universe_analysis.generate_final_output(\n",
    "    y_pred_prob=probs_test,\n",
    "    y_test=y_true,\n",
    "    org_test=org_test,\n",
    "    filter_data=filter_sub_universe_data,\n",
    "    cp_metrics_df=cp_metrics_df,\n",
    "    save=True,\n",
    ")\n",
    "final_output"
   ]
  }
 ],
 "metadata": {
  "celltoolbar": "Tags",
  "kernelspec": {
   "display_name": "Python (CMA Fairness)",
   "language": "python",
   "name": "cma_fair_env"
  },
  "language_info": {
   "codemirror_mode": {
    "name": "ipython",
    "version": 3
   },
   "file_extension": ".py",
   "mimetype": "text/x-python",
   "name": "python",
   "nbconvert_exporter": "python",
   "pygments_lexer": "ipython3",
   "version": "3.10.12"
  },
  "papermill": {
   "default_parameters": {},
   "duration": 64.933293,
   "end_time": "2025-08-05T20:46:13.370161",
   "environment_variables": {},
   "exception": null,
   "input_path": "universe_analysis.ipynb",
   "output_path": "output/runs/16/notebooks/m_16-bec957a75423dd2e6be82c5c68c6b0d4.ipynb",
   "parameters": {
    "output_dir": "output",
    "run_no": "16",
    "seed": "2023",
    "universe": "{\"cutoff\": [\"quantile_0.1\", \"quantile_0.25\"], \"eval_fairness_grouping\": [\"majority-minority\", \"nationality-all\"], \"exclude_features\": \"none\", \"exclude_subgroups\": \"keep-all\", \"model\": \"gbm\", \"scale\": \"do-not-scale\", \"training_size\": \"25k\", \"training_year\": \"2014\"}",
    "universe_id": "bec957a75423dd2e6be82c5c68c6b0d4"
   },
   "start_time": "2025-08-05T20:45:08.436868",
   "version": "2.6.0"
  }
 },
 "nbformat": 4,
 "nbformat_minor": 5
}