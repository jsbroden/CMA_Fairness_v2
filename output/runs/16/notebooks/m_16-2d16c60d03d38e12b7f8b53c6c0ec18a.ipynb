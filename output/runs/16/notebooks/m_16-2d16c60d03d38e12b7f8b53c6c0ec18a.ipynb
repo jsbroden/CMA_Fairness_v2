{
 "cells": [
  {
   "cell_type": "code",
   "execution_count": 1,
   "id": "f159f837-637b-42ba-96b5-ec9a68c44524",
   "metadata": {
    "execution": {
     "iopub.execute_input": "2025-08-05T20:35:22.384146Z",
     "iopub.status.busy": "2025-08-05T20:35:22.383273Z",
     "iopub.status.idle": "2025-08-05T20:35:22.396904Z",
     "shell.execute_reply": "2025-08-05T20:35:22.395754Z"
    },
    "papermill": {
     "duration": 0.033466,
     "end_time": "2025-08-05T20:35:22.398639",
     "exception": false,
     "start_time": "2025-08-05T20:35:22.365173",
     "status": "completed"
    },
    "tags": []
   },
   "outputs": [
    {
     "name": "stdout",
     "output_type": "stream",
     "text": [
      "/dss/dsshome1/0C/ra93lal2/cma/CMA_Fairness_v2\n"
     ]
    },
    {
     "name": "stderr",
     "output_type": "stream",
     "text": [
      "/dss/dsshome1/0C/ra93lal2/.local/share/virtualenvs/CMA_Fairness_v2-3j10GkSs/lib/python3.10/site-packages/IPython/core/magics/osm.py:393: UserWarning: This is now an optional IPython functionality, using bookmarks requires you to install the `pickleshare` library.\n",
      "  bkms = self.shell.db.get('bookmarks', {})\n",
      "/dss/dsshome1/0C/ra93lal2/.local/share/virtualenvs/CMA_Fairness_v2-3j10GkSs/lib/python3.10/site-packages/IPython/core/magics/osm.py:417: UserWarning: This is now an optional IPython functionality, setting dhist requires you to install the `pickleshare` library.\n",
      "  self.shell.db['dhist'] = compress_dhist(dhist)[-100:]\n"
     ]
    }
   ],
   "source": [
    "%cd ~/cma/CMA_Fairness_v2"
   ]
  },
  {
   "cell_type": "markdown",
   "id": "de2603b9",
   "metadata": {
    "papermill": {
     "duration": 0.016556,
     "end_time": "2025-08-05T20:35:22.431974",
     "exception": false,
     "start_time": "2025-08-05T20:35:22.415418",
     "status": "completed"
    },
    "tags": []
   },
   "source": [
    "The following cell holds the definition of our parameters, these values can be overriden by rendering the with e.g. the following command:\n",
    "\n",
    "papermill -p alpha 0.2 -p ratio 0.3 universe_analysis.ipynb output/test_run.ipynb"
   ]
  },
  {
   "cell_type": "code",
   "execution_count": 2,
   "id": "a80968a0-40bb-4fa9-85ef-2d5eefb01975",
   "metadata": {
    "execution": {
     "iopub.execute_input": "2025-08-05T20:35:22.466475Z",
     "iopub.status.busy": "2025-08-05T20:35:22.465564Z",
     "iopub.status.idle": "2025-08-05T20:35:22.471470Z",
     "shell.execute_reply": "2025-08-05T20:35:22.470457Z"
    },
    "papermill": {
     "duration": 0.025326,
     "end_time": "2025-08-05T20:35:22.473319",
     "exception": false,
     "start_time": "2025-08-05T20:35:22.447993",
     "status": "completed"
    },
    "tags": []
   },
   "outputs": [
    {
     "name": "stdout",
     "output_type": "stream",
     "text": [
      "Current working directory: /dss/dsshome1/0C/ra93lal2/cma/CMA_Fairness_v2\n"
     ]
    }
   ],
   "source": [
    "import os\n",
    "print(\"Current working directory:\", os.getcwd())"
   ]
  },
  {
   "cell_type": "code",
   "execution_count": 3,
   "id": "2dce4c03",
   "metadata": {
    "execution": {
     "iopub.execute_input": "2025-08-05T20:35:22.508575Z",
     "iopub.status.busy": "2025-08-05T20:35:22.507824Z",
     "iopub.status.idle": "2025-08-05T20:35:22.514205Z",
     "shell.execute_reply": "2025-08-05T20:35:22.513102Z"
    },
    "papermill": {
     "duration": 0.02545,
     "end_time": "2025-08-05T20:35:22.516012",
     "exception": false,
     "start_time": "2025-08-05T20:35:22.490562",
     "status": "completed"
    },
    "tags": [
     "parameters"
    ]
   },
   "outputs": [],
   "source": [
    "run_no = 0\n",
    "universe_id = \"test\"\n",
    "universe = {\n",
    "    \"training_size\": \"25k\", # \"25k\", \"5k\", \"1k\"\n",
    "    \"training_year\": \"2014\", # \"2014\", \"2012_14\", \"2010_14\"\n",
    "    \"scale\": \"scale\", # \"scale\", \"do-not-scale\",\n",
    "    \"model\": \"elasticnet\", # \"logreg\", \"penalized_logreg\", \"rf\", \"gbm\", \"elasticnet\"\n",
    "    \"cutoff\": [\"quantile_0.15\", \"quantile_0.30\"],\n",
    "    \"exclude_features\": \"age\", # \"none\", \"nationality\", \"sex\", \"nationality-sex\", \"age\"\n",
    "    \"exclude_subgroups\": \"keep-all\", # \"keep-all\", \"drop-non-german\"\n",
    "    \"eval_fairness_grouping\": [\"majority-minority\", \"nationality-all\"]\n",
    "}\n",
    "\n",
    "output_dir=\"./output\"\n",
    "seed=0"
   ]
  },
  {
   "cell_type": "code",
   "execution_count": 4,
   "id": "8247716b",
   "metadata": {
    "execution": {
     "iopub.execute_input": "2025-08-05T20:35:22.554637Z",
     "iopub.status.busy": "2025-08-05T20:35:22.553816Z",
     "iopub.status.idle": "2025-08-05T20:35:22.559232Z",
     "shell.execute_reply": "2025-08-05T20:35:22.558366Z"
    },
    "papermill": {
     "duration": 0.026849,
     "end_time": "2025-08-05T20:35:22.561194",
     "exception": false,
     "start_time": "2025-08-05T20:35:22.534345",
     "status": "completed"
    },
    "tags": [
     "injected-parameters"
    ]
   },
   "outputs": [],
   "source": [
    "# Parameters\n",
    "universe_id = \"2d16c60d03d38e12b7f8b53c6c0ec18a\"\n",
    "run_no = \"16\"\n",
    "universe = \"{\\\"cutoff\\\": [\\\"quantile_0.1\\\", \\\"quantile_0.25\\\"], \\\"eval_fairness_grouping\\\": [\\\"majority-minority\\\", \\\"nationality-all\\\"], \\\"exclude_features\\\": \\\"nationality\\\", \\\"exclude_subgroups\\\": \\\"drop-non-german\\\", \\\"model\\\": \\\"rf\\\", \\\"scale\\\": \\\"scale\\\", \\\"training_size\\\": \\\"25k\\\", \\\"training_year\\\": \\\"2014\\\"}\"\n",
    "output_dir = \"output\"\n",
    "seed = \"2023\"\n"
   ]
  },
  {
   "cell_type": "code",
   "execution_count": 5,
   "id": "1650acaf",
   "metadata": {
    "execution": {
     "iopub.execute_input": "2025-08-05T20:35:22.600800Z",
     "iopub.status.busy": "2025-08-05T20:35:22.600372Z",
     "iopub.status.idle": "2025-08-05T20:35:22.605549Z",
     "shell.execute_reply": "2025-08-05T20:35:22.604427Z"
    },
    "papermill": {
     "duration": 0.027319,
     "end_time": "2025-08-05T20:35:22.607449",
     "exception": false,
     "start_time": "2025-08-05T20:35:22.580130",
     "status": "completed"
    },
    "tags": []
   },
   "outputs": [],
   "source": [
    "import json\n",
    "if isinstance(universe, str):\n",
    "    universe = json.loads(universe)"
   ]
  },
  {
   "cell_type": "code",
   "execution_count": 6,
   "id": "16620c48",
   "metadata": {
    "execution": {
     "iopub.execute_input": "2025-08-05T20:35:22.646669Z",
     "iopub.status.busy": "2025-08-05T20:35:22.645900Z",
     "iopub.status.idle": "2025-08-05T20:35:22.691247Z",
     "shell.execute_reply": "2025-08-05T20:35:22.690338Z"
    },
    "papermill": {
     "duration": 0.066901,
     "end_time": "2025-08-05T20:35:22.692918",
     "exception": false,
     "start_time": "2025-08-05T20:35:22.626017",
     "status": "completed"
    },
    "tags": []
   },
   "outputs": [],
   "source": [
    "# Auto-reload the custom package\n",
    "%load_ext autoreload\n",
    "%autoreload 1\n",
    "%aimport fairness_multiverse"
   ]
  },
  {
   "cell_type": "code",
   "execution_count": 7,
   "id": "01c5c9f3",
   "metadata": {
    "execution": {
     "iopub.execute_input": "2025-08-05T20:35:22.729929Z",
     "iopub.status.busy": "2025-08-05T20:35:22.728974Z",
     "iopub.status.idle": "2025-08-05T20:35:24.679308Z",
     "shell.execute_reply": "2025-08-05T20:35:24.678206Z"
    },
    "papermill": {
     "duration": 1.970826,
     "end_time": "2025-08-05T20:35:24.681291",
     "exception": false,
     "start_time": "2025-08-05T20:35:22.710465",
     "status": "completed"
    },
    "tags": []
   },
   "outputs": [],
   "source": [
    "from fairness_multiverse.universe import UniverseAnalysis\n",
    "\n",
    "universe_analysis = UniverseAnalysis(\n",
    "    run_no = run_no,\n",
    "    universe_id = universe_id,\n",
    "    universe = universe,\n",
    "    output_dir=output_dir,\n",
    ")"
   ]
  },
  {
   "cell_type": "code",
   "execution_count": 8,
   "id": "106241f5",
   "metadata": {
    "execution": {
     "iopub.execute_input": "2025-08-05T20:35:24.716072Z",
     "iopub.status.busy": "2025-08-05T20:35:24.715634Z",
     "iopub.status.idle": "2025-08-05T20:35:24.722418Z",
     "shell.execute_reply": "2025-08-05T20:35:24.721124Z"
    },
    "papermill": {
     "duration": 0.025536,
     "end_time": "2025-08-05T20:35:24.724259",
     "exception": false,
     "start_time": "2025-08-05T20:35:24.698723",
     "status": "completed"
    },
    "tags": []
   },
   "outputs": [
    {
     "name": "stdout",
     "output_type": "stream",
     "text": [
      "Using Seed: 2023\n"
     ]
    }
   ],
   "source": [
    "import numpy as np\n",
    "parsed_seed = int(seed)\n",
    "np.random.seed(parsed_seed)\n",
    "print(f\"Using Seed: {parsed_seed}\")"
   ]
  },
  {
   "cell_type": "markdown",
   "id": "e0ebdc57",
   "metadata": {
    "papermill": {
     "duration": 0.016765,
     "end_time": "2025-08-05T20:35:24.758618",
     "exception": false,
     "start_time": "2025-08-05T20:35:24.741853",
     "status": "completed"
    },
    "tags": []
   },
   "source": [
    "# Loading Data"
   ]
  },
  {
   "cell_type": "code",
   "execution_count": 9,
   "id": "f0496b8a",
   "metadata": {
    "execution": {
     "iopub.execute_input": "2025-08-05T20:35:24.793033Z",
     "iopub.status.busy": "2025-08-05T20:35:24.792089Z",
     "iopub.status.idle": "2025-08-05T20:35:36.980839Z",
     "shell.execute_reply": "2025-08-05T20:35:36.979871Z"
    },
    "papermill": {
     "duration": 12.20726,
     "end_time": "2025-08-05T20:35:36.982186",
     "exception": false,
     "start_time": "2025-08-05T20:35:24.774926",
     "status": "completed"
    },
    "tags": []
   },
   "outputs": [
    {
     "name": "stdout",
     "output_type": "stream",
     "text": [
      "Loading SIAB data from cache: data/siab_cached.csv.gz\n"
     ]
    },
    {
     "name": "stdout",
     "output_type": "stream",
     "text": [
      "(643690, 164)\n"
     ]
    }
   ],
   "source": [
    "from pathlib import Path\n",
    "import pandas as pd\n",
    "\n",
    "# File paths\n",
    "raw_file = Path(\"data/raw/siab.csv\")\n",
    "cache_file = Path(\"data/siab_cached.csv.gz\")\n",
    "\n",
    "# Ensure cache directory exists\n",
    "cache_file.parent.mkdir(parents=True, exist_ok=True)\n",
    "\n",
    "# Load with simple caching\n",
    "if cache_file.exists():\n",
    "    print(f\"Loading SIAB data from cache: {cache_file}\")\n",
    "    siab = pd.read_csv(cache_file, compression='gzip')\n",
    "else:\n",
    "    print(f\"Cache not found. Reading raw SIAB data: {raw_file}\")\n",
    "    siab = pd.read_csv(raw_file)\n",
    "    siab.to_csv(cache_file, index=False, compression='gzip')\n",
    "    print(f\"Cached SIAB data to: {cache_file}\")\n",
    "\n",
    "print(siab.shape)"
   ]
  },
  {
   "cell_type": "code",
   "execution_count": 10,
   "id": "db0ca512-5f53-4dba-abdb-a2888bca41ba",
   "metadata": {
    "execution": {
     "iopub.execute_input": "2025-08-05T20:35:37.004096Z",
     "iopub.status.busy": "2025-08-05T20:35:37.003731Z",
     "iopub.status.idle": "2025-08-05T20:35:37.008203Z",
     "shell.execute_reply": "2025-08-05T20:35:37.007344Z"
    },
    "papermill": {
     "duration": 0.015817,
     "end_time": "2025-08-05T20:35:37.009674",
     "exception": false,
     "start_time": "2025-08-05T20:35:36.993857",
     "status": "completed"
    },
    "tags": []
   },
   "outputs": [],
   "source": [
    "#siab"
   ]
  },
  {
   "cell_type": "markdown",
   "id": "997051c5-15bd-4b69-9786-c3001a3ce484",
   "metadata": {
    "papermill": {
     "duration": 0.009193,
     "end_time": "2025-08-05T20:35:37.030266",
     "exception": false,
     "start_time": "2025-08-05T20:35:37.021073",
     "status": "completed"
    },
    "tags": []
   },
   "source": [
    "# Splitting Data and Setting Training Data Size"
   ]
  },
  {
   "cell_type": "code",
   "execution_count": 11,
   "id": "aea9c6ef-6f46-42c8-85eb-5a62025c1508",
   "metadata": {
    "execution": {
     "iopub.execute_input": "2025-08-05T20:35:37.049350Z",
     "iopub.status.busy": "2025-08-05T20:35:37.048660Z",
     "iopub.status.idle": "2025-08-05T20:35:37.279823Z",
     "shell.execute_reply": "2025-08-05T20:35:37.279057Z"
    },
    "papermill": {
     "duration": 0.242308,
     "end_time": "2025-08-05T20:35:37.281293",
     "exception": false,
     "start_time": "2025-08-05T20:35:37.038985",
     "status": "completed"
    },
    "tags": []
   },
   "outputs": [],
   "source": [
    "from fairness_multiverse.universe import sample_by_year_size\n",
    "\n",
    "siab_train = sample_by_year_size(siab,\n",
    "                               training_year=universe[\"training_year\"],\n",
    "                               training_size=universe[\"training_size\"])"
   ]
  },
  {
   "cell_type": "code",
   "execution_count": 12,
   "id": "8d3afb32-789d-442c-8d5d-9f5aa8dd2eed",
   "metadata": {
    "execution": {
     "iopub.execute_input": "2025-08-05T20:35:37.300797Z",
     "iopub.status.busy": "2025-08-05T20:35:37.300478Z",
     "iopub.status.idle": "2025-08-05T20:35:37.304437Z",
     "shell.execute_reply": "2025-08-05T20:35:37.303629Z"
    },
    "papermill": {
     "duration": 0.015094,
     "end_time": "2025-08-05T20:35:37.305969",
     "exception": false,
     "start_time": "2025-08-05T20:35:37.290875",
     "status": "completed"
    },
    "tags": []
   },
   "outputs": [],
   "source": [
    "#siab_train.shape"
   ]
  },
  {
   "cell_type": "code",
   "execution_count": 13,
   "id": "d582db68-1a4c-47fb-84fc-08518dc1975a",
   "metadata": {
    "execution": {
     "iopub.execute_input": "2025-08-05T20:35:37.325906Z",
     "iopub.status.busy": "2025-08-05T20:35:37.325354Z",
     "iopub.status.idle": "2025-08-05T20:35:37.329848Z",
     "shell.execute_reply": "2025-08-05T20:35:37.329111Z"
    },
    "papermill": {
     "duration": 0.015659,
     "end_time": "2025-08-05T20:35:37.331328",
     "exception": false,
     "start_time": "2025-08-05T20:35:37.315669",
     "status": "completed"
    },
    "tags": []
   },
   "outputs": [],
   "source": [
    "#display(siab_train.groupby(\"year\").size())"
   ]
  },
  {
   "cell_type": "code",
   "execution_count": 14,
   "id": "a561edb4-d032-42cb-8256-22eac1111c64",
   "metadata": {
    "execution": {
     "iopub.execute_input": "2025-08-05T20:35:37.351395Z",
     "iopub.status.busy": "2025-08-05T20:35:37.350741Z",
     "iopub.status.idle": "2025-08-05T20:35:37.560970Z",
     "shell.execute_reply": "2025-08-05T20:35:37.560214Z"
    },
    "papermill": {
     "duration": 0.221362,
     "end_time": "2025-08-05T20:35:37.562460",
     "exception": false,
     "start_time": "2025-08-05T20:35:37.341098",
     "status": "completed"
    },
    "tags": []
   },
   "outputs": [],
   "source": [
    "#siab_train = siab_s[siab_s.year < 2015]\n",
    "siab_calib = siab[siab.year == 2015]\n",
    "siab_test = siab[siab.year == 2016]"
   ]
  },
  {
   "cell_type": "code",
   "execution_count": 15,
   "id": "472de16f-c3db-4916-846b-1f0de9cf1746",
   "metadata": {
    "execution": {
     "iopub.execute_input": "2025-08-05T20:35:37.582426Z",
     "iopub.status.busy": "2025-08-05T20:35:37.582090Z",
     "iopub.status.idle": "2025-08-05T20:35:37.603064Z",
     "shell.execute_reply": "2025-08-05T20:35:37.602018Z"
    },
    "papermill": {
     "duration": 0.032431,
     "end_time": "2025-08-05T20:35:37.604516",
     "exception": false,
     "start_time": "2025-08-05T20:35:37.572085",
     "status": "completed"
    },
    "tags": []
   },
   "outputs": [],
   "source": [
    "X_train = siab_train.iloc[:,4:164]\n",
    "y_train = siab_train.iloc[:, [3]]"
   ]
  },
  {
   "cell_type": "code",
   "execution_count": 16,
   "id": "828c96af-f43a-4ed6-ba47-8ac73a47d56c",
   "metadata": {
    "execution": {
     "iopub.execute_input": "2025-08-05T20:35:37.625253Z",
     "iopub.status.busy": "2025-08-05T20:35:37.624524Z",
     "iopub.status.idle": "2025-08-05T20:35:37.687506Z",
     "shell.execute_reply": "2025-08-05T20:35:37.686685Z"
    },
    "papermill": {
     "duration": 0.074463,
     "end_time": "2025-08-05T20:35:37.689024",
     "exception": false,
     "start_time": "2025-08-05T20:35:37.614561",
     "status": "completed"
    },
    "tags": []
   },
   "outputs": [],
   "source": [
    "X_calib = siab_calib.iloc[:,4:164]\n",
    "y_calib = siab_calib.iloc[:, [3]]"
   ]
  },
  {
   "cell_type": "code",
   "execution_count": 17,
   "id": "c34be9c3-6bd6-476e-acd3-845840e303be",
   "metadata": {
    "execution": {
     "iopub.execute_input": "2025-08-05T20:35:37.709819Z",
     "iopub.status.busy": "2025-08-05T20:35:37.709347Z",
     "iopub.status.idle": "2025-08-05T20:35:37.756690Z",
     "shell.execute_reply": "2025-08-05T20:35:37.755614Z"
    },
    "papermill": {
     "duration": 0.058562,
     "end_time": "2025-08-05T20:35:37.758130",
     "exception": false,
     "start_time": "2025-08-05T20:35:37.699568",
     "status": "completed"
    },
    "tags": []
   },
   "outputs": [],
   "source": [
    "X_test = siab_test.iloc[:,4:164]\n",
    "y_true = siab_test.iloc[:, [3]]"
   ]
  },
  {
   "cell_type": "code",
   "execution_count": 18,
   "id": "e6c733c5",
   "metadata": {
    "execution": {
     "iopub.execute_input": "2025-08-05T20:35:37.792271Z",
     "iopub.status.busy": "2025-08-05T20:35:37.791780Z",
     "iopub.status.idle": "2025-08-05T20:35:37.893321Z",
     "shell.execute_reply": "2025-08-05T20:35:37.891904Z"
    },
    "papermill": {
     "duration": 0.12255,
     "end_time": "2025-08-05T20:35:37.895830",
     "exception": false,
     "start_time": "2025-08-05T20:35:37.773280",
     "status": "completed"
    },
    "tags": []
   },
   "outputs": [],
   "source": [
    "# Auxiliary data needed downstream in the pipeline\n",
    "\n",
    "org_train = X_train.copy()\n",
    "org_test = X_test.copy()\n",
    "org_calib = X_calib.copy()"
   ]
  },
  {
   "cell_type": "markdown",
   "id": "0a4a1b33",
   "metadata": {
    "papermill": {
     "duration": 0.018527,
     "end_time": "2025-08-05T20:35:37.938642",
     "exception": false,
     "start_time": "2025-08-05T20:35:37.920115",
     "status": "completed"
    },
    "tags": []
   },
   "source": [
    "# Preprocessing Data"
   ]
  },
  {
   "cell_type": "code",
   "execution_count": 19,
   "id": "ca879031",
   "metadata": {
    "execution": {
     "iopub.execute_input": "2025-08-05T20:35:37.978767Z",
     "iopub.status.busy": "2025-08-05T20:35:37.977840Z",
     "iopub.status.idle": "2025-08-05T20:35:37.985299Z",
     "shell.execute_reply": "2025-08-05T20:35:37.984148Z"
    },
    "papermill": {
     "duration": 0.029615,
     "end_time": "2025-08-05T20:35:37.987208",
     "exception": false,
     "start_time": "2025-08-05T20:35:37.957593",
     "status": "completed"
    },
    "tags": []
   },
   "outputs": [],
   "source": [
    "# EXCLUDE PROTECTED FEATURES\n",
    "# ----------------------\n",
    "# \"exclude_features\": \"none\", # \"nationality\", \"sex\", \"nationality-sex\"\n",
    "\n",
    "excluded_features = universe[\"exclude_features\"].split(\"-\") # split, e.g.: \"nationality-sex\" -> [\"nationality\", \"sex\"]\n",
    "excluded_features_dictionary = {\n",
    "    \"nationality\": [\"maxdeutsch1\", \"maxdeutsch.Missing.\"],\n",
    "    \"sex\": [\"frau1\"],\n",
    "    \"age\": [\"age\"],\n",
    "}"
   ]
  },
  {
   "cell_type": "code",
   "execution_count": 20,
   "id": "b745ac60",
   "metadata": {
    "execution": {
     "iopub.execute_input": "2025-08-05T20:35:38.028490Z",
     "iopub.status.busy": "2025-08-05T20:35:38.027521Z",
     "iopub.status.idle": "2025-08-05T20:35:38.033975Z",
     "shell.execute_reply": "2025-08-05T20:35:38.032813Z"
    },
    "papermill": {
     "duration": 0.029255,
     "end_time": "2025-08-05T20:35:38.036009",
     "exception": false,
     "start_time": "2025-08-05T20:35:38.006754",
     "status": "completed"
    },
    "tags": []
   },
   "outputs": [],
   "source": [
    "# Code nice names to column names\n",
    "\n",
    "excluded_features_columns = [\n",
    "    excluded_features_dictionary[f] for f in excluded_features if len(f) > 0 and f != \"none\"\n",
    "]"
   ]
  },
  {
   "cell_type": "code",
   "execution_count": 21,
   "id": "f84f73a2",
   "metadata": {
    "execution": {
     "iopub.execute_input": "2025-08-05T20:35:38.076630Z",
     "iopub.status.busy": "2025-08-05T20:35:38.075680Z",
     "iopub.status.idle": "2025-08-05T20:35:38.082358Z",
     "shell.execute_reply": "2025-08-05T20:35:38.081326Z"
    },
    "papermill": {
     "duration": 0.028678,
     "end_time": "2025-08-05T20:35:38.084216",
     "exception": false,
     "start_time": "2025-08-05T20:35:38.055538",
     "status": "completed"
    },
    "tags": []
   },
   "outputs": [],
   "source": [
    "from utils import flatten_once\n",
    "\n",
    "excluded_features_columns = flatten_once(excluded_features_columns)"
   ]
  },
  {
   "cell_type": "code",
   "execution_count": 22,
   "id": "884dea22",
   "metadata": {
    "execution": {
     "iopub.execute_input": "2025-08-05T20:35:38.124086Z",
     "iopub.status.busy": "2025-08-05T20:35:38.123104Z",
     "iopub.status.idle": "2025-08-05T20:35:38.148227Z",
     "shell.execute_reply": "2025-08-05T20:35:38.147142Z"
    },
    "papermill": {
     "duration": 0.04819,
     "end_time": "2025-08-05T20:35:38.151694",
     "exception": false,
     "start_time": "2025-08-05T20:35:38.103504",
     "status": "completed"
    },
    "tags": []
   },
   "outputs": [
    {
     "name": "stdout",
     "output_type": "stream",
     "text": [
      "Dropping features: ['maxdeutsch1', 'maxdeutsch.Missing.']\n"
     ]
    }
   ],
   "source": [
    "if len(excluded_features_columns) > 0:\n",
    "    print(f\"Dropping features: {excluded_features_columns}\")\n",
    "    X_train.drop(excluded_features_columns, axis=1, inplace=True)"
   ]
  },
  {
   "cell_type": "code",
   "execution_count": 23,
   "id": "95ab8b16",
   "metadata": {
    "execution": {
     "iopub.execute_input": "2025-08-05T20:35:38.192104Z",
     "iopub.status.busy": "2025-08-05T20:35:38.191194Z",
     "iopub.status.idle": "2025-08-05T20:35:38.250181Z",
     "shell.execute_reply": "2025-08-05T20:35:38.248780Z"
    },
    "papermill": {
     "duration": 0.081305,
     "end_time": "2025-08-05T20:35:38.252070",
     "exception": false,
     "start_time": "2025-08-05T20:35:38.170765",
     "status": "completed"
    },
    "tags": []
   },
   "outputs": [
    {
     "name": "stdout",
     "output_type": "stream",
     "text": [
      "Dropping features: ['maxdeutsch1', 'maxdeutsch.Missing.']\n"
     ]
    }
   ],
   "source": [
    "if len(excluded_features_columns) > 0:\n",
    "    print(f\"Dropping features: {excluded_features_columns}\")\n",
    "    X_test.drop(excluded_features_columns, axis=1, inplace=True)"
   ]
  },
  {
   "cell_type": "code",
   "execution_count": 24,
   "id": "1853aaf5-fb9f-46cb-a2b5-8ea4ae2237e4",
   "metadata": {
    "execution": {
     "iopub.execute_input": "2025-08-05T20:35:38.292513Z",
     "iopub.status.busy": "2025-08-05T20:35:38.291625Z",
     "iopub.status.idle": "2025-08-05T20:35:38.344721Z",
     "shell.execute_reply": "2025-08-05T20:35:38.343722Z"
    },
    "papermill": {
     "duration": 0.075489,
     "end_time": "2025-08-05T20:35:38.347071",
     "exception": false,
     "start_time": "2025-08-05T20:35:38.271582",
     "status": "completed"
    },
    "tags": []
   },
   "outputs": [
    {
     "name": "stdout",
     "output_type": "stream",
     "text": [
      "Dropping features: ['maxdeutsch1', 'maxdeutsch.Missing.']\n"
     ]
    }
   ],
   "source": [
    "if len(excluded_features_columns) > 0:\n",
    "    print(f\"Dropping features: {excluded_features_columns}\")\n",
    "    X_calib.drop(excluded_features_columns, axis=1, inplace=True)"
   ]
  },
  {
   "cell_type": "code",
   "execution_count": 25,
   "id": "76c4dc6d",
   "metadata": {
    "execution": {
     "iopub.execute_input": "2025-08-05T20:35:38.388028Z",
     "iopub.status.busy": "2025-08-05T20:35:38.387147Z",
     "iopub.status.idle": "2025-08-05T20:35:38.392745Z",
     "shell.execute_reply": "2025-08-05T20:35:38.391769Z"
    },
    "papermill": {
     "duration": 0.02788,
     "end_time": "2025-08-05T20:35:38.394669",
     "exception": false,
     "start_time": "2025-08-05T20:35:38.366789",
     "status": "completed"
    },
    "tags": []
   },
   "outputs": [],
   "source": [
    "# EXCLUDE CERTAIN SUBGROUPS\n",
    "# ----------------------\n",
    "\n",
    "mode = universe.get(\"exclude_subgroups\", \"keep-all\") \n",
    "# Fetches the exclude_subgroups setting from the universe dict.\n",
    "# Defaults to \"keep-all\" if the key is missing."
   ]
  },
  {
   "cell_type": "code",
   "execution_count": 26,
   "id": "21994072",
   "metadata": {
    "execution": {
     "iopub.execute_input": "2025-08-05T20:35:38.435886Z",
     "iopub.status.busy": "2025-08-05T20:35:38.435196Z",
     "iopub.status.idle": "2025-08-05T20:35:38.442127Z",
     "shell.execute_reply": "2025-08-05T20:35:38.441114Z"
    },
    "papermill": {
     "duration": 0.029011,
     "end_time": "2025-08-05T20:35:38.443907",
     "exception": false,
     "start_time": "2025-08-05T20:35:38.414896",
     "status": "completed"
    },
    "tags": []
   },
   "outputs": [],
   "source": [
    "if mode == \"keep-all\":\n",
    "    keep_mask = pd.Series(True, index=org_train.index)\n",
    "\n",
    "# org_train contains the original feature columns from features_org (in Simson)\n",
    "# features_org contains unprocessed features, for me X_train at beginning ???\n",
    "# For keep-all, creates a boolean Series (keep_mask) of all True, so no rows are removed.\n",
    "\n",
    "elif mode == \"drop-non-german\":\n",
    "    keep_mask = org_train[\"maxdeutsch1\"] == 1 # ??? what about missing values?\n",
    "\n",
    "else:\n",
    "    raise ValueError(f\"Unsupported mode for exclude_subgroups: {mode}\")"
   ]
  },
  {
   "cell_type": "code",
   "execution_count": 27,
   "id": "71651440",
   "metadata": {
    "execution": {
     "iopub.execute_input": "2025-08-05T20:35:38.484494Z",
     "iopub.status.busy": "2025-08-05T20:35:38.483595Z",
     "iopub.status.idle": "2025-08-05T20:35:38.491240Z",
     "shell.execute_reply": "2025-08-05T20:35:38.490223Z"
    },
    "papermill": {
     "duration": 0.029695,
     "end_time": "2025-08-05T20:35:38.493057",
     "exception": false,
     "start_time": "2025-08-05T20:35:38.463362",
     "status": "completed"
    },
    "tags": []
   },
   "outputs": [
    {
     "name": "stdout",
     "output_type": "stream",
     "text": [
      "Dropping 3688 rows (14.75%) where mode='drop-non-german'\n"
     ]
    }
   ],
   "source": [
    "n_drop = (~keep_mask).sum() # Calculates how many rows are set to be dropped\n",
    "if n_drop > 0:\n",
    "    pct = n_drop / len(keep_mask) * 100\n",
    "    print(f\"Dropping {n_drop} rows ({pct:.2f}%) where mode='{mode}'\")"
   ]
  },
  {
   "cell_type": "code",
   "execution_count": 28,
   "id": "5fb8eee5",
   "metadata": {
    "execution": {
     "iopub.execute_input": "2025-08-05T20:35:38.534512Z",
     "iopub.status.busy": "2025-08-05T20:35:38.533551Z",
     "iopub.status.idle": "2025-08-05T20:35:38.554693Z",
     "shell.execute_reply": "2025-08-05T20:35:38.553571Z"
    },
    "papermill": {
     "duration": 0.043962,
     "end_time": "2025-08-05T20:35:38.556955",
     "exception": false,
     "start_time": "2025-08-05T20:35:38.512993",
     "status": "completed"
    },
    "tags": []
   },
   "outputs": [],
   "source": [
    "X_train = X_train[keep_mask]"
   ]
  },
  {
   "cell_type": "code",
   "execution_count": 29,
   "id": "b202bb3a",
   "metadata": {
    "execution": {
     "iopub.execute_input": "2025-08-05T20:35:38.598368Z",
     "iopub.status.busy": "2025-08-05T20:35:38.597882Z",
     "iopub.status.idle": "2025-08-05T20:35:38.604232Z",
     "shell.execute_reply": "2025-08-05T20:35:38.603258Z"
    },
    "papermill": {
     "duration": 0.02904,
     "end_time": "2025-08-05T20:35:38.606028",
     "exception": false,
     "start_time": "2025-08-05T20:35:38.576988",
     "status": "completed"
    },
    "tags": []
   },
   "outputs": [],
   "source": [
    "y_train = y_train[keep_mask]"
   ]
  },
  {
   "cell_type": "markdown",
   "id": "493e2ac3",
   "metadata": {
    "papermill": {
     "duration": 0.01985,
     "end_time": "2025-08-05T20:35:38.645610",
     "exception": false,
     "start_time": "2025-08-05T20:35:38.625760",
     "status": "completed"
    },
    "tags": []
   },
   "source": [
    "# Model Training"
   ]
  },
  {
   "cell_type": "code",
   "execution_count": 30,
   "id": "679e1268",
   "metadata": {
    "execution": {
     "iopub.execute_input": "2025-08-05T20:35:38.686944Z",
     "iopub.status.busy": "2025-08-05T20:35:38.686259Z",
     "iopub.status.idle": "2025-08-05T20:35:38.788790Z",
     "shell.execute_reply": "2025-08-05T20:35:38.787789Z"
    },
    "papermill": {
     "duration": 0.125761,
     "end_time": "2025-08-05T20:35:38.790735",
     "exception": false,
     "start_time": "2025-08-05T20:35:38.664974",
     "status": "completed"
    },
    "tags": []
   },
   "outputs": [],
   "source": [
    "from sklearn.linear_model import LogisticRegression\n",
    "from sklearn.ensemble import GradientBoostingClassifier, RandomForestClassifier\n",
    "\n",
    "if (universe[\"model\"] == \"logreg\"):\n",
    "    model = LogisticRegression() #penalty=\"none\", solver=\"newton-cg\", max_iter=1) # include random_state=19 ?\n",
    "elif (universe[\"model\"] == \"penalized_logreg\"):\n",
    "    model = LogisticRegression(penalty=\"l2\", C=0.1) #, solver=\"newton-cg\", max_iter=1)\n",
    "elif (universe[\"model\"] == \"rf\"):\n",
    "    model = RandomForestClassifier() # n_estimators=100, n_jobs=-1\n",
    "elif (universe[\"model\"] == \"gbm\"):\n",
    "    model = GradientBoostingClassifier()\n",
    "elif (universe[\"model\"] == \"elasticnet\"):\n",
    "    model = LogisticRegression(penalty = 'elasticnet', solver = 'saga', l1_ratio = 0.5) # max_iter=5000\n",
    "else:\n",
    "    raise \"Unsupported universe.model\""
   ]
  },
  {
   "cell_type": "code",
   "execution_count": 31,
   "id": "0cc8f744",
   "metadata": {
    "execution": {
     "iopub.execute_input": "2025-08-05T20:35:38.831693Z",
     "iopub.status.busy": "2025-08-05T20:35:38.830995Z",
     "iopub.status.idle": "2025-08-05T20:35:38.837479Z",
     "shell.execute_reply": "2025-08-05T20:35:38.836553Z"
    },
    "papermill": {
     "duration": 0.028924,
     "end_time": "2025-08-05T20:35:38.839302",
     "exception": false,
     "start_time": "2025-08-05T20:35:38.810378",
     "status": "completed"
    },
    "tags": []
   },
   "outputs": [],
   "source": [
    "import numpy as np\n",
    "from sklearn.pipeline import Pipeline\n",
    "from sklearn.preprocessing import StandardScaler\n",
    "\n",
    "model = Pipeline([\n",
    "    #(\"continuous_processor\", continuous_processor),\n",
    "    #(\"categorical_preprocessor\", categorical_preprocessor),\n",
    "    (\"scale\", StandardScaler() if universe[\"scale\"] == \"scale\" else None), \n",
    "    (\"model\", model),\n",
    "])"
   ]
  },
  {
   "cell_type": "code",
   "execution_count": 32,
   "id": "9442c04d",
   "metadata": {
    "execution": {
     "iopub.execute_input": "2025-08-05T20:35:38.881191Z",
     "iopub.status.busy": "2025-08-05T20:35:38.880503Z",
     "iopub.status.idle": "2025-08-05T20:35:45.719886Z",
     "shell.execute_reply": "2025-08-05T20:35:45.718926Z"
    },
    "papermill": {
     "duration": 6.861629,
     "end_time": "2025-08-05T20:35:45.721465",
     "exception": false,
     "start_time": "2025-08-05T20:35:38.859836",
     "status": "completed"
    },
    "tags": []
   },
   "outputs": [
    {
     "data": {
      "text/html": [
       "<style>#sk-container-id-1 {color: black;background-color: white;}#sk-container-id-1 pre{padding: 0;}#sk-container-id-1 div.sk-toggleable {background-color: white;}#sk-container-id-1 label.sk-toggleable__label {cursor: pointer;display: block;width: 100%;margin-bottom: 0;padding: 0.3em;box-sizing: border-box;text-align: center;}#sk-container-id-1 label.sk-toggleable__label-arrow:before {content: \"▸\";float: left;margin-right: 0.25em;color: #696969;}#sk-container-id-1 label.sk-toggleable__label-arrow:hover:before {color: black;}#sk-container-id-1 div.sk-estimator:hover label.sk-toggleable__label-arrow:before {color: black;}#sk-container-id-1 div.sk-toggleable__content {max-height: 0;max-width: 0;overflow: hidden;text-align: left;background-color: #f0f8ff;}#sk-container-id-1 div.sk-toggleable__content pre {margin: 0.2em;color: black;border-radius: 0.25em;background-color: #f0f8ff;}#sk-container-id-1 input.sk-toggleable__control:checked~div.sk-toggleable__content {max-height: 200px;max-width: 100%;overflow: auto;}#sk-container-id-1 input.sk-toggleable__control:checked~label.sk-toggleable__label-arrow:before {content: \"▾\";}#sk-container-id-1 div.sk-estimator input.sk-toggleable__control:checked~label.sk-toggleable__label {background-color: #d4ebff;}#sk-container-id-1 div.sk-label input.sk-toggleable__control:checked~label.sk-toggleable__label {background-color: #d4ebff;}#sk-container-id-1 input.sk-hidden--visually {border: 0;clip: rect(1px 1px 1px 1px);clip: rect(1px, 1px, 1px, 1px);height: 1px;margin: -1px;overflow: hidden;padding: 0;position: absolute;width: 1px;}#sk-container-id-1 div.sk-estimator {font-family: monospace;background-color: #f0f8ff;border: 1px dotted black;border-radius: 0.25em;box-sizing: border-box;margin-bottom: 0.5em;}#sk-container-id-1 div.sk-estimator:hover {background-color: #d4ebff;}#sk-container-id-1 div.sk-parallel-item::after {content: \"\";width: 100%;border-bottom: 1px solid gray;flex-grow: 1;}#sk-container-id-1 div.sk-label:hover label.sk-toggleable__label {background-color: #d4ebff;}#sk-container-id-1 div.sk-serial::before {content: \"\";position: absolute;border-left: 1px solid gray;box-sizing: border-box;top: 0;bottom: 0;left: 50%;z-index: 0;}#sk-container-id-1 div.sk-serial {display: flex;flex-direction: column;align-items: center;background-color: white;padding-right: 0.2em;padding-left: 0.2em;position: relative;}#sk-container-id-1 div.sk-item {position: relative;z-index: 1;}#sk-container-id-1 div.sk-parallel {display: flex;align-items: stretch;justify-content: center;background-color: white;position: relative;}#sk-container-id-1 div.sk-item::before, #sk-container-id-1 div.sk-parallel-item::before {content: \"\";position: absolute;border-left: 1px solid gray;box-sizing: border-box;top: 0;bottom: 0;left: 50%;z-index: -1;}#sk-container-id-1 div.sk-parallel-item {display: flex;flex-direction: column;z-index: 1;position: relative;background-color: white;}#sk-container-id-1 div.sk-parallel-item:first-child::after {align-self: flex-end;width: 50%;}#sk-container-id-1 div.sk-parallel-item:last-child::after {align-self: flex-start;width: 50%;}#sk-container-id-1 div.sk-parallel-item:only-child::after {width: 0;}#sk-container-id-1 div.sk-dashed-wrapped {border: 1px dashed gray;margin: 0 0.4em 0.5em 0.4em;box-sizing: border-box;padding-bottom: 0.4em;background-color: white;}#sk-container-id-1 div.sk-label label {font-family: monospace;font-weight: bold;display: inline-block;line-height: 1.2em;}#sk-container-id-1 div.sk-label-container {text-align: center;}#sk-container-id-1 div.sk-container {/* jupyter's `normalize.less` sets `[hidden] { display: none; }` but bootstrap.min.css set `[hidden] { display: none !important; }` so we also need the `!important` here to be able to override the default hidden behavior on the sphinx rendered scikit-learn.org. See: https://github.com/scikit-learn/scikit-learn/issues/21755 */display: inline-block !important;position: relative;}#sk-container-id-1 div.sk-text-repr-fallback {display: none;}</style><div id=\"sk-container-id-1\" class=\"sk-top-container\"><div class=\"sk-text-repr-fallback\"><pre>Pipeline(steps=[(&#x27;scale&#x27;, StandardScaler()),\n",
       "                (&#x27;model&#x27;, RandomForestClassifier())])</pre><b>In a Jupyter environment, please rerun this cell to show the HTML representation or trust the notebook. <br />On GitHub, the HTML representation is unable to render, please try loading this page with nbviewer.org.</b></div><div class=\"sk-container\" hidden><div class=\"sk-item sk-dashed-wrapped\"><div class=\"sk-label-container\"><div class=\"sk-label sk-toggleable\"><input class=\"sk-toggleable__control sk-hidden--visually\" id=\"sk-estimator-id-1\" type=\"checkbox\" ><label for=\"sk-estimator-id-1\" class=\"sk-toggleable__label sk-toggleable__label-arrow\">Pipeline</label><div class=\"sk-toggleable__content\"><pre>Pipeline(steps=[(&#x27;scale&#x27;, StandardScaler()),\n",
       "                (&#x27;model&#x27;, RandomForestClassifier())])</pre></div></div></div><div class=\"sk-serial\"><div class=\"sk-item\"><div class=\"sk-estimator sk-toggleable\"><input class=\"sk-toggleable__control sk-hidden--visually\" id=\"sk-estimator-id-2\" type=\"checkbox\" ><label for=\"sk-estimator-id-2\" class=\"sk-toggleable__label sk-toggleable__label-arrow\">StandardScaler</label><div class=\"sk-toggleable__content\"><pre>StandardScaler()</pre></div></div></div><div class=\"sk-item\"><div class=\"sk-estimator sk-toggleable\"><input class=\"sk-toggleable__control sk-hidden--visually\" id=\"sk-estimator-id-3\" type=\"checkbox\" ><label for=\"sk-estimator-id-3\" class=\"sk-toggleable__label sk-toggleable__label-arrow\">RandomForestClassifier</label><div class=\"sk-toggleable__content\"><pre>RandomForestClassifier()</pre></div></div></div></div></div></div></div>"
      ],
      "text/plain": [
       "Pipeline(steps=[('scale', StandardScaler()),\n",
       "                ('model', RandomForestClassifier())])"
      ]
     },
     "execution_count": 32,
     "metadata": {},
     "output_type": "execute_result"
    }
   ],
   "source": [
    "model.fit(X_train, y_train.values.ravel())"
   ]
  },
  {
   "cell_type": "code",
   "execution_count": 33,
   "id": "af59f8c0",
   "metadata": {
    "execution": {
     "iopub.execute_input": "2025-08-05T20:35:45.764223Z",
     "iopub.status.busy": "2025-08-05T20:35:45.763241Z",
     "iopub.status.idle": "2025-08-05T20:35:45.768997Z",
     "shell.execute_reply": "2025-08-05T20:35:45.767942Z"
    },
    "papermill": {
     "duration": 0.029687,
     "end_time": "2025-08-05T20:35:45.770948",
     "exception": false,
     "start_time": "2025-08-05T20:35:45.741261",
     "status": "completed"
    },
    "tags": []
   },
   "outputs": [],
   "source": [
    "from fairness_multiverse.universe import predict_w_threshold"
   ]
  },
  {
   "cell_type": "code",
   "execution_count": 34,
   "id": "a7cf2e16",
   "metadata": {
    "execution": {
     "iopub.execute_input": "2025-08-05T20:35:45.796487Z",
     "iopub.status.busy": "2025-08-05T20:35:45.796131Z",
     "iopub.status.idle": "2025-08-05T20:35:48.146947Z",
     "shell.execute_reply": "2025-08-05T20:35:48.146087Z"
    },
    "papermill": {
     "duration": 2.363862,
     "end_time": "2025-08-05T20:35:48.148322",
     "exception": false,
     "start_time": "2025-08-05T20:35:45.784460",
     "status": "completed"
    },
    "tags": []
   },
   "outputs": [
    {
     "data": {
      "text/plain": [
       "0.8622784527923308"
      ]
     },
     "execution_count": 34,
     "metadata": {},
     "output_type": "execute_result"
    }
   ],
   "source": [
    "probs_test = model.predict_proba(X_test)\n",
    "\n",
    "'''\n",
    "Below code returns a boolean array (or binary 0/1 array depending on how it’s used) where each element \n",
    "is True if the probability of class 1 is greater than or equal to the threshold, and False otherwise.\n",
    "'''\n",
    "y_pred_default = predict_w_threshold(probs_test, 0.5)\n",
    "\n",
    "from sklearn.metrics import accuracy_score\n",
    "\n",
    "# Naive prediction\n",
    "accuracy_score(y_true = y_true, y_pred = y_pred_default)"
   ]
  },
  {
   "cell_type": "code",
   "execution_count": 35,
   "id": "081964c3",
   "metadata": {
    "execution": {
     "iopub.execute_input": "2025-08-05T20:35:48.170463Z",
     "iopub.status.busy": "2025-08-05T20:35:48.170116Z",
     "iopub.status.idle": "2025-08-05T20:35:51.494564Z",
     "shell.execute_reply": "2025-08-05T20:35:51.493605Z"
    },
    "papermill": {
     "duration": 3.337429,
     "end_time": "2025-08-05T20:35:51.496360",
     "exception": false,
     "start_time": "2025-08-05T20:35:48.158931",
     "status": "completed"
    },
    "tags": []
   },
   "outputs": [
    {
     "data": {
      "text/plain": [
       "array([0, 0, 0, ..., 0, 0, 0])"
      ]
     },
     "execution_count": 35,
     "metadata": {},
     "output_type": "execute_result"
    }
   ],
   "source": [
    "model.predict(X_test)"
   ]
  },
  {
   "cell_type": "markdown",
   "id": "56c9705b",
   "metadata": {
    "papermill": {
     "duration": 0.021523,
     "end_time": "2025-08-05T20:35:51.543495",
     "exception": false,
     "start_time": "2025-08-05T20:35:51.521972",
     "status": "completed"
    },
    "tags": []
   },
   "source": [
    "# Conformal Prediction"
   ]
  },
  {
   "cell_type": "code",
   "execution_count": 36,
   "id": "160ec6ff",
   "metadata": {
    "execution": {
     "iopub.execute_input": "2025-08-05T20:35:51.603263Z",
     "iopub.status.busy": "2025-08-05T20:35:51.602802Z",
     "iopub.status.idle": "2025-08-05T20:35:51.608760Z",
     "shell.execute_reply": "2025-08-05T20:35:51.607775Z"
    },
    "papermill": {
     "duration": 0.04443,
     "end_time": "2025-08-05T20:35:51.610447",
     "exception": false,
     "start_time": "2025-08-05T20:35:51.566017",
     "status": "completed"
    },
    "tags": []
   },
   "outputs": [],
   "source": [
    "# Miscoverage level for conformal prediction (10% allowed error rate => 90% target coverage)\n",
    "alpha = 0.1"
   ]
  },
  {
   "cell_type": "code",
   "execution_count": 37,
   "id": "eadf4555-3dd3-440e-8e35-f82a4ad9f855",
   "metadata": {
    "execution": {
     "iopub.execute_input": "2025-08-05T20:35:51.634447Z",
     "iopub.status.busy": "2025-08-05T20:35:51.633923Z",
     "iopub.status.idle": "2025-08-05T20:35:54.812109Z",
     "shell.execute_reply": "2025-08-05T20:35:54.811141Z"
    },
    "papermill": {
     "duration": 3.192057,
     "end_time": "2025-08-05T20:35:54.813991",
     "exception": false,
     "start_time": "2025-08-05T20:35:51.621934",
     "status": "completed"
    },
    "tags": []
   },
   "outputs": [],
   "source": [
    "probs_calib = model.predict_proba(X_calib)"
   ]
  },
  {
   "cell_type": "code",
   "execution_count": 38,
   "id": "2ed93547-6d5d-4983-9b36-1ecb300da49a",
   "metadata": {
    "execution": {
     "iopub.execute_input": "2025-08-05T20:35:54.856315Z",
     "iopub.status.busy": "2025-08-05T20:35:54.855834Z",
     "iopub.status.idle": "2025-08-05T20:35:54.863383Z",
     "shell.execute_reply": "2025-08-05T20:35:54.862629Z"
    },
    "papermill": {
     "duration": 0.030626,
     "end_time": "2025-08-05T20:35:54.864710",
     "exception": false,
     "start_time": "2025-08-05T20:35:54.834084",
     "status": "completed"
    },
    "tags": []
   },
   "outputs": [],
   "source": [
    "y_calib = y_calib.values.ravel().astype(int)"
   ]
  },
  {
   "cell_type": "code",
   "execution_count": 39,
   "id": "65d1320d-f588-4b38-9072-62af1ae97f7d",
   "metadata": {
    "execution": {
     "iopub.execute_input": "2025-08-05T20:35:54.888811Z",
     "iopub.status.busy": "2025-08-05T20:35:54.888174Z",
     "iopub.status.idle": "2025-08-05T20:35:54.893981Z",
     "shell.execute_reply": "2025-08-05T20:35:54.893276Z"
    },
    "papermill": {
     "duration": 0.020028,
     "end_time": "2025-08-05T20:35:54.895302",
     "exception": false,
     "start_time": "2025-08-05T20:35:54.875274",
     "status": "completed"
    },
    "tags": []
   },
   "outputs": [],
   "source": [
    "from fairness_multiverse.conformal import compute_nc_scores\n",
    "\n",
    "# Compute nonconformity scores on calibration set (1 - probability of true class)\n",
    "nc_scores = compute_nc_scores(probs_calib, y_calib)"
   ]
  },
  {
   "cell_type": "code",
   "execution_count": 40,
   "id": "df3b8ca3-53b7-43d5-9667-7c85da7aeda2",
   "metadata": {
    "execution": {
     "iopub.execute_input": "2025-08-05T20:35:54.949425Z",
     "iopub.status.busy": "2025-08-05T20:35:54.948902Z",
     "iopub.status.idle": "2025-08-05T20:35:54.956453Z",
     "shell.execute_reply": "2025-08-05T20:35:54.955214Z"
    },
    "papermill": {
     "duration": 0.03912,
     "end_time": "2025-08-05T20:35:54.958540",
     "exception": false,
     "start_time": "2025-08-05T20:35:54.919420",
     "status": "completed"
    },
    "tags": []
   },
   "outputs": [],
   "source": [
    "from fairness_multiverse.conformal import find_threshold\n",
    "\n",
    "# Find conformal threshold q_hat for the given alpha (split conformal method)\n",
    "q_hat = find_threshold(nc_scores, alpha)"
   ]
  },
  {
   "cell_type": "code",
   "execution_count": 41,
   "id": "4d29e6c1-0ef6-4aa4-b8fe-4fe79b0d033a",
   "metadata": {
    "execution": {
     "iopub.execute_input": "2025-08-05T20:35:55.015703Z",
     "iopub.status.busy": "2025-08-05T20:35:55.015265Z",
     "iopub.status.idle": "2025-08-05T20:35:55.024022Z",
     "shell.execute_reply": "2025-08-05T20:35:55.022806Z"
    },
    "papermill": {
     "duration": 0.040161,
     "end_time": "2025-08-05T20:35:55.026079",
     "exception": false,
     "start_time": "2025-08-05T20:35:54.985918",
     "status": "completed"
    },
    "tags": []
   },
   "outputs": [
    {
     "data": {
      "text/plain": [
       "0.6699999999999999"
      ]
     },
     "execution_count": 41,
     "metadata": {},
     "output_type": "execute_result"
    }
   ],
   "source": [
    "q_hat"
   ]
  },
  {
   "cell_type": "code",
   "execution_count": 42,
   "id": "92460794-cdac-4be2-ba28-f28c0515a6fb",
   "metadata": {
    "execution": {
     "iopub.execute_input": "2025-08-05T20:35:55.074164Z",
     "iopub.status.busy": "2025-08-05T20:35:55.073269Z",
     "iopub.status.idle": "2025-08-05T20:35:59.106685Z",
     "shell.execute_reply": "2025-08-05T20:35:59.105667Z"
    },
    "papermill": {
     "duration": 4.059584,
     "end_time": "2025-08-05T20:35:59.108657",
     "exception": false,
     "start_time": "2025-08-05T20:35:55.049073",
     "status": "completed"
    },
    "tags": []
   },
   "outputs": [],
   "source": [
    "from fairness_multiverse.conformal import predict_conformal_sets\n",
    "\n",
    "# Generate prediction sets for each test example\n",
    "pred_sets = predict_conformal_sets(model, X_test, q_hat)"
   ]
  },
  {
   "cell_type": "code",
   "execution_count": 43,
   "id": "d90c9a65-e6db-4f5d-80cd-e68fb7e46829",
   "metadata": {
    "execution": {
     "iopub.execute_input": "2025-08-05T20:35:59.154399Z",
     "iopub.status.busy": "2025-08-05T20:35:59.153457Z",
     "iopub.status.idle": "2025-08-05T20:35:59.159810Z",
     "shell.execute_reply": "2025-08-05T20:35:59.158794Z"
    },
    "papermill": {
     "duration": 0.030796,
     "end_time": "2025-08-05T20:35:59.161725",
     "exception": false,
     "start_time": "2025-08-05T20:35:59.130929",
     "status": "completed"
    },
    "tags": []
   },
   "outputs": [],
   "source": [
    "y_true = y_true.squeeze()"
   ]
  },
  {
   "cell_type": "code",
   "execution_count": 44,
   "id": "3a58a54a-1e68-46b9-927a-df01f18aebc8",
   "metadata": {
    "execution": {
     "iopub.execute_input": "2025-08-05T20:35:59.209279Z",
     "iopub.status.busy": "2025-08-05T20:35:59.208621Z",
     "iopub.status.idle": "2025-08-05T20:36:00.050870Z",
     "shell.execute_reply": "2025-08-05T20:36:00.049705Z"
    },
    "papermill": {
     "duration": 0.867824,
     "end_time": "2025-08-05T20:36:00.052814",
     "exception": false,
     "start_time": "2025-08-05T20:35:59.184990",
     "status": "completed"
    },
    "tags": []
   },
   "outputs": [],
   "source": [
    "from fairness_multiverse.conformal import evaluate_sets\n",
    "\n",
    "# Evaluate coverage and average set size on test data\n",
    "metrics = evaluate_sets(pred_sets, y_true)"
   ]
  },
  {
   "cell_type": "markdown",
   "id": "2b569c12-9aaa-4c88-98c9-bbcd0cf3ebb8",
   "metadata": {
    "papermill": {
     "duration": 0.023613,
     "end_time": "2025-08-05T20:36:00.099473",
     "exception": false,
     "start_time": "2025-08-05T20:36:00.075860",
     "status": "completed"
    },
    "tags": []
   },
   "source": [
    "# CP Metrics"
   ]
  },
  {
   "cell_type": "code",
   "execution_count": 45,
   "id": "5ce0a5cb-201f-45a0-ade5-94c7f0bd6095",
   "metadata": {
    "execution": {
     "iopub.execute_input": "2025-08-05T20:36:00.147630Z",
     "iopub.status.busy": "2025-08-05T20:36:00.147046Z",
     "iopub.status.idle": "2025-08-05T20:36:00.156949Z",
     "shell.execute_reply": "2025-08-05T20:36:00.155969Z"
    },
    "papermill": {
     "duration": 0.035765,
     "end_time": "2025-08-05T20:36:00.158530",
     "exception": false,
     "start_time": "2025-08-05T20:36:00.122765",
     "status": "completed"
    },
    "tags": []
   },
   "outputs": [
    {
     "data": {
      "text/plain": [
       "{'coverage': 0.9162858098316798, 'avg_size': 1.1569724668375878}"
      ]
     },
     "execution_count": 45,
     "metadata": {},
     "output_type": "execute_result"
    }
   ],
   "source": [
    "metrics"
   ]
  },
  {
   "cell_type": "code",
   "execution_count": 46,
   "id": "9b9a838d-31c9-430b-ae14-12baee460d17",
   "metadata": {
    "execution": {
     "iopub.execute_input": "2025-08-05T20:36:00.206175Z",
     "iopub.status.busy": "2025-08-05T20:36:00.205540Z",
     "iopub.status.idle": "2025-08-05T20:36:00.212103Z",
     "shell.execute_reply": "2025-08-05T20:36:00.211173Z"
    },
    "papermill": {
     "duration": 0.03275,
     "end_time": "2025-08-05T20:36:00.214238",
     "exception": false,
     "start_time": "2025-08-05T20:36:00.181488",
     "status": "completed"
    },
    "tags": []
   },
   "outputs": [],
   "source": [
    "example_universe = universe.copy()\n",
    "universe_training_year = example_universe.get(\"training_year\")\n",
    "universe_training_size = example_universe.get(\"training_size\")\n",
    "universe_scale = example_universe.get(\"scale\")\n",
    "universe_model = example_universe.get(\"model\")\n",
    "universe_exclude_features = example_universe.get(\"exclude_features\")\n",
    "universe_exclude_subgroups = example_universe.get(\"exclude_subgroups\")"
   ]
  },
  {
   "cell_type": "code",
   "execution_count": 47,
   "id": "f4b6a8ac-9dc0-4245-8a91-5b3b5999c4f9",
   "metadata": {
    "execution": {
     "iopub.execute_input": "2025-08-05T20:36:00.262014Z",
     "iopub.status.busy": "2025-08-05T20:36:00.261505Z",
     "iopub.status.idle": "2025-08-05T20:36:00.268285Z",
     "shell.execute_reply": "2025-08-05T20:36:00.267239Z"
    },
    "papermill": {
     "duration": 0.033048,
     "end_time": "2025-08-05T20:36:00.270100",
     "exception": false,
     "start_time": "2025-08-05T20:36:00.237052",
     "status": "completed"
    },
    "tags": []
   },
   "outputs": [],
   "source": [
    "cp_metrics_dict = {\n",
    "    \"universe_id\": [universe_id],\n",
    "    \"universe_training_year\": [universe_training_year],\n",
    "    \"universe_training_size\": [universe_training_size],\n",
    "    \"universe_scale\": [universe_scale],\n",
    "    \"universe_model\": [universe_model],\n",
    "    \"universe_exclude_features\": [universe_exclude_features],\n",
    "    \"universe_exclude_subgroups\": [universe_exclude_subgroups],\n",
    "    \"q_hat\": [q_hat],\n",
    "    \"coverage\": [metrics[\"coverage\"]],\n",
    "    \"avg_size\": [metrics[\"avg_size\"]],\n",
    "}"
   ]
  },
  {
   "cell_type": "code",
   "execution_count": 48,
   "id": "908acbb1-0371-4915-85ca-3fa520d2efe2",
   "metadata": {
    "execution": {
     "iopub.execute_input": "2025-08-05T20:36:00.318898Z",
     "iopub.status.busy": "2025-08-05T20:36:00.318433Z",
     "iopub.status.idle": "2025-08-05T20:36:00.326188Z",
     "shell.execute_reply": "2025-08-05T20:36:00.325162Z"
    },
    "papermill": {
     "duration": 0.033964,
     "end_time": "2025-08-05T20:36:00.328196",
     "exception": false,
     "start_time": "2025-08-05T20:36:00.294232",
     "status": "completed"
    },
    "tags": []
   },
   "outputs": [
    {
     "data": {
      "text/plain": [
       "{'universe_id': ['2d16c60d03d38e12b7f8b53c6c0ec18a'],\n",
       " 'universe_training_year': ['2014'],\n",
       " 'universe_training_size': ['25k'],\n",
       " 'universe_scale': ['scale'],\n",
       " 'universe_model': ['rf'],\n",
       " 'universe_exclude_features': ['nationality'],\n",
       " 'universe_exclude_subgroups': ['drop-non-german'],\n",
       " 'q_hat': [0.6699999999999999],\n",
       " 'coverage': [0.9162858098316798],\n",
       " 'avg_size': [1.1569724668375878]}"
      ]
     },
     "execution_count": 48,
     "metadata": {},
     "output_type": "execute_result"
    }
   ],
   "source": [
    "cp_metrics_dict"
   ]
  },
  {
   "cell_type": "code",
   "execution_count": 49,
   "id": "33007efc-14e9-4ec6-97ac-56a455c82265",
   "metadata": {
    "execution": {
     "iopub.execute_input": "2025-08-05T20:36:00.377267Z",
     "iopub.status.busy": "2025-08-05T20:36:00.376801Z",
     "iopub.status.idle": "2025-08-05T20:36:00.383095Z",
     "shell.execute_reply": "2025-08-05T20:36:00.382146Z"
    },
    "papermill": {
     "duration": 0.032253,
     "end_time": "2025-08-05T20:36:00.384926",
     "exception": false,
     "start_time": "2025-08-05T20:36:00.352673",
     "status": "completed"
    },
    "tags": []
   },
   "outputs": [],
   "source": [
    "cp_metrics_df = pd.DataFrame(cp_metrics_dict)"
   ]
  },
  {
   "cell_type": "code",
   "execution_count": 50,
   "id": "db12611b-57b2-4910-b9d0-355adfd6e7bf",
   "metadata": {
    "execution": {
     "iopub.execute_input": "2025-08-05T20:36:00.433172Z",
     "iopub.status.busy": "2025-08-05T20:36:00.432725Z",
     "iopub.status.idle": "2025-08-05T20:36:00.450516Z",
     "shell.execute_reply": "2025-08-05T20:36:00.449476Z"
    },
    "papermill": {
     "duration": 0.043011,
     "end_time": "2025-08-05T20:36:00.452207",
     "exception": false,
     "start_time": "2025-08-05T20:36:00.409196",
     "status": "completed"
    },
    "tags": []
   },
   "outputs": [
    {
     "data": {
      "text/html": [
       "<div>\n",
       "<style scoped>\n",
       "    .dataframe tbody tr th:only-of-type {\n",
       "        vertical-align: middle;\n",
       "    }\n",
       "\n",
       "    .dataframe tbody tr th {\n",
       "        vertical-align: top;\n",
       "    }\n",
       "\n",
       "    .dataframe thead th {\n",
       "        text-align: right;\n",
       "    }\n",
       "</style>\n",
       "<table border=\"1\" class=\"dataframe\">\n",
       "  <thead>\n",
       "    <tr style=\"text-align: right;\">\n",
       "      <th></th>\n",
       "      <th>universe_id</th>\n",
       "      <th>universe_training_year</th>\n",
       "      <th>universe_training_size</th>\n",
       "      <th>universe_scale</th>\n",
       "      <th>universe_model</th>\n",
       "      <th>universe_exclude_features</th>\n",
       "      <th>universe_exclude_subgroups</th>\n",
       "      <th>q_hat</th>\n",
       "      <th>coverage</th>\n",
       "      <th>avg_size</th>\n",
       "    </tr>\n",
       "  </thead>\n",
       "  <tbody>\n",
       "    <tr>\n",
       "      <th>0</th>\n",
       "      <td>2d16c60d03d38e12b7f8b53c6c0ec18a</td>\n",
       "      <td>2014</td>\n",
       "      <td>25k</td>\n",
       "      <td>scale</td>\n",
       "      <td>rf</td>\n",
       "      <td>nationality</td>\n",
       "      <td>drop-non-german</td>\n",
       "      <td>0.67</td>\n",
       "      <td>0.916286</td>\n",
       "      <td>1.156972</td>\n",
       "    </tr>\n",
       "  </tbody>\n",
       "</table>\n",
       "</div>"
      ],
      "text/plain": [
       "                        universe_id universe_training_year  \\\n",
       "0  2d16c60d03d38e12b7f8b53c6c0ec18a                   2014   \n",
       "\n",
       "  universe_training_size universe_scale universe_model  \\\n",
       "0                    25k          scale             rf   \n",
       "\n",
       "  universe_exclude_features universe_exclude_subgroups  q_hat  coverage  \\\n",
       "0               nationality            drop-non-german   0.67  0.916286   \n",
       "\n",
       "   avg_size  \n",
       "0  1.156972  "
      ]
     },
     "execution_count": 50,
     "metadata": {},
     "output_type": "execute_result"
    }
   ],
   "source": [
    "cp_metrics_df"
   ]
  },
  {
   "cell_type": "code",
   "execution_count": 51,
   "id": "b7fbde55-a0a1-47e4-9af6-fe4a17fa8c61",
   "metadata": {
    "execution": {
     "iopub.execute_input": "2025-08-05T20:36:00.501807Z",
     "iopub.status.busy": "2025-08-05T20:36:00.501287Z",
     "iopub.status.idle": "2025-08-05T20:36:00.506824Z",
     "shell.execute_reply": "2025-08-05T20:36:00.505733Z"
    },
    "papermill": {
     "duration": 0.031599,
     "end_time": "2025-08-05T20:36:00.508721",
     "exception": false,
     "start_time": "2025-08-05T20:36:00.477122",
     "status": "completed"
    },
    "tags": []
   },
   "outputs": [],
   "source": [
    "# Conditional Coverage & looking at subgroups"
   ]
  },
  {
   "cell_type": "code",
   "execution_count": 52,
   "id": "027ae886-68dd-4141-96c7-805a5450e1ef",
   "metadata": {
    "execution": {
     "iopub.execute_input": "2025-08-05T20:36:00.558535Z",
     "iopub.status.busy": "2025-08-05T20:36:00.558014Z",
     "iopub.status.idle": "2025-08-05T20:36:00.812484Z",
     "shell.execute_reply": "2025-08-05T20:36:00.811520Z"
    },
    "papermill": {
     "duration": 0.28101,
     "end_time": "2025-08-05T20:36:00.814313",
     "exception": false,
     "start_time": "2025-08-05T20:36:00.533303",
     "status": "completed"
    },
    "tags": []
   },
   "outputs": [],
   "source": [
    "from fairness_multiverse.conformal import build_cp_groups\n",
    "\n",
    "cp_groups_df = build_cp_groups(pred_sets, y_true, X_test.index, org_test)\n",
    "#needs universe_id and setting"
   ]
  },
  {
   "cell_type": "code",
   "execution_count": 53,
   "id": "6cbdab96-b2b2-45af-ad54-d0516db2e28d",
   "metadata": {
    "execution": {
     "iopub.execute_input": "2025-08-05T20:36:00.863164Z",
     "iopub.status.busy": "2025-08-05T20:36:00.862480Z",
     "iopub.status.idle": "2025-08-05T20:36:02.358947Z",
     "shell.execute_reply": "2025-08-05T20:36:02.357728Z"
    },
    "papermill": {
     "duration": 1.522672,
     "end_time": "2025-08-05T20:36:02.360826",
     "exception": false,
     "start_time": "2025-08-05T20:36:00.838154",
     "status": "completed"
    },
    "tags": []
   },
   "outputs": [],
   "source": [
    "# Define covered = 1 if true_label is in the predicted set\n",
    "cp_groups_df['covered'] = cp_groups_df.apply(\n",
    "    lambda r: int(r['true_label'] in r['pred_set']),\n",
    "    axis=1\n",
    ")"
   ]
  },
  {
   "cell_type": "code",
   "execution_count": 54,
   "id": "338ff529-1a6b-4b87-a931-8e4788d52aad",
   "metadata": {
    "execution": {
     "iopub.execute_input": "2025-08-05T20:36:02.409937Z",
     "iopub.status.busy": "2025-08-05T20:36:02.409017Z",
     "iopub.status.idle": "2025-08-05T20:36:02.414091Z",
     "shell.execute_reply": "2025-08-05T20:36:02.413063Z"
    },
    "papermill": {
     "duration": 0.031486,
     "end_time": "2025-08-05T20:36:02.416215",
     "exception": false,
     "start_time": "2025-08-05T20:36:02.384729",
     "status": "completed"
    },
    "tags": []
   },
   "outputs": [],
   "source": [
    "#cp_groups_df"
   ]
  },
  {
   "cell_type": "code",
   "execution_count": 55,
   "id": "90032e27-66df-4540-9169-4e89cfbaa758",
   "metadata": {
    "execution": {
     "iopub.execute_input": "2025-08-05T20:36:02.466402Z",
     "iopub.status.busy": "2025-08-05T20:36:02.465687Z",
     "iopub.status.idle": "2025-08-05T20:36:02.479958Z",
     "shell.execute_reply": "2025-08-05T20:36:02.478534Z"
    },
    "papermill": {
     "duration": 0.041348,
     "end_time": "2025-08-05T20:36:02.482100",
     "exception": false,
     "start_time": "2025-08-05T20:36:02.440752",
     "status": "completed"
    },
    "tags": []
   },
   "outputs": [],
   "source": [
    "subgroups = ['frau1','nongerman','nongerman_male','nongerman_female']\n",
    "\n",
    "# Conditional coverage for subgroup==1\n",
    "cond_coverage = {\n",
    "    g: cp_groups_df.loc[cp_groups_df[g]==1, 'covered'].mean()\n",
    "    for g in subgroups\n",
    "}"
   ]
  },
  {
   "cell_type": "code",
   "execution_count": 56,
   "id": "1e348fb1-b9c3-45bc-ba23-f016827a7e0d",
   "metadata": {
    "execution": {
     "iopub.execute_input": "2025-08-05T20:36:02.525235Z",
     "iopub.status.busy": "2025-08-05T20:36:02.524735Z",
     "iopub.status.idle": "2025-08-05T20:36:02.532215Z",
     "shell.execute_reply": "2025-08-05T20:36:02.531146Z"
    },
    "papermill": {
     "duration": 0.030603,
     "end_time": "2025-08-05T20:36:02.533919",
     "exception": false,
     "start_time": "2025-08-05T20:36:02.503316",
     "status": "completed"
    },
    "tags": []
   },
   "outputs": [
    {
     "data": {
      "text/plain": [
       "{'frau1': 0.9164577436312171,\n",
       " 'nongerman': 0.9142199517206534,\n",
       " 'nongerman_male': 0.9279474016031704,\n",
       " 'nongerman_female': 0.89150521609538}"
      ]
     },
     "execution_count": 56,
     "metadata": {},
     "output_type": "execute_result"
    }
   ],
   "source": [
    "cond_coverage"
   ]
  },
  {
   "cell_type": "code",
   "execution_count": 57,
   "id": "f5093324-c3dd-4d63-bc4c-8d945e5c8bbb",
   "metadata": {
    "execution": {
     "iopub.execute_input": "2025-08-05T20:36:02.577260Z",
     "iopub.status.busy": "2025-08-05T20:36:02.576818Z",
     "iopub.status.idle": "2025-08-05T20:36:02.583785Z",
     "shell.execute_reply": "2025-08-05T20:36:02.582834Z"
    },
    "papermill": {
     "duration": 0.030199,
     "end_time": "2025-08-05T20:36:02.585412",
     "exception": false,
     "start_time": "2025-08-05T20:36:02.555213",
     "status": "completed"
    },
    "tags": []
   },
   "outputs": [],
   "source": [
    "for subgroup, cov in cond_coverage.items():\n",
    "    cp_metrics_df[f\"cov_{subgroup}\"] = cov"
   ]
  },
  {
   "cell_type": "code",
   "execution_count": 58,
   "id": "6e872e10-dbe5-49e8-b554-5030c98ff75d",
   "metadata": {
    "execution": {
     "iopub.execute_input": "2025-08-05T20:36:02.627752Z",
     "iopub.status.busy": "2025-08-05T20:36:02.626994Z",
     "iopub.status.idle": "2025-08-05T20:36:02.644697Z",
     "shell.execute_reply": "2025-08-05T20:36:02.643599Z"
    },
    "papermill": {
     "duration": 0.040279,
     "end_time": "2025-08-05T20:36:02.646313",
     "exception": false,
     "start_time": "2025-08-05T20:36:02.606034",
     "status": "completed"
    },
    "tags": []
   },
   "outputs": [
    {
     "data": {
      "text/html": [
       "<div>\n",
       "<style scoped>\n",
       "    .dataframe tbody tr th:only-of-type {\n",
       "        vertical-align: middle;\n",
       "    }\n",
       "\n",
       "    .dataframe tbody tr th {\n",
       "        vertical-align: top;\n",
       "    }\n",
       "\n",
       "    .dataframe thead th {\n",
       "        text-align: right;\n",
       "    }\n",
       "</style>\n",
       "<table border=\"1\" class=\"dataframe\">\n",
       "  <thead>\n",
       "    <tr style=\"text-align: right;\">\n",
       "      <th></th>\n",
       "      <th>universe_id</th>\n",
       "      <th>universe_training_year</th>\n",
       "      <th>universe_training_size</th>\n",
       "      <th>universe_scale</th>\n",
       "      <th>universe_model</th>\n",
       "      <th>universe_exclude_features</th>\n",
       "      <th>universe_exclude_subgroups</th>\n",
       "      <th>q_hat</th>\n",
       "      <th>coverage</th>\n",
       "      <th>avg_size</th>\n",
       "      <th>cov_frau1</th>\n",
       "      <th>cov_nongerman</th>\n",
       "      <th>cov_nongerman_male</th>\n",
       "      <th>cov_nongerman_female</th>\n",
       "    </tr>\n",
       "  </thead>\n",
       "  <tbody>\n",
       "    <tr>\n",
       "      <th>0</th>\n",
       "      <td>2d16c60d03d38e12b7f8b53c6c0ec18a</td>\n",
       "      <td>2014</td>\n",
       "      <td>25k</td>\n",
       "      <td>scale</td>\n",
       "      <td>rf</td>\n",
       "      <td>nationality</td>\n",
       "      <td>drop-non-german</td>\n",
       "      <td>0.67</td>\n",
       "      <td>0.916286</td>\n",
       "      <td>1.156972</td>\n",
       "      <td>0.916458</td>\n",
       "      <td>0.91422</td>\n",
       "      <td>0.927947</td>\n",
       "      <td>0.891505</td>\n",
       "    </tr>\n",
       "  </tbody>\n",
       "</table>\n",
       "</div>"
      ],
      "text/plain": [
       "                        universe_id universe_training_year  \\\n",
       "0  2d16c60d03d38e12b7f8b53c6c0ec18a                   2014   \n",
       "\n",
       "  universe_training_size universe_scale universe_model  \\\n",
       "0                    25k          scale             rf   \n",
       "\n",
       "  universe_exclude_features universe_exclude_subgroups  q_hat  coverage  \\\n",
       "0               nationality            drop-non-german   0.67  0.916286   \n",
       "\n",
       "   avg_size  cov_frau1  cov_nongerman  cov_nongerman_male  \\\n",
       "0  1.156972   0.916458        0.91422            0.927947   \n",
       "\n",
       "   cov_nongerman_female  \n",
       "0              0.891505  "
      ]
     },
     "execution_count": 58,
     "metadata": {},
     "output_type": "execute_result"
    }
   ],
   "source": [
    "cp_metrics_df"
   ]
  },
  {
   "cell_type": "markdown",
   "id": "33774451",
   "metadata": {
    "papermill": {
     "duration": 0.020486,
     "end_time": "2025-08-05T20:36:02.689156",
     "exception": false,
     "start_time": "2025-08-05T20:36:02.668670",
     "status": "completed"
    },
    "tags": []
   },
   "source": [
    "# (Fairness) Metrics"
   ]
  },
  {
   "cell_type": "code",
   "execution_count": 59,
   "id": "debc5d62",
   "metadata": {
    "execution": {
     "iopub.execute_input": "2025-08-05T20:36:02.732521Z",
     "iopub.status.busy": "2025-08-05T20:36:02.731623Z",
     "iopub.status.idle": "2025-08-05T20:36:02.752852Z",
     "shell.execute_reply": "2025-08-05T20:36:02.751965Z"
    },
    "papermill": {
     "duration": 0.04509,
     "end_time": "2025-08-05T20:36:02.754771",
     "exception": false,
     "start_time": "2025-08-05T20:36:02.709681",
     "status": "completed"
    },
    "tags": []
   },
   "outputs": [],
   "source": [
    "# do I need to include maxdeutsch1.missing?\n",
    "\n",
    "import numpy as np\n",
    "\n",
    "colname_to_bin = \"maxdeutsch1\"\n",
    "majority_value = org_train[colname_to_bin].mode()[0]\n",
    "\n",
    "org_test[\"majmin\"] = np.where(org_test[colname_to_bin] == majority_value, \"majority\", \"minority\")"
   ]
  },
  {
   "cell_type": "code",
   "execution_count": 60,
   "id": "06a50de5",
   "metadata": {
    "execution": {
     "iopub.execute_input": "2025-08-05T20:36:02.798745Z",
     "iopub.status.busy": "2025-08-05T20:36:02.798302Z",
     "iopub.status.idle": "2025-08-05T20:36:05.601645Z",
     "shell.execute_reply": "2025-08-05T20:36:05.600576Z"
    },
    "papermill": {
     "duration": 2.826751,
     "end_time": "2025-08-05T20:36:05.603699",
     "exception": false,
     "start_time": "2025-08-05T20:36:02.776948",
     "status": "completed"
    },
    "tags": []
   },
   "outputs": [],
   "source": [
    "example_universe = universe.copy()\n",
    "example_universe[\"cutoff\"] = example_universe[\"cutoff\"][0]\n",
    "example_universe[\"eval_fairness_grouping\"] = example_universe[\"eval_fairness_grouping\"][0]\n",
    "fairness_dict, metric_frame = universe_analysis.compute_metrics(\n",
    "    example_universe,\n",
    "    y_pred_prob=probs_test,\n",
    "    y_test=y_true,\n",
    "    org_test=org_test,\n",
    ")"
   ]
  },
  {
   "cell_type": "markdown",
   "id": "f95d4e02",
   "metadata": {
    "papermill": {
     "duration": 0.024929,
     "end_time": "2025-08-05T20:36:05.657005",
     "exception": false,
     "start_time": "2025-08-05T20:36:05.632076",
     "status": "completed"
    },
    "tags": []
   },
   "source": [
    "# Overall"
   ]
  },
  {
   "cell_type": "markdown",
   "id": "bdee4871",
   "metadata": {
    "papermill": {
     "duration": 0.02548,
     "end_time": "2025-08-05T20:36:05.708036",
     "exception": false,
     "start_time": "2025-08-05T20:36:05.682556",
     "status": "completed"
    },
    "tags": []
   },
   "source": [
    "Fairness\n",
    "Main fairness target: Equalized Odds. Seems to be a better fit than equal opportunity, since we're not only interested in Y = 1. Seems to be a better fit than demographic parity, since we also care about accuracy, not just equal distribution of preds.\n",
    "\n",
    "Pick column for computation of fairness metrics\n",
    "\n",
    "Performance\n",
    "Overall performance measures, most interesting in relation to the measures split by group below"
   ]
  },
  {
   "cell_type": "code",
   "execution_count": 61,
   "id": "c4e067c6",
   "metadata": {
    "execution": {
     "iopub.execute_input": "2025-08-05T20:36:05.761211Z",
     "iopub.status.busy": "2025-08-05T20:36:05.760286Z",
     "iopub.status.idle": "2025-08-05T20:36:05.769449Z",
     "shell.execute_reply": "2025-08-05T20:36:05.768310Z"
    },
    "papermill": {
     "duration": 0.037852,
     "end_time": "2025-08-05T20:36:05.771364",
     "exception": false,
     "start_time": "2025-08-05T20:36:05.733512",
     "status": "completed"
    },
    "tags": []
   },
   "outputs": [
    {
     "data": {
      "text/plain": [
       "accuracy                   0.204938\n",
       "balanced accuracy          0.535929\n",
       "f1                         0.240472\n",
       "precision                  0.137028\n",
       "false positive rate        0.909286\n",
       "false negative rate        0.018856\n",
       "selection rate             0.918504\n",
       "count                  89710.000000\n",
       "dtype: float64"
      ]
     },
     "execution_count": 61,
     "metadata": {},
     "output_type": "execute_result"
    }
   ],
   "source": [
    "metric_frame.overall"
   ]
  },
  {
   "cell_type": "markdown",
   "id": "e968fe9d",
   "metadata": {
    "papermill": {
     "duration": 0.026814,
     "end_time": "2025-08-05T20:36:05.825571",
     "exception": false,
     "start_time": "2025-08-05T20:36:05.798757",
     "status": "completed"
    },
    "tags": []
   },
   "source": [
    "By Group"
   ]
  },
  {
   "cell_type": "code",
   "execution_count": 62,
   "id": "ec325bce",
   "metadata": {
    "execution": {
     "iopub.execute_input": "2025-08-05T20:36:05.881088Z",
     "iopub.status.busy": "2025-08-05T20:36:05.880653Z",
     "iopub.status.idle": "2025-08-05T20:36:05.895666Z",
     "shell.execute_reply": "2025-08-05T20:36:05.894516Z"
    },
    "papermill": {
     "duration": 0.04531,
     "end_time": "2025-08-05T20:36:05.897489",
     "exception": false,
     "start_time": "2025-08-05T20:36:05.852179",
     "status": "completed"
    },
    "tags": []
   },
   "outputs": [
    {
     "data": {
      "text/html": [
       "<div>\n",
       "<style scoped>\n",
       "    .dataframe tbody tr th:only-of-type {\n",
       "        vertical-align: middle;\n",
       "    }\n",
       "\n",
       "    .dataframe tbody tr th {\n",
       "        vertical-align: top;\n",
       "    }\n",
       "\n",
       "    .dataframe thead th {\n",
       "        text-align: right;\n",
       "    }\n",
       "</style>\n",
       "<table border=\"1\" class=\"dataframe\">\n",
       "  <thead>\n",
       "    <tr style=\"text-align: right;\">\n",
       "      <th></th>\n",
       "      <th>accuracy</th>\n",
       "      <th>balanced accuracy</th>\n",
       "      <th>f1</th>\n",
       "      <th>precision</th>\n",
       "      <th>false positive rate</th>\n",
       "      <th>false negative rate</th>\n",
       "      <th>selection rate</th>\n",
       "      <th>count</th>\n",
       "    </tr>\n",
       "    <tr>\n",
       "      <th>majmin</th>\n",
       "      <th></th>\n",
       "      <th></th>\n",
       "      <th></th>\n",
       "      <th></th>\n",
       "      <th></th>\n",
       "      <th></th>\n",
       "      <th></th>\n",
       "      <th></th>\n",
       "    </tr>\n",
       "  </thead>\n",
       "  <tbody>\n",
       "    <tr>\n",
       "      <th>majority</th>\n",
       "      <td>0.200058</td>\n",
       "      <td>0.535003</td>\n",
       "      <td>0.246507</td>\n",
       "      <td>0.140775</td>\n",
       "      <td>0.920257</td>\n",
       "      <td>0.009737</td>\n",
       "      <td>0.929507</td>\n",
       "      <td>69170.0</td>\n",
       "    </tr>\n",
       "    <tr>\n",
       "      <th>minority</th>\n",
       "      <td>0.221373</td>\n",
       "      <td>0.536450</td>\n",
       "      <td>0.218825</td>\n",
       "      <td>0.123723</td>\n",
       "      <td>0.873046</td>\n",
       "      <td>0.054054</td>\n",
       "      <td>0.881451</td>\n",
       "      <td>20540.0</td>\n",
       "    </tr>\n",
       "  </tbody>\n",
       "</table>\n",
       "</div>"
      ],
      "text/plain": [
       "          accuracy  balanced accuracy        f1  precision  \\\n",
       "majmin                                                       \n",
       "majority  0.200058           0.535003  0.246507   0.140775   \n",
       "minority  0.221373           0.536450  0.218825   0.123723   \n",
       "\n",
       "          false positive rate  false negative rate  selection rate    count  \n",
       "majmin                                                                       \n",
       "majority             0.920257             0.009737        0.929507  69170.0  \n",
       "minority             0.873046             0.054054        0.881451  20540.0  "
      ]
     },
     "execution_count": 62,
     "metadata": {},
     "output_type": "execute_result"
    }
   ],
   "source": [
    "metric_frame.by_group"
   ]
  },
  {
   "cell_type": "code",
   "execution_count": 63,
   "id": "a9ddbe63",
   "metadata": {
    "execution": {
     "iopub.execute_input": "2025-08-05T20:36:05.953704Z",
     "iopub.status.busy": "2025-08-05T20:36:05.952916Z",
     "iopub.status.idle": "2025-08-05T20:36:08.011103Z",
     "shell.execute_reply": "2025-08-05T20:36:08.010402Z"
    },
    "papermill": {
     "duration": 2.087082,
     "end_time": "2025-08-05T20:36:08.012362",
     "exception": false,
     "start_time": "2025-08-05T20:36:05.925280",
     "status": "completed"
    },
    "tags": []
   },
   "outputs": [
    {
     "data": {
      "text/plain": [
       "array([[<Axes: title={'center': 'accuracy'}, xlabel='majmin'>,\n",
       "        <Axes: title={'center': 'balanced accuracy'}, xlabel='majmin'>,\n",
       "        <Axes: title={'center': 'f1'}, xlabel='majmin'>],\n",
       "       [<Axes: title={'center': 'precision'}, xlabel='majmin'>,\n",
       "        <Axes: title={'center': 'false positive rate'}, xlabel='majmin'>,\n",
       "        <Axes: title={'center': 'false negative rate'}, xlabel='majmin'>],\n",
       "       [<Axes: title={'center': 'selection rate'}, xlabel='majmin'>,\n",
       "        <Axes: title={'center': 'count'}, xlabel='majmin'>,\n",
       "        <Axes: xlabel='majmin'>]], dtype=object)"
      ]
     },
     "execution_count": 63,
     "metadata": {},
     "output_type": "execute_result"
    },
    {
     "data": {
      "image/png": "[encoded data removed]",
      "text/plain": [
       "<Figure size 1200x800 with 9 Axes>"
      ]
     },
     "metadata": {},
     "output_type": "display_data"
    }
   ],
   "source": [
    "# In a graphic\n",
    "metric_frame.by_group.plot.bar(\n",
    "    subplots=True,\n",
    "    layout=[3, 3],\n",
    "    legend=False,\n",
    "    figsize=[12, 8],\n",
    "    title=\"Show all metrics\",\n",
    ")"
   ]
  },
  {
   "cell_type": "markdown",
   "id": "f57a0bac",
   "metadata": {
    "papermill": {
     "duration": 0.013145,
     "end_time": "2025-08-05T20:36:08.038987",
     "exception": false,
     "start_time": "2025-08-05T20:36:08.025842",
     "status": "completed"
    },
    "tags": []
   },
   "source": [
    "# Final Output"
   ]
  },
  {
   "cell_type": "code",
   "execution_count": 64,
   "id": "96d280a3",
   "metadata": {
    "execution": {
     "iopub.execute_input": "2025-08-05T20:36:08.067400Z",
     "iopub.status.busy": "2025-08-05T20:36:08.066963Z",
     "iopub.status.idle": "2025-08-05T20:36:08.073658Z",
     "shell.execute_reply": "2025-08-05T20:36:08.072811Z"
    },
    "papermill": {
     "duration": 0.021961,
     "end_time": "2025-08-05T20:36:08.074856",
     "exception": false,
     "start_time": "2025-08-05T20:36:08.052895",
     "status": "completed"
    },
    "tags": []
   },
   "outputs": [
    {
     "data": {
      "text/plain": [
       "4"
      ]
     },
     "execution_count": 64,
     "metadata": {},
     "output_type": "execute_result"
    }
   ],
   "source": [
    "sub_universes = universe_analysis.generate_sub_universes()\n",
    "len(sub_universes)"
   ]
  },
  {
   "cell_type": "code",
   "execution_count": 65,
   "id": "92adf7ba",
   "metadata": {
    "execution": {
     "iopub.execute_input": "2025-08-05T20:36:08.123079Z",
     "iopub.status.busy": "2025-08-05T20:36:08.122418Z",
     "iopub.status.idle": "2025-08-05T20:36:08.128434Z",
     "shell.execute_reply": "2025-08-05T20:36:08.127490Z"
    },
    "papermill": {
     "duration": 0.035575,
     "end_time": "2025-08-05T20:36:08.130427",
     "exception": false,
     "start_time": "2025-08-05T20:36:08.094852",
     "status": "completed"
    },
    "tags": []
   },
   "outputs": [],
   "source": [
    "def filter_sub_universe_data(sub_universe, org_test):\n",
    "    # Keep all rows — no filtering\n",
    "    keep_rows_mask = np.ones(org_test.shape[0], dtype=bool)\n",
    "\n",
    "    print(f\"[INFO] Keeping all rows: {keep_rows_mask.sum()} rows retained.\")\n",
    "    return keep_rows_mask"
   ]
  },
  {
   "cell_type": "code",
   "execution_count": 66,
   "id": "4a759155",
   "metadata": {
    "execution": {
     "iopub.execute_input": "2025-08-05T20:36:08.161198Z",
     "iopub.status.busy": "2025-08-05T20:36:08.160819Z",
     "iopub.status.idle": "2025-08-05T20:36:17.122282Z",
     "shell.execute_reply": "2025-08-05T20:36:17.121532Z"
    },
    "papermill": {
     "duration": 8.976798,
     "end_time": "2025-08-05T20:36:17.123585",
     "exception": false,
     "start_time": "2025-08-05T20:36:08.146787",
     "status": "completed"
    },
    "tags": []
   },
   "outputs": [
    {
     "name": "stdout",
     "output_type": "stream",
     "text": [
      "Stopping execution_time clock.\n",
      "[INFO] Keeping all rows: 89710 rows retained.\n"
     ]
    },
    {
     "name": "stdout",
     "output_type": "stream",
     "text": [
      "[INFO] Keeping all rows: 89710 rows retained.\n"
     ]
    },
    {
     "name": "stdout",
     "output_type": "stream",
     "text": [
      "[INFO] Keeping all rows: 89710 rows retained.\n"
     ]
    },
    {
     "name": "stdout",
     "output_type": "stream",
     "text": [
      "[INFO] Keeping all rows: 89710 rows retained.\n"
     ]
    },
    {
     "data": {
      "text/html": [
       "<div>\n",
       "<style scoped>\n",
       "    .dataframe tbody tr th:only-of-type {\n",
       "        vertical-align: middle;\n",
       "    }\n",
       "\n",
       "    .dataframe tbody tr th {\n",
       "        vertical-align: top;\n",
       "    }\n",
       "\n",
       "    .dataframe thead th {\n",
       "        text-align: right;\n",
       "    }\n",
       "</style>\n",
       "<table border=\"1\" class=\"dataframe\">\n",
       "  <thead>\n",
       "    <tr style=\"text-align: right;\">\n",
       "      <th></th>\n",
       "      <th>run_no</th>\n",
       "      <th>universe_id</th>\n",
       "      <th>universe_settings</th>\n",
       "      <th>execution_time</th>\n",
       "      <th>test_size_n</th>\n",
       "      <th>test_size_frac</th>\n",
       "      <th>fair_main_equalized_odds_difference</th>\n",
       "      <th>fair_main_equalized_odds_ratio</th>\n",
       "      <th>fair_main_demographic_parity_difference</th>\n",
       "      <th>fair_main_demographic_parity_ratio</th>\n",
       "      <th>...</th>\n",
       "      <th>perf_grp_precision_0</th>\n",
       "      <th>perf_grp_precision_1</th>\n",
       "      <th>perf_grp_false positive rate_0</th>\n",
       "      <th>perf_grp_false positive rate_1</th>\n",
       "      <th>perf_grp_false negative rate_0</th>\n",
       "      <th>perf_grp_false negative rate_1</th>\n",
       "      <th>perf_grp_selection rate_0</th>\n",
       "      <th>perf_grp_selection rate_1</th>\n",
       "      <th>perf_grp_count_0</th>\n",
       "      <th>perf_grp_count_1</th>\n",
       "    </tr>\n",
       "  </thead>\n",
       "  <tbody>\n",
       "    <tr>\n",
       "      <th>0</th>\n",
       "      <td>16</td>\n",
       "      <td>2d16c60d03d38e12b7f8b53c6c0ec18a</td>\n",
       "      <td>{\"cutoff\": \"quantile_0.1\", \"eval_fairness_grou...</td>\n",
       "      <td>43.543733</td>\n",
       "      <td>89710</td>\n",
       "      <td>1.0</td>\n",
       "      <td>0.047210</td>\n",
       "      <td>0.948699</td>\n",
       "      <td>0.048056</td>\n",
       "      <td>0.948299</td>\n",
       "      <td>...</td>\n",
       "      <td>NaN</td>\n",
       "      <td>NaN</td>\n",
       "      <td>NaN</td>\n",
       "      <td>NaN</td>\n",
       "      <td>NaN</td>\n",
       "      <td>NaN</td>\n",
       "      <td>NaN</td>\n",
       "      <td>NaN</td>\n",
       "      <td>NaN</td>\n",
       "      <td>NaN</td>\n",
       "    </tr>\n",
       "    <tr>\n",
       "      <th>0</th>\n",
       "      <td>16</td>\n",
       "      <td>2d16c60d03d38e12b7f8b53c6c0ec18a</td>\n",
       "      <td>{\"cutoff\": \"quantile_0.1\", \"eval_fairness_grou...</td>\n",
       "      <td>43.543733</td>\n",
       "      <td>89710</td>\n",
       "      <td>1.0</td>\n",
       "      <td>0.047210</td>\n",
       "      <td>0.948699</td>\n",
       "      <td>0.048056</td>\n",
       "      <td>0.948299</td>\n",
       "      <td>...</td>\n",
       "      <td>0.123723</td>\n",
       "      <td>0.140775</td>\n",
       "      <td>0.873046</td>\n",
       "      <td>0.920257</td>\n",
       "      <td>0.054054</td>\n",
       "      <td>0.009737</td>\n",
       "      <td>0.881451</td>\n",
       "      <td>0.929507</td>\n",
       "      <td>20540.0</td>\n",
       "      <td>69170.0</td>\n",
       "    </tr>\n",
       "    <tr>\n",
       "      <th>0</th>\n",
       "      <td>16</td>\n",
       "      <td>2d16c60d03d38e12b7f8b53c6c0ec18a</td>\n",
       "      <td>{\"cutoff\": \"quantile_0.25\", \"eval_fairness_gro...</td>\n",
       "      <td>43.543733</td>\n",
       "      <td>89710</td>\n",
       "      <td>1.0</td>\n",
       "      <td>0.069228</td>\n",
       "      <td>0.927204</td>\n",
       "      <td>0.029632</td>\n",
       "      <td>0.961058</td>\n",
       "      <td>...</td>\n",
       "      <td>NaN</td>\n",
       "      <td>NaN</td>\n",
       "      <td>NaN</td>\n",
       "      <td>NaN</td>\n",
       "      <td>NaN</td>\n",
       "      <td>NaN</td>\n",
       "      <td>NaN</td>\n",
       "      <td>NaN</td>\n",
       "      <td>NaN</td>\n",
       "      <td>NaN</td>\n",
       "    </tr>\n",
       "    <tr>\n",
       "      <th>0</th>\n",
       "      <td>16</td>\n",
       "      <td>2d16c60d03d38e12b7f8b53c6c0ec18a</td>\n",
       "      <td>{\"cutoff\": \"quantile_0.25\", \"eval_fairness_gro...</td>\n",
       "      <td>43.543733</td>\n",
       "      <td>89710</td>\n",
       "      <td>1.0</td>\n",
       "      <td>0.069228</td>\n",
       "      <td>0.927204</td>\n",
       "      <td>0.029632</td>\n",
       "      <td>0.961058</td>\n",
       "      <td>...</td>\n",
       "      <td>0.139005</td>\n",
       "      <td>0.165140</td>\n",
       "      <td>0.711699</td>\n",
       "      <td>0.732001</td>\n",
       "      <td>0.118243</td>\n",
       "      <td>0.049015</td>\n",
       "      <td>0.731305</td>\n",
       "      <td>0.760937</td>\n",
       "      <td>20540.0</td>\n",
       "      <td>69170.0</td>\n",
       "    </tr>\n",
       "  </tbody>\n",
       "</table>\n",
       "<p>4 rows × 50 columns</p>\n",
       "</div>"
      ],
      "text/plain": [
       "  run_no                       universe_id  \\\n",
       "0     16  2d16c60d03d38e12b7f8b53c6c0ec18a   \n",
       "0     16  2d16c60d03d38e12b7f8b53c6c0ec18a   \n",
       "0     16  2d16c60d03d38e12b7f8b53c6c0ec18a   \n",
       "0     16  2d16c60d03d38e12b7f8b53c6c0ec18a   \n",
       "\n",
       "                                   universe_settings  execution_time  \\\n",
       "0  {\"cutoff\": \"quantile_0.1\", \"eval_fairness_grou...       43.543733   \n",
       "0  {\"cutoff\": \"quantile_0.1\", \"eval_fairness_grou...       43.543733   \n",
       "0  {\"cutoff\": \"quantile_0.25\", \"eval_fairness_gro...       43.543733   \n",
       "0  {\"cutoff\": \"quantile_0.25\", \"eval_fairness_gro...       43.543733   \n",
       "\n",
       "   test_size_n  test_size_frac  fair_main_equalized_odds_difference  \\\n",
       "0        89710             1.0                             0.047210   \n",
       "0        89710             1.0                             0.047210   \n",
       "0        89710             1.0                             0.069228   \n",
       "0        89710             1.0                             0.069228   \n",
       "\n",
       "   fair_main_equalized_odds_ratio  fair_main_demographic_parity_difference  \\\n",
       "0                        0.948699                                 0.048056   \n",
       "0                        0.948699                                 0.048056   \n",
       "0                        0.927204                                 0.029632   \n",
       "0                        0.927204                                 0.029632   \n",
       "\n",
       "   fair_main_demographic_parity_ratio  ...  perf_grp_precision_0  \\\n",
       "0                            0.948299  ...                   NaN   \n",
       "0                            0.948299  ...              0.123723   \n",
       "0                            0.961058  ...                   NaN   \n",
       "0                            0.961058  ...              0.139005   \n",
       "\n",
       "   perf_grp_precision_1  perf_grp_false positive rate_0  \\\n",
       "0                   NaN                             NaN   \n",
       "0              0.140775                        0.873046   \n",
       "0                   NaN                             NaN   \n",
       "0              0.165140                        0.711699   \n",
       "\n",
       "   perf_grp_false positive rate_1  perf_grp_false negative rate_0  \\\n",
       "0                             NaN                             NaN   \n",
       "0                        0.920257                        0.054054   \n",
       "0                             NaN                             NaN   \n",
       "0                        0.732001                        0.118243   \n",
       "\n",
       "   perf_grp_false negative rate_1  perf_grp_selection rate_0  \\\n",
       "0                             NaN                        NaN   \n",
       "0                        0.009737                   0.881451   \n",
       "0                             NaN                        NaN   \n",
       "0                        0.049015                   0.731305   \n",
       "\n",
       "   perf_grp_selection rate_1  perf_grp_count_0  perf_grp_count_1  \n",
       "0                        NaN               NaN               NaN  \n",
       "0                   0.929507           20540.0           69170.0  \n",
       "0                        NaN               NaN               NaN  \n",
       "0                   0.760937           20540.0           69170.0  \n",
       "\n",
       "[4 rows x 50 columns]"
      ]
     },
     "execution_count": 66,
     "metadata": {},
     "output_type": "execute_result"
    }
   ],
   "source": [
    "final_output = universe_analysis.generate_final_output(\n",
    "    y_pred_prob=probs_test,\n",
    "    y_test=y_true,\n",
    "    org_test=org_test,\n",
    "    filter_data=filter_sub_universe_data,\n",
    "    cp_metrics_df=cp_metrics_df,\n",
    "    save=True,\n",
    ")\n",
    "final_output"
   ]
  }
 ],
 "metadata": {
  "celltoolbar": "Tags",
  "kernelspec": {
   "display_name": "Python (CMA Fairness)",
   "language": "python",
   "name": "cma_fair_env"
  },
  "language_info": {
   "codemirror_mode": {
    "name": "ipython",
    "version": 3
   },
   "file_extension": ".py",
   "mimetype": "text/x-python",
   "name": "python",
   "nbconvert_exporter": "python",
   "pygments_lexer": "ipython3",
   "version": "3.10.12"
  },
  "papermill": {
   "default_parameters": {},
   "duration": 56.53488,
   "end_time": "2025-08-05T20:36:17.764876",
   "environment_variables": {},
   "exception": null,
   "input_path": "universe_analysis.ipynb",
   "output_path": "output/runs/16/notebooks/m_16-2d16c60d03d38e12b7f8b53c6c0ec18a.ipynb",
   "parameters": {
    "output_dir": "output",
    "run_no": "16",
    "seed": "2023",
    "universe": "{\"cutoff\": [\"quantile_0.1\", \"quantile_0.25\"], \"eval_fairness_grouping\": [\"majority-minority\", \"nationality-all\"], \"exclude_features\": \"nationality\", \"exclude_subgroups\": \"drop-non-german\", \"model\": \"rf\", \"scale\": \"scale\", \"training_size\": \"25k\", \"training_year\": \"2014\"}",
    "universe_id": "2d16c60d03d38e12b7f8b53c6c0ec18a"
   },
   "start_time": "2025-08-05T20:35:21.229996",
   "version": "2.6.0"
  }
 },
 "nbformat": 4,
 "nbformat_minor": 5
}