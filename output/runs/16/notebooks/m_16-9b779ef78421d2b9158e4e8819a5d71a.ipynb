{
 "cells": [
  {
   "cell_type": "code",
   "execution_count": 1,
   "id": "f159f837-637b-42ba-96b5-ec9a68c44524",
   "metadata": {
    "execution": {
     "iopub.execute_input": "2025-08-05T20:40:51.070140Z",
     "iopub.status.busy": "2025-08-05T20:40:51.069625Z",
     "iopub.status.idle": "2025-08-05T20:40:51.083057Z",
     "shell.execute_reply": "2025-08-05T20:40:51.082042Z"
    },
    "papermill": {
     "duration": 0.035057,
     "end_time": "2025-08-05T20:40:51.084964",
     "exception": false,
     "start_time": "2025-08-05T20:40:51.049907",
     "status": "completed"
    },
    "tags": []
   },
   "outputs": [
    {
     "name": "stdout",
     "output_type": "stream",
     "text": [
      "/dss/dsshome1/0C/ra93lal2/cma/CMA_Fairness_v2\n"
     ]
    },
    {
     "name": "stderr",
     "output_type": "stream",
     "text": [
      "/dss/dsshome1/0C/ra93lal2/.local/share/virtualenvs/CMA_Fairness_v2-3j10GkSs/lib/python3.10/site-packages/IPython/core/magics/osm.py:393: UserWarning: This is now an optional IPython functionality, using bookmarks requires you to install the `pickleshare` library.\n",
      "  bkms = self.shell.db.get('bookmarks', {})\n",
      "/dss/dsshome1/0C/ra93lal2/.local/share/virtualenvs/CMA_Fairness_v2-3j10GkSs/lib/python3.10/site-packages/IPython/core/magics/osm.py:417: UserWarning: This is now an optional IPython functionality, setting dhist requires you to install the `pickleshare` library.\n",
      "  self.shell.db['dhist'] = compress_dhist(dhist)[-100:]\n"
     ]
    }
   ],
   "source": [
    "%cd ~/cma/CMA_Fairness_v2"
   ]
  },
  {
   "cell_type": "markdown",
   "id": "de2603b9",
   "metadata": {
    "papermill": {
     "duration": 0.016448,
     "end_time": "2025-08-05T20:40:51.117200",
     "exception": false,
     "start_time": "2025-08-05T20:40:51.100752",
     "status": "completed"
    },
    "tags": []
   },
   "source": [
    "The following cell holds the definition of our parameters, these values can be overriden by rendering the with e.g. the following command:\n",
    "\n",
    "papermill -p alpha 0.2 -p ratio 0.3 universe_analysis.ipynb output/test_run.ipynb"
   ]
  },
  {
   "cell_type": "code",
   "execution_count": 2,
   "id": "a80968a0-40bb-4fa9-85ef-2d5eefb01975",
   "metadata": {
    "execution": {
     "iopub.execute_input": "2025-08-05T20:40:51.154839Z",
     "iopub.status.busy": "2025-08-05T20:40:51.154417Z",
     "iopub.status.idle": "2025-08-05T20:40:51.159357Z",
     "shell.execute_reply": "2025-08-05T20:40:51.158517Z"
    },
    "papermill": {
     "duration": 0.026741,
     "end_time": "2025-08-05T20:40:51.160929",
     "exception": false,
     "start_time": "2025-08-05T20:40:51.134188",
     "status": "completed"
    },
    "tags": []
   },
   "outputs": [
    {
     "name": "stdout",
     "output_type": "stream",
     "text": [
      "Current working directory: /dss/dsshome1/0C/ra93lal2/cma/CMA_Fairness_v2\n"
     ]
    }
   ],
   "source": [
    "import os\n",
    "print(\"Current working directory:\", os.getcwd())"
   ]
  },
  {
   "cell_type": "code",
   "execution_count": 3,
   "id": "2dce4c03",
   "metadata": {
    "execution": {
     "iopub.execute_input": "2025-08-05T20:40:51.199298Z",
     "iopub.status.busy": "2025-08-05T20:40:51.198883Z",
     "iopub.status.idle": "2025-08-05T20:40:51.226233Z",
     "shell.execute_reply": "2025-08-05T20:40:51.225097Z"
    },
    "papermill": {
     "duration": 0.049688,
     "end_time": "2025-08-05T20:40:51.228206",
     "exception": false,
     "start_time": "2025-08-05T20:40:51.178518",
     "status": "completed"
    },
    "tags": [
     "parameters"
    ]
   },
   "outputs": [],
   "source": [
    "run_no = 0\n",
    "universe_id = \"test\"\n",
    "universe = {\n",
    "    \"training_size\": \"25k\", # \"25k\", \"5k\", \"1k\"\n",
    "    \"training_year\": \"2014\", # \"2014\", \"2012_14\", \"2010_14\"\n",
    "    \"scale\": \"scale\", # \"scale\", \"do-not-scale\",\n",
    "    \"model\": \"elasticnet\", # \"logreg\", \"penalized_logreg\", \"rf\", \"gbm\", \"elasticnet\"\n",
    "    \"cutoff\": [\"quantile_0.15\", \"quantile_0.30\"],\n",
    "    \"exclude_features\": \"age\", # \"none\", \"nationality\", \"sex\", \"nationality-sex\", \"age\"\n",
    "    \"exclude_subgroups\": \"keep-all\", # \"keep-all\", \"drop-non-german\"\n",
    "    \"eval_fairness_grouping\": [\"majority-minority\", \"nationality-all\"]\n",
    "}\n",
    "\n",
    "output_dir=\"./output\"\n",
    "seed=0"
   ]
  },
  {
   "cell_type": "code",
   "execution_count": 4,
   "id": "ea79a93b",
   "metadata": {
    "execution": {
     "iopub.execute_input": "2025-08-05T20:40:51.267783Z",
     "iopub.status.busy": "2025-08-05T20:40:51.267334Z",
     "iopub.status.idle": "2025-08-05T20:40:51.273143Z",
     "shell.execute_reply": "2025-08-05T20:40:51.272011Z"
    },
    "papermill": {
     "duration": 0.028254,
     "end_time": "2025-08-05T20:40:51.275069",
     "exception": false,
     "start_time": "2025-08-05T20:40:51.246815",
     "status": "completed"
    },
    "tags": [
     "injected-parameters"
    ]
   },
   "outputs": [],
   "source": [
    "# Parameters\n",
    "universe_id = \"9b779ef78421d2b9158e4e8819a5d71a\"\n",
    "run_no = \"16\"\n",
    "universe = \"{\\\"cutoff\\\": [\\\"quantile_0.1\\\", \\\"quantile_0.25\\\"], \\\"eval_fairness_grouping\\\": [\\\"majority-minority\\\", \\\"nationality-all\\\"], \\\"exclude_features\\\": \\\"nationality\\\", \\\"exclude_subgroups\\\": \\\"keep-all\\\", \\\"model\\\": \\\"logreg\\\", \\\"scale\\\": \\\"do-not-scale\\\", \\\"training_size\\\": \\\"25k\\\", \\\"training_year\\\": \\\"2014\\\"}\"\n",
    "output_dir = \"output\"\n",
    "seed = \"2023\"\n"
   ]
  },
  {
   "cell_type": "code",
   "execution_count": 5,
   "id": "1650acaf",
   "metadata": {
    "execution": {
     "iopub.execute_input": "2025-08-05T20:40:51.311331Z",
     "iopub.status.busy": "2025-08-05T20:40:51.310823Z",
     "iopub.status.idle": "2025-08-05T20:40:51.316229Z",
     "shell.execute_reply": "2025-08-05T20:40:51.315170Z"
    },
    "papermill": {
     "duration": 0.024335,
     "end_time": "2025-08-05T20:40:51.318214",
     "exception": false,
     "start_time": "2025-08-05T20:40:51.293879",
     "status": "completed"
    },
    "tags": []
   },
   "outputs": [],
   "source": [
    "import json\n",
    "if isinstance(universe, str):\n",
    "    universe = json.loads(universe)"
   ]
  },
  {
   "cell_type": "code",
   "execution_count": 6,
   "id": "16620c48",
   "metadata": {
    "execution": {
     "iopub.execute_input": "2025-08-05T20:40:51.356061Z",
     "iopub.status.busy": "2025-08-05T20:40:51.355264Z",
     "iopub.status.idle": "2025-08-05T20:40:51.401704Z",
     "shell.execute_reply": "2025-08-05T20:40:51.400772Z"
    },
    "papermill": {
     "duration": 0.066314,
     "end_time": "2025-08-05T20:40:51.403402",
     "exception": false,
     "start_time": "2025-08-05T20:40:51.337088",
     "status": "completed"
    },
    "tags": []
   },
   "outputs": [],
   "source": [
    "# Auto-reload the custom package\n",
    "%load_ext autoreload\n",
    "%autoreload 1\n",
    "%aimport fairness_multiverse"
   ]
  },
  {
   "cell_type": "code",
   "execution_count": 7,
   "id": "01c5c9f3",
   "metadata": {
    "execution": {
     "iopub.execute_input": "2025-08-05T20:40:51.442260Z",
     "iopub.status.busy": "2025-08-05T20:40:51.441341Z",
     "iopub.status.idle": "2025-08-05T20:40:53.263784Z",
     "shell.execute_reply": "2025-08-05T20:40:53.262969Z"
    },
    "papermill": {
     "duration": 1.843631,
     "end_time": "2025-08-05T20:40:53.265271",
     "exception": false,
     "start_time": "2025-08-05T20:40:51.421640",
     "status": "completed"
    },
    "tags": []
   },
   "outputs": [],
   "source": [
    "from fairness_multiverse.universe import UniverseAnalysis\n",
    "\n",
    "universe_analysis = UniverseAnalysis(\n",
    "    run_no = run_no,\n",
    "    universe_id = universe_id,\n",
    "    universe = universe,\n",
    "    output_dir=output_dir,\n",
    ")"
   ]
  },
  {
   "cell_type": "code",
   "execution_count": 8,
   "id": "106241f5",
   "metadata": {
    "execution": {
     "iopub.execute_input": "2025-08-05T20:40:53.284207Z",
     "iopub.status.busy": "2025-08-05T20:40:53.283848Z",
     "iopub.status.idle": "2025-08-05T20:40:53.289451Z",
     "shell.execute_reply": "2025-08-05T20:40:53.288458Z"
    },
    "papermill": {
     "duration": 0.016693,
     "end_time": "2025-08-05T20:40:53.291302",
     "exception": false,
     "start_time": "2025-08-05T20:40:53.274609",
     "status": "completed"
    },
    "tags": []
   },
   "outputs": [
    {
     "name": "stdout",
     "output_type": "stream",
     "text": [
      "Using Seed: 2023\n"
     ]
    }
   ],
   "source": [
    "import numpy as np\n",
    "parsed_seed = int(seed)\n",
    "np.random.seed(parsed_seed)\n",
    "print(f\"Using Seed: {parsed_seed}\")"
   ]
  },
  {
   "cell_type": "markdown",
   "id": "e0ebdc57",
   "metadata": {
    "papermill": {
     "duration": 0.008331,
     "end_time": "2025-08-05T20:40:53.309037",
     "exception": false,
     "start_time": "2025-08-05T20:40:53.300706",
     "status": "completed"
    },
    "tags": []
   },
   "source": [
    "# Loading Data"
   ]
  },
  {
   "cell_type": "code",
   "execution_count": 9,
   "id": "f0496b8a",
   "metadata": {
    "execution": {
     "iopub.execute_input": "2025-08-05T20:40:53.327529Z",
     "iopub.status.busy": "2025-08-05T20:40:53.327013Z",
     "iopub.status.idle": "2025-08-05T20:41:05.279948Z",
     "shell.execute_reply": "2025-08-05T20:41:05.278755Z"
    },
    "papermill": {
     "duration": 11.964226,
     "end_time": "2025-08-05T20:41:05.281680",
     "exception": false,
     "start_time": "2025-08-05T20:40:53.317454",
     "status": "completed"
    },
    "tags": []
   },
   "outputs": [
    {
     "name": "stdout",
     "output_type": "stream",
     "text": [
      "Loading SIAB data from cache: data/siab_cached.csv.gz\n"
     ]
    },
    {
     "name": "stdout",
     "output_type": "stream",
     "text": [
      "(643690, 164)\n"
     ]
    }
   ],
   "source": [
    "from pathlib import Path\n",
    "import pandas as pd\n",
    "\n",
    "# File paths\n",
    "raw_file = Path(\"data/raw/siab.csv\")\n",
    "cache_file = Path(\"data/siab_cached.csv.gz\")\n",
    "\n",
    "# Ensure cache directory exists\n",
    "cache_file.parent.mkdir(parents=True, exist_ok=True)\n",
    "\n",
    "# Load with simple caching\n",
    "if cache_file.exists():\n",
    "    print(f\"Loading SIAB data from cache: {cache_file}\")\n",
    "    siab = pd.read_csv(cache_file, compression='gzip')\n",
    "else:\n",
    "    print(f\"Cache not found. Reading raw SIAB data: {raw_file}\")\n",
    "    siab = pd.read_csv(raw_file)\n",
    "    siab.to_csv(cache_file, index=False, compression='gzip')\n",
    "    print(f\"Cached SIAB data to: {cache_file}\")\n",
    "\n",
    "print(siab.shape)"
   ]
  },
  {
   "cell_type": "code",
   "execution_count": 10,
   "id": "db0ca512-5f53-4dba-abdb-a2888bca41ba",
   "metadata": {
    "execution": {
     "iopub.execute_input": "2025-08-05T20:41:05.337263Z",
     "iopub.status.busy": "2025-08-05T20:41:05.336826Z",
     "iopub.status.idle": "2025-08-05T20:41:05.342290Z",
     "shell.execute_reply": "2025-08-05T20:41:05.341176Z"
    },
    "papermill": {
     "duration": 0.027323,
     "end_time": "2025-08-05T20:41:05.343713",
     "exception": false,
     "start_time": "2025-08-05T20:41:05.316390",
     "status": "completed"
    },
    "tags": []
   },
   "outputs": [],
   "source": [
    "#siab"
   ]
  },
  {
   "cell_type": "markdown",
   "id": "997051c5-15bd-4b69-9786-c3001a3ce484",
   "metadata": {
    "papermill": {
     "duration": 0.016603,
     "end_time": "2025-08-05T20:41:05.377474",
     "exception": false,
     "start_time": "2025-08-05T20:41:05.360871",
     "status": "completed"
    },
    "tags": []
   },
   "source": [
    "# Splitting Data and Setting Training Data Size"
   ]
  },
  {
   "cell_type": "code",
   "execution_count": 11,
   "id": "aea9c6ef-6f46-42c8-85eb-5a62025c1508",
   "metadata": {
    "execution": {
     "iopub.execute_input": "2025-08-05T20:41:05.415951Z",
     "iopub.status.busy": "2025-08-05T20:41:05.415217Z",
     "iopub.status.idle": "2025-08-05T20:41:05.669923Z",
     "shell.execute_reply": "2025-08-05T20:41:05.668757Z"
    },
    "papermill": {
     "duration": 0.276309,
     "end_time": "2025-08-05T20:41:05.671579",
     "exception": false,
     "start_time": "2025-08-05T20:41:05.395270",
     "status": "completed"
    },
    "tags": []
   },
   "outputs": [],
   "source": [
    "from fairness_multiverse.universe import sample_by_year_size\n",
    "\n",
    "siab_train = sample_by_year_size(siab,\n",
    "                               training_year=universe[\"training_year\"],\n",
    "                               training_size=universe[\"training_size\"])"
   ]
  },
  {
   "cell_type": "code",
   "execution_count": 12,
   "id": "8d3afb32-789d-442c-8d5d-9f5aa8dd2eed",
   "metadata": {
    "execution": {
     "iopub.execute_input": "2025-08-05T20:41:05.707571Z",
     "iopub.status.busy": "2025-08-05T20:41:05.707150Z",
     "iopub.status.idle": "2025-08-05T20:41:05.712411Z",
     "shell.execute_reply": "2025-08-05T20:41:05.711181Z"
    },
    "papermill": {
     "duration": 0.026257,
     "end_time": "2025-08-05T20:41:05.714449",
     "exception": false,
     "start_time": "2025-08-05T20:41:05.688192",
     "status": "completed"
    },
    "tags": []
   },
   "outputs": [],
   "source": [
    "#siab_train.shape"
   ]
  },
  {
   "cell_type": "code",
   "execution_count": 13,
   "id": "d582db68-1a4c-47fb-84fc-08518dc1975a",
   "metadata": {
    "execution": {
     "iopub.execute_input": "2025-08-05T20:41:05.753332Z",
     "iopub.status.busy": "2025-08-05T20:41:05.752700Z",
     "iopub.status.idle": "2025-08-05T20:41:05.759129Z",
     "shell.execute_reply": "2025-08-05T20:41:05.757753Z"
    },
    "papermill": {
     "duration": 0.028468,
     "end_time": "2025-08-05T20:41:05.761145",
     "exception": false,
     "start_time": "2025-08-05T20:41:05.732677",
     "status": "completed"
    },
    "tags": []
   },
   "outputs": [],
   "source": [
    "#display(siab_train.groupby(\"year\").size())"
   ]
  },
  {
   "cell_type": "code",
   "execution_count": 14,
   "id": "a561edb4-d032-42cb-8256-22eac1111c64",
   "metadata": {
    "execution": {
     "iopub.execute_input": "2025-08-05T20:41:05.800755Z",
     "iopub.status.busy": "2025-08-05T20:41:05.800075Z",
     "iopub.status.idle": "2025-08-05T20:41:05.996237Z",
     "shell.execute_reply": "2025-08-05T20:41:05.995163Z"
    },
    "papermill": {
     "duration": 0.217893,
     "end_time": "2025-08-05T20:41:05.998227",
     "exception": false,
     "start_time": "2025-08-05T20:41:05.780334",
     "status": "completed"
    },
    "tags": []
   },
   "outputs": [],
   "source": [
    "#siab_train = siab_s[siab_s.year < 2015]\n",
    "siab_calib = siab[siab.year == 2015]\n",
    "siab_test = siab[siab.year == 2016]"
   ]
  },
  {
   "cell_type": "code",
   "execution_count": 15,
   "id": "472de16f-c3db-4916-846b-1f0de9cf1746",
   "metadata": {
    "execution": {
     "iopub.execute_input": "2025-08-05T20:41:06.037224Z",
     "iopub.status.busy": "2025-08-05T20:41:06.036414Z",
     "iopub.status.idle": "2025-08-05T20:41:06.052095Z",
     "shell.execute_reply": "2025-08-05T20:41:06.050962Z"
    },
    "papermill": {
     "duration": 0.036972,
     "end_time": "2025-08-05T20:41:06.054141",
     "exception": false,
     "start_time": "2025-08-05T20:41:06.017169",
     "status": "completed"
    },
    "tags": []
   },
   "outputs": [],
   "source": [
    "X_train = siab_train.iloc[:,4:164]\n",
    "y_train = siab_train.iloc[:, [3]]"
   ]
  },
  {
   "cell_type": "code",
   "execution_count": 16,
   "id": "828c96af-f43a-4ed6-ba47-8ac73a47d56c",
   "metadata": {
    "execution": {
     "iopub.execute_input": "2025-08-05T20:41:06.093339Z",
     "iopub.status.busy": "2025-08-05T20:41:06.092528Z",
     "iopub.status.idle": "2025-08-05T20:41:06.145104Z",
     "shell.execute_reply": "2025-08-05T20:41:06.144017Z"
    },
    "papermill": {
     "duration": 0.07389,
     "end_time": "2025-08-05T20:41:06.147114",
     "exception": false,
     "start_time": "2025-08-05T20:41:06.073224",
     "status": "completed"
    },
    "tags": []
   },
   "outputs": [],
   "source": [
    "X_calib = siab_calib.iloc[:,4:164]\n",
    "y_calib = siab_calib.iloc[:, [3]]"
   ]
  },
  {
   "cell_type": "code",
   "execution_count": 17,
   "id": "c34be9c3-6bd6-476e-acd3-845840e303be",
   "metadata": {
    "execution": {
     "iopub.execute_input": "2025-08-05T20:41:06.185550Z",
     "iopub.status.busy": "2025-08-05T20:41:06.185180Z",
     "iopub.status.idle": "2025-08-05T20:41:06.233973Z",
     "shell.execute_reply": "2025-08-05T20:41:06.232941Z"
    },
    "papermill": {
     "duration": 0.072297,
     "end_time": "2025-08-05T20:41:06.235391",
     "exception": false,
     "start_time": "2025-08-05T20:41:06.163094",
     "status": "completed"
    },
    "tags": []
   },
   "outputs": [],
   "source": [
    "X_test = siab_test.iloc[:,4:164]\n",
    "y_true = siab_test.iloc[:, [3]]"
   ]
  },
  {
   "cell_type": "code",
   "execution_count": 18,
   "id": "e6c733c5",
   "metadata": {
    "execution": {
     "iopub.execute_input": "2025-08-05T20:41:06.255654Z",
     "iopub.status.busy": "2025-08-05T20:41:06.254870Z",
     "iopub.status.idle": "2025-08-05T20:41:06.353545Z",
     "shell.execute_reply": "2025-08-05T20:41:06.352436Z"
    },
    "papermill": {
     "duration": 0.110316,
     "end_time": "2025-08-05T20:41:06.355492",
     "exception": false,
     "start_time": "2025-08-05T20:41:06.245176",
     "status": "completed"
    },
    "tags": []
   },
   "outputs": [],
   "source": [
    "# Auxiliary data needed downstream in the pipeline\n",
    "\n",
    "org_train = X_train.copy()\n",
    "org_test = X_test.copy()\n",
    "org_calib = X_calib.copy()"
   ]
  },
  {
   "cell_type": "markdown",
   "id": "0a4a1b33",
   "metadata": {
    "papermill": {
     "duration": 0.019688,
     "end_time": "2025-08-05T20:41:06.396847",
     "exception": false,
     "start_time": "2025-08-05T20:41:06.377159",
     "status": "completed"
    },
    "tags": []
   },
   "source": [
    "# Preprocessing Data"
   ]
  },
  {
   "cell_type": "code",
   "execution_count": 19,
   "id": "ca879031",
   "metadata": {
    "execution": {
     "iopub.execute_input": "2025-08-05T20:41:06.438540Z",
     "iopub.status.busy": "2025-08-05T20:41:06.437477Z",
     "iopub.status.idle": "2025-08-05T20:41:06.444395Z",
     "shell.execute_reply": "2025-08-05T20:41:06.443372Z"
    },
    "papermill": {
     "duration": 0.028381,
     "end_time": "2025-08-05T20:41:06.446304",
     "exception": false,
     "start_time": "2025-08-05T20:41:06.417923",
     "status": "completed"
    },
    "tags": []
   },
   "outputs": [],
   "source": [
    "# EXCLUDE PROTECTED FEATURES\n",
    "# ----------------------\n",
    "# \"exclude_features\": \"none\", # \"nationality\", \"sex\", \"nationality-sex\"\n",
    "\n",
    "excluded_features = universe[\"exclude_features\"].split(\"-\") # split, e.g.: \"nationality-sex\" -> [\"nationality\", \"sex\"]\n",
    "excluded_features_dictionary = {\n",
    "    \"nationality\": [\"maxdeutsch1\", \"maxdeutsch.Missing.\"],\n",
    "    \"sex\": [\"frau1\"],\n",
    "    \"age\": [\"age\"],\n",
    "}"
   ]
  },
  {
   "cell_type": "code",
   "execution_count": 20,
   "id": "b745ac60",
   "metadata": {
    "execution": {
     "iopub.execute_input": "2025-08-05T20:41:06.485449Z",
     "iopub.status.busy": "2025-08-05T20:41:06.484571Z",
     "iopub.status.idle": "2025-08-05T20:41:06.490599Z",
     "shell.execute_reply": "2025-08-05T20:41:06.489719Z"
    },
    "papermill": {
     "duration": 0.027396,
     "end_time": "2025-08-05T20:41:06.492139",
     "exception": false,
     "start_time": "2025-08-05T20:41:06.464743",
     "status": "completed"
    },
    "tags": []
   },
   "outputs": [],
   "source": [
    "# Code nice names to column names\n",
    "\n",
    "excluded_features_columns = [\n",
    "    excluded_features_dictionary[f] for f in excluded_features if len(f) > 0 and f != \"none\"\n",
    "]"
   ]
  },
  {
   "cell_type": "code",
   "execution_count": 21,
   "id": "f84f73a2",
   "metadata": {
    "execution": {
     "iopub.execute_input": "2025-08-05T20:41:06.530349Z",
     "iopub.status.busy": "2025-08-05T20:41:06.529641Z",
     "iopub.status.idle": "2025-08-05T20:41:06.536358Z",
     "shell.execute_reply": "2025-08-05T20:41:06.535366Z"
    },
    "papermill": {
     "duration": 0.027756,
     "end_time": "2025-08-05T20:41:06.538142",
     "exception": false,
     "start_time": "2025-08-05T20:41:06.510386",
     "status": "completed"
    },
    "tags": []
   },
   "outputs": [],
   "source": [
    "from utils import flatten_once\n",
    "\n",
    "excluded_features_columns = flatten_once(excluded_features_columns)"
   ]
  },
  {
   "cell_type": "code",
   "execution_count": 22,
   "id": "884dea22",
   "metadata": {
    "execution": {
     "iopub.execute_input": "2025-08-05T20:41:06.567986Z",
     "iopub.status.busy": "2025-08-05T20:41:06.567446Z",
     "iopub.status.idle": "2025-08-05T20:41:06.582641Z",
     "shell.execute_reply": "2025-08-05T20:41:06.581467Z"
    },
    "papermill": {
     "duration": 0.028284,
     "end_time": "2025-08-05T20:41:06.584527",
     "exception": false,
     "start_time": "2025-08-05T20:41:06.556243",
     "status": "completed"
    },
    "tags": []
   },
   "outputs": [
    {
     "name": "stdout",
     "output_type": "stream",
     "text": [
      "Dropping features: ['maxdeutsch1', 'maxdeutsch.Missing.']\n"
     ]
    }
   ],
   "source": [
    "if len(excluded_features_columns) > 0:\n",
    "    print(f\"Dropping features: {excluded_features_columns}\")\n",
    "    X_train.drop(excluded_features_columns, axis=1, inplace=True)"
   ]
  },
  {
   "cell_type": "code",
   "execution_count": 23,
   "id": "95ab8b16",
   "metadata": {
    "execution": {
     "iopub.execute_input": "2025-08-05T20:41:06.622725Z",
     "iopub.status.busy": "2025-08-05T20:41:06.622338Z",
     "iopub.status.idle": "2025-08-05T20:41:06.674368Z",
     "shell.execute_reply": "2025-08-05T20:41:06.673322Z"
    },
    "papermill": {
     "duration": 0.072502,
     "end_time": "2025-08-05T20:41:06.675907",
     "exception": false,
     "start_time": "2025-08-05T20:41:06.603405",
     "status": "completed"
    },
    "tags": []
   },
   "outputs": [
    {
     "name": "stdout",
     "output_type": "stream",
     "text": [
      "Dropping features: ['maxdeutsch1', 'maxdeutsch.Missing.']\n"
     ]
    }
   ],
   "source": [
    "if len(excluded_features_columns) > 0:\n",
    "    print(f\"Dropping features: {excluded_features_columns}\")\n",
    "    X_test.drop(excluded_features_columns, axis=1, inplace=True)"
   ]
  },
  {
   "cell_type": "code",
   "execution_count": 24,
   "id": "1853aaf5-fb9f-46cb-a2b5-8ea4ae2237e4",
   "metadata": {
    "execution": {
     "iopub.execute_input": "2025-08-05T20:41:06.696716Z",
     "iopub.status.busy": "2025-08-05T20:41:06.696221Z",
     "iopub.status.idle": "2025-08-05T20:41:06.726691Z",
     "shell.execute_reply": "2025-08-05T20:41:06.725828Z"
    },
    "papermill": {
     "duration": 0.041696,
     "end_time": "2025-08-05T20:41:06.727965",
     "exception": false,
     "start_time": "2025-08-05T20:41:06.686269",
     "status": "completed"
    },
    "tags": []
   },
   "outputs": [
    {
     "name": "stdout",
     "output_type": "stream",
     "text": [
      "Dropping features: ['maxdeutsch1', 'maxdeutsch.Missing.']\n"
     ]
    }
   ],
   "source": [
    "if len(excluded_features_columns) > 0:\n",
    "    print(f\"Dropping features: {excluded_features_columns}\")\n",
    "    X_calib.drop(excluded_features_columns, axis=1, inplace=True)"
   ]
  },
  {
   "cell_type": "code",
   "execution_count": 25,
   "id": "76c4dc6d",
   "metadata": {
    "execution": {
     "iopub.execute_input": "2025-08-05T20:41:06.748517Z",
     "iopub.status.busy": "2025-08-05T20:41:06.747924Z",
     "iopub.status.idle": "2025-08-05T20:41:06.818001Z",
     "shell.execute_reply": "2025-08-05T20:41:06.817148Z"
    },
    "papermill": {
     "duration": 0.081915,
     "end_time": "2025-08-05T20:41:06.819696",
     "exception": false,
     "start_time": "2025-08-05T20:41:06.737781",
     "status": "completed"
    },
    "tags": []
   },
   "outputs": [],
   "source": [
    "# EXCLUDE CERTAIN SUBGROUPS\n",
    "# ----------------------\n",
    "\n",
    "mode = universe.get(\"exclude_subgroups\", \"keep-all\") \n",
    "# Fetches the exclude_subgroups setting from the universe dict.\n",
    "# Defaults to \"keep-all\" if the key is missing."
   ]
  },
  {
   "cell_type": "code",
   "execution_count": 26,
   "id": "21994072",
   "metadata": {
    "execution": {
     "iopub.execute_input": "2025-08-05T20:41:06.841480Z",
     "iopub.status.busy": "2025-08-05T20:41:06.840802Z",
     "iopub.status.idle": "2025-08-05T20:41:06.846356Z",
     "shell.execute_reply": "2025-08-05T20:41:06.845583Z"
    },
    "papermill": {
     "duration": 0.017172,
     "end_time": "2025-08-05T20:41:06.847673",
     "exception": false,
     "start_time": "2025-08-05T20:41:06.830501",
     "status": "completed"
    },
    "tags": []
   },
   "outputs": [],
   "source": [
    "if mode == \"keep-all\":\n",
    "    keep_mask = pd.Series(True, index=org_train.index)\n",
    "\n",
    "# org_train contains the original feature columns from features_org (in Simson)\n",
    "# features_org contains unprocessed features, for me X_train at beginning ???\n",
    "# For keep-all, creates a boolean Series (keep_mask) of all True, so no rows are removed.\n",
    "\n",
    "elif mode == \"drop-non-german\":\n",
    "    keep_mask = org_train[\"maxdeutsch1\"] == 1 # ??? what about missing values?\n",
    "\n",
    "else:\n",
    "    raise ValueError(f\"Unsupported mode for exclude_subgroups: {mode}\")"
   ]
  },
  {
   "cell_type": "code",
   "execution_count": 27,
   "id": "71651440",
   "metadata": {
    "execution": {
     "iopub.execute_input": "2025-08-05T20:41:06.880879Z",
     "iopub.status.busy": "2025-08-05T20:41:06.880133Z",
     "iopub.status.idle": "2025-08-05T20:41:06.887578Z",
     "shell.execute_reply": "2025-08-05T20:41:06.886565Z"
    },
    "papermill": {
     "duration": 0.030951,
     "end_time": "2025-08-05T20:41:06.889499",
     "exception": false,
     "start_time": "2025-08-05T20:41:06.858548",
     "status": "completed"
    },
    "tags": []
   },
   "outputs": [],
   "source": [
    "n_drop = (~keep_mask).sum() # Calculates how many rows are set to be dropped\n",
    "if n_drop > 0:\n",
    "    pct = n_drop / len(keep_mask) * 100\n",
    "    print(f\"Dropping {n_drop} rows ({pct:.2f}%) where mode='{mode}'\")"
   ]
  },
  {
   "cell_type": "code",
   "execution_count": 28,
   "id": "5fb8eee5",
   "metadata": {
    "execution": {
     "iopub.execute_input": "2025-08-05T20:41:06.918982Z",
     "iopub.status.busy": "2025-08-05T20:41:06.918639Z",
     "iopub.status.idle": "2025-08-05T20:41:06.931508Z",
     "shell.execute_reply": "2025-08-05T20:41:06.930665Z"
    },
    "papermill": {
     "duration": 0.025825,
     "end_time": "2025-08-05T20:41:06.933117",
     "exception": false,
     "start_time": "2025-08-05T20:41:06.907292",
     "status": "completed"
    },
    "tags": []
   },
   "outputs": [],
   "source": [
    "X_train = X_train[keep_mask]"
   ]
  },
  {
   "cell_type": "code",
   "execution_count": 29,
   "id": "b202bb3a",
   "metadata": {
    "execution": {
     "iopub.execute_input": "2025-08-05T20:41:06.954710Z",
     "iopub.status.busy": "2025-08-05T20:41:06.953992Z",
     "iopub.status.idle": "2025-08-05T20:41:06.959121Z",
     "shell.execute_reply": "2025-08-05T20:41:06.958369Z"
    },
    "papermill": {
     "duration": 0.016629,
     "end_time": "2025-08-05T20:41:06.960536",
     "exception": false,
     "start_time": "2025-08-05T20:41:06.943907",
     "status": "completed"
    },
    "tags": []
   },
   "outputs": [],
   "source": [
    "y_train = y_train[keep_mask]"
   ]
  },
  {
   "cell_type": "markdown",
   "id": "493e2ac3",
   "metadata": {
    "papermill": {
     "duration": 0.009178,
     "end_time": "2025-08-05T20:41:06.979538",
     "exception": false,
     "start_time": "2025-08-05T20:41:06.970360",
     "status": "completed"
    },
    "tags": []
   },
   "source": [
    "# Model Training"
   ]
  },
  {
   "cell_type": "code",
   "execution_count": 30,
   "id": "679e1268",
   "metadata": {
    "execution": {
     "iopub.execute_input": "2025-08-05T20:41:06.999219Z",
     "iopub.status.busy": "2025-08-05T20:41:06.998716Z",
     "iopub.status.idle": "2025-08-05T20:41:07.070903Z",
     "shell.execute_reply": "2025-08-05T20:41:07.070175Z"
    },
    "papermill": {
     "duration": 0.083451,
     "end_time": "2025-08-05T20:41:07.072241",
     "exception": false,
     "start_time": "2025-08-05T20:41:06.988790",
     "status": "completed"
    },
    "tags": []
   },
   "outputs": [],
   "source": [
    "from sklearn.linear_model import LogisticRegression\n",
    "from sklearn.ensemble import GradientBoostingClassifier, RandomForestClassifier\n",
    "\n",
    "if (universe[\"model\"] == \"logreg\"):\n",
    "    model = LogisticRegression() #penalty=\"none\", solver=\"newton-cg\", max_iter=1) # include random_state=19 ?\n",
    "elif (universe[\"model\"] == \"penalized_logreg\"):\n",
    "    model = LogisticRegression(penalty=\"l2\", C=0.1) #, solver=\"newton-cg\", max_iter=1)\n",
    "elif (universe[\"model\"] == \"rf\"):\n",
    "    model = RandomForestClassifier() # n_estimators=100, n_jobs=-1\n",
    "elif (universe[\"model\"] == \"gbm\"):\n",
    "    model = GradientBoostingClassifier()\n",
    "elif (universe[\"model\"] == \"elasticnet\"):\n",
    "    model = LogisticRegression(penalty = 'elasticnet', solver = 'saga', l1_ratio = 0.5) # max_iter=5000\n",
    "else:\n",
    "    raise \"Unsupported universe.model\""
   ]
  },
  {
   "cell_type": "code",
   "execution_count": 31,
   "id": "0cc8f744",
   "metadata": {
    "execution": {
     "iopub.execute_input": "2025-08-05T20:41:07.092824Z",
     "iopub.status.busy": "2025-08-05T20:41:07.092320Z",
     "iopub.status.idle": "2025-08-05T20:41:07.097361Z",
     "shell.execute_reply": "2025-08-05T20:41:07.096614Z"
    },
    "papermill": {
     "duration": 0.016472,
     "end_time": "2025-08-05T20:41:07.098729",
     "exception": false,
     "start_time": "2025-08-05T20:41:07.082257",
     "status": "completed"
    },
    "tags": []
   },
   "outputs": [],
   "source": [
    "import numpy as np\n",
    "from sklearn.pipeline import Pipeline\n",
    "from sklearn.preprocessing import StandardScaler\n",
    "\n",
    "model = Pipeline([\n",
    "    #(\"continuous_processor\", continuous_processor),\n",
    "    #(\"categorical_preprocessor\", categorical_preprocessor),\n",
    "    (\"scale\", StandardScaler() if universe[\"scale\"] == \"scale\" else None), \n",
    "    (\"model\", model),\n",
    "])"
   ]
  },
  {
   "cell_type": "code",
   "execution_count": 32,
   "id": "9442c04d",
   "metadata": {
    "execution": {
     "iopub.execute_input": "2025-08-05T20:41:07.119370Z",
     "iopub.status.busy": "2025-08-05T20:41:07.118890Z",
     "iopub.status.idle": "2025-08-05T20:41:07.548677Z",
     "shell.execute_reply": "2025-08-05T20:41:07.547824Z"
    },
    "papermill": {
     "duration": 0.441515,
     "end_time": "2025-08-05T20:41:07.550397",
     "exception": false,
     "start_time": "2025-08-05T20:41:07.108882",
     "status": "completed"
    },
    "tags": []
   },
   "outputs": [
    {
     "name": "stderr",
     "output_type": "stream",
     "text": [
      "/dss/dsshome1/0C/ra93lal2/.local/share/virtualenvs/CMA_Fairness_v2-3j10GkSs/lib/python3.10/site-packages/sklearn/linear_model/_logistic.py:444: ConvergenceWarning: lbfgs failed to converge (status=1):\n",
      "STOP: TOTAL NO. of ITERATIONS REACHED LIMIT.\n",
      "\n",
      "Increase the number of iterations (max_iter) or scale the data as shown in:\n",
      "    https://scikit-learn.org/stable/modules/preprocessing.html\n",
      "Please also refer to the documentation for alternative solver options:\n",
      "    https://scikit-learn.org/stable/modules/linear_model.html#logistic-regression\n",
      "  n_iter_i = _check_optimize_result(\n"
     ]
    },
    {
     "data": {
      "text/html": [
       "<style>#sk-container-id-1 {color: black;background-color: white;}#sk-container-id-1 pre{padding: 0;}#sk-container-id-1 div.sk-toggleable {background-color: white;}#sk-container-id-1 label.sk-toggleable__label {cursor: pointer;display: block;width: 100%;margin-bottom: 0;padding: 0.3em;box-sizing: border-box;text-align: center;}#sk-container-id-1 label.sk-toggleable__label-arrow:before {content: \"▸\";float: left;margin-right: 0.25em;color: #696969;}#sk-container-id-1 label.sk-toggleable__label-arrow:hover:before {color: black;}#sk-container-id-1 div.sk-estimator:hover label.sk-toggleable__label-arrow:before {color: black;}#sk-container-id-1 div.sk-toggleable__content {max-height: 0;max-width: 0;overflow: hidden;text-align: left;background-color: #f0f8ff;}#sk-container-id-1 div.sk-toggleable__content pre {margin: 0.2em;color: black;border-radius: 0.25em;background-color: #f0f8ff;}#sk-container-id-1 input.sk-toggleable__control:checked~div.sk-toggleable__content {max-height: 200px;max-width: 100%;overflow: auto;}#sk-container-id-1 input.sk-toggleable__control:checked~label.sk-toggleable__label-arrow:before {content: \"▾\";}#sk-container-id-1 div.sk-estimator input.sk-toggleable__control:checked~label.sk-toggleable__label {background-color: #d4ebff;}#sk-container-id-1 div.sk-label input.sk-toggleable__control:checked~label.sk-toggleable__label {background-color: #d4ebff;}#sk-container-id-1 input.sk-hidden--visually {border: 0;clip: rect(1px 1px 1px 1px);clip: rect(1px, 1px, 1px, 1px);height: 1px;margin: -1px;overflow: hidden;padding: 0;position: absolute;width: 1px;}#sk-container-id-1 div.sk-estimator {font-family: monospace;background-color: #f0f8ff;border: 1px dotted black;border-radius: 0.25em;box-sizing: border-box;margin-bottom: 0.5em;}#sk-container-id-1 div.sk-estimator:hover {background-color: #d4ebff;}#sk-container-id-1 div.sk-parallel-item::after {content: \"\";width: 100%;border-bottom: 1px solid gray;flex-grow: 1;}#sk-container-id-1 div.sk-label:hover label.sk-toggleable__label {background-color: #d4ebff;}#sk-container-id-1 div.sk-serial::before {content: \"\";position: absolute;border-left: 1px solid gray;box-sizing: border-box;top: 0;bottom: 0;left: 50%;z-index: 0;}#sk-container-id-1 div.sk-serial {display: flex;flex-direction: column;align-items: center;background-color: white;padding-right: 0.2em;padding-left: 0.2em;position: relative;}#sk-container-id-1 div.sk-item {position: relative;z-index: 1;}#sk-container-id-1 div.sk-parallel {display: flex;align-items: stretch;justify-content: center;background-color: white;position: relative;}#sk-container-id-1 div.sk-item::before, #sk-container-id-1 div.sk-parallel-item::before {content: \"\";position: absolute;border-left: 1px solid gray;box-sizing: border-box;top: 0;bottom: 0;left: 50%;z-index: -1;}#sk-container-id-1 div.sk-parallel-item {display: flex;flex-direction: column;z-index: 1;position: relative;background-color: white;}#sk-container-id-1 div.sk-parallel-item:first-child::after {align-self: flex-end;width: 50%;}#sk-container-id-1 div.sk-parallel-item:last-child::after {align-self: flex-start;width: 50%;}#sk-container-id-1 div.sk-parallel-item:only-child::after {width: 0;}#sk-container-id-1 div.sk-dashed-wrapped {border: 1px dashed gray;margin: 0 0.4em 0.5em 0.4em;box-sizing: border-box;padding-bottom: 0.4em;background-color: white;}#sk-container-id-1 div.sk-label label {font-family: monospace;font-weight: bold;display: inline-block;line-height: 1.2em;}#sk-container-id-1 div.sk-label-container {text-align: center;}#sk-container-id-1 div.sk-container {/* jupyter's `normalize.less` sets `[hidden] { display: none; }` but bootstrap.min.css set `[hidden] { display: none !important; }` so we also need the `!important` here to be able to override the default hidden behavior on the sphinx rendered scikit-learn.org. See: https://github.com/scikit-learn/scikit-learn/issues/21755 */display: inline-block !important;position: relative;}#sk-container-id-1 div.sk-text-repr-fallback {display: none;}</style><div id=\"sk-container-id-1\" class=\"sk-top-container\"><div class=\"sk-text-repr-fallback\"><pre>Pipeline(steps=[(&#x27;scale&#x27;, None), (&#x27;model&#x27;, LogisticRegression())])</pre><b>In a Jupyter environment, please rerun this cell to show the HTML representation or trust the notebook. <br />On GitHub, the HTML representation is unable to render, please try loading this page with nbviewer.org.</b></div><div class=\"sk-container\" hidden><div class=\"sk-item sk-dashed-wrapped\"><div class=\"sk-label-container\"><div class=\"sk-label sk-toggleable\"><input class=\"sk-toggleable__control sk-hidden--visually\" id=\"sk-estimator-id-1\" type=\"checkbox\" ><label for=\"sk-estimator-id-1\" class=\"sk-toggleable__label sk-toggleable__label-arrow\">Pipeline</label><div class=\"sk-toggleable__content\"><pre>Pipeline(steps=[(&#x27;scale&#x27;, None), (&#x27;model&#x27;, LogisticRegression())])</pre></div></div></div><div class=\"sk-serial\"><div class=\"sk-item\"><div class=\"sk-estimator sk-toggleable\"><input class=\"sk-toggleable__control sk-hidden--visually\" id=\"sk-estimator-id-2\" type=\"checkbox\" ><label for=\"sk-estimator-id-2\" class=\"sk-toggleable__label sk-toggleable__label-arrow\">None</label><div class=\"sk-toggleable__content\"><pre>None</pre></div></div></div><div class=\"sk-item\"><div class=\"sk-estimator sk-toggleable\"><input class=\"sk-toggleable__control sk-hidden--visually\" id=\"sk-estimator-id-3\" type=\"checkbox\" ><label for=\"sk-estimator-id-3\" class=\"sk-toggleable__label sk-toggleable__label-arrow\">LogisticRegression</label><div class=\"sk-toggleable__content\"><pre>LogisticRegression()</pre></div></div></div></div></div></div></div>"
      ],
      "text/plain": [
       "Pipeline(steps=[('scale', None), ('model', LogisticRegression())])"
      ]
     },
     "execution_count": 32,
     "metadata": {},
     "output_type": "execute_result"
    }
   ],
   "source": [
    "model.fit(X_train, y_train.values.ravel())"
   ]
  },
  {
   "cell_type": "code",
   "execution_count": 33,
   "id": "af59f8c0",
   "metadata": {
    "execution": {
     "iopub.execute_input": "2025-08-05T20:41:07.571129Z",
     "iopub.status.busy": "2025-08-05T20:41:07.570839Z",
     "iopub.status.idle": "2025-08-05T20:41:07.575310Z",
     "shell.execute_reply": "2025-08-05T20:41:07.574559Z"
    },
    "papermill": {
     "duration": 0.016232,
     "end_time": "2025-08-05T20:41:07.576660",
     "exception": false,
     "start_time": "2025-08-05T20:41:07.560428",
     "status": "completed"
    },
    "tags": []
   },
   "outputs": [],
   "source": [
    "from fairness_multiverse.universe import predict_w_threshold"
   ]
  },
  {
   "cell_type": "code",
   "execution_count": 34,
   "id": "a7cf2e16",
   "metadata": {
    "execution": {
     "iopub.execute_input": "2025-08-05T20:41:07.598806Z",
     "iopub.status.busy": "2025-08-05T20:41:07.598165Z",
     "iopub.status.idle": "2025-08-05T20:41:07.679354Z",
     "shell.execute_reply": "2025-08-05T20:41:07.678506Z"
    },
    "papermill": {
     "duration": 0.092968,
     "end_time": "2025-08-05T20:41:07.680710",
     "exception": false,
     "start_time": "2025-08-05T20:41:07.587742",
     "status": "completed"
    },
    "tags": []
   },
   "outputs": [
    {
     "data": {
      "text/plain": [
       "0.8634377438412663"
      ]
     },
     "execution_count": 34,
     "metadata": {},
     "output_type": "execute_result"
    }
   ],
   "source": [
    "probs_test = model.predict_proba(X_test)\n",
    "\n",
    "'''\n",
    "Below code returns a boolean array (or binary 0/1 array depending on how it’s used) where each element \n",
    "is True if the probability of class 1 is greater than or equal to the threshold, and False otherwise.\n",
    "'''\n",
    "y_pred_default = predict_w_threshold(probs_test, 0.5)\n",
    "\n",
    "from sklearn.metrics import accuracy_score\n",
    "\n",
    "# Naive prediction\n",
    "accuracy_score(y_true = y_true, y_pred = y_pred_default)"
   ]
  },
  {
   "cell_type": "code",
   "execution_count": 35,
   "id": "081964c3",
   "metadata": {
    "execution": {
     "iopub.execute_input": "2025-08-05T20:41:07.701632Z",
     "iopub.status.busy": "2025-08-05T20:41:07.701310Z",
     "iopub.status.idle": "2025-08-05T20:41:07.775553Z",
     "shell.execute_reply": "2025-08-05T20:41:07.774697Z"
    },
    "papermill": {
     "duration": 0.085899,
     "end_time": "2025-08-05T20:41:07.776889",
     "exception": false,
     "start_time": "2025-08-05T20:41:07.690990",
     "status": "completed"
    },
    "tags": []
   },
   "outputs": [
    {
     "data": {
      "text/plain": [
       "array([0, 0, 0, ..., 0, 0, 0])"
      ]
     },
     "execution_count": 35,
     "metadata": {},
     "output_type": "execute_result"
    }
   ],
   "source": [
    "model.predict(X_test)"
   ]
  },
  {
   "cell_type": "markdown",
   "id": "56c9705b",
   "metadata": {
    "papermill": {
     "duration": 0.009871,
     "end_time": "2025-08-05T20:41:07.797209",
     "exception": false,
     "start_time": "2025-08-05T20:41:07.787338",
     "status": "completed"
    },
    "tags": []
   },
   "source": [
    "# Conformal Prediction"
   ]
  },
  {
   "cell_type": "code",
   "execution_count": 36,
   "id": "160ec6ff",
   "metadata": {
    "execution": {
     "iopub.execute_input": "2025-08-05T20:41:07.818433Z",
     "iopub.status.busy": "2025-08-05T20:41:07.817772Z",
     "iopub.status.idle": "2025-08-05T20:41:07.822358Z",
     "shell.execute_reply": "2025-08-05T20:41:07.821583Z"
    },
    "papermill": {
     "duration": 0.016666,
     "end_time": "2025-08-05T20:41:07.823701",
     "exception": false,
     "start_time": "2025-08-05T20:41:07.807035",
     "status": "completed"
    },
    "tags": []
   },
   "outputs": [],
   "source": [
    "# Miscoverage level for conformal prediction (10% allowed error rate => 90% target coverage)\n",
    "alpha = 0.1"
   ]
  },
  {
   "cell_type": "code",
   "execution_count": 37,
   "id": "eadf4555-3dd3-440e-8e35-f82a4ad9f855",
   "metadata": {
    "execution": {
     "iopub.execute_input": "2025-08-05T20:41:07.845592Z",
     "iopub.status.busy": "2025-08-05T20:41:07.845000Z",
     "iopub.status.idle": "2025-08-05T20:41:07.916752Z",
     "shell.execute_reply": "2025-08-05T20:41:07.915991Z"
    },
    "papermill": {
     "duration": 0.083849,
     "end_time": "2025-08-05T20:41:07.918213",
     "exception": false,
     "start_time": "2025-08-05T20:41:07.834364",
     "status": "completed"
    },
    "tags": []
   },
   "outputs": [],
   "source": [
    "probs_calib = model.predict_proba(X_calib)"
   ]
  },
  {
   "cell_type": "code",
   "execution_count": 38,
   "id": "2ed93547-6d5d-4983-9b36-1ecb300da49a",
   "metadata": {
    "execution": {
     "iopub.execute_input": "2025-08-05T20:41:07.939772Z",
     "iopub.status.busy": "2025-08-05T20:41:07.939470Z",
     "iopub.status.idle": "2025-08-05T20:41:07.944200Z",
     "shell.execute_reply": "2025-08-05T20:41:07.943410Z"
    },
    "papermill": {
     "duration": 0.01689,
     "end_time": "2025-08-05T20:41:07.945605",
     "exception": false,
     "start_time": "2025-08-05T20:41:07.928715",
     "status": "completed"
    },
    "tags": []
   },
   "outputs": [],
   "source": [
    "y_calib = y_calib.values.ravel().astype(int)"
   ]
  },
  {
   "cell_type": "code",
   "execution_count": 39,
   "id": "65d1320d-f588-4b38-9072-62af1ae97f7d",
   "metadata": {
    "execution": {
     "iopub.execute_input": "2025-08-05T20:41:07.968380Z",
     "iopub.status.busy": "2025-08-05T20:41:07.967623Z",
     "iopub.status.idle": "2025-08-05T20:41:07.973802Z",
     "shell.execute_reply": "2025-08-05T20:41:07.972971Z"
    },
    "papermill": {
     "duration": 0.018517,
     "end_time": "2025-08-05T20:41:07.975217",
     "exception": false,
     "start_time": "2025-08-05T20:41:07.956700",
     "status": "completed"
    },
    "tags": []
   },
   "outputs": [],
   "source": [
    "from fairness_multiverse.conformal import compute_nc_scores\n",
    "\n",
    "# Compute nonconformity scores on calibration set (1 - probability of true class)\n",
    "nc_scores = compute_nc_scores(probs_calib, y_calib)"
   ]
  },
  {
   "cell_type": "code",
   "execution_count": 40,
   "id": "df3b8ca3-53b7-43d5-9667-7c85da7aeda2",
   "metadata": {
    "execution": {
     "iopub.execute_input": "2025-08-05T20:41:07.998439Z",
     "iopub.status.busy": "2025-08-05T20:41:07.997736Z",
     "iopub.status.idle": "2025-08-05T20:41:08.003472Z",
     "shell.execute_reply": "2025-08-05T20:41:08.002726Z"
    },
    "papermill": {
     "duration": 0.018454,
     "end_time": "2025-08-05T20:41:08.004958",
     "exception": false,
     "start_time": "2025-08-05T20:41:07.986504",
     "status": "completed"
    },
    "tags": []
   },
   "outputs": [],
   "source": [
    "from fairness_multiverse.conformal import find_threshold\n",
    "\n",
    "# Find conformal threshold q_hat for the given alpha (split conformal method)\n",
    "q_hat = find_threshold(nc_scores, alpha)"
   ]
  },
  {
   "cell_type": "code",
   "execution_count": 41,
   "id": "4d29e6c1-0ef6-4aa4-b8fe-4fe79b0d033a",
   "metadata": {
    "execution": {
     "iopub.execute_input": "2025-08-05T20:41:08.026977Z",
     "iopub.status.busy": "2025-08-05T20:41:08.026227Z",
     "iopub.status.idle": "2025-08-05T20:41:08.032192Z",
     "shell.execute_reply": "2025-08-05T20:41:08.031464Z"
    },
    "papermill": {
     "duration": 0.017909,
     "end_time": "2025-08-05T20:41:08.033507",
     "exception": false,
     "start_time": "2025-08-05T20:41:08.015598",
     "status": "completed"
    },
    "tags": []
   },
   "outputs": [
    {
     "data": {
      "text/plain": [
       "0.6782422413743783"
      ]
     },
     "execution_count": 41,
     "metadata": {},
     "output_type": "execute_result"
    }
   ],
   "source": [
    "q_hat"
   ]
  },
  {
   "cell_type": "code",
   "execution_count": 42,
   "id": "92460794-cdac-4be2-ba28-f28c0515a6fb",
   "metadata": {
    "execution": {
     "iopub.execute_input": "2025-08-05T20:41:08.055219Z",
     "iopub.status.busy": "2025-08-05T20:41:08.054733Z",
     "iopub.status.idle": "2025-08-05T20:41:08.501592Z",
     "shell.execute_reply": "2025-08-05T20:41:08.500819Z"
    },
    "papermill": {
     "duration": 0.458924,
     "end_time": "2025-08-05T20:41:08.503088",
     "exception": false,
     "start_time": "2025-08-05T20:41:08.044164",
     "status": "completed"
    },
    "tags": []
   },
   "outputs": [],
   "source": [
    "from fairness_multiverse.conformal import predict_conformal_sets\n",
    "\n",
    "# Generate prediction sets for each test example\n",
    "pred_sets = predict_conformal_sets(model, X_test, q_hat)"
   ]
  },
  {
   "cell_type": "code",
   "execution_count": 43,
   "id": "d90c9a65-e6db-4f5d-80cd-e68fb7e46829",
   "metadata": {
    "execution": {
     "iopub.execute_input": "2025-08-05T20:41:08.525179Z",
     "iopub.status.busy": "2025-08-05T20:41:08.524827Z",
     "iopub.status.idle": "2025-08-05T20:41:08.529449Z",
     "shell.execute_reply": "2025-08-05T20:41:08.528636Z"
    },
    "papermill": {
     "duration": 0.016977,
     "end_time": "2025-08-05T20:41:08.530762",
     "exception": false,
     "start_time": "2025-08-05T20:41:08.513785",
     "status": "completed"
    },
    "tags": []
   },
   "outputs": [],
   "source": [
    "y_true = y_true.squeeze()"
   ]
  },
  {
   "cell_type": "code",
   "execution_count": 44,
   "id": "3a58a54a-1e68-46b9-927a-df01f18aebc8",
   "metadata": {
    "execution": {
     "iopub.execute_input": "2025-08-05T20:41:08.553716Z",
     "iopub.status.busy": "2025-08-05T20:41:08.553050Z",
     "iopub.status.idle": "2025-08-05T20:41:09.070382Z",
     "shell.execute_reply": "2025-08-05T20:41:09.069614Z"
    },
    "papermill": {
     "duration": 0.529748,
     "end_time": "2025-08-05T20:41:09.071779",
     "exception": false,
     "start_time": "2025-08-05T20:41:08.542031",
     "status": "completed"
    },
    "tags": []
   },
   "outputs": [],
   "source": [
    "from fairness_multiverse.conformal import evaluate_sets\n",
    "\n",
    "# Evaluate coverage and average set size on test data\n",
    "metrics = evaluate_sets(pred_sets, y_true)"
   ]
  },
  {
   "cell_type": "markdown",
   "id": "2b569c12-9aaa-4c88-98c9-bbcd0cf3ebb8",
   "metadata": {
    "papermill": {
     "duration": 0.010084,
     "end_time": "2025-08-05T20:41:09.092830",
     "exception": false,
     "start_time": "2025-08-05T20:41:09.082746",
     "status": "completed"
    },
    "tags": []
   },
   "source": [
    "# CP Metrics"
   ]
  },
  {
   "cell_type": "code",
   "execution_count": 45,
   "id": "5ce0a5cb-201f-45a0-ade5-94c7f0bd6095",
   "metadata": {
    "execution": {
     "iopub.execute_input": "2025-08-05T20:41:09.117997Z",
     "iopub.status.busy": "2025-08-05T20:41:09.116823Z",
     "iopub.status.idle": "2025-08-05T20:41:09.126969Z",
     "shell.execute_reply": "2025-08-05T20:41:09.126091Z"
    },
    "papermill": {
     "duration": 0.025565,
     "end_time": "2025-08-05T20:41:09.128568",
     "exception": false,
     "start_time": "2025-08-05T20:41:09.103003",
     "status": "completed"
    },
    "tags": []
   },
   "outputs": [
    {
     "data": {
      "text/plain": [
       "{'coverage': 0.9119050273102218, 'avg_size': 1.199788206442983}"
      ]
     },
     "execution_count": 45,
     "metadata": {},
     "output_type": "execute_result"
    }
   ],
   "source": [
    "metrics"
   ]
  },
  {
   "cell_type": "code",
   "execution_count": 46,
   "id": "9b9a838d-31c9-430b-ae14-12baee460d17",
   "metadata": {
    "execution": {
     "iopub.execute_input": "2025-08-05T20:41:09.154087Z",
     "iopub.status.busy": "2025-08-05T20:41:09.153246Z",
     "iopub.status.idle": "2025-08-05T20:41:09.158619Z",
     "shell.execute_reply": "2025-08-05T20:41:09.157801Z"
    },
    "papermill": {
     "duration": 0.017911,
     "end_time": "2025-08-05T20:41:09.159985",
     "exception": false,
     "start_time": "2025-08-05T20:41:09.142074",
     "status": "completed"
    },
    "tags": []
   },
   "outputs": [],
   "source": [
    "example_universe = universe.copy()\n",
    "universe_training_year = example_universe.get(\"training_year\")\n",
    "universe_training_size = example_universe.get(\"training_size\")\n",
    "universe_scale = example_universe.get(\"scale\")\n",
    "universe_model = example_universe.get(\"model\")\n",
    "universe_exclude_features = example_universe.get(\"exclude_features\")\n",
    "universe_exclude_subgroups = example_universe.get(\"exclude_subgroups\")"
   ]
  },
  {
   "cell_type": "code",
   "execution_count": 47,
   "id": "f4b6a8ac-9dc0-4245-8a91-5b3b5999c4f9",
   "metadata": {
    "execution": {
     "iopub.execute_input": "2025-08-05T20:41:09.183721Z",
     "iopub.status.busy": "2025-08-05T20:41:09.183187Z",
     "iopub.status.idle": "2025-08-05T20:41:09.189838Z",
     "shell.execute_reply": "2025-08-05T20:41:09.188324Z"
    },
    "papermill": {
     "duration": 0.020149,
     "end_time": "2025-08-05T20:41:09.191998",
     "exception": false,
     "start_time": "2025-08-05T20:41:09.171849",
     "status": "completed"
    },
    "tags": []
   },
   "outputs": [],
   "source": [
    "cp_metrics_dict = {\n",
    "    \"universe_id\": [universe_id],\n",
    "    \"universe_training_year\": [universe_training_year],\n",
    "    \"universe_training_size\": [universe_training_size],\n",
    "    \"universe_scale\": [universe_scale],\n",
    "    \"universe_model\": [universe_model],\n",
    "    \"universe_exclude_features\": [universe_exclude_features],\n",
    "    \"universe_exclude_subgroups\": [universe_exclude_subgroups],\n",
    "    \"q_hat\": [q_hat],\n",
    "    \"coverage\": [metrics[\"coverage\"]],\n",
    "    \"avg_size\": [metrics[\"avg_size\"]],\n",
    "}"
   ]
  },
  {
   "cell_type": "code",
   "execution_count": 48,
   "id": "908acbb1-0371-4915-85ca-3fa520d2efe2",
   "metadata": {
    "execution": {
     "iopub.execute_input": "2025-08-05T20:41:09.232913Z",
     "iopub.status.busy": "2025-08-05T20:41:09.232436Z",
     "iopub.status.idle": "2025-08-05T20:41:09.240091Z",
     "shell.execute_reply": "2025-08-05T20:41:09.239137Z"
    },
    "papermill": {
     "duration": 0.02915,
     "end_time": "2025-08-05T20:41:09.241500",
     "exception": false,
     "start_time": "2025-08-05T20:41:09.212350",
     "status": "completed"
    },
    "tags": []
   },
   "outputs": [
    {
     "data": {
      "text/plain": [
       "{'universe_id': ['9b779ef78421d2b9158e4e8819a5d71a'],\n",
       " 'universe_training_year': ['2014'],\n",
       " 'universe_training_size': ['25k'],\n",
       " 'universe_scale': ['do-not-scale'],\n",
       " 'universe_model': ['logreg'],\n",
       " 'universe_exclude_features': ['nationality'],\n",
       " 'universe_exclude_subgroups': ['keep-all'],\n",
       " 'q_hat': [0.6782422413743783],\n",
       " 'coverage': [0.9119050273102218],\n",
       " 'avg_size': [1.199788206442983]}"
      ]
     },
     "execution_count": 48,
     "metadata": {},
     "output_type": "execute_result"
    }
   ],
   "source": [
    "cp_metrics_dict"
   ]
  },
  {
   "cell_type": "code",
   "execution_count": 49,
   "id": "33007efc-14e9-4ec6-97ac-56a455c82265",
   "metadata": {
    "execution": {
     "iopub.execute_input": "2025-08-05T20:41:09.283673Z",
     "iopub.status.busy": "2025-08-05T20:41:09.282982Z",
     "iopub.status.idle": "2025-08-05T20:41:09.289636Z",
     "shell.execute_reply": "2025-08-05T20:41:09.288594Z"
    },
    "papermill": {
     "duration": 0.029572,
     "end_time": "2025-08-05T20:41:09.291504",
     "exception": false,
     "start_time": "2025-08-05T20:41:09.261932",
     "status": "completed"
    },
    "tags": []
   },
   "outputs": [],
   "source": [
    "cp_metrics_df = pd.DataFrame(cp_metrics_dict)"
   ]
  },
  {
   "cell_type": "code",
   "execution_count": 50,
   "id": "db12611b-57b2-4910-b9d0-355adfd6e7bf",
   "metadata": {
    "execution": {
     "iopub.execute_input": "2025-08-05T20:41:09.333336Z",
     "iopub.status.busy": "2025-08-05T20:41:09.332664Z",
     "iopub.status.idle": "2025-08-05T20:41:09.351097Z",
     "shell.execute_reply": "2025-08-05T20:41:09.350244Z"
    },
    "papermill": {
     "duration": 0.040597,
     "end_time": "2025-08-05T20:41:09.352605",
     "exception": false,
     "start_time": "2025-08-05T20:41:09.312008",
     "status": "completed"
    },
    "tags": []
   },
   "outputs": [
    {
     "data": {
      "text/html": [
       "<div>\n",
       "<style scoped>\n",
       "    .dataframe tbody tr th:only-of-type {\n",
       "        vertical-align: middle;\n",
       "    }\n",
       "\n",
       "    .dataframe tbody tr th {\n",
       "        vertical-align: top;\n",
       "    }\n",
       "\n",
       "    .dataframe thead th {\n",
       "        text-align: right;\n",
       "    }\n",
       "</style>\n",
       "<table border=\"1\" class=\"dataframe\">\n",
       "  <thead>\n",
       "    <tr style=\"text-align: right;\">\n",
       "      <th></th>\n",
       "      <th>universe_id</th>\n",
       "      <th>universe_training_year</th>\n",
       "      <th>universe_training_size</th>\n",
       "      <th>universe_scale</th>\n",
       "      <th>universe_model</th>\n",
       "      <th>universe_exclude_features</th>\n",
       "      <th>universe_exclude_subgroups</th>\n",
       "      <th>q_hat</th>\n",
       "      <th>coverage</th>\n",
       "      <th>avg_size</th>\n",
       "    </tr>\n",
       "  </thead>\n",
       "  <tbody>\n",
       "    <tr>\n",
       "      <th>0</th>\n",
       "      <td>9b779ef78421d2b9158e4e8819a5d71a</td>\n",
       "      <td>2014</td>\n",
       "      <td>25k</td>\n",
       "      <td>do-not-scale</td>\n",
       "      <td>logreg</td>\n",
       "      <td>nationality</td>\n",
       "      <td>keep-all</td>\n",
       "      <td>0.678242</td>\n",
       "      <td>0.911905</td>\n",
       "      <td>1.199788</td>\n",
       "    </tr>\n",
       "  </tbody>\n",
       "</table>\n",
       "</div>"
      ],
      "text/plain": [
       "                        universe_id universe_training_year  \\\n",
       "0  9b779ef78421d2b9158e4e8819a5d71a                   2014   \n",
       "\n",
       "  universe_training_size universe_scale universe_model  \\\n",
       "0                    25k   do-not-scale         logreg   \n",
       "\n",
       "  universe_exclude_features universe_exclude_subgroups     q_hat  coverage  \\\n",
       "0               nationality                   keep-all  0.678242  0.911905   \n",
       "\n",
       "   avg_size  \n",
       "0  1.199788  "
      ]
     },
     "execution_count": 50,
     "metadata": {},
     "output_type": "execute_result"
    }
   ],
   "source": [
    "cp_metrics_df"
   ]
  },
  {
   "cell_type": "code",
   "execution_count": 51,
   "id": "b7fbde55-a0a1-47e4-9af6-fe4a17fa8c61",
   "metadata": {
    "execution": {
     "iopub.execute_input": "2025-08-05T20:41:09.395292Z",
     "iopub.status.busy": "2025-08-05T20:41:09.394644Z",
     "iopub.status.idle": "2025-08-05T20:41:09.400771Z",
     "shell.execute_reply": "2025-08-05T20:41:09.399809Z"
    },
    "papermill": {
     "duration": 0.02967,
     "end_time": "2025-08-05T20:41:09.402690",
     "exception": false,
     "start_time": "2025-08-05T20:41:09.373020",
     "status": "completed"
    },
    "tags": []
   },
   "outputs": [],
   "source": [
    "# Conditional Coverage & looking at subgroups"
   ]
  },
  {
   "cell_type": "code",
   "execution_count": 52,
   "id": "027ae886-68dd-4141-96c7-805a5450e1ef",
   "metadata": {
    "execution": {
     "iopub.execute_input": "2025-08-05T20:41:09.444608Z",
     "iopub.status.busy": "2025-08-05T20:41:09.443933Z",
     "iopub.status.idle": "2025-08-05T20:41:09.700786Z",
     "shell.execute_reply": "2025-08-05T20:41:09.699886Z"
    },
    "papermill": {
     "duration": 0.279417,
     "end_time": "2025-08-05T20:41:09.702744",
     "exception": false,
     "start_time": "2025-08-05T20:41:09.423327",
     "status": "completed"
    },
    "tags": []
   },
   "outputs": [],
   "source": [
    "from fairness_multiverse.conformal import build_cp_groups\n",
    "\n",
    "cp_groups_df = build_cp_groups(pred_sets, y_true, X_test.index, org_test)\n",
    "#needs universe_id and setting"
   ]
  },
  {
   "cell_type": "code",
   "execution_count": 53,
   "id": "6cbdab96-b2b2-45af-ad54-d0516db2e28d",
   "metadata": {
    "execution": {
     "iopub.execute_input": "2025-08-05T20:41:09.747802Z",
     "iopub.status.busy": "2025-08-05T20:41:09.747139Z",
     "iopub.status.idle": "2025-08-05T20:41:11.571918Z",
     "shell.execute_reply": "2025-08-05T20:41:11.570949Z"
    },
    "papermill": {
     "duration": 1.848805,
     "end_time": "2025-08-05T20:41:11.573820",
     "exception": false,
     "start_time": "2025-08-05T20:41:09.725015",
     "status": "completed"
    },
    "tags": []
   },
   "outputs": [],
   "source": [
    "# Define covered = 1 if true_label is in the predicted set\n",
    "cp_groups_df['covered'] = cp_groups_df.apply(\n",
    "    lambda r: int(r['true_label'] in r['pred_set']),\n",
    "    axis=1\n",
    ")"
   ]
  },
  {
   "cell_type": "code",
   "execution_count": 54,
   "id": "338ff529-1a6b-4b87-a931-8e4788d52aad",
   "metadata": {
    "execution": {
     "iopub.execute_input": "2025-08-05T20:41:11.619963Z",
     "iopub.status.busy": "2025-08-05T20:41:11.619186Z",
     "iopub.status.idle": "2025-08-05T20:41:11.624584Z",
     "shell.execute_reply": "2025-08-05T20:41:11.623536Z"
    },
    "papermill": {
     "duration": 0.03043,
     "end_time": "2025-08-05T20:41:11.626287",
     "exception": false,
     "start_time": "2025-08-05T20:41:11.595857",
     "status": "completed"
    },
    "tags": []
   },
   "outputs": [],
   "source": [
    "#cp_groups_df"
   ]
  },
  {
   "cell_type": "code",
   "execution_count": 55,
   "id": "90032e27-66df-4540-9169-4e89cfbaa758",
   "metadata": {
    "execution": {
     "iopub.execute_input": "2025-08-05T20:41:11.672390Z",
     "iopub.status.busy": "2025-08-05T20:41:11.671630Z",
     "iopub.status.idle": "2025-08-05T20:41:11.682738Z",
     "shell.execute_reply": "2025-08-05T20:41:11.681774Z"
    },
    "papermill": {
     "duration": 0.035753,
     "end_time": "2025-08-05T20:41:11.684406",
     "exception": false,
     "start_time": "2025-08-05T20:41:11.648653",
     "status": "completed"
    },
    "tags": []
   },
   "outputs": [],
   "source": [
    "subgroups = ['frau1','nongerman','nongerman_male','nongerman_female']\n",
    "\n",
    "# Conditional coverage for subgroup==1\n",
    "cond_coverage = {\n",
    "    g: cp_groups_df.loc[cp_groups_df[g]==1, 'covered'].mean()\n",
    "    for g in subgroups\n",
    "}"
   ]
  },
  {
   "cell_type": "code",
   "execution_count": 56,
   "id": "1e348fb1-b9c3-45bc-ba23-f016827a7e0d",
   "metadata": {
    "execution": {
     "iopub.execute_input": "2025-08-05T20:41:11.789629Z",
     "iopub.status.busy": "2025-08-05T20:41:11.789085Z",
     "iopub.status.idle": "2025-08-05T20:41:11.796677Z",
     "shell.execute_reply": "2025-08-05T20:41:11.795718Z"
    },
    "papermill": {
     "duration": 0.032701,
     "end_time": "2025-08-05T20:41:11.798375",
     "exception": false,
     "start_time": "2025-08-05T20:41:11.765674",
     "status": "completed"
    },
    "tags": []
   },
   "outputs": [
    {
     "data": {
      "text/plain": [
       "{'frau1': 0.9105270252055533,\n",
       " 'nongerman': 0.9291528658844664,\n",
       " 'nongerman_male': 0.9428082500225164,\n",
       " 'nongerman_female': 0.9065573770491804}"
      ]
     },
     "execution_count": 56,
     "metadata": {},
     "output_type": "execute_result"
    }
   ],
   "source": [
    "cond_coverage"
   ]
  },
  {
   "cell_type": "code",
   "execution_count": 57,
   "id": "f5093324-c3dd-4d63-bc4c-8d945e5c8bbb",
   "metadata": {
    "execution": {
     "iopub.execute_input": "2025-08-05T20:41:11.844248Z",
     "iopub.status.busy": "2025-08-05T20:41:11.843679Z",
     "iopub.status.idle": "2025-08-05T20:41:11.850719Z",
     "shell.execute_reply": "2025-08-05T20:41:11.849561Z"
    },
    "papermill": {
     "duration": 0.032269,
     "end_time": "2025-08-05T20:41:11.852594",
     "exception": false,
     "start_time": "2025-08-05T20:41:11.820325",
     "status": "completed"
    },
    "tags": []
   },
   "outputs": [],
   "source": [
    "for subgroup, cov in cond_coverage.items():\n",
    "    cp_metrics_df[f\"cov_{subgroup}\"] = cov"
   ]
  },
  {
   "cell_type": "code",
   "execution_count": 58,
   "id": "6e872e10-dbe5-49e8-b554-5030c98ff75d",
   "metadata": {
    "execution": {
     "iopub.execute_input": "2025-08-05T20:41:11.896664Z",
     "iopub.status.busy": "2025-08-05T20:41:11.896255Z",
     "iopub.status.idle": "2025-08-05T20:41:11.916139Z",
     "shell.execute_reply": "2025-08-05T20:41:11.915042Z"
    },
    "papermill": {
     "duration": 0.043547,
     "end_time": "2025-08-05T20:41:11.917895",
     "exception": false,
     "start_time": "2025-08-05T20:41:11.874348",
     "status": "completed"
    },
    "tags": []
   },
   "outputs": [
    {
     "data": {
      "text/html": [
       "<div>\n",
       "<style scoped>\n",
       "    .dataframe tbody tr th:only-of-type {\n",
       "        vertical-align: middle;\n",
       "    }\n",
       "\n",
       "    .dataframe tbody tr th {\n",
       "        vertical-align: top;\n",
       "    }\n",
       "\n",
       "    .dataframe thead th {\n",
       "        text-align: right;\n",
       "    }\n",
       "</style>\n",
       "<table border=\"1\" class=\"dataframe\">\n",
       "  <thead>\n",
       "    <tr style=\"text-align: right;\">\n",
       "      <th></th>\n",
       "      <th>universe_id</th>\n",
       "      <th>universe_training_year</th>\n",
       "      <th>universe_training_size</th>\n",
       "      <th>universe_scale</th>\n",
       "      <th>universe_model</th>\n",
       "      <th>universe_exclude_features</th>\n",
       "      <th>universe_exclude_subgroups</th>\n",
       "      <th>q_hat</th>\n",
       "      <th>coverage</th>\n",
       "      <th>avg_size</th>\n",
       "      <th>cov_frau1</th>\n",
       "      <th>cov_nongerman</th>\n",
       "      <th>cov_nongerman_male</th>\n",
       "      <th>cov_nongerman_female</th>\n",
       "    </tr>\n",
       "  </thead>\n",
       "  <tbody>\n",
       "    <tr>\n",
       "      <th>0</th>\n",
       "      <td>9b779ef78421d2b9158e4e8819a5d71a</td>\n",
       "      <td>2014</td>\n",
       "      <td>25k</td>\n",
       "      <td>do-not-scale</td>\n",
       "      <td>logreg</td>\n",
       "      <td>nationality</td>\n",
       "      <td>keep-all</td>\n",
       "      <td>0.678242</td>\n",
       "      <td>0.911905</td>\n",
       "      <td>1.199788</td>\n",
       "      <td>0.910527</td>\n",
       "      <td>0.929153</td>\n",
       "      <td>0.942808</td>\n",
       "      <td>0.906557</td>\n",
       "    </tr>\n",
       "  </tbody>\n",
       "</table>\n",
       "</div>"
      ],
      "text/plain": [
       "                        universe_id universe_training_year  \\\n",
       "0  9b779ef78421d2b9158e4e8819a5d71a                   2014   \n",
       "\n",
       "  universe_training_size universe_scale universe_model  \\\n",
       "0                    25k   do-not-scale         logreg   \n",
       "\n",
       "  universe_exclude_features universe_exclude_subgroups     q_hat  coverage  \\\n",
       "0               nationality                   keep-all  0.678242  0.911905   \n",
       "\n",
       "   avg_size  cov_frau1  cov_nongerman  cov_nongerman_male  \\\n",
       "0  1.199788   0.910527       0.929153            0.942808   \n",
       "\n",
       "   cov_nongerman_female  \n",
       "0              0.906557  "
      ]
     },
     "execution_count": 58,
     "metadata": {},
     "output_type": "execute_result"
    }
   ],
   "source": [
    "cp_metrics_df"
   ]
  },
  {
   "cell_type": "markdown",
   "id": "33774451",
   "metadata": {
    "papermill": {
     "duration": 0.024206,
     "end_time": "2025-08-05T20:41:11.967142",
     "exception": false,
     "start_time": "2025-08-05T20:41:11.942936",
     "status": "completed"
    },
    "tags": []
   },
   "source": [
    "# (Fairness) Metrics"
   ]
  },
  {
   "cell_type": "code",
   "execution_count": 59,
   "id": "debc5d62",
   "metadata": {
    "execution": {
     "iopub.execute_input": "2025-08-05T20:41:12.016651Z",
     "iopub.status.busy": "2025-08-05T20:41:12.016193Z",
     "iopub.status.idle": "2025-08-05T20:41:12.037628Z",
     "shell.execute_reply": "2025-08-05T20:41:12.036701Z"
    },
    "papermill": {
     "duration": 0.048031,
     "end_time": "2025-08-05T20:41:12.039314",
     "exception": false,
     "start_time": "2025-08-05T20:41:11.991283",
     "status": "completed"
    },
    "tags": []
   },
   "outputs": [],
   "source": [
    "# do I need to include maxdeutsch1.missing?\n",
    "\n",
    "import numpy as np\n",
    "\n",
    "colname_to_bin = \"maxdeutsch1\"\n",
    "majority_value = org_train[colname_to_bin].mode()[0]\n",
    "\n",
    "org_test[\"majmin\"] = np.where(org_test[colname_to_bin] == majority_value, \"majority\", \"minority\")"
   ]
  },
  {
   "cell_type": "code",
   "execution_count": 60,
   "id": "06a50de5",
   "metadata": {
    "execution": {
     "iopub.execute_input": "2025-08-05T20:41:12.090433Z",
     "iopub.status.busy": "2025-08-05T20:41:12.090044Z",
     "iopub.status.idle": "2025-08-05T20:41:14.641808Z",
     "shell.execute_reply": "2025-08-05T20:41:14.640997Z"
    },
    "papermill": {
     "duration": 2.578474,
     "end_time": "2025-08-05T20:41:14.643550",
     "exception": false,
     "start_time": "2025-08-05T20:41:12.065076",
     "status": "completed"
    },
    "tags": []
   },
   "outputs": [],
   "source": [
    "example_universe = universe.copy()\n",
    "example_universe[\"cutoff\"] = example_universe[\"cutoff\"][0]\n",
    "example_universe[\"eval_fairness_grouping\"] = example_universe[\"eval_fairness_grouping\"][0]\n",
    "fairness_dict, metric_frame = universe_analysis.compute_metrics(\n",
    "    example_universe,\n",
    "    y_pred_prob=probs_test,\n",
    "    y_test=y_true,\n",
    "    org_test=org_test,\n",
    ")"
   ]
  },
  {
   "cell_type": "markdown",
   "id": "f95d4e02",
   "metadata": {
    "papermill": {
     "duration": 0.011061,
     "end_time": "2025-08-05T20:41:14.673660",
     "exception": false,
     "start_time": "2025-08-05T20:41:14.662599",
     "status": "completed"
    },
    "tags": []
   },
   "source": [
    "# Overall"
   ]
  },
  {
   "cell_type": "markdown",
   "id": "bdee4871",
   "metadata": {
    "papermill": {
     "duration": 0.01527,
     "end_time": "2025-08-05T20:41:14.700959",
     "exception": false,
     "start_time": "2025-08-05T20:41:14.685689",
     "status": "completed"
    },
    "tags": []
   },
   "source": [
    "Fairness\n",
    "Main fairness target: Equalized Odds. Seems to be a better fit than equal opportunity, since we're not only interested in Y = 1. Seems to be a better fit than demographic parity, since we also care about accuracy, not just equal distribution of preds.\n",
    "\n",
    "Pick column for computation of fairness metrics\n",
    "\n",
    "Performance\n",
    "Overall performance measures, most interesting in relation to the measures split by group below"
   ]
  },
  {
   "cell_type": "code",
   "execution_count": 61,
   "id": "c4e067c6",
   "metadata": {
    "execution": {
     "iopub.execute_input": "2025-08-05T20:41:14.725291Z",
     "iopub.status.busy": "2025-08-05T20:41:14.724632Z",
     "iopub.status.idle": "2025-08-05T20:41:14.733046Z",
     "shell.execute_reply": "2025-08-05T20:41:14.732154Z"
    },
    "papermill": {
     "duration": 0.022392,
     "end_time": "2025-08-05T20:41:14.734978",
     "exception": false,
     "start_time": "2025-08-05T20:41:14.712586",
     "status": "completed"
    },
    "tags": []
   },
   "outputs": [
    {
     "data": {
      "text/plain": [
       "accuracy                   0.217022\n",
       "balanced accuracy          0.532188\n",
       "f1                         0.238555\n",
       "precision                  0.136279\n",
       "false positive rate        0.891742\n",
       "false negative rate        0.043883\n",
       "selection rate             0.900000\n",
       "count                  89710.000000\n",
       "dtype: float64"
      ]
     },
     "execution_count": 61,
     "metadata": {},
     "output_type": "execute_result"
    }
   ],
   "source": [
    "metric_frame.overall"
   ]
  },
  {
   "cell_type": "markdown",
   "id": "e968fe9d",
   "metadata": {
    "papermill": {
     "duration": 0.012779,
     "end_time": "2025-08-05T20:41:14.760403",
     "exception": false,
     "start_time": "2025-08-05T20:41:14.747624",
     "status": "completed"
    },
    "tags": []
   },
   "source": [
    "By Group"
   ]
  },
  {
   "cell_type": "code",
   "execution_count": 62,
   "id": "ec325bce",
   "metadata": {
    "execution": {
     "iopub.execute_input": "2025-08-05T20:41:14.788630Z",
     "iopub.status.busy": "2025-08-05T20:41:14.788230Z",
     "iopub.status.idle": "2025-08-05T20:41:14.800271Z",
     "shell.execute_reply": "2025-08-05T20:41:14.799498Z"
    },
    "papermill": {
     "duration": 0.029749,
     "end_time": "2025-08-05T20:41:14.801750",
     "exception": false,
     "start_time": "2025-08-05T20:41:14.772001",
     "status": "completed"
    },
    "tags": []
   },
   "outputs": [
    {
     "data": {
      "text/html": [
       "<div>\n",
       "<style scoped>\n",
       "    .dataframe tbody tr th:only-of-type {\n",
       "        vertical-align: middle;\n",
       "    }\n",
       "\n",
       "    .dataframe tbody tr th {\n",
       "        vertical-align: top;\n",
       "    }\n",
       "\n",
       "    .dataframe thead th {\n",
       "        text-align: right;\n",
       "    }\n",
       "</style>\n",
       "<table border=\"1\" class=\"dataframe\">\n",
       "  <thead>\n",
       "    <tr style=\"text-align: right;\">\n",
       "      <th></th>\n",
       "      <th>accuracy</th>\n",
       "      <th>balanced accuracy</th>\n",
       "      <th>f1</th>\n",
       "      <th>precision</th>\n",
       "      <th>false positive rate</th>\n",
       "      <th>false negative rate</th>\n",
       "      <th>selection rate</th>\n",
       "      <th>count</th>\n",
       "    </tr>\n",
       "    <tr>\n",
       "      <th>majmin</th>\n",
       "      <th></th>\n",
       "      <th></th>\n",
       "      <th></th>\n",
       "      <th></th>\n",
       "      <th></th>\n",
       "      <th></th>\n",
       "      <th></th>\n",
       "      <th></th>\n",
       "    </tr>\n",
       "  </thead>\n",
       "  <tbody>\n",
       "    <tr>\n",
       "      <th>majority</th>\n",
       "      <td>0.238875</td>\n",
       "      <td>0.539605</td>\n",
       "      <td>0.247717</td>\n",
       "      <td>0.142465</td>\n",
       "      <td>0.869149</td>\n",
       "      <td>0.051641</td>\n",
       "      <td>0.879615</td>\n",
       "      <td>69170.0</td>\n",
       "    </tr>\n",
       "    <tr>\n",
       "      <th>minority</th>\n",
       "      <td>0.143427</td>\n",
       "      <td>0.509844</td>\n",
       "      <td>0.209756</td>\n",
       "      <td>0.117360</td>\n",
       "      <td>0.966377</td>\n",
       "      <td>0.013936</td>\n",
       "      <td>0.968647</td>\n",
       "      <td>20540.0</td>\n",
       "    </tr>\n",
       "  </tbody>\n",
       "</table>\n",
       "</div>"
      ],
      "text/plain": [
       "          accuracy  balanced accuracy        f1  precision  \\\n",
       "majmin                                                       \n",
       "majority  0.238875           0.539605  0.247717   0.142465   \n",
       "minority  0.143427           0.509844  0.209756   0.117360   \n",
       "\n",
       "          false positive rate  false negative rate  selection rate    count  \n",
       "majmin                                                                       \n",
       "majority             0.869149             0.051641        0.879615  69170.0  \n",
       "minority             0.966377             0.013936        0.968647  20540.0  "
      ]
     },
     "execution_count": 62,
     "metadata": {},
     "output_type": "execute_result"
    }
   ],
   "source": [
    "metric_frame.by_group"
   ]
  },
  {
   "cell_type": "code",
   "execution_count": 63,
   "id": "a9ddbe63",
   "metadata": {
    "execution": {
     "iopub.execute_input": "2025-08-05T20:41:14.832514Z",
     "iopub.status.busy": "2025-08-05T20:41:14.831846Z",
     "iopub.status.idle": "2025-08-05T20:41:17.379361Z",
     "shell.execute_reply": "2025-08-05T20:41:17.378408Z"
    },
    "papermill": {
     "duration": 2.567006,
     "end_time": "2025-08-05T20:41:17.381009",
     "exception": false,
     "start_time": "2025-08-05T20:41:14.814003",
     "status": "completed"
    },
    "tags": []
   },
   "outputs": [
    {
     "data": {
      "text/plain": [
       "array([[<Axes: title={'center': 'accuracy'}, xlabel='majmin'>,\n",
       "        <Axes: title={'center': 'balanced accuracy'}, xlabel='majmin'>,\n",
       "        <Axes: title={'center': 'f1'}, xlabel='majmin'>],\n",
       "       [<Axes: title={'center': 'precision'}, xlabel='majmin'>,\n",
       "        <Axes: title={'center': 'false positive rate'}, xlabel='majmin'>,\n",
       "        <Axes: title={'center': 'false negative rate'}, xlabel='majmin'>],\n",
       "       [<Axes: title={'center': 'selection rate'}, xlabel='majmin'>,\n",
       "        <Axes: title={'center': 'count'}, xlabel='majmin'>,\n",
       "        <Axes: xlabel='majmin'>]], dtype=object)"
      ]
     },
     "execution_count": 63,
     "metadata": {},
     "output_type": "execute_result"
    },
    {
     "data": {
      "image/png": "[encoded data removed]",
      "text/plain": [
       "<Figure size 1200x800 with 9 Axes>"
      ]
     },
     "metadata": {},
     "output_type": "display_data"
    }
   ],
   "source": [
    "# In a graphic\n",
    "metric_frame.by_group.plot.bar(\n",
    "    subplots=True,\n",
    "    layout=[3, 3],\n",
    "    legend=False,\n",
    "    figsize=[12, 8],\n",
    "    title=\"Show all metrics\",\n",
    ")"
   ]
  },
  {
   "cell_type": "markdown",
   "id": "f57a0bac",
   "metadata": {
    "papermill": {
     "duration": 0.024069,
     "end_time": "2025-08-05T20:41:17.430143",
     "exception": false,
     "start_time": "2025-08-05T20:41:17.406074",
     "status": "completed"
    },
    "tags": []
   },
   "source": [
    "# Final Output"
   ]
  },
  {
   "cell_type": "code",
   "execution_count": 64,
   "id": "96d280a3",
   "metadata": {
    "execution": {
     "iopub.execute_input": "2025-08-05T20:41:17.483405Z",
     "iopub.status.busy": "2025-08-05T20:41:17.482386Z",
     "iopub.status.idle": "2025-08-05T20:41:17.491090Z",
     "shell.execute_reply": "2025-08-05T20:41:17.490174Z"
    },
    "papermill": {
     "duration": 0.037355,
     "end_time": "2025-08-05T20:41:17.492674",
     "exception": false,
     "start_time": "2025-08-05T20:41:17.455319",
     "status": "completed"
    },
    "tags": []
   },
   "outputs": [
    {
     "data": {
      "text/plain": [
       "4"
      ]
     },
     "execution_count": 64,
     "metadata": {},
     "output_type": "execute_result"
    }
   ],
   "source": [
    "sub_universes = universe_analysis.generate_sub_universes()\n",
    "len(sub_universes)"
   ]
  },
  {
   "cell_type": "code",
   "execution_count": 65,
   "id": "92adf7ba",
   "metadata": {
    "execution": {
     "iopub.execute_input": "2025-08-05T20:41:17.545380Z",
     "iopub.status.busy": "2025-08-05T20:41:17.544686Z",
     "iopub.status.idle": "2025-08-05T20:41:17.550920Z",
     "shell.execute_reply": "2025-08-05T20:41:17.549974Z"
    },
    "papermill": {
     "duration": 0.034523,
     "end_time": "2025-08-05T20:41:17.552466",
     "exception": false,
     "start_time": "2025-08-05T20:41:17.517943",
     "status": "completed"
    },
    "tags": []
   },
   "outputs": [],
   "source": [
    "def filter_sub_universe_data(sub_universe, org_test):\n",
    "    # Keep all rows — no filtering\n",
    "    keep_rows_mask = np.ones(org_test.shape[0], dtype=bool)\n",
    "\n",
    "    print(f\"[INFO] Keeping all rows: {keep_rows_mask.sum()} rows retained.\")\n",
    "    return keep_rows_mask"
   ]
  },
  {
   "cell_type": "code",
   "execution_count": 66,
   "id": "4a759155",
   "metadata": {
    "execution": {
     "iopub.execute_input": "2025-08-05T20:41:17.605491Z",
     "iopub.status.busy": "2025-08-05T20:41:17.604788Z",
     "iopub.status.idle": "2025-08-05T20:41:27.557006Z",
     "shell.execute_reply": "2025-08-05T20:41:27.556122Z"
    },
    "papermill": {
     "duration": 9.980086,
     "end_time": "2025-08-05T20:41:27.558736",
     "exception": false,
     "start_time": "2025-08-05T20:41:17.578650",
     "status": "completed"
    },
    "tags": []
   },
   "outputs": [
    {
     "name": "stdout",
     "output_type": "stream",
     "text": [
      "Stopping execution_time clock.\n",
      "[INFO] Keeping all rows: 89710 rows retained.\n"
     ]
    },
    {
     "name": "stdout",
     "output_type": "stream",
     "text": [
      "[INFO] Keeping all rows: 89710 rows retained.\n"
     ]
    },
    {
     "name": "stdout",
     "output_type": "stream",
     "text": [
      "[INFO] Keeping all rows: 89710 rows retained.\n"
     ]
    },
    {
     "name": "stdout",
     "output_type": "stream",
     "text": [
      "[INFO] Keeping all rows: 89710 rows retained.\n"
     ]
    },
    {
     "data": {
      "text/html": [
       "<div>\n",
       "<style scoped>\n",
       "    .dataframe tbody tr th:only-of-type {\n",
       "        vertical-align: middle;\n",
       "    }\n",
       "\n",
       "    .dataframe tbody tr th {\n",
       "        vertical-align: top;\n",
       "    }\n",
       "\n",
       "    .dataframe thead th {\n",
       "        text-align: right;\n",
       "    }\n",
       "</style>\n",
       "<table border=\"1\" class=\"dataframe\">\n",
       "  <thead>\n",
       "    <tr style=\"text-align: right;\">\n",
       "      <th></th>\n",
       "      <th>run_no</th>\n",
       "      <th>universe_id</th>\n",
       "      <th>universe_settings</th>\n",
       "      <th>execution_time</th>\n",
       "      <th>test_size_n</th>\n",
       "      <th>test_size_frac</th>\n",
       "      <th>fair_main_equalized_odds_difference</th>\n",
       "      <th>fair_main_equalized_odds_ratio</th>\n",
       "      <th>fair_main_demographic_parity_difference</th>\n",
       "      <th>fair_main_demographic_parity_ratio</th>\n",
       "      <th>...</th>\n",
       "      <th>perf_grp_precision_0</th>\n",
       "      <th>perf_grp_precision_1</th>\n",
       "      <th>perf_grp_false positive rate_0</th>\n",
       "      <th>perf_grp_false positive rate_1</th>\n",
       "      <th>perf_grp_false negative rate_0</th>\n",
       "      <th>perf_grp_false negative rate_1</th>\n",
       "      <th>perf_grp_selection rate_0</th>\n",
       "      <th>perf_grp_selection rate_1</th>\n",
       "      <th>perf_grp_count_0</th>\n",
       "      <th>perf_grp_count_1</th>\n",
       "    </tr>\n",
       "  </thead>\n",
       "  <tbody>\n",
       "    <tr>\n",
       "      <th>0</th>\n",
       "      <td>16</td>\n",
       "      <td>9b779ef78421d2b9158e4e8819a5d71a</td>\n",
       "      <td>{\"cutoff\": \"quantile_0.1\", \"eval_fairness_grou...</td>\n",
       "      <td>24.377922</td>\n",
       "      <td>89710</td>\n",
       "      <td>1.0</td>\n",
       "      <td>0.097228</td>\n",
       "      <td>0.899389</td>\n",
       "      <td>0.089031</td>\n",
       "      <td>0.908087</td>\n",
       "      <td>...</td>\n",
       "      <td>NaN</td>\n",
       "      <td>NaN</td>\n",
       "      <td>NaN</td>\n",
       "      <td>NaN</td>\n",
       "      <td>NaN</td>\n",
       "      <td>NaN</td>\n",
       "      <td>NaN</td>\n",
       "      <td>NaN</td>\n",
       "      <td>NaN</td>\n",
       "      <td>NaN</td>\n",
       "    </tr>\n",
       "    <tr>\n",
       "      <th>0</th>\n",
       "      <td>16</td>\n",
       "      <td>9b779ef78421d2b9158e4e8819a5d71a</td>\n",
       "      <td>{\"cutoff\": \"quantile_0.1\", \"eval_fairness_grou...</td>\n",
       "      <td>24.377922</td>\n",
       "      <td>89710</td>\n",
       "      <td>1.0</td>\n",
       "      <td>0.097228</td>\n",
       "      <td>0.899389</td>\n",
       "      <td>0.089031</td>\n",
       "      <td>0.908087</td>\n",
       "      <td>...</td>\n",
       "      <td>0.117360</td>\n",
       "      <td>0.142465</td>\n",
       "      <td>0.966377</td>\n",
       "      <td>0.869149</td>\n",
       "      <td>0.013936</td>\n",
       "      <td>0.051641</td>\n",
       "      <td>0.968647</td>\n",
       "      <td>0.879615</td>\n",
       "      <td>20540.0</td>\n",
       "      <td>69170.0</td>\n",
       "    </tr>\n",
       "    <tr>\n",
       "      <th>0</th>\n",
       "      <td>16</td>\n",
       "      <td>9b779ef78421d2b9158e4e8819a5d71a</td>\n",
       "      <td>{\"cutoff\": \"quantile_0.25\", \"eval_fairness_gro...</td>\n",
       "      <td>24.377922</td>\n",
       "      <td>89710</td>\n",
       "      <td>1.0</td>\n",
       "      <td>0.213323</td>\n",
       "      <td>0.761299</td>\n",
       "      <td>0.195434</td>\n",
       "      <td>0.783016</td>\n",
       "      <td>...</td>\n",
       "      <td>NaN</td>\n",
       "      <td>NaN</td>\n",
       "      <td>NaN</td>\n",
       "      <td>NaN</td>\n",
       "      <td>NaN</td>\n",
       "      <td>NaN</td>\n",
       "      <td>NaN</td>\n",
       "      <td>NaN</td>\n",
       "      <td>NaN</td>\n",
       "      <td>NaN</td>\n",
       "    </tr>\n",
       "    <tr>\n",
       "      <th>0</th>\n",
       "      <td>16</td>\n",
       "      <td>9b779ef78421d2b9158e4e8819a5d71a</td>\n",
       "      <td>{\"cutoff\": \"quantile_0.25\", \"eval_fairness_gro...</td>\n",
       "      <td>24.377922</td>\n",
       "      <td>89710</td>\n",
       "      <td>1.0</td>\n",
       "      <td>0.213323</td>\n",
       "      <td>0.761299</td>\n",
       "      <td>0.195434</td>\n",
       "      <td>0.783016</td>\n",
       "      <td>...</td>\n",
       "      <td>0.122162</td>\n",
       "      <td>0.162765</td>\n",
       "      <td>0.893683</td>\n",
       "      <td>0.680360</td>\n",
       "      <td>0.045608</td>\n",
       "      <td>0.131291</td>\n",
       "      <td>0.900682</td>\n",
       "      <td>0.705248</td>\n",
       "      <td>20540.0</td>\n",
       "      <td>69170.0</td>\n",
       "    </tr>\n",
       "  </tbody>\n",
       "</table>\n",
       "<p>4 rows × 50 columns</p>\n",
       "</div>"
      ],
      "text/plain": [
       "  run_no                       universe_id  \\\n",
       "0     16  9b779ef78421d2b9158e4e8819a5d71a   \n",
       "0     16  9b779ef78421d2b9158e4e8819a5d71a   \n",
       "0     16  9b779ef78421d2b9158e4e8819a5d71a   \n",
       "0     16  9b779ef78421d2b9158e4e8819a5d71a   \n",
       "\n",
       "                                   universe_settings  execution_time  \\\n",
       "0  {\"cutoff\": \"quantile_0.1\", \"eval_fairness_grou...       24.377922   \n",
       "0  {\"cutoff\": \"quantile_0.1\", \"eval_fairness_grou...       24.377922   \n",
       "0  {\"cutoff\": \"quantile_0.25\", \"eval_fairness_gro...       24.377922   \n",
       "0  {\"cutoff\": \"quantile_0.25\", \"eval_fairness_gro...       24.377922   \n",
       "\n",
       "   test_size_n  test_size_frac  fair_main_equalized_odds_difference  \\\n",
       "0        89710             1.0                             0.097228   \n",
       "0        89710             1.0                             0.097228   \n",
       "0        89710             1.0                             0.213323   \n",
       "0        89710             1.0                             0.213323   \n",
       "\n",
       "   fair_main_equalized_odds_ratio  fair_main_demographic_parity_difference  \\\n",
       "0                        0.899389                                 0.089031   \n",
       "0                        0.899389                                 0.089031   \n",
       "0                        0.761299                                 0.195434   \n",
       "0                        0.761299                                 0.195434   \n",
       "\n",
       "   fair_main_demographic_parity_ratio  ...  perf_grp_precision_0  \\\n",
       "0                            0.908087  ...                   NaN   \n",
       "0                            0.908087  ...              0.117360   \n",
       "0                            0.783016  ...                   NaN   \n",
       "0                            0.783016  ...              0.122162   \n",
       "\n",
       "   perf_grp_precision_1  perf_grp_false positive rate_0  \\\n",
       "0                   NaN                             NaN   \n",
       "0              0.142465                        0.966377   \n",
       "0                   NaN                             NaN   \n",
       "0              0.162765                        0.893683   \n",
       "\n",
       "   perf_grp_false positive rate_1  perf_grp_false negative rate_0  \\\n",
       "0                             NaN                             NaN   \n",
       "0                        0.869149                        0.013936   \n",
       "0                             NaN                             NaN   \n",
       "0                        0.680360                        0.045608   \n",
       "\n",
       "   perf_grp_false negative rate_1  perf_grp_selection rate_0  \\\n",
       "0                             NaN                        NaN   \n",
       "0                        0.051641                   0.968647   \n",
       "0                             NaN                        NaN   \n",
       "0                        0.131291                   0.900682   \n",
       "\n",
       "   perf_grp_selection rate_1  perf_grp_count_0  perf_grp_count_1  \n",
       "0                        NaN               NaN               NaN  \n",
       "0                   0.879615           20540.0           69170.0  \n",
       "0                        NaN               NaN               NaN  \n",
       "0                   0.705248           20540.0           69170.0  \n",
       "\n",
       "[4 rows x 50 columns]"
      ]
     },
     "execution_count": 66,
     "metadata": {},
     "output_type": "execute_result"
    }
   ],
   "source": [
    "final_output = universe_analysis.generate_final_output(\n",
    "    y_pred_prob=probs_test,\n",
    "    y_test=y_true,\n",
    "    org_test=org_test,\n",
    "    filter_data=filter_sub_universe_data,\n",
    "    cp_metrics_df=cp_metrics_df,\n",
    "    save=True,\n",
    ")\n",
    "final_output"
   ]
  }
 ],
 "metadata": {
  "celltoolbar": "Tags",
  "kernelspec": {
   "display_name": "Python (CMA Fairness)",
   "language": "python",
   "name": "cma_fair_env"
  },
  "language_info": {
   "codemirror_mode": {
    "name": "ipython",
    "version": 3
   },
   "file_extension": ".py",
   "mimetype": "text/x-python",
   "name": "python",
   "nbconvert_exporter": "python",
   "pygments_lexer": "ipython3",
   "version": "3.10.12"
  },
  "papermill": {
   "default_parameters": {},
   "duration": 38.403783,
   "end_time": "2025-08-05T20:41:28.304973",
   "environment_variables": {},
   "exception": null,
   "input_path": "universe_analysis.ipynb",
   "output_path": "output/runs/16/notebooks/m_16-9b779ef78421d2b9158e4e8819a5d71a.ipynb",
   "parameters": {
    "output_dir": "output",
    "run_no": "16",
    "seed": "2023",
    "universe": "{\"cutoff\": [\"quantile_0.1\", \"quantile_0.25\"], \"eval_fairness_grouping\": [\"majority-minority\", \"nationality-all\"], \"exclude_features\": \"nationality\", \"exclude_subgroups\": \"keep-all\", \"model\": \"logreg\", \"scale\": \"do-not-scale\", \"training_size\": \"25k\", \"training_year\": \"2014\"}",
    "universe_id": "9b779ef78421d2b9158e4e8819a5d71a"
   },
   "start_time": "2025-08-05T20:40:49.901190",
   "version": "2.6.0"
  }
 },
 "nbformat": 4,
 "nbformat_minor": 5
}