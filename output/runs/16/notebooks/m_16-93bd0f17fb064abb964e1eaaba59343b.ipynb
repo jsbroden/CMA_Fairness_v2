{
 "cells": [
  {
   "cell_type": "code",
   "execution_count": 1,
   "id": "f159f837-637b-42ba-96b5-ec9a68c44524",
   "metadata": {
    "execution": {
     "iopub.execute_input": "2025-08-05T20:57:39.671635Z",
     "iopub.status.busy": "2025-08-05T20:57:39.670751Z",
     "iopub.status.idle": "2025-08-05T20:57:39.683999Z",
     "shell.execute_reply": "2025-08-05T20:57:39.683008Z"
    },
    "papermill": {
     "duration": 0.033689,
     "end_time": "2025-08-05T20:57:39.685837",
     "exception": false,
     "start_time": "2025-08-05T20:57:39.652148",
     "status": "completed"
    },
    "tags": []
   },
   "outputs": [
    {
     "name": "stdout",
     "output_type": "stream",
     "text": [
      "/dss/dsshome1/0C/ra93lal2/cma/CMA_Fairness_v2\n"
     ]
    },
    {
     "name": "stderr",
     "output_type": "stream",
     "text": [
      "/dss/dsshome1/0C/ra93lal2/.local/share/virtualenvs/CMA_Fairness_v2-3j10GkSs/lib/python3.10/site-packages/IPython/core/magics/osm.py:393: UserWarning: This is now an optional IPython functionality, using bookmarks requires you to install the `pickleshare` library.\n",
      "  bkms = self.shell.db.get('bookmarks', {})\n",
      "/dss/dsshome1/0C/ra93lal2/.local/share/virtualenvs/CMA_Fairness_v2-3j10GkSs/lib/python3.10/site-packages/IPython/core/magics/osm.py:417: UserWarning: This is now an optional IPython functionality, setting dhist requires you to install the `pickleshare` library.\n",
      "  self.shell.db['dhist'] = compress_dhist(dhist)[-100:]\n"
     ]
    }
   ],
   "source": [
    "%cd ~/cma/CMA_Fairness_v2"
   ]
  },
  {
   "cell_type": "markdown",
   "id": "de2603b9",
   "metadata": {
    "papermill": {
     "duration": 0.016903,
     "end_time": "2025-08-05T20:57:39.720813",
     "exception": false,
     "start_time": "2025-08-05T20:57:39.703910",
     "status": "completed"
    },
    "tags": []
   },
   "source": [
    "The following cell holds the definition of our parameters, these values can be overriden by rendering the with e.g. the following command:\n",
    "\n",
    "papermill -p alpha 0.2 -p ratio 0.3 universe_analysis.ipynb output/test_run.ipynb"
   ]
  },
  {
   "cell_type": "code",
   "execution_count": 2,
   "id": "a80968a0-40bb-4fa9-85ef-2d5eefb01975",
   "metadata": {
    "execution": {
     "iopub.execute_input": "2025-08-05T20:57:39.756126Z",
     "iopub.status.busy": "2025-08-05T20:57:39.755175Z",
     "iopub.status.idle": "2025-08-05T20:57:39.761377Z",
     "shell.execute_reply": "2025-08-05T20:57:39.760327Z"
    },
    "papermill": {
     "duration": 0.025525,
     "end_time": "2025-08-05T20:57:39.763253",
     "exception": false,
     "start_time": "2025-08-05T20:57:39.737728",
     "status": "completed"
    },
    "tags": []
   },
   "outputs": [
    {
     "name": "stdout",
     "output_type": "stream",
     "text": [
      "Current working directory: /dss/dsshome1/0C/ra93lal2/cma/CMA_Fairness_v2\n"
     ]
    }
   ],
   "source": [
    "import os\n",
    "print(\"Current working directory:\", os.getcwd())"
   ]
  },
  {
   "cell_type": "code",
   "execution_count": 3,
   "id": "2dce4c03",
   "metadata": {
    "execution": {
     "iopub.execute_input": "2025-08-05T20:57:39.798972Z",
     "iopub.status.busy": "2025-08-05T20:57:39.798293Z",
     "iopub.status.idle": "2025-08-05T20:57:39.804199Z",
     "shell.execute_reply": "2025-08-05T20:57:39.803245Z"
    },
    "papermill": {
     "duration": 0.025731,
     "end_time": "2025-08-05T20:57:39.805960",
     "exception": false,
     "start_time": "2025-08-05T20:57:39.780229",
     "status": "completed"
    },
    "tags": [
     "parameters"
    ]
   },
   "outputs": [],
   "source": [
    "run_no = 0\n",
    "universe_id = \"test\"\n",
    "universe = {\n",
    "    \"training_size\": \"25k\", # \"25k\", \"5k\", \"1k\"\n",
    "    \"training_year\": \"2014\", # \"2014\", \"2012_14\", \"2010_14\"\n",
    "    \"scale\": \"scale\", # \"scale\", \"do-not-scale\",\n",
    "    \"model\": \"elasticnet\", # \"logreg\", \"penalized_logreg\", \"rf\", \"gbm\", \"elasticnet\"\n",
    "    \"cutoff\": [\"quantile_0.15\", \"quantile_0.30\"],\n",
    "    \"exclude_features\": \"age\", # \"none\", \"nationality\", \"sex\", \"nationality-sex\", \"age\"\n",
    "    \"exclude_subgroups\": \"keep-all\", # \"keep-all\", \"drop-non-german\"\n",
    "    \"eval_fairness_grouping\": [\"majority-minority\", \"nationality-all\"]\n",
    "}\n",
    "\n",
    "output_dir=\"./output\"\n",
    "seed=0"
   ]
  },
  {
   "cell_type": "code",
   "execution_count": 4,
   "id": "37bd3478",
   "metadata": {
    "execution": {
     "iopub.execute_input": "2025-08-05T20:57:39.839355Z",
     "iopub.status.busy": "2025-08-05T20:57:39.838810Z",
     "iopub.status.idle": "2025-08-05T20:57:39.844038Z",
     "shell.execute_reply": "2025-08-05T20:57:39.843046Z"
    },
    "papermill": {
     "duration": 0.023638,
     "end_time": "2025-08-05T20:57:39.845915",
     "exception": false,
     "start_time": "2025-08-05T20:57:39.822277",
     "status": "completed"
    },
    "tags": [
     "injected-parameters"
    ]
   },
   "outputs": [],
   "source": [
    "# Parameters\n",
    "universe_id = \"93bd0f17fb064abb964e1eaaba59343b\"\n",
    "run_no = \"16\"\n",
    "universe = \"{\\\"cutoff\\\": [\\\"quantile_0.1\\\", \\\"quantile_0.25\\\"], \\\"eval_fairness_grouping\\\": [\\\"majority-minority\\\", \\\"nationality-all\\\"], \\\"exclude_features\\\": \\\"nationality-sex\\\", \\\"exclude_subgroups\\\": \\\"drop-non-german\\\", \\\"model\\\": \\\"logreg\\\", \\\"scale\\\": \\\"do-not-scale\\\", \\\"training_size\\\": \\\"25k\\\", \\\"training_year\\\": \\\"2012_14\\\"}\"\n",
    "output_dir = \"output\"\n",
    "seed = \"2023\"\n"
   ]
  },
  {
   "cell_type": "code",
   "execution_count": 5,
   "id": "1650acaf",
   "metadata": {
    "execution": {
     "iopub.execute_input": "2025-08-05T20:57:39.881056Z",
     "iopub.status.busy": "2025-08-05T20:57:39.880515Z",
     "iopub.status.idle": "2025-08-05T20:57:39.885172Z",
     "shell.execute_reply": "2025-08-05T20:57:39.884216Z"
    },
    "papermill": {
     "duration": 0.023458,
     "end_time": "2025-08-05T20:57:39.886969",
     "exception": false,
     "start_time": "2025-08-05T20:57:39.863511",
     "status": "completed"
    },
    "tags": []
   },
   "outputs": [],
   "source": [
    "import json\n",
    "if isinstance(universe, str):\n",
    "    universe = json.loads(universe)"
   ]
  },
  {
   "cell_type": "code",
   "execution_count": 6,
   "id": "16620c48",
   "metadata": {
    "execution": {
     "iopub.execute_input": "2025-08-05T20:57:39.921111Z",
     "iopub.status.busy": "2025-08-05T20:57:39.920709Z",
     "iopub.status.idle": "2025-08-05T20:57:39.965354Z",
     "shell.execute_reply": "2025-08-05T20:57:39.964444Z"
    },
    "papermill": {
     "duration": 0.063773,
     "end_time": "2025-08-05T20:57:39.967057",
     "exception": false,
     "start_time": "2025-08-05T20:57:39.903284",
     "status": "completed"
    },
    "tags": []
   },
   "outputs": [],
   "source": [
    "# Auto-reload the custom package\n",
    "%load_ext autoreload\n",
    "%autoreload 1\n",
    "%aimport fairness_multiverse"
   ]
  },
  {
   "cell_type": "code",
   "execution_count": 7,
   "id": "01c5c9f3",
   "metadata": {
    "execution": {
     "iopub.execute_input": "2025-08-05T20:57:40.002542Z",
     "iopub.status.busy": "2025-08-05T20:57:40.001850Z",
     "iopub.status.idle": "2025-08-05T20:57:41.590583Z",
     "shell.execute_reply": "2025-08-05T20:57:41.589358Z"
    },
    "papermill": {
     "duration": 1.608206,
     "end_time": "2025-08-05T20:57:41.592616",
     "exception": false,
     "start_time": "2025-08-05T20:57:39.984410",
     "status": "completed"
    },
    "tags": []
   },
   "outputs": [],
   "source": [
    "from fairness_multiverse.universe import UniverseAnalysis\n",
    "\n",
    "universe_analysis = UniverseAnalysis(\n",
    "    run_no = run_no,\n",
    "    universe_id = universe_id,\n",
    "    universe = universe,\n",
    "    output_dir=output_dir,\n",
    ")"
   ]
  },
  {
   "cell_type": "code",
   "execution_count": 8,
   "id": "106241f5",
   "metadata": {
    "execution": {
     "iopub.execute_input": "2025-08-05T20:57:41.632681Z",
     "iopub.status.busy": "2025-08-05T20:57:41.632361Z",
     "iopub.status.idle": "2025-08-05T20:57:41.638081Z",
     "shell.execute_reply": "2025-08-05T20:57:41.637067Z"
    },
    "papermill": {
     "duration": 0.027854,
     "end_time": "2025-08-05T20:57:41.640006",
     "exception": false,
     "start_time": "2025-08-05T20:57:41.612152",
     "status": "completed"
    },
    "tags": []
   },
   "outputs": [
    {
     "name": "stdout",
     "output_type": "stream",
     "text": [
      "Using Seed: 2023\n"
     ]
    }
   ],
   "source": [
    "import numpy as np\n",
    "parsed_seed = int(seed)\n",
    "np.random.seed(parsed_seed)\n",
    "print(f\"Using Seed: {parsed_seed}\")"
   ]
  },
  {
   "cell_type": "markdown",
   "id": "e0ebdc57",
   "metadata": {
    "papermill": {
     "duration": 0.009484,
     "end_time": "2025-08-05T20:57:41.669203",
     "exception": false,
     "start_time": "2025-08-05T20:57:41.659719",
     "status": "completed"
    },
    "tags": []
   },
   "source": [
    "# Loading Data"
   ]
  },
  {
   "cell_type": "code",
   "execution_count": 9,
   "id": "f0496b8a",
   "metadata": {
    "execution": {
     "iopub.execute_input": "2025-08-05T20:57:41.687516Z",
     "iopub.status.busy": "2025-08-05T20:57:41.687109Z",
     "iopub.status.idle": "2025-08-05T20:57:53.627433Z",
     "shell.execute_reply": "2025-08-05T20:57:53.626351Z"
    },
    "papermill": {
     "duration": 11.951349,
     "end_time": "2025-08-05T20:57:53.629149",
     "exception": false,
     "start_time": "2025-08-05T20:57:41.677800",
     "status": "completed"
    },
    "tags": []
   },
   "outputs": [
    {
     "name": "stdout",
     "output_type": "stream",
     "text": [
      "Loading SIAB data from cache: data/siab_cached.csv.gz\n"
     ]
    },
    {
     "name": "stdout",
     "output_type": "stream",
     "text": [
      "(643690, 164)\n"
     ]
    }
   ],
   "source": [
    "from pathlib import Path\n",
    "import pandas as pd\n",
    "\n",
    "# File paths\n",
    "raw_file = Path(\"data/raw/siab.csv\")\n",
    "cache_file = Path(\"data/siab_cached.csv.gz\")\n",
    "\n",
    "# Ensure cache directory exists\n",
    "cache_file.parent.mkdir(parents=True, exist_ok=True)\n",
    "\n",
    "# Load with simple caching\n",
    "if cache_file.exists():\n",
    "    print(f\"Loading SIAB data from cache: {cache_file}\")\n",
    "    siab = pd.read_csv(cache_file, compression='gzip')\n",
    "else:\n",
    "    print(f\"Cache not found. Reading raw SIAB data: {raw_file}\")\n",
    "    siab = pd.read_csv(raw_file)\n",
    "    siab.to_csv(cache_file, index=False, compression='gzip')\n",
    "    print(f\"Cached SIAB data to: {cache_file}\")\n",
    "\n",
    "print(siab.shape)"
   ]
  },
  {
   "cell_type": "code",
   "execution_count": 10,
   "id": "db0ca512-5f53-4dba-abdb-a2888bca41ba",
   "metadata": {
    "execution": {
     "iopub.execute_input": "2025-08-05T20:57:53.668688Z",
     "iopub.status.busy": "2025-08-05T20:57:53.668179Z",
     "iopub.status.idle": "2025-08-05T20:57:53.674147Z",
     "shell.execute_reply": "2025-08-05T20:57:53.673104Z"
    },
    "papermill": {
     "duration": 0.02637,
     "end_time": "2025-08-05T20:57:53.675870",
     "exception": false,
     "start_time": "2025-08-05T20:57:53.649500",
     "status": "completed"
    },
    "tags": []
   },
   "outputs": [],
   "source": [
    "#siab"
   ]
  },
  {
   "cell_type": "markdown",
   "id": "997051c5-15bd-4b69-9786-c3001a3ce484",
   "metadata": {
    "papermill": {
     "duration": 0.016471,
     "end_time": "2025-08-05T20:57:53.709860",
     "exception": false,
     "start_time": "2025-08-05T20:57:53.693389",
     "status": "completed"
    },
    "tags": []
   },
   "source": [
    "# Splitting Data and Setting Training Data Size"
   ]
  },
  {
   "cell_type": "code",
   "execution_count": 11,
   "id": "aea9c6ef-6f46-42c8-85eb-5a62025c1508",
   "metadata": {
    "execution": {
     "iopub.execute_input": "2025-08-05T20:57:53.746266Z",
     "iopub.status.busy": "2025-08-05T20:57:53.745380Z",
     "iopub.status.idle": "2025-08-05T20:57:54.436156Z",
     "shell.execute_reply": "2025-08-05T20:57:54.435008Z"
    },
    "papermill": {
     "duration": 0.711171,
     "end_time": "2025-08-05T20:57:54.438370",
     "exception": false,
     "start_time": "2025-08-05T20:57:53.727199",
     "status": "completed"
    },
    "tags": []
   },
   "outputs": [],
   "source": [
    "from fairness_multiverse.universe import sample_by_year_size\n",
    "\n",
    "siab_train = sample_by_year_size(siab,\n",
    "                               training_year=universe[\"training_year\"],\n",
    "                               training_size=universe[\"training_size\"])"
   ]
  },
  {
   "cell_type": "code",
   "execution_count": 12,
   "id": "8d3afb32-789d-442c-8d5d-9f5aa8dd2eed",
   "metadata": {
    "execution": {
     "iopub.execute_input": "2025-08-05T20:57:54.474718Z",
     "iopub.status.busy": "2025-08-05T20:57:54.474202Z",
     "iopub.status.idle": "2025-08-05T20:57:54.479942Z",
     "shell.execute_reply": "2025-08-05T20:57:54.478829Z"
    },
    "papermill": {
     "duration": 0.025553,
     "end_time": "2025-08-05T20:57:54.481964",
     "exception": false,
     "start_time": "2025-08-05T20:57:54.456411",
     "status": "completed"
    },
    "tags": []
   },
   "outputs": [],
   "source": [
    "#siab_train.shape"
   ]
  },
  {
   "cell_type": "code",
   "execution_count": 13,
   "id": "d582db68-1a4c-47fb-84fc-08518dc1975a",
   "metadata": {
    "execution": {
     "iopub.execute_input": "2025-08-05T20:57:54.519025Z",
     "iopub.status.busy": "2025-08-05T20:57:54.518263Z",
     "iopub.status.idle": "2025-08-05T20:57:54.523570Z",
     "shell.execute_reply": "2025-08-05T20:57:54.522459Z"
    },
    "papermill": {
     "duration": 0.025138,
     "end_time": "2025-08-05T20:57:54.525228",
     "exception": false,
     "start_time": "2025-08-05T20:57:54.500090",
     "status": "completed"
    },
    "tags": []
   },
   "outputs": [],
   "source": [
    "#display(siab_train.groupby(\"year\").size())"
   ]
  },
  {
   "cell_type": "code",
   "execution_count": 14,
   "id": "a561edb4-d032-42cb-8256-22eac1111c64",
   "metadata": {
    "execution": {
     "iopub.execute_input": "2025-08-05T20:57:54.562402Z",
     "iopub.status.busy": "2025-08-05T20:57:54.561422Z",
     "iopub.status.idle": "2025-08-05T20:57:54.785311Z",
     "shell.execute_reply": "2025-08-05T20:57:54.784135Z"
    },
    "papermill": {
     "duration": 0.245256,
     "end_time": "2025-08-05T20:57:54.787787",
     "exception": false,
     "start_time": "2025-08-05T20:57:54.542531",
     "status": "completed"
    },
    "tags": []
   },
   "outputs": [],
   "source": [
    "#siab_train = siab_s[siab_s.year < 2015]\n",
    "siab_calib = siab[siab.year == 2015]\n",
    "siab_test = siab[siab.year == 2016]"
   ]
  },
  {
   "cell_type": "code",
   "execution_count": 15,
   "id": "472de16f-c3db-4916-846b-1f0de9cf1746",
   "metadata": {
    "execution": {
     "iopub.execute_input": "2025-08-05T20:57:54.842597Z",
     "iopub.status.busy": "2025-08-05T20:57:54.839729Z",
     "iopub.status.idle": "2025-08-05T20:57:54.862126Z",
     "shell.execute_reply": "2025-08-05T20:57:54.860721Z"
    },
    "papermill": {
     "duration": 0.051792,
     "end_time": "2025-08-05T20:57:54.864674",
     "exception": false,
     "start_time": "2025-08-05T20:57:54.812882",
     "status": "completed"
    },
    "tags": []
   },
   "outputs": [],
   "source": [
    "X_train = siab_train.iloc[:,4:164]\n",
    "y_train = siab_train.iloc[:, [3]]"
   ]
  },
  {
   "cell_type": "code",
   "execution_count": 16,
   "id": "828c96af-f43a-4ed6-ba47-8ac73a47d56c",
   "metadata": {
    "execution": {
     "iopub.execute_input": "2025-08-05T20:57:54.917814Z",
     "iopub.status.busy": "2025-08-05T20:57:54.916593Z",
     "iopub.status.idle": "2025-08-05T20:57:54.988685Z",
     "shell.execute_reply": "2025-08-05T20:57:54.987575Z"
    },
    "papermill": {
     "duration": 0.101828,
     "end_time": "2025-08-05T20:57:54.992048",
     "exception": false,
     "start_time": "2025-08-05T20:57:54.890220",
     "status": "completed"
    },
    "tags": []
   },
   "outputs": [],
   "source": [
    "X_calib = siab_calib.iloc[:,4:164]\n",
    "y_calib = siab_calib.iloc[:, [3]]"
   ]
  },
  {
   "cell_type": "code",
   "execution_count": 17,
   "id": "c34be9c3-6bd6-476e-acd3-845840e303be",
   "metadata": {
    "execution": {
     "iopub.execute_input": "2025-08-05T20:57:55.045871Z",
     "iopub.status.busy": "2025-08-05T20:57:55.044968Z",
     "iopub.status.idle": "2025-08-05T20:57:55.120357Z",
     "shell.execute_reply": "2025-08-05T20:57:55.119238Z"
    },
    "papermill": {
     "duration": 0.104478,
     "end_time": "2025-08-05T20:57:55.122773",
     "exception": false,
     "start_time": "2025-08-05T20:57:55.018295",
     "status": "completed"
    },
    "tags": []
   },
   "outputs": [],
   "source": [
    "X_test = siab_test.iloc[:,4:164]\n",
    "y_true = siab_test.iloc[:, [3]]"
   ]
  },
  {
   "cell_type": "code",
   "execution_count": 18,
   "id": "e6c733c5",
   "metadata": {
    "execution": {
     "iopub.execute_input": "2025-08-05T20:57:55.161595Z",
     "iopub.status.busy": "2025-08-05T20:57:55.160616Z",
     "iopub.status.idle": "2025-08-05T20:57:55.263872Z",
     "shell.execute_reply": "2025-08-05T20:57:55.262484Z"
    },
    "papermill": {
     "duration": 0.12552,
     "end_time": "2025-08-05T20:57:55.266364",
     "exception": false,
     "start_time": "2025-08-05T20:57:55.140844",
     "status": "completed"
    },
    "tags": []
   },
   "outputs": [],
   "source": [
    "# Auxiliary data needed downstream in the pipeline\n",
    "\n",
    "org_train = X_train.copy()\n",
    "org_test = X_test.copy()\n",
    "org_calib = X_calib.copy()"
   ]
  },
  {
   "cell_type": "markdown",
   "id": "0a4a1b33",
   "metadata": {
    "papermill": {
     "duration": 0.02887,
     "end_time": "2025-08-05T20:57:55.324519",
     "exception": false,
     "start_time": "2025-08-05T20:57:55.295649",
     "status": "completed"
    },
    "tags": []
   },
   "source": [
    "# Preprocessing Data"
   ]
  },
  {
   "cell_type": "code",
   "execution_count": 19,
   "id": "ca879031",
   "metadata": {
    "execution": {
     "iopub.execute_input": "2025-08-05T20:57:55.385127Z",
     "iopub.status.busy": "2025-08-05T20:57:55.384327Z",
     "iopub.status.idle": "2025-08-05T20:57:55.391987Z",
     "shell.execute_reply": "2025-08-05T20:57:55.390781Z"
    },
    "papermill": {
     "duration": 0.040506,
     "end_time": "2025-08-05T20:57:55.394684",
     "exception": false,
     "start_time": "2025-08-05T20:57:55.354178",
     "status": "completed"
    },
    "tags": []
   },
   "outputs": [],
   "source": [
    "# EXCLUDE PROTECTED FEATURES\n",
    "# ----------------------\n",
    "# \"exclude_features\": \"none\", # \"nationality\", \"sex\", \"nationality-sex\"\n",
    "\n",
    "excluded_features = universe[\"exclude_features\"].split(\"-\") # split, e.g.: \"nationality-sex\" -> [\"nationality\", \"sex\"]\n",
    "excluded_features_dictionary = {\n",
    "    \"nationality\": [\"maxdeutsch1\", \"maxdeutsch.Missing.\"],\n",
    "    \"sex\": [\"frau1\"],\n",
    "    \"age\": [\"age\"],\n",
    "}"
   ]
  },
  {
   "cell_type": "code",
   "execution_count": 20,
   "id": "b745ac60",
   "metadata": {
    "execution": {
     "iopub.execute_input": "2025-08-05T20:57:55.457918Z",
     "iopub.status.busy": "2025-08-05T20:57:55.457226Z",
     "iopub.status.idle": "2025-08-05T20:57:55.464064Z",
     "shell.execute_reply": "2025-08-05T20:57:55.462732Z"
    },
    "papermill": {
     "duration": 0.042828,
     "end_time": "2025-08-05T20:57:55.468101",
     "exception": false,
     "start_time": "2025-08-05T20:57:55.425273",
     "status": "completed"
    },
    "tags": []
   },
   "outputs": [],
   "source": [
    "# Code nice names to column names\n",
    "\n",
    "excluded_features_columns = [\n",
    "    excluded_features_dictionary[f] for f in excluded_features if len(f) > 0 and f != \"none\"\n",
    "]"
   ]
  },
  {
   "cell_type": "code",
   "execution_count": 21,
   "id": "f84f73a2",
   "metadata": {
    "execution": {
     "iopub.execute_input": "2025-08-05T20:57:55.506341Z",
     "iopub.status.busy": "2025-08-05T20:57:55.505655Z",
     "iopub.status.idle": "2025-08-05T20:57:55.514047Z",
     "shell.execute_reply": "2025-08-05T20:57:55.512709Z"
    },
    "papermill": {
     "duration": 0.029348,
     "end_time": "2025-08-05T20:57:55.515902",
     "exception": false,
     "start_time": "2025-08-05T20:57:55.486554",
     "status": "completed"
    },
    "tags": []
   },
   "outputs": [],
   "source": [
    "from utils import flatten_once\n",
    "\n",
    "excluded_features_columns = flatten_once(excluded_features_columns)"
   ]
  },
  {
   "cell_type": "code",
   "execution_count": 22,
   "id": "884dea22",
   "metadata": {
    "execution": {
     "iopub.execute_input": "2025-08-05T20:57:55.555753Z",
     "iopub.status.busy": "2025-08-05T20:57:55.554561Z",
     "iopub.status.idle": "2025-08-05T20:57:55.579043Z",
     "shell.execute_reply": "2025-08-05T20:57:55.577712Z"
    },
    "papermill": {
     "duration": 0.046197,
     "end_time": "2025-08-05T20:57:55.581072",
     "exception": false,
     "start_time": "2025-08-05T20:57:55.534875",
     "status": "completed"
    },
    "tags": []
   },
   "outputs": [
    {
     "name": "stdout",
     "output_type": "stream",
     "text": [
      "Dropping features: ['maxdeutsch1', 'maxdeutsch.Missing.', 'frau1']\n"
     ]
    }
   ],
   "source": [
    "if len(excluded_features_columns) > 0:\n",
    "    print(f\"Dropping features: {excluded_features_columns}\")\n",
    "    X_train.drop(excluded_features_columns, axis=1, inplace=True)"
   ]
  },
  {
   "cell_type": "code",
   "execution_count": 23,
   "id": "95ab8b16",
   "metadata": {
    "execution": {
     "iopub.execute_input": "2025-08-05T20:57:55.620649Z",
     "iopub.status.busy": "2025-08-05T20:57:55.619965Z",
     "iopub.status.idle": "2025-08-05T20:57:55.674755Z",
     "shell.execute_reply": "2025-08-05T20:57:55.673544Z"
    },
    "papermill": {
     "duration": 0.077267,
     "end_time": "2025-08-05T20:57:55.677464",
     "exception": false,
     "start_time": "2025-08-05T20:57:55.600197",
     "status": "completed"
    },
    "tags": []
   },
   "outputs": [
    {
     "name": "stdout",
     "output_type": "stream",
     "text": [
      "Dropping features: ['maxdeutsch1', 'maxdeutsch.Missing.', 'frau1']\n"
     ]
    }
   ],
   "source": [
    "if len(excluded_features_columns) > 0:\n",
    "    print(f\"Dropping features: {excluded_features_columns}\")\n",
    "    X_test.drop(excluded_features_columns, axis=1, inplace=True)"
   ]
  },
  {
   "cell_type": "code",
   "execution_count": 24,
   "id": "1853aaf5-fb9f-46cb-a2b5-8ea4ae2237e4",
   "metadata": {
    "execution": {
     "iopub.execute_input": "2025-08-05T20:57:55.732450Z",
     "iopub.status.busy": "2025-08-05T20:57:55.731687Z",
     "iopub.status.idle": "2025-08-05T20:57:55.812434Z",
     "shell.execute_reply": "2025-08-05T20:57:55.811154Z"
    },
    "papermill": {
     "duration": 0.116871,
     "end_time": "2025-08-05T20:57:55.821410",
     "exception": false,
     "start_time": "2025-08-05T20:57:55.704539",
     "status": "completed"
    },
    "tags": []
   },
   "outputs": [
    {
     "name": "stdout",
     "output_type": "stream",
     "text": [
      "Dropping features: ['maxdeutsch1', 'maxdeutsch.Missing.', 'frau1']\n"
     ]
    }
   ],
   "source": [
    "if len(excluded_features_columns) > 0:\n",
    "    print(f\"Dropping features: {excluded_features_columns}\")\n",
    "    X_calib.drop(excluded_features_columns, axis=1, inplace=True)"
   ]
  },
  {
   "cell_type": "code",
   "execution_count": 25,
   "id": "76c4dc6d",
   "metadata": {
    "execution": {
     "iopub.execute_input": "2025-08-05T20:57:55.863317Z",
     "iopub.status.busy": "2025-08-05T20:57:55.862101Z",
     "iopub.status.idle": "2025-08-05T20:57:55.869396Z",
     "shell.execute_reply": "2025-08-05T20:57:55.868129Z"
    },
    "papermill": {
     "duration": 0.029788,
     "end_time": "2025-08-05T20:57:55.872043",
     "exception": false,
     "start_time": "2025-08-05T20:57:55.842255",
     "status": "completed"
    },
    "tags": []
   },
   "outputs": [],
   "source": [
    "# EXCLUDE CERTAIN SUBGROUPS\n",
    "# ----------------------\n",
    "\n",
    "mode = universe.get(\"exclude_subgroups\", \"keep-all\") \n",
    "# Fetches the exclude_subgroups setting from the universe dict.\n",
    "# Defaults to \"keep-all\" if the key is missing."
   ]
  },
  {
   "cell_type": "code",
   "execution_count": 26,
   "id": "21994072",
   "metadata": {
    "execution": {
     "iopub.execute_input": "2025-08-05T20:57:55.934134Z",
     "iopub.status.busy": "2025-08-05T20:57:55.932730Z",
     "iopub.status.idle": "2025-08-05T20:57:55.943120Z",
     "shell.execute_reply": "2025-08-05T20:57:55.941471Z"
    },
    "papermill": {
     "duration": 0.041315,
     "end_time": "2025-08-05T20:57:55.945749",
     "exception": false,
     "start_time": "2025-08-05T20:57:55.904434",
     "status": "completed"
    },
    "tags": []
   },
   "outputs": [],
   "source": [
    "if mode == \"keep-all\":\n",
    "    keep_mask = pd.Series(True, index=org_train.index)\n",
    "\n",
    "# org_train contains the original feature columns from features_org (in Simson)\n",
    "# features_org contains unprocessed features, for me X_train at beginning ???\n",
    "# For keep-all, creates a boolean Series (keep_mask) of all True, so no rows are removed.\n",
    "\n",
    "elif mode == \"drop-non-german\":\n",
    "    keep_mask = org_train[\"maxdeutsch1\"] == 1 # ??? what about missing values?\n",
    "\n",
    "else:\n",
    "    raise ValueError(f\"Unsupported mode for exclude_subgroups: {mode}\")"
   ]
  },
  {
   "cell_type": "code",
   "execution_count": 27,
   "id": "71651440",
   "metadata": {
    "execution": {
     "iopub.execute_input": "2025-08-05T20:57:56.002536Z",
     "iopub.status.busy": "2025-08-05T20:57:56.001414Z",
     "iopub.status.idle": "2025-08-05T20:57:56.011612Z",
     "shell.execute_reply": "2025-08-05T20:57:56.010122Z"
    },
    "papermill": {
     "duration": 0.041423,
     "end_time": "2025-08-05T20:57:56.014425",
     "exception": false,
     "start_time": "2025-08-05T20:57:55.973002",
     "status": "completed"
    },
    "tags": []
   },
   "outputs": [
    {
     "name": "stdout",
     "output_type": "stream",
     "text": [
      "Dropping 3481 rows (13.92%) where mode='drop-non-german'\n"
     ]
    }
   ],
   "source": [
    "n_drop = (~keep_mask).sum() # Calculates how many rows are set to be dropped\n",
    "if n_drop > 0:\n",
    "    pct = n_drop / len(keep_mask) * 100\n",
    "    print(f\"Dropping {n_drop} rows ({pct:.2f}%) where mode='{mode}'\")"
   ]
  },
  {
   "cell_type": "code",
   "execution_count": 28,
   "id": "5fb8eee5",
   "metadata": {
    "execution": {
     "iopub.execute_input": "2025-08-05T20:57:56.077787Z",
     "iopub.status.busy": "2025-08-05T20:57:56.076507Z",
     "iopub.status.idle": "2025-08-05T20:57:56.110432Z",
     "shell.execute_reply": "2025-08-05T20:57:56.108895Z"
    },
    "papermill": {
     "duration": 0.068444,
     "end_time": "2025-08-05T20:57:56.113297",
     "exception": false,
     "start_time": "2025-08-05T20:57:56.044853",
     "status": "completed"
    },
    "tags": []
   },
   "outputs": [],
   "source": [
    "X_train = X_train[keep_mask]"
   ]
  },
  {
   "cell_type": "code",
   "execution_count": 29,
   "id": "b202bb3a",
   "metadata": {
    "execution": {
     "iopub.execute_input": "2025-08-05T20:57:56.169197Z",
     "iopub.status.busy": "2025-08-05T20:57:56.168221Z",
     "iopub.status.idle": "2025-08-05T20:57:56.177373Z",
     "shell.execute_reply": "2025-08-05T20:57:56.175855Z"
    },
    "papermill": {
     "duration": 0.039515,
     "end_time": "2025-08-05T20:57:56.179671",
     "exception": false,
     "start_time": "2025-08-05T20:57:56.140156",
     "status": "completed"
    },
    "tags": []
   },
   "outputs": [],
   "source": [
    "y_train = y_train[keep_mask]"
   ]
  },
  {
   "cell_type": "markdown",
   "id": "493e2ac3",
   "metadata": {
    "papermill": {
     "duration": 0.026494,
     "end_time": "2025-08-05T20:57:56.233418",
     "exception": false,
     "start_time": "2025-08-05T20:57:56.206924",
     "status": "completed"
    },
    "tags": []
   },
   "source": [
    "# Model Training"
   ]
  },
  {
   "cell_type": "code",
   "execution_count": 30,
   "id": "679e1268",
   "metadata": {
    "execution": {
     "iopub.execute_input": "2025-08-05T20:57:56.288387Z",
     "iopub.status.busy": "2025-08-05T20:57:56.287840Z",
     "iopub.status.idle": "2025-08-05T20:57:56.377311Z",
     "shell.execute_reply": "2025-08-05T20:57:56.376532Z"
    },
    "papermill": {
     "duration": 0.119797,
     "end_time": "2025-08-05T20:57:56.379591",
     "exception": false,
     "start_time": "2025-08-05T20:57:56.259794",
     "status": "completed"
    },
    "tags": []
   },
   "outputs": [],
   "source": [
    "from sklearn.linear_model import LogisticRegression\n",
    "from sklearn.ensemble import GradientBoostingClassifier, RandomForestClassifier\n",
    "\n",
    "if (universe[\"model\"] == \"logreg\"):\n",
    "    model = LogisticRegression() #penalty=\"none\", solver=\"newton-cg\", max_iter=1) # include random_state=19 ?\n",
    "elif (universe[\"model\"] == \"penalized_logreg\"):\n",
    "    model = LogisticRegression(penalty=\"l2\", C=0.1) #, solver=\"newton-cg\", max_iter=1)\n",
    "elif (universe[\"model\"] == \"rf\"):\n",
    "    model = RandomForestClassifier() # n_estimators=100, n_jobs=-1\n",
    "elif (universe[\"model\"] == \"gbm\"):\n",
    "    model = GradientBoostingClassifier()\n",
    "elif (universe[\"model\"] == \"elasticnet\"):\n",
    "    model = LogisticRegression(penalty = 'elasticnet', solver = 'saga', l1_ratio = 0.5) # max_iter=5000\n",
    "else:\n",
    "    raise \"Unsupported universe.model\""
   ]
  },
  {
   "cell_type": "code",
   "execution_count": 31,
   "id": "0cc8f744",
   "metadata": {
    "execution": {
     "iopub.execute_input": "2025-08-05T20:57:56.412324Z",
     "iopub.status.busy": "2025-08-05T20:57:56.411466Z",
     "iopub.status.idle": "2025-08-05T20:57:56.417124Z",
     "shell.execute_reply": "2025-08-05T20:57:56.416273Z"
    },
    "papermill": {
     "duration": 0.017892,
     "end_time": "2025-08-05T20:57:56.418482",
     "exception": false,
     "start_time": "2025-08-05T20:57:56.400590",
     "status": "completed"
    },
    "tags": []
   },
   "outputs": [],
   "source": [
    "import numpy as np\n",
    "from sklearn.pipeline import Pipeline\n",
    "from sklearn.preprocessing import StandardScaler\n",
    "\n",
    "model = Pipeline([\n",
    "    #(\"continuous_processor\", continuous_processor),\n",
    "    #(\"categorical_preprocessor\", categorical_preprocessor),\n",
    "    (\"scale\", StandardScaler() if universe[\"scale\"] == \"scale\" else None), \n",
    "    (\"model\", model),\n",
    "])"
   ]
  },
  {
   "cell_type": "code",
   "execution_count": 32,
   "id": "9442c04d",
   "metadata": {
    "execution": {
     "iopub.execute_input": "2025-08-05T20:57:56.441365Z",
     "iopub.status.busy": "2025-08-05T20:57:56.440642Z",
     "iopub.status.idle": "2025-08-05T20:57:56.962987Z",
     "shell.execute_reply": "2025-08-05T20:57:56.962250Z"
    },
    "papermill": {
     "duration": 0.534675,
     "end_time": "2025-08-05T20:57:56.964270",
     "exception": false,
     "start_time": "2025-08-05T20:57:56.429595",
     "status": "completed"
    },
    "tags": []
   },
   "outputs": [
    {
     "name": "stderr",
     "output_type": "stream",
     "text": [
      "/dss/dsshome1/0C/ra93lal2/.local/share/virtualenvs/CMA_Fairness_v2-3j10GkSs/lib/python3.10/site-packages/sklearn/linear_model/_logistic.py:444: ConvergenceWarning: lbfgs failed to converge (status=1):\n",
      "STOP: TOTAL NO. of ITERATIONS REACHED LIMIT.\n",
      "\n",
      "Increase the number of iterations (max_iter) or scale the data as shown in:\n",
      "    https://scikit-learn.org/stable/modules/preprocessing.html\n",
      "Please also refer to the documentation for alternative solver options:\n",
      "    https://scikit-learn.org/stable/modules/linear_model.html#logistic-regression\n",
      "  n_iter_i = _check_optimize_result(\n"
     ]
    },
    {
     "data": {
      "text/html": [
       "<style>#sk-container-id-1 {color: black;background-color: white;}#sk-container-id-1 pre{padding: 0;}#sk-container-id-1 div.sk-toggleable {background-color: white;}#sk-container-id-1 label.sk-toggleable__label {cursor: pointer;display: block;width: 100%;margin-bottom: 0;padding: 0.3em;box-sizing: border-box;text-align: center;}#sk-container-id-1 label.sk-toggleable__label-arrow:before {content: \"▸\";float: left;margin-right: 0.25em;color: #696969;}#sk-container-id-1 label.sk-toggleable__label-arrow:hover:before {color: black;}#sk-container-id-1 div.sk-estimator:hover label.sk-toggleable__label-arrow:before {color: black;}#sk-container-id-1 div.sk-toggleable__content {max-height: 0;max-width: 0;overflow: hidden;text-align: left;background-color: #f0f8ff;}#sk-container-id-1 div.sk-toggleable__content pre {margin: 0.2em;color: black;border-radius: 0.25em;background-color: #f0f8ff;}#sk-container-id-1 input.sk-toggleable__control:checked~div.sk-toggleable__content {max-height: 200px;max-width: 100%;overflow: auto;}#sk-container-id-1 input.sk-toggleable__control:checked~label.sk-toggleable__label-arrow:before {content: \"▾\";}#sk-container-id-1 div.sk-estimator input.sk-toggleable__control:checked~label.sk-toggleable__label {background-color: #d4ebff;}#sk-container-id-1 div.sk-label input.sk-toggleable__control:checked~label.sk-toggleable__label {background-color: #d4ebff;}#sk-container-id-1 input.sk-hidden--visually {border: 0;clip: rect(1px 1px 1px 1px);clip: rect(1px, 1px, 1px, 1px);height: 1px;margin: -1px;overflow: hidden;padding: 0;position: absolute;width: 1px;}#sk-container-id-1 div.sk-estimator {font-family: monospace;background-color: #f0f8ff;border: 1px dotted black;border-radius: 0.25em;box-sizing: border-box;margin-bottom: 0.5em;}#sk-container-id-1 div.sk-estimator:hover {background-color: #d4ebff;}#sk-container-id-1 div.sk-parallel-item::after {content: \"\";width: 100%;border-bottom: 1px solid gray;flex-grow: 1;}#sk-container-id-1 div.sk-label:hover label.sk-toggleable__label {background-color: #d4ebff;}#sk-container-id-1 div.sk-serial::before {content: \"\";position: absolute;border-left: 1px solid gray;box-sizing: border-box;top: 0;bottom: 0;left: 50%;z-index: 0;}#sk-container-id-1 div.sk-serial {display: flex;flex-direction: column;align-items: center;background-color: white;padding-right: 0.2em;padding-left: 0.2em;position: relative;}#sk-container-id-1 div.sk-item {position: relative;z-index: 1;}#sk-container-id-1 div.sk-parallel {display: flex;align-items: stretch;justify-content: center;background-color: white;position: relative;}#sk-container-id-1 div.sk-item::before, #sk-container-id-1 div.sk-parallel-item::before {content: \"\";position: absolute;border-left: 1px solid gray;box-sizing: border-box;top: 0;bottom: 0;left: 50%;z-index: -1;}#sk-container-id-1 div.sk-parallel-item {display: flex;flex-direction: column;z-index: 1;position: relative;background-color: white;}#sk-container-id-1 div.sk-parallel-item:first-child::after {align-self: flex-end;width: 50%;}#sk-container-id-1 div.sk-parallel-item:last-child::after {align-self: flex-start;width: 50%;}#sk-container-id-1 div.sk-parallel-item:only-child::after {width: 0;}#sk-container-id-1 div.sk-dashed-wrapped {border: 1px dashed gray;margin: 0 0.4em 0.5em 0.4em;box-sizing: border-box;padding-bottom: 0.4em;background-color: white;}#sk-container-id-1 div.sk-label label {font-family: monospace;font-weight: bold;display: inline-block;line-height: 1.2em;}#sk-container-id-1 div.sk-label-container {text-align: center;}#sk-container-id-1 div.sk-container {/* jupyter's `normalize.less` sets `[hidden] { display: none; }` but bootstrap.min.css set `[hidden] { display: none !important; }` so we also need the `!important` here to be able to override the default hidden behavior on the sphinx rendered scikit-learn.org. See: https://github.com/scikit-learn/scikit-learn/issues/21755 */display: inline-block !important;position: relative;}#sk-container-id-1 div.sk-text-repr-fallback {display: none;}</style><div id=\"sk-container-id-1\" class=\"sk-top-container\"><div class=\"sk-text-repr-fallback\"><pre>Pipeline(steps=[(&#x27;scale&#x27;, None), (&#x27;model&#x27;, LogisticRegression())])</pre><b>In a Jupyter environment, please rerun this cell to show the HTML representation or trust the notebook. <br />On GitHub, the HTML representation is unable to render, please try loading this page with nbviewer.org.</b></div><div class=\"sk-container\" hidden><div class=\"sk-item sk-dashed-wrapped\"><div class=\"sk-label-container\"><div class=\"sk-label sk-toggleable\"><input class=\"sk-toggleable__control sk-hidden--visually\" id=\"sk-estimator-id-1\" type=\"checkbox\" ><label for=\"sk-estimator-id-1\" class=\"sk-toggleable__label sk-toggleable__label-arrow\">Pipeline</label><div class=\"sk-toggleable__content\"><pre>Pipeline(steps=[(&#x27;scale&#x27;, None), (&#x27;model&#x27;, LogisticRegression())])</pre></div></div></div><div class=\"sk-serial\"><div class=\"sk-item\"><div class=\"sk-estimator sk-toggleable\"><input class=\"sk-toggleable__control sk-hidden--visually\" id=\"sk-estimator-id-2\" type=\"checkbox\" ><label for=\"sk-estimator-id-2\" class=\"sk-toggleable__label sk-toggleable__label-arrow\">None</label><div class=\"sk-toggleable__content\"><pre>None</pre></div></div></div><div class=\"sk-item\"><div class=\"sk-estimator sk-toggleable\"><input class=\"sk-toggleable__control sk-hidden--visually\" id=\"sk-estimator-id-3\" type=\"checkbox\" ><label for=\"sk-estimator-id-3\" class=\"sk-toggleable__label sk-toggleable__label-arrow\">LogisticRegression</label><div class=\"sk-toggleable__content\"><pre>LogisticRegression()</pre></div></div></div></div></div></div></div>"
      ],
      "text/plain": [
       "Pipeline(steps=[('scale', None), ('model', LogisticRegression())])"
      ]
     },
     "execution_count": 32,
     "metadata": {},
     "output_type": "execute_result"
    }
   ],
   "source": [
    "model.fit(X_train, y_train.values.ravel())"
   ]
  },
  {
   "cell_type": "code",
   "execution_count": 33,
   "id": "af59f8c0",
   "metadata": {
    "execution": {
     "iopub.execute_input": "2025-08-05T20:57:56.987364Z",
     "iopub.status.busy": "2025-08-05T20:57:56.986619Z",
     "iopub.status.idle": "2025-08-05T20:57:56.991519Z",
     "shell.execute_reply": "2025-08-05T20:57:56.990741Z"
    },
    "papermill": {
     "duration": 0.01792,
     "end_time": "2025-08-05T20:57:56.992985",
     "exception": false,
     "start_time": "2025-08-05T20:57:56.975065",
     "status": "completed"
    },
    "tags": []
   },
   "outputs": [],
   "source": [
    "from fairness_multiverse.universe import predict_w_threshold"
   ]
  },
  {
   "cell_type": "code",
   "execution_count": 34,
   "id": "a7cf2e16",
   "metadata": {
    "execution": {
     "iopub.execute_input": "2025-08-05T20:57:57.016735Z",
     "iopub.status.busy": "2025-08-05T20:57:57.016211Z",
     "iopub.status.idle": "2025-08-05T20:57:57.099976Z",
     "shell.execute_reply": "2025-08-05T20:57:57.099227Z"
    },
    "papermill": {
     "duration": 0.096694,
     "end_time": "2025-08-05T20:57:57.101300",
     "exception": false,
     "start_time": "2025-08-05T20:57:57.004606",
     "status": "completed"
    },
    "tags": []
   },
   "outputs": [
    {
     "data": {
      "text/plain": [
       "0.8616988072678631"
      ]
     },
     "execution_count": 34,
     "metadata": {},
     "output_type": "execute_result"
    }
   ],
   "source": [
    "probs_test = model.predict_proba(X_test)\n",
    "\n",
    "'''\n",
    "Below code returns a boolean array (or binary 0/1 array depending on how it’s used) where each element \n",
    "is True if the probability of class 1 is greater than or equal to the threshold, and False otherwise.\n",
    "'''\n",
    "y_pred_default = predict_w_threshold(probs_test, 0.5)\n",
    "\n",
    "from sklearn.metrics import accuracy_score\n",
    "\n",
    "# Naive prediction\n",
    "accuracy_score(y_true = y_true, y_pred = y_pred_default)"
   ]
  },
  {
   "cell_type": "code",
   "execution_count": 35,
   "id": "081964c3",
   "metadata": {
    "execution": {
     "iopub.execute_input": "2025-08-05T20:57:57.123641Z",
     "iopub.status.busy": "2025-08-05T20:57:57.123285Z",
     "iopub.status.idle": "2025-08-05T20:57:57.198164Z",
     "shell.execute_reply": "2025-08-05T20:57:57.197073Z"
    },
    "papermill": {
     "duration": 0.087406,
     "end_time": "2025-08-05T20:57:57.199488",
     "exception": false,
     "start_time": "2025-08-05T20:57:57.112082",
     "status": "completed"
    },
    "tags": []
   },
   "outputs": [
    {
     "data": {
      "text/plain": [
       "array([0, 0, 0, ..., 0, 0, 0])"
      ]
     },
     "execution_count": 35,
     "metadata": {},
     "output_type": "execute_result"
    }
   ],
   "source": [
    "model.predict(X_test)"
   ]
  },
  {
   "cell_type": "markdown",
   "id": "56c9705b",
   "metadata": {
    "papermill": {
     "duration": 0.01056,
     "end_time": "2025-08-05T20:57:57.220873",
     "exception": false,
     "start_time": "2025-08-05T20:57:57.210313",
     "status": "completed"
    },
    "tags": []
   },
   "source": [
    "# Conformal Prediction"
   ]
  },
  {
   "cell_type": "code",
   "execution_count": 36,
   "id": "160ec6ff",
   "metadata": {
    "execution": {
     "iopub.execute_input": "2025-08-05T20:57:57.243956Z",
     "iopub.status.busy": "2025-08-05T20:57:57.243523Z",
     "iopub.status.idle": "2025-08-05T20:57:57.248180Z",
     "shell.execute_reply": "2025-08-05T20:57:57.247424Z"
    },
    "papermill": {
     "duration": 0.018108,
     "end_time": "2025-08-05T20:57:57.249690",
     "exception": false,
     "start_time": "2025-08-05T20:57:57.231582",
     "status": "completed"
    },
    "tags": []
   },
   "outputs": [],
   "source": [
    "# Miscoverage level for conformal prediction (10% allowed error rate => 90% target coverage)\n",
    "alpha = 0.1"
   ]
  },
  {
   "cell_type": "code",
   "execution_count": 37,
   "id": "eadf4555-3dd3-440e-8e35-f82a4ad9f855",
   "metadata": {
    "execution": {
     "iopub.execute_input": "2025-08-05T20:57:57.280240Z",
     "iopub.status.busy": "2025-08-05T20:57:57.279294Z",
     "iopub.status.idle": "2025-08-05T20:57:57.391391Z",
     "shell.execute_reply": "2025-08-05T20:57:57.390084Z"
    },
    "papermill": {
     "duration": 0.132149,
     "end_time": "2025-08-05T20:57:57.393892",
     "exception": false,
     "start_time": "2025-08-05T20:57:57.261743",
     "status": "completed"
    },
    "tags": []
   },
   "outputs": [],
   "source": [
    "probs_calib = model.predict_proba(X_calib)"
   ]
  },
  {
   "cell_type": "code",
   "execution_count": 38,
   "id": "2ed93547-6d5d-4983-9b36-1ecb300da49a",
   "metadata": {
    "execution": {
     "iopub.execute_input": "2025-08-05T20:57:57.456430Z",
     "iopub.status.busy": "2025-08-05T20:57:57.455636Z",
     "iopub.status.idle": "2025-08-05T20:57:57.462512Z",
     "shell.execute_reply": "2025-08-05T20:57:57.461330Z"
    },
    "papermill": {
     "duration": 0.040408,
     "end_time": "2025-08-05T20:57:57.464742",
     "exception": false,
     "start_time": "2025-08-05T20:57:57.424334",
     "status": "completed"
    },
    "tags": []
   },
   "outputs": [],
   "source": [
    "y_calib = y_calib.values.ravel().astype(int)"
   ]
  },
  {
   "cell_type": "code",
   "execution_count": 39,
   "id": "65d1320d-f588-4b38-9072-62af1ae97f7d",
   "metadata": {
    "execution": {
     "iopub.execute_input": "2025-08-05T20:57:57.513321Z",
     "iopub.status.busy": "2025-08-05T20:57:57.512450Z",
     "iopub.status.idle": "2025-08-05T20:57:57.523060Z",
     "shell.execute_reply": "2025-08-05T20:57:57.521391Z"
    },
    "papermill": {
     "duration": 0.038797,
     "end_time": "2025-08-05T20:57:57.526355",
     "exception": false,
     "start_time": "2025-08-05T20:57:57.487558",
     "status": "completed"
    },
    "tags": []
   },
   "outputs": [],
   "source": [
    "from fairness_multiverse.conformal import compute_nc_scores\n",
    "\n",
    "# Compute nonconformity scores on calibration set (1 - probability of true class)\n",
    "nc_scores = compute_nc_scores(probs_calib, y_calib)"
   ]
  },
  {
   "cell_type": "code",
   "execution_count": 40,
   "id": "df3b8ca3-53b7-43d5-9667-7c85da7aeda2",
   "metadata": {
    "execution": {
     "iopub.execute_input": "2025-08-05T20:57:57.571289Z",
     "iopub.status.busy": "2025-08-05T20:57:57.570583Z",
     "iopub.status.idle": "2025-08-05T20:57:57.576542Z",
     "shell.execute_reply": "2025-08-05T20:57:57.575815Z"
    },
    "papermill": {
     "duration": 0.021818,
     "end_time": "2025-08-05T20:57:57.578079",
     "exception": false,
     "start_time": "2025-08-05T20:57:57.556261",
     "status": "completed"
    },
    "tags": []
   },
   "outputs": [],
   "source": [
    "from fairness_multiverse.conformal import find_threshold\n",
    "\n",
    "# Find conformal threshold q_hat for the given alpha (split conformal method)\n",
    "q_hat = find_threshold(nc_scores, alpha)"
   ]
  },
  {
   "cell_type": "code",
   "execution_count": 41,
   "id": "4d29e6c1-0ef6-4aa4-b8fe-4fe79b0d033a",
   "metadata": {
    "execution": {
     "iopub.execute_input": "2025-08-05T20:57:57.600097Z",
     "iopub.status.busy": "2025-08-05T20:57:57.599791Z",
     "iopub.status.idle": "2025-08-05T20:57:57.606629Z",
     "shell.execute_reply": "2025-08-05T20:57:57.605887Z"
    },
    "papermill": {
     "duration": 0.019271,
     "end_time": "2025-08-05T20:57:57.608368",
     "exception": false,
     "start_time": "2025-08-05T20:57:57.589097",
     "status": "completed"
    },
    "tags": []
   },
   "outputs": [
    {
     "data": {
      "text/plain": [
       "0.6642221179313587"
      ]
     },
     "execution_count": 41,
     "metadata": {},
     "output_type": "execute_result"
    }
   ],
   "source": [
    "q_hat"
   ]
  },
  {
   "cell_type": "code",
   "execution_count": 42,
   "id": "92460794-cdac-4be2-ba28-f28c0515a6fb",
   "metadata": {
    "execution": {
     "iopub.execute_input": "2025-08-05T20:57:57.652949Z",
     "iopub.status.busy": "2025-08-05T20:57:57.652501Z",
     "iopub.status.idle": "2025-08-05T20:57:58.416082Z",
     "shell.execute_reply": "2025-08-05T20:57:58.415348Z"
    },
    "papermill": {
     "duration": 0.790809,
     "end_time": "2025-08-05T20:57:58.417996",
     "exception": false,
     "start_time": "2025-08-05T20:57:57.627187",
     "status": "completed"
    },
    "tags": []
   },
   "outputs": [],
   "source": [
    "from fairness_multiverse.conformal import predict_conformal_sets\n",
    "\n",
    "# Generate prediction sets for each test example\n",
    "pred_sets = predict_conformal_sets(model, X_test, q_hat)"
   ]
  },
  {
   "cell_type": "code",
   "execution_count": 43,
   "id": "d90c9a65-e6db-4f5d-80cd-e68fb7e46829",
   "metadata": {
    "execution": {
     "iopub.execute_input": "2025-08-05T20:57:58.483137Z",
     "iopub.status.busy": "2025-08-05T20:57:58.482281Z",
     "iopub.status.idle": "2025-08-05T20:57:58.488490Z",
     "shell.execute_reply": "2025-08-05T20:57:58.487316Z"
    },
    "papermill": {
     "duration": 0.032362,
     "end_time": "2025-08-05T20:57:58.490164",
     "exception": false,
     "start_time": "2025-08-05T20:57:58.457802",
     "status": "completed"
    },
    "tags": []
   },
   "outputs": [],
   "source": [
    "y_true = y_true.squeeze()"
   ]
  },
  {
   "cell_type": "code",
   "execution_count": 44,
   "id": "3a58a54a-1e68-46b9-927a-df01f18aebc8",
   "metadata": {
    "execution": {
     "iopub.execute_input": "2025-08-05T20:57:58.535453Z",
     "iopub.status.busy": "2025-08-05T20:57:58.534763Z",
     "iopub.status.idle": "2025-08-05T20:57:59.472117Z",
     "shell.execute_reply": "2025-08-05T20:57:59.470997Z"
    },
    "papermill": {
     "duration": 0.962685,
     "end_time": "2025-08-05T20:57:59.474407",
     "exception": false,
     "start_time": "2025-08-05T20:57:58.511722",
     "status": "completed"
    },
    "tags": []
   },
   "outputs": [],
   "source": [
    "from fairness_multiverse.conformal import evaluate_sets\n",
    "\n",
    "# Evaluate coverage and average set size on test data\n",
    "metrics = evaluate_sets(pred_sets, y_true)"
   ]
  },
  {
   "cell_type": "markdown",
   "id": "2b569c12-9aaa-4c88-98c9-bbcd0cf3ebb8",
   "metadata": {
    "papermill": {
     "duration": 0.022499,
     "end_time": "2025-08-05T20:57:59.518018",
     "exception": false,
     "start_time": "2025-08-05T20:57:59.495519",
     "status": "completed"
    },
    "tags": []
   },
   "source": [
    "# CP Metrics"
   ]
  },
  {
   "cell_type": "code",
   "execution_count": 45,
   "id": "5ce0a5cb-201f-45a0-ade5-94c7f0bd6095",
   "metadata": {
    "execution": {
     "iopub.execute_input": "2025-08-05T20:57:59.562284Z",
     "iopub.status.busy": "2025-08-05T20:57:59.561590Z",
     "iopub.status.idle": "2025-08-05T20:57:59.571525Z",
     "shell.execute_reply": "2025-08-05T20:57:59.570058Z"
    },
    "papermill": {
     "duration": 0.034952,
     "end_time": "2025-08-05T20:57:59.573384",
     "exception": false,
     "start_time": "2025-08-05T20:57:59.538432",
     "status": "completed"
    },
    "tags": []
   },
   "outputs": [
    {
     "data": {
      "text/plain": [
       "{'coverage': 0.9123063203656225, 'avg_size': 1.2164530152714301}"
      ]
     },
     "execution_count": 45,
     "metadata": {},
     "output_type": "execute_result"
    }
   ],
   "source": [
    "metrics"
   ]
  },
  {
   "cell_type": "code",
   "execution_count": 46,
   "id": "9b9a838d-31c9-430b-ae14-12baee460d17",
   "metadata": {
    "execution": {
     "iopub.execute_input": "2025-08-05T20:57:59.619998Z",
     "iopub.status.busy": "2025-08-05T20:57:59.619246Z",
     "iopub.status.idle": "2025-08-05T20:57:59.628208Z",
     "shell.execute_reply": "2025-08-05T20:57:59.626915Z"
    },
    "papermill": {
     "duration": 0.034769,
     "end_time": "2025-08-05T20:57:59.630380",
     "exception": false,
     "start_time": "2025-08-05T20:57:59.595611",
     "status": "completed"
    },
    "tags": []
   },
   "outputs": [],
   "source": [
    "example_universe = universe.copy()\n",
    "universe_training_year = example_universe.get(\"training_year\")\n",
    "universe_training_size = example_universe.get(\"training_size\")\n",
    "universe_scale = example_universe.get(\"scale\")\n",
    "universe_model = example_universe.get(\"model\")\n",
    "universe_exclude_features = example_universe.get(\"exclude_features\")\n",
    "universe_exclude_subgroups = example_universe.get(\"exclude_subgroups\")"
   ]
  },
  {
   "cell_type": "code",
   "execution_count": 47,
   "id": "f4b6a8ac-9dc0-4245-8a91-5b3b5999c4f9",
   "metadata": {
    "execution": {
     "iopub.execute_input": "2025-08-05T20:57:59.674261Z",
     "iopub.status.busy": "2025-08-05T20:57:59.673323Z",
     "iopub.status.idle": "2025-08-05T20:57:59.680467Z",
     "shell.execute_reply": "2025-08-05T20:57:59.679412Z"
    },
    "papermill": {
     "duration": 0.030267,
     "end_time": "2025-08-05T20:57:59.682259",
     "exception": false,
     "start_time": "2025-08-05T20:57:59.651992",
     "status": "completed"
    },
    "tags": []
   },
   "outputs": [],
   "source": [
    "cp_metrics_dict = {\n",
    "    \"universe_id\": [universe_id],\n",
    "    \"universe_training_year\": [universe_training_year],\n",
    "    \"universe_training_size\": [universe_training_size],\n",
    "    \"universe_scale\": [universe_scale],\n",
    "    \"universe_model\": [universe_model],\n",
    "    \"universe_exclude_features\": [universe_exclude_features],\n",
    "    \"universe_exclude_subgroups\": [universe_exclude_subgroups],\n",
    "    \"q_hat\": [q_hat],\n",
    "    \"coverage\": [metrics[\"coverage\"]],\n",
    "    \"avg_size\": [metrics[\"avg_size\"]],\n",
    "}"
   ]
  },
  {
   "cell_type": "code",
   "execution_count": 48,
   "id": "908acbb1-0371-4915-85ca-3fa520d2efe2",
   "metadata": {
    "execution": {
     "iopub.execute_input": "2025-08-05T20:57:59.729369Z",
     "iopub.status.busy": "2025-08-05T20:57:59.728771Z",
     "iopub.status.idle": "2025-08-05T20:57:59.739331Z",
     "shell.execute_reply": "2025-08-05T20:57:59.738112Z"
    },
    "papermill": {
     "duration": 0.03611,
     "end_time": "2025-08-05T20:57:59.741441",
     "exception": false,
     "start_time": "2025-08-05T20:57:59.705331",
     "status": "completed"
    },
    "tags": []
   },
   "outputs": [
    {
     "data": {
      "text/plain": [
       "{'universe_id': ['93bd0f17fb064abb964e1eaaba59343b'],\n",
       " 'universe_training_year': ['2012_14'],\n",
       " 'universe_training_size': ['25k'],\n",
       " 'universe_scale': ['do-not-scale'],\n",
       " 'universe_model': ['logreg'],\n",
       " 'universe_exclude_features': ['nationality-sex'],\n",
       " 'universe_exclude_subgroups': ['drop-non-german'],\n",
       " 'q_hat': [0.6642221179313587],\n",
       " 'coverage': [0.9123063203656225],\n",
       " 'avg_size': [1.2164530152714301]}"
      ]
     },
     "execution_count": 48,
     "metadata": {},
     "output_type": "execute_result"
    }
   ],
   "source": [
    "cp_metrics_dict"
   ]
  },
  {
   "cell_type": "code",
   "execution_count": 49,
   "id": "33007efc-14e9-4ec6-97ac-56a455c82265",
   "metadata": {
    "execution": {
     "iopub.execute_input": "2025-08-05T20:57:59.788426Z",
     "iopub.status.busy": "2025-08-05T20:57:59.787761Z",
     "iopub.status.idle": "2025-08-05T20:57:59.794977Z",
     "shell.execute_reply": "2025-08-05T20:57:59.793929Z"
    },
    "papermill": {
     "duration": 0.032634,
     "end_time": "2025-08-05T20:57:59.796788",
     "exception": false,
     "start_time": "2025-08-05T20:57:59.764154",
     "status": "completed"
    },
    "tags": []
   },
   "outputs": [],
   "source": [
    "cp_metrics_df = pd.DataFrame(cp_metrics_dict)"
   ]
  },
  {
   "cell_type": "code",
   "execution_count": 50,
   "id": "db12611b-57b2-4910-b9d0-355adfd6e7bf",
   "metadata": {
    "execution": {
     "iopub.execute_input": "2025-08-05T20:57:59.842898Z",
     "iopub.status.busy": "2025-08-05T20:57:59.842402Z",
     "iopub.status.idle": "2025-08-05T20:57:59.861147Z",
     "shell.execute_reply": "2025-08-05T20:57:59.860093Z"
    },
    "papermill": {
     "duration": 0.04461,
     "end_time": "2025-08-05T20:57:59.863482",
     "exception": false,
     "start_time": "2025-08-05T20:57:59.818872",
     "status": "completed"
    },
    "tags": []
   },
   "outputs": [
    {
     "data": {
      "text/html": [
       "<div>\n",
       "<style scoped>\n",
       "    .dataframe tbody tr th:only-of-type {\n",
       "        vertical-align: middle;\n",
       "    }\n",
       "\n",
       "    .dataframe tbody tr th {\n",
       "        vertical-align: top;\n",
       "    }\n",
       "\n",
       "    .dataframe thead th {\n",
       "        text-align: right;\n",
       "    }\n",
       "</style>\n",
       "<table border=\"1\" class=\"dataframe\">\n",
       "  <thead>\n",
       "    <tr style=\"text-align: right;\">\n",
       "      <th></th>\n",
       "      <th>universe_id</th>\n",
       "      <th>universe_training_year</th>\n",
       "      <th>universe_training_size</th>\n",
       "      <th>universe_scale</th>\n",
       "      <th>universe_model</th>\n",
       "      <th>universe_exclude_features</th>\n",
       "      <th>universe_exclude_subgroups</th>\n",
       "      <th>q_hat</th>\n",
       "      <th>coverage</th>\n",
       "      <th>avg_size</th>\n",
       "    </tr>\n",
       "  </thead>\n",
       "  <tbody>\n",
       "    <tr>\n",
       "      <th>0</th>\n",
       "      <td>93bd0f17fb064abb964e1eaaba59343b</td>\n",
       "      <td>2012_14</td>\n",
       "      <td>25k</td>\n",
       "      <td>do-not-scale</td>\n",
       "      <td>logreg</td>\n",
       "      <td>nationality-sex</td>\n",
       "      <td>drop-non-german</td>\n",
       "      <td>0.664222</td>\n",
       "      <td>0.912306</td>\n",
       "      <td>1.216453</td>\n",
       "    </tr>\n",
       "  </tbody>\n",
       "</table>\n",
       "</div>"
      ],
      "text/plain": [
       "                        universe_id universe_training_year  \\\n",
       "0  93bd0f17fb064abb964e1eaaba59343b                2012_14   \n",
       "\n",
       "  universe_training_size universe_scale universe_model  \\\n",
       "0                    25k   do-not-scale         logreg   \n",
       "\n",
       "  universe_exclude_features universe_exclude_subgroups     q_hat  coverage  \\\n",
       "0           nationality-sex            drop-non-german  0.664222  0.912306   \n",
       "\n",
       "   avg_size  \n",
       "0  1.216453  "
      ]
     },
     "execution_count": 50,
     "metadata": {},
     "output_type": "execute_result"
    }
   ],
   "source": [
    "cp_metrics_df"
   ]
  },
  {
   "cell_type": "code",
   "execution_count": 51,
   "id": "b7fbde55-a0a1-47e4-9af6-fe4a17fa8c61",
   "metadata": {
    "execution": {
     "iopub.execute_input": "2025-08-05T20:57:59.921577Z",
     "iopub.status.busy": "2025-08-05T20:57:59.921136Z",
     "iopub.status.idle": "2025-08-05T20:57:59.926619Z",
     "shell.execute_reply": "2025-08-05T20:57:59.925592Z"
    },
    "papermill": {
     "duration": 0.036272,
     "end_time": "2025-08-05T20:57:59.928345",
     "exception": false,
     "start_time": "2025-08-05T20:57:59.892073",
     "status": "completed"
    },
    "tags": []
   },
   "outputs": [],
   "source": [
    "# Conditional Coverage & looking at subgroups"
   ]
  },
  {
   "cell_type": "code",
   "execution_count": 52,
   "id": "027ae886-68dd-4141-96c7-805a5450e1ef",
   "metadata": {
    "execution": {
     "iopub.execute_input": "2025-08-05T20:57:59.981170Z",
     "iopub.status.busy": "2025-08-05T20:57:59.980372Z",
     "iopub.status.idle": "2025-08-05T20:58:00.317324Z",
     "shell.execute_reply": "2025-08-05T20:58:00.316248Z"
    },
    "papermill": {
     "duration": 0.365279,
     "end_time": "2025-08-05T20:58:00.319525",
     "exception": false,
     "start_time": "2025-08-05T20:57:59.954246",
     "status": "completed"
    },
    "tags": []
   },
   "outputs": [],
   "source": [
    "from fairness_multiverse.conformal import build_cp_groups\n",
    "\n",
    "cp_groups_df = build_cp_groups(pred_sets, y_true, X_test.index, org_test)\n",
    "#needs universe_id and setting"
   ]
  },
  {
   "cell_type": "code",
   "execution_count": 53,
   "id": "6cbdab96-b2b2-45af-ad54-d0516db2e28d",
   "metadata": {
    "execution": {
     "iopub.execute_input": "2025-08-05T20:58:00.375944Z",
     "iopub.status.busy": "2025-08-05T20:58:00.375421Z",
     "iopub.status.idle": "2025-08-05T20:58:01.467716Z",
     "shell.execute_reply": "2025-08-05T20:58:01.466806Z"
    },
    "papermill": {
     "duration": 1.123367,
     "end_time": "2025-08-05T20:58:01.469561",
     "exception": false,
     "start_time": "2025-08-05T20:58:00.346194",
     "status": "completed"
    },
    "tags": []
   },
   "outputs": [],
   "source": [
    "# Define covered = 1 if true_label is in the predicted set\n",
    "cp_groups_df['covered'] = cp_groups_df.apply(\n",
    "    lambda r: int(r['true_label'] in r['pred_set']),\n",
    "    axis=1\n",
    ")"
   ]
  },
  {
   "cell_type": "code",
   "execution_count": 54,
   "id": "338ff529-1a6b-4b87-a931-8e4788d52aad",
   "metadata": {
    "execution": {
     "iopub.execute_input": "2025-08-05T20:58:01.497657Z",
     "iopub.status.busy": "2025-08-05T20:58:01.496906Z",
     "iopub.status.idle": "2025-08-05T20:58:01.501468Z",
     "shell.execute_reply": "2025-08-05T20:58:01.500724Z"
    },
    "papermill": {
     "duration": 0.017914,
     "end_time": "2025-08-05T20:58:01.502974",
     "exception": false,
     "start_time": "2025-08-05T20:58:01.485060",
     "status": "completed"
    },
    "tags": []
   },
   "outputs": [],
   "source": [
    "#cp_groups_df"
   ]
  },
  {
   "cell_type": "code",
   "execution_count": 55,
   "id": "90032e27-66df-4540-9169-4e89cfbaa758",
   "metadata": {
    "execution": {
     "iopub.execute_input": "2025-08-05T20:58:01.527163Z",
     "iopub.status.busy": "2025-08-05T20:58:01.526681Z",
     "iopub.status.idle": "2025-08-05T20:58:01.535869Z",
     "shell.execute_reply": "2025-08-05T20:58:01.535074Z"
    },
    "papermill": {
     "duration": 0.022257,
     "end_time": "2025-08-05T20:58:01.537232",
     "exception": false,
     "start_time": "2025-08-05T20:58:01.514975",
     "status": "completed"
    },
    "tags": []
   },
   "outputs": [],
   "source": [
    "subgroups = ['frau1','nongerman','nongerman_male','nongerman_female']\n",
    "\n",
    "# Conditional coverage for subgroup==1\n",
    "cond_coverage = {\n",
    "    g: cp_groups_df.loc[cp_groups_df[g]==1, 'covered'].mean()\n",
    "    for g in subgroups\n",
    "}"
   ]
  },
  {
   "cell_type": "code",
   "execution_count": 56,
   "id": "1e348fb1-b9c3-45bc-ba23-f016827a7e0d",
   "metadata": {
    "execution": {
     "iopub.execute_input": "2025-08-05T20:58:01.562162Z",
     "iopub.status.busy": "2025-08-05T20:58:01.561436Z",
     "iopub.status.idle": "2025-08-05T20:58:01.567864Z",
     "shell.execute_reply": "2025-08-05T20:58:01.567175Z"
    },
    "papermill": {
     "duration": 0.019927,
     "end_time": "2025-08-05T20:58:01.569322",
     "exception": false,
     "start_time": "2025-08-05T20:58:01.549395",
     "status": "completed"
    },
    "tags": []
   },
   "outputs": [
    {
     "data": {
      "text/plain": [
       "{'frau1': 0.9118210001347891,\n",
       " 'nongerman': 0.9384719025430865,\n",
       " 'nongerman_male': 0.9497433126182113,\n",
       " 'nongerman_female': 0.9198211624441133}"
      ]
     },
     "execution_count": 56,
     "metadata": {},
     "output_type": "execute_result"
    }
   ],
   "source": [
    "cond_coverage"
   ]
  },
  {
   "cell_type": "code",
   "execution_count": 57,
   "id": "f5093324-c3dd-4d63-bc4c-8d945e5c8bbb",
   "metadata": {
    "execution": {
     "iopub.execute_input": "2025-08-05T20:58:01.594632Z",
     "iopub.status.busy": "2025-08-05T20:58:01.593875Z",
     "iopub.status.idle": "2025-08-05T20:58:01.599874Z",
     "shell.execute_reply": "2025-08-05T20:58:01.599128Z"
    },
    "papermill": {
     "duration": 0.019933,
     "end_time": "2025-08-05T20:58:01.601706",
     "exception": false,
     "start_time": "2025-08-05T20:58:01.581773",
     "status": "completed"
    },
    "tags": []
   },
   "outputs": [],
   "source": [
    "for subgroup, cov in cond_coverage.items():\n",
    "    cp_metrics_df[f\"cov_{subgroup}\"] = cov"
   ]
  },
  {
   "cell_type": "code",
   "execution_count": 58,
   "id": "6e872e10-dbe5-49e8-b554-5030c98ff75d",
   "metadata": {
    "execution": {
     "iopub.execute_input": "2025-08-05T20:58:01.654246Z",
     "iopub.status.busy": "2025-08-05T20:58:01.653225Z",
     "iopub.status.idle": "2025-08-05T20:58:01.673752Z",
     "shell.execute_reply": "2025-08-05T20:58:01.672568Z"
    },
    "papermill": {
     "duration": 0.048065,
     "end_time": "2025-08-05T20:58:01.675505",
     "exception": false,
     "start_time": "2025-08-05T20:58:01.627440",
     "status": "completed"
    },
    "tags": []
   },
   "outputs": [
    {
     "data": {
      "text/html": [
       "<div>\n",
       "<style scoped>\n",
       "    .dataframe tbody tr th:only-of-type {\n",
       "        vertical-align: middle;\n",
       "    }\n",
       "\n",
       "    .dataframe tbody tr th {\n",
       "        vertical-align: top;\n",
       "    }\n",
       "\n",
       "    .dataframe thead th {\n",
       "        text-align: right;\n",
       "    }\n",
       "</style>\n",
       "<table border=\"1\" class=\"dataframe\">\n",
       "  <thead>\n",
       "    <tr style=\"text-align: right;\">\n",
       "      <th></th>\n",
       "      <th>universe_id</th>\n",
       "      <th>universe_training_year</th>\n",
       "      <th>universe_training_size</th>\n",
       "      <th>universe_scale</th>\n",
       "      <th>universe_model</th>\n",
       "      <th>universe_exclude_features</th>\n",
       "      <th>universe_exclude_subgroups</th>\n",
       "      <th>q_hat</th>\n",
       "      <th>coverage</th>\n",
       "      <th>avg_size</th>\n",
       "      <th>cov_frau1</th>\n",
       "      <th>cov_nongerman</th>\n",
       "      <th>cov_nongerman_male</th>\n",
       "      <th>cov_nongerman_female</th>\n",
       "    </tr>\n",
       "  </thead>\n",
       "  <tbody>\n",
       "    <tr>\n",
       "      <th>0</th>\n",
       "      <td>93bd0f17fb064abb964e1eaaba59343b</td>\n",
       "      <td>2012_14</td>\n",
       "      <td>25k</td>\n",
       "      <td>do-not-scale</td>\n",
       "      <td>logreg</td>\n",
       "      <td>nationality-sex</td>\n",
       "      <td>drop-non-german</td>\n",
       "      <td>0.664222</td>\n",
       "      <td>0.912306</td>\n",
       "      <td>1.216453</td>\n",
       "      <td>0.911821</td>\n",
       "      <td>0.938472</td>\n",
       "      <td>0.949743</td>\n",
       "      <td>0.919821</td>\n",
       "    </tr>\n",
       "  </tbody>\n",
       "</table>\n",
       "</div>"
      ],
      "text/plain": [
       "                        universe_id universe_training_year  \\\n",
       "0  93bd0f17fb064abb964e1eaaba59343b                2012_14   \n",
       "\n",
       "  universe_training_size universe_scale universe_model  \\\n",
       "0                    25k   do-not-scale         logreg   \n",
       "\n",
       "  universe_exclude_features universe_exclude_subgroups     q_hat  coverage  \\\n",
       "0           nationality-sex            drop-non-german  0.664222  0.912306   \n",
       "\n",
       "   avg_size  cov_frau1  cov_nongerman  cov_nongerman_male  \\\n",
       "0  1.216453   0.911821       0.938472            0.949743   \n",
       "\n",
       "   cov_nongerman_female  \n",
       "0              0.919821  "
      ]
     },
     "execution_count": 58,
     "metadata": {},
     "output_type": "execute_result"
    }
   ],
   "source": [
    "cp_metrics_df"
   ]
  },
  {
   "cell_type": "markdown",
   "id": "33774451",
   "metadata": {
    "papermill": {
     "duration": 0.025123,
     "end_time": "2025-08-05T20:58:01.726265",
     "exception": false,
     "start_time": "2025-08-05T20:58:01.701142",
     "status": "completed"
    },
    "tags": []
   },
   "source": [
    "# (Fairness) Metrics"
   ]
  },
  {
   "cell_type": "code",
   "execution_count": 59,
   "id": "debc5d62",
   "metadata": {
    "execution": {
     "iopub.execute_input": "2025-08-05T20:58:01.777110Z",
     "iopub.status.busy": "2025-08-05T20:58:01.776587Z",
     "iopub.status.idle": "2025-08-05T20:58:01.799655Z",
     "shell.execute_reply": "2025-08-05T20:58:01.798543Z"
    },
    "papermill": {
     "duration": 0.050875,
     "end_time": "2025-08-05T20:58:01.801588",
     "exception": false,
     "start_time": "2025-08-05T20:58:01.750713",
     "status": "completed"
    },
    "tags": []
   },
   "outputs": [],
   "source": [
    "# do I need to include maxdeutsch1.missing?\n",
    "\n",
    "import numpy as np\n",
    "\n",
    "colname_to_bin = \"maxdeutsch1\"\n",
    "majority_value = org_train[colname_to_bin].mode()[0]\n",
    "\n",
    "org_test[\"majmin\"] = np.where(org_test[colname_to_bin] == majority_value, \"majority\", \"minority\")"
   ]
  },
  {
   "cell_type": "code",
   "execution_count": 60,
   "id": "06a50de5",
   "metadata": {
    "execution": {
     "iopub.execute_input": "2025-08-05T20:58:01.852756Z",
     "iopub.status.busy": "2025-08-05T20:58:01.852098Z",
     "iopub.status.idle": "2025-08-05T20:58:04.653027Z",
     "shell.execute_reply": "2025-08-05T20:58:04.652068Z"
    },
    "papermill": {
     "duration": 2.828118,
     "end_time": "2025-08-05T20:58:04.654944",
     "exception": false,
     "start_time": "2025-08-05T20:58:01.826826",
     "status": "completed"
    },
    "tags": []
   },
   "outputs": [],
   "source": [
    "example_universe = universe.copy()\n",
    "example_universe[\"cutoff\"] = example_universe[\"cutoff\"][0]\n",
    "example_universe[\"eval_fairness_grouping\"] = example_universe[\"eval_fairness_grouping\"][0]\n",
    "fairness_dict, metric_frame = universe_analysis.compute_metrics(\n",
    "    example_universe,\n",
    "    y_pred_prob=probs_test,\n",
    "    y_test=y_true,\n",
    "    org_test=org_test,\n",
    ")"
   ]
  },
  {
   "cell_type": "markdown",
   "id": "f95d4e02",
   "metadata": {
    "papermill": {
     "duration": 0.025087,
     "end_time": "2025-08-05T20:58:04.709151",
     "exception": false,
     "start_time": "2025-08-05T20:58:04.684064",
     "status": "completed"
    },
    "tags": []
   },
   "source": [
    "# Overall"
   ]
  },
  {
   "cell_type": "markdown",
   "id": "bdee4871",
   "metadata": {
    "papermill": {
     "duration": 0.026411,
     "end_time": "2025-08-05T20:58:04.759200",
     "exception": false,
     "start_time": "2025-08-05T20:58:04.732789",
     "status": "completed"
    },
    "tags": []
   },
   "source": [
    "Fairness\n",
    "Main fairness target: Equalized Odds. Seems to be a better fit than equal opportunity, since we're not only interested in Y = 1. Seems to be a better fit than demographic parity, since we also care about accuracy, not just equal distribution of preds.\n",
    "\n",
    "Pick column for computation of fairness metrics\n",
    "\n",
    "Performance\n",
    "Overall performance measures, most interesting in relation to the measures split by group below"
   ]
  },
  {
   "cell_type": "code",
   "execution_count": 61,
   "id": "c4e067c6",
   "metadata": {
    "execution": {
     "iopub.execute_input": "2025-08-05T20:58:04.809963Z",
     "iopub.status.busy": "2025-08-05T20:58:04.809332Z",
     "iopub.status.idle": "2025-08-05T20:58:04.819173Z",
     "shell.execute_reply": "2025-08-05T20:58:04.818159Z"
    },
    "papermill": {
     "duration": 0.036622,
     "end_time": "2025-08-05T20:58:04.820877",
     "exception": false,
     "start_time": "2025-08-05T20:58:04.784255",
     "status": "completed"
    },
    "tags": []
   },
   "outputs": [
    {
     "data": {
      "text/plain": [
       "accuracy                   0.217646\n",
       "balanced accuracy          0.533583\n",
       "f1                         0.239162\n",
       "precision                  0.136625\n",
       "false positive rate        0.891384\n",
       "false negative rate        0.041449\n",
       "selection rate             0.900000\n",
       "count                  89710.000000\n",
       "dtype: float64"
      ]
     },
     "execution_count": 61,
     "metadata": {},
     "output_type": "execute_result"
    }
   ],
   "source": [
    "metric_frame.overall"
   ]
  },
  {
   "cell_type": "markdown",
   "id": "e968fe9d",
   "metadata": {
    "papermill": {
     "duration": 0.026361,
     "end_time": "2025-08-05T20:58:04.872008",
     "exception": false,
     "start_time": "2025-08-05T20:58:04.845647",
     "status": "completed"
    },
    "tags": []
   },
   "source": [
    "By Group"
   ]
  },
  {
   "cell_type": "code",
   "execution_count": 62,
   "id": "ec325bce",
   "metadata": {
    "execution": {
     "iopub.execute_input": "2025-08-05T20:58:04.923119Z",
     "iopub.status.busy": "2025-08-05T20:58:04.922787Z",
     "iopub.status.idle": "2025-08-05T20:58:04.936365Z",
     "shell.execute_reply": "2025-08-05T20:58:04.934827Z"
    },
    "papermill": {
     "duration": 0.039526,
     "end_time": "2025-08-05T20:58:04.938516",
     "exception": false,
     "start_time": "2025-08-05T20:58:04.898990",
     "status": "completed"
    },
    "tags": []
   },
   "outputs": [
    {
     "data": {
      "text/html": [
       "<div>\n",
       "<style scoped>\n",
       "    .dataframe tbody tr th:only-of-type {\n",
       "        vertical-align: middle;\n",
       "    }\n",
       "\n",
       "    .dataframe tbody tr th {\n",
       "        vertical-align: top;\n",
       "    }\n",
       "\n",
       "    .dataframe thead th {\n",
       "        text-align: right;\n",
       "    }\n",
       "</style>\n",
       "<table border=\"1\" class=\"dataframe\">\n",
       "  <thead>\n",
       "    <tr style=\"text-align: right;\">\n",
       "      <th></th>\n",
       "      <th>accuracy</th>\n",
       "      <th>balanced accuracy</th>\n",
       "      <th>f1</th>\n",
       "      <th>precision</th>\n",
       "      <th>false positive rate</th>\n",
       "      <th>false negative rate</th>\n",
       "      <th>selection rate</th>\n",
       "      <th>count</th>\n",
       "    </tr>\n",
       "    <tr>\n",
       "      <th>majmin</th>\n",
       "      <th></th>\n",
       "      <th></th>\n",
       "      <th></th>\n",
       "      <th></th>\n",
       "      <th></th>\n",
       "      <th></th>\n",
       "      <th></th>\n",
       "      <th></th>\n",
       "    </tr>\n",
       "  </thead>\n",
       "  <tbody>\n",
       "    <tr>\n",
       "      <th>majority</th>\n",
       "      <td>0.240162</td>\n",
       "      <td>0.541645</td>\n",
       "      <td>0.248635</td>\n",
       "      <td>0.143003</td>\n",
       "      <td>0.868133</td>\n",
       "      <td>0.048578</td>\n",
       "      <td>0.879138</td>\n",
       "      <td>69170.0</td>\n",
       "    </tr>\n",
       "    <tr>\n",
       "      <th>minority</th>\n",
       "      <td>0.141821</td>\n",
       "      <td>0.508936</td>\n",
       "      <td>0.209445</td>\n",
       "      <td>0.117166</td>\n",
       "      <td>0.968193</td>\n",
       "      <td>0.013936</td>\n",
       "      <td>0.970253</td>\n",
       "      <td>20540.0</td>\n",
       "    </tr>\n",
       "  </tbody>\n",
       "</table>\n",
       "</div>"
      ],
      "text/plain": [
       "          accuracy  balanced accuracy        f1  precision  \\\n",
       "majmin                                                       \n",
       "majority  0.240162           0.541645  0.248635   0.143003   \n",
       "minority  0.141821           0.508936  0.209445   0.117166   \n",
       "\n",
       "          false positive rate  false negative rate  selection rate    count  \n",
       "majmin                                                                       \n",
       "majority             0.868133             0.048578        0.879138  69170.0  \n",
       "minority             0.968193             0.013936        0.970253  20540.0  "
      ]
     },
     "execution_count": 62,
     "metadata": {},
     "output_type": "execute_result"
    }
   ],
   "source": [
    "metric_frame.by_group"
   ]
  },
  {
   "cell_type": "code",
   "execution_count": 63,
   "id": "a9ddbe63",
   "metadata": {
    "execution": {
     "iopub.execute_input": "2025-08-05T20:58:04.994277Z",
     "iopub.status.busy": "2025-08-05T20:58:04.993626Z",
     "iopub.status.idle": "2025-08-05T20:58:07.136397Z",
     "shell.execute_reply": "2025-08-05T20:58:07.135693Z"
    },
    "papermill": {
     "duration": 2.173167,
     "end_time": "2025-08-05T20:58:07.137666",
     "exception": false,
     "start_time": "2025-08-05T20:58:04.964499",
     "status": "completed"
    },
    "tags": []
   },
   "outputs": [
    {
     "data": {
      "text/plain": [
       "array([[<Axes: title={'center': 'accuracy'}, xlabel='majmin'>,\n",
       "        <Axes: title={'center': 'balanced accuracy'}, xlabel='majmin'>,\n",
       "        <Axes: title={'center': 'f1'}, xlabel='majmin'>],\n",
       "       [<Axes: title={'center': 'precision'}, xlabel='majmin'>,\n",
       "        <Axes: title={'center': 'false positive rate'}, xlabel='majmin'>,\n",
       "        <Axes: title={'center': 'false negative rate'}, xlabel='majmin'>],\n",
       "       [<Axes: title={'center': 'selection rate'}, xlabel='majmin'>,\n",
       "        <Axes: title={'center': 'count'}, xlabel='majmin'>,\n",
       "        <Axes: xlabel='majmin'>]], dtype=object)"
      ]
     },
     "execution_count": 63,
     "metadata": {},
     "output_type": "execute_result"
    },
    {
     "data": {
      "image/png": "[encoded data removed]",
      "text/plain": [
       "<Figure size 1200x800 with 9 Axes>"
      ]
     },
     "metadata": {},
     "output_type": "display_data"
    }
   ],
   "source": [
    "# In a graphic\n",
    "metric_frame.by_group.plot.bar(\n",
    "    subplots=True,\n",
    "    layout=[3, 3],\n",
    "    legend=False,\n",
    "    figsize=[12, 8],\n",
    "    title=\"Show all metrics\",\n",
    ")"
   ]
  },
  {
   "cell_type": "markdown",
   "id": "f57a0bac",
   "metadata": {
    "papermill": {
     "duration": 0.012444,
     "end_time": "2025-08-05T20:58:07.165899",
     "exception": false,
     "start_time": "2025-08-05T20:58:07.153455",
     "status": "completed"
    },
    "tags": []
   },
   "source": [
    "# Final Output"
   ]
  },
  {
   "cell_type": "code",
   "execution_count": 64,
   "id": "96d280a3",
   "metadata": {
    "execution": {
     "iopub.execute_input": "2025-08-05T20:58:07.192364Z",
     "iopub.status.busy": "2025-08-05T20:58:07.191473Z",
     "iopub.status.idle": "2025-08-05T20:58:07.198519Z",
     "shell.execute_reply": "2025-08-05T20:58:07.197423Z"
    },
    "papermill": {
     "duration": 0.022178,
     "end_time": "2025-08-05T20:58:07.200432",
     "exception": false,
     "start_time": "2025-08-05T20:58:07.178254",
     "status": "completed"
    },
    "tags": []
   },
   "outputs": [
    {
     "data": {
      "text/plain": [
       "4"
      ]
     },
     "execution_count": 64,
     "metadata": {},
     "output_type": "execute_result"
    }
   ],
   "source": [
    "sub_universes = universe_analysis.generate_sub_universes()\n",
    "len(sub_universes)"
   ]
  },
  {
   "cell_type": "code",
   "execution_count": 65,
   "id": "92adf7ba",
   "metadata": {
    "execution": {
     "iopub.execute_input": "2025-08-05T20:58:07.227289Z",
     "iopub.status.busy": "2025-08-05T20:58:07.226629Z",
     "iopub.status.idle": "2025-08-05T20:58:07.231344Z",
     "shell.execute_reply": "2025-08-05T20:58:07.230638Z"
    },
    "papermill": {
     "duration": 0.01923,
     "end_time": "2025-08-05T20:58:07.232718",
     "exception": false,
     "start_time": "2025-08-05T20:58:07.213488",
     "status": "completed"
    },
    "tags": []
   },
   "outputs": [],
   "source": [
    "def filter_sub_universe_data(sub_universe, org_test):\n",
    "    # Keep all rows — no filtering\n",
    "    keep_rows_mask = np.ones(org_test.shape[0], dtype=bool)\n",
    "\n",
    "    print(f\"[INFO] Keeping all rows: {keep_rows_mask.sum()} rows retained.\")\n",
    "    return keep_rows_mask"
   ]
  },
  {
   "cell_type": "code",
   "execution_count": 66,
   "id": "4a759155",
   "metadata": {
    "execution": {
     "iopub.execute_input": "2025-08-05T20:58:07.259634Z",
     "iopub.status.busy": "2025-08-05T20:58:07.259157Z",
     "iopub.status.idle": "2025-08-05T20:58:14.789802Z",
     "shell.execute_reply": "2025-08-05T20:58:14.788900Z"
    },
    "papermill": {
     "duration": 7.5455,
     "end_time": "2025-08-05T20:58:14.791496",
     "exception": false,
     "start_time": "2025-08-05T20:58:07.245996",
     "status": "completed"
    },
    "tags": []
   },
   "outputs": [
    {
     "name": "stdout",
     "output_type": "stream",
     "text": [
      "Stopping execution_time clock.\n",
      "[INFO] Keeping all rows: 89710 rows retained.\n"
     ]
    },
    {
     "name": "stdout",
     "output_type": "stream",
     "text": [
      "[INFO] Keeping all rows: 89710 rows retained.\n"
     ]
    },
    {
     "name": "stdout",
     "output_type": "stream",
     "text": [
      "[INFO] Keeping all rows: 89710 rows retained.\n"
     ]
    },
    {
     "name": "stdout",
     "output_type": "stream",
     "text": [
      "[INFO] Keeping all rows: 89710 rows retained.\n"
     ]
    },
    {
     "data": {
      "text/html": [
       "<div>\n",
       "<style scoped>\n",
       "    .dataframe tbody tr th:only-of-type {\n",
       "        vertical-align: middle;\n",
       "    }\n",
       "\n",
       "    .dataframe tbody tr th {\n",
       "        vertical-align: top;\n",
       "    }\n",
       "\n",
       "    .dataframe thead th {\n",
       "        text-align: right;\n",
       "    }\n",
       "</style>\n",
       "<table border=\"1\" class=\"dataframe\">\n",
       "  <thead>\n",
       "    <tr style=\"text-align: right;\">\n",
       "      <th></th>\n",
       "      <th>run_no</th>\n",
       "      <th>universe_id</th>\n",
       "      <th>universe_settings</th>\n",
       "      <th>execution_time</th>\n",
       "      <th>test_size_n</th>\n",
       "      <th>test_size_frac</th>\n",
       "      <th>fair_main_equalized_odds_difference</th>\n",
       "      <th>fair_main_equalized_odds_ratio</th>\n",
       "      <th>fair_main_demographic_parity_difference</th>\n",
       "      <th>fair_main_demographic_parity_ratio</th>\n",
       "      <th>...</th>\n",
       "      <th>perf_grp_precision_0</th>\n",
       "      <th>perf_grp_precision_1</th>\n",
       "      <th>perf_grp_false positive rate_0</th>\n",
       "      <th>perf_grp_false positive rate_1</th>\n",
       "      <th>perf_grp_false negative rate_0</th>\n",
       "      <th>perf_grp_false negative rate_1</th>\n",
       "      <th>perf_grp_selection rate_0</th>\n",
       "      <th>perf_grp_selection rate_1</th>\n",
       "      <th>perf_grp_count_0</th>\n",
       "      <th>perf_grp_count_1</th>\n",
       "    </tr>\n",
       "  </thead>\n",
       "  <tbody>\n",
       "    <tr>\n",
       "      <th>0</th>\n",
       "      <td>16</td>\n",
       "      <td>93bd0f17fb064abb964e1eaaba59343b</td>\n",
       "      <td>{\"cutoff\": \"quantile_0.1\", \"eval_fairness_grou...</td>\n",
       "      <td>25.731095</td>\n",
       "      <td>89710</td>\n",
       "      <td>1.0</td>\n",
       "      <td>0.100060</td>\n",
       "      <td>0.896653</td>\n",
       "      <td>0.091115</td>\n",
       "      <td>0.906092</td>\n",
       "      <td>...</td>\n",
       "      <td>NaN</td>\n",
       "      <td>NaN</td>\n",
       "      <td>NaN</td>\n",
       "      <td>NaN</td>\n",
       "      <td>NaN</td>\n",
       "      <td>NaN</td>\n",
       "      <td>NaN</td>\n",
       "      <td>NaN</td>\n",
       "      <td>NaN</td>\n",
       "      <td>NaN</td>\n",
       "    </tr>\n",
       "    <tr>\n",
       "      <th>0</th>\n",
       "      <td>16</td>\n",
       "      <td>93bd0f17fb064abb964e1eaaba59343b</td>\n",
       "      <td>{\"cutoff\": \"quantile_0.1\", \"eval_fairness_grou...</td>\n",
       "      <td>25.731095</td>\n",
       "      <td>89710</td>\n",
       "      <td>1.0</td>\n",
       "      <td>0.100060</td>\n",
       "      <td>0.896653</td>\n",
       "      <td>0.091115</td>\n",
       "      <td>0.906092</td>\n",
       "      <td>...</td>\n",
       "      <td>0.117166</td>\n",
       "      <td>0.143003</td>\n",
       "      <td>0.968193</td>\n",
       "      <td>0.868133</td>\n",
       "      <td>0.013936</td>\n",
       "      <td>0.048578</td>\n",
       "      <td>0.970253</td>\n",
       "      <td>0.879138</td>\n",
       "      <td>20540.0</td>\n",
       "      <td>69170.0</td>\n",
       "    </tr>\n",
       "    <tr>\n",
       "      <th>0</th>\n",
       "      <td>16</td>\n",
       "      <td>93bd0f17fb064abb964e1eaaba59343b</td>\n",
       "      <td>{\"cutoff\": \"quantile_0.25\", \"eval_fairness_gro...</td>\n",
       "      <td>25.731095</td>\n",
       "      <td>89710</td>\n",
       "      <td>1.0</td>\n",
       "      <td>0.226555</td>\n",
       "      <td>0.749409</td>\n",
       "      <td>0.207683</td>\n",
       "      <td>0.771808</td>\n",
       "      <td>...</td>\n",
       "      <td>NaN</td>\n",
       "      <td>NaN</td>\n",
       "      <td>NaN</td>\n",
       "      <td>NaN</td>\n",
       "      <td>NaN</td>\n",
       "      <td>NaN</td>\n",
       "      <td>NaN</td>\n",
       "      <td>NaN</td>\n",
       "      <td>NaN</td>\n",
       "      <td>NaN</td>\n",
       "    </tr>\n",
       "    <tr>\n",
       "      <th>0</th>\n",
       "      <td>16</td>\n",
       "      <td>93bd0f17fb064abb964e1eaaba59343b</td>\n",
       "      <td>{\"cutoff\": \"quantile_0.25\", \"eval_fairness_gro...</td>\n",
       "      <td>25.731095</td>\n",
       "      <td>89710</td>\n",
       "      <td>1.0</td>\n",
       "      <td>0.226555</td>\n",
       "      <td>0.749409</td>\n",
       "      <td>0.207683</td>\n",
       "      <td>0.771808</td>\n",
       "      <td>...</td>\n",
       "      <td>0.121162</td>\n",
       "      <td>0.162921</td>\n",
       "      <td>0.904083</td>\n",
       "      <td>0.677528</td>\n",
       "      <td>0.043497</td>\n",
       "      <td>0.133917</td>\n",
       "      <td>0.910127</td>\n",
       "      <td>0.702443</td>\n",
       "      <td>20540.0</td>\n",
       "      <td>69170.0</td>\n",
       "    </tr>\n",
       "  </tbody>\n",
       "</table>\n",
       "<p>4 rows × 50 columns</p>\n",
       "</div>"
      ],
      "text/plain": [
       "  run_no                       universe_id  \\\n",
       "0     16  93bd0f17fb064abb964e1eaaba59343b   \n",
       "0     16  93bd0f17fb064abb964e1eaaba59343b   \n",
       "0     16  93bd0f17fb064abb964e1eaaba59343b   \n",
       "0     16  93bd0f17fb064abb964e1eaaba59343b   \n",
       "\n",
       "                                   universe_settings  execution_time  \\\n",
       "0  {\"cutoff\": \"quantile_0.1\", \"eval_fairness_grou...       25.731095   \n",
       "0  {\"cutoff\": \"quantile_0.1\", \"eval_fairness_grou...       25.731095   \n",
       "0  {\"cutoff\": \"quantile_0.25\", \"eval_fairness_gro...       25.731095   \n",
       "0  {\"cutoff\": \"quantile_0.25\", \"eval_fairness_gro...       25.731095   \n",
       "\n",
       "   test_size_n  test_size_frac  fair_main_equalized_odds_difference  \\\n",
       "0        89710             1.0                             0.100060   \n",
       "0        89710             1.0                             0.100060   \n",
       "0        89710             1.0                             0.226555   \n",
       "0        89710             1.0                             0.226555   \n",
       "\n",
       "   fair_main_equalized_odds_ratio  fair_main_demographic_parity_difference  \\\n",
       "0                        0.896653                                 0.091115   \n",
       "0                        0.896653                                 0.091115   \n",
       "0                        0.749409                                 0.207683   \n",
       "0                        0.749409                                 0.207683   \n",
       "\n",
       "   fair_main_demographic_parity_ratio  ...  perf_grp_precision_0  \\\n",
       "0                            0.906092  ...                   NaN   \n",
       "0                            0.906092  ...              0.117166   \n",
       "0                            0.771808  ...                   NaN   \n",
       "0                            0.771808  ...              0.121162   \n",
       "\n",
       "   perf_grp_precision_1  perf_grp_false positive rate_0  \\\n",
       "0                   NaN                             NaN   \n",
       "0              0.143003                        0.968193   \n",
       "0                   NaN                             NaN   \n",
       "0              0.162921                        0.904083   \n",
       "\n",
       "   perf_grp_false positive rate_1  perf_grp_false negative rate_0  \\\n",
       "0                             NaN                             NaN   \n",
       "0                        0.868133                        0.013936   \n",
       "0                             NaN                             NaN   \n",
       "0                        0.677528                        0.043497   \n",
       "\n",
       "   perf_grp_false negative rate_1  perf_grp_selection rate_0  \\\n",
       "0                             NaN                        NaN   \n",
       "0                        0.048578                   0.970253   \n",
       "0                             NaN                        NaN   \n",
       "0                        0.133917                   0.910127   \n",
       "\n",
       "   perf_grp_selection rate_1  perf_grp_count_0  perf_grp_count_1  \n",
       "0                        NaN               NaN               NaN  \n",
       "0                   0.879138           20540.0           69170.0  \n",
       "0                        NaN               NaN               NaN  \n",
       "0                   0.702443           20540.0           69170.0  \n",
       "\n",
       "[4 rows x 50 columns]"
      ]
     },
     "execution_count": 66,
     "metadata": {},
     "output_type": "execute_result"
    }
   ],
   "source": [
    "final_output = universe_analysis.generate_final_output(\n",
    "    y_pred_prob=probs_test,\n",
    "    y_test=y_true,\n",
    "    org_test=org_test,\n",
    "    filter_data=filter_sub_universe_data,\n",
    "    cp_metrics_df=cp_metrics_df,\n",
    "    save=True,\n",
    ")\n",
    "final_output"
   ]
  }
 ],
 "metadata": {
  "celltoolbar": "Tags",
  "kernelspec": {
   "display_name": "Python (CMA Fairness)",
   "language": "python",
   "name": "cma_fair_env"
  },
  "language_info": {
   "codemirror_mode": {
    "name": "ipython",
    "version": 3
   },
   "file_extension": ".py",
   "mimetype": "text/x-python",
   "name": "python",
   "nbconvert_exporter": "python",
   "pygments_lexer": "ipython3",
   "version": "3.10.12"
  },
  "papermill": {
   "default_parameters": {},
   "duration": 37.017003,
   "end_time": "2025-08-05T20:58:15.541556",
   "environment_variables": {},
   "exception": null,
   "input_path": "universe_analysis.ipynb",
   "output_path": "output/runs/16/notebooks/m_16-93bd0f17fb064abb964e1eaaba59343b.ipynb",
   "parameters": {
    "output_dir": "output",
    "run_no": "16",
    "seed": "2023",
    "universe": "{\"cutoff\": [\"quantile_0.1\", \"quantile_0.25\"], \"eval_fairness_grouping\": [\"majority-minority\", \"nationality-all\"], \"exclude_features\": \"nationality-sex\", \"exclude_subgroups\": \"drop-non-german\", \"model\": \"logreg\", \"scale\": \"do-not-scale\", \"training_size\": \"25k\", \"training_year\": \"2012_14\"}",
    "universe_id": "93bd0f17fb064abb964e1eaaba59343b"
   },
   "start_time": "2025-08-05T20:57:38.524553",
   "version": "2.6.0"
  }
 },
 "nbformat": 4,
 "nbformat_minor": 5
}