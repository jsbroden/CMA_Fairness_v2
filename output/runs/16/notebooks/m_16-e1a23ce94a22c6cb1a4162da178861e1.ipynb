{
 "cells": [
  {
   "cell_type": "code",
   "execution_count": 1,
   "id": "f159f837-637b-42ba-96b5-ec9a68c44524",
   "metadata": {
    "execution": {
     "iopub.execute_input": "2025-08-05T20:40:03.702067Z",
     "iopub.status.busy": "2025-08-05T20:40:03.701276Z",
     "iopub.status.idle": "2025-08-05T20:40:03.714869Z",
     "shell.execute_reply": "2025-08-05T20:40:03.713872Z"
    },
    "papermill": {
     "duration": 0.033695,
     "end_time": "2025-08-05T20:40:03.716664",
     "exception": false,
     "start_time": "2025-08-05T20:40:03.682969",
     "status": "completed"
    },
    "tags": []
   },
   "outputs": [
    {
     "name": "stdout",
     "output_type": "stream",
     "text": [
      "/dss/dsshome1/0C/ra93lal2/cma/CMA_Fairness_v2\n"
     ]
    },
    {
     "name": "stderr",
     "output_type": "stream",
     "text": [
      "/dss/dsshome1/0C/ra93lal2/.local/share/virtualenvs/CMA_Fairness_v2-3j10GkSs/lib/python3.10/site-packages/IPython/core/magics/osm.py:393: UserWarning: This is now an optional IPython functionality, using bookmarks requires you to install the `pickleshare` library.\n",
      "  bkms = self.shell.db.get('bookmarks', {})\n",
      "/dss/dsshome1/0C/ra93lal2/.local/share/virtualenvs/CMA_Fairness_v2-3j10GkSs/lib/python3.10/site-packages/IPython/core/magics/osm.py:417: UserWarning: This is now an optional IPython functionality, setting dhist requires you to install the `pickleshare` library.\n",
      "  self.shell.db['dhist'] = compress_dhist(dhist)[-100:]\n"
     ]
    }
   ],
   "source": [
    "%cd ~/cma/CMA_Fairness_v2"
   ]
  },
  {
   "cell_type": "markdown",
   "id": "de2603b9",
   "metadata": {
    "papermill": {
     "duration": 0.016054,
     "end_time": "2025-08-05T20:40:03.749598",
     "exception": false,
     "start_time": "2025-08-05T20:40:03.733544",
     "status": "completed"
    },
    "tags": []
   },
   "source": [
    "The following cell holds the definition of our parameters, these values can be overriden by rendering the with e.g. the following command:\n",
    "\n",
    "papermill -p alpha 0.2 -p ratio 0.3 universe_analysis.ipynb output/test_run.ipynb"
   ]
  },
  {
   "cell_type": "code",
   "execution_count": 2,
   "id": "a80968a0-40bb-4fa9-85ef-2d5eefb01975",
   "metadata": {
    "execution": {
     "iopub.execute_input": "2025-08-05T20:40:03.782535Z",
     "iopub.status.busy": "2025-08-05T20:40:03.781628Z",
     "iopub.status.idle": "2025-08-05T20:40:03.788058Z",
     "shell.execute_reply": "2025-08-05T20:40:03.786770Z"
    },
    "papermill": {
     "duration": 0.025234,
     "end_time": "2025-08-05T20:40:03.790215",
     "exception": false,
     "start_time": "2025-08-05T20:40:03.764981",
     "status": "completed"
    },
    "tags": []
   },
   "outputs": [
    {
     "name": "stdout",
     "output_type": "stream",
     "text": [
      "Current working directory: /dss/dsshome1/0C/ra93lal2/cma/CMA_Fairness_v2\n"
     ]
    }
   ],
   "source": [
    "import os\n",
    "print(\"Current working directory:\", os.getcwd())"
   ]
  },
  {
   "cell_type": "code",
   "execution_count": 3,
   "id": "2dce4c03",
   "metadata": {
    "execution": {
     "iopub.execute_input": "2025-08-05T20:40:03.826172Z",
     "iopub.status.busy": "2025-08-05T20:40:03.825290Z",
     "iopub.status.idle": "2025-08-05T20:40:03.831609Z",
     "shell.execute_reply": "2025-08-05T20:40:03.830648Z"
    },
    "papermill": {
     "duration": 0.025311,
     "end_time": "2025-08-05T20:40:03.833305",
     "exception": false,
     "start_time": "2025-08-05T20:40:03.807994",
     "status": "completed"
    },
    "tags": [
     "parameters"
    ]
   },
   "outputs": [],
   "source": [
    "run_no = 0\n",
    "universe_id = \"test\"\n",
    "universe = {\n",
    "    \"training_size\": \"25k\", # \"25k\", \"5k\", \"1k\"\n",
    "    \"training_year\": \"2014\", # \"2014\", \"2012_14\", \"2010_14\"\n",
    "    \"scale\": \"scale\", # \"scale\", \"do-not-scale\",\n",
    "    \"model\": \"elasticnet\", # \"logreg\", \"penalized_logreg\", \"rf\", \"gbm\", \"elasticnet\"\n",
    "    \"cutoff\": [\"quantile_0.15\", \"quantile_0.30\"],\n",
    "    \"exclude_features\": \"age\", # \"none\", \"nationality\", \"sex\", \"nationality-sex\", \"age\"\n",
    "    \"exclude_subgroups\": \"keep-all\", # \"keep-all\", \"drop-non-german\"\n",
    "    \"eval_fairness_grouping\": [\"majority-minority\", \"nationality-all\"]\n",
    "}\n",
    "\n",
    "output_dir=\"./output\"\n",
    "seed=0"
   ]
  },
  {
   "cell_type": "code",
   "execution_count": 4,
   "id": "ab919a70",
   "metadata": {
    "execution": {
     "iopub.execute_input": "2025-08-05T20:40:03.869512Z",
     "iopub.status.busy": "2025-08-05T20:40:03.868837Z",
     "iopub.status.idle": "2025-08-05T20:40:03.874418Z",
     "shell.execute_reply": "2025-08-05T20:40:03.873197Z"
    },
    "papermill": {
     "duration": 0.025516,
     "end_time": "2025-08-05T20:40:03.876214",
     "exception": false,
     "start_time": "2025-08-05T20:40:03.850698",
     "status": "completed"
    },
    "tags": [
     "injected-parameters"
    ]
   },
   "outputs": [],
   "source": [
    "# Parameters\n",
    "universe_id = \"e1a23ce94a22c6cb1a4162da178861e1\"\n",
    "run_no = \"16\"\n",
    "universe = \"{\\\"cutoff\\\": [\\\"quantile_0.1\\\", \\\"quantile_0.25\\\"], \\\"eval_fairness_grouping\\\": [\\\"majority-minority\\\", \\\"nationality-all\\\"], \\\"exclude_features\\\": \\\"nationality-sex\\\", \\\"exclude_subgroups\\\": \\\"keep-all\\\", \\\"model\\\": \\\"elasticnet\\\", \\\"scale\\\": \\\"scale\\\", \\\"training_size\\\": \\\"25k\\\", \\\"training_year\\\": \\\"2014\\\"}\"\n",
    "output_dir = \"output\"\n",
    "seed = \"2023\"\n"
   ]
  },
  {
   "cell_type": "code",
   "execution_count": 5,
   "id": "1650acaf",
   "metadata": {
    "execution": {
     "iopub.execute_input": "2025-08-05T20:40:03.911792Z",
     "iopub.status.busy": "2025-08-05T20:40:03.910886Z",
     "iopub.status.idle": "2025-08-05T20:40:03.916045Z",
     "shell.execute_reply": "2025-08-05T20:40:03.915155Z"
    },
    "papermill": {
     "duration": 0.024442,
     "end_time": "2025-08-05T20:40:03.917946",
     "exception": false,
     "start_time": "2025-08-05T20:40:03.893504",
     "status": "completed"
    },
    "tags": []
   },
   "outputs": [],
   "source": [
    "import json\n",
    "if isinstance(universe, str):\n",
    "    universe = json.loads(universe)"
   ]
  },
  {
   "cell_type": "code",
   "execution_count": 6,
   "id": "16620c48",
   "metadata": {
    "execution": {
     "iopub.execute_input": "2025-08-05T20:40:03.953899Z",
     "iopub.status.busy": "2025-08-05T20:40:03.952996Z",
     "iopub.status.idle": "2025-08-05T20:40:03.997166Z",
     "shell.execute_reply": "2025-08-05T20:40:03.996236Z"
    },
    "papermill": {
     "duration": 0.065921,
     "end_time": "2025-08-05T20:40:04.001339",
     "exception": false,
     "start_time": "2025-08-05T20:40:03.935418",
     "status": "completed"
    },
    "tags": []
   },
   "outputs": [],
   "source": [
    "# Auto-reload the custom package\n",
    "%load_ext autoreload\n",
    "%autoreload 1\n",
    "%aimport fairness_multiverse"
   ]
  },
  {
   "cell_type": "code",
   "execution_count": 7,
   "id": "01c5c9f3",
   "metadata": {
    "execution": {
     "iopub.execute_input": "2025-08-05T20:40:04.022668Z",
     "iopub.status.busy": "2025-08-05T20:40:04.022008Z",
     "iopub.status.idle": "2025-08-05T20:40:05.862211Z",
     "shell.execute_reply": "2025-08-05T20:40:05.861364Z"
    },
    "papermill": {
     "duration": 1.851345,
     "end_time": "2025-08-05T20:40:05.864085",
     "exception": false,
     "start_time": "2025-08-05T20:40:04.012740",
     "status": "completed"
    },
    "tags": []
   },
   "outputs": [],
   "source": [
    "from fairness_multiverse.universe import UniverseAnalysis\n",
    "\n",
    "universe_analysis = UniverseAnalysis(\n",
    "    run_no = run_no,\n",
    "    universe_id = universe_id,\n",
    "    universe = universe,\n",
    "    output_dir=output_dir,\n",
    ")"
   ]
  },
  {
   "cell_type": "code",
   "execution_count": 8,
   "id": "106241f5",
   "metadata": {
    "execution": {
     "iopub.execute_input": "2025-08-05T20:40:05.894429Z",
     "iopub.status.busy": "2025-08-05T20:40:05.893968Z",
     "iopub.status.idle": "2025-08-05T20:40:05.900529Z",
     "shell.execute_reply": "2025-08-05T20:40:05.899543Z"
    },
    "papermill": {
     "duration": 0.020978,
     "end_time": "2025-08-05T20:40:05.902361",
     "exception": false,
     "start_time": "2025-08-05T20:40:05.881383",
     "status": "completed"
    },
    "tags": []
   },
   "outputs": [
    {
     "name": "stdout",
     "output_type": "stream",
     "text": [
      "Using Seed: 2023\n"
     ]
    }
   ],
   "source": [
    "import numpy as np\n",
    "parsed_seed = int(seed)\n",
    "np.random.seed(parsed_seed)\n",
    "print(f\"Using Seed: {parsed_seed}\")"
   ]
  },
  {
   "cell_type": "markdown",
   "id": "e0ebdc57",
   "metadata": {
    "papermill": {
     "duration": 0.017452,
     "end_time": "2025-08-05T20:40:05.939815",
     "exception": false,
     "start_time": "2025-08-05T20:40:05.922363",
     "status": "completed"
    },
    "tags": []
   },
   "source": [
    "# Loading Data"
   ]
  },
  {
   "cell_type": "code",
   "execution_count": 9,
   "id": "f0496b8a",
   "metadata": {
    "execution": {
     "iopub.execute_input": "2025-08-05T20:40:05.976062Z",
     "iopub.status.busy": "2025-08-05T20:40:05.975602Z",
     "iopub.status.idle": "2025-08-05T20:40:17.980900Z",
     "shell.execute_reply": "2025-08-05T20:40:17.979597Z"
    },
    "papermill": {
     "duration": 12.025784,
     "end_time": "2025-08-05T20:40:17.983172",
     "exception": false,
     "start_time": "2025-08-05T20:40:05.957388",
     "status": "completed"
    },
    "tags": []
   },
   "outputs": [
    {
     "name": "stdout",
     "output_type": "stream",
     "text": [
      "Loading SIAB data from cache: data/siab_cached.csv.gz\n"
     ]
    },
    {
     "name": "stdout",
     "output_type": "stream",
     "text": [
      "(643690, 164)\n"
     ]
    }
   ],
   "source": [
    "from pathlib import Path\n",
    "import pandas as pd\n",
    "\n",
    "# File paths\n",
    "raw_file = Path(\"data/raw/siab.csv\")\n",
    "cache_file = Path(\"data/siab_cached.csv.gz\")\n",
    "\n",
    "# Ensure cache directory exists\n",
    "cache_file.parent.mkdir(parents=True, exist_ok=True)\n",
    "\n",
    "# Load with simple caching\n",
    "if cache_file.exists():\n",
    "    print(f\"Loading SIAB data from cache: {cache_file}\")\n",
    "    siab = pd.read_csv(cache_file, compression='gzip')\n",
    "else:\n",
    "    print(f\"Cache not found. Reading raw SIAB data: {raw_file}\")\n",
    "    siab = pd.read_csv(raw_file)\n",
    "    siab.to_csv(cache_file, index=False, compression='gzip')\n",
    "    print(f\"Cached SIAB data to: {cache_file}\")\n",
    "\n",
    "print(siab.shape)"
   ]
  },
  {
   "cell_type": "code",
   "execution_count": 10,
   "id": "db0ca512-5f53-4dba-abdb-a2888bca41ba",
   "metadata": {
    "execution": {
     "iopub.execute_input": "2025-08-05T20:40:18.037271Z",
     "iopub.status.busy": "2025-08-05T20:40:18.036174Z",
     "iopub.status.idle": "2025-08-05T20:40:18.043836Z",
     "shell.execute_reply": "2025-08-05T20:40:18.042755Z"
    },
    "papermill": {
     "duration": 0.035794,
     "end_time": "2025-08-05T20:40:18.046518",
     "exception": false,
     "start_time": "2025-08-05T20:40:18.010724",
     "status": "completed"
    },
    "tags": []
   },
   "outputs": [],
   "source": [
    "#siab"
   ]
  },
  {
   "cell_type": "markdown",
   "id": "997051c5-15bd-4b69-9786-c3001a3ce484",
   "metadata": {
    "papermill": {
     "duration": 0.023997,
     "end_time": "2025-08-05T20:40:18.095850",
     "exception": false,
     "start_time": "2025-08-05T20:40:18.071853",
     "status": "completed"
    },
    "tags": []
   },
   "source": [
    "# Splitting Data and Setting Training Data Size"
   ]
  },
  {
   "cell_type": "code",
   "execution_count": 11,
   "id": "aea9c6ef-6f46-42c8-85eb-5a62025c1508",
   "metadata": {
    "execution": {
     "iopub.execute_input": "2025-08-05T20:40:18.146221Z",
     "iopub.status.busy": "2025-08-05T20:40:18.145247Z",
     "iopub.status.idle": "2025-08-05T20:40:18.480392Z",
     "shell.execute_reply": "2025-08-05T20:40:18.479248Z"
    },
    "papermill": {
     "duration": 0.36294,
     "end_time": "2025-08-05T20:40:18.482963",
     "exception": false,
     "start_time": "2025-08-05T20:40:18.120023",
     "status": "completed"
    },
    "tags": []
   },
   "outputs": [],
   "source": [
    "from fairness_multiverse.universe import sample_by_year_size\n",
    "\n",
    "siab_train = sample_by_year_size(siab,\n",
    "                               training_year=universe[\"training_year\"],\n",
    "                               training_size=universe[\"training_size\"])"
   ]
  },
  {
   "cell_type": "code",
   "execution_count": 12,
   "id": "8d3afb32-789d-442c-8d5d-9f5aa8dd2eed",
   "metadata": {
    "execution": {
     "iopub.execute_input": "2025-08-05T20:40:18.533961Z",
     "iopub.status.busy": "2025-08-05T20:40:18.533017Z",
     "iopub.status.idle": "2025-08-05T20:40:18.538589Z",
     "shell.execute_reply": "2025-08-05T20:40:18.537563Z"
    },
    "papermill": {
     "duration": 0.033392,
     "end_time": "2025-08-05T20:40:18.540698",
     "exception": false,
     "start_time": "2025-08-05T20:40:18.507306",
     "status": "completed"
    },
    "tags": []
   },
   "outputs": [],
   "source": [
    "#siab_train.shape"
   ]
  },
  {
   "cell_type": "code",
   "execution_count": 13,
   "id": "d582db68-1a4c-47fb-84fc-08518dc1975a",
   "metadata": {
    "execution": {
     "iopub.execute_input": "2025-08-05T20:40:18.586111Z",
     "iopub.status.busy": "2025-08-05T20:40:18.585620Z",
     "iopub.status.idle": "2025-08-05T20:40:18.590796Z",
     "shell.execute_reply": "2025-08-05T20:40:18.589652Z"
    },
    "papermill": {
     "duration": 0.026694,
     "end_time": "2025-08-05T20:40:18.592760",
     "exception": false,
     "start_time": "2025-08-05T20:40:18.566066",
     "status": "completed"
    },
    "tags": []
   },
   "outputs": [],
   "source": [
    "#display(siab_train.groupby(\"year\").size())"
   ]
  },
  {
   "cell_type": "code",
   "execution_count": 14,
   "id": "a561edb4-d032-42cb-8256-22eac1111c64",
   "metadata": {
    "execution": {
     "iopub.execute_input": "2025-08-05T20:40:18.639938Z",
     "iopub.status.busy": "2025-08-05T20:40:18.639546Z",
     "iopub.status.idle": "2025-08-05T20:40:18.909394Z",
     "shell.execute_reply": "2025-08-05T20:40:18.908402Z"
    },
    "papermill": {
     "duration": 0.298509,
     "end_time": "2025-08-05T20:40:18.911395",
     "exception": false,
     "start_time": "2025-08-05T20:40:18.612886",
     "status": "completed"
    },
    "tags": []
   },
   "outputs": [],
   "source": [
    "#siab_train = siab_s[siab_s.year < 2015]\n",
    "siab_calib = siab[siab.year == 2015]\n",
    "siab_test = siab[siab.year == 2016]"
   ]
  },
  {
   "cell_type": "code",
   "execution_count": 15,
   "id": "472de16f-c3db-4916-846b-1f0de9cf1746",
   "metadata": {
    "execution": {
     "iopub.execute_input": "2025-08-05T20:40:18.951028Z",
     "iopub.status.busy": "2025-08-05T20:40:18.950288Z",
     "iopub.status.idle": "2025-08-05T20:40:18.967039Z",
     "shell.execute_reply": "2025-08-05T20:40:18.965986Z"
    },
    "papermill": {
     "duration": 0.039141,
     "end_time": "2025-08-05T20:40:18.968546",
     "exception": false,
     "start_time": "2025-08-05T20:40:18.929405",
     "status": "completed"
    },
    "tags": []
   },
   "outputs": [],
   "source": [
    "X_train = siab_train.iloc[:,4:164]\n",
    "y_train = siab_train.iloc[:, [3]]"
   ]
  },
  {
   "cell_type": "code",
   "execution_count": 16,
   "id": "828c96af-f43a-4ed6-ba47-8ac73a47d56c",
   "metadata": {
    "execution": {
     "iopub.execute_input": "2025-08-05T20:40:18.997079Z",
     "iopub.status.busy": "2025-08-05T20:40:18.996738Z",
     "iopub.status.idle": "2025-08-05T20:40:19.051285Z",
     "shell.execute_reply": "2025-08-05T20:40:19.050167Z"
    },
    "papermill": {
     "duration": 0.06678,
     "end_time": "2025-08-05T20:40:19.053133",
     "exception": false,
     "start_time": "2025-08-05T20:40:18.986353",
     "status": "completed"
    },
    "tags": []
   },
   "outputs": [],
   "source": [
    "X_calib = siab_calib.iloc[:,4:164]\n",
    "y_calib = siab_calib.iloc[:, [3]]"
   ]
  },
  {
   "cell_type": "code",
   "execution_count": 17,
   "id": "c34be9c3-6bd6-476e-acd3-845840e303be",
   "metadata": {
    "execution": {
     "iopub.execute_input": "2025-08-05T20:40:19.080198Z",
     "iopub.status.busy": "2025-08-05T20:40:19.079430Z",
     "iopub.status.idle": "2025-08-05T20:40:19.130732Z",
     "shell.execute_reply": "2025-08-05T20:40:19.129705Z"
    },
    "papermill": {
     "duration": 0.063254,
     "end_time": "2025-08-05T20:40:19.132598",
     "exception": false,
     "start_time": "2025-08-05T20:40:19.069344",
     "status": "completed"
    },
    "tags": []
   },
   "outputs": [],
   "source": [
    "X_test = siab_test.iloc[:,4:164]\n",
    "y_true = siab_test.iloc[:, [3]]"
   ]
  },
  {
   "cell_type": "code",
   "execution_count": 18,
   "id": "e6c733c5",
   "metadata": {
    "execution": {
     "iopub.execute_input": "2025-08-05T20:40:19.160965Z",
     "iopub.status.busy": "2025-08-05T20:40:19.160613Z",
     "iopub.status.idle": "2025-08-05T20:40:19.252210Z",
     "shell.execute_reply": "2025-08-05T20:40:19.251232Z"
    },
    "papermill": {
     "duration": 0.104289,
     "end_time": "2025-08-05T20:40:19.253861",
     "exception": false,
     "start_time": "2025-08-05T20:40:19.149572",
     "status": "completed"
    },
    "tags": []
   },
   "outputs": [],
   "source": [
    "# Auxiliary data needed downstream in the pipeline\n",
    "\n",
    "org_train = X_train.copy()\n",
    "org_test = X_test.copy()\n",
    "org_calib = X_calib.copy()"
   ]
  },
  {
   "cell_type": "markdown",
   "id": "0a4a1b33",
   "metadata": {
    "papermill": {
     "duration": 0.017598,
     "end_time": "2025-08-05T20:40:19.289763",
     "exception": false,
     "start_time": "2025-08-05T20:40:19.272165",
     "status": "completed"
    },
    "tags": []
   },
   "source": [
    "# Preprocessing Data"
   ]
  },
  {
   "cell_type": "code",
   "execution_count": 19,
   "id": "ca879031",
   "metadata": {
    "execution": {
     "iopub.execute_input": "2025-08-05T20:40:19.324112Z",
     "iopub.status.busy": "2025-08-05T20:40:19.323723Z",
     "iopub.status.idle": "2025-08-05T20:40:19.329345Z",
     "shell.execute_reply": "2025-08-05T20:40:19.328411Z"
    },
    "papermill": {
     "duration": 0.023132,
     "end_time": "2025-08-05T20:40:19.330663",
     "exception": false,
     "start_time": "2025-08-05T20:40:19.307531",
     "status": "completed"
    },
    "tags": []
   },
   "outputs": [],
   "source": [
    "# EXCLUDE PROTECTED FEATURES\n",
    "# ----------------------\n",
    "# \"exclude_features\": \"none\", # \"nationality\", \"sex\", \"nationality-sex\"\n",
    "\n",
    "excluded_features = universe[\"exclude_features\"].split(\"-\") # split, e.g.: \"nationality-sex\" -> [\"nationality\", \"sex\"]\n",
    "excluded_features_dictionary = {\n",
    "    \"nationality\": [\"maxdeutsch1\", \"maxdeutsch.Missing.\"],\n",
    "    \"sex\": [\"frau1\"],\n",
    "    \"age\": [\"age\"],\n",
    "}"
   ]
  },
  {
   "cell_type": "code",
   "execution_count": 20,
   "id": "b745ac60",
   "metadata": {
    "execution": {
     "iopub.execute_input": "2025-08-05T20:40:19.355299Z",
     "iopub.status.busy": "2025-08-05T20:40:19.354996Z",
     "iopub.status.idle": "2025-08-05T20:40:19.359733Z",
     "shell.execute_reply": "2025-08-05T20:40:19.358974Z"
    },
    "papermill": {
     "duration": 0.017093,
     "end_time": "2025-08-05T20:40:19.361336",
     "exception": false,
     "start_time": "2025-08-05T20:40:19.344243",
     "status": "completed"
    },
    "tags": []
   },
   "outputs": [],
   "source": [
    "# Code nice names to column names\n",
    "\n",
    "excluded_features_columns = [\n",
    "    excluded_features_dictionary[f] for f in excluded_features if len(f) > 0 and f != \"none\"\n",
    "]"
   ]
  },
  {
   "cell_type": "code",
   "execution_count": 21,
   "id": "f84f73a2",
   "metadata": {
    "execution": {
     "iopub.execute_input": "2025-08-05T20:40:19.384518Z",
     "iopub.status.busy": "2025-08-05T20:40:19.384230Z",
     "iopub.status.idle": "2025-08-05T20:40:19.389412Z",
     "shell.execute_reply": "2025-08-05T20:40:19.388603Z"
    },
    "papermill": {
     "duration": 0.019287,
     "end_time": "2025-08-05T20:40:19.390869",
     "exception": false,
     "start_time": "2025-08-05T20:40:19.371582",
     "status": "completed"
    },
    "tags": []
   },
   "outputs": [],
   "source": [
    "from utils import flatten_once\n",
    "\n",
    "excluded_features_columns = flatten_once(excluded_features_columns)"
   ]
  },
  {
   "cell_type": "code",
   "execution_count": 22,
   "id": "884dea22",
   "metadata": {
    "execution": {
     "iopub.execute_input": "2025-08-05T20:40:19.410370Z",
     "iopub.status.busy": "2025-08-05T20:40:19.409986Z",
     "iopub.status.idle": "2025-08-05T20:40:19.426575Z",
     "shell.execute_reply": "2025-08-05T20:40:19.425258Z"
    },
    "papermill": {
     "duration": 0.02773,
     "end_time": "2025-08-05T20:40:19.428050",
     "exception": false,
     "start_time": "2025-08-05T20:40:19.400320",
     "status": "completed"
    },
    "tags": []
   },
   "outputs": [
    {
     "name": "stdout",
     "output_type": "stream",
     "text": [
      "Dropping features: ['maxdeutsch1', 'maxdeutsch.Missing.', 'frau1']\n"
     ]
    }
   ],
   "source": [
    "if len(excluded_features_columns) > 0:\n",
    "    print(f\"Dropping features: {excluded_features_columns}\")\n",
    "    X_train.drop(excluded_features_columns, axis=1, inplace=True)"
   ]
  },
  {
   "cell_type": "code",
   "execution_count": 23,
   "id": "95ab8b16",
   "metadata": {
    "execution": {
     "iopub.execute_input": "2025-08-05T20:40:19.448886Z",
     "iopub.status.busy": "2025-08-05T20:40:19.448583Z",
     "iopub.status.idle": "2025-08-05T20:40:19.508005Z",
     "shell.execute_reply": "2025-08-05T20:40:19.506985Z"
    },
    "papermill": {
     "duration": 0.07155,
     "end_time": "2025-08-05T20:40:19.509451",
     "exception": false,
     "start_time": "2025-08-05T20:40:19.437901",
     "status": "completed"
    },
    "tags": []
   },
   "outputs": [
    {
     "name": "stdout",
     "output_type": "stream",
     "text": [
      "Dropping features: ['maxdeutsch1', 'maxdeutsch.Missing.', 'frau1']\n"
     ]
    }
   ],
   "source": [
    "if len(excluded_features_columns) > 0:\n",
    "    print(f\"Dropping features: {excluded_features_columns}\")\n",
    "    X_test.drop(excluded_features_columns, axis=1, inplace=True)"
   ]
  },
  {
   "cell_type": "code",
   "execution_count": 24,
   "id": "1853aaf5-fb9f-46cb-a2b5-8ea4ae2237e4",
   "metadata": {
    "execution": {
     "iopub.execute_input": "2025-08-05T20:40:19.533189Z",
     "iopub.status.busy": "2025-08-05T20:40:19.532897Z",
     "iopub.status.idle": "2025-08-05T20:40:19.608657Z",
     "shell.execute_reply": "2025-08-05T20:40:19.607656Z"
    },
    "papermill": {
     "duration": 0.090522,
     "end_time": "2025-08-05T20:40:19.610468",
     "exception": false,
     "start_time": "2025-08-05T20:40:19.519946",
     "status": "completed"
    },
    "tags": []
   },
   "outputs": [
    {
     "name": "stdout",
     "output_type": "stream",
     "text": [
      "Dropping features: ['maxdeutsch1', 'maxdeutsch.Missing.', 'frau1']\n"
     ]
    }
   ],
   "source": [
    "if len(excluded_features_columns) > 0:\n",
    "    print(f\"Dropping features: {excluded_features_columns}\")\n",
    "    X_calib.drop(excluded_features_columns, axis=1, inplace=True)"
   ]
  },
  {
   "cell_type": "code",
   "execution_count": 25,
   "id": "76c4dc6d",
   "metadata": {
    "execution": {
     "iopub.execute_input": "2025-08-05T20:40:19.659306Z",
     "iopub.status.busy": "2025-08-05T20:40:19.658565Z",
     "iopub.status.idle": "2025-08-05T20:40:19.664394Z",
     "shell.execute_reply": "2025-08-05T20:40:19.663450Z"
    },
    "papermill": {
     "duration": 0.031302,
     "end_time": "2025-08-05T20:40:19.666498",
     "exception": false,
     "start_time": "2025-08-05T20:40:19.635196",
     "status": "completed"
    },
    "tags": []
   },
   "outputs": [],
   "source": [
    "# EXCLUDE CERTAIN SUBGROUPS\n",
    "# ----------------------\n",
    "\n",
    "mode = universe.get(\"exclude_subgroups\", \"keep-all\") \n",
    "# Fetches the exclude_subgroups setting from the universe dict.\n",
    "# Defaults to \"keep-all\" if the key is missing."
   ]
  },
  {
   "cell_type": "code",
   "execution_count": 26,
   "id": "21994072",
   "metadata": {
    "execution": {
     "iopub.execute_input": "2025-08-05T20:40:19.709824Z",
     "iopub.status.busy": "2025-08-05T20:40:19.709326Z",
     "iopub.status.idle": "2025-08-05T20:40:19.716790Z",
     "shell.execute_reply": "2025-08-05T20:40:19.715703Z"
    },
    "papermill": {
     "duration": 0.033221,
     "end_time": "2025-08-05T20:40:19.720524",
     "exception": false,
     "start_time": "2025-08-05T20:40:19.687303",
     "status": "completed"
    },
    "tags": []
   },
   "outputs": [],
   "source": [
    "if mode == \"keep-all\":\n",
    "    keep_mask = pd.Series(True, index=org_train.index)\n",
    "\n",
    "# org_train contains the original feature columns from features_org (in Simson)\n",
    "# features_org contains unprocessed features, for me X_train at beginning ???\n",
    "# For keep-all, creates a boolean Series (keep_mask) of all True, so no rows are removed.\n",
    "\n",
    "elif mode == \"drop-non-german\":\n",
    "    keep_mask = org_train[\"maxdeutsch1\"] == 1 # ??? what about missing values?\n",
    "\n",
    "else:\n",
    "    raise ValueError(f\"Unsupported mode for exclude_subgroups: {mode}\")"
   ]
  },
  {
   "cell_type": "code",
   "execution_count": 27,
   "id": "71651440",
   "metadata": {
    "execution": {
     "iopub.execute_input": "2025-08-05T20:40:19.764518Z",
     "iopub.status.busy": "2025-08-05T20:40:19.764014Z",
     "iopub.status.idle": "2025-08-05T20:40:19.771231Z",
     "shell.execute_reply": "2025-08-05T20:40:19.770186Z"
    },
    "papermill": {
     "duration": 0.030479,
     "end_time": "2025-08-05T20:40:19.773162",
     "exception": false,
     "start_time": "2025-08-05T20:40:19.742683",
     "status": "completed"
    },
    "tags": []
   },
   "outputs": [],
   "source": [
    "n_drop = (~keep_mask).sum() # Calculates how many rows are set to be dropped\n",
    "if n_drop > 0:\n",
    "    pct = n_drop / len(keep_mask) * 100\n",
    "    print(f\"Dropping {n_drop} rows ({pct:.2f}%) where mode='{mode}'\")"
   ]
  },
  {
   "cell_type": "code",
   "execution_count": 28,
   "id": "5fb8eee5",
   "metadata": {
    "execution": {
     "iopub.execute_input": "2025-08-05T20:40:19.819052Z",
     "iopub.status.busy": "2025-08-05T20:40:19.818578Z",
     "iopub.status.idle": "2025-08-05T20:40:19.843425Z",
     "shell.execute_reply": "2025-08-05T20:40:19.841730Z"
    },
    "papermill": {
     "duration": 0.049478,
     "end_time": "2025-08-05T20:40:19.845452",
     "exception": false,
     "start_time": "2025-08-05T20:40:19.795974",
     "status": "completed"
    },
    "tags": []
   },
   "outputs": [],
   "source": [
    "X_train = X_train[keep_mask]"
   ]
  },
  {
   "cell_type": "code",
   "execution_count": 29,
   "id": "b202bb3a",
   "metadata": {
    "execution": {
     "iopub.execute_input": "2025-08-05T20:40:19.884551Z",
     "iopub.status.busy": "2025-08-05T20:40:19.884073Z",
     "iopub.status.idle": "2025-08-05T20:40:19.891811Z",
     "shell.execute_reply": "2025-08-05T20:40:19.890609Z"
    },
    "papermill": {
     "duration": 0.029373,
     "end_time": "2025-08-05T20:40:19.894400",
     "exception": false,
     "start_time": "2025-08-05T20:40:19.865027",
     "status": "completed"
    },
    "tags": []
   },
   "outputs": [],
   "source": [
    "y_train = y_train[keep_mask]"
   ]
  },
  {
   "cell_type": "markdown",
   "id": "493e2ac3",
   "metadata": {
    "papermill": {
     "duration": 0.019496,
     "end_time": "2025-08-05T20:40:19.932832",
     "exception": false,
     "start_time": "2025-08-05T20:40:19.913336",
     "status": "completed"
    },
    "tags": []
   },
   "source": [
    "# Model Training"
   ]
  },
  {
   "cell_type": "code",
   "execution_count": 30,
   "id": "679e1268",
   "metadata": {
    "execution": {
     "iopub.execute_input": "2025-08-05T20:40:19.973002Z",
     "iopub.status.busy": "2025-08-05T20:40:19.972340Z",
     "iopub.status.idle": "2025-08-05T20:40:20.082066Z",
     "shell.execute_reply": "2025-08-05T20:40:20.081050Z"
    },
    "papermill": {
     "duration": 0.132183,
     "end_time": "2025-08-05T20:40:20.083938",
     "exception": false,
     "start_time": "2025-08-05T20:40:19.951755",
     "status": "completed"
    },
    "tags": []
   },
   "outputs": [],
   "source": [
    "from sklearn.linear_model import LogisticRegression\n",
    "from sklearn.ensemble import GradientBoostingClassifier, RandomForestClassifier\n",
    "\n",
    "if (universe[\"model\"] == \"logreg\"):\n",
    "    model = LogisticRegression() #penalty=\"none\", solver=\"newton-cg\", max_iter=1) # include random_state=19 ?\n",
    "elif (universe[\"model\"] == \"penalized_logreg\"):\n",
    "    model = LogisticRegression(penalty=\"l2\", C=0.1) #, solver=\"newton-cg\", max_iter=1)\n",
    "elif (universe[\"model\"] == \"rf\"):\n",
    "    model = RandomForestClassifier() # n_estimators=100, n_jobs=-1\n",
    "elif (universe[\"model\"] == \"gbm\"):\n",
    "    model = GradientBoostingClassifier()\n",
    "elif (universe[\"model\"] == \"elasticnet\"):\n",
    "    model = LogisticRegression(penalty = 'elasticnet', solver = 'saga', l1_ratio = 0.5) # max_iter=5000\n",
    "else:\n",
    "    raise \"Unsupported universe.model\""
   ]
  },
  {
   "cell_type": "code",
   "execution_count": 31,
   "id": "0cc8f744",
   "metadata": {
    "execution": {
     "iopub.execute_input": "2025-08-05T20:40:20.111167Z",
     "iopub.status.busy": "2025-08-05T20:40:20.110854Z",
     "iopub.status.idle": "2025-08-05T20:40:20.115610Z",
     "shell.execute_reply": "2025-08-05T20:40:20.114786Z"
    },
    "papermill": {
     "duration": 0.016928,
     "end_time": "2025-08-05T20:40:20.116946",
     "exception": false,
     "start_time": "2025-08-05T20:40:20.100018",
     "status": "completed"
    },
    "tags": []
   },
   "outputs": [],
   "source": [
    "import numpy as np\n",
    "from sklearn.pipeline import Pipeline\n",
    "from sklearn.preprocessing import StandardScaler\n",
    "\n",
    "model = Pipeline([\n",
    "    #(\"continuous_processor\", continuous_processor),\n",
    "    #(\"categorical_preprocessor\", categorical_preprocessor),\n",
    "    (\"scale\", StandardScaler() if universe[\"scale\"] == \"scale\" else None), \n",
    "    (\"model\", model),\n",
    "])"
   ]
  },
  {
   "cell_type": "code",
   "execution_count": 32,
   "id": "9442c04d",
   "metadata": {
    "execution": {
     "iopub.execute_input": "2025-08-05T20:40:20.137260Z",
     "iopub.status.busy": "2025-08-05T20:40:20.136875Z",
     "iopub.status.idle": "2025-08-05T20:40:28.568250Z",
     "shell.execute_reply": "2025-08-05T20:40:28.567411Z"
    },
    "papermill": {
     "duration": 8.442997,
     "end_time": "2025-08-05T20:40:28.569864",
     "exception": false,
     "start_time": "2025-08-05T20:40:20.126867",
     "status": "completed"
    },
    "tags": []
   },
   "outputs": [
    {
     "name": "stderr",
     "output_type": "stream",
     "text": [
      "/dss/dsshome1/0C/ra93lal2/.local/share/virtualenvs/CMA_Fairness_v2-3j10GkSs/lib/python3.10/site-packages/sklearn/linear_model/_sag.py:350: ConvergenceWarning: The max_iter was reached which means the coef_ did not converge\n",
      "  warnings.warn(\n"
     ]
    },
    {
     "data": {
      "text/html": [
       "<style>#sk-container-id-1 {color: black;background-color: white;}#sk-container-id-1 pre{padding: 0;}#sk-container-id-1 div.sk-toggleable {background-color: white;}#sk-container-id-1 label.sk-toggleable__label {cursor: pointer;display: block;width: 100%;margin-bottom: 0;padding: 0.3em;box-sizing: border-box;text-align: center;}#sk-container-id-1 label.sk-toggleable__label-arrow:before {content: \"▸\";float: left;margin-right: 0.25em;color: #696969;}#sk-container-id-1 label.sk-toggleable__label-arrow:hover:before {color: black;}#sk-container-id-1 div.sk-estimator:hover label.sk-toggleable__label-arrow:before {color: black;}#sk-container-id-1 div.sk-toggleable__content {max-height: 0;max-width: 0;overflow: hidden;text-align: left;background-color: #f0f8ff;}#sk-container-id-1 div.sk-toggleable__content pre {margin: 0.2em;color: black;border-radius: 0.25em;background-color: #f0f8ff;}#sk-container-id-1 input.sk-toggleable__control:checked~div.sk-toggleable__content {max-height: 200px;max-width: 100%;overflow: auto;}#sk-container-id-1 input.sk-toggleable__control:checked~label.sk-toggleable__label-arrow:before {content: \"▾\";}#sk-container-id-1 div.sk-estimator input.sk-toggleable__control:checked~label.sk-toggleable__label {background-color: #d4ebff;}#sk-container-id-1 div.sk-label input.sk-toggleable__control:checked~label.sk-toggleable__label {background-color: #d4ebff;}#sk-container-id-1 input.sk-hidden--visually {border: 0;clip: rect(1px 1px 1px 1px);clip: rect(1px, 1px, 1px, 1px);height: 1px;margin: -1px;overflow: hidden;padding: 0;position: absolute;width: 1px;}#sk-container-id-1 div.sk-estimator {font-family: monospace;background-color: #f0f8ff;border: 1px dotted black;border-radius: 0.25em;box-sizing: border-box;margin-bottom: 0.5em;}#sk-container-id-1 div.sk-estimator:hover {background-color: #d4ebff;}#sk-container-id-1 div.sk-parallel-item::after {content: \"\";width: 100%;border-bottom: 1px solid gray;flex-grow: 1;}#sk-container-id-1 div.sk-label:hover label.sk-toggleable__label {background-color: #d4ebff;}#sk-container-id-1 div.sk-serial::before {content: \"\";position: absolute;border-left: 1px solid gray;box-sizing: border-box;top: 0;bottom: 0;left: 50%;z-index: 0;}#sk-container-id-1 div.sk-serial {display: flex;flex-direction: column;align-items: center;background-color: white;padding-right: 0.2em;padding-left: 0.2em;position: relative;}#sk-container-id-1 div.sk-item {position: relative;z-index: 1;}#sk-container-id-1 div.sk-parallel {display: flex;align-items: stretch;justify-content: center;background-color: white;position: relative;}#sk-container-id-1 div.sk-item::before, #sk-container-id-1 div.sk-parallel-item::before {content: \"\";position: absolute;border-left: 1px solid gray;box-sizing: border-box;top: 0;bottom: 0;left: 50%;z-index: -1;}#sk-container-id-1 div.sk-parallel-item {display: flex;flex-direction: column;z-index: 1;position: relative;background-color: white;}#sk-container-id-1 div.sk-parallel-item:first-child::after {align-self: flex-end;width: 50%;}#sk-container-id-1 div.sk-parallel-item:last-child::after {align-self: flex-start;width: 50%;}#sk-container-id-1 div.sk-parallel-item:only-child::after {width: 0;}#sk-container-id-1 div.sk-dashed-wrapped {border: 1px dashed gray;margin: 0 0.4em 0.5em 0.4em;box-sizing: border-box;padding-bottom: 0.4em;background-color: white;}#sk-container-id-1 div.sk-label label {font-family: monospace;font-weight: bold;display: inline-block;line-height: 1.2em;}#sk-container-id-1 div.sk-label-container {text-align: center;}#sk-container-id-1 div.sk-container {/* jupyter's `normalize.less` sets `[hidden] { display: none; }` but bootstrap.min.css set `[hidden] { display: none !important; }` so we also need the `!important` here to be able to override the default hidden behavior on the sphinx rendered scikit-learn.org. See: https://github.com/scikit-learn/scikit-learn/issues/21755 */display: inline-block !important;position: relative;}#sk-container-id-1 div.sk-text-repr-fallback {display: none;}</style><div id=\"sk-container-id-1\" class=\"sk-top-container\"><div class=\"sk-text-repr-fallback\"><pre>Pipeline(steps=[(&#x27;scale&#x27;, StandardScaler()),\n",
       "                (&#x27;model&#x27;,\n",
       "                 LogisticRegression(l1_ratio=0.5, penalty=&#x27;elasticnet&#x27;,\n",
       "                                    solver=&#x27;saga&#x27;))])</pre><b>In a Jupyter environment, please rerun this cell to show the HTML representation or trust the notebook. <br />On GitHub, the HTML representation is unable to render, please try loading this page with nbviewer.org.</b></div><div class=\"sk-container\" hidden><div class=\"sk-item sk-dashed-wrapped\"><div class=\"sk-label-container\"><div class=\"sk-label sk-toggleable\"><input class=\"sk-toggleable__control sk-hidden--visually\" id=\"sk-estimator-id-1\" type=\"checkbox\" ><label for=\"sk-estimator-id-1\" class=\"sk-toggleable__label sk-toggleable__label-arrow\">Pipeline</label><div class=\"sk-toggleable__content\"><pre>Pipeline(steps=[(&#x27;scale&#x27;, StandardScaler()),\n",
       "                (&#x27;model&#x27;,\n",
       "                 LogisticRegression(l1_ratio=0.5, penalty=&#x27;elasticnet&#x27;,\n",
       "                                    solver=&#x27;saga&#x27;))])</pre></div></div></div><div class=\"sk-serial\"><div class=\"sk-item\"><div class=\"sk-estimator sk-toggleable\"><input class=\"sk-toggleable__control sk-hidden--visually\" id=\"sk-estimator-id-2\" type=\"checkbox\" ><label for=\"sk-estimator-id-2\" class=\"sk-toggleable__label sk-toggleable__label-arrow\">StandardScaler</label><div class=\"sk-toggleable__content\"><pre>StandardScaler()</pre></div></div></div><div class=\"sk-item\"><div class=\"sk-estimator sk-toggleable\"><input class=\"sk-toggleable__control sk-hidden--visually\" id=\"sk-estimator-id-3\" type=\"checkbox\" ><label for=\"sk-estimator-id-3\" class=\"sk-toggleable__label sk-toggleable__label-arrow\">LogisticRegression</label><div class=\"sk-toggleable__content\"><pre>LogisticRegression(l1_ratio=0.5, penalty=&#x27;elasticnet&#x27;, solver=&#x27;saga&#x27;)</pre></div></div></div></div></div></div></div>"
      ],
      "text/plain": [
       "Pipeline(steps=[('scale', StandardScaler()),\n",
       "                ('model',\n",
       "                 LogisticRegression(l1_ratio=0.5, penalty='elasticnet',\n",
       "                                    solver='saga'))])"
      ]
     },
     "execution_count": 32,
     "metadata": {},
     "output_type": "execute_result"
    }
   ],
   "source": [
    "model.fit(X_train, y_train.values.ravel())"
   ]
  },
  {
   "cell_type": "code",
   "execution_count": 33,
   "id": "af59f8c0",
   "metadata": {
    "execution": {
     "iopub.execute_input": "2025-08-05T20:40:28.610681Z",
     "iopub.status.busy": "2025-08-05T20:40:28.610225Z",
     "iopub.status.idle": "2025-08-05T20:40:28.615316Z",
     "shell.execute_reply": "2025-08-05T20:40:28.614413Z"
    },
    "papermill": {
     "duration": 0.025753,
     "end_time": "2025-08-05T20:40:28.616938",
     "exception": false,
     "start_time": "2025-08-05T20:40:28.591185",
     "status": "completed"
    },
    "tags": []
   },
   "outputs": [],
   "source": [
    "from fairness_multiverse.universe import predict_w_threshold"
   ]
  },
  {
   "cell_type": "code",
   "execution_count": 34,
   "id": "a7cf2e16",
   "metadata": {
    "execution": {
     "iopub.execute_input": "2025-08-05T20:40:28.654756Z",
     "iopub.status.busy": "2025-08-05T20:40:28.654105Z",
     "iopub.status.idle": "2025-08-05T20:40:28.838876Z",
     "shell.execute_reply": "2025-08-05T20:40:28.837990Z"
    },
    "papermill": {
     "duration": 0.20509,
     "end_time": "2025-08-05T20:40:28.840593",
     "exception": false,
     "start_time": "2025-08-05T20:40:28.635503",
     "status": "completed"
    },
    "tags": []
   },
   "outputs": [
    {
     "data": {
      "text/plain": [
       "0.8655333853528034"
      ]
     },
     "execution_count": 34,
     "metadata": {},
     "output_type": "execute_result"
    }
   ],
   "source": [
    "probs_test = model.predict_proba(X_test)\n",
    "\n",
    "'''\n",
    "Below code returns a boolean array (or binary 0/1 array depending on how it’s used) where each element \n",
    "is True if the probability of class 1 is greater than or equal to the threshold, and False otherwise.\n",
    "'''\n",
    "y_pred_default = predict_w_threshold(probs_test, 0.5)\n",
    "\n",
    "from sklearn.metrics import accuracy_score\n",
    "\n",
    "# Naive prediction\n",
    "accuracy_score(y_true = y_true, y_pred = y_pred_default)"
   ]
  },
  {
   "cell_type": "code",
   "execution_count": 35,
   "id": "081964c3",
   "metadata": {
    "execution": {
     "iopub.execute_input": "2025-08-05T20:40:28.878835Z",
     "iopub.status.busy": "2025-08-05T20:40:28.878190Z",
     "iopub.status.idle": "2025-08-05T20:40:29.053771Z",
     "shell.execute_reply": "2025-08-05T20:40:29.052720Z"
    },
    "papermill": {
     "duration": 0.196364,
     "end_time": "2025-08-05T20:40:29.055340",
     "exception": false,
     "start_time": "2025-08-05T20:40:28.858976",
     "status": "completed"
    },
    "tags": []
   },
   "outputs": [
    {
     "data": {
      "text/plain": [
       "array([0, 0, 0, ..., 0, 0, 0])"
      ]
     },
     "execution_count": 35,
     "metadata": {},
     "output_type": "execute_result"
    }
   ],
   "source": [
    "model.predict(X_test)"
   ]
  },
  {
   "cell_type": "markdown",
   "id": "56c9705b",
   "metadata": {
    "papermill": {
     "duration": 0.018544,
     "end_time": "2025-08-05T20:40:29.091921",
     "exception": false,
     "start_time": "2025-08-05T20:40:29.073377",
     "status": "completed"
    },
    "tags": []
   },
   "source": [
    "# Conformal Prediction"
   ]
  },
  {
   "cell_type": "code",
   "execution_count": 36,
   "id": "160ec6ff",
   "metadata": {
    "execution": {
     "iopub.execute_input": "2025-08-05T20:40:29.130976Z",
     "iopub.status.busy": "2025-08-05T20:40:29.129768Z",
     "iopub.status.idle": "2025-08-05T20:40:29.137167Z",
     "shell.execute_reply": "2025-08-05T20:40:29.135699Z"
    },
    "papermill": {
     "duration": 0.029017,
     "end_time": "2025-08-05T20:40:29.139178",
     "exception": false,
     "start_time": "2025-08-05T20:40:29.110161",
     "status": "completed"
    },
    "tags": []
   },
   "outputs": [],
   "source": [
    "# Miscoverage level for conformal prediction (10% allowed error rate => 90% target coverage)\n",
    "alpha = 0.1"
   ]
  },
  {
   "cell_type": "code",
   "execution_count": 37,
   "id": "eadf4555-3dd3-440e-8e35-f82a4ad9f855",
   "metadata": {
    "execution": {
     "iopub.execute_input": "2025-08-05T20:40:29.178441Z",
     "iopub.status.busy": "2025-08-05T20:40:29.177716Z",
     "iopub.status.idle": "2025-08-05T20:40:29.474228Z",
     "shell.execute_reply": "2025-08-05T20:40:29.473016Z"
    },
    "papermill": {
     "duration": 0.318251,
     "end_time": "2025-08-05T20:40:29.476149",
     "exception": false,
     "start_time": "2025-08-05T20:40:29.157898",
     "status": "completed"
    },
    "tags": []
   },
   "outputs": [],
   "source": [
    "probs_calib = model.predict_proba(X_calib)"
   ]
  },
  {
   "cell_type": "code",
   "execution_count": 38,
   "id": "2ed93547-6d5d-4983-9b36-1ecb300da49a",
   "metadata": {
    "execution": {
     "iopub.execute_input": "2025-08-05T20:40:29.517818Z",
     "iopub.status.busy": "2025-08-05T20:40:29.516759Z",
     "iopub.status.idle": "2025-08-05T20:40:29.522781Z",
     "shell.execute_reply": "2025-08-05T20:40:29.521415Z"
    },
    "papermill": {
     "duration": 0.027924,
     "end_time": "2025-08-05T20:40:29.524606",
     "exception": false,
     "start_time": "2025-08-05T20:40:29.496682",
     "status": "completed"
    },
    "tags": []
   },
   "outputs": [],
   "source": [
    "y_calib = y_calib.values.ravel().astype(int)"
   ]
  },
  {
   "cell_type": "code",
   "execution_count": 39,
   "id": "65d1320d-f588-4b38-9072-62af1ae97f7d",
   "metadata": {
    "execution": {
     "iopub.execute_input": "2025-08-05T20:40:29.563065Z",
     "iopub.status.busy": "2025-08-05T20:40:29.562332Z",
     "iopub.status.idle": "2025-08-05T20:40:29.571375Z",
     "shell.execute_reply": "2025-08-05T20:40:29.570153Z"
    },
    "papermill": {
     "duration": 0.029883,
     "end_time": "2025-08-05T20:40:29.573132",
     "exception": false,
     "start_time": "2025-08-05T20:40:29.543249",
     "status": "completed"
    },
    "tags": []
   },
   "outputs": [],
   "source": [
    "from fairness_multiverse.conformal import compute_nc_scores\n",
    "\n",
    "# Compute nonconformity scores on calibration set (1 - probability of true class)\n",
    "nc_scores = compute_nc_scores(probs_calib, y_calib)"
   ]
  },
  {
   "cell_type": "code",
   "execution_count": 40,
   "id": "df3b8ca3-53b7-43d5-9667-7c85da7aeda2",
   "metadata": {
    "execution": {
     "iopub.execute_input": "2025-08-05T20:40:29.611494Z",
     "iopub.status.busy": "2025-08-05T20:40:29.610950Z",
     "iopub.status.idle": "2025-08-05T20:40:29.618829Z",
     "shell.execute_reply": "2025-08-05T20:40:29.617794Z"
    },
    "papermill": {
     "duration": 0.028849,
     "end_time": "2025-08-05T20:40:29.620622",
     "exception": false,
     "start_time": "2025-08-05T20:40:29.591773",
     "status": "completed"
    },
    "tags": []
   },
   "outputs": [],
   "source": [
    "from fairness_multiverse.conformal import find_threshold\n",
    "\n",
    "# Find conformal threshold q_hat for the given alpha (split conformal method)\n",
    "q_hat = find_threshold(nc_scores, alpha)"
   ]
  },
  {
   "cell_type": "code",
   "execution_count": 41,
   "id": "4d29e6c1-0ef6-4aa4-b8fe-4fe79b0d033a",
   "metadata": {
    "execution": {
     "iopub.execute_input": "2025-08-05T20:40:29.665762Z",
     "iopub.status.busy": "2025-08-05T20:40:29.665119Z",
     "iopub.status.idle": "2025-08-05T20:40:29.674803Z",
     "shell.execute_reply": "2025-08-05T20:40:29.673695Z"
    },
    "papermill": {
     "duration": 0.036669,
     "end_time": "2025-08-05T20:40:29.676464",
     "exception": false,
     "start_time": "2025-08-05T20:40:29.639795",
     "status": "completed"
    },
    "tags": []
   },
   "outputs": [
    {
     "data": {
      "text/plain": [
       "0.676114054251288"
      ]
     },
     "execution_count": 41,
     "metadata": {},
     "output_type": "execute_result"
    }
   ],
   "source": [
    "q_hat"
   ]
  },
  {
   "cell_type": "code",
   "execution_count": 42,
   "id": "92460794-cdac-4be2-ba28-f28c0515a6fb",
   "metadata": {
    "execution": {
     "iopub.execute_input": "2025-08-05T20:40:29.717073Z",
     "iopub.status.busy": "2025-08-05T20:40:29.716349Z",
     "iopub.status.idle": "2025-08-05T20:40:30.541633Z",
     "shell.execute_reply": "2025-08-05T20:40:30.540445Z"
    },
    "papermill": {
     "duration": 0.847389,
     "end_time": "2025-08-05T20:40:30.543541",
     "exception": false,
     "start_time": "2025-08-05T20:40:29.696152",
     "status": "completed"
    },
    "tags": []
   },
   "outputs": [],
   "source": [
    "from fairness_multiverse.conformal import predict_conformal_sets\n",
    "\n",
    "# Generate prediction sets for each test example\n",
    "pred_sets = predict_conformal_sets(model, X_test, q_hat)"
   ]
  },
  {
   "cell_type": "code",
   "execution_count": 43,
   "id": "d90c9a65-e6db-4f5d-80cd-e68fb7e46829",
   "metadata": {
    "execution": {
     "iopub.execute_input": "2025-08-05T20:40:30.591081Z",
     "iopub.status.busy": "2025-08-05T20:40:30.590400Z",
     "iopub.status.idle": "2025-08-05T20:40:30.596252Z",
     "shell.execute_reply": "2025-08-05T20:40:30.595231Z"
    },
    "papermill": {
     "duration": 0.033442,
     "end_time": "2025-08-05T20:40:30.598300",
     "exception": false,
     "start_time": "2025-08-05T20:40:30.564858",
     "status": "completed"
    },
    "tags": []
   },
   "outputs": [],
   "source": [
    "y_true = y_true.squeeze()"
   ]
  },
  {
   "cell_type": "code",
   "execution_count": 44,
   "id": "3a58a54a-1e68-46b9-927a-df01f18aebc8",
   "metadata": {
    "execution": {
     "iopub.execute_input": "2025-08-05T20:40:30.648866Z",
     "iopub.status.busy": "2025-08-05T20:40:30.648157Z",
     "iopub.status.idle": "2025-08-05T20:40:31.499790Z",
     "shell.execute_reply": "2025-08-05T20:40:31.498650Z"
    },
    "papermill": {
     "duration": 0.873269,
     "end_time": "2025-08-05T20:40:31.501989",
     "exception": false,
     "start_time": "2025-08-05T20:40:30.628720",
     "status": "completed"
    },
    "tags": []
   },
   "outputs": [],
   "source": [
    "from fairness_multiverse.conformal import evaluate_sets\n",
    "\n",
    "# Evaluate coverage and average set size on test data\n",
    "metrics = evaluate_sets(pred_sets, y_true)"
   ]
  },
  {
   "cell_type": "markdown",
   "id": "2b569c12-9aaa-4c88-98c9-bbcd0cf3ebb8",
   "metadata": {
    "papermill": {
     "duration": 0.021395,
     "end_time": "2025-08-05T20:40:31.546681",
     "exception": false,
     "start_time": "2025-08-05T20:40:31.525286",
     "status": "completed"
    },
    "tags": []
   },
   "source": [
    "# CP Metrics"
   ]
  },
  {
   "cell_type": "code",
   "execution_count": 45,
   "id": "5ce0a5cb-201f-45a0-ade5-94c7f0bd6095",
   "metadata": {
    "execution": {
     "iopub.execute_input": "2025-08-05T20:40:31.568933Z",
     "iopub.status.busy": "2025-08-05T20:40:31.568579Z",
     "iopub.status.idle": "2025-08-05T20:40:31.575020Z",
     "shell.execute_reply": "2025-08-05T20:40:31.574191Z"
    },
    "papermill": {
     "duration": 0.019216,
     "end_time": "2025-08-05T20:40:31.576443",
     "exception": false,
     "start_time": "2025-08-05T20:40:31.557227",
     "status": "completed"
    },
    "tags": []
   },
   "outputs": [
    {
     "data": {
      "text/plain": [
       "{'coverage': 0.9126184371864898, 'avg_size': 1.1259168431612976}"
      ]
     },
     "execution_count": 45,
     "metadata": {},
     "output_type": "execute_result"
    }
   ],
   "source": [
    "metrics"
   ]
  },
  {
   "cell_type": "code",
   "execution_count": 46,
   "id": "9b9a838d-31c9-430b-ae14-12baee460d17",
   "metadata": {
    "execution": {
     "iopub.execute_input": "2025-08-05T20:40:31.600452Z",
     "iopub.status.busy": "2025-08-05T20:40:31.599630Z",
     "iopub.status.idle": "2025-08-05T20:40:31.605328Z",
     "shell.execute_reply": "2025-08-05T20:40:31.604570Z"
    },
    "papermill": {
     "duration": 0.018705,
     "end_time": "2025-08-05T20:40:31.606851",
     "exception": false,
     "start_time": "2025-08-05T20:40:31.588146",
     "status": "completed"
    },
    "tags": []
   },
   "outputs": [],
   "source": [
    "example_universe = universe.copy()\n",
    "universe_training_year = example_universe.get(\"training_year\")\n",
    "universe_training_size = example_universe.get(\"training_size\")\n",
    "universe_scale = example_universe.get(\"scale\")\n",
    "universe_model = example_universe.get(\"model\")\n",
    "universe_exclude_features = example_universe.get(\"exclude_features\")\n",
    "universe_exclude_subgroups = example_universe.get(\"exclude_subgroups\")"
   ]
  },
  {
   "cell_type": "code",
   "execution_count": 47,
   "id": "f4b6a8ac-9dc0-4245-8a91-5b3b5999c4f9",
   "metadata": {
    "execution": {
     "iopub.execute_input": "2025-08-05T20:40:31.632406Z",
     "iopub.status.busy": "2025-08-05T20:40:31.632068Z",
     "iopub.status.idle": "2025-08-05T20:40:31.637007Z",
     "shell.execute_reply": "2025-08-05T20:40:31.636190Z"
    },
    "papermill": {
     "duration": 0.019886,
     "end_time": "2025-08-05T20:40:31.638324",
     "exception": false,
     "start_time": "2025-08-05T20:40:31.618438",
     "status": "completed"
    },
    "tags": []
   },
   "outputs": [],
   "source": [
    "cp_metrics_dict = {\n",
    "    \"universe_id\": [universe_id],\n",
    "    \"universe_training_year\": [universe_training_year],\n",
    "    \"universe_training_size\": [universe_training_size],\n",
    "    \"universe_scale\": [universe_scale],\n",
    "    \"universe_model\": [universe_model],\n",
    "    \"universe_exclude_features\": [universe_exclude_features],\n",
    "    \"universe_exclude_subgroups\": [universe_exclude_subgroups],\n",
    "    \"q_hat\": [q_hat],\n",
    "    \"coverage\": [metrics[\"coverage\"]],\n",
    "    \"avg_size\": [metrics[\"avg_size\"]],\n",
    "}"
   ]
  },
  {
   "cell_type": "code",
   "execution_count": 48,
   "id": "908acbb1-0371-4915-85ca-3fa520d2efe2",
   "metadata": {
    "execution": {
     "iopub.execute_input": "2025-08-05T20:40:31.662565Z",
     "iopub.status.busy": "2025-08-05T20:40:31.662072Z",
     "iopub.status.idle": "2025-08-05T20:40:31.669577Z",
     "shell.execute_reply": "2025-08-05T20:40:31.668426Z"
    },
    "papermill": {
     "duration": 0.021962,
     "end_time": "2025-08-05T20:40:31.671583",
     "exception": false,
     "start_time": "2025-08-05T20:40:31.649621",
     "status": "completed"
    },
    "tags": []
   },
   "outputs": [
    {
     "data": {
      "text/plain": [
       "{'universe_id': ['e1a23ce94a22c6cb1a4162da178861e1'],\n",
       " 'universe_training_year': ['2014'],\n",
       " 'universe_training_size': ['25k'],\n",
       " 'universe_scale': ['scale'],\n",
       " 'universe_model': ['elasticnet'],\n",
       " 'universe_exclude_features': ['nationality-sex'],\n",
       " 'universe_exclude_subgroups': ['keep-all'],\n",
       " 'q_hat': [0.676114054251288],\n",
       " 'coverage': [0.9126184371864898],\n",
       " 'avg_size': [1.1259168431612976]}"
      ]
     },
     "execution_count": 48,
     "metadata": {},
     "output_type": "execute_result"
    }
   ],
   "source": [
    "cp_metrics_dict"
   ]
  },
  {
   "cell_type": "code",
   "execution_count": 49,
   "id": "33007efc-14e9-4ec6-97ac-56a455c82265",
   "metadata": {
    "execution": {
     "iopub.execute_input": "2025-08-05T20:40:31.695883Z",
     "iopub.status.busy": "2025-08-05T20:40:31.695466Z",
     "iopub.status.idle": "2025-08-05T20:40:31.700223Z",
     "shell.execute_reply": "2025-08-05T20:40:31.699247Z"
    },
    "papermill": {
     "duration": 0.018666,
     "end_time": "2025-08-05T20:40:31.701620",
     "exception": false,
     "start_time": "2025-08-05T20:40:31.682954",
     "status": "completed"
    },
    "tags": []
   },
   "outputs": [],
   "source": [
    "cp_metrics_df = pd.DataFrame(cp_metrics_dict)"
   ]
  },
  {
   "cell_type": "code",
   "execution_count": 50,
   "id": "db12611b-57b2-4910-b9d0-355adfd6e7bf",
   "metadata": {
    "execution": {
     "iopub.execute_input": "2025-08-05T20:40:31.729270Z",
     "iopub.status.busy": "2025-08-05T20:40:31.728775Z",
     "iopub.status.idle": "2025-08-05T20:40:31.742737Z",
     "shell.execute_reply": "2025-08-05T20:40:31.742010Z"
    },
    "papermill": {
     "duration": 0.026734,
     "end_time": "2025-08-05T20:40:31.743985",
     "exception": false,
     "start_time": "2025-08-05T20:40:31.717251",
     "status": "completed"
    },
    "tags": []
   },
   "outputs": [
    {
     "data": {
      "text/html": [
       "<div>\n",
       "<style scoped>\n",
       "    .dataframe tbody tr th:only-of-type {\n",
       "        vertical-align: middle;\n",
       "    }\n",
       "\n",
       "    .dataframe tbody tr th {\n",
       "        vertical-align: top;\n",
       "    }\n",
       "\n",
       "    .dataframe thead th {\n",
       "        text-align: right;\n",
       "    }\n",
       "</style>\n",
       "<table border=\"1\" class=\"dataframe\">\n",
       "  <thead>\n",
       "    <tr style=\"text-align: right;\">\n",
       "      <th></th>\n",
       "      <th>universe_id</th>\n",
       "      <th>universe_training_year</th>\n",
       "      <th>universe_training_size</th>\n",
       "      <th>universe_scale</th>\n",
       "      <th>universe_model</th>\n",
       "      <th>universe_exclude_features</th>\n",
       "      <th>universe_exclude_subgroups</th>\n",
       "      <th>q_hat</th>\n",
       "      <th>coverage</th>\n",
       "      <th>avg_size</th>\n",
       "    </tr>\n",
       "  </thead>\n",
       "  <tbody>\n",
       "    <tr>\n",
       "      <th>0</th>\n",
       "      <td>e1a23ce94a22c6cb1a4162da178861e1</td>\n",
       "      <td>2014</td>\n",
       "      <td>25k</td>\n",
       "      <td>scale</td>\n",
       "      <td>elasticnet</td>\n",
       "      <td>nationality-sex</td>\n",
       "      <td>keep-all</td>\n",
       "      <td>0.676114</td>\n",
       "      <td>0.912618</td>\n",
       "      <td>1.125917</td>\n",
       "    </tr>\n",
       "  </tbody>\n",
       "</table>\n",
       "</div>"
      ],
      "text/plain": [
       "                        universe_id universe_training_year  \\\n",
       "0  e1a23ce94a22c6cb1a4162da178861e1                   2014   \n",
       "\n",
       "  universe_training_size universe_scale universe_model  \\\n",
       "0                    25k          scale     elasticnet   \n",
       "\n",
       "  universe_exclude_features universe_exclude_subgroups     q_hat  coverage  \\\n",
       "0           nationality-sex                   keep-all  0.676114  0.912618   \n",
       "\n",
       "   avg_size  \n",
       "0  1.125917  "
      ]
     },
     "execution_count": 50,
     "metadata": {},
     "output_type": "execute_result"
    }
   ],
   "source": [
    "cp_metrics_df"
   ]
  },
  {
   "cell_type": "code",
   "execution_count": 51,
   "id": "b7fbde55-a0a1-47e4-9af6-fe4a17fa8c61",
   "metadata": {
    "execution": {
     "iopub.execute_input": "2025-08-05T20:40:31.771935Z",
     "iopub.status.busy": "2025-08-05T20:40:31.771429Z",
     "iopub.status.idle": "2025-08-05T20:40:31.776102Z",
     "shell.execute_reply": "2025-08-05T20:40:31.775225Z"
    },
    "papermill": {
     "duration": 0.01812,
     "end_time": "2025-08-05T20:40:31.777477",
     "exception": false,
     "start_time": "2025-08-05T20:40:31.759357",
     "status": "completed"
    },
    "tags": []
   },
   "outputs": [],
   "source": [
    "# Conditional Coverage & looking at subgroups"
   ]
  },
  {
   "cell_type": "code",
   "execution_count": 52,
   "id": "027ae886-68dd-4141-96c7-805a5450e1ef",
   "metadata": {
    "execution": {
     "iopub.execute_input": "2025-08-05T20:40:31.815884Z",
     "iopub.status.busy": "2025-08-05T20:40:31.815406Z",
     "iopub.status.idle": "2025-08-05T20:40:32.024026Z",
     "shell.execute_reply": "2025-08-05T20:40:32.023242Z"
    },
    "papermill": {
     "duration": 0.224717,
     "end_time": "2025-08-05T20:40:32.025408",
     "exception": false,
     "start_time": "2025-08-05T20:40:31.800691",
     "status": "completed"
    },
    "tags": []
   },
   "outputs": [],
   "source": [
    "from fairness_multiverse.conformal import build_cp_groups\n",
    "\n",
    "cp_groups_df = build_cp_groups(pred_sets, y_true, X_test.index, org_test)\n",
    "#needs universe_id and setting"
   ]
  },
  {
   "cell_type": "code",
   "execution_count": 53,
   "id": "6cbdab96-b2b2-45af-ad54-d0516db2e28d",
   "metadata": {
    "execution": {
     "iopub.execute_input": "2025-08-05T20:40:32.049119Z",
     "iopub.status.busy": "2025-08-05T20:40:32.048609Z",
     "iopub.status.idle": "2025-08-05T20:40:33.905323Z",
     "shell.execute_reply": "2025-08-05T20:40:33.904184Z"
    },
    "papermill": {
     "duration": 1.870796,
     "end_time": "2025-08-05T20:40:33.907763",
     "exception": false,
     "start_time": "2025-08-05T20:40:32.036967",
     "status": "completed"
    },
    "tags": []
   },
   "outputs": [],
   "source": [
    "# Define covered = 1 if true_label is in the predicted set\n",
    "cp_groups_df['covered'] = cp_groups_df.apply(\n",
    "    lambda r: int(r['true_label'] in r['pred_set']),\n",
    "    axis=1\n",
    ")"
   ]
  },
  {
   "cell_type": "code",
   "execution_count": 54,
   "id": "338ff529-1a6b-4b87-a931-8e4788d52aad",
   "metadata": {
    "execution": {
     "iopub.execute_input": "2025-08-05T20:40:33.970595Z",
     "iopub.status.busy": "2025-08-05T20:40:33.969813Z",
     "iopub.status.idle": "2025-08-05T20:40:33.975457Z",
     "shell.execute_reply": "2025-08-05T20:40:33.974325Z"
    },
    "papermill": {
     "duration": 0.040696,
     "end_time": "2025-08-05T20:40:33.977396",
     "exception": false,
     "start_time": "2025-08-05T20:40:33.936700",
     "status": "completed"
    },
    "tags": []
   },
   "outputs": [],
   "source": [
    "#cp_groups_df"
   ]
  },
  {
   "cell_type": "code",
   "execution_count": 55,
   "id": "90032e27-66df-4540-9169-4e89cfbaa758",
   "metadata": {
    "execution": {
     "iopub.execute_input": "2025-08-05T20:40:34.030957Z",
     "iopub.status.busy": "2025-08-05T20:40:34.030298Z",
     "iopub.status.idle": "2025-08-05T20:40:34.045343Z",
     "shell.execute_reply": "2025-08-05T20:40:34.044426Z"
    },
    "papermill": {
     "duration": 0.043155,
     "end_time": "2025-08-05T20:40:34.047207",
     "exception": false,
     "start_time": "2025-08-05T20:40:34.004052",
     "status": "completed"
    },
    "tags": []
   },
   "outputs": [],
   "source": [
    "subgroups = ['frau1','nongerman','nongerman_male','nongerman_female']\n",
    "\n",
    "# Conditional coverage for subgroup==1\n",
    "cond_coverage = {\n",
    "    g: cp_groups_df.loc[cp_groups_df[g]==1, 'covered'].mean()\n",
    "    for g in subgroups\n",
    "}"
   ]
  },
  {
   "cell_type": "code",
   "execution_count": 56,
   "id": "1e348fb1-b9c3-45bc-ba23-f016827a7e0d",
   "metadata": {
    "execution": {
     "iopub.execute_input": "2025-08-05T20:40:34.099992Z",
     "iopub.status.busy": "2025-08-05T20:40:34.099393Z",
     "iopub.status.idle": "2025-08-05T20:40:34.108262Z",
     "shell.execute_reply": "2025-08-05T20:40:34.107039Z"
    },
    "papermill": {
     "duration": 0.03717,
     "end_time": "2025-08-05T20:40:34.110096",
     "exception": false,
     "start_time": "2025-08-05T20:40:34.072926",
     "status": "completed"
    },
    "tags": []
   },
   "outputs": [
    {
     "data": {
      "text/plain": [
       "{'frau1': 0.9127106078986387,\n",
       " 'nongerman': 0.9127042047942514,\n",
       " 'nongerman_male': 0.9274970728631902,\n",
       " 'nongerman_female': 0.8882265275707899}"
      ]
     },
     "execution_count": 56,
     "metadata": {},
     "output_type": "execute_result"
    }
   ],
   "source": [
    "cond_coverage"
   ]
  },
  {
   "cell_type": "code",
   "execution_count": 57,
   "id": "f5093324-c3dd-4d63-bc4c-8d945e5c8bbb",
   "metadata": {
    "execution": {
     "iopub.execute_input": "2025-08-05T20:40:34.163638Z",
     "iopub.status.busy": "2025-08-05T20:40:34.162800Z",
     "iopub.status.idle": "2025-08-05T20:40:34.172856Z",
     "shell.execute_reply": "2025-08-05T20:40:34.171640Z"
    },
    "papermill": {
     "duration": 0.038869,
     "end_time": "2025-08-05T20:40:34.174715",
     "exception": false,
     "start_time": "2025-08-05T20:40:34.135846",
     "status": "completed"
    },
    "tags": []
   },
   "outputs": [],
   "source": [
    "for subgroup, cov in cond_coverage.items():\n",
    "    cp_metrics_df[f\"cov_{subgroup}\"] = cov"
   ]
  },
  {
   "cell_type": "code",
   "execution_count": 58,
   "id": "6e872e10-dbe5-49e8-b554-5030c98ff75d",
   "metadata": {
    "execution": {
     "iopub.execute_input": "2025-08-05T20:40:34.228360Z",
     "iopub.status.busy": "2025-08-05T20:40:34.227564Z",
     "iopub.status.idle": "2025-08-05T20:40:34.248990Z",
     "shell.execute_reply": "2025-08-05T20:40:34.247877Z"
    },
    "papermill": {
     "duration": 0.05005,
     "end_time": "2025-08-05T20:40:34.250793",
     "exception": false,
     "start_time": "2025-08-05T20:40:34.200743",
     "status": "completed"
    },
    "tags": []
   },
   "outputs": [
    {
     "data": {
      "text/html": [
       "<div>\n",
       "<style scoped>\n",
       "    .dataframe tbody tr th:only-of-type {\n",
       "        vertical-align: middle;\n",
       "    }\n",
       "\n",
       "    .dataframe tbody tr th {\n",
       "        vertical-align: top;\n",
       "    }\n",
       "\n",
       "    .dataframe thead th {\n",
       "        text-align: right;\n",
       "    }\n",
       "</style>\n",
       "<table border=\"1\" class=\"dataframe\">\n",
       "  <thead>\n",
       "    <tr style=\"text-align: right;\">\n",
       "      <th></th>\n",
       "      <th>universe_id</th>\n",
       "      <th>universe_training_year</th>\n",
       "      <th>universe_training_size</th>\n",
       "      <th>universe_scale</th>\n",
       "      <th>universe_model</th>\n",
       "      <th>universe_exclude_features</th>\n",
       "      <th>universe_exclude_subgroups</th>\n",
       "      <th>q_hat</th>\n",
       "      <th>coverage</th>\n",
       "      <th>avg_size</th>\n",
       "      <th>cov_frau1</th>\n",
       "      <th>cov_nongerman</th>\n",
       "      <th>cov_nongerman_male</th>\n",
       "      <th>cov_nongerman_female</th>\n",
       "    </tr>\n",
       "  </thead>\n",
       "  <tbody>\n",
       "    <tr>\n",
       "      <th>0</th>\n",
       "      <td>e1a23ce94a22c6cb1a4162da178861e1</td>\n",
       "      <td>2014</td>\n",
       "      <td>25k</td>\n",
       "      <td>scale</td>\n",
       "      <td>elasticnet</td>\n",
       "      <td>nationality-sex</td>\n",
       "      <td>keep-all</td>\n",
       "      <td>0.676114</td>\n",
       "      <td>0.912618</td>\n",
       "      <td>1.125917</td>\n",
       "      <td>0.912711</td>\n",
       "      <td>0.912704</td>\n",
       "      <td>0.927497</td>\n",
       "      <td>0.888227</td>\n",
       "    </tr>\n",
       "  </tbody>\n",
       "</table>\n",
       "</div>"
      ],
      "text/plain": [
       "                        universe_id universe_training_year  \\\n",
       "0  e1a23ce94a22c6cb1a4162da178861e1                   2014   \n",
       "\n",
       "  universe_training_size universe_scale universe_model  \\\n",
       "0                    25k          scale     elasticnet   \n",
       "\n",
       "  universe_exclude_features universe_exclude_subgroups     q_hat  coverage  \\\n",
       "0           nationality-sex                   keep-all  0.676114  0.912618   \n",
       "\n",
       "   avg_size  cov_frau1  cov_nongerman  cov_nongerman_male  \\\n",
       "0  1.125917   0.912711       0.912704            0.927497   \n",
       "\n",
       "   cov_nongerman_female  \n",
       "0              0.888227  "
      ]
     },
     "execution_count": 58,
     "metadata": {},
     "output_type": "execute_result"
    }
   ],
   "source": [
    "cp_metrics_df"
   ]
  },
  {
   "cell_type": "markdown",
   "id": "33774451",
   "metadata": {
    "papermill": {
     "duration": 0.024683,
     "end_time": "2025-08-05T20:40:34.301180",
     "exception": false,
     "start_time": "2025-08-05T20:40:34.276497",
     "status": "completed"
    },
    "tags": []
   },
   "source": [
    "# (Fairness) Metrics"
   ]
  },
  {
   "cell_type": "code",
   "execution_count": 59,
   "id": "debc5d62",
   "metadata": {
    "execution": {
     "iopub.execute_input": "2025-08-05T20:40:34.356320Z",
     "iopub.status.busy": "2025-08-05T20:40:34.355193Z",
     "iopub.status.idle": "2025-08-05T20:40:34.378950Z",
     "shell.execute_reply": "2025-08-05T20:40:34.377812Z"
    },
    "papermill": {
     "duration": 0.053911,
     "end_time": "2025-08-05T20:40:34.381088",
     "exception": false,
     "start_time": "2025-08-05T20:40:34.327177",
     "status": "completed"
    },
    "tags": []
   },
   "outputs": [],
   "source": [
    "# do I need to include maxdeutsch1.missing?\n",
    "\n",
    "import numpy as np\n",
    "\n",
    "colname_to_bin = \"maxdeutsch1\"\n",
    "majority_value = org_train[colname_to_bin].mode()[0]\n",
    "\n",
    "org_test[\"majmin\"] = np.where(org_test[colname_to_bin] == majority_value, \"majority\", \"minority\")"
   ]
  },
  {
   "cell_type": "code",
   "execution_count": 60,
   "id": "06a50de5",
   "metadata": {
    "execution": {
     "iopub.execute_input": "2025-08-05T20:40:34.438045Z",
     "iopub.status.busy": "2025-08-05T20:40:34.437042Z",
     "iopub.status.idle": "2025-08-05T20:40:36.969882Z",
     "shell.execute_reply": "2025-08-05T20:40:36.968876Z"
    },
    "papermill": {
     "duration": 2.562569,
     "end_time": "2025-08-05T20:40:36.971871",
     "exception": false,
     "start_time": "2025-08-05T20:40:34.409302",
     "status": "completed"
    },
    "tags": []
   },
   "outputs": [],
   "source": [
    "example_universe = universe.copy()\n",
    "example_universe[\"cutoff\"] = example_universe[\"cutoff\"][0]\n",
    "example_universe[\"eval_fairness_grouping\"] = example_universe[\"eval_fairness_grouping\"][0]\n",
    "fairness_dict, metric_frame = universe_analysis.compute_metrics(\n",
    "    example_universe,\n",
    "    y_pred_prob=probs_test,\n",
    "    y_test=y_true,\n",
    "    org_test=org_test,\n",
    ")"
   ]
  },
  {
   "cell_type": "markdown",
   "id": "f95d4e02",
   "metadata": {
    "papermill": {
     "duration": 0.023566,
     "end_time": "2025-08-05T20:40:37.020234",
     "exception": false,
     "start_time": "2025-08-05T20:40:36.996668",
     "status": "completed"
    },
    "tags": []
   },
   "source": [
    "# Overall"
   ]
  },
  {
   "cell_type": "markdown",
   "id": "bdee4871",
   "metadata": {
    "papermill": {
     "duration": 0.023397,
     "end_time": "2025-08-05T20:40:37.067151",
     "exception": false,
     "start_time": "2025-08-05T20:40:37.043754",
     "status": "completed"
    },
    "tags": []
   },
   "source": [
    "Fairness\n",
    "Main fairness target: Equalized Odds. Seems to be a better fit than equal opportunity, since we're not only interested in Y = 1. Seems to be a better fit than demographic parity, since we also care about accuracy, not just equal distribution of preds.\n",
    "\n",
    "Pick column for computation of fairness metrics\n",
    "\n",
    "Performance\n",
    "Overall performance measures, most interesting in relation to the measures split by group below"
   ]
  },
  {
   "cell_type": "code",
   "execution_count": 61,
   "id": "c4e067c6",
   "metadata": {
    "execution": {
     "iopub.execute_input": "2025-08-05T20:40:37.116425Z",
     "iopub.status.busy": "2025-08-05T20:40:37.115564Z",
     "iopub.status.idle": "2025-08-05T20:40:37.124169Z",
     "shell.execute_reply": "2025-08-05T20:40:37.123134Z"
    },
    "papermill": {
     "duration": 0.035157,
     "end_time": "2025-08-05T20:40:37.126078",
     "exception": false,
     "start_time": "2025-08-05T20:40:37.090921",
     "status": "completed"
    },
    "tags": []
   },
   "outputs": [
    {
     "data": {
      "text/plain": [
       "accuracy                   0.225493\n",
       "balanced accuracy          0.551128\n",
       "f1                         0.246794\n",
       "precision                  0.140985\n",
       "false positive rate        0.886883\n",
       "false negative rate        0.010862\n",
       "selection rate             0.900000\n",
       "count                  89710.000000\n",
       "dtype: float64"
      ]
     },
     "execution_count": 61,
     "metadata": {},
     "output_type": "execute_result"
    }
   ],
   "source": [
    "metric_frame.overall"
   ]
  },
  {
   "cell_type": "markdown",
   "id": "e968fe9d",
   "metadata": {
    "papermill": {
     "duration": 0.019891,
     "end_time": "2025-08-05T20:40:37.168501",
     "exception": false,
     "start_time": "2025-08-05T20:40:37.148610",
     "status": "completed"
    },
    "tags": []
   },
   "source": [
    "By Group"
   ]
  },
  {
   "cell_type": "code",
   "execution_count": 62,
   "id": "ec325bce",
   "metadata": {
    "execution": {
     "iopub.execute_input": "2025-08-05T20:40:37.212323Z",
     "iopub.status.busy": "2025-08-05T20:40:37.211045Z",
     "iopub.status.idle": "2025-08-05T20:40:37.228957Z",
     "shell.execute_reply": "2025-08-05T20:40:37.228058Z"
    },
    "papermill": {
     "duration": 0.041832,
     "end_time": "2025-08-05T20:40:37.230844",
     "exception": false,
     "start_time": "2025-08-05T20:40:37.189012",
     "status": "completed"
    },
    "tags": []
   },
   "outputs": [
    {
     "data": {
      "text/html": [
       "<div>\n",
       "<style scoped>\n",
       "    .dataframe tbody tr th:only-of-type {\n",
       "        vertical-align: middle;\n",
       "    }\n",
       "\n",
       "    .dataframe tbody tr th {\n",
       "        vertical-align: top;\n",
       "    }\n",
       "\n",
       "    .dataframe thead th {\n",
       "        text-align: right;\n",
       "    }\n",
       "</style>\n",
       "<table border=\"1\" class=\"dataframe\">\n",
       "  <thead>\n",
       "    <tr style=\"text-align: right;\">\n",
       "      <th></th>\n",
       "      <th>accuracy</th>\n",
       "      <th>balanced accuracy</th>\n",
       "      <th>f1</th>\n",
       "      <th>precision</th>\n",
       "      <th>false positive rate</th>\n",
       "      <th>false negative rate</th>\n",
       "      <th>selection rate</th>\n",
       "      <th>count</th>\n",
       "    </tr>\n",
       "    <tr>\n",
       "      <th>majmin</th>\n",
       "      <th></th>\n",
       "      <th></th>\n",
       "      <th></th>\n",
       "      <th></th>\n",
       "      <th></th>\n",
       "      <th></th>\n",
       "      <th></th>\n",
       "      <th></th>\n",
       "    </tr>\n",
       "  </thead>\n",
       "  <tbody>\n",
       "    <tr>\n",
       "      <th>majority</th>\n",
       "      <td>0.247203</td>\n",
       "      <td>0.561144</td>\n",
       "      <td>0.257497</td>\n",
       "      <td>0.148043</td>\n",
       "      <td>0.865567</td>\n",
       "      <td>0.012144</td>\n",
       "      <td>0.881726</td>\n",
       "      <td>69170.0</td>\n",
       "    </tr>\n",
       "    <tr>\n",
       "      <th>minority</th>\n",
       "      <td>0.152386</td>\n",
       "      <td>0.518395</td>\n",
       "      <td>0.212858</td>\n",
       "      <td>0.119190</td>\n",
       "      <td>0.957297</td>\n",
       "      <td>0.005912</td>\n",
       "      <td>0.961538</td>\n",
       "      <td>20540.0</td>\n",
       "    </tr>\n",
       "  </tbody>\n",
       "</table>\n",
       "</div>"
      ],
      "text/plain": [
       "          accuracy  balanced accuracy        f1  precision  \\\n",
       "majmin                                                       \n",
       "majority  0.247203           0.561144  0.257497   0.148043   \n",
       "minority  0.152386           0.518395  0.212858   0.119190   \n",
       "\n",
       "          false positive rate  false negative rate  selection rate    count  \n",
       "majmin                                                                       \n",
       "majority             0.865567             0.012144        0.881726  69170.0  \n",
       "minority             0.957297             0.005912        0.961538  20540.0  "
      ]
     },
     "execution_count": 62,
     "metadata": {},
     "output_type": "execute_result"
    }
   ],
   "source": [
    "metric_frame.by_group"
   ]
  },
  {
   "cell_type": "code",
   "execution_count": 63,
   "id": "a9ddbe63",
   "metadata": {
    "execution": {
     "iopub.execute_input": "2025-08-05T20:40:37.278984Z",
     "iopub.status.busy": "2025-08-05T20:40:37.278507Z",
     "iopub.status.idle": "2025-08-05T20:40:39.401525Z",
     "shell.execute_reply": "2025-08-05T20:40:39.400783Z"
    },
    "papermill": {
     "duration": 2.147992,
     "end_time": "2025-08-05T20:40:39.402680",
     "exception": false,
     "start_time": "2025-08-05T20:40:37.254688",
     "status": "completed"
    },
    "tags": []
   },
   "outputs": [
    {
     "data": {
      "text/plain": [
       "array([[<Axes: title={'center': 'accuracy'}, xlabel='majmin'>,\n",
       "        <Axes: title={'center': 'balanced accuracy'}, xlabel='majmin'>,\n",
       "        <Axes: title={'center': 'f1'}, xlabel='majmin'>],\n",
       "       [<Axes: title={'center': 'precision'}, xlabel='majmin'>,\n",
       "        <Axes: title={'center': 'false positive rate'}, xlabel='majmin'>,\n",
       "        <Axes: title={'center': 'false negative rate'}, xlabel='majmin'>],\n",
       "       [<Axes: title={'center': 'selection rate'}, xlabel='majmin'>,\n",
       "        <Axes: title={'center': 'count'}, xlabel='majmin'>,\n",
       "        <Axes: xlabel='majmin'>]], dtype=object)"
      ]
     },
     "execution_count": 63,
     "metadata": {},
     "output_type": "execute_result"
    },
    {
     "data": {
      "image/png": "[encoded data removed]",
      "text/plain": [
       "<Figure size 1200x800 with 9 Axes>"
      ]
     },
     "metadata": {},
     "output_type": "display_data"
    }
   ],
   "source": [
    "# In a graphic\n",
    "metric_frame.by_group.plot.bar(\n",
    "    subplots=True,\n",
    "    layout=[3, 3],\n",
    "    legend=False,\n",
    "    figsize=[12, 8],\n",
    "    title=\"Show all metrics\",\n",
    ")"
   ]
  },
  {
   "cell_type": "markdown",
   "id": "f57a0bac",
   "metadata": {
    "papermill": {
     "duration": 0.016345,
     "end_time": "2025-08-05T20:40:39.435624",
     "exception": false,
     "start_time": "2025-08-05T20:40:39.419279",
     "status": "completed"
    },
    "tags": []
   },
   "source": [
    "# Final Output"
   ]
  },
  {
   "cell_type": "code",
   "execution_count": 64,
   "id": "96d280a3",
   "metadata": {
    "execution": {
     "iopub.execute_input": "2025-08-05T20:40:39.487919Z",
     "iopub.status.busy": "2025-08-05T20:40:39.487480Z",
     "iopub.status.idle": "2025-08-05T20:40:39.494186Z",
     "shell.execute_reply": "2025-08-05T20:40:39.493399Z"
    },
    "papermill": {
     "duration": 0.021245,
     "end_time": "2025-08-05T20:40:39.495422",
     "exception": false,
     "start_time": "2025-08-05T20:40:39.474177",
     "status": "completed"
    },
    "tags": []
   },
   "outputs": [
    {
     "data": {
      "text/plain": [
       "4"
      ]
     },
     "execution_count": 64,
     "metadata": {},
     "output_type": "execute_result"
    }
   ],
   "source": [
    "sub_universes = universe_analysis.generate_sub_universes()\n",
    "len(sub_universes)"
   ]
  },
  {
   "cell_type": "code",
   "execution_count": 65,
   "id": "92adf7ba",
   "metadata": {
    "execution": {
     "iopub.execute_input": "2025-08-05T20:40:39.521581Z",
     "iopub.status.busy": "2025-08-05T20:40:39.521067Z",
     "iopub.status.idle": "2025-08-05T20:40:39.549405Z",
     "shell.execute_reply": "2025-08-05T20:40:39.548651Z"
    },
    "papermill": {
     "duration": 0.042994,
     "end_time": "2025-08-05T20:40:39.550914",
     "exception": false,
     "start_time": "2025-08-05T20:40:39.507920",
     "status": "completed"
    },
    "tags": []
   },
   "outputs": [],
   "source": [
    "def filter_sub_universe_data(sub_universe, org_test):\n",
    "    # Keep all rows — no filtering\n",
    "    keep_rows_mask = np.ones(org_test.shape[0], dtype=bool)\n",
    "\n",
    "    print(f\"[INFO] Keeping all rows: {keep_rows_mask.sum()} rows retained.\")\n",
    "    return keep_rows_mask"
   ]
  },
  {
   "cell_type": "code",
   "execution_count": 66,
   "id": "4a759155",
   "metadata": {
    "execution": {
     "iopub.execute_input": "2025-08-05T20:40:39.582103Z",
     "iopub.status.busy": "2025-08-05T20:40:39.581709Z",
     "iopub.status.idle": "2025-08-05T20:40:49.181263Z",
     "shell.execute_reply": "2025-08-05T20:40:49.180075Z"
    },
    "papermill": {
     "duration": 9.61691,
     "end_time": "2025-08-05T20:40:49.183040",
     "exception": false,
     "start_time": "2025-08-05T20:40:39.566130",
     "status": "completed"
    },
    "tags": []
   },
   "outputs": [
    {
     "name": "stdout",
     "output_type": "stream",
     "text": [
      "Stopping execution_time clock.\n",
      "[INFO] Keeping all rows: 89710 rows retained.\n"
     ]
    },
    {
     "name": "stdout",
     "output_type": "stream",
     "text": [
      "[INFO] Keeping all rows: 89710 rows retained.\n"
     ]
    },
    {
     "name": "stdout",
     "output_type": "stream",
     "text": [
      "[INFO] Keeping all rows: 89710 rows retained.\n"
     ]
    },
    {
     "name": "stdout",
     "output_type": "stream",
     "text": [
      "[INFO] Keeping all rows: 89710 rows retained.\n"
     ]
    },
    {
     "data": {
      "text/html": [
       "<div>\n",
       "<style scoped>\n",
       "    .dataframe tbody tr th:only-of-type {\n",
       "        vertical-align: middle;\n",
       "    }\n",
       "\n",
       "    .dataframe tbody tr th {\n",
       "        vertical-align: top;\n",
       "    }\n",
       "\n",
       "    .dataframe thead th {\n",
       "        text-align: right;\n",
       "    }\n",
       "</style>\n",
       "<table border=\"1\" class=\"dataframe\">\n",
       "  <thead>\n",
       "    <tr style=\"text-align: right;\">\n",
       "      <th></th>\n",
       "      <th>run_no</th>\n",
       "      <th>universe_id</th>\n",
       "      <th>universe_settings</th>\n",
       "      <th>execution_time</th>\n",
       "      <th>test_size_n</th>\n",
       "      <th>test_size_frac</th>\n",
       "      <th>fair_main_equalized_odds_difference</th>\n",
       "      <th>fair_main_equalized_odds_ratio</th>\n",
       "      <th>fair_main_demographic_parity_difference</th>\n",
       "      <th>fair_main_demographic_parity_ratio</th>\n",
       "      <th>...</th>\n",
       "      <th>perf_grp_precision_0</th>\n",
       "      <th>perf_grp_precision_1</th>\n",
       "      <th>perf_grp_false positive rate_0</th>\n",
       "      <th>perf_grp_false positive rate_1</th>\n",
       "      <th>perf_grp_false negative rate_0</th>\n",
       "      <th>perf_grp_false negative rate_1</th>\n",
       "      <th>perf_grp_selection rate_0</th>\n",
       "      <th>perf_grp_selection rate_1</th>\n",
       "      <th>perf_grp_count_0</th>\n",
       "      <th>perf_grp_count_1</th>\n",
       "    </tr>\n",
       "  </thead>\n",
       "  <tbody>\n",
       "    <tr>\n",
       "      <th>0</th>\n",
       "      <td>16</td>\n",
       "      <td>e1a23ce94a22c6cb1a4162da178861e1</td>\n",
       "      <td>{\"cutoff\": \"quantile_0.1\", \"eval_fairness_grou...</td>\n",
       "      <td>33.755442</td>\n",
       "      <td>89710</td>\n",
       "      <td>1.0</td>\n",
       "      <td>0.091730</td>\n",
       "      <td>0.904178</td>\n",
       "      <td>0.079812</td>\n",
       "      <td>0.916995</td>\n",
       "      <td>...</td>\n",
       "      <td>NaN</td>\n",
       "      <td>NaN</td>\n",
       "      <td>NaN</td>\n",
       "      <td>NaN</td>\n",
       "      <td>NaN</td>\n",
       "      <td>NaN</td>\n",
       "      <td>NaN</td>\n",
       "      <td>NaN</td>\n",
       "      <td>NaN</td>\n",
       "      <td>NaN</td>\n",
       "    </tr>\n",
       "    <tr>\n",
       "      <th>0</th>\n",
       "      <td>16</td>\n",
       "      <td>e1a23ce94a22c6cb1a4162da178861e1</td>\n",
       "      <td>{\"cutoff\": \"quantile_0.1\", \"eval_fairness_grou...</td>\n",
       "      <td>33.755442</td>\n",
       "      <td>89710</td>\n",
       "      <td>1.0</td>\n",
       "      <td>0.091730</td>\n",
       "      <td>0.904178</td>\n",
       "      <td>0.079812</td>\n",
       "      <td>0.916995</td>\n",
       "      <td>...</td>\n",
       "      <td>0.119190</td>\n",
       "      <td>0.148043</td>\n",
       "      <td>0.957297</td>\n",
       "      <td>0.865567</td>\n",
       "      <td>0.005912</td>\n",
       "      <td>0.012144</td>\n",
       "      <td>0.961538</td>\n",
       "      <td>0.881726</td>\n",
       "      <td>20540.0</td>\n",
       "      <td>69170.0</td>\n",
       "    </tr>\n",
       "    <tr>\n",
       "      <th>0</th>\n",
       "      <td>16</td>\n",
       "      <td>e1a23ce94a22c6cb1a4162da178861e1</td>\n",
       "      <td>{\"cutoff\": \"quantile_0.25\", \"eval_fairness_gro...</td>\n",
       "      <td>33.755442</td>\n",
       "      <td>89710</td>\n",
       "      <td>1.0</td>\n",
       "      <td>0.168803</td>\n",
       "      <td>0.801380</td>\n",
       "      <td>0.146624</td>\n",
       "      <td>0.830109</td>\n",
       "      <td>...</td>\n",
       "      <td>NaN</td>\n",
       "      <td>NaN</td>\n",
       "      <td>NaN</td>\n",
       "      <td>NaN</td>\n",
       "      <td>NaN</td>\n",
       "      <td>NaN</td>\n",
       "      <td>NaN</td>\n",
       "      <td>NaN</td>\n",
       "      <td>NaN</td>\n",
       "      <td>NaN</td>\n",
       "    </tr>\n",
       "    <tr>\n",
       "      <th>0</th>\n",
       "      <td>16</td>\n",
       "      <td>e1a23ce94a22c6cb1a4162da178861e1</td>\n",
       "      <td>{\"cutoff\": \"quantile_0.25\", \"eval_fairness_gro...</td>\n",
       "      <td>33.755442</td>\n",
       "      <td>89710</td>\n",
       "      <td>1.0</td>\n",
       "      <td>0.168803</td>\n",
       "      <td>0.801380</td>\n",
       "      <td>0.146624</td>\n",
       "      <td>0.830109</td>\n",
       "      <td>...</td>\n",
       "      <td>0.128787</td>\n",
       "      <td>0.174957</td>\n",
       "      <td>0.849879</td>\n",
       "      <td>0.681076</td>\n",
       "      <td>0.035895</td>\n",
       "      <td>0.051422</td>\n",
       "      <td>0.863048</td>\n",
       "      <td>0.716423</td>\n",
       "      <td>20540.0</td>\n",
       "      <td>69170.0</td>\n",
       "    </tr>\n",
       "  </tbody>\n",
       "</table>\n",
       "<p>4 rows × 50 columns</p>\n",
       "</div>"
      ],
      "text/plain": [
       "  run_no                       universe_id  \\\n",
       "0     16  e1a23ce94a22c6cb1a4162da178861e1   \n",
       "0     16  e1a23ce94a22c6cb1a4162da178861e1   \n",
       "0     16  e1a23ce94a22c6cb1a4162da178861e1   \n",
       "0     16  e1a23ce94a22c6cb1a4162da178861e1   \n",
       "\n",
       "                                   universe_settings  execution_time  \\\n",
       "0  {\"cutoff\": \"quantile_0.1\", \"eval_fairness_grou...       33.755442   \n",
       "0  {\"cutoff\": \"quantile_0.1\", \"eval_fairness_grou...       33.755442   \n",
       "0  {\"cutoff\": \"quantile_0.25\", \"eval_fairness_gro...       33.755442   \n",
       "0  {\"cutoff\": \"quantile_0.25\", \"eval_fairness_gro...       33.755442   \n",
       "\n",
       "   test_size_n  test_size_frac  fair_main_equalized_odds_difference  \\\n",
       "0        89710             1.0                             0.091730   \n",
       "0        89710             1.0                             0.091730   \n",
       "0        89710             1.0                             0.168803   \n",
       "0        89710             1.0                             0.168803   \n",
       "\n",
       "   fair_main_equalized_odds_ratio  fair_main_demographic_parity_difference  \\\n",
       "0                        0.904178                                 0.079812   \n",
       "0                        0.904178                                 0.079812   \n",
       "0                        0.801380                                 0.146624   \n",
       "0                        0.801380                                 0.146624   \n",
       "\n",
       "   fair_main_demographic_parity_ratio  ...  perf_grp_precision_0  \\\n",
       "0                            0.916995  ...                   NaN   \n",
       "0                            0.916995  ...              0.119190   \n",
       "0                            0.830109  ...                   NaN   \n",
       "0                            0.830109  ...              0.128787   \n",
       "\n",
       "   perf_grp_precision_1  perf_grp_false positive rate_0  \\\n",
       "0                   NaN                             NaN   \n",
       "0              0.148043                        0.957297   \n",
       "0                   NaN                             NaN   \n",
       "0              0.174957                        0.849879   \n",
       "\n",
       "   perf_grp_false positive rate_1  perf_grp_false negative rate_0  \\\n",
       "0                             NaN                             NaN   \n",
       "0                        0.865567                        0.005912   \n",
       "0                             NaN                             NaN   \n",
       "0                        0.681076                        0.035895   \n",
       "\n",
       "   perf_grp_false negative rate_1  perf_grp_selection rate_0  \\\n",
       "0                             NaN                        NaN   \n",
       "0                        0.012144                   0.961538   \n",
       "0                             NaN                        NaN   \n",
       "0                        0.051422                   0.863048   \n",
       "\n",
       "   perf_grp_selection rate_1  perf_grp_count_0  perf_grp_count_1  \n",
       "0                        NaN               NaN               NaN  \n",
       "0                   0.881726           20540.0           69170.0  \n",
       "0                        NaN               NaN               NaN  \n",
       "0                   0.716423           20540.0           69170.0  \n",
       "\n",
       "[4 rows x 50 columns]"
      ]
     },
     "execution_count": 66,
     "metadata": {},
     "output_type": "execute_result"
    }
   ],
   "source": [
    "final_output = universe_analysis.generate_final_output(\n",
    "    y_pred_prob=probs_test,\n",
    "    y_test=y_true,\n",
    "    org_test=org_test,\n",
    "    filter_data=filter_sub_universe_data,\n",
    "    cp_metrics_df=cp_metrics_df,\n",
    "    save=True,\n",
    ")\n",
    "final_output"
   ]
  }
 ],
 "metadata": {
  "celltoolbar": "Tags",
  "kernelspec": {
   "display_name": "Python (CMA Fairness)",
   "language": "python",
   "name": "cma_fair_env"
  },
  "language_info": {
   "codemirror_mode": {
    "name": "ipython",
    "version": 3
   },
   "file_extension": ".py",
   "mimetype": "text/x-python",
   "name": "python",
   "nbconvert_exporter": "python",
   "pygments_lexer": "ipython3",
   "version": "3.10.12"
  },
  "papermill": {
   "default_parameters": {},
   "duration": 47.260721,
   "end_time": "2025-08-05T20:40:49.829465",
   "environment_variables": {},
   "exception": null,
   "input_path": "universe_analysis.ipynb",
   "output_path": "output/runs/16/notebooks/m_16-e1a23ce94a22c6cb1a4162da178861e1.ipynb",
   "parameters": {
    "output_dir": "output",
    "run_no": "16",
    "seed": "2023",
    "universe": "{\"cutoff\": [\"quantile_0.1\", \"quantile_0.25\"], \"eval_fairness_grouping\": [\"majority-minority\", \"nationality-all\"], \"exclude_features\": \"nationality-sex\", \"exclude_subgroups\": \"keep-all\", \"model\": \"elasticnet\", \"scale\": \"scale\", \"training_size\": \"25k\", \"training_year\": \"2014\"}",
    "universe_id": "e1a23ce94a22c6cb1a4162da178861e1"
   },
   "start_time": "2025-08-05T20:40:02.568744",
   "version": "2.6.0"
  }
 },
 "nbformat": 4,
 "nbformat_minor": 5
}