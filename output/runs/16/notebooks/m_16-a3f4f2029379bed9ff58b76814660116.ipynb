{
 "cells": [
  {
   "cell_type": "code",
   "execution_count": 1,
   "id": "f159f837-637b-42ba-96b5-ec9a68c44524",
   "metadata": {
    "execution": {
     "iopub.execute_input": "2025-08-05T20:59:39.702236Z",
     "iopub.status.busy": "2025-08-05T20:59:39.701752Z",
     "iopub.status.idle": "2025-08-05T20:59:39.714845Z",
     "shell.execute_reply": "2025-08-05T20:59:39.713725Z"
    },
    "papermill": {
     "duration": 0.033062,
     "end_time": "2025-08-05T20:59:39.717591",
     "exception": false,
     "start_time": "2025-08-05T20:59:39.684529",
     "status": "completed"
    },
    "tags": []
   },
   "outputs": [
    {
     "name": "stdout",
     "output_type": "stream",
     "text": [
      "/dss/dsshome1/0C/ra93lal2/cma/CMA_Fairness_v2\n"
     ]
    },
    {
     "name": "stderr",
     "output_type": "stream",
     "text": [
      "/dss/dsshome1/0C/ra93lal2/.local/share/virtualenvs/CMA_Fairness_v2-3j10GkSs/lib/python3.10/site-packages/IPython/core/magics/osm.py:393: UserWarning: This is now an optional IPython functionality, using bookmarks requires you to install the `pickleshare` library.\n",
      "  bkms = self.shell.db.get('bookmarks', {})\n",
      "/dss/dsshome1/0C/ra93lal2/.local/share/virtualenvs/CMA_Fairness_v2-3j10GkSs/lib/python3.10/site-packages/IPython/core/magics/osm.py:417: UserWarning: This is now an optional IPython functionality, setting dhist requires you to install the `pickleshare` library.\n",
      "  self.shell.db['dhist'] = compress_dhist(dhist)[-100:]\n"
     ]
    }
   ],
   "source": [
    "%cd ~/cma/CMA_Fairness_v2"
   ]
  },
  {
   "cell_type": "markdown",
   "id": "de2603b9",
   "metadata": {
    "papermill": {
     "duration": 0.025994,
     "end_time": "2025-08-05T20:59:39.770253",
     "exception": false,
     "start_time": "2025-08-05T20:59:39.744259",
     "status": "completed"
    },
    "tags": []
   },
   "source": [
    "The following cell holds the definition of our parameters, these values can be overriden by rendering the with e.g. the following command:\n",
    "\n",
    "papermill -p alpha 0.2 -p ratio 0.3 universe_analysis.ipynb output/test_run.ipynb"
   ]
  },
  {
   "cell_type": "code",
   "execution_count": 2,
   "id": "a80968a0-40bb-4fa9-85ef-2d5eefb01975",
   "metadata": {
    "execution": {
     "iopub.execute_input": "2025-08-05T20:59:39.824361Z",
     "iopub.status.busy": "2025-08-05T20:59:39.823979Z",
     "iopub.status.idle": "2025-08-05T20:59:39.829606Z",
     "shell.execute_reply": "2025-08-05T20:59:39.828607Z"
    },
    "papermill": {
     "duration": 0.035685,
     "end_time": "2025-08-05T20:59:39.832135",
     "exception": false,
     "start_time": "2025-08-05T20:59:39.796450",
     "status": "completed"
    },
    "tags": []
   },
   "outputs": [
    {
     "name": "stdout",
     "output_type": "stream",
     "text": [
      "Current working directory: /dss/dsshome1/0C/ra93lal2/cma/CMA_Fairness_v2\n"
     ]
    }
   ],
   "source": [
    "import os\n",
    "print(\"Current working directory:\", os.getcwd())"
   ]
  },
  {
   "cell_type": "code",
   "execution_count": 3,
   "id": "2dce4c03",
   "metadata": {
    "execution": {
     "iopub.execute_input": "2025-08-05T20:59:39.888727Z",
     "iopub.status.busy": "2025-08-05T20:59:39.887977Z",
     "iopub.status.idle": "2025-08-05T20:59:39.894335Z",
     "shell.execute_reply": "2025-08-05T20:59:39.893220Z"
    },
    "papermill": {
     "duration": 0.037948,
     "end_time": "2025-08-05T20:59:39.896955",
     "exception": false,
     "start_time": "2025-08-05T20:59:39.859007",
     "status": "completed"
    },
    "tags": [
     "parameters"
    ]
   },
   "outputs": [],
   "source": [
    "run_no = 0\n",
    "universe_id = \"test\"\n",
    "universe = {\n",
    "    \"training_size\": \"25k\", # \"25k\", \"5k\", \"1k\"\n",
    "    \"training_year\": \"2014\", # \"2014\", \"2012_14\", \"2010_14\"\n",
    "    \"scale\": \"scale\", # \"scale\", \"do-not-scale\",\n",
    "    \"model\": \"elasticnet\", # \"logreg\", \"penalized_logreg\", \"rf\", \"gbm\", \"elasticnet\"\n",
    "    \"cutoff\": [\"quantile_0.15\", \"quantile_0.30\"],\n",
    "    \"exclude_features\": \"age\", # \"none\", \"nationality\", \"sex\", \"nationality-sex\", \"age\"\n",
    "    \"exclude_subgroups\": \"keep-all\", # \"keep-all\", \"drop-non-german\"\n",
    "    \"eval_fairness_grouping\": [\"majority-minority\", \"nationality-all\"]\n",
    "}\n",
    "\n",
    "output_dir=\"./output\"\n",
    "seed=0"
   ]
  },
  {
   "cell_type": "code",
   "execution_count": 4,
   "id": "283262e2",
   "metadata": {
    "execution": {
     "iopub.execute_input": "2025-08-05T20:59:39.951518Z",
     "iopub.status.busy": "2025-08-05T20:59:39.950778Z",
     "iopub.status.idle": "2025-08-05T20:59:39.956046Z",
     "shell.execute_reply": "2025-08-05T20:59:39.955138Z"
    },
    "papermill": {
     "duration": 0.034942,
     "end_time": "2025-08-05T20:59:39.958333",
     "exception": false,
     "start_time": "2025-08-05T20:59:39.923391",
     "status": "completed"
    },
    "tags": [
     "injected-parameters"
    ]
   },
   "outputs": [],
   "source": [
    "# Parameters\n",
    "universe_id = \"a3f4f2029379bed9ff58b76814660116\"\n",
    "run_no = \"16\"\n",
    "universe = \"{\\\"cutoff\\\": [\\\"quantile_0.1\\\", \\\"quantile_0.25\\\"], \\\"eval_fairness_grouping\\\": [\\\"majority-minority\\\", \\\"nationality-all\\\"], \\\"exclude_features\\\": \\\"sex\\\", \\\"exclude_subgroups\\\": \\\"keep-all\\\", \\\"model\\\": \\\"rf\\\", \\\"scale\\\": \\\"do-not-scale\\\", \\\"training_size\\\": \\\"25k\\\", \\\"training_year\\\": \\\"2012_14\\\"}\"\n",
    "output_dir = \"output\"\n",
    "seed = \"2023\"\n"
   ]
  },
  {
   "cell_type": "code",
   "execution_count": 5,
   "id": "1650acaf",
   "metadata": {
    "execution": {
     "iopub.execute_input": "2025-08-05T20:59:40.013763Z",
     "iopub.status.busy": "2025-08-05T20:59:40.012995Z",
     "iopub.status.idle": "2025-08-05T20:59:40.022463Z",
     "shell.execute_reply": "2025-08-05T20:59:40.017691Z"
    },
    "papermill": {
     "duration": 0.039796,
     "end_time": "2025-08-05T20:59:40.024842",
     "exception": false,
     "start_time": "2025-08-05T20:59:39.985046",
     "status": "completed"
    },
    "tags": []
   },
   "outputs": [],
   "source": [
    "import json\n",
    "if isinstance(universe, str):\n",
    "    universe = json.loads(universe)"
   ]
  },
  {
   "cell_type": "code",
   "execution_count": 6,
   "id": "16620c48",
   "metadata": {
    "execution": {
     "iopub.execute_input": "2025-08-05T20:59:40.081032Z",
     "iopub.status.busy": "2025-08-05T20:59:40.080637Z",
     "iopub.status.idle": "2025-08-05T20:59:40.125364Z",
     "shell.execute_reply": "2025-08-05T20:59:40.124233Z"
    },
    "papermill": {
     "duration": 0.076303,
     "end_time": "2025-08-05T20:59:40.128020",
     "exception": false,
     "start_time": "2025-08-05T20:59:40.051717",
     "status": "completed"
    },
    "tags": []
   },
   "outputs": [],
   "source": [
    "# Auto-reload the custom package\n",
    "%load_ext autoreload\n",
    "%autoreload 1\n",
    "%aimport fairness_multiverse"
   ]
  },
  {
   "cell_type": "code",
   "execution_count": 7,
   "id": "01c5c9f3",
   "metadata": {
    "execution": {
     "iopub.execute_input": "2025-08-05T20:59:40.185754Z",
     "iopub.status.busy": "2025-08-05T20:59:40.185044Z",
     "iopub.status.idle": "2025-08-05T20:59:42.086164Z",
     "shell.execute_reply": "2025-08-05T20:59:42.085177Z"
    },
    "papermill": {
     "duration": 1.930835,
     "end_time": "2025-08-05T20:59:42.087689",
     "exception": false,
     "start_time": "2025-08-05T20:59:40.156854",
     "status": "completed"
    },
    "tags": []
   },
   "outputs": [],
   "source": [
    "from fairness_multiverse.universe import UniverseAnalysis\n",
    "\n",
    "universe_analysis = UniverseAnalysis(\n",
    "    run_no = run_no,\n",
    "    universe_id = universe_id,\n",
    "    universe = universe,\n",
    "    output_dir=output_dir,\n",
    ")"
   ]
  },
  {
   "cell_type": "code",
   "execution_count": 8,
   "id": "106241f5",
   "metadata": {
    "execution": {
     "iopub.execute_input": "2025-08-05T20:59:42.124955Z",
     "iopub.status.busy": "2025-08-05T20:59:42.124487Z",
     "iopub.status.idle": "2025-08-05T20:59:42.131504Z",
     "shell.execute_reply": "2025-08-05T20:59:42.130379Z"
    },
    "papermill": {
     "duration": 0.029523,
     "end_time": "2025-08-05T20:59:42.134422",
     "exception": false,
     "start_time": "2025-08-05T20:59:42.104899",
     "status": "completed"
    },
    "tags": []
   },
   "outputs": [
    {
     "name": "stdout",
     "output_type": "stream",
     "text": [
      "Using Seed: 2023\n"
     ]
    }
   ],
   "source": [
    "import numpy as np\n",
    "parsed_seed = int(seed)\n",
    "np.random.seed(parsed_seed)\n",
    "print(f\"Using Seed: {parsed_seed}\")"
   ]
  },
  {
   "cell_type": "markdown",
   "id": "e0ebdc57",
   "metadata": {
    "papermill": {
     "duration": 0.019299,
     "end_time": "2025-08-05T20:59:42.171276",
     "exception": false,
     "start_time": "2025-08-05T20:59:42.151977",
     "status": "completed"
    },
    "tags": []
   },
   "source": [
    "# Loading Data"
   ]
  },
  {
   "cell_type": "code",
   "execution_count": 9,
   "id": "f0496b8a",
   "metadata": {
    "execution": {
     "iopub.execute_input": "2025-08-05T20:59:42.208727Z",
     "iopub.status.busy": "2025-08-05T20:59:42.208186Z",
     "iopub.status.idle": "2025-08-05T20:59:53.425523Z",
     "shell.execute_reply": "2025-08-05T20:59:53.424189Z"
    },
    "papermill": {
     "duration": 11.237215,
     "end_time": "2025-08-05T20:59:53.427417",
     "exception": false,
     "start_time": "2025-08-05T20:59:42.190202",
     "status": "completed"
    },
    "tags": []
   },
   "outputs": [
    {
     "name": "stdout",
     "output_type": "stream",
     "text": [
      "Loading SIAB data from cache: data/siab_cached.csv.gz\n"
     ]
    },
    {
     "name": "stdout",
     "output_type": "stream",
     "text": [
      "(643690, 164)\n"
     ]
    }
   ],
   "source": [
    "from pathlib import Path\n",
    "import pandas as pd\n",
    "\n",
    "# File paths\n",
    "raw_file = Path(\"data/raw/siab.csv\")\n",
    "cache_file = Path(\"data/siab_cached.csv.gz\")\n",
    "\n",
    "# Ensure cache directory exists\n",
    "cache_file.parent.mkdir(parents=True, exist_ok=True)\n",
    "\n",
    "# Load with simple caching\n",
    "if cache_file.exists():\n",
    "    print(f\"Loading SIAB data from cache: {cache_file}\")\n",
    "    siab = pd.read_csv(cache_file, compression='gzip')\n",
    "else:\n",
    "    print(f\"Cache not found. Reading raw SIAB data: {raw_file}\")\n",
    "    siab = pd.read_csv(raw_file)\n",
    "    siab.to_csv(cache_file, index=False, compression='gzip')\n",
    "    print(f\"Cached SIAB data to: {cache_file}\")\n",
    "\n",
    "print(siab.shape)"
   ]
  },
  {
   "cell_type": "code",
   "execution_count": 10,
   "id": "db0ca512-5f53-4dba-abdb-a2888bca41ba",
   "metadata": {
    "execution": {
     "iopub.execute_input": "2025-08-05T20:59:53.466965Z",
     "iopub.status.busy": "2025-08-05T20:59:53.466140Z",
     "iopub.status.idle": "2025-08-05T20:59:53.471921Z",
     "shell.execute_reply": "2025-08-05T20:59:53.470930Z"
    },
    "papermill": {
     "duration": 0.026135,
     "end_time": "2025-08-05T20:59:53.473701",
     "exception": false,
     "start_time": "2025-08-05T20:59:53.447566",
     "status": "completed"
    },
    "tags": []
   },
   "outputs": [],
   "source": [
    "#siab"
   ]
  },
  {
   "cell_type": "markdown",
   "id": "997051c5-15bd-4b69-9786-c3001a3ce484",
   "metadata": {
    "papermill": {
     "duration": 0.017273,
     "end_time": "2025-08-05T20:59:53.509152",
     "exception": false,
     "start_time": "2025-08-05T20:59:53.491879",
     "status": "completed"
    },
    "tags": []
   },
   "source": [
    "# Splitting Data and Setting Training Data Size"
   ]
  },
  {
   "cell_type": "code",
   "execution_count": 11,
   "id": "aea9c6ef-6f46-42c8-85eb-5a62025c1508",
   "metadata": {
    "execution": {
     "iopub.execute_input": "2025-08-05T20:59:53.546420Z",
     "iopub.status.busy": "2025-08-05T20:59:53.545467Z",
     "iopub.status.idle": "2025-08-05T20:59:54.241769Z",
     "shell.execute_reply": "2025-08-05T20:59:54.240814Z"
    },
    "papermill": {
     "duration": 0.717496,
     "end_time": "2025-08-05T20:59:54.243705",
     "exception": false,
     "start_time": "2025-08-05T20:59:53.526209",
     "status": "completed"
    },
    "tags": []
   },
   "outputs": [],
   "source": [
    "from fairness_multiverse.universe import sample_by_year_size\n",
    "\n",
    "siab_train = sample_by_year_size(siab,\n",
    "                               training_year=universe[\"training_year\"],\n",
    "                               training_size=universe[\"training_size\"])"
   ]
  },
  {
   "cell_type": "code",
   "execution_count": 12,
   "id": "8d3afb32-789d-442c-8d5d-9f5aa8dd2eed",
   "metadata": {
    "execution": {
     "iopub.execute_input": "2025-08-05T20:59:54.295542Z",
     "iopub.status.busy": "2025-08-05T20:59:54.294759Z",
     "iopub.status.idle": "2025-08-05T20:59:54.300176Z",
     "shell.execute_reply": "2025-08-05T20:59:54.299239Z"
    },
    "papermill": {
     "duration": 0.024296,
     "end_time": "2025-08-05T20:59:54.302050",
     "exception": false,
     "start_time": "2025-08-05T20:59:54.277754",
     "status": "completed"
    },
    "tags": []
   },
   "outputs": [],
   "source": [
    "#siab_train.shape"
   ]
  },
  {
   "cell_type": "code",
   "execution_count": 13,
   "id": "d582db68-1a4c-47fb-84fc-08518dc1975a",
   "metadata": {
    "execution": {
     "iopub.execute_input": "2025-08-05T20:59:54.341111Z",
     "iopub.status.busy": "2025-08-05T20:59:54.340718Z",
     "iopub.status.idle": "2025-08-05T20:59:54.345617Z",
     "shell.execute_reply": "2025-08-05T20:59:54.344626Z"
    },
    "papermill": {
     "duration": 0.027182,
     "end_time": "2025-08-05T20:59:54.347225",
     "exception": false,
     "start_time": "2025-08-05T20:59:54.320043",
     "status": "completed"
    },
    "tags": []
   },
   "outputs": [],
   "source": [
    "#display(siab_train.groupby(\"year\").size())"
   ]
  },
  {
   "cell_type": "code",
   "execution_count": 14,
   "id": "a561edb4-d032-42cb-8256-22eac1111c64",
   "metadata": {
    "execution": {
     "iopub.execute_input": "2025-08-05T20:59:54.382897Z",
     "iopub.status.busy": "2025-08-05T20:59:54.382533Z",
     "iopub.status.idle": "2025-08-05T20:59:54.635424Z",
     "shell.execute_reply": "2025-08-05T20:59:54.633230Z"
    },
    "papermill": {
     "duration": 0.272494,
     "end_time": "2025-08-05T20:59:54.637256",
     "exception": false,
     "start_time": "2025-08-05T20:59:54.364762",
     "status": "completed"
    },
    "tags": []
   },
   "outputs": [],
   "source": [
    "#siab_train = siab_s[siab_s.year < 2015]\n",
    "siab_calib = siab[siab.year == 2015]\n",
    "siab_test = siab[siab.year == 2016]"
   ]
  },
  {
   "cell_type": "code",
   "execution_count": 15,
   "id": "472de16f-c3db-4916-846b-1f0de9cf1746",
   "metadata": {
    "execution": {
     "iopub.execute_input": "2025-08-05T20:59:54.673822Z",
     "iopub.status.busy": "2025-08-05T20:59:54.673315Z",
     "iopub.status.idle": "2025-08-05T20:59:54.704673Z",
     "shell.execute_reply": "2025-08-05T20:59:54.703574Z"
    },
    "papermill": {
     "duration": 0.051181,
     "end_time": "2025-08-05T20:59:54.706457",
     "exception": false,
     "start_time": "2025-08-05T20:59:54.655276",
     "status": "completed"
    },
    "tags": []
   },
   "outputs": [],
   "source": [
    "X_train = siab_train.iloc[:,4:164]\n",
    "y_train = siab_train.iloc[:, [3]]"
   ]
  },
  {
   "cell_type": "code",
   "execution_count": 16,
   "id": "828c96af-f43a-4ed6-ba47-8ac73a47d56c",
   "metadata": {
    "execution": {
     "iopub.execute_input": "2025-08-05T20:59:54.746072Z",
     "iopub.status.busy": "2025-08-05T20:59:54.745615Z",
     "iopub.status.idle": "2025-08-05T20:59:54.796781Z",
     "shell.execute_reply": "2025-08-05T20:59:54.795639Z"
    },
    "papermill": {
     "duration": 0.072624,
     "end_time": "2025-08-05T20:59:54.798841",
     "exception": false,
     "start_time": "2025-08-05T20:59:54.726217",
     "status": "completed"
    },
    "tags": []
   },
   "outputs": [],
   "source": [
    "X_calib = siab_calib.iloc[:,4:164]\n",
    "y_calib = siab_calib.iloc[:, [3]]"
   ]
  },
  {
   "cell_type": "code",
   "execution_count": 17,
   "id": "c34be9c3-6bd6-476e-acd3-845840e303be",
   "metadata": {
    "execution": {
     "iopub.execute_input": "2025-08-05T20:59:54.840090Z",
     "iopub.status.busy": "2025-08-05T20:59:54.839211Z",
     "iopub.status.idle": "2025-08-05T20:59:54.895921Z",
     "shell.execute_reply": "2025-08-05T20:59:54.894896Z"
    },
    "papermill": {
     "duration": 0.079473,
     "end_time": "2025-08-05T20:59:54.898007",
     "exception": false,
     "start_time": "2025-08-05T20:59:54.818534",
     "status": "completed"
    },
    "tags": []
   },
   "outputs": [],
   "source": [
    "X_test = siab_test.iloc[:,4:164]\n",
    "y_true = siab_test.iloc[:, [3]]"
   ]
  },
  {
   "cell_type": "code",
   "execution_count": 18,
   "id": "e6c733c5",
   "metadata": {
    "execution": {
     "iopub.execute_input": "2025-08-05T20:59:54.938154Z",
     "iopub.status.busy": "2025-08-05T20:59:54.937264Z",
     "iopub.status.idle": "2025-08-05T20:59:55.038089Z",
     "shell.execute_reply": "2025-08-05T20:59:55.037108Z"
    },
    "papermill": {
     "duration": 0.123336,
     "end_time": "2025-08-05T20:59:55.040017",
     "exception": false,
     "start_time": "2025-08-05T20:59:54.916681",
     "status": "completed"
    },
    "tags": []
   },
   "outputs": [],
   "source": [
    "# Auxiliary data needed downstream in the pipeline\n",
    "\n",
    "org_train = X_train.copy()\n",
    "org_test = X_test.copy()\n",
    "org_calib = X_calib.copy()"
   ]
  },
  {
   "cell_type": "markdown",
   "id": "0a4a1b33",
   "metadata": {
    "papermill": {
     "duration": 0.018139,
     "end_time": "2025-08-05T20:59:55.076598",
     "exception": false,
     "start_time": "2025-08-05T20:59:55.058459",
     "status": "completed"
    },
    "tags": []
   },
   "source": [
    "# Preprocessing Data"
   ]
  },
  {
   "cell_type": "code",
   "execution_count": 19,
   "id": "ca879031",
   "metadata": {
    "execution": {
     "iopub.execute_input": "2025-08-05T20:59:55.113979Z",
     "iopub.status.busy": "2025-08-05T20:59:55.113404Z",
     "iopub.status.idle": "2025-08-05T20:59:55.120299Z",
     "shell.execute_reply": "2025-08-05T20:59:55.119113Z"
    },
    "papermill": {
     "duration": 0.027997,
     "end_time": "2025-08-05T20:59:55.122278",
     "exception": false,
     "start_time": "2025-08-05T20:59:55.094281",
     "status": "completed"
    },
    "tags": []
   },
   "outputs": [],
   "source": [
    "# EXCLUDE PROTECTED FEATURES\n",
    "# ----------------------\n",
    "# \"exclude_features\": \"none\", # \"nationality\", \"sex\", \"nationality-sex\"\n",
    "\n",
    "excluded_features = universe[\"exclude_features\"].split(\"-\") # split, e.g.: \"nationality-sex\" -> [\"nationality\", \"sex\"]\n",
    "excluded_features_dictionary = {\n",
    "    \"nationality\": [\"maxdeutsch1\", \"maxdeutsch.Missing.\"],\n",
    "    \"sex\": [\"frau1\"],\n",
    "    \"age\": [\"age\"],\n",
    "}"
   ]
  },
  {
   "cell_type": "code",
   "execution_count": 20,
   "id": "b745ac60",
   "metadata": {
    "execution": {
     "iopub.execute_input": "2025-08-05T20:59:55.160138Z",
     "iopub.status.busy": "2025-08-05T20:59:55.159738Z",
     "iopub.status.idle": "2025-08-05T20:59:55.166163Z",
     "shell.execute_reply": "2025-08-05T20:59:55.164746Z"
    },
    "papermill": {
     "duration": 0.026759,
     "end_time": "2025-08-05T20:59:55.167854",
     "exception": false,
     "start_time": "2025-08-05T20:59:55.141095",
     "status": "completed"
    },
    "tags": []
   },
   "outputs": [],
   "source": [
    "# Code nice names to column names\n",
    "\n",
    "excluded_features_columns = [\n",
    "    excluded_features_dictionary[f] for f in excluded_features if len(f) > 0 and f != \"none\"\n",
    "]"
   ]
  },
  {
   "cell_type": "code",
   "execution_count": 21,
   "id": "f84f73a2",
   "metadata": {
    "execution": {
     "iopub.execute_input": "2025-08-05T20:59:55.213556Z",
     "iopub.status.busy": "2025-08-05T20:59:55.213067Z",
     "iopub.status.idle": "2025-08-05T20:59:55.219953Z",
     "shell.execute_reply": "2025-08-05T20:59:55.218782Z"
    },
    "papermill": {
     "duration": 0.027141,
     "end_time": "2025-08-05T20:59:55.221696",
     "exception": false,
     "start_time": "2025-08-05T20:59:55.194555",
     "status": "completed"
    },
    "tags": []
   },
   "outputs": [],
   "source": [
    "from utils import flatten_once\n",
    "\n",
    "excluded_features_columns = flatten_once(excluded_features_columns)"
   ]
  },
  {
   "cell_type": "code",
   "execution_count": 22,
   "id": "884dea22",
   "metadata": {
    "execution": {
     "iopub.execute_input": "2025-08-05T20:59:55.259421Z",
     "iopub.status.busy": "2025-08-05T20:59:55.258540Z",
     "iopub.status.idle": "2025-08-05T20:59:55.284384Z",
     "shell.execute_reply": "2025-08-05T20:59:55.283021Z"
    },
    "papermill": {
     "duration": 0.046499,
     "end_time": "2025-08-05T20:59:55.286097",
     "exception": false,
     "start_time": "2025-08-05T20:59:55.239598",
     "status": "completed"
    },
    "tags": []
   },
   "outputs": [
    {
     "name": "stdout",
     "output_type": "stream",
     "text": [
      "Dropping features: ['frau1']\n"
     ]
    }
   ],
   "source": [
    "if len(excluded_features_columns) > 0:\n",
    "    print(f\"Dropping features: {excluded_features_columns}\")\n",
    "    X_train.drop(excluded_features_columns, axis=1, inplace=True)"
   ]
  },
  {
   "cell_type": "code",
   "execution_count": 23,
   "id": "95ab8b16",
   "metadata": {
    "execution": {
     "iopub.execute_input": "2025-08-05T20:59:55.323723Z",
     "iopub.status.busy": "2025-08-05T20:59:55.322794Z",
     "iopub.status.idle": "2025-08-05T20:59:55.389621Z",
     "shell.execute_reply": "2025-08-05T20:59:55.388569Z"
    },
    "papermill": {
     "duration": 0.087504,
     "end_time": "2025-08-05T20:59:55.391630",
     "exception": false,
     "start_time": "2025-08-05T20:59:55.304126",
     "status": "completed"
    },
    "tags": []
   },
   "outputs": [
    {
     "name": "stdout",
     "output_type": "stream",
     "text": [
      "Dropping features: ['frau1']\n"
     ]
    }
   ],
   "source": [
    "if len(excluded_features_columns) > 0:\n",
    "    print(f\"Dropping features: {excluded_features_columns}\")\n",
    "    X_test.drop(excluded_features_columns, axis=1, inplace=True)"
   ]
  },
  {
   "cell_type": "code",
   "execution_count": 24,
   "id": "1853aaf5-fb9f-46cb-a2b5-8ea4ae2237e4",
   "metadata": {
    "execution": {
     "iopub.execute_input": "2025-08-05T20:59:55.428587Z",
     "iopub.status.busy": "2025-08-05T20:59:55.427937Z",
     "iopub.status.idle": "2025-08-05T20:59:55.478076Z",
     "shell.execute_reply": "2025-08-05T20:59:55.476901Z"
    },
    "papermill": {
     "duration": 0.071068,
     "end_time": "2025-08-05T20:59:55.481044",
     "exception": false,
     "start_time": "2025-08-05T20:59:55.409976",
     "status": "completed"
    },
    "tags": []
   },
   "outputs": [
    {
     "name": "stdout",
     "output_type": "stream",
     "text": [
      "Dropping features: ['frau1']\n"
     ]
    }
   ],
   "source": [
    "if len(excluded_features_columns) > 0:\n",
    "    print(f\"Dropping features: {excluded_features_columns}\")\n",
    "    X_calib.drop(excluded_features_columns, axis=1, inplace=True)"
   ]
  },
  {
   "cell_type": "code",
   "execution_count": 25,
   "id": "76c4dc6d",
   "metadata": {
    "execution": {
     "iopub.execute_input": "2025-08-05T20:59:55.518226Z",
     "iopub.status.busy": "2025-08-05T20:59:55.517396Z",
     "iopub.status.idle": "2025-08-05T20:59:55.523052Z",
     "shell.execute_reply": "2025-08-05T20:59:55.522047Z"
    },
    "papermill": {
     "duration": 0.02594,
     "end_time": "2025-08-05T20:59:55.525094",
     "exception": false,
     "start_time": "2025-08-05T20:59:55.499154",
     "status": "completed"
    },
    "tags": []
   },
   "outputs": [],
   "source": [
    "# EXCLUDE CERTAIN SUBGROUPS\n",
    "# ----------------------\n",
    "\n",
    "mode = universe.get(\"exclude_subgroups\", \"keep-all\") \n",
    "# Fetches the exclude_subgroups setting from the universe dict.\n",
    "# Defaults to \"keep-all\" if the key is missing."
   ]
  },
  {
   "cell_type": "code",
   "execution_count": 26,
   "id": "21994072",
   "metadata": {
    "execution": {
     "iopub.execute_input": "2025-08-05T20:59:55.565294Z",
     "iopub.status.busy": "2025-08-05T20:59:55.564590Z",
     "iopub.status.idle": "2025-08-05T20:59:55.571791Z",
     "shell.execute_reply": "2025-08-05T20:59:55.570739Z"
    },
    "papermill": {
     "duration": 0.028777,
     "end_time": "2025-08-05T20:59:55.573712",
     "exception": false,
     "start_time": "2025-08-05T20:59:55.544935",
     "status": "completed"
    },
    "tags": []
   },
   "outputs": [],
   "source": [
    "if mode == \"keep-all\":\n",
    "    keep_mask = pd.Series(True, index=org_train.index)\n",
    "\n",
    "# org_train contains the original feature columns from features_org (in Simson)\n",
    "# features_org contains unprocessed features, for me X_train at beginning ???\n",
    "# For keep-all, creates a boolean Series (keep_mask) of all True, so no rows are removed.\n",
    "\n",
    "elif mode == \"drop-non-german\":\n",
    "    keep_mask = org_train[\"maxdeutsch1\"] == 1 # ??? what about missing values?\n",
    "\n",
    "else:\n",
    "    raise ValueError(f\"Unsupported mode for exclude_subgroups: {mode}\")"
   ]
  },
  {
   "cell_type": "code",
   "execution_count": 27,
   "id": "71651440",
   "metadata": {
    "execution": {
     "iopub.execute_input": "2025-08-05T20:59:55.614180Z",
     "iopub.status.busy": "2025-08-05T20:59:55.613799Z",
     "iopub.status.idle": "2025-08-05T20:59:55.620414Z",
     "shell.execute_reply": "2025-08-05T20:59:55.619485Z"
    },
    "papermill": {
     "duration": 0.028627,
     "end_time": "2025-08-05T20:59:55.622372",
     "exception": false,
     "start_time": "2025-08-05T20:59:55.593745",
     "status": "completed"
    },
    "tags": []
   },
   "outputs": [],
   "source": [
    "n_drop = (~keep_mask).sum() # Calculates how many rows are set to be dropped\n",
    "if n_drop > 0:\n",
    "    pct = n_drop / len(keep_mask) * 100\n",
    "    print(f\"Dropping {n_drop} rows ({pct:.2f}%) where mode='{mode}'\")"
   ]
  },
  {
   "cell_type": "code",
   "execution_count": 28,
   "id": "5fb8eee5",
   "metadata": {
    "execution": {
     "iopub.execute_input": "2025-08-05T20:59:55.665331Z",
     "iopub.status.busy": "2025-08-05T20:59:55.664392Z",
     "iopub.status.idle": "2025-08-05T20:59:55.680004Z",
     "shell.execute_reply": "2025-08-05T20:59:55.678785Z"
    },
    "papermill": {
     "duration": 0.03767,
     "end_time": "2025-08-05T20:59:55.682178",
     "exception": false,
     "start_time": "2025-08-05T20:59:55.644508",
     "status": "completed"
    },
    "tags": []
   },
   "outputs": [],
   "source": [
    "X_train = X_train[keep_mask]"
   ]
  },
  {
   "cell_type": "code",
   "execution_count": 29,
   "id": "b202bb3a",
   "metadata": {
    "execution": {
     "iopub.execute_input": "2025-08-05T20:59:55.724221Z",
     "iopub.status.busy": "2025-08-05T20:59:55.723328Z",
     "iopub.status.idle": "2025-08-05T20:59:55.730467Z",
     "shell.execute_reply": "2025-08-05T20:59:55.729457Z"
    },
    "papermill": {
     "duration": 0.030293,
     "end_time": "2025-08-05T20:59:55.732188",
     "exception": false,
     "start_time": "2025-08-05T20:59:55.701895",
     "status": "completed"
    },
    "tags": []
   },
   "outputs": [],
   "source": [
    "y_train = y_train[keep_mask]"
   ]
  },
  {
   "cell_type": "markdown",
   "id": "493e2ac3",
   "metadata": {
    "papermill": {
     "duration": 0.020442,
     "end_time": "2025-08-05T20:59:55.775075",
     "exception": false,
     "start_time": "2025-08-05T20:59:55.754633",
     "status": "completed"
    },
    "tags": []
   },
   "source": [
    "# Model Training"
   ]
  },
  {
   "cell_type": "code",
   "execution_count": 30,
   "id": "679e1268",
   "metadata": {
    "execution": {
     "iopub.execute_input": "2025-08-05T20:59:55.814966Z",
     "iopub.status.busy": "2025-08-05T20:59:55.814293Z",
     "iopub.status.idle": "2025-08-05T20:59:55.915661Z",
     "shell.execute_reply": "2025-08-05T20:59:55.914751Z"
    },
    "papermill": {
     "duration": 0.123537,
     "end_time": "2025-08-05T20:59:55.917655",
     "exception": false,
     "start_time": "2025-08-05T20:59:55.794118",
     "status": "completed"
    },
    "tags": []
   },
   "outputs": [],
   "source": [
    "from sklearn.linear_model import LogisticRegression\n",
    "from sklearn.ensemble import GradientBoostingClassifier, RandomForestClassifier\n",
    "\n",
    "if (universe[\"model\"] == \"logreg\"):\n",
    "    model = LogisticRegression() #penalty=\"none\", solver=\"newton-cg\", max_iter=1) # include random_state=19 ?\n",
    "elif (universe[\"model\"] == \"penalized_logreg\"):\n",
    "    model = LogisticRegression(penalty=\"l2\", C=0.1) #, solver=\"newton-cg\", max_iter=1)\n",
    "elif (universe[\"model\"] == \"rf\"):\n",
    "    model = RandomForestClassifier() # n_estimators=100, n_jobs=-1\n",
    "elif (universe[\"model\"] == \"gbm\"):\n",
    "    model = GradientBoostingClassifier()\n",
    "elif (universe[\"model\"] == \"elasticnet\"):\n",
    "    model = LogisticRegression(penalty = 'elasticnet', solver = 'saga', l1_ratio = 0.5) # max_iter=5000\n",
    "else:\n",
    "    raise \"Unsupported universe.model\""
   ]
  },
  {
   "cell_type": "code",
   "execution_count": 31,
   "id": "0cc8f744",
   "metadata": {
    "execution": {
     "iopub.execute_input": "2025-08-05T20:59:55.958925Z",
     "iopub.status.busy": "2025-08-05T20:59:55.958272Z",
     "iopub.status.idle": "2025-08-05T20:59:55.964368Z",
     "shell.execute_reply": "2025-08-05T20:59:55.963428Z"
    },
    "papermill": {
     "duration": 0.028776,
     "end_time": "2025-08-05T20:59:55.966260",
     "exception": false,
     "start_time": "2025-08-05T20:59:55.937484",
     "status": "completed"
    },
    "tags": []
   },
   "outputs": [],
   "source": [
    "import numpy as np\n",
    "from sklearn.pipeline import Pipeline\n",
    "from sklearn.preprocessing import StandardScaler\n",
    "\n",
    "model = Pipeline([\n",
    "    #(\"continuous_processor\", continuous_processor),\n",
    "    #(\"categorical_preprocessor\", categorical_preprocessor),\n",
    "    (\"scale\", StandardScaler() if universe[\"scale\"] == \"scale\" else None), \n",
    "    (\"model\", model),\n",
    "])"
   ]
  },
  {
   "cell_type": "code",
   "execution_count": 32,
   "id": "9442c04d",
   "metadata": {
    "execution": {
     "iopub.execute_input": "2025-08-05T20:59:56.005319Z",
     "iopub.status.busy": "2025-08-05T20:59:56.004637Z",
     "iopub.status.idle": "2025-08-05T21:00:05.678023Z",
     "shell.execute_reply": "2025-08-05T21:00:05.677069Z"
    },
    "papermill": {
     "duration": 9.694911,
     "end_time": "2025-08-05T21:00:05.679539",
     "exception": false,
     "start_time": "2025-08-05T20:59:55.984628",
     "status": "completed"
    },
    "tags": []
   },
   "outputs": [
    {
     "data": {
      "text/html": [
       "<style>#sk-container-id-1 {color: black;background-color: white;}#sk-container-id-1 pre{padding: 0;}#sk-container-id-1 div.sk-toggleable {background-color: white;}#sk-container-id-1 label.sk-toggleable__label {cursor: pointer;display: block;width: 100%;margin-bottom: 0;padding: 0.3em;box-sizing: border-box;text-align: center;}#sk-container-id-1 label.sk-toggleable__label-arrow:before {content: \"▸\";float: left;margin-right: 0.25em;color: #696969;}#sk-container-id-1 label.sk-toggleable__label-arrow:hover:before {color: black;}#sk-container-id-1 div.sk-estimator:hover label.sk-toggleable__label-arrow:before {color: black;}#sk-container-id-1 div.sk-toggleable__content {max-height: 0;max-width: 0;overflow: hidden;text-align: left;background-color: #f0f8ff;}#sk-container-id-1 div.sk-toggleable__content pre {margin: 0.2em;color: black;border-radius: 0.25em;background-color: #f0f8ff;}#sk-container-id-1 input.sk-toggleable__control:checked~div.sk-toggleable__content {max-height: 200px;max-width: 100%;overflow: auto;}#sk-container-id-1 input.sk-toggleable__control:checked~label.sk-toggleable__label-arrow:before {content: \"▾\";}#sk-container-id-1 div.sk-estimator input.sk-toggleable__control:checked~label.sk-toggleable__label {background-color: #d4ebff;}#sk-container-id-1 div.sk-label input.sk-toggleable__control:checked~label.sk-toggleable__label {background-color: #d4ebff;}#sk-container-id-1 input.sk-hidden--visually {border: 0;clip: rect(1px 1px 1px 1px);clip: rect(1px, 1px, 1px, 1px);height: 1px;margin: -1px;overflow: hidden;padding: 0;position: absolute;width: 1px;}#sk-container-id-1 div.sk-estimator {font-family: monospace;background-color: #f0f8ff;border: 1px dotted black;border-radius: 0.25em;box-sizing: border-box;margin-bottom: 0.5em;}#sk-container-id-1 div.sk-estimator:hover {background-color: #d4ebff;}#sk-container-id-1 div.sk-parallel-item::after {content: \"\";width: 100%;border-bottom: 1px solid gray;flex-grow: 1;}#sk-container-id-1 div.sk-label:hover label.sk-toggleable__label {background-color: #d4ebff;}#sk-container-id-1 div.sk-serial::before {content: \"\";position: absolute;border-left: 1px solid gray;box-sizing: border-box;top: 0;bottom: 0;left: 50%;z-index: 0;}#sk-container-id-1 div.sk-serial {display: flex;flex-direction: column;align-items: center;background-color: white;padding-right: 0.2em;padding-left: 0.2em;position: relative;}#sk-container-id-1 div.sk-item {position: relative;z-index: 1;}#sk-container-id-1 div.sk-parallel {display: flex;align-items: stretch;justify-content: center;background-color: white;position: relative;}#sk-container-id-1 div.sk-item::before, #sk-container-id-1 div.sk-parallel-item::before {content: \"\";position: absolute;border-left: 1px solid gray;box-sizing: border-box;top: 0;bottom: 0;left: 50%;z-index: -1;}#sk-container-id-1 div.sk-parallel-item {display: flex;flex-direction: column;z-index: 1;position: relative;background-color: white;}#sk-container-id-1 div.sk-parallel-item:first-child::after {align-self: flex-end;width: 50%;}#sk-container-id-1 div.sk-parallel-item:last-child::after {align-self: flex-start;width: 50%;}#sk-container-id-1 div.sk-parallel-item:only-child::after {width: 0;}#sk-container-id-1 div.sk-dashed-wrapped {border: 1px dashed gray;margin: 0 0.4em 0.5em 0.4em;box-sizing: border-box;padding-bottom: 0.4em;background-color: white;}#sk-container-id-1 div.sk-label label {font-family: monospace;font-weight: bold;display: inline-block;line-height: 1.2em;}#sk-container-id-1 div.sk-label-container {text-align: center;}#sk-container-id-1 div.sk-container {/* jupyter's `normalize.less` sets `[hidden] { display: none; }` but bootstrap.min.css set `[hidden] { display: none !important; }` so we also need the `!important` here to be able to override the default hidden behavior on the sphinx rendered scikit-learn.org. See: https://github.com/scikit-learn/scikit-learn/issues/21755 */display: inline-block !important;position: relative;}#sk-container-id-1 div.sk-text-repr-fallback {display: none;}</style><div id=\"sk-container-id-1\" class=\"sk-top-container\"><div class=\"sk-text-repr-fallback\"><pre>Pipeline(steps=[(&#x27;scale&#x27;, None), (&#x27;model&#x27;, RandomForestClassifier())])</pre><b>In a Jupyter environment, please rerun this cell to show the HTML representation or trust the notebook. <br />On GitHub, the HTML representation is unable to render, please try loading this page with nbviewer.org.</b></div><div class=\"sk-container\" hidden><div class=\"sk-item sk-dashed-wrapped\"><div class=\"sk-label-container\"><div class=\"sk-label sk-toggleable\"><input class=\"sk-toggleable__control sk-hidden--visually\" id=\"sk-estimator-id-1\" type=\"checkbox\" ><label for=\"sk-estimator-id-1\" class=\"sk-toggleable__label sk-toggleable__label-arrow\">Pipeline</label><div class=\"sk-toggleable__content\"><pre>Pipeline(steps=[(&#x27;scale&#x27;, None), (&#x27;model&#x27;, RandomForestClassifier())])</pre></div></div></div><div class=\"sk-serial\"><div class=\"sk-item\"><div class=\"sk-estimator sk-toggleable\"><input class=\"sk-toggleable__control sk-hidden--visually\" id=\"sk-estimator-id-2\" type=\"checkbox\" ><label for=\"sk-estimator-id-2\" class=\"sk-toggleable__label sk-toggleable__label-arrow\">None</label><div class=\"sk-toggleable__content\"><pre>None</pre></div></div></div><div class=\"sk-item\"><div class=\"sk-estimator sk-toggleable\"><input class=\"sk-toggleable__control sk-hidden--visually\" id=\"sk-estimator-id-3\" type=\"checkbox\" ><label for=\"sk-estimator-id-3\" class=\"sk-toggleable__label sk-toggleable__label-arrow\">RandomForestClassifier</label><div class=\"sk-toggleable__content\"><pre>RandomForestClassifier()</pre></div></div></div></div></div></div></div>"
      ],
      "text/plain": [
       "Pipeline(steps=[('scale', None), ('model', RandomForestClassifier())])"
      ]
     },
     "execution_count": 32,
     "metadata": {},
     "output_type": "execute_result"
    }
   ],
   "source": [
    "model.fit(X_train, y_train.values.ravel())"
   ]
  },
  {
   "cell_type": "code",
   "execution_count": 33,
   "id": "af59f8c0",
   "metadata": {
    "execution": {
     "iopub.execute_input": "2025-08-05T21:00:05.720097Z",
     "iopub.status.busy": "2025-08-05T21:00:05.719519Z",
     "iopub.status.idle": "2025-08-05T21:00:05.725173Z",
     "shell.execute_reply": "2025-08-05T21:00:05.724054Z"
    },
    "papermill": {
     "duration": 0.026298,
     "end_time": "2025-08-05T21:00:05.726918",
     "exception": false,
     "start_time": "2025-08-05T21:00:05.700620",
     "status": "completed"
    },
    "tags": []
   },
   "outputs": [],
   "source": [
    "from fairness_multiverse.universe import predict_w_threshold"
   ]
  },
  {
   "cell_type": "code",
   "execution_count": 34,
   "id": "a7cf2e16",
   "metadata": {
    "execution": {
     "iopub.execute_input": "2025-08-05T21:00:05.765629Z",
     "iopub.status.busy": "2025-08-05T21:00:05.764769Z",
     "iopub.status.idle": "2025-08-05T21:00:09.143292Z",
     "shell.execute_reply": "2025-08-05T21:00:09.142393Z"
    },
    "papermill": {
     "duration": 3.39904,
     "end_time": "2025-08-05T21:00:09.144838",
     "exception": false,
     "start_time": "2025-08-05T21:00:05.745798",
     "status": "completed"
    },
    "tags": []
   },
   "outputs": [
    {
     "data": {
      "text/plain": [
       "0.8662356481997547"
      ]
     },
     "execution_count": 34,
     "metadata": {},
     "output_type": "execute_result"
    }
   ],
   "source": [
    "probs_test = model.predict_proba(X_test)\n",
    "\n",
    "'''\n",
    "Below code returns a boolean array (or binary 0/1 array depending on how it’s used) where each element \n",
    "is True if the probability of class 1 is greater than or equal to the threshold, and False otherwise.\n",
    "'''\n",
    "y_pred_default = predict_w_threshold(probs_test, 0.5)\n",
    "\n",
    "from sklearn.metrics import accuracy_score\n",
    "\n",
    "# Naive prediction\n",
    "accuracy_score(y_true = y_true, y_pred = y_pred_default)"
   ]
  },
  {
   "cell_type": "code",
   "execution_count": 35,
   "id": "081964c3",
   "metadata": {
    "execution": {
     "iopub.execute_input": "2025-08-05T21:00:09.189381Z",
     "iopub.status.busy": "2025-08-05T21:00:09.188904Z",
     "iopub.status.idle": "2025-08-05T21:00:11.564775Z",
     "shell.execute_reply": "2025-08-05T21:00:11.564016Z"
    },
    "papermill": {
     "duration": 2.398888,
     "end_time": "2025-08-05T21:00:11.566065",
     "exception": false,
     "start_time": "2025-08-05T21:00:09.167177",
     "status": "completed"
    },
    "tags": []
   },
   "outputs": [
    {
     "data": {
      "text/plain": [
       "array([0, 0, 0, ..., 0, 0, 0])"
      ]
     },
     "execution_count": 35,
     "metadata": {},
     "output_type": "execute_result"
    }
   ],
   "source": [
    "model.predict(X_test)"
   ]
  },
  {
   "cell_type": "markdown",
   "id": "56c9705b",
   "metadata": {
    "papermill": {
     "duration": 0.009608,
     "end_time": "2025-08-05T21:00:11.586046",
     "exception": false,
     "start_time": "2025-08-05T21:00:11.576438",
     "status": "completed"
    },
    "tags": []
   },
   "source": [
    "# Conformal Prediction"
   ]
  },
  {
   "cell_type": "code",
   "execution_count": 36,
   "id": "160ec6ff",
   "metadata": {
    "execution": {
     "iopub.execute_input": "2025-08-05T21:00:11.607162Z",
     "iopub.status.busy": "2025-08-05T21:00:11.606453Z",
     "iopub.status.idle": "2025-08-05T21:00:11.611064Z",
     "shell.execute_reply": "2025-08-05T21:00:11.610321Z"
    },
    "papermill": {
     "duration": 0.016757,
     "end_time": "2025-08-05T21:00:11.612456",
     "exception": false,
     "start_time": "2025-08-05T21:00:11.595699",
     "status": "completed"
    },
    "tags": []
   },
   "outputs": [],
   "source": [
    "# Miscoverage level for conformal prediction (10% allowed error rate => 90% target coverage)\n",
    "alpha = 0.1"
   ]
  },
  {
   "cell_type": "code",
   "execution_count": 37,
   "id": "eadf4555-3dd3-440e-8e35-f82a4ad9f855",
   "metadata": {
    "execution": {
     "iopub.execute_input": "2025-08-05T21:00:11.634663Z",
     "iopub.status.busy": "2025-08-05T21:00:11.634090Z",
     "iopub.status.idle": "2025-08-05T21:00:13.889703Z",
     "shell.execute_reply": "2025-08-05T21:00:13.888925Z"
    },
    "papermill": {
     "duration": 2.267722,
     "end_time": "2025-08-05T21:00:13.891189",
     "exception": false,
     "start_time": "2025-08-05T21:00:11.623467",
     "status": "completed"
    },
    "tags": []
   },
   "outputs": [],
   "source": [
    "probs_calib = model.predict_proba(X_calib)"
   ]
  },
  {
   "cell_type": "code",
   "execution_count": 38,
   "id": "2ed93547-6d5d-4983-9b36-1ecb300da49a",
   "metadata": {
    "execution": {
     "iopub.execute_input": "2025-08-05T21:00:13.912562Z",
     "iopub.status.busy": "2025-08-05T21:00:13.912233Z",
     "iopub.status.idle": "2025-08-05T21:00:13.917495Z",
     "shell.execute_reply": "2025-08-05T21:00:13.916792Z"
    },
    "papermill": {
     "duration": 0.017274,
     "end_time": "2025-08-05T21:00:13.919050",
     "exception": false,
     "start_time": "2025-08-05T21:00:13.901776",
     "status": "completed"
    },
    "tags": []
   },
   "outputs": [],
   "source": [
    "y_calib = y_calib.values.ravel().astype(int)"
   ]
  },
  {
   "cell_type": "code",
   "execution_count": 39,
   "id": "65d1320d-f588-4b38-9072-62af1ae97f7d",
   "metadata": {
    "execution": {
     "iopub.execute_input": "2025-08-05T21:00:13.940878Z",
     "iopub.status.busy": "2025-08-05T21:00:13.940238Z",
     "iopub.status.idle": "2025-08-05T21:00:13.946167Z",
     "shell.execute_reply": "2025-08-05T21:00:13.945460Z"
    },
    "papermill": {
     "duration": 0.017798,
     "end_time": "2025-08-05T21:00:13.947596",
     "exception": false,
     "start_time": "2025-08-05T21:00:13.929798",
     "status": "completed"
    },
    "tags": []
   },
   "outputs": [],
   "source": [
    "from fairness_multiverse.conformal import compute_nc_scores\n",
    "\n",
    "# Compute nonconformity scores on calibration set (1 - probability of true class)\n",
    "nc_scores = compute_nc_scores(probs_calib, y_calib)"
   ]
  },
  {
   "cell_type": "code",
   "execution_count": 40,
   "id": "df3b8ca3-53b7-43d5-9667-7c85da7aeda2",
   "metadata": {
    "execution": {
     "iopub.execute_input": "2025-08-05T21:00:13.969730Z",
     "iopub.status.busy": "2025-08-05T21:00:13.969054Z",
     "iopub.status.idle": "2025-08-05T21:00:13.975258Z",
     "shell.execute_reply": "2025-08-05T21:00:13.974508Z"
    },
    "papermill": {
     "duration": 0.018181,
     "end_time": "2025-08-05T21:00:13.976665",
     "exception": false,
     "start_time": "2025-08-05T21:00:13.958484",
     "status": "completed"
    },
    "tags": []
   },
   "outputs": [],
   "source": [
    "from fairness_multiverse.conformal import find_threshold\n",
    "\n",
    "# Find conformal threshold q_hat for the given alpha (split conformal method)\n",
    "q_hat = find_threshold(nc_scores, alpha)"
   ]
  },
  {
   "cell_type": "code",
   "execution_count": 41,
   "id": "4d29e6c1-0ef6-4aa4-b8fe-4fe79b0d033a",
   "metadata": {
    "execution": {
     "iopub.execute_input": "2025-08-05T21:00:13.998475Z",
     "iopub.status.busy": "2025-08-05T21:00:13.997940Z",
     "iopub.status.idle": "2025-08-05T21:00:14.004857Z",
     "shell.execute_reply": "2025-08-05T21:00:14.004026Z"
    },
    "papermill": {
     "duration": 0.019048,
     "end_time": "2025-08-05T21:00:14.006358",
     "exception": false,
     "start_time": "2025-08-05T21:00:13.987310",
     "status": "completed"
    },
    "tags": []
   },
   "outputs": [
    {
     "data": {
      "text/plain": [
       "0.6599999999999999"
      ]
     },
     "execution_count": 41,
     "metadata": {},
     "output_type": "execute_result"
    }
   ],
   "source": [
    "q_hat"
   ]
  },
  {
   "cell_type": "code",
   "execution_count": 42,
   "id": "92460794-cdac-4be2-ba28-f28c0515a6fb",
   "metadata": {
    "execution": {
     "iopub.execute_input": "2025-08-05T21:00:14.028272Z",
     "iopub.status.busy": "2025-08-05T21:00:14.027630Z",
     "iopub.status.idle": "2025-08-05T21:00:16.956956Z",
     "shell.execute_reply": "2025-08-05T21:00:16.955985Z"
    },
    "papermill": {
     "duration": 2.941631,
     "end_time": "2025-08-05T21:00:16.958538",
     "exception": false,
     "start_time": "2025-08-05T21:00:14.016907",
     "status": "completed"
    },
    "tags": []
   },
   "outputs": [],
   "source": [
    "from fairness_multiverse.conformal import predict_conformal_sets\n",
    "\n",
    "# Generate prediction sets for each test example\n",
    "pred_sets = predict_conformal_sets(model, X_test, q_hat)"
   ]
  },
  {
   "cell_type": "code",
   "execution_count": 43,
   "id": "d90c9a65-e6db-4f5d-80cd-e68fb7e46829",
   "metadata": {
    "execution": {
     "iopub.execute_input": "2025-08-05T21:00:16.995559Z",
     "iopub.status.busy": "2025-08-05T21:00:16.995206Z",
     "iopub.status.idle": "2025-08-05T21:00:16.999784Z",
     "shell.execute_reply": "2025-08-05T21:00:16.999036Z"
    },
    "papermill": {
     "duration": 0.023275,
     "end_time": "2025-08-05T21:00:17.001227",
     "exception": false,
     "start_time": "2025-08-05T21:00:16.977952",
     "status": "completed"
    },
    "tags": []
   },
   "outputs": [],
   "source": [
    "y_true = y_true.squeeze()"
   ]
  },
  {
   "cell_type": "code",
   "execution_count": 44,
   "id": "3a58a54a-1e68-46b9-927a-df01f18aebc8",
   "metadata": {
    "execution": {
     "iopub.execute_input": "2025-08-05T21:00:17.025306Z",
     "iopub.status.busy": "2025-08-05T21:00:17.024856Z",
     "iopub.status.idle": "2025-08-05T21:00:18.099630Z",
     "shell.execute_reply": "2025-08-05T21:00:18.098413Z"
    },
    "papermill": {
     "duration": 1.089674,
     "end_time": "2025-08-05T21:00:18.102005",
     "exception": false,
     "start_time": "2025-08-05T21:00:17.012331",
     "status": "completed"
    },
    "tags": []
   },
   "outputs": [],
   "source": [
    "from fairness_multiverse.conformal import evaluate_sets\n",
    "\n",
    "# Evaluate coverage and average set size on test data\n",
    "metrics = evaluate_sets(pred_sets, y_true)"
   ]
  },
  {
   "cell_type": "markdown",
   "id": "2b569c12-9aaa-4c88-98c9-bbcd0cf3ebb8",
   "metadata": {
    "papermill": {
     "duration": 0.025656,
     "end_time": "2025-08-05T21:00:18.154219",
     "exception": false,
     "start_time": "2025-08-05T21:00:18.128563",
     "status": "completed"
    },
    "tags": []
   },
   "source": [
    "# CP Metrics"
   ]
  },
  {
   "cell_type": "code",
   "execution_count": 45,
   "id": "5ce0a5cb-201f-45a0-ade5-94c7f0bd6095",
   "metadata": {
    "execution": {
     "iopub.execute_input": "2025-08-05T21:00:18.202320Z",
     "iopub.status.busy": "2025-08-05T21:00:18.201769Z",
     "iopub.status.idle": "2025-08-05T21:00:18.210243Z",
     "shell.execute_reply": "2025-08-05T21:00:18.208993Z"
    },
    "papermill": {
     "duration": 0.037715,
     "end_time": "2025-08-05T21:00:18.212611",
     "exception": false,
     "start_time": "2025-08-05T21:00:18.174896",
     "status": "completed"
    },
    "tags": []
   },
   "outputs": [
    {
     "data": {
      "text/plain": [
       "{'coverage': 0.9165979266525471, 'avg_size': 1.1461264073124513}"
      ]
     },
     "execution_count": 45,
     "metadata": {},
     "output_type": "execute_result"
    }
   ],
   "source": [
    "metrics"
   ]
  },
  {
   "cell_type": "code",
   "execution_count": 46,
   "id": "9b9a838d-31c9-430b-ae14-12baee460d17",
   "metadata": {
    "execution": {
     "iopub.execute_input": "2025-08-05T21:00:18.262538Z",
     "iopub.status.busy": "2025-08-05T21:00:18.262024Z",
     "iopub.status.idle": "2025-08-05T21:00:18.269634Z",
     "shell.execute_reply": "2025-08-05T21:00:18.268497Z"
    },
    "papermill": {
     "duration": 0.035497,
     "end_time": "2025-08-05T21:00:18.271371",
     "exception": false,
     "start_time": "2025-08-05T21:00:18.235874",
     "status": "completed"
    },
    "tags": []
   },
   "outputs": [],
   "source": [
    "example_universe = universe.copy()\n",
    "universe_training_year = example_universe.get(\"training_year\")\n",
    "universe_training_size = example_universe.get(\"training_size\")\n",
    "universe_scale = example_universe.get(\"scale\")\n",
    "universe_model = example_universe.get(\"model\")\n",
    "universe_exclude_features = example_universe.get(\"exclude_features\")\n",
    "universe_exclude_subgroups = example_universe.get(\"exclude_subgroups\")"
   ]
  },
  {
   "cell_type": "code",
   "execution_count": 47,
   "id": "f4b6a8ac-9dc0-4245-8a91-5b3b5999c4f9",
   "metadata": {
    "execution": {
     "iopub.execute_input": "2025-08-05T21:00:18.298129Z",
     "iopub.status.busy": "2025-08-05T21:00:18.297612Z",
     "iopub.status.idle": "2025-08-05T21:00:18.302775Z",
     "shell.execute_reply": "2025-08-05T21:00:18.301851Z"
    },
    "papermill": {
     "duration": 0.018885,
     "end_time": "2025-08-05T21:00:18.304169",
     "exception": false,
     "start_time": "2025-08-05T21:00:18.285284",
     "status": "completed"
    },
    "tags": []
   },
   "outputs": [],
   "source": [
    "cp_metrics_dict = {\n",
    "    \"universe_id\": [universe_id],\n",
    "    \"universe_training_year\": [universe_training_year],\n",
    "    \"universe_training_size\": [universe_training_size],\n",
    "    \"universe_scale\": [universe_scale],\n",
    "    \"universe_model\": [universe_model],\n",
    "    \"universe_exclude_features\": [universe_exclude_features],\n",
    "    \"universe_exclude_subgroups\": [universe_exclude_subgroups],\n",
    "    \"q_hat\": [q_hat],\n",
    "    \"coverage\": [metrics[\"coverage\"]],\n",
    "    \"avg_size\": [metrics[\"avg_size\"]],\n",
    "}"
   ]
  },
  {
   "cell_type": "code",
   "execution_count": 48,
   "id": "908acbb1-0371-4915-85ca-3fa520d2efe2",
   "metadata": {
    "execution": {
     "iopub.execute_input": "2025-08-05T21:00:18.328022Z",
     "iopub.status.busy": "2025-08-05T21:00:18.327507Z",
     "iopub.status.idle": "2025-08-05T21:00:18.334036Z",
     "shell.execute_reply": "2025-08-05T21:00:18.333195Z"
    },
    "papermill": {
     "duration": 0.019527,
     "end_time": "2025-08-05T21:00:18.335627",
     "exception": false,
     "start_time": "2025-08-05T21:00:18.316100",
     "status": "completed"
    },
    "tags": []
   },
   "outputs": [
    {
     "data": {
      "text/plain": [
       "{'universe_id': ['a3f4f2029379bed9ff58b76814660116'],\n",
       " 'universe_training_year': ['2012_14'],\n",
       " 'universe_training_size': ['25k'],\n",
       " 'universe_scale': ['do-not-scale'],\n",
       " 'universe_model': ['rf'],\n",
       " 'universe_exclude_features': ['sex'],\n",
       " 'universe_exclude_subgroups': ['keep-all'],\n",
       " 'q_hat': [0.6599999999999999],\n",
       " 'coverage': [0.9165979266525471],\n",
       " 'avg_size': [1.1461264073124513]}"
      ]
     },
     "execution_count": 48,
     "metadata": {},
     "output_type": "execute_result"
    }
   ],
   "source": [
    "cp_metrics_dict"
   ]
  },
  {
   "cell_type": "code",
   "execution_count": 49,
   "id": "33007efc-14e9-4ec6-97ac-56a455c82265",
   "metadata": {
    "execution": {
     "iopub.execute_input": "2025-08-05T21:00:18.359205Z",
     "iopub.status.busy": "2025-08-05T21:00:18.358702Z",
     "iopub.status.idle": "2025-08-05T21:00:18.364357Z",
     "shell.execute_reply": "2025-08-05T21:00:18.363620Z"
    },
    "papermill": {
     "duration": 0.01832,
     "end_time": "2025-08-05T21:00:18.365717",
     "exception": false,
     "start_time": "2025-08-05T21:00:18.347397",
     "status": "completed"
    },
    "tags": []
   },
   "outputs": [],
   "source": [
    "cp_metrics_df = pd.DataFrame(cp_metrics_dict)"
   ]
  },
  {
   "cell_type": "code",
   "execution_count": 50,
   "id": "db12611b-57b2-4910-b9d0-355adfd6e7bf",
   "metadata": {
    "execution": {
     "iopub.execute_input": "2025-08-05T21:00:18.390789Z",
     "iopub.status.busy": "2025-08-05T21:00:18.390294Z",
     "iopub.status.idle": "2025-08-05T21:00:18.405277Z",
     "shell.execute_reply": "2025-08-05T21:00:18.404324Z"
    },
    "papermill": {
     "duration": 0.02907,
     "end_time": "2025-08-05T21:00:18.406821",
     "exception": false,
     "start_time": "2025-08-05T21:00:18.377751",
     "status": "completed"
    },
    "tags": []
   },
   "outputs": [
    {
     "data": {
      "text/html": [
       "<div>\n",
       "<style scoped>\n",
       "    .dataframe tbody tr th:only-of-type {\n",
       "        vertical-align: middle;\n",
       "    }\n",
       "\n",
       "    .dataframe tbody tr th {\n",
       "        vertical-align: top;\n",
       "    }\n",
       "\n",
       "    .dataframe thead th {\n",
       "        text-align: right;\n",
       "    }\n",
       "</style>\n",
       "<table border=\"1\" class=\"dataframe\">\n",
       "  <thead>\n",
       "    <tr style=\"text-align: right;\">\n",
       "      <th></th>\n",
       "      <th>universe_id</th>\n",
       "      <th>universe_training_year</th>\n",
       "      <th>universe_training_size</th>\n",
       "      <th>universe_scale</th>\n",
       "      <th>universe_model</th>\n",
       "      <th>universe_exclude_features</th>\n",
       "      <th>universe_exclude_subgroups</th>\n",
       "      <th>q_hat</th>\n",
       "      <th>coverage</th>\n",
       "      <th>avg_size</th>\n",
       "    </tr>\n",
       "  </thead>\n",
       "  <tbody>\n",
       "    <tr>\n",
       "      <th>0</th>\n",
       "      <td>a3f4f2029379bed9ff58b76814660116</td>\n",
       "      <td>2012_14</td>\n",
       "      <td>25k</td>\n",
       "      <td>do-not-scale</td>\n",
       "      <td>rf</td>\n",
       "      <td>sex</td>\n",
       "      <td>keep-all</td>\n",
       "      <td>0.66</td>\n",
       "      <td>0.916598</td>\n",
       "      <td>1.146126</td>\n",
       "    </tr>\n",
       "  </tbody>\n",
       "</table>\n",
       "</div>"
      ],
      "text/plain": [
       "                        universe_id universe_training_year  \\\n",
       "0  a3f4f2029379bed9ff58b76814660116                2012_14   \n",
       "\n",
       "  universe_training_size universe_scale universe_model  \\\n",
       "0                    25k   do-not-scale             rf   \n",
       "\n",
       "  universe_exclude_features universe_exclude_subgroups  q_hat  coverage  \\\n",
       "0                       sex                   keep-all   0.66  0.916598   \n",
       "\n",
       "   avg_size  \n",
       "0  1.146126  "
      ]
     },
     "execution_count": 50,
     "metadata": {},
     "output_type": "execute_result"
    }
   ],
   "source": [
    "cp_metrics_df"
   ]
  },
  {
   "cell_type": "code",
   "execution_count": 51,
   "id": "b7fbde55-a0a1-47e4-9af6-fe4a17fa8c61",
   "metadata": {
    "execution": {
     "iopub.execute_input": "2025-08-05T21:00:18.431442Z",
     "iopub.status.busy": "2025-08-05T21:00:18.430785Z",
     "iopub.status.idle": "2025-08-05T21:00:18.435180Z",
     "shell.execute_reply": "2025-08-05T21:00:18.434492Z"
    },
    "papermill": {
     "duration": 0.017393,
     "end_time": "2025-08-05T21:00:18.436580",
     "exception": false,
     "start_time": "2025-08-05T21:00:18.419187",
     "status": "completed"
    },
    "tags": []
   },
   "outputs": [],
   "source": [
    "# Conditional Coverage & looking at subgroups"
   ]
  },
  {
   "cell_type": "code",
   "execution_count": 52,
   "id": "027ae886-68dd-4141-96c7-805a5450e1ef",
   "metadata": {
    "execution": {
     "iopub.execute_input": "2025-08-05T21:00:18.460762Z",
     "iopub.status.busy": "2025-08-05T21:00:18.460112Z",
     "iopub.status.idle": "2025-08-05T21:00:18.750863Z",
     "shell.execute_reply": "2025-08-05T21:00:18.749855Z"
    },
    "papermill": {
     "duration": 0.303771,
     "end_time": "2025-08-05T21:00:18.752455",
     "exception": false,
     "start_time": "2025-08-05T21:00:18.448684",
     "status": "completed"
    },
    "tags": []
   },
   "outputs": [],
   "source": [
    "from fairness_multiverse.conformal import build_cp_groups\n",
    "\n",
    "cp_groups_df = build_cp_groups(pred_sets, y_true, X_test.index, org_test)\n",
    "#needs universe_id and setting"
   ]
  },
  {
   "cell_type": "code",
   "execution_count": 53,
   "id": "6cbdab96-b2b2-45af-ad54-d0516db2e28d",
   "metadata": {
    "execution": {
     "iopub.execute_input": "2025-08-05T21:00:18.801741Z",
     "iopub.status.busy": "2025-08-05T21:00:18.801112Z",
     "iopub.status.idle": "2025-08-05T21:00:19.962843Z",
     "shell.execute_reply": "2025-08-05T21:00:19.961925Z"
    },
    "papermill": {
     "duration": 1.188858,
     "end_time": "2025-08-05T21:00:19.964648",
     "exception": false,
     "start_time": "2025-08-05T21:00:18.775790",
     "status": "completed"
    },
    "tags": []
   },
   "outputs": [],
   "source": [
    "# Define covered = 1 if true_label is in the predicted set\n",
    "cp_groups_df['covered'] = cp_groups_df.apply(\n",
    "    lambda r: int(r['true_label'] in r['pred_set']),\n",
    "    axis=1\n",
    ")"
   ]
  },
  {
   "cell_type": "code",
   "execution_count": 54,
   "id": "338ff529-1a6b-4b87-a931-8e4788d52aad",
   "metadata": {
    "execution": {
     "iopub.execute_input": "2025-08-05T21:00:20.008098Z",
     "iopub.status.busy": "2025-08-05T21:00:20.007618Z",
     "iopub.status.idle": "2025-08-05T21:00:20.012919Z",
     "shell.execute_reply": "2025-08-05T21:00:20.011997Z"
    },
    "papermill": {
     "duration": 0.028439,
     "end_time": "2025-08-05T21:00:20.015083",
     "exception": false,
     "start_time": "2025-08-05T21:00:19.986644",
     "status": "completed"
    },
    "tags": []
   },
   "outputs": [],
   "source": [
    "#cp_groups_df"
   ]
  },
  {
   "cell_type": "code",
   "execution_count": 55,
   "id": "90032e27-66df-4540-9169-4e89cfbaa758",
   "metadata": {
    "execution": {
     "iopub.execute_input": "2025-08-05T21:00:20.056008Z",
     "iopub.status.busy": "2025-08-05T21:00:20.055655Z",
     "iopub.status.idle": "2025-08-05T21:00:20.066275Z",
     "shell.execute_reply": "2025-08-05T21:00:20.065208Z"
    },
    "papermill": {
     "duration": 0.027648,
     "end_time": "2025-08-05T21:00:20.067967",
     "exception": false,
     "start_time": "2025-08-05T21:00:20.040319",
     "status": "completed"
    },
    "tags": []
   },
   "outputs": [],
   "source": [
    "subgroups = ['frau1','nongerman','nongerman_male','nongerman_female']\n",
    "\n",
    "# Conditional coverage for subgroup==1\n",
    "cond_coverage = {\n",
    "    g: cp_groups_df.loc[cp_groups_df[g]==1, 'covered'].mean()\n",
    "    for g in subgroups\n",
    "}"
   ]
  },
  {
   "cell_type": "code",
   "execution_count": 56,
   "id": "1e348fb1-b9c3-45bc-ba23-f016827a7e0d",
   "metadata": {
    "execution": {
     "iopub.execute_input": "2025-08-05T21:00:20.112252Z",
     "iopub.status.busy": "2025-08-05T21:00:20.111381Z",
     "iopub.status.idle": "2025-08-05T21:00:20.118646Z",
     "shell.execute_reply": "2025-08-05T21:00:20.117575Z"
    },
    "papermill": {
     "duration": 0.031462,
     "end_time": "2025-08-05T21:00:20.120506",
     "exception": false,
     "start_time": "2025-08-05T21:00:20.089044",
     "status": "completed"
    },
    "tags": []
   },
   "outputs": [
    {
     "data": {
      "text/plain": [
       "{'frau1': 0.915837713977625,\n",
       " 'nongerman': 0.9124796496940437,\n",
       " 'nongerman_male': 0.9266864811312258,\n",
       " 'nongerman_female': 0.8889716840536512}"
      ]
     },
     "execution_count": 56,
     "metadata": {},
     "output_type": "execute_result"
    }
   ],
   "source": [
    "cond_coverage"
   ]
  },
  {
   "cell_type": "code",
   "execution_count": 57,
   "id": "f5093324-c3dd-4d63-bc4c-8d945e5c8bbb",
   "metadata": {
    "execution": {
     "iopub.execute_input": "2025-08-05T21:00:20.165550Z",
     "iopub.status.busy": "2025-08-05T21:00:20.165059Z",
     "iopub.status.idle": "2025-08-05T21:00:20.171906Z",
     "shell.execute_reply": "2025-08-05T21:00:20.170986Z"
    },
    "papermill": {
     "duration": 0.033007,
     "end_time": "2025-08-05T21:00:20.173709",
     "exception": false,
     "start_time": "2025-08-05T21:00:20.140702",
     "status": "completed"
    },
    "tags": []
   },
   "outputs": [],
   "source": [
    "for subgroup, cov in cond_coverage.items():\n",
    "    cp_metrics_df[f\"cov_{subgroup}\"] = cov"
   ]
  },
  {
   "cell_type": "code",
   "execution_count": 58,
   "id": "6e872e10-dbe5-49e8-b554-5030c98ff75d",
   "metadata": {
    "execution": {
     "iopub.execute_input": "2025-08-05T21:00:20.202767Z",
     "iopub.status.busy": "2025-08-05T21:00:20.202152Z",
     "iopub.status.idle": "2025-08-05T21:00:20.220200Z",
     "shell.execute_reply": "2025-08-05T21:00:20.219323Z"
    },
    "papermill": {
     "duration": 0.034731,
     "end_time": "2025-08-05T21:00:20.221993",
     "exception": false,
     "start_time": "2025-08-05T21:00:20.187262",
     "status": "completed"
    },
    "tags": []
   },
   "outputs": [
    {
     "data": {
      "text/html": [
       "<div>\n",
       "<style scoped>\n",
       "    .dataframe tbody tr th:only-of-type {\n",
       "        vertical-align: middle;\n",
       "    }\n",
       "\n",
       "    .dataframe tbody tr th {\n",
       "        vertical-align: top;\n",
       "    }\n",
       "\n",
       "    .dataframe thead th {\n",
       "        text-align: right;\n",
       "    }\n",
       "</style>\n",
       "<table border=\"1\" class=\"dataframe\">\n",
       "  <thead>\n",
       "    <tr style=\"text-align: right;\">\n",
       "      <th></th>\n",
       "      <th>universe_id</th>\n",
       "      <th>universe_training_year</th>\n",
       "      <th>universe_training_size</th>\n",
       "      <th>universe_scale</th>\n",
       "      <th>universe_model</th>\n",
       "      <th>universe_exclude_features</th>\n",
       "      <th>universe_exclude_subgroups</th>\n",
       "      <th>q_hat</th>\n",
       "      <th>coverage</th>\n",
       "      <th>avg_size</th>\n",
       "      <th>cov_frau1</th>\n",
       "      <th>cov_nongerman</th>\n",
       "      <th>cov_nongerman_male</th>\n",
       "      <th>cov_nongerman_female</th>\n",
       "    </tr>\n",
       "  </thead>\n",
       "  <tbody>\n",
       "    <tr>\n",
       "      <th>0</th>\n",
       "      <td>a3f4f2029379bed9ff58b76814660116</td>\n",
       "      <td>2012_14</td>\n",
       "      <td>25k</td>\n",
       "      <td>do-not-scale</td>\n",
       "      <td>rf</td>\n",
       "      <td>sex</td>\n",
       "      <td>keep-all</td>\n",
       "      <td>0.66</td>\n",
       "      <td>0.916598</td>\n",
       "      <td>1.146126</td>\n",
       "      <td>0.915838</td>\n",
       "      <td>0.91248</td>\n",
       "      <td>0.926686</td>\n",
       "      <td>0.888972</td>\n",
       "    </tr>\n",
       "  </tbody>\n",
       "</table>\n",
       "</div>"
      ],
      "text/plain": [
       "                        universe_id universe_training_year  \\\n",
       "0  a3f4f2029379bed9ff58b76814660116                2012_14   \n",
       "\n",
       "  universe_training_size universe_scale universe_model  \\\n",
       "0                    25k   do-not-scale             rf   \n",
       "\n",
       "  universe_exclude_features universe_exclude_subgroups  q_hat  coverage  \\\n",
       "0                       sex                   keep-all   0.66  0.916598   \n",
       "\n",
       "   avg_size  cov_frau1  cov_nongerman  cov_nongerman_male  \\\n",
       "0  1.146126   0.915838        0.91248            0.926686   \n",
       "\n",
       "   cov_nongerman_female  \n",
       "0              0.888972  "
      ]
     },
     "execution_count": 58,
     "metadata": {},
     "output_type": "execute_result"
    }
   ],
   "source": [
    "cp_metrics_df"
   ]
  },
  {
   "cell_type": "markdown",
   "id": "33774451",
   "metadata": {
    "papermill": {
     "duration": 0.023268,
     "end_time": "2025-08-05T21:00:20.267589",
     "exception": false,
     "start_time": "2025-08-05T21:00:20.244321",
     "status": "completed"
    },
    "tags": []
   },
   "source": [
    "# (Fairness) Metrics"
   ]
  },
  {
   "cell_type": "code",
   "execution_count": 59,
   "id": "debc5d62",
   "metadata": {
    "execution": {
     "iopub.execute_input": "2025-08-05T21:00:20.314262Z",
     "iopub.status.busy": "2025-08-05T21:00:20.313856Z",
     "iopub.status.idle": "2025-08-05T21:00:20.334901Z",
     "shell.execute_reply": "2025-08-05T21:00:20.333990Z"
    },
    "papermill": {
     "duration": 0.045991,
     "end_time": "2025-08-05T21:00:20.336630",
     "exception": false,
     "start_time": "2025-08-05T21:00:20.290639",
     "status": "completed"
    },
    "tags": []
   },
   "outputs": [],
   "source": [
    "# do I need to include maxdeutsch1.missing?\n",
    "\n",
    "import numpy as np\n",
    "\n",
    "colname_to_bin = \"maxdeutsch1\"\n",
    "majority_value = org_train[colname_to_bin].mode()[0]\n",
    "\n",
    "org_test[\"majmin\"] = np.where(org_test[colname_to_bin] == majority_value, \"majority\", \"minority\")"
   ]
  },
  {
   "cell_type": "code",
   "execution_count": 60,
   "id": "06a50de5",
   "metadata": {
    "execution": {
     "iopub.execute_input": "2025-08-05T21:00:20.385417Z",
     "iopub.status.busy": "2025-08-05T21:00:20.384581Z",
     "iopub.status.idle": "2025-08-05T21:00:23.172132Z",
     "shell.execute_reply": "2025-08-05T21:00:23.171175Z"
    },
    "papermill": {
     "duration": 2.812671,
     "end_time": "2025-08-05T21:00:23.174034",
     "exception": false,
     "start_time": "2025-08-05T21:00:20.361363",
     "status": "completed"
    },
    "tags": []
   },
   "outputs": [],
   "source": [
    "example_universe = universe.copy()\n",
    "example_universe[\"cutoff\"] = example_universe[\"cutoff\"][0]\n",
    "example_universe[\"eval_fairness_grouping\"] = example_universe[\"eval_fairness_grouping\"][0]\n",
    "fairness_dict, metric_frame = universe_analysis.compute_metrics(\n",
    "    example_universe,\n",
    "    y_pred_prob=probs_test,\n",
    "    y_test=y_true,\n",
    "    org_test=org_test,\n",
    ")"
   ]
  },
  {
   "cell_type": "markdown",
   "id": "f95d4e02",
   "metadata": {
    "papermill": {
     "duration": 0.022699,
     "end_time": "2025-08-05T21:00:23.219771",
     "exception": false,
     "start_time": "2025-08-05T21:00:23.197072",
     "status": "completed"
    },
    "tags": []
   },
   "source": [
    "# Overall"
   ]
  },
  {
   "cell_type": "markdown",
   "id": "bdee4871",
   "metadata": {
    "papermill": {
     "duration": 0.022061,
     "end_time": "2025-08-05T21:00:23.264797",
     "exception": false,
     "start_time": "2025-08-05T21:00:23.242736",
     "status": "completed"
    },
    "tags": []
   },
   "source": [
    "Fairness\n",
    "Main fairness target: Equalized Odds. Seems to be a better fit than equal opportunity, since we're not only interested in Y = 1. Seems to be a better fit than demographic parity, since we also care about accuracy, not just equal distribution of preds.\n",
    "\n",
    "Pick column for computation of fairness metrics\n",
    "\n",
    "Performance\n",
    "Overall performance measures, most interesting in relation to the measures split by group below"
   ]
  },
  {
   "cell_type": "code",
   "execution_count": 61,
   "id": "c4e067c6",
   "metadata": {
    "execution": {
     "iopub.execute_input": "2025-08-05T21:00:23.313021Z",
     "iopub.status.busy": "2025-08-05T21:00:23.312053Z",
     "iopub.status.idle": "2025-08-05T21:00:23.320901Z",
     "shell.execute_reply": "2025-08-05T21:00:23.320038Z"
    },
    "papermill": {
     "duration": 0.034959,
     "end_time": "2025-08-05T21:00:23.322467",
     "exception": false,
     "start_time": "2025-08-05T21:00:23.287508",
     "status": "completed"
    },
    "tags": []
   },
   "outputs": [
    {
     "data": {
      "text/plain": [
       "accuracy                   0.198818\n",
       "balanced accuracy          0.532789\n",
       "f1                         0.239235\n",
       "precision                  0.136209\n",
       "false positive rate        0.916434\n",
       "false negative rate        0.017987\n",
       "selection rate             0.924847\n",
       "count                  89710.000000\n",
       "dtype: float64"
      ]
     },
     "execution_count": 61,
     "metadata": {},
     "output_type": "execute_result"
    }
   ],
   "source": [
    "metric_frame.overall"
   ]
  },
  {
   "cell_type": "markdown",
   "id": "e968fe9d",
   "metadata": {
    "papermill": {
     "duration": 0.023742,
     "end_time": "2025-08-05T21:00:23.367970",
     "exception": false,
     "start_time": "2025-08-05T21:00:23.344228",
     "status": "completed"
    },
    "tags": []
   },
   "source": [
    "By Group"
   ]
  },
  {
   "cell_type": "code",
   "execution_count": 62,
   "id": "ec325bce",
   "metadata": {
    "execution": {
     "iopub.execute_input": "2025-08-05T21:00:23.418929Z",
     "iopub.status.busy": "2025-08-05T21:00:23.418202Z",
     "iopub.status.idle": "2025-08-05T21:00:23.438804Z",
     "shell.execute_reply": "2025-08-05T21:00:23.437586Z"
    },
    "papermill": {
     "duration": 0.051449,
     "end_time": "2025-08-05T21:00:23.440532",
     "exception": false,
     "start_time": "2025-08-05T21:00:23.389083",
     "status": "completed"
    },
    "tags": []
   },
   "outputs": [
    {
     "data": {
      "text/html": [
       "<div>\n",
       "<style scoped>\n",
       "    .dataframe tbody tr th:only-of-type {\n",
       "        vertical-align: middle;\n",
       "    }\n",
       "\n",
       "    .dataframe tbody tr th {\n",
       "        vertical-align: top;\n",
       "    }\n",
       "\n",
       "    .dataframe thead th {\n",
       "        text-align: right;\n",
       "    }\n",
       "</style>\n",
       "<table border=\"1\" class=\"dataframe\">\n",
       "  <thead>\n",
       "    <tr style=\"text-align: right;\">\n",
       "      <th></th>\n",
       "      <th>accuracy</th>\n",
       "      <th>balanced accuracy</th>\n",
       "      <th>f1</th>\n",
       "      <th>precision</th>\n",
       "      <th>false positive rate</th>\n",
       "      <th>false negative rate</th>\n",
       "      <th>selection rate</th>\n",
       "      <th>count</th>\n",
       "    </tr>\n",
       "    <tr>\n",
       "      <th>majmin</th>\n",
       "      <th></th>\n",
       "      <th></th>\n",
       "      <th></th>\n",
       "      <th></th>\n",
       "      <th></th>\n",
       "      <th></th>\n",
       "      <th></th>\n",
       "      <th></th>\n",
       "    </tr>\n",
       "  </thead>\n",
       "  <tbody>\n",
       "    <tr>\n",
       "      <th>majority</th>\n",
       "      <td>0.188391</td>\n",
       "      <td>0.528792</td>\n",
       "      <td>0.244052</td>\n",
       "      <td>0.139152</td>\n",
       "      <td>0.933883</td>\n",
       "      <td>0.008534</td>\n",
       "      <td>0.941492</td>\n",
       "      <td>69170.0</td>\n",
       "    </tr>\n",
       "    <tr>\n",
       "      <th>minority</th>\n",
       "      <td>0.233934</td>\n",
       "      <td>0.543365</td>\n",
       "      <td>0.221541</td>\n",
       "      <td>0.125469</td>\n",
       "      <td>0.858794</td>\n",
       "      <td>0.054476</td>\n",
       "      <td>0.868793</td>\n",
       "      <td>20540.0</td>\n",
       "    </tr>\n",
       "  </tbody>\n",
       "</table>\n",
       "</div>"
      ],
      "text/plain": [
       "          accuracy  balanced accuracy        f1  precision  \\\n",
       "majmin                                                       \n",
       "majority  0.188391           0.528792  0.244052   0.139152   \n",
       "minority  0.233934           0.543365  0.221541   0.125469   \n",
       "\n",
       "          false positive rate  false negative rate  selection rate    count  \n",
       "majmin                                                                       \n",
       "majority             0.933883             0.008534        0.941492  69170.0  \n",
       "minority             0.858794             0.054476        0.868793  20540.0  "
      ]
     },
     "execution_count": 62,
     "metadata": {},
     "output_type": "execute_result"
    }
   ],
   "source": [
    "metric_frame.by_group"
   ]
  },
  {
   "cell_type": "code",
   "execution_count": 63,
   "id": "a9ddbe63",
   "metadata": {
    "execution": {
     "iopub.execute_input": "2025-08-05T21:00:23.489126Z",
     "iopub.status.busy": "2025-08-05T21:00:23.488223Z",
     "iopub.status.idle": "2025-08-05T21:00:26.127492Z",
     "shell.execute_reply": "2025-08-05T21:00:26.126506Z"
    },
    "papermill": {
     "duration": 2.66457,
     "end_time": "2025-08-05T21:00:26.129170",
     "exception": false,
     "start_time": "2025-08-05T21:00:23.464600",
     "status": "completed"
    },
    "tags": []
   },
   "outputs": [
    {
     "data": {
      "text/plain": [
       "array([[<Axes: title={'center': 'accuracy'}, xlabel='majmin'>,\n",
       "        <Axes: title={'center': 'balanced accuracy'}, xlabel='majmin'>,\n",
       "        <Axes: title={'center': 'f1'}, xlabel='majmin'>],\n",
       "       [<Axes: title={'center': 'precision'}, xlabel='majmin'>,\n",
       "        <Axes: title={'center': 'false positive rate'}, xlabel='majmin'>,\n",
       "        <Axes: title={'center': 'false negative rate'}, xlabel='majmin'>],\n",
       "       [<Axes: title={'center': 'selection rate'}, xlabel='majmin'>,\n",
       "        <Axes: title={'center': 'count'}, xlabel='majmin'>,\n",
       "        <Axes: xlabel='majmin'>]], dtype=object)"
      ]
     },
     "execution_count": 63,
     "metadata": {},
     "output_type": "execute_result"
    },
    {
     "data": {
      "image/png": "[encoded data removed]",
      "text/plain": [
       "<Figure size 1200x800 with 9 Axes>"
      ]
     },
     "metadata": {},
     "output_type": "display_data"
    }
   ],
   "source": [
    "# In a graphic\n",
    "metric_frame.by_group.plot.bar(\n",
    "    subplots=True,\n",
    "    layout=[3, 3],\n",
    "    legend=False,\n",
    "    figsize=[12, 8],\n",
    "    title=\"Show all metrics\",\n",
    ")"
   ]
  },
  {
   "cell_type": "markdown",
   "id": "f57a0bac",
   "metadata": {
    "papermill": {
     "duration": 0.022562,
     "end_time": "2025-08-05T21:00:26.177311",
     "exception": false,
     "start_time": "2025-08-05T21:00:26.154749",
     "status": "completed"
    },
    "tags": []
   },
   "source": [
    "# Final Output"
   ]
  },
  {
   "cell_type": "code",
   "execution_count": 64,
   "id": "96d280a3",
   "metadata": {
    "execution": {
     "iopub.execute_input": "2025-08-05T21:00:26.224623Z",
     "iopub.status.busy": "2025-08-05T21:00:26.223976Z",
     "iopub.status.idle": "2025-08-05T21:00:26.232218Z",
     "shell.execute_reply": "2025-08-05T21:00:26.231317Z"
    },
    "papermill": {
     "duration": 0.033475,
     "end_time": "2025-08-05T21:00:26.233769",
     "exception": false,
     "start_time": "2025-08-05T21:00:26.200294",
     "status": "completed"
    },
    "tags": []
   },
   "outputs": [
    {
     "data": {
      "text/plain": [
       "4"
      ]
     },
     "execution_count": 64,
     "metadata": {},
     "output_type": "execute_result"
    }
   ],
   "source": [
    "sub_universes = universe_analysis.generate_sub_universes()\n",
    "len(sub_universes)"
   ]
  },
  {
   "cell_type": "code",
   "execution_count": 65,
   "id": "92adf7ba",
   "metadata": {
    "execution": {
     "iopub.execute_input": "2025-08-05T21:00:26.281983Z",
     "iopub.status.busy": "2025-08-05T21:00:26.281214Z",
     "iopub.status.idle": "2025-08-05T21:00:26.288170Z",
     "shell.execute_reply": "2025-08-05T21:00:26.287001Z"
    },
    "papermill": {
     "duration": 0.033282,
     "end_time": "2025-08-05T21:00:26.289872",
     "exception": false,
     "start_time": "2025-08-05T21:00:26.256590",
     "status": "completed"
    },
    "tags": []
   },
   "outputs": [],
   "source": [
    "def filter_sub_universe_data(sub_universe, org_test):\n",
    "    # Keep all rows — no filtering\n",
    "    keep_rows_mask = np.ones(org_test.shape[0], dtype=bool)\n",
    "\n",
    "    print(f\"[INFO] Keeping all rows: {keep_rows_mask.sum()} rows retained.\")\n",
    "    return keep_rows_mask"
   ]
  },
  {
   "cell_type": "code",
   "execution_count": 66,
   "id": "4a759155",
   "metadata": {
    "execution": {
     "iopub.execute_input": "2025-08-05T21:00:26.338157Z",
     "iopub.status.busy": "2025-08-05T21:00:26.337353Z",
     "iopub.status.idle": "2025-08-05T21:00:36.749130Z",
     "shell.execute_reply": "2025-08-05T21:00:36.748087Z"
    },
    "papermill": {
     "duration": 10.438055,
     "end_time": "2025-08-05T21:00:36.750797",
     "exception": false,
     "start_time": "2025-08-05T21:00:26.312742",
     "status": "completed"
    },
    "tags": []
   },
   "outputs": [
    {
     "name": "stdout",
     "output_type": "stream",
     "text": [
      "Stopping execution_time clock.\n",
      "[INFO] Keeping all rows: 89710 rows retained.\n"
     ]
    },
    {
     "name": "stdout",
     "output_type": "stream",
     "text": [
      "[INFO] Keeping all rows: 89710 rows retained.\n"
     ]
    },
    {
     "name": "stdout",
     "output_type": "stream",
     "text": [
      "[INFO] Keeping all rows: 89710 rows retained.\n"
     ]
    },
    {
     "name": "stdout",
     "output_type": "stream",
     "text": [
      "[INFO] Keeping all rows: 89710 rows retained.\n"
     ]
    },
    {
     "data": {
      "text/html": [
       "<div>\n",
       "<style scoped>\n",
       "    .dataframe tbody tr th:only-of-type {\n",
       "        vertical-align: middle;\n",
       "    }\n",
       "\n",
       "    .dataframe tbody tr th {\n",
       "        vertical-align: top;\n",
       "    }\n",
       "\n",
       "    .dataframe thead th {\n",
       "        text-align: right;\n",
       "    }\n",
       "</style>\n",
       "<table border=\"1\" class=\"dataframe\">\n",
       "  <thead>\n",
       "    <tr style=\"text-align: right;\">\n",
       "      <th></th>\n",
       "      <th>run_no</th>\n",
       "      <th>universe_id</th>\n",
       "      <th>universe_settings</th>\n",
       "      <th>execution_time</th>\n",
       "      <th>test_size_n</th>\n",
       "      <th>test_size_frac</th>\n",
       "      <th>fair_main_equalized_odds_difference</th>\n",
       "      <th>fair_main_equalized_odds_ratio</th>\n",
       "      <th>fair_main_demographic_parity_difference</th>\n",
       "      <th>fair_main_demographic_parity_ratio</th>\n",
       "      <th>...</th>\n",
       "      <th>perf_grp_precision_0</th>\n",
       "      <th>perf_grp_precision_1</th>\n",
       "      <th>perf_grp_false positive rate_0</th>\n",
       "      <th>perf_grp_false positive rate_1</th>\n",
       "      <th>perf_grp_false negative rate_0</th>\n",
       "      <th>perf_grp_false negative rate_1</th>\n",
       "      <th>perf_grp_selection rate_0</th>\n",
       "      <th>perf_grp_selection rate_1</th>\n",
       "      <th>perf_grp_count_0</th>\n",
       "      <th>perf_grp_count_1</th>\n",
       "    </tr>\n",
       "  </thead>\n",
       "  <tbody>\n",
       "    <tr>\n",
       "      <th>0</th>\n",
       "      <td>16</td>\n",
       "      <td>a3f4f2029379bed9ff58b76814660116</td>\n",
       "      <td>{\"cutoff\": \"quantile_0.1\", \"eval_fairness_grou...</td>\n",
       "      <td>44.298177</td>\n",
       "      <td>89710</td>\n",
       "      <td>1.0</td>\n",
       "      <td>0.075089</td>\n",
       "      <td>0.919595</td>\n",
       "      <td>0.072699</td>\n",
       "      <td>0.922783</td>\n",
       "      <td>...</td>\n",
       "      <td>NaN</td>\n",
       "      <td>NaN</td>\n",
       "      <td>NaN</td>\n",
       "      <td>NaN</td>\n",
       "      <td>NaN</td>\n",
       "      <td>NaN</td>\n",
       "      <td>NaN</td>\n",
       "      <td>NaN</td>\n",
       "      <td>NaN</td>\n",
       "      <td>NaN</td>\n",
       "    </tr>\n",
       "    <tr>\n",
       "      <th>0</th>\n",
       "      <td>16</td>\n",
       "      <td>a3f4f2029379bed9ff58b76814660116</td>\n",
       "      <td>{\"cutoff\": \"quantile_0.1\", \"eval_fairness_grou...</td>\n",
       "      <td>44.298177</td>\n",
       "      <td>89710</td>\n",
       "      <td>1.0</td>\n",
       "      <td>0.075089</td>\n",
       "      <td>0.919595</td>\n",
       "      <td>0.072699</td>\n",
       "      <td>0.922783</td>\n",
       "      <td>...</td>\n",
       "      <td>0.125469</td>\n",
       "      <td>0.139152</td>\n",
       "      <td>0.858794</td>\n",
       "      <td>0.933883</td>\n",
       "      <td>0.054476</td>\n",
       "      <td>0.008534</td>\n",
       "      <td>0.868793</td>\n",
       "      <td>0.941492</td>\n",
       "      <td>20540.0</td>\n",
       "      <td>69170.0</td>\n",
       "    </tr>\n",
       "    <tr>\n",
       "      <th>0</th>\n",
       "      <td>16</td>\n",
       "      <td>a3f4f2029379bed9ff58b76814660116</td>\n",
       "      <td>{\"cutoff\": \"quantile_0.25\", \"eval_fairness_gro...</td>\n",
       "      <td>44.298177</td>\n",
       "      <td>89710</td>\n",
       "      <td>1.0</td>\n",
       "      <td>0.105367</td>\n",
       "      <td>0.890351</td>\n",
       "      <td>0.089605</td>\n",
       "      <td>0.887201</td>\n",
       "      <td>...</td>\n",
       "      <td>NaN</td>\n",
       "      <td>NaN</td>\n",
       "      <td>NaN</td>\n",
       "      <td>NaN</td>\n",
       "      <td>NaN</td>\n",
       "      <td>NaN</td>\n",
       "      <td>NaN</td>\n",
       "      <td>NaN</td>\n",
       "      <td>NaN</td>\n",
       "      <td>NaN</td>\n",
       "    </tr>\n",
       "    <tr>\n",
       "      <th>0</th>\n",
       "      <td>16</td>\n",
       "      <td>a3f4f2029379bed9ff58b76814660116</td>\n",
       "      <td>{\"cutoff\": \"quantile_0.25\", \"eval_fairness_gro...</td>\n",
       "      <td>44.298177</td>\n",
       "      <td>89710</td>\n",
       "      <td>1.0</td>\n",
       "      <td>0.105367</td>\n",
       "      <td>0.890351</td>\n",
       "      <td>0.089605</td>\n",
       "      <td>0.887201</td>\n",
       "      <td>...</td>\n",
       "      <td>0.139956</td>\n",
       "      <td>0.159845</td>\n",
       "      <td>0.685120</td>\n",
       "      <td>0.769015</td>\n",
       "      <td>0.144426</td>\n",
       "      <td>0.039059</td>\n",
       "      <td>0.704771</td>\n",
       "      <td>0.794376</td>\n",
       "      <td>20540.0</td>\n",
       "      <td>69170.0</td>\n",
       "    </tr>\n",
       "  </tbody>\n",
       "</table>\n",
       "<p>4 rows × 50 columns</p>\n",
       "</div>"
      ],
      "text/plain": [
       "  run_no                       universe_id  \\\n",
       "0     16  a3f4f2029379bed9ff58b76814660116   \n",
       "0     16  a3f4f2029379bed9ff58b76814660116   \n",
       "0     16  a3f4f2029379bed9ff58b76814660116   \n",
       "0     16  a3f4f2029379bed9ff58b76814660116   \n",
       "\n",
       "                                   universe_settings  execution_time  \\\n",
       "0  {\"cutoff\": \"quantile_0.1\", \"eval_fairness_grou...       44.298177   \n",
       "0  {\"cutoff\": \"quantile_0.1\", \"eval_fairness_grou...       44.298177   \n",
       "0  {\"cutoff\": \"quantile_0.25\", \"eval_fairness_gro...       44.298177   \n",
       "0  {\"cutoff\": \"quantile_0.25\", \"eval_fairness_gro...       44.298177   \n",
       "\n",
       "   test_size_n  test_size_frac  fair_main_equalized_odds_difference  \\\n",
       "0        89710             1.0                             0.075089   \n",
       "0        89710             1.0                             0.075089   \n",
       "0        89710             1.0                             0.105367   \n",
       "0        89710             1.0                             0.105367   \n",
       "\n",
       "   fair_main_equalized_odds_ratio  fair_main_demographic_parity_difference  \\\n",
       "0                        0.919595                                 0.072699   \n",
       "0                        0.919595                                 0.072699   \n",
       "0                        0.890351                                 0.089605   \n",
       "0                        0.890351                                 0.089605   \n",
       "\n",
       "   fair_main_demographic_parity_ratio  ...  perf_grp_precision_0  \\\n",
       "0                            0.922783  ...                   NaN   \n",
       "0                            0.922783  ...              0.125469   \n",
       "0                            0.887201  ...                   NaN   \n",
       "0                            0.887201  ...              0.139956   \n",
       "\n",
       "   perf_grp_precision_1  perf_grp_false positive rate_0  \\\n",
       "0                   NaN                             NaN   \n",
       "0              0.139152                        0.858794   \n",
       "0                   NaN                             NaN   \n",
       "0              0.159845                        0.685120   \n",
       "\n",
       "   perf_grp_false positive rate_1  perf_grp_false negative rate_0  \\\n",
       "0                             NaN                             NaN   \n",
       "0                        0.933883                        0.054476   \n",
       "0                             NaN                             NaN   \n",
       "0                        0.769015                        0.144426   \n",
       "\n",
       "   perf_grp_false negative rate_1  perf_grp_selection rate_0  \\\n",
       "0                             NaN                        NaN   \n",
       "0                        0.008534                   0.868793   \n",
       "0                             NaN                        NaN   \n",
       "0                        0.039059                   0.704771   \n",
       "\n",
       "   perf_grp_selection rate_1  perf_grp_count_0  perf_grp_count_1  \n",
       "0                        NaN               NaN               NaN  \n",
       "0                   0.941492           20540.0           69170.0  \n",
       "0                        NaN               NaN               NaN  \n",
       "0                   0.794376           20540.0           69170.0  \n",
       "\n",
       "[4 rows x 50 columns]"
      ]
     },
     "execution_count": 66,
     "metadata": {},
     "output_type": "execute_result"
    }
   ],
   "source": [
    "final_output = universe_analysis.generate_final_output(\n",
    "    y_pred_prob=probs_test,\n",
    "    y_test=y_true,\n",
    "    org_test=org_test,\n",
    "    filter_data=filter_sub_universe_data,\n",
    "    cp_metrics_df=cp_metrics_df,\n",
    "    save=True,\n",
    ")\n",
    "final_output"
   ]
  }
 ],
 "metadata": {
  "celltoolbar": "Tags",
  "kernelspec": {
   "display_name": "Python (CMA Fairness)",
   "language": "python",
   "name": "cma_fair_env"
  },
  "language_info": {
   "codemirror_mode": {
    "name": "ipython",
    "version": 3
   },
   "file_extension": ".py",
   "mimetype": "text/x-python",
   "name": "python",
   "nbconvert_exporter": "python",
   "pygments_lexer": "ipython3",
   "version": "3.10.12"
  },
  "papermill": {
   "default_parameters": {},
   "duration": 59.021936,
   "end_time": "2025-08-05T21:00:37.601048",
   "environment_variables": {},
   "exception": null,
   "input_path": "universe_analysis.ipynb",
   "output_path": "output/runs/16/notebooks/m_16-a3f4f2029379bed9ff58b76814660116.ipynb",
   "parameters": {
    "output_dir": "output",
    "run_no": "16",
    "seed": "2023",
    "universe": "{\"cutoff\": [\"quantile_0.1\", \"quantile_0.25\"], \"eval_fairness_grouping\": [\"majority-minority\", \"nationality-all\"], \"exclude_features\": \"sex\", \"exclude_subgroups\": \"keep-all\", \"model\": \"rf\", \"scale\": \"do-not-scale\", \"training_size\": \"25k\", \"training_year\": \"2012_14\"}",
    "universe_id": "a3f4f2029379bed9ff58b76814660116"
   },
   "start_time": "2025-08-05T20:59:38.579112",
   "version": "2.6.0"
  }
 },
 "nbformat": 4,
 "nbformat_minor": 5
}