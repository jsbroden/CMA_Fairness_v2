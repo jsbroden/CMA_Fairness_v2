{
 "cells": [
  {
   "cell_type": "code",
   "execution_count": 1,
   "id": "f159f837-637b-42ba-96b5-ec9a68c44524",
   "metadata": {
    "execution": {
     "iopub.execute_input": "2025-08-05T20:56:56.396473Z",
     "iopub.status.busy": "2025-08-05T20:56:56.395587Z",
     "iopub.status.idle": "2025-08-05T20:56:56.409135Z",
     "shell.execute_reply": "2025-08-05T20:56:56.408147Z"
    },
    "papermill": {
     "duration": 0.031731,
     "end_time": "2025-08-05T20:56:56.410992",
     "exception": false,
     "start_time": "2025-08-05T20:56:56.379261",
     "status": "completed"
    },
    "tags": []
   },
   "outputs": [
    {
     "name": "stdout",
     "output_type": "stream",
     "text": [
      "/dss/dsshome1/0C/ra93lal2/cma/CMA_Fairness_v2\n"
     ]
    },
    {
     "name": "stderr",
     "output_type": "stream",
     "text": [
      "/dss/dsshome1/0C/ra93lal2/.local/share/virtualenvs/CMA_Fairness_v2-3j10GkSs/lib/python3.10/site-packages/IPython/core/magics/osm.py:393: UserWarning: This is now an optional IPython functionality, using bookmarks requires you to install the `pickleshare` library.\n",
      "  bkms = self.shell.db.get('bookmarks', {})\n",
      "/dss/dsshome1/0C/ra93lal2/.local/share/virtualenvs/CMA_Fairness_v2-3j10GkSs/lib/python3.10/site-packages/IPython/core/magics/osm.py:417: UserWarning: This is now an optional IPython functionality, setting dhist requires you to install the `pickleshare` library.\n",
      "  self.shell.db['dhist'] = compress_dhist(dhist)[-100:]\n"
     ]
    }
   ],
   "source": [
    "%cd ~/cma/CMA_Fairness_v2"
   ]
  },
  {
   "cell_type": "markdown",
   "id": "de2603b9",
   "metadata": {
    "papermill": {
     "duration": 0.015271,
     "end_time": "2025-08-05T20:56:56.442073",
     "exception": false,
     "start_time": "2025-08-05T20:56:56.426802",
     "status": "completed"
    },
    "tags": []
   },
   "source": [
    "The following cell holds the definition of our parameters, these values can be overriden by rendering the with e.g. the following command:\n",
    "\n",
    "papermill -p alpha 0.2 -p ratio 0.3 universe_analysis.ipynb output/test_run.ipynb"
   ]
  },
  {
   "cell_type": "code",
   "execution_count": 2,
   "id": "a80968a0-40bb-4fa9-85ef-2d5eefb01975",
   "metadata": {
    "execution": {
     "iopub.execute_input": "2025-08-05T20:56:56.473897Z",
     "iopub.status.busy": "2025-08-05T20:56:56.472968Z",
     "iopub.status.idle": "2025-08-05T20:56:56.478282Z",
     "shell.execute_reply": "2025-08-05T20:56:56.477419Z"
    },
    "papermill": {
     "duration": 0.023171,
     "end_time": "2025-08-05T20:56:56.479950",
     "exception": false,
     "start_time": "2025-08-05T20:56:56.456779",
     "status": "completed"
    },
    "tags": []
   },
   "outputs": [
    {
     "name": "stdout",
     "output_type": "stream",
     "text": [
      "Current working directory: /dss/dsshome1/0C/ra93lal2/cma/CMA_Fairness_v2\n"
     ]
    }
   ],
   "source": [
    "import os\n",
    "print(\"Current working directory:\", os.getcwd())"
   ]
  },
  {
   "cell_type": "code",
   "execution_count": 3,
   "id": "2dce4c03",
   "metadata": {
    "execution": {
     "iopub.execute_input": "2025-08-05T20:56:56.512109Z",
     "iopub.status.busy": "2025-08-05T20:56:56.511822Z",
     "iopub.status.idle": "2025-08-05T20:56:56.517116Z",
     "shell.execute_reply": "2025-08-05T20:56:56.516234Z"
    },
    "papermill": {
     "duration": 0.023479,
     "end_time": "2025-08-05T20:56:56.518876",
     "exception": false,
     "start_time": "2025-08-05T20:56:56.495397",
     "status": "completed"
    },
    "tags": [
     "parameters"
    ]
   },
   "outputs": [],
   "source": [
    "run_no = 0\n",
    "universe_id = \"test\"\n",
    "universe = {\n",
    "    \"training_size\": \"25k\", # \"25k\", \"5k\", \"1k\"\n",
    "    \"training_year\": \"2014\", # \"2014\", \"2012_14\", \"2010_14\"\n",
    "    \"scale\": \"scale\", # \"scale\", \"do-not-scale\",\n",
    "    \"model\": \"elasticnet\", # \"logreg\", \"penalized_logreg\", \"rf\", \"gbm\", \"elasticnet\"\n",
    "    \"cutoff\": [\"quantile_0.15\", \"quantile_0.30\"],\n",
    "    \"exclude_features\": \"age\", # \"none\", \"nationality\", \"sex\", \"nationality-sex\", \"age\"\n",
    "    \"exclude_subgroups\": \"keep-all\", # \"keep-all\", \"drop-non-german\"\n",
    "    \"eval_fairness_grouping\": [\"majority-minority\", \"nationality-all\"]\n",
    "}\n",
    "\n",
    "output_dir=\"./output\"\n",
    "seed=0"
   ]
  },
  {
   "cell_type": "code",
   "execution_count": 4,
   "id": "a72ad025",
   "metadata": {
    "execution": {
     "iopub.execute_input": "2025-08-05T20:56:56.553986Z",
     "iopub.status.busy": "2025-08-05T20:56:56.553278Z",
     "iopub.status.idle": "2025-08-05T20:56:56.558124Z",
     "shell.execute_reply": "2025-08-05T20:56:56.557231Z"
    },
    "papermill": {
     "duration": 0.022927,
     "end_time": "2025-08-05T20:56:56.559758",
     "exception": false,
     "start_time": "2025-08-05T20:56:56.536831",
     "status": "completed"
    },
    "tags": [
     "injected-parameters"
    ]
   },
   "outputs": [],
   "source": [
    "# Parameters\n",
    "universe_id = \"0a4957d80956b384397344a293c820a4\"\n",
    "run_no = \"16\"\n",
    "universe = \"{\\\"cutoff\\\": [\\\"quantile_0.1\\\", \\\"quantile_0.25\\\"], \\\"eval_fairness_grouping\\\": [\\\"majority-minority\\\", \\\"nationality-all\\\"], \\\"exclude_features\\\": \\\"none\\\", \\\"exclude_subgroups\\\": \\\"drop-non-german\\\", \\\"model\\\": \\\"logreg\\\", \\\"scale\\\": \\\"do-not-scale\\\", \\\"training_size\\\": \\\"25k\\\", \\\"training_year\\\": \\\"2012_14\\\"}\"\n",
    "output_dir = \"output\"\n",
    "seed = \"2023\"\n"
   ]
  },
  {
   "cell_type": "code",
   "execution_count": 5,
   "id": "1650acaf",
   "metadata": {
    "execution": {
     "iopub.execute_input": "2025-08-05T20:56:56.591870Z",
     "iopub.status.busy": "2025-08-05T20:56:56.591384Z",
     "iopub.status.idle": "2025-08-05T20:56:56.596202Z",
     "shell.execute_reply": "2025-08-05T20:56:56.595279Z"
    },
    "papermill": {
     "duration": 0.022406,
     "end_time": "2025-08-05T20:56:56.597777",
     "exception": false,
     "start_time": "2025-08-05T20:56:56.575371",
     "status": "completed"
    },
    "tags": []
   },
   "outputs": [],
   "source": [
    "import json\n",
    "if isinstance(universe, str):\n",
    "    universe = json.loads(universe)"
   ]
  },
  {
   "cell_type": "code",
   "execution_count": 6,
   "id": "16620c48",
   "metadata": {
    "execution": {
     "iopub.execute_input": "2025-08-05T20:56:56.630401Z",
     "iopub.status.busy": "2025-08-05T20:56:56.629649Z",
     "iopub.status.idle": "2025-08-05T20:56:56.670740Z",
     "shell.execute_reply": "2025-08-05T20:56:56.669952Z"
    },
    "papermill": {
     "duration": 0.058536,
     "end_time": "2025-08-05T20:56:56.672302",
     "exception": false,
     "start_time": "2025-08-05T20:56:56.613766",
     "status": "completed"
    },
    "tags": []
   },
   "outputs": [],
   "source": [
    "# Auto-reload the custom package\n",
    "%load_ext autoreload\n",
    "%autoreload 1\n",
    "%aimport fairness_multiverse"
   ]
  },
  {
   "cell_type": "code",
   "execution_count": 7,
   "id": "01c5c9f3",
   "metadata": {
    "execution": {
     "iopub.execute_input": "2025-08-05T20:56:56.705891Z",
     "iopub.status.busy": "2025-08-05T20:56:56.705114Z",
     "iopub.status.idle": "2025-08-05T20:56:58.576725Z",
     "shell.execute_reply": "2025-08-05T20:56:58.575857Z"
    },
    "papermill": {
     "duration": 1.88947,
     "end_time": "2025-08-05T20:56:58.578444",
     "exception": false,
     "start_time": "2025-08-05T20:56:56.688974",
     "status": "completed"
    },
    "tags": []
   },
   "outputs": [],
   "source": [
    "from fairness_multiverse.universe import UniverseAnalysis\n",
    "\n",
    "universe_analysis = UniverseAnalysis(\n",
    "    run_no = run_no,\n",
    "    universe_id = universe_id,\n",
    "    universe = universe,\n",
    "    output_dir=output_dir,\n",
    ")"
   ]
  },
  {
   "cell_type": "code",
   "execution_count": 8,
   "id": "106241f5",
   "metadata": {
    "execution": {
     "iopub.execute_input": "2025-08-05T20:56:58.612005Z",
     "iopub.status.busy": "2025-08-05T20:56:58.611154Z",
     "iopub.status.idle": "2025-08-05T20:56:58.617314Z",
     "shell.execute_reply": "2025-08-05T20:56:58.616306Z"
    },
    "papermill": {
     "duration": 0.024582,
     "end_time": "2025-08-05T20:56:58.618915",
     "exception": false,
     "start_time": "2025-08-05T20:56:58.594333",
     "status": "completed"
    },
    "tags": []
   },
   "outputs": [
    {
     "name": "stdout",
     "output_type": "stream",
     "text": [
      "Using Seed: 2023\n"
     ]
    }
   ],
   "source": [
    "import numpy as np\n",
    "parsed_seed = int(seed)\n",
    "np.random.seed(parsed_seed)\n",
    "print(f\"Using Seed: {parsed_seed}\")"
   ]
  },
  {
   "cell_type": "markdown",
   "id": "e0ebdc57",
   "metadata": {
    "papermill": {
     "duration": 0.015331,
     "end_time": "2025-08-05T20:56:58.650671",
     "exception": false,
     "start_time": "2025-08-05T20:56:58.635340",
     "status": "completed"
    },
    "tags": []
   },
   "source": [
    "# Loading Data"
   ]
  },
  {
   "cell_type": "code",
   "execution_count": 9,
   "id": "f0496b8a",
   "metadata": {
    "execution": {
     "iopub.execute_input": "2025-08-05T20:56:58.684984Z",
     "iopub.status.busy": "2025-08-05T20:56:58.684636Z",
     "iopub.status.idle": "2025-08-05T20:57:10.780674Z",
     "shell.execute_reply": "2025-08-05T20:57:10.779469Z"
    },
    "papermill": {
     "duration": 12.115156,
     "end_time": "2025-08-05T20:57:10.782329",
     "exception": false,
     "start_time": "2025-08-05T20:56:58.667173",
     "status": "completed"
    },
    "tags": []
   },
   "outputs": [
    {
     "name": "stdout",
     "output_type": "stream",
     "text": [
      "Loading SIAB data from cache: data/siab_cached.csv.gz\n"
     ]
    },
    {
     "name": "stdout",
     "output_type": "stream",
     "text": [
      "(643690, 164)\n"
     ]
    }
   ],
   "source": [
    "from pathlib import Path\n",
    "import pandas as pd\n",
    "\n",
    "# File paths\n",
    "raw_file = Path(\"data/raw/siab.csv\")\n",
    "cache_file = Path(\"data/siab_cached.csv.gz\")\n",
    "\n",
    "# Ensure cache directory exists\n",
    "cache_file.parent.mkdir(parents=True, exist_ok=True)\n",
    "\n",
    "# Load with simple caching\n",
    "if cache_file.exists():\n",
    "    print(f\"Loading SIAB data from cache: {cache_file}\")\n",
    "    siab = pd.read_csv(cache_file, compression='gzip')\n",
    "else:\n",
    "    print(f\"Cache not found. Reading raw SIAB data: {raw_file}\")\n",
    "    siab = pd.read_csv(raw_file)\n",
    "    siab.to_csv(cache_file, index=False, compression='gzip')\n",
    "    print(f\"Cached SIAB data to: {cache_file}\")\n",
    "\n",
    "print(siab.shape)"
   ]
  },
  {
   "cell_type": "code",
   "execution_count": 10,
   "id": "db0ca512-5f53-4dba-abdb-a2888bca41ba",
   "metadata": {
    "execution": {
     "iopub.execute_input": "2025-08-05T20:57:10.826709Z",
     "iopub.status.busy": "2025-08-05T20:57:10.826190Z",
     "iopub.status.idle": "2025-08-05T20:57:10.832066Z",
     "shell.execute_reply": "2025-08-05T20:57:10.830959Z"
    },
    "papermill": {
     "duration": 0.029114,
     "end_time": "2025-08-05T20:57:10.834017",
     "exception": false,
     "start_time": "2025-08-05T20:57:10.804903",
     "status": "completed"
    },
    "tags": []
   },
   "outputs": [],
   "source": [
    "#siab"
   ]
  },
  {
   "cell_type": "markdown",
   "id": "997051c5-15bd-4b69-9786-c3001a3ce484",
   "metadata": {
    "papermill": {
     "duration": 0.019826,
     "end_time": "2025-08-05T20:57:10.873673",
     "exception": false,
     "start_time": "2025-08-05T20:57:10.853847",
     "status": "completed"
    },
    "tags": []
   },
   "source": [
    "# Splitting Data and Setting Training Data Size"
   ]
  },
  {
   "cell_type": "code",
   "execution_count": 11,
   "id": "aea9c6ef-6f46-42c8-85eb-5a62025c1508",
   "metadata": {
    "execution": {
     "iopub.execute_input": "2025-08-05T20:57:10.915527Z",
     "iopub.status.busy": "2025-08-05T20:57:10.914554Z",
     "iopub.status.idle": "2025-08-05T20:57:11.603040Z",
     "shell.execute_reply": "2025-08-05T20:57:11.602004Z"
    },
    "papermill": {
     "duration": 0.711671,
     "end_time": "2025-08-05T20:57:11.605063",
     "exception": false,
     "start_time": "2025-08-05T20:57:10.893392",
     "status": "completed"
    },
    "tags": []
   },
   "outputs": [],
   "source": [
    "from fairness_multiverse.universe import sample_by_year_size\n",
    "\n",
    "siab_train = sample_by_year_size(siab,\n",
    "                               training_year=universe[\"training_year\"],\n",
    "                               training_size=universe[\"training_size\"])"
   ]
  },
  {
   "cell_type": "code",
   "execution_count": 12,
   "id": "8d3afb32-789d-442c-8d5d-9f5aa8dd2eed",
   "metadata": {
    "execution": {
     "iopub.execute_input": "2025-08-05T20:57:11.645810Z",
     "iopub.status.busy": "2025-08-05T20:57:11.645353Z",
     "iopub.status.idle": "2025-08-05T20:57:11.650366Z",
     "shell.execute_reply": "2025-08-05T20:57:11.649244Z"
    },
    "papermill": {
     "duration": 0.026593,
     "end_time": "2025-08-05T20:57:11.652269",
     "exception": false,
     "start_time": "2025-08-05T20:57:11.625676",
     "status": "completed"
    },
    "tags": []
   },
   "outputs": [],
   "source": [
    "#siab_train.shape"
   ]
  },
  {
   "cell_type": "code",
   "execution_count": 13,
   "id": "d582db68-1a4c-47fb-84fc-08518dc1975a",
   "metadata": {
    "execution": {
     "iopub.execute_input": "2025-08-05T20:57:11.688340Z",
     "iopub.status.busy": "2025-08-05T20:57:11.687479Z",
     "iopub.status.idle": "2025-08-05T20:57:11.692651Z",
     "shell.execute_reply": "2025-08-05T20:57:11.691742Z"
    },
    "papermill": {
     "duration": 0.024706,
     "end_time": "2025-08-05T20:57:11.694563",
     "exception": false,
     "start_time": "2025-08-05T20:57:11.669857",
     "status": "completed"
    },
    "tags": []
   },
   "outputs": [],
   "source": [
    "#display(siab_train.groupby(\"year\").size())"
   ]
  },
  {
   "cell_type": "code",
   "execution_count": 14,
   "id": "a561edb4-d032-42cb-8256-22eac1111c64",
   "metadata": {
    "execution": {
     "iopub.execute_input": "2025-08-05T20:57:11.731024Z",
     "iopub.status.busy": "2025-08-05T20:57:11.730578Z",
     "iopub.status.idle": "2025-08-05T20:57:11.998549Z",
     "shell.execute_reply": "2025-08-05T20:57:11.997451Z"
    },
    "papermill": {
     "duration": 0.288108,
     "end_time": "2025-08-05T20:57:12.000525",
     "exception": false,
     "start_time": "2025-08-05T20:57:11.712417",
     "status": "completed"
    },
    "tags": []
   },
   "outputs": [],
   "source": [
    "#siab_train = siab_s[siab_s.year < 2015]\n",
    "siab_calib = siab[siab.year == 2015]\n",
    "siab_test = siab[siab.year == 2016]"
   ]
  },
  {
   "cell_type": "code",
   "execution_count": 15,
   "id": "472de16f-c3db-4916-846b-1f0de9cf1746",
   "metadata": {
    "execution": {
     "iopub.execute_input": "2025-08-05T20:57:12.036036Z",
     "iopub.status.busy": "2025-08-05T20:57:12.035539Z",
     "iopub.status.idle": "2025-08-05T20:57:12.051510Z",
     "shell.execute_reply": "2025-08-05T20:57:12.050302Z"
    },
    "papermill": {
     "duration": 0.03535,
     "end_time": "2025-08-05T20:57:12.053342",
     "exception": false,
     "start_time": "2025-08-05T20:57:12.017992",
     "status": "completed"
    },
    "tags": []
   },
   "outputs": [],
   "source": [
    "X_train = siab_train.iloc[:,4:164]\n",
    "y_train = siab_train.iloc[:, [3]]"
   ]
  },
  {
   "cell_type": "code",
   "execution_count": 16,
   "id": "828c96af-f43a-4ed6-ba47-8ac73a47d56c",
   "metadata": {
    "execution": {
     "iopub.execute_input": "2025-08-05T20:57:12.090682Z",
     "iopub.status.busy": "2025-08-05T20:57:12.089896Z",
     "iopub.status.idle": "2025-08-05T20:57:12.142767Z",
     "shell.execute_reply": "2025-08-05T20:57:12.141395Z"
    },
    "papermill": {
     "duration": 0.072906,
     "end_time": "2025-08-05T20:57:12.144728",
     "exception": false,
     "start_time": "2025-08-05T20:57:12.071822",
     "status": "completed"
    },
    "tags": []
   },
   "outputs": [],
   "source": [
    "X_calib = siab_calib.iloc[:,4:164]\n",
    "y_calib = siab_calib.iloc[:, [3]]"
   ]
  },
  {
   "cell_type": "code",
   "execution_count": 17,
   "id": "c34be9c3-6bd6-476e-acd3-845840e303be",
   "metadata": {
    "execution": {
     "iopub.execute_input": "2025-08-05T20:57:12.186778Z",
     "iopub.status.busy": "2025-08-05T20:57:12.186306Z",
     "iopub.status.idle": "2025-08-05T20:57:12.240171Z",
     "shell.execute_reply": "2025-08-05T20:57:12.238993Z"
    },
    "papermill": {
     "duration": 0.077427,
     "end_time": "2025-08-05T20:57:12.242393",
     "exception": false,
     "start_time": "2025-08-05T20:57:12.164966",
     "status": "completed"
    },
    "tags": []
   },
   "outputs": [],
   "source": [
    "X_test = siab_test.iloc[:,4:164]\n",
    "y_true = siab_test.iloc[:, [3]]"
   ]
  },
  {
   "cell_type": "code",
   "execution_count": 18,
   "id": "e6c733c5",
   "metadata": {
    "execution": {
     "iopub.execute_input": "2025-08-05T20:57:12.283261Z",
     "iopub.status.busy": "2025-08-05T20:57:12.282321Z",
     "iopub.status.idle": "2025-08-05T20:57:12.380537Z",
     "shell.execute_reply": "2025-08-05T20:57:12.379525Z"
    },
    "papermill": {
     "duration": 0.119836,
     "end_time": "2025-08-05T20:57:12.382412",
     "exception": false,
     "start_time": "2025-08-05T20:57:12.262576",
     "status": "completed"
    },
    "tags": []
   },
   "outputs": [],
   "source": [
    "# Auxiliary data needed downstream in the pipeline\n",
    "\n",
    "org_train = X_train.copy()\n",
    "org_test = X_test.copy()\n",
    "org_calib = X_calib.copy()"
   ]
  },
  {
   "cell_type": "markdown",
   "id": "0a4a1b33",
   "metadata": {
    "papermill": {
     "duration": 0.017591,
     "end_time": "2025-08-05T20:57:12.417717",
     "exception": false,
     "start_time": "2025-08-05T20:57:12.400126",
     "status": "completed"
    },
    "tags": []
   },
   "source": [
    "# Preprocessing Data"
   ]
  },
  {
   "cell_type": "code",
   "execution_count": 19,
   "id": "ca879031",
   "metadata": {
    "execution": {
     "iopub.execute_input": "2025-08-05T20:57:12.516906Z",
     "iopub.status.busy": "2025-08-05T20:57:12.516131Z",
     "iopub.status.idle": "2025-08-05T20:57:12.522808Z",
     "shell.execute_reply": "2025-08-05T20:57:12.521800Z"
    },
    "papermill": {
     "duration": 0.027081,
     "end_time": "2025-08-05T20:57:12.524498",
     "exception": false,
     "start_time": "2025-08-05T20:57:12.497417",
     "status": "completed"
    },
    "tags": []
   },
   "outputs": [],
   "source": [
    "# EXCLUDE PROTECTED FEATURES\n",
    "# ----------------------\n",
    "# \"exclude_features\": \"none\", # \"nationality\", \"sex\", \"nationality-sex\"\n",
    "\n",
    "excluded_features = universe[\"exclude_features\"].split(\"-\") # split, e.g.: \"nationality-sex\" -> [\"nationality\", \"sex\"]\n",
    "excluded_features_dictionary = {\n",
    "    \"nationality\": [\"maxdeutsch1\", \"maxdeutsch.Missing.\"],\n",
    "    \"sex\": [\"frau1\"],\n",
    "    \"age\": [\"age\"],\n",
    "}"
   ]
  },
  {
   "cell_type": "code",
   "execution_count": 20,
   "id": "b745ac60",
   "metadata": {
    "execution": {
     "iopub.execute_input": "2025-08-05T20:57:12.562133Z",
     "iopub.status.busy": "2025-08-05T20:57:12.561385Z",
     "iopub.status.idle": "2025-08-05T20:57:12.567086Z",
     "shell.execute_reply": "2025-08-05T20:57:12.566093Z"
    },
    "papermill": {
     "duration": 0.026477,
     "end_time": "2025-08-05T20:57:12.568809",
     "exception": false,
     "start_time": "2025-08-05T20:57:12.542332",
     "status": "completed"
    },
    "tags": []
   },
   "outputs": [],
   "source": [
    "# Code nice names to column names\n",
    "\n",
    "excluded_features_columns = [\n",
    "    excluded_features_dictionary[f] for f in excluded_features if len(f) > 0 and f != \"none\"\n",
    "]"
   ]
  },
  {
   "cell_type": "code",
   "execution_count": 21,
   "id": "f84f73a2",
   "metadata": {
    "execution": {
     "iopub.execute_input": "2025-08-05T20:57:12.606301Z",
     "iopub.status.busy": "2025-08-05T20:57:12.605615Z",
     "iopub.status.idle": "2025-08-05T20:57:12.612043Z",
     "shell.execute_reply": "2025-08-05T20:57:12.611004Z"
    },
    "papermill": {
     "duration": 0.026762,
     "end_time": "2025-08-05T20:57:12.614128",
     "exception": false,
     "start_time": "2025-08-05T20:57:12.587366",
     "status": "completed"
    },
    "tags": []
   },
   "outputs": [],
   "source": [
    "from utils import flatten_once\n",
    "\n",
    "excluded_features_columns = flatten_once(excluded_features_columns)"
   ]
  },
  {
   "cell_type": "code",
   "execution_count": 22,
   "id": "884dea22",
   "metadata": {
    "execution": {
     "iopub.execute_input": "2025-08-05T20:57:12.655361Z",
     "iopub.status.busy": "2025-08-05T20:57:12.654960Z",
     "iopub.status.idle": "2025-08-05T20:57:12.660628Z",
     "shell.execute_reply": "2025-08-05T20:57:12.659649Z"
    },
    "papermill": {
     "duration": 0.027853,
     "end_time": "2025-08-05T20:57:12.662432",
     "exception": false,
     "start_time": "2025-08-05T20:57:12.634579",
     "status": "completed"
    },
    "tags": []
   },
   "outputs": [],
   "source": [
    "if len(excluded_features_columns) > 0:\n",
    "    print(f\"Dropping features: {excluded_features_columns}\")\n",
    "    X_train.drop(excluded_features_columns, axis=1, inplace=True)"
   ]
  },
  {
   "cell_type": "code",
   "execution_count": 23,
   "id": "95ab8b16",
   "metadata": {
    "execution": {
     "iopub.execute_input": "2025-08-05T20:57:12.704981Z",
     "iopub.status.busy": "2025-08-05T20:57:12.704151Z",
     "iopub.status.idle": "2025-08-05T20:57:12.710120Z",
     "shell.execute_reply": "2025-08-05T20:57:12.709011Z"
    },
    "papermill": {
     "duration": 0.028019,
     "end_time": "2025-08-05T20:57:12.711751",
     "exception": false,
     "start_time": "2025-08-05T20:57:12.683732",
     "status": "completed"
    },
    "tags": []
   },
   "outputs": [],
   "source": [
    "if len(excluded_features_columns) > 0:\n",
    "    print(f\"Dropping features: {excluded_features_columns}\")\n",
    "    X_test.drop(excluded_features_columns, axis=1, inplace=True)"
   ]
  },
  {
   "cell_type": "code",
   "execution_count": 24,
   "id": "1853aaf5-fb9f-46cb-a2b5-8ea4ae2237e4",
   "metadata": {
    "execution": {
     "iopub.execute_input": "2025-08-05T20:57:12.758364Z",
     "iopub.status.busy": "2025-08-05T20:57:12.756887Z",
     "iopub.status.idle": "2025-08-05T20:57:12.763063Z",
     "shell.execute_reply": "2025-08-05T20:57:12.762176Z"
    },
    "papermill": {
     "duration": 0.030236,
     "end_time": "2025-08-05T20:57:12.765377",
     "exception": false,
     "start_time": "2025-08-05T20:57:12.735141",
     "status": "completed"
    },
    "tags": []
   },
   "outputs": [],
   "source": [
    "if len(excluded_features_columns) > 0:\n",
    "    print(f\"Dropping features: {excluded_features_columns}\")\n",
    "    X_calib.drop(excluded_features_columns, axis=1, inplace=True)"
   ]
  },
  {
   "cell_type": "code",
   "execution_count": 25,
   "id": "76c4dc6d",
   "metadata": {
    "execution": {
     "iopub.execute_input": "2025-08-05T20:57:12.810313Z",
     "iopub.status.busy": "2025-08-05T20:57:12.807674Z",
     "iopub.status.idle": "2025-08-05T20:57:12.814960Z",
     "shell.execute_reply": "2025-08-05T20:57:12.814021Z"
    },
    "papermill": {
     "duration": 0.030798,
     "end_time": "2025-08-05T20:57:12.816599",
     "exception": false,
     "start_time": "2025-08-05T20:57:12.785801",
     "status": "completed"
    },
    "tags": []
   },
   "outputs": [],
   "source": [
    "# EXCLUDE CERTAIN SUBGROUPS\n",
    "# ----------------------\n",
    "\n",
    "mode = universe.get(\"exclude_subgroups\", \"keep-all\") \n",
    "# Fetches the exclude_subgroups setting from the universe dict.\n",
    "# Defaults to \"keep-all\" if the key is missing."
   ]
  },
  {
   "cell_type": "code",
   "execution_count": 26,
   "id": "21994072",
   "metadata": {
    "execution": {
     "iopub.execute_input": "2025-08-05T20:57:12.859779Z",
     "iopub.status.busy": "2025-08-05T20:57:12.858778Z",
     "iopub.status.idle": "2025-08-05T20:57:12.865926Z",
     "shell.execute_reply": "2025-08-05T20:57:12.864880Z"
    },
    "papermill": {
     "duration": 0.029853,
     "end_time": "2025-08-05T20:57:12.867602",
     "exception": false,
     "start_time": "2025-08-05T20:57:12.837749",
     "status": "completed"
    },
    "tags": []
   },
   "outputs": [],
   "source": [
    "if mode == \"keep-all\":\n",
    "    keep_mask = pd.Series(True, index=org_train.index)\n",
    "\n",
    "# org_train contains the original feature columns from features_org (in Simson)\n",
    "# features_org contains unprocessed features, for me X_train at beginning ???\n",
    "# For keep-all, creates a boolean Series (keep_mask) of all True, so no rows are removed.\n",
    "\n",
    "elif mode == \"drop-non-german\":\n",
    "    keep_mask = org_train[\"maxdeutsch1\"] == 1 # ??? what about missing values?\n",
    "\n",
    "else:\n",
    "    raise ValueError(f\"Unsupported mode for exclude_subgroups: {mode}\")"
   ]
  },
  {
   "cell_type": "code",
   "execution_count": 27,
   "id": "71651440",
   "metadata": {
    "execution": {
     "iopub.execute_input": "2025-08-05T20:57:12.911694Z",
     "iopub.status.busy": "2025-08-05T20:57:12.911227Z",
     "iopub.status.idle": "2025-08-05T20:57:12.918908Z",
     "shell.execute_reply": "2025-08-05T20:57:12.917773Z"
    },
    "papermill": {
     "duration": 0.031206,
     "end_time": "2025-08-05T20:57:12.920750",
     "exception": false,
     "start_time": "2025-08-05T20:57:12.889544",
     "status": "completed"
    },
    "tags": []
   },
   "outputs": [
    {
     "name": "stdout",
     "output_type": "stream",
     "text": [
      "Dropping 3481 rows (13.92%) where mode='drop-non-german'\n"
     ]
    }
   ],
   "source": [
    "n_drop = (~keep_mask).sum() # Calculates how many rows are set to be dropped\n",
    "if n_drop > 0:\n",
    "    pct = n_drop / len(keep_mask) * 100\n",
    "    print(f\"Dropping {n_drop} rows ({pct:.2f}%) where mode='{mode}'\")"
   ]
  },
  {
   "cell_type": "code",
   "execution_count": 28,
   "id": "5fb8eee5",
   "metadata": {
    "execution": {
     "iopub.execute_input": "2025-08-05T20:57:12.966055Z",
     "iopub.status.busy": "2025-08-05T20:57:12.965580Z",
     "iopub.status.idle": "2025-08-05T20:57:12.979754Z",
     "shell.execute_reply": "2025-08-05T20:57:12.978589Z"
    },
    "papermill": {
     "duration": 0.038456,
     "end_time": "2025-08-05T20:57:12.981879",
     "exception": false,
     "start_time": "2025-08-05T20:57:12.943423",
     "status": "completed"
    },
    "tags": []
   },
   "outputs": [],
   "source": [
    "X_train = X_train[keep_mask]"
   ]
  },
  {
   "cell_type": "code",
   "execution_count": 29,
   "id": "b202bb3a",
   "metadata": {
    "execution": {
     "iopub.execute_input": "2025-08-05T20:57:13.028823Z",
     "iopub.status.busy": "2025-08-05T20:57:13.027874Z",
     "iopub.status.idle": "2025-08-05T20:57:13.034122Z",
     "shell.execute_reply": "2025-08-05T20:57:13.033152Z"
    },
    "papermill": {
     "duration": 0.031285,
     "end_time": "2025-08-05T20:57:13.035970",
     "exception": false,
     "start_time": "2025-08-05T20:57:13.004685",
     "status": "completed"
    },
    "tags": []
   },
   "outputs": [],
   "source": [
    "y_train = y_train[keep_mask]"
   ]
  },
  {
   "cell_type": "markdown",
   "id": "493e2ac3",
   "metadata": {
    "papermill": {
     "duration": 0.019879,
     "end_time": "2025-08-05T20:57:13.074253",
     "exception": false,
     "start_time": "2025-08-05T20:57:13.054374",
     "status": "completed"
    },
    "tags": []
   },
   "source": [
    "# Model Training"
   ]
  },
  {
   "cell_type": "code",
   "execution_count": 30,
   "id": "679e1268",
   "metadata": {
    "execution": {
     "iopub.execute_input": "2025-08-05T20:57:13.113350Z",
     "iopub.status.busy": "2025-08-05T20:57:13.112677Z",
     "iopub.status.idle": "2025-08-05T20:57:13.218443Z",
     "shell.execute_reply": "2025-08-05T20:57:13.217446Z"
    },
    "papermill": {
     "duration": 0.127123,
     "end_time": "2025-08-05T20:57:13.220362",
     "exception": false,
     "start_time": "2025-08-05T20:57:13.093239",
     "status": "completed"
    },
    "tags": []
   },
   "outputs": [],
   "source": [
    "from sklearn.linear_model import LogisticRegression\n",
    "from sklearn.ensemble import GradientBoostingClassifier, RandomForestClassifier\n",
    "\n",
    "if (universe[\"model\"] == \"logreg\"):\n",
    "    model = LogisticRegression() #penalty=\"none\", solver=\"newton-cg\", max_iter=1) # include random_state=19 ?\n",
    "elif (universe[\"model\"] == \"penalized_logreg\"):\n",
    "    model = LogisticRegression(penalty=\"l2\", C=0.1) #, solver=\"newton-cg\", max_iter=1)\n",
    "elif (universe[\"model\"] == \"rf\"):\n",
    "    model = RandomForestClassifier() # n_estimators=100, n_jobs=-1\n",
    "elif (universe[\"model\"] == \"gbm\"):\n",
    "    model = GradientBoostingClassifier()\n",
    "elif (universe[\"model\"] == \"elasticnet\"):\n",
    "    model = LogisticRegression(penalty = 'elasticnet', solver = 'saga', l1_ratio = 0.5) # max_iter=5000\n",
    "else:\n",
    "    raise \"Unsupported universe.model\""
   ]
  },
  {
   "cell_type": "code",
   "execution_count": 31,
   "id": "0cc8f744",
   "metadata": {
    "execution": {
     "iopub.execute_input": "2025-08-05T20:57:13.259485Z",
     "iopub.status.busy": "2025-08-05T20:57:13.258733Z",
     "iopub.status.idle": "2025-08-05T20:57:13.265323Z",
     "shell.execute_reply": "2025-08-05T20:57:13.264376Z"
    },
    "papermill": {
     "duration": 0.027308,
     "end_time": "2025-08-05T20:57:13.267105",
     "exception": false,
     "start_time": "2025-08-05T20:57:13.239797",
     "status": "completed"
    },
    "tags": []
   },
   "outputs": [],
   "source": [
    "import numpy as np\n",
    "from sklearn.pipeline import Pipeline\n",
    "from sklearn.preprocessing import StandardScaler\n",
    "\n",
    "model = Pipeline([\n",
    "    #(\"continuous_processor\", continuous_processor),\n",
    "    #(\"categorical_preprocessor\", categorical_preprocessor),\n",
    "    (\"scale\", StandardScaler() if universe[\"scale\"] == \"scale\" else None), \n",
    "    (\"model\", model),\n",
    "])"
   ]
  },
  {
   "cell_type": "code",
   "execution_count": 32,
   "id": "9442c04d",
   "metadata": {
    "execution": {
     "iopub.execute_input": "2025-08-05T20:57:13.306764Z",
     "iopub.status.busy": "2025-08-05T20:57:13.305981Z",
     "iopub.status.idle": "2025-08-05T20:57:13.846808Z",
     "shell.execute_reply": "2025-08-05T20:57:13.845801Z"
    },
    "papermill": {
     "duration": 0.561801,
     "end_time": "2025-08-05T20:57:13.848497",
     "exception": false,
     "start_time": "2025-08-05T20:57:13.286696",
     "status": "completed"
    },
    "tags": []
   },
   "outputs": [
    {
     "name": "stderr",
     "output_type": "stream",
     "text": [
      "/dss/dsshome1/0C/ra93lal2/.local/share/virtualenvs/CMA_Fairness_v2-3j10GkSs/lib/python3.10/site-packages/sklearn/linear_model/_logistic.py:444: ConvergenceWarning: lbfgs failed to converge (status=1):\n",
      "STOP: TOTAL NO. of ITERATIONS REACHED LIMIT.\n",
      "\n",
      "Increase the number of iterations (max_iter) or scale the data as shown in:\n",
      "    https://scikit-learn.org/stable/modules/preprocessing.html\n",
      "Please also refer to the documentation for alternative solver options:\n",
      "    https://scikit-learn.org/stable/modules/linear_model.html#logistic-regression\n",
      "  n_iter_i = _check_optimize_result(\n"
     ]
    },
    {
     "data": {
      "text/html": [
       "<style>#sk-container-id-1 {color: black;background-color: white;}#sk-container-id-1 pre{padding: 0;}#sk-container-id-1 div.sk-toggleable {background-color: white;}#sk-container-id-1 label.sk-toggleable__label {cursor: pointer;display: block;width: 100%;margin-bottom: 0;padding: 0.3em;box-sizing: border-box;text-align: center;}#sk-container-id-1 label.sk-toggleable__label-arrow:before {content: \"▸\";float: left;margin-right: 0.25em;color: #696969;}#sk-container-id-1 label.sk-toggleable__label-arrow:hover:before {color: black;}#sk-container-id-1 div.sk-estimator:hover label.sk-toggleable__label-arrow:before {color: black;}#sk-container-id-1 div.sk-toggleable__content {max-height: 0;max-width: 0;overflow: hidden;text-align: left;background-color: #f0f8ff;}#sk-container-id-1 div.sk-toggleable__content pre {margin: 0.2em;color: black;border-radius: 0.25em;background-color: #f0f8ff;}#sk-container-id-1 input.sk-toggleable__control:checked~div.sk-toggleable__content {max-height: 200px;max-width: 100%;overflow: auto;}#sk-container-id-1 input.sk-toggleable__control:checked~label.sk-toggleable__label-arrow:before {content: \"▾\";}#sk-container-id-1 div.sk-estimator input.sk-toggleable__control:checked~label.sk-toggleable__label {background-color: #d4ebff;}#sk-container-id-1 div.sk-label input.sk-toggleable__control:checked~label.sk-toggleable__label {background-color: #d4ebff;}#sk-container-id-1 input.sk-hidden--visually {border: 0;clip: rect(1px 1px 1px 1px);clip: rect(1px, 1px, 1px, 1px);height: 1px;margin: -1px;overflow: hidden;padding: 0;position: absolute;width: 1px;}#sk-container-id-1 div.sk-estimator {font-family: monospace;background-color: #f0f8ff;border: 1px dotted black;border-radius: 0.25em;box-sizing: border-box;margin-bottom: 0.5em;}#sk-container-id-1 div.sk-estimator:hover {background-color: #d4ebff;}#sk-container-id-1 div.sk-parallel-item::after {content: \"\";width: 100%;border-bottom: 1px solid gray;flex-grow: 1;}#sk-container-id-1 div.sk-label:hover label.sk-toggleable__label {background-color: #d4ebff;}#sk-container-id-1 div.sk-serial::before {content: \"\";position: absolute;border-left: 1px solid gray;box-sizing: border-box;top: 0;bottom: 0;left: 50%;z-index: 0;}#sk-container-id-1 div.sk-serial {display: flex;flex-direction: column;align-items: center;background-color: white;padding-right: 0.2em;padding-left: 0.2em;position: relative;}#sk-container-id-1 div.sk-item {position: relative;z-index: 1;}#sk-container-id-1 div.sk-parallel {display: flex;align-items: stretch;justify-content: center;background-color: white;position: relative;}#sk-container-id-1 div.sk-item::before, #sk-container-id-1 div.sk-parallel-item::before {content: \"\";position: absolute;border-left: 1px solid gray;box-sizing: border-box;top: 0;bottom: 0;left: 50%;z-index: -1;}#sk-container-id-1 div.sk-parallel-item {display: flex;flex-direction: column;z-index: 1;position: relative;background-color: white;}#sk-container-id-1 div.sk-parallel-item:first-child::after {align-self: flex-end;width: 50%;}#sk-container-id-1 div.sk-parallel-item:last-child::after {align-self: flex-start;width: 50%;}#sk-container-id-1 div.sk-parallel-item:only-child::after {width: 0;}#sk-container-id-1 div.sk-dashed-wrapped {border: 1px dashed gray;margin: 0 0.4em 0.5em 0.4em;box-sizing: border-box;padding-bottom: 0.4em;background-color: white;}#sk-container-id-1 div.sk-label label {font-family: monospace;font-weight: bold;display: inline-block;line-height: 1.2em;}#sk-container-id-1 div.sk-label-container {text-align: center;}#sk-container-id-1 div.sk-container {/* jupyter's `normalize.less` sets `[hidden] { display: none; }` but bootstrap.min.css set `[hidden] { display: none !important; }` so we also need the `!important` here to be able to override the default hidden behavior on the sphinx rendered scikit-learn.org. See: https://github.com/scikit-learn/scikit-learn/issues/21755 */display: inline-block !important;position: relative;}#sk-container-id-1 div.sk-text-repr-fallback {display: none;}</style><div id=\"sk-container-id-1\" class=\"sk-top-container\"><div class=\"sk-text-repr-fallback\"><pre>Pipeline(steps=[(&#x27;scale&#x27;, None), (&#x27;model&#x27;, LogisticRegression())])</pre><b>In a Jupyter environment, please rerun this cell to show the HTML representation or trust the notebook. <br />On GitHub, the HTML representation is unable to render, please try loading this page with nbviewer.org.</b></div><div class=\"sk-container\" hidden><div class=\"sk-item sk-dashed-wrapped\"><div class=\"sk-label-container\"><div class=\"sk-label sk-toggleable\"><input class=\"sk-toggleable__control sk-hidden--visually\" id=\"sk-estimator-id-1\" type=\"checkbox\" ><label for=\"sk-estimator-id-1\" class=\"sk-toggleable__label sk-toggleable__label-arrow\">Pipeline</label><div class=\"sk-toggleable__content\"><pre>Pipeline(steps=[(&#x27;scale&#x27;, None), (&#x27;model&#x27;, LogisticRegression())])</pre></div></div></div><div class=\"sk-serial\"><div class=\"sk-item\"><div class=\"sk-estimator sk-toggleable\"><input class=\"sk-toggleable__control sk-hidden--visually\" id=\"sk-estimator-id-2\" type=\"checkbox\" ><label for=\"sk-estimator-id-2\" class=\"sk-toggleable__label sk-toggleable__label-arrow\">None</label><div class=\"sk-toggleable__content\"><pre>None</pre></div></div></div><div class=\"sk-item\"><div class=\"sk-estimator sk-toggleable\"><input class=\"sk-toggleable__control sk-hidden--visually\" id=\"sk-estimator-id-3\" type=\"checkbox\" ><label for=\"sk-estimator-id-3\" class=\"sk-toggleable__label sk-toggleable__label-arrow\">LogisticRegression</label><div class=\"sk-toggleable__content\"><pre>LogisticRegression()</pre></div></div></div></div></div></div></div>"
      ],
      "text/plain": [
       "Pipeline(steps=[('scale', None), ('model', LogisticRegression())])"
      ]
     },
     "execution_count": 32,
     "metadata": {},
     "output_type": "execute_result"
    }
   ],
   "source": [
    "model.fit(X_train, y_train.values.ravel())"
   ]
  },
  {
   "cell_type": "code",
   "execution_count": 33,
   "id": "af59f8c0",
   "metadata": {
    "execution": {
     "iopub.execute_input": "2025-08-05T20:57:13.889058Z",
     "iopub.status.busy": "2025-08-05T20:57:13.888479Z",
     "iopub.status.idle": "2025-08-05T20:57:13.894280Z",
     "shell.execute_reply": "2025-08-05T20:57:13.893061Z"
    },
    "papermill": {
     "duration": 0.027537,
     "end_time": "2025-08-05T20:57:13.895839",
     "exception": false,
     "start_time": "2025-08-05T20:57:13.868302",
     "status": "completed"
    },
    "tags": []
   },
   "outputs": [],
   "source": [
    "from fairness_multiverse.universe import predict_w_threshold"
   ]
  },
  {
   "cell_type": "code",
   "execution_count": 34,
   "id": "a7cf2e16",
   "metadata": {
    "execution": {
     "iopub.execute_input": "2025-08-05T20:57:13.936986Z",
     "iopub.status.busy": "2025-08-05T20:57:13.936178Z",
     "iopub.status.idle": "2025-08-05T20:57:14.048792Z",
     "shell.execute_reply": "2025-08-05T20:57:14.047732Z"
    },
    "papermill": {
     "duration": 0.134691,
     "end_time": "2025-08-05T20:57:14.050572",
     "exception": false,
     "start_time": "2025-08-05T20:57:13.915881",
     "status": "completed"
    },
    "tags": []
   },
   "outputs": [
    {
     "data": {
      "text/plain": [
       "0.8608627800691115"
      ]
     },
     "execution_count": 34,
     "metadata": {},
     "output_type": "execute_result"
    }
   ],
   "source": [
    "probs_test = model.predict_proba(X_test)\n",
    "\n",
    "'''\n",
    "Below code returns a boolean array (or binary 0/1 array depending on how it’s used) where each element \n",
    "is True if the probability of class 1 is greater than or equal to the threshold, and False otherwise.\n",
    "'''\n",
    "y_pred_default = predict_w_threshold(probs_test, 0.5)\n",
    "\n",
    "from sklearn.metrics import accuracy_score\n",
    "\n",
    "# Naive prediction\n",
    "accuracy_score(y_true = y_true, y_pred = y_pred_default)"
   ]
  },
  {
   "cell_type": "code",
   "execution_count": 35,
   "id": "081964c3",
   "metadata": {
    "execution": {
     "iopub.execute_input": "2025-08-05T20:57:14.092875Z",
     "iopub.status.busy": "2025-08-05T20:57:14.091942Z",
     "iopub.status.idle": "2025-08-05T20:57:14.182261Z",
     "shell.execute_reply": "2025-08-05T20:57:14.181159Z"
    },
    "papermill": {
     "duration": 0.1131,
     "end_time": "2025-08-05T20:57:14.183889",
     "exception": false,
     "start_time": "2025-08-05T20:57:14.070789",
     "status": "completed"
    },
    "tags": []
   },
   "outputs": [
    {
     "data": {
      "text/plain": [
       "array([0, 0, 0, ..., 0, 0, 0])"
      ]
     },
     "execution_count": 35,
     "metadata": {},
     "output_type": "execute_result"
    }
   ],
   "source": [
    "model.predict(X_test)"
   ]
  },
  {
   "cell_type": "markdown",
   "id": "56c9705b",
   "metadata": {
    "papermill": {
     "duration": 0.019198,
     "end_time": "2025-08-05T20:57:14.222847",
     "exception": false,
     "start_time": "2025-08-05T20:57:14.203649",
     "status": "completed"
    },
    "tags": []
   },
   "source": [
    "# Conformal Prediction"
   ]
  },
  {
   "cell_type": "code",
   "execution_count": 36,
   "id": "160ec6ff",
   "metadata": {
    "execution": {
     "iopub.execute_input": "2025-08-05T20:57:14.264591Z",
     "iopub.status.busy": "2025-08-05T20:57:14.264134Z",
     "iopub.status.idle": "2025-08-05T20:57:14.269355Z",
     "shell.execute_reply": "2025-08-05T20:57:14.268297Z"
    },
    "papermill": {
     "duration": 0.028354,
     "end_time": "2025-08-05T20:57:14.271119",
     "exception": false,
     "start_time": "2025-08-05T20:57:14.242765",
     "status": "completed"
    },
    "tags": []
   },
   "outputs": [],
   "source": [
    "# Miscoverage level for conformal prediction (10% allowed error rate => 90% target coverage)\n",
    "alpha = 0.1"
   ]
  },
  {
   "cell_type": "code",
   "execution_count": 37,
   "id": "eadf4555-3dd3-440e-8e35-f82a4ad9f855",
   "metadata": {
    "execution": {
     "iopub.execute_input": "2025-08-05T20:57:14.312760Z",
     "iopub.status.busy": "2025-08-05T20:57:14.312077Z",
     "iopub.status.idle": "2025-08-05T20:57:14.395482Z",
     "shell.execute_reply": "2025-08-05T20:57:14.394491Z"
    },
    "papermill": {
     "duration": 0.106314,
     "end_time": "2025-08-05T20:57:14.397386",
     "exception": false,
     "start_time": "2025-08-05T20:57:14.291072",
     "status": "completed"
    },
    "tags": []
   },
   "outputs": [],
   "source": [
    "probs_calib = model.predict_proba(X_calib)"
   ]
  },
  {
   "cell_type": "code",
   "execution_count": 38,
   "id": "2ed93547-6d5d-4983-9b36-1ecb300da49a",
   "metadata": {
    "execution": {
     "iopub.execute_input": "2025-08-05T20:57:14.439813Z",
     "iopub.status.busy": "2025-08-05T20:57:14.438905Z",
     "iopub.status.idle": "2025-08-05T20:57:14.444494Z",
     "shell.execute_reply": "2025-08-05T20:57:14.443547Z"
    },
    "papermill": {
     "duration": 0.028134,
     "end_time": "2025-08-05T20:57:14.446095",
     "exception": false,
     "start_time": "2025-08-05T20:57:14.417961",
     "status": "completed"
    },
    "tags": []
   },
   "outputs": [],
   "source": [
    "y_calib = y_calib.values.ravel().astype(int)"
   ]
  },
  {
   "cell_type": "code",
   "execution_count": 39,
   "id": "65d1320d-f588-4b38-9072-62af1ae97f7d",
   "metadata": {
    "execution": {
     "iopub.execute_input": "2025-08-05T20:57:14.488829Z",
     "iopub.status.busy": "2025-08-05T20:57:14.488182Z",
     "iopub.status.idle": "2025-08-05T20:57:14.496473Z",
     "shell.execute_reply": "2025-08-05T20:57:14.495445Z"
    },
    "papermill": {
     "duration": 0.031629,
     "end_time": "2025-08-05T20:57:14.498427",
     "exception": false,
     "start_time": "2025-08-05T20:57:14.466798",
     "status": "completed"
    },
    "tags": []
   },
   "outputs": [],
   "source": [
    "from fairness_multiverse.conformal import compute_nc_scores\n",
    "\n",
    "# Compute nonconformity scores on calibration set (1 - probability of true class)\n",
    "nc_scores = compute_nc_scores(probs_calib, y_calib)"
   ]
  },
  {
   "cell_type": "code",
   "execution_count": 40,
   "id": "df3b8ca3-53b7-43d5-9667-7c85da7aeda2",
   "metadata": {
    "execution": {
     "iopub.execute_input": "2025-08-05T20:57:14.540502Z",
     "iopub.status.busy": "2025-08-05T20:57:14.539675Z",
     "iopub.status.idle": "2025-08-05T20:57:14.546779Z",
     "shell.execute_reply": "2025-08-05T20:57:14.545598Z"
    },
    "papermill": {
     "duration": 0.030784,
     "end_time": "2025-08-05T20:57:14.549138",
     "exception": false,
     "start_time": "2025-08-05T20:57:14.518354",
     "status": "completed"
    },
    "tags": []
   },
   "outputs": [],
   "source": [
    "from fairness_multiverse.conformal import find_threshold\n",
    "\n",
    "# Find conformal threshold q_hat for the given alpha (split conformal method)\n",
    "q_hat = find_threshold(nc_scores, alpha)"
   ]
  },
  {
   "cell_type": "code",
   "execution_count": 41,
   "id": "4d29e6c1-0ef6-4aa4-b8fe-4fe79b0d033a",
   "metadata": {
    "execution": {
     "iopub.execute_input": "2025-08-05T20:57:14.607319Z",
     "iopub.status.busy": "2025-08-05T20:57:14.606720Z",
     "iopub.status.idle": "2025-08-05T20:57:14.614682Z",
     "shell.execute_reply": "2025-08-05T20:57:14.613464Z"
    },
    "papermill": {
     "duration": 0.038915,
     "end_time": "2025-08-05T20:57:14.616767",
     "exception": false,
     "start_time": "2025-08-05T20:57:14.577852",
     "status": "completed"
    },
    "tags": []
   },
   "outputs": [
    {
     "data": {
      "text/plain": [
       "0.6693719626315237"
      ]
     },
     "execution_count": 41,
     "metadata": {},
     "output_type": "execute_result"
    }
   ],
   "source": [
    "q_hat"
   ]
  },
  {
   "cell_type": "code",
   "execution_count": 42,
   "id": "92460794-cdac-4be2-ba28-f28c0515a6fb",
   "metadata": {
    "execution": {
     "iopub.execute_input": "2025-08-05T20:57:14.681071Z",
     "iopub.status.busy": "2025-08-05T20:57:14.680306Z",
     "iopub.status.idle": "2025-08-05T20:57:16.009216Z",
     "shell.execute_reply": "2025-08-05T20:57:16.008411Z"
    },
    "papermill": {
     "duration": 1.362992,
     "end_time": "2025-08-05T20:57:16.010736",
     "exception": false,
     "start_time": "2025-08-05T20:57:14.647744",
     "status": "completed"
    },
    "tags": []
   },
   "outputs": [],
   "source": [
    "from fairness_multiverse.conformal import predict_conformal_sets\n",
    "\n",
    "# Generate prediction sets for each test example\n",
    "pred_sets = predict_conformal_sets(model, X_test, q_hat)"
   ]
  },
  {
   "cell_type": "code",
   "execution_count": 43,
   "id": "d90c9a65-e6db-4f5d-80cd-e68fb7e46829",
   "metadata": {
    "execution": {
     "iopub.execute_input": "2025-08-05T20:57:16.037428Z",
     "iopub.status.busy": "2025-08-05T20:57:16.036679Z",
     "iopub.status.idle": "2025-08-05T20:57:16.041699Z",
     "shell.execute_reply": "2025-08-05T20:57:16.040779Z"
    },
    "papermill": {
     "duration": 0.018664,
     "end_time": "2025-08-05T20:57:16.043132",
     "exception": false,
     "start_time": "2025-08-05T20:57:16.024468",
     "status": "completed"
    },
    "tags": []
   },
   "outputs": [],
   "source": [
    "y_true = y_true.squeeze()"
   ]
  },
  {
   "cell_type": "code",
   "execution_count": 44,
   "id": "3a58a54a-1e68-46b9-927a-df01f18aebc8",
   "metadata": {
    "execution": {
     "iopub.execute_input": "2025-08-05T20:57:16.067951Z",
     "iopub.status.busy": "2025-08-05T20:57:16.067424Z",
     "iopub.status.idle": "2025-08-05T20:57:16.617857Z",
     "shell.execute_reply": "2025-08-05T20:57:16.617013Z"
    },
    "papermill": {
     "duration": 0.563835,
     "end_time": "2025-08-05T20:57:16.619309",
     "exception": false,
     "start_time": "2025-08-05T20:57:16.055474",
     "status": "completed"
    },
    "tags": []
   },
   "outputs": [],
   "source": [
    "from fairness_multiverse.conformal import evaluate_sets\n",
    "\n",
    "# Evaluate coverage and average set size on test data\n",
    "metrics = evaluate_sets(pred_sets, y_true)"
   ]
  },
  {
   "cell_type": "markdown",
   "id": "2b569c12-9aaa-4c88-98c9-bbcd0cf3ebb8",
   "metadata": {
    "papermill": {
     "duration": 0.011225,
     "end_time": "2025-08-05T20:57:16.641959",
     "exception": false,
     "start_time": "2025-08-05T20:57:16.630734",
     "status": "completed"
    },
    "tags": []
   },
   "source": [
    "# CP Metrics"
   ]
  },
  {
   "cell_type": "code",
   "execution_count": 45,
   "id": "5ce0a5cb-201f-45a0-ade5-94c7f0bd6095",
   "metadata": {
    "execution": {
     "iopub.execute_input": "2025-08-05T20:57:16.665968Z",
     "iopub.status.busy": "2025-08-05T20:57:16.665424Z",
     "iopub.status.idle": "2025-08-05T20:57:16.671930Z",
     "shell.execute_reply": "2025-08-05T20:57:16.671107Z"
    },
    "papermill": {
     "duration": 0.020467,
     "end_time": "2025-08-05T20:57:16.673456",
     "exception": false,
     "start_time": "2025-08-05T20:57:16.652989",
     "status": "completed"
    },
    "tags": []
   },
   "outputs": [
    {
     "data": {
      "text/plain": [
       "{'coverage': 0.9112362055512206, 'avg_size': 1.2155501058967786}"
      ]
     },
     "execution_count": 45,
     "metadata": {},
     "output_type": "execute_result"
    }
   ],
   "source": [
    "metrics"
   ]
  },
  {
   "cell_type": "code",
   "execution_count": 46,
   "id": "9b9a838d-31c9-430b-ae14-12baee460d17",
   "metadata": {
    "execution": {
     "iopub.execute_input": "2025-08-05T20:57:16.698675Z",
     "iopub.status.busy": "2025-08-05T20:57:16.698146Z",
     "iopub.status.idle": "2025-08-05T20:57:16.703686Z",
     "shell.execute_reply": "2025-08-05T20:57:16.702839Z"
    },
    "papermill": {
     "duration": 0.019307,
     "end_time": "2025-08-05T20:57:16.705067",
     "exception": false,
     "start_time": "2025-08-05T20:57:16.685760",
     "status": "completed"
    },
    "tags": []
   },
   "outputs": [],
   "source": [
    "example_universe = universe.copy()\n",
    "universe_training_year = example_universe.get(\"training_year\")\n",
    "universe_training_size = example_universe.get(\"training_size\")\n",
    "universe_scale = example_universe.get(\"scale\")\n",
    "universe_model = example_universe.get(\"model\")\n",
    "universe_exclude_features = example_universe.get(\"exclude_features\")\n",
    "universe_exclude_subgroups = example_universe.get(\"exclude_subgroups\")"
   ]
  },
  {
   "cell_type": "code",
   "execution_count": 47,
   "id": "f4b6a8ac-9dc0-4245-8a91-5b3b5999c4f9",
   "metadata": {
    "execution": {
     "iopub.execute_input": "2025-08-05T20:57:16.730583Z",
     "iopub.status.busy": "2025-08-05T20:57:16.730057Z",
     "iopub.status.idle": "2025-08-05T20:57:16.735710Z",
     "shell.execute_reply": "2025-08-05T20:57:16.734840Z"
    },
    "papermill": {
     "duration": 0.01951,
     "end_time": "2025-08-05T20:57:16.737109",
     "exception": false,
     "start_time": "2025-08-05T20:57:16.717599",
     "status": "completed"
    },
    "tags": []
   },
   "outputs": [],
   "source": [
    "cp_metrics_dict = {\n",
    "    \"universe_id\": [universe_id],\n",
    "    \"universe_training_year\": [universe_training_year],\n",
    "    \"universe_training_size\": [universe_training_size],\n",
    "    \"universe_scale\": [universe_scale],\n",
    "    \"universe_model\": [universe_model],\n",
    "    \"universe_exclude_features\": [universe_exclude_features],\n",
    "    \"universe_exclude_subgroups\": [universe_exclude_subgroups],\n",
    "    \"q_hat\": [q_hat],\n",
    "    \"coverage\": [metrics[\"coverage\"]],\n",
    "    \"avg_size\": [metrics[\"avg_size\"]],\n",
    "}"
   ]
  },
  {
   "cell_type": "code",
   "execution_count": 48,
   "id": "908acbb1-0371-4915-85ca-3fa520d2efe2",
   "metadata": {
    "execution": {
     "iopub.execute_input": "2025-08-05T20:57:16.762827Z",
     "iopub.status.busy": "2025-08-05T20:57:16.762301Z",
     "iopub.status.idle": "2025-08-05T20:57:16.769211Z",
     "shell.execute_reply": "2025-08-05T20:57:16.768390Z"
    },
    "papermill": {
     "duration": 0.020917,
     "end_time": "2025-08-05T20:57:16.770779",
     "exception": false,
     "start_time": "2025-08-05T20:57:16.749862",
     "status": "completed"
    },
    "tags": []
   },
   "outputs": [
    {
     "data": {
      "text/plain": [
       "{'universe_id': ['0a4957d80956b384397344a293c820a4'],\n",
       " 'universe_training_year': ['2012_14'],\n",
       " 'universe_training_size': ['25k'],\n",
       " 'universe_scale': ['do-not-scale'],\n",
       " 'universe_model': ['logreg'],\n",
       " 'universe_exclude_features': ['none'],\n",
       " 'universe_exclude_subgroups': ['drop-non-german'],\n",
       " 'q_hat': [0.6693719626315237],\n",
       " 'coverage': [0.9112362055512206],\n",
       " 'avg_size': [1.2155501058967786]}"
      ]
     },
     "execution_count": 48,
     "metadata": {},
     "output_type": "execute_result"
    }
   ],
   "source": [
    "cp_metrics_dict"
   ]
  },
  {
   "cell_type": "code",
   "execution_count": 49,
   "id": "33007efc-14e9-4ec6-97ac-56a455c82265",
   "metadata": {
    "execution": {
     "iopub.execute_input": "2025-08-05T20:57:16.796539Z",
     "iopub.status.busy": "2025-08-05T20:57:16.795797Z",
     "iopub.status.idle": "2025-08-05T20:57:16.801585Z",
     "shell.execute_reply": "2025-08-05T20:57:16.800665Z"
    },
    "papermill": {
     "duration": 0.019479,
     "end_time": "2025-08-05T20:57:16.803042",
     "exception": false,
     "start_time": "2025-08-05T20:57:16.783563",
     "status": "completed"
    },
    "tags": []
   },
   "outputs": [],
   "source": [
    "cp_metrics_df = pd.DataFrame(cp_metrics_dict)"
   ]
  },
  {
   "cell_type": "code",
   "execution_count": 50,
   "id": "db12611b-57b2-4910-b9d0-355adfd6e7bf",
   "metadata": {
    "execution": {
     "iopub.execute_input": "2025-08-05T20:57:16.828487Z",
     "iopub.status.busy": "2025-08-05T20:57:16.828125Z",
     "iopub.status.idle": "2025-08-05T20:57:16.843378Z",
     "shell.execute_reply": "2025-08-05T20:57:16.842532Z"
    },
    "papermill": {
     "duration": 0.028853,
     "end_time": "2025-08-05T20:57:16.844773",
     "exception": false,
     "start_time": "2025-08-05T20:57:16.815920",
     "status": "completed"
    },
    "tags": []
   },
   "outputs": [
    {
     "data": {
      "text/html": [
       "<div>\n",
       "<style scoped>\n",
       "    .dataframe tbody tr th:only-of-type {\n",
       "        vertical-align: middle;\n",
       "    }\n",
       "\n",
       "    .dataframe tbody tr th {\n",
       "        vertical-align: top;\n",
       "    }\n",
       "\n",
       "    .dataframe thead th {\n",
       "        text-align: right;\n",
       "    }\n",
       "</style>\n",
       "<table border=\"1\" class=\"dataframe\">\n",
       "  <thead>\n",
       "    <tr style=\"text-align: right;\">\n",
       "      <th></th>\n",
       "      <th>universe_id</th>\n",
       "      <th>universe_training_year</th>\n",
       "      <th>universe_training_size</th>\n",
       "      <th>universe_scale</th>\n",
       "      <th>universe_model</th>\n",
       "      <th>universe_exclude_features</th>\n",
       "      <th>universe_exclude_subgroups</th>\n",
       "      <th>q_hat</th>\n",
       "      <th>coverage</th>\n",
       "      <th>avg_size</th>\n",
       "    </tr>\n",
       "  </thead>\n",
       "  <tbody>\n",
       "    <tr>\n",
       "      <th>0</th>\n",
       "      <td>0a4957d80956b384397344a293c820a4</td>\n",
       "      <td>2012_14</td>\n",
       "      <td>25k</td>\n",
       "      <td>do-not-scale</td>\n",
       "      <td>logreg</td>\n",
       "      <td>none</td>\n",
       "      <td>drop-non-german</td>\n",
       "      <td>0.669372</td>\n",
       "      <td>0.911236</td>\n",
       "      <td>1.21555</td>\n",
       "    </tr>\n",
       "  </tbody>\n",
       "</table>\n",
       "</div>"
      ],
      "text/plain": [
       "                        universe_id universe_training_year  \\\n",
       "0  0a4957d80956b384397344a293c820a4                2012_14   \n",
       "\n",
       "  universe_training_size universe_scale universe_model  \\\n",
       "0                    25k   do-not-scale         logreg   \n",
       "\n",
       "  universe_exclude_features universe_exclude_subgroups     q_hat  coverage  \\\n",
       "0                      none            drop-non-german  0.669372  0.911236   \n",
       "\n",
       "   avg_size  \n",
       "0   1.21555  "
      ]
     },
     "execution_count": 50,
     "metadata": {},
     "output_type": "execute_result"
    }
   ],
   "source": [
    "cp_metrics_df"
   ]
  },
  {
   "cell_type": "code",
   "execution_count": 51,
   "id": "b7fbde55-a0a1-47e4-9af6-fe4a17fa8c61",
   "metadata": {
    "execution": {
     "iopub.execute_input": "2025-08-05T20:57:16.959123Z",
     "iopub.status.busy": "2025-08-05T20:57:16.958599Z",
     "iopub.status.idle": "2025-08-05T20:57:16.963428Z",
     "shell.execute_reply": "2025-08-05T20:57:16.962565Z"
    },
    "papermill": {
     "duration": 0.01958,
     "end_time": "2025-08-05T20:57:16.964830",
     "exception": false,
     "start_time": "2025-08-05T20:57:16.945250",
     "status": "completed"
    },
    "tags": []
   },
   "outputs": [],
   "source": [
    "# Conditional Coverage & looking at subgroups"
   ]
  },
  {
   "cell_type": "code",
   "execution_count": 52,
   "id": "027ae886-68dd-4141-96c7-805a5450e1ef",
   "metadata": {
    "execution": {
     "iopub.execute_input": "2025-08-05T20:57:16.991396Z",
     "iopub.status.busy": "2025-08-05T20:57:16.990649Z",
     "iopub.status.idle": "2025-08-05T20:57:17.183657Z",
     "shell.execute_reply": "2025-08-05T20:57:17.182855Z"
    },
    "papermill": {
     "duration": 0.207536,
     "end_time": "2025-08-05T20:57:17.185527",
     "exception": false,
     "start_time": "2025-08-05T20:57:16.977991",
     "status": "completed"
    },
    "tags": []
   },
   "outputs": [],
   "source": [
    "from fairness_multiverse.conformal import build_cp_groups\n",
    "\n",
    "cp_groups_df = build_cp_groups(pred_sets, y_true, X_test.index, org_test)\n",
    "#needs universe_id and setting"
   ]
  },
  {
   "cell_type": "code",
   "execution_count": 53,
   "id": "6cbdab96-b2b2-45af-ad54-d0516db2e28d",
   "metadata": {
    "execution": {
     "iopub.execute_input": "2025-08-05T20:57:17.236828Z",
     "iopub.status.busy": "2025-08-05T20:57:17.235935Z",
     "iopub.status.idle": "2025-08-05T20:57:18.934646Z",
     "shell.execute_reply": "2025-08-05T20:57:18.933342Z"
    },
    "papermill": {
     "duration": 1.725367,
     "end_time": "2025-08-05T20:57:18.936806",
     "exception": false,
     "start_time": "2025-08-05T20:57:17.211439",
     "status": "completed"
    },
    "tags": []
   },
   "outputs": [],
   "source": [
    "# Define covered = 1 if true_label is in the predicted set\n",
    "cp_groups_df['covered'] = cp_groups_df.apply(\n",
    "    lambda r: int(r['true_label'] in r['pred_set']),\n",
    "    axis=1\n",
    ")"
   ]
  },
  {
   "cell_type": "code",
   "execution_count": 54,
   "id": "338ff529-1a6b-4b87-a931-8e4788d52aad",
   "metadata": {
    "execution": {
     "iopub.execute_input": "2025-08-05T20:57:19.000599Z",
     "iopub.status.busy": "2025-08-05T20:57:19.000019Z",
     "iopub.status.idle": "2025-08-05T20:57:19.005136Z",
     "shell.execute_reply": "2025-08-05T20:57:19.004454Z"
    },
    "papermill": {
     "duration": 0.032228,
     "end_time": "2025-08-05T20:57:19.006894",
     "exception": false,
     "start_time": "2025-08-05T20:57:18.974666",
     "status": "completed"
    },
    "tags": []
   },
   "outputs": [],
   "source": [
    "#cp_groups_df"
   ]
  },
  {
   "cell_type": "code",
   "execution_count": 55,
   "id": "90032e27-66df-4540-9169-4e89cfbaa758",
   "metadata": {
    "execution": {
     "iopub.execute_input": "2025-08-05T20:57:19.054312Z",
     "iopub.status.busy": "2025-08-05T20:57:19.053430Z",
     "iopub.status.idle": "2025-08-05T20:57:19.070460Z",
     "shell.execute_reply": "2025-08-05T20:57:19.069041Z"
    },
    "papermill": {
     "duration": 0.042881,
     "end_time": "2025-08-05T20:57:19.072794",
     "exception": false,
     "start_time": "2025-08-05T20:57:19.029913",
     "status": "completed"
    },
    "tags": []
   },
   "outputs": [],
   "source": [
    "subgroups = ['frau1','nongerman','nongerman_male','nongerman_female']\n",
    "\n",
    "# Conditional coverage for subgroup==1\n",
    "cond_coverage = {\n",
    "    g: cp_groups_df.loc[cp_groups_df[g]==1, 'covered'].mean()\n",
    "    for g in subgroups\n",
    "}"
   ]
  },
  {
   "cell_type": "code",
   "execution_count": 56,
   "id": "1e348fb1-b9c3-45bc-ba23-f016827a7e0d",
   "metadata": {
    "execution": {
     "iopub.execute_input": "2025-08-05T20:57:19.119585Z",
     "iopub.status.busy": "2025-08-05T20:57:19.119078Z",
     "iopub.status.idle": "2025-08-05T20:57:19.126870Z",
     "shell.execute_reply": "2025-08-05T20:57:19.125751Z"
    },
    "papermill": {
     "duration": 0.032686,
     "end_time": "2025-08-05T20:57:19.128662",
     "exception": false,
     "start_time": "2025-08-05T20:57:19.095976",
     "status": "completed"
    },
    "tags": []
   },
   "outputs": [
    {
     "data": {
      "text/plain": [
       "{'frau1': 0.9102844049063216,\n",
       " 'nongerman': 0.9383596249929826,\n",
       " 'nongerman_male': 0.9492929838782311,\n",
       " 'nongerman_female': 0.9202682563338301}"
      ]
     },
     "execution_count": 56,
     "metadata": {},
     "output_type": "execute_result"
    }
   ],
   "source": [
    "cond_coverage"
   ]
  },
  {
   "cell_type": "code",
   "execution_count": 57,
   "id": "f5093324-c3dd-4d63-bc4c-8d945e5c8bbb",
   "metadata": {
    "execution": {
     "iopub.execute_input": "2025-08-05T20:57:19.192378Z",
     "iopub.status.busy": "2025-08-05T20:57:19.191951Z",
     "iopub.status.idle": "2025-08-05T20:57:19.199796Z",
     "shell.execute_reply": "2025-08-05T20:57:19.198585Z"
    },
    "papermill": {
     "duration": 0.049185,
     "end_time": "2025-08-05T20:57:19.202708",
     "exception": false,
     "start_time": "2025-08-05T20:57:19.153523",
     "status": "completed"
    },
    "tags": []
   },
   "outputs": [],
   "source": [
    "for subgroup, cov in cond_coverage.items():\n",
    "    cp_metrics_df[f\"cov_{subgroup}\"] = cov"
   ]
  },
  {
   "cell_type": "code",
   "execution_count": 58,
   "id": "6e872e10-dbe5-49e8-b554-5030c98ff75d",
   "metadata": {
    "execution": {
     "iopub.execute_input": "2025-08-05T20:57:19.258825Z",
     "iopub.status.busy": "2025-08-05T20:57:19.258319Z",
     "iopub.status.idle": "2025-08-05T20:57:19.279733Z",
     "shell.execute_reply": "2025-08-05T20:57:19.278410Z"
    },
    "papermill": {
     "duration": 0.050235,
     "end_time": "2025-08-05T20:57:19.281647",
     "exception": false,
     "start_time": "2025-08-05T20:57:19.231412",
     "status": "completed"
    },
    "tags": []
   },
   "outputs": [
    {
     "data": {
      "text/html": [
       "<div>\n",
       "<style scoped>\n",
       "    .dataframe tbody tr th:only-of-type {\n",
       "        vertical-align: middle;\n",
       "    }\n",
       "\n",
       "    .dataframe tbody tr th {\n",
       "        vertical-align: top;\n",
       "    }\n",
       "\n",
       "    .dataframe thead th {\n",
       "        text-align: right;\n",
       "    }\n",
       "</style>\n",
       "<table border=\"1\" class=\"dataframe\">\n",
       "  <thead>\n",
       "    <tr style=\"text-align: right;\">\n",
       "      <th></th>\n",
       "      <th>universe_id</th>\n",
       "      <th>universe_training_year</th>\n",
       "      <th>universe_training_size</th>\n",
       "      <th>universe_scale</th>\n",
       "      <th>universe_model</th>\n",
       "      <th>universe_exclude_features</th>\n",
       "      <th>universe_exclude_subgroups</th>\n",
       "      <th>q_hat</th>\n",
       "      <th>coverage</th>\n",
       "      <th>avg_size</th>\n",
       "      <th>cov_frau1</th>\n",
       "      <th>cov_nongerman</th>\n",
       "      <th>cov_nongerman_male</th>\n",
       "      <th>cov_nongerman_female</th>\n",
       "    </tr>\n",
       "  </thead>\n",
       "  <tbody>\n",
       "    <tr>\n",
       "      <th>0</th>\n",
       "      <td>0a4957d80956b384397344a293c820a4</td>\n",
       "      <td>2012_14</td>\n",
       "      <td>25k</td>\n",
       "      <td>do-not-scale</td>\n",
       "      <td>logreg</td>\n",
       "      <td>none</td>\n",
       "      <td>drop-non-german</td>\n",
       "      <td>0.669372</td>\n",
       "      <td>0.911236</td>\n",
       "      <td>1.21555</td>\n",
       "      <td>0.910284</td>\n",
       "      <td>0.93836</td>\n",
       "      <td>0.949293</td>\n",
       "      <td>0.920268</td>\n",
       "    </tr>\n",
       "  </tbody>\n",
       "</table>\n",
       "</div>"
      ],
      "text/plain": [
       "                        universe_id universe_training_year  \\\n",
       "0  0a4957d80956b384397344a293c820a4                2012_14   \n",
       "\n",
       "  universe_training_size universe_scale universe_model  \\\n",
       "0                    25k   do-not-scale         logreg   \n",
       "\n",
       "  universe_exclude_features universe_exclude_subgroups     q_hat  coverage  \\\n",
       "0                      none            drop-non-german  0.669372  0.911236   \n",
       "\n",
       "   avg_size  cov_frau1  cov_nongerman  cov_nongerman_male  \\\n",
       "0   1.21555   0.910284        0.93836            0.949293   \n",
       "\n",
       "   cov_nongerman_female  \n",
       "0              0.920268  "
      ]
     },
     "execution_count": 58,
     "metadata": {},
     "output_type": "execute_result"
    }
   ],
   "source": [
    "cp_metrics_df"
   ]
  },
  {
   "cell_type": "markdown",
   "id": "33774451",
   "metadata": {
    "papermill": {
     "duration": 0.026835,
     "end_time": "2025-08-05T20:57:19.335303",
     "exception": false,
     "start_time": "2025-08-05T20:57:19.308468",
     "status": "completed"
    },
    "tags": []
   },
   "source": [
    "# (Fairness) Metrics"
   ]
  },
  {
   "cell_type": "code",
   "execution_count": 59,
   "id": "debc5d62",
   "metadata": {
    "execution": {
     "iopub.execute_input": "2025-08-05T20:57:19.390638Z",
     "iopub.status.busy": "2025-08-05T20:57:19.390087Z",
     "iopub.status.idle": "2025-08-05T20:57:19.405964Z",
     "shell.execute_reply": "2025-08-05T20:57:19.405062Z"
    },
    "papermill": {
     "duration": 0.045641,
     "end_time": "2025-08-05T20:57:19.407795",
     "exception": false,
     "start_time": "2025-08-05T20:57:19.362154",
     "status": "completed"
    },
    "tags": []
   },
   "outputs": [],
   "source": [
    "# do I need to include maxdeutsch1.missing?\n",
    "\n",
    "import numpy as np\n",
    "\n",
    "colname_to_bin = \"maxdeutsch1\"\n",
    "majority_value = org_train[colname_to_bin].mode()[0]\n",
    "\n",
    "org_test[\"majmin\"] = np.where(org_test[colname_to_bin] == majority_value, \"majority\", \"minority\")"
   ]
  },
  {
   "cell_type": "code",
   "execution_count": 60,
   "id": "06a50de5",
   "metadata": {
    "execution": {
     "iopub.execute_input": "2025-08-05T20:57:19.434850Z",
     "iopub.status.busy": "2025-08-05T20:57:19.434316Z",
     "iopub.status.idle": "2025-08-05T20:57:21.815013Z",
     "shell.execute_reply": "2025-08-05T20:57:21.814011Z"
    },
    "papermill": {
     "duration": 2.396103,
     "end_time": "2025-08-05T20:57:21.817031",
     "exception": false,
     "start_time": "2025-08-05T20:57:19.420928",
     "status": "completed"
    },
    "tags": []
   },
   "outputs": [],
   "source": [
    "example_universe = universe.copy()\n",
    "example_universe[\"cutoff\"] = example_universe[\"cutoff\"][0]\n",
    "example_universe[\"eval_fairness_grouping\"] = example_universe[\"eval_fairness_grouping\"][0]\n",
    "fairness_dict, metric_frame = universe_analysis.compute_metrics(\n",
    "    example_universe,\n",
    "    y_pred_prob=probs_test,\n",
    "    y_test=y_true,\n",
    "    org_test=org_test,\n",
    ")"
   ]
  },
  {
   "cell_type": "markdown",
   "id": "f95d4e02",
   "metadata": {
    "papermill": {
     "duration": 0.024002,
     "end_time": "2025-08-05T20:57:21.868481",
     "exception": false,
     "start_time": "2025-08-05T20:57:21.844479",
     "status": "completed"
    },
    "tags": []
   },
   "source": [
    "# Overall"
   ]
  },
  {
   "cell_type": "markdown",
   "id": "bdee4871",
   "metadata": {
    "papermill": {
     "duration": 0.025142,
     "end_time": "2025-08-05T20:57:21.918177",
     "exception": false,
     "start_time": "2025-08-05T20:57:21.893035",
     "status": "completed"
    },
    "tags": []
   },
   "source": [
    "Fairness\n",
    "Main fairness target: Equalized Odds. Seems to be a better fit than equal opportunity, since we're not only interested in Y = 1. Seems to be a better fit than demographic parity, since we also care about accuracy, not just equal distribution of preds.\n",
    "\n",
    "Pick column for computation of fairness metrics\n",
    "\n",
    "Performance\n",
    "Overall performance measures, most interesting in relation to the measures split by group below"
   ]
  },
  {
   "cell_type": "code",
   "execution_count": 61,
   "id": "c4e067c6",
   "metadata": {
    "execution": {
     "iopub.execute_input": "2025-08-05T20:57:21.969404Z",
     "iopub.status.busy": "2025-08-05T20:57:21.968886Z",
     "iopub.status.idle": "2025-08-05T20:57:21.978187Z",
     "shell.execute_reply": "2025-08-05T20:57:21.976984Z"
    },
    "papermill": {
     "duration": 0.037668,
     "end_time": "2025-08-05T20:57:21.980008",
     "exception": false,
     "start_time": "2025-08-05T20:57:21.942340",
     "status": "completed"
    },
    "tags": []
   },
   "outputs": [
    {
     "data": {
      "text/plain": [
       "accuracy                   0.217534\n",
       "balanced accuracy          0.533334\n",
       "f1                         0.239054\n",
       "precision                  0.136563\n",
       "false positive rate        0.891448\n",
       "false negative rate        0.041884\n",
       "selection rate             0.900000\n",
       "count                  89710.000000\n",
       "dtype: float64"
      ]
     },
     "execution_count": 61,
     "metadata": {},
     "output_type": "execute_result"
    }
   ],
   "source": [
    "metric_frame.overall"
   ]
  },
  {
   "cell_type": "markdown",
   "id": "e968fe9d",
   "metadata": {
    "papermill": {
     "duration": 0.025272,
     "end_time": "2025-08-05T20:57:22.031133",
     "exception": false,
     "start_time": "2025-08-05T20:57:22.005861",
     "status": "completed"
    },
    "tags": []
   },
   "source": [
    "By Group"
   ]
  },
  {
   "cell_type": "code",
   "execution_count": 62,
   "id": "ec325bce",
   "metadata": {
    "execution": {
     "iopub.execute_input": "2025-08-05T20:57:22.083838Z",
     "iopub.status.busy": "2025-08-05T20:57:22.083380Z",
     "iopub.status.idle": "2025-08-05T20:57:22.099861Z",
     "shell.execute_reply": "2025-08-05T20:57:22.098720Z"
    },
    "papermill": {
     "duration": 0.046211,
     "end_time": "2025-08-05T20:57:22.101721",
     "exception": false,
     "start_time": "2025-08-05T20:57:22.055510",
     "status": "completed"
    },
    "tags": []
   },
   "outputs": [
    {
     "data": {
      "text/html": [
       "<div>\n",
       "<style scoped>\n",
       "    .dataframe tbody tr th:only-of-type {\n",
       "        vertical-align: middle;\n",
       "    }\n",
       "\n",
       "    .dataframe tbody tr th {\n",
       "        vertical-align: top;\n",
       "    }\n",
       "\n",
       "    .dataframe thead th {\n",
       "        text-align: right;\n",
       "    }\n",
       "</style>\n",
       "<table border=\"1\" class=\"dataframe\">\n",
       "  <thead>\n",
       "    <tr style=\"text-align: right;\">\n",
       "      <th></th>\n",
       "      <th>accuracy</th>\n",
       "      <th>balanced accuracy</th>\n",
       "      <th>f1</th>\n",
       "      <th>precision</th>\n",
       "      <th>false positive rate</th>\n",
       "      <th>false negative rate</th>\n",
       "      <th>selection rate</th>\n",
       "      <th>count</th>\n",
       "    </tr>\n",
       "    <tr>\n",
       "      <th>majmin</th>\n",
       "      <th></th>\n",
       "      <th></th>\n",
       "      <th></th>\n",
       "      <th></th>\n",
       "      <th></th>\n",
       "      <th></th>\n",
       "      <th></th>\n",
       "      <th></th>\n",
       "    </tr>\n",
       "  </thead>\n",
       "  <tbody>\n",
       "    <tr>\n",
       "      <th>majority</th>\n",
       "      <td>0.239916</td>\n",
       "      <td>0.541364</td>\n",
       "      <td>0.248510</td>\n",
       "      <td>0.142928</td>\n",
       "      <td>0.868366</td>\n",
       "      <td>0.048906</td>\n",
       "      <td>0.879297</td>\n",
       "      <td>69170.0</td>\n",
       "    </tr>\n",
       "    <tr>\n",
       "      <th>minority</th>\n",
       "      <td>0.142162</td>\n",
       "      <td>0.508761</td>\n",
       "      <td>0.209369</td>\n",
       "      <td>0.117130</td>\n",
       "      <td>0.967698</td>\n",
       "      <td>0.014780</td>\n",
       "      <td>0.969718</td>\n",
       "      <td>20540.0</td>\n",
       "    </tr>\n",
       "  </tbody>\n",
       "</table>\n",
       "</div>"
      ],
      "text/plain": [
       "          accuracy  balanced accuracy        f1  precision  \\\n",
       "majmin                                                       \n",
       "majority  0.239916           0.541364  0.248510   0.142928   \n",
       "minority  0.142162           0.508761  0.209369   0.117130   \n",
       "\n",
       "          false positive rate  false negative rate  selection rate    count  \n",
       "majmin                                                                       \n",
       "majority             0.868366             0.048906        0.879297  69170.0  \n",
       "minority             0.967698             0.014780        0.969718  20540.0  "
      ]
     },
     "execution_count": 62,
     "metadata": {},
     "output_type": "execute_result"
    }
   ],
   "source": [
    "metric_frame.by_group"
   ]
  },
  {
   "cell_type": "code",
   "execution_count": 63,
   "id": "a9ddbe63",
   "metadata": {
    "execution": {
     "iopub.execute_input": "2025-08-05T20:57:22.153251Z",
     "iopub.status.busy": "2025-08-05T20:57:22.152915Z",
     "iopub.status.idle": "2025-08-05T20:57:24.257262Z",
     "shell.execute_reply": "2025-08-05T20:57:24.256514Z"
    },
    "papermill": {
     "duration": 2.13201,
     "end_time": "2025-08-05T20:57:24.258549",
     "exception": false,
     "start_time": "2025-08-05T20:57:22.126539",
     "status": "completed"
    },
    "tags": []
   },
   "outputs": [
    {
     "data": {
      "text/plain": [
       "array([[<Axes: title={'center': 'accuracy'}, xlabel='majmin'>,\n",
       "        <Axes: title={'center': 'balanced accuracy'}, xlabel='majmin'>,\n",
       "        <Axes: title={'center': 'f1'}, xlabel='majmin'>],\n",
       "       [<Axes: title={'center': 'precision'}, xlabel='majmin'>,\n",
       "        <Axes: title={'center': 'false positive rate'}, xlabel='majmin'>,\n",
       "        <Axes: title={'center': 'false negative rate'}, xlabel='majmin'>],\n",
       "       [<Axes: title={'center': 'selection rate'}, xlabel='majmin'>,\n",
       "        <Axes: title={'center': 'count'}, xlabel='majmin'>,\n",
       "        <Axes: xlabel='majmin'>]], dtype=object)"
      ]
     },
     "execution_count": 63,
     "metadata": {},
     "output_type": "execute_result"
    },
    {
     "data": {
      "image/png": "[encoded data removed]",
      "text/plain": [
       "<Figure size 1200x800 with 9 Axes>"
      ]
     },
     "metadata": {},
     "output_type": "display_data"
    }
   ],
   "source": [
    "# In a graphic\n",
    "metric_frame.by_group.plot.bar(\n",
    "    subplots=True,\n",
    "    layout=[3, 3],\n",
    "    legend=False,\n",
    "    figsize=[12, 8],\n",
    "    title=\"Show all metrics\",\n",
    ")"
   ]
  },
  {
   "cell_type": "markdown",
   "id": "f57a0bac",
   "metadata": {
    "papermill": {
     "duration": 0.012401,
     "end_time": "2025-08-05T20:57:24.284534",
     "exception": false,
     "start_time": "2025-08-05T20:57:24.272133",
     "status": "completed"
    },
    "tags": []
   },
   "source": [
    "# Final Output"
   ]
  },
  {
   "cell_type": "code",
   "execution_count": 64,
   "id": "96d280a3",
   "metadata": {
    "execution": {
     "iopub.execute_input": "2025-08-05T20:57:24.311262Z",
     "iopub.status.busy": "2025-08-05T20:57:24.310579Z",
     "iopub.status.idle": "2025-08-05T20:57:24.317325Z",
     "shell.execute_reply": "2025-08-05T20:57:24.316562Z"
    },
    "papermill": {
     "duration": 0.021755,
     "end_time": "2025-08-05T20:57:24.318913",
     "exception": false,
     "start_time": "2025-08-05T20:57:24.297158",
     "status": "completed"
    },
    "tags": []
   },
   "outputs": [
    {
     "data": {
      "text/plain": [
       "4"
      ]
     },
     "execution_count": 64,
     "metadata": {},
     "output_type": "execute_result"
    }
   ],
   "source": [
    "sub_universes = universe_analysis.generate_sub_universes()\n",
    "len(sub_universes)"
   ]
  },
  {
   "cell_type": "code",
   "execution_count": 65,
   "id": "92adf7ba",
   "metadata": {
    "execution": {
     "iopub.execute_input": "2025-08-05T20:57:24.345920Z",
     "iopub.status.busy": "2025-08-05T20:57:24.345451Z",
     "iopub.status.idle": "2025-08-05T20:57:24.350107Z",
     "shell.execute_reply": "2025-08-05T20:57:24.349282Z"
    },
    "papermill": {
     "duration": 0.019391,
     "end_time": "2025-08-05T20:57:24.351531",
     "exception": false,
     "start_time": "2025-08-05T20:57:24.332140",
     "status": "completed"
    },
    "tags": []
   },
   "outputs": [],
   "source": [
    "def filter_sub_universe_data(sub_universe, org_test):\n",
    "    # Keep all rows — no filtering\n",
    "    keep_rows_mask = np.ones(org_test.shape[0], dtype=bool)\n",
    "\n",
    "    print(f\"[INFO] Keeping all rows: {keep_rows_mask.sum()} rows retained.\")\n",
    "    return keep_rows_mask"
   ]
  },
  {
   "cell_type": "code",
   "execution_count": 66,
   "id": "4a759155",
   "metadata": {
    "execution": {
     "iopub.execute_input": "2025-08-05T20:57:24.379027Z",
     "iopub.status.busy": "2025-08-05T20:57:24.378803Z",
     "iopub.status.idle": "2025-08-05T20:57:32.691232Z",
     "shell.execute_reply": "2025-08-05T20:57:32.690355Z"
    },
    "papermill": {
     "duration": 8.327548,
     "end_time": "2025-08-05T20:57:32.692770",
     "exception": false,
     "start_time": "2025-08-05T20:57:24.365222",
     "status": "completed"
    },
    "tags": []
   },
   "outputs": [
    {
     "name": "stdout",
     "output_type": "stream",
     "text": [
      "Stopping execution_time clock.\n",
      "[INFO] Keeping all rows: 89710 rows retained.\n"
     ]
    },
    {
     "name": "stdout",
     "output_type": "stream",
     "text": [
      "[INFO] Keeping all rows: 89710 rows retained.\n"
     ]
    },
    {
     "name": "stdout",
     "output_type": "stream",
     "text": [
      "[INFO] Keeping all rows: 89710 rows retained.\n"
     ]
    },
    {
     "name": "stdout",
     "output_type": "stream",
     "text": [
      "[INFO] Keeping all rows: 89710 rows retained.\n"
     ]
    },
    {
     "data": {
      "text/html": [
       "<div>\n",
       "<style scoped>\n",
       "    .dataframe tbody tr th:only-of-type {\n",
       "        vertical-align: middle;\n",
       "    }\n",
       "\n",
       "    .dataframe tbody tr th {\n",
       "        vertical-align: top;\n",
       "    }\n",
       "\n",
       "    .dataframe thead th {\n",
       "        text-align: right;\n",
       "    }\n",
       "</style>\n",
       "<table border=\"1\" class=\"dataframe\">\n",
       "  <thead>\n",
       "    <tr style=\"text-align: right;\">\n",
       "      <th></th>\n",
       "      <th>run_no</th>\n",
       "      <th>universe_id</th>\n",
       "      <th>universe_settings</th>\n",
       "      <th>execution_time</th>\n",
       "      <th>test_size_n</th>\n",
       "      <th>test_size_frac</th>\n",
       "      <th>fair_main_equalized_odds_difference</th>\n",
       "      <th>fair_main_equalized_odds_ratio</th>\n",
       "      <th>fair_main_demographic_parity_difference</th>\n",
       "      <th>fair_main_demographic_parity_ratio</th>\n",
       "      <th>...</th>\n",
       "      <th>perf_grp_precision_0</th>\n",
       "      <th>perf_grp_precision_1</th>\n",
       "      <th>perf_grp_false positive rate_0</th>\n",
       "      <th>perf_grp_false positive rate_1</th>\n",
       "      <th>perf_grp_false negative rate_0</th>\n",
       "      <th>perf_grp_false negative rate_1</th>\n",
       "      <th>perf_grp_selection rate_0</th>\n",
       "      <th>perf_grp_selection rate_1</th>\n",
       "      <th>perf_grp_count_0</th>\n",
       "      <th>perf_grp_count_1</th>\n",
       "    </tr>\n",
       "  </thead>\n",
       "  <tbody>\n",
       "    <tr>\n",
       "      <th>0</th>\n",
       "      <td>16</td>\n",
       "      <td>0a4957d80956b384397344a293c820a4</td>\n",
       "      <td>{\"cutoff\": \"quantile_0.1\", \"eval_fairness_grou...</td>\n",
       "      <td>25.856208</td>\n",
       "      <td>89710</td>\n",
       "      <td>1.0</td>\n",
       "      <td>0.099332</td>\n",
       "      <td>0.897352</td>\n",
       "      <td>0.090420</td>\n",
       "      <td>0.906756</td>\n",
       "      <td>...</td>\n",
       "      <td>NaN</td>\n",
       "      <td>NaN</td>\n",
       "      <td>NaN</td>\n",
       "      <td>NaN</td>\n",
       "      <td>NaN</td>\n",
       "      <td>NaN</td>\n",
       "      <td>NaN</td>\n",
       "      <td>NaN</td>\n",
       "      <td>NaN</td>\n",
       "      <td>NaN</td>\n",
       "    </tr>\n",
       "    <tr>\n",
       "      <th>0</th>\n",
       "      <td>16</td>\n",
       "      <td>0a4957d80956b384397344a293c820a4</td>\n",
       "      <td>{\"cutoff\": \"quantile_0.1\", \"eval_fairness_grou...</td>\n",
       "      <td>25.856208</td>\n",
       "      <td>89710</td>\n",
       "      <td>1.0</td>\n",
       "      <td>0.099332</td>\n",
       "      <td>0.897352</td>\n",
       "      <td>0.090420</td>\n",
       "      <td>0.906756</td>\n",
       "      <td>...</td>\n",
       "      <td>0.117130</td>\n",
       "      <td>0.142928</td>\n",
       "      <td>0.967698</td>\n",
       "      <td>0.868366</td>\n",
       "      <td>0.014780</td>\n",
       "      <td>0.048906</td>\n",
       "      <td>0.969718</td>\n",
       "      <td>0.879297</td>\n",
       "      <td>20540.0</td>\n",
       "      <td>69170.0</td>\n",
       "    </tr>\n",
       "    <tr>\n",
       "      <th>0</th>\n",
       "      <td>16</td>\n",
       "      <td>0a4957d80956b384397344a293c820a4</td>\n",
       "      <td>{\"cutoff\": \"quantile_0.25\", \"eval_fairness_gro...</td>\n",
       "      <td>25.856208</td>\n",
       "      <td>89710</td>\n",
       "      <td>1.0</td>\n",
       "      <td>0.223383</td>\n",
       "      <td>0.752300</td>\n",
       "      <td>0.204968</td>\n",
       "      <td>0.774272</td>\n",
       "      <td>...</td>\n",
       "      <td>NaN</td>\n",
       "      <td>NaN</td>\n",
       "      <td>NaN</td>\n",
       "      <td>NaN</td>\n",
       "      <td>NaN</td>\n",
       "      <td>NaN</td>\n",
       "      <td>NaN</td>\n",
       "      <td>NaN</td>\n",
       "      <td>NaN</td>\n",
       "      <td>NaN</td>\n",
       "    </tr>\n",
       "    <tr>\n",
       "      <th>0</th>\n",
       "      <td>16</td>\n",
       "      <td>0a4957d80956b384397344a293c820a4</td>\n",
       "      <td>{\"cutoff\": \"quantile_0.25\", \"eval_fairness_gro...</td>\n",
       "      <td>25.856208</td>\n",
       "      <td>89710</td>\n",
       "      <td>1.0</td>\n",
       "      <td>0.223383</td>\n",
       "      <td>0.752300</td>\n",
       "      <td>0.204968</td>\n",
       "      <td>0.774272</td>\n",
       "      <td>...</td>\n",
       "      <td>0.121334</td>\n",
       "      <td>0.162530</td>\n",
       "      <td>0.901827</td>\n",
       "      <td>0.678444</td>\n",
       "      <td>0.044341</td>\n",
       "      <td>0.135230</td>\n",
       "      <td>0.908033</td>\n",
       "      <td>0.703065</td>\n",
       "      <td>20540.0</td>\n",
       "      <td>69170.0</td>\n",
       "    </tr>\n",
       "  </tbody>\n",
       "</table>\n",
       "<p>4 rows × 50 columns</p>\n",
       "</div>"
      ],
      "text/plain": [
       "  run_no                       universe_id  \\\n",
       "0     16  0a4957d80956b384397344a293c820a4   \n",
       "0     16  0a4957d80956b384397344a293c820a4   \n",
       "0     16  0a4957d80956b384397344a293c820a4   \n",
       "0     16  0a4957d80956b384397344a293c820a4   \n",
       "\n",
       "                                   universe_settings  execution_time  \\\n",
       "0  {\"cutoff\": \"quantile_0.1\", \"eval_fairness_grou...       25.856208   \n",
       "0  {\"cutoff\": \"quantile_0.1\", \"eval_fairness_grou...       25.856208   \n",
       "0  {\"cutoff\": \"quantile_0.25\", \"eval_fairness_gro...       25.856208   \n",
       "0  {\"cutoff\": \"quantile_0.25\", \"eval_fairness_gro...       25.856208   \n",
       "\n",
       "   test_size_n  test_size_frac  fair_main_equalized_odds_difference  \\\n",
       "0        89710             1.0                             0.099332   \n",
       "0        89710             1.0                             0.099332   \n",
       "0        89710             1.0                             0.223383   \n",
       "0        89710             1.0                             0.223383   \n",
       "\n",
       "   fair_main_equalized_odds_ratio  fair_main_demographic_parity_difference  \\\n",
       "0                        0.897352                                 0.090420   \n",
       "0                        0.897352                                 0.090420   \n",
       "0                        0.752300                                 0.204968   \n",
       "0                        0.752300                                 0.204968   \n",
       "\n",
       "   fair_main_demographic_parity_ratio  ...  perf_grp_precision_0  \\\n",
       "0                            0.906756  ...                   NaN   \n",
       "0                            0.906756  ...              0.117130   \n",
       "0                            0.774272  ...                   NaN   \n",
       "0                            0.774272  ...              0.121334   \n",
       "\n",
       "   perf_grp_precision_1  perf_grp_false positive rate_0  \\\n",
       "0                   NaN                             NaN   \n",
       "0              0.142928                        0.967698   \n",
       "0                   NaN                             NaN   \n",
       "0              0.162530                        0.901827   \n",
       "\n",
       "   perf_grp_false positive rate_1  perf_grp_false negative rate_0  \\\n",
       "0                             NaN                             NaN   \n",
       "0                        0.868366                        0.014780   \n",
       "0                             NaN                             NaN   \n",
       "0                        0.678444                        0.044341   \n",
       "\n",
       "   perf_grp_false negative rate_1  perf_grp_selection rate_0  \\\n",
       "0                             NaN                        NaN   \n",
       "0                        0.048906                   0.969718   \n",
       "0                             NaN                        NaN   \n",
       "0                        0.135230                   0.908033   \n",
       "\n",
       "   perf_grp_selection rate_1  perf_grp_count_0  perf_grp_count_1  \n",
       "0                        NaN               NaN               NaN  \n",
       "0                   0.879297           20540.0           69170.0  \n",
       "0                        NaN               NaN               NaN  \n",
       "0                   0.703065           20540.0           69170.0  \n",
       "\n",
       "[4 rows x 50 columns]"
      ]
     },
     "execution_count": 66,
     "metadata": {},
     "output_type": "execute_result"
    }
   ],
   "source": [
    "final_output = universe_analysis.generate_final_output(\n",
    "    y_pred_prob=probs_test,\n",
    "    y_test=y_true,\n",
    "    org_test=org_test,\n",
    "    filter_data=filter_sub_universe_data,\n",
    "    cp_metrics_df=cp_metrics_df,\n",
    "    save=True,\n",
    ")\n",
    "final_output"
   ]
  }
 ],
 "metadata": {
  "celltoolbar": "Tags",
  "kernelspec": {
   "display_name": "Python (CMA Fairness)",
   "language": "python",
   "name": "cma_fair_env"
  },
  "language_info": {
   "codemirror_mode": {
    "name": "ipython",
    "version": 3
   },
   "file_extension": ".py",
   "mimetype": "text/x-python",
   "name": "python",
   "nbconvert_exporter": "python",
   "pygments_lexer": "ipython3",
   "version": "3.10.12"
  },
  "papermill": {
   "default_parameters": {},
   "duration": 38.032968,
   "end_time": "2025-08-05T20:57:33.543643",
   "environment_variables": {},
   "exception": null,
   "input_path": "universe_analysis.ipynb",
   "output_path": "output/runs/16/notebooks/m_16-0a4957d80956b384397344a293c820a4.ipynb",
   "parameters": {
    "output_dir": "output",
    "run_no": "16",
    "seed": "2023",
    "universe": "{\"cutoff\": [\"quantile_0.1\", \"quantile_0.25\"], \"eval_fairness_grouping\": [\"majority-minority\", \"nationality-all\"], \"exclude_features\": \"none\", \"exclude_subgroups\": \"drop-non-german\", \"model\": \"logreg\", \"scale\": \"do-not-scale\", \"training_size\": \"25k\", \"training_year\": \"2012_14\"}",
    "universe_id": "0a4957d80956b384397344a293c820a4"
   },
   "start_time": "2025-08-05T20:56:55.510675",
   "version": "2.6.0"
  }
 },
 "nbformat": 4,
 "nbformat_minor": 5
}