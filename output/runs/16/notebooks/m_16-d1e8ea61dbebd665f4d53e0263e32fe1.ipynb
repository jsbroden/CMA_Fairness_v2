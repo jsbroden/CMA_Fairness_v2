{
 "cells": [
  {
   "cell_type": "code",
   "execution_count": 1,
   "id": "f159f837-637b-42ba-96b5-ec9a68c44524",
   "metadata": {
    "execution": {
     "iopub.execute_input": "2025-08-05T20:58:16.727305Z",
     "iopub.status.busy": "2025-08-05T20:58:16.726646Z",
     "iopub.status.idle": "2025-08-05T20:58:16.740673Z",
     "shell.execute_reply": "2025-08-05T20:58:16.738815Z"
    },
    "papermill": {
     "duration": 0.032431,
     "end_time": "2025-08-05T20:58:16.742527",
     "exception": false,
     "start_time": "2025-08-05T20:58:16.710096",
     "status": "completed"
    },
    "tags": []
   },
   "outputs": [
    {
     "name": "stdout",
     "output_type": "stream",
     "text": [
      "/dss/dsshome1/0C/ra93lal2/cma/CMA_Fairness_v2\n"
     ]
    },
    {
     "name": "stderr",
     "output_type": "stream",
     "text": [
      "/dss/dsshome1/0C/ra93lal2/.local/share/virtualenvs/CMA_Fairness_v2-3j10GkSs/lib/python3.10/site-packages/IPython/core/magics/osm.py:393: UserWarning: This is now an optional IPython functionality, using bookmarks requires you to install the `pickleshare` library.\n",
      "  bkms = self.shell.db.get('bookmarks', {})\n",
      "/dss/dsshome1/0C/ra93lal2/.local/share/virtualenvs/CMA_Fairness_v2-3j10GkSs/lib/python3.10/site-packages/IPython/core/magics/osm.py:417: UserWarning: This is now an optional IPython functionality, setting dhist requires you to install the `pickleshare` library.\n",
      "  self.shell.db['dhist'] = compress_dhist(dhist)[-100:]\n"
     ]
    }
   ],
   "source": [
    "%cd ~/cma/CMA_Fairness_v2"
   ]
  },
  {
   "cell_type": "markdown",
   "id": "de2603b9",
   "metadata": {
    "papermill": {
     "duration": 0.016319,
     "end_time": "2025-08-05T20:58:16.776536",
     "exception": false,
     "start_time": "2025-08-05T20:58:16.760217",
     "status": "completed"
    },
    "tags": []
   },
   "source": [
    "The following cell holds the definition of our parameters, these values can be overriden by rendering the with e.g. the following command:\n",
    "\n",
    "papermill -p alpha 0.2 -p ratio 0.3 universe_analysis.ipynb output/test_run.ipynb"
   ]
  },
  {
   "cell_type": "code",
   "execution_count": 2,
   "id": "a80968a0-40bb-4fa9-85ef-2d5eefb01975",
   "metadata": {
    "execution": {
     "iopub.execute_input": "2025-08-05T20:58:16.811477Z",
     "iopub.status.busy": "2025-08-05T20:58:16.811045Z",
     "iopub.status.idle": "2025-08-05T20:58:16.816591Z",
     "shell.execute_reply": "2025-08-05T20:58:16.815656Z"
    },
    "papermill": {
     "duration": 0.025311,
     "end_time": "2025-08-05T20:58:16.818508",
     "exception": false,
     "start_time": "2025-08-05T20:58:16.793197",
     "status": "completed"
    },
    "tags": []
   },
   "outputs": [
    {
     "name": "stdout",
     "output_type": "stream",
     "text": [
      "Current working directory: /dss/dsshome1/0C/ra93lal2/cma/CMA_Fairness_v2\n"
     ]
    }
   ],
   "source": [
    "import os\n",
    "print(\"Current working directory:\", os.getcwd())"
   ]
  },
  {
   "cell_type": "code",
   "execution_count": 3,
   "id": "2dce4c03",
   "metadata": {
    "execution": {
     "iopub.execute_input": "2025-08-05T20:58:16.854527Z",
     "iopub.status.busy": "2025-08-05T20:58:16.853280Z",
     "iopub.status.idle": "2025-08-05T20:58:16.859668Z",
     "shell.execute_reply": "2025-08-05T20:58:16.858714Z"
    },
    "papermill": {
     "duration": 0.025474,
     "end_time": "2025-08-05T20:58:16.861684",
     "exception": false,
     "start_time": "2025-08-05T20:58:16.836210",
     "status": "completed"
    },
    "tags": [
     "parameters"
    ]
   },
   "outputs": [],
   "source": [
    "run_no = 0\n",
    "universe_id = \"test\"\n",
    "universe = {\n",
    "    \"training_size\": \"25k\", # \"25k\", \"5k\", \"1k\"\n",
    "    \"training_year\": \"2014\", # \"2014\", \"2012_14\", \"2010_14\"\n",
    "    \"scale\": \"scale\", # \"scale\", \"do-not-scale\",\n",
    "    \"model\": \"elasticnet\", # \"logreg\", \"penalized_logreg\", \"rf\", \"gbm\", \"elasticnet\"\n",
    "    \"cutoff\": [\"quantile_0.15\", \"quantile_0.30\"],\n",
    "    \"exclude_features\": \"age\", # \"none\", \"nationality\", \"sex\", \"nationality-sex\", \"age\"\n",
    "    \"exclude_subgroups\": \"keep-all\", # \"keep-all\", \"drop-non-german\"\n",
    "    \"eval_fairness_grouping\": [\"majority-minority\", \"nationality-all\"]\n",
    "}\n",
    "\n",
    "output_dir=\"./output\"\n",
    "seed=0"
   ]
  },
  {
   "cell_type": "code",
   "execution_count": 4,
   "id": "ea3f7672",
   "metadata": {
    "execution": {
     "iopub.execute_input": "2025-08-05T20:58:16.894118Z",
     "iopub.status.busy": "2025-08-05T20:58:16.893764Z",
     "iopub.status.idle": "2025-08-05T20:58:16.898330Z",
     "shell.execute_reply": "2025-08-05T20:58:16.897383Z"
    },
    "papermill": {
     "duration": 0.022053,
     "end_time": "2025-08-05T20:58:16.900028",
     "exception": false,
     "start_time": "2025-08-05T20:58:16.877975",
     "status": "completed"
    },
    "tags": [
     "injected-parameters"
    ]
   },
   "outputs": [],
   "source": [
    "# Parameters\n",
    "universe_id = \"d1e8ea61dbebd665f4d53e0263e32fe1\"\n",
    "run_no = \"16\"\n",
    "universe = \"{\\\"cutoff\\\": [\\\"quantile_0.1\\\", \\\"quantile_0.25\\\"], \\\"eval_fairness_grouping\\\": [\\\"majority-minority\\\", \\\"nationality-all\\\"], \\\"exclude_features\\\": \\\"nationality\\\", \\\"exclude_subgroups\\\": \\\"keep-all\\\", \\\"model\\\": \\\"penalized_logreg\\\", \\\"scale\\\": \\\"do-not-scale\\\", \\\"training_size\\\": \\\"25k\\\", \\\"training_year\\\": \\\"2012_14\\\"}\"\n",
    "output_dir = \"output\"\n",
    "seed = \"2023\"\n"
   ]
  },
  {
   "cell_type": "code",
   "execution_count": 5,
   "id": "1650acaf",
   "metadata": {
    "execution": {
     "iopub.execute_input": "2025-08-05T20:58:16.931715Z",
     "iopub.status.busy": "2025-08-05T20:58:16.931090Z",
     "iopub.status.idle": "2025-08-05T20:58:16.935660Z",
     "shell.execute_reply": "2025-08-05T20:58:16.934760Z"
    },
    "papermill": {
     "duration": 0.021741,
     "end_time": "2025-08-05T20:58:16.937246",
     "exception": false,
     "start_time": "2025-08-05T20:58:16.915505",
     "status": "completed"
    },
    "tags": []
   },
   "outputs": [],
   "source": [
    "import json\n",
    "if isinstance(universe, str):\n",
    "    universe = json.loads(universe)"
   ]
  },
  {
   "cell_type": "code",
   "execution_count": 6,
   "id": "16620c48",
   "metadata": {
    "execution": {
     "iopub.execute_input": "2025-08-05T20:58:16.969872Z",
     "iopub.status.busy": "2025-08-05T20:58:16.969464Z",
     "iopub.status.idle": "2025-08-05T20:58:17.011463Z",
     "shell.execute_reply": "2025-08-05T20:58:17.010622Z"
    },
    "papermill": {
     "duration": 0.058901,
     "end_time": "2025-08-05T20:58:17.012912",
     "exception": false,
     "start_time": "2025-08-05T20:58:16.954011",
     "status": "completed"
    },
    "tags": []
   },
   "outputs": [],
   "source": [
    "# Auto-reload the custom package\n",
    "%load_ext autoreload\n",
    "%autoreload 1\n",
    "%aimport fairness_multiverse"
   ]
  },
  {
   "cell_type": "code",
   "execution_count": 7,
   "id": "01c5c9f3",
   "metadata": {
    "execution": {
     "iopub.execute_input": "2025-08-05T20:58:17.045183Z",
     "iopub.status.busy": "2025-08-05T20:58:17.044435Z",
     "iopub.status.idle": "2025-08-05T20:58:18.848352Z",
     "shell.execute_reply": "2025-08-05T20:58:18.847419Z"
    },
    "papermill": {
     "duration": 1.821857,
     "end_time": "2025-08-05T20:58:18.850194",
     "exception": false,
     "start_time": "2025-08-05T20:58:17.028337",
     "status": "completed"
    },
    "tags": []
   },
   "outputs": [],
   "source": [
    "from fairness_multiverse.universe import UniverseAnalysis\n",
    "\n",
    "universe_analysis = UniverseAnalysis(\n",
    "    run_no = run_no,\n",
    "    universe_id = universe_id,\n",
    "    universe = universe,\n",
    "    output_dir=output_dir,\n",
    ")"
   ]
  },
  {
   "cell_type": "code",
   "execution_count": 8,
   "id": "106241f5",
   "metadata": {
    "execution": {
     "iopub.execute_input": "2025-08-05T20:58:18.869540Z",
     "iopub.status.busy": "2025-08-05T20:58:18.869232Z",
     "iopub.status.idle": "2025-08-05T20:58:18.874562Z",
     "shell.execute_reply": "2025-08-05T20:58:18.873589Z"
    },
    "papermill": {
     "duration": 0.016409,
     "end_time": "2025-08-05T20:58:18.876105",
     "exception": false,
     "start_time": "2025-08-05T20:58:18.859696",
     "status": "completed"
    },
    "tags": []
   },
   "outputs": [
    {
     "name": "stdout",
     "output_type": "stream",
     "text": [
      "Using Seed: 2023\n"
     ]
    }
   ],
   "source": [
    "import numpy as np\n",
    "parsed_seed = int(seed)\n",
    "np.random.seed(parsed_seed)\n",
    "print(f\"Using Seed: {parsed_seed}\")"
   ]
  },
  {
   "cell_type": "markdown",
   "id": "e0ebdc57",
   "metadata": {
    "papermill": {
     "duration": 0.010822,
     "end_time": "2025-08-05T20:58:18.896333",
     "exception": false,
     "start_time": "2025-08-05T20:58:18.885511",
     "status": "completed"
    },
    "tags": []
   },
   "source": [
    "# Loading Data"
   ]
  },
  {
   "cell_type": "code",
   "execution_count": 9,
   "id": "f0496b8a",
   "metadata": {
    "execution": {
     "iopub.execute_input": "2025-08-05T20:58:18.914528Z",
     "iopub.status.busy": "2025-08-05T20:58:18.914129Z",
     "iopub.status.idle": "2025-08-05T20:58:30.824788Z",
     "shell.execute_reply": "2025-08-05T20:58:30.823365Z"
    },
    "papermill": {
     "duration": 11.921938,
     "end_time": "2025-08-05T20:58:30.826676",
     "exception": false,
     "start_time": "2025-08-05T20:58:18.904738",
     "status": "completed"
    },
    "tags": []
   },
   "outputs": [
    {
     "name": "stdout",
     "output_type": "stream",
     "text": [
      "Loading SIAB data from cache: data/siab_cached.csv.gz\n"
     ]
    },
    {
     "name": "stdout",
     "output_type": "stream",
     "text": [
      "(643690, 164)\n"
     ]
    }
   ],
   "source": [
    "from pathlib import Path\n",
    "import pandas as pd\n",
    "\n",
    "# File paths\n",
    "raw_file = Path(\"data/raw/siab.csv\")\n",
    "cache_file = Path(\"data/siab_cached.csv.gz\")\n",
    "\n",
    "# Ensure cache directory exists\n",
    "cache_file.parent.mkdir(parents=True, exist_ok=True)\n",
    "\n",
    "# Load with simple caching\n",
    "if cache_file.exists():\n",
    "    print(f\"Loading SIAB data from cache: {cache_file}\")\n",
    "    siab = pd.read_csv(cache_file, compression='gzip')\n",
    "else:\n",
    "    print(f\"Cache not found. Reading raw SIAB data: {raw_file}\")\n",
    "    siab = pd.read_csv(raw_file)\n",
    "    siab.to_csv(cache_file, index=False, compression='gzip')\n",
    "    print(f\"Cached SIAB data to: {cache_file}\")\n",
    "\n",
    "print(siab.shape)"
   ]
  },
  {
   "cell_type": "code",
   "execution_count": 10,
   "id": "db0ca512-5f53-4dba-abdb-a2888bca41ba",
   "metadata": {
    "execution": {
     "iopub.execute_input": "2025-08-05T20:58:30.868484Z",
     "iopub.status.busy": "2025-08-05T20:58:30.867846Z",
     "iopub.status.idle": "2025-08-05T20:58:30.874326Z",
     "shell.execute_reply": "2025-08-05T20:58:30.873249Z"
    },
    "papermill": {
     "duration": 0.027605,
     "end_time": "2025-08-05T20:58:30.875955",
     "exception": false,
     "start_time": "2025-08-05T20:58:30.848350",
     "status": "completed"
    },
    "tags": []
   },
   "outputs": [],
   "source": [
    "#siab"
   ]
  },
  {
   "cell_type": "markdown",
   "id": "997051c5-15bd-4b69-9786-c3001a3ce484",
   "metadata": {
    "papermill": {
     "duration": 0.018334,
     "end_time": "2025-08-05T20:58:30.915811",
     "exception": false,
     "start_time": "2025-08-05T20:58:30.897477",
     "status": "completed"
    },
    "tags": []
   },
   "source": [
    "# Splitting Data and Setting Training Data Size"
   ]
  },
  {
   "cell_type": "code",
   "execution_count": 11,
   "id": "aea9c6ef-6f46-42c8-85eb-5a62025c1508",
   "metadata": {
    "execution": {
     "iopub.execute_input": "2025-08-05T20:58:30.955170Z",
     "iopub.status.busy": "2025-08-05T20:58:30.954199Z",
     "iopub.status.idle": "2025-08-05T20:58:31.729746Z",
     "shell.execute_reply": "2025-08-05T20:58:31.728600Z"
    },
    "papermill": {
     "duration": 0.797235,
     "end_time": "2025-08-05T20:58:31.731634",
     "exception": false,
     "start_time": "2025-08-05T20:58:30.934399",
     "status": "completed"
    },
    "tags": []
   },
   "outputs": [],
   "source": [
    "from fairness_multiverse.universe import sample_by_year_size\n",
    "\n",
    "siab_train = sample_by_year_size(siab,\n",
    "                               training_year=universe[\"training_year\"],\n",
    "                               training_size=universe[\"training_size\"])"
   ]
  },
  {
   "cell_type": "code",
   "execution_count": 12,
   "id": "8d3afb32-789d-442c-8d5d-9f5aa8dd2eed",
   "metadata": {
    "execution": {
     "iopub.execute_input": "2025-08-05T20:58:31.769295Z",
     "iopub.status.busy": "2025-08-05T20:58:31.768793Z",
     "iopub.status.idle": "2025-08-05T20:58:31.774428Z",
     "shell.execute_reply": "2025-08-05T20:58:31.773173Z"
    },
    "papermill": {
     "duration": 0.02741,
     "end_time": "2025-08-05T20:58:31.776648",
     "exception": false,
     "start_time": "2025-08-05T20:58:31.749238",
     "status": "completed"
    },
    "tags": []
   },
   "outputs": [],
   "source": [
    "#siab_train.shape"
   ]
  },
  {
   "cell_type": "code",
   "execution_count": 13,
   "id": "d582db68-1a4c-47fb-84fc-08518dc1975a",
   "metadata": {
    "execution": {
     "iopub.execute_input": "2025-08-05T20:58:31.815908Z",
     "iopub.status.busy": "2025-08-05T20:58:31.815202Z",
     "iopub.status.idle": "2025-08-05T20:58:31.819417Z",
     "shell.execute_reply": "2025-08-05T20:58:31.818603Z"
    },
    "papermill": {
     "duration": 0.035483,
     "end_time": "2025-08-05T20:58:31.831910",
     "exception": false,
     "start_time": "2025-08-05T20:58:31.796427",
     "status": "completed"
    },
    "tags": []
   },
   "outputs": [],
   "source": [
    "#display(siab_train.groupby(\"year\").size())"
   ]
  },
  {
   "cell_type": "code",
   "execution_count": 14,
   "id": "a561edb4-d032-42cb-8256-22eac1111c64",
   "metadata": {
    "execution": {
     "iopub.execute_input": "2025-08-05T20:58:31.865423Z",
     "iopub.status.busy": "2025-08-05T20:58:31.865067Z",
     "iopub.status.idle": "2025-08-05T20:58:32.104277Z",
     "shell.execute_reply": "2025-08-05T20:58:32.103271Z"
    },
    "papermill": {
     "duration": 0.252507,
     "end_time": "2025-08-05T20:58:32.106372",
     "exception": false,
     "start_time": "2025-08-05T20:58:31.853865",
     "status": "completed"
    },
    "tags": []
   },
   "outputs": [],
   "source": [
    "#siab_train = siab_s[siab_s.year < 2015]\n",
    "siab_calib = siab[siab.year == 2015]\n",
    "siab_test = siab[siab.year == 2016]"
   ]
  },
  {
   "cell_type": "code",
   "execution_count": 15,
   "id": "472de16f-c3db-4916-846b-1f0de9cf1746",
   "metadata": {
    "execution": {
     "iopub.execute_input": "2025-08-05T20:58:32.149126Z",
     "iopub.status.busy": "2025-08-05T20:58:32.148649Z",
     "iopub.status.idle": "2025-08-05T20:58:32.164669Z",
     "shell.execute_reply": "2025-08-05T20:58:32.163514Z"
    },
    "papermill": {
     "duration": 0.040005,
     "end_time": "2025-08-05T20:58:32.166774",
     "exception": false,
     "start_time": "2025-08-05T20:58:32.126769",
     "status": "completed"
    },
    "tags": []
   },
   "outputs": [],
   "source": [
    "X_train = siab_train.iloc[:,4:164]\n",
    "y_train = siab_train.iloc[:, [3]]"
   ]
  },
  {
   "cell_type": "code",
   "execution_count": 16,
   "id": "828c96af-f43a-4ed6-ba47-8ac73a47d56c",
   "metadata": {
    "execution": {
     "iopub.execute_input": "2025-08-05T20:58:32.194600Z",
     "iopub.status.busy": "2025-08-05T20:58:32.194245Z",
     "iopub.status.idle": "2025-08-05T20:58:32.246133Z",
     "shell.execute_reply": "2025-08-05T20:58:32.244914Z"
    },
    "papermill": {
     "duration": 0.067291,
     "end_time": "2025-08-05T20:58:32.248421",
     "exception": false,
     "start_time": "2025-08-05T20:58:32.181130",
     "status": "completed"
    },
    "tags": []
   },
   "outputs": [],
   "source": [
    "X_calib = siab_calib.iloc[:,4:164]\n",
    "y_calib = siab_calib.iloc[:, [3]]"
   ]
  },
  {
   "cell_type": "code",
   "execution_count": 17,
   "id": "c34be9c3-6bd6-476e-acd3-845840e303be",
   "metadata": {
    "execution": {
     "iopub.execute_input": "2025-08-05T20:58:32.274012Z",
     "iopub.status.busy": "2025-08-05T20:58:32.273464Z",
     "iopub.status.idle": "2025-08-05T20:58:32.327335Z",
     "shell.execute_reply": "2025-08-05T20:58:32.326225Z"
    },
    "papermill": {
     "duration": 0.067051,
     "end_time": "2025-08-05T20:58:32.329073",
     "exception": false,
     "start_time": "2025-08-05T20:58:32.262022",
     "status": "completed"
    },
    "tags": []
   },
   "outputs": [],
   "source": [
    "X_test = siab_test.iloc[:,4:164]\n",
    "y_true = siab_test.iloc[:, [3]]"
   ]
  },
  {
   "cell_type": "code",
   "execution_count": 18,
   "id": "e6c733c5",
   "metadata": {
    "execution": {
     "iopub.execute_input": "2025-08-05T20:58:32.368460Z",
     "iopub.status.busy": "2025-08-05T20:58:32.367593Z",
     "iopub.status.idle": "2025-08-05T20:58:32.473686Z",
     "shell.execute_reply": "2025-08-05T20:58:32.472563Z"
    },
    "papermill": {
     "duration": 0.128501,
     "end_time": "2025-08-05T20:58:32.475930",
     "exception": false,
     "start_time": "2025-08-05T20:58:32.347429",
     "status": "completed"
    },
    "tags": []
   },
   "outputs": [],
   "source": [
    "# Auxiliary data needed downstream in the pipeline\n",
    "\n",
    "org_train = X_train.copy()\n",
    "org_test = X_test.copy()\n",
    "org_calib = X_calib.copy()"
   ]
  },
  {
   "cell_type": "markdown",
   "id": "0a4a1b33",
   "metadata": {
    "papermill": {
     "duration": 0.017311,
     "end_time": "2025-08-05T20:58:32.511654",
     "exception": false,
     "start_time": "2025-08-05T20:58:32.494343",
     "status": "completed"
    },
    "tags": []
   },
   "source": [
    "# Preprocessing Data"
   ]
  },
  {
   "cell_type": "code",
   "execution_count": 19,
   "id": "ca879031",
   "metadata": {
    "execution": {
     "iopub.execute_input": "2025-08-05T20:58:32.550582Z",
     "iopub.status.busy": "2025-08-05T20:58:32.549871Z",
     "iopub.status.idle": "2025-08-05T20:58:32.558500Z",
     "shell.execute_reply": "2025-08-05T20:58:32.557182Z"
    },
    "papermill": {
     "duration": 0.030146,
     "end_time": "2025-08-05T20:58:32.560541",
     "exception": false,
     "start_time": "2025-08-05T20:58:32.530395",
     "status": "completed"
    },
    "tags": []
   },
   "outputs": [],
   "source": [
    "# EXCLUDE PROTECTED FEATURES\n",
    "# ----------------------\n",
    "# \"exclude_features\": \"none\", # \"nationality\", \"sex\", \"nationality-sex\"\n",
    "\n",
    "excluded_features = universe[\"exclude_features\"].split(\"-\") # split, e.g.: \"nationality-sex\" -> [\"nationality\", \"sex\"]\n",
    "excluded_features_dictionary = {\n",
    "    \"nationality\": [\"maxdeutsch1\", \"maxdeutsch.Missing.\"],\n",
    "    \"sex\": [\"frau1\"],\n",
    "    \"age\": [\"age\"],\n",
    "}"
   ]
  },
  {
   "cell_type": "code",
   "execution_count": 20,
   "id": "b745ac60",
   "metadata": {
    "execution": {
     "iopub.execute_input": "2025-08-05T20:58:32.600613Z",
     "iopub.status.busy": "2025-08-05T20:58:32.599854Z",
     "iopub.status.idle": "2025-08-05T20:58:32.605829Z",
     "shell.execute_reply": "2025-08-05T20:58:32.604774Z"
    },
    "papermill": {
     "duration": 0.028009,
     "end_time": "2025-08-05T20:58:32.607743",
     "exception": false,
     "start_time": "2025-08-05T20:58:32.579734",
     "status": "completed"
    },
    "tags": []
   },
   "outputs": [],
   "source": [
    "# Code nice names to column names\n",
    "\n",
    "excluded_features_columns = [\n",
    "    excluded_features_dictionary[f] for f in excluded_features if len(f) > 0 and f != \"none\"\n",
    "]"
   ]
  },
  {
   "cell_type": "code",
   "execution_count": 21,
   "id": "f84f73a2",
   "metadata": {
    "execution": {
     "iopub.execute_input": "2025-08-05T20:58:32.649959Z",
     "iopub.status.busy": "2025-08-05T20:58:32.649553Z",
     "iopub.status.idle": "2025-08-05T20:58:32.656070Z",
     "shell.execute_reply": "2025-08-05T20:58:32.654943Z"
    },
    "papermill": {
     "duration": 0.02956,
     "end_time": "2025-08-05T20:58:32.657726",
     "exception": false,
     "start_time": "2025-08-05T20:58:32.628166",
     "status": "completed"
    },
    "tags": []
   },
   "outputs": [],
   "source": [
    "from utils import flatten_once\n",
    "\n",
    "excluded_features_columns = flatten_once(excluded_features_columns)"
   ]
  },
  {
   "cell_type": "code",
   "execution_count": 22,
   "id": "884dea22",
   "metadata": {
    "execution": {
     "iopub.execute_input": "2025-08-05T20:58:32.698477Z",
     "iopub.status.busy": "2025-08-05T20:58:32.697564Z",
     "iopub.status.idle": "2025-08-05T20:58:32.713671Z",
     "shell.execute_reply": "2025-08-05T20:58:32.712558Z"
    },
    "papermill": {
     "duration": 0.038574,
     "end_time": "2025-08-05T20:58:32.715528",
     "exception": false,
     "start_time": "2025-08-05T20:58:32.676954",
     "status": "completed"
    },
    "tags": []
   },
   "outputs": [
    {
     "name": "stdout",
     "output_type": "stream",
     "text": [
      "Dropping features: ['maxdeutsch1', 'maxdeutsch.Missing.']\n"
     ]
    }
   ],
   "source": [
    "if len(excluded_features_columns) > 0:\n",
    "    print(f\"Dropping features: {excluded_features_columns}\")\n",
    "    X_train.drop(excluded_features_columns, axis=1, inplace=True)"
   ]
  },
  {
   "cell_type": "code",
   "execution_count": 23,
   "id": "95ab8b16",
   "metadata": {
    "execution": {
     "iopub.execute_input": "2025-08-05T20:58:32.755921Z",
     "iopub.status.busy": "2025-08-05T20:58:32.754786Z",
     "iopub.status.idle": "2025-08-05T20:58:32.810283Z",
     "shell.execute_reply": "2025-08-05T20:58:32.808893Z"
    },
    "papermill": {
     "duration": 0.077037,
     "end_time": "2025-08-05T20:58:32.812252",
     "exception": false,
     "start_time": "2025-08-05T20:58:32.735215",
     "status": "completed"
    },
    "tags": []
   },
   "outputs": [
    {
     "name": "stdout",
     "output_type": "stream",
     "text": [
      "Dropping features: ['maxdeutsch1', 'maxdeutsch.Missing.']\n"
     ]
    }
   ],
   "source": [
    "if len(excluded_features_columns) > 0:\n",
    "    print(f\"Dropping features: {excluded_features_columns}\")\n",
    "    X_test.drop(excluded_features_columns, axis=1, inplace=True)"
   ]
  },
  {
   "cell_type": "code",
   "execution_count": 24,
   "id": "1853aaf5-fb9f-46cb-a2b5-8ea4ae2237e4",
   "metadata": {
    "execution": {
     "iopub.execute_input": "2025-08-05T20:58:32.855846Z",
     "iopub.status.busy": "2025-08-05T20:58:32.855182Z",
     "iopub.status.idle": "2025-08-05T20:58:32.926135Z",
     "shell.execute_reply": "2025-08-05T20:58:32.925035Z"
    },
    "papermill": {
     "duration": 0.093206,
     "end_time": "2025-08-05T20:58:32.928226",
     "exception": false,
     "start_time": "2025-08-05T20:58:32.835020",
     "status": "completed"
    },
    "tags": []
   },
   "outputs": [
    {
     "name": "stdout",
     "output_type": "stream",
     "text": [
      "Dropping features: ['maxdeutsch1', 'maxdeutsch.Missing.']\n"
     ]
    }
   ],
   "source": [
    "if len(excluded_features_columns) > 0:\n",
    "    print(f\"Dropping features: {excluded_features_columns}\")\n",
    "    X_calib.drop(excluded_features_columns, axis=1, inplace=True)"
   ]
  },
  {
   "cell_type": "code",
   "execution_count": 25,
   "id": "76c4dc6d",
   "metadata": {
    "execution": {
     "iopub.execute_input": "2025-08-05T20:58:32.972712Z",
     "iopub.status.busy": "2025-08-05T20:58:32.972015Z",
     "iopub.status.idle": "2025-08-05T20:58:32.977783Z",
     "shell.execute_reply": "2025-08-05T20:58:32.976685Z"
    },
    "papermill": {
     "duration": 0.029869,
     "end_time": "2025-08-05T20:58:32.979851",
     "exception": false,
     "start_time": "2025-08-05T20:58:32.949982",
     "status": "completed"
    },
    "tags": []
   },
   "outputs": [],
   "source": [
    "# EXCLUDE CERTAIN SUBGROUPS\n",
    "# ----------------------\n",
    "\n",
    "mode = universe.get(\"exclude_subgroups\", \"keep-all\") \n",
    "# Fetches the exclude_subgroups setting from the universe dict.\n",
    "# Defaults to \"keep-all\" if the key is missing."
   ]
  },
  {
   "cell_type": "code",
   "execution_count": 26,
   "id": "21994072",
   "metadata": {
    "execution": {
     "iopub.execute_input": "2025-08-05T20:58:33.024585Z",
     "iopub.status.busy": "2025-08-05T20:58:33.023938Z",
     "iopub.status.idle": "2025-08-05T20:58:33.031257Z",
     "shell.execute_reply": "2025-08-05T20:58:33.030227Z"
    },
    "papermill": {
     "duration": 0.031548,
     "end_time": "2025-08-05T20:58:33.033137",
     "exception": false,
     "start_time": "2025-08-05T20:58:33.001589",
     "status": "completed"
    },
    "tags": []
   },
   "outputs": [],
   "source": [
    "if mode == \"keep-all\":\n",
    "    keep_mask = pd.Series(True, index=org_train.index)\n",
    "\n",
    "# org_train contains the original feature columns from features_org (in Simson)\n",
    "# features_org contains unprocessed features, for me X_train at beginning ???\n",
    "# For keep-all, creates a boolean Series (keep_mask) of all True, so no rows are removed.\n",
    "\n",
    "elif mode == \"drop-non-german\":\n",
    "    keep_mask = org_train[\"maxdeutsch1\"] == 1 # ??? what about missing values?\n",
    "\n",
    "else:\n",
    "    raise ValueError(f\"Unsupported mode for exclude_subgroups: {mode}\")"
   ]
  },
  {
   "cell_type": "code",
   "execution_count": 27,
   "id": "71651440",
   "metadata": {
    "execution": {
     "iopub.execute_input": "2025-08-05T20:58:33.077524Z",
     "iopub.status.busy": "2025-08-05T20:58:33.076865Z",
     "iopub.status.idle": "2025-08-05T20:58:33.084958Z",
     "shell.execute_reply": "2025-08-05T20:58:33.083622Z"
    },
    "papermill": {
     "duration": 0.032031,
     "end_time": "2025-08-05T20:58:33.086929",
     "exception": false,
     "start_time": "2025-08-05T20:58:33.054898",
     "status": "completed"
    },
    "tags": []
   },
   "outputs": [],
   "source": [
    "n_drop = (~keep_mask).sum() # Calculates how many rows are set to be dropped\n",
    "if n_drop > 0:\n",
    "    pct = n_drop / len(keep_mask) * 100\n",
    "    print(f\"Dropping {n_drop} rows ({pct:.2f}%) where mode='{mode}'\")"
   ]
  },
  {
   "cell_type": "code",
   "execution_count": 28,
   "id": "5fb8eee5",
   "metadata": {
    "execution": {
     "iopub.execute_input": "2025-08-05T20:58:33.131581Z",
     "iopub.status.busy": "2025-08-05T20:58:33.131025Z",
     "iopub.status.idle": "2025-08-05T20:58:33.146393Z",
     "shell.execute_reply": "2025-08-05T20:58:33.145244Z"
    },
    "papermill": {
     "duration": 0.03981,
     "end_time": "2025-08-05T20:58:33.148566",
     "exception": false,
     "start_time": "2025-08-05T20:58:33.108756",
     "status": "completed"
    },
    "tags": []
   },
   "outputs": [],
   "source": [
    "X_train = X_train[keep_mask]"
   ]
  },
  {
   "cell_type": "code",
   "execution_count": 29,
   "id": "b202bb3a",
   "metadata": {
    "execution": {
     "iopub.execute_input": "2025-08-05T20:58:33.193265Z",
     "iopub.status.busy": "2025-08-05T20:58:33.192757Z",
     "iopub.status.idle": "2025-08-05T20:58:33.200086Z",
     "shell.execute_reply": "2025-08-05T20:58:33.198930Z"
    },
    "papermill": {
     "duration": 0.033635,
     "end_time": "2025-08-05T20:58:33.204215",
     "exception": false,
     "start_time": "2025-08-05T20:58:33.170580",
     "status": "completed"
    },
    "tags": []
   },
   "outputs": [],
   "source": [
    "y_train = y_train[keep_mask]"
   ]
  },
  {
   "cell_type": "markdown",
   "id": "493e2ac3",
   "metadata": {
    "papermill": {
     "duration": 0.022172,
     "end_time": "2025-08-05T20:58:33.248280",
     "exception": false,
     "start_time": "2025-08-05T20:58:33.226108",
     "status": "completed"
    },
    "tags": []
   },
   "source": [
    "# Model Training"
   ]
  },
  {
   "cell_type": "code",
   "execution_count": 30,
   "id": "679e1268",
   "metadata": {
    "execution": {
     "iopub.execute_input": "2025-08-05T20:58:33.293035Z",
     "iopub.status.busy": "2025-08-05T20:58:33.292321Z",
     "iopub.status.idle": "2025-08-05T20:58:33.401527Z",
     "shell.execute_reply": "2025-08-05T20:58:33.400510Z"
    },
    "papermill": {
     "duration": 0.132305,
     "end_time": "2025-08-05T20:58:33.403462",
     "exception": false,
     "start_time": "2025-08-05T20:58:33.271157",
     "status": "completed"
    },
    "tags": []
   },
   "outputs": [],
   "source": [
    "from sklearn.linear_model import LogisticRegression\n",
    "from sklearn.ensemble import GradientBoostingClassifier, RandomForestClassifier\n",
    "\n",
    "if (universe[\"model\"] == \"logreg\"):\n",
    "    model = LogisticRegression() #penalty=\"none\", solver=\"newton-cg\", max_iter=1) # include random_state=19 ?\n",
    "elif (universe[\"model\"] == \"penalized_logreg\"):\n",
    "    model = LogisticRegression(penalty=\"l2\", C=0.1) #, solver=\"newton-cg\", max_iter=1)\n",
    "elif (universe[\"model\"] == \"rf\"):\n",
    "    model = RandomForestClassifier() # n_estimators=100, n_jobs=-1\n",
    "elif (universe[\"model\"] == \"gbm\"):\n",
    "    model = GradientBoostingClassifier()\n",
    "elif (universe[\"model\"] == \"elasticnet\"):\n",
    "    model = LogisticRegression(penalty = 'elasticnet', solver = 'saga', l1_ratio = 0.5) # max_iter=5000\n",
    "else:\n",
    "    raise \"Unsupported universe.model\""
   ]
  },
  {
   "cell_type": "code",
   "execution_count": 31,
   "id": "0cc8f744",
   "metadata": {
    "execution": {
     "iopub.execute_input": "2025-08-05T20:58:33.448010Z",
     "iopub.status.busy": "2025-08-05T20:58:33.447281Z",
     "iopub.status.idle": "2025-08-05T20:58:33.454231Z",
     "shell.execute_reply": "2025-08-05T20:58:33.453270Z"
    },
    "papermill": {
     "duration": 0.030485,
     "end_time": "2025-08-05T20:58:33.455747",
     "exception": false,
     "start_time": "2025-08-05T20:58:33.425262",
     "status": "completed"
    },
    "tags": []
   },
   "outputs": [],
   "source": [
    "import numpy as np\n",
    "from sklearn.pipeline import Pipeline\n",
    "from sklearn.preprocessing import StandardScaler\n",
    "\n",
    "model = Pipeline([\n",
    "    #(\"continuous_processor\", continuous_processor),\n",
    "    #(\"categorical_preprocessor\", categorical_preprocessor),\n",
    "    (\"scale\", StandardScaler() if universe[\"scale\"] == \"scale\" else None), \n",
    "    (\"model\", model),\n",
    "])"
   ]
  },
  {
   "cell_type": "code",
   "execution_count": 32,
   "id": "9442c04d",
   "metadata": {
    "execution": {
     "iopub.execute_input": "2025-08-05T20:58:33.496727Z",
     "iopub.status.busy": "2025-08-05T20:58:33.495841Z",
     "iopub.status.idle": "2025-08-05T20:58:34.179238Z",
     "shell.execute_reply": "2025-08-05T20:58:34.178492Z"
    },
    "papermill": {
     "duration": 0.705236,
     "end_time": "2025-08-05T20:58:34.180562",
     "exception": false,
     "start_time": "2025-08-05T20:58:33.475326",
     "status": "completed"
    },
    "tags": []
   },
   "outputs": [
    {
     "name": "stderr",
     "output_type": "stream",
     "text": [
      "/dss/dsshome1/0C/ra93lal2/.local/share/virtualenvs/CMA_Fairness_v2-3j10GkSs/lib/python3.10/site-packages/sklearn/linear_model/_logistic.py:444: ConvergenceWarning: lbfgs failed to converge (status=1):\n",
      "STOP: TOTAL NO. of ITERATIONS REACHED LIMIT.\n",
      "\n",
      "Increase the number of iterations (max_iter) or scale the data as shown in:\n",
      "    https://scikit-learn.org/stable/modules/preprocessing.html\n",
      "Please also refer to the documentation for alternative solver options:\n",
      "    https://scikit-learn.org/stable/modules/linear_model.html#logistic-regression\n",
      "  n_iter_i = _check_optimize_result(\n"
     ]
    },
    {
     "data": {
      "text/html": [
       "<style>#sk-container-id-1 {color: black;background-color: white;}#sk-container-id-1 pre{padding: 0;}#sk-container-id-1 div.sk-toggleable {background-color: white;}#sk-container-id-1 label.sk-toggleable__label {cursor: pointer;display: block;width: 100%;margin-bottom: 0;padding: 0.3em;box-sizing: border-box;text-align: center;}#sk-container-id-1 label.sk-toggleable__label-arrow:before {content: \"▸\";float: left;margin-right: 0.25em;color: #696969;}#sk-container-id-1 label.sk-toggleable__label-arrow:hover:before {color: black;}#sk-container-id-1 div.sk-estimator:hover label.sk-toggleable__label-arrow:before {color: black;}#sk-container-id-1 div.sk-toggleable__content {max-height: 0;max-width: 0;overflow: hidden;text-align: left;background-color: #f0f8ff;}#sk-container-id-1 div.sk-toggleable__content pre {margin: 0.2em;color: black;border-radius: 0.25em;background-color: #f0f8ff;}#sk-container-id-1 input.sk-toggleable__control:checked~div.sk-toggleable__content {max-height: 200px;max-width: 100%;overflow: auto;}#sk-container-id-1 input.sk-toggleable__control:checked~label.sk-toggleable__label-arrow:before {content: \"▾\";}#sk-container-id-1 div.sk-estimator input.sk-toggleable__control:checked~label.sk-toggleable__label {background-color: #d4ebff;}#sk-container-id-1 div.sk-label input.sk-toggleable__control:checked~label.sk-toggleable__label {background-color: #d4ebff;}#sk-container-id-1 input.sk-hidden--visually {border: 0;clip: rect(1px 1px 1px 1px);clip: rect(1px, 1px, 1px, 1px);height: 1px;margin: -1px;overflow: hidden;padding: 0;position: absolute;width: 1px;}#sk-container-id-1 div.sk-estimator {font-family: monospace;background-color: #f0f8ff;border: 1px dotted black;border-radius: 0.25em;box-sizing: border-box;margin-bottom: 0.5em;}#sk-container-id-1 div.sk-estimator:hover {background-color: #d4ebff;}#sk-container-id-1 div.sk-parallel-item::after {content: \"\";width: 100%;border-bottom: 1px solid gray;flex-grow: 1;}#sk-container-id-1 div.sk-label:hover label.sk-toggleable__label {background-color: #d4ebff;}#sk-container-id-1 div.sk-serial::before {content: \"\";position: absolute;border-left: 1px solid gray;box-sizing: border-box;top: 0;bottom: 0;left: 50%;z-index: 0;}#sk-container-id-1 div.sk-serial {display: flex;flex-direction: column;align-items: center;background-color: white;padding-right: 0.2em;padding-left: 0.2em;position: relative;}#sk-container-id-1 div.sk-item {position: relative;z-index: 1;}#sk-container-id-1 div.sk-parallel {display: flex;align-items: stretch;justify-content: center;background-color: white;position: relative;}#sk-container-id-1 div.sk-item::before, #sk-container-id-1 div.sk-parallel-item::before {content: \"\";position: absolute;border-left: 1px solid gray;box-sizing: border-box;top: 0;bottom: 0;left: 50%;z-index: -1;}#sk-container-id-1 div.sk-parallel-item {display: flex;flex-direction: column;z-index: 1;position: relative;background-color: white;}#sk-container-id-1 div.sk-parallel-item:first-child::after {align-self: flex-end;width: 50%;}#sk-container-id-1 div.sk-parallel-item:last-child::after {align-self: flex-start;width: 50%;}#sk-container-id-1 div.sk-parallel-item:only-child::after {width: 0;}#sk-container-id-1 div.sk-dashed-wrapped {border: 1px dashed gray;margin: 0 0.4em 0.5em 0.4em;box-sizing: border-box;padding-bottom: 0.4em;background-color: white;}#sk-container-id-1 div.sk-label label {font-family: monospace;font-weight: bold;display: inline-block;line-height: 1.2em;}#sk-container-id-1 div.sk-label-container {text-align: center;}#sk-container-id-1 div.sk-container {/* jupyter's `normalize.less` sets `[hidden] { display: none; }` but bootstrap.min.css set `[hidden] { display: none !important; }` so we also need the `!important` here to be able to override the default hidden behavior on the sphinx rendered scikit-learn.org. See: https://github.com/scikit-learn/scikit-learn/issues/21755 */display: inline-block !important;position: relative;}#sk-container-id-1 div.sk-text-repr-fallback {display: none;}</style><div id=\"sk-container-id-1\" class=\"sk-top-container\"><div class=\"sk-text-repr-fallback\"><pre>Pipeline(steps=[(&#x27;scale&#x27;, None), (&#x27;model&#x27;, LogisticRegression(C=0.1))])</pre><b>In a Jupyter environment, please rerun this cell to show the HTML representation or trust the notebook. <br />On GitHub, the HTML representation is unable to render, please try loading this page with nbviewer.org.</b></div><div class=\"sk-container\" hidden><div class=\"sk-item sk-dashed-wrapped\"><div class=\"sk-label-container\"><div class=\"sk-label sk-toggleable\"><input class=\"sk-toggleable__control sk-hidden--visually\" id=\"sk-estimator-id-1\" type=\"checkbox\" ><label for=\"sk-estimator-id-1\" class=\"sk-toggleable__label sk-toggleable__label-arrow\">Pipeline</label><div class=\"sk-toggleable__content\"><pre>Pipeline(steps=[(&#x27;scale&#x27;, None), (&#x27;model&#x27;, LogisticRegression(C=0.1))])</pre></div></div></div><div class=\"sk-serial\"><div class=\"sk-item\"><div class=\"sk-estimator sk-toggleable\"><input class=\"sk-toggleable__control sk-hidden--visually\" id=\"sk-estimator-id-2\" type=\"checkbox\" ><label for=\"sk-estimator-id-2\" class=\"sk-toggleable__label sk-toggleable__label-arrow\">None</label><div class=\"sk-toggleable__content\"><pre>None</pre></div></div></div><div class=\"sk-item\"><div class=\"sk-estimator sk-toggleable\"><input class=\"sk-toggleable__control sk-hidden--visually\" id=\"sk-estimator-id-3\" type=\"checkbox\" ><label for=\"sk-estimator-id-3\" class=\"sk-toggleable__label sk-toggleable__label-arrow\">LogisticRegression</label><div class=\"sk-toggleable__content\"><pre>LogisticRegression(C=0.1)</pre></div></div></div></div></div></div></div>"
      ],
      "text/plain": [
       "Pipeline(steps=[('scale', None), ('model', LogisticRegression(C=0.1))])"
      ]
     },
     "execution_count": 32,
     "metadata": {},
     "output_type": "execute_result"
    }
   ],
   "source": [
    "model.fit(X_train, y_train.values.ravel())"
   ]
  },
  {
   "cell_type": "code",
   "execution_count": 33,
   "id": "af59f8c0",
   "metadata": {
    "execution": {
     "iopub.execute_input": "2025-08-05T20:58:34.202096Z",
     "iopub.status.busy": "2025-08-05T20:58:34.201781Z",
     "iopub.status.idle": "2025-08-05T20:58:34.206046Z",
     "shell.execute_reply": "2025-08-05T20:58:34.205181Z"
    },
    "papermill": {
     "duration": 0.016467,
     "end_time": "2025-08-05T20:58:34.207519",
     "exception": false,
     "start_time": "2025-08-05T20:58:34.191052",
     "status": "completed"
    },
    "tags": []
   },
   "outputs": [],
   "source": [
    "from fairness_multiverse.universe import predict_w_threshold"
   ]
  },
  {
   "cell_type": "code",
   "execution_count": 34,
   "id": "a7cf2e16",
   "metadata": {
    "execution": {
     "iopub.execute_input": "2025-08-05T20:58:34.241033Z",
     "iopub.status.busy": "2025-08-05T20:58:34.240473Z",
     "iopub.status.idle": "2025-08-05T20:58:34.337824Z",
     "shell.execute_reply": "2025-08-05T20:58:34.336854Z"
    },
    "papermill": {
     "duration": 0.11686,
     "end_time": "2025-08-05T20:58:34.339375",
     "exception": false,
     "start_time": "2025-08-05T20:58:34.222515",
     "status": "completed"
    },
    "tags": []
   },
   "outputs": [
    {
     "data": {
      "text/plain": [
       "0.8622784527923308"
      ]
     },
     "execution_count": 34,
     "metadata": {},
     "output_type": "execute_result"
    }
   ],
   "source": [
    "probs_test = model.predict_proba(X_test)\n",
    "\n",
    "'''\n",
    "Below code returns a boolean array (or binary 0/1 array depending on how it’s used) where each element \n",
    "is True if the probability of class 1 is greater than or equal to the threshold, and False otherwise.\n",
    "'''\n",
    "y_pred_default = predict_w_threshold(probs_test, 0.5)\n",
    "\n",
    "from sklearn.metrics import accuracy_score\n",
    "\n",
    "# Naive prediction\n",
    "accuracy_score(y_true = y_true, y_pred = y_pred_default)"
   ]
  },
  {
   "cell_type": "code",
   "execution_count": 35,
   "id": "081964c3",
   "metadata": {
    "execution": {
     "iopub.execute_input": "2025-08-05T20:58:34.381149Z",
     "iopub.status.busy": "2025-08-05T20:58:34.380432Z",
     "iopub.status.idle": "2025-08-05T20:58:34.465454Z",
     "shell.execute_reply": "2025-08-05T20:58:34.464458Z"
    },
    "papermill": {
     "duration": 0.108016,
     "end_time": "2025-08-05T20:58:34.467351",
     "exception": false,
     "start_time": "2025-08-05T20:58:34.359335",
     "status": "completed"
    },
    "tags": []
   },
   "outputs": [
    {
     "data": {
      "text/plain": [
       "array([0, 0, 0, ..., 0, 0, 0])"
      ]
     },
     "execution_count": 35,
     "metadata": {},
     "output_type": "execute_result"
    }
   ],
   "source": [
    "model.predict(X_test)"
   ]
  },
  {
   "cell_type": "markdown",
   "id": "56c9705b",
   "metadata": {
    "papermill": {
     "duration": 0.023357,
     "end_time": "2025-08-05T20:58:34.511010",
     "exception": false,
     "start_time": "2025-08-05T20:58:34.487653",
     "status": "completed"
    },
    "tags": []
   },
   "source": [
    "# Conformal Prediction"
   ]
  },
  {
   "cell_type": "code",
   "execution_count": 36,
   "id": "160ec6ff",
   "metadata": {
    "execution": {
     "iopub.execute_input": "2025-08-05T20:58:34.561589Z",
     "iopub.status.busy": "2025-08-05T20:58:34.560781Z",
     "iopub.status.idle": "2025-08-05T20:58:34.566849Z",
     "shell.execute_reply": "2025-08-05T20:58:34.565795Z"
    },
    "papermill": {
     "duration": 0.033174,
     "end_time": "2025-08-05T20:58:34.568548",
     "exception": false,
     "start_time": "2025-08-05T20:58:34.535374",
     "status": "completed"
    },
    "tags": []
   },
   "outputs": [],
   "source": [
    "# Miscoverage level for conformal prediction (10% allowed error rate => 90% target coverage)\n",
    "alpha = 0.1"
   ]
  },
  {
   "cell_type": "code",
   "execution_count": 37,
   "id": "eadf4555-3dd3-440e-8e35-f82a4ad9f855",
   "metadata": {
    "execution": {
     "iopub.execute_input": "2025-08-05T20:58:34.619845Z",
     "iopub.status.busy": "2025-08-05T20:58:34.618999Z",
     "iopub.status.idle": "2025-08-05T20:58:34.729279Z",
     "shell.execute_reply": "2025-08-05T20:58:34.728215Z"
    },
    "papermill": {
     "duration": 0.137583,
     "end_time": "2025-08-05T20:58:34.731589",
     "exception": false,
     "start_time": "2025-08-05T20:58:34.594006",
     "status": "completed"
    },
    "tags": []
   },
   "outputs": [],
   "source": [
    "probs_calib = model.predict_proba(X_calib)"
   ]
  },
  {
   "cell_type": "code",
   "execution_count": 38,
   "id": "2ed93547-6d5d-4983-9b36-1ecb300da49a",
   "metadata": {
    "execution": {
     "iopub.execute_input": "2025-08-05T20:58:34.783101Z",
     "iopub.status.busy": "2025-08-05T20:58:34.782389Z",
     "iopub.status.idle": "2025-08-05T20:58:34.788571Z",
     "shell.execute_reply": "2025-08-05T20:58:34.787551Z"
    },
    "papermill": {
     "duration": 0.047146,
     "end_time": "2025-08-05T20:58:34.803569",
     "exception": false,
     "start_time": "2025-08-05T20:58:34.756423",
     "status": "completed"
    },
    "tags": []
   },
   "outputs": [],
   "source": [
    "y_calib = y_calib.values.ravel().astype(int)"
   ]
  },
  {
   "cell_type": "code",
   "execution_count": 39,
   "id": "65d1320d-f588-4b38-9072-62af1ae97f7d",
   "metadata": {
    "execution": {
     "iopub.execute_input": "2025-08-05T20:58:34.856284Z",
     "iopub.status.busy": "2025-08-05T20:58:34.855780Z",
     "iopub.status.idle": "2025-08-05T20:58:34.864946Z",
     "shell.execute_reply": "2025-08-05T20:58:34.863890Z"
    },
    "papermill": {
     "duration": 0.035012,
     "end_time": "2025-08-05T20:58:34.866763",
     "exception": false,
     "start_time": "2025-08-05T20:58:34.831751",
     "status": "completed"
    },
    "tags": []
   },
   "outputs": [],
   "source": [
    "from fairness_multiverse.conformal import compute_nc_scores\n",
    "\n",
    "# Compute nonconformity scores on calibration set (1 - probability of true class)\n",
    "nc_scores = compute_nc_scores(probs_calib, y_calib)"
   ]
  },
  {
   "cell_type": "code",
   "execution_count": 40,
   "id": "df3b8ca3-53b7-43d5-9667-7c85da7aeda2",
   "metadata": {
    "execution": {
     "iopub.execute_input": "2025-08-05T20:58:34.921293Z",
     "iopub.status.busy": "2025-08-05T20:58:34.920410Z",
     "iopub.status.idle": "2025-08-05T20:58:34.927899Z",
     "shell.execute_reply": "2025-08-05T20:58:34.926901Z"
    },
    "papermill": {
     "duration": 0.038231,
     "end_time": "2025-08-05T20:58:34.929783",
     "exception": false,
     "start_time": "2025-08-05T20:58:34.891552",
     "status": "completed"
    },
    "tags": []
   },
   "outputs": [],
   "source": [
    "from fairness_multiverse.conformal import find_threshold\n",
    "\n",
    "# Find conformal threshold q_hat for the given alpha (split conformal method)\n",
    "q_hat = find_threshold(nc_scores, alpha)"
   ]
  },
  {
   "cell_type": "code",
   "execution_count": 41,
   "id": "4d29e6c1-0ef6-4aa4-b8fe-4fe79b0d033a",
   "metadata": {
    "execution": {
     "iopub.execute_input": "2025-08-05T20:58:34.975863Z",
     "iopub.status.busy": "2025-08-05T20:58:34.975349Z",
     "iopub.status.idle": "2025-08-05T20:58:34.982834Z",
     "shell.execute_reply": "2025-08-05T20:58:34.981732Z"
    },
    "papermill": {
     "duration": 0.033522,
     "end_time": "2025-08-05T20:58:34.984567",
     "exception": false,
     "start_time": "2025-08-05T20:58:34.951045",
     "status": "completed"
    },
    "tags": []
   },
   "outputs": [
    {
     "data": {
      "text/plain": [
       "0.6827405380735201"
      ]
     },
     "execution_count": 41,
     "metadata": {},
     "output_type": "execute_result"
    }
   ],
   "source": [
    "q_hat"
   ]
  },
  {
   "cell_type": "code",
   "execution_count": 42,
   "id": "92460794-cdac-4be2-ba28-f28c0515a6fb",
   "metadata": {
    "execution": {
     "iopub.execute_input": "2025-08-05T20:58:35.027855Z",
     "iopub.status.busy": "2025-08-05T20:58:35.027348Z",
     "iopub.status.idle": "2025-08-05T20:58:36.155294Z",
     "shell.execute_reply": "2025-08-05T20:58:36.154486Z"
    },
    "papermill": {
     "duration": 1.150913,
     "end_time": "2025-08-05T20:58:36.156783",
     "exception": false,
     "start_time": "2025-08-05T20:58:35.005870",
     "status": "completed"
    },
    "tags": []
   },
   "outputs": [],
   "source": [
    "from fairness_multiverse.conformal import predict_conformal_sets\n",
    "\n",
    "# Generate prediction sets for each test example\n",
    "pred_sets = predict_conformal_sets(model, X_test, q_hat)"
   ]
  },
  {
   "cell_type": "code",
   "execution_count": 43,
   "id": "d90c9a65-e6db-4f5d-80cd-e68fb7e46829",
   "metadata": {
    "execution": {
     "iopub.execute_input": "2025-08-05T20:58:36.179749Z",
     "iopub.status.busy": "2025-08-05T20:58:36.179014Z",
     "iopub.status.idle": "2025-08-05T20:58:36.184099Z",
     "shell.execute_reply": "2025-08-05T20:58:36.183310Z"
    },
    "papermill": {
     "duration": 0.017584,
     "end_time": "2025-08-05T20:58:36.185474",
     "exception": false,
     "start_time": "2025-08-05T20:58:36.167890",
     "status": "completed"
    },
    "tags": []
   },
   "outputs": [],
   "source": [
    "y_true = y_true.squeeze()"
   ]
  },
  {
   "cell_type": "code",
   "execution_count": 44,
   "id": "3a58a54a-1e68-46b9-927a-df01f18aebc8",
   "metadata": {
    "execution": {
     "iopub.execute_input": "2025-08-05T20:58:36.227676Z",
     "iopub.status.busy": "2025-08-05T20:58:36.227284Z",
     "iopub.status.idle": "2025-08-05T20:58:37.187721Z",
     "shell.execute_reply": "2025-08-05T20:58:37.186578Z"
    },
    "papermill": {
     "duration": 0.984077,
     "end_time": "2025-08-05T20:58:37.190067",
     "exception": false,
     "start_time": "2025-08-05T20:58:36.205990",
     "status": "completed"
    },
    "tags": []
   },
   "outputs": [],
   "source": [
    "from fairness_multiverse.conformal import evaluate_sets\n",
    "\n",
    "# Evaluate coverage and average set size on test data\n",
    "metrics = evaluate_sets(pred_sets, y_true)"
   ]
  },
  {
   "cell_type": "markdown",
   "id": "2b569c12-9aaa-4c88-98c9-bbcd0cf3ebb8",
   "metadata": {
    "papermill": {
     "duration": 0.027109,
     "end_time": "2025-08-05T20:58:37.248840",
     "exception": false,
     "start_time": "2025-08-05T20:58:37.221731",
     "status": "completed"
    },
    "tags": []
   },
   "source": [
    "# CP Metrics"
   ]
  },
  {
   "cell_type": "code",
   "execution_count": 45,
   "id": "5ce0a5cb-201f-45a0-ade5-94c7f0bd6095",
   "metadata": {
    "execution": {
     "iopub.execute_input": "2025-08-05T20:58:37.303984Z",
     "iopub.status.busy": "2025-08-05T20:58:37.303417Z",
     "iopub.status.idle": "2025-08-05T20:58:37.312406Z",
     "shell.execute_reply": "2025-08-05T20:58:37.311238Z"
    },
    "papermill": {
     "duration": 0.038343,
     "end_time": "2025-08-05T20:58:37.314547",
     "exception": false,
     "start_time": "2025-08-05T20:58:37.276204",
     "status": "completed"
    },
    "tags": []
   },
   "outputs": [
    {
     "data": {
      "text/plain": [
       "{'coverage': 0.9113699699030209, 'avg_size': 1.2010143796678185}"
      ]
     },
     "execution_count": 45,
     "metadata": {},
     "output_type": "execute_result"
    }
   ],
   "source": [
    "metrics"
   ]
  },
  {
   "cell_type": "code",
   "execution_count": 46,
   "id": "9b9a838d-31c9-430b-ae14-12baee460d17",
   "metadata": {
    "execution": {
     "iopub.execute_input": "2025-08-05T20:58:37.366617Z",
     "iopub.status.busy": "2025-08-05T20:58:37.366045Z",
     "iopub.status.idle": "2025-08-05T20:58:37.373651Z",
     "shell.execute_reply": "2025-08-05T20:58:37.372558Z"
    },
    "papermill": {
     "duration": 0.035721,
     "end_time": "2025-08-05T20:58:37.375598",
     "exception": false,
     "start_time": "2025-08-05T20:58:37.339877",
     "status": "completed"
    },
    "tags": []
   },
   "outputs": [],
   "source": [
    "example_universe = universe.copy()\n",
    "universe_training_year = example_universe.get(\"training_year\")\n",
    "universe_training_size = example_universe.get(\"training_size\")\n",
    "universe_scale = example_universe.get(\"scale\")\n",
    "universe_model = example_universe.get(\"model\")\n",
    "universe_exclude_features = example_universe.get(\"exclude_features\")\n",
    "universe_exclude_subgroups = example_universe.get(\"exclude_subgroups\")"
   ]
  },
  {
   "cell_type": "code",
   "execution_count": 47,
   "id": "f4b6a8ac-9dc0-4245-8a91-5b3b5999c4f9",
   "metadata": {
    "execution": {
     "iopub.execute_input": "2025-08-05T20:58:37.421832Z",
     "iopub.status.busy": "2025-08-05T20:58:37.421117Z",
     "iopub.status.idle": "2025-08-05T20:58:37.426840Z",
     "shell.execute_reply": "2025-08-05T20:58:37.426111Z"
    },
    "papermill": {
     "duration": 0.027051,
     "end_time": "2025-08-05T20:58:37.428263",
     "exception": false,
     "start_time": "2025-08-05T20:58:37.401212",
     "status": "completed"
    },
    "tags": []
   },
   "outputs": [],
   "source": [
    "cp_metrics_dict = {\n",
    "    \"universe_id\": [universe_id],\n",
    "    \"universe_training_year\": [universe_training_year],\n",
    "    \"universe_training_size\": [universe_training_size],\n",
    "    \"universe_scale\": [universe_scale],\n",
    "    \"universe_model\": [universe_model],\n",
    "    \"universe_exclude_features\": [universe_exclude_features],\n",
    "    \"universe_exclude_subgroups\": [universe_exclude_subgroups],\n",
    "    \"q_hat\": [q_hat],\n",
    "    \"coverage\": [metrics[\"coverage\"]],\n",
    "    \"avg_size\": [metrics[\"avg_size\"]],\n",
    "}"
   ]
  },
  {
   "cell_type": "code",
   "execution_count": 48,
   "id": "908acbb1-0371-4915-85ca-3fa520d2efe2",
   "metadata": {
    "execution": {
     "iopub.execute_input": "2025-08-05T20:58:37.450955Z",
     "iopub.status.busy": "2025-08-05T20:58:37.450478Z",
     "iopub.status.idle": "2025-08-05T20:58:37.461826Z",
     "shell.execute_reply": "2025-08-05T20:58:37.460779Z"
    },
    "papermill": {
     "duration": 0.024374,
     "end_time": "2025-08-05T20:58:37.463917",
     "exception": false,
     "start_time": "2025-08-05T20:58:37.439543",
     "status": "completed"
    },
    "tags": []
   },
   "outputs": [
    {
     "data": {
      "text/plain": [
       "{'universe_id': ['d1e8ea61dbebd665f4d53e0263e32fe1'],\n",
       " 'universe_training_year': ['2012_14'],\n",
       " 'universe_training_size': ['25k'],\n",
       " 'universe_scale': ['do-not-scale'],\n",
       " 'universe_model': ['penalized_logreg'],\n",
       " 'universe_exclude_features': ['nationality'],\n",
       " 'universe_exclude_subgroups': ['keep-all'],\n",
       " 'q_hat': [0.6827405380735201],\n",
       " 'coverage': [0.9113699699030209],\n",
       " 'avg_size': [1.2010143796678185]}"
      ]
     },
     "execution_count": 48,
     "metadata": {},
     "output_type": "execute_result"
    }
   ],
   "source": [
    "cp_metrics_dict"
   ]
  },
  {
   "cell_type": "code",
   "execution_count": 49,
   "id": "33007efc-14e9-4ec6-97ac-56a455c82265",
   "metadata": {
    "execution": {
     "iopub.execute_input": "2025-08-05T20:58:37.491329Z",
     "iopub.status.busy": "2025-08-05T20:58:37.491014Z",
     "iopub.status.idle": "2025-08-05T20:58:37.496473Z",
     "shell.execute_reply": "2025-08-05T20:58:37.495454Z"
    },
    "papermill": {
     "duration": 0.02021,
     "end_time": "2025-08-05T20:58:37.498462",
     "exception": false,
     "start_time": "2025-08-05T20:58:37.478252",
     "status": "completed"
    },
    "tags": []
   },
   "outputs": [],
   "source": [
    "cp_metrics_df = pd.DataFrame(cp_metrics_dict)"
   ]
  },
  {
   "cell_type": "code",
   "execution_count": 50,
   "id": "db12611b-57b2-4910-b9d0-355adfd6e7bf",
   "metadata": {
    "execution": {
     "iopub.execute_input": "2025-08-05T20:58:37.543942Z",
     "iopub.status.busy": "2025-08-05T20:58:37.543412Z",
     "iopub.status.idle": "2025-08-05T20:58:37.563416Z",
     "shell.execute_reply": "2025-08-05T20:58:37.562383Z"
    },
    "papermill": {
     "duration": 0.044059,
     "end_time": "2025-08-05T20:58:37.565115",
     "exception": false,
     "start_time": "2025-08-05T20:58:37.521056",
     "status": "completed"
    },
    "tags": []
   },
   "outputs": [
    {
     "data": {
      "text/html": [
       "<div>\n",
       "<style scoped>\n",
       "    .dataframe tbody tr th:only-of-type {\n",
       "        vertical-align: middle;\n",
       "    }\n",
       "\n",
       "    .dataframe tbody tr th {\n",
       "        vertical-align: top;\n",
       "    }\n",
       "\n",
       "    .dataframe thead th {\n",
       "        text-align: right;\n",
       "    }\n",
       "</style>\n",
       "<table border=\"1\" class=\"dataframe\">\n",
       "  <thead>\n",
       "    <tr style=\"text-align: right;\">\n",
       "      <th></th>\n",
       "      <th>universe_id</th>\n",
       "      <th>universe_training_year</th>\n",
       "      <th>universe_training_size</th>\n",
       "      <th>universe_scale</th>\n",
       "      <th>universe_model</th>\n",
       "      <th>universe_exclude_features</th>\n",
       "      <th>universe_exclude_subgroups</th>\n",
       "      <th>q_hat</th>\n",
       "      <th>coverage</th>\n",
       "      <th>avg_size</th>\n",
       "    </tr>\n",
       "  </thead>\n",
       "  <tbody>\n",
       "    <tr>\n",
       "      <th>0</th>\n",
       "      <td>d1e8ea61dbebd665f4d53e0263e32fe1</td>\n",
       "      <td>2012_14</td>\n",
       "      <td>25k</td>\n",
       "      <td>do-not-scale</td>\n",
       "      <td>penalized_logreg</td>\n",
       "      <td>nationality</td>\n",
       "      <td>keep-all</td>\n",
       "      <td>0.682741</td>\n",
       "      <td>0.91137</td>\n",
       "      <td>1.201014</td>\n",
       "    </tr>\n",
       "  </tbody>\n",
       "</table>\n",
       "</div>"
      ],
      "text/plain": [
       "                        universe_id universe_training_year  \\\n",
       "0  d1e8ea61dbebd665f4d53e0263e32fe1                2012_14   \n",
       "\n",
       "  universe_training_size universe_scale    universe_model  \\\n",
       "0                    25k   do-not-scale  penalized_logreg   \n",
       "\n",
       "  universe_exclude_features universe_exclude_subgroups     q_hat  coverage  \\\n",
       "0               nationality                   keep-all  0.682741   0.91137   \n",
       "\n",
       "   avg_size  \n",
       "0  1.201014  "
      ]
     },
     "execution_count": 50,
     "metadata": {},
     "output_type": "execute_result"
    }
   ],
   "source": [
    "cp_metrics_df"
   ]
  },
  {
   "cell_type": "code",
   "execution_count": 51,
   "id": "b7fbde55-a0a1-47e4-9af6-fe4a17fa8c61",
   "metadata": {
    "execution": {
     "iopub.execute_input": "2025-08-05T20:58:37.611733Z",
     "iopub.status.busy": "2025-08-05T20:58:37.610985Z",
     "iopub.status.idle": "2025-08-05T20:58:37.617253Z",
     "shell.execute_reply": "2025-08-05T20:58:37.616126Z"
    },
    "papermill": {
     "duration": 0.030824,
     "end_time": "2025-08-05T20:58:37.619266",
     "exception": false,
     "start_time": "2025-08-05T20:58:37.588442",
     "status": "completed"
    },
    "tags": []
   },
   "outputs": [],
   "source": [
    "# Conditional Coverage & looking at subgroups"
   ]
  },
  {
   "cell_type": "code",
   "execution_count": 52,
   "id": "027ae886-68dd-4141-96c7-805a5450e1ef",
   "metadata": {
    "execution": {
     "iopub.execute_input": "2025-08-05T20:58:37.667961Z",
     "iopub.status.busy": "2025-08-05T20:58:37.666921Z",
     "iopub.status.idle": "2025-08-05T20:58:37.919806Z",
     "shell.execute_reply": "2025-08-05T20:58:37.919061Z"
    },
    "papermill": {
     "duration": 0.279732,
     "end_time": "2025-08-05T20:58:37.921620",
     "exception": false,
     "start_time": "2025-08-05T20:58:37.641888",
     "status": "completed"
    },
    "tags": []
   },
   "outputs": [],
   "source": [
    "from fairness_multiverse.conformal import build_cp_groups\n",
    "\n",
    "cp_groups_df = build_cp_groups(pred_sets, y_true, X_test.index, org_test)\n",
    "#needs universe_id and setting"
   ]
  },
  {
   "cell_type": "code",
   "execution_count": 53,
   "id": "6cbdab96-b2b2-45af-ad54-d0516db2e28d",
   "metadata": {
    "execution": {
     "iopub.execute_input": "2025-08-05T20:58:37.967987Z",
     "iopub.status.busy": "2025-08-05T20:58:37.967186Z",
     "iopub.status.idle": "2025-08-05T20:58:39.648905Z",
     "shell.execute_reply": "2025-08-05T20:58:39.647874Z"
    },
    "papermill": {
     "duration": 1.707406,
     "end_time": "2025-08-05T20:58:39.651300",
     "exception": false,
     "start_time": "2025-08-05T20:58:37.943894",
     "status": "completed"
    },
    "tags": []
   },
   "outputs": [],
   "source": [
    "# Define covered = 1 if true_label is in the predicted set\n",
    "cp_groups_df['covered'] = cp_groups_df.apply(\n",
    "    lambda r: int(r['true_label'] in r['pred_set']),\n",
    "    axis=1\n",
    ")"
   ]
  },
  {
   "cell_type": "code",
   "execution_count": 54,
   "id": "338ff529-1a6b-4b87-a931-8e4788d52aad",
   "metadata": {
    "execution": {
     "iopub.execute_input": "2025-08-05T20:58:39.713724Z",
     "iopub.status.busy": "2025-08-05T20:58:39.712798Z",
     "iopub.status.idle": "2025-08-05T20:58:39.718176Z",
     "shell.execute_reply": "2025-08-05T20:58:39.717174Z"
    },
    "papermill": {
     "duration": 0.035784,
     "end_time": "2025-08-05T20:58:39.719987",
     "exception": false,
     "start_time": "2025-08-05T20:58:39.684203",
     "status": "completed"
    },
    "tags": []
   },
   "outputs": [],
   "source": [
    "#cp_groups_df"
   ]
  },
  {
   "cell_type": "code",
   "execution_count": 55,
   "id": "90032e27-66df-4540-9169-4e89cfbaa758",
   "metadata": {
    "execution": {
     "iopub.execute_input": "2025-08-05T20:58:39.767606Z",
     "iopub.status.busy": "2025-08-05T20:58:39.766800Z",
     "iopub.status.idle": "2025-08-05T20:58:39.778201Z",
     "shell.execute_reply": "2025-08-05T20:58:39.777239Z"
    },
    "papermill": {
     "duration": 0.036809,
     "end_time": "2025-08-05T20:58:39.780009",
     "exception": false,
     "start_time": "2025-08-05T20:58:39.743200",
     "status": "completed"
    },
    "tags": []
   },
   "outputs": [],
   "source": [
    "subgroups = ['frau1','nongerman','nongerman_male','nongerman_female']\n",
    "\n",
    "# Conditional coverage for subgroup==1\n",
    "cond_coverage = {\n",
    "    g: cp_groups_df.loc[cp_groups_df[g]==1, 'covered'].mean()\n",
    "    for g in subgroups\n",
    "}"
   ]
  },
  {
   "cell_type": "code",
   "execution_count": 56,
   "id": "1e348fb1-b9c3-45bc-ba23-f016827a7e0d",
   "metadata": {
    "execution": {
     "iopub.execute_input": "2025-08-05T20:58:39.826996Z",
     "iopub.status.busy": "2025-08-05T20:58:39.826196Z",
     "iopub.status.idle": "2025-08-05T20:58:39.833727Z",
     "shell.execute_reply": "2025-08-05T20:58:39.832596Z"
    },
    "papermill": {
     "duration": 0.032651,
     "end_time": "2025-08-05T20:58:39.835499",
     "exception": false,
     "start_time": "2025-08-05T20:58:39.802848",
     "status": "completed"
    },
    "tags": []
   },
   "outputs": [
    {
     "data": {
      "text/plain": [
       "{'frau1': 0.9105809408276048,\n",
       " 'nongerman': 0.9295458373098299,\n",
       " 'nongerman_male': 0.9424479870305323,\n",
       " 'nongerman_female': 0.9081967213114754}"
      ]
     },
     "execution_count": 56,
     "metadata": {},
     "output_type": "execute_result"
    }
   ],
   "source": [
    "cond_coverage"
   ]
  },
  {
   "cell_type": "code",
   "execution_count": 57,
   "id": "f5093324-c3dd-4d63-bc4c-8d945e5c8bbb",
   "metadata": {
    "execution": {
     "iopub.execute_input": "2025-08-05T20:58:39.884383Z",
     "iopub.status.busy": "2025-08-05T20:58:39.883486Z",
     "iopub.status.idle": "2025-08-05T20:58:39.891236Z",
     "shell.execute_reply": "2025-08-05T20:58:39.890190Z"
    },
    "papermill": {
     "duration": 0.034701,
     "end_time": "2025-08-05T20:58:39.893337",
     "exception": false,
     "start_time": "2025-08-05T20:58:39.858636",
     "status": "completed"
    },
    "tags": []
   },
   "outputs": [],
   "source": [
    "for subgroup, cov in cond_coverage.items():\n",
    "    cp_metrics_df[f\"cov_{subgroup}\"] = cov"
   ]
  },
  {
   "cell_type": "code",
   "execution_count": 58,
   "id": "6e872e10-dbe5-49e8-b554-5030c98ff75d",
   "metadata": {
    "execution": {
     "iopub.execute_input": "2025-08-05T20:58:39.951251Z",
     "iopub.status.busy": "2025-08-05T20:58:39.950207Z",
     "iopub.status.idle": "2025-08-05T20:58:39.970342Z",
     "shell.execute_reply": "2025-08-05T20:58:39.968973Z"
    },
    "papermill": {
     "duration": 0.05101,
     "end_time": "2025-08-05T20:58:39.972483",
     "exception": false,
     "start_time": "2025-08-05T20:58:39.921473",
     "status": "completed"
    },
    "tags": []
   },
   "outputs": [
    {
     "data": {
      "text/html": [
       "<div>\n",
       "<style scoped>\n",
       "    .dataframe tbody tr th:only-of-type {\n",
       "        vertical-align: middle;\n",
       "    }\n",
       "\n",
       "    .dataframe tbody tr th {\n",
       "        vertical-align: top;\n",
       "    }\n",
       "\n",
       "    .dataframe thead th {\n",
       "        text-align: right;\n",
       "    }\n",
       "</style>\n",
       "<table border=\"1\" class=\"dataframe\">\n",
       "  <thead>\n",
       "    <tr style=\"text-align: right;\">\n",
       "      <th></th>\n",
       "      <th>universe_id</th>\n",
       "      <th>universe_training_year</th>\n",
       "      <th>universe_training_size</th>\n",
       "      <th>universe_scale</th>\n",
       "      <th>universe_model</th>\n",
       "      <th>universe_exclude_features</th>\n",
       "      <th>universe_exclude_subgroups</th>\n",
       "      <th>q_hat</th>\n",
       "      <th>coverage</th>\n",
       "      <th>avg_size</th>\n",
       "      <th>cov_frau1</th>\n",
       "      <th>cov_nongerman</th>\n",
       "      <th>cov_nongerman_male</th>\n",
       "      <th>cov_nongerman_female</th>\n",
       "    </tr>\n",
       "  </thead>\n",
       "  <tbody>\n",
       "    <tr>\n",
       "      <th>0</th>\n",
       "      <td>d1e8ea61dbebd665f4d53e0263e32fe1</td>\n",
       "      <td>2012_14</td>\n",
       "      <td>25k</td>\n",
       "      <td>do-not-scale</td>\n",
       "      <td>penalized_logreg</td>\n",
       "      <td>nationality</td>\n",
       "      <td>keep-all</td>\n",
       "      <td>0.682741</td>\n",
       "      <td>0.91137</td>\n",
       "      <td>1.201014</td>\n",
       "      <td>0.910581</td>\n",
       "      <td>0.929546</td>\n",
       "      <td>0.942448</td>\n",
       "      <td>0.908197</td>\n",
       "    </tr>\n",
       "  </tbody>\n",
       "</table>\n",
       "</div>"
      ],
      "text/plain": [
       "                        universe_id universe_training_year  \\\n",
       "0  d1e8ea61dbebd665f4d53e0263e32fe1                2012_14   \n",
       "\n",
       "  universe_training_size universe_scale    universe_model  \\\n",
       "0                    25k   do-not-scale  penalized_logreg   \n",
       "\n",
       "  universe_exclude_features universe_exclude_subgroups     q_hat  coverage  \\\n",
       "0               nationality                   keep-all  0.682741   0.91137   \n",
       "\n",
       "   avg_size  cov_frau1  cov_nongerman  cov_nongerman_male  \\\n",
       "0  1.201014   0.910581       0.929546            0.942448   \n",
       "\n",
       "   cov_nongerman_female  \n",
       "0              0.908197  "
      ]
     },
     "execution_count": 58,
     "metadata": {},
     "output_type": "execute_result"
    }
   ],
   "source": [
    "cp_metrics_df"
   ]
  },
  {
   "cell_type": "markdown",
   "id": "33774451",
   "metadata": {
    "papermill": {
     "duration": 0.02776,
     "end_time": "2025-08-05T20:58:40.029464",
     "exception": false,
     "start_time": "2025-08-05T20:58:40.001704",
     "status": "completed"
    },
    "tags": []
   },
   "source": [
    "# (Fairness) Metrics"
   ]
  },
  {
   "cell_type": "code",
   "execution_count": 59,
   "id": "debc5d62",
   "metadata": {
    "execution": {
     "iopub.execute_input": "2025-08-05T20:58:40.086656Z",
     "iopub.status.busy": "2025-08-05T20:58:40.085869Z",
     "iopub.status.idle": "2025-08-05T20:58:40.108735Z",
     "shell.execute_reply": "2025-08-05T20:58:40.107607Z"
    },
    "papermill": {
     "duration": 0.053988,
     "end_time": "2025-08-05T20:58:40.110980",
     "exception": false,
     "start_time": "2025-08-05T20:58:40.056992",
     "status": "completed"
    },
    "tags": []
   },
   "outputs": [],
   "source": [
    "# do I need to include maxdeutsch1.missing?\n",
    "\n",
    "import numpy as np\n",
    "\n",
    "colname_to_bin = \"maxdeutsch1\"\n",
    "majority_value = org_train[colname_to_bin].mode()[0]\n",
    "\n",
    "org_test[\"majmin\"] = np.where(org_test[colname_to_bin] == majority_value, \"majority\", \"minority\")"
   ]
  },
  {
   "cell_type": "code",
   "execution_count": 60,
   "id": "06a50de5",
   "metadata": {
    "execution": {
     "iopub.execute_input": "2025-08-05T20:58:40.168251Z",
     "iopub.status.busy": "2025-08-05T20:58:40.167501Z",
     "iopub.status.idle": "2025-08-05T20:58:42.629264Z",
     "shell.execute_reply": "2025-08-05T20:58:42.628090Z"
    },
    "papermill": {
     "duration": 2.492592,
     "end_time": "2025-08-05T20:58:42.631388",
     "exception": false,
     "start_time": "2025-08-05T20:58:40.138796",
     "status": "completed"
    },
    "tags": []
   },
   "outputs": [],
   "source": [
    "example_universe = universe.copy()\n",
    "example_universe[\"cutoff\"] = example_universe[\"cutoff\"][0]\n",
    "example_universe[\"eval_fairness_grouping\"] = example_universe[\"eval_fairness_grouping\"][0]\n",
    "fairness_dict, metric_frame = universe_analysis.compute_metrics(\n",
    "    example_universe,\n",
    "    y_pred_prob=probs_test,\n",
    "    y_test=y_true,\n",
    "    org_test=org_test,\n",
    ")"
   ]
  },
  {
   "cell_type": "markdown",
   "id": "f95d4e02",
   "metadata": {
    "papermill": {
     "duration": 0.02935,
     "end_time": "2025-08-05T20:58:42.686784",
     "exception": false,
     "start_time": "2025-08-05T20:58:42.657434",
     "status": "completed"
    },
    "tags": []
   },
   "source": [
    "# Overall"
   ]
  },
  {
   "cell_type": "markdown",
   "id": "bdee4871",
   "metadata": {
    "papermill": {
     "duration": 0.019097,
     "end_time": "2025-08-05T20:58:42.735082",
     "exception": false,
     "start_time": "2025-08-05T20:58:42.715985",
     "status": "completed"
    },
    "tags": []
   },
   "source": [
    "Fairness\n",
    "Main fairness target: Equalized Odds. Seems to be a better fit than equal opportunity, since we're not only interested in Y = 1. Seems to be a better fit than demographic parity, since we also care about accuracy, not just equal distribution of preds.\n",
    "\n",
    "Pick column for computation of fairness metrics\n",
    "\n",
    "Performance\n",
    "Overall performance measures, most interesting in relation to the measures split by group below"
   ]
  },
  {
   "cell_type": "code",
   "execution_count": 61,
   "id": "c4e067c6",
   "metadata": {
    "execution": {
     "iopub.execute_input": "2025-08-05T20:58:42.758537Z",
     "iopub.status.busy": "2025-08-05T20:58:42.758193Z",
     "iopub.status.idle": "2025-08-05T20:58:42.765164Z",
     "shell.execute_reply": "2025-08-05T20:58:42.764395Z"
    },
    "papermill": {
     "duration": 0.020404,
     "end_time": "2025-08-05T20:58:42.766600",
     "exception": false,
     "start_time": "2025-08-05T20:58:42.746196",
     "status": "completed"
    },
    "tags": []
   },
   "outputs": [
    {
     "data": {
      "text/plain": [
       "accuracy                   0.218092\n",
       "balanced accuracy          0.534580\n",
       "f1                         0.239596\n",
       "precision                  0.136873\n",
       "false positive rate        0.891128\n",
       "false negative rate        0.039712\n",
       "selection rate             0.900000\n",
       "count                  89710.000000\n",
       "dtype: float64"
      ]
     },
     "execution_count": 61,
     "metadata": {},
     "output_type": "execute_result"
    }
   ],
   "source": [
    "metric_frame.overall"
   ]
  },
  {
   "cell_type": "markdown",
   "id": "e968fe9d",
   "metadata": {
    "papermill": {
     "duration": 0.01225,
     "end_time": "2025-08-05T20:58:42.800592",
     "exception": false,
     "start_time": "2025-08-05T20:58:42.788342",
     "status": "completed"
    },
    "tags": []
   },
   "source": [
    "By Group"
   ]
  },
  {
   "cell_type": "code",
   "execution_count": 62,
   "id": "ec325bce",
   "metadata": {
    "execution": {
     "iopub.execute_input": "2025-08-05T20:58:42.824564Z",
     "iopub.status.busy": "2025-08-05T20:58:42.824129Z",
     "iopub.status.idle": "2025-08-05T20:58:42.837204Z",
     "shell.execute_reply": "2025-08-05T20:58:42.836297Z"
    },
    "papermill": {
     "duration": 0.02665,
     "end_time": "2025-08-05T20:58:42.838710",
     "exception": false,
     "start_time": "2025-08-05T20:58:42.812060",
     "status": "completed"
    },
    "tags": []
   },
   "outputs": [
    {
     "data": {
      "text/html": [
       "<div>\n",
       "<style scoped>\n",
       "    .dataframe tbody tr th:only-of-type {\n",
       "        vertical-align: middle;\n",
       "    }\n",
       "\n",
       "    .dataframe tbody tr th {\n",
       "        vertical-align: top;\n",
       "    }\n",
       "\n",
       "    .dataframe thead th {\n",
       "        text-align: right;\n",
       "    }\n",
       "</style>\n",
       "<table border=\"1\" class=\"dataframe\">\n",
       "  <thead>\n",
       "    <tr style=\"text-align: right;\">\n",
       "      <th></th>\n",
       "      <th>accuracy</th>\n",
       "      <th>balanced accuracy</th>\n",
       "      <th>f1</th>\n",
       "      <th>precision</th>\n",
       "      <th>false positive rate</th>\n",
       "      <th>false negative rate</th>\n",
       "      <th>selection rate</th>\n",
       "      <th>count</th>\n",
       "    </tr>\n",
       "    <tr>\n",
       "      <th>majmin</th>\n",
       "      <th></th>\n",
       "      <th></th>\n",
       "      <th></th>\n",
       "      <th></th>\n",
       "      <th></th>\n",
       "      <th></th>\n",
       "      <th></th>\n",
       "      <th></th>\n",
       "    </tr>\n",
       "  </thead>\n",
       "  <tbody>\n",
       "    <tr>\n",
       "      <th>majority</th>\n",
       "      <td>0.240639</td>\n",
       "      <td>0.542801</td>\n",
       "      <td>0.249160</td>\n",
       "      <td>0.143303</td>\n",
       "      <td>0.867899</td>\n",
       "      <td>0.046499</td>\n",
       "      <td>0.879211</td>\n",
       "      <td>69170.0</td>\n",
       "    </tr>\n",
       "    <tr>\n",
       "      <th>minority</th>\n",
       "      <td>0.142162</td>\n",
       "      <td>0.509312</td>\n",
       "      <td>0.209582</td>\n",
       "      <td>0.117246</td>\n",
       "      <td>0.967863</td>\n",
       "      <td>0.013514</td>\n",
       "      <td>0.970010</td>\n",
       "      <td>20540.0</td>\n",
       "    </tr>\n",
       "  </tbody>\n",
       "</table>\n",
       "</div>"
      ],
      "text/plain": [
       "          accuracy  balanced accuracy        f1  precision  \\\n",
       "majmin                                                       \n",
       "majority  0.240639           0.542801  0.249160   0.143303   \n",
       "minority  0.142162           0.509312  0.209582   0.117246   \n",
       "\n",
       "          false positive rate  false negative rate  selection rate    count  \n",
       "majmin                                                                       \n",
       "majority             0.867899             0.046499        0.879211  69170.0  \n",
       "minority             0.967863             0.013514        0.970010  20540.0  "
      ]
     },
     "execution_count": 62,
     "metadata": {},
     "output_type": "execute_result"
    }
   ],
   "source": [
    "metric_frame.by_group"
   ]
  },
  {
   "cell_type": "code",
   "execution_count": 63,
   "id": "a9ddbe63",
   "metadata": {
    "execution": {
     "iopub.execute_input": "2025-08-05T20:58:42.865497Z",
     "iopub.status.busy": "2025-08-05T20:58:42.864817Z",
     "iopub.status.idle": "2025-08-05T20:58:45.167252Z",
     "shell.execute_reply": "2025-08-05T20:58:45.166421Z"
    },
    "papermill": {
     "duration": 2.317019,
     "end_time": "2025-08-05T20:58:45.168764",
     "exception": false,
     "start_time": "2025-08-05T20:58:42.851745",
     "status": "completed"
    },
    "tags": []
   },
   "outputs": [
    {
     "data": {
      "text/plain": [
       "array([[<Axes: title={'center': 'accuracy'}, xlabel='majmin'>,\n",
       "        <Axes: title={'center': 'balanced accuracy'}, xlabel='majmin'>,\n",
       "        <Axes: title={'center': 'f1'}, xlabel='majmin'>],\n",
       "       [<Axes: title={'center': 'precision'}, xlabel='majmin'>,\n",
       "        <Axes: title={'center': 'false positive rate'}, xlabel='majmin'>,\n",
       "        <Axes: title={'center': 'false negative rate'}, xlabel='majmin'>],\n",
       "       [<Axes: title={'center': 'selection rate'}, xlabel='majmin'>,\n",
       "        <Axes: title={'center': 'count'}, xlabel='majmin'>,\n",
       "        <Axes: xlabel='majmin'>]], dtype=object)"
      ]
     },
     "execution_count": 63,
     "metadata": {},
     "output_type": "execute_result"
    },
    {
     "data": {
      "image/png": "[encoded data removed]",
      "text/plain": [
       "<Figure size 1200x800 with 9 Axes>"
      ]
     },
     "metadata": {},
     "output_type": "display_data"
    }
   ],
   "source": [
    "# In a graphic\n",
    "metric_frame.by_group.plot.bar(\n",
    "    subplots=True,\n",
    "    layout=[3, 3],\n",
    "    legend=False,\n",
    "    figsize=[12, 8],\n",
    "    title=\"Show all metrics\",\n",
    ")"
   ]
  },
  {
   "cell_type": "markdown",
   "id": "f57a0bac",
   "metadata": {
    "papermill": {
     "duration": 0.022491,
     "end_time": "2025-08-05T20:58:45.215820",
     "exception": false,
     "start_time": "2025-08-05T20:58:45.193329",
     "status": "completed"
    },
    "tags": []
   },
   "source": [
    "# Final Output"
   ]
  },
  {
   "cell_type": "code",
   "execution_count": 64,
   "id": "96d280a3",
   "metadata": {
    "execution": {
     "iopub.execute_input": "2025-08-05T20:58:45.263254Z",
     "iopub.status.busy": "2025-08-05T20:58:45.262501Z",
     "iopub.status.idle": "2025-08-05T20:58:45.270473Z",
     "shell.execute_reply": "2025-08-05T20:58:45.269477Z"
    },
    "papermill": {
     "duration": 0.033889,
     "end_time": "2025-08-05T20:58:45.272160",
     "exception": false,
     "start_time": "2025-08-05T20:58:45.238271",
     "status": "completed"
    },
    "tags": []
   },
   "outputs": [
    {
     "data": {
      "text/plain": [
       "4"
      ]
     },
     "execution_count": 64,
     "metadata": {},
     "output_type": "execute_result"
    }
   ],
   "source": [
    "sub_universes = universe_analysis.generate_sub_universes()\n",
    "len(sub_universes)"
   ]
  },
  {
   "cell_type": "code",
   "execution_count": 65,
   "id": "92adf7ba",
   "metadata": {
    "execution": {
     "iopub.execute_input": "2025-08-05T20:58:45.321669Z",
     "iopub.status.busy": "2025-08-05T20:58:45.321151Z",
     "iopub.status.idle": "2025-08-05T20:58:45.327871Z",
     "shell.execute_reply": "2025-08-05T20:58:45.326938Z"
    },
    "papermill": {
     "duration": 0.033573,
     "end_time": "2025-08-05T20:58:45.329665",
     "exception": false,
     "start_time": "2025-08-05T20:58:45.296092",
     "status": "completed"
    },
    "tags": []
   },
   "outputs": [],
   "source": [
    "def filter_sub_universe_data(sub_universe, org_test):\n",
    "    # Keep all rows — no filtering\n",
    "    keep_rows_mask = np.ones(org_test.shape[0], dtype=bool)\n",
    "\n",
    "    print(f\"[INFO] Keeping all rows: {keep_rows_mask.sum()} rows retained.\")\n",
    "    return keep_rows_mask"
   ]
  },
  {
   "cell_type": "code",
   "execution_count": 66,
   "id": "4a759155",
   "metadata": {
    "execution": {
     "iopub.execute_input": "2025-08-05T20:58:45.379519Z",
     "iopub.status.busy": "2025-08-05T20:58:45.378826Z",
     "iopub.status.idle": "2025-08-05T20:58:54.831162Z",
     "shell.execute_reply": "2025-08-05T20:58:54.830455Z"
    },
    "papermill": {
     "duration": 9.478937,
     "end_time": "2025-08-05T20:58:54.832578",
     "exception": false,
     "start_time": "2025-08-05T20:58:45.353641",
     "status": "completed"
    },
    "tags": []
   },
   "outputs": [
    {
     "name": "stdout",
     "output_type": "stream",
     "text": [
      "Stopping execution_time clock.\n",
      "[INFO] Keeping all rows: 89710 rows retained.\n"
     ]
    },
    {
     "name": "stdout",
     "output_type": "stream",
     "text": [
      "[INFO] Keeping all rows: 89710 rows retained.\n"
     ]
    },
    {
     "name": "stdout",
     "output_type": "stream",
     "text": [
      "[INFO] Keeping all rows: 89710 rows retained.\n"
     ]
    },
    {
     "name": "stdout",
     "output_type": "stream",
     "text": [
      "[INFO] Keeping all rows: 89710 rows retained.\n"
     ]
    },
    {
     "data": {
      "text/html": [
       "<div>\n",
       "<style scoped>\n",
       "    .dataframe tbody tr th:only-of-type {\n",
       "        vertical-align: middle;\n",
       "    }\n",
       "\n",
       "    .dataframe tbody tr th {\n",
       "        vertical-align: top;\n",
       "    }\n",
       "\n",
       "    .dataframe thead th {\n",
       "        text-align: right;\n",
       "    }\n",
       "</style>\n",
       "<table border=\"1\" class=\"dataframe\">\n",
       "  <thead>\n",
       "    <tr style=\"text-align: right;\">\n",
       "      <th></th>\n",
       "      <th>run_no</th>\n",
       "      <th>universe_id</th>\n",
       "      <th>universe_settings</th>\n",
       "      <th>execution_time</th>\n",
       "      <th>test_size_n</th>\n",
       "      <th>test_size_frac</th>\n",
       "      <th>fair_main_equalized_odds_difference</th>\n",
       "      <th>fair_main_equalized_odds_ratio</th>\n",
       "      <th>fair_main_demographic_parity_difference</th>\n",
       "      <th>fair_main_demographic_parity_ratio</th>\n",
       "      <th>...</th>\n",
       "      <th>perf_grp_precision_0</th>\n",
       "      <th>perf_grp_precision_1</th>\n",
       "      <th>perf_grp_false positive rate_0</th>\n",
       "      <th>perf_grp_false positive rate_1</th>\n",
       "      <th>perf_grp_false negative rate_0</th>\n",
       "      <th>perf_grp_false negative rate_1</th>\n",
       "      <th>perf_grp_selection rate_0</th>\n",
       "      <th>perf_grp_selection rate_1</th>\n",
       "      <th>perf_grp_count_0</th>\n",
       "      <th>perf_grp_count_1</th>\n",
       "    </tr>\n",
       "  </thead>\n",
       "  <tbody>\n",
       "    <tr>\n",
       "      <th>0</th>\n",
       "      <td>16</td>\n",
       "      <td>d1e8ea61dbebd665f4d53e0263e32fe1</td>\n",
       "      <td>{\"cutoff\": \"quantile_0.1\", \"eval_fairness_grou...</td>\n",
       "      <td>26.587827</td>\n",
       "      <td>89710</td>\n",
       "      <td>1.0</td>\n",
       "      <td>0.099963</td>\n",
       "      <td>0.896718</td>\n",
       "      <td>0.090799</td>\n",
       "      <td>0.906394</td>\n",
       "      <td>...</td>\n",
       "      <td>NaN</td>\n",
       "      <td>NaN</td>\n",
       "      <td>NaN</td>\n",
       "      <td>NaN</td>\n",
       "      <td>NaN</td>\n",
       "      <td>NaN</td>\n",
       "      <td>NaN</td>\n",
       "      <td>NaN</td>\n",
       "      <td>NaN</td>\n",
       "      <td>NaN</td>\n",
       "    </tr>\n",
       "    <tr>\n",
       "      <th>0</th>\n",
       "      <td>16</td>\n",
       "      <td>d1e8ea61dbebd665f4d53e0263e32fe1</td>\n",
       "      <td>{\"cutoff\": \"quantile_0.1\", \"eval_fairness_grou...</td>\n",
       "      <td>26.587827</td>\n",
       "      <td>89710</td>\n",
       "      <td>1.0</td>\n",
       "      <td>0.099963</td>\n",
       "      <td>0.896718</td>\n",
       "      <td>0.090799</td>\n",
       "      <td>0.906394</td>\n",
       "      <td>...</td>\n",
       "      <td>0.117246</td>\n",
       "      <td>0.143303</td>\n",
       "      <td>0.967863</td>\n",
       "      <td>0.867899</td>\n",
       "      <td>0.013514</td>\n",
       "      <td>0.046499</td>\n",
       "      <td>0.970010</td>\n",
       "      <td>0.879211</td>\n",
       "      <td>20540.0</td>\n",
       "      <td>69170.0</td>\n",
       "    </tr>\n",
       "    <tr>\n",
       "      <th>0</th>\n",
       "      <td>16</td>\n",
       "      <td>d1e8ea61dbebd665f4d53e0263e32fe1</td>\n",
       "      <td>{\"cutoff\": \"quantile_0.25\", \"eval_fairness_gro...</td>\n",
       "      <td>26.587827</td>\n",
       "      <td>89710</td>\n",
       "      <td>1.0</td>\n",
       "      <td>0.221225</td>\n",
       "      <td>0.754122</td>\n",
       "      <td>0.202379</td>\n",
       "      <td>0.776632</td>\n",
       "      <td>...</td>\n",
       "      <td>NaN</td>\n",
       "      <td>NaN</td>\n",
       "      <td>NaN</td>\n",
       "      <td>NaN</td>\n",
       "      <td>NaN</td>\n",
       "      <td>NaN</td>\n",
       "      <td>NaN</td>\n",
       "      <td>NaN</td>\n",
       "      <td>NaN</td>\n",
       "      <td>NaN</td>\n",
       "    </tr>\n",
       "    <tr>\n",
       "      <th>0</th>\n",
       "      <td>16</td>\n",
       "      <td>d1e8ea61dbebd665f4d53e0263e32fe1</td>\n",
       "      <td>{\"cutoff\": \"quantile_0.25\", \"eval_fairness_gro...</td>\n",
       "      <td>26.587827</td>\n",
       "      <td>89710</td>\n",
       "      <td>1.0</td>\n",
       "      <td>0.221225</td>\n",
       "      <td>0.754122</td>\n",
       "      <td>0.202379</td>\n",
       "      <td>0.776632</td>\n",
       "      <td>...</td>\n",
       "      <td>0.121440</td>\n",
       "      <td>0.163153</td>\n",
       "      <td>0.899736</td>\n",
       "      <td>0.678511</td>\n",
       "      <td>0.045608</td>\n",
       "      <td>0.131182</td>\n",
       "      <td>0.906037</td>\n",
       "      <td>0.703658</td>\n",
       "      <td>20540.0</td>\n",
       "      <td>69170.0</td>\n",
       "    </tr>\n",
       "  </tbody>\n",
       "</table>\n",
       "<p>4 rows × 50 columns</p>\n",
       "</div>"
      ],
      "text/plain": [
       "  run_no                       universe_id  \\\n",
       "0     16  d1e8ea61dbebd665f4d53e0263e32fe1   \n",
       "0     16  d1e8ea61dbebd665f4d53e0263e32fe1   \n",
       "0     16  d1e8ea61dbebd665f4d53e0263e32fe1   \n",
       "0     16  d1e8ea61dbebd665f4d53e0263e32fe1   \n",
       "\n",
       "                                   universe_settings  execution_time  \\\n",
       "0  {\"cutoff\": \"quantile_0.1\", \"eval_fairness_grou...       26.587827   \n",
       "0  {\"cutoff\": \"quantile_0.1\", \"eval_fairness_grou...       26.587827   \n",
       "0  {\"cutoff\": \"quantile_0.25\", \"eval_fairness_gro...       26.587827   \n",
       "0  {\"cutoff\": \"quantile_0.25\", \"eval_fairness_gro...       26.587827   \n",
       "\n",
       "   test_size_n  test_size_frac  fair_main_equalized_odds_difference  \\\n",
       "0        89710             1.0                             0.099963   \n",
       "0        89710             1.0                             0.099963   \n",
       "0        89710             1.0                             0.221225   \n",
       "0        89710             1.0                             0.221225   \n",
       "\n",
       "   fair_main_equalized_odds_ratio  fair_main_demographic_parity_difference  \\\n",
       "0                        0.896718                                 0.090799   \n",
       "0                        0.896718                                 0.090799   \n",
       "0                        0.754122                                 0.202379   \n",
       "0                        0.754122                                 0.202379   \n",
       "\n",
       "   fair_main_demographic_parity_ratio  ...  perf_grp_precision_0  \\\n",
       "0                            0.906394  ...                   NaN   \n",
       "0                            0.906394  ...              0.117246   \n",
       "0                            0.776632  ...                   NaN   \n",
       "0                            0.776632  ...              0.121440   \n",
       "\n",
       "   perf_grp_precision_1  perf_grp_false positive rate_0  \\\n",
       "0                   NaN                             NaN   \n",
       "0              0.143303                        0.967863   \n",
       "0                   NaN                             NaN   \n",
       "0              0.163153                        0.899736   \n",
       "\n",
       "   perf_grp_false positive rate_1  perf_grp_false negative rate_0  \\\n",
       "0                             NaN                             NaN   \n",
       "0                        0.867899                        0.013514   \n",
       "0                             NaN                             NaN   \n",
       "0                        0.678511                        0.045608   \n",
       "\n",
       "   perf_grp_false negative rate_1  perf_grp_selection rate_0  \\\n",
       "0                             NaN                        NaN   \n",
       "0                        0.046499                   0.970010   \n",
       "0                             NaN                        NaN   \n",
       "0                        0.131182                   0.906037   \n",
       "\n",
       "   perf_grp_selection rate_1  perf_grp_count_0  perf_grp_count_1  \n",
       "0                        NaN               NaN               NaN  \n",
       "0                   0.879211           20540.0           69170.0  \n",
       "0                        NaN               NaN               NaN  \n",
       "0                   0.703658           20540.0           69170.0  \n",
       "\n",
       "[4 rows x 50 columns]"
      ]
     },
     "execution_count": 66,
     "metadata": {},
     "output_type": "execute_result"
    }
   ],
   "source": [
    "final_output = universe_analysis.generate_final_output(\n",
    "    y_pred_prob=probs_test,\n",
    "    y_test=y_true,\n",
    "    org_test=org_test,\n",
    "    filter_data=filter_sub_universe_data,\n",
    "    cp_metrics_df=cp_metrics_df,\n",
    "    save=True,\n",
    ")\n",
    "final_output"
   ]
  }
 ],
 "metadata": {
  "celltoolbar": "Tags",
  "kernelspec": {
   "display_name": "Python (CMA Fairness)",
   "language": "python",
   "name": "cma_fair_env"
  },
  "language_info": {
   "codemirror_mode": {
    "name": "ipython",
    "version": 3
   },
   "file_extension": ".py",
   "mimetype": "text/x-python",
   "name": "python",
   "nbconvert_exporter": "python",
   "pygments_lexer": "ipython3",
   "version": "3.10.12"
  },
  "papermill": {
   "default_parameters": {},
   "duration": 39.869991,
   "end_time": "2025-08-05T20:58:55.477217",
   "environment_variables": {},
   "exception": null,
   "input_path": "universe_analysis.ipynb",
   "output_path": "output/runs/16/notebooks/m_16-d1e8ea61dbebd665f4d53e0263e32fe1.ipynb",
   "parameters": {
    "output_dir": "output",
    "run_no": "16",
    "seed": "2023",
    "universe": "{\"cutoff\": [\"quantile_0.1\", \"quantile_0.25\"], \"eval_fairness_grouping\": [\"majority-minority\", \"nationality-all\"], \"exclude_features\": \"nationality\", \"exclude_subgroups\": \"keep-all\", \"model\": \"penalized_logreg\", \"scale\": \"do-not-scale\", \"training_size\": \"25k\", \"training_year\": \"2012_14\"}",
    "universe_id": "d1e8ea61dbebd665f4d53e0263e32fe1"
   },
   "start_time": "2025-08-05T20:58:15.607226",
   "version": "2.6.0"
  }
 },
 "nbformat": 4,
 "nbformat_minor": 5
}