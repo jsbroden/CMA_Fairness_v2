{
 "cells": [
  {
   "cell_type": "code",
   "execution_count": 1,
   "id": "f159f837-637b-42ba-96b5-ec9a68c44524",
   "metadata": {
    "execution": {
     "iopub.execute_input": "2025-08-05T21:06:14.838915Z",
     "iopub.status.busy": "2025-08-05T21:06:14.838304Z",
     "iopub.status.idle": "2025-08-05T21:06:14.856401Z",
     "shell.execute_reply": "2025-08-05T21:06:14.855343Z"
    },
    "papermill": {
     "duration": 0.049313,
     "end_time": "2025-08-05T21:06:14.858776",
     "exception": false,
     "start_time": "2025-08-05T21:06:14.809463",
     "status": "completed"
    },
    "tags": []
   },
   "outputs": [
    {
     "name": "stdout",
     "output_type": "stream",
     "text": [
      "/dss/dsshome1/0C/ra93lal2/cma/CMA_Fairness_v2\n"
     ]
    },
    {
     "name": "stderr",
     "output_type": "stream",
     "text": [
      "/dss/dsshome1/0C/ra93lal2/.local/share/virtualenvs/CMA_Fairness_v2-3j10GkSs/lib/python3.10/site-packages/IPython/core/magics/osm.py:393: UserWarning: This is now an optional IPython functionality, using bookmarks requires you to install the `pickleshare` library.\n",
      "  bkms = self.shell.db.get('bookmarks', {})\n",
      "/dss/dsshome1/0C/ra93lal2/.local/share/virtualenvs/CMA_Fairness_v2-3j10GkSs/lib/python3.10/site-packages/IPython/core/magics/osm.py:417: UserWarning: This is now an optional IPython functionality, setting dhist requires you to install the `pickleshare` library.\n",
      "  self.shell.db['dhist'] = compress_dhist(dhist)[-100:]\n"
     ]
    }
   ],
   "source": [
    "%cd ~/cma/CMA_Fairness_v2"
   ]
  },
  {
   "cell_type": "markdown",
   "id": "de2603b9",
   "metadata": {
    "papermill": {
     "duration": 0.017966,
     "end_time": "2025-08-05T21:06:14.896909",
     "exception": false,
     "start_time": "2025-08-05T21:06:14.878943",
     "status": "completed"
    },
    "tags": []
   },
   "source": [
    "The following cell holds the definition of our parameters, these values can be overriden by rendering the with e.g. the following command:\n",
    "\n",
    "papermill -p alpha 0.2 -p ratio 0.3 universe_analysis.ipynb output/test_run.ipynb"
   ]
  },
  {
   "cell_type": "code",
   "execution_count": 2,
   "id": "a80968a0-40bb-4fa9-85ef-2d5eefb01975",
   "metadata": {
    "execution": {
     "iopub.execute_input": "2025-08-05T21:06:14.938020Z",
     "iopub.status.busy": "2025-08-05T21:06:14.936783Z",
     "iopub.status.idle": "2025-08-05T21:06:14.944511Z",
     "shell.execute_reply": "2025-08-05T21:06:14.943197Z"
    },
    "papermill": {
     "duration": 0.029926,
     "end_time": "2025-08-05T21:06:14.946510",
     "exception": false,
     "start_time": "2025-08-05T21:06:14.916584",
     "status": "completed"
    },
    "tags": []
   },
   "outputs": [
    {
     "name": "stdout",
     "output_type": "stream",
     "text": [
      "Current working directory: /dss/dsshome1/0C/ra93lal2/cma/CMA_Fairness_v2\n"
     ]
    }
   ],
   "source": [
    "import os\n",
    "print(\"Current working directory:\", os.getcwd())"
   ]
  },
  {
   "cell_type": "code",
   "execution_count": 3,
   "id": "2dce4c03",
   "metadata": {
    "execution": {
     "iopub.execute_input": "2025-08-05T21:06:14.986252Z",
     "iopub.status.busy": "2025-08-05T21:06:14.985650Z",
     "iopub.status.idle": "2025-08-05T21:06:14.993305Z",
     "shell.execute_reply": "2025-08-05T21:06:14.991933Z"
    },
    "papermill": {
     "duration": 0.029522,
     "end_time": "2025-08-05T21:06:14.995216",
     "exception": false,
     "start_time": "2025-08-05T21:06:14.965694",
     "status": "completed"
    },
    "tags": [
     "parameters"
    ]
   },
   "outputs": [],
   "source": [
    "run_no = 0\n",
    "universe_id = \"test\"\n",
    "universe = {\n",
    "    \"training_size\": \"25k\", # \"25k\", \"5k\", \"1k\"\n",
    "    \"training_year\": \"2014\", # \"2014\", \"2012_14\", \"2010_14\"\n",
    "    \"scale\": \"scale\", # \"scale\", \"do-not-scale\",\n",
    "    \"model\": \"elasticnet\", # \"logreg\", \"penalized_logreg\", \"rf\", \"gbm\", \"elasticnet\"\n",
    "    \"cutoff\": [\"quantile_0.15\", \"quantile_0.30\"],\n",
    "    \"exclude_features\": \"age\", # \"none\", \"nationality\", \"sex\", \"nationality-sex\", \"age\"\n",
    "    \"exclude_subgroups\": \"keep-all\", # \"keep-all\", \"drop-non-german\"\n",
    "    \"eval_fairness_grouping\": [\"majority-minority\", \"nationality-all\"]\n",
    "}\n",
    "\n",
    "output_dir=\"./output\"\n",
    "seed=0"
   ]
  },
  {
   "cell_type": "code",
   "execution_count": 4,
   "id": "9023dfb4",
   "metadata": {
    "execution": {
     "iopub.execute_input": "2025-08-05T21:06:15.036192Z",
     "iopub.status.busy": "2025-08-05T21:06:15.035390Z",
     "iopub.status.idle": "2025-08-05T21:06:15.042104Z",
     "shell.execute_reply": "2025-08-05T21:06:15.040792Z"
    },
    "papermill": {
     "duration": 0.029375,
     "end_time": "2025-08-05T21:06:15.044046",
     "exception": false,
     "start_time": "2025-08-05T21:06:15.014671",
     "status": "completed"
    },
    "tags": [
     "injected-parameters"
    ]
   },
   "outputs": [],
   "source": [
    "# Parameters\n",
    "universe_id = \"0db526b3d140dbd297f98857d2cf4e52\"\n",
    "run_no = \"16\"\n",
    "universe = \"{\\\"cutoff\\\": [\\\"quantile_0.1\\\", \\\"quantile_0.25\\\"], \\\"eval_fairness_grouping\\\": [\\\"majority-minority\\\", \\\"nationality-all\\\"], \\\"exclude_features\\\": \\\"nationality\\\", \\\"exclude_subgroups\\\": \\\"keep-all\\\", \\\"model\\\": \\\"penalized_logreg\\\", \\\"scale\\\": \\\"scale\\\", \\\"training_size\\\": \\\"25k\\\", \\\"training_year\\\": \\\"2010_14\\\"}\"\n",
    "output_dir = \"output\"\n",
    "seed = \"2023\"\n"
   ]
  },
  {
   "cell_type": "code",
   "execution_count": 5,
   "id": "1650acaf",
   "metadata": {
    "execution": {
     "iopub.execute_input": "2025-08-05T21:06:15.083093Z",
     "iopub.status.busy": "2025-08-05T21:06:15.082637Z",
     "iopub.status.idle": "2025-08-05T21:06:15.088081Z",
     "shell.execute_reply": "2025-08-05T21:06:15.086969Z"
    },
    "papermill": {
     "duration": 0.026409,
     "end_time": "2025-08-05T21:06:15.089883",
     "exception": false,
     "start_time": "2025-08-05T21:06:15.063474",
     "status": "completed"
    },
    "tags": []
   },
   "outputs": [],
   "source": [
    "import json\n",
    "if isinstance(universe, str):\n",
    "    universe = json.loads(universe)"
   ]
  },
  {
   "cell_type": "code",
   "execution_count": 6,
   "id": "16620c48",
   "metadata": {
    "execution": {
     "iopub.execute_input": "2025-08-05T21:06:15.128282Z",
     "iopub.status.busy": "2025-08-05T21:06:15.127636Z",
     "iopub.status.idle": "2025-08-05T21:06:15.163593Z",
     "shell.execute_reply": "2025-08-05T21:06:15.162875Z"
    },
    "papermill": {
     "duration": 0.057161,
     "end_time": "2025-08-05T21:06:15.165438",
     "exception": false,
     "start_time": "2025-08-05T21:06:15.108277",
     "status": "completed"
    },
    "tags": []
   },
   "outputs": [],
   "source": [
    "# Auto-reload the custom package\n",
    "%load_ext autoreload\n",
    "%autoreload 1\n",
    "%aimport fairness_multiverse"
   ]
  },
  {
   "cell_type": "code",
   "execution_count": 7,
   "id": "01c5c9f3",
   "metadata": {
    "execution": {
     "iopub.execute_input": "2025-08-05T21:06:15.208541Z",
     "iopub.status.busy": "2025-08-05T21:06:15.207529Z",
     "iopub.status.idle": "2025-08-05T21:06:17.071534Z",
     "shell.execute_reply": "2025-08-05T21:06:17.070447Z"
    },
    "papermill": {
     "duration": 1.88748,
     "end_time": "2025-08-05T21:06:17.073501",
     "exception": false,
     "start_time": "2025-08-05T21:06:15.186021",
     "status": "completed"
    },
    "tags": []
   },
   "outputs": [],
   "source": [
    "from fairness_multiverse.universe import UniverseAnalysis\n",
    "\n",
    "universe_analysis = UniverseAnalysis(\n",
    "    run_no = run_no,\n",
    "    universe_id = universe_id,\n",
    "    universe = universe,\n",
    "    output_dir=output_dir,\n",
    ")"
   ]
  },
  {
   "cell_type": "code",
   "execution_count": 8,
   "id": "106241f5",
   "metadata": {
    "execution": {
     "iopub.execute_input": "2025-08-05T21:06:17.117764Z",
     "iopub.status.busy": "2025-08-05T21:06:17.116998Z",
     "iopub.status.idle": "2025-08-05T21:06:17.123734Z",
     "shell.execute_reply": "2025-08-05T21:06:17.122622Z"
    },
    "papermill": {
     "duration": 0.027912,
     "end_time": "2025-08-05T21:06:17.125464",
     "exception": false,
     "start_time": "2025-08-05T21:06:17.097552",
     "status": "completed"
    },
    "tags": []
   },
   "outputs": [
    {
     "name": "stdout",
     "output_type": "stream",
     "text": [
      "Using Seed: 2023\n"
     ]
    }
   ],
   "source": [
    "import numpy as np\n",
    "parsed_seed = int(seed)\n",
    "np.random.seed(parsed_seed)\n",
    "print(f\"Using Seed: {parsed_seed}\")"
   ]
  },
  {
   "cell_type": "markdown",
   "id": "e0ebdc57",
   "metadata": {
    "papermill": {
     "duration": 0.017899,
     "end_time": "2025-08-05T21:06:17.154895",
     "exception": false,
     "start_time": "2025-08-05T21:06:17.136996",
     "status": "completed"
    },
    "tags": []
   },
   "source": [
    "# Loading Data"
   ]
  },
  {
   "cell_type": "code",
   "execution_count": 9,
   "id": "f0496b8a",
   "metadata": {
    "execution": {
     "iopub.execute_input": "2025-08-05T21:06:17.193670Z",
     "iopub.status.busy": "2025-08-05T21:06:17.193212Z",
     "iopub.status.idle": "2025-08-05T21:06:28.575198Z",
     "shell.execute_reply": "2025-08-05T21:06:28.573943Z"
    },
    "papermill": {
     "duration": 11.403482,
     "end_time": "2025-08-05T21:06:28.576850",
     "exception": false,
     "start_time": "2025-08-05T21:06:17.173368",
     "status": "completed"
    },
    "tags": []
   },
   "outputs": [
    {
     "name": "stdout",
     "output_type": "stream",
     "text": [
      "Loading SIAB data from cache: data/siab_cached.csv.gz\n"
     ]
    },
    {
     "name": "stdout",
     "output_type": "stream",
     "text": [
      "(643690, 164)\n"
     ]
    }
   ],
   "source": [
    "from pathlib import Path\n",
    "import pandas as pd\n",
    "\n",
    "# File paths\n",
    "raw_file = Path(\"data/raw/siab.csv\")\n",
    "cache_file = Path(\"data/siab_cached.csv.gz\")\n",
    "\n",
    "# Ensure cache directory exists\n",
    "cache_file.parent.mkdir(parents=True, exist_ok=True)\n",
    "\n",
    "# Load with simple caching\n",
    "if cache_file.exists():\n",
    "    print(f\"Loading SIAB data from cache: {cache_file}\")\n",
    "    siab = pd.read_csv(cache_file, compression='gzip')\n",
    "else:\n",
    "    print(f\"Cache not found. Reading raw SIAB data: {raw_file}\")\n",
    "    siab = pd.read_csv(raw_file)\n",
    "    siab.to_csv(cache_file, index=False, compression='gzip')\n",
    "    print(f\"Cached SIAB data to: {cache_file}\")\n",
    "\n",
    "print(siab.shape)"
   ]
  },
  {
   "cell_type": "code",
   "execution_count": 10,
   "id": "db0ca512-5f53-4dba-abdb-a2888bca41ba",
   "metadata": {
    "execution": {
     "iopub.execute_input": "2025-08-05T21:06:28.618501Z",
     "iopub.status.busy": "2025-08-05T21:06:28.617896Z",
     "iopub.status.idle": "2025-08-05T21:06:28.623668Z",
     "shell.execute_reply": "2025-08-05T21:06:28.622610Z"
    },
    "papermill": {
     "duration": 0.026426,
     "end_time": "2025-08-05T21:06:28.625430",
     "exception": false,
     "start_time": "2025-08-05T21:06:28.599004",
     "status": "completed"
    },
    "tags": []
   },
   "outputs": [],
   "source": [
    "#siab"
   ]
  },
  {
   "cell_type": "markdown",
   "id": "997051c5-15bd-4b69-9786-c3001a3ce484",
   "metadata": {
    "papermill": {
     "duration": 0.018379,
     "end_time": "2025-08-05T21:06:28.663274",
     "exception": false,
     "start_time": "2025-08-05T21:06:28.644895",
     "status": "completed"
    },
    "tags": []
   },
   "source": [
    "# Splitting Data and Setting Training Data Size"
   ]
  },
  {
   "cell_type": "code",
   "execution_count": 11,
   "id": "aea9c6ef-6f46-42c8-85eb-5a62025c1508",
   "metadata": {
    "execution": {
     "iopub.execute_input": "2025-08-05T21:06:28.700961Z",
     "iopub.status.busy": "2025-08-05T21:06:28.700386Z",
     "iopub.status.idle": "2025-08-05T21:06:29.796053Z",
     "shell.execute_reply": "2025-08-05T21:06:29.795101Z"
    },
    "papermill": {
     "duration": 1.116491,
     "end_time": "2025-08-05T21:06:29.797867",
     "exception": false,
     "start_time": "2025-08-05T21:06:28.681376",
     "status": "completed"
    },
    "tags": []
   },
   "outputs": [],
   "source": [
    "from fairness_multiverse.universe import sample_by_year_size\n",
    "\n",
    "siab_train = sample_by_year_size(siab,\n",
    "                               training_year=universe[\"training_year\"],\n",
    "                               training_size=universe[\"training_size\"])"
   ]
  },
  {
   "cell_type": "code",
   "execution_count": 12,
   "id": "8d3afb32-789d-442c-8d5d-9f5aa8dd2eed",
   "metadata": {
    "execution": {
     "iopub.execute_input": "2025-08-05T21:06:29.836763Z",
     "iopub.status.busy": "2025-08-05T21:06:29.835979Z",
     "iopub.status.idle": "2025-08-05T21:06:29.841100Z",
     "shell.execute_reply": "2025-08-05T21:06:29.840094Z"
    },
    "papermill": {
     "duration": 0.025565,
     "end_time": "2025-08-05T21:06:29.843021",
     "exception": false,
     "start_time": "2025-08-05T21:06:29.817456",
     "status": "completed"
    },
    "tags": []
   },
   "outputs": [],
   "source": [
    "#siab_train.shape"
   ]
  },
  {
   "cell_type": "code",
   "execution_count": 13,
   "id": "d582db68-1a4c-47fb-84fc-08518dc1975a",
   "metadata": {
    "execution": {
     "iopub.execute_input": "2025-08-05T21:06:29.876434Z",
     "iopub.status.busy": "2025-08-05T21:06:29.876114Z",
     "iopub.status.idle": "2025-08-05T21:06:29.880339Z",
     "shell.execute_reply": "2025-08-05T21:06:29.879258Z"
    },
    "papermill": {
     "duration": 0.022748,
     "end_time": "2025-08-05T21:06:29.882294",
     "exception": false,
     "start_time": "2025-08-05T21:06:29.859546",
     "status": "completed"
    },
    "tags": []
   },
   "outputs": [],
   "source": [
    "#display(siab_train.groupby(\"year\").size())"
   ]
  },
  {
   "cell_type": "code",
   "execution_count": 14,
   "id": "a561edb4-d032-42cb-8256-22eac1111c64",
   "metadata": {
    "execution": {
     "iopub.execute_input": "2025-08-05T21:06:29.916268Z",
     "iopub.status.busy": "2025-08-05T21:06:29.915735Z",
     "iopub.status.idle": "2025-08-05T21:06:30.138952Z",
     "shell.execute_reply": "2025-08-05T21:06:30.138024Z"
    },
    "papermill": {
     "duration": 0.241698,
     "end_time": "2025-08-05T21:06:30.140885",
     "exception": false,
     "start_time": "2025-08-05T21:06:29.899187",
     "status": "completed"
    },
    "tags": []
   },
   "outputs": [],
   "source": [
    "#siab_train = siab_s[siab_s.year < 2015]\n",
    "siab_calib = siab[siab.year == 2015]\n",
    "siab_test = siab[siab.year == 2016]"
   ]
  },
  {
   "cell_type": "code",
   "execution_count": 15,
   "id": "472de16f-c3db-4916-846b-1f0de9cf1746",
   "metadata": {
    "execution": {
     "iopub.execute_input": "2025-08-05T21:06:30.176095Z",
     "iopub.status.busy": "2025-08-05T21:06:30.175501Z",
     "iopub.status.idle": "2025-08-05T21:06:30.190850Z",
     "shell.execute_reply": "2025-08-05T21:06:30.189620Z"
    },
    "papermill": {
     "duration": 0.034938,
     "end_time": "2025-08-05T21:06:30.193218",
     "exception": false,
     "start_time": "2025-08-05T21:06:30.158280",
     "status": "completed"
    },
    "tags": []
   },
   "outputs": [],
   "source": [
    "X_train = siab_train.iloc[:,4:164]\n",
    "y_train = siab_train.iloc[:, [3]]"
   ]
  },
  {
   "cell_type": "code",
   "execution_count": 16,
   "id": "828c96af-f43a-4ed6-ba47-8ac73a47d56c",
   "metadata": {
    "execution": {
     "iopub.execute_input": "2025-08-05T21:06:30.233617Z",
     "iopub.status.busy": "2025-08-05T21:06:30.233010Z",
     "iopub.status.idle": "2025-08-05T21:06:30.282100Z",
     "shell.execute_reply": "2025-08-05T21:06:30.281004Z"
    },
    "papermill": {
     "duration": 0.069924,
     "end_time": "2025-08-05T21:06:30.284032",
     "exception": false,
     "start_time": "2025-08-05T21:06:30.214108",
     "status": "completed"
    },
    "tags": []
   },
   "outputs": [],
   "source": [
    "X_calib = siab_calib.iloc[:,4:164]\n",
    "y_calib = siab_calib.iloc[:, [3]]"
   ]
  },
  {
   "cell_type": "code",
   "execution_count": 17,
   "id": "c34be9c3-6bd6-476e-acd3-845840e303be",
   "metadata": {
    "execution": {
     "iopub.execute_input": "2025-08-05T21:06:30.322394Z",
     "iopub.status.busy": "2025-08-05T21:06:30.322091Z",
     "iopub.status.idle": "2025-08-05T21:06:30.374112Z",
     "shell.execute_reply": "2025-08-05T21:06:30.372897Z"
    },
    "papermill": {
     "duration": 0.072588,
     "end_time": "2025-08-05T21:06:30.375960",
     "exception": false,
     "start_time": "2025-08-05T21:06:30.303372",
     "status": "completed"
    },
    "tags": []
   },
   "outputs": [],
   "source": [
    "X_test = siab_test.iloc[:,4:164]\n",
    "y_true = siab_test.iloc[:, [3]]"
   ]
  },
  {
   "cell_type": "code",
   "execution_count": 18,
   "id": "e6c733c5",
   "metadata": {
    "execution": {
     "iopub.execute_input": "2025-08-05T21:06:30.414160Z",
     "iopub.status.busy": "2025-08-05T21:06:30.413454Z",
     "iopub.status.idle": "2025-08-05T21:06:30.508691Z",
     "shell.execute_reply": "2025-08-05T21:06:30.507780Z"
    },
    "papermill": {
     "duration": 0.115743,
     "end_time": "2025-08-05T21:06:30.510592",
     "exception": false,
     "start_time": "2025-08-05T21:06:30.394849",
     "status": "completed"
    },
    "tags": []
   },
   "outputs": [],
   "source": [
    "# Auxiliary data needed downstream in the pipeline\n",
    "\n",
    "org_train = X_train.copy()\n",
    "org_test = X_test.copy()\n",
    "org_calib = X_calib.copy()"
   ]
  },
  {
   "cell_type": "markdown",
   "id": "0a4a1b33",
   "metadata": {
    "papermill": {
     "duration": 0.016673,
     "end_time": "2025-08-05T21:06:30.544072",
     "exception": false,
     "start_time": "2025-08-05T21:06:30.527399",
     "status": "completed"
    },
    "tags": []
   },
   "source": [
    "# Preprocessing Data"
   ]
  },
  {
   "cell_type": "code",
   "execution_count": 19,
   "id": "ca879031",
   "metadata": {
    "execution": {
     "iopub.execute_input": "2025-08-05T21:06:30.578586Z",
     "iopub.status.busy": "2025-08-05T21:06:30.577772Z",
     "iopub.status.idle": "2025-08-05T21:06:30.583690Z",
     "shell.execute_reply": "2025-08-05T21:06:30.582797Z"
    },
    "papermill": {
     "duration": 0.024974,
     "end_time": "2025-08-05T21:06:30.585402",
     "exception": false,
     "start_time": "2025-08-05T21:06:30.560428",
     "status": "completed"
    },
    "tags": []
   },
   "outputs": [],
   "source": [
    "# EXCLUDE PROTECTED FEATURES\n",
    "# ----------------------\n",
    "# \"exclude_features\": \"none\", # \"nationality\", \"sex\", \"nationality-sex\"\n",
    "\n",
    "excluded_features = universe[\"exclude_features\"].split(\"-\") # split, e.g.: \"nationality-sex\" -> [\"nationality\", \"sex\"]\n",
    "excluded_features_dictionary = {\n",
    "    \"nationality\": [\"maxdeutsch1\", \"maxdeutsch.Missing.\"],\n",
    "    \"sex\": [\"frau1\"],\n",
    "    \"age\": [\"age\"],\n",
    "}"
   ]
  },
  {
   "cell_type": "code",
   "execution_count": 20,
   "id": "b745ac60",
   "metadata": {
    "execution": {
     "iopub.execute_input": "2025-08-05T21:06:30.623500Z",
     "iopub.status.busy": "2025-08-05T21:06:30.622681Z",
     "iopub.status.idle": "2025-08-05T21:06:30.628143Z",
     "shell.execute_reply": "2025-08-05T21:06:30.627136Z"
    },
    "papermill": {
     "duration": 0.027474,
     "end_time": "2025-08-05T21:06:30.630202",
     "exception": false,
     "start_time": "2025-08-05T21:06:30.602728",
     "status": "completed"
    },
    "tags": []
   },
   "outputs": [],
   "source": [
    "# Code nice names to column names\n",
    "\n",
    "excluded_features_columns = [\n",
    "    excluded_features_dictionary[f] for f in excluded_features if len(f) > 0 and f != \"none\"\n",
    "]"
   ]
  },
  {
   "cell_type": "code",
   "execution_count": 21,
   "id": "f84f73a2",
   "metadata": {
    "execution": {
     "iopub.execute_input": "2025-08-05T21:06:30.672586Z",
     "iopub.status.busy": "2025-08-05T21:06:30.671902Z",
     "iopub.status.idle": "2025-08-05T21:06:30.679822Z",
     "shell.execute_reply": "2025-08-05T21:06:30.678739Z"
    },
    "papermill": {
     "duration": 0.032283,
     "end_time": "2025-08-05T21:06:30.681906",
     "exception": false,
     "start_time": "2025-08-05T21:06:30.649623",
     "status": "completed"
    },
    "tags": []
   },
   "outputs": [],
   "source": [
    "from utils import flatten_once\n",
    "\n",
    "excluded_features_columns = flatten_once(excluded_features_columns)"
   ]
  },
  {
   "cell_type": "code",
   "execution_count": 22,
   "id": "884dea22",
   "metadata": {
    "execution": {
     "iopub.execute_input": "2025-08-05T21:06:30.723653Z",
     "iopub.status.busy": "2025-08-05T21:06:30.722987Z",
     "iopub.status.idle": "2025-08-05T21:06:30.739015Z",
     "shell.execute_reply": "2025-08-05T21:06:30.737726Z"
    },
    "papermill": {
     "duration": 0.038287,
     "end_time": "2025-08-05T21:06:30.740913",
     "exception": false,
     "start_time": "2025-08-05T21:06:30.702626",
     "status": "completed"
    },
    "tags": []
   },
   "outputs": [
    {
     "name": "stdout",
     "output_type": "stream",
     "text": [
      "Dropping features: ['maxdeutsch1', 'maxdeutsch.Missing.']\n"
     ]
    }
   ],
   "source": [
    "if len(excluded_features_columns) > 0:\n",
    "    print(f\"Dropping features: {excluded_features_columns}\")\n",
    "    X_train.drop(excluded_features_columns, axis=1, inplace=True)"
   ]
  },
  {
   "cell_type": "code",
   "execution_count": 23,
   "id": "95ab8b16",
   "metadata": {
    "execution": {
     "iopub.execute_input": "2025-08-05T21:06:30.782949Z",
     "iopub.status.busy": "2025-08-05T21:06:30.782279Z",
     "iopub.status.idle": "2025-08-05T21:06:30.834210Z",
     "shell.execute_reply": "2025-08-05T21:06:30.832797Z"
    },
    "papermill": {
     "duration": 0.075182,
     "end_time": "2025-08-05T21:06:30.836202",
     "exception": false,
     "start_time": "2025-08-05T21:06:30.761020",
     "status": "completed"
    },
    "tags": []
   },
   "outputs": [
    {
     "name": "stdout",
     "output_type": "stream",
     "text": [
      "Dropping features: ['maxdeutsch1', 'maxdeutsch.Missing.']\n"
     ]
    }
   ],
   "source": [
    "if len(excluded_features_columns) > 0:\n",
    "    print(f\"Dropping features: {excluded_features_columns}\")\n",
    "    X_test.drop(excluded_features_columns, axis=1, inplace=True)"
   ]
  },
  {
   "cell_type": "code",
   "execution_count": 24,
   "id": "1853aaf5-fb9f-46cb-a2b5-8ea4ae2237e4",
   "metadata": {
    "execution": {
     "iopub.execute_input": "2025-08-05T21:06:30.877711Z",
     "iopub.status.busy": "2025-08-05T21:06:30.877051Z",
     "iopub.status.idle": "2025-08-05T21:06:30.930436Z",
     "shell.execute_reply": "2025-08-05T21:06:30.929206Z"
    },
    "papermill": {
     "duration": 0.075126,
     "end_time": "2025-08-05T21:06:30.932408",
     "exception": false,
     "start_time": "2025-08-05T21:06:30.857282",
     "status": "completed"
    },
    "tags": []
   },
   "outputs": [
    {
     "name": "stdout",
     "output_type": "stream",
     "text": [
      "Dropping features: ['maxdeutsch1', 'maxdeutsch.Missing.']\n"
     ]
    }
   ],
   "source": [
    "if len(excluded_features_columns) > 0:\n",
    "    print(f\"Dropping features: {excluded_features_columns}\")\n",
    "    X_calib.drop(excluded_features_columns, axis=1, inplace=True)"
   ]
  },
  {
   "cell_type": "code",
   "execution_count": 25,
   "id": "76c4dc6d",
   "metadata": {
    "execution": {
     "iopub.execute_input": "2025-08-05T21:06:30.975191Z",
     "iopub.status.busy": "2025-08-05T21:06:30.974333Z",
     "iopub.status.idle": "2025-08-05T21:06:30.980237Z",
     "shell.execute_reply": "2025-08-05T21:06:30.979242Z"
    },
    "papermill": {
     "duration": 0.029213,
     "end_time": "2025-08-05T21:06:30.982440",
     "exception": false,
     "start_time": "2025-08-05T21:06:30.953227",
     "status": "completed"
    },
    "tags": []
   },
   "outputs": [],
   "source": [
    "# EXCLUDE CERTAIN SUBGROUPS\n",
    "# ----------------------\n",
    "\n",
    "mode = universe.get(\"exclude_subgroups\", \"keep-all\") \n",
    "# Fetches the exclude_subgroups setting from the universe dict.\n",
    "# Defaults to \"keep-all\" if the key is missing."
   ]
  },
  {
   "cell_type": "code",
   "execution_count": 26,
   "id": "21994072",
   "metadata": {
    "execution": {
     "iopub.execute_input": "2025-08-05T21:06:31.026195Z",
     "iopub.status.busy": "2025-08-05T21:06:31.025418Z",
     "iopub.status.idle": "2025-08-05T21:06:31.033255Z",
     "shell.execute_reply": "2025-08-05T21:06:31.032173Z"
    },
    "papermill": {
     "duration": 0.032874,
     "end_time": "2025-08-05T21:06:31.035088",
     "exception": false,
     "start_time": "2025-08-05T21:06:31.002214",
     "status": "completed"
    },
    "tags": []
   },
   "outputs": [],
   "source": [
    "if mode == \"keep-all\":\n",
    "    keep_mask = pd.Series(True, index=org_train.index)\n",
    "\n",
    "# org_train contains the original feature columns from features_org (in Simson)\n",
    "# features_org contains unprocessed features, for me X_train at beginning ???\n",
    "# For keep-all, creates a boolean Series (keep_mask) of all True, so no rows are removed.\n",
    "\n",
    "elif mode == \"drop-non-german\":\n",
    "    keep_mask = org_train[\"maxdeutsch1\"] == 1 # ??? what about missing values?\n",
    "\n",
    "else:\n",
    "    raise ValueError(f\"Unsupported mode for exclude_subgroups: {mode}\")"
   ]
  },
  {
   "cell_type": "code",
   "execution_count": 27,
   "id": "71651440",
   "metadata": {
    "execution": {
     "iopub.execute_input": "2025-08-05T21:06:31.072118Z",
     "iopub.status.busy": "2025-08-05T21:06:31.071256Z",
     "iopub.status.idle": "2025-08-05T21:06:31.078131Z",
     "shell.execute_reply": "2025-08-05T21:06:31.076985Z"
    },
    "papermill": {
     "duration": 0.026828,
     "end_time": "2025-08-05T21:06:31.079741",
     "exception": false,
     "start_time": "2025-08-05T21:06:31.052913",
     "status": "completed"
    },
    "tags": []
   },
   "outputs": [],
   "source": [
    "n_drop = (~keep_mask).sum() # Calculates how many rows are set to be dropped\n",
    "if n_drop > 0:\n",
    "    pct = n_drop / len(keep_mask) * 100\n",
    "    print(f\"Dropping {n_drop} rows ({pct:.2f}%) where mode='{mode}'\")"
   ]
  },
  {
   "cell_type": "code",
   "execution_count": 28,
   "id": "5fb8eee5",
   "metadata": {
    "execution": {
     "iopub.execute_input": "2025-08-05T21:06:31.116553Z",
     "iopub.status.busy": "2025-08-05T21:06:31.115872Z",
     "iopub.status.idle": "2025-08-05T21:06:31.132507Z",
     "shell.execute_reply": "2025-08-05T21:06:31.131259Z"
    },
    "papermill": {
     "duration": 0.03673,
     "end_time": "2025-08-05T21:06:31.134416",
     "exception": false,
     "start_time": "2025-08-05T21:06:31.097686",
     "status": "completed"
    },
    "tags": []
   },
   "outputs": [],
   "source": [
    "X_train = X_train[keep_mask]"
   ]
  },
  {
   "cell_type": "code",
   "execution_count": 29,
   "id": "b202bb3a",
   "metadata": {
    "execution": {
     "iopub.execute_input": "2025-08-05T21:06:31.172712Z",
     "iopub.status.busy": "2025-08-05T21:06:31.172030Z",
     "iopub.status.idle": "2025-08-05T21:06:31.178729Z",
     "shell.execute_reply": "2025-08-05T21:06:31.177485Z"
    },
    "papermill": {
     "duration": 0.026657,
     "end_time": "2025-08-05T21:06:31.180434",
     "exception": false,
     "start_time": "2025-08-05T21:06:31.153777",
     "status": "completed"
    },
    "tags": []
   },
   "outputs": [],
   "source": [
    "y_train = y_train[keep_mask]"
   ]
  },
  {
   "cell_type": "markdown",
   "id": "493e2ac3",
   "metadata": {
    "papermill": {
     "duration": 0.010164,
     "end_time": "2025-08-05T21:06:31.209385",
     "exception": false,
     "start_time": "2025-08-05T21:06:31.199221",
     "status": "completed"
    },
    "tags": []
   },
   "source": [
    "# Model Training"
   ]
  },
  {
   "cell_type": "code",
   "execution_count": 30,
   "id": "679e1268",
   "metadata": {
    "execution": {
     "iopub.execute_input": "2025-08-05T21:06:31.253232Z",
     "iopub.status.busy": "2025-08-05T21:06:31.252782Z",
     "iopub.status.idle": "2025-08-05T21:06:31.331343Z",
     "shell.execute_reply": "2025-08-05T21:06:31.330568Z"
    },
    "papermill": {
     "duration": 0.102558,
     "end_time": "2025-08-05T21:06:31.332776",
     "exception": false,
     "start_time": "2025-08-05T21:06:31.230218",
     "status": "completed"
    },
    "tags": []
   },
   "outputs": [],
   "source": [
    "from sklearn.linear_model import LogisticRegression\n",
    "from sklearn.ensemble import GradientBoostingClassifier, RandomForestClassifier\n",
    "\n",
    "if (universe[\"model\"] == \"logreg\"):\n",
    "    model = LogisticRegression() #penalty=\"none\", solver=\"newton-cg\", max_iter=1) # include random_state=19 ?\n",
    "elif (universe[\"model\"] == \"penalized_logreg\"):\n",
    "    model = LogisticRegression(penalty=\"l2\", C=0.1) #, solver=\"newton-cg\", max_iter=1)\n",
    "elif (universe[\"model\"] == \"rf\"):\n",
    "    model = RandomForestClassifier() # n_estimators=100, n_jobs=-1\n",
    "elif (universe[\"model\"] == \"gbm\"):\n",
    "    model = GradientBoostingClassifier()\n",
    "elif (universe[\"model\"] == \"elasticnet\"):\n",
    "    model = LogisticRegression(penalty = 'elasticnet', solver = 'saga', l1_ratio = 0.5) # max_iter=5000\n",
    "else:\n",
    "    raise \"Unsupported universe.model\""
   ]
  },
  {
   "cell_type": "code",
   "execution_count": 31,
   "id": "0cc8f744",
   "metadata": {
    "execution": {
     "iopub.execute_input": "2025-08-05T21:06:31.354999Z",
     "iopub.status.busy": "2025-08-05T21:06:31.354329Z",
     "iopub.status.idle": "2025-08-05T21:06:31.359478Z",
     "shell.execute_reply": "2025-08-05T21:06:31.358727Z"
    },
    "papermill": {
     "duration": 0.01741,
     "end_time": "2025-08-05T21:06:31.361092",
     "exception": false,
     "start_time": "2025-08-05T21:06:31.343682",
     "status": "completed"
    },
    "tags": []
   },
   "outputs": [],
   "source": [
    "import numpy as np\n",
    "from sklearn.pipeline import Pipeline\n",
    "from sklearn.preprocessing import StandardScaler\n",
    "\n",
    "model = Pipeline([\n",
    "    #(\"continuous_processor\", continuous_processor),\n",
    "    #(\"categorical_preprocessor\", categorical_preprocessor),\n",
    "    (\"scale\", StandardScaler() if universe[\"scale\"] == \"scale\" else None), \n",
    "    (\"model\", model),\n",
    "])"
   ]
  },
  {
   "cell_type": "code",
   "execution_count": 32,
   "id": "9442c04d",
   "metadata": {
    "execution": {
     "iopub.execute_input": "2025-08-05T21:06:31.399401Z",
     "iopub.status.busy": "2025-08-05T21:06:31.398782Z",
     "iopub.status.idle": "2025-08-05T21:06:32.078789Z",
     "shell.execute_reply": "2025-08-05T21:06:32.077901Z"
    },
    "papermill": {
     "duration": 0.700713,
     "end_time": "2025-08-05T21:06:32.080556",
     "exception": false,
     "start_time": "2025-08-05T21:06:31.379843",
     "status": "completed"
    },
    "tags": []
   },
   "outputs": [
    {
     "name": "stderr",
     "output_type": "stream",
     "text": [
      "/dss/dsshome1/0C/ra93lal2/.local/share/virtualenvs/CMA_Fairness_v2-3j10GkSs/lib/python3.10/site-packages/sklearn/linear_model/_logistic.py:444: ConvergenceWarning: lbfgs failed to converge (status=1):\n",
      "STOP: TOTAL NO. of ITERATIONS REACHED LIMIT.\n",
      "\n",
      "Increase the number of iterations (max_iter) or scale the data as shown in:\n",
      "    https://scikit-learn.org/stable/modules/preprocessing.html\n",
      "Please also refer to the documentation for alternative solver options:\n",
      "    https://scikit-learn.org/stable/modules/linear_model.html#logistic-regression\n",
      "  n_iter_i = _check_optimize_result(\n"
     ]
    },
    {
     "data": {
      "text/html": [
       "<style>#sk-container-id-1 {color: black;background-color: white;}#sk-container-id-1 pre{padding: 0;}#sk-container-id-1 div.sk-toggleable {background-color: white;}#sk-container-id-1 label.sk-toggleable__label {cursor: pointer;display: block;width: 100%;margin-bottom: 0;padding: 0.3em;box-sizing: border-box;text-align: center;}#sk-container-id-1 label.sk-toggleable__label-arrow:before {content: \"▸\";float: left;margin-right: 0.25em;color: #696969;}#sk-container-id-1 label.sk-toggleable__label-arrow:hover:before {color: black;}#sk-container-id-1 div.sk-estimator:hover label.sk-toggleable__label-arrow:before {color: black;}#sk-container-id-1 div.sk-toggleable__content {max-height: 0;max-width: 0;overflow: hidden;text-align: left;background-color: #f0f8ff;}#sk-container-id-1 div.sk-toggleable__content pre {margin: 0.2em;color: black;border-radius: 0.25em;background-color: #f0f8ff;}#sk-container-id-1 input.sk-toggleable__control:checked~div.sk-toggleable__content {max-height: 200px;max-width: 100%;overflow: auto;}#sk-container-id-1 input.sk-toggleable__control:checked~label.sk-toggleable__label-arrow:before {content: \"▾\";}#sk-container-id-1 div.sk-estimator input.sk-toggleable__control:checked~label.sk-toggleable__label {background-color: #d4ebff;}#sk-container-id-1 div.sk-label input.sk-toggleable__control:checked~label.sk-toggleable__label {background-color: #d4ebff;}#sk-container-id-1 input.sk-hidden--visually {border: 0;clip: rect(1px 1px 1px 1px);clip: rect(1px, 1px, 1px, 1px);height: 1px;margin: -1px;overflow: hidden;padding: 0;position: absolute;width: 1px;}#sk-container-id-1 div.sk-estimator {font-family: monospace;background-color: #f0f8ff;border: 1px dotted black;border-radius: 0.25em;box-sizing: border-box;margin-bottom: 0.5em;}#sk-container-id-1 div.sk-estimator:hover {background-color: #d4ebff;}#sk-container-id-1 div.sk-parallel-item::after {content: \"\";width: 100%;border-bottom: 1px solid gray;flex-grow: 1;}#sk-container-id-1 div.sk-label:hover label.sk-toggleable__label {background-color: #d4ebff;}#sk-container-id-1 div.sk-serial::before {content: \"\";position: absolute;border-left: 1px solid gray;box-sizing: border-box;top: 0;bottom: 0;left: 50%;z-index: 0;}#sk-container-id-1 div.sk-serial {display: flex;flex-direction: column;align-items: center;background-color: white;padding-right: 0.2em;padding-left: 0.2em;position: relative;}#sk-container-id-1 div.sk-item {position: relative;z-index: 1;}#sk-container-id-1 div.sk-parallel {display: flex;align-items: stretch;justify-content: center;background-color: white;position: relative;}#sk-container-id-1 div.sk-item::before, #sk-container-id-1 div.sk-parallel-item::before {content: \"\";position: absolute;border-left: 1px solid gray;box-sizing: border-box;top: 0;bottom: 0;left: 50%;z-index: -1;}#sk-container-id-1 div.sk-parallel-item {display: flex;flex-direction: column;z-index: 1;position: relative;background-color: white;}#sk-container-id-1 div.sk-parallel-item:first-child::after {align-self: flex-end;width: 50%;}#sk-container-id-1 div.sk-parallel-item:last-child::after {align-self: flex-start;width: 50%;}#sk-container-id-1 div.sk-parallel-item:only-child::after {width: 0;}#sk-container-id-1 div.sk-dashed-wrapped {border: 1px dashed gray;margin: 0 0.4em 0.5em 0.4em;box-sizing: border-box;padding-bottom: 0.4em;background-color: white;}#sk-container-id-1 div.sk-label label {font-family: monospace;font-weight: bold;display: inline-block;line-height: 1.2em;}#sk-container-id-1 div.sk-label-container {text-align: center;}#sk-container-id-1 div.sk-container {/* jupyter's `normalize.less` sets `[hidden] { display: none; }` but bootstrap.min.css set `[hidden] { display: none !important; }` so we also need the `!important` here to be able to override the default hidden behavior on the sphinx rendered scikit-learn.org. See: https://github.com/scikit-learn/scikit-learn/issues/21755 */display: inline-block !important;position: relative;}#sk-container-id-1 div.sk-text-repr-fallback {display: none;}</style><div id=\"sk-container-id-1\" class=\"sk-top-container\"><div class=\"sk-text-repr-fallback\"><pre>Pipeline(steps=[(&#x27;scale&#x27;, StandardScaler()),\n",
       "                (&#x27;model&#x27;, LogisticRegression(C=0.1))])</pre><b>In a Jupyter environment, please rerun this cell to show the HTML representation or trust the notebook. <br />On GitHub, the HTML representation is unable to render, please try loading this page with nbviewer.org.</b></div><div class=\"sk-container\" hidden><div class=\"sk-item sk-dashed-wrapped\"><div class=\"sk-label-container\"><div class=\"sk-label sk-toggleable\"><input class=\"sk-toggleable__control sk-hidden--visually\" id=\"sk-estimator-id-1\" type=\"checkbox\" ><label for=\"sk-estimator-id-1\" class=\"sk-toggleable__label sk-toggleable__label-arrow\">Pipeline</label><div class=\"sk-toggleable__content\"><pre>Pipeline(steps=[(&#x27;scale&#x27;, StandardScaler()),\n",
       "                (&#x27;model&#x27;, LogisticRegression(C=0.1))])</pre></div></div></div><div class=\"sk-serial\"><div class=\"sk-item\"><div class=\"sk-estimator sk-toggleable\"><input class=\"sk-toggleable__control sk-hidden--visually\" id=\"sk-estimator-id-2\" type=\"checkbox\" ><label for=\"sk-estimator-id-2\" class=\"sk-toggleable__label sk-toggleable__label-arrow\">StandardScaler</label><div class=\"sk-toggleable__content\"><pre>StandardScaler()</pre></div></div></div><div class=\"sk-item\"><div class=\"sk-estimator sk-toggleable\"><input class=\"sk-toggleable__control sk-hidden--visually\" id=\"sk-estimator-id-3\" type=\"checkbox\" ><label for=\"sk-estimator-id-3\" class=\"sk-toggleable__label sk-toggleable__label-arrow\">LogisticRegression</label><div class=\"sk-toggleable__content\"><pre>LogisticRegression(C=0.1)</pre></div></div></div></div></div></div></div>"
      ],
      "text/plain": [
       "Pipeline(steps=[('scale', StandardScaler()),\n",
       "                ('model', LogisticRegression(C=0.1))])"
      ]
     },
     "execution_count": 32,
     "metadata": {},
     "output_type": "execute_result"
    }
   ],
   "source": [
    "model.fit(X_train, y_train.values.ravel())"
   ]
  },
  {
   "cell_type": "code",
   "execution_count": 33,
   "id": "af59f8c0",
   "metadata": {
    "execution": {
     "iopub.execute_input": "2025-08-05T21:06:32.123107Z",
     "iopub.status.busy": "2025-08-05T21:06:32.122259Z",
     "iopub.status.idle": "2025-08-05T21:06:32.128248Z",
     "shell.execute_reply": "2025-08-05T21:06:32.127267Z"
    },
    "papermill": {
     "duration": 0.029621,
     "end_time": "2025-08-05T21:06:32.129863",
     "exception": false,
     "start_time": "2025-08-05T21:06:32.100242",
     "status": "completed"
    },
    "tags": []
   },
   "outputs": [],
   "source": [
    "from fairness_multiverse.universe import predict_w_threshold"
   ]
  },
  {
   "cell_type": "code",
   "execution_count": 34,
   "id": "a7cf2e16",
   "metadata": {
    "execution": {
     "iopub.execute_input": "2025-08-05T21:06:32.169395Z",
     "iopub.status.busy": "2025-08-05T21:06:32.168404Z",
     "iopub.status.idle": "2025-08-05T21:06:32.366640Z",
     "shell.execute_reply": "2025-08-05T21:06:32.365504Z"
    },
    "papermill": {
     "duration": 0.219687,
     "end_time": "2025-08-05T21:06:32.368319",
     "exception": false,
     "start_time": "2025-08-05T21:06:32.148632",
     "status": "completed"
    },
    "tags": []
   },
   "outputs": [
    {
     "data": {
      "text/plain": [
       "0.8602273993980604"
      ]
     },
     "execution_count": 34,
     "metadata": {},
     "output_type": "execute_result"
    }
   ],
   "source": [
    "probs_test = model.predict_proba(X_test)\n",
    "\n",
    "'''\n",
    "Below code returns a boolean array (or binary 0/1 array depending on how it’s used) where each element \n",
    "is True if the probability of class 1 is greater than or equal to the threshold, and False otherwise.\n",
    "'''\n",
    "y_pred_default = predict_w_threshold(probs_test, 0.5)\n",
    "\n",
    "from sklearn.metrics import accuracy_score\n",
    "\n",
    "# Naive prediction\n",
    "accuracy_score(y_true = y_true, y_pred = y_pred_default)"
   ]
  },
  {
   "cell_type": "code",
   "execution_count": 35,
   "id": "081964c3",
   "metadata": {
    "execution": {
     "iopub.execute_input": "2025-08-05T21:06:32.411318Z",
     "iopub.status.busy": "2025-08-05T21:06:32.410594Z",
     "iopub.status.idle": "2025-08-05T21:06:32.598158Z",
     "shell.execute_reply": "2025-08-05T21:06:32.596960Z"
    },
    "papermill": {
     "duration": 0.210493,
     "end_time": "2025-08-05T21:06:32.599837",
     "exception": false,
     "start_time": "2025-08-05T21:06:32.389344",
     "status": "completed"
    },
    "tags": []
   },
   "outputs": [
    {
     "data": {
      "text/plain": [
       "array([0, 0, 0, ..., 0, 0, 0])"
      ]
     },
     "execution_count": 35,
     "metadata": {},
     "output_type": "execute_result"
    }
   ],
   "source": [
    "model.predict(X_test)"
   ]
  },
  {
   "cell_type": "markdown",
   "id": "56c9705b",
   "metadata": {
    "papermill": {
     "duration": 0.025372,
     "end_time": "2025-08-05T21:06:32.644398",
     "exception": false,
     "start_time": "2025-08-05T21:06:32.619026",
     "status": "completed"
    },
    "tags": []
   },
   "source": [
    "# Conformal Prediction"
   ]
  },
  {
   "cell_type": "code",
   "execution_count": 36,
   "id": "160ec6ff",
   "metadata": {
    "execution": {
     "iopub.execute_input": "2025-08-05T21:06:32.696122Z",
     "iopub.status.busy": "2025-08-05T21:06:32.695438Z",
     "iopub.status.idle": "2025-08-05T21:06:32.700945Z",
     "shell.execute_reply": "2025-08-05T21:06:32.699928Z"
    },
    "papermill": {
     "duration": 0.033462,
     "end_time": "2025-08-05T21:06:32.702714",
     "exception": false,
     "start_time": "2025-08-05T21:06:32.669252",
     "status": "completed"
    },
    "tags": []
   },
   "outputs": [],
   "source": [
    "# Miscoverage level for conformal prediction (10% allowed error rate => 90% target coverage)\n",
    "alpha = 0.1"
   ]
  },
  {
   "cell_type": "code",
   "execution_count": 37,
   "id": "eadf4555-3dd3-440e-8e35-f82a4ad9f855",
   "metadata": {
    "execution": {
     "iopub.execute_input": "2025-08-05T21:06:32.741828Z",
     "iopub.status.busy": "2025-08-05T21:06:32.741135Z",
     "iopub.status.idle": "2025-08-05T21:06:32.918473Z",
     "shell.execute_reply": "2025-08-05T21:06:32.917404Z"
    },
    "papermill": {
     "duration": 0.198656,
     "end_time": "2025-08-05T21:06:32.920621",
     "exception": false,
     "start_time": "2025-08-05T21:06:32.721965",
     "status": "completed"
    },
    "tags": []
   },
   "outputs": [],
   "source": [
    "probs_calib = model.predict_proba(X_calib)"
   ]
  },
  {
   "cell_type": "code",
   "execution_count": 38,
   "id": "2ed93547-6d5d-4983-9b36-1ecb300da49a",
   "metadata": {
    "execution": {
     "iopub.execute_input": "2025-08-05T21:06:32.969653Z",
     "iopub.status.busy": "2025-08-05T21:06:32.969065Z",
     "iopub.status.idle": "2025-08-05T21:06:32.974634Z",
     "shell.execute_reply": "2025-08-05T21:06:32.973616Z"
    },
    "papermill": {
     "duration": 0.030783,
     "end_time": "2025-08-05T21:06:32.976152",
     "exception": false,
     "start_time": "2025-08-05T21:06:32.945369",
     "status": "completed"
    },
    "tags": []
   },
   "outputs": [],
   "source": [
    "y_calib = y_calib.values.ravel().astype(int)"
   ]
  },
  {
   "cell_type": "code",
   "execution_count": 39,
   "id": "65d1320d-f588-4b38-9072-62af1ae97f7d",
   "metadata": {
    "execution": {
     "iopub.execute_input": "2025-08-05T21:06:33.015251Z",
     "iopub.status.busy": "2025-08-05T21:06:33.014885Z",
     "iopub.status.idle": "2025-08-05T21:06:33.021223Z",
     "shell.execute_reply": "2025-08-05T21:06:33.020171Z"
    },
    "papermill": {
     "duration": 0.027741,
     "end_time": "2025-08-05T21:06:33.022964",
     "exception": false,
     "start_time": "2025-08-05T21:06:32.995223",
     "status": "completed"
    },
    "tags": []
   },
   "outputs": [],
   "source": [
    "from fairness_multiverse.conformal import compute_nc_scores\n",
    "\n",
    "# Compute nonconformity scores on calibration set (1 - probability of true class)\n",
    "nc_scores = compute_nc_scores(probs_calib, y_calib)"
   ]
  },
  {
   "cell_type": "code",
   "execution_count": 40,
   "id": "df3b8ca3-53b7-43d5-9667-7c85da7aeda2",
   "metadata": {
    "execution": {
     "iopub.execute_input": "2025-08-05T21:06:33.061993Z",
     "iopub.status.busy": "2025-08-05T21:06:33.061360Z",
     "iopub.status.idle": "2025-08-05T21:06:33.066919Z",
     "shell.execute_reply": "2025-08-05T21:06:33.065991Z"
    },
    "papermill": {
     "duration": 0.026923,
     "end_time": "2025-08-05T21:06:33.068658",
     "exception": false,
     "start_time": "2025-08-05T21:06:33.041735",
     "status": "completed"
    },
    "tags": []
   },
   "outputs": [],
   "source": [
    "from fairness_multiverse.conformal import find_threshold\n",
    "\n",
    "# Find conformal threshold q_hat for the given alpha (split conformal method)\n",
    "q_hat = find_threshold(nc_scores, alpha)"
   ]
  },
  {
   "cell_type": "code",
   "execution_count": 41,
   "id": "4d29e6c1-0ef6-4aa4-b8fe-4fe79b0d033a",
   "metadata": {
    "execution": {
     "iopub.execute_input": "2025-08-05T21:06:33.109540Z",
     "iopub.status.busy": "2025-08-05T21:06:33.108838Z",
     "iopub.status.idle": "2025-08-05T21:06:33.115159Z",
     "shell.execute_reply": "2025-08-05T21:06:33.114189Z"
    },
    "papermill": {
     "duration": 0.028794,
     "end_time": "2025-08-05T21:06:33.116817",
     "exception": false,
     "start_time": "2025-08-05T21:06:33.088023",
     "status": "completed"
    },
    "tags": []
   },
   "outputs": [
    {
     "data": {
      "text/plain": [
       "0.6598916548457179"
      ]
     },
     "execution_count": 41,
     "metadata": {},
     "output_type": "execute_result"
    }
   ],
   "source": [
    "q_hat"
   ]
  },
  {
   "cell_type": "code",
   "execution_count": 42,
   "id": "92460794-cdac-4be2-ba28-f28c0515a6fb",
   "metadata": {
    "execution": {
     "iopub.execute_input": "2025-08-05T21:06:33.155770Z",
     "iopub.status.busy": "2025-08-05T21:06:33.155133Z",
     "iopub.status.idle": "2025-08-05T21:06:34.058318Z",
     "shell.execute_reply": "2025-08-05T21:06:34.057403Z"
    },
    "papermill": {
     "duration": 0.924008,
     "end_time": "2025-08-05T21:06:34.059820",
     "exception": false,
     "start_time": "2025-08-05T21:06:33.135812",
     "status": "completed"
    },
    "tags": []
   },
   "outputs": [],
   "source": [
    "from fairness_multiverse.conformal import predict_conformal_sets\n",
    "\n",
    "# Generate prediction sets for each test example\n",
    "pred_sets = predict_conformal_sets(model, X_test, q_hat)"
   ]
  },
  {
   "cell_type": "code",
   "execution_count": 43,
   "id": "d90c9a65-e6db-4f5d-80cd-e68fb7e46829",
   "metadata": {
    "execution": {
     "iopub.execute_input": "2025-08-05T21:06:34.083035Z",
     "iopub.status.busy": "2025-08-05T21:06:34.082674Z",
     "iopub.status.idle": "2025-08-05T21:06:34.086925Z",
     "shell.execute_reply": "2025-08-05T21:06:34.086151Z"
    },
    "papermill": {
     "duration": 0.017119,
     "end_time": "2025-08-05T21:06:34.088102",
     "exception": false,
     "start_time": "2025-08-05T21:06:34.070983",
     "status": "completed"
    },
    "tags": []
   },
   "outputs": [],
   "source": [
    "y_true = y_true.squeeze()"
   ]
  },
  {
   "cell_type": "code",
   "execution_count": 44,
   "id": "3a58a54a-1e68-46b9-927a-df01f18aebc8",
   "metadata": {
    "execution": {
     "iopub.execute_input": "2025-08-05T21:06:34.115132Z",
     "iopub.status.busy": "2025-08-05T21:06:34.114856Z",
     "iopub.status.idle": "2025-08-05T21:06:34.964577Z",
     "shell.execute_reply": "2025-08-05T21:06:34.963558Z"
    },
    "papermill": {
     "duration": 0.864676,
     "end_time": "2025-08-05T21:06:34.966902",
     "exception": false,
     "start_time": "2025-08-05T21:06:34.102226",
     "status": "completed"
    },
    "tags": []
   },
   "outputs": [],
   "source": [
    "from fairness_multiverse.conformal import evaluate_sets\n",
    "\n",
    "# Evaluate coverage and average set size on test data\n",
    "metrics = evaluate_sets(pred_sets, y_true)"
   ]
  },
  {
   "cell_type": "markdown",
   "id": "2b569c12-9aaa-4c88-98c9-bbcd0cf3ebb8",
   "metadata": {
    "papermill": {
     "duration": 0.02124,
     "end_time": "2025-08-05T21:06:35.010168",
     "exception": false,
     "start_time": "2025-08-05T21:06:34.988928",
     "status": "completed"
    },
    "tags": []
   },
   "source": [
    "# CP Metrics"
   ]
  },
  {
   "cell_type": "code",
   "execution_count": 45,
   "id": "5ce0a5cb-201f-45a0-ade5-94c7f0bd6095",
   "metadata": {
    "execution": {
     "iopub.execute_input": "2025-08-05T21:06:35.057272Z",
     "iopub.status.busy": "2025-08-05T21:06:35.056503Z",
     "iopub.status.idle": "2025-08-05T21:06:35.063782Z",
     "shell.execute_reply": "2025-08-05T21:06:35.062843Z"
    },
    "papermill": {
     "duration": 0.031336,
     "end_time": "2025-08-05T21:06:35.065512",
     "exception": false,
     "start_time": "2025-08-05T21:06:35.034176",
     "status": "completed"
    },
    "tags": []
   },
   "outputs": [
    {
     "data": {
      "text/plain": [
       "{'coverage': 0.9104782075576858, 'avg_size': 1.1251699921970795}"
      ]
     },
     "execution_count": 45,
     "metadata": {},
     "output_type": "execute_result"
    }
   ],
   "source": [
    "metrics"
   ]
  },
  {
   "cell_type": "code",
   "execution_count": 46,
   "id": "9b9a838d-31c9-430b-ae14-12baee460d17",
   "metadata": {
    "execution": {
     "iopub.execute_input": "2025-08-05T21:06:35.112390Z",
     "iopub.status.busy": "2025-08-05T21:06:35.111848Z",
     "iopub.status.idle": "2025-08-05T21:06:35.118905Z",
     "shell.execute_reply": "2025-08-05T21:06:35.117716Z"
    },
    "papermill": {
     "duration": 0.031354,
     "end_time": "2025-08-05T21:06:35.120713",
     "exception": false,
     "start_time": "2025-08-05T21:06:35.089359",
     "status": "completed"
    },
    "tags": []
   },
   "outputs": [],
   "source": [
    "example_universe = universe.copy()\n",
    "universe_training_year = example_universe.get(\"training_year\")\n",
    "universe_training_size = example_universe.get(\"training_size\")\n",
    "universe_scale = example_universe.get(\"scale\")\n",
    "universe_model = example_universe.get(\"model\")\n",
    "universe_exclude_features = example_universe.get(\"exclude_features\")\n",
    "universe_exclude_subgroups = example_universe.get(\"exclude_subgroups\")"
   ]
  },
  {
   "cell_type": "code",
   "execution_count": 47,
   "id": "f4b6a8ac-9dc0-4245-8a91-5b3b5999c4f9",
   "metadata": {
    "execution": {
     "iopub.execute_input": "2025-08-05T21:06:35.168709Z",
     "iopub.status.busy": "2025-08-05T21:06:35.168227Z",
     "iopub.status.idle": "2025-08-05T21:06:35.174852Z",
     "shell.execute_reply": "2025-08-05T21:06:35.173864Z"
    },
    "papermill": {
     "duration": 0.031803,
     "end_time": "2025-08-05T21:06:35.177008",
     "exception": false,
     "start_time": "2025-08-05T21:06:35.145205",
     "status": "completed"
    },
    "tags": []
   },
   "outputs": [],
   "source": [
    "cp_metrics_dict = {\n",
    "    \"universe_id\": [universe_id],\n",
    "    \"universe_training_year\": [universe_training_year],\n",
    "    \"universe_training_size\": [universe_training_size],\n",
    "    \"universe_scale\": [universe_scale],\n",
    "    \"universe_model\": [universe_model],\n",
    "    \"universe_exclude_features\": [universe_exclude_features],\n",
    "    \"universe_exclude_subgroups\": [universe_exclude_subgroups],\n",
    "    \"q_hat\": [q_hat],\n",
    "    \"coverage\": [metrics[\"coverage\"]],\n",
    "    \"avg_size\": [metrics[\"avg_size\"]],\n",
    "}"
   ]
  },
  {
   "cell_type": "code",
   "execution_count": 48,
   "id": "908acbb1-0371-4915-85ca-3fa520d2efe2",
   "metadata": {
    "execution": {
     "iopub.execute_input": "2025-08-05T21:06:35.224114Z",
     "iopub.status.busy": "2025-08-05T21:06:35.223701Z",
     "iopub.status.idle": "2025-08-05T21:06:35.231476Z",
     "shell.execute_reply": "2025-08-05T21:06:35.230395Z"
    },
    "papermill": {
     "duration": 0.033378,
     "end_time": "2025-08-05T21:06:35.233169",
     "exception": false,
     "start_time": "2025-08-05T21:06:35.199791",
     "status": "completed"
    },
    "tags": []
   },
   "outputs": [
    {
     "data": {
      "text/plain": [
       "{'universe_id': ['0db526b3d140dbd297f98857d2cf4e52'],\n",
       " 'universe_training_year': ['2010_14'],\n",
       " 'universe_training_size': ['25k'],\n",
       " 'universe_scale': ['scale'],\n",
       " 'universe_model': ['penalized_logreg'],\n",
       " 'universe_exclude_features': ['nationality'],\n",
       " 'universe_exclude_subgroups': ['keep-all'],\n",
       " 'q_hat': [0.6598916548457179],\n",
       " 'coverage': [0.9104782075576858],\n",
       " 'avg_size': [1.1251699921970795]}"
      ]
     },
     "execution_count": 48,
     "metadata": {},
     "output_type": "execute_result"
    }
   ],
   "source": [
    "cp_metrics_dict"
   ]
  },
  {
   "cell_type": "code",
   "execution_count": 49,
   "id": "33007efc-14e9-4ec6-97ac-56a455c82265",
   "metadata": {
    "execution": {
     "iopub.execute_input": "2025-08-05T21:06:35.278910Z",
     "iopub.status.busy": "2025-08-05T21:06:35.278627Z",
     "iopub.status.idle": "2025-08-05T21:06:35.284654Z",
     "shell.execute_reply": "2025-08-05T21:06:35.283532Z"
    },
    "papermill": {
     "duration": 0.030509,
     "end_time": "2025-08-05T21:06:35.286178",
     "exception": false,
     "start_time": "2025-08-05T21:06:35.255669",
     "status": "completed"
    },
    "tags": []
   },
   "outputs": [],
   "source": [
    "cp_metrics_df = pd.DataFrame(cp_metrics_dict)"
   ]
  },
  {
   "cell_type": "code",
   "execution_count": 50,
   "id": "db12611b-57b2-4910-b9d0-355adfd6e7bf",
   "metadata": {
    "execution": {
     "iopub.execute_input": "2025-08-05T21:06:35.329095Z",
     "iopub.status.busy": "2025-08-05T21:06:35.328394Z",
     "iopub.status.idle": "2025-08-05T21:06:35.347625Z",
     "shell.execute_reply": "2025-08-05T21:06:35.346635Z"
    },
    "papermill": {
     "duration": 0.043208,
     "end_time": "2025-08-05T21:06:35.349292",
     "exception": false,
     "start_time": "2025-08-05T21:06:35.306084",
     "status": "completed"
    },
    "tags": []
   },
   "outputs": [
    {
     "data": {
      "text/html": [
       "<div>\n",
       "<style scoped>\n",
       "    .dataframe tbody tr th:only-of-type {\n",
       "        vertical-align: middle;\n",
       "    }\n",
       "\n",
       "    .dataframe tbody tr th {\n",
       "        vertical-align: top;\n",
       "    }\n",
       "\n",
       "    .dataframe thead th {\n",
       "        text-align: right;\n",
       "    }\n",
       "</style>\n",
       "<table border=\"1\" class=\"dataframe\">\n",
       "  <thead>\n",
       "    <tr style=\"text-align: right;\">\n",
       "      <th></th>\n",
       "      <th>universe_id</th>\n",
       "      <th>universe_training_year</th>\n",
       "      <th>universe_training_size</th>\n",
       "      <th>universe_scale</th>\n",
       "      <th>universe_model</th>\n",
       "      <th>universe_exclude_features</th>\n",
       "      <th>universe_exclude_subgroups</th>\n",
       "      <th>q_hat</th>\n",
       "      <th>coverage</th>\n",
       "      <th>avg_size</th>\n",
       "    </tr>\n",
       "  </thead>\n",
       "  <tbody>\n",
       "    <tr>\n",
       "      <th>0</th>\n",
       "      <td>0db526b3d140dbd297f98857d2cf4e52</td>\n",
       "      <td>2010_14</td>\n",
       "      <td>25k</td>\n",
       "      <td>scale</td>\n",
       "      <td>penalized_logreg</td>\n",
       "      <td>nationality</td>\n",
       "      <td>keep-all</td>\n",
       "      <td>0.659892</td>\n",
       "      <td>0.910478</td>\n",
       "      <td>1.12517</td>\n",
       "    </tr>\n",
       "  </tbody>\n",
       "</table>\n",
       "</div>"
      ],
      "text/plain": [
       "                        universe_id universe_training_year  \\\n",
       "0  0db526b3d140dbd297f98857d2cf4e52                2010_14   \n",
       "\n",
       "  universe_training_size universe_scale    universe_model  \\\n",
       "0                    25k          scale  penalized_logreg   \n",
       "\n",
       "  universe_exclude_features universe_exclude_subgroups     q_hat  coverage  \\\n",
       "0               nationality                   keep-all  0.659892  0.910478   \n",
       "\n",
       "   avg_size  \n",
       "0   1.12517  "
      ]
     },
     "execution_count": 50,
     "metadata": {},
     "output_type": "execute_result"
    }
   ],
   "source": [
    "cp_metrics_df"
   ]
  },
  {
   "cell_type": "code",
   "execution_count": 51,
   "id": "b7fbde55-a0a1-47e4-9af6-fe4a17fa8c61",
   "metadata": {
    "execution": {
     "iopub.execute_input": "2025-08-05T21:06:35.386782Z",
     "iopub.status.busy": "2025-08-05T21:06:35.386302Z",
     "iopub.status.idle": "2025-08-05T21:06:35.391733Z",
     "shell.execute_reply": "2025-08-05T21:06:35.390717Z"
    },
    "papermill": {
     "duration": 0.02226,
     "end_time": "2025-08-05T21:06:35.393627",
     "exception": false,
     "start_time": "2025-08-05T21:06:35.371367",
     "status": "completed"
    },
    "tags": []
   },
   "outputs": [],
   "source": [
    "# Conditional Coverage & looking at subgroups"
   ]
  },
  {
   "cell_type": "code",
   "execution_count": 52,
   "id": "027ae886-68dd-4141-96c7-805a5450e1ef",
   "metadata": {
    "execution": {
     "iopub.execute_input": "2025-08-05T21:06:35.439122Z",
     "iopub.status.busy": "2025-08-05T21:06:35.438759Z",
     "iopub.status.idle": "2025-08-05T21:06:35.626839Z",
     "shell.execute_reply": "2025-08-05T21:06:35.625562Z"
    },
    "papermill": {
     "duration": 0.212621,
     "end_time": "2025-08-05T21:06:35.628927",
     "exception": false,
     "start_time": "2025-08-05T21:06:35.416306",
     "status": "completed"
    },
    "tags": []
   },
   "outputs": [],
   "source": [
    "from fairness_multiverse.conformal import build_cp_groups\n",
    "\n",
    "cp_groups_df = build_cp_groups(pred_sets, y_true, X_test.index, org_test)\n",
    "#needs universe_id and setting"
   ]
  },
  {
   "cell_type": "code",
   "execution_count": 53,
   "id": "6cbdab96-b2b2-45af-ad54-d0516db2e28d",
   "metadata": {
    "execution": {
     "iopub.execute_input": "2025-08-05T21:06:35.682071Z",
     "iopub.status.busy": "2025-08-05T21:06:35.681479Z",
     "iopub.status.idle": "2025-08-05T21:06:37.046970Z",
     "shell.execute_reply": "2025-08-05T21:06:37.046112Z"
    },
    "papermill": {
     "duration": 1.393724,
     "end_time": "2025-08-05T21:06:37.048767",
     "exception": false,
     "start_time": "2025-08-05T21:06:35.655043",
     "status": "completed"
    },
    "tags": []
   },
   "outputs": [],
   "source": [
    "# Define covered = 1 if true_label is in the predicted set\n",
    "cp_groups_df['covered'] = cp_groups_df.apply(\n",
    "    lambda r: int(r['true_label'] in r['pred_set']),\n",
    "    axis=1\n",
    ")"
   ]
  },
  {
   "cell_type": "code",
   "execution_count": 54,
   "id": "338ff529-1a6b-4b87-a931-8e4788d52aad",
   "metadata": {
    "execution": {
     "iopub.execute_input": "2025-08-05T21:06:37.100292Z",
     "iopub.status.busy": "2025-08-05T21:06:37.099864Z",
     "iopub.status.idle": "2025-08-05T21:06:37.103502Z",
     "shell.execute_reply": "2025-08-05T21:06:37.102768Z"
    },
    "papermill": {
     "duration": 0.030776,
     "end_time": "2025-08-05T21:06:37.105281",
     "exception": false,
     "start_time": "2025-08-05T21:06:37.074505",
     "status": "completed"
    },
    "tags": []
   },
   "outputs": [],
   "source": [
    "#cp_groups_df"
   ]
  },
  {
   "cell_type": "code",
   "execution_count": 55,
   "id": "90032e27-66df-4540-9169-4e89cfbaa758",
   "metadata": {
    "execution": {
     "iopub.execute_input": "2025-08-05T21:06:37.154956Z",
     "iopub.status.busy": "2025-08-05T21:06:37.154495Z",
     "iopub.status.idle": "2025-08-05T21:06:37.179496Z",
     "shell.execute_reply": "2025-08-05T21:06:37.178507Z"
    },
    "papermill": {
     "duration": 0.052695,
     "end_time": "2025-08-05T21:06:37.181261",
     "exception": false,
     "start_time": "2025-08-05T21:06:37.128566",
     "status": "completed"
    },
    "tags": []
   },
   "outputs": [],
   "source": [
    "subgroups = ['frau1','nongerman','nongerman_male','nongerman_female']\n",
    "\n",
    "# Conditional coverage for subgroup==1\n",
    "cond_coverage = {\n",
    "    g: cp_groups_df.loc[cp_groups_df[g]==1, 'covered'].mean()\n",
    "    for g in subgroups\n",
    "}"
   ]
  },
  {
   "cell_type": "code",
   "execution_count": null,
   "id": "1e348fb1-b9c3-45bc-ba23-f016827a7e0d",
   "metadata": {
    "papermill": {
     "duration": null,
     "end_time": null,
     "exception": false,
     "start_time": "2025-08-05T21:06:37.206751",
     "status": "running"
    },
    "tags": []
   },
   "outputs": [],
   "source": [
    "cond_coverage"
   ]
  },
  {
   "cell_type": "code",
   "execution_count": null,
   "id": "f5093324-c3dd-4d63-bc4c-8d945e5c8bbb",
   "metadata": {
    "papermill": {
     "duration": null,
     "end_time": null,
     "exception": null,
     "start_time": null,
     "status": "pending"
    },
    "tags": []
   },
   "outputs": [],
   "source": [
    "for subgroup, cov in cond_coverage.items():\n",
    "    cp_metrics_df[f\"cov_{subgroup}\"] = cov"
   ]
  },
  {
   "cell_type": "code",
   "execution_count": null,
   "id": "6e872e10-dbe5-49e8-b554-5030c98ff75d",
   "metadata": {
    "papermill": {
     "duration": null,
     "end_time": null,
     "exception": null,
     "start_time": null,
     "status": "pending"
    },
    "tags": []
   },
   "outputs": [],
   "source": [
    "cp_metrics_df"
   ]
  },
  {
   "cell_type": "markdown",
   "id": "33774451",
   "metadata": {
    "papermill": {
     "duration": null,
     "end_time": null,
     "exception": null,
     "start_time": null,
     "status": "pending"
    },
    "tags": []
   },
   "source": [
    "# (Fairness) Metrics"
   ]
  },
  {
   "cell_type": "code",
   "execution_count": null,
   "id": "debc5d62",
   "metadata": {
    "papermill": {
     "duration": null,
     "end_time": null,
     "exception": null,
     "start_time": null,
     "status": "pending"
    },
    "tags": []
   },
   "outputs": [],
   "source": [
    "# do I need to include maxdeutsch1.missing?\n",
    "\n",
    "import numpy as np\n",
    "\n",
    "colname_to_bin = \"maxdeutsch1\"\n",
    "majority_value = org_train[colname_to_bin].mode()[0]\n",
    "\n",
    "org_test[\"majmin\"] = np.where(org_test[colname_to_bin] == majority_value, \"majority\", \"minority\")"
   ]
  },
  {
   "cell_type": "code",
   "execution_count": null,
   "id": "06a50de5",
   "metadata": {
    "papermill": {
     "duration": null,
     "end_time": null,
     "exception": null,
     "start_time": null,
     "status": "pending"
    },
    "tags": []
   },
   "outputs": [],
   "source": [
    "example_universe = universe.copy()\n",
    "example_universe[\"cutoff\"] = example_universe[\"cutoff\"][0]\n",
    "example_universe[\"eval_fairness_grouping\"] = example_universe[\"eval_fairness_grouping\"][0]\n",
    "fairness_dict, metric_frame = universe_analysis.compute_metrics(\n",
    "    example_universe,\n",
    "    y_pred_prob=probs_test,\n",
    "    y_test=y_true,\n",
    "    org_test=org_test,\n",
    ")"
   ]
  },
  {
   "cell_type": "markdown",
   "id": "f95d4e02",
   "metadata": {
    "papermill": {
     "duration": null,
     "end_time": null,
     "exception": null,
     "start_time": null,
     "status": "pending"
    },
    "tags": []
   },
   "source": [
    "# Overall"
   ]
  },
  {
   "cell_type": "markdown",
   "id": "bdee4871",
   "metadata": {
    "papermill": {
     "duration": null,
     "end_time": null,
     "exception": null,
     "start_time": null,
     "status": "pending"
    },
    "tags": []
   },
   "source": [
    "Fairness\n",
    "Main fairness target: Equalized Odds. Seems to be a better fit than equal opportunity, since we're not only interested in Y = 1. Seems to be a better fit than demographic parity, since we also care about accuracy, not just equal distribution of preds.\n",
    "\n",
    "Pick column for computation of fairness metrics\n",
    "\n",
    "Performance\n",
    "Overall performance measures, most interesting in relation to the measures split by group below"
   ]
  },
  {
   "cell_type": "code",
   "execution_count": null,
   "id": "c4e067c6",
   "metadata": {
    "papermill": {
     "duration": null,
     "end_time": null,
     "exception": null,
     "start_time": null,
     "status": "pending"
    },
    "tags": []
   },
   "outputs": [],
   "source": [
    "metric_frame.overall"
   ]
  },
  {
   "cell_type": "markdown",
   "id": "e968fe9d",
   "metadata": {
    "papermill": {
     "duration": null,
     "end_time": null,
     "exception": null,
     "start_time": null,
     "status": "pending"
    },
    "tags": []
   },
   "source": [
    "By Group"
   ]
  },
  {
   "cell_type": "code",
   "execution_count": null,
   "id": "ec325bce",
   "metadata": {
    "papermill": {
     "duration": null,
     "end_time": null,
     "exception": null,
     "start_time": null,
     "status": "pending"
    },
    "tags": []
   },
   "outputs": [],
   "source": [
    "metric_frame.by_group"
   ]
  },
  {
   "cell_type": "code",
   "execution_count": null,
   "id": "a9ddbe63",
   "metadata": {
    "papermill": {
     "duration": null,
     "end_time": null,
     "exception": null,
     "start_time": null,
     "status": "pending"
    },
    "tags": []
   },
   "outputs": [],
   "source": [
    "# In a graphic\n",
    "metric_frame.by_group.plot.bar(\n",
    "    subplots=True,\n",
    "    layout=[3, 3],\n",
    "    legend=False,\n",
    "    figsize=[12, 8],\n",
    "    title=\"Show all metrics\",\n",
    ")"
   ]
  },
  {
   "cell_type": "markdown",
   "id": "f57a0bac",
   "metadata": {
    "papermill": {
     "duration": null,
     "end_time": null,
     "exception": null,
     "start_time": null,
     "status": "pending"
    },
    "tags": []
   },
   "source": [
    "# Final Output"
   ]
  },
  {
   "cell_type": "code",
   "execution_count": null,
   "id": "96d280a3",
   "metadata": {
    "papermill": {
     "duration": null,
     "end_time": null,
     "exception": null,
     "start_time": null,
     "status": "pending"
    },
    "tags": []
   },
   "outputs": [],
   "source": [
    "sub_universes = universe_analysis.generate_sub_universes()\n",
    "len(sub_universes)"
   ]
  },
  {
   "cell_type": "code",
   "execution_count": null,
   "id": "92adf7ba",
   "metadata": {
    "papermill": {
     "duration": null,
     "end_time": null,
     "exception": null,
     "start_time": null,
     "status": "pending"
    },
    "tags": []
   },
   "outputs": [],
   "source": [
    "def filter_sub_universe_data(sub_universe, org_test):\n",
    "    # Keep all rows — no filtering\n",
    "    keep_rows_mask = np.ones(org_test.shape[0], dtype=bool)\n",
    "\n",
    "    print(f\"[INFO] Keeping all rows: {keep_rows_mask.sum()} rows retained.\")\n",
    "    return keep_rows_mask"
   ]
  },
  {
   "cell_type": "code",
   "execution_count": null,
   "id": "4a759155",
   "metadata": {
    "papermill": {
     "duration": null,
     "end_time": null,
     "exception": null,
     "start_time": null,
     "status": "pending"
    },
    "tags": []
   },
   "outputs": [],
   "source": [
    "final_output = universe_analysis.generate_final_output(\n",
    "    y_pred_prob=probs_test,\n",
    "    y_test=y_true,\n",
    "    org_test=org_test,\n",
    "    filter_data=filter_sub_universe_data,\n",
    "    cp_metrics_df=cp_metrics_df,\n",
    "    save=True,\n",
    ")\n",
    "final_output"
   ]
  }
 ],
 "metadata": {
  "celltoolbar": "Tags",
  "kernelspec": {
   "display_name": "Python (CMA Fairness)",
   "language": "python",
   "name": "cma_fair_env"
  },
  "language_info": {
   "codemirror_mode": {
    "name": "ipython",
    "version": 3
   },
   "file_extension": ".py",
   "mimetype": "text/x-python",
   "name": "python",
   "nbconvert_exporter": "python",
   "pygments_lexer": "ipython3",
   "version": "3.10.12"
  },
  "papermill": {
   "default_parameters": {},
   "duration": null,
   "end_time": null,
   "environment_variables": {},
   "exception": null,
   "input_path": "universe_analysis.ipynb",
   "output_path": "output/runs/16/notebooks/m_16-0db526b3d140dbd297f98857d2cf4e52.ipynb",
   "parameters": {
    "output_dir": "output",
    "run_no": "16",
    "seed": "2023",
    "universe": "{\"cutoff\": [\"quantile_0.1\", \"quantile_0.25\"], \"eval_fairness_grouping\": [\"majority-minority\", \"nationality-all\"], \"exclude_features\": \"nationality\", \"exclude_subgroups\": \"keep-all\", \"model\": \"penalized_logreg\", \"scale\": \"scale\", \"training_size\": \"25k\", \"training_year\": \"2010_14\"}",
    "universe_id": "0db526b3d140dbd297f98857d2cf4e52"
   },
   "start_time": "2025-08-05T21:06:13.750170",
   "version": "2.6.0"
  }
 },
 "nbformat": 4,
 "nbformat_minor": 5
}