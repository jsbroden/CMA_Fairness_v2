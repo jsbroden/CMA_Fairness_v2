{
 "cells": [
  {
   "cell_type": "code",
   "execution_count": 1,
   "id": "f159f837-637b-42ba-96b5-ec9a68c44524",
   "metadata": {
    "execution": {
     "iopub.execute_input": "2025-08-05T20:58:21.216222Z",
     "iopub.status.busy": "2025-08-05T20:58:21.215631Z",
     "iopub.status.idle": "2025-08-05T20:58:21.230087Z",
     "shell.execute_reply": "2025-08-05T20:58:21.228994Z"
    },
    "papermill": {
     "duration": 0.033424,
     "end_time": "2025-08-05T20:58:21.231906",
     "exception": false,
     "start_time": "2025-08-05T20:58:21.198482",
     "status": "completed"
    },
    "tags": []
   },
   "outputs": [
    {
     "name": "stdout",
     "output_type": "stream",
     "text": [
      "/dss/dsshome1/0C/ra93lal2/cma/CMA_Fairness_v2\n"
     ]
    },
    {
     "name": "stderr",
     "output_type": "stream",
     "text": [
      "/dss/dsshome1/0C/ra93lal2/.local/share/virtualenvs/CMA_Fairness_v2-3j10GkSs/lib/python3.10/site-packages/IPython/core/magics/osm.py:393: UserWarning: This is now an optional IPython functionality, using bookmarks requires you to install the `pickleshare` library.\n",
      "  bkms = self.shell.db.get('bookmarks', {})\n",
      "/dss/dsshome1/0C/ra93lal2/.local/share/virtualenvs/CMA_Fairness_v2-3j10GkSs/lib/python3.10/site-packages/IPython/core/magics/osm.py:417: UserWarning: This is now an optional IPython functionality, setting dhist requires you to install the `pickleshare` library.\n",
      "  self.shell.db['dhist'] = compress_dhist(dhist)[-100:]\n"
     ]
    }
   ],
   "source": [
    "%cd ~/cma/CMA_Fairness_v2"
   ]
  },
  {
   "cell_type": "markdown",
   "id": "de2603b9",
   "metadata": {
    "papermill": {
     "duration": 0.015882,
     "end_time": "2025-08-05T20:58:21.264903",
     "exception": false,
     "start_time": "2025-08-05T20:58:21.249021",
     "status": "completed"
    },
    "tags": []
   },
   "source": [
    "The following cell holds the definition of our parameters, these values can be overriden by rendering the with e.g. the following command:\n",
    "\n",
    "papermill -p alpha 0.2 -p ratio 0.3 universe_analysis.ipynb output/test_run.ipynb"
   ]
  },
  {
   "cell_type": "code",
   "execution_count": 2,
   "id": "a80968a0-40bb-4fa9-85ef-2d5eefb01975",
   "metadata": {
    "execution": {
     "iopub.execute_input": "2025-08-05T20:58:21.297681Z",
     "iopub.status.busy": "2025-08-05T20:58:21.296940Z",
     "iopub.status.idle": "2025-08-05T20:58:21.303120Z",
     "shell.execute_reply": "2025-08-05T20:58:21.302082Z"
    },
    "papermill": {
     "duration": 0.024862,
     "end_time": "2025-08-05T20:58:21.305026",
     "exception": false,
     "start_time": "2025-08-05T20:58:21.280164",
     "status": "completed"
    },
    "tags": []
   },
   "outputs": [
    {
     "name": "stdout",
     "output_type": "stream",
     "text": [
      "Current working directory: /dss/dsshome1/0C/ra93lal2/cma/CMA_Fairness_v2\n"
     ]
    }
   ],
   "source": [
    "import os\n",
    "print(\"Current working directory:\", os.getcwd())"
   ]
  },
  {
   "cell_type": "code",
   "execution_count": 3,
   "id": "2dce4c03",
   "metadata": {
    "execution": {
     "iopub.execute_input": "2025-08-05T20:58:21.340987Z",
     "iopub.status.busy": "2025-08-05T20:58:21.340121Z",
     "iopub.status.idle": "2025-08-05T20:58:21.346707Z",
     "shell.execute_reply": "2025-08-05T20:58:21.345791Z"
    },
    "papermill": {
     "duration": 0.025858,
     "end_time": "2025-08-05T20:58:21.348574",
     "exception": false,
     "start_time": "2025-08-05T20:58:21.322716",
     "status": "completed"
    },
    "tags": [
     "parameters"
    ]
   },
   "outputs": [],
   "source": [
    "run_no = 0\n",
    "universe_id = \"test\"\n",
    "universe = {\n",
    "    \"training_size\": \"25k\", # \"25k\", \"5k\", \"1k\"\n",
    "    \"training_year\": \"2014\", # \"2014\", \"2012_14\", \"2010_14\"\n",
    "    \"scale\": \"scale\", # \"scale\", \"do-not-scale\",\n",
    "    \"model\": \"elasticnet\", # \"logreg\", \"penalized_logreg\", \"rf\", \"gbm\", \"elasticnet\"\n",
    "    \"cutoff\": [\"quantile_0.15\", \"quantile_0.30\"],\n",
    "    \"exclude_features\": \"age\", # \"none\", \"nationality\", \"sex\", \"nationality-sex\", \"age\"\n",
    "    \"exclude_subgroups\": \"keep-all\", # \"keep-all\", \"drop-non-german\"\n",
    "    \"eval_fairness_grouping\": [\"majority-minority\", \"nationality-all\"]\n",
    "}\n",
    "\n",
    "output_dir=\"./output\"\n",
    "seed=0"
   ]
  },
  {
   "cell_type": "code",
   "execution_count": 4,
   "id": "01df9732",
   "metadata": {
    "execution": {
     "iopub.execute_input": "2025-08-05T20:58:21.383303Z",
     "iopub.status.busy": "2025-08-05T20:58:21.382774Z",
     "iopub.status.idle": "2025-08-05T20:58:21.388265Z",
     "shell.execute_reply": "2025-08-05T20:58:21.387158Z"
    },
    "papermill": {
     "duration": 0.024811,
     "end_time": "2025-08-05T20:58:21.390164",
     "exception": false,
     "start_time": "2025-08-05T20:58:21.365353",
     "status": "completed"
    },
    "tags": [
     "injected-parameters"
    ]
   },
   "outputs": [],
   "source": [
    "# Parameters\n",
    "universe_id = \"b73638acbdf56274bf59634faebfa121\"\n",
    "run_no = \"16\"\n",
    "universe = \"{\\\"cutoff\\\": [\\\"quantile_0.1\\\", \\\"quantile_0.25\\\"], \\\"eval_fairness_grouping\\\": [\\\"majority-minority\\\", \\\"nationality-all\\\"], \\\"exclude_features\\\": \\\"sex\\\", \\\"exclude_subgroups\\\": \\\"keep-all\\\", \\\"model\\\": \\\"penalized_logreg\\\", \\\"scale\\\": \\\"do-not-scale\\\", \\\"training_size\\\": \\\"25k\\\", \\\"training_year\\\": \\\"2012_14\\\"}\"\n",
    "output_dir = \"output\"\n",
    "seed = \"2023\"\n"
   ]
  },
  {
   "cell_type": "code",
   "execution_count": 5,
   "id": "1650acaf",
   "metadata": {
    "execution": {
     "iopub.execute_input": "2025-08-05T20:58:21.423929Z",
     "iopub.status.busy": "2025-08-05T20:58:21.423362Z",
     "iopub.status.idle": "2025-08-05T20:58:21.428498Z",
     "shell.execute_reply": "2025-08-05T20:58:21.427548Z"
    },
    "papermill": {
     "duration": 0.024068,
     "end_time": "2025-08-05T20:58:21.430501",
     "exception": false,
     "start_time": "2025-08-05T20:58:21.406433",
     "status": "completed"
    },
    "tags": []
   },
   "outputs": [],
   "source": [
    "import json\n",
    "if isinstance(universe, str):\n",
    "    universe = json.loads(universe)"
   ]
  },
  {
   "cell_type": "code",
   "execution_count": 6,
   "id": "16620c48",
   "metadata": {
    "execution": {
     "iopub.execute_input": "2025-08-05T20:58:21.465707Z",
     "iopub.status.busy": "2025-08-05T20:58:21.465090Z",
     "iopub.status.idle": "2025-08-05T20:58:21.511679Z",
     "shell.execute_reply": "2025-08-05T20:58:21.510735Z"
    },
    "papermill": {
     "duration": 0.065847,
     "end_time": "2025-08-05T20:58:21.513551",
     "exception": false,
     "start_time": "2025-08-05T20:58:21.447704",
     "status": "completed"
    },
    "tags": []
   },
   "outputs": [],
   "source": [
    "# Auto-reload the custom package\n",
    "%load_ext autoreload\n",
    "%autoreload 1\n",
    "%aimport fairness_multiverse"
   ]
  },
  {
   "cell_type": "code",
   "execution_count": 7,
   "id": "01c5c9f3",
   "metadata": {
    "execution": {
     "iopub.execute_input": "2025-08-05T20:58:21.548605Z",
     "iopub.status.busy": "2025-08-05T20:58:21.547805Z",
     "iopub.status.idle": "2025-08-05T20:58:23.478605Z",
     "shell.execute_reply": "2025-08-05T20:58:23.477496Z"
    },
    "papermill": {
     "duration": 1.950622,
     "end_time": "2025-08-05T20:58:23.480739",
     "exception": false,
     "start_time": "2025-08-05T20:58:21.530117",
     "status": "completed"
    },
    "tags": []
   },
   "outputs": [],
   "source": [
    "from fairness_multiverse.universe import UniverseAnalysis\n",
    "\n",
    "universe_analysis = UniverseAnalysis(\n",
    "    run_no = run_no,\n",
    "    universe_id = universe_id,\n",
    "    universe = universe,\n",
    "    output_dir=output_dir,\n",
    ")"
   ]
  },
  {
   "cell_type": "code",
   "execution_count": 8,
   "id": "106241f5",
   "metadata": {
    "execution": {
     "iopub.execute_input": "2025-08-05T20:58:23.520462Z",
     "iopub.status.busy": "2025-08-05T20:58:23.519975Z",
     "iopub.status.idle": "2025-08-05T20:58:23.527082Z",
     "shell.execute_reply": "2025-08-05T20:58:23.526013Z"
    },
    "papermill": {
     "duration": 0.028149,
     "end_time": "2025-08-05T20:58:23.529137",
     "exception": false,
     "start_time": "2025-08-05T20:58:23.500988",
     "status": "completed"
    },
    "tags": []
   },
   "outputs": [
    {
     "name": "stdout",
     "output_type": "stream",
     "text": [
      "Using Seed: 2023\n"
     ]
    }
   ],
   "source": [
    "import numpy as np\n",
    "parsed_seed = int(seed)\n",
    "np.random.seed(parsed_seed)\n",
    "print(f\"Using Seed: {parsed_seed}\")"
   ]
  },
  {
   "cell_type": "markdown",
   "id": "e0ebdc57",
   "metadata": {
    "papermill": {
     "duration": 0.019221,
     "end_time": "2025-08-05T20:58:23.568292",
     "exception": false,
     "start_time": "2025-08-05T20:58:23.549071",
     "status": "completed"
    },
    "tags": []
   },
   "source": [
    "# Loading Data"
   ]
  },
  {
   "cell_type": "code",
   "execution_count": 9,
   "id": "f0496b8a",
   "metadata": {
    "execution": {
     "iopub.execute_input": "2025-08-05T20:58:23.606857Z",
     "iopub.status.busy": "2025-08-05T20:58:23.605877Z",
     "iopub.status.idle": "2025-08-05T20:58:36.193277Z",
     "shell.execute_reply": "2025-08-05T20:58:36.192099Z"
    },
    "papermill": {
     "duration": 12.60926,
     "end_time": "2025-08-05T20:58:36.195578",
     "exception": false,
     "start_time": "2025-08-05T20:58:23.586318",
     "status": "completed"
    },
    "tags": []
   },
   "outputs": [
    {
     "name": "stdout",
     "output_type": "stream",
     "text": [
      "Loading SIAB data from cache: data/siab_cached.csv.gz\n"
     ]
    },
    {
     "name": "stdout",
     "output_type": "stream",
     "text": [
      "(643690, 164)\n"
     ]
    }
   ],
   "source": [
    "from pathlib import Path\n",
    "import pandas as pd\n",
    "\n",
    "# File paths\n",
    "raw_file = Path(\"data/raw/siab.csv\")\n",
    "cache_file = Path(\"data/siab_cached.csv.gz\")\n",
    "\n",
    "# Ensure cache directory exists\n",
    "cache_file.parent.mkdir(parents=True, exist_ok=True)\n",
    "\n",
    "# Load with simple caching\n",
    "if cache_file.exists():\n",
    "    print(f\"Loading SIAB data from cache: {cache_file}\")\n",
    "    siab = pd.read_csv(cache_file, compression='gzip')\n",
    "else:\n",
    "    print(f\"Cache not found. Reading raw SIAB data: {raw_file}\")\n",
    "    siab = pd.read_csv(raw_file)\n",
    "    siab.to_csv(cache_file, index=False, compression='gzip')\n",
    "    print(f\"Cached SIAB data to: {cache_file}\")\n",
    "\n",
    "print(siab.shape)"
   ]
  },
  {
   "cell_type": "code",
   "execution_count": 10,
   "id": "db0ca512-5f53-4dba-abdb-a2888bca41ba",
   "metadata": {
    "execution": {
     "iopub.execute_input": "2025-08-05T20:58:36.236919Z",
     "iopub.status.busy": "2025-08-05T20:58:36.236475Z",
     "iopub.status.idle": "2025-08-05T20:58:36.242233Z",
     "shell.execute_reply": "2025-08-05T20:58:36.241277Z"
    },
    "papermill": {
     "duration": 0.02633,
     "end_time": "2025-08-05T20:58:36.244773",
     "exception": false,
     "start_time": "2025-08-05T20:58:36.218443",
     "status": "completed"
    },
    "tags": []
   },
   "outputs": [],
   "source": [
    "#siab"
   ]
  },
  {
   "cell_type": "markdown",
   "id": "997051c5-15bd-4b69-9786-c3001a3ce484",
   "metadata": {
    "papermill": {
     "duration": 0.019107,
     "end_time": "2025-08-05T20:58:36.285881",
     "exception": false,
     "start_time": "2025-08-05T20:58:36.266774",
     "status": "completed"
    },
    "tags": []
   },
   "source": [
    "# Splitting Data and Setting Training Data Size"
   ]
  },
  {
   "cell_type": "code",
   "execution_count": 11,
   "id": "aea9c6ef-6f46-42c8-85eb-5a62025c1508",
   "metadata": {
    "execution": {
     "iopub.execute_input": "2025-08-05T20:58:36.323104Z",
     "iopub.status.busy": "2025-08-05T20:58:36.322413Z",
     "iopub.status.idle": "2025-08-05T20:58:37.019797Z",
     "shell.execute_reply": "2025-08-05T20:58:37.018731Z"
    },
    "papermill": {
     "duration": 0.718532,
     "end_time": "2025-08-05T20:58:37.021412",
     "exception": false,
     "start_time": "2025-08-05T20:58:36.302880",
     "status": "completed"
    },
    "tags": []
   },
   "outputs": [],
   "source": [
    "from fairness_multiverse.universe import sample_by_year_size\n",
    "\n",
    "siab_train = sample_by_year_size(siab,\n",
    "                               training_year=universe[\"training_year\"],\n",
    "                               training_size=universe[\"training_size\"])"
   ]
  },
  {
   "cell_type": "code",
   "execution_count": 12,
   "id": "8d3afb32-789d-442c-8d5d-9f5aa8dd2eed",
   "metadata": {
    "execution": {
     "iopub.execute_input": "2025-08-05T20:58:37.065617Z",
     "iopub.status.busy": "2025-08-05T20:58:37.064750Z",
     "iopub.status.idle": "2025-08-05T20:58:37.070458Z",
     "shell.execute_reply": "2025-08-05T20:58:37.069294Z"
    },
    "papermill": {
     "duration": 0.02806,
     "end_time": "2025-08-05T20:58:37.072446",
     "exception": false,
     "start_time": "2025-08-05T20:58:37.044386",
     "status": "completed"
    },
    "tags": []
   },
   "outputs": [],
   "source": [
    "#siab_train.shape"
   ]
  },
  {
   "cell_type": "code",
   "execution_count": 13,
   "id": "d582db68-1a4c-47fb-84fc-08518dc1975a",
   "metadata": {
    "execution": {
     "iopub.execute_input": "2025-08-05T20:58:37.112783Z",
     "iopub.status.busy": "2025-08-05T20:58:37.112453Z",
     "iopub.status.idle": "2025-08-05T20:58:37.117028Z",
     "shell.execute_reply": "2025-08-05T20:58:37.115882Z"
    },
    "papermill": {
     "duration": 0.02673,
     "end_time": "2025-08-05T20:58:37.118982",
     "exception": false,
     "start_time": "2025-08-05T20:58:37.092252",
     "status": "completed"
    },
    "tags": []
   },
   "outputs": [],
   "source": [
    "#display(siab_train.groupby(\"year\").size())"
   ]
  },
  {
   "cell_type": "code",
   "execution_count": 14,
   "id": "a561edb4-d032-42cb-8256-22eac1111c64",
   "metadata": {
    "execution": {
     "iopub.execute_input": "2025-08-05T20:58:37.159071Z",
     "iopub.status.busy": "2025-08-05T20:58:37.158782Z",
     "iopub.status.idle": "2025-08-05T20:58:37.408813Z",
     "shell.execute_reply": "2025-08-05T20:58:37.408060Z"
    },
    "papermill": {
     "duration": 0.272059,
     "end_time": "2025-08-05T20:58:37.410744",
     "exception": false,
     "start_time": "2025-08-05T20:58:37.138685",
     "status": "completed"
    },
    "tags": []
   },
   "outputs": [],
   "source": [
    "#siab_train = siab_s[siab_s.year < 2015]\n",
    "siab_calib = siab[siab.year == 2015]\n",
    "siab_test = siab[siab.year == 2016]"
   ]
  },
  {
   "cell_type": "code",
   "execution_count": 15,
   "id": "472de16f-c3db-4916-846b-1f0de9cf1746",
   "metadata": {
    "execution": {
     "iopub.execute_input": "2025-08-05T20:58:37.453293Z",
     "iopub.status.busy": "2025-08-05T20:58:37.452455Z",
     "iopub.status.idle": "2025-08-05T20:58:37.467744Z",
     "shell.execute_reply": "2025-08-05T20:58:37.466451Z"
    },
    "papermill": {
     "duration": 0.038293,
     "end_time": "2025-08-05T20:58:37.470121",
     "exception": false,
     "start_time": "2025-08-05T20:58:37.431828",
     "status": "completed"
    },
    "tags": []
   },
   "outputs": [],
   "source": [
    "X_train = siab_train.iloc[:,4:164]\n",
    "y_train = siab_train.iloc[:, [3]]"
   ]
  },
  {
   "cell_type": "code",
   "execution_count": 16,
   "id": "828c96af-f43a-4ed6-ba47-8ac73a47d56c",
   "metadata": {
    "execution": {
     "iopub.execute_input": "2025-08-05T20:58:37.515369Z",
     "iopub.status.busy": "2025-08-05T20:58:37.514111Z",
     "iopub.status.idle": "2025-08-05T20:58:37.569374Z",
     "shell.execute_reply": "2025-08-05T20:58:37.568408Z"
    },
    "papermill": {
     "duration": 0.079451,
     "end_time": "2025-08-05T20:58:37.571252",
     "exception": false,
     "start_time": "2025-08-05T20:58:37.491801",
     "status": "completed"
    },
    "tags": []
   },
   "outputs": [],
   "source": [
    "X_calib = siab_calib.iloc[:,4:164]\n",
    "y_calib = siab_calib.iloc[:, [3]]"
   ]
  },
  {
   "cell_type": "code",
   "execution_count": 17,
   "id": "c34be9c3-6bd6-476e-acd3-845840e303be",
   "metadata": {
    "execution": {
     "iopub.execute_input": "2025-08-05T20:58:37.604273Z",
     "iopub.status.busy": "2025-08-05T20:58:37.603473Z",
     "iopub.status.idle": "2025-08-05T20:58:37.655788Z",
     "shell.execute_reply": "2025-08-05T20:58:37.655083Z"
    },
    "papermill": {
     "duration": 0.074578,
     "end_time": "2025-08-05T20:58:37.657752",
     "exception": false,
     "start_time": "2025-08-05T20:58:37.583174",
     "status": "completed"
    },
    "tags": []
   },
   "outputs": [],
   "source": [
    "X_test = siab_test.iloc[:,4:164]\n",
    "y_true = siab_test.iloc[:, [3]]"
   ]
  },
  {
   "cell_type": "code",
   "execution_count": 18,
   "id": "e6c733c5",
   "metadata": {
    "execution": {
     "iopub.execute_input": "2025-08-05T20:58:37.702389Z",
     "iopub.status.busy": "2025-08-05T20:58:37.701834Z",
     "iopub.status.idle": "2025-08-05T20:58:37.806285Z",
     "shell.execute_reply": "2025-08-05T20:58:37.805292Z"
    },
    "papermill": {
     "duration": 0.128252,
     "end_time": "2025-08-05T20:58:37.808281",
     "exception": false,
     "start_time": "2025-08-05T20:58:37.680029",
     "status": "completed"
    },
    "tags": []
   },
   "outputs": [],
   "source": [
    "# Auxiliary data needed downstream in the pipeline\n",
    "\n",
    "org_train = X_train.copy()\n",
    "org_test = X_test.copy()\n",
    "org_calib = X_calib.copy()"
   ]
  },
  {
   "cell_type": "markdown",
   "id": "0a4a1b33",
   "metadata": {
    "papermill": {
     "duration": 0.019658,
     "end_time": "2025-08-05T20:58:37.848747",
     "exception": false,
     "start_time": "2025-08-05T20:58:37.829089",
     "status": "completed"
    },
    "tags": []
   },
   "source": [
    "# Preprocessing Data"
   ]
  },
  {
   "cell_type": "code",
   "execution_count": 19,
   "id": "ca879031",
   "metadata": {
    "execution": {
     "iopub.execute_input": "2025-08-05T20:58:37.892774Z",
     "iopub.status.busy": "2025-08-05T20:58:37.892194Z",
     "iopub.status.idle": "2025-08-05T20:58:37.900498Z",
     "shell.execute_reply": "2025-08-05T20:58:37.899243Z"
    },
    "papermill": {
     "duration": 0.033836,
     "end_time": "2025-08-05T20:58:37.902384",
     "exception": false,
     "start_time": "2025-08-05T20:58:37.868548",
     "status": "completed"
    },
    "tags": []
   },
   "outputs": [],
   "source": [
    "# EXCLUDE PROTECTED FEATURES\n",
    "# ----------------------\n",
    "# \"exclude_features\": \"none\", # \"nationality\", \"sex\", \"nationality-sex\"\n",
    "\n",
    "excluded_features = universe[\"exclude_features\"].split(\"-\") # split, e.g.: \"nationality-sex\" -> [\"nationality\", \"sex\"]\n",
    "excluded_features_dictionary = {\n",
    "    \"nationality\": [\"maxdeutsch1\", \"maxdeutsch.Missing.\"],\n",
    "    \"sex\": [\"frau1\"],\n",
    "    \"age\": [\"age\"],\n",
    "}"
   ]
  },
  {
   "cell_type": "code",
   "execution_count": 20,
   "id": "b745ac60",
   "metadata": {
    "execution": {
     "iopub.execute_input": "2025-08-05T20:58:37.946019Z",
     "iopub.status.busy": "2025-08-05T20:58:37.944956Z",
     "iopub.status.idle": "2025-08-05T20:58:37.950286Z",
     "shell.execute_reply": "2025-08-05T20:58:37.949352Z"
    },
    "papermill": {
     "duration": 0.027533,
     "end_time": "2025-08-05T20:58:37.951615",
     "exception": false,
     "start_time": "2025-08-05T20:58:37.924082",
     "status": "completed"
    },
    "tags": []
   },
   "outputs": [],
   "source": [
    "# Code nice names to column names\n",
    "\n",
    "excluded_features_columns = [\n",
    "    excluded_features_dictionary[f] for f in excluded_features if len(f) > 0 and f != \"none\"\n",
    "]"
   ]
  },
  {
   "cell_type": "code",
   "execution_count": 21,
   "id": "f84f73a2",
   "metadata": {
    "execution": {
     "iopub.execute_input": "2025-08-05T20:58:37.974616Z",
     "iopub.status.busy": "2025-08-05T20:58:37.974282Z",
     "iopub.status.idle": "2025-08-05T20:58:38.018151Z",
     "shell.execute_reply": "2025-08-05T20:58:38.017338Z"
    },
    "papermill": {
     "duration": 0.058126,
     "end_time": "2025-08-05T20:58:38.019737",
     "exception": false,
     "start_time": "2025-08-05T20:58:37.961611",
     "status": "completed"
    },
    "tags": []
   },
   "outputs": [],
   "source": [
    "from utils import flatten_once\n",
    "\n",
    "excluded_features_columns = flatten_once(excluded_features_columns)"
   ]
  },
  {
   "cell_type": "code",
   "execution_count": 22,
   "id": "884dea22",
   "metadata": {
    "execution": {
     "iopub.execute_input": "2025-08-05T20:58:38.040450Z",
     "iopub.status.busy": "2025-08-05T20:58:38.039948Z",
     "iopub.status.idle": "2025-08-05T20:58:38.054443Z",
     "shell.execute_reply": "2025-08-05T20:58:38.053576Z"
    },
    "papermill": {
     "duration": 0.025977,
     "end_time": "2025-08-05T20:58:38.056041",
     "exception": false,
     "start_time": "2025-08-05T20:58:38.030064",
     "status": "completed"
    },
    "tags": []
   },
   "outputs": [
    {
     "name": "stdout",
     "output_type": "stream",
     "text": [
      "Dropping features: ['frau1']\n"
     ]
    }
   ],
   "source": [
    "if len(excluded_features_columns) > 0:\n",
    "    print(f\"Dropping features: {excluded_features_columns}\")\n",
    "    X_train.drop(excluded_features_columns, axis=1, inplace=True)"
   ]
  },
  {
   "cell_type": "code",
   "execution_count": 23,
   "id": "95ab8b16",
   "metadata": {
    "execution": {
     "iopub.execute_input": "2025-08-05T20:58:38.076946Z",
     "iopub.status.busy": "2025-08-05T20:58:38.076440Z",
     "iopub.status.idle": "2025-08-05T20:58:38.124371Z",
     "shell.execute_reply": "2025-08-05T20:58:38.123426Z"
    },
    "papermill": {
     "duration": 0.060022,
     "end_time": "2025-08-05T20:58:38.126624",
     "exception": false,
     "start_time": "2025-08-05T20:58:38.066602",
     "status": "completed"
    },
    "tags": []
   },
   "outputs": [
    {
     "name": "stdout",
     "output_type": "stream",
     "text": [
      "Dropping features: ['frau1']\n"
     ]
    }
   ],
   "source": [
    "if len(excluded_features_columns) > 0:\n",
    "    print(f\"Dropping features: {excluded_features_columns}\")\n",
    "    X_test.drop(excluded_features_columns, axis=1, inplace=True)"
   ]
  },
  {
   "cell_type": "code",
   "execution_count": 24,
   "id": "1853aaf5-fb9f-46cb-a2b5-8ea4ae2237e4",
   "metadata": {
    "execution": {
     "iopub.execute_input": "2025-08-05T20:58:38.158995Z",
     "iopub.status.busy": "2025-08-05T20:58:38.158174Z",
     "iopub.status.idle": "2025-08-05T20:58:38.214213Z",
     "shell.execute_reply": "2025-08-05T20:58:38.212723Z"
    },
    "papermill": {
     "duration": 0.078957,
     "end_time": "2025-08-05T20:58:38.215981",
     "exception": false,
     "start_time": "2025-08-05T20:58:38.137024",
     "status": "completed"
    },
    "tags": []
   },
   "outputs": [
    {
     "name": "stdout",
     "output_type": "stream",
     "text": [
      "Dropping features: ['frau1']\n"
     ]
    }
   ],
   "source": [
    "if len(excluded_features_columns) > 0:\n",
    "    print(f\"Dropping features: {excluded_features_columns}\")\n",
    "    X_calib.drop(excluded_features_columns, axis=1, inplace=True)"
   ]
  },
  {
   "cell_type": "code",
   "execution_count": 25,
   "id": "76c4dc6d",
   "metadata": {
    "execution": {
     "iopub.execute_input": "2025-08-05T20:58:38.255942Z",
     "iopub.status.busy": "2025-08-05T20:58:38.254925Z",
     "iopub.status.idle": "2025-08-05T20:58:38.261067Z",
     "shell.execute_reply": "2025-08-05T20:58:38.259999Z"
    },
    "papermill": {
     "duration": 0.026098,
     "end_time": "2025-08-05T20:58:38.262480",
     "exception": false,
     "start_time": "2025-08-05T20:58:38.236382",
     "status": "completed"
    },
    "tags": []
   },
   "outputs": [],
   "source": [
    "# EXCLUDE CERTAIN SUBGROUPS\n",
    "# ----------------------\n",
    "\n",
    "mode = universe.get(\"exclude_subgroups\", \"keep-all\") \n",
    "# Fetches the exclude_subgroups setting from the universe dict.\n",
    "# Defaults to \"keep-all\" if the key is missing."
   ]
  },
  {
   "cell_type": "code",
   "execution_count": 26,
   "id": "21994072",
   "metadata": {
    "execution": {
     "iopub.execute_input": "2025-08-05T20:58:38.298810Z",
     "iopub.status.busy": "2025-08-05T20:58:38.298215Z",
     "iopub.status.idle": "2025-08-05T20:58:38.305017Z",
     "shell.execute_reply": "2025-08-05T20:58:38.303968Z"
    },
    "papermill": {
     "duration": 0.029173,
     "end_time": "2025-08-05T20:58:38.307058",
     "exception": false,
     "start_time": "2025-08-05T20:58:38.277885",
     "status": "completed"
    },
    "tags": []
   },
   "outputs": [],
   "source": [
    "if mode == \"keep-all\":\n",
    "    keep_mask = pd.Series(True, index=org_train.index)\n",
    "\n",
    "# org_train contains the original feature columns from features_org (in Simson)\n",
    "# features_org contains unprocessed features, for me X_train at beginning ???\n",
    "# For keep-all, creates a boolean Series (keep_mask) of all True, so no rows are removed.\n",
    "\n",
    "elif mode == \"drop-non-german\":\n",
    "    keep_mask = org_train[\"maxdeutsch1\"] == 1 # ??? what about missing values?\n",
    "\n",
    "else:\n",
    "    raise ValueError(f\"Unsupported mode for exclude_subgroups: {mode}\")"
   ]
  },
  {
   "cell_type": "code",
   "execution_count": 27,
   "id": "71651440",
   "metadata": {
    "execution": {
     "iopub.execute_input": "2025-08-05T20:58:38.344853Z",
     "iopub.status.busy": "2025-08-05T20:58:38.344034Z",
     "iopub.status.idle": "2025-08-05T20:58:38.350889Z",
     "shell.execute_reply": "2025-08-05T20:58:38.349956Z"
    },
    "papermill": {
     "duration": 0.028845,
     "end_time": "2025-08-05T20:58:38.352768",
     "exception": false,
     "start_time": "2025-08-05T20:58:38.323923",
     "status": "completed"
    },
    "tags": []
   },
   "outputs": [],
   "source": [
    "n_drop = (~keep_mask).sum() # Calculates how many rows are set to be dropped\n",
    "if n_drop > 0:\n",
    "    pct = n_drop / len(keep_mask) * 100\n",
    "    print(f\"Dropping {n_drop} rows ({pct:.2f}%) where mode='{mode}'\")"
   ]
  },
  {
   "cell_type": "code",
   "execution_count": 28,
   "id": "5fb8eee5",
   "metadata": {
    "execution": {
     "iopub.execute_input": "2025-08-05T20:58:38.391579Z",
     "iopub.status.busy": "2025-08-05T20:58:38.390788Z",
     "iopub.status.idle": "2025-08-05T20:58:38.405767Z",
     "shell.execute_reply": "2025-08-05T20:58:38.404646Z"
    },
    "papermill": {
     "duration": 0.035763,
     "end_time": "2025-08-05T20:58:38.407623",
     "exception": false,
     "start_time": "2025-08-05T20:58:38.371860",
     "status": "completed"
    },
    "tags": []
   },
   "outputs": [],
   "source": [
    "X_train = X_train[keep_mask]"
   ]
  },
  {
   "cell_type": "code",
   "execution_count": 29,
   "id": "b202bb3a",
   "metadata": {
    "execution": {
     "iopub.execute_input": "2025-08-05T20:58:38.435320Z",
     "iopub.status.busy": "2025-08-05T20:58:38.434914Z",
     "iopub.status.idle": "2025-08-05T20:58:38.441589Z",
     "shell.execute_reply": "2025-08-05T20:58:38.440309Z"
    },
    "papermill": {
     "duration": 0.020384,
     "end_time": "2025-08-05T20:58:38.443250",
     "exception": false,
     "start_time": "2025-08-05T20:58:38.422866",
     "status": "completed"
    },
    "tags": []
   },
   "outputs": [],
   "source": [
    "y_train = y_train[keep_mask]"
   ]
  },
  {
   "cell_type": "markdown",
   "id": "493e2ac3",
   "metadata": {
    "papermill": {
     "duration": 0.019503,
     "end_time": "2025-08-05T20:58:38.483364",
     "exception": false,
     "start_time": "2025-08-05T20:58:38.463861",
     "status": "completed"
    },
    "tags": []
   },
   "source": [
    "# Model Training"
   ]
  },
  {
   "cell_type": "code",
   "execution_count": 30,
   "id": "679e1268",
   "metadata": {
    "execution": {
     "iopub.execute_input": "2025-08-05T20:58:38.530954Z",
     "iopub.status.busy": "2025-08-05T20:58:38.530076Z",
     "iopub.status.idle": "2025-08-05T20:58:38.627135Z",
     "shell.execute_reply": "2025-08-05T20:58:38.626313Z"
    },
    "papermill": {
     "duration": 0.118237,
     "end_time": "2025-08-05T20:58:38.628602",
     "exception": false,
     "start_time": "2025-08-05T20:58:38.510365",
     "status": "completed"
    },
    "tags": []
   },
   "outputs": [],
   "source": [
    "from sklearn.linear_model import LogisticRegression\n",
    "from sklearn.ensemble import GradientBoostingClassifier, RandomForestClassifier\n",
    "\n",
    "if (universe[\"model\"] == \"logreg\"):\n",
    "    model = LogisticRegression() #penalty=\"none\", solver=\"newton-cg\", max_iter=1) # include random_state=19 ?\n",
    "elif (universe[\"model\"] == \"penalized_logreg\"):\n",
    "    model = LogisticRegression(penalty=\"l2\", C=0.1) #, solver=\"newton-cg\", max_iter=1)\n",
    "elif (universe[\"model\"] == \"rf\"):\n",
    "    model = RandomForestClassifier() # n_estimators=100, n_jobs=-1\n",
    "elif (universe[\"model\"] == \"gbm\"):\n",
    "    model = GradientBoostingClassifier()\n",
    "elif (universe[\"model\"] == \"elasticnet\"):\n",
    "    model = LogisticRegression(penalty = 'elasticnet', solver = 'saga', l1_ratio = 0.5) # max_iter=5000\n",
    "else:\n",
    "    raise \"Unsupported universe.model\""
   ]
  },
  {
   "cell_type": "code",
   "execution_count": 31,
   "id": "0cc8f744",
   "metadata": {
    "execution": {
     "iopub.execute_input": "2025-08-05T20:58:38.651507Z",
     "iopub.status.busy": "2025-08-05T20:58:38.650982Z",
     "iopub.status.idle": "2025-08-05T20:58:38.656239Z",
     "shell.execute_reply": "2025-08-05T20:58:38.655563Z"
    },
    "papermill": {
     "duration": 0.017535,
     "end_time": "2025-08-05T20:58:38.657577",
     "exception": false,
     "start_time": "2025-08-05T20:58:38.640042",
     "status": "completed"
    },
    "tags": []
   },
   "outputs": [],
   "source": [
    "import numpy as np\n",
    "from sklearn.pipeline import Pipeline\n",
    "from sklearn.preprocessing import StandardScaler\n",
    "\n",
    "model = Pipeline([\n",
    "    #(\"continuous_processor\", continuous_processor),\n",
    "    #(\"categorical_preprocessor\", categorical_preprocessor),\n",
    "    (\"scale\", StandardScaler() if universe[\"scale\"] == \"scale\" else None), \n",
    "    (\"model\", model),\n",
    "])"
   ]
  },
  {
   "cell_type": "code",
   "execution_count": 32,
   "id": "9442c04d",
   "metadata": {
    "execution": {
     "iopub.execute_input": "2025-08-05T20:58:38.678950Z",
     "iopub.status.busy": "2025-08-05T20:58:38.678398Z",
     "iopub.status.idle": "2025-08-05T20:58:39.120062Z",
     "shell.execute_reply": "2025-08-05T20:58:39.119209Z"
    },
    "papermill": {
     "duration": 0.453594,
     "end_time": "2025-08-05T20:58:39.121725",
     "exception": false,
     "start_time": "2025-08-05T20:58:38.668131",
     "status": "completed"
    },
    "tags": []
   },
   "outputs": [
    {
     "name": "stderr",
     "output_type": "stream",
     "text": [
      "/dss/dsshome1/0C/ra93lal2/.local/share/virtualenvs/CMA_Fairness_v2-3j10GkSs/lib/python3.10/site-packages/sklearn/linear_model/_logistic.py:444: ConvergenceWarning: lbfgs failed to converge (status=1):\n",
      "STOP: TOTAL NO. of ITERATIONS REACHED LIMIT.\n",
      "\n",
      "Increase the number of iterations (max_iter) or scale the data as shown in:\n",
      "    https://scikit-learn.org/stable/modules/preprocessing.html\n",
      "Please also refer to the documentation for alternative solver options:\n",
      "    https://scikit-learn.org/stable/modules/linear_model.html#logistic-regression\n",
      "  n_iter_i = _check_optimize_result(\n"
     ]
    },
    {
     "data": {
      "text/html": [
       "<style>#sk-container-id-1 {color: black;background-color: white;}#sk-container-id-1 pre{padding: 0;}#sk-container-id-1 div.sk-toggleable {background-color: white;}#sk-container-id-1 label.sk-toggleable__label {cursor: pointer;display: block;width: 100%;margin-bottom: 0;padding: 0.3em;box-sizing: border-box;text-align: center;}#sk-container-id-1 label.sk-toggleable__label-arrow:before {content: \"▸\";float: left;margin-right: 0.25em;color: #696969;}#sk-container-id-1 label.sk-toggleable__label-arrow:hover:before {color: black;}#sk-container-id-1 div.sk-estimator:hover label.sk-toggleable__label-arrow:before {color: black;}#sk-container-id-1 div.sk-toggleable__content {max-height: 0;max-width: 0;overflow: hidden;text-align: left;background-color: #f0f8ff;}#sk-container-id-1 div.sk-toggleable__content pre {margin: 0.2em;color: black;border-radius: 0.25em;background-color: #f0f8ff;}#sk-container-id-1 input.sk-toggleable__control:checked~div.sk-toggleable__content {max-height: 200px;max-width: 100%;overflow: auto;}#sk-container-id-1 input.sk-toggleable__control:checked~label.sk-toggleable__label-arrow:before {content: \"▾\";}#sk-container-id-1 div.sk-estimator input.sk-toggleable__control:checked~label.sk-toggleable__label {background-color: #d4ebff;}#sk-container-id-1 div.sk-label input.sk-toggleable__control:checked~label.sk-toggleable__label {background-color: #d4ebff;}#sk-container-id-1 input.sk-hidden--visually {border: 0;clip: rect(1px 1px 1px 1px);clip: rect(1px, 1px, 1px, 1px);height: 1px;margin: -1px;overflow: hidden;padding: 0;position: absolute;width: 1px;}#sk-container-id-1 div.sk-estimator {font-family: monospace;background-color: #f0f8ff;border: 1px dotted black;border-radius: 0.25em;box-sizing: border-box;margin-bottom: 0.5em;}#sk-container-id-1 div.sk-estimator:hover {background-color: #d4ebff;}#sk-container-id-1 div.sk-parallel-item::after {content: \"\";width: 100%;border-bottom: 1px solid gray;flex-grow: 1;}#sk-container-id-1 div.sk-label:hover label.sk-toggleable__label {background-color: #d4ebff;}#sk-container-id-1 div.sk-serial::before {content: \"\";position: absolute;border-left: 1px solid gray;box-sizing: border-box;top: 0;bottom: 0;left: 50%;z-index: 0;}#sk-container-id-1 div.sk-serial {display: flex;flex-direction: column;align-items: center;background-color: white;padding-right: 0.2em;padding-left: 0.2em;position: relative;}#sk-container-id-1 div.sk-item {position: relative;z-index: 1;}#sk-container-id-1 div.sk-parallel {display: flex;align-items: stretch;justify-content: center;background-color: white;position: relative;}#sk-container-id-1 div.sk-item::before, #sk-container-id-1 div.sk-parallel-item::before {content: \"\";position: absolute;border-left: 1px solid gray;box-sizing: border-box;top: 0;bottom: 0;left: 50%;z-index: -1;}#sk-container-id-1 div.sk-parallel-item {display: flex;flex-direction: column;z-index: 1;position: relative;background-color: white;}#sk-container-id-1 div.sk-parallel-item:first-child::after {align-self: flex-end;width: 50%;}#sk-container-id-1 div.sk-parallel-item:last-child::after {align-self: flex-start;width: 50%;}#sk-container-id-1 div.sk-parallel-item:only-child::after {width: 0;}#sk-container-id-1 div.sk-dashed-wrapped {border: 1px dashed gray;margin: 0 0.4em 0.5em 0.4em;box-sizing: border-box;padding-bottom: 0.4em;background-color: white;}#sk-container-id-1 div.sk-label label {font-family: monospace;font-weight: bold;display: inline-block;line-height: 1.2em;}#sk-container-id-1 div.sk-label-container {text-align: center;}#sk-container-id-1 div.sk-container {/* jupyter's `normalize.less` sets `[hidden] { display: none; }` but bootstrap.min.css set `[hidden] { display: none !important; }` so we also need the `!important` here to be able to override the default hidden behavior on the sphinx rendered scikit-learn.org. See: https://github.com/scikit-learn/scikit-learn/issues/21755 */display: inline-block !important;position: relative;}#sk-container-id-1 div.sk-text-repr-fallback {display: none;}</style><div id=\"sk-container-id-1\" class=\"sk-top-container\"><div class=\"sk-text-repr-fallback\"><pre>Pipeline(steps=[(&#x27;scale&#x27;, None), (&#x27;model&#x27;, LogisticRegression(C=0.1))])</pre><b>In a Jupyter environment, please rerun this cell to show the HTML representation or trust the notebook. <br />On GitHub, the HTML representation is unable to render, please try loading this page with nbviewer.org.</b></div><div class=\"sk-container\" hidden><div class=\"sk-item sk-dashed-wrapped\"><div class=\"sk-label-container\"><div class=\"sk-label sk-toggleable\"><input class=\"sk-toggleable__control sk-hidden--visually\" id=\"sk-estimator-id-1\" type=\"checkbox\" ><label for=\"sk-estimator-id-1\" class=\"sk-toggleable__label sk-toggleable__label-arrow\">Pipeline</label><div class=\"sk-toggleable__content\"><pre>Pipeline(steps=[(&#x27;scale&#x27;, None), (&#x27;model&#x27;, LogisticRegression(C=0.1))])</pre></div></div></div><div class=\"sk-serial\"><div class=\"sk-item\"><div class=\"sk-estimator sk-toggleable\"><input class=\"sk-toggleable__control sk-hidden--visually\" id=\"sk-estimator-id-2\" type=\"checkbox\" ><label for=\"sk-estimator-id-2\" class=\"sk-toggleable__label sk-toggleable__label-arrow\">None</label><div class=\"sk-toggleable__content\"><pre>None</pre></div></div></div><div class=\"sk-item\"><div class=\"sk-estimator sk-toggleable\"><input class=\"sk-toggleable__control sk-hidden--visually\" id=\"sk-estimator-id-3\" type=\"checkbox\" ><label for=\"sk-estimator-id-3\" class=\"sk-toggleable__label sk-toggleable__label-arrow\">LogisticRegression</label><div class=\"sk-toggleable__content\"><pre>LogisticRegression(C=0.1)</pre></div></div></div></div></div></div></div>"
      ],
      "text/plain": [
       "Pipeline(steps=[('scale', None), ('model', LogisticRegression(C=0.1))])"
      ]
     },
     "execution_count": 32,
     "metadata": {},
     "output_type": "execute_result"
    }
   ],
   "source": [
    "model.fit(X_train, y_train.values.ravel())"
   ]
  },
  {
   "cell_type": "code",
   "execution_count": 33,
   "id": "af59f8c0",
   "metadata": {
    "execution": {
     "iopub.execute_input": "2025-08-05T20:58:39.142431Z",
     "iopub.status.busy": "2025-08-05T20:58:39.142132Z",
     "iopub.status.idle": "2025-08-05T20:58:39.146240Z",
     "shell.execute_reply": "2025-08-05T20:58:39.145466Z"
    },
    "papermill": {
     "duration": 0.01565,
     "end_time": "2025-08-05T20:58:39.147551",
     "exception": false,
     "start_time": "2025-08-05T20:58:39.131901",
     "status": "completed"
    },
    "tags": []
   },
   "outputs": [],
   "source": [
    "from fairness_multiverse.universe import predict_w_threshold"
   ]
  },
  {
   "cell_type": "code",
   "execution_count": 34,
   "id": "a7cf2e16",
   "metadata": {
    "execution": {
     "iopub.execute_input": "2025-08-05T20:58:39.168671Z",
     "iopub.status.busy": "2025-08-05T20:58:39.168188Z",
     "iopub.status.idle": "2025-08-05T20:58:39.250011Z",
     "shell.execute_reply": "2025-08-05T20:58:39.248974Z"
    },
    "papermill": {
     "duration": 0.093296,
     "end_time": "2025-08-05T20:58:39.251277",
     "exception": false,
     "start_time": "2025-08-05T20:58:39.157981",
     "status": "completed"
    },
    "tags": []
   },
   "outputs": [
    {
     "data": {
      "text/plain": [
       "0.860740162746628"
      ]
     },
     "execution_count": 34,
     "metadata": {},
     "output_type": "execute_result"
    }
   ],
   "source": [
    "probs_test = model.predict_proba(X_test)\n",
    "\n",
    "'''\n",
    "Below code returns a boolean array (or binary 0/1 array depending on how it’s used) where each element \n",
    "is True if the probability of class 1 is greater than or equal to the threshold, and False otherwise.\n",
    "'''\n",
    "y_pred_default = predict_w_threshold(probs_test, 0.5)\n",
    "\n",
    "from sklearn.metrics import accuracy_score\n",
    "\n",
    "# Naive prediction\n",
    "accuracy_score(y_true = y_true, y_pred = y_pred_default)"
   ]
  },
  {
   "cell_type": "code",
   "execution_count": 35,
   "id": "081964c3",
   "metadata": {
    "execution": {
     "iopub.execute_input": "2025-08-05T20:58:39.272487Z",
     "iopub.status.busy": "2025-08-05T20:58:39.272201Z",
     "iopub.status.idle": "2025-08-05T20:58:39.346333Z",
     "shell.execute_reply": "2025-08-05T20:58:39.345459Z"
    },
    "papermill": {
     "duration": 0.085793,
     "end_time": "2025-08-05T20:58:39.347668",
     "exception": false,
     "start_time": "2025-08-05T20:58:39.261875",
     "status": "completed"
    },
    "tags": []
   },
   "outputs": [
    {
     "data": {
      "text/plain": [
       "array([0, 0, 0, ..., 0, 0, 0])"
      ]
     },
     "execution_count": 35,
     "metadata": {},
     "output_type": "execute_result"
    }
   ],
   "source": [
    "model.predict(X_test)"
   ]
  },
  {
   "cell_type": "markdown",
   "id": "56c9705b",
   "metadata": {
    "papermill": {
     "duration": 0.009806,
     "end_time": "2025-08-05T20:58:39.368001",
     "exception": false,
     "start_time": "2025-08-05T20:58:39.358195",
     "status": "completed"
    },
    "tags": []
   },
   "source": [
    "# Conformal Prediction"
   ]
  },
  {
   "cell_type": "code",
   "execution_count": 36,
   "id": "160ec6ff",
   "metadata": {
    "execution": {
     "iopub.execute_input": "2025-08-05T20:58:39.388873Z",
     "iopub.status.busy": "2025-08-05T20:58:39.388376Z",
     "iopub.status.idle": "2025-08-05T20:58:39.392752Z",
     "shell.execute_reply": "2025-08-05T20:58:39.392020Z"
    },
    "papermill": {
     "duration": 0.01617,
     "end_time": "2025-08-05T20:58:39.394038",
     "exception": false,
     "start_time": "2025-08-05T20:58:39.377868",
     "status": "completed"
    },
    "tags": []
   },
   "outputs": [],
   "source": [
    "# Miscoverage level for conformal prediction (10% allowed error rate => 90% target coverage)\n",
    "alpha = 0.1"
   ]
  },
  {
   "cell_type": "code",
   "execution_count": 37,
   "id": "eadf4555-3dd3-440e-8e35-f82a4ad9f855",
   "metadata": {
    "execution": {
     "iopub.execute_input": "2025-08-05T20:58:39.415790Z",
     "iopub.status.busy": "2025-08-05T20:58:39.415301Z",
     "iopub.status.idle": "2025-08-05T20:58:39.487161Z",
     "shell.execute_reply": "2025-08-05T20:58:39.486400Z"
    },
    "papermill": {
     "duration": 0.083785,
     "end_time": "2025-08-05T20:58:39.488610",
     "exception": false,
     "start_time": "2025-08-05T20:58:39.404825",
     "status": "completed"
    },
    "tags": []
   },
   "outputs": [],
   "source": [
    "probs_calib = model.predict_proba(X_calib)"
   ]
  },
  {
   "cell_type": "code",
   "execution_count": 38,
   "id": "2ed93547-6d5d-4983-9b36-1ecb300da49a",
   "metadata": {
    "execution": {
     "iopub.execute_input": "2025-08-05T20:58:39.510263Z",
     "iopub.status.busy": "2025-08-05T20:58:39.509763Z",
     "iopub.status.idle": "2025-08-05T20:58:39.514242Z",
     "shell.execute_reply": "2025-08-05T20:58:39.513453Z"
    },
    "papermill": {
     "duration": 0.016298,
     "end_time": "2025-08-05T20:58:39.515596",
     "exception": false,
     "start_time": "2025-08-05T20:58:39.499298",
     "status": "completed"
    },
    "tags": []
   },
   "outputs": [],
   "source": [
    "y_calib = y_calib.values.ravel().astype(int)"
   ]
  },
  {
   "cell_type": "code",
   "execution_count": 39,
   "id": "65d1320d-f588-4b38-9072-62af1ae97f7d",
   "metadata": {
    "execution": {
     "iopub.execute_input": "2025-08-05T20:58:39.537364Z",
     "iopub.status.busy": "2025-08-05T20:58:39.536884Z",
     "iopub.status.idle": "2025-08-05T20:58:39.542520Z",
     "shell.execute_reply": "2025-08-05T20:58:39.541721Z"
    },
    "papermill": {
     "duration": 0.017345,
     "end_time": "2025-08-05T20:58:39.543816",
     "exception": false,
     "start_time": "2025-08-05T20:58:39.526471",
     "status": "completed"
    },
    "tags": []
   },
   "outputs": [],
   "source": [
    "from fairness_multiverse.conformal import compute_nc_scores\n",
    "\n",
    "# Compute nonconformity scores on calibration set (1 - probability of true class)\n",
    "nc_scores = compute_nc_scores(probs_calib, y_calib)"
   ]
  },
  {
   "cell_type": "code",
   "execution_count": 40,
   "id": "df3b8ca3-53b7-43d5-9667-7c85da7aeda2",
   "metadata": {
    "execution": {
     "iopub.execute_input": "2025-08-05T20:58:39.565216Z",
     "iopub.status.busy": "2025-08-05T20:58:39.564629Z",
     "iopub.status.idle": "2025-08-05T20:58:39.569585Z",
     "shell.execute_reply": "2025-08-05T20:58:39.568894Z"
    },
    "papermill": {
     "duration": 0.016915,
     "end_time": "2025-08-05T20:58:39.571059",
     "exception": false,
     "start_time": "2025-08-05T20:58:39.554144",
     "status": "completed"
    },
    "tags": []
   },
   "outputs": [],
   "source": [
    "from fairness_multiverse.conformal import find_threshold\n",
    "\n",
    "# Find conformal threshold q_hat for the given alpha (split conformal method)\n",
    "q_hat = find_threshold(nc_scores, alpha)"
   ]
  },
  {
   "cell_type": "code",
   "execution_count": 41,
   "id": "4d29e6c1-0ef6-4aa4-b8fe-4fe79b0d033a",
   "metadata": {
    "execution": {
     "iopub.execute_input": "2025-08-05T20:58:39.592834Z",
     "iopub.status.busy": "2025-08-05T20:58:39.592498Z",
     "iopub.status.idle": "2025-08-05T20:58:39.598390Z",
     "shell.execute_reply": "2025-08-05T20:58:39.597627Z"
    },
    "papermill": {
     "duration": 0.0177,
     "end_time": "2025-08-05T20:58:39.599730",
     "exception": false,
     "start_time": "2025-08-05T20:58:39.582030",
     "status": "completed"
    },
    "tags": []
   },
   "outputs": [
    {
     "data": {
      "text/plain": [
       "0.682512466547617"
      ]
     },
     "execution_count": 41,
     "metadata": {},
     "output_type": "execute_result"
    }
   ],
   "source": [
    "q_hat"
   ]
  },
  {
   "cell_type": "code",
   "execution_count": 42,
   "id": "92460794-cdac-4be2-ba28-f28c0515a6fb",
   "metadata": {
    "execution": {
     "iopub.execute_input": "2025-08-05T20:58:39.621612Z",
     "iopub.status.busy": "2025-08-05T20:58:39.621105Z",
     "iopub.status.idle": "2025-08-05T20:58:40.209329Z",
     "shell.execute_reply": "2025-08-05T20:58:40.208549Z"
    },
    "papermill": {
     "duration": 0.600424,
     "end_time": "2025-08-05T20:58:40.210854",
     "exception": false,
     "start_time": "2025-08-05T20:58:39.610430",
     "status": "completed"
    },
    "tags": []
   },
   "outputs": [],
   "source": [
    "from fairness_multiverse.conformal import predict_conformal_sets\n",
    "\n",
    "# Generate prediction sets for each test example\n",
    "pred_sets = predict_conformal_sets(model, X_test, q_hat)"
   ]
  },
  {
   "cell_type": "code",
   "execution_count": 43,
   "id": "d90c9a65-e6db-4f5d-80cd-e68fb7e46829",
   "metadata": {
    "execution": {
     "iopub.execute_input": "2025-08-05T20:58:40.234239Z",
     "iopub.status.busy": "2025-08-05T20:58:40.233864Z",
     "iopub.status.idle": "2025-08-05T20:58:40.238822Z",
     "shell.execute_reply": "2025-08-05T20:58:40.237806Z"
    },
    "papermill": {
     "duration": 0.017762,
     "end_time": "2025-08-05T20:58:40.240052",
     "exception": false,
     "start_time": "2025-08-05T20:58:40.222290",
     "status": "completed"
    },
    "tags": []
   },
   "outputs": [],
   "source": [
    "y_true = y_true.squeeze()"
   ]
  },
  {
   "cell_type": "code",
   "execution_count": 44,
   "id": "3a58a54a-1e68-46b9-927a-df01f18aebc8",
   "metadata": {
    "execution": {
     "iopub.execute_input": "2025-08-05T20:58:40.264080Z",
     "iopub.status.busy": "2025-08-05T20:58:40.263319Z",
     "iopub.status.idle": "2025-08-05T20:58:40.919328Z",
     "shell.execute_reply": "2025-08-05T20:58:40.918570Z"
    },
    "papermill": {
     "duration": 0.669591,
     "end_time": "2025-08-05T20:58:40.920705",
     "exception": false,
     "start_time": "2025-08-05T20:58:40.251114",
     "status": "completed"
    },
    "tags": []
   },
   "outputs": [],
   "source": [
    "from fairness_multiverse.conformal import evaluate_sets\n",
    "\n",
    "# Evaluate coverage and average set size on test data\n",
    "metrics = evaluate_sets(pred_sets, y_true)"
   ]
  },
  {
   "cell_type": "markdown",
   "id": "2b569c12-9aaa-4c88-98c9-bbcd0cf3ebb8",
   "metadata": {
    "papermill": {
     "duration": 0.010115,
     "end_time": "2025-08-05T20:58:40.941871",
     "exception": false,
     "start_time": "2025-08-05T20:58:40.931756",
     "status": "completed"
    },
    "tags": []
   },
   "source": [
    "# CP Metrics"
   ]
  },
  {
   "cell_type": "code",
   "execution_count": 45,
   "id": "5ce0a5cb-201f-45a0-ade5-94c7f0bd6095",
   "metadata": {
    "execution": {
     "iopub.execute_input": "2025-08-05T20:58:40.963833Z",
     "iopub.status.busy": "2025-08-05T20:58:40.963123Z",
     "iopub.status.idle": "2025-08-05T20:58:40.969548Z",
     "shell.execute_reply": "2025-08-05T20:58:40.968811Z"
    },
    "papermill": {
     "duration": 0.019059,
     "end_time": "2025-08-05T20:58:40.971007",
     "exception": false,
     "start_time": "2025-08-05T20:58:40.951948",
     "status": "completed"
    },
    "tags": []
   },
   "outputs": [
    {
     "data": {
      "text/plain": [
       "{'coverage': 0.9109798238769368, 'avg_size': 1.1972355367294616}"
      ]
     },
     "execution_count": 45,
     "metadata": {},
     "output_type": "execute_result"
    }
   ],
   "source": [
    "metrics"
   ]
  },
  {
   "cell_type": "code",
   "execution_count": 46,
   "id": "9b9a838d-31c9-430b-ae14-12baee460d17",
   "metadata": {
    "execution": {
     "iopub.execute_input": "2025-08-05T20:58:40.994444Z",
     "iopub.status.busy": "2025-08-05T20:58:40.993839Z",
     "iopub.status.idle": "2025-08-05T20:58:40.999545Z",
     "shell.execute_reply": "2025-08-05T20:58:40.998718Z"
    },
    "papermill": {
     "duration": 0.018731,
     "end_time": "2025-08-05T20:58:41.000970",
     "exception": false,
     "start_time": "2025-08-05T20:58:40.982239",
     "status": "completed"
    },
    "tags": []
   },
   "outputs": [],
   "source": [
    "example_universe = universe.copy()\n",
    "universe_training_year = example_universe.get(\"training_year\")\n",
    "universe_training_size = example_universe.get(\"training_size\")\n",
    "universe_scale = example_universe.get(\"scale\")\n",
    "universe_model = example_universe.get(\"model\")\n",
    "universe_exclude_features = example_universe.get(\"exclude_features\")\n",
    "universe_exclude_subgroups = example_universe.get(\"exclude_subgroups\")"
   ]
  },
  {
   "cell_type": "code",
   "execution_count": 47,
   "id": "f4b6a8ac-9dc0-4245-8a91-5b3b5999c4f9",
   "metadata": {
    "execution": {
     "iopub.execute_input": "2025-08-05T20:58:41.025986Z",
     "iopub.status.busy": "2025-08-05T20:58:41.025220Z",
     "iopub.status.idle": "2025-08-05T20:58:41.030867Z",
     "shell.execute_reply": "2025-08-05T20:58:41.030047Z"
    },
    "papermill": {
     "duration": 0.018983,
     "end_time": "2025-08-05T20:58:41.032188",
     "exception": false,
     "start_time": "2025-08-05T20:58:41.013205",
     "status": "completed"
    },
    "tags": []
   },
   "outputs": [],
   "source": [
    "cp_metrics_dict = {\n",
    "    \"universe_id\": [universe_id],\n",
    "    \"universe_training_year\": [universe_training_year],\n",
    "    \"universe_training_size\": [universe_training_size],\n",
    "    \"universe_scale\": [universe_scale],\n",
    "    \"universe_model\": [universe_model],\n",
    "    \"universe_exclude_features\": [universe_exclude_features],\n",
    "    \"universe_exclude_subgroups\": [universe_exclude_subgroups],\n",
    "    \"q_hat\": [q_hat],\n",
    "    \"coverage\": [metrics[\"coverage\"]],\n",
    "    \"avg_size\": [metrics[\"avg_size\"]],\n",
    "}"
   ]
  },
  {
   "cell_type": "code",
   "execution_count": 48,
   "id": "908acbb1-0371-4915-85ca-3fa520d2efe2",
   "metadata": {
    "execution": {
     "iopub.execute_input": "2025-08-05T20:58:41.056529Z",
     "iopub.status.busy": "2025-08-05T20:58:41.055863Z",
     "iopub.status.idle": "2025-08-05T20:58:41.062581Z",
     "shell.execute_reply": "2025-08-05T20:58:41.061809Z"
    },
    "papermill": {
     "duration": 0.01988,
     "end_time": "2025-08-05T20:58:41.064056",
     "exception": false,
     "start_time": "2025-08-05T20:58:41.044176",
     "status": "completed"
    },
    "tags": []
   },
   "outputs": [
    {
     "data": {
      "text/plain": [
       "{'universe_id': ['b73638acbdf56274bf59634faebfa121'],\n",
       " 'universe_training_year': ['2012_14'],\n",
       " 'universe_training_size': ['25k'],\n",
       " 'universe_scale': ['do-not-scale'],\n",
       " 'universe_model': ['penalized_logreg'],\n",
       " 'universe_exclude_features': ['sex'],\n",
       " 'universe_exclude_subgroups': ['keep-all'],\n",
       " 'q_hat': [0.682512466547617],\n",
       " 'coverage': [0.9109798238769368],\n",
       " 'avg_size': [1.1972355367294616]}"
      ]
     },
     "execution_count": 48,
     "metadata": {},
     "output_type": "execute_result"
    }
   ],
   "source": [
    "cp_metrics_dict"
   ]
  },
  {
   "cell_type": "code",
   "execution_count": 49,
   "id": "33007efc-14e9-4ec6-97ac-56a455c82265",
   "metadata": {
    "execution": {
     "iopub.execute_input": "2025-08-05T20:58:41.088149Z",
     "iopub.status.busy": "2025-08-05T20:58:41.087641Z",
     "iopub.status.idle": "2025-08-05T20:58:41.092803Z",
     "shell.execute_reply": "2025-08-05T20:58:41.092071Z"
    },
    "papermill": {
     "duration": 0.018474,
     "end_time": "2025-08-05T20:58:41.094448",
     "exception": false,
     "start_time": "2025-08-05T20:58:41.075974",
     "status": "completed"
    },
    "tags": []
   },
   "outputs": [],
   "source": [
    "cp_metrics_df = pd.DataFrame(cp_metrics_dict)"
   ]
  },
  {
   "cell_type": "code",
   "execution_count": 50,
   "id": "db12611b-57b2-4910-b9d0-355adfd6e7bf",
   "metadata": {
    "execution": {
     "iopub.execute_input": "2025-08-05T20:58:41.118686Z",
     "iopub.status.busy": "2025-08-05T20:58:41.117978Z",
     "iopub.status.idle": "2025-08-05T20:58:41.132024Z",
     "shell.execute_reply": "2025-08-05T20:58:41.131304Z"
    },
    "papermill": {
     "duration": 0.027048,
     "end_time": "2025-08-05T20:58:41.133376",
     "exception": false,
     "start_time": "2025-08-05T20:58:41.106328",
     "status": "completed"
    },
    "tags": []
   },
   "outputs": [
    {
     "data": {
      "text/html": [
       "<div>\n",
       "<style scoped>\n",
       "    .dataframe tbody tr th:only-of-type {\n",
       "        vertical-align: middle;\n",
       "    }\n",
       "\n",
       "    .dataframe tbody tr th {\n",
       "        vertical-align: top;\n",
       "    }\n",
       "\n",
       "    .dataframe thead th {\n",
       "        text-align: right;\n",
       "    }\n",
       "</style>\n",
       "<table border=\"1\" class=\"dataframe\">\n",
       "  <thead>\n",
       "    <tr style=\"text-align: right;\">\n",
       "      <th></th>\n",
       "      <th>universe_id</th>\n",
       "      <th>universe_training_year</th>\n",
       "      <th>universe_training_size</th>\n",
       "      <th>universe_scale</th>\n",
       "      <th>universe_model</th>\n",
       "      <th>universe_exclude_features</th>\n",
       "      <th>universe_exclude_subgroups</th>\n",
       "      <th>q_hat</th>\n",
       "      <th>coverage</th>\n",
       "      <th>avg_size</th>\n",
       "    </tr>\n",
       "  </thead>\n",
       "  <tbody>\n",
       "    <tr>\n",
       "      <th>0</th>\n",
       "      <td>b73638acbdf56274bf59634faebfa121</td>\n",
       "      <td>2012_14</td>\n",
       "      <td>25k</td>\n",
       "      <td>do-not-scale</td>\n",
       "      <td>penalized_logreg</td>\n",
       "      <td>sex</td>\n",
       "      <td>keep-all</td>\n",
       "      <td>0.682512</td>\n",
       "      <td>0.91098</td>\n",
       "      <td>1.197236</td>\n",
       "    </tr>\n",
       "  </tbody>\n",
       "</table>\n",
       "</div>"
      ],
      "text/plain": [
       "                        universe_id universe_training_year  \\\n",
       "0  b73638acbdf56274bf59634faebfa121                2012_14   \n",
       "\n",
       "  universe_training_size universe_scale    universe_model  \\\n",
       "0                    25k   do-not-scale  penalized_logreg   \n",
       "\n",
       "  universe_exclude_features universe_exclude_subgroups     q_hat  coverage  \\\n",
       "0                       sex                   keep-all  0.682512   0.91098   \n",
       "\n",
       "   avg_size  \n",
       "0  1.197236  "
      ]
     },
     "execution_count": 50,
     "metadata": {},
     "output_type": "execute_result"
    }
   ],
   "source": [
    "cp_metrics_df"
   ]
  },
  {
   "cell_type": "code",
   "execution_count": 51,
   "id": "b7fbde55-a0a1-47e4-9af6-fe4a17fa8c61",
   "metadata": {
    "execution": {
     "iopub.execute_input": "2025-08-05T20:58:41.157256Z",
     "iopub.status.busy": "2025-08-05T20:58:41.156586Z",
     "iopub.status.idle": "2025-08-05T20:58:41.160963Z",
     "shell.execute_reply": "2025-08-05T20:58:41.160271Z"
    },
    "papermill": {
     "duration": 0.017363,
     "end_time": "2025-08-05T20:58:41.162359",
     "exception": false,
     "start_time": "2025-08-05T20:58:41.144996",
     "status": "completed"
    },
    "tags": []
   },
   "outputs": [],
   "source": [
    "# Conditional Coverage & looking at subgroups"
   ]
  },
  {
   "cell_type": "code",
   "execution_count": 52,
   "id": "027ae886-68dd-4141-96c7-805a5450e1ef",
   "metadata": {
    "execution": {
     "iopub.execute_input": "2025-08-05T20:58:41.186455Z",
     "iopub.status.busy": "2025-08-05T20:58:41.185767Z",
     "iopub.status.idle": "2025-08-05T20:58:41.423095Z",
     "shell.execute_reply": "2025-08-05T20:58:41.422026Z"
    },
    "papermill": {
     "duration": 0.250444,
     "end_time": "2025-08-05T20:58:41.424685",
     "exception": false,
     "start_time": "2025-08-05T20:58:41.174241",
     "status": "completed"
    },
    "tags": []
   },
   "outputs": [],
   "source": [
    "from fairness_multiverse.conformal import build_cp_groups\n",
    "\n",
    "cp_groups_df = build_cp_groups(pred_sets, y_true, X_test.index, org_test)\n",
    "#needs universe_id and setting"
   ]
  },
  {
   "cell_type": "code",
   "execution_count": 53,
   "id": "6cbdab96-b2b2-45af-ad54-d0516db2e28d",
   "metadata": {
    "execution": {
     "iopub.execute_input": "2025-08-05T20:58:41.469798Z",
     "iopub.status.busy": "2025-08-05T20:58:41.469326Z",
     "iopub.status.idle": "2025-08-05T20:58:43.615248Z",
     "shell.execute_reply": "2025-08-05T20:58:43.614047Z"
    },
    "papermill": {
     "duration": 2.170819,
     "end_time": "2025-08-05T20:58:43.617247",
     "exception": false,
     "start_time": "2025-08-05T20:58:41.446428",
     "status": "completed"
    },
    "tags": []
   },
   "outputs": [],
   "source": [
    "# Define covered = 1 if true_label is in the predicted set\n",
    "cp_groups_df['covered'] = cp_groups_df.apply(\n",
    "    lambda r: int(r['true_label'] in r['pred_set']),\n",
    "    axis=1\n",
    ")"
   ]
  },
  {
   "cell_type": "code",
   "execution_count": 54,
   "id": "338ff529-1a6b-4b87-a931-8e4788d52aad",
   "metadata": {
    "execution": {
     "iopub.execute_input": "2025-08-05T20:58:43.662626Z",
     "iopub.status.busy": "2025-08-05T20:58:43.661936Z",
     "iopub.status.idle": "2025-08-05T20:58:43.667496Z",
     "shell.execute_reply": "2025-08-05T20:58:43.666542Z"
    },
    "papermill": {
     "duration": 0.032905,
     "end_time": "2025-08-05T20:58:43.670006",
     "exception": false,
     "start_time": "2025-08-05T20:58:43.637101",
     "status": "completed"
    },
    "tags": []
   },
   "outputs": [],
   "source": [
    "#cp_groups_df"
   ]
  },
  {
   "cell_type": "code",
   "execution_count": 55,
   "id": "90032e27-66df-4540-9169-4e89cfbaa758",
   "metadata": {
    "execution": {
     "iopub.execute_input": "2025-08-05T20:58:43.719001Z",
     "iopub.status.busy": "2025-08-05T20:58:43.717727Z",
     "iopub.status.idle": "2025-08-05T20:58:43.727753Z",
     "shell.execute_reply": "2025-08-05T20:58:43.726998Z"
    },
    "papermill": {
     "duration": 0.035866,
     "end_time": "2025-08-05T20:58:43.729071",
     "exception": false,
     "start_time": "2025-08-05T20:58:43.693205",
     "status": "completed"
    },
    "tags": []
   },
   "outputs": [],
   "source": [
    "subgroups = ['frau1','nongerman','nongerman_male','nongerman_female']\n",
    "\n",
    "# Conditional coverage for subgroup==1\n",
    "cond_coverage = {\n",
    "    g: cp_groups_df.loc[cp_groups_df[g]==1, 'covered'].mean()\n",
    "    for g in subgroups\n",
    "}"
   ]
  },
  {
   "cell_type": "code",
   "execution_count": 56,
   "id": "1e348fb1-b9c3-45bc-ba23-f016827a7e0d",
   "metadata": {
    "execution": {
     "iopub.execute_input": "2025-08-05T20:58:43.772975Z",
     "iopub.status.busy": "2025-08-05T20:58:43.772557Z",
     "iopub.status.idle": "2025-08-05T20:58:43.779346Z",
     "shell.execute_reply": "2025-08-05T20:58:43.778463Z"
    },
    "papermill": {
     "duration": 0.030958,
     "end_time": "2025-08-05T20:58:43.780889",
     "exception": false,
     "start_time": "2025-08-05T20:58:43.749931",
     "status": "completed"
    },
    "tags": []
   },
   "outputs": [
    {
     "data": {
      "text/plain": [
       "{'frau1': 0.9098530799299097,\n",
       " 'nongerman': 0.927917812833324,\n",
       " 'nongerman_male': 0.9416373952985679,\n",
       " 'nongerman_female': 0.9052160953800298}"
      ]
     },
     "execution_count": 56,
     "metadata": {},
     "output_type": "execute_result"
    }
   ],
   "source": [
    "cond_coverage"
   ]
  },
  {
   "cell_type": "code",
   "execution_count": 57,
   "id": "f5093324-c3dd-4d63-bc4c-8d945e5c8bbb",
   "metadata": {
    "execution": {
     "iopub.execute_input": "2025-08-05T20:58:43.824631Z",
     "iopub.status.busy": "2025-08-05T20:58:43.823996Z",
     "iopub.status.idle": "2025-08-05T20:58:43.831156Z",
     "shell.execute_reply": "2025-08-05T20:58:43.830260Z"
    },
    "papermill": {
     "duration": 0.030555,
     "end_time": "2025-08-05T20:58:43.832607",
     "exception": false,
     "start_time": "2025-08-05T20:58:43.802052",
     "status": "completed"
    },
    "tags": []
   },
   "outputs": [],
   "source": [
    "for subgroup, cov in cond_coverage.items():\n",
    "    cp_metrics_df[f\"cov_{subgroup}\"] = cov"
   ]
  },
  {
   "cell_type": "code",
   "execution_count": 58,
   "id": "6e872e10-dbe5-49e8-b554-5030c98ff75d",
   "metadata": {
    "execution": {
     "iopub.execute_input": "2025-08-05T20:58:43.875674Z",
     "iopub.status.busy": "2025-08-05T20:58:43.875258Z",
     "iopub.status.idle": "2025-08-05T20:58:43.895790Z",
     "shell.execute_reply": "2025-08-05T20:58:43.894722Z"
    },
    "papermill": {
     "duration": 0.043879,
     "end_time": "2025-08-05T20:58:43.897455",
     "exception": false,
     "start_time": "2025-08-05T20:58:43.853576",
     "status": "completed"
    },
    "tags": []
   },
   "outputs": [
    {
     "data": {
      "text/html": [
       "<div>\n",
       "<style scoped>\n",
       "    .dataframe tbody tr th:only-of-type {\n",
       "        vertical-align: middle;\n",
       "    }\n",
       "\n",
       "    .dataframe tbody tr th {\n",
       "        vertical-align: top;\n",
       "    }\n",
       "\n",
       "    .dataframe thead th {\n",
       "        text-align: right;\n",
       "    }\n",
       "</style>\n",
       "<table border=\"1\" class=\"dataframe\">\n",
       "  <thead>\n",
       "    <tr style=\"text-align: right;\">\n",
       "      <th></th>\n",
       "      <th>universe_id</th>\n",
       "      <th>universe_training_year</th>\n",
       "      <th>universe_training_size</th>\n",
       "      <th>universe_scale</th>\n",
       "      <th>universe_model</th>\n",
       "      <th>universe_exclude_features</th>\n",
       "      <th>universe_exclude_subgroups</th>\n",
       "      <th>q_hat</th>\n",
       "      <th>coverage</th>\n",
       "      <th>avg_size</th>\n",
       "      <th>cov_frau1</th>\n",
       "      <th>cov_nongerman</th>\n",
       "      <th>cov_nongerman_male</th>\n",
       "      <th>cov_nongerman_female</th>\n",
       "    </tr>\n",
       "  </thead>\n",
       "  <tbody>\n",
       "    <tr>\n",
       "      <th>0</th>\n",
       "      <td>b73638acbdf56274bf59634faebfa121</td>\n",
       "      <td>2012_14</td>\n",
       "      <td>25k</td>\n",
       "      <td>do-not-scale</td>\n",
       "      <td>penalized_logreg</td>\n",
       "      <td>sex</td>\n",
       "      <td>keep-all</td>\n",
       "      <td>0.682512</td>\n",
       "      <td>0.91098</td>\n",
       "      <td>1.197236</td>\n",
       "      <td>0.909853</td>\n",
       "      <td>0.927918</td>\n",
       "      <td>0.941637</td>\n",
       "      <td>0.905216</td>\n",
       "    </tr>\n",
       "  </tbody>\n",
       "</table>\n",
       "</div>"
      ],
      "text/plain": [
       "                        universe_id universe_training_year  \\\n",
       "0  b73638acbdf56274bf59634faebfa121                2012_14   \n",
       "\n",
       "  universe_training_size universe_scale    universe_model  \\\n",
       "0                    25k   do-not-scale  penalized_logreg   \n",
       "\n",
       "  universe_exclude_features universe_exclude_subgroups     q_hat  coverage  \\\n",
       "0                       sex                   keep-all  0.682512   0.91098   \n",
       "\n",
       "   avg_size  cov_frau1  cov_nongerman  cov_nongerman_male  \\\n",
       "0  1.197236   0.909853       0.927918            0.941637   \n",
       "\n",
       "   cov_nongerman_female  \n",
       "0              0.905216  "
      ]
     },
     "execution_count": 58,
     "metadata": {},
     "output_type": "execute_result"
    }
   ],
   "source": [
    "cp_metrics_df"
   ]
  },
  {
   "cell_type": "markdown",
   "id": "33774451",
   "metadata": {
    "papermill": {
     "duration": 0.01151,
     "end_time": "2025-08-05T20:58:43.930647",
     "exception": false,
     "start_time": "2025-08-05T20:58:43.919137",
     "status": "completed"
    },
    "tags": []
   },
   "source": [
    "# (Fairness) Metrics"
   ]
  },
  {
   "cell_type": "code",
   "execution_count": 59,
   "id": "debc5d62",
   "metadata": {
    "execution": {
     "iopub.execute_input": "2025-08-05T20:58:43.954325Z",
     "iopub.status.busy": "2025-08-05T20:58:43.953995Z",
     "iopub.status.idle": "2025-08-05T20:58:43.983338Z",
     "shell.execute_reply": "2025-08-05T20:58:43.982533Z"
    },
    "papermill": {
     "duration": 0.043002,
     "end_time": "2025-08-05T20:58:43.984816",
     "exception": false,
     "start_time": "2025-08-05T20:58:43.941814",
     "status": "completed"
    },
    "tags": []
   },
   "outputs": [],
   "source": [
    "# do I need to include maxdeutsch1.missing?\n",
    "\n",
    "import numpy as np\n",
    "\n",
    "colname_to_bin = \"maxdeutsch1\"\n",
    "majority_value = org_train[colname_to_bin].mode()[0]\n",
    "\n",
    "org_test[\"majmin\"] = np.where(org_test[colname_to_bin] == majority_value, \"majority\", \"minority\")"
   ]
  },
  {
   "cell_type": "code",
   "execution_count": 60,
   "id": "06a50de5",
   "metadata": {
    "execution": {
     "iopub.execute_input": "2025-08-05T20:58:44.009305Z",
     "iopub.status.busy": "2025-08-05T20:58:44.008800Z",
     "iopub.status.idle": "2025-08-05T20:58:45.907111Z",
     "shell.execute_reply": "2025-08-05T20:58:45.906230Z"
    },
    "papermill": {
     "duration": 1.911768,
     "end_time": "2025-08-05T20:58:45.908654",
     "exception": false,
     "start_time": "2025-08-05T20:58:43.996886",
     "status": "completed"
    },
    "tags": []
   },
   "outputs": [],
   "source": [
    "example_universe = universe.copy()\n",
    "example_universe[\"cutoff\"] = example_universe[\"cutoff\"][0]\n",
    "example_universe[\"eval_fairness_grouping\"] = example_universe[\"eval_fairness_grouping\"][0]\n",
    "fairness_dict, metric_frame = universe_analysis.compute_metrics(\n",
    "    example_universe,\n",
    "    y_pred_prob=probs_test,\n",
    "    y_test=y_true,\n",
    "    org_test=org_test,\n",
    ")"
   ]
  },
  {
   "cell_type": "markdown",
   "id": "f95d4e02",
   "metadata": {
    "papermill": {
     "duration": 0.011084,
     "end_time": "2025-08-05T20:58:45.934688",
     "exception": false,
     "start_time": "2025-08-05T20:58:45.923604",
     "status": "completed"
    },
    "tags": []
   },
   "source": [
    "# Overall"
   ]
  },
  {
   "cell_type": "markdown",
   "id": "bdee4871",
   "metadata": {
    "papermill": {
     "duration": 0.011364,
     "end_time": "2025-08-05T20:58:45.957306",
     "exception": false,
     "start_time": "2025-08-05T20:58:45.945942",
     "status": "completed"
    },
    "tags": []
   },
   "source": [
    "Fairness\n",
    "Main fairness target: Equalized Odds. Seems to be a better fit than equal opportunity, since we're not only interested in Y = 1. Seems to be a better fit than demographic parity, since we also care about accuracy, not just equal distribution of preds.\n",
    "\n",
    "Pick column for computation of fairness metrics\n",
    "\n",
    "Performance\n",
    "Overall performance measures, most interesting in relation to the measures split by group below"
   ]
  },
  {
   "cell_type": "code",
   "execution_count": 61,
   "id": "c4e067c6",
   "metadata": {
    "execution": {
     "iopub.execute_input": "2025-08-05T20:58:45.981335Z",
     "iopub.status.busy": "2025-08-05T20:58:45.980607Z",
     "iopub.status.idle": "2025-08-05T20:58:45.987800Z",
     "shell.execute_reply": "2025-08-05T20:58:45.986959Z"
    },
    "papermill": {
     "duration": 0.020691,
     "end_time": "2025-08-05T20:58:45.989341",
     "exception": false,
     "start_time": "2025-08-05T20:58:45.968650",
     "status": "completed"
    },
    "tags": []
   },
   "outputs": [
    {
     "data": {
      "text/plain": [
       "accuracy                   0.217958\n",
       "balanced accuracy          0.534281\n",
       "f1                         0.239466\n",
       "precision                  0.136799\n",
       "false positive rate        0.891205\n",
       "false negative rate        0.040233\n",
       "selection rate             0.900000\n",
       "count                  89710.000000\n",
       "dtype: float64"
      ]
     },
     "execution_count": 61,
     "metadata": {},
     "output_type": "execute_result"
    }
   ],
   "source": [
    "metric_frame.overall"
   ]
  },
  {
   "cell_type": "markdown",
   "id": "e968fe9d",
   "metadata": {
    "papermill": {
     "duration": 0.016691,
     "end_time": "2025-08-05T20:58:46.018056",
     "exception": false,
     "start_time": "2025-08-05T20:58:46.001365",
     "status": "completed"
    },
    "tags": []
   },
   "source": [
    "By Group"
   ]
  },
  {
   "cell_type": "code",
   "execution_count": 62,
   "id": "ec325bce",
   "metadata": {
    "execution": {
     "iopub.execute_input": "2025-08-05T20:58:46.065866Z",
     "iopub.status.busy": "2025-08-05T20:58:46.065323Z",
     "iopub.status.idle": "2025-08-05T20:58:46.079712Z",
     "shell.execute_reply": "2025-08-05T20:58:46.078836Z"
    },
    "papermill": {
     "duration": 0.040002,
     "end_time": "2025-08-05T20:58:46.081371",
     "exception": false,
     "start_time": "2025-08-05T20:58:46.041369",
     "status": "completed"
    },
    "tags": []
   },
   "outputs": [
    {
     "data": {
      "text/html": [
       "<div>\n",
       "<style scoped>\n",
       "    .dataframe tbody tr th:only-of-type {\n",
       "        vertical-align: middle;\n",
       "    }\n",
       "\n",
       "    .dataframe tbody tr th {\n",
       "        vertical-align: top;\n",
       "    }\n",
       "\n",
       "    .dataframe thead th {\n",
       "        text-align: right;\n",
       "    }\n",
       "</style>\n",
       "<table border=\"1\" class=\"dataframe\">\n",
       "  <thead>\n",
       "    <tr style=\"text-align: right;\">\n",
       "      <th></th>\n",
       "      <th>accuracy</th>\n",
       "      <th>balanced accuracy</th>\n",
       "      <th>f1</th>\n",
       "      <th>precision</th>\n",
       "      <th>false positive rate</th>\n",
       "      <th>false negative rate</th>\n",
       "      <th>selection rate</th>\n",
       "      <th>count</th>\n",
       "    </tr>\n",
       "    <tr>\n",
       "      <th>majmin</th>\n",
       "      <th></th>\n",
       "      <th></th>\n",
       "      <th></th>\n",
       "      <th></th>\n",
       "      <th></th>\n",
       "      <th></th>\n",
       "      <th></th>\n",
       "      <th></th>\n",
       "    </tr>\n",
       "  </thead>\n",
       "  <tbody>\n",
       "    <tr>\n",
       "      <th>majority</th>\n",
       "      <td>0.240711</td>\n",
       "      <td>0.542332</td>\n",
       "      <td>0.248942</td>\n",
       "      <td>0.143186</td>\n",
       "      <td>0.867633</td>\n",
       "      <td>0.047702</td>\n",
       "      <td>0.878820</td>\n",
       "      <td>69170.0</td>\n",
       "    </tr>\n",
       "    <tr>\n",
       "      <th>minority</th>\n",
       "      <td>0.141334</td>\n",
       "      <td>0.509762</td>\n",
       "      <td>0.209776</td>\n",
       "      <td>0.117337</td>\n",
       "      <td>0.969073</td>\n",
       "      <td>0.011402</td>\n",
       "      <td>0.971324</td>\n",
       "      <td>20540.0</td>\n",
       "    </tr>\n",
       "  </tbody>\n",
       "</table>\n",
       "</div>"
      ],
      "text/plain": [
       "          accuracy  balanced accuracy        f1  precision  \\\n",
       "majmin                                                       \n",
       "majority  0.240711           0.542332  0.248942   0.143186   \n",
       "minority  0.141334           0.509762  0.209776   0.117337   \n",
       "\n",
       "          false positive rate  false negative rate  selection rate    count  \n",
       "majmin                                                                       \n",
       "majority             0.867633             0.047702        0.878820  69170.0  \n",
       "minority             0.969073             0.011402        0.971324  20540.0  "
      ]
     },
     "execution_count": 62,
     "metadata": {},
     "output_type": "execute_result"
    }
   ],
   "source": [
    "metric_frame.by_group"
   ]
  },
  {
   "cell_type": "code",
   "execution_count": 63,
   "id": "a9ddbe63",
   "metadata": {
    "execution": {
     "iopub.execute_input": "2025-08-05T20:58:46.129871Z",
     "iopub.status.busy": "2025-08-05T20:58:46.129192Z",
     "iopub.status.idle": "2025-08-05T20:58:48.491576Z",
     "shell.execute_reply": "2025-08-05T20:58:48.490656Z"
    },
    "papermill": {
     "duration": 2.388816,
     "end_time": "2025-08-05T20:58:48.493170",
     "exception": false,
     "start_time": "2025-08-05T20:58:46.104354",
     "status": "completed"
    },
    "tags": []
   },
   "outputs": [
    {
     "data": {
      "text/plain": [
       "array([[<Axes: title={'center': 'accuracy'}, xlabel='majmin'>,\n",
       "        <Axes: title={'center': 'balanced accuracy'}, xlabel='majmin'>,\n",
       "        <Axes: title={'center': 'f1'}, xlabel='majmin'>],\n",
       "       [<Axes: title={'center': 'precision'}, xlabel='majmin'>,\n",
       "        <Axes: title={'center': 'false positive rate'}, xlabel='majmin'>,\n",
       "        <Axes: title={'center': 'false negative rate'}, xlabel='majmin'>],\n",
       "       [<Axes: title={'center': 'selection rate'}, xlabel='majmin'>,\n",
       "        <Axes: title={'center': 'count'}, xlabel='majmin'>,\n",
       "        <Axes: xlabel='majmin'>]], dtype=object)"
      ]
     },
     "execution_count": 63,
     "metadata": {},
     "output_type": "execute_result"
    },
    {
     "data": {
      "image/png": "[encoded data removed]",
      "text/plain": [
       "<Figure size 1200x800 with 9 Axes>"
      ]
     },
     "metadata": {},
     "output_type": "display_data"
    }
   ],
   "source": [
    "# In a graphic\n",
    "metric_frame.by_group.plot.bar(\n",
    "    subplots=True,\n",
    "    layout=[3, 3],\n",
    "    legend=False,\n",
    "    figsize=[12, 8],\n",
    "    title=\"Show all metrics\",\n",
    ")"
   ]
  },
  {
   "cell_type": "markdown",
   "id": "f57a0bac",
   "metadata": {
    "papermill": {
     "duration": 0.022876,
     "end_time": "2025-08-05T20:58:48.540806",
     "exception": false,
     "start_time": "2025-08-05T20:58:48.517930",
     "status": "completed"
    },
    "tags": []
   },
   "source": [
    "# Final Output"
   ]
  },
  {
   "cell_type": "code",
   "execution_count": 64,
   "id": "96d280a3",
   "metadata": {
    "execution": {
     "iopub.execute_input": "2025-08-05T20:58:48.587234Z",
     "iopub.status.busy": "2025-08-05T20:58:48.586274Z",
     "iopub.status.idle": "2025-08-05T20:58:48.594107Z",
     "shell.execute_reply": "2025-08-05T20:58:48.592939Z"
    },
    "papermill": {
     "duration": 0.033239,
     "end_time": "2025-08-05T20:58:48.596132",
     "exception": false,
     "start_time": "2025-08-05T20:58:48.562893",
     "status": "completed"
    },
    "tags": []
   },
   "outputs": [
    {
     "data": {
      "text/plain": [
       "4"
      ]
     },
     "execution_count": 64,
     "metadata": {},
     "output_type": "execute_result"
    }
   ],
   "source": [
    "sub_universes = universe_analysis.generate_sub_universes()\n",
    "len(sub_universes)"
   ]
  },
  {
   "cell_type": "code",
   "execution_count": 65,
   "id": "92adf7ba",
   "metadata": {
    "execution": {
     "iopub.execute_input": "2025-08-05T20:58:48.651513Z",
     "iopub.status.busy": "2025-08-05T20:58:48.651187Z",
     "iopub.status.idle": "2025-08-05T20:58:48.656723Z",
     "shell.execute_reply": "2025-08-05T20:58:48.655699Z"
    },
    "papermill": {
     "duration": 0.035049,
     "end_time": "2025-08-05T20:58:48.658542",
     "exception": false,
     "start_time": "2025-08-05T20:58:48.623493",
     "status": "completed"
    },
    "tags": []
   },
   "outputs": [],
   "source": [
    "def filter_sub_universe_data(sub_universe, org_test):\n",
    "    # Keep all rows — no filtering\n",
    "    keep_rows_mask = np.ones(org_test.shape[0], dtype=bool)\n",
    "\n",
    "    print(f\"[INFO] Keeping all rows: {keep_rows_mask.sum()} rows retained.\")\n",
    "    return keep_rows_mask"
   ]
  },
  {
   "cell_type": "code",
   "execution_count": 66,
   "id": "4a759155",
   "metadata": {
    "execution": {
     "iopub.execute_input": "2025-08-05T20:58:48.714496Z",
     "iopub.status.busy": "2025-08-05T20:58:48.713686Z",
     "iopub.status.idle": "2025-08-05T20:58:59.138154Z",
     "shell.execute_reply": "2025-08-05T20:58:59.137183Z"
    },
    "papermill": {
     "duration": 10.453819,
     "end_time": "2025-08-05T20:58:59.139775",
     "exception": false,
     "start_time": "2025-08-05T20:58:48.685956",
     "status": "completed"
    },
    "tags": []
   },
   "outputs": [
    {
     "name": "stdout",
     "output_type": "stream",
     "text": [
      "Stopping execution_time clock.\n",
      "[INFO] Keeping all rows: 89710 rows retained.\n"
     ]
    },
    {
     "name": "stdout",
     "output_type": "stream",
     "text": [
      "[INFO] Keeping all rows: 89710 rows retained.\n"
     ]
    },
    {
     "name": "stdout",
     "output_type": "stream",
     "text": [
      "[INFO] Keeping all rows: 89710 rows retained.\n"
     ]
    },
    {
     "name": "stdout",
     "output_type": "stream",
     "text": [
      "[INFO] Keeping all rows: 89710 rows retained.\n"
     ]
    },
    {
     "data": {
      "text/html": [
       "<div>\n",
       "<style scoped>\n",
       "    .dataframe tbody tr th:only-of-type {\n",
       "        vertical-align: middle;\n",
       "    }\n",
       "\n",
       "    .dataframe tbody tr th {\n",
       "        vertical-align: top;\n",
       "    }\n",
       "\n",
       "    .dataframe thead th {\n",
       "        text-align: right;\n",
       "    }\n",
       "</style>\n",
       "<table border=\"1\" class=\"dataframe\">\n",
       "  <thead>\n",
       "    <tr style=\"text-align: right;\">\n",
       "      <th></th>\n",
       "      <th>run_no</th>\n",
       "      <th>universe_id</th>\n",
       "      <th>universe_settings</th>\n",
       "      <th>execution_time</th>\n",
       "      <th>test_size_n</th>\n",
       "      <th>test_size_frac</th>\n",
       "      <th>fair_main_equalized_odds_difference</th>\n",
       "      <th>fair_main_equalized_odds_ratio</th>\n",
       "      <th>fair_main_demographic_parity_difference</th>\n",
       "      <th>fair_main_demographic_parity_ratio</th>\n",
       "      <th>...</th>\n",
       "      <th>perf_grp_precision_0</th>\n",
       "      <th>perf_grp_precision_1</th>\n",
       "      <th>perf_grp_false positive rate_0</th>\n",
       "      <th>perf_grp_false positive rate_1</th>\n",
       "      <th>perf_grp_false negative rate_0</th>\n",
       "      <th>perf_grp_false negative rate_1</th>\n",
       "      <th>perf_grp_selection rate_0</th>\n",
       "      <th>perf_grp_selection rate_1</th>\n",
       "      <th>perf_grp_count_0</th>\n",
       "      <th>perf_grp_count_1</th>\n",
       "    </tr>\n",
       "  </thead>\n",
       "  <tbody>\n",
       "    <tr>\n",
       "      <th>0</th>\n",
       "      <td>16</td>\n",
       "      <td>b73638acbdf56274bf59634faebfa121</td>\n",
       "      <td>{\"cutoff\": \"quantile_0.1\", \"eval_fairness_grou...</td>\n",
       "      <td>25.294959</td>\n",
       "      <td>89710</td>\n",
       "      <td>1.0</td>\n",
       "      <td>0.101440</td>\n",
       "      <td>0.895322</td>\n",
       "      <td>0.092504</td>\n",
       "      <td>0.904765</td>\n",
       "      <td>...</td>\n",
       "      <td>NaN</td>\n",
       "      <td>NaN</td>\n",
       "      <td>NaN</td>\n",
       "      <td>NaN</td>\n",
       "      <td>NaN</td>\n",
       "      <td>NaN</td>\n",
       "      <td>NaN</td>\n",
       "      <td>NaN</td>\n",
       "      <td>NaN</td>\n",
       "      <td>NaN</td>\n",
       "    </tr>\n",
       "    <tr>\n",
       "      <th>0</th>\n",
       "      <td>16</td>\n",
       "      <td>b73638acbdf56274bf59634faebfa121</td>\n",
       "      <td>{\"cutoff\": \"quantile_0.1\", \"eval_fairness_grou...</td>\n",
       "      <td>25.294959</td>\n",
       "      <td>89710</td>\n",
       "      <td>1.0</td>\n",
       "      <td>0.101440</td>\n",
       "      <td>0.895322</td>\n",
       "      <td>0.092504</td>\n",
       "      <td>0.904765</td>\n",
       "      <td>...</td>\n",
       "      <td>0.117337</td>\n",
       "      <td>0.143186</td>\n",
       "      <td>0.969073</td>\n",
       "      <td>0.867633</td>\n",
       "      <td>0.011402</td>\n",
       "      <td>0.047702</td>\n",
       "      <td>0.971324</td>\n",
       "      <td>0.878820</td>\n",
       "      <td>20540.0</td>\n",
       "      <td>69170.0</td>\n",
       "    </tr>\n",
       "    <tr>\n",
       "      <th>0</th>\n",
       "      <td>16</td>\n",
       "      <td>b73638acbdf56274bf59634faebfa121</td>\n",
       "      <td>{\"cutoff\": \"quantile_0.25\", \"eval_fairness_gro...</td>\n",
       "      <td>25.294959</td>\n",
       "      <td>89710</td>\n",
       "      <td>1.0</td>\n",
       "      <td>0.224218</td>\n",
       "      <td>0.751480</td>\n",
       "      <td>0.205347</td>\n",
       "      <td>0.773928</td>\n",
       "      <td>...</td>\n",
       "      <td>NaN</td>\n",
       "      <td>NaN</td>\n",
       "      <td>NaN</td>\n",
       "      <td>NaN</td>\n",
       "      <td>NaN</td>\n",
       "      <td>NaN</td>\n",
       "      <td>NaN</td>\n",
       "      <td>NaN</td>\n",
       "      <td>NaN</td>\n",
       "      <td>NaN</td>\n",
       "    </tr>\n",
       "    <tr>\n",
       "      <th>0</th>\n",
       "      <td>16</td>\n",
       "      <td>b73638acbdf56274bf59634faebfa121</td>\n",
       "      <td>{\"cutoff\": \"quantile_0.25\", \"eval_fairness_gro...</td>\n",
       "      <td>25.294959</td>\n",
       "      <td>89710</td>\n",
       "      <td>1.0</td>\n",
       "      <td>0.224218</td>\n",
       "      <td>0.751480</td>\n",
       "      <td>0.205347</td>\n",
       "      <td>0.773928</td>\n",
       "      <td>...</td>\n",
       "      <td>0.121241</td>\n",
       "      <td>0.162982</td>\n",
       "      <td>0.902212</td>\n",
       "      <td>0.677994</td>\n",
       "      <td>0.044764</td>\n",
       "      <td>0.132932</td>\n",
       "      <td>0.908325</td>\n",
       "      <td>0.702978</td>\n",
       "      <td>20540.0</td>\n",
       "      <td>69170.0</td>\n",
       "    </tr>\n",
       "  </tbody>\n",
       "</table>\n",
       "<p>4 rows × 50 columns</p>\n",
       "</div>"
      ],
      "text/plain": [
       "  run_no                       universe_id  \\\n",
       "0     16  b73638acbdf56274bf59634faebfa121   \n",
       "0     16  b73638acbdf56274bf59634faebfa121   \n",
       "0     16  b73638acbdf56274bf59634faebfa121   \n",
       "0     16  b73638acbdf56274bf59634faebfa121   \n",
       "\n",
       "                                   universe_settings  execution_time  \\\n",
       "0  {\"cutoff\": \"quantile_0.1\", \"eval_fairness_grou...       25.294959   \n",
       "0  {\"cutoff\": \"quantile_0.1\", \"eval_fairness_grou...       25.294959   \n",
       "0  {\"cutoff\": \"quantile_0.25\", \"eval_fairness_gro...       25.294959   \n",
       "0  {\"cutoff\": \"quantile_0.25\", \"eval_fairness_gro...       25.294959   \n",
       "\n",
       "   test_size_n  test_size_frac  fair_main_equalized_odds_difference  \\\n",
       "0        89710             1.0                             0.101440   \n",
       "0        89710             1.0                             0.101440   \n",
       "0        89710             1.0                             0.224218   \n",
       "0        89710             1.0                             0.224218   \n",
       "\n",
       "   fair_main_equalized_odds_ratio  fair_main_demographic_parity_difference  \\\n",
       "0                        0.895322                                 0.092504   \n",
       "0                        0.895322                                 0.092504   \n",
       "0                        0.751480                                 0.205347   \n",
       "0                        0.751480                                 0.205347   \n",
       "\n",
       "   fair_main_demographic_parity_ratio  ...  perf_grp_precision_0  \\\n",
       "0                            0.904765  ...                   NaN   \n",
       "0                            0.904765  ...              0.117337   \n",
       "0                            0.773928  ...                   NaN   \n",
       "0                            0.773928  ...              0.121241   \n",
       "\n",
       "   perf_grp_precision_1  perf_grp_false positive rate_0  \\\n",
       "0                   NaN                             NaN   \n",
       "0              0.143186                        0.969073   \n",
       "0                   NaN                             NaN   \n",
       "0              0.162982                        0.902212   \n",
       "\n",
       "   perf_grp_false positive rate_1  perf_grp_false negative rate_0  \\\n",
       "0                             NaN                             NaN   \n",
       "0                        0.867633                        0.011402   \n",
       "0                             NaN                             NaN   \n",
       "0                        0.677994                        0.044764   \n",
       "\n",
       "   perf_grp_false negative rate_1  perf_grp_selection rate_0  \\\n",
       "0                             NaN                        NaN   \n",
       "0                        0.047702                   0.971324   \n",
       "0                             NaN                        NaN   \n",
       "0                        0.132932                   0.908325   \n",
       "\n",
       "   perf_grp_selection rate_1  perf_grp_count_0  perf_grp_count_1  \n",
       "0                        NaN               NaN               NaN  \n",
       "0                   0.878820           20540.0           69170.0  \n",
       "0                        NaN               NaN               NaN  \n",
       "0                   0.702978           20540.0           69170.0  \n",
       "\n",
       "[4 rows x 50 columns]"
      ]
     },
     "execution_count": 66,
     "metadata": {},
     "output_type": "execute_result"
    }
   ],
   "source": [
    "final_output = universe_analysis.generate_final_output(\n",
    "    y_pred_prob=probs_test,\n",
    "    y_test=y_true,\n",
    "    org_test=org_test,\n",
    "    filter_data=filter_sub_universe_data,\n",
    "    cp_metrics_df=cp_metrics_df,\n",
    "    save=True,\n",
    ")\n",
    "final_output"
   ]
  }
 ],
 "metadata": {
  "celltoolbar": "Tags",
  "kernelspec": {
   "display_name": "Python (CMA Fairness)",
   "language": "python",
   "name": "cma_fair_env"
  },
  "language_info": {
   "codemirror_mode": {
    "name": "ipython",
    "version": 3
   },
   "file_extension": ".py",
   "mimetype": "text/x-python",
   "name": "python",
   "nbconvert_exporter": "python",
   "pygments_lexer": "ipython3",
   "version": "3.10.12"
  },
  "papermill": {
   "default_parameters": {},
   "duration": 39.848571,
   "end_time": "2025-08-05T20:58:59.888951",
   "environment_variables": {},
   "exception": null,
   "input_path": "universe_analysis.ipynb",
   "output_path": "output/runs/16/notebooks/m_16-b73638acbdf56274bf59634faebfa121.ipynb",
   "parameters": {
    "output_dir": "output",
    "run_no": "16",
    "seed": "2023",
    "universe": "{\"cutoff\": [\"quantile_0.1\", \"quantile_0.25\"], \"eval_fairness_grouping\": [\"majority-minority\", \"nationality-all\"], \"exclude_features\": \"sex\", \"exclude_subgroups\": \"keep-all\", \"model\": \"penalized_logreg\", \"scale\": \"do-not-scale\", \"training_size\": \"25k\", \"training_year\": \"2012_14\"}",
    "universe_id": "b73638acbdf56274bf59634faebfa121"
   },
   "start_time": "2025-08-05T20:58:20.040380",
   "version": "2.6.0"
  }
 },
 "nbformat": 4,
 "nbformat_minor": 5
}