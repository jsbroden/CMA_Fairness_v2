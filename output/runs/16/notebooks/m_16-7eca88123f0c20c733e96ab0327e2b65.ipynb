{
 "cells": [
  {
   "cell_type": "code",
   "execution_count": 1,
   "id": "f159f837-637b-42ba-96b5-ec9a68c44524",
   "metadata": {
    "execution": {
     "iopub.execute_input": "2025-08-05T20:52:01.829215Z",
     "iopub.status.busy": "2025-08-05T20:52:01.828724Z",
     "iopub.status.idle": "2025-08-05T20:52:01.843322Z",
     "shell.execute_reply": "2025-08-05T20:52:01.842212Z"
    },
    "papermill": {
     "duration": 0.036817,
     "end_time": "2025-08-05T20:52:01.845115",
     "exception": false,
     "start_time": "2025-08-05T20:52:01.808298",
     "status": "completed"
    },
    "tags": []
   },
   "outputs": [
    {
     "name": "stdout",
     "output_type": "stream",
     "text": [
      "/dss/dsshome1/0C/ra93lal2/cma/CMA_Fairness_v2\n"
     ]
    },
    {
     "name": "stderr",
     "output_type": "stream",
     "text": [
      "/dss/dsshome1/0C/ra93lal2/.local/share/virtualenvs/CMA_Fairness_v2-3j10GkSs/lib/python3.10/site-packages/IPython/core/magics/osm.py:393: UserWarning: This is now an optional IPython functionality, using bookmarks requires you to install the `pickleshare` library.\n",
      "  bkms = self.shell.db.get('bookmarks', {})\n",
      "/dss/dsshome1/0C/ra93lal2/.local/share/virtualenvs/CMA_Fairness_v2-3j10GkSs/lib/python3.10/site-packages/IPython/core/magics/osm.py:417: UserWarning: This is now an optional IPython functionality, setting dhist requires you to install the `pickleshare` library.\n",
      "  self.shell.db['dhist'] = compress_dhist(dhist)[-100:]\n"
     ]
    }
   ],
   "source": [
    "%cd ~/cma/CMA_Fairness_v2"
   ]
  },
  {
   "cell_type": "markdown",
   "id": "de2603b9",
   "metadata": {
    "papermill": {
     "duration": 0.016893,
     "end_time": "2025-08-05T20:52:01.880020",
     "exception": false,
     "start_time": "2025-08-05T20:52:01.863127",
     "status": "completed"
    },
    "tags": []
   },
   "source": [
    "The following cell holds the definition of our parameters, these values can be overriden by rendering the with e.g. the following command:\n",
    "\n",
    "papermill -p alpha 0.2 -p ratio 0.3 universe_analysis.ipynb output/test_run.ipynb"
   ]
  },
  {
   "cell_type": "code",
   "execution_count": 2,
   "id": "a80968a0-40bb-4fa9-85ef-2d5eefb01975",
   "metadata": {
    "execution": {
     "iopub.execute_input": "2025-08-05T20:52:01.915759Z",
     "iopub.status.busy": "2025-08-05T20:52:01.915076Z",
     "iopub.status.idle": "2025-08-05T20:52:01.921360Z",
     "shell.execute_reply": "2025-08-05T20:52:01.920379Z"
    },
    "papermill": {
     "duration": 0.026274,
     "end_time": "2025-08-05T20:52:01.923288",
     "exception": false,
     "start_time": "2025-08-05T20:52:01.897014",
     "status": "completed"
    },
    "tags": []
   },
   "outputs": [
    {
     "name": "stdout",
     "output_type": "stream",
     "text": [
      "Current working directory: /dss/dsshome1/0C/ra93lal2/cma/CMA_Fairness_v2\n"
     ]
    }
   ],
   "source": [
    "import os\n",
    "print(\"Current working directory:\", os.getcwd())"
   ]
  },
  {
   "cell_type": "code",
   "execution_count": 3,
   "id": "2dce4c03",
   "metadata": {
    "execution": {
     "iopub.execute_input": "2025-08-05T20:52:01.960334Z",
     "iopub.status.busy": "2025-08-05T20:52:01.959542Z",
     "iopub.status.idle": "2025-08-05T20:52:01.965914Z",
     "shell.execute_reply": "2025-08-05T20:52:01.964858Z"
    },
    "papermill": {
     "duration": 0.026233,
     "end_time": "2025-08-05T20:52:01.967720",
     "exception": false,
     "start_time": "2025-08-05T20:52:01.941487",
     "status": "completed"
    },
    "tags": [
     "parameters"
    ]
   },
   "outputs": [],
   "source": [
    "run_no = 0\n",
    "universe_id = \"test\"\n",
    "universe = {\n",
    "    \"training_size\": \"25k\", # \"25k\", \"5k\", \"1k\"\n",
    "    \"training_year\": \"2014\", # \"2014\", \"2012_14\", \"2010_14\"\n",
    "    \"scale\": \"scale\", # \"scale\", \"do-not-scale\",\n",
    "    \"model\": \"elasticnet\", # \"logreg\", \"penalized_logreg\", \"rf\", \"gbm\", \"elasticnet\"\n",
    "    \"cutoff\": [\"quantile_0.15\", \"quantile_0.30\"],\n",
    "    \"exclude_features\": \"age\", # \"none\", \"nationality\", \"sex\", \"nationality-sex\", \"age\"\n",
    "    \"exclude_subgroups\": \"keep-all\", # \"keep-all\", \"drop-non-german\"\n",
    "    \"eval_fairness_grouping\": [\"majority-minority\", \"nationality-all\"]\n",
    "}\n",
    "\n",
    "output_dir=\"./output\"\n",
    "seed=0"
   ]
  },
  {
   "cell_type": "code",
   "execution_count": 4,
   "id": "6650109b",
   "metadata": {
    "execution": {
     "iopub.execute_input": "2025-08-05T20:52:02.007632Z",
     "iopub.status.busy": "2025-08-05T20:52:02.006792Z",
     "iopub.status.idle": "2025-08-05T20:52:02.012602Z",
     "shell.execute_reply": "2025-08-05T20:52:02.011667Z"
    },
    "papermill": {
     "duration": 0.027289,
     "end_time": "2025-08-05T20:52:02.014402",
     "exception": false,
     "start_time": "2025-08-05T20:52:01.987113",
     "status": "completed"
    },
    "tags": [
     "injected-parameters"
    ]
   },
   "outputs": [],
   "source": [
    "# Parameters\n",
    "universe_id = \"7eca88123f0c20c733e96ab0327e2b65\"\n",
    "run_no = \"16\"\n",
    "universe = \"{\\\"cutoff\\\": [\\\"quantile_0.1\\\", \\\"quantile_0.25\\\"], \\\"eval_fairness_grouping\\\": [\\\"majority-minority\\\", \\\"nationality-all\\\"], \\\"exclude_features\\\": \\\"sex\\\", \\\"exclude_subgroups\\\": \\\"drop-non-german\\\", \\\"model\\\": \\\"rf\\\", \\\"scale\\\": \\\"scale\\\", \\\"training_size\\\": \\\"25k\\\", \\\"training_year\\\": \\\"2012_14\\\"}\"\n",
    "output_dir = \"output\"\n",
    "seed = \"2023\"\n"
   ]
  },
  {
   "cell_type": "code",
   "execution_count": 5,
   "id": "1650acaf",
   "metadata": {
    "execution": {
     "iopub.execute_input": "2025-08-05T20:52:02.054341Z",
     "iopub.status.busy": "2025-08-05T20:52:02.053450Z",
     "iopub.status.idle": "2025-08-05T20:52:02.058910Z",
     "shell.execute_reply": "2025-08-05T20:52:02.057877Z"
    },
    "papermill": {
     "duration": 0.027078,
     "end_time": "2025-08-05T20:52:02.060752",
     "exception": false,
     "start_time": "2025-08-05T20:52:02.033674",
     "status": "completed"
    },
    "tags": []
   },
   "outputs": [],
   "source": [
    "import json\n",
    "if isinstance(universe, str):\n",
    "    universe = json.loads(universe)"
   ]
  },
  {
   "cell_type": "code",
   "execution_count": 6,
   "id": "16620c48",
   "metadata": {
    "execution": {
     "iopub.execute_input": "2025-08-05T20:52:02.100930Z",
     "iopub.status.busy": "2025-08-05T20:52:02.100097Z",
     "iopub.status.idle": "2025-08-05T20:52:02.142375Z",
     "shell.execute_reply": "2025-08-05T20:52:02.141351Z"
    },
    "papermill": {
     "duration": 0.063993,
     "end_time": "2025-08-05T20:52:02.144389",
     "exception": false,
     "start_time": "2025-08-05T20:52:02.080396",
     "status": "completed"
    },
    "tags": []
   },
   "outputs": [],
   "source": [
    "# Auto-reload the custom package\n",
    "%load_ext autoreload\n",
    "%autoreload 1\n",
    "%aimport fairness_multiverse"
   ]
  },
  {
   "cell_type": "code",
   "execution_count": 7,
   "id": "01c5c9f3",
   "metadata": {
    "execution": {
     "iopub.execute_input": "2025-08-05T20:52:02.184596Z",
     "iopub.status.busy": "2025-08-05T20:52:02.184129Z",
     "iopub.status.idle": "2025-08-05T20:52:03.775733Z",
     "shell.execute_reply": "2025-08-05T20:52:03.774678Z"
    },
    "papermill": {
     "duration": 1.613462,
     "end_time": "2025-08-05T20:52:03.777651",
     "exception": false,
     "start_time": "2025-08-05T20:52:02.164189",
     "status": "completed"
    },
    "tags": []
   },
   "outputs": [],
   "source": [
    "from fairness_multiverse.universe import UniverseAnalysis\n",
    "\n",
    "universe_analysis = UniverseAnalysis(\n",
    "    run_no = run_no,\n",
    "    universe_id = universe_id,\n",
    "    universe = universe,\n",
    "    output_dir=output_dir,\n",
    ")"
   ]
  },
  {
   "cell_type": "code",
   "execution_count": 8,
   "id": "106241f5",
   "metadata": {
    "execution": {
     "iopub.execute_input": "2025-08-05T20:52:03.811256Z",
     "iopub.status.busy": "2025-08-05T20:52:03.810559Z",
     "iopub.status.idle": "2025-08-05T20:52:03.817214Z",
     "shell.execute_reply": "2025-08-05T20:52:03.816279Z"
    },
    "papermill": {
     "duration": 0.025018,
     "end_time": "2025-08-05T20:52:03.818815",
     "exception": false,
     "start_time": "2025-08-05T20:52:03.793797",
     "status": "completed"
    },
    "tags": []
   },
   "outputs": [
    {
     "name": "stdout",
     "output_type": "stream",
     "text": [
      "Using Seed: 2023\n"
     ]
    }
   ],
   "source": [
    "import numpy as np\n",
    "parsed_seed = int(seed)\n",
    "np.random.seed(parsed_seed)\n",
    "print(f\"Using Seed: {parsed_seed}\")"
   ]
  },
  {
   "cell_type": "markdown",
   "id": "e0ebdc57",
   "metadata": {
    "papermill": {
     "duration": 0.01531,
     "end_time": "2025-08-05T20:52:03.851738",
     "exception": false,
     "start_time": "2025-08-05T20:52:03.836428",
     "status": "completed"
    },
    "tags": []
   },
   "source": [
    "# Loading Data"
   ]
  },
  {
   "cell_type": "code",
   "execution_count": 9,
   "id": "f0496b8a",
   "metadata": {
    "execution": {
     "iopub.execute_input": "2025-08-05T20:52:03.886694Z",
     "iopub.status.busy": "2025-08-05T20:52:03.885952Z",
     "iopub.status.idle": "2025-08-05T20:52:15.886484Z",
     "shell.execute_reply": "2025-08-05T20:52:15.885347Z"
    },
    "papermill": {
     "duration": 12.020726,
     "end_time": "2025-08-05T20:52:15.888080",
     "exception": false,
     "start_time": "2025-08-05T20:52:03.867354",
     "status": "completed"
    },
    "tags": []
   },
   "outputs": [
    {
     "name": "stdout",
     "output_type": "stream",
     "text": [
      "Loading SIAB data from cache: data/siab_cached.csv.gz\n"
     ]
    },
    {
     "name": "stdout",
     "output_type": "stream",
     "text": [
      "(643690, 164)\n"
     ]
    }
   ],
   "source": [
    "from pathlib import Path\n",
    "import pandas as pd\n",
    "\n",
    "# File paths\n",
    "raw_file = Path(\"data/raw/siab.csv\")\n",
    "cache_file = Path(\"data/siab_cached.csv.gz\")\n",
    "\n",
    "# Ensure cache directory exists\n",
    "cache_file.parent.mkdir(parents=True, exist_ok=True)\n",
    "\n",
    "# Load with simple caching\n",
    "if cache_file.exists():\n",
    "    print(f\"Loading SIAB data from cache: {cache_file}\")\n",
    "    siab = pd.read_csv(cache_file, compression='gzip')\n",
    "else:\n",
    "    print(f\"Cache not found. Reading raw SIAB data: {raw_file}\")\n",
    "    siab = pd.read_csv(raw_file)\n",
    "    siab.to_csv(cache_file, index=False, compression='gzip')\n",
    "    print(f\"Cached SIAB data to: {cache_file}\")\n",
    "\n",
    "print(siab.shape)"
   ]
  },
  {
   "cell_type": "code",
   "execution_count": 10,
   "id": "db0ca512-5f53-4dba-abdb-a2888bca41ba",
   "metadata": {
    "execution": {
     "iopub.execute_input": "2025-08-05T20:52:15.929561Z",
     "iopub.status.busy": "2025-08-05T20:52:15.928974Z",
     "iopub.status.idle": "2025-08-05T20:52:15.935259Z",
     "shell.execute_reply": "2025-08-05T20:52:15.934204Z"
    },
    "papermill": {
     "duration": 0.028528,
     "end_time": "2025-08-05T20:52:15.936992",
     "exception": false,
     "start_time": "2025-08-05T20:52:15.908464",
     "status": "completed"
    },
    "tags": []
   },
   "outputs": [],
   "source": [
    "#siab"
   ]
  },
  {
   "cell_type": "markdown",
   "id": "997051c5-15bd-4b69-9786-c3001a3ce484",
   "metadata": {
    "papermill": {
     "duration": 0.018492,
     "end_time": "2025-08-05T20:52:15.973410",
     "exception": false,
     "start_time": "2025-08-05T20:52:15.954918",
     "status": "completed"
    },
    "tags": []
   },
   "source": [
    "# Splitting Data and Setting Training Data Size"
   ]
  },
  {
   "cell_type": "code",
   "execution_count": 11,
   "id": "aea9c6ef-6f46-42c8-85eb-5a62025c1508",
   "metadata": {
    "execution": {
     "iopub.execute_input": "2025-08-05T20:52:16.009202Z",
     "iopub.status.busy": "2025-08-05T20:52:16.008482Z",
     "iopub.status.idle": "2025-08-05T20:52:16.627217Z",
     "shell.execute_reply": "2025-08-05T20:52:16.626455Z"
    },
    "papermill": {
     "duration": 0.638868,
     "end_time": "2025-08-05T20:52:16.629272",
     "exception": false,
     "start_time": "2025-08-05T20:52:15.990404",
     "status": "completed"
    },
    "tags": []
   },
   "outputs": [],
   "source": [
    "from fairness_multiverse.universe import sample_by_year_size\n",
    "\n",
    "siab_train = sample_by_year_size(siab,\n",
    "                               training_year=universe[\"training_year\"],\n",
    "                               training_size=universe[\"training_size\"])"
   ]
  },
  {
   "cell_type": "code",
   "execution_count": 12,
   "id": "8d3afb32-789d-442c-8d5d-9f5aa8dd2eed",
   "metadata": {
    "execution": {
     "iopub.execute_input": "2025-08-05T20:52:16.658752Z",
     "iopub.status.busy": "2025-08-05T20:52:16.658125Z",
     "iopub.status.idle": "2025-08-05T20:52:16.664482Z",
     "shell.execute_reply": "2025-08-05T20:52:16.663470Z"
    },
    "papermill": {
     "duration": 0.018166,
     "end_time": "2025-08-05T20:52:16.666520",
     "exception": false,
     "start_time": "2025-08-05T20:52:16.648354",
     "status": "completed"
    },
    "tags": []
   },
   "outputs": [],
   "source": [
    "#siab_train.shape"
   ]
  },
  {
   "cell_type": "code",
   "execution_count": 13,
   "id": "d582db68-1a4c-47fb-84fc-08518dc1975a",
   "metadata": {
    "execution": {
     "iopub.execute_input": "2025-08-05T20:52:16.711806Z",
     "iopub.status.busy": "2025-08-05T20:52:16.710831Z",
     "iopub.status.idle": "2025-08-05T20:52:16.716570Z",
     "shell.execute_reply": "2025-08-05T20:52:16.715583Z"
    },
    "papermill": {
     "duration": 0.030976,
     "end_time": "2025-08-05T20:52:16.718623",
     "exception": false,
     "start_time": "2025-08-05T20:52:16.687647",
     "status": "completed"
    },
    "tags": []
   },
   "outputs": [],
   "source": [
    "#display(siab_train.groupby(\"year\").size())"
   ]
  },
  {
   "cell_type": "code",
   "execution_count": 14,
   "id": "a561edb4-d032-42cb-8256-22eac1111c64",
   "metadata": {
    "execution": {
     "iopub.execute_input": "2025-08-05T20:52:16.763609Z",
     "iopub.status.busy": "2025-08-05T20:52:16.762662Z",
     "iopub.status.idle": "2025-08-05T20:52:16.981628Z",
     "shell.execute_reply": "2025-08-05T20:52:16.980848Z"
    },
    "papermill": {
     "duration": 0.243116,
     "end_time": "2025-08-05T20:52:16.983716",
     "exception": false,
     "start_time": "2025-08-05T20:52:16.740600",
     "status": "completed"
    },
    "tags": []
   },
   "outputs": [],
   "source": [
    "#siab_train = siab_s[siab_s.year < 2015]\n",
    "siab_calib = siab[siab.year == 2015]\n",
    "siab_test = siab[siab.year == 2016]"
   ]
  },
  {
   "cell_type": "code",
   "execution_count": 15,
   "id": "472de16f-c3db-4916-846b-1f0de9cf1746",
   "metadata": {
    "execution": {
     "iopub.execute_input": "2025-08-05T20:52:17.035102Z",
     "iopub.status.busy": "2025-08-05T20:52:17.034339Z",
     "iopub.status.idle": "2025-08-05T20:52:17.049418Z",
     "shell.execute_reply": "2025-08-05T20:52:17.048318Z"
    },
    "papermill": {
     "duration": 0.037993,
     "end_time": "2025-08-05T20:52:17.051750",
     "exception": false,
     "start_time": "2025-08-05T20:52:17.013757",
     "status": "completed"
    },
    "tags": []
   },
   "outputs": [],
   "source": [
    "X_train = siab_train.iloc[:,4:164]\n",
    "y_train = siab_train.iloc[:, [3]]"
   ]
  },
  {
   "cell_type": "code",
   "execution_count": 16,
   "id": "828c96af-f43a-4ed6-ba47-8ac73a47d56c",
   "metadata": {
    "execution": {
     "iopub.execute_input": "2025-08-05T20:52:17.091607Z",
     "iopub.status.busy": "2025-08-05T20:52:17.090677Z",
     "iopub.status.idle": "2025-08-05T20:52:17.141716Z",
     "shell.execute_reply": "2025-08-05T20:52:17.140798Z"
    },
    "papermill": {
     "duration": 0.072487,
     "end_time": "2025-08-05T20:52:17.143743",
     "exception": false,
     "start_time": "2025-08-05T20:52:17.071256",
     "status": "completed"
    },
    "tags": []
   },
   "outputs": [],
   "source": [
    "X_calib = siab_calib.iloc[:,4:164]\n",
    "y_calib = siab_calib.iloc[:, [3]]"
   ]
  },
  {
   "cell_type": "code",
   "execution_count": 17,
   "id": "c34be9c3-6bd6-476e-acd3-845840e303be",
   "metadata": {
    "execution": {
     "iopub.execute_input": "2025-08-05T20:52:17.182332Z",
     "iopub.status.busy": "2025-08-05T20:52:17.181354Z",
     "iopub.status.idle": "2025-08-05T20:52:17.234335Z",
     "shell.execute_reply": "2025-08-05T20:52:17.233127Z"
    },
    "papermill": {
     "duration": 0.07533,
     "end_time": "2025-08-05T20:52:17.238723",
     "exception": false,
     "start_time": "2025-08-05T20:52:17.163393",
     "status": "completed"
    },
    "tags": []
   },
   "outputs": [],
   "source": [
    "X_test = siab_test.iloc[:,4:164]\n",
    "y_true = siab_test.iloc[:, [3]]"
   ]
  },
  {
   "cell_type": "code",
   "execution_count": 18,
   "id": "e6c733c5",
   "metadata": {
    "execution": {
     "iopub.execute_input": "2025-08-05T20:52:17.278599Z",
     "iopub.status.busy": "2025-08-05T20:52:17.277774Z",
     "iopub.status.idle": "2025-08-05T20:52:17.378995Z",
     "shell.execute_reply": "2025-08-05T20:52:17.378096Z"
    },
    "papermill": {
     "duration": 0.121176,
     "end_time": "2025-08-05T20:52:17.380950",
     "exception": false,
     "start_time": "2025-08-05T20:52:17.259774",
     "status": "completed"
    },
    "tags": []
   },
   "outputs": [],
   "source": [
    "# Auxiliary data needed downstream in the pipeline\n",
    "\n",
    "org_train = X_train.copy()\n",
    "org_test = X_test.copy()\n",
    "org_calib = X_calib.copy()"
   ]
  },
  {
   "cell_type": "markdown",
   "id": "0a4a1b33",
   "metadata": {
    "papermill": {
     "duration": 0.02126,
     "end_time": "2025-08-05T20:52:17.424545",
     "exception": false,
     "start_time": "2025-08-05T20:52:17.403285",
     "status": "completed"
    },
    "tags": []
   },
   "source": [
    "# Preprocessing Data"
   ]
  },
  {
   "cell_type": "code",
   "execution_count": 19,
   "id": "ca879031",
   "metadata": {
    "execution": {
     "iopub.execute_input": "2025-08-05T20:52:17.469963Z",
     "iopub.status.busy": "2025-08-05T20:52:17.469428Z",
     "iopub.status.idle": "2025-08-05T20:52:17.476198Z",
     "shell.execute_reply": "2025-08-05T20:52:17.474847Z"
    },
    "papermill": {
     "duration": 0.031976,
     "end_time": "2025-08-05T20:52:17.478177",
     "exception": false,
     "start_time": "2025-08-05T20:52:17.446201",
     "status": "completed"
    },
    "tags": []
   },
   "outputs": [],
   "source": [
    "# EXCLUDE PROTECTED FEATURES\n",
    "# ----------------------\n",
    "# \"exclude_features\": \"none\", # \"nationality\", \"sex\", \"nationality-sex\"\n",
    "\n",
    "excluded_features = universe[\"exclude_features\"].split(\"-\") # split, e.g.: \"nationality-sex\" -> [\"nationality\", \"sex\"]\n",
    "excluded_features_dictionary = {\n",
    "    \"nationality\": [\"maxdeutsch1\", \"maxdeutsch.Missing.\"],\n",
    "    \"sex\": [\"frau1\"],\n",
    "    \"age\": [\"age\"],\n",
    "}"
   ]
  },
  {
   "cell_type": "code",
   "execution_count": 20,
   "id": "b745ac60",
   "metadata": {
    "execution": {
     "iopub.execute_input": "2025-08-05T20:52:17.523379Z",
     "iopub.status.busy": "2025-08-05T20:52:17.522690Z",
     "iopub.status.idle": "2025-08-05T20:52:17.528495Z",
     "shell.execute_reply": "2025-08-05T20:52:17.527462Z"
    },
    "papermill": {
     "duration": 0.031088,
     "end_time": "2025-08-05T20:52:17.531172",
     "exception": false,
     "start_time": "2025-08-05T20:52:17.500084",
     "status": "completed"
    },
    "tags": []
   },
   "outputs": [],
   "source": [
    "# Code nice names to column names\n",
    "\n",
    "excluded_features_columns = [\n",
    "    excluded_features_dictionary[f] for f in excluded_features if len(f) > 0 and f != \"none\"\n",
    "]"
   ]
  },
  {
   "cell_type": "code",
   "execution_count": 21,
   "id": "f84f73a2",
   "metadata": {
    "execution": {
     "iopub.execute_input": "2025-08-05T20:52:17.573924Z",
     "iopub.status.busy": "2025-08-05T20:52:17.573342Z",
     "iopub.status.idle": "2025-08-05T20:52:17.580210Z",
     "shell.execute_reply": "2025-08-05T20:52:17.579158Z"
    },
    "papermill": {
     "duration": 0.029447,
     "end_time": "2025-08-05T20:52:17.582401",
     "exception": false,
     "start_time": "2025-08-05T20:52:17.552954",
     "status": "completed"
    },
    "tags": []
   },
   "outputs": [],
   "source": [
    "from utils import flatten_once\n",
    "\n",
    "excluded_features_columns = flatten_once(excluded_features_columns)"
   ]
  },
  {
   "cell_type": "code",
   "execution_count": 22,
   "id": "884dea22",
   "metadata": {
    "execution": {
     "iopub.execute_input": "2025-08-05T20:52:17.628047Z",
     "iopub.status.busy": "2025-08-05T20:52:17.627108Z",
     "iopub.status.idle": "2025-08-05T20:52:17.643589Z",
     "shell.execute_reply": "2025-08-05T20:52:17.642397Z"
    },
    "papermill": {
     "duration": 0.041285,
     "end_time": "2025-08-05T20:52:17.645705",
     "exception": false,
     "start_time": "2025-08-05T20:52:17.604420",
     "status": "completed"
    },
    "tags": []
   },
   "outputs": [
    {
     "name": "stdout",
     "output_type": "stream",
     "text": [
      "Dropping features: ['frau1']\n"
     ]
    }
   ],
   "source": [
    "if len(excluded_features_columns) > 0:\n",
    "    print(f\"Dropping features: {excluded_features_columns}\")\n",
    "    X_train.drop(excluded_features_columns, axis=1, inplace=True)"
   ]
  },
  {
   "cell_type": "code",
   "execution_count": 23,
   "id": "95ab8b16",
   "metadata": {
    "execution": {
     "iopub.execute_input": "2025-08-05T20:52:17.692846Z",
     "iopub.status.busy": "2025-08-05T20:52:17.691917Z",
     "iopub.status.idle": "2025-08-05T20:52:17.751912Z",
     "shell.execute_reply": "2025-08-05T20:52:17.750809Z"
    },
    "papermill": {
     "duration": 0.085598,
     "end_time": "2025-08-05T20:52:17.753938",
     "exception": false,
     "start_time": "2025-08-05T20:52:17.668340",
     "status": "completed"
    },
    "tags": []
   },
   "outputs": [
    {
     "name": "stdout",
     "output_type": "stream",
     "text": [
      "Dropping features: ['frau1']\n"
     ]
    }
   ],
   "source": [
    "if len(excluded_features_columns) > 0:\n",
    "    print(f\"Dropping features: {excluded_features_columns}\")\n",
    "    X_test.drop(excluded_features_columns, axis=1, inplace=True)"
   ]
  },
  {
   "cell_type": "code",
   "execution_count": 24,
   "id": "1853aaf5-fb9f-46cb-a2b5-8ea4ae2237e4",
   "metadata": {
    "execution": {
     "iopub.execute_input": "2025-08-05T20:52:17.796041Z",
     "iopub.status.busy": "2025-08-05T20:52:17.795371Z",
     "iopub.status.idle": "2025-08-05T20:52:17.848436Z",
     "shell.execute_reply": "2025-08-05T20:52:17.847276Z"
    },
    "papermill": {
     "duration": 0.075336,
     "end_time": "2025-08-05T20:52:17.849986",
     "exception": false,
     "start_time": "2025-08-05T20:52:17.774650",
     "status": "completed"
    },
    "tags": []
   },
   "outputs": [
    {
     "name": "stdout",
     "output_type": "stream",
     "text": [
      "Dropping features: ['frau1']\n"
     ]
    }
   ],
   "source": [
    "if len(excluded_features_columns) > 0:\n",
    "    print(f\"Dropping features: {excluded_features_columns}\")\n",
    "    X_calib.drop(excluded_features_columns, axis=1, inplace=True)"
   ]
  },
  {
   "cell_type": "code",
   "execution_count": 25,
   "id": "76c4dc6d",
   "metadata": {
    "execution": {
     "iopub.execute_input": "2025-08-05T20:52:17.885740Z",
     "iopub.status.busy": "2025-08-05T20:52:17.885264Z",
     "iopub.status.idle": "2025-08-05T20:52:17.890348Z",
     "shell.execute_reply": "2025-08-05T20:52:17.889438Z"
    },
    "papermill": {
     "duration": 0.024664,
     "end_time": "2025-08-05T20:52:17.892270",
     "exception": false,
     "start_time": "2025-08-05T20:52:17.867606",
     "status": "completed"
    },
    "tags": []
   },
   "outputs": [],
   "source": [
    "# EXCLUDE CERTAIN SUBGROUPS\n",
    "# ----------------------\n",
    "\n",
    "mode = universe.get(\"exclude_subgroups\", \"keep-all\") \n",
    "# Fetches the exclude_subgroups setting from the universe dict.\n",
    "# Defaults to \"keep-all\" if the key is missing."
   ]
  },
  {
   "cell_type": "code",
   "execution_count": 26,
   "id": "21994072",
   "metadata": {
    "execution": {
     "iopub.execute_input": "2025-08-05T20:52:17.937088Z",
     "iopub.status.busy": "2025-08-05T20:52:17.936766Z",
     "iopub.status.idle": "2025-08-05T20:52:17.943605Z",
     "shell.execute_reply": "2025-08-05T20:52:17.942527Z"
    },
    "papermill": {
     "duration": 0.031388,
     "end_time": "2025-08-05T20:52:17.945458",
     "exception": false,
     "start_time": "2025-08-05T20:52:17.914070",
     "status": "completed"
    },
    "tags": []
   },
   "outputs": [],
   "source": [
    "if mode == \"keep-all\":\n",
    "    keep_mask = pd.Series(True, index=org_train.index)\n",
    "\n",
    "# org_train contains the original feature columns from features_org (in Simson)\n",
    "# features_org contains unprocessed features, for me X_train at beginning ???\n",
    "# For keep-all, creates a boolean Series (keep_mask) of all True, so no rows are removed.\n",
    "\n",
    "elif mode == \"drop-non-german\":\n",
    "    keep_mask = org_train[\"maxdeutsch1\"] == 1 # ??? what about missing values?\n",
    "\n",
    "else:\n",
    "    raise ValueError(f\"Unsupported mode for exclude_subgroups: {mode}\")"
   ]
  },
  {
   "cell_type": "code",
   "execution_count": 27,
   "id": "71651440",
   "metadata": {
    "execution": {
     "iopub.execute_input": "2025-08-05T20:52:17.987269Z",
     "iopub.status.busy": "2025-08-05T20:52:17.986763Z",
     "iopub.status.idle": "2025-08-05T20:52:17.993995Z",
     "shell.execute_reply": "2025-08-05T20:52:17.992844Z"
    },
    "papermill": {
     "duration": 0.027863,
     "end_time": "2025-08-05T20:52:17.995607",
     "exception": false,
     "start_time": "2025-08-05T20:52:17.967744",
     "status": "completed"
    },
    "tags": []
   },
   "outputs": [
    {
     "name": "stdout",
     "output_type": "stream",
     "text": [
      "Dropping 3481 rows (13.92%) where mode='drop-non-german'\n"
     ]
    }
   ],
   "source": [
    "n_drop = (~keep_mask).sum() # Calculates how many rows are set to be dropped\n",
    "if n_drop > 0:\n",
    "    pct = n_drop / len(keep_mask) * 100\n",
    "    print(f\"Dropping {n_drop} rows ({pct:.2f}%) where mode='{mode}'\")"
   ]
  },
  {
   "cell_type": "code",
   "execution_count": 28,
   "id": "5fb8eee5",
   "metadata": {
    "execution": {
     "iopub.execute_input": "2025-08-05T20:52:18.035832Z",
     "iopub.status.busy": "2025-08-05T20:52:18.035263Z",
     "iopub.status.idle": "2025-08-05T20:52:18.058794Z",
     "shell.execute_reply": "2025-08-05T20:52:18.057656Z"
    },
    "papermill": {
     "duration": 0.046171,
     "end_time": "2025-08-05T20:52:18.060839",
     "exception": false,
     "start_time": "2025-08-05T20:52:18.014668",
     "status": "completed"
    },
    "tags": []
   },
   "outputs": [],
   "source": [
    "X_train = X_train[keep_mask]"
   ]
  },
  {
   "cell_type": "code",
   "execution_count": 29,
   "id": "b202bb3a",
   "metadata": {
    "execution": {
     "iopub.execute_input": "2025-08-05T20:52:18.103930Z",
     "iopub.status.busy": "2025-08-05T20:52:18.103696Z",
     "iopub.status.idle": "2025-08-05T20:52:18.109049Z",
     "shell.execute_reply": "2025-08-05T20:52:18.108123Z"
    },
    "papermill": {
     "duration": 0.028483,
     "end_time": "2025-08-05T20:52:18.111181",
     "exception": false,
     "start_time": "2025-08-05T20:52:18.082698",
     "status": "completed"
    },
    "tags": []
   },
   "outputs": [],
   "source": [
    "y_train = y_train[keep_mask]"
   ]
  },
  {
   "cell_type": "markdown",
   "id": "493e2ac3",
   "metadata": {
    "papermill": {
     "duration": 0.010164,
     "end_time": "2025-08-05T20:52:18.132797",
     "exception": false,
     "start_time": "2025-08-05T20:52:18.122633",
     "status": "completed"
    },
    "tags": []
   },
   "source": [
    "# Model Training"
   ]
  },
  {
   "cell_type": "code",
   "execution_count": 30,
   "id": "679e1268",
   "metadata": {
    "execution": {
     "iopub.execute_input": "2025-08-05T20:52:18.152904Z",
     "iopub.status.busy": "2025-08-05T20:52:18.152676Z",
     "iopub.status.idle": "2025-08-05T20:52:18.258463Z",
     "shell.execute_reply": "2025-08-05T20:52:18.257306Z"
    },
    "papermill": {
     "duration": 0.117796,
     "end_time": "2025-08-05T20:52:18.260117",
     "exception": false,
     "start_time": "2025-08-05T20:52:18.142321",
     "status": "completed"
    },
    "tags": []
   },
   "outputs": [],
   "source": [
    "from sklearn.linear_model import LogisticRegression\n",
    "from sklearn.ensemble import GradientBoostingClassifier, RandomForestClassifier\n",
    "\n",
    "if (universe[\"model\"] == \"logreg\"):\n",
    "    model = LogisticRegression() #penalty=\"none\", solver=\"newton-cg\", max_iter=1) # include random_state=19 ?\n",
    "elif (universe[\"model\"] == \"penalized_logreg\"):\n",
    "    model = LogisticRegression(penalty=\"l2\", C=0.1) #, solver=\"newton-cg\", max_iter=1)\n",
    "elif (universe[\"model\"] == \"rf\"):\n",
    "    model = RandomForestClassifier() # n_estimators=100, n_jobs=-1\n",
    "elif (universe[\"model\"] == \"gbm\"):\n",
    "    model = GradientBoostingClassifier()\n",
    "elif (universe[\"model\"] == \"elasticnet\"):\n",
    "    model = LogisticRegression(penalty = 'elasticnet', solver = 'saga', l1_ratio = 0.5) # max_iter=5000\n",
    "else:\n",
    "    raise \"Unsupported universe.model\""
   ]
  },
  {
   "cell_type": "code",
   "execution_count": 31,
   "id": "0cc8f744",
   "metadata": {
    "execution": {
     "iopub.execute_input": "2025-08-05T20:52:18.299848Z",
     "iopub.status.busy": "2025-08-05T20:52:18.299322Z",
     "iopub.status.idle": "2025-08-05T20:52:18.306042Z",
     "shell.execute_reply": "2025-08-05T20:52:18.305062Z"
    },
    "papermill": {
     "duration": 0.029245,
     "end_time": "2025-08-05T20:52:18.307930",
     "exception": false,
     "start_time": "2025-08-05T20:52:18.278685",
     "status": "completed"
    },
    "tags": []
   },
   "outputs": [],
   "source": [
    "import numpy as np\n",
    "from sklearn.pipeline import Pipeline\n",
    "from sklearn.preprocessing import StandardScaler\n",
    "\n",
    "model = Pipeline([\n",
    "    #(\"continuous_processor\", continuous_processor),\n",
    "    #(\"categorical_preprocessor\", categorical_preprocessor),\n",
    "    (\"scale\", StandardScaler() if universe[\"scale\"] == \"scale\" else None), \n",
    "    (\"model\", model),\n",
    "])"
   ]
  },
  {
   "cell_type": "code",
   "execution_count": 32,
   "id": "9442c04d",
   "metadata": {
    "execution": {
     "iopub.execute_input": "2025-08-05T20:52:18.330918Z",
     "iopub.status.busy": "2025-08-05T20:52:18.330477Z",
     "iopub.status.idle": "2025-08-05T20:52:24.490224Z",
     "shell.execute_reply": "2025-08-05T20:52:24.489533Z"
    },
    "papermill": {
     "duration": 6.172583,
     "end_time": "2025-08-05T20:52:24.491497",
     "exception": false,
     "start_time": "2025-08-05T20:52:18.318914",
     "status": "completed"
    },
    "tags": []
   },
   "outputs": [
    {
     "data": {
      "text/html": [
       "<style>#sk-container-id-1 {color: black;background-color: white;}#sk-container-id-1 pre{padding: 0;}#sk-container-id-1 div.sk-toggleable {background-color: white;}#sk-container-id-1 label.sk-toggleable__label {cursor: pointer;display: block;width: 100%;margin-bottom: 0;padding: 0.3em;box-sizing: border-box;text-align: center;}#sk-container-id-1 label.sk-toggleable__label-arrow:before {content: \"▸\";float: left;margin-right: 0.25em;color: #696969;}#sk-container-id-1 label.sk-toggleable__label-arrow:hover:before {color: black;}#sk-container-id-1 div.sk-estimator:hover label.sk-toggleable__label-arrow:before {color: black;}#sk-container-id-1 div.sk-toggleable__content {max-height: 0;max-width: 0;overflow: hidden;text-align: left;background-color: #f0f8ff;}#sk-container-id-1 div.sk-toggleable__content pre {margin: 0.2em;color: black;border-radius: 0.25em;background-color: #f0f8ff;}#sk-container-id-1 input.sk-toggleable__control:checked~div.sk-toggleable__content {max-height: 200px;max-width: 100%;overflow: auto;}#sk-container-id-1 input.sk-toggleable__control:checked~label.sk-toggleable__label-arrow:before {content: \"▾\";}#sk-container-id-1 div.sk-estimator input.sk-toggleable__control:checked~label.sk-toggleable__label {background-color: #d4ebff;}#sk-container-id-1 div.sk-label input.sk-toggleable__control:checked~label.sk-toggleable__label {background-color: #d4ebff;}#sk-container-id-1 input.sk-hidden--visually {border: 0;clip: rect(1px 1px 1px 1px);clip: rect(1px, 1px, 1px, 1px);height: 1px;margin: -1px;overflow: hidden;padding: 0;position: absolute;width: 1px;}#sk-container-id-1 div.sk-estimator {font-family: monospace;background-color: #f0f8ff;border: 1px dotted black;border-radius: 0.25em;box-sizing: border-box;margin-bottom: 0.5em;}#sk-container-id-1 div.sk-estimator:hover {background-color: #d4ebff;}#sk-container-id-1 div.sk-parallel-item::after {content: \"\";width: 100%;border-bottom: 1px solid gray;flex-grow: 1;}#sk-container-id-1 div.sk-label:hover label.sk-toggleable__label {background-color: #d4ebff;}#sk-container-id-1 div.sk-serial::before {content: \"\";position: absolute;border-left: 1px solid gray;box-sizing: border-box;top: 0;bottom: 0;left: 50%;z-index: 0;}#sk-container-id-1 div.sk-serial {display: flex;flex-direction: column;align-items: center;background-color: white;padding-right: 0.2em;padding-left: 0.2em;position: relative;}#sk-container-id-1 div.sk-item {position: relative;z-index: 1;}#sk-container-id-1 div.sk-parallel {display: flex;align-items: stretch;justify-content: center;background-color: white;position: relative;}#sk-container-id-1 div.sk-item::before, #sk-container-id-1 div.sk-parallel-item::before {content: \"\";position: absolute;border-left: 1px solid gray;box-sizing: border-box;top: 0;bottom: 0;left: 50%;z-index: -1;}#sk-container-id-1 div.sk-parallel-item {display: flex;flex-direction: column;z-index: 1;position: relative;background-color: white;}#sk-container-id-1 div.sk-parallel-item:first-child::after {align-self: flex-end;width: 50%;}#sk-container-id-1 div.sk-parallel-item:last-child::after {align-self: flex-start;width: 50%;}#sk-container-id-1 div.sk-parallel-item:only-child::after {width: 0;}#sk-container-id-1 div.sk-dashed-wrapped {border: 1px dashed gray;margin: 0 0.4em 0.5em 0.4em;box-sizing: border-box;padding-bottom: 0.4em;background-color: white;}#sk-container-id-1 div.sk-label label {font-family: monospace;font-weight: bold;display: inline-block;line-height: 1.2em;}#sk-container-id-1 div.sk-label-container {text-align: center;}#sk-container-id-1 div.sk-container {/* jupyter's `normalize.less` sets `[hidden] { display: none; }` but bootstrap.min.css set `[hidden] { display: none !important; }` so we also need the `!important` here to be able to override the default hidden behavior on the sphinx rendered scikit-learn.org. See: https://github.com/scikit-learn/scikit-learn/issues/21755 */display: inline-block !important;position: relative;}#sk-container-id-1 div.sk-text-repr-fallback {display: none;}</style><div id=\"sk-container-id-1\" class=\"sk-top-container\"><div class=\"sk-text-repr-fallback\"><pre>Pipeline(steps=[(&#x27;scale&#x27;, StandardScaler()),\n",
       "                (&#x27;model&#x27;, RandomForestClassifier())])</pre><b>In a Jupyter environment, please rerun this cell to show the HTML representation or trust the notebook. <br />On GitHub, the HTML representation is unable to render, please try loading this page with nbviewer.org.</b></div><div class=\"sk-container\" hidden><div class=\"sk-item sk-dashed-wrapped\"><div class=\"sk-label-container\"><div class=\"sk-label sk-toggleable\"><input class=\"sk-toggleable__control sk-hidden--visually\" id=\"sk-estimator-id-1\" type=\"checkbox\" ><label for=\"sk-estimator-id-1\" class=\"sk-toggleable__label sk-toggleable__label-arrow\">Pipeline</label><div class=\"sk-toggleable__content\"><pre>Pipeline(steps=[(&#x27;scale&#x27;, StandardScaler()),\n",
       "                (&#x27;model&#x27;, RandomForestClassifier())])</pre></div></div></div><div class=\"sk-serial\"><div class=\"sk-item\"><div class=\"sk-estimator sk-toggleable\"><input class=\"sk-toggleable__control sk-hidden--visually\" id=\"sk-estimator-id-2\" type=\"checkbox\" ><label for=\"sk-estimator-id-2\" class=\"sk-toggleable__label sk-toggleable__label-arrow\">StandardScaler</label><div class=\"sk-toggleable__content\"><pre>StandardScaler()</pre></div></div></div><div class=\"sk-item\"><div class=\"sk-estimator sk-toggleable\"><input class=\"sk-toggleable__control sk-hidden--visually\" id=\"sk-estimator-id-3\" type=\"checkbox\" ><label for=\"sk-estimator-id-3\" class=\"sk-toggleable__label sk-toggleable__label-arrow\">RandomForestClassifier</label><div class=\"sk-toggleable__content\"><pre>RandomForestClassifier()</pre></div></div></div></div></div></div></div>"
      ],
      "text/plain": [
       "Pipeline(steps=[('scale', StandardScaler()),\n",
       "                ('model', RandomForestClassifier())])"
      ]
     },
     "execution_count": 32,
     "metadata": {},
     "output_type": "execute_result"
    }
   ],
   "source": [
    "model.fit(X_train, y_train.values.ravel())"
   ]
  },
  {
   "cell_type": "code",
   "execution_count": 33,
   "id": "af59f8c0",
   "metadata": {
    "execution": {
     "iopub.execute_input": "2025-08-05T20:52:24.515184Z",
     "iopub.status.busy": "2025-08-05T20:52:24.514888Z",
     "iopub.status.idle": "2025-08-05T20:52:24.518929Z",
     "shell.execute_reply": "2025-08-05T20:52:24.518029Z"
    },
    "papermill": {
     "duration": 0.015736,
     "end_time": "2025-08-05T20:52:24.520203",
     "exception": false,
     "start_time": "2025-08-05T20:52:24.504467",
     "status": "completed"
    },
    "tags": []
   },
   "outputs": [],
   "source": [
    "from fairness_multiverse.universe import predict_w_threshold"
   ]
  },
  {
   "cell_type": "code",
   "execution_count": 34,
   "id": "a7cf2e16",
   "metadata": {
    "execution": {
     "iopub.execute_input": "2025-08-05T20:52:24.542174Z",
     "iopub.status.busy": "2025-08-05T20:52:24.541701Z",
     "iopub.status.idle": "2025-08-05T20:52:26.807354Z",
     "shell.execute_reply": "2025-08-05T20:52:26.806508Z"
    },
    "papermill": {
     "duration": 2.277714,
     "end_time": "2025-08-05T20:52:26.808669",
     "exception": false,
     "start_time": "2025-08-05T20:52:24.530955",
     "status": "completed"
    },
    "tags": []
   },
   "outputs": [
    {
     "data": {
      "text/plain": [
       "0.866335971463605"
      ]
     },
     "execution_count": 34,
     "metadata": {},
     "output_type": "execute_result"
    }
   ],
   "source": [
    "probs_test = model.predict_proba(X_test)\n",
    "\n",
    "'''\n",
    "Below code returns a boolean array (or binary 0/1 array depending on how it’s used) where each element \n",
    "is True if the probability of class 1 is greater than or equal to the threshold, and False otherwise.\n",
    "'''\n",
    "y_pred_default = predict_w_threshold(probs_test, 0.5)\n",
    "\n",
    "from sklearn.metrics import accuracy_score\n",
    "\n",
    "# Naive prediction\n",
    "accuracy_score(y_true = y_true, y_pred = y_pred_default)"
   ]
  },
  {
   "cell_type": "code",
   "execution_count": 35,
   "id": "081964c3",
   "metadata": {
    "execution": {
     "iopub.execute_input": "2025-08-05T20:52:26.832627Z",
     "iopub.status.busy": "2025-08-05T20:52:26.832317Z",
     "iopub.status.idle": "2025-08-05T20:52:29.358245Z",
     "shell.execute_reply": "2025-08-05T20:52:29.357177Z"
    },
    "papermill": {
     "duration": 2.538333,
     "end_time": "2025-08-05T20:52:29.360015",
     "exception": false,
     "start_time": "2025-08-05T20:52:26.821682",
     "status": "completed"
    },
    "tags": []
   },
   "outputs": [
    {
     "data": {
      "text/plain": [
       "array([0, 0, 0, ..., 0, 0, 0])"
      ]
     },
     "execution_count": 35,
     "metadata": {},
     "output_type": "execute_result"
    }
   ],
   "source": [
    "model.predict(X_test)"
   ]
  },
  {
   "cell_type": "markdown",
   "id": "56c9705b",
   "metadata": {
    "papermill": {
     "duration": 0.021026,
     "end_time": "2025-08-05T20:52:29.406975",
     "exception": false,
     "start_time": "2025-08-05T20:52:29.385949",
     "status": "completed"
    },
    "tags": []
   },
   "source": [
    "# Conformal Prediction"
   ]
  },
  {
   "cell_type": "code",
   "execution_count": 36,
   "id": "160ec6ff",
   "metadata": {
    "execution": {
     "iopub.execute_input": "2025-08-05T20:52:29.453388Z",
     "iopub.status.busy": "2025-08-05T20:52:29.452889Z",
     "iopub.status.idle": "2025-08-05T20:52:29.458301Z",
     "shell.execute_reply": "2025-08-05T20:52:29.457145Z"
    },
    "papermill": {
     "duration": 0.030544,
     "end_time": "2025-08-05T20:52:29.460174",
     "exception": false,
     "start_time": "2025-08-05T20:52:29.429630",
     "status": "completed"
    },
    "tags": []
   },
   "outputs": [],
   "source": [
    "# Miscoverage level for conformal prediction (10% allowed error rate => 90% target coverage)\n",
    "alpha = 0.1"
   ]
  },
  {
   "cell_type": "code",
   "execution_count": 37,
   "id": "eadf4555-3dd3-440e-8e35-f82a4ad9f855",
   "metadata": {
    "execution": {
     "iopub.execute_input": "2025-08-05T20:52:29.507057Z",
     "iopub.status.busy": "2025-08-05T20:52:29.506579Z",
     "iopub.status.idle": "2025-08-05T20:52:32.133546Z",
     "shell.execute_reply": "2025-08-05T20:52:32.132369Z"
    },
    "papermill": {
     "duration": 2.65338,
     "end_time": "2025-08-05T20:52:32.136159",
     "exception": false,
     "start_time": "2025-08-05T20:52:29.482779",
     "status": "completed"
    },
    "tags": []
   },
   "outputs": [],
   "source": [
    "probs_calib = model.predict_proba(X_calib)"
   ]
  },
  {
   "cell_type": "code",
   "execution_count": 38,
   "id": "2ed93547-6d5d-4983-9b36-1ecb300da49a",
   "metadata": {
    "execution": {
     "iopub.execute_input": "2025-08-05T20:52:32.190513Z",
     "iopub.status.busy": "2025-08-05T20:52:32.189293Z",
     "iopub.status.idle": "2025-08-05T20:52:32.197034Z",
     "shell.execute_reply": "2025-08-05T20:52:32.195858Z"
    },
    "papermill": {
     "duration": 0.032032,
     "end_time": "2025-08-05T20:52:32.198962",
     "exception": false,
     "start_time": "2025-08-05T20:52:32.166930",
     "status": "completed"
    },
    "tags": []
   },
   "outputs": [],
   "source": [
    "y_calib = y_calib.values.ravel().astype(int)"
   ]
  },
  {
   "cell_type": "code",
   "execution_count": 39,
   "id": "65d1320d-f588-4b38-9072-62af1ae97f7d",
   "metadata": {
    "execution": {
     "iopub.execute_input": "2025-08-05T20:52:32.242879Z",
     "iopub.status.busy": "2025-08-05T20:52:32.241988Z",
     "iopub.status.idle": "2025-08-05T20:52:32.249651Z",
     "shell.execute_reply": "2025-08-05T20:52:32.248843Z"
    },
    "papermill": {
     "duration": 0.030895,
     "end_time": "2025-08-05T20:52:32.251068",
     "exception": false,
     "start_time": "2025-08-05T20:52:32.220173",
     "status": "completed"
    },
    "tags": []
   },
   "outputs": [],
   "source": [
    "from fairness_multiverse.conformal import compute_nc_scores\n",
    "\n",
    "# Compute nonconformity scores on calibration set (1 - probability of true class)\n",
    "nc_scores = compute_nc_scores(probs_calib, y_calib)"
   ]
  },
  {
   "cell_type": "code",
   "execution_count": 40,
   "id": "df3b8ca3-53b7-43d5-9667-7c85da7aeda2",
   "metadata": {
    "execution": {
     "iopub.execute_input": "2025-08-05T20:52:32.325327Z",
     "iopub.status.busy": "2025-08-05T20:52:32.324555Z",
     "iopub.status.idle": "2025-08-05T20:52:32.331733Z",
     "shell.execute_reply": "2025-08-05T20:52:32.330571Z"
    },
    "papermill": {
     "duration": 0.07126,
     "end_time": "2025-08-05T20:52:32.333851",
     "exception": false,
     "start_time": "2025-08-05T20:52:32.262591",
     "status": "completed"
    },
    "tags": []
   },
   "outputs": [],
   "source": [
    "from fairness_multiverse.conformal import find_threshold\n",
    "\n",
    "# Find conformal threshold q_hat for the given alpha (split conformal method)\n",
    "q_hat = find_threshold(nc_scores, alpha)"
   ]
  },
  {
   "cell_type": "code",
   "execution_count": 41,
   "id": "4d29e6c1-0ef6-4aa4-b8fe-4fe79b0d033a",
   "metadata": {
    "execution": {
     "iopub.execute_input": "2025-08-05T20:52:32.379564Z",
     "iopub.status.busy": "2025-08-05T20:52:32.378541Z",
     "iopub.status.idle": "2025-08-05T20:52:32.386805Z",
     "shell.execute_reply": "2025-08-05T20:52:32.385768Z"
    },
    "papermill": {
     "duration": 0.032838,
     "end_time": "2025-08-05T20:52:32.388640",
     "exception": false,
     "start_time": "2025-08-05T20:52:32.355802",
     "status": "completed"
    },
    "tags": []
   },
   "outputs": [
    {
     "data": {
      "text/plain": [
       "0.6599999999999999"
      ]
     },
     "execution_count": 41,
     "metadata": {},
     "output_type": "execute_result"
    }
   ],
   "source": [
    "q_hat"
   ]
  },
  {
   "cell_type": "code",
   "execution_count": 42,
   "id": "92460794-cdac-4be2-ba28-f28c0515a6fb",
   "metadata": {
    "execution": {
     "iopub.execute_input": "2025-08-05T20:52:32.425924Z",
     "iopub.status.busy": "2025-08-05T20:52:32.425542Z",
     "iopub.status.idle": "2025-08-05T20:52:36.354335Z",
     "shell.execute_reply": "2025-08-05T20:52:36.353592Z"
    },
    "papermill": {
     "duration": 3.947193,
     "end_time": "2025-08-05T20:52:36.356323",
     "exception": false,
     "start_time": "2025-08-05T20:52:32.409130",
     "status": "completed"
    },
    "tags": []
   },
   "outputs": [],
   "source": [
    "from fairness_multiverse.conformal import predict_conformal_sets\n",
    "\n",
    "# Generate prediction sets for each test example\n",
    "pred_sets = predict_conformal_sets(model, X_test, q_hat)"
   ]
  },
  {
   "cell_type": "code",
   "execution_count": 43,
   "id": "d90c9a65-e6db-4f5d-80cd-e68fb7e46829",
   "metadata": {
    "execution": {
     "iopub.execute_input": "2025-08-05T20:52:36.406818Z",
     "iopub.status.busy": "2025-08-05T20:52:36.406485Z",
     "iopub.status.idle": "2025-08-05T20:52:36.410768Z",
     "shell.execute_reply": "2025-08-05T20:52:36.410070Z"
    },
    "papermill": {
     "duration": 0.02939,
     "end_time": "2025-08-05T20:52:36.412457",
     "exception": false,
     "start_time": "2025-08-05T20:52:36.383067",
     "status": "completed"
    },
    "tags": []
   },
   "outputs": [],
   "source": [
    "y_true = y_true.squeeze()"
   ]
  },
  {
   "cell_type": "code",
   "execution_count": 44,
   "id": "3a58a54a-1e68-46b9-927a-df01f18aebc8",
   "metadata": {
    "execution": {
     "iopub.execute_input": "2025-08-05T20:52:36.459576Z",
     "iopub.status.busy": "2025-08-05T20:52:36.459150Z",
     "iopub.status.idle": "2025-08-05T20:52:37.190607Z",
     "shell.execute_reply": "2025-08-05T20:52:37.189476Z"
    },
    "papermill": {
     "duration": 0.756177,
     "end_time": "2025-08-05T20:52:37.192259",
     "exception": false,
     "start_time": "2025-08-05T20:52:36.436082",
     "status": "completed"
    },
    "tags": []
   },
   "outputs": [],
   "source": [
    "from fairness_multiverse.conformal import evaluate_sets\n",
    "\n",
    "# Evaluate coverage and average set size on test data\n",
    "metrics = evaluate_sets(pred_sets, y_true)"
   ]
  },
  {
   "cell_type": "markdown",
   "id": "2b569c12-9aaa-4c88-98c9-bbcd0cf3ebb8",
   "metadata": {
    "papermill": {
     "duration": 0.019662,
     "end_time": "2025-08-05T20:52:37.232171",
     "exception": false,
     "start_time": "2025-08-05T20:52:37.212509",
     "status": "completed"
    },
    "tags": []
   },
   "source": [
    "# CP Metrics"
   ]
  },
  {
   "cell_type": "code",
   "execution_count": 45,
   "id": "5ce0a5cb-201f-45a0-ade5-94c7f0bd6095",
   "metadata": {
    "execution": {
     "iopub.execute_input": "2025-08-05T20:52:37.276309Z",
     "iopub.status.busy": "2025-08-05T20:52:37.275941Z",
     "iopub.status.idle": "2025-08-05T20:52:37.282405Z",
     "shell.execute_reply": "2025-08-05T20:52:37.281573Z"
    },
    "papermill": {
     "duration": 0.030013,
     "end_time": "2025-08-05T20:52:37.283761",
     "exception": false,
     "start_time": "2025-08-05T20:52:37.253748",
     "status": "completed"
    },
    "tags": []
   },
   "outputs": [
    {
     "data": {
      "text/plain": [
       "{'coverage': 0.9165756325939137, 'avg_size': 1.1475866681529372}"
      ]
     },
     "execution_count": 45,
     "metadata": {},
     "output_type": "execute_result"
    }
   ],
   "source": [
    "metrics"
   ]
  },
  {
   "cell_type": "code",
   "execution_count": 46,
   "id": "9b9a838d-31c9-430b-ae14-12baee460d17",
   "metadata": {
    "execution": {
     "iopub.execute_input": "2025-08-05T20:52:37.307683Z",
     "iopub.status.busy": "2025-08-05T20:52:37.307198Z",
     "iopub.status.idle": "2025-08-05T20:52:37.313813Z",
     "shell.execute_reply": "2025-08-05T20:52:37.312680Z"
    },
    "papermill": {
     "duration": 0.02023,
     "end_time": "2025-08-05T20:52:37.315579",
     "exception": false,
     "start_time": "2025-08-05T20:52:37.295349",
     "status": "completed"
    },
    "tags": []
   },
   "outputs": [],
   "source": [
    "example_universe = universe.copy()\n",
    "universe_training_year = example_universe.get(\"training_year\")\n",
    "universe_training_size = example_universe.get(\"training_size\")\n",
    "universe_scale = example_universe.get(\"scale\")\n",
    "universe_model = example_universe.get(\"model\")\n",
    "universe_exclude_features = example_universe.get(\"exclude_features\")\n",
    "universe_exclude_subgroups = example_universe.get(\"exclude_subgroups\")"
   ]
  },
  {
   "cell_type": "code",
   "execution_count": 47,
   "id": "f4b6a8ac-9dc0-4245-8a91-5b3b5999c4f9",
   "metadata": {
    "execution": {
     "iopub.execute_input": "2025-08-05T20:52:37.360542Z",
     "iopub.status.busy": "2025-08-05T20:52:37.359814Z",
     "iopub.status.idle": "2025-08-05T20:52:37.366582Z",
     "shell.execute_reply": "2025-08-05T20:52:37.365801Z"
    },
    "papermill": {
     "duration": 0.030331,
     "end_time": "2025-08-05T20:52:37.368094",
     "exception": false,
     "start_time": "2025-08-05T20:52:37.337763",
     "status": "completed"
    },
    "tags": []
   },
   "outputs": [],
   "source": [
    "cp_metrics_dict = {\n",
    "    \"universe_id\": [universe_id],\n",
    "    \"universe_training_year\": [universe_training_year],\n",
    "    \"universe_training_size\": [universe_training_size],\n",
    "    \"universe_scale\": [universe_scale],\n",
    "    \"universe_model\": [universe_model],\n",
    "    \"universe_exclude_features\": [universe_exclude_features],\n",
    "    \"universe_exclude_subgroups\": [universe_exclude_subgroups],\n",
    "    \"q_hat\": [q_hat],\n",
    "    \"coverage\": [metrics[\"coverage\"]],\n",
    "    \"avg_size\": [metrics[\"avg_size\"]],\n",
    "}"
   ]
  },
  {
   "cell_type": "code",
   "execution_count": 48,
   "id": "908acbb1-0371-4915-85ca-3fa520d2efe2",
   "metadata": {
    "execution": {
     "iopub.execute_input": "2025-08-05T20:52:37.392500Z",
     "iopub.status.busy": "2025-08-05T20:52:37.391970Z",
     "iopub.status.idle": "2025-08-05T20:52:37.399314Z",
     "shell.execute_reply": "2025-08-05T20:52:37.398569Z"
    },
    "papermill": {
     "duration": 0.020663,
     "end_time": "2025-08-05T20:52:37.400648",
     "exception": false,
     "start_time": "2025-08-05T20:52:37.379985",
     "status": "completed"
    },
    "tags": []
   },
   "outputs": [
    {
     "data": {
      "text/plain": [
       "{'universe_id': ['7eca88123f0c20c733e96ab0327e2b65'],\n",
       " 'universe_training_year': ['2012_14'],\n",
       " 'universe_training_size': ['25k'],\n",
       " 'universe_scale': ['scale'],\n",
       " 'universe_model': ['rf'],\n",
       " 'universe_exclude_features': ['sex'],\n",
       " 'universe_exclude_subgroups': ['drop-non-german'],\n",
       " 'q_hat': [0.6599999999999999],\n",
       " 'coverage': [0.9165756325939137],\n",
       " 'avg_size': [1.1475866681529372]}"
      ]
     },
     "execution_count": 48,
     "metadata": {},
     "output_type": "execute_result"
    }
   ],
   "source": [
    "cp_metrics_dict"
   ]
  },
  {
   "cell_type": "code",
   "execution_count": 49,
   "id": "33007efc-14e9-4ec6-97ac-56a455c82265",
   "metadata": {
    "execution": {
     "iopub.execute_input": "2025-08-05T20:52:37.424492Z",
     "iopub.status.busy": "2025-08-05T20:52:37.423963Z",
     "iopub.status.idle": "2025-08-05T20:52:37.429168Z",
     "shell.execute_reply": "2025-08-05T20:52:37.428364Z"
    },
    "papermill": {
     "duration": 0.018111,
     "end_time": "2025-08-05T20:52:37.430494",
     "exception": false,
     "start_time": "2025-08-05T20:52:37.412383",
     "status": "completed"
    },
    "tags": []
   },
   "outputs": [],
   "source": [
    "cp_metrics_df = pd.DataFrame(cp_metrics_dict)"
   ]
  },
  {
   "cell_type": "code",
   "execution_count": 50,
   "id": "db12611b-57b2-4910-b9d0-355adfd6e7bf",
   "metadata": {
    "execution": {
     "iopub.execute_input": "2025-08-05T20:52:37.454628Z",
     "iopub.status.busy": "2025-08-05T20:52:37.454011Z",
     "iopub.status.idle": "2025-08-05T20:52:37.468605Z",
     "shell.execute_reply": "2025-08-05T20:52:37.467871Z"
    },
    "papermill": {
     "duration": 0.027532,
     "end_time": "2025-08-05T20:52:37.469956",
     "exception": false,
     "start_time": "2025-08-05T20:52:37.442424",
     "status": "completed"
    },
    "tags": []
   },
   "outputs": [
    {
     "data": {
      "text/html": [
       "<div>\n",
       "<style scoped>\n",
       "    .dataframe tbody tr th:only-of-type {\n",
       "        vertical-align: middle;\n",
       "    }\n",
       "\n",
       "    .dataframe tbody tr th {\n",
       "        vertical-align: top;\n",
       "    }\n",
       "\n",
       "    .dataframe thead th {\n",
       "        text-align: right;\n",
       "    }\n",
       "</style>\n",
       "<table border=\"1\" class=\"dataframe\">\n",
       "  <thead>\n",
       "    <tr style=\"text-align: right;\">\n",
       "      <th></th>\n",
       "      <th>universe_id</th>\n",
       "      <th>universe_training_year</th>\n",
       "      <th>universe_training_size</th>\n",
       "      <th>universe_scale</th>\n",
       "      <th>universe_model</th>\n",
       "      <th>universe_exclude_features</th>\n",
       "      <th>universe_exclude_subgroups</th>\n",
       "      <th>q_hat</th>\n",
       "      <th>coverage</th>\n",
       "      <th>avg_size</th>\n",
       "    </tr>\n",
       "  </thead>\n",
       "  <tbody>\n",
       "    <tr>\n",
       "      <th>0</th>\n",
       "      <td>7eca88123f0c20c733e96ab0327e2b65</td>\n",
       "      <td>2012_14</td>\n",
       "      <td>25k</td>\n",
       "      <td>scale</td>\n",
       "      <td>rf</td>\n",
       "      <td>sex</td>\n",
       "      <td>drop-non-german</td>\n",
       "      <td>0.66</td>\n",
       "      <td>0.916576</td>\n",
       "      <td>1.147587</td>\n",
       "    </tr>\n",
       "  </tbody>\n",
       "</table>\n",
       "</div>"
      ],
      "text/plain": [
       "                        universe_id universe_training_year  \\\n",
       "0  7eca88123f0c20c733e96ab0327e2b65                2012_14   \n",
       "\n",
       "  universe_training_size universe_scale universe_model  \\\n",
       "0                    25k          scale             rf   \n",
       "\n",
       "  universe_exclude_features universe_exclude_subgroups  q_hat  coverage  \\\n",
       "0                       sex            drop-non-german   0.66  0.916576   \n",
       "\n",
       "   avg_size  \n",
       "0  1.147587  "
      ]
     },
     "execution_count": 50,
     "metadata": {},
     "output_type": "execute_result"
    }
   ],
   "source": [
    "cp_metrics_df"
   ]
  },
  {
   "cell_type": "code",
   "execution_count": 51,
   "id": "b7fbde55-a0a1-47e4-9af6-fe4a17fa8c61",
   "metadata": {
    "execution": {
     "iopub.execute_input": "2025-08-05T20:52:37.494505Z",
     "iopub.status.busy": "2025-08-05T20:52:37.493767Z",
     "iopub.status.idle": "2025-08-05T20:52:37.498315Z",
     "shell.execute_reply": "2025-08-05T20:52:37.497487Z"
    },
    "papermill": {
     "duration": 0.017873,
     "end_time": "2025-08-05T20:52:37.499660",
     "exception": false,
     "start_time": "2025-08-05T20:52:37.481787",
     "status": "completed"
    },
    "tags": []
   },
   "outputs": [],
   "source": [
    "# Conditional Coverage & looking at subgroups"
   ]
  },
  {
   "cell_type": "code",
   "execution_count": 52,
   "id": "027ae886-68dd-4141-96c7-805a5450e1ef",
   "metadata": {
    "execution": {
     "iopub.execute_input": "2025-08-05T20:52:37.523704Z",
     "iopub.status.busy": "2025-08-05T20:52:37.523400Z",
     "iopub.status.idle": "2025-08-05T20:52:37.711021Z",
     "shell.execute_reply": "2025-08-05T20:52:37.710266Z"
    },
    "papermill": {
     "duration": 0.200916,
     "end_time": "2025-08-05T20:52:37.712518",
     "exception": false,
     "start_time": "2025-08-05T20:52:37.511602",
     "status": "completed"
    },
    "tags": []
   },
   "outputs": [],
   "source": [
    "from fairness_multiverse.conformal import build_cp_groups\n",
    "\n",
    "cp_groups_df = build_cp_groups(pred_sets, y_true, X_test.index, org_test)\n",
    "#needs universe_id and setting"
   ]
  },
  {
   "cell_type": "code",
   "execution_count": 53,
   "id": "6cbdab96-b2b2-45af-ad54-d0516db2e28d",
   "metadata": {
    "execution": {
     "iopub.execute_input": "2025-08-05T20:52:37.736605Z",
     "iopub.status.busy": "2025-08-05T20:52:37.736270Z",
     "iopub.status.idle": "2025-08-05T20:52:38.573636Z",
     "shell.execute_reply": "2025-08-05T20:52:38.572852Z"
    },
    "papermill": {
     "duration": 0.850905,
     "end_time": "2025-08-05T20:52:38.575248",
     "exception": false,
     "start_time": "2025-08-05T20:52:37.724343",
     "status": "completed"
    },
    "tags": []
   },
   "outputs": [],
   "source": [
    "# Define covered = 1 if true_label is in the predicted set\n",
    "cp_groups_df['covered'] = cp_groups_df.apply(\n",
    "    lambda r: int(r['true_label'] in r['pred_set']),\n",
    "    axis=1\n",
    ")"
   ]
  },
  {
   "cell_type": "code",
   "execution_count": 54,
   "id": "338ff529-1a6b-4b87-a931-8e4788d52aad",
   "metadata": {
    "execution": {
     "iopub.execute_input": "2025-08-05T20:52:38.599305Z",
     "iopub.status.busy": "2025-08-05T20:52:38.598984Z",
     "iopub.status.idle": "2025-08-05T20:52:38.603121Z",
     "shell.execute_reply": "2025-08-05T20:52:38.602198Z"
    },
    "papermill": {
     "duration": 0.017356,
     "end_time": "2025-08-05T20:52:38.604429",
     "exception": false,
     "start_time": "2025-08-05T20:52:38.587073",
     "status": "completed"
    },
    "tags": []
   },
   "outputs": [],
   "source": [
    "#cp_groups_df"
   ]
  },
  {
   "cell_type": "code",
   "execution_count": 55,
   "id": "90032e27-66df-4540-9169-4e89cfbaa758",
   "metadata": {
    "execution": {
     "iopub.execute_input": "2025-08-05T20:52:38.629655Z",
     "iopub.status.busy": "2025-08-05T20:52:38.628959Z",
     "iopub.status.idle": "2025-08-05T20:52:38.637771Z",
     "shell.execute_reply": "2025-08-05T20:52:38.636995Z"
    },
    "papermill": {
     "duration": 0.022176,
     "end_time": "2025-08-05T20:52:38.639235",
     "exception": false,
     "start_time": "2025-08-05T20:52:38.617059",
     "status": "completed"
    },
    "tags": []
   },
   "outputs": [],
   "source": [
    "subgroups = ['frau1','nongerman','nongerman_male','nongerman_female']\n",
    "\n",
    "# Conditional coverage for subgroup==1\n",
    "cond_coverage = {\n",
    "    g: cp_groups_df.loc[cp_groups_df[g]==1, 'covered'].mean()\n",
    "    for g in subgroups\n",
    "}"
   ]
  },
  {
   "cell_type": "code",
   "execution_count": 56,
   "id": "1e348fb1-b9c3-45bc-ba23-f016827a7e0d",
   "metadata": {
    "execution": {
     "iopub.execute_input": "2025-08-05T20:52:38.663949Z",
     "iopub.status.busy": "2025-08-05T20:52:38.663309Z",
     "iopub.status.idle": "2025-08-05T20:52:38.669283Z",
     "shell.execute_reply": "2025-08-05T20:52:38.668562Z"
    },
    "papermill": {
     "duration": 0.019343,
     "end_time": "2025-08-05T20:52:38.670709",
     "exception": false,
     "start_time": "2025-08-05T20:52:38.651366",
     "status": "completed"
    },
    "tags": []
   },
   "outputs": [
    {
     "data": {
      "text/plain": [
       "{'frau1': 0.9167542795525003,\n",
       " 'nongerman': 0.909111323190928,\n",
       " 'nongerman_male': 0.9242547059353328,\n",
       " 'nongerman_female': 0.884053651266766}"
      ]
     },
     "execution_count": 56,
     "metadata": {},
     "output_type": "execute_result"
    }
   ],
   "source": [
    "cond_coverage"
   ]
  },
  {
   "cell_type": "code",
   "execution_count": 57,
   "id": "f5093324-c3dd-4d63-bc4c-8d945e5c8bbb",
   "metadata": {
    "execution": {
     "iopub.execute_input": "2025-08-05T20:52:38.695390Z",
     "iopub.status.busy": "2025-08-05T20:52:38.694756Z",
     "iopub.status.idle": "2025-08-05T20:52:38.700534Z",
     "shell.execute_reply": "2025-08-05T20:52:38.699765Z"
    },
    "papermill": {
     "duration": 0.01904,
     "end_time": "2025-08-05T20:52:38.701898",
     "exception": false,
     "start_time": "2025-08-05T20:52:38.682858",
     "status": "completed"
    },
    "tags": []
   },
   "outputs": [],
   "source": [
    "for subgroup, cov in cond_coverage.items():\n",
    "    cp_metrics_df[f\"cov_{subgroup}\"] = cov"
   ]
  },
  {
   "cell_type": "code",
   "execution_count": 58,
   "id": "6e872e10-dbe5-49e8-b554-5030c98ff75d",
   "metadata": {
    "execution": {
     "iopub.execute_input": "2025-08-05T20:52:38.726849Z",
     "iopub.status.busy": "2025-08-05T20:52:38.726210Z",
     "iopub.status.idle": "2025-08-05T20:52:38.739973Z",
     "shell.execute_reply": "2025-08-05T20:52:38.739257Z"
    },
    "papermill": {
     "duration": 0.027045,
     "end_time": "2025-08-05T20:52:38.741322",
     "exception": false,
     "start_time": "2025-08-05T20:52:38.714277",
     "status": "completed"
    },
    "tags": []
   },
   "outputs": [
    {
     "data": {
      "text/html": [
       "<div>\n",
       "<style scoped>\n",
       "    .dataframe tbody tr th:only-of-type {\n",
       "        vertical-align: middle;\n",
       "    }\n",
       "\n",
       "    .dataframe tbody tr th {\n",
       "        vertical-align: top;\n",
       "    }\n",
       "\n",
       "    .dataframe thead th {\n",
       "        text-align: right;\n",
       "    }\n",
       "</style>\n",
       "<table border=\"1\" class=\"dataframe\">\n",
       "  <thead>\n",
       "    <tr style=\"text-align: right;\">\n",
       "      <th></th>\n",
       "      <th>universe_id</th>\n",
       "      <th>universe_training_year</th>\n",
       "      <th>universe_training_size</th>\n",
       "      <th>universe_scale</th>\n",
       "      <th>universe_model</th>\n",
       "      <th>universe_exclude_features</th>\n",
       "      <th>universe_exclude_subgroups</th>\n",
       "      <th>q_hat</th>\n",
       "      <th>coverage</th>\n",
       "      <th>avg_size</th>\n",
       "      <th>cov_frau1</th>\n",
       "      <th>cov_nongerman</th>\n",
       "      <th>cov_nongerman_male</th>\n",
       "      <th>cov_nongerman_female</th>\n",
       "    </tr>\n",
       "  </thead>\n",
       "  <tbody>\n",
       "    <tr>\n",
       "      <th>0</th>\n",
       "      <td>7eca88123f0c20c733e96ab0327e2b65</td>\n",
       "      <td>2012_14</td>\n",
       "      <td>25k</td>\n",
       "      <td>scale</td>\n",
       "      <td>rf</td>\n",
       "      <td>sex</td>\n",
       "      <td>drop-non-german</td>\n",
       "      <td>0.66</td>\n",
       "      <td>0.916576</td>\n",
       "      <td>1.147587</td>\n",
       "      <td>0.916754</td>\n",
       "      <td>0.909111</td>\n",
       "      <td>0.924255</td>\n",
       "      <td>0.884054</td>\n",
       "    </tr>\n",
       "  </tbody>\n",
       "</table>\n",
       "</div>"
      ],
      "text/plain": [
       "                        universe_id universe_training_year  \\\n",
       "0  7eca88123f0c20c733e96ab0327e2b65                2012_14   \n",
       "\n",
       "  universe_training_size universe_scale universe_model  \\\n",
       "0                    25k          scale             rf   \n",
       "\n",
       "  universe_exclude_features universe_exclude_subgroups  q_hat  coverage  \\\n",
       "0                       sex            drop-non-german   0.66  0.916576   \n",
       "\n",
       "   avg_size  cov_frau1  cov_nongerman  cov_nongerman_male  \\\n",
       "0  1.147587   0.916754       0.909111            0.924255   \n",
       "\n",
       "   cov_nongerman_female  \n",
       "0              0.884054  "
      ]
     },
     "execution_count": 58,
     "metadata": {},
     "output_type": "execute_result"
    }
   ],
   "source": [
    "cp_metrics_df"
   ]
  },
  {
   "cell_type": "markdown",
   "id": "33774451",
   "metadata": {
    "papermill": {
     "duration": 0.011507,
     "end_time": "2025-08-05T20:52:38.765620",
     "exception": false,
     "start_time": "2025-08-05T20:52:38.754113",
     "status": "completed"
    },
    "tags": []
   },
   "source": [
    "# (Fairness) Metrics"
   ]
  },
  {
   "cell_type": "code",
   "execution_count": 59,
   "id": "debc5d62",
   "metadata": {
    "execution": {
     "iopub.execute_input": "2025-08-05T20:52:38.790228Z",
     "iopub.status.busy": "2025-08-05T20:52:38.789391Z",
     "iopub.status.idle": "2025-08-05T20:52:38.810640Z",
     "shell.execute_reply": "2025-08-05T20:52:38.809588Z"
    },
    "papermill": {
     "duration": 0.035512,
     "end_time": "2025-08-05T20:52:38.812632",
     "exception": false,
     "start_time": "2025-08-05T20:52:38.777120",
     "status": "completed"
    },
    "tags": []
   },
   "outputs": [],
   "source": [
    "# do I need to include maxdeutsch1.missing?\n",
    "\n",
    "import numpy as np\n",
    "\n",
    "colname_to_bin = \"maxdeutsch1\"\n",
    "majority_value = org_train[colname_to_bin].mode()[0]\n",
    "\n",
    "org_test[\"majmin\"] = np.where(org_test[colname_to_bin] == majority_value, \"majority\", \"minority\")"
   ]
  },
  {
   "cell_type": "code",
   "execution_count": 60,
   "id": "06a50de5",
   "metadata": {
    "execution": {
     "iopub.execute_input": "2025-08-05T20:52:38.867151Z",
     "iopub.status.busy": "2025-08-05T20:52:38.866655Z",
     "iopub.status.idle": "2025-08-05T20:52:41.468758Z",
     "shell.execute_reply": "2025-08-05T20:52:41.467523Z"
    },
    "papermill": {
     "duration": 2.631856,
     "end_time": "2025-08-05T20:52:41.470833",
     "exception": false,
     "start_time": "2025-08-05T20:52:38.838977",
     "status": "completed"
    },
    "tags": []
   },
   "outputs": [],
   "source": [
    "example_universe = universe.copy()\n",
    "example_universe[\"cutoff\"] = example_universe[\"cutoff\"][0]\n",
    "example_universe[\"eval_fairness_grouping\"] = example_universe[\"eval_fairness_grouping\"][0]\n",
    "fairness_dict, metric_frame = universe_analysis.compute_metrics(\n",
    "    example_universe,\n",
    "    y_pred_prob=probs_test,\n",
    "    y_test=y_true,\n",
    "    org_test=org_test,\n",
    ")"
   ]
  },
  {
   "cell_type": "markdown",
   "id": "f95d4e02",
   "metadata": {
    "papermill": {
     "duration": 0.02634,
     "end_time": "2025-08-05T20:52:41.525752",
     "exception": false,
     "start_time": "2025-08-05T20:52:41.499412",
     "status": "completed"
    },
    "tags": []
   },
   "source": [
    "# Overall"
   ]
  },
  {
   "cell_type": "markdown",
   "id": "bdee4871",
   "metadata": {
    "papermill": {
     "duration": 0.025623,
     "end_time": "2025-08-05T20:52:41.577457",
     "exception": false,
     "start_time": "2025-08-05T20:52:41.551834",
     "status": "completed"
    },
    "tags": []
   },
   "source": [
    "Fairness\n",
    "Main fairness target: Equalized Odds. Seems to be a better fit than equal opportunity, since we're not only interested in Y = 1. Seems to be a better fit than demographic parity, since we also care about accuracy, not just equal distribution of preds.\n",
    "\n",
    "Pick column for computation of fairness metrics\n",
    "\n",
    "Performance\n",
    "Overall performance measures, most interesting in relation to the measures split by group below"
   ]
  },
  {
   "cell_type": "code",
   "execution_count": 61,
   "id": "c4e067c6",
   "metadata": {
    "execution": {
     "iopub.execute_input": "2025-08-05T20:52:41.631275Z",
     "iopub.status.busy": "2025-08-05T20:52:41.630578Z",
     "iopub.status.idle": "2025-08-05T20:52:41.640064Z",
     "shell.execute_reply": "2025-08-05T20:52:41.638947Z"
    },
    "papermill": {
     "duration": 0.03868,
     "end_time": "2025-08-05T20:52:41.642006",
     "exception": false,
     "start_time": "2025-08-05T20:52:41.603326",
     "status": "completed"
    },
    "tags": []
   },
   "outputs": [
    {
     "data": {
      "text/plain": [
       "accuracy                   0.197715\n",
       "balanced accuracy          0.530711\n",
       "f1                         0.238357\n",
       "precision                  0.135705\n",
       "false positive rate        0.917202\n",
       "false negative rate        0.021376\n",
       "selection rate             0.925081\n",
       "count                  89710.000000\n",
       "dtype: float64"
      ]
     },
     "execution_count": 61,
     "metadata": {},
     "output_type": "execute_result"
    }
   ],
   "source": [
    "metric_frame.overall"
   ]
  },
  {
   "cell_type": "markdown",
   "id": "e968fe9d",
   "metadata": {
    "papermill": {
     "duration": 0.026246,
     "end_time": "2025-08-05T20:52:41.694787",
     "exception": false,
     "start_time": "2025-08-05T20:52:41.668541",
     "status": "completed"
    },
    "tags": []
   },
   "source": [
    "By Group"
   ]
  },
  {
   "cell_type": "code",
   "execution_count": 62,
   "id": "ec325bce",
   "metadata": {
    "execution": {
     "iopub.execute_input": "2025-08-05T20:52:41.749310Z",
     "iopub.status.busy": "2025-08-05T20:52:41.748371Z",
     "iopub.status.idle": "2025-08-05T20:52:41.765187Z",
     "shell.execute_reply": "2025-08-05T20:52:41.764090Z"
    },
    "papermill": {
     "duration": 0.046093,
     "end_time": "2025-08-05T20:52:41.767133",
     "exception": false,
     "start_time": "2025-08-05T20:52:41.721040",
     "status": "completed"
    },
    "tags": []
   },
   "outputs": [
    {
     "data": {
      "text/html": [
       "<div>\n",
       "<style scoped>\n",
       "    .dataframe tbody tr th:only-of-type {\n",
       "        vertical-align: middle;\n",
       "    }\n",
       "\n",
       "    .dataframe tbody tr th {\n",
       "        vertical-align: top;\n",
       "    }\n",
       "\n",
       "    .dataframe thead th {\n",
       "        text-align: right;\n",
       "    }\n",
       "</style>\n",
       "<table border=\"1\" class=\"dataframe\">\n",
       "  <thead>\n",
       "    <tr style=\"text-align: right;\">\n",
       "      <th></th>\n",
       "      <th>accuracy</th>\n",
       "      <th>balanced accuracy</th>\n",
       "      <th>f1</th>\n",
       "      <th>precision</th>\n",
       "      <th>false positive rate</th>\n",
       "      <th>false negative rate</th>\n",
       "      <th>selection rate</th>\n",
       "      <th>count</th>\n",
       "    </tr>\n",
       "    <tr>\n",
       "      <th>majmin</th>\n",
       "      <th></th>\n",
       "      <th></th>\n",
       "      <th></th>\n",
       "      <th></th>\n",
       "      <th></th>\n",
       "      <th></th>\n",
       "      <th></th>\n",
       "      <th></th>\n",
       "    </tr>\n",
       "  </thead>\n",
       "  <tbody>\n",
       "    <tr>\n",
       "      <th>majority</th>\n",
       "      <td>0.192844</td>\n",
       "      <td>0.530893</td>\n",
       "      <td>0.244864</td>\n",
       "      <td>0.139702</td>\n",
       "      <td>0.928586</td>\n",
       "      <td>0.009628</td>\n",
       "      <td>0.936750</td>\n",
       "      <td>69170.0</td>\n",
       "    </tr>\n",
       "    <tr>\n",
       "      <th>minority</th>\n",
       "      <td>0.214119</td>\n",
       "      <td>0.526841</td>\n",
       "      <td>0.214960</td>\n",
       "      <td>0.121469</td>\n",
       "      <td>0.879595</td>\n",
       "      <td>0.066723</td>\n",
       "      <td>0.885784</td>\n",
       "      <td>20540.0</td>\n",
       "    </tr>\n",
       "  </tbody>\n",
       "</table>\n",
       "</div>"
      ],
      "text/plain": [
       "          accuracy  balanced accuracy        f1  precision  \\\n",
       "majmin                                                       \n",
       "majority  0.192844           0.530893  0.244864   0.139702   \n",
       "minority  0.214119           0.526841  0.214960   0.121469   \n",
       "\n",
       "          false positive rate  false negative rate  selection rate    count  \n",
       "majmin                                                                       \n",
       "majority             0.928586             0.009628        0.936750  69170.0  \n",
       "minority             0.879595             0.066723        0.885784  20540.0  "
      ]
     },
     "execution_count": 62,
     "metadata": {},
     "output_type": "execute_result"
    }
   ],
   "source": [
    "metric_frame.by_group"
   ]
  },
  {
   "cell_type": "code",
   "execution_count": 63,
   "id": "a9ddbe63",
   "metadata": {
    "execution": {
     "iopub.execute_input": "2025-08-05T20:52:41.822507Z",
     "iopub.status.busy": "2025-08-05T20:52:41.821822Z",
     "iopub.status.idle": "2025-08-05T20:52:44.339415Z",
     "shell.execute_reply": "2025-08-05T20:52:44.338346Z"
    },
    "papermill": {
     "duration": 2.546778,
     "end_time": "2025-08-05T20:52:44.340988",
     "exception": false,
     "start_time": "2025-08-05T20:52:41.794210",
     "status": "completed"
    },
    "tags": []
   },
   "outputs": [
    {
     "data": {
      "text/plain": [
       "array([[<Axes: title={'center': 'accuracy'}, xlabel='majmin'>,\n",
       "        <Axes: title={'center': 'balanced accuracy'}, xlabel='majmin'>,\n",
       "        <Axes: title={'center': 'f1'}, xlabel='majmin'>],\n",
       "       [<Axes: title={'center': 'precision'}, xlabel='majmin'>,\n",
       "        <Axes: title={'center': 'false positive rate'}, xlabel='majmin'>,\n",
       "        <Axes: title={'center': 'false negative rate'}, xlabel='majmin'>],\n",
       "       [<Axes: title={'center': 'selection rate'}, xlabel='majmin'>,\n",
       "        <Axes: title={'center': 'count'}, xlabel='majmin'>,\n",
       "        <Axes: xlabel='majmin'>]], dtype=object)"
      ]
     },
     "execution_count": 63,
     "metadata": {},
     "output_type": "execute_result"
    },
    {
     "data": {
      "image/png": "[encoded data removed]",
      "text/plain": [
       "<Figure size 1200x800 with 9 Axes>"
      ]
     },
     "metadata": {},
     "output_type": "display_data"
    }
   ],
   "source": [
    "# In a graphic\n",
    "metric_frame.by_group.plot.bar(\n",
    "    subplots=True,\n",
    "    layout=[3, 3],\n",
    "    legend=False,\n",
    "    figsize=[12, 8],\n",
    "    title=\"Show all metrics\",\n",
    ")"
   ]
  },
  {
   "cell_type": "markdown",
   "id": "f57a0bac",
   "metadata": {
    "papermill": {
     "duration": 0.026003,
     "end_time": "2025-08-05T20:52:44.392660",
     "exception": false,
     "start_time": "2025-08-05T20:52:44.366657",
     "status": "completed"
    },
    "tags": []
   },
   "source": [
    "# Final Output"
   ]
  },
  {
   "cell_type": "code",
   "execution_count": 64,
   "id": "96d280a3",
   "metadata": {
    "execution": {
     "iopub.execute_input": "2025-08-05T20:52:44.449362Z",
     "iopub.status.busy": "2025-08-05T20:52:44.448229Z",
     "iopub.status.idle": "2025-08-05T20:52:44.456850Z",
     "shell.execute_reply": "2025-08-05T20:52:44.455829Z"
    },
    "papermill": {
     "duration": 0.038986,
     "end_time": "2025-08-05T20:52:44.458668",
     "exception": false,
     "start_time": "2025-08-05T20:52:44.419682",
     "status": "completed"
    },
    "tags": []
   },
   "outputs": [
    {
     "data": {
      "text/plain": [
       "4"
      ]
     },
     "execution_count": 64,
     "metadata": {},
     "output_type": "execute_result"
    }
   ],
   "source": [
    "sub_universes = universe_analysis.generate_sub_universes()\n",
    "len(sub_universes)"
   ]
  },
  {
   "cell_type": "code",
   "execution_count": 65,
   "id": "92adf7ba",
   "metadata": {
    "execution": {
     "iopub.execute_input": "2025-08-05T20:52:44.515791Z",
     "iopub.status.busy": "2025-08-05T20:52:44.514973Z",
     "iopub.status.idle": "2025-08-05T20:52:44.521772Z",
     "shell.execute_reply": "2025-08-05T20:52:44.520678Z"
    },
    "papermill": {
     "duration": 0.037715,
     "end_time": "2025-08-05T20:52:44.523691",
     "exception": false,
     "start_time": "2025-08-05T20:52:44.485976",
     "status": "completed"
    },
    "tags": []
   },
   "outputs": [],
   "source": [
    "def filter_sub_universe_data(sub_universe, org_test):\n",
    "    # Keep all rows — no filtering\n",
    "    keep_rows_mask = np.ones(org_test.shape[0], dtype=bool)\n",
    "\n",
    "    print(f\"[INFO] Keeping all rows: {keep_rows_mask.sum()} rows retained.\")\n",
    "    return keep_rows_mask"
   ]
  },
  {
   "cell_type": "code",
   "execution_count": 66,
   "id": "4a759155",
   "metadata": {
    "execution": {
     "iopub.execute_input": "2025-08-05T20:52:44.580351Z",
     "iopub.status.busy": "2025-08-05T20:52:44.579684Z",
     "iopub.status.idle": "2025-08-05T20:52:54.010548Z",
     "shell.execute_reply": "2025-08-05T20:52:54.009557Z"
    },
    "papermill": {
     "duration": 9.460894,
     "end_time": "2025-08-05T20:52:54.012236",
     "exception": false,
     "start_time": "2025-08-05T20:52:44.551342",
     "status": "completed"
    },
    "tags": []
   },
   "outputs": [
    {
     "name": "stdout",
     "output_type": "stream",
     "text": [
      "Stopping execution_time clock.\n",
      "[INFO] Keeping all rows: 89710 rows retained.\n"
     ]
    },
    {
     "name": "stdout",
     "output_type": "stream",
     "text": [
      "[INFO] Keeping all rows: 89710 rows retained.\n"
     ]
    },
    {
     "name": "stdout",
     "output_type": "stream",
     "text": [
      "[INFO] Keeping all rows: 89710 rows retained.\n"
     ]
    },
    {
     "name": "stdout",
     "output_type": "stream",
     "text": [
      "[INFO] Keeping all rows: 89710 rows retained.\n"
     ]
    },
    {
     "data": {
      "text/html": [
       "<div>\n",
       "<style scoped>\n",
       "    .dataframe tbody tr th:only-of-type {\n",
       "        vertical-align: middle;\n",
       "    }\n",
       "\n",
       "    .dataframe tbody tr th {\n",
       "        vertical-align: top;\n",
       "    }\n",
       "\n",
       "    .dataframe thead th {\n",
       "        text-align: right;\n",
       "    }\n",
       "</style>\n",
       "<table border=\"1\" class=\"dataframe\">\n",
       "  <thead>\n",
       "    <tr style=\"text-align: right;\">\n",
       "      <th></th>\n",
       "      <th>run_no</th>\n",
       "      <th>universe_id</th>\n",
       "      <th>universe_settings</th>\n",
       "      <th>execution_time</th>\n",
       "      <th>test_size_n</th>\n",
       "      <th>test_size_frac</th>\n",
       "      <th>fair_main_equalized_odds_difference</th>\n",
       "      <th>fair_main_equalized_odds_ratio</th>\n",
       "      <th>fair_main_demographic_parity_difference</th>\n",
       "      <th>fair_main_demographic_parity_ratio</th>\n",
       "      <th>...</th>\n",
       "      <th>perf_grp_precision_0</th>\n",
       "      <th>perf_grp_precision_1</th>\n",
       "      <th>perf_grp_false positive rate_0</th>\n",
       "      <th>perf_grp_false positive rate_1</th>\n",
       "      <th>perf_grp_false negative rate_0</th>\n",
       "      <th>perf_grp_false negative rate_1</th>\n",
       "      <th>perf_grp_selection rate_0</th>\n",
       "      <th>perf_grp_selection rate_1</th>\n",
       "      <th>perf_grp_count_0</th>\n",
       "      <th>perf_grp_count_1</th>\n",
       "    </tr>\n",
       "  </thead>\n",
       "  <tbody>\n",
       "    <tr>\n",
       "      <th>0</th>\n",
       "      <td>16</td>\n",
       "      <td>7eca88123f0c20c733e96ab0327e2b65</td>\n",
       "      <td>{\"cutoff\": \"quantile_0.1\", \"eval_fairness_grou...</td>\n",
       "      <td>40.865763</td>\n",
       "      <td>89710</td>\n",
       "      <td>1.0</td>\n",
       "      <td>0.057095</td>\n",
       "      <td>0.942350</td>\n",
       "      <td>0.050966</td>\n",
       "      <td>0.945593</td>\n",
       "      <td>...</td>\n",
       "      <td>NaN</td>\n",
       "      <td>NaN</td>\n",
       "      <td>NaN</td>\n",
       "      <td>NaN</td>\n",
       "      <td>NaN</td>\n",
       "      <td>NaN</td>\n",
       "      <td>NaN</td>\n",
       "      <td>NaN</td>\n",
       "      <td>NaN</td>\n",
       "      <td>NaN</td>\n",
       "    </tr>\n",
       "    <tr>\n",
       "      <th>0</th>\n",
       "      <td>16</td>\n",
       "      <td>7eca88123f0c20c733e96ab0327e2b65</td>\n",
       "      <td>{\"cutoff\": \"quantile_0.1\", \"eval_fairness_grou...</td>\n",
       "      <td>40.865763</td>\n",
       "      <td>89710</td>\n",
       "      <td>1.0</td>\n",
       "      <td>0.057095</td>\n",
       "      <td>0.942350</td>\n",
       "      <td>0.050966</td>\n",
       "      <td>0.945593</td>\n",
       "      <td>...</td>\n",
       "      <td>0.121469</td>\n",
       "      <td>0.139702</td>\n",
       "      <td>0.879595</td>\n",
       "      <td>0.928586</td>\n",
       "      <td>0.066723</td>\n",
       "      <td>0.009628</td>\n",
       "      <td>0.885784</td>\n",
       "      <td>0.936750</td>\n",
       "      <td>20540.0</td>\n",
       "      <td>69170.0</td>\n",
       "    </tr>\n",
       "    <tr>\n",
       "      <th>0</th>\n",
       "      <td>16</td>\n",
       "      <td>7eca88123f0c20c733e96ab0327e2b65</td>\n",
       "      <td>{\"cutoff\": \"quantile_0.25\", \"eval_fairness_gro...</td>\n",
       "      <td>40.865763</td>\n",
       "      <td>89710</td>\n",
       "      <td>1.0</td>\n",
       "      <td>0.097579</td>\n",
       "      <td>0.898211</td>\n",
       "      <td>0.057478</td>\n",
       "      <td>0.927117</td>\n",
       "      <td>...</td>\n",
       "      <td>NaN</td>\n",
       "      <td>NaN</td>\n",
       "      <td>NaN</td>\n",
       "      <td>NaN</td>\n",
       "      <td>NaN</td>\n",
       "      <td>NaN</td>\n",
       "      <td>NaN</td>\n",
       "      <td>NaN</td>\n",
       "      <td>NaN</td>\n",
       "      <td>NaN</td>\n",
       "    </tr>\n",
       "    <tr>\n",
       "      <th>0</th>\n",
       "      <td>16</td>\n",
       "      <td>7eca88123f0c20c733e96ab0327e2b65</td>\n",
       "      <td>{\"cutoff\": \"quantile_0.25\", \"eval_fairness_gro...</td>\n",
       "      <td>40.865763</td>\n",
       "      <td>89710</td>\n",
       "      <td>1.0</td>\n",
       "      <td>0.097579</td>\n",
       "      <td>0.898211</td>\n",
       "      <td>0.057478</td>\n",
       "      <td>0.927117</td>\n",
       "      <td>...</td>\n",
       "      <td>0.135770</td>\n",
       "      <td>0.160623</td>\n",
       "      <td>0.714231</td>\n",
       "      <td>0.762752</td>\n",
       "      <td>0.138936</td>\n",
       "      <td>0.041357</td>\n",
       "      <td>0.731159</td>\n",
       "      <td>0.788637</td>\n",
       "      <td>20540.0</td>\n",
       "      <td>69170.0</td>\n",
       "    </tr>\n",
       "  </tbody>\n",
       "</table>\n",
       "<p>4 rows × 50 columns</p>\n",
       "</div>"
      ],
      "text/plain": [
       "  run_no                       universe_id  \\\n",
       "0     16  7eca88123f0c20c733e96ab0327e2b65   \n",
       "0     16  7eca88123f0c20c733e96ab0327e2b65   \n",
       "0     16  7eca88123f0c20c733e96ab0327e2b65   \n",
       "0     16  7eca88123f0c20c733e96ab0327e2b65   \n",
       "\n",
       "                                   universe_settings  execution_time  \\\n",
       "0  {\"cutoff\": \"quantile_0.1\", \"eval_fairness_grou...       40.865763   \n",
       "0  {\"cutoff\": \"quantile_0.1\", \"eval_fairness_grou...       40.865763   \n",
       "0  {\"cutoff\": \"quantile_0.25\", \"eval_fairness_gro...       40.865763   \n",
       "0  {\"cutoff\": \"quantile_0.25\", \"eval_fairness_gro...       40.865763   \n",
       "\n",
       "   test_size_n  test_size_frac  fair_main_equalized_odds_difference  \\\n",
       "0        89710             1.0                             0.057095   \n",
       "0        89710             1.0                             0.057095   \n",
       "0        89710             1.0                             0.097579   \n",
       "0        89710             1.0                             0.097579   \n",
       "\n",
       "   fair_main_equalized_odds_ratio  fair_main_demographic_parity_difference  \\\n",
       "0                        0.942350                                 0.050966   \n",
       "0                        0.942350                                 0.050966   \n",
       "0                        0.898211                                 0.057478   \n",
       "0                        0.898211                                 0.057478   \n",
       "\n",
       "   fair_main_demographic_parity_ratio  ...  perf_grp_precision_0  \\\n",
       "0                            0.945593  ...                   NaN   \n",
       "0                            0.945593  ...              0.121469   \n",
       "0                            0.927117  ...                   NaN   \n",
       "0                            0.927117  ...              0.135770   \n",
       "\n",
       "   perf_grp_precision_1  perf_grp_false positive rate_0  \\\n",
       "0                   NaN                             NaN   \n",
       "0              0.139702                        0.879595   \n",
       "0                   NaN                             NaN   \n",
       "0              0.160623                        0.714231   \n",
       "\n",
       "   perf_grp_false positive rate_1  perf_grp_false negative rate_0  \\\n",
       "0                             NaN                             NaN   \n",
       "0                        0.928586                        0.066723   \n",
       "0                             NaN                             NaN   \n",
       "0                        0.762752                        0.138936   \n",
       "\n",
       "   perf_grp_false negative rate_1  perf_grp_selection rate_0  \\\n",
       "0                             NaN                        NaN   \n",
       "0                        0.009628                   0.885784   \n",
       "0                             NaN                        NaN   \n",
       "0                        0.041357                   0.731159   \n",
       "\n",
       "   perf_grp_selection rate_1  perf_grp_count_0  perf_grp_count_1  \n",
       "0                        NaN               NaN               NaN  \n",
       "0                   0.936750           20540.0           69170.0  \n",
       "0                        NaN               NaN               NaN  \n",
       "0                   0.788637           20540.0           69170.0  \n",
       "\n",
       "[4 rows x 50 columns]"
      ]
     },
     "execution_count": 66,
     "metadata": {},
     "output_type": "execute_result"
    }
   ],
   "source": [
    "final_output = universe_analysis.generate_final_output(\n",
    "    y_pred_prob=probs_test,\n",
    "    y_test=y_true,\n",
    "    org_test=org_test,\n",
    "    filter_data=filter_sub_universe_data,\n",
    "    cp_metrics_df=cp_metrics_df,\n",
    "    save=True,\n",
    ")\n",
    "final_output"
   ]
  }
 ],
 "metadata": {
  "celltoolbar": "Tags",
  "kernelspec": {
   "display_name": "Python (CMA Fairness)",
   "language": "python",
   "name": "cma_fair_env"
  },
  "language_info": {
   "codemirror_mode": {
    "name": "ipython",
    "version": 3
   },
   "file_extension": ".py",
   "mimetype": "text/x-python",
   "name": "python",
   "nbconvert_exporter": "python",
   "pygments_lexer": "ipython3",
   "version": "3.10.12"
  },
  "papermill": {
   "default_parameters": {},
   "duration": 53.944673,
   "end_time": "2025-08-05T20:52:54.763924",
   "environment_variables": {},
   "exception": null,
   "input_path": "universe_analysis.ipynb",
   "output_path": "output/runs/16/notebooks/m_16-7eca88123f0c20c733e96ab0327e2b65.ipynb",
   "parameters": {
    "output_dir": "output",
    "run_no": "16",
    "seed": "2023",
    "universe": "{\"cutoff\": [\"quantile_0.1\", \"quantile_0.25\"], \"eval_fairness_grouping\": [\"majority-minority\", \"nationality-all\"], \"exclude_features\": \"sex\", \"exclude_subgroups\": \"drop-non-german\", \"model\": \"rf\", \"scale\": \"scale\", \"training_size\": \"25k\", \"training_year\": \"2012_14\"}",
    "universe_id": "7eca88123f0c20c733e96ab0327e2b65"
   },
   "start_time": "2025-08-05T20:52:00.819251",
   "version": "2.6.0"
  }
 },
 "nbformat": 4,
 "nbformat_minor": 5
}