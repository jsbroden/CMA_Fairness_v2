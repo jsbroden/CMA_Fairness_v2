{
 "cells": [
  {
   "cell_type": "code",
   "execution_count": 1,
   "id": "f159f837-637b-42ba-96b5-ec9a68c44524",
   "metadata": {
    "execution": {
     "iopub.execute_input": "2025-08-05T20:39:20.877555Z",
     "iopub.status.busy": "2025-08-05T20:39:20.876761Z",
     "iopub.status.idle": "2025-08-05T20:39:20.891909Z",
     "shell.execute_reply": "2025-08-05T20:39:20.891018Z"
    },
    "papermill": {
     "duration": 0.034417,
     "end_time": "2025-08-05T20:39:20.893797",
     "exception": false,
     "start_time": "2025-08-05T20:39:20.859380",
     "status": "completed"
    },
    "tags": []
   },
   "outputs": [
    {
     "name": "stdout",
     "output_type": "stream",
     "text": [
      "/dss/dsshome1/0C/ra93lal2/cma/CMA_Fairness_v2\n"
     ]
    },
    {
     "name": "stderr",
     "output_type": "stream",
     "text": [
      "/dss/dsshome1/0C/ra93lal2/.local/share/virtualenvs/CMA_Fairness_v2-3j10GkSs/lib/python3.10/site-packages/IPython/core/magics/osm.py:393: UserWarning: This is now an optional IPython functionality, using bookmarks requires you to install the `pickleshare` library.\n",
      "  bkms = self.shell.db.get('bookmarks', {})\n",
      "/dss/dsshome1/0C/ra93lal2/.local/share/virtualenvs/CMA_Fairness_v2-3j10GkSs/lib/python3.10/site-packages/IPython/core/magics/osm.py:417: UserWarning: This is now an optional IPython functionality, setting dhist requires you to install the `pickleshare` library.\n",
      "  self.shell.db['dhist'] = compress_dhist(dhist)[-100:]\n"
     ]
    }
   ],
   "source": [
    "%cd ~/cma/CMA_Fairness_v2"
   ]
  },
  {
   "cell_type": "markdown",
   "id": "de2603b9",
   "metadata": {
    "papermill": {
     "duration": 0.015597,
     "end_time": "2025-08-05T20:39:20.925337",
     "exception": false,
     "start_time": "2025-08-05T20:39:20.909740",
     "status": "completed"
    },
    "tags": []
   },
   "source": [
    "The following cell holds the definition of our parameters, these values can be overriden by rendering the with e.g. the following command:\n",
    "\n",
    "papermill -p alpha 0.2 -p ratio 0.3 universe_analysis.ipynb output/test_run.ipynb"
   ]
  },
  {
   "cell_type": "code",
   "execution_count": 2,
   "id": "a80968a0-40bb-4fa9-85ef-2d5eefb01975",
   "metadata": {
    "execution": {
     "iopub.execute_input": "2025-08-05T20:39:20.958313Z",
     "iopub.status.busy": "2025-08-05T20:39:20.957753Z",
     "iopub.status.idle": "2025-08-05T20:39:20.963959Z",
     "shell.execute_reply": "2025-08-05T20:39:20.962886Z"
    },
    "papermill": {
     "duration": 0.024666,
     "end_time": "2025-08-05T20:39:20.965715",
     "exception": false,
     "start_time": "2025-08-05T20:39:20.941049",
     "status": "completed"
    },
    "tags": []
   },
   "outputs": [
    {
     "name": "stdout",
     "output_type": "stream",
     "text": [
      "Current working directory: /dss/dsshome1/0C/ra93lal2/cma/CMA_Fairness_v2\n"
     ]
    }
   ],
   "source": [
    "import os\n",
    "print(\"Current working directory:\", os.getcwd())"
   ]
  },
  {
   "cell_type": "code",
   "execution_count": 3,
   "id": "2dce4c03",
   "metadata": {
    "execution": {
     "iopub.execute_input": "2025-08-05T20:39:21.000037Z",
     "iopub.status.busy": "2025-08-05T20:39:20.998988Z",
     "iopub.status.idle": "2025-08-05T20:39:21.005814Z",
     "shell.execute_reply": "2025-08-05T20:39:21.004716Z"
    },
    "papermill": {
     "duration": 0.026337,
     "end_time": "2025-08-05T20:39:21.008029",
     "exception": false,
     "start_time": "2025-08-05T20:39:20.981692",
     "status": "completed"
    },
    "tags": [
     "parameters"
    ]
   },
   "outputs": [],
   "source": [
    "run_no = 0\n",
    "universe_id = \"test\"\n",
    "universe = {\n",
    "    \"training_size\": \"25k\", # \"25k\", \"5k\", \"1k\"\n",
    "    \"training_year\": \"2014\", # \"2014\", \"2012_14\", \"2010_14\"\n",
    "    \"scale\": \"scale\", # \"scale\", \"do-not-scale\",\n",
    "    \"model\": \"elasticnet\", # \"logreg\", \"penalized_logreg\", \"rf\", \"gbm\", \"elasticnet\"\n",
    "    \"cutoff\": [\"quantile_0.15\", \"quantile_0.30\"],\n",
    "    \"exclude_features\": \"age\", # \"none\", \"nationality\", \"sex\", \"nationality-sex\", \"age\"\n",
    "    \"exclude_subgroups\": \"keep-all\", # \"keep-all\", \"drop-non-german\"\n",
    "    \"eval_fairness_grouping\": [\"majority-minority\", \"nationality-all\"]\n",
    "}\n",
    "\n",
    "output_dir=\"./output\"\n",
    "seed=0"
   ]
  },
  {
   "cell_type": "code",
   "execution_count": 4,
   "id": "c7f1df1c",
   "metadata": {
    "execution": {
     "iopub.execute_input": "2025-08-05T20:39:21.049955Z",
     "iopub.status.busy": "2025-08-05T20:39:21.049270Z",
     "iopub.status.idle": "2025-08-05T20:39:21.054588Z",
     "shell.execute_reply": "2025-08-05T20:39:21.053579Z"
    },
    "papermill": {
     "duration": 0.027477,
     "end_time": "2025-08-05T20:39:21.056641",
     "exception": false,
     "start_time": "2025-08-05T20:39:21.029164",
     "status": "completed"
    },
    "tags": [
     "injected-parameters"
    ]
   },
   "outputs": [],
   "source": [
    "# Parameters\n",
    "universe_id = \"a2f5b00e3eceff8181cdf3dffe571a8a\"\n",
    "run_no = \"16\"\n",
    "universe = \"{\\\"cutoff\\\": [\\\"quantile_0.1\\\", \\\"quantile_0.25\\\"], \\\"eval_fairness_grouping\\\": [\\\"majority-minority\\\", \\\"nationality-all\\\"], \\\"exclude_features\\\": \\\"none\\\", \\\"exclude_subgroups\\\": \\\"drop-non-german\\\", \\\"model\\\": \\\"elasticnet\\\", \\\"scale\\\": \\\"scale\\\", \\\"training_size\\\": \\\"25k\\\", \\\"training_year\\\": \\\"2014\\\"}\"\n",
    "output_dir = \"output\"\n",
    "seed = \"2023\"\n"
   ]
  },
  {
   "cell_type": "code",
   "execution_count": 5,
   "id": "1650acaf",
   "metadata": {
    "execution": {
     "iopub.execute_input": "2025-08-05T20:39:21.099163Z",
     "iopub.status.busy": "2025-08-05T20:39:21.098797Z",
     "iopub.status.idle": "2025-08-05T20:39:21.103757Z",
     "shell.execute_reply": "2025-08-05T20:39:21.102553Z"
    },
    "papermill": {
     "duration": 0.027961,
     "end_time": "2025-08-05T20:39:21.105770",
     "exception": false,
     "start_time": "2025-08-05T20:39:21.077809",
     "status": "completed"
    },
    "tags": []
   },
   "outputs": [],
   "source": [
    "import json\n",
    "if isinstance(universe, str):\n",
    "    universe = json.loads(universe)"
   ]
  },
  {
   "cell_type": "code",
   "execution_count": 6,
   "id": "16620c48",
   "metadata": {
    "execution": {
     "iopub.execute_input": "2025-08-05T20:39:21.148577Z",
     "iopub.status.busy": "2025-08-05T20:39:21.147884Z",
     "iopub.status.idle": "2025-08-05T20:39:21.195744Z",
     "shell.execute_reply": "2025-08-05T20:39:21.194880Z"
    },
    "papermill": {
     "duration": 0.071005,
     "end_time": "2025-08-05T20:39:21.197993",
     "exception": false,
     "start_time": "2025-08-05T20:39:21.126988",
     "status": "completed"
    },
    "tags": []
   },
   "outputs": [],
   "source": [
    "# Auto-reload the custom package\n",
    "%load_ext autoreload\n",
    "%autoreload 1\n",
    "%aimport fairness_multiverse"
   ]
  },
  {
   "cell_type": "code",
   "execution_count": 7,
   "id": "01c5c9f3",
   "metadata": {
    "execution": {
     "iopub.execute_input": "2025-08-05T20:39:21.240186Z",
     "iopub.status.busy": "2025-08-05T20:39:21.239514Z",
     "iopub.status.idle": "2025-08-05T20:39:23.035632Z",
     "shell.execute_reply": "2025-08-05T20:39:23.034465Z"
    },
    "papermill": {
     "duration": 1.819391,
     "end_time": "2025-08-05T20:39:23.037955",
     "exception": false,
     "start_time": "2025-08-05T20:39:21.218564",
     "status": "completed"
    },
    "tags": []
   },
   "outputs": [],
   "source": [
    "from fairness_multiverse.universe import UniverseAnalysis\n",
    "\n",
    "universe_analysis = UniverseAnalysis(\n",
    "    run_no = run_no,\n",
    "    universe_id = universe_id,\n",
    "    universe = universe,\n",
    "    output_dir=output_dir,\n",
    ")"
   ]
  },
  {
   "cell_type": "code",
   "execution_count": 8,
   "id": "106241f5",
   "metadata": {
    "execution": {
     "iopub.execute_input": "2025-08-05T20:39:23.085245Z",
     "iopub.status.busy": "2025-08-05T20:39:23.084503Z",
     "iopub.status.idle": "2025-08-05T20:39:23.093608Z",
     "shell.execute_reply": "2025-08-05T20:39:23.092149Z"
    },
    "papermill": {
     "duration": 0.036978,
     "end_time": "2025-08-05T20:39:23.095932",
     "exception": false,
     "start_time": "2025-08-05T20:39:23.058954",
     "status": "completed"
    },
    "tags": []
   },
   "outputs": [
    {
     "name": "stdout",
     "output_type": "stream",
     "text": [
      "Using Seed: 2023\n"
     ]
    }
   ],
   "source": [
    "import numpy as np\n",
    "parsed_seed = int(seed)\n",
    "np.random.seed(parsed_seed)\n",
    "print(f\"Using Seed: {parsed_seed}\")"
   ]
  },
  {
   "cell_type": "markdown",
   "id": "e0ebdc57",
   "metadata": {
    "papermill": {
     "duration": 0.017586,
     "end_time": "2025-08-05T20:39:23.138394",
     "exception": false,
     "start_time": "2025-08-05T20:39:23.120808",
     "status": "completed"
    },
    "tags": []
   },
   "source": [
    "# Loading Data"
   ]
  },
  {
   "cell_type": "code",
   "execution_count": 9,
   "id": "f0496b8a",
   "metadata": {
    "execution": {
     "iopub.execute_input": "2025-08-05T20:39:23.174762Z",
     "iopub.status.busy": "2025-08-05T20:39:23.174230Z",
     "iopub.status.idle": "2025-08-05T20:39:32.720766Z",
     "shell.execute_reply": "2025-08-05T20:39:32.719851Z"
    },
    "papermill": {
     "duration": 9.56714,
     "end_time": "2025-08-05T20:39:32.722160",
     "exception": false,
     "start_time": "2025-08-05T20:39:23.155020",
     "status": "completed"
    },
    "tags": []
   },
   "outputs": [
    {
     "name": "stdout",
     "output_type": "stream",
     "text": [
      "Loading SIAB data from cache: data/siab_cached.csv.gz\n"
     ]
    },
    {
     "name": "stdout",
     "output_type": "stream",
     "text": [
      "(643690, 164)\n"
     ]
    }
   ],
   "source": [
    "from pathlib import Path\n",
    "import pandas as pd\n",
    "\n",
    "# File paths\n",
    "raw_file = Path(\"data/raw/siab.csv\")\n",
    "cache_file = Path(\"data/siab_cached.csv.gz\")\n",
    "\n",
    "# Ensure cache directory exists\n",
    "cache_file.parent.mkdir(parents=True, exist_ok=True)\n",
    "\n",
    "# Load with simple caching\n",
    "if cache_file.exists():\n",
    "    print(f\"Loading SIAB data from cache: {cache_file}\")\n",
    "    siab = pd.read_csv(cache_file, compression='gzip')\n",
    "else:\n",
    "    print(f\"Cache not found. Reading raw SIAB data: {raw_file}\")\n",
    "    siab = pd.read_csv(raw_file)\n",
    "    siab.to_csv(cache_file, index=False, compression='gzip')\n",
    "    print(f\"Cached SIAB data to: {cache_file}\")\n",
    "\n",
    "print(siab.shape)"
   ]
  },
  {
   "cell_type": "code",
   "execution_count": 10,
   "id": "db0ca512-5f53-4dba-abdb-a2888bca41ba",
   "metadata": {
    "execution": {
     "iopub.execute_input": "2025-08-05T20:39:32.744104Z",
     "iopub.status.busy": "2025-08-05T20:39:32.743584Z",
     "iopub.status.idle": "2025-08-05T20:39:32.748273Z",
     "shell.execute_reply": "2025-08-05T20:39:32.747214Z"
    },
    "papermill": {
     "duration": 0.016271,
     "end_time": "2025-08-05T20:39:32.749913",
     "exception": false,
     "start_time": "2025-08-05T20:39:32.733642",
     "status": "completed"
    },
    "tags": []
   },
   "outputs": [],
   "source": [
    "#siab"
   ]
  },
  {
   "cell_type": "markdown",
   "id": "997051c5-15bd-4b69-9786-c3001a3ce484",
   "metadata": {
    "papermill": {
     "duration": 0.008616,
     "end_time": "2025-08-05T20:39:32.768099",
     "exception": false,
     "start_time": "2025-08-05T20:39:32.759483",
     "status": "completed"
    },
    "tags": []
   },
   "source": [
    "# Splitting Data and Setting Training Data Size"
   ]
  },
  {
   "cell_type": "code",
   "execution_count": 11,
   "id": "aea9c6ef-6f46-42c8-85eb-5a62025c1508",
   "metadata": {
    "execution": {
     "iopub.execute_input": "2025-08-05T20:39:32.786968Z",
     "iopub.status.busy": "2025-08-05T20:39:32.786448Z",
     "iopub.status.idle": "2025-08-05T20:39:32.991394Z",
     "shell.execute_reply": "2025-08-05T20:39:32.990605Z"
    },
    "papermill": {
     "duration": 0.216124,
     "end_time": "2025-08-05T20:39:32.992922",
     "exception": false,
     "start_time": "2025-08-05T20:39:32.776798",
     "status": "completed"
    },
    "tags": []
   },
   "outputs": [],
   "source": [
    "from fairness_multiverse.universe import sample_by_year_size\n",
    "\n",
    "siab_train = sample_by_year_size(siab,\n",
    "                               training_year=universe[\"training_year\"],\n",
    "                               training_size=universe[\"training_size\"])"
   ]
  },
  {
   "cell_type": "code",
   "execution_count": 12,
   "id": "8d3afb32-789d-442c-8d5d-9f5aa8dd2eed",
   "metadata": {
    "execution": {
     "iopub.execute_input": "2025-08-05T20:39:33.012383Z",
     "iopub.status.busy": "2025-08-05T20:39:33.012032Z",
     "iopub.status.idle": "2025-08-05T20:39:33.016266Z",
     "shell.execute_reply": "2025-08-05T20:39:33.015328Z"
    },
    "papermill": {
     "duration": 0.015435,
     "end_time": "2025-08-05T20:39:33.017799",
     "exception": false,
     "start_time": "2025-08-05T20:39:33.002364",
     "status": "completed"
    },
    "tags": []
   },
   "outputs": [],
   "source": [
    "#siab_train.shape"
   ]
  },
  {
   "cell_type": "code",
   "execution_count": 13,
   "id": "d582db68-1a4c-47fb-84fc-08518dc1975a",
   "metadata": {
    "execution": {
     "iopub.execute_input": "2025-08-05T20:39:33.039214Z",
     "iopub.status.busy": "2025-08-05T20:39:33.038377Z",
     "iopub.status.idle": "2025-08-05T20:39:33.042952Z",
     "shell.execute_reply": "2025-08-05T20:39:33.042202Z"
    },
    "papermill": {
     "duration": 0.01613,
     "end_time": "2025-08-05T20:39:33.044510",
     "exception": false,
     "start_time": "2025-08-05T20:39:33.028380",
     "status": "completed"
    },
    "tags": []
   },
   "outputs": [],
   "source": [
    "#display(siab_train.groupby(\"year\").size())"
   ]
  },
  {
   "cell_type": "code",
   "execution_count": 14,
   "id": "a561edb4-d032-42cb-8256-22eac1111c64",
   "metadata": {
    "execution": {
     "iopub.execute_input": "2025-08-05T20:39:33.066061Z",
     "iopub.status.busy": "2025-08-05T20:39:33.065473Z",
     "iopub.status.idle": "2025-08-05T20:39:33.246510Z",
     "shell.execute_reply": "2025-08-05T20:39:33.245737Z"
    },
    "papermill": {
     "duration": 0.193448,
     "end_time": "2025-08-05T20:39:33.248053",
     "exception": false,
     "start_time": "2025-08-05T20:39:33.054605",
     "status": "completed"
    },
    "tags": []
   },
   "outputs": [],
   "source": [
    "#siab_train = siab_s[siab_s.year < 2015]\n",
    "siab_calib = siab[siab.year == 2015]\n",
    "siab_test = siab[siab.year == 2016]"
   ]
  },
  {
   "cell_type": "code",
   "execution_count": 15,
   "id": "472de16f-c3db-4916-846b-1f0de9cf1746",
   "metadata": {
    "execution": {
     "iopub.execute_input": "2025-08-05T20:39:33.267672Z",
     "iopub.status.busy": "2025-08-05T20:39:33.267327Z",
     "iopub.status.idle": "2025-08-05T20:39:33.281542Z",
     "shell.execute_reply": "2025-08-05T20:39:33.280358Z"
    },
    "papermill": {
     "duration": 0.025599,
     "end_time": "2025-08-05T20:39:33.283170",
     "exception": false,
     "start_time": "2025-08-05T20:39:33.257571",
     "status": "completed"
    },
    "tags": []
   },
   "outputs": [],
   "source": [
    "X_train = siab_train.iloc[:,4:164]\n",
    "y_train = siab_train.iloc[:, [3]]"
   ]
  },
  {
   "cell_type": "code",
   "execution_count": 16,
   "id": "828c96af-f43a-4ed6-ba47-8ac73a47d56c",
   "metadata": {
    "execution": {
     "iopub.execute_input": "2025-08-05T20:39:33.321315Z",
     "iopub.status.busy": "2025-08-05T20:39:33.320517Z",
     "iopub.status.idle": "2025-08-05T20:39:33.370534Z",
     "shell.execute_reply": "2025-08-05T20:39:33.369569Z"
    },
    "papermill": {
     "duration": 0.072341,
     "end_time": "2025-08-05T20:39:33.372849",
     "exception": false,
     "start_time": "2025-08-05T20:39:33.300508",
     "status": "completed"
    },
    "tags": []
   },
   "outputs": [],
   "source": [
    "X_calib = siab_calib.iloc[:,4:164]\n",
    "y_calib = siab_calib.iloc[:, [3]]"
   ]
  },
  {
   "cell_type": "code",
   "execution_count": 17,
   "id": "c34be9c3-6bd6-476e-acd3-845840e303be",
   "metadata": {
    "execution": {
     "iopub.execute_input": "2025-08-05T20:39:33.407441Z",
     "iopub.status.busy": "2025-08-05T20:39:33.406601Z",
     "iopub.status.idle": "2025-08-05T20:39:33.454907Z",
     "shell.execute_reply": "2025-08-05T20:39:33.454093Z"
    },
    "papermill": {
     "duration": 0.060012,
     "end_time": "2025-08-05T20:39:33.456707",
     "exception": false,
     "start_time": "2025-08-05T20:39:33.396695",
     "status": "completed"
    },
    "tags": []
   },
   "outputs": [],
   "source": [
    "X_test = siab_test.iloc[:,4:164]\n",
    "y_true = siab_test.iloc[:, [3]]"
   ]
  },
  {
   "cell_type": "code",
   "execution_count": 18,
   "id": "e6c733c5",
   "metadata": {
    "execution": {
     "iopub.execute_input": "2025-08-05T20:39:33.477537Z",
     "iopub.status.busy": "2025-08-05T20:39:33.476839Z",
     "iopub.status.idle": "2025-08-05T20:39:33.566590Z",
     "shell.execute_reply": "2025-08-05T20:39:33.565807Z"
    },
    "papermill": {
     "duration": 0.101073,
     "end_time": "2025-08-05T20:39:33.568115",
     "exception": false,
     "start_time": "2025-08-05T20:39:33.467042",
     "status": "completed"
    },
    "tags": []
   },
   "outputs": [],
   "source": [
    "# Auxiliary data needed downstream in the pipeline\n",
    "\n",
    "org_train = X_train.copy()\n",
    "org_test = X_test.copy()\n",
    "org_calib = X_calib.copy()"
   ]
  },
  {
   "cell_type": "markdown",
   "id": "0a4a1b33",
   "metadata": {
    "papermill": {
     "duration": 0.008882,
     "end_time": "2025-08-05T20:39:33.586507",
     "exception": false,
     "start_time": "2025-08-05T20:39:33.577625",
     "status": "completed"
    },
    "tags": []
   },
   "source": [
    "# Preprocessing Data"
   ]
  },
  {
   "cell_type": "code",
   "execution_count": 19,
   "id": "ca879031",
   "metadata": {
    "execution": {
     "iopub.execute_input": "2025-08-05T20:39:33.606099Z",
     "iopub.status.busy": "2025-08-05T20:39:33.605579Z",
     "iopub.status.idle": "2025-08-05T20:39:33.610772Z",
     "shell.execute_reply": "2025-08-05T20:39:33.610001Z"
    },
    "papermill": {
     "duration": 0.016665,
     "end_time": "2025-08-05T20:39:33.612112",
     "exception": false,
     "start_time": "2025-08-05T20:39:33.595447",
     "status": "completed"
    },
    "tags": []
   },
   "outputs": [],
   "source": [
    "# EXCLUDE PROTECTED FEATURES\n",
    "# ----------------------\n",
    "# \"exclude_features\": \"none\", # \"nationality\", \"sex\", \"nationality-sex\"\n",
    "\n",
    "excluded_features = universe[\"exclude_features\"].split(\"-\") # split, e.g.: \"nationality-sex\" -> [\"nationality\", \"sex\"]\n",
    "excluded_features_dictionary = {\n",
    "    \"nationality\": [\"maxdeutsch1\", \"maxdeutsch.Missing.\"],\n",
    "    \"sex\": [\"frau1\"],\n",
    "    \"age\": [\"age\"],\n",
    "}"
   ]
  },
  {
   "cell_type": "code",
   "execution_count": 20,
   "id": "b745ac60",
   "metadata": {
    "execution": {
     "iopub.execute_input": "2025-08-05T20:39:33.633151Z",
     "iopub.status.busy": "2025-08-05T20:39:33.632411Z",
     "iopub.status.idle": "2025-08-05T20:39:33.637417Z",
     "shell.execute_reply": "2025-08-05T20:39:33.636684Z"
    },
    "papermill": {
     "duration": 0.016931,
     "end_time": "2025-08-05T20:39:33.639579",
     "exception": false,
     "start_time": "2025-08-05T20:39:33.622648",
     "status": "completed"
    },
    "tags": []
   },
   "outputs": [],
   "source": [
    "# Code nice names to column names\n",
    "\n",
    "excluded_features_columns = [\n",
    "    excluded_features_dictionary[f] for f in excluded_features if len(f) > 0 and f != \"none\"\n",
    "]"
   ]
  },
  {
   "cell_type": "code",
   "execution_count": 21,
   "id": "f84f73a2",
   "metadata": {
    "execution": {
     "iopub.execute_input": "2025-08-05T20:39:33.680146Z",
     "iopub.status.busy": "2025-08-05T20:39:33.679515Z",
     "iopub.status.idle": "2025-08-05T20:39:33.686824Z",
     "shell.execute_reply": "2025-08-05T20:39:33.686038Z"
    },
    "papermill": {
     "duration": 0.029263,
     "end_time": "2025-08-05T20:39:33.688361",
     "exception": false,
     "start_time": "2025-08-05T20:39:33.659098",
     "status": "completed"
    },
    "tags": []
   },
   "outputs": [],
   "source": [
    "from utils import flatten_once\n",
    "\n",
    "excluded_features_columns = flatten_once(excluded_features_columns)"
   ]
  },
  {
   "cell_type": "code",
   "execution_count": 22,
   "id": "884dea22",
   "metadata": {
    "execution": {
     "iopub.execute_input": "2025-08-05T20:39:33.709460Z",
     "iopub.status.busy": "2025-08-05T20:39:33.708648Z",
     "iopub.status.idle": "2025-08-05T20:39:33.713771Z",
     "shell.execute_reply": "2025-08-05T20:39:33.712864Z"
    },
    "papermill": {
     "duration": 0.016642,
     "end_time": "2025-08-05T20:39:33.715421",
     "exception": false,
     "start_time": "2025-08-05T20:39:33.698779",
     "status": "completed"
    },
    "tags": []
   },
   "outputs": [],
   "source": [
    "if len(excluded_features_columns) > 0:\n",
    "    print(f\"Dropping features: {excluded_features_columns}\")\n",
    "    X_train.drop(excluded_features_columns, axis=1, inplace=True)"
   ]
  },
  {
   "cell_type": "code",
   "execution_count": 23,
   "id": "95ab8b16",
   "metadata": {
    "execution": {
     "iopub.execute_input": "2025-08-05T20:39:33.736712Z",
     "iopub.status.busy": "2025-08-05T20:39:33.735844Z",
     "iopub.status.idle": "2025-08-05T20:39:33.742016Z",
     "shell.execute_reply": "2025-08-05T20:39:33.741186Z"
    },
    "papermill": {
     "duration": 0.017972,
     "end_time": "2025-08-05T20:39:33.743598",
     "exception": false,
     "start_time": "2025-08-05T20:39:33.725626",
     "status": "completed"
    },
    "tags": []
   },
   "outputs": [],
   "source": [
    "if len(excluded_features_columns) > 0:\n",
    "    print(f\"Dropping features: {excluded_features_columns}\")\n",
    "    X_test.drop(excluded_features_columns, axis=1, inplace=True)"
   ]
  },
  {
   "cell_type": "code",
   "execution_count": 24,
   "id": "1853aaf5-fb9f-46cb-a2b5-8ea4ae2237e4",
   "metadata": {
    "execution": {
     "iopub.execute_input": "2025-08-05T20:39:33.764307Z",
     "iopub.status.busy": "2025-08-05T20:39:33.763977Z",
     "iopub.status.idle": "2025-08-05T20:39:33.768688Z",
     "shell.execute_reply": "2025-08-05T20:39:33.767898Z"
    },
    "papermill": {
     "duration": 0.016985,
     "end_time": "2025-08-05T20:39:33.771089",
     "exception": false,
     "start_time": "2025-08-05T20:39:33.754104",
     "status": "completed"
    },
    "tags": []
   },
   "outputs": [],
   "source": [
    "if len(excluded_features_columns) > 0:\n",
    "    print(f\"Dropping features: {excluded_features_columns}\")\n",
    "    X_calib.drop(excluded_features_columns, axis=1, inplace=True)"
   ]
  },
  {
   "cell_type": "code",
   "execution_count": 25,
   "id": "76c4dc6d",
   "metadata": {
    "execution": {
     "iopub.execute_input": "2025-08-05T20:39:33.825110Z",
     "iopub.status.busy": "2025-08-05T20:39:33.823965Z",
     "iopub.status.idle": "2025-08-05T20:39:33.831008Z",
     "shell.execute_reply": "2025-08-05T20:39:33.829740Z"
    },
    "papermill": {
     "duration": 0.036504,
     "end_time": "2025-08-05T20:39:33.833703",
     "exception": false,
     "start_time": "2025-08-05T20:39:33.797199",
     "status": "completed"
    },
    "tags": []
   },
   "outputs": [],
   "source": [
    "# EXCLUDE CERTAIN SUBGROUPS\n",
    "# ----------------------\n",
    "\n",
    "mode = universe.get(\"exclude_subgroups\", \"keep-all\") \n",
    "# Fetches the exclude_subgroups setting from the universe dict.\n",
    "# Defaults to \"keep-all\" if the key is missing."
   ]
  },
  {
   "cell_type": "code",
   "execution_count": 26,
   "id": "21994072",
   "metadata": {
    "execution": {
     "iopub.execute_input": "2025-08-05T20:39:33.887020Z",
     "iopub.status.busy": "2025-08-05T20:39:33.885869Z",
     "iopub.status.idle": "2025-08-05T20:39:33.893811Z",
     "shell.execute_reply": "2025-08-05T20:39:33.892401Z"
    },
    "papermill": {
     "duration": 0.036867,
     "end_time": "2025-08-05T20:39:33.896228",
     "exception": false,
     "start_time": "2025-08-05T20:39:33.859361",
     "status": "completed"
    },
    "tags": []
   },
   "outputs": [],
   "source": [
    "if mode == \"keep-all\":\n",
    "    keep_mask = pd.Series(True, index=org_train.index)\n",
    "\n",
    "# org_train contains the original feature columns from features_org (in Simson)\n",
    "# features_org contains unprocessed features, for me X_train at beginning ???\n",
    "# For keep-all, creates a boolean Series (keep_mask) of all True, so no rows are removed.\n",
    "\n",
    "elif mode == \"drop-non-german\":\n",
    "    keep_mask = org_train[\"maxdeutsch1\"] == 1 # ??? what about missing values?\n",
    "\n",
    "else:\n",
    "    raise ValueError(f\"Unsupported mode for exclude_subgroups: {mode}\")"
   ]
  },
  {
   "cell_type": "code",
   "execution_count": 27,
   "id": "71651440",
   "metadata": {
    "execution": {
     "iopub.execute_input": "2025-08-05T20:39:33.949659Z",
     "iopub.status.busy": "2025-08-05T20:39:33.948816Z",
     "iopub.status.idle": "2025-08-05T20:39:33.960394Z",
     "shell.execute_reply": "2025-08-05T20:39:33.959100Z"
    },
    "papermill": {
     "duration": 0.04078,
     "end_time": "2025-08-05T20:39:33.962816",
     "exception": false,
     "start_time": "2025-08-05T20:39:33.922036",
     "status": "completed"
    },
    "tags": []
   },
   "outputs": [
    {
     "name": "stdout",
     "output_type": "stream",
     "text": [
      "Dropping 3688 rows (14.75%) where mode='drop-non-german'\n"
     ]
    }
   ],
   "source": [
    "n_drop = (~keep_mask).sum() # Calculates how many rows are set to be dropped\n",
    "if n_drop > 0:\n",
    "    pct = n_drop / len(keep_mask) * 100\n",
    "    print(f\"Dropping {n_drop} rows ({pct:.2f}%) where mode='{mode}'\")"
   ]
  },
  {
   "cell_type": "code",
   "execution_count": 28,
   "id": "5fb8eee5",
   "metadata": {
    "execution": {
     "iopub.execute_input": "2025-08-05T20:39:34.021882Z",
     "iopub.status.busy": "2025-08-05T20:39:34.021400Z",
     "iopub.status.idle": "2025-08-05T20:39:34.037263Z",
     "shell.execute_reply": "2025-08-05T20:39:34.035953Z"
    },
    "papermill": {
     "duration": 0.046014,
     "end_time": "2025-08-05T20:39:34.039732",
     "exception": false,
     "start_time": "2025-08-05T20:39:33.993718",
     "status": "completed"
    },
    "tags": []
   },
   "outputs": [],
   "source": [
    "X_train = X_train[keep_mask]"
   ]
  },
  {
   "cell_type": "code",
   "execution_count": 29,
   "id": "b202bb3a",
   "metadata": {
    "execution": {
     "iopub.execute_input": "2025-08-05T20:39:34.094042Z",
     "iopub.status.busy": "2025-08-05T20:39:34.092894Z",
     "iopub.status.idle": "2025-08-05T20:39:34.100720Z",
     "shell.execute_reply": "2025-08-05T20:39:34.099567Z"
    },
    "papermill": {
     "duration": 0.037003,
     "end_time": "2025-08-05T20:39:34.102929",
     "exception": false,
     "start_time": "2025-08-05T20:39:34.065926",
     "status": "completed"
    },
    "tags": []
   },
   "outputs": [],
   "source": [
    "y_train = y_train[keep_mask]"
   ]
  },
  {
   "cell_type": "markdown",
   "id": "493e2ac3",
   "metadata": {
    "papermill": {
     "duration": 0.025661,
     "end_time": "2025-08-05T20:39:34.154647",
     "exception": false,
     "start_time": "2025-08-05T20:39:34.128986",
     "status": "completed"
    },
    "tags": []
   },
   "source": [
    "# Model Training"
   ]
  },
  {
   "cell_type": "code",
   "execution_count": 30,
   "id": "679e1268",
   "metadata": {
    "execution": {
     "iopub.execute_input": "2025-08-05T20:39:34.192603Z",
     "iopub.status.busy": "2025-08-05T20:39:34.192071Z",
     "iopub.status.idle": "2025-08-05T20:39:34.279845Z",
     "shell.execute_reply": "2025-08-05T20:39:34.278686Z"
    },
    "papermill": {
     "duration": 0.10917,
     "end_time": "2025-08-05T20:39:34.282151",
     "exception": false,
     "start_time": "2025-08-05T20:39:34.172981",
     "status": "completed"
    },
    "tags": []
   },
   "outputs": [],
   "source": [
    "from sklearn.linear_model import LogisticRegression\n",
    "from sklearn.ensemble import GradientBoostingClassifier, RandomForestClassifier\n",
    "\n",
    "if (universe[\"model\"] == \"logreg\"):\n",
    "    model = LogisticRegression() #penalty=\"none\", solver=\"newton-cg\", max_iter=1) # include random_state=19 ?\n",
    "elif (universe[\"model\"] == \"penalized_logreg\"):\n",
    "    model = LogisticRegression(penalty=\"l2\", C=0.1) #, solver=\"newton-cg\", max_iter=1)\n",
    "elif (universe[\"model\"] == \"rf\"):\n",
    "    model = RandomForestClassifier() # n_estimators=100, n_jobs=-1\n",
    "elif (universe[\"model\"] == \"gbm\"):\n",
    "    model = GradientBoostingClassifier()\n",
    "elif (universe[\"model\"] == \"elasticnet\"):\n",
    "    model = LogisticRegression(penalty = 'elasticnet', solver = 'saga', l1_ratio = 0.5) # max_iter=5000\n",
    "else:\n",
    "    raise \"Unsupported universe.model\""
   ]
  },
  {
   "cell_type": "code",
   "execution_count": 31,
   "id": "0cc8f744",
   "metadata": {
    "execution": {
     "iopub.execute_input": "2025-08-05T20:39:34.326778Z",
     "iopub.status.busy": "2025-08-05T20:39:34.326312Z",
     "iopub.status.idle": "2025-08-05T20:39:34.333507Z",
     "shell.execute_reply": "2025-08-05T20:39:34.332540Z"
    },
    "papermill": {
     "duration": 0.030869,
     "end_time": "2025-08-05T20:39:34.335568",
     "exception": false,
     "start_time": "2025-08-05T20:39:34.304699",
     "status": "completed"
    },
    "tags": []
   },
   "outputs": [],
   "source": [
    "import numpy as np\n",
    "from sklearn.pipeline import Pipeline\n",
    "from sklearn.preprocessing import StandardScaler\n",
    "\n",
    "model = Pipeline([\n",
    "    #(\"continuous_processor\", continuous_processor),\n",
    "    #(\"categorical_preprocessor\", categorical_preprocessor),\n",
    "    (\"scale\", StandardScaler() if universe[\"scale\"] == \"scale\" else None), \n",
    "    (\"model\", model),\n",
    "])"
   ]
  },
  {
   "cell_type": "code",
   "execution_count": 32,
   "id": "9442c04d",
   "metadata": {
    "execution": {
     "iopub.execute_input": "2025-08-05T20:39:34.379608Z",
     "iopub.status.busy": "2025-08-05T20:39:34.379142Z",
     "iopub.status.idle": "2025-08-05T20:39:41.684747Z",
     "shell.execute_reply": "2025-08-05T20:39:41.684045Z"
    },
    "papermill": {
     "duration": 7.329505,
     "end_time": "2025-08-05T20:39:41.686002",
     "exception": false,
     "start_time": "2025-08-05T20:39:34.356497",
     "status": "completed"
    },
    "tags": []
   },
   "outputs": [
    {
     "name": "stderr",
     "output_type": "stream",
     "text": [
      "/dss/dsshome1/0C/ra93lal2/.local/share/virtualenvs/CMA_Fairness_v2-3j10GkSs/lib/python3.10/site-packages/sklearn/linear_model/_sag.py:350: ConvergenceWarning: The max_iter was reached which means the coef_ did not converge\n",
      "  warnings.warn(\n"
     ]
    },
    {
     "data": {
      "text/html": [
       "<style>#sk-container-id-1 {color: black;background-color: white;}#sk-container-id-1 pre{padding: 0;}#sk-container-id-1 div.sk-toggleable {background-color: white;}#sk-container-id-1 label.sk-toggleable__label {cursor: pointer;display: block;width: 100%;margin-bottom: 0;padding: 0.3em;box-sizing: border-box;text-align: center;}#sk-container-id-1 label.sk-toggleable__label-arrow:before {content: \"▸\";float: left;margin-right: 0.25em;color: #696969;}#sk-container-id-1 label.sk-toggleable__label-arrow:hover:before {color: black;}#sk-container-id-1 div.sk-estimator:hover label.sk-toggleable__label-arrow:before {color: black;}#sk-container-id-1 div.sk-toggleable__content {max-height: 0;max-width: 0;overflow: hidden;text-align: left;background-color: #f0f8ff;}#sk-container-id-1 div.sk-toggleable__content pre {margin: 0.2em;color: black;border-radius: 0.25em;background-color: #f0f8ff;}#sk-container-id-1 input.sk-toggleable__control:checked~div.sk-toggleable__content {max-height: 200px;max-width: 100%;overflow: auto;}#sk-container-id-1 input.sk-toggleable__control:checked~label.sk-toggleable__label-arrow:before {content: \"▾\";}#sk-container-id-1 div.sk-estimator input.sk-toggleable__control:checked~label.sk-toggleable__label {background-color: #d4ebff;}#sk-container-id-1 div.sk-label input.sk-toggleable__control:checked~label.sk-toggleable__label {background-color: #d4ebff;}#sk-container-id-1 input.sk-hidden--visually {border: 0;clip: rect(1px 1px 1px 1px);clip: rect(1px, 1px, 1px, 1px);height: 1px;margin: -1px;overflow: hidden;padding: 0;position: absolute;width: 1px;}#sk-container-id-1 div.sk-estimator {font-family: monospace;background-color: #f0f8ff;border: 1px dotted black;border-radius: 0.25em;box-sizing: border-box;margin-bottom: 0.5em;}#sk-container-id-1 div.sk-estimator:hover {background-color: #d4ebff;}#sk-container-id-1 div.sk-parallel-item::after {content: \"\";width: 100%;border-bottom: 1px solid gray;flex-grow: 1;}#sk-container-id-1 div.sk-label:hover label.sk-toggleable__label {background-color: #d4ebff;}#sk-container-id-1 div.sk-serial::before {content: \"\";position: absolute;border-left: 1px solid gray;box-sizing: border-box;top: 0;bottom: 0;left: 50%;z-index: 0;}#sk-container-id-1 div.sk-serial {display: flex;flex-direction: column;align-items: center;background-color: white;padding-right: 0.2em;padding-left: 0.2em;position: relative;}#sk-container-id-1 div.sk-item {position: relative;z-index: 1;}#sk-container-id-1 div.sk-parallel {display: flex;align-items: stretch;justify-content: center;background-color: white;position: relative;}#sk-container-id-1 div.sk-item::before, #sk-container-id-1 div.sk-parallel-item::before {content: \"\";position: absolute;border-left: 1px solid gray;box-sizing: border-box;top: 0;bottom: 0;left: 50%;z-index: -1;}#sk-container-id-1 div.sk-parallel-item {display: flex;flex-direction: column;z-index: 1;position: relative;background-color: white;}#sk-container-id-1 div.sk-parallel-item:first-child::after {align-self: flex-end;width: 50%;}#sk-container-id-1 div.sk-parallel-item:last-child::after {align-self: flex-start;width: 50%;}#sk-container-id-1 div.sk-parallel-item:only-child::after {width: 0;}#sk-container-id-1 div.sk-dashed-wrapped {border: 1px dashed gray;margin: 0 0.4em 0.5em 0.4em;box-sizing: border-box;padding-bottom: 0.4em;background-color: white;}#sk-container-id-1 div.sk-label label {font-family: monospace;font-weight: bold;display: inline-block;line-height: 1.2em;}#sk-container-id-1 div.sk-label-container {text-align: center;}#sk-container-id-1 div.sk-container {/* jupyter's `normalize.less` sets `[hidden] { display: none; }` but bootstrap.min.css set `[hidden] { display: none !important; }` so we also need the `!important` here to be able to override the default hidden behavior on the sphinx rendered scikit-learn.org. See: https://github.com/scikit-learn/scikit-learn/issues/21755 */display: inline-block !important;position: relative;}#sk-container-id-1 div.sk-text-repr-fallback {display: none;}</style><div id=\"sk-container-id-1\" class=\"sk-top-container\"><div class=\"sk-text-repr-fallback\"><pre>Pipeline(steps=[(&#x27;scale&#x27;, StandardScaler()),\n",
       "                (&#x27;model&#x27;,\n",
       "                 LogisticRegression(l1_ratio=0.5, penalty=&#x27;elasticnet&#x27;,\n",
       "                                    solver=&#x27;saga&#x27;))])</pre><b>In a Jupyter environment, please rerun this cell to show the HTML representation or trust the notebook. <br />On GitHub, the HTML representation is unable to render, please try loading this page with nbviewer.org.</b></div><div class=\"sk-container\" hidden><div class=\"sk-item sk-dashed-wrapped\"><div class=\"sk-label-container\"><div class=\"sk-label sk-toggleable\"><input class=\"sk-toggleable__control sk-hidden--visually\" id=\"sk-estimator-id-1\" type=\"checkbox\" ><label for=\"sk-estimator-id-1\" class=\"sk-toggleable__label sk-toggleable__label-arrow\">Pipeline</label><div class=\"sk-toggleable__content\"><pre>Pipeline(steps=[(&#x27;scale&#x27;, StandardScaler()),\n",
       "                (&#x27;model&#x27;,\n",
       "                 LogisticRegression(l1_ratio=0.5, penalty=&#x27;elasticnet&#x27;,\n",
       "                                    solver=&#x27;saga&#x27;))])</pre></div></div></div><div class=\"sk-serial\"><div class=\"sk-item\"><div class=\"sk-estimator sk-toggleable\"><input class=\"sk-toggleable__control sk-hidden--visually\" id=\"sk-estimator-id-2\" type=\"checkbox\" ><label for=\"sk-estimator-id-2\" class=\"sk-toggleable__label sk-toggleable__label-arrow\">StandardScaler</label><div class=\"sk-toggleable__content\"><pre>StandardScaler()</pre></div></div></div><div class=\"sk-item\"><div class=\"sk-estimator sk-toggleable\"><input class=\"sk-toggleable__control sk-hidden--visually\" id=\"sk-estimator-id-3\" type=\"checkbox\" ><label for=\"sk-estimator-id-3\" class=\"sk-toggleable__label sk-toggleable__label-arrow\">LogisticRegression</label><div class=\"sk-toggleable__content\"><pre>LogisticRegression(l1_ratio=0.5, penalty=&#x27;elasticnet&#x27;, solver=&#x27;saga&#x27;)</pre></div></div></div></div></div></div></div>"
      ],
      "text/plain": [
       "Pipeline(steps=[('scale', StandardScaler()),\n",
       "                ('model',\n",
       "                 LogisticRegression(l1_ratio=0.5, penalty='elasticnet',\n",
       "                                    solver='saga'))])"
      ]
     },
     "execution_count": 32,
     "metadata": {},
     "output_type": "execute_result"
    }
   ],
   "source": [
    "model.fit(X_train, y_train.values.ravel())"
   ]
  },
  {
   "cell_type": "code",
   "execution_count": 33,
   "id": "af59f8c0",
   "metadata": {
    "execution": {
     "iopub.execute_input": "2025-08-05T20:39:41.708961Z",
     "iopub.status.busy": "2025-08-05T20:39:41.708210Z",
     "iopub.status.idle": "2025-08-05T20:39:41.712709Z",
     "shell.execute_reply": "2025-08-05T20:39:41.712008Z"
    },
    "papermill": {
     "duration": 0.016138,
     "end_time": "2025-08-05T20:39:41.714180",
     "exception": false,
     "start_time": "2025-08-05T20:39:41.698042",
     "status": "completed"
    },
    "tags": []
   },
   "outputs": [],
   "source": [
    "from fairness_multiverse.universe import predict_w_threshold"
   ]
  },
  {
   "cell_type": "code",
   "execution_count": 34,
   "id": "a7cf2e16",
   "metadata": {
    "execution": {
     "iopub.execute_input": "2025-08-05T20:39:41.735537Z",
     "iopub.status.busy": "2025-08-05T20:39:41.735029Z",
     "iopub.status.idle": "2025-08-05T20:39:41.905738Z",
     "shell.execute_reply": "2025-08-05T20:39:41.904719Z"
    },
    "papermill": {
     "duration": 0.182322,
     "end_time": "2025-08-05T20:39:41.907010",
     "exception": false,
     "start_time": "2025-08-05T20:39:41.724688",
     "status": "completed"
    },
    "tags": []
   },
   "outputs": [
    {
     "data": {
      "text/plain": [
       "0.8656002675287036"
      ]
     },
     "execution_count": 34,
     "metadata": {},
     "output_type": "execute_result"
    }
   ],
   "source": [
    "probs_test = model.predict_proba(X_test)\n",
    "\n",
    "'''\n",
    "Below code returns a boolean array (or binary 0/1 array depending on how it’s used) where each element \n",
    "is True if the probability of class 1 is greater than or equal to the threshold, and False otherwise.\n",
    "'''\n",
    "y_pred_default = predict_w_threshold(probs_test, 0.5)\n",
    "\n",
    "from sklearn.metrics import accuracy_score\n",
    "\n",
    "# Naive prediction\n",
    "accuracy_score(y_true = y_true, y_pred = y_pred_default)"
   ]
  },
  {
   "cell_type": "code",
   "execution_count": 35,
   "id": "081964c3",
   "metadata": {
    "execution": {
     "iopub.execute_input": "2025-08-05T20:39:41.928381Z",
     "iopub.status.busy": "2025-08-05T20:39:41.928063Z",
     "iopub.status.idle": "2025-08-05T20:39:42.091526Z",
     "shell.execute_reply": "2025-08-05T20:39:42.090665Z"
    },
    "papermill": {
     "duration": 0.175315,
     "end_time": "2025-08-05T20:39:42.092842",
     "exception": false,
     "start_time": "2025-08-05T20:39:41.917527",
     "status": "completed"
    },
    "tags": []
   },
   "outputs": [
    {
     "data": {
      "text/plain": [
       "array([0, 0, 0, ..., 0, 0, 0])"
      ]
     },
     "execution_count": 35,
     "metadata": {},
     "output_type": "execute_result"
    }
   ],
   "source": [
    "model.predict(X_test)"
   ]
  },
  {
   "cell_type": "markdown",
   "id": "56c9705b",
   "metadata": {
    "papermill": {
     "duration": 0.009718,
     "end_time": "2025-08-05T20:39:42.112951",
     "exception": false,
     "start_time": "2025-08-05T20:39:42.103233",
     "status": "completed"
    },
    "tags": []
   },
   "source": [
    "# Conformal Prediction"
   ]
  },
  {
   "cell_type": "code",
   "execution_count": 36,
   "id": "160ec6ff",
   "metadata": {
    "execution": {
     "iopub.execute_input": "2025-08-05T20:39:42.133993Z",
     "iopub.status.busy": "2025-08-05T20:39:42.133284Z",
     "iopub.status.idle": "2025-08-05T20:39:42.137704Z",
     "shell.execute_reply": "2025-08-05T20:39:42.136965Z"
    },
    "papermill": {
     "duration": 0.016387,
     "end_time": "2025-08-05T20:39:42.139140",
     "exception": false,
     "start_time": "2025-08-05T20:39:42.122753",
     "status": "completed"
    },
    "tags": []
   },
   "outputs": [],
   "source": [
    "# Miscoverage level for conformal prediction (10% allowed error rate => 90% target coverage)\n",
    "alpha = 0.1"
   ]
  },
  {
   "cell_type": "code",
   "execution_count": 37,
   "id": "eadf4555-3dd3-440e-8e35-f82a4ad9f855",
   "metadata": {
    "execution": {
     "iopub.execute_input": "2025-08-05T20:39:42.160573Z",
     "iopub.status.busy": "2025-08-05T20:39:42.160071Z",
     "iopub.status.idle": "2025-08-05T20:39:42.318062Z",
     "shell.execute_reply": "2025-08-05T20:39:42.317288Z"
    },
    "papermill": {
     "duration": 0.169839,
     "end_time": "2025-08-05T20:39:42.319541",
     "exception": false,
     "start_time": "2025-08-05T20:39:42.149702",
     "status": "completed"
    },
    "tags": []
   },
   "outputs": [],
   "source": [
    "probs_calib = model.predict_proba(X_calib)"
   ]
  },
  {
   "cell_type": "code",
   "execution_count": 38,
   "id": "2ed93547-6d5d-4983-9b36-1ecb300da49a",
   "metadata": {
    "execution": {
     "iopub.execute_input": "2025-08-05T20:39:42.340964Z",
     "iopub.status.busy": "2025-08-05T20:39:42.340667Z",
     "iopub.status.idle": "2025-08-05T20:39:42.345197Z",
     "shell.execute_reply": "2025-08-05T20:39:42.344474Z"
    },
    "papermill": {
     "duration": 0.016525,
     "end_time": "2025-08-05T20:39:42.346631",
     "exception": false,
     "start_time": "2025-08-05T20:39:42.330106",
     "status": "completed"
    },
    "tags": []
   },
   "outputs": [],
   "source": [
    "y_calib = y_calib.values.ravel().astype(int)"
   ]
  },
  {
   "cell_type": "code",
   "execution_count": 39,
   "id": "65d1320d-f588-4b38-9072-62af1ae97f7d",
   "metadata": {
    "execution": {
     "iopub.execute_input": "2025-08-05T20:39:42.367900Z",
     "iopub.status.busy": "2025-08-05T20:39:42.367413Z",
     "iopub.status.idle": "2025-08-05T20:39:42.373297Z",
     "shell.execute_reply": "2025-08-05T20:39:42.372539Z"
    },
    "papermill": {
     "duration": 0.017696,
     "end_time": "2025-08-05T20:39:42.374766",
     "exception": false,
     "start_time": "2025-08-05T20:39:42.357070",
     "status": "completed"
    },
    "tags": []
   },
   "outputs": [],
   "source": [
    "from fairness_multiverse.conformal import compute_nc_scores\n",
    "\n",
    "# Compute nonconformity scores on calibration set (1 - probability of true class)\n",
    "nc_scores = compute_nc_scores(probs_calib, y_calib)"
   ]
  },
  {
   "cell_type": "code",
   "execution_count": 40,
   "id": "df3b8ca3-53b7-43d5-9667-7c85da7aeda2",
   "metadata": {
    "execution": {
     "iopub.execute_input": "2025-08-05T20:39:42.396017Z",
     "iopub.status.busy": "2025-08-05T20:39:42.395511Z",
     "iopub.status.idle": "2025-08-05T20:39:42.400992Z",
     "shell.execute_reply": "2025-08-05T20:39:42.400143Z"
    },
    "papermill": {
     "duration": 0.017448,
     "end_time": "2025-08-05T20:39:42.402471",
     "exception": false,
     "start_time": "2025-08-05T20:39:42.385023",
     "status": "completed"
    },
    "tags": []
   },
   "outputs": [],
   "source": [
    "from fairness_multiverse.conformal import find_threshold\n",
    "\n",
    "# Find conformal threshold q_hat for the given alpha (split conformal method)\n",
    "q_hat = find_threshold(nc_scores, alpha)"
   ]
  },
  {
   "cell_type": "code",
   "execution_count": 41,
   "id": "4d29e6c1-0ef6-4aa4-b8fe-4fe79b0d033a",
   "metadata": {
    "execution": {
     "iopub.execute_input": "2025-08-05T20:39:42.423835Z",
     "iopub.status.busy": "2025-08-05T20:39:42.423503Z",
     "iopub.status.idle": "2025-08-05T20:39:42.429687Z",
     "shell.execute_reply": "2025-08-05T20:39:42.428970Z"
    },
    "papermill": {
     "duration": 0.018062,
     "end_time": "2025-08-05T20:39:42.431079",
     "exception": false,
     "start_time": "2025-08-05T20:39:42.413017",
     "status": "completed"
    },
    "tags": []
   },
   "outputs": [
    {
     "data": {
      "text/plain": [
       "0.6758755123061104"
      ]
     },
     "execution_count": 41,
     "metadata": {},
     "output_type": "execute_result"
    }
   ],
   "source": [
    "q_hat"
   ]
  },
  {
   "cell_type": "code",
   "execution_count": 42,
   "id": "92460794-cdac-4be2-ba28-f28c0515a6fb",
   "metadata": {
    "execution": {
     "iopub.execute_input": "2025-08-05T20:39:42.453106Z",
     "iopub.status.busy": "2025-08-05T20:39:42.452519Z",
     "iopub.status.idle": "2025-08-05T20:39:43.016992Z",
     "shell.execute_reply": "2025-08-05T20:39:43.016240Z"
    },
    "papermill": {
     "duration": 0.576755,
     "end_time": "2025-08-05T20:39:43.018527",
     "exception": false,
     "start_time": "2025-08-05T20:39:42.441772",
     "status": "completed"
    },
    "tags": []
   },
   "outputs": [],
   "source": [
    "from fairness_multiverse.conformal import predict_conformal_sets\n",
    "\n",
    "# Generate prediction sets for each test example\n",
    "pred_sets = predict_conformal_sets(model, X_test, q_hat)"
   ]
  },
  {
   "cell_type": "code",
   "execution_count": 43,
   "id": "d90c9a65-e6db-4f5d-80cd-e68fb7e46829",
   "metadata": {
    "execution": {
     "iopub.execute_input": "2025-08-05T20:39:43.040675Z",
     "iopub.status.busy": "2025-08-05T20:39:43.040360Z",
     "iopub.status.idle": "2025-08-05T20:39:43.044664Z",
     "shell.execute_reply": "2025-08-05T20:39:43.043785Z"
    },
    "papermill": {
     "duration": 0.016618,
     "end_time": "2025-08-05T20:39:43.046173",
     "exception": false,
     "start_time": "2025-08-05T20:39:43.029555",
     "status": "completed"
    },
    "tags": []
   },
   "outputs": [],
   "source": [
    "y_true = y_true.squeeze()"
   ]
  },
  {
   "cell_type": "code",
   "execution_count": 44,
   "id": "3a58a54a-1e68-46b9-927a-df01f18aebc8",
   "metadata": {
    "execution": {
     "iopub.execute_input": "2025-08-05T20:39:43.068055Z",
     "iopub.status.busy": "2025-08-05T20:39:43.067569Z",
     "iopub.status.idle": "2025-08-05T20:39:43.691893Z",
     "shell.execute_reply": "2025-08-05T20:39:43.691153Z"
    },
    "papermill": {
     "duration": 0.636322,
     "end_time": "2025-08-05T20:39:43.693302",
     "exception": false,
     "start_time": "2025-08-05T20:39:43.056980",
     "status": "completed"
    },
    "tags": []
   },
   "outputs": [],
   "source": [
    "from fairness_multiverse.conformal import evaluate_sets\n",
    "\n",
    "# Evaluate coverage and average set size on test data\n",
    "metrics = evaluate_sets(pred_sets, y_true)"
   ]
  },
  {
   "cell_type": "markdown",
   "id": "2b569c12-9aaa-4c88-98c9-bbcd0cf3ebb8",
   "metadata": {
    "papermill": {
     "duration": 0.01004,
     "end_time": "2025-08-05T20:39:43.714058",
     "exception": false,
     "start_time": "2025-08-05T20:39:43.704018",
     "status": "completed"
    },
    "tags": []
   },
   "source": [
    "# CP Metrics"
   ]
  },
  {
   "cell_type": "code",
   "execution_count": 45,
   "id": "5ce0a5cb-201f-45a0-ade5-94c7f0bd6095",
   "metadata": {
    "execution": {
     "iopub.execute_input": "2025-08-05T20:39:43.735772Z",
     "iopub.status.busy": "2025-08-05T20:39:43.735109Z",
     "iopub.status.idle": "2025-08-05T20:39:43.741379Z",
     "shell.execute_reply": "2025-08-05T20:39:43.740514Z"
    },
    "papermill": {
     "duration": 0.018792,
     "end_time": "2025-08-05T20:39:43.742780",
     "exception": false,
     "start_time": "2025-08-05T20:39:43.723988",
     "status": "completed"
    },
    "tags": []
   },
   "outputs": [
    {
     "data": {
      "text/plain": [
       "{'coverage': 0.9127299074796567, 'avg_size': 1.1258165198974472}"
      ]
     },
     "execution_count": 45,
     "metadata": {},
     "output_type": "execute_result"
    }
   ],
   "source": [
    "metrics"
   ]
  },
  {
   "cell_type": "code",
   "execution_count": 46,
   "id": "9b9a838d-31c9-430b-ae14-12baee460d17",
   "metadata": {
    "execution": {
     "iopub.execute_input": "2025-08-05T20:39:43.764987Z",
     "iopub.status.busy": "2025-08-05T20:39:43.764498Z",
     "iopub.status.idle": "2025-08-05T20:39:43.769115Z",
     "shell.execute_reply": "2025-08-05T20:39:43.768354Z"
    },
    "papermill": {
     "duration": 0.016879,
     "end_time": "2025-08-05T20:39:43.770632",
     "exception": false,
     "start_time": "2025-08-05T20:39:43.753753",
     "status": "completed"
    },
    "tags": []
   },
   "outputs": [],
   "source": [
    "example_universe = universe.copy()\n",
    "universe_training_year = example_universe.get(\"training_year\")\n",
    "universe_training_size = example_universe.get(\"training_size\")\n",
    "universe_scale = example_universe.get(\"scale\")\n",
    "universe_model = example_universe.get(\"model\")\n",
    "universe_exclude_features = example_universe.get(\"exclude_features\")\n",
    "universe_exclude_subgroups = example_universe.get(\"exclude_subgroups\")"
   ]
  },
  {
   "cell_type": "code",
   "execution_count": 47,
   "id": "f4b6a8ac-9dc0-4245-8a91-5b3b5999c4f9",
   "metadata": {
    "execution": {
     "iopub.execute_input": "2025-08-05T20:39:43.792801Z",
     "iopub.status.busy": "2025-08-05T20:39:43.792238Z",
     "iopub.status.idle": "2025-08-05T20:39:43.797187Z",
     "shell.execute_reply": "2025-08-05T20:39:43.796460Z"
    },
    "papermill": {
     "duration": 0.017517,
     "end_time": "2025-08-05T20:39:43.798925",
     "exception": false,
     "start_time": "2025-08-05T20:39:43.781408",
     "status": "completed"
    },
    "tags": []
   },
   "outputs": [],
   "source": [
    "cp_metrics_dict = {\n",
    "    \"universe_id\": [universe_id],\n",
    "    \"universe_training_year\": [universe_training_year],\n",
    "    \"universe_training_size\": [universe_training_size],\n",
    "    \"universe_scale\": [universe_scale],\n",
    "    \"universe_model\": [universe_model],\n",
    "    \"universe_exclude_features\": [universe_exclude_features],\n",
    "    \"universe_exclude_subgroups\": [universe_exclude_subgroups],\n",
    "    \"q_hat\": [q_hat],\n",
    "    \"coverage\": [metrics[\"coverage\"]],\n",
    "    \"avg_size\": [metrics[\"avg_size\"]],\n",
    "}"
   ]
  },
  {
   "cell_type": "code",
   "execution_count": 48,
   "id": "908acbb1-0371-4915-85ca-3fa520d2efe2",
   "metadata": {
    "execution": {
     "iopub.execute_input": "2025-08-05T20:39:43.821158Z",
     "iopub.status.busy": "2025-08-05T20:39:43.820762Z",
     "iopub.status.idle": "2025-08-05T20:39:43.827977Z",
     "shell.execute_reply": "2025-08-05T20:39:43.826937Z"
    },
    "papermill": {
     "duration": 0.019672,
     "end_time": "2025-08-05T20:39:43.829558",
     "exception": false,
     "start_time": "2025-08-05T20:39:43.809886",
     "status": "completed"
    },
    "tags": []
   },
   "outputs": [
    {
     "data": {
      "text/plain": [
       "{'universe_id': ['a2f5b00e3eceff8181cdf3dffe571a8a'],\n",
       " 'universe_training_year': ['2014'],\n",
       " 'universe_training_size': ['25k'],\n",
       " 'universe_scale': ['scale'],\n",
       " 'universe_model': ['elasticnet'],\n",
       " 'universe_exclude_features': ['none'],\n",
       " 'universe_exclude_subgroups': ['drop-non-german'],\n",
       " 'q_hat': [0.6758755123061104],\n",
       " 'coverage': [0.9127299074796567],\n",
       " 'avg_size': [1.1258165198974472]}"
      ]
     },
     "execution_count": 48,
     "metadata": {},
     "output_type": "execute_result"
    }
   ],
   "source": [
    "cp_metrics_dict"
   ]
  },
  {
   "cell_type": "code",
   "execution_count": 49,
   "id": "33007efc-14e9-4ec6-97ac-56a455c82265",
   "metadata": {
    "execution": {
     "iopub.execute_input": "2025-08-05T20:39:43.875593Z",
     "iopub.status.busy": "2025-08-05T20:39:43.874904Z",
     "iopub.status.idle": "2025-08-05T20:39:43.881615Z",
     "shell.execute_reply": "2025-08-05T20:39:43.880618Z"
    },
    "papermill": {
     "duration": 0.030346,
     "end_time": "2025-08-05T20:39:43.883489",
     "exception": false,
     "start_time": "2025-08-05T20:39:43.853143",
     "status": "completed"
    },
    "tags": []
   },
   "outputs": [],
   "source": [
    "cp_metrics_df = pd.DataFrame(cp_metrics_dict)"
   ]
  },
  {
   "cell_type": "code",
   "execution_count": 50,
   "id": "db12611b-57b2-4910-b9d0-355adfd6e7bf",
   "metadata": {
    "execution": {
     "iopub.execute_input": "2025-08-05T20:39:43.928166Z",
     "iopub.status.busy": "2025-08-05T20:39:43.927466Z",
     "iopub.status.idle": "2025-08-05T20:39:43.947408Z",
     "shell.execute_reply": "2025-08-05T20:39:43.946464Z"
    },
    "papermill": {
     "duration": 0.045736,
     "end_time": "2025-08-05T20:39:43.949040",
     "exception": false,
     "start_time": "2025-08-05T20:39:43.903304",
     "status": "completed"
    },
    "tags": []
   },
   "outputs": [
    {
     "data": {
      "text/html": [
       "<div>\n",
       "<style scoped>\n",
       "    .dataframe tbody tr th:only-of-type {\n",
       "        vertical-align: middle;\n",
       "    }\n",
       "\n",
       "    .dataframe tbody tr th {\n",
       "        vertical-align: top;\n",
       "    }\n",
       "\n",
       "    .dataframe thead th {\n",
       "        text-align: right;\n",
       "    }\n",
       "</style>\n",
       "<table border=\"1\" class=\"dataframe\">\n",
       "  <thead>\n",
       "    <tr style=\"text-align: right;\">\n",
       "      <th></th>\n",
       "      <th>universe_id</th>\n",
       "      <th>universe_training_year</th>\n",
       "      <th>universe_training_size</th>\n",
       "      <th>universe_scale</th>\n",
       "      <th>universe_model</th>\n",
       "      <th>universe_exclude_features</th>\n",
       "      <th>universe_exclude_subgroups</th>\n",
       "      <th>q_hat</th>\n",
       "      <th>coverage</th>\n",
       "      <th>avg_size</th>\n",
       "    </tr>\n",
       "  </thead>\n",
       "  <tbody>\n",
       "    <tr>\n",
       "      <th>0</th>\n",
       "      <td>a2f5b00e3eceff8181cdf3dffe571a8a</td>\n",
       "      <td>2014</td>\n",
       "      <td>25k</td>\n",
       "      <td>scale</td>\n",
       "      <td>elasticnet</td>\n",
       "      <td>none</td>\n",
       "      <td>drop-non-german</td>\n",
       "      <td>0.675876</td>\n",
       "      <td>0.91273</td>\n",
       "      <td>1.125817</td>\n",
       "    </tr>\n",
       "  </tbody>\n",
       "</table>\n",
       "</div>"
      ],
      "text/plain": [
       "                        universe_id universe_training_year  \\\n",
       "0  a2f5b00e3eceff8181cdf3dffe571a8a                   2014   \n",
       "\n",
       "  universe_training_size universe_scale universe_model  \\\n",
       "0                    25k          scale     elasticnet   \n",
       "\n",
       "  universe_exclude_features universe_exclude_subgroups     q_hat  coverage  \\\n",
       "0                      none            drop-non-german  0.675876   0.91273   \n",
       "\n",
       "   avg_size  \n",
       "0  1.125817  "
      ]
     },
     "execution_count": 50,
     "metadata": {},
     "output_type": "execute_result"
    }
   ],
   "source": [
    "cp_metrics_df"
   ]
  },
  {
   "cell_type": "code",
   "execution_count": 51,
   "id": "b7fbde55-a0a1-47e4-9af6-fe4a17fa8c61",
   "metadata": {
    "execution": {
     "iopub.execute_input": "2025-08-05T20:39:43.993599Z",
     "iopub.status.busy": "2025-08-05T20:39:43.992742Z",
     "iopub.status.idle": "2025-08-05T20:39:43.998086Z",
     "shell.execute_reply": "2025-08-05T20:39:43.997014Z"
    },
    "papermill": {
     "duration": 0.029224,
     "end_time": "2025-08-05T20:39:43.999899",
     "exception": false,
     "start_time": "2025-08-05T20:39:43.970675",
     "status": "completed"
    },
    "tags": []
   },
   "outputs": [],
   "source": [
    "# Conditional Coverage & looking at subgroups"
   ]
  },
  {
   "cell_type": "code",
   "execution_count": 52,
   "id": "027ae886-68dd-4141-96c7-805a5450e1ef",
   "metadata": {
    "execution": {
     "iopub.execute_input": "2025-08-05T20:39:44.045621Z",
     "iopub.status.busy": "2025-08-05T20:39:44.044926Z",
     "iopub.status.idle": "2025-08-05T20:39:44.333245Z",
     "shell.execute_reply": "2025-08-05T20:39:44.332244Z"
    },
    "papermill": {
     "duration": 0.312937,
     "end_time": "2025-08-05T20:39:44.335276",
     "exception": false,
     "start_time": "2025-08-05T20:39:44.022339",
     "status": "completed"
    },
    "tags": []
   },
   "outputs": [],
   "source": [
    "from fairness_multiverse.conformal import build_cp_groups\n",
    "\n",
    "cp_groups_df = build_cp_groups(pred_sets, y_true, X_test.index, org_test)\n",
    "#needs universe_id and setting"
   ]
  },
  {
   "cell_type": "code",
   "execution_count": 53,
   "id": "6cbdab96-b2b2-45af-ad54-d0516db2e28d",
   "metadata": {
    "execution": {
     "iopub.execute_input": "2025-08-05T20:39:44.383870Z",
     "iopub.status.busy": "2025-08-05T20:39:44.382917Z",
     "iopub.status.idle": "2025-08-05T20:39:45.807834Z",
     "shell.execute_reply": "2025-08-05T20:39:45.806681Z"
    },
    "papermill": {
     "duration": 1.45031,
     "end_time": "2025-08-05T20:39:45.810410",
     "exception": false,
     "start_time": "2025-08-05T20:39:44.360100",
     "status": "completed"
    },
    "tags": []
   },
   "outputs": [],
   "source": [
    "# Define covered = 1 if true_label is in the predicted set\n",
    "cp_groups_df['covered'] = cp_groups_df.apply(\n",
    "    lambda r: int(r['true_label'] in r['pred_set']),\n",
    "    axis=1\n",
    ")"
   ]
  },
  {
   "cell_type": "code",
   "execution_count": 54,
   "id": "338ff529-1a6b-4b87-a931-8e4788d52aad",
   "metadata": {
    "execution": {
     "iopub.execute_input": "2025-08-05T20:39:45.871139Z",
     "iopub.status.busy": "2025-08-05T20:39:45.870620Z",
     "iopub.status.idle": "2025-08-05T20:39:45.876005Z",
     "shell.execute_reply": "2025-08-05T20:39:45.874945Z"
    },
    "papermill": {
     "duration": 0.039549,
     "end_time": "2025-08-05T20:39:45.878128",
     "exception": false,
     "start_time": "2025-08-05T20:39:45.838579",
     "status": "completed"
    },
    "tags": []
   },
   "outputs": [],
   "source": [
    "#cp_groups_df"
   ]
  },
  {
   "cell_type": "code",
   "execution_count": 55,
   "id": "90032e27-66df-4540-9169-4e89cfbaa758",
   "metadata": {
    "execution": {
     "iopub.execute_input": "2025-08-05T20:39:45.926470Z",
     "iopub.status.busy": "2025-08-05T20:39:45.925746Z",
     "iopub.status.idle": "2025-08-05T20:39:45.939912Z",
     "shell.execute_reply": "2025-08-05T20:39:45.938773Z"
    },
    "papermill": {
     "duration": 0.040632,
     "end_time": "2025-08-05T20:39:45.942325",
     "exception": false,
     "start_time": "2025-08-05T20:39:45.901693",
     "status": "completed"
    },
    "tags": []
   },
   "outputs": [],
   "source": [
    "subgroups = ['frau1','nongerman','nongerman_male','nongerman_female']\n",
    "\n",
    "# Conditional coverage for subgroup==1\n",
    "cond_coverage = {\n",
    "    g: cp_groups_df.loc[cp_groups_df[g]==1, 'covered'].mean()\n",
    "    for g in subgroups\n",
    "}"
   ]
  },
  {
   "cell_type": "code",
   "execution_count": 56,
   "id": "1e348fb1-b9c3-45bc-ba23-f016827a7e0d",
   "metadata": {
    "execution": {
     "iopub.execute_input": "2025-08-05T20:39:45.993060Z",
     "iopub.status.busy": "2025-08-05T20:39:45.992371Z",
     "iopub.status.idle": "2025-08-05T20:39:46.000116Z",
     "shell.execute_reply": "2025-08-05T20:39:45.999058Z"
    },
    "papermill": {
     "duration": 0.034856,
     "end_time": "2025-08-05T20:39:46.001929",
     "exception": false,
     "start_time": "2025-08-05T20:39:45.967073",
     "status": "completed"
    },
    "tags": []
   },
   "outputs": [
    {
     "data": {
      "text/plain": [
       "{'frau1': 0.9117940423237633,\n",
       " 'nongerman': 0.9125357884690956,\n",
       " 'nongerman_male': 0.9281275330991624,\n",
       " 'nongerman_female': 0.886736214605067}"
      ]
     },
     "execution_count": 56,
     "metadata": {},
     "output_type": "execute_result"
    }
   ],
   "source": [
    "cond_coverage"
   ]
  },
  {
   "cell_type": "code",
   "execution_count": 57,
   "id": "f5093324-c3dd-4d63-bc4c-8d945e5c8bbb",
   "metadata": {
    "execution": {
     "iopub.execute_input": "2025-08-05T20:39:46.053031Z",
     "iopub.status.busy": "2025-08-05T20:39:46.052328Z",
     "iopub.status.idle": "2025-08-05T20:39:46.060005Z",
     "shell.execute_reply": "2025-08-05T20:39:46.058908Z"
    },
    "papermill": {
     "duration": 0.03492,
     "end_time": "2025-08-05T20:39:46.061811",
     "exception": false,
     "start_time": "2025-08-05T20:39:46.026891",
     "status": "completed"
    },
    "tags": []
   },
   "outputs": [],
   "source": [
    "for subgroup, cov in cond_coverage.items():\n",
    "    cp_metrics_df[f\"cov_{subgroup}\"] = cov"
   ]
  },
  {
   "cell_type": "code",
   "execution_count": 58,
   "id": "6e872e10-dbe5-49e8-b554-5030c98ff75d",
   "metadata": {
    "execution": {
     "iopub.execute_input": "2025-08-05T20:39:46.111311Z",
     "iopub.status.busy": "2025-08-05T20:39:46.110841Z",
     "iopub.status.idle": "2025-08-05T20:39:46.130110Z",
     "shell.execute_reply": "2025-08-05T20:39:46.128987Z"
    },
    "papermill": {
     "duration": 0.044602,
     "end_time": "2025-08-05T20:39:46.131593",
     "exception": false,
     "start_time": "2025-08-05T20:39:46.086991",
     "status": "completed"
    },
    "tags": []
   },
   "outputs": [
    {
     "data": {
      "text/html": [
       "<div>\n",
       "<style scoped>\n",
       "    .dataframe tbody tr th:only-of-type {\n",
       "        vertical-align: middle;\n",
       "    }\n",
       "\n",
       "    .dataframe tbody tr th {\n",
       "        vertical-align: top;\n",
       "    }\n",
       "\n",
       "    .dataframe thead th {\n",
       "        text-align: right;\n",
       "    }\n",
       "</style>\n",
       "<table border=\"1\" class=\"dataframe\">\n",
       "  <thead>\n",
       "    <tr style=\"text-align: right;\">\n",
       "      <th></th>\n",
       "      <th>universe_id</th>\n",
       "      <th>universe_training_year</th>\n",
       "      <th>universe_training_size</th>\n",
       "      <th>universe_scale</th>\n",
       "      <th>universe_model</th>\n",
       "      <th>universe_exclude_features</th>\n",
       "      <th>universe_exclude_subgroups</th>\n",
       "      <th>q_hat</th>\n",
       "      <th>coverage</th>\n",
       "      <th>avg_size</th>\n",
       "      <th>cov_frau1</th>\n",
       "      <th>cov_nongerman</th>\n",
       "      <th>cov_nongerman_male</th>\n",
       "      <th>cov_nongerman_female</th>\n",
       "    </tr>\n",
       "  </thead>\n",
       "  <tbody>\n",
       "    <tr>\n",
       "      <th>0</th>\n",
       "      <td>a2f5b00e3eceff8181cdf3dffe571a8a</td>\n",
       "      <td>2014</td>\n",
       "      <td>25k</td>\n",
       "      <td>scale</td>\n",
       "      <td>elasticnet</td>\n",
       "      <td>none</td>\n",
       "      <td>drop-non-german</td>\n",
       "      <td>0.675876</td>\n",
       "      <td>0.91273</td>\n",
       "      <td>1.125817</td>\n",
       "      <td>0.911794</td>\n",
       "      <td>0.912536</td>\n",
       "      <td>0.928128</td>\n",
       "      <td>0.886736</td>\n",
       "    </tr>\n",
       "  </tbody>\n",
       "</table>\n",
       "</div>"
      ],
      "text/plain": [
       "                        universe_id universe_training_year  \\\n",
       "0  a2f5b00e3eceff8181cdf3dffe571a8a                   2014   \n",
       "\n",
       "  universe_training_size universe_scale universe_model  \\\n",
       "0                    25k          scale     elasticnet   \n",
       "\n",
       "  universe_exclude_features universe_exclude_subgroups     q_hat  coverage  \\\n",
       "0                      none            drop-non-german  0.675876   0.91273   \n",
       "\n",
       "   avg_size  cov_frau1  cov_nongerman  cov_nongerman_male  \\\n",
       "0  1.125817   0.911794       0.912536            0.928128   \n",
       "\n",
       "   cov_nongerman_female  \n",
       "0              0.886736  "
      ]
     },
     "execution_count": 58,
     "metadata": {},
     "output_type": "execute_result"
    }
   ],
   "source": [
    "cp_metrics_df"
   ]
  },
  {
   "cell_type": "markdown",
   "id": "33774451",
   "metadata": {
    "papermill": {
     "duration": 0.020382,
     "end_time": "2025-08-05T20:39:46.172910",
     "exception": false,
     "start_time": "2025-08-05T20:39:46.152528",
     "status": "completed"
    },
    "tags": []
   },
   "source": [
    "# (Fairness) Metrics"
   ]
  },
  {
   "cell_type": "code",
   "execution_count": 59,
   "id": "debc5d62",
   "metadata": {
    "execution": {
     "iopub.execute_input": "2025-08-05T20:39:46.215792Z",
     "iopub.status.busy": "2025-08-05T20:39:46.214940Z",
     "iopub.status.idle": "2025-08-05T20:39:46.237416Z",
     "shell.execute_reply": "2025-08-05T20:39:46.236430Z"
    },
    "papermill": {
     "duration": 0.046282,
     "end_time": "2025-08-05T20:39:46.239420",
     "exception": false,
     "start_time": "2025-08-05T20:39:46.193138",
     "status": "completed"
    },
    "tags": []
   },
   "outputs": [],
   "source": [
    "# do I need to include maxdeutsch1.missing?\n",
    "\n",
    "import numpy as np\n",
    "\n",
    "colname_to_bin = \"maxdeutsch1\"\n",
    "majority_value = org_train[colname_to_bin].mode()[0]\n",
    "\n",
    "org_test[\"majmin\"] = np.where(org_test[colname_to_bin] == majority_value, \"majority\", \"minority\")"
   ]
  },
  {
   "cell_type": "code",
   "execution_count": 60,
   "id": "06a50de5",
   "metadata": {
    "execution": {
     "iopub.execute_input": "2025-08-05T20:39:46.294693Z",
     "iopub.status.busy": "2025-08-05T20:39:46.294216Z",
     "iopub.status.idle": "2025-08-05T20:39:48.927343Z",
     "shell.execute_reply": "2025-08-05T20:39:48.925868Z"
    },
    "papermill": {
     "duration": 2.668958,
     "end_time": "2025-08-05T20:39:48.929371",
     "exception": false,
     "start_time": "2025-08-05T20:39:46.260413",
     "status": "completed"
    },
    "tags": []
   },
   "outputs": [],
   "source": [
    "example_universe = universe.copy()\n",
    "example_universe[\"cutoff\"] = example_universe[\"cutoff\"][0]\n",
    "example_universe[\"eval_fairness_grouping\"] = example_universe[\"eval_fairness_grouping\"][0]\n",
    "fairness_dict, metric_frame = universe_analysis.compute_metrics(\n",
    "    example_universe,\n",
    "    y_pred_prob=probs_test,\n",
    "    y_test=y_true,\n",
    "    org_test=org_test,\n",
    ")"
   ]
  },
  {
   "cell_type": "markdown",
   "id": "f95d4e02",
   "metadata": {
    "papermill": {
     "duration": 0.024445,
     "end_time": "2025-08-05T20:39:48.978491",
     "exception": false,
     "start_time": "2025-08-05T20:39:48.954046",
     "status": "completed"
    },
    "tags": []
   },
   "source": [
    "# Overall"
   ]
  },
  {
   "cell_type": "markdown",
   "id": "bdee4871",
   "metadata": {
    "papermill": {
     "duration": 0.024392,
     "end_time": "2025-08-05T20:39:49.026493",
     "exception": false,
     "start_time": "2025-08-05T20:39:49.002101",
     "status": "completed"
    },
    "tags": []
   },
   "source": [
    "Fairness\n",
    "Main fairness target: Equalized Odds. Seems to be a better fit than equal opportunity, since we're not only interested in Y = 1. Seems to be a better fit than demographic parity, since we also care about accuracy, not just equal distribution of preds.\n",
    "\n",
    "Pick column for computation of fairness metrics\n",
    "\n",
    "Performance\n",
    "Overall performance measures, most interesting in relation to the measures split by group below"
   ]
  },
  {
   "cell_type": "code",
   "execution_count": 61,
   "id": "c4e067c6",
   "metadata": {
    "execution": {
     "iopub.execute_input": "2025-08-05T20:39:49.076063Z",
     "iopub.status.busy": "2025-08-05T20:39:49.075332Z",
     "iopub.status.idle": "2025-08-05T20:39:49.083719Z",
     "shell.execute_reply": "2025-08-05T20:39:49.082891Z"
    },
    "papermill": {
     "duration": 0.03518,
     "end_time": "2025-08-05T20:39:49.085386",
     "exception": false,
     "start_time": "2025-08-05T20:39:49.050206",
     "status": "completed"
    },
    "tags": []
   },
   "outputs": [
    {
     "data": {
      "text/plain": [
       "accuracy                   0.225404\n",
       "balanced accuracy          0.550928\n",
       "f1                         0.246707\n",
       "precision                  0.140936\n",
       "false positive rate        0.886934\n",
       "false negative rate        0.011210\n",
       "selection rate             0.900000\n",
       "count                  89710.000000\n",
       "dtype: float64"
      ]
     },
     "execution_count": 61,
     "metadata": {},
     "output_type": "execute_result"
    }
   ],
   "source": [
    "metric_frame.overall"
   ]
  },
  {
   "cell_type": "markdown",
   "id": "e968fe9d",
   "metadata": {
    "papermill": {
     "duration": 0.024605,
     "end_time": "2025-08-05T20:39:49.134686",
     "exception": false,
     "start_time": "2025-08-05T20:39:49.110081",
     "status": "completed"
    },
    "tags": []
   },
   "source": [
    "By Group"
   ]
  },
  {
   "cell_type": "code",
   "execution_count": 62,
   "id": "ec325bce",
   "metadata": {
    "execution": {
     "iopub.execute_input": "2025-08-05T20:39:49.184443Z",
     "iopub.status.busy": "2025-08-05T20:39:49.183892Z",
     "iopub.status.idle": "2025-08-05T20:39:49.200279Z",
     "shell.execute_reply": "2025-08-05T20:39:49.199181Z"
    },
    "papermill": {
     "duration": 0.043721,
     "end_time": "2025-08-05T20:39:49.202206",
     "exception": false,
     "start_time": "2025-08-05T20:39:49.158485",
     "status": "completed"
    },
    "tags": []
   },
   "outputs": [
    {
     "data": {
      "text/html": [
       "<div>\n",
       "<style scoped>\n",
       "    .dataframe tbody tr th:only-of-type {\n",
       "        vertical-align: middle;\n",
       "    }\n",
       "\n",
       "    .dataframe tbody tr th {\n",
       "        vertical-align: top;\n",
       "    }\n",
       "\n",
       "    .dataframe thead th {\n",
       "        text-align: right;\n",
       "    }\n",
       "</style>\n",
       "<table border=\"1\" class=\"dataframe\">\n",
       "  <thead>\n",
       "    <tr style=\"text-align: right;\">\n",
       "      <th></th>\n",
       "      <th>accuracy</th>\n",
       "      <th>balanced accuracy</th>\n",
       "      <th>f1</th>\n",
       "      <th>precision</th>\n",
       "      <th>false positive rate</th>\n",
       "      <th>false negative rate</th>\n",
       "      <th>selection rate</th>\n",
       "      <th>count</th>\n",
       "    </tr>\n",
       "    <tr>\n",
       "      <th>majmin</th>\n",
       "      <th></th>\n",
       "      <th></th>\n",
       "      <th></th>\n",
       "      <th></th>\n",
       "      <th></th>\n",
       "      <th></th>\n",
       "      <th></th>\n",
       "      <th></th>\n",
       "    </tr>\n",
       "  </thead>\n",
       "  <tbody>\n",
       "    <tr>\n",
       "      <th>majority</th>\n",
       "      <td>0.246234</td>\n",
       "      <td>0.560493</td>\n",
       "      <td>0.257209</td>\n",
       "      <td>0.147858</td>\n",
       "      <td>0.86665</td>\n",
       "      <td>0.012363</td>\n",
       "      <td>0.882637</td>\n",
       "      <td>69170.0</td>\n",
       "    </tr>\n",
       "    <tr>\n",
       "      <th>minority</th>\n",
       "      <td>0.155258</td>\n",
       "      <td>0.519652</td>\n",
       "      <td>0.213285</td>\n",
       "      <td>0.119470</td>\n",
       "      <td>0.95394</td>\n",
       "      <td>0.006757</td>\n",
       "      <td>0.958471</td>\n",
       "      <td>20540.0</td>\n",
       "    </tr>\n",
       "  </tbody>\n",
       "</table>\n",
       "</div>"
      ],
      "text/plain": [
       "          accuracy  balanced accuracy        f1  precision  \\\n",
       "majmin                                                       \n",
       "majority  0.246234           0.560493  0.257209   0.147858   \n",
       "minority  0.155258           0.519652  0.213285   0.119470   \n",
       "\n",
       "          false positive rate  false negative rate  selection rate    count  \n",
       "majmin                                                                       \n",
       "majority              0.86665             0.012363        0.882637  69170.0  \n",
       "minority              0.95394             0.006757        0.958471  20540.0  "
      ]
     },
     "execution_count": 62,
     "metadata": {},
     "output_type": "execute_result"
    }
   ],
   "source": [
    "metric_frame.by_group"
   ]
  },
  {
   "cell_type": "code",
   "execution_count": 63,
   "id": "a9ddbe63",
   "metadata": {
    "execution": {
     "iopub.execute_input": "2025-08-05T20:39:49.255724Z",
     "iopub.status.busy": "2025-08-05T20:39:49.255021Z",
     "iopub.status.idle": "2025-08-05T20:39:51.550963Z",
     "shell.execute_reply": "2025-08-05T20:39:51.550255Z"
    },
    "papermill": {
     "duration": 2.324202,
     "end_time": "2025-08-05T20:39:51.552320",
     "exception": false,
     "start_time": "2025-08-05T20:39:49.228118",
     "status": "completed"
    },
    "tags": []
   },
   "outputs": [
    {
     "data": {
      "text/plain": [
       "array([[<Axes: title={'center': 'accuracy'}, xlabel='majmin'>,\n",
       "        <Axes: title={'center': 'balanced accuracy'}, xlabel='majmin'>,\n",
       "        <Axes: title={'center': 'f1'}, xlabel='majmin'>],\n",
       "       [<Axes: title={'center': 'precision'}, xlabel='majmin'>,\n",
       "        <Axes: title={'center': 'false positive rate'}, xlabel='majmin'>,\n",
       "        <Axes: title={'center': 'false negative rate'}, xlabel='majmin'>],\n",
       "       [<Axes: title={'center': 'selection rate'}, xlabel='majmin'>,\n",
       "        <Axes: title={'center': 'count'}, xlabel='majmin'>,\n",
       "        <Axes: xlabel='majmin'>]], dtype=object)"
      ]
     },
     "execution_count": 63,
     "metadata": {},
     "output_type": "execute_result"
    },
    {
     "data": {
      "image/png": "[encoded data removed]",
      "text/plain": [
       "<Figure size 1200x800 with 9 Axes>"
      ]
     },
     "metadata": {},
     "output_type": "display_data"
    }
   ],
   "source": [
    "# In a graphic\n",
    "metric_frame.by_group.plot.bar(\n",
    "    subplots=True,\n",
    "    layout=[3, 3],\n",
    "    legend=False,\n",
    "    figsize=[12, 8],\n",
    "    title=\"Show all metrics\",\n",
    ")"
   ]
  },
  {
   "cell_type": "markdown",
   "id": "f57a0bac",
   "metadata": {
    "papermill": {
     "duration": 0.022413,
     "end_time": "2025-08-05T20:39:51.589873",
     "exception": false,
     "start_time": "2025-08-05T20:39:51.567460",
     "status": "completed"
    },
    "tags": []
   },
   "source": [
    "# Final Output"
   ]
  },
  {
   "cell_type": "code",
   "execution_count": 64,
   "id": "96d280a3",
   "metadata": {
    "execution": {
     "iopub.execute_input": "2025-08-05T20:39:51.635841Z",
     "iopub.status.busy": "2025-08-05T20:39:51.635210Z",
     "iopub.status.idle": "2025-08-05T20:39:51.643523Z",
     "shell.execute_reply": "2025-08-05T20:39:51.642682Z"
    },
    "papermill": {
     "duration": 0.033268,
     "end_time": "2025-08-05T20:39:51.645076",
     "exception": false,
     "start_time": "2025-08-05T20:39:51.611808",
     "status": "completed"
    },
    "tags": []
   },
   "outputs": [
    {
     "data": {
      "text/plain": [
       "4"
      ]
     },
     "execution_count": 64,
     "metadata": {},
     "output_type": "execute_result"
    }
   ],
   "source": [
    "sub_universes = universe_analysis.generate_sub_universes()\n",
    "len(sub_universes)"
   ]
  },
  {
   "cell_type": "code",
   "execution_count": 65,
   "id": "92adf7ba",
   "metadata": {
    "execution": {
     "iopub.execute_input": "2025-08-05T20:39:51.691798Z",
     "iopub.status.busy": "2025-08-05T20:39:51.691100Z",
     "iopub.status.idle": "2025-08-05T20:39:51.715406Z",
     "shell.execute_reply": "2025-08-05T20:39:51.714462Z"
    },
    "papermill": {
     "duration": 0.049699,
     "end_time": "2025-08-05T20:39:51.717461",
     "exception": false,
     "start_time": "2025-08-05T20:39:51.667762",
     "status": "completed"
    },
    "tags": []
   },
   "outputs": [],
   "source": [
    "def filter_sub_universe_data(sub_universe, org_test):\n",
    "    # Keep all rows — no filtering\n",
    "    keep_rows_mask = np.ones(org_test.shape[0], dtype=bool)\n",
    "\n",
    "    print(f\"[INFO] Keeping all rows: {keep_rows_mask.sum()} rows retained.\")\n",
    "    return keep_rows_mask"
   ]
  },
  {
   "cell_type": "code",
   "execution_count": 66,
   "id": "4a759155",
   "metadata": {
    "execution": {
     "iopub.execute_input": "2025-08-05T20:39:51.764165Z",
     "iopub.status.busy": "2025-08-05T20:39:51.763675Z",
     "iopub.status.idle": "2025-08-05T20:40:01.755806Z",
     "shell.execute_reply": "2025-08-05T20:40:01.754907Z"
    },
    "papermill": {
     "duration": 10.016867,
     "end_time": "2025-08-05T20:40:01.757505",
     "exception": false,
     "start_time": "2025-08-05T20:39:51.740638",
     "status": "completed"
    },
    "tags": []
   },
   "outputs": [
    {
     "name": "stdout",
     "output_type": "stream",
     "text": [
      "Stopping execution_time clock.\n",
      "[INFO] Keeping all rows: 89710 rows retained.\n"
     ]
    },
    {
     "name": "stdout",
     "output_type": "stream",
     "text": [
      "[INFO] Keeping all rows: 89710 rows retained.\n"
     ]
    },
    {
     "name": "stdout",
     "output_type": "stream",
     "text": [
      "[INFO] Keeping all rows: 89710 rows retained.\n"
     ]
    },
    {
     "name": "stdout",
     "output_type": "stream",
     "text": [
      "[INFO] Keeping all rows: 89710 rows retained.\n"
     ]
    },
    {
     "data": {
      "text/html": [
       "<div>\n",
       "<style scoped>\n",
       "    .dataframe tbody tr th:only-of-type {\n",
       "        vertical-align: middle;\n",
       "    }\n",
       "\n",
       "    .dataframe tbody tr th {\n",
       "        vertical-align: top;\n",
       "    }\n",
       "\n",
       "    .dataframe thead th {\n",
       "        text-align: right;\n",
       "    }\n",
       "</style>\n",
       "<table border=\"1\" class=\"dataframe\">\n",
       "  <thead>\n",
       "    <tr style=\"text-align: right;\">\n",
       "      <th></th>\n",
       "      <th>run_no</th>\n",
       "      <th>universe_id</th>\n",
       "      <th>universe_settings</th>\n",
       "      <th>execution_time</th>\n",
       "      <th>test_size_n</th>\n",
       "      <th>test_size_frac</th>\n",
       "      <th>fair_main_equalized_odds_difference</th>\n",
       "      <th>fair_main_equalized_odds_ratio</th>\n",
       "      <th>fair_main_demographic_parity_difference</th>\n",
       "      <th>fair_main_demographic_parity_ratio</th>\n",
       "      <th>...</th>\n",
       "      <th>perf_grp_precision_0</th>\n",
       "      <th>perf_grp_precision_1</th>\n",
       "      <th>perf_grp_false positive rate_0</th>\n",
       "      <th>perf_grp_false positive rate_1</th>\n",
       "      <th>perf_grp_false negative rate_0</th>\n",
       "      <th>perf_grp_false negative rate_1</th>\n",
       "      <th>perf_grp_selection rate_0</th>\n",
       "      <th>perf_grp_selection rate_1</th>\n",
       "      <th>perf_grp_count_0</th>\n",
       "      <th>perf_grp_count_1</th>\n",
       "    </tr>\n",
       "  </thead>\n",
       "  <tbody>\n",
       "    <tr>\n",
       "      <th>0</th>\n",
       "      <td>16</td>\n",
       "      <td>a2f5b00e3eceff8181cdf3dffe571a8a</td>\n",
       "      <td>{\"cutoff\": \"quantile_0.1\", \"eval_fairness_grou...</td>\n",
       "      <td>28.779992</td>\n",
       "      <td>89710</td>\n",
       "      <td>1.0</td>\n",
       "      <td>0.087290</td>\n",
       "      <td>0.908495</td>\n",
       "      <td>0.075834</td>\n",
       "      <td>0.920880</td>\n",
       "      <td>...</td>\n",
       "      <td>NaN</td>\n",
       "      <td>NaN</td>\n",
       "      <td>NaN</td>\n",
       "      <td>NaN</td>\n",
       "      <td>NaN</td>\n",
       "      <td>NaN</td>\n",
       "      <td>NaN</td>\n",
       "      <td>NaN</td>\n",
       "      <td>NaN</td>\n",
       "      <td>NaN</td>\n",
       "    </tr>\n",
       "    <tr>\n",
       "      <th>0</th>\n",
       "      <td>16</td>\n",
       "      <td>a2f5b00e3eceff8181cdf3dffe571a8a</td>\n",
       "      <td>{\"cutoff\": \"quantile_0.1\", \"eval_fairness_grou...</td>\n",
       "      <td>28.779992</td>\n",
       "      <td>89710</td>\n",
       "      <td>1.0</td>\n",
       "      <td>0.087290</td>\n",
       "      <td>0.908495</td>\n",
       "      <td>0.075834</td>\n",
       "      <td>0.920880</td>\n",
       "      <td>...</td>\n",
       "      <td>0.119470</td>\n",
       "      <td>0.147858</td>\n",
       "      <td>0.953940</td>\n",
       "      <td>0.866650</td>\n",
       "      <td>0.006757</td>\n",
       "      <td>0.012363</td>\n",
       "      <td>0.958471</td>\n",
       "      <td>0.882637</td>\n",
       "      <td>20540.0</td>\n",
       "      <td>69170.0</td>\n",
       "    </tr>\n",
       "    <tr>\n",
       "      <th>0</th>\n",
       "      <td>16</td>\n",
       "      <td>a2f5b00e3eceff8181cdf3dffe571a8a</td>\n",
       "      <td>{\"cutoff\": \"quantile_0.25\", \"eval_fairness_gro...</td>\n",
       "      <td>28.779992</td>\n",
       "      <td>89710</td>\n",
       "      <td>1.0</td>\n",
       "      <td>0.157606</td>\n",
       "      <td>0.812711</td>\n",
       "      <td>0.136143</td>\n",
       "      <td>0.840762</td>\n",
       "      <td>...</td>\n",
       "      <td>NaN</td>\n",
       "      <td>NaN</td>\n",
       "      <td>NaN</td>\n",
       "      <td>NaN</td>\n",
       "      <td>NaN</td>\n",
       "      <td>NaN</td>\n",
       "      <td>NaN</td>\n",
       "      <td>NaN</td>\n",
       "      <td>NaN</td>\n",
       "      <td>NaN</td>\n",
       "    </tr>\n",
       "    <tr>\n",
       "      <th>0</th>\n",
       "      <td>16</td>\n",
       "      <td>a2f5b00e3eceff8181cdf3dffe571a8a</td>\n",
       "      <td>{\"cutoff\": \"quantile_0.25\", \"eval_fairness_gro...</td>\n",
       "      <td>28.779992</td>\n",
       "      <td>89710</td>\n",
       "      <td>1.0</td>\n",
       "      <td>0.157606</td>\n",
       "      <td>0.812711</td>\n",
       "      <td>0.136143</td>\n",
       "      <td>0.840762</td>\n",
       "      <td>...</td>\n",
       "      <td>0.129207</td>\n",
       "      <td>0.174293</td>\n",
       "      <td>0.841514</td>\n",
       "      <td>0.683908</td>\n",
       "      <td>0.041807</td>\n",
       "      <td>0.051860</td>\n",
       "      <td>0.854966</td>\n",
       "      <td>0.718823</td>\n",
       "      <td>20540.0</td>\n",
       "      <td>69170.0</td>\n",
       "    </tr>\n",
       "  </tbody>\n",
       "</table>\n",
       "<p>4 rows × 50 columns</p>\n",
       "</div>"
      ],
      "text/plain": [
       "  run_no                       universe_id  \\\n",
       "0     16  a2f5b00e3eceff8181cdf3dffe571a8a   \n",
       "0     16  a2f5b00e3eceff8181cdf3dffe571a8a   \n",
       "0     16  a2f5b00e3eceff8181cdf3dffe571a8a   \n",
       "0     16  a2f5b00e3eceff8181cdf3dffe571a8a   \n",
       "\n",
       "                                   universe_settings  execution_time  \\\n",
       "0  {\"cutoff\": \"quantile_0.1\", \"eval_fairness_grou...       28.779992   \n",
       "0  {\"cutoff\": \"quantile_0.1\", \"eval_fairness_grou...       28.779992   \n",
       "0  {\"cutoff\": \"quantile_0.25\", \"eval_fairness_gro...       28.779992   \n",
       "0  {\"cutoff\": \"quantile_0.25\", \"eval_fairness_gro...       28.779992   \n",
       "\n",
       "   test_size_n  test_size_frac  fair_main_equalized_odds_difference  \\\n",
       "0        89710             1.0                             0.087290   \n",
       "0        89710             1.0                             0.087290   \n",
       "0        89710             1.0                             0.157606   \n",
       "0        89710             1.0                             0.157606   \n",
       "\n",
       "   fair_main_equalized_odds_ratio  fair_main_demographic_parity_difference  \\\n",
       "0                        0.908495                                 0.075834   \n",
       "0                        0.908495                                 0.075834   \n",
       "0                        0.812711                                 0.136143   \n",
       "0                        0.812711                                 0.136143   \n",
       "\n",
       "   fair_main_demographic_parity_ratio  ...  perf_grp_precision_0  \\\n",
       "0                            0.920880  ...                   NaN   \n",
       "0                            0.920880  ...              0.119470   \n",
       "0                            0.840762  ...                   NaN   \n",
       "0                            0.840762  ...              0.129207   \n",
       "\n",
       "   perf_grp_precision_1  perf_grp_false positive rate_0  \\\n",
       "0                   NaN                             NaN   \n",
       "0              0.147858                        0.953940   \n",
       "0                   NaN                             NaN   \n",
       "0              0.174293                        0.841514   \n",
       "\n",
       "   perf_grp_false positive rate_1  perf_grp_false negative rate_0  \\\n",
       "0                             NaN                             NaN   \n",
       "0                        0.866650                        0.006757   \n",
       "0                             NaN                             NaN   \n",
       "0                        0.683908                        0.041807   \n",
       "\n",
       "   perf_grp_false negative rate_1  perf_grp_selection rate_0  \\\n",
       "0                             NaN                        NaN   \n",
       "0                        0.012363                   0.958471   \n",
       "0                             NaN                        NaN   \n",
       "0                        0.051860                   0.854966   \n",
       "\n",
       "   perf_grp_selection rate_1  perf_grp_count_0  perf_grp_count_1  \n",
       "0                        NaN               NaN               NaN  \n",
       "0                   0.882637           20540.0           69170.0  \n",
       "0                        NaN               NaN               NaN  \n",
       "0                   0.718823           20540.0           69170.0  \n",
       "\n",
       "[4 rows x 50 columns]"
      ]
     },
     "execution_count": 66,
     "metadata": {},
     "output_type": "execute_result"
    }
   ],
   "source": [
    "final_output = universe_analysis.generate_final_output(\n",
    "    y_pred_prob=probs_test,\n",
    "    y_test=y_true,\n",
    "    org_test=org_test,\n",
    "    filter_data=filter_sub_universe_data,\n",
    "    cp_metrics_df=cp_metrics_df,\n",
    "    save=True,\n",
    ")\n",
    "final_output"
   ]
  }
 ],
 "metadata": {
  "celltoolbar": "Tags",
  "kernelspec": {
   "display_name": "Python (CMA Fairness)",
   "language": "python",
   "name": "cma_fair_env"
  },
  "language_info": {
   "codemirror_mode": {
    "name": "ipython",
    "version": 3
   },
   "file_extension": ".py",
   "mimetype": "text/x-python",
   "name": "python",
   "nbconvert_exporter": "python",
   "pygments_lexer": "ipython3",
   "version": "3.10.12"
  },
  "papermill": {
   "default_parameters": {},
   "duration": 42.835956,
   "end_time": "2025-08-05T20:40:02.505122",
   "environment_variables": {},
   "exception": null,
   "input_path": "universe_analysis.ipynb",
   "output_path": "output/runs/16/notebooks/m_16-a2f5b00e3eceff8181cdf3dffe571a8a.ipynb",
   "parameters": {
    "output_dir": "output",
    "run_no": "16",
    "seed": "2023",
    "universe": "{\"cutoff\": [\"quantile_0.1\", \"quantile_0.25\"], \"eval_fairness_grouping\": [\"majority-minority\", \"nationality-all\"], \"exclude_features\": \"none\", \"exclude_subgroups\": \"drop-non-german\", \"model\": \"elasticnet\", \"scale\": \"scale\", \"training_size\": \"25k\", \"training_year\": \"2014\"}",
    "universe_id": "a2f5b00e3eceff8181cdf3dffe571a8a"
   },
   "start_time": "2025-08-05T20:39:19.669166",
   "version": "2.6.0"
  }
 },
 "nbformat": 4,
 "nbformat_minor": 5
}