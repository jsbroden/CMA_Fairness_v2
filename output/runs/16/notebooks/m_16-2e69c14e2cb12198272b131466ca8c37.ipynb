{
 "cells": [
  {
   "cell_type": "code",
   "execution_count": 1,
   "id": "f159f837-637b-42ba-96b5-ec9a68c44524",
   "metadata": {
    "execution": {
     "iopub.execute_input": "2025-08-05T20:37:14.231247Z",
     "iopub.status.busy": "2025-08-05T20:37:14.230371Z",
     "iopub.status.idle": "2025-08-05T20:37:14.244330Z",
     "shell.execute_reply": "2025-08-05T20:37:14.243207Z"
    },
    "papermill": {
     "duration": 0.038868,
     "end_time": "2025-08-05T20:37:14.246292",
     "exception": false,
     "start_time": "2025-08-05T20:37:14.207424",
     "status": "completed"
    },
    "tags": []
   },
   "outputs": [
    {
     "name": "stdout",
     "output_type": "stream",
     "text": [
      "/dss/dsshome1/0C/ra93lal2/cma/CMA_Fairness_v2\n"
     ]
    },
    {
     "name": "stderr",
     "output_type": "stream",
     "text": [
      "/dss/dsshome1/0C/ra93lal2/.local/share/virtualenvs/CMA_Fairness_v2-3j10GkSs/lib/python3.10/site-packages/IPython/core/magics/osm.py:393: UserWarning: This is now an optional IPython functionality, using bookmarks requires you to install the `pickleshare` library.\n",
      "  bkms = self.shell.db.get('bookmarks', {})\n",
      "/dss/dsshome1/0C/ra93lal2/.local/share/virtualenvs/CMA_Fairness_v2-3j10GkSs/lib/python3.10/site-packages/IPython/core/magics/osm.py:417: UserWarning: This is now an optional IPython functionality, setting dhist requires you to install the `pickleshare` library.\n",
      "  self.shell.db['dhist'] = compress_dhist(dhist)[-100:]\n"
     ]
    }
   ],
   "source": [
    "%cd ~/cma/CMA_Fairness_v2"
   ]
  },
  {
   "cell_type": "markdown",
   "id": "de2603b9",
   "metadata": {
    "papermill": {
     "duration": 0.017881,
     "end_time": "2025-08-05T20:37:14.282798",
     "exception": false,
     "start_time": "2025-08-05T20:37:14.264917",
     "status": "completed"
    },
    "tags": []
   },
   "source": [
    "The following cell holds the definition of our parameters, these values can be overriden by rendering the with e.g. the following command:\n",
    "\n",
    "papermill -p alpha 0.2 -p ratio 0.3 universe_analysis.ipynb output/test_run.ipynb"
   ]
  },
  {
   "cell_type": "code",
   "execution_count": 2,
   "id": "a80968a0-40bb-4fa9-85ef-2d5eefb01975",
   "metadata": {
    "execution": {
     "iopub.execute_input": "2025-08-05T20:37:14.321554Z",
     "iopub.status.busy": "2025-08-05T20:37:14.320691Z",
     "iopub.status.idle": "2025-08-05T20:37:14.326813Z",
     "shell.execute_reply": "2025-08-05T20:37:14.325673Z"
    },
    "papermill": {
     "duration": 0.027134,
     "end_time": "2025-08-05T20:37:14.328507",
     "exception": false,
     "start_time": "2025-08-05T20:37:14.301373",
     "status": "completed"
    },
    "tags": []
   },
   "outputs": [
    {
     "name": "stdout",
     "output_type": "stream",
     "text": [
      "Current working directory: /dss/dsshome1/0C/ra93lal2/cma/CMA_Fairness_v2\n"
     ]
    }
   ],
   "source": [
    "import os\n",
    "print(\"Current working directory:\", os.getcwd())"
   ]
  },
  {
   "cell_type": "code",
   "execution_count": 3,
   "id": "2dce4c03",
   "metadata": {
    "execution": {
     "iopub.execute_input": "2025-08-05T20:37:14.367962Z",
     "iopub.status.busy": "2025-08-05T20:37:14.367008Z",
     "iopub.status.idle": "2025-08-05T20:37:14.374025Z",
     "shell.execute_reply": "2025-08-05T20:37:14.372901Z"
    },
    "papermill": {
     "duration": 0.028986,
     "end_time": "2025-08-05T20:37:14.375879",
     "exception": false,
     "start_time": "2025-08-05T20:37:14.346893",
     "status": "completed"
    },
    "tags": [
     "parameters"
    ]
   },
   "outputs": [],
   "source": [
    "run_no = 0\n",
    "universe_id = \"test\"\n",
    "universe = {\n",
    "    \"training_size\": \"25k\", # \"25k\", \"5k\", \"1k\"\n",
    "    \"training_year\": \"2014\", # \"2014\", \"2012_14\", \"2010_14\"\n",
    "    \"scale\": \"scale\", # \"scale\", \"do-not-scale\",\n",
    "    \"model\": \"elasticnet\", # \"logreg\", \"penalized_logreg\", \"rf\", \"gbm\", \"elasticnet\"\n",
    "    \"cutoff\": [\"quantile_0.15\", \"quantile_0.30\"],\n",
    "    \"exclude_features\": \"age\", # \"none\", \"nationality\", \"sex\", \"nationality-sex\", \"age\"\n",
    "    \"exclude_subgroups\": \"keep-all\", # \"keep-all\", \"drop-non-german\"\n",
    "    \"eval_fairness_grouping\": [\"majority-minority\", \"nationality-all\"]\n",
    "}\n",
    "\n",
    "output_dir=\"./output\"\n",
    "seed=0"
   ]
  },
  {
   "cell_type": "code",
   "execution_count": 4,
   "id": "5c84a7c6",
   "metadata": {
    "execution": {
     "iopub.execute_input": "2025-08-05T20:37:14.413685Z",
     "iopub.status.busy": "2025-08-05T20:37:14.413176Z",
     "iopub.status.idle": "2025-08-05T20:37:14.418938Z",
     "shell.execute_reply": "2025-08-05T20:37:14.417758Z"
    },
    "papermill": {
     "duration": 0.026551,
     "end_time": "2025-08-05T20:37:14.420771",
     "exception": false,
     "start_time": "2025-08-05T20:37:14.394220",
     "status": "completed"
    },
    "tags": [
     "injected-parameters"
    ]
   },
   "outputs": [],
   "source": [
    "# Parameters\n",
    "universe_id = \"2e69c14e2cb12198272b131466ca8c37\"\n",
    "run_no = \"16\"\n",
    "universe = \"{\\\"cutoff\\\": [\\\"quantile_0.1\\\", \\\"quantile_0.25\\\"], \\\"eval_fairness_grouping\\\": [\\\"majority-minority\\\", \\\"nationality-all\\\"], \\\"exclude_features\\\": \\\"nationality\\\", \\\"exclude_subgroups\\\": \\\"keep-all\\\", \\\"model\\\": \\\"gbm\\\", \\\"scale\\\": \\\"scale\\\", \\\"training_size\\\": \\\"25k\\\", \\\"training_year\\\": \\\"2014\\\"}\"\n",
    "output_dir = \"output\"\n",
    "seed = \"2023\"\n"
   ]
  },
  {
   "cell_type": "code",
   "execution_count": 5,
   "id": "1650acaf",
   "metadata": {
    "execution": {
     "iopub.execute_input": "2025-08-05T20:37:14.456978Z",
     "iopub.status.busy": "2025-08-05T20:37:14.456525Z",
     "iopub.status.idle": "2025-08-05T20:37:14.461645Z",
     "shell.execute_reply": "2025-08-05T20:37:14.460474Z"
    },
    "papermill": {
     "duration": 0.026016,
     "end_time": "2025-08-05T20:37:14.463350",
     "exception": false,
     "start_time": "2025-08-05T20:37:14.437334",
     "status": "completed"
    },
    "tags": []
   },
   "outputs": [],
   "source": [
    "import json\n",
    "if isinstance(universe, str):\n",
    "    universe = json.loads(universe)"
   ]
  },
  {
   "cell_type": "code",
   "execution_count": 6,
   "id": "16620c48",
   "metadata": {
    "execution": {
     "iopub.execute_input": "2025-08-05T20:37:14.499176Z",
     "iopub.status.busy": "2025-08-05T20:37:14.498068Z",
     "iopub.status.idle": "2025-08-05T20:37:14.541295Z",
     "shell.execute_reply": "2025-08-05T20:37:14.540385Z"
    },
    "papermill": {
     "duration": 0.063375,
     "end_time": "2025-08-05T20:37:14.543142",
     "exception": false,
     "start_time": "2025-08-05T20:37:14.479767",
     "status": "completed"
    },
    "tags": []
   },
   "outputs": [],
   "source": [
    "# Auto-reload the custom package\n",
    "%load_ext autoreload\n",
    "%autoreload 1\n",
    "%aimport fairness_multiverse"
   ]
  },
  {
   "cell_type": "code",
   "execution_count": 7,
   "id": "01c5c9f3",
   "metadata": {
    "execution": {
     "iopub.execute_input": "2025-08-05T20:37:14.577237Z",
     "iopub.status.busy": "2025-08-05T20:37:14.576604Z",
     "iopub.status.idle": "2025-08-05T20:37:16.486619Z",
     "shell.execute_reply": "2025-08-05T20:37:16.485536Z"
    },
    "papermill": {
     "duration": 1.928858,
     "end_time": "2025-08-05T20:37:16.488687",
     "exception": false,
     "start_time": "2025-08-05T20:37:14.559829",
     "status": "completed"
    },
    "tags": []
   },
   "outputs": [],
   "source": [
    "from fairness_multiverse.universe import UniverseAnalysis\n",
    "\n",
    "universe_analysis = UniverseAnalysis(\n",
    "    run_no = run_no,\n",
    "    universe_id = universe_id,\n",
    "    universe = universe,\n",
    "    output_dir=output_dir,\n",
    ")"
   ]
  },
  {
   "cell_type": "code",
   "execution_count": 8,
   "id": "106241f5",
   "metadata": {
    "execution": {
     "iopub.execute_input": "2025-08-05T20:37:16.526315Z",
     "iopub.status.busy": "2025-08-05T20:37:16.525580Z",
     "iopub.status.idle": "2025-08-05T20:37:16.532448Z",
     "shell.execute_reply": "2025-08-05T20:37:16.531405Z"
    },
    "papermill": {
     "duration": 0.025504,
     "end_time": "2025-08-05T20:37:16.534191",
     "exception": false,
     "start_time": "2025-08-05T20:37:16.508687",
     "status": "completed"
    },
    "tags": []
   },
   "outputs": [
    {
     "name": "stdout",
     "output_type": "stream",
     "text": [
      "Using Seed: 2023\n"
     ]
    }
   ],
   "source": [
    "import numpy as np\n",
    "parsed_seed = int(seed)\n",
    "np.random.seed(parsed_seed)\n",
    "print(f\"Using Seed: {parsed_seed}\")"
   ]
  },
  {
   "cell_type": "markdown",
   "id": "e0ebdc57",
   "metadata": {
    "papermill": {
     "duration": 0.017131,
     "end_time": "2025-08-05T20:37:16.568679",
     "exception": false,
     "start_time": "2025-08-05T20:37:16.551548",
     "status": "completed"
    },
    "tags": []
   },
   "source": [
    "# Loading Data"
   ]
  },
  {
   "cell_type": "code",
   "execution_count": 9,
   "id": "f0496b8a",
   "metadata": {
    "execution": {
     "iopub.execute_input": "2025-08-05T20:37:16.602563Z",
     "iopub.status.busy": "2025-08-05T20:37:16.601956Z",
     "iopub.status.idle": "2025-08-05T20:37:25.673195Z",
     "shell.execute_reply": "2025-08-05T20:37:25.672088Z"
    },
    "papermill": {
     "duration": 9.089837,
     "end_time": "2025-08-05T20:37:25.674589",
     "exception": false,
     "start_time": "2025-08-05T20:37:16.584752",
     "status": "completed"
    },
    "tags": []
   },
   "outputs": [
    {
     "name": "stdout",
     "output_type": "stream",
     "text": [
      "Loading SIAB data from cache: data/siab_cached.csv.gz\n"
     ]
    },
    {
     "name": "stdout",
     "output_type": "stream",
     "text": [
      "(643690, 164)\n"
     ]
    }
   ],
   "source": [
    "from pathlib import Path\n",
    "import pandas as pd\n",
    "\n",
    "# File paths\n",
    "raw_file = Path(\"data/raw/siab.csv\")\n",
    "cache_file = Path(\"data/siab_cached.csv.gz\")\n",
    "\n",
    "# Ensure cache directory exists\n",
    "cache_file.parent.mkdir(parents=True, exist_ok=True)\n",
    "\n",
    "# Load with simple caching\n",
    "if cache_file.exists():\n",
    "    print(f\"Loading SIAB data from cache: {cache_file}\")\n",
    "    siab = pd.read_csv(cache_file, compression='gzip')\n",
    "else:\n",
    "    print(f\"Cache not found. Reading raw SIAB data: {raw_file}\")\n",
    "    siab = pd.read_csv(raw_file)\n",
    "    siab.to_csv(cache_file, index=False, compression='gzip')\n",
    "    print(f\"Cached SIAB data to: {cache_file}\")\n",
    "\n",
    "print(siab.shape)"
   ]
  },
  {
   "cell_type": "code",
   "execution_count": 10,
   "id": "db0ca512-5f53-4dba-abdb-a2888bca41ba",
   "metadata": {
    "execution": {
     "iopub.execute_input": "2025-08-05T20:37:25.697043Z",
     "iopub.status.busy": "2025-08-05T20:37:25.696630Z",
     "iopub.status.idle": "2025-08-05T20:37:25.701976Z",
     "shell.execute_reply": "2025-08-05T20:37:25.700870Z"
    },
    "papermill": {
     "duration": 0.017519,
     "end_time": "2025-08-05T20:37:25.703335",
     "exception": false,
     "start_time": "2025-08-05T20:37:25.685816",
     "status": "completed"
    },
    "tags": []
   },
   "outputs": [],
   "source": [
    "#siab"
   ]
  },
  {
   "cell_type": "markdown",
   "id": "997051c5-15bd-4b69-9786-c3001a3ce484",
   "metadata": {
    "papermill": {
     "duration": 0.017925,
     "end_time": "2025-08-05T20:37:25.734751",
     "exception": false,
     "start_time": "2025-08-05T20:37:25.716826",
     "status": "completed"
    },
    "tags": []
   },
   "source": [
    "# Splitting Data and Setting Training Data Size"
   ]
  },
  {
   "cell_type": "code",
   "execution_count": 11,
   "id": "aea9c6ef-6f46-42c8-85eb-5a62025c1508",
   "metadata": {
    "execution": {
     "iopub.execute_input": "2025-08-05T20:37:25.771945Z",
     "iopub.status.busy": "2025-08-05T20:37:25.771055Z",
     "iopub.status.idle": "2025-08-05T20:37:26.104773Z",
     "shell.execute_reply": "2025-08-05T20:37:26.103784Z"
    },
    "papermill": {
     "duration": 0.354299,
     "end_time": "2025-08-05T20:37:26.106657",
     "exception": false,
     "start_time": "2025-08-05T20:37:25.752358",
     "status": "completed"
    },
    "tags": []
   },
   "outputs": [],
   "source": [
    "from fairness_multiverse.universe import sample_by_year_size\n",
    "\n",
    "siab_train = sample_by_year_size(siab,\n",
    "                               training_year=universe[\"training_year\"],\n",
    "                               training_size=universe[\"training_size\"])"
   ]
  },
  {
   "cell_type": "code",
   "execution_count": 12,
   "id": "8d3afb32-789d-442c-8d5d-9f5aa8dd2eed",
   "metadata": {
    "execution": {
     "iopub.execute_input": "2025-08-05T20:37:26.143698Z",
     "iopub.status.busy": "2025-08-05T20:37:26.143043Z",
     "iopub.status.idle": "2025-08-05T20:37:26.147872Z",
     "shell.execute_reply": "2025-08-05T20:37:26.147152Z"
    },
    "papermill": {
     "duration": 0.024387,
     "end_time": "2025-08-05T20:37:26.149259",
     "exception": false,
     "start_time": "2025-08-05T20:37:26.124872",
     "status": "completed"
    },
    "tags": []
   },
   "outputs": [],
   "source": [
    "#siab_train.shape"
   ]
  },
  {
   "cell_type": "code",
   "execution_count": 13,
   "id": "d582db68-1a4c-47fb-84fc-08518dc1975a",
   "metadata": {
    "execution": {
     "iopub.execute_input": "2025-08-05T20:37:26.169127Z",
     "iopub.status.busy": "2025-08-05T20:37:26.168847Z",
     "iopub.status.idle": "2025-08-05T20:37:26.172703Z",
     "shell.execute_reply": "2025-08-05T20:37:26.171806Z"
    },
    "papermill": {
     "duration": 0.015238,
     "end_time": "2025-08-05T20:37:26.174430",
     "exception": false,
     "start_time": "2025-08-05T20:37:26.159192",
     "status": "completed"
    },
    "tags": []
   },
   "outputs": [],
   "source": [
    "#display(siab_train.groupby(\"year\").size())"
   ]
  },
  {
   "cell_type": "code",
   "execution_count": 14,
   "id": "a561edb4-d032-42cb-8256-22eac1111c64",
   "metadata": {
    "execution": {
     "iopub.execute_input": "2025-08-05T20:37:26.210285Z",
     "iopub.status.busy": "2025-08-05T20:37:26.209852Z",
     "iopub.status.idle": "2025-08-05T20:37:26.557903Z",
     "shell.execute_reply": "2025-08-05T20:37:26.556745Z"
    },
    "papermill": {
     "duration": 0.361731,
     "end_time": "2025-08-05T20:37:26.559944",
     "exception": false,
     "start_time": "2025-08-05T20:37:26.198213",
     "status": "completed"
    },
    "tags": []
   },
   "outputs": [],
   "source": [
    "#siab_train = siab_s[siab_s.year < 2015]\n",
    "siab_calib = siab[siab.year == 2015]\n",
    "siab_test = siab[siab.year == 2016]"
   ]
  },
  {
   "cell_type": "code",
   "execution_count": 15,
   "id": "472de16f-c3db-4916-846b-1f0de9cf1746",
   "metadata": {
    "execution": {
     "iopub.execute_input": "2025-08-05T20:37:26.597442Z",
     "iopub.status.busy": "2025-08-05T20:37:26.596813Z",
     "iopub.status.idle": "2025-08-05T20:37:26.614615Z",
     "shell.execute_reply": "2025-08-05T20:37:26.613457Z"
    },
    "papermill": {
     "duration": 0.038496,
     "end_time": "2025-08-05T20:37:26.616474",
     "exception": false,
     "start_time": "2025-08-05T20:37:26.577978",
     "status": "completed"
    },
    "tags": []
   },
   "outputs": [],
   "source": [
    "X_train = siab_train.iloc[:,4:164]\n",
    "y_train = siab_train.iloc[:, [3]]"
   ]
  },
  {
   "cell_type": "code",
   "execution_count": 16,
   "id": "828c96af-f43a-4ed6-ba47-8ac73a47d56c",
   "metadata": {
    "execution": {
     "iopub.execute_input": "2025-08-05T20:37:26.655685Z",
     "iopub.status.busy": "2025-08-05T20:37:26.654994Z",
     "iopub.status.idle": "2025-08-05T20:37:26.701973Z",
     "shell.execute_reply": "2025-08-05T20:37:26.700949Z"
    },
    "papermill": {
     "duration": 0.066292,
     "end_time": "2025-08-05T20:37:26.703788",
     "exception": false,
     "start_time": "2025-08-05T20:37:26.637496",
     "status": "completed"
    },
    "tags": []
   },
   "outputs": [],
   "source": [
    "X_calib = siab_calib.iloc[:,4:164]\n",
    "y_calib = siab_calib.iloc[:, [3]]"
   ]
  },
  {
   "cell_type": "code",
   "execution_count": 17,
   "id": "c34be9c3-6bd6-476e-acd3-845840e303be",
   "metadata": {
    "execution": {
     "iopub.execute_input": "2025-08-05T20:37:26.731416Z",
     "iopub.status.busy": "2025-08-05T20:37:26.731077Z",
     "iopub.status.idle": "2025-08-05T20:37:26.782428Z",
     "shell.execute_reply": "2025-08-05T20:37:26.781441Z"
    },
    "papermill": {
     "duration": 0.068442,
     "end_time": "2025-08-05T20:37:26.783925",
     "exception": false,
     "start_time": "2025-08-05T20:37:26.715483",
     "status": "completed"
    },
    "tags": []
   },
   "outputs": [],
   "source": [
    "X_test = siab_test.iloc[:,4:164]\n",
    "y_true = siab_test.iloc[:, [3]]"
   ]
  },
  {
   "cell_type": "code",
   "execution_count": 18,
   "id": "e6c733c5",
   "metadata": {
    "execution": {
     "iopub.execute_input": "2025-08-05T20:37:26.815626Z",
     "iopub.status.busy": "2025-08-05T20:37:26.815188Z",
     "iopub.status.idle": "2025-08-05T20:37:26.915012Z",
     "shell.execute_reply": "2025-08-05T20:37:26.914089Z"
    },
    "papermill": {
     "duration": 0.121259,
     "end_time": "2025-08-05T20:37:26.916501",
     "exception": false,
     "start_time": "2025-08-05T20:37:26.795242",
     "status": "completed"
    },
    "tags": []
   },
   "outputs": [],
   "source": [
    "# Auxiliary data needed downstream in the pipeline\n",
    "\n",
    "org_train = X_train.copy()\n",
    "org_test = X_test.copy()\n",
    "org_calib = X_calib.copy()"
   ]
  },
  {
   "cell_type": "markdown",
   "id": "0a4a1b33",
   "metadata": {
    "papermill": {
     "duration": 0.008928,
     "end_time": "2025-08-05T20:37:26.934920",
     "exception": false,
     "start_time": "2025-08-05T20:37:26.925992",
     "status": "completed"
    },
    "tags": []
   },
   "source": [
    "# Preprocessing Data"
   ]
  },
  {
   "cell_type": "code",
   "execution_count": 19,
   "id": "ca879031",
   "metadata": {
    "execution": {
     "iopub.execute_input": "2025-08-05T20:37:26.975370Z",
     "iopub.status.busy": "2025-08-05T20:37:26.974385Z",
     "iopub.status.idle": "2025-08-05T20:37:26.980575Z",
     "shell.execute_reply": "2025-08-05T20:37:26.979544Z"
    },
    "papermill": {
     "duration": 0.029175,
     "end_time": "2025-08-05T20:37:26.982582",
     "exception": false,
     "start_time": "2025-08-05T20:37:26.953407",
     "status": "completed"
    },
    "tags": []
   },
   "outputs": [],
   "source": [
    "# EXCLUDE PROTECTED FEATURES\n",
    "# ----------------------\n",
    "# \"exclude_features\": \"none\", # \"nationality\", \"sex\", \"nationality-sex\"\n",
    "\n",
    "excluded_features = universe[\"exclude_features\"].split(\"-\") # split, e.g.: \"nationality-sex\" -> [\"nationality\", \"sex\"]\n",
    "excluded_features_dictionary = {\n",
    "    \"nationality\": [\"maxdeutsch1\", \"maxdeutsch.Missing.\"],\n",
    "    \"sex\": [\"frau1\"],\n",
    "    \"age\": [\"age\"],\n",
    "}"
   ]
  },
  {
   "cell_type": "code",
   "execution_count": 20,
   "id": "b745ac60",
   "metadata": {
    "execution": {
     "iopub.execute_input": "2025-08-05T20:37:27.023396Z",
     "iopub.status.busy": "2025-08-05T20:37:27.023004Z",
     "iopub.status.idle": "2025-08-05T20:37:27.029452Z",
     "shell.execute_reply": "2025-08-05T20:37:27.028301Z"
    },
    "papermill": {
     "duration": 0.032035,
     "end_time": "2025-08-05T20:37:27.034873",
     "exception": false,
     "start_time": "2025-08-05T20:37:27.002838",
     "status": "completed"
    },
    "tags": []
   },
   "outputs": [],
   "source": [
    "# Code nice names to column names\n",
    "\n",
    "excluded_features_columns = [\n",
    "    excluded_features_dictionary[f] for f in excluded_features if len(f) > 0 and f != \"none\"\n",
    "]"
   ]
  },
  {
   "cell_type": "code",
   "execution_count": 21,
   "id": "f84f73a2",
   "metadata": {
    "execution": {
     "iopub.execute_input": "2025-08-05T20:37:27.078634Z",
     "iopub.status.busy": "2025-08-05T20:37:27.078166Z",
     "iopub.status.idle": "2025-08-05T20:37:27.084762Z",
     "shell.execute_reply": "2025-08-05T20:37:27.083743Z"
    },
    "papermill": {
     "duration": 0.030386,
     "end_time": "2025-08-05T20:37:27.086827",
     "exception": false,
     "start_time": "2025-08-05T20:37:27.056441",
     "status": "completed"
    },
    "tags": []
   },
   "outputs": [],
   "source": [
    "from utils import flatten_once\n",
    "\n",
    "excluded_features_columns = flatten_once(excluded_features_columns)"
   ]
  },
  {
   "cell_type": "code",
   "execution_count": 22,
   "id": "884dea22",
   "metadata": {
    "execution": {
     "iopub.execute_input": "2025-08-05T20:37:27.129443Z",
     "iopub.status.busy": "2025-08-05T20:37:27.128979Z",
     "iopub.status.idle": "2025-08-05T20:37:27.148161Z",
     "shell.execute_reply": "2025-08-05T20:37:27.146984Z"
    },
    "papermill": {
     "duration": 0.042482,
     "end_time": "2025-08-05T20:37:27.149828",
     "exception": false,
     "start_time": "2025-08-05T20:37:27.107346",
     "status": "completed"
    },
    "tags": []
   },
   "outputs": [
    {
     "name": "stdout",
     "output_type": "stream",
     "text": [
      "Dropping features: ['maxdeutsch1', 'maxdeutsch.Missing.']\n"
     ]
    }
   ],
   "source": [
    "if len(excluded_features_columns) > 0:\n",
    "    print(f\"Dropping features: {excluded_features_columns}\")\n",
    "    X_train.drop(excluded_features_columns, axis=1, inplace=True)"
   ]
  },
  {
   "cell_type": "code",
   "execution_count": 23,
   "id": "95ab8b16",
   "metadata": {
    "execution": {
     "iopub.execute_input": "2025-08-05T20:37:27.188312Z",
     "iopub.status.busy": "2025-08-05T20:37:27.187458Z",
     "iopub.status.idle": "2025-08-05T20:37:27.241190Z",
     "shell.execute_reply": "2025-08-05T20:37:27.239592Z"
    },
    "papermill": {
     "duration": 0.074455,
     "end_time": "2025-08-05T20:37:27.243196",
     "exception": false,
     "start_time": "2025-08-05T20:37:27.168741",
     "status": "completed"
    },
    "tags": []
   },
   "outputs": [
    {
     "name": "stdout",
     "output_type": "stream",
     "text": [
      "Dropping features: ['maxdeutsch1', 'maxdeutsch.Missing.']\n"
     ]
    }
   ],
   "source": [
    "if len(excluded_features_columns) > 0:\n",
    "    print(f\"Dropping features: {excluded_features_columns}\")\n",
    "    X_test.drop(excluded_features_columns, axis=1, inplace=True)"
   ]
  },
  {
   "cell_type": "code",
   "execution_count": 24,
   "id": "1853aaf5-fb9f-46cb-a2b5-8ea4ae2237e4",
   "metadata": {
    "execution": {
     "iopub.execute_input": "2025-08-05T20:37:27.283887Z",
     "iopub.status.busy": "2025-08-05T20:37:27.283233Z",
     "iopub.status.idle": "2025-08-05T20:37:27.317861Z",
     "shell.execute_reply": "2025-08-05T20:37:27.315818Z"
    },
    "papermill": {
     "duration": 0.057792,
     "end_time": "2025-08-05T20:37:27.321184",
     "exception": false,
     "start_time": "2025-08-05T20:37:27.263392",
     "status": "completed"
    },
    "tags": []
   },
   "outputs": [
    {
     "name": "stdout",
     "output_type": "stream",
     "text": [
      "Dropping features: ['maxdeutsch1', 'maxdeutsch.Missing.']\n"
     ]
    }
   ],
   "source": [
    "if len(excluded_features_columns) > 0:\n",
    "    print(f\"Dropping features: {excluded_features_columns}\")\n",
    "    X_calib.drop(excluded_features_columns, axis=1, inplace=True)"
   ]
  },
  {
   "cell_type": "code",
   "execution_count": 25,
   "id": "76c4dc6d",
   "metadata": {
    "execution": {
     "iopub.execute_input": "2025-08-05T20:37:27.360188Z",
     "iopub.status.busy": "2025-08-05T20:37:27.359804Z",
     "iopub.status.idle": "2025-08-05T20:37:27.365091Z",
     "shell.execute_reply": "2025-08-05T20:37:27.364143Z"
    },
    "papermill": {
     "duration": 0.026769,
     "end_time": "2025-08-05T20:37:27.367624",
     "exception": false,
     "start_time": "2025-08-05T20:37:27.340855",
     "status": "completed"
    },
    "tags": []
   },
   "outputs": [],
   "source": [
    "# EXCLUDE CERTAIN SUBGROUPS\n",
    "# ----------------------\n",
    "\n",
    "mode = universe.get(\"exclude_subgroups\", \"keep-all\") \n",
    "# Fetches the exclude_subgroups setting from the universe dict.\n",
    "# Defaults to \"keep-all\" if the key is missing."
   ]
  },
  {
   "cell_type": "code",
   "execution_count": 26,
   "id": "21994072",
   "metadata": {
    "execution": {
     "iopub.execute_input": "2025-08-05T20:37:27.406118Z",
     "iopub.status.busy": "2025-08-05T20:37:27.405700Z",
     "iopub.status.idle": "2025-08-05T20:37:27.411958Z",
     "shell.execute_reply": "2025-08-05T20:37:27.410916Z"
    },
    "papermill": {
     "duration": 0.027325,
     "end_time": "2025-08-05T20:37:27.413929",
     "exception": false,
     "start_time": "2025-08-05T20:37:27.386604",
     "status": "completed"
    },
    "tags": []
   },
   "outputs": [],
   "source": [
    "if mode == \"keep-all\":\n",
    "    keep_mask = pd.Series(True, index=org_train.index)\n",
    "\n",
    "# org_train contains the original feature columns from features_org (in Simson)\n",
    "# features_org contains unprocessed features, for me X_train at beginning ???\n",
    "# For keep-all, creates a boolean Series (keep_mask) of all True, so no rows are removed.\n",
    "\n",
    "elif mode == \"drop-non-german\":\n",
    "    keep_mask = org_train[\"maxdeutsch1\"] == 1 # ??? what about missing values?\n",
    "\n",
    "else:\n",
    "    raise ValueError(f\"Unsupported mode for exclude_subgroups: {mode}\")"
   ]
  },
  {
   "cell_type": "code",
   "execution_count": 27,
   "id": "71651440",
   "metadata": {
    "execution": {
     "iopub.execute_input": "2025-08-05T20:37:27.453478Z",
     "iopub.status.busy": "2025-08-05T20:37:27.452864Z",
     "iopub.status.idle": "2025-08-05T20:37:27.459336Z",
     "shell.execute_reply": "2025-08-05T20:37:27.458416Z"
    },
    "papermill": {
     "duration": 0.027652,
     "end_time": "2025-08-05T20:37:27.461093",
     "exception": false,
     "start_time": "2025-08-05T20:37:27.433441",
     "status": "completed"
    },
    "tags": []
   },
   "outputs": [],
   "source": [
    "n_drop = (~keep_mask).sum() # Calculates how many rows are set to be dropped\n",
    "if n_drop > 0:\n",
    "    pct = n_drop / len(keep_mask) * 100\n",
    "    print(f\"Dropping {n_drop} rows ({pct:.2f}%) where mode='{mode}'\")"
   ]
  },
  {
   "cell_type": "code",
   "execution_count": 28,
   "id": "5fb8eee5",
   "metadata": {
    "execution": {
     "iopub.execute_input": "2025-08-05T20:37:27.499647Z",
     "iopub.status.busy": "2025-08-05T20:37:27.498843Z",
     "iopub.status.idle": "2025-08-05T20:37:27.513766Z",
     "shell.execute_reply": "2025-08-05T20:37:27.512711Z"
    },
    "papermill": {
     "duration": 0.036037,
     "end_time": "2025-08-05T20:37:27.515852",
     "exception": false,
     "start_time": "2025-08-05T20:37:27.479815",
     "status": "completed"
    },
    "tags": []
   },
   "outputs": [],
   "source": [
    "X_train = X_train[keep_mask]"
   ]
  },
  {
   "cell_type": "code",
   "execution_count": 29,
   "id": "b202bb3a",
   "metadata": {
    "execution": {
     "iopub.execute_input": "2025-08-05T20:37:27.555979Z",
     "iopub.status.busy": "2025-08-05T20:37:27.555307Z",
     "iopub.status.idle": "2025-08-05T20:37:27.562169Z",
     "shell.execute_reply": "2025-08-05T20:37:27.561053Z"
    },
    "papermill": {
     "duration": 0.02856,
     "end_time": "2025-08-05T20:37:27.563882",
     "exception": false,
     "start_time": "2025-08-05T20:37:27.535322",
     "status": "completed"
    },
    "tags": []
   },
   "outputs": [],
   "source": [
    "y_train = y_train[keep_mask]"
   ]
  },
  {
   "cell_type": "markdown",
   "id": "493e2ac3",
   "metadata": {
    "papermill": {
     "duration": 0.019159,
     "end_time": "2025-08-05T20:37:27.602487",
     "exception": false,
     "start_time": "2025-08-05T20:37:27.583328",
     "status": "completed"
    },
    "tags": []
   },
   "source": [
    "# Model Training"
   ]
  },
  {
   "cell_type": "code",
   "execution_count": 30,
   "id": "679e1268",
   "metadata": {
    "execution": {
     "iopub.execute_input": "2025-08-05T20:37:27.640141Z",
     "iopub.status.busy": "2025-08-05T20:37:27.639196Z",
     "iopub.status.idle": "2025-08-05T20:37:27.742000Z",
     "shell.execute_reply": "2025-08-05T20:37:27.741033Z"
    },
    "papermill": {
     "duration": 0.123542,
     "end_time": "2025-08-05T20:37:27.744023",
     "exception": false,
     "start_time": "2025-08-05T20:37:27.620481",
     "status": "completed"
    },
    "tags": []
   },
   "outputs": [],
   "source": [
    "from sklearn.linear_model import LogisticRegression\n",
    "from sklearn.ensemble import GradientBoostingClassifier, RandomForestClassifier\n",
    "\n",
    "if (universe[\"model\"] == \"logreg\"):\n",
    "    model = LogisticRegression() #penalty=\"none\", solver=\"newton-cg\", max_iter=1) # include random_state=19 ?\n",
    "elif (universe[\"model\"] == \"penalized_logreg\"):\n",
    "    model = LogisticRegression(penalty=\"l2\", C=0.1) #, solver=\"newton-cg\", max_iter=1)\n",
    "elif (universe[\"model\"] == \"rf\"):\n",
    "    model = RandomForestClassifier() # n_estimators=100, n_jobs=-1\n",
    "elif (universe[\"model\"] == \"gbm\"):\n",
    "    model = GradientBoostingClassifier()\n",
    "elif (universe[\"model\"] == \"elasticnet\"):\n",
    "    model = LogisticRegression(penalty = 'elasticnet', solver = 'saga', l1_ratio = 0.5) # max_iter=5000\n",
    "else:\n",
    "    raise \"Unsupported universe.model\""
   ]
  },
  {
   "cell_type": "code",
   "execution_count": 31,
   "id": "0cc8f744",
   "metadata": {
    "execution": {
     "iopub.execute_input": "2025-08-05T20:37:27.783774Z",
     "iopub.status.busy": "2025-08-05T20:37:27.783002Z",
     "iopub.status.idle": "2025-08-05T20:37:27.789444Z",
     "shell.execute_reply": "2025-08-05T20:37:27.788453Z"
    },
    "papermill": {
     "duration": 0.032988,
     "end_time": "2025-08-05T20:37:27.796118",
     "exception": false,
     "start_time": "2025-08-05T20:37:27.763130",
     "status": "completed"
    },
    "tags": []
   },
   "outputs": [],
   "source": [
    "import numpy as np\n",
    "from sklearn.pipeline import Pipeline\n",
    "from sklearn.preprocessing import StandardScaler\n",
    "\n",
    "model = Pipeline([\n",
    "    #(\"continuous_processor\", continuous_processor),\n",
    "    #(\"categorical_preprocessor\", categorical_preprocessor),\n",
    "    (\"scale\", StandardScaler() if universe[\"scale\"] == \"scale\" else None), \n",
    "    (\"model\", model),\n",
    "])"
   ]
  },
  {
   "cell_type": "code",
   "execution_count": 32,
   "id": "9442c04d",
   "metadata": {
    "execution": {
     "iopub.execute_input": "2025-08-05T20:37:27.840278Z",
     "iopub.status.busy": "2025-08-05T20:37:27.839614Z",
     "iopub.status.idle": "2025-08-05T20:37:56.699081Z",
     "shell.execute_reply": "2025-08-05T20:37:56.697884Z"
    },
    "papermill": {
     "duration": 28.883893,
     "end_time": "2025-08-05T20:37:56.700753",
     "exception": false,
     "start_time": "2025-08-05T20:37:27.816860",
     "status": "completed"
    },
    "tags": []
   },
   "outputs": [
    {
     "data": {
      "text/html": [
       "<style>#sk-container-id-1 {color: black;background-color: white;}#sk-container-id-1 pre{padding: 0;}#sk-container-id-1 div.sk-toggleable {background-color: white;}#sk-container-id-1 label.sk-toggleable__label {cursor: pointer;display: block;width: 100%;margin-bottom: 0;padding: 0.3em;box-sizing: border-box;text-align: center;}#sk-container-id-1 label.sk-toggleable__label-arrow:before {content: \"▸\";float: left;margin-right: 0.25em;color: #696969;}#sk-container-id-1 label.sk-toggleable__label-arrow:hover:before {color: black;}#sk-container-id-1 div.sk-estimator:hover label.sk-toggleable__label-arrow:before {color: black;}#sk-container-id-1 div.sk-toggleable__content {max-height: 0;max-width: 0;overflow: hidden;text-align: left;background-color: #f0f8ff;}#sk-container-id-1 div.sk-toggleable__content pre {margin: 0.2em;color: black;border-radius: 0.25em;background-color: #f0f8ff;}#sk-container-id-1 input.sk-toggleable__control:checked~div.sk-toggleable__content {max-height: 200px;max-width: 100%;overflow: auto;}#sk-container-id-1 input.sk-toggleable__control:checked~label.sk-toggleable__label-arrow:before {content: \"▾\";}#sk-container-id-1 div.sk-estimator input.sk-toggleable__control:checked~label.sk-toggleable__label {background-color: #d4ebff;}#sk-container-id-1 div.sk-label input.sk-toggleable__control:checked~label.sk-toggleable__label {background-color: #d4ebff;}#sk-container-id-1 input.sk-hidden--visually {border: 0;clip: rect(1px 1px 1px 1px);clip: rect(1px, 1px, 1px, 1px);height: 1px;margin: -1px;overflow: hidden;padding: 0;position: absolute;width: 1px;}#sk-container-id-1 div.sk-estimator {font-family: monospace;background-color: #f0f8ff;border: 1px dotted black;border-radius: 0.25em;box-sizing: border-box;margin-bottom: 0.5em;}#sk-container-id-1 div.sk-estimator:hover {background-color: #d4ebff;}#sk-container-id-1 div.sk-parallel-item::after {content: \"\";width: 100%;border-bottom: 1px solid gray;flex-grow: 1;}#sk-container-id-1 div.sk-label:hover label.sk-toggleable__label {background-color: #d4ebff;}#sk-container-id-1 div.sk-serial::before {content: \"\";position: absolute;border-left: 1px solid gray;box-sizing: border-box;top: 0;bottom: 0;left: 50%;z-index: 0;}#sk-container-id-1 div.sk-serial {display: flex;flex-direction: column;align-items: center;background-color: white;padding-right: 0.2em;padding-left: 0.2em;position: relative;}#sk-container-id-1 div.sk-item {position: relative;z-index: 1;}#sk-container-id-1 div.sk-parallel {display: flex;align-items: stretch;justify-content: center;background-color: white;position: relative;}#sk-container-id-1 div.sk-item::before, #sk-container-id-1 div.sk-parallel-item::before {content: \"\";position: absolute;border-left: 1px solid gray;box-sizing: border-box;top: 0;bottom: 0;left: 50%;z-index: -1;}#sk-container-id-1 div.sk-parallel-item {display: flex;flex-direction: column;z-index: 1;position: relative;background-color: white;}#sk-container-id-1 div.sk-parallel-item:first-child::after {align-self: flex-end;width: 50%;}#sk-container-id-1 div.sk-parallel-item:last-child::after {align-self: flex-start;width: 50%;}#sk-container-id-1 div.sk-parallel-item:only-child::after {width: 0;}#sk-container-id-1 div.sk-dashed-wrapped {border: 1px dashed gray;margin: 0 0.4em 0.5em 0.4em;box-sizing: border-box;padding-bottom: 0.4em;background-color: white;}#sk-container-id-1 div.sk-label label {font-family: monospace;font-weight: bold;display: inline-block;line-height: 1.2em;}#sk-container-id-1 div.sk-label-container {text-align: center;}#sk-container-id-1 div.sk-container {/* jupyter's `normalize.less` sets `[hidden] { display: none; }` but bootstrap.min.css set `[hidden] { display: none !important; }` so we also need the `!important` here to be able to override the default hidden behavior on the sphinx rendered scikit-learn.org. See: https://github.com/scikit-learn/scikit-learn/issues/21755 */display: inline-block !important;position: relative;}#sk-container-id-1 div.sk-text-repr-fallback {display: none;}</style><div id=\"sk-container-id-1\" class=\"sk-top-container\"><div class=\"sk-text-repr-fallback\"><pre>Pipeline(steps=[(&#x27;scale&#x27;, StandardScaler()),\n",
       "                (&#x27;model&#x27;, GradientBoostingClassifier())])</pre><b>In a Jupyter environment, please rerun this cell to show the HTML representation or trust the notebook. <br />On GitHub, the HTML representation is unable to render, please try loading this page with nbviewer.org.</b></div><div class=\"sk-container\" hidden><div class=\"sk-item sk-dashed-wrapped\"><div class=\"sk-label-container\"><div class=\"sk-label sk-toggleable\"><input class=\"sk-toggleable__control sk-hidden--visually\" id=\"sk-estimator-id-1\" type=\"checkbox\" ><label for=\"sk-estimator-id-1\" class=\"sk-toggleable__label sk-toggleable__label-arrow\">Pipeline</label><div class=\"sk-toggleable__content\"><pre>Pipeline(steps=[(&#x27;scale&#x27;, StandardScaler()),\n",
       "                (&#x27;model&#x27;, GradientBoostingClassifier())])</pre></div></div></div><div class=\"sk-serial\"><div class=\"sk-item\"><div class=\"sk-estimator sk-toggleable\"><input class=\"sk-toggleable__control sk-hidden--visually\" id=\"sk-estimator-id-2\" type=\"checkbox\" ><label for=\"sk-estimator-id-2\" class=\"sk-toggleable__label sk-toggleable__label-arrow\">StandardScaler</label><div class=\"sk-toggleable__content\"><pre>StandardScaler()</pre></div></div></div><div class=\"sk-item\"><div class=\"sk-estimator sk-toggleable\"><input class=\"sk-toggleable__control sk-hidden--visually\" id=\"sk-estimator-id-3\" type=\"checkbox\" ><label for=\"sk-estimator-id-3\" class=\"sk-toggleable__label sk-toggleable__label-arrow\">GradientBoostingClassifier</label><div class=\"sk-toggleable__content\"><pre>GradientBoostingClassifier()</pre></div></div></div></div></div></div></div>"
      ],
      "text/plain": [
       "Pipeline(steps=[('scale', StandardScaler()),\n",
       "                ('model', GradientBoostingClassifier())])"
      ]
     },
     "execution_count": 32,
     "metadata": {},
     "output_type": "execute_result"
    }
   ],
   "source": [
    "model.fit(X_train, y_train.values.ravel())"
   ]
  },
  {
   "cell_type": "code",
   "execution_count": 33,
   "id": "af59f8c0",
   "metadata": {
    "execution": {
     "iopub.execute_input": "2025-08-05T20:37:56.745081Z",
     "iopub.status.busy": "2025-08-05T20:37:56.744548Z",
     "iopub.status.idle": "2025-08-05T20:37:56.750561Z",
     "shell.execute_reply": "2025-08-05T20:37:56.749483Z"
    },
    "papermill": {
     "duration": 0.029703,
     "end_time": "2025-08-05T20:37:56.752295",
     "exception": false,
     "start_time": "2025-08-05T20:37:56.722592",
     "status": "completed"
    },
    "tags": []
   },
   "outputs": [],
   "source": [
    "from fairness_multiverse.universe import predict_w_threshold"
   ]
  },
  {
   "cell_type": "code",
   "execution_count": 34,
   "id": "a7cf2e16",
   "metadata": {
    "execution": {
     "iopub.execute_input": "2025-08-05T20:37:56.792081Z",
     "iopub.status.busy": "2025-08-05T20:37:56.791373Z",
     "iopub.status.idle": "2025-08-05T20:37:57.646546Z",
     "shell.execute_reply": "2025-08-05T20:37:57.645399Z"
    },
    "papermill": {
     "duration": 0.878052,
     "end_time": "2025-08-05T20:37:57.648286",
     "exception": false,
     "start_time": "2025-08-05T20:37:56.770234",
     "status": "completed"
    },
    "tags": []
   },
   "outputs": [
    {
     "data": {
      "text/plain": [
       "0.8714970460372311"
      ]
     },
     "execution_count": 34,
     "metadata": {},
     "output_type": "execute_result"
    }
   ],
   "source": [
    "probs_test = model.predict_proba(X_test)\n",
    "\n",
    "'''\n",
    "Below code returns a boolean array (or binary 0/1 array depending on how it’s used) where each element \n",
    "is True if the probability of class 1 is greater than or equal to the threshold, and False otherwise.\n",
    "'''\n",
    "y_pred_default = predict_w_threshold(probs_test, 0.5)\n",
    "\n",
    "from sklearn.metrics import accuracy_score\n",
    "\n",
    "# Naive prediction\n",
    "accuracy_score(y_true = y_true, y_pred = y_pred_default)"
   ]
  },
  {
   "cell_type": "code",
   "execution_count": 35,
   "id": "081964c3",
   "metadata": {
    "execution": {
     "iopub.execute_input": "2025-08-05T20:37:57.692264Z",
     "iopub.status.busy": "2025-08-05T20:37:57.691736Z",
     "iopub.status.idle": "2025-08-05T20:37:58.555065Z",
     "shell.execute_reply": "2025-08-05T20:37:58.554120Z"
    },
    "papermill": {
     "duration": 0.887118,
     "end_time": "2025-08-05T20:37:58.556883",
     "exception": false,
     "start_time": "2025-08-05T20:37:57.669765",
     "status": "completed"
    },
    "tags": []
   },
   "outputs": [
    {
     "data": {
      "text/plain": [
       "array([0, 0, 0, ..., 0, 0, 0])"
      ]
     },
     "execution_count": 35,
     "metadata": {},
     "output_type": "execute_result"
    }
   ],
   "source": [
    "model.predict(X_test)"
   ]
  },
  {
   "cell_type": "markdown",
   "id": "56c9705b",
   "metadata": {
    "papermill": {
     "duration": 0.021025,
     "end_time": "2025-08-05T20:37:58.600111",
     "exception": false,
     "start_time": "2025-08-05T20:37:58.579086",
     "status": "completed"
    },
    "tags": []
   },
   "source": [
    "# Conformal Prediction"
   ]
  },
  {
   "cell_type": "code",
   "execution_count": 36,
   "id": "160ec6ff",
   "metadata": {
    "execution": {
     "iopub.execute_input": "2025-08-05T20:37:58.645470Z",
     "iopub.status.busy": "2025-08-05T20:37:58.644542Z",
     "iopub.status.idle": "2025-08-05T20:37:58.650053Z",
     "shell.execute_reply": "2025-08-05T20:37:58.649021Z"
    },
    "papermill": {
     "duration": 0.030259,
     "end_time": "2025-08-05T20:37:58.651967",
     "exception": false,
     "start_time": "2025-08-05T20:37:58.621708",
     "status": "completed"
    },
    "tags": []
   },
   "outputs": [],
   "source": [
    "# Miscoverage level for conformal prediction (10% allowed error rate => 90% target coverage)\n",
    "alpha = 0.1"
   ]
  },
  {
   "cell_type": "code",
   "execution_count": 37,
   "id": "eadf4555-3dd3-440e-8e35-f82a4ad9f855",
   "metadata": {
    "execution": {
     "iopub.execute_input": "2025-08-05T20:37:58.696986Z",
     "iopub.status.busy": "2025-08-05T20:37:58.696462Z",
     "iopub.status.idle": "2025-08-05T20:37:59.407574Z",
     "shell.execute_reply": "2025-08-05T20:37:59.406539Z"
    },
    "papermill": {
     "duration": 0.734981,
     "end_time": "2025-08-05T20:37:59.409173",
     "exception": false,
     "start_time": "2025-08-05T20:37:58.674192",
     "status": "completed"
    },
    "tags": []
   },
   "outputs": [],
   "source": [
    "probs_calib = model.predict_proba(X_calib)"
   ]
  },
  {
   "cell_type": "code",
   "execution_count": 38,
   "id": "2ed93547-6d5d-4983-9b36-1ecb300da49a",
   "metadata": {
    "execution": {
     "iopub.execute_input": "2025-08-05T20:37:59.455030Z",
     "iopub.status.busy": "2025-08-05T20:37:59.454190Z",
     "iopub.status.idle": "2025-08-05T20:37:59.460459Z",
     "shell.execute_reply": "2025-08-05T20:37:59.459373Z"
    },
    "papermill": {
     "duration": 0.029717,
     "end_time": "2025-08-05T20:37:59.462373",
     "exception": false,
     "start_time": "2025-08-05T20:37:59.432656",
     "status": "completed"
    },
    "tags": []
   },
   "outputs": [],
   "source": [
    "y_calib = y_calib.values.ravel().astype(int)"
   ]
  },
  {
   "cell_type": "code",
   "execution_count": 39,
   "id": "65d1320d-f588-4b38-9072-62af1ae97f7d",
   "metadata": {
    "execution": {
     "iopub.execute_input": "2025-08-05T20:37:59.505198Z",
     "iopub.status.busy": "2025-08-05T20:37:59.504732Z",
     "iopub.status.idle": "2025-08-05T20:37:59.512081Z",
     "shell.execute_reply": "2025-08-05T20:37:59.511035Z"
    },
    "papermill": {
     "duration": 0.030554,
     "end_time": "2025-08-05T20:37:59.513789",
     "exception": false,
     "start_time": "2025-08-05T20:37:59.483235",
     "status": "completed"
    },
    "tags": []
   },
   "outputs": [],
   "source": [
    "from fairness_multiverse.conformal import compute_nc_scores\n",
    "\n",
    "# Compute nonconformity scores on calibration set (1 - probability of true class)\n",
    "nc_scores = compute_nc_scores(probs_calib, y_calib)"
   ]
  },
  {
   "cell_type": "code",
   "execution_count": 40,
   "id": "df3b8ca3-53b7-43d5-9667-7c85da7aeda2",
   "metadata": {
    "execution": {
     "iopub.execute_input": "2025-08-05T20:37:59.556694Z",
     "iopub.status.busy": "2025-08-05T20:37:59.556364Z",
     "iopub.status.idle": "2025-08-05T20:37:59.562633Z",
     "shell.execute_reply": "2025-08-05T20:37:59.561545Z"
    },
    "papermill": {
     "duration": 0.029612,
     "end_time": "2025-08-05T20:37:59.564385",
     "exception": false,
     "start_time": "2025-08-05T20:37:59.534773",
     "status": "completed"
    },
    "tags": []
   },
   "outputs": [],
   "source": [
    "from fairness_multiverse.conformal import find_threshold\n",
    "\n",
    "# Find conformal threshold q_hat for the given alpha (split conformal method)\n",
    "q_hat = find_threshold(nc_scores, alpha)"
   ]
  },
  {
   "cell_type": "code",
   "execution_count": 41,
   "id": "4d29e6c1-0ef6-4aa4-b8fe-4fe79b0d033a",
   "metadata": {
    "execution": {
     "iopub.execute_input": "2025-08-05T20:37:59.608281Z",
     "iopub.status.busy": "2025-08-05T20:37:59.607409Z",
     "iopub.status.idle": "2025-08-05T20:37:59.614710Z",
     "shell.execute_reply": "2025-08-05T20:37:59.613625Z"
    },
    "papermill": {
     "duration": 0.030621,
     "end_time": "2025-08-05T20:37:59.616060",
     "exception": false,
     "start_time": "2025-08-05T20:37:59.585439",
     "status": "completed"
    },
    "tags": []
   },
   "outputs": [
    {
     "data": {
      "text/plain": [
       "0.6808046259109541"
      ]
     },
     "execution_count": 41,
     "metadata": {},
     "output_type": "execute_result"
    }
   ],
   "source": [
    "q_hat"
   ]
  },
  {
   "cell_type": "code",
   "execution_count": 42,
   "id": "92460794-cdac-4be2-ba28-f28c0515a6fb",
   "metadata": {
    "execution": {
     "iopub.execute_input": "2025-08-05T20:37:59.657356Z",
     "iopub.status.busy": "2025-08-05T20:37:59.656890Z",
     "iopub.status.idle": "2025-08-05T20:38:01.084762Z",
     "shell.execute_reply": "2025-08-05T20:38:01.083860Z"
    },
    "papermill": {
     "duration": 1.450106,
     "end_time": "2025-08-05T20:38:01.086587",
     "exception": false,
     "start_time": "2025-08-05T20:37:59.636481",
     "status": "completed"
    },
    "tags": []
   },
   "outputs": [],
   "source": [
    "from fairness_multiverse.conformal import predict_conformal_sets\n",
    "\n",
    "# Generate prediction sets for each test example\n",
    "pred_sets = predict_conformal_sets(model, X_test, q_hat)"
   ]
  },
  {
   "cell_type": "code",
   "execution_count": 43,
   "id": "d90c9a65-e6db-4f5d-80cd-e68fb7e46829",
   "metadata": {
    "execution": {
     "iopub.execute_input": "2025-08-05T20:38:01.128342Z",
     "iopub.status.busy": "2025-08-05T20:38:01.127459Z",
     "iopub.status.idle": "2025-08-05T20:38:01.132842Z",
     "shell.execute_reply": "2025-08-05T20:38:01.131867Z"
    },
    "papermill": {
     "duration": 0.030341,
     "end_time": "2025-08-05T20:38:01.135113",
     "exception": false,
     "start_time": "2025-08-05T20:38:01.104772",
     "status": "completed"
    },
    "tags": []
   },
   "outputs": [],
   "source": [
    "y_true = y_true.squeeze()"
   ]
  },
  {
   "cell_type": "code",
   "execution_count": 44,
   "id": "3a58a54a-1e68-46b9-927a-df01f18aebc8",
   "metadata": {
    "execution": {
     "iopub.execute_input": "2025-08-05T20:38:01.178110Z",
     "iopub.status.busy": "2025-08-05T20:38:01.177694Z",
     "iopub.status.idle": "2025-08-05T20:38:02.034735Z",
     "shell.execute_reply": "2025-08-05T20:38:02.033579Z"
    },
    "papermill": {
     "duration": 0.880713,
     "end_time": "2025-08-05T20:38:02.036390",
     "exception": false,
     "start_time": "2025-08-05T20:38:01.155677",
     "status": "completed"
    },
    "tags": []
   },
   "outputs": [],
   "source": [
    "from fairness_multiverse.conformal import evaluate_sets\n",
    "\n",
    "# Evaluate coverage and average set size on test data\n",
    "metrics = evaluate_sets(pred_sets, y_true)"
   ]
  },
  {
   "cell_type": "markdown",
   "id": "2b569c12-9aaa-4c88-98c9-bbcd0cf3ebb8",
   "metadata": {
    "papermill": {
     "duration": 0.021643,
     "end_time": "2025-08-05T20:38:02.079774",
     "exception": false,
     "start_time": "2025-08-05T20:38:02.058131",
     "status": "completed"
    },
    "tags": []
   },
   "source": [
    "# CP Metrics"
   ]
  },
  {
   "cell_type": "code",
   "execution_count": 45,
   "id": "5ce0a5cb-201f-45a0-ade5-94c7f0bd6095",
   "metadata": {
    "execution": {
     "iopub.execute_input": "2025-08-05T20:38:02.124285Z",
     "iopub.status.busy": "2025-08-05T20:38:02.123843Z",
     "iopub.status.idle": "2025-08-05T20:38:02.131670Z",
     "shell.execute_reply": "2025-08-05T20:38:02.130637Z"
    },
    "papermill": {
     "duration": 0.032337,
     "end_time": "2025-08-05T20:38:02.133661",
     "exception": false,
     "start_time": "2025-08-05T20:38:02.101324",
     "status": "completed"
    },
    "tags": []
   },
   "outputs": [
    {
     "data": {
      "text/plain": [
       "{'coverage': 0.9105896778508528, 'avg_size': 1.1107791773492364}"
      ]
     },
     "execution_count": 45,
     "metadata": {},
     "output_type": "execute_result"
    }
   ],
   "source": [
    "metrics"
   ]
  },
  {
   "cell_type": "code",
   "execution_count": 46,
   "id": "9b9a838d-31c9-430b-ae14-12baee460d17",
   "metadata": {
    "execution": {
     "iopub.execute_input": "2025-08-05T20:38:02.179571Z",
     "iopub.status.busy": "2025-08-05T20:38:02.178892Z",
     "iopub.status.idle": "2025-08-05T20:38:02.185717Z",
     "shell.execute_reply": "2025-08-05T20:38:02.184596Z"
    },
    "papermill": {
     "duration": 0.031257,
     "end_time": "2025-08-05T20:38:02.187644",
     "exception": false,
     "start_time": "2025-08-05T20:38:02.156387",
     "status": "completed"
    },
    "tags": []
   },
   "outputs": [],
   "source": [
    "example_universe = universe.copy()\n",
    "universe_training_year = example_universe.get(\"training_year\")\n",
    "universe_training_size = example_universe.get(\"training_size\")\n",
    "universe_scale = example_universe.get(\"scale\")\n",
    "universe_model = example_universe.get(\"model\")\n",
    "universe_exclude_features = example_universe.get(\"exclude_features\")\n",
    "universe_exclude_subgroups = example_universe.get(\"exclude_subgroups\")"
   ]
  },
  {
   "cell_type": "code",
   "execution_count": 47,
   "id": "f4b6a8ac-9dc0-4245-8a91-5b3b5999c4f9",
   "metadata": {
    "execution": {
     "iopub.execute_input": "2025-08-05T20:38:02.234217Z",
     "iopub.status.busy": "2025-08-05T20:38:02.233593Z",
     "iopub.status.idle": "2025-08-05T20:38:02.240482Z",
     "shell.execute_reply": "2025-08-05T20:38:02.239388Z"
    },
    "papermill": {
     "duration": 0.032062,
     "end_time": "2025-08-05T20:38:02.242574",
     "exception": false,
     "start_time": "2025-08-05T20:38:02.210512",
     "status": "completed"
    },
    "tags": []
   },
   "outputs": [],
   "source": [
    "cp_metrics_dict = {\n",
    "    \"universe_id\": [universe_id],\n",
    "    \"universe_training_year\": [universe_training_year],\n",
    "    \"universe_training_size\": [universe_training_size],\n",
    "    \"universe_scale\": [universe_scale],\n",
    "    \"universe_model\": [universe_model],\n",
    "    \"universe_exclude_features\": [universe_exclude_features],\n",
    "    \"universe_exclude_subgroups\": [universe_exclude_subgroups],\n",
    "    \"q_hat\": [q_hat],\n",
    "    \"coverage\": [metrics[\"coverage\"]],\n",
    "    \"avg_size\": [metrics[\"avg_size\"]],\n",
    "}"
   ]
  },
  {
   "cell_type": "code",
   "execution_count": 48,
   "id": "908acbb1-0371-4915-85ca-3fa520d2efe2",
   "metadata": {
    "execution": {
     "iopub.execute_input": "2025-08-05T20:38:02.289443Z",
     "iopub.status.busy": "2025-08-05T20:38:02.288768Z",
     "iopub.status.idle": "2025-08-05T20:38:02.296776Z",
     "shell.execute_reply": "2025-08-05T20:38:02.295635Z"
    },
    "papermill": {
     "duration": 0.032772,
     "end_time": "2025-08-05T20:38:02.298701",
     "exception": false,
     "start_time": "2025-08-05T20:38:02.265929",
     "status": "completed"
    },
    "tags": []
   },
   "outputs": [
    {
     "data": {
      "text/plain": [
       "{'universe_id': ['2e69c14e2cb12198272b131466ca8c37'],\n",
       " 'universe_training_year': ['2014'],\n",
       " 'universe_training_size': ['25k'],\n",
       " 'universe_scale': ['scale'],\n",
       " 'universe_model': ['gbm'],\n",
       " 'universe_exclude_features': ['nationality'],\n",
       " 'universe_exclude_subgroups': ['keep-all'],\n",
       " 'q_hat': [0.6808046259109541],\n",
       " 'coverage': [0.9105896778508528],\n",
       " 'avg_size': [1.1107791773492364]}"
      ]
     },
     "execution_count": 48,
     "metadata": {},
     "output_type": "execute_result"
    }
   ],
   "source": [
    "cp_metrics_dict"
   ]
  },
  {
   "cell_type": "code",
   "execution_count": 49,
   "id": "33007efc-14e9-4ec6-97ac-56a455c82265",
   "metadata": {
    "execution": {
     "iopub.execute_input": "2025-08-05T20:38:02.345551Z",
     "iopub.status.busy": "2025-08-05T20:38:02.344739Z",
     "iopub.status.idle": "2025-08-05T20:38:02.351707Z",
     "shell.execute_reply": "2025-08-05T20:38:02.350545Z"
    },
    "papermill": {
     "duration": 0.032415,
     "end_time": "2025-08-05T20:38:02.353769",
     "exception": false,
     "start_time": "2025-08-05T20:38:02.321354",
     "status": "completed"
    },
    "tags": []
   },
   "outputs": [],
   "source": [
    "cp_metrics_df = pd.DataFrame(cp_metrics_dict)"
   ]
  },
  {
   "cell_type": "code",
   "execution_count": 50,
   "id": "db12611b-57b2-4910-b9d0-355adfd6e7bf",
   "metadata": {
    "execution": {
     "iopub.execute_input": "2025-08-05T20:38:02.400417Z",
     "iopub.status.busy": "2025-08-05T20:38:02.399743Z",
     "iopub.status.idle": "2025-08-05T20:38:02.420542Z",
     "shell.execute_reply": "2025-08-05T20:38:02.419597Z"
    },
    "papermill": {
     "duration": 0.045458,
     "end_time": "2025-08-05T20:38:02.422191",
     "exception": false,
     "start_time": "2025-08-05T20:38:02.376733",
     "status": "completed"
    },
    "tags": []
   },
   "outputs": [
    {
     "data": {
      "text/html": [
       "<div>\n",
       "<style scoped>\n",
       "    .dataframe tbody tr th:only-of-type {\n",
       "        vertical-align: middle;\n",
       "    }\n",
       "\n",
       "    .dataframe tbody tr th {\n",
       "        vertical-align: top;\n",
       "    }\n",
       "\n",
       "    .dataframe thead th {\n",
       "        text-align: right;\n",
       "    }\n",
       "</style>\n",
       "<table border=\"1\" class=\"dataframe\">\n",
       "  <thead>\n",
       "    <tr style=\"text-align: right;\">\n",
       "      <th></th>\n",
       "      <th>universe_id</th>\n",
       "      <th>universe_training_year</th>\n",
       "      <th>universe_training_size</th>\n",
       "      <th>universe_scale</th>\n",
       "      <th>universe_model</th>\n",
       "      <th>universe_exclude_features</th>\n",
       "      <th>universe_exclude_subgroups</th>\n",
       "      <th>q_hat</th>\n",
       "      <th>coverage</th>\n",
       "      <th>avg_size</th>\n",
       "    </tr>\n",
       "  </thead>\n",
       "  <tbody>\n",
       "    <tr>\n",
       "      <th>0</th>\n",
       "      <td>2e69c14e2cb12198272b131466ca8c37</td>\n",
       "      <td>2014</td>\n",
       "      <td>25k</td>\n",
       "      <td>scale</td>\n",
       "      <td>gbm</td>\n",
       "      <td>nationality</td>\n",
       "      <td>keep-all</td>\n",
       "      <td>0.680805</td>\n",
       "      <td>0.91059</td>\n",
       "      <td>1.110779</td>\n",
       "    </tr>\n",
       "  </tbody>\n",
       "</table>\n",
       "</div>"
      ],
      "text/plain": [
       "                        universe_id universe_training_year  \\\n",
       "0  2e69c14e2cb12198272b131466ca8c37                   2014   \n",
       "\n",
       "  universe_training_size universe_scale universe_model  \\\n",
       "0                    25k          scale            gbm   \n",
       "\n",
       "  universe_exclude_features universe_exclude_subgroups     q_hat  coverage  \\\n",
       "0               nationality                   keep-all  0.680805   0.91059   \n",
       "\n",
       "   avg_size  \n",
       "0  1.110779  "
      ]
     },
     "execution_count": 50,
     "metadata": {},
     "output_type": "execute_result"
    }
   ],
   "source": [
    "cp_metrics_df"
   ]
  },
  {
   "cell_type": "code",
   "execution_count": 51,
   "id": "b7fbde55-a0a1-47e4-9af6-fe4a17fa8c61",
   "metadata": {
    "execution": {
     "iopub.execute_input": "2025-08-05T20:38:02.468540Z",
     "iopub.status.busy": "2025-08-05T20:38:02.467967Z",
     "iopub.status.idle": "2025-08-05T20:38:02.473058Z",
     "shell.execute_reply": "2025-08-05T20:38:02.471953Z"
    },
    "papermill": {
     "duration": 0.03028,
     "end_time": "2025-08-05T20:38:02.474973",
     "exception": false,
     "start_time": "2025-08-05T20:38:02.444693",
     "status": "completed"
    },
    "tags": []
   },
   "outputs": [],
   "source": [
    "# Conditional Coverage & looking at subgroups"
   ]
  },
  {
   "cell_type": "code",
   "execution_count": 52,
   "id": "027ae886-68dd-4141-96c7-805a5450e1ef",
   "metadata": {
    "execution": {
     "iopub.execute_input": "2025-08-05T20:38:02.522542Z",
     "iopub.status.busy": "2025-08-05T20:38:02.521852Z",
     "iopub.status.idle": "2025-08-05T20:38:02.791558Z",
     "shell.execute_reply": "2025-08-05T20:38:02.790515Z"
    },
    "papermill": {
     "duration": 0.295208,
     "end_time": "2025-08-05T20:38:02.793637",
     "exception": false,
     "start_time": "2025-08-05T20:38:02.498429",
     "status": "completed"
    },
    "tags": []
   },
   "outputs": [],
   "source": [
    "from fairness_multiverse.conformal import build_cp_groups\n",
    "\n",
    "cp_groups_df = build_cp_groups(pred_sets, y_true, X_test.index, org_test)\n",
    "#needs universe_id and setting"
   ]
  },
  {
   "cell_type": "code",
   "execution_count": 53,
   "id": "6cbdab96-b2b2-45af-ad54-d0516db2e28d",
   "metadata": {
    "execution": {
     "iopub.execute_input": "2025-08-05T20:38:02.842568Z",
     "iopub.status.busy": "2025-08-05T20:38:02.841793Z",
     "iopub.status.idle": "2025-08-05T20:38:04.427970Z",
     "shell.execute_reply": "2025-08-05T20:38:04.427073Z"
    },
    "papermill": {
     "duration": 1.611647,
     "end_time": "2025-08-05T20:38:04.429779",
     "exception": false,
     "start_time": "2025-08-05T20:38:02.818132",
     "status": "completed"
    },
    "tags": []
   },
   "outputs": [],
   "source": [
    "# Define covered = 1 if true_label is in the predicted set\n",
    "cp_groups_df['covered'] = cp_groups_df.apply(\n",
    "    lambda r: int(r['true_label'] in r['pred_set']),\n",
    "    axis=1\n",
    ")"
   ]
  },
  {
   "cell_type": "code",
   "execution_count": 54,
   "id": "338ff529-1a6b-4b87-a931-8e4788d52aad",
   "metadata": {
    "execution": {
     "iopub.execute_input": "2025-08-05T20:38:04.471223Z",
     "iopub.status.busy": "2025-08-05T20:38:04.470846Z",
     "iopub.status.idle": "2025-08-05T20:38:04.475451Z",
     "shell.execute_reply": "2025-08-05T20:38:04.474535Z"
    },
    "papermill": {
     "duration": 0.02708,
     "end_time": "2025-08-05T20:38:04.477113",
     "exception": false,
     "start_time": "2025-08-05T20:38:04.450033",
     "status": "completed"
    },
    "tags": []
   },
   "outputs": [],
   "source": [
    "#cp_groups_df"
   ]
  },
  {
   "cell_type": "code",
   "execution_count": 55,
   "id": "90032e27-66df-4540-9169-4e89cfbaa758",
   "metadata": {
    "execution": {
     "iopub.execute_input": "2025-08-05T20:38:04.519102Z",
     "iopub.status.busy": "2025-08-05T20:38:04.518778Z",
     "iopub.status.idle": "2025-08-05T20:38:04.530024Z",
     "shell.execute_reply": "2025-08-05T20:38:04.529132Z"
    },
    "papermill": {
     "duration": 0.034005,
     "end_time": "2025-08-05T20:38:04.531479",
     "exception": false,
     "start_time": "2025-08-05T20:38:04.497474",
     "status": "completed"
    },
    "tags": []
   },
   "outputs": [],
   "source": [
    "subgroups = ['frau1','nongerman','nongerman_male','nongerman_female']\n",
    "\n",
    "# Conditional coverage for subgroup==1\n",
    "cond_coverage = {\n",
    "    g: cp_groups_df.loc[cp_groups_df[g]==1, 'covered'].mean()\n",
    "    for g in subgroups\n",
    "}"
   ]
  },
  {
   "cell_type": "code",
   "execution_count": 56,
   "id": "1e348fb1-b9c3-45bc-ba23-f016827a7e0d",
   "metadata": {
    "execution": {
     "iopub.execute_input": "2025-08-05T20:38:04.573633Z",
     "iopub.status.busy": "2025-08-05T20:38:04.572938Z",
     "iopub.status.idle": "2025-08-05T20:38:04.580282Z",
     "shell.execute_reply": "2025-08-05T20:38:04.579251Z"
    },
    "papermill": {
     "duration": 0.029392,
     "end_time": "2025-08-05T20:38:04.582227",
     "exception": false,
     "start_time": "2025-08-05T20:38:04.552835",
     "status": "completed"
    },
    "tags": []
   },
   "outputs": [
    {
     "data": {
      "text/plain": [
       "{'frau1': 0.9124140719773555,\n",
       " 'nongerman': 0.9102340986919666,\n",
       " 'nongerman_male': 0.9249752319193011,\n",
       " 'nongerman_female': 0.8858420268256334}"
      ]
     },
     "execution_count": 56,
     "metadata": {},
     "output_type": "execute_result"
    }
   ],
   "source": [
    "cond_coverage"
   ]
  },
  {
   "cell_type": "code",
   "execution_count": 57,
   "id": "f5093324-c3dd-4d63-bc4c-8d945e5c8bbb",
   "metadata": {
    "execution": {
     "iopub.execute_input": "2025-08-05T20:38:04.626139Z",
     "iopub.status.busy": "2025-08-05T20:38:04.625342Z",
     "iopub.status.idle": "2025-08-05T20:38:04.632001Z",
     "shell.execute_reply": "2025-08-05T20:38:04.631121Z"
    },
    "papermill": {
     "duration": 0.029288,
     "end_time": "2025-08-05T20:38:04.633755",
     "exception": false,
     "start_time": "2025-08-05T20:38:04.604467",
     "status": "completed"
    },
    "tags": []
   },
   "outputs": [],
   "source": [
    "for subgroup, cov in cond_coverage.items():\n",
    "    cp_metrics_df[f\"cov_{subgroup}\"] = cov"
   ]
  },
  {
   "cell_type": "code",
   "execution_count": 58,
   "id": "6e872e10-dbe5-49e8-b554-5030c98ff75d",
   "metadata": {
    "execution": {
     "iopub.execute_input": "2025-08-05T20:38:04.676442Z",
     "iopub.status.busy": "2025-08-05T20:38:04.675770Z",
     "iopub.status.idle": "2025-08-05T20:38:04.693713Z",
     "shell.execute_reply": "2025-08-05T20:38:04.692635Z"
    },
    "papermill": {
     "duration": 0.039664,
     "end_time": "2025-08-05T20:38:04.695251",
     "exception": false,
     "start_time": "2025-08-05T20:38:04.655587",
     "status": "completed"
    },
    "tags": []
   },
   "outputs": [
    {
     "data": {
      "text/html": [
       "<div>\n",
       "<style scoped>\n",
       "    .dataframe tbody tr th:only-of-type {\n",
       "        vertical-align: middle;\n",
       "    }\n",
       "\n",
       "    .dataframe tbody tr th {\n",
       "        vertical-align: top;\n",
       "    }\n",
       "\n",
       "    .dataframe thead th {\n",
       "        text-align: right;\n",
       "    }\n",
       "</style>\n",
       "<table border=\"1\" class=\"dataframe\">\n",
       "  <thead>\n",
       "    <tr style=\"text-align: right;\">\n",
       "      <th></th>\n",
       "      <th>universe_id</th>\n",
       "      <th>universe_training_year</th>\n",
       "      <th>universe_training_size</th>\n",
       "      <th>universe_scale</th>\n",
       "      <th>universe_model</th>\n",
       "      <th>universe_exclude_features</th>\n",
       "      <th>universe_exclude_subgroups</th>\n",
       "      <th>q_hat</th>\n",
       "      <th>coverage</th>\n",
       "      <th>avg_size</th>\n",
       "      <th>cov_frau1</th>\n",
       "      <th>cov_nongerman</th>\n",
       "      <th>cov_nongerman_male</th>\n",
       "      <th>cov_nongerman_female</th>\n",
       "    </tr>\n",
       "  </thead>\n",
       "  <tbody>\n",
       "    <tr>\n",
       "      <th>0</th>\n",
       "      <td>2e69c14e2cb12198272b131466ca8c37</td>\n",
       "      <td>2014</td>\n",
       "      <td>25k</td>\n",
       "      <td>scale</td>\n",
       "      <td>gbm</td>\n",
       "      <td>nationality</td>\n",
       "      <td>keep-all</td>\n",
       "      <td>0.680805</td>\n",
       "      <td>0.91059</td>\n",
       "      <td>1.110779</td>\n",
       "      <td>0.912414</td>\n",
       "      <td>0.910234</td>\n",
       "      <td>0.924975</td>\n",
       "      <td>0.885842</td>\n",
       "    </tr>\n",
       "  </tbody>\n",
       "</table>\n",
       "</div>"
      ],
      "text/plain": [
       "                        universe_id universe_training_year  \\\n",
       "0  2e69c14e2cb12198272b131466ca8c37                   2014   \n",
       "\n",
       "  universe_training_size universe_scale universe_model  \\\n",
       "0                    25k          scale            gbm   \n",
       "\n",
       "  universe_exclude_features universe_exclude_subgroups     q_hat  coverage  \\\n",
       "0               nationality                   keep-all  0.680805   0.91059   \n",
       "\n",
       "   avg_size  cov_frau1  cov_nongerman  cov_nongerman_male  \\\n",
       "0  1.110779   0.912414       0.910234            0.924975   \n",
       "\n",
       "   cov_nongerman_female  \n",
       "0              0.885842  "
      ]
     },
     "execution_count": 58,
     "metadata": {},
     "output_type": "execute_result"
    }
   ],
   "source": [
    "cp_metrics_df"
   ]
  },
  {
   "cell_type": "markdown",
   "id": "33774451",
   "metadata": {
    "papermill": {
     "duration": 0.021571,
     "end_time": "2025-08-05T20:38:04.739727",
     "exception": false,
     "start_time": "2025-08-05T20:38:04.718156",
     "status": "completed"
    },
    "tags": []
   },
   "source": [
    "# (Fairness) Metrics"
   ]
  },
  {
   "cell_type": "code",
   "execution_count": 59,
   "id": "debc5d62",
   "metadata": {
    "execution": {
     "iopub.execute_input": "2025-08-05T20:38:04.780913Z",
     "iopub.status.busy": "2025-08-05T20:38:04.780431Z",
     "iopub.status.idle": "2025-08-05T20:38:04.802134Z",
     "shell.execute_reply": "2025-08-05T20:38:04.801260Z"
    },
    "papermill": {
     "duration": 0.043897,
     "end_time": "2025-08-05T20:38:04.803428",
     "exception": false,
     "start_time": "2025-08-05T20:38:04.759531",
     "status": "completed"
    },
    "tags": []
   },
   "outputs": [],
   "source": [
    "# do I need to include maxdeutsch1.missing?\n",
    "\n",
    "import numpy as np\n",
    "\n",
    "colname_to_bin = \"maxdeutsch1\"\n",
    "majority_value = org_train[colname_to_bin].mode()[0]\n",
    "\n",
    "org_test[\"majmin\"] = np.where(org_test[colname_to_bin] == majority_value, \"majority\", \"minority\")"
   ]
  },
  {
   "cell_type": "code",
   "execution_count": 60,
   "id": "06a50de5",
   "metadata": {
    "execution": {
     "iopub.execute_input": "2025-08-05T20:38:04.834992Z",
     "iopub.status.busy": "2025-08-05T20:38:04.834596Z",
     "iopub.status.idle": "2025-08-05T20:38:07.018395Z",
     "shell.execute_reply": "2025-08-05T20:38:07.017670Z"
    },
    "papermill": {
     "duration": 2.198553,
     "end_time": "2025-08-05T20:38:07.019799",
     "exception": false,
     "start_time": "2025-08-05T20:38:04.821246",
     "status": "completed"
    },
    "tags": []
   },
   "outputs": [],
   "source": [
    "example_universe = universe.copy()\n",
    "example_universe[\"cutoff\"] = example_universe[\"cutoff\"][0]\n",
    "example_universe[\"eval_fairness_grouping\"] = example_universe[\"eval_fairness_grouping\"][0]\n",
    "fairness_dict, metric_frame = universe_analysis.compute_metrics(\n",
    "    example_universe,\n",
    "    y_pred_prob=probs_test,\n",
    "    y_test=y_true,\n",
    "    org_test=org_test,\n",
    ")"
   ]
  },
  {
   "cell_type": "markdown",
   "id": "f95d4e02",
   "metadata": {
    "papermill": {
     "duration": 0.010912,
     "end_time": "2025-08-05T20:38:07.042745",
     "exception": false,
     "start_time": "2025-08-05T20:38:07.031833",
     "status": "completed"
    },
    "tags": []
   },
   "source": [
    "# Overall"
   ]
  },
  {
   "cell_type": "markdown",
   "id": "bdee4871",
   "metadata": {
    "papermill": {
     "duration": 0.011049,
     "end_time": "2025-08-05T20:38:07.064838",
     "exception": false,
     "start_time": "2025-08-05T20:38:07.053789",
     "status": "completed"
    },
    "tags": []
   },
   "source": [
    "Fairness\n",
    "Main fairness target: Equalized Odds. Seems to be a better fit than equal opportunity, since we're not only interested in Y = 1. Seems to be a better fit than demographic parity, since we also care about accuracy, not just equal distribution of preds.\n",
    "\n",
    "Pick column for computation of fairness metrics\n",
    "\n",
    "Performance\n",
    "Overall performance measures, most interesting in relation to the measures split by group below"
   ]
  },
  {
   "cell_type": "code",
   "execution_count": 61,
   "id": "c4e067c6",
   "metadata": {
    "execution": {
     "iopub.execute_input": "2025-08-05T20:38:07.088230Z",
     "iopub.status.busy": "2025-08-05T20:38:07.087916Z",
     "iopub.status.idle": "2025-08-05T20:38:07.094833Z",
     "shell.execute_reply": "2025-08-05T20:38:07.093833Z"
    },
    "papermill": {
     "duration": 0.020458,
     "end_time": "2025-08-05T20:38:07.096299",
     "exception": false,
     "start_time": "2025-08-05T20:38:07.075841",
     "status": "completed"
    },
    "tags": []
   },
   "outputs": [
    {
     "data": {
      "text/plain": [
       "accuracy                   0.225114\n",
       "balanced accuracy          0.550280\n",
       "f1                         0.246425\n",
       "precision                  0.140775\n",
       "false positive rate        0.887100\n",
       "false negative rate        0.012339\n",
       "selection rate             0.900000\n",
       "count                  89710.000000\n",
       "dtype: float64"
      ]
     },
     "execution_count": 61,
     "metadata": {},
     "output_type": "execute_result"
    }
   ],
   "source": [
    "metric_frame.overall"
   ]
  },
  {
   "cell_type": "markdown",
   "id": "e968fe9d",
   "metadata": {
    "papermill": {
     "duration": 0.011183,
     "end_time": "2025-08-05T20:38:07.119545",
     "exception": false,
     "start_time": "2025-08-05T20:38:07.108362",
     "status": "completed"
    },
    "tags": []
   },
   "source": [
    "By Group"
   ]
  },
  {
   "cell_type": "code",
   "execution_count": 62,
   "id": "ec325bce",
   "metadata": {
    "execution": {
     "iopub.execute_input": "2025-08-05T20:38:07.143131Z",
     "iopub.status.busy": "2025-08-05T20:38:07.142789Z",
     "iopub.status.idle": "2025-08-05T20:38:07.158803Z",
     "shell.execute_reply": "2025-08-05T20:38:07.157794Z"
    },
    "papermill": {
     "duration": 0.030188,
     "end_time": "2025-08-05T20:38:07.160793",
     "exception": false,
     "start_time": "2025-08-05T20:38:07.130605",
     "status": "completed"
    },
    "tags": []
   },
   "outputs": [
    {
     "data": {
      "text/html": [
       "<div>\n",
       "<style scoped>\n",
       "    .dataframe tbody tr th:only-of-type {\n",
       "        vertical-align: middle;\n",
       "    }\n",
       "\n",
       "    .dataframe tbody tr th {\n",
       "        vertical-align: top;\n",
       "    }\n",
       "\n",
       "    .dataframe thead th {\n",
       "        text-align: right;\n",
       "    }\n",
       "</style>\n",
       "<table border=\"1\" class=\"dataframe\">\n",
       "  <thead>\n",
       "    <tr style=\"text-align: right;\">\n",
       "      <th></th>\n",
       "      <th>accuracy</th>\n",
       "      <th>balanced accuracy</th>\n",
       "      <th>f1</th>\n",
       "      <th>precision</th>\n",
       "      <th>false positive rate</th>\n",
       "      <th>false negative rate</th>\n",
       "      <th>selection rate</th>\n",
       "      <th>count</th>\n",
       "    </tr>\n",
       "    <tr>\n",
       "      <th>majmin</th>\n",
       "      <th></th>\n",
       "      <th></th>\n",
       "      <th></th>\n",
       "      <th></th>\n",
       "      <th></th>\n",
       "      <th></th>\n",
       "      <th></th>\n",
       "      <th></th>\n",
       "    </tr>\n",
       "  </thead>\n",
       "  <tbody>\n",
       "    <tr>\n",
       "      <th>majority</th>\n",
       "      <td>0.245612</td>\n",
       "      <td>0.559671</td>\n",
       "      <td>0.256840</td>\n",
       "      <td>0.147638</td>\n",
       "      <td>0.86720</td>\n",
       "      <td>0.013457</td>\n",
       "      <td>0.882969</td>\n",
       "      <td>69170.0</td>\n",
       "    </tr>\n",
       "    <tr>\n",
       "      <th>minority</th>\n",
       "      <td>0.156086</td>\n",
       "      <td>0.519568</td>\n",
       "      <td>0.213235</td>\n",
       "      <td>0.119457</td>\n",
       "      <td>0.95284</td>\n",
       "      <td>0.008024</td>\n",
       "      <td>0.957352</td>\n",
       "      <td>20540.0</td>\n",
       "    </tr>\n",
       "  </tbody>\n",
       "</table>\n",
       "</div>"
      ],
      "text/plain": [
       "          accuracy  balanced accuracy        f1  precision  \\\n",
       "majmin                                                       \n",
       "majority  0.245612           0.559671  0.256840   0.147638   \n",
       "minority  0.156086           0.519568  0.213235   0.119457   \n",
       "\n",
       "          false positive rate  false negative rate  selection rate    count  \n",
       "majmin                                                                       \n",
       "majority              0.86720             0.013457        0.882969  69170.0  \n",
       "minority              0.95284             0.008024        0.957352  20540.0  "
      ]
     },
     "execution_count": 62,
     "metadata": {},
     "output_type": "execute_result"
    }
   ],
   "source": [
    "metric_frame.by_group"
   ]
  },
  {
   "cell_type": "code",
   "execution_count": 63,
   "id": "a9ddbe63",
   "metadata": {
    "execution": {
     "iopub.execute_input": "2025-08-05T20:38:07.220711Z",
     "iopub.status.busy": "2025-08-05T20:38:07.219688Z",
     "iopub.status.idle": "2025-08-05T20:38:09.628727Z",
     "shell.execute_reply": "2025-08-05T20:38:09.627966Z"
    },
    "papermill": {
     "duration": 2.444012,
     "end_time": "2025-08-05T20:38:09.630059",
     "exception": false,
     "start_time": "2025-08-05T20:38:07.186047",
     "status": "completed"
    },
    "tags": []
   },
   "outputs": [
    {
     "data": {
      "text/plain": [
       "array([[<Axes: title={'center': 'accuracy'}, xlabel='majmin'>,\n",
       "        <Axes: title={'center': 'balanced accuracy'}, xlabel='majmin'>,\n",
       "        <Axes: title={'center': 'f1'}, xlabel='majmin'>],\n",
       "       [<Axes: title={'center': 'precision'}, xlabel='majmin'>,\n",
       "        <Axes: title={'center': 'false positive rate'}, xlabel='majmin'>,\n",
       "        <Axes: title={'center': 'false negative rate'}, xlabel='majmin'>],\n",
       "       [<Axes: title={'center': 'selection rate'}, xlabel='majmin'>,\n",
       "        <Axes: title={'center': 'count'}, xlabel='majmin'>,\n",
       "        <Axes: xlabel='majmin'>]], dtype=object)"
      ]
     },
     "execution_count": 63,
     "metadata": {},
     "output_type": "execute_result"
    },
    {
     "data": {
      "image/png": "[encoded data removed]",
      "text/plain": [
       "<Figure size 1200x800 with 9 Axes>"
      ]
     },
     "metadata": {},
     "output_type": "display_data"
    }
   ],
   "source": [
    "# In a graphic\n",
    "metric_frame.by_group.plot.bar(\n",
    "    subplots=True,\n",
    "    layout=[3, 3],\n",
    "    legend=False,\n",
    "    figsize=[12, 8],\n",
    "    title=\"Show all metrics\",\n",
    ")"
   ]
  },
  {
   "cell_type": "markdown",
   "id": "f57a0bac",
   "metadata": {
    "papermill": {
     "duration": 0.013903,
     "end_time": "2025-08-05T20:38:09.660157",
     "exception": false,
     "start_time": "2025-08-05T20:38:09.646254",
     "status": "completed"
    },
    "tags": []
   },
   "source": [
    "# Final Output"
   ]
  },
  {
   "cell_type": "code",
   "execution_count": 64,
   "id": "96d280a3",
   "metadata": {
    "execution": {
     "iopub.execute_input": "2025-08-05T20:38:09.690035Z",
     "iopub.status.busy": "2025-08-05T20:38:09.689505Z",
     "iopub.status.idle": "2025-08-05T20:38:09.697205Z",
     "shell.execute_reply": "2025-08-05T20:38:09.696323Z"
    },
    "papermill": {
     "duration": 0.023833,
     "end_time": "2025-08-05T20:38:09.698605",
     "exception": false,
     "start_time": "2025-08-05T20:38:09.674772",
     "status": "completed"
    },
    "tags": []
   },
   "outputs": [
    {
     "data": {
      "text/plain": [
       "4"
      ]
     },
     "execution_count": 64,
     "metadata": {},
     "output_type": "execute_result"
    }
   ],
   "source": [
    "sub_universes = universe_analysis.generate_sub_universes()\n",
    "len(sub_universes)"
   ]
  },
  {
   "cell_type": "code",
   "execution_count": 65,
   "id": "92adf7ba",
   "metadata": {
    "execution": {
     "iopub.execute_input": "2025-08-05T20:38:09.727350Z",
     "iopub.status.busy": "2025-08-05T20:38:09.726989Z",
     "iopub.status.idle": "2025-08-05T20:38:09.750748Z",
     "shell.execute_reply": "2025-08-05T20:38:09.749790Z"
    },
    "papermill": {
     "duration": 0.040227,
     "end_time": "2025-08-05T20:38:09.752611",
     "exception": false,
     "start_time": "2025-08-05T20:38:09.712384",
     "status": "completed"
    },
    "tags": []
   },
   "outputs": [],
   "source": [
    "def filter_sub_universe_data(sub_universe, org_test):\n",
    "    # Keep all rows — no filtering\n",
    "    keep_rows_mask = np.ones(org_test.shape[0], dtype=bool)\n",
    "\n",
    "    print(f\"[INFO] Keeping all rows: {keep_rows_mask.sum()} rows retained.\")\n",
    "    return keep_rows_mask"
   ]
  },
  {
   "cell_type": "code",
   "execution_count": 66,
   "id": "4a759155",
   "metadata": {
    "execution": {
     "iopub.execute_input": "2025-08-05T20:38:09.783019Z",
     "iopub.status.busy": "2025-08-05T20:38:09.782480Z",
     "iopub.status.idle": "2025-08-05T20:38:16.364068Z",
     "shell.execute_reply": "2025-08-05T20:38:16.363303Z"
    },
    "papermill": {
     "duration": 6.597575,
     "end_time": "2025-08-05T20:38:16.365345",
     "exception": false,
     "start_time": "2025-08-05T20:38:09.767770",
     "status": "completed"
    },
    "tags": []
   },
   "outputs": [
    {
     "name": "stdout",
     "output_type": "stream",
     "text": [
      "Stopping execution_time clock.\n",
      "[INFO] Keeping all rows: 89710 rows retained.\n"
     ]
    },
    {
     "name": "stdout",
     "output_type": "stream",
     "text": [
      "[INFO] Keeping all rows: 89710 rows retained.\n"
     ]
    },
    {
     "name": "stdout",
     "output_type": "stream",
     "text": [
      "[INFO] Keeping all rows: 89710 rows retained.\n"
     ]
    },
    {
     "name": "stdout",
     "output_type": "stream",
     "text": [
      "[INFO] Keeping all rows: 89710 rows retained.\n"
     ]
    },
    {
     "data": {
      "text/html": [
       "<div>\n",
       "<style scoped>\n",
       "    .dataframe tbody tr th:only-of-type {\n",
       "        vertical-align: middle;\n",
       "    }\n",
       "\n",
       "    .dataframe tbody tr th {\n",
       "        vertical-align: top;\n",
       "    }\n",
       "\n",
       "    .dataframe thead th {\n",
       "        text-align: right;\n",
       "    }\n",
       "</style>\n",
       "<table border=\"1\" class=\"dataframe\">\n",
       "  <thead>\n",
       "    <tr style=\"text-align: right;\">\n",
       "      <th></th>\n",
       "      <th>run_no</th>\n",
       "      <th>universe_id</th>\n",
       "      <th>universe_settings</th>\n",
       "      <th>execution_time</th>\n",
       "      <th>test_size_n</th>\n",
       "      <th>test_size_frac</th>\n",
       "      <th>fair_main_equalized_odds_difference</th>\n",
       "      <th>fair_main_equalized_odds_ratio</th>\n",
       "      <th>fair_main_demographic_parity_difference</th>\n",
       "      <th>fair_main_demographic_parity_ratio</th>\n",
       "      <th>...</th>\n",
       "      <th>perf_grp_precision_0</th>\n",
       "      <th>perf_grp_precision_1</th>\n",
       "      <th>perf_grp_false positive rate_0</th>\n",
       "      <th>perf_grp_false positive rate_1</th>\n",
       "      <th>perf_grp_false negative rate_0</th>\n",
       "      <th>perf_grp_false negative rate_1</th>\n",
       "      <th>perf_grp_selection rate_0</th>\n",
       "      <th>perf_grp_selection rate_1</th>\n",
       "      <th>perf_grp_count_0</th>\n",
       "      <th>perf_grp_count_1</th>\n",
       "    </tr>\n",
       "  </thead>\n",
       "  <tbody>\n",
       "    <tr>\n",
       "      <th>0</th>\n",
       "      <td>16</td>\n",
       "      <td>2e69c14e2cb12198272b131466ca8c37</td>\n",
       "      <td>{\"cutoff\": \"quantile_0.1\", \"eval_fairness_grou...</td>\n",
       "      <td>53.358166</td>\n",
       "      <td>89710</td>\n",
       "      <td>1.0</td>\n",
       "      <td>0.085640</td>\n",
       "      <td>0.910121</td>\n",
       "      <td>0.074382</td>\n",
       "      <td>0.922304</td>\n",
       "      <td>...</td>\n",
       "      <td>NaN</td>\n",
       "      <td>NaN</td>\n",
       "      <td>NaN</td>\n",
       "      <td>NaN</td>\n",
       "      <td>NaN</td>\n",
       "      <td>NaN</td>\n",
       "      <td>NaN</td>\n",
       "      <td>NaN</td>\n",
       "      <td>NaN</td>\n",
       "      <td>NaN</td>\n",
       "    </tr>\n",
       "    <tr>\n",
       "      <th>0</th>\n",
       "      <td>16</td>\n",
       "      <td>2e69c14e2cb12198272b131466ca8c37</td>\n",
       "      <td>{\"cutoff\": \"quantile_0.1\", \"eval_fairness_grou...</td>\n",
       "      <td>53.358166</td>\n",
       "      <td>89710</td>\n",
       "      <td>1.0</td>\n",
       "      <td>0.085640</td>\n",
       "      <td>0.910121</td>\n",
       "      <td>0.074382</td>\n",
       "      <td>0.922304</td>\n",
       "      <td>...</td>\n",
       "      <td>0.119457</td>\n",
       "      <td>0.147638</td>\n",
       "      <td>0.952840</td>\n",
       "      <td>0.867200</td>\n",
       "      <td>0.008024</td>\n",
       "      <td>0.013457</td>\n",
       "      <td>0.957352</td>\n",
       "      <td>0.882969</td>\n",
       "      <td>20540.0</td>\n",
       "      <td>69170.0</td>\n",
       "    </tr>\n",
       "    <tr>\n",
       "      <th>0</th>\n",
       "      <td>16</td>\n",
       "      <td>2e69c14e2cb12198272b131466ca8c37</td>\n",
       "      <td>{\"cutoff\": \"quantile_0.25\", \"eval_fairness_gro...</td>\n",
       "      <td>53.358166</td>\n",
       "      <td>89710</td>\n",
       "      <td>1.0</td>\n",
       "      <td>0.099288</td>\n",
       "      <td>0.875440</td>\n",
       "      <td>0.082156</td>\n",
       "      <td>0.898990</td>\n",
       "      <td>...</td>\n",
       "      <td>NaN</td>\n",
       "      <td>NaN</td>\n",
       "      <td>NaN</td>\n",
       "      <td>NaN</td>\n",
       "      <td>NaN</td>\n",
       "      <td>NaN</td>\n",
       "      <td>NaN</td>\n",
       "      <td>NaN</td>\n",
       "      <td>NaN</td>\n",
       "      <td>NaN</td>\n",
       "    </tr>\n",
       "    <tr>\n",
       "      <th>0</th>\n",
       "      <td>16</td>\n",
       "      <td>2e69c14e2cb12198272b131466ca8c37</td>\n",
       "      <td>{\"cutoff\": \"quantile_0.25\", \"eval_fairness_gro...</td>\n",
       "      <td>53.358166</td>\n",
       "      <td>89710</td>\n",
       "      <td>1.0</td>\n",
       "      <td>0.099288</td>\n",
       "      <td>0.875440</td>\n",
       "      <td>0.082156</td>\n",
       "      <td>0.898990</td>\n",
       "      <td>...</td>\n",
       "      <td>0.132946</td>\n",
       "      <td>0.171742</td>\n",
       "      <td>0.797105</td>\n",
       "      <td>0.697818</td>\n",
       "      <td>0.062078</td>\n",
       "      <td>0.049672</td>\n",
       "      <td>0.813340</td>\n",
       "      <td>0.731184</td>\n",
       "      <td>20540.0</td>\n",
       "      <td>69170.0</td>\n",
       "    </tr>\n",
       "  </tbody>\n",
       "</table>\n",
       "<p>4 rows × 50 columns</p>\n",
       "</div>"
      ],
      "text/plain": [
       "  run_no                       universe_id  \\\n",
       "0     16  2e69c14e2cb12198272b131466ca8c37   \n",
       "0     16  2e69c14e2cb12198272b131466ca8c37   \n",
       "0     16  2e69c14e2cb12198272b131466ca8c37   \n",
       "0     16  2e69c14e2cb12198272b131466ca8c37   \n",
       "\n",
       "                                   universe_settings  execution_time  \\\n",
       "0  {\"cutoff\": \"quantile_0.1\", \"eval_fairness_grou...       53.358166   \n",
       "0  {\"cutoff\": \"quantile_0.1\", \"eval_fairness_grou...       53.358166   \n",
       "0  {\"cutoff\": \"quantile_0.25\", \"eval_fairness_gro...       53.358166   \n",
       "0  {\"cutoff\": \"quantile_0.25\", \"eval_fairness_gro...       53.358166   \n",
       "\n",
       "   test_size_n  test_size_frac  fair_main_equalized_odds_difference  \\\n",
       "0        89710             1.0                             0.085640   \n",
       "0        89710             1.0                             0.085640   \n",
       "0        89710             1.0                             0.099288   \n",
       "0        89710             1.0                             0.099288   \n",
       "\n",
       "   fair_main_equalized_odds_ratio  fair_main_demographic_parity_difference  \\\n",
       "0                        0.910121                                 0.074382   \n",
       "0                        0.910121                                 0.074382   \n",
       "0                        0.875440                                 0.082156   \n",
       "0                        0.875440                                 0.082156   \n",
       "\n",
       "   fair_main_demographic_parity_ratio  ...  perf_grp_precision_0  \\\n",
       "0                            0.922304  ...                   NaN   \n",
       "0                            0.922304  ...              0.119457   \n",
       "0                            0.898990  ...                   NaN   \n",
       "0                            0.898990  ...              0.132946   \n",
       "\n",
       "   perf_grp_precision_1  perf_grp_false positive rate_0  \\\n",
       "0                   NaN                             NaN   \n",
       "0              0.147638                        0.952840   \n",
       "0                   NaN                             NaN   \n",
       "0              0.171742                        0.797105   \n",
       "\n",
       "   perf_grp_false positive rate_1  perf_grp_false negative rate_0  \\\n",
       "0                             NaN                             NaN   \n",
       "0                        0.867200                        0.008024   \n",
       "0                             NaN                             NaN   \n",
       "0                        0.697818                        0.062078   \n",
       "\n",
       "   perf_grp_false negative rate_1  perf_grp_selection rate_0  \\\n",
       "0                             NaN                        NaN   \n",
       "0                        0.013457                   0.957352   \n",
       "0                             NaN                        NaN   \n",
       "0                        0.049672                   0.813340   \n",
       "\n",
       "   perf_grp_selection rate_1  perf_grp_count_0  perf_grp_count_1  \n",
       "0                        NaN               NaN               NaN  \n",
       "0                   0.882969           20540.0           69170.0  \n",
       "0                        NaN               NaN               NaN  \n",
       "0                   0.731184           20540.0           69170.0  \n",
       "\n",
       "[4 rows x 50 columns]"
      ]
     },
     "execution_count": 66,
     "metadata": {},
     "output_type": "execute_result"
    }
   ],
   "source": [
    "final_output = universe_analysis.generate_final_output(\n",
    "    y_pred_prob=probs_test,\n",
    "    y_test=y_true,\n",
    "    org_test=org_test,\n",
    "    filter_data=filter_sub_universe_data,\n",
    "    cp_metrics_df=cp_metrics_df,\n",
    "    save=True,\n",
    ")\n",
    "final_output"
   ]
  }
 ],
 "metadata": {
  "celltoolbar": "Tags",
  "kernelspec": {
   "display_name": "Python (CMA Fairness)",
   "language": "python",
   "name": "cma_fair_env"
  },
  "language_info": {
   "codemirror_mode": {
    "name": "ipython",
    "version": 3
   },
   "file_extension": ".py",
   "mimetype": "text/x-python",
   "name": "python",
   "nbconvert_exporter": "python",
   "pygments_lexer": "ipython3",
   "version": "3.10.12"
  },
  "papermill": {
   "default_parameters": {},
   "duration": 64.029505,
   "end_time": "2025-08-05T20:38:17.099531",
   "environment_variables": {},
   "exception": null,
   "input_path": "universe_analysis.ipynb",
   "output_path": "output/runs/16/notebooks/m_16-2e69c14e2cb12198272b131466ca8c37.ipynb",
   "parameters": {
    "output_dir": "output",
    "run_no": "16",
    "seed": "2023",
    "universe": "{\"cutoff\": [\"quantile_0.1\", \"quantile_0.25\"], \"eval_fairness_grouping\": [\"majority-minority\", \"nationality-all\"], \"exclude_features\": \"nationality\", \"exclude_subgroups\": \"keep-all\", \"model\": \"gbm\", \"scale\": \"scale\", \"training_size\": \"25k\", \"training_year\": \"2014\"}",
    "universe_id": "2e69c14e2cb12198272b131466ca8c37"
   },
   "start_time": "2025-08-05T20:37:13.070026",
   "version": "2.6.0"
  }
 },
 "nbformat": 4,
 "nbformat_minor": 5
}