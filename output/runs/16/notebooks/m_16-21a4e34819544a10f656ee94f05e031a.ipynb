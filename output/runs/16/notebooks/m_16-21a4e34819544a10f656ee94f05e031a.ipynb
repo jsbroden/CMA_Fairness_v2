{
 "cells": [
  {
   "cell_type": "code",
   "execution_count": 1,
   "id": "f159f837-637b-42ba-96b5-ec9a68c44524",
   "metadata": {
    "execution": {
     "iopub.execute_input": "2025-08-05T20:50:09.052332Z",
     "iopub.status.busy": "2025-08-05T20:50:09.051830Z",
     "iopub.status.idle": "2025-08-05T20:50:09.062603Z",
     "shell.execute_reply": "2025-08-05T20:50:09.061208Z"
    },
    "papermill": {
     "duration": 0.024952,
     "end_time": "2025-08-05T20:50:09.064084",
     "exception": false,
     "start_time": "2025-08-05T20:50:09.039132",
     "status": "completed"
    },
    "tags": []
   },
   "outputs": [
    {
     "name": "stdout",
     "output_type": "stream",
     "text": [
      "/dss/dsshome1/0C/ra93lal2/cma/CMA_Fairness_v2\n"
     ]
    },
    {
     "name": "stderr",
     "output_type": "stream",
     "text": [
      "/dss/dsshome1/0C/ra93lal2/.local/share/virtualenvs/CMA_Fairness_v2-3j10GkSs/lib/python3.10/site-packages/IPython/core/magics/osm.py:393: UserWarning: This is now an optional IPython functionality, using bookmarks requires you to install the `pickleshare` library.\n",
      "  bkms = self.shell.db.get('bookmarks', {})\n",
      "/dss/dsshome1/0C/ra93lal2/.local/share/virtualenvs/CMA_Fairness_v2-3j10GkSs/lib/python3.10/site-packages/IPython/core/magics/osm.py:417: UserWarning: This is now an optional IPython functionality, setting dhist requires you to install the `pickleshare` library.\n",
      "  self.shell.db['dhist'] = compress_dhist(dhist)[-100:]\n"
     ]
    }
   ],
   "source": [
    "%cd ~/cma/CMA_Fairness_v2"
   ]
  },
  {
   "cell_type": "markdown",
   "id": "de2603b9",
   "metadata": {
    "papermill": {
     "duration": 0.008039,
     "end_time": "2025-08-05T20:50:09.081022",
     "exception": false,
     "start_time": "2025-08-05T20:50:09.072983",
     "status": "completed"
    },
    "tags": []
   },
   "source": [
    "The following cell holds the definition of our parameters, these values can be overriden by rendering the with e.g. the following command:\n",
    "\n",
    "papermill -p alpha 0.2 -p ratio 0.3 universe_analysis.ipynb output/test_run.ipynb"
   ]
  },
  {
   "cell_type": "code",
   "execution_count": 2,
   "id": "a80968a0-40bb-4fa9-85ef-2d5eefb01975",
   "metadata": {
    "execution": {
     "iopub.execute_input": "2025-08-05T20:50:09.115769Z",
     "iopub.status.busy": "2025-08-05T20:50:09.115311Z",
     "iopub.status.idle": "2025-08-05T20:50:09.120345Z",
     "shell.execute_reply": "2025-08-05T20:50:09.119466Z"
    },
    "papermill": {
     "duration": 0.024861,
     "end_time": "2025-08-05T20:50:09.122208",
     "exception": false,
     "start_time": "2025-08-05T20:50:09.097347",
     "status": "completed"
    },
    "tags": []
   },
   "outputs": [
    {
     "name": "stdout",
     "output_type": "stream",
     "text": [
      "Current working directory: /dss/dsshome1/0C/ra93lal2/cma/CMA_Fairness_v2\n"
     ]
    }
   ],
   "source": [
    "import os\n",
    "print(\"Current working directory:\", os.getcwd())"
   ]
  },
  {
   "cell_type": "code",
   "execution_count": 3,
   "id": "2dce4c03",
   "metadata": {
    "execution": {
     "iopub.execute_input": "2025-08-05T20:50:09.158419Z",
     "iopub.status.busy": "2025-08-05T20:50:09.158063Z",
     "iopub.status.idle": "2025-08-05T20:50:09.163683Z",
     "shell.execute_reply": "2025-08-05T20:50:09.162689Z"
    },
    "papermill": {
     "duration": 0.025459,
     "end_time": "2025-08-05T20:50:09.165374",
     "exception": false,
     "start_time": "2025-08-05T20:50:09.139915",
     "status": "completed"
    },
    "tags": [
     "parameters"
    ]
   },
   "outputs": [],
   "source": [
    "run_no = 0\n",
    "universe_id = \"test\"\n",
    "universe = {\n",
    "    \"training_size\": \"25k\", # \"25k\", \"5k\", \"1k\"\n",
    "    \"training_year\": \"2014\", # \"2014\", \"2012_14\", \"2010_14\"\n",
    "    \"scale\": \"scale\", # \"scale\", \"do-not-scale\",\n",
    "    \"model\": \"elasticnet\", # \"logreg\", \"penalized_logreg\", \"rf\", \"gbm\", \"elasticnet\"\n",
    "    \"cutoff\": [\"quantile_0.15\", \"quantile_0.30\"],\n",
    "    \"exclude_features\": \"age\", # \"none\", \"nationality\", \"sex\", \"nationality-sex\", \"age\"\n",
    "    \"exclude_subgroups\": \"keep-all\", # \"keep-all\", \"drop-non-german\"\n",
    "    \"eval_fairness_grouping\": [\"majority-minority\", \"nationality-all\"]\n",
    "}\n",
    "\n",
    "output_dir=\"./output\"\n",
    "seed=0"
   ]
  },
  {
   "cell_type": "code",
   "execution_count": 4,
   "id": "cebcac3a",
   "metadata": {
    "execution": {
     "iopub.execute_input": "2025-08-05T20:50:09.201447Z",
     "iopub.status.busy": "2025-08-05T20:50:09.200657Z",
     "iopub.status.idle": "2025-08-05T20:50:09.205859Z",
     "shell.execute_reply": "2025-08-05T20:50:09.204883Z"
    },
    "papermill": {
     "duration": 0.02487,
     "end_time": "2025-08-05T20:50:09.207638",
     "exception": false,
     "start_time": "2025-08-05T20:50:09.182768",
     "status": "completed"
    },
    "tags": [
     "injected-parameters"
    ]
   },
   "outputs": [],
   "source": [
    "# Parameters\n",
    "universe_id = \"21a4e34819544a10f656ee94f05e031a\"\n",
    "run_no = \"16\"\n",
    "universe = \"{\\\"cutoff\\\": [\\\"quantile_0.1\\\", \\\"quantile_0.25\\\"], \\\"eval_fairness_grouping\\\": [\\\"majority-minority\\\", \\\"nationality-all\\\"], \\\"exclude_features\\\": \\\"nationality\\\", \\\"exclude_subgroups\\\": \\\"keep-all\\\", \\\"model\\\": \\\"penalized_logreg\\\", \\\"scale\\\": \\\"scale\\\", \\\"training_size\\\": \\\"25k\\\", \\\"training_year\\\": \\\"2012_14\\\"}\"\n",
    "output_dir = \"output\"\n",
    "seed = \"2023\"\n"
   ]
  },
  {
   "cell_type": "code",
   "execution_count": 5,
   "id": "1650acaf",
   "metadata": {
    "execution": {
     "iopub.execute_input": "2025-08-05T20:50:09.243483Z",
     "iopub.status.busy": "2025-08-05T20:50:09.242794Z",
     "iopub.status.idle": "2025-08-05T20:50:09.247704Z",
     "shell.execute_reply": "2025-08-05T20:50:09.246656Z"
    },
    "papermill": {
     "duration": 0.024361,
     "end_time": "2025-08-05T20:50:09.249409",
     "exception": false,
     "start_time": "2025-08-05T20:50:09.225048",
     "status": "completed"
    },
    "tags": []
   },
   "outputs": [],
   "source": [
    "import json\n",
    "if isinstance(universe, str):\n",
    "    universe = json.loads(universe)"
   ]
  },
  {
   "cell_type": "code",
   "execution_count": 6,
   "id": "16620c48",
   "metadata": {
    "execution": {
     "iopub.execute_input": "2025-08-05T20:50:09.285605Z",
     "iopub.status.busy": "2025-08-05T20:50:09.285153Z",
     "iopub.status.idle": "2025-08-05T20:50:09.328624Z",
     "shell.execute_reply": "2025-08-05T20:50:09.327765Z"
    },
    "papermill": {
     "duration": 0.062957,
     "end_time": "2025-08-05T20:50:09.330284",
     "exception": false,
     "start_time": "2025-08-05T20:50:09.267327",
     "status": "completed"
    },
    "tags": []
   },
   "outputs": [],
   "source": [
    "# Auto-reload the custom package\n",
    "%load_ext autoreload\n",
    "%autoreload 1\n",
    "%aimport fairness_multiverse"
   ]
  },
  {
   "cell_type": "code",
   "execution_count": 7,
   "id": "01c5c9f3",
   "metadata": {
    "execution": {
     "iopub.execute_input": "2025-08-05T20:50:09.366375Z",
     "iopub.status.busy": "2025-08-05T20:50:09.365719Z",
     "iopub.status.idle": "2025-08-05T20:50:11.134815Z",
     "shell.execute_reply": "2025-08-05T20:50:11.133617Z"
    },
    "papermill": {
     "duration": 1.788967,
     "end_time": "2025-08-05T20:50:11.136774",
     "exception": false,
     "start_time": "2025-08-05T20:50:09.347807",
     "status": "completed"
    },
    "tags": []
   },
   "outputs": [],
   "source": [
    "from fairness_multiverse.universe import UniverseAnalysis\n",
    "\n",
    "universe_analysis = UniverseAnalysis(\n",
    "    run_no = run_no,\n",
    "    universe_id = universe_id,\n",
    "    universe = universe,\n",
    "    output_dir=output_dir,\n",
    ")"
   ]
  },
  {
   "cell_type": "code",
   "execution_count": 8,
   "id": "106241f5",
   "metadata": {
    "execution": {
     "iopub.execute_input": "2025-08-05T20:50:11.173195Z",
     "iopub.status.busy": "2025-08-05T20:50:11.172471Z",
     "iopub.status.idle": "2025-08-05T20:50:11.179610Z",
     "shell.execute_reply": "2025-08-05T20:50:11.178622Z"
    },
    "papermill": {
     "duration": 0.026627,
     "end_time": "2025-08-05T20:50:11.181157",
     "exception": false,
     "start_time": "2025-08-05T20:50:11.154530",
     "status": "completed"
    },
    "tags": []
   },
   "outputs": [
    {
     "name": "stdout",
     "output_type": "stream",
     "text": [
      "Using Seed: 2023\n"
     ]
    }
   ],
   "source": [
    "import numpy as np\n",
    "parsed_seed = int(seed)\n",
    "np.random.seed(parsed_seed)\n",
    "print(f\"Using Seed: {parsed_seed}\")"
   ]
  },
  {
   "cell_type": "markdown",
   "id": "e0ebdc57",
   "metadata": {
    "papermill": {
     "duration": 0.015833,
     "end_time": "2025-08-05T20:50:11.214219",
     "exception": false,
     "start_time": "2025-08-05T20:50:11.198386",
     "status": "completed"
    },
    "tags": []
   },
   "source": [
    "# Loading Data"
   ]
  },
  {
   "cell_type": "code",
   "execution_count": 9,
   "id": "f0496b8a",
   "metadata": {
    "execution": {
     "iopub.execute_input": "2025-08-05T20:50:11.249606Z",
     "iopub.status.busy": "2025-08-05T20:50:11.248973Z",
     "iopub.status.idle": "2025-08-05T20:50:21.959034Z",
     "shell.execute_reply": "2025-08-05T20:50:21.957862Z"
    },
    "papermill": {
     "duration": 10.729417,
     "end_time": "2025-08-05T20:50:21.960395",
     "exception": false,
     "start_time": "2025-08-05T20:50:11.230978",
     "status": "completed"
    },
    "tags": []
   },
   "outputs": [
    {
     "name": "stdout",
     "output_type": "stream",
     "text": [
      "Loading SIAB data from cache: data/siab_cached.csv.gz\n"
     ]
    },
    {
     "name": "stdout",
     "output_type": "stream",
     "text": [
      "(643690, 164)\n"
     ]
    }
   ],
   "source": [
    "from pathlib import Path\n",
    "import pandas as pd\n",
    "\n",
    "# File paths\n",
    "raw_file = Path(\"data/raw/siab.csv\")\n",
    "cache_file = Path(\"data/siab_cached.csv.gz\")\n",
    "\n",
    "# Ensure cache directory exists\n",
    "cache_file.parent.mkdir(parents=True, exist_ok=True)\n",
    "\n",
    "# Load with simple caching\n",
    "if cache_file.exists():\n",
    "    print(f\"Loading SIAB data from cache: {cache_file}\")\n",
    "    siab = pd.read_csv(cache_file, compression='gzip')\n",
    "else:\n",
    "    print(f\"Cache not found. Reading raw SIAB data: {raw_file}\")\n",
    "    siab = pd.read_csv(raw_file)\n",
    "    siab.to_csv(cache_file, index=False, compression='gzip')\n",
    "    print(f\"Cached SIAB data to: {cache_file}\")\n",
    "\n",
    "print(siab.shape)"
   ]
  },
  {
   "cell_type": "code",
   "execution_count": 10,
   "id": "db0ca512-5f53-4dba-abdb-a2888bca41ba",
   "metadata": {
    "execution": {
     "iopub.execute_input": "2025-08-05T20:50:21.982919Z",
     "iopub.status.busy": "2025-08-05T20:50:21.982252Z",
     "iopub.status.idle": "2025-08-05T20:50:21.987468Z",
     "shell.execute_reply": "2025-08-05T20:50:21.986712Z"
    },
    "papermill": {
     "duration": 0.016725,
     "end_time": "2025-08-05T20:50:21.988723",
     "exception": false,
     "start_time": "2025-08-05T20:50:21.971998",
     "status": "completed"
    },
    "tags": []
   },
   "outputs": [],
   "source": [
    "#siab"
   ]
  },
  {
   "cell_type": "markdown",
   "id": "997051c5-15bd-4b69-9786-c3001a3ce484",
   "metadata": {
    "papermill": {
     "duration": 0.009566,
     "end_time": "2025-08-05T20:50:22.009023",
     "exception": false,
     "start_time": "2025-08-05T20:50:21.999457",
     "status": "completed"
    },
    "tags": []
   },
   "source": [
    "# Splitting Data and Setting Training Data Size"
   ]
  },
  {
   "cell_type": "code",
   "execution_count": 11,
   "id": "aea9c6ef-6f46-42c8-85eb-5a62025c1508",
   "metadata": {
    "execution": {
     "iopub.execute_input": "2025-08-05T20:50:22.029071Z",
     "iopub.status.busy": "2025-08-05T20:50:22.028298Z",
     "iopub.status.idle": "2025-08-05T20:50:22.617710Z",
     "shell.execute_reply": "2025-08-05T20:50:22.616906Z"
    },
    "papermill": {
     "duration": 0.601147,
     "end_time": "2025-08-05T20:50:22.619360",
     "exception": false,
     "start_time": "2025-08-05T20:50:22.018213",
     "status": "completed"
    },
    "tags": []
   },
   "outputs": [],
   "source": [
    "from fairness_multiverse.universe import sample_by_year_size\n",
    "\n",
    "siab_train = sample_by_year_size(siab,\n",
    "                               training_year=universe[\"training_year\"],\n",
    "                               training_size=universe[\"training_size\"])"
   ]
  },
  {
   "cell_type": "code",
   "execution_count": 12,
   "id": "8d3afb32-789d-442c-8d5d-9f5aa8dd2eed",
   "metadata": {
    "execution": {
     "iopub.execute_input": "2025-08-05T20:50:22.638826Z",
     "iopub.status.busy": "2025-08-05T20:50:22.638531Z",
     "iopub.status.idle": "2025-08-05T20:50:22.642563Z",
     "shell.execute_reply": "2025-08-05T20:50:22.641705Z"
    },
    "papermill": {
     "duration": 0.014971,
     "end_time": "2025-08-05T20:50:22.643973",
     "exception": false,
     "start_time": "2025-08-05T20:50:22.629002",
     "status": "completed"
    },
    "tags": []
   },
   "outputs": [],
   "source": [
    "#siab_train.shape"
   ]
  },
  {
   "cell_type": "code",
   "execution_count": 13,
   "id": "d582db68-1a4c-47fb-84fc-08518dc1975a",
   "metadata": {
    "execution": {
     "iopub.execute_input": "2025-08-05T20:50:22.663619Z",
     "iopub.status.busy": "2025-08-05T20:50:22.662972Z",
     "iopub.status.idle": "2025-08-05T20:50:22.667147Z",
     "shell.execute_reply": "2025-08-05T20:50:22.666403Z"
    },
    "papermill": {
     "duration": 0.015028,
     "end_time": "2025-08-05T20:50:22.668428",
     "exception": false,
     "start_time": "2025-08-05T20:50:22.653400",
     "status": "completed"
    },
    "tags": []
   },
   "outputs": [],
   "source": [
    "#display(siab_train.groupby(\"year\").size())"
   ]
  },
  {
   "cell_type": "code",
   "execution_count": 14,
   "id": "a561edb4-d032-42cb-8256-22eac1111c64",
   "metadata": {
    "execution": {
     "iopub.execute_input": "2025-08-05T20:50:22.687898Z",
     "iopub.status.busy": "2025-08-05T20:50:22.687504Z",
     "iopub.status.idle": "2025-08-05T20:50:22.909464Z",
     "shell.execute_reply": "2025-08-05T20:50:22.908711Z"
    },
    "papermill": {
     "duration": 0.23297,
     "end_time": "2025-08-05T20:50:22.911000",
     "exception": false,
     "start_time": "2025-08-05T20:50:22.678030",
     "status": "completed"
    },
    "tags": []
   },
   "outputs": [],
   "source": [
    "#siab_train = siab_s[siab_s.year < 2015]\n",
    "siab_calib = siab[siab.year == 2015]\n",
    "siab_test = siab[siab.year == 2016]"
   ]
  },
  {
   "cell_type": "code",
   "execution_count": 15,
   "id": "472de16f-c3db-4916-846b-1f0de9cf1746",
   "metadata": {
    "execution": {
     "iopub.execute_input": "2025-08-05T20:50:22.930576Z",
     "iopub.status.busy": "2025-08-05T20:50:22.930288Z",
     "iopub.status.idle": "2025-08-05T20:50:22.942570Z",
     "shell.execute_reply": "2025-08-05T20:50:22.941584Z"
    },
    "papermill": {
     "duration": 0.023284,
     "end_time": "2025-08-05T20:50:22.943937",
     "exception": false,
     "start_time": "2025-08-05T20:50:22.920653",
     "status": "completed"
    },
    "tags": []
   },
   "outputs": [],
   "source": [
    "X_train = siab_train.iloc[:,4:164]\n",
    "y_train = siab_train.iloc[:, [3]]"
   ]
  },
  {
   "cell_type": "code",
   "execution_count": 16,
   "id": "828c96af-f43a-4ed6-ba47-8ac73a47d56c",
   "metadata": {
    "execution": {
     "iopub.execute_input": "2025-08-05T20:50:22.964331Z",
     "iopub.status.busy": "2025-08-05T20:50:22.963795Z",
     "iopub.status.idle": "2025-08-05T20:50:23.009807Z",
     "shell.execute_reply": "2025-08-05T20:50:23.008986Z"
    },
    "papermill": {
     "duration": 0.057133,
     "end_time": "2025-08-05T20:50:23.011210",
     "exception": false,
     "start_time": "2025-08-05T20:50:22.954077",
     "status": "completed"
    },
    "tags": []
   },
   "outputs": [],
   "source": [
    "X_calib = siab_calib.iloc[:,4:164]\n",
    "y_calib = siab_calib.iloc[:, [3]]"
   ]
  },
  {
   "cell_type": "code",
   "execution_count": 17,
   "id": "c34be9c3-6bd6-476e-acd3-845840e303be",
   "metadata": {
    "execution": {
     "iopub.execute_input": "2025-08-05T20:50:23.031688Z",
     "iopub.status.busy": "2025-08-05T20:50:23.030959Z",
     "iopub.status.idle": "2025-08-05T20:50:23.078203Z",
     "shell.execute_reply": "2025-08-05T20:50:23.077378Z"
    },
    "papermill": {
     "duration": 0.058486,
     "end_time": "2025-08-05T20:50:23.079762",
     "exception": false,
     "start_time": "2025-08-05T20:50:23.021276",
     "status": "completed"
    },
    "tags": []
   },
   "outputs": [],
   "source": [
    "X_test = siab_test.iloc[:,4:164]\n",
    "y_true = siab_test.iloc[:, [3]]"
   ]
  },
  {
   "cell_type": "code",
   "execution_count": 18,
   "id": "e6c733c5",
   "metadata": {
    "execution": {
     "iopub.execute_input": "2025-08-05T20:50:23.112238Z",
     "iopub.status.busy": "2025-08-05T20:50:23.111836Z",
     "iopub.status.idle": "2025-08-05T20:50:23.209991Z",
     "shell.execute_reply": "2025-08-05T20:50:23.209007Z"
    },
    "papermill": {
     "duration": 0.117917,
     "end_time": "2025-08-05T20:50:23.211510",
     "exception": false,
     "start_time": "2025-08-05T20:50:23.093593",
     "status": "completed"
    },
    "tags": []
   },
   "outputs": [],
   "source": [
    "# Auxiliary data needed downstream in the pipeline\n",
    "\n",
    "org_train = X_train.copy()\n",
    "org_test = X_test.copy()\n",
    "org_calib = X_calib.copy()"
   ]
  },
  {
   "cell_type": "markdown",
   "id": "0a4a1b33",
   "metadata": {
    "papermill": {
     "duration": 0.017016,
     "end_time": "2025-08-05T20:50:23.245413",
     "exception": false,
     "start_time": "2025-08-05T20:50:23.228397",
     "status": "completed"
    },
    "tags": []
   },
   "source": [
    "# Preprocessing Data"
   ]
  },
  {
   "cell_type": "code",
   "execution_count": 19,
   "id": "ca879031",
   "metadata": {
    "execution": {
     "iopub.execute_input": "2025-08-05T20:50:23.283533Z",
     "iopub.status.busy": "2025-08-05T20:50:23.282848Z",
     "iopub.status.idle": "2025-08-05T20:50:23.289376Z",
     "shell.execute_reply": "2025-08-05T20:50:23.288197Z"
    },
    "papermill": {
     "duration": 0.02748,
     "end_time": "2025-08-05T20:50:23.291148",
     "exception": false,
     "start_time": "2025-08-05T20:50:23.263668",
     "status": "completed"
    },
    "tags": []
   },
   "outputs": [],
   "source": [
    "# EXCLUDE PROTECTED FEATURES\n",
    "# ----------------------\n",
    "# \"exclude_features\": \"none\", # \"nationality\", \"sex\", \"nationality-sex\"\n",
    "\n",
    "excluded_features = universe[\"exclude_features\"].split(\"-\") # split, e.g.: \"nationality-sex\" -> [\"nationality\", \"sex\"]\n",
    "excluded_features_dictionary = {\n",
    "    \"nationality\": [\"maxdeutsch1\", \"maxdeutsch.Missing.\"],\n",
    "    \"sex\": [\"frau1\"],\n",
    "    \"age\": [\"age\"],\n",
    "}"
   ]
  },
  {
   "cell_type": "code",
   "execution_count": 20,
   "id": "b745ac60",
   "metadata": {
    "execution": {
     "iopub.execute_input": "2025-08-05T20:50:23.329889Z",
     "iopub.status.busy": "2025-08-05T20:50:23.329039Z",
     "iopub.status.idle": "2025-08-05T20:50:23.334651Z",
     "shell.execute_reply": "2025-08-05T20:50:23.333737Z"
    },
    "papermill": {
     "duration": 0.026544,
     "end_time": "2025-08-05T20:50:23.336487",
     "exception": false,
     "start_time": "2025-08-05T20:50:23.309943",
     "status": "completed"
    },
    "tags": []
   },
   "outputs": [],
   "source": [
    "# Code nice names to column names\n",
    "\n",
    "excluded_features_columns = [\n",
    "    excluded_features_dictionary[f] for f in excluded_features if len(f) > 0 and f != \"none\"\n",
    "]"
   ]
  },
  {
   "cell_type": "code",
   "execution_count": 21,
   "id": "f84f73a2",
   "metadata": {
    "execution": {
     "iopub.execute_input": "2025-08-05T20:50:23.375471Z",
     "iopub.status.busy": "2025-08-05T20:50:23.374610Z",
     "iopub.status.idle": "2025-08-05T20:50:23.380893Z",
     "shell.execute_reply": "2025-08-05T20:50:23.379986Z"
    },
    "papermill": {
     "duration": 0.027307,
     "end_time": "2025-08-05T20:50:23.382711",
     "exception": false,
     "start_time": "2025-08-05T20:50:23.355404",
     "status": "completed"
    },
    "tags": []
   },
   "outputs": [],
   "source": [
    "from utils import flatten_once\n",
    "\n",
    "excluded_features_columns = flatten_once(excluded_features_columns)"
   ]
  },
  {
   "cell_type": "code",
   "execution_count": 22,
   "id": "884dea22",
   "metadata": {
    "execution": {
     "iopub.execute_input": "2025-08-05T20:50:23.421461Z",
     "iopub.status.busy": "2025-08-05T20:50:23.420635Z",
     "iopub.status.idle": "2025-08-05T20:50:23.435602Z",
     "shell.execute_reply": "2025-08-05T20:50:23.434591Z"
    },
    "papermill": {
     "duration": 0.035884,
     "end_time": "2025-08-05T20:50:23.437407",
     "exception": false,
     "start_time": "2025-08-05T20:50:23.401523",
     "status": "completed"
    },
    "tags": []
   },
   "outputs": [
    {
     "name": "stdout",
     "output_type": "stream",
     "text": [
      "Dropping features: ['maxdeutsch1', 'maxdeutsch.Missing.']\n"
     ]
    }
   ],
   "source": [
    "if len(excluded_features_columns) > 0:\n",
    "    print(f\"Dropping features: {excluded_features_columns}\")\n",
    "    X_train.drop(excluded_features_columns, axis=1, inplace=True)"
   ]
  },
  {
   "cell_type": "code",
   "execution_count": 23,
   "id": "95ab8b16",
   "metadata": {
    "execution": {
     "iopub.execute_input": "2025-08-05T20:50:23.477276Z",
     "iopub.status.busy": "2025-08-05T20:50:23.476450Z",
     "iopub.status.idle": "2025-08-05T20:50:23.528846Z",
     "shell.execute_reply": "2025-08-05T20:50:23.527864Z"
    },
    "papermill": {
     "duration": 0.073507,
     "end_time": "2025-08-05T20:50:23.530613",
     "exception": false,
     "start_time": "2025-08-05T20:50:23.457106",
     "status": "completed"
    },
    "tags": []
   },
   "outputs": [
    {
     "name": "stdout",
     "output_type": "stream",
     "text": [
      "Dropping features: ['maxdeutsch1', 'maxdeutsch.Missing.']\n"
     ]
    }
   ],
   "source": [
    "if len(excluded_features_columns) > 0:\n",
    "    print(f\"Dropping features: {excluded_features_columns}\")\n",
    "    X_test.drop(excluded_features_columns, axis=1, inplace=True)"
   ]
  },
  {
   "cell_type": "code",
   "execution_count": 24,
   "id": "1853aaf5-fb9f-46cb-a2b5-8ea4ae2237e4",
   "metadata": {
    "execution": {
     "iopub.execute_input": "2025-08-05T20:50:23.570482Z",
     "iopub.status.busy": "2025-08-05T20:50:23.569661Z",
     "iopub.status.idle": "2025-08-05T20:50:23.619888Z",
     "shell.execute_reply": "2025-08-05T20:50:23.618887Z"
    },
    "papermill": {
     "duration": 0.071637,
     "end_time": "2025-08-05T20:50:23.621869",
     "exception": false,
     "start_time": "2025-08-05T20:50:23.550232",
     "status": "completed"
    },
    "tags": []
   },
   "outputs": [
    {
     "name": "stdout",
     "output_type": "stream",
     "text": [
      "Dropping features: ['maxdeutsch1', 'maxdeutsch.Missing.']\n"
     ]
    }
   ],
   "source": [
    "if len(excluded_features_columns) > 0:\n",
    "    print(f\"Dropping features: {excluded_features_columns}\")\n",
    "    X_calib.drop(excluded_features_columns, axis=1, inplace=True)"
   ]
  },
  {
   "cell_type": "code",
   "execution_count": 25,
   "id": "76c4dc6d",
   "metadata": {
    "execution": {
     "iopub.execute_input": "2025-08-05T20:50:23.663028Z",
     "iopub.status.busy": "2025-08-05T20:50:23.662188Z",
     "iopub.status.idle": "2025-08-05T20:50:23.667488Z",
     "shell.execute_reply": "2025-08-05T20:50:23.666586Z"
    },
    "papermill": {
     "duration": 0.026622,
     "end_time": "2025-08-05T20:50:23.669117",
     "exception": false,
     "start_time": "2025-08-05T20:50:23.642495",
     "status": "completed"
    },
    "tags": []
   },
   "outputs": [],
   "source": [
    "# EXCLUDE CERTAIN SUBGROUPS\n",
    "# ----------------------\n",
    "\n",
    "mode = universe.get(\"exclude_subgroups\", \"keep-all\") \n",
    "# Fetches the exclude_subgroups setting from the universe dict.\n",
    "# Defaults to \"keep-all\" if the key is missing."
   ]
  },
  {
   "cell_type": "code",
   "execution_count": 26,
   "id": "21994072",
   "metadata": {
    "execution": {
     "iopub.execute_input": "2025-08-05T20:50:23.709526Z",
     "iopub.status.busy": "2025-08-05T20:50:23.708681Z",
     "iopub.status.idle": "2025-08-05T20:50:23.715459Z",
     "shell.execute_reply": "2025-08-05T20:50:23.714484Z"
    },
    "papermill": {
     "duration": 0.028559,
     "end_time": "2025-08-05T20:50:23.717332",
     "exception": false,
     "start_time": "2025-08-05T20:50:23.688773",
     "status": "completed"
    },
    "tags": []
   },
   "outputs": [],
   "source": [
    "if mode == \"keep-all\":\n",
    "    keep_mask = pd.Series(True, index=org_train.index)\n",
    "\n",
    "# org_train contains the original feature columns from features_org (in Simson)\n",
    "# features_org contains unprocessed features, for me X_train at beginning ???\n",
    "# For keep-all, creates a boolean Series (keep_mask) of all True, so no rows are removed.\n",
    "\n",
    "elif mode == \"drop-non-german\":\n",
    "    keep_mask = org_train[\"maxdeutsch1\"] == 1 # ??? what about missing values?\n",
    "\n",
    "else:\n",
    "    raise ValueError(f\"Unsupported mode for exclude_subgroups: {mode}\")"
   ]
  },
  {
   "cell_type": "code",
   "execution_count": 27,
   "id": "71651440",
   "metadata": {
    "execution": {
     "iopub.execute_input": "2025-08-05T20:50:23.756660Z",
     "iopub.status.busy": "2025-08-05T20:50:23.755887Z",
     "iopub.status.idle": "2025-08-05T20:50:23.762227Z",
     "shell.execute_reply": "2025-08-05T20:50:23.761267Z"
    },
    "papermill": {
     "duration": 0.027377,
     "end_time": "2025-08-05T20:50:23.763931",
     "exception": false,
     "start_time": "2025-08-05T20:50:23.736554",
     "status": "completed"
    },
    "tags": []
   },
   "outputs": [],
   "source": [
    "n_drop = (~keep_mask).sum() # Calculates how many rows are set to be dropped\n",
    "if n_drop > 0:\n",
    "    pct = n_drop / len(keep_mask) * 100\n",
    "    print(f\"Dropping {n_drop} rows ({pct:.2f}%) where mode='{mode}'\")"
   ]
  },
  {
   "cell_type": "code",
   "execution_count": 28,
   "id": "5fb8eee5",
   "metadata": {
    "execution": {
     "iopub.execute_input": "2025-08-05T20:50:23.804407Z",
     "iopub.status.busy": "2025-08-05T20:50:23.803588Z",
     "iopub.status.idle": "2025-08-05T20:50:23.818039Z",
     "shell.execute_reply": "2025-08-05T20:50:23.816964Z"
    },
    "papermill": {
     "duration": 0.036435,
     "end_time": "2025-08-05T20:50:23.820066",
     "exception": false,
     "start_time": "2025-08-05T20:50:23.783631",
     "status": "completed"
    },
    "tags": []
   },
   "outputs": [],
   "source": [
    "X_train = X_train[keep_mask]"
   ]
  },
  {
   "cell_type": "code",
   "execution_count": 29,
   "id": "b202bb3a",
   "metadata": {
    "execution": {
     "iopub.execute_input": "2025-08-05T20:50:23.861268Z",
     "iopub.status.busy": "2025-08-05T20:50:23.860490Z",
     "iopub.status.idle": "2025-08-05T20:50:23.866487Z",
     "shell.execute_reply": "2025-08-05T20:50:23.865452Z"
    },
    "papermill": {
     "duration": 0.027262,
     "end_time": "2025-08-05T20:50:23.868222",
     "exception": false,
     "start_time": "2025-08-05T20:50:23.840960",
     "status": "completed"
    },
    "tags": []
   },
   "outputs": [],
   "source": [
    "y_train = y_train[keep_mask]"
   ]
  },
  {
   "cell_type": "markdown",
   "id": "493e2ac3",
   "metadata": {
    "papermill": {
     "duration": 0.018493,
     "end_time": "2025-08-05T20:50:23.906582",
     "exception": false,
     "start_time": "2025-08-05T20:50:23.888089",
     "status": "completed"
    },
    "tags": []
   },
   "source": [
    "# Model Training"
   ]
  },
  {
   "cell_type": "code",
   "execution_count": 30,
   "id": "679e1268",
   "metadata": {
    "execution": {
     "iopub.execute_input": "2025-08-05T20:50:23.947139Z",
     "iopub.status.busy": "2025-08-05T20:50:23.946656Z",
     "iopub.status.idle": "2025-08-05T20:50:24.041535Z",
     "shell.execute_reply": "2025-08-05T20:50:24.040439Z"
    },
    "papermill": {
     "duration": 0.117133,
     "end_time": "2025-08-05T20:50:24.043313",
     "exception": false,
     "start_time": "2025-08-05T20:50:23.926180",
     "status": "completed"
    },
    "tags": []
   },
   "outputs": [],
   "source": [
    "from sklearn.linear_model import LogisticRegression\n",
    "from sklearn.ensemble import GradientBoostingClassifier, RandomForestClassifier\n",
    "\n",
    "if (universe[\"model\"] == \"logreg\"):\n",
    "    model = LogisticRegression() #penalty=\"none\", solver=\"newton-cg\", max_iter=1) # include random_state=19 ?\n",
    "elif (universe[\"model\"] == \"penalized_logreg\"):\n",
    "    model = LogisticRegression(penalty=\"l2\", C=0.1) #, solver=\"newton-cg\", max_iter=1)\n",
    "elif (universe[\"model\"] == \"rf\"):\n",
    "    model = RandomForestClassifier() # n_estimators=100, n_jobs=-1\n",
    "elif (universe[\"model\"] == \"gbm\"):\n",
    "    model = GradientBoostingClassifier()\n",
    "elif (universe[\"model\"] == \"elasticnet\"):\n",
    "    model = LogisticRegression(penalty = 'elasticnet', solver = 'saga', l1_ratio = 0.5) # max_iter=5000\n",
    "else:\n",
    "    raise \"Unsupported universe.model\""
   ]
  },
  {
   "cell_type": "code",
   "execution_count": 31,
   "id": "0cc8f744",
   "metadata": {
    "execution": {
     "iopub.execute_input": "2025-08-05T20:50:24.074550Z",
     "iopub.status.busy": "2025-08-05T20:50:24.073888Z",
     "iopub.status.idle": "2025-08-05T20:50:24.079120Z",
     "shell.execute_reply": "2025-08-05T20:50:24.078311Z"
    },
    "papermill": {
     "duration": 0.016771,
     "end_time": "2025-08-05T20:50:24.080385",
     "exception": false,
     "start_time": "2025-08-05T20:50:24.063614",
     "status": "completed"
    },
    "tags": []
   },
   "outputs": [],
   "source": [
    "import numpy as np\n",
    "from sklearn.pipeline import Pipeline\n",
    "from sklearn.preprocessing import StandardScaler\n",
    "\n",
    "model = Pipeline([\n",
    "    #(\"continuous_processor\", continuous_processor),\n",
    "    #(\"categorical_preprocessor\", categorical_preprocessor),\n",
    "    (\"scale\", StandardScaler() if universe[\"scale\"] == \"scale\" else None), \n",
    "    (\"model\", model),\n",
    "])"
   ]
  },
  {
   "cell_type": "code",
   "execution_count": 32,
   "id": "9442c04d",
   "metadata": {
    "execution": {
     "iopub.execute_input": "2025-08-05T20:50:24.101141Z",
     "iopub.status.busy": "2025-08-05T20:50:24.100561Z",
     "iopub.status.idle": "2025-08-05T20:50:24.653271Z",
     "shell.execute_reply": "2025-08-05T20:50:24.652547Z"
    },
    "papermill": {
     "duration": 0.563929,
     "end_time": "2025-08-05T20:50:24.654483",
     "exception": false,
     "start_time": "2025-08-05T20:50:24.090554",
     "status": "completed"
    },
    "tags": []
   },
   "outputs": [
    {
     "name": "stderr",
     "output_type": "stream",
     "text": [
      "/dss/dsshome1/0C/ra93lal2/.local/share/virtualenvs/CMA_Fairness_v2-3j10GkSs/lib/python3.10/site-packages/sklearn/linear_model/_logistic.py:444: ConvergenceWarning: lbfgs failed to converge (status=1):\n",
      "STOP: TOTAL NO. of ITERATIONS REACHED LIMIT.\n",
      "\n",
      "Increase the number of iterations (max_iter) or scale the data as shown in:\n",
      "    https://scikit-learn.org/stable/modules/preprocessing.html\n",
      "Please also refer to the documentation for alternative solver options:\n",
      "    https://scikit-learn.org/stable/modules/linear_model.html#logistic-regression\n",
      "  n_iter_i = _check_optimize_result(\n"
     ]
    },
    {
     "data": {
      "text/html": [
       "<style>#sk-container-id-1 {color: black;background-color: white;}#sk-container-id-1 pre{padding: 0;}#sk-container-id-1 div.sk-toggleable {background-color: white;}#sk-container-id-1 label.sk-toggleable__label {cursor: pointer;display: block;width: 100%;margin-bottom: 0;padding: 0.3em;box-sizing: border-box;text-align: center;}#sk-container-id-1 label.sk-toggleable__label-arrow:before {content: \"▸\";float: left;margin-right: 0.25em;color: #696969;}#sk-container-id-1 label.sk-toggleable__label-arrow:hover:before {color: black;}#sk-container-id-1 div.sk-estimator:hover label.sk-toggleable__label-arrow:before {color: black;}#sk-container-id-1 div.sk-toggleable__content {max-height: 0;max-width: 0;overflow: hidden;text-align: left;background-color: #f0f8ff;}#sk-container-id-1 div.sk-toggleable__content pre {margin: 0.2em;color: black;border-radius: 0.25em;background-color: #f0f8ff;}#sk-container-id-1 input.sk-toggleable__control:checked~div.sk-toggleable__content {max-height: 200px;max-width: 100%;overflow: auto;}#sk-container-id-1 input.sk-toggleable__control:checked~label.sk-toggleable__label-arrow:before {content: \"▾\";}#sk-container-id-1 div.sk-estimator input.sk-toggleable__control:checked~label.sk-toggleable__label {background-color: #d4ebff;}#sk-container-id-1 div.sk-label input.sk-toggleable__control:checked~label.sk-toggleable__label {background-color: #d4ebff;}#sk-container-id-1 input.sk-hidden--visually {border: 0;clip: rect(1px 1px 1px 1px);clip: rect(1px, 1px, 1px, 1px);height: 1px;margin: -1px;overflow: hidden;padding: 0;position: absolute;width: 1px;}#sk-container-id-1 div.sk-estimator {font-family: monospace;background-color: #f0f8ff;border: 1px dotted black;border-radius: 0.25em;box-sizing: border-box;margin-bottom: 0.5em;}#sk-container-id-1 div.sk-estimator:hover {background-color: #d4ebff;}#sk-container-id-1 div.sk-parallel-item::after {content: \"\";width: 100%;border-bottom: 1px solid gray;flex-grow: 1;}#sk-container-id-1 div.sk-label:hover label.sk-toggleable__label {background-color: #d4ebff;}#sk-container-id-1 div.sk-serial::before {content: \"\";position: absolute;border-left: 1px solid gray;box-sizing: border-box;top: 0;bottom: 0;left: 50%;z-index: 0;}#sk-container-id-1 div.sk-serial {display: flex;flex-direction: column;align-items: center;background-color: white;padding-right: 0.2em;padding-left: 0.2em;position: relative;}#sk-container-id-1 div.sk-item {position: relative;z-index: 1;}#sk-container-id-1 div.sk-parallel {display: flex;align-items: stretch;justify-content: center;background-color: white;position: relative;}#sk-container-id-1 div.sk-item::before, #sk-container-id-1 div.sk-parallel-item::before {content: \"\";position: absolute;border-left: 1px solid gray;box-sizing: border-box;top: 0;bottom: 0;left: 50%;z-index: -1;}#sk-container-id-1 div.sk-parallel-item {display: flex;flex-direction: column;z-index: 1;position: relative;background-color: white;}#sk-container-id-1 div.sk-parallel-item:first-child::after {align-self: flex-end;width: 50%;}#sk-container-id-1 div.sk-parallel-item:last-child::after {align-self: flex-start;width: 50%;}#sk-container-id-1 div.sk-parallel-item:only-child::after {width: 0;}#sk-container-id-1 div.sk-dashed-wrapped {border: 1px dashed gray;margin: 0 0.4em 0.5em 0.4em;box-sizing: border-box;padding-bottom: 0.4em;background-color: white;}#sk-container-id-1 div.sk-label label {font-family: monospace;font-weight: bold;display: inline-block;line-height: 1.2em;}#sk-container-id-1 div.sk-label-container {text-align: center;}#sk-container-id-1 div.sk-container {/* jupyter's `normalize.less` sets `[hidden] { display: none; }` but bootstrap.min.css set `[hidden] { display: none !important; }` so we also need the `!important` here to be able to override the default hidden behavior on the sphinx rendered scikit-learn.org. See: https://github.com/scikit-learn/scikit-learn/issues/21755 */display: inline-block !important;position: relative;}#sk-container-id-1 div.sk-text-repr-fallback {display: none;}</style><div id=\"sk-container-id-1\" class=\"sk-top-container\"><div class=\"sk-text-repr-fallback\"><pre>Pipeline(steps=[(&#x27;scale&#x27;, StandardScaler()),\n",
       "                (&#x27;model&#x27;, LogisticRegression(C=0.1))])</pre><b>In a Jupyter environment, please rerun this cell to show the HTML representation or trust the notebook. <br />On GitHub, the HTML representation is unable to render, please try loading this page with nbviewer.org.</b></div><div class=\"sk-container\" hidden><div class=\"sk-item sk-dashed-wrapped\"><div class=\"sk-label-container\"><div class=\"sk-label sk-toggleable\"><input class=\"sk-toggleable__control sk-hidden--visually\" id=\"sk-estimator-id-1\" type=\"checkbox\" ><label for=\"sk-estimator-id-1\" class=\"sk-toggleable__label sk-toggleable__label-arrow\">Pipeline</label><div class=\"sk-toggleable__content\"><pre>Pipeline(steps=[(&#x27;scale&#x27;, StandardScaler()),\n",
       "                (&#x27;model&#x27;, LogisticRegression(C=0.1))])</pre></div></div></div><div class=\"sk-serial\"><div class=\"sk-item\"><div class=\"sk-estimator sk-toggleable\"><input class=\"sk-toggleable__control sk-hidden--visually\" id=\"sk-estimator-id-2\" type=\"checkbox\" ><label for=\"sk-estimator-id-2\" class=\"sk-toggleable__label sk-toggleable__label-arrow\">StandardScaler</label><div class=\"sk-toggleable__content\"><pre>StandardScaler()</pre></div></div></div><div class=\"sk-item\"><div class=\"sk-estimator sk-toggleable\"><input class=\"sk-toggleable__control sk-hidden--visually\" id=\"sk-estimator-id-3\" type=\"checkbox\" ><label for=\"sk-estimator-id-3\" class=\"sk-toggleable__label sk-toggleable__label-arrow\">LogisticRegression</label><div class=\"sk-toggleable__content\"><pre>LogisticRegression(C=0.1)</pre></div></div></div></div></div></div></div>"
      ],
      "text/plain": [
       "Pipeline(steps=[('scale', StandardScaler()),\n",
       "                ('model', LogisticRegression(C=0.1))])"
      ]
     },
     "execution_count": 32,
     "metadata": {},
     "output_type": "execute_result"
    }
   ],
   "source": [
    "model.fit(X_train, y_train.values.ravel())"
   ]
  },
  {
   "cell_type": "code",
   "execution_count": 33,
   "id": "af59f8c0",
   "metadata": {
    "execution": {
     "iopub.execute_input": "2025-08-05T20:50:24.675885Z",
     "iopub.status.busy": "2025-08-05T20:50:24.675150Z",
     "iopub.status.idle": "2025-08-05T20:50:24.679664Z",
     "shell.execute_reply": "2025-08-05T20:50:24.678976Z"
    },
    "papermill": {
     "duration": 0.016195,
     "end_time": "2025-08-05T20:50:24.681079",
     "exception": false,
     "start_time": "2025-08-05T20:50:24.664884",
     "status": "completed"
    },
    "tags": []
   },
   "outputs": [],
   "source": [
    "from fairness_multiverse.universe import predict_w_threshold"
   ]
  },
  {
   "cell_type": "code",
   "execution_count": 34,
   "id": "a7cf2e16",
   "metadata": {
    "execution": {
     "iopub.execute_input": "2025-08-05T20:50:24.702370Z",
     "iopub.status.busy": "2025-08-05T20:50:24.701786Z",
     "iopub.status.idle": "2025-08-05T20:50:24.869772Z",
     "shell.execute_reply": "2025-08-05T20:50:24.868751Z"
    },
    "papermill": {
     "duration": 0.179536,
     "end_time": "2025-08-05T20:50:24.871062",
     "exception": false,
     "start_time": "2025-08-05T20:50:24.691526",
     "status": "completed"
    },
    "tags": []
   },
   "outputs": [
    {
     "data": {
      "text/plain": [
       "0.862200423587114"
      ]
     },
     "execution_count": 34,
     "metadata": {},
     "output_type": "execute_result"
    }
   ],
   "source": [
    "probs_test = model.predict_proba(X_test)\n",
    "\n",
    "'''\n",
    "Below code returns a boolean array (or binary 0/1 array depending on how it’s used) where each element \n",
    "is True if the probability of class 1 is greater than or equal to the threshold, and False otherwise.\n",
    "'''\n",
    "y_pred_default = predict_w_threshold(probs_test, 0.5)\n",
    "\n",
    "from sklearn.metrics import accuracy_score\n",
    "\n",
    "# Naive prediction\n",
    "accuracy_score(y_true = y_true, y_pred = y_pred_default)"
   ]
  },
  {
   "cell_type": "code",
   "execution_count": 35,
   "id": "081964c3",
   "metadata": {
    "execution": {
     "iopub.execute_input": "2025-08-05T20:50:24.892373Z",
     "iopub.status.busy": "2025-08-05T20:50:24.892071Z",
     "iopub.status.idle": "2025-08-05T20:50:25.052441Z",
     "shell.execute_reply": "2025-08-05T20:50:25.051537Z"
    },
    "papermill": {
     "duration": 0.172281,
     "end_time": "2025-08-05T20:50:25.053839",
     "exception": false,
     "start_time": "2025-08-05T20:50:24.881558",
     "status": "completed"
    },
    "tags": []
   },
   "outputs": [
    {
     "data": {
      "text/plain": [
       "array([0, 0, 0, ..., 0, 0, 0])"
      ]
     },
     "execution_count": 35,
     "metadata": {},
     "output_type": "execute_result"
    }
   ],
   "source": [
    "model.predict(X_test)"
   ]
  },
  {
   "cell_type": "markdown",
   "id": "56c9705b",
   "metadata": {
    "papermill": {
     "duration": 0.009979,
     "end_time": "2025-08-05T20:50:25.074383",
     "exception": false,
     "start_time": "2025-08-05T20:50:25.064404",
     "status": "completed"
    },
    "tags": []
   },
   "source": [
    "# Conformal Prediction"
   ]
  },
  {
   "cell_type": "code",
   "execution_count": 36,
   "id": "160ec6ff",
   "metadata": {
    "execution": {
     "iopub.execute_input": "2025-08-05T20:50:25.095247Z",
     "iopub.status.busy": "2025-08-05T20:50:25.094930Z",
     "iopub.status.idle": "2025-08-05T20:50:25.099179Z",
     "shell.execute_reply": "2025-08-05T20:50:25.098482Z"
    },
    "papermill": {
     "duration": 0.016203,
     "end_time": "2025-08-05T20:50:25.100511",
     "exception": false,
     "start_time": "2025-08-05T20:50:25.084308",
     "status": "completed"
    },
    "tags": []
   },
   "outputs": [],
   "source": [
    "# Miscoverage level for conformal prediction (10% allowed error rate => 90% target coverage)\n",
    "alpha = 0.1"
   ]
  },
  {
   "cell_type": "code",
   "execution_count": 37,
   "id": "eadf4555-3dd3-440e-8e35-f82a4ad9f855",
   "metadata": {
    "execution": {
     "iopub.execute_input": "2025-08-05T20:50:25.122569Z",
     "iopub.status.busy": "2025-08-05T20:50:25.122181Z",
     "iopub.status.idle": "2025-08-05T20:50:25.277858Z",
     "shell.execute_reply": "2025-08-05T20:50:25.277067Z"
    },
    "papermill": {
     "duration": 0.168071,
     "end_time": "2025-08-05T20:50:25.279328",
     "exception": false,
     "start_time": "2025-08-05T20:50:25.111257",
     "status": "completed"
    },
    "tags": []
   },
   "outputs": [],
   "source": [
    "probs_calib = model.predict_proba(X_calib)"
   ]
  },
  {
   "cell_type": "code",
   "execution_count": 38,
   "id": "2ed93547-6d5d-4983-9b36-1ecb300da49a",
   "metadata": {
    "execution": {
     "iopub.execute_input": "2025-08-05T20:50:25.300936Z",
     "iopub.status.busy": "2025-08-05T20:50:25.300634Z",
     "iopub.status.idle": "2025-08-05T20:50:25.305238Z",
     "shell.execute_reply": "2025-08-05T20:50:25.304545Z"
    },
    "papermill": {
     "duration": 0.016458,
     "end_time": "2025-08-05T20:50:25.306531",
     "exception": false,
     "start_time": "2025-08-05T20:50:25.290073",
     "status": "completed"
    },
    "tags": []
   },
   "outputs": [],
   "source": [
    "y_calib = y_calib.values.ravel().astype(int)"
   ]
  },
  {
   "cell_type": "code",
   "execution_count": 39,
   "id": "65d1320d-f588-4b38-9072-62af1ae97f7d",
   "metadata": {
    "execution": {
     "iopub.execute_input": "2025-08-05T20:50:25.328095Z",
     "iopub.status.busy": "2025-08-05T20:50:25.327766Z",
     "iopub.status.idle": "2025-08-05T20:50:25.333616Z",
     "shell.execute_reply": "2025-08-05T20:50:25.332818Z"
    },
    "papermill": {
     "duration": 0.01776,
     "end_time": "2025-08-05T20:50:25.334968",
     "exception": false,
     "start_time": "2025-08-05T20:50:25.317208",
     "status": "completed"
    },
    "tags": []
   },
   "outputs": [],
   "source": [
    "from fairness_multiverse.conformal import compute_nc_scores\n",
    "\n",
    "# Compute nonconformity scores on calibration set (1 - probability of true class)\n",
    "nc_scores = compute_nc_scores(probs_calib, y_calib)"
   ]
  },
  {
   "cell_type": "code",
   "execution_count": 40,
   "id": "df3b8ca3-53b7-43d5-9667-7c85da7aeda2",
   "metadata": {
    "execution": {
     "iopub.execute_input": "2025-08-05T20:50:25.356614Z",
     "iopub.status.busy": "2025-08-05T20:50:25.356121Z",
     "iopub.status.idle": "2025-08-05T20:50:25.361745Z",
     "shell.execute_reply": "2025-08-05T20:50:25.360981Z"
    },
    "papermill": {
     "duration": 0.01762,
     "end_time": "2025-08-05T20:50:25.363180",
     "exception": false,
     "start_time": "2025-08-05T20:50:25.345560",
     "status": "completed"
    },
    "tags": []
   },
   "outputs": [],
   "source": [
    "from fairness_multiverse.conformal import find_threshold\n",
    "\n",
    "# Find conformal threshold q_hat for the given alpha (split conformal method)\n",
    "q_hat = find_threshold(nc_scores, alpha)"
   ]
  },
  {
   "cell_type": "code",
   "execution_count": 41,
   "id": "4d29e6c1-0ef6-4aa4-b8fe-4fe79b0d033a",
   "metadata": {
    "execution": {
     "iopub.execute_input": "2025-08-05T20:50:25.384891Z",
     "iopub.status.busy": "2025-08-05T20:50:25.384396Z",
     "iopub.status.idle": "2025-08-05T20:50:25.390013Z",
     "shell.execute_reply": "2025-08-05T20:50:25.389305Z"
    },
    "papermill": {
     "duration": 0.017587,
     "end_time": "2025-08-05T20:50:25.391470",
     "exception": false,
     "start_time": "2025-08-05T20:50:25.373883",
     "status": "completed"
    },
    "tags": []
   },
   "outputs": [
    {
     "data": {
      "text/plain": [
       "0.6644383530459439"
      ]
     },
     "execution_count": 41,
     "metadata": {},
     "output_type": "execute_result"
    }
   ],
   "source": [
    "q_hat"
   ]
  },
  {
   "cell_type": "code",
   "execution_count": 42,
   "id": "92460794-cdac-4be2-ba28-f28c0515a6fb",
   "metadata": {
    "execution": {
     "iopub.execute_input": "2025-08-05T20:50:25.413464Z",
     "iopub.status.busy": "2025-08-05T20:50:25.412978Z",
     "iopub.status.idle": "2025-08-05T20:50:25.955599Z",
     "shell.execute_reply": "2025-08-05T20:50:25.954832Z"
    },
    "papermill": {
     "duration": 0.554728,
     "end_time": "2025-08-05T20:50:25.957076",
     "exception": false,
     "start_time": "2025-08-05T20:50:25.402348",
     "status": "completed"
    },
    "tags": []
   },
   "outputs": [],
   "source": [
    "from fairness_multiverse.conformal import predict_conformal_sets\n",
    "\n",
    "# Generate prediction sets for each test example\n",
    "pred_sets = predict_conformal_sets(model, X_test, q_hat)"
   ]
  },
  {
   "cell_type": "code",
   "execution_count": 43,
   "id": "d90c9a65-e6db-4f5d-80cd-e68fb7e46829",
   "metadata": {
    "execution": {
     "iopub.execute_input": "2025-08-05T20:50:25.980449Z",
     "iopub.status.busy": "2025-08-05T20:50:25.980154Z",
     "iopub.status.idle": "2025-08-05T20:50:25.984499Z",
     "shell.execute_reply": "2025-08-05T20:50:25.983683Z"
    },
    "papermill": {
     "duration": 0.016938,
     "end_time": "2025-08-05T20:50:25.985903",
     "exception": false,
     "start_time": "2025-08-05T20:50:25.968965",
     "status": "completed"
    },
    "tags": []
   },
   "outputs": [],
   "source": [
    "y_true = y_true.squeeze()"
   ]
  },
  {
   "cell_type": "code",
   "execution_count": 44,
   "id": "3a58a54a-1e68-46b9-927a-df01f18aebc8",
   "metadata": {
    "execution": {
     "iopub.execute_input": "2025-08-05T20:50:26.008721Z",
     "iopub.status.busy": "2025-08-05T20:50:26.008383Z",
     "iopub.status.idle": "2025-08-05T20:50:26.540030Z",
     "shell.execute_reply": "2025-08-05T20:50:26.538981Z"
    },
    "papermill": {
     "duration": 0.544993,
     "end_time": "2025-08-05T20:50:26.541906",
     "exception": false,
     "start_time": "2025-08-05T20:50:25.996913",
     "status": "completed"
    },
    "tags": []
   },
   "outputs": [],
   "source": [
    "from fairness_multiverse.conformal import evaluate_sets\n",
    "\n",
    "# Evaluate coverage and average set size on test data\n",
    "metrics = evaluate_sets(pred_sets, y_true)"
   ]
  },
  {
   "cell_type": "markdown",
   "id": "2b569c12-9aaa-4c88-98c9-bbcd0cf3ebb8",
   "metadata": {
    "papermill": {
     "duration": 0.010058,
     "end_time": "2025-08-05T20:50:26.563001",
     "exception": false,
     "start_time": "2025-08-05T20:50:26.552943",
     "status": "completed"
    },
    "tags": []
   },
   "source": [
    "# CP Metrics"
   ]
  },
  {
   "cell_type": "code",
   "execution_count": 45,
   "id": "5ce0a5cb-201f-45a0-ade5-94c7f0bd6095",
   "metadata": {
    "execution": {
     "iopub.execute_input": "2025-08-05T20:50:26.602581Z",
     "iopub.status.busy": "2025-08-05T20:50:26.601847Z",
     "iopub.status.idle": "2025-08-05T20:50:26.609355Z",
     "shell.execute_reply": "2025-08-05T20:50:26.608254Z"
    },
    "papermill": {
     "duration": 0.031417,
     "end_time": "2025-08-05T20:50:26.611018",
     "exception": false,
     "start_time": "2025-08-05T20:50:26.579601",
     "status": "completed"
    },
    "tags": []
   },
   "outputs": [
    {
     "data": {
      "text/plain": [
       "{'coverage': 0.9116263515773046, 'avg_size': 1.124969345669379}"
      ]
     },
     "execution_count": 45,
     "metadata": {},
     "output_type": "execute_result"
    }
   ],
   "source": [
    "metrics"
   ]
  },
  {
   "cell_type": "code",
   "execution_count": 46,
   "id": "9b9a838d-31c9-430b-ae14-12baee460d17",
   "metadata": {
    "execution": {
     "iopub.execute_input": "2025-08-05T20:50:26.654024Z",
     "iopub.status.busy": "2025-08-05T20:50:26.653513Z",
     "iopub.status.idle": "2025-08-05T20:50:26.660492Z",
     "shell.execute_reply": "2025-08-05T20:50:26.659398Z"
    },
    "papermill": {
     "duration": 0.02765,
     "end_time": "2025-08-05T20:50:26.662328",
     "exception": false,
     "start_time": "2025-08-05T20:50:26.634678",
     "status": "completed"
    },
    "tags": []
   },
   "outputs": [],
   "source": [
    "example_universe = universe.copy()\n",
    "universe_training_year = example_universe.get(\"training_year\")\n",
    "universe_training_size = example_universe.get(\"training_size\")\n",
    "universe_scale = example_universe.get(\"scale\")\n",
    "universe_model = example_universe.get(\"model\")\n",
    "universe_exclude_features = example_universe.get(\"exclude_features\")\n",
    "universe_exclude_subgroups = example_universe.get(\"exclude_subgroups\")"
   ]
  },
  {
   "cell_type": "code",
   "execution_count": 47,
   "id": "f4b6a8ac-9dc0-4245-8a91-5b3b5999c4f9",
   "metadata": {
    "execution": {
     "iopub.execute_input": "2025-08-05T20:50:26.689145Z",
     "iopub.status.busy": "2025-08-05T20:50:26.688747Z",
     "iopub.status.idle": "2025-08-05T20:50:26.693819Z",
     "shell.execute_reply": "2025-08-05T20:50:26.693025Z"
    },
    "papermill": {
     "duration": 0.018764,
     "end_time": "2025-08-05T20:50:26.695055",
     "exception": false,
     "start_time": "2025-08-05T20:50:26.676291",
     "status": "completed"
    },
    "tags": []
   },
   "outputs": [],
   "source": [
    "cp_metrics_dict = {\n",
    "    \"universe_id\": [universe_id],\n",
    "    \"universe_training_year\": [universe_training_year],\n",
    "    \"universe_training_size\": [universe_training_size],\n",
    "    \"universe_scale\": [universe_scale],\n",
    "    \"universe_model\": [universe_model],\n",
    "    \"universe_exclude_features\": [universe_exclude_features],\n",
    "    \"universe_exclude_subgroups\": [universe_exclude_subgroups],\n",
    "    \"q_hat\": [q_hat],\n",
    "    \"coverage\": [metrics[\"coverage\"]],\n",
    "    \"avg_size\": [metrics[\"avg_size\"]],\n",
    "}"
   ]
  },
  {
   "cell_type": "code",
   "execution_count": 48,
   "id": "908acbb1-0371-4915-85ca-3fa520d2efe2",
   "metadata": {
    "execution": {
     "iopub.execute_input": "2025-08-05T20:50:26.719424Z",
     "iopub.status.busy": "2025-08-05T20:50:26.719080Z",
     "iopub.status.idle": "2025-08-05T20:50:26.725828Z",
     "shell.execute_reply": "2025-08-05T20:50:26.725081Z"
    },
    "papermill": {
     "duration": 0.019703,
     "end_time": "2025-08-05T20:50:26.727217",
     "exception": false,
     "start_time": "2025-08-05T20:50:26.707514",
     "status": "completed"
    },
    "tags": []
   },
   "outputs": [
    {
     "data": {
      "text/plain": [
       "{'universe_id': ['21a4e34819544a10f656ee94f05e031a'],\n",
       " 'universe_training_year': ['2012_14'],\n",
       " 'universe_training_size': ['25k'],\n",
       " 'universe_scale': ['scale'],\n",
       " 'universe_model': ['penalized_logreg'],\n",
       " 'universe_exclude_features': ['nationality'],\n",
       " 'universe_exclude_subgroups': ['keep-all'],\n",
       " 'q_hat': [0.6644383530459439],\n",
       " 'coverage': [0.9116263515773046],\n",
       " 'avg_size': [1.124969345669379]}"
      ]
     },
     "execution_count": 48,
     "metadata": {},
     "output_type": "execute_result"
    }
   ],
   "source": [
    "cp_metrics_dict"
   ]
  },
  {
   "cell_type": "code",
   "execution_count": 49,
   "id": "33007efc-14e9-4ec6-97ac-56a455c82265",
   "metadata": {
    "execution": {
     "iopub.execute_input": "2025-08-05T20:50:26.750877Z",
     "iopub.status.busy": "2025-08-05T20:50:26.750375Z",
     "iopub.status.idle": "2025-08-05T20:50:26.755513Z",
     "shell.execute_reply": "2025-08-05T20:50:26.754809Z"
    },
    "papermill": {
     "duration": 0.018056,
     "end_time": "2025-08-05T20:50:26.756850",
     "exception": false,
     "start_time": "2025-08-05T20:50:26.738794",
     "status": "completed"
    },
    "tags": []
   },
   "outputs": [],
   "source": [
    "cp_metrics_df = pd.DataFrame(cp_metrics_dict)"
   ]
  },
  {
   "cell_type": "code",
   "execution_count": 50,
   "id": "db12611b-57b2-4910-b9d0-355adfd6e7bf",
   "metadata": {
    "execution": {
     "iopub.execute_input": "2025-08-05T20:50:26.791211Z",
     "iopub.status.busy": "2025-08-05T20:50:26.790310Z",
     "iopub.status.idle": "2025-08-05T20:50:26.805777Z",
     "shell.execute_reply": "2025-08-05T20:50:26.805071Z"
    },
    "papermill": {
     "duration": 0.038286,
     "end_time": "2025-08-05T20:50:26.807215",
     "exception": false,
     "start_time": "2025-08-05T20:50:26.768929",
     "status": "completed"
    },
    "tags": []
   },
   "outputs": [
    {
     "data": {
      "text/html": [
       "<div>\n",
       "<style scoped>\n",
       "    .dataframe tbody tr th:only-of-type {\n",
       "        vertical-align: middle;\n",
       "    }\n",
       "\n",
       "    .dataframe tbody tr th {\n",
       "        vertical-align: top;\n",
       "    }\n",
       "\n",
       "    .dataframe thead th {\n",
       "        text-align: right;\n",
       "    }\n",
       "</style>\n",
       "<table border=\"1\" class=\"dataframe\">\n",
       "  <thead>\n",
       "    <tr style=\"text-align: right;\">\n",
       "      <th></th>\n",
       "      <th>universe_id</th>\n",
       "      <th>universe_training_year</th>\n",
       "      <th>universe_training_size</th>\n",
       "      <th>universe_scale</th>\n",
       "      <th>universe_model</th>\n",
       "      <th>universe_exclude_features</th>\n",
       "      <th>universe_exclude_subgroups</th>\n",
       "      <th>q_hat</th>\n",
       "      <th>coverage</th>\n",
       "      <th>avg_size</th>\n",
       "    </tr>\n",
       "  </thead>\n",
       "  <tbody>\n",
       "    <tr>\n",
       "      <th>0</th>\n",
       "      <td>21a4e34819544a10f656ee94f05e031a</td>\n",
       "      <td>2012_14</td>\n",
       "      <td>25k</td>\n",
       "      <td>scale</td>\n",
       "      <td>penalized_logreg</td>\n",
       "      <td>nationality</td>\n",
       "      <td>keep-all</td>\n",
       "      <td>0.664438</td>\n",
       "      <td>0.911626</td>\n",
       "      <td>1.124969</td>\n",
       "    </tr>\n",
       "  </tbody>\n",
       "</table>\n",
       "</div>"
      ],
      "text/plain": [
       "                        universe_id universe_training_year  \\\n",
       "0  21a4e34819544a10f656ee94f05e031a                2012_14   \n",
       "\n",
       "  universe_training_size universe_scale    universe_model  \\\n",
       "0                    25k          scale  penalized_logreg   \n",
       "\n",
       "  universe_exclude_features universe_exclude_subgroups     q_hat  coverage  \\\n",
       "0               nationality                   keep-all  0.664438  0.911626   \n",
       "\n",
       "   avg_size  \n",
       "0  1.124969  "
      ]
     },
     "execution_count": 50,
     "metadata": {},
     "output_type": "execute_result"
    }
   ],
   "source": [
    "cp_metrics_df"
   ]
  },
  {
   "cell_type": "code",
   "execution_count": 51,
   "id": "b7fbde55-a0a1-47e4-9af6-fe4a17fa8c61",
   "metadata": {
    "execution": {
     "iopub.execute_input": "2025-08-05T20:50:26.838899Z",
     "iopub.status.busy": "2025-08-05T20:50:26.838479Z",
     "iopub.status.idle": "2025-08-05T20:50:26.843557Z",
     "shell.execute_reply": "2025-08-05T20:50:26.842764Z"
    },
    "papermill": {
     "duration": 0.019787,
     "end_time": "2025-08-05T20:50:26.844977",
     "exception": false,
     "start_time": "2025-08-05T20:50:26.825190",
     "status": "completed"
    },
    "tags": []
   },
   "outputs": [],
   "source": [
    "# Conditional Coverage & looking at subgroups"
   ]
  },
  {
   "cell_type": "code",
   "execution_count": 52,
   "id": "027ae886-68dd-4141-96c7-805a5450e1ef",
   "metadata": {
    "execution": {
     "iopub.execute_input": "2025-08-05T20:50:26.870395Z",
     "iopub.status.busy": "2025-08-05T20:50:26.869751Z",
     "iopub.status.idle": "2025-08-05T20:50:27.051835Z",
     "shell.execute_reply": "2025-08-05T20:50:27.051074Z"
    },
    "papermill": {
     "duration": 0.195967,
     "end_time": "2025-08-05T20:50:27.053260",
     "exception": false,
     "start_time": "2025-08-05T20:50:26.857293",
     "status": "completed"
    },
    "tags": []
   },
   "outputs": [],
   "source": [
    "from fairness_multiverse.conformal import build_cp_groups\n",
    "\n",
    "cp_groups_df = build_cp_groups(pred_sets, y_true, X_test.index, org_test)\n",
    "#needs universe_id and setting"
   ]
  },
  {
   "cell_type": "code",
   "execution_count": 53,
   "id": "6cbdab96-b2b2-45af-ad54-d0516db2e28d",
   "metadata": {
    "execution": {
     "iopub.execute_input": "2025-08-05T20:50:27.077636Z",
     "iopub.status.busy": "2025-08-05T20:50:27.077118Z",
     "iopub.status.idle": "2025-08-05T20:50:27.957744Z",
     "shell.execute_reply": "2025-08-05T20:50:27.956822Z"
    },
    "papermill": {
     "duration": 0.894006,
     "end_time": "2025-08-05T20:50:27.959192",
     "exception": false,
     "start_time": "2025-08-05T20:50:27.065186",
     "status": "completed"
    },
    "tags": []
   },
   "outputs": [],
   "source": [
    "# Define covered = 1 if true_label is in the predicted set\n",
    "cp_groups_df['covered'] = cp_groups_df.apply(\n",
    "    lambda r: int(r['true_label'] in r['pred_set']),\n",
    "    axis=1\n",
    ")"
   ]
  },
  {
   "cell_type": "code",
   "execution_count": 54,
   "id": "338ff529-1a6b-4b87-a931-8e4788d52aad",
   "metadata": {
    "execution": {
     "iopub.execute_input": "2025-08-05T20:50:27.983031Z",
     "iopub.status.busy": "2025-08-05T20:50:27.982676Z",
     "iopub.status.idle": "2025-08-05T20:50:27.986786Z",
     "shell.execute_reply": "2025-08-05T20:50:27.985870Z"
    },
    "papermill": {
     "duration": 0.017199,
     "end_time": "2025-08-05T20:50:27.988033",
     "exception": false,
     "start_time": "2025-08-05T20:50:27.970834",
     "status": "completed"
    },
    "tags": []
   },
   "outputs": [],
   "source": [
    "#cp_groups_df"
   ]
  },
  {
   "cell_type": "code",
   "execution_count": 55,
   "id": "90032e27-66df-4540-9169-4e89cfbaa758",
   "metadata": {
    "execution": {
     "iopub.execute_input": "2025-08-05T20:50:28.014112Z",
     "iopub.status.busy": "2025-08-05T20:50:28.013611Z",
     "iopub.status.idle": "2025-08-05T20:50:28.025751Z",
     "shell.execute_reply": "2025-08-05T20:50:28.024836Z"
    },
    "papermill": {
     "duration": 0.026632,
     "end_time": "2025-08-05T20:50:28.027538",
     "exception": false,
     "start_time": "2025-08-05T20:50:28.000906",
     "status": "completed"
    },
    "tags": []
   },
   "outputs": [],
   "source": [
    "subgroups = ['frau1','nongerman','nongerman_male','nongerman_female']\n",
    "\n",
    "# Conditional coverage for subgroup==1\n",
    "cond_coverage = {\n",
    "    g: cp_groups_df.loc[cp_groups_df[g]==1, 'covered'].mean()\n",
    "    for g in subgroups\n",
    "}"
   ]
  },
  {
   "cell_type": "code",
   "execution_count": 56,
   "id": "1e348fb1-b9c3-45bc-ba23-f016827a7e0d",
   "metadata": {
    "execution": {
     "iopub.execute_input": "2025-08-05T20:50:28.073298Z",
     "iopub.status.busy": "2025-08-05T20:50:28.072377Z",
     "iopub.status.idle": "2025-08-05T20:50:28.080494Z",
     "shell.execute_reply": "2025-08-05T20:50:28.079362Z"
    },
    "papermill": {
     "duration": 0.032029,
     "end_time": "2025-08-05T20:50:28.082164",
     "exception": false,
     "start_time": "2025-08-05T20:50:28.050135",
     "status": "completed"
    },
    "tags": []
   },
   "outputs": [
    {
     "data": {
      "text/plain": [
       "{'frau1': 0.9095835018196522,\n",
       " 'nongerman': 0.9105709313422781,\n",
       " 'nongerman_male': 0.9268666126272179,\n",
       " 'nongerman_female': 0.8836065573770492}"
      ]
     },
     "execution_count": 56,
     "metadata": {},
     "output_type": "execute_result"
    }
   ],
   "source": [
    "cond_coverage"
   ]
  },
  {
   "cell_type": "code",
   "execution_count": 57,
   "id": "f5093324-c3dd-4d63-bc4c-8d945e5c8bbb",
   "metadata": {
    "execution": {
     "iopub.execute_input": "2025-08-05T20:50:28.130289Z",
     "iopub.status.busy": "2025-08-05T20:50:28.129803Z",
     "iopub.status.idle": "2025-08-05T20:50:28.136989Z",
     "shell.execute_reply": "2025-08-05T20:50:28.136017Z"
    },
    "papermill": {
     "duration": 0.03286,
     "end_time": "2025-08-05T20:50:28.138781",
     "exception": false,
     "start_time": "2025-08-05T20:50:28.105921",
     "status": "completed"
    },
    "tags": []
   },
   "outputs": [],
   "source": [
    "for subgroup, cov in cond_coverage.items():\n",
    "    cp_metrics_df[f\"cov_{subgroup}\"] = cov"
   ]
  },
  {
   "cell_type": "code",
   "execution_count": 58,
   "id": "6e872e10-dbe5-49e8-b554-5030c98ff75d",
   "metadata": {
    "execution": {
     "iopub.execute_input": "2025-08-05T20:50:28.186618Z",
     "iopub.status.busy": "2025-08-05T20:50:28.186178Z",
     "iopub.status.idle": "2025-08-05T20:50:28.204223Z",
     "shell.execute_reply": "2025-08-05T20:50:28.203518Z"
    },
    "papermill": {
     "duration": 0.043338,
     "end_time": "2025-08-05T20:50:28.205629",
     "exception": false,
     "start_time": "2025-08-05T20:50:28.162291",
     "status": "completed"
    },
    "tags": []
   },
   "outputs": [
    {
     "data": {
      "text/html": [
       "<div>\n",
       "<style scoped>\n",
       "    .dataframe tbody tr th:only-of-type {\n",
       "        vertical-align: middle;\n",
       "    }\n",
       "\n",
       "    .dataframe tbody tr th {\n",
       "        vertical-align: top;\n",
       "    }\n",
       "\n",
       "    .dataframe thead th {\n",
       "        text-align: right;\n",
       "    }\n",
       "</style>\n",
       "<table border=\"1\" class=\"dataframe\">\n",
       "  <thead>\n",
       "    <tr style=\"text-align: right;\">\n",
       "      <th></th>\n",
       "      <th>universe_id</th>\n",
       "      <th>universe_training_year</th>\n",
       "      <th>universe_training_size</th>\n",
       "      <th>universe_scale</th>\n",
       "      <th>universe_model</th>\n",
       "      <th>universe_exclude_features</th>\n",
       "      <th>universe_exclude_subgroups</th>\n",
       "      <th>q_hat</th>\n",
       "      <th>coverage</th>\n",
       "      <th>avg_size</th>\n",
       "      <th>cov_frau1</th>\n",
       "      <th>cov_nongerman</th>\n",
       "      <th>cov_nongerman_male</th>\n",
       "      <th>cov_nongerman_female</th>\n",
       "    </tr>\n",
       "  </thead>\n",
       "  <tbody>\n",
       "    <tr>\n",
       "      <th>0</th>\n",
       "      <td>21a4e34819544a10f656ee94f05e031a</td>\n",
       "      <td>2012_14</td>\n",
       "      <td>25k</td>\n",
       "      <td>scale</td>\n",
       "      <td>penalized_logreg</td>\n",
       "      <td>nationality</td>\n",
       "      <td>keep-all</td>\n",
       "      <td>0.664438</td>\n",
       "      <td>0.911626</td>\n",
       "      <td>1.124969</td>\n",
       "      <td>0.909584</td>\n",
       "      <td>0.910571</td>\n",
       "      <td>0.926867</td>\n",
       "      <td>0.883607</td>\n",
       "    </tr>\n",
       "  </tbody>\n",
       "</table>\n",
       "</div>"
      ],
      "text/plain": [
       "                        universe_id universe_training_year  \\\n",
       "0  21a4e34819544a10f656ee94f05e031a                2012_14   \n",
       "\n",
       "  universe_training_size universe_scale    universe_model  \\\n",
       "0                    25k          scale  penalized_logreg   \n",
       "\n",
       "  universe_exclude_features universe_exclude_subgroups     q_hat  coverage  \\\n",
       "0               nationality                   keep-all  0.664438  0.911626   \n",
       "\n",
       "   avg_size  cov_frau1  cov_nongerman  cov_nongerman_male  \\\n",
       "0  1.124969   0.909584       0.910571            0.926867   \n",
       "\n",
       "   cov_nongerman_female  \n",
       "0              0.883607  "
      ]
     },
     "execution_count": 58,
     "metadata": {},
     "output_type": "execute_result"
    }
   ],
   "source": [
    "cp_metrics_df"
   ]
  },
  {
   "cell_type": "markdown",
   "id": "33774451",
   "metadata": {
    "papermill": {
     "duration": 0.012988,
     "end_time": "2025-08-05T20:50:28.231332",
     "exception": false,
     "start_time": "2025-08-05T20:50:28.218344",
     "status": "completed"
    },
    "tags": []
   },
   "source": [
    "# (Fairness) Metrics"
   ]
  },
  {
   "cell_type": "code",
   "execution_count": 59,
   "id": "debc5d62",
   "metadata": {
    "execution": {
     "iopub.execute_input": "2025-08-05T20:50:28.258470Z",
     "iopub.status.busy": "2025-08-05T20:50:28.257979Z",
     "iopub.status.idle": "2025-08-05T20:50:28.272568Z",
     "shell.execute_reply": "2025-08-05T20:50:28.271847Z"
    },
    "papermill": {
     "duration": 0.030653,
     "end_time": "2025-08-05T20:50:28.274368",
     "exception": false,
     "start_time": "2025-08-05T20:50:28.243715",
     "status": "completed"
    },
    "tags": []
   },
   "outputs": [],
   "source": [
    "# do I need to include maxdeutsch1.missing?\n",
    "\n",
    "import numpy as np\n",
    "\n",
    "colname_to_bin = \"maxdeutsch1\"\n",
    "majority_value = org_train[colname_to_bin].mode()[0]\n",
    "\n",
    "org_test[\"majmin\"] = np.where(org_test[colname_to_bin] == majority_value, \"majority\", \"minority\")"
   ]
  },
  {
   "cell_type": "code",
   "execution_count": 60,
   "id": "06a50de5",
   "metadata": {
    "execution": {
     "iopub.execute_input": "2025-08-05T20:50:28.322893Z",
     "iopub.status.busy": "2025-08-05T20:50:28.322543Z",
     "iopub.status.idle": "2025-08-05T20:50:30.600779Z",
     "shell.execute_reply": "2025-08-05T20:50:30.599580Z"
    },
    "papermill": {
     "duration": 2.302348,
     "end_time": "2025-08-05T20:50:30.602394",
     "exception": false,
     "start_time": "2025-08-05T20:50:28.300046",
     "status": "completed"
    },
    "tags": []
   },
   "outputs": [],
   "source": [
    "example_universe = universe.copy()\n",
    "example_universe[\"cutoff\"] = example_universe[\"cutoff\"][0]\n",
    "example_universe[\"eval_fairness_grouping\"] = example_universe[\"eval_fairness_grouping\"][0]\n",
    "fairness_dict, metric_frame = universe_analysis.compute_metrics(\n",
    "    example_universe,\n",
    "    y_pred_prob=probs_test,\n",
    "    y_test=y_true,\n",
    "    org_test=org_test,\n",
    ")"
   ]
  },
  {
   "cell_type": "markdown",
   "id": "f95d4e02",
   "metadata": {
    "papermill": {
     "duration": 0.022278,
     "end_time": "2025-08-05T20:50:30.649466",
     "exception": false,
     "start_time": "2025-08-05T20:50:30.627188",
     "status": "completed"
    },
    "tags": []
   },
   "source": [
    "# Overall"
   ]
  },
  {
   "cell_type": "markdown",
   "id": "bdee4871",
   "metadata": {
    "papermill": {
     "duration": 0.021166,
     "end_time": "2025-08-05T20:50:30.695903",
     "exception": false,
     "start_time": "2025-08-05T20:50:30.674737",
     "status": "completed"
    },
    "tags": []
   },
   "source": [
    "Fairness\n",
    "Main fairness target: Equalized Odds. Seems to be a better fit than equal opportunity, since we're not only interested in Y = 1. Seems to be a better fit than demographic parity, since we also care about accuracy, not just equal distribution of preds.\n",
    "\n",
    "Pick column for computation of fairness metrics\n",
    "\n",
    "Performance\n",
    "Overall performance measures, most interesting in relation to the measures split by group below"
   ]
  },
  {
   "cell_type": "code",
   "execution_count": 61,
   "id": "c4e067c6",
   "metadata": {
    "execution": {
     "iopub.execute_input": "2025-08-05T20:50:30.731734Z",
     "iopub.status.busy": "2025-08-05T20:50:30.731294Z",
     "iopub.status.idle": "2025-08-05T20:50:30.738541Z",
     "shell.execute_reply": "2025-08-05T20:50:30.737683Z"
    },
    "papermill": {
     "duration": 0.031294,
     "end_time": "2025-08-05T20:50:30.739897",
     "exception": false,
     "start_time": "2025-08-05T20:50:30.708603",
     "status": "completed"
    },
    "tags": []
   },
   "outputs": [
    {
     "data": {
      "text/plain": [
       "accuracy                   0.225382\n",
       "balanced accuracy          0.550878\n",
       "f1                         0.246686\n",
       "precision                  0.140923\n",
       "false positive rate        0.886947\n",
       "false negative rate        0.011296\n",
       "selection rate             0.900000\n",
       "count                  89710.000000\n",
       "dtype: float64"
      ]
     },
     "execution_count": 61,
     "metadata": {},
     "output_type": "execute_result"
    }
   ],
   "source": [
    "metric_frame.overall"
   ]
  },
  {
   "cell_type": "markdown",
   "id": "e968fe9d",
   "metadata": {
    "papermill": {
     "duration": 0.011975,
     "end_time": "2025-08-05T20:50:30.769185",
     "exception": false,
     "start_time": "2025-08-05T20:50:30.757210",
     "status": "completed"
    },
    "tags": []
   },
   "source": [
    "By Group"
   ]
  },
  {
   "cell_type": "code",
   "execution_count": 62,
   "id": "ec325bce",
   "metadata": {
    "execution": {
     "iopub.execute_input": "2025-08-05T20:50:30.794388Z",
     "iopub.status.busy": "2025-08-05T20:50:30.793455Z",
     "iopub.status.idle": "2025-08-05T20:50:30.807047Z",
     "shell.execute_reply": "2025-08-05T20:50:30.805801Z"
    },
    "papermill": {
     "duration": 0.02838,
     "end_time": "2025-08-05T20:50:30.808923",
     "exception": false,
     "start_time": "2025-08-05T20:50:30.780543",
     "status": "completed"
    },
    "tags": []
   },
   "outputs": [
    {
     "data": {
      "text/html": [
       "<div>\n",
       "<style scoped>\n",
       "    .dataframe tbody tr th:only-of-type {\n",
       "        vertical-align: middle;\n",
       "    }\n",
       "\n",
       "    .dataframe tbody tr th {\n",
       "        vertical-align: top;\n",
       "    }\n",
       "\n",
       "    .dataframe thead th {\n",
       "        text-align: right;\n",
       "    }\n",
       "</style>\n",
       "<table border=\"1\" class=\"dataframe\">\n",
       "  <thead>\n",
       "    <tr style=\"text-align: right;\">\n",
       "      <th></th>\n",
       "      <th>accuracy</th>\n",
       "      <th>balanced accuracy</th>\n",
       "      <th>f1</th>\n",
       "      <th>precision</th>\n",
       "      <th>false positive rate</th>\n",
       "      <th>false negative rate</th>\n",
       "      <th>selection rate</th>\n",
       "      <th>count</th>\n",
       "    </tr>\n",
       "    <tr>\n",
       "      <th>majmin</th>\n",
       "      <th></th>\n",
       "      <th></th>\n",
       "      <th></th>\n",
       "      <th></th>\n",
       "      <th></th>\n",
       "      <th></th>\n",
       "      <th></th>\n",
       "      <th></th>\n",
       "    </tr>\n",
       "  </thead>\n",
       "  <tbody>\n",
       "    <tr>\n",
       "      <th>majority</th>\n",
       "      <td>0.247419</td>\n",
       "      <td>0.56113</td>\n",
       "      <td>0.257488</td>\n",
       "      <td>0.148045</td>\n",
       "      <td>0.865267</td>\n",
       "      <td>0.012473</td>\n",
       "      <td>0.881423</td>\n",
       "      <td>69170.0</td>\n",
       "    </tr>\n",
       "    <tr>\n",
       "      <th>minority</th>\n",
       "      <td>0.151168</td>\n",
       "      <td>0.51734</td>\n",
       "      <td>0.212476</td>\n",
       "      <td>0.118962</td>\n",
       "      <td>0.958563</td>\n",
       "      <td>0.006757</td>\n",
       "      <td>0.962561</td>\n",
       "      <td>20540.0</td>\n",
       "    </tr>\n",
       "  </tbody>\n",
       "</table>\n",
       "</div>"
      ],
      "text/plain": [
       "          accuracy  balanced accuracy        f1  precision  \\\n",
       "majmin                                                       \n",
       "majority  0.247419            0.56113  0.257488   0.148045   \n",
       "minority  0.151168            0.51734  0.212476   0.118962   \n",
       "\n",
       "          false positive rate  false negative rate  selection rate    count  \n",
       "majmin                                                                       \n",
       "majority             0.865267             0.012473        0.881423  69170.0  \n",
       "minority             0.958563             0.006757        0.962561  20540.0  "
      ]
     },
     "execution_count": 62,
     "metadata": {},
     "output_type": "execute_result"
    }
   ],
   "source": [
    "metric_frame.by_group"
   ]
  },
  {
   "cell_type": "code",
   "execution_count": 63,
   "id": "a9ddbe63",
   "metadata": {
    "execution": {
     "iopub.execute_input": "2025-08-05T20:50:30.868899Z",
     "iopub.status.busy": "2025-08-05T20:50:30.868146Z",
     "iopub.status.idle": "2025-08-05T20:50:33.142454Z",
     "shell.execute_reply": "2025-08-05T20:50:33.141442Z"
    },
    "papermill": {
     "duration": 2.307502,
     "end_time": "2025-08-05T20:50:33.143984",
     "exception": false,
     "start_time": "2025-08-05T20:50:30.836482",
     "status": "completed"
    },
    "tags": []
   },
   "outputs": [
    {
     "data": {
      "text/plain": [
       "array([[<Axes: title={'center': 'accuracy'}, xlabel='majmin'>,\n",
       "        <Axes: title={'center': 'balanced accuracy'}, xlabel='majmin'>,\n",
       "        <Axes: title={'center': 'f1'}, xlabel='majmin'>],\n",
       "       [<Axes: title={'center': 'precision'}, xlabel='majmin'>,\n",
       "        <Axes: title={'center': 'false positive rate'}, xlabel='majmin'>,\n",
       "        <Axes: title={'center': 'false negative rate'}, xlabel='majmin'>],\n",
       "       [<Axes: title={'center': 'selection rate'}, xlabel='majmin'>,\n",
       "        <Axes: title={'center': 'count'}, xlabel='majmin'>,\n",
       "        <Axes: xlabel='majmin'>]], dtype=object)"
      ]
     },
     "execution_count": 63,
     "metadata": {},
     "output_type": "execute_result"
    },
    {
     "data": {
      "image/png": "[encoded data removed]",
      "text/plain": [
       "<Figure size 1200x800 with 9 Axes>"
      ]
     },
     "metadata": {},
     "output_type": "display_data"
    }
   ],
   "source": [
    "# In a graphic\n",
    "metric_frame.by_group.plot.bar(\n",
    "    subplots=True,\n",
    "    layout=[3, 3],\n",
    "    legend=False,\n",
    "    figsize=[12, 8],\n",
    "    title=\"Show all metrics\",\n",
    ")"
   ]
  },
  {
   "cell_type": "markdown",
   "id": "f57a0bac",
   "metadata": {
    "papermill": {
     "duration": 0.024905,
     "end_time": "2025-08-05T20:50:33.194220",
     "exception": false,
     "start_time": "2025-08-05T20:50:33.169315",
     "status": "completed"
    },
    "tags": []
   },
   "source": [
    "# Final Output"
   ]
  },
  {
   "cell_type": "code",
   "execution_count": 64,
   "id": "96d280a3",
   "metadata": {
    "execution": {
     "iopub.execute_input": "2025-08-05T20:50:33.246123Z",
     "iopub.status.busy": "2025-08-05T20:50:33.245389Z",
     "iopub.status.idle": "2025-08-05T20:50:33.254648Z",
     "shell.execute_reply": "2025-08-05T20:50:33.253697Z"
    },
    "papermill": {
     "duration": 0.037193,
     "end_time": "2025-08-05T20:50:33.256162",
     "exception": false,
     "start_time": "2025-08-05T20:50:33.218969",
     "status": "completed"
    },
    "tags": []
   },
   "outputs": [
    {
     "data": {
      "text/plain": [
       "4"
      ]
     },
     "execution_count": 64,
     "metadata": {},
     "output_type": "execute_result"
    }
   ],
   "source": [
    "sub_universes = universe_analysis.generate_sub_universes()\n",
    "len(sub_universes)"
   ]
  },
  {
   "cell_type": "code",
   "execution_count": 65,
   "id": "92adf7ba",
   "metadata": {
    "execution": {
     "iopub.execute_input": "2025-08-05T20:50:33.308625Z",
     "iopub.status.busy": "2025-08-05T20:50:33.307729Z",
     "iopub.status.idle": "2025-08-05T20:50:33.314331Z",
     "shell.execute_reply": "2025-08-05T20:50:33.313194Z"
    },
    "papermill": {
     "duration": 0.035459,
     "end_time": "2025-08-05T20:50:33.316297",
     "exception": false,
     "start_time": "2025-08-05T20:50:33.280838",
     "status": "completed"
    },
    "tags": []
   },
   "outputs": [],
   "source": [
    "def filter_sub_universe_data(sub_universe, org_test):\n",
    "    # Keep all rows — no filtering\n",
    "    keep_rows_mask = np.ones(org_test.shape[0], dtype=bool)\n",
    "\n",
    "    print(f\"[INFO] Keeping all rows: {keep_rows_mask.sum()} rows retained.\")\n",
    "    return keep_rows_mask"
   ]
  },
  {
   "cell_type": "code",
   "execution_count": 66,
   "id": "4a759155",
   "metadata": {
    "execution": {
     "iopub.execute_input": "2025-08-05T20:50:33.373296Z",
     "iopub.status.busy": "2025-08-05T20:50:33.372577Z",
     "iopub.status.idle": "2025-08-05T20:50:42.664152Z",
     "shell.execute_reply": "2025-08-05T20:50:42.663017Z"
    },
    "papermill": {
     "duration": 9.32165,
     "end_time": "2025-08-05T20:50:42.665942",
     "exception": false,
     "start_time": "2025-08-05T20:50:33.344292",
     "status": "completed"
    },
    "tags": []
   },
   "outputs": [
    {
     "name": "stdout",
     "output_type": "stream",
     "text": [
      "Stopping execution_time clock.\n",
      "[INFO] Keeping all rows: 89710 rows retained.\n"
     ]
    },
    {
     "name": "stdout",
     "output_type": "stream",
     "text": [
      "[INFO] Keeping all rows: 89710 rows retained.\n"
     ]
    },
    {
     "name": "stdout",
     "output_type": "stream",
     "text": [
      "[INFO] Keeping all rows: 89710 rows retained.\n"
     ]
    },
    {
     "name": "stdout",
     "output_type": "stream",
     "text": [
      "[INFO] Keeping all rows: 89710 rows retained.\n"
     ]
    },
    {
     "data": {
      "text/html": [
       "<div>\n",
       "<style scoped>\n",
       "    .dataframe tbody tr th:only-of-type {\n",
       "        vertical-align: middle;\n",
       "    }\n",
       "\n",
       "    .dataframe tbody tr th {\n",
       "        vertical-align: top;\n",
       "    }\n",
       "\n",
       "    .dataframe thead th {\n",
       "        text-align: right;\n",
       "    }\n",
       "</style>\n",
       "<table border=\"1\" class=\"dataframe\">\n",
       "  <thead>\n",
       "    <tr style=\"text-align: right;\">\n",
       "      <th></th>\n",
       "      <th>run_no</th>\n",
       "      <th>universe_id</th>\n",
       "      <th>universe_settings</th>\n",
       "      <th>execution_time</th>\n",
       "      <th>test_size_n</th>\n",
       "      <th>test_size_frac</th>\n",
       "      <th>fair_main_equalized_odds_difference</th>\n",
       "      <th>fair_main_equalized_odds_ratio</th>\n",
       "      <th>fair_main_demographic_parity_difference</th>\n",
       "      <th>fair_main_demographic_parity_ratio</th>\n",
       "      <th>...</th>\n",
       "      <th>perf_grp_precision_0</th>\n",
       "      <th>perf_grp_precision_1</th>\n",
       "      <th>perf_grp_false positive rate_0</th>\n",
       "      <th>perf_grp_false positive rate_1</th>\n",
       "      <th>perf_grp_false negative rate_0</th>\n",
       "      <th>perf_grp_false negative rate_1</th>\n",
       "      <th>perf_grp_selection rate_0</th>\n",
       "      <th>perf_grp_selection rate_1</th>\n",
       "      <th>perf_grp_count_0</th>\n",
       "      <th>perf_grp_count_1</th>\n",
       "    </tr>\n",
       "  </thead>\n",
       "  <tbody>\n",
       "    <tr>\n",
       "      <th>0</th>\n",
       "      <td>16</td>\n",
       "      <td>21a4e34819544a10f656ee94f05e031a</td>\n",
       "      <td>{\"cutoff\": \"quantile_0.1\", \"eval_fairness_grou...</td>\n",
       "      <td>22.301099</td>\n",
       "      <td>89710</td>\n",
       "      <td>1.0</td>\n",
       "      <td>0.093295</td>\n",
       "      <td>0.902672</td>\n",
       "      <td>0.081138</td>\n",
       "      <td>0.915706</td>\n",
       "      <td>...</td>\n",
       "      <td>NaN</td>\n",
       "      <td>NaN</td>\n",
       "      <td>NaN</td>\n",
       "      <td>NaN</td>\n",
       "      <td>NaN</td>\n",
       "      <td>NaN</td>\n",
       "      <td>NaN</td>\n",
       "      <td>NaN</td>\n",
       "      <td>NaN</td>\n",
       "      <td>NaN</td>\n",
       "    </tr>\n",
       "    <tr>\n",
       "      <th>0</th>\n",
       "      <td>16</td>\n",
       "      <td>21a4e34819544a10f656ee94f05e031a</td>\n",
       "      <td>{\"cutoff\": \"quantile_0.1\", \"eval_fairness_grou...</td>\n",
       "      <td>22.301099</td>\n",
       "      <td>89710</td>\n",
       "      <td>1.0</td>\n",
       "      <td>0.093295</td>\n",
       "      <td>0.902672</td>\n",
       "      <td>0.081138</td>\n",
       "      <td>0.915706</td>\n",
       "      <td>...</td>\n",
       "      <td>0.118962</td>\n",
       "      <td>0.148045</td>\n",
       "      <td>0.958563</td>\n",
       "      <td>0.865267</td>\n",
       "      <td>0.006757</td>\n",
       "      <td>0.012473</td>\n",
       "      <td>0.962561</td>\n",
       "      <td>0.881423</td>\n",
       "      <td>20540.0</td>\n",
       "      <td>69170.0</td>\n",
       "    </tr>\n",
       "    <tr>\n",
       "      <th>0</th>\n",
       "      <td>16</td>\n",
       "      <td>21a4e34819544a10f656ee94f05e031a</td>\n",
       "      <td>{\"cutoff\": \"quantile_0.25\", \"eval_fairness_gro...</td>\n",
       "      <td>22.301099</td>\n",
       "      <td>89710</td>\n",
       "      <td>1.0</td>\n",
       "      <td>0.161314</td>\n",
       "      <td>0.808905</td>\n",
       "      <td>0.139616</td>\n",
       "      <td>0.837210</td>\n",
       "      <td>...</td>\n",
       "      <td>NaN</td>\n",
       "      <td>NaN</td>\n",
       "      <td>NaN</td>\n",
       "      <td>NaN</td>\n",
       "      <td>NaN</td>\n",
       "      <td>NaN</td>\n",
       "      <td>NaN</td>\n",
       "      <td>NaN</td>\n",
       "      <td>NaN</td>\n",
       "      <td>NaN</td>\n",
       "    </tr>\n",
       "    <tr>\n",
       "      <th>0</th>\n",
       "      <td>16</td>\n",
       "      <td>21a4e34819544a10f656ee94f05e031a</td>\n",
       "      <td>{\"cutoff\": \"quantile_0.25\", \"eval_fairness_gro...</td>\n",
       "      <td>22.301099</td>\n",
       "      <td>89710</td>\n",
       "      <td>1.0</td>\n",
       "      <td>0.161314</td>\n",
       "      <td>0.808905</td>\n",
       "      <td>0.139616</td>\n",
       "      <td>0.837210</td>\n",
       "      <td>...</td>\n",
       "      <td>0.129201</td>\n",
       "      <td>0.174667</td>\n",
       "      <td>0.844156</td>\n",
       "      <td>0.682842</td>\n",
       "      <td>0.038851</td>\n",
       "      <td>0.050875</td>\n",
       "      <td>0.857644</td>\n",
       "      <td>0.718028</td>\n",
       "      <td>20540.0</td>\n",
       "      <td>69170.0</td>\n",
       "    </tr>\n",
       "  </tbody>\n",
       "</table>\n",
       "<p>4 rows × 50 columns</p>\n",
       "</div>"
      ],
      "text/plain": [
       "  run_no                       universe_id  \\\n",
       "0     16  21a4e34819544a10f656ee94f05e031a   \n",
       "0     16  21a4e34819544a10f656ee94f05e031a   \n",
       "0     16  21a4e34819544a10f656ee94f05e031a   \n",
       "0     16  21a4e34819544a10f656ee94f05e031a   \n",
       "\n",
       "                                   universe_settings  execution_time  \\\n",
       "0  {\"cutoff\": \"quantile_0.1\", \"eval_fairness_grou...       22.301099   \n",
       "0  {\"cutoff\": \"quantile_0.1\", \"eval_fairness_grou...       22.301099   \n",
       "0  {\"cutoff\": \"quantile_0.25\", \"eval_fairness_gro...       22.301099   \n",
       "0  {\"cutoff\": \"quantile_0.25\", \"eval_fairness_gro...       22.301099   \n",
       "\n",
       "   test_size_n  test_size_frac  fair_main_equalized_odds_difference  \\\n",
       "0        89710             1.0                             0.093295   \n",
       "0        89710             1.0                             0.093295   \n",
       "0        89710             1.0                             0.161314   \n",
       "0        89710             1.0                             0.161314   \n",
       "\n",
       "   fair_main_equalized_odds_ratio  fair_main_demographic_parity_difference  \\\n",
       "0                        0.902672                                 0.081138   \n",
       "0                        0.902672                                 0.081138   \n",
       "0                        0.808905                                 0.139616   \n",
       "0                        0.808905                                 0.139616   \n",
       "\n",
       "   fair_main_demographic_parity_ratio  ...  perf_grp_precision_0  \\\n",
       "0                            0.915706  ...                   NaN   \n",
       "0                            0.915706  ...              0.118962   \n",
       "0                            0.837210  ...                   NaN   \n",
       "0                            0.837210  ...              0.129201   \n",
       "\n",
       "   perf_grp_precision_1  perf_grp_false positive rate_0  \\\n",
       "0                   NaN                             NaN   \n",
       "0              0.148045                        0.958563   \n",
       "0                   NaN                             NaN   \n",
       "0              0.174667                        0.844156   \n",
       "\n",
       "   perf_grp_false positive rate_1  perf_grp_false negative rate_0  \\\n",
       "0                             NaN                             NaN   \n",
       "0                        0.865267                        0.006757   \n",
       "0                             NaN                             NaN   \n",
       "0                        0.682842                        0.038851   \n",
       "\n",
       "   perf_grp_false negative rate_1  perf_grp_selection rate_0  \\\n",
       "0                             NaN                        NaN   \n",
       "0                        0.012473                   0.962561   \n",
       "0                             NaN                        NaN   \n",
       "0                        0.050875                   0.857644   \n",
       "\n",
       "   perf_grp_selection rate_1  perf_grp_count_0  perf_grp_count_1  \n",
       "0                        NaN               NaN               NaN  \n",
       "0                   0.881423           20540.0           69170.0  \n",
       "0                        NaN               NaN               NaN  \n",
       "0                   0.718028           20540.0           69170.0  \n",
       "\n",
       "[4 rows x 50 columns]"
      ]
     },
     "execution_count": 66,
     "metadata": {},
     "output_type": "execute_result"
    }
   ],
   "source": [
    "final_output = universe_analysis.generate_final_output(\n",
    "    y_pred_prob=probs_test,\n",
    "    y_test=y_true,\n",
    "    org_test=org_test,\n",
    "    filter_data=filter_sub_universe_data,\n",
    "    cp_metrics_df=cp_metrics_df,\n",
    "    save=True,\n",
    ")\n",
    "final_output"
   ]
  }
 ],
 "metadata": {
  "celltoolbar": "Tags",
  "kernelspec": {
   "display_name": "Python (CMA Fairness)",
   "language": "python",
   "name": "cma_fair_env"
  },
  "language_info": {
   "codemirror_mode": {
    "name": "ipython",
    "version": 3
   },
   "file_extension": ".py",
   "mimetype": "text/x-python",
   "name": "python",
   "nbconvert_exporter": "python",
   "pygments_lexer": "ipython3",
   "version": "3.10.12"
  },
  "papermill": {
   "default_parameters": {},
   "duration": 35.382021,
   "end_time": "2025-08-05T20:50:43.410870",
   "environment_variables": {},
   "exception": null,
   "input_path": "universe_analysis.ipynb",
   "output_path": "output/runs/16/notebooks/m_16-21a4e34819544a10f656ee94f05e031a.ipynb",
   "parameters": {
    "output_dir": "output",
    "run_no": "16",
    "seed": "2023",
    "universe": "{\"cutoff\": [\"quantile_0.1\", \"quantile_0.25\"], \"eval_fairness_grouping\": [\"majority-minority\", \"nationality-all\"], \"exclude_features\": \"nationality\", \"exclude_subgroups\": \"keep-all\", \"model\": \"penalized_logreg\", \"scale\": \"scale\", \"training_size\": \"25k\", \"training_year\": \"2012_14\"}",
    "universe_id": "21a4e34819544a10f656ee94f05e031a"
   },
   "start_time": "2025-08-05T20:50:08.028849",
   "version": "2.6.0"
  }
 },
 "nbformat": 4,
 "nbformat_minor": 5
}