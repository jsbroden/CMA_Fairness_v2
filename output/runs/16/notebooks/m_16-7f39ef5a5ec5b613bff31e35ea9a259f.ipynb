{
 "cells": [
  {
   "cell_type": "code",
   "execution_count": 1,
   "id": "f159f837-637b-42ba-96b5-ec9a68c44524",
   "metadata": {
    "execution": {
     "iopub.execute_input": "2025-08-05T20:42:53.539247Z",
     "iopub.status.busy": "2025-08-05T20:42:53.538704Z",
     "iopub.status.idle": "2025-08-05T20:42:53.549103Z",
     "shell.execute_reply": "2025-08-05T20:42:53.547949Z"
    },
    "papermill": {
     "duration": 0.021884,
     "end_time": "2025-08-05T20:42:53.550896",
     "exception": false,
     "start_time": "2025-08-05T20:42:53.529012",
     "status": "completed"
    },
    "tags": []
   },
   "outputs": [
    {
     "name": "stdout",
     "output_type": "stream",
     "text": [
      "/dss/dsshome1/0C/ra93lal2/cma/CMA_Fairness_v2\n"
     ]
    },
    {
     "name": "stderr",
     "output_type": "stream",
     "text": [
      "/dss/dsshome1/0C/ra93lal2/.local/share/virtualenvs/CMA_Fairness_v2-3j10GkSs/lib/python3.10/site-packages/IPython/core/magics/osm.py:393: UserWarning: This is now an optional IPython functionality, using bookmarks requires you to install the `pickleshare` library.\n",
      "  bkms = self.shell.db.get('bookmarks', {})\n",
      "/dss/dsshome1/0C/ra93lal2/.local/share/virtualenvs/CMA_Fairness_v2-3j10GkSs/lib/python3.10/site-packages/IPython/core/magics/osm.py:417: UserWarning: This is now an optional IPython functionality, setting dhist requires you to install the `pickleshare` library.\n",
      "  self.shell.db['dhist'] = compress_dhist(dhist)[-100:]\n"
     ]
    }
   ],
   "source": [
    "%cd ~/cma/CMA_Fairness_v2"
   ]
  },
  {
   "cell_type": "markdown",
   "id": "de2603b9",
   "metadata": {
    "papermill": {
     "duration": 0.008904,
     "end_time": "2025-08-05T20:42:53.575552",
     "exception": false,
     "start_time": "2025-08-05T20:42:53.566648",
     "status": "completed"
    },
    "tags": []
   },
   "source": [
    "The following cell holds the definition of our parameters, these values can be overriden by rendering the with e.g. the following command:\n",
    "\n",
    "papermill -p alpha 0.2 -p ratio 0.3 universe_analysis.ipynb output/test_run.ipynb"
   ]
  },
  {
   "cell_type": "code",
   "execution_count": 2,
   "id": "a80968a0-40bb-4fa9-85ef-2d5eefb01975",
   "metadata": {
    "execution": {
     "iopub.execute_input": "2025-08-05T20:42:53.606852Z",
     "iopub.status.busy": "2025-08-05T20:42:53.606424Z",
     "iopub.status.idle": "2025-08-05T20:42:53.611649Z",
     "shell.execute_reply": "2025-08-05T20:42:53.610713Z"
    },
    "papermill": {
     "duration": 0.029039,
     "end_time": "2025-08-05T20:42:53.613014",
     "exception": false,
     "start_time": "2025-08-05T20:42:53.583975",
     "status": "completed"
    },
    "tags": []
   },
   "outputs": [
    {
     "name": "stdout",
     "output_type": "stream",
     "text": [
      "Current working directory: /dss/dsshome1/0C/ra93lal2/cma/CMA_Fairness_v2\n"
     ]
    }
   ],
   "source": [
    "import os\n",
    "print(\"Current working directory:\", os.getcwd())"
   ]
  },
  {
   "cell_type": "code",
   "execution_count": 3,
   "id": "2dce4c03",
   "metadata": {
    "execution": {
     "iopub.execute_input": "2025-08-05T20:42:53.634363Z",
     "iopub.status.busy": "2025-08-05T20:42:53.633974Z",
     "iopub.status.idle": "2025-08-05T20:42:53.639830Z",
     "shell.execute_reply": "2025-08-05T20:42:53.638921Z"
    },
    "papermill": {
     "duration": 0.017732,
     "end_time": "2025-08-05T20:42:53.641789",
     "exception": false,
     "start_time": "2025-08-05T20:42:53.624057",
     "status": "completed"
    },
    "tags": [
     "parameters"
    ]
   },
   "outputs": [],
   "source": [
    "run_no = 0\n",
    "universe_id = \"test\"\n",
    "universe = {\n",
    "    \"training_size\": \"25k\", # \"25k\", \"5k\", \"1k\"\n",
    "    \"training_year\": \"2014\", # \"2014\", \"2012_14\", \"2010_14\"\n",
    "    \"scale\": \"scale\", # \"scale\", \"do-not-scale\",\n",
    "    \"model\": \"elasticnet\", # \"logreg\", \"penalized_logreg\", \"rf\", \"gbm\", \"elasticnet\"\n",
    "    \"cutoff\": [\"quantile_0.15\", \"quantile_0.30\"],\n",
    "    \"exclude_features\": \"age\", # \"none\", \"nationality\", \"sex\", \"nationality-sex\", \"age\"\n",
    "    \"exclude_subgroups\": \"keep-all\", # \"keep-all\", \"drop-non-german\"\n",
    "    \"eval_fairness_grouping\": [\"majority-minority\", \"nationality-all\"]\n",
    "}\n",
    "\n",
    "output_dir=\"./output\"\n",
    "seed=0"
   ]
  },
  {
   "cell_type": "code",
   "execution_count": 4,
   "id": "96805590",
   "metadata": {
    "execution": {
     "iopub.execute_input": "2025-08-05T20:42:53.675304Z",
     "iopub.status.busy": "2025-08-05T20:42:53.674959Z",
     "iopub.status.idle": "2025-08-05T20:42:53.679257Z",
     "shell.execute_reply": "2025-08-05T20:42:53.678441Z"
    },
    "papermill": {
     "duration": 0.02112,
     "end_time": "2025-08-05T20:42:53.680966",
     "exception": false,
     "start_time": "2025-08-05T20:42:53.659846",
     "status": "completed"
    },
    "tags": [
     "injected-parameters"
    ]
   },
   "outputs": [],
   "source": [
    "# Parameters\n",
    "universe_id = \"7f39ef5a5ec5b613bff31e35ea9a259f\"\n",
    "run_no = \"16\"\n",
    "universe = \"{\\\"cutoff\\\": [\\\"quantile_0.1\\\", \\\"quantile_0.25\\\"], \\\"eval_fairness_grouping\\\": [\\\"majority-minority\\\", \\\"nationality-all\\\"], \\\"exclude_features\\\": \\\"age\\\", \\\"exclude_subgroups\\\": \\\"keep-all\\\", \\\"model\\\": \\\"penalized_logreg\\\", \\\"scale\\\": \\\"do-not-scale\\\", \\\"training_size\\\": \\\"25k\\\", \\\"training_year\\\": \\\"2014\\\"}\"\n",
    "output_dir = \"output\"\n",
    "seed = \"2023\"\n"
   ]
  },
  {
   "cell_type": "code",
   "execution_count": 5,
   "id": "1650acaf",
   "metadata": {
    "execution": {
     "iopub.execute_input": "2025-08-05T20:42:53.719678Z",
     "iopub.status.busy": "2025-08-05T20:42:53.719186Z",
     "iopub.status.idle": "2025-08-05T20:42:53.723696Z",
     "shell.execute_reply": "2025-08-05T20:42:53.722813Z"
    },
    "papermill": {
     "duration": 0.025923,
     "end_time": "2025-08-05T20:42:53.725290",
     "exception": false,
     "start_time": "2025-08-05T20:42:53.699367",
     "status": "completed"
    },
    "tags": []
   },
   "outputs": [],
   "source": [
    "import json\n",
    "if isinstance(universe, str):\n",
    "    universe = json.loads(universe)"
   ]
  },
  {
   "cell_type": "code",
   "execution_count": 6,
   "id": "16620c48",
   "metadata": {
    "execution": {
     "iopub.execute_input": "2025-08-05T20:42:53.760940Z",
     "iopub.status.busy": "2025-08-05T20:42:53.760451Z",
     "iopub.status.idle": "2025-08-05T20:42:53.788245Z",
     "shell.execute_reply": "2025-08-05T20:42:53.787537Z"
    },
    "papermill": {
     "duration": 0.047306,
     "end_time": "2025-08-05T20:42:53.789998",
     "exception": false,
     "start_time": "2025-08-05T20:42:53.742692",
     "status": "completed"
    },
    "tags": []
   },
   "outputs": [],
   "source": [
    "# Auto-reload the custom package\n",
    "%load_ext autoreload\n",
    "%autoreload 1\n",
    "%aimport fairness_multiverse"
   ]
  },
  {
   "cell_type": "code",
   "execution_count": 7,
   "id": "01c5c9f3",
   "metadata": {
    "execution": {
     "iopub.execute_input": "2025-08-05T20:42:53.810138Z",
     "iopub.status.busy": "2025-08-05T20:42:53.809745Z",
     "iopub.status.idle": "2025-08-05T20:42:55.791710Z",
     "shell.execute_reply": "2025-08-05T20:42:55.790700Z"
    },
    "papermill": {
     "duration": 1.993416,
     "end_time": "2025-08-05T20:42:55.793633",
     "exception": false,
     "start_time": "2025-08-05T20:42:53.800217",
     "status": "completed"
    },
    "tags": []
   },
   "outputs": [],
   "source": [
    "from fairness_multiverse.universe import UniverseAnalysis\n",
    "\n",
    "universe_analysis = UniverseAnalysis(\n",
    "    run_no = run_no,\n",
    "    universe_id = universe_id,\n",
    "    universe = universe,\n",
    "    output_dir=output_dir,\n",
    ")"
   ]
  },
  {
   "cell_type": "code",
   "execution_count": 8,
   "id": "106241f5",
   "metadata": {
    "execution": {
     "iopub.execute_input": "2025-08-05T20:42:55.827736Z",
     "iopub.status.busy": "2025-08-05T20:42:55.826973Z",
     "iopub.status.idle": "2025-08-05T20:42:55.834052Z",
     "shell.execute_reply": "2025-08-05T20:42:55.832933Z"
    },
    "papermill": {
     "duration": 0.026348,
     "end_time": "2025-08-05T20:42:55.836454",
     "exception": false,
     "start_time": "2025-08-05T20:42:55.810106",
     "status": "completed"
    },
    "tags": []
   },
   "outputs": [
    {
     "name": "stdout",
     "output_type": "stream",
     "text": [
      "Using Seed: 2023\n"
     ]
    }
   ],
   "source": [
    "import numpy as np\n",
    "parsed_seed = int(seed)\n",
    "np.random.seed(parsed_seed)\n",
    "print(f\"Using Seed: {parsed_seed}\")"
   ]
  },
  {
   "cell_type": "markdown",
   "id": "e0ebdc57",
   "metadata": {
    "papermill": {
     "duration": 0.018087,
     "end_time": "2025-08-05T20:42:55.873877",
     "exception": false,
     "start_time": "2025-08-05T20:42:55.855790",
     "status": "completed"
    },
    "tags": []
   },
   "source": [
    "# Loading Data"
   ]
  },
  {
   "cell_type": "code",
   "execution_count": 9,
   "id": "f0496b8a",
   "metadata": {
    "execution": {
     "iopub.execute_input": "2025-08-05T20:42:55.923728Z",
     "iopub.status.busy": "2025-08-05T20:42:55.922757Z",
     "iopub.status.idle": "2025-08-05T20:43:07.982674Z",
     "shell.execute_reply": "2025-08-05T20:43:07.981566Z"
    },
    "papermill": {
     "duration": 12.081183,
     "end_time": "2025-08-05T20:43:07.984605",
     "exception": false,
     "start_time": "2025-08-05T20:42:55.903422",
     "status": "completed"
    },
    "tags": []
   },
   "outputs": [
    {
     "name": "stdout",
     "output_type": "stream",
     "text": [
      "Loading SIAB data from cache: data/siab_cached.csv.gz\n"
     ]
    },
    {
     "name": "stdout",
     "output_type": "stream",
     "text": [
      "(643690, 164)\n"
     ]
    }
   ],
   "source": [
    "from pathlib import Path\n",
    "import pandas as pd\n",
    "\n",
    "# File paths\n",
    "raw_file = Path(\"data/raw/siab.csv\")\n",
    "cache_file = Path(\"data/siab_cached.csv.gz\")\n",
    "\n",
    "# Ensure cache directory exists\n",
    "cache_file.parent.mkdir(parents=True, exist_ok=True)\n",
    "\n",
    "# Load with simple caching\n",
    "if cache_file.exists():\n",
    "    print(f\"Loading SIAB data from cache: {cache_file}\")\n",
    "    siab = pd.read_csv(cache_file, compression='gzip')\n",
    "else:\n",
    "    print(f\"Cache not found. Reading raw SIAB data: {raw_file}\")\n",
    "    siab = pd.read_csv(raw_file)\n",
    "    siab.to_csv(cache_file, index=False, compression='gzip')\n",
    "    print(f\"Cached SIAB data to: {cache_file}\")\n",
    "\n",
    "print(siab.shape)"
   ]
  },
  {
   "cell_type": "code",
   "execution_count": 10,
   "id": "db0ca512-5f53-4dba-abdb-a2888bca41ba",
   "metadata": {
    "execution": {
     "iopub.execute_input": "2025-08-05T20:43:08.013172Z",
     "iopub.status.busy": "2025-08-05T20:43:08.012725Z",
     "iopub.status.idle": "2025-08-05T20:43:08.018102Z",
     "shell.execute_reply": "2025-08-05T20:43:08.017128Z"
    },
    "papermill": {
     "duration": 0.022006,
     "end_time": "2025-08-05T20:43:08.019741",
     "exception": false,
     "start_time": "2025-08-05T20:43:07.997735",
     "status": "completed"
    },
    "tags": []
   },
   "outputs": [],
   "source": [
    "#siab"
   ]
  },
  {
   "cell_type": "markdown",
   "id": "997051c5-15bd-4b69-9786-c3001a3ce484",
   "metadata": {
    "papermill": {
     "duration": 0.01558,
     "end_time": "2025-08-05T20:43:08.052559",
     "exception": false,
     "start_time": "2025-08-05T20:43:08.036979",
     "status": "completed"
    },
    "tags": []
   },
   "source": [
    "# Splitting Data and Setting Training Data Size"
   ]
  },
  {
   "cell_type": "code",
   "execution_count": 11,
   "id": "aea9c6ef-6f46-42c8-85eb-5a62025c1508",
   "metadata": {
    "execution": {
     "iopub.execute_input": "2025-08-05T20:43:08.086080Z",
     "iopub.status.busy": "2025-08-05T20:43:08.085352Z",
     "iopub.status.idle": "2025-08-05T20:43:08.478559Z",
     "shell.execute_reply": "2025-08-05T20:43:08.477463Z"
    },
    "papermill": {
     "duration": 0.411952,
     "end_time": "2025-08-05T20:43:08.480460",
     "exception": false,
     "start_time": "2025-08-05T20:43:08.068508",
     "status": "completed"
    },
    "tags": []
   },
   "outputs": [],
   "source": [
    "from fairness_multiverse.universe import sample_by_year_size\n",
    "\n",
    "siab_train = sample_by_year_size(siab,\n",
    "                               training_year=universe[\"training_year\"],\n",
    "                               training_size=universe[\"training_size\"])"
   ]
  },
  {
   "cell_type": "code",
   "execution_count": 12,
   "id": "8d3afb32-789d-442c-8d5d-9f5aa8dd2eed",
   "metadata": {
    "execution": {
     "iopub.execute_input": "2025-08-05T20:43:08.514671Z",
     "iopub.status.busy": "2025-08-05T20:43:08.514124Z",
     "iopub.status.idle": "2025-08-05T20:43:08.519050Z",
     "shell.execute_reply": "2025-08-05T20:43:08.518046Z"
    },
    "papermill": {
     "duration": 0.024268,
     "end_time": "2025-08-05T20:43:08.520850",
     "exception": false,
     "start_time": "2025-08-05T20:43:08.496582",
     "status": "completed"
    },
    "tags": []
   },
   "outputs": [],
   "source": [
    "#siab_train.shape"
   ]
  },
  {
   "cell_type": "code",
   "execution_count": 13,
   "id": "d582db68-1a4c-47fb-84fc-08518dc1975a",
   "metadata": {
    "execution": {
     "iopub.execute_input": "2025-08-05T20:43:08.556995Z",
     "iopub.status.busy": "2025-08-05T20:43:08.556341Z",
     "iopub.status.idle": "2025-08-05T20:43:08.561304Z",
     "shell.execute_reply": "2025-08-05T20:43:08.560377Z"
    },
    "papermill": {
     "duration": 0.024942,
     "end_time": "2025-08-05T20:43:08.562996",
     "exception": false,
     "start_time": "2025-08-05T20:43:08.538054",
     "status": "completed"
    },
    "tags": []
   },
   "outputs": [],
   "source": [
    "#display(siab_train.groupby(\"year\").size())"
   ]
  },
  {
   "cell_type": "code",
   "execution_count": 14,
   "id": "a561edb4-d032-42cb-8256-22eac1111c64",
   "metadata": {
    "execution": {
     "iopub.execute_input": "2025-08-05T20:43:08.600120Z",
     "iopub.status.busy": "2025-08-05T20:43:08.599668Z",
     "iopub.status.idle": "2025-08-05T20:43:08.851622Z",
     "shell.execute_reply": "2025-08-05T20:43:08.850622Z"
    },
    "papermill": {
     "duration": 0.27346,
     "end_time": "2025-08-05T20:43:08.853652",
     "exception": false,
     "start_time": "2025-08-05T20:43:08.580192",
     "status": "completed"
    },
    "tags": []
   },
   "outputs": [],
   "source": [
    "#siab_train = siab_s[siab_s.year < 2015]\n",
    "siab_calib = siab[siab.year == 2015]\n",
    "siab_test = siab[siab.year == 2016]"
   ]
  },
  {
   "cell_type": "code",
   "execution_count": 15,
   "id": "472de16f-c3db-4916-846b-1f0de9cf1746",
   "metadata": {
    "execution": {
     "iopub.execute_input": "2025-08-05T20:43:08.899299Z",
     "iopub.status.busy": "2025-08-05T20:43:08.898795Z",
     "iopub.status.idle": "2025-08-05T20:43:08.913610Z",
     "shell.execute_reply": "2025-08-05T20:43:08.912447Z"
    },
    "papermill": {
     "duration": 0.044723,
     "end_time": "2025-08-05T20:43:08.915391",
     "exception": false,
     "start_time": "2025-08-05T20:43:08.870668",
     "status": "completed"
    },
    "tags": []
   },
   "outputs": [],
   "source": [
    "X_train = siab_train.iloc[:,4:164]\n",
    "y_train = siab_train.iloc[:, [3]]"
   ]
  },
  {
   "cell_type": "code",
   "execution_count": 16,
   "id": "828c96af-f43a-4ed6-ba47-8ac73a47d56c",
   "metadata": {
    "execution": {
     "iopub.execute_input": "2025-08-05T20:43:08.951422Z",
     "iopub.status.busy": "2025-08-05T20:43:08.950549Z",
     "iopub.status.idle": "2025-08-05T20:43:09.017428Z",
     "shell.execute_reply": "2025-08-05T20:43:09.016078Z"
    },
    "papermill": {
     "duration": 0.087025,
     "end_time": "2025-08-05T20:43:09.019521",
     "exception": false,
     "start_time": "2025-08-05T20:43:08.932496",
     "status": "completed"
    },
    "tags": []
   },
   "outputs": [],
   "source": [
    "X_calib = siab_calib.iloc[:,4:164]\n",
    "y_calib = siab_calib.iloc[:, [3]]"
   ]
  },
  {
   "cell_type": "code",
   "execution_count": 17,
   "id": "c34be9c3-6bd6-476e-acd3-845840e303be",
   "metadata": {
    "execution": {
     "iopub.execute_input": "2025-08-05T20:43:09.061918Z",
     "iopub.status.busy": "2025-08-05T20:43:09.061273Z",
     "iopub.status.idle": "2025-08-05T20:43:09.116355Z",
     "shell.execute_reply": "2025-08-05T20:43:09.115388Z"
    },
    "papermill": {
     "duration": 0.077358,
     "end_time": "2025-08-05T20:43:09.117966",
     "exception": false,
     "start_time": "2025-08-05T20:43:09.040608",
     "status": "completed"
    },
    "tags": []
   },
   "outputs": [],
   "source": [
    "X_test = siab_test.iloc[:,4:164]\n",
    "y_true = siab_test.iloc[:, [3]]"
   ]
  },
  {
   "cell_type": "code",
   "execution_count": 18,
   "id": "e6c733c5",
   "metadata": {
    "execution": {
     "iopub.execute_input": "2025-08-05T20:43:09.152803Z",
     "iopub.status.busy": "2025-08-05T20:43:09.152350Z",
     "iopub.status.idle": "2025-08-05T20:43:09.267729Z",
     "shell.execute_reply": "2025-08-05T20:43:09.266751Z"
    },
    "papermill": {
     "duration": 0.134834,
     "end_time": "2025-08-05T20:43:09.269566",
     "exception": false,
     "start_time": "2025-08-05T20:43:09.134732",
     "status": "completed"
    },
    "tags": []
   },
   "outputs": [],
   "source": [
    "# Auxiliary data needed downstream in the pipeline\n",
    "\n",
    "org_train = X_train.copy()\n",
    "org_test = X_test.copy()\n",
    "org_calib = X_calib.copy()"
   ]
  },
  {
   "cell_type": "markdown",
   "id": "0a4a1b33",
   "metadata": {
    "papermill": {
     "duration": 0.016771,
     "end_time": "2025-08-05T20:43:09.303870",
     "exception": false,
     "start_time": "2025-08-05T20:43:09.287099",
     "status": "completed"
    },
    "tags": []
   },
   "source": [
    "# Preprocessing Data"
   ]
  },
  {
   "cell_type": "code",
   "execution_count": 19,
   "id": "ca879031",
   "metadata": {
    "execution": {
     "iopub.execute_input": "2025-08-05T20:43:09.337951Z",
     "iopub.status.busy": "2025-08-05T20:43:09.337399Z",
     "iopub.status.idle": "2025-08-05T20:43:09.343409Z",
     "shell.execute_reply": "2025-08-05T20:43:09.342476Z"
    },
    "papermill": {
     "duration": 0.025324,
     "end_time": "2025-08-05T20:43:09.345022",
     "exception": false,
     "start_time": "2025-08-05T20:43:09.319698",
     "status": "completed"
    },
    "tags": []
   },
   "outputs": [],
   "source": [
    "# EXCLUDE PROTECTED FEATURES\n",
    "# ----------------------\n",
    "# \"exclude_features\": \"none\", # \"nationality\", \"sex\", \"nationality-sex\"\n",
    "\n",
    "excluded_features = universe[\"exclude_features\"].split(\"-\") # split, e.g.: \"nationality-sex\" -> [\"nationality\", \"sex\"]\n",
    "excluded_features_dictionary = {\n",
    "    \"nationality\": [\"maxdeutsch1\", \"maxdeutsch.Missing.\"],\n",
    "    \"sex\": [\"frau1\"],\n",
    "    \"age\": [\"age\"],\n",
    "}"
   ]
  },
  {
   "cell_type": "code",
   "execution_count": 20,
   "id": "b745ac60",
   "metadata": {
    "execution": {
     "iopub.execute_input": "2025-08-05T20:43:09.390329Z",
     "iopub.status.busy": "2025-08-05T20:43:09.389864Z",
     "iopub.status.idle": "2025-08-05T20:43:09.411725Z",
     "shell.execute_reply": "2025-08-05T20:43:09.410582Z"
    },
    "papermill": {
     "duration": 0.04749,
     "end_time": "2025-08-05T20:43:09.413383",
     "exception": false,
     "start_time": "2025-08-05T20:43:09.365893",
     "status": "completed"
    },
    "tags": []
   },
   "outputs": [],
   "source": [
    "# Code nice names to column names\n",
    "\n",
    "excluded_features_columns = [\n",
    "    excluded_features_dictionary[f] for f in excluded_features if len(f) > 0 and f != \"none\"\n",
    "]"
   ]
  },
  {
   "cell_type": "code",
   "execution_count": 21,
   "id": "f84f73a2",
   "metadata": {
    "execution": {
     "iopub.execute_input": "2025-08-05T20:43:09.450631Z",
     "iopub.status.busy": "2025-08-05T20:43:09.450123Z",
     "iopub.status.idle": "2025-08-05T20:43:09.456200Z",
     "shell.execute_reply": "2025-08-05T20:43:09.455438Z"
    },
    "papermill": {
     "duration": 0.025339,
     "end_time": "2025-08-05T20:43:09.457458",
     "exception": false,
     "start_time": "2025-08-05T20:43:09.432119",
     "status": "completed"
    },
    "tags": []
   },
   "outputs": [],
   "source": [
    "from utils import flatten_once\n",
    "\n",
    "excluded_features_columns = flatten_once(excluded_features_columns)"
   ]
  },
  {
   "cell_type": "code",
   "execution_count": 22,
   "id": "884dea22",
   "metadata": {
    "execution": {
     "iopub.execute_input": "2025-08-05T20:43:09.486087Z",
     "iopub.status.busy": "2025-08-05T20:43:09.485680Z",
     "iopub.status.idle": "2025-08-05T20:43:09.500197Z",
     "shell.execute_reply": "2025-08-05T20:43:09.499119Z"
    },
    "papermill": {
     "duration": 0.033505,
     "end_time": "2025-08-05T20:43:09.501662",
     "exception": false,
     "start_time": "2025-08-05T20:43:09.468157",
     "status": "completed"
    },
    "tags": []
   },
   "outputs": [
    {
     "name": "stdout",
     "output_type": "stream",
     "text": [
      "Dropping features: ['age']\n"
     ]
    }
   ],
   "source": [
    "if len(excluded_features_columns) > 0:\n",
    "    print(f\"Dropping features: {excluded_features_columns}\")\n",
    "    X_train.drop(excluded_features_columns, axis=1, inplace=True)"
   ]
  },
  {
   "cell_type": "code",
   "execution_count": 23,
   "id": "95ab8b16",
   "metadata": {
    "execution": {
     "iopub.execute_input": "2025-08-05T20:43:09.538556Z",
     "iopub.status.busy": "2025-08-05T20:43:09.538116Z",
     "iopub.status.idle": "2025-08-05T20:43:09.592645Z",
     "shell.execute_reply": "2025-08-05T20:43:09.591596Z"
    },
    "papermill": {
     "duration": 0.082906,
     "end_time": "2025-08-05T20:43:09.594781",
     "exception": false,
     "start_time": "2025-08-05T20:43:09.511875",
     "status": "completed"
    },
    "tags": []
   },
   "outputs": [
    {
     "name": "stdout",
     "output_type": "stream",
     "text": [
      "Dropping features: ['age']\n"
     ]
    }
   ],
   "source": [
    "if len(excluded_features_columns) > 0:\n",
    "    print(f\"Dropping features: {excluded_features_columns}\")\n",
    "    X_test.drop(excluded_features_columns, axis=1, inplace=True)"
   ]
  },
  {
   "cell_type": "code",
   "execution_count": 24,
   "id": "1853aaf5-fb9f-46cb-a2b5-8ea4ae2237e4",
   "metadata": {
    "execution": {
     "iopub.execute_input": "2025-08-05T20:43:09.636083Z",
     "iopub.status.busy": "2025-08-05T20:43:09.635496Z",
     "iopub.status.idle": "2025-08-05T20:43:09.686556Z",
     "shell.execute_reply": "2025-08-05T20:43:09.684224Z"
    },
    "papermill": {
     "duration": 0.07342,
     "end_time": "2025-08-05T20:43:09.688905",
     "exception": false,
     "start_time": "2025-08-05T20:43:09.615485",
     "status": "completed"
    },
    "tags": []
   },
   "outputs": [
    {
     "name": "stdout",
     "output_type": "stream",
     "text": [
      "Dropping features: ['age']\n"
     ]
    }
   ],
   "source": [
    "if len(excluded_features_columns) > 0:\n",
    "    print(f\"Dropping features: {excluded_features_columns}\")\n",
    "    X_calib.drop(excluded_features_columns, axis=1, inplace=True)"
   ]
  },
  {
   "cell_type": "code",
   "execution_count": 25,
   "id": "76c4dc6d",
   "metadata": {
    "execution": {
     "iopub.execute_input": "2025-08-05T20:43:09.727647Z",
     "iopub.status.busy": "2025-08-05T20:43:09.726908Z",
     "iopub.status.idle": "2025-08-05T20:43:09.732447Z",
     "shell.execute_reply": "2025-08-05T20:43:09.731491Z"
    },
    "papermill": {
     "duration": 0.025876,
     "end_time": "2025-08-05T20:43:09.734141",
     "exception": false,
     "start_time": "2025-08-05T20:43:09.708265",
     "status": "completed"
    },
    "tags": []
   },
   "outputs": [],
   "source": [
    "# EXCLUDE CERTAIN SUBGROUPS\n",
    "# ----------------------\n",
    "\n",
    "mode = universe.get(\"exclude_subgroups\", \"keep-all\") \n",
    "# Fetches the exclude_subgroups setting from the universe dict.\n",
    "# Defaults to \"keep-all\" if the key is missing."
   ]
  },
  {
   "cell_type": "code",
   "execution_count": 26,
   "id": "21994072",
   "metadata": {
    "execution": {
     "iopub.execute_input": "2025-08-05T20:43:09.770404Z",
     "iopub.status.busy": "2025-08-05T20:43:09.769721Z",
     "iopub.status.idle": "2025-08-05T20:43:09.776848Z",
     "shell.execute_reply": "2025-08-05T20:43:09.775880Z"
    },
    "papermill": {
     "duration": 0.026656,
     "end_time": "2025-08-05T20:43:09.778461",
     "exception": false,
     "start_time": "2025-08-05T20:43:09.751805",
     "status": "completed"
    },
    "tags": []
   },
   "outputs": [],
   "source": [
    "if mode == \"keep-all\":\n",
    "    keep_mask = pd.Series(True, index=org_train.index)\n",
    "\n",
    "# org_train contains the original feature columns from features_org (in Simson)\n",
    "# features_org contains unprocessed features, for me X_train at beginning ???\n",
    "# For keep-all, creates a boolean Series (keep_mask) of all True, so no rows are removed.\n",
    "\n",
    "elif mode == \"drop-non-german\":\n",
    "    keep_mask = org_train[\"maxdeutsch1\"] == 1 # ??? what about missing values?\n",
    "\n",
    "else:\n",
    "    raise ValueError(f\"Unsupported mode for exclude_subgroups: {mode}\")"
   ]
  },
  {
   "cell_type": "code",
   "execution_count": 27,
   "id": "71651440",
   "metadata": {
    "execution": {
     "iopub.execute_input": "2025-08-05T20:43:09.816537Z",
     "iopub.status.busy": "2025-08-05T20:43:09.815627Z",
     "iopub.status.idle": "2025-08-05T20:43:09.822251Z",
     "shell.execute_reply": "2025-08-05T20:43:09.821373Z"
    },
    "papermill": {
     "duration": 0.026426,
     "end_time": "2025-08-05T20:43:09.823729",
     "exception": false,
     "start_time": "2025-08-05T20:43:09.797303",
     "status": "completed"
    },
    "tags": []
   },
   "outputs": [],
   "source": [
    "n_drop = (~keep_mask).sum() # Calculates how many rows are set to be dropped\n",
    "if n_drop > 0:\n",
    "    pct = n_drop / len(keep_mask) * 100\n",
    "    print(f\"Dropping {n_drop} rows ({pct:.2f}%) where mode='{mode}'\")"
   ]
  },
  {
   "cell_type": "code",
   "execution_count": 28,
   "id": "5fb8eee5",
   "metadata": {
    "execution": {
     "iopub.execute_input": "2025-08-05T20:43:09.862782Z",
     "iopub.status.busy": "2025-08-05T20:43:09.861919Z",
     "iopub.status.idle": "2025-08-05T20:43:09.876067Z",
     "shell.execute_reply": "2025-08-05T20:43:09.874976Z"
    },
    "papermill": {
     "duration": 0.035014,
     "end_time": "2025-08-05T20:43:09.878129",
     "exception": false,
     "start_time": "2025-08-05T20:43:09.843115",
     "status": "completed"
    },
    "tags": []
   },
   "outputs": [],
   "source": [
    "X_train = X_train[keep_mask]"
   ]
  },
  {
   "cell_type": "code",
   "execution_count": 29,
   "id": "b202bb3a",
   "metadata": {
    "execution": {
     "iopub.execute_input": "2025-08-05T20:43:09.917350Z",
     "iopub.status.busy": "2025-08-05T20:43:09.916495Z",
     "iopub.status.idle": "2025-08-05T20:43:09.923184Z",
     "shell.execute_reply": "2025-08-05T20:43:09.922329Z"
    },
    "papermill": {
     "duration": 0.027647,
     "end_time": "2025-08-05T20:43:09.924806",
     "exception": false,
     "start_time": "2025-08-05T20:43:09.897159",
     "status": "completed"
    },
    "tags": []
   },
   "outputs": [],
   "source": [
    "y_train = y_train[keep_mask]"
   ]
  },
  {
   "cell_type": "markdown",
   "id": "493e2ac3",
   "metadata": {
    "papermill": {
     "duration": 0.018844,
     "end_time": "2025-08-05T20:43:09.961690",
     "exception": false,
     "start_time": "2025-08-05T20:43:09.942846",
     "status": "completed"
    },
    "tags": []
   },
   "source": [
    "# Model Training"
   ]
  },
  {
   "cell_type": "code",
   "execution_count": 30,
   "id": "679e1268",
   "metadata": {
    "execution": {
     "iopub.execute_input": "2025-08-05T20:43:09.999406Z",
     "iopub.status.busy": "2025-08-05T20:43:09.998910Z",
     "iopub.status.idle": "2025-08-05T20:43:10.107841Z",
     "shell.execute_reply": "2025-08-05T20:43:10.106877Z"
    },
    "papermill": {
     "duration": 0.131675,
     "end_time": "2025-08-05T20:43:10.111143",
     "exception": false,
     "start_time": "2025-08-05T20:43:09.979468",
     "status": "completed"
    },
    "tags": []
   },
   "outputs": [],
   "source": [
    "from sklearn.linear_model import LogisticRegression\n",
    "from sklearn.ensemble import GradientBoostingClassifier, RandomForestClassifier\n",
    "\n",
    "if (universe[\"model\"] == \"logreg\"):\n",
    "    model = LogisticRegression() #penalty=\"none\", solver=\"newton-cg\", max_iter=1) # include random_state=19 ?\n",
    "elif (universe[\"model\"] == \"penalized_logreg\"):\n",
    "    model = LogisticRegression(penalty=\"l2\", C=0.1) #, solver=\"newton-cg\", max_iter=1)\n",
    "elif (universe[\"model\"] == \"rf\"):\n",
    "    model = RandomForestClassifier() # n_estimators=100, n_jobs=-1\n",
    "elif (universe[\"model\"] == \"gbm\"):\n",
    "    model = GradientBoostingClassifier()\n",
    "elif (universe[\"model\"] == \"elasticnet\"):\n",
    "    model = LogisticRegression(penalty = 'elasticnet', solver = 'saga', l1_ratio = 0.5) # max_iter=5000\n",
    "else:\n",
    "    raise \"Unsupported universe.model\""
   ]
  },
  {
   "cell_type": "code",
   "execution_count": 31,
   "id": "0cc8f744",
   "metadata": {
    "execution": {
     "iopub.execute_input": "2025-08-05T20:43:10.151400Z",
     "iopub.status.busy": "2025-08-05T20:43:10.150739Z",
     "iopub.status.idle": "2025-08-05T20:43:10.157823Z",
     "shell.execute_reply": "2025-08-05T20:43:10.156696Z"
    },
    "papermill": {
     "duration": 0.027464,
     "end_time": "2025-08-05T20:43:10.159376",
     "exception": false,
     "start_time": "2025-08-05T20:43:10.131912",
     "status": "completed"
    },
    "tags": []
   },
   "outputs": [],
   "source": [
    "import numpy as np\n",
    "from sklearn.pipeline import Pipeline\n",
    "from sklearn.preprocessing import StandardScaler\n",
    "\n",
    "model = Pipeline([\n",
    "    #(\"continuous_processor\", continuous_processor),\n",
    "    #(\"categorical_preprocessor\", categorical_preprocessor),\n",
    "    (\"scale\", StandardScaler() if universe[\"scale\"] == \"scale\" else None), \n",
    "    (\"model\", model),\n",
    "])"
   ]
  },
  {
   "cell_type": "code",
   "execution_count": 32,
   "id": "9442c04d",
   "metadata": {
    "execution": {
     "iopub.execute_input": "2025-08-05T20:43:10.198422Z",
     "iopub.status.busy": "2025-08-05T20:43:10.197899Z",
     "iopub.status.idle": "2025-08-05T20:43:10.925526Z",
     "shell.execute_reply": "2025-08-05T20:43:10.924361Z"
    },
    "papermill": {
     "duration": 0.748451,
     "end_time": "2025-08-05T20:43:10.927088",
     "exception": false,
     "start_time": "2025-08-05T20:43:10.178637",
     "status": "completed"
    },
    "tags": []
   },
   "outputs": [
    {
     "name": "stderr",
     "output_type": "stream",
     "text": [
      "/dss/dsshome1/0C/ra93lal2/.local/share/virtualenvs/CMA_Fairness_v2-3j10GkSs/lib/python3.10/site-packages/sklearn/linear_model/_logistic.py:444: ConvergenceWarning: lbfgs failed to converge (status=1):\n",
      "STOP: TOTAL NO. of ITERATIONS REACHED LIMIT.\n",
      "\n",
      "Increase the number of iterations (max_iter) or scale the data as shown in:\n",
      "    https://scikit-learn.org/stable/modules/preprocessing.html\n",
      "Please also refer to the documentation for alternative solver options:\n",
      "    https://scikit-learn.org/stable/modules/linear_model.html#logistic-regression\n",
      "  n_iter_i = _check_optimize_result(\n"
     ]
    },
    {
     "data": {
      "text/html": [
       "<style>#sk-container-id-1 {color: black;background-color: white;}#sk-container-id-1 pre{padding: 0;}#sk-container-id-1 div.sk-toggleable {background-color: white;}#sk-container-id-1 label.sk-toggleable__label {cursor: pointer;display: block;width: 100%;margin-bottom: 0;padding: 0.3em;box-sizing: border-box;text-align: center;}#sk-container-id-1 label.sk-toggleable__label-arrow:before {content: \"▸\";float: left;margin-right: 0.25em;color: #696969;}#sk-container-id-1 label.sk-toggleable__label-arrow:hover:before {color: black;}#sk-container-id-1 div.sk-estimator:hover label.sk-toggleable__label-arrow:before {color: black;}#sk-container-id-1 div.sk-toggleable__content {max-height: 0;max-width: 0;overflow: hidden;text-align: left;background-color: #f0f8ff;}#sk-container-id-1 div.sk-toggleable__content pre {margin: 0.2em;color: black;border-radius: 0.25em;background-color: #f0f8ff;}#sk-container-id-1 input.sk-toggleable__control:checked~div.sk-toggleable__content {max-height: 200px;max-width: 100%;overflow: auto;}#sk-container-id-1 input.sk-toggleable__control:checked~label.sk-toggleable__label-arrow:before {content: \"▾\";}#sk-container-id-1 div.sk-estimator input.sk-toggleable__control:checked~label.sk-toggleable__label {background-color: #d4ebff;}#sk-container-id-1 div.sk-label input.sk-toggleable__control:checked~label.sk-toggleable__label {background-color: #d4ebff;}#sk-container-id-1 input.sk-hidden--visually {border: 0;clip: rect(1px 1px 1px 1px);clip: rect(1px, 1px, 1px, 1px);height: 1px;margin: -1px;overflow: hidden;padding: 0;position: absolute;width: 1px;}#sk-container-id-1 div.sk-estimator {font-family: monospace;background-color: #f0f8ff;border: 1px dotted black;border-radius: 0.25em;box-sizing: border-box;margin-bottom: 0.5em;}#sk-container-id-1 div.sk-estimator:hover {background-color: #d4ebff;}#sk-container-id-1 div.sk-parallel-item::after {content: \"\";width: 100%;border-bottom: 1px solid gray;flex-grow: 1;}#sk-container-id-1 div.sk-label:hover label.sk-toggleable__label {background-color: #d4ebff;}#sk-container-id-1 div.sk-serial::before {content: \"\";position: absolute;border-left: 1px solid gray;box-sizing: border-box;top: 0;bottom: 0;left: 50%;z-index: 0;}#sk-container-id-1 div.sk-serial {display: flex;flex-direction: column;align-items: center;background-color: white;padding-right: 0.2em;padding-left: 0.2em;position: relative;}#sk-container-id-1 div.sk-item {position: relative;z-index: 1;}#sk-container-id-1 div.sk-parallel {display: flex;align-items: stretch;justify-content: center;background-color: white;position: relative;}#sk-container-id-1 div.sk-item::before, #sk-container-id-1 div.sk-parallel-item::before {content: \"\";position: absolute;border-left: 1px solid gray;box-sizing: border-box;top: 0;bottom: 0;left: 50%;z-index: -1;}#sk-container-id-1 div.sk-parallel-item {display: flex;flex-direction: column;z-index: 1;position: relative;background-color: white;}#sk-container-id-1 div.sk-parallel-item:first-child::after {align-self: flex-end;width: 50%;}#sk-container-id-1 div.sk-parallel-item:last-child::after {align-self: flex-start;width: 50%;}#sk-container-id-1 div.sk-parallel-item:only-child::after {width: 0;}#sk-container-id-1 div.sk-dashed-wrapped {border: 1px dashed gray;margin: 0 0.4em 0.5em 0.4em;box-sizing: border-box;padding-bottom: 0.4em;background-color: white;}#sk-container-id-1 div.sk-label label {font-family: monospace;font-weight: bold;display: inline-block;line-height: 1.2em;}#sk-container-id-1 div.sk-label-container {text-align: center;}#sk-container-id-1 div.sk-container {/* jupyter's `normalize.less` sets `[hidden] { display: none; }` but bootstrap.min.css set `[hidden] { display: none !important; }` so we also need the `!important` here to be able to override the default hidden behavior on the sphinx rendered scikit-learn.org. See: https://github.com/scikit-learn/scikit-learn/issues/21755 */display: inline-block !important;position: relative;}#sk-container-id-1 div.sk-text-repr-fallback {display: none;}</style><div id=\"sk-container-id-1\" class=\"sk-top-container\"><div class=\"sk-text-repr-fallback\"><pre>Pipeline(steps=[(&#x27;scale&#x27;, None), (&#x27;model&#x27;, LogisticRegression(C=0.1))])</pre><b>In a Jupyter environment, please rerun this cell to show the HTML representation or trust the notebook. <br />On GitHub, the HTML representation is unable to render, please try loading this page with nbviewer.org.</b></div><div class=\"sk-container\" hidden><div class=\"sk-item sk-dashed-wrapped\"><div class=\"sk-label-container\"><div class=\"sk-label sk-toggleable\"><input class=\"sk-toggleable__control sk-hidden--visually\" id=\"sk-estimator-id-1\" type=\"checkbox\" ><label for=\"sk-estimator-id-1\" class=\"sk-toggleable__label sk-toggleable__label-arrow\">Pipeline</label><div class=\"sk-toggleable__content\"><pre>Pipeline(steps=[(&#x27;scale&#x27;, None), (&#x27;model&#x27;, LogisticRegression(C=0.1))])</pre></div></div></div><div class=\"sk-serial\"><div class=\"sk-item\"><div class=\"sk-estimator sk-toggleable\"><input class=\"sk-toggleable__control sk-hidden--visually\" id=\"sk-estimator-id-2\" type=\"checkbox\" ><label for=\"sk-estimator-id-2\" class=\"sk-toggleable__label sk-toggleable__label-arrow\">None</label><div class=\"sk-toggleable__content\"><pre>None</pre></div></div></div><div class=\"sk-item\"><div class=\"sk-estimator sk-toggleable\"><input class=\"sk-toggleable__control sk-hidden--visually\" id=\"sk-estimator-id-3\" type=\"checkbox\" ><label for=\"sk-estimator-id-3\" class=\"sk-toggleable__label sk-toggleable__label-arrow\">LogisticRegression</label><div class=\"sk-toggleable__content\"><pre>LogisticRegression(C=0.1)</pre></div></div></div></div></div></div></div>"
      ],
      "text/plain": [
       "Pipeline(steps=[('scale', None), ('model', LogisticRegression(C=0.1))])"
      ]
     },
     "execution_count": 32,
     "metadata": {},
     "output_type": "execute_result"
    }
   ],
   "source": [
    "model.fit(X_train, y_train.values.ravel())"
   ]
  },
  {
   "cell_type": "code",
   "execution_count": 33,
   "id": "af59f8c0",
   "metadata": {
    "execution": {
     "iopub.execute_input": "2025-08-05T20:43:10.954838Z",
     "iopub.status.busy": "2025-08-05T20:43:10.954349Z",
     "iopub.status.idle": "2025-08-05T20:43:10.958815Z",
     "shell.execute_reply": "2025-08-05T20:43:10.957914Z"
    },
    "papermill": {
     "duration": 0.01683,
     "end_time": "2025-08-05T20:43:10.960133",
     "exception": false,
     "start_time": "2025-08-05T20:43:10.943303",
     "status": "completed"
    },
    "tags": []
   },
   "outputs": [],
   "source": [
    "from fairness_multiverse.universe import predict_w_threshold"
   ]
  },
  {
   "cell_type": "code",
   "execution_count": 34,
   "id": "a7cf2e16",
   "metadata": {
    "execution": {
     "iopub.execute_input": "2025-08-05T20:43:10.982900Z",
     "iopub.status.busy": "2025-08-05T20:43:10.982549Z",
     "iopub.status.idle": "2025-08-05T20:43:11.073706Z",
     "shell.execute_reply": "2025-08-05T20:43:11.072932Z"
    },
    "papermill": {
     "duration": 0.103704,
     "end_time": "2025-08-05T20:43:11.075033",
     "exception": false,
     "start_time": "2025-08-05T20:43:10.971329",
     "status": "completed"
    },
    "tags": []
   },
   "outputs": [
    {
     "data": {
      "text/plain": [
       "0.8635603611637499"
      ]
     },
     "execution_count": 34,
     "metadata": {},
     "output_type": "execute_result"
    }
   ],
   "source": [
    "probs_test = model.predict_proba(X_test)\n",
    "\n",
    "'''\n",
    "Below code returns a boolean array (or binary 0/1 array depending on how it’s used) where each element \n",
    "is True if the probability of class 1 is greater than or equal to the threshold, and False otherwise.\n",
    "'''\n",
    "y_pred_default = predict_w_threshold(probs_test, 0.5)\n",
    "\n",
    "from sklearn.metrics import accuracy_score\n",
    "\n",
    "# Naive prediction\n",
    "accuracy_score(y_true = y_true, y_pred = y_pred_default)"
   ]
  },
  {
   "cell_type": "code",
   "execution_count": 35,
   "id": "081964c3",
   "metadata": {
    "execution": {
     "iopub.execute_input": "2025-08-05T20:43:11.109146Z",
     "iopub.status.busy": "2025-08-05T20:43:11.108719Z",
     "iopub.status.idle": "2025-08-05T20:43:11.195895Z",
     "shell.execute_reply": "2025-08-05T20:43:11.194845Z"
    },
    "papermill": {
     "duration": 0.111475,
     "end_time": "2025-08-05T20:43:11.198195",
     "exception": false,
     "start_time": "2025-08-05T20:43:11.086720",
     "status": "completed"
    },
    "tags": []
   },
   "outputs": [
    {
     "data": {
      "text/plain": [
       "array([0, 0, 0, ..., 0, 0, 0])"
      ]
     },
     "execution_count": 35,
     "metadata": {},
     "output_type": "execute_result"
    }
   ],
   "source": [
    "model.predict(X_test)"
   ]
  },
  {
   "cell_type": "markdown",
   "id": "56c9705b",
   "metadata": {
    "papermill": {
     "duration": 0.023663,
     "end_time": "2025-08-05T20:43:11.239244",
     "exception": false,
     "start_time": "2025-08-05T20:43:11.215581",
     "status": "completed"
    },
    "tags": []
   },
   "source": [
    "# Conformal Prediction"
   ]
  },
  {
   "cell_type": "code",
   "execution_count": 36,
   "id": "160ec6ff",
   "metadata": {
    "execution": {
     "iopub.execute_input": "2025-08-05T20:43:11.284507Z",
     "iopub.status.busy": "2025-08-05T20:43:11.283977Z",
     "iopub.status.idle": "2025-08-05T20:43:11.290236Z",
     "shell.execute_reply": "2025-08-05T20:43:11.288849Z"
    },
    "papermill": {
     "duration": 0.030173,
     "end_time": "2025-08-05T20:43:11.292072",
     "exception": false,
     "start_time": "2025-08-05T20:43:11.261899",
     "status": "completed"
    },
    "tags": []
   },
   "outputs": [],
   "source": [
    "# Miscoverage level for conformal prediction (10% allowed error rate => 90% target coverage)\n",
    "alpha = 0.1"
   ]
  },
  {
   "cell_type": "code",
   "execution_count": 37,
   "id": "eadf4555-3dd3-440e-8e35-f82a4ad9f855",
   "metadata": {
    "execution": {
     "iopub.execute_input": "2025-08-05T20:43:11.343346Z",
     "iopub.status.busy": "2025-08-05T20:43:11.342830Z",
     "iopub.status.idle": "2025-08-05T20:43:11.418520Z",
     "shell.execute_reply": "2025-08-05T20:43:11.417615Z"
    },
    "papermill": {
     "duration": 0.10242,
     "end_time": "2025-08-05T20:43:11.420047",
     "exception": false,
     "start_time": "2025-08-05T20:43:11.317627",
     "status": "completed"
    },
    "tags": []
   },
   "outputs": [],
   "source": [
    "probs_calib = model.predict_proba(X_calib)"
   ]
  },
  {
   "cell_type": "code",
   "execution_count": 38,
   "id": "2ed93547-6d5d-4983-9b36-1ecb300da49a",
   "metadata": {
    "execution": {
     "iopub.execute_input": "2025-08-05T20:43:11.442610Z",
     "iopub.status.busy": "2025-08-05T20:43:11.442205Z",
     "iopub.status.idle": "2025-08-05T20:43:11.447522Z",
     "shell.execute_reply": "2025-08-05T20:43:11.446640Z"
    },
    "papermill": {
     "duration": 0.017768,
     "end_time": "2025-08-05T20:43:11.449035",
     "exception": false,
     "start_time": "2025-08-05T20:43:11.431267",
     "status": "completed"
    },
    "tags": []
   },
   "outputs": [],
   "source": [
    "y_calib = y_calib.values.ravel().astype(int)"
   ]
  },
  {
   "cell_type": "code",
   "execution_count": 39,
   "id": "65d1320d-f588-4b38-9072-62af1ae97f7d",
   "metadata": {
    "execution": {
     "iopub.execute_input": "2025-08-05T20:43:11.471652Z",
     "iopub.status.busy": "2025-08-05T20:43:11.471304Z",
     "iopub.status.idle": "2025-08-05T20:43:11.477986Z",
     "shell.execute_reply": "2025-08-05T20:43:11.477023Z"
    },
    "papermill": {
     "duration": 0.019132,
     "end_time": "2025-08-05T20:43:11.479330",
     "exception": false,
     "start_time": "2025-08-05T20:43:11.460198",
     "status": "completed"
    },
    "tags": []
   },
   "outputs": [],
   "source": [
    "from fairness_multiverse.conformal import compute_nc_scores\n",
    "\n",
    "# Compute nonconformity scores on calibration set (1 - probability of true class)\n",
    "nc_scores = compute_nc_scores(probs_calib, y_calib)"
   ]
  },
  {
   "cell_type": "code",
   "execution_count": 40,
   "id": "df3b8ca3-53b7-43d5-9667-7c85da7aeda2",
   "metadata": {
    "execution": {
     "iopub.execute_input": "2025-08-05T20:43:11.501389Z",
     "iopub.status.busy": "2025-08-05T20:43:11.501074Z",
     "iopub.status.idle": "2025-08-05T20:43:11.506484Z",
     "shell.execute_reply": "2025-08-05T20:43:11.505424Z"
    },
    "papermill": {
     "duration": 0.017661,
     "end_time": "2025-08-05T20:43:11.507837",
     "exception": false,
     "start_time": "2025-08-05T20:43:11.490176",
     "status": "completed"
    },
    "tags": []
   },
   "outputs": [],
   "source": [
    "from fairness_multiverse.conformal import find_threshold\n",
    "\n",
    "# Find conformal threshold q_hat for the given alpha (split conformal method)\n",
    "q_hat = find_threshold(nc_scores, alpha)"
   ]
  },
  {
   "cell_type": "code",
   "execution_count": 41,
   "id": "4d29e6c1-0ef6-4aa4-b8fe-4fe79b0d033a",
   "metadata": {
    "execution": {
     "iopub.execute_input": "2025-08-05T20:43:11.530247Z",
     "iopub.status.busy": "2025-08-05T20:43:11.529902Z",
     "iopub.status.idle": "2025-08-05T20:43:11.536015Z",
     "shell.execute_reply": "2025-08-05T20:43:11.535039Z"
    },
    "papermill": {
     "duration": 0.018467,
     "end_time": "2025-08-05T20:43:11.537363",
     "exception": false,
     "start_time": "2025-08-05T20:43:11.518896",
     "status": "completed"
    },
    "tags": []
   },
   "outputs": [
    {
     "data": {
      "text/plain": [
       "0.6509375410538707"
      ]
     },
     "execution_count": 41,
     "metadata": {},
     "output_type": "execute_result"
    }
   ],
   "source": [
    "q_hat"
   ]
  },
  {
   "cell_type": "code",
   "execution_count": 42,
   "id": "92460794-cdac-4be2-ba28-f28c0515a6fb",
   "metadata": {
    "execution": {
     "iopub.execute_input": "2025-08-05T20:43:11.570382Z",
     "iopub.status.busy": "2025-08-05T20:43:11.569712Z",
     "iopub.status.idle": "2025-08-05T20:43:12.353329Z",
     "shell.execute_reply": "2025-08-05T20:43:12.352377Z"
    },
    "papermill": {
     "duration": 0.805977,
     "end_time": "2025-08-05T20:43:12.355238",
     "exception": false,
     "start_time": "2025-08-05T20:43:11.549261",
     "status": "completed"
    },
    "tags": []
   },
   "outputs": [],
   "source": [
    "from fairness_multiverse.conformal import predict_conformal_sets\n",
    "\n",
    "# Generate prediction sets for each test example\n",
    "pred_sets = predict_conformal_sets(model, X_test, q_hat)"
   ]
  },
  {
   "cell_type": "code",
   "execution_count": 43,
   "id": "d90c9a65-e6db-4f5d-80cd-e68fb7e46829",
   "metadata": {
    "execution": {
     "iopub.execute_input": "2025-08-05T20:43:12.397132Z",
     "iopub.status.busy": "2025-08-05T20:43:12.396574Z",
     "iopub.status.idle": "2025-08-05T20:43:12.402002Z",
     "shell.execute_reply": "2025-08-05T20:43:12.400947Z"
    },
    "papermill": {
     "duration": 0.027953,
     "end_time": "2025-08-05T20:43:12.403668",
     "exception": false,
     "start_time": "2025-08-05T20:43:12.375715",
     "status": "completed"
    },
    "tags": []
   },
   "outputs": [],
   "source": [
    "y_true = y_true.squeeze()"
   ]
  },
  {
   "cell_type": "code",
   "execution_count": 44,
   "id": "3a58a54a-1e68-46b9-927a-df01f18aebc8",
   "metadata": {
    "execution": {
     "iopub.execute_input": "2025-08-05T20:43:12.437076Z",
     "iopub.status.busy": "2025-08-05T20:43:12.436682Z",
     "iopub.status.idle": "2025-08-05T20:43:13.204127Z",
     "shell.execute_reply": "2025-08-05T20:43:13.203021Z"
    },
    "papermill": {
     "duration": 0.782834,
     "end_time": "2025-08-05T20:43:13.206053",
     "exception": false,
     "start_time": "2025-08-05T20:43:12.423219",
     "status": "completed"
    },
    "tags": []
   },
   "outputs": [],
   "source": [
    "from fairness_multiverse.conformal import evaluate_sets\n",
    "\n",
    "# Evaluate coverage and average set size on test data\n",
    "metrics = evaluate_sets(pred_sets, y_true)"
   ]
  },
  {
   "cell_type": "markdown",
   "id": "2b569c12-9aaa-4c88-98c9-bbcd0cf3ebb8",
   "metadata": {
    "papermill": {
     "duration": 0.011409,
     "end_time": "2025-08-05T20:43:13.241104",
     "exception": false,
     "start_time": "2025-08-05T20:43:13.229695",
     "status": "completed"
    },
    "tags": []
   },
   "source": [
    "# CP Metrics"
   ]
  },
  {
   "cell_type": "code",
   "execution_count": 45,
   "id": "5ce0a5cb-201f-45a0-ade5-94c7f0bd6095",
   "metadata": {
    "execution": {
     "iopub.execute_input": "2025-08-05T20:43:13.263286Z",
     "iopub.status.busy": "2025-08-05T20:43:13.262807Z",
     "iopub.status.idle": "2025-08-05T20:43:13.270748Z",
     "shell.execute_reply": "2025-08-05T20:43:13.269593Z"
    },
    "papermill": {
     "duration": 0.021238,
     "end_time": "2025-08-05T20:43:13.272557",
     "exception": false,
     "start_time": "2025-08-05T20:43:13.251319",
     "status": "completed"
    },
    "tags": []
   },
   "outputs": [
    {
     "data": {
      "text/plain": [
       "{'coverage': 0.9130977594471074, 'avg_size': 1.252903801136997}"
      ]
     },
     "execution_count": 45,
     "metadata": {},
     "output_type": "execute_result"
    }
   ],
   "source": [
    "metrics"
   ]
  },
  {
   "cell_type": "code",
   "execution_count": 46,
   "id": "9b9a838d-31c9-430b-ae14-12baee460d17",
   "metadata": {
    "execution": {
     "iopub.execute_input": "2025-08-05T20:43:13.316098Z",
     "iopub.status.busy": "2025-08-05T20:43:13.315616Z",
     "iopub.status.idle": "2025-08-05T20:43:13.322036Z",
     "shell.execute_reply": "2025-08-05T20:43:13.320958Z"
    },
    "papermill": {
     "duration": 0.029688,
     "end_time": "2025-08-05T20:43:13.323958",
     "exception": false,
     "start_time": "2025-08-05T20:43:13.294270",
     "status": "completed"
    },
    "tags": []
   },
   "outputs": [],
   "source": [
    "example_universe = universe.copy()\n",
    "universe_training_year = example_universe.get(\"training_year\")\n",
    "universe_training_size = example_universe.get(\"training_size\")\n",
    "universe_scale = example_universe.get(\"scale\")\n",
    "universe_model = example_universe.get(\"model\")\n",
    "universe_exclude_features = example_universe.get(\"exclude_features\")\n",
    "universe_exclude_subgroups = example_universe.get(\"exclude_subgroups\")"
   ]
  },
  {
   "cell_type": "code",
   "execution_count": 47,
   "id": "f4b6a8ac-9dc0-4245-8a91-5b3b5999c4f9",
   "metadata": {
    "execution": {
     "iopub.execute_input": "2025-08-05T20:43:13.370406Z",
     "iopub.status.busy": "2025-08-05T20:43:13.369881Z",
     "iopub.status.idle": "2025-08-05T20:43:13.376976Z",
     "shell.execute_reply": "2025-08-05T20:43:13.375958Z"
    },
    "papermill": {
     "duration": 0.033506,
     "end_time": "2025-08-05T20:43:13.378785",
     "exception": false,
     "start_time": "2025-08-05T20:43:13.345279",
     "status": "completed"
    },
    "tags": []
   },
   "outputs": [],
   "source": [
    "cp_metrics_dict = {\n",
    "    \"universe_id\": [universe_id],\n",
    "    \"universe_training_year\": [universe_training_year],\n",
    "    \"universe_training_size\": [universe_training_size],\n",
    "    \"universe_scale\": [universe_scale],\n",
    "    \"universe_model\": [universe_model],\n",
    "    \"universe_exclude_features\": [universe_exclude_features],\n",
    "    \"universe_exclude_subgroups\": [universe_exclude_subgroups],\n",
    "    \"q_hat\": [q_hat],\n",
    "    \"coverage\": [metrics[\"coverage\"]],\n",
    "    \"avg_size\": [metrics[\"avg_size\"]],\n",
    "}"
   ]
  },
  {
   "cell_type": "code",
   "execution_count": 48,
   "id": "908acbb1-0371-4915-85ca-3fa520d2efe2",
   "metadata": {
    "execution": {
     "iopub.execute_input": "2025-08-05T20:43:13.422693Z",
     "iopub.status.busy": "2025-08-05T20:43:13.422270Z",
     "iopub.status.idle": "2025-08-05T20:43:13.430071Z",
     "shell.execute_reply": "2025-08-05T20:43:13.428955Z"
    },
    "papermill": {
     "duration": 0.03137,
     "end_time": "2025-08-05T20:43:13.431980",
     "exception": false,
     "start_time": "2025-08-05T20:43:13.400610",
     "status": "completed"
    },
    "tags": []
   },
   "outputs": [
    {
     "data": {
      "text/plain": [
       "{'universe_id': ['7f39ef5a5ec5b613bff31e35ea9a259f'],\n",
       " 'universe_training_year': ['2014'],\n",
       " 'universe_training_size': ['25k'],\n",
       " 'universe_scale': ['do-not-scale'],\n",
       " 'universe_model': ['penalized_logreg'],\n",
       " 'universe_exclude_features': ['age'],\n",
       " 'universe_exclude_subgroups': ['keep-all'],\n",
       " 'q_hat': [0.6509375410538707],\n",
       " 'coverage': [0.9130977594471074],\n",
       " 'avg_size': [1.252903801136997]}"
      ]
     },
     "execution_count": 48,
     "metadata": {},
     "output_type": "execute_result"
    }
   ],
   "source": [
    "cp_metrics_dict"
   ]
  },
  {
   "cell_type": "code",
   "execution_count": 49,
   "id": "33007efc-14e9-4ec6-97ac-56a455c82265",
   "metadata": {
    "execution": {
     "iopub.execute_input": "2025-08-05T20:43:13.484044Z",
     "iopub.status.busy": "2025-08-05T20:43:13.483125Z",
     "iopub.status.idle": "2025-08-05T20:43:13.489791Z",
     "shell.execute_reply": "2025-08-05T20:43:13.488716Z"
    },
    "papermill": {
     "duration": 0.03523,
     "end_time": "2025-08-05T20:43:13.491766",
     "exception": false,
     "start_time": "2025-08-05T20:43:13.456536",
     "status": "completed"
    },
    "tags": []
   },
   "outputs": [],
   "source": [
    "cp_metrics_df = pd.DataFrame(cp_metrics_dict)"
   ]
  },
  {
   "cell_type": "code",
   "execution_count": 50,
   "id": "db12611b-57b2-4910-b9d0-355adfd6e7bf",
   "metadata": {
    "execution": {
     "iopub.execute_input": "2025-08-05T20:43:13.538456Z",
     "iopub.status.busy": "2025-08-05T20:43:13.538021Z",
     "iopub.status.idle": "2025-08-05T20:43:13.556387Z",
     "shell.execute_reply": "2025-08-05T20:43:13.555460Z"
    },
    "papermill": {
     "duration": 0.042904,
     "end_time": "2025-08-05T20:43:13.558045",
     "exception": false,
     "start_time": "2025-08-05T20:43:13.515141",
     "status": "completed"
    },
    "tags": []
   },
   "outputs": [
    {
     "data": {
      "text/html": [
       "<div>\n",
       "<style scoped>\n",
       "    .dataframe tbody tr th:only-of-type {\n",
       "        vertical-align: middle;\n",
       "    }\n",
       "\n",
       "    .dataframe tbody tr th {\n",
       "        vertical-align: top;\n",
       "    }\n",
       "\n",
       "    .dataframe thead th {\n",
       "        text-align: right;\n",
       "    }\n",
       "</style>\n",
       "<table border=\"1\" class=\"dataframe\">\n",
       "  <thead>\n",
       "    <tr style=\"text-align: right;\">\n",
       "      <th></th>\n",
       "      <th>universe_id</th>\n",
       "      <th>universe_training_year</th>\n",
       "      <th>universe_training_size</th>\n",
       "      <th>universe_scale</th>\n",
       "      <th>universe_model</th>\n",
       "      <th>universe_exclude_features</th>\n",
       "      <th>universe_exclude_subgroups</th>\n",
       "      <th>q_hat</th>\n",
       "      <th>coverage</th>\n",
       "      <th>avg_size</th>\n",
       "    </tr>\n",
       "  </thead>\n",
       "  <tbody>\n",
       "    <tr>\n",
       "      <th>0</th>\n",
       "      <td>7f39ef5a5ec5b613bff31e35ea9a259f</td>\n",
       "      <td>2014</td>\n",
       "      <td>25k</td>\n",
       "      <td>do-not-scale</td>\n",
       "      <td>penalized_logreg</td>\n",
       "      <td>age</td>\n",
       "      <td>keep-all</td>\n",
       "      <td>0.650938</td>\n",
       "      <td>0.913098</td>\n",
       "      <td>1.252904</td>\n",
       "    </tr>\n",
       "  </tbody>\n",
       "</table>\n",
       "</div>"
      ],
      "text/plain": [
       "                        universe_id universe_training_year  \\\n",
       "0  7f39ef5a5ec5b613bff31e35ea9a259f                   2014   \n",
       "\n",
       "  universe_training_size universe_scale    universe_model  \\\n",
       "0                    25k   do-not-scale  penalized_logreg   \n",
       "\n",
       "  universe_exclude_features universe_exclude_subgroups     q_hat  coverage  \\\n",
       "0                       age                   keep-all  0.650938  0.913098   \n",
       "\n",
       "   avg_size  \n",
       "0  1.252904  "
      ]
     },
     "execution_count": 50,
     "metadata": {},
     "output_type": "execute_result"
    }
   ],
   "source": [
    "cp_metrics_df"
   ]
  },
  {
   "cell_type": "code",
   "execution_count": 51,
   "id": "b7fbde55-a0a1-47e4-9af6-fe4a17fa8c61",
   "metadata": {
    "execution": {
     "iopub.execute_input": "2025-08-05T20:43:13.605658Z",
     "iopub.status.busy": "2025-08-05T20:43:13.604694Z",
     "iopub.status.idle": "2025-08-05T20:43:13.610155Z",
     "shell.execute_reply": "2025-08-05T20:43:13.609047Z"
    },
    "papermill": {
     "duration": 0.03106,
     "end_time": "2025-08-05T20:43:13.612245",
     "exception": false,
     "start_time": "2025-08-05T20:43:13.581185",
     "status": "completed"
    },
    "tags": []
   },
   "outputs": [],
   "source": [
    "# Conditional Coverage & looking at subgroups"
   ]
  },
  {
   "cell_type": "code",
   "execution_count": 52,
   "id": "027ae886-68dd-4141-96c7-805a5450e1ef",
   "metadata": {
    "execution": {
     "iopub.execute_input": "2025-08-05T20:43:13.658829Z",
     "iopub.status.busy": "2025-08-05T20:43:13.658462Z",
     "iopub.status.idle": "2025-08-05T20:43:13.911810Z",
     "shell.execute_reply": "2025-08-05T20:43:13.910726Z"
    },
    "papermill": {
     "duration": 0.279319,
     "end_time": "2025-08-05T20:43:13.913932",
     "exception": false,
     "start_time": "2025-08-05T20:43:13.634613",
     "status": "completed"
    },
    "tags": []
   },
   "outputs": [],
   "source": [
    "from fairness_multiverse.conformal import build_cp_groups\n",
    "\n",
    "cp_groups_df = build_cp_groups(pred_sets, y_true, X_test.index, org_test)\n",
    "#needs universe_id and setting"
   ]
  },
  {
   "cell_type": "code",
   "execution_count": 53,
   "id": "6cbdab96-b2b2-45af-ad54-d0516db2e28d",
   "metadata": {
    "execution": {
     "iopub.execute_input": "2025-08-05T20:43:13.966575Z",
     "iopub.status.busy": "2025-08-05T20:43:13.965719Z",
     "iopub.status.idle": "2025-08-05T20:43:16.097720Z",
     "shell.execute_reply": "2025-08-05T20:43:16.096713Z"
    },
    "papermill": {
     "duration": 2.159925,
     "end_time": "2025-08-05T20:43:16.099774",
     "exception": false,
     "start_time": "2025-08-05T20:43:13.939849",
     "status": "completed"
    },
    "tags": []
   },
   "outputs": [],
   "source": [
    "# Define covered = 1 if true_label is in the predicted set\n",
    "cp_groups_df['covered'] = cp_groups_df.apply(\n",
    "    lambda r: int(r['true_label'] in r['pred_set']),\n",
    "    axis=1\n",
    ")"
   ]
  },
  {
   "cell_type": "code",
   "execution_count": 54,
   "id": "338ff529-1a6b-4b87-a931-8e4788d52aad",
   "metadata": {
    "execution": {
     "iopub.execute_input": "2025-08-05T20:43:16.148788Z",
     "iopub.status.busy": "2025-08-05T20:43:16.147952Z",
     "iopub.status.idle": "2025-08-05T20:43:16.153311Z",
     "shell.execute_reply": "2025-08-05T20:43:16.152414Z"
    },
    "papermill": {
     "duration": 0.02997,
     "end_time": "2025-08-05T20:43:16.155077",
     "exception": false,
     "start_time": "2025-08-05T20:43:16.125107",
     "status": "completed"
    },
    "tags": []
   },
   "outputs": [],
   "source": [
    "#cp_groups_df"
   ]
  },
  {
   "cell_type": "code",
   "execution_count": 55,
   "id": "90032e27-66df-4540-9169-4e89cfbaa758",
   "metadata": {
    "execution": {
     "iopub.execute_input": "2025-08-05T20:43:16.207085Z",
     "iopub.status.busy": "2025-08-05T20:43:16.206675Z",
     "iopub.status.idle": "2025-08-05T20:43:16.218361Z",
     "shell.execute_reply": "2025-08-05T20:43:16.217409Z"
    },
    "papermill": {
     "duration": 0.041922,
     "end_time": "2025-08-05T20:43:16.220002",
     "exception": false,
     "start_time": "2025-08-05T20:43:16.178080",
     "status": "completed"
    },
    "tags": []
   },
   "outputs": [],
   "source": [
    "subgroups = ['frau1','nongerman','nongerman_male','nongerman_female']\n",
    "\n",
    "# Conditional coverage for subgroup==1\n",
    "cond_coverage = {\n",
    "    g: cp_groups_df.loc[cp_groups_df[g]==1, 'covered'].mean()\n",
    "    for g in subgroups\n",
    "}"
   ]
  },
  {
   "cell_type": "code",
   "execution_count": 56,
   "id": "1e348fb1-b9c3-45bc-ba23-f016827a7e0d",
   "metadata": {
    "execution": {
     "iopub.execute_input": "2025-08-05T20:43:16.267185Z",
     "iopub.status.busy": "2025-08-05T20:43:16.266633Z",
     "iopub.status.idle": "2025-08-05T20:43:16.273911Z",
     "shell.execute_reply": "2025-08-05T20:43:16.272934Z"
    },
    "papermill": {
     "duration": 0.032346,
     "end_time": "2025-08-05T20:43:16.275641",
     "exception": false,
     "start_time": "2025-08-05T20:43:16.243295",
     "status": "completed"
    },
    "tags": []
   },
   "outputs": [
    {
     "data": {
      "text/plain": [
       "{'frau1': 0.913088017252999,\n",
       " 'nongerman': 0.963116824790883,\n",
       " 'nongerman_male': 0.9686571196973791,\n",
       " 'nongerman_female': 0.9539493293591654}"
      ]
     },
     "execution_count": 56,
     "metadata": {},
     "output_type": "execute_result"
    }
   ],
   "source": [
    "cond_coverage"
   ]
  },
  {
   "cell_type": "code",
   "execution_count": 57,
   "id": "f5093324-c3dd-4d63-bc4c-8d945e5c8bbb",
   "metadata": {
    "execution": {
     "iopub.execute_input": "2025-08-05T20:43:16.324918Z",
     "iopub.status.busy": "2025-08-05T20:43:16.324033Z",
     "iopub.status.idle": "2025-08-05T20:43:16.331368Z",
     "shell.execute_reply": "2025-08-05T20:43:16.330242Z"
    },
    "papermill": {
     "duration": 0.033752,
     "end_time": "2025-08-05T20:43:16.333009",
     "exception": false,
     "start_time": "2025-08-05T20:43:16.299257",
     "status": "completed"
    },
    "tags": []
   },
   "outputs": [],
   "source": [
    "for subgroup, cov in cond_coverage.items():\n",
    "    cp_metrics_df[f\"cov_{subgroup}\"] = cov"
   ]
  },
  {
   "cell_type": "code",
   "execution_count": 58,
   "id": "6e872e10-dbe5-49e8-b554-5030c98ff75d",
   "metadata": {
    "execution": {
     "iopub.execute_input": "2025-08-05T20:43:16.380809Z",
     "iopub.status.busy": "2025-08-05T20:43:16.380037Z",
     "iopub.status.idle": "2025-08-05T20:43:16.400341Z",
     "shell.execute_reply": "2025-08-05T20:43:16.399245Z"
    },
    "papermill": {
     "duration": 0.045159,
     "end_time": "2025-08-05T20:43:16.402082",
     "exception": false,
     "start_time": "2025-08-05T20:43:16.356923",
     "status": "completed"
    },
    "tags": []
   },
   "outputs": [
    {
     "data": {
      "text/html": [
       "<div>\n",
       "<style scoped>\n",
       "    .dataframe tbody tr th:only-of-type {\n",
       "        vertical-align: middle;\n",
       "    }\n",
       "\n",
       "    .dataframe tbody tr th {\n",
       "        vertical-align: top;\n",
       "    }\n",
       "\n",
       "    .dataframe thead th {\n",
       "        text-align: right;\n",
       "    }\n",
       "</style>\n",
       "<table border=\"1\" class=\"dataframe\">\n",
       "  <thead>\n",
       "    <tr style=\"text-align: right;\">\n",
       "      <th></th>\n",
       "      <th>universe_id</th>\n",
       "      <th>universe_training_year</th>\n",
       "      <th>universe_training_size</th>\n",
       "      <th>universe_scale</th>\n",
       "      <th>universe_model</th>\n",
       "      <th>universe_exclude_features</th>\n",
       "      <th>universe_exclude_subgroups</th>\n",
       "      <th>q_hat</th>\n",
       "      <th>coverage</th>\n",
       "      <th>avg_size</th>\n",
       "      <th>cov_frau1</th>\n",
       "      <th>cov_nongerman</th>\n",
       "      <th>cov_nongerman_male</th>\n",
       "      <th>cov_nongerman_female</th>\n",
       "    </tr>\n",
       "  </thead>\n",
       "  <tbody>\n",
       "    <tr>\n",
       "      <th>0</th>\n",
       "      <td>7f39ef5a5ec5b613bff31e35ea9a259f</td>\n",
       "      <td>2014</td>\n",
       "      <td>25k</td>\n",
       "      <td>do-not-scale</td>\n",
       "      <td>penalized_logreg</td>\n",
       "      <td>age</td>\n",
       "      <td>keep-all</td>\n",
       "      <td>0.650938</td>\n",
       "      <td>0.913098</td>\n",
       "      <td>1.252904</td>\n",
       "      <td>0.913088</td>\n",
       "      <td>0.963117</td>\n",
       "      <td>0.968657</td>\n",
       "      <td>0.953949</td>\n",
       "    </tr>\n",
       "  </tbody>\n",
       "</table>\n",
       "</div>"
      ],
      "text/plain": [
       "                        universe_id universe_training_year  \\\n",
       "0  7f39ef5a5ec5b613bff31e35ea9a259f                   2014   \n",
       "\n",
       "  universe_training_size universe_scale    universe_model  \\\n",
       "0                    25k   do-not-scale  penalized_logreg   \n",
       "\n",
       "  universe_exclude_features universe_exclude_subgroups     q_hat  coverage  \\\n",
       "0                       age                   keep-all  0.650938  0.913098   \n",
       "\n",
       "   avg_size  cov_frau1  cov_nongerman  cov_nongerman_male  \\\n",
       "0  1.252904   0.913088       0.963117            0.968657   \n",
       "\n",
       "   cov_nongerman_female  \n",
       "0              0.953949  "
      ]
     },
     "execution_count": 58,
     "metadata": {},
     "output_type": "execute_result"
    }
   ],
   "source": [
    "cp_metrics_df"
   ]
  },
  {
   "cell_type": "markdown",
   "id": "33774451",
   "metadata": {
    "papermill": {
     "duration": 0.021547,
     "end_time": "2025-08-05T20:43:16.445928",
     "exception": false,
     "start_time": "2025-08-05T20:43:16.424381",
     "status": "completed"
    },
    "tags": []
   },
   "source": [
    "# (Fairness) Metrics"
   ]
  },
  {
   "cell_type": "code",
   "execution_count": 59,
   "id": "debc5d62",
   "metadata": {
    "execution": {
     "iopub.execute_input": "2025-08-05T20:43:16.491981Z",
     "iopub.status.busy": "2025-08-05T20:43:16.491065Z",
     "iopub.status.idle": "2025-08-05T20:43:16.512406Z",
     "shell.execute_reply": "2025-08-05T20:43:16.511486Z"
    },
    "papermill": {
     "duration": 0.045861,
     "end_time": "2025-08-05T20:43:16.514305",
     "exception": false,
     "start_time": "2025-08-05T20:43:16.468444",
     "status": "completed"
    },
    "tags": []
   },
   "outputs": [],
   "source": [
    "# do I need to include maxdeutsch1.missing?\n",
    "\n",
    "import numpy as np\n",
    "\n",
    "colname_to_bin = \"maxdeutsch1\"\n",
    "majority_value = org_train[colname_to_bin].mode()[0]\n",
    "\n",
    "org_test[\"majmin\"] = np.where(org_test[colname_to_bin] == majority_value, \"majority\", \"minority\")"
   ]
  },
  {
   "cell_type": "code",
   "execution_count": 60,
   "id": "06a50de5",
   "metadata": {
    "execution": {
     "iopub.execute_input": "2025-08-05T20:43:16.560874Z",
     "iopub.status.busy": "2025-08-05T20:43:16.560006Z",
     "iopub.status.idle": "2025-08-05T20:43:19.240518Z",
     "shell.execute_reply": "2025-08-05T20:43:19.239610Z"
    },
    "papermill": {
     "duration": 2.704601,
     "end_time": "2025-08-05T20:43:19.242016",
     "exception": false,
     "start_time": "2025-08-05T20:43:16.537415",
     "status": "completed"
    },
    "tags": []
   },
   "outputs": [],
   "source": [
    "example_universe = universe.copy()\n",
    "example_universe[\"cutoff\"] = example_universe[\"cutoff\"][0]\n",
    "example_universe[\"eval_fairness_grouping\"] = example_universe[\"eval_fairness_grouping\"][0]\n",
    "fairness_dict, metric_frame = universe_analysis.compute_metrics(\n",
    "    example_universe,\n",
    "    y_pred_prob=probs_test,\n",
    "    y_test=y_true,\n",
    "    org_test=org_test,\n",
    ")"
   ]
  },
  {
   "cell_type": "markdown",
   "id": "f95d4e02",
   "metadata": {
    "papermill": {
     "duration": 0.024415,
     "end_time": "2025-08-05T20:43:19.288104",
     "exception": false,
     "start_time": "2025-08-05T20:43:19.263689",
     "status": "completed"
    },
    "tags": []
   },
   "source": [
    "# Overall"
   ]
  },
  {
   "cell_type": "markdown",
   "id": "bdee4871",
   "metadata": {
    "papermill": {
     "duration": 0.028513,
     "end_time": "2025-08-05T20:43:19.339092",
     "exception": false,
     "start_time": "2025-08-05T20:43:19.310579",
     "status": "completed"
    },
    "tags": []
   },
   "source": [
    "Fairness\n",
    "Main fairness target: Equalized Odds. Seems to be a better fit than equal opportunity, since we're not only interested in Y = 1. Seems to be a better fit than demographic parity, since we also care about accuracy, not just equal distribution of preds.\n",
    "\n",
    "Pick column for computation of fairness metrics\n",
    "\n",
    "Performance\n",
    "Overall performance measures, most interesting in relation to the measures split by group below"
   ]
  },
  {
   "cell_type": "code",
   "execution_count": 61,
   "id": "c4e067c6",
   "metadata": {
    "execution": {
     "iopub.execute_input": "2025-08-05T20:43:19.400797Z",
     "iopub.status.busy": "2025-08-05T20:43:19.399934Z",
     "iopub.status.idle": "2025-08-05T20:43:19.408748Z",
     "shell.execute_reply": "2025-08-05T20:43:19.407738Z"
    },
    "papermill": {
     "duration": 0.037434,
     "end_time": "2025-08-05T20:43:19.410413",
     "exception": false,
     "start_time": "2025-08-05T20:43:19.372979",
     "status": "completed"
    },
    "tags": []
   },
   "outputs": [
    {
     "data": {
      "text/plain": [
       "accuracy                   0.216375\n",
       "balanced accuracy          0.530742\n",
       "f1                         0.237926\n",
       "precision                  0.135919\n",
       "false positive rate        0.892113\n",
       "false negative rate        0.046403\n",
       "selection rate             0.900000\n",
       "count                  89710.000000\n",
       "dtype: float64"
      ]
     },
     "execution_count": 61,
     "metadata": {},
     "output_type": "execute_result"
    }
   ],
   "source": [
    "metric_frame.overall"
   ]
  },
  {
   "cell_type": "markdown",
   "id": "e968fe9d",
   "metadata": {
    "papermill": {
     "duration": 0.022426,
     "end_time": "2025-08-05T20:43:19.455332",
     "exception": false,
     "start_time": "2025-08-05T20:43:19.432906",
     "status": "completed"
    },
    "tags": []
   },
   "source": [
    "By Group"
   ]
  },
  {
   "cell_type": "code",
   "execution_count": 62,
   "id": "ec325bce",
   "metadata": {
    "execution": {
     "iopub.execute_input": "2025-08-05T20:43:19.502062Z",
     "iopub.status.busy": "2025-08-05T20:43:19.501116Z",
     "iopub.status.idle": "2025-08-05T20:43:19.517333Z",
     "shell.execute_reply": "2025-08-05T20:43:19.516237Z"
    },
    "papermill": {
     "duration": 0.040916,
     "end_time": "2025-08-05T20:43:19.519087",
     "exception": false,
     "start_time": "2025-08-05T20:43:19.478171",
     "status": "completed"
    },
    "tags": []
   },
   "outputs": [
    {
     "data": {
      "text/html": [
       "<div>\n",
       "<style scoped>\n",
       "    .dataframe tbody tr th:only-of-type {\n",
       "        vertical-align: middle;\n",
       "    }\n",
       "\n",
       "    .dataframe tbody tr th {\n",
       "        vertical-align: top;\n",
       "    }\n",
       "\n",
       "    .dataframe thead th {\n",
       "        text-align: right;\n",
       "    }\n",
       "</style>\n",
       "<table border=\"1\" class=\"dataframe\">\n",
       "  <thead>\n",
       "    <tr style=\"text-align: right;\">\n",
       "      <th></th>\n",
       "      <th>accuracy</th>\n",
       "      <th>balanced accuracy</th>\n",
       "      <th>f1</th>\n",
       "      <th>precision</th>\n",
       "      <th>false positive rate</th>\n",
       "      <th>false negative rate</th>\n",
       "      <th>selection rate</th>\n",
       "      <th>count</th>\n",
       "    </tr>\n",
       "    <tr>\n",
       "      <th>majmin</th>\n",
       "      <th></th>\n",
       "      <th></th>\n",
       "      <th></th>\n",
       "      <th></th>\n",
       "      <th></th>\n",
       "      <th></th>\n",
       "      <th></th>\n",
       "      <th></th>\n",
       "    </tr>\n",
       "  </thead>\n",
       "  <tbody>\n",
       "    <tr>\n",
       "      <th>majority</th>\n",
       "      <td>0.238644</td>\n",
       "      <td>0.538081</td>\n",
       "      <td>0.247015</td>\n",
       "      <td>0.142075</td>\n",
       "      <td>0.868916</td>\n",
       "      <td>0.054923</td>\n",
       "      <td>0.878979</td>\n",
       "      <td>69170.0</td>\n",
       "    </tr>\n",
       "    <tr>\n",
       "      <th>minority</th>\n",
       "      <td>0.141383</td>\n",
       "      <td>0.508872</td>\n",
       "      <td>0.209432</td>\n",
       "      <td>0.117151</td>\n",
       "      <td>0.968743</td>\n",
       "      <td>0.013514</td>\n",
       "      <td>0.970789</td>\n",
       "      <td>20540.0</td>\n",
       "    </tr>\n",
       "  </tbody>\n",
       "</table>\n",
       "</div>"
      ],
      "text/plain": [
       "          accuracy  balanced accuracy        f1  precision  \\\n",
       "majmin                                                       \n",
       "majority  0.238644           0.538081  0.247015   0.142075   \n",
       "minority  0.141383           0.508872  0.209432   0.117151   \n",
       "\n",
       "          false positive rate  false negative rate  selection rate    count  \n",
       "majmin                                                                       \n",
       "majority             0.868916             0.054923        0.878979  69170.0  \n",
       "minority             0.968743             0.013514        0.970789  20540.0  "
      ]
     },
     "execution_count": 62,
     "metadata": {},
     "output_type": "execute_result"
    }
   ],
   "source": [
    "metric_frame.by_group"
   ]
  },
  {
   "cell_type": "code",
   "execution_count": 63,
   "id": "a9ddbe63",
   "metadata": {
    "execution": {
     "iopub.execute_input": "2025-08-05T20:43:19.568106Z",
     "iopub.status.busy": "2025-08-05T20:43:19.567547Z",
     "iopub.status.idle": "2025-08-05T20:43:22.018022Z",
     "shell.execute_reply": "2025-08-05T20:43:22.016971Z"
    },
    "papermill": {
     "duration": 2.477086,
     "end_time": "2025-08-05T20:43:22.019664",
     "exception": false,
     "start_time": "2025-08-05T20:43:19.542578",
     "status": "completed"
    },
    "tags": []
   },
   "outputs": [
    {
     "data": {
      "text/plain": [
       "array([[<Axes: title={'center': 'accuracy'}, xlabel='majmin'>,\n",
       "        <Axes: title={'center': 'balanced accuracy'}, xlabel='majmin'>,\n",
       "        <Axes: title={'center': 'f1'}, xlabel='majmin'>],\n",
       "       [<Axes: title={'center': 'precision'}, xlabel='majmin'>,\n",
       "        <Axes: title={'center': 'false positive rate'}, xlabel='majmin'>,\n",
       "        <Axes: title={'center': 'false negative rate'}, xlabel='majmin'>],\n",
       "       [<Axes: title={'center': 'selection rate'}, xlabel='majmin'>,\n",
       "        <Axes: title={'center': 'count'}, xlabel='majmin'>,\n",
       "        <Axes: xlabel='majmin'>]], dtype=object)"
      ]
     },
     "execution_count": 63,
     "metadata": {},
     "output_type": "execute_result"
    },
    {
     "data": {
      "image/png": "[encoded data removed]",
      "text/plain": [
       "<Figure size 1200x800 with 9 Axes>"
      ]
     },
     "metadata": {},
     "output_type": "display_data"
    }
   ],
   "source": [
    "# In a graphic\n",
    "metric_frame.by_group.plot.bar(\n",
    "    subplots=True,\n",
    "    layout=[3, 3],\n",
    "    legend=False,\n",
    "    figsize=[12, 8],\n",
    "    title=\"Show all metrics\",\n",
    ")"
   ]
  },
  {
   "cell_type": "markdown",
   "id": "f57a0bac",
   "metadata": {
    "papermill": {
     "duration": 0.024625,
     "end_time": "2025-08-05T20:43:22.074260",
     "exception": false,
     "start_time": "2025-08-05T20:43:22.049635",
     "status": "completed"
    },
    "tags": []
   },
   "source": [
    "# Final Output"
   ]
  },
  {
   "cell_type": "code",
   "execution_count": 64,
   "id": "96d280a3",
   "metadata": {
    "execution": {
     "iopub.execute_input": "2025-08-05T20:43:22.129189Z",
     "iopub.status.busy": "2025-08-05T20:43:22.128486Z",
     "iopub.status.idle": "2025-08-05T20:43:22.137275Z",
     "shell.execute_reply": "2025-08-05T20:43:22.136282Z"
    },
    "papermill": {
     "duration": 0.039961,
     "end_time": "2025-08-05T20:43:22.139025",
     "exception": false,
     "start_time": "2025-08-05T20:43:22.099064",
     "status": "completed"
    },
    "tags": []
   },
   "outputs": [
    {
     "data": {
      "text/plain": [
       "4"
      ]
     },
     "execution_count": 64,
     "metadata": {},
     "output_type": "execute_result"
    }
   ],
   "source": [
    "sub_universes = universe_analysis.generate_sub_universes()\n",
    "len(sub_universes)"
   ]
  },
  {
   "cell_type": "code",
   "execution_count": 65,
   "id": "92adf7ba",
   "metadata": {
    "execution": {
     "iopub.execute_input": "2025-08-05T20:43:22.211947Z",
     "iopub.status.busy": "2025-08-05T20:43:22.211005Z",
     "iopub.status.idle": "2025-08-05T20:43:22.217655Z",
     "shell.execute_reply": "2025-08-05T20:43:22.216557Z"
    },
    "papermill": {
     "duration": 0.045344,
     "end_time": "2025-08-05T20:43:22.219380",
     "exception": false,
     "start_time": "2025-08-05T20:43:22.174036",
     "status": "completed"
    },
    "tags": []
   },
   "outputs": [],
   "source": [
    "def filter_sub_universe_data(sub_universe, org_test):\n",
    "    # Keep all rows — no filtering\n",
    "    keep_rows_mask = np.ones(org_test.shape[0], dtype=bool)\n",
    "\n",
    "    print(f\"[INFO] Keeping all rows: {keep_rows_mask.sum()} rows retained.\")\n",
    "    return keep_rows_mask"
   ]
  },
  {
   "cell_type": "code",
   "execution_count": 66,
   "id": "4a759155",
   "metadata": {
    "execution": {
     "iopub.execute_input": "2025-08-05T20:43:22.272294Z",
     "iopub.status.busy": "2025-08-05T20:43:22.271387Z",
     "iopub.status.idle": "2025-08-05T20:43:31.391893Z",
     "shell.execute_reply": "2025-08-05T20:43:31.390766Z"
    },
    "papermill": {
     "duration": 9.148436,
     "end_time": "2025-08-05T20:43:31.393688",
     "exception": false,
     "start_time": "2025-08-05T20:43:22.245252",
     "status": "completed"
    },
    "tags": []
   },
   "outputs": [
    {
     "name": "stdout",
     "output_type": "stream",
     "text": [
      "Stopping execution_time clock.\n",
      "[INFO] Keeping all rows: 89710 rows retained.\n"
     ]
    },
    {
     "name": "stdout",
     "output_type": "stream",
     "text": [
      "[INFO] Keeping all rows: 89710 rows retained.\n"
     ]
    },
    {
     "name": "stdout",
     "output_type": "stream",
     "text": [
      "[INFO] Keeping all rows: 89710 rows retained.\n"
     ]
    },
    {
     "name": "stdout",
     "output_type": "stream",
     "text": [
      "[INFO] Keeping all rows: 89710 rows retained.\n"
     ]
    },
    {
     "data": {
      "text/html": [
       "<div>\n",
       "<style scoped>\n",
       "    .dataframe tbody tr th:only-of-type {\n",
       "        vertical-align: middle;\n",
       "    }\n",
       "\n",
       "    .dataframe tbody tr th {\n",
       "        vertical-align: top;\n",
       "    }\n",
       "\n",
       "    .dataframe thead th {\n",
       "        text-align: right;\n",
       "    }\n",
       "</style>\n",
       "<table border=\"1\" class=\"dataframe\">\n",
       "  <thead>\n",
       "    <tr style=\"text-align: right;\">\n",
       "      <th></th>\n",
       "      <th>run_no</th>\n",
       "      <th>universe_id</th>\n",
       "      <th>universe_settings</th>\n",
       "      <th>execution_time</th>\n",
       "      <th>test_size_n</th>\n",
       "      <th>test_size_frac</th>\n",
       "      <th>fair_main_equalized_odds_difference</th>\n",
       "      <th>fair_main_equalized_odds_ratio</th>\n",
       "      <th>fair_main_demographic_parity_difference</th>\n",
       "      <th>fair_main_demographic_parity_ratio</th>\n",
       "      <th>...</th>\n",
       "      <th>perf_grp_precision_0</th>\n",
       "      <th>perf_grp_precision_1</th>\n",
       "      <th>perf_grp_false positive rate_0</th>\n",
       "      <th>perf_grp_false positive rate_1</th>\n",
       "      <th>perf_grp_false negative rate_0</th>\n",
       "      <th>perf_grp_false negative rate_1</th>\n",
       "      <th>perf_grp_selection rate_0</th>\n",
       "      <th>perf_grp_selection rate_1</th>\n",
       "      <th>perf_grp_count_0</th>\n",
       "      <th>perf_grp_count_1</th>\n",
       "    </tr>\n",
       "  </thead>\n",
       "  <tbody>\n",
       "    <tr>\n",
       "      <th>0</th>\n",
       "      <td>16</td>\n",
       "      <td>7f39ef5a5ec5b613bff31e35ea9a259f</td>\n",
       "      <td>{\"cutoff\": \"quantile_0.1\", \"eval_fairness_grou...</td>\n",
       "      <td>26.544006</td>\n",
       "      <td>89710</td>\n",
       "      <td>1.0</td>\n",
       "      <td>0.099828</td>\n",
       "      <td>0.896951</td>\n",
       "      <td>0.091809</td>\n",
       "      <td>0.905428</td>\n",
       "      <td>...</td>\n",
       "      <td>NaN</td>\n",
       "      <td>NaN</td>\n",
       "      <td>NaN</td>\n",
       "      <td>NaN</td>\n",
       "      <td>NaN</td>\n",
       "      <td>NaN</td>\n",
       "      <td>NaN</td>\n",
       "      <td>NaN</td>\n",
       "      <td>NaN</td>\n",
       "      <td>NaN</td>\n",
       "    </tr>\n",
       "    <tr>\n",
       "      <th>0</th>\n",
       "      <td>16</td>\n",
       "      <td>7f39ef5a5ec5b613bff31e35ea9a259f</td>\n",
       "      <td>{\"cutoff\": \"quantile_0.1\", \"eval_fairness_grou...</td>\n",
       "      <td>26.544006</td>\n",
       "      <td>89710</td>\n",
       "      <td>1.0</td>\n",
       "      <td>0.099828</td>\n",
       "      <td>0.896951</td>\n",
       "      <td>0.091809</td>\n",
       "      <td>0.905428</td>\n",
       "      <td>...</td>\n",
       "      <td>0.117151</td>\n",
       "      <td>0.142075</td>\n",
       "      <td>0.968743</td>\n",
       "      <td>0.868916</td>\n",
       "      <td>0.013514</td>\n",
       "      <td>0.054923</td>\n",
       "      <td>0.970789</td>\n",
       "      <td>0.878979</td>\n",
       "      <td>20540.0</td>\n",
       "      <td>69170.0</td>\n",
       "    </tr>\n",
       "    <tr>\n",
       "      <th>0</th>\n",
       "      <td>16</td>\n",
       "      <td>7f39ef5a5ec5b613bff31e35ea9a259f</td>\n",
       "      <td>{\"cutoff\": \"quantile_0.25\", \"eval_fairness_gro...</td>\n",
       "      <td>26.544006</td>\n",
       "      <td>89710</td>\n",
       "      <td>1.0</td>\n",
       "      <td>0.235038</td>\n",
       "      <td>0.742518</td>\n",
       "      <td>0.217344</td>\n",
       "      <td>0.763132</td>\n",
       "      <td>...</td>\n",
       "      <td>NaN</td>\n",
       "      <td>NaN</td>\n",
       "      <td>NaN</td>\n",
       "      <td>NaN</td>\n",
       "      <td>NaN</td>\n",
       "      <td>NaN</td>\n",
       "      <td>NaN</td>\n",
       "      <td>NaN</td>\n",
       "      <td>NaN</td>\n",
       "      <td>NaN</td>\n",
       "    </tr>\n",
       "    <tr>\n",
       "      <th>0</th>\n",
       "      <td>16</td>\n",
       "      <td>7f39ef5a5ec5b613bff31e35ea9a259f</td>\n",
       "      <td>{\"cutoff\": \"quantile_0.25\", \"eval_fairness_gro...</td>\n",
       "      <td>26.544006</td>\n",
       "      <td>89710</td>\n",
       "      <td>1.0</td>\n",
       "      <td>0.235038</td>\n",
       "      <td>0.742518</td>\n",
       "      <td>0.217344</td>\n",
       "      <td>0.763132</td>\n",
       "      <td>...</td>\n",
       "      <td>0.119860</td>\n",
       "      <td>0.159946</td>\n",
       "      <td>0.912833</td>\n",
       "      <td>0.677794</td>\n",
       "      <td>0.046030</td>\n",
       "      <td>0.152407</td>\n",
       "      <td>0.917575</td>\n",
       "      <td>0.700231</td>\n",
       "      <td>20540.0</td>\n",
       "      <td>69170.0</td>\n",
       "    </tr>\n",
       "  </tbody>\n",
       "</table>\n",
       "<p>4 rows × 50 columns</p>\n",
       "</div>"
      ],
      "text/plain": [
       "  run_no                       universe_id  \\\n",
       "0     16  7f39ef5a5ec5b613bff31e35ea9a259f   \n",
       "0     16  7f39ef5a5ec5b613bff31e35ea9a259f   \n",
       "0     16  7f39ef5a5ec5b613bff31e35ea9a259f   \n",
       "0     16  7f39ef5a5ec5b613bff31e35ea9a259f   \n",
       "\n",
       "                                   universe_settings  execution_time  \\\n",
       "0  {\"cutoff\": \"quantile_0.1\", \"eval_fairness_grou...       26.544006   \n",
       "0  {\"cutoff\": \"quantile_0.1\", \"eval_fairness_grou...       26.544006   \n",
       "0  {\"cutoff\": \"quantile_0.25\", \"eval_fairness_gro...       26.544006   \n",
       "0  {\"cutoff\": \"quantile_0.25\", \"eval_fairness_gro...       26.544006   \n",
       "\n",
       "   test_size_n  test_size_frac  fair_main_equalized_odds_difference  \\\n",
       "0        89710             1.0                             0.099828   \n",
       "0        89710             1.0                             0.099828   \n",
       "0        89710             1.0                             0.235038   \n",
       "0        89710             1.0                             0.235038   \n",
       "\n",
       "   fair_main_equalized_odds_ratio  fair_main_demographic_parity_difference  \\\n",
       "0                        0.896951                                 0.091809   \n",
       "0                        0.896951                                 0.091809   \n",
       "0                        0.742518                                 0.217344   \n",
       "0                        0.742518                                 0.217344   \n",
       "\n",
       "   fair_main_demographic_parity_ratio  ...  perf_grp_precision_0  \\\n",
       "0                            0.905428  ...                   NaN   \n",
       "0                            0.905428  ...              0.117151   \n",
       "0                            0.763132  ...                   NaN   \n",
       "0                            0.763132  ...              0.119860   \n",
       "\n",
       "   perf_grp_precision_1  perf_grp_false positive rate_0  \\\n",
       "0                   NaN                             NaN   \n",
       "0              0.142075                        0.968743   \n",
       "0                   NaN                             NaN   \n",
       "0              0.159946                        0.912833   \n",
       "\n",
       "   perf_grp_false positive rate_1  perf_grp_false negative rate_0  \\\n",
       "0                             NaN                             NaN   \n",
       "0                        0.868916                        0.013514   \n",
       "0                             NaN                             NaN   \n",
       "0                        0.677794                        0.046030   \n",
       "\n",
       "   perf_grp_false negative rate_1  perf_grp_selection rate_0  \\\n",
       "0                             NaN                        NaN   \n",
       "0                        0.054923                   0.970789   \n",
       "0                             NaN                        NaN   \n",
       "0                        0.152407                   0.917575   \n",
       "\n",
       "   perf_grp_selection rate_1  perf_grp_count_0  perf_grp_count_1  \n",
       "0                        NaN               NaN               NaN  \n",
       "0                   0.878979           20540.0           69170.0  \n",
       "0                        NaN               NaN               NaN  \n",
       "0                   0.700231           20540.0           69170.0  \n",
       "\n",
       "[4 rows x 50 columns]"
      ]
     },
     "execution_count": 66,
     "metadata": {},
     "output_type": "execute_result"
    }
   ],
   "source": [
    "final_output = universe_analysis.generate_final_output(\n",
    "    y_pred_prob=probs_test,\n",
    "    y_test=y_true,\n",
    "    org_test=org_test,\n",
    "    filter_data=filter_sub_universe_data,\n",
    "    cp_metrics_df=cp_metrics_df,\n",
    "    save=True,\n",
    ")\n",
    "final_output"
   ]
  }
 ],
 "metadata": {
  "celltoolbar": "Tags",
  "kernelspec": {
   "display_name": "Python (CMA Fairness)",
   "language": "python",
   "name": "cma_fair_env"
  },
  "language_info": {
   "codemirror_mode": {
    "name": "ipython",
    "version": 3
   },
   "file_extension": ".py",
   "mimetype": "text/x-python",
   "name": "python",
   "nbconvert_exporter": "python",
   "pygments_lexer": "ipython3",
   "version": "3.10.12"
  },
  "papermill": {
   "default_parameters": {},
   "duration": 39.670119,
   "end_time": "2025-08-05T20:43:32.246183",
   "environment_variables": {},
   "exception": null,
   "input_path": "universe_analysis.ipynb",
   "output_path": "output/runs/16/notebooks/m_16-7f39ef5a5ec5b613bff31e35ea9a259f.ipynb",
   "parameters": {
    "output_dir": "output",
    "run_no": "16",
    "seed": "2023",
    "universe": "{\"cutoff\": [\"quantile_0.1\", \"quantile_0.25\"], \"eval_fairness_grouping\": [\"majority-minority\", \"nationality-all\"], \"exclude_features\": \"age\", \"exclude_subgroups\": \"keep-all\", \"model\": \"penalized_logreg\", \"scale\": \"do-not-scale\", \"training_size\": \"25k\", \"training_year\": \"2014\"}",
    "universe_id": "7f39ef5a5ec5b613bff31e35ea9a259f"
   },
   "start_time": "2025-08-05T20:42:52.576064",
   "version": "2.6.0"
  }
 },
 "nbformat": 4,
 "nbformat_minor": 5
}