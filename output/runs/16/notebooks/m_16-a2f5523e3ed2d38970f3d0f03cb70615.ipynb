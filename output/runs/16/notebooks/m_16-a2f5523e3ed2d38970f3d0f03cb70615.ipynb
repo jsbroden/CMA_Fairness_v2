{
 "cells": [
  {
   "cell_type": "code",
   "execution_count": 1,
   "id": "f159f837-637b-42ba-96b5-ec9a68c44524",
   "metadata": {
    "execution": {
     "iopub.execute_input": "2025-08-05T20:58:54.882643Z",
     "iopub.status.busy": "2025-08-05T20:58:54.882144Z",
     "iopub.status.idle": "2025-08-05T20:58:54.894534Z",
     "shell.execute_reply": "2025-08-05T20:58:54.893671Z"
    },
    "papermill": {
     "duration": 0.023797,
     "end_time": "2025-08-05T20:58:54.896013",
     "exception": false,
     "start_time": "2025-08-05T20:58:54.872216",
     "status": "completed"
    },
    "tags": []
   },
   "outputs": [
    {
     "name": "stdout",
     "output_type": "stream",
     "text": [
      "/dss/dsshome1/0C/ra93lal2/cma/CMA_Fairness_v2\n"
     ]
    },
    {
     "name": "stderr",
     "output_type": "stream",
     "text": [
      "/dss/dsshome1/0C/ra93lal2/.local/share/virtualenvs/CMA_Fairness_v2-3j10GkSs/lib/python3.10/site-packages/IPython/core/magics/osm.py:393: UserWarning: This is now an optional IPython functionality, using bookmarks requires you to install the `pickleshare` library.\n",
      "  bkms = self.shell.db.get('bookmarks', {})\n",
      "/dss/dsshome1/0C/ra93lal2/.local/share/virtualenvs/CMA_Fairness_v2-3j10GkSs/lib/python3.10/site-packages/IPython/core/magics/osm.py:417: UserWarning: This is now an optional IPython functionality, setting dhist requires you to install the `pickleshare` library.\n",
      "  self.shell.db['dhist'] = compress_dhist(dhist)[-100:]\n"
     ]
    }
   ],
   "source": [
    "%cd ~/cma/CMA_Fairness_v2"
   ]
  },
  {
   "cell_type": "markdown",
   "id": "de2603b9",
   "metadata": {
    "papermill": {
     "duration": 0.008468,
     "end_time": "2025-08-05T20:58:54.914016",
     "exception": false,
     "start_time": "2025-08-05T20:58:54.905548",
     "status": "completed"
    },
    "tags": []
   },
   "source": [
    "The following cell holds the definition of our parameters, these values can be overriden by rendering the with e.g. the following command:\n",
    "\n",
    "papermill -p alpha 0.2 -p ratio 0.3 universe_analysis.ipynb output/test_run.ipynb"
   ]
  },
  {
   "cell_type": "code",
   "execution_count": 2,
   "id": "a80968a0-40bb-4fa9-85ef-2d5eefb01975",
   "metadata": {
    "execution": {
     "iopub.execute_input": "2025-08-05T20:58:54.932143Z",
     "iopub.status.busy": "2025-08-05T20:58:54.931647Z",
     "iopub.status.idle": "2025-08-05T20:58:54.936683Z",
     "shell.execute_reply": "2025-08-05T20:58:54.935791Z"
    },
    "papermill": {
     "duration": 0.016201,
     "end_time": "2025-08-05T20:58:54.938542",
     "exception": false,
     "start_time": "2025-08-05T20:58:54.922341",
     "status": "completed"
    },
    "tags": []
   },
   "outputs": [
    {
     "name": "stdout",
     "output_type": "stream",
     "text": [
      "Current working directory: /dss/dsshome1/0C/ra93lal2/cma/CMA_Fairness_v2\n"
     ]
    }
   ],
   "source": [
    "import os\n",
    "print(\"Current working directory:\", os.getcwd())"
   ]
  },
  {
   "cell_type": "code",
   "execution_count": 3,
   "id": "2dce4c03",
   "metadata": {
    "execution": {
     "iopub.execute_input": "2025-08-05T20:58:54.973731Z",
     "iopub.status.busy": "2025-08-05T20:58:54.972992Z",
     "iopub.status.idle": "2025-08-05T20:58:54.979499Z",
     "shell.execute_reply": "2025-08-05T20:58:54.978424Z"
    },
    "papermill": {
     "duration": 0.024498,
     "end_time": "2025-08-05T20:58:54.981452",
     "exception": false,
     "start_time": "2025-08-05T20:58:54.956954",
     "status": "completed"
    },
    "tags": [
     "parameters"
    ]
   },
   "outputs": [],
   "source": [
    "run_no = 0\n",
    "universe_id = \"test\"\n",
    "universe = {\n",
    "    \"training_size\": \"25k\", # \"25k\", \"5k\", \"1k\"\n",
    "    \"training_year\": \"2014\", # \"2014\", \"2012_14\", \"2010_14\"\n",
    "    \"scale\": \"scale\", # \"scale\", \"do-not-scale\",\n",
    "    \"model\": \"elasticnet\", # \"logreg\", \"penalized_logreg\", \"rf\", \"gbm\", \"elasticnet\"\n",
    "    \"cutoff\": [\"quantile_0.15\", \"quantile_0.30\"],\n",
    "    \"exclude_features\": \"age\", # \"none\", \"nationality\", \"sex\", \"nationality-sex\", \"age\"\n",
    "    \"exclude_subgroups\": \"keep-all\", # \"keep-all\", \"drop-non-german\"\n",
    "    \"eval_fairness_grouping\": [\"majority-minority\", \"nationality-all\"]\n",
    "}\n",
    "\n",
    "output_dir=\"./output\"\n",
    "seed=0"
   ]
  },
  {
   "cell_type": "code",
   "execution_count": 4,
   "id": "c6f678e5",
   "metadata": {
    "execution": {
     "iopub.execute_input": "2025-08-05T20:58:55.020033Z",
     "iopub.status.busy": "2025-08-05T20:58:55.019062Z",
     "iopub.status.idle": "2025-08-05T20:58:55.025167Z",
     "shell.execute_reply": "2025-08-05T20:58:55.024244Z"
    },
    "papermill": {
     "duration": 0.027499,
     "end_time": "2025-08-05T20:58:55.026976",
     "exception": false,
     "start_time": "2025-08-05T20:58:54.999477",
     "status": "completed"
    },
    "tags": [
     "injected-parameters"
    ]
   },
   "outputs": [],
   "source": [
    "# Parameters\n",
    "universe_id = \"a2f5523e3ed2d38970f3d0f03cb70615\"\n",
    "run_no = \"16\"\n",
    "universe = \"{\\\"cutoff\\\": [\\\"quantile_0.1\\\", \\\"quantile_0.25\\\"], \\\"eval_fairness_grouping\\\": [\\\"majority-minority\\\", \\\"nationality-all\\\"], \\\"exclude_features\\\": \\\"nationality-sex\\\", \\\"exclude_subgroups\\\": \\\"drop-non-german\\\", \\\"model\\\": \\\"penalized_logreg\\\", \\\"scale\\\": \\\"do-not-scale\\\", \\\"training_size\\\": \\\"25k\\\", \\\"training_year\\\": \\\"2012_14\\\"}\"\n",
    "output_dir = \"output\"\n",
    "seed = \"2023\"\n"
   ]
  },
  {
   "cell_type": "code",
   "execution_count": 5,
   "id": "1650acaf",
   "metadata": {
    "execution": {
     "iopub.execute_input": "2025-08-05T20:58:55.067486Z",
     "iopub.status.busy": "2025-08-05T20:58:55.066999Z",
     "iopub.status.idle": "2025-08-05T20:58:55.071576Z",
     "shell.execute_reply": "2025-08-05T20:58:55.070814Z"
    },
    "papermill": {
     "duration": 0.024897,
     "end_time": "2025-08-05T20:58:55.072782",
     "exception": false,
     "start_time": "2025-08-05T20:58:55.047885",
     "status": "completed"
    },
    "tags": []
   },
   "outputs": [],
   "source": [
    "import json\n",
    "if isinstance(universe, str):\n",
    "    universe = json.loads(universe)"
   ]
  },
  {
   "cell_type": "code",
   "execution_count": 6,
   "id": "16620c48",
   "metadata": {
    "execution": {
     "iopub.execute_input": "2025-08-05T20:58:55.092558Z",
     "iopub.status.busy": "2025-08-05T20:58:55.092204Z",
     "iopub.status.idle": "2025-08-05T20:58:55.143057Z",
     "shell.execute_reply": "2025-08-05T20:58:55.142170Z"
    },
    "papermill": {
     "duration": 0.062684,
     "end_time": "2025-08-05T20:58:55.145077",
     "exception": false,
     "start_time": "2025-08-05T20:58:55.082393",
     "status": "completed"
    },
    "tags": []
   },
   "outputs": [],
   "source": [
    "# Auto-reload the custom package\n",
    "%load_ext autoreload\n",
    "%autoreload 1\n",
    "%aimport fairness_multiverse"
   ]
  },
  {
   "cell_type": "code",
   "execution_count": 7,
   "id": "01c5c9f3",
   "metadata": {
    "execution": {
     "iopub.execute_input": "2025-08-05T20:58:55.181403Z",
     "iopub.status.busy": "2025-08-05T20:58:55.180549Z",
     "iopub.status.idle": "2025-08-05T20:58:56.902115Z",
     "shell.execute_reply": "2025-08-05T20:58:56.901283Z"
    },
    "papermill": {
     "duration": 1.7407,
     "end_time": "2025-08-05T20:58:56.903508",
     "exception": false,
     "start_time": "2025-08-05T20:58:55.162808",
     "status": "completed"
    },
    "tags": []
   },
   "outputs": [],
   "source": [
    "from fairness_multiverse.universe import UniverseAnalysis\n",
    "\n",
    "universe_analysis = UniverseAnalysis(\n",
    "    run_no = run_no,\n",
    "    universe_id = universe_id,\n",
    "    universe = universe,\n",
    "    output_dir=output_dir,\n",
    ")"
   ]
  },
  {
   "cell_type": "code",
   "execution_count": 8,
   "id": "106241f5",
   "metadata": {
    "execution": {
     "iopub.execute_input": "2025-08-05T20:58:56.923807Z",
     "iopub.status.busy": "2025-08-05T20:58:56.922990Z",
     "iopub.status.idle": "2025-08-05T20:58:56.928857Z",
     "shell.execute_reply": "2025-08-05T20:58:56.928109Z"
    },
    "papermill": {
     "duration": 0.017292,
     "end_time": "2025-08-05T20:58:56.930304",
     "exception": false,
     "start_time": "2025-08-05T20:58:56.913012",
     "status": "completed"
    },
    "tags": []
   },
   "outputs": [
    {
     "name": "stdout",
     "output_type": "stream",
     "text": [
      "Using Seed: 2023\n"
     ]
    }
   ],
   "source": [
    "import numpy as np\n",
    "parsed_seed = int(seed)\n",
    "np.random.seed(parsed_seed)\n",
    "print(f\"Using Seed: {parsed_seed}\")"
   ]
  },
  {
   "cell_type": "markdown",
   "id": "e0ebdc57",
   "metadata": {
    "papermill": {
     "duration": 0.008925,
     "end_time": "2025-08-05T20:58:56.948968",
     "exception": false,
     "start_time": "2025-08-05T20:58:56.940043",
     "status": "completed"
    },
    "tags": []
   },
   "source": [
    "# Loading Data"
   ]
  },
  {
   "cell_type": "code",
   "execution_count": 9,
   "id": "f0496b8a",
   "metadata": {
    "execution": {
     "iopub.execute_input": "2025-08-05T20:58:56.968379Z",
     "iopub.status.busy": "2025-08-05T20:58:56.967743Z",
     "iopub.status.idle": "2025-08-05T20:59:08.802147Z",
     "shell.execute_reply": "2025-08-05T20:59:08.800725Z"
    },
    "papermill": {
     "duration": 11.845809,
     "end_time": "2025-08-05T20:59:08.803613",
     "exception": false,
     "start_time": "2025-08-05T20:58:56.957804",
     "status": "completed"
    },
    "tags": []
   },
   "outputs": [
    {
     "name": "stdout",
     "output_type": "stream",
     "text": [
      "Loading SIAB data from cache: data/siab_cached.csv.gz\n"
     ]
    },
    {
     "name": "stdout",
     "output_type": "stream",
     "text": [
      "(643690, 164)\n"
     ]
    }
   ],
   "source": [
    "from pathlib import Path\n",
    "import pandas as pd\n",
    "\n",
    "# File paths\n",
    "raw_file = Path(\"data/raw/siab.csv\")\n",
    "cache_file = Path(\"data/siab_cached.csv.gz\")\n",
    "\n",
    "# Ensure cache directory exists\n",
    "cache_file.parent.mkdir(parents=True, exist_ok=True)\n",
    "\n",
    "# Load with simple caching\n",
    "if cache_file.exists():\n",
    "    print(f\"Loading SIAB data from cache: {cache_file}\")\n",
    "    siab = pd.read_csv(cache_file, compression='gzip')\n",
    "else:\n",
    "    print(f\"Cache not found. Reading raw SIAB data: {raw_file}\")\n",
    "    siab = pd.read_csv(raw_file)\n",
    "    siab.to_csv(cache_file, index=False, compression='gzip')\n",
    "    print(f\"Cached SIAB data to: {cache_file}\")\n",
    "\n",
    "print(siab.shape)"
   ]
  },
  {
   "cell_type": "code",
   "execution_count": 10,
   "id": "db0ca512-5f53-4dba-abdb-a2888bca41ba",
   "metadata": {
    "execution": {
     "iopub.execute_input": "2025-08-05T20:59:08.859629Z",
     "iopub.status.busy": "2025-08-05T20:59:08.858826Z",
     "iopub.status.idle": "2025-08-05T20:59:08.865007Z",
     "shell.execute_reply": "2025-08-05T20:59:08.864002Z"
    },
    "papermill": {
     "duration": 0.03742,
     "end_time": "2025-08-05T20:59:08.867090",
     "exception": false,
     "start_time": "2025-08-05T20:59:08.829670",
     "status": "completed"
    },
    "tags": []
   },
   "outputs": [],
   "source": [
    "#siab"
   ]
  },
  {
   "cell_type": "markdown",
   "id": "997051c5-15bd-4b69-9786-c3001a3ce484",
   "metadata": {
    "papermill": {
     "duration": 0.018823,
     "end_time": "2025-08-05T20:59:08.906274",
     "exception": false,
     "start_time": "2025-08-05T20:59:08.887451",
     "status": "completed"
    },
    "tags": []
   },
   "source": [
    "# Splitting Data and Setting Training Data Size"
   ]
  },
  {
   "cell_type": "code",
   "execution_count": 11,
   "id": "aea9c6ef-6f46-42c8-85eb-5a62025c1508",
   "metadata": {
    "execution": {
     "iopub.execute_input": "2025-08-05T20:59:08.946624Z",
     "iopub.status.busy": "2025-08-05T20:59:08.945595Z",
     "iopub.status.idle": "2025-08-05T20:59:09.618065Z",
     "shell.execute_reply": "2025-08-05T20:59:09.617030Z"
    },
    "papermill": {
     "duration": 0.694927,
     "end_time": "2025-08-05T20:59:09.620101",
     "exception": false,
     "start_time": "2025-08-05T20:59:08.925174",
     "status": "completed"
    },
    "tags": []
   },
   "outputs": [],
   "source": [
    "from fairness_multiverse.universe import sample_by_year_size\n",
    "\n",
    "siab_train = sample_by_year_size(siab,\n",
    "                               training_year=universe[\"training_year\"],\n",
    "                               training_size=universe[\"training_size\"])"
   ]
  },
  {
   "cell_type": "code",
   "execution_count": 12,
   "id": "8d3afb32-789d-442c-8d5d-9f5aa8dd2eed",
   "metadata": {
    "execution": {
     "iopub.execute_input": "2025-08-05T20:59:09.661035Z",
     "iopub.status.busy": "2025-08-05T20:59:09.660587Z",
     "iopub.status.idle": "2025-08-05T20:59:09.665760Z",
     "shell.execute_reply": "2025-08-05T20:59:09.664725Z"
    },
    "papermill": {
     "duration": 0.027333,
     "end_time": "2025-08-05T20:59:09.667702",
     "exception": false,
     "start_time": "2025-08-05T20:59:09.640369",
     "status": "completed"
    },
    "tags": []
   },
   "outputs": [],
   "source": [
    "#siab_train.shape"
   ]
  },
  {
   "cell_type": "code",
   "execution_count": 13,
   "id": "d582db68-1a4c-47fb-84fc-08518dc1975a",
   "metadata": {
    "execution": {
     "iopub.execute_input": "2025-08-05T20:59:09.709075Z",
     "iopub.status.busy": "2025-08-05T20:59:09.708285Z",
     "iopub.status.idle": "2025-08-05T20:59:09.713689Z",
     "shell.execute_reply": "2025-08-05T20:59:09.712644Z"
    },
    "papermill": {
     "duration": 0.027618,
     "end_time": "2025-08-05T20:59:09.715537",
     "exception": false,
     "start_time": "2025-08-05T20:59:09.687919",
     "status": "completed"
    },
    "tags": []
   },
   "outputs": [],
   "source": [
    "#display(siab_train.groupby(\"year\").size())"
   ]
  },
  {
   "cell_type": "code",
   "execution_count": 14,
   "id": "a561edb4-d032-42cb-8256-22eac1111c64",
   "metadata": {
    "execution": {
     "iopub.execute_input": "2025-08-05T20:59:09.757170Z",
     "iopub.status.busy": "2025-08-05T20:59:09.756519Z",
     "iopub.status.idle": "2025-08-05T20:59:09.979585Z",
     "shell.execute_reply": "2025-08-05T20:59:09.978508Z"
    },
    "papermill": {
     "duration": 0.24574,
     "end_time": "2025-08-05T20:59:09.981729",
     "exception": false,
     "start_time": "2025-08-05T20:59:09.735989",
     "status": "completed"
    },
    "tags": []
   },
   "outputs": [],
   "source": [
    "#siab_train = siab_s[siab_s.year < 2015]\n",
    "siab_calib = siab[siab.year == 2015]\n",
    "siab_test = siab[siab.year == 2016]"
   ]
  },
  {
   "cell_type": "code",
   "execution_count": 15,
   "id": "472de16f-c3db-4916-846b-1f0de9cf1746",
   "metadata": {
    "execution": {
     "iopub.execute_input": "2025-08-05T20:59:10.024722Z",
     "iopub.status.busy": "2025-08-05T20:59:10.023751Z",
     "iopub.status.idle": "2025-08-05T20:59:10.056170Z",
     "shell.execute_reply": "2025-08-05T20:59:10.054999Z"
    },
    "papermill": {
     "duration": 0.056056,
     "end_time": "2025-08-05T20:59:10.058389",
     "exception": false,
     "start_time": "2025-08-05T20:59:10.002333",
     "status": "completed"
    },
    "tags": []
   },
   "outputs": [],
   "source": [
    "X_train = siab_train.iloc[:,4:164]\n",
    "y_train = siab_train.iloc[:, [3]]"
   ]
  },
  {
   "cell_type": "code",
   "execution_count": 16,
   "id": "828c96af-f43a-4ed6-ba47-8ac73a47d56c",
   "metadata": {
    "execution": {
     "iopub.execute_input": "2025-08-05T20:59:10.105341Z",
     "iopub.status.busy": "2025-08-05T20:59:10.104779Z",
     "iopub.status.idle": "2025-08-05T20:59:10.162924Z",
     "shell.execute_reply": "2025-08-05T20:59:10.161701Z"
    },
    "papermill": {
     "duration": 0.083955,
     "end_time": "2025-08-05T20:59:10.165119",
     "exception": false,
     "start_time": "2025-08-05T20:59:10.081164",
     "status": "completed"
    },
    "tags": []
   },
   "outputs": [],
   "source": [
    "X_calib = siab_calib.iloc[:,4:164]\n",
    "y_calib = siab_calib.iloc[:, [3]]"
   ]
  },
  {
   "cell_type": "code",
   "execution_count": 17,
   "id": "c34be9c3-6bd6-476e-acd3-845840e303be",
   "metadata": {
    "execution": {
     "iopub.execute_input": "2025-08-05T20:59:10.213187Z",
     "iopub.status.busy": "2025-08-05T20:59:10.212515Z",
     "iopub.status.idle": "2025-08-05T20:59:10.262175Z",
     "shell.execute_reply": "2025-08-05T20:59:10.261259Z"
    },
    "papermill": {
     "duration": 0.076344,
     "end_time": "2025-08-05T20:59:10.264519",
     "exception": false,
     "start_time": "2025-08-05T20:59:10.188175",
     "status": "completed"
    },
    "tags": []
   },
   "outputs": [],
   "source": [
    "X_test = siab_test.iloc[:,4:164]\n",
    "y_true = siab_test.iloc[:, [3]]"
   ]
  },
  {
   "cell_type": "code",
   "execution_count": 18,
   "id": "e6c733c5",
   "metadata": {
    "execution": {
     "iopub.execute_input": "2025-08-05T20:59:10.312355Z",
     "iopub.status.busy": "2025-08-05T20:59:10.311818Z",
     "iopub.status.idle": "2025-08-05T20:59:10.448912Z",
     "shell.execute_reply": "2025-08-05T20:59:10.447555Z"
    },
    "papermill": {
     "duration": 0.162902,
     "end_time": "2025-08-05T20:59:10.450901",
     "exception": false,
     "start_time": "2025-08-05T20:59:10.287999",
     "status": "completed"
    },
    "tags": []
   },
   "outputs": [],
   "source": [
    "# Auxiliary data needed downstream in the pipeline\n",
    "\n",
    "org_train = X_train.copy()\n",
    "org_test = X_test.copy()\n",
    "org_calib = X_calib.copy()"
   ]
  },
  {
   "cell_type": "markdown",
   "id": "0a4a1b33",
   "metadata": {
    "papermill": {
     "duration": 0.02221,
     "end_time": "2025-08-05T20:59:10.491764",
     "exception": false,
     "start_time": "2025-08-05T20:59:10.469554",
     "status": "completed"
    },
    "tags": []
   },
   "source": [
    "# Preprocessing Data"
   ]
  },
  {
   "cell_type": "code",
   "execution_count": 19,
   "id": "ca879031",
   "metadata": {
    "execution": {
     "iopub.execute_input": "2025-08-05T20:59:10.537023Z",
     "iopub.status.busy": "2025-08-05T20:59:10.535898Z",
     "iopub.status.idle": "2025-08-05T20:59:10.543573Z",
     "shell.execute_reply": "2025-08-05T20:59:10.542329Z"
    },
    "papermill": {
     "duration": 0.033064,
     "end_time": "2025-08-05T20:59:10.545854",
     "exception": false,
     "start_time": "2025-08-05T20:59:10.512790",
     "status": "completed"
    },
    "tags": []
   },
   "outputs": [],
   "source": [
    "# EXCLUDE PROTECTED FEATURES\n",
    "# ----------------------\n",
    "# \"exclude_features\": \"none\", # \"nationality\", \"sex\", \"nationality-sex\"\n",
    "\n",
    "excluded_features = universe[\"exclude_features\"].split(\"-\") # split, e.g.: \"nationality-sex\" -> [\"nationality\", \"sex\"]\n",
    "excluded_features_dictionary = {\n",
    "    \"nationality\": [\"maxdeutsch1\", \"maxdeutsch.Missing.\"],\n",
    "    \"sex\": [\"frau1\"],\n",
    "    \"age\": [\"age\"],\n",
    "}"
   ]
  },
  {
   "cell_type": "code",
   "execution_count": 20,
   "id": "b745ac60",
   "metadata": {
    "execution": {
     "iopub.execute_input": "2025-08-05T20:59:10.590892Z",
     "iopub.status.busy": "2025-08-05T20:59:10.589950Z",
     "iopub.status.idle": "2025-08-05T20:59:10.596230Z",
     "shell.execute_reply": "2025-08-05T20:59:10.595184Z"
    },
    "papermill": {
     "duration": 0.032973,
     "end_time": "2025-08-05T20:59:10.598471",
     "exception": false,
     "start_time": "2025-08-05T20:59:10.565498",
     "status": "completed"
    },
    "tags": []
   },
   "outputs": [],
   "source": [
    "# Code nice names to column names\n",
    "\n",
    "excluded_features_columns = [\n",
    "    excluded_features_dictionary[f] for f in excluded_features if len(f) > 0 and f != \"none\"\n",
    "]"
   ]
  },
  {
   "cell_type": "code",
   "execution_count": 21,
   "id": "f84f73a2",
   "metadata": {
    "execution": {
     "iopub.execute_input": "2025-08-05T20:59:10.646344Z",
     "iopub.status.busy": "2025-08-05T20:59:10.645595Z",
     "iopub.status.idle": "2025-08-05T20:59:10.653302Z",
     "shell.execute_reply": "2025-08-05T20:59:10.651889Z"
    },
    "papermill": {
     "duration": 0.033992,
     "end_time": "2025-08-05T20:59:10.655661",
     "exception": false,
     "start_time": "2025-08-05T20:59:10.621669",
     "status": "completed"
    },
    "tags": []
   },
   "outputs": [],
   "source": [
    "from utils import flatten_once\n",
    "\n",
    "excluded_features_columns = flatten_once(excluded_features_columns)"
   ]
  },
  {
   "cell_type": "code",
   "execution_count": 22,
   "id": "884dea22",
   "metadata": {
    "execution": {
     "iopub.execute_input": "2025-08-05T20:59:10.705066Z",
     "iopub.status.busy": "2025-08-05T20:59:10.704706Z",
     "iopub.status.idle": "2025-08-05T20:59:10.726208Z",
     "shell.execute_reply": "2025-08-05T20:59:10.724970Z"
    },
    "papermill": {
     "duration": 0.048483,
     "end_time": "2025-08-05T20:59:10.727996",
     "exception": false,
     "start_time": "2025-08-05T20:59:10.679513",
     "status": "completed"
    },
    "tags": []
   },
   "outputs": [
    {
     "name": "stdout",
     "output_type": "stream",
     "text": [
      "Dropping features: ['maxdeutsch1', 'maxdeutsch.Missing.', 'frau1']\n"
     ]
    }
   ],
   "source": [
    "if len(excluded_features_columns) > 0:\n",
    "    print(f\"Dropping features: {excluded_features_columns}\")\n",
    "    X_train.drop(excluded_features_columns, axis=1, inplace=True)"
   ]
  },
  {
   "cell_type": "code",
   "execution_count": 23,
   "id": "95ab8b16",
   "metadata": {
    "execution": {
     "iopub.execute_input": "2025-08-05T20:59:10.775324Z",
     "iopub.status.busy": "2025-08-05T20:59:10.774292Z",
     "iopub.status.idle": "2025-08-05T20:59:10.829113Z",
     "shell.execute_reply": "2025-08-05T20:59:10.827678Z"
    },
    "papermill": {
     "duration": 0.080902,
     "end_time": "2025-08-05T20:59:10.831699",
     "exception": false,
     "start_time": "2025-08-05T20:59:10.750797",
     "status": "completed"
    },
    "tags": []
   },
   "outputs": [
    {
     "name": "stdout",
     "output_type": "stream",
     "text": [
      "Dropping features: ['maxdeutsch1', 'maxdeutsch.Missing.', 'frau1']\n"
     ]
    }
   ],
   "source": [
    "if len(excluded_features_columns) > 0:\n",
    "    print(f\"Dropping features: {excluded_features_columns}\")\n",
    "    X_test.drop(excluded_features_columns, axis=1, inplace=True)"
   ]
  },
  {
   "cell_type": "code",
   "execution_count": 24,
   "id": "1853aaf5-fb9f-46cb-a2b5-8ea4ae2237e4",
   "metadata": {
    "execution": {
     "iopub.execute_input": "2025-08-05T20:59:10.887152Z",
     "iopub.status.busy": "2025-08-05T20:59:10.886360Z",
     "iopub.status.idle": "2025-08-05T20:59:10.937965Z",
     "shell.execute_reply": "2025-08-05T20:59:10.936689Z"
    },
    "papermill": {
     "duration": 0.082714,
     "end_time": "2025-08-05T20:59:10.941269",
     "exception": false,
     "start_time": "2025-08-05T20:59:10.858555",
     "status": "completed"
    },
    "tags": []
   },
   "outputs": [
    {
     "name": "stdout",
     "output_type": "stream",
     "text": [
      "Dropping features: ['maxdeutsch1', 'maxdeutsch.Missing.', 'frau1']\n"
     ]
    }
   ],
   "source": [
    "if len(excluded_features_columns) > 0:\n",
    "    print(f\"Dropping features: {excluded_features_columns}\")\n",
    "    X_calib.drop(excluded_features_columns, axis=1, inplace=True)"
   ]
  },
  {
   "cell_type": "code",
   "execution_count": 25,
   "id": "76c4dc6d",
   "metadata": {
    "execution": {
     "iopub.execute_input": "2025-08-05T20:59:10.997757Z",
     "iopub.status.busy": "2025-08-05T20:59:10.997289Z",
     "iopub.status.idle": "2025-08-05T20:59:11.003376Z",
     "shell.execute_reply": "2025-08-05T20:59:11.002216Z"
    },
    "papermill": {
     "duration": 0.036904,
     "end_time": "2025-08-05T20:59:11.005794",
     "exception": false,
     "start_time": "2025-08-05T20:59:10.968890",
     "status": "completed"
    },
    "tags": []
   },
   "outputs": [],
   "source": [
    "# EXCLUDE CERTAIN SUBGROUPS\n",
    "# ----------------------\n",
    "\n",
    "mode = universe.get(\"exclude_subgroups\", \"keep-all\") \n",
    "# Fetches the exclude_subgroups setting from the universe dict.\n",
    "# Defaults to \"keep-all\" if the key is missing."
   ]
  },
  {
   "cell_type": "code",
   "execution_count": 26,
   "id": "21994072",
   "metadata": {
    "execution": {
     "iopub.execute_input": "2025-08-05T20:59:11.060410Z",
     "iopub.status.busy": "2025-08-05T20:59:11.059619Z",
     "iopub.status.idle": "2025-08-05T20:59:11.067671Z",
     "shell.execute_reply": "2025-08-05T20:59:11.066534Z"
    },
    "papermill": {
     "duration": 0.037403,
     "end_time": "2025-08-05T20:59:11.069782",
     "exception": false,
     "start_time": "2025-08-05T20:59:11.032379",
     "status": "completed"
    },
    "tags": []
   },
   "outputs": [],
   "source": [
    "if mode == \"keep-all\":\n",
    "    keep_mask = pd.Series(True, index=org_train.index)\n",
    "\n",
    "# org_train contains the original feature columns from features_org (in Simson)\n",
    "# features_org contains unprocessed features, for me X_train at beginning ???\n",
    "# For keep-all, creates a boolean Series (keep_mask) of all True, so no rows are removed.\n",
    "\n",
    "elif mode == \"drop-non-german\":\n",
    "    keep_mask = org_train[\"maxdeutsch1\"] == 1 # ??? what about missing values?\n",
    "\n",
    "else:\n",
    "    raise ValueError(f\"Unsupported mode for exclude_subgroups: {mode}\")"
   ]
  },
  {
   "cell_type": "code",
   "execution_count": 27,
   "id": "71651440",
   "metadata": {
    "execution": {
     "iopub.execute_input": "2025-08-05T20:59:11.116858Z",
     "iopub.status.busy": "2025-08-05T20:59:11.115865Z",
     "iopub.status.idle": "2025-08-05T20:59:11.125473Z",
     "shell.execute_reply": "2025-08-05T20:59:11.124284Z"
    },
    "papermill": {
     "duration": 0.034975,
     "end_time": "2025-08-05T20:59:11.127580",
     "exception": false,
     "start_time": "2025-08-05T20:59:11.092605",
     "status": "completed"
    },
    "tags": []
   },
   "outputs": [
    {
     "name": "stdout",
     "output_type": "stream",
     "text": [
      "Dropping 3481 rows (13.92%) where mode='drop-non-german'\n"
     ]
    }
   ],
   "source": [
    "n_drop = (~keep_mask).sum() # Calculates how many rows are set to be dropped\n",
    "if n_drop > 0:\n",
    "    pct = n_drop / len(keep_mask) * 100\n",
    "    print(f\"Dropping {n_drop} rows ({pct:.2f}%) where mode='{mode}'\")"
   ]
  },
  {
   "cell_type": "code",
   "execution_count": 28,
   "id": "5fb8eee5",
   "metadata": {
    "execution": {
     "iopub.execute_input": "2025-08-05T20:59:11.174311Z",
     "iopub.status.busy": "2025-08-05T20:59:11.173346Z",
     "iopub.status.idle": "2025-08-05T20:59:11.199709Z",
     "shell.execute_reply": "2025-08-05T20:59:11.198522Z"
    },
    "papermill": {
     "duration": 0.051696,
     "end_time": "2025-08-05T20:59:11.201825",
     "exception": false,
     "start_time": "2025-08-05T20:59:11.150129",
     "status": "completed"
    },
    "tags": []
   },
   "outputs": [],
   "source": [
    "X_train = X_train[keep_mask]"
   ]
  },
  {
   "cell_type": "code",
   "execution_count": 29,
   "id": "b202bb3a",
   "metadata": {
    "execution": {
     "iopub.execute_input": "2025-08-05T20:59:11.248331Z",
     "iopub.status.busy": "2025-08-05T20:59:11.247598Z",
     "iopub.status.idle": "2025-08-05T20:59:11.256297Z",
     "shell.execute_reply": "2025-08-05T20:59:11.255105Z"
    },
    "papermill": {
     "duration": 0.034146,
     "end_time": "2025-08-05T20:59:11.258282",
     "exception": false,
     "start_time": "2025-08-05T20:59:11.224136",
     "status": "completed"
    },
    "tags": []
   },
   "outputs": [],
   "source": [
    "y_train = y_train[keep_mask]"
   ]
  },
  {
   "cell_type": "markdown",
   "id": "493e2ac3",
   "metadata": {
    "papermill": {
     "duration": 0.021961,
     "end_time": "2025-08-05T20:59:11.302810",
     "exception": false,
     "start_time": "2025-08-05T20:59:11.280849",
     "status": "completed"
    },
    "tags": []
   },
   "source": [
    "# Model Training"
   ]
  },
  {
   "cell_type": "code",
   "execution_count": 30,
   "id": "679e1268",
   "metadata": {
    "execution": {
     "iopub.execute_input": "2025-08-05T20:59:11.349429Z",
     "iopub.status.busy": "2025-08-05T20:59:11.348430Z",
     "iopub.status.idle": "2025-08-05T20:59:11.456382Z",
     "shell.execute_reply": "2025-08-05T20:59:11.455219Z"
    },
    "papermill": {
     "duration": 0.133954,
     "end_time": "2025-08-05T20:59:11.458827",
     "exception": false,
     "start_time": "2025-08-05T20:59:11.324873",
     "status": "completed"
    },
    "tags": []
   },
   "outputs": [],
   "source": [
    "from sklearn.linear_model import LogisticRegression\n",
    "from sklearn.ensemble import GradientBoostingClassifier, RandomForestClassifier\n",
    "\n",
    "if (universe[\"model\"] == \"logreg\"):\n",
    "    model = LogisticRegression() #penalty=\"none\", solver=\"newton-cg\", max_iter=1) # include random_state=19 ?\n",
    "elif (universe[\"model\"] == \"penalized_logreg\"):\n",
    "    model = LogisticRegression(penalty=\"l2\", C=0.1) #, solver=\"newton-cg\", max_iter=1)\n",
    "elif (universe[\"model\"] == \"rf\"):\n",
    "    model = RandomForestClassifier() # n_estimators=100, n_jobs=-1\n",
    "elif (universe[\"model\"] == \"gbm\"):\n",
    "    model = GradientBoostingClassifier()\n",
    "elif (universe[\"model\"] == \"elasticnet\"):\n",
    "    model = LogisticRegression(penalty = 'elasticnet', solver = 'saga', l1_ratio = 0.5) # max_iter=5000\n",
    "else:\n",
    "    raise \"Unsupported universe.model\""
   ]
  },
  {
   "cell_type": "code",
   "execution_count": 31,
   "id": "0cc8f744",
   "metadata": {
    "execution": {
     "iopub.execute_input": "2025-08-05T20:59:11.515281Z",
     "iopub.status.busy": "2025-08-05T20:59:11.514490Z",
     "iopub.status.idle": "2025-08-05T20:59:11.521895Z",
     "shell.execute_reply": "2025-08-05T20:59:11.520646Z"
    },
    "papermill": {
     "duration": 0.038224,
     "end_time": "2025-08-05T20:59:11.524413",
     "exception": false,
     "start_time": "2025-08-05T20:59:11.486189",
     "status": "completed"
    },
    "tags": []
   },
   "outputs": [],
   "source": [
    "import numpy as np\n",
    "from sklearn.pipeline import Pipeline\n",
    "from sklearn.preprocessing import StandardScaler\n",
    "\n",
    "model = Pipeline([\n",
    "    #(\"continuous_processor\", continuous_processor),\n",
    "    #(\"categorical_preprocessor\", categorical_preprocessor),\n",
    "    (\"scale\", StandardScaler() if universe[\"scale\"] == \"scale\" else None), \n",
    "    (\"model\", model),\n",
    "])"
   ]
  },
  {
   "cell_type": "code",
   "execution_count": 32,
   "id": "9442c04d",
   "metadata": {
    "execution": {
     "iopub.execute_input": "2025-08-05T20:59:11.581019Z",
     "iopub.status.busy": "2025-08-05T20:59:11.580217Z",
     "iopub.status.idle": "2025-08-05T20:59:12.446602Z",
     "shell.execute_reply": "2025-08-05T20:59:12.445528Z"
    },
    "papermill": {
     "duration": 0.896285,
     "end_time": "2025-08-05T20:59:12.448265",
     "exception": false,
     "start_time": "2025-08-05T20:59:11.551980",
     "status": "completed"
    },
    "tags": []
   },
   "outputs": [
    {
     "name": "stderr",
     "output_type": "stream",
     "text": [
      "/dss/dsshome1/0C/ra93lal2/.local/share/virtualenvs/CMA_Fairness_v2-3j10GkSs/lib/python3.10/site-packages/sklearn/linear_model/_logistic.py:444: ConvergenceWarning: lbfgs failed to converge (status=1):\n",
      "STOP: TOTAL NO. of ITERATIONS REACHED LIMIT.\n",
      "\n",
      "Increase the number of iterations (max_iter) or scale the data as shown in:\n",
      "    https://scikit-learn.org/stable/modules/preprocessing.html\n",
      "Please also refer to the documentation for alternative solver options:\n",
      "    https://scikit-learn.org/stable/modules/linear_model.html#logistic-regression\n",
      "  n_iter_i = _check_optimize_result(\n"
     ]
    },
    {
     "data": {
      "text/html": [
       "<style>#sk-container-id-1 {color: black;background-color: white;}#sk-container-id-1 pre{padding: 0;}#sk-container-id-1 div.sk-toggleable {background-color: white;}#sk-container-id-1 label.sk-toggleable__label {cursor: pointer;display: block;width: 100%;margin-bottom: 0;padding: 0.3em;box-sizing: border-box;text-align: center;}#sk-container-id-1 label.sk-toggleable__label-arrow:before {content: \"▸\";float: left;margin-right: 0.25em;color: #696969;}#sk-container-id-1 label.sk-toggleable__label-arrow:hover:before {color: black;}#sk-container-id-1 div.sk-estimator:hover label.sk-toggleable__label-arrow:before {color: black;}#sk-container-id-1 div.sk-toggleable__content {max-height: 0;max-width: 0;overflow: hidden;text-align: left;background-color: #f0f8ff;}#sk-container-id-1 div.sk-toggleable__content pre {margin: 0.2em;color: black;border-radius: 0.25em;background-color: #f0f8ff;}#sk-container-id-1 input.sk-toggleable__control:checked~div.sk-toggleable__content {max-height: 200px;max-width: 100%;overflow: auto;}#sk-container-id-1 input.sk-toggleable__control:checked~label.sk-toggleable__label-arrow:before {content: \"▾\";}#sk-container-id-1 div.sk-estimator input.sk-toggleable__control:checked~label.sk-toggleable__label {background-color: #d4ebff;}#sk-container-id-1 div.sk-label input.sk-toggleable__control:checked~label.sk-toggleable__label {background-color: #d4ebff;}#sk-container-id-1 input.sk-hidden--visually {border: 0;clip: rect(1px 1px 1px 1px);clip: rect(1px, 1px, 1px, 1px);height: 1px;margin: -1px;overflow: hidden;padding: 0;position: absolute;width: 1px;}#sk-container-id-1 div.sk-estimator {font-family: monospace;background-color: #f0f8ff;border: 1px dotted black;border-radius: 0.25em;box-sizing: border-box;margin-bottom: 0.5em;}#sk-container-id-1 div.sk-estimator:hover {background-color: #d4ebff;}#sk-container-id-1 div.sk-parallel-item::after {content: \"\";width: 100%;border-bottom: 1px solid gray;flex-grow: 1;}#sk-container-id-1 div.sk-label:hover label.sk-toggleable__label {background-color: #d4ebff;}#sk-container-id-1 div.sk-serial::before {content: \"\";position: absolute;border-left: 1px solid gray;box-sizing: border-box;top: 0;bottom: 0;left: 50%;z-index: 0;}#sk-container-id-1 div.sk-serial {display: flex;flex-direction: column;align-items: center;background-color: white;padding-right: 0.2em;padding-left: 0.2em;position: relative;}#sk-container-id-1 div.sk-item {position: relative;z-index: 1;}#sk-container-id-1 div.sk-parallel {display: flex;align-items: stretch;justify-content: center;background-color: white;position: relative;}#sk-container-id-1 div.sk-item::before, #sk-container-id-1 div.sk-parallel-item::before {content: \"\";position: absolute;border-left: 1px solid gray;box-sizing: border-box;top: 0;bottom: 0;left: 50%;z-index: -1;}#sk-container-id-1 div.sk-parallel-item {display: flex;flex-direction: column;z-index: 1;position: relative;background-color: white;}#sk-container-id-1 div.sk-parallel-item:first-child::after {align-self: flex-end;width: 50%;}#sk-container-id-1 div.sk-parallel-item:last-child::after {align-self: flex-start;width: 50%;}#sk-container-id-1 div.sk-parallel-item:only-child::after {width: 0;}#sk-container-id-1 div.sk-dashed-wrapped {border: 1px dashed gray;margin: 0 0.4em 0.5em 0.4em;box-sizing: border-box;padding-bottom: 0.4em;background-color: white;}#sk-container-id-1 div.sk-label label {font-family: monospace;font-weight: bold;display: inline-block;line-height: 1.2em;}#sk-container-id-1 div.sk-label-container {text-align: center;}#sk-container-id-1 div.sk-container {/* jupyter's `normalize.less` sets `[hidden] { display: none; }` but bootstrap.min.css set `[hidden] { display: none !important; }` so we also need the `!important` here to be able to override the default hidden behavior on the sphinx rendered scikit-learn.org. See: https://github.com/scikit-learn/scikit-learn/issues/21755 */display: inline-block !important;position: relative;}#sk-container-id-1 div.sk-text-repr-fallback {display: none;}</style><div id=\"sk-container-id-1\" class=\"sk-top-container\"><div class=\"sk-text-repr-fallback\"><pre>Pipeline(steps=[(&#x27;scale&#x27;, None), (&#x27;model&#x27;, LogisticRegression(C=0.1))])</pre><b>In a Jupyter environment, please rerun this cell to show the HTML representation or trust the notebook. <br />On GitHub, the HTML representation is unable to render, please try loading this page with nbviewer.org.</b></div><div class=\"sk-container\" hidden><div class=\"sk-item sk-dashed-wrapped\"><div class=\"sk-label-container\"><div class=\"sk-label sk-toggleable\"><input class=\"sk-toggleable__control sk-hidden--visually\" id=\"sk-estimator-id-1\" type=\"checkbox\" ><label for=\"sk-estimator-id-1\" class=\"sk-toggleable__label sk-toggleable__label-arrow\">Pipeline</label><div class=\"sk-toggleable__content\"><pre>Pipeline(steps=[(&#x27;scale&#x27;, None), (&#x27;model&#x27;, LogisticRegression(C=0.1))])</pre></div></div></div><div class=\"sk-serial\"><div class=\"sk-item\"><div class=\"sk-estimator sk-toggleable\"><input class=\"sk-toggleable__control sk-hidden--visually\" id=\"sk-estimator-id-2\" type=\"checkbox\" ><label for=\"sk-estimator-id-2\" class=\"sk-toggleable__label sk-toggleable__label-arrow\">None</label><div class=\"sk-toggleable__content\"><pre>None</pre></div></div></div><div class=\"sk-item\"><div class=\"sk-estimator sk-toggleable\"><input class=\"sk-toggleable__control sk-hidden--visually\" id=\"sk-estimator-id-3\" type=\"checkbox\" ><label for=\"sk-estimator-id-3\" class=\"sk-toggleable__label sk-toggleable__label-arrow\">LogisticRegression</label><div class=\"sk-toggleable__content\"><pre>LogisticRegression(C=0.1)</pre></div></div></div></div></div></div></div>"
      ],
      "text/plain": [
       "Pipeline(steps=[('scale', None), ('model', LogisticRegression(C=0.1))])"
      ]
     },
     "execution_count": 32,
     "metadata": {},
     "output_type": "execute_result"
    }
   ],
   "source": [
    "model.fit(X_train, y_train.values.ravel())"
   ]
  },
  {
   "cell_type": "code",
   "execution_count": 33,
   "id": "af59f8c0",
   "metadata": {
    "execution": {
     "iopub.execute_input": "2025-08-05T20:59:12.495256Z",
     "iopub.status.busy": "2025-08-05T20:59:12.494637Z",
     "iopub.status.idle": "2025-08-05T20:59:12.501180Z",
     "shell.execute_reply": "2025-08-05T20:59:12.500099Z"
    },
    "papermill": {
     "duration": 0.030733,
     "end_time": "2025-08-05T20:59:12.503316",
     "exception": false,
     "start_time": "2025-08-05T20:59:12.472583",
     "status": "completed"
    },
    "tags": []
   },
   "outputs": [],
   "source": [
    "from fairness_multiverse.universe import predict_w_threshold"
   ]
  },
  {
   "cell_type": "code",
   "execution_count": 34,
   "id": "a7cf2e16",
   "metadata": {
    "execution": {
     "iopub.execute_input": "2025-08-05T20:59:12.550187Z",
     "iopub.status.busy": "2025-08-05T20:59:12.549297Z",
     "iopub.status.idle": "2025-08-05T20:59:12.659485Z",
     "shell.execute_reply": "2025-08-05T20:59:12.658487Z"
    },
    "papermill": {
     "duration": 0.134213,
     "end_time": "2025-08-05T20:59:12.661344",
     "exception": false,
     "start_time": "2025-08-05T20:59:12.527131",
     "status": "completed"
    },
    "tags": []
   },
   "outputs": [
    {
     "data": {
      "text/plain": [
       "0.8599041355478765"
      ]
     },
     "execution_count": 34,
     "metadata": {},
     "output_type": "execute_result"
    }
   ],
   "source": [
    "probs_test = model.predict_proba(X_test)\n",
    "\n",
    "'''\n",
    "Below code returns a boolean array (or binary 0/1 array depending on how it’s used) where each element \n",
    "is True if the probability of class 1 is greater than or equal to the threshold, and False otherwise.\n",
    "'''\n",
    "y_pred_default = predict_w_threshold(probs_test, 0.5)\n",
    "\n",
    "from sklearn.metrics import accuracy_score\n",
    "\n",
    "# Naive prediction\n",
    "accuracy_score(y_true = y_true, y_pred = y_pred_default)"
   ]
  },
  {
   "cell_type": "code",
   "execution_count": 35,
   "id": "081964c3",
   "metadata": {
    "execution": {
     "iopub.execute_input": "2025-08-05T20:59:12.706366Z",
     "iopub.status.busy": "2025-08-05T20:59:12.705381Z",
     "iopub.status.idle": "2025-08-05T20:59:12.789862Z",
     "shell.execute_reply": "2025-08-05T20:59:12.789111Z"
    },
    "papermill": {
     "duration": 0.108276,
     "end_time": "2025-08-05T20:59:12.791051",
     "exception": false,
     "start_time": "2025-08-05T20:59:12.682775",
     "status": "completed"
    },
    "tags": []
   },
   "outputs": [
    {
     "data": {
      "text/plain": [
       "array([0, 0, 0, ..., 0, 0, 0])"
      ]
     },
     "execution_count": 35,
     "metadata": {},
     "output_type": "execute_result"
    }
   ],
   "source": [
    "model.predict(X_test)"
   ]
  },
  {
   "cell_type": "markdown",
   "id": "56c9705b",
   "metadata": {
    "papermill": {
     "duration": 0.010071,
     "end_time": "2025-08-05T20:59:12.812156",
     "exception": false,
     "start_time": "2025-08-05T20:59:12.802085",
     "status": "completed"
    },
    "tags": []
   },
   "source": [
    "# Conformal Prediction"
   ]
  },
  {
   "cell_type": "code",
   "execution_count": 36,
   "id": "160ec6ff",
   "metadata": {
    "execution": {
     "iopub.execute_input": "2025-08-05T20:59:12.838587Z",
     "iopub.status.busy": "2025-08-05T20:59:12.838262Z",
     "iopub.status.idle": "2025-08-05T20:59:12.843067Z",
     "shell.execute_reply": "2025-08-05T20:59:12.842066Z"
    },
    "papermill": {
     "duration": 0.01827,
     "end_time": "2025-08-05T20:59:12.845308",
     "exception": false,
     "start_time": "2025-08-05T20:59:12.827038",
     "status": "completed"
    },
    "tags": []
   },
   "outputs": [],
   "source": [
    "# Miscoverage level for conformal prediction (10% allowed error rate => 90% target coverage)\n",
    "alpha = 0.1"
   ]
  },
  {
   "cell_type": "code",
   "execution_count": 37,
   "id": "eadf4555-3dd3-440e-8e35-f82a4ad9f855",
   "metadata": {
    "execution": {
     "iopub.execute_input": "2025-08-05T20:59:12.894801Z",
     "iopub.status.busy": "2025-08-05T20:59:12.893696Z",
     "iopub.status.idle": "2025-08-05T20:59:13.000499Z",
     "shell.execute_reply": "2025-08-05T20:59:12.999350Z"
    },
    "papermill": {
     "duration": 0.133442,
     "end_time": "2025-08-05T20:59:13.002677",
     "exception": false,
     "start_time": "2025-08-05T20:59:12.869235",
     "status": "completed"
    },
    "tags": []
   },
   "outputs": [],
   "source": [
    "probs_calib = model.predict_proba(X_calib)"
   ]
  },
  {
   "cell_type": "code",
   "execution_count": 38,
   "id": "2ed93547-6d5d-4983-9b36-1ecb300da49a",
   "metadata": {
    "execution": {
     "iopub.execute_input": "2025-08-05T20:59:13.051446Z",
     "iopub.status.busy": "2025-08-05T20:59:13.050539Z",
     "iopub.status.idle": "2025-08-05T20:59:13.056648Z",
     "shell.execute_reply": "2025-08-05T20:59:13.055652Z"
    },
    "papermill": {
     "duration": 0.033651,
     "end_time": "2025-08-05T20:59:13.059084",
     "exception": false,
     "start_time": "2025-08-05T20:59:13.025433",
     "status": "completed"
    },
    "tags": []
   },
   "outputs": [],
   "source": [
    "y_calib = y_calib.values.ravel().astype(int)"
   ]
  },
  {
   "cell_type": "code",
   "execution_count": 39,
   "id": "65d1320d-f588-4b38-9072-62af1ae97f7d",
   "metadata": {
    "execution": {
     "iopub.execute_input": "2025-08-05T20:59:13.109555Z",
     "iopub.status.busy": "2025-08-05T20:59:13.108632Z",
     "iopub.status.idle": "2025-08-05T20:59:13.116542Z",
     "shell.execute_reply": "2025-08-05T20:59:13.115548Z"
    },
    "papermill": {
     "duration": 0.031405,
     "end_time": "2025-08-05T20:59:13.118267",
     "exception": false,
     "start_time": "2025-08-05T20:59:13.086862",
     "status": "completed"
    },
    "tags": []
   },
   "outputs": [],
   "source": [
    "from fairness_multiverse.conformal import compute_nc_scores\n",
    "\n",
    "# Compute nonconformity scores on calibration set (1 - probability of true class)\n",
    "nc_scores = compute_nc_scores(probs_calib, y_calib)"
   ]
  },
  {
   "cell_type": "code",
   "execution_count": 40,
   "id": "df3b8ca3-53b7-43d5-9667-7c85da7aeda2",
   "metadata": {
    "execution": {
     "iopub.execute_input": "2025-08-05T20:59:13.156527Z",
     "iopub.status.busy": "2025-08-05T20:59:13.156125Z",
     "iopub.status.idle": "2025-08-05T20:59:13.162871Z",
     "shell.execute_reply": "2025-08-05T20:59:13.161970Z"
    },
    "papermill": {
     "duration": 0.021674,
     "end_time": "2025-08-05T20:59:13.164505",
     "exception": false,
     "start_time": "2025-08-05T20:59:13.142831",
     "status": "completed"
    },
    "tags": []
   },
   "outputs": [],
   "source": [
    "from fairness_multiverse.conformal import find_threshold\n",
    "\n",
    "# Find conformal threshold q_hat for the given alpha (split conformal method)\n",
    "q_hat = find_threshold(nc_scores, alpha)"
   ]
  },
  {
   "cell_type": "code",
   "execution_count": 41,
   "id": "4d29e6c1-0ef6-4aa4-b8fe-4fe79b0d033a",
   "metadata": {
    "execution": {
     "iopub.execute_input": "2025-08-05T20:59:13.198037Z",
     "iopub.status.busy": "2025-08-05T20:59:13.197578Z",
     "iopub.status.idle": "2025-08-05T20:59:13.204262Z",
     "shell.execute_reply": "2025-08-05T20:59:13.203410Z"
    },
    "papermill": {
     "duration": 0.020512,
     "end_time": "2025-08-05T20:59:13.205745",
     "exception": false,
     "start_time": "2025-08-05T20:59:13.185233",
     "status": "completed"
    },
    "tags": []
   },
   "outputs": [
    {
     "data": {
      "text/plain": [
       "0.664192897750976"
      ]
     },
     "execution_count": 41,
     "metadata": {},
     "output_type": "execute_result"
    }
   ],
   "source": [
    "q_hat"
   ]
  },
  {
   "cell_type": "code",
   "execution_count": 42,
   "id": "92460794-cdac-4be2-ba28-f28c0515a6fb",
   "metadata": {
    "execution": {
     "iopub.execute_input": "2025-08-05T20:59:13.233488Z",
     "iopub.status.busy": "2025-08-05T20:59:13.232642Z",
     "iopub.status.idle": "2025-08-05T20:59:13.899800Z",
     "shell.execute_reply": "2025-08-05T20:59:13.899048Z"
    },
    "papermill": {
     "duration": 0.683047,
     "end_time": "2025-08-05T20:59:13.901265",
     "exception": false,
     "start_time": "2025-08-05T20:59:13.218218",
     "status": "completed"
    },
    "tags": []
   },
   "outputs": [],
   "source": [
    "from fairness_multiverse.conformal import predict_conformal_sets\n",
    "\n",
    "# Generate prediction sets for each test example\n",
    "pred_sets = predict_conformal_sets(model, X_test, q_hat)"
   ]
  },
  {
   "cell_type": "code",
   "execution_count": 43,
   "id": "d90c9a65-e6db-4f5d-80cd-e68fb7e46829",
   "metadata": {
    "execution": {
     "iopub.execute_input": "2025-08-05T20:59:13.931952Z",
     "iopub.status.busy": "2025-08-05T20:59:13.931368Z",
     "iopub.status.idle": "2025-08-05T20:59:13.937783Z",
     "shell.execute_reply": "2025-08-05T20:59:13.936697Z"
    },
    "papermill": {
     "duration": 0.028146,
     "end_time": "2025-08-05T20:59:13.943844",
     "exception": false,
     "start_time": "2025-08-05T20:59:13.915698",
     "status": "completed"
    },
    "tags": []
   },
   "outputs": [],
   "source": [
    "y_true = y_true.squeeze()"
   ]
  },
  {
   "cell_type": "code",
   "execution_count": 44,
   "id": "3a58a54a-1e68-46b9-927a-df01f18aebc8",
   "metadata": {
    "execution": {
     "iopub.execute_input": "2025-08-05T20:59:13.989362Z",
     "iopub.status.busy": "2025-08-05T20:59:13.988519Z",
     "iopub.status.idle": "2025-08-05T20:59:15.144126Z",
     "shell.execute_reply": "2025-08-05T20:59:15.143337Z"
    },
    "papermill": {
     "duration": 1.178605,
     "end_time": "2025-08-05T20:59:15.145604",
     "exception": false,
     "start_time": "2025-08-05T20:59:13.966999",
     "status": "completed"
    },
    "tags": []
   },
   "outputs": [],
   "source": [
    "from fairness_multiverse.conformal import evaluate_sets\n",
    "\n",
    "# Evaluate coverage and average set size on test data\n",
    "metrics = evaluate_sets(pred_sets, y_true)"
   ]
  },
  {
   "cell_type": "markdown",
   "id": "2b569c12-9aaa-4c88-98c9-bbcd0cf3ebb8",
   "metadata": {
    "papermill": {
     "duration": 0.014974,
     "end_time": "2025-08-05T20:59:15.171951",
     "exception": false,
     "start_time": "2025-08-05T20:59:15.156977",
     "status": "completed"
    },
    "tags": []
   },
   "source": [
    "# CP Metrics"
   ]
  },
  {
   "cell_type": "code",
   "execution_count": 45,
   "id": "5ce0a5cb-201f-45a0-ade5-94c7f0bd6095",
   "metadata": {
    "execution": {
     "iopub.execute_input": "2025-08-05T20:59:15.197198Z",
     "iopub.status.busy": "2025-08-05T20:59:15.196356Z",
     "iopub.status.idle": "2025-08-05T20:59:15.202878Z",
     "shell.execute_reply": "2025-08-05T20:59:15.202087Z"
    },
    "papermill": {
     "duration": 0.020466,
     "end_time": "2025-08-05T20:59:15.204171",
     "exception": false,
     "start_time": "2025-08-05T20:59:15.183705",
     "status": "completed"
    },
    "tags": []
   },
   "outputs": [
    {
     "data": {
      "text/plain": [
       "{'coverage': 0.9116486456359381, 'avg_size': 1.2131423475643741}"
      ]
     },
     "execution_count": 45,
     "metadata": {},
     "output_type": "execute_result"
    }
   ],
   "source": [
    "metrics"
   ]
  },
  {
   "cell_type": "code",
   "execution_count": 46,
   "id": "9b9a838d-31c9-430b-ae14-12baee460d17",
   "metadata": {
    "execution": {
     "iopub.execute_input": "2025-08-05T20:59:15.252690Z",
     "iopub.status.busy": "2025-08-05T20:59:15.252164Z",
     "iopub.status.idle": "2025-08-05T20:59:15.260843Z",
     "shell.execute_reply": "2025-08-05T20:59:15.259590Z"
    },
    "papermill": {
     "duration": 0.045039,
     "end_time": "2025-08-05T20:59:15.263340",
     "exception": false,
     "start_time": "2025-08-05T20:59:15.218301",
     "status": "completed"
    },
    "tags": []
   },
   "outputs": [],
   "source": [
    "example_universe = universe.copy()\n",
    "universe_training_year = example_universe.get(\"training_year\")\n",
    "universe_training_size = example_universe.get(\"training_size\")\n",
    "universe_scale = example_universe.get(\"scale\")\n",
    "universe_model = example_universe.get(\"model\")\n",
    "universe_exclude_features = example_universe.get(\"exclude_features\")\n",
    "universe_exclude_subgroups = example_universe.get(\"exclude_subgroups\")"
   ]
  },
  {
   "cell_type": "code",
   "execution_count": 47,
   "id": "f4b6a8ac-9dc0-4245-8a91-5b3b5999c4f9",
   "metadata": {
    "execution": {
     "iopub.execute_input": "2025-08-05T20:59:15.319666Z",
     "iopub.status.busy": "2025-08-05T20:59:15.319225Z",
     "iopub.status.idle": "2025-08-05T20:59:15.326881Z",
     "shell.execute_reply": "2025-08-05T20:59:15.325763Z"
    },
    "papermill": {
     "duration": 0.030575,
     "end_time": "2025-08-05T20:59:15.328716",
     "exception": false,
     "start_time": "2025-08-05T20:59:15.298141",
     "status": "completed"
    },
    "tags": []
   },
   "outputs": [],
   "source": [
    "cp_metrics_dict = {\n",
    "    \"universe_id\": [universe_id],\n",
    "    \"universe_training_year\": [universe_training_year],\n",
    "    \"universe_training_size\": [universe_training_size],\n",
    "    \"universe_scale\": [universe_scale],\n",
    "    \"universe_model\": [universe_model],\n",
    "    \"universe_exclude_features\": [universe_exclude_features],\n",
    "    \"universe_exclude_subgroups\": [universe_exclude_subgroups],\n",
    "    \"q_hat\": [q_hat],\n",
    "    \"coverage\": [metrics[\"coverage\"]],\n",
    "    \"avg_size\": [metrics[\"avg_size\"]],\n",
    "}"
   ]
  },
  {
   "cell_type": "code",
   "execution_count": 48,
   "id": "908acbb1-0371-4915-85ca-3fa520d2efe2",
   "metadata": {
    "execution": {
     "iopub.execute_input": "2025-08-05T20:59:15.371427Z",
     "iopub.status.busy": "2025-08-05T20:59:15.370975Z",
     "iopub.status.idle": "2025-08-05T20:59:15.378326Z",
     "shell.execute_reply": "2025-08-05T20:59:15.377502Z"
    },
    "papermill": {
     "duration": 0.026297,
     "end_time": "2025-08-05T20:59:15.379604",
     "exception": false,
     "start_time": "2025-08-05T20:59:15.353307",
     "status": "completed"
    },
    "tags": []
   },
   "outputs": [
    {
     "data": {
      "text/plain": [
       "{'universe_id': ['a2f5523e3ed2d38970f3d0f03cb70615'],\n",
       " 'universe_training_year': ['2012_14'],\n",
       " 'universe_training_size': ['25k'],\n",
       " 'universe_scale': ['do-not-scale'],\n",
       " 'universe_model': ['penalized_logreg'],\n",
       " 'universe_exclude_features': ['nationality-sex'],\n",
       " 'universe_exclude_subgroups': ['drop-non-german'],\n",
       " 'q_hat': [0.664192897750976],\n",
       " 'coverage': [0.9116486456359381],\n",
       " 'avg_size': [1.2131423475643741]}"
      ]
     },
     "execution_count": 48,
     "metadata": {},
     "output_type": "execute_result"
    }
   ],
   "source": [
    "cp_metrics_dict"
   ]
  },
  {
   "cell_type": "code",
   "execution_count": 49,
   "id": "33007efc-14e9-4ec6-97ac-56a455c82265",
   "metadata": {
    "execution": {
     "iopub.execute_input": "2025-08-05T20:59:15.406701Z",
     "iopub.status.busy": "2025-08-05T20:59:15.405827Z",
     "iopub.status.idle": "2025-08-05T20:59:15.411379Z",
     "shell.execute_reply": "2025-08-05T20:59:15.410645Z"
    },
    "papermill": {
     "duration": 0.019991,
     "end_time": "2025-08-05T20:59:15.412892",
     "exception": false,
     "start_time": "2025-08-05T20:59:15.392901",
     "status": "completed"
    },
    "tags": []
   },
   "outputs": [],
   "source": [
    "cp_metrics_df = pd.DataFrame(cp_metrics_dict)"
   ]
  },
  {
   "cell_type": "code",
   "execution_count": 50,
   "id": "db12611b-57b2-4910-b9d0-355adfd6e7bf",
   "metadata": {
    "execution": {
     "iopub.execute_input": "2025-08-05T20:59:15.439266Z",
     "iopub.status.busy": "2025-08-05T20:59:15.438724Z",
     "iopub.status.idle": "2025-08-05T20:59:15.454823Z",
     "shell.execute_reply": "2025-08-05T20:59:15.453664Z"
    },
    "papermill": {
     "duration": 0.030977,
     "end_time": "2025-08-05T20:59:15.456761",
     "exception": false,
     "start_time": "2025-08-05T20:59:15.425784",
     "status": "completed"
    },
    "tags": []
   },
   "outputs": [
    {
     "data": {
      "text/html": [
       "<div>\n",
       "<style scoped>\n",
       "    .dataframe tbody tr th:only-of-type {\n",
       "        vertical-align: middle;\n",
       "    }\n",
       "\n",
       "    .dataframe tbody tr th {\n",
       "        vertical-align: top;\n",
       "    }\n",
       "\n",
       "    .dataframe thead th {\n",
       "        text-align: right;\n",
       "    }\n",
       "</style>\n",
       "<table border=\"1\" class=\"dataframe\">\n",
       "  <thead>\n",
       "    <tr style=\"text-align: right;\">\n",
       "      <th></th>\n",
       "      <th>universe_id</th>\n",
       "      <th>universe_training_year</th>\n",
       "      <th>universe_training_size</th>\n",
       "      <th>universe_scale</th>\n",
       "      <th>universe_model</th>\n",
       "      <th>universe_exclude_features</th>\n",
       "      <th>universe_exclude_subgroups</th>\n",
       "      <th>q_hat</th>\n",
       "      <th>coverage</th>\n",
       "      <th>avg_size</th>\n",
       "    </tr>\n",
       "  </thead>\n",
       "  <tbody>\n",
       "    <tr>\n",
       "      <th>0</th>\n",
       "      <td>a2f5523e3ed2d38970f3d0f03cb70615</td>\n",
       "      <td>2012_14</td>\n",
       "      <td>25k</td>\n",
       "      <td>do-not-scale</td>\n",
       "      <td>penalized_logreg</td>\n",
       "      <td>nationality-sex</td>\n",
       "      <td>drop-non-german</td>\n",
       "      <td>0.664193</td>\n",
       "      <td>0.911649</td>\n",
       "      <td>1.213142</td>\n",
       "    </tr>\n",
       "  </tbody>\n",
       "</table>\n",
       "</div>"
      ],
      "text/plain": [
       "                        universe_id universe_training_year  \\\n",
       "0  a2f5523e3ed2d38970f3d0f03cb70615                2012_14   \n",
       "\n",
       "  universe_training_size universe_scale    universe_model  \\\n",
       "0                    25k   do-not-scale  penalized_logreg   \n",
       "\n",
       "  universe_exclude_features universe_exclude_subgroups     q_hat  coverage  \\\n",
       "0           nationality-sex            drop-non-german  0.664193  0.911649   \n",
       "\n",
       "   avg_size  \n",
       "0  1.213142  "
      ]
     },
     "execution_count": 50,
     "metadata": {},
     "output_type": "execute_result"
    }
   ],
   "source": [
    "cp_metrics_df"
   ]
  },
  {
   "cell_type": "code",
   "execution_count": 51,
   "id": "b7fbde55-a0a1-47e4-9af6-fe4a17fa8c61",
   "metadata": {
    "execution": {
     "iopub.execute_input": "2025-08-05T20:59:15.508389Z",
     "iopub.status.busy": "2025-08-05T20:59:15.507876Z",
     "iopub.status.idle": "2025-08-05T20:59:15.513497Z",
     "shell.execute_reply": "2025-08-05T20:59:15.512524Z"
    },
    "papermill": {
     "duration": 0.033367,
     "end_time": "2025-08-05T20:59:15.515147",
     "exception": false,
     "start_time": "2025-08-05T20:59:15.481780",
     "status": "completed"
    },
    "tags": []
   },
   "outputs": [],
   "source": [
    "# Conditional Coverage & looking at subgroups"
   ]
  },
  {
   "cell_type": "code",
   "execution_count": 52,
   "id": "027ae886-68dd-4141-96c7-805a5450e1ef",
   "metadata": {
    "execution": {
     "iopub.execute_input": "2025-08-05T20:59:15.568994Z",
     "iopub.status.busy": "2025-08-05T20:59:15.567925Z",
     "iopub.status.idle": "2025-08-05T20:59:15.863700Z",
     "shell.execute_reply": "2025-08-05T20:59:15.862462Z"
    },
    "papermill": {
     "duration": 0.325363,
     "end_time": "2025-08-05T20:59:15.866357",
     "exception": false,
     "start_time": "2025-08-05T20:59:15.540994",
     "status": "completed"
    },
    "tags": []
   },
   "outputs": [],
   "source": [
    "from fairness_multiverse.conformal import build_cp_groups\n",
    "\n",
    "cp_groups_df = build_cp_groups(pred_sets, y_true, X_test.index, org_test)\n",
    "#needs universe_id and setting"
   ]
  },
  {
   "cell_type": "code",
   "execution_count": 53,
   "id": "6cbdab96-b2b2-45af-ad54-d0516db2e28d",
   "metadata": {
    "execution": {
     "iopub.execute_input": "2025-08-05T20:59:15.921456Z",
     "iopub.status.busy": "2025-08-05T20:59:15.920708Z",
     "iopub.status.idle": "2025-08-05T20:59:17.484778Z",
     "shell.execute_reply": "2025-08-05T20:59:17.483595Z"
    },
    "papermill": {
     "duration": 1.593201,
     "end_time": "2025-08-05T20:59:17.487462",
     "exception": false,
     "start_time": "2025-08-05T20:59:15.894261",
     "status": "completed"
    },
    "tags": []
   },
   "outputs": [],
   "source": [
    "# Define covered = 1 if true_label is in the predicted set\n",
    "cp_groups_df['covered'] = cp_groups_df.apply(\n",
    "    lambda r: int(r['true_label'] in r['pred_set']),\n",
    "    axis=1\n",
    ")"
   ]
  },
  {
   "cell_type": "code",
   "execution_count": 54,
   "id": "338ff529-1a6b-4b87-a931-8e4788d52aad",
   "metadata": {
    "execution": {
     "iopub.execute_input": "2025-08-05T20:59:17.541106Z",
     "iopub.status.busy": "2025-08-05T20:59:17.540343Z",
     "iopub.status.idle": "2025-08-05T20:59:17.545771Z",
     "shell.execute_reply": "2025-08-05T20:59:17.544780Z"
    },
    "papermill": {
     "duration": 0.032499,
     "end_time": "2025-08-05T20:59:17.547853",
     "exception": false,
     "start_time": "2025-08-05T20:59:17.515354",
     "status": "completed"
    },
    "tags": []
   },
   "outputs": [],
   "source": [
    "#cp_groups_df"
   ]
  },
  {
   "cell_type": "code",
   "execution_count": 55,
   "id": "90032e27-66df-4540-9169-4e89cfbaa758",
   "metadata": {
    "execution": {
     "iopub.execute_input": "2025-08-05T20:59:17.595965Z",
     "iopub.status.busy": "2025-08-05T20:59:17.595559Z",
     "iopub.status.idle": "2025-08-05T20:59:17.607337Z",
     "shell.execute_reply": "2025-08-05T20:59:17.606365Z"
    },
    "papermill": {
     "duration": 0.035908,
     "end_time": "2025-08-05T20:59:17.609089",
     "exception": false,
     "start_time": "2025-08-05T20:59:17.573181",
     "status": "completed"
    },
    "tags": []
   },
   "outputs": [],
   "source": [
    "subgroups = ['frau1','nongerman','nongerman_male','nongerman_female']\n",
    "\n",
    "# Conditional coverage for subgroup==1\n",
    "cond_coverage = {\n",
    "    g: cp_groups_df.loc[cp_groups_df[g]==1, 'covered'].mean()\n",
    "    for g in subgroups\n",
    "}"
   ]
  },
  {
   "cell_type": "code",
   "execution_count": 56,
   "id": "1e348fb1-b9c3-45bc-ba23-f016827a7e0d",
   "metadata": {
    "execution": {
     "iopub.execute_input": "2025-08-05T20:59:17.657337Z",
     "iopub.status.busy": "2025-08-05T20:59:17.656656Z",
     "iopub.status.idle": "2025-08-05T20:59:17.664087Z",
     "shell.execute_reply": "2025-08-05T20:59:17.662824Z"
    },
    "papermill": {
     "duration": 0.036262,
     "end_time": "2025-08-05T20:59:17.667334",
     "exception": false,
     "start_time": "2025-08-05T20:59:17.631072",
     "status": "completed"
    },
    "tags": []
   },
   "outputs": [
    {
     "data": {
      "text/plain": [
       "{'frau1': 0.911200970481197,\n",
       " 'nongerman': 0.9367316005164767,\n",
       " 'nongerman_male': 0.9477618661622985,\n",
       " 'nongerman_female': 0.9184798807749628}"
      ]
     },
     "execution_count": 56,
     "metadata": {},
     "output_type": "execute_result"
    }
   ],
   "source": [
    "cond_coverage"
   ]
  },
  {
   "cell_type": "code",
   "execution_count": 57,
   "id": "f5093324-c3dd-4d63-bc4c-8d945e5c8bbb",
   "metadata": {
    "execution": {
     "iopub.execute_input": "2025-08-05T20:59:17.719627Z",
     "iopub.status.busy": "2025-08-05T20:59:17.718738Z",
     "iopub.status.idle": "2025-08-05T20:59:17.726424Z",
     "shell.execute_reply": "2025-08-05T20:59:17.725413Z"
    },
    "papermill": {
     "duration": 0.035197,
     "end_time": "2025-08-05T20:59:17.728264",
     "exception": false,
     "start_time": "2025-08-05T20:59:17.693067",
     "status": "completed"
    },
    "tags": []
   },
   "outputs": [],
   "source": [
    "for subgroup, cov in cond_coverage.items():\n",
    "    cp_metrics_df[f\"cov_{subgroup}\"] = cov"
   ]
  },
  {
   "cell_type": "code",
   "execution_count": 58,
   "id": "6e872e10-dbe5-49e8-b554-5030c98ff75d",
   "metadata": {
    "execution": {
     "iopub.execute_input": "2025-08-05T20:59:17.777894Z",
     "iopub.status.busy": "2025-08-05T20:59:17.777319Z",
     "iopub.status.idle": "2025-08-05T20:59:17.797098Z",
     "shell.execute_reply": "2025-08-05T20:59:17.796079Z"
    },
    "papermill": {
     "duration": 0.046798,
     "end_time": "2025-08-05T20:59:17.799010",
     "exception": false,
     "start_time": "2025-08-05T20:59:17.752212",
     "status": "completed"
    },
    "tags": []
   },
   "outputs": [
    {
     "data": {
      "text/html": [
       "<div>\n",
       "<style scoped>\n",
       "    .dataframe tbody tr th:only-of-type {\n",
       "        vertical-align: middle;\n",
       "    }\n",
       "\n",
       "    .dataframe tbody tr th {\n",
       "        vertical-align: top;\n",
       "    }\n",
       "\n",
       "    .dataframe thead th {\n",
       "        text-align: right;\n",
       "    }\n",
       "</style>\n",
       "<table border=\"1\" class=\"dataframe\">\n",
       "  <thead>\n",
       "    <tr style=\"text-align: right;\">\n",
       "      <th></th>\n",
       "      <th>universe_id</th>\n",
       "      <th>universe_training_year</th>\n",
       "      <th>universe_training_size</th>\n",
       "      <th>universe_scale</th>\n",
       "      <th>universe_model</th>\n",
       "      <th>universe_exclude_features</th>\n",
       "      <th>universe_exclude_subgroups</th>\n",
       "      <th>q_hat</th>\n",
       "      <th>coverage</th>\n",
       "      <th>avg_size</th>\n",
       "      <th>cov_frau1</th>\n",
       "      <th>cov_nongerman</th>\n",
       "      <th>cov_nongerman_male</th>\n",
       "      <th>cov_nongerman_female</th>\n",
       "    </tr>\n",
       "  </thead>\n",
       "  <tbody>\n",
       "    <tr>\n",
       "      <th>0</th>\n",
       "      <td>a2f5523e3ed2d38970f3d0f03cb70615</td>\n",
       "      <td>2012_14</td>\n",
       "      <td>25k</td>\n",
       "      <td>do-not-scale</td>\n",
       "      <td>penalized_logreg</td>\n",
       "      <td>nationality-sex</td>\n",
       "      <td>drop-non-german</td>\n",
       "      <td>0.664193</td>\n",
       "      <td>0.911649</td>\n",
       "      <td>1.213142</td>\n",
       "      <td>0.911201</td>\n",
       "      <td>0.936732</td>\n",
       "      <td>0.947762</td>\n",
       "      <td>0.91848</td>\n",
       "    </tr>\n",
       "  </tbody>\n",
       "</table>\n",
       "</div>"
      ],
      "text/plain": [
       "                        universe_id universe_training_year  \\\n",
       "0  a2f5523e3ed2d38970f3d0f03cb70615                2012_14   \n",
       "\n",
       "  universe_training_size universe_scale    universe_model  \\\n",
       "0                    25k   do-not-scale  penalized_logreg   \n",
       "\n",
       "  universe_exclude_features universe_exclude_subgroups     q_hat  coverage  \\\n",
       "0           nationality-sex            drop-non-german  0.664193  0.911649   \n",
       "\n",
       "   avg_size  cov_frau1  cov_nongerman  cov_nongerman_male  \\\n",
       "0  1.213142   0.911201       0.936732            0.947762   \n",
       "\n",
       "   cov_nongerman_female  \n",
       "0               0.91848  "
      ]
     },
     "execution_count": 58,
     "metadata": {},
     "output_type": "execute_result"
    }
   ],
   "source": [
    "cp_metrics_df"
   ]
  },
  {
   "cell_type": "markdown",
   "id": "33774451",
   "metadata": {
    "papermill": {
     "duration": 0.024071,
     "end_time": "2025-08-05T20:59:17.847486",
     "exception": false,
     "start_time": "2025-08-05T20:59:17.823415",
     "status": "completed"
    },
    "tags": []
   },
   "source": [
    "# (Fairness) Metrics"
   ]
  },
  {
   "cell_type": "code",
   "execution_count": 59,
   "id": "debc5d62",
   "metadata": {
    "execution": {
     "iopub.execute_input": "2025-08-05T20:59:17.899698Z",
     "iopub.status.busy": "2025-08-05T20:59:17.899129Z",
     "iopub.status.idle": "2025-08-05T20:59:17.920233Z",
     "shell.execute_reply": "2025-08-05T20:59:17.919276Z"
    },
    "papermill": {
     "duration": 0.04997,
     "end_time": "2025-08-05T20:59:17.922142",
     "exception": false,
     "start_time": "2025-08-05T20:59:17.872172",
     "status": "completed"
    },
    "tags": []
   },
   "outputs": [],
   "source": [
    "# do I need to include maxdeutsch1.missing?\n",
    "\n",
    "import numpy as np\n",
    "\n",
    "colname_to_bin = \"maxdeutsch1\"\n",
    "majority_value = org_train[colname_to_bin].mode()[0]\n",
    "\n",
    "org_test[\"majmin\"] = np.where(org_test[colname_to_bin] == majority_value, \"majority\", \"minority\")"
   ]
  },
  {
   "cell_type": "code",
   "execution_count": 60,
   "id": "06a50de5",
   "metadata": {
    "execution": {
     "iopub.execute_input": "2025-08-05T20:59:17.953669Z",
     "iopub.status.busy": "2025-08-05T20:59:17.953197Z",
     "iopub.status.idle": "2025-08-05T20:59:20.225748Z",
     "shell.execute_reply": "2025-08-05T20:59:20.224729Z"
    },
    "papermill": {
     "duration": 2.287689,
     "end_time": "2025-08-05T20:59:20.227708",
     "exception": false,
     "start_time": "2025-08-05T20:59:17.940019",
     "status": "completed"
    },
    "tags": []
   },
   "outputs": [],
   "source": [
    "example_universe = universe.copy()\n",
    "example_universe[\"cutoff\"] = example_universe[\"cutoff\"][0]\n",
    "example_universe[\"eval_fairness_grouping\"] = example_universe[\"eval_fairness_grouping\"][0]\n",
    "fairness_dict, metric_frame = universe_analysis.compute_metrics(\n",
    "    example_universe,\n",
    "    y_pred_prob=probs_test,\n",
    "    y_test=y_true,\n",
    "    org_test=org_test,\n",
    ")"
   ]
  },
  {
   "cell_type": "markdown",
   "id": "f95d4e02",
   "metadata": {
    "papermill": {
     "duration": 0.022087,
     "end_time": "2025-08-05T20:59:20.272523",
     "exception": false,
     "start_time": "2025-08-05T20:59:20.250436",
     "status": "completed"
    },
    "tags": []
   },
   "source": [
    "# Overall"
   ]
  },
  {
   "cell_type": "markdown",
   "id": "bdee4871",
   "metadata": {
    "papermill": {
     "duration": 0.023148,
     "end_time": "2025-08-05T20:59:20.320894",
     "exception": false,
     "start_time": "2025-08-05T20:59:20.297746",
     "status": "completed"
    },
    "tags": []
   },
   "source": [
    "Fairness\n",
    "Main fairness target: Equalized Odds. Seems to be a better fit than equal opportunity, since we're not only interested in Y = 1. Seems to be a better fit than demographic parity, since we also care about accuracy, not just equal distribution of preds.\n",
    "\n",
    "Pick column for computation of fairness metrics\n",
    "\n",
    "Performance\n",
    "Overall performance measures, most interesting in relation to the measures split by group below"
   ]
  },
  {
   "cell_type": "code",
   "execution_count": 61,
   "id": "c4e067c6",
   "metadata": {
    "execution": {
     "iopub.execute_input": "2025-08-05T20:59:20.367797Z",
     "iopub.status.busy": "2025-08-05T20:59:20.367293Z",
     "iopub.status.idle": "2025-08-05T20:59:20.377040Z",
     "shell.execute_reply": "2025-08-05T20:59:20.376026Z"
    },
    "papermill": {
     "duration": 0.035705,
     "end_time": "2025-08-05T20:59:20.378815",
     "exception": false,
     "start_time": "2025-08-05T20:59:20.343110",
     "status": "completed"
    },
    "tags": []
   },
   "outputs": [
    {
     "data": {
      "text/plain": [
       "accuracy                   0.218337\n",
       "balanced accuracy          0.535128\n",
       "f1                         0.239834\n",
       "precision                  0.137009\n",
       "false positive rate        0.890987\n",
       "false negative rate        0.038756\n",
       "selection rate             0.900000\n",
       "count                  89710.000000\n",
       "dtype: float64"
      ]
     },
     "execution_count": 61,
     "metadata": {},
     "output_type": "execute_result"
    }
   ],
   "source": [
    "metric_frame.overall"
   ]
  },
  {
   "cell_type": "markdown",
   "id": "e968fe9d",
   "metadata": {
    "papermill": {
     "duration": 0.021853,
     "end_time": "2025-08-05T20:59:20.423798",
     "exception": false,
     "start_time": "2025-08-05T20:59:20.401945",
     "status": "completed"
    },
    "tags": []
   },
   "source": [
    "By Group"
   ]
  },
  {
   "cell_type": "code",
   "execution_count": 62,
   "id": "ec325bce",
   "metadata": {
    "execution": {
     "iopub.execute_input": "2025-08-05T20:59:20.468040Z",
     "iopub.status.busy": "2025-08-05T20:59:20.467201Z",
     "iopub.status.idle": "2025-08-05T20:59:20.484433Z",
     "shell.execute_reply": "2025-08-05T20:59:20.483458Z"
    },
    "papermill": {
     "duration": 0.041606,
     "end_time": "2025-08-05T20:59:20.486275",
     "exception": false,
     "start_time": "2025-08-05T20:59:20.444669",
     "status": "completed"
    },
    "tags": []
   },
   "outputs": [
    {
     "data": {
      "text/html": [
       "<div>\n",
       "<style scoped>\n",
       "    .dataframe tbody tr th:only-of-type {\n",
       "        vertical-align: middle;\n",
       "    }\n",
       "\n",
       "    .dataframe tbody tr th {\n",
       "        vertical-align: top;\n",
       "    }\n",
       "\n",
       "    .dataframe thead th {\n",
       "        text-align: right;\n",
       "    }\n",
       "</style>\n",
       "<table border=\"1\" class=\"dataframe\">\n",
       "  <thead>\n",
       "    <tr style=\"text-align: right;\">\n",
       "      <th></th>\n",
       "      <th>accuracy</th>\n",
       "      <th>balanced accuracy</th>\n",
       "      <th>f1</th>\n",
       "      <th>precision</th>\n",
       "      <th>false positive rate</th>\n",
       "      <th>false negative rate</th>\n",
       "      <th>selection rate</th>\n",
       "      <th>count</th>\n",
       "    </tr>\n",
       "    <tr>\n",
       "      <th>majmin</th>\n",
       "      <th></th>\n",
       "      <th></th>\n",
       "      <th></th>\n",
       "      <th></th>\n",
       "      <th></th>\n",
       "      <th></th>\n",
       "      <th></th>\n",
       "      <th></th>\n",
       "    </tr>\n",
       "  </thead>\n",
       "  <tbody>\n",
       "    <tr>\n",
       "      <th>majority</th>\n",
       "      <td>0.240957</td>\n",
       "      <td>0.543541</td>\n",
       "      <td>0.249496</td>\n",
       "      <td>0.143496</td>\n",
       "      <td>0.867733</td>\n",
       "      <td>0.045186</td>\n",
       "      <td>0.879240</td>\n",
       "      <td>69170.0</td>\n",
       "    </tr>\n",
       "    <tr>\n",
       "      <th>minority</th>\n",
       "      <td>0.142162</td>\n",
       "      <td>0.509128</td>\n",
       "      <td>0.209511</td>\n",
       "      <td>0.117207</td>\n",
       "      <td>0.967808</td>\n",
       "      <td>0.013936</td>\n",
       "      <td>0.969912</td>\n",
       "      <td>20540.0</td>\n",
       "    </tr>\n",
       "  </tbody>\n",
       "</table>\n",
       "</div>"
      ],
      "text/plain": [
       "          accuracy  balanced accuracy        f1  precision  \\\n",
       "majmin                                                       \n",
       "majority  0.240957           0.543541  0.249496   0.143496   \n",
       "minority  0.142162           0.509128  0.209511   0.117207   \n",
       "\n",
       "          false positive rate  false negative rate  selection rate    count  \n",
       "majmin                                                                       \n",
       "majority             0.867733             0.045186        0.879240  69170.0  \n",
       "minority             0.967808             0.013936        0.969912  20540.0  "
      ]
     },
     "execution_count": 62,
     "metadata": {},
     "output_type": "execute_result"
    }
   ],
   "source": [
    "metric_frame.by_group"
   ]
  },
  {
   "cell_type": "code",
   "execution_count": 63,
   "id": "a9ddbe63",
   "metadata": {
    "execution": {
     "iopub.execute_input": "2025-08-05T20:59:20.533567Z",
     "iopub.status.busy": "2025-08-05T20:59:20.532621Z",
     "iopub.status.idle": "2025-08-05T20:59:23.166243Z",
     "shell.execute_reply": "2025-08-05T20:59:23.165279Z"
    },
    "papermill": {
     "duration": 2.658471,
     "end_time": "2025-08-05T20:59:23.167920",
     "exception": false,
     "start_time": "2025-08-05T20:59:20.509449",
     "status": "completed"
    },
    "tags": []
   },
   "outputs": [
    {
     "data": {
      "text/plain": [
       "array([[<Axes: title={'center': 'accuracy'}, xlabel='majmin'>,\n",
       "        <Axes: title={'center': 'balanced accuracy'}, xlabel='majmin'>,\n",
       "        <Axes: title={'center': 'f1'}, xlabel='majmin'>],\n",
       "       [<Axes: title={'center': 'precision'}, xlabel='majmin'>,\n",
       "        <Axes: title={'center': 'false positive rate'}, xlabel='majmin'>,\n",
       "        <Axes: title={'center': 'false negative rate'}, xlabel='majmin'>],\n",
       "       [<Axes: title={'center': 'selection rate'}, xlabel='majmin'>,\n",
       "        <Axes: title={'center': 'count'}, xlabel='majmin'>,\n",
       "        <Axes: xlabel='majmin'>]], dtype=object)"
      ]
     },
     "execution_count": 63,
     "metadata": {},
     "output_type": "execute_result"
    },
    {
     "data": {
      "image/png": "[encoded data removed]",
      "text/plain": [
       "<Figure size 1200x800 with 9 Axes>"
      ]
     },
     "metadata": {},
     "output_type": "display_data"
    }
   ],
   "source": [
    "# In a graphic\n",
    "metric_frame.by_group.plot.bar(\n",
    "    subplots=True,\n",
    "    layout=[3, 3],\n",
    "    legend=False,\n",
    "    figsize=[12, 8],\n",
    "    title=\"Show all metrics\",\n",
    ")"
   ]
  },
  {
   "cell_type": "markdown",
   "id": "f57a0bac",
   "metadata": {
    "papermill": {
     "duration": 0.022432,
     "end_time": "2025-08-05T20:59:23.216905",
     "exception": false,
     "start_time": "2025-08-05T20:59:23.194473",
     "status": "completed"
    },
    "tags": []
   },
   "source": [
    "# Final Output"
   ]
  },
  {
   "cell_type": "code",
   "execution_count": 64,
   "id": "96d280a3",
   "metadata": {
    "execution": {
     "iopub.execute_input": "2025-08-05T20:59:23.267430Z",
     "iopub.status.busy": "2025-08-05T20:59:23.266402Z",
     "iopub.status.idle": "2025-08-05T20:59:23.275123Z",
     "shell.execute_reply": "2025-08-05T20:59:23.274007Z"
    },
    "papermill": {
     "duration": 0.034985,
     "end_time": "2025-08-05T20:59:23.276779",
     "exception": false,
     "start_time": "2025-08-05T20:59:23.241794",
     "status": "completed"
    },
    "tags": []
   },
   "outputs": [
    {
     "data": {
      "text/plain": [
       "4"
      ]
     },
     "execution_count": 64,
     "metadata": {},
     "output_type": "execute_result"
    }
   ],
   "source": [
    "sub_universes = universe_analysis.generate_sub_universes()\n",
    "len(sub_universes)"
   ]
  },
  {
   "cell_type": "code",
   "execution_count": 65,
   "id": "92adf7ba",
   "metadata": {
    "execution": {
     "iopub.execute_input": "2025-08-05T20:59:23.325144Z",
     "iopub.status.busy": "2025-08-05T20:59:23.324646Z",
     "iopub.status.idle": "2025-08-05T20:59:23.330618Z",
     "shell.execute_reply": "2025-08-05T20:59:23.329638Z"
    },
    "papermill": {
     "duration": 0.03154,
     "end_time": "2025-08-05T20:59:23.332455",
     "exception": false,
     "start_time": "2025-08-05T20:59:23.300915",
     "status": "completed"
    },
    "tags": []
   },
   "outputs": [],
   "source": [
    "def filter_sub_universe_data(sub_universe, org_test):\n",
    "    # Keep all rows — no filtering\n",
    "    keep_rows_mask = np.ones(org_test.shape[0], dtype=bool)\n",
    "\n",
    "    print(f\"[INFO] Keeping all rows: {keep_rows_mask.sum()} rows retained.\")\n",
    "    return keep_rows_mask"
   ]
  },
  {
   "cell_type": "code",
   "execution_count": 66,
   "id": "4a759155",
   "metadata": {
    "execution": {
     "iopub.execute_input": "2025-08-05T20:59:23.384363Z",
     "iopub.status.busy": "2025-08-05T20:59:23.383761Z",
     "iopub.status.idle": "2025-08-05T20:59:31.432302Z",
     "shell.execute_reply": "2025-08-05T20:59:31.431600Z"
    },
    "papermill": {
     "duration": 8.074386,
     "end_time": "2025-08-05T20:59:31.433565",
     "exception": false,
     "start_time": "2025-08-05T20:59:23.359179",
     "status": "completed"
    },
    "tags": []
   },
   "outputs": [
    {
     "name": "stdout",
     "output_type": "stream",
     "text": [
      "Stopping execution_time clock.\n",
      "[INFO] Keeping all rows: 89710 rows retained.\n"
     ]
    },
    {
     "name": "stdout",
     "output_type": "stream",
     "text": [
      "[INFO] Keeping all rows: 89710 rows retained.\n"
     ]
    },
    {
     "name": "stdout",
     "output_type": "stream",
     "text": [
      "[INFO] Keeping all rows: 89710 rows retained.\n"
     ]
    },
    {
     "name": "stdout",
     "output_type": "stream",
     "text": [
      "[INFO] Keeping all rows: 89710 rows retained.\n"
     ]
    },
    {
     "data": {
      "text/html": [
       "<div>\n",
       "<style scoped>\n",
       "    .dataframe tbody tr th:only-of-type {\n",
       "        vertical-align: middle;\n",
       "    }\n",
       "\n",
       "    .dataframe tbody tr th {\n",
       "        vertical-align: top;\n",
       "    }\n",
       "\n",
       "    .dataframe thead th {\n",
       "        text-align: right;\n",
       "    }\n",
       "</style>\n",
       "<table border=\"1\" class=\"dataframe\">\n",
       "  <thead>\n",
       "    <tr style=\"text-align: right;\">\n",
       "      <th></th>\n",
       "      <th>run_no</th>\n",
       "      <th>universe_id</th>\n",
       "      <th>universe_settings</th>\n",
       "      <th>execution_time</th>\n",
       "      <th>test_size_n</th>\n",
       "      <th>test_size_frac</th>\n",
       "      <th>fair_main_equalized_odds_difference</th>\n",
       "      <th>fair_main_equalized_odds_ratio</th>\n",
       "      <th>fair_main_demographic_parity_difference</th>\n",
       "      <th>fair_main_demographic_parity_ratio</th>\n",
       "      <th>...</th>\n",
       "      <th>perf_grp_precision_0</th>\n",
       "      <th>perf_grp_precision_1</th>\n",
       "      <th>perf_grp_false positive rate_0</th>\n",
       "      <th>perf_grp_false positive rate_1</th>\n",
       "      <th>perf_grp_false negative rate_0</th>\n",
       "      <th>perf_grp_false negative rate_1</th>\n",
       "      <th>perf_grp_selection rate_0</th>\n",
       "      <th>perf_grp_selection rate_1</th>\n",
       "      <th>perf_grp_count_0</th>\n",
       "      <th>perf_grp_count_1</th>\n",
       "    </tr>\n",
       "  </thead>\n",
       "  <tbody>\n",
       "    <tr>\n",
       "      <th>0</th>\n",
       "      <td>16</td>\n",
       "      <td>a2f5523e3ed2d38970f3d0f03cb70615</td>\n",
       "      <td>{\"cutoff\": \"quantile_0.1\", \"eval_fairness_grou...</td>\n",
       "      <td>26.519387</td>\n",
       "      <td>89710</td>\n",
       "      <td>1.0</td>\n",
       "      <td>0.100075</td>\n",
       "      <td>0.896596</td>\n",
       "      <td>0.090673</td>\n",
       "      <td>0.906514</td>\n",
       "      <td>...</td>\n",
       "      <td>NaN</td>\n",
       "      <td>NaN</td>\n",
       "      <td>NaN</td>\n",
       "      <td>NaN</td>\n",
       "      <td>NaN</td>\n",
       "      <td>NaN</td>\n",
       "      <td>NaN</td>\n",
       "      <td>NaN</td>\n",
       "      <td>NaN</td>\n",
       "      <td>NaN</td>\n",
       "    </tr>\n",
       "    <tr>\n",
       "      <th>0</th>\n",
       "      <td>16</td>\n",
       "      <td>a2f5523e3ed2d38970f3d0f03cb70615</td>\n",
       "      <td>{\"cutoff\": \"quantile_0.1\", \"eval_fairness_grou...</td>\n",
       "      <td>26.519387</td>\n",
       "      <td>89710</td>\n",
       "      <td>1.0</td>\n",
       "      <td>0.100075</td>\n",
       "      <td>0.896596</td>\n",
       "      <td>0.090673</td>\n",
       "      <td>0.906514</td>\n",
       "      <td>...</td>\n",
       "      <td>0.117207</td>\n",
       "      <td>0.143496</td>\n",
       "      <td>0.967808</td>\n",
       "      <td>0.867733</td>\n",
       "      <td>0.013936</td>\n",
       "      <td>0.045186</td>\n",
       "      <td>0.969912</td>\n",
       "      <td>0.879240</td>\n",
       "      <td>20540.0</td>\n",
       "      <td>69170.0</td>\n",
       "    </tr>\n",
       "    <tr>\n",
       "      <th>0</th>\n",
       "      <td>16</td>\n",
       "      <td>a2f5523e3ed2d38970f3d0f03cb70615</td>\n",
       "      <td>{\"cutoff\": \"quantile_0.25\", \"eval_fairness_gro...</td>\n",
       "      <td>26.519387</td>\n",
       "      <td>89710</td>\n",
       "      <td>1.0</td>\n",
       "      <td>0.228177</td>\n",
       "      <td>0.747937</td>\n",
       "      <td>0.209136</td>\n",
       "      <td>0.770495</td>\n",
       "      <td>...</td>\n",
       "      <td>NaN</td>\n",
       "      <td>NaN</td>\n",
       "      <td>NaN</td>\n",
       "      <td>NaN</td>\n",
       "      <td>NaN</td>\n",
       "      <td>NaN</td>\n",
       "      <td>NaN</td>\n",
       "      <td>NaN</td>\n",
       "      <td>NaN</td>\n",
       "      <td>NaN</td>\n",
       "    </tr>\n",
       "    <tr>\n",
       "      <th>0</th>\n",
       "      <td>16</td>\n",
       "      <td>a2f5523e3ed2d38970f3d0f03cb70615</td>\n",
       "      <td>{\"cutoff\": \"quantile_0.25\", \"eval_fairness_gro...</td>\n",
       "      <td>26.519387</td>\n",
       "      <td>89710</td>\n",
       "      <td>1.0</td>\n",
       "      <td>0.228177</td>\n",
       "      <td>0.747937</td>\n",
       "      <td>0.209136</td>\n",
       "      <td>0.770495</td>\n",
       "      <td>...</td>\n",
       "      <td>0.121120</td>\n",
       "      <td>0.163101</td>\n",
       "      <td>0.905239</td>\n",
       "      <td>0.677061</td>\n",
       "      <td>0.042652</td>\n",
       "      <td>0.133370</td>\n",
       "      <td>0.911246</td>\n",
       "      <td>0.702111</td>\n",
       "      <td>20540.0</td>\n",
       "      <td>69170.0</td>\n",
       "    </tr>\n",
       "  </tbody>\n",
       "</table>\n",
       "<p>4 rows × 50 columns</p>\n",
       "</div>"
      ],
      "text/plain": [
       "  run_no                       universe_id  \\\n",
       "0     16  a2f5523e3ed2d38970f3d0f03cb70615   \n",
       "0     16  a2f5523e3ed2d38970f3d0f03cb70615   \n",
       "0     16  a2f5523e3ed2d38970f3d0f03cb70615   \n",
       "0     16  a2f5523e3ed2d38970f3d0f03cb70615   \n",
       "\n",
       "                                   universe_settings  execution_time  \\\n",
       "0  {\"cutoff\": \"quantile_0.1\", \"eval_fairness_grou...       26.519387   \n",
       "0  {\"cutoff\": \"quantile_0.1\", \"eval_fairness_grou...       26.519387   \n",
       "0  {\"cutoff\": \"quantile_0.25\", \"eval_fairness_gro...       26.519387   \n",
       "0  {\"cutoff\": \"quantile_0.25\", \"eval_fairness_gro...       26.519387   \n",
       "\n",
       "   test_size_n  test_size_frac  fair_main_equalized_odds_difference  \\\n",
       "0        89710             1.0                             0.100075   \n",
       "0        89710             1.0                             0.100075   \n",
       "0        89710             1.0                             0.228177   \n",
       "0        89710             1.0                             0.228177   \n",
       "\n",
       "   fair_main_equalized_odds_ratio  fair_main_demographic_parity_difference  \\\n",
       "0                        0.896596                                 0.090673   \n",
       "0                        0.896596                                 0.090673   \n",
       "0                        0.747937                                 0.209136   \n",
       "0                        0.747937                                 0.209136   \n",
       "\n",
       "   fair_main_demographic_parity_ratio  ...  perf_grp_precision_0  \\\n",
       "0                            0.906514  ...                   NaN   \n",
       "0                            0.906514  ...              0.117207   \n",
       "0                            0.770495  ...                   NaN   \n",
       "0                            0.770495  ...              0.121120   \n",
       "\n",
       "   perf_grp_precision_1  perf_grp_false positive rate_0  \\\n",
       "0                   NaN                             NaN   \n",
       "0              0.143496                        0.967808   \n",
       "0                   NaN                             NaN   \n",
       "0              0.163101                        0.905239   \n",
       "\n",
       "   perf_grp_false positive rate_1  perf_grp_false negative rate_0  \\\n",
       "0                             NaN                             NaN   \n",
       "0                        0.867733                        0.013936   \n",
       "0                             NaN                             NaN   \n",
       "0                        0.677061                        0.042652   \n",
       "\n",
       "   perf_grp_false negative rate_1  perf_grp_selection rate_0  \\\n",
       "0                             NaN                        NaN   \n",
       "0                        0.045186                   0.969912   \n",
       "0                             NaN                        NaN   \n",
       "0                        0.133370                   0.911246   \n",
       "\n",
       "   perf_grp_selection rate_1  perf_grp_count_0  perf_grp_count_1  \n",
       "0                        NaN               NaN               NaN  \n",
       "0                   0.879240           20540.0           69170.0  \n",
       "0                        NaN               NaN               NaN  \n",
       "0                   0.702111           20540.0           69170.0  \n",
       "\n",
       "[4 rows x 50 columns]"
      ]
     },
     "execution_count": 66,
     "metadata": {},
     "output_type": "execute_result"
    }
   ],
   "source": [
    "final_output = universe_analysis.generate_final_output(\n",
    "    y_pred_prob=probs_test,\n",
    "    y_test=y_true,\n",
    "    org_test=org_test,\n",
    "    filter_data=filter_sub_universe_data,\n",
    "    cp_metrics_df=cp_metrics_df,\n",
    "    save=True,\n",
    ")\n",
    "final_output"
   ]
  }
 ],
 "metadata": {
  "celltoolbar": "Tags",
  "kernelspec": {
   "display_name": "Python (CMA Fairness)",
   "language": "python",
   "name": "cma_fair_env"
  },
  "language_info": {
   "codemirror_mode": {
    "name": "ipython",
    "version": 3
   },
   "file_extension": ".py",
   "mimetype": "text/x-python",
   "name": "python",
   "nbconvert_exporter": "python",
   "pygments_lexer": "ipython3",
   "version": "3.10.12"
  },
  "papermill": {
   "default_parameters": {},
   "duration": 38.305101,
   "end_time": "2025-08-05T20:59:32.067192",
   "environment_variables": {},
   "exception": null,
   "input_path": "universe_analysis.ipynb",
   "output_path": "output/runs/16/notebooks/m_16-a2f5523e3ed2d38970f3d0f03cb70615.ipynb",
   "parameters": {
    "output_dir": "output",
    "run_no": "16",
    "seed": "2023",
    "universe": "{\"cutoff\": [\"quantile_0.1\", \"quantile_0.25\"], \"eval_fairness_grouping\": [\"majority-minority\", \"nationality-all\"], \"exclude_features\": \"nationality-sex\", \"exclude_subgroups\": \"drop-non-german\", \"model\": \"penalized_logreg\", \"scale\": \"do-not-scale\", \"training_size\": \"25k\", \"training_year\": \"2012_14\"}",
    "universe_id": "a2f5523e3ed2d38970f3d0f03cb70615"
   },
   "start_time": "2025-08-05T20:58:53.762091",
   "version": "2.6.0"
  }
 },
 "nbformat": 4,
 "nbformat_minor": 5
}