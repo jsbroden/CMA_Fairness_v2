{
 "cells": [
  {
   "cell_type": "code",
   "execution_count": 1,
   "id": "f159f837-637b-42ba-96b5-ec9a68c44524",
   "metadata": {
    "execution": {
     "iopub.execute_input": "2025-08-05T20:59:01.127970Z",
     "iopub.status.busy": "2025-08-05T20:59:01.127212Z",
     "iopub.status.idle": "2025-08-05T20:59:01.141800Z",
     "shell.execute_reply": "2025-08-05T20:59:01.140700Z"
    },
    "papermill": {
     "duration": 0.035043,
     "end_time": "2025-08-05T20:59:01.143409",
     "exception": false,
     "start_time": "2025-08-05T20:59:01.108366",
     "status": "completed"
    },
    "tags": []
   },
   "outputs": [
    {
     "name": "stdout",
     "output_type": "stream",
     "text": [
      "/dss/dsshome1/0C/ra93lal2/cma/CMA_Fairness_v2\n"
     ]
    },
    {
     "name": "stderr",
     "output_type": "stream",
     "text": [
      "/dss/dsshome1/0C/ra93lal2/.local/share/virtualenvs/CMA_Fairness_v2-3j10GkSs/lib/python3.10/site-packages/IPython/core/magics/osm.py:393: UserWarning: This is now an optional IPython functionality, using bookmarks requires you to install the `pickleshare` library.\n",
      "  bkms = self.shell.db.get('bookmarks', {})\n",
      "/dss/dsshome1/0C/ra93lal2/.local/share/virtualenvs/CMA_Fairness_v2-3j10GkSs/lib/python3.10/site-packages/IPython/core/magics/osm.py:417: UserWarning: This is now an optional IPython functionality, setting dhist requires you to install the `pickleshare` library.\n",
      "  self.shell.db['dhist'] = compress_dhist(dhist)[-100:]\n"
     ]
    }
   ],
   "source": [
    "%cd ~/cma/CMA_Fairness_v2"
   ]
  },
  {
   "cell_type": "markdown",
   "id": "de2603b9",
   "metadata": {
    "papermill": {
     "duration": 0.016803,
     "end_time": "2025-08-05T20:59:01.177338",
     "exception": false,
     "start_time": "2025-08-05T20:59:01.160535",
     "status": "completed"
    },
    "tags": []
   },
   "source": [
    "The following cell holds the definition of our parameters, these values can be overriden by rendering the with e.g. the following command:\n",
    "\n",
    "papermill -p alpha 0.2 -p ratio 0.3 universe_analysis.ipynb output/test_run.ipynb"
   ]
  },
  {
   "cell_type": "code",
   "execution_count": 2,
   "id": "a80968a0-40bb-4fa9-85ef-2d5eefb01975",
   "metadata": {
    "execution": {
     "iopub.execute_input": "2025-08-05T20:59:01.215111Z",
     "iopub.status.busy": "2025-08-05T20:59:01.214300Z",
     "iopub.status.idle": "2025-08-05T20:59:01.220330Z",
     "shell.execute_reply": "2025-08-05T20:59:01.218990Z"
    },
    "papermill": {
     "duration": 0.027185,
     "end_time": "2025-08-05T20:59:01.222426",
     "exception": false,
     "start_time": "2025-08-05T20:59:01.195241",
     "status": "completed"
    },
    "tags": []
   },
   "outputs": [
    {
     "name": "stdout",
     "output_type": "stream",
     "text": [
      "Current working directory: /dss/dsshome1/0C/ra93lal2/cma/CMA_Fairness_v2\n"
     ]
    }
   ],
   "source": [
    "import os\n",
    "print(\"Current working directory:\", os.getcwd())"
   ]
  },
  {
   "cell_type": "code",
   "execution_count": 3,
   "id": "2dce4c03",
   "metadata": {
    "execution": {
     "iopub.execute_input": "2025-08-05T20:59:01.259289Z",
     "iopub.status.busy": "2025-08-05T20:59:01.258291Z",
     "iopub.status.idle": "2025-08-05T20:59:01.264577Z",
     "shell.execute_reply": "2025-08-05T20:59:01.263661Z"
    },
    "papermill": {
     "duration": 0.026112,
     "end_time": "2025-08-05T20:59:01.266340",
     "exception": false,
     "start_time": "2025-08-05T20:59:01.240228",
     "status": "completed"
    },
    "tags": [
     "parameters"
    ]
   },
   "outputs": [],
   "source": [
    "run_no = 0\n",
    "universe_id = \"test\"\n",
    "universe = {\n",
    "    \"training_size\": \"25k\", # \"25k\", \"5k\", \"1k\"\n",
    "    \"training_year\": \"2014\", # \"2014\", \"2012_14\", \"2010_14\"\n",
    "    \"scale\": \"scale\", # \"scale\", \"do-not-scale\",\n",
    "    \"model\": \"elasticnet\", # \"logreg\", \"penalized_logreg\", \"rf\", \"gbm\", \"elasticnet\"\n",
    "    \"cutoff\": [\"quantile_0.15\", \"quantile_0.30\"],\n",
    "    \"exclude_features\": \"age\", # \"none\", \"nationality\", \"sex\", \"nationality-sex\", \"age\"\n",
    "    \"exclude_subgroups\": \"keep-all\", # \"keep-all\", \"drop-non-german\"\n",
    "    \"eval_fairness_grouping\": [\"majority-minority\", \"nationality-all\"]\n",
    "}\n",
    "\n",
    "output_dir=\"./output\"\n",
    "seed=0"
   ]
  },
  {
   "cell_type": "code",
   "execution_count": 4,
   "id": "8e490e91",
   "metadata": {
    "execution": {
     "iopub.execute_input": "2025-08-05T20:59:01.302546Z",
     "iopub.status.busy": "2025-08-05T20:59:01.301584Z",
     "iopub.status.idle": "2025-08-05T20:59:01.307324Z",
     "shell.execute_reply": "2025-08-05T20:59:01.306247Z"
    },
    "papermill": {
     "duration": 0.025604,
     "end_time": "2025-08-05T20:59:01.309173",
     "exception": false,
     "start_time": "2025-08-05T20:59:01.283569",
     "status": "completed"
    },
    "tags": [
     "injected-parameters"
    ]
   },
   "outputs": [],
   "source": [
    "# Parameters\n",
    "universe_id = \"9f29a4954522ea96011bc88a815bf0ba\"\n",
    "run_no = \"16\"\n",
    "universe = \"{\\\"cutoff\\\": [\\\"quantile_0.1\\\", \\\"quantile_0.25\\\"], \\\"eval_fairness_grouping\\\": [\\\"majority-minority\\\", \\\"nationality-all\\\"], \\\"exclude_features\\\": \\\"age\\\", \\\"exclude_subgroups\\\": \\\"drop-non-german\\\", \\\"model\\\": \\\"penalized_logreg\\\", \\\"scale\\\": \\\"do-not-scale\\\", \\\"training_size\\\": \\\"25k\\\", \\\"training_year\\\": \\\"2012_14\\\"}\"\n",
    "output_dir = \"output\"\n",
    "seed = \"2023\"\n"
   ]
  },
  {
   "cell_type": "code",
   "execution_count": 5,
   "id": "1650acaf",
   "metadata": {
    "execution": {
     "iopub.execute_input": "2025-08-05T20:59:01.343566Z",
     "iopub.status.busy": "2025-08-05T20:59:01.342952Z",
     "iopub.status.idle": "2025-08-05T20:59:01.348647Z",
     "shell.execute_reply": "2025-08-05T20:59:01.347641Z"
    },
    "papermill": {
     "duration": 0.024362,
     "end_time": "2025-08-05T20:59:01.350613",
     "exception": false,
     "start_time": "2025-08-05T20:59:01.326251",
     "status": "completed"
    },
    "tags": []
   },
   "outputs": [],
   "source": [
    "import json\n",
    "if isinstance(universe, str):\n",
    "    universe = json.loads(universe)"
   ]
  },
  {
   "cell_type": "code",
   "execution_count": 6,
   "id": "16620c48",
   "metadata": {
    "execution": {
     "iopub.execute_input": "2025-08-05T20:59:01.386262Z",
     "iopub.status.busy": "2025-08-05T20:59:01.385570Z",
     "iopub.status.idle": "2025-08-05T20:59:01.430539Z",
     "shell.execute_reply": "2025-08-05T20:59:01.429566Z"
    },
    "papermill": {
     "duration": 0.064127,
     "end_time": "2025-08-05T20:59:01.432206",
     "exception": false,
     "start_time": "2025-08-05T20:59:01.368079",
     "status": "completed"
    },
    "tags": []
   },
   "outputs": [],
   "source": [
    "# Auto-reload the custom package\n",
    "%load_ext autoreload\n",
    "%autoreload 1\n",
    "%aimport fairness_multiverse"
   ]
  },
  {
   "cell_type": "code",
   "execution_count": 7,
   "id": "01c5c9f3",
   "metadata": {
    "execution": {
     "iopub.execute_input": "2025-08-05T20:59:01.468627Z",
     "iopub.status.busy": "2025-08-05T20:59:01.467705Z",
     "iopub.status.idle": "2025-08-05T20:59:03.389675Z",
     "shell.execute_reply": "2025-08-05T20:59:03.388608Z"
    },
    "papermill": {
     "duration": 1.942684,
     "end_time": "2025-08-05T20:59:03.391720",
     "exception": false,
     "start_time": "2025-08-05T20:59:01.449036",
     "status": "completed"
    },
    "tags": []
   },
   "outputs": [],
   "source": [
    "from fairness_multiverse.universe import UniverseAnalysis\n",
    "\n",
    "universe_analysis = UniverseAnalysis(\n",
    "    run_no = run_no,\n",
    "    universe_id = universe_id,\n",
    "    universe = universe,\n",
    "    output_dir=output_dir,\n",
    ")"
   ]
  },
  {
   "cell_type": "code",
   "execution_count": 8,
   "id": "106241f5",
   "metadata": {
    "execution": {
     "iopub.execute_input": "2025-08-05T20:59:03.428706Z",
     "iopub.status.busy": "2025-08-05T20:59:03.428290Z",
     "iopub.status.idle": "2025-08-05T20:59:03.434901Z",
     "shell.execute_reply": "2025-08-05T20:59:03.434027Z"
    },
    "papermill": {
     "duration": 0.026086,
     "end_time": "2025-08-05T20:59:03.436832",
     "exception": false,
     "start_time": "2025-08-05T20:59:03.410746",
     "status": "completed"
    },
    "tags": []
   },
   "outputs": [
    {
     "name": "stdout",
     "output_type": "stream",
     "text": [
      "Using Seed: 2023\n"
     ]
    }
   ],
   "source": [
    "import numpy as np\n",
    "parsed_seed = int(seed)\n",
    "np.random.seed(parsed_seed)\n",
    "print(f\"Using Seed: {parsed_seed}\")"
   ]
  },
  {
   "cell_type": "markdown",
   "id": "e0ebdc57",
   "metadata": {
    "papermill": {
     "duration": 0.018226,
     "end_time": "2025-08-05T20:59:03.475324",
     "exception": false,
     "start_time": "2025-08-05T20:59:03.457098",
     "status": "completed"
    },
    "tags": []
   },
   "source": [
    "# Loading Data"
   ]
  },
  {
   "cell_type": "code",
   "execution_count": 9,
   "id": "f0496b8a",
   "metadata": {
    "execution": {
     "iopub.execute_input": "2025-08-05T20:59:03.513239Z",
     "iopub.status.busy": "2025-08-05T20:59:03.512714Z",
     "iopub.status.idle": "2025-08-05T20:59:15.709923Z",
     "shell.execute_reply": "2025-08-05T20:59:15.708599Z"
    },
    "papermill": {
     "duration": 12.218544,
     "end_time": "2025-08-05T20:59:15.711805",
     "exception": false,
     "start_time": "2025-08-05T20:59:03.493261",
     "status": "completed"
    },
    "tags": []
   },
   "outputs": [
    {
     "name": "stdout",
     "output_type": "stream",
     "text": [
      "Loading SIAB data from cache: data/siab_cached.csv.gz\n"
     ]
    },
    {
     "name": "stdout",
     "output_type": "stream",
     "text": [
      "(643690, 164)\n"
     ]
    }
   ],
   "source": [
    "from pathlib import Path\n",
    "import pandas as pd\n",
    "\n",
    "# File paths\n",
    "raw_file = Path(\"data/raw/siab.csv\")\n",
    "cache_file = Path(\"data/siab_cached.csv.gz\")\n",
    "\n",
    "# Ensure cache directory exists\n",
    "cache_file.parent.mkdir(parents=True, exist_ok=True)\n",
    "\n",
    "# Load with simple caching\n",
    "if cache_file.exists():\n",
    "    print(f\"Loading SIAB data from cache: {cache_file}\")\n",
    "    siab = pd.read_csv(cache_file, compression='gzip')\n",
    "else:\n",
    "    print(f\"Cache not found. Reading raw SIAB data: {raw_file}\")\n",
    "    siab = pd.read_csv(raw_file)\n",
    "    siab.to_csv(cache_file, index=False, compression='gzip')\n",
    "    print(f\"Cached SIAB data to: {cache_file}\")\n",
    "\n",
    "print(siab.shape)"
   ]
  },
  {
   "cell_type": "code",
   "execution_count": 10,
   "id": "db0ca512-5f53-4dba-abdb-a2888bca41ba",
   "metadata": {
    "execution": {
     "iopub.execute_input": "2025-08-05T20:59:15.753173Z",
     "iopub.status.busy": "2025-08-05T20:59:15.752689Z",
     "iopub.status.idle": "2025-08-05T20:59:15.758046Z",
     "shell.execute_reply": "2025-08-05T20:59:15.757181Z"
    },
    "papermill": {
     "duration": 0.025543,
     "end_time": "2025-08-05T20:59:15.759446",
     "exception": false,
     "start_time": "2025-08-05T20:59:15.733903",
     "status": "completed"
    },
    "tags": []
   },
   "outputs": [],
   "source": [
    "#siab"
   ]
  },
  {
   "cell_type": "markdown",
   "id": "997051c5-15bd-4b69-9786-c3001a3ce484",
   "metadata": {
    "papermill": {
     "duration": 0.009251,
     "end_time": "2025-08-05T20:59:15.778801",
     "exception": false,
     "start_time": "2025-08-05T20:59:15.769550",
     "status": "completed"
    },
    "tags": []
   },
   "source": [
    "# Splitting Data and Setting Training Data Size"
   ]
  },
  {
   "cell_type": "code",
   "execution_count": 11,
   "id": "aea9c6ef-6f46-42c8-85eb-5a62025c1508",
   "metadata": {
    "execution": {
     "iopub.execute_input": "2025-08-05T20:59:15.797177Z",
     "iopub.status.busy": "2025-08-05T20:59:15.796812Z",
     "iopub.status.idle": "2025-08-05T20:59:16.492959Z",
     "shell.execute_reply": "2025-08-05T20:59:16.491991Z"
    },
    "papermill": {
     "duration": 0.707622,
     "end_time": "2025-08-05T20:59:16.495028",
     "exception": false,
     "start_time": "2025-08-05T20:59:15.787406",
     "status": "completed"
    },
    "tags": []
   },
   "outputs": [],
   "source": [
    "from fairness_multiverse.universe import sample_by_year_size\n",
    "\n",
    "siab_train = sample_by_year_size(siab,\n",
    "                               training_year=universe[\"training_year\"],\n",
    "                               training_size=universe[\"training_size\"])"
   ]
  },
  {
   "cell_type": "code",
   "execution_count": 12,
   "id": "8d3afb32-789d-442c-8d5d-9f5aa8dd2eed",
   "metadata": {
    "execution": {
     "iopub.execute_input": "2025-08-05T20:59:16.534582Z",
     "iopub.status.busy": "2025-08-05T20:59:16.533935Z",
     "iopub.status.idle": "2025-08-05T20:59:16.538693Z",
     "shell.execute_reply": "2025-08-05T20:59:16.537664Z"
    },
    "papermill": {
     "duration": 0.026062,
     "end_time": "2025-08-05T20:59:16.540609",
     "exception": false,
     "start_time": "2025-08-05T20:59:16.514547",
     "status": "completed"
    },
    "tags": []
   },
   "outputs": [],
   "source": [
    "#siab_train.shape"
   ]
  },
  {
   "cell_type": "code",
   "execution_count": 13,
   "id": "d582db68-1a4c-47fb-84fc-08518dc1975a",
   "metadata": {
    "execution": {
     "iopub.execute_input": "2025-08-05T20:59:16.579375Z",
     "iopub.status.busy": "2025-08-05T20:59:16.579054Z",
     "iopub.status.idle": "2025-08-05T20:59:16.584090Z",
     "shell.execute_reply": "2025-08-05T20:59:16.583084Z"
    },
    "papermill": {
     "duration": 0.026645,
     "end_time": "2025-08-05T20:59:16.586222",
     "exception": false,
     "start_time": "2025-08-05T20:59:16.559577",
     "status": "completed"
    },
    "tags": []
   },
   "outputs": [],
   "source": [
    "#display(siab_train.groupby(\"year\").size())"
   ]
  },
  {
   "cell_type": "code",
   "execution_count": 14,
   "id": "a561edb4-d032-42cb-8256-22eac1111c64",
   "metadata": {
    "execution": {
     "iopub.execute_input": "2025-08-05T20:59:16.624988Z",
     "iopub.status.busy": "2025-08-05T20:59:16.624325Z",
     "iopub.status.idle": "2025-08-05T20:59:16.888496Z",
     "shell.execute_reply": "2025-08-05T20:59:16.887478Z"
    },
    "papermill": {
     "duration": 0.285328,
     "end_time": "2025-08-05T20:59:16.890499",
     "exception": false,
     "start_time": "2025-08-05T20:59:16.605171",
     "status": "completed"
    },
    "tags": []
   },
   "outputs": [],
   "source": [
    "#siab_train = siab_s[siab_s.year < 2015]\n",
    "siab_calib = siab[siab.year == 2015]\n",
    "siab_test = siab[siab.year == 2016]"
   ]
  },
  {
   "cell_type": "code",
   "execution_count": 15,
   "id": "472de16f-c3db-4916-846b-1f0de9cf1746",
   "metadata": {
    "execution": {
     "iopub.execute_input": "2025-08-05T20:59:16.929877Z",
     "iopub.status.busy": "2025-08-05T20:59:16.929046Z",
     "iopub.status.idle": "2025-08-05T20:59:16.944157Z",
     "shell.execute_reply": "2025-08-05T20:59:16.943053Z"
    },
    "papermill": {
     "duration": 0.036664,
     "end_time": "2025-08-05T20:59:16.946438",
     "exception": false,
     "start_time": "2025-08-05T20:59:16.909774",
     "status": "completed"
    },
    "tags": []
   },
   "outputs": [],
   "source": [
    "X_train = siab_train.iloc[:,4:164]\n",
    "y_train = siab_train.iloc[:, [3]]"
   ]
  },
  {
   "cell_type": "code",
   "execution_count": 16,
   "id": "828c96af-f43a-4ed6-ba47-8ac73a47d56c",
   "metadata": {
    "execution": {
     "iopub.execute_input": "2025-08-05T20:59:16.998934Z",
     "iopub.status.busy": "2025-08-05T20:59:16.998132Z",
     "iopub.status.idle": "2025-08-05T20:59:17.047916Z",
     "shell.execute_reply": "2025-08-05T20:59:17.047010Z"
    },
    "papermill": {
     "duration": 0.06199,
     "end_time": "2025-08-05T20:59:17.049318",
     "exception": false,
     "start_time": "2025-08-05T20:59:16.987328",
     "status": "completed"
    },
    "tags": []
   },
   "outputs": [],
   "source": [
    "X_calib = siab_calib.iloc[:,4:164]\n",
    "y_calib = siab_calib.iloc[:, [3]]"
   ]
  },
  {
   "cell_type": "code",
   "execution_count": 17,
   "id": "c34be9c3-6bd6-476e-acd3-845840e303be",
   "metadata": {
    "execution": {
     "iopub.execute_input": "2025-08-05T20:59:17.070113Z",
     "iopub.status.busy": "2025-08-05T20:59:17.069635Z",
     "iopub.status.idle": "2025-08-05T20:59:17.120825Z",
     "shell.execute_reply": "2025-08-05T20:59:17.120008Z"
    },
    "papermill": {
     "duration": 0.062213,
     "end_time": "2025-08-05T20:59:17.122168",
     "exception": false,
     "start_time": "2025-08-05T20:59:17.059955",
     "status": "completed"
    },
    "tags": []
   },
   "outputs": [],
   "source": [
    "X_test = siab_test.iloc[:,4:164]\n",
    "y_true = siab_test.iloc[:, [3]]"
   ]
  },
  {
   "cell_type": "code",
   "execution_count": 18,
   "id": "e6c733c5",
   "metadata": {
    "execution": {
     "iopub.execute_input": "2025-08-05T20:59:17.143553Z",
     "iopub.status.busy": "2025-08-05T20:59:17.142920Z",
     "iopub.status.idle": "2025-08-05T20:59:17.232281Z",
     "shell.execute_reply": "2025-08-05T20:59:17.231483Z"
    },
    "papermill": {
     "duration": 0.101033,
     "end_time": "2025-08-05T20:59:17.233850",
     "exception": false,
     "start_time": "2025-08-05T20:59:17.132817",
     "status": "completed"
    },
    "tags": []
   },
   "outputs": [],
   "source": [
    "# Auxiliary data needed downstream in the pipeline\n",
    "\n",
    "org_train = X_train.copy()\n",
    "org_test = X_test.copy()\n",
    "org_calib = X_calib.copy()"
   ]
  },
  {
   "cell_type": "markdown",
   "id": "0a4a1b33",
   "metadata": {
    "papermill": {
     "duration": 0.008887,
     "end_time": "2025-08-05T20:59:17.252587",
     "exception": false,
     "start_time": "2025-08-05T20:59:17.243700",
     "status": "completed"
    },
    "tags": []
   },
   "source": [
    "# Preprocessing Data"
   ]
  },
  {
   "cell_type": "code",
   "execution_count": 19,
   "id": "ca879031",
   "metadata": {
    "execution": {
     "iopub.execute_input": "2025-08-05T20:59:17.271794Z",
     "iopub.status.busy": "2025-08-05T20:59:17.271045Z",
     "iopub.status.idle": "2025-08-05T20:59:17.276112Z",
     "shell.execute_reply": "2025-08-05T20:59:17.275341Z"
    },
    "papermill": {
     "duration": 0.01618,
     "end_time": "2025-08-05T20:59:17.277635",
     "exception": false,
     "start_time": "2025-08-05T20:59:17.261455",
     "status": "completed"
    },
    "tags": []
   },
   "outputs": [],
   "source": [
    "# EXCLUDE PROTECTED FEATURES\n",
    "# ----------------------\n",
    "# \"exclude_features\": \"none\", # \"nationality\", \"sex\", \"nationality-sex\"\n",
    "\n",
    "excluded_features = universe[\"exclude_features\"].split(\"-\") # split, e.g.: \"nationality-sex\" -> [\"nationality\", \"sex\"]\n",
    "excluded_features_dictionary = {\n",
    "    \"nationality\": [\"maxdeutsch1\", \"maxdeutsch.Missing.\"],\n",
    "    \"sex\": [\"frau1\"],\n",
    "    \"age\": [\"age\"],\n",
    "}"
   ]
  },
  {
   "cell_type": "code",
   "execution_count": 20,
   "id": "b745ac60",
   "metadata": {
    "execution": {
     "iopub.execute_input": "2025-08-05T20:59:17.297262Z",
     "iopub.status.busy": "2025-08-05T20:59:17.296765Z",
     "iopub.status.idle": "2025-08-05T20:59:17.301273Z",
     "shell.execute_reply": "2025-08-05T20:59:17.300502Z"
    },
    "papermill": {
     "duration": 0.015421,
     "end_time": "2025-08-05T20:59:17.302697",
     "exception": false,
     "start_time": "2025-08-05T20:59:17.287276",
     "status": "completed"
    },
    "tags": []
   },
   "outputs": [],
   "source": [
    "# Code nice names to column names\n",
    "\n",
    "excluded_features_columns = [\n",
    "    excluded_features_dictionary[f] for f in excluded_features if len(f) > 0 and f != \"none\"\n",
    "]"
   ]
  },
  {
   "cell_type": "code",
   "execution_count": 21,
   "id": "f84f73a2",
   "metadata": {
    "execution": {
     "iopub.execute_input": "2025-08-05T20:59:17.322324Z",
     "iopub.status.busy": "2025-08-05T20:59:17.321826Z",
     "iopub.status.idle": "2025-08-05T20:59:17.327102Z",
     "shell.execute_reply": "2025-08-05T20:59:17.326335Z"
    },
    "papermill": {
     "duration": 0.016252,
     "end_time": "2025-08-05T20:59:17.328538",
     "exception": false,
     "start_time": "2025-08-05T20:59:17.312286",
     "status": "completed"
    },
    "tags": []
   },
   "outputs": [],
   "source": [
    "from utils import flatten_once\n",
    "\n",
    "excluded_features_columns = flatten_once(excluded_features_columns)"
   ]
  },
  {
   "cell_type": "code",
   "execution_count": 22,
   "id": "884dea22",
   "metadata": {
    "execution": {
     "iopub.execute_input": "2025-08-05T20:59:17.348252Z",
     "iopub.status.busy": "2025-08-05T20:59:17.347978Z",
     "iopub.status.idle": "2025-08-05T20:59:17.361655Z",
     "shell.execute_reply": "2025-08-05T20:59:17.360775Z"
    },
    "papermill": {
     "duration": 0.024926,
     "end_time": "2025-08-05T20:59:17.363313",
     "exception": false,
     "start_time": "2025-08-05T20:59:17.338387",
     "status": "completed"
    },
    "tags": []
   },
   "outputs": [
    {
     "name": "stdout",
     "output_type": "stream",
     "text": [
      "Dropping features: ['age']\n"
     ]
    }
   ],
   "source": [
    "if len(excluded_features_columns) > 0:\n",
    "    print(f\"Dropping features: {excluded_features_columns}\")\n",
    "    X_train.drop(excluded_features_columns, axis=1, inplace=True)"
   ]
  },
  {
   "cell_type": "code",
   "execution_count": 23,
   "id": "95ab8b16",
   "metadata": {
    "execution": {
     "iopub.execute_input": "2025-08-05T20:59:17.384340Z",
     "iopub.status.busy": "2025-08-05T20:59:17.383838Z",
     "iopub.status.idle": "2025-08-05T20:59:17.432960Z",
     "shell.execute_reply": "2025-08-05T20:59:17.432136Z"
    },
    "papermill": {
     "duration": 0.060682,
     "end_time": "2025-08-05T20:59:17.434568",
     "exception": false,
     "start_time": "2025-08-05T20:59:17.373886",
     "status": "completed"
    },
    "tags": []
   },
   "outputs": [
    {
     "name": "stdout",
     "output_type": "stream",
     "text": [
      "Dropping features: ['age']\n"
     ]
    }
   ],
   "source": [
    "if len(excluded_features_columns) > 0:\n",
    "    print(f\"Dropping features: {excluded_features_columns}\")\n",
    "    X_test.drop(excluded_features_columns, axis=1, inplace=True)"
   ]
  },
  {
   "cell_type": "code",
   "execution_count": 24,
   "id": "1853aaf5-fb9f-46cb-a2b5-8ea4ae2237e4",
   "metadata": {
    "execution": {
     "iopub.execute_input": "2025-08-05T20:59:17.455914Z",
     "iopub.status.busy": "2025-08-05T20:59:17.455234Z",
     "iopub.status.idle": "2025-08-05T20:59:17.504780Z",
     "shell.execute_reply": "2025-08-05T20:59:17.503650Z"
    },
    "papermill": {
     "duration": 0.061762,
     "end_time": "2025-08-05T20:59:17.506806",
     "exception": false,
     "start_time": "2025-08-05T20:59:17.445044",
     "status": "completed"
    },
    "tags": []
   },
   "outputs": [
    {
     "name": "stdout",
     "output_type": "stream",
     "text": [
      "Dropping features: ['age']\n"
     ]
    }
   ],
   "source": [
    "if len(excluded_features_columns) > 0:\n",
    "    print(f\"Dropping features: {excluded_features_columns}\")\n",
    "    X_calib.drop(excluded_features_columns, axis=1, inplace=True)"
   ]
  },
  {
   "cell_type": "code",
   "execution_count": 25,
   "id": "76c4dc6d",
   "metadata": {
    "execution": {
     "iopub.execute_input": "2025-08-05T20:59:17.531046Z",
     "iopub.status.busy": "2025-08-05T20:59:17.530415Z",
     "iopub.status.idle": "2025-08-05T20:59:17.535150Z",
     "shell.execute_reply": "2025-08-05T20:59:17.534376Z"
    },
    "papermill": {
     "duration": 0.016009,
     "end_time": "2025-08-05T20:59:17.536511",
     "exception": false,
     "start_time": "2025-08-05T20:59:17.520502",
     "status": "completed"
    },
    "tags": []
   },
   "outputs": [],
   "source": [
    "# EXCLUDE CERTAIN SUBGROUPS\n",
    "# ----------------------\n",
    "\n",
    "mode = universe.get(\"exclude_subgroups\", \"keep-all\") \n",
    "# Fetches the exclude_subgroups setting from the universe dict.\n",
    "# Defaults to \"keep-all\" if the key is missing."
   ]
  },
  {
   "cell_type": "code",
   "execution_count": 26,
   "id": "21994072",
   "metadata": {
    "execution": {
     "iopub.execute_input": "2025-08-05T20:59:17.574193Z",
     "iopub.status.busy": "2025-08-05T20:59:17.573823Z",
     "iopub.status.idle": "2025-08-05T20:59:17.580958Z",
     "shell.execute_reply": "2025-08-05T20:59:17.579934Z"
    },
    "papermill": {
     "duration": 0.030206,
     "end_time": "2025-08-05T20:59:17.582807",
     "exception": false,
     "start_time": "2025-08-05T20:59:17.552601",
     "status": "completed"
    },
    "tags": []
   },
   "outputs": [],
   "source": [
    "if mode == \"keep-all\":\n",
    "    keep_mask = pd.Series(True, index=org_train.index)\n",
    "\n",
    "# org_train contains the original feature columns from features_org (in Simson)\n",
    "# features_org contains unprocessed features, for me X_train at beginning ???\n",
    "# For keep-all, creates a boolean Series (keep_mask) of all True, so no rows are removed.\n",
    "\n",
    "elif mode == \"drop-non-german\":\n",
    "    keep_mask = org_train[\"maxdeutsch1\"] == 1 # ??? what about missing values?\n",
    "\n",
    "else:\n",
    "    raise ValueError(f\"Unsupported mode for exclude_subgroups: {mode}\")"
   ]
  },
  {
   "cell_type": "code",
   "execution_count": 27,
   "id": "71651440",
   "metadata": {
    "execution": {
     "iopub.execute_input": "2025-08-05T20:59:17.615639Z",
     "iopub.status.busy": "2025-08-05T20:59:17.615089Z",
     "iopub.status.idle": "2025-08-05T20:59:17.622687Z",
     "shell.execute_reply": "2025-08-05T20:59:17.621444Z"
    },
    "papermill": {
     "duration": 0.024266,
     "end_time": "2025-08-05T20:59:17.624455",
     "exception": false,
     "start_time": "2025-08-05T20:59:17.600189",
     "status": "completed"
    },
    "tags": []
   },
   "outputs": [
    {
     "name": "stdout",
     "output_type": "stream",
     "text": [
      "Dropping 3481 rows (13.92%) where mode='drop-non-german'\n"
     ]
    }
   ],
   "source": [
    "n_drop = (~keep_mask).sum() # Calculates how many rows are set to be dropped\n",
    "if n_drop > 0:\n",
    "    pct = n_drop / len(keep_mask) * 100\n",
    "    print(f\"Dropping {n_drop} rows ({pct:.2f}%) where mode='{mode}'\")"
   ]
  },
  {
   "cell_type": "code",
   "execution_count": 28,
   "id": "5fb8eee5",
   "metadata": {
    "execution": {
     "iopub.execute_input": "2025-08-05T20:59:17.664798Z",
     "iopub.status.busy": "2025-08-05T20:59:17.663756Z",
     "iopub.status.idle": "2025-08-05T20:59:17.676786Z",
     "shell.execute_reply": "2025-08-05T20:59:17.675893Z"
    },
    "papermill": {
     "duration": 0.033284,
     "end_time": "2025-08-05T20:59:17.678495",
     "exception": false,
     "start_time": "2025-08-05T20:59:17.645211",
     "status": "completed"
    },
    "tags": []
   },
   "outputs": [],
   "source": [
    "X_train = X_train[keep_mask]"
   ]
  },
  {
   "cell_type": "code",
   "execution_count": 29,
   "id": "b202bb3a",
   "metadata": {
    "execution": {
     "iopub.execute_input": "2025-08-05T20:59:17.700657Z",
     "iopub.status.busy": "2025-08-05T20:59:17.699903Z",
     "iopub.status.idle": "2025-08-05T20:59:17.705300Z",
     "shell.execute_reply": "2025-08-05T20:59:17.704576Z"
    },
    "papermill": {
     "duration": 0.017136,
     "end_time": "2025-08-05T20:59:17.706768",
     "exception": false,
     "start_time": "2025-08-05T20:59:17.689632",
     "status": "completed"
    },
    "tags": []
   },
   "outputs": [],
   "source": [
    "y_train = y_train[keep_mask]"
   ]
  },
  {
   "cell_type": "markdown",
   "id": "493e2ac3",
   "metadata": {
    "papermill": {
     "duration": 0.01456,
     "end_time": "2025-08-05T20:59:17.731325",
     "exception": false,
     "start_time": "2025-08-05T20:59:17.716765",
     "status": "completed"
    },
    "tags": []
   },
   "source": [
    "# Model Training"
   ]
  },
  {
   "cell_type": "code",
   "execution_count": 30,
   "id": "679e1268",
   "metadata": {
    "execution": {
     "iopub.execute_input": "2025-08-05T20:59:17.751880Z",
     "iopub.status.busy": "2025-08-05T20:59:17.751368Z",
     "iopub.status.idle": "2025-08-05T20:59:17.828888Z",
     "shell.execute_reply": "2025-08-05T20:59:17.828120Z"
    },
    "papermill": {
     "duration": 0.089186,
     "end_time": "2025-08-05T20:59:17.830402",
     "exception": false,
     "start_time": "2025-08-05T20:59:17.741216",
     "status": "completed"
    },
    "tags": []
   },
   "outputs": [],
   "source": [
    "from sklearn.linear_model import LogisticRegression\n",
    "from sklearn.ensemble import GradientBoostingClassifier, RandomForestClassifier\n",
    "\n",
    "if (universe[\"model\"] == \"logreg\"):\n",
    "    model = LogisticRegression() #penalty=\"none\", solver=\"newton-cg\", max_iter=1) # include random_state=19 ?\n",
    "elif (universe[\"model\"] == \"penalized_logreg\"):\n",
    "    model = LogisticRegression(penalty=\"l2\", C=0.1) #, solver=\"newton-cg\", max_iter=1)\n",
    "elif (universe[\"model\"] == \"rf\"):\n",
    "    model = RandomForestClassifier() # n_estimators=100, n_jobs=-1\n",
    "elif (universe[\"model\"] == \"gbm\"):\n",
    "    model = GradientBoostingClassifier()\n",
    "elif (universe[\"model\"] == \"elasticnet\"):\n",
    "    model = LogisticRegression(penalty = 'elasticnet', solver = 'saga', l1_ratio = 0.5) # max_iter=5000\n",
    "else:\n",
    "    raise \"Unsupported universe.model\""
   ]
  },
  {
   "cell_type": "code",
   "execution_count": 31,
   "id": "0cc8f744",
   "metadata": {
    "execution": {
     "iopub.execute_input": "2025-08-05T20:59:17.852125Z",
     "iopub.status.busy": "2025-08-05T20:59:17.851477Z",
     "iopub.status.idle": "2025-08-05T20:59:17.856570Z",
     "shell.execute_reply": "2025-08-05T20:59:17.855844Z"
    },
    "papermill": {
     "duration": 0.017018,
     "end_time": "2025-08-05T20:59:17.858090",
     "exception": false,
     "start_time": "2025-08-05T20:59:17.841072",
     "status": "completed"
    },
    "tags": []
   },
   "outputs": [],
   "source": [
    "import numpy as np\n",
    "from sklearn.pipeline import Pipeline\n",
    "from sklearn.preprocessing import StandardScaler\n",
    "\n",
    "model = Pipeline([\n",
    "    #(\"continuous_processor\", continuous_processor),\n",
    "    #(\"categorical_preprocessor\", categorical_preprocessor),\n",
    "    (\"scale\", StandardScaler() if universe[\"scale\"] == \"scale\" else None), \n",
    "    (\"model\", model),\n",
    "])"
   ]
  },
  {
   "cell_type": "code",
   "execution_count": 32,
   "id": "9442c04d",
   "metadata": {
    "execution": {
     "iopub.execute_input": "2025-08-05T20:59:17.879066Z",
     "iopub.status.busy": "2025-08-05T20:59:17.878568Z",
     "iopub.status.idle": "2025-08-05T20:59:18.456091Z",
     "shell.execute_reply": "2025-08-05T20:59:18.454954Z"
    },
    "papermill": {
     "duration": 0.589654,
     "end_time": "2025-08-05T20:59:18.458081",
     "exception": false,
     "start_time": "2025-08-05T20:59:17.868427",
     "status": "completed"
    },
    "tags": []
   },
   "outputs": [
    {
     "name": "stderr",
     "output_type": "stream",
     "text": [
      "/dss/dsshome1/0C/ra93lal2/.local/share/virtualenvs/CMA_Fairness_v2-3j10GkSs/lib/python3.10/site-packages/sklearn/linear_model/_logistic.py:444: ConvergenceWarning: lbfgs failed to converge (status=1):\n",
      "STOP: TOTAL NO. of ITERATIONS REACHED LIMIT.\n",
      "\n",
      "Increase the number of iterations (max_iter) or scale the data as shown in:\n",
      "    https://scikit-learn.org/stable/modules/preprocessing.html\n",
      "Please also refer to the documentation for alternative solver options:\n",
      "    https://scikit-learn.org/stable/modules/linear_model.html#logistic-regression\n",
      "  n_iter_i = _check_optimize_result(\n"
     ]
    },
    {
     "data": {
      "text/html": [
       "<style>#sk-container-id-1 {color: black;background-color: white;}#sk-container-id-1 pre{padding: 0;}#sk-container-id-1 div.sk-toggleable {background-color: white;}#sk-container-id-1 label.sk-toggleable__label {cursor: pointer;display: block;width: 100%;margin-bottom: 0;padding: 0.3em;box-sizing: border-box;text-align: center;}#sk-container-id-1 label.sk-toggleable__label-arrow:before {content: \"▸\";float: left;margin-right: 0.25em;color: #696969;}#sk-container-id-1 label.sk-toggleable__label-arrow:hover:before {color: black;}#sk-container-id-1 div.sk-estimator:hover label.sk-toggleable__label-arrow:before {color: black;}#sk-container-id-1 div.sk-toggleable__content {max-height: 0;max-width: 0;overflow: hidden;text-align: left;background-color: #f0f8ff;}#sk-container-id-1 div.sk-toggleable__content pre {margin: 0.2em;color: black;border-radius: 0.25em;background-color: #f0f8ff;}#sk-container-id-1 input.sk-toggleable__control:checked~div.sk-toggleable__content {max-height: 200px;max-width: 100%;overflow: auto;}#sk-container-id-1 input.sk-toggleable__control:checked~label.sk-toggleable__label-arrow:before {content: \"▾\";}#sk-container-id-1 div.sk-estimator input.sk-toggleable__control:checked~label.sk-toggleable__label {background-color: #d4ebff;}#sk-container-id-1 div.sk-label input.sk-toggleable__control:checked~label.sk-toggleable__label {background-color: #d4ebff;}#sk-container-id-1 input.sk-hidden--visually {border: 0;clip: rect(1px 1px 1px 1px);clip: rect(1px, 1px, 1px, 1px);height: 1px;margin: -1px;overflow: hidden;padding: 0;position: absolute;width: 1px;}#sk-container-id-1 div.sk-estimator {font-family: monospace;background-color: #f0f8ff;border: 1px dotted black;border-radius: 0.25em;box-sizing: border-box;margin-bottom: 0.5em;}#sk-container-id-1 div.sk-estimator:hover {background-color: #d4ebff;}#sk-container-id-1 div.sk-parallel-item::after {content: \"\";width: 100%;border-bottom: 1px solid gray;flex-grow: 1;}#sk-container-id-1 div.sk-label:hover label.sk-toggleable__label {background-color: #d4ebff;}#sk-container-id-1 div.sk-serial::before {content: \"\";position: absolute;border-left: 1px solid gray;box-sizing: border-box;top: 0;bottom: 0;left: 50%;z-index: 0;}#sk-container-id-1 div.sk-serial {display: flex;flex-direction: column;align-items: center;background-color: white;padding-right: 0.2em;padding-left: 0.2em;position: relative;}#sk-container-id-1 div.sk-item {position: relative;z-index: 1;}#sk-container-id-1 div.sk-parallel {display: flex;align-items: stretch;justify-content: center;background-color: white;position: relative;}#sk-container-id-1 div.sk-item::before, #sk-container-id-1 div.sk-parallel-item::before {content: \"\";position: absolute;border-left: 1px solid gray;box-sizing: border-box;top: 0;bottom: 0;left: 50%;z-index: -1;}#sk-container-id-1 div.sk-parallel-item {display: flex;flex-direction: column;z-index: 1;position: relative;background-color: white;}#sk-container-id-1 div.sk-parallel-item:first-child::after {align-self: flex-end;width: 50%;}#sk-container-id-1 div.sk-parallel-item:last-child::after {align-self: flex-start;width: 50%;}#sk-container-id-1 div.sk-parallel-item:only-child::after {width: 0;}#sk-container-id-1 div.sk-dashed-wrapped {border: 1px dashed gray;margin: 0 0.4em 0.5em 0.4em;box-sizing: border-box;padding-bottom: 0.4em;background-color: white;}#sk-container-id-1 div.sk-label label {font-family: monospace;font-weight: bold;display: inline-block;line-height: 1.2em;}#sk-container-id-1 div.sk-label-container {text-align: center;}#sk-container-id-1 div.sk-container {/* jupyter's `normalize.less` sets `[hidden] { display: none; }` but bootstrap.min.css set `[hidden] { display: none !important; }` so we also need the `!important` here to be able to override the default hidden behavior on the sphinx rendered scikit-learn.org. See: https://github.com/scikit-learn/scikit-learn/issues/21755 */display: inline-block !important;position: relative;}#sk-container-id-1 div.sk-text-repr-fallback {display: none;}</style><div id=\"sk-container-id-1\" class=\"sk-top-container\"><div class=\"sk-text-repr-fallback\"><pre>Pipeline(steps=[(&#x27;scale&#x27;, None), (&#x27;model&#x27;, LogisticRegression(C=0.1))])</pre><b>In a Jupyter environment, please rerun this cell to show the HTML representation or trust the notebook. <br />On GitHub, the HTML representation is unable to render, please try loading this page with nbviewer.org.</b></div><div class=\"sk-container\" hidden><div class=\"sk-item sk-dashed-wrapped\"><div class=\"sk-label-container\"><div class=\"sk-label sk-toggleable\"><input class=\"sk-toggleable__control sk-hidden--visually\" id=\"sk-estimator-id-1\" type=\"checkbox\" ><label for=\"sk-estimator-id-1\" class=\"sk-toggleable__label sk-toggleable__label-arrow\">Pipeline</label><div class=\"sk-toggleable__content\"><pre>Pipeline(steps=[(&#x27;scale&#x27;, None), (&#x27;model&#x27;, LogisticRegression(C=0.1))])</pre></div></div></div><div class=\"sk-serial\"><div class=\"sk-item\"><div class=\"sk-estimator sk-toggleable\"><input class=\"sk-toggleable__control sk-hidden--visually\" id=\"sk-estimator-id-2\" type=\"checkbox\" ><label for=\"sk-estimator-id-2\" class=\"sk-toggleable__label sk-toggleable__label-arrow\">None</label><div class=\"sk-toggleable__content\"><pre>None</pre></div></div></div><div class=\"sk-item\"><div class=\"sk-estimator sk-toggleable\"><input class=\"sk-toggleable__control sk-hidden--visually\" id=\"sk-estimator-id-3\" type=\"checkbox\" ><label for=\"sk-estimator-id-3\" class=\"sk-toggleable__label sk-toggleable__label-arrow\">LogisticRegression</label><div class=\"sk-toggleable__content\"><pre>LogisticRegression(C=0.1)</pre></div></div></div></div></div></div></div>"
      ],
      "text/plain": [
       "Pipeline(steps=[('scale', None), ('model', LogisticRegression(C=0.1))])"
      ]
     },
     "execution_count": 32,
     "metadata": {},
     "output_type": "execute_result"
    }
   ],
   "source": [
    "model.fit(X_train, y_train.values.ravel())"
   ]
  },
  {
   "cell_type": "code",
   "execution_count": 33,
   "id": "af59f8c0",
   "metadata": {
    "execution": {
     "iopub.execute_input": "2025-08-05T20:59:18.499870Z",
     "iopub.status.busy": "2025-08-05T20:59:18.499358Z",
     "iopub.status.idle": "2025-08-05T20:59:18.505297Z",
     "shell.execute_reply": "2025-08-05T20:59:18.504322Z"
    },
    "papermill": {
     "duration": 0.028739,
     "end_time": "2025-08-05T20:59:18.507225",
     "exception": false,
     "start_time": "2025-08-05T20:59:18.478486",
     "status": "completed"
    },
    "tags": []
   },
   "outputs": [],
   "source": [
    "from fairness_multiverse.universe import predict_w_threshold"
   ]
  },
  {
   "cell_type": "code",
   "execution_count": 34,
   "id": "a7cf2e16",
   "metadata": {
    "execution": {
     "iopub.execute_input": "2025-08-05T20:59:18.552630Z",
     "iopub.status.busy": "2025-08-05T20:59:18.551939Z",
     "iopub.status.idle": "2025-08-05T20:59:18.646329Z",
     "shell.execute_reply": "2025-08-05T20:59:18.645334Z"
    },
    "papermill": {
     "duration": 0.118708,
     "end_time": "2025-08-05T20:59:18.648256",
     "exception": false,
     "start_time": "2025-08-05T20:59:18.529548",
     "status": "completed"
    },
    "tags": []
   },
   "outputs": [
    {
     "data": {
      "text/plain": [
       "0.8602942815739605"
      ]
     },
     "execution_count": 34,
     "metadata": {},
     "output_type": "execute_result"
    }
   ],
   "source": [
    "probs_test = model.predict_proba(X_test)\n",
    "\n",
    "'''\n",
    "Below code returns a boolean array (or binary 0/1 array depending on how it’s used) where each element \n",
    "is True if the probability of class 1 is greater than or equal to the threshold, and False otherwise.\n",
    "'''\n",
    "y_pred_default = predict_w_threshold(probs_test, 0.5)\n",
    "\n",
    "from sklearn.metrics import accuracy_score\n",
    "\n",
    "# Naive prediction\n",
    "accuracy_score(y_true = y_true, y_pred = y_pred_default)"
   ]
  },
  {
   "cell_type": "code",
   "execution_count": 35,
   "id": "081964c3",
   "metadata": {
    "execution": {
     "iopub.execute_input": "2025-08-05T20:59:18.694368Z",
     "iopub.status.busy": "2025-08-05T20:59:18.693665Z",
     "iopub.status.idle": "2025-08-05T20:59:18.778642Z",
     "shell.execute_reply": "2025-08-05T20:59:18.777651Z"
    },
    "papermill": {
     "duration": 0.110372,
     "end_time": "2025-08-05T20:59:18.780558",
     "exception": false,
     "start_time": "2025-08-05T20:59:18.670186",
     "status": "completed"
    },
    "tags": []
   },
   "outputs": [
    {
     "data": {
      "text/plain": [
       "array([0, 0, 0, ..., 0, 0, 0])"
      ]
     },
     "execution_count": 35,
     "metadata": {},
     "output_type": "execute_result"
    }
   ],
   "source": [
    "model.predict(X_test)"
   ]
  },
  {
   "cell_type": "markdown",
   "id": "56c9705b",
   "metadata": {
    "papermill": {
     "duration": 0.021698,
     "end_time": "2025-08-05T20:59:18.824483",
     "exception": false,
     "start_time": "2025-08-05T20:59:18.802785",
     "status": "completed"
    },
    "tags": []
   },
   "source": [
    "# Conformal Prediction"
   ]
  },
  {
   "cell_type": "code",
   "execution_count": 36,
   "id": "160ec6ff",
   "metadata": {
    "execution": {
     "iopub.execute_input": "2025-08-05T20:59:18.869999Z",
     "iopub.status.busy": "2025-08-05T20:59:18.869008Z",
     "iopub.status.idle": "2025-08-05T20:59:18.874501Z",
     "shell.execute_reply": "2025-08-05T20:59:18.873494Z"
    },
    "papermill": {
     "duration": 0.030165,
     "end_time": "2025-08-05T20:59:18.876309",
     "exception": false,
     "start_time": "2025-08-05T20:59:18.846144",
     "status": "completed"
    },
    "tags": []
   },
   "outputs": [],
   "source": [
    "# Miscoverage level for conformal prediction (10% allowed error rate => 90% target coverage)\n",
    "alpha = 0.1"
   ]
  },
  {
   "cell_type": "code",
   "execution_count": 37,
   "id": "eadf4555-3dd3-440e-8e35-f82a4ad9f855",
   "metadata": {
    "execution": {
     "iopub.execute_input": "2025-08-05T20:59:18.923153Z",
     "iopub.status.busy": "2025-08-05T20:59:18.922472Z",
     "iopub.status.idle": "2025-08-05T20:59:19.003154Z",
     "shell.execute_reply": "2025-08-05T20:59:19.002100Z"
    },
    "papermill": {
     "duration": 0.105728,
     "end_time": "2025-08-05T20:59:19.005155",
     "exception": false,
     "start_time": "2025-08-05T20:59:18.899427",
     "status": "completed"
    },
    "tags": []
   },
   "outputs": [],
   "source": [
    "probs_calib = model.predict_proba(X_calib)"
   ]
  },
  {
   "cell_type": "code",
   "execution_count": 38,
   "id": "2ed93547-6d5d-4983-9b36-1ecb300da49a",
   "metadata": {
    "execution": {
     "iopub.execute_input": "2025-08-05T20:59:19.051582Z",
     "iopub.status.busy": "2025-08-05T20:59:19.050919Z",
     "iopub.status.idle": "2025-08-05T20:59:19.057141Z",
     "shell.execute_reply": "2025-08-05T20:59:19.056003Z"
    },
    "papermill": {
     "duration": 0.031339,
     "end_time": "2025-08-05T20:59:19.059113",
     "exception": false,
     "start_time": "2025-08-05T20:59:19.027774",
     "status": "completed"
    },
    "tags": []
   },
   "outputs": [],
   "source": [
    "y_calib = y_calib.values.ravel().astype(int)"
   ]
  },
  {
   "cell_type": "code",
   "execution_count": 39,
   "id": "65d1320d-f588-4b38-9072-62af1ae97f7d",
   "metadata": {
    "execution": {
     "iopub.execute_input": "2025-08-05T20:59:19.105756Z",
     "iopub.status.busy": "2025-08-05T20:59:19.104916Z",
     "iopub.status.idle": "2025-08-05T20:59:19.112757Z",
     "shell.execute_reply": "2025-08-05T20:59:19.111779Z"
    },
    "papermill": {
     "duration": 0.032764,
     "end_time": "2025-08-05T20:59:19.114609",
     "exception": false,
     "start_time": "2025-08-05T20:59:19.081845",
     "status": "completed"
    },
    "tags": []
   },
   "outputs": [],
   "source": [
    "from fairness_multiverse.conformal import compute_nc_scores\n",
    "\n",
    "# Compute nonconformity scores on calibration set (1 - probability of true class)\n",
    "nc_scores = compute_nc_scores(probs_calib, y_calib)"
   ]
  },
  {
   "cell_type": "code",
   "execution_count": 40,
   "id": "df3b8ca3-53b7-43d5-9667-7c85da7aeda2",
   "metadata": {
    "execution": {
     "iopub.execute_input": "2025-08-05T20:59:19.161046Z",
     "iopub.status.busy": "2025-08-05T20:59:19.160366Z",
     "iopub.status.idle": "2025-08-05T20:59:19.167748Z",
     "shell.execute_reply": "2025-08-05T20:59:19.166633Z"
    },
    "papermill": {
     "duration": 0.032471,
     "end_time": "2025-08-05T20:59:19.169617",
     "exception": false,
     "start_time": "2025-08-05T20:59:19.137146",
     "status": "completed"
    },
    "tags": []
   },
   "outputs": [],
   "source": [
    "from fairness_multiverse.conformal import find_threshold\n",
    "\n",
    "# Find conformal threshold q_hat for the given alpha (split conformal method)\n",
    "q_hat = find_threshold(nc_scores, alpha)"
   ]
  },
  {
   "cell_type": "code",
   "execution_count": 41,
   "id": "4d29e6c1-0ef6-4aa4-b8fe-4fe79b0d033a",
   "metadata": {
    "execution": {
     "iopub.execute_input": "2025-08-05T20:59:19.216104Z",
     "iopub.status.busy": "2025-08-05T20:59:19.215252Z",
     "iopub.status.idle": "2025-08-05T20:59:19.222747Z",
     "shell.execute_reply": "2025-08-05T20:59:19.221625Z"
    },
    "papermill": {
     "duration": 0.032066,
     "end_time": "2025-08-05T20:59:19.224640",
     "exception": false,
     "start_time": "2025-08-05T20:59:19.192574",
     "status": "completed"
    },
    "tags": []
   },
   "outputs": [
    {
     "data": {
      "text/plain": [
       "0.6457762973094059"
      ]
     },
     "execution_count": 41,
     "metadata": {},
     "output_type": "execute_result"
    }
   ],
   "source": [
    "q_hat"
   ]
  },
  {
   "cell_type": "code",
   "execution_count": 42,
   "id": "92460794-cdac-4be2-ba28-f28c0515a6fb",
   "metadata": {
    "execution": {
     "iopub.execute_input": "2025-08-05T20:59:19.271709Z",
     "iopub.status.busy": "2025-08-05T20:59:19.271018Z",
     "iopub.status.idle": "2025-08-05T20:59:20.272940Z",
     "shell.execute_reply": "2025-08-05T20:59:20.272156Z"
    },
    "papermill": {
     "duration": 1.027017,
     "end_time": "2025-08-05T20:59:20.274539",
     "exception": false,
     "start_time": "2025-08-05T20:59:19.247522",
     "status": "completed"
    },
    "tags": []
   },
   "outputs": [],
   "source": [
    "from fairness_multiverse.conformal import predict_conformal_sets\n",
    "\n",
    "# Generate prediction sets for each test example\n",
    "pred_sets = predict_conformal_sets(model, X_test, q_hat)"
   ]
  },
  {
   "cell_type": "code",
   "execution_count": 43,
   "id": "d90c9a65-e6db-4f5d-80cd-e68fb7e46829",
   "metadata": {
    "execution": {
     "iopub.execute_input": "2025-08-05T20:59:20.298225Z",
     "iopub.status.busy": "2025-08-05T20:59:20.297699Z",
     "iopub.status.idle": "2025-08-05T20:59:20.302651Z",
     "shell.execute_reply": "2025-08-05T20:59:20.301879Z"
    },
    "papermill": {
     "duration": 0.018351,
     "end_time": "2025-08-05T20:59:20.304129",
     "exception": false,
     "start_time": "2025-08-05T20:59:20.285778",
     "status": "completed"
    },
    "tags": []
   },
   "outputs": [],
   "source": [
    "y_true = y_true.squeeze()"
   ]
  },
  {
   "cell_type": "code",
   "execution_count": 44,
   "id": "3a58a54a-1e68-46b9-927a-df01f18aebc8",
   "metadata": {
    "execution": {
     "iopub.execute_input": "2025-08-05T20:59:20.328694Z",
     "iopub.status.busy": "2025-08-05T20:59:20.327951Z",
     "iopub.status.idle": "2025-08-05T20:59:21.266388Z",
     "shell.execute_reply": "2025-08-05T20:59:21.265399Z"
    },
    "papermill": {
     "duration": 0.95165,
     "end_time": "2025-08-05T20:59:21.267930",
     "exception": false,
     "start_time": "2025-08-05T20:59:20.316280",
     "status": "completed"
    },
    "tags": []
   },
   "outputs": [],
   "source": [
    "from fairness_multiverse.conformal import evaluate_sets\n",
    "\n",
    "# Evaluate coverage and average set size on test data\n",
    "metrics = evaluate_sets(pred_sets, y_true)"
   ]
  },
  {
   "cell_type": "markdown",
   "id": "2b569c12-9aaa-4c88-98c9-bbcd0cf3ebb8",
   "metadata": {
    "papermill": {
     "duration": 0.02265,
     "end_time": "2025-08-05T20:59:21.313596",
     "exception": false,
     "start_time": "2025-08-05T20:59:21.290946",
     "status": "completed"
    },
    "tags": []
   },
   "source": [
    "# CP Metrics"
   ]
  },
  {
   "cell_type": "code",
   "execution_count": 45,
   "id": "5ce0a5cb-201f-45a0-ade5-94c7f0bd6095",
   "metadata": {
    "execution": {
     "iopub.execute_input": "2025-08-05T20:59:21.361020Z",
     "iopub.status.busy": "2025-08-05T20:59:21.360638Z",
     "iopub.status.idle": "2025-08-05T20:59:21.367578Z",
     "shell.execute_reply": "2025-08-05T20:59:21.366678Z"
    },
    "papermill": {
     "duration": 0.032734,
     "end_time": "2025-08-05T20:59:21.369286",
     "exception": false,
     "start_time": "2025-08-05T20:59:21.336552",
     "status": "completed"
    },
    "tags": []
   },
   "outputs": [
    {
     "data": {
      "text/plain": [
       "{'coverage': 0.9129417010366737, 'avg_size': 1.2516107457362613}"
      ]
     },
     "execution_count": 45,
     "metadata": {},
     "output_type": "execute_result"
    }
   ],
   "source": [
    "metrics"
   ]
  },
  {
   "cell_type": "code",
   "execution_count": 46,
   "id": "9b9a838d-31c9-430b-ae14-12baee460d17",
   "metadata": {
    "execution": {
     "iopub.execute_input": "2025-08-05T20:59:21.410862Z",
     "iopub.status.busy": "2025-08-05T20:59:21.410484Z",
     "iopub.status.idle": "2025-08-05T20:59:21.416573Z",
     "shell.execute_reply": "2025-08-05T20:59:21.415602Z"
    },
    "papermill": {
     "duration": 0.027257,
     "end_time": "2025-08-05T20:59:21.418245",
     "exception": false,
     "start_time": "2025-08-05T20:59:21.390988",
     "status": "completed"
    },
    "tags": []
   },
   "outputs": [],
   "source": [
    "example_universe = universe.copy()\n",
    "universe_training_year = example_universe.get(\"training_year\")\n",
    "universe_training_size = example_universe.get(\"training_size\")\n",
    "universe_scale = example_universe.get(\"scale\")\n",
    "universe_model = example_universe.get(\"model\")\n",
    "universe_exclude_features = example_universe.get(\"exclude_features\")\n",
    "universe_exclude_subgroups = example_universe.get(\"exclude_subgroups\")"
   ]
  },
  {
   "cell_type": "code",
   "execution_count": 47,
   "id": "f4b6a8ac-9dc0-4245-8a91-5b3b5999c4f9",
   "metadata": {
    "execution": {
     "iopub.execute_input": "2025-08-05T20:59:21.458686Z",
     "iopub.status.busy": "2025-08-05T20:59:21.457954Z",
     "iopub.status.idle": "2025-08-05T20:59:21.464139Z",
     "shell.execute_reply": "2025-08-05T20:59:21.463136Z"
    },
    "papermill": {
     "duration": 0.028019,
     "end_time": "2025-08-05T20:59:21.465694",
     "exception": false,
     "start_time": "2025-08-05T20:59:21.437675",
     "status": "completed"
    },
    "tags": []
   },
   "outputs": [],
   "source": [
    "cp_metrics_dict = {\n",
    "    \"universe_id\": [universe_id],\n",
    "    \"universe_training_year\": [universe_training_year],\n",
    "    \"universe_training_size\": [universe_training_size],\n",
    "    \"universe_scale\": [universe_scale],\n",
    "    \"universe_model\": [universe_model],\n",
    "    \"universe_exclude_features\": [universe_exclude_features],\n",
    "    \"universe_exclude_subgroups\": [universe_exclude_subgroups],\n",
    "    \"q_hat\": [q_hat],\n",
    "    \"coverage\": [metrics[\"coverage\"]],\n",
    "    \"avg_size\": [metrics[\"avg_size\"]],\n",
    "}"
   ]
  },
  {
   "cell_type": "code",
   "execution_count": 48,
   "id": "908acbb1-0371-4915-85ca-3fa520d2efe2",
   "metadata": {
    "execution": {
     "iopub.execute_input": "2025-08-05T20:59:21.523499Z",
     "iopub.status.busy": "2025-08-05T20:59:21.523061Z",
     "iopub.status.idle": "2025-08-05T20:59:21.531690Z",
     "shell.execute_reply": "2025-08-05T20:59:21.530713Z"
    },
    "papermill": {
     "duration": 0.039618,
     "end_time": "2025-08-05T20:59:21.533228",
     "exception": false,
     "start_time": "2025-08-05T20:59:21.493610",
     "status": "completed"
    },
    "tags": []
   },
   "outputs": [
    {
     "data": {
      "text/plain": [
       "{'universe_id': ['9f29a4954522ea96011bc88a815bf0ba'],\n",
       " 'universe_training_year': ['2012_14'],\n",
       " 'universe_training_size': ['25k'],\n",
       " 'universe_scale': ['do-not-scale'],\n",
       " 'universe_model': ['penalized_logreg'],\n",
       " 'universe_exclude_features': ['age'],\n",
       " 'universe_exclude_subgroups': ['drop-non-german'],\n",
       " 'q_hat': [0.6457762973094059],\n",
       " 'coverage': [0.9129417010366737],\n",
       " 'avg_size': [1.2516107457362613]}"
      ]
     },
     "execution_count": 48,
     "metadata": {},
     "output_type": "execute_result"
    }
   ],
   "source": [
    "cp_metrics_dict"
   ]
  },
  {
   "cell_type": "code",
   "execution_count": 49,
   "id": "33007efc-14e9-4ec6-97ac-56a455c82265",
   "metadata": {
    "execution": {
     "iopub.execute_input": "2025-08-05T20:59:21.574201Z",
     "iopub.status.busy": "2025-08-05T20:59:21.573309Z",
     "iopub.status.idle": "2025-08-05T20:59:21.579198Z",
     "shell.execute_reply": "2025-08-05T20:59:21.578348Z"
    },
    "papermill": {
     "duration": 0.027716,
     "end_time": "2025-08-05T20:59:21.580904",
     "exception": false,
     "start_time": "2025-08-05T20:59:21.553188",
     "status": "completed"
    },
    "tags": []
   },
   "outputs": [],
   "source": [
    "cp_metrics_df = pd.DataFrame(cp_metrics_dict)"
   ]
  },
  {
   "cell_type": "code",
   "execution_count": 50,
   "id": "db12611b-57b2-4910-b9d0-355adfd6e7bf",
   "metadata": {
    "execution": {
     "iopub.execute_input": "2025-08-05T20:59:21.622530Z",
     "iopub.status.busy": "2025-08-05T20:59:21.622169Z",
     "iopub.status.idle": "2025-08-05T20:59:21.654457Z",
     "shell.execute_reply": "2025-08-05T20:59:21.653551Z"
    },
    "papermill": {
     "duration": 0.055198,
     "end_time": "2025-08-05T20:59:21.656341",
     "exception": false,
     "start_time": "2025-08-05T20:59:21.601143",
     "status": "completed"
    },
    "tags": []
   },
   "outputs": [
    {
     "data": {
      "text/html": [
       "<div>\n",
       "<style scoped>\n",
       "    .dataframe tbody tr th:only-of-type {\n",
       "        vertical-align: middle;\n",
       "    }\n",
       "\n",
       "    .dataframe tbody tr th {\n",
       "        vertical-align: top;\n",
       "    }\n",
       "\n",
       "    .dataframe thead th {\n",
       "        text-align: right;\n",
       "    }\n",
       "</style>\n",
       "<table border=\"1\" class=\"dataframe\">\n",
       "  <thead>\n",
       "    <tr style=\"text-align: right;\">\n",
       "      <th></th>\n",
       "      <th>universe_id</th>\n",
       "      <th>universe_training_year</th>\n",
       "      <th>universe_training_size</th>\n",
       "      <th>universe_scale</th>\n",
       "      <th>universe_model</th>\n",
       "      <th>universe_exclude_features</th>\n",
       "      <th>universe_exclude_subgroups</th>\n",
       "      <th>q_hat</th>\n",
       "      <th>coverage</th>\n",
       "      <th>avg_size</th>\n",
       "    </tr>\n",
       "  </thead>\n",
       "  <tbody>\n",
       "    <tr>\n",
       "      <th>0</th>\n",
       "      <td>9f29a4954522ea96011bc88a815bf0ba</td>\n",
       "      <td>2012_14</td>\n",
       "      <td>25k</td>\n",
       "      <td>do-not-scale</td>\n",
       "      <td>penalized_logreg</td>\n",
       "      <td>age</td>\n",
       "      <td>drop-non-german</td>\n",
       "      <td>0.645776</td>\n",
       "      <td>0.912942</td>\n",
       "      <td>1.251611</td>\n",
       "    </tr>\n",
       "  </tbody>\n",
       "</table>\n",
       "</div>"
      ],
      "text/plain": [
       "                        universe_id universe_training_year  \\\n",
       "0  9f29a4954522ea96011bc88a815bf0ba                2012_14   \n",
       "\n",
       "  universe_training_size universe_scale    universe_model  \\\n",
       "0                    25k   do-not-scale  penalized_logreg   \n",
       "\n",
       "  universe_exclude_features universe_exclude_subgroups     q_hat  coverage  \\\n",
       "0                       age            drop-non-german  0.645776  0.912942   \n",
       "\n",
       "   avg_size  \n",
       "0  1.251611  "
      ]
     },
     "execution_count": 50,
     "metadata": {},
     "output_type": "execute_result"
    }
   ],
   "source": [
    "cp_metrics_df"
   ]
  },
  {
   "cell_type": "code",
   "execution_count": 51,
   "id": "b7fbde55-a0a1-47e4-9af6-fe4a17fa8c61",
   "metadata": {
    "execution": {
     "iopub.execute_input": "2025-08-05T20:59:21.706441Z",
     "iopub.status.busy": "2025-08-05T20:59:21.706058Z",
     "iopub.status.idle": "2025-08-05T20:59:21.710890Z",
     "shell.execute_reply": "2025-08-05T20:59:21.709855Z"
    },
    "papermill": {
     "duration": 0.03146,
     "end_time": "2025-08-05T20:59:21.712737",
     "exception": false,
     "start_time": "2025-08-05T20:59:21.681277",
     "status": "completed"
    },
    "tags": []
   },
   "outputs": [],
   "source": [
    "# Conditional Coverage & looking at subgroups"
   ]
  },
  {
   "cell_type": "code",
   "execution_count": 52,
   "id": "027ae886-68dd-4141-96c7-805a5450e1ef",
   "metadata": {
    "execution": {
     "iopub.execute_input": "2025-08-05T20:59:21.767850Z",
     "iopub.status.busy": "2025-08-05T20:59:21.767481Z",
     "iopub.status.idle": "2025-08-05T20:59:22.011980Z",
     "shell.execute_reply": "2025-08-05T20:59:22.011050Z"
    },
    "papermill": {
     "duration": 0.273779,
     "end_time": "2025-08-05T20:59:22.014229",
     "exception": false,
     "start_time": "2025-08-05T20:59:21.740450",
     "status": "completed"
    },
    "tags": []
   },
   "outputs": [],
   "source": [
    "from fairness_multiverse.conformal import build_cp_groups\n",
    "\n",
    "cp_groups_df = build_cp_groups(pred_sets, y_true, X_test.index, org_test)\n",
    "#needs universe_id and setting"
   ]
  },
  {
   "cell_type": "code",
   "execution_count": 53,
   "id": "6cbdab96-b2b2-45af-ad54-d0516db2e28d",
   "metadata": {
    "execution": {
     "iopub.execute_input": "2025-08-05T20:59:22.059520Z",
     "iopub.status.busy": "2025-08-05T20:59:22.058792Z",
     "iopub.status.idle": "2025-08-05T20:59:23.716147Z",
     "shell.execute_reply": "2025-08-05T20:59:23.715192Z"
    },
    "papermill": {
     "duration": 1.681439,
     "end_time": "2025-08-05T20:59:23.718075",
     "exception": false,
     "start_time": "2025-08-05T20:59:22.036636",
     "status": "completed"
    },
    "tags": []
   },
   "outputs": [],
   "source": [
    "# Define covered = 1 if true_label is in the predicted set\n",
    "cp_groups_df['covered'] = cp_groups_df.apply(\n",
    "    lambda r: int(r['true_label'] in r['pred_set']),\n",
    "    axis=1\n",
    ")"
   ]
  },
  {
   "cell_type": "code",
   "execution_count": 54,
   "id": "338ff529-1a6b-4b87-a931-8e4788d52aad",
   "metadata": {
    "execution": {
     "iopub.execute_input": "2025-08-05T20:59:23.760346Z",
     "iopub.status.busy": "2025-08-05T20:59:23.759835Z",
     "iopub.status.idle": "2025-08-05T20:59:23.764685Z",
     "shell.execute_reply": "2025-08-05T20:59:23.763803Z"
    },
    "papermill": {
     "duration": 0.027374,
     "end_time": "2025-08-05T20:59:23.766372",
     "exception": false,
     "start_time": "2025-08-05T20:59:23.738998",
     "status": "completed"
    },
    "tags": []
   },
   "outputs": [],
   "source": [
    "#cp_groups_df"
   ]
  },
  {
   "cell_type": "code",
   "execution_count": 55,
   "id": "90032e27-66df-4540-9169-4e89cfbaa758",
   "metadata": {
    "execution": {
     "iopub.execute_input": "2025-08-05T20:59:23.807779Z",
     "iopub.status.busy": "2025-08-05T20:59:23.807096Z",
     "iopub.status.idle": "2025-08-05T20:59:23.818878Z",
     "shell.execute_reply": "2025-08-05T20:59:23.817993Z"
    },
    "papermill": {
     "duration": 0.033745,
     "end_time": "2025-08-05T20:59:23.820443",
     "exception": false,
     "start_time": "2025-08-05T20:59:23.786698",
     "status": "completed"
    },
    "tags": []
   },
   "outputs": [],
   "source": [
    "subgroups = ['frau1','nongerman','nongerman_male','nongerman_female']\n",
    "\n",
    "# Conditional coverage for subgroup==1\n",
    "cond_coverage = {\n",
    "    g: cp_groups_df.loc[cp_groups_df[g]==1, 'covered'].mean()\n",
    "    for g in subgroups\n",
    "}"
   ]
  },
  {
   "cell_type": "code",
   "execution_count": 56,
   "id": "1e348fb1-b9c3-45bc-ba23-f016827a7e0d",
   "metadata": {
    "execution": {
     "iopub.execute_input": "2025-08-05T20:59:23.863871Z",
     "iopub.status.busy": "2025-08-05T20:59:23.863131Z",
     "iopub.status.idle": "2025-08-05T20:59:23.870013Z",
     "shell.execute_reply": "2025-08-05T20:59:23.869019Z"
    },
    "papermill": {
     "duration": 0.030908,
     "end_time": "2025-08-05T20:59:23.871778",
     "exception": false,
     "start_time": "2025-08-05T20:59:23.840870",
     "status": "completed"
    },
    "tags": []
   },
   "outputs": [
    {
     "data": {
      "text/plain": [
       "{'frau1': 0.9127645235206902,\n",
       " 'nongerman': 0.9627799921405715,\n",
       " 'nongerman_male': 0.9682968567053949,\n",
       " 'nongerman_female': 0.9536512667660209}"
      ]
     },
     "execution_count": 56,
     "metadata": {},
     "output_type": "execute_result"
    }
   ],
   "source": [
    "cond_coverage"
   ]
  },
  {
   "cell_type": "code",
   "execution_count": 57,
   "id": "f5093324-c3dd-4d63-bc4c-8d945e5c8bbb",
   "metadata": {
    "execution": {
     "iopub.execute_input": "2025-08-05T20:59:23.918192Z",
     "iopub.status.busy": "2025-08-05T20:59:23.917408Z",
     "iopub.status.idle": "2025-08-05T20:59:23.924282Z",
     "shell.execute_reply": "2025-08-05T20:59:23.923335Z"
    },
    "papermill": {
     "duration": 0.031758,
     "end_time": "2025-08-05T20:59:23.926076",
     "exception": false,
     "start_time": "2025-08-05T20:59:23.894318",
     "status": "completed"
    },
    "tags": []
   },
   "outputs": [],
   "source": [
    "for subgroup, cov in cond_coverage.items():\n",
    "    cp_metrics_df[f\"cov_{subgroup}\"] = cov"
   ]
  },
  {
   "cell_type": "code",
   "execution_count": 58,
   "id": "6e872e10-dbe5-49e8-b554-5030c98ff75d",
   "metadata": {
    "execution": {
     "iopub.execute_input": "2025-08-05T20:59:23.972454Z",
     "iopub.status.busy": "2025-08-05T20:59:23.971863Z",
     "iopub.status.idle": "2025-08-05T20:59:23.990150Z",
     "shell.execute_reply": "2025-08-05T20:59:23.989139Z"
    },
    "papermill": {
     "duration": 0.042709,
     "end_time": "2025-08-05T20:59:23.991663",
     "exception": false,
     "start_time": "2025-08-05T20:59:23.948954",
     "status": "completed"
    },
    "tags": []
   },
   "outputs": [
    {
     "data": {
      "text/html": [
       "<div>\n",
       "<style scoped>\n",
       "    .dataframe tbody tr th:only-of-type {\n",
       "        vertical-align: middle;\n",
       "    }\n",
       "\n",
       "    .dataframe tbody tr th {\n",
       "        vertical-align: top;\n",
       "    }\n",
       "\n",
       "    .dataframe thead th {\n",
       "        text-align: right;\n",
       "    }\n",
       "</style>\n",
       "<table border=\"1\" class=\"dataframe\">\n",
       "  <thead>\n",
       "    <tr style=\"text-align: right;\">\n",
       "      <th></th>\n",
       "      <th>universe_id</th>\n",
       "      <th>universe_training_year</th>\n",
       "      <th>universe_training_size</th>\n",
       "      <th>universe_scale</th>\n",
       "      <th>universe_model</th>\n",
       "      <th>universe_exclude_features</th>\n",
       "      <th>universe_exclude_subgroups</th>\n",
       "      <th>q_hat</th>\n",
       "      <th>coverage</th>\n",
       "      <th>avg_size</th>\n",
       "      <th>cov_frau1</th>\n",
       "      <th>cov_nongerman</th>\n",
       "      <th>cov_nongerman_male</th>\n",
       "      <th>cov_nongerman_female</th>\n",
       "    </tr>\n",
       "  </thead>\n",
       "  <tbody>\n",
       "    <tr>\n",
       "      <th>0</th>\n",
       "      <td>9f29a4954522ea96011bc88a815bf0ba</td>\n",
       "      <td>2012_14</td>\n",
       "      <td>25k</td>\n",
       "      <td>do-not-scale</td>\n",
       "      <td>penalized_logreg</td>\n",
       "      <td>age</td>\n",
       "      <td>drop-non-german</td>\n",
       "      <td>0.645776</td>\n",
       "      <td>0.912942</td>\n",
       "      <td>1.251611</td>\n",
       "      <td>0.912765</td>\n",
       "      <td>0.96278</td>\n",
       "      <td>0.968297</td>\n",
       "      <td>0.953651</td>\n",
       "    </tr>\n",
       "  </tbody>\n",
       "</table>\n",
       "</div>"
      ],
      "text/plain": [
       "                        universe_id universe_training_year  \\\n",
       "0  9f29a4954522ea96011bc88a815bf0ba                2012_14   \n",
       "\n",
       "  universe_training_size universe_scale    universe_model  \\\n",
       "0                    25k   do-not-scale  penalized_logreg   \n",
       "\n",
       "  universe_exclude_features universe_exclude_subgroups     q_hat  coverage  \\\n",
       "0                       age            drop-non-german  0.645776  0.912942   \n",
       "\n",
       "   avg_size  cov_frau1  cov_nongerman  cov_nongerman_male  \\\n",
       "0  1.251611   0.912765        0.96278            0.968297   \n",
       "\n",
       "   cov_nongerman_female  \n",
       "0              0.953651  "
      ]
     },
     "execution_count": 58,
     "metadata": {},
     "output_type": "execute_result"
    }
   ],
   "source": [
    "cp_metrics_df"
   ]
  },
  {
   "cell_type": "markdown",
   "id": "33774451",
   "metadata": {
    "papermill": {
     "duration": 0.022254,
     "end_time": "2025-08-05T20:59:24.036646",
     "exception": false,
     "start_time": "2025-08-05T20:59:24.014392",
     "status": "completed"
    },
    "tags": []
   },
   "source": [
    "# (Fairness) Metrics"
   ]
  },
  {
   "cell_type": "code",
   "execution_count": 59,
   "id": "debc5d62",
   "metadata": {
    "execution": {
     "iopub.execute_input": "2025-08-05T20:59:24.082848Z",
     "iopub.status.busy": "2025-08-05T20:59:24.082256Z",
     "iopub.status.idle": "2025-08-05T20:59:24.102104Z",
     "shell.execute_reply": "2025-08-05T20:59:24.101193Z"
    },
    "papermill": {
     "duration": 0.044482,
     "end_time": "2025-08-05T20:59:24.103675",
     "exception": false,
     "start_time": "2025-08-05T20:59:24.059193",
     "status": "completed"
    },
    "tags": []
   },
   "outputs": [],
   "source": [
    "# do I need to include maxdeutsch1.missing?\n",
    "\n",
    "import numpy as np\n",
    "\n",
    "colname_to_bin = \"maxdeutsch1\"\n",
    "majority_value = org_train[colname_to_bin].mode()[0]\n",
    "\n",
    "org_test[\"majmin\"] = np.where(org_test[colname_to_bin] == majority_value, \"majority\", \"minority\")"
   ]
  },
  {
   "cell_type": "code",
   "execution_count": 60,
   "id": "06a50de5",
   "metadata": {
    "execution": {
     "iopub.execute_input": "2025-08-05T20:59:24.150856Z",
     "iopub.status.busy": "2025-08-05T20:59:24.150095Z",
     "iopub.status.idle": "2025-08-05T20:59:26.520383Z",
     "shell.execute_reply": "2025-08-05T20:59:26.519594Z"
    },
    "papermill": {
     "duration": 2.395251,
     "end_time": "2025-08-05T20:59:26.522190",
     "exception": false,
     "start_time": "2025-08-05T20:59:24.126939",
     "status": "completed"
    },
    "tags": []
   },
   "outputs": [],
   "source": [
    "example_universe = universe.copy()\n",
    "example_universe[\"cutoff\"] = example_universe[\"cutoff\"][0]\n",
    "example_universe[\"eval_fairness_grouping\"] = example_universe[\"eval_fairness_grouping\"][0]\n",
    "fairness_dict, metric_frame = universe_analysis.compute_metrics(\n",
    "    example_universe,\n",
    "    y_pred_prob=probs_test,\n",
    "    y_test=y_true,\n",
    "    org_test=org_test,\n",
    ")"
   ]
  },
  {
   "cell_type": "markdown",
   "id": "f95d4e02",
   "metadata": {
    "papermill": {
     "duration": 0.022247,
     "end_time": "2025-08-05T20:59:26.567214",
     "exception": false,
     "start_time": "2025-08-05T20:59:26.544967",
     "status": "completed"
    },
    "tags": []
   },
   "source": [
    "# Overall"
   ]
  },
  {
   "cell_type": "markdown",
   "id": "bdee4871",
   "metadata": {
    "papermill": {
     "duration": 0.022699,
     "end_time": "2025-08-05T20:59:26.611384",
     "exception": false,
     "start_time": "2025-08-05T20:59:26.588685",
     "status": "completed"
    },
    "tags": []
   },
   "source": [
    "Fairness\n",
    "Main fairness target: Equalized Odds. Seems to be a better fit than equal opportunity, since we're not only interested in Y = 1. Seems to be a better fit than demographic parity, since we also care about accuracy, not just equal distribution of preds.\n",
    "\n",
    "Pick column for computation of fairness metrics\n",
    "\n",
    "Performance\n",
    "Overall performance measures, most interesting in relation to the measures split by group below"
   ]
  },
  {
   "cell_type": "code",
   "execution_count": 61,
   "id": "c4e067c6",
   "metadata": {
    "execution": {
     "iopub.execute_input": "2025-08-05T20:59:26.656296Z",
     "iopub.status.busy": "2025-08-05T20:59:26.655869Z",
     "iopub.status.idle": "2025-08-05T20:59:26.663926Z",
     "shell.execute_reply": "2025-08-05T20:59:26.662915Z"
    },
    "papermill": {
     "duration": 0.032769,
     "end_time": "2025-08-05T20:59:26.665563",
     "exception": false,
     "start_time": "2025-08-05T20:59:26.632794",
     "status": "completed"
    },
    "tags": []
   },
   "outputs": [
    {
     "data": {
      "text/plain": [
       "accuracy                   0.217423\n",
       "balanced accuracy          0.533085\n",
       "f1                         0.238945\n",
       "precision                  0.136502\n",
       "false positive rate        0.891512\n",
       "false negative rate        0.042318\n",
       "selection rate             0.900000\n",
       "count                  89710.000000\n",
       "dtype: float64"
      ]
     },
     "execution_count": 61,
     "metadata": {},
     "output_type": "execute_result"
    }
   ],
   "source": [
    "metric_frame.overall"
   ]
  },
  {
   "cell_type": "markdown",
   "id": "e968fe9d",
   "metadata": {
    "papermill": {
     "duration": 0.020613,
     "end_time": "2025-08-05T20:59:26.707877",
     "exception": false,
     "start_time": "2025-08-05T20:59:26.687264",
     "status": "completed"
    },
    "tags": []
   },
   "source": [
    "By Group"
   ]
  },
  {
   "cell_type": "code",
   "execution_count": 62,
   "id": "ec325bce",
   "metadata": {
    "execution": {
     "iopub.execute_input": "2025-08-05T20:59:26.752066Z",
     "iopub.status.busy": "2025-08-05T20:59:26.751617Z",
     "iopub.status.idle": "2025-08-05T20:59:26.767957Z",
     "shell.execute_reply": "2025-08-05T20:59:26.766963Z"
    },
    "papermill": {
     "duration": 0.040809,
     "end_time": "2025-08-05T20:59:26.769542",
     "exception": false,
     "start_time": "2025-08-05T20:59:26.728733",
     "status": "completed"
    },
    "tags": []
   },
   "outputs": [
    {
     "data": {
      "text/html": [
       "<div>\n",
       "<style scoped>\n",
       "    .dataframe tbody tr th:only-of-type {\n",
       "        vertical-align: middle;\n",
       "    }\n",
       "\n",
       "    .dataframe tbody tr th {\n",
       "        vertical-align: top;\n",
       "    }\n",
       "\n",
       "    .dataframe thead th {\n",
       "        text-align: right;\n",
       "    }\n",
       "</style>\n",
       "<table border=\"1\" class=\"dataframe\">\n",
       "  <thead>\n",
       "    <tr style=\"text-align: right;\">\n",
       "      <th></th>\n",
       "      <th>accuracy</th>\n",
       "      <th>balanced accuracy</th>\n",
       "      <th>f1</th>\n",
       "      <th>precision</th>\n",
       "      <th>false positive rate</th>\n",
       "      <th>false negative rate</th>\n",
       "      <th>selection rate</th>\n",
       "      <th>count</th>\n",
       "    </tr>\n",
       "    <tr>\n",
       "      <th>majmin</th>\n",
       "      <th></th>\n",
       "      <th></th>\n",
       "      <th></th>\n",
       "      <th></th>\n",
       "      <th></th>\n",
       "      <th></th>\n",
       "      <th></th>\n",
       "      <th></th>\n",
       "    </tr>\n",
       "  </thead>\n",
       "  <tbody>\n",
       "    <tr>\n",
       "      <th>majority</th>\n",
       "      <td>0.239960</td>\n",
       "      <td>0.541157</td>\n",
       "      <td>0.248413</td>\n",
       "      <td>0.142876</td>\n",
       "      <td>0.868233</td>\n",
       "      <td>0.049453</td>\n",
       "      <td>0.879109</td>\n",
       "      <td>69170.0</td>\n",
       "    </tr>\n",
       "    <tr>\n",
       "      <th>minority</th>\n",
       "      <td>0.141529</td>\n",
       "      <td>0.508403</td>\n",
       "      <td>0.209247</td>\n",
       "      <td>0.117054</td>\n",
       "      <td>0.968413</td>\n",
       "      <td>0.014780</td>\n",
       "      <td>0.970351</td>\n",
       "      <td>20540.0</td>\n",
       "    </tr>\n",
       "  </tbody>\n",
       "</table>\n",
       "</div>"
      ],
      "text/plain": [
       "          accuracy  balanced accuracy        f1  precision  \\\n",
       "majmin                                                       \n",
       "majority  0.239960           0.541157  0.248413   0.142876   \n",
       "minority  0.141529           0.508403  0.209247   0.117054   \n",
       "\n",
       "          false positive rate  false negative rate  selection rate    count  \n",
       "majmin                                                                       \n",
       "majority             0.868233             0.049453        0.879109  69170.0  \n",
       "minority             0.968413             0.014780        0.970351  20540.0  "
      ]
     },
     "execution_count": 62,
     "metadata": {},
     "output_type": "execute_result"
    }
   ],
   "source": [
    "metric_frame.by_group"
   ]
  },
  {
   "cell_type": "code",
   "execution_count": 63,
   "id": "a9ddbe63",
   "metadata": {
    "execution": {
     "iopub.execute_input": "2025-08-05T20:59:26.814091Z",
     "iopub.status.busy": "2025-08-05T20:59:26.813416Z",
     "iopub.status.idle": "2025-08-05T20:59:29.442515Z",
     "shell.execute_reply": "2025-08-05T20:59:29.441477Z"
    },
    "papermill": {
     "duration": 2.653209,
     "end_time": "2025-08-05T20:59:29.444276",
     "exception": false,
     "start_time": "2025-08-05T20:59:26.791067",
     "status": "completed"
    },
    "tags": []
   },
   "outputs": [
    {
     "data": {
      "text/plain": [
       "array([[<Axes: title={'center': 'accuracy'}, xlabel='majmin'>,\n",
       "        <Axes: title={'center': 'balanced accuracy'}, xlabel='majmin'>,\n",
       "        <Axes: title={'center': 'f1'}, xlabel='majmin'>],\n",
       "       [<Axes: title={'center': 'precision'}, xlabel='majmin'>,\n",
       "        <Axes: title={'center': 'false positive rate'}, xlabel='majmin'>,\n",
       "        <Axes: title={'center': 'false negative rate'}, xlabel='majmin'>],\n",
       "       [<Axes: title={'center': 'selection rate'}, xlabel='majmin'>,\n",
       "        <Axes: title={'center': 'count'}, xlabel='majmin'>,\n",
       "        <Axes: xlabel='majmin'>]], dtype=object)"
      ]
     },
     "execution_count": 63,
     "metadata": {},
     "output_type": "execute_result"
    },
    {
     "data": {
      "image/png": "[encoded data removed]",
      "text/plain": [
       "<Figure size 1200x800 with 9 Axes>"
      ]
     },
     "metadata": {},
     "output_type": "display_data"
    }
   ],
   "source": [
    "# In a graphic\n",
    "metric_frame.by_group.plot.bar(\n",
    "    subplots=True,\n",
    "    layout=[3, 3],\n",
    "    legend=False,\n",
    "    figsize=[12, 8],\n",
    "    title=\"Show all metrics\",\n",
    ")"
   ]
  },
  {
   "cell_type": "markdown",
   "id": "f57a0bac",
   "metadata": {
    "papermill": {
     "duration": 0.025341,
     "end_time": "2025-08-05T20:59:29.496834",
     "exception": false,
     "start_time": "2025-08-05T20:59:29.471493",
     "status": "completed"
    },
    "tags": []
   },
   "source": [
    "# Final Output"
   ]
  },
  {
   "cell_type": "code",
   "execution_count": 64,
   "id": "96d280a3",
   "metadata": {
    "execution": {
     "iopub.execute_input": "2025-08-05T20:59:29.548204Z",
     "iopub.status.busy": "2025-08-05T20:59:29.547478Z",
     "iopub.status.idle": "2025-08-05T20:59:29.556789Z",
     "shell.execute_reply": "2025-08-05T20:59:29.555889Z"
    },
    "papermill": {
     "duration": 0.036792,
     "end_time": "2025-08-05T20:59:29.558457",
     "exception": false,
     "start_time": "2025-08-05T20:59:29.521665",
     "status": "completed"
    },
    "tags": []
   },
   "outputs": [
    {
     "data": {
      "text/plain": [
       "4"
      ]
     },
     "execution_count": 64,
     "metadata": {},
     "output_type": "execute_result"
    }
   ],
   "source": [
    "sub_universes = universe_analysis.generate_sub_universes()\n",
    "len(sub_universes)"
   ]
  },
  {
   "cell_type": "code",
   "execution_count": 65,
   "id": "92adf7ba",
   "metadata": {
    "execution": {
     "iopub.execute_input": "2025-08-05T20:59:29.610393Z",
     "iopub.status.busy": "2025-08-05T20:59:29.609804Z",
     "iopub.status.idle": "2025-08-05T20:59:29.615940Z",
     "shell.execute_reply": "2025-08-05T20:59:29.615007Z"
    },
    "papermill": {
     "duration": 0.034274,
     "end_time": "2025-08-05T20:59:29.617763",
     "exception": false,
     "start_time": "2025-08-05T20:59:29.583489",
     "status": "completed"
    },
    "tags": []
   },
   "outputs": [],
   "source": [
    "def filter_sub_universe_data(sub_universe, org_test):\n",
    "    # Keep all rows — no filtering\n",
    "    keep_rows_mask = np.ones(org_test.shape[0], dtype=bool)\n",
    "\n",
    "    print(f\"[INFO] Keeping all rows: {keep_rows_mask.sum()} rows retained.\")\n",
    "    return keep_rows_mask"
   ]
  },
  {
   "cell_type": "code",
   "execution_count": 66,
   "id": "4a759155",
   "metadata": {
    "execution": {
     "iopub.execute_input": "2025-08-05T20:59:29.669743Z",
     "iopub.status.busy": "2025-08-05T20:59:29.668936Z",
     "iopub.status.idle": "2025-08-05T20:59:37.895363Z",
     "shell.execute_reply": "2025-08-05T20:59:37.894381Z"
    },
    "papermill": {
     "duration": 8.253493,
     "end_time": "2025-08-05T20:59:37.896786",
     "exception": false,
     "start_time": "2025-08-05T20:59:29.643293",
     "status": "completed"
    },
    "tags": []
   },
   "outputs": [
    {
     "name": "stdout",
     "output_type": "stream",
     "text": [
      "Stopping execution_time clock.\n",
      "[INFO] Keeping all rows: 89710 rows retained.\n"
     ]
    },
    {
     "name": "stdout",
     "output_type": "stream",
     "text": [
      "[INFO] Keeping all rows: 89710 rows retained.\n"
     ]
    },
    {
     "name": "stdout",
     "output_type": "stream",
     "text": [
      "[INFO] Keeping all rows: 89710 rows retained.\n"
     ]
    },
    {
     "name": "stdout",
     "output_type": "stream",
     "text": [
      "[INFO] Keeping all rows: 89710 rows retained.\n"
     ]
    },
    {
     "data": {
      "text/html": [
       "<div>\n",
       "<style scoped>\n",
       "    .dataframe tbody tr th:only-of-type {\n",
       "        vertical-align: middle;\n",
       "    }\n",
       "\n",
       "    .dataframe tbody tr th {\n",
       "        vertical-align: top;\n",
       "    }\n",
       "\n",
       "    .dataframe thead th {\n",
       "        text-align: right;\n",
       "    }\n",
       "</style>\n",
       "<table border=\"1\" class=\"dataframe\">\n",
       "  <thead>\n",
       "    <tr style=\"text-align: right;\">\n",
       "      <th></th>\n",
       "      <th>run_no</th>\n",
       "      <th>universe_id</th>\n",
       "      <th>universe_settings</th>\n",
       "      <th>execution_time</th>\n",
       "      <th>test_size_n</th>\n",
       "      <th>test_size_frac</th>\n",
       "      <th>fair_main_equalized_odds_difference</th>\n",
       "      <th>fair_main_equalized_odds_ratio</th>\n",
       "      <th>fair_main_demographic_parity_difference</th>\n",
       "      <th>fair_main_demographic_parity_ratio</th>\n",
       "      <th>...</th>\n",
       "      <th>perf_grp_precision_0</th>\n",
       "      <th>perf_grp_precision_1</th>\n",
       "      <th>perf_grp_false positive rate_0</th>\n",
       "      <th>perf_grp_false positive rate_1</th>\n",
       "      <th>perf_grp_false negative rate_0</th>\n",
       "      <th>perf_grp_false negative rate_1</th>\n",
       "      <th>perf_grp_selection rate_0</th>\n",
       "      <th>perf_grp_selection rate_1</th>\n",
       "      <th>perf_grp_count_0</th>\n",
       "      <th>perf_grp_count_1</th>\n",
       "    </tr>\n",
       "  </thead>\n",
       "  <tbody>\n",
       "    <tr>\n",
       "      <th>0</th>\n",
       "      <td>16</td>\n",
       "      <td>9f29a4954522ea96011bc88a815bf0ba</td>\n",
       "      <td>{\"cutoff\": \"quantile_0.1\", \"eval_fairness_grou...</td>\n",
       "      <td>26.339374</td>\n",
       "      <td>89710</td>\n",
       "      <td>1.0</td>\n",
       "      <td>0.100180</td>\n",
       "      <td>0.896552</td>\n",
       "      <td>0.091241</td>\n",
       "      <td>0.905971</td>\n",
       "      <td>...</td>\n",
       "      <td>NaN</td>\n",
       "      <td>NaN</td>\n",
       "      <td>NaN</td>\n",
       "      <td>NaN</td>\n",
       "      <td>NaN</td>\n",
       "      <td>NaN</td>\n",
       "      <td>NaN</td>\n",
       "      <td>NaN</td>\n",
       "      <td>NaN</td>\n",
       "      <td>NaN</td>\n",
       "    </tr>\n",
       "    <tr>\n",
       "      <th>0</th>\n",
       "      <td>16</td>\n",
       "      <td>9f29a4954522ea96011bc88a815bf0ba</td>\n",
       "      <td>{\"cutoff\": \"quantile_0.1\", \"eval_fairness_grou...</td>\n",
       "      <td>26.339374</td>\n",
       "      <td>89710</td>\n",
       "      <td>1.0</td>\n",
       "      <td>0.100180</td>\n",
       "      <td>0.896552</td>\n",
       "      <td>0.091241</td>\n",
       "      <td>0.905971</td>\n",
       "      <td>...</td>\n",
       "      <td>0.117054</td>\n",
       "      <td>0.142876</td>\n",
       "      <td>0.968413</td>\n",
       "      <td>0.868233</td>\n",
       "      <td>0.014780</td>\n",
       "      <td>0.049453</td>\n",
       "      <td>0.970351</td>\n",
       "      <td>0.879109</td>\n",
       "      <td>20540.0</td>\n",
       "      <td>69170.0</td>\n",
       "    </tr>\n",
       "    <tr>\n",
       "      <th>0</th>\n",
       "      <td>16</td>\n",
       "      <td>9f29a4954522ea96011bc88a815bf0ba</td>\n",
       "      <td>{\"cutoff\": \"quantile_0.25\", \"eval_fairness_gro...</td>\n",
       "      <td>26.339374</td>\n",
       "      <td>89710</td>\n",
       "      <td>1.0</td>\n",
       "      <td>0.235873</td>\n",
       "      <td>0.741712</td>\n",
       "      <td>0.217155</td>\n",
       "      <td>0.763301</td>\n",
       "      <td>...</td>\n",
       "      <td>NaN</td>\n",
       "      <td>NaN</td>\n",
       "      <td>NaN</td>\n",
       "      <td>NaN</td>\n",
       "      <td>NaN</td>\n",
       "      <td>NaN</td>\n",
       "      <td>NaN</td>\n",
       "      <td>NaN</td>\n",
       "      <td>NaN</td>\n",
       "      <td>NaN</td>\n",
       "    </tr>\n",
       "    <tr>\n",
       "      <th>0</th>\n",
       "      <td>16</td>\n",
       "      <td>9f29a4954522ea96011bc88a815bf0ba</td>\n",
       "      <td>{\"cutoff\": \"quantile_0.25\", \"eval_fairness_gro...</td>\n",
       "      <td>26.339374</td>\n",
       "      <td>89710</td>\n",
       "      <td>1.0</td>\n",
       "      <td>0.235873</td>\n",
       "      <td>0.741712</td>\n",
       "      <td>0.217155</td>\n",
       "      <td>0.763301</td>\n",
       "      <td>...</td>\n",
       "      <td>0.119348</td>\n",
       "      <td>0.160556</td>\n",
       "      <td>0.913218</td>\n",
       "      <td>0.677345</td>\n",
       "      <td>0.050253</td>\n",
       "      <td>0.149125</td>\n",
       "      <td>0.917429</td>\n",
       "      <td>0.700275</td>\n",
       "      <td>20540.0</td>\n",
       "      <td>69170.0</td>\n",
       "    </tr>\n",
       "  </tbody>\n",
       "</table>\n",
       "<p>4 rows × 50 columns</p>\n",
       "</div>"
      ],
      "text/plain": [
       "  run_no                       universe_id  \\\n",
       "0     16  9f29a4954522ea96011bc88a815bf0ba   \n",
       "0     16  9f29a4954522ea96011bc88a815bf0ba   \n",
       "0     16  9f29a4954522ea96011bc88a815bf0ba   \n",
       "0     16  9f29a4954522ea96011bc88a815bf0ba   \n",
       "\n",
       "                                   universe_settings  execution_time  \\\n",
       "0  {\"cutoff\": \"quantile_0.1\", \"eval_fairness_grou...       26.339374   \n",
       "0  {\"cutoff\": \"quantile_0.1\", \"eval_fairness_grou...       26.339374   \n",
       "0  {\"cutoff\": \"quantile_0.25\", \"eval_fairness_gro...       26.339374   \n",
       "0  {\"cutoff\": \"quantile_0.25\", \"eval_fairness_gro...       26.339374   \n",
       "\n",
       "   test_size_n  test_size_frac  fair_main_equalized_odds_difference  \\\n",
       "0        89710             1.0                             0.100180   \n",
       "0        89710             1.0                             0.100180   \n",
       "0        89710             1.0                             0.235873   \n",
       "0        89710             1.0                             0.235873   \n",
       "\n",
       "   fair_main_equalized_odds_ratio  fair_main_demographic_parity_difference  \\\n",
       "0                        0.896552                                 0.091241   \n",
       "0                        0.896552                                 0.091241   \n",
       "0                        0.741712                                 0.217155   \n",
       "0                        0.741712                                 0.217155   \n",
       "\n",
       "   fair_main_demographic_parity_ratio  ...  perf_grp_precision_0  \\\n",
       "0                            0.905971  ...                   NaN   \n",
       "0                            0.905971  ...              0.117054   \n",
       "0                            0.763301  ...                   NaN   \n",
       "0                            0.763301  ...              0.119348   \n",
       "\n",
       "   perf_grp_precision_1  perf_grp_false positive rate_0  \\\n",
       "0                   NaN                             NaN   \n",
       "0              0.142876                        0.968413   \n",
       "0                   NaN                             NaN   \n",
       "0              0.160556                        0.913218   \n",
       "\n",
       "   perf_grp_false positive rate_1  perf_grp_false negative rate_0  \\\n",
       "0                             NaN                             NaN   \n",
       "0                        0.868233                        0.014780   \n",
       "0                             NaN                             NaN   \n",
       "0                        0.677345                        0.050253   \n",
       "\n",
       "   perf_grp_false negative rate_1  perf_grp_selection rate_0  \\\n",
       "0                             NaN                        NaN   \n",
       "0                        0.049453                   0.970351   \n",
       "0                             NaN                        NaN   \n",
       "0                        0.149125                   0.917429   \n",
       "\n",
       "   perf_grp_selection rate_1  perf_grp_count_0  perf_grp_count_1  \n",
       "0                        NaN               NaN               NaN  \n",
       "0                   0.879109           20540.0           69170.0  \n",
       "0                        NaN               NaN               NaN  \n",
       "0                   0.700275           20540.0           69170.0  \n",
       "\n",
       "[4 rows x 50 columns]"
      ]
     },
     "execution_count": 66,
     "metadata": {},
     "output_type": "execute_result"
    }
   ],
   "source": [
    "final_output = universe_analysis.generate_final_output(\n",
    "    y_pred_prob=probs_test,\n",
    "    y_test=y_true,\n",
    "    org_test=org_test,\n",
    "    filter_data=filter_sub_universe_data,\n",
    "    cp_metrics_df=cp_metrics_df,\n",
    "    save=True,\n",
    ")\n",
    "final_output"
   ]
  }
 ],
 "metadata": {
  "celltoolbar": "Tags",
  "kernelspec": {
   "display_name": "Python (CMA Fairness)",
   "language": "python",
   "name": "cma_fair_env"
  },
  "language_info": {
   "codemirror_mode": {
    "name": "ipython",
    "version": 3
   },
   "file_extension": ".py",
   "mimetype": "text/x-python",
   "name": "python",
   "nbconvert_exporter": "python",
   "pygments_lexer": "ipython3",
   "version": "3.10.12"
  },
  "papermill": {
   "default_parameters": {},
   "duration": 38.591214,
   "end_time": "2025-08-05T20:59:38.545015",
   "environment_variables": {},
   "exception": null,
   "input_path": "universe_analysis.ipynb",
   "output_path": "output/runs/16/notebooks/m_16-9f29a4954522ea96011bc88a815bf0ba.ipynb",
   "parameters": {
    "output_dir": "output",
    "run_no": "16",
    "seed": "2023",
    "universe": "{\"cutoff\": [\"quantile_0.1\", \"quantile_0.25\"], \"eval_fairness_grouping\": [\"majority-minority\", \"nationality-all\"], \"exclude_features\": \"age\", \"exclude_subgroups\": \"drop-non-german\", \"model\": \"penalized_logreg\", \"scale\": \"do-not-scale\", \"training_size\": \"25k\", \"training_year\": \"2012_14\"}",
    "universe_id": "9f29a4954522ea96011bc88a815bf0ba"
   },
   "start_time": "2025-08-05T20:58:59.953801",
   "version": "2.6.0"
  }
 },
 "nbformat": 4,
 "nbformat_minor": 5
}