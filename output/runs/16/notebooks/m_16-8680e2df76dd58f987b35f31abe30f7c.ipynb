{
 "cells": [
  {
   "cell_type": "code",
   "execution_count": 1,
   "id": "f159f837-637b-42ba-96b5-ec9a68c44524",
   "metadata": {
    "execution": {
     "iopub.execute_input": "2025-08-05T20:33:25.173448Z",
     "iopub.status.busy": "2025-08-05T20:33:25.172956Z",
     "iopub.status.idle": "2025-08-05T20:33:25.187074Z",
     "shell.execute_reply": "2025-08-05T20:33:25.186111Z"
    },
    "papermill": {
     "duration": 0.03356,
     "end_time": "2025-08-05T20:33:25.188977",
     "exception": false,
     "start_time": "2025-08-05T20:33:25.155417",
     "status": "completed"
    },
    "tags": []
   },
   "outputs": [
    {
     "name": "stdout",
     "output_type": "stream",
     "text": [
      "/dss/dsshome1/0C/ra93lal2/cma/CMA_Fairness_v2\n"
     ]
    },
    {
     "name": "stderr",
     "output_type": "stream",
     "text": [
      "/dss/dsshome1/0C/ra93lal2/.local/share/virtualenvs/CMA_Fairness_v2-3j10GkSs/lib/python3.10/site-packages/IPython/core/magics/osm.py:393: UserWarning: This is now an optional IPython functionality, using bookmarks requires you to install the `pickleshare` library.\n",
      "  bkms = self.shell.db.get('bookmarks', {})\n",
      "/dss/dsshome1/0C/ra93lal2/.local/share/virtualenvs/CMA_Fairness_v2-3j10GkSs/lib/python3.10/site-packages/IPython/core/magics/osm.py:417: UserWarning: This is now an optional IPython functionality, setting dhist requires you to install the `pickleshare` library.\n",
      "  self.shell.db['dhist'] = compress_dhist(dhist)[-100:]\n"
     ]
    }
   ],
   "source": [
    "%cd ~/cma/CMA_Fairness_v2"
   ]
  },
  {
   "cell_type": "markdown",
   "id": "de2603b9",
   "metadata": {
    "papermill": {
     "duration": 0.009075,
     "end_time": "2025-08-05T20:33:25.207598",
     "exception": false,
     "start_time": "2025-08-05T20:33:25.198523",
     "status": "completed"
    },
    "tags": []
   },
   "source": [
    "The following cell holds the definition of our parameters, these values can be overriden by rendering the with e.g. the following command:\n",
    "\n",
    "papermill -p alpha 0.2 -p ratio 0.3 universe_analysis.ipynb output/test_run.ipynb"
   ]
  },
  {
   "cell_type": "code",
   "execution_count": 2,
   "id": "a80968a0-40bb-4fa9-85ef-2d5eefb01975",
   "metadata": {
    "execution": {
     "iopub.execute_input": "2025-08-05T20:33:25.225614Z",
     "iopub.status.busy": "2025-08-05T20:33:25.225272Z",
     "iopub.status.idle": "2025-08-05T20:33:25.230181Z",
     "shell.execute_reply": "2025-08-05T20:33:25.228974Z"
    },
    "papermill": {
     "duration": 0.015859,
     "end_time": "2025-08-05T20:33:25.231782",
     "exception": false,
     "start_time": "2025-08-05T20:33:25.215923",
     "status": "completed"
    },
    "tags": []
   },
   "outputs": [
    {
     "name": "stdout",
     "output_type": "stream",
     "text": [
      "Current working directory: /dss/dsshome1/0C/ra93lal2/cma/CMA_Fairness_v2\n"
     ]
    }
   ],
   "source": [
    "import os\n",
    "print(\"Current working directory:\", os.getcwd())"
   ]
  },
  {
   "cell_type": "code",
   "execution_count": 3,
   "id": "2dce4c03",
   "metadata": {
    "execution": {
     "iopub.execute_input": "2025-08-05T20:33:25.267903Z",
     "iopub.status.busy": "2025-08-05T20:33:25.266780Z",
     "iopub.status.idle": "2025-08-05T20:33:25.273626Z",
     "shell.execute_reply": "2025-08-05T20:33:25.272595Z"
    },
    "papermill": {
     "duration": 0.027945,
     "end_time": "2025-08-05T20:33:25.275788",
     "exception": false,
     "start_time": "2025-08-05T20:33:25.247843",
     "status": "completed"
    },
    "tags": [
     "parameters"
    ]
   },
   "outputs": [],
   "source": [
    "run_no = 0\n",
    "universe_id = \"test\"\n",
    "universe = {\n",
    "    \"training_size\": \"25k\", # \"25k\", \"5k\", \"1k\"\n",
    "    \"training_year\": \"2014\", # \"2014\", \"2012_14\", \"2010_14\"\n",
    "    \"scale\": \"scale\", # \"scale\", \"do-not-scale\",\n",
    "    \"model\": \"elasticnet\", # \"logreg\", \"penalized_logreg\", \"rf\", \"gbm\", \"elasticnet\"\n",
    "    \"cutoff\": [\"quantile_0.15\", \"quantile_0.30\"],\n",
    "    \"exclude_features\": \"age\", # \"none\", \"nationality\", \"sex\", \"nationality-sex\", \"age\"\n",
    "    \"exclude_subgroups\": \"keep-all\", # \"keep-all\", \"drop-non-german\"\n",
    "    \"eval_fairness_grouping\": [\"majority-minority\", \"nationality-all\"]\n",
    "}\n",
    "\n",
    "output_dir=\"./output\"\n",
    "seed=0"
   ]
  },
  {
   "cell_type": "code",
   "execution_count": 4,
   "id": "da10d98b",
   "metadata": {
    "execution": {
     "iopub.execute_input": "2025-08-05T20:33:25.312123Z",
     "iopub.status.busy": "2025-08-05T20:33:25.311119Z",
     "iopub.status.idle": "2025-08-05T20:33:25.316753Z",
     "shell.execute_reply": "2025-08-05T20:33:25.315815Z"
    },
    "papermill": {
     "duration": 0.025426,
     "end_time": "2025-08-05T20:33:25.318615",
     "exception": false,
     "start_time": "2025-08-05T20:33:25.293189",
     "status": "completed"
    },
    "tags": [
     "injected-parameters"
    ]
   },
   "outputs": [],
   "source": [
    "# Parameters\n",
    "universe_id = \"8680e2df76dd58f987b35f31abe30f7c\"\n",
    "run_no = \"16\"\n",
    "universe = \"{\\\"cutoff\\\": [\\\"quantile_0.1\\\", \\\"quantile_0.25\\\"], \\\"eval_fairness_grouping\\\": [\\\"majority-minority\\\", \\\"nationality-all\\\"], \\\"exclude_features\\\": \\\"age\\\", \\\"exclude_subgroups\\\": \\\"drop-non-german\\\", \\\"model\\\": \\\"logreg\\\", \\\"scale\\\": \\\"scale\\\", \\\"training_size\\\": \\\"25k\\\", \\\"training_year\\\": \\\"2014\\\"}\"\n",
    "output_dir = \"output\"\n",
    "seed = \"2023\"\n"
   ]
  },
  {
   "cell_type": "code",
   "execution_count": 5,
   "id": "1650acaf",
   "metadata": {
    "execution": {
     "iopub.execute_input": "2025-08-05T20:33:25.350422Z",
     "iopub.status.busy": "2025-08-05T20:33:25.350035Z",
     "iopub.status.idle": "2025-08-05T20:33:25.354690Z",
     "shell.execute_reply": "2025-08-05T20:33:25.353772Z"
    },
    "papermill": {
     "duration": 0.020961,
     "end_time": "2025-08-05T20:33:25.356200",
     "exception": false,
     "start_time": "2025-08-05T20:33:25.335239",
     "status": "completed"
    },
    "tags": []
   },
   "outputs": [],
   "source": [
    "import json\n",
    "if isinstance(universe, str):\n",
    "    universe = json.loads(universe)"
   ]
  },
  {
   "cell_type": "code",
   "execution_count": 6,
   "id": "16620c48",
   "metadata": {
    "execution": {
     "iopub.execute_input": "2025-08-05T20:33:25.389975Z",
     "iopub.status.busy": "2025-08-05T20:33:25.388986Z",
     "iopub.status.idle": "2025-08-05T20:33:25.439225Z",
     "shell.execute_reply": "2025-08-05T20:33:25.438381Z"
    },
    "papermill": {
     "duration": 0.067006,
     "end_time": "2025-08-05T20:33:25.440912",
     "exception": false,
     "start_time": "2025-08-05T20:33:25.373906",
     "status": "completed"
    },
    "tags": []
   },
   "outputs": [],
   "source": [
    "# Auto-reload the custom package\n",
    "%load_ext autoreload\n",
    "%autoreload 1\n",
    "%aimport fairness_multiverse"
   ]
  },
  {
   "cell_type": "code",
   "execution_count": 7,
   "id": "01c5c9f3",
   "metadata": {
    "execution": {
     "iopub.execute_input": "2025-08-05T20:33:25.476896Z",
     "iopub.status.busy": "2025-08-05T20:33:25.476164Z",
     "iopub.status.idle": "2025-08-05T20:33:26.932898Z",
     "shell.execute_reply": "2025-08-05T20:33:26.932042Z"
    },
    "papermill": {
     "duration": 1.474562,
     "end_time": "2025-08-05T20:33:26.934467",
     "exception": false,
     "start_time": "2025-08-05T20:33:25.459905",
     "status": "completed"
    },
    "tags": []
   },
   "outputs": [],
   "source": [
    "from fairness_multiverse.universe import UniverseAnalysis\n",
    "\n",
    "universe_analysis = UniverseAnalysis(\n",
    "    run_no = run_no,\n",
    "    universe_id = universe_id,\n",
    "    universe = universe,\n",
    "    output_dir=output_dir,\n",
    ")"
   ]
  },
  {
   "cell_type": "code",
   "execution_count": 8,
   "id": "106241f5",
   "metadata": {
    "execution": {
     "iopub.execute_input": "2025-08-05T20:33:26.952820Z",
     "iopub.status.busy": "2025-08-05T20:33:26.952498Z",
     "iopub.status.idle": "2025-08-05T20:33:26.957842Z",
     "shell.execute_reply": "2025-08-05T20:33:26.956918Z"
    },
    "papermill": {
     "duration": 0.016508,
     "end_time": "2025-08-05T20:33:26.959863",
     "exception": false,
     "start_time": "2025-08-05T20:33:26.943355",
     "status": "completed"
    },
    "tags": []
   },
   "outputs": [
    {
     "name": "stdout",
     "output_type": "stream",
     "text": [
      "Using Seed: 2023\n"
     ]
    }
   ],
   "source": [
    "import numpy as np\n",
    "parsed_seed = int(seed)\n",
    "np.random.seed(parsed_seed)\n",
    "print(f\"Using Seed: {parsed_seed}\")"
   ]
  },
  {
   "cell_type": "markdown",
   "id": "e0ebdc57",
   "metadata": {
    "papermill": {
     "duration": 0.008245,
     "end_time": "2025-08-05T20:33:26.976936",
     "exception": false,
     "start_time": "2025-08-05T20:33:26.968691",
     "status": "completed"
    },
    "tags": []
   },
   "source": [
    "# Loading Data"
   ]
  },
  {
   "cell_type": "code",
   "execution_count": 9,
   "id": "f0496b8a",
   "metadata": {
    "execution": {
     "iopub.execute_input": "2025-08-05T20:33:26.994994Z",
     "iopub.status.busy": "2025-08-05T20:33:26.994351Z",
     "iopub.status.idle": "2025-08-05T20:33:35.155587Z",
     "shell.execute_reply": "2025-08-05T20:33:35.154548Z"
    },
    "papermill": {
     "duration": 8.171638,
     "end_time": "2025-08-05T20:33:35.156828",
     "exception": false,
     "start_time": "2025-08-05T20:33:26.985190",
     "status": "completed"
    },
    "tags": []
   },
   "outputs": [
    {
     "name": "stdout",
     "output_type": "stream",
     "text": [
      "Loading SIAB data from cache: data/siab_cached.csv.gz\n"
     ]
    },
    {
     "name": "stdout",
     "output_type": "stream",
     "text": [
      "(643690, 164)\n"
     ]
    }
   ],
   "source": [
    "from pathlib import Path\n",
    "import pandas as pd\n",
    "\n",
    "# File paths\n",
    "raw_file = Path(\"data/raw/siab.csv\")\n",
    "cache_file = Path(\"data/siab_cached.csv.gz\")\n",
    "\n",
    "# Ensure cache directory exists\n",
    "cache_file.parent.mkdir(parents=True, exist_ok=True)\n",
    "\n",
    "# Load with simple caching\n",
    "if cache_file.exists():\n",
    "    print(f\"Loading SIAB data from cache: {cache_file}\")\n",
    "    siab = pd.read_csv(cache_file, compression='gzip')\n",
    "else:\n",
    "    print(f\"Cache not found. Reading raw SIAB data: {raw_file}\")\n",
    "    siab = pd.read_csv(raw_file)\n",
    "    siab.to_csv(cache_file, index=False, compression='gzip')\n",
    "    print(f\"Cached SIAB data to: {cache_file}\")\n",
    "\n",
    "print(siab.shape)"
   ]
  },
  {
   "cell_type": "code",
   "execution_count": 10,
   "id": "db0ca512-5f53-4dba-abdb-a2888bca41ba",
   "metadata": {
    "execution": {
     "iopub.execute_input": "2025-08-05T20:33:35.178335Z",
     "iopub.status.busy": "2025-08-05T20:33:35.177758Z",
     "iopub.status.idle": "2025-08-05T20:33:35.182071Z",
     "shell.execute_reply": "2025-08-05T20:33:35.181277Z"
    },
    "papermill": {
     "duration": 0.015032,
     "end_time": "2025-08-05T20:33:35.183402",
     "exception": false,
     "start_time": "2025-08-05T20:33:35.168370",
     "status": "completed"
    },
    "tags": []
   },
   "outputs": [],
   "source": [
    "#siab"
   ]
  },
  {
   "cell_type": "markdown",
   "id": "997051c5-15bd-4b69-9786-c3001a3ce484",
   "metadata": {
    "papermill": {
     "duration": 0.008759,
     "end_time": "2025-08-05T20:33:35.201556",
     "exception": false,
     "start_time": "2025-08-05T20:33:35.192797",
     "status": "completed"
    },
    "tags": []
   },
   "source": [
    "# Splitting Data and Setting Training Data Size"
   ]
  },
  {
   "cell_type": "code",
   "execution_count": 11,
   "id": "aea9c6ef-6f46-42c8-85eb-5a62025c1508",
   "metadata": {
    "execution": {
     "iopub.execute_input": "2025-08-05T20:33:35.221608Z",
     "iopub.status.busy": "2025-08-05T20:33:35.221108Z",
     "iopub.status.idle": "2025-08-05T20:33:35.500437Z",
     "shell.execute_reply": "2025-08-05T20:33:35.499693Z"
    },
    "papermill": {
     "duration": 0.290365,
     "end_time": "2025-08-05T20:33:35.501916",
     "exception": false,
     "start_time": "2025-08-05T20:33:35.211551",
     "status": "completed"
    },
    "tags": []
   },
   "outputs": [],
   "source": [
    "from fairness_multiverse.universe import sample_by_year_size\n",
    "\n",
    "siab_train = sample_by_year_size(siab,\n",
    "                               training_year=universe[\"training_year\"],\n",
    "                               training_size=universe[\"training_size\"])"
   ]
  },
  {
   "cell_type": "code",
   "execution_count": 12,
   "id": "8d3afb32-789d-442c-8d5d-9f5aa8dd2eed",
   "metadata": {
    "execution": {
     "iopub.execute_input": "2025-08-05T20:33:35.521120Z",
     "iopub.status.busy": "2025-08-05T20:33:35.520773Z",
     "iopub.status.idle": "2025-08-05T20:33:35.524770Z",
     "shell.execute_reply": "2025-08-05T20:33:35.523971Z"
    },
    "papermill": {
     "duration": 0.015173,
     "end_time": "2025-08-05T20:33:35.526216",
     "exception": false,
     "start_time": "2025-08-05T20:33:35.511043",
     "status": "completed"
    },
    "tags": []
   },
   "outputs": [],
   "source": [
    "#siab_train.shape"
   ]
  },
  {
   "cell_type": "code",
   "execution_count": 13,
   "id": "d582db68-1a4c-47fb-84fc-08518dc1975a",
   "metadata": {
    "execution": {
     "iopub.execute_input": "2025-08-05T20:33:35.546241Z",
     "iopub.status.busy": "2025-08-05T20:33:35.545562Z",
     "iopub.status.idle": "2025-08-05T20:33:35.549995Z",
     "shell.execute_reply": "2025-08-05T20:33:35.549228Z"
    },
    "papermill": {
     "duration": 0.015719,
     "end_time": "2025-08-05T20:33:35.551450",
     "exception": false,
     "start_time": "2025-08-05T20:33:35.535731",
     "status": "completed"
    },
    "tags": []
   },
   "outputs": [],
   "source": [
    "#display(siab_train.groupby(\"year\").size())"
   ]
  },
  {
   "cell_type": "code",
   "execution_count": 14,
   "id": "a561edb4-d032-42cb-8256-22eac1111c64",
   "metadata": {
    "execution": {
     "iopub.execute_input": "2025-08-05T20:33:35.571184Z",
     "iopub.status.busy": "2025-08-05T20:33:35.570701Z",
     "iopub.status.idle": "2025-08-05T20:33:35.797893Z",
     "shell.execute_reply": "2025-08-05T20:33:35.797051Z"
    },
    "papermill": {
     "duration": 0.238308,
     "end_time": "2025-08-05T20:33:35.799360",
     "exception": false,
     "start_time": "2025-08-05T20:33:35.561052",
     "status": "completed"
    },
    "tags": []
   },
   "outputs": [],
   "source": [
    "#siab_train = siab_s[siab_s.year < 2015]\n",
    "siab_calib = siab[siab.year == 2015]\n",
    "siab_test = siab[siab.year == 2016]"
   ]
  },
  {
   "cell_type": "code",
   "execution_count": 15,
   "id": "472de16f-c3db-4916-846b-1f0de9cf1746",
   "metadata": {
    "execution": {
     "iopub.execute_input": "2025-08-05T20:33:35.818671Z",
     "iopub.status.busy": "2025-08-05T20:33:35.818322Z",
     "iopub.status.idle": "2025-08-05T20:33:35.830882Z",
     "shell.execute_reply": "2025-08-05T20:33:35.829896Z"
    },
    "papermill": {
     "duration": 0.023915,
     "end_time": "2025-08-05T20:33:35.832474",
     "exception": false,
     "start_time": "2025-08-05T20:33:35.808559",
     "status": "completed"
    },
    "tags": []
   },
   "outputs": [],
   "source": [
    "X_train = siab_train.iloc[:,4:164]\n",
    "y_train = siab_train.iloc[:, [3]]"
   ]
  },
  {
   "cell_type": "code",
   "execution_count": 16,
   "id": "828c96af-f43a-4ed6-ba47-8ac73a47d56c",
   "metadata": {
    "execution": {
     "iopub.execute_input": "2025-08-05T20:33:35.852715Z",
     "iopub.status.busy": "2025-08-05T20:33:35.852024Z",
     "iopub.status.idle": "2025-08-05T20:33:35.898346Z",
     "shell.execute_reply": "2025-08-05T20:33:35.897568Z"
    },
    "papermill": {
     "duration": 0.057734,
     "end_time": "2025-08-05T20:33:35.900104",
     "exception": false,
     "start_time": "2025-08-05T20:33:35.842370",
     "status": "completed"
    },
    "tags": []
   },
   "outputs": [],
   "source": [
    "X_calib = siab_calib.iloc[:,4:164]\n",
    "y_calib = siab_calib.iloc[:, [3]]"
   ]
  },
  {
   "cell_type": "code",
   "execution_count": 17,
   "id": "c34be9c3-6bd6-476e-acd3-845840e303be",
   "metadata": {
    "execution": {
     "iopub.execute_input": "2025-08-05T20:33:35.920165Z",
     "iopub.status.busy": "2025-08-05T20:33:35.919823Z",
     "iopub.status.idle": "2025-08-05T20:33:35.967248Z",
     "shell.execute_reply": "2025-08-05T20:33:35.966271Z"
    },
    "papermill": {
     "duration": 0.058707,
     "end_time": "2025-08-05T20:33:35.968789",
     "exception": false,
     "start_time": "2025-08-05T20:33:35.910082",
     "status": "completed"
    },
    "tags": []
   },
   "outputs": [],
   "source": [
    "X_test = siab_test.iloc[:,4:164]\n",
    "y_true = siab_test.iloc[:, [3]]"
   ]
  },
  {
   "cell_type": "code",
   "execution_count": 18,
   "id": "e6c733c5",
   "metadata": {
    "execution": {
     "iopub.execute_input": "2025-08-05T20:33:35.989088Z",
     "iopub.status.busy": "2025-08-05T20:33:35.988749Z",
     "iopub.status.idle": "2025-08-05T20:33:36.078507Z",
     "shell.execute_reply": "2025-08-05T20:33:36.077775Z"
    },
    "papermill": {
     "duration": 0.101096,
     "end_time": "2025-08-05T20:33:36.079994",
     "exception": false,
     "start_time": "2025-08-05T20:33:35.978898",
     "status": "completed"
    },
    "tags": []
   },
   "outputs": [],
   "source": [
    "# Auxiliary data needed downstream in the pipeline\n",
    "\n",
    "org_train = X_train.copy()\n",
    "org_test = X_test.copy()\n",
    "org_calib = X_calib.copy()"
   ]
  },
  {
   "cell_type": "markdown",
   "id": "0a4a1b33",
   "metadata": {
    "papermill": {
     "duration": 0.009047,
     "end_time": "2025-08-05T20:33:36.098538",
     "exception": false,
     "start_time": "2025-08-05T20:33:36.089491",
     "status": "completed"
    },
    "tags": []
   },
   "source": [
    "# Preprocessing Data"
   ]
  },
  {
   "cell_type": "code",
   "execution_count": 19,
   "id": "ca879031",
   "metadata": {
    "execution": {
     "iopub.execute_input": "2025-08-05T20:33:36.118329Z",
     "iopub.status.busy": "2025-08-05T20:33:36.117812Z",
     "iopub.status.idle": "2025-08-05T20:33:36.122522Z",
     "shell.execute_reply": "2025-08-05T20:33:36.121640Z"
    },
    "papermill": {
     "duration": 0.016182,
     "end_time": "2025-08-05T20:33:36.124099",
     "exception": false,
     "start_time": "2025-08-05T20:33:36.107917",
     "status": "completed"
    },
    "tags": []
   },
   "outputs": [],
   "source": [
    "# EXCLUDE PROTECTED FEATURES\n",
    "# ----------------------\n",
    "# \"exclude_features\": \"none\", # \"nationality\", \"sex\", \"nationality-sex\"\n",
    "\n",
    "excluded_features = universe[\"exclude_features\"].split(\"-\") # split, e.g.: \"nationality-sex\" -> [\"nationality\", \"sex\"]\n",
    "excluded_features_dictionary = {\n",
    "    \"nationality\": [\"maxdeutsch1\", \"maxdeutsch.Missing.\"],\n",
    "    \"sex\": [\"frau1\"],\n",
    "    \"age\": [\"age\"],\n",
    "}"
   ]
  },
  {
   "cell_type": "code",
   "execution_count": 20,
   "id": "b745ac60",
   "metadata": {
    "execution": {
     "iopub.execute_input": "2025-08-05T20:33:36.144415Z",
     "iopub.status.busy": "2025-08-05T20:33:36.143745Z",
     "iopub.status.idle": "2025-08-05T20:33:36.148593Z",
     "shell.execute_reply": "2025-08-05T20:33:36.147889Z"
    },
    "papermill": {
     "duration": 0.016003,
     "end_time": "2025-08-05T20:33:36.150034",
     "exception": false,
     "start_time": "2025-08-05T20:33:36.134031",
     "status": "completed"
    },
    "tags": []
   },
   "outputs": [],
   "source": [
    "# Code nice names to column names\n",
    "\n",
    "excluded_features_columns = [\n",
    "    excluded_features_dictionary[f] for f in excluded_features if len(f) > 0 and f != \"none\"\n",
    "]"
   ]
  },
  {
   "cell_type": "code",
   "execution_count": 21,
   "id": "f84f73a2",
   "metadata": {
    "execution": {
     "iopub.execute_input": "2025-08-05T20:33:36.170561Z",
     "iopub.status.busy": "2025-08-05T20:33:36.169903Z",
     "iopub.status.idle": "2025-08-05T20:33:36.175204Z",
     "shell.execute_reply": "2025-08-05T20:33:36.174406Z"
    },
    "papermill": {
     "duration": 0.017017,
     "end_time": "2025-08-05T20:33:36.176883",
     "exception": false,
     "start_time": "2025-08-05T20:33:36.159866",
     "status": "completed"
    },
    "tags": []
   },
   "outputs": [],
   "source": [
    "from utils import flatten_once\n",
    "\n",
    "excluded_features_columns = flatten_once(excluded_features_columns)"
   ]
  },
  {
   "cell_type": "code",
   "execution_count": 22,
   "id": "884dea22",
   "metadata": {
    "execution": {
     "iopub.execute_input": "2025-08-05T20:33:36.198225Z",
     "iopub.status.busy": "2025-08-05T20:33:36.197355Z",
     "iopub.status.idle": "2025-08-05T20:33:36.220267Z",
     "shell.execute_reply": "2025-08-05T20:33:36.219467Z"
    },
    "papermill": {
     "duration": 0.034674,
     "end_time": "2025-08-05T20:33:36.221920",
     "exception": false,
     "start_time": "2025-08-05T20:33:36.187246",
     "status": "completed"
    },
    "tags": []
   },
   "outputs": [
    {
     "name": "stdout",
     "output_type": "stream",
     "text": [
      "Dropping features: ['age']\n"
     ]
    }
   ],
   "source": [
    "if len(excluded_features_columns) > 0:\n",
    "    print(f\"Dropping features: {excluded_features_columns}\")\n",
    "    X_train.drop(excluded_features_columns, axis=1, inplace=True)"
   ]
  },
  {
   "cell_type": "code",
   "execution_count": 23,
   "id": "95ab8b16",
   "metadata": {
    "execution": {
     "iopub.execute_input": "2025-08-05T20:33:36.242624Z",
     "iopub.status.busy": "2025-08-05T20:33:36.242120Z",
     "iopub.status.idle": "2025-08-05T20:33:36.292988Z",
     "shell.execute_reply": "2025-08-05T20:33:36.291909Z"
    },
    "papermill": {
     "duration": 0.062854,
     "end_time": "2025-08-05T20:33:36.294852",
     "exception": false,
     "start_time": "2025-08-05T20:33:36.231998",
     "status": "completed"
    },
    "tags": []
   },
   "outputs": [
    {
     "name": "stdout",
     "output_type": "stream",
     "text": [
      "Dropping features: ['age']\n"
     ]
    }
   ],
   "source": [
    "if len(excluded_features_columns) > 0:\n",
    "    print(f\"Dropping features: {excluded_features_columns}\")\n",
    "    X_test.drop(excluded_features_columns, axis=1, inplace=True)"
   ]
  },
  {
   "cell_type": "code",
   "execution_count": 24,
   "id": "1853aaf5-fb9f-46cb-a2b5-8ea4ae2237e4",
   "metadata": {
    "execution": {
     "iopub.execute_input": "2025-08-05T20:33:36.316159Z",
     "iopub.status.busy": "2025-08-05T20:33:36.315444Z",
     "iopub.status.idle": "2025-08-05T20:33:36.363670Z",
     "shell.execute_reply": "2025-08-05T20:33:36.362488Z"
    },
    "papermill": {
     "duration": 0.060135,
     "end_time": "2025-08-05T20:33:36.365271",
     "exception": false,
     "start_time": "2025-08-05T20:33:36.305136",
     "status": "completed"
    },
    "tags": []
   },
   "outputs": [
    {
     "name": "stdout",
     "output_type": "stream",
     "text": [
      "Dropping features: ['age']\n"
     ]
    }
   ],
   "source": [
    "if len(excluded_features_columns) > 0:\n",
    "    print(f\"Dropping features: {excluded_features_columns}\")\n",
    "    X_calib.drop(excluded_features_columns, axis=1, inplace=True)"
   ]
  },
  {
   "cell_type": "code",
   "execution_count": 25,
   "id": "76c4dc6d",
   "metadata": {
    "execution": {
     "iopub.execute_input": "2025-08-05T20:33:36.386445Z",
     "iopub.status.busy": "2025-08-05T20:33:36.385959Z",
     "iopub.status.idle": "2025-08-05T20:33:36.390610Z",
     "shell.execute_reply": "2025-08-05T20:33:36.389890Z"
    },
    "papermill": {
     "duration": 0.016616,
     "end_time": "2025-08-05T20:33:36.392204",
     "exception": false,
     "start_time": "2025-08-05T20:33:36.375588",
     "status": "completed"
    },
    "tags": []
   },
   "outputs": [],
   "source": [
    "# EXCLUDE CERTAIN SUBGROUPS\n",
    "# ----------------------\n",
    "\n",
    "mode = universe.get(\"exclude_subgroups\", \"keep-all\") \n",
    "# Fetches the exclude_subgroups setting from the universe dict.\n",
    "# Defaults to \"keep-all\" if the key is missing."
   ]
  },
  {
   "cell_type": "code",
   "execution_count": 26,
   "id": "21994072",
   "metadata": {
    "execution": {
     "iopub.execute_input": "2025-08-05T20:33:36.413999Z",
     "iopub.status.busy": "2025-08-05T20:33:36.413428Z",
     "iopub.status.idle": "2025-08-05T20:33:36.419642Z",
     "shell.execute_reply": "2025-08-05T20:33:36.418832Z"
    },
    "papermill": {
     "duration": 0.018007,
     "end_time": "2025-08-05T20:33:36.421052",
     "exception": false,
     "start_time": "2025-08-05T20:33:36.403045",
     "status": "completed"
    },
    "tags": []
   },
   "outputs": [],
   "source": [
    "if mode == \"keep-all\":\n",
    "    keep_mask = pd.Series(True, index=org_train.index)\n",
    "\n",
    "# org_train contains the original feature columns from features_org (in Simson)\n",
    "# features_org contains unprocessed features, for me X_train at beginning ???\n",
    "# For keep-all, creates a boolean Series (keep_mask) of all True, so no rows are removed.\n",
    "\n",
    "elif mode == \"drop-non-german\":\n",
    "    keep_mask = org_train[\"maxdeutsch1\"] == 1 # ??? what about missing values?\n",
    "\n",
    "else:\n",
    "    raise ValueError(f\"Unsupported mode for exclude_subgroups: {mode}\")"
   ]
  },
  {
   "cell_type": "code",
   "execution_count": 27,
   "id": "71651440",
   "metadata": {
    "execution": {
     "iopub.execute_input": "2025-08-05T20:33:36.442561Z",
     "iopub.status.busy": "2025-08-05T20:33:36.441723Z",
     "iopub.status.idle": "2025-08-05T20:33:36.448143Z",
     "shell.execute_reply": "2025-08-05T20:33:36.447225Z"
    },
    "papermill": {
     "duration": 0.018283,
     "end_time": "2025-08-05T20:33:36.449680",
     "exception": false,
     "start_time": "2025-08-05T20:33:36.431397",
     "status": "completed"
    },
    "tags": []
   },
   "outputs": [
    {
     "name": "stdout",
     "output_type": "stream",
     "text": [
      "Dropping 3688 rows (14.75%) where mode='drop-non-german'\n"
     ]
    }
   ],
   "source": [
    "n_drop = (~keep_mask).sum() # Calculates how many rows are set to be dropped\n",
    "if n_drop > 0:\n",
    "    pct = n_drop / len(keep_mask) * 100\n",
    "    print(f\"Dropping {n_drop} rows ({pct:.2f}%) where mode='{mode}'\")"
   ]
  },
  {
   "cell_type": "code",
   "execution_count": 28,
   "id": "5fb8eee5",
   "metadata": {
    "execution": {
     "iopub.execute_input": "2025-08-05T20:33:36.471351Z",
     "iopub.status.busy": "2025-08-05T20:33:36.470500Z",
     "iopub.status.idle": "2025-08-05T20:33:36.487858Z",
     "shell.execute_reply": "2025-08-05T20:33:36.486906Z"
    },
    "papermill": {
     "duration": 0.029636,
     "end_time": "2025-08-05T20:33:36.489579",
     "exception": false,
     "start_time": "2025-08-05T20:33:36.459943",
     "status": "completed"
    },
    "tags": []
   },
   "outputs": [],
   "source": [
    "X_train = X_train[keep_mask]"
   ]
  },
  {
   "cell_type": "code",
   "execution_count": 29,
   "id": "b202bb3a",
   "metadata": {
    "execution": {
     "iopub.execute_input": "2025-08-05T20:33:36.511022Z",
     "iopub.status.busy": "2025-08-05T20:33:36.510663Z",
     "iopub.status.idle": "2025-08-05T20:33:36.516135Z",
     "shell.execute_reply": "2025-08-05T20:33:36.515350Z"
    },
    "papermill": {
     "duration": 0.017492,
     "end_time": "2025-08-05T20:33:36.517747",
     "exception": false,
     "start_time": "2025-08-05T20:33:36.500255",
     "status": "completed"
    },
    "tags": []
   },
   "outputs": [],
   "source": [
    "y_train = y_train[keep_mask]"
   ]
  },
  {
   "cell_type": "markdown",
   "id": "493e2ac3",
   "metadata": {
    "papermill": {
     "duration": 0.009614,
     "end_time": "2025-08-05T20:33:36.538235",
     "exception": false,
     "start_time": "2025-08-05T20:33:36.528621",
     "status": "completed"
    },
    "tags": []
   },
   "source": [
    "# Model Training"
   ]
  },
  {
   "cell_type": "code",
   "execution_count": 30,
   "id": "679e1268",
   "metadata": {
    "execution": {
     "iopub.execute_input": "2025-08-05T20:33:36.558706Z",
     "iopub.status.busy": "2025-08-05T20:33:36.558195Z",
     "iopub.status.idle": "2025-08-05T20:33:36.632682Z",
     "shell.execute_reply": "2025-08-05T20:33:36.631948Z"
    },
    "papermill": {
     "duration": 0.086434,
     "end_time": "2025-08-05T20:33:36.634171",
     "exception": false,
     "start_time": "2025-08-05T20:33:36.547737",
     "status": "completed"
    },
    "tags": []
   },
   "outputs": [],
   "source": [
    "from sklearn.linear_model import LogisticRegression\n",
    "from sklearn.ensemble import GradientBoostingClassifier, RandomForestClassifier\n",
    "\n",
    "if (universe[\"model\"] == \"logreg\"):\n",
    "    model = LogisticRegression() #penalty=\"none\", solver=\"newton-cg\", max_iter=1) # include random_state=19 ?\n",
    "elif (universe[\"model\"] == \"penalized_logreg\"):\n",
    "    model = LogisticRegression(penalty=\"l2\", C=0.1) #, solver=\"newton-cg\", max_iter=1)\n",
    "elif (universe[\"model\"] == \"rf\"):\n",
    "    model = RandomForestClassifier() # n_estimators=100, n_jobs=-1\n",
    "elif (universe[\"model\"] == \"gbm\"):\n",
    "    model = GradientBoostingClassifier()\n",
    "elif (universe[\"model\"] == \"elasticnet\"):\n",
    "    model = LogisticRegression(penalty = 'elasticnet', solver = 'saga', l1_ratio = 0.5) # max_iter=5000\n",
    "else:\n",
    "    raise \"Unsupported universe.model\""
   ]
  },
  {
   "cell_type": "code",
   "execution_count": 31,
   "id": "0cc8f744",
   "metadata": {
    "execution": {
     "iopub.execute_input": "2025-08-05T20:33:36.656179Z",
     "iopub.status.busy": "2025-08-05T20:33:36.655431Z",
     "iopub.status.idle": "2025-08-05T20:33:36.660946Z",
     "shell.execute_reply": "2025-08-05T20:33:36.660131Z"
    },
    "papermill": {
     "duration": 0.018259,
     "end_time": "2025-08-05T20:33:36.662614",
     "exception": false,
     "start_time": "2025-08-05T20:33:36.644355",
     "status": "completed"
    },
    "tags": []
   },
   "outputs": [],
   "source": [
    "import numpy as np\n",
    "from sklearn.pipeline import Pipeline\n",
    "from sklearn.preprocessing import StandardScaler\n",
    "\n",
    "model = Pipeline([\n",
    "    #(\"continuous_processor\", continuous_processor),\n",
    "    #(\"categorical_preprocessor\", categorical_preprocessor),\n",
    "    (\"scale\", StandardScaler() if universe[\"scale\"] == \"scale\" else None), \n",
    "    (\"model\", model),\n",
    "])"
   ]
  },
  {
   "cell_type": "code",
   "execution_count": 32,
   "id": "9442c04d",
   "metadata": {
    "execution": {
     "iopub.execute_input": "2025-08-05T20:33:36.684750Z",
     "iopub.status.busy": "2025-08-05T20:33:36.684238Z",
     "iopub.status.idle": "2025-08-05T20:33:37.138228Z",
     "shell.execute_reply": "2025-08-05T20:33:37.137121Z"
    },
    "papermill": {
     "duration": 0.468421,
     "end_time": "2025-08-05T20:33:37.141918",
     "exception": false,
     "start_time": "2025-08-05T20:33:36.673497",
     "status": "completed"
    },
    "tags": []
   },
   "outputs": [
    {
     "name": "stderr",
     "output_type": "stream",
     "text": [
      "/dss/dsshome1/0C/ra93lal2/.local/share/virtualenvs/CMA_Fairness_v2-3j10GkSs/lib/python3.10/site-packages/sklearn/linear_model/_logistic.py:444: ConvergenceWarning: lbfgs failed to converge (status=1):\n",
      "STOP: TOTAL NO. of ITERATIONS REACHED LIMIT.\n",
      "\n",
      "Increase the number of iterations (max_iter) or scale the data as shown in:\n",
      "    https://scikit-learn.org/stable/modules/preprocessing.html\n",
      "Please also refer to the documentation for alternative solver options:\n",
      "    https://scikit-learn.org/stable/modules/linear_model.html#logistic-regression\n",
      "  n_iter_i = _check_optimize_result(\n"
     ]
    },
    {
     "data": {
      "text/html": [
       "<style>#sk-container-id-1 {color: black;background-color: white;}#sk-container-id-1 pre{padding: 0;}#sk-container-id-1 div.sk-toggleable {background-color: white;}#sk-container-id-1 label.sk-toggleable__label {cursor: pointer;display: block;width: 100%;margin-bottom: 0;padding: 0.3em;box-sizing: border-box;text-align: center;}#sk-container-id-1 label.sk-toggleable__label-arrow:before {content: \"▸\";float: left;margin-right: 0.25em;color: #696969;}#sk-container-id-1 label.sk-toggleable__label-arrow:hover:before {color: black;}#sk-container-id-1 div.sk-estimator:hover label.sk-toggleable__label-arrow:before {color: black;}#sk-container-id-1 div.sk-toggleable__content {max-height: 0;max-width: 0;overflow: hidden;text-align: left;background-color: #f0f8ff;}#sk-container-id-1 div.sk-toggleable__content pre {margin: 0.2em;color: black;border-radius: 0.25em;background-color: #f0f8ff;}#sk-container-id-1 input.sk-toggleable__control:checked~div.sk-toggleable__content {max-height: 200px;max-width: 100%;overflow: auto;}#sk-container-id-1 input.sk-toggleable__control:checked~label.sk-toggleable__label-arrow:before {content: \"▾\";}#sk-container-id-1 div.sk-estimator input.sk-toggleable__control:checked~label.sk-toggleable__label {background-color: #d4ebff;}#sk-container-id-1 div.sk-label input.sk-toggleable__control:checked~label.sk-toggleable__label {background-color: #d4ebff;}#sk-container-id-1 input.sk-hidden--visually {border: 0;clip: rect(1px 1px 1px 1px);clip: rect(1px, 1px, 1px, 1px);height: 1px;margin: -1px;overflow: hidden;padding: 0;position: absolute;width: 1px;}#sk-container-id-1 div.sk-estimator {font-family: monospace;background-color: #f0f8ff;border: 1px dotted black;border-radius: 0.25em;box-sizing: border-box;margin-bottom: 0.5em;}#sk-container-id-1 div.sk-estimator:hover {background-color: #d4ebff;}#sk-container-id-1 div.sk-parallel-item::after {content: \"\";width: 100%;border-bottom: 1px solid gray;flex-grow: 1;}#sk-container-id-1 div.sk-label:hover label.sk-toggleable__label {background-color: #d4ebff;}#sk-container-id-1 div.sk-serial::before {content: \"\";position: absolute;border-left: 1px solid gray;box-sizing: border-box;top: 0;bottom: 0;left: 50%;z-index: 0;}#sk-container-id-1 div.sk-serial {display: flex;flex-direction: column;align-items: center;background-color: white;padding-right: 0.2em;padding-left: 0.2em;position: relative;}#sk-container-id-1 div.sk-item {position: relative;z-index: 1;}#sk-container-id-1 div.sk-parallel {display: flex;align-items: stretch;justify-content: center;background-color: white;position: relative;}#sk-container-id-1 div.sk-item::before, #sk-container-id-1 div.sk-parallel-item::before {content: \"\";position: absolute;border-left: 1px solid gray;box-sizing: border-box;top: 0;bottom: 0;left: 50%;z-index: -1;}#sk-container-id-1 div.sk-parallel-item {display: flex;flex-direction: column;z-index: 1;position: relative;background-color: white;}#sk-container-id-1 div.sk-parallel-item:first-child::after {align-self: flex-end;width: 50%;}#sk-container-id-1 div.sk-parallel-item:last-child::after {align-self: flex-start;width: 50%;}#sk-container-id-1 div.sk-parallel-item:only-child::after {width: 0;}#sk-container-id-1 div.sk-dashed-wrapped {border: 1px dashed gray;margin: 0 0.4em 0.5em 0.4em;box-sizing: border-box;padding-bottom: 0.4em;background-color: white;}#sk-container-id-1 div.sk-label label {font-family: monospace;font-weight: bold;display: inline-block;line-height: 1.2em;}#sk-container-id-1 div.sk-label-container {text-align: center;}#sk-container-id-1 div.sk-container {/* jupyter's `normalize.less` sets `[hidden] { display: none; }` but bootstrap.min.css set `[hidden] { display: none !important; }` so we also need the `!important` here to be able to override the default hidden behavior on the sphinx rendered scikit-learn.org. See: https://github.com/scikit-learn/scikit-learn/issues/21755 */display: inline-block !important;position: relative;}#sk-container-id-1 div.sk-text-repr-fallback {display: none;}</style><div id=\"sk-container-id-1\" class=\"sk-top-container\"><div class=\"sk-text-repr-fallback\"><pre>Pipeline(steps=[(&#x27;scale&#x27;, StandardScaler()), (&#x27;model&#x27;, LogisticRegression())])</pre><b>In a Jupyter environment, please rerun this cell to show the HTML representation or trust the notebook. <br />On GitHub, the HTML representation is unable to render, please try loading this page with nbviewer.org.</b></div><div class=\"sk-container\" hidden><div class=\"sk-item sk-dashed-wrapped\"><div class=\"sk-label-container\"><div class=\"sk-label sk-toggleable\"><input class=\"sk-toggleable__control sk-hidden--visually\" id=\"sk-estimator-id-1\" type=\"checkbox\" ><label for=\"sk-estimator-id-1\" class=\"sk-toggleable__label sk-toggleable__label-arrow\">Pipeline</label><div class=\"sk-toggleable__content\"><pre>Pipeline(steps=[(&#x27;scale&#x27;, StandardScaler()), (&#x27;model&#x27;, LogisticRegression())])</pre></div></div></div><div class=\"sk-serial\"><div class=\"sk-item\"><div class=\"sk-estimator sk-toggleable\"><input class=\"sk-toggleable__control sk-hidden--visually\" id=\"sk-estimator-id-2\" type=\"checkbox\" ><label for=\"sk-estimator-id-2\" class=\"sk-toggleable__label sk-toggleable__label-arrow\">StandardScaler</label><div class=\"sk-toggleable__content\"><pre>StandardScaler()</pre></div></div></div><div class=\"sk-item\"><div class=\"sk-estimator sk-toggleable\"><input class=\"sk-toggleable__control sk-hidden--visually\" id=\"sk-estimator-id-3\" type=\"checkbox\" ><label for=\"sk-estimator-id-3\" class=\"sk-toggleable__label sk-toggleable__label-arrow\">LogisticRegression</label><div class=\"sk-toggleable__content\"><pre>LogisticRegression()</pre></div></div></div></div></div></div></div>"
      ],
      "text/plain": [
       "Pipeline(steps=[('scale', StandardScaler()), ('model', LogisticRegression())])"
      ]
     },
     "execution_count": 32,
     "metadata": {},
     "output_type": "execute_result"
    }
   ],
   "source": [
    "model.fit(X_train, y_train.values.ravel())"
   ]
  },
  {
   "cell_type": "code",
   "execution_count": 33,
   "id": "af59f8c0",
   "metadata": {
    "execution": {
     "iopub.execute_input": "2025-08-05T20:33:37.164216Z",
     "iopub.status.busy": "2025-08-05T20:33:37.163698Z",
     "iopub.status.idle": "2025-08-05T20:33:37.168594Z",
     "shell.execute_reply": "2025-08-05T20:33:37.167574Z"
    },
    "papermill": {
     "duration": 0.018326,
     "end_time": "2025-08-05T20:33:37.170985",
     "exception": false,
     "start_time": "2025-08-05T20:33:37.152659",
     "status": "completed"
    },
    "tags": []
   },
   "outputs": [],
   "source": [
    "from fairness_multiverse.universe import predict_w_threshold"
   ]
  },
  {
   "cell_type": "code",
   "execution_count": 34,
   "id": "a7cf2e16",
   "metadata": {
    "execution": {
     "iopub.execute_input": "2025-08-05T20:33:37.215166Z",
     "iopub.status.busy": "2025-08-05T20:33:37.214190Z",
     "iopub.status.idle": "2025-08-05T20:33:37.401083Z",
     "shell.execute_reply": "2025-08-05T20:33:37.400341Z"
    },
    "papermill": {
     "duration": 0.210074,
     "end_time": "2025-08-05T20:33:37.402567",
     "exception": false,
     "start_time": "2025-08-05T20:33:37.192493",
     "status": "completed"
    },
    "tags": []
   },
   "outputs": [
    {
     "data": {
      "text/plain": [
       "0.8646639170661019"
      ]
     },
     "execution_count": 34,
     "metadata": {},
     "output_type": "execute_result"
    }
   ],
   "source": [
    "probs_test = model.predict_proba(X_test)\n",
    "\n",
    "'''\n",
    "Below code returns a boolean array (or binary 0/1 array depending on how it’s used) where each element \n",
    "is True if the probability of class 1 is greater than or equal to the threshold, and False otherwise.\n",
    "'''\n",
    "y_pred_default = predict_w_threshold(probs_test, 0.5)\n",
    "\n",
    "from sklearn.metrics import accuracy_score\n",
    "\n",
    "# Naive prediction\n",
    "accuracy_score(y_true = y_true, y_pred = y_pred_default)"
   ]
  },
  {
   "cell_type": "code",
   "execution_count": 35,
   "id": "081964c3",
   "metadata": {
    "execution": {
     "iopub.execute_input": "2025-08-05T20:33:37.425742Z",
     "iopub.status.busy": "2025-08-05T20:33:37.425161Z",
     "iopub.status.idle": "2025-08-05T20:33:37.605173Z",
     "shell.execute_reply": "2025-08-05T20:33:37.604047Z"
    },
    "papermill": {
     "duration": 0.193926,
     "end_time": "2025-08-05T20:33:37.607542",
     "exception": false,
     "start_time": "2025-08-05T20:33:37.413616",
     "status": "completed"
    },
    "tags": []
   },
   "outputs": [
    {
     "data": {
      "text/plain": [
       "array([0, 0, 0, ..., 0, 0, 0])"
      ]
     },
     "execution_count": 35,
     "metadata": {},
     "output_type": "execute_result"
    }
   ],
   "source": [
    "model.predict(X_test)"
   ]
  },
  {
   "cell_type": "markdown",
   "id": "56c9705b",
   "metadata": {
    "papermill": {
     "duration": 0.029496,
     "end_time": "2025-08-05T20:33:37.666726",
     "exception": false,
     "start_time": "2025-08-05T20:33:37.637230",
     "status": "completed"
    },
    "tags": []
   },
   "source": [
    "# Conformal Prediction"
   ]
  },
  {
   "cell_type": "code",
   "execution_count": 36,
   "id": "160ec6ff",
   "metadata": {
    "execution": {
     "iopub.execute_input": "2025-08-05T20:33:37.727929Z",
     "iopub.status.busy": "2025-08-05T20:33:37.727274Z",
     "iopub.status.idle": "2025-08-05T20:33:37.734453Z",
     "shell.execute_reply": "2025-08-05T20:33:37.732843Z"
    },
    "papermill": {
     "duration": 0.040348,
     "end_time": "2025-08-05T20:33:37.736832",
     "exception": false,
     "start_time": "2025-08-05T20:33:37.696484",
     "status": "completed"
    },
    "tags": []
   },
   "outputs": [],
   "source": [
    "# Miscoverage level for conformal prediction (10% allowed error rate => 90% target coverage)\n",
    "alpha = 0.1"
   ]
  },
  {
   "cell_type": "code",
   "execution_count": 37,
   "id": "eadf4555-3dd3-440e-8e35-f82a4ad9f855",
   "metadata": {
    "execution": {
     "iopub.execute_input": "2025-08-05T20:33:37.798342Z",
     "iopub.status.busy": "2025-08-05T20:33:37.797219Z",
     "iopub.status.idle": "2025-08-05T20:33:38.016931Z",
     "shell.execute_reply": "2025-08-05T20:33:38.016180Z"
    },
    "papermill": {
     "duration": 0.253512,
     "end_time": "2025-08-05T20:33:38.019611",
     "exception": false,
     "start_time": "2025-08-05T20:33:37.766099",
     "status": "completed"
    },
    "tags": []
   },
   "outputs": [],
   "source": [
    "probs_calib = model.predict_proba(X_calib)"
   ]
  },
  {
   "cell_type": "code",
   "execution_count": 38,
   "id": "2ed93547-6d5d-4983-9b36-1ecb300da49a",
   "metadata": {
    "execution": {
     "iopub.execute_input": "2025-08-05T20:33:38.089057Z",
     "iopub.status.busy": "2025-08-05T20:33:38.088361Z",
     "iopub.status.idle": "2025-08-05T20:33:38.096457Z",
     "shell.execute_reply": "2025-08-05T20:33:38.094734Z"
    },
    "papermill": {
     "duration": 0.04585,
     "end_time": "2025-08-05T20:33:38.099154",
     "exception": false,
     "start_time": "2025-08-05T20:33:38.053304",
     "status": "completed"
    },
    "tags": []
   },
   "outputs": [],
   "source": [
    "y_calib = y_calib.values.ravel().astype(int)"
   ]
  },
  {
   "cell_type": "code",
   "execution_count": 39,
   "id": "65d1320d-f588-4b38-9072-62af1ae97f7d",
   "metadata": {
    "execution": {
     "iopub.execute_input": "2025-08-05T20:33:38.169506Z",
     "iopub.status.busy": "2025-08-05T20:33:38.168747Z",
     "iopub.status.idle": "2025-08-05T20:33:38.180851Z",
     "shell.execute_reply": "2025-08-05T20:33:38.179413Z"
    },
    "papermill": {
     "duration": 0.04952,
     "end_time": "2025-08-05T20:33:38.183542",
     "exception": false,
     "start_time": "2025-08-05T20:33:38.134022",
     "status": "completed"
    },
    "tags": []
   },
   "outputs": [],
   "source": [
    "from fairness_multiverse.conformal import compute_nc_scores\n",
    "\n",
    "# Compute nonconformity scores on calibration set (1 - probability of true class)\n",
    "nc_scores = compute_nc_scores(probs_calib, y_calib)"
   ]
  },
  {
   "cell_type": "code",
   "execution_count": 40,
   "id": "df3b8ca3-53b7-43d5-9667-7c85da7aeda2",
   "metadata": {
    "execution": {
     "iopub.execute_input": "2025-08-05T20:33:38.255216Z",
     "iopub.status.busy": "2025-08-05T20:33:38.254531Z",
     "iopub.status.idle": "2025-08-05T20:33:38.263982Z",
     "shell.execute_reply": "2025-08-05T20:33:38.262313Z"
    },
    "papermill": {
     "duration": 0.048843,
     "end_time": "2025-08-05T20:33:38.266928",
     "exception": false,
     "start_time": "2025-08-05T20:33:38.218085",
     "status": "completed"
    },
    "tags": []
   },
   "outputs": [],
   "source": [
    "from fairness_multiverse.conformal import find_threshold\n",
    "\n",
    "# Find conformal threshold q_hat for the given alpha (split conformal method)\n",
    "q_hat = find_threshold(nc_scores, alpha)"
   ]
  },
  {
   "cell_type": "code",
   "execution_count": 41,
   "id": "4d29e6c1-0ef6-4aa4-b8fe-4fe79b0d033a",
   "metadata": {
    "execution": {
     "iopub.execute_input": "2025-08-05T20:33:38.333934Z",
     "iopub.status.busy": "2025-08-05T20:33:38.333345Z",
     "iopub.status.idle": "2025-08-05T20:33:38.341331Z",
     "shell.execute_reply": "2025-08-05T20:33:38.339985Z"
    },
    "papermill": {
     "duration": 0.044436,
     "end_time": "2025-08-05T20:33:38.344227",
     "exception": false,
     "start_time": "2025-08-05T20:33:38.299791",
     "status": "completed"
    },
    "tags": []
   },
   "outputs": [
    {
     "data": {
      "text/plain": [
       "0.6802230587051555"
      ]
     },
     "execution_count": 41,
     "metadata": {},
     "output_type": "execute_result"
    }
   ],
   "source": [
    "q_hat"
   ]
  },
  {
   "cell_type": "code",
   "execution_count": 42,
   "id": "92460794-cdac-4be2-ba28-f28c0515a6fb",
   "metadata": {
    "execution": {
     "iopub.execute_input": "2025-08-05T20:33:38.413014Z",
     "iopub.status.busy": "2025-08-05T20:33:38.412468Z",
     "iopub.status.idle": "2025-08-05T20:33:39.158319Z",
     "shell.execute_reply": "2025-08-05T20:33:39.157102Z"
    },
    "papermill": {
     "duration": 0.783161,
     "end_time": "2025-08-05T20:33:39.160787",
     "exception": false,
     "start_time": "2025-08-05T20:33:38.377626",
     "status": "completed"
    },
    "tags": []
   },
   "outputs": [],
   "source": [
    "from fairness_multiverse.conformal import predict_conformal_sets\n",
    "\n",
    "# Generate prediction sets for each test example\n",
    "pred_sets = predict_conformal_sets(model, X_test, q_hat)"
   ]
  },
  {
   "cell_type": "code",
   "execution_count": 43,
   "id": "d90c9a65-e6db-4f5d-80cd-e68fb7e46829",
   "metadata": {
    "execution": {
     "iopub.execute_input": "2025-08-05T20:33:39.230942Z",
     "iopub.status.busy": "2025-08-05T20:33:39.230570Z",
     "iopub.status.idle": "2025-08-05T20:33:39.237625Z",
     "shell.execute_reply": "2025-08-05T20:33:39.236060Z"
    },
    "papermill": {
     "duration": 0.047627,
     "end_time": "2025-08-05T20:33:39.240349",
     "exception": false,
     "start_time": "2025-08-05T20:33:39.192722",
     "status": "completed"
    },
    "tags": []
   },
   "outputs": [],
   "source": [
    "y_true = y_true.squeeze()"
   ]
  },
  {
   "cell_type": "code",
   "execution_count": 44,
   "id": "3a58a54a-1e68-46b9-927a-df01f18aebc8",
   "metadata": {
    "execution": {
     "iopub.execute_input": "2025-08-05T20:33:39.303715Z",
     "iopub.status.busy": "2025-08-05T20:33:39.302734Z",
     "iopub.status.idle": "2025-08-05T20:33:40.267026Z",
     "shell.execute_reply": "2025-08-05T20:33:40.265591Z"
    },
    "papermill": {
     "duration": 0.999317,
     "end_time": "2025-08-05T20:33:40.270087",
     "exception": false,
     "start_time": "2025-08-05T20:33:39.270770",
     "status": "completed"
    },
    "tags": []
   },
   "outputs": [],
   "source": [
    "from fairness_multiverse.conformal import evaluate_sets\n",
    "\n",
    "# Evaluate coverage and average set size on test data\n",
    "metrics = evaluate_sets(pred_sets, y_true)"
   ]
  },
  {
   "cell_type": "markdown",
   "id": "2b569c12-9aaa-4c88-98c9-bbcd0cf3ebb8",
   "metadata": {
    "papermill": {
     "duration": 0.031794,
     "end_time": "2025-08-05T20:33:40.332311",
     "exception": false,
     "start_time": "2025-08-05T20:33:40.300517",
     "status": "completed"
    },
    "tags": []
   },
   "source": [
    "# CP Metrics"
   ]
  },
  {
   "cell_type": "code",
   "execution_count": 45,
   "id": "5ce0a5cb-201f-45a0-ade5-94c7f0bd6095",
   "metadata": {
    "execution": {
     "iopub.execute_input": "2025-08-05T20:33:40.395488Z",
     "iopub.status.busy": "2025-08-05T20:33:40.394789Z",
     "iopub.status.idle": "2025-08-05T20:33:40.405385Z",
     "shell.execute_reply": "2025-08-05T20:33:40.403829Z"
    },
    "papermill": {
     "duration": 0.045176,
     "end_time": "2025-08-05T20:33:40.407850",
     "exception": false,
     "start_time": "2025-08-05T20:33:40.362674",
     "status": "completed"
    },
    "tags": []
   },
   "outputs": [
    {
     "data": {
      "text/plain": [
       "{'coverage': 0.912362055512206, 'avg_size': 1.1260171664251477}"
      ]
     },
     "execution_count": 45,
     "metadata": {},
     "output_type": "execute_result"
    }
   ],
   "source": [
    "metrics"
   ]
  },
  {
   "cell_type": "code",
   "execution_count": 46,
   "id": "9b9a838d-31c9-430b-ae14-12baee460d17",
   "metadata": {
    "execution": {
     "iopub.execute_input": "2025-08-05T20:33:40.469206Z",
     "iopub.status.busy": "2025-08-05T20:33:40.468593Z",
     "iopub.status.idle": "2025-08-05T20:33:40.476493Z",
     "shell.execute_reply": "2025-08-05T20:33:40.475303Z"
    },
    "papermill": {
     "duration": 0.039626,
     "end_time": "2025-08-05T20:33:40.478595",
     "exception": false,
     "start_time": "2025-08-05T20:33:40.438969",
     "status": "completed"
    },
    "tags": []
   },
   "outputs": [],
   "source": [
    "example_universe = universe.copy()\n",
    "universe_training_year = example_universe.get(\"training_year\")\n",
    "universe_training_size = example_universe.get(\"training_size\")\n",
    "universe_scale = example_universe.get(\"scale\")\n",
    "universe_model = example_universe.get(\"model\")\n",
    "universe_exclude_features = example_universe.get(\"exclude_features\")\n",
    "universe_exclude_subgroups = example_universe.get(\"exclude_subgroups\")"
   ]
  },
  {
   "cell_type": "code",
   "execution_count": 47,
   "id": "f4b6a8ac-9dc0-4245-8a91-5b3b5999c4f9",
   "metadata": {
    "execution": {
     "iopub.execute_input": "2025-08-05T20:33:40.542457Z",
     "iopub.status.busy": "2025-08-05T20:33:40.540809Z",
     "iopub.status.idle": "2025-08-05T20:33:40.549456Z",
     "shell.execute_reply": "2025-08-05T20:33:40.548385Z"
    },
    "papermill": {
     "duration": 0.043933,
     "end_time": "2025-08-05T20:33:40.552960",
     "exception": false,
     "start_time": "2025-08-05T20:33:40.509027",
     "status": "completed"
    },
    "tags": []
   },
   "outputs": [],
   "source": [
    "cp_metrics_dict = {\n",
    "    \"universe_id\": [universe_id],\n",
    "    \"universe_training_year\": [universe_training_year],\n",
    "    \"universe_training_size\": [universe_training_size],\n",
    "    \"universe_scale\": [universe_scale],\n",
    "    \"universe_model\": [universe_model],\n",
    "    \"universe_exclude_features\": [universe_exclude_features],\n",
    "    \"universe_exclude_subgroups\": [universe_exclude_subgroups],\n",
    "    \"q_hat\": [q_hat],\n",
    "    \"coverage\": [metrics[\"coverage\"]],\n",
    "    \"avg_size\": [metrics[\"avg_size\"]],\n",
    "}"
   ]
  },
  {
   "cell_type": "code",
   "execution_count": 48,
   "id": "908acbb1-0371-4915-85ca-3fa520d2efe2",
   "metadata": {
    "execution": {
     "iopub.execute_input": "2025-08-05T20:33:40.617220Z",
     "iopub.status.busy": "2025-08-05T20:33:40.616731Z",
     "iopub.status.idle": "2025-08-05T20:33:40.625185Z",
     "shell.execute_reply": "2025-08-05T20:33:40.624016Z"
    },
    "papermill": {
     "duration": 0.043067,
     "end_time": "2025-08-05T20:33:40.627381",
     "exception": false,
     "start_time": "2025-08-05T20:33:40.584314",
     "status": "completed"
    },
    "tags": []
   },
   "outputs": [
    {
     "data": {
      "text/plain": [
       "{'universe_id': ['8680e2df76dd58f987b35f31abe30f7c'],\n",
       " 'universe_training_year': ['2014'],\n",
       " 'universe_training_size': ['25k'],\n",
       " 'universe_scale': ['scale'],\n",
       " 'universe_model': ['logreg'],\n",
       " 'universe_exclude_features': ['age'],\n",
       " 'universe_exclude_subgroups': ['drop-non-german'],\n",
       " 'q_hat': [0.6802230587051555],\n",
       " 'coverage': [0.912362055512206],\n",
       " 'avg_size': [1.1260171664251477]}"
      ]
     },
     "execution_count": 48,
     "metadata": {},
     "output_type": "execute_result"
    }
   ],
   "source": [
    "cp_metrics_dict"
   ]
  },
  {
   "cell_type": "code",
   "execution_count": 49,
   "id": "33007efc-14e9-4ec6-97ac-56a455c82265",
   "metadata": {
    "execution": {
     "iopub.execute_input": "2025-08-05T20:33:40.654135Z",
     "iopub.status.busy": "2025-08-05T20:33:40.653161Z",
     "iopub.status.idle": "2025-08-05T20:33:40.668839Z",
     "shell.execute_reply": "2025-08-05T20:33:40.668056Z"
    },
    "papermill": {
     "duration": 0.030134,
     "end_time": "2025-08-05T20:33:40.670700",
     "exception": false,
     "start_time": "2025-08-05T20:33:40.640566",
     "status": "completed"
    },
    "tags": []
   },
   "outputs": [],
   "source": [
    "cp_metrics_df = pd.DataFrame(cp_metrics_dict)"
   ]
  },
  {
   "cell_type": "code",
   "execution_count": 50,
   "id": "db12611b-57b2-4910-b9d0-355adfd6e7bf",
   "metadata": {
    "execution": {
     "iopub.execute_input": "2025-08-05T20:33:40.701056Z",
     "iopub.status.busy": "2025-08-05T20:33:40.700565Z",
     "iopub.status.idle": "2025-08-05T20:33:40.720184Z",
     "shell.execute_reply": "2025-08-05T20:33:40.719239Z"
    },
    "papermill": {
     "duration": 0.039006,
     "end_time": "2025-08-05T20:33:40.721927",
     "exception": false,
     "start_time": "2025-08-05T20:33:40.682921",
     "status": "completed"
    },
    "tags": []
   },
   "outputs": [
    {
     "data": {
      "text/html": [
       "<div>\n",
       "<style scoped>\n",
       "    .dataframe tbody tr th:only-of-type {\n",
       "        vertical-align: middle;\n",
       "    }\n",
       "\n",
       "    .dataframe tbody tr th {\n",
       "        vertical-align: top;\n",
       "    }\n",
       "\n",
       "    .dataframe thead th {\n",
       "        text-align: right;\n",
       "    }\n",
       "</style>\n",
       "<table border=\"1\" class=\"dataframe\">\n",
       "  <thead>\n",
       "    <tr style=\"text-align: right;\">\n",
       "      <th></th>\n",
       "      <th>universe_id</th>\n",
       "      <th>universe_training_year</th>\n",
       "      <th>universe_training_size</th>\n",
       "      <th>universe_scale</th>\n",
       "      <th>universe_model</th>\n",
       "      <th>universe_exclude_features</th>\n",
       "      <th>universe_exclude_subgroups</th>\n",
       "      <th>q_hat</th>\n",
       "      <th>coverage</th>\n",
       "      <th>avg_size</th>\n",
       "    </tr>\n",
       "  </thead>\n",
       "  <tbody>\n",
       "    <tr>\n",
       "      <th>0</th>\n",
       "      <td>8680e2df76dd58f987b35f31abe30f7c</td>\n",
       "      <td>2014</td>\n",
       "      <td>25k</td>\n",
       "      <td>scale</td>\n",
       "      <td>logreg</td>\n",
       "      <td>age</td>\n",
       "      <td>drop-non-german</td>\n",
       "      <td>0.680223</td>\n",
       "      <td>0.912362</td>\n",
       "      <td>1.126017</td>\n",
       "    </tr>\n",
       "  </tbody>\n",
       "</table>\n",
       "</div>"
      ],
      "text/plain": [
       "                        universe_id universe_training_year  \\\n",
       "0  8680e2df76dd58f987b35f31abe30f7c                   2014   \n",
       "\n",
       "  universe_training_size universe_scale universe_model  \\\n",
       "0                    25k          scale         logreg   \n",
       "\n",
       "  universe_exclude_features universe_exclude_subgroups     q_hat  coverage  \\\n",
       "0                       age            drop-non-german  0.680223  0.912362   \n",
       "\n",
       "   avg_size  \n",
       "0  1.126017  "
      ]
     },
     "execution_count": 50,
     "metadata": {},
     "output_type": "execute_result"
    }
   ],
   "source": [
    "cp_metrics_df"
   ]
  },
  {
   "cell_type": "code",
   "execution_count": 51,
   "id": "b7fbde55-a0a1-47e4-9af6-fe4a17fa8c61",
   "metadata": {
    "execution": {
     "iopub.execute_input": "2025-08-05T20:33:40.769071Z",
     "iopub.status.busy": "2025-08-05T20:33:40.768649Z",
     "iopub.status.idle": "2025-08-05T20:33:40.774148Z",
     "shell.execute_reply": "2025-08-05T20:33:40.773046Z"
    },
    "papermill": {
     "duration": 0.030532,
     "end_time": "2025-08-05T20:33:40.776151",
     "exception": false,
     "start_time": "2025-08-05T20:33:40.745619",
     "status": "completed"
    },
    "tags": []
   },
   "outputs": [],
   "source": [
    "# Conditional Coverage & looking at subgroups"
   ]
  },
  {
   "cell_type": "code",
   "execution_count": 52,
   "id": "027ae886-68dd-4141-96c7-805a5450e1ef",
   "metadata": {
    "execution": {
     "iopub.execute_input": "2025-08-05T20:33:40.824112Z",
     "iopub.status.busy": "2025-08-05T20:33:40.823622Z",
     "iopub.status.idle": "2025-08-05T20:33:41.044774Z",
     "shell.execute_reply": "2025-08-05T20:33:41.043991Z"
    },
    "papermill": {
     "duration": 0.246436,
     "end_time": "2025-08-05T20:33:41.046234",
     "exception": false,
     "start_time": "2025-08-05T20:33:40.799798",
     "status": "completed"
    },
    "tags": []
   },
   "outputs": [],
   "source": [
    "from fairness_multiverse.conformal import build_cp_groups\n",
    "\n",
    "cp_groups_df = build_cp_groups(pred_sets, y_true, X_test.index, org_test)\n",
    "#needs universe_id and setting"
   ]
  },
  {
   "cell_type": "code",
   "execution_count": 53,
   "id": "6cbdab96-b2b2-45af-ad54-d0516db2e28d",
   "metadata": {
    "execution": {
     "iopub.execute_input": "2025-08-05T20:33:41.088549Z",
     "iopub.status.busy": "2025-08-05T20:33:41.088196Z",
     "iopub.status.idle": "2025-08-05T20:33:42.452814Z",
     "shell.execute_reply": "2025-08-05T20:33:42.451408Z"
    },
    "papermill": {
     "duration": 1.390113,
     "end_time": "2025-08-05T20:33:42.454844",
     "exception": false,
     "start_time": "2025-08-05T20:33:41.064731",
     "status": "completed"
    },
    "tags": []
   },
   "outputs": [],
   "source": [
    "# Define covered = 1 if true_label is in the predicted set\n",
    "cp_groups_df['covered'] = cp_groups_df.apply(\n",
    "    lambda r: int(r['true_label'] in r['pred_set']),\n",
    "    axis=1\n",
    ")"
   ]
  },
  {
   "cell_type": "code",
   "execution_count": 54,
   "id": "338ff529-1a6b-4b87-a931-8e4788d52aad",
   "metadata": {
    "execution": {
     "iopub.execute_input": "2025-08-05T20:33:42.516447Z",
     "iopub.status.busy": "2025-08-05T20:33:42.515555Z",
     "iopub.status.idle": "2025-08-05T20:33:42.522833Z",
     "shell.execute_reply": "2025-08-05T20:33:42.521373Z"
    },
    "papermill": {
     "duration": 0.04447,
     "end_time": "2025-08-05T20:33:42.525975",
     "exception": false,
     "start_time": "2025-08-05T20:33:42.481505",
     "status": "completed"
    },
    "tags": []
   },
   "outputs": [],
   "source": [
    "#cp_groups_df"
   ]
  },
  {
   "cell_type": "code",
   "execution_count": 55,
   "id": "90032e27-66df-4540-9169-4e89cfbaa758",
   "metadata": {
    "execution": {
     "iopub.execute_input": "2025-08-05T20:33:42.591820Z",
     "iopub.status.busy": "2025-08-05T20:33:42.591372Z",
     "iopub.status.idle": "2025-08-05T20:33:42.608216Z",
     "shell.execute_reply": "2025-08-05T20:33:42.606759Z"
    },
    "papermill": {
     "duration": 0.053139,
     "end_time": "2025-08-05T20:33:42.610540",
     "exception": false,
     "start_time": "2025-08-05T20:33:42.557401",
     "status": "completed"
    },
    "tags": []
   },
   "outputs": [],
   "source": [
    "subgroups = ['frau1','nongerman','nongerman_male','nongerman_female']\n",
    "\n",
    "# Conditional coverage for subgroup==1\n",
    "cond_coverage = {\n",
    "    g: cp_groups_df.loc[cp_groups_df[g]==1, 'covered'].mean()\n",
    "    for g in subgroups\n",
    "}"
   ]
  },
  {
   "cell_type": "code",
   "execution_count": 56,
   "id": "1e348fb1-b9c3-45bc-ba23-f016827a7e0d",
   "metadata": {
    "execution": {
     "iopub.execute_input": "2025-08-05T20:33:42.663118Z",
     "iopub.status.busy": "2025-08-05T20:33:42.662651Z",
     "iopub.status.idle": "2025-08-05T20:33:42.669376Z",
     "shell.execute_reply": "2025-08-05T20:33:42.668515Z"
    },
    "papermill": {
     "duration": 0.035044,
     "end_time": "2025-08-05T20:33:42.674803",
     "exception": false,
     "start_time": "2025-08-05T20:33:42.639759",
     "status": "completed"
    },
    "tags": []
   },
   "outputs": [
    {
     "data": {
      "text/plain": [
       "{'frau1': 0.9111470548591455,\n",
       " 'nongerman': 0.9082131027900971,\n",
       " 'nongerman_male': 0.9249752319193011,\n",
       " 'nongerman_female': 0.8804769001490313}"
      ]
     },
     "execution_count": 56,
     "metadata": {},
     "output_type": "execute_result"
    }
   ],
   "source": [
    "cond_coverage"
   ]
  },
  {
   "cell_type": "code",
   "execution_count": 57,
   "id": "f5093324-c3dd-4d63-bc4c-8d945e5c8bbb",
   "metadata": {
    "execution": {
     "iopub.execute_input": "2025-08-05T20:33:42.713530Z",
     "iopub.status.busy": "2025-08-05T20:33:42.712942Z",
     "iopub.status.idle": "2025-08-05T20:33:42.721759Z",
     "shell.execute_reply": "2025-08-05T20:33:42.720336Z"
    },
    "papermill": {
     "duration": 0.028821,
     "end_time": "2025-08-05T20:33:42.723667",
     "exception": false,
     "start_time": "2025-08-05T20:33:42.694846",
     "status": "completed"
    },
    "tags": []
   },
   "outputs": [],
   "source": [
    "for subgroup, cov in cond_coverage.items():\n",
    "    cp_metrics_df[f\"cov_{subgroup}\"] = cov"
   ]
  },
  {
   "cell_type": "code",
   "execution_count": 58,
   "id": "6e872e10-dbe5-49e8-b554-5030c98ff75d",
   "metadata": {
    "execution": {
     "iopub.execute_input": "2025-08-05T20:33:42.775456Z",
     "iopub.status.busy": "2025-08-05T20:33:42.774836Z",
     "iopub.status.idle": "2025-08-05T20:33:42.791395Z",
     "shell.execute_reply": "2025-08-05T20:33:42.790357Z"
    },
    "papermill": {
     "duration": 0.043043,
     "end_time": "2025-08-05T20:33:42.792759",
     "exception": false,
     "start_time": "2025-08-05T20:33:42.749716",
     "status": "completed"
    },
    "tags": []
   },
   "outputs": [
    {
     "data": {
      "text/html": [
       "<div>\n",
       "<style scoped>\n",
       "    .dataframe tbody tr th:only-of-type {\n",
       "        vertical-align: middle;\n",
       "    }\n",
       "\n",
       "    .dataframe tbody tr th {\n",
       "        vertical-align: top;\n",
       "    }\n",
       "\n",
       "    .dataframe thead th {\n",
       "        text-align: right;\n",
       "    }\n",
       "</style>\n",
       "<table border=\"1\" class=\"dataframe\">\n",
       "  <thead>\n",
       "    <tr style=\"text-align: right;\">\n",
       "      <th></th>\n",
       "      <th>universe_id</th>\n",
       "      <th>universe_training_year</th>\n",
       "      <th>universe_training_size</th>\n",
       "      <th>universe_scale</th>\n",
       "      <th>universe_model</th>\n",
       "      <th>universe_exclude_features</th>\n",
       "      <th>universe_exclude_subgroups</th>\n",
       "      <th>q_hat</th>\n",
       "      <th>coverage</th>\n",
       "      <th>avg_size</th>\n",
       "      <th>cov_frau1</th>\n",
       "      <th>cov_nongerman</th>\n",
       "      <th>cov_nongerman_male</th>\n",
       "      <th>cov_nongerman_female</th>\n",
       "    </tr>\n",
       "  </thead>\n",
       "  <tbody>\n",
       "    <tr>\n",
       "      <th>0</th>\n",
       "      <td>8680e2df76dd58f987b35f31abe30f7c</td>\n",
       "      <td>2014</td>\n",
       "      <td>25k</td>\n",
       "      <td>scale</td>\n",
       "      <td>logreg</td>\n",
       "      <td>age</td>\n",
       "      <td>drop-non-german</td>\n",
       "      <td>0.680223</td>\n",
       "      <td>0.912362</td>\n",
       "      <td>1.126017</td>\n",
       "      <td>0.911147</td>\n",
       "      <td>0.908213</td>\n",
       "      <td>0.924975</td>\n",
       "      <td>0.880477</td>\n",
       "    </tr>\n",
       "  </tbody>\n",
       "</table>\n",
       "</div>"
      ],
      "text/plain": [
       "                        universe_id universe_training_year  \\\n",
       "0  8680e2df76dd58f987b35f31abe30f7c                   2014   \n",
       "\n",
       "  universe_training_size universe_scale universe_model  \\\n",
       "0                    25k          scale         logreg   \n",
       "\n",
       "  universe_exclude_features universe_exclude_subgroups     q_hat  coverage  \\\n",
       "0                       age            drop-non-german  0.680223  0.912362   \n",
       "\n",
       "   avg_size  cov_frau1  cov_nongerman  cov_nongerman_male  \\\n",
       "0  1.126017   0.911147       0.908213            0.924975   \n",
       "\n",
       "   cov_nongerman_female  \n",
       "0              0.880477  "
      ]
     },
     "execution_count": 58,
     "metadata": {},
     "output_type": "execute_result"
    }
   ],
   "source": [
    "cp_metrics_df"
   ]
  },
  {
   "cell_type": "markdown",
   "id": "33774451",
   "metadata": {
    "papermill": {
     "duration": 0.012755,
     "end_time": "2025-08-05T20:33:42.821217",
     "exception": false,
     "start_time": "2025-08-05T20:33:42.808462",
     "status": "completed"
    },
    "tags": []
   },
   "source": [
    "# (Fairness) Metrics"
   ]
  },
  {
   "cell_type": "code",
   "execution_count": 59,
   "id": "debc5d62",
   "metadata": {
    "execution": {
     "iopub.execute_input": "2025-08-05T20:33:42.850029Z",
     "iopub.status.busy": "2025-08-05T20:33:42.849235Z",
     "iopub.status.idle": "2025-08-05T20:33:42.864390Z",
     "shell.execute_reply": "2025-08-05T20:33:42.863652Z"
    },
    "papermill": {
     "duration": 0.030878,
     "end_time": "2025-08-05T20:33:42.866207",
     "exception": false,
     "start_time": "2025-08-05T20:33:42.835329",
     "status": "completed"
    },
    "tags": []
   },
   "outputs": [],
   "source": [
    "# do I need to include maxdeutsch1.missing?\n",
    "\n",
    "import numpy as np\n",
    "\n",
    "colname_to_bin = \"maxdeutsch1\"\n",
    "majority_value = org_train[colname_to_bin].mode()[0]\n",
    "\n",
    "org_test[\"majmin\"] = np.where(org_test[colname_to_bin] == majority_value, \"majority\", \"minority\")"
   ]
  },
  {
   "cell_type": "code",
   "execution_count": 60,
   "id": "06a50de5",
   "metadata": {
    "execution": {
     "iopub.execute_input": "2025-08-05T20:33:42.904532Z",
     "iopub.status.busy": "2025-08-05T20:33:42.904047Z",
     "iopub.status.idle": "2025-08-05T20:33:45.411104Z",
     "shell.execute_reply": "2025-08-05T20:33:45.410055Z"
    },
    "papermill": {
     "duration": 2.533922,
     "end_time": "2025-08-05T20:33:45.412693",
     "exception": false,
     "start_time": "2025-08-05T20:33:42.878771",
     "status": "completed"
    },
    "tags": []
   },
   "outputs": [],
   "source": [
    "example_universe = universe.copy()\n",
    "example_universe[\"cutoff\"] = example_universe[\"cutoff\"][0]\n",
    "example_universe[\"eval_fairness_grouping\"] = example_universe[\"eval_fairness_grouping\"][0]\n",
    "fairness_dict, metric_frame = universe_analysis.compute_metrics(\n",
    "    example_universe,\n",
    "    y_pred_prob=probs_test,\n",
    "    y_test=y_true,\n",
    "    org_test=org_test,\n",
    ")"
   ]
  },
  {
   "cell_type": "markdown",
   "id": "f95d4e02",
   "metadata": {
    "papermill": {
     "duration": 0.023193,
     "end_time": "2025-08-05T20:33:45.464177",
     "exception": false,
     "start_time": "2025-08-05T20:33:45.440984",
     "status": "completed"
    },
    "tags": []
   },
   "source": [
    "# Overall"
   ]
  },
  {
   "cell_type": "markdown",
   "id": "bdee4871",
   "metadata": {
    "papermill": {
     "duration": 0.019525,
     "end_time": "2025-08-05T20:33:45.511137",
     "exception": false,
     "start_time": "2025-08-05T20:33:45.491612",
     "status": "completed"
    },
    "tags": []
   },
   "source": [
    "Fairness\n",
    "Main fairness target: Equalized Odds. Seems to be a better fit than equal opportunity, since we're not only interested in Y = 1. Seems to be a better fit than demographic parity, since we also care about accuracy, not just equal distribution of preds.\n",
    "\n",
    "Pick column for computation of fairness metrics\n",
    "\n",
    "Performance\n",
    "Overall performance measures, most interesting in relation to the measures split by group below"
   ]
  },
  {
   "cell_type": "code",
   "execution_count": 61,
   "id": "c4e067c6",
   "metadata": {
    "execution": {
     "iopub.execute_input": "2025-08-05T20:33:45.566953Z",
     "iopub.status.busy": "2025-08-05T20:33:45.566495Z",
     "iopub.status.idle": "2025-08-05T20:33:45.576254Z",
     "shell.execute_reply": "2025-08-05T20:33:45.575120Z"
    },
    "papermill": {
     "duration": 0.041034,
     "end_time": "2025-08-05T20:33:45.578150",
     "exception": false,
     "start_time": "2025-08-05T20:33:45.537116",
     "status": "completed"
    },
    "tags": []
   },
   "outputs": [
    {
     "data": {
      "text/plain": [
       "accuracy                   0.225226\n",
       "balanced accuracy          0.550530\n",
       "f1                         0.246534\n",
       "precision                  0.140837\n",
       "false positive rate        0.887036\n",
       "false negative rate        0.011905\n",
       "selection rate             0.900000\n",
       "count                  89710.000000\n",
       "dtype: float64"
      ]
     },
     "execution_count": 61,
     "metadata": {},
     "output_type": "execute_result"
    }
   ],
   "source": [
    "metric_frame.overall"
   ]
  },
  {
   "cell_type": "markdown",
   "id": "e968fe9d",
   "metadata": {
    "papermill": {
     "duration": 0.025984,
     "end_time": "2025-08-05T20:33:45.631723",
     "exception": false,
     "start_time": "2025-08-05T20:33:45.605739",
     "status": "completed"
    },
    "tags": []
   },
   "source": [
    "By Group"
   ]
  },
  {
   "cell_type": "code",
   "execution_count": 62,
   "id": "ec325bce",
   "metadata": {
    "execution": {
     "iopub.execute_input": "2025-08-05T20:33:45.688742Z",
     "iopub.status.busy": "2025-08-05T20:33:45.688230Z",
     "iopub.status.idle": "2025-08-05T20:33:45.705730Z",
     "shell.execute_reply": "2025-08-05T20:33:45.704028Z"
    },
    "papermill": {
     "duration": 0.047804,
     "end_time": "2025-08-05T20:33:45.707930",
     "exception": false,
     "start_time": "2025-08-05T20:33:45.660126",
     "status": "completed"
    },
    "tags": []
   },
   "outputs": [
    {
     "data": {
      "text/html": [
       "<div>\n",
       "<style scoped>\n",
       "    .dataframe tbody tr th:only-of-type {\n",
       "        vertical-align: middle;\n",
       "    }\n",
       "\n",
       "    .dataframe tbody tr th {\n",
       "        vertical-align: top;\n",
       "    }\n",
       "\n",
       "    .dataframe thead th {\n",
       "        text-align: right;\n",
       "    }\n",
       "</style>\n",
       "<table border=\"1\" class=\"dataframe\">\n",
       "  <thead>\n",
       "    <tr style=\"text-align: right;\">\n",
       "      <th></th>\n",
       "      <th>accuracy</th>\n",
       "      <th>balanced accuracy</th>\n",
       "      <th>f1</th>\n",
       "      <th>precision</th>\n",
       "      <th>false positive rate</th>\n",
       "      <th>false negative rate</th>\n",
       "      <th>selection rate</th>\n",
       "      <th>count</th>\n",
       "    </tr>\n",
       "    <tr>\n",
       "      <th>majmin</th>\n",
       "      <th></th>\n",
       "      <th></th>\n",
       "      <th></th>\n",
       "      <th></th>\n",
       "      <th></th>\n",
       "      <th></th>\n",
       "      <th></th>\n",
       "      <th></th>\n",
       "    </tr>\n",
       "  </thead>\n",
       "  <tbody>\n",
       "    <tr>\n",
       "      <th>majority</th>\n",
       "      <td>0.245294</td>\n",
       "      <td>0.559720</td>\n",
       "      <td>0.256865</td>\n",
       "      <td>0.147643</td>\n",
       "      <td>0.867650</td>\n",
       "      <td>0.012910</td>\n",
       "      <td>0.883432</td>\n",
       "      <td>69170.0</td>\n",
       "    </tr>\n",
       "    <tr>\n",
       "      <th>minority</th>\n",
       "      <td>0.157644</td>\n",
       "      <td>0.520449</td>\n",
       "      <td>0.213545</td>\n",
       "      <td>0.119652</td>\n",
       "      <td>0.951079</td>\n",
       "      <td>0.008024</td>\n",
       "      <td>0.955794</td>\n",
       "      <td>20540.0</td>\n",
       "    </tr>\n",
       "  </tbody>\n",
       "</table>\n",
       "</div>"
      ],
      "text/plain": [
       "          accuracy  balanced accuracy        f1  precision  \\\n",
       "majmin                                                       \n",
       "majority  0.245294           0.559720  0.256865   0.147643   \n",
       "minority  0.157644           0.520449  0.213545   0.119652   \n",
       "\n",
       "          false positive rate  false negative rate  selection rate    count  \n",
       "majmin                                                                       \n",
       "majority             0.867650             0.012910        0.883432  69170.0  \n",
       "minority             0.951079             0.008024        0.955794  20540.0  "
      ]
     },
     "execution_count": 62,
     "metadata": {},
     "output_type": "execute_result"
    }
   ],
   "source": [
    "metric_frame.by_group"
   ]
  },
  {
   "cell_type": "code",
   "execution_count": 63,
   "id": "a9ddbe63",
   "metadata": {
    "execution": {
     "iopub.execute_input": "2025-08-05T20:33:45.764865Z",
     "iopub.status.busy": "2025-08-05T20:33:45.764366Z",
     "iopub.status.idle": "2025-08-05T20:33:47.816448Z",
     "shell.execute_reply": "2025-08-05T20:33:47.815510Z"
    },
    "papermill": {
     "duration": 2.08193,
     "end_time": "2025-08-05T20:33:47.818094",
     "exception": false,
     "start_time": "2025-08-05T20:33:45.736164",
     "status": "completed"
    },
    "tags": []
   },
   "outputs": [
    {
     "data": {
      "text/plain": [
       "array([[<Axes: title={'center': 'accuracy'}, xlabel='majmin'>,\n",
       "        <Axes: title={'center': 'balanced accuracy'}, xlabel='majmin'>,\n",
       "        <Axes: title={'center': 'f1'}, xlabel='majmin'>],\n",
       "       [<Axes: title={'center': 'precision'}, xlabel='majmin'>,\n",
       "        <Axes: title={'center': 'false positive rate'}, xlabel='majmin'>,\n",
       "        <Axes: title={'center': 'false negative rate'}, xlabel='majmin'>],\n",
       "       [<Axes: title={'center': 'selection rate'}, xlabel='majmin'>,\n",
       "        <Axes: title={'center': 'count'}, xlabel='majmin'>,\n",
       "        <Axes: xlabel='majmin'>]], dtype=object)"
      ]
     },
     "execution_count": 63,
     "metadata": {},
     "output_type": "execute_result"
    },
    {
     "data": {
      "image/png": "[encoded data removed]",
      "text/plain": [
       "<Figure size 1200x800 with 9 Axes>"
      ]
     },
     "metadata": {},
     "output_type": "display_data"
    }
   ],
   "source": [
    "# In a graphic\n",
    "metric_frame.by_group.plot.bar(\n",
    "    subplots=True,\n",
    "    layout=[3, 3],\n",
    "    legend=False,\n",
    "    figsize=[12, 8],\n",
    "    title=\"Show all metrics\",\n",
    ")"
   ]
  },
  {
   "cell_type": "markdown",
   "id": "f57a0bac",
   "metadata": {
    "papermill": {
     "duration": 0.025822,
     "end_time": "2025-08-05T20:33:47.871880",
     "exception": false,
     "start_time": "2025-08-05T20:33:47.846058",
     "status": "completed"
    },
    "tags": []
   },
   "source": [
    "# Final Output"
   ]
  },
  {
   "cell_type": "code",
   "execution_count": 64,
   "id": "96d280a3",
   "metadata": {
    "execution": {
     "iopub.execute_input": "2025-08-05T20:33:47.926273Z",
     "iopub.status.busy": "2025-08-05T20:33:47.925664Z",
     "iopub.status.idle": "2025-08-05T20:33:47.934162Z",
     "shell.execute_reply": "2025-08-05T20:33:47.932801Z"
    },
    "papermill": {
     "duration": 0.038277,
     "end_time": "2025-08-05T20:33:47.936990",
     "exception": false,
     "start_time": "2025-08-05T20:33:47.898713",
     "status": "completed"
    },
    "tags": []
   },
   "outputs": [
    {
     "data": {
      "text/plain": [
       "4"
      ]
     },
     "execution_count": 64,
     "metadata": {},
     "output_type": "execute_result"
    }
   ],
   "source": [
    "sub_universes = universe_analysis.generate_sub_universes()\n",
    "len(sub_universes)"
   ]
  },
  {
   "cell_type": "code",
   "execution_count": 65,
   "id": "92adf7ba",
   "metadata": {
    "execution": {
     "iopub.execute_input": "2025-08-05T20:33:47.993110Z",
     "iopub.status.busy": "2025-08-05T20:33:47.992314Z",
     "iopub.status.idle": "2025-08-05T20:33:47.998630Z",
     "shell.execute_reply": "2025-08-05T20:33:47.997655Z"
    },
    "papermill": {
     "duration": 0.036568,
     "end_time": "2025-08-05T20:33:48.000410",
     "exception": false,
     "start_time": "2025-08-05T20:33:47.963842",
     "status": "completed"
    },
    "tags": []
   },
   "outputs": [],
   "source": [
    "def filter_sub_universe_data(sub_universe, org_test):\n",
    "    # Keep all rows — no filtering\n",
    "    keep_rows_mask = np.ones(org_test.shape[0], dtype=bool)\n",
    "\n",
    "    print(f\"[INFO] Keeping all rows: {keep_rows_mask.sum()} rows retained.\")\n",
    "    return keep_rows_mask"
   ]
  },
  {
   "cell_type": "code",
   "execution_count": 66,
   "id": "4a759155",
   "metadata": {
    "execution": {
     "iopub.execute_input": "2025-08-05T20:33:48.052781Z",
     "iopub.status.busy": "2025-08-05T20:33:48.051996Z",
     "iopub.status.idle": "2025-08-05T20:33:56.304914Z",
     "shell.execute_reply": "2025-08-05T20:33:56.304102Z"
    },
    "papermill": {
     "duration": 8.278078,
     "end_time": "2025-08-05T20:33:56.306268",
     "exception": false,
     "start_time": "2025-08-05T20:33:48.028190",
     "status": "completed"
    },
    "tags": []
   },
   "outputs": [
    {
     "name": "stdout",
     "output_type": "stream",
     "text": [
      "Stopping execution_time clock.\n",
      "[INFO] Keeping all rows: 89710 rows retained.\n"
     ]
    },
    {
     "name": "stdout",
     "output_type": "stream",
     "text": [
      "[INFO] Keeping all rows: 89710 rows retained.\n"
     ]
    },
    {
     "name": "stdout",
     "output_type": "stream",
     "text": [
      "[INFO] Keeping all rows: 89710 rows retained.\n"
     ]
    },
    {
     "name": "stdout",
     "output_type": "stream",
     "text": [
      "[INFO] Keeping all rows: 89710 rows retained.\n"
     ]
    },
    {
     "data": {
      "text/html": [
       "<div>\n",
       "<style scoped>\n",
       "    .dataframe tbody tr th:only-of-type {\n",
       "        vertical-align: middle;\n",
       "    }\n",
       "\n",
       "    .dataframe tbody tr th {\n",
       "        vertical-align: top;\n",
       "    }\n",
       "\n",
       "    .dataframe thead th {\n",
       "        text-align: right;\n",
       "    }\n",
       "</style>\n",
       "<table border=\"1\" class=\"dataframe\">\n",
       "  <thead>\n",
       "    <tr style=\"text-align: right;\">\n",
       "      <th></th>\n",
       "      <th>run_no</th>\n",
       "      <th>universe_id</th>\n",
       "      <th>universe_settings</th>\n",
       "      <th>execution_time</th>\n",
       "      <th>test_size_n</th>\n",
       "      <th>test_size_frac</th>\n",
       "      <th>fair_main_equalized_odds_difference</th>\n",
       "      <th>fair_main_equalized_odds_ratio</th>\n",
       "      <th>fair_main_demographic_parity_difference</th>\n",
       "      <th>fair_main_demographic_parity_ratio</th>\n",
       "      <th>...</th>\n",
       "      <th>perf_grp_precision_0</th>\n",
       "      <th>perf_grp_precision_1</th>\n",
       "      <th>perf_grp_false positive rate_0</th>\n",
       "      <th>perf_grp_false positive rate_1</th>\n",
       "      <th>perf_grp_false negative rate_0</th>\n",
       "      <th>perf_grp_false negative rate_1</th>\n",
       "      <th>perf_grp_selection rate_0</th>\n",
       "      <th>perf_grp_selection rate_1</th>\n",
       "      <th>perf_grp_count_0</th>\n",
       "      <th>perf_grp_count_1</th>\n",
       "    </tr>\n",
       "  </thead>\n",
       "  <tbody>\n",
       "    <tr>\n",
       "      <th>0</th>\n",
       "      <td>16</td>\n",
       "      <td>8680e2df76dd58f987b35f31abe30f7c</td>\n",
       "      <td>{\"cutoff\": \"quantile_0.1\", \"eval_fairness_grou...</td>\n",
       "      <td>21.1603</td>\n",
       "      <td>89710</td>\n",
       "      <td>1.0</td>\n",
       "      <td>0.083429</td>\n",
       "      <td>0.912280</td>\n",
       "      <td>0.072361</td>\n",
       "      <td>0.924292</td>\n",
       "      <td>...</td>\n",
       "      <td>NaN</td>\n",
       "      <td>NaN</td>\n",
       "      <td>NaN</td>\n",
       "      <td>NaN</td>\n",
       "      <td>NaN</td>\n",
       "      <td>NaN</td>\n",
       "      <td>NaN</td>\n",
       "      <td>NaN</td>\n",
       "      <td>NaN</td>\n",
       "      <td>NaN</td>\n",
       "    </tr>\n",
       "    <tr>\n",
       "      <th>0</th>\n",
       "      <td>16</td>\n",
       "      <td>8680e2df76dd58f987b35f31abe30f7c</td>\n",
       "      <td>{\"cutoff\": \"quantile_0.1\", \"eval_fairness_grou...</td>\n",
       "      <td>21.1603</td>\n",
       "      <td>89710</td>\n",
       "      <td>1.0</td>\n",
       "      <td>0.083429</td>\n",
       "      <td>0.912280</td>\n",
       "      <td>0.072361</td>\n",
       "      <td>0.924292</td>\n",
       "      <td>...</td>\n",
       "      <td>0.119652</td>\n",
       "      <td>0.147643</td>\n",
       "      <td>0.951079</td>\n",
       "      <td>0.867650</td>\n",
       "      <td>0.008024</td>\n",
       "      <td>0.012910</td>\n",
       "      <td>0.955794</td>\n",
       "      <td>0.883432</td>\n",
       "      <td>20540.0</td>\n",
       "      <td>69170.0</td>\n",
       "    </tr>\n",
       "    <tr>\n",
       "      <th>0</th>\n",
       "      <td>16</td>\n",
       "      <td>8680e2df76dd58f987b35f31abe30f7c</td>\n",
       "      <td>{\"cutoff\": \"quantile_0.25\", \"eval_fairness_gro...</td>\n",
       "      <td>21.1603</td>\n",
       "      <td>89710</td>\n",
       "      <td>1.0</td>\n",
       "      <td>0.152695</td>\n",
       "      <td>0.817808</td>\n",
       "      <td>0.132291</td>\n",
       "      <td>0.844728</td>\n",
       "      <td>...</td>\n",
       "      <td>NaN</td>\n",
       "      <td>NaN</td>\n",
       "      <td>NaN</td>\n",
       "      <td>NaN</td>\n",
       "      <td>NaN</td>\n",
       "      <td>NaN</td>\n",
       "      <td>NaN</td>\n",
       "      <td>NaN</td>\n",
       "      <td>NaN</td>\n",
       "      <td>NaN</td>\n",
       "    </tr>\n",
       "    <tr>\n",
       "      <th>0</th>\n",
       "      <td>16</td>\n",
       "      <td>8680e2df76dd58f987b35f31abe30f7c</td>\n",
       "      <td>{\"cutoff\": \"quantile_0.25\", \"eval_fairness_gro...</td>\n",
       "      <td>21.1603</td>\n",
       "      <td>89710</td>\n",
       "      <td>1.0</td>\n",
       "      <td>0.152695</td>\n",
       "      <td>0.817808</td>\n",
       "      <td>0.132291</td>\n",
       "      <td>0.844728</td>\n",
       "      <td>...</td>\n",
       "      <td>0.129714</td>\n",
       "      <td>0.173496</td>\n",
       "      <td>0.838103</td>\n",
       "      <td>0.685407</td>\n",
       "      <td>0.041385</td>\n",
       "      <td>0.055033</td>\n",
       "      <td>0.851996</td>\n",
       "      <td>0.719705</td>\n",
       "      <td>20540.0</td>\n",
       "      <td>69170.0</td>\n",
       "    </tr>\n",
       "  </tbody>\n",
       "</table>\n",
       "<p>4 rows × 50 columns</p>\n",
       "</div>"
      ],
      "text/plain": [
       "  run_no                       universe_id  \\\n",
       "0     16  8680e2df76dd58f987b35f31abe30f7c   \n",
       "0     16  8680e2df76dd58f987b35f31abe30f7c   \n",
       "0     16  8680e2df76dd58f987b35f31abe30f7c   \n",
       "0     16  8680e2df76dd58f987b35f31abe30f7c   \n",
       "\n",
       "                                   universe_settings  execution_time  \\\n",
       "0  {\"cutoff\": \"quantile_0.1\", \"eval_fairness_grou...         21.1603   \n",
       "0  {\"cutoff\": \"quantile_0.1\", \"eval_fairness_grou...         21.1603   \n",
       "0  {\"cutoff\": \"quantile_0.25\", \"eval_fairness_gro...         21.1603   \n",
       "0  {\"cutoff\": \"quantile_0.25\", \"eval_fairness_gro...         21.1603   \n",
       "\n",
       "   test_size_n  test_size_frac  fair_main_equalized_odds_difference  \\\n",
       "0        89710             1.0                             0.083429   \n",
       "0        89710             1.0                             0.083429   \n",
       "0        89710             1.0                             0.152695   \n",
       "0        89710             1.0                             0.152695   \n",
       "\n",
       "   fair_main_equalized_odds_ratio  fair_main_demographic_parity_difference  \\\n",
       "0                        0.912280                                 0.072361   \n",
       "0                        0.912280                                 0.072361   \n",
       "0                        0.817808                                 0.132291   \n",
       "0                        0.817808                                 0.132291   \n",
       "\n",
       "   fair_main_demographic_parity_ratio  ...  perf_grp_precision_0  \\\n",
       "0                            0.924292  ...                   NaN   \n",
       "0                            0.924292  ...              0.119652   \n",
       "0                            0.844728  ...                   NaN   \n",
       "0                            0.844728  ...              0.129714   \n",
       "\n",
       "   perf_grp_precision_1  perf_grp_false positive rate_0  \\\n",
       "0                   NaN                             NaN   \n",
       "0              0.147643                        0.951079   \n",
       "0                   NaN                             NaN   \n",
       "0              0.173496                        0.838103   \n",
       "\n",
       "   perf_grp_false positive rate_1  perf_grp_false negative rate_0  \\\n",
       "0                             NaN                             NaN   \n",
       "0                        0.867650                        0.008024   \n",
       "0                             NaN                             NaN   \n",
       "0                        0.685407                        0.041385   \n",
       "\n",
       "   perf_grp_false negative rate_1  perf_grp_selection rate_0  \\\n",
       "0                             NaN                        NaN   \n",
       "0                        0.012910                   0.955794   \n",
       "0                             NaN                        NaN   \n",
       "0                        0.055033                   0.851996   \n",
       "\n",
       "   perf_grp_selection rate_1  perf_grp_count_0  perf_grp_count_1  \n",
       "0                        NaN               NaN               NaN  \n",
       "0                   0.883432           20540.0           69170.0  \n",
       "0                        NaN               NaN               NaN  \n",
       "0                   0.719705           20540.0           69170.0  \n",
       "\n",
       "[4 rows x 50 columns]"
      ]
     },
     "execution_count": 66,
     "metadata": {},
     "output_type": "execute_result"
    }
   ],
   "source": [
    "final_output = universe_analysis.generate_final_output(\n",
    "    y_pred_prob=probs_test,\n",
    "    y_test=y_true,\n",
    "    org_test=org_test,\n",
    "    filter_data=filter_sub_universe_data,\n",
    "    cp_metrics_df=cp_metrics_df,\n",
    "    save=True,\n",
    ")\n",
    "final_output"
   ]
  }
 ],
 "metadata": {
  "celltoolbar": "Tags",
  "kernelspec": {
   "display_name": "Python (CMA Fairness)",
   "language": "python",
   "name": "cma_fair_env"
  },
  "language_info": {
   "codemirror_mode": {
    "name": "ipython",
    "version": 3
   },
   "file_extension": ".py",
   "mimetype": "text/x-python",
   "name": "python",
   "nbconvert_exporter": "python",
   "pygments_lexer": "ipython3",
   "version": "3.10.12"
  },
  "papermill": {
   "default_parameters": {},
   "duration": 32.78225,
   "end_time": "2025-08-05T20:33:56.839722",
   "environment_variables": {},
   "exception": null,
   "input_path": "universe_analysis.ipynb",
   "output_path": "output/runs/16/notebooks/m_16-8680e2df76dd58f987b35f31abe30f7c.ipynb",
   "parameters": {
    "output_dir": "output",
    "run_no": "16",
    "seed": "2023",
    "universe": "{\"cutoff\": [\"quantile_0.1\", \"quantile_0.25\"], \"eval_fairness_grouping\": [\"majority-minority\", \"nationality-all\"], \"exclude_features\": \"age\", \"exclude_subgroups\": \"drop-non-german\", \"model\": \"logreg\", \"scale\": \"scale\", \"training_size\": \"25k\", \"training_year\": \"2014\"}",
    "universe_id": "8680e2df76dd58f987b35f31abe30f7c"
   },
   "start_time": "2025-08-05T20:33:24.057472",
   "version": "2.6.0"
  }
 },
 "nbformat": 4,
 "nbformat_minor": 5
}