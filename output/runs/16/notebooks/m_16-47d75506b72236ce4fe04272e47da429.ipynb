{
 "cells": [
  {
   "cell_type": "code",
   "execution_count": 1,
   "id": "f159f837-637b-42ba-96b5-ec9a68c44524",
   "metadata": {
    "execution": {
     "iopub.execute_input": "2025-08-05T21:00:36.671323Z",
     "iopub.status.busy": "2025-08-05T21:00:36.670823Z",
     "iopub.status.idle": "2025-08-05T21:00:36.684747Z",
     "shell.execute_reply": "2025-08-05T21:00:36.683712Z"
    },
    "papermill": {
     "duration": 0.037158,
     "end_time": "2025-08-05T21:00:36.687365",
     "exception": false,
     "start_time": "2025-08-05T21:00:36.650207",
     "status": "completed"
    },
    "tags": []
   },
   "outputs": [
    {
     "name": "stdout",
     "output_type": "stream",
     "text": [
      "/dss/dsshome1/0C/ra93lal2/cma/CMA_Fairness_v2\n"
     ]
    },
    {
     "name": "stderr",
     "output_type": "stream",
     "text": [
      "/dss/dsshome1/0C/ra93lal2/.local/share/virtualenvs/CMA_Fairness_v2-3j10GkSs/lib/python3.10/site-packages/IPython/core/magics/osm.py:393: UserWarning: This is now an optional IPython functionality, using bookmarks requires you to install the `pickleshare` library.\n",
      "  bkms = self.shell.db.get('bookmarks', {})\n",
      "/dss/dsshome1/0C/ra93lal2/.local/share/virtualenvs/CMA_Fairness_v2-3j10GkSs/lib/python3.10/site-packages/IPython/core/magics/osm.py:417: UserWarning: This is now an optional IPython functionality, setting dhist requires you to install the `pickleshare` library.\n",
      "  self.shell.db['dhist'] = compress_dhist(dhist)[-100:]\n"
     ]
    }
   ],
   "source": [
    "%cd ~/cma/CMA_Fairness_v2"
   ]
  },
  {
   "cell_type": "markdown",
   "id": "de2603b9",
   "metadata": {
    "papermill": {
     "duration": 0.019548,
     "end_time": "2025-08-05T21:00:36.725948",
     "exception": false,
     "start_time": "2025-08-05T21:00:36.706400",
     "status": "completed"
    },
    "tags": []
   },
   "source": [
    "The following cell holds the definition of our parameters, these values can be overriden by rendering the with e.g. the following command:\n",
    "\n",
    "papermill -p alpha 0.2 -p ratio 0.3 universe_analysis.ipynb output/test_run.ipynb"
   ]
  },
  {
   "cell_type": "code",
   "execution_count": 2,
   "id": "a80968a0-40bb-4fa9-85ef-2d5eefb01975",
   "metadata": {
    "execution": {
     "iopub.execute_input": "2025-08-05T21:00:36.763391Z",
     "iopub.status.busy": "2025-08-05T21:00:36.762394Z",
     "iopub.status.idle": "2025-08-05T21:00:36.767935Z",
     "shell.execute_reply": "2025-08-05T21:00:36.766901Z"
    },
    "papermill": {
     "duration": 0.026332,
     "end_time": "2025-08-05T21:00:36.769846",
     "exception": false,
     "start_time": "2025-08-05T21:00:36.743514",
     "status": "completed"
    },
    "tags": []
   },
   "outputs": [
    {
     "name": "stdout",
     "output_type": "stream",
     "text": [
      "Current working directory: /dss/dsshome1/0C/ra93lal2/cma/CMA_Fairness_v2\n"
     ]
    }
   ],
   "source": [
    "import os\n",
    "print(\"Current working directory:\", os.getcwd())"
   ]
  },
  {
   "cell_type": "code",
   "execution_count": 3,
   "id": "2dce4c03",
   "metadata": {
    "execution": {
     "iopub.execute_input": "2025-08-05T21:00:36.810095Z",
     "iopub.status.busy": "2025-08-05T21:00:36.809220Z",
     "iopub.status.idle": "2025-08-05T21:00:36.815832Z",
     "shell.execute_reply": "2025-08-05T21:00:36.814882Z"
    },
    "papermill": {
     "duration": 0.027938,
     "end_time": "2025-08-05T21:00:36.817743",
     "exception": false,
     "start_time": "2025-08-05T21:00:36.789805",
     "status": "completed"
    },
    "tags": [
     "parameters"
    ]
   },
   "outputs": [],
   "source": [
    "run_no = 0\n",
    "universe_id = \"test\"\n",
    "universe = {\n",
    "    \"training_size\": \"25k\", # \"25k\", \"5k\", \"1k\"\n",
    "    \"training_year\": \"2014\", # \"2014\", \"2012_14\", \"2010_14\"\n",
    "    \"scale\": \"scale\", # \"scale\", \"do-not-scale\",\n",
    "    \"model\": \"elasticnet\", # \"logreg\", \"penalized_logreg\", \"rf\", \"gbm\", \"elasticnet\"\n",
    "    \"cutoff\": [\"quantile_0.15\", \"quantile_0.30\"],\n",
    "    \"exclude_features\": \"age\", # \"none\", \"nationality\", \"sex\", \"nationality-sex\", \"age\"\n",
    "    \"exclude_subgroups\": \"keep-all\", # \"keep-all\", \"drop-non-german\"\n",
    "    \"eval_fairness_grouping\": [\"majority-minority\", \"nationality-all\"]\n",
    "}\n",
    "\n",
    "output_dir=\"./output\"\n",
    "seed=0"
   ]
  },
  {
   "cell_type": "code",
   "execution_count": 4,
   "id": "e5cbbbcb",
   "metadata": {
    "execution": {
     "iopub.execute_input": "2025-08-05T21:00:36.858098Z",
     "iopub.status.busy": "2025-08-05T21:00:36.857406Z",
     "iopub.status.idle": "2025-08-05T21:00:36.862926Z",
     "shell.execute_reply": "2025-08-05T21:00:36.861926Z"
    },
    "papermill": {
     "duration": 0.027711,
     "end_time": "2025-08-05T21:00:36.864752",
     "exception": false,
     "start_time": "2025-08-05T21:00:36.837041",
     "status": "completed"
    },
    "tags": [
     "injected-parameters"
    ]
   },
   "outputs": [],
   "source": [
    "# Parameters\n",
    "universe_id = \"47d75506b72236ce4fe04272e47da429\"\n",
    "run_no = \"16\"\n",
    "universe = \"{\\\"cutoff\\\": [\\\"quantile_0.1\\\", \\\"quantile_0.25\\\"], \\\"eval_fairness_grouping\\\": [\\\"majority-minority\\\", \\\"nationality-all\\\"], \\\"exclude_features\\\": \\\"age\\\", \\\"exclude_subgroups\\\": \\\"keep-all\\\", \\\"model\\\": \\\"rf\\\", \\\"scale\\\": \\\"do-not-scale\\\", \\\"training_size\\\": \\\"25k\\\", \\\"training_year\\\": \\\"2012_14\\\"}\"\n",
    "output_dir = \"output\"\n",
    "seed = \"2023\"\n"
   ]
  },
  {
   "cell_type": "code",
   "execution_count": 5,
   "id": "1650acaf",
   "metadata": {
    "execution": {
     "iopub.execute_input": "2025-08-05T21:00:36.904457Z",
     "iopub.status.busy": "2025-08-05T21:00:36.903548Z",
     "iopub.status.idle": "2025-08-05T21:00:36.909230Z",
     "shell.execute_reply": "2025-08-05T21:00:36.908206Z"
    },
    "papermill": {
     "duration": 0.027525,
     "end_time": "2025-08-05T21:00:36.911239",
     "exception": false,
     "start_time": "2025-08-05T21:00:36.883714",
     "status": "completed"
    },
    "tags": []
   },
   "outputs": [],
   "source": [
    "import json\n",
    "if isinstance(universe, str):\n",
    "    universe = json.loads(universe)"
   ]
  },
  {
   "cell_type": "code",
   "execution_count": 6,
   "id": "16620c48",
   "metadata": {
    "execution": {
     "iopub.execute_input": "2025-08-05T21:00:36.951705Z",
     "iopub.status.busy": "2025-08-05T21:00:36.950825Z",
     "iopub.status.idle": "2025-08-05T21:00:36.995360Z",
     "shell.execute_reply": "2025-08-05T21:00:36.994348Z"
    },
    "papermill": {
     "duration": 0.065987,
     "end_time": "2025-08-05T21:00:36.997273",
     "exception": false,
     "start_time": "2025-08-05T21:00:36.931286",
     "status": "completed"
    },
    "tags": []
   },
   "outputs": [],
   "source": [
    "# Auto-reload the custom package\n",
    "%load_ext autoreload\n",
    "%autoreload 1\n",
    "%aimport fairness_multiverse"
   ]
  },
  {
   "cell_type": "code",
   "execution_count": 7,
   "id": "01c5c9f3",
   "metadata": {
    "execution": {
     "iopub.execute_input": "2025-08-05T21:00:37.037325Z",
     "iopub.status.busy": "2025-08-05T21:00:37.036647Z",
     "iopub.status.idle": "2025-08-05T21:00:39.024844Z",
     "shell.execute_reply": "2025-08-05T21:00:39.023802Z"
    },
    "papermill": {
     "duration": 2.010961,
     "end_time": "2025-08-05T21:00:39.026805",
     "exception": false,
     "start_time": "2025-08-05T21:00:37.015844",
     "status": "completed"
    },
    "tags": []
   },
   "outputs": [],
   "source": [
    "from fairness_multiverse.universe import UniverseAnalysis\n",
    "\n",
    "universe_analysis = UniverseAnalysis(\n",
    "    run_no = run_no,\n",
    "    universe_id = universe_id,\n",
    "    universe = universe,\n",
    "    output_dir=output_dir,\n",
    ")"
   ]
  },
  {
   "cell_type": "code",
   "execution_count": 8,
   "id": "106241f5",
   "metadata": {
    "execution": {
     "iopub.execute_input": "2025-08-05T21:00:39.070039Z",
     "iopub.status.busy": "2025-08-05T21:00:39.069501Z",
     "iopub.status.idle": "2025-08-05T21:00:39.076455Z",
     "shell.execute_reply": "2025-08-05T21:00:39.075300Z"
    },
    "papermill": {
     "duration": 0.034007,
     "end_time": "2025-08-05T21:00:39.078420",
     "exception": false,
     "start_time": "2025-08-05T21:00:39.044413",
     "status": "completed"
    },
    "tags": []
   },
   "outputs": [
    {
     "name": "stdout",
     "output_type": "stream",
     "text": [
      "Using Seed: 2023\n"
     ]
    }
   ],
   "source": [
    "import numpy as np\n",
    "parsed_seed = int(seed)\n",
    "np.random.seed(parsed_seed)\n",
    "print(f\"Using Seed: {parsed_seed}\")"
   ]
  },
  {
   "cell_type": "markdown",
   "id": "e0ebdc57",
   "metadata": {
    "papermill": {
     "duration": 0.017013,
     "end_time": "2025-08-05T21:00:39.123126",
     "exception": false,
     "start_time": "2025-08-05T21:00:39.106113",
     "status": "completed"
    },
    "tags": []
   },
   "source": [
    "# Loading Data"
   ]
  },
  {
   "cell_type": "code",
   "execution_count": 9,
   "id": "f0496b8a",
   "metadata": {
    "execution": {
     "iopub.execute_input": "2025-08-05T21:00:39.161669Z",
     "iopub.status.busy": "2025-08-05T21:00:39.161155Z",
     "iopub.status.idle": "2025-08-05T21:00:51.409774Z",
     "shell.execute_reply": "2025-08-05T21:00:51.408597Z"
    },
    "papermill": {
     "duration": 12.2698,
     "end_time": "2025-08-05T21:00:51.411393",
     "exception": false,
     "start_time": "2025-08-05T21:00:39.141593",
     "status": "completed"
    },
    "tags": []
   },
   "outputs": [
    {
     "name": "stdout",
     "output_type": "stream",
     "text": [
      "Loading SIAB data from cache: data/siab_cached.csv.gz\n"
     ]
    },
    {
     "name": "stdout",
     "output_type": "stream",
     "text": [
      "(643690, 164)\n"
     ]
    }
   ],
   "source": [
    "from pathlib import Path\n",
    "import pandas as pd\n",
    "\n",
    "# File paths\n",
    "raw_file = Path(\"data/raw/siab.csv\")\n",
    "cache_file = Path(\"data/siab_cached.csv.gz\")\n",
    "\n",
    "# Ensure cache directory exists\n",
    "cache_file.parent.mkdir(parents=True, exist_ok=True)\n",
    "\n",
    "# Load with simple caching\n",
    "if cache_file.exists():\n",
    "    print(f\"Loading SIAB data from cache: {cache_file}\")\n",
    "    siab = pd.read_csv(cache_file, compression='gzip')\n",
    "else:\n",
    "    print(f\"Cache not found. Reading raw SIAB data: {raw_file}\")\n",
    "    siab = pd.read_csv(raw_file)\n",
    "    siab.to_csv(cache_file, index=False, compression='gzip')\n",
    "    print(f\"Cached SIAB data to: {cache_file}\")\n",
    "\n",
    "print(siab.shape)"
   ]
  },
  {
   "cell_type": "code",
   "execution_count": 10,
   "id": "db0ca512-5f53-4dba-abdb-a2888bca41ba",
   "metadata": {
    "execution": {
     "iopub.execute_input": "2025-08-05T21:00:51.448615Z",
     "iopub.status.busy": "2025-08-05T21:00:51.448074Z",
     "iopub.status.idle": "2025-08-05T21:00:51.454110Z",
     "shell.execute_reply": "2025-08-05T21:00:51.453093Z"
    },
    "papermill": {
     "duration": 0.025287,
     "end_time": "2025-08-05T21:00:51.455924",
     "exception": false,
     "start_time": "2025-08-05T21:00:51.430637",
     "status": "completed"
    },
    "tags": []
   },
   "outputs": [],
   "source": [
    "#siab"
   ]
  },
  {
   "cell_type": "markdown",
   "id": "997051c5-15bd-4b69-9786-c3001a3ce484",
   "metadata": {
    "papermill": {
     "duration": 0.019119,
     "end_time": "2025-08-05T21:00:51.493300",
     "exception": false,
     "start_time": "2025-08-05T21:00:51.474181",
     "status": "completed"
    },
    "tags": []
   },
   "source": [
    "# Splitting Data and Setting Training Data Size"
   ]
  },
  {
   "cell_type": "code",
   "execution_count": 11,
   "id": "aea9c6ef-6f46-42c8-85eb-5a62025c1508",
   "metadata": {
    "execution": {
     "iopub.execute_input": "2025-08-05T21:00:51.529079Z",
     "iopub.status.busy": "2025-08-05T21:00:51.528159Z",
     "iopub.status.idle": "2025-08-05T21:00:52.239719Z",
     "shell.execute_reply": "2025-08-05T21:00:52.238696Z"
    },
    "papermill": {
     "duration": 0.732135,
     "end_time": "2025-08-05T21:00:52.241761",
     "exception": false,
     "start_time": "2025-08-05T21:00:51.509626",
     "status": "completed"
    },
    "tags": []
   },
   "outputs": [],
   "source": [
    "from fairness_multiverse.universe import sample_by_year_size\n",
    "\n",
    "siab_train = sample_by_year_size(siab,\n",
    "                               training_year=universe[\"training_year\"],\n",
    "                               training_size=universe[\"training_size\"])"
   ]
  },
  {
   "cell_type": "code",
   "execution_count": 12,
   "id": "8d3afb32-789d-442c-8d5d-9f5aa8dd2eed",
   "metadata": {
    "execution": {
     "iopub.execute_input": "2025-08-05T21:00:52.279708Z",
     "iopub.status.busy": "2025-08-05T21:00:52.278774Z",
     "iopub.status.idle": "2025-08-05T21:00:52.284109Z",
     "shell.execute_reply": "2025-08-05T21:00:52.283161Z"
    },
    "papermill": {
     "duration": 0.025915,
     "end_time": "2025-08-05T21:00:52.285889",
     "exception": false,
     "start_time": "2025-08-05T21:00:52.259974",
     "status": "completed"
    },
    "tags": []
   },
   "outputs": [],
   "source": [
    "#siab_train.shape"
   ]
  },
  {
   "cell_type": "code",
   "execution_count": 13,
   "id": "d582db68-1a4c-47fb-84fc-08518dc1975a",
   "metadata": {
    "execution": {
     "iopub.execute_input": "2025-08-05T21:00:52.323418Z",
     "iopub.status.busy": "2025-08-05T21:00:52.322905Z",
     "iopub.status.idle": "2025-08-05T21:00:52.328448Z",
     "shell.execute_reply": "2025-08-05T21:00:52.327460Z"
    },
    "papermill": {
     "duration": 0.026291,
     "end_time": "2025-08-05T21:00:52.330443",
     "exception": false,
     "start_time": "2025-08-05T21:00:52.304152",
     "status": "completed"
    },
    "tags": []
   },
   "outputs": [],
   "source": [
    "#display(siab_train.groupby(\"year\").size())"
   ]
  },
  {
   "cell_type": "code",
   "execution_count": 14,
   "id": "a561edb4-d032-42cb-8256-22eac1111c64",
   "metadata": {
    "execution": {
     "iopub.execute_input": "2025-08-05T21:00:52.367864Z",
     "iopub.status.busy": "2025-08-05T21:00:52.367361Z",
     "iopub.status.idle": "2025-08-05T21:00:52.611488Z",
     "shell.execute_reply": "2025-08-05T21:00:52.610673Z"
    },
    "papermill": {
     "duration": 0.264494,
     "end_time": "2025-08-05T21:00:52.613360",
     "exception": false,
     "start_time": "2025-08-05T21:00:52.348866",
     "status": "completed"
    },
    "tags": []
   },
   "outputs": [],
   "source": [
    "#siab_train = siab_s[siab_s.year < 2015]\n",
    "siab_calib = siab[siab.year == 2015]\n",
    "siab_test = siab[siab.year == 2016]"
   ]
  },
  {
   "cell_type": "code",
   "execution_count": 15,
   "id": "472de16f-c3db-4916-846b-1f0de9cf1746",
   "metadata": {
    "execution": {
     "iopub.execute_input": "2025-08-05T21:00:52.649230Z",
     "iopub.status.busy": "2025-08-05T21:00:52.648873Z",
     "iopub.status.idle": "2025-08-05T21:00:52.661353Z",
     "shell.execute_reply": "2025-08-05T21:00:52.660559Z"
    },
    "papermill": {
     "duration": 0.032266,
     "end_time": "2025-08-05T21:00:52.662981",
     "exception": false,
     "start_time": "2025-08-05T21:00:52.630715",
     "status": "completed"
    },
    "tags": []
   },
   "outputs": [],
   "source": [
    "X_train = siab_train.iloc[:,4:164]\n",
    "y_train = siab_train.iloc[:, [3]]"
   ]
  },
  {
   "cell_type": "code",
   "execution_count": 16,
   "id": "828c96af-f43a-4ed6-ba47-8ac73a47d56c",
   "metadata": {
    "execution": {
     "iopub.execute_input": "2025-08-05T21:00:52.699908Z",
     "iopub.status.busy": "2025-08-05T21:00:52.699541Z",
     "iopub.status.idle": "2025-08-05T21:00:52.748371Z",
     "shell.execute_reply": "2025-08-05T21:00:52.747572Z"
    },
    "papermill": {
     "duration": 0.06894,
     "end_time": "2025-08-05T21:00:52.750144",
     "exception": false,
     "start_time": "2025-08-05T21:00:52.681204",
     "status": "completed"
    },
    "tags": []
   },
   "outputs": [],
   "source": [
    "X_calib = siab_calib.iloc[:,4:164]\n",
    "y_calib = siab_calib.iloc[:, [3]]"
   ]
  },
  {
   "cell_type": "code",
   "execution_count": 17,
   "id": "c34be9c3-6bd6-476e-acd3-845840e303be",
   "metadata": {
    "execution": {
     "iopub.execute_input": "2025-08-05T21:00:52.798088Z",
     "iopub.status.busy": "2025-08-05T21:00:52.797605Z",
     "iopub.status.idle": "2025-08-05T21:00:52.853811Z",
     "shell.execute_reply": "2025-08-05T21:00:52.852725Z"
    },
    "papermill": {
     "duration": 0.076892,
     "end_time": "2025-08-05T21:00:52.855693",
     "exception": false,
     "start_time": "2025-08-05T21:00:52.778801",
     "status": "completed"
    },
    "tags": []
   },
   "outputs": [],
   "source": [
    "X_test = siab_test.iloc[:,4:164]\n",
    "y_true = siab_test.iloc[:, [3]]"
   ]
  },
  {
   "cell_type": "code",
   "execution_count": 18,
   "id": "e6c733c5",
   "metadata": {
    "execution": {
     "iopub.execute_input": "2025-08-05T21:00:52.900260Z",
     "iopub.status.busy": "2025-08-05T21:00:52.899430Z",
     "iopub.status.idle": "2025-08-05T21:00:53.003225Z",
     "shell.execute_reply": "2025-08-05T21:00:53.002262Z"
    },
    "papermill": {
     "duration": 0.126488,
     "end_time": "2025-08-05T21:00:53.005735",
     "exception": false,
     "start_time": "2025-08-05T21:00:52.879247",
     "status": "completed"
    },
    "tags": []
   },
   "outputs": [],
   "source": [
    "# Auxiliary data needed downstream in the pipeline\n",
    "\n",
    "org_train = X_train.copy()\n",
    "org_test = X_test.copy()\n",
    "org_calib = X_calib.copy()"
   ]
  },
  {
   "cell_type": "markdown",
   "id": "0a4a1b33",
   "metadata": {
    "papermill": {
     "duration": 0.028847,
     "end_time": "2025-08-05T21:00:53.062979",
     "exception": false,
     "start_time": "2025-08-05T21:00:53.034132",
     "status": "completed"
    },
    "tags": []
   },
   "source": [
    "# Preprocessing Data"
   ]
  },
  {
   "cell_type": "code",
   "execution_count": 19,
   "id": "ca879031",
   "metadata": {
    "execution": {
     "iopub.execute_input": "2025-08-05T21:00:53.122054Z",
     "iopub.status.busy": "2025-08-05T21:00:53.121460Z",
     "iopub.status.idle": "2025-08-05T21:00:53.128007Z",
     "shell.execute_reply": "2025-08-05T21:00:53.127159Z"
    },
    "papermill": {
     "duration": 0.03857,
     "end_time": "2025-08-05T21:00:53.130304",
     "exception": false,
     "start_time": "2025-08-05T21:00:53.091734",
     "status": "completed"
    },
    "tags": []
   },
   "outputs": [],
   "source": [
    "# EXCLUDE PROTECTED FEATURES\n",
    "# ----------------------\n",
    "# \"exclude_features\": \"none\", # \"nationality\", \"sex\", \"nationality-sex\"\n",
    "\n",
    "excluded_features = universe[\"exclude_features\"].split(\"-\") # split, e.g.: \"nationality-sex\" -> [\"nationality\", \"sex\"]\n",
    "excluded_features_dictionary = {\n",
    "    \"nationality\": [\"maxdeutsch1\", \"maxdeutsch.Missing.\"],\n",
    "    \"sex\": [\"frau1\"],\n",
    "    \"age\": [\"age\"],\n",
    "}"
   ]
  },
  {
   "cell_type": "code",
   "execution_count": 20,
   "id": "b745ac60",
   "metadata": {
    "execution": {
     "iopub.execute_input": "2025-08-05T21:00:53.189284Z",
     "iopub.status.busy": "2025-08-05T21:00:53.188080Z",
     "iopub.status.idle": "2025-08-05T21:00:53.195979Z",
     "shell.execute_reply": "2025-08-05T21:00:53.194673Z"
    },
    "papermill": {
     "duration": 0.039462,
     "end_time": "2025-08-05T21:00:53.197910",
     "exception": false,
     "start_time": "2025-08-05T21:00:53.158448",
     "status": "completed"
    },
    "tags": []
   },
   "outputs": [],
   "source": [
    "# Code nice names to column names\n",
    "\n",
    "excluded_features_columns = [\n",
    "    excluded_features_dictionary[f] for f in excluded_features if len(f) > 0 and f != \"none\"\n",
    "]"
   ]
  },
  {
   "cell_type": "code",
   "execution_count": 21,
   "id": "f84f73a2",
   "metadata": {
    "execution": {
     "iopub.execute_input": "2025-08-05T21:00:53.234428Z",
     "iopub.status.busy": "2025-08-05T21:00:53.233575Z",
     "iopub.status.idle": "2025-08-05T21:00:53.242243Z",
     "shell.execute_reply": "2025-08-05T21:00:53.241036Z"
    },
    "papermill": {
     "duration": 0.028597,
     "end_time": "2025-08-05T21:00:53.244081",
     "exception": false,
     "start_time": "2025-08-05T21:00:53.215484",
     "status": "completed"
    },
    "tags": []
   },
   "outputs": [],
   "source": [
    "from utils import flatten_once\n",
    "\n",
    "excluded_features_columns = flatten_once(excluded_features_columns)"
   ]
  },
  {
   "cell_type": "code",
   "execution_count": 22,
   "id": "884dea22",
   "metadata": {
    "execution": {
     "iopub.execute_input": "2025-08-05T21:00:53.280350Z",
     "iopub.status.busy": "2025-08-05T21:00:53.279599Z",
     "iopub.status.idle": "2025-08-05T21:00:53.302030Z",
     "shell.execute_reply": "2025-08-05T21:00:53.300693Z"
    },
    "papermill": {
     "duration": 0.042543,
     "end_time": "2025-08-05T21:00:53.303837",
     "exception": false,
     "start_time": "2025-08-05T21:00:53.261294",
     "status": "completed"
    },
    "tags": []
   },
   "outputs": [
    {
     "name": "stdout",
     "output_type": "stream",
     "text": [
      "Dropping features: ['age']\n"
     ]
    }
   ],
   "source": [
    "if len(excluded_features_columns) > 0:\n",
    "    print(f\"Dropping features: {excluded_features_columns}\")\n",
    "    X_train.drop(excluded_features_columns, axis=1, inplace=True)"
   ]
  },
  {
   "cell_type": "code",
   "execution_count": 23,
   "id": "95ab8b16",
   "metadata": {
    "execution": {
     "iopub.execute_input": "2025-08-05T21:00:53.341001Z",
     "iopub.status.busy": "2025-08-05T21:00:53.339984Z",
     "iopub.status.idle": "2025-08-05T21:00:53.419966Z",
     "shell.execute_reply": "2025-08-05T21:00:53.418727Z"
    },
    "papermill": {
     "duration": 0.101198,
     "end_time": "2025-08-05T21:00:53.422733",
     "exception": false,
     "start_time": "2025-08-05T21:00:53.321535",
     "status": "completed"
    },
    "tags": []
   },
   "outputs": [
    {
     "name": "stdout",
     "output_type": "stream",
     "text": [
      "Dropping features: ['age']\n"
     ]
    }
   ],
   "source": [
    "if len(excluded_features_columns) > 0:\n",
    "    print(f\"Dropping features: {excluded_features_columns}\")\n",
    "    X_test.drop(excluded_features_columns, axis=1, inplace=True)"
   ]
  },
  {
   "cell_type": "code",
   "execution_count": 24,
   "id": "1853aaf5-fb9f-46cb-a2b5-8ea4ae2237e4",
   "metadata": {
    "execution": {
     "iopub.execute_input": "2025-08-05T21:00:53.483486Z",
     "iopub.status.busy": "2025-08-05T21:00:53.482758Z",
     "iopub.status.idle": "2025-08-05T21:00:53.541179Z",
     "shell.execute_reply": "2025-08-05T21:00:53.539964Z"
    },
    "papermill": {
     "duration": 0.091094,
     "end_time": "2025-08-05T21:00:53.543413",
     "exception": false,
     "start_time": "2025-08-05T21:00:53.452319",
     "status": "completed"
    },
    "tags": []
   },
   "outputs": [
    {
     "name": "stdout",
     "output_type": "stream",
     "text": [
      "Dropping features: ['age']\n"
     ]
    }
   ],
   "source": [
    "if len(excluded_features_columns) > 0:\n",
    "    print(f\"Dropping features: {excluded_features_columns}\")\n",
    "    X_calib.drop(excluded_features_columns, axis=1, inplace=True)"
   ]
  },
  {
   "cell_type": "code",
   "execution_count": 25,
   "id": "76c4dc6d",
   "metadata": {
    "execution": {
     "iopub.execute_input": "2025-08-05T21:00:53.581187Z",
     "iopub.status.busy": "2025-08-05T21:00:53.580214Z",
     "iopub.status.idle": "2025-08-05T21:00:53.587389Z",
     "shell.execute_reply": "2025-08-05T21:00:53.586199Z"
    },
    "papermill": {
     "duration": 0.027894,
     "end_time": "2025-08-05T21:00:53.589222",
     "exception": false,
     "start_time": "2025-08-05T21:00:53.561328",
     "status": "completed"
    },
    "tags": []
   },
   "outputs": [],
   "source": [
    "# EXCLUDE CERTAIN SUBGROUPS\n",
    "# ----------------------\n",
    "\n",
    "mode = universe.get(\"exclude_subgroups\", \"keep-all\") \n",
    "# Fetches the exclude_subgroups setting from the universe dict.\n",
    "# Defaults to \"keep-all\" if the key is missing."
   ]
  },
  {
   "cell_type": "code",
   "execution_count": 26,
   "id": "21994072",
   "metadata": {
    "execution": {
     "iopub.execute_input": "2025-08-05T21:00:53.627615Z",
     "iopub.status.busy": "2025-08-05T21:00:53.626615Z",
     "iopub.status.idle": "2025-08-05T21:00:53.633527Z",
     "shell.execute_reply": "2025-08-05T21:00:53.632470Z"
    },
    "papermill": {
     "duration": 0.027969,
     "end_time": "2025-08-05T21:00:53.635939",
     "exception": false,
     "start_time": "2025-08-05T21:00:53.607970",
     "status": "completed"
    },
    "tags": []
   },
   "outputs": [],
   "source": [
    "if mode == \"keep-all\":\n",
    "    keep_mask = pd.Series(True, index=org_train.index)\n",
    "\n",
    "# org_train contains the original feature columns from features_org (in Simson)\n",
    "# features_org contains unprocessed features, for me X_train at beginning ???\n",
    "# For keep-all, creates a boolean Series (keep_mask) of all True, so no rows are removed.\n",
    "\n",
    "elif mode == \"drop-non-german\":\n",
    "    keep_mask = org_train[\"maxdeutsch1\"] == 1 # ??? what about missing values?\n",
    "\n",
    "else:\n",
    "    raise ValueError(f\"Unsupported mode for exclude_subgroups: {mode}\")"
   ]
  },
  {
   "cell_type": "code",
   "execution_count": 27,
   "id": "71651440",
   "metadata": {
    "execution": {
     "iopub.execute_input": "2025-08-05T21:00:53.697032Z",
     "iopub.status.busy": "2025-08-05T21:00:53.696629Z",
     "iopub.status.idle": "2025-08-05T21:00:53.704236Z",
     "shell.execute_reply": "2025-08-05T21:00:53.702995Z"
    },
    "papermill": {
     "duration": 0.040857,
     "end_time": "2025-08-05T21:00:53.706687",
     "exception": false,
     "start_time": "2025-08-05T21:00:53.665830",
     "status": "completed"
    },
    "tags": []
   },
   "outputs": [],
   "source": [
    "n_drop = (~keep_mask).sum() # Calculates how many rows are set to be dropped\n",
    "if n_drop > 0:\n",
    "    pct = n_drop / len(keep_mask) * 100\n",
    "    print(f\"Dropping {n_drop} rows ({pct:.2f}%) where mode='{mode}'\")"
   ]
  },
  {
   "cell_type": "code",
   "execution_count": 28,
   "id": "5fb8eee5",
   "metadata": {
    "execution": {
     "iopub.execute_input": "2025-08-05T21:00:53.768213Z",
     "iopub.status.busy": "2025-08-05T21:00:53.767455Z",
     "iopub.status.idle": "2025-08-05T21:00:53.784384Z",
     "shell.execute_reply": "2025-08-05T21:00:53.783223Z"
    },
    "papermill": {
     "duration": 0.050268,
     "end_time": "2025-08-05T21:00:53.786972",
     "exception": false,
     "start_time": "2025-08-05T21:00:53.736704",
     "status": "completed"
    },
    "tags": []
   },
   "outputs": [],
   "source": [
    "X_train = X_train[keep_mask]"
   ]
  },
  {
   "cell_type": "code",
   "execution_count": 29,
   "id": "b202bb3a",
   "metadata": {
    "execution": {
     "iopub.execute_input": "2025-08-05T21:00:53.836004Z",
     "iopub.status.busy": "2025-08-05T21:00:53.835078Z",
     "iopub.status.idle": "2025-08-05T21:00:53.843288Z",
     "shell.execute_reply": "2025-08-05T21:00:53.841955Z"
    },
    "papermill": {
     "duration": 0.032635,
     "end_time": "2025-08-05T21:00:53.846138",
     "exception": false,
     "start_time": "2025-08-05T21:00:53.813503",
     "status": "completed"
    },
    "tags": []
   },
   "outputs": [],
   "source": [
    "y_train = y_train[keep_mask]"
   ]
  },
  {
   "cell_type": "markdown",
   "id": "493e2ac3",
   "metadata": {
    "papermill": {
     "duration": 0.019948,
     "end_time": "2025-08-05T21:00:53.888782",
     "exception": false,
     "start_time": "2025-08-05T21:00:53.868834",
     "status": "completed"
    },
    "tags": []
   },
   "source": [
    "# Model Training"
   ]
  },
  {
   "cell_type": "code",
   "execution_count": 30,
   "id": "679e1268",
   "metadata": {
    "execution": {
     "iopub.execute_input": "2025-08-05T21:00:53.930858Z",
     "iopub.status.busy": "2025-08-05T21:00:53.930384Z",
     "iopub.status.idle": "2025-08-05T21:00:54.032116Z",
     "shell.execute_reply": "2025-08-05T21:00:54.031083Z"
    },
    "papermill": {
     "duration": 0.124689,
     "end_time": "2025-08-05T21:00:54.034335",
     "exception": false,
     "start_time": "2025-08-05T21:00:53.909646",
     "status": "completed"
    },
    "tags": []
   },
   "outputs": [],
   "source": [
    "from sklearn.linear_model import LogisticRegression\n",
    "from sklearn.ensemble import GradientBoostingClassifier, RandomForestClassifier\n",
    "\n",
    "if (universe[\"model\"] == \"logreg\"):\n",
    "    model = LogisticRegression() #penalty=\"none\", solver=\"newton-cg\", max_iter=1) # include random_state=19 ?\n",
    "elif (universe[\"model\"] == \"penalized_logreg\"):\n",
    "    model = LogisticRegression(penalty=\"l2\", C=0.1) #, solver=\"newton-cg\", max_iter=1)\n",
    "elif (universe[\"model\"] == \"rf\"):\n",
    "    model = RandomForestClassifier() # n_estimators=100, n_jobs=-1\n",
    "elif (universe[\"model\"] == \"gbm\"):\n",
    "    model = GradientBoostingClassifier()\n",
    "elif (universe[\"model\"] == \"elasticnet\"):\n",
    "    model = LogisticRegression(penalty = 'elasticnet', solver = 'saga', l1_ratio = 0.5) # max_iter=5000\n",
    "else:\n",
    "    raise \"Unsupported universe.model\""
   ]
  },
  {
   "cell_type": "code",
   "execution_count": 31,
   "id": "0cc8f744",
   "metadata": {
    "execution": {
     "iopub.execute_input": "2025-08-05T21:00:54.077451Z",
     "iopub.status.busy": "2025-08-05T21:00:54.076775Z",
     "iopub.status.idle": "2025-08-05T21:00:54.083636Z",
     "shell.execute_reply": "2025-08-05T21:00:54.082539Z"
    },
    "papermill": {
     "duration": 0.03047,
     "end_time": "2025-08-05T21:00:54.085621",
     "exception": false,
     "start_time": "2025-08-05T21:00:54.055151",
     "status": "completed"
    },
    "tags": []
   },
   "outputs": [],
   "source": [
    "import numpy as np\n",
    "from sklearn.pipeline import Pipeline\n",
    "from sklearn.preprocessing import StandardScaler\n",
    "\n",
    "model = Pipeline([\n",
    "    #(\"continuous_processor\", continuous_processor),\n",
    "    #(\"categorical_preprocessor\", categorical_preprocessor),\n",
    "    (\"scale\", StandardScaler() if universe[\"scale\"] == \"scale\" else None), \n",
    "    (\"model\", model),\n",
    "])"
   ]
  },
  {
   "cell_type": "code",
   "execution_count": 32,
   "id": "9442c04d",
   "metadata": {
    "execution": {
     "iopub.execute_input": "2025-08-05T21:00:54.130719Z",
     "iopub.status.busy": "2025-08-05T21:00:54.130035Z",
     "iopub.status.idle": "2025-08-05T21:01:04.072000Z",
     "shell.execute_reply": "2025-08-05T21:01:04.070893Z"
    },
    "papermill": {
     "duration": 9.966901,
     "end_time": "2025-08-05T21:01:04.074132",
     "exception": false,
     "start_time": "2025-08-05T21:00:54.107231",
     "status": "completed"
    },
    "tags": []
   },
   "outputs": [
    {
     "data": {
      "text/html": [
       "<style>#sk-container-id-1 {color: black;background-color: white;}#sk-container-id-1 pre{padding: 0;}#sk-container-id-1 div.sk-toggleable {background-color: white;}#sk-container-id-1 label.sk-toggleable__label {cursor: pointer;display: block;width: 100%;margin-bottom: 0;padding: 0.3em;box-sizing: border-box;text-align: center;}#sk-container-id-1 label.sk-toggleable__label-arrow:before {content: \"▸\";float: left;margin-right: 0.25em;color: #696969;}#sk-container-id-1 label.sk-toggleable__label-arrow:hover:before {color: black;}#sk-container-id-1 div.sk-estimator:hover label.sk-toggleable__label-arrow:before {color: black;}#sk-container-id-1 div.sk-toggleable__content {max-height: 0;max-width: 0;overflow: hidden;text-align: left;background-color: #f0f8ff;}#sk-container-id-1 div.sk-toggleable__content pre {margin: 0.2em;color: black;border-radius: 0.25em;background-color: #f0f8ff;}#sk-container-id-1 input.sk-toggleable__control:checked~div.sk-toggleable__content {max-height: 200px;max-width: 100%;overflow: auto;}#sk-container-id-1 input.sk-toggleable__control:checked~label.sk-toggleable__label-arrow:before {content: \"▾\";}#sk-container-id-1 div.sk-estimator input.sk-toggleable__control:checked~label.sk-toggleable__label {background-color: #d4ebff;}#sk-container-id-1 div.sk-label input.sk-toggleable__control:checked~label.sk-toggleable__label {background-color: #d4ebff;}#sk-container-id-1 input.sk-hidden--visually {border: 0;clip: rect(1px 1px 1px 1px);clip: rect(1px, 1px, 1px, 1px);height: 1px;margin: -1px;overflow: hidden;padding: 0;position: absolute;width: 1px;}#sk-container-id-1 div.sk-estimator {font-family: monospace;background-color: #f0f8ff;border: 1px dotted black;border-radius: 0.25em;box-sizing: border-box;margin-bottom: 0.5em;}#sk-container-id-1 div.sk-estimator:hover {background-color: #d4ebff;}#sk-container-id-1 div.sk-parallel-item::after {content: \"\";width: 100%;border-bottom: 1px solid gray;flex-grow: 1;}#sk-container-id-1 div.sk-label:hover label.sk-toggleable__label {background-color: #d4ebff;}#sk-container-id-1 div.sk-serial::before {content: \"\";position: absolute;border-left: 1px solid gray;box-sizing: border-box;top: 0;bottom: 0;left: 50%;z-index: 0;}#sk-container-id-1 div.sk-serial {display: flex;flex-direction: column;align-items: center;background-color: white;padding-right: 0.2em;padding-left: 0.2em;position: relative;}#sk-container-id-1 div.sk-item {position: relative;z-index: 1;}#sk-container-id-1 div.sk-parallel {display: flex;align-items: stretch;justify-content: center;background-color: white;position: relative;}#sk-container-id-1 div.sk-item::before, #sk-container-id-1 div.sk-parallel-item::before {content: \"\";position: absolute;border-left: 1px solid gray;box-sizing: border-box;top: 0;bottom: 0;left: 50%;z-index: -1;}#sk-container-id-1 div.sk-parallel-item {display: flex;flex-direction: column;z-index: 1;position: relative;background-color: white;}#sk-container-id-1 div.sk-parallel-item:first-child::after {align-self: flex-end;width: 50%;}#sk-container-id-1 div.sk-parallel-item:last-child::after {align-self: flex-start;width: 50%;}#sk-container-id-1 div.sk-parallel-item:only-child::after {width: 0;}#sk-container-id-1 div.sk-dashed-wrapped {border: 1px dashed gray;margin: 0 0.4em 0.5em 0.4em;box-sizing: border-box;padding-bottom: 0.4em;background-color: white;}#sk-container-id-1 div.sk-label label {font-family: monospace;font-weight: bold;display: inline-block;line-height: 1.2em;}#sk-container-id-1 div.sk-label-container {text-align: center;}#sk-container-id-1 div.sk-container {/* jupyter's `normalize.less` sets `[hidden] { display: none; }` but bootstrap.min.css set `[hidden] { display: none !important; }` so we also need the `!important` here to be able to override the default hidden behavior on the sphinx rendered scikit-learn.org. See: https://github.com/scikit-learn/scikit-learn/issues/21755 */display: inline-block !important;position: relative;}#sk-container-id-1 div.sk-text-repr-fallback {display: none;}</style><div id=\"sk-container-id-1\" class=\"sk-top-container\"><div class=\"sk-text-repr-fallback\"><pre>Pipeline(steps=[(&#x27;scale&#x27;, None), (&#x27;model&#x27;, RandomForestClassifier())])</pre><b>In a Jupyter environment, please rerun this cell to show the HTML representation or trust the notebook. <br />On GitHub, the HTML representation is unable to render, please try loading this page with nbviewer.org.</b></div><div class=\"sk-container\" hidden><div class=\"sk-item sk-dashed-wrapped\"><div class=\"sk-label-container\"><div class=\"sk-label sk-toggleable\"><input class=\"sk-toggleable__control sk-hidden--visually\" id=\"sk-estimator-id-1\" type=\"checkbox\" ><label for=\"sk-estimator-id-1\" class=\"sk-toggleable__label sk-toggleable__label-arrow\">Pipeline</label><div class=\"sk-toggleable__content\"><pre>Pipeline(steps=[(&#x27;scale&#x27;, None), (&#x27;model&#x27;, RandomForestClassifier())])</pre></div></div></div><div class=\"sk-serial\"><div class=\"sk-item\"><div class=\"sk-estimator sk-toggleable\"><input class=\"sk-toggleable__control sk-hidden--visually\" id=\"sk-estimator-id-2\" type=\"checkbox\" ><label for=\"sk-estimator-id-2\" class=\"sk-toggleable__label sk-toggleable__label-arrow\">None</label><div class=\"sk-toggleable__content\"><pre>None</pre></div></div></div><div class=\"sk-item\"><div class=\"sk-estimator sk-toggleable\"><input class=\"sk-toggleable__control sk-hidden--visually\" id=\"sk-estimator-id-3\" type=\"checkbox\" ><label for=\"sk-estimator-id-3\" class=\"sk-toggleable__label sk-toggleable__label-arrow\">RandomForestClassifier</label><div class=\"sk-toggleable__content\"><pre>RandomForestClassifier()</pre></div></div></div></div></div></div></div>"
      ],
      "text/plain": [
       "Pipeline(steps=[('scale', None), ('model', RandomForestClassifier())])"
      ]
     },
     "execution_count": 32,
     "metadata": {},
     "output_type": "execute_result"
    }
   ],
   "source": [
    "model.fit(X_train, y_train.values.ravel())"
   ]
  },
  {
   "cell_type": "code",
   "execution_count": 33,
   "id": "af59f8c0",
   "metadata": {
    "execution": {
     "iopub.execute_input": "2025-08-05T21:01:04.219873Z",
     "iopub.status.busy": "2025-08-05T21:01:04.219305Z",
     "iopub.status.idle": "2025-08-05T21:01:04.225542Z",
     "shell.execute_reply": "2025-08-05T21:01:04.224378Z"
    },
    "papermill": {
     "duration": 0.037156,
     "end_time": "2025-08-05T21:01:04.227876",
     "exception": false,
     "start_time": "2025-08-05T21:01:04.190720",
     "status": "completed"
    },
    "tags": []
   },
   "outputs": [],
   "source": [
    "from fairness_multiverse.universe import predict_w_threshold"
   ]
  },
  {
   "cell_type": "code",
   "execution_count": 34,
   "id": "a7cf2e16",
   "metadata": {
    "execution": {
     "iopub.execute_input": "2025-08-05T21:01:04.285149Z",
     "iopub.status.busy": "2025-08-05T21:01:04.284699Z",
     "iopub.status.idle": "2025-08-05T21:01:07.827490Z",
     "shell.execute_reply": "2025-08-05T21:01:07.826554Z"
    },
    "papermill": {
     "duration": 3.573298,
     "end_time": "2025-08-05T21:01:07.829085",
     "exception": false,
     "start_time": "2025-08-05T21:01:04.255787",
     "status": "completed"
    },
    "tags": []
   },
   "outputs": [
    {
     "data": {
      "text/plain": [
       "0.8681417902129083"
      ]
     },
     "execution_count": 34,
     "metadata": {},
     "output_type": "execute_result"
    }
   ],
   "source": [
    "probs_test = model.predict_proba(X_test)\n",
    "\n",
    "'''\n",
    "Below code returns a boolean array (or binary 0/1 array depending on how it’s used) where each element \n",
    "is True if the probability of class 1 is greater than or equal to the threshold, and False otherwise.\n",
    "'''\n",
    "y_pred_default = predict_w_threshold(probs_test, 0.5)\n",
    "\n",
    "from sklearn.metrics import accuracy_score\n",
    "\n",
    "# Naive prediction\n",
    "accuracy_score(y_true = y_true, y_pred = y_pred_default)"
   ]
  },
  {
   "cell_type": "code",
   "execution_count": 35,
   "id": "081964c3",
   "metadata": {
    "execution": {
     "iopub.execute_input": "2025-08-05T21:01:07.873309Z",
     "iopub.status.busy": "2025-08-05T21:01:07.872449Z",
     "iopub.status.idle": "2025-08-05T21:01:11.166766Z",
     "shell.execute_reply": "2025-08-05T21:01:11.165867Z"
    },
    "papermill": {
     "duration": 3.317112,
     "end_time": "2025-08-05T21:01:11.168435",
     "exception": false,
     "start_time": "2025-08-05T21:01:07.851323",
     "status": "completed"
    },
    "tags": []
   },
   "outputs": [
    {
     "data": {
      "text/plain": [
       "array([0, 0, 0, ..., 0, 0, 0])"
      ]
     },
     "execution_count": 35,
     "metadata": {},
     "output_type": "execute_result"
    }
   ],
   "source": [
    "model.predict(X_test)"
   ]
  },
  {
   "cell_type": "markdown",
   "id": "56c9705b",
   "metadata": {
    "papermill": {
     "duration": 0.015007,
     "end_time": "2025-08-05T21:01:11.207115",
     "exception": false,
     "start_time": "2025-08-05T21:01:11.192108",
     "status": "completed"
    },
    "tags": []
   },
   "source": [
    "# Conformal Prediction"
   ]
  },
  {
   "cell_type": "code",
   "execution_count": 36,
   "id": "160ec6ff",
   "metadata": {
    "execution": {
     "iopub.execute_input": "2025-08-05T21:01:11.229057Z",
     "iopub.status.busy": "2025-08-05T21:01:11.228587Z",
     "iopub.status.idle": "2025-08-05T21:01:11.233928Z",
     "shell.execute_reply": "2025-08-05T21:01:11.232882Z"
    },
    "papermill": {
     "duration": 0.018714,
     "end_time": "2025-08-05T21:01:11.235992",
     "exception": false,
     "start_time": "2025-08-05T21:01:11.217278",
     "status": "completed"
    },
    "tags": []
   },
   "outputs": [],
   "source": [
    "# Miscoverage level for conformal prediction (10% allowed error rate => 90% target coverage)\n",
    "alpha = 0.1"
   ]
  },
  {
   "cell_type": "code",
   "execution_count": 37,
   "id": "eadf4555-3dd3-440e-8e35-f82a4ad9f855",
   "metadata": {
    "execution": {
     "iopub.execute_input": "2025-08-05T21:01:11.274693Z",
     "iopub.status.busy": "2025-08-05T21:01:11.274274Z",
     "iopub.status.idle": "2025-08-05T21:01:13.570039Z",
     "shell.execute_reply": "2025-08-05T21:01:13.568988Z"
    },
    "papermill": {
     "duration": 2.31603,
     "end_time": "2025-08-05T21:01:13.571682",
     "exception": false,
     "start_time": "2025-08-05T21:01:11.255652",
     "status": "completed"
    },
    "tags": []
   },
   "outputs": [],
   "source": [
    "probs_calib = model.predict_proba(X_calib)"
   ]
  },
  {
   "cell_type": "code",
   "execution_count": 38,
   "id": "2ed93547-6d5d-4983-9b36-1ecb300da49a",
   "metadata": {
    "execution": {
     "iopub.execute_input": "2025-08-05T21:01:13.594103Z",
     "iopub.status.busy": "2025-08-05T21:01:13.593744Z",
     "iopub.status.idle": "2025-08-05T21:01:13.599166Z",
     "shell.execute_reply": "2025-08-05T21:01:13.598441Z"
    },
    "papermill": {
     "duration": 0.018239,
     "end_time": "2025-08-05T21:01:13.600713",
     "exception": false,
     "start_time": "2025-08-05T21:01:13.582474",
     "status": "completed"
    },
    "tags": []
   },
   "outputs": [],
   "source": [
    "y_calib = y_calib.values.ravel().astype(int)"
   ]
  },
  {
   "cell_type": "code",
   "execution_count": 39,
   "id": "65d1320d-f588-4b38-9072-62af1ae97f7d",
   "metadata": {
    "execution": {
     "iopub.execute_input": "2025-08-05T21:01:13.623620Z",
     "iopub.status.busy": "2025-08-05T21:01:13.623099Z",
     "iopub.status.idle": "2025-08-05T21:01:13.629328Z",
     "shell.execute_reply": "2025-08-05T21:01:13.628414Z"
    },
    "papermill": {
     "duration": 0.018695,
     "end_time": "2025-08-05T21:01:13.630858",
     "exception": false,
     "start_time": "2025-08-05T21:01:13.612163",
     "status": "completed"
    },
    "tags": []
   },
   "outputs": [],
   "source": [
    "from fairness_multiverse.conformal import compute_nc_scores\n",
    "\n",
    "# Compute nonconformity scores on calibration set (1 - probability of true class)\n",
    "nc_scores = compute_nc_scores(probs_calib, y_calib)"
   ]
  },
  {
   "cell_type": "code",
   "execution_count": 40,
   "id": "df3b8ca3-53b7-43d5-9667-7c85da7aeda2",
   "metadata": {
    "execution": {
     "iopub.execute_input": "2025-08-05T21:01:13.653206Z",
     "iopub.status.busy": "2025-08-05T21:01:13.652690Z",
     "iopub.status.idle": "2025-08-05T21:01:13.658754Z",
     "shell.execute_reply": "2025-08-05T21:01:13.657904Z"
    },
    "papermill": {
     "duration": 0.01849,
     "end_time": "2025-08-05T21:01:13.660304",
     "exception": false,
     "start_time": "2025-08-05T21:01:13.641814",
     "status": "completed"
    },
    "tags": []
   },
   "outputs": [],
   "source": [
    "from fairness_multiverse.conformal import find_threshold\n",
    "\n",
    "# Find conformal threshold q_hat for the given alpha (split conformal method)\n",
    "q_hat = find_threshold(nc_scores, alpha)"
   ]
  },
  {
   "cell_type": "code",
   "execution_count": 41,
   "id": "4d29e6c1-0ef6-4aa4-b8fe-4fe79b0d033a",
   "metadata": {
    "execution": {
     "iopub.execute_input": "2025-08-05T21:01:13.682616Z",
     "iopub.status.busy": "2025-08-05T21:01:13.682099Z",
     "iopub.status.idle": "2025-08-05T21:01:13.688591Z",
     "shell.execute_reply": "2025-08-05T21:01:13.687579Z"
    },
    "papermill": {
     "duration": 0.018919,
     "end_time": "2025-08-05T21:01:13.690160",
     "exception": false,
     "start_time": "2025-08-05T21:01:13.671241",
     "status": "completed"
    },
    "tags": []
   },
   "outputs": [
    {
     "data": {
      "text/plain": [
       "0.6599999999999999"
      ]
     },
     "execution_count": 41,
     "metadata": {},
     "output_type": "execute_result"
    }
   ],
   "source": [
    "q_hat"
   ]
  },
  {
   "cell_type": "code",
   "execution_count": 42,
   "id": "92460794-cdac-4be2-ba28-f28c0515a6fb",
   "metadata": {
    "execution": {
     "iopub.execute_input": "2025-08-05T21:01:13.712401Z",
     "iopub.status.busy": "2025-08-05T21:01:13.711890Z",
     "iopub.status.idle": "2025-08-05T21:01:16.656902Z",
     "shell.execute_reply": "2025-08-05T21:01:16.656091Z"
    },
    "papermill": {
     "duration": 2.957325,
     "end_time": "2025-08-05T21:01:16.658367",
     "exception": false,
     "start_time": "2025-08-05T21:01:13.701042",
     "status": "completed"
    },
    "tags": []
   },
   "outputs": [],
   "source": [
    "from fairness_multiverse.conformal import predict_conformal_sets\n",
    "\n",
    "# Generate prediction sets for each test example\n",
    "pred_sets = predict_conformal_sets(model, X_test, q_hat)"
   ]
  },
  {
   "cell_type": "code",
   "execution_count": 43,
   "id": "d90c9a65-e6db-4f5d-80cd-e68fb7e46829",
   "metadata": {
    "execution": {
     "iopub.execute_input": "2025-08-05T21:01:16.681291Z",
     "iopub.status.busy": "2025-08-05T21:01:16.680592Z",
     "iopub.status.idle": "2025-08-05T21:01:16.685692Z",
     "shell.execute_reply": "2025-08-05T21:01:16.684874Z"
    },
    "papermill": {
     "duration": 0.017555,
     "end_time": "2025-08-05T21:01:16.687046",
     "exception": false,
     "start_time": "2025-08-05T21:01:16.669491",
     "status": "completed"
    },
    "tags": []
   },
   "outputs": [],
   "source": [
    "y_true = y_true.squeeze()"
   ]
  },
  {
   "cell_type": "code",
   "execution_count": 44,
   "id": "3a58a54a-1e68-46b9-927a-df01f18aebc8",
   "metadata": {
    "execution": {
     "iopub.execute_input": "2025-08-05T21:01:16.709796Z",
     "iopub.status.busy": "2025-08-05T21:01:16.709275Z",
     "iopub.status.idle": "2025-08-05T21:01:17.458762Z",
     "shell.execute_reply": "2025-08-05T21:01:17.457685Z"
    },
    "papermill": {
     "duration": 0.762162,
     "end_time": "2025-08-05T21:01:17.460448",
     "exception": false,
     "start_time": "2025-08-05T21:01:16.698286",
     "status": "completed"
    },
    "tags": []
   },
   "outputs": [],
   "source": [
    "from fairness_multiverse.conformal import evaluate_sets\n",
    "\n",
    "# Evaluate coverage and average set size on test data\n",
    "metrics = evaluate_sets(pred_sets, y_true)"
   ]
  },
  {
   "cell_type": "markdown",
   "id": "2b569c12-9aaa-4c88-98c9-bbcd0cf3ebb8",
   "metadata": {
    "papermill": {
     "duration": 0.019143,
     "end_time": "2025-08-05T21:01:17.498978",
     "exception": false,
     "start_time": "2025-08-05T21:01:17.479835",
     "status": "completed"
    },
    "tags": []
   },
   "source": [
    "# CP Metrics"
   ]
  },
  {
   "cell_type": "code",
   "execution_count": 45,
   "id": "5ce0a5cb-201f-45a0-ade5-94c7f0bd6095",
   "metadata": {
    "execution": {
     "iopub.execute_input": "2025-08-05T21:01:17.540768Z",
     "iopub.status.busy": "2025-08-05T21:01:17.540390Z",
     "iopub.status.idle": "2025-08-05T21:01:17.546265Z",
     "shell.execute_reply": "2025-08-05T21:01:17.545282Z"
    },
    "papermill": {
     "duration": 0.028744,
     "end_time": "2025-08-05T21:01:17.547560",
     "exception": false,
     "start_time": "2025-08-05T21:01:17.518816",
     "status": "completed"
    },
    "tags": []
   },
   "outputs": [
    {
     "data": {
      "text/plain": [
       "{'coverage': 0.9152825771931781, 'avg_size': 1.1428380336640285}"
      ]
     },
     "execution_count": 45,
     "metadata": {},
     "output_type": "execute_result"
    }
   ],
   "source": [
    "metrics"
   ]
  },
  {
   "cell_type": "code",
   "execution_count": 46,
   "id": "9b9a838d-31c9-430b-ae14-12baee460d17",
   "metadata": {
    "execution": {
     "iopub.execute_input": "2025-08-05T21:01:17.582703Z",
     "iopub.status.busy": "2025-08-05T21:01:17.582289Z",
     "iopub.status.idle": "2025-08-05T21:01:17.588321Z",
     "shell.execute_reply": "2025-08-05T21:01:17.587610Z"
    },
    "papermill": {
     "duration": 0.031006,
     "end_time": "2025-08-05T21:01:17.589779",
     "exception": false,
     "start_time": "2025-08-05T21:01:17.558773",
     "status": "completed"
    },
    "tags": []
   },
   "outputs": [],
   "source": [
    "example_universe = universe.copy()\n",
    "universe_training_year = example_universe.get(\"training_year\")\n",
    "universe_training_size = example_universe.get(\"training_size\")\n",
    "universe_scale = example_universe.get(\"scale\")\n",
    "universe_model = example_universe.get(\"model\")\n",
    "universe_exclude_features = example_universe.get(\"exclude_features\")\n",
    "universe_exclude_subgroups = example_universe.get(\"exclude_subgroups\")"
   ]
  },
  {
   "cell_type": "code",
   "execution_count": 47,
   "id": "f4b6a8ac-9dc0-4245-8a91-5b3b5999c4f9",
   "metadata": {
    "execution": {
     "iopub.execute_input": "2025-08-05T21:01:17.624241Z",
     "iopub.status.busy": "2025-08-05T21:01:17.623851Z",
     "iopub.status.idle": "2025-08-05T21:01:17.630570Z",
     "shell.execute_reply": "2025-08-05T21:01:17.629561Z"
    },
    "papermill": {
     "duration": 0.030019,
     "end_time": "2025-08-05T21:01:17.632399",
     "exception": false,
     "start_time": "2025-08-05T21:01:17.602380",
     "status": "completed"
    },
    "tags": []
   },
   "outputs": [],
   "source": [
    "cp_metrics_dict = {\n",
    "    \"universe_id\": [universe_id],\n",
    "    \"universe_training_year\": [universe_training_year],\n",
    "    \"universe_training_size\": [universe_training_size],\n",
    "    \"universe_scale\": [universe_scale],\n",
    "    \"universe_model\": [universe_model],\n",
    "    \"universe_exclude_features\": [universe_exclude_features],\n",
    "    \"universe_exclude_subgroups\": [universe_exclude_subgroups],\n",
    "    \"q_hat\": [q_hat],\n",
    "    \"coverage\": [metrics[\"coverage\"]],\n",
    "    \"avg_size\": [metrics[\"avg_size\"]],\n",
    "}"
   ]
  },
  {
   "cell_type": "code",
   "execution_count": 48,
   "id": "908acbb1-0371-4915-85ca-3fa520d2efe2",
   "metadata": {
    "execution": {
     "iopub.execute_input": "2025-08-05T21:01:17.668552Z",
     "iopub.status.busy": "2025-08-05T21:01:17.668181Z",
     "iopub.status.idle": "2025-08-05T21:01:17.675898Z",
     "shell.execute_reply": "2025-08-05T21:01:17.675130Z"
    },
    "papermill": {
     "duration": 0.024854,
     "end_time": "2025-08-05T21:01:17.678546",
     "exception": false,
     "start_time": "2025-08-05T21:01:17.653692",
     "status": "completed"
    },
    "tags": []
   },
   "outputs": [
    {
     "data": {
      "text/plain": [
       "{'universe_id': ['47d75506b72236ce4fe04272e47da429'],\n",
       " 'universe_training_year': ['2012_14'],\n",
       " 'universe_training_size': ['25k'],\n",
       " 'universe_scale': ['do-not-scale'],\n",
       " 'universe_model': ['rf'],\n",
       " 'universe_exclude_features': ['age'],\n",
       " 'universe_exclude_subgroups': ['keep-all'],\n",
       " 'q_hat': [0.6599999999999999],\n",
       " 'coverage': [0.9152825771931781],\n",
       " 'avg_size': [1.1428380336640285]}"
      ]
     },
     "execution_count": 48,
     "metadata": {},
     "output_type": "execute_result"
    }
   ],
   "source": [
    "cp_metrics_dict"
   ]
  },
  {
   "cell_type": "code",
   "execution_count": 49,
   "id": "33007efc-14e9-4ec6-97ac-56a455c82265",
   "metadata": {
    "execution": {
     "iopub.execute_input": "2025-08-05T21:01:17.724572Z",
     "iopub.status.busy": "2025-08-05T21:01:17.724207Z",
     "iopub.status.idle": "2025-08-05T21:01:17.730300Z",
     "shell.execute_reply": "2025-08-05T21:01:17.729335Z"
    },
    "papermill": {
     "duration": 0.030283,
     "end_time": "2025-08-05T21:01:17.732039",
     "exception": false,
     "start_time": "2025-08-05T21:01:17.701756",
     "status": "completed"
    },
    "tags": []
   },
   "outputs": [],
   "source": [
    "cp_metrics_df = pd.DataFrame(cp_metrics_dict)"
   ]
  },
  {
   "cell_type": "code",
   "execution_count": 50,
   "id": "db12611b-57b2-4910-b9d0-355adfd6e7bf",
   "metadata": {
    "execution": {
     "iopub.execute_input": "2025-08-05T21:01:17.777273Z",
     "iopub.status.busy": "2025-08-05T21:01:17.776932Z",
     "iopub.status.idle": "2025-08-05T21:01:17.791052Z",
     "shell.execute_reply": "2025-08-05T21:01:17.790382Z"
    },
    "papermill": {
     "duration": 0.038365,
     "end_time": "2025-08-05T21:01:17.792352",
     "exception": false,
     "start_time": "2025-08-05T21:01:17.753987",
     "status": "completed"
    },
    "tags": []
   },
   "outputs": [
    {
     "data": {
      "text/html": [
       "<div>\n",
       "<style scoped>\n",
       "    .dataframe tbody tr th:only-of-type {\n",
       "        vertical-align: middle;\n",
       "    }\n",
       "\n",
       "    .dataframe tbody tr th {\n",
       "        vertical-align: top;\n",
       "    }\n",
       "\n",
       "    .dataframe thead th {\n",
       "        text-align: right;\n",
       "    }\n",
       "</style>\n",
       "<table border=\"1\" class=\"dataframe\">\n",
       "  <thead>\n",
       "    <tr style=\"text-align: right;\">\n",
       "      <th></th>\n",
       "      <th>universe_id</th>\n",
       "      <th>universe_training_year</th>\n",
       "      <th>universe_training_size</th>\n",
       "      <th>universe_scale</th>\n",
       "      <th>universe_model</th>\n",
       "      <th>universe_exclude_features</th>\n",
       "      <th>universe_exclude_subgroups</th>\n",
       "      <th>q_hat</th>\n",
       "      <th>coverage</th>\n",
       "      <th>avg_size</th>\n",
       "    </tr>\n",
       "  </thead>\n",
       "  <tbody>\n",
       "    <tr>\n",
       "      <th>0</th>\n",
       "      <td>47d75506b72236ce4fe04272e47da429</td>\n",
       "      <td>2012_14</td>\n",
       "      <td>25k</td>\n",
       "      <td>do-not-scale</td>\n",
       "      <td>rf</td>\n",
       "      <td>age</td>\n",
       "      <td>keep-all</td>\n",
       "      <td>0.66</td>\n",
       "      <td>0.915283</td>\n",
       "      <td>1.142838</td>\n",
       "    </tr>\n",
       "  </tbody>\n",
       "</table>\n",
       "</div>"
      ],
      "text/plain": [
       "                        universe_id universe_training_year  \\\n",
       "0  47d75506b72236ce4fe04272e47da429                2012_14   \n",
       "\n",
       "  universe_training_size universe_scale universe_model  \\\n",
       "0                    25k   do-not-scale             rf   \n",
       "\n",
       "  universe_exclude_features universe_exclude_subgroups  q_hat  coverage  \\\n",
       "0                       age                   keep-all   0.66  0.915283   \n",
       "\n",
       "   avg_size  \n",
       "0  1.142838  "
      ]
     },
     "execution_count": 50,
     "metadata": {},
     "output_type": "execute_result"
    }
   ],
   "source": [
    "cp_metrics_df"
   ]
  },
  {
   "cell_type": "code",
   "execution_count": 51,
   "id": "b7fbde55-a0a1-47e4-9af6-fe4a17fa8c61",
   "metadata": {
    "execution": {
     "iopub.execute_input": "2025-08-05T21:01:17.815279Z",
     "iopub.status.busy": "2025-08-05T21:01:17.814801Z",
     "iopub.status.idle": "2025-08-05T21:01:17.818775Z",
     "shell.execute_reply": "2025-08-05T21:01:17.818038Z"
    },
    "papermill": {
     "duration": 0.016592,
     "end_time": "2025-08-05T21:01:17.820068",
     "exception": false,
     "start_time": "2025-08-05T21:01:17.803476",
     "status": "completed"
    },
    "tags": []
   },
   "outputs": [],
   "source": [
    "# Conditional Coverage & looking at subgroups"
   ]
  },
  {
   "cell_type": "code",
   "execution_count": 52,
   "id": "027ae886-68dd-4141-96c7-805a5450e1ef",
   "metadata": {
    "execution": {
     "iopub.execute_input": "2025-08-05T21:01:17.843534Z",
     "iopub.status.busy": "2025-08-05T21:01:17.843197Z",
     "iopub.status.idle": "2025-08-05T21:01:18.016223Z",
     "shell.execute_reply": "2025-08-05T21:01:18.015465Z"
    },
    "papermill": {
     "duration": 0.185944,
     "end_time": "2025-08-05T21:01:18.017752",
     "exception": false,
     "start_time": "2025-08-05T21:01:17.831808",
     "status": "completed"
    },
    "tags": []
   },
   "outputs": [],
   "source": [
    "from fairness_multiverse.conformal import build_cp_groups\n",
    "\n",
    "cp_groups_df = build_cp_groups(pred_sets, y_true, X_test.index, org_test)\n",
    "#needs universe_id and setting"
   ]
  },
  {
   "cell_type": "code",
   "execution_count": 53,
   "id": "6cbdab96-b2b2-45af-ad54-d0516db2e28d",
   "metadata": {
    "execution": {
     "iopub.execute_input": "2025-08-05T21:01:18.041658Z",
     "iopub.status.busy": "2025-08-05T21:01:18.041179Z",
     "iopub.status.idle": "2025-08-05T21:01:19.110289Z",
     "shell.execute_reply": "2025-08-05T21:01:19.109355Z"
    },
    "papermill": {
     "duration": 1.082664,
     "end_time": "2025-08-05T21:01:19.112125",
     "exception": false,
     "start_time": "2025-08-05T21:01:18.029461",
     "status": "completed"
    },
    "tags": []
   },
   "outputs": [],
   "source": [
    "# Define covered = 1 if true_label is in the predicted set\n",
    "cp_groups_df['covered'] = cp_groups_df.apply(\n",
    "    lambda r: int(r['true_label'] in r['pred_set']),\n",
    "    axis=1\n",
    ")"
   ]
  },
  {
   "cell_type": "code",
   "execution_count": 54,
   "id": "338ff529-1a6b-4b87-a931-8e4788d52aad",
   "metadata": {
    "execution": {
     "iopub.execute_input": "2025-08-05T21:01:19.157176Z",
     "iopub.status.busy": "2025-08-05T21:01:19.156652Z",
     "iopub.status.idle": "2025-08-05T21:01:19.161512Z",
     "shell.execute_reply": "2025-08-05T21:01:19.160540Z"
    },
    "papermill": {
     "duration": 0.028506,
     "end_time": "2025-08-05T21:01:19.163292",
     "exception": false,
     "start_time": "2025-08-05T21:01:19.134786",
     "status": "completed"
    },
    "tags": []
   },
   "outputs": [],
   "source": [
    "#cp_groups_df"
   ]
  },
  {
   "cell_type": "code",
   "execution_count": 55,
   "id": "90032e27-66df-4540-9169-4e89cfbaa758",
   "metadata": {
    "execution": {
     "iopub.execute_input": "2025-08-05T21:01:19.207425Z",
     "iopub.status.busy": "2025-08-05T21:01:19.206769Z",
     "iopub.status.idle": "2025-08-05T21:01:19.218731Z",
     "shell.execute_reply": "2025-08-05T21:01:19.217692Z"
    },
    "papermill": {
     "duration": 0.035534,
     "end_time": "2025-08-05T21:01:19.220297",
     "exception": false,
     "start_time": "2025-08-05T21:01:19.184763",
     "status": "completed"
    },
    "tags": []
   },
   "outputs": [],
   "source": [
    "subgroups = ['frau1','nongerman','nongerman_male','nongerman_female']\n",
    "\n",
    "# Conditional coverage for subgroup==1\n",
    "cond_coverage = {\n",
    "    g: cp_groups_df.loc[cp_groups_df[g]==1, 'covered'].mean()\n",
    "    for g in subgroups\n",
    "}"
   ]
  },
  {
   "cell_type": "code",
   "execution_count": 56,
   "id": "1e348fb1-b9c3-45bc-ba23-f016827a7e0d",
   "metadata": {
    "execution": {
     "iopub.execute_input": "2025-08-05T21:01:19.263810Z",
     "iopub.status.busy": "2025-08-05T21:01:19.263153Z",
     "iopub.status.idle": "2025-08-05T21:01:19.270311Z",
     "shell.execute_reply": "2025-08-05T21:01:19.269160Z"
    },
    "papermill": {
     "duration": 0.030677,
     "end_time": "2025-08-05T21:01:19.272086",
     "exception": false,
     "start_time": "2025-08-05T21:01:19.241409",
     "status": "completed"
    },
    "tags": []
   },
   "outputs": [
    {
     "data": {
      "text/plain": [
       "{'frau1': 0.9140045828278743,\n",
       " 'nongerman': 0.9138831190703419,\n",
       " 'nongerman_male': 0.9300189138070791,\n",
       " 'nongerman_female': 0.8871833084947839}"
      ]
     },
     "execution_count": 56,
     "metadata": {},
     "output_type": "execute_result"
    }
   ],
   "source": [
    "cond_coverage"
   ]
  },
  {
   "cell_type": "code",
   "execution_count": 57,
   "id": "f5093324-c3dd-4d63-bc4c-8d945e5c8bbb",
   "metadata": {
    "execution": {
     "iopub.execute_input": "2025-08-05T21:01:19.316066Z",
     "iopub.status.busy": "2025-08-05T21:01:19.315269Z",
     "iopub.status.idle": "2025-08-05T21:01:19.322216Z",
     "shell.execute_reply": "2025-08-05T21:01:19.321285Z"
    },
    "papermill": {
     "duration": 0.030435,
     "end_time": "2025-08-05T21:01:19.323937",
     "exception": false,
     "start_time": "2025-08-05T21:01:19.293502",
     "status": "completed"
    },
    "tags": []
   },
   "outputs": [],
   "source": [
    "for subgroup, cov in cond_coverage.items():\n",
    "    cp_metrics_df[f\"cov_{subgroup}\"] = cov"
   ]
  },
  {
   "cell_type": "code",
   "execution_count": 58,
   "id": "6e872e10-dbe5-49e8-b554-5030c98ff75d",
   "metadata": {
    "execution": {
     "iopub.execute_input": "2025-08-05T21:01:19.348106Z",
     "iopub.status.busy": "2025-08-05T21:01:19.347484Z",
     "iopub.status.idle": "2025-08-05T21:01:19.360993Z",
     "shell.execute_reply": "2025-08-05T21:01:19.360185Z"
    },
    "papermill": {
     "duration": 0.026563,
     "end_time": "2025-08-05T21:01:19.362452",
     "exception": false,
     "start_time": "2025-08-05T21:01:19.335889",
     "status": "completed"
    },
    "tags": []
   },
   "outputs": [
    {
     "data": {
      "text/html": [
       "<div>\n",
       "<style scoped>\n",
       "    .dataframe tbody tr th:only-of-type {\n",
       "        vertical-align: middle;\n",
       "    }\n",
       "\n",
       "    .dataframe tbody tr th {\n",
       "        vertical-align: top;\n",
       "    }\n",
       "\n",
       "    .dataframe thead th {\n",
       "        text-align: right;\n",
       "    }\n",
       "</style>\n",
       "<table border=\"1\" class=\"dataframe\">\n",
       "  <thead>\n",
       "    <tr style=\"text-align: right;\">\n",
       "      <th></th>\n",
       "      <th>universe_id</th>\n",
       "      <th>universe_training_year</th>\n",
       "      <th>universe_training_size</th>\n",
       "      <th>universe_scale</th>\n",
       "      <th>universe_model</th>\n",
       "      <th>universe_exclude_features</th>\n",
       "      <th>universe_exclude_subgroups</th>\n",
       "      <th>q_hat</th>\n",
       "      <th>coverage</th>\n",
       "      <th>avg_size</th>\n",
       "      <th>cov_frau1</th>\n",
       "      <th>cov_nongerman</th>\n",
       "      <th>cov_nongerman_male</th>\n",
       "      <th>cov_nongerman_female</th>\n",
       "    </tr>\n",
       "  </thead>\n",
       "  <tbody>\n",
       "    <tr>\n",
       "      <th>0</th>\n",
       "      <td>47d75506b72236ce4fe04272e47da429</td>\n",
       "      <td>2012_14</td>\n",
       "      <td>25k</td>\n",
       "      <td>do-not-scale</td>\n",
       "      <td>rf</td>\n",
       "      <td>age</td>\n",
       "      <td>keep-all</td>\n",
       "      <td>0.66</td>\n",
       "      <td>0.915283</td>\n",
       "      <td>1.142838</td>\n",
       "      <td>0.914005</td>\n",
       "      <td>0.913883</td>\n",
       "      <td>0.930019</td>\n",
       "      <td>0.887183</td>\n",
       "    </tr>\n",
       "  </tbody>\n",
       "</table>\n",
       "</div>"
      ],
      "text/plain": [
       "                        universe_id universe_training_year  \\\n",
       "0  47d75506b72236ce4fe04272e47da429                2012_14   \n",
       "\n",
       "  universe_training_size universe_scale universe_model  \\\n",
       "0                    25k   do-not-scale             rf   \n",
       "\n",
       "  universe_exclude_features universe_exclude_subgroups  q_hat  coverage  \\\n",
       "0                       age                   keep-all   0.66  0.915283   \n",
       "\n",
       "   avg_size  cov_frau1  cov_nongerman  cov_nongerman_male  \\\n",
       "0  1.142838   0.914005       0.913883            0.930019   \n",
       "\n",
       "   cov_nongerman_female  \n",
       "0              0.887183  "
      ]
     },
     "execution_count": 58,
     "metadata": {},
     "output_type": "execute_result"
    }
   ],
   "source": [
    "cp_metrics_df"
   ]
  },
  {
   "cell_type": "markdown",
   "id": "33774451",
   "metadata": {
    "papermill": {
     "duration": 0.010908,
     "end_time": "2025-08-05T21:01:19.385362",
     "exception": false,
     "start_time": "2025-08-05T21:01:19.374454",
     "status": "completed"
    },
    "tags": []
   },
   "source": [
    "# (Fairness) Metrics"
   ]
  },
  {
   "cell_type": "code",
   "execution_count": 59,
   "id": "debc5d62",
   "metadata": {
    "execution": {
     "iopub.execute_input": "2025-08-05T21:01:19.408950Z",
     "iopub.status.busy": "2025-08-05T21:01:19.408258Z",
     "iopub.status.idle": "2025-08-05T21:01:19.422479Z",
     "shell.execute_reply": "2025-08-05T21:01:19.421820Z"
    },
    "papermill": {
     "duration": 0.027172,
     "end_time": "2025-08-05T21:01:19.423683",
     "exception": false,
     "start_time": "2025-08-05T21:01:19.396511",
     "status": "completed"
    },
    "tags": []
   },
   "outputs": [],
   "source": [
    "# do I need to include maxdeutsch1.missing?\n",
    "\n",
    "import numpy as np\n",
    "\n",
    "colname_to_bin = \"maxdeutsch1\"\n",
    "majority_value = org_train[colname_to_bin].mode()[0]\n",
    "\n",
    "org_test[\"majmin\"] = np.where(org_test[colname_to_bin] == majority_value, \"majority\", \"minority\")"
   ]
  },
  {
   "cell_type": "code",
   "execution_count": 60,
   "id": "06a50de5",
   "metadata": {
    "execution": {
     "iopub.execute_input": "2025-08-05T21:01:19.447330Z",
     "iopub.status.busy": "2025-08-05T21:01:19.446795Z",
     "iopub.status.idle": "2025-08-05T21:01:21.506986Z",
     "shell.execute_reply": "2025-08-05T21:01:21.506013Z"
    },
    "papermill": {
     "duration": 2.073751,
     "end_time": "2025-08-05T21:01:21.508901",
     "exception": false,
     "start_time": "2025-08-05T21:01:19.435150",
     "status": "completed"
    },
    "tags": []
   },
   "outputs": [],
   "source": [
    "example_universe = universe.copy()\n",
    "example_universe[\"cutoff\"] = example_universe[\"cutoff\"][0]\n",
    "example_universe[\"eval_fairness_grouping\"] = example_universe[\"eval_fairness_grouping\"][0]\n",
    "fairness_dict, metric_frame = universe_analysis.compute_metrics(\n",
    "    example_universe,\n",
    "    y_pred_prob=probs_test,\n",
    "    y_test=y_true,\n",
    "    org_test=org_test,\n",
    ")"
   ]
  },
  {
   "cell_type": "markdown",
   "id": "f95d4e02",
   "metadata": {
    "papermill": {
     "duration": 0.021922,
     "end_time": "2025-08-05T21:01:21.556111",
     "exception": false,
     "start_time": "2025-08-05T21:01:21.534189",
     "status": "completed"
    },
    "tags": []
   },
   "source": [
    "# Overall"
   ]
  },
  {
   "cell_type": "markdown",
   "id": "bdee4871",
   "metadata": {
    "papermill": {
     "duration": 0.021776,
     "end_time": "2025-08-05T21:01:21.600611",
     "exception": false,
     "start_time": "2025-08-05T21:01:21.578835",
     "status": "completed"
    },
    "tags": []
   },
   "source": [
    "Fairness\n",
    "Main fairness target: Equalized Odds. Seems to be a better fit than equal opportunity, since we're not only interested in Y = 1. Seems to be a better fit than demographic parity, since we also care about accuracy, not just equal distribution of preds.\n",
    "\n",
    "Pick column for computation of fairness metrics\n",
    "\n",
    "Performance\n",
    "Overall performance measures, most interesting in relation to the measures split by group below"
   ]
  },
  {
   "cell_type": "code",
   "execution_count": 61,
   "id": "c4e067c6",
   "metadata": {
    "execution": {
     "iopub.execute_input": "2025-08-05T21:01:21.646489Z",
     "iopub.status.busy": "2025-08-05T21:01:21.645656Z",
     "iopub.status.idle": "2025-08-05T21:01:21.654815Z",
     "shell.execute_reply": "2025-08-05T21:01:21.653831Z"
    },
    "papermill": {
     "duration": 0.034351,
     "end_time": "2025-08-05T21:01:21.656605",
     "exception": false,
     "start_time": "2025-08-05T21:01:21.622254",
     "status": "completed"
    },
    "tags": []
   },
   "outputs": [
    {
     "data": {
      "text/plain": [
       "accuracy                   0.222706\n",
       "balanced accuracy          0.544897\n",
       "f1                         0.244084\n",
       "precision                  0.139437\n",
       "false positive rate        0.888481\n",
       "false negative rate        0.021724\n",
       "selection rate             0.900000\n",
       "count                  89710.000000\n",
       "dtype: float64"
      ]
     },
     "execution_count": 61,
     "metadata": {},
     "output_type": "execute_result"
    }
   ],
   "source": [
    "metric_frame.overall"
   ]
  },
  {
   "cell_type": "markdown",
   "id": "e968fe9d",
   "metadata": {
    "papermill": {
     "duration": 0.02184,
     "end_time": "2025-08-05T21:01:21.700929",
     "exception": false,
     "start_time": "2025-08-05T21:01:21.679089",
     "status": "completed"
    },
    "tags": []
   },
   "source": [
    "By Group"
   ]
  },
  {
   "cell_type": "code",
   "execution_count": 62,
   "id": "ec325bce",
   "metadata": {
    "execution": {
     "iopub.execute_input": "2025-08-05T21:01:21.747337Z",
     "iopub.status.busy": "2025-08-05T21:01:21.746529Z",
     "iopub.status.idle": "2025-08-05T21:01:21.762374Z",
     "shell.execute_reply": "2025-08-05T21:01:21.761348Z"
    },
    "papermill": {
     "duration": 0.040961,
     "end_time": "2025-08-05T21:01:21.764107",
     "exception": false,
     "start_time": "2025-08-05T21:01:21.723146",
     "status": "completed"
    },
    "tags": []
   },
   "outputs": [
    {
     "data": {
      "text/html": [
       "<div>\n",
       "<style scoped>\n",
       "    .dataframe tbody tr th:only-of-type {\n",
       "        vertical-align: middle;\n",
       "    }\n",
       "\n",
       "    .dataframe tbody tr th {\n",
       "        vertical-align: top;\n",
       "    }\n",
       "\n",
       "    .dataframe thead th {\n",
       "        text-align: right;\n",
       "    }\n",
       "</style>\n",
       "<table border=\"1\" class=\"dataframe\">\n",
       "  <thead>\n",
       "    <tr style=\"text-align: right;\">\n",
       "      <th></th>\n",
       "      <th>accuracy</th>\n",
       "      <th>balanced accuracy</th>\n",
       "      <th>f1</th>\n",
       "      <th>precision</th>\n",
       "      <th>false positive rate</th>\n",
       "      <th>false negative rate</th>\n",
       "      <th>selection rate</th>\n",
       "      <th>count</th>\n",
       "    </tr>\n",
       "    <tr>\n",
       "      <th>majmin</th>\n",
       "      <th></th>\n",
       "      <th></th>\n",
       "      <th></th>\n",
       "      <th></th>\n",
       "      <th></th>\n",
       "      <th></th>\n",
       "      <th></th>\n",
       "      <th></th>\n",
       "    </tr>\n",
       "  </thead>\n",
       "  <tbody>\n",
       "    <tr>\n",
       "      <th>majority</th>\n",
       "      <td>0.217262</td>\n",
       "      <td>0.543894</td>\n",
       "      <td>0.250111</td>\n",
       "      <td>0.143181</td>\n",
       "      <td>0.900067</td>\n",
       "      <td>0.012144</td>\n",
       "      <td>0.911667</td>\n",
       "      <td>69170.0</td>\n",
       "    </tr>\n",
       "    <tr>\n",
       "      <th>minority</th>\n",
       "      <td>0.241042</td>\n",
       "      <td>0.545546</td>\n",
       "      <td>0.222377</td>\n",
       "      <td>0.126082</td>\n",
       "      <td>0.850209</td>\n",
       "      <td>0.058699</td>\n",
       "      <td>0.860711</td>\n",
       "      <td>20540.0</td>\n",
       "    </tr>\n",
       "  </tbody>\n",
       "</table>\n",
       "</div>"
      ],
      "text/plain": [
       "          accuracy  balanced accuracy        f1  precision  \\\n",
       "majmin                                                       \n",
       "majority  0.217262           0.543894  0.250111   0.143181   \n",
       "minority  0.241042           0.545546  0.222377   0.126082   \n",
       "\n",
       "          false positive rate  false negative rate  selection rate    count  \n",
       "majmin                                                                       \n",
       "majority             0.900067             0.012144        0.911667  69170.0  \n",
       "minority             0.850209             0.058699        0.860711  20540.0  "
      ]
     },
     "execution_count": 62,
     "metadata": {},
     "output_type": "execute_result"
    }
   ],
   "source": [
    "metric_frame.by_group"
   ]
  },
  {
   "cell_type": "code",
   "execution_count": 63,
   "id": "a9ddbe63",
   "metadata": {
    "execution": {
     "iopub.execute_input": "2025-08-05T21:01:21.811419Z",
     "iopub.status.busy": "2025-08-05T21:01:21.810720Z",
     "iopub.status.idle": "2025-08-05T21:01:24.191754Z",
     "shell.execute_reply": "2025-08-05T21:01:24.190830Z"
    },
    "papermill": {
     "duration": 2.406496,
     "end_time": "2025-08-05T21:01:24.193400",
     "exception": false,
     "start_time": "2025-08-05T21:01:21.786904",
     "status": "completed"
    },
    "tags": []
   },
   "outputs": [
    {
     "data": {
      "text/plain": [
       "array([[<Axes: title={'center': 'accuracy'}, xlabel='majmin'>,\n",
       "        <Axes: title={'center': 'balanced accuracy'}, xlabel='majmin'>,\n",
       "        <Axes: title={'center': 'f1'}, xlabel='majmin'>],\n",
       "       [<Axes: title={'center': 'precision'}, xlabel='majmin'>,\n",
       "        <Axes: title={'center': 'false positive rate'}, xlabel='majmin'>,\n",
       "        <Axes: title={'center': 'false negative rate'}, xlabel='majmin'>],\n",
       "       [<Axes: title={'center': 'selection rate'}, xlabel='majmin'>,\n",
       "        <Axes: title={'center': 'count'}, xlabel='majmin'>,\n",
       "        <Axes: xlabel='majmin'>]], dtype=object)"
      ]
     },
     "execution_count": 63,
     "metadata": {},
     "output_type": "execute_result"
    },
    {
     "data": {
      "image/png": "[encoded data removed]",
      "text/plain": [
       "<Figure size 1200x800 with 9 Axes>"
      ]
     },
     "metadata": {},
     "output_type": "display_data"
    }
   ],
   "source": [
    "# In a graphic\n",
    "metric_frame.by_group.plot.bar(\n",
    "    subplots=True,\n",
    "    layout=[3, 3],\n",
    "    legend=False,\n",
    "    figsize=[12, 8],\n",
    "    title=\"Show all metrics\",\n",
    ")"
   ]
  },
  {
   "cell_type": "markdown",
   "id": "f57a0bac",
   "metadata": {
    "papermill": {
     "duration": 0.023693,
     "end_time": "2025-08-05T21:01:24.241803",
     "exception": false,
     "start_time": "2025-08-05T21:01:24.218110",
     "status": "completed"
    },
    "tags": []
   },
   "source": [
    "# Final Output"
   ]
  },
  {
   "cell_type": "code",
   "execution_count": 64,
   "id": "96d280a3",
   "metadata": {
    "execution": {
     "iopub.execute_input": "2025-08-05T21:01:24.292481Z",
     "iopub.status.busy": "2025-08-05T21:01:24.291437Z",
     "iopub.status.idle": "2025-08-05T21:01:24.299966Z",
     "shell.execute_reply": "2025-08-05T21:01:24.298864Z"
    },
    "papermill": {
     "duration": 0.036164,
     "end_time": "2025-08-05T21:01:24.301913",
     "exception": false,
     "start_time": "2025-08-05T21:01:24.265749",
     "status": "completed"
    },
    "tags": []
   },
   "outputs": [
    {
     "data": {
      "text/plain": [
       "4"
      ]
     },
     "execution_count": 64,
     "metadata": {},
     "output_type": "execute_result"
    }
   ],
   "source": [
    "sub_universes = universe_analysis.generate_sub_universes()\n",
    "len(sub_universes)"
   ]
  },
  {
   "cell_type": "code",
   "execution_count": 65,
   "id": "92adf7ba",
   "metadata": {
    "execution": {
     "iopub.execute_input": "2025-08-05T21:01:24.353044Z",
     "iopub.status.busy": "2025-08-05T21:01:24.352155Z",
     "iopub.status.idle": "2025-08-05T21:01:24.358326Z",
     "shell.execute_reply": "2025-08-05T21:01:24.357406Z"
    },
    "papermill": {
     "duration": 0.032875,
     "end_time": "2025-08-05T21:01:24.360082",
     "exception": false,
     "start_time": "2025-08-05T21:01:24.327207",
     "status": "completed"
    },
    "tags": []
   },
   "outputs": [],
   "source": [
    "def filter_sub_universe_data(sub_universe, org_test):\n",
    "    # Keep all rows — no filtering\n",
    "    keep_rows_mask = np.ones(org_test.shape[0], dtype=bool)\n",
    "\n",
    "    print(f\"[INFO] Keeping all rows: {keep_rows_mask.sum()} rows retained.\")\n",
    "    return keep_rows_mask"
   ]
  },
  {
   "cell_type": "code",
   "execution_count": 66,
   "id": "4a759155",
   "metadata": {
    "execution": {
     "iopub.execute_input": "2025-08-05T21:01:24.411206Z",
     "iopub.status.busy": "2025-08-05T21:01:24.410338Z",
     "iopub.status.idle": "2025-08-05T21:01:34.257508Z",
     "shell.execute_reply": "2025-08-05T21:01:34.256682Z"
    },
    "papermill": {
     "duration": 9.873844,
     "end_time": "2025-08-05T21:01:34.258827",
     "exception": false,
     "start_time": "2025-08-05T21:01:24.384983",
     "status": "completed"
    },
    "tags": []
   },
   "outputs": [
    {
     "name": "stdout",
     "output_type": "stream",
     "text": [
      "Stopping execution_time clock.\n",
      "[INFO] Keeping all rows: 89710 rows retained.\n"
     ]
    },
    {
     "name": "stdout",
     "output_type": "stream",
     "text": [
      "[INFO] Keeping all rows: 89710 rows retained.\n"
     ]
    },
    {
     "name": "stdout",
     "output_type": "stream",
     "text": [
      "[INFO] Keeping all rows: 89710 rows retained.\n"
     ]
    },
    {
     "name": "stdout",
     "output_type": "stream",
     "text": [
      "[INFO] Keeping all rows: 89710 rows retained.\n"
     ]
    },
    {
     "data": {
      "text/html": [
       "<div>\n",
       "<style scoped>\n",
       "    .dataframe tbody tr th:only-of-type {\n",
       "        vertical-align: middle;\n",
       "    }\n",
       "\n",
       "    .dataframe tbody tr th {\n",
       "        vertical-align: top;\n",
       "    }\n",
       "\n",
       "    .dataframe thead th {\n",
       "        text-align: right;\n",
       "    }\n",
       "</style>\n",
       "<table border=\"1\" class=\"dataframe\">\n",
       "  <thead>\n",
       "    <tr style=\"text-align: right;\">\n",
       "      <th></th>\n",
       "      <th>run_no</th>\n",
       "      <th>universe_id</th>\n",
       "      <th>universe_settings</th>\n",
       "      <th>execution_time</th>\n",
       "      <th>test_size_n</th>\n",
       "      <th>test_size_frac</th>\n",
       "      <th>fair_main_equalized_odds_difference</th>\n",
       "      <th>fair_main_equalized_odds_ratio</th>\n",
       "      <th>fair_main_demographic_parity_difference</th>\n",
       "      <th>fair_main_demographic_parity_ratio</th>\n",
       "      <th>...</th>\n",
       "      <th>perf_grp_precision_0</th>\n",
       "      <th>perf_grp_precision_1</th>\n",
       "      <th>perf_grp_false positive rate_0</th>\n",
       "      <th>perf_grp_false positive rate_1</th>\n",
       "      <th>perf_grp_false negative rate_0</th>\n",
       "      <th>perf_grp_false negative rate_1</th>\n",
       "      <th>perf_grp_selection rate_0</th>\n",
       "      <th>perf_grp_selection rate_1</th>\n",
       "      <th>perf_grp_count_0</th>\n",
       "      <th>perf_grp_count_1</th>\n",
       "    </tr>\n",
       "  </thead>\n",
       "  <tbody>\n",
       "    <tr>\n",
       "      <th>0</th>\n",
       "      <td>16</td>\n",
       "      <td>47d75506b72236ce4fe04272e47da429</td>\n",
       "      <td>{\"cutoff\": \"quantile_0.1\", \"eval_fairness_grou...</td>\n",
       "      <td>45.450324</td>\n",
       "      <td>89710</td>\n",
       "      <td>1.0</td>\n",
       "      <td>0.049858</td>\n",
       "      <td>0.944607</td>\n",
       "      <td>0.050956</td>\n",
       "      <td>0.944107</td>\n",
       "      <td>...</td>\n",
       "      <td>NaN</td>\n",
       "      <td>NaN</td>\n",
       "      <td>NaN</td>\n",
       "      <td>NaN</td>\n",
       "      <td>NaN</td>\n",
       "      <td>NaN</td>\n",
       "      <td>NaN</td>\n",
       "      <td>NaN</td>\n",
       "      <td>NaN</td>\n",
       "      <td>NaN</td>\n",
       "    </tr>\n",
       "    <tr>\n",
       "      <th>0</th>\n",
       "      <td>16</td>\n",
       "      <td>47d75506b72236ce4fe04272e47da429</td>\n",
       "      <td>{\"cutoff\": \"quantile_0.1\", \"eval_fairness_grou...</td>\n",
       "      <td>45.450324</td>\n",
       "      <td>89710</td>\n",
       "      <td>1.0</td>\n",
       "      <td>0.049858</td>\n",
       "      <td>0.944607</td>\n",
       "      <td>0.050956</td>\n",
       "      <td>0.944107</td>\n",
       "      <td>...</td>\n",
       "      <td>0.126082</td>\n",
       "      <td>0.143181</td>\n",
       "      <td>0.850209</td>\n",
       "      <td>0.900067</td>\n",
       "      <td>0.058699</td>\n",
       "      <td>0.012144</td>\n",
       "      <td>0.860711</td>\n",
       "      <td>0.911667</td>\n",
       "      <td>20540.0</td>\n",
       "      <td>69170.0</td>\n",
       "    </tr>\n",
       "    <tr>\n",
       "      <th>0</th>\n",
       "      <td>16</td>\n",
       "      <td>47d75506b72236ce4fe04272e47da429</td>\n",
       "      <td>{\"cutoff\": \"quantile_0.25\", \"eval_fairness_gro...</td>\n",
       "      <td>45.450324</td>\n",
       "      <td>89710</td>\n",
       "      <td>1.0</td>\n",
       "      <td>0.090516</td>\n",
       "      <td>0.904709</td>\n",
       "      <td>0.057010</td>\n",
       "      <td>0.925482</td>\n",
       "      <td>...</td>\n",
       "      <td>NaN</td>\n",
       "      <td>NaN</td>\n",
       "      <td>NaN</td>\n",
       "      <td>NaN</td>\n",
       "      <td>NaN</td>\n",
       "      <td>NaN</td>\n",
       "      <td>NaN</td>\n",
       "      <td>NaN</td>\n",
       "      <td>NaN</td>\n",
       "      <td>NaN</td>\n",
       "    </tr>\n",
       "    <tr>\n",
       "      <th>0</th>\n",
       "      <td>16</td>\n",
       "      <td>47d75506b72236ce4fe04272e47da429</td>\n",
       "      <td>{\"cutoff\": \"quantile_0.25\", \"eval_fairness_gro...</td>\n",
       "      <td>45.450324</td>\n",
       "      <td>89710</td>\n",
       "      <td>1.0</td>\n",
       "      <td>0.090516</td>\n",
       "      <td>0.904709</td>\n",
       "      <td>0.057010</td>\n",
       "      <td>0.925482</td>\n",
       "      <td>...</td>\n",
       "      <td>0.139930</td>\n",
       "      <td>0.164065</td>\n",
       "      <td>0.688312</td>\n",
       "      <td>0.736898</td>\n",
       "      <td>0.140625</td>\n",
       "      <td>0.050109</td>\n",
       "      <td>0.708033</td>\n",
       "      <td>0.765043</td>\n",
       "      <td>20540.0</td>\n",
       "      <td>69170.0</td>\n",
       "    </tr>\n",
       "  </tbody>\n",
       "</table>\n",
       "<p>4 rows × 50 columns</p>\n",
       "</div>"
      ],
      "text/plain": [
       "  run_no                       universe_id  \\\n",
       "0     16  47d75506b72236ce4fe04272e47da429   \n",
       "0     16  47d75506b72236ce4fe04272e47da429   \n",
       "0     16  47d75506b72236ce4fe04272e47da429   \n",
       "0     16  47d75506b72236ce4fe04272e47da429   \n",
       "\n",
       "                                   universe_settings  execution_time  \\\n",
       "0  {\"cutoff\": \"quantile_0.1\", \"eval_fairness_grou...       45.450324   \n",
       "0  {\"cutoff\": \"quantile_0.1\", \"eval_fairness_grou...       45.450324   \n",
       "0  {\"cutoff\": \"quantile_0.25\", \"eval_fairness_gro...       45.450324   \n",
       "0  {\"cutoff\": \"quantile_0.25\", \"eval_fairness_gro...       45.450324   \n",
       "\n",
       "   test_size_n  test_size_frac  fair_main_equalized_odds_difference  \\\n",
       "0        89710             1.0                             0.049858   \n",
       "0        89710             1.0                             0.049858   \n",
       "0        89710             1.0                             0.090516   \n",
       "0        89710             1.0                             0.090516   \n",
       "\n",
       "   fair_main_equalized_odds_ratio  fair_main_demographic_parity_difference  \\\n",
       "0                        0.944607                                 0.050956   \n",
       "0                        0.944607                                 0.050956   \n",
       "0                        0.904709                                 0.057010   \n",
       "0                        0.904709                                 0.057010   \n",
       "\n",
       "   fair_main_demographic_parity_ratio  ...  perf_grp_precision_0  \\\n",
       "0                            0.944107  ...                   NaN   \n",
       "0                            0.944107  ...              0.126082   \n",
       "0                            0.925482  ...                   NaN   \n",
       "0                            0.925482  ...              0.139930   \n",
       "\n",
       "   perf_grp_precision_1  perf_grp_false positive rate_0  \\\n",
       "0                   NaN                             NaN   \n",
       "0              0.143181                        0.850209   \n",
       "0                   NaN                             NaN   \n",
       "0              0.164065                        0.688312   \n",
       "\n",
       "   perf_grp_false positive rate_1  perf_grp_false negative rate_0  \\\n",
       "0                             NaN                             NaN   \n",
       "0                        0.900067                        0.058699   \n",
       "0                             NaN                             NaN   \n",
       "0                        0.736898                        0.140625   \n",
       "\n",
       "   perf_grp_false negative rate_1  perf_grp_selection rate_0  \\\n",
       "0                             NaN                        NaN   \n",
       "0                        0.012144                   0.860711   \n",
       "0                             NaN                        NaN   \n",
       "0                        0.050109                   0.708033   \n",
       "\n",
       "   perf_grp_selection rate_1  perf_grp_count_0  perf_grp_count_1  \n",
       "0                        NaN               NaN               NaN  \n",
       "0                   0.911667           20540.0           69170.0  \n",
       "0                        NaN               NaN               NaN  \n",
       "0                   0.765043           20540.0           69170.0  \n",
       "\n",
       "[4 rows x 50 columns]"
      ]
     },
     "execution_count": 66,
     "metadata": {},
     "output_type": "execute_result"
    }
   ],
   "source": [
    "final_output = universe_analysis.generate_final_output(\n",
    "    y_pred_prob=probs_test,\n",
    "    y_test=y_true,\n",
    "    org_test=org_test,\n",
    "    filter_data=filter_sub_universe_data,\n",
    "    cp_metrics_df=cp_metrics_df,\n",
    "    save=True,\n",
    ")\n",
    "final_output"
   ]
  }
 ],
 "metadata": {
  "celltoolbar": "Tags",
  "kernelspec": {
   "display_name": "Python (CMA Fairness)",
   "language": "python",
   "name": "cma_fair_env"
  },
  "language_info": {
   "codemirror_mode": {
    "name": "ipython",
    "version": 3
   },
   "file_extension": ".py",
   "mimetype": "text/x-python",
   "name": "python",
   "nbconvert_exporter": "python",
   "pygments_lexer": "ipython3",
   "version": "3.10.12"
  },
  "papermill": {
   "default_parameters": {},
   "duration": 59.340898,
   "end_time": "2025-08-05T21:01:34.892312",
   "environment_variables": {},
   "exception": null,
   "input_path": "universe_analysis.ipynb",
   "output_path": "output/runs/16/notebooks/m_16-47d75506b72236ce4fe04272e47da429.ipynb",
   "parameters": {
    "output_dir": "output",
    "run_no": "16",
    "seed": "2023",
    "universe": "{\"cutoff\": [\"quantile_0.1\", \"quantile_0.25\"], \"eval_fairness_grouping\": [\"majority-minority\", \"nationality-all\"], \"exclude_features\": \"age\", \"exclude_subgroups\": \"keep-all\", \"model\": \"rf\", \"scale\": \"do-not-scale\", \"training_size\": \"25k\", \"training_year\": \"2012_14\"}",
    "universe_id": "47d75506b72236ce4fe04272e47da429"
   },
   "start_time": "2025-08-05T21:00:35.551414",
   "version": "2.6.0"
  }
 },
 "nbformat": 4,
 "nbformat_minor": 5
}