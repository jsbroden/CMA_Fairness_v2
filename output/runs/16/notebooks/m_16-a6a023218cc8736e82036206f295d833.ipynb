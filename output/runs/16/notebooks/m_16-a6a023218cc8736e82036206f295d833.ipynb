{
 "cells": [
  {
   "cell_type": "code",
   "execution_count": 1,
   "id": "f159f837-637b-42ba-96b5-ec9a68c44524",
   "metadata": {
    "execution": {
     "iopub.execute_input": "2025-08-05T20:58:27.146468Z",
     "iopub.status.busy": "2025-08-05T20:58:27.145879Z",
     "iopub.status.idle": "2025-08-05T20:58:27.159654Z",
     "shell.execute_reply": "2025-08-05T20:58:27.158726Z"
    },
    "papermill": {
     "duration": 0.033464,
     "end_time": "2025-08-05T20:58:27.161365",
     "exception": false,
     "start_time": "2025-08-05T20:58:27.127901",
     "status": "completed"
    },
    "tags": []
   },
   "outputs": [
    {
     "name": "stdout",
     "output_type": "stream",
     "text": [
      "/dss/dsshome1/0C/ra93lal2/cma/CMA_Fairness_v2\n"
     ]
    },
    {
     "name": "stderr",
     "output_type": "stream",
     "text": [
      "/dss/dsshome1/0C/ra93lal2/.local/share/virtualenvs/CMA_Fairness_v2-3j10GkSs/lib/python3.10/site-packages/IPython/core/magics/osm.py:393: UserWarning: This is now an optional IPython functionality, using bookmarks requires you to install the `pickleshare` library.\n",
      "  bkms = self.shell.db.get('bookmarks', {})\n",
      "/dss/dsshome1/0C/ra93lal2/.local/share/virtualenvs/CMA_Fairness_v2-3j10GkSs/lib/python3.10/site-packages/IPython/core/magics/osm.py:417: UserWarning: This is now an optional IPython functionality, setting dhist requires you to install the `pickleshare` library.\n",
      "  self.shell.db['dhist'] = compress_dhist(dhist)[-100:]\n"
     ]
    }
   ],
   "source": [
    "%cd ~/cma/CMA_Fairness_v2"
   ]
  },
  {
   "cell_type": "markdown",
   "id": "de2603b9",
   "metadata": {
    "papermill": {
     "duration": 0.016149,
     "end_time": "2025-08-05T20:58:27.194812",
     "exception": false,
     "start_time": "2025-08-05T20:58:27.178663",
     "status": "completed"
    },
    "tags": []
   },
   "source": [
    "The following cell holds the definition of our parameters, these values can be overriden by rendering the with e.g. the following command:\n",
    "\n",
    "papermill -p alpha 0.2 -p ratio 0.3 universe_analysis.ipynb output/test_run.ipynb"
   ]
  },
  {
   "cell_type": "code",
   "execution_count": 2,
   "id": "a80968a0-40bb-4fa9-85ef-2d5eefb01975",
   "metadata": {
    "execution": {
     "iopub.execute_input": "2025-08-05T20:58:27.228399Z",
     "iopub.status.busy": "2025-08-05T20:58:27.227484Z",
     "iopub.status.idle": "2025-08-05T20:58:27.233288Z",
     "shell.execute_reply": "2025-08-05T20:58:27.232196Z"
    },
    "papermill": {
     "duration": 0.024586,
     "end_time": "2025-08-05T20:58:27.235160",
     "exception": false,
     "start_time": "2025-08-05T20:58:27.210574",
     "status": "completed"
    },
    "tags": []
   },
   "outputs": [
    {
     "name": "stdout",
     "output_type": "stream",
     "text": [
      "Current working directory: /dss/dsshome1/0C/ra93lal2/cma/CMA_Fairness_v2\n"
     ]
    }
   ],
   "source": [
    "import os\n",
    "print(\"Current working directory:\", os.getcwd())"
   ]
  },
  {
   "cell_type": "code",
   "execution_count": 3,
   "id": "2dce4c03",
   "metadata": {
    "execution": {
     "iopub.execute_input": "2025-08-05T20:58:27.274575Z",
     "iopub.status.busy": "2025-08-05T20:58:27.273690Z",
     "iopub.status.idle": "2025-08-05T20:58:27.280392Z",
     "shell.execute_reply": "2025-08-05T20:58:27.279409Z"
    },
    "papermill": {
     "duration": 0.027433,
     "end_time": "2025-08-05T20:58:27.282396",
     "exception": false,
     "start_time": "2025-08-05T20:58:27.254963",
     "status": "completed"
    },
    "tags": [
     "parameters"
    ]
   },
   "outputs": [],
   "source": [
    "run_no = 0\n",
    "universe_id = \"test\"\n",
    "universe = {\n",
    "    \"training_size\": \"25k\", # \"25k\", \"5k\", \"1k\"\n",
    "    \"training_year\": \"2014\", # \"2014\", \"2012_14\", \"2010_14\"\n",
    "    \"scale\": \"scale\", # \"scale\", \"do-not-scale\",\n",
    "    \"model\": \"elasticnet\", # \"logreg\", \"penalized_logreg\", \"rf\", \"gbm\", \"elasticnet\"\n",
    "    \"cutoff\": [\"quantile_0.15\", \"quantile_0.30\"],\n",
    "    \"exclude_features\": \"age\", # \"none\", \"nationality\", \"sex\", \"nationality-sex\", \"age\"\n",
    "    \"exclude_subgroups\": \"keep-all\", # \"keep-all\", \"drop-non-german\"\n",
    "    \"eval_fairness_grouping\": [\"majority-minority\", \"nationality-all\"]\n",
    "}\n",
    "\n",
    "output_dir=\"./output\"\n",
    "seed=0"
   ]
  },
  {
   "cell_type": "code",
   "execution_count": 4,
   "id": "bb007579",
   "metadata": {
    "execution": {
     "iopub.execute_input": "2025-08-05T20:58:27.323954Z",
     "iopub.status.busy": "2025-08-05T20:58:27.323099Z",
     "iopub.status.idle": "2025-08-05T20:58:27.328620Z",
     "shell.execute_reply": "2025-08-05T20:58:27.327633Z"
    },
    "papermill": {
     "duration": 0.027541,
     "end_time": "2025-08-05T20:58:27.330580",
     "exception": false,
     "start_time": "2025-08-05T20:58:27.303039",
     "status": "completed"
    },
    "tags": [
     "injected-parameters"
    ]
   },
   "outputs": [],
   "source": [
    "# Parameters\n",
    "universe_id = \"a6a023218cc8736e82036206f295d833\"\n",
    "run_no = \"16\"\n",
    "universe = \"{\\\"cutoff\\\": [\\\"quantile_0.1\\\", \\\"quantile_0.25\\\"], \\\"eval_fairness_grouping\\\": [\\\"majority-minority\\\", \\\"nationality-all\\\"], \\\"exclude_features\\\": \\\"sex\\\", \\\"exclude_subgroups\\\": \\\"drop-non-german\\\", \\\"model\\\": \\\"penalized_logreg\\\", \\\"scale\\\": \\\"do-not-scale\\\", \\\"training_size\\\": \\\"25k\\\", \\\"training_year\\\": \\\"2012_14\\\"}\"\n",
    "output_dir = \"output\"\n",
    "seed = \"2023\"\n"
   ]
  },
  {
   "cell_type": "code",
   "execution_count": 5,
   "id": "1650acaf",
   "metadata": {
    "execution": {
     "iopub.execute_input": "2025-08-05T20:58:27.371635Z",
     "iopub.status.busy": "2025-08-05T20:58:27.370661Z",
     "iopub.status.idle": "2025-08-05T20:58:27.376860Z",
     "shell.execute_reply": "2025-08-05T20:58:27.375658Z"
    },
    "papermill": {
     "duration": 0.028992,
     "end_time": "2025-08-05T20:58:27.378843",
     "exception": false,
     "start_time": "2025-08-05T20:58:27.349851",
     "status": "completed"
    },
    "tags": []
   },
   "outputs": [],
   "source": [
    "import json\n",
    "if isinstance(universe, str):\n",
    "    universe = json.loads(universe)"
   ]
  },
  {
   "cell_type": "code",
   "execution_count": 6,
   "id": "16620c48",
   "metadata": {
    "execution": {
     "iopub.execute_input": "2025-08-05T20:58:27.419642Z",
     "iopub.status.busy": "2025-08-05T20:58:27.418653Z",
     "iopub.status.idle": "2025-08-05T20:58:27.468559Z",
     "shell.execute_reply": "2025-08-05T20:58:27.467460Z"
    },
    "papermill": {
     "duration": 0.072008,
     "end_time": "2025-08-05T20:58:27.470699",
     "exception": false,
     "start_time": "2025-08-05T20:58:27.398691",
     "status": "completed"
    },
    "tags": []
   },
   "outputs": [],
   "source": [
    "# Auto-reload the custom package\n",
    "%load_ext autoreload\n",
    "%autoreload 1\n",
    "%aimport fairness_multiverse"
   ]
  },
  {
   "cell_type": "code",
   "execution_count": 7,
   "id": "01c5c9f3",
   "metadata": {
    "execution": {
     "iopub.execute_input": "2025-08-05T20:58:27.512566Z",
     "iopub.status.busy": "2025-08-05T20:58:27.511671Z",
     "iopub.status.idle": "2025-08-05T20:58:29.863470Z",
     "shell.execute_reply": "2025-08-05T20:58:29.862363Z"
    },
    "papermill": {
     "duration": 2.374981,
     "end_time": "2025-08-05T20:58:29.865743",
     "exception": false,
     "start_time": "2025-08-05T20:58:27.490762",
     "status": "completed"
    },
    "tags": []
   },
   "outputs": [],
   "source": [
    "from fairness_multiverse.universe import UniverseAnalysis\n",
    "\n",
    "universe_analysis = UniverseAnalysis(\n",
    "    run_no = run_no,\n",
    "    universe_id = universe_id,\n",
    "    universe = universe,\n",
    "    output_dir=output_dir,\n",
    ")"
   ]
  },
  {
   "cell_type": "code",
   "execution_count": 8,
   "id": "106241f5",
   "metadata": {
    "execution": {
     "iopub.execute_input": "2025-08-05T20:58:29.918026Z",
     "iopub.status.busy": "2025-08-05T20:58:29.917007Z",
     "iopub.status.idle": "2025-08-05T20:58:29.924805Z",
     "shell.execute_reply": "2025-08-05T20:58:29.923517Z"
    },
    "papermill": {
     "duration": 0.02075,
     "end_time": "2025-08-05T20:58:29.926898",
     "exception": false,
     "start_time": "2025-08-05T20:58:29.906148",
     "status": "completed"
    },
    "tags": []
   },
   "outputs": [
    {
     "name": "stdout",
     "output_type": "stream",
     "text": [
      "Using Seed: 2023\n"
     ]
    }
   ],
   "source": [
    "import numpy as np\n",
    "parsed_seed = int(seed)\n",
    "np.random.seed(parsed_seed)\n",
    "print(f\"Using Seed: {parsed_seed}\")"
   ]
  },
  {
   "cell_type": "markdown",
   "id": "e0ebdc57",
   "metadata": {
    "papermill": {
     "duration": 0.019634,
     "end_time": "2025-08-05T20:58:29.964150",
     "exception": false,
     "start_time": "2025-08-05T20:58:29.944516",
     "status": "completed"
    },
    "tags": []
   },
   "source": [
    "# Loading Data"
   ]
  },
  {
   "cell_type": "code",
   "execution_count": 9,
   "id": "f0496b8a",
   "metadata": {
    "execution": {
     "iopub.execute_input": "2025-08-05T20:58:30.006503Z",
     "iopub.status.busy": "2025-08-05T20:58:30.005340Z",
     "iopub.status.idle": "2025-08-05T20:58:41.565097Z",
     "shell.execute_reply": "2025-08-05T20:58:41.563661Z"
    },
    "papermill": {
     "duration": 11.58259,
     "end_time": "2025-08-05T20:58:41.566794",
     "exception": false,
     "start_time": "2025-08-05T20:58:29.984204",
     "status": "completed"
    },
    "tags": []
   },
   "outputs": [
    {
     "name": "stdout",
     "output_type": "stream",
     "text": [
      "Loading SIAB data from cache: data/siab_cached.csv.gz\n"
     ]
    },
    {
     "name": "stdout",
     "output_type": "stream",
     "text": [
      "(643690, 164)\n"
     ]
    }
   ],
   "source": [
    "from pathlib import Path\n",
    "import pandas as pd\n",
    "\n",
    "# File paths\n",
    "raw_file = Path(\"data/raw/siab.csv\")\n",
    "cache_file = Path(\"data/siab_cached.csv.gz\")\n",
    "\n",
    "# Ensure cache directory exists\n",
    "cache_file.parent.mkdir(parents=True, exist_ok=True)\n",
    "\n",
    "# Load with simple caching\n",
    "if cache_file.exists():\n",
    "    print(f\"Loading SIAB data from cache: {cache_file}\")\n",
    "    siab = pd.read_csv(cache_file, compression='gzip')\n",
    "else:\n",
    "    print(f\"Cache not found. Reading raw SIAB data: {raw_file}\")\n",
    "    siab = pd.read_csv(raw_file)\n",
    "    siab.to_csv(cache_file, index=False, compression='gzip')\n",
    "    print(f\"Cached SIAB data to: {cache_file}\")\n",
    "\n",
    "print(siab.shape)"
   ]
  },
  {
   "cell_type": "code",
   "execution_count": 10,
   "id": "db0ca512-5f53-4dba-abdb-a2888bca41ba",
   "metadata": {
    "execution": {
     "iopub.execute_input": "2025-08-05T20:58:41.606379Z",
     "iopub.status.busy": "2025-08-05T20:58:41.605962Z",
     "iopub.status.idle": "2025-08-05T20:58:41.611008Z",
     "shell.execute_reply": "2025-08-05T20:58:41.610039Z"
    },
    "papermill": {
     "duration": 0.025956,
     "end_time": "2025-08-05T20:58:41.612953",
     "exception": false,
     "start_time": "2025-08-05T20:58:41.586997",
     "status": "completed"
    },
    "tags": []
   },
   "outputs": [],
   "source": [
    "#siab"
   ]
  },
  {
   "cell_type": "markdown",
   "id": "997051c5-15bd-4b69-9786-c3001a3ce484",
   "metadata": {
    "papermill": {
     "duration": 0.016239,
     "end_time": "2025-08-05T20:58:41.647044",
     "exception": false,
     "start_time": "2025-08-05T20:58:41.630805",
     "status": "completed"
    },
    "tags": []
   },
   "source": [
    "# Splitting Data and Setting Training Data Size"
   ]
  },
  {
   "cell_type": "code",
   "execution_count": 11,
   "id": "aea9c6ef-6f46-42c8-85eb-5a62025c1508",
   "metadata": {
    "execution": {
     "iopub.execute_input": "2025-08-05T20:58:41.682952Z",
     "iopub.status.busy": "2025-08-05T20:58:41.682638Z",
     "iopub.status.idle": "2025-08-05T20:58:42.345376Z",
     "shell.execute_reply": "2025-08-05T20:58:42.344313Z"
    },
    "papermill": {
     "duration": 0.683628,
     "end_time": "2025-08-05T20:58:42.347520",
     "exception": false,
     "start_time": "2025-08-05T20:58:41.663892",
     "status": "completed"
    },
    "tags": []
   },
   "outputs": [],
   "source": [
    "from fairness_multiverse.universe import sample_by_year_size\n",
    "\n",
    "siab_train = sample_by_year_size(siab,\n",
    "                               training_year=universe[\"training_year\"],\n",
    "                               training_size=universe[\"training_size\"])"
   ]
  },
  {
   "cell_type": "code",
   "execution_count": 12,
   "id": "8d3afb32-789d-442c-8d5d-9f5aa8dd2eed",
   "metadata": {
    "execution": {
     "iopub.execute_input": "2025-08-05T20:58:42.386807Z",
     "iopub.status.busy": "2025-08-05T20:58:42.386506Z",
     "iopub.status.idle": "2025-08-05T20:58:42.390955Z",
     "shell.execute_reply": "2025-08-05T20:58:42.390030Z"
    },
    "papermill": {
     "duration": 0.025533,
     "end_time": "2025-08-05T20:58:42.392830",
     "exception": false,
     "start_time": "2025-08-05T20:58:42.367297",
     "status": "completed"
    },
    "tags": []
   },
   "outputs": [],
   "source": [
    "#siab_train.shape"
   ]
  },
  {
   "cell_type": "code",
   "execution_count": 13,
   "id": "d582db68-1a4c-47fb-84fc-08518dc1975a",
   "metadata": {
    "execution": {
     "iopub.execute_input": "2025-08-05T20:58:42.432004Z",
     "iopub.status.busy": "2025-08-05T20:58:42.431712Z",
     "iopub.status.idle": "2025-08-05T20:58:42.436035Z",
     "shell.execute_reply": "2025-08-05T20:58:42.435072Z"
    },
    "papermill": {
     "duration": 0.025519,
     "end_time": "2025-08-05T20:58:42.437702",
     "exception": false,
     "start_time": "2025-08-05T20:58:42.412183",
     "status": "completed"
    },
    "tags": []
   },
   "outputs": [],
   "source": [
    "#display(siab_train.groupby(\"year\").size())"
   ]
  },
  {
   "cell_type": "code",
   "execution_count": 14,
   "id": "a561edb4-d032-42cb-8256-22eac1111c64",
   "metadata": {
    "execution": {
     "iopub.execute_input": "2025-08-05T20:58:42.476859Z",
     "iopub.status.busy": "2025-08-05T20:58:42.476568Z",
     "iopub.status.idle": "2025-08-05T20:58:42.728923Z",
     "shell.execute_reply": "2025-08-05T20:58:42.727866Z"
    },
    "papermill": {
     "duration": 0.273838,
     "end_time": "2025-08-05T20:58:42.730975",
     "exception": false,
     "start_time": "2025-08-05T20:58:42.457137",
     "status": "completed"
    },
    "tags": []
   },
   "outputs": [],
   "source": [
    "#siab_train = siab_s[siab_s.year < 2015]\n",
    "siab_calib = siab[siab.year == 2015]\n",
    "siab_test = siab[siab.year == 2016]"
   ]
  },
  {
   "cell_type": "code",
   "execution_count": 15,
   "id": "472de16f-c3db-4916-846b-1f0de9cf1746",
   "metadata": {
    "execution": {
     "iopub.execute_input": "2025-08-05T20:58:42.771327Z",
     "iopub.status.busy": "2025-08-05T20:58:42.770549Z",
     "iopub.status.idle": "2025-08-05T20:58:42.785038Z",
     "shell.execute_reply": "2025-08-05T20:58:42.783973Z"
    },
    "papermill": {
     "duration": 0.036681,
     "end_time": "2025-08-05T20:58:42.787243",
     "exception": false,
     "start_time": "2025-08-05T20:58:42.750562",
     "status": "completed"
    },
    "tags": []
   },
   "outputs": [],
   "source": [
    "X_train = siab_train.iloc[:,4:164]\n",
    "y_train = siab_train.iloc[:, [3]]"
   ]
  },
  {
   "cell_type": "code",
   "execution_count": 16,
   "id": "828c96af-f43a-4ed6-ba47-8ac73a47d56c",
   "metadata": {
    "execution": {
     "iopub.execute_input": "2025-08-05T20:58:42.830679Z",
     "iopub.status.busy": "2025-08-05T20:58:42.830108Z",
     "iopub.status.idle": "2025-08-05T20:58:42.884072Z",
     "shell.execute_reply": "2025-08-05T20:58:42.883089Z"
    },
    "papermill": {
     "duration": 0.078701,
     "end_time": "2025-08-05T20:58:42.886027",
     "exception": false,
     "start_time": "2025-08-05T20:58:42.807326",
     "status": "completed"
    },
    "tags": []
   },
   "outputs": [],
   "source": [
    "X_calib = siab_calib.iloc[:,4:164]\n",
    "y_calib = siab_calib.iloc[:, [3]]"
   ]
  },
  {
   "cell_type": "code",
   "execution_count": 17,
   "id": "c34be9c3-6bd6-476e-acd3-845840e303be",
   "metadata": {
    "execution": {
     "iopub.execute_input": "2025-08-05T20:58:42.923234Z",
     "iopub.status.busy": "2025-08-05T20:58:42.922652Z",
     "iopub.status.idle": "2025-08-05T20:58:42.976781Z",
     "shell.execute_reply": "2025-08-05T20:58:42.975266Z"
    },
    "papermill": {
     "duration": 0.074126,
     "end_time": "2025-08-05T20:58:42.978932",
     "exception": false,
     "start_time": "2025-08-05T20:58:42.904806",
     "status": "completed"
    },
    "tags": []
   },
   "outputs": [],
   "source": [
    "X_test = siab_test.iloc[:,4:164]\n",
    "y_true = siab_test.iloc[:, [3]]"
   ]
  },
  {
   "cell_type": "code",
   "execution_count": 18,
   "id": "e6c733c5",
   "metadata": {
    "execution": {
     "iopub.execute_input": "2025-08-05T20:58:43.016885Z",
     "iopub.status.busy": "2025-08-05T20:58:43.016284Z",
     "iopub.status.idle": "2025-08-05T20:58:43.126035Z",
     "shell.execute_reply": "2025-08-05T20:58:43.124976Z"
    },
    "papermill": {
     "duration": 0.130168,
     "end_time": "2025-08-05T20:58:43.128252",
     "exception": false,
     "start_time": "2025-08-05T20:58:42.998084",
     "status": "completed"
    },
    "tags": []
   },
   "outputs": [],
   "source": [
    "# Auxiliary data needed downstream in the pipeline\n",
    "\n",
    "org_train = X_train.copy()\n",
    "org_test = X_test.copy()\n",
    "org_calib = X_calib.copy()"
   ]
  },
  {
   "cell_type": "markdown",
   "id": "0a4a1b33",
   "metadata": {
    "papermill": {
     "duration": 0.020093,
     "end_time": "2025-08-05T20:58:43.168983",
     "exception": false,
     "start_time": "2025-08-05T20:58:43.148890",
     "status": "completed"
    },
    "tags": []
   },
   "source": [
    "# Preprocessing Data"
   ]
  },
  {
   "cell_type": "code",
   "execution_count": 19,
   "id": "ca879031",
   "metadata": {
    "execution": {
     "iopub.execute_input": "2025-08-05T20:58:43.210952Z",
     "iopub.status.busy": "2025-08-05T20:58:43.210007Z",
     "iopub.status.idle": "2025-08-05T20:58:43.216462Z",
     "shell.execute_reply": "2025-08-05T20:58:43.215404Z"
    },
    "papermill": {
     "duration": 0.029448,
     "end_time": "2025-08-05T20:58:43.218497",
     "exception": false,
     "start_time": "2025-08-05T20:58:43.189049",
     "status": "completed"
    },
    "tags": []
   },
   "outputs": [],
   "source": [
    "# EXCLUDE PROTECTED FEATURES\n",
    "# ----------------------\n",
    "# \"exclude_features\": \"none\", # \"nationality\", \"sex\", \"nationality-sex\"\n",
    "\n",
    "excluded_features = universe[\"exclude_features\"].split(\"-\") # split, e.g.: \"nationality-sex\" -> [\"nationality\", \"sex\"]\n",
    "excluded_features_dictionary = {\n",
    "    \"nationality\": [\"maxdeutsch1\", \"maxdeutsch.Missing.\"],\n",
    "    \"sex\": [\"frau1\"],\n",
    "    \"age\": [\"age\"],\n",
    "}"
   ]
  },
  {
   "cell_type": "code",
   "execution_count": 20,
   "id": "b745ac60",
   "metadata": {
    "execution": {
     "iopub.execute_input": "2025-08-05T20:58:43.257749Z",
     "iopub.status.busy": "2025-08-05T20:58:43.257089Z",
     "iopub.status.idle": "2025-08-05T20:58:43.262519Z",
     "shell.execute_reply": "2025-08-05T20:58:43.261487Z"
    },
    "papermill": {
     "duration": 0.025856,
     "end_time": "2025-08-05T20:58:43.264270",
     "exception": false,
     "start_time": "2025-08-05T20:58:43.238414",
     "status": "completed"
    },
    "tags": []
   },
   "outputs": [],
   "source": [
    "# Code nice names to column names\n",
    "\n",
    "excluded_features_columns = [\n",
    "    excluded_features_dictionary[f] for f in excluded_features if len(f) > 0 and f != \"none\"\n",
    "]"
   ]
  },
  {
   "cell_type": "code",
   "execution_count": 21,
   "id": "f84f73a2",
   "metadata": {
    "execution": {
     "iopub.execute_input": "2025-08-05T20:58:43.297150Z",
     "iopub.status.busy": "2025-08-05T20:58:43.296751Z",
     "iopub.status.idle": "2025-08-05T20:58:43.302597Z",
     "shell.execute_reply": "2025-08-05T20:58:43.301553Z"
    },
    "papermill": {
     "duration": 0.024001,
     "end_time": "2025-08-05T20:58:43.304391",
     "exception": false,
     "start_time": "2025-08-05T20:58:43.280390",
     "status": "completed"
    },
    "tags": []
   },
   "outputs": [],
   "source": [
    "from utils import flatten_once\n",
    "\n",
    "excluded_features_columns = flatten_once(excluded_features_columns)"
   ]
  },
  {
   "cell_type": "code",
   "execution_count": 22,
   "id": "884dea22",
   "metadata": {
    "execution": {
     "iopub.execute_input": "2025-08-05T20:58:43.343110Z",
     "iopub.status.busy": "2025-08-05T20:58:43.342717Z",
     "iopub.status.idle": "2025-08-05T20:58:43.356943Z",
     "shell.execute_reply": "2025-08-05T20:58:43.356159Z"
    },
    "papermill": {
     "duration": 0.047788,
     "end_time": "2025-08-05T20:58:43.371669",
     "exception": false,
     "start_time": "2025-08-05T20:58:43.323881",
     "status": "completed"
    },
    "tags": []
   },
   "outputs": [
    {
     "name": "stdout",
     "output_type": "stream",
     "text": [
      "Dropping features: ['frau1']\n"
     ]
    }
   ],
   "source": [
    "if len(excluded_features_columns) > 0:\n",
    "    print(f\"Dropping features: {excluded_features_columns}\")\n",
    "    X_train.drop(excluded_features_columns, axis=1, inplace=True)"
   ]
  },
  {
   "cell_type": "code",
   "execution_count": 23,
   "id": "95ab8b16",
   "metadata": {
    "execution": {
     "iopub.execute_input": "2025-08-05T20:58:43.411556Z",
     "iopub.status.busy": "2025-08-05T20:58:43.411267Z",
     "iopub.status.idle": "2025-08-05T20:58:43.462060Z",
     "shell.execute_reply": "2025-08-05T20:58:43.460975Z"
    },
    "papermill": {
     "duration": 0.072023,
     "end_time": "2025-08-05T20:58:43.463914",
     "exception": false,
     "start_time": "2025-08-05T20:58:43.391891",
     "status": "completed"
    },
    "tags": []
   },
   "outputs": [
    {
     "name": "stdout",
     "output_type": "stream",
     "text": [
      "Dropping features: ['frau1']\n"
     ]
    }
   ],
   "source": [
    "if len(excluded_features_columns) > 0:\n",
    "    print(f\"Dropping features: {excluded_features_columns}\")\n",
    "    X_test.drop(excluded_features_columns, axis=1, inplace=True)"
   ]
  },
  {
   "cell_type": "code",
   "execution_count": 24,
   "id": "1853aaf5-fb9f-46cb-a2b5-8ea4ae2237e4",
   "metadata": {
    "execution": {
     "iopub.execute_input": "2025-08-05T20:58:43.499639Z",
     "iopub.status.busy": "2025-08-05T20:58:43.499183Z",
     "iopub.status.idle": "2025-08-05T20:58:43.548193Z",
     "shell.execute_reply": "2025-08-05T20:58:43.547416Z"
    },
    "papermill": {
     "duration": 0.064505,
     "end_time": "2025-08-05T20:58:43.549384",
     "exception": false,
     "start_time": "2025-08-05T20:58:43.484879",
     "status": "completed"
    },
    "tags": []
   },
   "outputs": [
    {
     "name": "stdout",
     "output_type": "stream",
     "text": [
      "Dropping features: ['frau1']\n"
     ]
    }
   ],
   "source": [
    "if len(excluded_features_columns) > 0:\n",
    "    print(f\"Dropping features: {excluded_features_columns}\")\n",
    "    X_calib.drop(excluded_features_columns, axis=1, inplace=True)"
   ]
  },
  {
   "cell_type": "code",
   "execution_count": 25,
   "id": "76c4dc6d",
   "metadata": {
    "execution": {
     "iopub.execute_input": "2025-08-05T20:58:43.571399Z",
     "iopub.status.busy": "2025-08-05T20:58:43.570678Z",
     "iopub.status.idle": "2025-08-05T20:58:43.591899Z",
     "shell.execute_reply": "2025-08-05T20:58:43.591153Z"
    },
    "papermill": {
     "duration": 0.034256,
     "end_time": "2025-08-05T20:58:43.593652",
     "exception": false,
     "start_time": "2025-08-05T20:58:43.559396",
     "status": "completed"
    },
    "tags": []
   },
   "outputs": [],
   "source": [
    "# EXCLUDE CERTAIN SUBGROUPS\n",
    "# ----------------------\n",
    "\n",
    "mode = universe.get(\"exclude_subgroups\", \"keep-all\") \n",
    "# Fetches the exclude_subgroups setting from the universe dict.\n",
    "# Defaults to \"keep-all\" if the key is missing."
   ]
  },
  {
   "cell_type": "code",
   "execution_count": 26,
   "id": "21994072",
   "metadata": {
    "execution": {
     "iopub.execute_input": "2025-08-05T20:58:43.617591Z",
     "iopub.status.busy": "2025-08-05T20:58:43.616790Z",
     "iopub.status.idle": "2025-08-05T20:58:43.624409Z",
     "shell.execute_reply": "2025-08-05T20:58:43.623356Z"
    },
    "papermill": {
     "duration": 0.023444,
     "end_time": "2025-08-05T20:58:43.627743",
     "exception": false,
     "start_time": "2025-08-05T20:58:43.604299",
     "status": "completed"
    },
    "tags": []
   },
   "outputs": [],
   "source": [
    "if mode == \"keep-all\":\n",
    "    keep_mask = pd.Series(True, index=org_train.index)\n",
    "\n",
    "# org_train contains the original feature columns from features_org (in Simson)\n",
    "# features_org contains unprocessed features, for me X_train at beginning ???\n",
    "# For keep-all, creates a boolean Series (keep_mask) of all True, so no rows are removed.\n",
    "\n",
    "elif mode == \"drop-non-german\":\n",
    "    keep_mask = org_train[\"maxdeutsch1\"] == 1 # ??? what about missing values?\n",
    "\n",
    "else:\n",
    "    raise ValueError(f\"Unsupported mode for exclude_subgroups: {mode}\")"
   ]
  },
  {
   "cell_type": "code",
   "execution_count": 27,
   "id": "71651440",
   "metadata": {
    "execution": {
     "iopub.execute_input": "2025-08-05T20:58:43.667821Z",
     "iopub.status.busy": "2025-08-05T20:58:43.667390Z",
     "iopub.status.idle": "2025-08-05T20:58:43.674753Z",
     "shell.execute_reply": "2025-08-05T20:58:43.673651Z"
    },
    "papermill": {
     "duration": 0.027841,
     "end_time": "2025-08-05T20:58:43.676401",
     "exception": false,
     "start_time": "2025-08-05T20:58:43.648560",
     "status": "completed"
    },
    "tags": []
   },
   "outputs": [
    {
     "name": "stdout",
     "output_type": "stream",
     "text": [
      "Dropping 3481 rows (13.92%) where mode='drop-non-german'\n"
     ]
    }
   ],
   "source": [
    "n_drop = (~keep_mask).sum() # Calculates how many rows are set to be dropped\n",
    "if n_drop > 0:\n",
    "    pct = n_drop / len(keep_mask) * 100\n",
    "    print(f\"Dropping {n_drop} rows ({pct:.2f}%) where mode='{mode}'\")"
   ]
  },
  {
   "cell_type": "code",
   "execution_count": 28,
   "id": "5fb8eee5",
   "metadata": {
    "execution": {
     "iopub.execute_input": "2025-08-05T20:58:43.716802Z",
     "iopub.status.busy": "2025-08-05T20:58:43.716470Z",
     "iopub.status.idle": "2025-08-05T20:58:43.733645Z",
     "shell.execute_reply": "2025-08-05T20:58:43.732706Z"
    },
    "papermill": {
     "duration": 0.038567,
     "end_time": "2025-08-05T20:58:43.735481",
     "exception": false,
     "start_time": "2025-08-05T20:58:43.696914",
     "status": "completed"
    },
    "tags": []
   },
   "outputs": [],
   "source": [
    "X_train = X_train[keep_mask]"
   ]
  },
  {
   "cell_type": "code",
   "execution_count": 29,
   "id": "b202bb3a",
   "metadata": {
    "execution": {
     "iopub.execute_input": "2025-08-05T20:58:43.776915Z",
     "iopub.status.busy": "2025-08-05T20:58:43.776293Z",
     "iopub.status.idle": "2025-08-05T20:58:43.782146Z",
     "shell.execute_reply": "2025-08-05T20:58:43.781239Z"
    },
    "papermill": {
     "duration": 0.027491,
     "end_time": "2025-08-05T20:58:43.783898",
     "exception": false,
     "start_time": "2025-08-05T20:58:43.756407",
     "status": "completed"
    },
    "tags": []
   },
   "outputs": [],
   "source": [
    "y_train = y_train[keep_mask]"
   ]
  },
  {
   "cell_type": "markdown",
   "id": "493e2ac3",
   "metadata": {
    "papermill": {
     "duration": 0.010187,
     "end_time": "2025-08-05T20:58:43.805858",
     "exception": false,
     "start_time": "2025-08-05T20:58:43.795671",
     "status": "completed"
    },
    "tags": []
   },
   "source": [
    "# Model Training"
   ]
  },
  {
   "cell_type": "code",
   "execution_count": 30,
   "id": "679e1268",
   "metadata": {
    "execution": {
     "iopub.execute_input": "2025-08-05T20:58:43.835795Z",
     "iopub.status.busy": "2025-08-05T20:58:43.835382Z",
     "iopub.status.idle": "2025-08-05T20:58:43.918475Z",
     "shell.execute_reply": "2025-08-05T20:58:43.917721Z"
    },
    "papermill": {
     "duration": 0.101451,
     "end_time": "2025-08-05T20:58:43.920103",
     "exception": false,
     "start_time": "2025-08-05T20:58:43.818652",
     "status": "completed"
    },
    "tags": []
   },
   "outputs": [],
   "source": [
    "from sklearn.linear_model import LogisticRegression\n",
    "from sklearn.ensemble import GradientBoostingClassifier, RandomForestClassifier\n",
    "\n",
    "if (universe[\"model\"] == \"logreg\"):\n",
    "    model = LogisticRegression() #penalty=\"none\", solver=\"newton-cg\", max_iter=1) # include random_state=19 ?\n",
    "elif (universe[\"model\"] == \"penalized_logreg\"):\n",
    "    model = LogisticRegression(penalty=\"l2\", C=0.1) #, solver=\"newton-cg\", max_iter=1)\n",
    "elif (universe[\"model\"] == \"rf\"):\n",
    "    model = RandomForestClassifier() # n_estimators=100, n_jobs=-1\n",
    "elif (universe[\"model\"] == \"gbm\"):\n",
    "    model = GradientBoostingClassifier()\n",
    "elif (universe[\"model\"] == \"elasticnet\"):\n",
    "    model = LogisticRegression(penalty = 'elasticnet', solver = 'saga', l1_ratio = 0.5) # max_iter=5000\n",
    "else:\n",
    "    raise \"Unsupported universe.model\""
   ]
  },
  {
   "cell_type": "code",
   "execution_count": 31,
   "id": "0cc8f744",
   "metadata": {
    "execution": {
     "iopub.execute_input": "2025-08-05T20:58:43.957486Z",
     "iopub.status.busy": "2025-08-05T20:58:43.956677Z",
     "iopub.status.idle": "2025-08-05T20:58:43.961965Z",
     "shell.execute_reply": "2025-08-05T20:58:43.961064Z"
    },
    "papermill": {
     "duration": 0.0338,
     "end_time": "2025-08-05T20:58:43.971571",
     "exception": false,
     "start_time": "2025-08-05T20:58:43.937771",
     "status": "completed"
    },
    "tags": []
   },
   "outputs": [],
   "source": [
    "import numpy as np\n",
    "from sklearn.pipeline import Pipeline\n",
    "from sklearn.preprocessing import StandardScaler\n",
    "\n",
    "model = Pipeline([\n",
    "    #(\"continuous_processor\", continuous_processor),\n",
    "    #(\"categorical_preprocessor\", categorical_preprocessor),\n",
    "    (\"scale\", StandardScaler() if universe[\"scale\"] == \"scale\" else None), \n",
    "    (\"model\", model),\n",
    "])"
   ]
  },
  {
   "cell_type": "code",
   "execution_count": 32,
   "id": "9442c04d",
   "metadata": {
    "execution": {
     "iopub.execute_input": "2025-08-05T20:58:44.011871Z",
     "iopub.status.busy": "2025-08-05T20:58:44.011133Z",
     "iopub.status.idle": "2025-08-05T20:58:44.514653Z",
     "shell.execute_reply": "2025-08-05T20:58:44.513806Z"
    },
    "papermill": {
     "duration": 0.526091,
     "end_time": "2025-08-05T20:58:44.516414",
     "exception": false,
     "start_time": "2025-08-05T20:58:43.990323",
     "status": "completed"
    },
    "tags": []
   },
   "outputs": [
    {
     "name": "stderr",
     "output_type": "stream",
     "text": [
      "/dss/dsshome1/0C/ra93lal2/.local/share/virtualenvs/CMA_Fairness_v2-3j10GkSs/lib/python3.10/site-packages/sklearn/linear_model/_logistic.py:444: ConvergenceWarning: lbfgs failed to converge (status=1):\n",
      "STOP: TOTAL NO. of ITERATIONS REACHED LIMIT.\n",
      "\n",
      "Increase the number of iterations (max_iter) or scale the data as shown in:\n",
      "    https://scikit-learn.org/stable/modules/preprocessing.html\n",
      "Please also refer to the documentation for alternative solver options:\n",
      "    https://scikit-learn.org/stable/modules/linear_model.html#logistic-regression\n",
      "  n_iter_i = _check_optimize_result(\n"
     ]
    },
    {
     "data": {
      "text/html": [
       "<style>#sk-container-id-1 {color: black;background-color: white;}#sk-container-id-1 pre{padding: 0;}#sk-container-id-1 div.sk-toggleable {background-color: white;}#sk-container-id-1 label.sk-toggleable__label {cursor: pointer;display: block;width: 100%;margin-bottom: 0;padding: 0.3em;box-sizing: border-box;text-align: center;}#sk-container-id-1 label.sk-toggleable__label-arrow:before {content: \"▸\";float: left;margin-right: 0.25em;color: #696969;}#sk-container-id-1 label.sk-toggleable__label-arrow:hover:before {color: black;}#sk-container-id-1 div.sk-estimator:hover label.sk-toggleable__label-arrow:before {color: black;}#sk-container-id-1 div.sk-toggleable__content {max-height: 0;max-width: 0;overflow: hidden;text-align: left;background-color: #f0f8ff;}#sk-container-id-1 div.sk-toggleable__content pre {margin: 0.2em;color: black;border-radius: 0.25em;background-color: #f0f8ff;}#sk-container-id-1 input.sk-toggleable__control:checked~div.sk-toggleable__content {max-height: 200px;max-width: 100%;overflow: auto;}#sk-container-id-1 input.sk-toggleable__control:checked~label.sk-toggleable__label-arrow:before {content: \"▾\";}#sk-container-id-1 div.sk-estimator input.sk-toggleable__control:checked~label.sk-toggleable__label {background-color: #d4ebff;}#sk-container-id-1 div.sk-label input.sk-toggleable__control:checked~label.sk-toggleable__label {background-color: #d4ebff;}#sk-container-id-1 input.sk-hidden--visually {border: 0;clip: rect(1px 1px 1px 1px);clip: rect(1px, 1px, 1px, 1px);height: 1px;margin: -1px;overflow: hidden;padding: 0;position: absolute;width: 1px;}#sk-container-id-1 div.sk-estimator {font-family: monospace;background-color: #f0f8ff;border: 1px dotted black;border-radius: 0.25em;box-sizing: border-box;margin-bottom: 0.5em;}#sk-container-id-1 div.sk-estimator:hover {background-color: #d4ebff;}#sk-container-id-1 div.sk-parallel-item::after {content: \"\";width: 100%;border-bottom: 1px solid gray;flex-grow: 1;}#sk-container-id-1 div.sk-label:hover label.sk-toggleable__label {background-color: #d4ebff;}#sk-container-id-1 div.sk-serial::before {content: \"\";position: absolute;border-left: 1px solid gray;box-sizing: border-box;top: 0;bottom: 0;left: 50%;z-index: 0;}#sk-container-id-1 div.sk-serial {display: flex;flex-direction: column;align-items: center;background-color: white;padding-right: 0.2em;padding-left: 0.2em;position: relative;}#sk-container-id-1 div.sk-item {position: relative;z-index: 1;}#sk-container-id-1 div.sk-parallel {display: flex;align-items: stretch;justify-content: center;background-color: white;position: relative;}#sk-container-id-1 div.sk-item::before, #sk-container-id-1 div.sk-parallel-item::before {content: \"\";position: absolute;border-left: 1px solid gray;box-sizing: border-box;top: 0;bottom: 0;left: 50%;z-index: -1;}#sk-container-id-1 div.sk-parallel-item {display: flex;flex-direction: column;z-index: 1;position: relative;background-color: white;}#sk-container-id-1 div.sk-parallel-item:first-child::after {align-self: flex-end;width: 50%;}#sk-container-id-1 div.sk-parallel-item:last-child::after {align-self: flex-start;width: 50%;}#sk-container-id-1 div.sk-parallel-item:only-child::after {width: 0;}#sk-container-id-1 div.sk-dashed-wrapped {border: 1px dashed gray;margin: 0 0.4em 0.5em 0.4em;box-sizing: border-box;padding-bottom: 0.4em;background-color: white;}#sk-container-id-1 div.sk-label label {font-family: monospace;font-weight: bold;display: inline-block;line-height: 1.2em;}#sk-container-id-1 div.sk-label-container {text-align: center;}#sk-container-id-1 div.sk-container {/* jupyter's `normalize.less` sets `[hidden] { display: none; }` but bootstrap.min.css set `[hidden] { display: none !important; }` so we also need the `!important` here to be able to override the default hidden behavior on the sphinx rendered scikit-learn.org. See: https://github.com/scikit-learn/scikit-learn/issues/21755 */display: inline-block !important;position: relative;}#sk-container-id-1 div.sk-text-repr-fallback {display: none;}</style><div id=\"sk-container-id-1\" class=\"sk-top-container\"><div class=\"sk-text-repr-fallback\"><pre>Pipeline(steps=[(&#x27;scale&#x27;, None), (&#x27;model&#x27;, LogisticRegression(C=0.1))])</pre><b>In a Jupyter environment, please rerun this cell to show the HTML representation or trust the notebook. <br />On GitHub, the HTML representation is unable to render, please try loading this page with nbviewer.org.</b></div><div class=\"sk-container\" hidden><div class=\"sk-item sk-dashed-wrapped\"><div class=\"sk-label-container\"><div class=\"sk-label sk-toggleable\"><input class=\"sk-toggleable__control sk-hidden--visually\" id=\"sk-estimator-id-1\" type=\"checkbox\" ><label for=\"sk-estimator-id-1\" class=\"sk-toggleable__label sk-toggleable__label-arrow\">Pipeline</label><div class=\"sk-toggleable__content\"><pre>Pipeline(steps=[(&#x27;scale&#x27;, None), (&#x27;model&#x27;, LogisticRegression(C=0.1))])</pre></div></div></div><div class=\"sk-serial\"><div class=\"sk-item\"><div class=\"sk-estimator sk-toggleable\"><input class=\"sk-toggleable__control sk-hidden--visually\" id=\"sk-estimator-id-2\" type=\"checkbox\" ><label for=\"sk-estimator-id-2\" class=\"sk-toggleable__label sk-toggleable__label-arrow\">None</label><div class=\"sk-toggleable__content\"><pre>None</pre></div></div></div><div class=\"sk-item\"><div class=\"sk-estimator sk-toggleable\"><input class=\"sk-toggleable__control sk-hidden--visually\" id=\"sk-estimator-id-3\" type=\"checkbox\" ><label for=\"sk-estimator-id-3\" class=\"sk-toggleable__label sk-toggleable__label-arrow\">LogisticRegression</label><div class=\"sk-toggleable__content\"><pre>LogisticRegression(C=0.1)</pre></div></div></div></div></div></div></div>"
      ],
      "text/plain": [
       "Pipeline(steps=[('scale', None), ('model', LogisticRegression(C=0.1))])"
      ]
     },
     "execution_count": 32,
     "metadata": {},
     "output_type": "execute_result"
    }
   ],
   "source": [
    "model.fit(X_train, y_train.values.ravel())"
   ]
  },
  {
   "cell_type": "code",
   "execution_count": 33,
   "id": "af59f8c0",
   "metadata": {
    "execution": {
     "iopub.execute_input": "2025-08-05T20:58:44.555842Z",
     "iopub.status.busy": "2025-08-05T20:58:44.555046Z",
     "iopub.status.idle": "2025-08-05T20:58:44.560294Z",
     "shell.execute_reply": "2025-08-05T20:58:44.559421Z"
    },
    "papermill": {
     "duration": 0.026745,
     "end_time": "2025-08-05T20:58:44.562225",
     "exception": false,
     "start_time": "2025-08-05T20:58:44.535480",
     "status": "completed"
    },
    "tags": []
   },
   "outputs": [],
   "source": [
    "from fairness_multiverse.universe import predict_w_threshold"
   ]
  },
  {
   "cell_type": "code",
   "execution_count": 34,
   "id": "a7cf2e16",
   "metadata": {
    "execution": {
     "iopub.execute_input": "2025-08-05T20:58:44.604265Z",
     "iopub.status.busy": "2025-08-05T20:58:44.603593Z",
     "iopub.status.idle": "2025-08-05T20:58:44.696841Z",
     "shell.execute_reply": "2025-08-05T20:58:44.695924Z"
    },
    "papermill": {
     "duration": 0.115716,
     "end_time": "2025-08-05T20:58:44.698660",
     "exception": false,
     "start_time": "2025-08-05T20:58:44.582944",
     "status": "completed"
    },
    "tags": []
   },
   "outputs": [
    {
     "data": {
      "text/plain": [
       "0.8609965444209118"
      ]
     },
     "execution_count": 34,
     "metadata": {},
     "output_type": "execute_result"
    }
   ],
   "source": [
    "probs_test = model.predict_proba(X_test)\n",
    "\n",
    "'''\n",
    "Below code returns a boolean array (or binary 0/1 array depending on how it’s used) where each element \n",
    "is True if the probability of class 1 is greater than or equal to the threshold, and False otherwise.\n",
    "'''\n",
    "y_pred_default = predict_w_threshold(probs_test, 0.5)\n",
    "\n",
    "from sklearn.metrics import accuracy_score\n",
    "\n",
    "# Naive prediction\n",
    "accuracy_score(y_true = y_true, y_pred = y_pred_default)"
   ]
  },
  {
   "cell_type": "code",
   "execution_count": 35,
   "id": "081964c3",
   "metadata": {
    "execution": {
     "iopub.execute_input": "2025-08-05T20:58:44.742210Z",
     "iopub.status.busy": "2025-08-05T20:58:44.741358Z",
     "iopub.status.idle": "2025-08-05T20:58:44.823684Z",
     "shell.execute_reply": "2025-08-05T20:58:44.822740Z"
    },
    "papermill": {
     "duration": 0.106345,
     "end_time": "2025-08-05T20:58:44.825491",
     "exception": false,
     "start_time": "2025-08-05T20:58:44.719146",
     "status": "completed"
    },
    "tags": []
   },
   "outputs": [
    {
     "data": {
      "text/plain": [
       "array([0, 0, 0, ..., 0, 0, 0])"
      ]
     },
     "execution_count": 35,
     "metadata": {},
     "output_type": "execute_result"
    }
   ],
   "source": [
    "model.predict(X_test)"
   ]
  },
  {
   "cell_type": "markdown",
   "id": "56c9705b",
   "metadata": {
    "papermill": {
     "duration": 0.020425,
     "end_time": "2025-08-05T20:58:44.865738",
     "exception": false,
     "start_time": "2025-08-05T20:58:44.845313",
     "status": "completed"
    },
    "tags": []
   },
   "source": [
    "# Conformal Prediction"
   ]
  },
  {
   "cell_type": "code",
   "execution_count": 36,
   "id": "160ec6ff",
   "metadata": {
    "execution": {
     "iopub.execute_input": "2025-08-05T20:58:44.907973Z",
     "iopub.status.busy": "2025-08-05T20:58:44.907370Z",
     "iopub.status.idle": "2025-08-05T20:58:44.912388Z",
     "shell.execute_reply": "2025-08-05T20:58:44.911472Z"
    },
    "papermill": {
     "duration": 0.028114,
     "end_time": "2025-08-05T20:58:44.914255",
     "exception": false,
     "start_time": "2025-08-05T20:58:44.886141",
     "status": "completed"
    },
    "tags": []
   },
   "outputs": [],
   "source": [
    "# Miscoverage level for conformal prediction (10% allowed error rate => 90% target coverage)\n",
    "alpha = 0.1"
   ]
  },
  {
   "cell_type": "code",
   "execution_count": 37,
   "id": "eadf4555-3dd3-440e-8e35-f82a4ad9f855",
   "metadata": {
    "execution": {
     "iopub.execute_input": "2025-08-05T20:58:44.956395Z",
     "iopub.status.busy": "2025-08-05T20:58:44.956102Z",
     "iopub.status.idle": "2025-08-05T20:58:45.036323Z",
     "shell.execute_reply": "2025-08-05T20:58:45.035403Z"
    },
    "papermill": {
     "duration": 0.103383,
     "end_time": "2025-08-05T20:58:45.038304",
     "exception": false,
     "start_time": "2025-08-05T20:58:44.934921",
     "status": "completed"
    },
    "tags": []
   },
   "outputs": [],
   "source": [
    "probs_calib = model.predict_proba(X_calib)"
   ]
  },
  {
   "cell_type": "code",
   "execution_count": 38,
   "id": "2ed93547-6d5d-4983-9b36-1ecb300da49a",
   "metadata": {
    "execution": {
     "iopub.execute_input": "2025-08-05T20:58:45.080954Z",
     "iopub.status.busy": "2025-08-05T20:58:45.080377Z",
     "iopub.status.idle": "2025-08-05T20:58:45.085918Z",
     "shell.execute_reply": "2025-08-05T20:58:45.084984Z"
    },
    "papermill": {
     "duration": 0.028099,
     "end_time": "2025-08-05T20:58:45.087536",
     "exception": false,
     "start_time": "2025-08-05T20:58:45.059437",
     "status": "completed"
    },
    "tags": []
   },
   "outputs": [],
   "source": [
    "y_calib = y_calib.values.ravel().astype(int)"
   ]
  },
  {
   "cell_type": "code",
   "execution_count": 39,
   "id": "65d1320d-f588-4b38-9072-62af1ae97f7d",
   "metadata": {
    "execution": {
     "iopub.execute_input": "2025-08-05T20:58:45.130185Z",
     "iopub.status.busy": "2025-08-05T20:58:45.129482Z",
     "iopub.status.idle": "2025-08-05T20:58:45.136762Z",
     "shell.execute_reply": "2025-08-05T20:58:45.135880Z"
    },
    "papermill": {
     "duration": 0.030426,
     "end_time": "2025-08-05T20:58:45.138417",
     "exception": false,
     "start_time": "2025-08-05T20:58:45.107991",
     "status": "completed"
    },
    "tags": []
   },
   "outputs": [],
   "source": [
    "from fairness_multiverse.conformal import compute_nc_scores\n",
    "\n",
    "# Compute nonconformity scores on calibration set (1 - probability of true class)\n",
    "nc_scores = compute_nc_scores(probs_calib, y_calib)"
   ]
  },
  {
   "cell_type": "code",
   "execution_count": 40,
   "id": "df3b8ca3-53b7-43d5-9667-7c85da7aeda2",
   "metadata": {
    "execution": {
     "iopub.execute_input": "2025-08-05T20:58:45.182571Z",
     "iopub.status.busy": "2025-08-05T20:58:45.182099Z",
     "iopub.status.idle": "2025-08-05T20:58:45.188493Z",
     "shell.execute_reply": "2025-08-05T20:58:45.187541Z"
    },
    "papermill": {
     "duration": 0.030953,
     "end_time": "2025-08-05T20:58:45.190256",
     "exception": false,
     "start_time": "2025-08-05T20:58:45.159303",
     "status": "completed"
    },
    "tags": []
   },
   "outputs": [],
   "source": [
    "from fairness_multiverse.conformal import find_threshold\n",
    "\n",
    "# Find conformal threshold q_hat for the given alpha (split conformal method)\n",
    "q_hat = find_threshold(nc_scores, alpha)"
   ]
  },
  {
   "cell_type": "code",
   "execution_count": 41,
   "id": "4d29e6c1-0ef6-4aa4-b8fe-4fe79b0d033a",
   "metadata": {
    "execution": {
     "iopub.execute_input": "2025-08-05T20:58:45.234566Z",
     "iopub.status.busy": "2025-08-05T20:58:45.233912Z",
     "iopub.status.idle": "2025-08-05T20:58:45.240830Z",
     "shell.execute_reply": "2025-08-05T20:58:45.239801Z"
    },
    "papermill": {
     "duration": 0.03119,
     "end_time": "2025-08-05T20:58:45.242646",
     "exception": false,
     "start_time": "2025-08-05T20:58:45.211456",
     "status": "completed"
    },
    "tags": []
   },
   "outputs": [
    {
     "data": {
      "text/plain": [
       "0.6617671033871424"
      ]
     },
     "execution_count": 41,
     "metadata": {},
     "output_type": "execute_result"
    }
   ],
   "source": [
    "q_hat"
   ]
  },
  {
   "cell_type": "code",
   "execution_count": 42,
   "id": "92460794-cdac-4be2-ba28-f28c0515a6fb",
   "metadata": {
    "execution": {
     "iopub.execute_input": "2025-08-05T20:58:45.288223Z",
     "iopub.status.busy": "2025-08-05T20:58:45.287598Z",
     "iopub.status.idle": "2025-08-05T20:58:46.009100Z",
     "shell.execute_reply": "2025-08-05T20:58:46.008138Z"
    },
    "papermill": {
     "duration": 0.747797,
     "end_time": "2025-08-05T20:58:46.011161",
     "exception": false,
     "start_time": "2025-08-05T20:58:45.263364",
     "status": "completed"
    },
    "tags": []
   },
   "outputs": [],
   "source": [
    "from fairness_multiverse.conformal import predict_conformal_sets\n",
    "\n",
    "# Generate prediction sets for each test example\n",
    "pred_sets = predict_conformal_sets(model, X_test, q_hat)"
   ]
  },
  {
   "cell_type": "code",
   "execution_count": 43,
   "id": "d90c9a65-e6db-4f5d-80cd-e68fb7e46829",
   "metadata": {
    "execution": {
     "iopub.execute_input": "2025-08-05T20:58:46.062038Z",
     "iopub.status.busy": "2025-08-05T20:58:46.061644Z",
     "iopub.status.idle": "2025-08-05T20:58:46.067495Z",
     "shell.execute_reply": "2025-08-05T20:58:46.065707Z"
    },
    "papermill": {
     "duration": 0.037333,
     "end_time": "2025-08-05T20:58:46.074760",
     "exception": false,
     "start_time": "2025-08-05T20:58:46.037427",
     "status": "completed"
    },
    "tags": []
   },
   "outputs": [],
   "source": [
    "y_true = y_true.squeeze()"
   ]
  },
  {
   "cell_type": "code",
   "execution_count": 44,
   "id": "3a58a54a-1e68-46b9-927a-df01f18aebc8",
   "metadata": {
    "execution": {
     "iopub.execute_input": "2025-08-05T20:58:46.101304Z",
     "iopub.status.busy": "2025-08-05T20:58:46.100909Z",
     "iopub.status.idle": "2025-08-05T20:58:46.583202Z",
     "shell.execute_reply": "2025-08-05T20:58:46.582414Z"
    },
    "papermill": {
     "duration": 0.495443,
     "end_time": "2025-08-05T20:58:46.584653",
     "exception": false,
     "start_time": "2025-08-05T20:58:46.089210",
     "status": "completed"
    },
    "tags": []
   },
   "outputs": [],
   "source": [
    "from fairness_multiverse.conformal import evaluate_sets\n",
    "\n",
    "# Evaluate coverage and average set size on test data\n",
    "metrics = evaluate_sets(pred_sets, y_true)"
   ]
  },
  {
   "cell_type": "markdown",
   "id": "2b569c12-9aaa-4c88-98c9-bbcd0cf3ebb8",
   "metadata": {
    "papermill": {
     "duration": 0.010487,
     "end_time": "2025-08-05T20:58:46.606540",
     "exception": false,
     "start_time": "2025-08-05T20:58:46.596053",
     "status": "completed"
    },
    "tags": []
   },
   "source": [
    "# CP Metrics"
   ]
  },
  {
   "cell_type": "code",
   "execution_count": 45,
   "id": "5ce0a5cb-201f-45a0-ade5-94c7f0bd6095",
   "metadata": {
    "execution": {
     "iopub.execute_input": "2025-08-05T20:58:46.628881Z",
     "iopub.status.busy": "2025-08-05T20:58:46.628145Z",
     "iopub.status.idle": "2025-08-05T20:58:46.634723Z",
     "shell.execute_reply": "2025-08-05T20:58:46.633572Z"
    },
    "papermill": {
     "duration": 0.019832,
     "end_time": "2025-08-05T20:58:46.636688",
     "exception": false,
     "start_time": "2025-08-05T20:58:46.616856",
     "status": "completed"
    },
    "tags": []
   },
   "outputs": [
    {
     "data": {
      "text/plain": [
       "{'coverage': 0.9116820867238881, 'avg_size': 1.2130197302418906}"
      ]
     },
     "execution_count": 45,
     "metadata": {},
     "output_type": "execute_result"
    }
   ],
   "source": [
    "metrics"
   ]
  },
  {
   "cell_type": "code",
   "execution_count": 46,
   "id": "9b9a838d-31c9-430b-ae14-12baee460d17",
   "metadata": {
    "execution": {
     "iopub.execute_input": "2025-08-05T20:58:46.679923Z",
     "iopub.status.busy": "2025-08-05T20:58:46.679232Z",
     "iopub.status.idle": "2025-08-05T20:58:46.685940Z",
     "shell.execute_reply": "2025-08-05T20:58:46.684947Z"
    },
    "papermill": {
     "duration": 0.029193,
     "end_time": "2025-08-05T20:58:46.687584",
     "exception": false,
     "start_time": "2025-08-05T20:58:46.658391",
     "status": "completed"
    },
    "tags": []
   },
   "outputs": [],
   "source": [
    "example_universe = universe.copy()\n",
    "universe_training_year = example_universe.get(\"training_year\")\n",
    "universe_training_size = example_universe.get(\"training_size\")\n",
    "universe_scale = example_universe.get(\"scale\")\n",
    "universe_model = example_universe.get(\"model\")\n",
    "universe_exclude_features = example_universe.get(\"exclude_features\")\n",
    "universe_exclude_subgroups = example_universe.get(\"exclude_subgroups\")"
   ]
  },
  {
   "cell_type": "code",
   "execution_count": 47,
   "id": "f4b6a8ac-9dc0-4245-8a91-5b3b5999c4f9",
   "metadata": {
    "execution": {
     "iopub.execute_input": "2025-08-05T20:58:46.727638Z",
     "iopub.status.busy": "2025-08-05T20:58:46.726963Z",
     "iopub.status.idle": "2025-08-05T20:58:46.733109Z",
     "shell.execute_reply": "2025-08-05T20:58:46.732150Z"
    },
    "papermill": {
     "duration": 0.027958,
     "end_time": "2025-08-05T20:58:46.734922",
     "exception": false,
     "start_time": "2025-08-05T20:58:46.706964",
     "status": "completed"
    },
    "tags": []
   },
   "outputs": [],
   "source": [
    "cp_metrics_dict = {\n",
    "    \"universe_id\": [universe_id],\n",
    "    \"universe_training_year\": [universe_training_year],\n",
    "    \"universe_training_size\": [universe_training_size],\n",
    "    \"universe_scale\": [universe_scale],\n",
    "    \"universe_model\": [universe_model],\n",
    "    \"universe_exclude_features\": [universe_exclude_features],\n",
    "    \"universe_exclude_subgroups\": [universe_exclude_subgroups],\n",
    "    \"q_hat\": [q_hat],\n",
    "    \"coverage\": [metrics[\"coverage\"]],\n",
    "    \"avg_size\": [metrics[\"avg_size\"]],\n",
    "}"
   ]
  },
  {
   "cell_type": "code",
   "execution_count": 48,
   "id": "908acbb1-0371-4915-85ca-3fa520d2efe2",
   "metadata": {
    "execution": {
     "iopub.execute_input": "2025-08-05T20:58:46.775400Z",
     "iopub.status.busy": "2025-08-05T20:58:46.774851Z",
     "iopub.status.idle": "2025-08-05T20:58:46.782521Z",
     "shell.execute_reply": "2025-08-05T20:58:46.781424Z"
    },
    "papermill": {
     "duration": 0.029112,
     "end_time": "2025-08-05T20:58:46.784276",
     "exception": false,
     "start_time": "2025-08-05T20:58:46.755164",
     "status": "completed"
    },
    "tags": []
   },
   "outputs": [
    {
     "data": {
      "text/plain": [
       "{'universe_id': ['a6a023218cc8736e82036206f295d833'],\n",
       " 'universe_training_year': ['2012_14'],\n",
       " 'universe_training_size': ['25k'],\n",
       " 'universe_scale': ['do-not-scale'],\n",
       " 'universe_model': ['penalized_logreg'],\n",
       " 'universe_exclude_features': ['sex'],\n",
       " 'universe_exclude_subgroups': ['drop-non-german'],\n",
       " 'q_hat': [0.6617671033871424],\n",
       " 'coverage': [0.9116820867238881],\n",
       " 'avg_size': [1.2130197302418906]}"
      ]
     },
     "execution_count": 48,
     "metadata": {},
     "output_type": "execute_result"
    }
   ],
   "source": [
    "cp_metrics_dict"
   ]
  },
  {
   "cell_type": "code",
   "execution_count": 49,
   "id": "33007efc-14e9-4ec6-97ac-56a455c82265",
   "metadata": {
    "execution": {
     "iopub.execute_input": "2025-08-05T20:58:46.824228Z",
     "iopub.status.busy": "2025-08-05T20:58:46.823685Z",
     "iopub.status.idle": "2025-08-05T20:58:46.830089Z",
     "shell.execute_reply": "2025-08-05T20:58:46.828990Z"
    },
    "papermill": {
     "duration": 0.027982,
     "end_time": "2025-08-05T20:58:46.831824",
     "exception": false,
     "start_time": "2025-08-05T20:58:46.803842",
     "status": "completed"
    },
    "tags": []
   },
   "outputs": [],
   "source": [
    "cp_metrics_df = pd.DataFrame(cp_metrics_dict)"
   ]
  },
  {
   "cell_type": "code",
   "execution_count": 50,
   "id": "db12611b-57b2-4910-b9d0-355adfd6e7bf",
   "metadata": {
    "execution": {
     "iopub.execute_input": "2025-08-05T20:58:46.873321Z",
     "iopub.status.busy": "2025-08-05T20:58:46.872960Z",
     "iopub.status.idle": "2025-08-05T20:58:46.892522Z",
     "shell.execute_reply": "2025-08-05T20:58:46.891540Z"
    },
    "papermill": {
     "duration": 0.041375,
     "end_time": "2025-08-05T20:58:46.894037",
     "exception": false,
     "start_time": "2025-08-05T20:58:46.852662",
     "status": "completed"
    },
    "tags": []
   },
   "outputs": [
    {
     "data": {
      "text/html": [
       "<div>\n",
       "<style scoped>\n",
       "    .dataframe tbody tr th:only-of-type {\n",
       "        vertical-align: middle;\n",
       "    }\n",
       "\n",
       "    .dataframe tbody tr th {\n",
       "        vertical-align: top;\n",
       "    }\n",
       "\n",
       "    .dataframe thead th {\n",
       "        text-align: right;\n",
       "    }\n",
       "</style>\n",
       "<table border=\"1\" class=\"dataframe\">\n",
       "  <thead>\n",
       "    <tr style=\"text-align: right;\">\n",
       "      <th></th>\n",
       "      <th>universe_id</th>\n",
       "      <th>universe_training_year</th>\n",
       "      <th>universe_training_size</th>\n",
       "      <th>universe_scale</th>\n",
       "      <th>universe_model</th>\n",
       "      <th>universe_exclude_features</th>\n",
       "      <th>universe_exclude_subgroups</th>\n",
       "      <th>q_hat</th>\n",
       "      <th>coverage</th>\n",
       "      <th>avg_size</th>\n",
       "    </tr>\n",
       "  </thead>\n",
       "  <tbody>\n",
       "    <tr>\n",
       "      <th>0</th>\n",
       "      <td>a6a023218cc8736e82036206f295d833</td>\n",
       "      <td>2012_14</td>\n",
       "      <td>25k</td>\n",
       "      <td>do-not-scale</td>\n",
       "      <td>penalized_logreg</td>\n",
       "      <td>sex</td>\n",
       "      <td>drop-non-german</td>\n",
       "      <td>0.661767</td>\n",
       "      <td>0.911682</td>\n",
       "      <td>1.21302</td>\n",
       "    </tr>\n",
       "  </tbody>\n",
       "</table>\n",
       "</div>"
      ],
      "text/plain": [
       "                        universe_id universe_training_year  \\\n",
       "0  a6a023218cc8736e82036206f295d833                2012_14   \n",
       "\n",
       "  universe_training_size universe_scale    universe_model  \\\n",
       "0                    25k   do-not-scale  penalized_logreg   \n",
       "\n",
       "  universe_exclude_features universe_exclude_subgroups     q_hat  coverage  \\\n",
       "0                       sex            drop-non-german  0.661767  0.911682   \n",
       "\n",
       "   avg_size  \n",
       "0   1.21302  "
      ]
     },
     "execution_count": 50,
     "metadata": {},
     "output_type": "execute_result"
    }
   ],
   "source": [
    "cp_metrics_df"
   ]
  },
  {
   "cell_type": "code",
   "execution_count": 51,
   "id": "b7fbde55-a0a1-47e4-9af6-fe4a17fa8c61",
   "metadata": {
    "execution": {
     "iopub.execute_input": "2025-08-05T20:58:46.935251Z",
     "iopub.status.busy": "2025-08-05T20:58:46.934694Z",
     "iopub.status.idle": "2025-08-05T20:58:46.939555Z",
     "shell.execute_reply": "2025-08-05T20:58:46.938512Z"
    },
    "papermill": {
     "duration": 0.027364,
     "end_time": "2025-08-05T20:58:46.941236",
     "exception": false,
     "start_time": "2025-08-05T20:58:46.913872",
     "status": "completed"
    },
    "tags": []
   },
   "outputs": [],
   "source": [
    "# Conditional Coverage & looking at subgroups"
   ]
  },
  {
   "cell_type": "code",
   "execution_count": 52,
   "id": "027ae886-68dd-4141-96c7-805a5450e1ef",
   "metadata": {
    "execution": {
     "iopub.execute_input": "2025-08-05T20:58:46.983184Z",
     "iopub.status.busy": "2025-08-05T20:58:46.982517Z",
     "iopub.status.idle": "2025-08-05T20:58:47.237273Z",
     "shell.execute_reply": "2025-08-05T20:58:47.236280Z"
    },
    "papermill": {
     "duration": 0.276849,
     "end_time": "2025-08-05T20:58:47.239078",
     "exception": false,
     "start_time": "2025-08-05T20:58:46.962229",
     "status": "completed"
    },
    "tags": []
   },
   "outputs": [],
   "source": [
    "from fairness_multiverse.conformal import build_cp_groups\n",
    "\n",
    "cp_groups_df = build_cp_groups(pred_sets, y_true, X_test.index, org_test)\n",
    "#needs universe_id and setting"
   ]
  },
  {
   "cell_type": "code",
   "execution_count": 53,
   "id": "6cbdab96-b2b2-45af-ad54-d0516db2e28d",
   "metadata": {
    "execution": {
     "iopub.execute_input": "2025-08-05T20:58:47.283460Z",
     "iopub.status.busy": "2025-08-05T20:58:47.282726Z",
     "iopub.status.idle": "2025-08-05T20:58:48.998668Z",
     "shell.execute_reply": "2025-08-05T20:58:48.997884Z"
    },
    "papermill": {
     "duration": 1.739563,
     "end_time": "2025-08-05T20:58:49.000127",
     "exception": false,
     "start_time": "2025-08-05T20:58:47.260564",
     "status": "completed"
    },
    "tags": []
   },
   "outputs": [],
   "source": [
    "# Define covered = 1 if true_label is in the predicted set\n",
    "cp_groups_df['covered'] = cp_groups_df.apply(\n",
    "    lambda r: int(r['true_label'] in r['pred_set']),\n",
    "    axis=1\n",
    ")"
   ]
  },
  {
   "cell_type": "code",
   "execution_count": 54,
   "id": "338ff529-1a6b-4b87-a931-8e4788d52aad",
   "metadata": {
    "execution": {
     "iopub.execute_input": "2025-08-05T20:58:49.025550Z",
     "iopub.status.busy": "2025-08-05T20:58:49.024852Z",
     "iopub.status.idle": "2025-08-05T20:58:49.029460Z",
     "shell.execute_reply": "2025-08-05T20:58:49.028703Z"
    },
    "papermill": {
     "duration": 0.017735,
     "end_time": "2025-08-05T20:58:49.030713",
     "exception": false,
     "start_time": "2025-08-05T20:58:49.012978",
     "status": "completed"
    },
    "tags": []
   },
   "outputs": [],
   "source": [
    "#cp_groups_df"
   ]
  },
  {
   "cell_type": "code",
   "execution_count": 55,
   "id": "90032e27-66df-4540-9169-4e89cfbaa758",
   "metadata": {
    "execution": {
     "iopub.execute_input": "2025-08-05T20:58:49.055649Z",
     "iopub.status.busy": "2025-08-05T20:58:49.055149Z",
     "iopub.status.idle": "2025-08-05T20:58:49.064354Z",
     "shell.execute_reply": "2025-08-05T20:58:49.063471Z"
    },
    "papermill": {
     "duration": 0.023188,
     "end_time": "2025-08-05T20:58:49.065991",
     "exception": false,
     "start_time": "2025-08-05T20:58:49.042803",
     "status": "completed"
    },
    "tags": []
   },
   "outputs": [],
   "source": [
    "subgroups = ['frau1','nongerman','nongerman_male','nongerman_female']\n",
    "\n",
    "# Conditional coverage for subgroup==1\n",
    "cond_coverage = {\n",
    "    g: cp_groups_df.loc[cp_groups_df[g]==1, 'covered'].mean()\n",
    "    for g in subgroups\n",
    "}"
   ]
  },
  {
   "cell_type": "code",
   "execution_count": 56,
   "id": "1e348fb1-b9c3-45bc-ba23-f016827a7e0d",
   "metadata": {
    "execution": {
     "iopub.execute_input": "2025-08-05T20:58:49.091062Z",
     "iopub.status.busy": "2025-08-05T20:58:49.090472Z",
     "iopub.status.idle": "2025-08-05T20:58:49.096476Z",
     "shell.execute_reply": "2025-08-05T20:58:49.095751Z"
    },
    "papermill": {
     "duration": 0.019806,
     "end_time": "2025-08-05T20:58:49.098120",
     "exception": false,
     "start_time": "2025-08-05T20:58:49.078314",
     "status": "completed"
    },
    "tags": []
   },
   "outputs": [
    {
     "data": {
      "text/plain": [
       "{'frau1': 0.9110122658040167,\n",
       " 'nongerman': 0.9369561556166844,\n",
       " 'nongerman_male': 0.9483923263982708,\n",
       " 'nongerman_female': 0.9180327868852459}"
      ]
     },
     "execution_count": 56,
     "metadata": {},
     "output_type": "execute_result"
    }
   ],
   "source": [
    "cond_coverage"
   ]
  },
  {
   "cell_type": "code",
   "execution_count": 57,
   "id": "f5093324-c3dd-4d63-bc4c-8d945e5c8bbb",
   "metadata": {
    "execution": {
     "iopub.execute_input": "2025-08-05T20:58:49.122558Z",
     "iopub.status.busy": "2025-08-05T20:58:49.122337Z",
     "iopub.status.idle": "2025-08-05T20:58:49.128321Z",
     "shell.execute_reply": "2025-08-05T20:58:49.127468Z"
    },
    "papermill": {
     "duration": 0.019339,
     "end_time": "2025-08-05T20:58:49.129770",
     "exception": false,
     "start_time": "2025-08-05T20:58:49.110431",
     "status": "completed"
    },
    "tags": []
   },
   "outputs": [],
   "source": [
    "for subgroup, cov in cond_coverage.items():\n",
    "    cp_metrics_df[f\"cov_{subgroup}\"] = cov"
   ]
  },
  {
   "cell_type": "code",
   "execution_count": 58,
   "id": "6e872e10-dbe5-49e8-b554-5030c98ff75d",
   "metadata": {
    "execution": {
     "iopub.execute_input": "2025-08-05T20:58:49.154036Z",
     "iopub.status.busy": "2025-08-05T20:58:49.153636Z",
     "iopub.status.idle": "2025-08-05T20:58:49.167597Z",
     "shell.execute_reply": "2025-08-05T20:58:49.166784Z"
    },
    "papermill": {
     "duration": 0.0274,
     "end_time": "2025-08-05T20:58:49.169048",
     "exception": false,
     "start_time": "2025-08-05T20:58:49.141648",
     "status": "completed"
    },
    "tags": []
   },
   "outputs": [
    {
     "data": {
      "text/html": [
       "<div>\n",
       "<style scoped>\n",
       "    .dataframe tbody tr th:only-of-type {\n",
       "        vertical-align: middle;\n",
       "    }\n",
       "\n",
       "    .dataframe tbody tr th {\n",
       "        vertical-align: top;\n",
       "    }\n",
       "\n",
       "    .dataframe thead th {\n",
       "        text-align: right;\n",
       "    }\n",
       "</style>\n",
       "<table border=\"1\" class=\"dataframe\">\n",
       "  <thead>\n",
       "    <tr style=\"text-align: right;\">\n",
       "      <th></th>\n",
       "      <th>universe_id</th>\n",
       "      <th>universe_training_year</th>\n",
       "      <th>universe_training_size</th>\n",
       "      <th>universe_scale</th>\n",
       "      <th>universe_model</th>\n",
       "      <th>universe_exclude_features</th>\n",
       "      <th>universe_exclude_subgroups</th>\n",
       "      <th>q_hat</th>\n",
       "      <th>coverage</th>\n",
       "      <th>avg_size</th>\n",
       "      <th>cov_frau1</th>\n",
       "      <th>cov_nongerman</th>\n",
       "      <th>cov_nongerman_male</th>\n",
       "      <th>cov_nongerman_female</th>\n",
       "    </tr>\n",
       "  </thead>\n",
       "  <tbody>\n",
       "    <tr>\n",
       "      <th>0</th>\n",
       "      <td>a6a023218cc8736e82036206f295d833</td>\n",
       "      <td>2012_14</td>\n",
       "      <td>25k</td>\n",
       "      <td>do-not-scale</td>\n",
       "      <td>penalized_logreg</td>\n",
       "      <td>sex</td>\n",
       "      <td>drop-non-german</td>\n",
       "      <td>0.661767</td>\n",
       "      <td>0.911682</td>\n",
       "      <td>1.21302</td>\n",
       "      <td>0.911012</td>\n",
       "      <td>0.936956</td>\n",
       "      <td>0.948392</td>\n",
       "      <td>0.918033</td>\n",
       "    </tr>\n",
       "  </tbody>\n",
       "</table>\n",
       "</div>"
      ],
      "text/plain": [
       "                        universe_id universe_training_year  \\\n",
       "0  a6a023218cc8736e82036206f295d833                2012_14   \n",
       "\n",
       "  universe_training_size universe_scale    universe_model  \\\n",
       "0                    25k   do-not-scale  penalized_logreg   \n",
       "\n",
       "  universe_exclude_features universe_exclude_subgroups     q_hat  coverage  \\\n",
       "0                       sex            drop-non-german  0.661767  0.911682   \n",
       "\n",
       "   avg_size  cov_frau1  cov_nongerman  cov_nongerman_male  \\\n",
       "0   1.21302   0.911012       0.936956            0.948392   \n",
       "\n",
       "   cov_nongerman_female  \n",
       "0              0.918033  "
      ]
     },
     "execution_count": 58,
     "metadata": {},
     "output_type": "execute_result"
    }
   ],
   "source": [
    "cp_metrics_df"
   ]
  },
  {
   "cell_type": "markdown",
   "id": "33774451",
   "metadata": {
    "papermill": {
     "duration": 0.011386,
     "end_time": "2025-08-05T20:58:49.192398",
     "exception": false,
     "start_time": "2025-08-05T20:58:49.181012",
     "status": "completed"
    },
    "tags": []
   },
   "source": [
    "# (Fairness) Metrics"
   ]
  },
  {
   "cell_type": "code",
   "execution_count": 59,
   "id": "debc5d62",
   "metadata": {
    "execution": {
     "iopub.execute_input": "2025-08-05T20:58:49.216569Z",
     "iopub.status.busy": "2025-08-05T20:58:49.215972Z",
     "iopub.status.idle": "2025-08-05T20:58:49.229722Z",
     "shell.execute_reply": "2025-08-05T20:58:49.229029Z"
    },
    "papermill": {
     "duration": 0.027088,
     "end_time": "2025-08-05T20:58:49.231028",
     "exception": false,
     "start_time": "2025-08-05T20:58:49.203940",
     "status": "completed"
    },
    "tags": []
   },
   "outputs": [],
   "source": [
    "# do I need to include maxdeutsch1.missing?\n",
    "\n",
    "import numpy as np\n",
    "\n",
    "colname_to_bin = \"maxdeutsch1\"\n",
    "majority_value = org_train[colname_to_bin].mode()[0]\n",
    "\n",
    "org_test[\"majmin\"] = np.where(org_test[colname_to_bin] == majority_value, \"majority\", \"minority\")"
   ]
  },
  {
   "cell_type": "code",
   "execution_count": 60,
   "id": "06a50de5",
   "metadata": {
    "execution": {
     "iopub.execute_input": "2025-08-05T20:58:49.255946Z",
     "iopub.status.busy": "2025-08-05T20:58:49.255278Z",
     "iopub.status.idle": "2025-08-05T20:58:50.656869Z",
     "shell.execute_reply": "2025-08-05T20:58:50.656082Z"
    },
    "papermill": {
     "duration": 1.415445,
     "end_time": "2025-08-05T20:58:50.658392",
     "exception": false,
     "start_time": "2025-08-05T20:58:49.242947",
     "status": "completed"
    },
    "tags": []
   },
   "outputs": [],
   "source": [
    "example_universe = universe.copy()\n",
    "example_universe[\"cutoff\"] = example_universe[\"cutoff\"][0]\n",
    "example_universe[\"eval_fairness_grouping\"] = example_universe[\"eval_fairness_grouping\"][0]\n",
    "fairness_dict, metric_frame = universe_analysis.compute_metrics(\n",
    "    example_universe,\n",
    "    y_pred_prob=probs_test,\n",
    "    y_test=y_true,\n",
    "    org_test=org_test,\n",
    ")"
   ]
  },
  {
   "cell_type": "markdown",
   "id": "f95d4e02",
   "metadata": {
    "papermill": {
     "duration": 0.011932,
     "end_time": "2025-08-05T20:58:50.682802",
     "exception": false,
     "start_time": "2025-08-05T20:58:50.670870",
     "status": "completed"
    },
    "tags": []
   },
   "source": [
    "# Overall"
   ]
  },
  {
   "cell_type": "markdown",
   "id": "bdee4871",
   "metadata": {
    "papermill": {
     "duration": 0.011843,
     "end_time": "2025-08-05T20:58:50.706893",
     "exception": false,
     "start_time": "2025-08-05T20:58:50.695050",
     "status": "completed"
    },
    "tags": []
   },
   "source": [
    "Fairness\n",
    "Main fairness target: Equalized Odds. Seems to be a better fit than equal opportunity, since we're not only interested in Y = 1. Seems to be a better fit than demographic parity, since we also care about accuracy, not just equal distribution of preds.\n",
    "\n",
    "Pick column for computation of fairness metrics\n",
    "\n",
    "Performance\n",
    "Overall performance measures, most interesting in relation to the measures split by group below"
   ]
  },
  {
   "cell_type": "code",
   "execution_count": 61,
   "id": "c4e067c6",
   "metadata": {
    "execution": {
     "iopub.execute_input": "2025-08-05T20:58:50.731399Z",
     "iopub.status.busy": "2025-08-05T20:58:50.731043Z",
     "iopub.status.idle": "2025-08-05T20:58:50.738458Z",
     "shell.execute_reply": "2025-08-05T20:58:50.737650Z"
    },
    "papermill": {
     "duration": 0.021395,
     "end_time": "2025-08-05T20:58:50.740049",
     "exception": false,
     "start_time": "2025-08-05T20:58:50.718654",
     "status": "completed"
    },
    "tags": []
   },
   "outputs": [
    {
     "data": {
      "text/plain": [
       "accuracy                   0.218136\n",
       "balanced accuracy          0.534680\n",
       "f1                         0.239639\n",
       "precision                  0.136898\n",
       "false positive rate        0.891103\n",
       "false negative rate        0.039538\n",
       "selection rate             0.900000\n",
       "count                  89710.000000\n",
       "dtype: float64"
      ]
     },
     "execution_count": 61,
     "metadata": {},
     "output_type": "execute_result"
    }
   ],
   "source": [
    "metric_frame.overall"
   ]
  },
  {
   "cell_type": "markdown",
   "id": "e968fe9d",
   "metadata": {
    "papermill": {
     "duration": 0.011564,
     "end_time": "2025-08-05T20:58:50.764306",
     "exception": false,
     "start_time": "2025-08-05T20:58:50.752742",
     "status": "completed"
    },
    "tags": []
   },
   "source": [
    "By Group"
   ]
  },
  {
   "cell_type": "code",
   "execution_count": 62,
   "id": "ec325bce",
   "metadata": {
    "execution": {
     "iopub.execute_input": "2025-08-05T20:58:50.788699Z",
     "iopub.status.busy": "2025-08-05T20:58:50.788182Z",
     "iopub.status.idle": "2025-08-05T20:58:50.800409Z",
     "shell.execute_reply": "2025-08-05T20:58:50.799394Z"
    },
    "papermill": {
     "duration": 0.026138,
     "end_time": "2025-08-05T20:58:50.801901",
     "exception": false,
     "start_time": "2025-08-05T20:58:50.775763",
     "status": "completed"
    },
    "tags": []
   },
   "outputs": [
    {
     "data": {
      "text/html": [
       "<div>\n",
       "<style scoped>\n",
       "    .dataframe tbody tr th:only-of-type {\n",
       "        vertical-align: middle;\n",
       "    }\n",
       "\n",
       "    .dataframe tbody tr th {\n",
       "        vertical-align: top;\n",
       "    }\n",
       "\n",
       "    .dataframe thead th {\n",
       "        text-align: right;\n",
       "    }\n",
       "</style>\n",
       "<table border=\"1\" class=\"dataframe\">\n",
       "  <thead>\n",
       "    <tr style=\"text-align: right;\">\n",
       "      <th></th>\n",
       "      <th>accuracy</th>\n",
       "      <th>balanced accuracy</th>\n",
       "      <th>f1</th>\n",
       "      <th>precision</th>\n",
       "      <th>false positive rate</th>\n",
       "      <th>false negative rate</th>\n",
       "      <th>selection rate</th>\n",
       "      <th>count</th>\n",
       "    </tr>\n",
       "    <tr>\n",
       "      <th>majmin</th>\n",
       "      <th></th>\n",
       "      <th></th>\n",
       "      <th></th>\n",
       "      <th></th>\n",
       "      <th></th>\n",
       "      <th></th>\n",
       "      <th></th>\n",
       "      <th></th>\n",
       "    </tr>\n",
       "  </thead>\n",
       "  <tbody>\n",
       "    <tr>\n",
       "      <th>majority</th>\n",
       "      <td>0.240494</td>\n",
       "      <td>0.542903</td>\n",
       "      <td>0.249210</td>\n",
       "      <td>0.143327</td>\n",
       "      <td>0.868133</td>\n",
       "      <td>0.046061</td>\n",
       "      <td>0.879471</td>\n",
       "      <td>69170.0</td>\n",
       "    </tr>\n",
       "    <tr>\n",
       "      <th>minority</th>\n",
       "      <td>0.142843</td>\n",
       "      <td>0.509330</td>\n",
       "      <td>0.209572</td>\n",
       "      <td>0.117251</td>\n",
       "      <td>0.966982</td>\n",
       "      <td>0.014358</td>\n",
       "      <td>0.969133</td>\n",
       "      <td>20540.0</td>\n",
       "    </tr>\n",
       "  </tbody>\n",
       "</table>\n",
       "</div>"
      ],
      "text/plain": [
       "          accuracy  balanced accuracy        f1  precision  \\\n",
       "majmin                                                       \n",
       "majority  0.240494           0.542903  0.249210   0.143327   \n",
       "minority  0.142843           0.509330  0.209572   0.117251   \n",
       "\n",
       "          false positive rate  false negative rate  selection rate    count  \n",
       "majmin                                                                       \n",
       "majority             0.868133             0.046061        0.879471  69170.0  \n",
       "minority             0.966982             0.014358        0.969133  20540.0  "
      ]
     },
     "execution_count": 62,
     "metadata": {},
     "output_type": "execute_result"
    }
   ],
   "source": [
    "metric_frame.by_group"
   ]
  },
  {
   "cell_type": "code",
   "execution_count": 63,
   "id": "a9ddbe63",
   "metadata": {
    "execution": {
     "iopub.execute_input": "2025-08-05T20:58:50.838319Z",
     "iopub.status.busy": "2025-08-05T20:58:50.837805Z",
     "iopub.status.idle": "2025-08-05T20:58:53.240465Z",
     "shell.execute_reply": "2025-08-05T20:58:53.238730Z"
    },
    "papermill": {
     "duration": 2.428371,
     "end_time": "2025-08-05T20:58:53.242980",
     "exception": false,
     "start_time": "2025-08-05T20:58:50.814609",
     "status": "completed"
    },
    "tags": []
   },
   "outputs": [
    {
     "data": {
      "text/plain": [
       "array([[<Axes: title={'center': 'accuracy'}, xlabel='majmin'>,\n",
       "        <Axes: title={'center': 'balanced accuracy'}, xlabel='majmin'>,\n",
       "        <Axes: title={'center': 'f1'}, xlabel='majmin'>],\n",
       "       [<Axes: title={'center': 'precision'}, xlabel='majmin'>,\n",
       "        <Axes: title={'center': 'false positive rate'}, xlabel='majmin'>,\n",
       "        <Axes: title={'center': 'false negative rate'}, xlabel='majmin'>],\n",
       "       [<Axes: title={'center': 'selection rate'}, xlabel='majmin'>,\n",
       "        <Axes: title={'center': 'count'}, xlabel='majmin'>,\n",
       "        <Axes: xlabel='majmin'>]], dtype=object)"
      ]
     },
     "execution_count": 63,
     "metadata": {},
     "output_type": "execute_result"
    },
    {
     "data": {
      "image/png": "[encoded data removed]",
      "text/plain": [
       "<Figure size 1200x800 with 9 Axes>"
      ]
     },
     "metadata": {},
     "output_type": "display_data"
    }
   ],
   "source": [
    "# In a graphic\n",
    "metric_frame.by_group.plot.bar(\n",
    "    subplots=True,\n",
    "    layout=[3, 3],\n",
    "    legend=False,\n",
    "    figsize=[12, 8],\n",
    "    title=\"Show all metrics\",\n",
    ")"
   ]
  },
  {
   "cell_type": "markdown",
   "id": "f57a0bac",
   "metadata": {
    "papermill": {
     "duration": 0.012627,
     "end_time": "2025-08-05T20:58:53.269658",
     "exception": false,
     "start_time": "2025-08-05T20:58:53.257031",
     "status": "completed"
    },
    "tags": []
   },
   "source": [
    "# Final Output"
   ]
  },
  {
   "cell_type": "code",
   "execution_count": 64,
   "id": "96d280a3",
   "metadata": {
    "execution": {
     "iopub.execute_input": "2025-08-05T20:58:53.300926Z",
     "iopub.status.busy": "2025-08-05T20:58:53.300472Z",
     "iopub.status.idle": "2025-08-05T20:58:53.307079Z",
     "shell.execute_reply": "2025-08-05T20:58:53.306253Z"
    },
    "papermill": {
     "duration": 0.023106,
     "end_time": "2025-08-05T20:58:53.308554",
     "exception": false,
     "start_time": "2025-08-05T20:58:53.285448",
     "status": "completed"
    },
    "tags": []
   },
   "outputs": [
    {
     "data": {
      "text/plain": [
       "4"
      ]
     },
     "execution_count": 64,
     "metadata": {},
     "output_type": "execute_result"
    }
   ],
   "source": [
    "sub_universes = universe_analysis.generate_sub_universes()\n",
    "len(sub_universes)"
   ]
  },
  {
   "cell_type": "code",
   "execution_count": 65,
   "id": "92adf7ba",
   "metadata": {
    "execution": {
     "iopub.execute_input": "2025-08-05T20:58:53.351442Z",
     "iopub.status.busy": "2025-08-05T20:58:53.350928Z",
     "iopub.status.idle": "2025-08-05T20:58:53.357735Z",
     "shell.execute_reply": "2025-08-05T20:58:53.356663Z"
    },
    "papermill": {
     "duration": 0.036997,
     "end_time": "2025-08-05T20:58:53.359745",
     "exception": false,
     "start_time": "2025-08-05T20:58:53.322748",
     "status": "completed"
    },
    "tags": []
   },
   "outputs": [],
   "source": [
    "def filter_sub_universe_data(sub_universe, org_test):\n",
    "    # Keep all rows — no filtering\n",
    "    keep_rows_mask = np.ones(org_test.shape[0], dtype=bool)\n",
    "\n",
    "    print(f\"[INFO] Keeping all rows: {keep_rows_mask.sum()} rows retained.\")\n",
    "    return keep_rows_mask"
   ]
  },
  {
   "cell_type": "code",
   "execution_count": 66,
   "id": "4a759155",
   "metadata": {
    "execution": {
     "iopub.execute_input": "2025-08-05T20:58:53.411855Z",
     "iopub.status.busy": "2025-08-05T20:58:53.411455Z",
     "iopub.status.idle": "2025-08-05T20:59:02.807834Z",
     "shell.execute_reply": "2025-08-05T20:59:02.806844Z"
    },
    "papermill": {
     "duration": 9.424105,
     "end_time": "2025-08-05T20:59:02.809463",
     "exception": false,
     "start_time": "2025-08-05T20:58:53.385358",
     "status": "completed"
    },
    "tags": []
   },
   "outputs": [
    {
     "name": "stdout",
     "output_type": "stream",
     "text": [
      "Stopping execution_time clock.\n",
      "[INFO] Keeping all rows: 89710 rows retained.\n"
     ]
    },
    {
     "name": "stdout",
     "output_type": "stream",
     "text": [
      "[INFO] Keeping all rows: 89710 rows retained.\n"
     ]
    },
    {
     "name": "stdout",
     "output_type": "stream",
     "text": [
      "[INFO] Keeping all rows: 89710 rows retained.\n"
     ]
    },
    {
     "name": "stdout",
     "output_type": "stream",
     "text": [
      "[INFO] Keeping all rows: 89710 rows retained.\n"
     ]
    },
    {
     "data": {
      "text/html": [
       "<div>\n",
       "<style scoped>\n",
       "    .dataframe tbody tr th:only-of-type {\n",
       "        vertical-align: middle;\n",
       "    }\n",
       "\n",
       "    .dataframe tbody tr th {\n",
       "        vertical-align: top;\n",
       "    }\n",
       "\n",
       "    .dataframe thead th {\n",
       "        text-align: right;\n",
       "    }\n",
       "</style>\n",
       "<table border=\"1\" class=\"dataframe\">\n",
       "  <thead>\n",
       "    <tr style=\"text-align: right;\">\n",
       "      <th></th>\n",
       "      <th>run_no</th>\n",
       "      <th>universe_id</th>\n",
       "      <th>universe_settings</th>\n",
       "      <th>execution_time</th>\n",
       "      <th>test_size_n</th>\n",
       "      <th>test_size_frac</th>\n",
       "      <th>fair_main_equalized_odds_difference</th>\n",
       "      <th>fair_main_equalized_odds_ratio</th>\n",
       "      <th>fair_main_demographic_parity_difference</th>\n",
       "      <th>fair_main_demographic_parity_ratio</th>\n",
       "      <th>...</th>\n",
       "      <th>perf_grp_precision_0</th>\n",
       "      <th>perf_grp_precision_1</th>\n",
       "      <th>perf_grp_false positive rate_0</th>\n",
       "      <th>perf_grp_false positive rate_1</th>\n",
       "      <th>perf_grp_false negative rate_0</th>\n",
       "      <th>perf_grp_false negative rate_1</th>\n",
       "      <th>perf_grp_selection rate_0</th>\n",
       "      <th>perf_grp_selection rate_1</th>\n",
       "      <th>perf_grp_count_0</th>\n",
       "      <th>perf_grp_count_1</th>\n",
       "    </tr>\n",
       "  </thead>\n",
       "  <tbody>\n",
       "    <tr>\n",
       "      <th>0</th>\n",
       "      <td>16</td>\n",
       "      <td>a6a023218cc8736e82036206f295d833</td>\n",
       "      <td>{\"cutoff\": \"quantile_0.1\", \"eval_fairness_grou...</td>\n",
       "      <td>23.615484</td>\n",
       "      <td>89710</td>\n",
       "      <td>1.0</td>\n",
       "      <td>0.098850</td>\n",
       "      <td>0.897775</td>\n",
       "      <td>0.089663</td>\n",
       "      <td>0.907482</td>\n",
       "      <td>...</td>\n",
       "      <td>NaN</td>\n",
       "      <td>NaN</td>\n",
       "      <td>NaN</td>\n",
       "      <td>NaN</td>\n",
       "      <td>NaN</td>\n",
       "      <td>NaN</td>\n",
       "      <td>NaN</td>\n",
       "      <td>NaN</td>\n",
       "      <td>NaN</td>\n",
       "      <td>NaN</td>\n",
       "    </tr>\n",
       "    <tr>\n",
       "      <th>0</th>\n",
       "      <td>16</td>\n",
       "      <td>a6a023218cc8736e82036206f295d833</td>\n",
       "      <td>{\"cutoff\": \"quantile_0.1\", \"eval_fairness_grou...</td>\n",
       "      <td>23.615484</td>\n",
       "      <td>89710</td>\n",
       "      <td>1.0</td>\n",
       "      <td>0.098850</td>\n",
       "      <td>0.897775</td>\n",
       "      <td>0.089663</td>\n",
       "      <td>0.907482</td>\n",
       "      <td>...</td>\n",
       "      <td>0.117251</td>\n",
       "      <td>0.143327</td>\n",
       "      <td>0.966982</td>\n",
       "      <td>0.868133</td>\n",
       "      <td>0.014358</td>\n",
       "      <td>0.046061</td>\n",
       "      <td>0.969133</td>\n",
       "      <td>0.879471</td>\n",
       "      <td>20540.0</td>\n",
       "      <td>69170.0</td>\n",
       "    </tr>\n",
       "    <tr>\n",
       "      <th>0</th>\n",
       "      <td>16</td>\n",
       "      <td>a6a023218cc8736e82036206f295d833</td>\n",
       "      <td>{\"cutoff\": \"quantile_0.25\", \"eval_fairness_gro...</td>\n",
       "      <td>23.615484</td>\n",
       "      <td>89710</td>\n",
       "      <td>1.0</td>\n",
       "      <td>0.222746</td>\n",
       "      <td>0.752795</td>\n",
       "      <td>0.204021</td>\n",
       "      <td>0.775135</td>\n",
       "      <td>...</td>\n",
       "      <td>NaN</td>\n",
       "      <td>NaN</td>\n",
       "      <td>NaN</td>\n",
       "      <td>NaN</td>\n",
       "      <td>NaN</td>\n",
       "      <td>NaN</td>\n",
       "      <td>NaN</td>\n",
       "      <td>NaN</td>\n",
       "      <td>NaN</td>\n",
       "      <td>NaN</td>\n",
       "    </tr>\n",
       "    <tr>\n",
       "      <th>0</th>\n",
       "      <td>16</td>\n",
       "      <td>a6a023218cc8736e82036206f295d833</td>\n",
       "      <td>{\"cutoff\": \"quantile_0.25\", \"eval_fairness_gro...</td>\n",
       "      <td>23.615484</td>\n",
       "      <td>89710</td>\n",
       "      <td>1.0</td>\n",
       "      <td>0.222746</td>\n",
       "      <td>0.752795</td>\n",
       "      <td>0.204021</td>\n",
       "      <td>0.775135</td>\n",
       "      <td>...</td>\n",
       "      <td>0.121378</td>\n",
       "      <td>0.162953</td>\n",
       "      <td>0.901057</td>\n",
       "      <td>0.678311</td>\n",
       "      <td>0.044764</td>\n",
       "      <td>0.132713</td>\n",
       "      <td>0.907303</td>\n",
       "      <td>0.703282</td>\n",
       "      <td>20540.0</td>\n",
       "      <td>69170.0</td>\n",
       "    </tr>\n",
       "  </tbody>\n",
       "</table>\n",
       "<p>4 rows × 50 columns</p>\n",
       "</div>"
      ],
      "text/plain": [
       "  run_no                       universe_id  \\\n",
       "0     16  a6a023218cc8736e82036206f295d833   \n",
       "0     16  a6a023218cc8736e82036206f295d833   \n",
       "0     16  a6a023218cc8736e82036206f295d833   \n",
       "0     16  a6a023218cc8736e82036206f295d833   \n",
       "\n",
       "                                   universe_settings  execution_time  \\\n",
       "0  {\"cutoff\": \"quantile_0.1\", \"eval_fairness_grou...       23.615484   \n",
       "0  {\"cutoff\": \"quantile_0.1\", \"eval_fairness_grou...       23.615484   \n",
       "0  {\"cutoff\": \"quantile_0.25\", \"eval_fairness_gro...       23.615484   \n",
       "0  {\"cutoff\": \"quantile_0.25\", \"eval_fairness_gro...       23.615484   \n",
       "\n",
       "   test_size_n  test_size_frac  fair_main_equalized_odds_difference  \\\n",
       "0        89710             1.0                             0.098850   \n",
       "0        89710             1.0                             0.098850   \n",
       "0        89710             1.0                             0.222746   \n",
       "0        89710             1.0                             0.222746   \n",
       "\n",
       "   fair_main_equalized_odds_ratio  fair_main_demographic_parity_difference  \\\n",
       "0                        0.897775                                 0.089663   \n",
       "0                        0.897775                                 0.089663   \n",
       "0                        0.752795                                 0.204021   \n",
       "0                        0.752795                                 0.204021   \n",
       "\n",
       "   fair_main_demographic_parity_ratio  ...  perf_grp_precision_0  \\\n",
       "0                            0.907482  ...                   NaN   \n",
       "0                            0.907482  ...              0.117251   \n",
       "0                            0.775135  ...                   NaN   \n",
       "0                            0.775135  ...              0.121378   \n",
       "\n",
       "   perf_grp_precision_1  perf_grp_false positive rate_0  \\\n",
       "0                   NaN                             NaN   \n",
       "0              0.143327                        0.966982   \n",
       "0                   NaN                             NaN   \n",
       "0              0.162953                        0.901057   \n",
       "\n",
       "   perf_grp_false positive rate_1  perf_grp_false negative rate_0  \\\n",
       "0                             NaN                             NaN   \n",
       "0                        0.868133                        0.014358   \n",
       "0                             NaN                             NaN   \n",
       "0                        0.678311                        0.044764   \n",
       "\n",
       "   perf_grp_false negative rate_1  perf_grp_selection rate_0  \\\n",
       "0                             NaN                        NaN   \n",
       "0                        0.046061                   0.969133   \n",
       "0                             NaN                        NaN   \n",
       "0                        0.132713                   0.907303   \n",
       "\n",
       "   perf_grp_selection rate_1  perf_grp_count_0  perf_grp_count_1  \n",
       "0                        NaN               NaN               NaN  \n",
       "0                   0.879471           20540.0           69170.0  \n",
       "0                        NaN               NaN               NaN  \n",
       "0                   0.703282           20540.0           69170.0  \n",
       "\n",
       "[4 rows x 50 columns]"
      ]
     },
     "execution_count": 66,
     "metadata": {},
     "output_type": "execute_result"
    }
   ],
   "source": [
    "final_output = universe_analysis.generate_final_output(\n",
    "    y_pred_prob=probs_test,\n",
    "    y_test=y_true,\n",
    "    org_test=org_test,\n",
    "    filter_data=filter_sub_universe_data,\n",
    "    cp_metrics_df=cp_metrics_df,\n",
    "    save=True,\n",
    ")\n",
    "final_output"
   ]
  }
 ],
 "metadata": {
  "celltoolbar": "Tags",
  "kernelspec": {
   "display_name": "Python (CMA Fairness)",
   "language": "python",
   "name": "cma_fair_env"
  },
  "language_info": {
   "codemirror_mode": {
    "name": "ipython",
    "version": 3
   },
   "file_extension": ".py",
   "mimetype": "text/x-python",
   "name": "python",
   "nbconvert_exporter": "python",
   "pygments_lexer": "ipython3",
   "version": "3.10.12"
  },
  "papermill": {
   "default_parameters": {},
   "duration": 37.362108,
   "end_time": "2025-08-05T20:59:03.359096",
   "environment_variables": {},
   "exception": null,
   "input_path": "universe_analysis.ipynb",
   "output_path": "output/runs/16/notebooks/m_16-a6a023218cc8736e82036206f295d833.ipynb",
   "parameters": {
    "output_dir": "output",
    "run_no": "16",
    "seed": "2023",
    "universe": "{\"cutoff\": [\"quantile_0.1\", \"quantile_0.25\"], \"eval_fairness_grouping\": [\"majority-minority\", \"nationality-all\"], \"exclude_features\": \"sex\", \"exclude_subgroups\": \"drop-non-german\", \"model\": \"penalized_logreg\", \"scale\": \"do-not-scale\", \"training_size\": \"25k\", \"training_year\": \"2012_14\"}",
    "universe_id": "a6a023218cc8736e82036206f295d833"
   },
   "start_time": "2025-08-05T20:58:25.996988",
   "version": "2.6.0"
  }
 },
 "nbformat": 4,
 "nbformat_minor": 5
}