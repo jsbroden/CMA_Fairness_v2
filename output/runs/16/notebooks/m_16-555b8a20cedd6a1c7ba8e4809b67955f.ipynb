{
 "cells": [
  {
   "cell_type": "code",
   "execution_count": 1,
   "id": "f159f837-637b-42ba-96b5-ec9a68c44524",
   "metadata": {
    "execution": {
     "iopub.execute_input": "2025-08-05T20:54:59.639582Z",
     "iopub.status.busy": "2025-08-05T20:54:59.638818Z",
     "iopub.status.idle": "2025-08-05T20:54:59.652837Z",
     "shell.execute_reply": "2025-08-05T20:54:59.651773Z"
    },
    "papermill": {
     "duration": 0.025911,
     "end_time": "2025-08-05T20:54:59.654667",
     "exception": false,
     "start_time": "2025-08-05T20:54:59.628756",
     "status": "completed"
    },
    "tags": []
   },
   "outputs": [
    {
     "name": "stdout",
     "output_type": "stream",
     "text": [
      "/dss/dsshome1/0C/ra93lal2/cma/CMA_Fairness_v2\n"
     ]
    },
    {
     "name": "stderr",
     "output_type": "stream",
     "text": [
      "/dss/dsshome1/0C/ra93lal2/.local/share/virtualenvs/CMA_Fairness_v2-3j10GkSs/lib/python3.10/site-packages/IPython/core/magics/osm.py:393: UserWarning: This is now an optional IPython functionality, using bookmarks requires you to install the `pickleshare` library.\n",
      "  bkms = self.shell.db.get('bookmarks', {})\n",
      "/dss/dsshome1/0C/ra93lal2/.local/share/virtualenvs/CMA_Fairness_v2-3j10GkSs/lib/python3.10/site-packages/IPython/core/magics/osm.py:417: UserWarning: This is now an optional IPython functionality, setting dhist requires you to install the `pickleshare` library.\n",
      "  self.shell.db['dhist'] = compress_dhist(dhist)[-100:]\n"
     ]
    }
   ],
   "source": [
    "%cd ~/cma/CMA_Fairness_v2"
   ]
  },
  {
   "cell_type": "markdown",
   "id": "de2603b9",
   "metadata": {
    "papermill": {
     "duration": 0.018778,
     "end_time": "2025-08-05T20:54:59.692850",
     "exception": false,
     "start_time": "2025-08-05T20:54:59.674072",
     "status": "completed"
    },
    "tags": []
   },
   "source": [
    "The following cell holds the definition of our parameters, these values can be overriden by rendering the with e.g. the following command:\n",
    "\n",
    "papermill -p alpha 0.2 -p ratio 0.3 universe_analysis.ipynb output/test_run.ipynb"
   ]
  },
  {
   "cell_type": "code",
   "execution_count": 2,
   "id": "a80968a0-40bb-4fa9-85ef-2d5eefb01975",
   "metadata": {
    "execution": {
     "iopub.execute_input": "2025-08-05T20:54:59.733268Z",
     "iopub.status.busy": "2025-08-05T20:54:59.732359Z",
     "iopub.status.idle": "2025-08-05T20:54:59.738685Z",
     "shell.execute_reply": "2025-08-05T20:54:59.737687Z"
    },
    "papermill": {
     "duration": 0.028427,
     "end_time": "2025-08-05T20:54:59.740573",
     "exception": false,
     "start_time": "2025-08-05T20:54:59.712146",
     "status": "completed"
    },
    "tags": []
   },
   "outputs": [
    {
     "name": "stdout",
     "output_type": "stream",
     "text": [
      "Current working directory: /dss/dsshome1/0C/ra93lal2/cma/CMA_Fairness_v2\n"
     ]
    }
   ],
   "source": [
    "import os\n",
    "print(\"Current working directory:\", os.getcwd())"
   ]
  },
  {
   "cell_type": "code",
   "execution_count": 3,
   "id": "2dce4c03",
   "metadata": {
    "execution": {
     "iopub.execute_input": "2025-08-05T20:54:59.782353Z",
     "iopub.status.busy": "2025-08-05T20:54:59.781314Z",
     "iopub.status.idle": "2025-08-05T20:54:59.788176Z",
     "shell.execute_reply": "2025-08-05T20:54:59.787196Z"
    },
    "papermill": {
     "duration": 0.029245,
     "end_time": "2025-08-05T20:54:59.790042",
     "exception": false,
     "start_time": "2025-08-05T20:54:59.760797",
     "status": "completed"
    },
    "tags": [
     "parameters"
    ]
   },
   "outputs": [],
   "source": [
    "run_no = 0\n",
    "universe_id = \"test\"\n",
    "universe = {\n",
    "    \"training_size\": \"25k\", # \"25k\", \"5k\", \"1k\"\n",
    "    \"training_year\": \"2014\", # \"2014\", \"2012_14\", \"2010_14\"\n",
    "    \"scale\": \"scale\", # \"scale\", \"do-not-scale\",\n",
    "    \"model\": \"elasticnet\", # \"logreg\", \"penalized_logreg\", \"rf\", \"gbm\", \"elasticnet\"\n",
    "    \"cutoff\": [\"quantile_0.15\", \"quantile_0.30\"],\n",
    "    \"exclude_features\": \"age\", # \"none\", \"nationality\", \"sex\", \"nationality-sex\", \"age\"\n",
    "    \"exclude_subgroups\": \"keep-all\", # \"keep-all\", \"drop-non-german\"\n",
    "    \"eval_fairness_grouping\": [\"majority-minority\", \"nationality-all\"]\n",
    "}\n",
    "\n",
    "output_dir=\"./output\"\n",
    "seed=0"
   ]
  },
  {
   "cell_type": "code",
   "execution_count": 4,
   "id": "17640fb6",
   "metadata": {
    "execution": {
     "iopub.execute_input": "2025-08-05T20:54:59.827930Z",
     "iopub.status.busy": "2025-08-05T20:54:59.827094Z",
     "iopub.status.idle": "2025-08-05T20:54:59.832376Z",
     "shell.execute_reply": "2025-08-05T20:54:59.831432Z"
    },
    "papermill": {
     "duration": 0.026128,
     "end_time": "2025-08-05T20:54:59.834379",
     "exception": false,
     "start_time": "2025-08-05T20:54:59.808251",
     "status": "completed"
    },
    "tags": [
     "injected-parameters"
    ]
   },
   "outputs": [],
   "source": [
    "# Parameters\n",
    "universe_id = \"555b8a20cedd6a1c7ba8e4809b67955f\"\n",
    "run_no = \"16\"\n",
    "universe = \"{\\\"cutoff\\\": [\\\"quantile_0.1\\\", \\\"quantile_0.25\\\"], \\\"eval_fairness_grouping\\\": [\\\"majority-minority\\\", \\\"nationality-all\\\"], \\\"exclude_features\\\": \\\"none\\\", \\\"exclude_subgroups\\\": \\\"keep-all\\\", \\\"model\\\": \\\"elasticnet\\\", \\\"scale\\\": \\\"scale\\\", \\\"training_size\\\": \\\"25k\\\", \\\"training_year\\\": \\\"2012_14\\\"}\"\n",
    "output_dir = \"output\"\n",
    "seed = \"2023\"\n"
   ]
  },
  {
   "cell_type": "code",
   "execution_count": 5,
   "id": "1650acaf",
   "metadata": {
    "execution": {
     "iopub.execute_input": "2025-08-05T20:54:59.876364Z",
     "iopub.status.busy": "2025-08-05T20:54:59.875690Z",
     "iopub.status.idle": "2025-08-05T20:54:59.880775Z",
     "shell.execute_reply": "2025-08-05T20:54:59.879671Z"
    },
    "papermill": {
     "duration": 0.028152,
     "end_time": "2025-08-05T20:54:59.882584",
     "exception": false,
     "start_time": "2025-08-05T20:54:59.854432",
     "status": "completed"
    },
    "tags": []
   },
   "outputs": [],
   "source": [
    "import json\n",
    "if isinstance(universe, str):\n",
    "    universe = json.loads(universe)"
   ]
  },
  {
   "cell_type": "code",
   "execution_count": 6,
   "id": "16620c48",
   "metadata": {
    "execution": {
     "iopub.execute_input": "2025-08-05T20:54:59.923589Z",
     "iopub.status.busy": "2025-08-05T20:54:59.923121Z",
     "iopub.status.idle": "2025-08-05T20:54:59.968761Z",
     "shell.execute_reply": "2025-08-05T20:54:59.967890Z"
    },
    "papermill": {
     "duration": 0.067562,
     "end_time": "2025-08-05T20:54:59.970529",
     "exception": false,
     "start_time": "2025-08-05T20:54:59.902967",
     "status": "completed"
    },
    "tags": []
   },
   "outputs": [],
   "source": [
    "# Auto-reload the custom package\n",
    "%load_ext autoreload\n",
    "%autoreload 1\n",
    "%aimport fairness_multiverse"
   ]
  },
  {
   "cell_type": "code",
   "execution_count": 7,
   "id": "01c5c9f3",
   "metadata": {
    "execution": {
     "iopub.execute_input": "2025-08-05T20:55:00.009874Z",
     "iopub.status.busy": "2025-08-05T20:55:00.009421Z",
     "iopub.status.idle": "2025-08-05T20:55:01.991970Z",
     "shell.execute_reply": "2025-08-05T20:55:01.990975Z"
    },
    "papermill": {
     "duration": 2.004675,
     "end_time": "2025-08-05T20:55:01.994052",
     "exception": false,
     "start_time": "2025-08-05T20:54:59.989377",
     "status": "completed"
    },
    "tags": []
   },
   "outputs": [],
   "source": [
    "from fairness_multiverse.universe import UniverseAnalysis\n",
    "\n",
    "universe_analysis = UniverseAnalysis(\n",
    "    run_no = run_no,\n",
    "    universe_id = universe_id,\n",
    "    universe = universe,\n",
    "    output_dir=output_dir,\n",
    ")"
   ]
  },
  {
   "cell_type": "code",
   "execution_count": 8,
   "id": "106241f5",
   "metadata": {
    "execution": {
     "iopub.execute_input": "2025-08-05T20:55:02.032068Z",
     "iopub.status.busy": "2025-08-05T20:55:02.031252Z",
     "iopub.status.idle": "2025-08-05T20:55:02.038616Z",
     "shell.execute_reply": "2025-08-05T20:55:02.037445Z"
    },
    "papermill": {
     "duration": 0.025141,
     "end_time": "2025-08-05T20:55:02.040270",
     "exception": false,
     "start_time": "2025-08-05T20:55:02.015129",
     "status": "completed"
    },
    "tags": []
   },
   "outputs": [
    {
     "name": "stdout",
     "output_type": "stream",
     "text": [
      "Using Seed: 2023\n"
     ]
    }
   ],
   "source": [
    "import numpy as np\n",
    "parsed_seed = int(seed)\n",
    "np.random.seed(parsed_seed)\n",
    "print(f\"Using Seed: {parsed_seed}\")"
   ]
  },
  {
   "cell_type": "markdown",
   "id": "e0ebdc57",
   "metadata": {
    "papermill": {
     "duration": 0.016021,
     "end_time": "2025-08-05T20:55:02.072899",
     "exception": false,
     "start_time": "2025-08-05T20:55:02.056878",
     "status": "completed"
    },
    "tags": []
   },
   "source": [
    "# Loading Data"
   ]
  },
  {
   "cell_type": "code",
   "execution_count": 9,
   "id": "f0496b8a",
   "metadata": {
    "execution": {
     "iopub.execute_input": "2025-08-05T20:55:02.093065Z",
     "iopub.status.busy": "2025-08-05T20:55:02.092731Z",
     "iopub.status.idle": "2025-08-05T20:55:12.717412Z",
     "shell.execute_reply": "2025-08-05T20:55:12.716224Z"
    },
    "papermill": {
     "duration": 10.636103,
     "end_time": "2025-08-05T20:55:12.719338",
     "exception": false,
     "start_time": "2025-08-05T20:55:02.083235",
     "status": "completed"
    },
    "tags": []
   },
   "outputs": [
    {
     "name": "stdout",
     "output_type": "stream",
     "text": [
      "Loading SIAB data from cache: data/siab_cached.csv.gz\n"
     ]
    },
    {
     "name": "stdout",
     "output_type": "stream",
     "text": [
      "(643690, 164)\n"
     ]
    }
   ],
   "source": [
    "from pathlib import Path\n",
    "import pandas as pd\n",
    "\n",
    "# File paths\n",
    "raw_file = Path(\"data/raw/siab.csv\")\n",
    "cache_file = Path(\"data/siab_cached.csv.gz\")\n",
    "\n",
    "# Ensure cache directory exists\n",
    "cache_file.parent.mkdir(parents=True, exist_ok=True)\n",
    "\n",
    "# Load with simple caching\n",
    "if cache_file.exists():\n",
    "    print(f\"Loading SIAB data from cache: {cache_file}\")\n",
    "    siab = pd.read_csv(cache_file, compression='gzip')\n",
    "else:\n",
    "    print(f\"Cache not found. Reading raw SIAB data: {raw_file}\")\n",
    "    siab = pd.read_csv(raw_file)\n",
    "    siab.to_csv(cache_file, index=False, compression='gzip')\n",
    "    print(f\"Cached SIAB data to: {cache_file}\")\n",
    "\n",
    "print(siab.shape)"
   ]
  },
  {
   "cell_type": "code",
   "execution_count": 10,
   "id": "db0ca512-5f53-4dba-abdb-a2888bca41ba",
   "metadata": {
    "execution": {
     "iopub.execute_input": "2025-08-05T20:55:12.759815Z",
     "iopub.status.busy": "2025-08-05T20:55:12.759364Z",
     "iopub.status.idle": "2025-08-05T20:55:12.764873Z",
     "shell.execute_reply": "2025-08-05T20:55:12.763887Z"
    },
    "papermill": {
     "duration": 0.026663,
     "end_time": "2025-08-05T20:55:12.766610",
     "exception": false,
     "start_time": "2025-08-05T20:55:12.739947",
     "status": "completed"
    },
    "tags": []
   },
   "outputs": [],
   "source": [
    "#siab"
   ]
  },
  {
   "cell_type": "markdown",
   "id": "997051c5-15bd-4b69-9786-c3001a3ce484",
   "metadata": {
    "papermill": {
     "duration": 0.016039,
     "end_time": "2025-08-05T20:55:12.799497",
     "exception": false,
     "start_time": "2025-08-05T20:55:12.783458",
     "status": "completed"
    },
    "tags": []
   },
   "source": [
    "# Splitting Data and Setting Training Data Size"
   ]
  },
  {
   "cell_type": "code",
   "execution_count": 11,
   "id": "aea9c6ef-6f46-42c8-85eb-5a62025c1508",
   "metadata": {
    "execution": {
     "iopub.execute_input": "2025-08-05T20:55:12.834731Z",
     "iopub.status.busy": "2025-08-05T20:55:12.834197Z",
     "iopub.status.idle": "2025-08-05T20:55:13.522297Z",
     "shell.execute_reply": "2025-08-05T20:55:13.521305Z"
    },
    "papermill": {
     "duration": 0.707396,
     "end_time": "2025-08-05T20:55:13.524249",
     "exception": false,
     "start_time": "2025-08-05T20:55:12.816853",
     "status": "completed"
    },
    "tags": []
   },
   "outputs": [],
   "source": [
    "from fairness_multiverse.universe import sample_by_year_size\n",
    "\n",
    "siab_train = sample_by_year_size(siab,\n",
    "                               training_year=universe[\"training_year\"],\n",
    "                               training_size=universe[\"training_size\"])"
   ]
  },
  {
   "cell_type": "code",
   "execution_count": 12,
   "id": "8d3afb32-789d-442c-8d5d-9f5aa8dd2eed",
   "metadata": {
    "execution": {
     "iopub.execute_input": "2025-08-05T20:55:13.558144Z",
     "iopub.status.busy": "2025-08-05T20:55:13.557334Z",
     "iopub.status.idle": "2025-08-05T20:55:13.562460Z",
     "shell.execute_reply": "2025-08-05T20:55:13.561490Z"
    },
    "papermill": {
     "duration": 0.02349,
     "end_time": "2025-08-05T20:55:13.564191",
     "exception": false,
     "start_time": "2025-08-05T20:55:13.540701",
     "status": "completed"
    },
    "tags": []
   },
   "outputs": [],
   "source": [
    "#siab_train.shape"
   ]
  },
  {
   "cell_type": "code",
   "execution_count": 13,
   "id": "d582db68-1a4c-47fb-84fc-08518dc1975a",
   "metadata": {
    "execution": {
     "iopub.execute_input": "2025-08-05T20:55:13.600965Z",
     "iopub.status.busy": "2025-08-05T20:55:13.600649Z",
     "iopub.status.idle": "2025-08-05T20:55:13.605064Z",
     "shell.execute_reply": "2025-08-05T20:55:13.604175Z"
    },
    "papermill": {
     "duration": 0.02443,
     "end_time": "2025-08-05T20:55:13.606730",
     "exception": false,
     "start_time": "2025-08-05T20:55:13.582300",
     "status": "completed"
    },
    "tags": []
   },
   "outputs": [],
   "source": [
    "#display(siab_train.groupby(\"year\").size())"
   ]
  },
  {
   "cell_type": "code",
   "execution_count": 14,
   "id": "a561edb4-d032-42cb-8256-22eac1111c64",
   "metadata": {
    "execution": {
     "iopub.execute_input": "2025-08-05T20:55:13.643312Z",
     "iopub.status.busy": "2025-08-05T20:55:13.642627Z",
     "iopub.status.idle": "2025-08-05T20:55:13.885281Z",
     "shell.execute_reply": "2025-08-05T20:55:13.884329Z"
    },
    "papermill": {
     "duration": 0.262543,
     "end_time": "2025-08-05T20:55:13.887352",
     "exception": false,
     "start_time": "2025-08-05T20:55:13.624809",
     "status": "completed"
    },
    "tags": []
   },
   "outputs": [],
   "source": [
    "#siab_train = siab_s[siab_s.year < 2015]\n",
    "siab_calib = siab[siab.year == 2015]\n",
    "siab_test = siab[siab.year == 2016]"
   ]
  },
  {
   "cell_type": "code",
   "execution_count": 15,
   "id": "472de16f-c3db-4916-846b-1f0de9cf1746",
   "metadata": {
    "execution": {
     "iopub.execute_input": "2025-08-05T20:55:13.925738Z",
     "iopub.status.busy": "2025-08-05T20:55:13.925061Z",
     "iopub.status.idle": "2025-08-05T20:55:13.940048Z",
     "shell.execute_reply": "2025-08-05T20:55:13.938725Z"
    },
    "papermill": {
     "duration": 0.03649,
     "end_time": "2025-08-05T20:55:13.942122",
     "exception": false,
     "start_time": "2025-08-05T20:55:13.905632",
     "status": "completed"
    },
    "tags": []
   },
   "outputs": [],
   "source": [
    "X_train = siab_train.iloc[:,4:164]\n",
    "y_train = siab_train.iloc[:, [3]]"
   ]
  },
  {
   "cell_type": "code",
   "execution_count": 16,
   "id": "828c96af-f43a-4ed6-ba47-8ac73a47d56c",
   "metadata": {
    "execution": {
     "iopub.execute_input": "2025-08-05T20:55:13.980383Z",
     "iopub.status.busy": "2025-08-05T20:55:13.979740Z",
     "iopub.status.idle": "2025-08-05T20:55:14.031297Z",
     "shell.execute_reply": "2025-08-05T20:55:14.030282Z"
    },
    "papermill": {
     "duration": 0.072004,
     "end_time": "2025-08-05T20:55:14.033207",
     "exception": false,
     "start_time": "2025-08-05T20:55:13.961203",
     "status": "completed"
    },
    "tags": []
   },
   "outputs": [],
   "source": [
    "X_calib = siab_calib.iloc[:,4:164]\n",
    "y_calib = siab_calib.iloc[:, [3]]"
   ]
  },
  {
   "cell_type": "code",
   "execution_count": 17,
   "id": "c34be9c3-6bd6-476e-acd3-845840e303be",
   "metadata": {
    "execution": {
     "iopub.execute_input": "2025-08-05T20:55:14.072255Z",
     "iopub.status.busy": "2025-08-05T20:55:14.071664Z",
     "iopub.status.idle": "2025-08-05T20:55:14.123939Z",
     "shell.execute_reply": "2025-08-05T20:55:14.122863Z"
    },
    "papermill": {
     "duration": 0.07286,
     "end_time": "2025-08-05T20:55:14.125790",
     "exception": false,
     "start_time": "2025-08-05T20:55:14.052930",
     "status": "completed"
    },
    "tags": []
   },
   "outputs": [],
   "source": [
    "X_test = siab_test.iloc[:,4:164]\n",
    "y_true = siab_test.iloc[:, [3]]"
   ]
  },
  {
   "cell_type": "code",
   "execution_count": 18,
   "id": "e6c733c5",
   "metadata": {
    "execution": {
     "iopub.execute_input": "2025-08-05T20:55:14.164020Z",
     "iopub.status.busy": "2025-08-05T20:55:14.163442Z",
     "iopub.status.idle": "2025-08-05T20:55:14.260371Z",
     "shell.execute_reply": "2025-08-05T20:55:14.259351Z"
    },
    "papermill": {
     "duration": 0.117443,
     "end_time": "2025-08-05T20:55:14.262492",
     "exception": false,
     "start_time": "2025-08-05T20:55:14.145049",
     "status": "completed"
    },
    "tags": []
   },
   "outputs": [],
   "source": [
    "# Auxiliary data needed downstream in the pipeline\n",
    "\n",
    "org_train = X_train.copy()\n",
    "org_test = X_test.copy()\n",
    "org_calib = X_calib.copy()"
   ]
  },
  {
   "cell_type": "markdown",
   "id": "0a4a1b33",
   "metadata": {
    "papermill": {
     "duration": 0.017549,
     "end_time": "2025-08-05T20:55:14.298313",
     "exception": false,
     "start_time": "2025-08-05T20:55:14.280764",
     "status": "completed"
    },
    "tags": []
   },
   "source": [
    "# Preprocessing Data"
   ]
  },
  {
   "cell_type": "code",
   "execution_count": 19,
   "id": "ca879031",
   "metadata": {
    "execution": {
     "iopub.execute_input": "2025-08-05T20:55:14.335213Z",
     "iopub.status.busy": "2025-08-05T20:55:14.334566Z",
     "iopub.status.idle": "2025-08-05T20:55:14.340994Z",
     "shell.execute_reply": "2025-08-05T20:55:14.340064Z"
    },
    "papermill": {
     "duration": 0.026652,
     "end_time": "2025-08-05T20:55:14.342606",
     "exception": false,
     "start_time": "2025-08-05T20:55:14.315954",
     "status": "completed"
    },
    "tags": []
   },
   "outputs": [],
   "source": [
    "# EXCLUDE PROTECTED FEATURES\n",
    "# ----------------------\n",
    "# \"exclude_features\": \"none\", # \"nationality\", \"sex\", \"nationality-sex\"\n",
    "\n",
    "excluded_features = universe[\"exclude_features\"].split(\"-\") # split, e.g.: \"nationality-sex\" -> [\"nationality\", \"sex\"]\n",
    "excluded_features_dictionary = {\n",
    "    \"nationality\": [\"maxdeutsch1\", \"maxdeutsch.Missing.\"],\n",
    "    \"sex\": [\"frau1\"],\n",
    "    \"age\": [\"age\"],\n",
    "}"
   ]
  },
  {
   "cell_type": "code",
   "execution_count": 20,
   "id": "b745ac60",
   "metadata": {
    "execution": {
     "iopub.execute_input": "2025-08-05T20:55:14.377773Z",
     "iopub.status.busy": "2025-08-05T20:55:14.377245Z",
     "iopub.status.idle": "2025-08-05T20:55:14.382831Z",
     "shell.execute_reply": "2025-08-05T20:55:14.381807Z"
    },
    "papermill": {
     "duration": 0.024889,
     "end_time": "2025-08-05T20:55:14.384446",
     "exception": false,
     "start_time": "2025-08-05T20:55:14.359557",
     "status": "completed"
    },
    "tags": []
   },
   "outputs": [],
   "source": [
    "# Code nice names to column names\n",
    "\n",
    "excluded_features_columns = [\n",
    "    excluded_features_dictionary[f] for f in excluded_features if len(f) > 0 and f != \"none\"\n",
    "]"
   ]
  },
  {
   "cell_type": "code",
   "execution_count": 21,
   "id": "f84f73a2",
   "metadata": {
    "execution": {
     "iopub.execute_input": "2025-08-05T20:55:14.419605Z",
     "iopub.status.busy": "2025-08-05T20:55:14.418929Z",
     "iopub.status.idle": "2025-08-05T20:55:14.424624Z",
     "shell.execute_reply": "2025-08-05T20:55:14.423764Z"
    },
    "papermill": {
     "duration": 0.02509,
     "end_time": "2025-08-05T20:55:14.426307",
     "exception": false,
     "start_time": "2025-08-05T20:55:14.401217",
     "status": "completed"
    },
    "tags": []
   },
   "outputs": [],
   "source": [
    "from utils import flatten_once\n",
    "\n",
    "excluded_features_columns = flatten_once(excluded_features_columns)"
   ]
  },
  {
   "cell_type": "code",
   "execution_count": 22,
   "id": "884dea22",
   "metadata": {
    "execution": {
     "iopub.execute_input": "2025-08-05T20:55:14.461103Z",
     "iopub.status.busy": "2025-08-05T20:55:14.460393Z",
     "iopub.status.idle": "2025-08-05T20:55:14.465675Z",
     "shell.execute_reply": "2025-08-05T20:55:14.464696Z"
    },
    "papermill": {
     "duration": 0.024022,
     "end_time": "2025-08-05T20:55:14.467145",
     "exception": false,
     "start_time": "2025-08-05T20:55:14.443123",
     "status": "completed"
    },
    "tags": []
   },
   "outputs": [],
   "source": [
    "if len(excluded_features_columns) > 0:\n",
    "    print(f\"Dropping features: {excluded_features_columns}\")\n",
    "    X_train.drop(excluded_features_columns, axis=1, inplace=True)"
   ]
  },
  {
   "cell_type": "code",
   "execution_count": 23,
   "id": "95ab8b16",
   "metadata": {
    "execution": {
     "iopub.execute_input": "2025-08-05T20:55:14.502929Z",
     "iopub.status.busy": "2025-08-05T20:55:14.502331Z",
     "iopub.status.idle": "2025-08-05T20:55:14.507418Z",
     "shell.execute_reply": "2025-08-05T20:55:14.506525Z"
    },
    "papermill": {
     "duration": 0.023957,
     "end_time": "2025-08-05T20:55:14.509107",
     "exception": false,
     "start_time": "2025-08-05T20:55:14.485150",
     "status": "completed"
    },
    "tags": []
   },
   "outputs": [],
   "source": [
    "if len(excluded_features_columns) > 0:\n",
    "    print(f\"Dropping features: {excluded_features_columns}\")\n",
    "    X_test.drop(excluded_features_columns, axis=1, inplace=True)"
   ]
  },
  {
   "cell_type": "code",
   "execution_count": 24,
   "id": "1853aaf5-fb9f-46cb-a2b5-8ea4ae2237e4",
   "metadata": {
    "execution": {
     "iopub.execute_input": "2025-08-05T20:55:14.547470Z",
     "iopub.status.busy": "2025-08-05T20:55:14.546683Z",
     "iopub.status.idle": "2025-08-05T20:55:14.552000Z",
     "shell.execute_reply": "2025-08-05T20:55:14.550980Z"
    },
    "papermill": {
     "duration": 0.025959,
     "end_time": "2025-08-05T20:55:14.553792",
     "exception": false,
     "start_time": "2025-08-05T20:55:14.527833",
     "status": "completed"
    },
    "tags": []
   },
   "outputs": [],
   "source": [
    "if len(excluded_features_columns) > 0:\n",
    "    print(f\"Dropping features: {excluded_features_columns}\")\n",
    "    X_calib.drop(excluded_features_columns, axis=1, inplace=True)"
   ]
  },
  {
   "cell_type": "code",
   "execution_count": 25,
   "id": "76c4dc6d",
   "metadata": {
    "execution": {
     "iopub.execute_input": "2025-08-05T20:55:14.589829Z",
     "iopub.status.busy": "2025-08-05T20:55:14.589190Z",
     "iopub.status.idle": "2025-08-05T20:55:14.594267Z",
     "shell.execute_reply": "2025-08-05T20:55:14.593273Z"
    },
    "papermill": {
     "duration": 0.024326,
     "end_time": "2025-08-05T20:55:14.595868",
     "exception": false,
     "start_time": "2025-08-05T20:55:14.571542",
     "status": "completed"
    },
    "tags": []
   },
   "outputs": [],
   "source": [
    "# EXCLUDE CERTAIN SUBGROUPS\n",
    "# ----------------------\n",
    "\n",
    "mode = universe.get(\"exclude_subgroups\", \"keep-all\") \n",
    "# Fetches the exclude_subgroups setting from the universe dict.\n",
    "# Defaults to \"keep-all\" if the key is missing."
   ]
  },
  {
   "cell_type": "code",
   "execution_count": 26,
   "id": "21994072",
   "metadata": {
    "execution": {
     "iopub.execute_input": "2025-08-05T20:55:14.631923Z",
     "iopub.status.busy": "2025-08-05T20:55:14.631469Z",
     "iopub.status.idle": "2025-08-05T20:55:14.638154Z",
     "shell.execute_reply": "2025-08-05T20:55:14.637153Z"
    },
    "papermill": {
     "duration": 0.026763,
     "end_time": "2025-08-05T20:55:14.639744",
     "exception": false,
     "start_time": "2025-08-05T20:55:14.612981",
     "status": "completed"
    },
    "tags": []
   },
   "outputs": [],
   "source": [
    "if mode == \"keep-all\":\n",
    "    keep_mask = pd.Series(True, index=org_train.index)\n",
    "\n",
    "# org_train contains the original feature columns from features_org (in Simson)\n",
    "# features_org contains unprocessed features, for me X_train at beginning ???\n",
    "# For keep-all, creates a boolean Series (keep_mask) of all True, so no rows are removed.\n",
    "\n",
    "elif mode == \"drop-non-german\":\n",
    "    keep_mask = org_train[\"maxdeutsch1\"] == 1 # ??? what about missing values?\n",
    "\n",
    "else:\n",
    "    raise ValueError(f\"Unsupported mode for exclude_subgroups: {mode}\")"
   ]
  },
  {
   "cell_type": "code",
   "execution_count": 27,
   "id": "71651440",
   "metadata": {
    "execution": {
     "iopub.execute_input": "2025-08-05T20:55:14.674773Z",
     "iopub.status.busy": "2025-08-05T20:55:14.674174Z",
     "iopub.status.idle": "2025-08-05T20:55:14.680581Z",
     "shell.execute_reply": "2025-08-05T20:55:14.679650Z"
    },
    "papermill": {
     "duration": 0.025367,
     "end_time": "2025-08-05T20:55:14.682170",
     "exception": false,
     "start_time": "2025-08-05T20:55:14.656803",
     "status": "completed"
    },
    "tags": []
   },
   "outputs": [],
   "source": [
    "n_drop = (~keep_mask).sum() # Calculates how many rows are set to be dropped\n",
    "if n_drop > 0:\n",
    "    pct = n_drop / len(keep_mask) * 100\n",
    "    print(f\"Dropping {n_drop} rows ({pct:.2f}%) where mode='{mode}'\")"
   ]
  },
  {
   "cell_type": "code",
   "execution_count": 28,
   "id": "5fb8eee5",
   "metadata": {
    "execution": {
     "iopub.execute_input": "2025-08-05T20:55:14.718248Z",
     "iopub.status.busy": "2025-08-05T20:55:14.717732Z",
     "iopub.status.idle": "2025-08-05T20:55:14.744088Z",
     "shell.execute_reply": "2025-08-05T20:55:14.742907Z"
    },
    "papermill": {
     "duration": 0.046617,
     "end_time": "2025-08-05T20:55:14.745727",
     "exception": false,
     "start_time": "2025-08-05T20:55:14.699110",
     "status": "completed"
    },
    "tags": []
   },
   "outputs": [],
   "source": [
    "X_train = X_train[keep_mask]"
   ]
  },
  {
   "cell_type": "code",
   "execution_count": 29,
   "id": "b202bb3a",
   "metadata": {
    "execution": {
     "iopub.execute_input": "2025-08-05T20:55:14.786892Z",
     "iopub.status.busy": "2025-08-05T20:55:14.786609Z",
     "iopub.status.idle": "2025-08-05T20:55:14.792784Z",
     "shell.execute_reply": "2025-08-05T20:55:14.792028Z"
    },
    "papermill": {
     "duration": 0.027806,
     "end_time": "2025-08-05T20:55:14.794229",
     "exception": false,
     "start_time": "2025-08-05T20:55:14.766423",
     "status": "completed"
    },
    "tags": []
   },
   "outputs": [],
   "source": [
    "y_train = y_train[keep_mask]"
   ]
  },
  {
   "cell_type": "markdown",
   "id": "493e2ac3",
   "metadata": {
    "papermill": {
     "duration": 0.010279,
     "end_time": "2025-08-05T20:55:14.816046",
     "exception": false,
     "start_time": "2025-08-05T20:55:14.805767",
     "status": "completed"
    },
    "tags": []
   },
   "source": [
    "# Model Training"
   ]
  },
  {
   "cell_type": "code",
   "execution_count": 30,
   "id": "679e1268",
   "metadata": {
    "execution": {
     "iopub.execute_input": "2025-08-05T20:55:14.836784Z",
     "iopub.status.busy": "2025-08-05T20:55:14.836288Z",
     "iopub.status.idle": "2025-08-05T20:55:14.912558Z",
     "shell.execute_reply": "2025-08-05T20:55:14.911797Z"
    },
    "papermill": {
     "duration": 0.088465,
     "end_time": "2025-08-05T20:55:14.914123",
     "exception": false,
     "start_time": "2025-08-05T20:55:14.825658",
     "status": "completed"
    },
    "tags": []
   },
   "outputs": [],
   "source": [
    "from sklearn.linear_model import LogisticRegression\n",
    "from sklearn.ensemble import GradientBoostingClassifier, RandomForestClassifier\n",
    "\n",
    "if (universe[\"model\"] == \"logreg\"):\n",
    "    model = LogisticRegression() #penalty=\"none\", solver=\"newton-cg\", max_iter=1) # include random_state=19 ?\n",
    "elif (universe[\"model\"] == \"penalized_logreg\"):\n",
    "    model = LogisticRegression(penalty=\"l2\", C=0.1) #, solver=\"newton-cg\", max_iter=1)\n",
    "elif (universe[\"model\"] == \"rf\"):\n",
    "    model = RandomForestClassifier() # n_estimators=100, n_jobs=-1\n",
    "elif (universe[\"model\"] == \"gbm\"):\n",
    "    model = GradientBoostingClassifier()\n",
    "elif (universe[\"model\"] == \"elasticnet\"):\n",
    "    model = LogisticRegression(penalty = 'elasticnet', solver = 'saga', l1_ratio = 0.5) # max_iter=5000\n",
    "else:\n",
    "    raise \"Unsupported universe.model\""
   ]
  },
  {
   "cell_type": "code",
   "execution_count": 31,
   "id": "0cc8f744",
   "metadata": {
    "execution": {
     "iopub.execute_input": "2025-08-05T20:55:14.935869Z",
     "iopub.status.busy": "2025-08-05T20:55:14.935354Z",
     "iopub.status.idle": "2025-08-05T20:55:14.940513Z",
     "shell.execute_reply": "2025-08-05T20:55:14.939569Z"
    },
    "papermill": {
     "duration": 0.017526,
     "end_time": "2025-08-05T20:55:14.941928",
     "exception": false,
     "start_time": "2025-08-05T20:55:14.924402",
     "status": "completed"
    },
    "tags": []
   },
   "outputs": [],
   "source": [
    "import numpy as np\n",
    "from sklearn.pipeline import Pipeline\n",
    "from sklearn.preprocessing import StandardScaler\n",
    "\n",
    "model = Pipeline([\n",
    "    #(\"continuous_processor\", continuous_processor),\n",
    "    #(\"categorical_preprocessor\", categorical_preprocessor),\n",
    "    (\"scale\", StandardScaler() if universe[\"scale\"] == \"scale\" else None), \n",
    "    (\"model\", model),\n",
    "])"
   ]
  },
  {
   "cell_type": "code",
   "execution_count": 32,
   "id": "9442c04d",
   "metadata": {
    "execution": {
     "iopub.execute_input": "2025-08-05T20:55:14.963606Z",
     "iopub.status.busy": "2025-08-05T20:55:14.962961Z",
     "iopub.status.idle": "2025-08-05T20:55:22.701627Z",
     "shell.execute_reply": "2025-08-05T20:55:22.700663Z"
    },
    "papermill": {
     "duration": 7.750305,
     "end_time": "2025-08-05T20:55:22.702879",
     "exception": false,
     "start_time": "2025-08-05T20:55:14.952574",
     "status": "completed"
    },
    "tags": []
   },
   "outputs": [
    {
     "name": "stderr",
     "output_type": "stream",
     "text": [
      "/dss/dsshome1/0C/ra93lal2/.local/share/virtualenvs/CMA_Fairness_v2-3j10GkSs/lib/python3.10/site-packages/sklearn/linear_model/_sag.py:350: ConvergenceWarning: The max_iter was reached which means the coef_ did not converge\n",
      "  warnings.warn(\n"
     ]
    },
    {
     "data": {
      "text/html": [
       "<style>#sk-container-id-1 {color: black;background-color: white;}#sk-container-id-1 pre{padding: 0;}#sk-container-id-1 div.sk-toggleable {background-color: white;}#sk-container-id-1 label.sk-toggleable__label {cursor: pointer;display: block;width: 100%;margin-bottom: 0;padding: 0.3em;box-sizing: border-box;text-align: center;}#sk-container-id-1 label.sk-toggleable__label-arrow:before {content: \"▸\";float: left;margin-right: 0.25em;color: #696969;}#sk-container-id-1 label.sk-toggleable__label-arrow:hover:before {color: black;}#sk-container-id-1 div.sk-estimator:hover label.sk-toggleable__label-arrow:before {color: black;}#sk-container-id-1 div.sk-toggleable__content {max-height: 0;max-width: 0;overflow: hidden;text-align: left;background-color: #f0f8ff;}#sk-container-id-1 div.sk-toggleable__content pre {margin: 0.2em;color: black;border-radius: 0.25em;background-color: #f0f8ff;}#sk-container-id-1 input.sk-toggleable__control:checked~div.sk-toggleable__content {max-height: 200px;max-width: 100%;overflow: auto;}#sk-container-id-1 input.sk-toggleable__control:checked~label.sk-toggleable__label-arrow:before {content: \"▾\";}#sk-container-id-1 div.sk-estimator input.sk-toggleable__control:checked~label.sk-toggleable__label {background-color: #d4ebff;}#sk-container-id-1 div.sk-label input.sk-toggleable__control:checked~label.sk-toggleable__label {background-color: #d4ebff;}#sk-container-id-1 input.sk-hidden--visually {border: 0;clip: rect(1px 1px 1px 1px);clip: rect(1px, 1px, 1px, 1px);height: 1px;margin: -1px;overflow: hidden;padding: 0;position: absolute;width: 1px;}#sk-container-id-1 div.sk-estimator {font-family: monospace;background-color: #f0f8ff;border: 1px dotted black;border-radius: 0.25em;box-sizing: border-box;margin-bottom: 0.5em;}#sk-container-id-1 div.sk-estimator:hover {background-color: #d4ebff;}#sk-container-id-1 div.sk-parallel-item::after {content: \"\";width: 100%;border-bottom: 1px solid gray;flex-grow: 1;}#sk-container-id-1 div.sk-label:hover label.sk-toggleable__label {background-color: #d4ebff;}#sk-container-id-1 div.sk-serial::before {content: \"\";position: absolute;border-left: 1px solid gray;box-sizing: border-box;top: 0;bottom: 0;left: 50%;z-index: 0;}#sk-container-id-1 div.sk-serial {display: flex;flex-direction: column;align-items: center;background-color: white;padding-right: 0.2em;padding-left: 0.2em;position: relative;}#sk-container-id-1 div.sk-item {position: relative;z-index: 1;}#sk-container-id-1 div.sk-parallel {display: flex;align-items: stretch;justify-content: center;background-color: white;position: relative;}#sk-container-id-1 div.sk-item::before, #sk-container-id-1 div.sk-parallel-item::before {content: \"\";position: absolute;border-left: 1px solid gray;box-sizing: border-box;top: 0;bottom: 0;left: 50%;z-index: -1;}#sk-container-id-1 div.sk-parallel-item {display: flex;flex-direction: column;z-index: 1;position: relative;background-color: white;}#sk-container-id-1 div.sk-parallel-item:first-child::after {align-self: flex-end;width: 50%;}#sk-container-id-1 div.sk-parallel-item:last-child::after {align-self: flex-start;width: 50%;}#sk-container-id-1 div.sk-parallel-item:only-child::after {width: 0;}#sk-container-id-1 div.sk-dashed-wrapped {border: 1px dashed gray;margin: 0 0.4em 0.5em 0.4em;box-sizing: border-box;padding-bottom: 0.4em;background-color: white;}#sk-container-id-1 div.sk-label label {font-family: monospace;font-weight: bold;display: inline-block;line-height: 1.2em;}#sk-container-id-1 div.sk-label-container {text-align: center;}#sk-container-id-1 div.sk-container {/* jupyter's `normalize.less` sets `[hidden] { display: none; }` but bootstrap.min.css set `[hidden] { display: none !important; }` so we also need the `!important` here to be able to override the default hidden behavior on the sphinx rendered scikit-learn.org. See: https://github.com/scikit-learn/scikit-learn/issues/21755 */display: inline-block !important;position: relative;}#sk-container-id-1 div.sk-text-repr-fallback {display: none;}</style><div id=\"sk-container-id-1\" class=\"sk-top-container\"><div class=\"sk-text-repr-fallback\"><pre>Pipeline(steps=[(&#x27;scale&#x27;, StandardScaler()),\n",
       "                (&#x27;model&#x27;,\n",
       "                 LogisticRegression(l1_ratio=0.5, penalty=&#x27;elasticnet&#x27;,\n",
       "                                    solver=&#x27;saga&#x27;))])</pre><b>In a Jupyter environment, please rerun this cell to show the HTML representation or trust the notebook. <br />On GitHub, the HTML representation is unable to render, please try loading this page with nbviewer.org.</b></div><div class=\"sk-container\" hidden><div class=\"sk-item sk-dashed-wrapped\"><div class=\"sk-label-container\"><div class=\"sk-label sk-toggleable\"><input class=\"sk-toggleable__control sk-hidden--visually\" id=\"sk-estimator-id-1\" type=\"checkbox\" ><label for=\"sk-estimator-id-1\" class=\"sk-toggleable__label sk-toggleable__label-arrow\">Pipeline</label><div class=\"sk-toggleable__content\"><pre>Pipeline(steps=[(&#x27;scale&#x27;, StandardScaler()),\n",
       "                (&#x27;model&#x27;,\n",
       "                 LogisticRegression(l1_ratio=0.5, penalty=&#x27;elasticnet&#x27;,\n",
       "                                    solver=&#x27;saga&#x27;))])</pre></div></div></div><div class=\"sk-serial\"><div class=\"sk-item\"><div class=\"sk-estimator sk-toggleable\"><input class=\"sk-toggleable__control sk-hidden--visually\" id=\"sk-estimator-id-2\" type=\"checkbox\" ><label for=\"sk-estimator-id-2\" class=\"sk-toggleable__label sk-toggleable__label-arrow\">StandardScaler</label><div class=\"sk-toggleable__content\"><pre>StandardScaler()</pre></div></div></div><div class=\"sk-item\"><div class=\"sk-estimator sk-toggleable\"><input class=\"sk-toggleable__control sk-hidden--visually\" id=\"sk-estimator-id-3\" type=\"checkbox\" ><label for=\"sk-estimator-id-3\" class=\"sk-toggleable__label sk-toggleable__label-arrow\">LogisticRegression</label><div class=\"sk-toggleable__content\"><pre>LogisticRegression(l1_ratio=0.5, penalty=&#x27;elasticnet&#x27;, solver=&#x27;saga&#x27;)</pre></div></div></div></div></div></div></div>"
      ],
      "text/plain": [
       "Pipeline(steps=[('scale', StandardScaler()),\n",
       "                ('model',\n",
       "                 LogisticRegression(l1_ratio=0.5, penalty='elasticnet',\n",
       "                                    solver='saga'))])"
      ]
     },
     "execution_count": 32,
     "metadata": {},
     "output_type": "execute_result"
    }
   ],
   "source": [
    "model.fit(X_train, y_train.values.ravel())"
   ]
  },
  {
   "cell_type": "code",
   "execution_count": 33,
   "id": "af59f8c0",
   "metadata": {
    "execution": {
     "iopub.execute_input": "2025-08-05T20:55:22.727342Z",
     "iopub.status.busy": "2025-08-05T20:55:22.726824Z",
     "iopub.status.idle": "2025-08-05T20:55:22.732942Z",
     "shell.execute_reply": "2025-08-05T20:55:22.731984Z"
    },
    "papermill": {
     "duration": 0.019319,
     "end_time": "2025-08-05T20:55:22.734753",
     "exception": false,
     "start_time": "2025-08-05T20:55:22.715434",
     "status": "completed"
    },
    "tags": []
   },
   "outputs": [],
   "source": [
    "from fairness_multiverse.universe import predict_w_threshold"
   ]
  },
  {
   "cell_type": "code",
   "execution_count": 34,
   "id": "a7cf2e16",
   "metadata": {
    "execution": {
     "iopub.execute_input": "2025-08-05T20:55:22.761776Z",
     "iopub.status.busy": "2025-08-05T20:55:22.760972Z",
     "iopub.status.idle": "2025-08-05T20:55:22.972796Z",
     "shell.execute_reply": "2025-08-05T20:55:22.972010Z"
    },
    "papermill": {
     "duration": 0.225151,
     "end_time": "2025-08-05T20:55:22.974395",
     "exception": false,
     "start_time": "2025-08-05T20:55:22.749244",
     "status": "completed"
    },
    "tags": []
   },
   "outputs": [
    {
     "data": {
      "text/plain": [
       "0.8621781295284806"
      ]
     },
     "execution_count": 34,
     "metadata": {},
     "output_type": "execute_result"
    }
   ],
   "source": [
    "probs_test = model.predict_proba(X_test)\n",
    "\n",
    "'''\n",
    "Below code returns a boolean array (or binary 0/1 array depending on how it’s used) where each element \n",
    "is True if the probability of class 1 is greater than or equal to the threshold, and False otherwise.\n",
    "'''\n",
    "y_pred_default = predict_w_threshold(probs_test, 0.5)\n",
    "\n",
    "from sklearn.metrics import accuracy_score\n",
    "\n",
    "# Naive prediction\n",
    "accuracy_score(y_true = y_true, y_pred = y_pred_default)"
   ]
  },
  {
   "cell_type": "code",
   "execution_count": 35,
   "id": "081964c3",
   "metadata": {
    "execution": {
     "iopub.execute_input": "2025-08-05T20:55:23.014885Z",
     "iopub.status.busy": "2025-08-05T20:55:23.014519Z",
     "iopub.status.idle": "2025-08-05T20:55:23.179409Z",
     "shell.execute_reply": "2025-08-05T20:55:23.178676Z"
    },
    "papermill": {
     "duration": 0.185847,
     "end_time": "2025-08-05T20:55:23.180554",
     "exception": false,
     "start_time": "2025-08-05T20:55:22.994707",
     "status": "completed"
    },
    "tags": []
   },
   "outputs": [
    {
     "data": {
      "text/plain": [
       "array([0, 0, 0, ..., 0, 0, 0])"
      ]
     },
     "execution_count": 35,
     "metadata": {},
     "output_type": "execute_result"
    }
   ],
   "source": [
    "model.predict(X_test)"
   ]
  },
  {
   "cell_type": "markdown",
   "id": "56c9705b",
   "metadata": {
    "papermill": {
     "duration": 0.010512,
     "end_time": "2025-08-05T20:55:23.202072",
     "exception": false,
     "start_time": "2025-08-05T20:55:23.191560",
     "status": "completed"
    },
    "tags": []
   },
   "source": [
    "# Conformal Prediction"
   ]
  },
  {
   "cell_type": "code",
   "execution_count": 36,
   "id": "160ec6ff",
   "metadata": {
    "execution": {
     "iopub.execute_input": "2025-08-05T20:55:23.224179Z",
     "iopub.status.busy": "2025-08-05T20:55:23.223819Z",
     "iopub.status.idle": "2025-08-05T20:55:23.228189Z",
     "shell.execute_reply": "2025-08-05T20:55:23.227334Z"
    },
    "papermill": {
     "duration": 0.017562,
     "end_time": "2025-08-05T20:55:23.230063",
     "exception": false,
     "start_time": "2025-08-05T20:55:23.212501",
     "status": "completed"
    },
    "tags": []
   },
   "outputs": [],
   "source": [
    "# Miscoverage level for conformal prediction (10% allowed error rate => 90% target coverage)\n",
    "alpha = 0.1"
   ]
  },
  {
   "cell_type": "code",
   "execution_count": 37,
   "id": "eadf4555-3dd3-440e-8e35-f82a4ad9f855",
   "metadata": {
    "execution": {
     "iopub.execute_input": "2025-08-05T20:55:23.272246Z",
     "iopub.status.busy": "2025-08-05T20:55:23.272030Z",
     "iopub.status.idle": "2025-08-05T20:55:23.433568Z",
     "shell.execute_reply": "2025-08-05T20:55:23.432722Z"
    },
    "papermill": {
     "duration": 0.184238,
     "end_time": "2025-08-05T20:55:23.435447",
     "exception": false,
     "start_time": "2025-08-05T20:55:23.251209",
     "status": "completed"
    },
    "tags": []
   },
   "outputs": [],
   "source": [
    "probs_calib = model.predict_proba(X_calib)"
   ]
  },
  {
   "cell_type": "code",
   "execution_count": 38,
   "id": "2ed93547-6d5d-4983-9b36-1ecb300da49a",
   "metadata": {
    "execution": {
     "iopub.execute_input": "2025-08-05T20:55:23.479739Z",
     "iopub.status.busy": "2025-08-05T20:55:23.479267Z",
     "iopub.status.idle": "2025-08-05T20:55:23.484885Z",
     "shell.execute_reply": "2025-08-05T20:55:23.483863Z"
    },
    "papermill": {
     "duration": 0.028259,
     "end_time": "2025-08-05T20:55:23.486420",
     "exception": false,
     "start_time": "2025-08-05T20:55:23.458161",
     "status": "completed"
    },
    "tags": []
   },
   "outputs": [],
   "source": [
    "y_calib = y_calib.values.ravel().astype(int)"
   ]
  },
  {
   "cell_type": "code",
   "execution_count": 39,
   "id": "65d1320d-f588-4b38-9072-62af1ae97f7d",
   "metadata": {
    "execution": {
     "iopub.execute_input": "2025-08-05T20:55:23.508872Z",
     "iopub.status.busy": "2025-08-05T20:55:23.508524Z",
     "iopub.status.idle": "2025-08-05T20:55:23.515287Z",
     "shell.execute_reply": "2025-08-05T20:55:23.514320Z"
    },
    "papermill": {
     "duration": 0.019797,
     "end_time": "2025-08-05T20:55:23.517006",
     "exception": false,
     "start_time": "2025-08-05T20:55:23.497209",
     "status": "completed"
    },
    "tags": []
   },
   "outputs": [],
   "source": [
    "from fairness_multiverse.conformal import compute_nc_scores\n",
    "\n",
    "# Compute nonconformity scores on calibration set (1 - probability of true class)\n",
    "nc_scores = compute_nc_scores(probs_calib, y_calib)"
   ]
  },
  {
   "cell_type": "code",
   "execution_count": 40,
   "id": "df3b8ca3-53b7-43d5-9667-7c85da7aeda2",
   "metadata": {
    "execution": {
     "iopub.execute_input": "2025-08-05T20:55:23.559840Z",
     "iopub.status.busy": "2025-08-05T20:55:23.559481Z",
     "iopub.status.idle": "2025-08-05T20:55:23.565367Z",
     "shell.execute_reply": "2025-08-05T20:55:23.564344Z"
    },
    "papermill": {
     "duration": 0.029033,
     "end_time": "2025-08-05T20:55:23.566776",
     "exception": false,
     "start_time": "2025-08-05T20:55:23.537743",
     "status": "completed"
    },
    "tags": []
   },
   "outputs": [],
   "source": [
    "from fairness_multiverse.conformal import find_threshold\n",
    "\n",
    "# Find conformal threshold q_hat for the given alpha (split conformal method)\n",
    "q_hat = find_threshold(nc_scores, alpha)"
   ]
  },
  {
   "cell_type": "code",
   "execution_count": 41,
   "id": "4d29e6c1-0ef6-4aa4-b8fe-4fe79b0d033a",
   "metadata": {
    "execution": {
     "iopub.execute_input": "2025-08-05T20:55:23.588564Z",
     "iopub.status.busy": "2025-08-05T20:55:23.588207Z",
     "iopub.status.idle": "2025-08-05T20:55:23.594093Z",
     "shell.execute_reply": "2025-08-05T20:55:23.593156Z"
    },
    "papermill": {
     "duration": 0.018386,
     "end_time": "2025-08-05T20:55:23.595876",
     "exception": false,
     "start_time": "2025-08-05T20:55:23.577490",
     "status": "completed"
    },
    "tags": []
   },
   "outputs": [
    {
     "data": {
      "text/plain": [
       "0.6640700215429949"
      ]
     },
     "execution_count": 41,
     "metadata": {},
     "output_type": "execute_result"
    }
   ],
   "source": [
    "q_hat"
   ]
  },
  {
   "cell_type": "code",
   "execution_count": 42,
   "id": "92460794-cdac-4be2-ba28-f28c0515a6fb",
   "metadata": {
    "execution": {
     "iopub.execute_input": "2025-08-05T20:55:23.640038Z",
     "iopub.status.busy": "2025-08-05T20:55:23.639639Z",
     "iopub.status.idle": "2025-08-05T20:55:24.214821Z",
     "shell.execute_reply": "2025-08-05T20:55:24.213916Z"
    },
    "papermill": {
     "duration": 0.598666,
     "end_time": "2025-08-05T20:55:24.216633",
     "exception": false,
     "start_time": "2025-08-05T20:55:23.617967",
     "status": "completed"
    },
    "tags": []
   },
   "outputs": [],
   "source": [
    "from fairness_multiverse.conformal import predict_conformal_sets\n",
    "\n",
    "# Generate prediction sets for each test example\n",
    "pred_sets = predict_conformal_sets(model, X_test, q_hat)"
   ]
  },
  {
   "cell_type": "code",
   "execution_count": 43,
   "id": "d90c9a65-e6db-4f5d-80cd-e68fb7e46829",
   "metadata": {
    "execution": {
     "iopub.execute_input": "2025-08-05T20:55:24.259921Z",
     "iopub.status.busy": "2025-08-05T20:55:24.259166Z",
     "iopub.status.idle": "2025-08-05T20:55:24.264454Z",
     "shell.execute_reply": "2025-08-05T20:55:24.263465Z"
    },
    "papermill": {
     "duration": 0.027668,
     "end_time": "2025-08-05T20:55:24.265739",
     "exception": false,
     "start_time": "2025-08-05T20:55:24.238071",
     "status": "completed"
    },
    "tags": []
   },
   "outputs": [],
   "source": [
    "y_true = y_true.squeeze()"
   ]
  },
  {
   "cell_type": "code",
   "execution_count": 44,
   "id": "3a58a54a-1e68-46b9-927a-df01f18aebc8",
   "metadata": {
    "execution": {
     "iopub.execute_input": "2025-08-05T20:55:24.289316Z",
     "iopub.status.busy": "2025-08-05T20:55:24.288688Z",
     "iopub.status.idle": "2025-08-05T20:55:24.909170Z",
     "shell.execute_reply": "2025-08-05T20:55:24.908337Z"
    },
    "papermill": {
     "duration": 0.634208,
     "end_time": "2025-08-05T20:55:24.911180",
     "exception": false,
     "start_time": "2025-08-05T20:55:24.276972",
     "status": "completed"
    },
    "tags": []
   },
   "outputs": [],
   "source": [
    "from fairness_multiverse.conformal import evaluate_sets\n",
    "\n",
    "# Evaluate coverage and average set size on test data\n",
    "metrics = evaluate_sets(pred_sets, y_true)"
   ]
  },
  {
   "cell_type": "markdown",
   "id": "2b569c12-9aaa-4c88-98c9-bbcd0cf3ebb8",
   "metadata": {
    "papermill": {
     "duration": 0.017561,
     "end_time": "2025-08-05T20:55:24.948941",
     "exception": false,
     "start_time": "2025-08-05T20:55:24.931380",
     "status": "completed"
    },
    "tags": []
   },
   "source": [
    "# CP Metrics"
   ]
  },
  {
   "cell_type": "code",
   "execution_count": 45,
   "id": "5ce0a5cb-201f-45a0-ade5-94c7f0bd6095",
   "metadata": {
    "execution": {
     "iopub.execute_input": "2025-08-05T20:55:24.985336Z",
     "iopub.status.busy": "2025-08-05T20:55:24.985047Z",
     "iopub.status.idle": "2025-08-05T20:55:24.991000Z",
     "shell.execute_reply": "2025-08-05T20:55:24.990178Z"
    },
    "papermill": {
     "duration": 0.025626,
     "end_time": "2025-08-05T20:55:24.992323",
     "exception": false,
     "start_time": "2025-08-05T20:55:24.966697",
     "status": "completed"
    },
    "tags": []
   },
   "outputs": [
    {
     "data": {
      "text/plain": [
       "{'coverage': 0.9116597926652548, 'avg_size': 1.1250585219039126}"
      ]
     },
     "execution_count": 45,
     "metadata": {},
     "output_type": "execute_result"
    }
   ],
   "source": [
    "metrics"
   ]
  },
  {
   "cell_type": "code",
   "execution_count": 46,
   "id": "9b9a838d-31c9-430b-ae14-12baee460d17",
   "metadata": {
    "execution": {
     "iopub.execute_input": "2025-08-05T20:55:25.014719Z",
     "iopub.status.busy": "2025-08-05T20:55:25.014405Z",
     "iopub.status.idle": "2025-08-05T20:55:25.020094Z",
     "shell.execute_reply": "2025-08-05T20:55:25.019273Z"
    },
    "papermill": {
     "duration": 0.017801,
     "end_time": "2025-08-05T20:55:25.021204",
     "exception": false,
     "start_time": "2025-08-05T20:55:25.003403",
     "status": "completed"
    },
    "tags": []
   },
   "outputs": [],
   "source": [
    "example_universe = universe.copy()\n",
    "universe_training_year = example_universe.get(\"training_year\")\n",
    "universe_training_size = example_universe.get(\"training_size\")\n",
    "universe_scale = example_universe.get(\"scale\")\n",
    "universe_model = example_universe.get(\"model\")\n",
    "universe_exclude_features = example_universe.get(\"exclude_features\")\n",
    "universe_exclude_subgroups = example_universe.get(\"exclude_subgroups\")"
   ]
  },
  {
   "cell_type": "code",
   "execution_count": 47,
   "id": "f4b6a8ac-9dc0-4245-8a91-5b3b5999c4f9",
   "metadata": {
    "execution": {
     "iopub.execute_input": "2025-08-05T20:55:25.043851Z",
     "iopub.status.busy": "2025-08-05T20:55:25.043532Z",
     "iopub.status.idle": "2025-08-05T20:55:25.048960Z",
     "shell.execute_reply": "2025-08-05T20:55:25.048029Z"
    },
    "papermill": {
     "duration": 0.01848,
     "end_time": "2025-08-05T20:55:25.050692",
     "exception": false,
     "start_time": "2025-08-05T20:55:25.032212",
     "status": "completed"
    },
    "tags": []
   },
   "outputs": [],
   "source": [
    "cp_metrics_dict = {\n",
    "    \"universe_id\": [universe_id],\n",
    "    \"universe_training_year\": [universe_training_year],\n",
    "    \"universe_training_size\": [universe_training_size],\n",
    "    \"universe_scale\": [universe_scale],\n",
    "    \"universe_model\": [universe_model],\n",
    "    \"universe_exclude_features\": [universe_exclude_features],\n",
    "    \"universe_exclude_subgroups\": [universe_exclude_subgroups],\n",
    "    \"q_hat\": [q_hat],\n",
    "    \"coverage\": [metrics[\"coverage\"]],\n",
    "    \"avg_size\": [metrics[\"avg_size\"]],\n",
    "}"
   ]
  },
  {
   "cell_type": "code",
   "execution_count": 48,
   "id": "908acbb1-0371-4915-85ca-3fa520d2efe2",
   "metadata": {
    "execution": {
     "iopub.execute_input": "2025-08-05T20:55:25.095193Z",
     "iopub.status.busy": "2025-08-05T20:55:25.094875Z",
     "iopub.status.idle": "2025-08-05T20:55:25.100827Z",
     "shell.execute_reply": "2025-08-05T20:55:25.100025Z"
    },
    "papermill": {
     "duration": 0.029493,
     "end_time": "2025-08-05T20:55:25.102318",
     "exception": false,
     "start_time": "2025-08-05T20:55:25.072825",
     "status": "completed"
    },
    "tags": []
   },
   "outputs": [
    {
     "data": {
      "text/plain": [
       "{'universe_id': ['555b8a20cedd6a1c7ba8e4809b67955f'],\n",
       " 'universe_training_year': ['2012_14'],\n",
       " 'universe_training_size': ['25k'],\n",
       " 'universe_scale': ['scale'],\n",
       " 'universe_model': ['elasticnet'],\n",
       " 'universe_exclude_features': ['none'],\n",
       " 'universe_exclude_subgroups': ['keep-all'],\n",
       " 'q_hat': [0.6640700215429949],\n",
       " 'coverage': [0.9116597926652548],\n",
       " 'avg_size': [1.1250585219039126]}"
      ]
     },
     "execution_count": 48,
     "metadata": {},
     "output_type": "execute_result"
    }
   ],
   "source": [
    "cp_metrics_dict"
   ]
  },
  {
   "cell_type": "code",
   "execution_count": 49,
   "id": "33007efc-14e9-4ec6-97ac-56a455c82265",
   "metadata": {
    "execution": {
     "iopub.execute_input": "2025-08-05T20:55:25.125183Z",
     "iopub.status.busy": "2025-08-05T20:55:25.124964Z",
     "iopub.status.idle": "2025-08-05T20:55:25.130757Z",
     "shell.execute_reply": "2025-08-05T20:55:25.129924Z"
    },
    "papermill": {
     "duration": 0.018365,
     "end_time": "2025-08-05T20:55:25.132110",
     "exception": false,
     "start_time": "2025-08-05T20:55:25.113745",
     "status": "completed"
    },
    "tags": []
   },
   "outputs": [],
   "source": [
    "cp_metrics_df = pd.DataFrame(cp_metrics_dict)"
   ]
  },
  {
   "cell_type": "code",
   "execution_count": 50,
   "id": "db12611b-57b2-4910-b9d0-355adfd6e7bf",
   "metadata": {
    "execution": {
     "iopub.execute_input": "2025-08-05T20:55:25.167852Z",
     "iopub.status.busy": "2025-08-05T20:55:25.167436Z",
     "iopub.status.idle": "2025-08-05T20:55:25.187591Z",
     "shell.execute_reply": "2025-08-05T20:55:25.186176Z"
    },
    "papermill": {
     "duration": 0.039007,
     "end_time": "2025-08-05T20:55:25.190690",
     "exception": false,
     "start_time": "2025-08-05T20:55:25.151683",
     "status": "completed"
    },
    "tags": []
   },
   "outputs": [
    {
     "data": {
      "text/html": [
       "<div>\n",
       "<style scoped>\n",
       "    .dataframe tbody tr th:only-of-type {\n",
       "        vertical-align: middle;\n",
       "    }\n",
       "\n",
       "    .dataframe tbody tr th {\n",
       "        vertical-align: top;\n",
       "    }\n",
       "\n",
       "    .dataframe thead th {\n",
       "        text-align: right;\n",
       "    }\n",
       "</style>\n",
       "<table border=\"1\" class=\"dataframe\">\n",
       "  <thead>\n",
       "    <tr style=\"text-align: right;\">\n",
       "      <th></th>\n",
       "      <th>universe_id</th>\n",
       "      <th>universe_training_year</th>\n",
       "      <th>universe_training_size</th>\n",
       "      <th>universe_scale</th>\n",
       "      <th>universe_model</th>\n",
       "      <th>universe_exclude_features</th>\n",
       "      <th>universe_exclude_subgroups</th>\n",
       "      <th>q_hat</th>\n",
       "      <th>coverage</th>\n",
       "      <th>avg_size</th>\n",
       "    </tr>\n",
       "  </thead>\n",
       "  <tbody>\n",
       "    <tr>\n",
       "      <th>0</th>\n",
       "      <td>555b8a20cedd6a1c7ba8e4809b67955f</td>\n",
       "      <td>2012_14</td>\n",
       "      <td>25k</td>\n",
       "      <td>scale</td>\n",
       "      <td>elasticnet</td>\n",
       "      <td>none</td>\n",
       "      <td>keep-all</td>\n",
       "      <td>0.66407</td>\n",
       "      <td>0.91166</td>\n",
       "      <td>1.125059</td>\n",
       "    </tr>\n",
       "  </tbody>\n",
       "</table>\n",
       "</div>"
      ],
      "text/plain": [
       "                        universe_id universe_training_year  \\\n",
       "0  555b8a20cedd6a1c7ba8e4809b67955f                2012_14   \n",
       "\n",
       "  universe_training_size universe_scale universe_model  \\\n",
       "0                    25k          scale     elasticnet   \n",
       "\n",
       "  universe_exclude_features universe_exclude_subgroups    q_hat  coverage  \\\n",
       "0                      none                   keep-all  0.66407   0.91166   \n",
       "\n",
       "   avg_size  \n",
       "0  1.125059  "
      ]
     },
     "execution_count": 50,
     "metadata": {},
     "output_type": "execute_result"
    }
   ],
   "source": [
    "cp_metrics_df"
   ]
  },
  {
   "cell_type": "code",
   "execution_count": 51,
   "id": "b7fbde55-a0a1-47e4-9af6-fe4a17fa8c61",
   "metadata": {
    "execution": {
     "iopub.execute_input": "2025-08-05T20:55:25.240553Z",
     "iopub.status.busy": "2025-08-05T20:55:25.240057Z",
     "iopub.status.idle": "2025-08-05T20:55:25.244999Z",
     "shell.execute_reply": "2025-08-05T20:55:25.244150Z"
    },
    "papermill": {
     "duration": 0.031631,
     "end_time": "2025-08-05T20:55:25.246638",
     "exception": false,
     "start_time": "2025-08-05T20:55:25.215007",
     "status": "completed"
    },
    "tags": []
   },
   "outputs": [],
   "source": [
    "# Conditional Coverage & looking at subgroups"
   ]
  },
  {
   "cell_type": "code",
   "execution_count": 52,
   "id": "027ae886-68dd-4141-96c7-805a5450e1ef",
   "metadata": {
    "execution": {
     "iopub.execute_input": "2025-08-05T20:55:25.273570Z",
     "iopub.status.busy": "2025-08-05T20:55:25.273188Z",
     "iopub.status.idle": "2025-08-05T20:55:25.462043Z",
     "shell.execute_reply": "2025-08-05T20:55:25.461138Z"
    },
    "papermill": {
     "duration": 0.20478,
     "end_time": "2025-08-05T20:55:25.464026",
     "exception": false,
     "start_time": "2025-08-05T20:55:25.259246",
     "status": "completed"
    },
    "tags": []
   },
   "outputs": [],
   "source": [
    "from fairness_multiverse.conformal import build_cp_groups\n",
    "\n",
    "cp_groups_df = build_cp_groups(pred_sets, y_true, X_test.index, org_test)\n",
    "#needs universe_id and setting"
   ]
  },
  {
   "cell_type": "code",
   "execution_count": 53,
   "id": "6cbdab96-b2b2-45af-ad54-d0516db2e28d",
   "metadata": {
    "execution": {
     "iopub.execute_input": "2025-08-05T20:55:25.512369Z",
     "iopub.status.busy": "2025-08-05T20:55:25.512027Z",
     "iopub.status.idle": "2025-08-05T20:55:27.489974Z",
     "shell.execute_reply": "2025-08-05T20:55:27.488990Z"
    },
    "papermill": {
     "duration": 2.003605,
     "end_time": "2025-08-05T20:55:27.491741",
     "exception": false,
     "start_time": "2025-08-05T20:55:25.488136",
     "status": "completed"
    },
    "tags": []
   },
   "outputs": [],
   "source": [
    "# Define covered = 1 if true_label is in the predicted set\n",
    "cp_groups_df['covered'] = cp_groups_df.apply(\n",
    "    lambda r: int(r['true_label'] in r['pred_set']),\n",
    "    axis=1\n",
    ")"
   ]
  },
  {
   "cell_type": "code",
   "execution_count": 54,
   "id": "338ff529-1a6b-4b87-a931-8e4788d52aad",
   "metadata": {
    "execution": {
     "iopub.execute_input": "2025-08-05T20:55:27.542051Z",
     "iopub.status.busy": "2025-08-05T20:55:27.541445Z",
     "iopub.status.idle": "2025-08-05T20:55:27.546580Z",
     "shell.execute_reply": "2025-08-05T20:55:27.545597Z"
    },
    "papermill": {
     "duration": 0.031755,
     "end_time": "2025-08-05T20:55:27.548473",
     "exception": false,
     "start_time": "2025-08-05T20:55:27.516718",
     "status": "completed"
    },
    "tags": []
   },
   "outputs": [],
   "source": [
    "#cp_groups_df"
   ]
  },
  {
   "cell_type": "code",
   "execution_count": 55,
   "id": "90032e27-66df-4540-9169-4e89cfbaa758",
   "metadata": {
    "execution": {
     "iopub.execute_input": "2025-08-05T20:55:27.596644Z",
     "iopub.status.busy": "2025-08-05T20:55:27.596348Z",
     "iopub.status.idle": "2025-08-05T20:55:27.607200Z",
     "shell.execute_reply": "2025-08-05T20:55:27.606271Z"
    },
    "papermill": {
     "duration": 0.036458,
     "end_time": "2025-08-05T20:55:27.608895",
     "exception": false,
     "start_time": "2025-08-05T20:55:27.572437",
     "status": "completed"
    },
    "tags": []
   },
   "outputs": [],
   "source": [
    "subgroups = ['frau1','nongerman','nongerman_male','nongerman_female']\n",
    "\n",
    "# Conditional coverage for subgroup==1\n",
    "cond_coverage = {\n",
    "    g: cp_groups_df.loc[cp_groups_df[g]==1, 'covered'].mean()\n",
    "    for g in subgroups\n",
    "}"
   ]
  },
  {
   "cell_type": "code",
   "execution_count": 56,
   "id": "1e348fb1-b9c3-45bc-ba23-f016827a7e0d",
   "metadata": {
    "execution": {
     "iopub.execute_input": "2025-08-05T20:55:27.657930Z",
     "iopub.status.busy": "2025-08-05T20:55:27.657120Z",
     "iopub.status.idle": "2025-08-05T20:55:27.664323Z",
     "shell.execute_reply": "2025-08-05T20:55:27.663308Z"
    },
    "papermill": {
     "duration": 0.033091,
     "end_time": "2025-08-05T20:55:27.666082",
     "exception": false,
     "start_time": "2025-08-05T20:55:27.632991",
     "status": "completed"
    },
    "tags": []
   },
   "outputs": [
    {
     "data": {
      "text/plain": [
       "{'frau1': 0.9097991643078582,\n",
       " 'nongerman': 0.9107393476674339,\n",
       " 'nongerman_male': 0.92704674412321,\n",
       " 'nongerman_female': 0.8837555886736215}"
      ]
     },
     "execution_count": 56,
     "metadata": {},
     "output_type": "execute_result"
    }
   ],
   "source": [
    "cond_coverage"
   ]
  },
  {
   "cell_type": "code",
   "execution_count": 57,
   "id": "f5093324-c3dd-4d63-bc4c-8d945e5c8bbb",
   "metadata": {
    "execution": {
     "iopub.execute_input": "2025-08-05T20:55:27.714607Z",
     "iopub.status.busy": "2025-08-05T20:55:27.713760Z",
     "iopub.status.idle": "2025-08-05T20:55:27.720765Z",
     "shell.execute_reply": "2025-08-05T20:55:27.719783Z"
    },
    "papermill": {
     "duration": 0.033253,
     "end_time": "2025-08-05T20:55:27.722553",
     "exception": false,
     "start_time": "2025-08-05T20:55:27.689300",
     "status": "completed"
    },
    "tags": []
   },
   "outputs": [],
   "source": [
    "for subgroup, cov in cond_coverage.items():\n",
    "    cp_metrics_df[f\"cov_{subgroup}\"] = cov"
   ]
  },
  {
   "cell_type": "code",
   "execution_count": 58,
   "id": "6e872e10-dbe5-49e8-b554-5030c98ff75d",
   "metadata": {
    "execution": {
     "iopub.execute_input": "2025-08-05T20:55:27.769447Z",
     "iopub.status.busy": "2025-08-05T20:55:27.769127Z",
     "iopub.status.idle": "2025-08-05T20:55:27.786919Z",
     "shell.execute_reply": "2025-08-05T20:55:27.785543Z"
    },
    "papermill": {
     "duration": 0.042928,
     "end_time": "2025-08-05T20:55:27.788644",
     "exception": false,
     "start_time": "2025-08-05T20:55:27.745716",
     "status": "completed"
    },
    "tags": []
   },
   "outputs": [
    {
     "data": {
      "text/html": [
       "<div>\n",
       "<style scoped>\n",
       "    .dataframe tbody tr th:only-of-type {\n",
       "        vertical-align: middle;\n",
       "    }\n",
       "\n",
       "    .dataframe tbody tr th {\n",
       "        vertical-align: top;\n",
       "    }\n",
       "\n",
       "    .dataframe thead th {\n",
       "        text-align: right;\n",
       "    }\n",
       "</style>\n",
       "<table border=\"1\" class=\"dataframe\">\n",
       "  <thead>\n",
       "    <tr style=\"text-align: right;\">\n",
       "      <th></th>\n",
       "      <th>universe_id</th>\n",
       "      <th>universe_training_year</th>\n",
       "      <th>universe_training_size</th>\n",
       "      <th>universe_scale</th>\n",
       "      <th>universe_model</th>\n",
       "      <th>universe_exclude_features</th>\n",
       "      <th>universe_exclude_subgroups</th>\n",
       "      <th>q_hat</th>\n",
       "      <th>coverage</th>\n",
       "      <th>avg_size</th>\n",
       "      <th>cov_frau1</th>\n",
       "      <th>cov_nongerman</th>\n",
       "      <th>cov_nongerman_male</th>\n",
       "      <th>cov_nongerman_female</th>\n",
       "    </tr>\n",
       "  </thead>\n",
       "  <tbody>\n",
       "    <tr>\n",
       "      <th>0</th>\n",
       "      <td>555b8a20cedd6a1c7ba8e4809b67955f</td>\n",
       "      <td>2012_14</td>\n",
       "      <td>25k</td>\n",
       "      <td>scale</td>\n",
       "      <td>elasticnet</td>\n",
       "      <td>none</td>\n",
       "      <td>keep-all</td>\n",
       "      <td>0.66407</td>\n",
       "      <td>0.91166</td>\n",
       "      <td>1.125059</td>\n",
       "      <td>0.909799</td>\n",
       "      <td>0.910739</td>\n",
       "      <td>0.927047</td>\n",
       "      <td>0.883756</td>\n",
       "    </tr>\n",
       "  </tbody>\n",
       "</table>\n",
       "</div>"
      ],
      "text/plain": [
       "                        universe_id universe_training_year  \\\n",
       "0  555b8a20cedd6a1c7ba8e4809b67955f                2012_14   \n",
       "\n",
       "  universe_training_size universe_scale universe_model  \\\n",
       "0                    25k          scale     elasticnet   \n",
       "\n",
       "  universe_exclude_features universe_exclude_subgroups    q_hat  coverage  \\\n",
       "0                      none                   keep-all  0.66407   0.91166   \n",
       "\n",
       "   avg_size  cov_frau1  cov_nongerman  cov_nongerman_male  \\\n",
       "0  1.125059   0.909799       0.910739            0.927047   \n",
       "\n",
       "   cov_nongerman_female  \n",
       "0              0.883756  "
      ]
     },
     "execution_count": 58,
     "metadata": {},
     "output_type": "execute_result"
    }
   ],
   "source": [
    "cp_metrics_df"
   ]
  },
  {
   "cell_type": "markdown",
   "id": "33774451",
   "metadata": {
    "papermill": {
     "duration": 0.024163,
     "end_time": "2025-08-05T20:55:27.837924",
     "exception": false,
     "start_time": "2025-08-05T20:55:27.813761",
     "status": "completed"
    },
    "tags": []
   },
   "source": [
    "# (Fairness) Metrics"
   ]
  },
  {
   "cell_type": "code",
   "execution_count": 59,
   "id": "debc5d62",
   "metadata": {
    "execution": {
     "iopub.execute_input": "2025-08-05T20:55:27.870707Z",
     "iopub.status.busy": "2025-08-05T20:55:27.870375Z",
     "iopub.status.idle": "2025-08-05T20:55:27.890739Z",
     "shell.execute_reply": "2025-08-05T20:55:27.889293Z"
    },
    "papermill": {
     "duration": 0.034893,
     "end_time": "2025-08-05T20:55:27.892870",
     "exception": false,
     "start_time": "2025-08-05T20:55:27.857977",
     "status": "completed"
    },
    "tags": []
   },
   "outputs": [],
   "source": [
    "# do I need to include maxdeutsch1.missing?\n",
    "\n",
    "import numpy as np\n",
    "\n",
    "colname_to_bin = \"maxdeutsch1\"\n",
    "majority_value = org_train[colname_to_bin].mode()[0]\n",
    "\n",
    "org_test[\"majmin\"] = np.where(org_test[colname_to_bin] == majority_value, \"majority\", \"minority\")"
   ]
  },
  {
   "cell_type": "code",
   "execution_count": 60,
   "id": "06a50de5",
   "metadata": {
    "execution": {
     "iopub.execute_input": "2025-08-05T20:55:27.944530Z",
     "iopub.status.busy": "2025-08-05T20:55:27.944127Z",
     "iopub.status.idle": "2025-08-05T20:55:30.114027Z",
     "shell.execute_reply": "2025-08-05T20:55:30.112972Z"
    },
    "papermill": {
     "duration": 2.197221,
     "end_time": "2025-08-05T20:55:30.116005",
     "exception": false,
     "start_time": "2025-08-05T20:55:27.918784",
     "status": "completed"
    },
    "tags": []
   },
   "outputs": [],
   "source": [
    "example_universe = universe.copy()\n",
    "example_universe[\"cutoff\"] = example_universe[\"cutoff\"][0]\n",
    "example_universe[\"eval_fairness_grouping\"] = example_universe[\"eval_fairness_grouping\"][0]\n",
    "fairness_dict, metric_frame = universe_analysis.compute_metrics(\n",
    "    example_universe,\n",
    "    y_pred_prob=probs_test,\n",
    "    y_test=y_true,\n",
    "    org_test=org_test,\n",
    ")"
   ]
  },
  {
   "cell_type": "markdown",
   "id": "f95d4e02",
   "metadata": {
    "papermill": {
     "duration": 0.021317,
     "end_time": "2025-08-05T20:55:30.160030",
     "exception": false,
     "start_time": "2025-08-05T20:55:30.138713",
     "status": "completed"
    },
    "tags": []
   },
   "source": [
    "# Overall"
   ]
  },
  {
   "cell_type": "markdown",
   "id": "bdee4871",
   "metadata": {
    "papermill": {
     "duration": 0.021824,
     "end_time": "2025-08-05T20:55:30.204181",
     "exception": false,
     "start_time": "2025-08-05T20:55:30.182357",
     "status": "completed"
    },
    "tags": []
   },
   "source": [
    "Fairness\n",
    "Main fairness target: Equalized Odds. Seems to be a better fit than equal opportunity, since we're not only interested in Y = 1. Seems to be a better fit than demographic parity, since we also care about accuracy, not just equal distribution of preds.\n",
    "\n",
    "Pick column for computation of fairness metrics\n",
    "\n",
    "Performance\n",
    "Overall performance measures, most interesting in relation to the measures split by group below"
   ]
  },
  {
   "cell_type": "code",
   "execution_count": 61,
   "id": "c4e067c6",
   "metadata": {
    "execution": {
     "iopub.execute_input": "2025-08-05T20:55:30.250100Z",
     "iopub.status.busy": "2025-08-05T20:55:30.249390Z",
     "iopub.status.idle": "2025-08-05T20:55:30.259201Z",
     "shell.execute_reply": "2025-08-05T20:55:30.258183Z"
    },
    "papermill": {
     "duration": 0.035486,
     "end_time": "2025-08-05T20:55:30.260983",
     "exception": false,
     "start_time": "2025-08-05T20:55:30.225497",
     "status": "completed"
    },
    "tags": []
   },
   "outputs": [
    {
     "data": {
      "text/plain": [
       "accuracy                   0.225382\n",
       "balanced accuracy          0.550878\n",
       "f1                         0.246686\n",
       "precision                  0.140923\n",
       "false positive rate        0.886947\n",
       "false negative rate        0.011296\n",
       "selection rate             0.900000\n",
       "count                  89710.000000\n",
       "dtype: float64"
      ]
     },
     "execution_count": 61,
     "metadata": {},
     "output_type": "execute_result"
    }
   ],
   "source": [
    "metric_frame.overall"
   ]
  },
  {
   "cell_type": "markdown",
   "id": "e968fe9d",
   "metadata": {
    "papermill": {
     "duration": 0.022422,
     "end_time": "2025-08-05T20:55:30.306415",
     "exception": false,
     "start_time": "2025-08-05T20:55:30.283993",
     "status": "completed"
    },
    "tags": []
   },
   "source": [
    "By Group"
   ]
  },
  {
   "cell_type": "code",
   "execution_count": 62,
   "id": "ec325bce",
   "metadata": {
    "execution": {
     "iopub.execute_input": "2025-08-05T20:55:30.352460Z",
     "iopub.status.busy": "2025-08-05T20:55:30.351611Z",
     "iopub.status.idle": "2025-08-05T20:55:30.367977Z",
     "shell.execute_reply": "2025-08-05T20:55:30.366899Z"
    },
    "papermill": {
     "duration": 0.04089,
     "end_time": "2025-08-05T20:55:30.369918",
     "exception": false,
     "start_time": "2025-08-05T20:55:30.329028",
     "status": "completed"
    },
    "tags": []
   },
   "outputs": [
    {
     "data": {
      "text/html": [
       "<div>\n",
       "<style scoped>\n",
       "    .dataframe tbody tr th:only-of-type {\n",
       "        vertical-align: middle;\n",
       "    }\n",
       "\n",
       "    .dataframe tbody tr th {\n",
       "        vertical-align: top;\n",
       "    }\n",
       "\n",
       "    .dataframe thead th {\n",
       "        text-align: right;\n",
       "    }\n",
       "</style>\n",
       "<table border=\"1\" class=\"dataframe\">\n",
       "  <thead>\n",
       "    <tr style=\"text-align: right;\">\n",
       "      <th></th>\n",
       "      <th>accuracy</th>\n",
       "      <th>balanced accuracy</th>\n",
       "      <th>f1</th>\n",
       "      <th>precision</th>\n",
       "      <th>false positive rate</th>\n",
       "      <th>false negative rate</th>\n",
       "      <th>selection rate</th>\n",
       "      <th>count</th>\n",
       "    </tr>\n",
       "    <tr>\n",
       "      <th>majmin</th>\n",
       "      <th></th>\n",
       "      <th></th>\n",
       "      <th></th>\n",
       "      <th></th>\n",
       "      <th></th>\n",
       "      <th></th>\n",
       "      <th></th>\n",
       "      <th></th>\n",
       "    </tr>\n",
       "  </thead>\n",
       "  <tbody>\n",
       "    <tr>\n",
       "      <th>majority</th>\n",
       "      <td>0.247015</td>\n",
       "      <td>0.560897</td>\n",
       "      <td>0.257386</td>\n",
       "      <td>0.147977</td>\n",
       "      <td>0.865734</td>\n",
       "      <td>0.012473</td>\n",
       "      <td>0.881827</td>\n",
       "      <td>69170.0</td>\n",
       "    </tr>\n",
       "    <tr>\n",
       "      <th>minority</th>\n",
       "      <td>0.152532</td>\n",
       "      <td>0.518111</td>\n",
       "      <td>0.212745</td>\n",
       "      <td>0.119131</td>\n",
       "      <td>0.957022</td>\n",
       "      <td>0.006757</td>\n",
       "      <td>0.961198</td>\n",
       "      <td>20540.0</td>\n",
       "    </tr>\n",
       "  </tbody>\n",
       "</table>\n",
       "</div>"
      ],
      "text/plain": [
       "          accuracy  balanced accuracy        f1  precision  \\\n",
       "majmin                                                       \n",
       "majority  0.247015           0.560897  0.257386   0.147977   \n",
       "minority  0.152532           0.518111  0.212745   0.119131   \n",
       "\n",
       "          false positive rate  false negative rate  selection rate    count  \n",
       "majmin                                                                       \n",
       "majority             0.865734             0.012473        0.881827  69170.0  \n",
       "minority             0.957022             0.006757        0.961198  20540.0  "
      ]
     },
     "execution_count": 62,
     "metadata": {},
     "output_type": "execute_result"
    }
   ],
   "source": [
    "metric_frame.by_group"
   ]
  },
  {
   "cell_type": "code",
   "execution_count": 63,
   "id": "a9ddbe63",
   "metadata": {
    "execution": {
     "iopub.execute_input": "2025-08-05T20:55:30.425353Z",
     "iopub.status.busy": "2025-08-05T20:55:30.424603Z",
     "iopub.status.idle": "2025-08-05T20:55:32.829881Z",
     "shell.execute_reply": "2025-08-05T20:55:32.828808Z"
    },
    "papermill": {
     "duration": 2.434342,
     "end_time": "2025-08-05T20:55:32.831654",
     "exception": false,
     "start_time": "2025-08-05T20:55:30.397312",
     "status": "completed"
    },
    "tags": []
   },
   "outputs": [
    {
     "data": {
      "text/plain": [
       "array([[<Axes: title={'center': 'accuracy'}, xlabel='majmin'>,\n",
       "        <Axes: title={'center': 'balanced accuracy'}, xlabel='majmin'>,\n",
       "        <Axes: title={'center': 'f1'}, xlabel='majmin'>],\n",
       "       [<Axes: title={'center': 'precision'}, xlabel='majmin'>,\n",
       "        <Axes: title={'center': 'false positive rate'}, xlabel='majmin'>,\n",
       "        <Axes: title={'center': 'false negative rate'}, xlabel='majmin'>],\n",
       "       [<Axes: title={'center': 'selection rate'}, xlabel='majmin'>,\n",
       "        <Axes: title={'center': 'count'}, xlabel='majmin'>,\n",
       "        <Axes: xlabel='majmin'>]], dtype=object)"
      ]
     },
     "execution_count": 63,
     "metadata": {},
     "output_type": "execute_result"
    },
    {
     "data": {
      "image/png": "[encoded data removed]",
      "text/plain": [
       "<Figure size 1200x800 with 9 Axes>"
      ]
     },
     "metadata": {},
     "output_type": "display_data"
    }
   ],
   "source": [
    "# In a graphic\n",
    "metric_frame.by_group.plot.bar(\n",
    "    subplots=True,\n",
    "    layout=[3, 3],\n",
    "    legend=False,\n",
    "    figsize=[12, 8],\n",
    "    title=\"Show all metrics\",\n",
    ")"
   ]
  },
  {
   "cell_type": "markdown",
   "id": "f57a0bac",
   "metadata": {
    "papermill": {
     "duration": 0.024132,
     "end_time": "2025-08-05T20:55:32.886130",
     "exception": false,
     "start_time": "2025-08-05T20:55:32.861998",
     "status": "completed"
    },
    "tags": []
   },
   "source": [
    "# Final Output"
   ]
  },
  {
   "cell_type": "code",
   "execution_count": 64,
   "id": "96d280a3",
   "metadata": {
    "execution": {
     "iopub.execute_input": "2025-08-05T20:55:32.936255Z",
     "iopub.status.busy": "2025-08-05T20:55:32.935563Z",
     "iopub.status.idle": "2025-08-05T20:55:32.944262Z",
     "shell.execute_reply": "2025-08-05T20:55:32.943309Z"
    },
    "papermill": {
     "duration": 0.035501,
     "end_time": "2025-08-05T20:55:32.945967",
     "exception": false,
     "start_time": "2025-08-05T20:55:32.910466",
     "status": "completed"
    },
    "tags": []
   },
   "outputs": [
    {
     "data": {
      "text/plain": [
       "4"
      ]
     },
     "execution_count": 64,
     "metadata": {},
     "output_type": "execute_result"
    }
   ],
   "source": [
    "sub_universes = universe_analysis.generate_sub_universes()\n",
    "len(sub_universes)"
   ]
  },
  {
   "cell_type": "code",
   "execution_count": 65,
   "id": "92adf7ba",
   "metadata": {
    "execution": {
     "iopub.execute_input": "2025-08-05T20:55:32.997720Z",
     "iopub.status.busy": "2025-08-05T20:55:32.996948Z",
     "iopub.status.idle": "2025-08-05T20:55:33.003491Z",
     "shell.execute_reply": "2025-08-05T20:55:33.002513Z"
    },
    "papermill": {
     "duration": 0.034529,
     "end_time": "2025-08-05T20:55:33.005207",
     "exception": false,
     "start_time": "2025-08-05T20:55:32.970678",
     "status": "completed"
    },
    "tags": []
   },
   "outputs": [],
   "source": [
    "def filter_sub_universe_data(sub_universe, org_test):\n",
    "    # Keep all rows — no filtering\n",
    "    keep_rows_mask = np.ones(org_test.shape[0], dtype=bool)\n",
    "\n",
    "    print(f\"[INFO] Keeping all rows: {keep_rows_mask.sum()} rows retained.\")\n",
    "    return keep_rows_mask"
   ]
  },
  {
   "cell_type": "code",
   "execution_count": 66,
   "id": "4a759155",
   "metadata": {
    "execution": {
     "iopub.execute_input": "2025-08-05T20:55:33.058075Z",
     "iopub.status.busy": "2025-08-05T20:55:33.057169Z",
     "iopub.status.idle": "2025-08-05T20:55:42.245041Z",
     "shell.execute_reply": "2025-08-05T20:55:42.244269Z"
    },
    "papermill": {
     "duration": 9.21527,
     "end_time": "2025-08-05T20:55:42.246449",
     "exception": false,
     "start_time": "2025-08-05T20:55:33.031179",
     "status": "completed"
    },
    "tags": []
   },
   "outputs": [
    {
     "name": "stdout",
     "output_type": "stream",
     "text": [
      "Stopping execution_time clock.\n",
      "[INFO] Keeping all rows: 89710 rows retained.\n"
     ]
    },
    {
     "name": "stdout",
     "output_type": "stream",
     "text": [
      "[INFO] Keeping all rows: 89710 rows retained.\n"
     ]
    },
    {
     "name": "stdout",
     "output_type": "stream",
     "text": [
      "[INFO] Keeping all rows: 89710 rows retained.\n"
     ]
    },
    {
     "name": "stdout",
     "output_type": "stream",
     "text": [
      "[INFO] Keeping all rows: 89710 rows retained.\n"
     ]
    },
    {
     "data": {
      "text/html": [
       "<div>\n",
       "<style scoped>\n",
       "    .dataframe tbody tr th:only-of-type {\n",
       "        vertical-align: middle;\n",
       "    }\n",
       "\n",
       "    .dataframe tbody tr th {\n",
       "        vertical-align: top;\n",
       "    }\n",
       "\n",
       "    .dataframe thead th {\n",
       "        text-align: right;\n",
       "    }\n",
       "</style>\n",
       "<table border=\"1\" class=\"dataframe\">\n",
       "  <thead>\n",
       "    <tr style=\"text-align: right;\">\n",
       "      <th></th>\n",
       "      <th>run_no</th>\n",
       "      <th>universe_id</th>\n",
       "      <th>universe_settings</th>\n",
       "      <th>execution_time</th>\n",
       "      <th>test_size_n</th>\n",
       "      <th>test_size_frac</th>\n",
       "      <th>fair_main_equalized_odds_difference</th>\n",
       "      <th>fair_main_equalized_odds_ratio</th>\n",
       "      <th>fair_main_demographic_parity_difference</th>\n",
       "      <th>fair_main_demographic_parity_ratio</th>\n",
       "      <th>...</th>\n",
       "      <th>perf_grp_precision_0</th>\n",
       "      <th>perf_grp_precision_1</th>\n",
       "      <th>perf_grp_false positive rate_0</th>\n",
       "      <th>perf_grp_false positive rate_1</th>\n",
       "      <th>perf_grp_false negative rate_0</th>\n",
       "      <th>perf_grp_false negative rate_1</th>\n",
       "      <th>perf_grp_selection rate_0</th>\n",
       "      <th>perf_grp_selection rate_1</th>\n",
       "      <th>perf_grp_count_0</th>\n",
       "      <th>perf_grp_count_1</th>\n",
       "    </tr>\n",
       "  </thead>\n",
       "  <tbody>\n",
       "    <tr>\n",
       "      <th>0</th>\n",
       "      <td>16</td>\n",
       "      <td>555b8a20cedd6a1c7ba8e4809b67955f</td>\n",
       "      <td>{\"cutoff\": \"quantile_0.1\", \"eval_fairness_grou...</td>\n",
       "      <td>31.124504</td>\n",
       "      <td>89710</td>\n",
       "      <td>1.0</td>\n",
       "      <td>0.091288</td>\n",
       "      <td>0.904612</td>\n",
       "      <td>0.079370</td>\n",
       "      <td>0.917426</td>\n",
       "      <td>...</td>\n",
       "      <td>NaN</td>\n",
       "      <td>NaN</td>\n",
       "      <td>NaN</td>\n",
       "      <td>NaN</td>\n",
       "      <td>NaN</td>\n",
       "      <td>NaN</td>\n",
       "      <td>NaN</td>\n",
       "      <td>NaN</td>\n",
       "      <td>NaN</td>\n",
       "      <td>NaN</td>\n",
       "    </tr>\n",
       "    <tr>\n",
       "      <th>0</th>\n",
       "      <td>16</td>\n",
       "      <td>555b8a20cedd6a1c7ba8e4809b67955f</td>\n",
       "      <td>{\"cutoff\": \"quantile_0.1\", \"eval_fairness_grou...</td>\n",
       "      <td>31.124504</td>\n",
       "      <td>89710</td>\n",
       "      <td>1.0</td>\n",
       "      <td>0.091288</td>\n",
       "      <td>0.904612</td>\n",
       "      <td>0.079370</td>\n",
       "      <td>0.917426</td>\n",
       "      <td>...</td>\n",
       "      <td>0.119131</td>\n",
       "      <td>0.147977</td>\n",
       "      <td>0.957022</td>\n",
       "      <td>0.865734</td>\n",
       "      <td>0.006757</td>\n",
       "      <td>0.012473</td>\n",
       "      <td>0.961198</td>\n",
       "      <td>0.881827</td>\n",
       "      <td>20540.0</td>\n",
       "      <td>69170.0</td>\n",
       "    </tr>\n",
       "    <tr>\n",
       "      <th>0</th>\n",
       "      <td>16</td>\n",
       "      <td>555b8a20cedd6a1c7ba8e4809b67955f</td>\n",
       "      <td>{\"cutoff\": \"quantile_0.25\", \"eval_fairness_gro...</td>\n",
       "      <td>31.124504</td>\n",
       "      <td>89710</td>\n",
       "      <td>1.0</td>\n",
       "      <td>0.158992</td>\n",
       "      <td>0.811275</td>\n",
       "      <td>0.137658</td>\n",
       "      <td>0.839210</td>\n",
       "      <td>...</td>\n",
       "      <td>NaN</td>\n",
       "      <td>NaN</td>\n",
       "      <td>NaN</td>\n",
       "      <td>NaN</td>\n",
       "      <td>NaN</td>\n",
       "      <td>NaN</td>\n",
       "      <td>NaN</td>\n",
       "      <td>NaN</td>\n",
       "      <td>NaN</td>\n",
       "      <td>NaN</td>\n",
       "    </tr>\n",
       "    <tr>\n",
       "      <th>0</th>\n",
       "      <td>16</td>\n",
       "      <td>555b8a20cedd6a1c7ba8e4809b67955f</td>\n",
       "      <td>{\"cutoff\": \"quantile_0.25\", \"eval_fairness_gro...</td>\n",
       "      <td>31.124504</td>\n",
       "      <td>89710</td>\n",
       "      <td>1.0</td>\n",
       "      <td>0.158992</td>\n",
       "      <td>0.811275</td>\n",
       "      <td>0.137658</td>\n",
       "      <td>0.839210</td>\n",
       "      <td>...</td>\n",
       "      <td>0.129428</td>\n",
       "      <td>0.174437</td>\n",
       "      <td>0.842450</td>\n",
       "      <td>0.683458</td>\n",
       "      <td>0.038851</td>\n",
       "      <td>0.051532</td>\n",
       "      <td>0.856134</td>\n",
       "      <td>0.718476</td>\n",
       "      <td>20540.0</td>\n",
       "      <td>69170.0</td>\n",
       "    </tr>\n",
       "  </tbody>\n",
       "</table>\n",
       "<p>4 rows × 50 columns</p>\n",
       "</div>"
      ],
      "text/plain": [
       "  run_no                       universe_id  \\\n",
       "0     16  555b8a20cedd6a1c7ba8e4809b67955f   \n",
       "0     16  555b8a20cedd6a1c7ba8e4809b67955f   \n",
       "0     16  555b8a20cedd6a1c7ba8e4809b67955f   \n",
       "0     16  555b8a20cedd6a1c7ba8e4809b67955f   \n",
       "\n",
       "                                   universe_settings  execution_time  \\\n",
       "0  {\"cutoff\": \"quantile_0.1\", \"eval_fairness_grou...       31.124504   \n",
       "0  {\"cutoff\": \"quantile_0.1\", \"eval_fairness_grou...       31.124504   \n",
       "0  {\"cutoff\": \"quantile_0.25\", \"eval_fairness_gro...       31.124504   \n",
       "0  {\"cutoff\": \"quantile_0.25\", \"eval_fairness_gro...       31.124504   \n",
       "\n",
       "   test_size_n  test_size_frac  fair_main_equalized_odds_difference  \\\n",
       "0        89710             1.0                             0.091288   \n",
       "0        89710             1.0                             0.091288   \n",
       "0        89710             1.0                             0.158992   \n",
       "0        89710             1.0                             0.158992   \n",
       "\n",
       "   fair_main_equalized_odds_ratio  fair_main_demographic_parity_difference  \\\n",
       "0                        0.904612                                 0.079370   \n",
       "0                        0.904612                                 0.079370   \n",
       "0                        0.811275                                 0.137658   \n",
       "0                        0.811275                                 0.137658   \n",
       "\n",
       "   fair_main_demographic_parity_ratio  ...  perf_grp_precision_0  \\\n",
       "0                            0.917426  ...                   NaN   \n",
       "0                            0.917426  ...              0.119131   \n",
       "0                            0.839210  ...                   NaN   \n",
       "0                            0.839210  ...              0.129428   \n",
       "\n",
       "   perf_grp_precision_1  perf_grp_false positive rate_0  \\\n",
       "0                   NaN                             NaN   \n",
       "0              0.147977                        0.957022   \n",
       "0                   NaN                             NaN   \n",
       "0              0.174437                        0.842450   \n",
       "\n",
       "   perf_grp_false positive rate_1  perf_grp_false negative rate_0  \\\n",
       "0                             NaN                             NaN   \n",
       "0                        0.865734                        0.006757   \n",
       "0                             NaN                             NaN   \n",
       "0                        0.683458                        0.038851   \n",
       "\n",
       "   perf_grp_false negative rate_1  perf_grp_selection rate_0  \\\n",
       "0                             NaN                        NaN   \n",
       "0                        0.012473                   0.961198   \n",
       "0                             NaN                        NaN   \n",
       "0                        0.051532                   0.856134   \n",
       "\n",
       "   perf_grp_selection rate_1  perf_grp_count_0  perf_grp_count_1  \n",
       "0                        NaN               NaN               NaN  \n",
       "0                   0.881827           20540.0           69170.0  \n",
       "0                        NaN               NaN               NaN  \n",
       "0                   0.718476           20540.0           69170.0  \n",
       "\n",
       "[4 rows x 50 columns]"
      ]
     },
     "execution_count": 66,
     "metadata": {},
     "output_type": "execute_result"
    }
   ],
   "source": [
    "final_output = universe_analysis.generate_final_output(\n",
    "    y_pred_prob=probs_test,\n",
    "    y_test=y_true,\n",
    "    org_test=org_test,\n",
    "    filter_data=filter_sub_universe_data,\n",
    "    cp_metrics_df=cp_metrics_df,\n",
    "    save=True,\n",
    ")\n",
    "final_output"
   ]
  }
 ],
 "metadata": {
  "celltoolbar": "Tags",
  "kernelspec": {
   "display_name": "Python (CMA Fairness)",
   "language": "python",
   "name": "cma_fair_env"
  },
  "language_info": {
   "codemirror_mode": {
    "name": "ipython",
    "version": 3
   },
   "file_extension": ".py",
   "mimetype": "text/x-python",
   "name": "python",
   "nbconvert_exporter": "python",
   "pygments_lexer": "ipython3",
   "version": "3.10.12"
  },
  "papermill": {
   "default_parameters": {},
   "duration": 44.429809,
   "end_time": "2025-08-05T20:55:42.881669",
   "environment_variables": {},
   "exception": null,
   "input_path": "universe_analysis.ipynb",
   "output_path": "output/runs/16/notebooks/m_16-555b8a20cedd6a1c7ba8e4809b67955f.ipynb",
   "parameters": {
    "output_dir": "output",
    "run_no": "16",
    "seed": "2023",
    "universe": "{\"cutoff\": [\"quantile_0.1\", \"quantile_0.25\"], \"eval_fairness_grouping\": [\"majority-minority\", \"nationality-all\"], \"exclude_features\": \"none\", \"exclude_subgroups\": \"keep-all\", \"model\": \"elasticnet\", \"scale\": \"scale\", \"training_size\": \"25k\", \"training_year\": \"2012_14\"}",
    "universe_id": "555b8a20cedd6a1c7ba8e4809b67955f"
   },
   "start_time": "2025-08-05T20:54:58.451860",
   "version": "2.6.0"
  }
 },
 "nbformat": 4,
 "nbformat_minor": 5
}