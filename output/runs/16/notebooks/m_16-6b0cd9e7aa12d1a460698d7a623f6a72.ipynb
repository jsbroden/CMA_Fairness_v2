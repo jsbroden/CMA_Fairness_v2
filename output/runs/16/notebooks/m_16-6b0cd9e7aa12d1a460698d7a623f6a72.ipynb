{
 "cells": [
  {
   "cell_type": "code",
   "execution_count": 1,
   "id": "f159f837-637b-42ba-96b5-ec9a68c44524",
   "metadata": {
    "execution": {
     "iopub.execute_input": "2025-08-05T20:47:20.150512Z",
     "iopub.status.busy": "2025-08-05T20:47:20.149705Z",
     "iopub.status.idle": "2025-08-05T20:47:20.166217Z",
     "shell.execute_reply": "2025-08-05T20:47:20.164967Z"
    },
    "papermill": {
     "duration": 0.037543,
     "end_time": "2025-08-05T20:47:20.168151",
     "exception": false,
     "start_time": "2025-08-05T20:47:20.130608",
     "status": "completed"
    },
    "tags": []
   },
   "outputs": [
    {
     "name": "stdout",
     "output_type": "stream",
     "text": [
      "/dss/dsshome1/0C/ra93lal2/cma/CMA_Fairness_v2\n"
     ]
    },
    {
     "name": "stderr",
     "output_type": "stream",
     "text": [
      "/dss/dsshome1/0C/ra93lal2/.local/share/virtualenvs/CMA_Fairness_v2-3j10GkSs/lib/python3.10/site-packages/IPython/core/magics/osm.py:393: UserWarning: This is now an optional IPython functionality, using bookmarks requires you to install the `pickleshare` library.\n",
      "  bkms = self.shell.db.get('bookmarks', {})\n",
      "/dss/dsshome1/0C/ra93lal2/.local/share/virtualenvs/CMA_Fairness_v2-3j10GkSs/lib/python3.10/site-packages/IPython/core/magics/osm.py:417: UserWarning: This is now an optional IPython functionality, setting dhist requires you to install the `pickleshare` library.\n",
      "  self.shell.db['dhist'] = compress_dhist(dhist)[-100:]\n"
     ]
    }
   ],
   "source": [
    "%cd ~/cma/CMA_Fairness_v2"
   ]
  },
  {
   "cell_type": "markdown",
   "id": "de2603b9",
   "metadata": {
    "papermill": {
     "duration": 0.016195,
     "end_time": "2025-08-05T20:47:20.201844",
     "exception": false,
     "start_time": "2025-08-05T20:47:20.185649",
     "status": "completed"
    },
    "tags": []
   },
   "source": [
    "The following cell holds the definition of our parameters, these values can be overriden by rendering the with e.g. the following command:\n",
    "\n",
    "papermill -p alpha 0.2 -p ratio 0.3 universe_analysis.ipynb output/test_run.ipynb"
   ]
  },
  {
   "cell_type": "code",
   "execution_count": 2,
   "id": "a80968a0-40bb-4fa9-85ef-2d5eefb01975",
   "metadata": {
    "execution": {
     "iopub.execute_input": "2025-08-05T20:47:20.235398Z",
     "iopub.status.busy": "2025-08-05T20:47:20.234675Z",
     "iopub.status.idle": "2025-08-05T20:47:20.242238Z",
     "shell.execute_reply": "2025-08-05T20:47:20.241024Z"
    },
    "papermill": {
     "duration": 0.026465,
     "end_time": "2025-08-05T20:47:20.244174",
     "exception": false,
     "start_time": "2025-08-05T20:47:20.217709",
     "status": "completed"
    },
    "tags": []
   },
   "outputs": [
    {
     "name": "stdout",
     "output_type": "stream",
     "text": [
      "Current working directory: /dss/dsshome1/0C/ra93lal2/cma/CMA_Fairness_v2\n"
     ]
    }
   ],
   "source": [
    "import os\n",
    "print(\"Current working directory:\", os.getcwd())"
   ]
  },
  {
   "cell_type": "code",
   "execution_count": 3,
   "id": "2dce4c03",
   "metadata": {
    "execution": {
     "iopub.execute_input": "2025-08-05T20:47:20.280214Z",
     "iopub.status.busy": "2025-08-05T20:47:20.279312Z",
     "iopub.status.idle": "2025-08-05T20:47:20.286289Z",
     "shell.execute_reply": "2025-08-05T20:47:20.285117Z"
    },
    "papermill": {
     "duration": 0.026605,
     "end_time": "2025-08-05T20:47:20.288180",
     "exception": false,
     "start_time": "2025-08-05T20:47:20.261575",
     "status": "completed"
    },
    "tags": [
     "parameters"
    ]
   },
   "outputs": [],
   "source": [
    "run_no = 0\n",
    "universe_id = \"test\"\n",
    "universe = {\n",
    "    \"training_size\": \"25k\", # \"25k\", \"5k\", \"1k\"\n",
    "    \"training_year\": \"2014\", # \"2014\", \"2012_14\", \"2010_14\"\n",
    "    \"scale\": \"scale\", # \"scale\", \"do-not-scale\",\n",
    "    \"model\": \"elasticnet\", # \"logreg\", \"penalized_logreg\", \"rf\", \"gbm\", \"elasticnet\"\n",
    "    \"cutoff\": [\"quantile_0.15\", \"quantile_0.30\"],\n",
    "    \"exclude_features\": \"age\", # \"none\", \"nationality\", \"sex\", \"nationality-sex\", \"age\"\n",
    "    \"exclude_subgroups\": \"keep-all\", # \"keep-all\", \"drop-non-german\"\n",
    "    \"eval_fairness_grouping\": [\"majority-minority\", \"nationality-all\"]\n",
    "}\n",
    "\n",
    "output_dir=\"./output\"\n",
    "seed=0"
   ]
  },
  {
   "cell_type": "code",
   "execution_count": 4,
   "id": "36884649",
   "metadata": {
    "execution": {
     "iopub.execute_input": "2025-08-05T20:47:20.324145Z",
     "iopub.status.busy": "2025-08-05T20:47:20.323131Z",
     "iopub.status.idle": "2025-08-05T20:47:20.329962Z",
     "shell.execute_reply": "2025-08-05T20:47:20.328654Z"
    },
    "papermill": {
     "duration": 0.026758,
     "end_time": "2025-08-05T20:47:20.331908",
     "exception": false,
     "start_time": "2025-08-05T20:47:20.305150",
     "status": "completed"
    },
    "tags": [
     "injected-parameters"
    ]
   },
   "outputs": [],
   "source": [
    "# Parameters\n",
    "universe_id = \"6b0cd9e7aa12d1a460698d7a623f6a72\"\n",
    "run_no = \"16\"\n",
    "universe = \"{\\\"cutoff\\\": [\\\"quantile_0.1\\\", \\\"quantile_0.25\\\"], \\\"eval_fairness_grouping\\\": [\\\"majority-minority\\\", \\\"nationality-all\\\"], \\\"exclude_features\\\": \\\"nationality\\\", \\\"exclude_subgroups\\\": \\\"keep-all\\\", \\\"model\\\": \\\"elasticnet\\\", \\\"scale\\\": \\\"do-not-scale\\\", \\\"training_size\\\": \\\"25k\\\", \\\"training_year\\\": \\\"2014\\\"}\"\n",
    "output_dir = \"output\"\n",
    "seed = \"2023\"\n"
   ]
  },
  {
   "cell_type": "code",
   "execution_count": 5,
   "id": "1650acaf",
   "metadata": {
    "execution": {
     "iopub.execute_input": "2025-08-05T20:47:20.367079Z",
     "iopub.status.busy": "2025-08-05T20:47:20.366298Z",
     "iopub.status.idle": "2025-08-05T20:47:20.372568Z",
     "shell.execute_reply": "2025-08-05T20:47:20.371314Z"
    },
    "papermill": {
     "duration": 0.02549,
     "end_time": "2025-08-05T20:47:20.374538",
     "exception": false,
     "start_time": "2025-08-05T20:47:20.349048",
     "status": "completed"
    },
    "tags": []
   },
   "outputs": [],
   "source": [
    "import json\n",
    "if isinstance(universe, str):\n",
    "    universe = json.loads(universe)"
   ]
  },
  {
   "cell_type": "code",
   "execution_count": 6,
   "id": "16620c48",
   "metadata": {
    "execution": {
     "iopub.execute_input": "2025-08-05T20:47:20.411121Z",
     "iopub.status.busy": "2025-08-05T20:47:20.410681Z",
     "iopub.status.idle": "2025-08-05T20:47:20.453586Z",
     "shell.execute_reply": "2025-08-05T20:47:20.452674Z"
    },
    "papermill": {
     "duration": 0.062732,
     "end_time": "2025-08-05T20:47:20.455431",
     "exception": false,
     "start_time": "2025-08-05T20:47:20.392699",
     "status": "completed"
    },
    "tags": []
   },
   "outputs": [],
   "source": [
    "# Auto-reload the custom package\n",
    "%load_ext autoreload\n",
    "%autoreload 1\n",
    "%aimport fairness_multiverse"
   ]
  },
  {
   "cell_type": "code",
   "execution_count": 7,
   "id": "01c5c9f3",
   "metadata": {
    "execution": {
     "iopub.execute_input": "2025-08-05T20:47:20.490528Z",
     "iopub.status.busy": "2025-08-05T20:47:20.489848Z",
     "iopub.status.idle": "2025-08-05T20:47:22.459403Z",
     "shell.execute_reply": "2025-08-05T20:47:22.458371Z"
    },
    "papermill": {
     "duration": 1.989248,
     "end_time": "2025-08-05T20:47:22.461390",
     "exception": false,
     "start_time": "2025-08-05T20:47:20.472142",
     "status": "completed"
    },
    "tags": []
   },
   "outputs": [],
   "source": [
    "from fairness_multiverse.universe import UniverseAnalysis\n",
    "\n",
    "universe_analysis = UniverseAnalysis(\n",
    "    run_no = run_no,\n",
    "    universe_id = universe_id,\n",
    "    universe = universe,\n",
    "    output_dir=output_dir,\n",
    ")"
   ]
  },
  {
   "cell_type": "code",
   "execution_count": 8,
   "id": "106241f5",
   "metadata": {
    "execution": {
     "iopub.execute_input": "2025-08-05T20:47:22.504334Z",
     "iopub.status.busy": "2025-08-05T20:47:22.504003Z",
     "iopub.status.idle": "2025-08-05T20:47:22.509649Z",
     "shell.execute_reply": "2025-08-05T20:47:22.508665Z"
    },
    "papermill": {
     "duration": 0.029677,
     "end_time": "2025-08-05T20:47:22.511443",
     "exception": false,
     "start_time": "2025-08-05T20:47:22.481766",
     "status": "completed"
    },
    "tags": []
   },
   "outputs": [
    {
     "name": "stdout",
     "output_type": "stream",
     "text": [
      "Using Seed: 2023\n"
     ]
    }
   ],
   "source": [
    "import numpy as np\n",
    "parsed_seed = int(seed)\n",
    "np.random.seed(parsed_seed)\n",
    "print(f\"Using Seed: {parsed_seed}\")"
   ]
  },
  {
   "cell_type": "markdown",
   "id": "e0ebdc57",
   "metadata": {
    "papermill": {
     "duration": 0.021006,
     "end_time": "2025-08-05T20:47:22.552522",
     "exception": false,
     "start_time": "2025-08-05T20:47:22.531516",
     "status": "completed"
    },
    "tags": []
   },
   "source": [
    "# Loading Data"
   ]
  },
  {
   "cell_type": "code",
   "execution_count": 9,
   "id": "f0496b8a",
   "metadata": {
    "execution": {
     "iopub.execute_input": "2025-08-05T20:47:22.594938Z",
     "iopub.status.busy": "2025-08-05T20:47:22.594062Z",
     "iopub.status.idle": "2025-08-05T20:47:34.294510Z",
     "shell.execute_reply": "2025-08-05T20:47:34.293158Z"
    },
    "papermill": {
     "duration": 11.723827,
     "end_time": "2025-08-05T20:47:34.296260",
     "exception": false,
     "start_time": "2025-08-05T20:47:22.572433",
     "status": "completed"
    },
    "tags": []
   },
   "outputs": [
    {
     "name": "stdout",
     "output_type": "stream",
     "text": [
      "Loading SIAB data from cache: data/siab_cached.csv.gz\n"
     ]
    },
    {
     "name": "stdout",
     "output_type": "stream",
     "text": [
      "(643690, 164)\n"
     ]
    }
   ],
   "source": [
    "from pathlib import Path\n",
    "import pandas as pd\n",
    "\n",
    "# File paths\n",
    "raw_file = Path(\"data/raw/siab.csv\")\n",
    "cache_file = Path(\"data/siab_cached.csv.gz\")\n",
    "\n",
    "# Ensure cache directory exists\n",
    "cache_file.parent.mkdir(parents=True, exist_ok=True)\n",
    "\n",
    "# Load with simple caching\n",
    "if cache_file.exists():\n",
    "    print(f\"Loading SIAB data from cache: {cache_file}\")\n",
    "    siab = pd.read_csv(cache_file, compression='gzip')\n",
    "else:\n",
    "    print(f\"Cache not found. Reading raw SIAB data: {raw_file}\")\n",
    "    siab = pd.read_csv(raw_file)\n",
    "    siab.to_csv(cache_file, index=False, compression='gzip')\n",
    "    print(f\"Cached SIAB data to: {cache_file}\")\n",
    "\n",
    "print(siab.shape)"
   ]
  },
  {
   "cell_type": "code",
   "execution_count": 10,
   "id": "db0ca512-5f53-4dba-abdb-a2888bca41ba",
   "metadata": {
    "execution": {
     "iopub.execute_input": "2025-08-05T20:47:34.337601Z",
     "iopub.status.busy": "2025-08-05T20:47:34.337081Z",
     "iopub.status.idle": "2025-08-05T20:47:34.343177Z",
     "shell.execute_reply": "2025-08-05T20:47:34.341963Z"
    },
    "papermill": {
     "duration": 0.029264,
     "end_time": "2025-08-05T20:47:34.345201",
     "exception": false,
     "start_time": "2025-08-05T20:47:34.315937",
     "status": "completed"
    },
    "tags": []
   },
   "outputs": [],
   "source": [
    "#siab"
   ]
  },
  {
   "cell_type": "markdown",
   "id": "997051c5-15bd-4b69-9786-c3001a3ce484",
   "metadata": {
    "papermill": {
     "duration": 0.019223,
     "end_time": "2025-08-05T20:47:34.383378",
     "exception": false,
     "start_time": "2025-08-05T20:47:34.364155",
     "status": "completed"
    },
    "tags": []
   },
   "source": [
    "# Splitting Data and Setting Training Data Size"
   ]
  },
  {
   "cell_type": "code",
   "execution_count": 11,
   "id": "aea9c6ef-6f46-42c8-85eb-5a62025c1508",
   "metadata": {
    "execution": {
     "iopub.execute_input": "2025-08-05T20:47:34.420626Z",
     "iopub.status.busy": "2025-08-05T20:47:34.420175Z",
     "iopub.status.idle": "2025-08-05T20:47:34.666349Z",
     "shell.execute_reply": "2025-08-05T20:47:34.665310Z"
    },
    "papermill": {
     "duration": 0.265489,
     "end_time": "2025-08-05T20:47:34.668304",
     "exception": false,
     "start_time": "2025-08-05T20:47:34.402815",
     "status": "completed"
    },
    "tags": []
   },
   "outputs": [],
   "source": [
    "from fairness_multiverse.universe import sample_by_year_size\n",
    "\n",
    "siab_train = sample_by_year_size(siab,\n",
    "                               training_year=universe[\"training_year\"],\n",
    "                               training_size=universe[\"training_size\"])"
   ]
  },
  {
   "cell_type": "code",
   "execution_count": 12,
   "id": "8d3afb32-789d-442c-8d5d-9f5aa8dd2eed",
   "metadata": {
    "execution": {
     "iopub.execute_input": "2025-08-05T20:47:34.706540Z",
     "iopub.status.busy": "2025-08-05T20:47:34.705998Z",
     "iopub.status.idle": "2025-08-05T20:47:34.711325Z",
     "shell.execute_reply": "2025-08-05T20:47:34.710210Z"
    },
    "papermill": {
     "duration": 0.025723,
     "end_time": "2025-08-05T20:47:34.713050",
     "exception": false,
     "start_time": "2025-08-05T20:47:34.687327",
     "status": "completed"
    },
    "tags": []
   },
   "outputs": [],
   "source": [
    "#siab_train.shape"
   ]
  },
  {
   "cell_type": "code",
   "execution_count": 13,
   "id": "d582db68-1a4c-47fb-84fc-08518dc1975a",
   "metadata": {
    "execution": {
     "iopub.execute_input": "2025-08-05T20:47:34.751694Z",
     "iopub.status.busy": "2025-08-05T20:47:34.751192Z",
     "iopub.status.idle": "2025-08-05T20:47:34.756583Z",
     "shell.execute_reply": "2025-08-05T20:47:34.755472Z"
    },
    "papermill": {
     "duration": 0.02656,
     "end_time": "2025-08-05T20:47:34.758204",
     "exception": false,
     "start_time": "2025-08-05T20:47:34.731644",
     "status": "completed"
    },
    "tags": []
   },
   "outputs": [],
   "source": [
    "#display(siab_train.groupby(\"year\").size())"
   ]
  },
  {
   "cell_type": "code",
   "execution_count": 14,
   "id": "a561edb4-d032-42cb-8256-22eac1111c64",
   "metadata": {
    "execution": {
     "iopub.execute_input": "2025-08-05T20:47:34.794910Z",
     "iopub.status.busy": "2025-08-05T20:47:34.794215Z",
     "iopub.status.idle": "2025-08-05T20:47:35.011653Z",
     "shell.execute_reply": "2025-08-05T20:47:35.010595Z"
    },
    "papermill": {
     "duration": 0.237808,
     "end_time": "2025-08-05T20:47:35.013813",
     "exception": false,
     "start_time": "2025-08-05T20:47:34.776005",
     "status": "completed"
    },
    "tags": []
   },
   "outputs": [],
   "source": [
    "#siab_train = siab_s[siab_s.year < 2015]\n",
    "siab_calib = siab[siab.year == 2015]\n",
    "siab_test = siab[siab.year == 2016]"
   ]
  },
  {
   "cell_type": "code",
   "execution_count": 15,
   "id": "472de16f-c3db-4916-846b-1f0de9cf1746",
   "metadata": {
    "execution": {
     "iopub.execute_input": "2025-08-05T20:47:35.059507Z",
     "iopub.status.busy": "2025-08-05T20:47:35.058607Z",
     "iopub.status.idle": "2025-08-05T20:47:35.074488Z",
     "shell.execute_reply": "2025-08-05T20:47:35.073214Z"
    },
    "papermill": {
     "duration": 0.038917,
     "end_time": "2025-08-05T20:47:35.076580",
     "exception": false,
     "start_time": "2025-08-05T20:47:35.037663",
     "status": "completed"
    },
    "tags": []
   },
   "outputs": [],
   "source": [
    "X_train = siab_train.iloc[:,4:164]\n",
    "y_train = siab_train.iloc[:, [3]]"
   ]
  },
  {
   "cell_type": "code",
   "execution_count": 16,
   "id": "828c96af-f43a-4ed6-ba47-8ac73a47d56c",
   "metadata": {
    "execution": {
     "iopub.execute_input": "2025-08-05T20:47:35.119971Z",
     "iopub.status.busy": "2025-08-05T20:47:35.119353Z",
     "iopub.status.idle": "2025-08-05T20:47:35.170332Z",
     "shell.execute_reply": "2025-08-05T20:47:35.169114Z"
    },
    "papermill": {
     "duration": 0.074251,
     "end_time": "2025-08-05T20:47:35.172558",
     "exception": false,
     "start_time": "2025-08-05T20:47:35.098307",
     "status": "completed"
    },
    "tags": []
   },
   "outputs": [],
   "source": [
    "X_calib = siab_calib.iloc[:,4:164]\n",
    "y_calib = siab_calib.iloc[:, [3]]"
   ]
  },
  {
   "cell_type": "code",
   "execution_count": 17,
   "id": "c34be9c3-6bd6-476e-acd3-845840e303be",
   "metadata": {
    "execution": {
     "iopub.execute_input": "2025-08-05T20:47:35.215829Z",
     "iopub.status.busy": "2025-08-05T20:47:35.214956Z",
     "iopub.status.idle": "2025-08-05T20:47:35.267176Z",
     "shell.execute_reply": "2025-08-05T20:47:35.265929Z"
    },
    "papermill": {
     "duration": 0.075645,
     "end_time": "2025-08-05T20:47:35.269591",
     "exception": false,
     "start_time": "2025-08-05T20:47:35.193946",
     "status": "completed"
    },
    "tags": []
   },
   "outputs": [],
   "source": [
    "X_test = siab_test.iloc[:,4:164]\n",
    "y_true = siab_test.iloc[:, [3]]"
   ]
  },
  {
   "cell_type": "code",
   "execution_count": 18,
   "id": "e6c733c5",
   "metadata": {
    "execution": {
     "iopub.execute_input": "2025-08-05T20:47:35.313465Z",
     "iopub.status.busy": "2025-08-05T20:47:35.312683Z",
     "iopub.status.idle": "2025-08-05T20:47:35.416622Z",
     "shell.execute_reply": "2025-08-05T20:47:35.415605Z"
    },
    "papermill": {
     "duration": 0.127322,
     "end_time": "2025-08-05T20:47:35.418745",
     "exception": false,
     "start_time": "2025-08-05T20:47:35.291423",
     "status": "completed"
    },
    "tags": []
   },
   "outputs": [],
   "source": [
    "# Auxiliary data needed downstream in the pipeline\n",
    "\n",
    "org_train = X_train.copy()\n",
    "org_test = X_test.copy()\n",
    "org_calib = X_calib.copy()"
   ]
  },
  {
   "cell_type": "markdown",
   "id": "0a4a1b33",
   "metadata": {
    "papermill": {
     "duration": 0.020009,
     "end_time": "2025-08-05T20:47:35.459738",
     "exception": false,
     "start_time": "2025-08-05T20:47:35.439729",
     "status": "completed"
    },
    "tags": []
   },
   "source": [
    "# Preprocessing Data"
   ]
  },
  {
   "cell_type": "code",
   "execution_count": 19,
   "id": "ca879031",
   "metadata": {
    "execution": {
     "iopub.execute_input": "2025-08-05T20:47:35.501899Z",
     "iopub.status.busy": "2025-08-05T20:47:35.501126Z",
     "iopub.status.idle": "2025-08-05T20:47:35.507667Z",
     "shell.execute_reply": "2025-08-05T20:47:35.506616Z"
    },
    "papermill": {
     "duration": 0.029661,
     "end_time": "2025-08-05T20:47:35.509448",
     "exception": false,
     "start_time": "2025-08-05T20:47:35.479787",
     "status": "completed"
    },
    "tags": []
   },
   "outputs": [],
   "source": [
    "# EXCLUDE PROTECTED FEATURES\n",
    "# ----------------------\n",
    "# \"exclude_features\": \"none\", # \"nationality\", \"sex\", \"nationality-sex\"\n",
    "\n",
    "excluded_features = universe[\"exclude_features\"].split(\"-\") # split, e.g.: \"nationality-sex\" -> [\"nationality\", \"sex\"]\n",
    "excluded_features_dictionary = {\n",
    "    \"nationality\": [\"maxdeutsch1\", \"maxdeutsch.Missing.\"],\n",
    "    \"sex\": [\"frau1\"],\n",
    "    \"age\": [\"age\"],\n",
    "}"
   ]
  },
  {
   "cell_type": "code",
   "execution_count": 20,
   "id": "b745ac60",
   "metadata": {
    "execution": {
     "iopub.execute_input": "2025-08-05T20:47:35.546216Z",
     "iopub.status.busy": "2025-08-05T20:47:35.545769Z",
     "iopub.status.idle": "2025-08-05T20:47:35.551337Z",
     "shell.execute_reply": "2025-08-05T20:47:35.550316Z"
    },
    "papermill": {
     "duration": 0.025517,
     "end_time": "2025-08-05T20:47:35.553146",
     "exception": false,
     "start_time": "2025-08-05T20:47:35.527629",
     "status": "completed"
    },
    "tags": []
   },
   "outputs": [],
   "source": [
    "# Code nice names to column names\n",
    "\n",
    "excluded_features_columns = [\n",
    "    excluded_features_dictionary[f] for f in excluded_features if len(f) > 0 and f != \"none\"\n",
    "]"
   ]
  },
  {
   "cell_type": "code",
   "execution_count": 21,
   "id": "f84f73a2",
   "metadata": {
    "execution": {
     "iopub.execute_input": "2025-08-05T20:47:35.590080Z",
     "iopub.status.busy": "2025-08-05T20:47:35.589631Z",
     "iopub.status.idle": "2025-08-05T20:47:35.596341Z",
     "shell.execute_reply": "2025-08-05T20:47:35.595289Z"
    },
    "papermill": {
     "duration": 0.026503,
     "end_time": "2025-08-05T20:47:35.598168",
     "exception": false,
     "start_time": "2025-08-05T20:47:35.571665",
     "status": "completed"
    },
    "tags": []
   },
   "outputs": [],
   "source": [
    "from utils import flatten_once\n",
    "\n",
    "excluded_features_columns = flatten_once(excluded_features_columns)"
   ]
  },
  {
   "cell_type": "code",
   "execution_count": 22,
   "id": "884dea22",
   "metadata": {
    "execution": {
     "iopub.execute_input": "2025-08-05T20:47:35.635935Z",
     "iopub.status.busy": "2025-08-05T20:47:35.635435Z",
     "iopub.status.idle": "2025-08-05T20:47:35.651404Z",
     "shell.execute_reply": "2025-08-05T20:47:35.650383Z"
    },
    "papermill": {
     "duration": 0.036564,
     "end_time": "2025-08-05T20:47:35.653205",
     "exception": false,
     "start_time": "2025-08-05T20:47:35.616641",
     "status": "completed"
    },
    "tags": []
   },
   "outputs": [
    {
     "name": "stdout",
     "output_type": "stream",
     "text": [
      "Dropping features: ['maxdeutsch1', 'maxdeutsch.Missing.']\n"
     ]
    }
   ],
   "source": [
    "if len(excluded_features_columns) > 0:\n",
    "    print(f\"Dropping features: {excluded_features_columns}\")\n",
    "    X_train.drop(excluded_features_columns, axis=1, inplace=True)"
   ]
  },
  {
   "cell_type": "code",
   "execution_count": 23,
   "id": "95ab8b16",
   "metadata": {
    "execution": {
     "iopub.execute_input": "2025-08-05T20:47:35.691868Z",
     "iopub.status.busy": "2025-08-05T20:47:35.690981Z",
     "iopub.status.idle": "2025-08-05T20:47:35.745962Z",
     "shell.execute_reply": "2025-08-05T20:47:35.744784Z"
    },
    "papermill": {
     "duration": 0.076038,
     "end_time": "2025-08-05T20:47:35.747896",
     "exception": false,
     "start_time": "2025-08-05T20:47:35.671858",
     "status": "completed"
    },
    "tags": []
   },
   "outputs": [
    {
     "name": "stdout",
     "output_type": "stream",
     "text": [
      "Dropping features: ['maxdeutsch1', 'maxdeutsch.Missing.']\n"
     ]
    }
   ],
   "source": [
    "if len(excluded_features_columns) > 0:\n",
    "    print(f\"Dropping features: {excluded_features_columns}\")\n",
    "    X_test.drop(excluded_features_columns, axis=1, inplace=True)"
   ]
  },
  {
   "cell_type": "code",
   "execution_count": 24,
   "id": "1853aaf5-fb9f-46cb-a2b5-8ea4ae2237e4",
   "metadata": {
    "execution": {
     "iopub.execute_input": "2025-08-05T20:47:35.787054Z",
     "iopub.status.busy": "2025-08-05T20:47:35.786245Z",
     "iopub.status.idle": "2025-08-05T20:47:35.840208Z",
     "shell.execute_reply": "2025-08-05T20:47:35.839144Z"
    },
    "papermill": {
     "duration": 0.075323,
     "end_time": "2025-08-05T20:47:35.842244",
     "exception": false,
     "start_time": "2025-08-05T20:47:35.766921",
     "status": "completed"
    },
    "tags": []
   },
   "outputs": [
    {
     "name": "stdout",
     "output_type": "stream",
     "text": [
      "Dropping features: ['maxdeutsch1', 'maxdeutsch.Missing.']\n"
     ]
    }
   ],
   "source": [
    "if len(excluded_features_columns) > 0:\n",
    "    print(f\"Dropping features: {excluded_features_columns}\")\n",
    "    X_calib.drop(excluded_features_columns, axis=1, inplace=True)"
   ]
  },
  {
   "cell_type": "code",
   "execution_count": 25,
   "id": "76c4dc6d",
   "metadata": {
    "execution": {
     "iopub.execute_input": "2025-08-05T20:47:35.880643Z",
     "iopub.status.busy": "2025-08-05T20:47:35.879838Z",
     "iopub.status.idle": "2025-08-05T20:47:35.885410Z",
     "shell.execute_reply": "2025-08-05T20:47:35.884345Z"
    },
    "papermill": {
     "duration": 0.025874,
     "end_time": "2025-08-05T20:47:35.887372",
     "exception": false,
     "start_time": "2025-08-05T20:47:35.861498",
     "status": "completed"
    },
    "tags": []
   },
   "outputs": [],
   "source": [
    "# EXCLUDE CERTAIN SUBGROUPS\n",
    "# ----------------------\n",
    "\n",
    "mode = universe.get(\"exclude_subgroups\", \"keep-all\") \n",
    "# Fetches the exclude_subgroups setting from the universe dict.\n",
    "# Defaults to \"keep-all\" if the key is missing."
   ]
  },
  {
   "cell_type": "code",
   "execution_count": 26,
   "id": "21994072",
   "metadata": {
    "execution": {
     "iopub.execute_input": "2025-08-05T20:47:35.932209Z",
     "iopub.status.busy": "2025-08-05T20:47:35.931328Z",
     "iopub.status.idle": "2025-08-05T20:47:35.938727Z",
     "shell.execute_reply": "2025-08-05T20:47:35.937675Z"
    },
    "papermill": {
     "duration": 0.031384,
     "end_time": "2025-08-05T20:47:35.940686",
     "exception": false,
     "start_time": "2025-08-05T20:47:35.909302",
     "status": "completed"
    },
    "tags": []
   },
   "outputs": [],
   "source": [
    "if mode == \"keep-all\":\n",
    "    keep_mask = pd.Series(True, index=org_train.index)\n",
    "\n",
    "# org_train contains the original feature columns from features_org (in Simson)\n",
    "# features_org contains unprocessed features, for me X_train at beginning ???\n",
    "# For keep-all, creates a boolean Series (keep_mask) of all True, so no rows are removed.\n",
    "\n",
    "elif mode == \"drop-non-german\":\n",
    "    keep_mask = org_train[\"maxdeutsch1\"] == 1 # ??? what about missing values?\n",
    "\n",
    "else:\n",
    "    raise ValueError(f\"Unsupported mode for exclude_subgroups: {mode}\")"
   ]
  },
  {
   "cell_type": "code",
   "execution_count": 27,
   "id": "71651440",
   "metadata": {
    "execution": {
     "iopub.execute_input": "2025-08-05T20:47:35.985571Z",
     "iopub.status.busy": "2025-08-05T20:47:35.984798Z",
     "iopub.status.idle": "2025-08-05T20:47:35.991879Z",
     "shell.execute_reply": "2025-08-05T20:47:35.990773Z"
    },
    "papermill": {
     "duration": 0.030976,
     "end_time": "2025-08-05T20:47:35.993763",
     "exception": false,
     "start_time": "2025-08-05T20:47:35.962787",
     "status": "completed"
    },
    "tags": []
   },
   "outputs": [],
   "source": [
    "n_drop = (~keep_mask).sum() # Calculates how many rows are set to be dropped\n",
    "if n_drop > 0:\n",
    "    pct = n_drop / len(keep_mask) * 100\n",
    "    print(f\"Dropping {n_drop} rows ({pct:.2f}%) where mode='{mode}'\")"
   ]
  },
  {
   "cell_type": "code",
   "execution_count": 28,
   "id": "5fb8eee5",
   "metadata": {
    "execution": {
     "iopub.execute_input": "2025-08-05T20:47:36.038834Z",
     "iopub.status.busy": "2025-08-05T20:47:36.038039Z",
     "iopub.status.idle": "2025-08-05T20:47:36.053500Z",
     "shell.execute_reply": "2025-08-05T20:47:36.052266Z"
    },
    "papermill": {
     "duration": 0.039927,
     "end_time": "2025-08-05T20:47:36.055624",
     "exception": false,
     "start_time": "2025-08-05T20:47:36.015697",
     "status": "completed"
    },
    "tags": []
   },
   "outputs": [],
   "source": [
    "X_train = X_train[keep_mask]"
   ]
  },
  {
   "cell_type": "code",
   "execution_count": 29,
   "id": "b202bb3a",
   "metadata": {
    "execution": {
     "iopub.execute_input": "2025-08-05T20:47:36.095774Z",
     "iopub.status.busy": "2025-08-05T20:47:36.095004Z",
     "iopub.status.idle": "2025-08-05T20:47:36.101360Z",
     "shell.execute_reply": "2025-08-05T20:47:36.100303Z"
    },
    "papermill": {
     "duration": 0.027584,
     "end_time": "2025-08-05T20:47:36.103247",
     "exception": false,
     "start_time": "2025-08-05T20:47:36.075663",
     "status": "completed"
    },
    "tags": []
   },
   "outputs": [],
   "source": [
    "y_train = y_train[keep_mask]"
   ]
  },
  {
   "cell_type": "markdown",
   "id": "493e2ac3",
   "metadata": {
    "papermill": {
     "duration": 0.021081,
     "end_time": "2025-08-05T20:47:36.146570",
     "exception": false,
     "start_time": "2025-08-05T20:47:36.125489",
     "status": "completed"
    },
    "tags": []
   },
   "source": [
    "# Model Training"
   ]
  },
  {
   "cell_type": "code",
   "execution_count": 30,
   "id": "679e1268",
   "metadata": {
    "execution": {
     "iopub.execute_input": "2025-08-05T20:47:36.191375Z",
     "iopub.status.busy": "2025-08-05T20:47:36.190468Z",
     "iopub.status.idle": "2025-08-05T20:47:36.293087Z",
     "shell.execute_reply": "2025-08-05T20:47:36.292048Z"
    },
    "papermill": {
     "duration": 0.127237,
     "end_time": "2025-08-05T20:47:36.295070",
     "exception": false,
     "start_time": "2025-08-05T20:47:36.167833",
     "status": "completed"
    },
    "tags": []
   },
   "outputs": [],
   "source": [
    "from sklearn.linear_model import LogisticRegression\n",
    "from sklearn.ensemble import GradientBoostingClassifier, RandomForestClassifier\n",
    "\n",
    "if (universe[\"model\"] == \"logreg\"):\n",
    "    model = LogisticRegression() #penalty=\"none\", solver=\"newton-cg\", max_iter=1) # include random_state=19 ?\n",
    "elif (universe[\"model\"] == \"penalized_logreg\"):\n",
    "    model = LogisticRegression(penalty=\"l2\", C=0.1) #, solver=\"newton-cg\", max_iter=1)\n",
    "elif (universe[\"model\"] == \"rf\"):\n",
    "    model = RandomForestClassifier() # n_estimators=100, n_jobs=-1\n",
    "elif (universe[\"model\"] == \"gbm\"):\n",
    "    model = GradientBoostingClassifier()\n",
    "elif (universe[\"model\"] == \"elasticnet\"):\n",
    "    model = LogisticRegression(penalty = 'elasticnet', solver = 'saga', l1_ratio = 0.5) # max_iter=5000\n",
    "else:\n",
    "    raise \"Unsupported universe.model\""
   ]
  },
  {
   "cell_type": "code",
   "execution_count": 31,
   "id": "0cc8f744",
   "metadata": {
    "execution": {
     "iopub.execute_input": "2025-08-05T20:47:36.337670Z",
     "iopub.status.busy": "2025-08-05T20:47:36.336890Z",
     "iopub.status.idle": "2025-08-05T20:47:36.343813Z",
     "shell.execute_reply": "2025-08-05T20:47:36.342605Z"
    },
    "papermill": {
     "duration": 0.02951,
     "end_time": "2025-08-05T20:47:36.346200",
     "exception": false,
     "start_time": "2025-08-05T20:47:36.316690",
     "status": "completed"
    },
    "tags": []
   },
   "outputs": [],
   "source": [
    "import numpy as np\n",
    "from sklearn.pipeline import Pipeline\n",
    "from sklearn.preprocessing import StandardScaler\n",
    "\n",
    "model = Pipeline([\n",
    "    #(\"continuous_processor\", continuous_processor),\n",
    "    #(\"categorical_preprocessor\", categorical_preprocessor),\n",
    "    (\"scale\", StandardScaler() if universe[\"scale\"] == \"scale\" else None), \n",
    "    (\"model\", model),\n",
    "])"
   ]
  },
  {
   "cell_type": "code",
   "execution_count": 32,
   "id": "9442c04d",
   "metadata": {
    "execution": {
     "iopub.execute_input": "2025-08-05T20:47:36.396477Z",
     "iopub.status.busy": "2025-08-05T20:47:36.394205Z",
     "iopub.status.idle": "2025-08-05T20:47:43.926235Z",
     "shell.execute_reply": "2025-08-05T20:47:43.925155Z"
    },
    "papermill": {
     "duration": 7.55641,
     "end_time": "2025-08-05T20:47:43.928202",
     "exception": false,
     "start_time": "2025-08-05T20:47:36.371792",
     "status": "completed"
    },
    "tags": []
   },
   "outputs": [
    {
     "name": "stderr",
     "output_type": "stream",
     "text": [
      "/dss/dsshome1/0C/ra93lal2/.local/share/virtualenvs/CMA_Fairness_v2-3j10GkSs/lib/python3.10/site-packages/sklearn/linear_model/_sag.py:350: ConvergenceWarning: The max_iter was reached which means the coef_ did not converge\n",
      "  warnings.warn(\n"
     ]
    },
    {
     "data": {
      "text/html": [
       "<style>#sk-container-id-1 {color: black;background-color: white;}#sk-container-id-1 pre{padding: 0;}#sk-container-id-1 div.sk-toggleable {background-color: white;}#sk-container-id-1 label.sk-toggleable__label {cursor: pointer;display: block;width: 100%;margin-bottom: 0;padding: 0.3em;box-sizing: border-box;text-align: center;}#sk-container-id-1 label.sk-toggleable__label-arrow:before {content: \"▸\";float: left;margin-right: 0.25em;color: #696969;}#sk-container-id-1 label.sk-toggleable__label-arrow:hover:before {color: black;}#sk-container-id-1 div.sk-estimator:hover label.sk-toggleable__label-arrow:before {color: black;}#sk-container-id-1 div.sk-toggleable__content {max-height: 0;max-width: 0;overflow: hidden;text-align: left;background-color: #f0f8ff;}#sk-container-id-1 div.sk-toggleable__content pre {margin: 0.2em;color: black;border-radius: 0.25em;background-color: #f0f8ff;}#sk-container-id-1 input.sk-toggleable__control:checked~div.sk-toggleable__content {max-height: 200px;max-width: 100%;overflow: auto;}#sk-container-id-1 input.sk-toggleable__control:checked~label.sk-toggleable__label-arrow:before {content: \"▾\";}#sk-container-id-1 div.sk-estimator input.sk-toggleable__control:checked~label.sk-toggleable__label {background-color: #d4ebff;}#sk-container-id-1 div.sk-label input.sk-toggleable__control:checked~label.sk-toggleable__label {background-color: #d4ebff;}#sk-container-id-1 input.sk-hidden--visually {border: 0;clip: rect(1px 1px 1px 1px);clip: rect(1px, 1px, 1px, 1px);height: 1px;margin: -1px;overflow: hidden;padding: 0;position: absolute;width: 1px;}#sk-container-id-1 div.sk-estimator {font-family: monospace;background-color: #f0f8ff;border: 1px dotted black;border-radius: 0.25em;box-sizing: border-box;margin-bottom: 0.5em;}#sk-container-id-1 div.sk-estimator:hover {background-color: #d4ebff;}#sk-container-id-1 div.sk-parallel-item::after {content: \"\";width: 100%;border-bottom: 1px solid gray;flex-grow: 1;}#sk-container-id-1 div.sk-label:hover label.sk-toggleable__label {background-color: #d4ebff;}#sk-container-id-1 div.sk-serial::before {content: \"\";position: absolute;border-left: 1px solid gray;box-sizing: border-box;top: 0;bottom: 0;left: 50%;z-index: 0;}#sk-container-id-1 div.sk-serial {display: flex;flex-direction: column;align-items: center;background-color: white;padding-right: 0.2em;padding-left: 0.2em;position: relative;}#sk-container-id-1 div.sk-item {position: relative;z-index: 1;}#sk-container-id-1 div.sk-parallel {display: flex;align-items: stretch;justify-content: center;background-color: white;position: relative;}#sk-container-id-1 div.sk-item::before, #sk-container-id-1 div.sk-parallel-item::before {content: \"\";position: absolute;border-left: 1px solid gray;box-sizing: border-box;top: 0;bottom: 0;left: 50%;z-index: -1;}#sk-container-id-1 div.sk-parallel-item {display: flex;flex-direction: column;z-index: 1;position: relative;background-color: white;}#sk-container-id-1 div.sk-parallel-item:first-child::after {align-self: flex-end;width: 50%;}#sk-container-id-1 div.sk-parallel-item:last-child::after {align-self: flex-start;width: 50%;}#sk-container-id-1 div.sk-parallel-item:only-child::after {width: 0;}#sk-container-id-1 div.sk-dashed-wrapped {border: 1px dashed gray;margin: 0 0.4em 0.5em 0.4em;box-sizing: border-box;padding-bottom: 0.4em;background-color: white;}#sk-container-id-1 div.sk-label label {font-family: monospace;font-weight: bold;display: inline-block;line-height: 1.2em;}#sk-container-id-1 div.sk-label-container {text-align: center;}#sk-container-id-1 div.sk-container {/* jupyter's `normalize.less` sets `[hidden] { display: none; }` but bootstrap.min.css set `[hidden] { display: none !important; }` so we also need the `!important` here to be able to override the default hidden behavior on the sphinx rendered scikit-learn.org. See: https://github.com/scikit-learn/scikit-learn/issues/21755 */display: inline-block !important;position: relative;}#sk-container-id-1 div.sk-text-repr-fallback {display: none;}</style><div id=\"sk-container-id-1\" class=\"sk-top-container\"><div class=\"sk-text-repr-fallback\"><pre>Pipeline(steps=[(&#x27;scale&#x27;, None),\n",
       "                (&#x27;model&#x27;,\n",
       "                 LogisticRegression(l1_ratio=0.5, penalty=&#x27;elasticnet&#x27;,\n",
       "                                    solver=&#x27;saga&#x27;))])</pre><b>In a Jupyter environment, please rerun this cell to show the HTML representation or trust the notebook. <br />On GitHub, the HTML representation is unable to render, please try loading this page with nbviewer.org.</b></div><div class=\"sk-container\" hidden><div class=\"sk-item sk-dashed-wrapped\"><div class=\"sk-label-container\"><div class=\"sk-label sk-toggleable\"><input class=\"sk-toggleable__control sk-hidden--visually\" id=\"sk-estimator-id-1\" type=\"checkbox\" ><label for=\"sk-estimator-id-1\" class=\"sk-toggleable__label sk-toggleable__label-arrow\">Pipeline</label><div class=\"sk-toggleable__content\"><pre>Pipeline(steps=[(&#x27;scale&#x27;, None),\n",
       "                (&#x27;model&#x27;,\n",
       "                 LogisticRegression(l1_ratio=0.5, penalty=&#x27;elasticnet&#x27;,\n",
       "                                    solver=&#x27;saga&#x27;))])</pre></div></div></div><div class=\"sk-serial\"><div class=\"sk-item\"><div class=\"sk-estimator sk-toggleable\"><input class=\"sk-toggleable__control sk-hidden--visually\" id=\"sk-estimator-id-2\" type=\"checkbox\" ><label for=\"sk-estimator-id-2\" class=\"sk-toggleable__label sk-toggleable__label-arrow\">None</label><div class=\"sk-toggleable__content\"><pre>None</pre></div></div></div><div class=\"sk-item\"><div class=\"sk-estimator sk-toggleable\"><input class=\"sk-toggleable__control sk-hidden--visually\" id=\"sk-estimator-id-3\" type=\"checkbox\" ><label for=\"sk-estimator-id-3\" class=\"sk-toggleable__label sk-toggleable__label-arrow\">LogisticRegression</label><div class=\"sk-toggleable__content\"><pre>LogisticRegression(l1_ratio=0.5, penalty=&#x27;elasticnet&#x27;, solver=&#x27;saga&#x27;)</pre></div></div></div></div></div></div></div>"
      ],
      "text/plain": [
       "Pipeline(steps=[('scale', None),\n",
       "                ('model',\n",
       "                 LogisticRegression(l1_ratio=0.5, penalty='elasticnet',\n",
       "                                    solver='saga'))])"
      ]
     },
     "execution_count": 32,
     "metadata": {},
     "output_type": "execute_result"
    }
   ],
   "source": [
    "model.fit(X_train, y_train.values.ravel())"
   ]
  },
  {
   "cell_type": "code",
   "execution_count": 33,
   "id": "af59f8c0",
   "metadata": {
    "execution": {
     "iopub.execute_input": "2025-08-05T20:47:43.986422Z",
     "iopub.status.busy": "2025-08-05T20:47:43.985447Z",
     "iopub.status.idle": "2025-08-05T20:47:43.992209Z",
     "shell.execute_reply": "2025-08-05T20:47:43.990876Z"
    },
    "papermill": {
     "duration": 0.037774,
     "end_time": "2025-08-05T20:47:43.994404",
     "exception": false,
     "start_time": "2025-08-05T20:47:43.956630",
     "status": "completed"
    },
    "tags": []
   },
   "outputs": [],
   "source": [
    "from fairness_multiverse.universe import predict_w_threshold"
   ]
  },
  {
   "cell_type": "code",
   "execution_count": 34,
   "id": "a7cf2e16",
   "metadata": {
    "execution": {
     "iopub.execute_input": "2025-08-05T20:47:44.046315Z",
     "iopub.status.busy": "2025-08-05T20:47:44.045342Z",
     "iopub.status.idle": "2025-08-05T20:47:44.172712Z",
     "shell.execute_reply": "2025-08-05T20:47:44.171749Z"
    },
    "papermill": {
     "duration": 0.153168,
     "end_time": "2025-08-05T20:47:44.174481",
     "exception": false,
     "start_time": "2025-08-05T20:47:44.021313",
     "status": "completed"
    },
    "tags": []
   },
   "outputs": [
    {
     "data": {
      "text/plain": [
       "0.8682198194181251"
      ]
     },
     "execution_count": 34,
     "metadata": {},
     "output_type": "execute_result"
    }
   ],
   "source": [
    "probs_test = model.predict_proba(X_test)\n",
    "\n",
    "'''\n",
    "Below code returns a boolean array (or binary 0/1 array depending on how it’s used) where each element \n",
    "is True if the probability of class 1 is greater than or equal to the threshold, and False otherwise.\n",
    "'''\n",
    "y_pred_default = predict_w_threshold(probs_test, 0.5)\n",
    "\n",
    "from sklearn.metrics import accuracy_score\n",
    "\n",
    "# Naive prediction\n",
    "accuracy_score(y_true = y_true, y_pred = y_pred_default)"
   ]
  },
  {
   "cell_type": "code",
   "execution_count": 35,
   "id": "081964c3",
   "metadata": {
    "execution": {
     "iopub.execute_input": "2025-08-05T20:47:44.222856Z",
     "iopub.status.busy": "2025-08-05T20:47:44.222019Z",
     "iopub.status.idle": "2025-08-05T20:47:44.300145Z",
     "shell.execute_reply": "2025-08-05T20:47:44.299444Z"
    },
    "papermill": {
     "duration": 0.103014,
     "end_time": "2025-08-05T20:47:44.301380",
     "exception": false,
     "start_time": "2025-08-05T20:47:44.198366",
     "status": "completed"
    },
    "tags": []
   },
   "outputs": [
    {
     "data": {
      "text/plain": [
       "array([0, 0, 0, ..., 0, 0, 0])"
      ]
     },
     "execution_count": 35,
     "metadata": {},
     "output_type": "execute_result"
    }
   ],
   "source": [
    "model.predict(X_test)"
   ]
  },
  {
   "cell_type": "markdown",
   "id": "56c9705b",
   "metadata": {
    "papermill": {
     "duration": 0.010708,
     "end_time": "2025-08-05T20:47:44.323250",
     "exception": false,
     "start_time": "2025-08-05T20:47:44.312542",
     "status": "completed"
    },
    "tags": []
   },
   "source": [
    "# Conformal Prediction"
   ]
  },
  {
   "cell_type": "code",
   "execution_count": 36,
   "id": "160ec6ff",
   "metadata": {
    "execution": {
     "iopub.execute_input": "2025-08-05T20:47:44.346370Z",
     "iopub.status.busy": "2025-08-05T20:47:44.345863Z",
     "iopub.status.idle": "2025-08-05T20:47:44.350434Z",
     "shell.execute_reply": "2025-08-05T20:47:44.349686Z"
    },
    "papermill": {
     "duration": 0.017872,
     "end_time": "2025-08-05T20:47:44.352027",
     "exception": false,
     "start_time": "2025-08-05T20:47:44.334155",
     "status": "completed"
    },
    "tags": []
   },
   "outputs": [],
   "source": [
    "# Miscoverage level for conformal prediction (10% allowed error rate => 90% target coverage)\n",
    "alpha = 0.1"
   ]
  },
  {
   "cell_type": "code",
   "execution_count": 37,
   "id": "eadf4555-3dd3-440e-8e35-f82a4ad9f855",
   "metadata": {
    "execution": {
     "iopub.execute_input": "2025-08-05T20:47:44.375976Z",
     "iopub.status.busy": "2025-08-05T20:47:44.375468Z",
     "iopub.status.idle": "2025-08-05T20:47:44.452972Z",
     "shell.execute_reply": "2025-08-05T20:47:44.451952Z"
    },
    "papermill": {
     "duration": 0.091158,
     "end_time": "2025-08-05T20:47:44.454919",
     "exception": false,
     "start_time": "2025-08-05T20:47:44.363761",
     "status": "completed"
    },
    "tags": []
   },
   "outputs": [],
   "source": [
    "probs_calib = model.predict_proba(X_calib)"
   ]
  },
  {
   "cell_type": "code",
   "execution_count": 38,
   "id": "2ed93547-6d5d-4983-9b36-1ecb300da49a",
   "metadata": {
    "execution": {
     "iopub.execute_input": "2025-08-05T20:47:44.505558Z",
     "iopub.status.busy": "2025-08-05T20:47:44.505072Z",
     "iopub.status.idle": "2025-08-05T20:47:44.509699Z",
     "shell.execute_reply": "2025-08-05T20:47:44.509051Z"
    },
    "papermill": {
     "duration": 0.029879,
     "end_time": "2025-08-05T20:47:44.511193",
     "exception": false,
     "start_time": "2025-08-05T20:47:44.481314",
     "status": "completed"
    },
    "tags": []
   },
   "outputs": [],
   "source": [
    "y_calib = y_calib.values.ravel().astype(int)"
   ]
  },
  {
   "cell_type": "code",
   "execution_count": 39,
   "id": "65d1320d-f588-4b38-9072-62af1ae97f7d",
   "metadata": {
    "execution": {
     "iopub.execute_input": "2025-08-05T20:47:44.555809Z",
     "iopub.status.busy": "2025-08-05T20:47:44.555429Z",
     "iopub.status.idle": "2025-08-05T20:47:44.655285Z",
     "shell.execute_reply": "2025-08-05T20:47:44.654001Z"
    },
    "papermill": {
     "duration": 0.124866,
     "end_time": "2025-08-05T20:47:44.657915",
     "exception": false,
     "start_time": "2025-08-05T20:47:44.533049",
     "status": "completed"
    },
    "tags": []
   },
   "outputs": [],
   "source": [
    "from fairness_multiverse.conformal import compute_nc_scores\n",
    "\n",
    "# Compute nonconformity scores on calibration set (1 - probability of true class)\n",
    "nc_scores = compute_nc_scores(probs_calib, y_calib)"
   ]
  },
  {
   "cell_type": "code",
   "execution_count": 40,
   "id": "df3b8ca3-53b7-43d5-9667-7c85da7aeda2",
   "metadata": {
    "execution": {
     "iopub.execute_input": "2025-08-05T20:47:44.707724Z",
     "iopub.status.busy": "2025-08-05T20:47:44.706751Z",
     "iopub.status.idle": "2025-08-05T20:47:44.719832Z",
     "shell.execute_reply": "2025-08-05T20:47:44.719027Z"
    },
    "papermill": {
     "duration": 0.036528,
     "end_time": "2025-08-05T20:47:44.721380",
     "exception": false,
     "start_time": "2025-08-05T20:47:44.684852",
     "status": "completed"
    },
    "tags": []
   },
   "outputs": [],
   "source": [
    "from fairness_multiverse.conformal import find_threshold\n",
    "\n",
    "# Find conformal threshold q_hat for the given alpha (split conformal method)\n",
    "q_hat = find_threshold(nc_scores, alpha)"
   ]
  },
  {
   "cell_type": "code",
   "execution_count": 41,
   "id": "4d29e6c1-0ef6-4aa4-b8fe-4fe79b0d033a",
   "metadata": {
    "execution": {
     "iopub.execute_input": "2025-08-05T20:47:44.745477Z",
     "iopub.status.busy": "2025-08-05T20:47:44.744778Z",
     "iopub.status.idle": "2025-08-05T20:47:44.751056Z",
     "shell.execute_reply": "2025-08-05T20:47:44.750190Z"
    },
    "papermill": {
     "duration": 0.019339,
     "end_time": "2025-08-05T20:47:44.752474",
     "exception": false,
     "start_time": "2025-08-05T20:47:44.733135",
     "status": "completed"
    },
    "tags": []
   },
   "outputs": [
    {
     "data": {
      "text/plain": [
       "0.6608947529990863"
      ]
     },
     "execution_count": 41,
     "metadata": {},
     "output_type": "execute_result"
    }
   ],
   "source": [
    "q_hat"
   ]
  },
  {
   "cell_type": "code",
   "execution_count": 42,
   "id": "92460794-cdac-4be2-ba28-f28c0515a6fb",
   "metadata": {
    "execution": {
     "iopub.execute_input": "2025-08-05T20:47:44.786811Z",
     "iopub.status.busy": "2025-08-05T20:47:44.786375Z",
     "iopub.status.idle": "2025-08-05T20:47:45.892990Z",
     "shell.execute_reply": "2025-08-05T20:47:45.892200Z"
    },
    "papermill": {
     "duration": 1.129579,
     "end_time": "2025-08-05T20:47:45.894435",
     "exception": false,
     "start_time": "2025-08-05T20:47:44.764856",
     "status": "completed"
    },
    "tags": []
   },
   "outputs": [],
   "source": [
    "from fairness_multiverse.conformal import predict_conformal_sets\n",
    "\n",
    "# Generate prediction sets for each test example\n",
    "pred_sets = predict_conformal_sets(model, X_test, q_hat)"
   ]
  },
  {
   "cell_type": "code",
   "execution_count": 43,
   "id": "d90c9a65-e6db-4f5d-80cd-e68fb7e46829",
   "metadata": {
    "execution": {
     "iopub.execute_input": "2025-08-05T20:47:45.920026Z",
     "iopub.status.busy": "2025-08-05T20:47:45.919359Z",
     "iopub.status.idle": "2025-08-05T20:47:45.924266Z",
     "shell.execute_reply": "2025-08-05T20:47:45.923440Z"
    },
    "papermill": {
     "duration": 0.017712,
     "end_time": "2025-08-05T20:47:45.925718",
     "exception": false,
     "start_time": "2025-08-05T20:47:45.908006",
     "status": "completed"
    },
    "tags": []
   },
   "outputs": [],
   "source": [
    "y_true = y_true.squeeze()"
   ]
  },
  {
   "cell_type": "code",
   "execution_count": 44,
   "id": "3a58a54a-1e68-46b9-927a-df01f18aebc8",
   "metadata": {
    "execution": {
     "iopub.execute_input": "2025-08-05T20:47:45.948843Z",
     "iopub.status.busy": "2025-08-05T20:47:45.948339Z",
     "iopub.status.idle": "2025-08-05T20:47:46.464755Z",
     "shell.execute_reply": "2025-08-05T20:47:46.463961Z"
    },
    "papermill": {
     "duration": 0.529141,
     "end_time": "2025-08-05T20:47:46.466310",
     "exception": false,
     "start_time": "2025-08-05T20:47:45.937169",
     "status": "completed"
    },
    "tags": []
   },
   "outputs": [],
   "source": [
    "from fairness_multiverse.conformal import evaluate_sets\n",
    "\n",
    "# Evaluate coverage and average set size on test data\n",
    "metrics = evaluate_sets(pred_sets, y_true)"
   ]
  },
  {
   "cell_type": "markdown",
   "id": "2b569c12-9aaa-4c88-98c9-bbcd0cf3ebb8",
   "metadata": {
    "papermill": {
     "duration": 0.0105,
     "end_time": "2025-08-05T20:47:46.490412",
     "exception": false,
     "start_time": "2025-08-05T20:47:46.479912",
     "status": "completed"
    },
    "tags": []
   },
   "source": [
    "# CP Metrics"
   ]
  },
  {
   "cell_type": "code",
   "execution_count": 45,
   "id": "5ce0a5cb-201f-45a0-ade5-94c7f0bd6095",
   "metadata": {
    "execution": {
     "iopub.execute_input": "2025-08-05T20:47:46.513233Z",
     "iopub.status.busy": "2025-08-05T20:47:46.512445Z",
     "iopub.status.idle": "2025-08-05T20:47:46.518652Z",
     "shell.execute_reply": "2025-08-05T20:47:46.517831Z"
    },
    "papermill": {
     "duration": 0.019104,
     "end_time": "2025-08-05T20:47:46.520063",
     "exception": false,
     "start_time": "2025-08-05T20:47:46.500959",
     "status": "completed"
    },
    "tags": []
   },
   "outputs": [
    {
     "data": {
      "text/plain": [
       "{'coverage': 0.9133875822093412, 'avg_size': 1.2608181919518449}"
      ]
     },
     "execution_count": 45,
     "metadata": {},
     "output_type": "execute_result"
    }
   ],
   "source": [
    "metrics"
   ]
  },
  {
   "cell_type": "code",
   "execution_count": 46,
   "id": "9b9a838d-31c9-430b-ae14-12baee460d17",
   "metadata": {
    "execution": {
     "iopub.execute_input": "2025-08-05T20:47:46.543804Z",
     "iopub.status.busy": "2025-08-05T20:47:46.543313Z",
     "iopub.status.idle": "2025-08-05T20:47:46.548603Z",
     "shell.execute_reply": "2025-08-05T20:47:46.547796Z"
    },
    "papermill": {
     "duration": 0.018306,
     "end_time": "2025-08-05T20:47:46.550181",
     "exception": false,
     "start_time": "2025-08-05T20:47:46.531875",
     "status": "completed"
    },
    "tags": []
   },
   "outputs": [],
   "source": [
    "example_universe = universe.copy()\n",
    "universe_training_year = example_universe.get(\"training_year\")\n",
    "universe_training_size = example_universe.get(\"training_size\")\n",
    "universe_scale = example_universe.get(\"scale\")\n",
    "universe_model = example_universe.get(\"model\")\n",
    "universe_exclude_features = example_universe.get(\"exclude_features\")\n",
    "universe_exclude_subgroups = example_universe.get(\"exclude_subgroups\")"
   ]
  },
  {
   "cell_type": "code",
   "execution_count": 47,
   "id": "f4b6a8ac-9dc0-4245-8a91-5b3b5999c4f9",
   "metadata": {
    "execution": {
     "iopub.execute_input": "2025-08-05T20:47:46.573760Z",
     "iopub.status.busy": "2025-08-05T20:47:46.573126Z",
     "iopub.status.idle": "2025-08-05T20:47:46.578255Z",
     "shell.execute_reply": "2025-08-05T20:47:46.577453Z"
    },
    "papermill": {
     "duration": 0.018073,
     "end_time": "2025-08-05T20:47:46.579802",
     "exception": false,
     "start_time": "2025-08-05T20:47:46.561729",
     "status": "completed"
    },
    "tags": []
   },
   "outputs": [],
   "source": [
    "cp_metrics_dict = {\n",
    "    \"universe_id\": [universe_id],\n",
    "    \"universe_training_year\": [universe_training_year],\n",
    "    \"universe_training_size\": [universe_training_size],\n",
    "    \"universe_scale\": [universe_scale],\n",
    "    \"universe_model\": [universe_model],\n",
    "    \"universe_exclude_features\": [universe_exclude_features],\n",
    "    \"universe_exclude_subgroups\": [universe_exclude_subgroups],\n",
    "    \"q_hat\": [q_hat],\n",
    "    \"coverage\": [metrics[\"coverage\"]],\n",
    "    \"avg_size\": [metrics[\"avg_size\"]],\n",
    "}"
   ]
  },
  {
   "cell_type": "code",
   "execution_count": 48,
   "id": "908acbb1-0371-4915-85ca-3fa520d2efe2",
   "metadata": {
    "execution": {
     "iopub.execute_input": "2025-08-05T20:47:46.603445Z",
     "iopub.status.busy": "2025-08-05T20:47:46.602954Z",
     "iopub.status.idle": "2025-08-05T20:47:46.609589Z",
     "shell.execute_reply": "2025-08-05T20:47:46.608758Z"
    },
    "papermill": {
     "duration": 0.019466,
     "end_time": "2025-08-05T20:47:46.611053",
     "exception": false,
     "start_time": "2025-08-05T20:47:46.591587",
     "status": "completed"
    },
    "tags": []
   },
   "outputs": [
    {
     "data": {
      "text/plain": [
       "{'universe_id': ['6b0cd9e7aa12d1a460698d7a623f6a72'],\n",
       " 'universe_training_year': ['2014'],\n",
       " 'universe_training_size': ['25k'],\n",
       " 'universe_scale': ['do-not-scale'],\n",
       " 'universe_model': ['elasticnet'],\n",
       " 'universe_exclude_features': ['nationality'],\n",
       " 'universe_exclude_subgroups': ['keep-all'],\n",
       " 'q_hat': [0.6608947529990863],\n",
       " 'coverage': [0.9133875822093412],\n",
       " 'avg_size': [1.2608181919518449]}"
      ]
     },
     "execution_count": 48,
     "metadata": {},
     "output_type": "execute_result"
    }
   ],
   "source": [
    "cp_metrics_dict"
   ]
  },
  {
   "cell_type": "code",
   "execution_count": 49,
   "id": "33007efc-14e9-4ec6-97ac-56a455c82265",
   "metadata": {
    "execution": {
     "iopub.execute_input": "2025-08-05T20:47:46.634882Z",
     "iopub.status.busy": "2025-08-05T20:47:46.634383Z",
     "iopub.status.idle": "2025-08-05T20:47:46.639235Z",
     "shell.execute_reply": "2025-08-05T20:47:46.638469Z"
    },
    "papermill": {
     "duration": 0.017821,
     "end_time": "2025-08-05T20:47:46.640687",
     "exception": false,
     "start_time": "2025-08-05T20:47:46.622866",
     "status": "completed"
    },
    "tags": []
   },
   "outputs": [],
   "source": [
    "cp_metrics_df = pd.DataFrame(cp_metrics_dict)"
   ]
  },
  {
   "cell_type": "code",
   "execution_count": 50,
   "id": "db12611b-57b2-4910-b9d0-355adfd6e7bf",
   "metadata": {
    "execution": {
     "iopub.execute_input": "2025-08-05T20:47:46.665059Z",
     "iopub.status.busy": "2025-08-05T20:47:46.664560Z",
     "iopub.status.idle": "2025-08-05T20:47:46.678970Z",
     "shell.execute_reply": "2025-08-05T20:47:46.678266Z"
    },
    "papermill": {
     "duration": 0.027427,
     "end_time": "2025-08-05T20:47:46.680394",
     "exception": false,
     "start_time": "2025-08-05T20:47:46.652967",
     "status": "completed"
    },
    "tags": []
   },
   "outputs": [
    {
     "data": {
      "text/html": [
       "<div>\n",
       "<style scoped>\n",
       "    .dataframe tbody tr th:only-of-type {\n",
       "        vertical-align: middle;\n",
       "    }\n",
       "\n",
       "    .dataframe tbody tr th {\n",
       "        vertical-align: top;\n",
       "    }\n",
       "\n",
       "    .dataframe thead th {\n",
       "        text-align: right;\n",
       "    }\n",
       "</style>\n",
       "<table border=\"1\" class=\"dataframe\">\n",
       "  <thead>\n",
       "    <tr style=\"text-align: right;\">\n",
       "      <th></th>\n",
       "      <th>universe_id</th>\n",
       "      <th>universe_training_year</th>\n",
       "      <th>universe_training_size</th>\n",
       "      <th>universe_scale</th>\n",
       "      <th>universe_model</th>\n",
       "      <th>universe_exclude_features</th>\n",
       "      <th>universe_exclude_subgroups</th>\n",
       "      <th>q_hat</th>\n",
       "      <th>coverage</th>\n",
       "      <th>avg_size</th>\n",
       "    </tr>\n",
       "  </thead>\n",
       "  <tbody>\n",
       "    <tr>\n",
       "      <th>0</th>\n",
       "      <td>6b0cd9e7aa12d1a460698d7a623f6a72</td>\n",
       "      <td>2014</td>\n",
       "      <td>25k</td>\n",
       "      <td>do-not-scale</td>\n",
       "      <td>elasticnet</td>\n",
       "      <td>nationality</td>\n",
       "      <td>keep-all</td>\n",
       "      <td>0.660895</td>\n",
       "      <td>0.913388</td>\n",
       "      <td>1.260818</td>\n",
       "    </tr>\n",
       "  </tbody>\n",
       "</table>\n",
       "</div>"
      ],
      "text/plain": [
       "                        universe_id universe_training_year  \\\n",
       "0  6b0cd9e7aa12d1a460698d7a623f6a72                   2014   \n",
       "\n",
       "  universe_training_size universe_scale universe_model  \\\n",
       "0                    25k   do-not-scale     elasticnet   \n",
       "\n",
       "  universe_exclude_features universe_exclude_subgroups     q_hat  coverage  \\\n",
       "0               nationality                   keep-all  0.660895  0.913388   \n",
       "\n",
       "   avg_size  \n",
       "0  1.260818  "
      ]
     },
     "execution_count": 50,
     "metadata": {},
     "output_type": "execute_result"
    }
   ],
   "source": [
    "cp_metrics_df"
   ]
  },
  {
   "cell_type": "code",
   "execution_count": 51,
   "id": "b7fbde55-a0a1-47e4-9af6-fe4a17fa8c61",
   "metadata": {
    "execution": {
     "iopub.execute_input": "2025-08-05T20:47:46.704266Z",
     "iopub.status.busy": "2025-08-05T20:47:46.703631Z",
     "iopub.status.idle": "2025-08-05T20:47:46.707982Z",
     "shell.execute_reply": "2025-08-05T20:47:46.707179Z"
    },
    "papermill": {
     "duration": 0.017638,
     "end_time": "2025-08-05T20:47:46.709400",
     "exception": false,
     "start_time": "2025-08-05T20:47:46.691762",
     "status": "completed"
    },
    "tags": []
   },
   "outputs": [],
   "source": [
    "# Conditional Coverage & looking at subgroups"
   ]
  },
  {
   "cell_type": "code",
   "execution_count": 52,
   "id": "027ae886-68dd-4141-96c7-805a5450e1ef",
   "metadata": {
    "execution": {
     "iopub.execute_input": "2025-08-05T20:47:46.733669Z",
     "iopub.status.busy": "2025-08-05T20:47:46.733147Z",
     "iopub.status.idle": "2025-08-05T20:47:46.900668Z",
     "shell.execute_reply": "2025-08-05T20:47:46.899879Z"
    },
    "papermill": {
     "duration": 0.180803,
     "end_time": "2025-08-05T20:47:46.902213",
     "exception": false,
     "start_time": "2025-08-05T20:47:46.721410",
     "status": "completed"
    },
    "tags": []
   },
   "outputs": [],
   "source": [
    "from fairness_multiverse.conformal import build_cp_groups\n",
    "\n",
    "cp_groups_df = build_cp_groups(pred_sets, y_true, X_test.index, org_test)\n",
    "#needs universe_id and setting"
   ]
  },
  {
   "cell_type": "code",
   "execution_count": 53,
   "id": "6cbdab96-b2b2-45af-ad54-d0516db2e28d",
   "metadata": {
    "execution": {
     "iopub.execute_input": "2025-08-05T20:47:46.926242Z",
     "iopub.status.busy": "2025-08-05T20:47:46.925927Z",
     "iopub.status.idle": "2025-08-05T20:47:47.861448Z",
     "shell.execute_reply": "2025-08-05T20:47:47.860497Z"
    },
    "papermill": {
     "duration": 0.948913,
     "end_time": "2025-08-05T20:47:47.863049",
     "exception": false,
     "start_time": "2025-08-05T20:47:46.914136",
     "status": "completed"
    },
    "tags": []
   },
   "outputs": [],
   "source": [
    "# Define covered = 1 if true_label is in the predicted set\n",
    "cp_groups_df['covered'] = cp_groups_df.apply(\n",
    "    lambda r: int(r['true_label'] in r['pred_set']),\n",
    "    axis=1\n",
    ")"
   ]
  },
  {
   "cell_type": "code",
   "execution_count": 54,
   "id": "338ff529-1a6b-4b87-a931-8e4788d52aad",
   "metadata": {
    "execution": {
     "iopub.execute_input": "2025-08-05T20:47:47.887507Z",
     "iopub.status.busy": "2025-08-05T20:47:47.887210Z",
     "iopub.status.idle": "2025-08-05T20:47:47.891145Z",
     "shell.execute_reply": "2025-08-05T20:47:47.890289Z"
    },
    "papermill": {
     "duration": 0.017401,
     "end_time": "2025-08-05T20:47:47.892632",
     "exception": false,
     "start_time": "2025-08-05T20:47:47.875231",
     "status": "completed"
    },
    "tags": []
   },
   "outputs": [],
   "source": [
    "#cp_groups_df"
   ]
  },
  {
   "cell_type": "code",
   "execution_count": 55,
   "id": "90032e27-66df-4540-9169-4e89cfbaa758",
   "metadata": {
    "execution": {
     "iopub.execute_input": "2025-08-05T20:47:47.917091Z",
     "iopub.status.busy": "2025-08-05T20:47:47.916585Z",
     "iopub.status.idle": "2025-08-05T20:47:47.925577Z",
     "shell.execute_reply": "2025-08-05T20:47:47.924876Z"
    },
    "papermill": {
     "duration": 0.022206,
     "end_time": "2025-08-05T20:47:47.926978",
     "exception": false,
     "start_time": "2025-08-05T20:47:47.904772",
     "status": "completed"
    },
    "tags": []
   },
   "outputs": [],
   "source": [
    "subgroups = ['frau1','nongerman','nongerman_male','nongerman_female']\n",
    "\n",
    "# Conditional coverage for subgroup==1\n",
    "cond_coverage = {\n",
    "    g: cp_groups_df.loc[cp_groups_df[g]==1, 'covered'].mean()\n",
    "    for g in subgroups\n",
    "}"
   ]
  },
  {
   "cell_type": "code",
   "execution_count": 56,
   "id": "1e348fb1-b9c3-45bc-ba23-f016827a7e0d",
   "metadata": {
    "execution": {
     "iopub.execute_input": "2025-08-05T20:47:47.951194Z",
     "iopub.status.busy": "2025-08-05T20:47:47.950682Z",
     "iopub.status.idle": "2025-08-05T20:47:47.956730Z",
     "shell.execute_reply": "2025-08-05T20:47:47.955858Z"
    },
    "papermill": {
     "duration": 0.019417,
     "end_time": "2025-08-05T20:47:47.958146",
     "exception": false,
     "start_time": "2025-08-05T20:47:47.938729",
     "status": "completed"
    },
    "tags": []
   },
   "outputs": [
    {
     "data": {
      "text/plain": [
       "{'frau1': 0.9121175360560723,\n",
       " 'nongerman': 0.9627238533655196,\n",
       " 'nongerman_male': 0.9702783031613078,\n",
       " 'nongerman_female': 0.9502235469448584}"
      ]
     },
     "execution_count": 56,
     "metadata": {},
     "output_type": "execute_result"
    }
   ],
   "source": [
    "cond_coverage"
   ]
  },
  {
   "cell_type": "code",
   "execution_count": 57,
   "id": "f5093324-c3dd-4d63-bc4c-8d945e5c8bbb",
   "metadata": {
    "execution": {
     "iopub.execute_input": "2025-08-05T20:47:47.982831Z",
     "iopub.status.busy": "2025-08-05T20:47:47.982336Z",
     "iopub.status.idle": "2025-08-05T20:47:47.988664Z",
     "shell.execute_reply": "2025-08-05T20:47:47.987808Z"
    },
    "papermill": {
     "duration": 0.019933,
     "end_time": "2025-08-05T20:47:47.990072",
     "exception": false,
     "start_time": "2025-08-05T20:47:47.970139",
     "status": "completed"
    },
    "tags": []
   },
   "outputs": [],
   "source": [
    "for subgroup, cov in cond_coverage.items():\n",
    "    cp_metrics_df[f\"cov_{subgroup}\"] = cov"
   ]
  },
  {
   "cell_type": "code",
   "execution_count": 58,
   "id": "6e872e10-dbe5-49e8-b554-5030c98ff75d",
   "metadata": {
    "execution": {
     "iopub.execute_input": "2025-08-05T20:47:48.014675Z",
     "iopub.status.busy": "2025-08-05T20:47:48.014181Z",
     "iopub.status.idle": "2025-08-05T20:47:48.028198Z",
     "shell.execute_reply": "2025-08-05T20:47:48.027416Z"
    },
    "papermill": {
     "duration": 0.027595,
     "end_time": "2025-08-05T20:47:48.029658",
     "exception": false,
     "start_time": "2025-08-05T20:47:48.002063",
     "status": "completed"
    },
    "tags": []
   },
   "outputs": [
    {
     "data": {
      "text/html": [
       "<div>\n",
       "<style scoped>\n",
       "    .dataframe tbody tr th:only-of-type {\n",
       "        vertical-align: middle;\n",
       "    }\n",
       "\n",
       "    .dataframe tbody tr th {\n",
       "        vertical-align: top;\n",
       "    }\n",
       "\n",
       "    .dataframe thead th {\n",
       "        text-align: right;\n",
       "    }\n",
       "</style>\n",
       "<table border=\"1\" class=\"dataframe\">\n",
       "  <thead>\n",
       "    <tr style=\"text-align: right;\">\n",
       "      <th></th>\n",
       "      <th>universe_id</th>\n",
       "      <th>universe_training_year</th>\n",
       "      <th>universe_training_size</th>\n",
       "      <th>universe_scale</th>\n",
       "      <th>universe_model</th>\n",
       "      <th>universe_exclude_features</th>\n",
       "      <th>universe_exclude_subgroups</th>\n",
       "      <th>q_hat</th>\n",
       "      <th>coverage</th>\n",
       "      <th>avg_size</th>\n",
       "      <th>cov_frau1</th>\n",
       "      <th>cov_nongerman</th>\n",
       "      <th>cov_nongerman_male</th>\n",
       "      <th>cov_nongerman_female</th>\n",
       "    </tr>\n",
       "  </thead>\n",
       "  <tbody>\n",
       "    <tr>\n",
       "      <th>0</th>\n",
       "      <td>6b0cd9e7aa12d1a460698d7a623f6a72</td>\n",
       "      <td>2014</td>\n",
       "      <td>25k</td>\n",
       "      <td>do-not-scale</td>\n",
       "      <td>elasticnet</td>\n",
       "      <td>nationality</td>\n",
       "      <td>keep-all</td>\n",
       "      <td>0.660895</td>\n",
       "      <td>0.913388</td>\n",
       "      <td>1.260818</td>\n",
       "      <td>0.912118</td>\n",
       "      <td>0.962724</td>\n",
       "      <td>0.970278</td>\n",
       "      <td>0.950224</td>\n",
       "    </tr>\n",
       "  </tbody>\n",
       "</table>\n",
       "</div>"
      ],
      "text/plain": [
       "                        universe_id universe_training_year  \\\n",
       "0  6b0cd9e7aa12d1a460698d7a623f6a72                   2014   \n",
       "\n",
       "  universe_training_size universe_scale universe_model  \\\n",
       "0                    25k   do-not-scale     elasticnet   \n",
       "\n",
       "  universe_exclude_features universe_exclude_subgroups     q_hat  coverage  \\\n",
       "0               nationality                   keep-all  0.660895  0.913388   \n",
       "\n",
       "   avg_size  cov_frau1  cov_nongerman  cov_nongerman_male  \\\n",
       "0  1.260818   0.912118       0.962724            0.970278   \n",
       "\n",
       "   cov_nongerman_female  \n",
       "0              0.950224  "
      ]
     },
     "execution_count": 58,
     "metadata": {},
     "output_type": "execute_result"
    }
   ],
   "source": [
    "cp_metrics_df"
   ]
  },
  {
   "cell_type": "markdown",
   "id": "33774451",
   "metadata": {
    "papermill": {
     "duration": 0.011658,
     "end_time": "2025-08-05T20:47:48.053548",
     "exception": false,
     "start_time": "2025-08-05T20:47:48.041890",
     "status": "completed"
    },
    "tags": []
   },
   "source": [
    "# (Fairness) Metrics"
   ]
  },
  {
   "cell_type": "code",
   "execution_count": 59,
   "id": "debc5d62",
   "metadata": {
    "execution": {
     "iopub.execute_input": "2025-08-05T20:47:48.078031Z",
     "iopub.status.busy": "2025-08-05T20:47:48.077333Z",
     "iopub.status.idle": "2025-08-05T20:47:48.091305Z",
     "shell.execute_reply": "2025-08-05T20:47:48.090596Z"
    },
    "papermill": {
     "duration": 0.027654,
     "end_time": "2025-08-05T20:47:48.092620",
     "exception": false,
     "start_time": "2025-08-05T20:47:48.064966",
     "status": "completed"
    },
    "tags": []
   },
   "outputs": [],
   "source": [
    "# do I need to include maxdeutsch1.missing?\n",
    "\n",
    "import numpy as np\n",
    "\n",
    "colname_to_bin = \"maxdeutsch1\"\n",
    "majority_value = org_train[colname_to_bin].mode()[0]\n",
    "\n",
    "org_test[\"majmin\"] = np.where(org_test[colname_to_bin] == majority_value, \"majority\", \"minority\")"
   ]
  },
  {
   "cell_type": "code",
   "execution_count": 60,
   "id": "06a50de5",
   "metadata": {
    "execution": {
     "iopub.execute_input": "2025-08-05T20:47:48.117666Z",
     "iopub.status.busy": "2025-08-05T20:47:48.117022Z",
     "iopub.status.idle": "2025-08-05T20:47:49.659878Z",
     "shell.execute_reply": "2025-08-05T20:47:49.659094Z"
    },
    "papermill": {
     "duration": 1.55644,
     "end_time": "2025-08-05T20:47:49.661295",
     "exception": false,
     "start_time": "2025-08-05T20:47:48.104855",
     "status": "completed"
    },
    "tags": []
   },
   "outputs": [],
   "source": [
    "example_universe = universe.copy()\n",
    "example_universe[\"cutoff\"] = example_universe[\"cutoff\"][0]\n",
    "example_universe[\"eval_fairness_grouping\"] = example_universe[\"eval_fairness_grouping\"][0]\n",
    "fairness_dict, metric_frame = universe_analysis.compute_metrics(\n",
    "    example_universe,\n",
    "    y_pred_prob=probs_test,\n",
    "    y_test=y_true,\n",
    "    org_test=org_test,\n",
    ")"
   ]
  },
  {
   "cell_type": "markdown",
   "id": "f95d4e02",
   "metadata": {
    "papermill": {
     "duration": 0.011533,
     "end_time": "2025-08-05T20:47:49.687994",
     "exception": false,
     "start_time": "2025-08-05T20:47:49.676461",
     "status": "completed"
    },
    "tags": []
   },
   "source": [
    "# Overall"
   ]
  },
  {
   "cell_type": "markdown",
   "id": "bdee4871",
   "metadata": {
    "papermill": {
     "duration": 0.01166,
     "end_time": "2025-08-05T20:47:49.711157",
     "exception": false,
     "start_time": "2025-08-05T20:47:49.699497",
     "status": "completed"
    },
    "tags": []
   },
   "source": [
    "Fairness\n",
    "Main fairness target: Equalized Odds. Seems to be a better fit than equal opportunity, since we're not only interested in Y = 1. Seems to be a better fit than demographic parity, since we also care about accuracy, not just equal distribution of preds.\n",
    "\n",
    "Pick column for computation of fairness metrics\n",
    "\n",
    "Performance\n",
    "Overall performance measures, most interesting in relation to the measures split by group below"
   ]
  },
  {
   "cell_type": "code",
   "execution_count": 61,
   "id": "c4e067c6",
   "metadata": {
    "execution": {
     "iopub.execute_input": "2025-08-05T20:47:49.735711Z",
     "iopub.status.busy": "2025-08-05T20:47:49.735122Z",
     "iopub.status.idle": "2025-08-05T20:47:49.742360Z",
     "shell.execute_reply": "2025-08-05T20:47:49.741632Z"
    },
    "papermill": {
     "duration": 0.021373,
     "end_time": "2025-08-05T20:47:49.744082",
     "exception": false,
     "start_time": "2025-08-05T20:47:49.722709",
     "status": "completed"
    },
    "tags": []
   },
   "outputs": [
    {
     "data": {
      "text/plain": [
       "accuracy                   0.214391\n",
       "balanced accuracy          0.526306\n",
       "f1                         0.235997\n",
       "precision                  0.134817\n",
       "false positive rate        0.893251\n",
       "false negative rate        0.054136\n",
       "selection rate             0.900000\n",
       "count                  89710.000000\n",
       "dtype: float64"
      ]
     },
     "execution_count": 61,
     "metadata": {},
     "output_type": "execute_result"
    }
   ],
   "source": [
    "metric_frame.overall"
   ]
  },
  {
   "cell_type": "markdown",
   "id": "e968fe9d",
   "metadata": {
    "papermill": {
     "duration": 0.012198,
     "end_time": "2025-08-05T20:47:49.769381",
     "exception": false,
     "start_time": "2025-08-05T20:47:49.757183",
     "status": "completed"
    },
    "tags": []
   },
   "source": [
    "By Group"
   ]
  },
  {
   "cell_type": "code",
   "execution_count": 62,
   "id": "ec325bce",
   "metadata": {
    "execution": {
     "iopub.execute_input": "2025-08-05T20:47:49.795120Z",
     "iopub.status.busy": "2025-08-05T20:47:49.794385Z",
     "iopub.status.idle": "2025-08-05T20:47:49.807630Z",
     "shell.execute_reply": "2025-08-05T20:47:49.806702Z"
    },
    "papermill": {
     "duration": 0.027763,
     "end_time": "2025-08-05T20:47:49.809189",
     "exception": false,
     "start_time": "2025-08-05T20:47:49.781426",
     "status": "completed"
    },
    "tags": []
   },
   "outputs": [
    {
     "data": {
      "text/html": [
       "<div>\n",
       "<style scoped>\n",
       "    .dataframe tbody tr th:only-of-type {\n",
       "        vertical-align: middle;\n",
       "    }\n",
       "\n",
       "    .dataframe tbody tr th {\n",
       "        vertical-align: top;\n",
       "    }\n",
       "\n",
       "    .dataframe thead th {\n",
       "        text-align: right;\n",
       "    }\n",
       "</style>\n",
       "<table border=\"1\" class=\"dataframe\">\n",
       "  <thead>\n",
       "    <tr style=\"text-align: right;\">\n",
       "      <th></th>\n",
       "      <th>accuracy</th>\n",
       "      <th>balanced accuracy</th>\n",
       "      <th>f1</th>\n",
       "      <th>precision</th>\n",
       "      <th>false positive rate</th>\n",
       "      <th>false negative rate</th>\n",
       "      <th>selection rate</th>\n",
       "      <th>count</th>\n",
       "    </tr>\n",
       "    <tr>\n",
       "      <th>majmin</th>\n",
       "      <th></th>\n",
       "      <th></th>\n",
       "      <th></th>\n",
       "      <th></th>\n",
       "      <th></th>\n",
       "      <th></th>\n",
       "      <th></th>\n",
       "      <th></th>\n",
       "    </tr>\n",
       "  </thead>\n",
       "  <tbody>\n",
       "    <tr>\n",
       "      <th>majority</th>\n",
       "      <td>0.235218</td>\n",
       "      <td>0.533046</td>\n",
       "      <td>0.24476</td>\n",
       "      <td>0.140746</td>\n",
       "      <td>0.871764</td>\n",
       "      <td>0.062144</td>\n",
       "      <td>0.880497</td>\n",
       "      <td>69170.0</td>\n",
       "    </tr>\n",
       "    <tr>\n",
       "      <th>minority</th>\n",
       "      <td>0.144255</td>\n",
       "      <td>0.506271</td>\n",
       "      <td>0.20835</td>\n",
       "      <td>0.116612</td>\n",
       "      <td>0.964231</td>\n",
       "      <td>0.023226</td>\n",
       "      <td>0.965677</td>\n",
       "      <td>20540.0</td>\n",
       "    </tr>\n",
       "  </tbody>\n",
       "</table>\n",
       "</div>"
      ],
      "text/plain": [
       "          accuracy  balanced accuracy       f1  precision  \\\n",
       "majmin                                                      \n",
       "majority  0.235218           0.533046  0.24476   0.140746   \n",
       "minority  0.144255           0.506271  0.20835   0.116612   \n",
       "\n",
       "          false positive rate  false negative rate  selection rate    count  \n",
       "majmin                                                                       \n",
       "majority             0.871764             0.062144        0.880497  69170.0  \n",
       "minority             0.964231             0.023226        0.965677  20540.0  "
      ]
     },
     "execution_count": 62,
     "metadata": {},
     "output_type": "execute_result"
    }
   ],
   "source": [
    "metric_frame.by_group"
   ]
  },
  {
   "cell_type": "code",
   "execution_count": 63,
   "id": "a9ddbe63",
   "metadata": {
    "execution": {
     "iopub.execute_input": "2025-08-05T20:47:49.835997Z",
     "iopub.status.busy": "2025-08-05T20:47:49.835477Z",
     "iopub.status.idle": "2025-08-05T20:47:51.471841Z",
     "shell.execute_reply": "2025-08-05T20:47:51.470922Z"
    },
    "papermill": {
     "duration": 1.651111,
     "end_time": "2025-08-05T20:47:51.473821",
     "exception": false,
     "start_time": "2025-08-05T20:47:49.822710",
     "status": "completed"
    },
    "tags": []
   },
   "outputs": [
    {
     "data": {
      "text/plain": [
       "array([[<Axes: title={'center': 'accuracy'}, xlabel='majmin'>,\n",
       "        <Axes: title={'center': 'balanced accuracy'}, xlabel='majmin'>,\n",
       "        <Axes: title={'center': 'f1'}, xlabel='majmin'>],\n",
       "       [<Axes: title={'center': 'precision'}, xlabel='majmin'>,\n",
       "        <Axes: title={'center': 'false positive rate'}, xlabel='majmin'>,\n",
       "        <Axes: title={'center': 'false negative rate'}, xlabel='majmin'>],\n",
       "       [<Axes: title={'center': 'selection rate'}, xlabel='majmin'>,\n",
       "        <Axes: title={'center': 'count'}, xlabel='majmin'>,\n",
       "        <Axes: xlabel='majmin'>]], dtype=object)"
      ]
     },
     "execution_count": 63,
     "metadata": {},
     "output_type": "execute_result"
    },
    {
     "data": {
      "image/png": "[encoded data removed]",
      "text/plain": [
       "<Figure size 1200x800 with 9 Axes>"
      ]
     },
     "metadata": {},
     "output_type": "display_data"
    }
   ],
   "source": [
    "# In a graphic\n",
    "metric_frame.by_group.plot.bar(\n",
    "    subplots=True,\n",
    "    layout=[3, 3],\n",
    "    legend=False,\n",
    "    figsize=[12, 8],\n",
    "    title=\"Show all metrics\",\n",
    ")"
   ]
  },
  {
   "cell_type": "markdown",
   "id": "f57a0bac",
   "metadata": {
    "papermill": {
     "duration": 0.023199,
     "end_time": "2025-08-05T20:47:51.522663",
     "exception": false,
     "start_time": "2025-08-05T20:47:51.499464",
     "status": "completed"
    },
    "tags": []
   },
   "source": [
    "# Final Output"
   ]
  },
  {
   "cell_type": "code",
   "execution_count": 64,
   "id": "96d280a3",
   "metadata": {
    "execution": {
     "iopub.execute_input": "2025-08-05T20:47:51.569777Z",
     "iopub.status.busy": "2025-08-05T20:47:51.569115Z",
     "iopub.status.idle": "2025-08-05T20:47:51.577529Z",
     "shell.execute_reply": "2025-08-05T20:47:51.576584Z"
    },
    "papermill": {
     "duration": 0.033665,
     "end_time": "2025-08-05T20:47:51.578912",
     "exception": false,
     "start_time": "2025-08-05T20:47:51.545247",
     "status": "completed"
    },
    "tags": []
   },
   "outputs": [
    {
     "data": {
      "text/plain": [
       "4"
      ]
     },
     "execution_count": 64,
     "metadata": {},
     "output_type": "execute_result"
    }
   ],
   "source": [
    "sub_universes = universe_analysis.generate_sub_universes()\n",
    "len(sub_universes)"
   ]
  },
  {
   "cell_type": "code",
   "execution_count": 65,
   "id": "92adf7ba",
   "metadata": {
    "execution": {
     "iopub.execute_input": "2025-08-05T20:47:51.629509Z",
     "iopub.status.busy": "2025-08-05T20:47:51.628874Z",
     "iopub.status.idle": "2025-08-05T20:47:51.634909Z",
     "shell.execute_reply": "2025-08-05T20:47:51.633942Z"
    },
    "papermill": {
     "duration": 0.033664,
     "end_time": "2025-08-05T20:47:51.636518",
     "exception": false,
     "start_time": "2025-08-05T20:47:51.602854",
     "status": "completed"
    },
    "tags": []
   },
   "outputs": [],
   "source": [
    "def filter_sub_universe_data(sub_universe, org_test):\n",
    "    # Keep all rows — no filtering\n",
    "    keep_rows_mask = np.ones(org_test.shape[0], dtype=bool)\n",
    "\n",
    "    print(f\"[INFO] Keeping all rows: {keep_rows_mask.sum()} rows retained.\")\n",
    "    return keep_rows_mask"
   ]
  },
  {
   "cell_type": "code",
   "execution_count": 66,
   "id": "4a759155",
   "metadata": {
    "execution": {
     "iopub.execute_input": "2025-08-05T20:47:51.685569Z",
     "iopub.status.busy": "2025-08-05T20:47:51.684735Z",
     "iopub.status.idle": "2025-08-05T20:48:02.358467Z",
     "shell.execute_reply": "2025-08-05T20:48:02.357586Z"
    },
    "papermill": {
     "duration": 10.699514,
     "end_time": "2025-08-05T20:48:02.360094",
     "exception": false,
     "start_time": "2025-08-05T20:47:51.660580",
     "status": "completed"
    },
    "tags": []
   },
   "outputs": [
    {
     "name": "stdout",
     "output_type": "stream",
     "text": [
      "Stopping execution_time clock.\n",
      "[INFO] Keeping all rows: 89710 rows retained.\n"
     ]
    },
    {
     "name": "stdout",
     "output_type": "stream",
     "text": [
      "[INFO] Keeping all rows: 89710 rows retained.\n"
     ]
    },
    {
     "name": "stdout",
     "output_type": "stream",
     "text": [
      "[INFO] Keeping all rows: 89710 rows retained.\n"
     ]
    },
    {
     "name": "stdout",
     "output_type": "stream",
     "text": [
      "[INFO] Keeping all rows: 89710 rows retained.\n"
     ]
    },
    {
     "data": {
      "text/html": [
       "<div>\n",
       "<style scoped>\n",
       "    .dataframe tbody tr th:only-of-type {\n",
       "        vertical-align: middle;\n",
       "    }\n",
       "\n",
       "    .dataframe tbody tr th {\n",
       "        vertical-align: top;\n",
       "    }\n",
       "\n",
       "    .dataframe thead th {\n",
       "        text-align: right;\n",
       "    }\n",
       "</style>\n",
       "<table border=\"1\" class=\"dataframe\">\n",
       "  <thead>\n",
       "    <tr style=\"text-align: right;\">\n",
       "      <th></th>\n",
       "      <th>run_no</th>\n",
       "      <th>universe_id</th>\n",
       "      <th>universe_settings</th>\n",
       "      <th>execution_time</th>\n",
       "      <th>test_size_n</th>\n",
       "      <th>test_size_frac</th>\n",
       "      <th>fair_main_equalized_odds_difference</th>\n",
       "      <th>fair_main_equalized_odds_ratio</th>\n",
       "      <th>fair_main_demographic_parity_difference</th>\n",
       "      <th>fair_main_demographic_parity_ratio</th>\n",
       "      <th>...</th>\n",
       "      <th>perf_grp_precision_0</th>\n",
       "      <th>perf_grp_precision_1</th>\n",
       "      <th>perf_grp_false positive rate_0</th>\n",
       "      <th>perf_grp_false positive rate_1</th>\n",
       "      <th>perf_grp_false negative rate_0</th>\n",
       "      <th>perf_grp_false negative rate_1</th>\n",
       "      <th>perf_grp_selection rate_0</th>\n",
       "      <th>perf_grp_selection rate_1</th>\n",
       "      <th>perf_grp_count_0</th>\n",
       "      <th>perf_grp_count_1</th>\n",
       "    </tr>\n",
       "  </thead>\n",
       "  <tbody>\n",
       "    <tr>\n",
       "      <th>0</th>\n",
       "      <td>16</td>\n",
       "      <td>6b0cd9e7aa12d1a460698d7a623f6a72</td>\n",
       "      <td>{\"cutoff\": \"quantile_0.1\", \"eval_fairness_grou...</td>\n",
       "      <td>29.282676</td>\n",
       "      <td>89710</td>\n",
       "      <td>1.0</td>\n",
       "      <td>0.092467</td>\n",
       "      <td>0.904103</td>\n",
       "      <td>0.085179</td>\n",
       "      <td>0.911793</td>\n",
       "      <td>...</td>\n",
       "      <td>NaN</td>\n",
       "      <td>NaN</td>\n",
       "      <td>NaN</td>\n",
       "      <td>NaN</td>\n",
       "      <td>NaN</td>\n",
       "      <td>NaN</td>\n",
       "      <td>NaN</td>\n",
       "      <td>NaN</td>\n",
       "      <td>NaN</td>\n",
       "      <td>NaN</td>\n",
       "    </tr>\n",
       "    <tr>\n",
       "      <th>0</th>\n",
       "      <td>16</td>\n",
       "      <td>6b0cd9e7aa12d1a460698d7a623f6a72</td>\n",
       "      <td>{\"cutoff\": \"quantile_0.1\", \"eval_fairness_grou...</td>\n",
       "      <td>29.282676</td>\n",
       "      <td>89710</td>\n",
       "      <td>1.0</td>\n",
       "      <td>0.092467</td>\n",
       "      <td>0.904103</td>\n",
       "      <td>0.085179</td>\n",
       "      <td>0.911793</td>\n",
       "      <td>...</td>\n",
       "      <td>0.116612</td>\n",
       "      <td>0.140746</td>\n",
       "      <td>0.964231</td>\n",
       "      <td>0.871764</td>\n",
       "      <td>0.023226</td>\n",
       "      <td>0.062144</td>\n",
       "      <td>0.965677</td>\n",
       "      <td>0.880497</td>\n",
       "      <td>20540.0</td>\n",
       "      <td>69170.0</td>\n",
       "    </tr>\n",
       "    <tr>\n",
       "      <th>0</th>\n",
       "      <td>16</td>\n",
       "      <td>6b0cd9e7aa12d1a460698d7a623f6a72</td>\n",
       "      <td>{\"cutoff\": \"quantile_0.25\", \"eval_fairness_gro...</td>\n",
       "      <td>29.282676</td>\n",
       "      <td>89710</td>\n",
       "      <td>1.0</td>\n",
       "      <td>0.225250</td>\n",
       "      <td>0.752029</td>\n",
       "      <td>0.209830</td>\n",
       "      <td>0.769868</td>\n",
       "      <td>...</td>\n",
       "      <td>NaN</td>\n",
       "      <td>NaN</td>\n",
       "      <td>NaN</td>\n",
       "      <td>NaN</td>\n",
       "      <td>NaN</td>\n",
       "      <td>NaN</td>\n",
       "      <td>NaN</td>\n",
       "      <td>NaN</td>\n",
       "      <td>NaN</td>\n",
       "      <td>NaN</td>\n",
       "    </tr>\n",
       "    <tr>\n",
       "      <th>0</th>\n",
       "      <td>16</td>\n",
       "      <td>6b0cd9e7aa12d1a460698d7a623f6a72</td>\n",
       "      <td>{\"cutoff\": \"quantile_0.25\", \"eval_fairness_gro...</td>\n",
       "      <td>29.282676</td>\n",
       "      <td>89710</td>\n",
       "      <td>1.0</td>\n",
       "      <td>0.225250</td>\n",
       "      <td>0.752029</td>\n",
       "      <td>0.209830</td>\n",
       "      <td>0.769868</td>\n",
       "      <td>...</td>\n",
       "      <td>0.118592</td>\n",
       "      <td>0.155415</td>\n",
       "      <td>0.908376</td>\n",
       "      <td>0.683125</td>\n",
       "      <td>0.062078</td>\n",
       "      <td>0.174398</td>\n",
       "      <td>0.911782</td>\n",
       "      <td>0.701952</td>\n",
       "      <td>20540.0</td>\n",
       "      <td>69170.0</td>\n",
       "    </tr>\n",
       "  </tbody>\n",
       "</table>\n",
       "<p>4 rows × 50 columns</p>\n",
       "</div>"
      ],
      "text/plain": [
       "  run_no                       universe_id  \\\n",
       "0     16  6b0cd9e7aa12d1a460698d7a623f6a72   \n",
       "0     16  6b0cd9e7aa12d1a460698d7a623f6a72   \n",
       "0     16  6b0cd9e7aa12d1a460698d7a623f6a72   \n",
       "0     16  6b0cd9e7aa12d1a460698d7a623f6a72   \n",
       "\n",
       "                                   universe_settings  execution_time  \\\n",
       "0  {\"cutoff\": \"quantile_0.1\", \"eval_fairness_grou...       29.282676   \n",
       "0  {\"cutoff\": \"quantile_0.1\", \"eval_fairness_grou...       29.282676   \n",
       "0  {\"cutoff\": \"quantile_0.25\", \"eval_fairness_gro...       29.282676   \n",
       "0  {\"cutoff\": \"quantile_0.25\", \"eval_fairness_gro...       29.282676   \n",
       "\n",
       "   test_size_n  test_size_frac  fair_main_equalized_odds_difference  \\\n",
       "0        89710             1.0                             0.092467   \n",
       "0        89710             1.0                             0.092467   \n",
       "0        89710             1.0                             0.225250   \n",
       "0        89710             1.0                             0.225250   \n",
       "\n",
       "   fair_main_equalized_odds_ratio  fair_main_demographic_parity_difference  \\\n",
       "0                        0.904103                                 0.085179   \n",
       "0                        0.904103                                 0.085179   \n",
       "0                        0.752029                                 0.209830   \n",
       "0                        0.752029                                 0.209830   \n",
       "\n",
       "   fair_main_demographic_parity_ratio  ...  perf_grp_precision_0  \\\n",
       "0                            0.911793  ...                   NaN   \n",
       "0                            0.911793  ...              0.116612   \n",
       "0                            0.769868  ...                   NaN   \n",
       "0                            0.769868  ...              0.118592   \n",
       "\n",
       "   perf_grp_precision_1  perf_grp_false positive rate_0  \\\n",
       "0                   NaN                             NaN   \n",
       "0              0.140746                        0.964231   \n",
       "0                   NaN                             NaN   \n",
       "0              0.155415                        0.908376   \n",
       "\n",
       "   perf_grp_false positive rate_1  perf_grp_false negative rate_0  \\\n",
       "0                             NaN                             NaN   \n",
       "0                        0.871764                        0.023226   \n",
       "0                             NaN                             NaN   \n",
       "0                        0.683125                        0.062078   \n",
       "\n",
       "   perf_grp_false negative rate_1  perf_grp_selection rate_0  \\\n",
       "0                             NaN                        NaN   \n",
       "0                        0.062144                   0.965677   \n",
       "0                             NaN                        NaN   \n",
       "0                        0.174398                   0.911782   \n",
       "\n",
       "   perf_grp_selection rate_1  perf_grp_count_0  perf_grp_count_1  \n",
       "0                        NaN               NaN               NaN  \n",
       "0                   0.880497           20540.0           69170.0  \n",
       "0                        NaN               NaN               NaN  \n",
       "0                   0.701952           20540.0           69170.0  \n",
       "\n",
       "[4 rows x 50 columns]"
      ]
     },
     "execution_count": 66,
     "metadata": {},
     "output_type": "execute_result"
    }
   ],
   "source": [
    "final_output = universe_analysis.generate_final_output(\n",
    "    y_pred_prob=probs_test,\n",
    "    y_test=y_true,\n",
    "    org_test=org_test,\n",
    "    filter_data=filter_sub_universe_data,\n",
    "    cp_metrics_df=cp_metrics_df,\n",
    "    save=True,\n",
    ")\n",
    "final_output"
   ]
  }
 ],
 "metadata": {
  "celltoolbar": "Tags",
  "kernelspec": {
   "display_name": "Python (CMA Fairness)",
   "language": "python",
   "name": "cma_fair_env"
  },
  "language_info": {
   "codemirror_mode": {
    "name": "ipython",
    "version": 3
   },
   "file_extension": ".py",
   "mimetype": "text/x-python",
   "name": "python",
   "nbconvert_exporter": "python",
   "pygments_lexer": "ipython3",
   "version": "3.10.12"
  },
  "papermill": {
   "default_parameters": {},
   "duration": 44.158736,
   "end_time": "2025-08-05T20:48:03.129470",
   "environment_variables": {},
   "exception": null,
   "input_path": "universe_analysis.ipynb",
   "output_path": "output/runs/16/notebooks/m_16-6b0cd9e7aa12d1a460698d7a623f6a72.ipynb",
   "parameters": {
    "output_dir": "output",
    "run_no": "16",
    "seed": "2023",
    "universe": "{\"cutoff\": [\"quantile_0.1\", \"quantile_0.25\"], \"eval_fairness_grouping\": [\"majority-minority\", \"nationality-all\"], \"exclude_features\": \"nationality\", \"exclude_subgroups\": \"keep-all\", \"model\": \"elasticnet\", \"scale\": \"do-not-scale\", \"training_size\": \"25k\", \"training_year\": \"2014\"}",
    "universe_id": "6b0cd9e7aa12d1a460698d7a623f6a72"
   },
   "start_time": "2025-08-05T20:47:18.970734",
   "version": "2.6.0"
  }
 },
 "nbformat": 4,
 "nbformat_minor": 5
}