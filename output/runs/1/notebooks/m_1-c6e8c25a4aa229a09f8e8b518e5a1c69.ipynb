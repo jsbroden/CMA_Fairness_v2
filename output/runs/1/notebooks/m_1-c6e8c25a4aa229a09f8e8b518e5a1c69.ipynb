{
 "cells": [
  {
   "cell_type": "markdown",
   "id": "b2057076-3a91-4cfa-9bfd-eab1e61b3068",
   "metadata": {
    "papermill": {
     "duration": 0.017106,
     "end_time": "2025-08-06T18:08:36.981931",
     "exception": false,
     "start_time": "2025-08-06T18:08:36.964825",
     "status": "completed"
    },
    "tags": []
   },
   "source": [
    "# Setup"
   ]
  },
  {
   "cell_type": "code",
   "execution_count": 1,
   "id": "f159f837-637b-42ba-96b5-ec9a68c44524",
   "metadata": {
    "execution": {
     "iopub.execute_input": "2025-08-06T18:08:37.018126Z",
     "iopub.status.busy": "2025-08-06T18:08:37.017456Z",
     "iopub.status.idle": "2025-08-06T18:08:37.030297Z",
     "shell.execute_reply": "2025-08-06T18:08:37.029409Z"
    },
    "papermill": {
     "duration": 0.033132,
     "end_time": "2025-08-06T18:08:37.031979",
     "exception": false,
     "start_time": "2025-08-06T18:08:36.998847",
     "status": "completed"
    },
    "tags": []
   },
   "outputs": [
    {
     "name": "stdout",
     "output_type": "stream",
     "text": [
      "/dss/dsshome1/0C/ra93lal2/cma/CMA_Fairness_v2\n"
     ]
    },
    {
     "name": "stderr",
     "output_type": "stream",
     "text": [
      "/dss/dsshome1/0C/ra93lal2/.local/share/virtualenvs/CMA_Fairness_v2-3j10GkSs/lib/python3.10/site-packages/IPython/core/magics/osm.py:393: UserWarning: This is now an optional IPython functionality, using bookmarks requires you to install the `pickleshare` library.\n",
      "  bkms = self.shell.db.get('bookmarks', {})\n",
      "/dss/dsshome1/0C/ra93lal2/.local/share/virtualenvs/CMA_Fairness_v2-3j10GkSs/lib/python3.10/site-packages/IPython/core/magics/osm.py:417: UserWarning: This is now an optional IPython functionality, setting dhist requires you to install the `pickleshare` library.\n",
      "  self.shell.db['dhist'] = compress_dhist(dhist)[-100:]\n"
     ]
    }
   ],
   "source": [
    "%cd ~/cma/CMA_Fairness_v2"
   ]
  },
  {
   "cell_type": "markdown",
   "id": "de2603b9",
   "metadata": {
    "papermill": {
     "duration": 0.016308,
     "end_time": "2025-08-06T18:08:37.065747",
     "exception": false,
     "start_time": "2025-08-06T18:08:37.049439",
     "status": "completed"
    },
    "tags": []
   },
   "source": [
    "The following cell holds the definition of our parameters, these values can be overriden by rendering the with e.g. the following command:\n",
    "\n",
    "papermill -p alpha 0.2 -p ratio 0.3 universe_analysis.ipynb output/test_run.ipynb"
   ]
  },
  {
   "cell_type": "code",
   "execution_count": 2,
   "id": "a80968a0-40bb-4fa9-85ef-2d5eefb01975",
   "metadata": {
    "execution": {
     "iopub.execute_input": "2025-08-06T18:08:37.102938Z",
     "iopub.status.busy": "2025-08-06T18:08:37.102295Z",
     "iopub.status.idle": "2025-08-06T18:08:37.107647Z",
     "shell.execute_reply": "2025-08-06T18:08:37.106662Z"
    },
    "papermill": {
     "duration": 0.026016,
     "end_time": "2025-08-06T18:08:37.109240",
     "exception": false,
     "start_time": "2025-08-06T18:08:37.083224",
     "status": "completed"
    },
    "tags": []
   },
   "outputs": [
    {
     "name": "stdout",
     "output_type": "stream",
     "text": [
      "Current working directory: /dss/dsshome1/0C/ra93lal2/cma/CMA_Fairness_v2\n"
     ]
    }
   ],
   "source": [
    "import os\n",
    "print(\"Current working directory:\", os.getcwd())"
   ]
  },
  {
   "cell_type": "code",
   "execution_count": 3,
   "id": "2dce4c03",
   "metadata": {
    "execution": {
     "iopub.execute_input": "2025-08-06T18:08:37.141611Z",
     "iopub.status.busy": "2025-08-06T18:08:37.140740Z",
     "iopub.status.idle": "2025-08-06T18:08:37.146691Z",
     "shell.execute_reply": "2025-08-06T18:08:37.145780Z"
    },
    "papermill": {
     "duration": 0.023916,
     "end_time": "2025-08-06T18:08:37.148428",
     "exception": false,
     "start_time": "2025-08-06T18:08:37.124512",
     "status": "completed"
    },
    "tags": [
     "parameters"
    ]
   },
   "outputs": [],
   "source": [
    "run_no = 0\n",
    "universe_id = \"test\"\n",
    "universe = {\n",
    "    \"training_size\": \"5k\", # \"25k\", \"5k\", \"1k\"\n",
    "    \"training_year\": \"2012_14\", # \"2014\", \"2012_14\", \"2010_14\"\n",
    "    \"scale\": \"scale\", # \"scale\", \"do-not-scale\",\n",
    "    \"model\": \"elasticnet\", # \"logreg\", \"penalized_logreg\", \"rf\", \"gbm\", \"elasticnet\"\n",
    "    \"cutoff\": [\"quantile_0.15\", \"quantile_0.30\"],\n",
    "    \"exclude_features\": \"age\", # \"none\", \"nationality\", \"sex\", \"nationality-sex\", \"age\"\n",
    "    \"exclude_subgroups\": \"drop-non-german\", # \"keep-all\", \"drop-non-german\"\n",
    "    \"eval_fairness_grouping\": [\"majority-minority\", \"nationality-all\"]\n",
    "}\n",
    "\n",
    "output_dir=\"./output\"\n",
    "seed=0"
   ]
  },
  {
   "cell_type": "code",
   "execution_count": 4,
   "id": "098356f9",
   "metadata": {
    "execution": {
     "iopub.execute_input": "2025-08-06T18:08:37.185224Z",
     "iopub.status.busy": "2025-08-06T18:08:37.184374Z",
     "iopub.status.idle": "2025-08-06T18:08:37.190434Z",
     "shell.execute_reply": "2025-08-06T18:08:37.189390Z"
    },
    "papermill": {
     "duration": 0.025999,
     "end_time": "2025-08-06T18:08:37.192146",
     "exception": false,
     "start_time": "2025-08-06T18:08:37.166147",
     "status": "completed"
    },
    "tags": [
     "injected-parameters"
    ]
   },
   "outputs": [],
   "source": [
    "# Parameters\n",
    "universe_id = \"c6e8c25a4aa229a09f8e8b518e5a1c69\"\n",
    "run_no = \"1\"\n",
    "universe = \"{\\\"cutoff\\\": [\\\"quantile_0.1\\\", \\\"quantile_0.25\\\"], \\\"eval_fairness_grouping\\\": [\\\"majority-minority\\\", \\\"nationality-all\\\"], \\\"exclude_features\\\": \\\"none\\\", \\\"exclude_subgroups\\\": \\\"drop-non-german\\\", \\\"model\\\": \\\"gbm\\\", \\\"scale\\\": \\\"scale\\\", \\\"training_size\\\": \\\"1k\\\", \\\"training_year\\\": \\\"2010_14\\\"}\"\n",
    "output_dir = \"output\"\n",
    "seed = \"2023\"\n"
   ]
  },
  {
   "cell_type": "code",
   "execution_count": 5,
   "id": "1650acaf",
   "metadata": {
    "execution": {
     "iopub.execute_input": "2025-08-06T18:08:37.229854Z",
     "iopub.status.busy": "2025-08-06T18:08:37.229085Z",
     "iopub.status.idle": "2025-08-06T18:08:37.234466Z",
     "shell.execute_reply": "2025-08-06T18:08:37.233496Z"
    },
    "papermill": {
     "duration": 0.02572,
     "end_time": "2025-08-06T18:08:37.236128",
     "exception": false,
     "start_time": "2025-08-06T18:08:37.210408",
     "status": "completed"
    },
    "tags": []
   },
   "outputs": [],
   "source": [
    "import json\n",
    "if isinstance(universe, str):\n",
    "    universe = json.loads(universe)"
   ]
  },
  {
   "cell_type": "code",
   "execution_count": 6,
   "id": "16620c48",
   "metadata": {
    "execution": {
     "iopub.execute_input": "2025-08-06T18:08:37.272201Z",
     "iopub.status.busy": "2025-08-06T18:08:37.271438Z",
     "iopub.status.idle": "2025-08-06T18:08:37.318483Z",
     "shell.execute_reply": "2025-08-06T18:08:37.317517Z"
    },
    "papermill": {
     "duration": 0.067653,
     "end_time": "2025-08-06T18:08:37.320590",
     "exception": false,
     "start_time": "2025-08-06T18:08:37.252937",
     "status": "completed"
    },
    "tags": []
   },
   "outputs": [],
   "source": [
    "# Auto-reload the custom package\n",
    "%load_ext autoreload\n",
    "%autoreload 1\n",
    "%aimport fairness_multiverse"
   ]
  },
  {
   "cell_type": "code",
   "execution_count": 7,
   "id": "01c5c9f3",
   "metadata": {
    "execution": {
     "iopub.execute_input": "2025-08-06T18:08:37.357968Z",
     "iopub.status.busy": "2025-08-06T18:08:37.357476Z",
     "iopub.status.idle": "2025-08-06T18:08:39.368761Z",
     "shell.execute_reply": "2025-08-06T18:08:39.367609Z"
    },
    "papermill": {
     "duration": 2.032027,
     "end_time": "2025-08-06T18:08:39.371094",
     "exception": false,
     "start_time": "2025-08-06T18:08:37.339067",
     "status": "completed"
    },
    "tags": []
   },
   "outputs": [],
   "source": [
    "from fairness_multiverse.universe import UniverseAnalysis\n",
    "\n",
    "universe_analysis = UniverseAnalysis(\n",
    "    run_no = run_no,\n",
    "    universe_id = universe_id,\n",
    "    universe = universe,\n",
    "    output_dir=output_dir,\n",
    ")"
   ]
  },
  {
   "cell_type": "code",
   "execution_count": 8,
   "id": "106241f5",
   "metadata": {
    "execution": {
     "iopub.execute_input": "2025-08-06T18:08:39.417068Z",
     "iopub.status.busy": "2025-08-06T18:08:39.416508Z",
     "iopub.status.idle": "2025-08-06T18:08:39.423775Z",
     "shell.execute_reply": "2025-08-06T18:08:39.422537Z"
    },
    "papermill": {
     "duration": 0.033811,
     "end_time": "2025-08-06T18:08:39.427972",
     "exception": false,
     "start_time": "2025-08-06T18:08:39.394161",
     "status": "completed"
    },
    "tags": []
   },
   "outputs": [
    {
     "name": "stdout",
     "output_type": "stream",
     "text": [
      "Using Seed: 2023\n"
     ]
    }
   ],
   "source": [
    "import numpy as np\n",
    "parsed_seed = int(seed)\n",
    "np.random.seed(parsed_seed)\n",
    "print(f\"Using Seed: {parsed_seed}\")"
   ]
  },
  {
   "cell_type": "markdown",
   "id": "e0ebdc57",
   "metadata": {
    "papermill": {
     "duration": 0.021096,
     "end_time": "2025-08-06T18:08:39.470982",
     "exception": false,
     "start_time": "2025-08-06T18:08:39.449886",
     "status": "completed"
    },
    "tags": []
   },
   "source": [
    "# Loading Data"
   ]
  },
  {
   "cell_type": "code",
   "execution_count": 9,
   "id": "f0496b8a",
   "metadata": {
    "execution": {
     "iopub.execute_input": "2025-08-06T18:08:39.515265Z",
     "iopub.status.busy": "2025-08-06T18:08:39.514763Z",
     "iopub.status.idle": "2025-08-06T18:08:53.026619Z",
     "shell.execute_reply": "2025-08-06T18:08:53.025509Z"
    },
    "papermill": {
     "duration": 13.535968,
     "end_time": "2025-08-06T18:08:53.028325",
     "exception": false,
     "start_time": "2025-08-06T18:08:39.492357",
     "status": "completed"
    },
    "tags": []
   },
   "outputs": [
    {
     "name": "stdout",
     "output_type": "stream",
     "text": [
      "Loading SIAB data from cache: data/siab_cached.csv.gz\n"
     ]
    },
    {
     "name": "stdout",
     "output_type": "stream",
     "text": [
      "(643690, 164)\n"
     ]
    }
   ],
   "source": [
    "from pathlib import Path\n",
    "import pandas as pd\n",
    "\n",
    "# File paths\n",
    "raw_file = Path(\"data/raw/siab.csv\")\n",
    "cache_file = Path(\"data/siab_cached.csv.gz\")\n",
    "\n",
    "# Ensure cache directory exists\n",
    "cache_file.parent.mkdir(parents=True, exist_ok=True)\n",
    "\n",
    "# Load with simple caching\n",
    "if cache_file.exists():\n",
    "    print(f\"Loading SIAB data from cache: {cache_file}\")\n",
    "    siab = pd.read_csv(cache_file, compression='gzip')\n",
    "else:\n",
    "    print(f\"Cache not found. Reading raw SIAB data: {raw_file}\")\n",
    "    siab = pd.read_csv(raw_file)\n",
    "    siab.to_csv(cache_file, index=False, compression='gzip')\n",
    "    print(f\"Cached SIAB data to: {cache_file}\")\n",
    "\n",
    "print(siab.shape)"
   ]
  },
  {
   "cell_type": "code",
   "execution_count": 10,
   "id": "db0ca512-5f53-4dba-abdb-a2888bca41ba",
   "metadata": {
    "execution": {
     "iopub.execute_input": "2025-08-06T18:08:53.066574Z",
     "iopub.status.busy": "2025-08-06T18:08:53.065799Z",
     "iopub.status.idle": "2025-08-06T18:08:53.209364Z",
     "shell.execute_reply": "2025-08-06T18:08:53.208424Z"
    },
    "papermill": {
     "duration": 0.164368,
     "end_time": "2025-08-06T18:08:53.211400",
     "exception": false,
     "start_time": "2025-08-06T18:08:53.047032",
     "status": "completed"
    },
    "tags": []
   },
   "outputs": [
    {
     "data": {
      "text/html": [
       "<div>\n",
       "<style scoped>\n",
       "    .dataframe tbody tr th:only-of-type {\n",
       "        vertical-align: middle;\n",
       "    }\n",
       "\n",
       "    .dataframe tbody tr th {\n",
       "        vertical-align: top;\n",
       "    }\n",
       "\n",
       "    .dataframe thead th {\n",
       "        text-align: right;\n",
       "    }\n",
       "</style>\n",
       "<table border=\"1\" class=\"dataframe\">\n",
       "  <thead>\n",
       "    <tr style=\"text-align: right;\">\n",
       "      <th></th>\n",
       "      <th>persnr</th>\n",
       "      <th>year</th>\n",
       "      <th>nrEntry</th>\n",
       "      <th>ltue</th>\n",
       "      <th>employed_before</th>\n",
       "      <th>receipt_leh_before</th>\n",
       "      <th>receipt_lhg_before</th>\n",
       "      <th>se_before</th>\n",
       "      <th>ASU_notue_seeking_before</th>\n",
       "      <th>ASU_other_before</th>\n",
       "      <th>...</th>\n",
       "      <th>minijob_tot_dur_byage</th>\n",
       "      <th>ft_tot_dur_byage</th>\n",
       "      <th>befrist_tot_dur_byage</th>\n",
       "      <th>leih_tot_dur_byage</th>\n",
       "      <th>LHG_tot_dur_byage</th>\n",
       "      <th>LEH_tot_dur_byage</th>\n",
       "      <th>almp_tot_dur_byage</th>\n",
       "      <th>almp_aw_tot_dur_byage</th>\n",
       "      <th>se_tot_dur_byage</th>\n",
       "      <th>seeking1_tot_dur_byage</th>\n",
       "    </tr>\n",
       "  </thead>\n",
       "  <tbody>\n",
       "    <tr>\n",
       "      <th>0</th>\n",
       "      <td>7</td>\n",
       "      <td>2015</td>\n",
       "      <td>1</td>\n",
       "      <td>0</td>\n",
       "      <td>1</td>\n",
       "      <td>0</td>\n",
       "      <td>0</td>\n",
       "      <td>0</td>\n",
       "      <td>1</td>\n",
       "      <td>0</td>\n",
       "      <td>...</td>\n",
       "      <td>0.000000</td>\n",
       "      <td>0.000000</td>\n",
       "      <td>15.043478</td>\n",
       "      <td>0.000000</td>\n",
       "      <td>0.000000</td>\n",
       "      <td>0.000000</td>\n",
       "      <td>0.000000</td>\n",
       "      <td>0.000000</td>\n",
       "      <td>0.000000</td>\n",
       "      <td>0.000000</td>\n",
       "    </tr>\n",
       "    <tr>\n",
       "      <th>1</th>\n",
       "      <td>18</td>\n",
       "      <td>2010</td>\n",
       "      <td>1</td>\n",
       "      <td>1</td>\n",
       "      <td>0</td>\n",
       "      <td>0</td>\n",
       "      <td>0</td>\n",
       "      <td>0</td>\n",
       "      <td>0</td>\n",
       "      <td>0</td>\n",
       "      <td>...</td>\n",
       "      <td>0.000000</td>\n",
       "      <td>0.000000</td>\n",
       "      <td>0.000000</td>\n",
       "      <td>0.000000</td>\n",
       "      <td>0.000000</td>\n",
       "      <td>0.000000</td>\n",
       "      <td>0.000000</td>\n",
       "      <td>0.000000</td>\n",
       "      <td>0.000000</td>\n",
       "      <td>0.000000</td>\n",
       "    </tr>\n",
       "    <tr>\n",
       "      <th>2</th>\n",
       "      <td>18</td>\n",
       "      <td>2011</td>\n",
       "      <td>2</td>\n",
       "      <td>0</td>\n",
       "      <td>1</td>\n",
       "      <td>0</td>\n",
       "      <td>1</td>\n",
       "      <td>0</td>\n",
       "      <td>1</td>\n",
       "      <td>0</td>\n",
       "      <td>...</td>\n",
       "      <td>2.714286</td>\n",
       "      <td>2.714286</td>\n",
       "      <td>0.000000</td>\n",
       "      <td>0.000000</td>\n",
       "      <td>10.775510</td>\n",
       "      <td>0.000000</td>\n",
       "      <td>8.367347</td>\n",
       "      <td>0.000000</td>\n",
       "      <td>0.000000</td>\n",
       "      <td>9.836735</td>\n",
       "    </tr>\n",
       "    <tr>\n",
       "      <th>3</th>\n",
       "      <td>18</td>\n",
       "      <td>2012</td>\n",
       "      <td>3</td>\n",
       "      <td>0</td>\n",
       "      <td>1</td>\n",
       "      <td>0</td>\n",
       "      <td>1</td>\n",
       "      <td>0</td>\n",
       "      <td>1</td>\n",
       "      <td>0</td>\n",
       "      <td>...</td>\n",
       "      <td>4.200000</td>\n",
       "      <td>4.200000</td>\n",
       "      <td>0.000000</td>\n",
       "      <td>0.000000</td>\n",
       "      <td>12.100000</td>\n",
       "      <td>0.000000</td>\n",
       "      <td>9.400000</td>\n",
       "      <td>0.000000</td>\n",
       "      <td>0.000000</td>\n",
       "      <td>9.960000</td>\n",
       "    </tr>\n",
       "    <tr>\n",
       "      <th>4</th>\n",
       "      <td>18</td>\n",
       "      <td>2012</td>\n",
       "      <td>4</td>\n",
       "      <td>0</td>\n",
       "      <td>1</td>\n",
       "      <td>0</td>\n",
       "      <td>1</td>\n",
       "      <td>0</td>\n",
       "      <td>1</td>\n",
       "      <td>0</td>\n",
       "      <td>...</td>\n",
       "      <td>5.460000</td>\n",
       "      <td>5.460000</td>\n",
       "      <td>0.000000</td>\n",
       "      <td>0.000000</td>\n",
       "      <td>13.360000</td>\n",
       "      <td>0.000000</td>\n",
       "      <td>10.320000</td>\n",
       "      <td>0.000000</td>\n",
       "      <td>0.000000</td>\n",
       "      <td>10.280000</td>\n",
       "    </tr>\n",
       "    <tr>\n",
       "      <th>...</th>\n",
       "      <td>...</td>\n",
       "      <td>...</td>\n",
       "      <td>...</td>\n",
       "      <td>...</td>\n",
       "      <td>...</td>\n",
       "      <td>...</td>\n",
       "      <td>...</td>\n",
       "      <td>...</td>\n",
       "      <td>...</td>\n",
       "      <td>...</td>\n",
       "      <td>...</td>\n",
       "      <td>...</td>\n",
       "      <td>...</td>\n",
       "      <td>...</td>\n",
       "      <td>...</td>\n",
       "      <td>...</td>\n",
       "      <td>...</td>\n",
       "      <td>...</td>\n",
       "      <td>...</td>\n",
       "      <td>...</td>\n",
       "      <td>...</td>\n",
       "    </tr>\n",
       "    <tr>\n",
       "      <th>643685</th>\n",
       "      <td>1827860</td>\n",
       "      <td>2013</td>\n",
       "      <td>1</td>\n",
       "      <td>0</td>\n",
       "      <td>0</td>\n",
       "      <td>0</td>\n",
       "      <td>1</td>\n",
       "      <td>0</td>\n",
       "      <td>0</td>\n",
       "      <td>1</td>\n",
       "      <td>...</td>\n",
       "      <td>0.000000</td>\n",
       "      <td>0.000000</td>\n",
       "      <td>0.000000</td>\n",
       "      <td>0.000000</td>\n",
       "      <td>0.612903</td>\n",
       "      <td>0.000000</td>\n",
       "      <td>0.000000</td>\n",
       "      <td>0.000000</td>\n",
       "      <td>0.000000</td>\n",
       "      <td>0.000000</td>\n",
       "    </tr>\n",
       "    <tr>\n",
       "      <th>643686</th>\n",
       "      <td>1827860</td>\n",
       "      <td>2015</td>\n",
       "      <td>2</td>\n",
       "      <td>1</td>\n",
       "      <td>0</td>\n",
       "      <td>0</td>\n",
       "      <td>1</td>\n",
       "      <td>0</td>\n",
       "      <td>1</td>\n",
       "      <td>0</td>\n",
       "      <td>...</td>\n",
       "      <td>0.000000</td>\n",
       "      <td>0.000000</td>\n",
       "      <td>0.212121</td>\n",
       "      <td>0.212121</td>\n",
       "      <td>17.363636</td>\n",
       "      <td>0.000000</td>\n",
       "      <td>8.909091</td>\n",
       "      <td>0.000000</td>\n",
       "      <td>0.000000</td>\n",
       "      <td>7.121212</td>\n",
       "    </tr>\n",
       "    <tr>\n",
       "      <th>643687</th>\n",
       "      <td>1827860</td>\n",
       "      <td>2016</td>\n",
       "      <td>3</td>\n",
       "      <td>1</td>\n",
       "      <td>0</td>\n",
       "      <td>0</td>\n",
       "      <td>1</td>\n",
       "      <td>1</td>\n",
       "      <td>0</td>\n",
       "      <td>1</td>\n",
       "      <td>...</td>\n",
       "      <td>0.000000</td>\n",
       "      <td>0.000000</td>\n",
       "      <td>0.294118</td>\n",
       "      <td>0.205882</td>\n",
       "      <td>34.705882</td>\n",
       "      <td>0.000000</td>\n",
       "      <td>10.352941</td>\n",
       "      <td>1.705882</td>\n",
       "      <td>1.705882</td>\n",
       "      <td>23.911765</td>\n",
       "    </tr>\n",
       "    <tr>\n",
       "      <th>643688</th>\n",
       "      <td>1827869</td>\n",
       "      <td>2013</td>\n",
       "      <td>1</td>\n",
       "      <td>1</td>\n",
       "      <td>1</td>\n",
       "      <td>0</td>\n",
       "      <td>0</td>\n",
       "      <td>0</td>\n",
       "      <td>1</td>\n",
       "      <td>0</td>\n",
       "      <td>...</td>\n",
       "      <td>0.000000</td>\n",
       "      <td>0.000000</td>\n",
       "      <td>0.000000</td>\n",
       "      <td>0.000000</td>\n",
       "      <td>0.000000</td>\n",
       "      <td>0.525424</td>\n",
       "      <td>0.000000</td>\n",
       "      <td>0.000000</td>\n",
       "      <td>0.000000</td>\n",
       "      <td>0.000000</td>\n",
       "    </tr>\n",
       "    <tr>\n",
       "      <th>643689</th>\n",
       "      <td>1827869</td>\n",
       "      <td>2014</td>\n",
       "      <td>2</td>\n",
       "      <td>0</td>\n",
       "      <td>0</td>\n",
       "      <td>1</td>\n",
       "      <td>0</td>\n",
       "      <td>0</td>\n",
       "      <td>1</td>\n",
       "      <td>0</td>\n",
       "      <td>...</td>\n",
       "      <td>0.000000</td>\n",
       "      <td>0.666667</td>\n",
       "      <td>0.666667</td>\n",
       "      <td>0.000000</td>\n",
       "      <td>0.000000</td>\n",
       "      <td>8.950000</td>\n",
       "      <td>1.033333</td>\n",
       "      <td>0.083333</td>\n",
       "      <td>0.083333</td>\n",
       "      <td>8.133333</td>\n",
       "    </tr>\n",
       "  </tbody>\n",
       "</table>\n",
       "<p>643690 rows × 164 columns</p>\n",
       "</div>"
      ],
      "text/plain": [
       "         persnr  year  nrEntry  ltue  employed_before  receipt_leh_before  \\\n",
       "0             7  2015        1     0                1                   0   \n",
       "1            18  2010        1     1                0                   0   \n",
       "2            18  2011        2     0                1                   0   \n",
       "3            18  2012        3     0                1                   0   \n",
       "4            18  2012        4     0                1                   0   \n",
       "...         ...   ...      ...   ...              ...                 ...   \n",
       "643685  1827860  2013        1     0                0                   0   \n",
       "643686  1827860  2015        2     1                0                   0   \n",
       "643687  1827860  2016        3     1                0                   0   \n",
       "643688  1827869  2013        1     1                1                   0   \n",
       "643689  1827869  2014        2     0                0                   1   \n",
       "\n",
       "        receipt_lhg_before  se_before  ASU_notue_seeking_before  \\\n",
       "0                        0          0                         1   \n",
       "1                        0          0                         0   \n",
       "2                        1          0                         1   \n",
       "3                        1          0                         1   \n",
       "4                        1          0                         1   \n",
       "...                    ...        ...                       ...   \n",
       "643685                   1          0                         0   \n",
       "643686                   1          0                         1   \n",
       "643687                   1          1                         0   \n",
       "643688                   0          0                         1   \n",
       "643689                   0          0                         1   \n",
       "\n",
       "        ASU_other_before  ...  minijob_tot_dur_byage  ft_tot_dur_byage  \\\n",
       "0                      0  ...               0.000000          0.000000   \n",
       "1                      0  ...               0.000000          0.000000   \n",
       "2                      0  ...               2.714286          2.714286   \n",
       "3                      0  ...               4.200000          4.200000   \n",
       "4                      0  ...               5.460000          5.460000   \n",
       "...                  ...  ...                    ...               ...   \n",
       "643685                 1  ...               0.000000          0.000000   \n",
       "643686                 0  ...               0.000000          0.000000   \n",
       "643687                 1  ...               0.000000          0.000000   \n",
       "643688                 0  ...               0.000000          0.000000   \n",
       "643689                 0  ...               0.000000          0.666667   \n",
       "\n",
       "        befrist_tot_dur_byage  leih_tot_dur_byage  LHG_tot_dur_byage  \\\n",
       "0                   15.043478            0.000000           0.000000   \n",
       "1                    0.000000            0.000000           0.000000   \n",
       "2                    0.000000            0.000000          10.775510   \n",
       "3                    0.000000            0.000000          12.100000   \n",
       "4                    0.000000            0.000000          13.360000   \n",
       "...                       ...                 ...                ...   \n",
       "643685               0.000000            0.000000           0.612903   \n",
       "643686               0.212121            0.212121          17.363636   \n",
       "643687               0.294118            0.205882          34.705882   \n",
       "643688               0.000000            0.000000           0.000000   \n",
       "643689               0.666667            0.000000           0.000000   \n",
       "\n",
       "        LEH_tot_dur_byage  almp_tot_dur_byage  almp_aw_tot_dur_byage  \\\n",
       "0                0.000000            0.000000               0.000000   \n",
       "1                0.000000            0.000000               0.000000   \n",
       "2                0.000000            8.367347               0.000000   \n",
       "3                0.000000            9.400000               0.000000   \n",
       "4                0.000000           10.320000               0.000000   \n",
       "...                   ...                 ...                    ...   \n",
       "643685           0.000000            0.000000               0.000000   \n",
       "643686           0.000000            8.909091               0.000000   \n",
       "643687           0.000000           10.352941               1.705882   \n",
       "643688           0.525424            0.000000               0.000000   \n",
       "643689           8.950000            1.033333               0.083333   \n",
       "\n",
       "        se_tot_dur_byage  seeking1_tot_dur_byage  \n",
       "0               0.000000                0.000000  \n",
       "1               0.000000                0.000000  \n",
       "2               0.000000                9.836735  \n",
       "3               0.000000                9.960000  \n",
       "4               0.000000               10.280000  \n",
       "...                  ...                     ...  \n",
       "643685          0.000000                0.000000  \n",
       "643686          0.000000                7.121212  \n",
       "643687          1.705882               23.911765  \n",
       "643688          0.000000                0.000000  \n",
       "643689          0.083333                8.133333  \n",
       "\n",
       "[643690 rows x 164 columns]"
      ]
     },
     "execution_count": 10,
     "metadata": {},
     "output_type": "execute_result"
    }
   ],
   "source": [
    "siab"
   ]
  },
  {
   "cell_type": "markdown",
   "id": "997051c5-15bd-4b69-9786-c3001a3ce484",
   "metadata": {
    "papermill": {
     "duration": 0.01645,
     "end_time": "2025-08-06T18:08:53.245462",
     "exception": false,
     "start_time": "2025-08-06T18:08:53.229012",
     "status": "completed"
    },
    "tags": []
   },
   "source": [
    "# Splitting Data and Setting Training Data Size"
   ]
  },
  {
   "cell_type": "code",
   "execution_count": 11,
   "id": "aea9c6ef-6f46-42c8-85eb-5a62025c1508",
   "metadata": {
    "execution": {
     "iopub.execute_input": "2025-08-06T18:08:53.280822Z",
     "iopub.status.busy": "2025-08-06T18:08:53.280096Z",
     "iopub.status.idle": "2025-08-06T18:08:54.275764Z",
     "shell.execute_reply": "2025-08-06T18:08:54.274588Z"
    },
    "papermill": {
     "duration": 1.015642,
     "end_time": "2025-08-06T18:08:54.277784",
     "exception": false,
     "start_time": "2025-08-06T18:08:53.262142",
     "status": "completed"
    },
    "tags": []
   },
   "outputs": [],
   "source": [
    "from fairness_multiverse.universe import sample_by_year_size\n",
    "\n",
    "siab_train = sample_by_year_size(siab,\n",
    "                               training_year=universe[\"training_year\"],\n",
    "                               training_size=universe[\"training_size\"])"
   ]
  },
  {
   "cell_type": "code",
   "execution_count": 12,
   "id": "8d3afb32-789d-442c-8d5d-9f5aa8dd2eed",
   "metadata": {
    "execution": {
     "iopub.execute_input": "2025-08-06T18:08:54.320156Z",
     "iopub.status.busy": "2025-08-06T18:08:54.319168Z",
     "iopub.status.idle": "2025-08-06T18:08:54.326736Z",
     "shell.execute_reply": "2025-08-06T18:08:54.325835Z"
    },
    "papermill": {
     "duration": 0.029886,
     "end_time": "2025-08-06T18:08:54.328114",
     "exception": false,
     "start_time": "2025-08-06T18:08:54.298228",
     "status": "completed"
    },
    "tags": []
   },
   "outputs": [
    {
     "data": {
      "text/plain": [
       "(1000, 164)"
      ]
     },
     "execution_count": 12,
     "metadata": {},
     "output_type": "execute_result"
    }
   ],
   "source": [
    "siab_train.shape"
   ]
  },
  {
   "cell_type": "code",
   "execution_count": 13,
   "id": "d582db68-1a4c-47fb-84fc-08518dc1975a",
   "metadata": {
    "execution": {
     "iopub.execute_input": "2025-08-06T18:08:54.367709Z",
     "iopub.status.busy": "2025-08-06T18:08:54.367204Z",
     "iopub.status.idle": "2025-08-06T18:08:54.376833Z",
     "shell.execute_reply": "2025-08-06T18:08:54.375878Z"
    },
    "papermill": {
     "duration": 0.032147,
     "end_time": "2025-08-06T18:08:54.378369",
     "exception": false,
     "start_time": "2025-08-06T18:08:54.346222",
     "status": "completed"
    },
    "tags": []
   },
   "outputs": [
    {
     "data": {
      "text/plain": [
       "year\n",
       "2010    200\n",
       "2011    200\n",
       "2012    200\n",
       "2013    200\n",
       "2014    200\n",
       "dtype: int64"
      ]
     },
     "metadata": {},
     "output_type": "display_data"
    }
   ],
   "source": [
    "display(siab_train.groupby(\"year\").size())"
   ]
  },
  {
   "cell_type": "code",
   "execution_count": 14,
   "id": "a561edb4-d032-42cb-8256-22eac1111c64",
   "metadata": {
    "execution": {
     "iopub.execute_input": "2025-08-06T18:08:54.409693Z",
     "iopub.status.busy": "2025-08-06T18:08:54.409214Z",
     "iopub.status.idle": "2025-08-06T18:08:54.625330Z",
     "shell.execute_reply": "2025-08-06T18:08:54.624222Z"
    },
    "papermill": {
     "duration": 0.237528,
     "end_time": "2025-08-06T18:08:54.627409",
     "exception": false,
     "start_time": "2025-08-06T18:08:54.389881",
     "status": "completed"
    },
    "tags": []
   },
   "outputs": [],
   "source": [
    "#siab_train = siab_s[siab_s.year < 2015]\n",
    "siab_calib = siab[siab.year == 2015]\n",
    "siab_test = siab[siab.year == 2016]"
   ]
  },
  {
   "cell_type": "code",
   "execution_count": 15,
   "id": "472de16f-c3db-4916-846b-1f0de9cf1746",
   "metadata": {
    "execution": {
     "iopub.execute_input": "2025-08-06T18:08:54.669332Z",
     "iopub.status.busy": "2025-08-06T18:08:54.668859Z",
     "iopub.status.idle": "2025-08-06T18:08:54.676127Z",
     "shell.execute_reply": "2025-08-06T18:08:54.674918Z"
    },
    "papermill": {
     "duration": 0.030611,
     "end_time": "2025-08-06T18:08:54.678298",
     "exception": false,
     "start_time": "2025-08-06T18:08:54.647687",
     "status": "completed"
    },
    "tags": []
   },
   "outputs": [],
   "source": [
    "X_train = siab_train.iloc[:,4:164]\n",
    "y_train = siab_train.iloc[:, [3]]"
   ]
  },
  {
   "cell_type": "code",
   "execution_count": 16,
   "id": "828c96af-f43a-4ed6-ba47-8ac73a47d56c",
   "metadata": {
    "execution": {
     "iopub.execute_input": "2025-08-06T18:08:54.717395Z",
     "iopub.status.busy": "2025-08-06T18:08:54.716790Z",
     "iopub.status.idle": "2025-08-06T18:08:54.785649Z",
     "shell.execute_reply": "2025-08-06T18:08:54.784429Z"
    },
    "papermill": {
     "duration": 0.09061,
     "end_time": "2025-08-06T18:08:54.787813",
     "exception": false,
     "start_time": "2025-08-06T18:08:54.697203",
     "status": "completed"
    },
    "tags": []
   },
   "outputs": [],
   "source": [
    "X_calib = siab_calib.iloc[:,4:164]\n",
    "y_calib = siab_calib.iloc[:, [3]]"
   ]
  },
  {
   "cell_type": "code",
   "execution_count": 17,
   "id": "c34be9c3-6bd6-476e-acd3-845840e303be",
   "metadata": {
    "execution": {
     "iopub.execute_input": "2025-08-06T18:08:54.840663Z",
     "iopub.status.busy": "2025-08-06T18:08:54.840139Z",
     "iopub.status.idle": "2025-08-06T18:08:54.892867Z",
     "shell.execute_reply": "2025-08-06T18:08:54.891797Z"
    },
    "papermill": {
     "duration": 0.084876,
     "end_time": "2025-08-06T18:08:54.894511",
     "exception": false,
     "start_time": "2025-08-06T18:08:54.809635",
     "status": "completed"
    },
    "tags": []
   },
   "outputs": [],
   "source": [
    "X_test = siab_test.iloc[:,4:164]\n",
    "y_true = siab_test.iloc[:, [3]]"
   ]
  },
  {
   "cell_type": "code",
   "execution_count": 18,
   "id": "e6c733c5",
   "metadata": {
    "execution": {
     "iopub.execute_input": "2025-08-06T18:08:54.931568Z",
     "iopub.status.busy": "2025-08-06T18:08:54.930973Z",
     "iopub.status.idle": "2025-08-06T18:08:55.027272Z",
     "shell.execute_reply": "2025-08-06T18:08:55.026366Z"
    },
    "papermill": {
     "duration": 0.116962,
     "end_time": "2025-08-06T18:08:55.029176",
     "exception": false,
     "start_time": "2025-08-06T18:08:54.912214",
     "status": "completed"
    },
    "tags": []
   },
   "outputs": [],
   "source": [
    "# Auxiliary data needed downstream in the pipeline\n",
    "\n",
    "org_train = X_train.copy()\n",
    "org_test = X_test.copy()\n",
    "org_calib = X_calib.copy()"
   ]
  },
  {
   "cell_type": "markdown",
   "id": "0a4a1b33",
   "metadata": {
    "papermill": {
     "duration": 0.017913,
     "end_time": "2025-08-06T18:08:55.064951",
     "exception": false,
     "start_time": "2025-08-06T18:08:55.047038",
     "status": "completed"
    },
    "tags": []
   },
   "source": [
    "# Preprocessing Data"
   ]
  },
  {
   "cell_type": "code",
   "execution_count": 19,
   "id": "ca879031",
   "metadata": {
    "execution": {
     "iopub.execute_input": "2025-08-06T18:08:55.101941Z",
     "iopub.status.busy": "2025-08-06T18:08:55.101414Z",
     "iopub.status.idle": "2025-08-06T18:08:55.107481Z",
     "shell.execute_reply": "2025-08-06T18:08:55.106505Z"
    },
    "papermill": {
     "duration": 0.026318,
     "end_time": "2025-08-06T18:08:55.109159",
     "exception": false,
     "start_time": "2025-08-06T18:08:55.082841",
     "status": "completed"
    },
    "tags": []
   },
   "outputs": [],
   "source": [
    "# EXCLUDE PROTECTED FEATURES\n",
    "# --------------------------\n",
    "\n",
    "excluded_features = universe[\"exclude_features\"].split(\"-\")\n",
    "excluded_features_dictionary = {\n",
    "    \"nationality\": [\"maxdeutsch1\", \"maxdeutsch.Missing.\"],\n",
    "    \"sex\": [\"frau1\"],\n",
    "    \"age\": [\"age\"],\n",
    "}"
   ]
  },
  {
   "cell_type": "code",
   "execution_count": 20,
   "id": "b745ac60",
   "metadata": {
    "execution": {
     "iopub.execute_input": "2025-08-06T18:08:55.146308Z",
     "iopub.status.busy": "2025-08-06T18:08:55.145841Z",
     "iopub.status.idle": "2025-08-06T18:08:55.151661Z",
     "shell.execute_reply": "2025-08-06T18:08:55.150750Z"
    },
    "papermill": {
     "duration": 0.02609,
     "end_time": "2025-08-06T18:08:55.153279",
     "exception": false,
     "start_time": "2025-08-06T18:08:55.127189",
     "status": "completed"
    },
    "tags": []
   },
   "outputs": [],
   "source": [
    "excluded_features_columns = [\n",
    "    excluded_features_dictionary[f] for f in excluded_features if len(f) > 0 and f != \"none\"\n",
    "]"
   ]
  },
  {
   "cell_type": "code",
   "execution_count": 21,
   "id": "f84f73a2",
   "metadata": {
    "execution": {
     "iopub.execute_input": "2025-08-06T18:08:55.191089Z",
     "iopub.status.busy": "2025-08-06T18:08:55.190363Z",
     "iopub.status.idle": "2025-08-06T18:08:55.195505Z",
     "shell.execute_reply": "2025-08-06T18:08:55.194613Z"
    },
    "papermill": {
     "duration": 0.025704,
     "end_time": "2025-08-06T18:08:55.196996",
     "exception": false,
     "start_time": "2025-08-06T18:08:55.171292",
     "status": "completed"
    },
    "tags": []
   },
   "outputs": [],
   "source": [
    "from fairness_multiverse.universe import flatten_once\n",
    "\n",
    "excluded_features_columns = flatten_once(excluded_features_columns)"
   ]
  },
  {
   "cell_type": "code",
   "execution_count": 22,
   "id": "884dea22",
   "metadata": {
    "execution": {
     "iopub.execute_input": "2025-08-06T18:08:55.233258Z",
     "iopub.status.busy": "2025-08-06T18:08:55.232753Z",
     "iopub.status.idle": "2025-08-06T18:08:55.239028Z",
     "shell.execute_reply": "2025-08-06T18:08:55.237979Z"
    },
    "papermill": {
     "duration": 0.025836,
     "end_time": "2025-08-06T18:08:55.240703",
     "exception": false,
     "start_time": "2025-08-06T18:08:55.214867",
     "status": "completed"
    },
    "tags": []
   },
   "outputs": [],
   "source": [
    "if len(excluded_features_columns) > 0:\n",
    "    print(f\"Dropping features: {excluded_features_columns}\")\n",
    "    X_train.drop(excluded_features_columns, axis=1, inplace=True)"
   ]
  },
  {
   "cell_type": "code",
   "execution_count": 23,
   "id": "95ab8b16",
   "metadata": {
    "execution": {
     "iopub.execute_input": "2025-08-06T18:08:55.282468Z",
     "iopub.status.busy": "2025-08-06T18:08:55.282006Z",
     "iopub.status.idle": "2025-08-06T18:08:55.287590Z",
     "shell.execute_reply": "2025-08-06T18:08:55.286579Z"
    },
    "papermill": {
     "duration": 0.029161,
     "end_time": "2025-08-06T18:08:55.290254",
     "exception": false,
     "start_time": "2025-08-06T18:08:55.261093",
     "status": "completed"
    },
    "tags": []
   },
   "outputs": [],
   "source": [
    "if len(excluded_features_columns) > 0:\n",
    "    print(f\"Dropping features: {excluded_features_columns}\")\n",
    "    X_test.drop(excluded_features_columns, axis=1, inplace=True)"
   ]
  },
  {
   "cell_type": "code",
   "execution_count": 24,
   "id": "1853aaf5-fb9f-46cb-a2b5-8ea4ae2237e4",
   "metadata": {
    "execution": {
     "iopub.execute_input": "2025-08-06T18:08:55.332570Z",
     "iopub.status.busy": "2025-08-06T18:08:55.332098Z",
     "iopub.status.idle": "2025-08-06T18:08:55.339465Z",
     "shell.execute_reply": "2025-08-06T18:08:55.338503Z"
    },
    "papermill": {
     "duration": 0.033763,
     "end_time": "2025-08-06T18:08:55.343316",
     "exception": false,
     "start_time": "2025-08-06T18:08:55.309553",
     "status": "completed"
    },
    "tags": []
   },
   "outputs": [],
   "source": [
    "if len(excluded_features_columns) > 0:\n",
    "    print(f\"Dropping features: {excluded_features_columns}\")\n",
    "    X_calib.drop(excluded_features_columns, axis=1, inplace=True)"
   ]
  },
  {
   "cell_type": "code",
   "execution_count": 25,
   "id": "76c4dc6d",
   "metadata": {
    "execution": {
     "iopub.execute_input": "2025-08-06T18:08:55.396980Z",
     "iopub.status.busy": "2025-08-06T18:08:55.396478Z",
     "iopub.status.idle": "2025-08-06T18:08:55.402412Z",
     "shell.execute_reply": "2025-08-06T18:08:55.401423Z"
    },
    "papermill": {
     "duration": 0.03557,
     "end_time": "2025-08-06T18:08:55.404239",
     "exception": false,
     "start_time": "2025-08-06T18:08:55.368669",
     "status": "completed"
    },
    "tags": []
   },
   "outputs": [],
   "source": [
    "# EXCLUDE CERTAIN SUBGROUPS\n",
    "# -------------------------\n",
    "\n",
    "mode = universe.get(\"exclude_subgroups\", \"keep-all\") # Defaults to \"keep-all\" if the key is missing."
   ]
  },
  {
   "cell_type": "code",
   "execution_count": 26,
   "id": "21994072",
   "metadata": {
    "execution": {
     "iopub.execute_input": "2025-08-06T18:08:55.459834Z",
     "iopub.status.busy": "2025-08-06T18:08:55.459298Z",
     "iopub.status.idle": "2025-08-06T18:08:55.466852Z",
     "shell.execute_reply": "2025-08-06T18:08:55.465864Z"
    },
    "papermill": {
     "duration": 0.038634,
     "end_time": "2025-08-06T18:08:55.469093",
     "exception": false,
     "start_time": "2025-08-06T18:08:55.430459",
     "status": "completed"
    },
    "tags": []
   },
   "outputs": [],
   "source": [
    "if mode == \"keep-all\":\n",
    "    keep_mask = pd.Series(True, index=org_train.index)\n",
    "\n",
    "elif mode == \"drop-non-german\":\n",
    "    keep_mask = (org_train[\"maxdeutsch1\"] == 1) & (org_train[\"maxdeutsch.Missing.\"] == 0)\n",
    "\n",
    "else:\n",
    "    raise ValueError(f\"Unsupported mode for exclude_subgroups: {mode}\")"
   ]
  },
  {
   "cell_type": "code",
   "execution_count": 27,
   "id": "71651440",
   "metadata": {
    "execution": {
     "iopub.execute_input": "2025-08-06T18:08:55.511619Z",
     "iopub.status.busy": "2025-08-06T18:08:55.510685Z",
     "iopub.status.idle": "2025-08-06T18:08:55.517612Z",
     "shell.execute_reply": "2025-08-06T18:08:55.516699Z"
    },
    "papermill": {
     "duration": 0.027448,
     "end_time": "2025-08-06T18:08:55.519243",
     "exception": false,
     "start_time": "2025-08-06T18:08:55.491795",
     "status": "completed"
    },
    "tags": []
   },
   "outputs": [
    {
     "name": "stdout",
     "output_type": "stream",
     "text": [
      "Dropping 131 rows (13.10%) where mode='drop-non-german'\n"
     ]
    }
   ],
   "source": [
    "n_drop = (~keep_mask).sum() # Calculates how many rows are set to be dropped\n",
    "if n_drop > 0:\n",
    "    pct = n_drop / len(keep_mask) * 100\n",
    "    print(f\"Dropping {n_drop} rows ({pct:.2f}%) where mode='{mode}'\")"
   ]
  },
  {
   "cell_type": "code",
   "execution_count": 28,
   "id": "5fb8eee5",
   "metadata": {
    "execution": {
     "iopub.execute_input": "2025-08-06T18:08:55.562690Z",
     "iopub.status.busy": "2025-08-06T18:08:55.561889Z",
     "iopub.status.idle": "2025-08-06T18:08:55.568406Z",
     "shell.execute_reply": "2025-08-06T18:08:55.567422Z"
    },
    "papermill": {
     "duration": 0.032615,
     "end_time": "2025-08-06T18:08:55.570244",
     "exception": false,
     "start_time": "2025-08-06T18:08:55.537629",
     "status": "completed"
    },
    "tags": []
   },
   "outputs": [],
   "source": [
    "X_train = X_train[keep_mask]"
   ]
  },
  {
   "cell_type": "code",
   "execution_count": 29,
   "id": "b202bb3a",
   "metadata": {
    "execution": {
     "iopub.execute_input": "2025-08-06T18:08:55.614765Z",
     "iopub.status.busy": "2025-08-06T18:08:55.614258Z",
     "iopub.status.idle": "2025-08-06T18:08:55.620288Z",
     "shell.execute_reply": "2025-08-06T18:08:55.619242Z"
    },
    "papermill": {
     "duration": 0.032023,
     "end_time": "2025-08-06T18:08:55.622314",
     "exception": false,
     "start_time": "2025-08-06T18:08:55.590291",
     "status": "completed"
    },
    "tags": []
   },
   "outputs": [],
   "source": [
    "y_train = y_train[keep_mask]"
   ]
  },
  {
   "cell_type": "markdown",
   "id": "493e2ac3",
   "metadata": {
    "papermill": {
     "duration": 0.022492,
     "end_time": "2025-08-06T18:08:55.666369",
     "exception": false,
     "start_time": "2025-08-06T18:08:55.643877",
     "status": "completed"
    },
    "tags": []
   },
   "source": [
    "# Model Training"
   ]
  },
  {
   "cell_type": "code",
   "execution_count": 30,
   "id": "679e1268",
   "metadata": {
    "execution": {
     "iopub.execute_input": "2025-08-06T18:08:55.700483Z",
     "iopub.status.busy": "2025-08-06T18:08:55.699982Z",
     "iopub.status.idle": "2025-08-06T18:08:55.827921Z",
     "shell.execute_reply": "2025-08-06T18:08:55.826923Z"
    },
    "papermill": {
     "duration": 0.147817,
     "end_time": "2025-08-06T18:08:55.829693",
     "exception": false,
     "start_time": "2025-08-06T18:08:55.681876",
     "status": "completed"
    },
    "tags": []
   },
   "outputs": [],
   "source": [
    "from sklearn.linear_model import LogisticRegression\n",
    "from sklearn.ensemble import GradientBoostingClassifier, RandomForestClassifier\n",
    "\n",
    "if (universe[\"model\"] == \"logreg\"):\n",
    "    model = LogisticRegression() #penalty=\"none\", solver=\"newton-cg\", max_iter=1)\n",
    "elif (universe[\"model\"] == \"penalized_logreg\"):\n",
    "    model = LogisticRegression(penalty=\"l2\", C=0.1) #, solver=\"newton-cg\", max_iter=1)\n",
    "elif (universe[\"model\"] == \"rf\"):\n",
    "    model = RandomForestClassifier() # n_estimators=100, n_jobs=-1\n",
    "elif (universe[\"model\"] == \"gbm\"):\n",
    "    model = GradientBoostingClassifier()\n",
    "elif (universe[\"model\"] == \"elasticnet\"):\n",
    "    model = LogisticRegression(penalty = 'elasticnet', solver = 'saga', l1_ratio = 0.5) # max_iter=5000\n",
    "else:\n",
    "    raise \"Unsupported universe.model\""
   ]
  },
  {
   "cell_type": "code",
   "execution_count": 31,
   "id": "0cc8f744",
   "metadata": {
    "execution": {
     "iopub.execute_input": "2025-08-06T18:08:55.867031Z",
     "iopub.status.busy": "2025-08-06T18:08:55.866054Z",
     "iopub.status.idle": "2025-08-06T18:08:55.873237Z",
     "shell.execute_reply": "2025-08-06T18:08:55.872311Z"
    },
    "papermill": {
     "duration": 0.027011,
     "end_time": "2025-08-06T18:08:55.874814",
     "exception": false,
     "start_time": "2025-08-06T18:08:55.847803",
     "status": "completed"
    },
    "tags": []
   },
   "outputs": [],
   "source": [
    "from sklearn.pipeline import Pipeline\n",
    "from sklearn.preprocessing import StandardScaler\n",
    "\n",
    "model = Pipeline([\n",
    "    #(\"continuous_processor\", continuous_processor),\n",
    "    #(\"categorical_preprocessor\", categorical_preprocessor),\n",
    "    (\"scale\", StandardScaler() if universe[\"scale\"] == \"scale\" else None), \n",
    "    (\"model\", model),\n",
    "])"
   ]
  },
  {
   "cell_type": "code",
   "execution_count": 32,
   "id": "9442c04d",
   "metadata": {
    "execution": {
     "iopub.execute_input": "2025-08-06T18:08:55.911706Z",
     "iopub.status.busy": "2025-08-06T18:08:55.911186Z",
     "iopub.status.idle": "2025-08-06T18:08:56.791504Z",
     "shell.execute_reply": "2025-08-06T18:08:56.790723Z"
    },
    "papermill": {
     "duration": 0.900013,
     "end_time": "2025-08-06T18:08:56.792800",
     "exception": false,
     "start_time": "2025-08-06T18:08:55.892787",
     "status": "completed"
    },
    "tags": []
   },
   "outputs": [
    {
     "data": {
      "text/html": [
       "<style>#sk-container-id-1 {color: black;background-color: white;}#sk-container-id-1 pre{padding: 0;}#sk-container-id-1 div.sk-toggleable {background-color: white;}#sk-container-id-1 label.sk-toggleable__label {cursor: pointer;display: block;width: 100%;margin-bottom: 0;padding: 0.3em;box-sizing: border-box;text-align: center;}#sk-container-id-1 label.sk-toggleable__label-arrow:before {content: \"▸\";float: left;margin-right: 0.25em;color: #696969;}#sk-container-id-1 label.sk-toggleable__label-arrow:hover:before {color: black;}#sk-container-id-1 div.sk-estimator:hover label.sk-toggleable__label-arrow:before {color: black;}#sk-container-id-1 div.sk-toggleable__content {max-height: 0;max-width: 0;overflow: hidden;text-align: left;background-color: #f0f8ff;}#sk-container-id-1 div.sk-toggleable__content pre {margin: 0.2em;color: black;border-radius: 0.25em;background-color: #f0f8ff;}#sk-container-id-1 input.sk-toggleable__control:checked~div.sk-toggleable__content {max-height: 200px;max-width: 100%;overflow: auto;}#sk-container-id-1 input.sk-toggleable__control:checked~label.sk-toggleable__label-arrow:before {content: \"▾\";}#sk-container-id-1 div.sk-estimator input.sk-toggleable__control:checked~label.sk-toggleable__label {background-color: #d4ebff;}#sk-container-id-1 div.sk-label input.sk-toggleable__control:checked~label.sk-toggleable__label {background-color: #d4ebff;}#sk-container-id-1 input.sk-hidden--visually {border: 0;clip: rect(1px 1px 1px 1px);clip: rect(1px, 1px, 1px, 1px);height: 1px;margin: -1px;overflow: hidden;padding: 0;position: absolute;width: 1px;}#sk-container-id-1 div.sk-estimator {font-family: monospace;background-color: #f0f8ff;border: 1px dotted black;border-radius: 0.25em;box-sizing: border-box;margin-bottom: 0.5em;}#sk-container-id-1 div.sk-estimator:hover {background-color: #d4ebff;}#sk-container-id-1 div.sk-parallel-item::after {content: \"\";width: 100%;border-bottom: 1px solid gray;flex-grow: 1;}#sk-container-id-1 div.sk-label:hover label.sk-toggleable__label {background-color: #d4ebff;}#sk-container-id-1 div.sk-serial::before {content: \"\";position: absolute;border-left: 1px solid gray;box-sizing: border-box;top: 0;bottom: 0;left: 50%;z-index: 0;}#sk-container-id-1 div.sk-serial {display: flex;flex-direction: column;align-items: center;background-color: white;padding-right: 0.2em;padding-left: 0.2em;position: relative;}#sk-container-id-1 div.sk-item {position: relative;z-index: 1;}#sk-container-id-1 div.sk-parallel {display: flex;align-items: stretch;justify-content: center;background-color: white;position: relative;}#sk-container-id-1 div.sk-item::before, #sk-container-id-1 div.sk-parallel-item::before {content: \"\";position: absolute;border-left: 1px solid gray;box-sizing: border-box;top: 0;bottom: 0;left: 50%;z-index: -1;}#sk-container-id-1 div.sk-parallel-item {display: flex;flex-direction: column;z-index: 1;position: relative;background-color: white;}#sk-container-id-1 div.sk-parallel-item:first-child::after {align-self: flex-end;width: 50%;}#sk-container-id-1 div.sk-parallel-item:last-child::after {align-self: flex-start;width: 50%;}#sk-container-id-1 div.sk-parallel-item:only-child::after {width: 0;}#sk-container-id-1 div.sk-dashed-wrapped {border: 1px dashed gray;margin: 0 0.4em 0.5em 0.4em;box-sizing: border-box;padding-bottom: 0.4em;background-color: white;}#sk-container-id-1 div.sk-label label {font-family: monospace;font-weight: bold;display: inline-block;line-height: 1.2em;}#sk-container-id-1 div.sk-label-container {text-align: center;}#sk-container-id-1 div.sk-container {/* jupyter's `normalize.less` sets `[hidden] { display: none; }` but bootstrap.min.css set `[hidden] { display: none !important; }` so we also need the `!important` here to be able to override the default hidden behavior on the sphinx rendered scikit-learn.org. See: https://github.com/scikit-learn/scikit-learn/issues/21755 */display: inline-block !important;position: relative;}#sk-container-id-1 div.sk-text-repr-fallback {display: none;}</style><div id=\"sk-container-id-1\" class=\"sk-top-container\"><div class=\"sk-text-repr-fallback\"><pre>Pipeline(steps=[(&#x27;scale&#x27;, StandardScaler()),\n",
       "                (&#x27;model&#x27;, GradientBoostingClassifier())])</pre><b>In a Jupyter environment, please rerun this cell to show the HTML representation or trust the notebook. <br />On GitHub, the HTML representation is unable to render, please try loading this page with nbviewer.org.</b></div><div class=\"sk-container\" hidden><div class=\"sk-item sk-dashed-wrapped\"><div class=\"sk-label-container\"><div class=\"sk-label sk-toggleable\"><input class=\"sk-toggleable__control sk-hidden--visually\" id=\"sk-estimator-id-1\" type=\"checkbox\" ><label for=\"sk-estimator-id-1\" class=\"sk-toggleable__label sk-toggleable__label-arrow\">Pipeline</label><div class=\"sk-toggleable__content\"><pre>Pipeline(steps=[(&#x27;scale&#x27;, StandardScaler()),\n",
       "                (&#x27;model&#x27;, GradientBoostingClassifier())])</pre></div></div></div><div class=\"sk-serial\"><div class=\"sk-item\"><div class=\"sk-estimator sk-toggleable\"><input class=\"sk-toggleable__control sk-hidden--visually\" id=\"sk-estimator-id-2\" type=\"checkbox\" ><label for=\"sk-estimator-id-2\" class=\"sk-toggleable__label sk-toggleable__label-arrow\">StandardScaler</label><div class=\"sk-toggleable__content\"><pre>StandardScaler()</pre></div></div></div><div class=\"sk-item\"><div class=\"sk-estimator sk-toggleable\"><input class=\"sk-toggleable__control sk-hidden--visually\" id=\"sk-estimator-id-3\" type=\"checkbox\" ><label for=\"sk-estimator-id-3\" class=\"sk-toggleable__label sk-toggleable__label-arrow\">GradientBoostingClassifier</label><div class=\"sk-toggleable__content\"><pre>GradientBoostingClassifier()</pre></div></div></div></div></div></div></div>"
      ],
      "text/plain": [
       "Pipeline(steps=[('scale', StandardScaler()),\n",
       "                ('model', GradientBoostingClassifier())])"
      ]
     },
     "execution_count": 32,
     "metadata": {},
     "output_type": "execute_result"
    }
   ],
   "source": [
    "model.fit(X_train, y_train.values.ravel())"
   ]
  },
  {
   "cell_type": "code",
   "execution_count": 33,
   "id": "a7cf2e16",
   "metadata": {
    "execution": {
     "iopub.execute_input": "2025-08-06T18:08:56.835229Z",
     "iopub.status.busy": "2025-08-06T18:08:56.834857Z",
     "iopub.status.idle": "2025-08-06T18:08:57.456682Z",
     "shell.execute_reply": "2025-08-06T18:08:57.455859Z"
    },
    "papermill": {
     "duration": 0.644578,
     "end_time": "2025-08-06T18:08:57.458165",
     "exception": false,
     "start_time": "2025-08-06T18:08:56.813587",
     "status": "completed"
    },
    "tags": []
   },
   "outputs": [
    {
     "data": {
      "text/plain": [
       "0.8312451231746739"
      ]
     },
     "execution_count": 33,
     "metadata": {},
     "output_type": "execute_result"
    }
   ],
   "source": [
    "from fairness_multiverse.universe import predict_w_threshold\n",
    "\n",
    "probs_test = model.predict_proba(X_test)\n",
    "\n",
    "'''\n",
    "Below code returns a boolean array (or binary 0/1 array depending on how it’s used) where each element \n",
    "is True if the probability of class 1 is greater than or equal to the threshold, and False otherwise.\n",
    "'''\n",
    "y_pred_default = predict_w_threshold(probs_test, 0.5)\n",
    "\n",
    "from sklearn.metrics import accuracy_score\n",
    "\n",
    "# Naive prediction\n",
    "accuracy_score(y_true = y_true, y_pred = y_pred_default)"
   ]
  },
  {
   "cell_type": "code",
   "execution_count": 34,
   "id": "081964c3",
   "metadata": {
    "execution": {
     "iopub.execute_input": "2025-08-06T18:08:57.495090Z",
     "iopub.status.busy": "2025-08-06T18:08:57.494667Z",
     "iopub.status.idle": "2025-08-06T18:08:58.120579Z",
     "shell.execute_reply": "2025-08-06T18:08:58.119631Z"
    },
    "papermill": {
     "duration": 0.649824,
     "end_time": "2025-08-06T18:08:58.122137",
     "exception": false,
     "start_time": "2025-08-06T18:08:57.472313",
     "status": "completed"
    },
    "tags": []
   },
   "outputs": [
    {
     "data": {
      "text/plain": [
       "array([0, 0, 0, ..., 1, 0, 0])"
      ]
     },
     "execution_count": 34,
     "metadata": {},
     "output_type": "execute_result"
    }
   ],
   "source": [
    "model.predict(X_test)"
   ]
  },
  {
   "cell_type": "markdown",
   "id": "56c9705b",
   "metadata": {
    "papermill": {
     "duration": 0.018873,
     "end_time": "2025-08-06T18:08:58.160424",
     "exception": false,
     "start_time": "2025-08-06T18:08:58.141551",
     "status": "completed"
    },
    "tags": []
   },
   "source": [
    "# Conformal Prediction"
   ]
  },
  {
   "cell_type": "code",
   "execution_count": 35,
   "id": "160ec6ff",
   "metadata": {
    "execution": {
     "iopub.execute_input": "2025-08-06T18:08:58.199751Z",
     "iopub.status.busy": "2025-08-06T18:08:58.199208Z",
     "iopub.status.idle": "2025-08-06T18:08:58.204268Z",
     "shell.execute_reply": "2025-08-06T18:08:58.203405Z"
    },
    "papermill": {
     "duration": 0.026385,
     "end_time": "2025-08-06T18:08:58.205942",
     "exception": false,
     "start_time": "2025-08-06T18:08:58.179557",
     "status": "completed"
    },
    "tags": []
   },
   "outputs": [],
   "source": [
    "# Miscoverage level for conformal prediction (10% allowed error rate => 90% target coverage)\n",
    "alpha = 0.1"
   ]
  },
  {
   "cell_type": "code",
   "execution_count": 36,
   "id": "eadf4555-3dd3-440e-8e35-f82a4ad9f855",
   "metadata": {
    "execution": {
     "iopub.execute_input": "2025-08-06T18:08:58.245864Z",
     "iopub.status.busy": "2025-08-06T18:08:58.245167Z",
     "iopub.status.idle": "2025-08-06T18:08:58.810934Z",
     "shell.execute_reply": "2025-08-06T18:08:58.810182Z"
    },
    "papermill": {
     "duration": 0.58786,
     "end_time": "2025-08-06T18:08:58.812840",
     "exception": false,
     "start_time": "2025-08-06T18:08:58.224980",
     "status": "completed"
    },
    "tags": []
   },
   "outputs": [],
   "source": [
    "probs_calib = model.predict_proba(X_calib)"
   ]
  },
  {
   "cell_type": "code",
   "execution_count": 37,
   "id": "2ed93547-6d5d-4983-9b36-1ecb300da49a",
   "metadata": {
    "execution": {
     "iopub.execute_input": "2025-08-06T18:08:58.862197Z",
     "iopub.status.busy": "2025-08-06T18:08:58.861694Z",
     "iopub.status.idle": "2025-08-06T18:08:58.867706Z",
     "shell.execute_reply": "2025-08-06T18:08:58.866822Z"
    },
    "papermill": {
     "duration": 0.032293,
     "end_time": "2025-08-06T18:08:58.869381",
     "exception": false,
     "start_time": "2025-08-06T18:08:58.837088",
     "status": "completed"
    },
    "tags": []
   },
   "outputs": [],
   "source": [
    "y_calib = y_calib.values.ravel().astype(int)"
   ]
  },
  {
   "cell_type": "code",
   "execution_count": 38,
   "id": "65d1320d-f588-4b38-9072-62af1ae97f7d",
   "metadata": {
    "execution": {
     "iopub.execute_input": "2025-08-06T18:08:58.912810Z",
     "iopub.status.busy": "2025-08-06T18:08:58.911769Z",
     "iopub.status.idle": "2025-08-06T18:08:58.919476Z",
     "shell.execute_reply": "2025-08-06T18:08:58.918474Z"
    },
    "papermill": {
     "duration": 0.03102,
     "end_time": "2025-08-06T18:08:58.921328",
     "exception": false,
     "start_time": "2025-08-06T18:08:58.890308",
     "status": "completed"
    },
    "tags": []
   },
   "outputs": [],
   "source": [
    "from fairness_multiverse.conformal import compute_nc_scores\n",
    "\n",
    "# Compute nonconformity scores on calibration set (1 - probability of true class)\n",
    "nc_scores = compute_nc_scores(probs_calib, y_calib)"
   ]
  },
  {
   "cell_type": "code",
   "execution_count": 39,
   "id": "df3b8ca3-53b7-43d5-9667-7c85da7aeda2",
   "metadata": {
    "execution": {
     "iopub.execute_input": "2025-08-06T18:08:58.962522Z",
     "iopub.status.busy": "2025-08-06T18:08:58.961853Z",
     "iopub.status.idle": "2025-08-06T18:08:58.969098Z",
     "shell.execute_reply": "2025-08-06T18:08:58.968180Z"
    },
    "papermill": {
     "duration": 0.029479,
     "end_time": "2025-08-06T18:08:58.970745",
     "exception": false,
     "start_time": "2025-08-06T18:08:58.941266",
     "status": "completed"
    },
    "tags": []
   },
   "outputs": [],
   "source": [
    "from fairness_multiverse.conformal import find_threshold\n",
    "\n",
    "# Find conformal threshold q_hat for the given alpha (split conformal method)\n",
    "q_hat = find_threshold(nc_scores, alpha)"
   ]
  },
  {
   "cell_type": "code",
   "execution_count": 40,
   "id": "4d29e6c1-0ef6-4aa4-b8fe-4fe79b0d033a",
   "metadata": {
    "execution": {
     "iopub.execute_input": "2025-08-06T18:08:59.015033Z",
     "iopub.status.busy": "2025-08-06T18:08:59.014184Z",
     "iopub.status.idle": "2025-08-06T18:08:59.021788Z",
     "shell.execute_reply": "2025-08-06T18:08:59.020961Z"
    },
    "papermill": {
     "duration": 0.031173,
     "end_time": "2025-08-06T18:08:59.023332",
     "exception": false,
     "start_time": "2025-08-06T18:08:58.992159",
     "status": "completed"
    },
    "tags": []
   },
   "outputs": [
    {
     "data": {
      "text/plain": [
       "0.7748798551572369"
      ]
     },
     "execution_count": 40,
     "metadata": {},
     "output_type": "execute_result"
    }
   ],
   "source": [
    "q_hat"
   ]
  },
  {
   "cell_type": "code",
   "execution_count": 41,
   "id": "92460794-cdac-4be2-ba28-f28c0515a6fb",
   "metadata": {
    "execution": {
     "iopub.execute_input": "2025-08-06T18:08:59.063352Z",
     "iopub.status.busy": "2025-08-06T18:08:59.062726Z",
     "iopub.status.idle": "2025-08-06T18:09:00.361954Z",
     "shell.execute_reply": "2025-08-06T18:09:00.360904Z"
    },
    "papermill": {
     "duration": 1.321513,
     "end_time": "2025-08-06T18:09:00.363990",
     "exception": false,
     "start_time": "2025-08-06T18:08:59.042477",
     "status": "completed"
    },
    "tags": []
   },
   "outputs": [],
   "source": [
    "from fairness_multiverse.conformal import predict_conformal_sets\n",
    "\n",
    "# Generate prediction sets for each test example\n",
    "pred_sets = predict_conformal_sets(model, X_test, q_hat)"
   ]
  },
  {
   "cell_type": "code",
   "execution_count": 42,
   "id": "d90c9a65-e6db-4f5d-80cd-e68fb7e46829",
   "metadata": {
    "execution": {
     "iopub.execute_input": "2025-08-06T18:09:00.412535Z",
     "iopub.status.busy": "2025-08-06T18:09:00.412107Z",
     "iopub.status.idle": "2025-08-06T18:09:00.417729Z",
     "shell.execute_reply": "2025-08-06T18:09:00.416691Z"
    },
    "papermill": {
     "duration": 0.032375,
     "end_time": "2025-08-06T18:09:00.419370",
     "exception": false,
     "start_time": "2025-08-06T18:09:00.386995",
     "status": "completed"
    },
    "tags": []
   },
   "outputs": [],
   "source": [
    "y_true = y_true.squeeze()"
   ]
  },
  {
   "cell_type": "code",
   "execution_count": 43,
   "id": "3a58a54a-1e68-46b9-927a-df01f18aebc8",
   "metadata": {
    "execution": {
     "iopub.execute_input": "2025-08-06T18:09:00.465282Z",
     "iopub.status.busy": "2025-08-06T18:09:00.464334Z",
     "iopub.status.idle": "2025-08-06T18:09:01.416248Z",
     "shell.execute_reply": "2025-08-06T18:09:01.415307Z"
    },
    "papermill": {
     "duration": 0.976585,
     "end_time": "2025-08-06T18:09:01.418288",
     "exception": false,
     "start_time": "2025-08-06T18:09:00.441703",
     "status": "completed"
    },
    "tags": []
   },
   "outputs": [],
   "source": [
    "from fairness_multiverse.conformal import evaluate_sets\n",
    "\n",
    "# Evaluate coverage and average set size on test data\n",
    "metrics = evaluate_sets(pred_sets, y_true)"
   ]
  },
  {
   "cell_type": "markdown",
   "id": "2b569c12-9aaa-4c88-98c9-bbcd0cf3ebb8",
   "metadata": {
    "papermill": {
     "duration": 0.019616,
     "end_time": "2025-08-06T18:09:01.473825",
     "exception": false,
     "start_time": "2025-08-06T18:09:01.454209",
     "status": "completed"
    },
    "tags": []
   },
   "source": [
    "# CP Metrics"
   ]
  },
  {
   "cell_type": "code",
   "execution_count": 44,
   "id": "5ce0a5cb-201f-45a0-ade5-94c7f0bd6095",
   "metadata": {
    "execution": {
     "iopub.execute_input": "2025-08-06T18:09:01.515101Z",
     "iopub.status.busy": "2025-08-06T18:09:01.514261Z",
     "iopub.status.idle": "2025-08-06T18:09:01.521862Z",
     "shell.execute_reply": "2025-08-06T18:09:01.520948Z"
    },
    "papermill": {
     "duration": 0.029987,
     "end_time": "2025-08-06T18:09:01.523381",
     "exception": false,
     "start_time": "2025-08-06T18:09:01.493394",
     "status": "completed"
    },
    "tags": []
   },
   "outputs": [
    {
     "data": {
      "text/plain": [
       "{'coverage': 0.9089399175119831, 'avg_size': 1.1942815739605395}"
      ]
     },
     "execution_count": 44,
     "metadata": {},
     "output_type": "execute_result"
    }
   ],
   "source": [
    "metrics"
   ]
  },
  {
   "cell_type": "code",
   "execution_count": 45,
   "id": "9b9a838d-31c9-430b-ae14-12baee460d17",
   "metadata": {
    "execution": {
     "iopub.execute_input": "2025-08-06T18:09:01.566088Z",
     "iopub.status.busy": "2025-08-06T18:09:01.565175Z",
     "iopub.status.idle": "2025-08-06T18:09:01.572150Z",
     "shell.execute_reply": "2025-08-06T18:09:01.571236Z"
    },
    "papermill": {
     "duration": 0.029262,
     "end_time": "2025-08-06T18:09:01.573782",
     "exception": false,
     "start_time": "2025-08-06T18:09:01.544520",
     "status": "completed"
    },
    "tags": []
   },
   "outputs": [],
   "source": [
    "example_universe = universe.copy()\n",
    "universe_training_year = example_universe.get(\"training_year\")\n",
    "universe_training_size = example_universe.get(\"training_size\")\n",
    "universe_scale = example_universe.get(\"scale\")\n",
    "universe_model = example_universe.get(\"model\")\n",
    "universe_exclude_features = example_universe.get(\"exclude_features\")\n",
    "universe_exclude_subgroups = example_universe.get(\"exclude_subgroups\")"
   ]
  },
  {
   "cell_type": "code",
   "execution_count": 46,
   "id": "f4b6a8ac-9dc0-4245-8a91-5b3b5999c4f9",
   "metadata": {
    "execution": {
     "iopub.execute_input": "2025-08-06T18:09:01.617636Z",
     "iopub.status.busy": "2025-08-06T18:09:01.616708Z",
     "iopub.status.idle": "2025-08-06T18:09:01.623325Z",
     "shell.execute_reply": "2025-08-06T18:09:01.622502Z"
    },
    "papermill": {
     "duration": 0.028974,
     "end_time": "2025-08-06T18:09:01.625040",
     "exception": false,
     "start_time": "2025-08-06T18:09:01.596066",
     "status": "completed"
    },
    "tags": []
   },
   "outputs": [],
   "source": [
    "cp_metrics_dict = {\n",
    "    \"universe_id\": [universe_id],\n",
    "    \"universe_training_year\": [universe_training_year],\n",
    "    \"universe_training_size\": [universe_training_size],\n",
    "    \"universe_scale\": [universe_scale],\n",
    "    \"universe_model\": [universe_model],\n",
    "    \"universe_exclude_features\": [universe_exclude_features],\n",
    "    \"universe_exclude_subgroups\": [universe_exclude_subgroups],\n",
    "    \"q_hat\": [q_hat],\n",
    "    \"coverage\": [metrics[\"coverage\"]],\n",
    "    \"avg_size\": [metrics[\"avg_size\"]],\n",
    "}"
   ]
  },
  {
   "cell_type": "code",
   "execution_count": 47,
   "id": "33007efc-14e9-4ec6-97ac-56a455c82265",
   "metadata": {
    "execution": {
     "iopub.execute_input": "2025-08-06T18:09:01.670189Z",
     "iopub.status.busy": "2025-08-06T18:09:01.669517Z",
     "iopub.status.idle": "2025-08-06T18:09:01.675856Z",
     "shell.execute_reply": "2025-08-06T18:09:01.674914Z"
    },
    "papermill": {
     "duration": 0.029009,
     "end_time": "2025-08-06T18:09:01.677340",
     "exception": false,
     "start_time": "2025-08-06T18:09:01.648331",
     "status": "completed"
    },
    "tags": []
   },
   "outputs": [],
   "source": [
    "cp_metrics_df = pd.DataFrame(cp_metrics_dict)"
   ]
  },
  {
   "cell_type": "code",
   "execution_count": 48,
   "id": "db12611b-57b2-4910-b9d0-355adfd6e7bf",
   "metadata": {
    "execution": {
     "iopub.execute_input": "2025-08-06T18:09:01.718800Z",
     "iopub.status.busy": "2025-08-06T18:09:01.718052Z",
     "iopub.status.idle": "2025-08-06T18:09:01.734592Z",
     "shell.execute_reply": "2025-08-06T18:09:01.733697Z"
    },
    "papermill": {
     "duration": 0.040576,
     "end_time": "2025-08-06T18:09:01.738079",
     "exception": false,
     "start_time": "2025-08-06T18:09:01.697503",
     "status": "completed"
    },
    "tags": []
   },
   "outputs": [
    {
     "data": {
      "text/html": [
       "<div>\n",
       "<style scoped>\n",
       "    .dataframe tbody tr th:only-of-type {\n",
       "        vertical-align: middle;\n",
       "    }\n",
       "\n",
       "    .dataframe tbody tr th {\n",
       "        vertical-align: top;\n",
       "    }\n",
       "\n",
       "    .dataframe thead th {\n",
       "        text-align: right;\n",
       "    }\n",
       "</style>\n",
       "<table border=\"1\" class=\"dataframe\">\n",
       "  <thead>\n",
       "    <tr style=\"text-align: right;\">\n",
       "      <th></th>\n",
       "      <th>universe_id</th>\n",
       "      <th>universe_training_year</th>\n",
       "      <th>universe_training_size</th>\n",
       "      <th>universe_scale</th>\n",
       "      <th>universe_model</th>\n",
       "      <th>universe_exclude_features</th>\n",
       "      <th>universe_exclude_subgroups</th>\n",
       "      <th>q_hat</th>\n",
       "      <th>coverage</th>\n",
       "      <th>avg_size</th>\n",
       "    </tr>\n",
       "  </thead>\n",
       "  <tbody>\n",
       "    <tr>\n",
       "      <th>0</th>\n",
       "      <td>c6e8c25a4aa229a09f8e8b518e5a1c69</td>\n",
       "      <td>2010_14</td>\n",
       "      <td>1k</td>\n",
       "      <td>scale</td>\n",
       "      <td>gbm</td>\n",
       "      <td>none</td>\n",
       "      <td>drop-non-german</td>\n",
       "      <td>0.77488</td>\n",
       "      <td>0.90894</td>\n",
       "      <td>1.194282</td>\n",
       "    </tr>\n",
       "  </tbody>\n",
       "</table>\n",
       "</div>"
      ],
      "text/plain": [
       "                        universe_id universe_training_year  \\\n",
       "0  c6e8c25a4aa229a09f8e8b518e5a1c69                2010_14   \n",
       "\n",
       "  universe_training_size universe_scale universe_model  \\\n",
       "0                     1k          scale            gbm   \n",
       "\n",
       "  universe_exclude_features universe_exclude_subgroups    q_hat  coverage  \\\n",
       "0                      none            drop-non-german  0.77488   0.90894   \n",
       "\n",
       "   avg_size  \n",
       "0  1.194282  "
      ]
     },
     "execution_count": 48,
     "metadata": {},
     "output_type": "execute_result"
    }
   ],
   "source": [
    "cp_metrics_df"
   ]
  },
  {
   "cell_type": "markdown",
   "id": "c825ecb4-0d3d-41d6-b7c6-eccb21272259",
   "metadata": {
    "papermill": {
     "duration": 0.020826,
     "end_time": "2025-08-06T18:09:01.781144",
     "exception": false,
     "start_time": "2025-08-06T18:09:01.760318",
     "status": "completed"
    },
    "tags": []
   },
   "source": [
    "Conditional coverage & looking at subgroups"
   ]
  },
  {
   "cell_type": "code",
   "execution_count": 49,
   "id": "027ae886-68dd-4141-96c7-805a5450e1ef",
   "metadata": {
    "execution": {
     "iopub.execute_input": "2025-08-06T18:09:01.827715Z",
     "iopub.status.busy": "2025-08-06T18:09:01.826724Z",
     "iopub.status.idle": "2025-08-06T18:09:02.098548Z",
     "shell.execute_reply": "2025-08-06T18:09:02.097622Z"
    },
    "papermill": {
     "duration": 0.297177,
     "end_time": "2025-08-06T18:09:02.100477",
     "exception": false,
     "start_time": "2025-08-06T18:09:01.803300",
     "status": "completed"
    },
    "tags": []
   },
   "outputs": [],
   "source": [
    "from fairness_multiverse.conformal import build_cp_groups\n",
    "\n",
    "cp_groups_df = build_cp_groups(pred_sets, y_true, X_test.index, org_test)"
   ]
  },
  {
   "cell_type": "code",
   "execution_count": 50,
   "id": "6cbdab96-b2b2-45af-ad54-d0516db2e28d",
   "metadata": {
    "execution": {
     "iopub.execute_input": "2025-08-06T18:09:02.147329Z",
     "iopub.status.busy": "2025-08-06T18:09:02.146594Z",
     "iopub.status.idle": "2025-08-06T18:09:03.875549Z",
     "shell.execute_reply": "2025-08-06T18:09:03.874562Z"
    },
    "papermill": {
     "duration": 1.75442,
     "end_time": "2025-08-06T18:09:03.877475",
     "exception": false,
     "start_time": "2025-08-06T18:09:02.123055",
     "status": "completed"
    },
    "tags": []
   },
   "outputs": [],
   "source": [
    "# Define covered = 1 if true_label is in the predicted set\n",
    "cp_groups_df['covered'] = cp_groups_df.apply(\n",
    "    lambda r: int(r['true_label'] in r['pred_set']),\n",
    "    axis=1\n",
    ")"
   ]
  },
  {
   "cell_type": "code",
   "execution_count": 51,
   "id": "90032e27-66df-4540-9169-4e89cfbaa758",
   "metadata": {
    "execution": {
     "iopub.execute_input": "2025-08-06T18:09:03.922945Z",
     "iopub.status.busy": "2025-08-06T18:09:03.921993Z",
     "iopub.status.idle": "2025-08-06T18:09:03.933670Z",
     "shell.execute_reply": "2025-08-06T18:09:03.932742Z"
    },
    "papermill": {
     "duration": 0.035523,
     "end_time": "2025-08-06T18:09:03.935441",
     "exception": false,
     "start_time": "2025-08-06T18:09:03.899918",
     "status": "completed"
    },
    "tags": []
   },
   "outputs": [],
   "source": [
    "subgroups = ['frau1','nongerman','nongerman_male','nongerman_female']\n",
    "\n",
    "# Conditional coverage for subgroup==1\n",
    "cond_coverage = {\n",
    "    g: cp_groups_df.loc[cp_groups_df[g]==1, 'covered'].mean()\n",
    "    for g in subgroups\n",
    "}"
   ]
  },
  {
   "cell_type": "code",
   "execution_count": 52,
   "id": "1e348fb1-b9c3-45bc-ba23-f016827a7e0d",
   "metadata": {
    "execution": {
     "iopub.execute_input": "2025-08-06T18:09:03.982521Z",
     "iopub.status.busy": "2025-08-06T18:09:03.981588Z",
     "iopub.status.idle": "2025-08-06T18:09:03.988990Z",
     "shell.execute_reply": "2025-08-06T18:09:03.988082Z"
    },
    "papermill": {
     "duration": 0.031709,
     "end_time": "2025-08-06T18:09:03.990474",
     "exception": false,
     "start_time": "2025-08-06T18:09:03.958765",
     "status": "completed"
    },
    "tags": []
   },
   "outputs": [
    {
     "data": {
      "text/plain": [
       "{'frau1': 0.9078042862919531,\n",
       " 'nongerman': 0.9072026048391624,\n",
       " 'nongerman_male': 0.9238944429433487,\n",
       " 'nongerman_female': 0.8795827123695976}"
      ]
     },
     "execution_count": 52,
     "metadata": {},
     "output_type": "execute_result"
    }
   ],
   "source": [
    "cond_coverage"
   ]
  },
  {
   "cell_type": "code",
   "execution_count": 53,
   "id": "f5093324-c3dd-4d63-bc4c-8d945e5c8bbb",
   "metadata": {
    "execution": {
     "iopub.execute_input": "2025-08-06T18:09:04.037848Z",
     "iopub.status.busy": "2025-08-06T18:09:04.037206Z",
     "iopub.status.idle": "2025-08-06T18:09:04.044815Z",
     "shell.execute_reply": "2025-08-06T18:09:04.043889Z"
    },
    "papermill": {
     "duration": 0.032826,
     "end_time": "2025-08-06T18:09:04.046351",
     "exception": false,
     "start_time": "2025-08-06T18:09:04.013525",
     "status": "completed"
    },
    "tags": []
   },
   "outputs": [],
   "source": [
    "for subgroup, cov in cond_coverage.items():\n",
    "    cp_metrics_df[f\"cov_{subgroup}\"] = cov"
   ]
  },
  {
   "cell_type": "code",
   "execution_count": 54,
   "id": "6e872e10-dbe5-49e8-b554-5030c98ff75d",
   "metadata": {
    "execution": {
     "iopub.execute_input": "2025-08-06T18:09:04.092901Z",
     "iopub.status.busy": "2025-08-06T18:09:04.092271Z",
     "iopub.status.idle": "2025-08-06T18:09:04.111273Z",
     "shell.execute_reply": "2025-08-06T18:09:04.110338Z"
    },
    "papermill": {
     "duration": 0.044832,
     "end_time": "2025-08-06T18:09:04.113212",
     "exception": false,
     "start_time": "2025-08-06T18:09:04.068380",
     "status": "completed"
    },
    "tags": []
   },
   "outputs": [
    {
     "data": {
      "text/html": [
       "<div>\n",
       "<style scoped>\n",
       "    .dataframe tbody tr th:only-of-type {\n",
       "        vertical-align: middle;\n",
       "    }\n",
       "\n",
       "    .dataframe tbody tr th {\n",
       "        vertical-align: top;\n",
       "    }\n",
       "\n",
       "    .dataframe thead th {\n",
       "        text-align: right;\n",
       "    }\n",
       "</style>\n",
       "<table border=\"1\" class=\"dataframe\">\n",
       "  <thead>\n",
       "    <tr style=\"text-align: right;\">\n",
       "      <th></th>\n",
       "      <th>universe_id</th>\n",
       "      <th>universe_training_year</th>\n",
       "      <th>universe_training_size</th>\n",
       "      <th>universe_scale</th>\n",
       "      <th>universe_model</th>\n",
       "      <th>universe_exclude_features</th>\n",
       "      <th>universe_exclude_subgroups</th>\n",
       "      <th>q_hat</th>\n",
       "      <th>coverage</th>\n",
       "      <th>avg_size</th>\n",
       "      <th>cov_frau1</th>\n",
       "      <th>cov_nongerman</th>\n",
       "      <th>cov_nongerman_male</th>\n",
       "      <th>cov_nongerman_female</th>\n",
       "    </tr>\n",
       "  </thead>\n",
       "  <tbody>\n",
       "    <tr>\n",
       "      <th>0</th>\n",
       "      <td>c6e8c25a4aa229a09f8e8b518e5a1c69</td>\n",
       "      <td>2010_14</td>\n",
       "      <td>1k</td>\n",
       "      <td>scale</td>\n",
       "      <td>gbm</td>\n",
       "      <td>none</td>\n",
       "      <td>drop-non-german</td>\n",
       "      <td>0.77488</td>\n",
       "      <td>0.90894</td>\n",
       "      <td>1.194282</td>\n",
       "      <td>0.907804</td>\n",
       "      <td>0.907203</td>\n",
       "      <td>0.923894</td>\n",
       "      <td>0.879583</td>\n",
       "    </tr>\n",
       "  </tbody>\n",
       "</table>\n",
       "</div>"
      ],
      "text/plain": [
       "                        universe_id universe_training_year  \\\n",
       "0  c6e8c25a4aa229a09f8e8b518e5a1c69                2010_14   \n",
       "\n",
       "  universe_training_size universe_scale universe_model  \\\n",
       "0                     1k          scale            gbm   \n",
       "\n",
       "  universe_exclude_features universe_exclude_subgroups    q_hat  coverage  \\\n",
       "0                      none            drop-non-german  0.77488   0.90894   \n",
       "\n",
       "   avg_size  cov_frau1  cov_nongerman  cov_nongerman_male  \\\n",
       "0  1.194282   0.907804       0.907203            0.923894   \n",
       "\n",
       "   cov_nongerman_female  \n",
       "0              0.879583  "
      ]
     },
     "execution_count": 54,
     "metadata": {},
     "output_type": "execute_result"
    }
   ],
   "source": [
    "cp_metrics_df"
   ]
  },
  {
   "cell_type": "markdown",
   "id": "33774451",
   "metadata": {
    "papermill": {
     "duration": 0.021601,
     "end_time": "2025-08-06T18:09:04.157867",
     "exception": false,
     "start_time": "2025-08-06T18:09:04.136266",
     "status": "completed"
    },
    "tags": []
   },
   "source": [
    "# (Fairness) Metrics"
   ]
  },
  {
   "cell_type": "code",
   "execution_count": 55,
   "id": "debc5d62",
   "metadata": {
    "execution": {
     "iopub.execute_input": "2025-08-06T18:09:04.205194Z",
     "iopub.status.busy": "2025-08-06T18:09:04.204502Z",
     "iopub.status.idle": "2025-08-06T18:09:04.224297Z",
     "shell.execute_reply": "2025-08-06T18:09:04.223310Z"
    },
    "papermill": {
     "duration": 0.045196,
     "end_time": "2025-08-06T18:09:04.226151",
     "exception": false,
     "start_time": "2025-08-06T18:09:04.180955",
     "status": "completed"
    },
    "tags": []
   },
   "outputs": [],
   "source": [
    "colname_to_bin = \"maxdeutsch1\"\n",
    "majority_value = org_train[colname_to_bin].mode()[0]\n",
    "\n",
    "org_test[\"majmin\"] = np.where(org_test[colname_to_bin] == majority_value, \"majority\", \"minority\")"
   ]
  },
  {
   "cell_type": "code",
   "execution_count": 56,
   "id": "06a50de5",
   "metadata": {
    "execution": {
     "iopub.execute_input": "2025-08-06T18:09:04.274180Z",
     "iopub.status.busy": "2025-08-06T18:09:04.273603Z",
     "iopub.status.idle": "2025-08-06T18:09:07.068382Z",
     "shell.execute_reply": "2025-08-06T18:09:07.067432Z"
    },
    "papermill": {
     "duration": 2.82013,
     "end_time": "2025-08-06T18:09:07.070415",
     "exception": false,
     "start_time": "2025-08-06T18:09:04.250285",
     "status": "completed"
    },
    "tags": []
   },
   "outputs": [],
   "source": [
    "example_universe = universe.copy()\n",
    "example_universe[\"cutoff\"] = example_universe[\"cutoff\"][0]\n",
    "example_universe[\"eval_fairness_grouping\"] = example_universe[\"eval_fairness_grouping\"][0]\n",
    "fairness_dict, metric_frame = universe_analysis.compute_metrics(\n",
    "    example_universe,\n",
    "    y_pred_prob=probs_test,\n",
    "    y_test=y_true,\n",
    "    org_test=org_test,\n",
    ")"
   ]
  },
  {
   "cell_type": "markdown",
   "id": "f95d4e02",
   "metadata": {
    "papermill": {
     "duration": 0.02283,
     "end_time": "2025-08-06T18:09:07.117457",
     "exception": false,
     "start_time": "2025-08-06T18:09:07.094627",
     "status": "completed"
    },
    "tags": []
   },
   "source": [
    "# Overall"
   ]
  },
  {
   "cell_type": "markdown",
   "id": "bdee4871",
   "metadata": {
    "papermill": {
     "duration": 0.022952,
     "end_time": "2025-08-06T18:09:07.162205",
     "exception": false,
     "start_time": "2025-08-06T18:09:07.139253",
     "status": "completed"
    },
    "tags": []
   },
   "source": [
    "Main fairness target: Equalized Odds. Seems to be a better fit than equal opportunity, since we're not only interested in Y = 1. Seems to be a better fit than demographic parity, since we also care about accuracy, not just equal distribution of preds.\n",
    "\n",
    "Pick column for computation of fairness metrics\n",
    "\n",
    "Performance\n",
    "Overall performance measures, most interesting in relation to the measures split by group below"
   ]
  },
  {
   "cell_type": "code",
   "execution_count": 57,
   "id": "c4e067c6",
   "metadata": {
    "execution": {
     "iopub.execute_input": "2025-08-06T18:09:07.208364Z",
     "iopub.status.busy": "2025-08-06T18:09:07.207891Z",
     "iopub.status.idle": "2025-08-06T18:09:07.216765Z",
     "shell.execute_reply": "2025-08-06T18:09:07.215822Z"
    },
    "papermill": {
     "duration": 0.03391,
     "end_time": "2025-08-06T18:09:07.218451",
     "exception": false,
     "start_time": "2025-08-06T18:09:07.184541",
     "status": "completed"
    },
    "tags": []
   },
   "outputs": [
    {
     "data": {
      "text/plain": [
       "accuracy                   0.222818\n",
       "balanced accuracy          0.545147\n",
       "f1                         0.244192\n",
       "precision                  0.139499\n",
       "false positive rate        0.888417\n",
       "false negative rate        0.021290\n",
       "selection rate             0.900000\n",
       "count                  89710.000000\n",
       "dtype: float64"
      ]
     },
     "execution_count": 57,
     "metadata": {},
     "output_type": "execute_result"
    }
   ],
   "source": [
    "metric_frame.overall"
   ]
  },
  {
   "cell_type": "markdown",
   "id": "e968fe9d",
   "metadata": {
    "papermill": {
     "duration": 0.021558,
     "end_time": "2025-08-06T18:09:07.262334",
     "exception": false,
     "start_time": "2025-08-06T18:09:07.240776",
     "status": "completed"
    },
    "tags": []
   },
   "source": [
    "By Group"
   ]
  },
  {
   "cell_type": "code",
   "execution_count": 58,
   "id": "ec325bce",
   "metadata": {
    "execution": {
     "iopub.execute_input": "2025-08-06T18:09:07.308204Z",
     "iopub.status.busy": "2025-08-06T18:09:07.307463Z",
     "iopub.status.idle": "2025-08-06T18:09:07.323474Z",
     "shell.execute_reply": "2025-08-06T18:09:07.322561Z"
    },
    "papermill": {
     "duration": 0.040423,
     "end_time": "2025-08-06T18:09:07.325077",
     "exception": false,
     "start_time": "2025-08-06T18:09:07.284654",
     "status": "completed"
    },
    "tags": []
   },
   "outputs": [
    {
     "data": {
      "text/html": [
       "<div>\n",
       "<style scoped>\n",
       "    .dataframe tbody tr th:only-of-type {\n",
       "        vertical-align: middle;\n",
       "    }\n",
       "\n",
       "    .dataframe tbody tr th {\n",
       "        vertical-align: top;\n",
       "    }\n",
       "\n",
       "    .dataframe thead th {\n",
       "        text-align: right;\n",
       "    }\n",
       "</style>\n",
       "<table border=\"1\" class=\"dataframe\">\n",
       "  <thead>\n",
       "    <tr style=\"text-align: right;\">\n",
       "      <th></th>\n",
       "      <th>accuracy</th>\n",
       "      <th>balanced accuracy</th>\n",
       "      <th>f1</th>\n",
       "      <th>precision</th>\n",
       "      <th>false positive rate</th>\n",
       "      <th>false negative rate</th>\n",
       "      <th>selection rate</th>\n",
       "      <th>count</th>\n",
       "    </tr>\n",
       "    <tr>\n",
       "      <th>majmin</th>\n",
       "      <th></th>\n",
       "      <th></th>\n",
       "      <th></th>\n",
       "      <th></th>\n",
       "      <th></th>\n",
       "      <th></th>\n",
       "      <th></th>\n",
       "      <th></th>\n",
       "    </tr>\n",
       "  </thead>\n",
       "  <tbody>\n",
       "    <tr>\n",
       "      <th>majority</th>\n",
       "      <td>0.239873</td>\n",
       "      <td>0.552098</td>\n",
       "      <td>0.253450</td>\n",
       "      <td>0.145624</td>\n",
       "      <td>0.872281</td>\n",
       "      <td>0.023523</td>\n",
       "      <td>0.886049</td>\n",
       "      <td>69170.0</td>\n",
       "    </tr>\n",
       "    <tr>\n",
       "      <th>minority</th>\n",
       "      <td>0.165385</td>\n",
       "      <td>0.522804</td>\n",
       "      <td>0.214309</td>\n",
       "      <td>0.120199</td>\n",
       "      <td>0.941724</td>\n",
       "      <td>0.012669</td>\n",
       "      <td>0.946981</td>\n",
       "      <td>20540.0</td>\n",
       "    </tr>\n",
       "  </tbody>\n",
       "</table>\n",
       "</div>"
      ],
      "text/plain": [
       "          accuracy  balanced accuracy        f1  precision  \\\n",
       "majmin                                                       \n",
       "majority  0.239873           0.552098  0.253450   0.145624   \n",
       "minority  0.165385           0.522804  0.214309   0.120199   \n",
       "\n",
       "          false positive rate  false negative rate  selection rate    count  \n",
       "majmin                                                                       \n",
       "majority             0.872281             0.023523        0.886049  69170.0  \n",
       "minority             0.941724             0.012669        0.946981  20540.0  "
      ]
     },
     "execution_count": 58,
     "metadata": {},
     "output_type": "execute_result"
    }
   ],
   "source": [
    "metric_frame.by_group"
   ]
  },
  {
   "cell_type": "code",
   "execution_count": 59,
   "id": "a9ddbe63",
   "metadata": {
    "execution": {
     "iopub.execute_input": "2025-08-06T18:09:07.371674Z",
     "iopub.status.busy": "2025-08-06T18:09:07.371031Z",
     "iopub.status.idle": "2025-08-06T18:09:09.714550Z",
     "shell.execute_reply": "2025-08-06T18:09:09.713616Z"
    },
    "papermill": {
     "duration": 2.370694,
     "end_time": "2025-08-06T18:09:09.718631",
     "exception": false,
     "start_time": "2025-08-06T18:09:07.347937",
     "status": "completed"
    },
    "tags": []
   },
   "outputs": [
    {
     "data": {
      "text/plain": [
       "array([[<Axes: title={'center': 'accuracy'}, xlabel='majmin'>,\n",
       "        <Axes: title={'center': 'balanced accuracy'}, xlabel='majmin'>,\n",
       "        <Axes: title={'center': 'f1'}, xlabel='majmin'>],\n",
       "       [<Axes: title={'center': 'precision'}, xlabel='majmin'>,\n",
       "        <Axes: title={'center': 'false positive rate'}, xlabel='majmin'>,\n",
       "        <Axes: title={'center': 'false negative rate'}, xlabel='majmin'>],\n",
       "       [<Axes: title={'center': 'selection rate'}, xlabel='majmin'>,\n",
       "        <Axes: title={'center': 'count'}, xlabel='majmin'>,\n",
       "        <Axes: xlabel='majmin'>]], dtype=object)"
      ]
     },
     "execution_count": 59,
     "metadata": {},
     "output_type": "execute_result"
    },
    {
     "data": {
      "image/png": "[encoded data removed]",
      "text/plain": [
       "<Figure size 1200x800 with 9 Axes>"
      ]
     },
     "metadata": {},
     "output_type": "display_data"
    }
   ],
   "source": [
    "# In a graphic\n",
    "metric_frame.by_group.plot.bar(\n",
    "    subplots=True,\n",
    "    layout=[3, 3],\n",
    "    legend=False,\n",
    "    figsize=[12, 8],\n",
    "    title=\"Show all metrics\",\n",
    ")"
   ]
  },
  {
   "cell_type": "markdown",
   "id": "f57a0bac",
   "metadata": {
    "papermill": {
     "duration": 0.025502,
     "end_time": "2025-08-06T18:09:09.768902",
     "exception": false,
     "start_time": "2025-08-06T18:09:09.743400",
     "status": "completed"
    },
    "tags": []
   },
   "source": [
    "# Final Output"
   ]
  },
  {
   "cell_type": "code",
   "execution_count": 60,
   "id": "96d280a3",
   "metadata": {
    "execution": {
     "iopub.execute_input": "2025-08-06T18:09:09.822577Z",
     "iopub.status.busy": "2025-08-06T18:09:09.821102Z",
     "iopub.status.idle": "2025-08-06T18:09:09.832231Z",
     "shell.execute_reply": "2025-08-06T18:09:09.831131Z"
    },
    "papermill": {
     "duration": 0.039012,
     "end_time": "2025-08-06T18:09:09.833884",
     "exception": false,
     "start_time": "2025-08-06T18:09:09.794872",
     "status": "completed"
    },
    "tags": []
   },
   "outputs": [
    {
     "data": {
      "text/plain": [
       "4"
      ]
     },
     "execution_count": 60,
     "metadata": {},
     "output_type": "execute_result"
    }
   ],
   "source": [
    "sub_universes = universe_analysis.generate_sub_universes()\n",
    "len(sub_universes)"
   ]
  },
  {
   "cell_type": "code",
   "execution_count": 61,
   "id": "92adf7ba",
   "metadata": {
    "execution": {
     "iopub.execute_input": "2025-08-06T18:09:09.887371Z",
     "iopub.status.busy": "2025-08-06T18:09:09.886348Z",
     "iopub.status.idle": "2025-08-06T18:09:09.894352Z",
     "shell.execute_reply": "2025-08-06T18:09:09.893115Z"
    },
    "papermill": {
     "duration": 0.036163,
     "end_time": "2025-08-06T18:09:09.896163",
     "exception": false,
     "start_time": "2025-08-06T18:09:09.860000",
     "status": "completed"
    },
    "tags": []
   },
   "outputs": [],
   "source": [
    "def filter_sub_universe_data(sub_universe, org_test):\n",
    "    # Keep all rows — no filtering\n",
    "    keep_rows_mask = np.ones(org_test.shape[0], dtype=bool)\n",
    "\n",
    "    print(f\"[INFO] Keeping all rows: {keep_rows_mask.sum()} rows retained.\")\n",
    "    return keep_rows_mask"
   ]
  },
  {
   "cell_type": "code",
   "execution_count": 62,
   "id": "4a759155",
   "metadata": {
    "execution": {
     "iopub.execute_input": "2025-08-06T18:09:09.949939Z",
     "iopub.status.busy": "2025-08-06T18:09:09.949210Z",
     "iopub.status.idle": "2025-08-06T18:09:19.892925Z",
     "shell.execute_reply": "2025-08-06T18:09:19.891703Z"
    },
    "papermill": {
     "duration": 9.972435,
     "end_time": "2025-08-06T18:09:19.894805",
     "exception": false,
     "start_time": "2025-08-06T18:09:09.922370",
     "status": "completed"
    },
    "tags": []
   },
   "outputs": [
    {
     "name": "stdout",
     "output_type": "stream",
     "text": [
      "Stopping execution_time clock.\n",
      "[INFO] Keeping all rows: 89710 rows retained.\n"
     ]
    },
    {
     "name": "stdout",
     "output_type": "stream",
     "text": [
      "[INFO] Keeping all rows: 89710 rows retained.\n"
     ]
    },
    {
     "name": "stdout",
     "output_type": "stream",
     "text": [
      "[INFO] Keeping all rows: 89710 rows retained.\n"
     ]
    },
    {
     "name": "stdout",
     "output_type": "stream",
     "text": [
      "[INFO] Keeping all rows: 89710 rows retained.\n"
     ]
    },
    {
     "data": {
      "text/html": [
       "<div>\n",
       "<style scoped>\n",
       "    .dataframe tbody tr th:only-of-type {\n",
       "        vertical-align: middle;\n",
       "    }\n",
       "\n",
       "    .dataframe tbody tr th {\n",
       "        vertical-align: top;\n",
       "    }\n",
       "\n",
       "    .dataframe thead th {\n",
       "        text-align: right;\n",
       "    }\n",
       "</style>\n",
       "<table border=\"1\" class=\"dataframe\">\n",
       "  <thead>\n",
       "    <tr style=\"text-align: right;\">\n",
       "      <th></th>\n",
       "      <th>run_no</th>\n",
       "      <th>universe_id</th>\n",
       "      <th>universe_settings</th>\n",
       "      <th>execution_time</th>\n",
       "      <th>test_size_n</th>\n",
       "      <th>test_size_frac</th>\n",
       "      <th>fair_main_equalized_odds_difference</th>\n",
       "      <th>fair_main_equalized_odds_ratio</th>\n",
       "      <th>fair_main_demographic_parity_difference</th>\n",
       "      <th>fair_main_demographic_parity_ratio</th>\n",
       "      <th>...</th>\n",
       "      <th>perf_grp_precision_0</th>\n",
       "      <th>perf_grp_precision_1</th>\n",
       "      <th>perf_grp_false positive rate_0</th>\n",
       "      <th>perf_grp_false positive rate_1</th>\n",
       "      <th>perf_grp_false negative rate_0</th>\n",
       "      <th>perf_grp_false negative rate_1</th>\n",
       "      <th>perf_grp_selection rate_0</th>\n",
       "      <th>perf_grp_selection rate_1</th>\n",
       "      <th>perf_grp_count_0</th>\n",
       "      <th>perf_grp_count_1</th>\n",
       "    </tr>\n",
       "  </thead>\n",
       "  <tbody>\n",
       "    <tr>\n",
       "      <th>0</th>\n",
       "      <td>1</td>\n",
       "      <td>c6e8c25a4aa229a09f8e8b518e5a1c69</td>\n",
       "      <td>{\"cutoff\": \"quantile_0.1\", \"eval_fairness_grou...</td>\n",
       "      <td>30.645557</td>\n",
       "      <td>89710</td>\n",
       "      <td>1.0</td>\n",
       "      <td>0.069443</td>\n",
       "      <td>0.926260</td>\n",
       "      <td>0.060933</td>\n",
       "      <td>0.935656</td>\n",
       "      <td>...</td>\n",
       "      <td>NaN</td>\n",
       "      <td>NaN</td>\n",
       "      <td>NaN</td>\n",
       "      <td>NaN</td>\n",
       "      <td>NaN</td>\n",
       "      <td>NaN</td>\n",
       "      <td>NaN</td>\n",
       "      <td>NaN</td>\n",
       "      <td>NaN</td>\n",
       "      <td>NaN</td>\n",
       "    </tr>\n",
       "    <tr>\n",
       "      <th>0</th>\n",
       "      <td>1</td>\n",
       "      <td>c6e8c25a4aa229a09f8e8b518e5a1c69</td>\n",
       "      <td>{\"cutoff\": \"quantile_0.1\", \"eval_fairness_grou...</td>\n",
       "      <td>30.645557</td>\n",
       "      <td>89710</td>\n",
       "      <td>1.0</td>\n",
       "      <td>0.069443</td>\n",
       "      <td>0.926260</td>\n",
       "      <td>0.060933</td>\n",
       "      <td>0.935656</td>\n",
       "      <td>...</td>\n",
       "      <td>0.120199</td>\n",
       "      <td>0.145624</td>\n",
       "      <td>0.941724</td>\n",
       "      <td>0.872281</td>\n",
       "      <td>0.012669</td>\n",
       "      <td>0.023523</td>\n",
       "      <td>0.946981</td>\n",
       "      <td>0.886049</td>\n",
       "      <td>20540.0</td>\n",
       "      <td>69170.0</td>\n",
       "    </tr>\n",
       "    <tr>\n",
       "      <th>0</th>\n",
       "      <td>1</td>\n",
       "      <td>c6e8c25a4aa229a09f8e8b518e5a1c69</td>\n",
       "      <td>{\"cutoff\": \"quantile_0.25\", \"eval_fairness_gro...</td>\n",
       "      <td>30.645557</td>\n",
       "      <td>89710</td>\n",
       "      <td>1.0</td>\n",
       "      <td>0.149801</td>\n",
       "      <td>0.821542</td>\n",
       "      <td>0.133428</td>\n",
       "      <td>0.843555</td>\n",
       "      <td>...</td>\n",
       "      <td>NaN</td>\n",
       "      <td>NaN</td>\n",
       "      <td>NaN</td>\n",
       "      <td>NaN</td>\n",
       "      <td>NaN</td>\n",
       "      <td>NaN</td>\n",
       "      <td>NaN</td>\n",
       "      <td>NaN</td>\n",
       "      <td>NaN</td>\n",
       "      <td>NaN</td>\n",
       "    </tr>\n",
       "    <tr>\n",
       "      <th>0</th>\n",
       "      <td>1</td>\n",
       "      <td>c6e8c25a4aa229a09f8e8b518e5a1c69</td>\n",
       "      <td>{\"cutoff\": \"quantile_0.25\", \"eval_fairness_gro...</td>\n",
       "      <td>30.645557</td>\n",
       "      <td>89710</td>\n",
       "      <td>1.0</td>\n",
       "      <td>0.149801</td>\n",
       "      <td>0.821542</td>\n",
       "      <td>0.133428</td>\n",
       "      <td>0.843555</td>\n",
       "      <td>...</td>\n",
       "      <td>0.129238</td>\n",
       "      <td>0.168113</td>\n",
       "      <td>0.839423</td>\n",
       "      <td>0.689622</td>\n",
       "      <td>0.043919</td>\n",
       "      <td>0.084683</td>\n",
       "      <td>0.852872</td>\n",
       "      <td>0.719445</td>\n",
       "      <td>20540.0</td>\n",
       "      <td>69170.0</td>\n",
       "    </tr>\n",
       "  </tbody>\n",
       "</table>\n",
       "<p>4 rows × 50 columns</p>\n",
       "</div>"
      ],
      "text/plain": [
       "  run_no                       universe_id  \\\n",
       "0      1  c6e8c25a4aa229a09f8e8b518e5a1c69   \n",
       "0      1  c6e8c25a4aa229a09f8e8b518e5a1c69   \n",
       "0      1  c6e8c25a4aa229a09f8e8b518e5a1c69   \n",
       "0      1  c6e8c25a4aa229a09f8e8b518e5a1c69   \n",
       "\n",
       "                                   universe_settings  execution_time  \\\n",
       "0  {\"cutoff\": \"quantile_0.1\", \"eval_fairness_grou...       30.645557   \n",
       "0  {\"cutoff\": \"quantile_0.1\", \"eval_fairness_grou...       30.645557   \n",
       "0  {\"cutoff\": \"quantile_0.25\", \"eval_fairness_gro...       30.645557   \n",
       "0  {\"cutoff\": \"quantile_0.25\", \"eval_fairness_gro...       30.645557   \n",
       "\n",
       "   test_size_n  test_size_frac  fair_main_equalized_odds_difference  \\\n",
       "0        89710             1.0                             0.069443   \n",
       "0        89710             1.0                             0.069443   \n",
       "0        89710             1.0                             0.149801   \n",
       "0        89710             1.0                             0.149801   \n",
       "\n",
       "   fair_main_equalized_odds_ratio  fair_main_demographic_parity_difference  \\\n",
       "0                        0.926260                                 0.060933   \n",
       "0                        0.926260                                 0.060933   \n",
       "0                        0.821542                                 0.133428   \n",
       "0                        0.821542                                 0.133428   \n",
       "\n",
       "   fair_main_demographic_parity_ratio  ...  perf_grp_precision_0  \\\n",
       "0                            0.935656  ...                   NaN   \n",
       "0                            0.935656  ...              0.120199   \n",
       "0                            0.843555  ...                   NaN   \n",
       "0                            0.843555  ...              0.129238   \n",
       "\n",
       "   perf_grp_precision_1  perf_grp_false positive rate_0  \\\n",
       "0                   NaN                             NaN   \n",
       "0              0.145624                        0.941724   \n",
       "0                   NaN                             NaN   \n",
       "0              0.168113                        0.839423   \n",
       "\n",
       "   perf_grp_false positive rate_1  perf_grp_false negative rate_0  \\\n",
       "0                             NaN                             NaN   \n",
       "0                        0.872281                        0.012669   \n",
       "0                             NaN                             NaN   \n",
       "0                        0.689622                        0.043919   \n",
       "\n",
       "   perf_grp_false negative rate_1  perf_grp_selection rate_0  \\\n",
       "0                             NaN                        NaN   \n",
       "0                        0.023523                   0.946981   \n",
       "0                             NaN                        NaN   \n",
       "0                        0.084683                   0.852872   \n",
       "\n",
       "   perf_grp_selection rate_1  perf_grp_count_0  perf_grp_count_1  \n",
       "0                        NaN               NaN               NaN  \n",
       "0                   0.886049           20540.0           69170.0  \n",
       "0                        NaN               NaN               NaN  \n",
       "0                   0.719445           20540.0           69170.0  \n",
       "\n",
       "[4 rows x 50 columns]"
      ]
     },
     "execution_count": 62,
     "metadata": {},
     "output_type": "execute_result"
    }
   ],
   "source": [
    "final_output = universe_analysis.generate_final_output(\n",
    "    y_pred_prob=probs_test,\n",
    "    y_test=y_true,\n",
    "    org_test=org_test,\n",
    "    filter_data=filter_sub_universe_data,\n",
    "    cp_metrics_df=cp_metrics_df,\n",
    "    save=True,\n",
    ")\n",
    "final_output"
   ]
  },
  {
   "cell_type": "code",
   "execution_count": null,
   "id": "571f9a0f-660a-4841-b661-b06fbc637944",
   "metadata": {
    "papermill": {
     "duration": 0.029548,
     "end_time": "2025-08-06T18:09:19.958313",
     "exception": false,
     "start_time": "2025-08-06T18:09:19.928765",
     "status": "completed"
    },
    "tags": []
   },
   "outputs": [],
   "source": []
  },
  {
   "cell_type": "code",
   "execution_count": null,
   "id": "529482e3-0150-4854-a92d-ab864efc606e",
   "metadata": {
    "papermill": {
     "duration": 0.027424,
     "end_time": "2025-08-06T18:09:20.015250",
     "exception": false,
     "start_time": "2025-08-06T18:09:19.987826",
     "status": "completed"
    },
    "tags": []
   },
   "outputs": [],
   "source": []
  }
 ],
 "metadata": {
  "celltoolbar": "Tags",
  "kernelspec": {
   "display_name": "Python (CMA Fairness)",
   "language": "python",
   "name": "cma_fair_env"
  },
  "language_info": {
   "codemirror_mode": {
    "name": "ipython",
    "version": 3
   },
   "file_extension": ".py",
   "mimetype": "text/x-python",
   "name": "python",
   "nbconvert_exporter": "python",
   "pygments_lexer": "ipython3",
   "version": "3.10.12"
  },
  "papermill": {
   "default_parameters": {},
   "duration": 45.043058,
   "end_time": "2025-08-06T18:09:20.861781",
   "environment_variables": {},
   "exception": null,
   "input_path": "universe_analysis.ipynb",
   "output_path": "output/runs/1/notebooks/m_1-c6e8c25a4aa229a09f8e8b518e5a1c69.ipynb",
   "parameters": {
    "output_dir": "output",
    "run_no": "1",
    "seed": "2023",
    "universe": "{\"cutoff\": [\"quantile_0.1\", \"quantile_0.25\"], \"eval_fairness_grouping\": [\"majority-minority\", \"nationality-all\"], \"exclude_features\": \"none\", \"exclude_subgroups\": \"drop-non-german\", \"model\": \"gbm\", \"scale\": \"scale\", \"training_size\": \"1k\", \"training_year\": \"2010_14\"}",
    "universe_id": "c6e8c25a4aa229a09f8e8b518e5a1c69"
   },
   "start_time": "2025-08-06T18:08:35.818723",
   "version": "2.6.0"
  }
 },
 "nbformat": 4,
 "nbformat_minor": 5
}