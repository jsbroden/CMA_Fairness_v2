{
 "cells": [
  {
   "cell_type": "markdown",
   "id": "b2057076-3a91-4cfa-9bfd-eab1e61b3068",
   "metadata": {
    "papermill": {
     "duration": 0.017194,
     "end_time": "2025-08-06T17:48:09.534743",
     "exception": false,
     "start_time": "2025-08-06T17:48:09.517549",
     "status": "completed"
    },
    "tags": []
   },
   "source": [
    "# Setup"
   ]
  },
  {
   "cell_type": "code",
   "execution_count": 1,
   "id": "f159f837-637b-42ba-96b5-ec9a68c44524",
   "metadata": {
    "execution": {
     "iopub.execute_input": "2025-08-06T17:48:09.568835Z",
     "iopub.status.busy": "2025-08-06T17:48:09.568062Z",
     "iopub.status.idle": "2025-08-06T17:48:09.585779Z",
     "shell.execute_reply": "2025-08-06T17:48:09.584450Z"
    },
    "papermill": {
     "duration": 0.037198,
     "end_time": "2025-08-06T17:48:09.587715",
     "exception": false,
     "start_time": "2025-08-06T17:48:09.550517",
     "status": "completed"
    },
    "tags": []
   },
   "outputs": [
    {
     "name": "stdout",
     "output_type": "stream",
     "text": [
      "/dss/dsshome1/0C/ra93lal2/cma/CMA_Fairness_v2\n"
     ]
    },
    {
     "name": "stderr",
     "output_type": "stream",
     "text": [
      "/dss/dsshome1/0C/ra93lal2/.local/share/virtualenvs/CMA_Fairness_v2-3j10GkSs/lib/python3.10/site-packages/IPython/core/magics/osm.py:393: UserWarning: This is now an optional IPython functionality, using bookmarks requires you to install the `pickleshare` library.\n",
      "  bkms = self.shell.db.get('bookmarks', {})\n",
      "/dss/dsshome1/0C/ra93lal2/.local/share/virtualenvs/CMA_Fairness_v2-3j10GkSs/lib/python3.10/site-packages/IPython/core/magics/osm.py:417: UserWarning: This is now an optional IPython functionality, setting dhist requires you to install the `pickleshare` library.\n",
      "  self.shell.db['dhist'] = compress_dhist(dhist)[-100:]\n"
     ]
    }
   ],
   "source": [
    "%cd ~/cma/CMA_Fairness_v2"
   ]
  },
  {
   "cell_type": "markdown",
   "id": "de2603b9",
   "metadata": {
    "papermill": {
     "duration": 0.016543,
     "end_time": "2025-08-06T17:48:09.622952",
     "exception": false,
     "start_time": "2025-08-06T17:48:09.606409",
     "status": "completed"
    },
    "tags": []
   },
   "source": [
    "The following cell holds the definition of our parameters, these values can be overriden by rendering the with e.g. the following command:\n",
    "\n",
    "papermill -p alpha 0.2 -p ratio 0.3 universe_analysis.ipynb output/test_run.ipynb"
   ]
  },
  {
   "cell_type": "code",
   "execution_count": 2,
   "id": "a80968a0-40bb-4fa9-85ef-2d5eefb01975",
   "metadata": {
    "execution": {
     "iopub.execute_input": "2025-08-06T17:48:09.659652Z",
     "iopub.status.busy": "2025-08-06T17:48:09.658813Z",
     "iopub.status.idle": "2025-08-06T17:48:09.666720Z",
     "shell.execute_reply": "2025-08-06T17:48:09.665494Z"
    },
    "papermill": {
     "duration": 0.028706,
     "end_time": "2025-08-06T17:48:09.668647",
     "exception": false,
     "start_time": "2025-08-06T17:48:09.639941",
     "status": "completed"
    },
    "tags": []
   },
   "outputs": [
    {
     "name": "stdout",
     "output_type": "stream",
     "text": [
      "Current working directory: /dss/dsshome1/0C/ra93lal2/cma/CMA_Fairness_v2\n"
     ]
    }
   ],
   "source": [
    "import os\n",
    "print(\"Current working directory:\", os.getcwd())"
   ]
  },
  {
   "cell_type": "code",
   "execution_count": 3,
   "id": "2dce4c03",
   "metadata": {
    "execution": {
     "iopub.execute_input": "2025-08-06T17:48:09.704932Z",
     "iopub.status.busy": "2025-08-06T17:48:09.704357Z",
     "iopub.status.idle": "2025-08-06T17:48:09.711409Z",
     "shell.execute_reply": "2025-08-06T17:48:09.710329Z"
    },
    "papermill": {
     "duration": 0.027263,
     "end_time": "2025-08-06T17:48:09.713055",
     "exception": false,
     "start_time": "2025-08-06T17:48:09.685792",
     "status": "completed"
    },
    "tags": [
     "parameters"
    ]
   },
   "outputs": [],
   "source": [
    "run_no = 0\n",
    "universe_id = \"test\"\n",
    "universe = {\n",
    "    \"training_size\": \"5k\", # \"25k\", \"5k\", \"1k\"\n",
    "    \"training_year\": \"2012_14\", # \"2014\", \"2012_14\", \"2010_14\"\n",
    "    \"scale\": \"scale\", # \"scale\", \"do-not-scale\",\n",
    "    \"model\": \"elasticnet\", # \"logreg\", \"penalized_logreg\", \"rf\", \"gbm\", \"elasticnet\"\n",
    "    \"cutoff\": [\"quantile_0.15\", \"quantile_0.30\"],\n",
    "    \"exclude_features\": \"age\", # \"none\", \"nationality\", \"sex\", \"nationality-sex\", \"age\"\n",
    "    \"exclude_subgroups\": \"drop-non-german\", # \"keep-all\", \"drop-non-german\"\n",
    "    \"eval_fairness_grouping\": [\"majority-minority\", \"nationality-all\"]\n",
    "}\n",
    "\n",
    "output_dir=\"./output\"\n",
    "seed=0"
   ]
  },
  {
   "cell_type": "code",
   "execution_count": 4,
   "id": "cee7d038",
   "metadata": {
    "execution": {
     "iopub.execute_input": "2025-08-06T17:48:09.751141Z",
     "iopub.status.busy": "2025-08-06T17:48:09.750230Z",
     "iopub.status.idle": "2025-08-06T17:48:09.756728Z",
     "shell.execute_reply": "2025-08-06T17:48:09.755516Z"
    },
    "papermill": {
     "duration": 0.027556,
     "end_time": "2025-08-06T17:48:09.758560",
     "exception": false,
     "start_time": "2025-08-06T17:48:09.731004",
     "status": "completed"
    },
    "tags": [
     "injected-parameters"
    ]
   },
   "outputs": [],
   "source": [
    "# Parameters\n",
    "universe_id = \"bb5ffbc14595629263e25f89a43b1115\"\n",
    "run_no = \"1\"\n",
    "universe = \"{\\\"cutoff\\\": [\\\"quantile_0.1\\\", \\\"quantile_0.25\\\"], \\\"eval_fairness_grouping\\\": [\\\"majority-minority\\\", \\\"nationality-all\\\"], \\\"exclude_features\\\": \\\"sex\\\", \\\"exclude_subgroups\\\": \\\"keep-all\\\", \\\"model\\\": \\\"rf\\\", \\\"scale\\\": \\\"scale\\\", \\\"training_size\\\": \\\"1k\\\", \\\"training_year\\\": \\\"2014\\\"}\"\n",
    "output_dir = \"output\"\n",
    "seed = \"2023\"\n"
   ]
  },
  {
   "cell_type": "code",
   "execution_count": 5,
   "id": "1650acaf",
   "metadata": {
    "execution": {
     "iopub.execute_input": "2025-08-06T17:48:09.791800Z",
     "iopub.status.busy": "2025-08-06T17:48:09.791041Z",
     "iopub.status.idle": "2025-08-06T17:48:09.795874Z",
     "shell.execute_reply": "2025-08-06T17:48:09.794873Z"
    },
    "papermill": {
     "duration": 0.022753,
     "end_time": "2025-08-06T17:48:09.797364",
     "exception": false,
     "start_time": "2025-08-06T17:48:09.774611",
     "status": "completed"
    },
    "tags": []
   },
   "outputs": [],
   "source": [
    "import json\n",
    "if isinstance(universe, str):\n",
    "    universe = json.loads(universe)"
   ]
  },
  {
   "cell_type": "code",
   "execution_count": 6,
   "id": "16620c48",
   "metadata": {
    "execution": {
     "iopub.execute_input": "2025-08-06T17:48:09.843430Z",
     "iopub.status.busy": "2025-08-06T17:48:09.843022Z",
     "iopub.status.idle": "2025-08-06T17:48:09.878048Z",
     "shell.execute_reply": "2025-08-06T17:48:09.877285Z"
    },
    "papermill": {
     "duration": 0.056066,
     "end_time": "2025-08-06T17:48:09.880240",
     "exception": false,
     "start_time": "2025-08-06T17:48:09.824174",
     "status": "completed"
    },
    "tags": []
   },
   "outputs": [],
   "source": [
    "# Auto-reload the custom package\n",
    "%load_ext autoreload\n",
    "%autoreload 1\n",
    "%aimport fairness_multiverse"
   ]
  },
  {
   "cell_type": "code",
   "execution_count": 7,
   "id": "01c5c9f3",
   "metadata": {
    "execution": {
     "iopub.execute_input": "2025-08-06T17:48:09.918434Z",
     "iopub.status.busy": "2025-08-06T17:48:09.917497Z",
     "iopub.status.idle": "2025-08-06T17:48:11.757051Z",
     "shell.execute_reply": "2025-08-06T17:48:11.755973Z"
    },
    "papermill": {
     "duration": 1.86064,
     "end_time": "2025-08-06T17:48:11.759236",
     "exception": false,
     "start_time": "2025-08-06T17:48:09.898596",
     "status": "completed"
    },
    "tags": []
   },
   "outputs": [],
   "source": [
    "from fairness_multiverse.universe import UniverseAnalysis\n",
    "\n",
    "universe_analysis = UniverseAnalysis(\n",
    "    run_no = run_no,\n",
    "    universe_id = universe_id,\n",
    "    universe = universe,\n",
    "    output_dir=output_dir,\n",
    ")"
   ]
  },
  {
   "cell_type": "code",
   "execution_count": 8,
   "id": "106241f5",
   "metadata": {
    "execution": {
     "iopub.execute_input": "2025-08-06T17:48:11.800860Z",
     "iopub.status.busy": "2025-08-06T17:48:11.800141Z",
     "iopub.status.idle": "2025-08-06T17:48:11.806918Z",
     "shell.execute_reply": "2025-08-06T17:48:11.806031Z"
    },
    "papermill": {
     "duration": 0.029421,
     "end_time": "2025-08-06T17:48:11.808446",
     "exception": false,
     "start_time": "2025-08-06T17:48:11.779025",
     "status": "completed"
    },
    "tags": []
   },
   "outputs": [
    {
     "name": "stdout",
     "output_type": "stream",
     "text": [
      "Using Seed: 2023\n"
     ]
    }
   ],
   "source": [
    "import numpy as np\n",
    "parsed_seed = int(seed)\n",
    "np.random.seed(parsed_seed)\n",
    "print(f\"Using Seed: {parsed_seed}\")"
   ]
  },
  {
   "cell_type": "markdown",
   "id": "e0ebdc57",
   "metadata": {
    "papermill": {
     "duration": 0.015647,
     "end_time": "2025-08-06T17:48:11.839858",
     "exception": false,
     "start_time": "2025-08-06T17:48:11.824211",
     "status": "completed"
    },
    "tags": []
   },
   "source": [
    "# Loading Data"
   ]
  },
  {
   "cell_type": "code",
   "execution_count": 9,
   "id": "f0496b8a",
   "metadata": {
    "execution": {
     "iopub.execute_input": "2025-08-06T17:48:11.873118Z",
     "iopub.status.busy": "2025-08-06T17:48:11.872001Z",
     "iopub.status.idle": "2025-08-06T17:48:24.539097Z",
     "shell.execute_reply": "2025-08-06T17:48:24.537967Z"
    },
    "papermill": {
     "duration": 12.685674,
     "end_time": "2025-08-06T17:48:24.540829",
     "exception": false,
     "start_time": "2025-08-06T17:48:11.855155",
     "status": "completed"
    },
    "tags": []
   },
   "outputs": [
    {
     "name": "stdout",
     "output_type": "stream",
     "text": [
      "Loading SIAB data from cache: data/siab_cached.csv.gz\n"
     ]
    },
    {
     "name": "stdout",
     "output_type": "stream",
     "text": [
      "(643690, 164)\n"
     ]
    }
   ],
   "source": [
    "from pathlib import Path\n",
    "import pandas as pd\n",
    "\n",
    "# File paths\n",
    "raw_file = Path(\"data/raw/siab.csv\")\n",
    "cache_file = Path(\"data/siab_cached.csv.gz\")\n",
    "\n",
    "# Ensure cache directory exists\n",
    "cache_file.parent.mkdir(parents=True, exist_ok=True)\n",
    "\n",
    "# Load with simple caching\n",
    "if cache_file.exists():\n",
    "    print(f\"Loading SIAB data from cache: {cache_file}\")\n",
    "    siab = pd.read_csv(cache_file, compression='gzip')\n",
    "else:\n",
    "    print(f\"Cache not found. Reading raw SIAB data: {raw_file}\")\n",
    "    siab = pd.read_csv(raw_file)\n",
    "    siab.to_csv(cache_file, index=False, compression='gzip')\n",
    "    print(f\"Cached SIAB data to: {cache_file}\")\n",
    "\n",
    "print(siab.shape)"
   ]
  },
  {
   "cell_type": "code",
   "execution_count": 10,
   "id": "db0ca512-5f53-4dba-abdb-a2888bca41ba",
   "metadata": {
    "execution": {
     "iopub.execute_input": "2025-08-06T17:48:24.579223Z",
     "iopub.status.busy": "2025-08-06T17:48:24.578704Z",
     "iopub.status.idle": "2025-08-06T17:48:24.723228Z",
     "shell.execute_reply": "2025-08-06T17:48:24.722246Z"
    },
    "papermill": {
     "duration": 0.164693,
     "end_time": "2025-08-06T17:48:24.725009",
     "exception": false,
     "start_time": "2025-08-06T17:48:24.560316",
     "status": "completed"
    },
    "tags": []
   },
   "outputs": [
    {
     "data": {
      "text/html": [
       "<div>\n",
       "<style scoped>\n",
       "    .dataframe tbody tr th:only-of-type {\n",
       "        vertical-align: middle;\n",
       "    }\n",
       "\n",
       "    .dataframe tbody tr th {\n",
       "        vertical-align: top;\n",
       "    }\n",
       "\n",
       "    .dataframe thead th {\n",
       "        text-align: right;\n",
       "    }\n",
       "</style>\n",
       "<table border=\"1\" class=\"dataframe\">\n",
       "  <thead>\n",
       "    <tr style=\"text-align: right;\">\n",
       "      <th></th>\n",
       "      <th>persnr</th>\n",
       "      <th>year</th>\n",
       "      <th>nrEntry</th>\n",
       "      <th>ltue</th>\n",
       "      <th>employed_before</th>\n",
       "      <th>receipt_leh_before</th>\n",
       "      <th>receipt_lhg_before</th>\n",
       "      <th>se_before</th>\n",
       "      <th>ASU_notue_seeking_before</th>\n",
       "      <th>ASU_other_before</th>\n",
       "      <th>...</th>\n",
       "      <th>minijob_tot_dur_byage</th>\n",
       "      <th>ft_tot_dur_byage</th>\n",
       "      <th>befrist_tot_dur_byage</th>\n",
       "      <th>leih_tot_dur_byage</th>\n",
       "      <th>LHG_tot_dur_byage</th>\n",
       "      <th>LEH_tot_dur_byage</th>\n",
       "      <th>almp_tot_dur_byage</th>\n",
       "      <th>almp_aw_tot_dur_byage</th>\n",
       "      <th>se_tot_dur_byage</th>\n",
       "      <th>seeking1_tot_dur_byage</th>\n",
       "    </tr>\n",
       "  </thead>\n",
       "  <tbody>\n",
       "    <tr>\n",
       "      <th>0</th>\n",
       "      <td>7</td>\n",
       "      <td>2015</td>\n",
       "      <td>1</td>\n",
       "      <td>0</td>\n",
       "      <td>1</td>\n",
       "      <td>0</td>\n",
       "      <td>0</td>\n",
       "      <td>0</td>\n",
       "      <td>1</td>\n",
       "      <td>0</td>\n",
       "      <td>...</td>\n",
       "      <td>0.000000</td>\n",
       "      <td>0.000000</td>\n",
       "      <td>15.043478</td>\n",
       "      <td>0.000000</td>\n",
       "      <td>0.000000</td>\n",
       "      <td>0.000000</td>\n",
       "      <td>0.000000</td>\n",
       "      <td>0.000000</td>\n",
       "      <td>0.000000</td>\n",
       "      <td>0.000000</td>\n",
       "    </tr>\n",
       "    <tr>\n",
       "      <th>1</th>\n",
       "      <td>18</td>\n",
       "      <td>2010</td>\n",
       "      <td>1</td>\n",
       "      <td>1</td>\n",
       "      <td>0</td>\n",
       "      <td>0</td>\n",
       "      <td>0</td>\n",
       "      <td>0</td>\n",
       "      <td>0</td>\n",
       "      <td>0</td>\n",
       "      <td>...</td>\n",
       "      <td>0.000000</td>\n",
       "      <td>0.000000</td>\n",
       "      <td>0.000000</td>\n",
       "      <td>0.000000</td>\n",
       "      <td>0.000000</td>\n",
       "      <td>0.000000</td>\n",
       "      <td>0.000000</td>\n",
       "      <td>0.000000</td>\n",
       "      <td>0.000000</td>\n",
       "      <td>0.000000</td>\n",
       "    </tr>\n",
       "    <tr>\n",
       "      <th>2</th>\n",
       "      <td>18</td>\n",
       "      <td>2011</td>\n",
       "      <td>2</td>\n",
       "      <td>0</td>\n",
       "      <td>1</td>\n",
       "      <td>0</td>\n",
       "      <td>1</td>\n",
       "      <td>0</td>\n",
       "      <td>1</td>\n",
       "      <td>0</td>\n",
       "      <td>...</td>\n",
       "      <td>2.714286</td>\n",
       "      <td>2.714286</td>\n",
       "      <td>0.000000</td>\n",
       "      <td>0.000000</td>\n",
       "      <td>10.775510</td>\n",
       "      <td>0.000000</td>\n",
       "      <td>8.367347</td>\n",
       "      <td>0.000000</td>\n",
       "      <td>0.000000</td>\n",
       "      <td>9.836735</td>\n",
       "    </tr>\n",
       "    <tr>\n",
       "      <th>3</th>\n",
       "      <td>18</td>\n",
       "      <td>2012</td>\n",
       "      <td>3</td>\n",
       "      <td>0</td>\n",
       "      <td>1</td>\n",
       "      <td>0</td>\n",
       "      <td>1</td>\n",
       "      <td>0</td>\n",
       "      <td>1</td>\n",
       "      <td>0</td>\n",
       "      <td>...</td>\n",
       "      <td>4.200000</td>\n",
       "      <td>4.200000</td>\n",
       "      <td>0.000000</td>\n",
       "      <td>0.000000</td>\n",
       "      <td>12.100000</td>\n",
       "      <td>0.000000</td>\n",
       "      <td>9.400000</td>\n",
       "      <td>0.000000</td>\n",
       "      <td>0.000000</td>\n",
       "      <td>9.960000</td>\n",
       "    </tr>\n",
       "    <tr>\n",
       "      <th>4</th>\n",
       "      <td>18</td>\n",
       "      <td>2012</td>\n",
       "      <td>4</td>\n",
       "      <td>0</td>\n",
       "      <td>1</td>\n",
       "      <td>0</td>\n",
       "      <td>1</td>\n",
       "      <td>0</td>\n",
       "      <td>1</td>\n",
       "      <td>0</td>\n",
       "      <td>...</td>\n",
       "      <td>5.460000</td>\n",
       "      <td>5.460000</td>\n",
       "      <td>0.000000</td>\n",
       "      <td>0.000000</td>\n",
       "      <td>13.360000</td>\n",
       "      <td>0.000000</td>\n",
       "      <td>10.320000</td>\n",
       "      <td>0.000000</td>\n",
       "      <td>0.000000</td>\n",
       "      <td>10.280000</td>\n",
       "    </tr>\n",
       "    <tr>\n",
       "      <th>...</th>\n",
       "      <td>...</td>\n",
       "      <td>...</td>\n",
       "      <td>...</td>\n",
       "      <td>...</td>\n",
       "      <td>...</td>\n",
       "      <td>...</td>\n",
       "      <td>...</td>\n",
       "      <td>...</td>\n",
       "      <td>...</td>\n",
       "      <td>...</td>\n",
       "      <td>...</td>\n",
       "      <td>...</td>\n",
       "      <td>...</td>\n",
       "      <td>...</td>\n",
       "      <td>...</td>\n",
       "      <td>...</td>\n",
       "      <td>...</td>\n",
       "      <td>...</td>\n",
       "      <td>...</td>\n",
       "      <td>...</td>\n",
       "      <td>...</td>\n",
       "    </tr>\n",
       "    <tr>\n",
       "      <th>643685</th>\n",
       "      <td>1827860</td>\n",
       "      <td>2013</td>\n",
       "      <td>1</td>\n",
       "      <td>0</td>\n",
       "      <td>0</td>\n",
       "      <td>0</td>\n",
       "      <td>1</td>\n",
       "      <td>0</td>\n",
       "      <td>0</td>\n",
       "      <td>1</td>\n",
       "      <td>...</td>\n",
       "      <td>0.000000</td>\n",
       "      <td>0.000000</td>\n",
       "      <td>0.000000</td>\n",
       "      <td>0.000000</td>\n",
       "      <td>0.612903</td>\n",
       "      <td>0.000000</td>\n",
       "      <td>0.000000</td>\n",
       "      <td>0.000000</td>\n",
       "      <td>0.000000</td>\n",
       "      <td>0.000000</td>\n",
       "    </tr>\n",
       "    <tr>\n",
       "      <th>643686</th>\n",
       "      <td>1827860</td>\n",
       "      <td>2015</td>\n",
       "      <td>2</td>\n",
       "      <td>1</td>\n",
       "      <td>0</td>\n",
       "      <td>0</td>\n",
       "      <td>1</td>\n",
       "      <td>0</td>\n",
       "      <td>1</td>\n",
       "      <td>0</td>\n",
       "      <td>...</td>\n",
       "      <td>0.000000</td>\n",
       "      <td>0.000000</td>\n",
       "      <td>0.212121</td>\n",
       "      <td>0.212121</td>\n",
       "      <td>17.363636</td>\n",
       "      <td>0.000000</td>\n",
       "      <td>8.909091</td>\n",
       "      <td>0.000000</td>\n",
       "      <td>0.000000</td>\n",
       "      <td>7.121212</td>\n",
       "    </tr>\n",
       "    <tr>\n",
       "      <th>643687</th>\n",
       "      <td>1827860</td>\n",
       "      <td>2016</td>\n",
       "      <td>3</td>\n",
       "      <td>1</td>\n",
       "      <td>0</td>\n",
       "      <td>0</td>\n",
       "      <td>1</td>\n",
       "      <td>1</td>\n",
       "      <td>0</td>\n",
       "      <td>1</td>\n",
       "      <td>...</td>\n",
       "      <td>0.000000</td>\n",
       "      <td>0.000000</td>\n",
       "      <td>0.294118</td>\n",
       "      <td>0.205882</td>\n",
       "      <td>34.705882</td>\n",
       "      <td>0.000000</td>\n",
       "      <td>10.352941</td>\n",
       "      <td>1.705882</td>\n",
       "      <td>1.705882</td>\n",
       "      <td>23.911765</td>\n",
       "    </tr>\n",
       "    <tr>\n",
       "      <th>643688</th>\n",
       "      <td>1827869</td>\n",
       "      <td>2013</td>\n",
       "      <td>1</td>\n",
       "      <td>1</td>\n",
       "      <td>1</td>\n",
       "      <td>0</td>\n",
       "      <td>0</td>\n",
       "      <td>0</td>\n",
       "      <td>1</td>\n",
       "      <td>0</td>\n",
       "      <td>...</td>\n",
       "      <td>0.000000</td>\n",
       "      <td>0.000000</td>\n",
       "      <td>0.000000</td>\n",
       "      <td>0.000000</td>\n",
       "      <td>0.000000</td>\n",
       "      <td>0.525424</td>\n",
       "      <td>0.000000</td>\n",
       "      <td>0.000000</td>\n",
       "      <td>0.000000</td>\n",
       "      <td>0.000000</td>\n",
       "    </tr>\n",
       "    <tr>\n",
       "      <th>643689</th>\n",
       "      <td>1827869</td>\n",
       "      <td>2014</td>\n",
       "      <td>2</td>\n",
       "      <td>0</td>\n",
       "      <td>0</td>\n",
       "      <td>1</td>\n",
       "      <td>0</td>\n",
       "      <td>0</td>\n",
       "      <td>1</td>\n",
       "      <td>0</td>\n",
       "      <td>...</td>\n",
       "      <td>0.000000</td>\n",
       "      <td>0.666667</td>\n",
       "      <td>0.666667</td>\n",
       "      <td>0.000000</td>\n",
       "      <td>0.000000</td>\n",
       "      <td>8.950000</td>\n",
       "      <td>1.033333</td>\n",
       "      <td>0.083333</td>\n",
       "      <td>0.083333</td>\n",
       "      <td>8.133333</td>\n",
       "    </tr>\n",
       "  </tbody>\n",
       "</table>\n",
       "<p>643690 rows × 164 columns</p>\n",
       "</div>"
      ],
      "text/plain": [
       "         persnr  year  nrEntry  ltue  employed_before  receipt_leh_before  \\\n",
       "0             7  2015        1     0                1                   0   \n",
       "1            18  2010        1     1                0                   0   \n",
       "2            18  2011        2     0                1                   0   \n",
       "3            18  2012        3     0                1                   0   \n",
       "4            18  2012        4     0                1                   0   \n",
       "...         ...   ...      ...   ...              ...                 ...   \n",
       "643685  1827860  2013        1     0                0                   0   \n",
       "643686  1827860  2015        2     1                0                   0   \n",
       "643687  1827860  2016        3     1                0                   0   \n",
       "643688  1827869  2013        1     1                1                   0   \n",
       "643689  1827869  2014        2     0                0                   1   \n",
       "\n",
       "        receipt_lhg_before  se_before  ASU_notue_seeking_before  \\\n",
       "0                        0          0                         1   \n",
       "1                        0          0                         0   \n",
       "2                        1          0                         1   \n",
       "3                        1          0                         1   \n",
       "4                        1          0                         1   \n",
       "...                    ...        ...                       ...   \n",
       "643685                   1          0                         0   \n",
       "643686                   1          0                         1   \n",
       "643687                   1          1                         0   \n",
       "643688                   0          0                         1   \n",
       "643689                   0          0                         1   \n",
       "\n",
       "        ASU_other_before  ...  minijob_tot_dur_byage  ft_tot_dur_byage  \\\n",
       "0                      0  ...               0.000000          0.000000   \n",
       "1                      0  ...               0.000000          0.000000   \n",
       "2                      0  ...               2.714286          2.714286   \n",
       "3                      0  ...               4.200000          4.200000   \n",
       "4                      0  ...               5.460000          5.460000   \n",
       "...                  ...  ...                    ...               ...   \n",
       "643685                 1  ...               0.000000          0.000000   \n",
       "643686                 0  ...               0.000000          0.000000   \n",
       "643687                 1  ...               0.000000          0.000000   \n",
       "643688                 0  ...               0.000000          0.000000   \n",
       "643689                 0  ...               0.000000          0.666667   \n",
       "\n",
       "        befrist_tot_dur_byage  leih_tot_dur_byage  LHG_tot_dur_byage  \\\n",
       "0                   15.043478            0.000000           0.000000   \n",
       "1                    0.000000            0.000000           0.000000   \n",
       "2                    0.000000            0.000000          10.775510   \n",
       "3                    0.000000            0.000000          12.100000   \n",
       "4                    0.000000            0.000000          13.360000   \n",
       "...                       ...                 ...                ...   \n",
       "643685               0.000000            0.000000           0.612903   \n",
       "643686               0.212121            0.212121          17.363636   \n",
       "643687               0.294118            0.205882          34.705882   \n",
       "643688               0.000000            0.000000           0.000000   \n",
       "643689               0.666667            0.000000           0.000000   \n",
       "\n",
       "        LEH_tot_dur_byage  almp_tot_dur_byage  almp_aw_tot_dur_byage  \\\n",
       "0                0.000000            0.000000               0.000000   \n",
       "1                0.000000            0.000000               0.000000   \n",
       "2                0.000000            8.367347               0.000000   \n",
       "3                0.000000            9.400000               0.000000   \n",
       "4                0.000000           10.320000               0.000000   \n",
       "...                   ...                 ...                    ...   \n",
       "643685           0.000000            0.000000               0.000000   \n",
       "643686           0.000000            8.909091               0.000000   \n",
       "643687           0.000000           10.352941               1.705882   \n",
       "643688           0.525424            0.000000               0.000000   \n",
       "643689           8.950000            1.033333               0.083333   \n",
       "\n",
       "        se_tot_dur_byage  seeking1_tot_dur_byage  \n",
       "0               0.000000                0.000000  \n",
       "1               0.000000                0.000000  \n",
       "2               0.000000                9.836735  \n",
       "3               0.000000                9.960000  \n",
       "4               0.000000               10.280000  \n",
       "...                  ...                     ...  \n",
       "643685          0.000000                0.000000  \n",
       "643686          0.000000                7.121212  \n",
       "643687          1.705882               23.911765  \n",
       "643688          0.000000                0.000000  \n",
       "643689          0.083333                8.133333  \n",
       "\n",
       "[643690 rows x 164 columns]"
      ]
     },
     "execution_count": 10,
     "metadata": {},
     "output_type": "execute_result"
    }
   ],
   "source": [
    "siab"
   ]
  },
  {
   "cell_type": "markdown",
   "id": "997051c5-15bd-4b69-9786-c3001a3ce484",
   "metadata": {
    "papermill": {
     "duration": 0.018636,
     "end_time": "2025-08-06T17:48:24.762411",
     "exception": false,
     "start_time": "2025-08-06T17:48:24.743775",
     "status": "completed"
    },
    "tags": []
   },
   "source": [
    "# Splitting Data and Setting Training Data Size"
   ]
  },
  {
   "cell_type": "code",
   "execution_count": 11,
   "id": "aea9c6ef-6f46-42c8-85eb-5a62025c1508",
   "metadata": {
    "execution": {
     "iopub.execute_input": "2025-08-06T17:48:24.803029Z",
     "iopub.status.busy": "2025-08-06T17:48:24.802360Z",
     "iopub.status.idle": "2025-08-06T17:48:25.056390Z",
     "shell.execute_reply": "2025-08-06T17:48:25.055347Z"
    },
    "papermill": {
     "duration": 0.276554,
     "end_time": "2025-08-06T17:48:25.058498",
     "exception": false,
     "start_time": "2025-08-06T17:48:24.781944",
     "status": "completed"
    },
    "tags": []
   },
   "outputs": [],
   "source": [
    "from fairness_multiverse.universe import sample_by_year_size\n",
    "\n",
    "siab_train = sample_by_year_size(siab,\n",
    "                               training_year=universe[\"training_year\"],\n",
    "                               training_size=universe[\"training_size\"])"
   ]
  },
  {
   "cell_type": "code",
   "execution_count": 12,
   "id": "8d3afb32-789d-442c-8d5d-9f5aa8dd2eed",
   "metadata": {
    "execution": {
     "iopub.execute_input": "2025-08-06T17:48:25.097399Z",
     "iopub.status.busy": "2025-08-06T17:48:25.096735Z",
     "iopub.status.idle": "2025-08-06T17:48:25.104639Z",
     "shell.execute_reply": "2025-08-06T17:48:25.103771Z"
    },
    "papermill": {
     "duration": 0.028679,
     "end_time": "2025-08-06T17:48:25.106268",
     "exception": false,
     "start_time": "2025-08-06T17:48:25.077589",
     "status": "completed"
    },
    "tags": []
   },
   "outputs": [
    {
     "data": {
      "text/plain": [
       "(1000, 164)"
      ]
     },
     "execution_count": 12,
     "metadata": {},
     "output_type": "execute_result"
    }
   ],
   "source": [
    "siab_train.shape"
   ]
  },
  {
   "cell_type": "code",
   "execution_count": 13,
   "id": "d582db68-1a4c-47fb-84fc-08518dc1975a",
   "metadata": {
    "execution": {
     "iopub.execute_input": "2025-08-06T17:48:25.143165Z",
     "iopub.status.busy": "2025-08-06T17:48:25.142260Z",
     "iopub.status.idle": "2025-08-06T17:48:25.151594Z",
     "shell.execute_reply": "2025-08-06T17:48:25.150606Z"
    },
    "papermill": {
     "duration": 0.029384,
     "end_time": "2025-08-06T17:48:25.153330",
     "exception": false,
     "start_time": "2025-08-06T17:48:25.123946",
     "status": "completed"
    },
    "tags": []
   },
   "outputs": [
    {
     "data": {
      "text/plain": [
       "year\n",
       "2014    1000\n",
       "dtype: int64"
      ]
     },
     "metadata": {},
     "output_type": "display_data"
    }
   ],
   "source": [
    "display(siab_train.groupby(\"year\").size())"
   ]
  },
  {
   "cell_type": "code",
   "execution_count": 14,
   "id": "a561edb4-d032-42cb-8256-22eac1111c64",
   "metadata": {
    "execution": {
     "iopub.execute_input": "2025-08-06T17:48:25.206319Z",
     "iopub.status.busy": "2025-08-06T17:48:25.205820Z",
     "iopub.status.idle": "2025-08-06T17:48:25.468429Z",
     "shell.execute_reply": "2025-08-06T17:48:25.467298Z"
    },
    "papermill": {
     "duration": 0.284394,
     "end_time": "2025-08-06T17:48:25.470642",
     "exception": false,
     "start_time": "2025-08-06T17:48:25.186248",
     "status": "completed"
    },
    "tags": []
   },
   "outputs": [],
   "source": [
    "#siab_train = siab_s[siab_s.year < 2015]\n",
    "siab_calib = siab[siab.year == 2015]\n",
    "siab_test = siab[siab.year == 2016]"
   ]
  },
  {
   "cell_type": "code",
   "execution_count": 15,
   "id": "472de16f-c3db-4916-846b-1f0de9cf1746",
   "metadata": {
    "execution": {
     "iopub.execute_input": "2025-08-06T17:48:25.514444Z",
     "iopub.status.busy": "2025-08-06T17:48:25.513413Z",
     "iopub.status.idle": "2025-08-06T17:48:25.521276Z",
     "shell.execute_reply": "2025-08-06T17:48:25.520181Z"
    },
    "papermill": {
     "duration": 0.030566,
     "end_time": "2025-08-06T17:48:25.523321",
     "exception": false,
     "start_time": "2025-08-06T17:48:25.492755",
     "status": "completed"
    },
    "tags": []
   },
   "outputs": [],
   "source": [
    "X_train = siab_train.iloc[:,4:164]\n",
    "y_train = siab_train.iloc[:, [3]]"
   ]
  },
  {
   "cell_type": "code",
   "execution_count": 16,
   "id": "828c96af-f43a-4ed6-ba47-8ac73a47d56c",
   "metadata": {
    "execution": {
     "iopub.execute_input": "2025-08-06T17:48:25.564474Z",
     "iopub.status.busy": "2025-08-06T17:48:25.563963Z",
     "iopub.status.idle": "2025-08-06T17:48:25.615685Z",
     "shell.execute_reply": "2025-08-06T17:48:25.614585Z"
    },
    "papermill": {
     "duration": 0.074544,
     "end_time": "2025-08-06T17:48:25.617424",
     "exception": false,
     "start_time": "2025-08-06T17:48:25.542880",
     "status": "completed"
    },
    "tags": []
   },
   "outputs": [],
   "source": [
    "X_calib = siab_calib.iloc[:,4:164]\n",
    "y_calib = siab_calib.iloc[:, [3]]"
   ]
  },
  {
   "cell_type": "code",
   "execution_count": 17,
   "id": "c34be9c3-6bd6-476e-acd3-845840e303be",
   "metadata": {
    "execution": {
     "iopub.execute_input": "2025-08-06T17:48:25.657517Z",
     "iopub.status.busy": "2025-08-06T17:48:25.657063Z",
     "iopub.status.idle": "2025-08-06T17:48:25.713375Z",
     "shell.execute_reply": "2025-08-06T17:48:25.711311Z"
    },
    "papermill": {
     "duration": 0.078169,
     "end_time": "2025-08-06T17:48:25.715201",
     "exception": false,
     "start_time": "2025-08-06T17:48:25.637032",
     "status": "completed"
    },
    "tags": []
   },
   "outputs": [],
   "source": [
    "X_test = siab_test.iloc[:,4:164]\n",
    "y_true = siab_test.iloc[:, [3]]"
   ]
  },
  {
   "cell_type": "code",
   "execution_count": 18,
   "id": "e6c733c5",
   "metadata": {
    "execution": {
     "iopub.execute_input": "2025-08-06T17:48:25.756643Z",
     "iopub.status.busy": "2025-08-06T17:48:25.755990Z",
     "iopub.status.idle": "2025-08-06T17:48:25.854432Z",
     "shell.execute_reply": "2025-08-06T17:48:25.853460Z"
    },
    "papermill": {
     "duration": 0.120815,
     "end_time": "2025-08-06T17:48:25.856279",
     "exception": false,
     "start_time": "2025-08-06T17:48:25.735464",
     "status": "completed"
    },
    "tags": []
   },
   "outputs": [],
   "source": [
    "# Auxiliary data needed downstream in the pipeline\n",
    "\n",
    "org_train = X_train.copy()\n",
    "org_test = X_test.copy()\n",
    "org_calib = X_calib.copy()"
   ]
  },
  {
   "cell_type": "markdown",
   "id": "0a4a1b33",
   "metadata": {
    "papermill": {
     "duration": 0.016821,
     "end_time": "2025-08-06T17:48:25.890518",
     "exception": false,
     "start_time": "2025-08-06T17:48:25.873697",
     "status": "completed"
    },
    "tags": []
   },
   "source": [
    "# Preprocessing Data"
   ]
  },
  {
   "cell_type": "code",
   "execution_count": 19,
   "id": "ca879031",
   "metadata": {
    "execution": {
     "iopub.execute_input": "2025-08-06T17:48:25.926766Z",
     "iopub.status.busy": "2025-08-06T17:48:25.926375Z",
     "iopub.status.idle": "2025-08-06T17:48:25.932809Z",
     "shell.execute_reply": "2025-08-06T17:48:25.931861Z"
    },
    "papermill": {
     "duration": 0.026975,
     "end_time": "2025-08-06T17:48:25.934332",
     "exception": false,
     "start_time": "2025-08-06T17:48:25.907357",
     "status": "completed"
    },
    "tags": []
   },
   "outputs": [],
   "source": [
    "# EXCLUDE PROTECTED FEATURES\n",
    "# --------------------------\n",
    "\n",
    "excluded_features = universe[\"exclude_features\"].split(\"-\")\n",
    "excluded_features_dictionary = {\n",
    "    \"nationality\": [\"maxdeutsch1\", \"maxdeutsch.Missing.\"],\n",
    "    \"sex\": [\"frau1\"],\n",
    "    \"age\": [\"age\"],\n",
    "}"
   ]
  },
  {
   "cell_type": "code",
   "execution_count": 20,
   "id": "b745ac60",
   "metadata": {
    "execution": {
     "iopub.execute_input": "2025-08-06T17:48:25.970437Z",
     "iopub.status.busy": "2025-08-06T17:48:25.969470Z",
     "iopub.status.idle": "2025-08-06T17:48:25.975398Z",
     "shell.execute_reply": "2025-08-06T17:48:25.974479Z"
    },
    "papermill": {
     "duration": 0.025302,
     "end_time": "2025-08-06T17:48:25.977115",
     "exception": false,
     "start_time": "2025-08-06T17:48:25.951813",
     "status": "completed"
    },
    "tags": []
   },
   "outputs": [],
   "source": [
    "excluded_features_columns = [\n",
    "    excluded_features_dictionary[f] for f in excluded_features if len(f) > 0 and f != \"none\"\n",
    "]"
   ]
  },
  {
   "cell_type": "code",
   "execution_count": 21,
   "id": "f84f73a2",
   "metadata": {
    "execution": {
     "iopub.execute_input": "2025-08-06T17:48:26.013312Z",
     "iopub.status.busy": "2025-08-06T17:48:26.012046Z",
     "iopub.status.idle": "2025-08-06T17:48:26.018162Z",
     "shell.execute_reply": "2025-08-06T17:48:26.017406Z"
    },
    "papermill": {
     "duration": 0.026657,
     "end_time": "2025-08-06T17:48:26.020819",
     "exception": false,
     "start_time": "2025-08-06T17:48:25.994162",
     "status": "completed"
    },
    "tags": []
   },
   "outputs": [],
   "source": [
    "from fairness_multiverse.universe import flatten_once\n",
    "\n",
    "excluded_features_columns = flatten_once(excluded_features_columns)"
   ]
  },
  {
   "cell_type": "code",
   "execution_count": 22,
   "id": "884dea22",
   "metadata": {
    "execution": {
     "iopub.execute_input": "2025-08-06T17:48:26.057304Z",
     "iopub.status.busy": "2025-08-06T17:48:26.056801Z",
     "iopub.status.idle": "2025-08-06T17:48:26.065155Z",
     "shell.execute_reply": "2025-08-06T17:48:26.064124Z"
    },
    "papermill": {
     "duration": 0.028203,
     "end_time": "2025-08-06T17:48:26.066687",
     "exception": false,
     "start_time": "2025-08-06T17:48:26.038484",
     "status": "completed"
    },
    "tags": []
   },
   "outputs": [
    {
     "name": "stdout",
     "output_type": "stream",
     "text": [
      "Dropping features: ['frau1']\n"
     ]
    }
   ],
   "source": [
    "if len(excluded_features_columns) > 0:\n",
    "    print(f\"Dropping features: {excluded_features_columns}\")\n",
    "    X_train.drop(excluded_features_columns, axis=1, inplace=True)"
   ]
  },
  {
   "cell_type": "code",
   "execution_count": 23,
   "id": "95ab8b16",
   "metadata": {
    "execution": {
     "iopub.execute_input": "2025-08-06T17:48:26.103365Z",
     "iopub.status.busy": "2025-08-06T17:48:26.102517Z",
     "iopub.status.idle": "2025-08-06T17:48:26.160312Z",
     "shell.execute_reply": "2025-08-06T17:48:26.159300Z"
    },
    "papermill": {
     "duration": 0.078044,
     "end_time": "2025-08-06T17:48:26.162354",
     "exception": false,
     "start_time": "2025-08-06T17:48:26.084310",
     "status": "completed"
    },
    "tags": []
   },
   "outputs": [
    {
     "name": "stdout",
     "output_type": "stream",
     "text": [
      "Dropping features: ['frau1']\n"
     ]
    }
   ],
   "source": [
    "if len(excluded_features_columns) > 0:\n",
    "    print(f\"Dropping features: {excluded_features_columns}\")\n",
    "    X_test.drop(excluded_features_columns, axis=1, inplace=True)"
   ]
  },
  {
   "cell_type": "code",
   "execution_count": 24,
   "id": "1853aaf5-fb9f-46cb-a2b5-8ea4ae2237e4",
   "metadata": {
    "execution": {
     "iopub.execute_input": "2025-08-06T17:48:26.203845Z",
     "iopub.status.busy": "2025-08-06T17:48:26.203393Z",
     "iopub.status.idle": "2025-08-06T17:48:26.254742Z",
     "shell.execute_reply": "2025-08-06T17:48:26.253611Z"
    },
    "papermill": {
     "duration": 0.074509,
     "end_time": "2025-08-06T17:48:26.256641",
     "exception": false,
     "start_time": "2025-08-06T17:48:26.182132",
     "status": "completed"
    },
    "tags": []
   },
   "outputs": [
    {
     "name": "stdout",
     "output_type": "stream",
     "text": [
      "Dropping features: ['frau1']\n"
     ]
    }
   ],
   "source": [
    "if len(excluded_features_columns) > 0:\n",
    "    print(f\"Dropping features: {excluded_features_columns}\")\n",
    "    X_calib.drop(excluded_features_columns, axis=1, inplace=True)"
   ]
  },
  {
   "cell_type": "code",
   "execution_count": 25,
   "id": "76c4dc6d",
   "metadata": {
    "execution": {
     "iopub.execute_input": "2025-08-06T17:48:26.299413Z",
     "iopub.status.busy": "2025-08-06T17:48:26.298771Z",
     "iopub.status.idle": "2025-08-06T17:48:26.303923Z",
     "shell.execute_reply": "2025-08-06T17:48:26.303049Z"
    },
    "papermill": {
     "duration": 0.028024,
     "end_time": "2025-08-06T17:48:26.305490",
     "exception": false,
     "start_time": "2025-08-06T17:48:26.277466",
     "status": "completed"
    },
    "tags": []
   },
   "outputs": [],
   "source": [
    "# EXCLUDE CERTAIN SUBGROUPS\n",
    "# -------------------------\n",
    "\n",
    "mode = universe.get(\"exclude_subgroups\", \"keep-all\") # Defaults to \"keep-all\" if the key is missing."
   ]
  },
  {
   "cell_type": "code",
   "execution_count": 26,
   "id": "21994072",
   "metadata": {
    "execution": {
     "iopub.execute_input": "2025-08-06T17:48:26.349205Z",
     "iopub.status.busy": "2025-08-06T17:48:26.348580Z",
     "iopub.status.idle": "2025-08-06T17:48:26.355920Z",
     "shell.execute_reply": "2025-08-06T17:48:26.354845Z"
    },
    "papermill": {
     "duration": 0.031337,
     "end_time": "2025-08-06T17:48:26.357658",
     "exception": false,
     "start_time": "2025-08-06T17:48:26.326321",
     "status": "completed"
    },
    "tags": []
   },
   "outputs": [],
   "source": [
    "if mode == \"keep-all\":\n",
    "    keep_mask = pd.Series(True, index=org_train.index)\n",
    "\n",
    "elif mode == \"drop-non-german\":\n",
    "    keep_mask = (org_train[\"maxdeutsch1\"] == 1) & (org_train[\"maxdeutsch.Missing.\"] == 0)\n",
    "\n",
    "else:\n",
    "    raise ValueError(f\"Unsupported mode for exclude_subgroups: {mode}\")"
   ]
  },
  {
   "cell_type": "code",
   "execution_count": 27,
   "id": "71651440",
   "metadata": {
    "execution": {
     "iopub.execute_input": "2025-08-06T17:48:26.400814Z",
     "iopub.status.busy": "2025-08-06T17:48:26.400116Z",
     "iopub.status.idle": "2025-08-06T17:48:26.407153Z",
     "shell.execute_reply": "2025-08-06T17:48:26.406111Z"
    },
    "papermill": {
     "duration": 0.031159,
     "end_time": "2025-08-06T17:48:26.409045",
     "exception": false,
     "start_time": "2025-08-06T17:48:26.377886",
     "status": "completed"
    },
    "tags": []
   },
   "outputs": [],
   "source": [
    "n_drop = (~keep_mask).sum() # Calculates how many rows are set to be dropped\n",
    "if n_drop > 0:\n",
    "    pct = n_drop / len(keep_mask) * 100\n",
    "    print(f\"Dropping {n_drop} rows ({pct:.2f}%) where mode='{mode}'\")"
   ]
  },
  {
   "cell_type": "code",
   "execution_count": 28,
   "id": "5fb8eee5",
   "metadata": {
    "execution": {
     "iopub.execute_input": "2025-08-06T17:48:26.451867Z",
     "iopub.status.busy": "2025-08-06T17:48:26.451406Z",
     "iopub.status.idle": "2025-08-06T17:48:26.457711Z",
     "shell.execute_reply": "2025-08-06T17:48:26.456698Z"
    },
    "papermill": {
     "duration": 0.029547,
     "end_time": "2025-08-06T17:48:26.459458",
     "exception": false,
     "start_time": "2025-08-06T17:48:26.429911",
     "status": "completed"
    },
    "tags": []
   },
   "outputs": [],
   "source": [
    "X_train = X_train[keep_mask]"
   ]
  },
  {
   "cell_type": "code",
   "execution_count": 29,
   "id": "b202bb3a",
   "metadata": {
    "execution": {
     "iopub.execute_input": "2025-08-06T17:48:26.502655Z",
     "iopub.status.busy": "2025-08-06T17:48:26.502121Z",
     "iopub.status.idle": "2025-08-06T17:48:26.508735Z",
     "shell.execute_reply": "2025-08-06T17:48:26.507618Z"
    },
    "papermill": {
     "duration": 0.029715,
     "end_time": "2025-08-06T17:48:26.510183",
     "exception": false,
     "start_time": "2025-08-06T17:48:26.480468",
     "status": "completed"
    },
    "tags": []
   },
   "outputs": [],
   "source": [
    "y_train = y_train[keep_mask]"
   ]
  },
  {
   "cell_type": "markdown",
   "id": "493e2ac3",
   "metadata": {
    "papermill": {
     "duration": 0.020396,
     "end_time": "2025-08-06T17:48:26.550951",
     "exception": false,
     "start_time": "2025-08-06T17:48:26.530555",
     "status": "completed"
    },
    "tags": []
   },
   "source": [
    "# Model Training"
   ]
  },
  {
   "cell_type": "code",
   "execution_count": 30,
   "id": "679e1268",
   "metadata": {
    "execution": {
     "iopub.execute_input": "2025-08-06T17:48:26.594152Z",
     "iopub.status.busy": "2025-08-06T17:48:26.593696Z",
     "iopub.status.idle": "2025-08-06T17:48:26.695140Z",
     "shell.execute_reply": "2025-08-06T17:48:26.694172Z"
    },
    "papermill": {
     "duration": 0.125088,
     "end_time": "2025-08-06T17:48:26.697252",
     "exception": false,
     "start_time": "2025-08-06T17:48:26.572164",
     "status": "completed"
    },
    "tags": []
   },
   "outputs": [],
   "source": [
    "from sklearn.linear_model import LogisticRegression\n",
    "from sklearn.ensemble import GradientBoostingClassifier, RandomForestClassifier\n",
    "\n",
    "if (universe[\"model\"] == \"logreg\"):\n",
    "    model = LogisticRegression() #penalty=\"none\", solver=\"newton-cg\", max_iter=1)\n",
    "elif (universe[\"model\"] == \"penalized_logreg\"):\n",
    "    model = LogisticRegression(penalty=\"l2\", C=0.1) #, solver=\"newton-cg\", max_iter=1)\n",
    "elif (universe[\"model\"] == \"rf\"):\n",
    "    model = RandomForestClassifier() # n_estimators=100, n_jobs=-1\n",
    "elif (universe[\"model\"] == \"gbm\"):\n",
    "    model = GradientBoostingClassifier()\n",
    "elif (universe[\"model\"] == \"elasticnet\"):\n",
    "    model = LogisticRegression(penalty = 'elasticnet', solver = 'saga', l1_ratio = 0.5) # max_iter=5000\n",
    "else:\n",
    "    raise \"Unsupported universe.model\""
   ]
  },
  {
   "cell_type": "code",
   "execution_count": 31,
   "id": "0cc8f744",
   "metadata": {
    "execution": {
     "iopub.execute_input": "2025-08-06T17:48:26.740676Z",
     "iopub.status.busy": "2025-08-06T17:48:26.740010Z",
     "iopub.status.idle": "2025-08-06T17:48:26.746200Z",
     "shell.execute_reply": "2025-08-06T17:48:26.745214Z"
    },
    "papermill": {
     "duration": 0.029114,
     "end_time": "2025-08-06T17:48:26.747971",
     "exception": false,
     "start_time": "2025-08-06T17:48:26.718857",
     "status": "completed"
    },
    "tags": []
   },
   "outputs": [],
   "source": [
    "from sklearn.pipeline import Pipeline\n",
    "from sklearn.preprocessing import StandardScaler\n",
    "\n",
    "model = Pipeline([\n",
    "    #(\"continuous_processor\", continuous_processor),\n",
    "    #(\"categorical_preprocessor\", categorical_preprocessor),\n",
    "    (\"scale\", StandardScaler() if universe[\"scale\"] == \"scale\" else None), \n",
    "    (\"model\", model),\n",
    "])"
   ]
  },
  {
   "cell_type": "code",
   "execution_count": 32,
   "id": "9442c04d",
   "metadata": {
    "execution": {
     "iopub.execute_input": "2025-08-06T17:48:26.792301Z",
     "iopub.status.busy": "2025-08-06T17:48:26.791613Z",
     "iopub.status.idle": "2025-08-06T17:48:27.156265Z",
     "shell.execute_reply": "2025-08-06T17:48:27.155192Z"
    },
    "papermill": {
     "duration": 0.389763,
     "end_time": "2025-08-06T17:48:27.159255",
     "exception": false,
     "start_time": "2025-08-06T17:48:26.769492",
     "status": "completed"
    },
    "tags": []
   },
   "outputs": [
    {
     "data": {
      "text/html": [
       "<style>#sk-container-id-1 {color: black;background-color: white;}#sk-container-id-1 pre{padding: 0;}#sk-container-id-1 div.sk-toggleable {background-color: white;}#sk-container-id-1 label.sk-toggleable__label {cursor: pointer;display: block;width: 100%;margin-bottom: 0;padding: 0.3em;box-sizing: border-box;text-align: center;}#sk-container-id-1 label.sk-toggleable__label-arrow:before {content: \"▸\";float: left;margin-right: 0.25em;color: #696969;}#sk-container-id-1 label.sk-toggleable__label-arrow:hover:before {color: black;}#sk-container-id-1 div.sk-estimator:hover label.sk-toggleable__label-arrow:before {color: black;}#sk-container-id-1 div.sk-toggleable__content {max-height: 0;max-width: 0;overflow: hidden;text-align: left;background-color: #f0f8ff;}#sk-container-id-1 div.sk-toggleable__content pre {margin: 0.2em;color: black;border-radius: 0.25em;background-color: #f0f8ff;}#sk-container-id-1 input.sk-toggleable__control:checked~div.sk-toggleable__content {max-height: 200px;max-width: 100%;overflow: auto;}#sk-container-id-1 input.sk-toggleable__control:checked~label.sk-toggleable__label-arrow:before {content: \"▾\";}#sk-container-id-1 div.sk-estimator input.sk-toggleable__control:checked~label.sk-toggleable__label {background-color: #d4ebff;}#sk-container-id-1 div.sk-label input.sk-toggleable__control:checked~label.sk-toggleable__label {background-color: #d4ebff;}#sk-container-id-1 input.sk-hidden--visually {border: 0;clip: rect(1px 1px 1px 1px);clip: rect(1px, 1px, 1px, 1px);height: 1px;margin: -1px;overflow: hidden;padding: 0;position: absolute;width: 1px;}#sk-container-id-1 div.sk-estimator {font-family: monospace;background-color: #f0f8ff;border: 1px dotted black;border-radius: 0.25em;box-sizing: border-box;margin-bottom: 0.5em;}#sk-container-id-1 div.sk-estimator:hover {background-color: #d4ebff;}#sk-container-id-1 div.sk-parallel-item::after {content: \"\";width: 100%;border-bottom: 1px solid gray;flex-grow: 1;}#sk-container-id-1 div.sk-label:hover label.sk-toggleable__label {background-color: #d4ebff;}#sk-container-id-1 div.sk-serial::before {content: \"\";position: absolute;border-left: 1px solid gray;box-sizing: border-box;top: 0;bottom: 0;left: 50%;z-index: 0;}#sk-container-id-1 div.sk-serial {display: flex;flex-direction: column;align-items: center;background-color: white;padding-right: 0.2em;padding-left: 0.2em;position: relative;}#sk-container-id-1 div.sk-item {position: relative;z-index: 1;}#sk-container-id-1 div.sk-parallel {display: flex;align-items: stretch;justify-content: center;background-color: white;position: relative;}#sk-container-id-1 div.sk-item::before, #sk-container-id-1 div.sk-parallel-item::before {content: \"\";position: absolute;border-left: 1px solid gray;box-sizing: border-box;top: 0;bottom: 0;left: 50%;z-index: -1;}#sk-container-id-1 div.sk-parallel-item {display: flex;flex-direction: column;z-index: 1;position: relative;background-color: white;}#sk-container-id-1 div.sk-parallel-item:first-child::after {align-self: flex-end;width: 50%;}#sk-container-id-1 div.sk-parallel-item:last-child::after {align-self: flex-start;width: 50%;}#sk-container-id-1 div.sk-parallel-item:only-child::after {width: 0;}#sk-container-id-1 div.sk-dashed-wrapped {border: 1px dashed gray;margin: 0 0.4em 0.5em 0.4em;box-sizing: border-box;padding-bottom: 0.4em;background-color: white;}#sk-container-id-1 div.sk-label label {font-family: monospace;font-weight: bold;display: inline-block;line-height: 1.2em;}#sk-container-id-1 div.sk-label-container {text-align: center;}#sk-container-id-1 div.sk-container {/* jupyter's `normalize.less` sets `[hidden] { display: none; }` but bootstrap.min.css set `[hidden] { display: none !important; }` so we also need the `!important` here to be able to override the default hidden behavior on the sphinx rendered scikit-learn.org. See: https://github.com/scikit-learn/scikit-learn/issues/21755 */display: inline-block !important;position: relative;}#sk-container-id-1 div.sk-text-repr-fallback {display: none;}</style><div id=\"sk-container-id-1\" class=\"sk-top-container\"><div class=\"sk-text-repr-fallback\"><pre>Pipeline(steps=[(&#x27;scale&#x27;, StandardScaler()),\n",
       "                (&#x27;model&#x27;, RandomForestClassifier())])</pre><b>In a Jupyter environment, please rerun this cell to show the HTML representation or trust the notebook. <br />On GitHub, the HTML representation is unable to render, please try loading this page with nbviewer.org.</b></div><div class=\"sk-container\" hidden><div class=\"sk-item sk-dashed-wrapped\"><div class=\"sk-label-container\"><div class=\"sk-label sk-toggleable\"><input class=\"sk-toggleable__control sk-hidden--visually\" id=\"sk-estimator-id-1\" type=\"checkbox\" ><label for=\"sk-estimator-id-1\" class=\"sk-toggleable__label sk-toggleable__label-arrow\">Pipeline</label><div class=\"sk-toggleable__content\"><pre>Pipeline(steps=[(&#x27;scale&#x27;, StandardScaler()),\n",
       "                (&#x27;model&#x27;, RandomForestClassifier())])</pre></div></div></div><div class=\"sk-serial\"><div class=\"sk-item\"><div class=\"sk-estimator sk-toggleable\"><input class=\"sk-toggleable__control sk-hidden--visually\" id=\"sk-estimator-id-2\" type=\"checkbox\" ><label for=\"sk-estimator-id-2\" class=\"sk-toggleable__label sk-toggleable__label-arrow\">StandardScaler</label><div class=\"sk-toggleable__content\"><pre>StandardScaler()</pre></div></div></div><div class=\"sk-item\"><div class=\"sk-estimator sk-toggleable\"><input class=\"sk-toggleable__control sk-hidden--visually\" id=\"sk-estimator-id-3\" type=\"checkbox\" ><label for=\"sk-estimator-id-3\" class=\"sk-toggleable__label sk-toggleable__label-arrow\">RandomForestClassifier</label><div class=\"sk-toggleable__content\"><pre>RandomForestClassifier()</pre></div></div></div></div></div></div></div>"
      ],
      "text/plain": [
       "Pipeline(steps=[('scale', StandardScaler()),\n",
       "                ('model', RandomForestClassifier())])"
      ]
     },
     "execution_count": 32,
     "metadata": {},
     "output_type": "execute_result"
    }
   ],
   "source": [
    "model.fit(X_train, y_train.values.ravel())"
   ]
  },
  {
   "cell_type": "code",
   "execution_count": 33,
   "id": "a7cf2e16",
   "metadata": {
    "execution": {
     "iopub.execute_input": "2025-08-06T17:48:27.214123Z",
     "iopub.status.busy": "2025-08-06T17:48:27.213428Z",
     "iopub.status.idle": "2025-08-06T17:48:28.920907Z",
     "shell.execute_reply": "2025-08-06T17:48:28.920043Z"
    },
    "papermill": {
     "duration": 1.736498,
     "end_time": "2025-08-06T17:48:28.922171",
     "exception": false,
     "start_time": "2025-08-06T17:48:27.185673",
     "status": "completed"
    },
    "tags": []
   },
   "outputs": [
    {
     "data": {
      "text/plain": [
       "0.8613978374763126"
      ]
     },
     "execution_count": 33,
     "metadata": {},
     "output_type": "execute_result"
    }
   ],
   "source": [
    "from fairness_multiverse.universe import predict_w_threshold\n",
    "\n",
    "probs_test = model.predict_proba(X_test)\n",
    "\n",
    "'''\n",
    "Below code returns a boolean array (or binary 0/1 array depending on how it’s used) where each element \n",
    "is True if the probability of class 1 is greater than or equal to the threshold, and False otherwise.\n",
    "'''\n",
    "y_pred_default = predict_w_threshold(probs_test, 0.5)\n",
    "\n",
    "from sklearn.metrics import accuracy_score\n",
    "\n",
    "# Naive prediction\n",
    "accuracy_score(y_true = y_true, y_pred = y_pred_default)"
   ]
  },
  {
   "cell_type": "code",
   "execution_count": 34,
   "id": "081964c3",
   "metadata": {
    "execution": {
     "iopub.execute_input": "2025-08-06T17:48:28.957478Z",
     "iopub.status.busy": "2025-08-06T17:48:28.956964Z",
     "iopub.status.idle": "2025-08-06T17:48:30.810249Z",
     "shell.execute_reply": "2025-08-06T17:48:30.809247Z"
    },
    "papermill": {
     "duration": 1.870258,
     "end_time": "2025-08-06T17:48:30.811997",
     "exception": false,
     "start_time": "2025-08-06T17:48:28.941739",
     "status": "completed"
    },
    "tags": []
   },
   "outputs": [
    {
     "data": {
      "text/plain": [
       "array([0, 0, 0, ..., 0, 0, 0])"
      ]
     },
     "execution_count": 34,
     "metadata": {},
     "output_type": "execute_result"
    }
   ],
   "source": [
    "model.predict(X_test)"
   ]
  },
  {
   "cell_type": "markdown",
   "id": "56c9705b",
   "metadata": {
    "papermill": {
     "duration": 0.021946,
     "end_time": "2025-08-06T17:48:30.856513",
     "exception": false,
     "start_time": "2025-08-06T17:48:30.834567",
     "status": "completed"
    },
    "tags": []
   },
   "source": [
    "# Conformal Prediction"
   ]
  },
  {
   "cell_type": "code",
   "execution_count": 35,
   "id": "160ec6ff",
   "metadata": {
    "execution": {
     "iopub.execute_input": "2025-08-06T17:48:30.901912Z",
     "iopub.status.busy": "2025-08-06T17:48:30.901493Z",
     "iopub.status.idle": "2025-08-06T17:48:30.906975Z",
     "shell.execute_reply": "2025-08-06T17:48:30.905843Z"
    },
    "papermill": {
     "duration": 0.03038,
     "end_time": "2025-08-06T17:48:30.908748",
     "exception": false,
     "start_time": "2025-08-06T17:48:30.878368",
     "status": "completed"
    },
    "tags": []
   },
   "outputs": [],
   "source": [
    "# Miscoverage level for conformal prediction (10% allowed error rate => 90% target coverage)\n",
    "alpha = 0.1"
   ]
  },
  {
   "cell_type": "code",
   "execution_count": 36,
   "id": "eadf4555-3dd3-440e-8e35-f82a4ad9f855",
   "metadata": {
    "execution": {
     "iopub.execute_input": "2025-08-06T17:48:30.953190Z",
     "iopub.status.busy": "2025-08-06T17:48:30.952665Z",
     "iopub.status.idle": "2025-08-06T17:48:32.228908Z",
     "shell.execute_reply": "2025-08-06T17:48:32.227989Z"
    },
    "papermill": {
     "duration": 1.301702,
     "end_time": "2025-08-06T17:48:32.230893",
     "exception": false,
     "start_time": "2025-08-06T17:48:30.929191",
     "status": "completed"
    },
    "tags": []
   },
   "outputs": [],
   "source": [
    "probs_calib = model.predict_proba(X_calib)"
   ]
  },
  {
   "cell_type": "code",
   "execution_count": 37,
   "id": "2ed93547-6d5d-4983-9b36-1ecb300da49a",
   "metadata": {
    "execution": {
     "iopub.execute_input": "2025-08-06T17:48:32.279086Z",
     "iopub.status.busy": "2025-08-06T17:48:32.278238Z",
     "iopub.status.idle": "2025-08-06T17:48:32.284073Z",
     "shell.execute_reply": "2025-08-06T17:48:32.283243Z"
    },
    "papermill": {
     "duration": 0.030482,
     "end_time": "2025-08-06T17:48:32.285649",
     "exception": false,
     "start_time": "2025-08-06T17:48:32.255167",
     "status": "completed"
    },
    "tags": []
   },
   "outputs": [],
   "source": [
    "y_calib = y_calib.values.ravel().astype(int)"
   ]
  },
  {
   "cell_type": "code",
   "execution_count": 38,
   "id": "65d1320d-f588-4b38-9072-62af1ae97f7d",
   "metadata": {
    "execution": {
     "iopub.execute_input": "2025-08-06T17:48:32.330339Z",
     "iopub.status.busy": "2025-08-06T17:48:32.329346Z",
     "iopub.status.idle": "2025-08-06T17:48:32.337851Z",
     "shell.execute_reply": "2025-08-06T17:48:32.336835Z"
    },
    "papermill": {
     "duration": 0.033016,
     "end_time": "2025-08-06T17:48:32.339744",
     "exception": false,
     "start_time": "2025-08-06T17:48:32.306728",
     "status": "completed"
    },
    "tags": []
   },
   "outputs": [],
   "source": [
    "from fairness_multiverse.conformal import compute_nc_scores\n",
    "\n",
    "# Compute nonconformity scores on calibration set (1 - probability of true class)\n",
    "nc_scores = compute_nc_scores(probs_calib, y_calib)"
   ]
  },
  {
   "cell_type": "code",
   "execution_count": 39,
   "id": "df3b8ca3-53b7-43d5-9667-7c85da7aeda2",
   "metadata": {
    "execution": {
     "iopub.execute_input": "2025-08-06T17:48:32.390758Z",
     "iopub.status.busy": "2025-08-06T17:48:32.390160Z",
     "iopub.status.idle": "2025-08-06T17:48:32.397278Z",
     "shell.execute_reply": "2025-08-06T17:48:32.396183Z"
    },
    "papermill": {
     "duration": 0.034213,
     "end_time": "2025-08-06T17:48:32.398966",
     "exception": false,
     "start_time": "2025-08-06T17:48:32.364753",
     "status": "completed"
    },
    "tags": []
   },
   "outputs": [],
   "source": [
    "from fairness_multiverse.conformal import find_threshold\n",
    "\n",
    "# Find conformal threshold q_hat for the given alpha (split conformal method)\n",
    "q_hat = find_threshold(nc_scores, alpha)"
   ]
  },
  {
   "cell_type": "code",
   "execution_count": 40,
   "id": "4d29e6c1-0ef6-4aa4-b8fe-4fe79b0d033a",
   "metadata": {
    "execution": {
     "iopub.execute_input": "2025-08-06T17:48:32.448953Z",
     "iopub.status.busy": "2025-08-06T17:48:32.448452Z",
     "iopub.status.idle": "2025-08-06T17:48:32.456241Z",
     "shell.execute_reply": "2025-08-06T17:48:32.455118Z"
    },
    "papermill": {
     "duration": 0.034152,
     "end_time": "2025-08-06T17:48:32.457941",
     "exception": false,
     "start_time": "2025-08-06T17:48:32.423789",
     "status": "completed"
    },
    "tags": []
   },
   "outputs": [
    {
     "data": {
      "text/plain": [
       "0.6699999999999999"
      ]
     },
     "execution_count": 40,
     "metadata": {},
     "output_type": "execute_result"
    }
   ],
   "source": [
    "q_hat"
   ]
  },
  {
   "cell_type": "code",
   "execution_count": 41,
   "id": "92460794-cdac-4be2-ba28-f28c0515a6fb",
   "metadata": {
    "execution": {
     "iopub.execute_input": "2025-08-06T17:48:32.507988Z",
     "iopub.status.busy": "2025-08-06T17:48:32.507487Z",
     "iopub.status.idle": "2025-08-06T17:48:34.854998Z",
     "shell.execute_reply": "2025-08-06T17:48:34.854054Z"
    },
    "papermill": {
     "duration": 2.374535,
     "end_time": "2025-08-06T17:48:34.856760",
     "exception": false,
     "start_time": "2025-08-06T17:48:32.482225",
     "status": "completed"
    },
    "tags": []
   },
   "outputs": [],
   "source": [
    "from fairness_multiverse.conformal import predict_conformal_sets\n",
    "\n",
    "# Generate prediction sets for each test example\n",
    "pred_sets = predict_conformal_sets(model, X_test, q_hat)"
   ]
  },
  {
   "cell_type": "code",
   "execution_count": 42,
   "id": "d90c9a65-e6db-4f5d-80cd-e68fb7e46829",
   "metadata": {
    "execution": {
     "iopub.execute_input": "2025-08-06T17:48:34.901479Z",
     "iopub.status.busy": "2025-08-06T17:48:34.900876Z",
     "iopub.status.idle": "2025-08-06T17:48:34.906980Z",
     "shell.execute_reply": "2025-08-06T17:48:34.905815Z"
    },
    "papermill": {
     "duration": 0.029239,
     "end_time": "2025-08-06T17:48:34.908857",
     "exception": false,
     "start_time": "2025-08-06T17:48:34.879618",
     "status": "completed"
    },
    "tags": []
   },
   "outputs": [],
   "source": [
    "y_true = y_true.squeeze()"
   ]
  },
  {
   "cell_type": "code",
   "execution_count": 43,
   "id": "3a58a54a-1e68-46b9-927a-df01f18aebc8",
   "metadata": {
    "execution": {
     "iopub.execute_input": "2025-08-06T17:48:34.950765Z",
     "iopub.status.busy": "2025-08-06T17:48:34.950375Z",
     "iopub.status.idle": "2025-08-06T17:48:35.540618Z",
     "shell.execute_reply": "2025-08-06T17:48:35.539606Z"
    },
    "papermill": {
     "duration": 0.612885,
     "end_time": "2025-08-06T17:48:35.542518",
     "exception": false,
     "start_time": "2025-08-06T17:48:34.929633",
     "status": "completed"
    },
    "tags": []
   },
   "outputs": [],
   "source": [
    "from fairness_multiverse.conformal import evaluate_sets\n",
    "\n",
    "# Evaluate coverage and average set size on test data\n",
    "metrics = evaluate_sets(pred_sets, y_true)"
   ]
  },
  {
   "cell_type": "markdown",
   "id": "2b569c12-9aaa-4c88-98c9-bbcd0cf3ebb8",
   "metadata": {
    "papermill": {
     "duration": 0.020169,
     "end_time": "2025-08-06T17:48:35.583867",
     "exception": false,
     "start_time": "2025-08-06T17:48:35.563698",
     "status": "completed"
    },
    "tags": []
   },
   "source": [
    "# CP Metrics"
   ]
  },
  {
   "cell_type": "code",
   "execution_count": 44,
   "id": "5ce0a5cb-201f-45a0-ade5-94c7f0bd6095",
   "metadata": {
    "execution": {
     "iopub.execute_input": "2025-08-06T17:48:35.627210Z",
     "iopub.status.busy": "2025-08-06T17:48:35.626414Z",
     "iopub.status.idle": "2025-08-06T17:48:35.634531Z",
     "shell.execute_reply": "2025-08-06T17:48:35.633471Z"
    },
    "papermill": {
     "duration": 0.030978,
     "end_time": "2025-08-06T17:48:35.636335",
     "exception": false,
     "start_time": "2025-08-06T17:48:35.605357",
     "status": "completed"
    },
    "tags": []
   },
   "outputs": [
    {
     "data": {
      "text/plain": [
       "{'coverage': 0.9134879054731914, 'avg_size': 1.1459257607847508}"
      ]
     },
     "execution_count": 44,
     "metadata": {},
     "output_type": "execute_result"
    }
   ],
   "source": [
    "metrics"
   ]
  },
  {
   "cell_type": "code",
   "execution_count": 45,
   "id": "9b9a838d-31c9-430b-ae14-12baee460d17",
   "metadata": {
    "execution": {
     "iopub.execute_input": "2025-08-06T17:48:35.683512Z",
     "iopub.status.busy": "2025-08-06T17:48:35.682502Z",
     "iopub.status.idle": "2025-08-06T17:48:35.689314Z",
     "shell.execute_reply": "2025-08-06T17:48:35.688472Z"
    },
    "papermill": {
     "duration": 0.030318,
     "end_time": "2025-08-06T17:48:35.690871",
     "exception": false,
     "start_time": "2025-08-06T17:48:35.660553",
     "status": "completed"
    },
    "tags": []
   },
   "outputs": [],
   "source": [
    "example_universe = universe.copy()\n",
    "universe_training_year = example_universe.get(\"training_year\")\n",
    "universe_training_size = example_universe.get(\"training_size\")\n",
    "universe_scale = example_universe.get(\"scale\")\n",
    "universe_model = example_universe.get(\"model\")\n",
    "universe_exclude_features = example_universe.get(\"exclude_features\")\n",
    "universe_exclude_subgroups = example_universe.get(\"exclude_subgroups\")"
   ]
  },
  {
   "cell_type": "code",
   "execution_count": 46,
   "id": "f4b6a8ac-9dc0-4245-8a91-5b3b5999c4f9",
   "metadata": {
    "execution": {
     "iopub.execute_input": "2025-08-06T17:48:35.734211Z",
     "iopub.status.busy": "2025-08-06T17:48:35.733226Z",
     "iopub.status.idle": "2025-08-06T17:48:35.740181Z",
     "shell.execute_reply": "2025-08-06T17:48:35.739151Z"
    },
    "papermill": {
     "duration": 0.030187,
     "end_time": "2025-08-06T17:48:35.741876",
     "exception": false,
     "start_time": "2025-08-06T17:48:35.711689",
     "status": "completed"
    },
    "tags": []
   },
   "outputs": [],
   "source": [
    "cp_metrics_dict = {\n",
    "    \"universe_id\": [universe_id],\n",
    "    \"universe_training_year\": [universe_training_year],\n",
    "    \"universe_training_size\": [universe_training_size],\n",
    "    \"universe_scale\": [universe_scale],\n",
    "    \"universe_model\": [universe_model],\n",
    "    \"universe_exclude_features\": [universe_exclude_features],\n",
    "    \"universe_exclude_subgroups\": [universe_exclude_subgroups],\n",
    "    \"q_hat\": [q_hat],\n",
    "    \"coverage\": [metrics[\"coverage\"]],\n",
    "    \"avg_size\": [metrics[\"avg_size\"]],\n",
    "}"
   ]
  },
  {
   "cell_type": "code",
   "execution_count": 47,
   "id": "33007efc-14e9-4ec6-97ac-56a455c82265",
   "metadata": {
    "execution": {
     "iopub.execute_input": "2025-08-06T17:48:35.785046Z",
     "iopub.status.busy": "2025-08-06T17:48:35.784532Z",
     "iopub.status.idle": "2025-08-06T17:48:35.791077Z",
     "shell.execute_reply": "2025-08-06T17:48:35.790120Z"
    },
    "papermill": {
     "duration": 0.029354,
     "end_time": "2025-08-06T17:48:35.792636",
     "exception": false,
     "start_time": "2025-08-06T17:48:35.763282",
     "status": "completed"
    },
    "tags": []
   },
   "outputs": [],
   "source": [
    "cp_metrics_df = pd.DataFrame(cp_metrics_dict)"
   ]
  },
  {
   "cell_type": "code",
   "execution_count": 48,
   "id": "db12611b-57b2-4910-b9d0-355adfd6e7bf",
   "metadata": {
    "execution": {
     "iopub.execute_input": "2025-08-06T17:48:35.835722Z",
     "iopub.status.busy": "2025-08-06T17:48:35.834840Z",
     "iopub.status.idle": "2025-08-06T17:48:35.853683Z",
     "shell.execute_reply": "2025-08-06T17:48:35.852719Z"
    },
    "papermill": {
     "duration": 0.042205,
     "end_time": "2025-08-06T17:48:35.855510",
     "exception": false,
     "start_time": "2025-08-06T17:48:35.813305",
     "status": "completed"
    },
    "tags": []
   },
   "outputs": [
    {
     "data": {
      "text/html": [
       "<div>\n",
       "<style scoped>\n",
       "    .dataframe tbody tr th:only-of-type {\n",
       "        vertical-align: middle;\n",
       "    }\n",
       "\n",
       "    .dataframe tbody tr th {\n",
       "        vertical-align: top;\n",
       "    }\n",
       "\n",
       "    .dataframe thead th {\n",
       "        text-align: right;\n",
       "    }\n",
       "</style>\n",
       "<table border=\"1\" class=\"dataframe\">\n",
       "  <thead>\n",
       "    <tr style=\"text-align: right;\">\n",
       "      <th></th>\n",
       "      <th>universe_id</th>\n",
       "      <th>universe_training_year</th>\n",
       "      <th>universe_training_size</th>\n",
       "      <th>universe_scale</th>\n",
       "      <th>universe_model</th>\n",
       "      <th>universe_exclude_features</th>\n",
       "      <th>universe_exclude_subgroups</th>\n",
       "      <th>q_hat</th>\n",
       "      <th>coverage</th>\n",
       "      <th>avg_size</th>\n",
       "    </tr>\n",
       "  </thead>\n",
       "  <tbody>\n",
       "    <tr>\n",
       "      <th>0</th>\n",
       "      <td>bb5ffbc14595629263e25f89a43b1115</td>\n",
       "      <td>2014</td>\n",
       "      <td>1k</td>\n",
       "      <td>scale</td>\n",
       "      <td>rf</td>\n",
       "      <td>sex</td>\n",
       "      <td>keep-all</td>\n",
       "      <td>0.67</td>\n",
       "      <td>0.913488</td>\n",
       "      <td>1.145926</td>\n",
       "    </tr>\n",
       "  </tbody>\n",
       "</table>\n",
       "</div>"
      ],
      "text/plain": [
       "                        universe_id universe_training_year  \\\n",
       "0  bb5ffbc14595629263e25f89a43b1115                   2014   \n",
       "\n",
       "  universe_training_size universe_scale universe_model  \\\n",
       "0                     1k          scale             rf   \n",
       "\n",
       "  universe_exclude_features universe_exclude_subgroups  q_hat  coverage  \\\n",
       "0                       sex                   keep-all   0.67  0.913488   \n",
       "\n",
       "   avg_size  \n",
       "0  1.145926  "
      ]
     },
     "execution_count": 48,
     "metadata": {},
     "output_type": "execute_result"
    }
   ],
   "source": [
    "cp_metrics_df"
   ]
  },
  {
   "cell_type": "markdown",
   "id": "c825ecb4-0d3d-41d6-b7c6-eccb21272259",
   "metadata": {
    "papermill": {
     "duration": 0.022673,
     "end_time": "2025-08-06T17:48:35.901737",
     "exception": false,
     "start_time": "2025-08-06T17:48:35.879064",
     "status": "completed"
    },
    "tags": []
   },
   "source": [
    "Conditional coverage & looking at subgroups"
   ]
  },
  {
   "cell_type": "code",
   "execution_count": 49,
   "id": "027ae886-68dd-4141-96c7-805a5450e1ef",
   "metadata": {
    "execution": {
     "iopub.execute_input": "2025-08-06T17:48:35.948684Z",
     "iopub.status.busy": "2025-08-06T17:48:35.947684Z",
     "iopub.status.idle": "2025-08-06T17:48:36.187955Z",
     "shell.execute_reply": "2025-08-06T17:48:36.187185Z"
    },
    "papermill": {
     "duration": 0.265668,
     "end_time": "2025-08-06T17:48:36.190032",
     "exception": false,
     "start_time": "2025-08-06T17:48:35.924364",
     "status": "completed"
    },
    "tags": []
   },
   "outputs": [],
   "source": [
    "from fairness_multiverse.conformal import build_cp_groups\n",
    "\n",
    "cp_groups_df = build_cp_groups(pred_sets, y_true, X_test.index, org_test)"
   ]
  },
  {
   "cell_type": "code",
   "execution_count": 50,
   "id": "6cbdab96-b2b2-45af-ad54-d0516db2e28d",
   "metadata": {
    "execution": {
     "iopub.execute_input": "2025-08-06T17:48:36.233780Z",
     "iopub.status.busy": "2025-08-06T17:48:36.233349Z",
     "iopub.status.idle": "2025-08-06T17:48:37.702627Z",
     "shell.execute_reply": "2025-08-06T17:48:37.701894Z"
    },
    "papermill": {
     "duration": 1.492503,
     "end_time": "2025-08-06T17:48:37.704387",
     "exception": false,
     "start_time": "2025-08-06T17:48:36.211884",
     "status": "completed"
    },
    "tags": []
   },
   "outputs": [],
   "source": [
    "# Define covered = 1 if true_label is in the predicted set\n",
    "cp_groups_df['covered'] = cp_groups_df.apply(\n",
    "    lambda r: int(r['true_label'] in r['pred_set']),\n",
    "    axis=1\n",
    ")"
   ]
  },
  {
   "cell_type": "code",
   "execution_count": 51,
   "id": "90032e27-66df-4540-9169-4e89cfbaa758",
   "metadata": {
    "execution": {
     "iopub.execute_input": "2025-08-06T17:48:37.750008Z",
     "iopub.status.busy": "2025-08-06T17:48:37.749504Z",
     "iopub.status.idle": "2025-08-06T17:48:37.761189Z",
     "shell.execute_reply": "2025-08-06T17:48:37.759993Z"
    },
    "papermill": {
     "duration": 0.036507,
     "end_time": "2025-08-06T17:48:37.762912",
     "exception": false,
     "start_time": "2025-08-06T17:48:37.726405",
     "status": "completed"
    },
    "tags": []
   },
   "outputs": [],
   "source": [
    "subgroups = ['frau1','nongerman','nongerman_male','nongerman_female']\n",
    "\n",
    "# Conditional coverage for subgroup==1\n",
    "cond_coverage = {\n",
    "    g: cp_groups_df.loc[cp_groups_df[g]==1, 'covered'].mean()\n",
    "    for g in subgroups\n",
    "}"
   ]
  },
  {
   "cell_type": "code",
   "execution_count": 52,
   "id": "1e348fb1-b9c3-45bc-ba23-f016827a7e0d",
   "metadata": {
    "execution": {
     "iopub.execute_input": "2025-08-06T17:48:37.810054Z",
     "iopub.status.busy": "2025-08-06T17:48:37.809074Z",
     "iopub.status.idle": "2025-08-06T17:48:37.816743Z",
     "shell.execute_reply": "2025-08-06T17:48:37.815749Z"
    },
    "papermill": {
     "duration": 0.030993,
     "end_time": "2025-08-06T17:48:37.818264",
     "exception": false,
     "start_time": "2025-08-06T17:48:37.787271",
     "status": "completed"
    },
    "tags": []
   },
   "outputs": [
    {
     "data": {
      "text/plain": [
       "{'frau1': 0.9091252190322145,\n",
       " 'nongerman': 0.9095604333913434,\n",
       " 'nongerman_male': 0.9253354949112852,\n",
       " 'nongerman_female': 0.8834575260804769}"
      ]
     },
     "execution_count": 52,
     "metadata": {},
     "output_type": "execute_result"
    }
   ],
   "source": [
    "cond_coverage"
   ]
  },
  {
   "cell_type": "code",
   "execution_count": 53,
   "id": "f5093324-c3dd-4d63-bc4c-8d945e5c8bbb",
   "metadata": {
    "execution": {
     "iopub.execute_input": "2025-08-06T17:48:37.867706Z",
     "iopub.status.busy": "2025-08-06T17:48:37.867035Z",
     "iopub.status.idle": "2025-08-06T17:48:37.885471Z",
     "shell.execute_reply": "2025-08-06T17:48:37.884364Z"
    },
    "papermill": {
     "duration": 0.04486,
     "end_time": "2025-08-06T17:48:37.888411",
     "exception": false,
     "start_time": "2025-08-06T17:48:37.843551",
     "status": "completed"
    },
    "tags": []
   },
   "outputs": [],
   "source": [
    "for subgroup, cov in cond_coverage.items():\n",
    "    cp_metrics_df[f\"cov_{subgroup}\"] = cov"
   ]
  },
  {
   "cell_type": "code",
   "execution_count": 54,
   "id": "6e872e10-dbe5-49e8-b554-5030c98ff75d",
   "metadata": {
    "execution": {
     "iopub.execute_input": "2025-08-06T17:48:37.934868Z",
     "iopub.status.busy": "2025-08-06T17:48:37.934002Z",
     "iopub.status.idle": "2025-08-06T17:48:37.952860Z",
     "shell.execute_reply": "2025-08-06T17:48:37.952027Z"
    },
    "papermill": {
     "duration": 0.043819,
     "end_time": "2025-08-06T17:48:37.954421",
     "exception": false,
     "start_time": "2025-08-06T17:48:37.910602",
     "status": "completed"
    },
    "tags": []
   },
   "outputs": [
    {
     "data": {
      "text/html": [
       "<div>\n",
       "<style scoped>\n",
       "    .dataframe tbody tr th:only-of-type {\n",
       "        vertical-align: middle;\n",
       "    }\n",
       "\n",
       "    .dataframe tbody tr th {\n",
       "        vertical-align: top;\n",
       "    }\n",
       "\n",
       "    .dataframe thead th {\n",
       "        text-align: right;\n",
       "    }\n",
       "</style>\n",
       "<table border=\"1\" class=\"dataframe\">\n",
       "  <thead>\n",
       "    <tr style=\"text-align: right;\">\n",
       "      <th></th>\n",
       "      <th>universe_id</th>\n",
       "      <th>universe_training_year</th>\n",
       "      <th>universe_training_size</th>\n",
       "      <th>universe_scale</th>\n",
       "      <th>universe_model</th>\n",
       "      <th>universe_exclude_features</th>\n",
       "      <th>universe_exclude_subgroups</th>\n",
       "      <th>q_hat</th>\n",
       "      <th>coverage</th>\n",
       "      <th>avg_size</th>\n",
       "      <th>cov_frau1</th>\n",
       "      <th>cov_nongerman</th>\n",
       "      <th>cov_nongerman_male</th>\n",
       "      <th>cov_nongerman_female</th>\n",
       "    </tr>\n",
       "  </thead>\n",
       "  <tbody>\n",
       "    <tr>\n",
       "      <th>0</th>\n",
       "      <td>bb5ffbc14595629263e25f89a43b1115</td>\n",
       "      <td>2014</td>\n",
       "      <td>1k</td>\n",
       "      <td>scale</td>\n",
       "      <td>rf</td>\n",
       "      <td>sex</td>\n",
       "      <td>keep-all</td>\n",
       "      <td>0.67</td>\n",
       "      <td>0.913488</td>\n",
       "      <td>1.145926</td>\n",
       "      <td>0.909125</td>\n",
       "      <td>0.90956</td>\n",
       "      <td>0.925335</td>\n",
       "      <td>0.883458</td>\n",
       "    </tr>\n",
       "  </tbody>\n",
       "</table>\n",
       "</div>"
      ],
      "text/plain": [
       "                        universe_id universe_training_year  \\\n",
       "0  bb5ffbc14595629263e25f89a43b1115                   2014   \n",
       "\n",
       "  universe_training_size universe_scale universe_model  \\\n",
       "0                     1k          scale             rf   \n",
       "\n",
       "  universe_exclude_features universe_exclude_subgroups  q_hat  coverage  \\\n",
       "0                       sex                   keep-all   0.67  0.913488   \n",
       "\n",
       "   avg_size  cov_frau1  cov_nongerman  cov_nongerman_male  \\\n",
       "0  1.145926   0.909125        0.90956            0.925335   \n",
       "\n",
       "   cov_nongerman_female  \n",
       "0              0.883458  "
      ]
     },
     "execution_count": 54,
     "metadata": {},
     "output_type": "execute_result"
    }
   ],
   "source": [
    "cp_metrics_df"
   ]
  },
  {
   "cell_type": "markdown",
   "id": "33774451",
   "metadata": {
    "papermill": {
     "duration": 0.02113,
     "end_time": "2025-08-06T17:48:37.997600",
     "exception": false,
     "start_time": "2025-08-06T17:48:37.976470",
     "status": "completed"
    },
    "tags": []
   },
   "source": [
    "# (Fairness) Metrics"
   ]
  },
  {
   "cell_type": "code",
   "execution_count": 55,
   "id": "debc5d62",
   "metadata": {
    "execution": {
     "iopub.execute_input": "2025-08-06T17:48:38.043209Z",
     "iopub.status.busy": "2025-08-06T17:48:38.042540Z",
     "iopub.status.idle": "2025-08-06T17:48:38.064780Z",
     "shell.execute_reply": "2025-08-06T17:48:38.063764Z"
    },
    "papermill": {
     "duration": 0.046969,
     "end_time": "2025-08-06T17:48:38.066775",
     "exception": false,
     "start_time": "2025-08-06T17:48:38.019806",
     "status": "completed"
    },
    "tags": []
   },
   "outputs": [],
   "source": [
    "colname_to_bin = \"maxdeutsch1\"\n",
    "majority_value = org_train[colname_to_bin].mode()[0]\n",
    "\n",
    "org_test[\"majmin\"] = np.where(org_test[colname_to_bin] == majority_value, \"majority\", \"minority\")"
   ]
  },
  {
   "cell_type": "code",
   "execution_count": 56,
   "id": "06a50de5",
   "metadata": {
    "execution": {
     "iopub.execute_input": "2025-08-06T17:48:38.111461Z",
     "iopub.status.busy": "2025-08-06T17:48:38.111100Z",
     "iopub.status.idle": "2025-08-06T17:48:40.648363Z",
     "shell.execute_reply": "2025-08-06T17:48:40.647614Z"
    },
    "papermill": {
     "duration": 2.56046,
     "end_time": "2025-08-06T17:48:40.649733",
     "exception": false,
     "start_time": "2025-08-06T17:48:38.089273",
     "status": "completed"
    },
    "tags": []
   },
   "outputs": [],
   "source": [
    "example_universe = universe.copy()\n",
    "example_universe[\"cutoff\"] = example_universe[\"cutoff\"][0]\n",
    "example_universe[\"eval_fairness_grouping\"] = example_universe[\"eval_fairness_grouping\"][0]\n",
    "fairness_dict, metric_frame = universe_analysis.compute_metrics(\n",
    "    example_universe,\n",
    "    y_pred_prob=probs_test,\n",
    "    y_test=y_true,\n",
    "    org_test=org_test,\n",
    ")"
   ]
  },
  {
   "cell_type": "markdown",
   "id": "f95d4e02",
   "metadata": {
    "papermill": {
     "duration": 0.011902,
     "end_time": "2025-08-06T17:48:40.679471",
     "exception": false,
     "start_time": "2025-08-06T17:48:40.667569",
     "status": "completed"
    },
    "tags": []
   },
   "source": [
    "# Overall"
   ]
  },
  {
   "cell_type": "markdown",
   "id": "bdee4871",
   "metadata": {
    "papermill": {
     "duration": 0.014722,
     "end_time": "2025-08-06T17:48:40.705688",
     "exception": false,
     "start_time": "2025-08-06T17:48:40.690966",
     "status": "completed"
    },
    "tags": []
   },
   "source": [
    "Main fairness target: Equalized Odds. Seems to be a better fit than equal opportunity, since we're not only interested in Y = 1. Seems to be a better fit than demographic parity, since we also care about accuracy, not just equal distribution of preds.\n",
    "\n",
    "Pick column for computation of fairness metrics\n",
    "\n",
    "Performance\n",
    "Overall performance measures, most interesting in relation to the measures split by group below"
   ]
  },
  {
   "cell_type": "code",
   "execution_count": 57,
   "id": "c4e067c6",
   "metadata": {
    "execution": {
     "iopub.execute_input": "2025-08-06T17:48:40.730152Z",
     "iopub.status.busy": "2025-08-06T17:48:40.729815Z",
     "iopub.status.idle": "2025-08-06T17:48:40.736934Z",
     "shell.execute_reply": "2025-08-06T17:48:40.735941Z"
    },
    "papermill": {
     "duration": 0.022309,
     "end_time": "2025-08-06T17:48:40.739682",
     "exception": false,
     "start_time": "2025-08-06T17:48:40.717373",
     "status": "completed"
    },
    "tags": []
   },
   "outputs": [
    {
     "data": {
      "text/plain": [
       "accuracy                   0.213978\n",
       "balanced accuracy          0.535037\n",
       "f1                         0.239889\n",
       "precision                  0.136931\n",
       "false positive rate        0.896818\n",
       "false negative rate        0.033107\n",
       "selection rate             0.905808\n",
       "count                  89710.000000\n",
       "dtype: float64"
      ]
     },
     "execution_count": 57,
     "metadata": {},
     "output_type": "execute_result"
    }
   ],
   "source": [
    "metric_frame.overall"
   ]
  },
  {
   "cell_type": "markdown",
   "id": "e968fe9d",
   "metadata": {
    "papermill": {
     "duration": 0.019831,
     "end_time": "2025-08-06T17:48:40.783322",
     "exception": false,
     "start_time": "2025-08-06T17:48:40.763491",
     "status": "completed"
    },
    "tags": []
   },
   "source": [
    "By Group"
   ]
  },
  {
   "cell_type": "code",
   "execution_count": 58,
   "id": "ec325bce",
   "metadata": {
    "execution": {
     "iopub.execute_input": "2025-08-06T17:48:40.808295Z",
     "iopub.status.busy": "2025-08-06T17:48:40.807947Z",
     "iopub.status.idle": "2025-08-06T17:48:40.821488Z",
     "shell.execute_reply": "2025-08-06T17:48:40.820505Z"
    },
    "papermill": {
     "duration": 0.028202,
     "end_time": "2025-08-06T17:48:40.823351",
     "exception": false,
     "start_time": "2025-08-06T17:48:40.795149",
     "status": "completed"
    },
    "tags": []
   },
   "outputs": [
    {
     "data": {
      "text/html": [
       "<div>\n",
       "<style scoped>\n",
       "    .dataframe tbody tr th:only-of-type {\n",
       "        vertical-align: middle;\n",
       "    }\n",
       "\n",
       "    .dataframe tbody tr th {\n",
       "        vertical-align: top;\n",
       "    }\n",
       "\n",
       "    .dataframe thead th {\n",
       "        text-align: right;\n",
       "    }\n",
       "</style>\n",
       "<table border=\"1\" class=\"dataframe\">\n",
       "  <thead>\n",
       "    <tr style=\"text-align: right;\">\n",
       "      <th></th>\n",
       "      <th>accuracy</th>\n",
       "      <th>balanced accuracy</th>\n",
       "      <th>f1</th>\n",
       "      <th>precision</th>\n",
       "      <th>false positive rate</th>\n",
       "      <th>false negative rate</th>\n",
       "      <th>selection rate</th>\n",
       "      <th>count</th>\n",
       "    </tr>\n",
       "    <tr>\n",
       "      <th>majmin</th>\n",
       "      <th></th>\n",
       "      <th></th>\n",
       "      <th></th>\n",
       "      <th></th>\n",
       "      <th></th>\n",
       "      <th></th>\n",
       "      <th></th>\n",
       "      <th></th>\n",
       "    </tr>\n",
       "  </thead>\n",
       "  <tbody>\n",
       "    <tr>\n",
       "      <th>majority</th>\n",
       "      <td>0.205465</td>\n",
       "      <td>0.536866</td>\n",
       "      <td>0.247213</td>\n",
       "      <td>0.141296</td>\n",
       "      <td>0.913577</td>\n",
       "      <td>0.012691</td>\n",
       "      <td>0.923319</td>\n",
       "      <td>69170.0</td>\n",
       "    </tr>\n",
       "    <tr>\n",
       "      <th>minority</th>\n",
       "      <td>0.242648</td>\n",
       "      <td>0.523316</td>\n",
       "      <td>0.212833</td>\n",
       "      <td>0.120904</td>\n",
       "      <td>0.841459</td>\n",
       "      <td>0.111909</td>\n",
       "      <td>0.846835</td>\n",
       "      <td>20540.0</td>\n",
       "    </tr>\n",
       "  </tbody>\n",
       "</table>\n",
       "</div>"
      ],
      "text/plain": [
       "          accuracy  balanced accuracy        f1  precision  \\\n",
       "majmin                                                       \n",
       "majority  0.205465           0.536866  0.247213   0.141296   \n",
       "minority  0.242648           0.523316  0.212833   0.120904   \n",
       "\n",
       "          false positive rate  false negative rate  selection rate    count  \n",
       "majmin                                                                       \n",
       "majority             0.913577             0.012691        0.923319  69170.0  \n",
       "minority             0.841459             0.111909        0.846835  20540.0  "
      ]
     },
     "execution_count": 58,
     "metadata": {},
     "output_type": "execute_result"
    }
   ],
   "source": [
    "metric_frame.by_group"
   ]
  },
  {
   "cell_type": "code",
   "execution_count": 59,
   "id": "a9ddbe63",
   "metadata": {
    "execution": {
     "iopub.execute_input": "2025-08-06T17:48:40.873288Z",
     "iopub.status.busy": "2025-08-06T17:48:40.872300Z",
     "iopub.status.idle": "2025-08-06T17:48:43.161169Z",
     "shell.execute_reply": "2025-08-06T17:48:43.159899Z"
    },
    "papermill": {
     "duration": 2.315824,
     "end_time": "2025-08-06T17:48:43.163307",
     "exception": false,
     "start_time": "2025-08-06T17:48:40.847483",
     "status": "completed"
    },
    "tags": []
   },
   "outputs": [
    {
     "data": {
      "text/plain": [
       "array([[<Axes: title={'center': 'accuracy'}, xlabel='majmin'>,\n",
       "        <Axes: title={'center': 'balanced accuracy'}, xlabel='majmin'>,\n",
       "        <Axes: title={'center': 'f1'}, xlabel='majmin'>],\n",
       "       [<Axes: title={'center': 'precision'}, xlabel='majmin'>,\n",
       "        <Axes: title={'center': 'false positive rate'}, xlabel='majmin'>,\n",
       "        <Axes: title={'center': 'false negative rate'}, xlabel='majmin'>],\n",
       "       [<Axes: title={'center': 'selection rate'}, xlabel='majmin'>,\n",
       "        <Axes: title={'center': 'count'}, xlabel='majmin'>,\n",
       "        <Axes: xlabel='majmin'>]], dtype=object)"
      ]
     },
     "execution_count": 59,
     "metadata": {},
     "output_type": "execute_result"
    },
    {
     "data": {
      "image/png": "[encoded data removed]",
      "text/plain": [
       "<Figure size 1200x800 with 9 Axes>"
      ]
     },
     "metadata": {},
     "output_type": "display_data"
    }
   ],
   "source": [
    "# In a graphic\n",
    "metric_frame.by_group.plot.bar(\n",
    "    subplots=True,\n",
    "    layout=[3, 3],\n",
    "    legend=False,\n",
    "    figsize=[12, 8],\n",
    "    title=\"Show all metrics\",\n",
    ")"
   ]
  },
  {
   "cell_type": "markdown",
   "id": "f57a0bac",
   "metadata": {
    "papermill": {
     "duration": 0.023166,
     "end_time": "2025-08-06T17:48:43.218071",
     "exception": false,
     "start_time": "2025-08-06T17:48:43.194905",
     "status": "completed"
    },
    "tags": []
   },
   "source": [
    "# Final Output"
   ]
  },
  {
   "cell_type": "code",
   "execution_count": 60,
   "id": "96d280a3",
   "metadata": {
    "execution": {
     "iopub.execute_input": "2025-08-06T17:48:43.267121Z",
     "iopub.status.busy": "2025-08-06T17:48:43.266034Z",
     "iopub.status.idle": "2025-08-06T17:48:43.273850Z",
     "shell.execute_reply": "2025-08-06T17:48:43.272972Z"
    },
    "papermill": {
     "duration": 0.033971,
     "end_time": "2025-08-06T17:48:43.275452",
     "exception": false,
     "start_time": "2025-08-06T17:48:43.241481",
     "status": "completed"
    },
    "tags": []
   },
   "outputs": [
    {
     "data": {
      "text/plain": [
       "4"
      ]
     },
     "execution_count": 60,
     "metadata": {},
     "output_type": "execute_result"
    }
   ],
   "source": [
    "sub_universes = universe_analysis.generate_sub_universes()\n",
    "len(sub_universes)"
   ]
  },
  {
   "cell_type": "code",
   "execution_count": 61,
   "id": "92adf7ba",
   "metadata": {
    "execution": {
     "iopub.execute_input": "2025-08-06T17:48:43.325297Z",
     "iopub.status.busy": "2025-08-06T17:48:43.324678Z",
     "iopub.status.idle": "2025-08-06T17:48:43.331340Z",
     "shell.execute_reply": "2025-08-06T17:48:43.330424Z"
    },
    "papermill": {
     "duration": 0.033398,
     "end_time": "2025-08-06T17:48:43.332986",
     "exception": false,
     "start_time": "2025-08-06T17:48:43.299588",
     "status": "completed"
    },
    "tags": []
   },
   "outputs": [],
   "source": [
    "def filter_sub_universe_data(sub_universe, org_test):\n",
    "    # Keep all rows — no filtering\n",
    "    keep_rows_mask = np.ones(org_test.shape[0], dtype=bool)\n",
    "\n",
    "    print(f\"[INFO] Keeping all rows: {keep_rows_mask.sum()} rows retained.\")\n",
    "    return keep_rows_mask"
   ]
  },
  {
   "cell_type": "code",
   "execution_count": 62,
   "id": "4a759155",
   "metadata": {
    "execution": {
     "iopub.execute_input": "2025-08-06T17:48:43.381749Z",
     "iopub.status.busy": "2025-08-06T17:48:43.380941Z",
     "iopub.status.idle": "2025-08-06T17:48:54.007209Z",
     "shell.execute_reply": "2025-08-06T17:48:54.006113Z"
    },
    "papermill": {
     "duration": 10.65248,
     "end_time": "2025-08-06T17:48:54.008940",
     "exception": false,
     "start_time": "2025-08-06T17:48:43.356460",
     "status": "completed"
    },
    "tags": []
   },
   "outputs": [
    {
     "name": "stdout",
     "output_type": "stream",
     "text": [
      "Stopping execution_time clock.\n",
      "[INFO] Keeping all rows: 89710 rows retained.\n"
     ]
    },
    {
     "name": "stdout",
     "output_type": "stream",
     "text": [
      "[INFO] Keeping all rows: 89710 rows retained.\n"
     ]
    },
    {
     "name": "stdout",
     "output_type": "stream",
     "text": [
      "[INFO] Keeping all rows: 89710 rows retained.\n"
     ]
    },
    {
     "name": "stdout",
     "output_type": "stream",
     "text": [
      "[INFO] Keeping all rows: 89710 rows retained.\n"
     ]
    },
    {
     "data": {
      "text/html": [
       "<div>\n",
       "<style scoped>\n",
       "    .dataframe tbody tr th:only-of-type {\n",
       "        vertical-align: middle;\n",
       "    }\n",
       "\n",
       "    .dataframe tbody tr th {\n",
       "        vertical-align: top;\n",
       "    }\n",
       "\n",
       "    .dataframe thead th {\n",
       "        text-align: right;\n",
       "    }\n",
       "</style>\n",
       "<table border=\"1\" class=\"dataframe\">\n",
       "  <thead>\n",
       "    <tr style=\"text-align: right;\">\n",
       "      <th></th>\n",
       "      <th>run_no</th>\n",
       "      <th>universe_id</th>\n",
       "      <th>universe_settings</th>\n",
       "      <th>execution_time</th>\n",
       "      <th>test_size_n</th>\n",
       "      <th>test_size_frac</th>\n",
       "      <th>fair_main_equalized_odds_difference</th>\n",
       "      <th>fair_main_equalized_odds_ratio</th>\n",
       "      <th>fair_main_demographic_parity_difference</th>\n",
       "      <th>fair_main_demographic_parity_ratio</th>\n",
       "      <th>...</th>\n",
       "      <th>perf_grp_precision_0</th>\n",
       "      <th>perf_grp_precision_1</th>\n",
       "      <th>perf_grp_false positive rate_0</th>\n",
       "      <th>perf_grp_false positive rate_1</th>\n",
       "      <th>perf_grp_false negative rate_0</th>\n",
       "      <th>perf_grp_false negative rate_1</th>\n",
       "      <th>perf_grp_selection rate_0</th>\n",
       "      <th>perf_grp_selection rate_1</th>\n",
       "      <th>perf_grp_count_0</th>\n",
       "      <th>perf_grp_count_1</th>\n",
       "    </tr>\n",
       "  </thead>\n",
       "  <tbody>\n",
       "    <tr>\n",
       "      <th>0</th>\n",
       "      <td>1</td>\n",
       "      <td>bb5ffbc14595629263e25f89a43b1115</td>\n",
       "      <td>{\"cutoff\": \"quantile_0.1\", \"eval_fairness_grou...</td>\n",
       "      <td>31.680536</td>\n",
       "      <td>89710</td>\n",
       "      <td>1.0</td>\n",
       "      <td>0.099217</td>\n",
       "      <td>0.899507</td>\n",
       "      <td>0.076484</td>\n",
       "      <td>0.917164</td>\n",
       "      <td>...</td>\n",
       "      <td>NaN</td>\n",
       "      <td>NaN</td>\n",
       "      <td>NaN</td>\n",
       "      <td>NaN</td>\n",
       "      <td>NaN</td>\n",
       "      <td>NaN</td>\n",
       "      <td>NaN</td>\n",
       "      <td>NaN</td>\n",
       "      <td>NaN</td>\n",
       "      <td>NaN</td>\n",
       "    </tr>\n",
       "    <tr>\n",
       "      <th>0</th>\n",
       "      <td>1</td>\n",
       "      <td>bb5ffbc14595629263e25f89a43b1115</td>\n",
       "      <td>{\"cutoff\": \"quantile_0.1\", \"eval_fairness_grou...</td>\n",
       "      <td>31.680536</td>\n",
       "      <td>89710</td>\n",
       "      <td>1.0</td>\n",
       "      <td>0.099217</td>\n",
       "      <td>0.899507</td>\n",
       "      <td>0.076484</td>\n",
       "      <td>0.917164</td>\n",
       "      <td>...</td>\n",
       "      <td>0.120904</td>\n",
       "      <td>0.141296</td>\n",
       "      <td>0.841459</td>\n",
       "      <td>0.913577</td>\n",
       "      <td>0.111909</td>\n",
       "      <td>0.012691</td>\n",
       "      <td>0.846835</td>\n",
       "      <td>0.923319</td>\n",
       "      <td>20540.0</td>\n",
       "      <td>69170.0</td>\n",
       "    </tr>\n",
       "    <tr>\n",
       "      <th>0</th>\n",
       "      <td>1</td>\n",
       "      <td>bb5ffbc14595629263e25f89a43b1115</td>\n",
       "      <td>{\"cutoff\": \"quantile_0.25\", \"eval_fairness_gro...</td>\n",
       "      <td>31.680536</td>\n",
       "      <td>89710</td>\n",
       "      <td>1.0</td>\n",
       "      <td>0.123505</td>\n",
       "      <td>0.869348</td>\n",
       "      <td>0.077195</td>\n",
       "      <td>0.900444</td>\n",
       "      <td>...</td>\n",
       "      <td>NaN</td>\n",
       "      <td>NaN</td>\n",
       "      <td>NaN</td>\n",
       "      <td>NaN</td>\n",
       "      <td>NaN</td>\n",
       "      <td>NaN</td>\n",
       "      <td>NaN</td>\n",
       "      <td>NaN</td>\n",
       "      <td>NaN</td>\n",
       "      <td>NaN</td>\n",
       "    </tr>\n",
       "    <tr>\n",
       "      <th>0</th>\n",
       "      <td>1</td>\n",
       "      <td>bb5ffbc14595629263e25f89a43b1115</td>\n",
       "      <td>{\"cutoff\": \"quantile_0.25\", \"eval_fairness_gro...</td>\n",
       "      <td>31.680536</td>\n",
       "      <td>89710</td>\n",
       "      <td>1.0</td>\n",
       "      <td>0.123505</td>\n",
       "      <td>0.869348</td>\n",
       "      <td>0.077195</td>\n",
       "      <td>0.900444</td>\n",
       "      <td>...</td>\n",
       "      <td>0.135695</td>\n",
       "      <td>0.161092</td>\n",
       "      <td>0.682093</td>\n",
       "      <td>0.749525</td>\n",
       "      <td>0.178209</td>\n",
       "      <td>0.054705</td>\n",
       "      <td>0.698199</td>\n",
       "      <td>0.775394</td>\n",
       "      <td>20540.0</td>\n",
       "      <td>69170.0</td>\n",
       "    </tr>\n",
       "  </tbody>\n",
       "</table>\n",
       "<p>4 rows × 50 columns</p>\n",
       "</div>"
      ],
      "text/plain": [
       "  run_no                       universe_id  \\\n",
       "0      1  bb5ffbc14595629263e25f89a43b1115   \n",
       "0      1  bb5ffbc14595629263e25f89a43b1115   \n",
       "0      1  bb5ffbc14595629263e25f89a43b1115   \n",
       "0      1  bb5ffbc14595629263e25f89a43b1115   \n",
       "\n",
       "                                   universe_settings  execution_time  \\\n",
       "0  {\"cutoff\": \"quantile_0.1\", \"eval_fairness_grou...       31.680536   \n",
       "0  {\"cutoff\": \"quantile_0.1\", \"eval_fairness_grou...       31.680536   \n",
       "0  {\"cutoff\": \"quantile_0.25\", \"eval_fairness_gro...       31.680536   \n",
       "0  {\"cutoff\": \"quantile_0.25\", \"eval_fairness_gro...       31.680536   \n",
       "\n",
       "   test_size_n  test_size_frac  fair_main_equalized_odds_difference  \\\n",
       "0        89710             1.0                             0.099217   \n",
       "0        89710             1.0                             0.099217   \n",
       "0        89710             1.0                             0.123505   \n",
       "0        89710             1.0                             0.123505   \n",
       "\n",
       "   fair_main_equalized_odds_ratio  fair_main_demographic_parity_difference  \\\n",
       "0                        0.899507                                 0.076484   \n",
       "0                        0.899507                                 0.076484   \n",
       "0                        0.869348                                 0.077195   \n",
       "0                        0.869348                                 0.077195   \n",
       "\n",
       "   fair_main_demographic_parity_ratio  ...  perf_grp_precision_0  \\\n",
       "0                            0.917164  ...                   NaN   \n",
       "0                            0.917164  ...              0.120904   \n",
       "0                            0.900444  ...                   NaN   \n",
       "0                            0.900444  ...              0.135695   \n",
       "\n",
       "   perf_grp_precision_1  perf_grp_false positive rate_0  \\\n",
       "0                   NaN                             NaN   \n",
       "0              0.141296                        0.841459   \n",
       "0                   NaN                             NaN   \n",
       "0              0.161092                        0.682093   \n",
       "\n",
       "   perf_grp_false positive rate_1  perf_grp_false negative rate_0  \\\n",
       "0                             NaN                             NaN   \n",
       "0                        0.913577                        0.111909   \n",
       "0                             NaN                             NaN   \n",
       "0                        0.749525                        0.178209   \n",
       "\n",
       "   perf_grp_false negative rate_1  perf_grp_selection rate_0  \\\n",
       "0                             NaN                        NaN   \n",
       "0                        0.012691                   0.846835   \n",
       "0                             NaN                        NaN   \n",
       "0                        0.054705                   0.698199   \n",
       "\n",
       "   perf_grp_selection rate_1  perf_grp_count_0  perf_grp_count_1  \n",
       "0                        NaN               NaN               NaN  \n",
       "0                   0.923319           20540.0           69170.0  \n",
       "0                        NaN               NaN               NaN  \n",
       "0                   0.775394           20540.0           69170.0  \n",
       "\n",
       "[4 rows x 50 columns]"
      ]
     },
     "execution_count": 62,
     "metadata": {},
     "output_type": "execute_result"
    }
   ],
   "source": [
    "final_output = universe_analysis.generate_final_output(\n",
    "    y_pred_prob=probs_test,\n",
    "    y_test=y_true,\n",
    "    org_test=org_test,\n",
    "    filter_data=filter_sub_universe_data,\n",
    "    cp_metrics_df=cp_metrics_df,\n",
    "    save=True,\n",
    ")\n",
    "final_output"
   ]
  },
  {
   "cell_type": "code",
   "execution_count": null,
   "id": "571f9a0f-660a-4841-b661-b06fbc637944",
   "metadata": {
    "papermill": {
     "duration": 0.026067,
     "end_time": "2025-08-06T17:48:54.064963",
     "exception": false,
     "start_time": "2025-08-06T17:48:54.038896",
     "status": "completed"
    },
    "tags": []
   },
   "outputs": [],
   "source": []
  },
  {
   "cell_type": "code",
   "execution_count": null,
   "id": "529482e3-0150-4854-a92d-ab864efc606e",
   "metadata": {
    "papermill": {
     "duration": 0.02637,
     "end_time": "2025-08-06T17:48:54.117754",
     "exception": false,
     "start_time": "2025-08-06T17:48:54.091384",
     "status": "completed"
    },
    "tags": []
   },
   "outputs": [],
   "source": []
  }
 ],
 "metadata": {
  "celltoolbar": "Tags",
  "kernelspec": {
   "display_name": "Python (CMA Fairness)",
   "language": "python",
   "name": "cma_fair_env"
  },
  "language_info": {
   "codemirror_mode": {
    "name": "ipython",
    "version": 3
   },
   "file_extension": ".py",
   "mimetype": "text/x-python",
   "name": "python",
   "nbconvert_exporter": "python",
   "pygments_lexer": "ipython3",
   "version": "3.10.12"
  },
  "papermill": {
   "default_parameters": {},
   "duration": 46.713612,
   "end_time": "2025-08-06T17:48:54.972297",
   "environment_variables": {},
   "exception": null,
   "input_path": "universe_analysis.ipynb",
   "output_path": "output/runs/1/notebooks/m_1-bb5ffbc14595629263e25f89a43b1115.ipynb",
   "parameters": {
    "output_dir": "output",
    "run_no": "1",
    "seed": "2023",
    "universe": "{\"cutoff\": [\"quantile_0.1\", \"quantile_0.25\"], \"eval_fairness_grouping\": [\"majority-minority\", \"nationality-all\"], \"exclude_features\": \"sex\", \"exclude_subgroups\": \"keep-all\", \"model\": \"rf\", \"scale\": \"scale\", \"training_size\": \"1k\", \"training_year\": \"2014\"}",
    "universe_id": "bb5ffbc14595629263e25f89a43b1115"
   },
   "start_time": "2025-08-06T17:48:08.258685",
   "version": "2.6.0"
  }
 },
 "nbformat": 4,
 "nbformat_minor": 5
}