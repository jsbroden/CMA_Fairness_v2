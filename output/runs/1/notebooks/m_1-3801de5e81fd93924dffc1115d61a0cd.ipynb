{
 "cells": [
  {
   "cell_type": "markdown",
   "id": "b2057076-3a91-4cfa-9bfd-eab1e61b3068",
   "metadata": {
    "papermill": {
     "duration": 0.009365,
     "end_time": "2025-08-06T18:07:41.445658",
     "exception": false,
     "start_time": "2025-08-06T18:07:41.436293",
     "status": "completed"
    },
    "tags": []
   },
   "source": [
    "# Setup"
   ]
  },
  {
   "cell_type": "code",
   "execution_count": 1,
   "id": "f159f837-637b-42ba-96b5-ec9a68c44524",
   "metadata": {
    "execution": {
     "iopub.execute_input": "2025-08-06T18:07:41.462807Z",
     "iopub.status.busy": "2025-08-06T18:07:41.462468Z",
     "iopub.status.idle": "2025-08-06T18:07:41.472432Z",
     "shell.execute_reply": "2025-08-06T18:07:41.471531Z"
    },
    "papermill": {
     "duration": 0.020302,
     "end_time": "2025-08-06T18:07:41.473950",
     "exception": false,
     "start_time": "2025-08-06T18:07:41.453648",
     "status": "completed"
    },
    "tags": []
   },
   "outputs": [
    {
     "name": "stdout",
     "output_type": "stream",
     "text": [
      "/dss/dsshome1/0C/ra93lal2/cma/CMA_Fairness_v2\n"
     ]
    },
    {
     "name": "stderr",
     "output_type": "stream",
     "text": [
      "/dss/dsshome1/0C/ra93lal2/.local/share/virtualenvs/CMA_Fairness_v2-3j10GkSs/lib/python3.10/site-packages/IPython/core/magics/osm.py:393: UserWarning: This is now an optional IPython functionality, using bookmarks requires you to install the `pickleshare` library.\n",
      "  bkms = self.shell.db.get('bookmarks', {})\n",
      "/dss/dsshome1/0C/ra93lal2/.local/share/virtualenvs/CMA_Fairness_v2-3j10GkSs/lib/python3.10/site-packages/IPython/core/magics/osm.py:417: UserWarning: This is now an optional IPython functionality, setting dhist requires you to install the `pickleshare` library.\n",
      "  self.shell.db['dhist'] = compress_dhist(dhist)[-100:]\n"
     ]
    }
   ],
   "source": [
    "%cd ~/cma/CMA_Fairness_v2"
   ]
  },
  {
   "cell_type": "markdown",
   "id": "de2603b9",
   "metadata": {
    "papermill": {
     "duration": 0.0167,
     "end_time": "2025-08-06T18:07:41.508167",
     "exception": false,
     "start_time": "2025-08-06T18:07:41.491467",
     "status": "completed"
    },
    "tags": []
   },
   "source": [
    "The following cell holds the definition of our parameters, these values can be overriden by rendering the with e.g. the following command:\n",
    "\n",
    "papermill -p alpha 0.2 -p ratio 0.3 universe_analysis.ipynb output/test_run.ipynb"
   ]
  },
  {
   "cell_type": "code",
   "execution_count": 2,
   "id": "a80968a0-40bb-4fa9-85ef-2d5eefb01975",
   "metadata": {
    "execution": {
     "iopub.execute_input": "2025-08-06T18:07:41.528912Z",
     "iopub.status.busy": "2025-08-06T18:07:41.528582Z",
     "iopub.status.idle": "2025-08-06T18:07:41.533375Z",
     "shell.execute_reply": "2025-08-06T18:07:41.532526Z"
    },
    "papermill": {
     "duration": 0.016087,
     "end_time": "2025-08-06T18:07:41.535141",
     "exception": false,
     "start_time": "2025-08-06T18:07:41.519054",
     "status": "completed"
    },
    "tags": []
   },
   "outputs": [
    {
     "name": "stdout",
     "output_type": "stream",
     "text": [
      "Current working directory: /dss/dsshome1/0C/ra93lal2/cma/CMA_Fairness_v2\n"
     ]
    }
   ],
   "source": [
    "import os\n",
    "print(\"Current working directory:\", os.getcwd())"
   ]
  },
  {
   "cell_type": "code",
   "execution_count": 3,
   "id": "2dce4c03",
   "metadata": {
    "execution": {
     "iopub.execute_input": "2025-08-06T18:07:41.570206Z",
     "iopub.status.busy": "2025-08-06T18:07:41.569508Z",
     "iopub.status.idle": "2025-08-06T18:07:41.575696Z",
     "shell.execute_reply": "2025-08-06T18:07:41.574979Z"
    },
    "papermill": {
     "duration": 0.025403,
     "end_time": "2025-08-06T18:07:41.577142",
     "exception": false,
     "start_time": "2025-08-06T18:07:41.551739",
     "status": "completed"
    },
    "tags": [
     "parameters"
    ]
   },
   "outputs": [],
   "source": [
    "run_no = 0\n",
    "universe_id = \"test\"\n",
    "universe = {\n",
    "    \"training_size\": \"5k\", # \"25k\", \"5k\", \"1k\"\n",
    "    \"training_year\": \"2012_14\", # \"2014\", \"2012_14\", \"2010_14\"\n",
    "    \"scale\": \"scale\", # \"scale\", \"do-not-scale\",\n",
    "    \"model\": \"elasticnet\", # \"logreg\", \"penalized_logreg\", \"rf\", \"gbm\", \"elasticnet\"\n",
    "    \"cutoff\": [\"quantile_0.15\", \"quantile_0.30\"],\n",
    "    \"exclude_features\": \"age\", # \"none\", \"nationality\", \"sex\", \"nationality-sex\", \"age\"\n",
    "    \"exclude_subgroups\": \"drop-non-german\", # \"keep-all\", \"drop-non-german\"\n",
    "    \"eval_fairness_grouping\": [\"majority-minority\", \"nationality-all\"]\n",
    "}\n",
    "\n",
    "output_dir=\"./output\"\n",
    "seed=0"
   ]
  },
  {
   "cell_type": "code",
   "execution_count": 4,
   "id": "6c561d24",
   "metadata": {
    "execution": {
     "iopub.execute_input": "2025-08-06T18:07:41.595491Z",
     "iopub.status.busy": "2025-08-06T18:07:41.595129Z",
     "iopub.status.idle": "2025-08-06T18:07:41.599601Z",
     "shell.execute_reply": "2025-08-06T18:07:41.598761Z"
    },
    "papermill": {
     "duration": 0.015074,
     "end_time": "2025-08-06T18:07:41.601228",
     "exception": false,
     "start_time": "2025-08-06T18:07:41.586154",
     "status": "completed"
    },
    "tags": [
     "injected-parameters"
    ]
   },
   "outputs": [],
   "source": [
    "# Parameters\n",
    "universe_id = \"3801de5e81fd93924dffc1115d61a0cd\"\n",
    "run_no = \"1\"\n",
    "universe = \"{\\\"cutoff\\\": [\\\"quantile_0.1\\\", \\\"quantile_0.25\\\"], \\\"eval_fairness_grouping\\\": [\\\"majority-minority\\\", \\\"nationality-all\\\"], \\\"exclude_features\\\": \\\"none\\\", \\\"exclude_subgroups\\\": \\\"drop-non-german\\\", \\\"model\\\": \\\"rf\\\", \\\"scale\\\": \\\"scale\\\", \\\"training_size\\\": \\\"1k\\\", \\\"training_year\\\": \\\"2010_14\\\"}\"\n",
    "output_dir = \"output\"\n",
    "seed = \"2023\"\n"
   ]
  },
  {
   "cell_type": "code",
   "execution_count": 5,
   "id": "1650acaf",
   "metadata": {
    "execution": {
     "iopub.execute_input": "2025-08-06T18:07:41.636213Z",
     "iopub.status.busy": "2025-08-06T18:07:41.635524Z",
     "iopub.status.idle": "2025-08-06T18:07:41.640780Z",
     "shell.execute_reply": "2025-08-06T18:07:41.639794Z"
    },
    "papermill": {
     "duration": 0.023958,
     "end_time": "2025-08-06T18:07:41.642122",
     "exception": false,
     "start_time": "2025-08-06T18:07:41.618164",
     "status": "completed"
    },
    "tags": []
   },
   "outputs": [],
   "source": [
    "import json\n",
    "if isinstance(universe, str):\n",
    "    universe = json.loads(universe)"
   ]
  },
  {
   "cell_type": "code",
   "execution_count": 6,
   "id": "16620c48",
   "metadata": {
    "execution": {
     "iopub.execute_input": "2025-08-06T18:07:41.676747Z",
     "iopub.status.busy": "2025-08-06T18:07:41.676151Z",
     "iopub.status.idle": "2025-08-06T18:07:41.717885Z",
     "shell.execute_reply": "2025-08-06T18:07:41.716995Z"
    },
    "papermill": {
     "duration": 0.061847,
     "end_time": "2025-08-06T18:07:41.719694",
     "exception": false,
     "start_time": "2025-08-06T18:07:41.657847",
     "status": "completed"
    },
    "tags": []
   },
   "outputs": [],
   "source": [
    "# Auto-reload the custom package\n",
    "%load_ext autoreload\n",
    "%autoreload 1\n",
    "%aimport fairness_multiverse"
   ]
  },
  {
   "cell_type": "code",
   "execution_count": 7,
   "id": "01c5c9f3",
   "metadata": {
    "execution": {
     "iopub.execute_input": "2025-08-06T18:07:41.756292Z",
     "iopub.status.busy": "2025-08-06T18:07:41.755477Z",
     "iopub.status.idle": "2025-08-06T18:07:43.464538Z",
     "shell.execute_reply": "2025-08-06T18:07:43.463476Z"
    },
    "papermill": {
     "duration": 1.728729,
     "end_time": "2025-08-06T18:07:43.466189",
     "exception": false,
     "start_time": "2025-08-06T18:07:41.737460",
     "status": "completed"
    },
    "tags": []
   },
   "outputs": [],
   "source": [
    "from fairness_multiverse.universe import UniverseAnalysis\n",
    "\n",
    "universe_analysis = UniverseAnalysis(\n",
    "    run_no = run_no,\n",
    "    universe_id = universe_id,\n",
    "    universe = universe,\n",
    "    output_dir=output_dir,\n",
    ")"
   ]
  },
  {
   "cell_type": "code",
   "execution_count": 8,
   "id": "106241f5",
   "metadata": {
    "execution": {
     "iopub.execute_input": "2025-08-06T18:07:43.485396Z",
     "iopub.status.busy": "2025-08-06T18:07:43.484761Z",
     "iopub.status.idle": "2025-08-06T18:07:43.492707Z",
     "shell.execute_reply": "2025-08-06T18:07:43.491646Z"
    },
    "papermill": {
     "duration": 0.018727,
     "end_time": "2025-08-06T18:07:43.494022",
     "exception": false,
     "start_time": "2025-08-06T18:07:43.475295",
     "status": "completed"
    },
    "tags": []
   },
   "outputs": [
    {
     "name": "stdout",
     "output_type": "stream",
     "text": [
      "Using Seed: 2023\n"
     ]
    }
   ],
   "source": [
    "import numpy as np\n",
    "parsed_seed = int(seed)\n",
    "np.random.seed(parsed_seed)\n",
    "print(f\"Using Seed: {parsed_seed}\")"
   ]
  },
  {
   "cell_type": "markdown",
   "id": "e0ebdc57",
   "metadata": {
    "papermill": {
     "duration": 0.017894,
     "end_time": "2025-08-06T18:07:43.526445",
     "exception": false,
     "start_time": "2025-08-06T18:07:43.508551",
     "status": "completed"
    },
    "tags": []
   },
   "source": [
    "# Loading Data"
   ]
  },
  {
   "cell_type": "code",
   "execution_count": 9,
   "id": "f0496b8a",
   "metadata": {
    "execution": {
     "iopub.execute_input": "2025-08-06T18:07:43.557623Z",
     "iopub.status.busy": "2025-08-06T18:07:43.557126Z",
     "iopub.status.idle": "2025-08-06T18:07:54.554992Z",
     "shell.execute_reply": "2025-08-06T18:07:54.553904Z"
    },
    "papermill": {
     "duration": 11.014122,
     "end_time": "2025-08-06T18:07:54.556694",
     "exception": false,
     "start_time": "2025-08-06T18:07:43.542572",
     "status": "completed"
    },
    "tags": []
   },
   "outputs": [
    {
     "name": "stdout",
     "output_type": "stream",
     "text": [
      "Loading SIAB data from cache: data/siab_cached.csv.gz\n"
     ]
    },
    {
     "name": "stdout",
     "output_type": "stream",
     "text": [
      "(643690, 164)\n"
     ]
    }
   ],
   "source": [
    "from pathlib import Path\n",
    "import pandas as pd\n",
    "\n",
    "# File paths\n",
    "raw_file = Path(\"data/raw/siab.csv\")\n",
    "cache_file = Path(\"data/siab_cached.csv.gz\")\n",
    "\n",
    "# Ensure cache directory exists\n",
    "cache_file.parent.mkdir(parents=True, exist_ok=True)\n",
    "\n",
    "# Load with simple caching\n",
    "if cache_file.exists():\n",
    "    print(f\"Loading SIAB data from cache: {cache_file}\")\n",
    "    siab = pd.read_csv(cache_file, compression='gzip')\n",
    "else:\n",
    "    print(f\"Cache not found. Reading raw SIAB data: {raw_file}\")\n",
    "    siab = pd.read_csv(raw_file)\n",
    "    siab.to_csv(cache_file, index=False, compression='gzip')\n",
    "    print(f\"Cached SIAB data to: {cache_file}\")\n",
    "\n",
    "print(siab.shape)"
   ]
  },
  {
   "cell_type": "code",
   "execution_count": 10,
   "id": "db0ca512-5f53-4dba-abdb-a2888bca41ba",
   "metadata": {
    "execution": {
     "iopub.execute_input": "2025-08-06T18:07:54.597836Z",
     "iopub.status.busy": "2025-08-06T18:07:54.596954Z",
     "iopub.status.idle": "2025-08-06T18:07:54.713427Z",
     "shell.execute_reply": "2025-08-06T18:07:54.712406Z"
    },
    "papermill": {
     "duration": 0.138267,
     "end_time": "2025-08-06T18:07:54.715603",
     "exception": false,
     "start_time": "2025-08-06T18:07:54.577336",
     "status": "completed"
    },
    "tags": []
   },
   "outputs": [
    {
     "data": {
      "text/html": [
       "<div>\n",
       "<style scoped>\n",
       "    .dataframe tbody tr th:only-of-type {\n",
       "        vertical-align: middle;\n",
       "    }\n",
       "\n",
       "    .dataframe tbody tr th {\n",
       "        vertical-align: top;\n",
       "    }\n",
       "\n",
       "    .dataframe thead th {\n",
       "        text-align: right;\n",
       "    }\n",
       "</style>\n",
       "<table border=\"1\" class=\"dataframe\">\n",
       "  <thead>\n",
       "    <tr style=\"text-align: right;\">\n",
       "      <th></th>\n",
       "      <th>persnr</th>\n",
       "      <th>year</th>\n",
       "      <th>nrEntry</th>\n",
       "      <th>ltue</th>\n",
       "      <th>employed_before</th>\n",
       "      <th>receipt_leh_before</th>\n",
       "      <th>receipt_lhg_before</th>\n",
       "      <th>se_before</th>\n",
       "      <th>ASU_notue_seeking_before</th>\n",
       "      <th>ASU_other_before</th>\n",
       "      <th>...</th>\n",
       "      <th>minijob_tot_dur_byage</th>\n",
       "      <th>ft_tot_dur_byage</th>\n",
       "      <th>befrist_tot_dur_byage</th>\n",
       "      <th>leih_tot_dur_byage</th>\n",
       "      <th>LHG_tot_dur_byage</th>\n",
       "      <th>LEH_tot_dur_byage</th>\n",
       "      <th>almp_tot_dur_byage</th>\n",
       "      <th>almp_aw_tot_dur_byage</th>\n",
       "      <th>se_tot_dur_byage</th>\n",
       "      <th>seeking1_tot_dur_byage</th>\n",
       "    </tr>\n",
       "  </thead>\n",
       "  <tbody>\n",
       "    <tr>\n",
       "      <th>0</th>\n",
       "      <td>7</td>\n",
       "      <td>2015</td>\n",
       "      <td>1</td>\n",
       "      <td>0</td>\n",
       "      <td>1</td>\n",
       "      <td>0</td>\n",
       "      <td>0</td>\n",
       "      <td>0</td>\n",
       "      <td>1</td>\n",
       "      <td>0</td>\n",
       "      <td>...</td>\n",
       "      <td>0.000000</td>\n",
       "      <td>0.000000</td>\n",
       "      <td>15.043478</td>\n",
       "      <td>0.000000</td>\n",
       "      <td>0.000000</td>\n",
       "      <td>0.000000</td>\n",
       "      <td>0.000000</td>\n",
       "      <td>0.000000</td>\n",
       "      <td>0.000000</td>\n",
       "      <td>0.000000</td>\n",
       "    </tr>\n",
       "    <tr>\n",
       "      <th>1</th>\n",
       "      <td>18</td>\n",
       "      <td>2010</td>\n",
       "      <td>1</td>\n",
       "      <td>1</td>\n",
       "      <td>0</td>\n",
       "      <td>0</td>\n",
       "      <td>0</td>\n",
       "      <td>0</td>\n",
       "      <td>0</td>\n",
       "      <td>0</td>\n",
       "      <td>...</td>\n",
       "      <td>0.000000</td>\n",
       "      <td>0.000000</td>\n",
       "      <td>0.000000</td>\n",
       "      <td>0.000000</td>\n",
       "      <td>0.000000</td>\n",
       "      <td>0.000000</td>\n",
       "      <td>0.000000</td>\n",
       "      <td>0.000000</td>\n",
       "      <td>0.000000</td>\n",
       "      <td>0.000000</td>\n",
       "    </tr>\n",
       "    <tr>\n",
       "      <th>2</th>\n",
       "      <td>18</td>\n",
       "      <td>2011</td>\n",
       "      <td>2</td>\n",
       "      <td>0</td>\n",
       "      <td>1</td>\n",
       "      <td>0</td>\n",
       "      <td>1</td>\n",
       "      <td>0</td>\n",
       "      <td>1</td>\n",
       "      <td>0</td>\n",
       "      <td>...</td>\n",
       "      <td>2.714286</td>\n",
       "      <td>2.714286</td>\n",
       "      <td>0.000000</td>\n",
       "      <td>0.000000</td>\n",
       "      <td>10.775510</td>\n",
       "      <td>0.000000</td>\n",
       "      <td>8.367347</td>\n",
       "      <td>0.000000</td>\n",
       "      <td>0.000000</td>\n",
       "      <td>9.836735</td>\n",
       "    </tr>\n",
       "    <tr>\n",
       "      <th>3</th>\n",
       "      <td>18</td>\n",
       "      <td>2012</td>\n",
       "      <td>3</td>\n",
       "      <td>0</td>\n",
       "      <td>1</td>\n",
       "      <td>0</td>\n",
       "      <td>1</td>\n",
       "      <td>0</td>\n",
       "      <td>1</td>\n",
       "      <td>0</td>\n",
       "      <td>...</td>\n",
       "      <td>4.200000</td>\n",
       "      <td>4.200000</td>\n",
       "      <td>0.000000</td>\n",
       "      <td>0.000000</td>\n",
       "      <td>12.100000</td>\n",
       "      <td>0.000000</td>\n",
       "      <td>9.400000</td>\n",
       "      <td>0.000000</td>\n",
       "      <td>0.000000</td>\n",
       "      <td>9.960000</td>\n",
       "    </tr>\n",
       "    <tr>\n",
       "      <th>4</th>\n",
       "      <td>18</td>\n",
       "      <td>2012</td>\n",
       "      <td>4</td>\n",
       "      <td>0</td>\n",
       "      <td>1</td>\n",
       "      <td>0</td>\n",
       "      <td>1</td>\n",
       "      <td>0</td>\n",
       "      <td>1</td>\n",
       "      <td>0</td>\n",
       "      <td>...</td>\n",
       "      <td>5.460000</td>\n",
       "      <td>5.460000</td>\n",
       "      <td>0.000000</td>\n",
       "      <td>0.000000</td>\n",
       "      <td>13.360000</td>\n",
       "      <td>0.000000</td>\n",
       "      <td>10.320000</td>\n",
       "      <td>0.000000</td>\n",
       "      <td>0.000000</td>\n",
       "      <td>10.280000</td>\n",
       "    </tr>\n",
       "    <tr>\n",
       "      <th>...</th>\n",
       "      <td>...</td>\n",
       "      <td>...</td>\n",
       "      <td>...</td>\n",
       "      <td>...</td>\n",
       "      <td>...</td>\n",
       "      <td>...</td>\n",
       "      <td>...</td>\n",
       "      <td>...</td>\n",
       "      <td>...</td>\n",
       "      <td>...</td>\n",
       "      <td>...</td>\n",
       "      <td>...</td>\n",
       "      <td>...</td>\n",
       "      <td>...</td>\n",
       "      <td>...</td>\n",
       "      <td>...</td>\n",
       "      <td>...</td>\n",
       "      <td>...</td>\n",
       "      <td>...</td>\n",
       "      <td>...</td>\n",
       "      <td>...</td>\n",
       "    </tr>\n",
       "    <tr>\n",
       "      <th>643685</th>\n",
       "      <td>1827860</td>\n",
       "      <td>2013</td>\n",
       "      <td>1</td>\n",
       "      <td>0</td>\n",
       "      <td>0</td>\n",
       "      <td>0</td>\n",
       "      <td>1</td>\n",
       "      <td>0</td>\n",
       "      <td>0</td>\n",
       "      <td>1</td>\n",
       "      <td>...</td>\n",
       "      <td>0.000000</td>\n",
       "      <td>0.000000</td>\n",
       "      <td>0.000000</td>\n",
       "      <td>0.000000</td>\n",
       "      <td>0.612903</td>\n",
       "      <td>0.000000</td>\n",
       "      <td>0.000000</td>\n",
       "      <td>0.000000</td>\n",
       "      <td>0.000000</td>\n",
       "      <td>0.000000</td>\n",
       "    </tr>\n",
       "    <tr>\n",
       "      <th>643686</th>\n",
       "      <td>1827860</td>\n",
       "      <td>2015</td>\n",
       "      <td>2</td>\n",
       "      <td>1</td>\n",
       "      <td>0</td>\n",
       "      <td>0</td>\n",
       "      <td>1</td>\n",
       "      <td>0</td>\n",
       "      <td>1</td>\n",
       "      <td>0</td>\n",
       "      <td>...</td>\n",
       "      <td>0.000000</td>\n",
       "      <td>0.000000</td>\n",
       "      <td>0.212121</td>\n",
       "      <td>0.212121</td>\n",
       "      <td>17.363636</td>\n",
       "      <td>0.000000</td>\n",
       "      <td>8.909091</td>\n",
       "      <td>0.000000</td>\n",
       "      <td>0.000000</td>\n",
       "      <td>7.121212</td>\n",
       "    </tr>\n",
       "    <tr>\n",
       "      <th>643687</th>\n",
       "      <td>1827860</td>\n",
       "      <td>2016</td>\n",
       "      <td>3</td>\n",
       "      <td>1</td>\n",
       "      <td>0</td>\n",
       "      <td>0</td>\n",
       "      <td>1</td>\n",
       "      <td>1</td>\n",
       "      <td>0</td>\n",
       "      <td>1</td>\n",
       "      <td>...</td>\n",
       "      <td>0.000000</td>\n",
       "      <td>0.000000</td>\n",
       "      <td>0.294118</td>\n",
       "      <td>0.205882</td>\n",
       "      <td>34.705882</td>\n",
       "      <td>0.000000</td>\n",
       "      <td>10.352941</td>\n",
       "      <td>1.705882</td>\n",
       "      <td>1.705882</td>\n",
       "      <td>23.911765</td>\n",
       "    </tr>\n",
       "    <tr>\n",
       "      <th>643688</th>\n",
       "      <td>1827869</td>\n",
       "      <td>2013</td>\n",
       "      <td>1</td>\n",
       "      <td>1</td>\n",
       "      <td>1</td>\n",
       "      <td>0</td>\n",
       "      <td>0</td>\n",
       "      <td>0</td>\n",
       "      <td>1</td>\n",
       "      <td>0</td>\n",
       "      <td>...</td>\n",
       "      <td>0.000000</td>\n",
       "      <td>0.000000</td>\n",
       "      <td>0.000000</td>\n",
       "      <td>0.000000</td>\n",
       "      <td>0.000000</td>\n",
       "      <td>0.525424</td>\n",
       "      <td>0.000000</td>\n",
       "      <td>0.000000</td>\n",
       "      <td>0.000000</td>\n",
       "      <td>0.000000</td>\n",
       "    </tr>\n",
       "    <tr>\n",
       "      <th>643689</th>\n",
       "      <td>1827869</td>\n",
       "      <td>2014</td>\n",
       "      <td>2</td>\n",
       "      <td>0</td>\n",
       "      <td>0</td>\n",
       "      <td>1</td>\n",
       "      <td>0</td>\n",
       "      <td>0</td>\n",
       "      <td>1</td>\n",
       "      <td>0</td>\n",
       "      <td>...</td>\n",
       "      <td>0.000000</td>\n",
       "      <td>0.666667</td>\n",
       "      <td>0.666667</td>\n",
       "      <td>0.000000</td>\n",
       "      <td>0.000000</td>\n",
       "      <td>8.950000</td>\n",
       "      <td>1.033333</td>\n",
       "      <td>0.083333</td>\n",
       "      <td>0.083333</td>\n",
       "      <td>8.133333</td>\n",
       "    </tr>\n",
       "  </tbody>\n",
       "</table>\n",
       "<p>643690 rows × 164 columns</p>\n",
       "</div>"
      ],
      "text/plain": [
       "         persnr  year  nrEntry  ltue  employed_before  receipt_leh_before  \\\n",
       "0             7  2015        1     0                1                   0   \n",
       "1            18  2010        1     1                0                   0   \n",
       "2            18  2011        2     0                1                   0   \n",
       "3            18  2012        3     0                1                   0   \n",
       "4            18  2012        4     0                1                   0   \n",
       "...         ...   ...      ...   ...              ...                 ...   \n",
       "643685  1827860  2013        1     0                0                   0   \n",
       "643686  1827860  2015        2     1                0                   0   \n",
       "643687  1827860  2016        3     1                0                   0   \n",
       "643688  1827869  2013        1     1                1                   0   \n",
       "643689  1827869  2014        2     0                0                   1   \n",
       "\n",
       "        receipt_lhg_before  se_before  ASU_notue_seeking_before  \\\n",
       "0                        0          0                         1   \n",
       "1                        0          0                         0   \n",
       "2                        1          0                         1   \n",
       "3                        1          0                         1   \n",
       "4                        1          0                         1   \n",
       "...                    ...        ...                       ...   \n",
       "643685                   1          0                         0   \n",
       "643686                   1          0                         1   \n",
       "643687                   1          1                         0   \n",
       "643688                   0          0                         1   \n",
       "643689                   0          0                         1   \n",
       "\n",
       "        ASU_other_before  ...  minijob_tot_dur_byage  ft_tot_dur_byage  \\\n",
       "0                      0  ...               0.000000          0.000000   \n",
       "1                      0  ...               0.000000          0.000000   \n",
       "2                      0  ...               2.714286          2.714286   \n",
       "3                      0  ...               4.200000          4.200000   \n",
       "4                      0  ...               5.460000          5.460000   \n",
       "...                  ...  ...                    ...               ...   \n",
       "643685                 1  ...               0.000000          0.000000   \n",
       "643686                 0  ...               0.000000          0.000000   \n",
       "643687                 1  ...               0.000000          0.000000   \n",
       "643688                 0  ...               0.000000          0.000000   \n",
       "643689                 0  ...               0.000000          0.666667   \n",
       "\n",
       "        befrist_tot_dur_byage  leih_tot_dur_byage  LHG_tot_dur_byage  \\\n",
       "0                   15.043478            0.000000           0.000000   \n",
       "1                    0.000000            0.000000           0.000000   \n",
       "2                    0.000000            0.000000          10.775510   \n",
       "3                    0.000000            0.000000          12.100000   \n",
       "4                    0.000000            0.000000          13.360000   \n",
       "...                       ...                 ...                ...   \n",
       "643685               0.000000            0.000000           0.612903   \n",
       "643686               0.212121            0.212121          17.363636   \n",
       "643687               0.294118            0.205882          34.705882   \n",
       "643688               0.000000            0.000000           0.000000   \n",
       "643689               0.666667            0.000000           0.000000   \n",
       "\n",
       "        LEH_tot_dur_byage  almp_tot_dur_byage  almp_aw_tot_dur_byage  \\\n",
       "0                0.000000            0.000000               0.000000   \n",
       "1                0.000000            0.000000               0.000000   \n",
       "2                0.000000            8.367347               0.000000   \n",
       "3                0.000000            9.400000               0.000000   \n",
       "4                0.000000           10.320000               0.000000   \n",
       "...                   ...                 ...                    ...   \n",
       "643685           0.000000            0.000000               0.000000   \n",
       "643686           0.000000            8.909091               0.000000   \n",
       "643687           0.000000           10.352941               1.705882   \n",
       "643688           0.525424            0.000000               0.000000   \n",
       "643689           8.950000            1.033333               0.083333   \n",
       "\n",
       "        se_tot_dur_byage  seeking1_tot_dur_byage  \n",
       "0               0.000000                0.000000  \n",
       "1               0.000000                0.000000  \n",
       "2               0.000000                9.836735  \n",
       "3               0.000000                9.960000  \n",
       "4               0.000000               10.280000  \n",
       "...                  ...                     ...  \n",
       "643685          0.000000                0.000000  \n",
       "643686          0.000000                7.121212  \n",
       "643687          1.705882               23.911765  \n",
       "643688          0.000000                0.000000  \n",
       "643689          0.083333                8.133333  \n",
       "\n",
       "[643690 rows x 164 columns]"
      ]
     },
     "execution_count": 10,
     "metadata": {},
     "output_type": "execute_result"
    }
   ],
   "source": [
    "siab"
   ]
  },
  {
   "cell_type": "markdown",
   "id": "997051c5-15bd-4b69-9786-c3001a3ce484",
   "metadata": {
    "papermill": {
     "duration": 0.019073,
     "end_time": "2025-08-06T18:07:54.754539",
     "exception": false,
     "start_time": "2025-08-06T18:07:54.735466",
     "status": "completed"
    },
    "tags": []
   },
   "source": [
    "# Splitting Data and Setting Training Data Size"
   ]
  },
  {
   "cell_type": "code",
   "execution_count": 11,
   "id": "aea9c6ef-6f46-42c8-85eb-5a62025c1508",
   "metadata": {
    "execution": {
     "iopub.execute_input": "2025-08-06T18:07:54.788741Z",
     "iopub.status.busy": "2025-08-06T18:07:54.788339Z",
     "iopub.status.idle": "2025-08-06T18:07:55.796614Z",
     "shell.execute_reply": "2025-08-06T18:07:55.795456Z"
    },
    "papermill": {
     "duration": 1.028705,
     "end_time": "2025-08-06T18:07:55.799047",
     "exception": false,
     "start_time": "2025-08-06T18:07:54.770342",
     "status": "completed"
    },
    "tags": []
   },
   "outputs": [],
   "source": [
    "from fairness_multiverse.universe import sample_by_year_size\n",
    "\n",
    "siab_train = sample_by_year_size(siab,\n",
    "                               training_year=universe[\"training_year\"],\n",
    "                               training_size=universe[\"training_size\"])"
   ]
  },
  {
   "cell_type": "code",
   "execution_count": 12,
   "id": "8d3afb32-789d-442c-8d5d-9f5aa8dd2eed",
   "metadata": {
    "execution": {
     "iopub.execute_input": "2025-08-06T18:07:55.852631Z",
     "iopub.status.busy": "2025-08-06T18:07:55.852099Z",
     "iopub.status.idle": "2025-08-06T18:07:55.860621Z",
     "shell.execute_reply": "2025-08-06T18:07:55.859410Z"
    },
    "papermill": {
     "duration": 0.037505,
     "end_time": "2025-08-06T18:07:55.863196",
     "exception": false,
     "start_time": "2025-08-06T18:07:55.825691",
     "status": "completed"
    },
    "tags": []
   },
   "outputs": [
    {
     "data": {
      "text/plain": [
       "(1000, 164)"
      ]
     },
     "execution_count": 12,
     "metadata": {},
     "output_type": "execute_result"
    }
   ],
   "source": [
    "siab_train.shape"
   ]
  },
  {
   "cell_type": "code",
   "execution_count": 13,
   "id": "d582db68-1a4c-47fb-84fc-08518dc1975a",
   "metadata": {
    "execution": {
     "iopub.execute_input": "2025-08-06T18:07:55.915946Z",
     "iopub.status.busy": "2025-08-06T18:07:55.915396Z",
     "iopub.status.idle": "2025-08-06T18:07:55.926040Z",
     "shell.execute_reply": "2025-08-06T18:07:55.924897Z"
    },
    "papermill": {
     "duration": 0.039486,
     "end_time": "2025-08-06T18:07:55.928070",
     "exception": false,
     "start_time": "2025-08-06T18:07:55.888584",
     "status": "completed"
    },
    "tags": []
   },
   "outputs": [
    {
     "data": {
      "text/plain": [
       "year\n",
       "2010    200\n",
       "2011    200\n",
       "2012    200\n",
       "2013    200\n",
       "2014    200\n",
       "dtype: int64"
      ]
     },
     "metadata": {},
     "output_type": "display_data"
    }
   ],
   "source": [
    "display(siab_train.groupby(\"year\").size())"
   ]
  },
  {
   "cell_type": "code",
   "execution_count": 14,
   "id": "a561edb4-d032-42cb-8256-22eac1111c64",
   "metadata": {
    "execution": {
     "iopub.execute_input": "2025-08-06T18:07:55.980866Z",
     "iopub.status.busy": "2025-08-06T18:07:55.980113Z",
     "iopub.status.idle": "2025-08-06T18:07:56.241886Z",
     "shell.execute_reply": "2025-08-06T18:07:56.240772Z"
    },
    "papermill": {
     "duration": 0.289837,
     "end_time": "2025-08-06T18:07:56.243441",
     "exception": false,
     "start_time": "2025-08-06T18:07:55.953604",
     "status": "completed"
    },
    "tags": []
   },
   "outputs": [],
   "source": [
    "#siab_train = siab_s[siab_s.year < 2015]\n",
    "siab_calib = siab[siab.year == 2015]\n",
    "siab_test = siab[siab.year == 2016]"
   ]
  },
  {
   "cell_type": "code",
   "execution_count": 15,
   "id": "472de16f-c3db-4916-846b-1f0de9cf1746",
   "metadata": {
    "execution": {
     "iopub.execute_input": "2025-08-06T18:07:56.289443Z",
     "iopub.status.busy": "2025-08-06T18:07:56.288893Z",
     "iopub.status.idle": "2025-08-06T18:07:56.297319Z",
     "shell.execute_reply": "2025-08-06T18:07:56.295650Z"
    },
    "papermill": {
     "duration": 0.03597,
     "end_time": "2025-08-06T18:07:56.299306",
     "exception": false,
     "start_time": "2025-08-06T18:07:56.263336",
     "status": "completed"
    },
    "tags": []
   },
   "outputs": [],
   "source": [
    "X_train = siab_train.iloc[:,4:164]\n",
    "y_train = siab_train.iloc[:, [3]]"
   ]
  },
  {
   "cell_type": "code",
   "execution_count": 16,
   "id": "828c96af-f43a-4ed6-ba47-8ac73a47d56c",
   "metadata": {
    "execution": {
     "iopub.execute_input": "2025-08-06T18:07:56.350737Z",
     "iopub.status.busy": "2025-08-06T18:07:56.349984Z",
     "iopub.status.idle": "2025-08-06T18:07:56.406996Z",
     "shell.execute_reply": "2025-08-06T18:07:56.405849Z"
    },
    "papermill": {
     "duration": 0.085161,
     "end_time": "2025-08-06T18:07:56.409250",
     "exception": false,
     "start_time": "2025-08-06T18:07:56.324089",
     "status": "completed"
    },
    "tags": []
   },
   "outputs": [],
   "source": [
    "X_calib = siab_calib.iloc[:,4:164]\n",
    "y_calib = siab_calib.iloc[:, [3]]"
   ]
  },
  {
   "cell_type": "code",
   "execution_count": 17,
   "id": "c34be9c3-6bd6-476e-acd3-845840e303be",
   "metadata": {
    "execution": {
     "iopub.execute_input": "2025-08-06T18:07:56.461453Z",
     "iopub.status.busy": "2025-08-06T18:07:56.460555Z",
     "iopub.status.idle": "2025-08-06T18:07:56.517720Z",
     "shell.execute_reply": "2025-08-06T18:07:56.516777Z"
    },
    "papermill": {
     "duration": 0.085162,
     "end_time": "2025-08-06T18:07:56.519398",
     "exception": false,
     "start_time": "2025-08-06T18:07:56.434236",
     "status": "completed"
    },
    "tags": []
   },
   "outputs": [],
   "source": [
    "X_test = siab_test.iloc[:,4:164]\n",
    "y_true = siab_test.iloc[:, [3]]"
   ]
  },
  {
   "cell_type": "code",
   "execution_count": 18,
   "id": "e6c733c5",
   "metadata": {
    "execution": {
     "iopub.execute_input": "2025-08-06T18:07:56.561423Z",
     "iopub.status.busy": "2025-08-06T18:07:56.560323Z",
     "iopub.status.idle": "2025-08-06T18:07:56.668621Z",
     "shell.execute_reply": "2025-08-06T18:07:56.667685Z"
    },
    "papermill": {
     "duration": 0.132181,
     "end_time": "2025-08-06T18:07:56.670007",
     "exception": false,
     "start_time": "2025-08-06T18:07:56.537826",
     "status": "completed"
    },
    "tags": []
   },
   "outputs": [],
   "source": [
    "# Auxiliary data needed downstream in the pipeline\n",
    "\n",
    "org_train = X_train.copy()\n",
    "org_test = X_test.copy()\n",
    "org_calib = X_calib.copy()"
   ]
  },
  {
   "cell_type": "markdown",
   "id": "0a4a1b33",
   "metadata": {
    "papermill": {
     "duration": 0.010009,
     "end_time": "2025-08-06T18:07:56.690701",
     "exception": false,
     "start_time": "2025-08-06T18:07:56.680692",
     "status": "completed"
    },
    "tags": []
   },
   "source": [
    "# Preprocessing Data"
   ]
  },
  {
   "cell_type": "code",
   "execution_count": 19,
   "id": "ca879031",
   "metadata": {
    "execution": {
     "iopub.execute_input": "2025-08-06T18:07:56.716368Z",
     "iopub.status.busy": "2025-08-06T18:07:56.715573Z",
     "iopub.status.idle": "2025-08-06T18:07:56.720745Z",
     "shell.execute_reply": "2025-08-06T18:07:56.720008Z"
    },
    "papermill": {
     "duration": 0.019323,
     "end_time": "2025-08-06T18:07:56.721969",
     "exception": false,
     "start_time": "2025-08-06T18:07:56.702646",
     "status": "completed"
    },
    "tags": []
   },
   "outputs": [],
   "source": [
    "# EXCLUDE PROTECTED FEATURES\n",
    "# --------------------------\n",
    "\n",
    "excluded_features = universe[\"exclude_features\"].split(\"-\")\n",
    "excluded_features_dictionary = {\n",
    "    \"nationality\": [\"maxdeutsch1\", \"maxdeutsch.Missing.\"],\n",
    "    \"sex\": [\"frau1\"],\n",
    "    \"age\": [\"age\"],\n",
    "}"
   ]
  },
  {
   "cell_type": "code",
   "execution_count": 20,
   "id": "b745ac60",
   "metadata": {
    "execution": {
     "iopub.execute_input": "2025-08-06T18:07:56.743649Z",
     "iopub.status.busy": "2025-08-06T18:07:56.742962Z",
     "iopub.status.idle": "2025-08-06T18:07:56.747881Z",
     "shell.execute_reply": "2025-08-06T18:07:56.747106Z"
    },
    "papermill": {
     "duration": 0.0168,
     "end_time": "2025-08-06T18:07:56.749168",
     "exception": false,
     "start_time": "2025-08-06T18:07:56.732368",
     "status": "completed"
    },
    "tags": []
   },
   "outputs": [],
   "source": [
    "excluded_features_columns = [\n",
    "    excluded_features_dictionary[f] for f in excluded_features if len(f) > 0 and f != \"none\"\n",
    "]"
   ]
  },
  {
   "cell_type": "code",
   "execution_count": 21,
   "id": "f84f73a2",
   "metadata": {
    "execution": {
     "iopub.execute_input": "2025-08-06T18:07:56.804859Z",
     "iopub.status.busy": "2025-08-06T18:07:56.804375Z",
     "iopub.status.idle": "2025-08-06T18:07:56.811527Z",
     "shell.execute_reply": "2025-08-06T18:07:56.810070Z"
    },
    "papermill": {
     "duration": 0.03798,
     "end_time": "2025-08-06T18:07:56.813321",
     "exception": false,
     "start_time": "2025-08-06T18:07:56.775341",
     "status": "completed"
    },
    "tags": []
   },
   "outputs": [],
   "source": [
    "from fairness_multiverse.universe import flatten_once\n",
    "\n",
    "excluded_features_columns = flatten_once(excluded_features_columns)"
   ]
  },
  {
   "cell_type": "code",
   "execution_count": 22,
   "id": "884dea22",
   "metadata": {
    "execution": {
     "iopub.execute_input": "2025-08-06T18:07:56.852873Z",
     "iopub.status.busy": "2025-08-06T18:07:56.852569Z",
     "iopub.status.idle": "2025-08-06T18:07:56.856764Z",
     "shell.execute_reply": "2025-08-06T18:07:56.855909Z"
    },
    "papermill": {
     "duration": 0.037335,
     "end_time": "2025-08-06T18:07:56.870101",
     "exception": false,
     "start_time": "2025-08-06T18:07:56.832766",
     "status": "completed"
    },
    "tags": []
   },
   "outputs": [],
   "source": [
    "if len(excluded_features_columns) > 0:\n",
    "    print(f\"Dropping features: {excluded_features_columns}\")\n",
    "    X_train.drop(excluded_features_columns, axis=1, inplace=True)"
   ]
  },
  {
   "cell_type": "code",
   "execution_count": 23,
   "id": "95ab8b16",
   "metadata": {
    "execution": {
     "iopub.execute_input": "2025-08-06T18:07:56.908289Z",
     "iopub.status.busy": "2025-08-06T18:07:56.907591Z",
     "iopub.status.idle": "2025-08-06T18:07:56.913919Z",
     "shell.execute_reply": "2025-08-06T18:07:56.912875Z"
    },
    "papermill": {
     "duration": 0.027128,
     "end_time": "2025-08-06T18:07:56.915751",
     "exception": false,
     "start_time": "2025-08-06T18:07:56.888623",
     "status": "completed"
    },
    "tags": []
   },
   "outputs": [],
   "source": [
    "if len(excluded_features_columns) > 0:\n",
    "    print(f\"Dropping features: {excluded_features_columns}\")\n",
    "    X_test.drop(excluded_features_columns, axis=1, inplace=True)"
   ]
  },
  {
   "cell_type": "code",
   "execution_count": 24,
   "id": "1853aaf5-fb9f-46cb-a2b5-8ea4ae2237e4",
   "metadata": {
    "execution": {
     "iopub.execute_input": "2025-08-06T18:07:56.956010Z",
     "iopub.status.busy": "2025-08-06T18:07:56.955136Z",
     "iopub.status.idle": "2025-08-06T18:07:56.961101Z",
     "shell.execute_reply": "2025-08-06T18:07:56.960094Z"
    },
    "papermill": {
     "duration": 0.027493,
     "end_time": "2025-08-06T18:07:56.962659",
     "exception": false,
     "start_time": "2025-08-06T18:07:56.935166",
     "status": "completed"
    },
    "tags": []
   },
   "outputs": [],
   "source": [
    "if len(excluded_features_columns) > 0:\n",
    "    print(f\"Dropping features: {excluded_features_columns}\")\n",
    "    X_calib.drop(excluded_features_columns, axis=1, inplace=True)"
   ]
  },
  {
   "cell_type": "code",
   "execution_count": 25,
   "id": "76c4dc6d",
   "metadata": {
    "execution": {
     "iopub.execute_input": "2025-08-06T18:07:57.001425Z",
     "iopub.status.busy": "2025-08-06T18:07:57.001115Z",
     "iopub.status.idle": "2025-08-06T18:07:57.005707Z",
     "shell.execute_reply": "2025-08-06T18:07:57.004944Z"
    },
    "papermill": {
     "duration": 0.025981,
     "end_time": "2025-08-06T18:07:57.007062",
     "exception": false,
     "start_time": "2025-08-06T18:07:56.981081",
     "status": "completed"
    },
    "tags": []
   },
   "outputs": [],
   "source": [
    "# EXCLUDE CERTAIN SUBGROUPS\n",
    "# -------------------------\n",
    "\n",
    "mode = universe.get(\"exclude_subgroups\", \"keep-all\") # Defaults to \"keep-all\" if the key is missing."
   ]
  },
  {
   "cell_type": "code",
   "execution_count": 26,
   "id": "21994072",
   "metadata": {
    "execution": {
     "iopub.execute_input": "2025-08-06T18:07:57.029675Z",
     "iopub.status.busy": "2025-08-06T18:07:57.029176Z",
     "iopub.status.idle": "2025-08-06T18:07:57.035331Z",
     "shell.execute_reply": "2025-08-06T18:07:57.034585Z"
    },
    "papermill": {
     "duration": 0.018511,
     "end_time": "2025-08-06T18:07:57.036593",
     "exception": false,
     "start_time": "2025-08-06T18:07:57.018082",
     "status": "completed"
    },
    "tags": []
   },
   "outputs": [],
   "source": [
    "if mode == \"keep-all\":\n",
    "    keep_mask = pd.Series(True, index=org_train.index)\n",
    "\n",
    "elif mode == \"drop-non-german\":\n",
    "    keep_mask = (org_train[\"maxdeutsch1\"] == 1) & (org_train[\"maxdeutsch.Missing.\"] == 0)\n",
    "\n",
    "else:\n",
    "    raise ValueError(f\"Unsupported mode for exclude_subgroups: {mode}\")"
   ]
  },
  {
   "cell_type": "code",
   "execution_count": 27,
   "id": "71651440",
   "metadata": {
    "execution": {
     "iopub.execute_input": "2025-08-06T18:07:57.072321Z",
     "iopub.status.busy": "2025-08-06T18:07:57.071815Z",
     "iopub.status.idle": "2025-08-06T18:07:57.079144Z",
     "shell.execute_reply": "2025-08-06T18:07:57.078317Z"
    },
    "papermill": {
     "duration": 0.030593,
     "end_time": "2025-08-06T18:07:57.080741",
     "exception": false,
     "start_time": "2025-08-06T18:07:57.050148",
     "status": "completed"
    },
    "tags": []
   },
   "outputs": [
    {
     "name": "stdout",
     "output_type": "stream",
     "text": [
      "Dropping 131 rows (13.10%) where mode='drop-non-german'\n"
     ]
    }
   ],
   "source": [
    "n_drop = (~keep_mask).sum() # Calculates how many rows are set to be dropped\n",
    "if n_drop > 0:\n",
    "    pct = n_drop / len(keep_mask) * 100\n",
    "    print(f\"Dropping {n_drop} rows ({pct:.2f}%) where mode='{mode}'\")"
   ]
  },
  {
   "cell_type": "code",
   "execution_count": 28,
   "id": "5fb8eee5",
   "metadata": {
    "execution": {
     "iopub.execute_input": "2025-08-06T18:07:57.119878Z",
     "iopub.status.busy": "2025-08-06T18:07:57.119215Z",
     "iopub.status.idle": "2025-08-06T18:07:57.125881Z",
     "shell.execute_reply": "2025-08-06T18:07:57.124932Z"
    },
    "papermill": {
     "duration": 0.029759,
     "end_time": "2025-08-06T18:07:57.127481",
     "exception": false,
     "start_time": "2025-08-06T18:07:57.097722",
     "status": "completed"
    },
    "tags": []
   },
   "outputs": [],
   "source": [
    "X_train = X_train[keep_mask]"
   ]
  },
  {
   "cell_type": "code",
   "execution_count": 29,
   "id": "b202bb3a",
   "metadata": {
    "execution": {
     "iopub.execute_input": "2025-08-06T18:07:57.167481Z",
     "iopub.status.busy": "2025-08-06T18:07:57.166800Z",
     "iopub.status.idle": "2025-08-06T18:07:57.173246Z",
     "shell.execute_reply": "2025-08-06T18:07:57.172314Z"
    },
    "papermill": {
     "duration": 0.029686,
     "end_time": "2025-08-06T18:07:57.174801",
     "exception": false,
     "start_time": "2025-08-06T18:07:57.145115",
     "status": "completed"
    },
    "tags": []
   },
   "outputs": [],
   "source": [
    "y_train = y_train[keep_mask]"
   ]
  },
  {
   "cell_type": "markdown",
   "id": "493e2ac3",
   "metadata": {
    "papermill": {
     "duration": 0.020325,
     "end_time": "2025-08-06T18:07:57.212100",
     "exception": false,
     "start_time": "2025-08-06T18:07:57.191775",
     "status": "completed"
    },
    "tags": []
   },
   "source": [
    "# Model Training"
   ]
  },
  {
   "cell_type": "code",
   "execution_count": 30,
   "id": "679e1268",
   "metadata": {
    "execution": {
     "iopub.execute_input": "2025-08-06T18:07:57.245406Z",
     "iopub.status.busy": "2025-08-06T18:07:57.245057Z",
     "iopub.status.idle": "2025-08-06T18:07:57.344521Z",
     "shell.execute_reply": "2025-08-06T18:07:57.343554Z"
    },
    "papermill": {
     "duration": 0.115782,
     "end_time": "2025-08-06T18:07:57.346509",
     "exception": false,
     "start_time": "2025-08-06T18:07:57.230727",
     "status": "completed"
    },
    "tags": []
   },
   "outputs": [],
   "source": [
    "from sklearn.linear_model import LogisticRegression\n",
    "from sklearn.ensemble import GradientBoostingClassifier, RandomForestClassifier\n",
    "\n",
    "if (universe[\"model\"] == \"logreg\"):\n",
    "    model = LogisticRegression() #penalty=\"none\", solver=\"newton-cg\", max_iter=1)\n",
    "elif (universe[\"model\"] == \"penalized_logreg\"):\n",
    "    model = LogisticRegression(penalty=\"l2\", C=0.1) #, solver=\"newton-cg\", max_iter=1)\n",
    "elif (universe[\"model\"] == \"rf\"):\n",
    "    model = RandomForestClassifier() # n_estimators=100, n_jobs=-1\n",
    "elif (universe[\"model\"] == \"gbm\"):\n",
    "    model = GradientBoostingClassifier()\n",
    "elif (universe[\"model\"] == \"elasticnet\"):\n",
    "    model = LogisticRegression(penalty = 'elasticnet', solver = 'saga', l1_ratio = 0.5) # max_iter=5000\n",
    "else:\n",
    "    raise \"Unsupported universe.model\""
   ]
  },
  {
   "cell_type": "code",
   "execution_count": 31,
   "id": "0cc8f744",
   "metadata": {
    "execution": {
     "iopub.execute_input": "2025-08-06T18:07:57.390607Z",
     "iopub.status.busy": "2025-08-06T18:07:57.389945Z",
     "iopub.status.idle": "2025-08-06T18:07:57.397133Z",
     "shell.execute_reply": "2025-08-06T18:07:57.396308Z"
    },
    "papermill": {
     "duration": 0.031023,
     "end_time": "2025-08-06T18:07:57.398847",
     "exception": false,
     "start_time": "2025-08-06T18:07:57.367824",
     "status": "completed"
    },
    "tags": []
   },
   "outputs": [],
   "source": [
    "from sklearn.pipeline import Pipeline\n",
    "from sklearn.preprocessing import StandardScaler\n",
    "\n",
    "model = Pipeline([\n",
    "    #(\"continuous_processor\", continuous_processor),\n",
    "    #(\"categorical_preprocessor\", categorical_preprocessor),\n",
    "    (\"scale\", StandardScaler() if universe[\"scale\"] == \"scale\" else None), \n",
    "    (\"model\", model),\n",
    "])"
   ]
  },
  {
   "cell_type": "code",
   "execution_count": 32,
   "id": "9442c04d",
   "metadata": {
    "execution": {
     "iopub.execute_input": "2025-08-06T18:07:57.440954Z",
     "iopub.status.busy": "2025-08-06T18:07:57.440604Z",
     "iopub.status.idle": "2025-08-06T18:07:57.792513Z",
     "shell.execute_reply": "2025-08-06T18:07:57.791616Z"
    },
    "papermill": {
     "duration": 0.375176,
     "end_time": "2025-08-06T18:07:57.794193",
     "exception": false,
     "start_time": "2025-08-06T18:07:57.419017",
     "status": "completed"
    },
    "tags": []
   },
   "outputs": [
    {
     "data": {
      "text/html": [
       "<style>#sk-container-id-1 {color: black;background-color: white;}#sk-container-id-1 pre{padding: 0;}#sk-container-id-1 div.sk-toggleable {background-color: white;}#sk-container-id-1 label.sk-toggleable__label {cursor: pointer;display: block;width: 100%;margin-bottom: 0;padding: 0.3em;box-sizing: border-box;text-align: center;}#sk-container-id-1 label.sk-toggleable__label-arrow:before {content: \"▸\";float: left;margin-right: 0.25em;color: #696969;}#sk-container-id-1 label.sk-toggleable__label-arrow:hover:before {color: black;}#sk-container-id-1 div.sk-estimator:hover label.sk-toggleable__label-arrow:before {color: black;}#sk-container-id-1 div.sk-toggleable__content {max-height: 0;max-width: 0;overflow: hidden;text-align: left;background-color: #f0f8ff;}#sk-container-id-1 div.sk-toggleable__content pre {margin: 0.2em;color: black;border-radius: 0.25em;background-color: #f0f8ff;}#sk-container-id-1 input.sk-toggleable__control:checked~div.sk-toggleable__content {max-height: 200px;max-width: 100%;overflow: auto;}#sk-container-id-1 input.sk-toggleable__control:checked~label.sk-toggleable__label-arrow:before {content: \"▾\";}#sk-container-id-1 div.sk-estimator input.sk-toggleable__control:checked~label.sk-toggleable__label {background-color: #d4ebff;}#sk-container-id-1 div.sk-label input.sk-toggleable__control:checked~label.sk-toggleable__label {background-color: #d4ebff;}#sk-container-id-1 input.sk-hidden--visually {border: 0;clip: rect(1px 1px 1px 1px);clip: rect(1px, 1px, 1px, 1px);height: 1px;margin: -1px;overflow: hidden;padding: 0;position: absolute;width: 1px;}#sk-container-id-1 div.sk-estimator {font-family: monospace;background-color: #f0f8ff;border: 1px dotted black;border-radius: 0.25em;box-sizing: border-box;margin-bottom: 0.5em;}#sk-container-id-1 div.sk-estimator:hover {background-color: #d4ebff;}#sk-container-id-1 div.sk-parallel-item::after {content: \"\";width: 100%;border-bottom: 1px solid gray;flex-grow: 1;}#sk-container-id-1 div.sk-label:hover label.sk-toggleable__label {background-color: #d4ebff;}#sk-container-id-1 div.sk-serial::before {content: \"\";position: absolute;border-left: 1px solid gray;box-sizing: border-box;top: 0;bottom: 0;left: 50%;z-index: 0;}#sk-container-id-1 div.sk-serial {display: flex;flex-direction: column;align-items: center;background-color: white;padding-right: 0.2em;padding-left: 0.2em;position: relative;}#sk-container-id-1 div.sk-item {position: relative;z-index: 1;}#sk-container-id-1 div.sk-parallel {display: flex;align-items: stretch;justify-content: center;background-color: white;position: relative;}#sk-container-id-1 div.sk-item::before, #sk-container-id-1 div.sk-parallel-item::before {content: \"\";position: absolute;border-left: 1px solid gray;box-sizing: border-box;top: 0;bottom: 0;left: 50%;z-index: -1;}#sk-container-id-1 div.sk-parallel-item {display: flex;flex-direction: column;z-index: 1;position: relative;background-color: white;}#sk-container-id-1 div.sk-parallel-item:first-child::after {align-self: flex-end;width: 50%;}#sk-container-id-1 div.sk-parallel-item:last-child::after {align-self: flex-start;width: 50%;}#sk-container-id-1 div.sk-parallel-item:only-child::after {width: 0;}#sk-container-id-1 div.sk-dashed-wrapped {border: 1px dashed gray;margin: 0 0.4em 0.5em 0.4em;box-sizing: border-box;padding-bottom: 0.4em;background-color: white;}#sk-container-id-1 div.sk-label label {font-family: monospace;font-weight: bold;display: inline-block;line-height: 1.2em;}#sk-container-id-1 div.sk-label-container {text-align: center;}#sk-container-id-1 div.sk-container {/* jupyter's `normalize.less` sets `[hidden] { display: none; }` but bootstrap.min.css set `[hidden] { display: none !important; }` so we also need the `!important` here to be able to override the default hidden behavior on the sphinx rendered scikit-learn.org. See: https://github.com/scikit-learn/scikit-learn/issues/21755 */display: inline-block !important;position: relative;}#sk-container-id-1 div.sk-text-repr-fallback {display: none;}</style><div id=\"sk-container-id-1\" class=\"sk-top-container\"><div class=\"sk-text-repr-fallback\"><pre>Pipeline(steps=[(&#x27;scale&#x27;, StandardScaler()),\n",
       "                (&#x27;model&#x27;, RandomForestClassifier())])</pre><b>In a Jupyter environment, please rerun this cell to show the HTML representation or trust the notebook. <br />On GitHub, the HTML representation is unable to render, please try loading this page with nbviewer.org.</b></div><div class=\"sk-container\" hidden><div class=\"sk-item sk-dashed-wrapped\"><div class=\"sk-label-container\"><div class=\"sk-label sk-toggleable\"><input class=\"sk-toggleable__control sk-hidden--visually\" id=\"sk-estimator-id-1\" type=\"checkbox\" ><label for=\"sk-estimator-id-1\" class=\"sk-toggleable__label sk-toggleable__label-arrow\">Pipeline</label><div class=\"sk-toggleable__content\"><pre>Pipeline(steps=[(&#x27;scale&#x27;, StandardScaler()),\n",
       "                (&#x27;model&#x27;, RandomForestClassifier())])</pre></div></div></div><div class=\"sk-serial\"><div class=\"sk-item\"><div class=\"sk-estimator sk-toggleable\"><input class=\"sk-toggleable__control sk-hidden--visually\" id=\"sk-estimator-id-2\" type=\"checkbox\" ><label for=\"sk-estimator-id-2\" class=\"sk-toggleable__label sk-toggleable__label-arrow\">StandardScaler</label><div class=\"sk-toggleable__content\"><pre>StandardScaler()</pre></div></div></div><div class=\"sk-item\"><div class=\"sk-estimator sk-toggleable\"><input class=\"sk-toggleable__control sk-hidden--visually\" id=\"sk-estimator-id-3\" type=\"checkbox\" ><label for=\"sk-estimator-id-3\" class=\"sk-toggleable__label sk-toggleable__label-arrow\">RandomForestClassifier</label><div class=\"sk-toggleable__content\"><pre>RandomForestClassifier()</pre></div></div></div></div></div></div></div>"
      ],
      "text/plain": [
       "Pipeline(steps=[('scale', StandardScaler()),\n",
       "                ('model', RandomForestClassifier())])"
      ]
     },
     "execution_count": 32,
     "metadata": {},
     "output_type": "execute_result"
    }
   ],
   "source": [
    "model.fit(X_train, y_train.values.ravel())"
   ]
  },
  {
   "cell_type": "code",
   "execution_count": 33,
   "id": "a7cf2e16",
   "metadata": {
    "execution": {
     "iopub.execute_input": "2025-08-06T18:07:57.835795Z",
     "iopub.status.busy": "2025-08-06T18:07:57.834924Z",
     "iopub.status.idle": "2025-08-06T18:07:59.556960Z",
     "shell.execute_reply": "2025-08-06T18:07:59.555925Z"
    },
    "papermill": {
     "duration": 1.744994,
     "end_time": "2025-08-06T18:07:59.558615",
     "exception": false,
     "start_time": "2025-08-06T18:07:57.813621",
     "status": "completed"
    },
    "tags": []
   },
   "outputs": [
    {
     "data": {
      "text/plain": [
       "0.8608627800691115"
      ]
     },
     "execution_count": 33,
     "metadata": {},
     "output_type": "execute_result"
    }
   ],
   "source": [
    "from fairness_multiverse.universe import predict_w_threshold\n",
    "\n",
    "probs_test = model.predict_proba(X_test)\n",
    "\n",
    "'''\n",
    "Below code returns a boolean array (or binary 0/1 array depending on how it’s used) where each element \n",
    "is True if the probability of class 1 is greater than or equal to the threshold, and False otherwise.\n",
    "'''\n",
    "y_pred_default = predict_w_threshold(probs_test, 0.5)\n",
    "\n",
    "from sklearn.metrics import accuracy_score\n",
    "\n",
    "# Naive prediction\n",
    "accuracy_score(y_true = y_true, y_pred = y_pred_default)"
   ]
  },
  {
   "cell_type": "code",
   "execution_count": 34,
   "id": "081964c3",
   "metadata": {
    "execution": {
     "iopub.execute_input": "2025-08-06T18:07:59.604238Z",
     "iopub.status.busy": "2025-08-06T18:07:59.602495Z",
     "iopub.status.idle": "2025-08-06T18:08:01.166800Z",
     "shell.execute_reply": "2025-08-06T18:08:01.166100Z"
    },
    "papermill": {
     "duration": 1.587288,
     "end_time": "2025-08-06T18:08:01.167980",
     "exception": false,
     "start_time": "2025-08-06T18:07:59.580692",
     "status": "completed"
    },
    "tags": []
   },
   "outputs": [
    {
     "data": {
      "text/plain": [
       "array([0, 0, 0, ..., 0, 0, 0])"
      ]
     },
     "execution_count": 34,
     "metadata": {},
     "output_type": "execute_result"
    }
   ],
   "source": [
    "model.predict(X_test)"
   ]
  },
  {
   "cell_type": "markdown",
   "id": "56c9705b",
   "metadata": {
    "papermill": {
     "duration": 0.010332,
     "end_time": "2025-08-06T18:08:01.189487",
     "exception": false,
     "start_time": "2025-08-06T18:08:01.179155",
     "status": "completed"
    },
    "tags": []
   },
   "source": [
    "# Conformal Prediction"
   ]
  },
  {
   "cell_type": "code",
   "execution_count": 35,
   "id": "160ec6ff",
   "metadata": {
    "execution": {
     "iopub.execute_input": "2025-08-06T18:08:01.211706Z",
     "iopub.status.busy": "2025-08-06T18:08:01.211212Z",
     "iopub.status.idle": "2025-08-06T18:08:01.216458Z",
     "shell.execute_reply": "2025-08-06T18:08:01.215641Z"
    },
    "papermill": {
     "duration": 0.019917,
     "end_time": "2025-08-06T18:08:01.219767",
     "exception": false,
     "start_time": "2025-08-06T18:08:01.199850",
     "status": "completed"
    },
    "tags": []
   },
   "outputs": [],
   "source": [
    "# Miscoverage level for conformal prediction (10% allowed error rate => 90% target coverage)\n",
    "alpha = 0.1"
   ]
  },
  {
   "cell_type": "code",
   "execution_count": 36,
   "id": "eadf4555-3dd3-440e-8e35-f82a4ad9f855",
   "metadata": {
    "execution": {
     "iopub.execute_input": "2025-08-06T18:08:01.261931Z",
     "iopub.status.busy": "2025-08-06T18:08:01.261460Z",
     "iopub.status.idle": "2025-08-06T18:08:03.049388Z",
     "shell.execute_reply": "2025-08-06T18:08:03.048569Z"
    },
    "papermill": {
     "duration": 1.809808,
     "end_time": "2025-08-06T18:08:03.051497",
     "exception": false,
     "start_time": "2025-08-06T18:08:01.241689",
     "status": "completed"
    },
    "tags": []
   },
   "outputs": [],
   "source": [
    "probs_calib = model.predict_proba(X_calib)"
   ]
  },
  {
   "cell_type": "code",
   "execution_count": 37,
   "id": "2ed93547-6d5d-4983-9b36-1ecb300da49a",
   "metadata": {
    "execution": {
     "iopub.execute_input": "2025-08-06T18:08:03.099888Z",
     "iopub.status.busy": "2025-08-06T18:08:03.099413Z",
     "iopub.status.idle": "2025-08-06T18:08:03.104943Z",
     "shell.execute_reply": "2025-08-06T18:08:03.103931Z"
    },
    "papermill": {
     "duration": 0.030453,
     "end_time": "2025-08-06T18:08:03.106820",
     "exception": false,
     "start_time": "2025-08-06T18:08:03.076367",
     "status": "completed"
    },
    "tags": []
   },
   "outputs": [],
   "source": [
    "y_calib = y_calib.values.ravel().astype(int)"
   ]
  },
  {
   "cell_type": "code",
   "execution_count": 38,
   "id": "65d1320d-f588-4b38-9072-62af1ae97f7d",
   "metadata": {
    "execution": {
     "iopub.execute_input": "2025-08-06T18:08:03.147966Z",
     "iopub.status.busy": "2025-08-06T18:08:03.147300Z",
     "iopub.status.idle": "2025-08-06T18:08:03.154944Z",
     "shell.execute_reply": "2025-08-06T18:08:03.154062Z"
    },
    "papermill": {
     "duration": 0.030197,
     "end_time": "2025-08-06T18:08:03.156601",
     "exception": false,
     "start_time": "2025-08-06T18:08:03.126404",
     "status": "completed"
    },
    "tags": []
   },
   "outputs": [],
   "source": [
    "from fairness_multiverse.conformal import compute_nc_scores\n",
    "\n",
    "# Compute nonconformity scores on calibration set (1 - probability of true class)\n",
    "nc_scores = compute_nc_scores(probs_calib, y_calib)"
   ]
  },
  {
   "cell_type": "code",
   "execution_count": 39,
   "id": "df3b8ca3-53b7-43d5-9667-7c85da7aeda2",
   "metadata": {
    "execution": {
     "iopub.execute_input": "2025-08-06T18:08:03.191692Z",
     "iopub.status.busy": "2025-08-06T18:08:03.191187Z",
     "iopub.status.idle": "2025-08-06T18:08:03.197244Z",
     "shell.execute_reply": "2025-08-06T18:08:03.196546Z"
    },
    "papermill": {
     "duration": 0.022041,
     "end_time": "2025-08-06T18:08:03.198563",
     "exception": false,
     "start_time": "2025-08-06T18:08:03.176522",
     "status": "completed"
    },
    "tags": []
   },
   "outputs": [],
   "source": [
    "from fairness_multiverse.conformal import find_threshold\n",
    "\n",
    "# Find conformal threshold q_hat for the given alpha (split conformal method)\n",
    "q_hat = find_threshold(nc_scores, alpha)"
   ]
  },
  {
   "cell_type": "code",
   "execution_count": 40,
   "id": "4d29e6c1-0ef6-4aa4-b8fe-4fe79b0d033a",
   "metadata": {
    "execution": {
     "iopub.execute_input": "2025-08-06T18:08:03.222208Z",
     "iopub.status.busy": "2025-08-06T18:08:03.221858Z",
     "iopub.status.idle": "2025-08-06T18:08:03.228449Z",
     "shell.execute_reply": "2025-08-06T18:08:03.227293Z"
    },
    "papermill": {
     "duration": 0.020207,
     "end_time": "2025-08-06T18:08:03.230470",
     "exception": false,
     "start_time": "2025-08-06T18:08:03.210263",
     "status": "completed"
    },
    "tags": []
   },
   "outputs": [
    {
     "data": {
      "text/plain": [
       "0.6599999999999999"
      ]
     },
     "execution_count": 40,
     "metadata": {},
     "output_type": "execute_result"
    }
   ],
   "source": [
    "q_hat"
   ]
  },
  {
   "cell_type": "code",
   "execution_count": 41,
   "id": "92460794-cdac-4be2-ba28-f28c0515a6fb",
   "metadata": {
    "execution": {
     "iopub.execute_input": "2025-08-06T18:08:03.273547Z",
     "iopub.status.busy": "2025-08-06T18:08:03.272510Z",
     "iopub.status.idle": "2025-08-06T18:08:05.970251Z",
     "shell.execute_reply": "2025-08-06T18:08:05.968918Z"
    },
    "papermill": {
     "duration": 2.721619,
     "end_time": "2025-08-06T18:08:05.972710",
     "exception": false,
     "start_time": "2025-08-06T18:08:03.251091",
     "status": "completed"
    },
    "tags": []
   },
   "outputs": [],
   "source": [
    "from fairness_multiverse.conformal import predict_conformal_sets\n",
    "\n",
    "# Generate prediction sets for each test example\n",
    "pred_sets = predict_conformal_sets(model, X_test, q_hat)"
   ]
  },
  {
   "cell_type": "code",
   "execution_count": 42,
   "id": "d90c9a65-e6db-4f5d-80cd-e68fb7e46829",
   "metadata": {
    "execution": {
     "iopub.execute_input": "2025-08-06T18:08:06.034479Z",
     "iopub.status.busy": "2025-08-06T18:08:06.033227Z",
     "iopub.status.idle": "2025-08-06T18:08:06.041718Z",
     "shell.execute_reply": "2025-08-06T18:08:06.040444Z"
    },
    "papermill": {
     "duration": 0.045192,
     "end_time": "2025-08-06T18:08:06.044257",
     "exception": false,
     "start_time": "2025-08-06T18:08:05.999065",
     "status": "completed"
    },
    "tags": []
   },
   "outputs": [],
   "source": [
    "y_true = y_true.squeeze()"
   ]
  },
  {
   "cell_type": "code",
   "execution_count": 43,
   "id": "3a58a54a-1e68-46b9-927a-df01f18aebc8",
   "metadata": {
    "execution": {
     "iopub.execute_input": "2025-08-06T18:08:06.093051Z",
     "iopub.status.busy": "2025-08-06T18:08:06.091949Z",
     "iopub.status.idle": "2025-08-06T18:08:06.918953Z",
     "shell.execute_reply": "2025-08-06T18:08:06.917953Z"
    },
    "papermill": {
     "duration": 0.851141,
     "end_time": "2025-08-06T18:08:06.920699",
     "exception": false,
     "start_time": "2025-08-06T18:08:06.069558",
     "status": "completed"
    },
    "tags": []
   },
   "outputs": [],
   "source": [
    "from fairness_multiverse.conformal import evaluate_sets\n",
    "\n",
    "# Evaluate coverage and average set size on test data\n",
    "metrics = evaluate_sets(pred_sets, y_true)"
   ]
  },
  {
   "cell_type": "markdown",
   "id": "2b569c12-9aaa-4c88-98c9-bbcd0cf3ebb8",
   "metadata": {
    "papermill": {
     "duration": 0.021375,
     "end_time": "2025-08-06T18:08:06.962270",
     "exception": false,
     "start_time": "2025-08-06T18:08:06.940895",
     "status": "completed"
    },
    "tags": []
   },
   "source": [
    "# CP Metrics"
   ]
  },
  {
   "cell_type": "code",
   "execution_count": 44,
   "id": "5ce0a5cb-201f-45a0-ade5-94c7f0bd6095",
   "metadata": {
    "execution": {
     "iopub.execute_input": "2025-08-06T18:08:07.009431Z",
     "iopub.status.busy": "2025-08-06T18:08:07.008900Z",
     "iopub.status.idle": "2025-08-06T18:08:07.016580Z",
     "shell.execute_reply": "2025-08-06T18:08:07.015671Z"
    },
    "papermill": {
     "duration": 0.034137,
     "end_time": "2025-08-06T18:08:07.018019",
     "exception": false,
     "start_time": "2025-08-06T18:08:06.983882",
     "status": "completed"
    },
    "tags": []
   },
   "outputs": [
    {
     "data": {
      "text/plain": [
       "{'coverage': 0.91450228514101, 'avg_size': 1.1604503399843942}"
      ]
     },
     "execution_count": 44,
     "metadata": {},
     "output_type": "execute_result"
    }
   ],
   "source": [
    "metrics"
   ]
  },
  {
   "cell_type": "code",
   "execution_count": 45,
   "id": "9b9a838d-31c9-430b-ae14-12baee460d17",
   "metadata": {
    "execution": {
     "iopub.execute_input": "2025-08-06T18:08:07.060648Z",
     "iopub.status.busy": "2025-08-06T18:08:07.060146Z",
     "iopub.status.idle": "2025-08-06T18:08:07.066963Z",
     "shell.execute_reply": "2025-08-06T18:08:07.066063Z"
    },
    "papermill": {
     "duration": 0.029997,
     "end_time": "2025-08-06T18:08:07.068531",
     "exception": false,
     "start_time": "2025-08-06T18:08:07.038534",
     "status": "completed"
    },
    "tags": []
   },
   "outputs": [],
   "source": [
    "example_universe = universe.copy()\n",
    "universe_training_year = example_universe.get(\"training_year\")\n",
    "universe_training_size = example_universe.get(\"training_size\")\n",
    "universe_scale = example_universe.get(\"scale\")\n",
    "universe_model = example_universe.get(\"model\")\n",
    "universe_exclude_features = example_universe.get(\"exclude_features\")\n",
    "universe_exclude_subgroups = example_universe.get(\"exclude_subgroups\")"
   ]
  },
  {
   "cell_type": "code",
   "execution_count": 46,
   "id": "f4b6a8ac-9dc0-4245-8a91-5b3b5999c4f9",
   "metadata": {
    "execution": {
     "iopub.execute_input": "2025-08-06T18:08:07.113323Z",
     "iopub.status.busy": "2025-08-06T18:08:07.112823Z",
     "iopub.status.idle": "2025-08-06T18:08:07.119442Z",
     "shell.execute_reply": "2025-08-06T18:08:07.118566Z"
    },
    "papermill": {
     "duration": 0.031297,
     "end_time": "2025-08-06T18:08:07.120973",
     "exception": false,
     "start_time": "2025-08-06T18:08:07.089676",
     "status": "completed"
    },
    "tags": []
   },
   "outputs": [],
   "source": [
    "cp_metrics_dict = {\n",
    "    \"universe_id\": [universe_id],\n",
    "    \"universe_training_year\": [universe_training_year],\n",
    "    \"universe_training_size\": [universe_training_size],\n",
    "    \"universe_scale\": [universe_scale],\n",
    "    \"universe_model\": [universe_model],\n",
    "    \"universe_exclude_features\": [universe_exclude_features],\n",
    "    \"universe_exclude_subgroups\": [universe_exclude_subgroups],\n",
    "    \"q_hat\": [q_hat],\n",
    "    \"coverage\": [metrics[\"coverage\"]],\n",
    "    \"avg_size\": [metrics[\"avg_size\"]],\n",
    "}"
   ]
  },
  {
   "cell_type": "code",
   "execution_count": 47,
   "id": "33007efc-14e9-4ec6-97ac-56a455c82265",
   "metadata": {
    "execution": {
     "iopub.execute_input": "2025-08-06T18:08:07.163183Z",
     "iopub.status.busy": "2025-08-06T18:08:07.162694Z",
     "iopub.status.idle": "2025-08-06T18:08:07.169010Z",
     "shell.execute_reply": "2025-08-06T18:08:07.168008Z"
    },
    "papermill": {
     "duration": 0.028998,
     "end_time": "2025-08-06T18:08:07.170561",
     "exception": false,
     "start_time": "2025-08-06T18:08:07.141563",
     "status": "completed"
    },
    "tags": []
   },
   "outputs": [],
   "source": [
    "cp_metrics_df = pd.DataFrame(cp_metrics_dict)"
   ]
  },
  {
   "cell_type": "code",
   "execution_count": 48,
   "id": "db12611b-57b2-4910-b9d0-355adfd6e7bf",
   "metadata": {
    "execution": {
     "iopub.execute_input": "2025-08-06T18:08:07.213471Z",
     "iopub.status.busy": "2025-08-06T18:08:07.212981Z",
     "iopub.status.idle": "2025-08-06T18:08:07.230563Z",
     "shell.execute_reply": "2025-08-06T18:08:07.229683Z"
    },
    "papermill": {
     "duration": 0.04115,
     "end_time": "2025-08-06T18:08:07.232205",
     "exception": false,
     "start_time": "2025-08-06T18:08:07.191055",
     "status": "completed"
    },
    "tags": []
   },
   "outputs": [
    {
     "data": {
      "text/html": [
       "<div>\n",
       "<style scoped>\n",
       "    .dataframe tbody tr th:only-of-type {\n",
       "        vertical-align: middle;\n",
       "    }\n",
       "\n",
       "    .dataframe tbody tr th {\n",
       "        vertical-align: top;\n",
       "    }\n",
       "\n",
       "    .dataframe thead th {\n",
       "        text-align: right;\n",
       "    }\n",
       "</style>\n",
       "<table border=\"1\" class=\"dataframe\">\n",
       "  <thead>\n",
       "    <tr style=\"text-align: right;\">\n",
       "      <th></th>\n",
       "      <th>universe_id</th>\n",
       "      <th>universe_training_year</th>\n",
       "      <th>universe_training_size</th>\n",
       "      <th>universe_scale</th>\n",
       "      <th>universe_model</th>\n",
       "      <th>universe_exclude_features</th>\n",
       "      <th>universe_exclude_subgroups</th>\n",
       "      <th>q_hat</th>\n",
       "      <th>coverage</th>\n",
       "      <th>avg_size</th>\n",
       "    </tr>\n",
       "  </thead>\n",
       "  <tbody>\n",
       "    <tr>\n",
       "      <th>0</th>\n",
       "      <td>3801de5e81fd93924dffc1115d61a0cd</td>\n",
       "      <td>2010_14</td>\n",
       "      <td>1k</td>\n",
       "      <td>scale</td>\n",
       "      <td>rf</td>\n",
       "      <td>none</td>\n",
       "      <td>drop-non-german</td>\n",
       "      <td>0.66</td>\n",
       "      <td>0.914502</td>\n",
       "      <td>1.16045</td>\n",
       "    </tr>\n",
       "  </tbody>\n",
       "</table>\n",
       "</div>"
      ],
      "text/plain": [
       "                        universe_id universe_training_year  \\\n",
       "0  3801de5e81fd93924dffc1115d61a0cd                2010_14   \n",
       "\n",
       "  universe_training_size universe_scale universe_model  \\\n",
       "0                     1k          scale             rf   \n",
       "\n",
       "  universe_exclude_features universe_exclude_subgroups  q_hat  coverage  \\\n",
       "0                      none            drop-non-german   0.66  0.914502   \n",
       "\n",
       "   avg_size  \n",
       "0   1.16045  "
      ]
     },
     "execution_count": 48,
     "metadata": {},
     "output_type": "execute_result"
    }
   ],
   "source": [
    "cp_metrics_df"
   ]
  },
  {
   "cell_type": "markdown",
   "id": "c825ecb4-0d3d-41d6-b7c6-eccb21272259",
   "metadata": {
    "papermill": {
     "duration": 0.022903,
     "end_time": "2025-08-06T18:08:07.276471",
     "exception": false,
     "start_time": "2025-08-06T18:08:07.253568",
     "status": "completed"
    },
    "tags": []
   },
   "source": [
    "Conditional coverage & looking at subgroups"
   ]
  },
  {
   "cell_type": "code",
   "execution_count": 49,
   "id": "027ae886-68dd-4141-96c7-805a5450e1ef",
   "metadata": {
    "execution": {
     "iopub.execute_input": "2025-08-06T18:08:07.319760Z",
     "iopub.status.busy": "2025-08-06T18:08:07.319304Z",
     "iopub.status.idle": "2025-08-06T18:08:07.609193Z",
     "shell.execute_reply": "2025-08-06T18:08:07.608163Z"
    },
    "papermill": {
     "duration": 0.314373,
     "end_time": "2025-08-06T18:08:07.611281",
     "exception": false,
     "start_time": "2025-08-06T18:08:07.296908",
     "status": "completed"
    },
    "tags": []
   },
   "outputs": [],
   "source": [
    "from fairness_multiverse.conformal import build_cp_groups\n",
    "\n",
    "cp_groups_df = build_cp_groups(pred_sets, y_true, X_test.index, org_test)"
   ]
  },
  {
   "cell_type": "code",
   "execution_count": 50,
   "id": "6cbdab96-b2b2-45af-ad54-d0516db2e28d",
   "metadata": {
    "execution": {
     "iopub.execute_input": "2025-08-06T18:08:07.677483Z",
     "iopub.status.busy": "2025-08-06T18:08:07.676647Z",
     "iopub.status.idle": "2025-08-06T18:08:09.141779Z",
     "shell.execute_reply": "2025-08-06T18:08:09.140845Z"
    },
    "papermill": {
     "duration": 1.492293,
     "end_time": "2025-08-06T18:08:09.143592",
     "exception": false,
     "start_time": "2025-08-06T18:08:07.651299",
     "status": "completed"
    },
    "tags": []
   },
   "outputs": [],
   "source": [
    "# Define covered = 1 if true_label is in the predicted set\n",
    "cp_groups_df['covered'] = cp_groups_df.apply(\n",
    "    lambda r: int(r['true_label'] in r['pred_set']),\n",
    "    axis=1\n",
    ")"
   ]
  },
  {
   "cell_type": "code",
   "execution_count": 51,
   "id": "90032e27-66df-4540-9169-4e89cfbaa758",
   "metadata": {
    "execution": {
     "iopub.execute_input": "2025-08-06T18:08:09.189583Z",
     "iopub.status.busy": "2025-08-06T18:08:09.189103Z",
     "iopub.status.idle": "2025-08-06T18:08:09.200534Z",
     "shell.execute_reply": "2025-08-06T18:08:09.199655Z"
    },
    "papermill": {
     "duration": 0.036786,
     "end_time": "2025-08-06T18:08:09.202243",
     "exception": false,
     "start_time": "2025-08-06T18:08:09.165457",
     "status": "completed"
    },
    "tags": []
   },
   "outputs": [],
   "source": [
    "subgroups = ['frau1','nongerman','nongerman_male','nongerman_female']\n",
    "\n",
    "# Conditional coverage for subgroup==1\n",
    "cond_coverage = {\n",
    "    g: cp_groups_df.loc[cp_groups_df[g]==1, 'covered'].mean()\n",
    "    for g in subgroups\n",
    "}"
   ]
  },
  {
   "cell_type": "code",
   "execution_count": 52,
   "id": "1e348fb1-b9c3-45bc-ba23-f016827a7e0d",
   "metadata": {
    "execution": {
     "iopub.execute_input": "2025-08-06T18:08:09.244285Z",
     "iopub.status.busy": "2025-08-06T18:08:09.243552Z",
     "iopub.status.idle": "2025-08-06T18:08:09.251118Z",
     "shell.execute_reply": "2025-08-06T18:08:09.250275Z"
    },
    "papermill": {
     "duration": 0.030178,
     "end_time": "2025-08-06T18:08:09.252645",
     "exception": false,
     "start_time": "2025-08-06T18:08:09.222467",
     "status": "completed"
    },
    "tags": []
   },
   "outputs": [
    {
     "data": {
      "text/plain": [
       "{'frau1': 0.913088017252999,\n",
       " 'nongerman': 0.904395666086566,\n",
       " 'nongerman_male': 0.9240745744393407,\n",
       " 'nongerman_female': 0.8718330849478391}"
      ]
     },
     "execution_count": 52,
     "metadata": {},
     "output_type": "execute_result"
    }
   ],
   "source": [
    "cond_coverage"
   ]
  },
  {
   "cell_type": "code",
   "execution_count": 53,
   "id": "f5093324-c3dd-4d63-bc4c-8d945e5c8bbb",
   "metadata": {
    "execution": {
     "iopub.execute_input": "2025-08-06T18:08:09.294928Z",
     "iopub.status.busy": "2025-08-06T18:08:09.294263Z",
     "iopub.status.idle": "2025-08-06T18:08:09.302163Z",
     "shell.execute_reply": "2025-08-06T18:08:09.301065Z"
    },
    "papermill": {
     "duration": 0.030692,
     "end_time": "2025-08-06T18:08:09.303745",
     "exception": false,
     "start_time": "2025-08-06T18:08:09.273053",
     "status": "completed"
    },
    "tags": []
   },
   "outputs": [],
   "source": [
    "for subgroup, cov in cond_coverage.items():\n",
    "    cp_metrics_df[f\"cov_{subgroup}\"] = cov"
   ]
  },
  {
   "cell_type": "code",
   "execution_count": 54,
   "id": "6e872e10-dbe5-49e8-b554-5030c98ff75d",
   "metadata": {
    "execution": {
     "iopub.execute_input": "2025-08-06T18:08:09.345966Z",
     "iopub.status.busy": "2025-08-06T18:08:09.345257Z",
     "iopub.status.idle": "2025-08-06T18:08:09.363965Z",
     "shell.execute_reply": "2025-08-06T18:08:09.363016Z"
    },
    "papermill": {
     "duration": 0.041352,
     "end_time": "2025-08-06T18:08:09.365451",
     "exception": false,
     "start_time": "2025-08-06T18:08:09.324099",
     "status": "completed"
    },
    "tags": []
   },
   "outputs": [
    {
     "data": {
      "text/html": [
       "<div>\n",
       "<style scoped>\n",
       "    .dataframe tbody tr th:only-of-type {\n",
       "        vertical-align: middle;\n",
       "    }\n",
       "\n",
       "    .dataframe tbody tr th {\n",
       "        vertical-align: top;\n",
       "    }\n",
       "\n",
       "    .dataframe thead th {\n",
       "        text-align: right;\n",
       "    }\n",
       "</style>\n",
       "<table border=\"1\" class=\"dataframe\">\n",
       "  <thead>\n",
       "    <tr style=\"text-align: right;\">\n",
       "      <th></th>\n",
       "      <th>universe_id</th>\n",
       "      <th>universe_training_year</th>\n",
       "      <th>universe_training_size</th>\n",
       "      <th>universe_scale</th>\n",
       "      <th>universe_model</th>\n",
       "      <th>universe_exclude_features</th>\n",
       "      <th>universe_exclude_subgroups</th>\n",
       "      <th>q_hat</th>\n",
       "      <th>coverage</th>\n",
       "      <th>avg_size</th>\n",
       "      <th>cov_frau1</th>\n",
       "      <th>cov_nongerman</th>\n",
       "      <th>cov_nongerman_male</th>\n",
       "      <th>cov_nongerman_female</th>\n",
       "    </tr>\n",
       "  </thead>\n",
       "  <tbody>\n",
       "    <tr>\n",
       "      <th>0</th>\n",
       "      <td>3801de5e81fd93924dffc1115d61a0cd</td>\n",
       "      <td>2010_14</td>\n",
       "      <td>1k</td>\n",
       "      <td>scale</td>\n",
       "      <td>rf</td>\n",
       "      <td>none</td>\n",
       "      <td>drop-non-german</td>\n",
       "      <td>0.66</td>\n",
       "      <td>0.914502</td>\n",
       "      <td>1.16045</td>\n",
       "      <td>0.913088</td>\n",
       "      <td>0.904396</td>\n",
       "      <td>0.924075</td>\n",
       "      <td>0.871833</td>\n",
       "    </tr>\n",
       "  </tbody>\n",
       "</table>\n",
       "</div>"
      ],
      "text/plain": [
       "                        universe_id universe_training_year  \\\n",
       "0  3801de5e81fd93924dffc1115d61a0cd                2010_14   \n",
       "\n",
       "  universe_training_size universe_scale universe_model  \\\n",
       "0                     1k          scale             rf   \n",
       "\n",
       "  universe_exclude_features universe_exclude_subgroups  q_hat  coverage  \\\n",
       "0                      none            drop-non-german   0.66  0.914502   \n",
       "\n",
       "   avg_size  cov_frau1  cov_nongerman  cov_nongerman_male  \\\n",
       "0   1.16045   0.913088       0.904396            0.924075   \n",
       "\n",
       "   cov_nongerman_female  \n",
       "0              0.871833  "
      ]
     },
     "execution_count": 54,
     "metadata": {},
     "output_type": "execute_result"
    }
   ],
   "source": [
    "cp_metrics_df"
   ]
  },
  {
   "cell_type": "markdown",
   "id": "33774451",
   "metadata": {
    "papermill": {
     "duration": 0.025291,
     "end_time": "2025-08-06T18:08:09.412398",
     "exception": false,
     "start_time": "2025-08-06T18:08:09.387107",
     "status": "completed"
    },
    "tags": []
   },
   "source": [
    "# (Fairness) Metrics"
   ]
  },
  {
   "cell_type": "code",
   "execution_count": 55,
   "id": "debc5d62",
   "metadata": {
    "execution": {
     "iopub.execute_input": "2025-08-06T18:08:09.464834Z",
     "iopub.status.busy": "2025-08-06T18:08:09.464144Z",
     "iopub.status.idle": "2025-08-06T18:08:09.484992Z",
     "shell.execute_reply": "2025-08-06T18:08:09.484082Z"
    },
    "papermill": {
     "duration": 0.049447,
     "end_time": "2025-08-06T18:08:09.486953",
     "exception": false,
     "start_time": "2025-08-06T18:08:09.437506",
     "status": "completed"
    },
    "tags": []
   },
   "outputs": [],
   "source": [
    "colname_to_bin = \"maxdeutsch1\"\n",
    "majority_value = org_train[colname_to_bin].mode()[0]\n",
    "\n",
    "org_test[\"majmin\"] = np.where(org_test[colname_to_bin] == majority_value, \"majority\", \"minority\")"
   ]
  },
  {
   "cell_type": "code",
   "execution_count": 56,
   "id": "06a50de5",
   "metadata": {
    "execution": {
     "iopub.execute_input": "2025-08-06T18:08:09.539705Z",
     "iopub.status.busy": "2025-08-06T18:08:09.539032Z",
     "iopub.status.idle": "2025-08-06T18:08:12.332297Z",
     "shell.execute_reply": "2025-08-06T18:08:12.330907Z"
    },
    "papermill": {
     "duration": 2.821106,
     "end_time": "2025-08-06T18:08:12.333867",
     "exception": false,
     "start_time": "2025-08-06T18:08:09.512761",
     "status": "completed"
    },
    "tags": []
   },
   "outputs": [],
   "source": [
    "example_universe = universe.copy()\n",
    "example_universe[\"cutoff\"] = example_universe[\"cutoff\"][0]\n",
    "example_universe[\"eval_fairness_grouping\"] = example_universe[\"eval_fairness_grouping\"][0]\n",
    "fairness_dict, metric_frame = universe_analysis.compute_metrics(\n",
    "    example_universe,\n",
    "    y_pred_prob=probs_test,\n",
    "    y_test=y_true,\n",
    "    org_test=org_test,\n",
    ")"
   ]
  },
  {
   "cell_type": "markdown",
   "id": "f95d4e02",
   "metadata": {
    "papermill": {
     "duration": 0.022995,
     "end_time": "2025-08-06T18:08:12.379977",
     "exception": false,
     "start_time": "2025-08-06T18:08:12.356982",
     "status": "completed"
    },
    "tags": []
   },
   "source": [
    "# Overall"
   ]
  },
  {
   "cell_type": "markdown",
   "id": "bdee4871",
   "metadata": {
    "papermill": {
     "duration": 0.023415,
     "end_time": "2025-08-06T18:08:12.427594",
     "exception": false,
     "start_time": "2025-08-06T18:08:12.404179",
     "status": "completed"
    },
    "tags": []
   },
   "source": [
    "Main fairness target: Equalized Odds. Seems to be a better fit than equal opportunity, since we're not only interested in Y = 1. Seems to be a better fit than demographic parity, since we also care about accuracy, not just equal distribution of preds.\n",
    "\n",
    "Pick column for computation of fairness metrics\n",
    "\n",
    "Performance\n",
    "Overall performance measures, most interesting in relation to the measures split by group below"
   ]
  },
  {
   "cell_type": "code",
   "execution_count": 57,
   "id": "c4e067c6",
   "metadata": {
    "execution": {
     "iopub.execute_input": "2025-08-06T18:08:12.479114Z",
     "iopub.status.busy": "2025-08-06T18:08:12.478647Z",
     "iopub.status.idle": "2025-08-06T18:08:12.486787Z",
     "shell.execute_reply": "2025-08-06T18:08:12.485894Z"
    },
    "papermill": {
     "duration": 0.03583,
     "end_time": "2025-08-06T18:08:12.488117",
     "exception": false,
     "start_time": "2025-08-06T18:08:12.452287",
     "status": "completed"
    },
    "tags": []
   },
   "outputs": [
    {
     "data": {
      "text/plain": [
       "accuracy                   0.218025\n",
       "balanced accuracy          0.542471\n",
       "f1                         0.243092\n",
       "precision                  0.138778\n",
       "false positive rate        0.893941\n",
       "false negative rate        0.021116\n",
       "selection rate             0.904838\n",
       "count                  89710.000000\n",
       "dtype: float64"
      ]
     },
     "execution_count": 57,
     "metadata": {},
     "output_type": "execute_result"
    }
   ],
   "source": [
    "metric_frame.overall"
   ]
  },
  {
   "cell_type": "markdown",
   "id": "e968fe9d",
   "metadata": {
    "papermill": {
     "duration": 0.011958,
     "end_time": "2025-08-06T18:08:12.512728",
     "exception": false,
     "start_time": "2025-08-06T18:08:12.500770",
     "status": "completed"
    },
    "tags": []
   },
   "source": [
    "By Group"
   ]
  },
  {
   "cell_type": "code",
   "execution_count": 58,
   "id": "ec325bce",
   "metadata": {
    "execution": {
     "iopub.execute_input": "2025-08-06T18:08:12.554091Z",
     "iopub.status.busy": "2025-08-06T18:08:12.553564Z",
     "iopub.status.idle": "2025-08-06T18:08:12.576122Z",
     "shell.execute_reply": "2025-08-06T18:08:12.574884Z"
    },
    "papermill": {
     "duration": 0.042234,
     "end_time": "2025-08-06T18:08:12.577797",
     "exception": false,
     "start_time": "2025-08-06T18:08:12.535563",
     "status": "completed"
    },
    "tags": []
   },
   "outputs": [
    {
     "data": {
      "text/html": [
       "<div>\n",
       "<style scoped>\n",
       "    .dataframe tbody tr th:only-of-type {\n",
       "        vertical-align: middle;\n",
       "    }\n",
       "\n",
       "    .dataframe tbody tr th {\n",
       "        vertical-align: top;\n",
       "    }\n",
       "\n",
       "    .dataframe thead th {\n",
       "        text-align: right;\n",
       "    }\n",
       "</style>\n",
       "<table border=\"1\" class=\"dataframe\">\n",
       "  <thead>\n",
       "    <tr style=\"text-align: right;\">\n",
       "      <th></th>\n",
       "      <th>accuracy</th>\n",
       "      <th>balanced accuracy</th>\n",
       "      <th>f1</th>\n",
       "      <th>precision</th>\n",
       "      <th>false positive rate</th>\n",
       "      <th>false negative rate</th>\n",
       "      <th>selection rate</th>\n",
       "      <th>count</th>\n",
       "    </tr>\n",
       "    <tr>\n",
       "      <th>majmin</th>\n",
       "      <th></th>\n",
       "      <th></th>\n",
       "      <th></th>\n",
       "      <th></th>\n",
       "      <th></th>\n",
       "      <th></th>\n",
       "      <th></th>\n",
       "      <th></th>\n",
       "    </tr>\n",
       "  </thead>\n",
       "  <tbody>\n",
       "    <tr>\n",
       "      <th>majority</th>\n",
       "      <td>0.223825</td>\n",
       "      <td>0.544893</td>\n",
       "      <td>0.250440</td>\n",
       "      <td>0.143536</td>\n",
       "      <td>0.891504</td>\n",
       "      <td>0.018709</td>\n",
       "      <td>0.903369</td>\n",
       "      <td>69170.0</td>\n",
       "    </tr>\n",
       "    <tr>\n",
       "      <th>minority</th>\n",
       "      <td>0.198491</td>\n",
       "      <td>0.533801</td>\n",
       "      <td>0.218095</td>\n",
       "      <td>0.122866</td>\n",
       "      <td>0.901992</td>\n",
       "      <td>0.030405</td>\n",
       "      <td>0.909786</td>\n",
       "      <td>20540.0</td>\n",
       "    </tr>\n",
       "  </tbody>\n",
       "</table>\n",
       "</div>"
      ],
      "text/plain": [
       "          accuracy  balanced accuracy        f1  precision  \\\n",
       "majmin                                                       \n",
       "majority  0.223825           0.544893  0.250440   0.143536   \n",
       "minority  0.198491           0.533801  0.218095   0.122866   \n",
       "\n",
       "          false positive rate  false negative rate  selection rate    count  \n",
       "majmin                                                                       \n",
       "majority             0.891504             0.018709        0.903369  69170.0  \n",
       "minority             0.901992             0.030405        0.909786  20540.0  "
      ]
     },
     "execution_count": 58,
     "metadata": {},
     "output_type": "execute_result"
    }
   ],
   "source": [
    "metric_frame.by_group"
   ]
  },
  {
   "cell_type": "code",
   "execution_count": 59,
   "id": "a9ddbe63",
   "metadata": {
    "execution": {
     "iopub.execute_input": "2025-08-06T18:08:12.619649Z",
     "iopub.status.busy": "2025-08-06T18:08:12.619177Z",
     "iopub.status.idle": "2025-08-06T18:08:14.955542Z",
     "shell.execute_reply": "2025-08-06T18:08:14.954455Z"
    },
    "papermill": {
     "duration": 2.363852,
     "end_time": "2025-08-06T18:08:14.957313",
     "exception": false,
     "start_time": "2025-08-06T18:08:12.593461",
     "status": "completed"
    },
    "tags": []
   },
   "outputs": [
    {
     "data": {
      "text/plain": [
       "array([[<Axes: title={'center': 'accuracy'}, xlabel='majmin'>,\n",
       "        <Axes: title={'center': 'balanced accuracy'}, xlabel='majmin'>,\n",
       "        <Axes: title={'center': 'f1'}, xlabel='majmin'>],\n",
       "       [<Axes: title={'center': 'precision'}, xlabel='majmin'>,\n",
       "        <Axes: title={'center': 'false positive rate'}, xlabel='majmin'>,\n",
       "        <Axes: title={'center': 'false negative rate'}, xlabel='majmin'>],\n",
       "       [<Axes: title={'center': 'selection rate'}, xlabel='majmin'>,\n",
       "        <Axes: title={'center': 'count'}, xlabel='majmin'>,\n",
       "        <Axes: xlabel='majmin'>]], dtype=object)"
      ]
     },
     "execution_count": 59,
     "metadata": {},
     "output_type": "execute_result"
    },
    {
     "data": {
      "image/png": "[encoded data removed]",
      "text/plain": [
       "<Figure size 1200x800 with 9 Axes>"
      ]
     },
     "metadata": {},
     "output_type": "display_data"
    }
   ],
   "source": [
    "# In a graphic\n",
    "metric_frame.by_group.plot.bar(\n",
    "    subplots=True,\n",
    "    layout=[3, 3],\n",
    "    legend=False,\n",
    "    figsize=[12, 8],\n",
    "    title=\"Show all metrics\",\n",
    ")"
   ]
  },
  {
   "cell_type": "markdown",
   "id": "f57a0bac",
   "metadata": {
    "papermill": {
     "duration": 0.023827,
     "end_time": "2025-08-06T18:08:15.005419",
     "exception": false,
     "start_time": "2025-08-06T18:08:14.981592",
     "status": "completed"
    },
    "tags": []
   },
   "source": [
    "# Final Output"
   ]
  },
  {
   "cell_type": "code",
   "execution_count": 60,
   "id": "96d280a3",
   "metadata": {
    "execution": {
     "iopub.execute_input": "2025-08-06T18:08:15.055154Z",
     "iopub.status.busy": "2025-08-06T18:08:15.054123Z",
     "iopub.status.idle": "2025-08-06T18:08:15.063238Z",
     "shell.execute_reply": "2025-08-06T18:08:15.062198Z"
    },
    "papermill": {
     "duration": 0.036265,
     "end_time": "2025-08-06T18:08:15.065109",
     "exception": false,
     "start_time": "2025-08-06T18:08:15.028844",
     "status": "completed"
    },
    "tags": []
   },
   "outputs": [
    {
     "data": {
      "text/plain": [
       "4"
      ]
     },
     "execution_count": 60,
     "metadata": {},
     "output_type": "execute_result"
    }
   ],
   "source": [
    "sub_universes = universe_analysis.generate_sub_universes()\n",
    "len(sub_universes)"
   ]
  },
  {
   "cell_type": "code",
   "execution_count": 61,
   "id": "92adf7ba",
   "metadata": {
    "execution": {
     "iopub.execute_input": "2025-08-06T18:08:15.114315Z",
     "iopub.status.busy": "2025-08-06T18:08:15.113848Z",
     "iopub.status.idle": "2025-08-06T18:08:15.120769Z",
     "shell.execute_reply": "2025-08-06T18:08:15.119634Z"
    },
    "papermill": {
     "duration": 0.032757,
     "end_time": "2025-08-06T18:08:15.122309",
     "exception": false,
     "start_time": "2025-08-06T18:08:15.089552",
     "status": "completed"
    },
    "tags": []
   },
   "outputs": [],
   "source": [
    "def filter_sub_universe_data(sub_universe, org_test):\n",
    "    # Keep all rows — no filtering\n",
    "    keep_rows_mask = np.ones(org_test.shape[0], dtype=bool)\n",
    "\n",
    "    print(f\"[INFO] Keeping all rows: {keep_rows_mask.sum()} rows retained.\")\n",
    "    return keep_rows_mask"
   ]
  },
  {
   "cell_type": "code",
   "execution_count": 62,
   "id": "4a759155",
   "metadata": {
    "execution": {
     "iopub.execute_input": "2025-08-06T18:08:15.177116Z",
     "iopub.status.busy": "2025-08-06T18:08:15.176396Z",
     "iopub.status.idle": "2025-08-06T18:08:25.459019Z",
     "shell.execute_reply": "2025-08-06T18:08:25.457845Z"
    },
    "papermill": {
     "duration": 10.312059,
     "end_time": "2025-08-06T18:08:25.460693",
     "exception": false,
     "start_time": "2025-08-06T18:08:15.148634",
     "status": "completed"
    },
    "tags": []
   },
   "outputs": [
    {
     "name": "stdout",
     "output_type": "stream",
     "text": [
      "Stopping execution_time clock.\n",
      "[INFO] Keeping all rows: 89710 rows retained.\n"
     ]
    },
    {
     "name": "stdout",
     "output_type": "stream",
     "text": [
      "[INFO] Keeping all rows: 89710 rows retained.\n"
     ]
    },
    {
     "name": "stdout",
     "output_type": "stream",
     "text": [
      "[INFO] Keeping all rows: 89710 rows retained.\n"
     ]
    },
    {
     "name": "stdout",
     "output_type": "stream",
     "text": [
      "[INFO] Keeping all rows: 89710 rows retained.\n"
     ]
    },
    {
     "data": {
      "text/html": [
       "<div>\n",
       "<style scoped>\n",
       "    .dataframe tbody tr th:only-of-type {\n",
       "        vertical-align: middle;\n",
       "    }\n",
       "\n",
       "    .dataframe tbody tr th {\n",
       "        vertical-align: top;\n",
       "    }\n",
       "\n",
       "    .dataframe thead th {\n",
       "        text-align: right;\n",
       "    }\n",
       "</style>\n",
       "<table border=\"1\" class=\"dataframe\">\n",
       "  <thead>\n",
       "    <tr style=\"text-align: right;\">\n",
       "      <th></th>\n",
       "      <th>run_no</th>\n",
       "      <th>universe_id</th>\n",
       "      <th>universe_settings</th>\n",
       "      <th>execution_time</th>\n",
       "      <th>test_size_n</th>\n",
       "      <th>test_size_frac</th>\n",
       "      <th>fair_main_equalized_odds_difference</th>\n",
       "      <th>fair_main_equalized_odds_ratio</th>\n",
       "      <th>fair_main_demographic_parity_difference</th>\n",
       "      <th>fair_main_demographic_parity_ratio</th>\n",
       "      <th>...</th>\n",
       "      <th>perf_grp_precision_0</th>\n",
       "      <th>perf_grp_precision_1</th>\n",
       "      <th>perf_grp_false positive rate_0</th>\n",
       "      <th>perf_grp_false positive rate_1</th>\n",
       "      <th>perf_grp_false negative rate_0</th>\n",
       "      <th>perf_grp_false negative rate_1</th>\n",
       "      <th>perf_grp_selection rate_0</th>\n",
       "      <th>perf_grp_selection rate_1</th>\n",
       "      <th>perf_grp_count_0</th>\n",
       "      <th>perf_grp_count_1</th>\n",
       "    </tr>\n",
       "  </thead>\n",
       "  <tbody>\n",
       "    <tr>\n",
       "      <th>0</th>\n",
       "      <td>1</td>\n",
       "      <td>3801de5e81fd93924dffc1115d61a0cd</td>\n",
       "      <td>{\"cutoff\": \"quantile_0.1\", \"eval_fairness_grou...</td>\n",
       "      <td>31.764567</td>\n",
       "      <td>89710</td>\n",
       "      <td>1.0</td>\n",
       "      <td>0.011696</td>\n",
       "      <td>0.988081</td>\n",
       "      <td>0.006417</td>\n",
       "      <td>0.992946</td>\n",
       "      <td>...</td>\n",
       "      <td>NaN</td>\n",
       "      <td>NaN</td>\n",
       "      <td>NaN</td>\n",
       "      <td>NaN</td>\n",
       "      <td>NaN</td>\n",
       "      <td>NaN</td>\n",
       "      <td>NaN</td>\n",
       "      <td>NaN</td>\n",
       "      <td>NaN</td>\n",
       "      <td>NaN</td>\n",
       "    </tr>\n",
       "    <tr>\n",
       "      <th>0</th>\n",
       "      <td>1</td>\n",
       "      <td>3801de5e81fd93924dffc1115d61a0cd</td>\n",
       "      <td>{\"cutoff\": \"quantile_0.1\", \"eval_fairness_grou...</td>\n",
       "      <td>31.764567</td>\n",
       "      <td>89710</td>\n",
       "      <td>1.0</td>\n",
       "      <td>0.011696</td>\n",
       "      <td>0.988081</td>\n",
       "      <td>0.006417</td>\n",
       "      <td>0.992946</td>\n",
       "      <td>...</td>\n",
       "      <td>0.122866</td>\n",
       "      <td>0.143536</td>\n",
       "      <td>0.901992</td>\n",
       "      <td>0.891504</td>\n",
       "      <td>0.030405</td>\n",
       "      <td>0.018709</td>\n",
       "      <td>0.909786</td>\n",
       "      <td>0.903369</td>\n",
       "      <td>20540.0</td>\n",
       "      <td>69170.0</td>\n",
       "    </tr>\n",
       "    <tr>\n",
       "      <th>0</th>\n",
       "      <td>1</td>\n",
       "      <td>3801de5e81fd93924dffc1115d61a0cd</td>\n",
       "      <td>{\"cutoff\": \"quantile_0.25\", \"eval_fairness_gro...</td>\n",
       "      <td>31.764567</td>\n",
       "      <td>89710</td>\n",
       "      <td>1.0</td>\n",
       "      <td>0.063838</td>\n",
       "      <td>0.932216</td>\n",
       "      <td>0.008613</td>\n",
       "      <td>0.988900</td>\n",
       "      <td>...</td>\n",
       "      <td>NaN</td>\n",
       "      <td>NaN</td>\n",
       "      <td>NaN</td>\n",
       "      <td>NaN</td>\n",
       "      <td>NaN</td>\n",
       "      <td>NaN</td>\n",
       "      <td>NaN</td>\n",
       "      <td>NaN</td>\n",
       "      <td>NaN</td>\n",
       "      <td>NaN</td>\n",
       "    </tr>\n",
       "    <tr>\n",
       "      <th>0</th>\n",
       "      <td>1</td>\n",
       "      <td>3801de5e81fd93924dffc1115d61a0cd</td>\n",
       "      <td>{\"cutoff\": \"quantile_0.25\", \"eval_fairness_gro...</td>\n",
       "      <td>31.764567</td>\n",
       "      <td>89710</td>\n",
       "      <td>1.0</td>\n",
       "      <td>0.063838</td>\n",
       "      <td>0.932216</td>\n",
       "      <td>0.008613</td>\n",
       "      <td>0.988900</td>\n",
       "      <td>...</td>\n",
       "      <td>0.130435</td>\n",
       "      <td>0.162170</td>\n",
       "      <td>0.762712</td>\n",
       "      <td>0.740830</td>\n",
       "      <td>0.122044</td>\n",
       "      <td>0.058206</td>\n",
       "      <td>0.775998</td>\n",
       "      <td>0.767385</td>\n",
       "      <td>20540.0</td>\n",
       "      <td>69170.0</td>\n",
       "    </tr>\n",
       "  </tbody>\n",
       "</table>\n",
       "<p>4 rows × 50 columns</p>\n",
       "</div>"
      ],
      "text/plain": [
       "  run_no                       universe_id  \\\n",
       "0      1  3801de5e81fd93924dffc1115d61a0cd   \n",
       "0      1  3801de5e81fd93924dffc1115d61a0cd   \n",
       "0      1  3801de5e81fd93924dffc1115d61a0cd   \n",
       "0      1  3801de5e81fd93924dffc1115d61a0cd   \n",
       "\n",
       "                                   universe_settings  execution_time  \\\n",
       "0  {\"cutoff\": \"quantile_0.1\", \"eval_fairness_grou...       31.764567   \n",
       "0  {\"cutoff\": \"quantile_0.1\", \"eval_fairness_grou...       31.764567   \n",
       "0  {\"cutoff\": \"quantile_0.25\", \"eval_fairness_gro...       31.764567   \n",
       "0  {\"cutoff\": \"quantile_0.25\", \"eval_fairness_gro...       31.764567   \n",
       "\n",
       "   test_size_n  test_size_frac  fair_main_equalized_odds_difference  \\\n",
       "0        89710             1.0                             0.011696   \n",
       "0        89710             1.0                             0.011696   \n",
       "0        89710             1.0                             0.063838   \n",
       "0        89710             1.0                             0.063838   \n",
       "\n",
       "   fair_main_equalized_odds_ratio  fair_main_demographic_parity_difference  \\\n",
       "0                        0.988081                                 0.006417   \n",
       "0                        0.988081                                 0.006417   \n",
       "0                        0.932216                                 0.008613   \n",
       "0                        0.932216                                 0.008613   \n",
       "\n",
       "   fair_main_demographic_parity_ratio  ...  perf_grp_precision_0  \\\n",
       "0                            0.992946  ...                   NaN   \n",
       "0                            0.992946  ...              0.122866   \n",
       "0                            0.988900  ...                   NaN   \n",
       "0                            0.988900  ...              0.130435   \n",
       "\n",
       "   perf_grp_precision_1  perf_grp_false positive rate_0  \\\n",
       "0                   NaN                             NaN   \n",
       "0              0.143536                        0.901992   \n",
       "0                   NaN                             NaN   \n",
       "0              0.162170                        0.762712   \n",
       "\n",
       "   perf_grp_false positive rate_1  perf_grp_false negative rate_0  \\\n",
       "0                             NaN                             NaN   \n",
       "0                        0.891504                        0.030405   \n",
       "0                             NaN                             NaN   \n",
       "0                        0.740830                        0.122044   \n",
       "\n",
       "   perf_grp_false negative rate_1  perf_grp_selection rate_0  \\\n",
       "0                             NaN                        NaN   \n",
       "0                        0.018709                   0.909786   \n",
       "0                             NaN                        NaN   \n",
       "0                        0.058206                   0.775998   \n",
       "\n",
       "   perf_grp_selection rate_1  perf_grp_count_0  perf_grp_count_1  \n",
       "0                        NaN               NaN               NaN  \n",
       "0                   0.903369           20540.0           69170.0  \n",
       "0                        NaN               NaN               NaN  \n",
       "0                   0.767385           20540.0           69170.0  \n",
       "\n",
       "[4 rows x 50 columns]"
      ]
     },
     "execution_count": 62,
     "metadata": {},
     "output_type": "execute_result"
    }
   ],
   "source": [
    "final_output = universe_analysis.generate_final_output(\n",
    "    y_pred_prob=probs_test,\n",
    "    y_test=y_true,\n",
    "    org_test=org_test,\n",
    "    filter_data=filter_sub_universe_data,\n",
    "    cp_metrics_df=cp_metrics_df,\n",
    "    save=True,\n",
    ")\n",
    "final_output"
   ]
  },
  {
   "cell_type": "code",
   "execution_count": null,
   "id": "571f9a0f-660a-4841-b661-b06fbc637944",
   "metadata": {
    "papermill": {
     "duration": 0.024777,
     "end_time": "2025-08-06T18:08:25.512460",
     "exception": false,
     "start_time": "2025-08-06T18:08:25.487683",
     "status": "completed"
    },
    "tags": []
   },
   "outputs": [],
   "source": []
  },
  {
   "cell_type": "code",
   "execution_count": null,
   "id": "529482e3-0150-4854-a92d-ab864efc606e",
   "metadata": {
    "papermill": {
     "duration": 0.024255,
     "end_time": "2025-08-06T18:08:25.562410",
     "exception": false,
     "start_time": "2025-08-06T18:08:25.538155",
     "status": "completed"
    },
    "tags": []
   },
   "outputs": [],
   "source": []
  }
 ],
 "metadata": {
  "celltoolbar": "Tags",
  "kernelspec": {
   "display_name": "Python (CMA Fairness)",
   "language": "python",
   "name": "cma_fair_env"
  },
  "language_info": {
   "codemirror_mode": {
    "name": "ipython",
    "version": 3
   },
   "file_extension": ".py",
   "mimetype": "text/x-python",
   "name": "python",
   "nbconvert_exporter": "python",
   "pygments_lexer": "ipython3",
   "version": "3.10.12"
  },
  "papermill": {
   "default_parameters": {},
   "duration": 46.034025,
   "end_time": "2025-08-06T18:08:26.408455",
   "environment_variables": {},
   "exception": null,
   "input_path": "universe_analysis.ipynb",
   "output_path": "output/runs/1/notebooks/m_1-3801de5e81fd93924dffc1115d61a0cd.ipynb",
   "parameters": {
    "output_dir": "output",
    "run_no": "1",
    "seed": "2023",
    "universe": "{\"cutoff\": [\"quantile_0.1\", \"quantile_0.25\"], \"eval_fairness_grouping\": [\"majority-minority\", \"nationality-all\"], \"exclude_features\": \"none\", \"exclude_subgroups\": \"drop-non-german\", \"model\": \"rf\", \"scale\": \"scale\", \"training_size\": \"1k\", \"training_year\": \"2010_14\"}",
    "universe_id": "3801de5e81fd93924dffc1115d61a0cd"
   },
   "start_time": "2025-08-06T18:07:40.374430",
   "version": "2.6.0"
  }
 },
 "nbformat": 4,
 "nbformat_minor": 5
}