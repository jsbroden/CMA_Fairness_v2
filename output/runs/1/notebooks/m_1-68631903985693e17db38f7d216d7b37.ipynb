{
 "cells": [
  {
   "cell_type": "markdown",
   "id": "b2057076-3a91-4cfa-9bfd-eab1e61b3068",
   "metadata": {
    "papermill": {
     "duration": 0.017306,
     "end_time": "2025-08-06T17:20:15.845417",
     "exception": false,
     "start_time": "2025-08-06T17:20:15.828111",
     "status": "completed"
    },
    "tags": []
   },
   "source": [
    "# Setup"
   ]
  },
  {
   "cell_type": "code",
   "execution_count": 1,
   "id": "f159f837-637b-42ba-96b5-ec9a68c44524",
   "metadata": {
    "execution": {
     "iopub.execute_input": "2025-08-06T17:20:15.879908Z",
     "iopub.status.busy": "2025-08-06T17:20:15.879454Z",
     "iopub.status.idle": "2025-08-06T17:20:15.891589Z",
     "shell.execute_reply": "2025-08-06T17:20:15.890738Z"
    },
    "papermill": {
     "duration": 0.031118,
     "end_time": "2025-08-06T17:20:15.893182",
     "exception": false,
     "start_time": "2025-08-06T17:20:15.862064",
     "status": "completed"
    },
    "tags": []
   },
   "outputs": [
    {
     "name": "stdout",
     "output_type": "stream",
     "text": [
      "/dss/dsshome1/0C/ra93lal2/cma/CMA_Fairness_v2\n"
     ]
    },
    {
     "name": "stderr",
     "output_type": "stream",
     "text": [
      "/dss/dsshome1/0C/ra93lal2/.local/share/virtualenvs/CMA_Fairness_v2-3j10GkSs/lib/python3.10/site-packages/IPython/core/magics/osm.py:393: UserWarning: This is now an optional IPython functionality, using bookmarks requires you to install the `pickleshare` library.\n",
      "  bkms = self.shell.db.get('bookmarks', {})\n",
      "/dss/dsshome1/0C/ra93lal2/.local/share/virtualenvs/CMA_Fairness_v2-3j10GkSs/lib/python3.10/site-packages/IPython/core/magics/osm.py:417: UserWarning: This is now an optional IPython functionality, setting dhist requires you to install the `pickleshare` library.\n",
      "  self.shell.db['dhist'] = compress_dhist(dhist)[-100:]\n"
     ]
    }
   ],
   "source": [
    "%cd ~/cma/CMA_Fairness_v2"
   ]
  },
  {
   "cell_type": "markdown",
   "id": "de2603b9",
   "metadata": {
    "papermill": {
     "duration": 0.01541,
     "end_time": "2025-08-06T17:20:15.924446",
     "exception": false,
     "start_time": "2025-08-06T17:20:15.909036",
     "status": "completed"
    },
    "tags": []
   },
   "source": [
    "The following cell holds the definition of our parameters, these values can be overriden by rendering the with e.g. the following command:\n",
    "\n",
    "papermill -p alpha 0.2 -p ratio 0.3 universe_analysis.ipynb output/test_run.ipynb"
   ]
  },
  {
   "cell_type": "code",
   "execution_count": 2,
   "id": "a80968a0-40bb-4fa9-85ef-2d5eefb01975",
   "metadata": {
    "execution": {
     "iopub.execute_input": "2025-08-06T17:20:15.956742Z",
     "iopub.status.busy": "2025-08-06T17:20:15.956270Z",
     "iopub.status.idle": "2025-08-06T17:20:15.961580Z",
     "shell.execute_reply": "2025-08-06T17:20:15.960584Z"
    },
    "papermill": {
     "duration": 0.023898,
     "end_time": "2025-08-06T17:20:15.963544",
     "exception": false,
     "start_time": "2025-08-06T17:20:15.939646",
     "status": "completed"
    },
    "tags": []
   },
   "outputs": [
    {
     "name": "stdout",
     "output_type": "stream",
     "text": [
      "Current working directory: /dss/dsshome1/0C/ra93lal2/cma/CMA_Fairness_v2\n"
     ]
    }
   ],
   "source": [
    "import os\n",
    "print(\"Current working directory:\", os.getcwd())"
   ]
  },
  {
   "cell_type": "code",
   "execution_count": 3,
   "id": "2dce4c03",
   "metadata": {
    "execution": {
     "iopub.execute_input": "2025-08-06T17:20:16.000806Z",
     "iopub.status.busy": "2025-08-06T17:20:15.999932Z",
     "iopub.status.idle": "2025-08-06T17:20:16.005816Z",
     "shell.execute_reply": "2025-08-06T17:20:16.004927Z"
    },
    "papermill": {
     "duration": 0.02595,
     "end_time": "2025-08-06T17:20:16.007419",
     "exception": false,
     "start_time": "2025-08-06T17:20:15.981469",
     "status": "completed"
    },
    "tags": [
     "parameters"
    ]
   },
   "outputs": [],
   "source": [
    "run_no = 0\n",
    "universe_id = \"test\"\n",
    "universe = {\n",
    "    \"training_size\": \"5k\", # \"25k\", \"5k\", \"1k\"\n",
    "    \"training_year\": \"2012_14\", # \"2014\", \"2012_14\", \"2010_14\"\n",
    "    \"scale\": \"scale\", # \"scale\", \"do-not-scale\",\n",
    "    \"model\": \"elasticnet\", # \"logreg\", \"penalized_logreg\", \"rf\", \"gbm\", \"elasticnet\"\n",
    "    \"cutoff\": [\"quantile_0.15\", \"quantile_0.30\"],\n",
    "    \"exclude_features\": \"age\", # \"none\", \"nationality\", \"sex\", \"nationality-sex\", \"age\"\n",
    "    \"exclude_subgroups\": \"drop-non-german\", # \"keep-all\", \"drop-non-german\"\n",
    "    \"eval_fairness_grouping\": [\"majority-minority\", \"nationality-all\"]\n",
    "}\n",
    "\n",
    "output_dir=\"./output\"\n",
    "seed=0"
   ]
  },
  {
   "cell_type": "code",
   "execution_count": 4,
   "id": "0a3ea75c",
   "metadata": {
    "execution": {
     "iopub.execute_input": "2025-08-06T17:20:16.040655Z",
     "iopub.status.busy": "2025-08-06T17:20:16.040135Z",
     "iopub.status.idle": "2025-08-06T17:20:16.045652Z",
     "shell.execute_reply": "2025-08-06T17:20:16.044712Z"
    },
    "papermill": {
     "duration": 0.023888,
     "end_time": "2025-08-06T17:20:16.047227",
     "exception": false,
     "start_time": "2025-08-06T17:20:16.023339",
     "status": "completed"
    },
    "tags": [
     "injected-parameters"
    ]
   },
   "outputs": [],
   "source": [
    "# Parameters\n",
    "universe_id = \"68631903985693e17db38f7d216d7b37\"\n",
    "run_no = \"1\"\n",
    "universe = \"{\\\"cutoff\\\": [\\\"quantile_0.1\\\", \\\"quantile_0.25\\\"], \\\"eval_fairness_grouping\\\": [\\\"majority-minority\\\", \\\"nationality-all\\\"], \\\"exclude_features\\\": \\\"none\\\", \\\"exclude_subgroups\\\": \\\"drop-non-german\\\", \\\"model\\\": \\\"logreg\\\", \\\"scale\\\": \\\"do-not-scale\\\", \\\"training_size\\\": \\\"5k\\\", \\\"training_year\\\": \\\"2014\\\"}\"\n",
    "output_dir = \"output\"\n",
    "seed = \"2023\"\n"
   ]
  },
  {
   "cell_type": "code",
   "execution_count": 5,
   "id": "1650acaf",
   "metadata": {
    "execution": {
     "iopub.execute_input": "2025-08-06T17:20:16.081057Z",
     "iopub.status.busy": "2025-08-06T17:20:16.080491Z",
     "iopub.status.idle": "2025-08-06T17:20:16.085564Z",
     "shell.execute_reply": "2025-08-06T17:20:16.084647Z"
    },
    "papermill": {
     "duration": 0.023294,
     "end_time": "2025-08-06T17:20:16.087092",
     "exception": false,
     "start_time": "2025-08-06T17:20:16.063798",
     "status": "completed"
    },
    "tags": []
   },
   "outputs": [],
   "source": [
    "import json\n",
    "if isinstance(universe, str):\n",
    "    universe = json.loads(universe)"
   ]
  },
  {
   "cell_type": "code",
   "execution_count": 6,
   "id": "16620c48",
   "metadata": {
    "execution": {
     "iopub.execute_input": "2025-08-06T17:20:16.121027Z",
     "iopub.status.busy": "2025-08-06T17:20:16.120181Z",
     "iopub.status.idle": "2025-08-06T17:20:16.166385Z",
     "shell.execute_reply": "2025-08-06T17:20:16.165501Z"
    },
    "papermill": {
     "duration": 0.065304,
     "end_time": "2025-08-06T17:20:16.168265",
     "exception": false,
     "start_time": "2025-08-06T17:20:16.102961",
     "status": "completed"
    },
    "tags": []
   },
   "outputs": [],
   "source": [
    "# Auto-reload the custom package\n",
    "%load_ext autoreload\n",
    "%autoreload 1\n",
    "%aimport fairness_multiverse"
   ]
  },
  {
   "cell_type": "code",
   "execution_count": 7,
   "id": "01c5c9f3",
   "metadata": {
    "execution": {
     "iopub.execute_input": "2025-08-06T17:20:16.206353Z",
     "iopub.status.busy": "2025-08-06T17:20:16.205714Z",
     "iopub.status.idle": "2025-08-06T17:20:18.152350Z",
     "shell.execute_reply": "2025-08-06T17:20:18.151131Z"
    },
    "papermill": {
     "duration": 1.96745,
     "end_time": "2025-08-06T17:20:18.154487",
     "exception": false,
     "start_time": "2025-08-06T17:20:16.187037",
     "status": "completed"
    },
    "tags": []
   },
   "outputs": [],
   "source": [
    "from fairness_multiverse.universe import UniverseAnalysis\n",
    "\n",
    "universe_analysis = UniverseAnalysis(\n",
    "    run_no = run_no,\n",
    "    universe_id = universe_id,\n",
    "    universe = universe,\n",
    "    output_dir=output_dir,\n",
    ")"
   ]
  },
  {
   "cell_type": "code",
   "execution_count": 8,
   "id": "106241f5",
   "metadata": {
    "execution": {
     "iopub.execute_input": "2025-08-06T17:20:18.197551Z",
     "iopub.status.busy": "2025-08-06T17:20:18.196329Z",
     "iopub.status.idle": "2025-08-06T17:20:18.204327Z",
     "shell.execute_reply": "2025-08-06T17:20:18.203176Z"
    },
    "papermill": {
     "duration": 0.02997,
     "end_time": "2025-08-06T17:20:18.206052",
     "exception": false,
     "start_time": "2025-08-06T17:20:18.176082",
     "status": "completed"
    },
    "tags": []
   },
   "outputs": [
    {
     "name": "stdout",
     "output_type": "stream",
     "text": [
      "Using Seed: 2023\n"
     ]
    }
   ],
   "source": [
    "import numpy as np\n",
    "parsed_seed = int(seed)\n",
    "np.random.seed(parsed_seed)\n",
    "print(f\"Using Seed: {parsed_seed}\")"
   ]
  },
  {
   "cell_type": "markdown",
   "id": "e0ebdc57",
   "metadata": {
    "papermill": {
     "duration": 0.018875,
     "end_time": "2025-08-06T17:20:18.244237",
     "exception": false,
     "start_time": "2025-08-06T17:20:18.225362",
     "status": "completed"
    },
    "tags": []
   },
   "source": [
    "# Loading Data"
   ]
  },
  {
   "cell_type": "code",
   "execution_count": 9,
   "id": "f0496b8a",
   "metadata": {
    "execution": {
     "iopub.execute_input": "2025-08-06T17:20:18.284489Z",
     "iopub.status.busy": "2025-08-06T17:20:18.283504Z",
     "iopub.status.idle": "2025-08-06T17:20:32.410715Z",
     "shell.execute_reply": "2025-08-06T17:20:32.409784Z"
    },
    "papermill": {
     "duration": 14.148917,
     "end_time": "2025-08-06T17:20:32.412250",
     "exception": false,
     "start_time": "2025-08-06T17:20:18.263333",
     "status": "completed"
    },
    "tags": []
   },
   "outputs": [
    {
     "name": "stdout",
     "output_type": "stream",
     "text": [
      "Loading SIAB data from cache: data/siab_cached.csv.gz\n"
     ]
    },
    {
     "name": "stdout",
     "output_type": "stream",
     "text": [
      "(643690, 164)\n"
     ]
    }
   ],
   "source": [
    "from pathlib import Path\n",
    "import pandas as pd\n",
    "\n",
    "# File paths\n",
    "raw_file = Path(\"data/raw/siab.csv\")\n",
    "cache_file = Path(\"data/siab_cached.csv.gz\")\n",
    "\n",
    "# Ensure cache directory exists\n",
    "cache_file.parent.mkdir(parents=True, exist_ok=True)\n",
    "\n",
    "# Load with simple caching\n",
    "if cache_file.exists():\n",
    "    print(f\"Loading SIAB data from cache: {cache_file}\")\n",
    "    siab = pd.read_csv(cache_file, compression='gzip')\n",
    "else:\n",
    "    print(f\"Cache not found. Reading raw SIAB data: {raw_file}\")\n",
    "    siab = pd.read_csv(raw_file)\n",
    "    siab.to_csv(cache_file, index=False, compression='gzip')\n",
    "    print(f\"Cached SIAB data to: {cache_file}\")\n",
    "\n",
    "print(siab.shape)"
   ]
  },
  {
   "cell_type": "code",
   "execution_count": 10,
   "id": "db0ca512-5f53-4dba-abdb-a2888bca41ba",
   "metadata": {
    "execution": {
     "iopub.execute_input": "2025-08-06T17:20:32.448124Z",
     "iopub.status.busy": "2025-08-06T17:20:32.447027Z",
     "iopub.status.idle": "2025-08-06T17:20:32.589050Z",
     "shell.execute_reply": "2025-08-06T17:20:32.588096Z"
    },
    "papermill": {
     "duration": 0.166892,
     "end_time": "2025-08-06T17:20:32.590831",
     "exception": false,
     "start_time": "2025-08-06T17:20:32.423939",
     "status": "completed"
    },
    "tags": []
   },
   "outputs": [
    {
     "data": {
      "text/html": [
       "<div>\n",
       "<style scoped>\n",
       "    .dataframe tbody tr th:only-of-type {\n",
       "        vertical-align: middle;\n",
       "    }\n",
       "\n",
       "    .dataframe tbody tr th {\n",
       "        vertical-align: top;\n",
       "    }\n",
       "\n",
       "    .dataframe thead th {\n",
       "        text-align: right;\n",
       "    }\n",
       "</style>\n",
       "<table border=\"1\" class=\"dataframe\">\n",
       "  <thead>\n",
       "    <tr style=\"text-align: right;\">\n",
       "      <th></th>\n",
       "      <th>persnr</th>\n",
       "      <th>year</th>\n",
       "      <th>nrEntry</th>\n",
       "      <th>ltue</th>\n",
       "      <th>employed_before</th>\n",
       "      <th>receipt_leh_before</th>\n",
       "      <th>receipt_lhg_before</th>\n",
       "      <th>se_before</th>\n",
       "      <th>ASU_notue_seeking_before</th>\n",
       "      <th>ASU_other_before</th>\n",
       "      <th>...</th>\n",
       "      <th>minijob_tot_dur_byage</th>\n",
       "      <th>ft_tot_dur_byage</th>\n",
       "      <th>befrist_tot_dur_byage</th>\n",
       "      <th>leih_tot_dur_byage</th>\n",
       "      <th>LHG_tot_dur_byage</th>\n",
       "      <th>LEH_tot_dur_byage</th>\n",
       "      <th>almp_tot_dur_byage</th>\n",
       "      <th>almp_aw_tot_dur_byage</th>\n",
       "      <th>se_tot_dur_byage</th>\n",
       "      <th>seeking1_tot_dur_byage</th>\n",
       "    </tr>\n",
       "  </thead>\n",
       "  <tbody>\n",
       "    <tr>\n",
       "      <th>0</th>\n",
       "      <td>7</td>\n",
       "      <td>2015</td>\n",
       "      <td>1</td>\n",
       "      <td>0</td>\n",
       "      <td>1</td>\n",
       "      <td>0</td>\n",
       "      <td>0</td>\n",
       "      <td>0</td>\n",
       "      <td>1</td>\n",
       "      <td>0</td>\n",
       "      <td>...</td>\n",
       "      <td>0.000000</td>\n",
       "      <td>0.000000</td>\n",
       "      <td>15.043478</td>\n",
       "      <td>0.000000</td>\n",
       "      <td>0.000000</td>\n",
       "      <td>0.000000</td>\n",
       "      <td>0.000000</td>\n",
       "      <td>0.000000</td>\n",
       "      <td>0.000000</td>\n",
       "      <td>0.000000</td>\n",
       "    </tr>\n",
       "    <tr>\n",
       "      <th>1</th>\n",
       "      <td>18</td>\n",
       "      <td>2010</td>\n",
       "      <td>1</td>\n",
       "      <td>1</td>\n",
       "      <td>0</td>\n",
       "      <td>0</td>\n",
       "      <td>0</td>\n",
       "      <td>0</td>\n",
       "      <td>0</td>\n",
       "      <td>0</td>\n",
       "      <td>...</td>\n",
       "      <td>0.000000</td>\n",
       "      <td>0.000000</td>\n",
       "      <td>0.000000</td>\n",
       "      <td>0.000000</td>\n",
       "      <td>0.000000</td>\n",
       "      <td>0.000000</td>\n",
       "      <td>0.000000</td>\n",
       "      <td>0.000000</td>\n",
       "      <td>0.000000</td>\n",
       "      <td>0.000000</td>\n",
       "    </tr>\n",
       "    <tr>\n",
       "      <th>2</th>\n",
       "      <td>18</td>\n",
       "      <td>2011</td>\n",
       "      <td>2</td>\n",
       "      <td>0</td>\n",
       "      <td>1</td>\n",
       "      <td>0</td>\n",
       "      <td>1</td>\n",
       "      <td>0</td>\n",
       "      <td>1</td>\n",
       "      <td>0</td>\n",
       "      <td>...</td>\n",
       "      <td>2.714286</td>\n",
       "      <td>2.714286</td>\n",
       "      <td>0.000000</td>\n",
       "      <td>0.000000</td>\n",
       "      <td>10.775510</td>\n",
       "      <td>0.000000</td>\n",
       "      <td>8.367347</td>\n",
       "      <td>0.000000</td>\n",
       "      <td>0.000000</td>\n",
       "      <td>9.836735</td>\n",
       "    </tr>\n",
       "    <tr>\n",
       "      <th>3</th>\n",
       "      <td>18</td>\n",
       "      <td>2012</td>\n",
       "      <td>3</td>\n",
       "      <td>0</td>\n",
       "      <td>1</td>\n",
       "      <td>0</td>\n",
       "      <td>1</td>\n",
       "      <td>0</td>\n",
       "      <td>1</td>\n",
       "      <td>0</td>\n",
       "      <td>...</td>\n",
       "      <td>4.200000</td>\n",
       "      <td>4.200000</td>\n",
       "      <td>0.000000</td>\n",
       "      <td>0.000000</td>\n",
       "      <td>12.100000</td>\n",
       "      <td>0.000000</td>\n",
       "      <td>9.400000</td>\n",
       "      <td>0.000000</td>\n",
       "      <td>0.000000</td>\n",
       "      <td>9.960000</td>\n",
       "    </tr>\n",
       "    <tr>\n",
       "      <th>4</th>\n",
       "      <td>18</td>\n",
       "      <td>2012</td>\n",
       "      <td>4</td>\n",
       "      <td>0</td>\n",
       "      <td>1</td>\n",
       "      <td>0</td>\n",
       "      <td>1</td>\n",
       "      <td>0</td>\n",
       "      <td>1</td>\n",
       "      <td>0</td>\n",
       "      <td>...</td>\n",
       "      <td>5.460000</td>\n",
       "      <td>5.460000</td>\n",
       "      <td>0.000000</td>\n",
       "      <td>0.000000</td>\n",
       "      <td>13.360000</td>\n",
       "      <td>0.000000</td>\n",
       "      <td>10.320000</td>\n",
       "      <td>0.000000</td>\n",
       "      <td>0.000000</td>\n",
       "      <td>10.280000</td>\n",
       "    </tr>\n",
       "    <tr>\n",
       "      <th>...</th>\n",
       "      <td>...</td>\n",
       "      <td>...</td>\n",
       "      <td>...</td>\n",
       "      <td>...</td>\n",
       "      <td>...</td>\n",
       "      <td>...</td>\n",
       "      <td>...</td>\n",
       "      <td>...</td>\n",
       "      <td>...</td>\n",
       "      <td>...</td>\n",
       "      <td>...</td>\n",
       "      <td>...</td>\n",
       "      <td>...</td>\n",
       "      <td>...</td>\n",
       "      <td>...</td>\n",
       "      <td>...</td>\n",
       "      <td>...</td>\n",
       "      <td>...</td>\n",
       "      <td>...</td>\n",
       "      <td>...</td>\n",
       "      <td>...</td>\n",
       "    </tr>\n",
       "    <tr>\n",
       "      <th>643685</th>\n",
       "      <td>1827860</td>\n",
       "      <td>2013</td>\n",
       "      <td>1</td>\n",
       "      <td>0</td>\n",
       "      <td>0</td>\n",
       "      <td>0</td>\n",
       "      <td>1</td>\n",
       "      <td>0</td>\n",
       "      <td>0</td>\n",
       "      <td>1</td>\n",
       "      <td>...</td>\n",
       "      <td>0.000000</td>\n",
       "      <td>0.000000</td>\n",
       "      <td>0.000000</td>\n",
       "      <td>0.000000</td>\n",
       "      <td>0.612903</td>\n",
       "      <td>0.000000</td>\n",
       "      <td>0.000000</td>\n",
       "      <td>0.000000</td>\n",
       "      <td>0.000000</td>\n",
       "      <td>0.000000</td>\n",
       "    </tr>\n",
       "    <tr>\n",
       "      <th>643686</th>\n",
       "      <td>1827860</td>\n",
       "      <td>2015</td>\n",
       "      <td>2</td>\n",
       "      <td>1</td>\n",
       "      <td>0</td>\n",
       "      <td>0</td>\n",
       "      <td>1</td>\n",
       "      <td>0</td>\n",
       "      <td>1</td>\n",
       "      <td>0</td>\n",
       "      <td>...</td>\n",
       "      <td>0.000000</td>\n",
       "      <td>0.000000</td>\n",
       "      <td>0.212121</td>\n",
       "      <td>0.212121</td>\n",
       "      <td>17.363636</td>\n",
       "      <td>0.000000</td>\n",
       "      <td>8.909091</td>\n",
       "      <td>0.000000</td>\n",
       "      <td>0.000000</td>\n",
       "      <td>7.121212</td>\n",
       "    </tr>\n",
       "    <tr>\n",
       "      <th>643687</th>\n",
       "      <td>1827860</td>\n",
       "      <td>2016</td>\n",
       "      <td>3</td>\n",
       "      <td>1</td>\n",
       "      <td>0</td>\n",
       "      <td>0</td>\n",
       "      <td>1</td>\n",
       "      <td>1</td>\n",
       "      <td>0</td>\n",
       "      <td>1</td>\n",
       "      <td>...</td>\n",
       "      <td>0.000000</td>\n",
       "      <td>0.000000</td>\n",
       "      <td>0.294118</td>\n",
       "      <td>0.205882</td>\n",
       "      <td>34.705882</td>\n",
       "      <td>0.000000</td>\n",
       "      <td>10.352941</td>\n",
       "      <td>1.705882</td>\n",
       "      <td>1.705882</td>\n",
       "      <td>23.911765</td>\n",
       "    </tr>\n",
       "    <tr>\n",
       "      <th>643688</th>\n",
       "      <td>1827869</td>\n",
       "      <td>2013</td>\n",
       "      <td>1</td>\n",
       "      <td>1</td>\n",
       "      <td>1</td>\n",
       "      <td>0</td>\n",
       "      <td>0</td>\n",
       "      <td>0</td>\n",
       "      <td>1</td>\n",
       "      <td>0</td>\n",
       "      <td>...</td>\n",
       "      <td>0.000000</td>\n",
       "      <td>0.000000</td>\n",
       "      <td>0.000000</td>\n",
       "      <td>0.000000</td>\n",
       "      <td>0.000000</td>\n",
       "      <td>0.525424</td>\n",
       "      <td>0.000000</td>\n",
       "      <td>0.000000</td>\n",
       "      <td>0.000000</td>\n",
       "      <td>0.000000</td>\n",
       "    </tr>\n",
       "    <tr>\n",
       "      <th>643689</th>\n",
       "      <td>1827869</td>\n",
       "      <td>2014</td>\n",
       "      <td>2</td>\n",
       "      <td>0</td>\n",
       "      <td>0</td>\n",
       "      <td>1</td>\n",
       "      <td>0</td>\n",
       "      <td>0</td>\n",
       "      <td>1</td>\n",
       "      <td>0</td>\n",
       "      <td>...</td>\n",
       "      <td>0.000000</td>\n",
       "      <td>0.666667</td>\n",
       "      <td>0.666667</td>\n",
       "      <td>0.000000</td>\n",
       "      <td>0.000000</td>\n",
       "      <td>8.950000</td>\n",
       "      <td>1.033333</td>\n",
       "      <td>0.083333</td>\n",
       "      <td>0.083333</td>\n",
       "      <td>8.133333</td>\n",
       "    </tr>\n",
       "  </tbody>\n",
       "</table>\n",
       "<p>643690 rows × 164 columns</p>\n",
       "</div>"
      ],
      "text/plain": [
       "         persnr  year  nrEntry  ltue  employed_before  receipt_leh_before  \\\n",
       "0             7  2015        1     0                1                   0   \n",
       "1            18  2010        1     1                0                   0   \n",
       "2            18  2011        2     0                1                   0   \n",
       "3            18  2012        3     0                1                   0   \n",
       "4            18  2012        4     0                1                   0   \n",
       "...         ...   ...      ...   ...              ...                 ...   \n",
       "643685  1827860  2013        1     0                0                   0   \n",
       "643686  1827860  2015        2     1                0                   0   \n",
       "643687  1827860  2016        3     1                0                   0   \n",
       "643688  1827869  2013        1     1                1                   0   \n",
       "643689  1827869  2014        2     0                0                   1   \n",
       "\n",
       "        receipt_lhg_before  se_before  ASU_notue_seeking_before  \\\n",
       "0                        0          0                         1   \n",
       "1                        0          0                         0   \n",
       "2                        1          0                         1   \n",
       "3                        1          0                         1   \n",
       "4                        1          0                         1   \n",
       "...                    ...        ...                       ...   \n",
       "643685                   1          0                         0   \n",
       "643686                   1          0                         1   \n",
       "643687                   1          1                         0   \n",
       "643688                   0          0                         1   \n",
       "643689                   0          0                         1   \n",
       "\n",
       "        ASU_other_before  ...  minijob_tot_dur_byage  ft_tot_dur_byage  \\\n",
       "0                      0  ...               0.000000          0.000000   \n",
       "1                      0  ...               0.000000          0.000000   \n",
       "2                      0  ...               2.714286          2.714286   \n",
       "3                      0  ...               4.200000          4.200000   \n",
       "4                      0  ...               5.460000          5.460000   \n",
       "...                  ...  ...                    ...               ...   \n",
       "643685                 1  ...               0.000000          0.000000   \n",
       "643686                 0  ...               0.000000          0.000000   \n",
       "643687                 1  ...               0.000000          0.000000   \n",
       "643688                 0  ...               0.000000          0.000000   \n",
       "643689                 0  ...               0.000000          0.666667   \n",
       "\n",
       "        befrist_tot_dur_byage  leih_tot_dur_byage  LHG_tot_dur_byage  \\\n",
       "0                   15.043478            0.000000           0.000000   \n",
       "1                    0.000000            0.000000           0.000000   \n",
       "2                    0.000000            0.000000          10.775510   \n",
       "3                    0.000000            0.000000          12.100000   \n",
       "4                    0.000000            0.000000          13.360000   \n",
       "...                       ...                 ...                ...   \n",
       "643685               0.000000            0.000000           0.612903   \n",
       "643686               0.212121            0.212121          17.363636   \n",
       "643687               0.294118            0.205882          34.705882   \n",
       "643688               0.000000            0.000000           0.000000   \n",
       "643689               0.666667            0.000000           0.000000   \n",
       "\n",
       "        LEH_tot_dur_byage  almp_tot_dur_byage  almp_aw_tot_dur_byage  \\\n",
       "0                0.000000            0.000000               0.000000   \n",
       "1                0.000000            0.000000               0.000000   \n",
       "2                0.000000            8.367347               0.000000   \n",
       "3                0.000000            9.400000               0.000000   \n",
       "4                0.000000           10.320000               0.000000   \n",
       "...                   ...                 ...                    ...   \n",
       "643685           0.000000            0.000000               0.000000   \n",
       "643686           0.000000            8.909091               0.000000   \n",
       "643687           0.000000           10.352941               1.705882   \n",
       "643688           0.525424            0.000000               0.000000   \n",
       "643689           8.950000            1.033333               0.083333   \n",
       "\n",
       "        se_tot_dur_byage  seeking1_tot_dur_byage  \n",
       "0               0.000000                0.000000  \n",
       "1               0.000000                0.000000  \n",
       "2               0.000000                9.836735  \n",
       "3               0.000000                9.960000  \n",
       "4               0.000000               10.280000  \n",
       "...                  ...                     ...  \n",
       "643685          0.000000                0.000000  \n",
       "643686          0.000000                7.121212  \n",
       "643687          1.705882               23.911765  \n",
       "643688          0.000000                0.000000  \n",
       "643689          0.083333                8.133333  \n",
       "\n",
       "[643690 rows x 164 columns]"
      ]
     },
     "execution_count": 10,
     "metadata": {},
     "output_type": "execute_result"
    }
   ],
   "source": [
    "siab"
   ]
  },
  {
   "cell_type": "markdown",
   "id": "997051c5-15bd-4b69-9786-c3001a3ce484",
   "metadata": {
    "papermill": {
     "duration": 0.009503,
     "end_time": "2025-08-06T17:20:32.627349",
     "exception": false,
     "start_time": "2025-08-06T17:20:32.617846",
     "status": "completed"
    },
    "tags": []
   },
   "source": [
    "# Splitting Data and Setting Training Data Size"
   ]
  },
  {
   "cell_type": "code",
   "execution_count": 11,
   "id": "aea9c6ef-6f46-42c8-85eb-5a62025c1508",
   "metadata": {
    "execution": {
     "iopub.execute_input": "2025-08-06T17:20:32.659167Z",
     "iopub.status.busy": "2025-08-06T17:20:32.658659Z",
     "iopub.status.idle": "2025-08-06T17:20:32.863080Z",
     "shell.execute_reply": "2025-08-06T17:20:32.862094Z"
    },
    "papermill": {
     "duration": 0.228287,
     "end_time": "2025-08-06T17:20:32.865033",
     "exception": false,
     "start_time": "2025-08-06T17:20:32.636746",
     "status": "completed"
    },
    "tags": []
   },
   "outputs": [],
   "source": [
    "from fairness_multiverse.universe import sample_by_year_size\n",
    "\n",
    "siab_train = sample_by_year_size(siab,\n",
    "                               training_year=universe[\"training_year\"],\n",
    "                               training_size=universe[\"training_size\"])"
   ]
  },
  {
   "cell_type": "code",
   "execution_count": 12,
   "id": "8d3afb32-789d-442c-8d5d-9f5aa8dd2eed",
   "metadata": {
    "execution": {
     "iopub.execute_input": "2025-08-06T17:20:32.904674Z",
     "iopub.status.busy": "2025-08-06T17:20:32.903607Z",
     "iopub.status.idle": "2025-08-06T17:20:32.911472Z",
     "shell.execute_reply": "2025-08-06T17:20:32.910431Z"
    },
    "papermill": {
     "duration": 0.02884,
     "end_time": "2025-08-06T17:20:32.912964",
     "exception": false,
     "start_time": "2025-08-06T17:20:32.884124",
     "status": "completed"
    },
    "tags": []
   },
   "outputs": [
    {
     "data": {
      "text/plain": [
       "(5000, 164)"
      ]
     },
     "execution_count": 12,
     "metadata": {},
     "output_type": "execute_result"
    }
   ],
   "source": [
    "siab_train.shape"
   ]
  },
  {
   "cell_type": "code",
   "execution_count": 13,
   "id": "d582db68-1a4c-47fb-84fc-08518dc1975a",
   "metadata": {
    "execution": {
     "iopub.execute_input": "2025-08-06T17:20:32.951895Z",
     "iopub.status.busy": "2025-08-06T17:20:32.951412Z",
     "iopub.status.idle": "2025-08-06T17:20:32.963999Z",
     "shell.execute_reply": "2025-08-06T17:20:32.962507Z"
    },
    "papermill": {
     "duration": 0.035331,
     "end_time": "2025-08-06T17:20:32.966046",
     "exception": false,
     "start_time": "2025-08-06T17:20:32.930715",
     "status": "completed"
    },
    "tags": []
   },
   "outputs": [
    {
     "data": {
      "text/plain": [
       "year\n",
       "2014    5000\n",
       "dtype: int64"
      ]
     },
     "metadata": {},
     "output_type": "display_data"
    }
   ],
   "source": [
    "display(siab_train.groupby(\"year\").size())"
   ]
  },
  {
   "cell_type": "code",
   "execution_count": 14,
   "id": "a561edb4-d032-42cb-8256-22eac1111c64",
   "metadata": {
    "execution": {
     "iopub.execute_input": "2025-08-06T17:20:33.014075Z",
     "iopub.status.busy": "2025-08-06T17:20:33.013480Z",
     "iopub.status.idle": "2025-08-06T17:20:33.417167Z",
     "shell.execute_reply": "2025-08-06T17:20:33.415902Z"
    },
    "papermill": {
     "duration": 0.433601,
     "end_time": "2025-08-06T17:20:33.419754",
     "exception": false,
     "start_time": "2025-08-06T17:20:32.986153",
     "status": "completed"
    },
    "tags": []
   },
   "outputs": [],
   "source": [
    "#siab_train = siab_s[siab_s.year < 2015]\n",
    "siab_calib = siab[siab.year == 2015]\n",
    "siab_test = siab[siab.year == 2016]"
   ]
  },
  {
   "cell_type": "code",
   "execution_count": 15,
   "id": "472de16f-c3db-4916-846b-1f0de9cf1746",
   "metadata": {
    "execution": {
     "iopub.execute_input": "2025-08-06T17:20:33.478706Z",
     "iopub.status.busy": "2025-08-06T17:20:33.478016Z",
     "iopub.status.idle": "2025-08-06T17:20:33.490525Z",
     "shell.execute_reply": "2025-08-06T17:20:33.489336Z"
    },
    "papermill": {
     "duration": 0.043893,
     "end_time": "2025-08-06T17:20:33.492590",
     "exception": false,
     "start_time": "2025-08-06T17:20:33.448697",
     "status": "completed"
    },
    "tags": []
   },
   "outputs": [],
   "source": [
    "X_train = siab_train.iloc[:,4:164]\n",
    "y_train = siab_train.iloc[:, [3]]"
   ]
  },
  {
   "cell_type": "code",
   "execution_count": 16,
   "id": "828c96af-f43a-4ed6-ba47-8ac73a47d56c",
   "metadata": {
    "execution": {
     "iopub.execute_input": "2025-08-06T17:20:33.544942Z",
     "iopub.status.busy": "2025-08-06T17:20:33.544404Z",
     "iopub.status.idle": "2025-08-06T17:20:33.625161Z",
     "shell.execute_reply": "2025-08-06T17:20:33.623743Z"
    },
    "papermill": {
     "duration": 0.114217,
     "end_time": "2025-08-06T17:20:33.627878",
     "exception": false,
     "start_time": "2025-08-06T17:20:33.513661",
     "status": "completed"
    },
    "tags": []
   },
   "outputs": [],
   "source": [
    "X_calib = siab_calib.iloc[:,4:164]\n",
    "y_calib = siab_calib.iloc[:, [3]]"
   ]
  },
  {
   "cell_type": "code",
   "execution_count": 17,
   "id": "c34be9c3-6bd6-476e-acd3-845840e303be",
   "metadata": {
    "execution": {
     "iopub.execute_input": "2025-08-06T17:20:33.687981Z",
     "iopub.status.busy": "2025-08-06T17:20:33.687426Z",
     "iopub.status.idle": "2025-08-06T17:20:33.775295Z",
     "shell.execute_reply": "2025-08-06T17:20:33.773598Z"
    },
    "papermill": {
     "duration": 0.120941,
     "end_time": "2025-08-06T17:20:33.777980",
     "exception": false,
     "start_time": "2025-08-06T17:20:33.657039",
     "status": "completed"
    },
    "tags": []
   },
   "outputs": [],
   "source": [
    "X_test = siab_test.iloc[:,4:164]\n",
    "y_true = siab_test.iloc[:, [3]]"
   ]
  },
  {
   "cell_type": "code",
   "execution_count": 18,
   "id": "e6c733c5",
   "metadata": {
    "execution": {
     "iopub.execute_input": "2025-08-06T17:20:33.837344Z",
     "iopub.status.busy": "2025-08-06T17:20:33.836578Z",
     "iopub.status.idle": "2025-08-06T17:20:33.943516Z",
     "shell.execute_reply": "2025-08-06T17:20:33.942501Z"
    },
    "papermill": {
     "duration": 0.137627,
     "end_time": "2025-08-06T17:20:33.945749",
     "exception": false,
     "start_time": "2025-08-06T17:20:33.808122",
     "status": "completed"
    },
    "tags": []
   },
   "outputs": [],
   "source": [
    "# Auxiliary data needed downstream in the pipeline\n",
    "\n",
    "org_train = X_train.copy()\n",
    "org_test = X_test.copy()\n",
    "org_calib = X_calib.copy()"
   ]
  },
  {
   "cell_type": "markdown",
   "id": "0a4a1b33",
   "metadata": {
    "papermill": {
     "duration": 0.022148,
     "end_time": "2025-08-06T17:20:33.992058",
     "exception": false,
     "start_time": "2025-08-06T17:20:33.969910",
     "status": "completed"
    },
    "tags": []
   },
   "source": [
    "# Preprocessing Data"
   ]
  },
  {
   "cell_type": "code",
   "execution_count": 19,
   "id": "ca879031",
   "metadata": {
    "execution": {
     "iopub.execute_input": "2025-08-06T17:20:34.038743Z",
     "iopub.status.busy": "2025-08-06T17:20:34.038291Z",
     "iopub.status.idle": "2025-08-06T17:20:34.044723Z",
     "shell.execute_reply": "2025-08-06T17:20:34.043507Z"
    },
    "papermill": {
     "duration": 0.031728,
     "end_time": "2025-08-06T17:20:34.046503",
     "exception": false,
     "start_time": "2025-08-06T17:20:34.014775",
     "status": "completed"
    },
    "tags": []
   },
   "outputs": [],
   "source": [
    "# EXCLUDE PROTECTED FEATURES\n",
    "# --------------------------\n",
    "\n",
    "excluded_features = universe[\"exclude_features\"].split(\"-\")\n",
    "excluded_features_dictionary = {\n",
    "    \"nationality\": [\"maxdeutsch1\", \"maxdeutsch.Missing.\"],\n",
    "    \"sex\": [\"frau1\"],\n",
    "    \"age\": [\"age\"],\n",
    "}"
   ]
  },
  {
   "cell_type": "code",
   "execution_count": 20,
   "id": "b745ac60",
   "metadata": {
    "execution": {
     "iopub.execute_input": "2025-08-06T17:20:34.091640Z",
     "iopub.status.busy": "2025-08-06T17:20:34.091056Z",
     "iopub.status.idle": "2025-08-06T17:20:34.096802Z",
     "shell.execute_reply": "2025-08-06T17:20:34.095710Z"
    },
    "papermill": {
     "duration": 0.031098,
     "end_time": "2025-08-06T17:20:34.098594",
     "exception": false,
     "start_time": "2025-08-06T17:20:34.067496",
     "status": "completed"
    },
    "tags": []
   },
   "outputs": [],
   "source": [
    "excluded_features_columns = [\n",
    "    excluded_features_dictionary[f] for f in excluded_features if len(f) > 0 and f != \"none\"\n",
    "]"
   ]
  },
  {
   "cell_type": "code",
   "execution_count": 21,
   "id": "f84f73a2",
   "metadata": {
    "execution": {
     "iopub.execute_input": "2025-08-06T17:20:34.145233Z",
     "iopub.status.busy": "2025-08-06T17:20:34.144467Z",
     "iopub.status.idle": "2025-08-06T17:20:34.153386Z",
     "shell.execute_reply": "2025-08-06T17:20:34.152168Z"
    },
    "papermill": {
     "duration": 0.035483,
     "end_time": "2025-08-06T17:20:34.156268",
     "exception": false,
     "start_time": "2025-08-06T17:20:34.120785",
     "status": "completed"
    },
    "tags": []
   },
   "outputs": [],
   "source": [
    "from fairness_multiverse.universe import flatten_once\n",
    "\n",
    "excluded_features_columns = flatten_once(excluded_features_columns)"
   ]
  },
  {
   "cell_type": "code",
   "execution_count": 22,
   "id": "884dea22",
   "metadata": {
    "execution": {
     "iopub.execute_input": "2025-08-06T17:20:34.202929Z",
     "iopub.status.busy": "2025-08-06T17:20:34.202217Z",
     "iopub.status.idle": "2025-08-06T17:20:34.208441Z",
     "shell.execute_reply": "2025-08-06T17:20:34.207346Z"
    },
    "papermill": {
     "duration": 0.030451,
     "end_time": "2025-08-06T17:20:34.210421",
     "exception": false,
     "start_time": "2025-08-06T17:20:34.179970",
     "status": "completed"
    },
    "tags": []
   },
   "outputs": [],
   "source": [
    "if len(excluded_features_columns) > 0:\n",
    "    print(f\"Dropping features: {excluded_features_columns}\")\n",
    "    X_train.drop(excluded_features_columns, axis=1, inplace=True)"
   ]
  },
  {
   "cell_type": "code",
   "execution_count": 23,
   "id": "95ab8b16",
   "metadata": {
    "execution": {
     "iopub.execute_input": "2025-08-06T17:20:34.253732Z",
     "iopub.status.busy": "2025-08-06T17:20:34.253014Z",
     "iopub.status.idle": "2025-08-06T17:20:34.258993Z",
     "shell.execute_reply": "2025-08-06T17:20:34.258073Z"
    },
    "papermill": {
     "duration": 0.02917,
     "end_time": "2025-08-06T17:20:34.260802",
     "exception": false,
     "start_time": "2025-08-06T17:20:34.231632",
     "status": "completed"
    },
    "tags": []
   },
   "outputs": [],
   "source": [
    "if len(excluded_features_columns) > 0:\n",
    "    print(f\"Dropping features: {excluded_features_columns}\")\n",
    "    X_test.drop(excluded_features_columns, axis=1, inplace=True)"
   ]
  },
  {
   "cell_type": "code",
   "execution_count": 24,
   "id": "1853aaf5-fb9f-46cb-a2b5-8ea4ae2237e4",
   "metadata": {
    "execution": {
     "iopub.execute_input": "2025-08-06T17:20:34.303245Z",
     "iopub.status.busy": "2025-08-06T17:20:34.302771Z",
     "iopub.status.idle": "2025-08-06T17:20:34.309536Z",
     "shell.execute_reply": "2025-08-06T17:20:34.308517Z"
    },
    "papermill": {
     "duration": 0.030144,
     "end_time": "2025-08-06T17:20:34.311365",
     "exception": false,
     "start_time": "2025-08-06T17:20:34.281221",
     "status": "completed"
    },
    "tags": []
   },
   "outputs": [],
   "source": [
    "if len(excluded_features_columns) > 0:\n",
    "    print(f\"Dropping features: {excluded_features_columns}\")\n",
    "    X_calib.drop(excluded_features_columns, axis=1, inplace=True)"
   ]
  },
  {
   "cell_type": "code",
   "execution_count": 25,
   "id": "76c4dc6d",
   "metadata": {
    "execution": {
     "iopub.execute_input": "2025-08-06T17:20:34.352668Z",
     "iopub.status.busy": "2025-08-06T17:20:34.351980Z",
     "iopub.status.idle": "2025-08-06T17:20:34.357462Z",
     "shell.execute_reply": "2025-08-06T17:20:34.356493Z"
    },
    "papermill": {
     "duration": 0.028061,
     "end_time": "2025-08-06T17:20:34.359170",
     "exception": false,
     "start_time": "2025-08-06T17:20:34.331109",
     "status": "completed"
    },
    "tags": []
   },
   "outputs": [],
   "source": [
    "# EXCLUDE CERTAIN SUBGROUPS\n",
    "# -------------------------\n",
    "\n",
    "mode = universe.get(\"exclude_subgroups\", \"keep-all\") # Defaults to \"keep-all\" if the key is missing."
   ]
  },
  {
   "cell_type": "code",
   "execution_count": 26,
   "id": "21994072",
   "metadata": {
    "execution": {
     "iopub.execute_input": "2025-08-06T17:20:34.403463Z",
     "iopub.status.busy": "2025-08-06T17:20:34.402921Z",
     "iopub.status.idle": "2025-08-06T17:20:34.411382Z",
     "shell.execute_reply": "2025-08-06T17:20:34.410292Z"
    },
    "papermill": {
     "duration": 0.031956,
     "end_time": "2025-08-06T17:20:34.413121",
     "exception": false,
     "start_time": "2025-08-06T17:20:34.381165",
     "status": "completed"
    },
    "tags": []
   },
   "outputs": [],
   "source": [
    "if mode == \"keep-all\":\n",
    "    keep_mask = pd.Series(True, index=org_train.index)\n",
    "\n",
    "elif mode == \"drop-non-german\":\n",
    "    keep_mask = (org_train[\"maxdeutsch1\"] == 1) & (org_train[\"maxdeutsch.Missing.\"] == 0)\n",
    "\n",
    "else:\n",
    "    raise ValueError(f\"Unsupported mode for exclude_subgroups: {mode}\")"
   ]
  },
  {
   "cell_type": "code",
   "execution_count": 27,
   "id": "71651440",
   "metadata": {
    "execution": {
     "iopub.execute_input": "2025-08-06T17:20:34.456349Z",
     "iopub.status.busy": "2025-08-06T17:20:34.455755Z",
     "iopub.status.idle": "2025-08-06T17:20:34.464701Z",
     "shell.execute_reply": "2025-08-06T17:20:34.463459Z"
    },
    "papermill": {
     "duration": 0.032319,
     "end_time": "2025-08-06T17:20:34.466653",
     "exception": false,
     "start_time": "2025-08-06T17:20:34.434334",
     "status": "completed"
    },
    "tags": []
   },
   "outputs": [
    {
     "name": "stdout",
     "output_type": "stream",
     "text": [
      "Dropping 741 rows (14.82%) where mode='drop-non-german'\n"
     ]
    }
   ],
   "source": [
    "n_drop = (~keep_mask).sum() # Calculates how many rows are set to be dropped\n",
    "if n_drop > 0:\n",
    "    pct = n_drop / len(keep_mask) * 100\n",
    "    print(f\"Dropping {n_drop} rows ({pct:.2f}%) where mode='{mode}'\")"
   ]
  },
  {
   "cell_type": "code",
   "execution_count": 28,
   "id": "5fb8eee5",
   "metadata": {
    "execution": {
     "iopub.execute_input": "2025-08-06T17:20:34.508818Z",
     "iopub.status.busy": "2025-08-06T17:20:34.508193Z",
     "iopub.status.idle": "2025-08-06T17:20:34.517893Z",
     "shell.execute_reply": "2025-08-06T17:20:34.516766Z"
    },
    "papermill": {
     "duration": 0.033184,
     "end_time": "2025-08-06T17:20:34.519629",
     "exception": false,
     "start_time": "2025-08-06T17:20:34.486445",
     "status": "completed"
    },
    "tags": []
   },
   "outputs": [],
   "source": [
    "X_train = X_train[keep_mask]"
   ]
  },
  {
   "cell_type": "code",
   "execution_count": 29,
   "id": "b202bb3a",
   "metadata": {
    "execution": {
     "iopub.execute_input": "2025-08-06T17:20:34.561615Z",
     "iopub.status.busy": "2025-08-06T17:20:34.560962Z",
     "iopub.status.idle": "2025-08-06T17:20:34.569507Z",
     "shell.execute_reply": "2025-08-06T17:20:34.568382Z"
    },
    "papermill": {
     "duration": 0.031598,
     "end_time": "2025-08-06T17:20:34.571454",
     "exception": false,
     "start_time": "2025-08-06T17:20:34.539856",
     "status": "completed"
    },
    "tags": []
   },
   "outputs": [],
   "source": [
    "y_train = y_train[keep_mask]"
   ]
  },
  {
   "cell_type": "markdown",
   "id": "493e2ac3",
   "metadata": {
    "papermill": {
     "duration": 0.020665,
     "end_time": "2025-08-06T17:20:34.613366",
     "exception": false,
     "start_time": "2025-08-06T17:20:34.592701",
     "status": "completed"
    },
    "tags": []
   },
   "source": [
    "# Model Training"
   ]
  },
  {
   "cell_type": "code",
   "execution_count": 30,
   "id": "679e1268",
   "metadata": {
    "execution": {
     "iopub.execute_input": "2025-08-06T17:20:34.668904Z",
     "iopub.status.busy": "2025-08-06T17:20:34.668423Z",
     "iopub.status.idle": "2025-08-06T17:20:34.777959Z",
     "shell.execute_reply": "2025-08-06T17:20:34.777206Z"
    },
    "papermill": {
     "duration": 0.146276,
     "end_time": "2025-08-06T17:20:34.779918",
     "exception": false,
     "start_time": "2025-08-06T17:20:34.633642",
     "status": "completed"
    },
    "tags": []
   },
   "outputs": [],
   "source": [
    "from sklearn.linear_model import LogisticRegression\n",
    "from sklearn.ensemble import GradientBoostingClassifier, RandomForestClassifier\n",
    "\n",
    "if (universe[\"model\"] == \"logreg\"):\n",
    "    model = LogisticRegression() #penalty=\"none\", solver=\"newton-cg\", max_iter=1)\n",
    "elif (universe[\"model\"] == \"penalized_logreg\"):\n",
    "    model = LogisticRegression(penalty=\"l2\", C=0.1) #, solver=\"newton-cg\", max_iter=1)\n",
    "elif (universe[\"model\"] == \"rf\"):\n",
    "    model = RandomForestClassifier() # n_estimators=100, n_jobs=-1\n",
    "elif (universe[\"model\"] == \"gbm\"):\n",
    "    model = GradientBoostingClassifier()\n",
    "elif (universe[\"model\"] == \"elasticnet\"):\n",
    "    model = LogisticRegression(penalty = 'elasticnet', solver = 'saga', l1_ratio = 0.5) # max_iter=5000\n",
    "else:\n",
    "    raise \"Unsupported universe.model\""
   ]
  },
  {
   "cell_type": "code",
   "execution_count": 31,
   "id": "0cc8f744",
   "metadata": {
    "execution": {
     "iopub.execute_input": "2025-08-06T17:20:34.827143Z",
     "iopub.status.busy": "2025-08-06T17:20:34.826771Z",
     "iopub.status.idle": "2025-08-06T17:20:34.832436Z",
     "shell.execute_reply": "2025-08-06T17:20:34.831544Z"
    },
    "papermill": {
     "duration": 0.033244,
     "end_time": "2025-08-06T17:20:34.833871",
     "exception": false,
     "start_time": "2025-08-06T17:20:34.800627",
     "status": "completed"
    },
    "tags": []
   },
   "outputs": [],
   "source": [
    "from sklearn.pipeline import Pipeline\n",
    "from sklearn.preprocessing import StandardScaler\n",
    "\n",
    "model = Pipeline([\n",
    "    #(\"continuous_processor\", continuous_processor),\n",
    "    #(\"categorical_preprocessor\", categorical_preprocessor),\n",
    "    (\"scale\", StandardScaler() if universe[\"scale\"] == \"scale\" else None), \n",
    "    (\"model\", model),\n",
    "])"
   ]
  },
  {
   "cell_type": "code",
   "execution_count": 32,
   "id": "9442c04d",
   "metadata": {
    "execution": {
     "iopub.execute_input": "2025-08-06T17:20:34.859316Z",
     "iopub.status.busy": "2025-08-06T17:20:34.858449Z",
     "iopub.status.idle": "2025-08-06T17:20:34.991804Z",
     "shell.execute_reply": "2025-08-06T17:20:34.990646Z"
    },
    "papermill": {
     "duration": 0.147237,
     "end_time": "2025-08-06T17:20:34.993293",
     "exception": false,
     "start_time": "2025-08-06T17:20:34.846056",
     "status": "completed"
    },
    "tags": []
   },
   "outputs": [
    {
     "name": "stderr",
     "output_type": "stream",
     "text": [
      "/dss/dsshome1/0C/ra93lal2/.local/share/virtualenvs/CMA_Fairness_v2-3j10GkSs/lib/python3.10/site-packages/sklearn/linear_model/_logistic.py:444: ConvergenceWarning: lbfgs failed to converge (status=1):\n",
      "STOP: TOTAL NO. of ITERATIONS REACHED LIMIT.\n",
      "\n",
      "Increase the number of iterations (max_iter) or scale the data as shown in:\n",
      "    https://scikit-learn.org/stable/modules/preprocessing.html\n",
      "Please also refer to the documentation for alternative solver options:\n",
      "    https://scikit-learn.org/stable/modules/linear_model.html#logistic-regression\n",
      "  n_iter_i = _check_optimize_result(\n"
     ]
    },
    {
     "data": {
      "text/html": [
       "<style>#sk-container-id-1 {color: black;background-color: white;}#sk-container-id-1 pre{padding: 0;}#sk-container-id-1 div.sk-toggleable {background-color: white;}#sk-container-id-1 label.sk-toggleable__label {cursor: pointer;display: block;width: 100%;margin-bottom: 0;padding: 0.3em;box-sizing: border-box;text-align: center;}#sk-container-id-1 label.sk-toggleable__label-arrow:before {content: \"▸\";float: left;margin-right: 0.25em;color: #696969;}#sk-container-id-1 label.sk-toggleable__label-arrow:hover:before {color: black;}#sk-container-id-1 div.sk-estimator:hover label.sk-toggleable__label-arrow:before {color: black;}#sk-container-id-1 div.sk-toggleable__content {max-height: 0;max-width: 0;overflow: hidden;text-align: left;background-color: #f0f8ff;}#sk-container-id-1 div.sk-toggleable__content pre {margin: 0.2em;color: black;border-radius: 0.25em;background-color: #f0f8ff;}#sk-container-id-1 input.sk-toggleable__control:checked~div.sk-toggleable__content {max-height: 200px;max-width: 100%;overflow: auto;}#sk-container-id-1 input.sk-toggleable__control:checked~label.sk-toggleable__label-arrow:before {content: \"▾\";}#sk-container-id-1 div.sk-estimator input.sk-toggleable__control:checked~label.sk-toggleable__label {background-color: #d4ebff;}#sk-container-id-1 div.sk-label input.sk-toggleable__control:checked~label.sk-toggleable__label {background-color: #d4ebff;}#sk-container-id-1 input.sk-hidden--visually {border: 0;clip: rect(1px 1px 1px 1px);clip: rect(1px, 1px, 1px, 1px);height: 1px;margin: -1px;overflow: hidden;padding: 0;position: absolute;width: 1px;}#sk-container-id-1 div.sk-estimator {font-family: monospace;background-color: #f0f8ff;border: 1px dotted black;border-radius: 0.25em;box-sizing: border-box;margin-bottom: 0.5em;}#sk-container-id-1 div.sk-estimator:hover {background-color: #d4ebff;}#sk-container-id-1 div.sk-parallel-item::after {content: \"\";width: 100%;border-bottom: 1px solid gray;flex-grow: 1;}#sk-container-id-1 div.sk-label:hover label.sk-toggleable__label {background-color: #d4ebff;}#sk-container-id-1 div.sk-serial::before {content: \"\";position: absolute;border-left: 1px solid gray;box-sizing: border-box;top: 0;bottom: 0;left: 50%;z-index: 0;}#sk-container-id-1 div.sk-serial {display: flex;flex-direction: column;align-items: center;background-color: white;padding-right: 0.2em;padding-left: 0.2em;position: relative;}#sk-container-id-1 div.sk-item {position: relative;z-index: 1;}#sk-container-id-1 div.sk-parallel {display: flex;align-items: stretch;justify-content: center;background-color: white;position: relative;}#sk-container-id-1 div.sk-item::before, #sk-container-id-1 div.sk-parallel-item::before {content: \"\";position: absolute;border-left: 1px solid gray;box-sizing: border-box;top: 0;bottom: 0;left: 50%;z-index: -1;}#sk-container-id-1 div.sk-parallel-item {display: flex;flex-direction: column;z-index: 1;position: relative;background-color: white;}#sk-container-id-1 div.sk-parallel-item:first-child::after {align-self: flex-end;width: 50%;}#sk-container-id-1 div.sk-parallel-item:last-child::after {align-self: flex-start;width: 50%;}#sk-container-id-1 div.sk-parallel-item:only-child::after {width: 0;}#sk-container-id-1 div.sk-dashed-wrapped {border: 1px dashed gray;margin: 0 0.4em 0.5em 0.4em;box-sizing: border-box;padding-bottom: 0.4em;background-color: white;}#sk-container-id-1 div.sk-label label {font-family: monospace;font-weight: bold;display: inline-block;line-height: 1.2em;}#sk-container-id-1 div.sk-label-container {text-align: center;}#sk-container-id-1 div.sk-container {/* jupyter's `normalize.less` sets `[hidden] { display: none; }` but bootstrap.min.css set `[hidden] { display: none !important; }` so we also need the `!important` here to be able to override the default hidden behavior on the sphinx rendered scikit-learn.org. See: https://github.com/scikit-learn/scikit-learn/issues/21755 */display: inline-block !important;position: relative;}#sk-container-id-1 div.sk-text-repr-fallback {display: none;}</style><div id=\"sk-container-id-1\" class=\"sk-top-container\"><div class=\"sk-text-repr-fallback\"><pre>Pipeline(steps=[(&#x27;scale&#x27;, None), (&#x27;model&#x27;, LogisticRegression())])</pre><b>In a Jupyter environment, please rerun this cell to show the HTML representation or trust the notebook. <br />On GitHub, the HTML representation is unable to render, please try loading this page with nbviewer.org.</b></div><div class=\"sk-container\" hidden><div class=\"sk-item sk-dashed-wrapped\"><div class=\"sk-label-container\"><div class=\"sk-label sk-toggleable\"><input class=\"sk-toggleable__control sk-hidden--visually\" id=\"sk-estimator-id-1\" type=\"checkbox\" ><label for=\"sk-estimator-id-1\" class=\"sk-toggleable__label sk-toggleable__label-arrow\">Pipeline</label><div class=\"sk-toggleable__content\"><pre>Pipeline(steps=[(&#x27;scale&#x27;, None), (&#x27;model&#x27;, LogisticRegression())])</pre></div></div></div><div class=\"sk-serial\"><div class=\"sk-item\"><div class=\"sk-estimator sk-toggleable\"><input class=\"sk-toggleable__control sk-hidden--visually\" id=\"sk-estimator-id-2\" type=\"checkbox\" ><label for=\"sk-estimator-id-2\" class=\"sk-toggleable__label sk-toggleable__label-arrow\">None</label><div class=\"sk-toggleable__content\"><pre>None</pre></div></div></div><div class=\"sk-item\"><div class=\"sk-estimator sk-toggleable\"><input class=\"sk-toggleable__control sk-hidden--visually\" id=\"sk-estimator-id-3\" type=\"checkbox\" ><label for=\"sk-estimator-id-3\" class=\"sk-toggleable__label sk-toggleable__label-arrow\">LogisticRegression</label><div class=\"sk-toggleable__content\"><pre>LogisticRegression()</pre></div></div></div></div></div></div></div>"
      ],
      "text/plain": [
       "Pipeline(steps=[('scale', None), ('model', LogisticRegression())])"
      ]
     },
     "execution_count": 32,
     "metadata": {},
     "output_type": "execute_result"
    }
   ],
   "source": [
    "model.fit(X_train, y_train.values.ravel())"
   ]
  },
  {
   "cell_type": "code",
   "execution_count": 33,
   "id": "a7cf2e16",
   "metadata": {
    "execution": {
     "iopub.execute_input": "2025-08-06T17:20:35.051935Z",
     "iopub.status.busy": "2025-08-06T17:20:35.051447Z",
     "iopub.status.idle": "2025-08-06T17:20:35.145343Z",
     "shell.execute_reply": "2025-08-06T17:20:35.144518Z"
    },
    "papermill": {
     "duration": 0.126384,
     "end_time": "2025-08-06T17:20:35.146688",
     "exception": false,
     "start_time": "2025-08-06T17:20:35.020304",
     "status": "completed"
    },
    "tags": []
   },
   "outputs": [
    {
     "data": {
      "text/plain": [
       "0.858923196968008"
      ]
     },
     "execution_count": 33,
     "metadata": {},
     "output_type": "execute_result"
    }
   ],
   "source": [
    "from fairness_multiverse.universe import predict_w_threshold\n",
    "\n",
    "probs_test = model.predict_proba(X_test)\n",
    "\n",
    "'''\n",
    "Below code returns a boolean array (or binary 0/1 array depending on how it’s used) where each element \n",
    "is True if the probability of class 1 is greater than or equal to the threshold, and False otherwise.\n",
    "'''\n",
    "y_pred_default = predict_w_threshold(probs_test, 0.5)\n",
    "\n",
    "from sklearn.metrics import accuracy_score\n",
    "\n",
    "# Naive prediction\n",
    "accuracy_score(y_true = y_true, y_pred = y_pred_default)"
   ]
  },
  {
   "cell_type": "code",
   "execution_count": 34,
   "id": "081964c3",
   "metadata": {
    "execution": {
     "iopub.execute_input": "2025-08-06T17:20:35.171093Z",
     "iopub.status.busy": "2025-08-06T17:20:35.170572Z",
     "iopub.status.idle": "2025-08-06T17:20:35.253086Z",
     "shell.execute_reply": "2025-08-06T17:20:35.252359Z"
    },
    "papermill": {
     "duration": 0.096318,
     "end_time": "2025-08-06T17:20:35.254331",
     "exception": false,
     "start_time": "2025-08-06T17:20:35.158013",
     "status": "completed"
    },
    "tags": []
   },
   "outputs": [
    {
     "data": {
      "text/plain": [
       "array([0, 0, 0, ..., 0, 0, 0])"
      ]
     },
     "execution_count": 34,
     "metadata": {},
     "output_type": "execute_result"
    }
   ],
   "source": [
    "model.predict(X_test)"
   ]
  },
  {
   "cell_type": "markdown",
   "id": "56c9705b",
   "metadata": {
    "papermill": {
     "duration": 0.014985,
     "end_time": "2025-08-06T17:20:35.280367",
     "exception": false,
     "start_time": "2025-08-06T17:20:35.265382",
     "status": "completed"
    },
    "tags": []
   },
   "source": [
    "# Conformal Prediction"
   ]
  },
  {
   "cell_type": "code",
   "execution_count": 35,
   "id": "160ec6ff",
   "metadata": {
    "execution": {
     "iopub.execute_input": "2025-08-06T17:20:35.305028Z",
     "iopub.status.busy": "2025-08-06T17:20:35.304706Z",
     "iopub.status.idle": "2025-08-06T17:20:35.309050Z",
     "shell.execute_reply": "2025-08-06T17:20:35.308281Z"
    },
    "papermill": {
     "duration": 0.017567,
     "end_time": "2025-08-06T17:20:35.310409",
     "exception": false,
     "start_time": "2025-08-06T17:20:35.292842",
     "status": "completed"
    },
    "tags": []
   },
   "outputs": [],
   "source": [
    "# Miscoverage level for conformal prediction (10% allowed error rate => 90% target coverage)\n",
    "alpha = 0.1"
   ]
  },
  {
   "cell_type": "code",
   "execution_count": 36,
   "id": "eadf4555-3dd3-440e-8e35-f82a4ad9f855",
   "metadata": {
    "execution": {
     "iopub.execute_input": "2025-08-06T17:20:35.344279Z",
     "iopub.status.busy": "2025-08-06T17:20:35.343773Z",
     "iopub.status.idle": "2025-08-06T17:20:35.431640Z",
     "shell.execute_reply": "2025-08-06T17:20:35.430490Z"
    },
    "papermill": {
     "duration": 0.112055,
     "end_time": "2025-08-06T17:20:35.434140",
     "exception": false,
     "start_time": "2025-08-06T17:20:35.322085",
     "status": "completed"
    },
    "tags": []
   },
   "outputs": [],
   "source": [
    "probs_calib = model.predict_proba(X_calib)"
   ]
  },
  {
   "cell_type": "code",
   "execution_count": 37,
   "id": "2ed93547-6d5d-4983-9b36-1ecb300da49a",
   "metadata": {
    "execution": {
     "iopub.execute_input": "2025-08-06T17:20:35.560283Z",
     "iopub.status.busy": "2025-08-06T17:20:35.559268Z",
     "iopub.status.idle": "2025-08-06T17:20:35.565349Z",
     "shell.execute_reply": "2025-08-06T17:20:35.564226Z"
    },
    "papermill": {
     "duration": 0.031955,
     "end_time": "2025-08-06T17:20:35.567184",
     "exception": false,
     "start_time": "2025-08-06T17:20:35.535229",
     "status": "completed"
    },
    "tags": []
   },
   "outputs": [],
   "source": [
    "y_calib = y_calib.values.ravel().astype(int)"
   ]
  },
  {
   "cell_type": "code",
   "execution_count": 38,
   "id": "65d1320d-f588-4b38-9072-62af1ae97f7d",
   "metadata": {
    "execution": {
     "iopub.execute_input": "2025-08-06T17:20:35.615295Z",
     "iopub.status.busy": "2025-08-06T17:20:35.614870Z",
     "iopub.status.idle": "2025-08-06T17:20:35.621908Z",
     "shell.execute_reply": "2025-08-06T17:20:35.620892Z"
    },
    "papermill": {
     "duration": 0.031824,
     "end_time": "2025-08-06T17:20:35.623636",
     "exception": false,
     "start_time": "2025-08-06T17:20:35.591812",
     "status": "completed"
    },
    "tags": []
   },
   "outputs": [],
   "source": [
    "from fairness_multiverse.conformal import compute_nc_scores\n",
    "\n",
    "# Compute nonconformity scores on calibration set (1 - probability of true class)\n",
    "nc_scores = compute_nc_scores(probs_calib, y_calib)"
   ]
  },
  {
   "cell_type": "code",
   "execution_count": 39,
   "id": "df3b8ca3-53b7-43d5-9667-7c85da7aeda2",
   "metadata": {
    "execution": {
     "iopub.execute_input": "2025-08-06T17:20:35.664565Z",
     "iopub.status.busy": "2025-08-06T17:20:35.664126Z",
     "iopub.status.idle": "2025-08-06T17:20:35.670495Z",
     "shell.execute_reply": "2025-08-06T17:20:35.669429Z"
    },
    "papermill": {
     "duration": 0.030273,
     "end_time": "2025-08-06T17:20:35.674652",
     "exception": false,
     "start_time": "2025-08-06T17:20:35.644379",
     "status": "completed"
    },
    "tags": []
   },
   "outputs": [],
   "source": [
    "from fairness_multiverse.conformal import find_threshold\n",
    "\n",
    "# Find conformal threshold q_hat for the given alpha (split conformal method)\n",
    "q_hat = find_threshold(nc_scores, alpha)"
   ]
  },
  {
   "cell_type": "code",
   "execution_count": 40,
   "id": "4d29e6c1-0ef6-4aa4-b8fe-4fe79b0d033a",
   "metadata": {
    "execution": {
     "iopub.execute_input": "2025-08-06T17:20:35.722351Z",
     "iopub.status.busy": "2025-08-06T17:20:35.722001Z",
     "iopub.status.idle": "2025-08-06T17:20:35.728791Z",
     "shell.execute_reply": "2025-08-06T17:20:35.728096Z"
    },
    "papermill": {
     "duration": 0.031827,
     "end_time": "2025-08-06T17:20:35.730411",
     "exception": false,
     "start_time": "2025-08-06T17:20:35.698584",
     "status": "completed"
    },
    "tags": []
   },
   "outputs": [
    {
     "data": {
      "text/plain": [
       "0.6695643493377758"
      ]
     },
     "execution_count": 40,
     "metadata": {},
     "output_type": "execute_result"
    }
   ],
   "source": [
    "q_hat"
   ]
  },
  {
   "cell_type": "code",
   "execution_count": 41,
   "id": "92460794-cdac-4be2-ba28-f28c0515a6fb",
   "metadata": {
    "execution": {
     "iopub.execute_input": "2025-08-06T17:20:35.781400Z",
     "iopub.status.busy": "2025-08-06T17:20:35.780474Z",
     "iopub.status.idle": "2025-08-06T17:20:36.542501Z",
     "shell.execute_reply": "2025-08-06T17:20:36.541720Z"
    },
    "papermill": {
     "duration": 0.789951,
     "end_time": "2025-08-06T17:20:36.544369",
     "exception": false,
     "start_time": "2025-08-06T17:20:35.754418",
     "status": "completed"
    },
    "tags": []
   },
   "outputs": [],
   "source": [
    "from fairness_multiverse.conformal import predict_conformal_sets\n",
    "\n",
    "# Generate prediction sets for each test example\n",
    "pred_sets = predict_conformal_sets(model, X_test, q_hat)"
   ]
  },
  {
   "cell_type": "code",
   "execution_count": 42,
   "id": "d90c9a65-e6db-4f5d-80cd-e68fb7e46829",
   "metadata": {
    "execution": {
     "iopub.execute_input": "2025-08-06T17:20:36.611342Z",
     "iopub.status.busy": "2025-08-06T17:20:36.610267Z",
     "iopub.status.idle": "2025-08-06T17:20:36.616502Z",
     "shell.execute_reply": "2025-08-06T17:20:36.615418Z"
    },
    "papermill": {
     "duration": 0.034019,
     "end_time": "2025-08-06T17:20:36.618337",
     "exception": false,
     "start_time": "2025-08-06T17:20:36.584318",
     "status": "completed"
    },
    "tags": []
   },
   "outputs": [],
   "source": [
    "y_true = y_true.squeeze()"
   ]
  },
  {
   "cell_type": "code",
   "execution_count": 43,
   "id": "3a58a54a-1e68-46b9-927a-df01f18aebc8",
   "metadata": {
    "execution": {
     "iopub.execute_input": "2025-08-06T17:20:36.670409Z",
     "iopub.status.busy": "2025-08-06T17:20:36.669662Z",
     "iopub.status.idle": "2025-08-06T17:20:37.776246Z",
     "shell.execute_reply": "2025-08-06T17:20:37.775082Z"
    },
    "papermill": {
     "duration": 1.134219,
     "end_time": "2025-08-06T17:20:37.778172",
     "exception": false,
     "start_time": "2025-08-06T17:20:36.643953",
     "status": "completed"
    },
    "tags": []
   },
   "outputs": [],
   "source": [
    "from fairness_multiverse.conformal import evaluate_sets\n",
    "\n",
    "# Evaluate coverage and average set size on test data\n",
    "metrics = evaluate_sets(pred_sets, y_true)"
   ]
  },
  {
   "cell_type": "markdown",
   "id": "2b569c12-9aaa-4c88-98c9-bbcd0cf3ebb8",
   "metadata": {
    "papermill": {
     "duration": 0.021567,
     "end_time": "2025-08-06T17:20:37.821874",
     "exception": false,
     "start_time": "2025-08-06T17:20:37.800307",
     "status": "completed"
    },
    "tags": []
   },
   "source": [
    "# CP Metrics"
   ]
  },
  {
   "cell_type": "code",
   "execution_count": 44,
   "id": "5ce0a5cb-201f-45a0-ade5-94c7f0bd6095",
   "metadata": {
    "execution": {
     "iopub.execute_input": "2025-08-06T17:20:37.866671Z",
     "iopub.status.busy": "2025-08-06T17:20:37.865722Z",
     "iopub.status.idle": "2025-08-06T17:20:37.873602Z",
     "shell.execute_reply": "2025-08-06T17:20:37.872510Z"
    },
    "papermill": {
     "duration": 0.032712,
     "end_time": "2025-08-06T17:20:37.875319",
     "exception": false,
     "start_time": "2025-08-06T17:20:37.842607",
     "status": "completed"
    },
    "tags": []
   },
   "outputs": [
    {
     "data": {
      "text/plain": [
       "{'coverage': 0.9108126184371865, 'avg_size': 1.2205105339427043}"
      ]
     },
     "execution_count": 44,
     "metadata": {},
     "output_type": "execute_result"
    }
   ],
   "source": [
    "metrics"
   ]
  },
  {
   "cell_type": "code",
   "execution_count": 45,
   "id": "9b9a838d-31c9-430b-ae14-12baee460d17",
   "metadata": {
    "execution": {
     "iopub.execute_input": "2025-08-06T17:20:37.907666Z",
     "iopub.status.busy": "2025-08-06T17:20:37.907108Z",
     "iopub.status.idle": "2025-08-06T17:20:37.914909Z",
     "shell.execute_reply": "2025-08-06T17:20:37.913811Z"
    },
    "papermill": {
     "duration": 0.025002,
     "end_time": "2025-08-06T17:20:37.916848",
     "exception": false,
     "start_time": "2025-08-06T17:20:37.891846",
     "status": "completed"
    },
    "tags": []
   },
   "outputs": [],
   "source": [
    "example_universe = universe.copy()\n",
    "universe_training_year = example_universe.get(\"training_year\")\n",
    "universe_training_size = example_universe.get(\"training_size\")\n",
    "universe_scale = example_universe.get(\"scale\")\n",
    "universe_model = example_universe.get(\"model\")\n",
    "universe_exclude_features = example_universe.get(\"exclude_features\")\n",
    "universe_exclude_subgroups = example_universe.get(\"exclude_subgroups\")"
   ]
  },
  {
   "cell_type": "code",
   "execution_count": 46,
   "id": "f4b6a8ac-9dc0-4245-8a91-5b3b5999c4f9",
   "metadata": {
    "execution": {
     "iopub.execute_input": "2025-08-06T17:20:37.961720Z",
     "iopub.status.busy": "2025-08-06T17:20:37.960620Z",
     "iopub.status.idle": "2025-08-06T17:20:37.967505Z",
     "shell.execute_reply": "2025-08-06T17:20:37.966346Z"
    },
    "papermill": {
     "duration": 0.029052,
     "end_time": "2025-08-06T17:20:37.969501",
     "exception": false,
     "start_time": "2025-08-06T17:20:37.940449",
     "status": "completed"
    },
    "tags": []
   },
   "outputs": [],
   "source": [
    "cp_metrics_dict = {\n",
    "    \"universe_id\": [universe_id],\n",
    "    \"universe_training_year\": [universe_training_year],\n",
    "    \"universe_training_size\": [universe_training_size],\n",
    "    \"universe_scale\": [universe_scale],\n",
    "    \"universe_model\": [universe_model],\n",
    "    \"universe_exclude_features\": [universe_exclude_features],\n",
    "    \"universe_exclude_subgroups\": [universe_exclude_subgroups],\n",
    "    \"q_hat\": [q_hat],\n",
    "    \"coverage\": [metrics[\"coverage\"]],\n",
    "    \"avg_size\": [metrics[\"avg_size\"]],\n",
    "}"
   ]
  },
  {
   "cell_type": "code",
   "execution_count": 47,
   "id": "33007efc-14e9-4ec6-97ac-56a455c82265",
   "metadata": {
    "execution": {
     "iopub.execute_input": "2025-08-06T17:20:38.024465Z",
     "iopub.status.busy": "2025-08-06T17:20:38.018833Z",
     "iopub.status.idle": "2025-08-06T17:20:38.032985Z",
     "shell.execute_reply": "2025-08-06T17:20:38.031957Z"
    },
    "papermill": {
     "duration": 0.042456,
     "end_time": "2025-08-06T17:20:38.035100",
     "exception": false,
     "start_time": "2025-08-06T17:20:37.992644",
     "status": "completed"
    },
    "tags": []
   },
   "outputs": [],
   "source": [
    "cp_metrics_df = pd.DataFrame(cp_metrics_dict)"
   ]
  },
  {
   "cell_type": "code",
   "execution_count": 48,
   "id": "db12611b-57b2-4910-b9d0-355adfd6e7bf",
   "metadata": {
    "execution": {
     "iopub.execute_input": "2025-08-06T17:20:38.090834Z",
     "iopub.status.busy": "2025-08-06T17:20:38.090307Z",
     "iopub.status.idle": "2025-08-06T17:20:38.104447Z",
     "shell.execute_reply": "2025-08-06T17:20:38.103601Z"
    },
    "papermill": {
     "duration": 0.043656,
     "end_time": "2025-08-06T17:20:38.106035",
     "exception": false,
     "start_time": "2025-08-06T17:20:38.062379",
     "status": "completed"
    },
    "tags": []
   },
   "outputs": [
    {
     "data": {
      "text/html": [
       "<div>\n",
       "<style scoped>\n",
       "    .dataframe tbody tr th:only-of-type {\n",
       "        vertical-align: middle;\n",
       "    }\n",
       "\n",
       "    .dataframe tbody tr th {\n",
       "        vertical-align: top;\n",
       "    }\n",
       "\n",
       "    .dataframe thead th {\n",
       "        text-align: right;\n",
       "    }\n",
       "</style>\n",
       "<table border=\"1\" class=\"dataframe\">\n",
       "  <thead>\n",
       "    <tr style=\"text-align: right;\">\n",
       "      <th></th>\n",
       "      <th>universe_id</th>\n",
       "      <th>universe_training_year</th>\n",
       "      <th>universe_training_size</th>\n",
       "      <th>universe_scale</th>\n",
       "      <th>universe_model</th>\n",
       "      <th>universe_exclude_features</th>\n",
       "      <th>universe_exclude_subgroups</th>\n",
       "      <th>q_hat</th>\n",
       "      <th>coverage</th>\n",
       "      <th>avg_size</th>\n",
       "    </tr>\n",
       "  </thead>\n",
       "  <tbody>\n",
       "    <tr>\n",
       "      <th>0</th>\n",
       "      <td>68631903985693e17db38f7d216d7b37</td>\n",
       "      <td>2014</td>\n",
       "      <td>5k</td>\n",
       "      <td>do-not-scale</td>\n",
       "      <td>logreg</td>\n",
       "      <td>none</td>\n",
       "      <td>drop-non-german</td>\n",
       "      <td>0.669564</td>\n",
       "      <td>0.910813</td>\n",
       "      <td>1.220511</td>\n",
       "    </tr>\n",
       "  </tbody>\n",
       "</table>\n",
       "</div>"
      ],
      "text/plain": [
       "                        universe_id universe_training_year  \\\n",
       "0  68631903985693e17db38f7d216d7b37                   2014   \n",
       "\n",
       "  universe_training_size universe_scale universe_model  \\\n",
       "0                     5k   do-not-scale         logreg   \n",
       "\n",
       "  universe_exclude_features universe_exclude_subgroups     q_hat  coverage  \\\n",
       "0                      none            drop-non-german  0.669564  0.910813   \n",
       "\n",
       "   avg_size  \n",
       "0  1.220511  "
      ]
     },
     "execution_count": 48,
     "metadata": {},
     "output_type": "execute_result"
    }
   ],
   "source": [
    "cp_metrics_df"
   ]
  },
  {
   "cell_type": "markdown",
   "id": "c825ecb4-0d3d-41d6-b7c6-eccb21272259",
   "metadata": {
    "papermill": {
     "duration": 0.021355,
     "end_time": "2025-08-06T17:20:38.153501",
     "exception": false,
     "start_time": "2025-08-06T17:20:38.132146",
     "status": "completed"
    },
    "tags": []
   },
   "source": [
    "Conditional coverage & looking at subgroups"
   ]
  },
  {
   "cell_type": "code",
   "execution_count": 49,
   "id": "027ae886-68dd-4141-96c7-805a5450e1ef",
   "metadata": {
    "execution": {
     "iopub.execute_input": "2025-08-06T17:20:38.198187Z",
     "iopub.status.busy": "2025-08-06T17:20:38.197718Z",
     "iopub.status.idle": "2025-08-06T17:20:38.489246Z",
     "shell.execute_reply": "2025-08-06T17:20:38.488248Z"
    },
    "papermill": {
     "duration": 0.315536,
     "end_time": "2025-08-06T17:20:38.491358",
     "exception": false,
     "start_time": "2025-08-06T17:20:38.175822",
     "status": "completed"
    },
    "tags": []
   },
   "outputs": [],
   "source": [
    "from fairness_multiverse.conformal import build_cp_groups\n",
    "\n",
    "cp_groups_df = build_cp_groups(pred_sets, y_true, X_test.index, org_test)"
   ]
  },
  {
   "cell_type": "code",
   "execution_count": 50,
   "id": "6cbdab96-b2b2-45af-ad54-d0516db2e28d",
   "metadata": {
    "execution": {
     "iopub.execute_input": "2025-08-06T17:20:38.552184Z",
     "iopub.status.busy": "2025-08-06T17:20:38.551681Z",
     "iopub.status.idle": "2025-08-06T17:20:39.977689Z",
     "shell.execute_reply": "2025-08-06T17:20:39.976878Z"
    },
    "papermill": {
     "duration": 1.452925,
     "end_time": "2025-08-06T17:20:39.979307",
     "exception": false,
     "start_time": "2025-08-06T17:20:38.526382",
     "status": "completed"
    },
    "tags": []
   },
   "outputs": [],
   "source": [
    "# Define covered = 1 if true_label is in the predicted set\n",
    "cp_groups_df['covered'] = cp_groups_df.apply(\n",
    "    lambda r: int(r['true_label'] in r['pred_set']),\n",
    "    axis=1\n",
    ")"
   ]
  },
  {
   "cell_type": "code",
   "execution_count": 51,
   "id": "90032e27-66df-4540-9169-4e89cfbaa758",
   "metadata": {
    "execution": {
     "iopub.execute_input": "2025-08-06T17:20:40.004743Z",
     "iopub.status.busy": "2025-08-06T17:20:40.004226Z",
     "iopub.status.idle": "2025-08-06T17:20:40.013954Z",
     "shell.execute_reply": "2025-08-06T17:20:40.013161Z"
    },
    "papermill": {
     "duration": 0.02357,
     "end_time": "2025-08-06T17:20:40.015343",
     "exception": false,
     "start_time": "2025-08-06T17:20:39.991773",
     "status": "completed"
    },
    "tags": []
   },
   "outputs": [],
   "source": [
    "subgroups = ['frau1','nongerman','nongerman_male','nongerman_female']\n",
    "\n",
    "# Conditional coverage for subgroup==1\n",
    "cond_coverage = {\n",
    "    g: cp_groups_df.loc[cp_groups_df[g]==1, 'covered'].mean()\n",
    "    for g in subgroups\n",
    "}"
   ]
  },
  {
   "cell_type": "code",
   "execution_count": 52,
   "id": "1e348fb1-b9c3-45bc-ba23-f016827a7e0d",
   "metadata": {
    "execution": {
     "iopub.execute_input": "2025-08-06T17:20:40.044290Z",
     "iopub.status.busy": "2025-08-06T17:20:40.043956Z",
     "iopub.status.idle": "2025-08-06T17:20:40.050286Z",
     "shell.execute_reply": "2025-08-06T17:20:40.049407Z"
    },
    "papermill": {
     "duration": 0.019876,
     "end_time": "2025-08-06T17:20:40.051536",
     "exception": false,
     "start_time": "2025-08-06T17:20:40.031660",
     "status": "completed"
    },
    "tags": []
   },
   "outputs": [
    {
     "data": {
      "text/plain": [
       "{'frau1': 0.9078312441029789,\n",
       " 'nongerman': 0.9370684331667883,\n",
       " 'nongerman_male': 0.9501035756101954,\n",
       " 'nongerman_female': 0.9154992548435171}"
      ]
     },
     "execution_count": 52,
     "metadata": {},
     "output_type": "execute_result"
    }
   ],
   "source": [
    "cond_coverage"
   ]
  },
  {
   "cell_type": "code",
   "execution_count": 53,
   "id": "f5093324-c3dd-4d63-bc4c-8d945e5c8bbb",
   "metadata": {
    "execution": {
     "iopub.execute_input": "2025-08-06T17:20:40.080595Z",
     "iopub.status.busy": "2025-08-06T17:20:40.079712Z",
     "iopub.status.idle": "2025-08-06T17:20:40.085944Z",
     "shell.execute_reply": "2025-08-06T17:20:40.085236Z"
    },
    "papermill": {
     "duration": 0.023927,
     "end_time": "2025-08-06T17:20:40.087391",
     "exception": false,
     "start_time": "2025-08-06T17:20:40.063464",
     "status": "completed"
    },
    "tags": []
   },
   "outputs": [],
   "source": [
    "for subgroup, cov in cond_coverage.items():\n",
    "    cp_metrics_df[f\"cov_{subgroup}\"] = cov"
   ]
  },
  {
   "cell_type": "code",
   "execution_count": 54,
   "id": "6e872e10-dbe5-49e8-b554-5030c98ff75d",
   "metadata": {
    "execution": {
     "iopub.execute_input": "2025-08-06T17:20:40.124952Z",
     "iopub.status.busy": "2025-08-06T17:20:40.124513Z",
     "iopub.status.idle": "2025-08-06T17:20:40.141115Z",
     "shell.execute_reply": "2025-08-06T17:20:40.140125Z"
    },
    "papermill": {
     "duration": 0.04191,
     "end_time": "2025-08-06T17:20:40.142379",
     "exception": false,
     "start_time": "2025-08-06T17:20:40.100469",
     "status": "completed"
    },
    "tags": []
   },
   "outputs": [
    {
     "data": {
      "text/html": [
       "<div>\n",
       "<style scoped>\n",
       "    .dataframe tbody tr th:only-of-type {\n",
       "        vertical-align: middle;\n",
       "    }\n",
       "\n",
       "    .dataframe tbody tr th {\n",
       "        vertical-align: top;\n",
       "    }\n",
       "\n",
       "    .dataframe thead th {\n",
       "        text-align: right;\n",
       "    }\n",
       "</style>\n",
       "<table border=\"1\" class=\"dataframe\">\n",
       "  <thead>\n",
       "    <tr style=\"text-align: right;\">\n",
       "      <th></th>\n",
       "      <th>universe_id</th>\n",
       "      <th>universe_training_year</th>\n",
       "      <th>universe_training_size</th>\n",
       "      <th>universe_scale</th>\n",
       "      <th>universe_model</th>\n",
       "      <th>universe_exclude_features</th>\n",
       "      <th>universe_exclude_subgroups</th>\n",
       "      <th>q_hat</th>\n",
       "      <th>coverage</th>\n",
       "      <th>avg_size</th>\n",
       "      <th>cov_frau1</th>\n",
       "      <th>cov_nongerman</th>\n",
       "      <th>cov_nongerman_male</th>\n",
       "      <th>cov_nongerman_female</th>\n",
       "    </tr>\n",
       "  </thead>\n",
       "  <tbody>\n",
       "    <tr>\n",
       "      <th>0</th>\n",
       "      <td>68631903985693e17db38f7d216d7b37</td>\n",
       "      <td>2014</td>\n",
       "      <td>5k</td>\n",
       "      <td>do-not-scale</td>\n",
       "      <td>logreg</td>\n",
       "      <td>none</td>\n",
       "      <td>drop-non-german</td>\n",
       "      <td>0.669564</td>\n",
       "      <td>0.910813</td>\n",
       "      <td>1.220511</td>\n",
       "      <td>0.907831</td>\n",
       "      <td>0.937068</td>\n",
       "      <td>0.950104</td>\n",
       "      <td>0.915499</td>\n",
       "    </tr>\n",
       "  </tbody>\n",
       "</table>\n",
       "</div>"
      ],
      "text/plain": [
       "                        universe_id universe_training_year  \\\n",
       "0  68631903985693e17db38f7d216d7b37                   2014   \n",
       "\n",
       "  universe_training_size universe_scale universe_model  \\\n",
       "0                     5k   do-not-scale         logreg   \n",
       "\n",
       "  universe_exclude_features universe_exclude_subgroups     q_hat  coverage  \\\n",
       "0                      none            drop-non-german  0.669564  0.910813   \n",
       "\n",
       "   avg_size  cov_frau1  cov_nongerman  cov_nongerman_male  \\\n",
       "0  1.220511   0.907831       0.937068            0.950104   \n",
       "\n",
       "   cov_nongerman_female  \n",
       "0              0.915499  "
      ]
     },
     "execution_count": 54,
     "metadata": {},
     "output_type": "execute_result"
    }
   ],
   "source": [
    "cp_metrics_df"
   ]
  },
  {
   "cell_type": "markdown",
   "id": "33774451",
   "metadata": {
    "papermill": {
     "duration": 0.025855,
     "end_time": "2025-08-06T17:20:40.184728",
     "exception": false,
     "start_time": "2025-08-06T17:20:40.158873",
     "status": "completed"
    },
    "tags": []
   },
   "source": [
    "# (Fairness) Metrics"
   ]
  },
  {
   "cell_type": "code",
   "execution_count": 55,
   "id": "debc5d62",
   "metadata": {
    "execution": {
     "iopub.execute_input": "2025-08-06T17:20:40.238496Z",
     "iopub.status.busy": "2025-08-06T17:20:40.238055Z",
     "iopub.status.idle": "2025-08-06T17:20:40.257931Z",
     "shell.execute_reply": "2025-08-06T17:20:40.257087Z"
    },
    "papermill": {
     "duration": 0.049224,
     "end_time": "2025-08-06T17:20:40.259612",
     "exception": false,
     "start_time": "2025-08-06T17:20:40.210388",
     "status": "completed"
    },
    "tags": []
   },
   "outputs": [],
   "source": [
    "colname_to_bin = \"maxdeutsch1\"\n",
    "majority_value = org_train[colname_to_bin].mode()[0]\n",
    "\n",
    "org_test[\"majmin\"] = np.where(org_test[colname_to_bin] == majority_value, \"majority\", \"minority\")"
   ]
  },
  {
   "cell_type": "code",
   "execution_count": 56,
   "id": "06a50de5",
   "metadata": {
    "execution": {
     "iopub.execute_input": "2025-08-06T17:20:40.307737Z",
     "iopub.status.busy": "2025-08-06T17:20:40.307029Z",
     "iopub.status.idle": "2025-08-06T17:20:42.684826Z",
     "shell.execute_reply": "2025-08-06T17:20:42.683754Z"
    },
    "papermill": {
     "duration": 2.40405,
     "end_time": "2025-08-06T17:20:42.686915",
     "exception": false,
     "start_time": "2025-08-06T17:20:40.282865",
     "status": "completed"
    },
    "tags": []
   },
   "outputs": [],
   "source": [
    "example_universe = universe.copy()\n",
    "example_universe[\"cutoff\"] = example_universe[\"cutoff\"][0]\n",
    "example_universe[\"eval_fairness_grouping\"] = example_universe[\"eval_fairness_grouping\"][0]\n",
    "fairness_dict, metric_frame = universe_analysis.compute_metrics(\n",
    "    example_universe,\n",
    "    y_pred_prob=probs_test,\n",
    "    y_test=y_true,\n",
    "    org_test=org_test,\n",
    ")"
   ]
  },
  {
   "cell_type": "markdown",
   "id": "f95d4e02",
   "metadata": {
    "papermill": {
     "duration": 0.020993,
     "end_time": "2025-08-06T17:20:42.730803",
     "exception": false,
     "start_time": "2025-08-06T17:20:42.709810",
     "status": "completed"
    },
    "tags": []
   },
   "source": [
    "# Overall"
   ]
  },
  {
   "cell_type": "markdown",
   "id": "bdee4871",
   "metadata": {
    "papermill": {
     "duration": 0.02121,
     "end_time": "2025-08-06T17:20:42.773099",
     "exception": false,
     "start_time": "2025-08-06T17:20:42.751889",
     "status": "completed"
    },
    "tags": []
   },
   "source": [
    "Main fairness target: Equalized Odds. Seems to be a better fit than equal opportunity, since we're not only interested in Y = 1. Seems to be a better fit than demographic parity, since we also care about accuracy, not just equal distribution of preds.\n",
    "\n",
    "Pick column for computation of fairness metrics\n",
    "\n",
    "Performance\n",
    "Overall performance measures, most interesting in relation to the measures split by group below"
   ]
  },
  {
   "cell_type": "code",
   "execution_count": 57,
   "id": "c4e067c6",
   "metadata": {
    "execution": {
     "iopub.execute_input": "2025-08-06T17:20:42.818120Z",
     "iopub.status.busy": "2025-08-06T17:20:42.817549Z",
     "iopub.status.idle": "2025-08-06T17:20:42.826449Z",
     "shell.execute_reply": "2025-08-06T17:20:42.825482Z"
    },
    "papermill": {
     "duration": 0.033654,
     "end_time": "2025-08-06T17:20:42.827901",
     "exception": false,
     "start_time": "2025-08-06T17:20:42.794247",
     "status": "completed"
    },
    "tags": []
   },
   "outputs": [
    {
     "data": {
      "text/plain": [
       "accuracy                   0.216955\n",
       "balanced accuracy          0.532038\n",
       "f1                         0.238490\n",
       "precision                  0.136241\n",
       "false positive rate        0.891780\n",
       "false negative rate        0.044143\n",
       "selection rate             0.900000\n",
       "count                  89710.000000\n",
       "dtype: float64"
      ]
     },
     "execution_count": 57,
     "metadata": {},
     "output_type": "execute_result"
    }
   ],
   "source": [
    "metric_frame.overall"
   ]
  },
  {
   "cell_type": "markdown",
   "id": "e968fe9d",
   "metadata": {
    "papermill": {
     "duration": 0.021202,
     "end_time": "2025-08-06T17:20:42.870826",
     "exception": false,
     "start_time": "2025-08-06T17:20:42.849624",
     "status": "completed"
    },
    "tags": []
   },
   "source": [
    "By Group"
   ]
  },
  {
   "cell_type": "code",
   "execution_count": 58,
   "id": "ec325bce",
   "metadata": {
    "execution": {
     "iopub.execute_input": "2025-08-06T17:20:42.915980Z",
     "iopub.status.busy": "2025-08-06T17:20:42.915082Z",
     "iopub.status.idle": "2025-08-06T17:20:42.931323Z",
     "shell.execute_reply": "2025-08-06T17:20:42.930425Z"
    },
    "papermill": {
     "duration": 0.040608,
     "end_time": "2025-08-06T17:20:42.932814",
     "exception": false,
     "start_time": "2025-08-06T17:20:42.892206",
     "status": "completed"
    },
    "tags": []
   },
   "outputs": [
    {
     "data": {
      "text/html": [
       "<div>\n",
       "<style scoped>\n",
       "    .dataframe tbody tr th:only-of-type {\n",
       "        vertical-align: middle;\n",
       "    }\n",
       "\n",
       "    .dataframe tbody tr th {\n",
       "        vertical-align: top;\n",
       "    }\n",
       "\n",
       "    .dataframe thead th {\n",
       "        text-align: right;\n",
       "    }\n",
       "</style>\n",
       "<table border=\"1\" class=\"dataframe\">\n",
       "  <thead>\n",
       "    <tr style=\"text-align: right;\">\n",
       "      <th></th>\n",
       "      <th>accuracy</th>\n",
       "      <th>balanced accuracy</th>\n",
       "      <th>f1</th>\n",
       "      <th>precision</th>\n",
       "      <th>false positive rate</th>\n",
       "      <th>false negative rate</th>\n",
       "      <th>selection rate</th>\n",
       "      <th>count</th>\n",
       "    </tr>\n",
       "    <tr>\n",
       "      <th>majmin</th>\n",
       "      <th></th>\n",
       "      <th></th>\n",
       "      <th></th>\n",
       "      <th></th>\n",
       "      <th></th>\n",
       "      <th></th>\n",
       "      <th></th>\n",
       "      <th></th>\n",
       "    </tr>\n",
       "  </thead>\n",
       "  <tbody>\n",
       "    <tr>\n",
       "      <th>majority</th>\n",
       "      <td>0.238615</td>\n",
       "      <td>0.539641</td>\n",
       "      <td>0.247740</td>\n",
       "      <td>0.142470</td>\n",
       "      <td>0.869515</td>\n",
       "      <td>0.051204</td>\n",
       "      <td>0.879991</td>\n",
       "      <td>69170.0</td>\n",
       "    </tr>\n",
       "    <tr>\n",
       "      <th>minority</th>\n",
       "      <td>0.144012</td>\n",
       "      <td>0.508888</td>\n",
       "      <td>0.209371</td>\n",
       "      <td>0.117162</td>\n",
       "      <td>0.965331</td>\n",
       "      <td>0.016892</td>\n",
       "      <td>0.967381</td>\n",
       "      <td>20540.0</td>\n",
       "    </tr>\n",
       "  </tbody>\n",
       "</table>\n",
       "</div>"
      ],
      "text/plain": [
       "          accuracy  balanced accuracy        f1  precision  \\\n",
       "majmin                                                       \n",
       "majority  0.238615           0.539641  0.247740   0.142470   \n",
       "minority  0.144012           0.508888  0.209371   0.117162   \n",
       "\n",
       "          false positive rate  false negative rate  selection rate    count  \n",
       "majmin                                                                       \n",
       "majority             0.869515             0.051204        0.879991  69170.0  \n",
       "minority             0.965331             0.016892        0.967381  20540.0  "
      ]
     },
     "execution_count": 58,
     "metadata": {},
     "output_type": "execute_result"
    }
   ],
   "source": [
    "metric_frame.by_group"
   ]
  },
  {
   "cell_type": "code",
   "execution_count": 59,
   "id": "a9ddbe63",
   "metadata": {
    "execution": {
     "iopub.execute_input": "2025-08-06T17:20:42.979013Z",
     "iopub.status.busy": "2025-08-06T17:20:42.978467Z",
     "iopub.status.idle": "2025-08-06T17:20:45.515510Z",
     "shell.execute_reply": "2025-08-06T17:20:45.514451Z"
    },
    "papermill": {
     "duration": 2.562705,
     "end_time": "2025-08-06T17:20:45.517555",
     "exception": false,
     "start_time": "2025-08-06T17:20:42.954850",
     "status": "completed"
    },
    "tags": []
   },
   "outputs": [
    {
     "data": {
      "text/plain": [
       "array([[<Axes: title={'center': 'accuracy'}, xlabel='majmin'>,\n",
       "        <Axes: title={'center': 'balanced accuracy'}, xlabel='majmin'>,\n",
       "        <Axes: title={'center': 'f1'}, xlabel='majmin'>],\n",
       "       [<Axes: title={'center': 'precision'}, xlabel='majmin'>,\n",
       "        <Axes: title={'center': 'false positive rate'}, xlabel='majmin'>,\n",
       "        <Axes: title={'center': 'false negative rate'}, xlabel='majmin'>],\n",
       "       [<Axes: title={'center': 'selection rate'}, xlabel='majmin'>,\n",
       "        <Axes: title={'center': 'count'}, xlabel='majmin'>,\n",
       "        <Axes: xlabel='majmin'>]], dtype=object)"
      ]
     },
     "execution_count": 59,
     "metadata": {},
     "output_type": "execute_result"
    },
    {
     "data": {
      "image/png": "[encoded data removed]",
      "text/plain": [
       "<Figure size 1200x800 with 9 Axes>"
      ]
     },
     "metadata": {},
     "output_type": "display_data"
    }
   ],
   "source": [
    "# In a graphic\n",
    "metric_frame.by_group.plot.bar(\n",
    "    subplots=True,\n",
    "    layout=[3, 3],\n",
    "    legend=False,\n",
    "    figsize=[12, 8],\n",
    "    title=\"Show all metrics\",\n",
    ")"
   ]
  },
  {
   "cell_type": "markdown",
   "id": "f57a0bac",
   "metadata": {
    "papermill": {
     "duration": 0.028728,
     "end_time": "2025-08-06T17:20:45.575504",
     "exception": false,
     "start_time": "2025-08-06T17:20:45.546776",
     "status": "completed"
    },
    "tags": []
   },
   "source": [
    "# Final Output"
   ]
  },
  {
   "cell_type": "code",
   "execution_count": 60,
   "id": "96d280a3",
   "metadata": {
    "execution": {
     "iopub.execute_input": "2025-08-06T17:20:45.634357Z",
     "iopub.status.busy": "2025-08-06T17:20:45.633695Z",
     "iopub.status.idle": "2025-08-06T17:20:45.642767Z",
     "shell.execute_reply": "2025-08-06T17:20:45.641711Z"
    },
    "papermill": {
     "duration": 0.040732,
     "end_time": "2025-08-06T17:20:45.644672",
     "exception": false,
     "start_time": "2025-08-06T17:20:45.603940",
     "status": "completed"
    },
    "tags": []
   },
   "outputs": [
    {
     "data": {
      "text/plain": [
       "4"
      ]
     },
     "execution_count": 60,
     "metadata": {},
     "output_type": "execute_result"
    }
   ],
   "source": [
    "sub_universes = universe_analysis.generate_sub_universes()\n",
    "len(sub_universes)"
   ]
  },
  {
   "cell_type": "code",
   "execution_count": 61,
   "id": "92adf7ba",
   "metadata": {
    "execution": {
     "iopub.execute_input": "2025-08-06T17:20:45.705118Z",
     "iopub.status.busy": "2025-08-06T17:20:45.704344Z",
     "iopub.status.idle": "2025-08-06T17:20:45.711342Z",
     "shell.execute_reply": "2025-08-06T17:20:45.710265Z"
    },
    "papermill": {
     "duration": 0.039456,
     "end_time": "2025-08-06T17:20:45.713182",
     "exception": false,
     "start_time": "2025-08-06T17:20:45.673726",
     "status": "completed"
    },
    "tags": []
   },
   "outputs": [],
   "source": [
    "def filter_sub_universe_data(sub_universe, org_test):\n",
    "    # Keep all rows — no filtering\n",
    "    keep_rows_mask = np.ones(org_test.shape[0], dtype=bool)\n",
    "\n",
    "    print(f\"[INFO] Keeping all rows: {keep_rows_mask.sum()} rows retained.\")\n",
    "    return keep_rows_mask"
   ]
  },
  {
   "cell_type": "code",
   "execution_count": 62,
   "id": "4a759155",
   "metadata": {
    "execution": {
     "iopub.execute_input": "2025-08-06T17:20:45.772156Z",
     "iopub.status.busy": "2025-08-06T17:20:45.771382Z",
     "iopub.status.idle": "2025-08-06T17:20:56.467526Z",
     "shell.execute_reply": "2025-08-06T17:20:56.465557Z"
    },
    "papermill": {
     "duration": 10.727353,
     "end_time": "2025-08-06T17:20:56.469399",
     "exception": false,
     "start_time": "2025-08-06T17:20:45.742046",
     "status": "completed"
    },
    "tags": []
   },
   "outputs": [
    {
     "name": "stdout",
     "output_type": "stream",
     "text": [
      "Stopping execution_time clock.\n",
      "[INFO] Keeping all rows: 89710 rows retained.\n"
     ]
    },
    {
     "name": "stdout",
     "output_type": "stream",
     "text": [
      "[INFO] Keeping all rows: 89710 rows retained.\n"
     ]
    },
    {
     "name": "stdout",
     "output_type": "stream",
     "text": [
      "[INFO] Keeping all rows: 89710 rows retained.\n"
     ]
    },
    {
     "name": "stdout",
     "output_type": "stream",
     "text": [
      "[INFO] Keeping all rows: 89710 rows retained.\n"
     ]
    },
    {
     "data": {
      "text/html": [
       "<div>\n",
       "<style scoped>\n",
       "    .dataframe tbody tr th:only-of-type {\n",
       "        vertical-align: middle;\n",
       "    }\n",
       "\n",
       "    .dataframe tbody tr th {\n",
       "        vertical-align: top;\n",
       "    }\n",
       "\n",
       "    .dataframe thead th {\n",
       "        text-align: right;\n",
       "    }\n",
       "</style>\n",
       "<table border=\"1\" class=\"dataframe\">\n",
       "  <thead>\n",
       "    <tr style=\"text-align: right;\">\n",
       "      <th></th>\n",
       "      <th>run_no</th>\n",
       "      <th>universe_id</th>\n",
       "      <th>universe_settings</th>\n",
       "      <th>execution_time</th>\n",
       "      <th>test_size_n</th>\n",
       "      <th>test_size_frac</th>\n",
       "      <th>fair_main_equalized_odds_difference</th>\n",
       "      <th>fair_main_equalized_odds_ratio</th>\n",
       "      <th>fair_main_demographic_parity_difference</th>\n",
       "      <th>fair_main_demographic_parity_ratio</th>\n",
       "      <th>...</th>\n",
       "      <th>perf_grp_precision_0</th>\n",
       "      <th>perf_grp_precision_1</th>\n",
       "      <th>perf_grp_false positive rate_0</th>\n",
       "      <th>perf_grp_false positive rate_1</th>\n",
       "      <th>perf_grp_false negative rate_0</th>\n",
       "      <th>perf_grp_false negative rate_1</th>\n",
       "      <th>perf_grp_selection rate_0</th>\n",
       "      <th>perf_grp_selection rate_1</th>\n",
       "      <th>perf_grp_count_0</th>\n",
       "      <th>perf_grp_count_1</th>\n",
       "    </tr>\n",
       "  </thead>\n",
       "  <tbody>\n",
       "    <tr>\n",
       "      <th>0</th>\n",
       "      <td>1</td>\n",
       "      <td>68631903985693e17db38f7d216d7b37</td>\n",
       "      <td>{\"cutoff\": \"quantile_0.1\", \"eval_fairness_grou...</td>\n",
       "      <td>27.687232</td>\n",
       "      <td>89710</td>\n",
       "      <td>1.0</td>\n",
       "      <td>0.095816</td>\n",
       "      <td>0.900743</td>\n",
       "      <td>0.087389</td>\n",
       "      <td>0.909664</td>\n",
       "      <td>...</td>\n",
       "      <td>NaN</td>\n",
       "      <td>NaN</td>\n",
       "      <td>NaN</td>\n",
       "      <td>NaN</td>\n",
       "      <td>NaN</td>\n",
       "      <td>NaN</td>\n",
       "      <td>NaN</td>\n",
       "      <td>NaN</td>\n",
       "      <td>NaN</td>\n",
       "      <td>NaN</td>\n",
       "    </tr>\n",
       "    <tr>\n",
       "      <th>0</th>\n",
       "      <td>1</td>\n",
       "      <td>68631903985693e17db38f7d216d7b37</td>\n",
       "      <td>{\"cutoff\": \"quantile_0.1\", \"eval_fairness_grou...</td>\n",
       "      <td>27.687232</td>\n",
       "      <td>89710</td>\n",
       "      <td>1.0</td>\n",
       "      <td>0.095816</td>\n",
       "      <td>0.900743</td>\n",
       "      <td>0.087389</td>\n",
       "      <td>0.909664</td>\n",
       "      <td>...</td>\n",
       "      <td>0.117162</td>\n",
       "      <td>0.142470</td>\n",
       "      <td>0.965331</td>\n",
       "      <td>0.869515</td>\n",
       "      <td>0.016892</td>\n",
       "      <td>0.051204</td>\n",
       "      <td>0.967381</td>\n",
       "      <td>0.879991</td>\n",
       "      <td>20540.0</td>\n",
       "      <td>69170.0</td>\n",
       "    </tr>\n",
       "    <tr>\n",
       "      <th>0</th>\n",
       "      <td>1</td>\n",
       "      <td>68631903985693e17db38f7d216d7b37</td>\n",
       "      <td>{\"cutoff\": \"quantile_0.25\", \"eval_fairness_gro...</td>\n",
       "      <td>27.687232</td>\n",
       "      <td>89710</td>\n",
       "      <td>1.0</td>\n",
       "      <td>0.219362</td>\n",
       "      <td>0.756103</td>\n",
       "      <td>0.201495</td>\n",
       "      <td>0.777441</td>\n",
       "      <td>...</td>\n",
       "      <td>NaN</td>\n",
       "      <td>NaN</td>\n",
       "      <td>NaN</td>\n",
       "      <td>NaN</td>\n",
       "      <td>NaN</td>\n",
       "      <td>NaN</td>\n",
       "      <td>NaN</td>\n",
       "      <td>NaN</td>\n",
       "      <td>NaN</td>\n",
       "      <td>NaN</td>\n",
       "    </tr>\n",
       "    <tr>\n",
       "      <th>0</th>\n",
       "      <td>1</td>\n",
       "      <td>68631903985693e17db38f7d216d7b37</td>\n",
       "      <td>{\"cutoff\": \"quantile_0.25\", \"eval_fairness_gro...</td>\n",
       "      <td>27.687232</td>\n",
       "      <td>89710</td>\n",
       "      <td>1.0</td>\n",
       "      <td>0.219362</td>\n",
       "      <td>0.756103</td>\n",
       "      <td>0.201495</td>\n",
       "      <td>0.777441</td>\n",
       "      <td>...</td>\n",
       "      <td>0.121101</td>\n",
       "      <td>0.161504</td>\n",
       "      <td>0.899406</td>\n",
       "      <td>0.680043</td>\n",
       "      <td>0.048986</td>\n",
       "      <td>0.139716</td>\n",
       "      <td>0.905355</td>\n",
       "      <td>0.703860</td>\n",
       "      <td>20540.0</td>\n",
       "      <td>69170.0</td>\n",
       "    </tr>\n",
       "  </tbody>\n",
       "</table>\n",
       "<p>4 rows × 50 columns</p>\n",
       "</div>"
      ],
      "text/plain": [
       "  run_no                       universe_id  \\\n",
       "0      1  68631903985693e17db38f7d216d7b37   \n",
       "0      1  68631903985693e17db38f7d216d7b37   \n",
       "0      1  68631903985693e17db38f7d216d7b37   \n",
       "0      1  68631903985693e17db38f7d216d7b37   \n",
       "\n",
       "                                   universe_settings  execution_time  \\\n",
       "0  {\"cutoff\": \"quantile_0.1\", \"eval_fairness_grou...       27.687232   \n",
       "0  {\"cutoff\": \"quantile_0.1\", \"eval_fairness_grou...       27.687232   \n",
       "0  {\"cutoff\": \"quantile_0.25\", \"eval_fairness_gro...       27.687232   \n",
       "0  {\"cutoff\": \"quantile_0.25\", \"eval_fairness_gro...       27.687232   \n",
       "\n",
       "   test_size_n  test_size_frac  fair_main_equalized_odds_difference  \\\n",
       "0        89710             1.0                             0.095816   \n",
       "0        89710             1.0                             0.095816   \n",
       "0        89710             1.0                             0.219362   \n",
       "0        89710             1.0                             0.219362   \n",
       "\n",
       "   fair_main_equalized_odds_ratio  fair_main_demographic_parity_difference  \\\n",
       "0                        0.900743                                 0.087389   \n",
       "0                        0.900743                                 0.087389   \n",
       "0                        0.756103                                 0.201495   \n",
       "0                        0.756103                                 0.201495   \n",
       "\n",
       "   fair_main_demographic_parity_ratio  ...  perf_grp_precision_0  \\\n",
       "0                            0.909664  ...                   NaN   \n",
       "0                            0.909664  ...              0.117162   \n",
       "0                            0.777441  ...                   NaN   \n",
       "0                            0.777441  ...              0.121101   \n",
       "\n",
       "   perf_grp_precision_1  perf_grp_false positive rate_0  \\\n",
       "0                   NaN                             NaN   \n",
       "0              0.142470                        0.965331   \n",
       "0                   NaN                             NaN   \n",
       "0              0.161504                        0.899406   \n",
       "\n",
       "   perf_grp_false positive rate_1  perf_grp_false negative rate_0  \\\n",
       "0                             NaN                             NaN   \n",
       "0                        0.869515                        0.016892   \n",
       "0                             NaN                             NaN   \n",
       "0                        0.680043                        0.048986   \n",
       "\n",
       "   perf_grp_false negative rate_1  perf_grp_selection rate_0  \\\n",
       "0                             NaN                        NaN   \n",
       "0                        0.051204                   0.967381   \n",
       "0                             NaN                        NaN   \n",
       "0                        0.139716                   0.905355   \n",
       "\n",
       "   perf_grp_selection rate_1  perf_grp_count_0  perf_grp_count_1  \n",
       "0                        NaN               NaN               NaN  \n",
       "0                   0.879991           20540.0           69170.0  \n",
       "0                        NaN               NaN               NaN  \n",
       "0                   0.703860           20540.0           69170.0  \n",
       "\n",
       "[4 rows x 50 columns]"
      ]
     },
     "execution_count": 62,
     "metadata": {},
     "output_type": "execute_result"
    }
   ],
   "source": [
    "final_output = universe_analysis.generate_final_output(\n",
    "    y_pred_prob=probs_test,\n",
    "    y_test=y_true,\n",
    "    org_test=org_test,\n",
    "    filter_data=filter_sub_universe_data,\n",
    "    cp_metrics_df=cp_metrics_df,\n",
    "    save=True,\n",
    ")\n",
    "final_output"
   ]
  },
  {
   "cell_type": "code",
   "execution_count": null,
   "id": "571f9a0f-660a-4841-b661-b06fbc637944",
   "metadata": {
    "papermill": {
     "duration": 0.027521,
     "end_time": "2025-08-06T17:20:56.528288",
     "exception": false,
     "start_time": "2025-08-06T17:20:56.500767",
     "status": "completed"
    },
    "tags": []
   },
   "outputs": [],
   "source": []
  },
  {
   "cell_type": "code",
   "execution_count": null,
   "id": "529482e3-0150-4854-a92d-ab864efc606e",
   "metadata": {
    "papermill": {
     "duration": 0.027469,
     "end_time": "2025-08-06T17:20:56.583006",
     "exception": false,
     "start_time": "2025-08-06T17:20:56.555537",
     "status": "completed"
    },
    "tags": []
   },
   "outputs": [],
   "source": []
  }
 ],
 "metadata": {
  "celltoolbar": "Tags",
  "kernelspec": {
   "display_name": "Python (CMA Fairness)",
   "language": "python",
   "name": "cma_fair_env"
  },
  "language_info": {
   "codemirror_mode": {
    "name": "ipython",
    "version": 3
   },
   "file_extension": ".py",
   "mimetype": "text/x-python",
   "name": "python",
   "nbconvert_exporter": "python",
   "pygments_lexer": "ipython3",
   "version": "3.10.12"
  },
  "papermill": {
   "default_parameters": {},
   "duration": 42.601818,
   "end_time": "2025-08-06T17:20:57.428279",
   "environment_variables": {},
   "exception": null,
   "input_path": "universe_analysis.ipynb",
   "output_path": "output/runs/1/notebooks/m_1-68631903985693e17db38f7d216d7b37.ipynb",
   "parameters": {
    "output_dir": "output",
    "run_no": "1",
    "seed": "2023",
    "universe": "{\"cutoff\": [\"quantile_0.1\", \"quantile_0.25\"], \"eval_fairness_grouping\": [\"majority-minority\", \"nationality-all\"], \"exclude_features\": \"none\", \"exclude_subgroups\": \"drop-non-german\", \"model\": \"logreg\", \"scale\": \"do-not-scale\", \"training_size\": \"5k\", \"training_year\": \"2014\"}",
    "universe_id": "68631903985693e17db38f7d216d7b37"
   },
   "start_time": "2025-08-06T17:20:14.826461",
   "version": "2.6.0"
  }
 },
 "nbformat": 4,
 "nbformat_minor": 5
}