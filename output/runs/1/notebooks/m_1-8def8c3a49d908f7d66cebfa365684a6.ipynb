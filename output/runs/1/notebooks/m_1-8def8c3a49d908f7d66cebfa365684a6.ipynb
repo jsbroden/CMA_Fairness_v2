{
 "cells": [
  {
   "cell_type": "markdown",
   "id": "b2057076-3a91-4cfa-9bfd-eab1e61b3068",
   "metadata": {
    "papermill": {
     "duration": 0.018595,
     "end_time": "2025-08-06T17:49:25.313959",
     "exception": false,
     "start_time": "2025-08-06T17:49:25.295364",
     "status": "completed"
    },
    "tags": []
   },
   "source": [
    "# Setup"
   ]
  },
  {
   "cell_type": "code",
   "execution_count": 1,
   "id": "f159f837-637b-42ba-96b5-ec9a68c44524",
   "metadata": {
    "execution": {
     "iopub.execute_input": "2025-08-06T17:49:25.351200Z",
     "iopub.status.busy": "2025-08-06T17:49:25.350317Z",
     "iopub.status.idle": "2025-08-06T17:49:25.364590Z",
     "shell.execute_reply": "2025-08-06T17:49:25.363613Z"
    },
    "papermill": {
     "duration": 0.03487,
     "end_time": "2025-08-06T17:49:25.366430",
     "exception": false,
     "start_time": "2025-08-06T17:49:25.331560",
     "status": "completed"
    },
    "tags": []
   },
   "outputs": [
    {
     "name": "stdout",
     "output_type": "stream",
     "text": [
      "/dss/dsshome1/0C/ra93lal2/cma/CMA_Fairness_v2\n"
     ]
    },
    {
     "name": "stderr",
     "output_type": "stream",
     "text": [
      "/dss/dsshome1/0C/ra93lal2/.local/share/virtualenvs/CMA_Fairness_v2-3j10GkSs/lib/python3.10/site-packages/IPython/core/magics/osm.py:393: UserWarning: This is now an optional IPython functionality, using bookmarks requires you to install the `pickleshare` library.\n",
      "  bkms = self.shell.db.get('bookmarks', {})\n",
      "/dss/dsshome1/0C/ra93lal2/.local/share/virtualenvs/CMA_Fairness_v2-3j10GkSs/lib/python3.10/site-packages/IPython/core/magics/osm.py:417: UserWarning: This is now an optional IPython functionality, setting dhist requires you to install the `pickleshare` library.\n",
      "  self.shell.db['dhist'] = compress_dhist(dhist)[-100:]\n"
     ]
    }
   ],
   "source": [
    "%cd ~/cma/CMA_Fairness_v2"
   ]
  },
  {
   "cell_type": "markdown",
   "id": "de2603b9",
   "metadata": {
    "papermill": {
     "duration": 0.018246,
     "end_time": "2025-08-06T17:49:25.402872",
     "exception": false,
     "start_time": "2025-08-06T17:49:25.384626",
     "status": "completed"
    },
    "tags": []
   },
   "source": [
    "The following cell holds the definition of our parameters, these values can be overriden by rendering the with e.g. the following command:\n",
    "\n",
    "papermill -p alpha 0.2 -p ratio 0.3 universe_analysis.ipynb output/test_run.ipynb"
   ]
  },
  {
   "cell_type": "code",
   "execution_count": 2,
   "id": "a80968a0-40bb-4fa9-85ef-2d5eefb01975",
   "metadata": {
    "execution": {
     "iopub.execute_input": "2025-08-06T17:49:25.440280Z",
     "iopub.status.busy": "2025-08-06T17:49:25.439611Z",
     "iopub.status.idle": "2025-08-06T17:49:25.445467Z",
     "shell.execute_reply": "2025-08-06T17:49:25.444393Z"
    },
    "papermill": {
     "duration": 0.02651,
     "end_time": "2025-08-06T17:49:25.447180",
     "exception": false,
     "start_time": "2025-08-06T17:49:25.420670",
     "status": "completed"
    },
    "tags": []
   },
   "outputs": [
    {
     "name": "stdout",
     "output_type": "stream",
     "text": [
      "Current working directory: /dss/dsshome1/0C/ra93lal2/cma/CMA_Fairness_v2\n"
     ]
    }
   ],
   "source": [
    "import os\n",
    "print(\"Current working directory:\", os.getcwd())"
   ]
  },
  {
   "cell_type": "code",
   "execution_count": 3,
   "id": "2dce4c03",
   "metadata": {
    "execution": {
     "iopub.execute_input": "2025-08-06T17:49:25.485249Z",
     "iopub.status.busy": "2025-08-06T17:49:25.484670Z",
     "iopub.status.idle": "2025-08-06T17:49:25.490918Z",
     "shell.execute_reply": "2025-08-06T17:49:25.489948Z"
    },
    "papermill": {
     "duration": 0.026886,
     "end_time": "2025-08-06T17:49:25.492614",
     "exception": false,
     "start_time": "2025-08-06T17:49:25.465728",
     "status": "completed"
    },
    "tags": [
     "parameters"
    ]
   },
   "outputs": [],
   "source": [
    "run_no = 0\n",
    "universe_id = \"test\"\n",
    "universe = {\n",
    "    \"training_size\": \"5k\", # \"25k\", \"5k\", \"1k\"\n",
    "    \"training_year\": \"2012_14\", # \"2014\", \"2012_14\", \"2010_14\"\n",
    "    \"scale\": \"scale\", # \"scale\", \"do-not-scale\",\n",
    "    \"model\": \"elasticnet\", # \"logreg\", \"penalized_logreg\", \"rf\", \"gbm\", \"elasticnet\"\n",
    "    \"cutoff\": [\"quantile_0.15\", \"quantile_0.30\"],\n",
    "    \"exclude_features\": \"age\", # \"none\", \"nationality\", \"sex\", \"nationality-sex\", \"age\"\n",
    "    \"exclude_subgroups\": \"drop-non-german\", # \"keep-all\", \"drop-non-german\"\n",
    "    \"eval_fairness_grouping\": [\"majority-minority\", \"nationality-all\"]\n",
    "}\n",
    "\n",
    "output_dir=\"./output\"\n",
    "seed=0"
   ]
  },
  {
   "cell_type": "code",
   "execution_count": 4,
   "id": "d57f6d13",
   "metadata": {
    "execution": {
     "iopub.execute_input": "2025-08-06T17:49:25.531029Z",
     "iopub.status.busy": "2025-08-06T17:49:25.530138Z",
     "iopub.status.idle": "2025-08-06T17:49:25.535630Z",
     "shell.execute_reply": "2025-08-06T17:49:25.534606Z"
    },
    "papermill": {
     "duration": 0.026323,
     "end_time": "2025-08-06T17:49:25.537357",
     "exception": false,
     "start_time": "2025-08-06T17:49:25.511034",
     "status": "completed"
    },
    "tags": [
     "injected-parameters"
    ]
   },
   "outputs": [],
   "source": [
    "# Parameters\n",
    "universe_id = \"8def8c3a49d908f7d66cebfa365684a6\"\n",
    "run_no = \"1\"\n",
    "universe = \"{\\\"cutoff\\\": [\\\"quantile_0.1\\\", \\\"quantile_0.25\\\"], \\\"eval_fairness_grouping\\\": [\\\"majority-minority\\\", \\\"nationality-all\\\"], \\\"exclude_features\\\": \\\"sex\\\", \\\"exclude_subgroups\\\": \\\"keep-all\\\", \\\"model\\\": \\\"gbm\\\", \\\"scale\\\": \\\"scale\\\", \\\"training_size\\\": \\\"1k\\\", \\\"training_year\\\": \\\"2014\\\"}\"\n",
    "output_dir = \"output\"\n",
    "seed = \"2023\"\n"
   ]
  },
  {
   "cell_type": "code",
   "execution_count": 5,
   "id": "1650acaf",
   "metadata": {
    "execution": {
     "iopub.execute_input": "2025-08-06T17:49:25.570136Z",
     "iopub.status.busy": "2025-08-06T17:49:25.569424Z",
     "iopub.status.idle": "2025-08-06T17:49:25.574861Z",
     "shell.execute_reply": "2025-08-06T17:49:25.573898Z"
    },
    "papermill": {
     "duration": 0.023325,
     "end_time": "2025-08-06T17:49:25.576612",
     "exception": false,
     "start_time": "2025-08-06T17:49:25.553287",
     "status": "completed"
    },
    "tags": []
   },
   "outputs": [],
   "source": [
    "import json\n",
    "if isinstance(universe, str):\n",
    "    universe = json.loads(universe)"
   ]
  },
  {
   "cell_type": "code",
   "execution_count": 6,
   "id": "16620c48",
   "metadata": {
    "execution": {
     "iopub.execute_input": "2025-08-06T17:49:25.611292Z",
     "iopub.status.busy": "2025-08-06T17:49:25.610713Z",
     "iopub.status.idle": "2025-08-06T17:49:25.658535Z",
     "shell.execute_reply": "2025-08-06T17:49:25.657570Z"
    },
    "papermill": {
     "duration": 0.066387,
     "end_time": "2025-08-06T17:49:25.660564",
     "exception": false,
     "start_time": "2025-08-06T17:49:25.594177",
     "status": "completed"
    },
    "tags": []
   },
   "outputs": [],
   "source": [
    "# Auto-reload the custom package\n",
    "%load_ext autoreload\n",
    "%autoreload 1\n",
    "%aimport fairness_multiverse"
   ]
  },
  {
   "cell_type": "code",
   "execution_count": 7,
   "id": "01c5c9f3",
   "metadata": {
    "execution": {
     "iopub.execute_input": "2025-08-06T17:49:25.697513Z",
     "iopub.status.busy": "2025-08-06T17:49:25.696745Z",
     "iopub.status.idle": "2025-08-06T17:49:27.481729Z",
     "shell.execute_reply": "2025-08-06T17:49:27.480730Z"
    },
    "papermill": {
     "duration": 1.804033,
     "end_time": "2025-08-06T17:49:27.483624",
     "exception": false,
     "start_time": "2025-08-06T17:49:25.679591",
     "status": "completed"
    },
    "tags": []
   },
   "outputs": [],
   "source": [
    "from fairness_multiverse.universe import UniverseAnalysis\n",
    "\n",
    "universe_analysis = UniverseAnalysis(\n",
    "    run_no = run_no,\n",
    "    universe_id = universe_id,\n",
    "    universe = universe,\n",
    "    output_dir=output_dir,\n",
    ")"
   ]
  },
  {
   "cell_type": "code",
   "execution_count": 8,
   "id": "106241f5",
   "metadata": {
    "execution": {
     "iopub.execute_input": "2025-08-06T17:49:27.517367Z",
     "iopub.status.busy": "2025-08-06T17:49:27.516674Z",
     "iopub.status.idle": "2025-08-06T17:49:27.523689Z",
     "shell.execute_reply": "2025-08-06T17:49:27.522618Z"
    },
    "papermill": {
     "duration": 0.025385,
     "end_time": "2025-08-06T17:49:27.525296",
     "exception": false,
     "start_time": "2025-08-06T17:49:27.499911",
     "status": "completed"
    },
    "tags": []
   },
   "outputs": [
    {
     "name": "stdout",
     "output_type": "stream",
     "text": [
      "Using Seed: 2023\n"
     ]
    }
   ],
   "source": [
    "import numpy as np\n",
    "parsed_seed = int(seed)\n",
    "np.random.seed(parsed_seed)\n",
    "print(f\"Using Seed: {parsed_seed}\")"
   ]
  },
  {
   "cell_type": "markdown",
   "id": "e0ebdc57",
   "metadata": {
    "papermill": {
     "duration": 0.016978,
     "end_time": "2025-08-06T17:49:27.558818",
     "exception": false,
     "start_time": "2025-08-06T17:49:27.541840",
     "status": "completed"
    },
    "tags": []
   },
   "source": [
    "# Loading Data"
   ]
  },
  {
   "cell_type": "code",
   "execution_count": 9,
   "id": "f0496b8a",
   "metadata": {
    "execution": {
     "iopub.execute_input": "2025-08-06T17:49:27.592710Z",
     "iopub.status.busy": "2025-08-06T17:49:27.591795Z",
     "iopub.status.idle": "2025-08-06T17:49:40.083288Z",
     "shell.execute_reply": "2025-08-06T17:49:40.082098Z"
    },
    "papermill": {
     "duration": 12.510069,
     "end_time": "2025-08-06T17:49:40.085113",
     "exception": false,
     "start_time": "2025-08-06T17:49:27.575044",
     "status": "completed"
    },
    "tags": []
   },
   "outputs": [
    {
     "name": "stdout",
     "output_type": "stream",
     "text": [
      "Loading SIAB data from cache: data/siab_cached.csv.gz\n"
     ]
    },
    {
     "name": "stdout",
     "output_type": "stream",
     "text": [
      "(643690, 164)\n"
     ]
    }
   ],
   "source": [
    "from pathlib import Path\n",
    "import pandas as pd\n",
    "\n",
    "# File paths\n",
    "raw_file = Path(\"data/raw/siab.csv\")\n",
    "cache_file = Path(\"data/siab_cached.csv.gz\")\n",
    "\n",
    "# Ensure cache directory exists\n",
    "cache_file.parent.mkdir(parents=True, exist_ok=True)\n",
    "\n",
    "# Load with simple caching\n",
    "if cache_file.exists():\n",
    "    print(f\"Loading SIAB data from cache: {cache_file}\")\n",
    "    siab = pd.read_csv(cache_file, compression='gzip')\n",
    "else:\n",
    "    print(f\"Cache not found. Reading raw SIAB data: {raw_file}\")\n",
    "    siab = pd.read_csv(raw_file)\n",
    "    siab.to_csv(cache_file, index=False, compression='gzip')\n",
    "    print(f\"Cached SIAB data to: {cache_file}\")\n",
    "\n",
    "print(siab.shape)"
   ]
  },
  {
   "cell_type": "code",
   "execution_count": 10,
   "id": "db0ca512-5f53-4dba-abdb-a2888bca41ba",
   "metadata": {
    "execution": {
     "iopub.execute_input": "2025-08-06T17:49:40.123729Z",
     "iopub.status.busy": "2025-08-06T17:49:40.122849Z",
     "iopub.status.idle": "2025-08-06T17:49:40.234975Z",
     "shell.execute_reply": "2025-08-06T17:49:40.234000Z"
    },
    "papermill": {
     "duration": 0.131549,
     "end_time": "2025-08-06T17:49:40.236438",
     "exception": false,
     "start_time": "2025-08-06T17:49:40.104889",
     "status": "completed"
    },
    "tags": []
   },
   "outputs": [
    {
     "data": {
      "text/html": [
       "<div>\n",
       "<style scoped>\n",
       "    .dataframe tbody tr th:only-of-type {\n",
       "        vertical-align: middle;\n",
       "    }\n",
       "\n",
       "    .dataframe tbody tr th {\n",
       "        vertical-align: top;\n",
       "    }\n",
       "\n",
       "    .dataframe thead th {\n",
       "        text-align: right;\n",
       "    }\n",
       "</style>\n",
       "<table border=\"1\" class=\"dataframe\">\n",
       "  <thead>\n",
       "    <tr style=\"text-align: right;\">\n",
       "      <th></th>\n",
       "      <th>persnr</th>\n",
       "      <th>year</th>\n",
       "      <th>nrEntry</th>\n",
       "      <th>ltue</th>\n",
       "      <th>employed_before</th>\n",
       "      <th>receipt_leh_before</th>\n",
       "      <th>receipt_lhg_before</th>\n",
       "      <th>se_before</th>\n",
       "      <th>ASU_notue_seeking_before</th>\n",
       "      <th>ASU_other_before</th>\n",
       "      <th>...</th>\n",
       "      <th>minijob_tot_dur_byage</th>\n",
       "      <th>ft_tot_dur_byage</th>\n",
       "      <th>befrist_tot_dur_byage</th>\n",
       "      <th>leih_tot_dur_byage</th>\n",
       "      <th>LHG_tot_dur_byage</th>\n",
       "      <th>LEH_tot_dur_byage</th>\n",
       "      <th>almp_tot_dur_byage</th>\n",
       "      <th>almp_aw_tot_dur_byage</th>\n",
       "      <th>se_tot_dur_byage</th>\n",
       "      <th>seeking1_tot_dur_byage</th>\n",
       "    </tr>\n",
       "  </thead>\n",
       "  <tbody>\n",
       "    <tr>\n",
       "      <th>0</th>\n",
       "      <td>7</td>\n",
       "      <td>2015</td>\n",
       "      <td>1</td>\n",
       "      <td>0</td>\n",
       "      <td>1</td>\n",
       "      <td>0</td>\n",
       "      <td>0</td>\n",
       "      <td>0</td>\n",
       "      <td>1</td>\n",
       "      <td>0</td>\n",
       "      <td>...</td>\n",
       "      <td>0.000000</td>\n",
       "      <td>0.000000</td>\n",
       "      <td>15.043478</td>\n",
       "      <td>0.000000</td>\n",
       "      <td>0.000000</td>\n",
       "      <td>0.000000</td>\n",
       "      <td>0.000000</td>\n",
       "      <td>0.000000</td>\n",
       "      <td>0.000000</td>\n",
       "      <td>0.000000</td>\n",
       "    </tr>\n",
       "    <tr>\n",
       "      <th>1</th>\n",
       "      <td>18</td>\n",
       "      <td>2010</td>\n",
       "      <td>1</td>\n",
       "      <td>1</td>\n",
       "      <td>0</td>\n",
       "      <td>0</td>\n",
       "      <td>0</td>\n",
       "      <td>0</td>\n",
       "      <td>0</td>\n",
       "      <td>0</td>\n",
       "      <td>...</td>\n",
       "      <td>0.000000</td>\n",
       "      <td>0.000000</td>\n",
       "      <td>0.000000</td>\n",
       "      <td>0.000000</td>\n",
       "      <td>0.000000</td>\n",
       "      <td>0.000000</td>\n",
       "      <td>0.000000</td>\n",
       "      <td>0.000000</td>\n",
       "      <td>0.000000</td>\n",
       "      <td>0.000000</td>\n",
       "    </tr>\n",
       "    <tr>\n",
       "      <th>2</th>\n",
       "      <td>18</td>\n",
       "      <td>2011</td>\n",
       "      <td>2</td>\n",
       "      <td>0</td>\n",
       "      <td>1</td>\n",
       "      <td>0</td>\n",
       "      <td>1</td>\n",
       "      <td>0</td>\n",
       "      <td>1</td>\n",
       "      <td>0</td>\n",
       "      <td>...</td>\n",
       "      <td>2.714286</td>\n",
       "      <td>2.714286</td>\n",
       "      <td>0.000000</td>\n",
       "      <td>0.000000</td>\n",
       "      <td>10.775510</td>\n",
       "      <td>0.000000</td>\n",
       "      <td>8.367347</td>\n",
       "      <td>0.000000</td>\n",
       "      <td>0.000000</td>\n",
       "      <td>9.836735</td>\n",
       "    </tr>\n",
       "    <tr>\n",
       "      <th>3</th>\n",
       "      <td>18</td>\n",
       "      <td>2012</td>\n",
       "      <td>3</td>\n",
       "      <td>0</td>\n",
       "      <td>1</td>\n",
       "      <td>0</td>\n",
       "      <td>1</td>\n",
       "      <td>0</td>\n",
       "      <td>1</td>\n",
       "      <td>0</td>\n",
       "      <td>...</td>\n",
       "      <td>4.200000</td>\n",
       "      <td>4.200000</td>\n",
       "      <td>0.000000</td>\n",
       "      <td>0.000000</td>\n",
       "      <td>12.100000</td>\n",
       "      <td>0.000000</td>\n",
       "      <td>9.400000</td>\n",
       "      <td>0.000000</td>\n",
       "      <td>0.000000</td>\n",
       "      <td>9.960000</td>\n",
       "    </tr>\n",
       "    <tr>\n",
       "      <th>4</th>\n",
       "      <td>18</td>\n",
       "      <td>2012</td>\n",
       "      <td>4</td>\n",
       "      <td>0</td>\n",
       "      <td>1</td>\n",
       "      <td>0</td>\n",
       "      <td>1</td>\n",
       "      <td>0</td>\n",
       "      <td>1</td>\n",
       "      <td>0</td>\n",
       "      <td>...</td>\n",
       "      <td>5.460000</td>\n",
       "      <td>5.460000</td>\n",
       "      <td>0.000000</td>\n",
       "      <td>0.000000</td>\n",
       "      <td>13.360000</td>\n",
       "      <td>0.000000</td>\n",
       "      <td>10.320000</td>\n",
       "      <td>0.000000</td>\n",
       "      <td>0.000000</td>\n",
       "      <td>10.280000</td>\n",
       "    </tr>\n",
       "    <tr>\n",
       "      <th>...</th>\n",
       "      <td>...</td>\n",
       "      <td>...</td>\n",
       "      <td>...</td>\n",
       "      <td>...</td>\n",
       "      <td>...</td>\n",
       "      <td>...</td>\n",
       "      <td>...</td>\n",
       "      <td>...</td>\n",
       "      <td>...</td>\n",
       "      <td>...</td>\n",
       "      <td>...</td>\n",
       "      <td>...</td>\n",
       "      <td>...</td>\n",
       "      <td>...</td>\n",
       "      <td>...</td>\n",
       "      <td>...</td>\n",
       "      <td>...</td>\n",
       "      <td>...</td>\n",
       "      <td>...</td>\n",
       "      <td>...</td>\n",
       "      <td>...</td>\n",
       "    </tr>\n",
       "    <tr>\n",
       "      <th>643685</th>\n",
       "      <td>1827860</td>\n",
       "      <td>2013</td>\n",
       "      <td>1</td>\n",
       "      <td>0</td>\n",
       "      <td>0</td>\n",
       "      <td>0</td>\n",
       "      <td>1</td>\n",
       "      <td>0</td>\n",
       "      <td>0</td>\n",
       "      <td>1</td>\n",
       "      <td>...</td>\n",
       "      <td>0.000000</td>\n",
       "      <td>0.000000</td>\n",
       "      <td>0.000000</td>\n",
       "      <td>0.000000</td>\n",
       "      <td>0.612903</td>\n",
       "      <td>0.000000</td>\n",
       "      <td>0.000000</td>\n",
       "      <td>0.000000</td>\n",
       "      <td>0.000000</td>\n",
       "      <td>0.000000</td>\n",
       "    </tr>\n",
       "    <tr>\n",
       "      <th>643686</th>\n",
       "      <td>1827860</td>\n",
       "      <td>2015</td>\n",
       "      <td>2</td>\n",
       "      <td>1</td>\n",
       "      <td>0</td>\n",
       "      <td>0</td>\n",
       "      <td>1</td>\n",
       "      <td>0</td>\n",
       "      <td>1</td>\n",
       "      <td>0</td>\n",
       "      <td>...</td>\n",
       "      <td>0.000000</td>\n",
       "      <td>0.000000</td>\n",
       "      <td>0.212121</td>\n",
       "      <td>0.212121</td>\n",
       "      <td>17.363636</td>\n",
       "      <td>0.000000</td>\n",
       "      <td>8.909091</td>\n",
       "      <td>0.000000</td>\n",
       "      <td>0.000000</td>\n",
       "      <td>7.121212</td>\n",
       "    </tr>\n",
       "    <tr>\n",
       "      <th>643687</th>\n",
       "      <td>1827860</td>\n",
       "      <td>2016</td>\n",
       "      <td>3</td>\n",
       "      <td>1</td>\n",
       "      <td>0</td>\n",
       "      <td>0</td>\n",
       "      <td>1</td>\n",
       "      <td>1</td>\n",
       "      <td>0</td>\n",
       "      <td>1</td>\n",
       "      <td>...</td>\n",
       "      <td>0.000000</td>\n",
       "      <td>0.000000</td>\n",
       "      <td>0.294118</td>\n",
       "      <td>0.205882</td>\n",
       "      <td>34.705882</td>\n",
       "      <td>0.000000</td>\n",
       "      <td>10.352941</td>\n",
       "      <td>1.705882</td>\n",
       "      <td>1.705882</td>\n",
       "      <td>23.911765</td>\n",
       "    </tr>\n",
       "    <tr>\n",
       "      <th>643688</th>\n",
       "      <td>1827869</td>\n",
       "      <td>2013</td>\n",
       "      <td>1</td>\n",
       "      <td>1</td>\n",
       "      <td>1</td>\n",
       "      <td>0</td>\n",
       "      <td>0</td>\n",
       "      <td>0</td>\n",
       "      <td>1</td>\n",
       "      <td>0</td>\n",
       "      <td>...</td>\n",
       "      <td>0.000000</td>\n",
       "      <td>0.000000</td>\n",
       "      <td>0.000000</td>\n",
       "      <td>0.000000</td>\n",
       "      <td>0.000000</td>\n",
       "      <td>0.525424</td>\n",
       "      <td>0.000000</td>\n",
       "      <td>0.000000</td>\n",
       "      <td>0.000000</td>\n",
       "      <td>0.000000</td>\n",
       "    </tr>\n",
       "    <tr>\n",
       "      <th>643689</th>\n",
       "      <td>1827869</td>\n",
       "      <td>2014</td>\n",
       "      <td>2</td>\n",
       "      <td>0</td>\n",
       "      <td>0</td>\n",
       "      <td>1</td>\n",
       "      <td>0</td>\n",
       "      <td>0</td>\n",
       "      <td>1</td>\n",
       "      <td>0</td>\n",
       "      <td>...</td>\n",
       "      <td>0.000000</td>\n",
       "      <td>0.666667</td>\n",
       "      <td>0.666667</td>\n",
       "      <td>0.000000</td>\n",
       "      <td>0.000000</td>\n",
       "      <td>8.950000</td>\n",
       "      <td>1.033333</td>\n",
       "      <td>0.083333</td>\n",
       "      <td>0.083333</td>\n",
       "      <td>8.133333</td>\n",
       "    </tr>\n",
       "  </tbody>\n",
       "</table>\n",
       "<p>643690 rows × 164 columns</p>\n",
       "</div>"
      ],
      "text/plain": [
       "         persnr  year  nrEntry  ltue  employed_before  receipt_leh_before  \\\n",
       "0             7  2015        1     0                1                   0   \n",
       "1            18  2010        1     1                0                   0   \n",
       "2            18  2011        2     0                1                   0   \n",
       "3            18  2012        3     0                1                   0   \n",
       "4            18  2012        4     0                1                   0   \n",
       "...         ...   ...      ...   ...              ...                 ...   \n",
       "643685  1827860  2013        1     0                0                   0   \n",
       "643686  1827860  2015        2     1                0                   0   \n",
       "643687  1827860  2016        3     1                0                   0   \n",
       "643688  1827869  2013        1     1                1                   0   \n",
       "643689  1827869  2014        2     0                0                   1   \n",
       "\n",
       "        receipt_lhg_before  se_before  ASU_notue_seeking_before  \\\n",
       "0                        0          0                         1   \n",
       "1                        0          0                         0   \n",
       "2                        1          0                         1   \n",
       "3                        1          0                         1   \n",
       "4                        1          0                         1   \n",
       "...                    ...        ...                       ...   \n",
       "643685                   1          0                         0   \n",
       "643686                   1          0                         1   \n",
       "643687                   1          1                         0   \n",
       "643688                   0          0                         1   \n",
       "643689                   0          0                         1   \n",
       "\n",
       "        ASU_other_before  ...  minijob_tot_dur_byage  ft_tot_dur_byage  \\\n",
       "0                      0  ...               0.000000          0.000000   \n",
       "1                      0  ...               0.000000          0.000000   \n",
       "2                      0  ...               2.714286          2.714286   \n",
       "3                      0  ...               4.200000          4.200000   \n",
       "4                      0  ...               5.460000          5.460000   \n",
       "...                  ...  ...                    ...               ...   \n",
       "643685                 1  ...               0.000000          0.000000   \n",
       "643686                 0  ...               0.000000          0.000000   \n",
       "643687                 1  ...               0.000000          0.000000   \n",
       "643688                 0  ...               0.000000          0.000000   \n",
       "643689                 0  ...               0.000000          0.666667   \n",
       "\n",
       "        befrist_tot_dur_byage  leih_tot_dur_byage  LHG_tot_dur_byage  \\\n",
       "0                   15.043478            0.000000           0.000000   \n",
       "1                    0.000000            0.000000           0.000000   \n",
       "2                    0.000000            0.000000          10.775510   \n",
       "3                    0.000000            0.000000          12.100000   \n",
       "4                    0.000000            0.000000          13.360000   \n",
       "...                       ...                 ...                ...   \n",
       "643685               0.000000            0.000000           0.612903   \n",
       "643686               0.212121            0.212121          17.363636   \n",
       "643687               0.294118            0.205882          34.705882   \n",
       "643688               0.000000            0.000000           0.000000   \n",
       "643689               0.666667            0.000000           0.000000   \n",
       "\n",
       "        LEH_tot_dur_byage  almp_tot_dur_byage  almp_aw_tot_dur_byage  \\\n",
       "0                0.000000            0.000000               0.000000   \n",
       "1                0.000000            0.000000               0.000000   \n",
       "2                0.000000            8.367347               0.000000   \n",
       "3                0.000000            9.400000               0.000000   \n",
       "4                0.000000           10.320000               0.000000   \n",
       "...                   ...                 ...                    ...   \n",
       "643685           0.000000            0.000000               0.000000   \n",
       "643686           0.000000            8.909091               0.000000   \n",
       "643687           0.000000           10.352941               1.705882   \n",
       "643688           0.525424            0.000000               0.000000   \n",
       "643689           8.950000            1.033333               0.083333   \n",
       "\n",
       "        se_tot_dur_byage  seeking1_tot_dur_byage  \n",
       "0               0.000000                0.000000  \n",
       "1               0.000000                0.000000  \n",
       "2               0.000000                9.836735  \n",
       "3               0.000000                9.960000  \n",
       "4               0.000000               10.280000  \n",
       "...                  ...                     ...  \n",
       "643685          0.000000                0.000000  \n",
       "643686          0.000000                7.121212  \n",
       "643687          1.705882               23.911765  \n",
       "643688          0.000000                0.000000  \n",
       "643689          0.083333                8.133333  \n",
       "\n",
       "[643690 rows x 164 columns]"
      ]
     },
     "execution_count": 10,
     "metadata": {},
     "output_type": "execute_result"
    }
   ],
   "source": [
    "siab"
   ]
  },
  {
   "cell_type": "markdown",
   "id": "997051c5-15bd-4b69-9786-c3001a3ce484",
   "metadata": {
    "papermill": {
     "duration": 0.017458,
     "end_time": "2025-08-06T17:49:40.272273",
     "exception": false,
     "start_time": "2025-08-06T17:49:40.254815",
     "status": "completed"
    },
    "tags": []
   },
   "source": [
    "# Splitting Data and Setting Training Data Size"
   ]
  },
  {
   "cell_type": "code",
   "execution_count": 11,
   "id": "aea9c6ef-6f46-42c8-85eb-5a62025c1508",
   "metadata": {
    "execution": {
     "iopub.execute_input": "2025-08-06T17:49:40.309710Z",
     "iopub.status.busy": "2025-08-06T17:49:40.308831Z",
     "iopub.status.idle": "2025-08-06T17:49:40.521185Z",
     "shell.execute_reply": "2025-08-06T17:49:40.520168Z"
    },
    "papermill": {
     "duration": 0.232958,
     "end_time": "2025-08-06T17:49:40.523057",
     "exception": false,
     "start_time": "2025-08-06T17:49:40.290099",
     "status": "completed"
    },
    "tags": []
   },
   "outputs": [],
   "source": [
    "from fairness_multiverse.universe import sample_by_year_size\n",
    "\n",
    "siab_train = sample_by_year_size(siab,\n",
    "                               training_year=universe[\"training_year\"],\n",
    "                               training_size=universe[\"training_size\"])"
   ]
  },
  {
   "cell_type": "code",
   "execution_count": 12,
   "id": "8d3afb32-789d-442c-8d5d-9f5aa8dd2eed",
   "metadata": {
    "execution": {
     "iopub.execute_input": "2025-08-06T17:49:40.563195Z",
     "iopub.status.busy": "2025-08-06T17:49:40.562508Z",
     "iopub.status.idle": "2025-08-06T17:49:40.569967Z",
     "shell.execute_reply": "2025-08-06T17:49:40.569067Z"
    },
    "papermill": {
     "duration": 0.029152,
     "end_time": "2025-08-06T17:49:40.571638",
     "exception": false,
     "start_time": "2025-08-06T17:49:40.542486",
     "status": "completed"
    },
    "tags": []
   },
   "outputs": [
    {
     "data": {
      "text/plain": [
       "(1000, 164)"
      ]
     },
     "execution_count": 12,
     "metadata": {},
     "output_type": "execute_result"
    }
   ],
   "source": [
    "siab_train.shape"
   ]
  },
  {
   "cell_type": "code",
   "execution_count": 13,
   "id": "d582db68-1a4c-47fb-84fc-08518dc1975a",
   "metadata": {
    "execution": {
     "iopub.execute_input": "2025-08-06T17:49:40.608396Z",
     "iopub.status.busy": "2025-08-06T17:49:40.607604Z",
     "iopub.status.idle": "2025-08-06T17:49:40.617996Z",
     "shell.execute_reply": "2025-08-06T17:49:40.617056Z"
    },
    "papermill": {
     "duration": 0.030258,
     "end_time": "2025-08-06T17:49:40.619614",
     "exception": false,
     "start_time": "2025-08-06T17:49:40.589356",
     "status": "completed"
    },
    "tags": []
   },
   "outputs": [
    {
     "data": {
      "text/plain": [
       "year\n",
       "2014    1000\n",
       "dtype: int64"
      ]
     },
     "metadata": {},
     "output_type": "display_data"
    }
   ],
   "source": [
    "display(siab_train.groupby(\"year\").size())"
   ]
  },
  {
   "cell_type": "code",
   "execution_count": 14,
   "id": "a561edb4-d032-42cb-8256-22eac1111c64",
   "metadata": {
    "execution": {
     "iopub.execute_input": "2025-08-06T17:49:40.658862Z",
     "iopub.status.busy": "2025-08-06T17:49:40.657908Z",
     "iopub.status.idle": "2025-08-06T17:49:40.909531Z",
     "shell.execute_reply": "2025-08-06T17:49:40.908563Z"
    },
    "papermill": {
     "duration": 0.272703,
     "end_time": "2025-08-06T17:49:40.911414",
     "exception": false,
     "start_time": "2025-08-06T17:49:40.638711",
     "status": "completed"
    },
    "tags": []
   },
   "outputs": [],
   "source": [
    "#siab_train = siab_s[siab_s.year < 2015]\n",
    "siab_calib = siab[siab.year == 2015]\n",
    "siab_test = siab[siab.year == 2016]"
   ]
  },
  {
   "cell_type": "code",
   "execution_count": 15,
   "id": "472de16f-c3db-4916-846b-1f0de9cf1746",
   "metadata": {
    "execution": {
     "iopub.execute_input": "2025-08-06T17:49:40.950395Z",
     "iopub.status.busy": "2025-08-06T17:49:40.949404Z",
     "iopub.status.idle": "2025-08-06T17:49:40.956572Z",
     "shell.execute_reply": "2025-08-06T17:49:40.955489Z"
    },
    "papermill": {
     "duration": 0.028427,
     "end_time": "2025-08-06T17:49:40.958413",
     "exception": false,
     "start_time": "2025-08-06T17:49:40.929986",
     "status": "completed"
    },
    "tags": []
   },
   "outputs": [],
   "source": [
    "X_train = siab_train.iloc[:,4:164]\n",
    "y_train = siab_train.iloc[:, [3]]"
   ]
  },
  {
   "cell_type": "code",
   "execution_count": 16,
   "id": "828c96af-f43a-4ed6-ba47-8ac73a47d56c",
   "metadata": {
    "execution": {
     "iopub.execute_input": "2025-08-06T17:49:40.999753Z",
     "iopub.status.busy": "2025-08-06T17:49:40.998696Z",
     "iopub.status.idle": "2025-08-06T17:49:41.050457Z",
     "shell.execute_reply": "2025-08-06T17:49:41.049441Z"
    },
    "papermill": {
     "duration": 0.07378,
     "end_time": "2025-08-06T17:49:41.052615",
     "exception": false,
     "start_time": "2025-08-06T17:49:40.978835",
     "status": "completed"
    },
    "tags": []
   },
   "outputs": [],
   "source": [
    "X_calib = siab_calib.iloc[:,4:164]\n",
    "y_calib = siab_calib.iloc[:, [3]]"
   ]
  },
  {
   "cell_type": "code",
   "execution_count": 17,
   "id": "c34be9c3-6bd6-476e-acd3-845840e303be",
   "metadata": {
    "execution": {
     "iopub.execute_input": "2025-08-06T17:49:41.092109Z",
     "iopub.status.busy": "2025-08-06T17:49:41.091323Z",
     "iopub.status.idle": "2025-08-06T17:49:41.145064Z",
     "shell.execute_reply": "2025-08-06T17:49:41.143947Z"
    },
    "papermill": {
     "duration": 0.074613,
     "end_time": "2025-08-06T17:49:41.146573",
     "exception": false,
     "start_time": "2025-08-06T17:49:41.071960",
     "status": "completed"
    },
    "tags": []
   },
   "outputs": [],
   "source": [
    "X_test = siab_test.iloc[:,4:164]\n",
    "y_true = siab_test.iloc[:, [3]]"
   ]
  },
  {
   "cell_type": "code",
   "execution_count": 18,
   "id": "e6c733c5",
   "metadata": {
    "execution": {
     "iopub.execute_input": "2025-08-06T17:49:41.188165Z",
     "iopub.status.busy": "2025-08-06T17:49:41.187248Z",
     "iopub.status.idle": "2025-08-06T17:49:41.289039Z",
     "shell.execute_reply": "2025-08-06T17:49:41.288016Z"
    },
    "papermill": {
     "duration": 0.124502,
     "end_time": "2025-08-06T17:49:41.291122",
     "exception": false,
     "start_time": "2025-08-06T17:49:41.166620",
     "status": "completed"
    },
    "tags": []
   },
   "outputs": [],
   "source": [
    "# Auxiliary data needed downstream in the pipeline\n",
    "\n",
    "org_train = X_train.copy()\n",
    "org_test = X_test.copy()\n",
    "org_calib = X_calib.copy()"
   ]
  },
  {
   "cell_type": "markdown",
   "id": "0a4a1b33",
   "metadata": {
    "papermill": {
     "duration": 0.015014,
     "end_time": "2025-08-06T17:49:41.325220",
     "exception": false,
     "start_time": "2025-08-06T17:49:41.310206",
     "status": "completed"
    },
    "tags": []
   },
   "source": [
    "# Preprocessing Data"
   ]
  },
  {
   "cell_type": "code",
   "execution_count": 19,
   "id": "ca879031",
   "metadata": {
    "execution": {
     "iopub.execute_input": "2025-08-06T17:49:41.346156Z",
     "iopub.status.busy": "2025-08-06T17:49:41.345642Z",
     "iopub.status.idle": "2025-08-06T17:49:41.351275Z",
     "shell.execute_reply": "2025-08-06T17:49:41.350265Z"
    },
    "papermill": {
     "duration": 0.01818,
     "end_time": "2025-08-06T17:49:41.353168",
     "exception": false,
     "start_time": "2025-08-06T17:49:41.334988",
     "status": "completed"
    },
    "tags": []
   },
   "outputs": [],
   "source": [
    "# EXCLUDE PROTECTED FEATURES\n",
    "# --------------------------\n",
    "\n",
    "excluded_features = universe[\"exclude_features\"].split(\"-\")\n",
    "excluded_features_dictionary = {\n",
    "    \"nationality\": [\"maxdeutsch1\", \"maxdeutsch.Missing.\"],\n",
    "    \"sex\": [\"frau1\"],\n",
    "    \"age\": [\"age\"],\n",
    "}"
   ]
  },
  {
   "cell_type": "code",
   "execution_count": 20,
   "id": "b745ac60",
   "metadata": {
    "execution": {
     "iopub.execute_input": "2025-08-06T17:49:41.392885Z",
     "iopub.status.busy": "2025-08-06T17:49:41.391963Z",
     "iopub.status.idle": "2025-08-06T17:49:41.397442Z",
     "shell.execute_reply": "2025-08-06T17:49:41.396627Z"
    },
    "papermill": {
     "duration": 0.028568,
     "end_time": "2025-08-06T17:49:41.401227",
     "exception": false,
     "start_time": "2025-08-06T17:49:41.372659",
     "status": "completed"
    },
    "tags": []
   },
   "outputs": [],
   "source": [
    "excluded_features_columns = [\n",
    "    excluded_features_dictionary[f] for f in excluded_features if len(f) > 0 and f != \"none\"\n",
    "]"
   ]
  },
  {
   "cell_type": "code",
   "execution_count": 21,
   "id": "f84f73a2",
   "metadata": {
    "execution": {
     "iopub.execute_input": "2025-08-06T17:49:41.440959Z",
     "iopub.status.busy": "2025-08-06T17:49:41.440523Z",
     "iopub.status.idle": "2025-08-06T17:49:41.445901Z",
     "shell.execute_reply": "2025-08-06T17:49:41.444987Z"
    },
    "papermill": {
     "duration": 0.027106,
     "end_time": "2025-08-06T17:49:41.447662",
     "exception": false,
     "start_time": "2025-08-06T17:49:41.420556",
     "status": "completed"
    },
    "tags": []
   },
   "outputs": [],
   "source": [
    "from fairness_multiverse.universe import flatten_once\n",
    "\n",
    "excluded_features_columns = flatten_once(excluded_features_columns)"
   ]
  },
  {
   "cell_type": "code",
   "execution_count": 22,
   "id": "884dea22",
   "metadata": {
    "execution": {
     "iopub.execute_input": "2025-08-06T17:49:41.489606Z",
     "iopub.status.busy": "2025-08-06T17:49:41.488901Z",
     "iopub.status.idle": "2025-08-06T17:49:41.497526Z",
     "shell.execute_reply": "2025-08-06T17:49:41.496413Z"
    },
    "papermill": {
     "duration": 0.030224,
     "end_time": "2025-08-06T17:49:41.499139",
     "exception": false,
     "start_time": "2025-08-06T17:49:41.468915",
     "status": "completed"
    },
    "tags": []
   },
   "outputs": [
    {
     "name": "stdout",
     "output_type": "stream",
     "text": [
      "Dropping features: ['frau1']\n"
     ]
    }
   ],
   "source": [
    "if len(excluded_features_columns) > 0:\n",
    "    print(f\"Dropping features: {excluded_features_columns}\")\n",
    "    X_train.drop(excluded_features_columns, axis=1, inplace=True)"
   ]
  },
  {
   "cell_type": "code",
   "execution_count": 23,
   "id": "95ab8b16",
   "metadata": {
    "execution": {
     "iopub.execute_input": "2025-08-06T17:49:41.540907Z",
     "iopub.status.busy": "2025-08-06T17:49:41.540204Z",
     "iopub.status.idle": "2025-08-06T17:49:41.595504Z",
     "shell.execute_reply": "2025-08-06T17:49:41.594529Z"
    },
    "papermill": {
     "duration": 0.078876,
     "end_time": "2025-08-06T17:49:41.597182",
     "exception": false,
     "start_time": "2025-08-06T17:49:41.518306",
     "status": "completed"
    },
    "tags": []
   },
   "outputs": [
    {
     "name": "stdout",
     "output_type": "stream",
     "text": [
      "Dropping features: ['frau1']\n"
     ]
    }
   ],
   "source": [
    "if len(excluded_features_columns) > 0:\n",
    "    print(f\"Dropping features: {excluded_features_columns}\")\n",
    "    X_test.drop(excluded_features_columns, axis=1, inplace=True)"
   ]
  },
  {
   "cell_type": "code",
   "execution_count": 24,
   "id": "1853aaf5-fb9f-46cb-a2b5-8ea4ae2237e4",
   "metadata": {
    "execution": {
     "iopub.execute_input": "2025-08-06T17:49:41.635361Z",
     "iopub.status.busy": "2025-08-06T17:49:41.634825Z",
     "iopub.status.idle": "2025-08-06T17:49:41.688930Z",
     "shell.execute_reply": "2025-08-06T17:49:41.687790Z"
    },
    "papermill": {
     "duration": 0.073122,
     "end_time": "2025-08-06T17:49:41.691722",
     "exception": false,
     "start_time": "2025-08-06T17:49:41.618600",
     "status": "completed"
    },
    "tags": []
   },
   "outputs": [
    {
     "name": "stdout",
     "output_type": "stream",
     "text": [
      "Dropping features: ['frau1']\n"
     ]
    }
   ],
   "source": [
    "if len(excluded_features_columns) > 0:\n",
    "    print(f\"Dropping features: {excluded_features_columns}\")\n",
    "    X_calib.drop(excluded_features_columns, axis=1, inplace=True)"
   ]
  },
  {
   "cell_type": "code",
   "execution_count": 25,
   "id": "76c4dc6d",
   "metadata": {
    "execution": {
     "iopub.execute_input": "2025-08-06T17:49:41.729941Z",
     "iopub.status.busy": "2025-08-06T17:49:41.728861Z",
     "iopub.status.idle": "2025-08-06T17:49:41.734738Z",
     "shell.execute_reply": "2025-08-06T17:49:41.733784Z"
    },
    "papermill": {
     "duration": 0.029051,
     "end_time": "2025-08-06T17:49:41.736456",
     "exception": false,
     "start_time": "2025-08-06T17:49:41.707405",
     "status": "completed"
    },
    "tags": []
   },
   "outputs": [],
   "source": [
    "# EXCLUDE CERTAIN SUBGROUPS\n",
    "# -------------------------\n",
    "\n",
    "mode = universe.get(\"exclude_subgroups\", \"keep-all\") # Defaults to \"keep-all\" if the key is missing."
   ]
  },
  {
   "cell_type": "code",
   "execution_count": 26,
   "id": "21994072",
   "metadata": {
    "execution": {
     "iopub.execute_input": "2025-08-06T17:49:41.778786Z",
     "iopub.status.busy": "2025-08-06T17:49:41.778309Z",
     "iopub.status.idle": "2025-08-06T17:49:41.784979Z",
     "shell.execute_reply": "2025-08-06T17:49:41.783905Z"
    },
    "papermill": {
     "duration": 0.029552,
     "end_time": "2025-08-06T17:49:41.786668",
     "exception": false,
     "start_time": "2025-08-06T17:49:41.757116",
     "status": "completed"
    },
    "tags": []
   },
   "outputs": [],
   "source": [
    "if mode == \"keep-all\":\n",
    "    keep_mask = pd.Series(True, index=org_train.index)\n",
    "\n",
    "elif mode == \"drop-non-german\":\n",
    "    keep_mask = (org_train[\"maxdeutsch1\"] == 1) & (org_train[\"maxdeutsch.Missing.\"] == 0)\n",
    "\n",
    "else:\n",
    "    raise ValueError(f\"Unsupported mode for exclude_subgroups: {mode}\")"
   ]
  },
  {
   "cell_type": "code",
   "execution_count": 27,
   "id": "71651440",
   "metadata": {
    "execution": {
     "iopub.execute_input": "2025-08-06T17:49:41.829895Z",
     "iopub.status.busy": "2025-08-06T17:49:41.829167Z",
     "iopub.status.idle": "2025-08-06T17:49:41.836460Z",
     "shell.execute_reply": "2025-08-06T17:49:41.835477Z"
    },
    "papermill": {
     "duration": 0.031155,
     "end_time": "2025-08-06T17:49:41.838020",
     "exception": false,
     "start_time": "2025-08-06T17:49:41.806865",
     "status": "completed"
    },
    "tags": []
   },
   "outputs": [],
   "source": [
    "n_drop = (~keep_mask).sum() # Calculates how many rows are set to be dropped\n",
    "if n_drop > 0:\n",
    "    pct = n_drop / len(keep_mask) * 100\n",
    "    print(f\"Dropping {n_drop} rows ({pct:.2f}%) where mode='{mode}'\")"
   ]
  },
  {
   "cell_type": "code",
   "execution_count": 28,
   "id": "5fb8eee5",
   "metadata": {
    "execution": {
     "iopub.execute_input": "2025-08-06T17:49:41.880722Z",
     "iopub.status.busy": "2025-08-06T17:49:41.879756Z",
     "iopub.status.idle": "2025-08-06T17:49:41.886675Z",
     "shell.execute_reply": "2025-08-06T17:49:41.885660Z"
    },
    "papermill": {
     "duration": 0.029956,
     "end_time": "2025-08-06T17:49:41.888489",
     "exception": false,
     "start_time": "2025-08-06T17:49:41.858533",
     "status": "completed"
    },
    "tags": []
   },
   "outputs": [],
   "source": [
    "X_train = X_train[keep_mask]"
   ]
  },
  {
   "cell_type": "code",
   "execution_count": 29,
   "id": "b202bb3a",
   "metadata": {
    "execution": {
     "iopub.execute_input": "2025-08-06T17:49:41.930779Z",
     "iopub.status.busy": "2025-08-06T17:49:41.930061Z",
     "iopub.status.idle": "2025-08-06T17:49:41.936864Z",
     "shell.execute_reply": "2025-08-06T17:49:41.935834Z"
    },
    "papermill": {
     "duration": 0.029085,
     "end_time": "2025-08-06T17:49:41.938408",
     "exception": false,
     "start_time": "2025-08-06T17:49:41.909323",
     "status": "completed"
    },
    "tags": []
   },
   "outputs": [],
   "source": [
    "y_train = y_train[keep_mask]"
   ]
  },
  {
   "cell_type": "markdown",
   "id": "493e2ac3",
   "metadata": {
    "papermill": {
     "duration": 0.020982,
     "end_time": "2025-08-06T17:49:41.980929",
     "exception": false,
     "start_time": "2025-08-06T17:49:41.959947",
     "status": "completed"
    },
    "tags": []
   },
   "source": [
    "# Model Training"
   ]
  },
  {
   "cell_type": "code",
   "execution_count": 30,
   "id": "679e1268",
   "metadata": {
    "execution": {
     "iopub.execute_input": "2025-08-06T17:49:42.022105Z",
     "iopub.status.busy": "2025-08-06T17:49:42.021561Z",
     "iopub.status.idle": "2025-08-06T17:49:42.130019Z",
     "shell.execute_reply": "2025-08-06T17:49:42.129009Z"
    },
    "papermill": {
     "duration": 0.131574,
     "end_time": "2025-08-06T17:49:42.132000",
     "exception": false,
     "start_time": "2025-08-06T17:49:42.000426",
     "status": "completed"
    },
    "tags": []
   },
   "outputs": [],
   "source": [
    "from sklearn.linear_model import LogisticRegression\n",
    "from sklearn.ensemble import GradientBoostingClassifier, RandomForestClassifier\n",
    "\n",
    "if (universe[\"model\"] == \"logreg\"):\n",
    "    model = LogisticRegression() #penalty=\"none\", solver=\"newton-cg\", max_iter=1)\n",
    "elif (universe[\"model\"] == \"penalized_logreg\"):\n",
    "    model = LogisticRegression(penalty=\"l2\", C=0.1) #, solver=\"newton-cg\", max_iter=1)\n",
    "elif (universe[\"model\"] == \"rf\"):\n",
    "    model = RandomForestClassifier() # n_estimators=100, n_jobs=-1\n",
    "elif (universe[\"model\"] == \"gbm\"):\n",
    "    model = GradientBoostingClassifier()\n",
    "elif (universe[\"model\"] == \"elasticnet\"):\n",
    "    model = LogisticRegression(penalty = 'elasticnet', solver = 'saga', l1_ratio = 0.5) # max_iter=5000\n",
    "else:\n",
    "    raise \"Unsupported universe.model\""
   ]
  },
  {
   "cell_type": "code",
   "execution_count": 31,
   "id": "0cc8f744",
   "metadata": {
    "execution": {
     "iopub.execute_input": "2025-08-06T17:49:42.174597Z",
     "iopub.status.busy": "2025-08-06T17:49:42.174109Z",
     "iopub.status.idle": "2025-08-06T17:49:42.180430Z",
     "shell.execute_reply": "2025-08-06T17:49:42.179437Z"
    },
    "papermill": {
     "duration": 0.029968,
     "end_time": "2025-08-06T17:49:42.182142",
     "exception": false,
     "start_time": "2025-08-06T17:49:42.152174",
     "status": "completed"
    },
    "tags": []
   },
   "outputs": [],
   "source": [
    "from sklearn.pipeline import Pipeline\n",
    "from sklearn.preprocessing import StandardScaler\n",
    "\n",
    "model = Pipeline([\n",
    "    #(\"continuous_processor\", continuous_processor),\n",
    "    #(\"categorical_preprocessor\", categorical_preprocessor),\n",
    "    (\"scale\", StandardScaler() if universe[\"scale\"] == \"scale\" else None), \n",
    "    (\"model\", model),\n",
    "])"
   ]
  },
  {
   "cell_type": "code",
   "execution_count": 32,
   "id": "9442c04d",
   "metadata": {
    "execution": {
     "iopub.execute_input": "2025-08-06T17:49:42.224579Z",
     "iopub.status.busy": "2025-08-06T17:49:42.223867Z",
     "iopub.status.idle": "2025-08-06T17:49:43.289584Z",
     "shell.execute_reply": "2025-08-06T17:49:43.288580Z"
    },
    "papermill": {
     "duration": 1.088463,
     "end_time": "2025-08-06T17:49:43.291619",
     "exception": false,
     "start_time": "2025-08-06T17:49:42.203156",
     "status": "completed"
    },
    "tags": []
   },
   "outputs": [
    {
     "data": {
      "text/html": [
       "<style>#sk-container-id-1 {color: black;background-color: white;}#sk-container-id-1 pre{padding: 0;}#sk-container-id-1 div.sk-toggleable {background-color: white;}#sk-container-id-1 label.sk-toggleable__label {cursor: pointer;display: block;width: 100%;margin-bottom: 0;padding: 0.3em;box-sizing: border-box;text-align: center;}#sk-container-id-1 label.sk-toggleable__label-arrow:before {content: \"▸\";float: left;margin-right: 0.25em;color: #696969;}#sk-container-id-1 label.sk-toggleable__label-arrow:hover:before {color: black;}#sk-container-id-1 div.sk-estimator:hover label.sk-toggleable__label-arrow:before {color: black;}#sk-container-id-1 div.sk-toggleable__content {max-height: 0;max-width: 0;overflow: hidden;text-align: left;background-color: #f0f8ff;}#sk-container-id-1 div.sk-toggleable__content pre {margin: 0.2em;color: black;border-radius: 0.25em;background-color: #f0f8ff;}#sk-container-id-1 input.sk-toggleable__control:checked~div.sk-toggleable__content {max-height: 200px;max-width: 100%;overflow: auto;}#sk-container-id-1 input.sk-toggleable__control:checked~label.sk-toggleable__label-arrow:before {content: \"▾\";}#sk-container-id-1 div.sk-estimator input.sk-toggleable__control:checked~label.sk-toggleable__label {background-color: #d4ebff;}#sk-container-id-1 div.sk-label input.sk-toggleable__control:checked~label.sk-toggleable__label {background-color: #d4ebff;}#sk-container-id-1 input.sk-hidden--visually {border: 0;clip: rect(1px 1px 1px 1px);clip: rect(1px, 1px, 1px, 1px);height: 1px;margin: -1px;overflow: hidden;padding: 0;position: absolute;width: 1px;}#sk-container-id-1 div.sk-estimator {font-family: monospace;background-color: #f0f8ff;border: 1px dotted black;border-radius: 0.25em;box-sizing: border-box;margin-bottom: 0.5em;}#sk-container-id-1 div.sk-estimator:hover {background-color: #d4ebff;}#sk-container-id-1 div.sk-parallel-item::after {content: \"\";width: 100%;border-bottom: 1px solid gray;flex-grow: 1;}#sk-container-id-1 div.sk-label:hover label.sk-toggleable__label {background-color: #d4ebff;}#sk-container-id-1 div.sk-serial::before {content: \"\";position: absolute;border-left: 1px solid gray;box-sizing: border-box;top: 0;bottom: 0;left: 50%;z-index: 0;}#sk-container-id-1 div.sk-serial {display: flex;flex-direction: column;align-items: center;background-color: white;padding-right: 0.2em;padding-left: 0.2em;position: relative;}#sk-container-id-1 div.sk-item {position: relative;z-index: 1;}#sk-container-id-1 div.sk-parallel {display: flex;align-items: stretch;justify-content: center;background-color: white;position: relative;}#sk-container-id-1 div.sk-item::before, #sk-container-id-1 div.sk-parallel-item::before {content: \"\";position: absolute;border-left: 1px solid gray;box-sizing: border-box;top: 0;bottom: 0;left: 50%;z-index: -1;}#sk-container-id-1 div.sk-parallel-item {display: flex;flex-direction: column;z-index: 1;position: relative;background-color: white;}#sk-container-id-1 div.sk-parallel-item:first-child::after {align-self: flex-end;width: 50%;}#sk-container-id-1 div.sk-parallel-item:last-child::after {align-self: flex-start;width: 50%;}#sk-container-id-1 div.sk-parallel-item:only-child::after {width: 0;}#sk-container-id-1 div.sk-dashed-wrapped {border: 1px dashed gray;margin: 0 0.4em 0.5em 0.4em;box-sizing: border-box;padding-bottom: 0.4em;background-color: white;}#sk-container-id-1 div.sk-label label {font-family: monospace;font-weight: bold;display: inline-block;line-height: 1.2em;}#sk-container-id-1 div.sk-label-container {text-align: center;}#sk-container-id-1 div.sk-container {/* jupyter's `normalize.less` sets `[hidden] { display: none; }` but bootstrap.min.css set `[hidden] { display: none !important; }` so we also need the `!important` here to be able to override the default hidden behavior on the sphinx rendered scikit-learn.org. See: https://github.com/scikit-learn/scikit-learn/issues/21755 */display: inline-block !important;position: relative;}#sk-container-id-1 div.sk-text-repr-fallback {display: none;}</style><div id=\"sk-container-id-1\" class=\"sk-top-container\"><div class=\"sk-text-repr-fallback\"><pre>Pipeline(steps=[(&#x27;scale&#x27;, StandardScaler()),\n",
       "                (&#x27;model&#x27;, GradientBoostingClassifier())])</pre><b>In a Jupyter environment, please rerun this cell to show the HTML representation or trust the notebook. <br />On GitHub, the HTML representation is unable to render, please try loading this page with nbviewer.org.</b></div><div class=\"sk-container\" hidden><div class=\"sk-item sk-dashed-wrapped\"><div class=\"sk-label-container\"><div class=\"sk-label sk-toggleable\"><input class=\"sk-toggleable__control sk-hidden--visually\" id=\"sk-estimator-id-1\" type=\"checkbox\" ><label for=\"sk-estimator-id-1\" class=\"sk-toggleable__label sk-toggleable__label-arrow\">Pipeline</label><div class=\"sk-toggleable__content\"><pre>Pipeline(steps=[(&#x27;scale&#x27;, StandardScaler()),\n",
       "                (&#x27;model&#x27;, GradientBoostingClassifier())])</pre></div></div></div><div class=\"sk-serial\"><div class=\"sk-item\"><div class=\"sk-estimator sk-toggleable\"><input class=\"sk-toggleable__control sk-hidden--visually\" id=\"sk-estimator-id-2\" type=\"checkbox\" ><label for=\"sk-estimator-id-2\" class=\"sk-toggleable__label sk-toggleable__label-arrow\">StandardScaler</label><div class=\"sk-toggleable__content\"><pre>StandardScaler()</pre></div></div></div><div class=\"sk-item\"><div class=\"sk-estimator sk-toggleable\"><input class=\"sk-toggleable__control sk-hidden--visually\" id=\"sk-estimator-id-3\" type=\"checkbox\" ><label for=\"sk-estimator-id-3\" class=\"sk-toggleable__label sk-toggleable__label-arrow\">GradientBoostingClassifier</label><div class=\"sk-toggleable__content\"><pre>GradientBoostingClassifier()</pre></div></div></div></div></div></div></div>"
      ],
      "text/plain": [
       "Pipeline(steps=[('scale', StandardScaler()),\n",
       "                ('model', GradientBoostingClassifier())])"
      ]
     },
     "execution_count": 32,
     "metadata": {},
     "output_type": "execute_result"
    }
   ],
   "source": [
    "model.fit(X_train, y_train.values.ravel())"
   ]
  },
  {
   "cell_type": "code",
   "execution_count": 33,
   "id": "a7cf2e16",
   "metadata": {
    "execution": {
     "iopub.execute_input": "2025-08-06T17:49:43.336365Z",
     "iopub.status.busy": "2025-08-06T17:49:43.335323Z",
     "iopub.status.idle": "2025-08-06T17:49:44.095973Z",
     "shell.execute_reply": "2025-08-06T17:49:44.095026Z"
    },
    "papermill": {
     "duration": 0.784328,
     "end_time": "2025-08-06T17:49:44.097661",
     "exception": false,
     "start_time": "2025-08-06T17:49:43.313333",
     "status": "completed"
    },
    "tags": []
   },
   "outputs": [
    {
     "data": {
      "text/plain": [
       "0.8502731022182588"
      ]
     },
     "execution_count": 33,
     "metadata": {},
     "output_type": "execute_result"
    }
   ],
   "source": [
    "from fairness_multiverse.universe import predict_w_threshold\n",
    "\n",
    "probs_test = model.predict_proba(X_test)\n",
    "\n",
    "'''\n",
    "Below code returns a boolean array (or binary 0/1 array depending on how it’s used) where each element \n",
    "is True if the probability of class 1 is greater than or equal to the threshold, and False otherwise.\n",
    "'''\n",
    "y_pred_default = predict_w_threshold(probs_test, 0.5)\n",
    "\n",
    "from sklearn.metrics import accuracy_score\n",
    "\n",
    "# Naive prediction\n",
    "accuracy_score(y_true = y_true, y_pred = y_pred_default)"
   ]
  },
  {
   "cell_type": "code",
   "execution_count": 34,
   "id": "081964c3",
   "metadata": {
    "execution": {
     "iopub.execute_input": "2025-08-06T17:49:44.142439Z",
     "iopub.status.busy": "2025-08-06T17:49:44.141898Z",
     "iopub.status.idle": "2025-08-06T17:49:44.913307Z",
     "shell.execute_reply": "2025-08-06T17:49:44.912307Z"
    },
    "papermill": {
     "duration": 0.794313,
     "end_time": "2025-08-06T17:49:44.915106",
     "exception": false,
     "start_time": "2025-08-06T17:49:44.120793",
     "status": "completed"
    },
    "tags": []
   },
   "outputs": [
    {
     "data": {
      "text/plain": [
       "array([0, 0, 0, ..., 0, 0, 0])"
      ]
     },
     "execution_count": 34,
     "metadata": {},
     "output_type": "execute_result"
    }
   ],
   "source": [
    "model.predict(X_test)"
   ]
  },
  {
   "cell_type": "markdown",
   "id": "56c9705b",
   "metadata": {
    "papermill": {
     "duration": 0.021597,
     "end_time": "2025-08-06T17:49:44.957954",
     "exception": false,
     "start_time": "2025-08-06T17:49:44.936357",
     "status": "completed"
    },
    "tags": []
   },
   "source": [
    "# Conformal Prediction"
   ]
  },
  {
   "cell_type": "code",
   "execution_count": 35,
   "id": "160ec6ff",
   "metadata": {
    "execution": {
     "iopub.execute_input": "2025-08-06T17:49:45.001684Z",
     "iopub.status.busy": "2025-08-06T17:49:45.001002Z",
     "iopub.status.idle": "2025-08-06T17:49:45.007195Z",
     "shell.execute_reply": "2025-08-06T17:49:45.006272Z"
    },
    "papermill": {
     "duration": 0.029519,
     "end_time": "2025-08-06T17:49:45.008914",
     "exception": false,
     "start_time": "2025-08-06T17:49:44.979395",
     "status": "completed"
    },
    "tags": []
   },
   "outputs": [],
   "source": [
    "# Miscoverage level for conformal prediction (10% allowed error rate => 90% target coverage)\n",
    "alpha = 0.1"
   ]
  },
  {
   "cell_type": "code",
   "execution_count": 36,
   "id": "eadf4555-3dd3-440e-8e35-f82a4ad9f855",
   "metadata": {
    "execution": {
     "iopub.execute_input": "2025-08-06T17:49:45.054442Z",
     "iopub.status.busy": "2025-08-06T17:49:45.053792Z",
     "iopub.status.idle": "2025-08-06T17:49:45.823346Z",
     "shell.execute_reply": "2025-08-06T17:49:45.822173Z"
    },
    "papermill": {
     "duration": 0.794789,
     "end_time": "2025-08-06T17:49:45.825903",
     "exception": false,
     "start_time": "2025-08-06T17:49:45.031114",
     "status": "completed"
    },
    "tags": []
   },
   "outputs": [],
   "source": [
    "probs_calib = model.predict_proba(X_calib)"
   ]
  },
  {
   "cell_type": "code",
   "execution_count": 37,
   "id": "2ed93547-6d5d-4983-9b36-1ecb300da49a",
   "metadata": {
    "execution": {
     "iopub.execute_input": "2025-08-06T17:49:45.883088Z",
     "iopub.status.busy": "2025-08-06T17:49:45.882609Z",
     "iopub.status.idle": "2025-08-06T17:49:45.889562Z",
     "shell.execute_reply": "2025-08-06T17:49:45.888393Z"
    },
    "papermill": {
     "duration": 0.038235,
     "end_time": "2025-08-06T17:49:45.891555",
     "exception": false,
     "start_time": "2025-08-06T17:49:45.853320",
     "status": "completed"
    },
    "tags": []
   },
   "outputs": [],
   "source": [
    "y_calib = y_calib.values.ravel().astype(int)"
   ]
  },
  {
   "cell_type": "code",
   "execution_count": 38,
   "id": "65d1320d-f588-4b38-9072-62af1ae97f7d",
   "metadata": {
    "execution": {
     "iopub.execute_input": "2025-08-06T17:49:45.946022Z",
     "iopub.status.busy": "2025-08-06T17:49:45.945048Z",
     "iopub.status.idle": "2025-08-06T17:49:45.954744Z",
     "shell.execute_reply": "2025-08-06T17:49:45.953461Z"
    },
    "papermill": {
     "duration": 0.039295,
     "end_time": "2025-08-06T17:49:45.956955",
     "exception": false,
     "start_time": "2025-08-06T17:49:45.917660",
     "status": "completed"
    },
    "tags": []
   },
   "outputs": [],
   "source": [
    "from fairness_multiverse.conformal import compute_nc_scores\n",
    "\n",
    "# Compute nonconformity scores on calibration set (1 - probability of true class)\n",
    "nc_scores = compute_nc_scores(probs_calib, y_calib)"
   ]
  },
  {
   "cell_type": "code",
   "execution_count": 39,
   "id": "df3b8ca3-53b7-43d5-9667-7c85da7aeda2",
   "metadata": {
    "execution": {
     "iopub.execute_input": "2025-08-06T17:49:46.011812Z",
     "iopub.status.busy": "2025-08-06T17:49:46.010726Z",
     "iopub.status.idle": "2025-08-06T17:49:46.019443Z",
     "shell.execute_reply": "2025-08-06T17:49:46.018194Z"
    },
    "papermill": {
     "duration": 0.038807,
     "end_time": "2025-08-06T17:49:46.022033",
     "exception": false,
     "start_time": "2025-08-06T17:49:45.983226",
     "status": "completed"
    },
    "tags": []
   },
   "outputs": [],
   "source": [
    "from fairness_multiverse.conformal import find_threshold\n",
    "\n",
    "# Find conformal threshold q_hat for the given alpha (split conformal method)\n",
    "q_hat = find_threshold(nc_scores, alpha)"
   ]
  },
  {
   "cell_type": "code",
   "execution_count": 40,
   "id": "4d29e6c1-0ef6-4aa4-b8fe-4fe79b0d033a",
   "metadata": {
    "execution": {
     "iopub.execute_input": "2025-08-06T17:49:46.077328Z",
     "iopub.status.busy": "2025-08-06T17:49:46.076409Z",
     "iopub.status.idle": "2025-08-06T17:49:46.086427Z",
     "shell.execute_reply": "2025-08-06T17:49:46.085142Z"
    },
    "papermill": {
     "duration": 0.040437,
     "end_time": "2025-08-06T17:49:46.088786",
     "exception": false,
     "start_time": "2025-08-06T17:49:46.048349",
     "status": "completed"
    },
    "tags": []
   },
   "outputs": [
    {
     "data": {
      "text/plain": [
       "0.740989280317998"
      ]
     },
     "execution_count": 40,
     "metadata": {},
     "output_type": "execute_result"
    }
   ],
   "source": [
    "q_hat"
   ]
  },
  {
   "cell_type": "code",
   "execution_count": 41,
   "id": "92460794-cdac-4be2-ba28-f28c0515a6fb",
   "metadata": {
    "execution": {
     "iopub.execute_input": "2025-08-06T17:49:46.157687Z",
     "iopub.status.busy": "2025-08-06T17:49:46.156914Z",
     "iopub.status.idle": "2025-08-06T17:49:48.194427Z",
     "shell.execute_reply": "2025-08-06T17:49:48.193688Z"
    },
    "papermill": {
     "duration": 2.073688,
     "end_time": "2025-08-06T17:49:48.195840",
     "exception": false,
     "start_time": "2025-08-06T17:49:46.122152",
     "status": "completed"
    },
    "tags": []
   },
   "outputs": [],
   "source": [
    "from fairness_multiverse.conformal import predict_conformal_sets\n",
    "\n",
    "# Generate prediction sets for each test example\n",
    "pred_sets = predict_conformal_sets(model, X_test, q_hat)"
   ]
  },
  {
   "cell_type": "code",
   "execution_count": 42,
   "id": "d90c9a65-e6db-4f5d-80cd-e68fb7e46829",
   "metadata": {
    "execution": {
     "iopub.execute_input": "2025-08-06T17:49:48.224000Z",
     "iopub.status.busy": "2025-08-06T17:49:48.223395Z",
     "iopub.status.idle": "2025-08-06T17:49:48.229181Z",
     "shell.execute_reply": "2025-08-06T17:49:48.228351Z"
    },
    "papermill": {
     "duration": 0.025252,
     "end_time": "2025-08-06T17:49:48.232579",
     "exception": false,
     "start_time": "2025-08-06T17:49:48.207327",
     "status": "completed"
    },
    "tags": []
   },
   "outputs": [],
   "source": [
    "y_true = y_true.squeeze()"
   ]
  },
  {
   "cell_type": "code",
   "execution_count": 43,
   "id": "3a58a54a-1e68-46b9-927a-df01f18aebc8",
   "metadata": {
    "execution": {
     "iopub.execute_input": "2025-08-06T17:49:48.285097Z",
     "iopub.status.busy": "2025-08-06T17:49:48.284526Z",
     "iopub.status.idle": "2025-08-06T17:49:49.262766Z",
     "shell.execute_reply": "2025-08-06T17:49:49.261717Z"
    },
    "papermill": {
     "duration": 1.00721,
     "end_time": "2025-08-06T17:49:49.264925",
     "exception": false,
     "start_time": "2025-08-06T17:49:48.257715",
     "status": "completed"
    },
    "tags": []
   },
   "outputs": [],
   "source": [
    "from fairness_multiverse.conformal import evaluate_sets\n",
    "\n",
    "# Evaluate coverage and average set size on test data\n",
    "metrics = evaluate_sets(pred_sets, y_true)"
   ]
  },
  {
   "cell_type": "markdown",
   "id": "2b569c12-9aaa-4c88-98c9-bbcd0cf3ebb8",
   "metadata": {
    "papermill": {
     "duration": 0.025257,
     "end_time": "2025-08-06T17:49:49.317839",
     "exception": false,
     "start_time": "2025-08-06T17:49:49.292582",
     "status": "completed"
    },
    "tags": []
   },
   "source": [
    "# CP Metrics"
   ]
  },
  {
   "cell_type": "code",
   "execution_count": 44,
   "id": "5ce0a5cb-201f-45a0-ade5-94c7f0bd6095",
   "metadata": {
    "execution": {
     "iopub.execute_input": "2025-08-06T17:49:49.368891Z",
     "iopub.status.busy": "2025-08-06T17:49:49.368350Z",
     "iopub.status.idle": "2025-08-06T17:49:49.376128Z",
     "shell.execute_reply": "2025-08-06T17:49:49.374899Z"
    },
    "papermill": {
     "duration": 0.034783,
     "end_time": "2025-08-06T17:49:49.377896",
     "exception": false,
     "start_time": "2025-08-06T17:49:49.343113",
     "status": "completed"
    },
    "tags": []
   },
   "outputs": [
    {
     "data": {
      "text/plain": [
       "{'coverage': 0.9099097090625349, 'avg_size': 1.1558020287593356}"
      ]
     },
     "execution_count": 44,
     "metadata": {},
     "output_type": "execute_result"
    }
   ],
   "source": [
    "metrics"
   ]
  },
  {
   "cell_type": "code",
   "execution_count": 45,
   "id": "9b9a838d-31c9-430b-ae14-12baee460d17",
   "metadata": {
    "execution": {
     "iopub.execute_input": "2025-08-06T17:49:49.424314Z",
     "iopub.status.busy": "2025-08-06T17:49:49.423905Z",
     "iopub.status.idle": "2025-08-06T17:49:49.430568Z",
     "shell.execute_reply": "2025-08-06T17:49:49.429558Z"
    },
    "papermill": {
     "duration": 0.03318,
     "end_time": "2025-08-06T17:49:49.432785",
     "exception": false,
     "start_time": "2025-08-06T17:49:49.399605",
     "status": "completed"
    },
    "tags": []
   },
   "outputs": [],
   "source": [
    "example_universe = universe.copy()\n",
    "universe_training_year = example_universe.get(\"training_year\")\n",
    "universe_training_size = example_universe.get(\"training_size\")\n",
    "universe_scale = example_universe.get(\"scale\")\n",
    "universe_model = example_universe.get(\"model\")\n",
    "universe_exclude_features = example_universe.get(\"exclude_features\")\n",
    "universe_exclude_subgroups = example_universe.get(\"exclude_subgroups\")"
   ]
  },
  {
   "cell_type": "code",
   "execution_count": 46,
   "id": "f4b6a8ac-9dc0-4245-8a91-5b3b5999c4f9",
   "metadata": {
    "execution": {
     "iopub.execute_input": "2025-08-06T17:49:49.486192Z",
     "iopub.status.busy": "2025-08-06T17:49:49.485255Z",
     "iopub.status.idle": "2025-08-06T17:49:49.491710Z",
     "shell.execute_reply": "2025-08-06T17:49:49.490738Z"
    },
    "papermill": {
     "duration": 0.035137,
     "end_time": "2025-08-06T17:49:49.493638",
     "exception": false,
     "start_time": "2025-08-06T17:49:49.458501",
     "status": "completed"
    },
    "tags": []
   },
   "outputs": [],
   "source": [
    "cp_metrics_dict = {\n",
    "    \"universe_id\": [universe_id],\n",
    "    \"universe_training_year\": [universe_training_year],\n",
    "    \"universe_training_size\": [universe_training_size],\n",
    "    \"universe_scale\": [universe_scale],\n",
    "    \"universe_model\": [universe_model],\n",
    "    \"universe_exclude_features\": [universe_exclude_features],\n",
    "    \"universe_exclude_subgroups\": [universe_exclude_subgroups],\n",
    "    \"q_hat\": [q_hat],\n",
    "    \"coverage\": [metrics[\"coverage\"]],\n",
    "    \"avg_size\": [metrics[\"avg_size\"]],\n",
    "}"
   ]
  },
  {
   "cell_type": "code",
   "execution_count": 47,
   "id": "33007efc-14e9-4ec6-97ac-56a455c82265",
   "metadata": {
    "execution": {
     "iopub.execute_input": "2025-08-06T17:49:49.542194Z",
     "iopub.status.busy": "2025-08-06T17:49:49.541762Z",
     "iopub.status.idle": "2025-08-06T17:49:49.547755Z",
     "shell.execute_reply": "2025-08-06T17:49:49.546870Z"
    },
    "papermill": {
     "duration": 0.030679,
     "end_time": "2025-08-06T17:49:49.549428",
     "exception": false,
     "start_time": "2025-08-06T17:49:49.518749",
     "status": "completed"
    },
    "tags": []
   },
   "outputs": [],
   "source": [
    "cp_metrics_df = pd.DataFrame(cp_metrics_dict)"
   ]
  },
  {
   "cell_type": "code",
   "execution_count": 48,
   "id": "db12611b-57b2-4910-b9d0-355adfd6e7bf",
   "metadata": {
    "execution": {
     "iopub.execute_input": "2025-08-06T17:49:49.591321Z",
     "iopub.status.busy": "2025-08-06T17:49:49.590885Z",
     "iopub.status.idle": "2025-08-06T17:49:49.607432Z",
     "shell.execute_reply": "2025-08-06T17:49:49.606383Z"
    },
    "papermill": {
     "duration": 0.039574,
     "end_time": "2025-08-06T17:49:49.609232",
     "exception": false,
     "start_time": "2025-08-06T17:49:49.569658",
     "status": "completed"
    },
    "tags": []
   },
   "outputs": [
    {
     "data": {
      "text/html": [
       "<div>\n",
       "<style scoped>\n",
       "    .dataframe tbody tr th:only-of-type {\n",
       "        vertical-align: middle;\n",
       "    }\n",
       "\n",
       "    .dataframe tbody tr th {\n",
       "        vertical-align: top;\n",
       "    }\n",
       "\n",
       "    .dataframe thead th {\n",
       "        text-align: right;\n",
       "    }\n",
       "</style>\n",
       "<table border=\"1\" class=\"dataframe\">\n",
       "  <thead>\n",
       "    <tr style=\"text-align: right;\">\n",
       "      <th></th>\n",
       "      <th>universe_id</th>\n",
       "      <th>universe_training_year</th>\n",
       "      <th>universe_training_size</th>\n",
       "      <th>universe_scale</th>\n",
       "      <th>universe_model</th>\n",
       "      <th>universe_exclude_features</th>\n",
       "      <th>universe_exclude_subgroups</th>\n",
       "      <th>q_hat</th>\n",
       "      <th>coverage</th>\n",
       "      <th>avg_size</th>\n",
       "    </tr>\n",
       "  </thead>\n",
       "  <tbody>\n",
       "    <tr>\n",
       "      <th>0</th>\n",
       "      <td>8def8c3a49d908f7d66cebfa365684a6</td>\n",
       "      <td>2014</td>\n",
       "      <td>1k</td>\n",
       "      <td>scale</td>\n",
       "      <td>gbm</td>\n",
       "      <td>sex</td>\n",
       "      <td>keep-all</td>\n",
       "      <td>0.740989</td>\n",
       "      <td>0.90991</td>\n",
       "      <td>1.155802</td>\n",
       "    </tr>\n",
       "  </tbody>\n",
       "</table>\n",
       "</div>"
      ],
      "text/plain": [
       "                        universe_id universe_training_year  \\\n",
       "0  8def8c3a49d908f7d66cebfa365684a6                   2014   \n",
       "\n",
       "  universe_training_size universe_scale universe_model  \\\n",
       "0                     1k          scale            gbm   \n",
       "\n",
       "  universe_exclude_features universe_exclude_subgroups     q_hat  coverage  \\\n",
       "0                       sex                   keep-all  0.740989   0.90991   \n",
       "\n",
       "   avg_size  \n",
       "0  1.155802  "
      ]
     },
     "execution_count": 48,
     "metadata": {},
     "output_type": "execute_result"
    }
   ],
   "source": [
    "cp_metrics_df"
   ]
  },
  {
   "cell_type": "markdown",
   "id": "c825ecb4-0d3d-41d6-b7c6-eccb21272259",
   "metadata": {
    "papermill": {
     "duration": 0.021829,
     "end_time": "2025-08-06T17:49:49.654922",
     "exception": false,
     "start_time": "2025-08-06T17:49:49.633093",
     "status": "completed"
    },
    "tags": []
   },
   "source": [
    "Conditional coverage & looking at subgroups"
   ]
  },
  {
   "cell_type": "code",
   "execution_count": 49,
   "id": "027ae886-68dd-4141-96c7-805a5450e1ef",
   "metadata": {
    "execution": {
     "iopub.execute_input": "2025-08-06T17:49:49.702765Z",
     "iopub.status.busy": "2025-08-06T17:49:49.702249Z",
     "iopub.status.idle": "2025-08-06T17:49:49.974527Z",
     "shell.execute_reply": "2025-08-06T17:49:49.973494Z"
    },
    "papermill": {
     "duration": 0.298719,
     "end_time": "2025-08-06T17:49:49.976672",
     "exception": false,
     "start_time": "2025-08-06T17:49:49.677953",
     "status": "completed"
    },
    "tags": []
   },
   "outputs": [],
   "source": [
    "from fairness_multiverse.conformal import build_cp_groups\n",
    "\n",
    "cp_groups_df = build_cp_groups(pred_sets, y_true, X_test.index, org_test)"
   ]
  },
  {
   "cell_type": "code",
   "execution_count": 50,
   "id": "6cbdab96-b2b2-45af-ad54-d0516db2e28d",
   "metadata": {
    "execution": {
     "iopub.execute_input": "2025-08-06T17:49:50.023821Z",
     "iopub.status.busy": "2025-08-06T17:49:50.023052Z",
     "iopub.status.idle": "2025-08-06T17:49:51.720542Z",
     "shell.execute_reply": "2025-08-06T17:49:51.719452Z"
    },
    "papermill": {
     "duration": 1.72259,
     "end_time": "2025-08-06T17:49:51.723077",
     "exception": false,
     "start_time": "2025-08-06T17:49:50.000487",
     "status": "completed"
    },
    "tags": []
   },
   "outputs": [],
   "source": [
    "# Define covered = 1 if true_label is in the predicted set\n",
    "cp_groups_df['covered'] = cp_groups_df.apply(\n",
    "    lambda r: int(r['true_label'] in r['pred_set']),\n",
    "    axis=1\n",
    ")"
   ]
  },
  {
   "cell_type": "code",
   "execution_count": 51,
   "id": "90032e27-66df-4540-9169-4e89cfbaa758",
   "metadata": {
    "execution": {
     "iopub.execute_input": "2025-08-06T17:49:51.783191Z",
     "iopub.status.busy": "2025-08-06T17:49:51.782401Z",
     "iopub.status.idle": "2025-08-06T17:49:51.795858Z",
     "shell.execute_reply": "2025-08-06T17:49:51.794613Z"
    },
    "papermill": {
     "duration": 0.046189,
     "end_time": "2025-08-06T17:49:51.798042",
     "exception": false,
     "start_time": "2025-08-06T17:49:51.751853",
     "status": "completed"
    },
    "tags": []
   },
   "outputs": [],
   "source": [
    "subgroups = ['frau1','nongerman','nongerman_male','nongerman_female']\n",
    "\n",
    "# Conditional coverage for subgroup==1\n",
    "cond_coverage = {\n",
    "    g: cp_groups_df.loc[cp_groups_df[g]==1, 'covered'].mean()\n",
    "    for g in subgroups\n",
    "}"
   ]
  },
  {
   "cell_type": "code",
   "execution_count": 52,
   "id": "1e348fb1-b9c3-45bc-ba23-f016827a7e0d",
   "metadata": {
    "execution": {
     "iopub.execute_input": "2025-08-06T17:49:51.857856Z",
     "iopub.status.busy": "2025-08-06T17:49:51.857138Z",
     "iopub.status.idle": "2025-08-06T17:49:51.865975Z",
     "shell.execute_reply": "2025-08-06T17:49:51.864714Z"
    },
    "papermill": {
     "duration": 0.041538,
     "end_time": "2025-08-06T17:49:51.868212",
     "exception": false,
     "start_time": "2025-08-06T17:49:51.826674",
     "status": "completed"
    },
    "tags": []
   },
   "outputs": [
    {
     "data": {
      "text/plain": [
       "{'frau1': 0.9067259738509234,\n",
       " 'nongerman': 0.906697355863695,\n",
       " 'nongerman_male': 0.924614968927317,\n",
       " 'nongerman_female': 0.8770491803278688}"
      ]
     },
     "execution_count": 52,
     "metadata": {},
     "output_type": "execute_result"
    }
   ],
   "source": [
    "cond_coverage"
   ]
  },
  {
   "cell_type": "code",
   "execution_count": 53,
   "id": "f5093324-c3dd-4d63-bc4c-8d945e5c8bbb",
   "metadata": {
    "execution": {
     "iopub.execute_input": "2025-08-06T17:49:51.921097Z",
     "iopub.status.busy": "2025-08-06T17:49:51.920270Z",
     "iopub.status.idle": "2025-08-06T17:49:51.929018Z",
     "shell.execute_reply": "2025-08-06T17:49:51.927908Z"
    },
    "papermill": {
     "duration": 0.037435,
     "end_time": "2025-08-06T17:49:51.931168",
     "exception": false,
     "start_time": "2025-08-06T17:49:51.893733",
     "status": "completed"
    },
    "tags": []
   },
   "outputs": [],
   "source": [
    "for subgroup, cov in cond_coverage.items():\n",
    "    cp_metrics_df[f\"cov_{subgroup}\"] = cov"
   ]
  },
  {
   "cell_type": "code",
   "execution_count": 54,
   "id": "6e872e10-dbe5-49e8-b554-5030c98ff75d",
   "metadata": {
    "execution": {
     "iopub.execute_input": "2025-08-06T17:49:51.992799Z",
     "iopub.status.busy": "2025-08-06T17:49:51.991681Z",
     "iopub.status.idle": "2025-08-06T17:49:52.015158Z",
     "shell.execute_reply": "2025-08-06T17:49:52.013817Z"
    },
    "papermill": {
     "duration": 0.056878,
     "end_time": "2025-08-06T17:49:52.017368",
     "exception": false,
     "start_time": "2025-08-06T17:49:51.960490",
     "status": "completed"
    },
    "tags": []
   },
   "outputs": [
    {
     "data": {
      "text/html": [
       "<div>\n",
       "<style scoped>\n",
       "    .dataframe tbody tr th:only-of-type {\n",
       "        vertical-align: middle;\n",
       "    }\n",
       "\n",
       "    .dataframe tbody tr th {\n",
       "        vertical-align: top;\n",
       "    }\n",
       "\n",
       "    .dataframe thead th {\n",
       "        text-align: right;\n",
       "    }\n",
       "</style>\n",
       "<table border=\"1\" class=\"dataframe\">\n",
       "  <thead>\n",
       "    <tr style=\"text-align: right;\">\n",
       "      <th></th>\n",
       "      <th>universe_id</th>\n",
       "      <th>universe_training_year</th>\n",
       "      <th>universe_training_size</th>\n",
       "      <th>universe_scale</th>\n",
       "      <th>universe_model</th>\n",
       "      <th>universe_exclude_features</th>\n",
       "      <th>universe_exclude_subgroups</th>\n",
       "      <th>q_hat</th>\n",
       "      <th>coverage</th>\n",
       "      <th>avg_size</th>\n",
       "      <th>cov_frau1</th>\n",
       "      <th>cov_nongerman</th>\n",
       "      <th>cov_nongerman_male</th>\n",
       "      <th>cov_nongerman_female</th>\n",
       "    </tr>\n",
       "  </thead>\n",
       "  <tbody>\n",
       "    <tr>\n",
       "      <th>0</th>\n",
       "      <td>8def8c3a49d908f7d66cebfa365684a6</td>\n",
       "      <td>2014</td>\n",
       "      <td>1k</td>\n",
       "      <td>scale</td>\n",
       "      <td>gbm</td>\n",
       "      <td>sex</td>\n",
       "      <td>keep-all</td>\n",
       "      <td>0.740989</td>\n",
       "      <td>0.90991</td>\n",
       "      <td>1.155802</td>\n",
       "      <td>0.906726</td>\n",
       "      <td>0.906697</td>\n",
       "      <td>0.924615</td>\n",
       "      <td>0.877049</td>\n",
       "    </tr>\n",
       "  </tbody>\n",
       "</table>\n",
       "</div>"
      ],
      "text/plain": [
       "                        universe_id universe_training_year  \\\n",
       "0  8def8c3a49d908f7d66cebfa365684a6                   2014   \n",
       "\n",
       "  universe_training_size universe_scale universe_model  \\\n",
       "0                     1k          scale            gbm   \n",
       "\n",
       "  universe_exclude_features universe_exclude_subgroups     q_hat  coverage  \\\n",
       "0                       sex                   keep-all  0.740989   0.90991   \n",
       "\n",
       "   avg_size  cov_frau1  cov_nongerman  cov_nongerman_male  \\\n",
       "0  1.155802   0.906726       0.906697            0.924615   \n",
       "\n",
       "   cov_nongerman_female  \n",
       "0              0.877049  "
      ]
     },
     "execution_count": 54,
     "metadata": {},
     "output_type": "execute_result"
    }
   ],
   "source": [
    "cp_metrics_df"
   ]
  },
  {
   "cell_type": "markdown",
   "id": "33774451",
   "metadata": {
    "papermill": {
     "duration": 0.02482,
     "end_time": "2025-08-06T17:49:52.071544",
     "exception": false,
     "start_time": "2025-08-06T17:49:52.046724",
     "status": "completed"
    },
    "tags": []
   },
   "source": [
    "# (Fairness) Metrics"
   ]
  },
  {
   "cell_type": "code",
   "execution_count": 55,
   "id": "debc5d62",
   "metadata": {
    "execution": {
     "iopub.execute_input": "2025-08-06T17:49:52.120813Z",
     "iopub.status.busy": "2025-08-06T17:49:52.120211Z",
     "iopub.status.idle": "2025-08-06T17:49:52.145627Z",
     "shell.execute_reply": "2025-08-06T17:49:52.144544Z"
    },
    "papermill": {
     "duration": 0.052635,
     "end_time": "2025-08-06T17:49:52.147782",
     "exception": false,
     "start_time": "2025-08-06T17:49:52.095147",
     "status": "completed"
    },
    "tags": []
   },
   "outputs": [],
   "source": [
    "colname_to_bin = \"maxdeutsch1\"\n",
    "majority_value = org_train[colname_to_bin].mode()[0]\n",
    "\n",
    "org_test[\"majmin\"] = np.where(org_test[colname_to_bin] == majority_value, \"majority\", \"minority\")"
   ]
  },
  {
   "cell_type": "code",
   "execution_count": 56,
   "id": "06a50de5",
   "metadata": {
    "execution": {
     "iopub.execute_input": "2025-08-06T17:49:52.197091Z",
     "iopub.status.busy": "2025-08-06T17:49:52.196559Z",
     "iopub.status.idle": "2025-08-06T17:49:54.771900Z",
     "shell.execute_reply": "2025-08-06T17:49:54.770914Z"
    },
    "papermill": {
     "duration": 2.600987,
     "end_time": "2025-08-06T17:49:54.773936",
     "exception": false,
     "start_time": "2025-08-06T17:49:52.172949",
     "status": "completed"
    },
    "tags": []
   },
   "outputs": [],
   "source": [
    "example_universe = universe.copy()\n",
    "example_universe[\"cutoff\"] = example_universe[\"cutoff\"][0]\n",
    "example_universe[\"eval_fairness_grouping\"] = example_universe[\"eval_fairness_grouping\"][0]\n",
    "fairness_dict, metric_frame = universe_analysis.compute_metrics(\n",
    "    example_universe,\n",
    "    y_pred_prob=probs_test,\n",
    "    y_test=y_true,\n",
    "    org_test=org_test,\n",
    ")"
   ]
  },
  {
   "cell_type": "markdown",
   "id": "f95d4e02",
   "metadata": {
    "papermill": {
     "duration": 0.027066,
     "end_time": "2025-08-06T17:49:54.828289",
     "exception": false,
     "start_time": "2025-08-06T17:49:54.801223",
     "status": "completed"
    },
    "tags": []
   },
   "source": [
    "# Overall"
   ]
  },
  {
   "cell_type": "markdown",
   "id": "bdee4871",
   "metadata": {
    "papermill": {
     "duration": 0.025236,
     "end_time": "2025-08-06T17:49:54.879280",
     "exception": false,
     "start_time": "2025-08-06T17:49:54.854044",
     "status": "completed"
    },
    "tags": []
   },
   "source": [
    "Main fairness target: Equalized Odds. Seems to be a better fit than equal opportunity, since we're not only interested in Y = 1. Seems to be a better fit than demographic parity, since we also care about accuracy, not just equal distribution of preds.\n",
    "\n",
    "Pick column for computation of fairness metrics\n",
    "\n",
    "Performance\n",
    "Overall performance measures, most interesting in relation to the measures split by group below"
   ]
  },
  {
   "cell_type": "code",
   "execution_count": 57,
   "id": "c4e067c6",
   "metadata": {
    "execution": {
     "iopub.execute_input": "2025-08-06T17:49:54.932140Z",
     "iopub.status.busy": "2025-08-06T17:49:54.931575Z",
     "iopub.status.idle": "2025-08-06T17:49:54.940780Z",
     "shell.execute_reply": "2025-08-06T17:49:54.939733Z"
    },
    "papermill": {
     "duration": 0.037881,
     "end_time": "2025-08-06T17:49:54.942584",
     "exception": false,
     "start_time": "2025-08-06T17:49:54.904703",
     "status": "completed"
    },
    "tags": []
   },
   "outputs": [
    {
     "data": {
      "text/plain": [
       "accuracy                   0.221792\n",
       "balanced accuracy          0.542854\n",
       "f1                         0.243195\n",
       "precision                  0.138929\n",
       "false positive rate        0.889005\n",
       "false negative rate        0.025287\n",
       "selection rate             0.900000\n",
       "count                  89710.000000\n",
       "dtype: float64"
      ]
     },
     "execution_count": 57,
     "metadata": {},
     "output_type": "execute_result"
    }
   ],
   "source": [
    "metric_frame.overall"
   ]
  },
  {
   "cell_type": "markdown",
   "id": "e968fe9d",
   "metadata": {
    "papermill": {
     "duration": 0.027545,
     "end_time": "2025-08-06T17:49:54.997774",
     "exception": false,
     "start_time": "2025-08-06T17:49:54.970229",
     "status": "completed"
    },
    "tags": []
   },
   "source": [
    "By Group"
   ]
  },
  {
   "cell_type": "code",
   "execution_count": 58,
   "id": "ec325bce",
   "metadata": {
    "execution": {
     "iopub.execute_input": "2025-08-06T17:49:55.053690Z",
     "iopub.status.busy": "2025-08-06T17:49:55.053196Z",
     "iopub.status.idle": "2025-08-06T17:49:55.069237Z",
     "shell.execute_reply": "2025-08-06T17:49:55.068308Z"
    },
    "papermill": {
     "duration": 0.045546,
     "end_time": "2025-08-06T17:49:55.070781",
     "exception": false,
     "start_time": "2025-08-06T17:49:55.025235",
     "status": "completed"
    },
    "tags": []
   },
   "outputs": [
    {
     "data": {
      "text/html": [
       "<div>\n",
       "<style scoped>\n",
       "    .dataframe tbody tr th:only-of-type {\n",
       "        vertical-align: middle;\n",
       "    }\n",
       "\n",
       "    .dataframe tbody tr th {\n",
       "        vertical-align: top;\n",
       "    }\n",
       "\n",
       "    .dataframe thead th {\n",
       "        text-align: right;\n",
       "    }\n",
       "</style>\n",
       "<table border=\"1\" class=\"dataframe\">\n",
       "  <thead>\n",
       "    <tr style=\"text-align: right;\">\n",
       "      <th></th>\n",
       "      <th>accuracy</th>\n",
       "      <th>balanced accuracy</th>\n",
       "      <th>f1</th>\n",
       "      <th>precision</th>\n",
       "      <th>false positive rate</th>\n",
       "      <th>false negative rate</th>\n",
       "      <th>selection rate</th>\n",
       "      <th>count</th>\n",
       "    </tr>\n",
       "    <tr>\n",
       "      <th>majmin</th>\n",
       "      <th></th>\n",
       "      <th></th>\n",
       "      <th></th>\n",
       "      <th></th>\n",
       "      <th></th>\n",
       "      <th></th>\n",
       "      <th></th>\n",
       "      <th></th>\n",
       "    </tr>\n",
       "  </thead>\n",
       "  <tbody>\n",
       "    <tr>\n",
       "      <th>majority</th>\n",
       "      <td>0.243429</td>\n",
       "      <td>0.551457</td>\n",
       "      <td>0.253104</td>\n",
       "      <td>0.145537</td>\n",
       "      <td>0.867216</td>\n",
       "      <td>0.029869</td>\n",
       "      <td>0.880815</td>\n",
       "      <td>69170.0</td>\n",
       "    </tr>\n",
       "    <tr>\n",
       "      <th>minority</th>\n",
       "      <td>0.148929</td>\n",
       "      <td>0.515707</td>\n",
       "      <td>0.211893</td>\n",
       "      <td>0.118609</td>\n",
       "      <td>0.960984</td>\n",
       "      <td>0.007601</td>\n",
       "      <td>0.964606</td>\n",
       "      <td>20540.0</td>\n",
       "    </tr>\n",
       "  </tbody>\n",
       "</table>\n",
       "</div>"
      ],
      "text/plain": [
       "          accuracy  balanced accuracy        f1  precision  \\\n",
       "majmin                                                       \n",
       "majority  0.243429           0.551457  0.253104   0.145537   \n",
       "minority  0.148929           0.515707  0.211893   0.118609   \n",
       "\n",
       "          false positive rate  false negative rate  selection rate    count  \n",
       "majmin                                                                       \n",
       "majority             0.867216             0.029869        0.880815  69170.0  \n",
       "minority             0.960984             0.007601        0.964606  20540.0  "
      ]
     },
     "execution_count": 58,
     "metadata": {},
     "output_type": "execute_result"
    }
   ],
   "source": [
    "metric_frame.by_group"
   ]
  },
  {
   "cell_type": "code",
   "execution_count": 59,
   "id": "a9ddbe63",
   "metadata": {
    "execution": {
     "iopub.execute_input": "2025-08-06T17:49:55.125478Z",
     "iopub.status.busy": "2025-08-06T17:49:55.124878Z",
     "iopub.status.idle": "2025-08-06T17:49:57.276529Z",
     "shell.execute_reply": "2025-08-06T17:49:57.275792Z"
    },
    "papermill": {
     "duration": 2.18218,
     "end_time": "2025-08-06T17:49:57.277748",
     "exception": false,
     "start_time": "2025-08-06T17:49:55.095568",
     "status": "completed"
    },
    "tags": []
   },
   "outputs": [
    {
     "data": {
      "text/plain": [
       "array([[<Axes: title={'center': 'accuracy'}, xlabel='majmin'>,\n",
       "        <Axes: title={'center': 'balanced accuracy'}, xlabel='majmin'>,\n",
       "        <Axes: title={'center': 'f1'}, xlabel='majmin'>],\n",
       "       [<Axes: title={'center': 'precision'}, xlabel='majmin'>,\n",
       "        <Axes: title={'center': 'false positive rate'}, xlabel='majmin'>,\n",
       "        <Axes: title={'center': 'false negative rate'}, xlabel='majmin'>],\n",
       "       [<Axes: title={'center': 'selection rate'}, xlabel='majmin'>,\n",
       "        <Axes: title={'center': 'count'}, xlabel='majmin'>,\n",
       "        <Axes: xlabel='majmin'>]], dtype=object)"
      ]
     },
     "execution_count": 59,
     "metadata": {},
     "output_type": "execute_result"
    },
    {
     "data": {
      "image/png": "[encoded data removed]",
      "text/plain": [
       "<Figure size 1200x800 with 9 Axes>"
      ]
     },
     "metadata": {},
     "output_type": "display_data"
    }
   ],
   "source": [
    "# In a graphic\n",
    "metric_frame.by_group.plot.bar(\n",
    "    subplots=True,\n",
    "    layout=[3, 3],\n",
    "    legend=False,\n",
    "    figsize=[12, 8],\n",
    "    title=\"Show all metrics\",\n",
    ")"
   ]
  },
  {
   "cell_type": "markdown",
   "id": "f57a0bac",
   "metadata": {
    "papermill": {
     "duration": 0.013781,
     "end_time": "2025-08-06T17:49:57.305560",
     "exception": false,
     "start_time": "2025-08-06T17:49:57.291779",
     "status": "completed"
    },
    "tags": []
   },
   "source": [
    "# Final Output"
   ]
  },
  {
   "cell_type": "code",
   "execution_count": 60,
   "id": "96d280a3",
   "metadata": {
    "execution": {
     "iopub.execute_input": "2025-08-06T17:49:57.334383Z",
     "iopub.status.busy": "2025-08-06T17:49:57.333923Z",
     "iopub.status.idle": "2025-08-06T17:49:57.340772Z",
     "shell.execute_reply": "2025-08-06T17:49:57.340051Z"
    },
    "papermill": {
     "duration": 0.02271,
     "end_time": "2025-08-06T17:49:57.341989",
     "exception": false,
     "start_time": "2025-08-06T17:49:57.319279",
     "status": "completed"
    },
    "tags": []
   },
   "outputs": [
    {
     "data": {
      "text/plain": [
       "4"
      ]
     },
     "execution_count": 60,
     "metadata": {},
     "output_type": "execute_result"
    }
   ],
   "source": [
    "sub_universes = universe_analysis.generate_sub_universes()\n",
    "len(sub_universes)"
   ]
  },
  {
   "cell_type": "code",
   "execution_count": 61,
   "id": "92adf7ba",
   "metadata": {
    "execution": {
     "iopub.execute_input": "2025-08-06T17:49:57.371547Z",
     "iopub.status.busy": "2025-08-06T17:49:57.371197Z",
     "iopub.status.idle": "2025-08-06T17:49:57.376393Z",
     "shell.execute_reply": "2025-08-06T17:49:57.375673Z"
    },
    "papermill": {
     "duration": 0.021151,
     "end_time": "2025-08-06T17:49:57.377705",
     "exception": false,
     "start_time": "2025-08-06T17:49:57.356554",
     "status": "completed"
    },
    "tags": []
   },
   "outputs": [],
   "source": [
    "def filter_sub_universe_data(sub_universe, org_test):\n",
    "    # Keep all rows — no filtering\n",
    "    keep_rows_mask = np.ones(org_test.shape[0], dtype=bool)\n",
    "\n",
    "    print(f\"[INFO] Keeping all rows: {keep_rows_mask.sum()} rows retained.\")\n",
    "    return keep_rows_mask"
   ]
  },
  {
   "cell_type": "code",
   "execution_count": 62,
   "id": "4a759155",
   "metadata": {
    "execution": {
     "iopub.execute_input": "2025-08-06T17:49:57.408709Z",
     "iopub.status.busy": "2025-08-06T17:49:57.408188Z",
     "iopub.status.idle": "2025-08-06T17:50:05.471134Z",
     "shell.execute_reply": "2025-08-06T17:50:05.470183Z"
    },
    "papermill": {
     "duration": 8.079486,
     "end_time": "2025-08-06T17:50:05.472687",
     "exception": false,
     "start_time": "2025-08-06T17:49:57.393201",
     "status": "completed"
    },
    "tags": []
   },
   "outputs": [
    {
     "name": "stdout",
     "output_type": "stream",
     "text": [
      "Stopping execution_time clock.\n",
      "[INFO] Keeping all rows: 89710 rows retained.\n"
     ]
    },
    {
     "name": "stdout",
     "output_type": "stream",
     "text": [
      "[INFO] Keeping all rows: 89710 rows retained.\n"
     ]
    },
    {
     "name": "stdout",
     "output_type": "stream",
     "text": [
      "[INFO] Keeping all rows: 89710 rows retained.\n"
     ]
    },
    {
     "name": "stdout",
     "output_type": "stream",
     "text": [
      "[INFO] Keeping all rows: 89710 rows retained.\n"
     ]
    },
    {
     "data": {
      "text/html": [
       "<div>\n",
       "<style scoped>\n",
       "    .dataframe tbody tr th:only-of-type {\n",
       "        vertical-align: middle;\n",
       "    }\n",
       "\n",
       "    .dataframe tbody tr th {\n",
       "        vertical-align: top;\n",
       "    }\n",
       "\n",
       "    .dataframe thead th {\n",
       "        text-align: right;\n",
       "    }\n",
       "</style>\n",
       "<table border=\"1\" class=\"dataframe\">\n",
       "  <thead>\n",
       "    <tr style=\"text-align: right;\">\n",
       "      <th></th>\n",
       "      <th>run_no</th>\n",
       "      <th>universe_id</th>\n",
       "      <th>universe_settings</th>\n",
       "      <th>execution_time</th>\n",
       "      <th>test_size_n</th>\n",
       "      <th>test_size_frac</th>\n",
       "      <th>fair_main_equalized_odds_difference</th>\n",
       "      <th>fair_main_equalized_odds_ratio</th>\n",
       "      <th>fair_main_demographic_parity_difference</th>\n",
       "      <th>fair_main_demographic_parity_ratio</th>\n",
       "      <th>...</th>\n",
       "      <th>perf_grp_precision_0</th>\n",
       "      <th>perf_grp_precision_1</th>\n",
       "      <th>perf_grp_false positive rate_0</th>\n",
       "      <th>perf_grp_false positive rate_1</th>\n",
       "      <th>perf_grp_false negative rate_0</th>\n",
       "      <th>perf_grp_false negative rate_1</th>\n",
       "      <th>perf_grp_selection rate_0</th>\n",
       "      <th>perf_grp_selection rate_1</th>\n",
       "      <th>perf_grp_count_0</th>\n",
       "      <th>perf_grp_count_1</th>\n",
       "    </tr>\n",
       "  </thead>\n",
       "  <tbody>\n",
       "    <tr>\n",
       "      <th>0</th>\n",
       "      <td>1</td>\n",
       "      <td>8def8c3a49d908f7d66cebfa365684a6</td>\n",
       "      <td>{\"cutoff\": \"quantile_0.1\", \"eval_fairness_grou...</td>\n",
       "      <td>29.987109</td>\n",
       "      <td>89710</td>\n",
       "      <td>1.0</td>\n",
       "      <td>0.093768</td>\n",
       "      <td>0.902425</td>\n",
       "      <td>0.083790</td>\n",
       "      <td>0.913135</td>\n",
       "      <td>...</td>\n",
       "      <td>NaN</td>\n",
       "      <td>NaN</td>\n",
       "      <td>NaN</td>\n",
       "      <td>NaN</td>\n",
       "      <td>NaN</td>\n",
       "      <td>NaN</td>\n",
       "      <td>NaN</td>\n",
       "      <td>NaN</td>\n",
       "      <td>NaN</td>\n",
       "      <td>NaN</td>\n",
       "    </tr>\n",
       "    <tr>\n",
       "      <th>0</th>\n",
       "      <td>1</td>\n",
       "      <td>8def8c3a49d908f7d66cebfa365684a6</td>\n",
       "      <td>{\"cutoff\": \"quantile_0.1\", \"eval_fairness_grou...</td>\n",
       "      <td>29.987109</td>\n",
       "      <td>89710</td>\n",
       "      <td>1.0</td>\n",
       "      <td>0.093768</td>\n",
       "      <td>0.902425</td>\n",
       "      <td>0.083790</td>\n",
       "      <td>0.913135</td>\n",
       "      <td>...</td>\n",
       "      <td>0.118609</td>\n",
       "      <td>0.145537</td>\n",
       "      <td>0.960984</td>\n",
       "      <td>0.867216</td>\n",
       "      <td>0.007601</td>\n",
       "      <td>0.029869</td>\n",
       "      <td>0.964606</td>\n",
       "      <td>0.880815</td>\n",
       "      <td>20540.0</td>\n",
       "      <td>69170.0</td>\n",
       "    </tr>\n",
       "    <tr>\n",
       "      <th>0</th>\n",
       "      <td>1</td>\n",
       "      <td>8def8c3a49d908f7d66cebfa365684a6</td>\n",
       "      <td>{\"cutoff\": \"quantile_0.25\", \"eval_fairness_gro...</td>\n",
       "      <td>29.987109</td>\n",
       "      <td>89710</td>\n",
       "      <td>1.0</td>\n",
       "      <td>0.114500</td>\n",
       "      <td>0.859213</td>\n",
       "      <td>0.099204</td>\n",
       "      <td>0.879968</td>\n",
       "      <td>...</td>\n",
       "      <td>NaN</td>\n",
       "      <td>NaN</td>\n",
       "      <td>NaN</td>\n",
       "      <td>NaN</td>\n",
       "      <td>NaN</td>\n",
       "      <td>NaN</td>\n",
       "      <td>NaN</td>\n",
       "      <td>NaN</td>\n",
       "      <td>NaN</td>\n",
       "      <td>NaN</td>\n",
       "    </tr>\n",
       "    <tr>\n",
       "      <th>0</th>\n",
       "      <td>1</td>\n",
       "      <td>8def8c3a49d908f7d66cebfa365684a6</td>\n",
       "      <td>{\"cutoff\": \"quantile_0.25\", \"eval_fairness_gro...</td>\n",
       "      <td>29.987109</td>\n",
       "      <td>89710</td>\n",
       "      <td>1.0</td>\n",
       "      <td>0.114500</td>\n",
       "      <td>0.859213</td>\n",
       "      <td>0.099204</td>\n",
       "      <td>0.879968</td>\n",
       "      <td>...</td>\n",
       "      <td>0.129418</td>\n",
       "      <td>0.166143</td>\n",
       "      <td>0.813284</td>\n",
       "      <td>0.698784</td>\n",
       "      <td>0.072213</td>\n",
       "      <td>0.085558</td>\n",
       "      <td>0.826485</td>\n",
       "      <td>0.727281</td>\n",
       "      <td>20540.0</td>\n",
       "      <td>69170.0</td>\n",
       "    </tr>\n",
       "  </tbody>\n",
       "</table>\n",
       "<p>4 rows × 50 columns</p>\n",
       "</div>"
      ],
      "text/plain": [
       "  run_no                       universe_id  \\\n",
       "0      1  8def8c3a49d908f7d66cebfa365684a6   \n",
       "0      1  8def8c3a49d908f7d66cebfa365684a6   \n",
       "0      1  8def8c3a49d908f7d66cebfa365684a6   \n",
       "0      1  8def8c3a49d908f7d66cebfa365684a6   \n",
       "\n",
       "                                   universe_settings  execution_time  \\\n",
       "0  {\"cutoff\": \"quantile_0.1\", \"eval_fairness_grou...       29.987109   \n",
       "0  {\"cutoff\": \"quantile_0.1\", \"eval_fairness_grou...       29.987109   \n",
       "0  {\"cutoff\": \"quantile_0.25\", \"eval_fairness_gro...       29.987109   \n",
       "0  {\"cutoff\": \"quantile_0.25\", \"eval_fairness_gro...       29.987109   \n",
       "\n",
       "   test_size_n  test_size_frac  fair_main_equalized_odds_difference  \\\n",
       "0        89710             1.0                             0.093768   \n",
       "0        89710             1.0                             0.093768   \n",
       "0        89710             1.0                             0.114500   \n",
       "0        89710             1.0                             0.114500   \n",
       "\n",
       "   fair_main_equalized_odds_ratio  fair_main_demographic_parity_difference  \\\n",
       "0                        0.902425                                 0.083790   \n",
       "0                        0.902425                                 0.083790   \n",
       "0                        0.859213                                 0.099204   \n",
       "0                        0.859213                                 0.099204   \n",
       "\n",
       "   fair_main_demographic_parity_ratio  ...  perf_grp_precision_0  \\\n",
       "0                            0.913135  ...                   NaN   \n",
       "0                            0.913135  ...              0.118609   \n",
       "0                            0.879968  ...                   NaN   \n",
       "0                            0.879968  ...              0.129418   \n",
       "\n",
       "   perf_grp_precision_1  perf_grp_false positive rate_0  \\\n",
       "0                   NaN                             NaN   \n",
       "0              0.145537                        0.960984   \n",
       "0                   NaN                             NaN   \n",
       "0              0.166143                        0.813284   \n",
       "\n",
       "   perf_grp_false positive rate_1  perf_grp_false negative rate_0  \\\n",
       "0                             NaN                             NaN   \n",
       "0                        0.867216                        0.007601   \n",
       "0                             NaN                             NaN   \n",
       "0                        0.698784                        0.072213   \n",
       "\n",
       "   perf_grp_false negative rate_1  perf_grp_selection rate_0  \\\n",
       "0                             NaN                        NaN   \n",
       "0                        0.029869                   0.964606   \n",
       "0                             NaN                        NaN   \n",
       "0                        0.085558                   0.826485   \n",
       "\n",
       "   perf_grp_selection rate_1  perf_grp_count_0  perf_grp_count_1  \n",
       "0                        NaN               NaN               NaN  \n",
       "0                   0.880815           20540.0           69170.0  \n",
       "0                        NaN               NaN               NaN  \n",
       "0                   0.727281           20540.0           69170.0  \n",
       "\n",
       "[4 rows x 50 columns]"
      ]
     },
     "execution_count": 62,
     "metadata": {},
     "output_type": "execute_result"
    }
   ],
   "source": [
    "final_output = universe_analysis.generate_final_output(\n",
    "    y_pred_prob=probs_test,\n",
    "    y_test=y_true,\n",
    "    org_test=org_test,\n",
    "    filter_data=filter_sub_universe_data,\n",
    "    cp_metrics_df=cp_metrics_df,\n",
    "    save=True,\n",
    ")\n",
    "final_output"
   ]
  },
  {
   "cell_type": "code",
   "execution_count": null,
   "id": "571f9a0f-660a-4841-b661-b06fbc637944",
   "metadata": {
    "papermill": {
     "duration": 0.025191,
     "end_time": "2025-08-06T17:50:05.525479",
     "exception": false,
     "start_time": "2025-08-06T17:50:05.500288",
     "status": "completed"
    },
    "tags": []
   },
   "outputs": [],
   "source": []
  },
  {
   "cell_type": "code",
   "execution_count": null,
   "id": "529482e3-0150-4854-a92d-ab864efc606e",
   "metadata": {
    "papermill": {
     "duration": 0.028264,
     "end_time": "2025-08-06T17:50:05.578240",
     "exception": false,
     "start_time": "2025-08-06T17:50:05.549976",
     "status": "completed"
    },
    "tags": []
   },
   "outputs": [],
   "source": []
  }
 ],
 "metadata": {
  "celltoolbar": "Tags",
  "kernelspec": {
   "display_name": "Python (CMA Fairness)",
   "language": "python",
   "name": "cma_fair_env"
  },
  "language_info": {
   "codemirror_mode": {
    "name": "ipython",
    "version": 3
   },
   "file_extension": ".py",
   "mimetype": "text/x-python",
   "name": "python",
   "nbconvert_exporter": "python",
   "pygments_lexer": "ipython3",
   "version": "3.10.12"
  },
  "papermill": {
   "default_parameters": {},
   "duration": 42.256026,
   "end_time": "2025-08-06T17:50:06.426752",
   "environment_variables": {},
   "exception": null,
   "input_path": "universe_analysis.ipynb",
   "output_path": "output/runs/1/notebooks/m_1-8def8c3a49d908f7d66cebfa365684a6.ipynb",
   "parameters": {
    "output_dir": "output",
    "run_no": "1",
    "seed": "2023",
    "universe": "{\"cutoff\": [\"quantile_0.1\", \"quantile_0.25\"], \"eval_fairness_grouping\": [\"majority-minority\", \"nationality-all\"], \"exclude_features\": \"sex\", \"exclude_subgroups\": \"keep-all\", \"model\": \"gbm\", \"scale\": \"scale\", \"training_size\": \"1k\", \"training_year\": \"2014\"}",
    "universe_id": "8def8c3a49d908f7d66cebfa365684a6"
   },
   "start_time": "2025-08-06T17:49:24.170726",
   "version": "2.6.0"
  }
 },
 "nbformat": 4,
 "nbformat_minor": 5
}