{
 "cells": [
  {
   "cell_type": "markdown",
   "id": "b2057076-3a91-4cfa-9bfd-eab1e61b3068",
   "metadata": {
    "papermill": {
     "duration": 0.019693,
     "end_time": "2025-08-06T16:46:24.703824",
     "exception": false,
     "start_time": "2025-08-06T16:46:24.684131",
     "status": "completed"
    },
    "tags": []
   },
   "source": [
    "# Setup"
   ]
  },
  {
   "cell_type": "code",
   "execution_count": 1,
   "id": "f159f837-637b-42ba-96b5-ec9a68c44524",
   "metadata": {
    "execution": {
     "iopub.execute_input": "2025-08-06T16:46:24.732509Z",
     "iopub.status.busy": "2025-08-06T16:46:24.732133Z",
     "iopub.status.idle": "2025-08-06T16:46:24.742613Z",
     "shell.execute_reply": "2025-08-06T16:46:24.741855Z"
    },
    "papermill": {
     "duration": 0.023191,
     "end_time": "2025-08-06T16:46:24.744020",
     "exception": false,
     "start_time": "2025-08-06T16:46:24.720829",
     "status": "completed"
    },
    "tags": []
   },
   "outputs": [
    {
     "name": "stdout",
     "output_type": "stream",
     "text": [
      "/dss/dsshome1/0C/ra93lal2/cma/CMA_Fairness_v2\n"
     ]
    },
    {
     "name": "stderr",
     "output_type": "stream",
     "text": [
      "/dss/dsshome1/0C/ra93lal2/.local/share/virtualenvs/CMA_Fairness_v2-3j10GkSs/lib/python3.10/site-packages/IPython/core/magics/osm.py:393: UserWarning: This is now an optional IPython functionality, using bookmarks requires you to install the `pickleshare` library.\n",
      "  bkms = self.shell.db.get('bookmarks', {})\n",
      "/dss/dsshome1/0C/ra93lal2/.local/share/virtualenvs/CMA_Fairness_v2-3j10GkSs/lib/python3.10/site-packages/IPython/core/magics/osm.py:417: UserWarning: This is now an optional IPython functionality, setting dhist requires you to install the `pickleshare` library.\n",
      "  self.shell.db['dhist'] = compress_dhist(dhist)[-100:]\n"
     ]
    }
   ],
   "source": [
    "%cd ~/cma/CMA_Fairness_v2"
   ]
  },
  {
   "cell_type": "markdown",
   "id": "de2603b9",
   "metadata": {
    "papermill": {
     "duration": 0.009642,
     "end_time": "2025-08-06T16:46:24.762926",
     "exception": false,
     "start_time": "2025-08-06T16:46:24.753284",
     "status": "completed"
    },
    "tags": []
   },
   "source": [
    "The following cell holds the definition of our parameters, these values can be overriden by rendering the with e.g. the following command:\n",
    "\n",
    "papermill -p alpha 0.2 -p ratio 0.3 universe_analysis.ipynb output/test_run.ipynb"
   ]
  },
  {
   "cell_type": "code",
   "execution_count": 2,
   "id": "a80968a0-40bb-4fa9-85ef-2d5eefb01975",
   "metadata": {
    "execution": {
     "iopub.execute_input": "2025-08-06T16:46:24.784485Z",
     "iopub.status.busy": "2025-08-06T16:46:24.784145Z",
     "iopub.status.idle": "2025-08-06T16:46:24.788847Z",
     "shell.execute_reply": "2025-08-06T16:46:24.787920Z"
    },
    "papermill": {
     "duration": 0.01554,
     "end_time": "2025-08-06T16:46:24.790221",
     "exception": false,
     "start_time": "2025-08-06T16:46:24.774681",
     "status": "completed"
    },
    "tags": []
   },
   "outputs": [
    {
     "name": "stdout",
     "output_type": "stream",
     "text": [
      "Current working directory: /dss/dsshome1/0C/ra93lal2/cma/CMA_Fairness_v2\n"
     ]
    }
   ],
   "source": [
    "import os\n",
    "print(\"Current working directory:\", os.getcwd())"
   ]
  },
  {
   "cell_type": "code",
   "execution_count": 3,
   "id": "2dce4c03",
   "metadata": {
    "execution": {
     "iopub.execute_input": "2025-08-06T16:46:24.809365Z",
     "iopub.status.busy": "2025-08-06T16:46:24.809056Z",
     "iopub.status.idle": "2025-08-06T16:46:24.813889Z",
     "shell.execute_reply": "2025-08-06T16:46:24.813071Z"
    },
    "papermill": {
     "duration": 0.015739,
     "end_time": "2025-08-06T16:46:24.815205",
     "exception": false,
     "start_time": "2025-08-06T16:46:24.799466",
     "status": "completed"
    },
    "tags": [
     "parameters"
    ]
   },
   "outputs": [],
   "source": [
    "run_no = 0\n",
    "universe_id = \"test\"\n",
    "universe = {\n",
    "    \"training_size\": \"5k\", # \"25k\", \"5k\", \"1k\"\n",
    "    \"training_year\": \"2012_14\", # \"2014\", \"2012_14\", \"2010_14\"\n",
    "    \"scale\": \"scale\", # \"scale\", \"do-not-scale\",\n",
    "    \"model\": \"elasticnet\", # \"logreg\", \"penalized_logreg\", \"rf\", \"gbm\", \"elasticnet\"\n",
    "    \"cutoff\": [\"quantile_0.15\", \"quantile_0.30\"],\n",
    "    \"exclude_features\": \"age\", # \"none\", \"nationality\", \"sex\", \"nationality-sex\", \"age\"\n",
    "    \"exclude_subgroups\": \"drop-non-german\", # \"keep-all\", \"drop-non-german\"\n",
    "    \"eval_fairness_grouping\": [\"majority-minority\", \"nationality-all\"]\n",
    "}\n",
    "\n",
    "output_dir=\"./output\"\n",
    "seed=0"
   ]
  },
  {
   "cell_type": "code",
   "execution_count": 4,
   "id": "e80dc07a",
   "metadata": {
    "execution": {
     "iopub.execute_input": "2025-08-06T16:46:24.834661Z",
     "iopub.status.busy": "2025-08-06T16:46:24.834280Z",
     "iopub.status.idle": "2025-08-06T16:46:24.839447Z",
     "shell.execute_reply": "2025-08-06T16:46:24.838581Z"
    },
    "papermill": {
     "duration": 0.016147,
     "end_time": "2025-08-06T16:46:24.840739",
     "exception": false,
     "start_time": "2025-08-06T16:46:24.824592",
     "status": "completed"
    },
    "tags": [
     "injected-parameters"
    ]
   },
   "outputs": [],
   "source": [
    "# Parameters\n",
    "universe_id = \"a9efa8853fc82364bf88212eafaae09b\"\n",
    "run_no = \"1\"\n",
    "universe = \"{\\\"cutoff\\\": [\\\"quantile_0.1\\\", \\\"quantile_0.25\\\"], \\\"eval_fairness_grouping\\\": [\\\"majority-minority\\\", \\\"nationality-all\\\"], \\\"exclude_features\\\": \\\"sex\\\", \\\"exclude_subgroups\\\": \\\"keep-all\\\", \\\"model\\\": \\\"rf\\\", \\\"scale\\\": \\\"do-not-scale\\\", \\\"training_size\\\": \\\"25k\\\", \\\"training_year\\\": \\\"2014\\\"}\"\n",
    "output_dir = \"output\"\n",
    "seed = \"2023\"\n"
   ]
  },
  {
   "cell_type": "code",
   "execution_count": 5,
   "id": "1650acaf",
   "metadata": {
    "execution": {
     "iopub.execute_input": "2025-08-06T16:46:24.877395Z",
     "iopub.status.busy": "2025-08-06T16:46:24.876700Z",
     "iopub.status.idle": "2025-08-06T16:46:24.881902Z",
     "shell.execute_reply": "2025-08-06T16:46:24.880888Z"
    },
    "papermill": {
     "duration": 0.026452,
     "end_time": "2025-08-06T16:46:24.883606",
     "exception": false,
     "start_time": "2025-08-06T16:46:24.857154",
     "status": "completed"
    },
    "tags": []
   },
   "outputs": [],
   "source": [
    "import json\n",
    "if isinstance(universe, str):\n",
    "    universe = json.loads(universe)"
   ]
  },
  {
   "cell_type": "code",
   "execution_count": 6,
   "id": "16620c48",
   "metadata": {
    "execution": {
     "iopub.execute_input": "2025-08-06T16:46:24.918148Z",
     "iopub.status.busy": "2025-08-06T16:46:24.917672Z",
     "iopub.status.idle": "2025-08-06T16:46:24.967592Z",
     "shell.execute_reply": "2025-08-06T16:46:24.966368Z"
    },
    "papermill": {
     "duration": 0.069037,
     "end_time": "2025-08-06T16:46:24.969565",
     "exception": false,
     "start_time": "2025-08-06T16:46:24.900528",
     "status": "completed"
    },
    "tags": []
   },
   "outputs": [],
   "source": [
    "# Auto-reload the custom package\n",
    "%load_ext autoreload\n",
    "%autoreload 1\n",
    "%aimport fairness_multiverse"
   ]
  },
  {
   "cell_type": "code",
   "execution_count": 7,
   "id": "01c5c9f3",
   "metadata": {
    "execution": {
     "iopub.execute_input": "2025-08-06T16:46:25.002303Z",
     "iopub.status.busy": "2025-08-06T16:46:25.001879Z",
     "iopub.status.idle": "2025-08-06T16:46:26.838691Z",
     "shell.execute_reply": "2025-08-06T16:46:26.837487Z"
    },
    "papermill": {
     "duration": 1.853552,
     "end_time": "2025-08-06T16:46:26.840855",
     "exception": false,
     "start_time": "2025-08-06T16:46:24.987303",
     "status": "completed"
    },
    "tags": []
   },
   "outputs": [],
   "source": [
    "from fairness_multiverse.universe import UniverseAnalysis\n",
    "\n",
    "universe_analysis = UniverseAnalysis(\n",
    "    run_no = run_no,\n",
    "    universe_id = universe_id,\n",
    "    universe = universe,\n",
    "    output_dir=output_dir,\n",
    ")"
   ]
  },
  {
   "cell_type": "code",
   "execution_count": 8,
   "id": "106241f5",
   "metadata": {
    "execution": {
     "iopub.execute_input": "2025-08-06T16:46:26.878029Z",
     "iopub.status.busy": "2025-08-06T16:46:26.877057Z",
     "iopub.status.idle": "2025-08-06T16:46:26.883958Z",
     "shell.execute_reply": "2025-08-06T16:46:26.882964Z"
    },
    "papermill": {
     "duration": 0.026817,
     "end_time": "2025-08-06T16:46:26.885589",
     "exception": false,
     "start_time": "2025-08-06T16:46:26.858772",
     "status": "completed"
    },
    "tags": []
   },
   "outputs": [
    {
     "name": "stdout",
     "output_type": "stream",
     "text": [
      "Using Seed: 2023\n"
     ]
    }
   ],
   "source": [
    "import numpy as np\n",
    "parsed_seed = int(seed)\n",
    "np.random.seed(parsed_seed)\n",
    "print(f\"Using Seed: {parsed_seed}\")"
   ]
  },
  {
   "cell_type": "markdown",
   "id": "e0ebdc57",
   "metadata": {
    "papermill": {
     "duration": 0.015795,
     "end_time": "2025-08-06T16:46:26.917975",
     "exception": false,
     "start_time": "2025-08-06T16:46:26.902180",
     "status": "completed"
    },
    "tags": []
   },
   "source": [
    "# Loading Data"
   ]
  },
  {
   "cell_type": "code",
   "execution_count": 9,
   "id": "f0496b8a",
   "metadata": {
    "execution": {
     "iopub.execute_input": "2025-08-06T16:46:26.952273Z",
     "iopub.status.busy": "2025-08-06T16:46:26.951648Z",
     "iopub.status.idle": "2025-08-06T16:46:39.929153Z",
     "shell.execute_reply": "2025-08-06T16:46:39.927726Z"
    },
    "papermill": {
     "duration": 12.997237,
     "end_time": "2025-08-06T16:46:39.931744",
     "exception": false,
     "start_time": "2025-08-06T16:46:26.934507",
     "status": "completed"
    },
    "tags": []
   },
   "outputs": [
    {
     "name": "stdout",
     "output_type": "stream",
     "text": [
      "Loading SIAB data from cache: data/siab_cached.csv.gz\n"
     ]
    },
    {
     "name": "stdout",
     "output_type": "stream",
     "text": [
      "(643690, 164)\n"
     ]
    }
   ],
   "source": [
    "from pathlib import Path\n",
    "import pandas as pd\n",
    "\n",
    "# File paths\n",
    "raw_file = Path(\"data/raw/siab.csv\")\n",
    "cache_file = Path(\"data/siab_cached.csv.gz\")\n",
    "\n",
    "# Ensure cache directory exists\n",
    "cache_file.parent.mkdir(parents=True, exist_ok=True)\n",
    "\n",
    "# Load with simple caching\n",
    "if cache_file.exists():\n",
    "    print(f\"Loading SIAB data from cache: {cache_file}\")\n",
    "    siab = pd.read_csv(cache_file, compression='gzip')\n",
    "else:\n",
    "    print(f\"Cache not found. Reading raw SIAB data: {raw_file}\")\n",
    "    siab = pd.read_csv(raw_file)\n",
    "    siab.to_csv(cache_file, index=False, compression='gzip')\n",
    "    print(f\"Cached SIAB data to: {cache_file}\")\n",
    "\n",
    "print(siab.shape)"
   ]
  },
  {
   "cell_type": "code",
   "execution_count": 10,
   "id": "db0ca512-5f53-4dba-abdb-a2888bca41ba",
   "metadata": {
    "execution": {
     "iopub.execute_input": "2025-08-06T16:46:39.989252Z",
     "iopub.status.busy": "2025-08-06T16:46:39.988637Z",
     "iopub.status.idle": "2025-08-06T16:46:40.150675Z",
     "shell.execute_reply": "2025-08-06T16:46:40.149614Z"
    },
    "papermill": {
     "duration": 0.192766,
     "end_time": "2025-08-06T16:46:40.152438",
     "exception": false,
     "start_time": "2025-08-06T16:46:39.959672",
     "status": "completed"
    },
    "tags": []
   },
   "outputs": [
    {
     "data": {
      "text/html": [
       "<div>\n",
       "<style scoped>\n",
       "    .dataframe tbody tr th:only-of-type {\n",
       "        vertical-align: middle;\n",
       "    }\n",
       "\n",
       "    .dataframe tbody tr th {\n",
       "        vertical-align: top;\n",
       "    }\n",
       "\n",
       "    .dataframe thead th {\n",
       "        text-align: right;\n",
       "    }\n",
       "</style>\n",
       "<table border=\"1\" class=\"dataframe\">\n",
       "  <thead>\n",
       "    <tr style=\"text-align: right;\">\n",
       "      <th></th>\n",
       "      <th>persnr</th>\n",
       "      <th>year</th>\n",
       "      <th>nrEntry</th>\n",
       "      <th>ltue</th>\n",
       "      <th>employed_before</th>\n",
       "      <th>receipt_leh_before</th>\n",
       "      <th>receipt_lhg_before</th>\n",
       "      <th>se_before</th>\n",
       "      <th>ASU_notue_seeking_before</th>\n",
       "      <th>ASU_other_before</th>\n",
       "      <th>...</th>\n",
       "      <th>minijob_tot_dur_byage</th>\n",
       "      <th>ft_tot_dur_byage</th>\n",
       "      <th>befrist_tot_dur_byage</th>\n",
       "      <th>leih_tot_dur_byage</th>\n",
       "      <th>LHG_tot_dur_byage</th>\n",
       "      <th>LEH_tot_dur_byage</th>\n",
       "      <th>almp_tot_dur_byage</th>\n",
       "      <th>almp_aw_tot_dur_byage</th>\n",
       "      <th>se_tot_dur_byage</th>\n",
       "      <th>seeking1_tot_dur_byage</th>\n",
       "    </tr>\n",
       "  </thead>\n",
       "  <tbody>\n",
       "    <tr>\n",
       "      <th>0</th>\n",
       "      <td>7</td>\n",
       "      <td>2015</td>\n",
       "      <td>1</td>\n",
       "      <td>0</td>\n",
       "      <td>1</td>\n",
       "      <td>0</td>\n",
       "      <td>0</td>\n",
       "      <td>0</td>\n",
       "      <td>1</td>\n",
       "      <td>0</td>\n",
       "      <td>...</td>\n",
       "      <td>0.000000</td>\n",
       "      <td>0.000000</td>\n",
       "      <td>15.043478</td>\n",
       "      <td>0.000000</td>\n",
       "      <td>0.000000</td>\n",
       "      <td>0.000000</td>\n",
       "      <td>0.000000</td>\n",
       "      <td>0.000000</td>\n",
       "      <td>0.000000</td>\n",
       "      <td>0.000000</td>\n",
       "    </tr>\n",
       "    <tr>\n",
       "      <th>1</th>\n",
       "      <td>18</td>\n",
       "      <td>2010</td>\n",
       "      <td>1</td>\n",
       "      <td>1</td>\n",
       "      <td>0</td>\n",
       "      <td>0</td>\n",
       "      <td>0</td>\n",
       "      <td>0</td>\n",
       "      <td>0</td>\n",
       "      <td>0</td>\n",
       "      <td>...</td>\n",
       "      <td>0.000000</td>\n",
       "      <td>0.000000</td>\n",
       "      <td>0.000000</td>\n",
       "      <td>0.000000</td>\n",
       "      <td>0.000000</td>\n",
       "      <td>0.000000</td>\n",
       "      <td>0.000000</td>\n",
       "      <td>0.000000</td>\n",
       "      <td>0.000000</td>\n",
       "      <td>0.000000</td>\n",
       "    </tr>\n",
       "    <tr>\n",
       "      <th>2</th>\n",
       "      <td>18</td>\n",
       "      <td>2011</td>\n",
       "      <td>2</td>\n",
       "      <td>0</td>\n",
       "      <td>1</td>\n",
       "      <td>0</td>\n",
       "      <td>1</td>\n",
       "      <td>0</td>\n",
       "      <td>1</td>\n",
       "      <td>0</td>\n",
       "      <td>...</td>\n",
       "      <td>2.714286</td>\n",
       "      <td>2.714286</td>\n",
       "      <td>0.000000</td>\n",
       "      <td>0.000000</td>\n",
       "      <td>10.775510</td>\n",
       "      <td>0.000000</td>\n",
       "      <td>8.367347</td>\n",
       "      <td>0.000000</td>\n",
       "      <td>0.000000</td>\n",
       "      <td>9.836735</td>\n",
       "    </tr>\n",
       "    <tr>\n",
       "      <th>3</th>\n",
       "      <td>18</td>\n",
       "      <td>2012</td>\n",
       "      <td>3</td>\n",
       "      <td>0</td>\n",
       "      <td>1</td>\n",
       "      <td>0</td>\n",
       "      <td>1</td>\n",
       "      <td>0</td>\n",
       "      <td>1</td>\n",
       "      <td>0</td>\n",
       "      <td>...</td>\n",
       "      <td>4.200000</td>\n",
       "      <td>4.200000</td>\n",
       "      <td>0.000000</td>\n",
       "      <td>0.000000</td>\n",
       "      <td>12.100000</td>\n",
       "      <td>0.000000</td>\n",
       "      <td>9.400000</td>\n",
       "      <td>0.000000</td>\n",
       "      <td>0.000000</td>\n",
       "      <td>9.960000</td>\n",
       "    </tr>\n",
       "    <tr>\n",
       "      <th>4</th>\n",
       "      <td>18</td>\n",
       "      <td>2012</td>\n",
       "      <td>4</td>\n",
       "      <td>0</td>\n",
       "      <td>1</td>\n",
       "      <td>0</td>\n",
       "      <td>1</td>\n",
       "      <td>0</td>\n",
       "      <td>1</td>\n",
       "      <td>0</td>\n",
       "      <td>...</td>\n",
       "      <td>5.460000</td>\n",
       "      <td>5.460000</td>\n",
       "      <td>0.000000</td>\n",
       "      <td>0.000000</td>\n",
       "      <td>13.360000</td>\n",
       "      <td>0.000000</td>\n",
       "      <td>10.320000</td>\n",
       "      <td>0.000000</td>\n",
       "      <td>0.000000</td>\n",
       "      <td>10.280000</td>\n",
       "    </tr>\n",
       "    <tr>\n",
       "      <th>...</th>\n",
       "      <td>...</td>\n",
       "      <td>...</td>\n",
       "      <td>...</td>\n",
       "      <td>...</td>\n",
       "      <td>...</td>\n",
       "      <td>...</td>\n",
       "      <td>...</td>\n",
       "      <td>...</td>\n",
       "      <td>...</td>\n",
       "      <td>...</td>\n",
       "      <td>...</td>\n",
       "      <td>...</td>\n",
       "      <td>...</td>\n",
       "      <td>...</td>\n",
       "      <td>...</td>\n",
       "      <td>...</td>\n",
       "      <td>...</td>\n",
       "      <td>...</td>\n",
       "      <td>...</td>\n",
       "      <td>...</td>\n",
       "      <td>...</td>\n",
       "    </tr>\n",
       "    <tr>\n",
       "      <th>643685</th>\n",
       "      <td>1827860</td>\n",
       "      <td>2013</td>\n",
       "      <td>1</td>\n",
       "      <td>0</td>\n",
       "      <td>0</td>\n",
       "      <td>0</td>\n",
       "      <td>1</td>\n",
       "      <td>0</td>\n",
       "      <td>0</td>\n",
       "      <td>1</td>\n",
       "      <td>...</td>\n",
       "      <td>0.000000</td>\n",
       "      <td>0.000000</td>\n",
       "      <td>0.000000</td>\n",
       "      <td>0.000000</td>\n",
       "      <td>0.612903</td>\n",
       "      <td>0.000000</td>\n",
       "      <td>0.000000</td>\n",
       "      <td>0.000000</td>\n",
       "      <td>0.000000</td>\n",
       "      <td>0.000000</td>\n",
       "    </tr>\n",
       "    <tr>\n",
       "      <th>643686</th>\n",
       "      <td>1827860</td>\n",
       "      <td>2015</td>\n",
       "      <td>2</td>\n",
       "      <td>1</td>\n",
       "      <td>0</td>\n",
       "      <td>0</td>\n",
       "      <td>1</td>\n",
       "      <td>0</td>\n",
       "      <td>1</td>\n",
       "      <td>0</td>\n",
       "      <td>...</td>\n",
       "      <td>0.000000</td>\n",
       "      <td>0.000000</td>\n",
       "      <td>0.212121</td>\n",
       "      <td>0.212121</td>\n",
       "      <td>17.363636</td>\n",
       "      <td>0.000000</td>\n",
       "      <td>8.909091</td>\n",
       "      <td>0.000000</td>\n",
       "      <td>0.000000</td>\n",
       "      <td>7.121212</td>\n",
       "    </tr>\n",
       "    <tr>\n",
       "      <th>643687</th>\n",
       "      <td>1827860</td>\n",
       "      <td>2016</td>\n",
       "      <td>3</td>\n",
       "      <td>1</td>\n",
       "      <td>0</td>\n",
       "      <td>0</td>\n",
       "      <td>1</td>\n",
       "      <td>1</td>\n",
       "      <td>0</td>\n",
       "      <td>1</td>\n",
       "      <td>...</td>\n",
       "      <td>0.000000</td>\n",
       "      <td>0.000000</td>\n",
       "      <td>0.294118</td>\n",
       "      <td>0.205882</td>\n",
       "      <td>34.705882</td>\n",
       "      <td>0.000000</td>\n",
       "      <td>10.352941</td>\n",
       "      <td>1.705882</td>\n",
       "      <td>1.705882</td>\n",
       "      <td>23.911765</td>\n",
       "    </tr>\n",
       "    <tr>\n",
       "      <th>643688</th>\n",
       "      <td>1827869</td>\n",
       "      <td>2013</td>\n",
       "      <td>1</td>\n",
       "      <td>1</td>\n",
       "      <td>1</td>\n",
       "      <td>0</td>\n",
       "      <td>0</td>\n",
       "      <td>0</td>\n",
       "      <td>1</td>\n",
       "      <td>0</td>\n",
       "      <td>...</td>\n",
       "      <td>0.000000</td>\n",
       "      <td>0.000000</td>\n",
       "      <td>0.000000</td>\n",
       "      <td>0.000000</td>\n",
       "      <td>0.000000</td>\n",
       "      <td>0.525424</td>\n",
       "      <td>0.000000</td>\n",
       "      <td>0.000000</td>\n",
       "      <td>0.000000</td>\n",
       "      <td>0.000000</td>\n",
       "    </tr>\n",
       "    <tr>\n",
       "      <th>643689</th>\n",
       "      <td>1827869</td>\n",
       "      <td>2014</td>\n",
       "      <td>2</td>\n",
       "      <td>0</td>\n",
       "      <td>0</td>\n",
       "      <td>1</td>\n",
       "      <td>0</td>\n",
       "      <td>0</td>\n",
       "      <td>1</td>\n",
       "      <td>0</td>\n",
       "      <td>...</td>\n",
       "      <td>0.000000</td>\n",
       "      <td>0.666667</td>\n",
       "      <td>0.666667</td>\n",
       "      <td>0.000000</td>\n",
       "      <td>0.000000</td>\n",
       "      <td>8.950000</td>\n",
       "      <td>1.033333</td>\n",
       "      <td>0.083333</td>\n",
       "      <td>0.083333</td>\n",
       "      <td>8.133333</td>\n",
       "    </tr>\n",
       "  </tbody>\n",
       "</table>\n",
       "<p>643690 rows × 164 columns</p>\n",
       "</div>"
      ],
      "text/plain": [
       "         persnr  year  nrEntry  ltue  employed_before  receipt_leh_before  \\\n",
       "0             7  2015        1     0                1                   0   \n",
       "1            18  2010        1     1                0                   0   \n",
       "2            18  2011        2     0                1                   0   \n",
       "3            18  2012        3     0                1                   0   \n",
       "4            18  2012        4     0                1                   0   \n",
       "...         ...   ...      ...   ...              ...                 ...   \n",
       "643685  1827860  2013        1     0                0                   0   \n",
       "643686  1827860  2015        2     1                0                   0   \n",
       "643687  1827860  2016        3     1                0                   0   \n",
       "643688  1827869  2013        1     1                1                   0   \n",
       "643689  1827869  2014        2     0                0                   1   \n",
       "\n",
       "        receipt_lhg_before  se_before  ASU_notue_seeking_before  \\\n",
       "0                        0          0                         1   \n",
       "1                        0          0                         0   \n",
       "2                        1          0                         1   \n",
       "3                        1          0                         1   \n",
       "4                        1          0                         1   \n",
       "...                    ...        ...                       ...   \n",
       "643685                   1          0                         0   \n",
       "643686                   1          0                         1   \n",
       "643687                   1          1                         0   \n",
       "643688                   0          0                         1   \n",
       "643689                   0          0                         1   \n",
       "\n",
       "        ASU_other_before  ...  minijob_tot_dur_byage  ft_tot_dur_byage  \\\n",
       "0                      0  ...               0.000000          0.000000   \n",
       "1                      0  ...               0.000000          0.000000   \n",
       "2                      0  ...               2.714286          2.714286   \n",
       "3                      0  ...               4.200000          4.200000   \n",
       "4                      0  ...               5.460000          5.460000   \n",
       "...                  ...  ...                    ...               ...   \n",
       "643685                 1  ...               0.000000          0.000000   \n",
       "643686                 0  ...               0.000000          0.000000   \n",
       "643687                 1  ...               0.000000          0.000000   \n",
       "643688                 0  ...               0.000000          0.000000   \n",
       "643689                 0  ...               0.000000          0.666667   \n",
       "\n",
       "        befrist_tot_dur_byage  leih_tot_dur_byage  LHG_tot_dur_byage  \\\n",
       "0                   15.043478            0.000000           0.000000   \n",
       "1                    0.000000            0.000000           0.000000   \n",
       "2                    0.000000            0.000000          10.775510   \n",
       "3                    0.000000            0.000000          12.100000   \n",
       "4                    0.000000            0.000000          13.360000   \n",
       "...                       ...                 ...                ...   \n",
       "643685               0.000000            0.000000           0.612903   \n",
       "643686               0.212121            0.212121          17.363636   \n",
       "643687               0.294118            0.205882          34.705882   \n",
       "643688               0.000000            0.000000           0.000000   \n",
       "643689               0.666667            0.000000           0.000000   \n",
       "\n",
       "        LEH_tot_dur_byage  almp_tot_dur_byage  almp_aw_tot_dur_byage  \\\n",
       "0                0.000000            0.000000               0.000000   \n",
       "1                0.000000            0.000000               0.000000   \n",
       "2                0.000000            8.367347               0.000000   \n",
       "3                0.000000            9.400000               0.000000   \n",
       "4                0.000000           10.320000               0.000000   \n",
       "...                   ...                 ...                    ...   \n",
       "643685           0.000000            0.000000               0.000000   \n",
       "643686           0.000000            8.909091               0.000000   \n",
       "643687           0.000000           10.352941               1.705882   \n",
       "643688           0.525424            0.000000               0.000000   \n",
       "643689           8.950000            1.033333               0.083333   \n",
       "\n",
       "        se_tot_dur_byage  seeking1_tot_dur_byage  \n",
       "0               0.000000                0.000000  \n",
       "1               0.000000                0.000000  \n",
       "2               0.000000                9.836735  \n",
       "3               0.000000                9.960000  \n",
       "4               0.000000               10.280000  \n",
       "...                  ...                     ...  \n",
       "643685          0.000000                0.000000  \n",
       "643686          0.000000                7.121212  \n",
       "643687          1.705882               23.911765  \n",
       "643688          0.000000                0.000000  \n",
       "643689          0.083333                8.133333  \n",
       "\n",
       "[643690 rows x 164 columns]"
      ]
     },
     "execution_count": 10,
     "metadata": {},
     "output_type": "execute_result"
    }
   ],
   "source": [
    "siab"
   ]
  },
  {
   "cell_type": "markdown",
   "id": "997051c5-15bd-4b69-9786-c3001a3ce484",
   "metadata": {
    "papermill": {
     "duration": 0.018587,
     "end_time": "2025-08-06T16:46:40.189932",
     "exception": false,
     "start_time": "2025-08-06T16:46:40.171345",
     "status": "completed"
    },
    "tags": []
   },
   "source": [
    "# Splitting Data and Setting Training Data Size"
   ]
  },
  {
   "cell_type": "code",
   "execution_count": 11,
   "id": "aea9c6ef-6f46-42c8-85eb-5a62025c1508",
   "metadata": {
    "execution": {
     "iopub.execute_input": "2025-08-06T16:46:40.230521Z",
     "iopub.status.busy": "2025-08-06T16:46:40.229583Z",
     "iopub.status.idle": "2025-08-06T16:46:40.538299Z",
     "shell.execute_reply": "2025-08-06T16:46:40.537212Z"
    },
    "papermill": {
     "duration": 0.331765,
     "end_time": "2025-08-06T16:46:40.540485",
     "exception": false,
     "start_time": "2025-08-06T16:46:40.208720",
     "status": "completed"
    },
    "tags": []
   },
   "outputs": [],
   "source": [
    "from fairness_multiverse.universe import sample_by_year_size\n",
    "\n",
    "siab_train = sample_by_year_size(siab,\n",
    "                               training_year=universe[\"training_year\"],\n",
    "                               training_size=universe[\"training_size\"])"
   ]
  },
  {
   "cell_type": "code",
   "execution_count": 12,
   "id": "8d3afb32-789d-442c-8d5d-9f5aa8dd2eed",
   "metadata": {
    "execution": {
     "iopub.execute_input": "2025-08-06T16:46:40.594945Z",
     "iopub.status.busy": "2025-08-06T16:46:40.594235Z",
     "iopub.status.idle": "2025-08-06T16:46:40.601987Z",
     "shell.execute_reply": "2025-08-06T16:46:40.601056Z"
    },
    "papermill": {
     "duration": 0.030068,
     "end_time": "2025-08-06T16:46:40.604586",
     "exception": false,
     "start_time": "2025-08-06T16:46:40.574518",
     "status": "completed"
    },
    "tags": []
   },
   "outputs": [
    {
     "data": {
      "text/plain": [
       "(25000, 164)"
      ]
     },
     "execution_count": 12,
     "metadata": {},
     "output_type": "execute_result"
    }
   ],
   "source": [
    "siab_train.shape"
   ]
  },
  {
   "cell_type": "code",
   "execution_count": 13,
   "id": "d582db68-1a4c-47fb-84fc-08518dc1975a",
   "metadata": {
    "execution": {
     "iopub.execute_input": "2025-08-06T16:46:40.654112Z",
     "iopub.status.busy": "2025-08-06T16:46:40.653139Z",
     "iopub.status.idle": "2025-08-06T16:46:40.665403Z",
     "shell.execute_reply": "2025-08-06T16:46:40.664320Z"
    },
    "papermill": {
     "duration": 0.039802,
     "end_time": "2025-08-06T16:46:40.666707",
     "exception": false,
     "start_time": "2025-08-06T16:46:40.626905",
     "status": "completed"
    },
    "tags": []
   },
   "outputs": [
    {
     "data": {
      "text/plain": [
       "year\n",
       "2014    25000\n",
       "dtype: int64"
      ]
     },
     "metadata": {},
     "output_type": "display_data"
    }
   ],
   "source": [
    "display(siab_train.groupby(\"year\").size())"
   ]
  },
  {
   "cell_type": "code",
   "execution_count": 14,
   "id": "a561edb4-d032-42cb-8256-22eac1111c64",
   "metadata": {
    "execution": {
     "iopub.execute_input": "2025-08-06T16:46:40.687507Z",
     "iopub.status.busy": "2025-08-06T16:46:40.687140Z",
     "iopub.status.idle": "2025-08-06T16:46:40.881803Z",
     "shell.execute_reply": "2025-08-06T16:46:40.881049Z"
    },
    "papermill": {
     "duration": 0.206425,
     "end_time": "2025-08-06T16:46:40.883281",
     "exception": false,
     "start_time": "2025-08-06T16:46:40.676856",
     "status": "completed"
    },
    "tags": []
   },
   "outputs": [],
   "source": [
    "#siab_train = siab_s[siab_s.year < 2015]\n",
    "siab_calib = siab[siab.year == 2015]\n",
    "siab_test = siab[siab.year == 2016]"
   ]
  },
  {
   "cell_type": "code",
   "execution_count": 15,
   "id": "472de16f-c3db-4916-846b-1f0de9cf1746",
   "metadata": {
    "execution": {
     "iopub.execute_input": "2025-08-06T16:46:40.905076Z",
     "iopub.status.busy": "2025-08-06T16:46:40.904569Z",
     "iopub.status.idle": "2025-08-06T16:46:40.923079Z",
     "shell.execute_reply": "2025-08-06T16:46:40.922217Z"
    },
    "papermill": {
     "duration": 0.030966,
     "end_time": "2025-08-06T16:46:40.924459",
     "exception": false,
     "start_time": "2025-08-06T16:46:40.893493",
     "status": "completed"
    },
    "tags": []
   },
   "outputs": [],
   "source": [
    "X_train = siab_train.iloc[:,4:164]\n",
    "y_train = siab_train.iloc[:, [3]]"
   ]
  },
  {
   "cell_type": "code",
   "execution_count": 16,
   "id": "828c96af-f43a-4ed6-ba47-8ac73a47d56c",
   "metadata": {
    "execution": {
     "iopub.execute_input": "2025-08-06T16:46:40.946759Z",
     "iopub.status.busy": "2025-08-06T16:46:40.946403Z",
     "iopub.status.idle": "2025-08-06T16:46:40.992595Z",
     "shell.execute_reply": "2025-08-06T16:46:40.991573Z"
    },
    "papermill": {
     "duration": 0.058766,
     "end_time": "2025-08-06T16:46:40.993985",
     "exception": false,
     "start_time": "2025-08-06T16:46:40.935219",
     "status": "completed"
    },
    "tags": []
   },
   "outputs": [],
   "source": [
    "X_calib = siab_calib.iloc[:,4:164]\n",
    "y_calib = siab_calib.iloc[:, [3]]"
   ]
  },
  {
   "cell_type": "code",
   "execution_count": 17,
   "id": "c34be9c3-6bd6-476e-acd3-845840e303be",
   "metadata": {
    "execution": {
     "iopub.execute_input": "2025-08-06T16:46:41.016222Z",
     "iopub.status.busy": "2025-08-06T16:46:41.015706Z",
     "iopub.status.idle": "2025-08-06T16:46:41.063706Z",
     "shell.execute_reply": "2025-08-06T16:46:41.062787Z"
    },
    "papermill": {
     "duration": 0.060527,
     "end_time": "2025-08-06T16:46:41.065177",
     "exception": false,
     "start_time": "2025-08-06T16:46:41.004650",
     "status": "completed"
    },
    "tags": []
   },
   "outputs": [],
   "source": [
    "X_test = siab_test.iloc[:,4:164]\n",
    "y_true = siab_test.iloc[:, [3]]"
   ]
  },
  {
   "cell_type": "code",
   "execution_count": 18,
   "id": "e6c733c5",
   "metadata": {
    "execution": {
     "iopub.execute_input": "2025-08-06T16:46:41.099170Z",
     "iopub.status.busy": "2025-08-06T16:46:41.098441Z",
     "iopub.status.idle": "2025-08-06T16:46:41.195560Z",
     "shell.execute_reply": "2025-08-06T16:46:41.194537Z"
    },
    "papermill": {
     "duration": 0.120205,
     "end_time": "2025-08-06T16:46:41.197680",
     "exception": false,
     "start_time": "2025-08-06T16:46:41.077475",
     "status": "completed"
    },
    "tags": []
   },
   "outputs": [],
   "source": [
    "# Auxiliary data needed downstream in the pipeline\n",
    "\n",
    "org_train = X_train.copy()\n",
    "org_test = X_test.copy()\n",
    "org_calib = X_calib.copy()"
   ]
  },
  {
   "cell_type": "markdown",
   "id": "0a4a1b33",
   "metadata": {
    "papermill": {
     "duration": 0.019019,
     "end_time": "2025-08-06T16:46:41.236707",
     "exception": false,
     "start_time": "2025-08-06T16:46:41.217688",
     "status": "completed"
    },
    "tags": []
   },
   "source": [
    "# Preprocessing Data"
   ]
  },
  {
   "cell_type": "code",
   "execution_count": 19,
   "id": "ca879031",
   "metadata": {
    "execution": {
     "iopub.execute_input": "2025-08-06T16:46:41.258092Z",
     "iopub.status.busy": "2025-08-06T16:46:41.257739Z",
     "iopub.status.idle": "2025-08-06T16:46:41.263077Z",
     "shell.execute_reply": "2025-08-06T16:46:41.262353Z"
    },
    "papermill": {
     "duration": 0.017801,
     "end_time": "2025-08-06T16:46:41.264448",
     "exception": false,
     "start_time": "2025-08-06T16:46:41.246647",
     "status": "completed"
    },
    "tags": []
   },
   "outputs": [],
   "source": [
    "# EXCLUDE PROTECTED FEATURES\n",
    "# --------------------------\n",
    "\n",
    "excluded_features = universe[\"exclude_features\"].split(\"-\")\n",
    "excluded_features_dictionary = {\n",
    "    \"nationality\": [\"maxdeutsch1\", \"maxdeutsch.Missing.\"],\n",
    "    \"sex\": [\"frau1\"],\n",
    "    \"age\": [\"age\"],\n",
    "}"
   ]
  },
  {
   "cell_type": "code",
   "execution_count": 20,
   "id": "b745ac60",
   "metadata": {
    "execution": {
     "iopub.execute_input": "2025-08-06T16:46:41.296249Z",
     "iopub.status.busy": "2025-08-06T16:46:41.295727Z",
     "iopub.status.idle": "2025-08-06T16:46:41.302505Z",
     "shell.execute_reply": "2025-08-06T16:46:41.301535Z"
    },
    "papermill": {
     "duration": 0.029239,
     "end_time": "2025-08-06T16:46:41.304282",
     "exception": false,
     "start_time": "2025-08-06T16:46:41.275043",
     "status": "completed"
    },
    "tags": []
   },
   "outputs": [],
   "source": [
    "excluded_features_columns = [\n",
    "    excluded_features_dictionary[f] for f in excluded_features if len(f) > 0 and f != \"none\"\n",
    "]"
   ]
  },
  {
   "cell_type": "code",
   "execution_count": 21,
   "id": "f84f73a2",
   "metadata": {
    "execution": {
     "iopub.execute_input": "2025-08-06T16:46:41.352904Z",
     "iopub.status.busy": "2025-08-06T16:46:41.352469Z",
     "iopub.status.idle": "2025-08-06T16:46:41.357729Z",
     "shell.execute_reply": "2025-08-06T16:46:41.357010Z"
    },
    "papermill": {
     "duration": 0.01947,
     "end_time": "2025-08-06T16:46:41.359054",
     "exception": false,
     "start_time": "2025-08-06T16:46:41.339584",
     "status": "completed"
    },
    "tags": []
   },
   "outputs": [],
   "source": [
    "from fairness_multiverse.universe import flatten_once\n",
    "\n",
    "excluded_features_columns = flatten_once(excluded_features_columns)"
   ]
  },
  {
   "cell_type": "code",
   "execution_count": 22,
   "id": "884dea22",
   "metadata": {
    "execution": {
     "iopub.execute_input": "2025-08-06T16:46:41.380915Z",
     "iopub.status.busy": "2025-08-06T16:46:41.380415Z",
     "iopub.status.idle": "2025-08-06T16:46:41.394289Z",
     "shell.execute_reply": "2025-08-06T16:46:41.393428Z"
    },
    "papermill": {
     "duration": 0.026183,
     "end_time": "2025-08-06T16:46:41.395624",
     "exception": false,
     "start_time": "2025-08-06T16:46:41.369441",
     "status": "completed"
    },
    "tags": []
   },
   "outputs": [
    {
     "name": "stdout",
     "output_type": "stream",
     "text": [
      "Dropping features: ['frau1']\n"
     ]
    }
   ],
   "source": [
    "if len(excluded_features_columns) > 0:\n",
    "    print(f\"Dropping features: {excluded_features_columns}\")\n",
    "    X_train.drop(excluded_features_columns, axis=1, inplace=True)"
   ]
  },
  {
   "cell_type": "code",
   "execution_count": 23,
   "id": "95ab8b16",
   "metadata": {
    "execution": {
     "iopub.execute_input": "2025-08-06T16:46:41.417840Z",
     "iopub.status.busy": "2025-08-06T16:46:41.417337Z",
     "iopub.status.idle": "2025-08-06T16:46:41.470528Z",
     "shell.execute_reply": "2025-08-06T16:46:41.469580Z"
    },
    "papermill": {
     "duration": 0.065755,
     "end_time": "2025-08-06T16:46:41.472089",
     "exception": false,
     "start_time": "2025-08-06T16:46:41.406334",
     "status": "completed"
    },
    "tags": []
   },
   "outputs": [
    {
     "name": "stdout",
     "output_type": "stream",
     "text": [
      "Dropping features: ['frau1']\n"
     ]
    }
   ],
   "source": [
    "if len(excluded_features_columns) > 0:\n",
    "    print(f\"Dropping features: {excluded_features_columns}\")\n",
    "    X_test.drop(excluded_features_columns, axis=1, inplace=True)"
   ]
  },
  {
   "cell_type": "code",
   "execution_count": 24,
   "id": "1853aaf5-fb9f-46cb-a2b5-8ea4ae2237e4",
   "metadata": {
    "execution": {
     "iopub.execute_input": "2025-08-06T16:46:41.512436Z",
     "iopub.status.busy": "2025-08-06T16:46:41.511637Z",
     "iopub.status.idle": "2025-08-06T16:46:41.570389Z",
     "shell.execute_reply": "2025-08-06T16:46:41.569528Z"
    },
    "papermill": {
     "duration": 0.080341,
     "end_time": "2025-08-06T16:46:41.571904",
     "exception": false,
     "start_time": "2025-08-06T16:46:41.491563",
     "status": "completed"
    },
    "tags": []
   },
   "outputs": [
    {
     "name": "stdout",
     "output_type": "stream",
     "text": [
      "Dropping features: ['frau1']\n"
     ]
    }
   ],
   "source": [
    "if len(excluded_features_columns) > 0:\n",
    "    print(f\"Dropping features: {excluded_features_columns}\")\n",
    "    X_calib.drop(excluded_features_columns, axis=1, inplace=True)"
   ]
  },
  {
   "cell_type": "code",
   "execution_count": 25,
   "id": "76c4dc6d",
   "metadata": {
    "execution": {
     "iopub.execute_input": "2025-08-06T16:46:41.594869Z",
     "iopub.status.busy": "2025-08-06T16:46:41.594374Z",
     "iopub.status.idle": "2025-08-06T16:46:41.599079Z",
     "shell.execute_reply": "2025-08-06T16:46:41.598338Z"
    },
    "papermill": {
     "duration": 0.017276,
     "end_time": "2025-08-06T16:46:41.600336",
     "exception": false,
     "start_time": "2025-08-06T16:46:41.583060",
     "status": "completed"
    },
    "tags": []
   },
   "outputs": [],
   "source": [
    "# EXCLUDE CERTAIN SUBGROUPS\n",
    "# -------------------------\n",
    "\n",
    "mode = universe.get(\"exclude_subgroups\", \"keep-all\") # Defaults to \"keep-all\" if the key is missing."
   ]
  },
  {
   "cell_type": "code",
   "execution_count": 26,
   "id": "21994072",
   "metadata": {
    "execution": {
     "iopub.execute_input": "2025-08-06T16:46:41.626014Z",
     "iopub.status.busy": "2025-08-06T16:46:41.625007Z",
     "iopub.status.idle": "2025-08-06T16:46:41.634439Z",
     "shell.execute_reply": "2025-08-06T16:46:41.633104Z"
    },
    "papermill": {
     "duration": 0.025548,
     "end_time": "2025-08-06T16:46:41.636719",
     "exception": false,
     "start_time": "2025-08-06T16:46:41.611171",
     "status": "completed"
    },
    "tags": []
   },
   "outputs": [],
   "source": [
    "if mode == \"keep-all\":\n",
    "    keep_mask = pd.Series(True, index=org_train.index)\n",
    "\n",
    "elif mode == \"drop-non-german\":\n",
    "    keep_mask = (org_train[\"maxdeutsch1\"] == 1) & (org_train[\"maxdeutsch.Missing.\"] == 0)\n",
    "\n",
    "else:\n",
    "    raise ValueError(f\"Unsupported mode for exclude_subgroups: {mode}\")"
   ]
  },
  {
   "cell_type": "code",
   "execution_count": 27,
   "id": "71651440",
   "metadata": {
    "execution": {
     "iopub.execute_input": "2025-08-06T16:46:41.663850Z",
     "iopub.status.busy": "2025-08-06T16:46:41.663496Z",
     "iopub.status.idle": "2025-08-06T16:46:41.669009Z",
     "shell.execute_reply": "2025-08-06T16:46:41.668323Z"
    },
    "papermill": {
     "duration": 0.018062,
     "end_time": "2025-08-06T16:46:41.670235",
     "exception": false,
     "start_time": "2025-08-06T16:46:41.652173",
     "status": "completed"
    },
    "tags": []
   },
   "outputs": [],
   "source": [
    "n_drop = (~keep_mask).sum() # Calculates how many rows are set to be dropped\n",
    "if n_drop > 0:\n",
    "    pct = n_drop / len(keep_mask) * 100\n",
    "    print(f\"Dropping {n_drop} rows ({pct:.2f}%) where mode='{mode}'\")"
   ]
  },
  {
   "cell_type": "code",
   "execution_count": 28,
   "id": "5fb8eee5",
   "metadata": {
    "execution": {
     "iopub.execute_input": "2025-08-06T16:46:41.692919Z",
     "iopub.status.busy": "2025-08-06T16:46:41.692415Z",
     "iopub.status.idle": "2025-08-06T16:46:41.710797Z",
     "shell.execute_reply": "2025-08-06T16:46:41.709446Z"
    },
    "papermill": {
     "duration": 0.031894,
     "end_time": "2025-08-06T16:46:41.713185",
     "exception": false,
     "start_time": "2025-08-06T16:46:41.681291",
     "status": "completed"
    },
    "tags": []
   },
   "outputs": [],
   "source": [
    "X_train = X_train[keep_mask]"
   ]
  },
  {
   "cell_type": "code",
   "execution_count": 29,
   "id": "b202bb3a",
   "metadata": {
    "execution": {
     "iopub.execute_input": "2025-08-06T16:46:41.756547Z",
     "iopub.status.busy": "2025-08-06T16:46:41.755522Z",
     "iopub.status.idle": "2025-08-06T16:46:41.762620Z",
     "shell.execute_reply": "2025-08-06T16:46:41.761620Z"
    },
    "papermill": {
     "duration": 0.022791,
     "end_time": "2025-08-06T16:46:41.764977",
     "exception": false,
     "start_time": "2025-08-06T16:46:41.742186",
     "status": "completed"
    },
    "tags": []
   },
   "outputs": [],
   "source": [
    "y_train = y_train[keep_mask]"
   ]
  },
  {
   "cell_type": "markdown",
   "id": "493e2ac3",
   "metadata": {
    "papermill": {
     "duration": 0.024687,
     "end_time": "2025-08-06T16:46:41.814283",
     "exception": false,
     "start_time": "2025-08-06T16:46:41.789596",
     "status": "completed"
    },
    "tags": []
   },
   "source": [
    "# Model Training"
   ]
  },
  {
   "cell_type": "code",
   "execution_count": 30,
   "id": "679e1268",
   "metadata": {
    "execution": {
     "iopub.execute_input": "2025-08-06T16:46:41.865086Z",
     "iopub.status.busy": "2025-08-06T16:46:41.864565Z",
     "iopub.status.idle": "2025-08-06T16:46:41.963738Z",
     "shell.execute_reply": "2025-08-06T16:46:41.963024Z"
    },
    "papermill": {
     "duration": 0.127068,
     "end_time": "2025-08-06T16:46:41.965872",
     "exception": false,
     "start_time": "2025-08-06T16:46:41.838804",
     "status": "completed"
    },
    "tags": []
   },
   "outputs": [],
   "source": [
    "from sklearn.linear_model import LogisticRegression\n",
    "from sklearn.ensemble import GradientBoostingClassifier, RandomForestClassifier\n",
    "\n",
    "if (universe[\"model\"] == \"logreg\"):\n",
    "    model = LogisticRegression() #penalty=\"none\", solver=\"newton-cg\", max_iter=1)\n",
    "elif (universe[\"model\"] == \"penalized_logreg\"):\n",
    "    model = LogisticRegression(penalty=\"l2\", C=0.1) #, solver=\"newton-cg\", max_iter=1)\n",
    "elif (universe[\"model\"] == \"rf\"):\n",
    "    model = RandomForestClassifier() # n_estimators=100, n_jobs=-1\n",
    "elif (universe[\"model\"] == \"gbm\"):\n",
    "    model = GradientBoostingClassifier()\n",
    "elif (universe[\"model\"] == \"elasticnet\"):\n",
    "    model = LogisticRegression(penalty = 'elasticnet', solver = 'saga', l1_ratio = 0.5) # max_iter=5000\n",
    "else:\n",
    "    raise \"Unsupported universe.model\""
   ]
  },
  {
   "cell_type": "code",
   "execution_count": 31,
   "id": "0cc8f744",
   "metadata": {
    "execution": {
     "iopub.execute_input": "2025-08-06T16:46:42.017158Z",
     "iopub.status.busy": "2025-08-06T16:46:42.016626Z",
     "iopub.status.idle": "2025-08-06T16:46:42.023246Z",
     "shell.execute_reply": "2025-08-06T16:46:42.022278Z"
    },
    "papermill": {
     "duration": 0.034583,
     "end_time": "2025-08-06T16:46:42.025176",
     "exception": false,
     "start_time": "2025-08-06T16:46:41.990593",
     "status": "completed"
    },
    "tags": []
   },
   "outputs": [],
   "source": [
    "from sklearn.pipeline import Pipeline\n",
    "from sklearn.preprocessing import StandardScaler\n",
    "\n",
    "model = Pipeline([\n",
    "    #(\"continuous_processor\", continuous_processor),\n",
    "    #(\"categorical_preprocessor\", categorical_preprocessor),\n",
    "    (\"scale\", StandardScaler() if universe[\"scale\"] == \"scale\" else None), \n",
    "    (\"model\", model),\n",
    "])"
   ]
  },
  {
   "cell_type": "code",
   "execution_count": 32,
   "id": "9442c04d",
   "metadata": {
    "execution": {
     "iopub.execute_input": "2025-08-06T16:46:42.077110Z",
     "iopub.status.busy": "2025-08-06T16:46:42.076317Z",
     "iopub.status.idle": "2025-08-06T16:46:52.497441Z",
     "shell.execute_reply": "2025-08-06T16:46:52.496374Z"
    },
    "papermill": {
     "duration": 10.448397,
     "end_time": "2025-08-06T16:46:52.499045",
     "exception": false,
     "start_time": "2025-08-06T16:46:42.050648",
     "status": "completed"
    },
    "tags": []
   },
   "outputs": [
    {
     "data": {
      "text/html": [
       "<style>#sk-container-id-1 {color: black;background-color: white;}#sk-container-id-1 pre{padding: 0;}#sk-container-id-1 div.sk-toggleable {background-color: white;}#sk-container-id-1 label.sk-toggleable__label {cursor: pointer;display: block;width: 100%;margin-bottom: 0;padding: 0.3em;box-sizing: border-box;text-align: center;}#sk-container-id-1 label.sk-toggleable__label-arrow:before {content: \"▸\";float: left;margin-right: 0.25em;color: #696969;}#sk-container-id-1 label.sk-toggleable__label-arrow:hover:before {color: black;}#sk-container-id-1 div.sk-estimator:hover label.sk-toggleable__label-arrow:before {color: black;}#sk-container-id-1 div.sk-toggleable__content {max-height: 0;max-width: 0;overflow: hidden;text-align: left;background-color: #f0f8ff;}#sk-container-id-1 div.sk-toggleable__content pre {margin: 0.2em;color: black;border-radius: 0.25em;background-color: #f0f8ff;}#sk-container-id-1 input.sk-toggleable__control:checked~div.sk-toggleable__content {max-height: 200px;max-width: 100%;overflow: auto;}#sk-container-id-1 input.sk-toggleable__control:checked~label.sk-toggleable__label-arrow:before {content: \"▾\";}#sk-container-id-1 div.sk-estimator input.sk-toggleable__control:checked~label.sk-toggleable__label {background-color: #d4ebff;}#sk-container-id-1 div.sk-label input.sk-toggleable__control:checked~label.sk-toggleable__label {background-color: #d4ebff;}#sk-container-id-1 input.sk-hidden--visually {border: 0;clip: rect(1px 1px 1px 1px);clip: rect(1px, 1px, 1px, 1px);height: 1px;margin: -1px;overflow: hidden;padding: 0;position: absolute;width: 1px;}#sk-container-id-1 div.sk-estimator {font-family: monospace;background-color: #f0f8ff;border: 1px dotted black;border-radius: 0.25em;box-sizing: border-box;margin-bottom: 0.5em;}#sk-container-id-1 div.sk-estimator:hover {background-color: #d4ebff;}#sk-container-id-1 div.sk-parallel-item::after {content: \"\";width: 100%;border-bottom: 1px solid gray;flex-grow: 1;}#sk-container-id-1 div.sk-label:hover label.sk-toggleable__label {background-color: #d4ebff;}#sk-container-id-1 div.sk-serial::before {content: \"\";position: absolute;border-left: 1px solid gray;box-sizing: border-box;top: 0;bottom: 0;left: 50%;z-index: 0;}#sk-container-id-1 div.sk-serial {display: flex;flex-direction: column;align-items: center;background-color: white;padding-right: 0.2em;padding-left: 0.2em;position: relative;}#sk-container-id-1 div.sk-item {position: relative;z-index: 1;}#sk-container-id-1 div.sk-parallel {display: flex;align-items: stretch;justify-content: center;background-color: white;position: relative;}#sk-container-id-1 div.sk-item::before, #sk-container-id-1 div.sk-parallel-item::before {content: \"\";position: absolute;border-left: 1px solid gray;box-sizing: border-box;top: 0;bottom: 0;left: 50%;z-index: -1;}#sk-container-id-1 div.sk-parallel-item {display: flex;flex-direction: column;z-index: 1;position: relative;background-color: white;}#sk-container-id-1 div.sk-parallel-item:first-child::after {align-self: flex-end;width: 50%;}#sk-container-id-1 div.sk-parallel-item:last-child::after {align-self: flex-start;width: 50%;}#sk-container-id-1 div.sk-parallel-item:only-child::after {width: 0;}#sk-container-id-1 div.sk-dashed-wrapped {border: 1px dashed gray;margin: 0 0.4em 0.5em 0.4em;box-sizing: border-box;padding-bottom: 0.4em;background-color: white;}#sk-container-id-1 div.sk-label label {font-family: monospace;font-weight: bold;display: inline-block;line-height: 1.2em;}#sk-container-id-1 div.sk-label-container {text-align: center;}#sk-container-id-1 div.sk-container {/* jupyter's `normalize.less` sets `[hidden] { display: none; }` but bootstrap.min.css set `[hidden] { display: none !important; }` so we also need the `!important` here to be able to override the default hidden behavior on the sphinx rendered scikit-learn.org. See: https://github.com/scikit-learn/scikit-learn/issues/21755 */display: inline-block !important;position: relative;}#sk-container-id-1 div.sk-text-repr-fallback {display: none;}</style><div id=\"sk-container-id-1\" class=\"sk-top-container\"><div class=\"sk-text-repr-fallback\"><pre>Pipeline(steps=[(&#x27;scale&#x27;, None), (&#x27;model&#x27;, RandomForestClassifier())])</pre><b>In a Jupyter environment, please rerun this cell to show the HTML representation or trust the notebook. <br />On GitHub, the HTML representation is unable to render, please try loading this page with nbviewer.org.</b></div><div class=\"sk-container\" hidden><div class=\"sk-item sk-dashed-wrapped\"><div class=\"sk-label-container\"><div class=\"sk-label sk-toggleable\"><input class=\"sk-toggleable__control sk-hidden--visually\" id=\"sk-estimator-id-1\" type=\"checkbox\" ><label for=\"sk-estimator-id-1\" class=\"sk-toggleable__label sk-toggleable__label-arrow\">Pipeline</label><div class=\"sk-toggleable__content\"><pre>Pipeline(steps=[(&#x27;scale&#x27;, None), (&#x27;model&#x27;, RandomForestClassifier())])</pre></div></div></div><div class=\"sk-serial\"><div class=\"sk-item\"><div class=\"sk-estimator sk-toggleable\"><input class=\"sk-toggleable__control sk-hidden--visually\" id=\"sk-estimator-id-2\" type=\"checkbox\" ><label for=\"sk-estimator-id-2\" class=\"sk-toggleable__label sk-toggleable__label-arrow\">None</label><div class=\"sk-toggleable__content\"><pre>None</pre></div></div></div><div class=\"sk-item\"><div class=\"sk-estimator sk-toggleable\"><input class=\"sk-toggleable__control sk-hidden--visually\" id=\"sk-estimator-id-3\" type=\"checkbox\" ><label for=\"sk-estimator-id-3\" class=\"sk-toggleable__label sk-toggleable__label-arrow\">RandomForestClassifier</label><div class=\"sk-toggleable__content\"><pre>RandomForestClassifier()</pre></div></div></div></div></div></div></div>"
      ],
      "text/plain": [
       "Pipeline(steps=[('scale', None), ('model', RandomForestClassifier())])"
      ]
     },
     "execution_count": 32,
     "metadata": {},
     "output_type": "execute_result"
    }
   ],
   "source": [
    "model.fit(X_train, y_train.values.ravel())"
   ]
  },
  {
   "cell_type": "code",
   "execution_count": 33,
   "id": "a7cf2e16",
   "metadata": {
    "execution": {
     "iopub.execute_input": "2025-08-06T16:46:52.541703Z",
     "iopub.status.busy": "2025-08-06T16:46:52.540993Z",
     "iopub.status.idle": "2025-08-06T16:46:55.997638Z",
     "shell.execute_reply": "2025-08-06T16:46:55.996671Z"
    },
    "papermill": {
     "duration": 3.478843,
     "end_time": "2025-08-06T16:46:55.999424",
     "exception": false,
     "start_time": "2025-08-06T16:46:52.520581",
     "status": "completed"
    },
    "tags": []
   },
   "outputs": [
    {
     "data": {
      "text/plain": [
       "0.8667707056069558"
      ]
     },
     "execution_count": 33,
     "metadata": {},
     "output_type": "execute_result"
    }
   ],
   "source": [
    "from fairness_multiverse.universe import predict_w_threshold\n",
    "\n",
    "probs_test = model.predict_proba(X_test)\n",
    "\n",
    "'''\n",
    "Below code returns a boolean array (or binary 0/1 array depending on how it’s used) where each element \n",
    "is True if the probability of class 1 is greater than or equal to the threshold, and False otherwise.\n",
    "'''\n",
    "y_pred_default = predict_w_threshold(probs_test, 0.5)\n",
    "\n",
    "from sklearn.metrics import accuracy_score\n",
    "\n",
    "# Naive prediction\n",
    "accuracy_score(y_true = y_true, y_pred = y_pred_default)"
   ]
  },
  {
   "cell_type": "code",
   "execution_count": 34,
   "id": "081964c3",
   "metadata": {
    "execution": {
     "iopub.execute_input": "2025-08-06T16:46:56.048088Z",
     "iopub.status.busy": "2025-08-06T16:46:56.047659Z",
     "iopub.status.idle": "2025-08-06T16:46:59.491727Z",
     "shell.execute_reply": "2025-08-06T16:46:59.490623Z"
    },
    "papermill": {
     "duration": 3.468211,
     "end_time": "2025-08-06T16:46:59.493561",
     "exception": false,
     "start_time": "2025-08-06T16:46:56.025350",
     "status": "completed"
    },
    "tags": []
   },
   "outputs": [
    {
     "data": {
      "text/plain": [
       "array([0, 0, 0, ..., 0, 0, 0])"
      ]
     },
     "execution_count": 34,
     "metadata": {},
     "output_type": "execute_result"
    }
   ],
   "source": [
    "model.predict(X_test)"
   ]
  },
  {
   "cell_type": "markdown",
   "id": "56c9705b",
   "metadata": {
    "papermill": {
     "duration": 0.020042,
     "end_time": "2025-08-06T16:46:59.533812",
     "exception": false,
     "start_time": "2025-08-06T16:46:59.513770",
     "status": "completed"
    },
    "tags": []
   },
   "source": [
    "# Conformal Prediction"
   ]
  },
  {
   "cell_type": "code",
   "execution_count": 35,
   "id": "160ec6ff",
   "metadata": {
    "execution": {
     "iopub.execute_input": "2025-08-06T16:46:59.576632Z",
     "iopub.status.busy": "2025-08-06T16:46:59.575859Z",
     "iopub.status.idle": "2025-08-06T16:46:59.581886Z",
     "shell.execute_reply": "2025-08-06T16:46:59.580902Z"
    },
    "papermill": {
     "duration": 0.029405,
     "end_time": "2025-08-06T16:46:59.583440",
     "exception": false,
     "start_time": "2025-08-06T16:46:59.554035",
     "status": "completed"
    },
    "tags": []
   },
   "outputs": [],
   "source": [
    "# Miscoverage level for conformal prediction (10% allowed error rate => 90% target coverage)\n",
    "alpha = 0.1"
   ]
  },
  {
   "cell_type": "code",
   "execution_count": 36,
   "id": "eadf4555-3dd3-440e-8e35-f82a4ad9f855",
   "metadata": {
    "execution": {
     "iopub.execute_input": "2025-08-06T16:46:59.626929Z",
     "iopub.status.busy": "2025-08-06T16:46:59.626239Z",
     "iopub.status.idle": "2025-08-06T16:47:02.857242Z",
     "shell.execute_reply": "2025-08-06T16:47:02.856210Z"
    },
    "papermill": {
     "duration": 3.255109,
     "end_time": "2025-08-06T16:47:02.859207",
     "exception": false,
     "start_time": "2025-08-06T16:46:59.604098",
     "status": "completed"
    },
    "tags": []
   },
   "outputs": [],
   "source": [
    "probs_calib = model.predict_proba(X_calib)"
   ]
  },
  {
   "cell_type": "code",
   "execution_count": 37,
   "id": "2ed93547-6d5d-4983-9b36-1ecb300da49a",
   "metadata": {
    "execution": {
     "iopub.execute_input": "2025-08-06T16:47:02.905521Z",
     "iopub.status.busy": "2025-08-06T16:47:02.905037Z",
     "iopub.status.idle": "2025-08-06T16:47:02.910590Z",
     "shell.execute_reply": "2025-08-06T16:47:02.909550Z"
    },
    "papermill": {
     "duration": 0.030506,
     "end_time": "2025-08-06T16:47:02.912293",
     "exception": false,
     "start_time": "2025-08-06T16:47:02.881787",
     "status": "completed"
    },
    "tags": []
   },
   "outputs": [],
   "source": [
    "y_calib = y_calib.values.ravel().astype(int)"
   ]
  },
  {
   "cell_type": "code",
   "execution_count": 38,
   "id": "65d1320d-f588-4b38-9072-62af1ae97f7d",
   "metadata": {
    "execution": {
     "iopub.execute_input": "2025-08-06T16:47:02.955072Z",
     "iopub.status.busy": "2025-08-06T16:47:02.954365Z",
     "iopub.status.idle": "2025-08-06T16:47:02.962536Z",
     "shell.execute_reply": "2025-08-06T16:47:02.961585Z"
    },
    "papermill": {
     "duration": 0.030871,
     "end_time": "2025-08-06T16:47:02.964228",
     "exception": false,
     "start_time": "2025-08-06T16:47:02.933357",
     "status": "completed"
    },
    "tags": []
   },
   "outputs": [],
   "source": [
    "from fairness_multiverse.conformal import compute_nc_scores\n",
    "\n",
    "# Compute nonconformity scores on calibration set (1 - probability of true class)\n",
    "nc_scores = compute_nc_scores(probs_calib, y_calib)"
   ]
  },
  {
   "cell_type": "code",
   "execution_count": 39,
   "id": "df3b8ca3-53b7-43d5-9667-7c85da7aeda2",
   "metadata": {
    "execution": {
     "iopub.execute_input": "2025-08-06T16:47:03.011209Z",
     "iopub.status.busy": "2025-08-06T16:47:03.010278Z",
     "iopub.status.idle": "2025-08-06T16:47:03.017410Z",
     "shell.execute_reply": "2025-08-06T16:47:03.016431Z"
    },
    "papermill": {
     "duration": 0.032293,
     "end_time": "2025-08-06T16:47:03.019059",
     "exception": false,
     "start_time": "2025-08-06T16:47:02.986766",
     "status": "completed"
    },
    "tags": []
   },
   "outputs": [],
   "source": [
    "from fairness_multiverse.conformal import find_threshold\n",
    "\n",
    "# Find conformal threshold q_hat for the given alpha (split conformal method)\n",
    "q_hat = find_threshold(nc_scores, alpha)"
   ]
  },
  {
   "cell_type": "code",
   "execution_count": 40,
   "id": "4d29e6c1-0ef6-4aa4-b8fe-4fe79b0d033a",
   "metadata": {
    "execution": {
     "iopub.execute_input": "2025-08-06T16:47:03.062408Z",
     "iopub.status.busy": "2025-08-06T16:47:03.061558Z",
     "iopub.status.idle": "2025-08-06T16:47:03.069124Z",
     "shell.execute_reply": "2025-08-06T16:47:03.068204Z"
    },
    "papermill": {
     "duration": 0.028717,
     "end_time": "2025-08-06T16:47:03.070604",
     "exception": false,
     "start_time": "2025-08-06T16:47:03.041887",
     "status": "completed"
    },
    "tags": []
   },
   "outputs": [
    {
     "data": {
      "text/plain": [
       "0.6599999999999999"
      ]
     },
     "execution_count": 40,
     "metadata": {},
     "output_type": "execute_result"
    }
   ],
   "source": [
    "q_hat"
   ]
  },
  {
   "cell_type": "code",
   "execution_count": 41,
   "id": "92460794-cdac-4be2-ba28-f28c0515a6fb",
   "metadata": {
    "execution": {
     "iopub.execute_input": "2025-08-06T16:47:03.116159Z",
     "iopub.status.busy": "2025-08-06T16:47:03.115235Z",
     "iopub.status.idle": "2025-08-06T16:47:06.734238Z",
     "shell.execute_reply": "2025-08-06T16:47:06.733422Z"
    },
    "papermill": {
     "duration": 3.643389,
     "end_time": "2025-08-06T16:47:06.735755",
     "exception": false,
     "start_time": "2025-08-06T16:47:03.092366",
     "status": "completed"
    },
    "tags": []
   },
   "outputs": [],
   "source": [
    "from fairness_multiverse.conformal import predict_conformal_sets\n",
    "\n",
    "# Generate prediction sets for each test example\n",
    "pred_sets = predict_conformal_sets(model, X_test, q_hat)"
   ]
  },
  {
   "cell_type": "code",
   "execution_count": 42,
   "id": "d90c9a65-e6db-4f5d-80cd-e68fb7e46829",
   "metadata": {
    "execution": {
     "iopub.execute_input": "2025-08-06T16:47:06.762999Z",
     "iopub.status.busy": "2025-08-06T16:47:06.762466Z",
     "iopub.status.idle": "2025-08-06T16:47:06.767329Z",
     "shell.execute_reply": "2025-08-06T16:47:06.766542Z"
    },
    "papermill": {
     "duration": 0.018812,
     "end_time": "2025-08-06T16:47:06.768669",
     "exception": false,
     "start_time": "2025-08-06T16:47:06.749857",
     "status": "completed"
    },
    "tags": []
   },
   "outputs": [],
   "source": [
    "y_true = y_true.squeeze()"
   ]
  },
  {
   "cell_type": "code",
   "execution_count": 43,
   "id": "3a58a54a-1e68-46b9-927a-df01f18aebc8",
   "metadata": {
    "execution": {
     "iopub.execute_input": "2025-08-06T16:47:06.792347Z",
     "iopub.status.busy": "2025-08-06T16:47:06.791705Z",
     "iopub.status.idle": "2025-08-06T16:47:07.603725Z",
     "shell.execute_reply": "2025-08-06T16:47:07.602664Z"
    },
    "papermill": {
     "duration": 0.825448,
     "end_time": "2025-08-06T16:47:07.605513",
     "exception": false,
     "start_time": "2025-08-06T16:47:06.780065",
     "status": "completed"
    },
    "tags": []
   },
   "outputs": [],
   "source": [
    "from fairness_multiverse.conformal import evaluate_sets\n",
    "\n",
    "# Evaluate coverage and average set size on test data\n",
    "metrics = evaluate_sets(pred_sets, y_true)"
   ]
  },
  {
   "cell_type": "markdown",
   "id": "2b569c12-9aaa-4c88-98c9-bbcd0cf3ebb8",
   "metadata": {
    "papermill": {
     "duration": 0.021351,
     "end_time": "2025-08-06T16:47:07.645709",
     "exception": false,
     "start_time": "2025-08-06T16:47:07.624358",
     "status": "completed"
    },
    "tags": []
   },
   "source": [
    "# CP Metrics"
   ]
  },
  {
   "cell_type": "code",
   "execution_count": 44,
   "id": "5ce0a5cb-201f-45a0-ade5-94c7f0bd6095",
   "metadata": {
    "execution": {
     "iopub.execute_input": "2025-08-06T16:47:07.687613Z",
     "iopub.status.busy": "2025-08-06T16:47:07.687170Z",
     "iopub.status.idle": "2025-08-06T16:47:07.694182Z",
     "shell.execute_reply": "2025-08-06T16:47:07.693246Z"
    },
    "papermill": {
     "duration": 0.029851,
     "end_time": "2025-08-06T16:47:07.695692",
     "exception": false,
     "start_time": "2025-08-06T16:47:07.665841",
     "status": "completed"
    },
    "tags": []
   },
   "outputs": [
    {
     "data": {
      "text/plain": [
       "{'coverage': 0.9140229628803924, 'avg_size': 1.138724779846171}"
      ]
     },
     "execution_count": 44,
     "metadata": {},
     "output_type": "execute_result"
    }
   ],
   "source": [
    "metrics"
   ]
  },
  {
   "cell_type": "code",
   "execution_count": 45,
   "id": "9b9a838d-31c9-430b-ae14-12baee460d17",
   "metadata": {
    "execution": {
     "iopub.execute_input": "2025-08-06T16:47:07.740851Z",
     "iopub.status.busy": "2025-08-06T16:47:07.740287Z",
     "iopub.status.idle": "2025-08-06T16:47:07.747174Z",
     "shell.execute_reply": "2025-08-06T16:47:07.746200Z"
    },
    "papermill": {
     "duration": 0.030738,
     "end_time": "2025-08-06T16:47:07.748921",
     "exception": false,
     "start_time": "2025-08-06T16:47:07.718183",
     "status": "completed"
    },
    "tags": []
   },
   "outputs": [],
   "source": [
    "example_universe = universe.copy()\n",
    "universe_training_year = example_universe.get(\"training_year\")\n",
    "universe_training_size = example_universe.get(\"training_size\")\n",
    "universe_scale = example_universe.get(\"scale\")\n",
    "universe_model = example_universe.get(\"model\")\n",
    "universe_exclude_features = example_universe.get(\"exclude_features\")\n",
    "universe_exclude_subgroups = example_universe.get(\"exclude_subgroups\")"
   ]
  },
  {
   "cell_type": "code",
   "execution_count": 46,
   "id": "f4b6a8ac-9dc0-4245-8a91-5b3b5999c4f9",
   "metadata": {
    "execution": {
     "iopub.execute_input": "2025-08-06T16:47:07.801639Z",
     "iopub.status.busy": "2025-08-06T16:47:07.800985Z",
     "iopub.status.idle": "2025-08-06T16:47:07.809276Z",
     "shell.execute_reply": "2025-08-06T16:47:07.808082Z"
    },
    "papermill": {
     "duration": 0.040945,
     "end_time": "2025-08-06T16:47:07.810914",
     "exception": false,
     "start_time": "2025-08-06T16:47:07.769969",
     "status": "completed"
    },
    "tags": []
   },
   "outputs": [],
   "source": [
    "cp_metrics_dict = {\n",
    "    \"universe_id\": [universe_id],\n",
    "    \"universe_training_year\": [universe_training_year],\n",
    "    \"universe_training_size\": [universe_training_size],\n",
    "    \"universe_scale\": [universe_scale],\n",
    "    \"universe_model\": [universe_model],\n",
    "    \"universe_exclude_features\": [universe_exclude_features],\n",
    "    \"universe_exclude_subgroups\": [universe_exclude_subgroups],\n",
    "    \"q_hat\": [q_hat],\n",
    "    \"coverage\": [metrics[\"coverage\"]],\n",
    "    \"avg_size\": [metrics[\"avg_size\"]],\n",
    "}"
   ]
  },
  {
   "cell_type": "code",
   "execution_count": 47,
   "id": "33007efc-14e9-4ec6-97ac-56a455c82265",
   "metadata": {
    "execution": {
     "iopub.execute_input": "2025-08-06T16:47:07.862840Z",
     "iopub.status.busy": "2025-08-06T16:47:07.862274Z",
     "iopub.status.idle": "2025-08-06T16:47:07.869015Z",
     "shell.execute_reply": "2025-08-06T16:47:07.868141Z"
    },
    "papermill": {
     "duration": 0.032593,
     "end_time": "2025-08-06T16:47:07.870600",
     "exception": false,
     "start_time": "2025-08-06T16:47:07.838007",
     "status": "completed"
    },
    "tags": []
   },
   "outputs": [],
   "source": [
    "cp_metrics_df = pd.DataFrame(cp_metrics_dict)"
   ]
  },
  {
   "cell_type": "code",
   "execution_count": 48,
   "id": "db12611b-57b2-4910-b9d0-355adfd6e7bf",
   "metadata": {
    "execution": {
     "iopub.execute_input": "2025-08-06T16:47:07.914946Z",
     "iopub.status.busy": "2025-08-06T16:47:07.914505Z",
     "iopub.status.idle": "2025-08-06T16:47:07.930668Z",
     "shell.execute_reply": "2025-08-06T16:47:07.929770Z"
    },
    "papermill": {
     "duration": 0.04023,
     "end_time": "2025-08-06T16:47:07.932359",
     "exception": false,
     "start_time": "2025-08-06T16:47:07.892129",
     "status": "completed"
    },
    "tags": []
   },
   "outputs": [
    {
     "data": {
      "text/html": [
       "<div>\n",
       "<style scoped>\n",
       "    .dataframe tbody tr th:only-of-type {\n",
       "        vertical-align: middle;\n",
       "    }\n",
       "\n",
       "    .dataframe tbody tr th {\n",
       "        vertical-align: top;\n",
       "    }\n",
       "\n",
       "    .dataframe thead th {\n",
       "        text-align: right;\n",
       "    }\n",
       "</style>\n",
       "<table border=\"1\" class=\"dataframe\">\n",
       "  <thead>\n",
       "    <tr style=\"text-align: right;\">\n",
       "      <th></th>\n",
       "      <th>universe_id</th>\n",
       "      <th>universe_training_year</th>\n",
       "      <th>universe_training_size</th>\n",
       "      <th>universe_scale</th>\n",
       "      <th>universe_model</th>\n",
       "      <th>universe_exclude_features</th>\n",
       "      <th>universe_exclude_subgroups</th>\n",
       "      <th>q_hat</th>\n",
       "      <th>coverage</th>\n",
       "      <th>avg_size</th>\n",
       "    </tr>\n",
       "  </thead>\n",
       "  <tbody>\n",
       "    <tr>\n",
       "      <th>0</th>\n",
       "      <td>a9efa8853fc82364bf88212eafaae09b</td>\n",
       "      <td>2014</td>\n",
       "      <td>25k</td>\n",
       "      <td>do-not-scale</td>\n",
       "      <td>rf</td>\n",
       "      <td>sex</td>\n",
       "      <td>keep-all</td>\n",
       "      <td>0.66</td>\n",
       "      <td>0.914023</td>\n",
       "      <td>1.138725</td>\n",
       "    </tr>\n",
       "  </tbody>\n",
       "</table>\n",
       "</div>"
      ],
      "text/plain": [
       "                        universe_id universe_training_year  \\\n",
       "0  a9efa8853fc82364bf88212eafaae09b                   2014   \n",
       "\n",
       "  universe_training_size universe_scale universe_model  \\\n",
       "0                    25k   do-not-scale             rf   \n",
       "\n",
       "  universe_exclude_features universe_exclude_subgroups  q_hat  coverage  \\\n",
       "0                       sex                   keep-all   0.66  0.914023   \n",
       "\n",
       "   avg_size  \n",
       "0  1.138725  "
      ]
     },
     "execution_count": 48,
     "metadata": {},
     "output_type": "execute_result"
    }
   ],
   "source": [
    "cp_metrics_df"
   ]
  },
  {
   "cell_type": "markdown",
   "id": "c825ecb4-0d3d-41d6-b7c6-eccb21272259",
   "metadata": {
    "papermill": {
     "duration": 0.020785,
     "end_time": "2025-08-06T16:47:07.974754",
     "exception": false,
     "start_time": "2025-08-06T16:47:07.953969",
     "status": "completed"
    },
    "tags": []
   },
   "source": [
    "Conditional coverage & looking at subgroups"
   ]
  },
  {
   "cell_type": "code",
   "execution_count": 49,
   "id": "027ae886-68dd-4141-96c7-805a5450e1ef",
   "metadata": {
    "execution": {
     "iopub.execute_input": "2025-08-06T16:47:08.018283Z",
     "iopub.status.busy": "2025-08-06T16:47:08.017591Z",
     "iopub.status.idle": "2025-08-06T16:47:08.288185Z",
     "shell.execute_reply": "2025-08-06T16:47:08.287179Z"
    },
    "papermill": {
     "duration": 0.294343,
     "end_time": "2025-08-06T16:47:08.290229",
     "exception": false,
     "start_time": "2025-08-06T16:47:07.995886",
     "status": "completed"
    },
    "tags": []
   },
   "outputs": [],
   "source": [
    "from fairness_multiverse.conformal import build_cp_groups\n",
    "\n",
    "cp_groups_df = build_cp_groups(pred_sets, y_true, X_test.index, org_test)"
   ]
  },
  {
   "cell_type": "code",
   "execution_count": 50,
   "id": "6cbdab96-b2b2-45af-ad54-d0516db2e28d",
   "metadata": {
    "execution": {
     "iopub.execute_input": "2025-08-06T16:47:08.335509Z",
     "iopub.status.busy": "2025-08-06T16:47:08.334581Z",
     "iopub.status.idle": "2025-08-06T16:47:09.878057Z",
     "shell.execute_reply": "2025-08-06T16:47:09.877185Z"
    },
    "papermill": {
     "duration": 1.567409,
     "end_time": "2025-08-06T16:47:09.879820",
     "exception": false,
     "start_time": "2025-08-06T16:47:08.312411",
     "status": "completed"
    },
    "tags": []
   },
   "outputs": [],
   "source": [
    "# Define covered = 1 if true_label is in the predicted set\n",
    "cp_groups_df['covered'] = cp_groups_df.apply(\n",
    "    lambda r: int(r['true_label'] in r['pred_set']),\n",
    "    axis=1\n",
    ")"
   ]
  },
  {
   "cell_type": "code",
   "execution_count": 51,
   "id": "90032e27-66df-4540-9169-4e89cfbaa758",
   "metadata": {
    "execution": {
     "iopub.execute_input": "2025-08-06T16:47:09.924999Z",
     "iopub.status.busy": "2025-08-06T16:47:09.924215Z",
     "iopub.status.idle": "2025-08-06T16:47:09.935179Z",
     "shell.execute_reply": "2025-08-06T16:47:09.934239Z"
    },
    "papermill": {
     "duration": 0.033809,
     "end_time": "2025-08-06T16:47:09.936840",
     "exception": false,
     "start_time": "2025-08-06T16:47:09.903031",
     "status": "completed"
    },
    "tags": []
   },
   "outputs": [],
   "source": [
    "subgroups = ['frau1','nongerman','nongerman_male','nongerman_female']\n",
    "\n",
    "# Conditional coverage for subgroup==1\n",
    "cond_coverage = {\n",
    "    g: cp_groups_df.loc[cp_groups_df[g]==1, 'covered'].mean()\n",
    "    for g in subgroups\n",
    "}"
   ]
  },
  {
   "cell_type": "code",
   "execution_count": 52,
   "id": "1e348fb1-b9c3-45bc-ba23-f016827a7e0d",
   "metadata": {
    "execution": {
     "iopub.execute_input": "2025-08-06T16:47:09.980533Z",
     "iopub.status.busy": "2025-08-06T16:47:09.979446Z",
     "iopub.status.idle": "2025-08-06T16:47:09.987491Z",
     "shell.execute_reply": "2025-08-06T16:47:09.986575Z"
    },
    "papermill": {
     "duration": 0.031115,
     "end_time": "2025-08-06T16:47:09.989054",
     "exception": false,
     "start_time": "2025-08-06T16:47:09.957939",
     "status": "completed"
    },
    "tags": []
   },
   "outputs": [
    {
     "data": {
      "text/plain": [
       "{'frau1': 0.9132497641191535,\n",
       " 'nongerman': 0.9119744007185763,\n",
       " 'nongerman_male': 0.9263262181392417,\n",
       " 'nongerman_female': 0.8882265275707899}"
      ]
     },
     "execution_count": 52,
     "metadata": {},
     "output_type": "execute_result"
    }
   ],
   "source": [
    "cond_coverage"
   ]
  },
  {
   "cell_type": "code",
   "execution_count": 53,
   "id": "f5093324-c3dd-4d63-bc4c-8d945e5c8bbb",
   "metadata": {
    "execution": {
     "iopub.execute_input": "2025-08-06T16:47:10.035039Z",
     "iopub.status.busy": "2025-08-06T16:47:10.034275Z",
     "iopub.status.idle": "2025-08-06T16:47:10.042012Z",
     "shell.execute_reply": "2025-08-06T16:47:10.040991Z"
    },
    "papermill": {
     "duration": 0.033363,
     "end_time": "2025-08-06T16:47:10.043420",
     "exception": false,
     "start_time": "2025-08-06T16:47:10.010057",
     "status": "completed"
    },
    "tags": []
   },
   "outputs": [],
   "source": [
    "for subgroup, cov in cond_coverage.items():\n",
    "    cp_metrics_df[f\"cov_{subgroup}\"] = cov"
   ]
  },
  {
   "cell_type": "code",
   "execution_count": 54,
   "id": "6e872e10-dbe5-49e8-b554-5030c98ff75d",
   "metadata": {
    "execution": {
     "iopub.execute_input": "2025-08-06T16:47:10.087205Z",
     "iopub.status.busy": "2025-08-06T16:47:10.086336Z",
     "iopub.status.idle": "2025-08-06T16:47:10.105705Z",
     "shell.execute_reply": "2025-08-06T16:47:10.104740Z"
    },
    "papermill": {
     "duration": 0.042752,
     "end_time": "2025-08-06T16:47:10.107311",
     "exception": false,
     "start_time": "2025-08-06T16:47:10.064559",
     "status": "completed"
    },
    "tags": []
   },
   "outputs": [
    {
     "data": {
      "text/html": [
       "<div>\n",
       "<style scoped>\n",
       "    .dataframe tbody tr th:only-of-type {\n",
       "        vertical-align: middle;\n",
       "    }\n",
       "\n",
       "    .dataframe tbody tr th {\n",
       "        vertical-align: top;\n",
       "    }\n",
       "\n",
       "    .dataframe thead th {\n",
       "        text-align: right;\n",
       "    }\n",
       "</style>\n",
       "<table border=\"1\" class=\"dataframe\">\n",
       "  <thead>\n",
       "    <tr style=\"text-align: right;\">\n",
       "      <th></th>\n",
       "      <th>universe_id</th>\n",
       "      <th>universe_training_year</th>\n",
       "      <th>universe_training_size</th>\n",
       "      <th>universe_scale</th>\n",
       "      <th>universe_model</th>\n",
       "      <th>universe_exclude_features</th>\n",
       "      <th>universe_exclude_subgroups</th>\n",
       "      <th>q_hat</th>\n",
       "      <th>coverage</th>\n",
       "      <th>avg_size</th>\n",
       "      <th>cov_frau1</th>\n",
       "      <th>cov_nongerman</th>\n",
       "      <th>cov_nongerman_male</th>\n",
       "      <th>cov_nongerman_female</th>\n",
       "    </tr>\n",
       "  </thead>\n",
       "  <tbody>\n",
       "    <tr>\n",
       "      <th>0</th>\n",
       "      <td>a9efa8853fc82364bf88212eafaae09b</td>\n",
       "      <td>2014</td>\n",
       "      <td>25k</td>\n",
       "      <td>do-not-scale</td>\n",
       "      <td>rf</td>\n",
       "      <td>sex</td>\n",
       "      <td>keep-all</td>\n",
       "      <td>0.66</td>\n",
       "      <td>0.914023</td>\n",
       "      <td>1.138725</td>\n",
       "      <td>0.91325</td>\n",
       "      <td>0.911974</td>\n",
       "      <td>0.926326</td>\n",
       "      <td>0.888227</td>\n",
       "    </tr>\n",
       "  </tbody>\n",
       "</table>\n",
       "</div>"
      ],
      "text/plain": [
       "                        universe_id universe_training_year  \\\n",
       "0  a9efa8853fc82364bf88212eafaae09b                   2014   \n",
       "\n",
       "  universe_training_size universe_scale universe_model  \\\n",
       "0                    25k   do-not-scale             rf   \n",
       "\n",
       "  universe_exclude_features universe_exclude_subgroups  q_hat  coverage  \\\n",
       "0                       sex                   keep-all   0.66  0.914023   \n",
       "\n",
       "   avg_size  cov_frau1  cov_nongerman  cov_nongerman_male  \\\n",
       "0  1.138725    0.91325       0.911974            0.926326   \n",
       "\n",
       "   cov_nongerman_female  \n",
       "0              0.888227  "
      ]
     },
     "execution_count": 54,
     "metadata": {},
     "output_type": "execute_result"
    }
   ],
   "source": [
    "cp_metrics_df"
   ]
  },
  {
   "cell_type": "markdown",
   "id": "33774451",
   "metadata": {
    "papermill": {
     "duration": 0.020877,
     "end_time": "2025-08-06T16:47:10.150482",
     "exception": false,
     "start_time": "2025-08-06T16:47:10.129605",
     "status": "completed"
    },
    "tags": []
   },
   "source": [
    "# (Fairness) Metrics"
   ]
  },
  {
   "cell_type": "code",
   "execution_count": 55,
   "id": "debc5d62",
   "metadata": {
    "execution": {
     "iopub.execute_input": "2025-08-06T16:47:10.197248Z",
     "iopub.status.busy": "2025-08-06T16:47:10.196316Z",
     "iopub.status.idle": "2025-08-06T16:47:10.219000Z",
     "shell.execute_reply": "2025-08-06T16:47:10.218056Z"
    },
    "papermill": {
     "duration": 0.046858,
     "end_time": "2025-08-06T16:47:10.220753",
     "exception": false,
     "start_time": "2025-08-06T16:47:10.173895",
     "status": "completed"
    },
    "tags": []
   },
   "outputs": [],
   "source": [
    "colname_to_bin = \"maxdeutsch1\"\n",
    "majority_value = org_train[colname_to_bin].mode()[0]\n",
    "\n",
    "org_test[\"majmin\"] = np.where(org_test[colname_to_bin] == majority_value, \"majority\", \"minority\")"
   ]
  },
  {
   "cell_type": "code",
   "execution_count": 56,
   "id": "06a50de5",
   "metadata": {
    "execution": {
     "iopub.execute_input": "2025-08-06T16:47:10.277187Z",
     "iopub.status.busy": "2025-08-06T16:47:10.276732Z",
     "iopub.status.idle": "2025-08-06T16:47:13.151172Z",
     "shell.execute_reply": "2025-08-06T16:47:13.150150Z"
    },
    "papermill": {
     "duration": 2.905508,
     "end_time": "2025-08-06T16:47:13.153210",
     "exception": false,
     "start_time": "2025-08-06T16:47:10.247702",
     "status": "completed"
    },
    "tags": []
   },
   "outputs": [],
   "source": [
    "example_universe = universe.copy()\n",
    "example_universe[\"cutoff\"] = example_universe[\"cutoff\"][0]\n",
    "example_universe[\"eval_fairness_grouping\"] = example_universe[\"eval_fairness_grouping\"][0]\n",
    "fairness_dict, metric_frame = universe_analysis.compute_metrics(\n",
    "    example_universe,\n",
    "    y_pred_prob=probs_test,\n",
    "    y_test=y_true,\n",
    "    org_test=org_test,\n",
    ")"
   ]
  },
  {
   "cell_type": "markdown",
   "id": "f95d4e02",
   "metadata": {
    "papermill": {
     "duration": 0.024335,
     "end_time": "2025-08-06T16:47:13.203548",
     "exception": false,
     "start_time": "2025-08-06T16:47:13.179213",
     "status": "completed"
    },
    "tags": []
   },
   "source": [
    "# Overall"
   ]
  },
  {
   "cell_type": "markdown",
   "id": "bdee4871",
   "metadata": {
    "papermill": {
     "duration": 0.022046,
     "end_time": "2025-08-06T16:47:13.249709",
     "exception": false,
     "start_time": "2025-08-06T16:47:13.227663",
     "status": "completed"
    },
    "tags": []
   },
   "source": [
    "Main fairness target: Equalized Odds. Seems to be a better fit than equal opportunity, since we're not only interested in Y = 1. Seems to be a better fit than demographic parity, since we also care about accuracy, not just equal distribution of preds.\n",
    "\n",
    "Pick column for computation of fairness metrics\n",
    "\n",
    "Performance\n",
    "Overall performance measures, most interesting in relation to the measures split by group below"
   ]
  },
  {
   "cell_type": "code",
   "execution_count": 57,
   "id": "c4e067c6",
   "metadata": {
    "execution": {
     "iopub.execute_input": "2025-08-06T16:47:13.351319Z",
     "iopub.status.busy": "2025-08-06T16:47:13.350387Z",
     "iopub.status.idle": "2025-08-06T16:47:13.359843Z",
     "shell.execute_reply": "2025-08-06T16:47:13.358748Z"
    },
    "papermill": {
     "duration": 0.034194,
     "end_time": "2025-08-06T16:47:13.361480",
     "exception": false,
     "start_time": "2025-08-06T16:47:13.327286",
     "status": "completed"
    },
    "tags": []
   },
   "outputs": [
    {
     "data": {
      "text/plain": [
       "accuracy                   0.213399\n",
       "balanced accuracy          0.538225\n",
       "f1                         0.241307\n",
       "precision                  0.137690\n",
       "false positive rate        0.898698\n",
       "false negative rate        0.024852\n",
       "selection rate             0.908505\n",
       "count                  89710.000000\n",
       "dtype: float64"
      ]
     },
     "execution_count": 57,
     "metadata": {},
     "output_type": "execute_result"
    }
   ],
   "source": [
    "metric_frame.overall"
   ]
  },
  {
   "cell_type": "markdown",
   "id": "e968fe9d",
   "metadata": {
    "papermill": {
     "duration": 0.021672,
     "end_time": "2025-08-06T16:47:13.405432",
     "exception": false,
     "start_time": "2025-08-06T16:47:13.383760",
     "status": "completed"
    },
    "tags": []
   },
   "source": [
    "By Group"
   ]
  },
  {
   "cell_type": "code",
   "execution_count": 58,
   "id": "ec325bce",
   "metadata": {
    "execution": {
     "iopub.execute_input": "2025-08-06T16:47:13.451192Z",
     "iopub.status.busy": "2025-08-06T16:47:13.450754Z",
     "iopub.status.idle": "2025-08-06T16:47:13.465572Z",
     "shell.execute_reply": "2025-08-06T16:47:13.464691Z"
    },
    "papermill": {
     "duration": 0.040067,
     "end_time": "2025-08-06T16:47:13.467448",
     "exception": false,
     "start_time": "2025-08-06T16:47:13.427381",
     "status": "completed"
    },
    "tags": []
   },
   "outputs": [
    {
     "data": {
      "text/html": [
       "<div>\n",
       "<style scoped>\n",
       "    .dataframe tbody tr th:only-of-type {\n",
       "        vertical-align: middle;\n",
       "    }\n",
       "\n",
       "    .dataframe tbody tr th {\n",
       "        vertical-align: top;\n",
       "    }\n",
       "\n",
       "    .dataframe thead th {\n",
       "        text-align: right;\n",
       "    }\n",
       "</style>\n",
       "<table border=\"1\" class=\"dataframe\">\n",
       "  <thead>\n",
       "    <tr style=\"text-align: right;\">\n",
       "      <th></th>\n",
       "      <th>accuracy</th>\n",
       "      <th>balanced accuracy</th>\n",
       "      <th>f1</th>\n",
       "      <th>precision</th>\n",
       "      <th>false positive rate</th>\n",
       "      <th>false negative rate</th>\n",
       "      <th>selection rate</th>\n",
       "      <th>count</th>\n",
       "    </tr>\n",
       "    <tr>\n",
       "      <th>majmin</th>\n",
       "      <th></th>\n",
       "      <th></th>\n",
       "      <th></th>\n",
       "      <th></th>\n",
       "      <th></th>\n",
       "      <th></th>\n",
       "      <th></th>\n",
       "      <th></th>\n",
       "    </tr>\n",
       "  </thead>\n",
       "  <tbody>\n",
       "    <tr>\n",
       "      <th>majority</th>\n",
       "      <td>0.201012</td>\n",
       "      <td>0.535274</td>\n",
       "      <td>0.246606</td>\n",
       "      <td>0.140853</td>\n",
       "      <td>0.919057</td>\n",
       "      <td>0.010394</td>\n",
       "      <td>0.928379</td>\n",
       "      <td>69170.0</td>\n",
       "    </tr>\n",
       "    <tr>\n",
       "      <th>minority</th>\n",
       "      <td>0.255112</td>\n",
       "      <td>0.543949</td>\n",
       "      <td>0.221533</td>\n",
       "      <td>0.125940</td>\n",
       "      <td>0.831444</td>\n",
       "      <td>0.080659</td>\n",
       "      <td>0.841577</td>\n",
       "      <td>20540.0</td>\n",
       "    </tr>\n",
       "  </tbody>\n",
       "</table>\n",
       "</div>"
      ],
      "text/plain": [
       "          accuracy  balanced accuracy        f1  precision  \\\n",
       "majmin                                                       \n",
       "majority  0.201012           0.535274  0.246606   0.140853   \n",
       "minority  0.255112           0.543949  0.221533   0.125940   \n",
       "\n",
       "          false positive rate  false negative rate  selection rate    count  \n",
       "majmin                                                                       \n",
       "majority             0.919057             0.010394        0.928379  69170.0  \n",
       "minority             0.831444             0.080659        0.841577  20540.0  "
      ]
     },
     "execution_count": 58,
     "metadata": {},
     "output_type": "execute_result"
    }
   ],
   "source": [
    "metric_frame.by_group"
   ]
  },
  {
   "cell_type": "code",
   "execution_count": 59,
   "id": "a9ddbe63",
   "metadata": {
    "execution": {
     "iopub.execute_input": "2025-08-06T16:47:13.521765Z",
     "iopub.status.busy": "2025-08-06T16:47:13.521134Z",
     "iopub.status.idle": "2025-08-06T16:47:15.872906Z",
     "shell.execute_reply": "2025-08-06T16:47:15.872008Z"
    },
    "papermill": {
     "duration": 2.384504,
     "end_time": "2025-08-06T16:47:15.874562",
     "exception": false,
     "start_time": "2025-08-06T16:47:13.490058",
     "status": "completed"
    },
    "tags": []
   },
   "outputs": [
    {
     "data": {
      "text/plain": [
       "array([[<Axes: title={'center': 'accuracy'}, xlabel='majmin'>,\n",
       "        <Axes: title={'center': 'balanced accuracy'}, xlabel='majmin'>,\n",
       "        <Axes: title={'center': 'f1'}, xlabel='majmin'>],\n",
       "       [<Axes: title={'center': 'precision'}, xlabel='majmin'>,\n",
       "        <Axes: title={'center': 'false positive rate'}, xlabel='majmin'>,\n",
       "        <Axes: title={'center': 'false negative rate'}, xlabel='majmin'>],\n",
       "       [<Axes: title={'center': 'selection rate'}, xlabel='majmin'>,\n",
       "        <Axes: title={'center': 'count'}, xlabel='majmin'>,\n",
       "        <Axes: xlabel='majmin'>]], dtype=object)"
      ]
     },
     "execution_count": 59,
     "metadata": {},
     "output_type": "execute_result"
    },
    {
     "data": {
      "image/png": "[encoded data removed]",
      "text/plain": [
       "<Figure size 1200x800 with 9 Axes>"
      ]
     },
     "metadata": {},
     "output_type": "display_data"
    }
   ],
   "source": [
    "# In a graphic\n",
    "metric_frame.by_group.plot.bar(\n",
    "    subplots=True,\n",
    "    layout=[3, 3],\n",
    "    legend=False,\n",
    "    figsize=[12, 8],\n",
    "    title=\"Show all metrics\",\n",
    ")"
   ]
  },
  {
   "cell_type": "markdown",
   "id": "f57a0bac",
   "metadata": {
    "papermill": {
     "duration": 0.026391,
     "end_time": "2025-08-06T16:47:15.927794",
     "exception": false,
     "start_time": "2025-08-06T16:47:15.901403",
     "status": "completed"
    },
    "tags": []
   },
   "source": [
    "# Final Output"
   ]
  },
  {
   "cell_type": "code",
   "execution_count": 60,
   "id": "96d280a3",
   "metadata": {
    "execution": {
     "iopub.execute_input": "2025-08-06T16:47:15.981556Z",
     "iopub.status.busy": "2025-08-06T16:47:15.980517Z",
     "iopub.status.idle": "2025-08-06T16:47:15.989400Z",
     "shell.execute_reply": "2025-08-06T16:47:15.988349Z"
    },
    "papermill": {
     "duration": 0.037294,
     "end_time": "2025-08-06T16:47:15.990989",
     "exception": false,
     "start_time": "2025-08-06T16:47:15.953695",
     "status": "completed"
    },
    "tags": []
   },
   "outputs": [
    {
     "data": {
      "text/plain": [
       "4"
      ]
     },
     "execution_count": 60,
     "metadata": {},
     "output_type": "execute_result"
    }
   ],
   "source": [
    "sub_universes = universe_analysis.generate_sub_universes()\n",
    "len(sub_universes)"
   ]
  },
  {
   "cell_type": "code",
   "execution_count": 61,
   "id": "92adf7ba",
   "metadata": {
    "execution": {
     "iopub.execute_input": "2025-08-06T16:47:16.048271Z",
     "iopub.status.busy": "2025-08-06T16:47:16.047223Z",
     "iopub.status.idle": "2025-08-06T16:47:16.054368Z",
     "shell.execute_reply": "2025-08-06T16:47:16.053079Z"
    },
    "papermill": {
     "duration": 0.039887,
     "end_time": "2025-08-06T16:47:16.056871",
     "exception": false,
     "start_time": "2025-08-06T16:47:16.016984",
     "status": "completed"
    },
    "tags": []
   },
   "outputs": [],
   "source": [
    "def filter_sub_universe_data(sub_universe, org_test):\n",
    "    # Keep all rows — no filtering\n",
    "    keep_rows_mask = np.ones(org_test.shape[0], dtype=bool)\n",
    "\n",
    "    print(f\"[INFO] Keeping all rows: {keep_rows_mask.sum()} rows retained.\")\n",
    "    return keep_rows_mask"
   ]
  },
  {
   "cell_type": "code",
   "execution_count": 62,
   "id": "4a759155",
   "metadata": {
    "execution": {
     "iopub.execute_input": "2025-08-06T16:47:16.110270Z",
     "iopub.status.busy": "2025-08-06T16:47:16.109812Z",
     "iopub.status.idle": "2025-08-06T16:47:24.817826Z",
     "shell.execute_reply": "2025-08-06T16:47:24.816680Z"
    },
    "papermill": {
     "duration": 8.734651,
     "end_time": "2025-08-06T16:47:24.819351",
     "exception": false,
     "start_time": "2025-08-06T16:47:16.084700",
     "status": "completed"
    },
    "tags": []
   },
   "outputs": [
    {
     "name": "stdout",
     "output_type": "stream",
     "text": [
      "Stopping execution_time clock.\n",
      "[INFO] Keeping all rows: 89710 rows retained.\n"
     ]
    },
    {
     "name": "stdout",
     "output_type": "stream",
     "text": [
      "[INFO] Keeping all rows: 89710 rows retained.\n"
     ]
    },
    {
     "name": "stdout",
     "output_type": "stream",
     "text": [
      "[INFO] Keeping all rows: 89710 rows retained.\n"
     ]
    },
    {
     "name": "stdout",
     "output_type": "stream",
     "text": [
      "[INFO] Keeping all rows: 89710 rows retained.\n"
     ]
    },
    {
     "data": {
      "text/html": [
       "<div>\n",
       "<style scoped>\n",
       "    .dataframe tbody tr th:only-of-type {\n",
       "        vertical-align: middle;\n",
       "    }\n",
       "\n",
       "    .dataframe tbody tr th {\n",
       "        vertical-align: top;\n",
       "    }\n",
       "\n",
       "    .dataframe thead th {\n",
       "        text-align: right;\n",
       "    }\n",
       "</style>\n",
       "<table border=\"1\" class=\"dataframe\">\n",
       "  <thead>\n",
       "    <tr style=\"text-align: right;\">\n",
       "      <th></th>\n",
       "      <th>run_no</th>\n",
       "      <th>universe_id</th>\n",
       "      <th>universe_settings</th>\n",
       "      <th>execution_time</th>\n",
       "      <th>test_size_n</th>\n",
       "      <th>test_size_frac</th>\n",
       "      <th>fair_main_equalized_odds_difference</th>\n",
       "      <th>fair_main_equalized_odds_ratio</th>\n",
       "      <th>fair_main_demographic_parity_difference</th>\n",
       "      <th>fair_main_demographic_parity_ratio</th>\n",
       "      <th>...</th>\n",
       "      <th>perf_grp_precision_0</th>\n",
       "      <th>perf_grp_precision_1</th>\n",
       "      <th>perf_grp_false positive rate_0</th>\n",
       "      <th>perf_grp_false positive rate_1</th>\n",
       "      <th>perf_grp_false negative rate_0</th>\n",
       "      <th>perf_grp_false negative rate_1</th>\n",
       "      <th>perf_grp_selection rate_0</th>\n",
       "      <th>perf_grp_selection rate_1</th>\n",
       "      <th>perf_grp_count_0</th>\n",
       "      <th>perf_grp_count_1</th>\n",
       "    </tr>\n",
       "  </thead>\n",
       "  <tbody>\n",
       "    <tr>\n",
       "      <th>0</th>\n",
       "      <td>1</td>\n",
       "      <td>a9efa8853fc82364bf88212eafaae09b</td>\n",
       "      <td>{\"cutoff\": \"quantile_0.1\", \"eval_fairness_grou...</td>\n",
       "      <td>49.334297</td>\n",
       "      <td>89710</td>\n",
       "      <td>1.0</td>\n",
       "      <td>0.087613</td>\n",
       "      <td>0.904671</td>\n",
       "      <td>0.086802</td>\n",
       "      <td>0.906502</td>\n",
       "      <td>...</td>\n",
       "      <td>NaN</td>\n",
       "      <td>NaN</td>\n",
       "      <td>NaN</td>\n",
       "      <td>NaN</td>\n",
       "      <td>NaN</td>\n",
       "      <td>NaN</td>\n",
       "      <td>NaN</td>\n",
       "      <td>NaN</td>\n",
       "      <td>NaN</td>\n",
       "      <td>NaN</td>\n",
       "    </tr>\n",
       "    <tr>\n",
       "      <th>0</th>\n",
       "      <td>1</td>\n",
       "      <td>a9efa8853fc82364bf88212eafaae09b</td>\n",
       "      <td>{\"cutoff\": \"quantile_0.1\", \"eval_fairness_grou...</td>\n",
       "      <td>49.334297</td>\n",
       "      <td>89710</td>\n",
       "      <td>1.0</td>\n",
       "      <td>0.087613</td>\n",
       "      <td>0.904671</td>\n",
       "      <td>0.086802</td>\n",
       "      <td>0.906502</td>\n",
       "      <td>...</td>\n",
       "      <td>0.125940</td>\n",
       "      <td>0.140853</td>\n",
       "      <td>0.831444</td>\n",
       "      <td>0.919057</td>\n",
       "      <td>0.080659</td>\n",
       "      <td>0.010394</td>\n",
       "      <td>0.841577</td>\n",
       "      <td>0.928379</td>\n",
       "      <td>20540.0</td>\n",
       "      <td>69170.0</td>\n",
       "    </tr>\n",
       "    <tr>\n",
       "      <th>0</th>\n",
       "      <td>1</td>\n",
       "      <td>a9efa8853fc82364bf88212eafaae09b</td>\n",
       "      <td>{\"cutoff\": \"quantile_0.25\", \"eval_fairness_gro...</td>\n",
       "      <td>49.334297</td>\n",
       "      <td>89710</td>\n",
       "      <td>1.0</td>\n",
       "      <td>0.099608</td>\n",
       "      <td>0.896813</td>\n",
       "      <td>0.080839</td>\n",
       "      <td>0.899644</td>\n",
       "      <td>...</td>\n",
       "      <td>NaN</td>\n",
       "      <td>NaN</td>\n",
       "      <td>NaN</td>\n",
       "      <td>NaN</td>\n",
       "      <td>NaN</td>\n",
       "      <td>NaN</td>\n",
       "      <td>NaN</td>\n",
       "      <td>NaN</td>\n",
       "      <td>NaN</td>\n",
       "      <td>NaN</td>\n",
       "    </tr>\n",
       "    <tr>\n",
       "      <th>0</th>\n",
       "      <td>1</td>\n",
       "      <td>a9efa8853fc82364bf88212eafaae09b</td>\n",
       "      <td>{\"cutoff\": \"quantile_0.25\", \"eval_fairness_gro...</td>\n",
       "      <td>49.334297</td>\n",
       "      <td>89710</td>\n",
       "      <td>1.0</td>\n",
       "      <td>0.099608</td>\n",
       "      <td>0.896813</td>\n",
       "      <td>0.080839</td>\n",
       "      <td>0.899644</td>\n",
       "      <td>...</td>\n",
       "      <td>0.137723</td>\n",
       "      <td>0.158351</td>\n",
       "      <td>0.706306</td>\n",
       "      <td>0.781193</td>\n",
       "      <td>0.134291</td>\n",
       "      <td>0.034683</td>\n",
       "      <td>0.724684</td>\n",
       "      <td>0.805523</td>\n",
       "      <td>20540.0</td>\n",
       "      <td>69170.0</td>\n",
       "    </tr>\n",
       "  </tbody>\n",
       "</table>\n",
       "<p>4 rows × 50 columns</p>\n",
       "</div>"
      ],
      "text/plain": [
       "  run_no                       universe_id  \\\n",
       "0      1  a9efa8853fc82364bf88212eafaae09b   \n",
       "0      1  a9efa8853fc82364bf88212eafaae09b   \n",
       "0      1  a9efa8853fc82364bf88212eafaae09b   \n",
       "0      1  a9efa8853fc82364bf88212eafaae09b   \n",
       "\n",
       "                                   universe_settings  execution_time  \\\n",
       "0  {\"cutoff\": \"quantile_0.1\", \"eval_fairness_grou...       49.334297   \n",
       "0  {\"cutoff\": \"quantile_0.1\", \"eval_fairness_grou...       49.334297   \n",
       "0  {\"cutoff\": \"quantile_0.25\", \"eval_fairness_gro...       49.334297   \n",
       "0  {\"cutoff\": \"quantile_0.25\", \"eval_fairness_gro...       49.334297   \n",
       "\n",
       "   test_size_n  test_size_frac  fair_main_equalized_odds_difference  \\\n",
       "0        89710             1.0                             0.087613   \n",
       "0        89710             1.0                             0.087613   \n",
       "0        89710             1.0                             0.099608   \n",
       "0        89710             1.0                             0.099608   \n",
       "\n",
       "   fair_main_equalized_odds_ratio  fair_main_demographic_parity_difference  \\\n",
       "0                        0.904671                                 0.086802   \n",
       "0                        0.904671                                 0.086802   \n",
       "0                        0.896813                                 0.080839   \n",
       "0                        0.896813                                 0.080839   \n",
       "\n",
       "   fair_main_demographic_parity_ratio  ...  perf_grp_precision_0  \\\n",
       "0                            0.906502  ...                   NaN   \n",
       "0                            0.906502  ...              0.125940   \n",
       "0                            0.899644  ...                   NaN   \n",
       "0                            0.899644  ...              0.137723   \n",
       "\n",
       "   perf_grp_precision_1  perf_grp_false positive rate_0  \\\n",
       "0                   NaN                             NaN   \n",
       "0              0.140853                        0.831444   \n",
       "0                   NaN                             NaN   \n",
       "0              0.158351                        0.706306   \n",
       "\n",
       "   perf_grp_false positive rate_1  perf_grp_false negative rate_0  \\\n",
       "0                             NaN                             NaN   \n",
       "0                        0.919057                        0.080659   \n",
       "0                             NaN                             NaN   \n",
       "0                        0.781193                        0.134291   \n",
       "\n",
       "   perf_grp_false negative rate_1  perf_grp_selection rate_0  \\\n",
       "0                             NaN                        NaN   \n",
       "0                        0.010394                   0.841577   \n",
       "0                             NaN                        NaN   \n",
       "0                        0.034683                   0.724684   \n",
       "\n",
       "   perf_grp_selection rate_1  perf_grp_count_0  perf_grp_count_1  \n",
       "0                        NaN               NaN               NaN  \n",
       "0                   0.928379           20540.0           69170.0  \n",
       "0                        NaN               NaN               NaN  \n",
       "0                   0.805523           20540.0           69170.0  \n",
       "\n",
       "[4 rows x 50 columns]"
      ]
     },
     "execution_count": 62,
     "metadata": {},
     "output_type": "execute_result"
    }
   ],
   "source": [
    "final_output = universe_analysis.generate_final_output(\n",
    "    y_pred_prob=probs_test,\n",
    "    y_test=y_true,\n",
    "    org_test=org_test,\n",
    "    filter_data=filter_sub_universe_data,\n",
    "    cp_metrics_df=cp_metrics_df,\n",
    "    save=True,\n",
    ")\n",
    "final_output"
   ]
  },
  {
   "cell_type": "code",
   "execution_count": null,
   "id": "571f9a0f-660a-4841-b661-b06fbc637944",
   "metadata": {
    "papermill": {
     "duration": 0.015875,
     "end_time": "2025-08-06T16:47:24.853912",
     "exception": false,
     "start_time": "2025-08-06T16:47:24.838037",
     "status": "completed"
    },
    "tags": []
   },
   "outputs": [],
   "source": []
  },
  {
   "cell_type": "code",
   "execution_count": null,
   "id": "529482e3-0150-4854-a92d-ab864efc606e",
   "metadata": {
    "papermill": {
     "duration": 0.015234,
     "end_time": "2025-08-06T16:47:24.884329",
     "exception": false,
     "start_time": "2025-08-06T16:47:24.869095",
     "status": "completed"
    },
    "tags": []
   },
   "outputs": [],
   "source": []
  }
 ],
 "metadata": {
  "celltoolbar": "Tags",
  "kernelspec": {
   "display_name": "Python (CMA Fairness)",
   "language": "python",
   "name": "cma_fair_env"
  },
  "language_info": {
   "codemirror_mode": {
    "name": "ipython",
    "version": 3
   },
   "file_extension": ".py",
   "mimetype": "text/x-python",
   "name": "python",
   "nbconvert_exporter": "python",
   "pygments_lexer": "ipython3",
   "version": "3.10.12"
  },
  "papermill": {
   "default_parameters": {},
   "duration": 61.990764,
   "end_time": "2025-08-06T16:47:25.618554",
   "environment_variables": {},
   "exception": null,
   "input_path": "universe_analysis.ipynb",
   "output_path": "output/runs/1/notebooks/m_1-a9efa8853fc82364bf88212eafaae09b.ipynb",
   "parameters": {
    "output_dir": "output",
    "run_no": "1",
    "seed": "2023",
    "universe": "{\"cutoff\": [\"quantile_0.1\", \"quantile_0.25\"], \"eval_fairness_grouping\": [\"majority-minority\", \"nationality-all\"], \"exclude_features\": \"sex\", \"exclude_subgroups\": \"keep-all\", \"model\": \"rf\", \"scale\": \"do-not-scale\", \"training_size\": \"25k\", \"training_year\": \"2014\"}",
    "universe_id": "a9efa8853fc82364bf88212eafaae09b"
   },
   "start_time": "2025-08-06T16:46:23.627790",
   "version": "2.6.0"
  }
 },
 "nbformat": 4,
 "nbformat_minor": 5
}