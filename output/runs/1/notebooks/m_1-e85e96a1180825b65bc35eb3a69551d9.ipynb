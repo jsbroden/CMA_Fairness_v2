{
 "cells": [
  {
   "cell_type": "markdown",
   "id": "b2057076-3a91-4cfa-9bfd-eab1e61b3068",
   "metadata": {
    "papermill": {
     "duration": 0.01734,
     "end_time": "2025-08-06T18:06:25.501957",
     "exception": false,
     "start_time": "2025-08-06T18:06:25.484617",
     "status": "completed"
    },
    "tags": []
   },
   "source": [
    "# Setup"
   ]
  },
  {
   "cell_type": "code",
   "execution_count": 1,
   "id": "f159f837-637b-42ba-96b5-ec9a68c44524",
   "metadata": {
    "execution": {
     "iopub.execute_input": "2025-08-06T18:06:25.537498Z",
     "iopub.status.busy": "2025-08-06T18:06:25.536582Z",
     "iopub.status.idle": "2025-08-06T18:06:25.550461Z",
     "shell.execute_reply": "2025-08-06T18:06:25.549428Z"
    },
    "papermill": {
     "duration": 0.033444,
     "end_time": "2025-08-06T18:06:25.552253",
     "exception": false,
     "start_time": "2025-08-06T18:06:25.518809",
     "status": "completed"
    },
    "tags": []
   },
   "outputs": [
    {
     "name": "stdout",
     "output_type": "stream",
     "text": [
      "/dss/dsshome1/0C/ra93lal2/cma/CMA_Fairness_v2\n"
     ]
    },
    {
     "name": "stderr",
     "output_type": "stream",
     "text": [
      "/dss/dsshome1/0C/ra93lal2/.local/share/virtualenvs/CMA_Fairness_v2-3j10GkSs/lib/python3.10/site-packages/IPython/core/magics/osm.py:393: UserWarning: This is now an optional IPython functionality, using bookmarks requires you to install the `pickleshare` library.\n",
      "  bkms = self.shell.db.get('bookmarks', {})\n",
      "/dss/dsshome1/0C/ra93lal2/.local/share/virtualenvs/CMA_Fairness_v2-3j10GkSs/lib/python3.10/site-packages/IPython/core/magics/osm.py:417: UserWarning: This is now an optional IPython functionality, setting dhist requires you to install the `pickleshare` library.\n",
      "  self.shell.db['dhist'] = compress_dhist(dhist)[-100:]\n"
     ]
    }
   ],
   "source": [
    "%cd ~/cma/CMA_Fairness_v2"
   ]
  },
  {
   "cell_type": "markdown",
   "id": "de2603b9",
   "metadata": {
    "papermill": {
     "duration": 0.016989,
     "end_time": "2025-08-06T18:06:25.589256",
     "exception": false,
     "start_time": "2025-08-06T18:06:25.572267",
     "status": "completed"
    },
    "tags": []
   },
   "source": [
    "The following cell holds the definition of our parameters, these values can be overriden by rendering the with e.g. the following command:\n",
    "\n",
    "papermill -p alpha 0.2 -p ratio 0.3 universe_analysis.ipynb output/test_run.ipynb"
   ]
  },
  {
   "cell_type": "code",
   "execution_count": 2,
   "id": "a80968a0-40bb-4fa9-85ef-2d5eefb01975",
   "metadata": {
    "execution": {
     "iopub.execute_input": "2025-08-06T18:06:25.624218Z",
     "iopub.status.busy": "2025-08-06T18:06:25.623524Z",
     "iopub.status.idle": "2025-08-06T18:06:25.629712Z",
     "shell.execute_reply": "2025-08-06T18:06:25.628666Z"
    },
    "papermill": {
     "duration": 0.025204,
     "end_time": "2025-08-06T18:06:25.631442",
     "exception": false,
     "start_time": "2025-08-06T18:06:25.606238",
     "status": "completed"
    },
    "tags": []
   },
   "outputs": [
    {
     "name": "stdout",
     "output_type": "stream",
     "text": [
      "Current working directory: /dss/dsshome1/0C/ra93lal2/cma/CMA_Fairness_v2\n"
     ]
    }
   ],
   "source": [
    "import os\n",
    "print(\"Current working directory:\", os.getcwd())"
   ]
  },
  {
   "cell_type": "code",
   "execution_count": 3,
   "id": "2dce4c03",
   "metadata": {
    "execution": {
     "iopub.execute_input": "2025-08-06T18:06:25.668640Z",
     "iopub.status.busy": "2025-08-06T18:06:25.667735Z",
     "iopub.status.idle": "2025-08-06T18:06:25.675726Z",
     "shell.execute_reply": "2025-08-06T18:06:25.674616Z"
    },
    "papermill": {
     "duration": 0.028366,
     "end_time": "2025-08-06T18:06:25.677374",
     "exception": false,
     "start_time": "2025-08-06T18:06:25.649008",
     "status": "completed"
    },
    "tags": [
     "parameters"
    ]
   },
   "outputs": [],
   "source": [
    "run_no = 0\n",
    "universe_id = \"test\"\n",
    "universe = {\n",
    "    \"training_size\": \"5k\", # \"25k\", \"5k\", \"1k\"\n",
    "    \"training_year\": \"2012_14\", # \"2014\", \"2012_14\", \"2010_14\"\n",
    "    \"scale\": \"scale\", # \"scale\", \"do-not-scale\",\n",
    "    \"model\": \"elasticnet\", # \"logreg\", \"penalized_logreg\", \"rf\", \"gbm\", \"elasticnet\"\n",
    "    \"cutoff\": [\"quantile_0.15\", \"quantile_0.30\"],\n",
    "    \"exclude_features\": \"age\", # \"none\", \"nationality\", \"sex\", \"nationality-sex\", \"age\"\n",
    "    \"exclude_subgroups\": \"drop-non-german\", # \"keep-all\", \"drop-non-german\"\n",
    "    \"eval_fairness_grouping\": [\"majority-minority\", \"nationality-all\"]\n",
    "}\n",
    "\n",
    "output_dir=\"./output\"\n",
    "seed=0"
   ]
  },
  {
   "cell_type": "code",
   "execution_count": 4,
   "id": "e968f006",
   "metadata": {
    "execution": {
     "iopub.execute_input": "2025-08-06T18:06:25.714032Z",
     "iopub.status.busy": "2025-08-06T18:06:25.713397Z",
     "iopub.status.idle": "2025-08-06T18:06:25.720416Z",
     "shell.execute_reply": "2025-08-06T18:06:25.719144Z"
    },
    "papermill": {
     "duration": 0.027879,
     "end_time": "2025-08-06T18:06:25.722327",
     "exception": false,
     "start_time": "2025-08-06T18:06:25.694448",
     "status": "completed"
    },
    "tags": [
     "injected-parameters"
    ]
   },
   "outputs": [],
   "source": [
    "# Parameters\n",
    "universe_id = \"e85e96a1180825b65bc35eb3a69551d9\"\n",
    "run_no = \"1\"\n",
    "universe = \"{\\\"cutoff\\\": [\\\"quantile_0.1\\\", \\\"quantile_0.25\\\"], \\\"eval_fairness_grouping\\\": [\\\"majority-minority\\\", \\\"nationality-all\\\"], \\\"exclude_features\\\": \\\"none\\\", \\\"exclude_subgroups\\\": \\\"keep-all\\\", \\\"model\\\": \\\"penalized_logreg\\\", \\\"scale\\\": \\\"scale\\\", \\\"training_size\\\": \\\"1k\\\", \\\"training_year\\\": \\\"2010_14\\\"}\"\n",
    "output_dir = \"output\"\n",
    "seed = \"2023\"\n"
   ]
  },
  {
   "cell_type": "code",
   "execution_count": 5,
   "id": "1650acaf",
   "metadata": {
    "execution": {
     "iopub.execute_input": "2025-08-06T18:06:25.758151Z",
     "iopub.status.busy": "2025-08-06T18:06:25.757644Z",
     "iopub.status.idle": "2025-08-06T18:06:25.762923Z",
     "shell.execute_reply": "2025-08-06T18:06:25.761918Z"
    },
    "papermill": {
     "duration": 0.024836,
     "end_time": "2025-08-06T18:06:25.764626",
     "exception": false,
     "start_time": "2025-08-06T18:06:25.739790",
     "status": "completed"
    },
    "tags": []
   },
   "outputs": [],
   "source": [
    "import json\n",
    "if isinstance(universe, str):\n",
    "    universe = json.loads(universe)"
   ]
  },
  {
   "cell_type": "code",
   "execution_count": 6,
   "id": "16620c48",
   "metadata": {
    "execution": {
     "iopub.execute_input": "2025-08-06T18:06:25.802022Z",
     "iopub.status.busy": "2025-08-06T18:06:25.801089Z",
     "iopub.status.idle": "2025-08-06T18:06:25.847483Z",
     "shell.execute_reply": "2025-08-06T18:06:25.846524Z"
    },
    "papermill": {
     "duration": 0.066927,
     "end_time": "2025-08-06T18:06:25.849396",
     "exception": false,
     "start_time": "2025-08-06T18:06:25.782469",
     "status": "completed"
    },
    "tags": []
   },
   "outputs": [],
   "source": [
    "# Auto-reload the custom package\n",
    "%load_ext autoreload\n",
    "%autoreload 1\n",
    "%aimport fairness_multiverse"
   ]
  },
  {
   "cell_type": "code",
   "execution_count": 7,
   "id": "01c5c9f3",
   "metadata": {
    "execution": {
     "iopub.execute_input": "2025-08-06T18:06:25.881284Z",
     "iopub.status.busy": "2025-08-06T18:06:25.880951Z",
     "iopub.status.idle": "2025-08-06T18:06:27.703488Z",
     "shell.execute_reply": "2025-08-06T18:06:27.702266Z"
    },
    "papermill": {
     "duration": 1.840352,
     "end_time": "2025-08-06T18:06:27.705609",
     "exception": false,
     "start_time": "2025-08-06T18:06:25.865257",
     "status": "completed"
    },
    "tags": []
   },
   "outputs": [],
   "source": [
    "from fairness_multiverse.universe import UniverseAnalysis\n",
    "\n",
    "universe_analysis = UniverseAnalysis(\n",
    "    run_no = run_no,\n",
    "    universe_id = universe_id,\n",
    "    universe = universe,\n",
    "    output_dir=output_dir,\n",
    ")"
   ]
  },
  {
   "cell_type": "code",
   "execution_count": 8,
   "id": "106241f5",
   "metadata": {
    "execution": {
     "iopub.execute_input": "2025-08-06T18:06:27.743489Z",
     "iopub.status.busy": "2025-08-06T18:06:27.742879Z",
     "iopub.status.idle": "2025-08-06T18:06:27.750743Z",
     "shell.execute_reply": "2025-08-06T18:06:27.749601Z"
    },
    "papermill": {
     "duration": 0.028691,
     "end_time": "2025-08-06T18:06:27.752444",
     "exception": false,
     "start_time": "2025-08-06T18:06:27.723753",
     "status": "completed"
    },
    "tags": []
   },
   "outputs": [
    {
     "name": "stdout",
     "output_type": "stream",
     "text": [
      "Using Seed: 2023\n"
     ]
    }
   ],
   "source": [
    "import numpy as np\n",
    "parsed_seed = int(seed)\n",
    "np.random.seed(parsed_seed)\n",
    "print(f\"Using Seed: {parsed_seed}\")"
   ]
  },
  {
   "cell_type": "markdown",
   "id": "e0ebdc57",
   "metadata": {
    "papermill": {
     "duration": 0.018209,
     "end_time": "2025-08-06T18:06:27.790258",
     "exception": false,
     "start_time": "2025-08-06T18:06:27.772049",
     "status": "completed"
    },
    "tags": []
   },
   "source": [
    "# Loading Data"
   ]
  },
  {
   "cell_type": "code",
   "execution_count": 9,
   "id": "f0496b8a",
   "metadata": {
    "execution": {
     "iopub.execute_input": "2025-08-06T18:06:27.828808Z",
     "iopub.status.busy": "2025-08-06T18:06:27.828188Z",
     "iopub.status.idle": "2025-08-06T18:06:40.338225Z",
     "shell.execute_reply": "2025-08-06T18:06:40.337010Z"
    },
    "papermill": {
     "duration": 12.53107,
     "end_time": "2025-08-06T18:06:40.339678",
     "exception": false,
     "start_time": "2025-08-06T18:06:27.808608",
     "status": "completed"
    },
    "tags": []
   },
   "outputs": [
    {
     "name": "stdout",
     "output_type": "stream",
     "text": [
      "Loading SIAB data from cache: data/siab_cached.csv.gz\n"
     ]
    },
    {
     "name": "stdout",
     "output_type": "stream",
     "text": [
      "(643690, 164)\n"
     ]
    }
   ],
   "source": [
    "from pathlib import Path\n",
    "import pandas as pd\n",
    "\n",
    "# File paths\n",
    "raw_file = Path(\"data/raw/siab.csv\")\n",
    "cache_file = Path(\"data/siab_cached.csv.gz\")\n",
    "\n",
    "# Ensure cache directory exists\n",
    "cache_file.parent.mkdir(parents=True, exist_ok=True)\n",
    "\n",
    "# Load with simple caching\n",
    "if cache_file.exists():\n",
    "    print(f\"Loading SIAB data from cache: {cache_file}\")\n",
    "    siab = pd.read_csv(cache_file, compression='gzip')\n",
    "else:\n",
    "    print(f\"Cache not found. Reading raw SIAB data: {raw_file}\")\n",
    "    siab = pd.read_csv(raw_file)\n",
    "    siab.to_csv(cache_file, index=False, compression='gzip')\n",
    "    print(f\"Cached SIAB data to: {cache_file}\")\n",
    "\n",
    "print(siab.shape)"
   ]
  },
  {
   "cell_type": "code",
   "execution_count": 10,
   "id": "db0ca512-5f53-4dba-abdb-a2888bca41ba",
   "metadata": {
    "execution": {
     "iopub.execute_input": "2025-08-06T18:06:40.381403Z",
     "iopub.status.busy": "2025-08-06T18:06:40.380666Z",
     "iopub.status.idle": "2025-08-06T18:06:40.496476Z",
     "shell.execute_reply": "2025-08-06T18:06:40.495174Z"
    },
    "papermill": {
     "duration": 0.143415,
     "end_time": "2025-08-06T18:06:40.503191",
     "exception": false,
     "start_time": "2025-08-06T18:06:40.359776",
     "status": "completed"
    },
    "tags": []
   },
   "outputs": [
    {
     "data": {
      "text/html": [
       "<div>\n",
       "<style scoped>\n",
       "    .dataframe tbody tr th:only-of-type {\n",
       "        vertical-align: middle;\n",
       "    }\n",
       "\n",
       "    .dataframe tbody tr th {\n",
       "        vertical-align: top;\n",
       "    }\n",
       "\n",
       "    .dataframe thead th {\n",
       "        text-align: right;\n",
       "    }\n",
       "</style>\n",
       "<table border=\"1\" class=\"dataframe\">\n",
       "  <thead>\n",
       "    <tr style=\"text-align: right;\">\n",
       "      <th></th>\n",
       "      <th>persnr</th>\n",
       "      <th>year</th>\n",
       "      <th>nrEntry</th>\n",
       "      <th>ltue</th>\n",
       "      <th>employed_before</th>\n",
       "      <th>receipt_leh_before</th>\n",
       "      <th>receipt_lhg_before</th>\n",
       "      <th>se_before</th>\n",
       "      <th>ASU_notue_seeking_before</th>\n",
       "      <th>ASU_other_before</th>\n",
       "      <th>...</th>\n",
       "      <th>minijob_tot_dur_byage</th>\n",
       "      <th>ft_tot_dur_byage</th>\n",
       "      <th>befrist_tot_dur_byage</th>\n",
       "      <th>leih_tot_dur_byage</th>\n",
       "      <th>LHG_tot_dur_byage</th>\n",
       "      <th>LEH_tot_dur_byage</th>\n",
       "      <th>almp_tot_dur_byage</th>\n",
       "      <th>almp_aw_tot_dur_byage</th>\n",
       "      <th>se_tot_dur_byage</th>\n",
       "      <th>seeking1_tot_dur_byage</th>\n",
       "    </tr>\n",
       "  </thead>\n",
       "  <tbody>\n",
       "    <tr>\n",
       "      <th>0</th>\n",
       "      <td>7</td>\n",
       "      <td>2015</td>\n",
       "      <td>1</td>\n",
       "      <td>0</td>\n",
       "      <td>1</td>\n",
       "      <td>0</td>\n",
       "      <td>0</td>\n",
       "      <td>0</td>\n",
       "      <td>1</td>\n",
       "      <td>0</td>\n",
       "      <td>...</td>\n",
       "      <td>0.000000</td>\n",
       "      <td>0.000000</td>\n",
       "      <td>15.043478</td>\n",
       "      <td>0.000000</td>\n",
       "      <td>0.000000</td>\n",
       "      <td>0.000000</td>\n",
       "      <td>0.000000</td>\n",
       "      <td>0.000000</td>\n",
       "      <td>0.000000</td>\n",
       "      <td>0.000000</td>\n",
       "    </tr>\n",
       "    <tr>\n",
       "      <th>1</th>\n",
       "      <td>18</td>\n",
       "      <td>2010</td>\n",
       "      <td>1</td>\n",
       "      <td>1</td>\n",
       "      <td>0</td>\n",
       "      <td>0</td>\n",
       "      <td>0</td>\n",
       "      <td>0</td>\n",
       "      <td>0</td>\n",
       "      <td>0</td>\n",
       "      <td>...</td>\n",
       "      <td>0.000000</td>\n",
       "      <td>0.000000</td>\n",
       "      <td>0.000000</td>\n",
       "      <td>0.000000</td>\n",
       "      <td>0.000000</td>\n",
       "      <td>0.000000</td>\n",
       "      <td>0.000000</td>\n",
       "      <td>0.000000</td>\n",
       "      <td>0.000000</td>\n",
       "      <td>0.000000</td>\n",
       "    </tr>\n",
       "    <tr>\n",
       "      <th>2</th>\n",
       "      <td>18</td>\n",
       "      <td>2011</td>\n",
       "      <td>2</td>\n",
       "      <td>0</td>\n",
       "      <td>1</td>\n",
       "      <td>0</td>\n",
       "      <td>1</td>\n",
       "      <td>0</td>\n",
       "      <td>1</td>\n",
       "      <td>0</td>\n",
       "      <td>...</td>\n",
       "      <td>2.714286</td>\n",
       "      <td>2.714286</td>\n",
       "      <td>0.000000</td>\n",
       "      <td>0.000000</td>\n",
       "      <td>10.775510</td>\n",
       "      <td>0.000000</td>\n",
       "      <td>8.367347</td>\n",
       "      <td>0.000000</td>\n",
       "      <td>0.000000</td>\n",
       "      <td>9.836735</td>\n",
       "    </tr>\n",
       "    <tr>\n",
       "      <th>3</th>\n",
       "      <td>18</td>\n",
       "      <td>2012</td>\n",
       "      <td>3</td>\n",
       "      <td>0</td>\n",
       "      <td>1</td>\n",
       "      <td>0</td>\n",
       "      <td>1</td>\n",
       "      <td>0</td>\n",
       "      <td>1</td>\n",
       "      <td>0</td>\n",
       "      <td>...</td>\n",
       "      <td>4.200000</td>\n",
       "      <td>4.200000</td>\n",
       "      <td>0.000000</td>\n",
       "      <td>0.000000</td>\n",
       "      <td>12.100000</td>\n",
       "      <td>0.000000</td>\n",
       "      <td>9.400000</td>\n",
       "      <td>0.000000</td>\n",
       "      <td>0.000000</td>\n",
       "      <td>9.960000</td>\n",
       "    </tr>\n",
       "    <tr>\n",
       "      <th>4</th>\n",
       "      <td>18</td>\n",
       "      <td>2012</td>\n",
       "      <td>4</td>\n",
       "      <td>0</td>\n",
       "      <td>1</td>\n",
       "      <td>0</td>\n",
       "      <td>1</td>\n",
       "      <td>0</td>\n",
       "      <td>1</td>\n",
       "      <td>0</td>\n",
       "      <td>...</td>\n",
       "      <td>5.460000</td>\n",
       "      <td>5.460000</td>\n",
       "      <td>0.000000</td>\n",
       "      <td>0.000000</td>\n",
       "      <td>13.360000</td>\n",
       "      <td>0.000000</td>\n",
       "      <td>10.320000</td>\n",
       "      <td>0.000000</td>\n",
       "      <td>0.000000</td>\n",
       "      <td>10.280000</td>\n",
       "    </tr>\n",
       "    <tr>\n",
       "      <th>...</th>\n",
       "      <td>...</td>\n",
       "      <td>...</td>\n",
       "      <td>...</td>\n",
       "      <td>...</td>\n",
       "      <td>...</td>\n",
       "      <td>...</td>\n",
       "      <td>...</td>\n",
       "      <td>...</td>\n",
       "      <td>...</td>\n",
       "      <td>...</td>\n",
       "      <td>...</td>\n",
       "      <td>...</td>\n",
       "      <td>...</td>\n",
       "      <td>...</td>\n",
       "      <td>...</td>\n",
       "      <td>...</td>\n",
       "      <td>...</td>\n",
       "      <td>...</td>\n",
       "      <td>...</td>\n",
       "      <td>...</td>\n",
       "      <td>...</td>\n",
       "    </tr>\n",
       "    <tr>\n",
       "      <th>643685</th>\n",
       "      <td>1827860</td>\n",
       "      <td>2013</td>\n",
       "      <td>1</td>\n",
       "      <td>0</td>\n",
       "      <td>0</td>\n",
       "      <td>0</td>\n",
       "      <td>1</td>\n",
       "      <td>0</td>\n",
       "      <td>0</td>\n",
       "      <td>1</td>\n",
       "      <td>...</td>\n",
       "      <td>0.000000</td>\n",
       "      <td>0.000000</td>\n",
       "      <td>0.000000</td>\n",
       "      <td>0.000000</td>\n",
       "      <td>0.612903</td>\n",
       "      <td>0.000000</td>\n",
       "      <td>0.000000</td>\n",
       "      <td>0.000000</td>\n",
       "      <td>0.000000</td>\n",
       "      <td>0.000000</td>\n",
       "    </tr>\n",
       "    <tr>\n",
       "      <th>643686</th>\n",
       "      <td>1827860</td>\n",
       "      <td>2015</td>\n",
       "      <td>2</td>\n",
       "      <td>1</td>\n",
       "      <td>0</td>\n",
       "      <td>0</td>\n",
       "      <td>1</td>\n",
       "      <td>0</td>\n",
       "      <td>1</td>\n",
       "      <td>0</td>\n",
       "      <td>...</td>\n",
       "      <td>0.000000</td>\n",
       "      <td>0.000000</td>\n",
       "      <td>0.212121</td>\n",
       "      <td>0.212121</td>\n",
       "      <td>17.363636</td>\n",
       "      <td>0.000000</td>\n",
       "      <td>8.909091</td>\n",
       "      <td>0.000000</td>\n",
       "      <td>0.000000</td>\n",
       "      <td>7.121212</td>\n",
       "    </tr>\n",
       "    <tr>\n",
       "      <th>643687</th>\n",
       "      <td>1827860</td>\n",
       "      <td>2016</td>\n",
       "      <td>3</td>\n",
       "      <td>1</td>\n",
       "      <td>0</td>\n",
       "      <td>0</td>\n",
       "      <td>1</td>\n",
       "      <td>1</td>\n",
       "      <td>0</td>\n",
       "      <td>1</td>\n",
       "      <td>...</td>\n",
       "      <td>0.000000</td>\n",
       "      <td>0.000000</td>\n",
       "      <td>0.294118</td>\n",
       "      <td>0.205882</td>\n",
       "      <td>34.705882</td>\n",
       "      <td>0.000000</td>\n",
       "      <td>10.352941</td>\n",
       "      <td>1.705882</td>\n",
       "      <td>1.705882</td>\n",
       "      <td>23.911765</td>\n",
       "    </tr>\n",
       "    <tr>\n",
       "      <th>643688</th>\n",
       "      <td>1827869</td>\n",
       "      <td>2013</td>\n",
       "      <td>1</td>\n",
       "      <td>1</td>\n",
       "      <td>1</td>\n",
       "      <td>0</td>\n",
       "      <td>0</td>\n",
       "      <td>0</td>\n",
       "      <td>1</td>\n",
       "      <td>0</td>\n",
       "      <td>...</td>\n",
       "      <td>0.000000</td>\n",
       "      <td>0.000000</td>\n",
       "      <td>0.000000</td>\n",
       "      <td>0.000000</td>\n",
       "      <td>0.000000</td>\n",
       "      <td>0.525424</td>\n",
       "      <td>0.000000</td>\n",
       "      <td>0.000000</td>\n",
       "      <td>0.000000</td>\n",
       "      <td>0.000000</td>\n",
       "    </tr>\n",
       "    <tr>\n",
       "      <th>643689</th>\n",
       "      <td>1827869</td>\n",
       "      <td>2014</td>\n",
       "      <td>2</td>\n",
       "      <td>0</td>\n",
       "      <td>0</td>\n",
       "      <td>1</td>\n",
       "      <td>0</td>\n",
       "      <td>0</td>\n",
       "      <td>1</td>\n",
       "      <td>0</td>\n",
       "      <td>...</td>\n",
       "      <td>0.000000</td>\n",
       "      <td>0.666667</td>\n",
       "      <td>0.666667</td>\n",
       "      <td>0.000000</td>\n",
       "      <td>0.000000</td>\n",
       "      <td>8.950000</td>\n",
       "      <td>1.033333</td>\n",
       "      <td>0.083333</td>\n",
       "      <td>0.083333</td>\n",
       "      <td>8.133333</td>\n",
       "    </tr>\n",
       "  </tbody>\n",
       "</table>\n",
       "<p>643690 rows × 164 columns</p>\n",
       "</div>"
      ],
      "text/plain": [
       "         persnr  year  nrEntry  ltue  employed_before  receipt_leh_before  \\\n",
       "0             7  2015        1     0                1                   0   \n",
       "1            18  2010        1     1                0                   0   \n",
       "2            18  2011        2     0                1                   0   \n",
       "3            18  2012        3     0                1                   0   \n",
       "4            18  2012        4     0                1                   0   \n",
       "...         ...   ...      ...   ...              ...                 ...   \n",
       "643685  1827860  2013        1     0                0                   0   \n",
       "643686  1827860  2015        2     1                0                   0   \n",
       "643687  1827860  2016        3     1                0                   0   \n",
       "643688  1827869  2013        1     1                1                   0   \n",
       "643689  1827869  2014        2     0                0                   1   \n",
       "\n",
       "        receipt_lhg_before  se_before  ASU_notue_seeking_before  \\\n",
       "0                        0          0                         1   \n",
       "1                        0          0                         0   \n",
       "2                        1          0                         1   \n",
       "3                        1          0                         1   \n",
       "4                        1          0                         1   \n",
       "...                    ...        ...                       ...   \n",
       "643685                   1          0                         0   \n",
       "643686                   1          0                         1   \n",
       "643687                   1          1                         0   \n",
       "643688                   0          0                         1   \n",
       "643689                   0          0                         1   \n",
       "\n",
       "        ASU_other_before  ...  minijob_tot_dur_byage  ft_tot_dur_byage  \\\n",
       "0                      0  ...               0.000000          0.000000   \n",
       "1                      0  ...               0.000000          0.000000   \n",
       "2                      0  ...               2.714286          2.714286   \n",
       "3                      0  ...               4.200000          4.200000   \n",
       "4                      0  ...               5.460000          5.460000   \n",
       "...                  ...  ...                    ...               ...   \n",
       "643685                 1  ...               0.000000          0.000000   \n",
       "643686                 0  ...               0.000000          0.000000   \n",
       "643687                 1  ...               0.000000          0.000000   \n",
       "643688                 0  ...               0.000000          0.000000   \n",
       "643689                 0  ...               0.000000          0.666667   \n",
       "\n",
       "        befrist_tot_dur_byage  leih_tot_dur_byage  LHG_tot_dur_byage  \\\n",
       "0                   15.043478            0.000000           0.000000   \n",
       "1                    0.000000            0.000000           0.000000   \n",
       "2                    0.000000            0.000000          10.775510   \n",
       "3                    0.000000            0.000000          12.100000   \n",
       "4                    0.000000            0.000000          13.360000   \n",
       "...                       ...                 ...                ...   \n",
       "643685               0.000000            0.000000           0.612903   \n",
       "643686               0.212121            0.212121          17.363636   \n",
       "643687               0.294118            0.205882          34.705882   \n",
       "643688               0.000000            0.000000           0.000000   \n",
       "643689               0.666667            0.000000           0.000000   \n",
       "\n",
       "        LEH_tot_dur_byage  almp_tot_dur_byage  almp_aw_tot_dur_byage  \\\n",
       "0                0.000000            0.000000               0.000000   \n",
       "1                0.000000            0.000000               0.000000   \n",
       "2                0.000000            8.367347               0.000000   \n",
       "3                0.000000            9.400000               0.000000   \n",
       "4                0.000000           10.320000               0.000000   \n",
       "...                   ...                 ...                    ...   \n",
       "643685           0.000000            0.000000               0.000000   \n",
       "643686           0.000000            8.909091               0.000000   \n",
       "643687           0.000000           10.352941               1.705882   \n",
       "643688           0.525424            0.000000               0.000000   \n",
       "643689           8.950000            1.033333               0.083333   \n",
       "\n",
       "        se_tot_dur_byage  seeking1_tot_dur_byage  \n",
       "0               0.000000                0.000000  \n",
       "1               0.000000                0.000000  \n",
       "2               0.000000                9.836735  \n",
       "3               0.000000                9.960000  \n",
       "4               0.000000               10.280000  \n",
       "...                  ...                     ...  \n",
       "643685          0.000000                0.000000  \n",
       "643686          0.000000                7.121212  \n",
       "643687          1.705882               23.911765  \n",
       "643688          0.000000                0.000000  \n",
       "643689          0.083333                8.133333  \n",
       "\n",
       "[643690 rows x 164 columns]"
      ]
     },
     "execution_count": 10,
     "metadata": {},
     "output_type": "execute_result"
    }
   ],
   "source": [
    "siab"
   ]
  },
  {
   "cell_type": "markdown",
   "id": "997051c5-15bd-4b69-9786-c3001a3ce484",
   "metadata": {
    "papermill": {
     "duration": 0.019436,
     "end_time": "2025-08-06T18:06:40.544288",
     "exception": false,
     "start_time": "2025-08-06T18:06:40.524852",
     "status": "completed"
    },
    "tags": []
   },
   "source": [
    "# Splitting Data and Setting Training Data Size"
   ]
  },
  {
   "cell_type": "code",
   "execution_count": 11,
   "id": "aea9c6ef-6f46-42c8-85eb-5a62025c1508",
   "metadata": {
    "execution": {
     "iopub.execute_input": "2025-08-06T18:06:40.585848Z",
     "iopub.status.busy": "2025-08-06T18:06:40.585379Z",
     "iopub.status.idle": "2025-08-06T18:06:41.655778Z",
     "shell.execute_reply": "2025-08-06T18:06:41.654823Z"
    },
    "papermill": {
     "duration": 1.093334,
     "end_time": "2025-08-06T18:06:41.657731",
     "exception": false,
     "start_time": "2025-08-06T18:06:40.564397",
     "status": "completed"
    },
    "tags": []
   },
   "outputs": [],
   "source": [
    "from fairness_multiverse.universe import sample_by_year_size\n",
    "\n",
    "siab_train = sample_by_year_size(siab,\n",
    "                               training_year=universe[\"training_year\"],\n",
    "                               training_size=universe[\"training_size\"])"
   ]
  },
  {
   "cell_type": "code",
   "execution_count": 12,
   "id": "8d3afb32-789d-442c-8d5d-9f5aa8dd2eed",
   "metadata": {
    "execution": {
     "iopub.execute_input": "2025-08-06T18:06:41.701284Z",
     "iopub.status.busy": "2025-08-06T18:06:41.700799Z",
     "iopub.status.idle": "2025-08-06T18:06:41.708220Z",
     "shell.execute_reply": "2025-08-06T18:06:41.707194Z"
    },
    "papermill": {
     "duration": 0.031983,
     "end_time": "2025-08-06T18:06:41.709897",
     "exception": false,
     "start_time": "2025-08-06T18:06:41.677914",
     "status": "completed"
    },
    "tags": []
   },
   "outputs": [
    {
     "data": {
      "text/plain": [
       "(1000, 164)"
      ]
     },
     "execution_count": 12,
     "metadata": {},
     "output_type": "execute_result"
    }
   ],
   "source": [
    "siab_train.shape"
   ]
  },
  {
   "cell_type": "code",
   "execution_count": 13,
   "id": "d582db68-1a4c-47fb-84fc-08518dc1975a",
   "metadata": {
    "execution": {
     "iopub.execute_input": "2025-08-06T18:06:41.753823Z",
     "iopub.status.busy": "2025-08-06T18:06:41.753229Z",
     "iopub.status.idle": "2025-08-06T18:06:41.763296Z",
     "shell.execute_reply": "2025-08-06T18:06:41.762381Z"
    },
    "papermill": {
     "duration": 0.033951,
     "end_time": "2025-08-06T18:06:41.765073",
     "exception": false,
     "start_time": "2025-08-06T18:06:41.731122",
     "status": "completed"
    },
    "tags": []
   },
   "outputs": [
    {
     "data": {
      "text/plain": [
       "year\n",
       "2010    200\n",
       "2011    200\n",
       "2012    200\n",
       "2013    200\n",
       "2014    200\n",
       "dtype: int64"
      ]
     },
     "metadata": {},
     "output_type": "display_data"
    }
   ],
   "source": [
    "display(siab_train.groupby(\"year\").size())"
   ]
  },
  {
   "cell_type": "code",
   "execution_count": 14,
   "id": "a561edb4-d032-42cb-8256-22eac1111c64",
   "metadata": {
    "execution": {
     "iopub.execute_input": "2025-08-06T18:06:41.787831Z",
     "iopub.status.busy": "2025-08-06T18:06:41.787386Z",
     "iopub.status.idle": "2025-08-06T18:06:42.051467Z",
     "shell.execute_reply": "2025-08-06T18:06:42.050441Z"
    },
    "papermill": {
     "duration": 0.277147,
     "end_time": "2025-08-06T18:06:42.053794",
     "exception": false,
     "start_time": "2025-08-06T18:06:41.776647",
     "status": "completed"
    },
    "tags": []
   },
   "outputs": [],
   "source": [
    "#siab_train = siab_s[siab_s.year < 2015]\n",
    "siab_calib = siab[siab.year == 2015]\n",
    "siab_test = siab[siab.year == 2016]"
   ]
  },
  {
   "cell_type": "code",
   "execution_count": 15,
   "id": "472de16f-c3db-4916-846b-1f0de9cf1746",
   "metadata": {
    "execution": {
     "iopub.execute_input": "2025-08-06T18:06:42.095517Z",
     "iopub.status.busy": "2025-08-06T18:06:42.094904Z",
     "iopub.status.idle": "2025-08-06T18:06:42.102942Z",
     "shell.execute_reply": "2025-08-06T18:06:42.101909Z"
    },
    "papermill": {
     "duration": 0.034202,
     "end_time": "2025-08-06T18:06:42.104968",
     "exception": false,
     "start_time": "2025-08-06T18:06:42.070766",
     "status": "completed"
    },
    "tags": []
   },
   "outputs": [],
   "source": [
    "X_train = siab_train.iloc[:,4:164]\n",
    "y_train = siab_train.iloc[:, [3]]"
   ]
  },
  {
   "cell_type": "code",
   "execution_count": 16,
   "id": "828c96af-f43a-4ed6-ba47-8ac73a47d56c",
   "metadata": {
    "execution": {
     "iopub.execute_input": "2025-08-06T18:06:42.157797Z",
     "iopub.status.busy": "2025-08-06T18:06:42.156736Z",
     "iopub.status.idle": "2025-08-06T18:06:42.207302Z",
     "shell.execute_reply": "2025-08-06T18:06:42.206135Z"
    },
    "papermill": {
     "duration": 0.079677,
     "end_time": "2025-08-06T18:06:42.210073",
     "exception": false,
     "start_time": "2025-08-06T18:06:42.130396",
     "status": "completed"
    },
    "tags": []
   },
   "outputs": [],
   "source": [
    "X_calib = siab_calib.iloc[:,4:164]\n",
    "y_calib = siab_calib.iloc[:, [3]]"
   ]
  },
  {
   "cell_type": "code",
   "execution_count": 17,
   "id": "c34be9c3-6bd6-476e-acd3-845840e303be",
   "metadata": {
    "execution": {
     "iopub.execute_input": "2025-08-06T18:06:42.256432Z",
     "iopub.status.busy": "2025-08-06T18:06:42.255544Z",
     "iopub.status.idle": "2025-08-06T18:06:42.311307Z",
     "shell.execute_reply": "2025-08-06T18:06:42.310160Z"
    },
    "papermill": {
     "duration": 0.0783,
     "end_time": "2025-08-06T18:06:42.313351",
     "exception": false,
     "start_time": "2025-08-06T18:06:42.235051",
     "status": "completed"
    },
    "tags": []
   },
   "outputs": [],
   "source": [
    "X_test = siab_test.iloc[:,4:164]\n",
    "y_true = siab_test.iloc[:, [3]]"
   ]
  },
  {
   "cell_type": "code",
   "execution_count": 18,
   "id": "e6c733c5",
   "metadata": {
    "execution": {
     "iopub.execute_input": "2025-08-06T18:06:42.360446Z",
     "iopub.status.busy": "2025-08-06T18:06:42.359895Z",
     "iopub.status.idle": "2025-08-06T18:06:42.454525Z",
     "shell.execute_reply": "2025-08-06T18:06:42.453808Z"
    },
    "papermill": {
     "duration": 0.114163,
     "end_time": "2025-08-06T18:06:42.456385",
     "exception": false,
     "start_time": "2025-08-06T18:06:42.342222",
     "status": "completed"
    },
    "tags": []
   },
   "outputs": [],
   "source": [
    "# Auxiliary data needed downstream in the pipeline\n",
    "\n",
    "org_train = X_train.copy()\n",
    "org_test = X_test.copy()\n",
    "org_calib = X_calib.copy()"
   ]
  },
  {
   "cell_type": "markdown",
   "id": "0a4a1b33",
   "metadata": {
    "papermill": {
     "duration": 0.020495,
     "end_time": "2025-08-06T18:06:42.497949",
     "exception": false,
     "start_time": "2025-08-06T18:06:42.477454",
     "status": "completed"
    },
    "tags": []
   },
   "source": [
    "# Preprocessing Data"
   ]
  },
  {
   "cell_type": "code",
   "execution_count": 19,
   "id": "ca879031",
   "metadata": {
    "execution": {
     "iopub.execute_input": "2025-08-06T18:06:42.539927Z",
     "iopub.status.busy": "2025-08-06T18:06:42.539315Z",
     "iopub.status.idle": "2025-08-06T18:06:42.544334Z",
     "shell.execute_reply": "2025-08-06T18:06:42.543502Z"
    },
    "papermill": {
     "duration": 0.027296,
     "end_time": "2025-08-06T18:06:42.545537",
     "exception": false,
     "start_time": "2025-08-06T18:06:42.518241",
     "status": "completed"
    },
    "tags": []
   },
   "outputs": [],
   "source": [
    "# EXCLUDE PROTECTED FEATURES\n",
    "# --------------------------\n",
    "\n",
    "excluded_features = universe[\"exclude_features\"].split(\"-\")\n",
    "excluded_features_dictionary = {\n",
    "    \"nationality\": [\"maxdeutsch1\", \"maxdeutsch.Missing.\"],\n",
    "    \"sex\": [\"frau1\"],\n",
    "    \"age\": [\"age\"],\n",
    "}"
   ]
  },
  {
   "cell_type": "code",
   "execution_count": 20,
   "id": "b745ac60",
   "metadata": {
    "execution": {
     "iopub.execute_input": "2025-08-06T18:06:42.566644Z",
     "iopub.status.busy": "2025-08-06T18:06:42.566173Z",
     "iopub.status.idle": "2025-08-06T18:06:42.571042Z",
     "shell.execute_reply": "2025-08-06T18:06:42.570122Z"
    },
    "papermill": {
     "duration": 0.016307,
     "end_time": "2025-08-06T18:06:42.572285",
     "exception": false,
     "start_time": "2025-08-06T18:06:42.555978",
     "status": "completed"
    },
    "tags": []
   },
   "outputs": [],
   "source": [
    "excluded_features_columns = [\n",
    "    excluded_features_dictionary[f] for f in excluded_features if len(f) > 0 and f != \"none\"\n",
    "]"
   ]
  },
  {
   "cell_type": "code",
   "execution_count": 21,
   "id": "f84f73a2",
   "metadata": {
    "execution": {
     "iopub.execute_input": "2025-08-06T18:06:42.593733Z",
     "iopub.status.busy": "2025-08-06T18:06:42.593312Z",
     "iopub.status.idle": "2025-08-06T18:06:42.597737Z",
     "shell.execute_reply": "2025-08-06T18:06:42.596879Z"
    },
    "papermill": {
     "duration": 0.016331,
     "end_time": "2025-08-06T18:06:42.598984",
     "exception": false,
     "start_time": "2025-08-06T18:06:42.582653",
     "status": "completed"
    },
    "tags": []
   },
   "outputs": [],
   "source": [
    "from fairness_multiverse.universe import flatten_once\n",
    "\n",
    "excluded_features_columns = flatten_once(excluded_features_columns)"
   ]
  },
  {
   "cell_type": "code",
   "execution_count": 22,
   "id": "884dea22",
   "metadata": {
    "execution": {
     "iopub.execute_input": "2025-08-06T18:06:42.629739Z",
     "iopub.status.busy": "2025-08-06T18:06:42.629233Z",
     "iopub.status.idle": "2025-08-06T18:06:42.635648Z",
     "shell.execute_reply": "2025-08-06T18:06:42.634455Z"
    },
    "papermill": {
     "duration": 0.03741,
     "end_time": "2025-08-06T18:06:42.646789",
     "exception": false,
     "start_time": "2025-08-06T18:06:42.609379",
     "status": "completed"
    },
    "tags": []
   },
   "outputs": [],
   "source": [
    "if len(excluded_features_columns) > 0:\n",
    "    print(f\"Dropping features: {excluded_features_columns}\")\n",
    "    X_train.drop(excluded_features_columns, axis=1, inplace=True)"
   ]
  },
  {
   "cell_type": "code",
   "execution_count": 23,
   "id": "95ab8b16",
   "metadata": {
    "execution": {
     "iopub.execute_input": "2025-08-06T18:06:42.685990Z",
     "iopub.status.busy": "2025-08-06T18:06:42.685485Z",
     "iopub.status.idle": "2025-08-06T18:06:42.692153Z",
     "shell.execute_reply": "2025-08-06T18:06:42.691110Z"
    },
    "papermill": {
     "duration": 0.030126,
     "end_time": "2025-08-06T18:06:42.693755",
     "exception": false,
     "start_time": "2025-08-06T18:06:42.663629",
     "status": "completed"
    },
    "tags": []
   },
   "outputs": [],
   "source": [
    "if len(excluded_features_columns) > 0:\n",
    "    print(f\"Dropping features: {excluded_features_columns}\")\n",
    "    X_test.drop(excluded_features_columns, axis=1, inplace=True)"
   ]
  },
  {
   "cell_type": "code",
   "execution_count": 24,
   "id": "1853aaf5-fb9f-46cb-a2b5-8ea4ae2237e4",
   "metadata": {
    "execution": {
     "iopub.execute_input": "2025-08-06T18:06:42.723980Z",
     "iopub.status.busy": "2025-08-06T18:06:42.723636Z",
     "iopub.status.idle": "2025-08-06T18:06:42.728570Z",
     "shell.execute_reply": "2025-08-06T18:06:42.727860Z"
    },
    "papermill": {
     "duration": 0.018525,
     "end_time": "2025-08-06T18:06:42.729876",
     "exception": false,
     "start_time": "2025-08-06T18:06:42.711351",
     "status": "completed"
    },
    "tags": []
   },
   "outputs": [],
   "source": [
    "if len(excluded_features_columns) > 0:\n",
    "    print(f\"Dropping features: {excluded_features_columns}\")\n",
    "    X_calib.drop(excluded_features_columns, axis=1, inplace=True)"
   ]
  },
  {
   "cell_type": "code",
   "execution_count": 25,
   "id": "76c4dc6d",
   "metadata": {
    "execution": {
     "iopub.execute_input": "2025-08-06T18:06:42.751734Z",
     "iopub.status.busy": "2025-08-06T18:06:42.751235Z",
     "iopub.status.idle": "2025-08-06T18:06:42.756213Z",
     "shell.execute_reply": "2025-08-06T18:06:42.755517Z"
    },
    "papermill": {
     "duration": 0.017369,
     "end_time": "2025-08-06T18:06:42.757782",
     "exception": false,
     "start_time": "2025-08-06T18:06:42.740413",
     "status": "completed"
    },
    "tags": []
   },
   "outputs": [],
   "source": [
    "# EXCLUDE CERTAIN SUBGROUPS\n",
    "# -------------------------\n",
    "\n",
    "mode = universe.get(\"exclude_subgroups\", \"keep-all\") # Defaults to \"keep-all\" if the key is missing."
   ]
  },
  {
   "cell_type": "code",
   "execution_count": 26,
   "id": "21994072",
   "metadata": {
    "execution": {
     "iopub.execute_input": "2025-08-06T18:06:42.785561Z",
     "iopub.status.busy": "2025-08-06T18:06:42.785051Z",
     "iopub.status.idle": "2025-08-06T18:06:42.790806Z",
     "shell.execute_reply": "2025-08-06T18:06:42.790028Z"
    },
    "papermill": {
     "duration": 0.018616,
     "end_time": "2025-08-06T18:06:42.792153",
     "exception": false,
     "start_time": "2025-08-06T18:06:42.773537",
     "status": "completed"
    },
    "tags": []
   },
   "outputs": [],
   "source": [
    "if mode == \"keep-all\":\n",
    "    keep_mask = pd.Series(True, index=org_train.index)\n",
    "\n",
    "elif mode == \"drop-non-german\":\n",
    "    keep_mask = (org_train[\"maxdeutsch1\"] == 1) & (org_train[\"maxdeutsch.Missing.\"] == 0)\n",
    "\n",
    "else:\n",
    "    raise ValueError(f\"Unsupported mode for exclude_subgroups: {mode}\")"
   ]
  },
  {
   "cell_type": "code",
   "execution_count": 27,
   "id": "71651440",
   "metadata": {
    "execution": {
     "iopub.execute_input": "2025-08-06T18:06:42.814819Z",
     "iopub.status.busy": "2025-08-06T18:06:42.814371Z",
     "iopub.status.idle": "2025-08-06T18:06:42.821991Z",
     "shell.execute_reply": "2025-08-06T18:06:42.820895Z"
    },
    "papermill": {
     "duration": 0.020958,
     "end_time": "2025-08-06T18:06:42.824116",
     "exception": false,
     "start_time": "2025-08-06T18:06:42.803158",
     "status": "completed"
    },
    "tags": []
   },
   "outputs": [],
   "source": [
    "n_drop = (~keep_mask).sum() # Calculates how many rows are set to be dropped\n",
    "if n_drop > 0:\n",
    "    pct = n_drop / len(keep_mask) * 100\n",
    "    print(f\"Dropping {n_drop} rows ({pct:.2f}%) where mode='{mode}'\")"
   ]
  },
  {
   "cell_type": "code",
   "execution_count": 28,
   "id": "5fb8eee5",
   "metadata": {
    "execution": {
     "iopub.execute_input": "2025-08-06T18:06:42.875779Z",
     "iopub.status.busy": "2025-08-06T18:06:42.875387Z",
     "iopub.status.idle": "2025-08-06T18:06:42.881292Z",
     "shell.execute_reply": "2025-08-06T18:06:42.880571Z"
    },
    "papermill": {
     "duration": 0.029371,
     "end_time": "2025-08-06T18:06:42.882537",
     "exception": false,
     "start_time": "2025-08-06T18:06:42.853166",
     "status": "completed"
    },
    "tags": []
   },
   "outputs": [],
   "source": [
    "X_train = X_train[keep_mask]"
   ]
  },
  {
   "cell_type": "code",
   "execution_count": 29,
   "id": "b202bb3a",
   "metadata": {
    "execution": {
     "iopub.execute_input": "2025-08-06T18:06:42.903862Z",
     "iopub.status.busy": "2025-08-06T18:06:42.903313Z",
     "iopub.status.idle": "2025-08-06T18:06:42.907862Z",
     "shell.execute_reply": "2025-08-06T18:06:42.907124Z"
    },
    "papermill": {
     "duration": 0.016233,
     "end_time": "2025-08-06T18:06:42.909146",
     "exception": false,
     "start_time": "2025-08-06T18:06:42.892913",
     "status": "completed"
    },
    "tags": []
   },
   "outputs": [],
   "source": [
    "y_train = y_train[keep_mask]"
   ]
  },
  {
   "cell_type": "markdown",
   "id": "493e2ac3",
   "metadata": {
    "papermill": {
     "duration": 0.028055,
     "end_time": "2025-08-06T18:06:42.950982",
     "exception": false,
     "start_time": "2025-08-06T18:06:42.922927",
     "status": "completed"
    },
    "tags": []
   },
   "source": [
    "# Model Training"
   ]
  },
  {
   "cell_type": "code",
   "execution_count": 30,
   "id": "679e1268",
   "metadata": {
    "execution": {
     "iopub.execute_input": "2025-08-06T18:06:42.983879Z",
     "iopub.status.busy": "2025-08-06T18:06:42.983536Z",
     "iopub.status.idle": "2025-08-06T18:06:43.079816Z",
     "shell.execute_reply": "2025-08-06T18:06:43.079062Z"
    },
    "papermill": {
     "duration": 0.109183,
     "end_time": "2025-08-06T18:06:43.081531",
     "exception": false,
     "start_time": "2025-08-06T18:06:42.972348",
     "status": "completed"
    },
    "tags": []
   },
   "outputs": [],
   "source": [
    "from sklearn.linear_model import LogisticRegression\n",
    "from sklearn.ensemble import GradientBoostingClassifier, RandomForestClassifier\n",
    "\n",
    "if (universe[\"model\"] == \"logreg\"):\n",
    "    model = LogisticRegression() #penalty=\"none\", solver=\"newton-cg\", max_iter=1)\n",
    "elif (universe[\"model\"] == \"penalized_logreg\"):\n",
    "    model = LogisticRegression(penalty=\"l2\", C=0.1) #, solver=\"newton-cg\", max_iter=1)\n",
    "elif (universe[\"model\"] == \"rf\"):\n",
    "    model = RandomForestClassifier() # n_estimators=100, n_jobs=-1\n",
    "elif (universe[\"model\"] == \"gbm\"):\n",
    "    model = GradientBoostingClassifier()\n",
    "elif (universe[\"model\"] == \"elasticnet\"):\n",
    "    model = LogisticRegression(penalty = 'elasticnet', solver = 'saga', l1_ratio = 0.5) # max_iter=5000\n",
    "else:\n",
    "    raise \"Unsupported universe.model\""
   ]
  },
  {
   "cell_type": "code",
   "execution_count": 31,
   "id": "0cc8f744",
   "metadata": {
    "execution": {
     "iopub.execute_input": "2025-08-06T18:06:43.115334Z",
     "iopub.status.busy": "2025-08-06T18:06:43.114483Z",
     "iopub.status.idle": "2025-08-06T18:06:43.120460Z",
     "shell.execute_reply": "2025-08-06T18:06:43.119484Z"
    },
    "papermill": {
     "duration": 0.028401,
     "end_time": "2025-08-06T18:06:43.122103",
     "exception": false,
     "start_time": "2025-08-06T18:06:43.093702",
     "status": "completed"
    },
    "tags": []
   },
   "outputs": [],
   "source": [
    "from sklearn.pipeline import Pipeline\n",
    "from sklearn.preprocessing import StandardScaler\n",
    "\n",
    "model = Pipeline([\n",
    "    #(\"continuous_processor\", continuous_processor),\n",
    "    #(\"categorical_preprocessor\", categorical_preprocessor),\n",
    "    (\"scale\", StandardScaler() if universe[\"scale\"] == \"scale\" else None), \n",
    "    (\"model\", model),\n",
    "])"
   ]
  },
  {
   "cell_type": "code",
   "execution_count": 32,
   "id": "9442c04d",
   "metadata": {
    "execution": {
     "iopub.execute_input": "2025-08-06T18:06:43.164729Z",
     "iopub.status.busy": "2025-08-06T18:06:43.163840Z",
     "iopub.status.idle": "2025-08-06T18:06:43.213633Z",
     "shell.execute_reply": "2025-08-06T18:06:43.212656Z"
    },
    "papermill": {
     "duration": 0.07193,
     "end_time": "2025-08-06T18:06:43.215543",
     "exception": false,
     "start_time": "2025-08-06T18:06:43.143613",
     "status": "completed"
    },
    "tags": []
   },
   "outputs": [
    {
     "data": {
      "text/html": [
       "<style>#sk-container-id-1 {color: black;background-color: white;}#sk-container-id-1 pre{padding: 0;}#sk-container-id-1 div.sk-toggleable {background-color: white;}#sk-container-id-1 label.sk-toggleable__label {cursor: pointer;display: block;width: 100%;margin-bottom: 0;padding: 0.3em;box-sizing: border-box;text-align: center;}#sk-container-id-1 label.sk-toggleable__label-arrow:before {content: \"▸\";float: left;margin-right: 0.25em;color: #696969;}#sk-container-id-1 label.sk-toggleable__label-arrow:hover:before {color: black;}#sk-container-id-1 div.sk-estimator:hover label.sk-toggleable__label-arrow:before {color: black;}#sk-container-id-1 div.sk-toggleable__content {max-height: 0;max-width: 0;overflow: hidden;text-align: left;background-color: #f0f8ff;}#sk-container-id-1 div.sk-toggleable__content pre {margin: 0.2em;color: black;border-radius: 0.25em;background-color: #f0f8ff;}#sk-container-id-1 input.sk-toggleable__control:checked~div.sk-toggleable__content {max-height: 200px;max-width: 100%;overflow: auto;}#sk-container-id-1 input.sk-toggleable__control:checked~label.sk-toggleable__label-arrow:before {content: \"▾\";}#sk-container-id-1 div.sk-estimator input.sk-toggleable__control:checked~label.sk-toggleable__label {background-color: #d4ebff;}#sk-container-id-1 div.sk-label input.sk-toggleable__control:checked~label.sk-toggleable__label {background-color: #d4ebff;}#sk-container-id-1 input.sk-hidden--visually {border: 0;clip: rect(1px 1px 1px 1px);clip: rect(1px, 1px, 1px, 1px);height: 1px;margin: -1px;overflow: hidden;padding: 0;position: absolute;width: 1px;}#sk-container-id-1 div.sk-estimator {font-family: monospace;background-color: #f0f8ff;border: 1px dotted black;border-radius: 0.25em;box-sizing: border-box;margin-bottom: 0.5em;}#sk-container-id-1 div.sk-estimator:hover {background-color: #d4ebff;}#sk-container-id-1 div.sk-parallel-item::after {content: \"\";width: 100%;border-bottom: 1px solid gray;flex-grow: 1;}#sk-container-id-1 div.sk-label:hover label.sk-toggleable__label {background-color: #d4ebff;}#sk-container-id-1 div.sk-serial::before {content: \"\";position: absolute;border-left: 1px solid gray;box-sizing: border-box;top: 0;bottom: 0;left: 50%;z-index: 0;}#sk-container-id-1 div.sk-serial {display: flex;flex-direction: column;align-items: center;background-color: white;padding-right: 0.2em;padding-left: 0.2em;position: relative;}#sk-container-id-1 div.sk-item {position: relative;z-index: 1;}#sk-container-id-1 div.sk-parallel {display: flex;align-items: stretch;justify-content: center;background-color: white;position: relative;}#sk-container-id-1 div.sk-item::before, #sk-container-id-1 div.sk-parallel-item::before {content: \"\";position: absolute;border-left: 1px solid gray;box-sizing: border-box;top: 0;bottom: 0;left: 50%;z-index: -1;}#sk-container-id-1 div.sk-parallel-item {display: flex;flex-direction: column;z-index: 1;position: relative;background-color: white;}#sk-container-id-1 div.sk-parallel-item:first-child::after {align-self: flex-end;width: 50%;}#sk-container-id-1 div.sk-parallel-item:last-child::after {align-self: flex-start;width: 50%;}#sk-container-id-1 div.sk-parallel-item:only-child::after {width: 0;}#sk-container-id-1 div.sk-dashed-wrapped {border: 1px dashed gray;margin: 0 0.4em 0.5em 0.4em;box-sizing: border-box;padding-bottom: 0.4em;background-color: white;}#sk-container-id-1 div.sk-label label {font-family: monospace;font-weight: bold;display: inline-block;line-height: 1.2em;}#sk-container-id-1 div.sk-label-container {text-align: center;}#sk-container-id-1 div.sk-container {/* jupyter's `normalize.less` sets `[hidden] { display: none; }` but bootstrap.min.css set `[hidden] { display: none !important; }` so we also need the `!important` here to be able to override the default hidden behavior on the sphinx rendered scikit-learn.org. See: https://github.com/scikit-learn/scikit-learn/issues/21755 */display: inline-block !important;position: relative;}#sk-container-id-1 div.sk-text-repr-fallback {display: none;}</style><div id=\"sk-container-id-1\" class=\"sk-top-container\"><div class=\"sk-text-repr-fallback\"><pre>Pipeline(steps=[(&#x27;scale&#x27;, StandardScaler()),\n",
       "                (&#x27;model&#x27;, LogisticRegression(C=0.1))])</pre><b>In a Jupyter environment, please rerun this cell to show the HTML representation or trust the notebook. <br />On GitHub, the HTML representation is unable to render, please try loading this page with nbviewer.org.</b></div><div class=\"sk-container\" hidden><div class=\"sk-item sk-dashed-wrapped\"><div class=\"sk-label-container\"><div class=\"sk-label sk-toggleable\"><input class=\"sk-toggleable__control sk-hidden--visually\" id=\"sk-estimator-id-1\" type=\"checkbox\" ><label for=\"sk-estimator-id-1\" class=\"sk-toggleable__label sk-toggleable__label-arrow\">Pipeline</label><div class=\"sk-toggleable__content\"><pre>Pipeline(steps=[(&#x27;scale&#x27;, StandardScaler()),\n",
       "                (&#x27;model&#x27;, LogisticRegression(C=0.1))])</pre></div></div></div><div class=\"sk-serial\"><div class=\"sk-item\"><div class=\"sk-estimator sk-toggleable\"><input class=\"sk-toggleable__control sk-hidden--visually\" id=\"sk-estimator-id-2\" type=\"checkbox\" ><label for=\"sk-estimator-id-2\" class=\"sk-toggleable__label sk-toggleable__label-arrow\">StandardScaler</label><div class=\"sk-toggleable__content\"><pre>StandardScaler()</pre></div></div></div><div class=\"sk-item\"><div class=\"sk-estimator sk-toggleable\"><input class=\"sk-toggleable__control sk-hidden--visually\" id=\"sk-estimator-id-3\" type=\"checkbox\" ><label for=\"sk-estimator-id-3\" class=\"sk-toggleable__label sk-toggleable__label-arrow\">LogisticRegression</label><div class=\"sk-toggleable__content\"><pre>LogisticRegression(C=0.1)</pre></div></div></div></div></div></div></div>"
      ],
      "text/plain": [
       "Pipeline(steps=[('scale', StandardScaler()),\n",
       "                ('model', LogisticRegression(C=0.1))])"
      ]
     },
     "execution_count": 32,
     "metadata": {},
     "output_type": "execute_result"
    }
   ],
   "source": [
    "model.fit(X_train, y_train.values.ravel())"
   ]
  },
  {
   "cell_type": "code",
   "execution_count": 33,
   "id": "a7cf2e16",
   "metadata": {
    "execution": {
     "iopub.execute_input": "2025-08-06T18:06:43.254255Z",
     "iopub.status.busy": "2025-08-06T18:06:43.253179Z",
     "iopub.status.idle": "2025-08-06T18:06:43.452411Z",
     "shell.execute_reply": "2025-08-06T18:06:43.451377Z"
    },
    "papermill": {
     "duration": 0.217396,
     "end_time": "2025-08-06T18:06:43.453908",
     "exception": false,
     "start_time": "2025-08-06T18:06:43.236512",
     "status": "completed"
    },
    "tags": []
   },
   "outputs": [
    {
     "data": {
      "text/plain": [
       "0.8379221937353695"
      ]
     },
     "execution_count": 33,
     "metadata": {},
     "output_type": "execute_result"
    }
   ],
   "source": [
    "from fairness_multiverse.universe import predict_w_threshold\n",
    "\n",
    "probs_test = model.predict_proba(X_test)\n",
    "\n",
    "'''\n",
    "Below code returns a boolean array (or binary 0/1 array depending on how it’s used) where each element \n",
    "is True if the probability of class 1 is greater than or equal to the threshold, and False otherwise.\n",
    "'''\n",
    "y_pred_default = predict_w_threshold(probs_test, 0.5)\n",
    "\n",
    "from sklearn.metrics import accuracy_score\n",
    "\n",
    "# Naive prediction\n",
    "accuracy_score(y_true = y_true, y_pred = y_pred_default)"
   ]
  },
  {
   "cell_type": "code",
   "execution_count": 34,
   "id": "081964c3",
   "metadata": {
    "execution": {
     "iopub.execute_input": "2025-08-06T18:06:43.494085Z",
     "iopub.status.busy": "2025-08-06T18:06:43.493413Z",
     "iopub.status.idle": "2025-08-06T18:06:43.681936Z",
     "shell.execute_reply": "2025-08-06T18:06:43.680954Z"
    },
    "papermill": {
     "duration": 0.2103,
     "end_time": "2025-08-06T18:06:43.683692",
     "exception": false,
     "start_time": "2025-08-06T18:06:43.473392",
     "status": "completed"
    },
    "tags": []
   },
   "outputs": [
    {
     "data": {
      "text/plain": [
       "array([0, 0, 0, ..., 0, 0, 0])"
      ]
     },
     "execution_count": 34,
     "metadata": {},
     "output_type": "execute_result"
    }
   ],
   "source": [
    "model.predict(X_test)"
   ]
  },
  {
   "cell_type": "markdown",
   "id": "56c9705b",
   "metadata": {
    "papermill": {
     "duration": 0.022002,
     "end_time": "2025-08-06T18:06:43.728374",
     "exception": false,
     "start_time": "2025-08-06T18:06:43.706372",
     "status": "completed"
    },
    "tags": []
   },
   "source": [
    "# Conformal Prediction"
   ]
  },
  {
   "cell_type": "code",
   "execution_count": 35,
   "id": "160ec6ff",
   "metadata": {
    "execution": {
     "iopub.execute_input": "2025-08-06T18:06:43.773206Z",
     "iopub.status.busy": "2025-08-06T18:06:43.772656Z",
     "iopub.status.idle": "2025-08-06T18:06:43.778068Z",
     "shell.execute_reply": "2025-08-06T18:06:43.777052Z"
    },
    "papermill": {
     "duration": 0.029941,
     "end_time": "2025-08-06T18:06:43.779841",
     "exception": false,
     "start_time": "2025-08-06T18:06:43.749900",
     "status": "completed"
    },
    "tags": []
   },
   "outputs": [],
   "source": [
    "# Miscoverage level for conformal prediction (10% allowed error rate => 90% target coverage)\n",
    "alpha = 0.1"
   ]
  },
  {
   "cell_type": "code",
   "execution_count": 36,
   "id": "eadf4555-3dd3-440e-8e35-f82a4ad9f855",
   "metadata": {
    "execution": {
     "iopub.execute_input": "2025-08-06T18:06:43.826266Z",
     "iopub.status.busy": "2025-08-06T18:06:43.825551Z",
     "iopub.status.idle": "2025-08-06T18:06:44.006273Z",
     "shell.execute_reply": "2025-08-06T18:06:44.005322Z"
    },
    "papermill": {
     "duration": 0.206073,
     "end_time": "2025-08-06T18:06:44.008331",
     "exception": false,
     "start_time": "2025-08-06T18:06:43.802258",
     "status": "completed"
    },
    "tags": []
   },
   "outputs": [],
   "source": [
    "probs_calib = model.predict_proba(X_calib)"
   ]
  },
  {
   "cell_type": "code",
   "execution_count": 37,
   "id": "2ed93547-6d5d-4983-9b36-1ecb300da49a",
   "metadata": {
    "execution": {
     "iopub.execute_input": "2025-08-06T18:06:44.063952Z",
     "iopub.status.busy": "2025-08-06T18:06:44.063224Z",
     "iopub.status.idle": "2025-08-06T18:06:44.072452Z",
     "shell.execute_reply": "2025-08-06T18:06:44.068466Z"
    },
    "papermill": {
     "duration": 0.032215,
     "end_time": "2025-08-06T18:06:44.074181",
     "exception": false,
     "start_time": "2025-08-06T18:06:44.041966",
     "status": "completed"
    },
    "tags": []
   },
   "outputs": [],
   "source": [
    "y_calib = y_calib.values.ravel().astype(int)"
   ]
  },
  {
   "cell_type": "code",
   "execution_count": 38,
   "id": "65d1320d-f588-4b38-9072-62af1ae97f7d",
   "metadata": {
    "execution": {
     "iopub.execute_input": "2025-08-06T18:06:44.129633Z",
     "iopub.status.busy": "2025-08-06T18:06:44.129132Z",
     "iopub.status.idle": "2025-08-06T18:06:44.136828Z",
     "shell.execute_reply": "2025-08-06T18:06:44.135852Z"
    },
    "papermill": {
     "duration": 0.042537,
     "end_time": "2025-08-06T18:06:44.138481",
     "exception": false,
     "start_time": "2025-08-06T18:06:44.095944",
     "status": "completed"
    },
    "tags": []
   },
   "outputs": [],
   "source": [
    "from fairness_multiverse.conformal import compute_nc_scores\n",
    "\n",
    "# Compute nonconformity scores on calibration set (1 - probability of true class)\n",
    "nc_scores = compute_nc_scores(probs_calib, y_calib)"
   ]
  },
  {
   "cell_type": "code",
   "execution_count": 39,
   "id": "df3b8ca3-53b7-43d5-9667-7c85da7aeda2",
   "metadata": {
    "execution": {
     "iopub.execute_input": "2025-08-06T18:06:44.185430Z",
     "iopub.status.busy": "2025-08-06T18:06:44.184757Z",
     "iopub.status.idle": "2025-08-06T18:06:44.191902Z",
     "shell.execute_reply": "2025-08-06T18:06:44.191042Z"
    },
    "papermill": {
     "duration": 0.032399,
     "end_time": "2025-08-06T18:06:44.193460",
     "exception": false,
     "start_time": "2025-08-06T18:06:44.161061",
     "status": "completed"
    },
    "tags": []
   },
   "outputs": [],
   "source": [
    "from fairness_multiverse.conformal import find_threshold\n",
    "\n",
    "# Find conformal threshold q_hat for the given alpha (split conformal method)\n",
    "q_hat = find_threshold(nc_scores, alpha)"
   ]
  },
  {
   "cell_type": "code",
   "execution_count": 40,
   "id": "4d29e6c1-0ef6-4aa4-b8fe-4fe79b0d033a",
   "metadata": {
    "execution": {
     "iopub.execute_input": "2025-08-06T18:06:44.240283Z",
     "iopub.status.busy": "2025-08-06T18:06:44.239592Z",
     "iopub.status.idle": "2025-08-06T18:06:44.247173Z",
     "shell.execute_reply": "2025-08-06T18:06:44.246182Z"
    },
    "papermill": {
     "duration": 0.032683,
     "end_time": "2025-08-06T18:06:44.248847",
     "exception": false,
     "start_time": "2025-08-06T18:06:44.216164",
     "status": "completed"
    },
    "tags": []
   },
   "outputs": [
    {
     "data": {
      "text/plain": [
       "0.7292179084183904"
      ]
     },
     "execution_count": 40,
     "metadata": {},
     "output_type": "execute_result"
    }
   ],
   "source": [
    "q_hat"
   ]
  },
  {
   "cell_type": "code",
   "execution_count": 41,
   "id": "92460794-cdac-4be2-ba28-f28c0515a6fb",
   "metadata": {
    "execution": {
     "iopub.execute_input": "2025-08-06T18:06:44.310973Z",
     "iopub.status.busy": "2025-08-06T18:06:44.310123Z",
     "iopub.status.idle": "2025-08-06T18:06:45.153847Z",
     "shell.execute_reply": "2025-08-06T18:06:45.152783Z"
    },
    "papermill": {
     "duration": 0.883816,
     "end_time": "2025-08-06T18:06:45.155762",
     "exception": false,
     "start_time": "2025-08-06T18:06:44.271946",
     "status": "completed"
    },
    "tags": []
   },
   "outputs": [],
   "source": [
    "from fairness_multiverse.conformal import predict_conformal_sets\n",
    "\n",
    "# Generate prediction sets for each test example\n",
    "pred_sets = predict_conformal_sets(model, X_test, q_hat)"
   ]
  },
  {
   "cell_type": "code",
   "execution_count": 42,
   "id": "d90c9a65-e6db-4f5d-80cd-e68fb7e46829",
   "metadata": {
    "execution": {
     "iopub.execute_input": "2025-08-06T18:06:45.202294Z",
     "iopub.status.busy": "2025-08-06T18:06:45.201239Z",
     "iopub.status.idle": "2025-08-06T18:06:45.207010Z",
     "shell.execute_reply": "2025-08-06T18:06:45.206131Z"
    },
    "papermill": {
     "duration": 0.029489,
     "end_time": "2025-08-06T18:06:45.208918",
     "exception": false,
     "start_time": "2025-08-06T18:06:45.179429",
     "status": "completed"
    },
    "tags": []
   },
   "outputs": [],
   "source": [
    "y_true = y_true.squeeze()"
   ]
  },
  {
   "cell_type": "code",
   "execution_count": 43,
   "id": "3a58a54a-1e68-46b9-927a-df01f18aebc8",
   "metadata": {
    "execution": {
     "iopub.execute_input": "2025-08-06T18:06:45.257682Z",
     "iopub.status.busy": "2025-08-06T18:06:45.256729Z",
     "iopub.status.idle": "2025-08-06T18:06:46.223920Z",
     "shell.execute_reply": "2025-08-06T18:06:46.222988Z"
    },
    "papermill": {
     "duration": 0.99299,
     "end_time": "2025-08-06T18:06:46.225816",
     "exception": false,
     "start_time": "2025-08-06T18:06:45.232826",
     "status": "completed"
    },
    "tags": []
   },
   "outputs": [],
   "source": [
    "from fairness_multiverse.conformal import evaluate_sets\n",
    "\n",
    "# Evaluate coverage and average set size on test data\n",
    "metrics = evaluate_sets(pred_sets, y_true)"
   ]
  },
  {
   "cell_type": "markdown",
   "id": "2b569c12-9aaa-4c88-98c9-bbcd0cf3ebb8",
   "metadata": {
    "papermill": {
     "duration": 0.019764,
     "end_time": "2025-08-06T18:06:46.272093",
     "exception": false,
     "start_time": "2025-08-06T18:06:46.252329",
     "status": "completed"
    },
    "tags": []
   },
   "source": [
    "# CP Metrics"
   ]
  },
  {
   "cell_type": "code",
   "execution_count": 44,
   "id": "5ce0a5cb-201f-45a0-ade5-94c7f0bd6095",
   "metadata": {
    "execution": {
     "iopub.execute_input": "2025-08-06T18:06:46.313291Z",
     "iopub.status.busy": "2025-08-06T18:06:46.312412Z",
     "iopub.status.idle": "2025-08-06T18:06:46.319766Z",
     "shell.execute_reply": "2025-08-06T18:06:46.318871Z"
    },
    "papermill": {
     "duration": 0.029615,
     "end_time": "2025-08-06T18:06:46.321285",
     "exception": false,
     "start_time": "2025-08-06T18:06:46.291670",
     "status": "completed"
    },
    "tags": []
   },
   "outputs": [
    {
     "data": {
      "text/plain": [
       "{'coverage': 0.9094972689778175, 'avg_size': 1.1926764017389366}"
      ]
     },
     "execution_count": 44,
     "metadata": {},
     "output_type": "execute_result"
    }
   ],
   "source": [
    "metrics"
   ]
  },
  {
   "cell_type": "code",
   "execution_count": 45,
   "id": "9b9a838d-31c9-430b-ae14-12baee460d17",
   "metadata": {
    "execution": {
     "iopub.execute_input": "2025-08-06T18:06:46.363540Z",
     "iopub.status.busy": "2025-08-06T18:06:46.362971Z",
     "iopub.status.idle": "2025-08-06T18:06:46.369670Z",
     "shell.execute_reply": "2025-08-06T18:06:46.368678Z"
    },
    "papermill": {
     "duration": 0.028971,
     "end_time": "2025-08-06T18:06:46.371322",
     "exception": false,
     "start_time": "2025-08-06T18:06:46.342351",
     "status": "completed"
    },
    "tags": []
   },
   "outputs": [],
   "source": [
    "example_universe = universe.copy()\n",
    "universe_training_year = example_universe.get(\"training_year\")\n",
    "universe_training_size = example_universe.get(\"training_size\")\n",
    "universe_scale = example_universe.get(\"scale\")\n",
    "universe_model = example_universe.get(\"model\")\n",
    "universe_exclude_features = example_universe.get(\"exclude_features\")\n",
    "universe_exclude_subgroups = example_universe.get(\"exclude_subgroups\")"
   ]
  },
  {
   "cell_type": "code",
   "execution_count": 46,
   "id": "f4b6a8ac-9dc0-4245-8a91-5b3b5999c4f9",
   "metadata": {
    "execution": {
     "iopub.execute_input": "2025-08-06T18:06:46.414126Z",
     "iopub.status.busy": "2025-08-06T18:06:46.413579Z",
     "iopub.status.idle": "2025-08-06T18:06:46.419977Z",
     "shell.execute_reply": "2025-08-06T18:06:46.418987Z"
    },
    "papermill": {
     "duration": 0.029288,
     "end_time": "2025-08-06T18:06:46.421581",
     "exception": false,
     "start_time": "2025-08-06T18:06:46.392293",
     "status": "completed"
    },
    "tags": []
   },
   "outputs": [],
   "source": [
    "cp_metrics_dict = {\n",
    "    \"universe_id\": [universe_id],\n",
    "    \"universe_training_year\": [universe_training_year],\n",
    "    \"universe_training_size\": [universe_training_size],\n",
    "    \"universe_scale\": [universe_scale],\n",
    "    \"universe_model\": [universe_model],\n",
    "    \"universe_exclude_features\": [universe_exclude_features],\n",
    "    \"universe_exclude_subgroups\": [universe_exclude_subgroups],\n",
    "    \"q_hat\": [q_hat],\n",
    "    \"coverage\": [metrics[\"coverage\"]],\n",
    "    \"avg_size\": [metrics[\"avg_size\"]],\n",
    "}"
   ]
  },
  {
   "cell_type": "code",
   "execution_count": 47,
   "id": "33007efc-14e9-4ec6-97ac-56a455c82265",
   "metadata": {
    "execution": {
     "iopub.execute_input": "2025-08-06T18:06:46.464214Z",
     "iopub.status.busy": "2025-08-06T18:06:46.463758Z",
     "iopub.status.idle": "2025-08-06T18:06:46.470394Z",
     "shell.execute_reply": "2025-08-06T18:06:46.469424Z"
    },
    "papermill": {
     "duration": 0.029369,
     "end_time": "2025-08-06T18:06:46.471851",
     "exception": false,
     "start_time": "2025-08-06T18:06:46.442482",
     "status": "completed"
    },
    "tags": []
   },
   "outputs": [],
   "source": [
    "cp_metrics_df = pd.DataFrame(cp_metrics_dict)"
   ]
  },
  {
   "cell_type": "code",
   "execution_count": 48,
   "id": "db12611b-57b2-4910-b9d0-355adfd6e7bf",
   "metadata": {
    "execution": {
     "iopub.execute_input": "2025-08-06T18:06:46.516112Z",
     "iopub.status.busy": "2025-08-06T18:06:46.515364Z",
     "iopub.status.idle": "2025-08-06T18:06:46.531872Z",
     "shell.execute_reply": "2025-08-06T18:06:46.530958Z"
    },
    "papermill": {
     "duration": 0.04099,
     "end_time": "2025-08-06T18:06:46.533502",
     "exception": false,
     "start_time": "2025-08-06T18:06:46.492512",
     "status": "completed"
    },
    "tags": []
   },
   "outputs": [
    {
     "data": {
      "text/html": [
       "<div>\n",
       "<style scoped>\n",
       "    .dataframe tbody tr th:only-of-type {\n",
       "        vertical-align: middle;\n",
       "    }\n",
       "\n",
       "    .dataframe tbody tr th {\n",
       "        vertical-align: top;\n",
       "    }\n",
       "\n",
       "    .dataframe thead th {\n",
       "        text-align: right;\n",
       "    }\n",
       "</style>\n",
       "<table border=\"1\" class=\"dataframe\">\n",
       "  <thead>\n",
       "    <tr style=\"text-align: right;\">\n",
       "      <th></th>\n",
       "      <th>universe_id</th>\n",
       "      <th>universe_training_year</th>\n",
       "      <th>universe_training_size</th>\n",
       "      <th>universe_scale</th>\n",
       "      <th>universe_model</th>\n",
       "      <th>universe_exclude_features</th>\n",
       "      <th>universe_exclude_subgroups</th>\n",
       "      <th>q_hat</th>\n",
       "      <th>coverage</th>\n",
       "      <th>avg_size</th>\n",
       "    </tr>\n",
       "  </thead>\n",
       "  <tbody>\n",
       "    <tr>\n",
       "      <th>0</th>\n",
       "      <td>e85e96a1180825b65bc35eb3a69551d9</td>\n",
       "      <td>2010_14</td>\n",
       "      <td>1k</td>\n",
       "      <td>scale</td>\n",
       "      <td>penalized_logreg</td>\n",
       "      <td>none</td>\n",
       "      <td>keep-all</td>\n",
       "      <td>0.729218</td>\n",
       "      <td>0.909497</td>\n",
       "      <td>1.192676</td>\n",
       "    </tr>\n",
       "  </tbody>\n",
       "</table>\n",
       "</div>"
      ],
      "text/plain": [
       "                        universe_id universe_training_year  \\\n",
       "0  e85e96a1180825b65bc35eb3a69551d9                2010_14   \n",
       "\n",
       "  universe_training_size universe_scale    universe_model  \\\n",
       "0                     1k          scale  penalized_logreg   \n",
       "\n",
       "  universe_exclude_features universe_exclude_subgroups     q_hat  coverage  \\\n",
       "0                      none                   keep-all  0.729218  0.909497   \n",
       "\n",
       "   avg_size  \n",
       "0  1.192676  "
      ]
     },
     "execution_count": 48,
     "metadata": {},
     "output_type": "execute_result"
    }
   ],
   "source": [
    "cp_metrics_df"
   ]
  },
  {
   "cell_type": "markdown",
   "id": "c825ecb4-0d3d-41d6-b7c6-eccb21272259",
   "metadata": {
    "papermill": {
     "duration": 0.022692,
     "end_time": "2025-08-06T18:06:46.577246",
     "exception": false,
     "start_time": "2025-08-06T18:06:46.554554",
     "status": "completed"
    },
    "tags": []
   },
   "source": [
    "Conditional coverage & looking at subgroups"
   ]
  },
  {
   "cell_type": "code",
   "execution_count": 49,
   "id": "027ae886-68dd-4141-96c7-805a5450e1ef",
   "metadata": {
    "execution": {
     "iopub.execute_input": "2025-08-06T18:06:46.619802Z",
     "iopub.status.busy": "2025-08-06T18:06:46.619232Z",
     "iopub.status.idle": "2025-08-06T18:06:46.880895Z",
     "shell.execute_reply": "2025-08-06T18:06:46.879946Z"
    },
    "papermill": {
     "duration": 0.285091,
     "end_time": "2025-08-06T18:06:46.882633",
     "exception": false,
     "start_time": "2025-08-06T18:06:46.597542",
     "status": "completed"
    },
    "tags": []
   },
   "outputs": [],
   "source": [
    "from fairness_multiverse.conformal import build_cp_groups\n",
    "\n",
    "cp_groups_df = build_cp_groups(pred_sets, y_true, X_test.index, org_test)"
   ]
  },
  {
   "cell_type": "code",
   "execution_count": 50,
   "id": "6cbdab96-b2b2-45af-ad54-d0516db2e28d",
   "metadata": {
    "execution": {
     "iopub.execute_input": "2025-08-06T18:06:46.926324Z",
     "iopub.status.busy": "2025-08-06T18:06:46.925870Z",
     "iopub.status.idle": "2025-08-06T18:06:48.450611Z",
     "shell.execute_reply": "2025-08-06T18:06:48.449692Z"
    },
    "papermill": {
     "duration": 1.547623,
     "end_time": "2025-08-06T18:06:48.452441",
     "exception": false,
     "start_time": "2025-08-06T18:06:46.904818",
     "status": "completed"
    },
    "tags": []
   },
   "outputs": [],
   "source": [
    "# Define covered = 1 if true_label is in the predicted set\n",
    "cp_groups_df['covered'] = cp_groups_df.apply(\n",
    "    lambda r: int(r['true_label'] in r['pred_set']),\n",
    "    axis=1\n",
    ")"
   ]
  },
  {
   "cell_type": "code",
   "execution_count": 51,
   "id": "90032e27-66df-4540-9169-4e89cfbaa758",
   "metadata": {
    "execution": {
     "iopub.execute_input": "2025-08-06T18:06:48.503252Z",
     "iopub.status.busy": "2025-08-06T18:06:48.502870Z",
     "iopub.status.idle": "2025-08-06T18:06:48.513647Z",
     "shell.execute_reply": "2025-08-06T18:06:48.512801Z"
    },
    "papermill": {
     "duration": 0.039346,
     "end_time": "2025-08-06T18:06:48.515242",
     "exception": false,
     "start_time": "2025-08-06T18:06:48.475896",
     "status": "completed"
    },
    "tags": []
   },
   "outputs": [],
   "source": [
    "subgroups = ['frau1','nongerman','nongerman_male','nongerman_female']\n",
    "\n",
    "# Conditional coverage for subgroup==1\n",
    "cond_coverage = {\n",
    "    g: cp_groups_df.loc[cp_groups_df[g]==1, 'covered'].mean()\n",
    "    for g in subgroups\n",
    "}"
   ]
  },
  {
   "cell_type": "code",
   "execution_count": 52,
   "id": "1e348fb1-b9c3-45bc-ba23-f016827a7e0d",
   "metadata": {
    "execution": {
     "iopub.execute_input": "2025-08-06T18:06:48.561522Z",
     "iopub.status.busy": "2025-08-06T18:06:48.560520Z",
     "iopub.status.idle": "2025-08-06T18:06:48.567503Z",
     "shell.execute_reply": "2025-08-06T18:06:48.566536Z"
    },
    "papermill": {
     "duration": 0.029681,
     "end_time": "2025-08-06T18:06:48.569026",
     "exception": false,
     "start_time": "2025-08-06T18:06:48.539345",
     "status": "completed"
    },
    "tags": []
   },
   "outputs": [
    {
     "data": {
      "text/plain": [
       "{'frau1': 0.9107426876937592,\n",
       " 'nongerman': 0.91382698029529,\n",
       " 'nongerman_male': 0.9268666126272179,\n",
       " 'nongerman_female': 0.8922503725782415}"
      ]
     },
     "execution_count": 52,
     "metadata": {},
     "output_type": "execute_result"
    }
   ],
   "source": [
    "cond_coverage"
   ]
  },
  {
   "cell_type": "code",
   "execution_count": 53,
   "id": "f5093324-c3dd-4d63-bc4c-8d945e5c8bbb",
   "metadata": {
    "execution": {
     "iopub.execute_input": "2025-08-06T18:06:48.613535Z",
     "iopub.status.busy": "2025-08-06T18:06:48.612735Z",
     "iopub.status.idle": "2025-08-06T18:06:48.619968Z",
     "shell.execute_reply": "2025-08-06T18:06:48.618902Z"
    },
    "papermill": {
     "duration": 0.030802,
     "end_time": "2025-08-06T18:06:48.621461",
     "exception": false,
     "start_time": "2025-08-06T18:06:48.590659",
     "status": "completed"
    },
    "tags": []
   },
   "outputs": [],
   "source": [
    "for subgroup, cov in cond_coverage.items():\n",
    "    cp_metrics_df[f\"cov_{subgroup}\"] = cov"
   ]
  },
  {
   "cell_type": "code",
   "execution_count": 54,
   "id": "6e872e10-dbe5-49e8-b554-5030c98ff75d",
   "metadata": {
    "execution": {
     "iopub.execute_input": "2025-08-06T18:06:48.664316Z",
     "iopub.status.busy": "2025-08-06T18:06:48.663458Z",
     "iopub.status.idle": "2025-08-06T18:06:48.686525Z",
     "shell.execute_reply": "2025-08-06T18:06:48.685447Z"
    },
    "papermill": {
     "duration": 0.046185,
     "end_time": "2025-08-06T18:06:48.688308",
     "exception": false,
     "start_time": "2025-08-06T18:06:48.642123",
     "status": "completed"
    },
    "tags": []
   },
   "outputs": [
    {
     "data": {
      "text/html": [
       "<div>\n",
       "<style scoped>\n",
       "    .dataframe tbody tr th:only-of-type {\n",
       "        vertical-align: middle;\n",
       "    }\n",
       "\n",
       "    .dataframe tbody tr th {\n",
       "        vertical-align: top;\n",
       "    }\n",
       "\n",
       "    .dataframe thead th {\n",
       "        text-align: right;\n",
       "    }\n",
       "</style>\n",
       "<table border=\"1\" class=\"dataframe\">\n",
       "  <thead>\n",
       "    <tr style=\"text-align: right;\">\n",
       "      <th></th>\n",
       "      <th>universe_id</th>\n",
       "      <th>universe_training_year</th>\n",
       "      <th>universe_training_size</th>\n",
       "      <th>universe_scale</th>\n",
       "      <th>universe_model</th>\n",
       "      <th>universe_exclude_features</th>\n",
       "      <th>universe_exclude_subgroups</th>\n",
       "      <th>q_hat</th>\n",
       "      <th>coverage</th>\n",
       "      <th>avg_size</th>\n",
       "      <th>cov_frau1</th>\n",
       "      <th>cov_nongerman</th>\n",
       "      <th>cov_nongerman_male</th>\n",
       "      <th>cov_nongerman_female</th>\n",
       "    </tr>\n",
       "  </thead>\n",
       "  <tbody>\n",
       "    <tr>\n",
       "      <th>0</th>\n",
       "      <td>e85e96a1180825b65bc35eb3a69551d9</td>\n",
       "      <td>2010_14</td>\n",
       "      <td>1k</td>\n",
       "      <td>scale</td>\n",
       "      <td>penalized_logreg</td>\n",
       "      <td>none</td>\n",
       "      <td>keep-all</td>\n",
       "      <td>0.729218</td>\n",
       "      <td>0.909497</td>\n",
       "      <td>1.192676</td>\n",
       "      <td>0.910743</td>\n",
       "      <td>0.913827</td>\n",
       "      <td>0.926867</td>\n",
       "      <td>0.89225</td>\n",
       "    </tr>\n",
       "  </tbody>\n",
       "</table>\n",
       "</div>"
      ],
      "text/plain": [
       "                        universe_id universe_training_year  \\\n",
       "0  e85e96a1180825b65bc35eb3a69551d9                2010_14   \n",
       "\n",
       "  universe_training_size universe_scale    universe_model  \\\n",
       "0                     1k          scale  penalized_logreg   \n",
       "\n",
       "  universe_exclude_features universe_exclude_subgroups     q_hat  coverage  \\\n",
       "0                      none                   keep-all  0.729218  0.909497   \n",
       "\n",
       "   avg_size  cov_frau1  cov_nongerman  cov_nongerman_male  \\\n",
       "0  1.192676   0.910743       0.913827            0.926867   \n",
       "\n",
       "   cov_nongerman_female  \n",
       "0               0.89225  "
      ]
     },
     "execution_count": 54,
     "metadata": {},
     "output_type": "execute_result"
    }
   ],
   "source": [
    "cp_metrics_df"
   ]
  },
  {
   "cell_type": "markdown",
   "id": "33774451",
   "metadata": {
    "papermill": {
     "duration": 0.021451,
     "end_time": "2025-08-06T18:06:48.731559",
     "exception": false,
     "start_time": "2025-08-06T18:06:48.710108",
     "status": "completed"
    },
    "tags": []
   },
   "source": [
    "# (Fairness) Metrics"
   ]
  },
  {
   "cell_type": "code",
   "execution_count": 55,
   "id": "debc5d62",
   "metadata": {
    "execution": {
     "iopub.execute_input": "2025-08-06T18:06:48.775119Z",
     "iopub.status.busy": "2025-08-06T18:06:48.774517Z",
     "iopub.status.idle": "2025-08-06T18:06:48.809233Z",
     "shell.execute_reply": "2025-08-06T18:06:48.808322Z"
    },
    "papermill": {
     "duration": 0.058581,
     "end_time": "2025-08-06T18:06:48.811107",
     "exception": false,
     "start_time": "2025-08-06T18:06:48.752526",
     "status": "completed"
    },
    "tags": []
   },
   "outputs": [],
   "source": [
    "colname_to_bin = \"maxdeutsch1\"\n",
    "majority_value = org_train[colname_to_bin].mode()[0]\n",
    "\n",
    "org_test[\"majmin\"] = np.where(org_test[colname_to_bin] == majority_value, \"majority\", \"minority\")"
   ]
  },
  {
   "cell_type": "code",
   "execution_count": 56,
   "id": "06a50de5",
   "metadata": {
    "execution": {
     "iopub.execute_input": "2025-08-06T18:06:48.857775Z",
     "iopub.status.busy": "2025-08-06T18:06:48.856889Z",
     "iopub.status.idle": "2025-08-06T18:06:51.402210Z",
     "shell.execute_reply": "2025-08-06T18:06:51.401242Z"
    },
    "papermill": {
     "duration": 2.572809,
     "end_time": "2025-08-06T18:06:51.405501",
     "exception": false,
     "start_time": "2025-08-06T18:06:48.832692",
     "status": "completed"
    },
    "tags": []
   },
   "outputs": [],
   "source": [
    "example_universe = universe.copy()\n",
    "example_universe[\"cutoff\"] = example_universe[\"cutoff\"][0]\n",
    "example_universe[\"eval_fairness_grouping\"] = example_universe[\"eval_fairness_grouping\"][0]\n",
    "fairness_dict, metric_frame = universe_analysis.compute_metrics(\n",
    "    example_universe,\n",
    "    y_pred_prob=probs_test,\n",
    "    y_test=y_true,\n",
    "    org_test=org_test,\n",
    ")"
   ]
  },
  {
   "cell_type": "markdown",
   "id": "f95d4e02",
   "metadata": {
    "papermill": {
     "duration": 0.020674,
     "end_time": "2025-08-06T18:06:51.452176",
     "exception": false,
     "start_time": "2025-08-06T18:06:51.431502",
     "status": "completed"
    },
    "tags": []
   },
   "source": [
    "# Overall"
   ]
  },
  {
   "cell_type": "markdown",
   "id": "bdee4871",
   "metadata": {
    "papermill": {
     "duration": 0.011442,
     "end_time": "2025-08-06T18:06:51.475439",
     "exception": false,
     "start_time": "2025-08-06T18:06:51.463997",
     "status": "completed"
    },
    "tags": []
   },
   "source": [
    "Main fairness target: Equalized Odds. Seems to be a better fit than equal opportunity, since we're not only interested in Y = 1. Seems to be a better fit than demographic parity, since we also care about accuracy, not just equal distribution of preds.\n",
    "\n",
    "Pick column for computation of fairness metrics\n",
    "\n",
    "Performance\n",
    "Overall performance measures, most interesting in relation to the measures split by group below"
   ]
  },
  {
   "cell_type": "code",
   "execution_count": 57,
   "id": "c4e067c6",
   "metadata": {
    "execution": {
     "iopub.execute_input": "2025-08-06T18:06:51.503298Z",
     "iopub.status.busy": "2025-08-06T18:06:51.502941Z",
     "iopub.status.idle": "2025-08-06T18:06:51.509904Z",
     "shell.execute_reply": "2025-08-06T18:06:51.509156Z"
    },
    "papermill": {
     "duration": 0.024113,
     "end_time": "2025-08-06T18:06:51.511228",
     "exception": false,
     "start_time": "2025-08-06T18:06:51.487115",
     "status": "completed"
    },
    "tags": []
   },
   "outputs": [
    {
     "data": {
      "text/plain": [
       "accuracy                   0.220254\n",
       "balanced accuracy          0.539415\n",
       "f1                         0.241699\n",
       "precision                  0.138075\n",
       "false positive rate        0.889888\n",
       "false negative rate        0.031283\n",
       "selection rate             0.900000\n",
       "count                  89710.000000\n",
       "dtype: float64"
      ]
     },
     "execution_count": 57,
     "metadata": {},
     "output_type": "execute_result"
    }
   ],
   "source": [
    "metric_frame.overall"
   ]
  },
  {
   "cell_type": "markdown",
   "id": "e968fe9d",
   "metadata": {
    "papermill": {
     "duration": 0.017403,
     "end_time": "2025-08-06T18:06:51.545806",
     "exception": false,
     "start_time": "2025-08-06T18:06:51.528403",
     "status": "completed"
    },
    "tags": []
   },
   "source": [
    "By Group"
   ]
  },
  {
   "cell_type": "code",
   "execution_count": 58,
   "id": "ec325bce",
   "metadata": {
    "execution": {
     "iopub.execute_input": "2025-08-06T18:06:51.590889Z",
     "iopub.status.busy": "2025-08-06T18:06:51.590393Z",
     "iopub.status.idle": "2025-08-06T18:06:51.603141Z",
     "shell.execute_reply": "2025-08-06T18:06:51.602413Z"
    },
    "papermill": {
     "duration": 0.034771,
     "end_time": "2025-08-06T18:06:51.604597",
     "exception": false,
     "start_time": "2025-08-06T18:06:51.569826",
     "status": "completed"
    },
    "tags": []
   },
   "outputs": [
    {
     "data": {
      "text/html": [
       "<div>\n",
       "<style scoped>\n",
       "    .dataframe tbody tr th:only-of-type {\n",
       "        vertical-align: middle;\n",
       "    }\n",
       "\n",
       "    .dataframe tbody tr th {\n",
       "        vertical-align: top;\n",
       "    }\n",
       "\n",
       "    .dataframe thead th {\n",
       "        text-align: right;\n",
       "    }\n",
       "</style>\n",
       "<table border=\"1\" class=\"dataframe\">\n",
       "  <thead>\n",
       "    <tr style=\"text-align: right;\">\n",
       "      <th></th>\n",
       "      <th>accuracy</th>\n",
       "      <th>balanced accuracy</th>\n",
       "      <th>f1</th>\n",
       "      <th>precision</th>\n",
       "      <th>false positive rate</th>\n",
       "      <th>false negative rate</th>\n",
       "      <th>selection rate</th>\n",
       "      <th>count</th>\n",
       "    </tr>\n",
       "    <tr>\n",
       "      <th>majmin</th>\n",
       "      <th></th>\n",
       "      <th></th>\n",
       "      <th></th>\n",
       "      <th></th>\n",
       "      <th></th>\n",
       "      <th></th>\n",
       "      <th></th>\n",
       "      <th></th>\n",
       "    </tr>\n",
       "  </thead>\n",
       "  <tbody>\n",
       "    <tr>\n",
       "      <th>majority</th>\n",
       "      <td>0.236114</td>\n",
       "      <td>0.545295</td>\n",
       "      <td>0.250397</td>\n",
       "      <td>0.143851</td>\n",
       "      <td>0.874946</td>\n",
       "      <td>0.034464</td>\n",
       "      <td>0.886916</td>\n",
       "      <td>69170.0</td>\n",
       "    </tr>\n",
       "    <tr>\n",
       "      <th>minority</th>\n",
       "      <td>0.166845</td>\n",
       "      <td>0.520875</td>\n",
       "      <td>0.213521</td>\n",
       "      <td>0.119798</td>\n",
       "      <td>0.939247</td>\n",
       "      <td>0.019003</td>\n",
       "      <td>0.944060</td>\n",
       "      <td>20540.0</td>\n",
       "    </tr>\n",
       "  </tbody>\n",
       "</table>\n",
       "</div>"
      ],
      "text/plain": [
       "          accuracy  balanced accuracy        f1  precision  \\\n",
       "majmin                                                       \n",
       "majority  0.236114           0.545295  0.250397   0.143851   \n",
       "minority  0.166845           0.520875  0.213521   0.119798   \n",
       "\n",
       "          false positive rate  false negative rate  selection rate    count  \n",
       "majmin                                                                       \n",
       "majority             0.874946             0.034464        0.886916  69170.0  \n",
       "minority             0.939247             0.019003        0.944060  20540.0  "
      ]
     },
     "execution_count": 58,
     "metadata": {},
     "output_type": "execute_result"
    }
   ],
   "source": [
    "metric_frame.by_group"
   ]
  },
  {
   "cell_type": "code",
   "execution_count": 59,
   "id": "a9ddbe63",
   "metadata": {
    "execution": {
     "iopub.execute_input": "2025-08-06T18:06:51.638533Z",
     "iopub.status.busy": "2025-08-06T18:06:51.638126Z",
     "iopub.status.idle": "2025-08-06T18:06:53.599392Z",
     "shell.execute_reply": "2025-08-06T18:06:53.598377Z"
    },
    "papermill": {
     "duration": 1.983793,
     "end_time": "2025-08-06T18:06:53.600968",
     "exception": false,
     "start_time": "2025-08-06T18:06:51.617175",
     "status": "completed"
    },
    "tags": []
   },
   "outputs": [
    {
     "data": {
      "text/plain": [
       "array([[<Axes: title={'center': 'accuracy'}, xlabel='majmin'>,\n",
       "        <Axes: title={'center': 'balanced accuracy'}, xlabel='majmin'>,\n",
       "        <Axes: title={'center': 'f1'}, xlabel='majmin'>],\n",
       "       [<Axes: title={'center': 'precision'}, xlabel='majmin'>,\n",
       "        <Axes: title={'center': 'false positive rate'}, xlabel='majmin'>,\n",
       "        <Axes: title={'center': 'false negative rate'}, xlabel='majmin'>],\n",
       "       [<Axes: title={'center': 'selection rate'}, xlabel='majmin'>,\n",
       "        <Axes: title={'center': 'count'}, xlabel='majmin'>,\n",
       "        <Axes: xlabel='majmin'>]], dtype=object)"
      ]
     },
     "execution_count": 59,
     "metadata": {},
     "output_type": "execute_result"
    },
    {
     "data": {
      "image/png": "[encoded data removed]",
      "text/plain": [
       "<Figure size 1200x800 with 9 Axes>"
      ]
     },
     "metadata": {},
     "output_type": "display_data"
    }
   ],
   "source": [
    "# In a graphic\n",
    "metric_frame.by_group.plot.bar(\n",
    "    subplots=True,\n",
    "    layout=[3, 3],\n",
    "    legend=False,\n",
    "    figsize=[12, 8],\n",
    "    title=\"Show all metrics\",\n",
    ")"
   ]
  },
  {
   "cell_type": "markdown",
   "id": "f57a0bac",
   "metadata": {
    "papermill": {
     "duration": 0.023151,
     "end_time": "2025-08-06T18:06:53.650634",
     "exception": false,
     "start_time": "2025-08-06T18:06:53.627483",
     "status": "completed"
    },
    "tags": []
   },
   "source": [
    "# Final Output"
   ]
  },
  {
   "cell_type": "code",
   "execution_count": 60,
   "id": "96d280a3",
   "metadata": {
    "execution": {
     "iopub.execute_input": "2025-08-06T18:06:53.699321Z",
     "iopub.status.busy": "2025-08-06T18:06:53.698665Z",
     "iopub.status.idle": "2025-08-06T18:06:53.706986Z",
     "shell.execute_reply": "2025-08-06T18:06:53.706155Z"
    },
    "papermill": {
     "duration": 0.034865,
     "end_time": "2025-08-06T18:06:53.708316",
     "exception": false,
     "start_time": "2025-08-06T18:06:53.673451",
     "status": "completed"
    },
    "tags": []
   },
   "outputs": [
    {
     "data": {
      "text/plain": [
       "4"
      ]
     },
     "execution_count": 60,
     "metadata": {},
     "output_type": "execute_result"
    }
   ],
   "source": [
    "sub_universes = universe_analysis.generate_sub_universes()\n",
    "len(sub_universes)"
   ]
  },
  {
   "cell_type": "code",
   "execution_count": 61,
   "id": "92adf7ba",
   "metadata": {
    "execution": {
     "iopub.execute_input": "2025-08-06T18:06:53.736447Z",
     "iopub.status.busy": "2025-08-06T18:06:53.735896Z",
     "iopub.status.idle": "2025-08-06T18:06:53.740975Z",
     "shell.execute_reply": "2025-08-06T18:06:53.740153Z"
    },
    "papermill": {
     "duration": 0.02021,
     "end_time": "2025-08-06T18:06:53.742333",
     "exception": false,
     "start_time": "2025-08-06T18:06:53.722123",
     "status": "completed"
    },
    "tags": []
   },
   "outputs": [],
   "source": [
    "def filter_sub_universe_data(sub_universe, org_test):\n",
    "    # Keep all rows — no filtering\n",
    "    keep_rows_mask = np.ones(org_test.shape[0], dtype=bool)\n",
    "\n",
    "    print(f\"[INFO] Keeping all rows: {keep_rows_mask.sum()} rows retained.\")\n",
    "    return keep_rows_mask"
   ]
  },
  {
   "cell_type": "code",
   "execution_count": 62,
   "id": "4a759155",
   "metadata": {
    "execution": {
     "iopub.execute_input": "2025-08-06T18:06:53.792317Z",
     "iopub.status.busy": "2025-08-06T18:06:53.791842Z",
     "iopub.status.idle": "2025-08-06T18:07:04.251538Z",
     "shell.execute_reply": "2025-08-06T18:07:04.250789Z"
    },
    "papermill": {
     "duration": 10.488348,
     "end_time": "2025-08-06T18:07:04.253087",
     "exception": false,
     "start_time": "2025-08-06T18:06:53.764739",
     "status": "completed"
    },
    "tags": []
   },
   "outputs": [
    {
     "name": "stdout",
     "output_type": "stream",
     "text": [
      "Stopping execution_time clock.\n",
      "[INFO] Keeping all rows: 89710 rows retained.\n"
     ]
    },
    {
     "name": "stdout",
     "output_type": "stream",
     "text": [
      "[INFO] Keeping all rows: 89710 rows retained.\n"
     ]
    },
    {
     "name": "stdout",
     "output_type": "stream",
     "text": [
      "[INFO] Keeping all rows: 89710 rows retained.\n"
     ]
    },
    {
     "name": "stdout",
     "output_type": "stream",
     "text": [
      "[INFO] Keeping all rows: 89710 rows retained.\n"
     ]
    },
    {
     "data": {
      "text/html": [
       "<div>\n",
       "<style scoped>\n",
       "    .dataframe tbody tr th:only-of-type {\n",
       "        vertical-align: middle;\n",
       "    }\n",
       "\n",
       "    .dataframe tbody tr th {\n",
       "        vertical-align: top;\n",
       "    }\n",
       "\n",
       "    .dataframe thead th {\n",
       "        text-align: right;\n",
       "    }\n",
       "</style>\n",
       "<table border=\"1\" class=\"dataframe\">\n",
       "  <thead>\n",
       "    <tr style=\"text-align: right;\">\n",
       "      <th></th>\n",
       "      <th>run_no</th>\n",
       "      <th>universe_id</th>\n",
       "      <th>universe_settings</th>\n",
       "      <th>execution_time</th>\n",
       "      <th>test_size_n</th>\n",
       "      <th>test_size_frac</th>\n",
       "      <th>fair_main_equalized_odds_difference</th>\n",
       "      <th>fair_main_equalized_odds_ratio</th>\n",
       "      <th>fair_main_demographic_parity_difference</th>\n",
       "      <th>fair_main_demographic_parity_ratio</th>\n",
       "      <th>...</th>\n",
       "      <th>perf_grp_precision_0</th>\n",
       "      <th>perf_grp_precision_1</th>\n",
       "      <th>perf_grp_false positive rate_0</th>\n",
       "      <th>perf_grp_false positive rate_1</th>\n",
       "      <th>perf_grp_false negative rate_0</th>\n",
       "      <th>perf_grp_false negative rate_1</th>\n",
       "      <th>perf_grp_selection rate_0</th>\n",
       "      <th>perf_grp_selection rate_1</th>\n",
       "      <th>perf_grp_count_0</th>\n",
       "      <th>perf_grp_count_1</th>\n",
       "    </tr>\n",
       "  </thead>\n",
       "  <tbody>\n",
       "    <tr>\n",
       "      <th>0</th>\n",
       "      <td>1</td>\n",
       "      <td>e85e96a1180825b65bc35eb3a69551d9</td>\n",
       "      <td>{\"cutoff\": \"quantile_0.1\", \"eval_fairness_grou...</td>\n",
       "      <td>26.159301</td>\n",
       "      <td>89710</td>\n",
       "      <td>1.0</td>\n",
       "      <td>0.064301</td>\n",
       "      <td>0.931539</td>\n",
       "      <td>0.057144</td>\n",
       "      <td>0.939470</td>\n",
       "      <td>...</td>\n",
       "      <td>NaN</td>\n",
       "      <td>NaN</td>\n",
       "      <td>NaN</td>\n",
       "      <td>NaN</td>\n",
       "      <td>NaN</td>\n",
       "      <td>NaN</td>\n",
       "      <td>NaN</td>\n",
       "      <td>NaN</td>\n",
       "      <td>NaN</td>\n",
       "      <td>NaN</td>\n",
       "    </tr>\n",
       "    <tr>\n",
       "      <th>0</th>\n",
       "      <td>1</td>\n",
       "      <td>e85e96a1180825b65bc35eb3a69551d9</td>\n",
       "      <td>{\"cutoff\": \"quantile_0.1\", \"eval_fairness_grou...</td>\n",
       "      <td>26.159301</td>\n",
       "      <td>89710</td>\n",
       "      <td>1.0</td>\n",
       "      <td>0.064301</td>\n",
       "      <td>0.931539</td>\n",
       "      <td>0.057144</td>\n",
       "      <td>0.939470</td>\n",
       "      <td>...</td>\n",
       "      <td>0.119798</td>\n",
       "      <td>0.143851</td>\n",
       "      <td>0.939247</td>\n",
       "      <td>0.874946</td>\n",
       "      <td>0.019003</td>\n",
       "      <td>0.034464</td>\n",
       "      <td>0.944060</td>\n",
       "      <td>0.886916</td>\n",
       "      <td>20540.0</td>\n",
       "      <td>69170.0</td>\n",
       "    </tr>\n",
       "    <tr>\n",
       "      <th>0</th>\n",
       "      <td>1</td>\n",
       "      <td>e85e96a1180825b65bc35eb3a69551d9</td>\n",
       "      <td>{\"cutoff\": \"quantile_0.25\", \"eval_fairness_gro...</td>\n",
       "      <td>26.159301</td>\n",
       "      <td>89710</td>\n",
       "      <td>1.0</td>\n",
       "      <td>0.045673</td>\n",
       "      <td>0.949559</td>\n",
       "      <td>0.009289</td>\n",
       "      <td>0.987731</td>\n",
       "      <td>...</td>\n",
       "      <td>NaN</td>\n",
       "      <td>NaN</td>\n",
       "      <td>NaN</td>\n",
       "      <td>NaN</td>\n",
       "      <td>NaN</td>\n",
       "      <td>NaN</td>\n",
       "      <td>NaN</td>\n",
       "      <td>NaN</td>\n",
       "      <td>NaN</td>\n",
       "      <td>NaN</td>\n",
       "    </tr>\n",
       "    <tr>\n",
       "      <th>0</th>\n",
       "      <td>1</td>\n",
       "      <td>e85e96a1180825b65bc35eb3a69551d9</td>\n",
       "      <td>{\"cutoff\": \"quantile_0.25\", \"eval_fairness_gro...</td>\n",
       "      <td>26.159301</td>\n",
       "      <td>89710</td>\n",
       "      <td>1.0</td>\n",
       "      <td>0.045673</td>\n",
       "      <td>0.949559</td>\n",
       "      <td>0.009289</td>\n",
       "      <td>0.987731</td>\n",
       "      <td>...</td>\n",
       "      <td>0.130916</td>\n",
       "      <td>0.159985</td>\n",
       "      <td>0.743782</td>\n",
       "      <td>0.723871</td>\n",
       "      <td>0.140203</td>\n",
       "      <td>0.094530</td>\n",
       "      <td>0.757157</td>\n",
       "      <td>0.747868</td>\n",
       "      <td>20540.0</td>\n",
       "      <td>69170.0</td>\n",
       "    </tr>\n",
       "  </tbody>\n",
       "</table>\n",
       "<p>4 rows × 50 columns</p>\n",
       "</div>"
      ],
      "text/plain": [
       "  run_no                       universe_id  \\\n",
       "0      1  e85e96a1180825b65bc35eb3a69551d9   \n",
       "0      1  e85e96a1180825b65bc35eb3a69551d9   \n",
       "0      1  e85e96a1180825b65bc35eb3a69551d9   \n",
       "0      1  e85e96a1180825b65bc35eb3a69551d9   \n",
       "\n",
       "                                   universe_settings  execution_time  \\\n",
       "0  {\"cutoff\": \"quantile_0.1\", \"eval_fairness_grou...       26.159301   \n",
       "0  {\"cutoff\": \"quantile_0.1\", \"eval_fairness_grou...       26.159301   \n",
       "0  {\"cutoff\": \"quantile_0.25\", \"eval_fairness_gro...       26.159301   \n",
       "0  {\"cutoff\": \"quantile_0.25\", \"eval_fairness_gro...       26.159301   \n",
       "\n",
       "   test_size_n  test_size_frac  fair_main_equalized_odds_difference  \\\n",
       "0        89710             1.0                             0.064301   \n",
       "0        89710             1.0                             0.064301   \n",
       "0        89710             1.0                             0.045673   \n",
       "0        89710             1.0                             0.045673   \n",
       "\n",
       "   fair_main_equalized_odds_ratio  fair_main_demographic_parity_difference  \\\n",
       "0                        0.931539                                 0.057144   \n",
       "0                        0.931539                                 0.057144   \n",
       "0                        0.949559                                 0.009289   \n",
       "0                        0.949559                                 0.009289   \n",
       "\n",
       "   fair_main_demographic_parity_ratio  ...  perf_grp_precision_0  \\\n",
       "0                            0.939470  ...                   NaN   \n",
       "0                            0.939470  ...              0.119798   \n",
       "0                            0.987731  ...                   NaN   \n",
       "0                            0.987731  ...              0.130916   \n",
       "\n",
       "   perf_grp_precision_1  perf_grp_false positive rate_0  \\\n",
       "0                   NaN                             NaN   \n",
       "0              0.143851                        0.939247   \n",
       "0                   NaN                             NaN   \n",
       "0              0.159985                        0.743782   \n",
       "\n",
       "   perf_grp_false positive rate_1  perf_grp_false negative rate_0  \\\n",
       "0                             NaN                             NaN   \n",
       "0                        0.874946                        0.019003   \n",
       "0                             NaN                             NaN   \n",
       "0                        0.723871                        0.140203   \n",
       "\n",
       "   perf_grp_false negative rate_1  perf_grp_selection rate_0  \\\n",
       "0                             NaN                        NaN   \n",
       "0                        0.034464                   0.944060   \n",
       "0                             NaN                        NaN   \n",
       "0                        0.094530                   0.757157   \n",
       "\n",
       "   perf_grp_selection rate_1  perf_grp_count_0  perf_grp_count_1  \n",
       "0                        NaN               NaN               NaN  \n",
       "0                   0.886916           20540.0           69170.0  \n",
       "0                        NaN               NaN               NaN  \n",
       "0                   0.747868           20540.0           69170.0  \n",
       "\n",
       "[4 rows x 50 columns]"
      ]
     },
     "execution_count": 62,
     "metadata": {},
     "output_type": "execute_result"
    }
   ],
   "source": [
    "final_output = universe_analysis.generate_final_output(\n",
    "    y_pred_prob=probs_test,\n",
    "    y_test=y_true,\n",
    "    org_test=org_test,\n",
    "    filter_data=filter_sub_universe_data,\n",
    "    cp_metrics_df=cp_metrics_df,\n",
    "    save=True,\n",
    ")\n",
    "final_output"
   ]
  },
  {
   "cell_type": "code",
   "execution_count": null,
   "id": "571f9a0f-660a-4841-b661-b06fbc637944",
   "metadata": {
    "papermill": {
     "duration": 0.026707,
     "end_time": "2025-08-06T18:07:04.309393",
     "exception": false,
     "start_time": "2025-08-06T18:07:04.282686",
     "status": "completed"
    },
    "tags": []
   },
   "outputs": [],
   "source": []
  },
  {
   "cell_type": "code",
   "execution_count": null,
   "id": "529482e3-0150-4854-a92d-ab864efc606e",
   "metadata": {
    "papermill": {
     "duration": 0.0284,
     "end_time": "2025-08-06T18:07:04.364375",
     "exception": false,
     "start_time": "2025-08-06T18:07:04.335975",
     "status": "completed"
    },
    "tags": []
   },
   "outputs": [],
   "source": []
  }
 ],
 "metadata": {
  "celltoolbar": "Tags",
  "kernelspec": {
   "display_name": "Python (CMA Fairness)",
   "language": "python",
   "name": "cma_fair_env"
  },
  "language_info": {
   "codemirror_mode": {
    "name": "ipython",
    "version": 3
   },
   "file_extension": ".py",
   "mimetype": "text/x-python",
   "name": "python",
   "nbconvert_exporter": "python",
   "pygments_lexer": "ipython3",
   "version": "3.10.12"
  },
  "papermill": {
   "default_parameters": {},
   "duration": 40.855236,
   "end_time": "2025-08-06T18:07:05.211162",
   "environment_variables": {},
   "exception": null,
   "input_path": "universe_analysis.ipynb",
   "output_path": "output/runs/1/notebooks/m_1-e85e96a1180825b65bc35eb3a69551d9.ipynb",
   "parameters": {
    "output_dir": "output",
    "run_no": "1",
    "seed": "2023",
    "universe": "{\"cutoff\": [\"quantile_0.1\", \"quantile_0.25\"], \"eval_fairness_grouping\": [\"majority-minority\", \"nationality-all\"], \"exclude_features\": \"none\", \"exclude_subgroups\": \"keep-all\", \"model\": \"penalized_logreg\", \"scale\": \"scale\", \"training_size\": \"1k\", \"training_year\": \"2010_14\"}",
    "universe_id": "e85e96a1180825b65bc35eb3a69551d9"
   },
   "start_time": "2025-08-06T18:06:24.355926",
   "version": "2.6.0"
  }
 },
 "nbformat": 4,
 "nbformat_minor": 5
}