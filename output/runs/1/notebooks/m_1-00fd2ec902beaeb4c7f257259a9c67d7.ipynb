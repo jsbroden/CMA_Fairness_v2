{
 "cells": [
  {
   "cell_type": "markdown",
   "id": "b2057076-3a91-4cfa-9bfd-eab1e61b3068",
   "metadata": {
    "papermill": {
     "duration": 0.01567,
     "end_time": "2025-08-06T17:32:28.849928",
     "exception": false,
     "start_time": "2025-08-06T17:32:28.834258",
     "status": "completed"
    },
    "tags": []
   },
   "source": [
    "# Setup"
   ]
  },
  {
   "cell_type": "code",
   "execution_count": 1,
   "id": "f159f837-637b-42ba-96b5-ec9a68c44524",
   "metadata": {
    "execution": {
     "iopub.execute_input": "2025-08-06T17:32:28.882165Z",
     "iopub.status.busy": "2025-08-06T17:32:28.881678Z",
     "iopub.status.idle": "2025-08-06T17:32:28.896136Z",
     "shell.execute_reply": "2025-08-06T17:32:28.894964Z"
    },
    "papermill": {
     "duration": 0.032493,
     "end_time": "2025-08-06T17:32:28.897864",
     "exception": false,
     "start_time": "2025-08-06T17:32:28.865371",
     "status": "completed"
    },
    "tags": []
   },
   "outputs": [
    {
     "name": "stdout",
     "output_type": "stream",
     "text": [
      "/dss/dsshome1/0C/ra93lal2/cma/CMA_Fairness_v2\n"
     ]
    },
    {
     "name": "stderr",
     "output_type": "stream",
     "text": [
      "/dss/dsshome1/0C/ra93lal2/.local/share/virtualenvs/CMA_Fairness_v2-3j10GkSs/lib/python3.10/site-packages/IPython/core/magics/osm.py:393: UserWarning: This is now an optional IPython functionality, using bookmarks requires you to install the `pickleshare` library.\n",
      "  bkms = self.shell.db.get('bookmarks', {})\n",
      "/dss/dsshome1/0C/ra93lal2/.local/share/virtualenvs/CMA_Fairness_v2-3j10GkSs/lib/python3.10/site-packages/IPython/core/magics/osm.py:417: UserWarning: This is now an optional IPython functionality, setting dhist requires you to install the `pickleshare` library.\n",
      "  self.shell.db['dhist'] = compress_dhist(dhist)[-100:]\n"
     ]
    }
   ],
   "source": [
    "%cd ~/cma/CMA_Fairness_v2"
   ]
  },
  {
   "cell_type": "markdown",
   "id": "de2603b9",
   "metadata": {
    "papermill": {
     "duration": 0.016406,
     "end_time": "2025-08-06T17:32:28.930739",
     "exception": false,
     "start_time": "2025-08-06T17:32:28.914333",
     "status": "completed"
    },
    "tags": []
   },
   "source": [
    "The following cell holds the definition of our parameters, these values can be overriden by rendering the with e.g. the following command:\n",
    "\n",
    "papermill -p alpha 0.2 -p ratio 0.3 universe_analysis.ipynb output/test_run.ipynb"
   ]
  },
  {
   "cell_type": "code",
   "execution_count": 2,
   "id": "a80968a0-40bb-4fa9-85ef-2d5eefb01975",
   "metadata": {
    "execution": {
     "iopub.execute_input": "2025-08-06T17:32:28.964043Z",
     "iopub.status.busy": "2025-08-06T17:32:28.963230Z",
     "iopub.status.idle": "2025-08-06T17:32:28.969507Z",
     "shell.execute_reply": "2025-08-06T17:32:28.968487Z"
    },
    "papermill": {
     "duration": 0.024307,
     "end_time": "2025-08-06T17:32:28.971287",
     "exception": false,
     "start_time": "2025-08-06T17:32:28.946980",
     "status": "completed"
    },
    "tags": []
   },
   "outputs": [
    {
     "name": "stdout",
     "output_type": "stream",
     "text": [
      "Current working directory: /dss/dsshome1/0C/ra93lal2/cma/CMA_Fairness_v2\n"
     ]
    }
   ],
   "source": [
    "import os\n",
    "print(\"Current working directory:\", os.getcwd())"
   ]
  },
  {
   "cell_type": "code",
   "execution_count": 3,
   "id": "2dce4c03",
   "metadata": {
    "execution": {
     "iopub.execute_input": "2025-08-06T17:32:29.010107Z",
     "iopub.status.busy": "2025-08-06T17:32:29.009750Z",
     "iopub.status.idle": "2025-08-06T17:32:29.014121Z",
     "shell.execute_reply": "2025-08-06T17:32:29.013462Z"
    },
    "papermill": {
     "duration": 0.025758,
     "end_time": "2025-08-06T17:32:29.015743",
     "exception": false,
     "start_time": "2025-08-06T17:32:28.989985",
     "status": "completed"
    },
    "tags": [
     "parameters"
    ]
   },
   "outputs": [],
   "source": [
    "run_no = 0\n",
    "universe_id = \"test\"\n",
    "universe = {\n",
    "    \"training_size\": \"5k\", # \"25k\", \"5k\", \"1k\"\n",
    "    \"training_year\": \"2012_14\", # \"2014\", \"2012_14\", \"2010_14\"\n",
    "    \"scale\": \"scale\", # \"scale\", \"do-not-scale\",\n",
    "    \"model\": \"elasticnet\", # \"logreg\", \"penalized_logreg\", \"rf\", \"gbm\", \"elasticnet\"\n",
    "    \"cutoff\": [\"quantile_0.15\", \"quantile_0.30\"],\n",
    "    \"exclude_features\": \"age\", # \"none\", \"nationality\", \"sex\", \"nationality-sex\", \"age\"\n",
    "    \"exclude_subgroups\": \"drop-non-german\", # \"keep-all\", \"drop-non-german\"\n",
    "    \"eval_fairness_grouping\": [\"majority-minority\", \"nationality-all\"]\n",
    "}\n",
    "\n",
    "output_dir=\"./output\"\n",
    "seed=0"
   ]
  },
  {
   "cell_type": "code",
   "execution_count": 4,
   "id": "6d12b45d",
   "metadata": {
    "execution": {
     "iopub.execute_input": "2025-08-06T17:32:29.061151Z",
     "iopub.status.busy": "2025-08-06T17:32:29.060747Z",
     "iopub.status.idle": "2025-08-06T17:32:29.066448Z",
     "shell.execute_reply": "2025-08-06T17:32:29.065215Z"
    },
    "papermill": {
     "duration": 0.032194,
     "end_time": "2025-08-06T17:32:29.068532",
     "exception": false,
     "start_time": "2025-08-06T17:32:29.036338",
     "status": "completed"
    },
    "tags": [
     "injected-parameters"
    ]
   },
   "outputs": [],
   "source": [
    "# Parameters\n",
    "universe_id = \"00fd2ec902beaeb4c7f257259a9c67d7\"\n",
    "run_no = \"1\"\n",
    "universe = \"{\\\"cutoff\\\": [\\\"quantile_0.1\\\", \\\"quantile_0.25\\\"], \\\"eval_fairness_grouping\\\": [\\\"majority-minority\\\", \\\"nationality-all\\\"], \\\"exclude_features\\\": \\\"none\\\", \\\"exclude_subgroups\\\": \\\"keep-all\\\", \\\"model\\\": \\\"rf\\\", \\\"scale\\\": \\\"do-not-scale\\\", \\\"training_size\\\": \\\"5k\\\", \\\"training_year\\\": \\\"2012_14\\\"}\"\n",
    "output_dir = \"output\"\n",
    "seed = \"2023\"\n"
   ]
  },
  {
   "cell_type": "code",
   "execution_count": 5,
   "id": "1650acaf",
   "metadata": {
    "execution": {
     "iopub.execute_input": "2025-08-06T17:32:29.106795Z",
     "iopub.status.busy": "2025-08-06T17:32:29.106125Z",
     "iopub.status.idle": "2025-08-06T17:32:29.114108Z",
     "shell.execute_reply": "2025-08-06T17:32:29.113156Z"
    },
    "papermill": {
     "duration": 0.026616,
     "end_time": "2025-08-06T17:32:29.115799",
     "exception": false,
     "start_time": "2025-08-06T17:32:29.089183",
     "status": "completed"
    },
    "tags": []
   },
   "outputs": [],
   "source": [
    "import json\n",
    "if isinstance(universe, str):\n",
    "    universe = json.loads(universe)"
   ]
  },
  {
   "cell_type": "code",
   "execution_count": 6,
   "id": "16620c48",
   "metadata": {
    "execution": {
     "iopub.execute_input": "2025-08-06T17:32:29.149523Z",
     "iopub.status.busy": "2025-08-06T17:32:29.148641Z",
     "iopub.status.idle": "2025-08-06T17:32:29.178910Z",
     "shell.execute_reply": "2025-08-06T17:32:29.178253Z"
    },
    "papermill": {
     "duration": 0.048585,
     "end_time": "2025-08-06T17:32:29.180220",
     "exception": false,
     "start_time": "2025-08-06T17:32:29.131635",
     "status": "completed"
    },
    "tags": []
   },
   "outputs": [],
   "source": [
    "# Auto-reload the custom package\n",
    "%load_ext autoreload\n",
    "%autoreload 1\n",
    "%aimport fairness_multiverse"
   ]
  },
  {
   "cell_type": "code",
   "execution_count": 7,
   "id": "01c5c9f3",
   "metadata": {
    "execution": {
     "iopub.execute_input": "2025-08-06T17:32:29.199204Z",
     "iopub.status.busy": "2025-08-06T17:32:29.198548Z",
     "iopub.status.idle": "2025-08-06T17:32:31.107499Z",
     "shell.execute_reply": "2025-08-06T17:32:31.106507Z"
    },
    "papermill": {
     "duration": 1.92017,
     "end_time": "2025-08-06T17:32:31.109445",
     "exception": false,
     "start_time": "2025-08-06T17:32:29.189275",
     "status": "completed"
    },
    "tags": []
   },
   "outputs": [],
   "source": [
    "from fairness_multiverse.universe import UniverseAnalysis\n",
    "\n",
    "universe_analysis = UniverseAnalysis(\n",
    "    run_no = run_no,\n",
    "    universe_id = universe_id,\n",
    "    universe = universe,\n",
    "    output_dir=output_dir,\n",
    ")"
   ]
  },
  {
   "cell_type": "code",
   "execution_count": 8,
   "id": "106241f5",
   "metadata": {
    "execution": {
     "iopub.execute_input": "2025-08-06T17:32:31.143575Z",
     "iopub.status.busy": "2025-08-06T17:32:31.142650Z",
     "iopub.status.idle": "2025-08-06T17:32:31.149154Z",
     "shell.execute_reply": "2025-08-06T17:32:31.148212Z"
    },
    "papermill": {
     "duration": 0.024807,
     "end_time": "2025-08-06T17:32:31.150906",
     "exception": false,
     "start_time": "2025-08-06T17:32:31.126099",
     "status": "completed"
    },
    "tags": []
   },
   "outputs": [
    {
     "name": "stdout",
     "output_type": "stream",
     "text": [
      "Using Seed: 2023\n"
     ]
    }
   ],
   "source": [
    "import numpy as np\n",
    "parsed_seed = int(seed)\n",
    "np.random.seed(parsed_seed)\n",
    "print(f\"Using Seed: {parsed_seed}\")"
   ]
  },
  {
   "cell_type": "markdown",
   "id": "e0ebdc57",
   "metadata": {
    "papermill": {
     "duration": 0.016852,
     "end_time": "2025-08-06T17:32:31.184655",
     "exception": false,
     "start_time": "2025-08-06T17:32:31.167803",
     "status": "completed"
    },
    "tags": []
   },
   "source": [
    "# Loading Data"
   ]
  },
  {
   "cell_type": "code",
   "execution_count": 9,
   "id": "f0496b8a",
   "metadata": {
    "execution": {
     "iopub.execute_input": "2025-08-06T17:32:31.220824Z",
     "iopub.status.busy": "2025-08-06T17:32:31.220006Z",
     "iopub.status.idle": "2025-08-06T17:32:43.566211Z",
     "shell.execute_reply": "2025-08-06T17:32:43.564885Z"
    },
    "papermill": {
     "duration": 12.366702,
     "end_time": "2025-08-06T17:32:43.568164",
     "exception": false,
     "start_time": "2025-08-06T17:32:31.201462",
     "status": "completed"
    },
    "tags": []
   },
   "outputs": [
    {
     "name": "stdout",
     "output_type": "stream",
     "text": [
      "Loading SIAB data from cache: data/siab_cached.csv.gz\n"
     ]
    },
    {
     "name": "stdout",
     "output_type": "stream",
     "text": [
      "(643690, 164)\n"
     ]
    }
   ],
   "source": [
    "from pathlib import Path\n",
    "import pandas as pd\n",
    "\n",
    "# File paths\n",
    "raw_file = Path(\"data/raw/siab.csv\")\n",
    "cache_file = Path(\"data/siab_cached.csv.gz\")\n",
    "\n",
    "# Ensure cache directory exists\n",
    "cache_file.parent.mkdir(parents=True, exist_ok=True)\n",
    "\n",
    "# Load with simple caching\n",
    "if cache_file.exists():\n",
    "    print(f\"Loading SIAB data from cache: {cache_file}\")\n",
    "    siab = pd.read_csv(cache_file, compression='gzip')\n",
    "else:\n",
    "    print(f\"Cache not found. Reading raw SIAB data: {raw_file}\")\n",
    "    siab = pd.read_csv(raw_file)\n",
    "    siab.to_csv(cache_file, index=False, compression='gzip')\n",
    "    print(f\"Cached SIAB data to: {cache_file}\")\n",
    "\n",
    "print(siab.shape)"
   ]
  },
  {
   "cell_type": "code",
   "execution_count": 10,
   "id": "db0ca512-5f53-4dba-abdb-a2888bca41ba",
   "metadata": {
    "execution": {
     "iopub.execute_input": "2025-08-06T17:32:43.608291Z",
     "iopub.status.busy": "2025-08-06T17:32:43.607545Z",
     "iopub.status.idle": "2025-08-06T17:32:43.740464Z",
     "shell.execute_reply": "2025-08-06T17:32:43.739441Z"
    },
    "papermill": {
     "duration": 0.154033,
     "end_time": "2025-08-06T17:32:43.742212",
     "exception": false,
     "start_time": "2025-08-06T17:32:43.588179",
     "status": "completed"
    },
    "tags": []
   },
   "outputs": [
    {
     "data": {
      "text/html": [
       "<div>\n",
       "<style scoped>\n",
       "    .dataframe tbody tr th:only-of-type {\n",
       "        vertical-align: middle;\n",
       "    }\n",
       "\n",
       "    .dataframe tbody tr th {\n",
       "        vertical-align: top;\n",
       "    }\n",
       "\n",
       "    .dataframe thead th {\n",
       "        text-align: right;\n",
       "    }\n",
       "</style>\n",
       "<table border=\"1\" class=\"dataframe\">\n",
       "  <thead>\n",
       "    <tr style=\"text-align: right;\">\n",
       "      <th></th>\n",
       "      <th>persnr</th>\n",
       "      <th>year</th>\n",
       "      <th>nrEntry</th>\n",
       "      <th>ltue</th>\n",
       "      <th>employed_before</th>\n",
       "      <th>receipt_leh_before</th>\n",
       "      <th>receipt_lhg_before</th>\n",
       "      <th>se_before</th>\n",
       "      <th>ASU_notue_seeking_before</th>\n",
       "      <th>ASU_other_before</th>\n",
       "      <th>...</th>\n",
       "      <th>minijob_tot_dur_byage</th>\n",
       "      <th>ft_tot_dur_byage</th>\n",
       "      <th>befrist_tot_dur_byage</th>\n",
       "      <th>leih_tot_dur_byage</th>\n",
       "      <th>LHG_tot_dur_byage</th>\n",
       "      <th>LEH_tot_dur_byage</th>\n",
       "      <th>almp_tot_dur_byage</th>\n",
       "      <th>almp_aw_tot_dur_byage</th>\n",
       "      <th>se_tot_dur_byage</th>\n",
       "      <th>seeking1_tot_dur_byage</th>\n",
       "    </tr>\n",
       "  </thead>\n",
       "  <tbody>\n",
       "    <tr>\n",
       "      <th>0</th>\n",
       "      <td>7</td>\n",
       "      <td>2015</td>\n",
       "      <td>1</td>\n",
       "      <td>0</td>\n",
       "      <td>1</td>\n",
       "      <td>0</td>\n",
       "      <td>0</td>\n",
       "      <td>0</td>\n",
       "      <td>1</td>\n",
       "      <td>0</td>\n",
       "      <td>...</td>\n",
       "      <td>0.000000</td>\n",
       "      <td>0.000000</td>\n",
       "      <td>15.043478</td>\n",
       "      <td>0.000000</td>\n",
       "      <td>0.000000</td>\n",
       "      <td>0.000000</td>\n",
       "      <td>0.000000</td>\n",
       "      <td>0.000000</td>\n",
       "      <td>0.000000</td>\n",
       "      <td>0.000000</td>\n",
       "    </tr>\n",
       "    <tr>\n",
       "      <th>1</th>\n",
       "      <td>18</td>\n",
       "      <td>2010</td>\n",
       "      <td>1</td>\n",
       "      <td>1</td>\n",
       "      <td>0</td>\n",
       "      <td>0</td>\n",
       "      <td>0</td>\n",
       "      <td>0</td>\n",
       "      <td>0</td>\n",
       "      <td>0</td>\n",
       "      <td>...</td>\n",
       "      <td>0.000000</td>\n",
       "      <td>0.000000</td>\n",
       "      <td>0.000000</td>\n",
       "      <td>0.000000</td>\n",
       "      <td>0.000000</td>\n",
       "      <td>0.000000</td>\n",
       "      <td>0.000000</td>\n",
       "      <td>0.000000</td>\n",
       "      <td>0.000000</td>\n",
       "      <td>0.000000</td>\n",
       "    </tr>\n",
       "    <tr>\n",
       "      <th>2</th>\n",
       "      <td>18</td>\n",
       "      <td>2011</td>\n",
       "      <td>2</td>\n",
       "      <td>0</td>\n",
       "      <td>1</td>\n",
       "      <td>0</td>\n",
       "      <td>1</td>\n",
       "      <td>0</td>\n",
       "      <td>1</td>\n",
       "      <td>0</td>\n",
       "      <td>...</td>\n",
       "      <td>2.714286</td>\n",
       "      <td>2.714286</td>\n",
       "      <td>0.000000</td>\n",
       "      <td>0.000000</td>\n",
       "      <td>10.775510</td>\n",
       "      <td>0.000000</td>\n",
       "      <td>8.367347</td>\n",
       "      <td>0.000000</td>\n",
       "      <td>0.000000</td>\n",
       "      <td>9.836735</td>\n",
       "    </tr>\n",
       "    <tr>\n",
       "      <th>3</th>\n",
       "      <td>18</td>\n",
       "      <td>2012</td>\n",
       "      <td>3</td>\n",
       "      <td>0</td>\n",
       "      <td>1</td>\n",
       "      <td>0</td>\n",
       "      <td>1</td>\n",
       "      <td>0</td>\n",
       "      <td>1</td>\n",
       "      <td>0</td>\n",
       "      <td>...</td>\n",
       "      <td>4.200000</td>\n",
       "      <td>4.200000</td>\n",
       "      <td>0.000000</td>\n",
       "      <td>0.000000</td>\n",
       "      <td>12.100000</td>\n",
       "      <td>0.000000</td>\n",
       "      <td>9.400000</td>\n",
       "      <td>0.000000</td>\n",
       "      <td>0.000000</td>\n",
       "      <td>9.960000</td>\n",
       "    </tr>\n",
       "    <tr>\n",
       "      <th>4</th>\n",
       "      <td>18</td>\n",
       "      <td>2012</td>\n",
       "      <td>4</td>\n",
       "      <td>0</td>\n",
       "      <td>1</td>\n",
       "      <td>0</td>\n",
       "      <td>1</td>\n",
       "      <td>0</td>\n",
       "      <td>1</td>\n",
       "      <td>0</td>\n",
       "      <td>...</td>\n",
       "      <td>5.460000</td>\n",
       "      <td>5.460000</td>\n",
       "      <td>0.000000</td>\n",
       "      <td>0.000000</td>\n",
       "      <td>13.360000</td>\n",
       "      <td>0.000000</td>\n",
       "      <td>10.320000</td>\n",
       "      <td>0.000000</td>\n",
       "      <td>0.000000</td>\n",
       "      <td>10.280000</td>\n",
       "    </tr>\n",
       "    <tr>\n",
       "      <th>...</th>\n",
       "      <td>...</td>\n",
       "      <td>...</td>\n",
       "      <td>...</td>\n",
       "      <td>...</td>\n",
       "      <td>...</td>\n",
       "      <td>...</td>\n",
       "      <td>...</td>\n",
       "      <td>...</td>\n",
       "      <td>...</td>\n",
       "      <td>...</td>\n",
       "      <td>...</td>\n",
       "      <td>...</td>\n",
       "      <td>...</td>\n",
       "      <td>...</td>\n",
       "      <td>...</td>\n",
       "      <td>...</td>\n",
       "      <td>...</td>\n",
       "      <td>...</td>\n",
       "      <td>...</td>\n",
       "      <td>...</td>\n",
       "      <td>...</td>\n",
       "    </tr>\n",
       "    <tr>\n",
       "      <th>643685</th>\n",
       "      <td>1827860</td>\n",
       "      <td>2013</td>\n",
       "      <td>1</td>\n",
       "      <td>0</td>\n",
       "      <td>0</td>\n",
       "      <td>0</td>\n",
       "      <td>1</td>\n",
       "      <td>0</td>\n",
       "      <td>0</td>\n",
       "      <td>1</td>\n",
       "      <td>...</td>\n",
       "      <td>0.000000</td>\n",
       "      <td>0.000000</td>\n",
       "      <td>0.000000</td>\n",
       "      <td>0.000000</td>\n",
       "      <td>0.612903</td>\n",
       "      <td>0.000000</td>\n",
       "      <td>0.000000</td>\n",
       "      <td>0.000000</td>\n",
       "      <td>0.000000</td>\n",
       "      <td>0.000000</td>\n",
       "    </tr>\n",
       "    <tr>\n",
       "      <th>643686</th>\n",
       "      <td>1827860</td>\n",
       "      <td>2015</td>\n",
       "      <td>2</td>\n",
       "      <td>1</td>\n",
       "      <td>0</td>\n",
       "      <td>0</td>\n",
       "      <td>1</td>\n",
       "      <td>0</td>\n",
       "      <td>1</td>\n",
       "      <td>0</td>\n",
       "      <td>...</td>\n",
       "      <td>0.000000</td>\n",
       "      <td>0.000000</td>\n",
       "      <td>0.212121</td>\n",
       "      <td>0.212121</td>\n",
       "      <td>17.363636</td>\n",
       "      <td>0.000000</td>\n",
       "      <td>8.909091</td>\n",
       "      <td>0.000000</td>\n",
       "      <td>0.000000</td>\n",
       "      <td>7.121212</td>\n",
       "    </tr>\n",
       "    <tr>\n",
       "      <th>643687</th>\n",
       "      <td>1827860</td>\n",
       "      <td>2016</td>\n",
       "      <td>3</td>\n",
       "      <td>1</td>\n",
       "      <td>0</td>\n",
       "      <td>0</td>\n",
       "      <td>1</td>\n",
       "      <td>1</td>\n",
       "      <td>0</td>\n",
       "      <td>1</td>\n",
       "      <td>...</td>\n",
       "      <td>0.000000</td>\n",
       "      <td>0.000000</td>\n",
       "      <td>0.294118</td>\n",
       "      <td>0.205882</td>\n",
       "      <td>34.705882</td>\n",
       "      <td>0.000000</td>\n",
       "      <td>10.352941</td>\n",
       "      <td>1.705882</td>\n",
       "      <td>1.705882</td>\n",
       "      <td>23.911765</td>\n",
       "    </tr>\n",
       "    <tr>\n",
       "      <th>643688</th>\n",
       "      <td>1827869</td>\n",
       "      <td>2013</td>\n",
       "      <td>1</td>\n",
       "      <td>1</td>\n",
       "      <td>1</td>\n",
       "      <td>0</td>\n",
       "      <td>0</td>\n",
       "      <td>0</td>\n",
       "      <td>1</td>\n",
       "      <td>0</td>\n",
       "      <td>...</td>\n",
       "      <td>0.000000</td>\n",
       "      <td>0.000000</td>\n",
       "      <td>0.000000</td>\n",
       "      <td>0.000000</td>\n",
       "      <td>0.000000</td>\n",
       "      <td>0.525424</td>\n",
       "      <td>0.000000</td>\n",
       "      <td>0.000000</td>\n",
       "      <td>0.000000</td>\n",
       "      <td>0.000000</td>\n",
       "    </tr>\n",
       "    <tr>\n",
       "      <th>643689</th>\n",
       "      <td>1827869</td>\n",
       "      <td>2014</td>\n",
       "      <td>2</td>\n",
       "      <td>0</td>\n",
       "      <td>0</td>\n",
       "      <td>1</td>\n",
       "      <td>0</td>\n",
       "      <td>0</td>\n",
       "      <td>1</td>\n",
       "      <td>0</td>\n",
       "      <td>...</td>\n",
       "      <td>0.000000</td>\n",
       "      <td>0.666667</td>\n",
       "      <td>0.666667</td>\n",
       "      <td>0.000000</td>\n",
       "      <td>0.000000</td>\n",
       "      <td>8.950000</td>\n",
       "      <td>1.033333</td>\n",
       "      <td>0.083333</td>\n",
       "      <td>0.083333</td>\n",
       "      <td>8.133333</td>\n",
       "    </tr>\n",
       "  </tbody>\n",
       "</table>\n",
       "<p>643690 rows × 164 columns</p>\n",
       "</div>"
      ],
      "text/plain": [
       "         persnr  year  nrEntry  ltue  employed_before  receipt_leh_before  \\\n",
       "0             7  2015        1     0                1                   0   \n",
       "1            18  2010        1     1                0                   0   \n",
       "2            18  2011        2     0                1                   0   \n",
       "3            18  2012        3     0                1                   0   \n",
       "4            18  2012        4     0                1                   0   \n",
       "...         ...   ...      ...   ...              ...                 ...   \n",
       "643685  1827860  2013        1     0                0                   0   \n",
       "643686  1827860  2015        2     1                0                   0   \n",
       "643687  1827860  2016        3     1                0                   0   \n",
       "643688  1827869  2013        1     1                1                   0   \n",
       "643689  1827869  2014        2     0                0                   1   \n",
       "\n",
       "        receipt_lhg_before  se_before  ASU_notue_seeking_before  \\\n",
       "0                        0          0                         1   \n",
       "1                        0          0                         0   \n",
       "2                        1          0                         1   \n",
       "3                        1          0                         1   \n",
       "4                        1          0                         1   \n",
       "...                    ...        ...                       ...   \n",
       "643685                   1          0                         0   \n",
       "643686                   1          0                         1   \n",
       "643687                   1          1                         0   \n",
       "643688                   0          0                         1   \n",
       "643689                   0          0                         1   \n",
       "\n",
       "        ASU_other_before  ...  minijob_tot_dur_byage  ft_tot_dur_byage  \\\n",
       "0                      0  ...               0.000000          0.000000   \n",
       "1                      0  ...               0.000000          0.000000   \n",
       "2                      0  ...               2.714286          2.714286   \n",
       "3                      0  ...               4.200000          4.200000   \n",
       "4                      0  ...               5.460000          5.460000   \n",
       "...                  ...  ...                    ...               ...   \n",
       "643685                 1  ...               0.000000          0.000000   \n",
       "643686                 0  ...               0.000000          0.000000   \n",
       "643687                 1  ...               0.000000          0.000000   \n",
       "643688                 0  ...               0.000000          0.000000   \n",
       "643689                 0  ...               0.000000          0.666667   \n",
       "\n",
       "        befrist_tot_dur_byage  leih_tot_dur_byage  LHG_tot_dur_byage  \\\n",
       "0                   15.043478            0.000000           0.000000   \n",
       "1                    0.000000            0.000000           0.000000   \n",
       "2                    0.000000            0.000000          10.775510   \n",
       "3                    0.000000            0.000000          12.100000   \n",
       "4                    0.000000            0.000000          13.360000   \n",
       "...                       ...                 ...                ...   \n",
       "643685               0.000000            0.000000           0.612903   \n",
       "643686               0.212121            0.212121          17.363636   \n",
       "643687               0.294118            0.205882          34.705882   \n",
       "643688               0.000000            0.000000           0.000000   \n",
       "643689               0.666667            0.000000           0.000000   \n",
       "\n",
       "        LEH_tot_dur_byage  almp_tot_dur_byage  almp_aw_tot_dur_byage  \\\n",
       "0                0.000000            0.000000               0.000000   \n",
       "1                0.000000            0.000000               0.000000   \n",
       "2                0.000000            8.367347               0.000000   \n",
       "3                0.000000            9.400000               0.000000   \n",
       "4                0.000000           10.320000               0.000000   \n",
       "...                   ...                 ...                    ...   \n",
       "643685           0.000000            0.000000               0.000000   \n",
       "643686           0.000000            8.909091               0.000000   \n",
       "643687           0.000000           10.352941               1.705882   \n",
       "643688           0.525424            0.000000               0.000000   \n",
       "643689           8.950000            1.033333               0.083333   \n",
       "\n",
       "        se_tot_dur_byage  seeking1_tot_dur_byage  \n",
       "0               0.000000                0.000000  \n",
       "1               0.000000                0.000000  \n",
       "2               0.000000                9.836735  \n",
       "3               0.000000                9.960000  \n",
       "4               0.000000               10.280000  \n",
       "...                  ...                     ...  \n",
       "643685          0.000000                0.000000  \n",
       "643686          0.000000                7.121212  \n",
       "643687          1.705882               23.911765  \n",
       "643688          0.000000                0.000000  \n",
       "643689          0.083333                8.133333  \n",
       "\n",
       "[643690 rows x 164 columns]"
      ]
     },
     "execution_count": 10,
     "metadata": {},
     "output_type": "execute_result"
    }
   ],
   "source": [
    "siab"
   ]
  },
  {
   "cell_type": "markdown",
   "id": "997051c5-15bd-4b69-9786-c3001a3ce484",
   "metadata": {
    "papermill": {
     "duration": 0.009035,
     "end_time": "2025-08-06T17:32:43.762846",
     "exception": false,
     "start_time": "2025-08-06T17:32:43.753811",
     "status": "completed"
    },
    "tags": []
   },
   "source": [
    "# Splitting Data and Setting Training Data Size"
   ]
  },
  {
   "cell_type": "code",
   "execution_count": 11,
   "id": "aea9c6ef-6f46-42c8-85eb-5a62025c1508",
   "metadata": {
    "execution": {
     "iopub.execute_input": "2025-08-06T17:32:43.782505Z",
     "iopub.status.busy": "2025-08-06T17:32:43.782054Z",
     "iopub.status.idle": "2025-08-06T17:32:44.411062Z",
     "shell.execute_reply": "2025-08-06T17:32:44.409891Z"
    },
    "papermill": {
     "duration": 0.64147,
     "end_time": "2025-08-06T17:32:44.413284",
     "exception": false,
     "start_time": "2025-08-06T17:32:43.771814",
     "status": "completed"
    },
    "tags": []
   },
   "outputs": [],
   "source": [
    "from fairness_multiverse.universe import sample_by_year_size\n",
    "\n",
    "siab_train = sample_by_year_size(siab,\n",
    "                               training_year=universe[\"training_year\"],\n",
    "                               training_size=universe[\"training_size\"])"
   ]
  },
  {
   "cell_type": "code",
   "execution_count": 12,
   "id": "8d3afb32-789d-442c-8d5d-9f5aa8dd2eed",
   "metadata": {
    "execution": {
     "iopub.execute_input": "2025-08-06T17:32:44.466087Z",
     "iopub.status.busy": "2025-08-06T17:32:44.465552Z",
     "iopub.status.idle": "2025-08-06T17:32:44.473245Z",
     "shell.execute_reply": "2025-08-06T17:32:44.472070Z"
    },
    "papermill": {
     "duration": 0.037573,
     "end_time": "2025-08-06T17:32:44.476499",
     "exception": false,
     "start_time": "2025-08-06T17:32:44.438926",
     "status": "completed"
    },
    "tags": []
   },
   "outputs": [
    {
     "data": {
      "text/plain": [
       "(5000, 164)"
      ]
     },
     "execution_count": 12,
     "metadata": {},
     "output_type": "execute_result"
    }
   ],
   "source": [
    "siab_train.shape"
   ]
  },
  {
   "cell_type": "code",
   "execution_count": 13,
   "id": "d582db68-1a4c-47fb-84fc-08518dc1975a",
   "metadata": {
    "execution": {
     "iopub.execute_input": "2025-08-06T17:32:44.533669Z",
     "iopub.status.busy": "2025-08-06T17:32:44.533027Z",
     "iopub.status.idle": "2025-08-06T17:32:44.544378Z",
     "shell.execute_reply": "2025-08-06T17:32:44.543117Z"
    },
    "papermill": {
     "duration": 0.043497,
     "end_time": "2025-08-06T17:32:44.546412",
     "exception": false,
     "start_time": "2025-08-06T17:32:44.502915",
     "status": "completed"
    },
    "tags": []
   },
   "outputs": [
    {
     "data": {
      "text/plain": [
       "year\n",
       "2012    1667\n",
       "2013    1667\n",
       "2014    1666\n",
       "dtype: int64"
      ]
     },
     "metadata": {},
     "output_type": "display_data"
    }
   ],
   "source": [
    "display(siab_train.groupby(\"year\").size())"
   ]
  },
  {
   "cell_type": "code",
   "execution_count": 14,
   "id": "a561edb4-d032-42cb-8256-22eac1111c64",
   "metadata": {
    "execution": {
     "iopub.execute_input": "2025-08-06T17:32:44.595427Z",
     "iopub.status.busy": "2025-08-06T17:32:44.594854Z",
     "iopub.status.idle": "2025-08-06T17:32:44.909277Z",
     "shell.execute_reply": "2025-08-06T17:32:44.908513Z"
    },
    "papermill": {
     "duration": 0.337568,
     "end_time": "2025-08-06T17:32:44.910793",
     "exception": false,
     "start_time": "2025-08-06T17:32:44.573225",
     "status": "completed"
    },
    "tags": []
   },
   "outputs": [],
   "source": [
    "#siab_train = siab_s[siab_s.year < 2015]\n",
    "siab_calib = siab[siab.year == 2015]\n",
    "siab_test = siab[siab.year == 2016]"
   ]
  },
  {
   "cell_type": "code",
   "execution_count": 15,
   "id": "472de16f-c3db-4916-846b-1f0de9cf1746",
   "metadata": {
    "execution": {
     "iopub.execute_input": "2025-08-06T17:32:44.937280Z",
     "iopub.status.busy": "2025-08-06T17:32:44.936766Z",
     "iopub.status.idle": "2025-08-06T17:32:44.945831Z",
     "shell.execute_reply": "2025-08-06T17:32:44.944871Z"
    },
    "papermill": {
     "duration": 0.023727,
     "end_time": "2025-08-06T17:32:44.948052",
     "exception": false,
     "start_time": "2025-08-06T17:32:44.924325",
     "status": "completed"
    },
    "tags": []
   },
   "outputs": [],
   "source": [
    "X_train = siab_train.iloc[:,4:164]\n",
    "y_train = siab_train.iloc[:, [3]]"
   ]
  },
  {
   "cell_type": "code",
   "execution_count": 16,
   "id": "828c96af-f43a-4ed6-ba47-8ac73a47d56c",
   "metadata": {
    "execution": {
     "iopub.execute_input": "2025-08-06T17:32:44.991460Z",
     "iopub.status.busy": "2025-08-06T17:32:44.990708Z",
     "iopub.status.idle": "2025-08-06T17:32:45.040075Z",
     "shell.execute_reply": "2025-08-06T17:32:45.039274Z"
    },
    "papermill": {
     "duration": 0.072695,
     "end_time": "2025-08-06T17:32:45.041484",
     "exception": false,
     "start_time": "2025-08-06T17:32:44.968789",
     "status": "completed"
    },
    "tags": []
   },
   "outputs": [],
   "source": [
    "X_calib = siab_calib.iloc[:,4:164]\n",
    "y_calib = siab_calib.iloc[:, [3]]"
   ]
  },
  {
   "cell_type": "code",
   "execution_count": 17,
   "id": "c34be9c3-6bd6-476e-acd3-845840e303be",
   "metadata": {
    "execution": {
     "iopub.execute_input": "2025-08-06T17:32:45.064895Z",
     "iopub.status.busy": "2025-08-06T17:32:45.064082Z",
     "iopub.status.idle": "2025-08-06T17:32:45.115495Z",
     "shell.execute_reply": "2025-08-06T17:32:45.114676Z"
    },
    "papermill": {
     "duration": 0.064286,
     "end_time": "2025-08-06T17:32:45.116950",
     "exception": false,
     "start_time": "2025-08-06T17:32:45.052664",
     "status": "completed"
    },
    "tags": []
   },
   "outputs": [],
   "source": [
    "X_test = siab_test.iloc[:,4:164]\n",
    "y_true = siab_test.iloc[:, [3]]"
   ]
  },
  {
   "cell_type": "code",
   "execution_count": 18,
   "id": "e6c733c5",
   "metadata": {
    "execution": {
     "iopub.execute_input": "2025-08-06T17:32:45.144909Z",
     "iopub.status.busy": "2025-08-06T17:32:45.144301Z",
     "iopub.status.idle": "2025-08-06T17:32:45.273509Z",
     "shell.execute_reply": "2025-08-06T17:32:45.272194Z"
    },
    "papermill": {
     "duration": 0.147825,
     "end_time": "2025-08-06T17:32:45.275806",
     "exception": false,
     "start_time": "2025-08-06T17:32:45.127981",
     "status": "completed"
    },
    "tags": []
   },
   "outputs": [],
   "source": [
    "# Auxiliary data needed downstream in the pipeline\n",
    "\n",
    "org_train = X_train.copy()\n",
    "org_test = X_test.copy()\n",
    "org_calib = X_calib.copy()"
   ]
  },
  {
   "cell_type": "markdown",
   "id": "0a4a1b33",
   "metadata": {
    "papermill": {
     "duration": 0.021511,
     "end_time": "2025-08-06T17:32:45.318971",
     "exception": false,
     "start_time": "2025-08-06T17:32:45.297460",
     "status": "completed"
    },
    "tags": []
   },
   "source": [
    "# Preprocessing Data"
   ]
  },
  {
   "cell_type": "code",
   "execution_count": 19,
   "id": "ca879031",
   "metadata": {
    "execution": {
     "iopub.execute_input": "2025-08-06T17:32:45.340506Z",
     "iopub.status.busy": "2025-08-06T17:32:45.339885Z",
     "iopub.status.idle": "2025-08-06T17:32:45.344893Z",
     "shell.execute_reply": "2025-08-06T17:32:45.344188Z"
    },
    "papermill": {
     "duration": 0.016834,
     "end_time": "2025-08-06T17:32:45.346249",
     "exception": false,
     "start_time": "2025-08-06T17:32:45.329415",
     "status": "completed"
    },
    "tags": []
   },
   "outputs": [],
   "source": [
    "# EXCLUDE PROTECTED FEATURES\n",
    "# --------------------------\n",
    "\n",
    "excluded_features = universe[\"exclude_features\"].split(\"-\")\n",
    "excluded_features_dictionary = {\n",
    "    \"nationality\": [\"maxdeutsch1\", \"maxdeutsch.Missing.\"],\n",
    "    \"sex\": [\"frau1\"],\n",
    "    \"age\": [\"age\"],\n",
    "}"
   ]
  },
  {
   "cell_type": "code",
   "execution_count": 20,
   "id": "b745ac60",
   "metadata": {
    "execution": {
     "iopub.execute_input": "2025-08-06T17:32:45.372219Z",
     "iopub.status.busy": "2025-08-06T17:32:45.371301Z",
     "iopub.status.idle": "2025-08-06T17:32:45.376948Z",
     "shell.execute_reply": "2025-08-06T17:32:45.376055Z"
    },
    "papermill": {
     "duration": 0.02242,
     "end_time": "2025-08-06T17:32:45.378777",
     "exception": false,
     "start_time": "2025-08-06T17:32:45.356357",
     "status": "completed"
    },
    "tags": []
   },
   "outputs": [],
   "source": [
    "excluded_features_columns = [\n",
    "    excluded_features_dictionary[f] for f in excluded_features if len(f) > 0 and f != \"none\"\n",
    "]"
   ]
  },
  {
   "cell_type": "code",
   "execution_count": 21,
   "id": "f84f73a2",
   "metadata": {
    "execution": {
     "iopub.execute_input": "2025-08-06T17:32:45.422319Z",
     "iopub.status.busy": "2025-08-06T17:32:45.421227Z",
     "iopub.status.idle": "2025-08-06T17:32:45.427005Z",
     "shell.execute_reply": "2025-08-06T17:32:45.426020Z"
    },
    "papermill": {
     "duration": 0.0286,
     "end_time": "2025-08-06T17:32:45.428492",
     "exception": false,
     "start_time": "2025-08-06T17:32:45.399892",
     "status": "completed"
    },
    "tags": []
   },
   "outputs": [],
   "source": [
    "from fairness_multiverse.universe import flatten_once\n",
    "\n",
    "excluded_features_columns = flatten_once(excluded_features_columns)"
   ]
  },
  {
   "cell_type": "code",
   "execution_count": 22,
   "id": "884dea22",
   "metadata": {
    "execution": {
     "iopub.execute_input": "2025-08-06T17:32:45.468392Z",
     "iopub.status.busy": "2025-08-06T17:32:45.467712Z",
     "iopub.status.idle": "2025-08-06T17:32:45.473734Z",
     "shell.execute_reply": "2025-08-06T17:32:45.472763Z"
    },
    "papermill": {
     "duration": 0.027879,
     "end_time": "2025-08-06T17:32:45.475581",
     "exception": false,
     "start_time": "2025-08-06T17:32:45.447702",
     "status": "completed"
    },
    "tags": []
   },
   "outputs": [],
   "source": [
    "if len(excluded_features_columns) > 0:\n",
    "    print(f\"Dropping features: {excluded_features_columns}\")\n",
    "    X_train.drop(excluded_features_columns, axis=1, inplace=True)"
   ]
  },
  {
   "cell_type": "code",
   "execution_count": 23,
   "id": "95ab8b16",
   "metadata": {
    "execution": {
     "iopub.execute_input": "2025-08-06T17:32:45.516233Z",
     "iopub.status.busy": "2025-08-06T17:32:45.515226Z",
     "iopub.status.idle": "2025-08-06T17:32:45.521412Z",
     "shell.execute_reply": "2025-08-06T17:32:45.520471Z"
    },
    "papermill": {
     "duration": 0.028195,
     "end_time": "2025-08-06T17:32:45.523062",
     "exception": false,
     "start_time": "2025-08-06T17:32:45.494867",
     "status": "completed"
    },
    "tags": []
   },
   "outputs": [],
   "source": [
    "if len(excluded_features_columns) > 0:\n",
    "    print(f\"Dropping features: {excluded_features_columns}\")\n",
    "    X_test.drop(excluded_features_columns, axis=1, inplace=True)"
   ]
  },
  {
   "cell_type": "code",
   "execution_count": 24,
   "id": "1853aaf5-fb9f-46cb-a2b5-8ea4ae2237e4",
   "metadata": {
    "execution": {
     "iopub.execute_input": "2025-08-06T17:32:45.563578Z",
     "iopub.status.busy": "2025-08-06T17:32:45.563135Z",
     "iopub.status.idle": "2025-08-06T17:32:45.568976Z",
     "shell.execute_reply": "2025-08-06T17:32:45.567963Z"
    },
    "papermill": {
     "duration": 0.027825,
     "end_time": "2025-08-06T17:32:45.570671",
     "exception": false,
     "start_time": "2025-08-06T17:32:45.542846",
     "status": "completed"
    },
    "tags": []
   },
   "outputs": [],
   "source": [
    "if len(excluded_features_columns) > 0:\n",
    "    print(f\"Dropping features: {excluded_features_columns}\")\n",
    "    X_calib.drop(excluded_features_columns, axis=1, inplace=True)"
   ]
  },
  {
   "cell_type": "code",
   "execution_count": 25,
   "id": "76c4dc6d",
   "metadata": {
    "execution": {
     "iopub.execute_input": "2025-08-06T17:32:45.611739Z",
     "iopub.status.busy": "2025-08-06T17:32:45.611196Z",
     "iopub.status.idle": "2025-08-06T17:32:45.617028Z",
     "shell.execute_reply": "2025-08-06T17:32:45.616124Z"
    },
    "papermill": {
     "duration": 0.027981,
     "end_time": "2025-08-06T17:32:45.618620",
     "exception": false,
     "start_time": "2025-08-06T17:32:45.590639",
     "status": "completed"
    },
    "tags": []
   },
   "outputs": [],
   "source": [
    "# EXCLUDE CERTAIN SUBGROUPS\n",
    "# -------------------------\n",
    "\n",
    "mode = universe.get(\"exclude_subgroups\", \"keep-all\") # Defaults to \"keep-all\" if the key is missing."
   ]
  },
  {
   "cell_type": "code",
   "execution_count": 26,
   "id": "21994072",
   "metadata": {
    "execution": {
     "iopub.execute_input": "2025-08-06T17:32:45.658171Z",
     "iopub.status.busy": "2025-08-06T17:32:45.657605Z",
     "iopub.status.idle": "2025-08-06T17:32:45.664636Z",
     "shell.execute_reply": "2025-08-06T17:32:45.663511Z"
    },
    "papermill": {
     "duration": 0.029077,
     "end_time": "2025-08-06T17:32:45.666365",
     "exception": false,
     "start_time": "2025-08-06T17:32:45.637288",
     "status": "completed"
    },
    "tags": []
   },
   "outputs": [],
   "source": [
    "if mode == \"keep-all\":\n",
    "    keep_mask = pd.Series(True, index=org_train.index)\n",
    "\n",
    "elif mode == \"drop-non-german\":\n",
    "    keep_mask = (org_train[\"maxdeutsch1\"] == 1) & (org_train[\"maxdeutsch.Missing.\"] == 0)\n",
    "\n",
    "else:\n",
    "    raise ValueError(f\"Unsupported mode for exclude_subgroups: {mode}\")"
   ]
  },
  {
   "cell_type": "code",
   "execution_count": 27,
   "id": "71651440",
   "metadata": {
    "execution": {
     "iopub.execute_input": "2025-08-06T17:32:45.705901Z",
     "iopub.status.busy": "2025-08-06T17:32:45.705048Z",
     "iopub.status.idle": "2025-08-06T17:32:45.712669Z",
     "shell.execute_reply": "2025-08-06T17:32:45.711589Z"
    },
    "papermill": {
     "duration": 0.02848,
     "end_time": "2025-08-06T17:32:45.714228",
     "exception": false,
     "start_time": "2025-08-06T17:32:45.685748",
     "status": "completed"
    },
    "tags": []
   },
   "outputs": [],
   "source": [
    "n_drop = (~keep_mask).sum() # Calculates how many rows are set to be dropped\n",
    "if n_drop > 0:\n",
    "    pct = n_drop / len(keep_mask) * 100\n",
    "    print(f\"Dropping {n_drop} rows ({pct:.2f}%) where mode='{mode}'\")"
   ]
  },
  {
   "cell_type": "code",
   "execution_count": 28,
   "id": "5fb8eee5",
   "metadata": {
    "execution": {
     "iopub.execute_input": "2025-08-06T17:32:45.754880Z",
     "iopub.status.busy": "2025-08-06T17:32:45.754053Z",
     "iopub.status.idle": "2025-08-06T17:32:45.762048Z",
     "shell.execute_reply": "2025-08-06T17:32:45.761172Z"
    },
    "papermill": {
     "duration": 0.029385,
     "end_time": "2025-08-06T17:32:45.763628",
     "exception": false,
     "start_time": "2025-08-06T17:32:45.734243",
     "status": "completed"
    },
    "tags": []
   },
   "outputs": [],
   "source": [
    "X_train = X_train[keep_mask]"
   ]
  },
  {
   "cell_type": "code",
   "execution_count": 29,
   "id": "b202bb3a",
   "metadata": {
    "execution": {
     "iopub.execute_input": "2025-08-06T17:32:45.804781Z",
     "iopub.status.busy": "2025-08-06T17:32:45.804507Z",
     "iopub.status.idle": "2025-08-06T17:32:45.809881Z",
     "shell.execute_reply": "2025-08-06T17:32:45.809023Z"
    },
    "papermill": {
     "duration": 0.027606,
     "end_time": "2025-08-06T17:32:45.811378",
     "exception": false,
     "start_time": "2025-08-06T17:32:45.783772",
     "status": "completed"
    },
    "tags": []
   },
   "outputs": [],
   "source": [
    "y_train = y_train[keep_mask]"
   ]
  },
  {
   "cell_type": "markdown",
   "id": "493e2ac3",
   "metadata": {
    "papermill": {
     "duration": 0.019627,
     "end_time": "2025-08-06T17:32:45.850147",
     "exception": false,
     "start_time": "2025-08-06T17:32:45.830520",
     "status": "completed"
    },
    "tags": []
   },
   "source": [
    "# Model Training"
   ]
  },
  {
   "cell_type": "code",
   "execution_count": 30,
   "id": "679e1268",
   "metadata": {
    "execution": {
     "iopub.execute_input": "2025-08-06T17:32:45.891768Z",
     "iopub.status.busy": "2025-08-06T17:32:45.890926Z",
     "iopub.status.idle": "2025-08-06T17:32:45.996006Z",
     "shell.execute_reply": "2025-08-06T17:32:45.994963Z"
    },
    "papermill": {
     "duration": 0.127884,
     "end_time": "2025-08-06T17:32:45.998007",
     "exception": false,
     "start_time": "2025-08-06T17:32:45.870123",
     "status": "completed"
    },
    "tags": []
   },
   "outputs": [],
   "source": [
    "from sklearn.linear_model import LogisticRegression\n",
    "from sklearn.ensemble import GradientBoostingClassifier, RandomForestClassifier\n",
    "\n",
    "if (universe[\"model\"] == \"logreg\"):\n",
    "    model = LogisticRegression() #penalty=\"none\", solver=\"newton-cg\", max_iter=1)\n",
    "elif (universe[\"model\"] == \"penalized_logreg\"):\n",
    "    model = LogisticRegression(penalty=\"l2\", C=0.1) #, solver=\"newton-cg\", max_iter=1)\n",
    "elif (universe[\"model\"] == \"rf\"):\n",
    "    model = RandomForestClassifier() # n_estimators=100, n_jobs=-1\n",
    "elif (universe[\"model\"] == \"gbm\"):\n",
    "    model = GradientBoostingClassifier()\n",
    "elif (universe[\"model\"] == \"elasticnet\"):\n",
    "    model = LogisticRegression(penalty = 'elasticnet', solver = 'saga', l1_ratio = 0.5) # max_iter=5000\n",
    "else:\n",
    "    raise \"Unsupported universe.model\""
   ]
  },
  {
   "cell_type": "code",
   "execution_count": 31,
   "id": "0cc8f744",
   "metadata": {
    "execution": {
     "iopub.execute_input": "2025-08-06T17:32:46.038727Z",
     "iopub.status.busy": "2025-08-06T17:32:46.037863Z",
     "iopub.status.idle": "2025-08-06T17:32:46.044296Z",
     "shell.execute_reply": "2025-08-06T17:32:46.043313Z"
    },
    "papermill": {
     "duration": 0.028768,
     "end_time": "2025-08-06T17:32:46.046036",
     "exception": false,
     "start_time": "2025-08-06T17:32:46.017268",
     "status": "completed"
    },
    "tags": []
   },
   "outputs": [],
   "source": [
    "from sklearn.pipeline import Pipeline\n",
    "from sklearn.preprocessing import StandardScaler\n",
    "\n",
    "model = Pipeline([\n",
    "    #(\"continuous_processor\", continuous_processor),\n",
    "    #(\"categorical_preprocessor\", categorical_preprocessor),\n",
    "    (\"scale\", StandardScaler() if universe[\"scale\"] == \"scale\" else None), \n",
    "    (\"model\", model),\n",
    "])"
   ]
  },
  {
   "cell_type": "code",
   "execution_count": 32,
   "id": "9442c04d",
   "metadata": {
    "execution": {
     "iopub.execute_input": "2025-08-06T17:32:46.086888Z",
     "iopub.status.busy": "2025-08-06T17:32:46.086050Z",
     "iopub.status.idle": "2025-08-06T17:32:47.595472Z",
     "shell.execute_reply": "2025-08-06T17:32:47.594728Z"
    },
    "papermill": {
     "duration": 1.530617,
     "end_time": "2025-08-06T17:32:47.596819",
     "exception": false,
     "start_time": "2025-08-06T17:32:46.066202",
     "status": "completed"
    },
    "tags": []
   },
   "outputs": [
    {
     "data": {
      "text/html": [
       "<style>#sk-container-id-1 {color: black;background-color: white;}#sk-container-id-1 pre{padding: 0;}#sk-container-id-1 div.sk-toggleable {background-color: white;}#sk-container-id-1 label.sk-toggleable__label {cursor: pointer;display: block;width: 100%;margin-bottom: 0;padding: 0.3em;box-sizing: border-box;text-align: center;}#sk-container-id-1 label.sk-toggleable__label-arrow:before {content: \"▸\";float: left;margin-right: 0.25em;color: #696969;}#sk-container-id-1 label.sk-toggleable__label-arrow:hover:before {color: black;}#sk-container-id-1 div.sk-estimator:hover label.sk-toggleable__label-arrow:before {color: black;}#sk-container-id-1 div.sk-toggleable__content {max-height: 0;max-width: 0;overflow: hidden;text-align: left;background-color: #f0f8ff;}#sk-container-id-1 div.sk-toggleable__content pre {margin: 0.2em;color: black;border-radius: 0.25em;background-color: #f0f8ff;}#sk-container-id-1 input.sk-toggleable__control:checked~div.sk-toggleable__content {max-height: 200px;max-width: 100%;overflow: auto;}#sk-container-id-1 input.sk-toggleable__control:checked~label.sk-toggleable__label-arrow:before {content: \"▾\";}#sk-container-id-1 div.sk-estimator input.sk-toggleable__control:checked~label.sk-toggleable__label {background-color: #d4ebff;}#sk-container-id-1 div.sk-label input.sk-toggleable__control:checked~label.sk-toggleable__label {background-color: #d4ebff;}#sk-container-id-1 input.sk-hidden--visually {border: 0;clip: rect(1px 1px 1px 1px);clip: rect(1px, 1px, 1px, 1px);height: 1px;margin: -1px;overflow: hidden;padding: 0;position: absolute;width: 1px;}#sk-container-id-1 div.sk-estimator {font-family: monospace;background-color: #f0f8ff;border: 1px dotted black;border-radius: 0.25em;box-sizing: border-box;margin-bottom: 0.5em;}#sk-container-id-1 div.sk-estimator:hover {background-color: #d4ebff;}#sk-container-id-1 div.sk-parallel-item::after {content: \"\";width: 100%;border-bottom: 1px solid gray;flex-grow: 1;}#sk-container-id-1 div.sk-label:hover label.sk-toggleable__label {background-color: #d4ebff;}#sk-container-id-1 div.sk-serial::before {content: \"\";position: absolute;border-left: 1px solid gray;box-sizing: border-box;top: 0;bottom: 0;left: 50%;z-index: 0;}#sk-container-id-1 div.sk-serial {display: flex;flex-direction: column;align-items: center;background-color: white;padding-right: 0.2em;padding-left: 0.2em;position: relative;}#sk-container-id-1 div.sk-item {position: relative;z-index: 1;}#sk-container-id-1 div.sk-parallel {display: flex;align-items: stretch;justify-content: center;background-color: white;position: relative;}#sk-container-id-1 div.sk-item::before, #sk-container-id-1 div.sk-parallel-item::before {content: \"\";position: absolute;border-left: 1px solid gray;box-sizing: border-box;top: 0;bottom: 0;left: 50%;z-index: -1;}#sk-container-id-1 div.sk-parallel-item {display: flex;flex-direction: column;z-index: 1;position: relative;background-color: white;}#sk-container-id-1 div.sk-parallel-item:first-child::after {align-self: flex-end;width: 50%;}#sk-container-id-1 div.sk-parallel-item:last-child::after {align-self: flex-start;width: 50%;}#sk-container-id-1 div.sk-parallel-item:only-child::after {width: 0;}#sk-container-id-1 div.sk-dashed-wrapped {border: 1px dashed gray;margin: 0 0.4em 0.5em 0.4em;box-sizing: border-box;padding-bottom: 0.4em;background-color: white;}#sk-container-id-1 div.sk-label label {font-family: monospace;font-weight: bold;display: inline-block;line-height: 1.2em;}#sk-container-id-1 div.sk-label-container {text-align: center;}#sk-container-id-1 div.sk-container {/* jupyter's `normalize.less` sets `[hidden] { display: none; }` but bootstrap.min.css set `[hidden] { display: none !important; }` so we also need the `!important` here to be able to override the default hidden behavior on the sphinx rendered scikit-learn.org. See: https://github.com/scikit-learn/scikit-learn/issues/21755 */display: inline-block !important;position: relative;}#sk-container-id-1 div.sk-text-repr-fallback {display: none;}</style><div id=\"sk-container-id-1\" class=\"sk-top-container\"><div class=\"sk-text-repr-fallback\"><pre>Pipeline(steps=[(&#x27;scale&#x27;, None), (&#x27;model&#x27;, RandomForestClassifier())])</pre><b>In a Jupyter environment, please rerun this cell to show the HTML representation or trust the notebook. <br />On GitHub, the HTML representation is unable to render, please try loading this page with nbviewer.org.</b></div><div class=\"sk-container\" hidden><div class=\"sk-item sk-dashed-wrapped\"><div class=\"sk-label-container\"><div class=\"sk-label sk-toggleable\"><input class=\"sk-toggleable__control sk-hidden--visually\" id=\"sk-estimator-id-1\" type=\"checkbox\" ><label for=\"sk-estimator-id-1\" class=\"sk-toggleable__label sk-toggleable__label-arrow\">Pipeline</label><div class=\"sk-toggleable__content\"><pre>Pipeline(steps=[(&#x27;scale&#x27;, None), (&#x27;model&#x27;, RandomForestClassifier())])</pre></div></div></div><div class=\"sk-serial\"><div class=\"sk-item\"><div class=\"sk-estimator sk-toggleable\"><input class=\"sk-toggleable__control sk-hidden--visually\" id=\"sk-estimator-id-2\" type=\"checkbox\" ><label for=\"sk-estimator-id-2\" class=\"sk-toggleable__label sk-toggleable__label-arrow\">None</label><div class=\"sk-toggleable__content\"><pre>None</pre></div></div></div><div class=\"sk-item\"><div class=\"sk-estimator sk-toggleable\"><input class=\"sk-toggleable__control sk-hidden--visually\" id=\"sk-estimator-id-3\" type=\"checkbox\" ><label for=\"sk-estimator-id-3\" class=\"sk-toggleable__label sk-toggleable__label-arrow\">RandomForestClassifier</label><div class=\"sk-toggleable__content\"><pre>RandomForestClassifier()</pre></div></div></div></div></div></div></div>"
      ],
      "text/plain": [
       "Pipeline(steps=[('scale', None), ('model', RandomForestClassifier())])"
      ]
     },
     "execution_count": 32,
     "metadata": {},
     "output_type": "execute_result"
    }
   ],
   "source": [
    "model.fit(X_train, y_train.values.ravel())"
   ]
  },
  {
   "cell_type": "code",
   "execution_count": 33,
   "id": "a7cf2e16",
   "metadata": {
    "execution": {
     "iopub.execute_input": "2025-08-06T17:32:47.634393Z",
     "iopub.status.busy": "2025-08-06T17:32:47.633923Z",
     "iopub.status.idle": "2025-08-06T17:32:49.961663Z",
     "shell.execute_reply": "2025-08-06T17:32:49.960774Z"
    },
    "papermill": {
     "duration": 2.351905,
     "end_time": "2025-08-06T17:32:49.963396",
     "exception": false,
     "start_time": "2025-08-06T17:32:47.611491",
     "status": "completed"
    },
    "tags": []
   },
   "outputs": [
    {
     "data": {
      "text/plain": [
       "0.8667038234310557"
      ]
     },
     "execution_count": 33,
     "metadata": {},
     "output_type": "execute_result"
    }
   ],
   "source": [
    "from fairness_multiverse.universe import predict_w_threshold\n",
    "\n",
    "probs_test = model.predict_proba(X_test)\n",
    "\n",
    "'''\n",
    "Below code returns a boolean array (or binary 0/1 array depending on how it’s used) where each element \n",
    "is True if the probability of class 1 is greater than or equal to the threshold, and False otherwise.\n",
    "'''\n",
    "y_pred_default = predict_w_threshold(probs_test, 0.5)\n",
    "\n",
    "from sklearn.metrics import accuracy_score\n",
    "\n",
    "# Naive prediction\n",
    "accuracy_score(y_true = y_true, y_pred = y_pred_default)"
   ]
  },
  {
   "cell_type": "code",
   "execution_count": 34,
   "id": "081964c3",
   "metadata": {
    "execution": {
     "iopub.execute_input": "2025-08-06T17:32:50.005044Z",
     "iopub.status.busy": "2025-08-06T17:32:50.004542Z",
     "iopub.status.idle": "2025-08-06T17:32:52.401700Z",
     "shell.execute_reply": "2025-08-06T17:32:52.400895Z"
    },
    "papermill": {
     "duration": 2.419768,
     "end_time": "2025-08-06T17:32:52.402977",
     "exception": false,
     "start_time": "2025-08-06T17:32:49.983209",
     "status": "completed"
    },
    "tags": []
   },
   "outputs": [
    {
     "data": {
      "text/plain": [
       "array([0, 0, 0, ..., 0, 0, 0])"
      ]
     },
     "execution_count": 34,
     "metadata": {},
     "output_type": "execute_result"
    }
   ],
   "source": [
    "model.predict(X_test)"
   ]
  },
  {
   "cell_type": "markdown",
   "id": "56c9705b",
   "metadata": {
    "papermill": {
     "duration": 0.021663,
     "end_time": "2025-08-06T17:32:52.446814",
     "exception": false,
     "start_time": "2025-08-06T17:32:52.425151",
     "status": "completed"
    },
    "tags": []
   },
   "source": [
    "# Conformal Prediction"
   ]
  },
  {
   "cell_type": "code",
   "execution_count": 35,
   "id": "160ec6ff",
   "metadata": {
    "execution": {
     "iopub.execute_input": "2025-08-06T17:32:52.492716Z",
     "iopub.status.busy": "2025-08-06T17:32:52.492172Z",
     "iopub.status.idle": "2025-08-06T17:32:52.497534Z",
     "shell.execute_reply": "2025-08-06T17:32:52.496498Z"
    },
    "papermill": {
     "duration": 0.03026,
     "end_time": "2025-08-06T17:32:52.499293",
     "exception": false,
     "start_time": "2025-08-06T17:32:52.469033",
     "status": "completed"
    },
    "tags": []
   },
   "outputs": [],
   "source": [
    "# Miscoverage level for conformal prediction (10% allowed error rate => 90% target coverage)\n",
    "alpha = 0.1"
   ]
  },
  {
   "cell_type": "code",
   "execution_count": 36,
   "id": "eadf4555-3dd3-440e-8e35-f82a4ad9f855",
   "metadata": {
    "execution": {
     "iopub.execute_input": "2025-08-06T17:32:52.542417Z",
     "iopub.status.busy": "2025-08-06T17:32:52.541938Z",
     "iopub.status.idle": "2025-08-06T17:32:54.915970Z",
     "shell.execute_reply": "2025-08-06T17:32:54.915058Z"
    },
    "papermill": {
     "duration": 2.398199,
     "end_time": "2025-08-06T17:32:54.917802",
     "exception": false,
     "start_time": "2025-08-06T17:32:52.519603",
     "status": "completed"
    },
    "tags": []
   },
   "outputs": [],
   "source": [
    "probs_calib = model.predict_proba(X_calib)"
   ]
  },
  {
   "cell_type": "code",
   "execution_count": 37,
   "id": "2ed93547-6d5d-4983-9b36-1ecb300da49a",
   "metadata": {
    "execution": {
     "iopub.execute_input": "2025-08-06T17:32:54.957732Z",
     "iopub.status.busy": "2025-08-06T17:32:54.957248Z",
     "iopub.status.idle": "2025-08-06T17:32:54.962577Z",
     "shell.execute_reply": "2025-08-06T17:32:54.961581Z"
    },
    "papermill": {
     "duration": 0.026762,
     "end_time": "2025-08-06T17:32:54.964236",
     "exception": false,
     "start_time": "2025-08-06T17:32:54.937474",
     "status": "completed"
    },
    "tags": []
   },
   "outputs": [],
   "source": [
    "y_calib = y_calib.values.ravel().astype(int)"
   ]
  },
  {
   "cell_type": "code",
   "execution_count": 38,
   "id": "65d1320d-f588-4b38-9072-62af1ae97f7d",
   "metadata": {
    "execution": {
     "iopub.execute_input": "2025-08-06T17:32:55.007217Z",
     "iopub.status.busy": "2025-08-06T17:32:55.006556Z",
     "iopub.status.idle": "2025-08-06T17:32:55.014548Z",
     "shell.execute_reply": "2025-08-06T17:32:55.013720Z"
    },
    "papermill": {
     "duration": 0.032166,
     "end_time": "2025-08-06T17:32:55.016282",
     "exception": false,
     "start_time": "2025-08-06T17:32:54.984116",
     "status": "completed"
    },
    "tags": []
   },
   "outputs": [],
   "source": [
    "from fairness_multiverse.conformal import compute_nc_scores\n",
    "\n",
    "# Compute nonconformity scores on calibration set (1 - probability of true class)\n",
    "nc_scores = compute_nc_scores(probs_calib, y_calib)"
   ]
  },
  {
   "cell_type": "code",
   "execution_count": 39,
   "id": "df3b8ca3-53b7-43d5-9667-7c85da7aeda2",
   "metadata": {
    "execution": {
     "iopub.execute_input": "2025-08-06T17:32:55.062670Z",
     "iopub.status.busy": "2025-08-06T17:32:55.062291Z",
     "iopub.status.idle": "2025-08-06T17:32:55.068499Z",
     "shell.execute_reply": "2025-08-06T17:32:55.067558Z"
    },
    "papermill": {
     "duration": 0.032689,
     "end_time": "2025-08-06T17:32:55.070172",
     "exception": false,
     "start_time": "2025-08-06T17:32:55.037483",
     "status": "completed"
    },
    "tags": []
   },
   "outputs": [],
   "source": [
    "from fairness_multiverse.conformal import find_threshold\n",
    "\n",
    "# Find conformal threshold q_hat for the given alpha (split conformal method)\n",
    "q_hat = find_threshold(nc_scores, alpha)"
   ]
  },
  {
   "cell_type": "code",
   "execution_count": 40,
   "id": "4d29e6c1-0ef6-4aa4-b8fe-4fe79b0d033a",
   "metadata": {
    "execution": {
     "iopub.execute_input": "2025-08-06T17:32:55.112213Z",
     "iopub.status.busy": "2025-08-06T17:32:55.111514Z",
     "iopub.status.idle": "2025-08-06T17:32:55.118624Z",
     "shell.execute_reply": "2025-08-06T17:32:55.117743Z"
    },
    "papermill": {
     "duration": 0.029887,
     "end_time": "2025-08-06T17:32:55.120207",
     "exception": false,
     "start_time": "2025-08-06T17:32:55.090320",
     "status": "completed"
    },
    "tags": []
   },
   "outputs": [
    {
     "data": {
      "text/plain": [
       "0.6799999999999999"
      ]
     },
     "execution_count": 40,
     "metadata": {},
     "output_type": "execute_result"
    }
   ],
   "source": [
    "q_hat"
   ]
  },
  {
   "cell_type": "code",
   "execution_count": 41,
   "id": "92460794-cdac-4be2-ba28-f28c0515a6fb",
   "metadata": {
    "execution": {
     "iopub.execute_input": "2025-08-06T17:32:55.162709Z",
     "iopub.status.busy": "2025-08-06T17:32:55.162249Z",
     "iopub.status.idle": "2025-08-06T17:32:58.396075Z",
     "shell.execute_reply": "2025-08-06T17:32:58.395333Z"
    },
    "papermill": {
     "duration": 3.256958,
     "end_time": "2025-08-06T17:32:58.397513",
     "exception": false,
     "start_time": "2025-08-06T17:32:55.140555",
     "status": "completed"
    },
    "tags": []
   },
   "outputs": [],
   "source": [
    "from fairness_multiverse.conformal import predict_conformal_sets\n",
    "\n",
    "# Generate prediction sets for each test example\n",
    "pred_sets = predict_conformal_sets(model, X_test, q_hat)"
   ]
  },
  {
   "cell_type": "code",
   "execution_count": 42,
   "id": "d90c9a65-e6db-4f5d-80cd-e68fb7e46829",
   "metadata": {
    "execution": {
     "iopub.execute_input": "2025-08-06T17:32:58.437732Z",
     "iopub.status.busy": "2025-08-06T17:32:58.437269Z",
     "iopub.status.idle": "2025-08-06T17:32:58.442864Z",
     "shell.execute_reply": "2025-08-06T17:32:58.441968Z"
    },
    "papermill": {
     "duration": 0.030866,
     "end_time": "2025-08-06T17:32:58.444651",
     "exception": false,
     "start_time": "2025-08-06T17:32:58.413785",
     "status": "completed"
    },
    "tags": []
   },
   "outputs": [],
   "source": [
    "y_true = y_true.squeeze()"
   ]
  },
  {
   "cell_type": "code",
   "execution_count": 43,
   "id": "3a58a54a-1e68-46b9-927a-df01f18aebc8",
   "metadata": {
    "execution": {
     "iopub.execute_input": "2025-08-06T17:32:58.492623Z",
     "iopub.status.busy": "2025-08-06T17:32:58.492186Z",
     "iopub.status.idle": "2025-08-06T17:32:59.409101Z",
     "shell.execute_reply": "2025-08-06T17:32:59.408015Z"
    },
    "papermill": {
     "duration": 0.941104,
     "end_time": "2025-08-06T17:32:59.411154",
     "exception": false,
     "start_time": "2025-08-06T17:32:58.470050",
     "status": "completed"
    },
    "tags": []
   },
   "outputs": [],
   "source": [
    "from fairness_multiverse.conformal import evaluate_sets\n",
    "\n",
    "# Evaluate coverage and average set size on test data\n",
    "metrics = evaluate_sets(pred_sets, y_true)"
   ]
  },
  {
   "cell_type": "markdown",
   "id": "2b569c12-9aaa-4c88-98c9-bbcd0cf3ebb8",
   "metadata": {
    "papermill": {
     "duration": 0.022241,
     "end_time": "2025-08-06T17:32:59.455574",
     "exception": false,
     "start_time": "2025-08-06T17:32:59.433333",
     "status": "completed"
    },
    "tags": []
   },
   "source": [
    "# CP Metrics"
   ]
  },
  {
   "cell_type": "code",
   "execution_count": 44,
   "id": "5ce0a5cb-201f-45a0-ade5-94c7f0bd6095",
   "metadata": {
    "execution": {
     "iopub.execute_input": "2025-08-06T17:32:59.501542Z",
     "iopub.status.busy": "2025-08-06T17:32:59.500652Z",
     "iopub.status.idle": "2025-08-06T17:32:59.507875Z",
     "shell.execute_reply": "2025-08-06T17:32:59.506833Z"
    },
    "papermill": {
     "duration": 0.031862,
     "end_time": "2025-08-06T17:32:59.509577",
     "exception": false,
     "start_time": "2025-08-06T17:32:59.477715",
     "status": "completed"
    },
    "tags": []
   },
   "outputs": [
    {
     "data": {
      "text/plain": [
       "{'coverage': 0.9150373425482109, 'avg_size': 1.1462713186935682}"
      ]
     },
     "execution_count": 44,
     "metadata": {},
     "output_type": "execute_result"
    }
   ],
   "source": [
    "metrics"
   ]
  },
  {
   "cell_type": "code",
   "execution_count": 45,
   "id": "9b9a838d-31c9-430b-ae14-12baee460d17",
   "metadata": {
    "execution": {
     "iopub.execute_input": "2025-08-06T17:32:59.551987Z",
     "iopub.status.busy": "2025-08-06T17:32:59.551507Z",
     "iopub.status.idle": "2025-08-06T17:32:59.558703Z",
     "shell.execute_reply": "2025-08-06T17:32:59.557815Z"
    },
    "papermill": {
     "duration": 0.0302,
     "end_time": "2025-08-06T17:32:59.560288",
     "exception": false,
     "start_time": "2025-08-06T17:32:59.530088",
     "status": "completed"
    },
    "tags": []
   },
   "outputs": [],
   "source": [
    "example_universe = universe.copy()\n",
    "universe_training_year = example_universe.get(\"training_year\")\n",
    "universe_training_size = example_universe.get(\"training_size\")\n",
    "universe_scale = example_universe.get(\"scale\")\n",
    "universe_model = example_universe.get(\"model\")\n",
    "universe_exclude_features = example_universe.get(\"exclude_features\")\n",
    "universe_exclude_subgroups = example_universe.get(\"exclude_subgroups\")"
   ]
  },
  {
   "cell_type": "code",
   "execution_count": 46,
   "id": "f4b6a8ac-9dc0-4245-8a91-5b3b5999c4f9",
   "metadata": {
    "execution": {
     "iopub.execute_input": "2025-08-06T17:32:59.603099Z",
     "iopub.status.busy": "2025-08-06T17:32:59.602196Z",
     "iopub.status.idle": "2025-08-06T17:32:59.608821Z",
     "shell.execute_reply": "2025-08-06T17:32:59.607936Z"
    },
    "papermill": {
     "duration": 0.029524,
     "end_time": "2025-08-06T17:32:59.610528",
     "exception": false,
     "start_time": "2025-08-06T17:32:59.581004",
     "status": "completed"
    },
    "tags": []
   },
   "outputs": [],
   "source": [
    "cp_metrics_dict = {\n",
    "    \"universe_id\": [universe_id],\n",
    "    \"universe_training_year\": [universe_training_year],\n",
    "    \"universe_training_size\": [universe_training_size],\n",
    "    \"universe_scale\": [universe_scale],\n",
    "    \"universe_model\": [universe_model],\n",
    "    \"universe_exclude_features\": [universe_exclude_features],\n",
    "    \"universe_exclude_subgroups\": [universe_exclude_subgroups],\n",
    "    \"q_hat\": [q_hat],\n",
    "    \"coverage\": [metrics[\"coverage\"]],\n",
    "    \"avg_size\": [metrics[\"avg_size\"]],\n",
    "}"
   ]
  },
  {
   "cell_type": "code",
   "execution_count": 47,
   "id": "33007efc-14e9-4ec6-97ac-56a455c82265",
   "metadata": {
    "execution": {
     "iopub.execute_input": "2025-08-06T17:32:59.654354Z",
     "iopub.status.busy": "2025-08-06T17:32:59.653458Z",
     "iopub.status.idle": "2025-08-06T17:32:59.660152Z",
     "shell.execute_reply": "2025-08-06T17:32:59.659117Z"
    },
    "papermill": {
     "duration": 0.031036,
     "end_time": "2025-08-06T17:32:59.662086",
     "exception": false,
     "start_time": "2025-08-06T17:32:59.631050",
     "status": "completed"
    },
    "tags": []
   },
   "outputs": [],
   "source": [
    "cp_metrics_df = pd.DataFrame(cp_metrics_dict)"
   ]
  },
  {
   "cell_type": "code",
   "execution_count": 48,
   "id": "db12611b-57b2-4910-b9d0-355adfd6e7bf",
   "metadata": {
    "execution": {
     "iopub.execute_input": "2025-08-06T17:32:59.704773Z",
     "iopub.status.busy": "2025-08-06T17:32:59.704263Z",
     "iopub.status.idle": "2025-08-06T17:32:59.720737Z",
     "shell.execute_reply": "2025-08-06T17:32:59.719777Z"
    },
    "papermill": {
     "duration": 0.039334,
     "end_time": "2025-08-06T17:32:59.722396",
     "exception": false,
     "start_time": "2025-08-06T17:32:59.683062",
     "status": "completed"
    },
    "tags": []
   },
   "outputs": [
    {
     "data": {
      "text/html": [
       "<div>\n",
       "<style scoped>\n",
       "    .dataframe tbody tr th:only-of-type {\n",
       "        vertical-align: middle;\n",
       "    }\n",
       "\n",
       "    .dataframe tbody tr th {\n",
       "        vertical-align: top;\n",
       "    }\n",
       "\n",
       "    .dataframe thead th {\n",
       "        text-align: right;\n",
       "    }\n",
       "</style>\n",
       "<table border=\"1\" class=\"dataframe\">\n",
       "  <thead>\n",
       "    <tr style=\"text-align: right;\">\n",
       "      <th></th>\n",
       "      <th>universe_id</th>\n",
       "      <th>universe_training_year</th>\n",
       "      <th>universe_training_size</th>\n",
       "      <th>universe_scale</th>\n",
       "      <th>universe_model</th>\n",
       "      <th>universe_exclude_features</th>\n",
       "      <th>universe_exclude_subgroups</th>\n",
       "      <th>q_hat</th>\n",
       "      <th>coverage</th>\n",
       "      <th>avg_size</th>\n",
       "    </tr>\n",
       "  </thead>\n",
       "  <tbody>\n",
       "    <tr>\n",
       "      <th>0</th>\n",
       "      <td>00fd2ec902beaeb4c7f257259a9c67d7</td>\n",
       "      <td>2012_14</td>\n",
       "      <td>5k</td>\n",
       "      <td>do-not-scale</td>\n",
       "      <td>rf</td>\n",
       "      <td>none</td>\n",
       "      <td>keep-all</td>\n",
       "      <td>0.68</td>\n",
       "      <td>0.915037</td>\n",
       "      <td>1.146271</td>\n",
       "    </tr>\n",
       "  </tbody>\n",
       "</table>\n",
       "</div>"
      ],
      "text/plain": [
       "                        universe_id universe_training_year  \\\n",
       "0  00fd2ec902beaeb4c7f257259a9c67d7                2012_14   \n",
       "\n",
       "  universe_training_size universe_scale universe_model  \\\n",
       "0                     5k   do-not-scale             rf   \n",
       "\n",
       "  universe_exclude_features universe_exclude_subgroups  q_hat  coverage  \\\n",
       "0                      none                   keep-all   0.68  0.915037   \n",
       "\n",
       "   avg_size  \n",
       "0  1.146271  "
      ]
     },
     "execution_count": 48,
     "metadata": {},
     "output_type": "execute_result"
    }
   ],
   "source": [
    "cp_metrics_df"
   ]
  },
  {
   "cell_type": "markdown",
   "id": "c825ecb4-0d3d-41d6-b7c6-eccb21272259",
   "metadata": {
    "papermill": {
     "duration": 0.020917,
     "end_time": "2025-08-06T17:32:59.764137",
     "exception": false,
     "start_time": "2025-08-06T17:32:59.743220",
     "status": "completed"
    },
    "tags": []
   },
   "source": [
    "Conditional coverage & looking at subgroups"
   ]
  },
  {
   "cell_type": "code",
   "execution_count": 49,
   "id": "027ae886-68dd-4141-96c7-805a5450e1ef",
   "metadata": {
    "execution": {
     "iopub.execute_input": "2025-08-06T17:32:59.809457Z",
     "iopub.status.busy": "2025-08-06T17:32:59.808527Z",
     "iopub.status.idle": "2025-08-06T17:33:00.082455Z",
     "shell.execute_reply": "2025-08-06T17:33:00.081419Z"
    },
    "papermill": {
     "duration": 0.297203,
     "end_time": "2025-08-06T17:33:00.084245",
     "exception": false,
     "start_time": "2025-08-06T17:32:59.787042",
     "status": "completed"
    },
    "tags": []
   },
   "outputs": [],
   "source": [
    "from fairness_multiverse.conformal import build_cp_groups\n",
    "\n",
    "cp_groups_df = build_cp_groups(pred_sets, y_true, X_test.index, org_test)"
   ]
  },
  {
   "cell_type": "code",
   "execution_count": 50,
   "id": "6cbdab96-b2b2-45af-ad54-d0516db2e28d",
   "metadata": {
    "execution": {
     "iopub.execute_input": "2025-08-06T17:33:00.129415Z",
     "iopub.status.busy": "2025-08-06T17:33:00.128681Z",
     "iopub.status.idle": "2025-08-06T17:33:01.655861Z",
     "shell.execute_reply": "2025-08-06T17:33:01.654942Z"
    },
    "papermill": {
     "duration": 1.551312,
     "end_time": "2025-08-06T17:33:01.657680",
     "exception": false,
     "start_time": "2025-08-06T17:33:00.106368",
     "status": "completed"
    },
    "tags": []
   },
   "outputs": [],
   "source": [
    "# Define covered = 1 if true_label is in the predicted set\n",
    "cp_groups_df['covered'] = cp_groups_df.apply(\n",
    "    lambda r: int(r['true_label'] in r['pred_set']),\n",
    "    axis=1\n",
    ")"
   ]
  },
  {
   "cell_type": "code",
   "execution_count": 51,
   "id": "90032e27-66df-4540-9169-4e89cfbaa758",
   "metadata": {
    "execution": {
     "iopub.execute_input": "2025-08-06T17:33:01.704187Z",
     "iopub.status.busy": "2025-08-06T17:33:01.703665Z",
     "iopub.status.idle": "2025-08-06T17:33:01.716614Z",
     "shell.execute_reply": "2025-08-06T17:33:01.715562Z"
    },
    "papermill": {
     "duration": 0.038596,
     "end_time": "2025-08-06T17:33:01.718405",
     "exception": false,
     "start_time": "2025-08-06T17:33:01.679809",
     "status": "completed"
    },
    "tags": []
   },
   "outputs": [],
   "source": [
    "subgroups = ['frau1','nongerman','nongerman_male','nongerman_female']\n",
    "\n",
    "# Conditional coverage for subgroup==1\n",
    "cond_coverage = {\n",
    "    g: cp_groups_df.loc[cp_groups_df[g]==1, 'covered'].mean()\n",
    "    for g in subgroups\n",
    "}"
   ]
  },
  {
   "cell_type": "code",
   "execution_count": 52,
   "id": "1e348fb1-b9c3-45bc-ba23-f016827a7e0d",
   "metadata": {
    "execution": {
     "iopub.execute_input": "2025-08-06T17:33:01.764326Z",
     "iopub.status.busy": "2025-08-06T17:33:01.763807Z",
     "iopub.status.idle": "2025-08-06T17:33:01.771209Z",
     "shell.execute_reply": "2025-08-06T17:33:01.770313Z"
    },
    "papermill": {
     "duration": 0.032917,
     "end_time": "2025-08-06T17:33:01.773067",
     "exception": false,
     "start_time": "2025-08-06T17:33:01.740150",
     "status": "completed"
    },
    "tags": []
   },
   "outputs": [
    {
     "data": {
      "text/plain": [
       "{'frau1': 0.9097722064968324,\n",
       " 'nongerman': 0.9069219109639027,\n",
       " 'nongerman_male': 0.924705034675313,\n",
       " 'nongerman_female': 0.8774962742175857}"
      ]
     },
     "execution_count": 52,
     "metadata": {},
     "output_type": "execute_result"
    }
   ],
   "source": [
    "cond_coverage"
   ]
  },
  {
   "cell_type": "code",
   "execution_count": 53,
   "id": "f5093324-c3dd-4d63-bc4c-8d945e5c8bbb",
   "metadata": {
    "execution": {
     "iopub.execute_input": "2025-08-06T17:33:01.818308Z",
     "iopub.status.busy": "2025-08-06T17:33:01.817799Z",
     "iopub.status.idle": "2025-08-06T17:33:01.825124Z",
     "shell.execute_reply": "2025-08-06T17:33:01.824238Z"
    },
    "papermill": {
     "duration": 0.032257,
     "end_time": "2025-08-06T17:33:01.826719",
     "exception": false,
     "start_time": "2025-08-06T17:33:01.794462",
     "status": "completed"
    },
    "tags": []
   },
   "outputs": [],
   "source": [
    "for subgroup, cov in cond_coverage.items():\n",
    "    cp_metrics_df[f\"cov_{subgroup}\"] = cov"
   ]
  },
  {
   "cell_type": "code",
   "execution_count": 54,
   "id": "6e872e10-dbe5-49e8-b554-5030c98ff75d",
   "metadata": {
    "execution": {
     "iopub.execute_input": "2025-08-06T17:33:01.872408Z",
     "iopub.status.busy": "2025-08-06T17:33:01.871917Z",
     "iopub.status.idle": "2025-08-06T17:33:01.890720Z",
     "shell.execute_reply": "2025-08-06T17:33:01.889817Z"
    },
    "papermill": {
     "duration": 0.044148,
     "end_time": "2025-08-06T17:33:01.892746",
     "exception": false,
     "start_time": "2025-08-06T17:33:01.848598",
     "status": "completed"
    },
    "tags": []
   },
   "outputs": [
    {
     "data": {
      "text/html": [
       "<div>\n",
       "<style scoped>\n",
       "    .dataframe tbody tr th:only-of-type {\n",
       "        vertical-align: middle;\n",
       "    }\n",
       "\n",
       "    .dataframe tbody tr th {\n",
       "        vertical-align: top;\n",
       "    }\n",
       "\n",
       "    .dataframe thead th {\n",
       "        text-align: right;\n",
       "    }\n",
       "</style>\n",
       "<table border=\"1\" class=\"dataframe\">\n",
       "  <thead>\n",
       "    <tr style=\"text-align: right;\">\n",
       "      <th></th>\n",
       "      <th>universe_id</th>\n",
       "      <th>universe_training_year</th>\n",
       "      <th>universe_training_size</th>\n",
       "      <th>universe_scale</th>\n",
       "      <th>universe_model</th>\n",
       "      <th>universe_exclude_features</th>\n",
       "      <th>universe_exclude_subgroups</th>\n",
       "      <th>q_hat</th>\n",
       "      <th>coverage</th>\n",
       "      <th>avg_size</th>\n",
       "      <th>cov_frau1</th>\n",
       "      <th>cov_nongerman</th>\n",
       "      <th>cov_nongerman_male</th>\n",
       "      <th>cov_nongerman_female</th>\n",
       "    </tr>\n",
       "  </thead>\n",
       "  <tbody>\n",
       "    <tr>\n",
       "      <th>0</th>\n",
       "      <td>00fd2ec902beaeb4c7f257259a9c67d7</td>\n",
       "      <td>2012_14</td>\n",
       "      <td>5k</td>\n",
       "      <td>do-not-scale</td>\n",
       "      <td>rf</td>\n",
       "      <td>none</td>\n",
       "      <td>keep-all</td>\n",
       "      <td>0.68</td>\n",
       "      <td>0.915037</td>\n",
       "      <td>1.146271</td>\n",
       "      <td>0.909772</td>\n",
       "      <td>0.906922</td>\n",
       "      <td>0.924705</td>\n",
       "      <td>0.877496</td>\n",
       "    </tr>\n",
       "  </tbody>\n",
       "</table>\n",
       "</div>"
      ],
      "text/plain": [
       "                        universe_id universe_training_year  \\\n",
       "0  00fd2ec902beaeb4c7f257259a9c67d7                2012_14   \n",
       "\n",
       "  universe_training_size universe_scale universe_model  \\\n",
       "0                     5k   do-not-scale             rf   \n",
       "\n",
       "  universe_exclude_features universe_exclude_subgroups  q_hat  coverage  \\\n",
       "0                      none                   keep-all   0.68  0.915037   \n",
       "\n",
       "   avg_size  cov_frau1  cov_nongerman  cov_nongerman_male  \\\n",
       "0  1.146271   0.909772       0.906922            0.924705   \n",
       "\n",
       "   cov_nongerman_female  \n",
       "0              0.877496  "
      ]
     },
     "execution_count": 54,
     "metadata": {},
     "output_type": "execute_result"
    }
   ],
   "source": [
    "cp_metrics_df"
   ]
  },
  {
   "cell_type": "markdown",
   "id": "33774451",
   "metadata": {
    "papermill": {
     "duration": 0.021247,
     "end_time": "2025-08-06T17:33:01.935437",
     "exception": false,
     "start_time": "2025-08-06T17:33:01.914190",
     "status": "completed"
    },
    "tags": []
   },
   "source": [
    "# (Fairness) Metrics"
   ]
  },
  {
   "cell_type": "code",
   "execution_count": 55,
   "id": "debc5d62",
   "metadata": {
    "execution": {
     "iopub.execute_input": "2025-08-06T17:33:01.980820Z",
     "iopub.status.busy": "2025-08-06T17:33:01.980185Z",
     "iopub.status.idle": "2025-08-06T17:33:02.002611Z",
     "shell.execute_reply": "2025-08-06T17:33:02.001521Z"
    },
    "papermill": {
     "duration": 0.047747,
     "end_time": "2025-08-06T17:33:02.004664",
     "exception": false,
     "start_time": "2025-08-06T17:33:01.956917",
     "status": "completed"
    },
    "tags": []
   },
   "outputs": [],
   "source": [
    "colname_to_bin = \"maxdeutsch1\"\n",
    "majority_value = org_train[colname_to_bin].mode()[0]\n",
    "\n",
    "org_test[\"majmin\"] = np.where(org_test[colname_to_bin] == majority_value, \"majority\", \"minority\")"
   ]
  },
  {
   "cell_type": "code",
   "execution_count": 56,
   "id": "06a50de5",
   "metadata": {
    "execution": {
     "iopub.execute_input": "2025-08-06T17:33:02.050811Z",
     "iopub.status.busy": "2025-08-06T17:33:02.049877Z",
     "iopub.status.idle": "2025-08-06T17:33:04.806401Z",
     "shell.execute_reply": "2025-08-06T17:33:04.805320Z"
    },
    "papermill": {
     "duration": 2.7819,
     "end_time": "2025-08-06T17:33:04.808442",
     "exception": false,
     "start_time": "2025-08-06T17:33:02.026542",
     "status": "completed"
    },
    "tags": []
   },
   "outputs": [],
   "source": [
    "example_universe = universe.copy()\n",
    "example_universe[\"cutoff\"] = example_universe[\"cutoff\"][0]\n",
    "example_universe[\"eval_fairness_grouping\"] = example_universe[\"eval_fairness_grouping\"][0]\n",
    "fairness_dict, metric_frame = universe_analysis.compute_metrics(\n",
    "    example_universe,\n",
    "    y_pred_prob=probs_test,\n",
    "    y_test=y_true,\n",
    "    org_test=org_test,\n",
    ")"
   ]
  },
  {
   "cell_type": "markdown",
   "id": "f95d4e02",
   "metadata": {
    "papermill": {
     "duration": 0.02655,
     "end_time": "2025-08-06T17:33:04.864055",
     "exception": false,
     "start_time": "2025-08-06T17:33:04.837505",
     "status": "completed"
    },
    "tags": []
   },
   "source": [
    "# Overall"
   ]
  },
  {
   "cell_type": "markdown",
   "id": "bdee4871",
   "metadata": {
    "papermill": {
     "duration": 0.026658,
     "end_time": "2025-08-06T17:33:04.917180",
     "exception": false,
     "start_time": "2025-08-06T17:33:04.890522",
     "status": "completed"
    },
    "tags": []
   },
   "source": [
    "Main fairness target: Equalized Odds. Seems to be a better fit than equal opportunity, since we're not only interested in Y = 1. Seems to be a better fit than demographic parity, since we also care about accuracy, not just equal distribution of preds.\n",
    "\n",
    "Pick column for computation of fairness metrics\n",
    "\n",
    "Performance\n",
    "Overall performance measures, most interesting in relation to the measures split by group below"
   ]
  },
  {
   "cell_type": "code",
   "execution_count": 57,
   "id": "c4e067c6",
   "metadata": {
    "execution": {
     "iopub.execute_input": "2025-08-06T17:33:04.971067Z",
     "iopub.status.busy": "2025-08-06T17:33:04.970262Z",
     "iopub.status.idle": "2025-08-06T17:33:04.979364Z",
     "shell.execute_reply": "2025-08-06T17:33:04.978308Z"
    },
    "papermill": {
     "duration": 0.037717,
     "end_time": "2025-08-06T17:33:04.981007",
     "exception": false,
     "start_time": "2025-08-06T17:33:04.943290",
     "status": "completed"
    },
    "tags": []
   },
   "outputs": [
    {
     "data": {
      "text/plain": [
       "accuracy                   0.203233\n",
       "balanced accuracy          0.536618\n",
       "f1                         0.240807\n",
       "precision                  0.137170\n",
       "false positive rate        0.911818\n",
       "false negative rate        0.014946\n",
       "selection rate             0.921213\n",
       "count                  89710.000000\n",
       "dtype: float64"
      ]
     },
     "execution_count": 57,
     "metadata": {},
     "output_type": "execute_result"
    }
   ],
   "source": [
    "metric_frame.overall"
   ]
  },
  {
   "cell_type": "markdown",
   "id": "e968fe9d",
   "metadata": {
    "papermill": {
     "duration": 0.025955,
     "end_time": "2025-08-06T17:33:05.033083",
     "exception": false,
     "start_time": "2025-08-06T17:33:05.007128",
     "status": "completed"
    },
    "tags": []
   },
   "source": [
    "By Group"
   ]
  },
  {
   "cell_type": "code",
   "execution_count": 58,
   "id": "ec325bce",
   "metadata": {
    "execution": {
     "iopub.execute_input": "2025-08-06T17:33:05.087578Z",
     "iopub.status.busy": "2025-08-06T17:33:05.086620Z",
     "iopub.status.idle": "2025-08-06T17:33:05.104515Z",
     "shell.execute_reply": "2025-08-06T17:33:05.103487Z"
    },
    "papermill": {
     "duration": 0.046991,
     "end_time": "2025-08-06T17:33:05.106334",
     "exception": false,
     "start_time": "2025-08-06T17:33:05.059343",
     "status": "completed"
    },
    "tags": []
   },
   "outputs": [
    {
     "data": {
      "text/html": [
       "<div>\n",
       "<style scoped>\n",
       "    .dataframe tbody tr th:only-of-type {\n",
       "        vertical-align: middle;\n",
       "    }\n",
       "\n",
       "    .dataframe tbody tr th {\n",
       "        vertical-align: top;\n",
       "    }\n",
       "\n",
       "    .dataframe thead th {\n",
       "        text-align: right;\n",
       "    }\n",
       "</style>\n",
       "<table border=\"1\" class=\"dataframe\">\n",
       "  <thead>\n",
       "    <tr style=\"text-align: right;\">\n",
       "      <th></th>\n",
       "      <th>accuracy</th>\n",
       "      <th>balanced accuracy</th>\n",
       "      <th>f1</th>\n",
       "      <th>precision</th>\n",
       "      <th>false positive rate</th>\n",
       "      <th>false negative rate</th>\n",
       "      <th>selection rate</th>\n",
       "      <th>count</th>\n",
       "    </tr>\n",
       "    <tr>\n",
       "      <th>majmin</th>\n",
       "      <th></th>\n",
       "      <th></th>\n",
       "      <th></th>\n",
       "      <th></th>\n",
       "      <th></th>\n",
       "      <th></th>\n",
       "      <th></th>\n",
       "      <th></th>\n",
       "    </tr>\n",
       "  </thead>\n",
       "  <tbody>\n",
       "    <tr>\n",
       "      <th>majority</th>\n",
       "      <td>0.202689</td>\n",
       "      <td>0.536704</td>\n",
       "      <td>0.247202</td>\n",
       "      <td>0.141220</td>\n",
       "      <td>0.917291</td>\n",
       "      <td>0.00930</td>\n",
       "      <td>0.926991</td>\n",
       "      <td>69170.0</td>\n",
       "    </tr>\n",
       "    <tr>\n",
       "      <th>minority</th>\n",
       "      <td>0.205063</td>\n",
       "      <td>0.534761</td>\n",
       "      <td>0.218382</td>\n",
       "      <td>0.123151</td>\n",
       "      <td>0.893738</td>\n",
       "      <td>0.03674</td>\n",
       "      <td>0.901753</td>\n",
       "      <td>20540.0</td>\n",
       "    </tr>\n",
       "  </tbody>\n",
       "</table>\n",
       "</div>"
      ],
      "text/plain": [
       "          accuracy  balanced accuracy        f1  precision  \\\n",
       "majmin                                                       \n",
       "majority  0.202689           0.536704  0.247202   0.141220   \n",
       "minority  0.205063           0.534761  0.218382   0.123151   \n",
       "\n",
       "          false positive rate  false negative rate  selection rate    count  \n",
       "majmin                                                                       \n",
       "majority             0.917291              0.00930        0.926991  69170.0  \n",
       "minority             0.893738              0.03674        0.901753  20540.0  "
      ]
     },
     "execution_count": 58,
     "metadata": {},
     "output_type": "execute_result"
    }
   ],
   "source": [
    "metric_frame.by_group"
   ]
  },
  {
   "cell_type": "code",
   "execution_count": 59,
   "id": "a9ddbe63",
   "metadata": {
    "execution": {
     "iopub.execute_input": "2025-08-06T17:33:05.161336Z",
     "iopub.status.busy": "2025-08-06T17:33:05.160555Z",
     "iopub.status.idle": "2025-08-06T17:33:07.192158Z",
     "shell.execute_reply": "2025-08-06T17:33:07.191405Z"
    },
    "papermill": {
     "duration": 2.060481,
     "end_time": "2025-08-06T17:33:07.193449",
     "exception": false,
     "start_time": "2025-08-06T17:33:05.132968",
     "status": "completed"
    },
    "tags": []
   },
   "outputs": [
    {
     "data": {
      "text/plain": [
       "array([[<Axes: title={'center': 'accuracy'}, xlabel='majmin'>,\n",
       "        <Axes: title={'center': 'balanced accuracy'}, xlabel='majmin'>,\n",
       "        <Axes: title={'center': 'f1'}, xlabel='majmin'>],\n",
       "       [<Axes: title={'center': 'precision'}, xlabel='majmin'>,\n",
       "        <Axes: title={'center': 'false positive rate'}, xlabel='majmin'>,\n",
       "        <Axes: title={'center': 'false negative rate'}, xlabel='majmin'>],\n",
       "       [<Axes: title={'center': 'selection rate'}, xlabel='majmin'>,\n",
       "        <Axes: title={'center': 'count'}, xlabel='majmin'>,\n",
       "        <Axes: xlabel='majmin'>]], dtype=object)"
      ]
     },
     "execution_count": 59,
     "metadata": {},
     "output_type": "execute_result"
    },
    {
     "data": {
      "image/png": "[encoded data removed]",
      "text/plain": [
       "<Figure size 1200x800 with 9 Axes>"
      ]
     },
     "metadata": {},
     "output_type": "display_data"
    }
   ],
   "source": [
    "# In a graphic\n",
    "metric_frame.by_group.plot.bar(\n",
    "    subplots=True,\n",
    "    layout=[3, 3],\n",
    "    legend=False,\n",
    "    figsize=[12, 8],\n",
    "    title=\"Show all metrics\",\n",
    ")"
   ]
  },
  {
   "cell_type": "markdown",
   "id": "f57a0bac",
   "metadata": {
    "papermill": {
     "duration": 0.012926,
     "end_time": "2025-08-06T17:33:07.220203",
     "exception": false,
     "start_time": "2025-08-06T17:33:07.207277",
     "status": "completed"
    },
    "tags": []
   },
   "source": [
    "# Final Output"
   ]
  },
  {
   "cell_type": "code",
   "execution_count": 60,
   "id": "96d280a3",
   "metadata": {
    "execution": {
     "iopub.execute_input": "2025-08-06T17:33:07.247582Z",
     "iopub.status.busy": "2025-08-06T17:33:07.247102Z",
     "iopub.status.idle": "2025-08-06T17:33:07.253962Z",
     "shell.execute_reply": "2025-08-06T17:33:07.253200Z"
    },
    "papermill": {
     "duration": 0.021994,
     "end_time": "2025-08-06T17:33:07.255298",
     "exception": false,
     "start_time": "2025-08-06T17:33:07.233304",
     "status": "completed"
    },
    "tags": []
   },
   "outputs": [
    {
     "data": {
      "text/plain": [
       "4"
      ]
     },
     "execution_count": 60,
     "metadata": {},
     "output_type": "execute_result"
    }
   ],
   "source": [
    "sub_universes = universe_analysis.generate_sub_universes()\n",
    "len(sub_universes)"
   ]
  },
  {
   "cell_type": "code",
   "execution_count": 61,
   "id": "92adf7ba",
   "metadata": {
    "execution": {
     "iopub.execute_input": "2025-08-06T17:33:07.283066Z",
     "iopub.status.busy": "2025-08-06T17:33:07.282309Z",
     "iopub.status.idle": "2025-08-06T17:33:07.293648Z",
     "shell.execute_reply": "2025-08-06T17:33:07.292934Z"
    },
    "papermill": {
     "duration": 0.026456,
     "end_time": "2025-08-06T17:33:07.294968",
     "exception": false,
     "start_time": "2025-08-06T17:33:07.268512",
     "status": "completed"
    },
    "tags": []
   },
   "outputs": [],
   "source": [
    "def filter_sub_universe_data(sub_universe, org_test):\n",
    "    # Keep all rows — no filtering\n",
    "    keep_rows_mask = np.ones(org_test.shape[0], dtype=bool)\n",
    "\n",
    "    print(f\"[INFO] Keeping all rows: {keep_rows_mask.sum()} rows retained.\")\n",
    "    return keep_rows_mask"
   ]
  },
  {
   "cell_type": "code",
   "execution_count": 62,
   "id": "4a759155",
   "metadata": {
    "execution": {
     "iopub.execute_input": "2025-08-06T17:33:07.324013Z",
     "iopub.status.busy": "2025-08-06T17:33:07.323285Z",
     "iopub.status.idle": "2025-08-06T17:33:15.765618Z",
     "shell.execute_reply": "2025-08-06T17:33:15.764517Z"
    },
    "papermill": {
     "duration": 8.458004,
     "end_time": "2025-08-06T17:33:15.767279",
     "exception": false,
     "start_time": "2025-08-06T17:33:07.309275",
     "status": "completed"
    },
    "tags": []
   },
   "outputs": [
    {
     "name": "stdout",
     "output_type": "stream",
     "text": [
      "Stopping execution_time clock.\n",
      "[INFO] Keeping all rows: 89710 rows retained.\n"
     ]
    },
    {
     "name": "stdout",
     "output_type": "stream",
     "text": [
      "[INFO] Keeping all rows: 89710 rows retained.\n"
     ]
    },
    {
     "name": "stdout",
     "output_type": "stream",
     "text": [
      "[INFO] Keeping all rows: 89710 rows retained.\n"
     ]
    },
    {
     "name": "stdout",
     "output_type": "stream",
     "text": [
      "[INFO] Keeping all rows: 89710 rows retained.\n"
     ]
    },
    {
     "data": {
      "text/html": [
       "<div>\n",
       "<style scoped>\n",
       "    .dataframe tbody tr th:only-of-type {\n",
       "        vertical-align: middle;\n",
       "    }\n",
       "\n",
       "    .dataframe tbody tr th {\n",
       "        vertical-align: top;\n",
       "    }\n",
       "\n",
       "    .dataframe thead th {\n",
       "        text-align: right;\n",
       "    }\n",
       "</style>\n",
       "<table border=\"1\" class=\"dataframe\">\n",
       "  <thead>\n",
       "    <tr style=\"text-align: right;\">\n",
       "      <th></th>\n",
       "      <th>run_no</th>\n",
       "      <th>universe_id</th>\n",
       "      <th>universe_settings</th>\n",
       "      <th>execution_time</th>\n",
       "      <th>test_size_n</th>\n",
       "      <th>test_size_frac</th>\n",
       "      <th>fair_main_equalized_odds_difference</th>\n",
       "      <th>fair_main_equalized_odds_ratio</th>\n",
       "      <th>fair_main_demographic_parity_difference</th>\n",
       "      <th>fair_main_demographic_parity_ratio</th>\n",
       "      <th>...</th>\n",
       "      <th>perf_grp_precision_0</th>\n",
       "      <th>perf_grp_precision_1</th>\n",
       "      <th>perf_grp_false positive rate_0</th>\n",
       "      <th>perf_grp_false positive rate_1</th>\n",
       "      <th>perf_grp_false negative rate_0</th>\n",
       "      <th>perf_grp_false negative rate_1</th>\n",
       "      <th>perf_grp_selection rate_0</th>\n",
       "      <th>perf_grp_selection rate_1</th>\n",
       "      <th>perf_grp_count_0</th>\n",
       "      <th>perf_grp_count_1</th>\n",
       "    </tr>\n",
       "  </thead>\n",
       "  <tbody>\n",
       "    <tr>\n",
       "      <th>0</th>\n",
       "      <td>1</td>\n",
       "      <td>00fd2ec902beaeb4c7f257259a9c67d7</td>\n",
       "      <td>{\"cutoff\": \"quantile_0.1\", \"eval_fairness_grou...</td>\n",
       "      <td>36.279997</td>\n",
       "      <td>89710</td>\n",
       "      <td>1.0</td>\n",
       "      <td>0.027440</td>\n",
       "      <td>0.972302</td>\n",
       "      <td>0.025239</td>\n",
       "      <td>0.972773</td>\n",
       "      <td>...</td>\n",
       "      <td>NaN</td>\n",
       "      <td>NaN</td>\n",
       "      <td>NaN</td>\n",
       "      <td>NaN</td>\n",
       "      <td>NaN</td>\n",
       "      <td>NaN</td>\n",
       "      <td>NaN</td>\n",
       "      <td>NaN</td>\n",
       "      <td>NaN</td>\n",
       "      <td>NaN</td>\n",
       "    </tr>\n",
       "    <tr>\n",
       "      <th>0</th>\n",
       "      <td>1</td>\n",
       "      <td>00fd2ec902beaeb4c7f257259a9c67d7</td>\n",
       "      <td>{\"cutoff\": \"quantile_0.1\", \"eval_fairness_grou...</td>\n",
       "      <td>36.279997</td>\n",
       "      <td>89710</td>\n",
       "      <td>1.0</td>\n",
       "      <td>0.027440</td>\n",
       "      <td>0.972302</td>\n",
       "      <td>0.025239</td>\n",
       "      <td>0.972773</td>\n",
       "      <td>...</td>\n",
       "      <td>0.123151</td>\n",
       "      <td>0.141220</td>\n",
       "      <td>0.893738</td>\n",
       "      <td>0.917291</td>\n",
       "      <td>0.036740</td>\n",
       "      <td>0.00930</td>\n",
       "      <td>0.901753</td>\n",
       "      <td>0.926991</td>\n",
       "      <td>20540.0</td>\n",
       "      <td>69170.0</td>\n",
       "    </tr>\n",
       "    <tr>\n",
       "      <th>0</th>\n",
       "      <td>1</td>\n",
       "      <td>00fd2ec902beaeb4c7f257259a9c67d7</td>\n",
       "      <td>{\"cutoff\": \"quantile_0.25\", \"eval_fairness_gro...</td>\n",
       "      <td>36.279997</td>\n",
       "      <td>89710</td>\n",
       "      <td>1.0</td>\n",
       "      <td>0.088162</td>\n",
       "      <td>0.908265</td>\n",
       "      <td>0.064802</td>\n",
       "      <td>0.919409</td>\n",
       "      <td>...</td>\n",
       "      <td>NaN</td>\n",
       "      <td>NaN</td>\n",
       "      <td>NaN</td>\n",
       "      <td>NaN</td>\n",
       "      <td>NaN</td>\n",
       "      <td>NaN</td>\n",
       "      <td>NaN</td>\n",
       "      <td>NaN</td>\n",
       "      <td>NaN</td>\n",
       "      <td>NaN</td>\n",
       "    </tr>\n",
       "    <tr>\n",
       "      <th>0</th>\n",
       "      <td>1</td>\n",
       "      <td>00fd2ec902beaeb4c7f257259a9c67d7</td>\n",
       "      <td>{\"cutoff\": \"quantile_0.25\", \"eval_fairness_gro...</td>\n",
       "      <td>36.279997</td>\n",
       "      <td>89710</td>\n",
       "      <td>1.0</td>\n",
       "      <td>0.088162</td>\n",
       "      <td>0.908265</td>\n",
       "      <td>0.064802</td>\n",
       "      <td>0.919409</td>\n",
       "      <td>...</td>\n",
       "      <td>0.136121</td>\n",
       "      <td>0.157932</td>\n",
       "      <td>0.721880</td>\n",
       "      <td>0.780193</td>\n",
       "      <td>0.127111</td>\n",
       "      <td>0.03895</td>\n",
       "      <td>0.739289</td>\n",
       "      <td>0.804091</td>\n",
       "      <td>20540.0</td>\n",
       "      <td>69170.0</td>\n",
       "    </tr>\n",
       "  </tbody>\n",
       "</table>\n",
       "<p>4 rows × 50 columns</p>\n",
       "</div>"
      ],
      "text/plain": [
       "  run_no                       universe_id  \\\n",
       "0      1  00fd2ec902beaeb4c7f257259a9c67d7   \n",
       "0      1  00fd2ec902beaeb4c7f257259a9c67d7   \n",
       "0      1  00fd2ec902beaeb4c7f257259a9c67d7   \n",
       "0      1  00fd2ec902beaeb4c7f257259a9c67d7   \n",
       "\n",
       "                                   universe_settings  execution_time  \\\n",
       "0  {\"cutoff\": \"quantile_0.1\", \"eval_fairness_grou...       36.279997   \n",
       "0  {\"cutoff\": \"quantile_0.1\", \"eval_fairness_grou...       36.279997   \n",
       "0  {\"cutoff\": \"quantile_0.25\", \"eval_fairness_gro...       36.279997   \n",
       "0  {\"cutoff\": \"quantile_0.25\", \"eval_fairness_gro...       36.279997   \n",
       "\n",
       "   test_size_n  test_size_frac  fair_main_equalized_odds_difference  \\\n",
       "0        89710             1.0                             0.027440   \n",
       "0        89710             1.0                             0.027440   \n",
       "0        89710             1.0                             0.088162   \n",
       "0        89710             1.0                             0.088162   \n",
       "\n",
       "   fair_main_equalized_odds_ratio  fair_main_demographic_parity_difference  \\\n",
       "0                        0.972302                                 0.025239   \n",
       "0                        0.972302                                 0.025239   \n",
       "0                        0.908265                                 0.064802   \n",
       "0                        0.908265                                 0.064802   \n",
       "\n",
       "   fair_main_demographic_parity_ratio  ...  perf_grp_precision_0  \\\n",
       "0                            0.972773  ...                   NaN   \n",
       "0                            0.972773  ...              0.123151   \n",
       "0                            0.919409  ...                   NaN   \n",
       "0                            0.919409  ...              0.136121   \n",
       "\n",
       "   perf_grp_precision_1  perf_grp_false positive rate_0  \\\n",
       "0                   NaN                             NaN   \n",
       "0              0.141220                        0.893738   \n",
       "0                   NaN                             NaN   \n",
       "0              0.157932                        0.721880   \n",
       "\n",
       "   perf_grp_false positive rate_1  perf_grp_false negative rate_0  \\\n",
       "0                             NaN                             NaN   \n",
       "0                        0.917291                        0.036740   \n",
       "0                             NaN                             NaN   \n",
       "0                        0.780193                        0.127111   \n",
       "\n",
       "   perf_grp_false negative rate_1  perf_grp_selection rate_0  \\\n",
       "0                             NaN                        NaN   \n",
       "0                         0.00930                   0.901753   \n",
       "0                             NaN                        NaN   \n",
       "0                         0.03895                   0.739289   \n",
       "\n",
       "   perf_grp_selection rate_1  perf_grp_count_0  perf_grp_count_1  \n",
       "0                        NaN               NaN               NaN  \n",
       "0                   0.926991           20540.0           69170.0  \n",
       "0                        NaN               NaN               NaN  \n",
       "0                   0.804091           20540.0           69170.0  \n",
       "\n",
       "[4 rows x 50 columns]"
      ]
     },
     "execution_count": 62,
     "metadata": {},
     "output_type": "execute_result"
    }
   ],
   "source": [
    "final_output = universe_analysis.generate_final_output(\n",
    "    y_pred_prob=probs_test,\n",
    "    y_test=y_true,\n",
    "    org_test=org_test,\n",
    "    filter_data=filter_sub_universe_data,\n",
    "    cp_metrics_df=cp_metrics_df,\n",
    "    save=True,\n",
    ")\n",
    "final_output"
   ]
  },
  {
   "cell_type": "code",
   "execution_count": null,
   "id": "571f9a0f-660a-4841-b661-b06fbc637944",
   "metadata": {
    "papermill": {
     "duration": 0.026801,
     "end_time": "2025-08-06T17:33:15.824925",
     "exception": false,
     "start_time": "2025-08-06T17:33:15.798124",
     "status": "completed"
    },
    "tags": []
   },
   "outputs": [],
   "source": []
  },
  {
   "cell_type": "code",
   "execution_count": null,
   "id": "529482e3-0150-4854-a92d-ab864efc606e",
   "metadata": {
    "papermill": {
     "duration": 0.02657,
     "end_time": "2025-08-06T17:33:15.878660",
     "exception": false,
     "start_time": "2025-08-06T17:33:15.852090",
     "status": "completed"
    },
    "tags": []
   },
   "outputs": [],
   "source": []
  }
 ],
 "metadata": {
  "celltoolbar": "Tags",
  "kernelspec": {
   "display_name": "Python (CMA Fairness)",
   "language": "python",
   "name": "cma_fair_env"
  },
  "language_info": {
   "codemirror_mode": {
    "name": "ipython",
    "version": 3
   },
   "file_extension": ".py",
   "mimetype": "text/x-python",
   "name": "python",
   "nbconvert_exporter": "python",
   "pygments_lexer": "ipython3",
   "version": "3.10.12"
  },
  "papermill": {
   "default_parameters": {},
   "duration": 48.81084,
   "end_time": "2025-08-06T17:33:16.625601",
   "environment_variables": {},
   "exception": null,
   "input_path": "universe_analysis.ipynb",
   "output_path": "output/runs/1/notebooks/m_1-00fd2ec902beaeb4c7f257259a9c67d7.ipynb",
   "parameters": {
    "output_dir": "output",
    "run_no": "1",
    "seed": "2023",
    "universe": "{\"cutoff\": [\"quantile_0.1\", \"quantile_0.25\"], \"eval_fairness_grouping\": [\"majority-minority\", \"nationality-all\"], \"exclude_features\": \"none\", \"exclude_subgroups\": \"keep-all\", \"model\": \"rf\", \"scale\": \"do-not-scale\", \"training_size\": \"5k\", \"training_year\": \"2012_14\"}",
    "universe_id": "00fd2ec902beaeb4c7f257259a9c67d7"
   },
   "start_time": "2025-08-06T17:32:27.814761",
   "version": "2.6.0"
  }
 },
 "nbformat": 4,
 "nbformat_minor": 5
}