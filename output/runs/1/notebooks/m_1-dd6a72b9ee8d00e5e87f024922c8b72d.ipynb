{
 "cells": [
  {
   "cell_type": "markdown",
   "id": "b2057076-3a91-4cfa-9bfd-eab1e61b3068",
   "metadata": {
    "papermill": {
     "duration": 0.017035,
     "end_time": "2025-08-06T17:56:01.389659",
     "exception": false,
     "start_time": "2025-08-06T17:56:01.372624",
     "status": "completed"
    },
    "tags": []
   },
   "source": [
    "# Setup"
   ]
  },
  {
   "cell_type": "code",
   "execution_count": 1,
   "id": "f159f837-637b-42ba-96b5-ec9a68c44524",
   "metadata": {
    "execution": {
     "iopub.execute_input": "2025-08-06T17:56:01.423114Z",
     "iopub.status.busy": "2025-08-06T17:56:01.422536Z",
     "iopub.status.idle": "2025-08-06T17:56:01.440244Z",
     "shell.execute_reply": "2025-08-06T17:56:01.438668Z"
    },
    "papermill": {
     "duration": 0.037089,
     "end_time": "2025-08-06T17:56:01.442404",
     "exception": false,
     "start_time": "2025-08-06T17:56:01.405315",
     "status": "completed"
    },
    "tags": []
   },
   "outputs": [
    {
     "name": "stdout",
     "output_type": "stream",
     "text": [
      "/dss/dsshome1/0C/ra93lal2/cma/CMA_Fairness_v2\n"
     ]
    },
    {
     "name": "stderr",
     "output_type": "stream",
     "text": [
      "/dss/dsshome1/0C/ra93lal2/.local/share/virtualenvs/CMA_Fairness_v2-3j10GkSs/lib/python3.10/site-packages/IPython/core/magics/osm.py:393: UserWarning: This is now an optional IPython functionality, using bookmarks requires you to install the `pickleshare` library.\n",
      "  bkms = self.shell.db.get('bookmarks', {})\n",
      "/dss/dsshome1/0C/ra93lal2/.local/share/virtualenvs/CMA_Fairness_v2-3j10GkSs/lib/python3.10/site-packages/IPython/core/magics/osm.py:417: UserWarning: This is now an optional IPython functionality, setting dhist requires you to install the `pickleshare` library.\n",
      "  self.shell.db['dhist'] = compress_dhist(dhist)[-100:]\n"
     ]
    }
   ],
   "source": [
    "%cd ~/cma/CMA_Fairness_v2"
   ]
  },
  {
   "cell_type": "markdown",
   "id": "de2603b9",
   "metadata": {
    "papermill": {
     "duration": 0.018334,
     "end_time": "2025-08-06T17:56:01.479701",
     "exception": false,
     "start_time": "2025-08-06T17:56:01.461367",
     "status": "completed"
    },
    "tags": []
   },
   "source": [
    "The following cell holds the definition of our parameters, these values can be overriden by rendering the with e.g. the following command:\n",
    "\n",
    "papermill -p alpha 0.2 -p ratio 0.3 universe_analysis.ipynb output/test_run.ipynb"
   ]
  },
  {
   "cell_type": "code",
   "execution_count": 2,
   "id": "a80968a0-40bb-4fa9-85ef-2d5eefb01975",
   "metadata": {
    "execution": {
     "iopub.execute_input": "2025-08-06T17:56:01.517581Z",
     "iopub.status.busy": "2025-08-06T17:56:01.517052Z",
     "iopub.status.idle": "2025-08-06T17:56:01.522991Z",
     "shell.execute_reply": "2025-08-06T17:56:01.522144Z"
    },
    "papermill": {
     "duration": 0.027017,
     "end_time": "2025-08-06T17:56:01.524854",
     "exception": false,
     "start_time": "2025-08-06T17:56:01.497837",
     "status": "completed"
    },
    "tags": []
   },
   "outputs": [
    {
     "name": "stdout",
     "output_type": "stream",
     "text": [
      "Current working directory: /dss/dsshome1/0C/ra93lal2/cma/CMA_Fairness_v2\n"
     ]
    }
   ],
   "source": [
    "import os\n",
    "print(\"Current working directory:\", os.getcwd())"
   ]
  },
  {
   "cell_type": "code",
   "execution_count": 3,
   "id": "2dce4c03",
   "metadata": {
    "execution": {
     "iopub.execute_input": "2025-08-06T17:56:01.563079Z",
     "iopub.status.busy": "2025-08-06T17:56:01.562657Z",
     "iopub.status.idle": "2025-08-06T17:56:01.569774Z",
     "shell.execute_reply": "2025-08-06T17:56:01.568900Z"
    },
    "papermill": {
     "duration": 0.02824,
     "end_time": "2025-08-06T17:56:01.571692",
     "exception": false,
     "start_time": "2025-08-06T17:56:01.543452",
     "status": "completed"
    },
    "tags": [
     "parameters"
    ]
   },
   "outputs": [],
   "source": [
    "run_no = 0\n",
    "universe_id = \"test\"\n",
    "universe = {\n",
    "    \"training_size\": \"5k\", # \"25k\", \"5k\", \"1k\"\n",
    "    \"training_year\": \"2012_14\", # \"2014\", \"2012_14\", \"2010_14\"\n",
    "    \"scale\": \"scale\", # \"scale\", \"do-not-scale\",\n",
    "    \"model\": \"elasticnet\", # \"logreg\", \"penalized_logreg\", \"rf\", \"gbm\", \"elasticnet\"\n",
    "    \"cutoff\": [\"quantile_0.15\", \"quantile_0.30\"],\n",
    "    \"exclude_features\": \"age\", # \"none\", \"nationality\", \"sex\", \"nationality-sex\", \"age\"\n",
    "    \"exclude_subgroups\": \"drop-non-german\", # \"keep-all\", \"drop-non-german\"\n",
    "    \"eval_fairness_grouping\": [\"majority-minority\", \"nationality-all\"]\n",
    "}\n",
    "\n",
    "output_dir=\"./output\"\n",
    "seed=0"
   ]
  },
  {
   "cell_type": "code",
   "execution_count": 4,
   "id": "4cafca5b",
   "metadata": {
    "execution": {
     "iopub.execute_input": "2025-08-06T17:56:01.606369Z",
     "iopub.status.busy": "2025-08-06T17:56:01.605840Z",
     "iopub.status.idle": "2025-08-06T17:56:01.611778Z",
     "shell.execute_reply": "2025-08-06T17:56:01.610785Z"
    },
    "papermill": {
     "duration": 0.024435,
     "end_time": "2025-08-06T17:56:01.613415",
     "exception": false,
     "start_time": "2025-08-06T17:56:01.588980",
     "status": "completed"
    },
    "tags": [
     "injected-parameters"
    ]
   },
   "outputs": [],
   "source": [
    "# Parameters\n",
    "universe_id = \"dd6a72b9ee8d00e5e87f024922c8b72d\"\n",
    "run_no = \"1\"\n",
    "universe = \"{\\\"cutoff\\\": [\\\"quantile_0.1\\\", \\\"quantile_0.25\\\"], \\\"eval_fairness_grouping\\\": [\\\"majority-minority\\\", \\\"nationality-all\\\"], \\\"exclude_features\\\": \\\"sex\\\", \\\"exclude_subgroups\\\": \\\"keep-all\\\", \\\"model\\\": \\\"logreg\\\", \\\"scale\\\": \\\"scale\\\", \\\"training_size\\\": \\\"1k\\\", \\\"training_year\\\": \\\"2012_14\\\"}\"\n",
    "output_dir = \"output\"\n",
    "seed = \"2023\"\n"
   ]
  },
  {
   "cell_type": "code",
   "execution_count": 5,
   "id": "1650acaf",
   "metadata": {
    "execution": {
     "iopub.execute_input": "2025-08-06T17:56:01.646642Z",
     "iopub.status.busy": "2025-08-06T17:56:01.646223Z",
     "iopub.status.idle": "2025-08-06T17:56:01.649897Z",
     "shell.execute_reply": "2025-08-06T17:56:01.649257Z"
    },
    "papermill": {
     "duration": 0.021365,
     "end_time": "2025-08-06T17:56:01.651116",
     "exception": false,
     "start_time": "2025-08-06T17:56:01.629751",
     "status": "completed"
    },
    "tags": []
   },
   "outputs": [],
   "source": [
    "import json\n",
    "if isinstance(universe, str):\n",
    "    universe = json.loads(universe)"
   ]
  },
  {
   "cell_type": "code",
   "execution_count": 6,
   "id": "16620c48",
   "metadata": {
    "execution": {
     "iopub.execute_input": "2025-08-06T17:56:01.673224Z",
     "iopub.status.busy": "2025-08-06T17:56:01.672857Z",
     "iopub.status.idle": "2025-08-06T17:56:01.704484Z",
     "shell.execute_reply": "2025-08-06T17:56:01.702949Z"
    },
    "papermill": {
     "duration": 0.044152,
     "end_time": "2025-08-06T17:56:01.706104",
     "exception": false,
     "start_time": "2025-08-06T17:56:01.661952",
     "status": "completed"
    },
    "tags": []
   },
   "outputs": [],
   "source": [
    "# Auto-reload the custom package\n",
    "%load_ext autoreload\n",
    "%autoreload 1\n",
    "%aimport fairness_multiverse"
   ]
  },
  {
   "cell_type": "code",
   "execution_count": 7,
   "id": "01c5c9f3",
   "metadata": {
    "execution": {
     "iopub.execute_input": "2025-08-06T17:56:01.728324Z",
     "iopub.status.busy": "2025-08-06T17:56:01.727778Z",
     "iopub.status.idle": "2025-08-06T17:56:03.646345Z",
     "shell.execute_reply": "2025-08-06T17:56:03.645557Z"
    },
    "papermill": {
     "duration": 1.92972,
     "end_time": "2025-08-06T17:56:03.647770",
     "exception": false,
     "start_time": "2025-08-06T17:56:01.718050",
     "status": "completed"
    },
    "tags": []
   },
   "outputs": [],
   "source": [
    "from fairness_multiverse.universe import UniverseAnalysis\n",
    "\n",
    "universe_analysis = UniverseAnalysis(\n",
    "    run_no = run_no,\n",
    "    universe_id = universe_id,\n",
    "    universe = universe,\n",
    "    output_dir=output_dir,\n",
    ")"
   ]
  },
  {
   "cell_type": "code",
   "execution_count": 8,
   "id": "106241f5",
   "metadata": {
    "execution": {
     "iopub.execute_input": "2025-08-06T17:56:03.673109Z",
     "iopub.status.busy": "2025-08-06T17:56:03.672008Z",
     "iopub.status.idle": "2025-08-06T17:56:03.677967Z",
     "shell.execute_reply": "2025-08-06T17:56:03.677172Z"
    },
    "papermill": {
     "duration": 0.022228,
     "end_time": "2025-08-06T17:56:03.679276",
     "exception": false,
     "start_time": "2025-08-06T17:56:03.657048",
     "status": "completed"
    },
    "tags": []
   },
   "outputs": [
    {
     "name": "stdout",
     "output_type": "stream",
     "text": [
      "Using Seed: 2023\n"
     ]
    }
   ],
   "source": [
    "import numpy as np\n",
    "parsed_seed = int(seed)\n",
    "np.random.seed(parsed_seed)\n",
    "print(f\"Using Seed: {parsed_seed}\")"
   ]
  },
  {
   "cell_type": "markdown",
   "id": "e0ebdc57",
   "metadata": {
    "papermill": {
     "duration": 0.019474,
     "end_time": "2025-08-06T17:56:03.712323",
     "exception": false,
     "start_time": "2025-08-06T17:56:03.692849",
     "status": "completed"
    },
    "tags": []
   },
   "source": [
    "# Loading Data"
   ]
  },
  {
   "cell_type": "code",
   "execution_count": 9,
   "id": "f0496b8a",
   "metadata": {
    "execution": {
     "iopub.execute_input": "2025-08-06T17:56:03.751837Z",
     "iopub.status.busy": "2025-08-06T17:56:03.751355Z",
     "iopub.status.idle": "2025-08-06T17:56:13.566815Z",
     "shell.execute_reply": "2025-08-06T17:56:13.565302Z"
    },
    "papermill": {
     "duration": 9.837676,
     "end_time": "2025-08-06T17:56:13.568916",
     "exception": false,
     "start_time": "2025-08-06T17:56:03.731240",
     "status": "completed"
    },
    "tags": []
   },
   "outputs": [
    {
     "name": "stdout",
     "output_type": "stream",
     "text": [
      "Loading SIAB data from cache: data/siab_cached.csv.gz\n"
     ]
    },
    {
     "name": "stdout",
     "output_type": "stream",
     "text": [
      "(643690, 164)\n"
     ]
    }
   ],
   "source": [
    "from pathlib import Path\n",
    "import pandas as pd\n",
    "\n",
    "# File paths\n",
    "raw_file = Path(\"data/raw/siab.csv\")\n",
    "cache_file = Path(\"data/siab_cached.csv.gz\")\n",
    "\n",
    "# Ensure cache directory exists\n",
    "cache_file.parent.mkdir(parents=True, exist_ok=True)\n",
    "\n",
    "# Load with simple caching\n",
    "if cache_file.exists():\n",
    "    print(f\"Loading SIAB data from cache: {cache_file}\")\n",
    "    siab = pd.read_csv(cache_file, compression='gzip')\n",
    "else:\n",
    "    print(f\"Cache not found. Reading raw SIAB data: {raw_file}\")\n",
    "    siab = pd.read_csv(raw_file)\n",
    "    siab.to_csv(cache_file, index=False, compression='gzip')\n",
    "    print(f\"Cached SIAB data to: {cache_file}\")\n",
    "\n",
    "print(siab.shape)"
   ]
  },
  {
   "cell_type": "code",
   "execution_count": 10,
   "id": "db0ca512-5f53-4dba-abdb-a2888bca41ba",
   "metadata": {
    "execution": {
     "iopub.execute_input": "2025-08-06T17:56:13.617621Z",
     "iopub.status.busy": "2025-08-06T17:56:13.616873Z",
     "iopub.status.idle": "2025-08-06T17:56:13.730647Z",
     "shell.execute_reply": "2025-08-06T17:56:13.729580Z"
    },
    "papermill": {
     "duration": 0.139194,
     "end_time": "2025-08-06T17:56:13.732597",
     "exception": false,
     "start_time": "2025-08-06T17:56:13.593403",
     "status": "completed"
    },
    "tags": []
   },
   "outputs": [
    {
     "data": {
      "text/html": [
       "<div>\n",
       "<style scoped>\n",
       "    .dataframe tbody tr th:only-of-type {\n",
       "        vertical-align: middle;\n",
       "    }\n",
       "\n",
       "    .dataframe tbody tr th {\n",
       "        vertical-align: top;\n",
       "    }\n",
       "\n",
       "    .dataframe thead th {\n",
       "        text-align: right;\n",
       "    }\n",
       "</style>\n",
       "<table border=\"1\" class=\"dataframe\">\n",
       "  <thead>\n",
       "    <tr style=\"text-align: right;\">\n",
       "      <th></th>\n",
       "      <th>persnr</th>\n",
       "      <th>year</th>\n",
       "      <th>nrEntry</th>\n",
       "      <th>ltue</th>\n",
       "      <th>employed_before</th>\n",
       "      <th>receipt_leh_before</th>\n",
       "      <th>receipt_lhg_before</th>\n",
       "      <th>se_before</th>\n",
       "      <th>ASU_notue_seeking_before</th>\n",
       "      <th>ASU_other_before</th>\n",
       "      <th>...</th>\n",
       "      <th>minijob_tot_dur_byage</th>\n",
       "      <th>ft_tot_dur_byage</th>\n",
       "      <th>befrist_tot_dur_byage</th>\n",
       "      <th>leih_tot_dur_byage</th>\n",
       "      <th>LHG_tot_dur_byage</th>\n",
       "      <th>LEH_tot_dur_byage</th>\n",
       "      <th>almp_tot_dur_byage</th>\n",
       "      <th>almp_aw_tot_dur_byage</th>\n",
       "      <th>se_tot_dur_byage</th>\n",
       "      <th>seeking1_tot_dur_byage</th>\n",
       "    </tr>\n",
       "  </thead>\n",
       "  <tbody>\n",
       "    <tr>\n",
       "      <th>0</th>\n",
       "      <td>7</td>\n",
       "      <td>2015</td>\n",
       "      <td>1</td>\n",
       "      <td>0</td>\n",
       "      <td>1</td>\n",
       "      <td>0</td>\n",
       "      <td>0</td>\n",
       "      <td>0</td>\n",
       "      <td>1</td>\n",
       "      <td>0</td>\n",
       "      <td>...</td>\n",
       "      <td>0.000000</td>\n",
       "      <td>0.000000</td>\n",
       "      <td>15.043478</td>\n",
       "      <td>0.000000</td>\n",
       "      <td>0.000000</td>\n",
       "      <td>0.000000</td>\n",
       "      <td>0.000000</td>\n",
       "      <td>0.000000</td>\n",
       "      <td>0.000000</td>\n",
       "      <td>0.000000</td>\n",
       "    </tr>\n",
       "    <tr>\n",
       "      <th>1</th>\n",
       "      <td>18</td>\n",
       "      <td>2010</td>\n",
       "      <td>1</td>\n",
       "      <td>1</td>\n",
       "      <td>0</td>\n",
       "      <td>0</td>\n",
       "      <td>0</td>\n",
       "      <td>0</td>\n",
       "      <td>0</td>\n",
       "      <td>0</td>\n",
       "      <td>...</td>\n",
       "      <td>0.000000</td>\n",
       "      <td>0.000000</td>\n",
       "      <td>0.000000</td>\n",
       "      <td>0.000000</td>\n",
       "      <td>0.000000</td>\n",
       "      <td>0.000000</td>\n",
       "      <td>0.000000</td>\n",
       "      <td>0.000000</td>\n",
       "      <td>0.000000</td>\n",
       "      <td>0.000000</td>\n",
       "    </tr>\n",
       "    <tr>\n",
       "      <th>2</th>\n",
       "      <td>18</td>\n",
       "      <td>2011</td>\n",
       "      <td>2</td>\n",
       "      <td>0</td>\n",
       "      <td>1</td>\n",
       "      <td>0</td>\n",
       "      <td>1</td>\n",
       "      <td>0</td>\n",
       "      <td>1</td>\n",
       "      <td>0</td>\n",
       "      <td>...</td>\n",
       "      <td>2.714286</td>\n",
       "      <td>2.714286</td>\n",
       "      <td>0.000000</td>\n",
       "      <td>0.000000</td>\n",
       "      <td>10.775510</td>\n",
       "      <td>0.000000</td>\n",
       "      <td>8.367347</td>\n",
       "      <td>0.000000</td>\n",
       "      <td>0.000000</td>\n",
       "      <td>9.836735</td>\n",
       "    </tr>\n",
       "    <tr>\n",
       "      <th>3</th>\n",
       "      <td>18</td>\n",
       "      <td>2012</td>\n",
       "      <td>3</td>\n",
       "      <td>0</td>\n",
       "      <td>1</td>\n",
       "      <td>0</td>\n",
       "      <td>1</td>\n",
       "      <td>0</td>\n",
       "      <td>1</td>\n",
       "      <td>0</td>\n",
       "      <td>...</td>\n",
       "      <td>4.200000</td>\n",
       "      <td>4.200000</td>\n",
       "      <td>0.000000</td>\n",
       "      <td>0.000000</td>\n",
       "      <td>12.100000</td>\n",
       "      <td>0.000000</td>\n",
       "      <td>9.400000</td>\n",
       "      <td>0.000000</td>\n",
       "      <td>0.000000</td>\n",
       "      <td>9.960000</td>\n",
       "    </tr>\n",
       "    <tr>\n",
       "      <th>4</th>\n",
       "      <td>18</td>\n",
       "      <td>2012</td>\n",
       "      <td>4</td>\n",
       "      <td>0</td>\n",
       "      <td>1</td>\n",
       "      <td>0</td>\n",
       "      <td>1</td>\n",
       "      <td>0</td>\n",
       "      <td>1</td>\n",
       "      <td>0</td>\n",
       "      <td>...</td>\n",
       "      <td>5.460000</td>\n",
       "      <td>5.460000</td>\n",
       "      <td>0.000000</td>\n",
       "      <td>0.000000</td>\n",
       "      <td>13.360000</td>\n",
       "      <td>0.000000</td>\n",
       "      <td>10.320000</td>\n",
       "      <td>0.000000</td>\n",
       "      <td>0.000000</td>\n",
       "      <td>10.280000</td>\n",
       "    </tr>\n",
       "    <tr>\n",
       "      <th>...</th>\n",
       "      <td>...</td>\n",
       "      <td>...</td>\n",
       "      <td>...</td>\n",
       "      <td>...</td>\n",
       "      <td>...</td>\n",
       "      <td>...</td>\n",
       "      <td>...</td>\n",
       "      <td>...</td>\n",
       "      <td>...</td>\n",
       "      <td>...</td>\n",
       "      <td>...</td>\n",
       "      <td>...</td>\n",
       "      <td>...</td>\n",
       "      <td>...</td>\n",
       "      <td>...</td>\n",
       "      <td>...</td>\n",
       "      <td>...</td>\n",
       "      <td>...</td>\n",
       "      <td>...</td>\n",
       "      <td>...</td>\n",
       "      <td>...</td>\n",
       "    </tr>\n",
       "    <tr>\n",
       "      <th>643685</th>\n",
       "      <td>1827860</td>\n",
       "      <td>2013</td>\n",
       "      <td>1</td>\n",
       "      <td>0</td>\n",
       "      <td>0</td>\n",
       "      <td>0</td>\n",
       "      <td>1</td>\n",
       "      <td>0</td>\n",
       "      <td>0</td>\n",
       "      <td>1</td>\n",
       "      <td>...</td>\n",
       "      <td>0.000000</td>\n",
       "      <td>0.000000</td>\n",
       "      <td>0.000000</td>\n",
       "      <td>0.000000</td>\n",
       "      <td>0.612903</td>\n",
       "      <td>0.000000</td>\n",
       "      <td>0.000000</td>\n",
       "      <td>0.000000</td>\n",
       "      <td>0.000000</td>\n",
       "      <td>0.000000</td>\n",
       "    </tr>\n",
       "    <tr>\n",
       "      <th>643686</th>\n",
       "      <td>1827860</td>\n",
       "      <td>2015</td>\n",
       "      <td>2</td>\n",
       "      <td>1</td>\n",
       "      <td>0</td>\n",
       "      <td>0</td>\n",
       "      <td>1</td>\n",
       "      <td>0</td>\n",
       "      <td>1</td>\n",
       "      <td>0</td>\n",
       "      <td>...</td>\n",
       "      <td>0.000000</td>\n",
       "      <td>0.000000</td>\n",
       "      <td>0.212121</td>\n",
       "      <td>0.212121</td>\n",
       "      <td>17.363636</td>\n",
       "      <td>0.000000</td>\n",
       "      <td>8.909091</td>\n",
       "      <td>0.000000</td>\n",
       "      <td>0.000000</td>\n",
       "      <td>7.121212</td>\n",
       "    </tr>\n",
       "    <tr>\n",
       "      <th>643687</th>\n",
       "      <td>1827860</td>\n",
       "      <td>2016</td>\n",
       "      <td>3</td>\n",
       "      <td>1</td>\n",
       "      <td>0</td>\n",
       "      <td>0</td>\n",
       "      <td>1</td>\n",
       "      <td>1</td>\n",
       "      <td>0</td>\n",
       "      <td>1</td>\n",
       "      <td>...</td>\n",
       "      <td>0.000000</td>\n",
       "      <td>0.000000</td>\n",
       "      <td>0.294118</td>\n",
       "      <td>0.205882</td>\n",
       "      <td>34.705882</td>\n",
       "      <td>0.000000</td>\n",
       "      <td>10.352941</td>\n",
       "      <td>1.705882</td>\n",
       "      <td>1.705882</td>\n",
       "      <td>23.911765</td>\n",
       "    </tr>\n",
       "    <tr>\n",
       "      <th>643688</th>\n",
       "      <td>1827869</td>\n",
       "      <td>2013</td>\n",
       "      <td>1</td>\n",
       "      <td>1</td>\n",
       "      <td>1</td>\n",
       "      <td>0</td>\n",
       "      <td>0</td>\n",
       "      <td>0</td>\n",
       "      <td>1</td>\n",
       "      <td>0</td>\n",
       "      <td>...</td>\n",
       "      <td>0.000000</td>\n",
       "      <td>0.000000</td>\n",
       "      <td>0.000000</td>\n",
       "      <td>0.000000</td>\n",
       "      <td>0.000000</td>\n",
       "      <td>0.525424</td>\n",
       "      <td>0.000000</td>\n",
       "      <td>0.000000</td>\n",
       "      <td>0.000000</td>\n",
       "      <td>0.000000</td>\n",
       "    </tr>\n",
       "    <tr>\n",
       "      <th>643689</th>\n",
       "      <td>1827869</td>\n",
       "      <td>2014</td>\n",
       "      <td>2</td>\n",
       "      <td>0</td>\n",
       "      <td>0</td>\n",
       "      <td>1</td>\n",
       "      <td>0</td>\n",
       "      <td>0</td>\n",
       "      <td>1</td>\n",
       "      <td>0</td>\n",
       "      <td>...</td>\n",
       "      <td>0.000000</td>\n",
       "      <td>0.666667</td>\n",
       "      <td>0.666667</td>\n",
       "      <td>0.000000</td>\n",
       "      <td>0.000000</td>\n",
       "      <td>8.950000</td>\n",
       "      <td>1.033333</td>\n",
       "      <td>0.083333</td>\n",
       "      <td>0.083333</td>\n",
       "      <td>8.133333</td>\n",
       "    </tr>\n",
       "  </tbody>\n",
       "</table>\n",
       "<p>643690 rows × 164 columns</p>\n",
       "</div>"
      ],
      "text/plain": [
       "         persnr  year  nrEntry  ltue  employed_before  receipt_leh_before  \\\n",
       "0             7  2015        1     0                1                   0   \n",
       "1            18  2010        1     1                0                   0   \n",
       "2            18  2011        2     0                1                   0   \n",
       "3            18  2012        3     0                1                   0   \n",
       "4            18  2012        4     0                1                   0   \n",
       "...         ...   ...      ...   ...              ...                 ...   \n",
       "643685  1827860  2013        1     0                0                   0   \n",
       "643686  1827860  2015        2     1                0                   0   \n",
       "643687  1827860  2016        3     1                0                   0   \n",
       "643688  1827869  2013        1     1                1                   0   \n",
       "643689  1827869  2014        2     0                0                   1   \n",
       "\n",
       "        receipt_lhg_before  se_before  ASU_notue_seeking_before  \\\n",
       "0                        0          0                         1   \n",
       "1                        0          0                         0   \n",
       "2                        1          0                         1   \n",
       "3                        1          0                         1   \n",
       "4                        1          0                         1   \n",
       "...                    ...        ...                       ...   \n",
       "643685                   1          0                         0   \n",
       "643686                   1          0                         1   \n",
       "643687                   1          1                         0   \n",
       "643688                   0          0                         1   \n",
       "643689                   0          0                         1   \n",
       "\n",
       "        ASU_other_before  ...  minijob_tot_dur_byage  ft_tot_dur_byage  \\\n",
       "0                      0  ...               0.000000          0.000000   \n",
       "1                      0  ...               0.000000          0.000000   \n",
       "2                      0  ...               2.714286          2.714286   \n",
       "3                      0  ...               4.200000          4.200000   \n",
       "4                      0  ...               5.460000          5.460000   \n",
       "...                  ...  ...                    ...               ...   \n",
       "643685                 1  ...               0.000000          0.000000   \n",
       "643686                 0  ...               0.000000          0.000000   \n",
       "643687                 1  ...               0.000000          0.000000   \n",
       "643688                 0  ...               0.000000          0.000000   \n",
       "643689                 0  ...               0.000000          0.666667   \n",
       "\n",
       "        befrist_tot_dur_byage  leih_tot_dur_byage  LHG_tot_dur_byage  \\\n",
       "0                   15.043478            0.000000           0.000000   \n",
       "1                    0.000000            0.000000           0.000000   \n",
       "2                    0.000000            0.000000          10.775510   \n",
       "3                    0.000000            0.000000          12.100000   \n",
       "4                    0.000000            0.000000          13.360000   \n",
       "...                       ...                 ...                ...   \n",
       "643685               0.000000            0.000000           0.612903   \n",
       "643686               0.212121            0.212121          17.363636   \n",
       "643687               0.294118            0.205882          34.705882   \n",
       "643688               0.000000            0.000000           0.000000   \n",
       "643689               0.666667            0.000000           0.000000   \n",
       "\n",
       "        LEH_tot_dur_byage  almp_tot_dur_byage  almp_aw_tot_dur_byage  \\\n",
       "0                0.000000            0.000000               0.000000   \n",
       "1                0.000000            0.000000               0.000000   \n",
       "2                0.000000            8.367347               0.000000   \n",
       "3                0.000000            9.400000               0.000000   \n",
       "4                0.000000           10.320000               0.000000   \n",
       "...                   ...                 ...                    ...   \n",
       "643685           0.000000            0.000000               0.000000   \n",
       "643686           0.000000            8.909091               0.000000   \n",
       "643687           0.000000           10.352941               1.705882   \n",
       "643688           0.525424            0.000000               0.000000   \n",
       "643689           8.950000            1.033333               0.083333   \n",
       "\n",
       "        se_tot_dur_byage  seeking1_tot_dur_byage  \n",
       "0               0.000000                0.000000  \n",
       "1               0.000000                0.000000  \n",
       "2               0.000000                9.836735  \n",
       "3               0.000000                9.960000  \n",
       "4               0.000000               10.280000  \n",
       "...                  ...                     ...  \n",
       "643685          0.000000                0.000000  \n",
       "643686          0.000000                7.121212  \n",
       "643687          1.705882               23.911765  \n",
       "643688          0.000000                0.000000  \n",
       "643689          0.083333                8.133333  \n",
       "\n",
       "[643690 rows x 164 columns]"
      ]
     },
     "execution_count": 10,
     "metadata": {},
     "output_type": "execute_result"
    }
   ],
   "source": [
    "siab"
   ]
  },
  {
   "cell_type": "markdown",
   "id": "997051c5-15bd-4b69-9786-c3001a3ce484",
   "metadata": {
    "papermill": {
     "duration": 0.019939,
     "end_time": "2025-08-06T17:56:13.772995",
     "exception": false,
     "start_time": "2025-08-06T17:56:13.753056",
     "status": "completed"
    },
    "tags": []
   },
   "source": [
    "# Splitting Data and Setting Training Data Size"
   ]
  },
  {
   "cell_type": "code",
   "execution_count": 11,
   "id": "aea9c6ef-6f46-42c8-85eb-5a62025c1508",
   "metadata": {
    "execution": {
     "iopub.execute_input": "2025-08-06T17:56:13.815407Z",
     "iopub.status.busy": "2025-08-06T17:56:13.814509Z",
     "iopub.status.idle": "2025-08-06T17:56:14.417427Z",
     "shell.execute_reply": "2025-08-06T17:56:14.416156Z"
    },
    "papermill": {
     "duration": 0.626621,
     "end_time": "2025-08-06T17:56:14.419380",
     "exception": false,
     "start_time": "2025-08-06T17:56:13.792759",
     "status": "completed"
    },
    "tags": []
   },
   "outputs": [],
   "source": [
    "from fairness_multiverse.universe import sample_by_year_size\n",
    "\n",
    "siab_train = sample_by_year_size(siab,\n",
    "                               training_year=universe[\"training_year\"],\n",
    "                               training_size=universe[\"training_size\"])"
   ]
  },
  {
   "cell_type": "code",
   "execution_count": 12,
   "id": "8d3afb32-789d-442c-8d5d-9f5aa8dd2eed",
   "metadata": {
    "execution": {
     "iopub.execute_input": "2025-08-06T17:56:14.478517Z",
     "iopub.status.busy": "2025-08-06T17:56:14.477631Z",
     "iopub.status.idle": "2025-08-06T17:56:14.487071Z",
     "shell.execute_reply": "2025-08-06T17:56:14.485821Z"
    },
    "papermill": {
     "duration": 0.033932,
     "end_time": "2025-08-06T17:56:14.489095",
     "exception": false,
     "start_time": "2025-08-06T17:56:14.455163",
     "status": "completed"
    },
    "tags": []
   },
   "outputs": [
    {
     "data": {
      "text/plain": [
       "(1000, 164)"
      ]
     },
     "execution_count": 12,
     "metadata": {},
     "output_type": "execute_result"
    }
   ],
   "source": [
    "siab_train.shape"
   ]
  },
  {
   "cell_type": "code",
   "execution_count": 13,
   "id": "d582db68-1a4c-47fb-84fc-08518dc1975a",
   "metadata": {
    "execution": {
     "iopub.execute_input": "2025-08-06T17:56:14.533058Z",
     "iopub.status.busy": "2025-08-06T17:56:14.532396Z",
     "iopub.status.idle": "2025-08-06T17:56:14.545844Z",
     "shell.execute_reply": "2025-08-06T17:56:14.544624Z"
    },
    "papermill": {
     "duration": 0.037956,
     "end_time": "2025-08-06T17:56:14.547790",
     "exception": false,
     "start_time": "2025-08-06T17:56:14.509834",
     "status": "completed"
    },
    "tags": []
   },
   "outputs": [
    {
     "data": {
      "text/plain": [
       "year\n",
       "2012    334\n",
       "2013    333\n",
       "2014    333\n",
       "dtype: int64"
      ]
     },
     "metadata": {},
     "output_type": "display_data"
    }
   ],
   "source": [
    "display(siab_train.groupby(\"year\").size())"
   ]
  },
  {
   "cell_type": "code",
   "execution_count": 14,
   "id": "a561edb4-d032-42cb-8256-22eac1111c64",
   "metadata": {
    "execution": {
     "iopub.execute_input": "2025-08-06T17:56:14.592624Z",
     "iopub.status.busy": "2025-08-06T17:56:14.591555Z",
     "iopub.status.idle": "2025-08-06T17:56:14.796856Z",
     "shell.execute_reply": "2025-08-06T17:56:14.796115Z"
    },
    "papermill": {
     "duration": 0.23003,
     "end_time": "2025-08-06T17:56:14.799237",
     "exception": false,
     "start_time": "2025-08-06T17:56:14.569207",
     "status": "completed"
    },
    "tags": []
   },
   "outputs": [],
   "source": [
    "#siab_train = siab_s[siab_s.year < 2015]\n",
    "siab_calib = siab[siab.year == 2015]\n",
    "siab_test = siab[siab.year == 2016]"
   ]
  },
  {
   "cell_type": "code",
   "execution_count": 15,
   "id": "472de16f-c3db-4916-846b-1f0de9cf1746",
   "metadata": {
    "execution": {
     "iopub.execute_input": "2025-08-06T17:56:14.861500Z",
     "iopub.status.busy": "2025-08-06T17:56:14.861137Z",
     "iopub.status.idle": "2025-08-06T17:56:14.867174Z",
     "shell.execute_reply": "2025-08-06T17:56:14.866245Z"
    },
    "papermill": {
     "duration": 0.036563,
     "end_time": "2025-08-06T17:56:14.869307",
     "exception": false,
     "start_time": "2025-08-06T17:56:14.832744",
     "status": "completed"
    },
    "tags": []
   },
   "outputs": [],
   "source": [
    "X_train = siab_train.iloc[:,4:164]\n",
    "y_train = siab_train.iloc[:, [3]]"
   ]
  },
  {
   "cell_type": "code",
   "execution_count": 16,
   "id": "828c96af-f43a-4ed6-ba47-8ac73a47d56c",
   "metadata": {
    "execution": {
     "iopub.execute_input": "2025-08-06T17:56:14.919343Z",
     "iopub.status.busy": "2025-08-06T17:56:14.918925Z",
     "iopub.status.idle": "2025-08-06T17:56:14.988996Z",
     "shell.execute_reply": "2025-08-06T17:56:14.987425Z"
    },
    "papermill": {
     "duration": 0.093794,
     "end_time": "2025-08-06T17:56:14.990784",
     "exception": false,
     "start_time": "2025-08-06T17:56:14.896990",
     "status": "completed"
    },
    "tags": []
   },
   "outputs": [],
   "source": [
    "X_calib = siab_calib.iloc[:,4:164]\n",
    "y_calib = siab_calib.iloc[:, [3]]"
   ]
  },
  {
   "cell_type": "code",
   "execution_count": 17,
   "id": "c34be9c3-6bd6-476e-acd3-845840e303be",
   "metadata": {
    "execution": {
     "iopub.execute_input": "2025-08-06T17:56:15.042872Z",
     "iopub.status.busy": "2025-08-06T17:56:15.042138Z",
     "iopub.status.idle": "2025-08-06T17:56:15.094937Z",
     "shell.execute_reply": "2025-08-06T17:56:15.093957Z"
    },
    "papermill": {
     "duration": 0.077272,
     "end_time": "2025-08-06T17:56:15.096634",
     "exception": false,
     "start_time": "2025-08-06T17:56:15.019362",
     "status": "completed"
    },
    "tags": []
   },
   "outputs": [],
   "source": [
    "X_test = siab_test.iloc[:,4:164]\n",
    "y_true = siab_test.iloc[:, [3]]"
   ]
  },
  {
   "cell_type": "code",
   "execution_count": 18,
   "id": "e6c733c5",
   "metadata": {
    "execution": {
     "iopub.execute_input": "2025-08-06T17:56:15.133714Z",
     "iopub.status.busy": "2025-08-06T17:56:15.133242Z",
     "iopub.status.idle": "2025-08-06T17:56:15.242110Z",
     "shell.execute_reply": "2025-08-06T17:56:15.240937Z"
    },
    "papermill": {
     "duration": 0.130116,
     "end_time": "2025-08-06T17:56:15.244522",
     "exception": false,
     "start_time": "2025-08-06T17:56:15.114406",
     "status": "completed"
    },
    "tags": []
   },
   "outputs": [],
   "source": [
    "# Auxiliary data needed downstream in the pipeline\n",
    "\n",
    "org_train = X_train.copy()\n",
    "org_test = X_test.copy()\n",
    "org_calib = X_calib.copy()"
   ]
  },
  {
   "cell_type": "markdown",
   "id": "0a4a1b33",
   "metadata": {
    "papermill": {
     "duration": 0.02591,
     "end_time": "2025-08-06T17:56:15.296841",
     "exception": false,
     "start_time": "2025-08-06T17:56:15.270931",
     "status": "completed"
    },
    "tags": []
   },
   "source": [
    "# Preprocessing Data"
   ]
  },
  {
   "cell_type": "code",
   "execution_count": 19,
   "id": "ca879031",
   "metadata": {
    "execution": {
     "iopub.execute_input": "2025-08-06T17:56:15.350497Z",
     "iopub.status.busy": "2025-08-06T17:56:15.349895Z",
     "iopub.status.idle": "2025-08-06T17:56:15.357181Z",
     "shell.execute_reply": "2025-08-06T17:56:15.356083Z"
    },
    "papermill": {
     "duration": 0.036385,
     "end_time": "2025-08-06T17:56:15.358930",
     "exception": false,
     "start_time": "2025-08-06T17:56:15.322545",
     "status": "completed"
    },
    "tags": []
   },
   "outputs": [],
   "source": [
    "# EXCLUDE PROTECTED FEATURES\n",
    "# --------------------------\n",
    "\n",
    "excluded_features = universe[\"exclude_features\"].split(\"-\")\n",
    "excluded_features_dictionary = {\n",
    "    \"nationality\": [\"maxdeutsch1\", \"maxdeutsch.Missing.\"],\n",
    "    \"sex\": [\"frau1\"],\n",
    "    \"age\": [\"age\"],\n",
    "}"
   ]
  },
  {
   "cell_type": "code",
   "execution_count": 20,
   "id": "b745ac60",
   "metadata": {
    "execution": {
     "iopub.execute_input": "2025-08-06T17:56:15.397203Z",
     "iopub.status.busy": "2025-08-06T17:56:15.396499Z",
     "iopub.status.idle": "2025-08-06T17:56:15.403588Z",
     "shell.execute_reply": "2025-08-06T17:56:15.402573Z"
    },
    "papermill": {
     "duration": 0.028232,
     "end_time": "2025-08-06T17:56:15.405297",
     "exception": false,
     "start_time": "2025-08-06T17:56:15.377065",
     "status": "completed"
    },
    "tags": []
   },
   "outputs": [],
   "source": [
    "excluded_features_columns = [\n",
    "    excluded_features_dictionary[f] for f in excluded_features if len(f) > 0 and f != \"none\"\n",
    "]"
   ]
  },
  {
   "cell_type": "code",
   "execution_count": 21,
   "id": "f84f73a2",
   "metadata": {
    "execution": {
     "iopub.execute_input": "2025-08-06T17:56:15.487374Z",
     "iopub.status.busy": "2025-08-06T17:56:15.486338Z",
     "iopub.status.idle": "2025-08-06T17:56:15.493782Z",
     "shell.execute_reply": "2025-08-06T17:56:15.492657Z"
    },
    "papermill": {
     "duration": 0.027808,
     "end_time": "2025-08-06T17:56:15.495323",
     "exception": false,
     "start_time": "2025-08-06T17:56:15.467515",
     "status": "completed"
    },
    "tags": []
   },
   "outputs": [],
   "source": [
    "from fairness_multiverse.universe import flatten_once\n",
    "\n",
    "excluded_features_columns = flatten_once(excluded_features_columns)"
   ]
  },
  {
   "cell_type": "code",
   "execution_count": 22,
   "id": "884dea22",
   "metadata": {
    "execution": {
     "iopub.execute_input": "2025-08-06T17:56:15.535826Z",
     "iopub.status.busy": "2025-08-06T17:56:15.535132Z",
     "iopub.status.idle": "2025-08-06T17:56:15.545469Z",
     "shell.execute_reply": "2025-08-06T17:56:15.544462Z"
    },
    "papermill": {
     "duration": 0.032579,
     "end_time": "2025-08-06T17:56:15.546954",
     "exception": false,
     "start_time": "2025-08-06T17:56:15.514375",
     "status": "completed"
    },
    "tags": []
   },
   "outputs": [
    {
     "name": "stdout",
     "output_type": "stream",
     "text": [
      "Dropping features: ['frau1']\n"
     ]
    }
   ],
   "source": [
    "if len(excluded_features_columns) > 0:\n",
    "    print(f\"Dropping features: {excluded_features_columns}\")\n",
    "    X_train.drop(excluded_features_columns, axis=1, inplace=True)"
   ]
  },
  {
   "cell_type": "code",
   "execution_count": 23,
   "id": "95ab8b16",
   "metadata": {
    "execution": {
     "iopub.execute_input": "2025-08-06T17:56:15.586934Z",
     "iopub.status.busy": "2025-08-06T17:56:15.586260Z",
     "iopub.status.idle": "2025-08-06T17:56:15.657940Z",
     "shell.execute_reply": "2025-08-06T17:56:15.656779Z"
    },
    "papermill": {
     "duration": 0.093582,
     "end_time": "2025-08-06T17:56:15.659948",
     "exception": false,
     "start_time": "2025-08-06T17:56:15.566366",
     "status": "completed"
    },
    "tags": []
   },
   "outputs": [
    {
     "name": "stdout",
     "output_type": "stream",
     "text": [
      "Dropping features: ['frau1']\n"
     ]
    }
   ],
   "source": [
    "if len(excluded_features_columns) > 0:\n",
    "    print(f\"Dropping features: {excluded_features_columns}\")\n",
    "    X_test.drop(excluded_features_columns, axis=1, inplace=True)"
   ]
  },
  {
   "cell_type": "code",
   "execution_count": 24,
   "id": "1853aaf5-fb9f-46cb-a2b5-8ea4ae2237e4",
   "metadata": {
    "execution": {
     "iopub.execute_input": "2025-08-06T17:56:15.702379Z",
     "iopub.status.busy": "2025-08-06T17:56:15.701667Z",
     "iopub.status.idle": "2025-08-06T17:56:15.766310Z",
     "shell.execute_reply": "2025-08-06T17:56:15.765229Z"
    },
    "papermill": {
     "duration": 0.088768,
     "end_time": "2025-08-06T17:56:15.767948",
     "exception": false,
     "start_time": "2025-08-06T17:56:15.679180",
     "status": "completed"
    },
    "tags": []
   },
   "outputs": [
    {
     "name": "stdout",
     "output_type": "stream",
     "text": [
      "Dropping features: ['frau1']\n"
     ]
    }
   ],
   "source": [
    "if len(excluded_features_columns) > 0:\n",
    "    print(f\"Dropping features: {excluded_features_columns}\")\n",
    "    X_calib.drop(excluded_features_columns, axis=1, inplace=True)"
   ]
  },
  {
   "cell_type": "code",
   "execution_count": 25,
   "id": "76c4dc6d",
   "metadata": {
    "execution": {
     "iopub.execute_input": "2025-08-06T17:56:15.807178Z",
     "iopub.status.busy": "2025-08-06T17:56:15.806541Z",
     "iopub.status.idle": "2025-08-06T17:56:15.811390Z",
     "shell.execute_reply": "2025-08-06T17:56:15.810647Z"
    },
    "papermill": {
     "duration": 0.025683,
     "end_time": "2025-08-06T17:56:15.812754",
     "exception": false,
     "start_time": "2025-08-06T17:56:15.787071",
     "status": "completed"
    },
    "tags": []
   },
   "outputs": [],
   "source": [
    "# EXCLUDE CERTAIN SUBGROUPS\n",
    "# -------------------------\n",
    "\n",
    "mode = universe.get(\"exclude_subgroups\", \"keep-all\") # Defaults to \"keep-all\" if the key is missing."
   ]
  },
  {
   "cell_type": "code",
   "execution_count": 26,
   "id": "21994072",
   "metadata": {
    "execution": {
     "iopub.execute_input": "2025-08-06T17:56:15.834767Z",
     "iopub.status.busy": "2025-08-06T17:56:15.834264Z",
     "iopub.status.idle": "2025-08-06T17:56:15.839604Z",
     "shell.execute_reply": "2025-08-06T17:56:15.838547Z"
    },
    "papermill": {
     "duration": 0.018217,
     "end_time": "2025-08-06T17:56:15.841790",
     "exception": false,
     "start_time": "2025-08-06T17:56:15.823573",
     "status": "completed"
    },
    "tags": []
   },
   "outputs": [],
   "source": [
    "if mode == \"keep-all\":\n",
    "    keep_mask = pd.Series(True, index=org_train.index)\n",
    "\n",
    "elif mode == \"drop-non-german\":\n",
    "    keep_mask = (org_train[\"maxdeutsch1\"] == 1) & (org_train[\"maxdeutsch.Missing.\"] == 0)\n",
    "\n",
    "else:\n",
    "    raise ValueError(f\"Unsupported mode for exclude_subgroups: {mode}\")"
   ]
  },
  {
   "cell_type": "code",
   "execution_count": 27,
   "id": "71651440",
   "metadata": {
    "execution": {
     "iopub.execute_input": "2025-08-06T17:56:15.880632Z",
     "iopub.status.busy": "2025-08-06T17:56:15.880239Z",
     "iopub.status.idle": "2025-08-06T17:56:15.886854Z",
     "shell.execute_reply": "2025-08-06T17:56:15.885755Z"
    },
    "papermill": {
     "duration": 0.028018,
     "end_time": "2025-08-06T17:56:15.888563",
     "exception": false,
     "start_time": "2025-08-06T17:56:15.860545",
     "status": "completed"
    },
    "tags": []
   },
   "outputs": [],
   "source": [
    "n_drop = (~keep_mask).sum() # Calculates how many rows are set to be dropped\n",
    "if n_drop > 0:\n",
    "    pct = n_drop / len(keep_mask) * 100\n",
    "    print(f\"Dropping {n_drop} rows ({pct:.2f}%) where mode='{mode}'\")"
   ]
  },
  {
   "cell_type": "code",
   "execution_count": 28,
   "id": "5fb8eee5",
   "metadata": {
    "execution": {
     "iopub.execute_input": "2025-08-06T17:56:15.928281Z",
     "iopub.status.busy": "2025-08-06T17:56:15.927318Z",
     "iopub.status.idle": "2025-08-06T17:56:15.934929Z",
     "shell.execute_reply": "2025-08-06T17:56:15.933819Z"
    },
    "papermill": {
     "duration": 0.030164,
     "end_time": "2025-08-06T17:56:15.937020",
     "exception": false,
     "start_time": "2025-08-06T17:56:15.906856",
     "status": "completed"
    },
    "tags": []
   },
   "outputs": [],
   "source": [
    "X_train = X_train[keep_mask]"
   ]
  },
  {
   "cell_type": "code",
   "execution_count": 29,
   "id": "b202bb3a",
   "metadata": {
    "execution": {
     "iopub.execute_input": "2025-08-06T17:56:15.992600Z",
     "iopub.status.busy": "2025-08-06T17:56:15.991826Z",
     "iopub.status.idle": "2025-08-06T17:56:15.998752Z",
     "shell.execute_reply": "2025-08-06T17:56:15.997812Z"
    },
    "papermill": {
     "duration": 0.036899,
     "end_time": "2025-08-06T17:56:16.000865",
     "exception": false,
     "start_time": "2025-08-06T17:56:15.963966",
     "status": "completed"
    },
    "tags": []
   },
   "outputs": [],
   "source": [
    "y_train = y_train[keep_mask]"
   ]
  },
  {
   "cell_type": "markdown",
   "id": "493e2ac3",
   "metadata": {
    "papermill": {
     "duration": 0.025446,
     "end_time": "2025-08-06T17:56:16.053112",
     "exception": false,
     "start_time": "2025-08-06T17:56:16.027666",
     "status": "completed"
    },
    "tags": []
   },
   "source": [
    "# Model Training"
   ]
  },
  {
   "cell_type": "code",
   "execution_count": 30,
   "id": "679e1268",
   "metadata": {
    "execution": {
     "iopub.execute_input": "2025-08-06T17:56:16.108974Z",
     "iopub.status.busy": "2025-08-06T17:56:16.108336Z",
     "iopub.status.idle": "2025-08-06T17:56:16.211541Z",
     "shell.execute_reply": "2025-08-06T17:56:16.210494Z"
    },
    "papermill": {
     "duration": 0.132956,
     "end_time": "2025-08-06T17:56:16.213073",
     "exception": false,
     "start_time": "2025-08-06T17:56:16.080117",
     "status": "completed"
    },
    "tags": []
   },
   "outputs": [],
   "source": [
    "from sklearn.linear_model import LogisticRegression\n",
    "from sklearn.ensemble import GradientBoostingClassifier, RandomForestClassifier\n",
    "\n",
    "if (universe[\"model\"] == \"logreg\"):\n",
    "    model = LogisticRegression() #penalty=\"none\", solver=\"newton-cg\", max_iter=1)\n",
    "elif (universe[\"model\"] == \"penalized_logreg\"):\n",
    "    model = LogisticRegression(penalty=\"l2\", C=0.1) #, solver=\"newton-cg\", max_iter=1)\n",
    "elif (universe[\"model\"] == \"rf\"):\n",
    "    model = RandomForestClassifier() # n_estimators=100, n_jobs=-1\n",
    "elif (universe[\"model\"] == \"gbm\"):\n",
    "    model = GradientBoostingClassifier()\n",
    "elif (universe[\"model\"] == \"elasticnet\"):\n",
    "    model = LogisticRegression(penalty = 'elasticnet', solver = 'saga', l1_ratio = 0.5) # max_iter=5000\n",
    "else:\n",
    "    raise \"Unsupported universe.model\""
   ]
  },
  {
   "cell_type": "code",
   "execution_count": 31,
   "id": "0cc8f744",
   "metadata": {
    "execution": {
     "iopub.execute_input": "2025-08-06T17:56:16.269073Z",
     "iopub.status.busy": "2025-08-06T17:56:16.268685Z",
     "iopub.status.idle": "2025-08-06T17:56:16.274563Z",
     "shell.execute_reply": "2025-08-06T17:56:16.273638Z"
    },
    "papermill": {
     "duration": 0.037695,
     "end_time": "2025-08-06T17:56:16.275931",
     "exception": false,
     "start_time": "2025-08-06T17:56:16.238236",
     "status": "completed"
    },
    "tags": []
   },
   "outputs": [],
   "source": [
    "from sklearn.pipeline import Pipeline\n",
    "from sklearn.preprocessing import StandardScaler\n",
    "\n",
    "model = Pipeline([\n",
    "    #(\"continuous_processor\", continuous_processor),\n",
    "    #(\"categorical_preprocessor\", categorical_preprocessor),\n",
    "    (\"scale\", StandardScaler() if universe[\"scale\"] == \"scale\" else None), \n",
    "    (\"model\", model),\n",
    "])"
   ]
  },
  {
   "cell_type": "code",
   "execution_count": 32,
   "id": "9442c04d",
   "metadata": {
    "execution": {
     "iopub.execute_input": "2025-08-06T17:56:16.298020Z",
     "iopub.status.busy": "2025-08-06T17:56:16.297526Z",
     "iopub.status.idle": "2025-08-06T17:56:16.385155Z",
     "shell.execute_reply": "2025-08-06T17:56:16.384259Z"
    },
    "papermill": {
     "duration": 0.100157,
     "end_time": "2025-08-06T17:56:16.386911",
     "exception": false,
     "start_time": "2025-08-06T17:56:16.286754",
     "status": "completed"
    },
    "tags": []
   },
   "outputs": [
    {
     "name": "stderr",
     "output_type": "stream",
     "text": [
      "/dss/dsshome1/0C/ra93lal2/.local/share/virtualenvs/CMA_Fairness_v2-3j10GkSs/lib/python3.10/site-packages/sklearn/linear_model/_logistic.py:444: ConvergenceWarning: lbfgs failed to converge (status=1):\n",
      "STOP: TOTAL NO. of ITERATIONS REACHED LIMIT.\n",
      "\n",
      "Increase the number of iterations (max_iter) or scale the data as shown in:\n",
      "    https://scikit-learn.org/stable/modules/preprocessing.html\n",
      "Please also refer to the documentation for alternative solver options:\n",
      "    https://scikit-learn.org/stable/modules/linear_model.html#logistic-regression\n",
      "  n_iter_i = _check_optimize_result(\n"
     ]
    },
    {
     "data": {
      "text/html": [
       "<style>#sk-container-id-1 {color: black;background-color: white;}#sk-container-id-1 pre{padding: 0;}#sk-container-id-1 div.sk-toggleable {background-color: white;}#sk-container-id-1 label.sk-toggleable__label {cursor: pointer;display: block;width: 100%;margin-bottom: 0;padding: 0.3em;box-sizing: border-box;text-align: center;}#sk-container-id-1 label.sk-toggleable__label-arrow:before {content: \"▸\";float: left;margin-right: 0.25em;color: #696969;}#sk-container-id-1 label.sk-toggleable__label-arrow:hover:before {color: black;}#sk-container-id-1 div.sk-estimator:hover label.sk-toggleable__label-arrow:before {color: black;}#sk-container-id-1 div.sk-toggleable__content {max-height: 0;max-width: 0;overflow: hidden;text-align: left;background-color: #f0f8ff;}#sk-container-id-1 div.sk-toggleable__content pre {margin: 0.2em;color: black;border-radius: 0.25em;background-color: #f0f8ff;}#sk-container-id-1 input.sk-toggleable__control:checked~div.sk-toggleable__content {max-height: 200px;max-width: 100%;overflow: auto;}#sk-container-id-1 input.sk-toggleable__control:checked~label.sk-toggleable__label-arrow:before {content: \"▾\";}#sk-container-id-1 div.sk-estimator input.sk-toggleable__control:checked~label.sk-toggleable__label {background-color: #d4ebff;}#sk-container-id-1 div.sk-label input.sk-toggleable__control:checked~label.sk-toggleable__label {background-color: #d4ebff;}#sk-container-id-1 input.sk-hidden--visually {border: 0;clip: rect(1px 1px 1px 1px);clip: rect(1px, 1px, 1px, 1px);height: 1px;margin: -1px;overflow: hidden;padding: 0;position: absolute;width: 1px;}#sk-container-id-1 div.sk-estimator {font-family: monospace;background-color: #f0f8ff;border: 1px dotted black;border-radius: 0.25em;box-sizing: border-box;margin-bottom: 0.5em;}#sk-container-id-1 div.sk-estimator:hover {background-color: #d4ebff;}#sk-container-id-1 div.sk-parallel-item::after {content: \"\";width: 100%;border-bottom: 1px solid gray;flex-grow: 1;}#sk-container-id-1 div.sk-label:hover label.sk-toggleable__label {background-color: #d4ebff;}#sk-container-id-1 div.sk-serial::before {content: \"\";position: absolute;border-left: 1px solid gray;box-sizing: border-box;top: 0;bottom: 0;left: 50%;z-index: 0;}#sk-container-id-1 div.sk-serial {display: flex;flex-direction: column;align-items: center;background-color: white;padding-right: 0.2em;padding-left: 0.2em;position: relative;}#sk-container-id-1 div.sk-item {position: relative;z-index: 1;}#sk-container-id-1 div.sk-parallel {display: flex;align-items: stretch;justify-content: center;background-color: white;position: relative;}#sk-container-id-1 div.sk-item::before, #sk-container-id-1 div.sk-parallel-item::before {content: \"\";position: absolute;border-left: 1px solid gray;box-sizing: border-box;top: 0;bottom: 0;left: 50%;z-index: -1;}#sk-container-id-1 div.sk-parallel-item {display: flex;flex-direction: column;z-index: 1;position: relative;background-color: white;}#sk-container-id-1 div.sk-parallel-item:first-child::after {align-self: flex-end;width: 50%;}#sk-container-id-1 div.sk-parallel-item:last-child::after {align-self: flex-start;width: 50%;}#sk-container-id-1 div.sk-parallel-item:only-child::after {width: 0;}#sk-container-id-1 div.sk-dashed-wrapped {border: 1px dashed gray;margin: 0 0.4em 0.5em 0.4em;box-sizing: border-box;padding-bottom: 0.4em;background-color: white;}#sk-container-id-1 div.sk-label label {font-family: monospace;font-weight: bold;display: inline-block;line-height: 1.2em;}#sk-container-id-1 div.sk-label-container {text-align: center;}#sk-container-id-1 div.sk-container {/* jupyter's `normalize.less` sets `[hidden] { display: none; }` but bootstrap.min.css set `[hidden] { display: none !important; }` so we also need the `!important` here to be able to override the default hidden behavior on the sphinx rendered scikit-learn.org. See: https://github.com/scikit-learn/scikit-learn/issues/21755 */display: inline-block !important;position: relative;}#sk-container-id-1 div.sk-text-repr-fallback {display: none;}</style><div id=\"sk-container-id-1\" class=\"sk-top-container\"><div class=\"sk-text-repr-fallback\"><pre>Pipeline(steps=[(&#x27;scale&#x27;, StandardScaler()), (&#x27;model&#x27;, LogisticRegression())])</pre><b>In a Jupyter environment, please rerun this cell to show the HTML representation or trust the notebook. <br />On GitHub, the HTML representation is unable to render, please try loading this page with nbviewer.org.</b></div><div class=\"sk-container\" hidden><div class=\"sk-item sk-dashed-wrapped\"><div class=\"sk-label-container\"><div class=\"sk-label sk-toggleable\"><input class=\"sk-toggleable__control sk-hidden--visually\" id=\"sk-estimator-id-1\" type=\"checkbox\" ><label for=\"sk-estimator-id-1\" class=\"sk-toggleable__label sk-toggleable__label-arrow\">Pipeline</label><div class=\"sk-toggleable__content\"><pre>Pipeline(steps=[(&#x27;scale&#x27;, StandardScaler()), (&#x27;model&#x27;, LogisticRegression())])</pre></div></div></div><div class=\"sk-serial\"><div class=\"sk-item\"><div class=\"sk-estimator sk-toggleable\"><input class=\"sk-toggleable__control sk-hidden--visually\" id=\"sk-estimator-id-2\" type=\"checkbox\" ><label for=\"sk-estimator-id-2\" class=\"sk-toggleable__label sk-toggleable__label-arrow\">StandardScaler</label><div class=\"sk-toggleable__content\"><pre>StandardScaler()</pre></div></div></div><div class=\"sk-item\"><div class=\"sk-estimator sk-toggleable\"><input class=\"sk-toggleable__control sk-hidden--visually\" id=\"sk-estimator-id-3\" type=\"checkbox\" ><label for=\"sk-estimator-id-3\" class=\"sk-toggleable__label sk-toggleable__label-arrow\">LogisticRegression</label><div class=\"sk-toggleable__content\"><pre>LogisticRegression()</pre></div></div></div></div></div></div></div>"
      ],
      "text/plain": [
       "Pipeline(steps=[('scale', StandardScaler()), ('model', LogisticRegression())])"
      ]
     },
     "execution_count": 32,
     "metadata": {},
     "output_type": "execute_result"
    }
   ],
   "source": [
    "model.fit(X_train, y_train.values.ravel())"
   ]
  },
  {
   "cell_type": "code",
   "execution_count": 33,
   "id": "a7cf2e16",
   "metadata": {
    "execution": {
     "iopub.execute_input": "2025-08-06T17:56:16.427757Z",
     "iopub.status.busy": "2025-08-06T17:56:16.427027Z",
     "iopub.status.idle": "2025-08-06T17:56:16.657535Z",
     "shell.execute_reply": "2025-08-06T17:56:16.656583Z"
    },
    "papermill": {
     "duration": 0.252793,
     "end_time": "2025-08-06T17:56:16.659242",
     "exception": false,
     "start_time": "2025-08-06T17:56:16.406449",
     "status": "completed"
    },
    "tags": []
   },
   "outputs": [
    {
     "data": {
      "text/plain": [
       "0.8186712741054509"
      ]
     },
     "execution_count": 33,
     "metadata": {},
     "output_type": "execute_result"
    }
   ],
   "source": [
    "from fairness_multiverse.universe import predict_w_threshold\n",
    "\n",
    "probs_test = model.predict_proba(X_test)\n",
    "\n",
    "'''\n",
    "Below code returns a boolean array (or binary 0/1 array depending on how it’s used) where each element \n",
    "is True if the probability of class 1 is greater than or equal to the threshold, and False otherwise.\n",
    "'''\n",
    "y_pred_default = predict_w_threshold(probs_test, 0.5)\n",
    "\n",
    "from sklearn.metrics import accuracy_score\n",
    "\n",
    "# Naive prediction\n",
    "accuracy_score(y_true = y_true, y_pred = y_pred_default)"
   ]
  },
  {
   "cell_type": "code",
   "execution_count": 34,
   "id": "081964c3",
   "metadata": {
    "execution": {
     "iopub.execute_input": "2025-08-06T17:56:16.702568Z",
     "iopub.status.busy": "2025-08-06T17:56:16.701789Z",
     "iopub.status.idle": "2025-08-06T17:56:16.879114Z",
     "shell.execute_reply": "2025-08-06T17:56:16.877950Z"
    },
    "papermill": {
     "duration": 0.202467,
     "end_time": "2025-08-06T17:56:16.881485",
     "exception": false,
     "start_time": "2025-08-06T17:56:16.679018",
     "status": "completed"
    },
    "tags": []
   },
   "outputs": [
    {
     "data": {
      "text/plain": [
       "array([0, 0, 0, ..., 0, 0, 0])"
      ]
     },
     "execution_count": 34,
     "metadata": {},
     "output_type": "execute_result"
    }
   ],
   "source": [
    "model.predict(X_test)"
   ]
  },
  {
   "cell_type": "markdown",
   "id": "56c9705b",
   "metadata": {
    "papermill": {
     "duration": 0.010825,
     "end_time": "2025-08-06T17:56:16.913049",
     "exception": false,
     "start_time": "2025-08-06T17:56:16.902224",
     "status": "completed"
    },
    "tags": []
   },
   "source": [
    "# Conformal Prediction"
   ]
  },
  {
   "cell_type": "code",
   "execution_count": 35,
   "id": "160ec6ff",
   "metadata": {
    "execution": {
     "iopub.execute_input": "2025-08-06T17:56:16.937284Z",
     "iopub.status.busy": "2025-08-06T17:56:16.936273Z",
     "iopub.status.idle": "2025-08-06T17:56:16.941781Z",
     "shell.execute_reply": "2025-08-06T17:56:16.940812Z"
    },
    "papermill": {
     "duration": 0.019488,
     "end_time": "2025-08-06T17:56:16.943482",
     "exception": false,
     "start_time": "2025-08-06T17:56:16.923994",
     "status": "completed"
    },
    "tags": []
   },
   "outputs": [],
   "source": [
    "# Miscoverage level for conformal prediction (10% allowed error rate => 90% target coverage)\n",
    "alpha = 0.1"
   ]
  },
  {
   "cell_type": "code",
   "execution_count": 36,
   "id": "eadf4555-3dd3-440e-8e35-f82a4ad9f855",
   "metadata": {
    "execution": {
     "iopub.execute_input": "2025-08-06T17:56:16.990830Z",
     "iopub.status.busy": "2025-08-06T17:56:16.989554Z",
     "iopub.status.idle": "2025-08-06T17:56:17.169266Z",
     "shell.execute_reply": "2025-08-06T17:56:17.168234Z"
    },
    "papermill": {
     "duration": 0.205544,
     "end_time": "2025-08-06T17:56:17.171183",
     "exception": false,
     "start_time": "2025-08-06T17:56:16.965639",
     "status": "completed"
    },
    "tags": []
   },
   "outputs": [],
   "source": [
    "probs_calib = model.predict_proba(X_calib)"
   ]
  },
  {
   "cell_type": "code",
   "execution_count": 37,
   "id": "2ed93547-6d5d-4983-9b36-1ecb300da49a",
   "metadata": {
    "execution": {
     "iopub.execute_input": "2025-08-06T17:56:17.212463Z",
     "iopub.status.busy": "2025-08-06T17:56:17.211701Z",
     "iopub.status.idle": "2025-08-06T17:56:17.217596Z",
     "shell.execute_reply": "2025-08-06T17:56:17.216727Z"
    },
    "papermill": {
     "duration": 0.02742,
     "end_time": "2025-08-06T17:56:17.219308",
     "exception": false,
     "start_time": "2025-08-06T17:56:17.191888",
     "status": "completed"
    },
    "tags": []
   },
   "outputs": [],
   "source": [
    "y_calib = y_calib.values.ravel().astype(int)"
   ]
  },
  {
   "cell_type": "code",
   "execution_count": 38,
   "id": "65d1320d-f588-4b38-9072-62af1ae97f7d",
   "metadata": {
    "execution": {
     "iopub.execute_input": "2025-08-06T17:56:17.259923Z",
     "iopub.status.busy": "2025-08-06T17:56:17.259417Z",
     "iopub.status.idle": "2025-08-06T17:56:17.266486Z",
     "shell.execute_reply": "2025-08-06T17:56:17.265733Z"
    },
    "papermill": {
     "duration": 0.028569,
     "end_time": "2025-08-06T17:56:17.267763",
     "exception": false,
     "start_time": "2025-08-06T17:56:17.239194",
     "status": "completed"
    },
    "tags": []
   },
   "outputs": [],
   "source": [
    "from fairness_multiverse.conformal import compute_nc_scores\n",
    "\n",
    "# Compute nonconformity scores on calibration set (1 - probability of true class)\n",
    "nc_scores = compute_nc_scores(probs_calib, y_calib)"
   ]
  },
  {
   "cell_type": "code",
   "execution_count": 39,
   "id": "df3b8ca3-53b7-43d5-9667-7c85da7aeda2",
   "metadata": {
    "execution": {
     "iopub.execute_input": "2025-08-06T17:56:17.291966Z",
     "iopub.status.busy": "2025-08-06T17:56:17.291441Z",
     "iopub.status.idle": "2025-08-06T17:56:17.296645Z",
     "shell.execute_reply": "2025-08-06T17:56:17.295941Z"
    },
    "papermill": {
     "duration": 0.018299,
     "end_time": "2025-08-06T17:56:17.298028",
     "exception": false,
     "start_time": "2025-08-06T17:56:17.279729",
     "status": "completed"
    },
    "tags": []
   },
   "outputs": [],
   "source": [
    "from fairness_multiverse.conformal import find_threshold\n",
    "\n",
    "# Find conformal threshold q_hat for the given alpha (split conformal method)\n",
    "q_hat = find_threshold(nc_scores, alpha)"
   ]
  },
  {
   "cell_type": "code",
   "execution_count": 40,
   "id": "4d29e6c1-0ef6-4aa4-b8fe-4fe79b0d033a",
   "metadata": {
    "execution": {
     "iopub.execute_input": "2025-08-06T17:56:17.321423Z",
     "iopub.status.busy": "2025-08-06T17:56:17.320925Z",
     "iopub.status.idle": "2025-08-06T17:56:17.327667Z",
     "shell.execute_reply": "2025-08-06T17:56:17.326635Z"
    },
    "papermill": {
     "duration": 0.020356,
     "end_time": "2025-08-06T17:56:17.329835",
     "exception": false,
     "start_time": "2025-08-06T17:56:17.309479",
     "status": "completed"
    },
    "tags": []
   },
   "outputs": [
    {
     "data": {
      "text/plain": [
       "0.8066884785326449"
      ]
     },
     "execution_count": 40,
     "metadata": {},
     "output_type": "execute_result"
    }
   ],
   "source": [
    "q_hat"
   ]
  },
  {
   "cell_type": "code",
   "execution_count": 41,
   "id": "92460794-cdac-4be2-ba28-f28c0515a6fb",
   "metadata": {
    "execution": {
     "iopub.execute_input": "2025-08-06T17:56:17.371064Z",
     "iopub.status.busy": "2025-08-06T17:56:17.370382Z",
     "iopub.status.idle": "2025-08-06T17:56:18.044423Z",
     "shell.execute_reply": "2025-08-06T17:56:18.043592Z"
    },
    "papermill": {
     "duration": 0.696306,
     "end_time": "2025-08-06T17:56:18.046272",
     "exception": false,
     "start_time": "2025-08-06T17:56:17.349966",
     "status": "completed"
    },
    "tags": []
   },
   "outputs": [],
   "source": [
    "from fairness_multiverse.conformal import predict_conformal_sets\n",
    "\n",
    "# Generate prediction sets for each test example\n",
    "pred_sets = predict_conformal_sets(model, X_test, q_hat)"
   ]
  },
  {
   "cell_type": "code",
   "execution_count": 42,
   "id": "d90c9a65-e6db-4f5d-80cd-e68fb7e46829",
   "metadata": {
    "execution": {
     "iopub.execute_input": "2025-08-06T17:56:18.091365Z",
     "iopub.status.busy": "2025-08-06T17:56:18.090799Z",
     "iopub.status.idle": "2025-08-06T17:56:18.096586Z",
     "shell.execute_reply": "2025-08-06T17:56:18.095511Z"
    },
    "papermill": {
     "duration": 0.029958,
     "end_time": "2025-08-06T17:56:18.098156",
     "exception": false,
     "start_time": "2025-08-06T17:56:18.068198",
     "status": "completed"
    },
    "tags": []
   },
   "outputs": [],
   "source": [
    "y_true = y_true.squeeze()"
   ]
  },
  {
   "cell_type": "code",
   "execution_count": 43,
   "id": "3a58a54a-1e68-46b9-927a-df01f18aebc8",
   "metadata": {
    "execution": {
     "iopub.execute_input": "2025-08-06T17:56:18.142473Z",
     "iopub.status.busy": "2025-08-06T17:56:18.141814Z",
     "iopub.status.idle": "2025-08-06T17:56:19.054350Z",
     "shell.execute_reply": "2025-08-06T17:56:19.053286Z"
    },
    "papermill": {
     "duration": 0.936731,
     "end_time": "2025-08-06T17:56:19.056159",
     "exception": false,
     "start_time": "2025-08-06T17:56:18.119428",
     "status": "completed"
    },
    "tags": []
   },
   "outputs": [],
   "source": [
    "from fairness_multiverse.conformal import evaluate_sets\n",
    "\n",
    "# Evaluate coverage and average set size on test data\n",
    "metrics = evaluate_sets(pred_sets, y_true)"
   ]
  },
  {
   "cell_type": "markdown",
   "id": "2b569c12-9aaa-4c88-98c9-bbcd0cf3ebb8",
   "metadata": {
    "papermill": {
     "duration": 0.021166,
     "end_time": "2025-08-06T17:56:19.100769",
     "exception": false,
     "start_time": "2025-08-06T17:56:19.079603",
     "status": "completed"
    },
    "tags": []
   },
   "source": [
    "# CP Metrics"
   ]
  },
  {
   "cell_type": "code",
   "execution_count": 44,
   "id": "5ce0a5cb-201f-45a0-ade5-94c7f0bd6095",
   "metadata": {
    "execution": {
     "iopub.execute_input": "2025-08-06T17:56:19.150594Z",
     "iopub.status.busy": "2025-08-06T17:56:19.149728Z",
     "iopub.status.idle": "2025-08-06T17:56:19.157327Z",
     "shell.execute_reply": "2025-08-06T17:56:19.156327Z"
    },
    "papermill": {
     "duration": 0.034846,
     "end_time": "2025-08-06T17:56:19.158987",
     "exception": false,
     "start_time": "2025-08-06T17:56:19.124141",
     "status": "completed"
    },
    "tags": []
   },
   "outputs": [
    {
     "data": {
      "text/plain": [
       "{'coverage': 0.908159625459815, 'avg_size': 1.2492252814624902}"
      ]
     },
     "execution_count": 44,
     "metadata": {},
     "output_type": "execute_result"
    }
   ],
   "source": [
    "metrics"
   ]
  },
  {
   "cell_type": "code",
   "execution_count": 45,
   "id": "9b9a838d-31c9-430b-ae14-12baee460d17",
   "metadata": {
    "execution": {
     "iopub.execute_input": "2025-08-06T17:56:19.207455Z",
     "iopub.status.busy": "2025-08-06T17:56:19.206644Z",
     "iopub.status.idle": "2025-08-06T17:56:19.213417Z",
     "shell.execute_reply": "2025-08-06T17:56:19.212569Z"
    },
    "papermill": {
     "duration": 0.031484,
     "end_time": "2025-08-06T17:56:19.214703",
     "exception": false,
     "start_time": "2025-08-06T17:56:19.183219",
     "status": "completed"
    },
    "tags": []
   },
   "outputs": [],
   "source": [
    "example_universe = universe.copy()\n",
    "universe_training_year = example_universe.get(\"training_year\")\n",
    "universe_training_size = example_universe.get(\"training_size\")\n",
    "universe_scale = example_universe.get(\"scale\")\n",
    "universe_model = example_universe.get(\"model\")\n",
    "universe_exclude_features = example_universe.get(\"exclude_features\")\n",
    "universe_exclude_subgroups = example_universe.get(\"exclude_subgroups\")"
   ]
  },
  {
   "cell_type": "code",
   "execution_count": 46,
   "id": "f4b6a8ac-9dc0-4245-8a91-5b3b5999c4f9",
   "metadata": {
    "execution": {
     "iopub.execute_input": "2025-08-06T17:56:19.254513Z",
     "iopub.status.busy": "2025-08-06T17:56:19.254105Z",
     "iopub.status.idle": "2025-08-06T17:56:19.261595Z",
     "shell.execute_reply": "2025-08-06T17:56:19.260624Z"
    },
    "papermill": {
     "duration": 0.032591,
     "end_time": "2025-08-06T17:56:19.263483",
     "exception": false,
     "start_time": "2025-08-06T17:56:19.230892",
     "status": "completed"
    },
    "tags": []
   },
   "outputs": [],
   "source": [
    "cp_metrics_dict = {\n",
    "    \"universe_id\": [universe_id],\n",
    "    \"universe_training_year\": [universe_training_year],\n",
    "    \"universe_training_size\": [universe_training_size],\n",
    "    \"universe_scale\": [universe_scale],\n",
    "    \"universe_model\": [universe_model],\n",
    "    \"universe_exclude_features\": [universe_exclude_features],\n",
    "    \"universe_exclude_subgroups\": [universe_exclude_subgroups],\n",
    "    \"q_hat\": [q_hat],\n",
    "    \"coverage\": [metrics[\"coverage\"]],\n",
    "    \"avg_size\": [metrics[\"avg_size\"]],\n",
    "}"
   ]
  },
  {
   "cell_type": "code",
   "execution_count": 47,
   "id": "33007efc-14e9-4ec6-97ac-56a455c82265",
   "metadata": {
    "execution": {
     "iopub.execute_input": "2025-08-06T17:56:19.310509Z",
     "iopub.status.busy": "2025-08-06T17:56:19.309763Z",
     "iopub.status.idle": "2025-08-06T17:56:19.315989Z",
     "shell.execute_reply": "2025-08-06T17:56:19.315187Z"
    },
    "papermill": {
     "duration": 0.030265,
     "end_time": "2025-08-06T17:56:19.317472",
     "exception": false,
     "start_time": "2025-08-06T17:56:19.287207",
     "status": "completed"
    },
    "tags": []
   },
   "outputs": [],
   "source": [
    "cp_metrics_df = pd.DataFrame(cp_metrics_dict)"
   ]
  },
  {
   "cell_type": "code",
   "execution_count": 48,
   "id": "db12611b-57b2-4910-b9d0-355adfd6e7bf",
   "metadata": {
    "execution": {
     "iopub.execute_input": "2025-08-06T17:56:19.342723Z",
     "iopub.status.busy": "2025-08-06T17:56:19.342372Z",
     "iopub.status.idle": "2025-08-06T17:56:19.356555Z",
     "shell.execute_reply": "2025-08-06T17:56:19.355540Z"
    },
    "papermill": {
     "duration": 0.027668,
     "end_time": "2025-08-06T17:56:19.357880",
     "exception": false,
     "start_time": "2025-08-06T17:56:19.330212",
     "status": "completed"
    },
    "tags": []
   },
   "outputs": [
    {
     "data": {
      "text/html": [
       "<div>\n",
       "<style scoped>\n",
       "    .dataframe tbody tr th:only-of-type {\n",
       "        vertical-align: middle;\n",
       "    }\n",
       "\n",
       "    .dataframe tbody tr th {\n",
       "        vertical-align: top;\n",
       "    }\n",
       "\n",
       "    .dataframe thead th {\n",
       "        text-align: right;\n",
       "    }\n",
       "</style>\n",
       "<table border=\"1\" class=\"dataframe\">\n",
       "  <thead>\n",
       "    <tr style=\"text-align: right;\">\n",
       "      <th></th>\n",
       "      <th>universe_id</th>\n",
       "      <th>universe_training_year</th>\n",
       "      <th>universe_training_size</th>\n",
       "      <th>universe_scale</th>\n",
       "      <th>universe_model</th>\n",
       "      <th>universe_exclude_features</th>\n",
       "      <th>universe_exclude_subgroups</th>\n",
       "      <th>q_hat</th>\n",
       "      <th>coverage</th>\n",
       "      <th>avg_size</th>\n",
       "    </tr>\n",
       "  </thead>\n",
       "  <tbody>\n",
       "    <tr>\n",
       "      <th>0</th>\n",
       "      <td>dd6a72b9ee8d00e5e87f024922c8b72d</td>\n",
       "      <td>2012_14</td>\n",
       "      <td>1k</td>\n",
       "      <td>scale</td>\n",
       "      <td>logreg</td>\n",
       "      <td>sex</td>\n",
       "      <td>keep-all</td>\n",
       "      <td>0.806688</td>\n",
       "      <td>0.90816</td>\n",
       "      <td>1.249225</td>\n",
       "    </tr>\n",
       "  </tbody>\n",
       "</table>\n",
       "</div>"
      ],
      "text/plain": [
       "                        universe_id universe_training_year  \\\n",
       "0  dd6a72b9ee8d00e5e87f024922c8b72d                2012_14   \n",
       "\n",
       "  universe_training_size universe_scale universe_model  \\\n",
       "0                     1k          scale         logreg   \n",
       "\n",
       "  universe_exclude_features universe_exclude_subgroups     q_hat  coverage  \\\n",
       "0                       sex                   keep-all  0.806688   0.90816   \n",
       "\n",
       "   avg_size  \n",
       "0  1.249225  "
      ]
     },
     "execution_count": 48,
     "metadata": {},
     "output_type": "execute_result"
    }
   ],
   "source": [
    "cp_metrics_df"
   ]
  },
  {
   "cell_type": "markdown",
   "id": "c825ecb4-0d3d-41d6-b7c6-eccb21272259",
   "metadata": {
    "papermill": {
     "duration": 0.021763,
     "end_time": "2025-08-06T17:56:19.403629",
     "exception": false,
     "start_time": "2025-08-06T17:56:19.381866",
     "status": "completed"
    },
    "tags": []
   },
   "source": [
    "Conditional coverage & looking at subgroups"
   ]
  },
  {
   "cell_type": "code",
   "execution_count": 49,
   "id": "027ae886-68dd-4141-96c7-805a5450e1ef",
   "metadata": {
    "execution": {
     "iopub.execute_input": "2025-08-06T17:56:19.448930Z",
     "iopub.status.busy": "2025-08-06T17:56:19.448435Z",
     "iopub.status.idle": "2025-08-06T17:56:19.731779Z",
     "shell.execute_reply": "2025-08-06T17:56:19.730707Z"
    },
    "papermill": {
     "duration": 0.310426,
     "end_time": "2025-08-06T17:56:19.734087",
     "exception": false,
     "start_time": "2025-08-06T17:56:19.423661",
     "status": "completed"
    },
    "tags": []
   },
   "outputs": [],
   "source": [
    "from fairness_multiverse.conformal import build_cp_groups\n",
    "\n",
    "cp_groups_df = build_cp_groups(pred_sets, y_true, X_test.index, org_test)"
   ]
  },
  {
   "cell_type": "code",
   "execution_count": 50,
   "id": "6cbdab96-b2b2-45af-ad54-d0516db2e28d",
   "metadata": {
    "execution": {
     "iopub.execute_input": "2025-08-06T17:56:19.781201Z",
     "iopub.status.busy": "2025-08-06T17:56:19.780678Z",
     "iopub.status.idle": "2025-08-06T17:56:21.074039Z",
     "shell.execute_reply": "2025-08-06T17:56:21.073085Z"
    },
    "papermill": {
     "duration": 1.316411,
     "end_time": "2025-08-06T17:56:21.075348",
     "exception": false,
     "start_time": "2025-08-06T17:56:19.758937",
     "status": "completed"
    },
    "tags": []
   },
   "outputs": [],
   "source": [
    "# Define covered = 1 if true_label is in the predicted set\n",
    "cp_groups_df['covered'] = cp_groups_df.apply(\n",
    "    lambda r: int(r['true_label'] in r['pred_set']),\n",
    "    axis=1\n",
    ")"
   ]
  },
  {
   "cell_type": "code",
   "execution_count": 51,
   "id": "90032e27-66df-4540-9169-4e89cfbaa758",
   "metadata": {
    "execution": {
     "iopub.execute_input": "2025-08-06T17:56:21.103329Z",
     "iopub.status.busy": "2025-08-06T17:56:21.102920Z",
     "iopub.status.idle": "2025-08-06T17:56:21.114508Z",
     "shell.execute_reply": "2025-08-06T17:56:21.113499Z"
    },
    "papermill": {
     "duration": 0.025386,
     "end_time": "2025-08-06T17:56:21.115731",
     "exception": false,
     "start_time": "2025-08-06T17:56:21.090345",
     "status": "completed"
    },
    "tags": []
   },
   "outputs": [],
   "source": [
    "subgroups = ['frau1','nongerman','nongerman_male','nongerman_female']\n",
    "\n",
    "# Conditional coverage for subgroup==1\n",
    "cond_coverage = {\n",
    "    g: cp_groups_df.loc[cp_groups_df[g]==1, 'covered'].mean()\n",
    "    for g in subgroups\n",
    "}"
   ]
  },
  {
   "cell_type": "code",
   "execution_count": 52,
   "id": "1e348fb1-b9c3-45bc-ba23-f016827a7e0d",
   "metadata": {
    "execution": {
     "iopub.execute_input": "2025-08-06T17:56:21.141652Z",
     "iopub.status.busy": "2025-08-06T17:56:21.141058Z",
     "iopub.status.idle": "2025-08-06T17:56:21.147998Z",
     "shell.execute_reply": "2025-08-06T17:56:21.147243Z"
    },
    "papermill": {
     "duration": 0.02124,
     "end_time": "2025-08-06T17:56:21.149298",
     "exception": false,
     "start_time": "2025-08-06T17:56:21.128058",
     "status": "completed"
    },
    "tags": []
   },
   "outputs": [
    {
     "data": {
      "text/plain": [
       "{'frau1': 0.9040571505593746,\n",
       " 'nongerman': 0.9151743108965362,\n",
       " 'nongerman_male': 0.929658650815095,\n",
       " 'nongerman_female': 0.8912071535022354}"
      ]
     },
     "execution_count": 52,
     "metadata": {},
     "output_type": "execute_result"
    }
   ],
   "source": [
    "cond_coverage"
   ]
  },
  {
   "cell_type": "code",
   "execution_count": 53,
   "id": "f5093324-c3dd-4d63-bc4c-8d945e5c8bbb",
   "metadata": {
    "execution": {
     "iopub.execute_input": "2025-08-06T17:56:21.174385Z",
     "iopub.status.busy": "2025-08-06T17:56:21.173797Z",
     "iopub.status.idle": "2025-08-06T17:56:21.180695Z",
     "shell.execute_reply": "2025-08-06T17:56:21.179843Z"
    },
    "papermill": {
     "duration": 0.020796,
     "end_time": "2025-08-06T17:56:21.182129",
     "exception": false,
     "start_time": "2025-08-06T17:56:21.161333",
     "status": "completed"
    },
    "tags": []
   },
   "outputs": [],
   "source": [
    "for subgroup, cov in cond_coverage.items():\n",
    "    cp_metrics_df[f\"cov_{subgroup}\"] = cov"
   ]
  },
  {
   "cell_type": "code",
   "execution_count": 54,
   "id": "6e872e10-dbe5-49e8-b554-5030c98ff75d",
   "metadata": {
    "execution": {
     "iopub.execute_input": "2025-08-06T17:56:21.227279Z",
     "iopub.status.busy": "2025-08-06T17:56:21.226607Z",
     "iopub.status.idle": "2025-08-06T17:56:21.245217Z",
     "shell.execute_reply": "2025-08-06T17:56:21.244447Z"
    },
    "papermill": {
     "duration": 0.043321,
     "end_time": "2025-08-06T17:56:21.246772",
     "exception": false,
     "start_time": "2025-08-06T17:56:21.203451",
     "status": "completed"
    },
    "tags": []
   },
   "outputs": [
    {
     "data": {
      "text/html": [
       "<div>\n",
       "<style scoped>\n",
       "    .dataframe tbody tr th:only-of-type {\n",
       "        vertical-align: middle;\n",
       "    }\n",
       "\n",
       "    .dataframe tbody tr th {\n",
       "        vertical-align: top;\n",
       "    }\n",
       "\n",
       "    .dataframe thead th {\n",
       "        text-align: right;\n",
       "    }\n",
       "</style>\n",
       "<table border=\"1\" class=\"dataframe\">\n",
       "  <thead>\n",
       "    <tr style=\"text-align: right;\">\n",
       "      <th></th>\n",
       "      <th>universe_id</th>\n",
       "      <th>universe_training_year</th>\n",
       "      <th>universe_training_size</th>\n",
       "      <th>universe_scale</th>\n",
       "      <th>universe_model</th>\n",
       "      <th>universe_exclude_features</th>\n",
       "      <th>universe_exclude_subgroups</th>\n",
       "      <th>q_hat</th>\n",
       "      <th>coverage</th>\n",
       "      <th>avg_size</th>\n",
       "      <th>cov_frau1</th>\n",
       "      <th>cov_nongerman</th>\n",
       "      <th>cov_nongerman_male</th>\n",
       "      <th>cov_nongerman_female</th>\n",
       "    </tr>\n",
       "  </thead>\n",
       "  <tbody>\n",
       "    <tr>\n",
       "      <th>0</th>\n",
       "      <td>dd6a72b9ee8d00e5e87f024922c8b72d</td>\n",
       "      <td>2012_14</td>\n",
       "      <td>1k</td>\n",
       "      <td>scale</td>\n",
       "      <td>logreg</td>\n",
       "      <td>sex</td>\n",
       "      <td>keep-all</td>\n",
       "      <td>0.806688</td>\n",
       "      <td>0.90816</td>\n",
       "      <td>1.249225</td>\n",
       "      <td>0.904057</td>\n",
       "      <td>0.915174</td>\n",
       "      <td>0.929659</td>\n",
       "      <td>0.891207</td>\n",
       "    </tr>\n",
       "  </tbody>\n",
       "</table>\n",
       "</div>"
      ],
      "text/plain": [
       "                        universe_id universe_training_year  \\\n",
       "0  dd6a72b9ee8d00e5e87f024922c8b72d                2012_14   \n",
       "\n",
       "  universe_training_size universe_scale universe_model  \\\n",
       "0                     1k          scale         logreg   \n",
       "\n",
       "  universe_exclude_features universe_exclude_subgroups     q_hat  coverage  \\\n",
       "0                       sex                   keep-all  0.806688   0.90816   \n",
       "\n",
       "   avg_size  cov_frau1  cov_nongerman  cov_nongerman_male  \\\n",
       "0  1.249225   0.904057       0.915174            0.929659   \n",
       "\n",
       "   cov_nongerman_female  \n",
       "0              0.891207  "
      ]
     },
     "execution_count": 54,
     "metadata": {},
     "output_type": "execute_result"
    }
   ],
   "source": [
    "cp_metrics_df"
   ]
  },
  {
   "cell_type": "markdown",
   "id": "33774451",
   "metadata": {
    "papermill": {
     "duration": 0.013804,
     "end_time": "2025-08-06T17:56:21.281884",
     "exception": false,
     "start_time": "2025-08-06T17:56:21.268080",
     "status": "completed"
    },
    "tags": []
   },
   "source": [
    "# (Fairness) Metrics"
   ]
  },
  {
   "cell_type": "code",
   "execution_count": 55,
   "id": "debc5d62",
   "metadata": {
    "execution": {
     "iopub.execute_input": "2025-08-06T17:56:21.307345Z",
     "iopub.status.busy": "2025-08-06T17:56:21.306733Z",
     "iopub.status.idle": "2025-08-06T17:56:21.326715Z",
     "shell.execute_reply": "2025-08-06T17:56:21.325946Z"
    },
    "papermill": {
     "duration": 0.033876,
     "end_time": "2025-08-06T17:56:21.327853",
     "exception": false,
     "start_time": "2025-08-06T17:56:21.293977",
     "status": "completed"
    },
    "tags": []
   },
   "outputs": [],
   "source": [
    "colname_to_bin = \"maxdeutsch1\"\n",
    "majority_value = org_train[colname_to_bin].mode()[0]\n",
    "\n",
    "org_test[\"majmin\"] = np.where(org_test[colname_to_bin] == majority_value, \"majority\", \"minority\")"
   ]
  },
  {
   "cell_type": "code",
   "execution_count": 56,
   "id": "06a50de5",
   "metadata": {
    "execution": {
     "iopub.execute_input": "2025-08-06T17:56:21.353451Z",
     "iopub.status.busy": "2025-08-06T17:56:21.353076Z",
     "iopub.status.idle": "2025-08-06T17:56:23.069206Z",
     "shell.execute_reply": "2025-08-06T17:56:23.068206Z"
    },
    "papermill": {
     "duration": 1.730781,
     "end_time": "2025-08-06T17:56:23.071107",
     "exception": false,
     "start_time": "2025-08-06T17:56:21.340326",
     "status": "completed"
    },
    "tags": []
   },
   "outputs": [],
   "source": [
    "example_universe = universe.copy()\n",
    "example_universe[\"cutoff\"] = example_universe[\"cutoff\"][0]\n",
    "example_universe[\"eval_fairness_grouping\"] = example_universe[\"eval_fairness_grouping\"][0]\n",
    "fairness_dict, metric_frame = universe_analysis.compute_metrics(\n",
    "    example_universe,\n",
    "    y_pred_prob=probs_test,\n",
    "    y_test=y_true,\n",
    "    org_test=org_test,\n",
    ")"
   ]
  },
  {
   "cell_type": "markdown",
   "id": "f95d4e02",
   "metadata": {
    "papermill": {
     "duration": 0.022848,
     "end_time": "2025-08-06T17:56:23.118926",
     "exception": false,
     "start_time": "2025-08-06T17:56:23.096078",
     "status": "completed"
    },
    "tags": []
   },
   "source": [
    "# Overall"
   ]
  },
  {
   "cell_type": "markdown",
   "id": "bdee4871",
   "metadata": {
    "papermill": {
     "duration": 0.023004,
     "end_time": "2025-08-06T17:56:23.165189",
     "exception": false,
     "start_time": "2025-08-06T17:56:23.142185",
     "status": "completed"
    },
    "tags": []
   },
   "source": [
    "Main fairness target: Equalized Odds. Seems to be a better fit than equal opportunity, since we're not only interested in Y = 1. Seems to be a better fit than demographic parity, since we also care about accuracy, not just equal distribution of preds.\n",
    "\n",
    "Pick column for computation of fairness metrics\n",
    "\n",
    "Performance\n",
    "Overall performance measures, most interesting in relation to the measures split by group below"
   ]
  },
  {
   "cell_type": "code",
   "execution_count": 57,
   "id": "c4e067c6",
   "metadata": {
    "execution": {
     "iopub.execute_input": "2025-08-06T17:56:23.213945Z",
     "iopub.status.busy": "2025-08-06T17:56:23.213278Z",
     "iopub.status.idle": "2025-08-06T17:56:23.220695Z",
     "shell.execute_reply": "2025-08-06T17:56:23.219708Z"
    },
    "papermill": {
     "duration": 0.03363,
     "end_time": "2025-08-06T17:56:23.222330",
     "exception": false,
     "start_time": "2025-08-06T17:56:23.188700",
     "status": "completed"
    },
    "tags": []
   },
   "outputs": [
    {
     "data": {
      "text/plain": [
       "accuracy                   0.216999\n",
       "balanced accuracy          0.532138\n",
       "f1                         0.238534\n",
       "precision                  0.136266\n",
       "false positive rate        0.891755\n",
       "false negative rate        0.043969\n",
       "selection rate             0.900000\n",
       "count                  89710.000000\n",
       "dtype: float64"
      ]
     },
     "execution_count": 57,
     "metadata": {},
     "output_type": "execute_result"
    }
   ],
   "source": [
    "metric_frame.overall"
   ]
  },
  {
   "cell_type": "markdown",
   "id": "e968fe9d",
   "metadata": {
    "papermill": {
     "duration": 0.02213,
     "end_time": "2025-08-06T17:56:23.267919",
     "exception": false,
     "start_time": "2025-08-06T17:56:23.245789",
     "status": "completed"
    },
    "tags": []
   },
   "source": [
    "By Group"
   ]
  },
  {
   "cell_type": "code",
   "execution_count": 58,
   "id": "ec325bce",
   "metadata": {
    "execution": {
     "iopub.execute_input": "2025-08-06T17:56:23.292456Z",
     "iopub.status.busy": "2025-08-06T17:56:23.292135Z",
     "iopub.status.idle": "2025-08-06T17:56:23.303269Z",
     "shell.execute_reply": "2025-08-06T17:56:23.302495Z"
    },
    "papermill": {
     "duration": 0.024756,
     "end_time": "2025-08-06T17:56:23.304431",
     "exception": false,
     "start_time": "2025-08-06T17:56:23.279675",
     "status": "completed"
    },
    "tags": []
   },
   "outputs": [
    {
     "data": {
      "text/html": [
       "<div>\n",
       "<style scoped>\n",
       "    .dataframe tbody tr th:only-of-type {\n",
       "        vertical-align: middle;\n",
       "    }\n",
       "\n",
       "    .dataframe tbody tr th {\n",
       "        vertical-align: top;\n",
       "    }\n",
       "\n",
       "    .dataframe thead th {\n",
       "        text-align: right;\n",
       "    }\n",
       "</style>\n",
       "<table border=\"1\" class=\"dataframe\">\n",
       "  <thead>\n",
       "    <tr style=\"text-align: right;\">\n",
       "      <th></th>\n",
       "      <th>accuracy</th>\n",
       "      <th>balanced accuracy</th>\n",
       "      <th>f1</th>\n",
       "      <th>precision</th>\n",
       "      <th>false positive rate</th>\n",
       "      <th>false negative rate</th>\n",
       "      <th>selection rate</th>\n",
       "      <th>count</th>\n",
       "    </tr>\n",
       "    <tr>\n",
       "      <th>majmin</th>\n",
       "      <th></th>\n",
       "      <th></th>\n",
       "      <th></th>\n",
       "      <th></th>\n",
       "      <th></th>\n",
       "      <th></th>\n",
       "      <th></th>\n",
       "      <th></th>\n",
       "    </tr>\n",
       "  </thead>\n",
       "  <tbody>\n",
       "    <tr>\n",
       "      <th>majority</th>\n",
       "      <td>0.234668</td>\n",
       "      <td>0.537367</td>\n",
       "      <td>0.246777</td>\n",
       "      <td>0.141834</td>\n",
       "      <td>0.874063</td>\n",
       "      <td>0.051204</td>\n",
       "      <td>0.883938</td>\n",
       "      <td>69170.0</td>\n",
       "    </tr>\n",
       "    <tr>\n",
       "      <th>minority</th>\n",
       "      <td>0.157498</td>\n",
       "      <td>0.516877</td>\n",
       "      <td>0.212156</td>\n",
       "      <td>0.118896</td>\n",
       "      <td>0.950198</td>\n",
       "      <td>0.016047</td>\n",
       "      <td>0.954090</td>\n",
       "      <td>20540.0</td>\n",
       "    </tr>\n",
       "  </tbody>\n",
       "</table>\n",
       "</div>"
      ],
      "text/plain": [
       "          accuracy  balanced accuracy        f1  precision  \\\n",
       "majmin                                                       \n",
       "majority  0.234668           0.537367  0.246777   0.141834   \n",
       "minority  0.157498           0.516877  0.212156   0.118896   \n",
       "\n",
       "          false positive rate  false negative rate  selection rate    count  \n",
       "majmin                                                                       \n",
       "majority             0.874063             0.051204        0.883938  69170.0  \n",
       "minority             0.950198             0.016047        0.954090  20540.0  "
      ]
     },
     "execution_count": 58,
     "metadata": {},
     "output_type": "execute_result"
    }
   ],
   "source": [
    "metric_frame.by_group"
   ]
  },
  {
   "cell_type": "code",
   "execution_count": 59,
   "id": "a9ddbe63",
   "metadata": {
    "execution": {
     "iopub.execute_input": "2025-08-06T17:56:23.329920Z",
     "iopub.status.busy": "2025-08-06T17:56:23.329565Z",
     "iopub.status.idle": "2025-08-06T17:56:24.904787Z",
     "shell.execute_reply": "2025-08-06T17:56:24.903998Z"
    },
    "papermill": {
     "duration": 1.589043,
     "end_time": "2025-08-06T17:56:24.905916",
     "exception": false,
     "start_time": "2025-08-06T17:56:23.316873",
     "status": "completed"
    },
    "tags": []
   },
   "outputs": [
    {
     "data": {
      "text/plain": [
       "array([[<Axes: title={'center': 'accuracy'}, xlabel='majmin'>,\n",
       "        <Axes: title={'center': 'balanced accuracy'}, xlabel='majmin'>,\n",
       "        <Axes: title={'center': 'f1'}, xlabel='majmin'>],\n",
       "       [<Axes: title={'center': 'precision'}, xlabel='majmin'>,\n",
       "        <Axes: title={'center': 'false positive rate'}, xlabel='majmin'>,\n",
       "        <Axes: title={'center': 'false negative rate'}, xlabel='majmin'>],\n",
       "       [<Axes: title={'center': 'selection rate'}, xlabel='majmin'>,\n",
       "        <Axes: title={'center': 'count'}, xlabel='majmin'>,\n",
       "        <Axes: xlabel='majmin'>]], dtype=object)"
      ]
     },
     "execution_count": 59,
     "metadata": {},
     "output_type": "execute_result"
    },
    {
     "data": {
      "image/png": "[encoded data removed]",
      "text/plain": [
       "<Figure size 1200x800 with 9 Axes>"
      ]
     },
     "metadata": {},
     "output_type": "display_data"
    }
   ],
   "source": [
    "# In a graphic\n",
    "metric_frame.by_group.plot.bar(\n",
    "    subplots=True,\n",
    "    layout=[3, 3],\n",
    "    legend=False,\n",
    "    figsize=[12, 8],\n",
    "    title=\"Show all metrics\",\n",
    ")"
   ]
  },
  {
   "cell_type": "markdown",
   "id": "f57a0bac",
   "metadata": {
    "papermill": {
     "duration": 0.012437,
     "end_time": "2025-08-06T17:56:24.934164",
     "exception": false,
     "start_time": "2025-08-06T17:56:24.921727",
     "status": "completed"
    },
    "tags": []
   },
   "source": [
    "# Final Output"
   ]
  },
  {
   "cell_type": "code",
   "execution_count": 60,
   "id": "96d280a3",
   "metadata": {
    "execution": {
     "iopub.execute_input": "2025-08-06T17:56:24.959953Z",
     "iopub.status.busy": "2025-08-06T17:56:24.959543Z",
     "iopub.status.idle": "2025-08-06T17:56:24.965736Z",
     "shell.execute_reply": "2025-08-06T17:56:24.965126Z"
    },
    "papermill": {
     "duration": 0.020886,
     "end_time": "2025-08-06T17:56:24.967271",
     "exception": false,
     "start_time": "2025-08-06T17:56:24.946385",
     "status": "completed"
    },
    "tags": []
   },
   "outputs": [
    {
     "data": {
      "text/plain": [
       "4"
      ]
     },
     "execution_count": 60,
     "metadata": {},
     "output_type": "execute_result"
    }
   ],
   "source": [
    "sub_universes = universe_analysis.generate_sub_universes()\n",
    "len(sub_universes)"
   ]
  },
  {
   "cell_type": "code",
   "execution_count": 61,
   "id": "92adf7ba",
   "metadata": {
    "execution": {
     "iopub.execute_input": "2025-08-06T17:56:25.023091Z",
     "iopub.status.busy": "2025-08-06T17:56:25.022844Z",
     "iopub.status.idle": "2025-08-06T17:56:25.026923Z",
     "shell.execute_reply": "2025-08-06T17:56:25.026255Z"
    },
    "papermill": {
     "duration": 0.033274,
     "end_time": "2025-08-06T17:56:25.028585",
     "exception": false,
     "start_time": "2025-08-06T17:56:24.995311",
     "status": "completed"
    },
    "tags": []
   },
   "outputs": [],
   "source": [
    "def filter_sub_universe_data(sub_universe, org_test):\n",
    "    # Keep all rows — no filtering\n",
    "    keep_rows_mask = np.ones(org_test.shape[0], dtype=bool)\n",
    "\n",
    "    print(f\"[INFO] Keeping all rows: {keep_rows_mask.sum()} rows retained.\")\n",
    "    return keep_rows_mask"
   ]
  },
  {
   "cell_type": "code",
   "execution_count": 62,
   "id": "4a759155",
   "metadata": {
    "execution": {
     "iopub.execute_input": "2025-08-06T17:56:25.084786Z",
     "iopub.status.busy": "2025-08-06T17:56:25.084542Z",
     "iopub.status.idle": "2025-08-06T17:56:31.556222Z",
     "shell.execute_reply": "2025-08-06T17:56:31.555280Z"
    },
    "papermill": {
     "duration": 6.501652,
     "end_time": "2025-08-06T17:56:31.557847",
     "exception": false,
     "start_time": "2025-08-06T17:56:25.056195",
     "status": "completed"
    },
    "tags": []
   },
   "outputs": [
    {
     "name": "stdout",
     "output_type": "stream",
     "text": [
      "Stopping execution_time clock.\n",
      "[INFO] Keeping all rows: 89710 rows retained.\n"
     ]
    },
    {
     "name": "stdout",
     "output_type": "stream",
     "text": [
      "[INFO] Keeping all rows: 89710 rows retained.\n"
     ]
    },
    {
     "name": "stdout",
     "output_type": "stream",
     "text": [
      "[INFO] Keeping all rows: 89710 rows retained.\n"
     ]
    },
    {
     "name": "stdout",
     "output_type": "stream",
     "text": [
      "[INFO] Keeping all rows: 89710 rows retained.\n"
     ]
    },
    {
     "data": {
      "text/html": [
       "<div>\n",
       "<style scoped>\n",
       "    .dataframe tbody tr th:only-of-type {\n",
       "        vertical-align: middle;\n",
       "    }\n",
       "\n",
       "    .dataframe tbody tr th {\n",
       "        vertical-align: top;\n",
       "    }\n",
       "\n",
       "    .dataframe thead th {\n",
       "        text-align: right;\n",
       "    }\n",
       "</style>\n",
       "<table border=\"1\" class=\"dataframe\">\n",
       "  <thead>\n",
       "    <tr style=\"text-align: right;\">\n",
       "      <th></th>\n",
       "      <th>run_no</th>\n",
       "      <th>universe_id</th>\n",
       "      <th>universe_settings</th>\n",
       "      <th>execution_time</th>\n",
       "      <th>test_size_n</th>\n",
       "      <th>test_size_frac</th>\n",
       "      <th>fair_main_equalized_odds_difference</th>\n",
       "      <th>fair_main_equalized_odds_ratio</th>\n",
       "      <th>fair_main_demographic_parity_difference</th>\n",
       "      <th>fair_main_demographic_parity_ratio</th>\n",
       "      <th>...</th>\n",
       "      <th>perf_grp_precision_0</th>\n",
       "      <th>perf_grp_precision_1</th>\n",
       "      <th>perf_grp_false positive rate_0</th>\n",
       "      <th>perf_grp_false positive rate_1</th>\n",
       "      <th>perf_grp_false negative rate_0</th>\n",
       "      <th>perf_grp_false negative rate_1</th>\n",
       "      <th>perf_grp_selection rate_0</th>\n",
       "      <th>perf_grp_selection rate_1</th>\n",
       "      <th>perf_grp_count_0</th>\n",
       "      <th>perf_grp_count_1</th>\n",
       "    </tr>\n",
       "  </thead>\n",
       "  <tbody>\n",
       "    <tr>\n",
       "      <th>0</th>\n",
       "      <td>1</td>\n",
       "      <td>dd6a72b9ee8d00e5e87f024922c8b72d</td>\n",
       "      <td>{\"cutoff\": \"quantile_0.1\", \"eval_fairness_grou...</td>\n",
       "      <td>21.4866</td>\n",
       "      <td>89710</td>\n",
       "      <td>1.0</td>\n",
       "      <td>0.076135</td>\n",
       "      <td>0.919874</td>\n",
       "      <td>0.070151</td>\n",
       "      <td>0.926473</td>\n",
       "      <td>...</td>\n",
       "      <td>NaN</td>\n",
       "      <td>NaN</td>\n",
       "      <td>NaN</td>\n",
       "      <td>NaN</td>\n",
       "      <td>NaN</td>\n",
       "      <td>NaN</td>\n",
       "      <td>NaN</td>\n",
       "      <td>NaN</td>\n",
       "      <td>NaN</td>\n",
       "      <td>NaN</td>\n",
       "    </tr>\n",
       "    <tr>\n",
       "      <th>0</th>\n",
       "      <td>1</td>\n",
       "      <td>dd6a72b9ee8d00e5e87f024922c8b72d</td>\n",
       "      <td>{\"cutoff\": \"quantile_0.1\", \"eval_fairness_grou...</td>\n",
       "      <td>21.4866</td>\n",
       "      <td>89710</td>\n",
       "      <td>1.0</td>\n",
       "      <td>0.076135</td>\n",
       "      <td>0.919874</td>\n",
       "      <td>0.070151</td>\n",
       "      <td>0.926473</td>\n",
       "      <td>...</td>\n",
       "      <td>0.118896</td>\n",
       "      <td>0.141834</td>\n",
       "      <td>0.950198</td>\n",
       "      <td>0.874063</td>\n",
       "      <td>0.016047</td>\n",
       "      <td>0.051204</td>\n",
       "      <td>0.954090</td>\n",
       "      <td>0.883938</td>\n",
       "      <td>20540.0</td>\n",
       "      <td>69170.0</td>\n",
       "    </tr>\n",
       "    <tr>\n",
       "      <th>0</th>\n",
       "      <td>1</td>\n",
       "      <td>dd6a72b9ee8d00e5e87f024922c8b72d</td>\n",
       "      <td>{\"cutoff\": \"quantile_0.25\", \"eval_fairness_gro...</td>\n",
       "      <td>21.4866</td>\n",
       "      <td>89710</td>\n",
       "      <td>1.0</td>\n",
       "      <td>0.164711</td>\n",
       "      <td>0.807972</td>\n",
       "      <td>0.151108</td>\n",
       "      <td>0.825612</td>\n",
       "      <td>...</td>\n",
       "      <td>NaN</td>\n",
       "      <td>NaN</td>\n",
       "      <td>NaN</td>\n",
       "      <td>NaN</td>\n",
       "      <td>NaN</td>\n",
       "      <td>NaN</td>\n",
       "      <td>NaN</td>\n",
       "      <td>NaN</td>\n",
       "      <td>NaN</td>\n",
       "      <td>NaN</td>\n",
       "    </tr>\n",
       "    <tr>\n",
       "      <th>0</th>\n",
       "      <td>1</td>\n",
       "      <td>dd6a72b9ee8d00e5e87f024922c8b72d</td>\n",
       "      <td>{\"cutoff\": \"quantile_0.25\", \"eval_fairness_gro...</td>\n",
       "      <td>21.4866</td>\n",
       "      <td>89710</td>\n",
       "      <td>1.0</td>\n",
       "      <td>0.164711</td>\n",
       "      <td>0.807972</td>\n",
       "      <td>0.151108</td>\n",
       "      <td>0.825612</td>\n",
       "      <td>...</td>\n",
       "      <td>0.124227</td>\n",
       "      <td>0.159264</td>\n",
       "      <td>0.857748</td>\n",
       "      <td>0.693037</td>\n",
       "      <td>0.066301</td>\n",
       "      <td>0.137746</td>\n",
       "      <td>0.866504</td>\n",
       "      <td>0.715397</td>\n",
       "      <td>20540.0</td>\n",
       "      <td>69170.0</td>\n",
       "    </tr>\n",
       "  </tbody>\n",
       "</table>\n",
       "<p>4 rows × 50 columns</p>\n",
       "</div>"
      ],
      "text/plain": [
       "  run_no                       universe_id  \\\n",
       "0      1  dd6a72b9ee8d00e5e87f024922c8b72d   \n",
       "0      1  dd6a72b9ee8d00e5e87f024922c8b72d   \n",
       "0      1  dd6a72b9ee8d00e5e87f024922c8b72d   \n",
       "0      1  dd6a72b9ee8d00e5e87f024922c8b72d   \n",
       "\n",
       "                                   universe_settings  execution_time  \\\n",
       "0  {\"cutoff\": \"quantile_0.1\", \"eval_fairness_grou...         21.4866   \n",
       "0  {\"cutoff\": \"quantile_0.1\", \"eval_fairness_grou...         21.4866   \n",
       "0  {\"cutoff\": \"quantile_0.25\", \"eval_fairness_gro...         21.4866   \n",
       "0  {\"cutoff\": \"quantile_0.25\", \"eval_fairness_gro...         21.4866   \n",
       "\n",
       "   test_size_n  test_size_frac  fair_main_equalized_odds_difference  \\\n",
       "0        89710             1.0                             0.076135   \n",
       "0        89710             1.0                             0.076135   \n",
       "0        89710             1.0                             0.164711   \n",
       "0        89710             1.0                             0.164711   \n",
       "\n",
       "   fair_main_equalized_odds_ratio  fair_main_demographic_parity_difference  \\\n",
       "0                        0.919874                                 0.070151   \n",
       "0                        0.919874                                 0.070151   \n",
       "0                        0.807972                                 0.151108   \n",
       "0                        0.807972                                 0.151108   \n",
       "\n",
       "   fair_main_demographic_parity_ratio  ...  perf_grp_precision_0  \\\n",
       "0                            0.926473  ...                   NaN   \n",
       "0                            0.926473  ...              0.118896   \n",
       "0                            0.825612  ...                   NaN   \n",
       "0                            0.825612  ...              0.124227   \n",
       "\n",
       "   perf_grp_precision_1  perf_grp_false positive rate_0  \\\n",
       "0                   NaN                             NaN   \n",
       "0              0.141834                        0.950198   \n",
       "0                   NaN                             NaN   \n",
       "0              0.159264                        0.857748   \n",
       "\n",
       "   perf_grp_false positive rate_1  perf_grp_false negative rate_0  \\\n",
       "0                             NaN                             NaN   \n",
       "0                        0.874063                        0.016047   \n",
       "0                             NaN                             NaN   \n",
       "0                        0.693037                        0.066301   \n",
       "\n",
       "   perf_grp_false negative rate_1  perf_grp_selection rate_0  \\\n",
       "0                             NaN                        NaN   \n",
       "0                        0.051204                   0.954090   \n",
       "0                             NaN                        NaN   \n",
       "0                        0.137746                   0.866504   \n",
       "\n",
       "   perf_grp_selection rate_1  perf_grp_count_0  perf_grp_count_1  \n",
       "0                        NaN               NaN               NaN  \n",
       "0                   0.883938           20540.0           69170.0  \n",
       "0                        NaN               NaN               NaN  \n",
       "0                   0.715397           20540.0           69170.0  \n",
       "\n",
       "[4 rows x 50 columns]"
      ]
     },
     "execution_count": 62,
     "metadata": {},
     "output_type": "execute_result"
    }
   ],
   "source": [
    "final_output = universe_analysis.generate_final_output(\n",
    "    y_pred_prob=probs_test,\n",
    "    y_test=y_true,\n",
    "    org_test=org_test,\n",
    "    filter_data=filter_sub_universe_data,\n",
    "    cp_metrics_df=cp_metrics_df,\n",
    "    save=True,\n",
    ")\n",
    "final_output"
   ]
  },
  {
   "cell_type": "code",
   "execution_count": null,
   "id": "571f9a0f-660a-4841-b661-b06fbc637944",
   "metadata": {
    "papermill": {
     "duration": 0.027508,
     "end_time": "2025-08-06T17:56:31.616018",
     "exception": false,
     "start_time": "2025-08-06T17:56:31.588510",
     "status": "completed"
    },
    "tags": []
   },
   "outputs": [],
   "source": []
  },
  {
   "cell_type": "code",
   "execution_count": null,
   "id": "529482e3-0150-4854-a92d-ab864efc606e",
   "metadata": {
    "papermill": {
     "duration": 0.026241,
     "end_time": "2025-08-06T17:56:31.669508",
     "exception": false,
     "start_time": "2025-08-06T17:56:31.643267",
     "status": "completed"
    },
    "tags": []
   },
   "outputs": [],
   "source": []
  }
 ],
 "metadata": {
  "celltoolbar": "Tags",
  "kernelspec": {
   "display_name": "Python (CMA Fairness)",
   "language": "python",
   "name": "cma_fair_env"
  },
  "language_info": {
   "codemirror_mode": {
    "name": "ipython",
    "version": 3
   },
   "file_extension": ".py",
   "mimetype": "text/x-python",
   "name": "python",
   "nbconvert_exporter": "python",
   "pygments_lexer": "ipython3",
   "version": "3.10.12"
  },
  "papermill": {
   "default_parameters": {},
   "duration": 32.289871,
   "end_time": "2025-08-06T17:56:32.515530",
   "environment_variables": {},
   "exception": null,
   "input_path": "universe_analysis.ipynb",
   "output_path": "output/runs/1/notebooks/m_1-dd6a72b9ee8d00e5e87f024922c8b72d.ipynb",
   "parameters": {
    "output_dir": "output",
    "run_no": "1",
    "seed": "2023",
    "universe": "{\"cutoff\": [\"quantile_0.1\", \"quantile_0.25\"], \"eval_fairness_grouping\": [\"majority-minority\", \"nationality-all\"], \"exclude_features\": \"sex\", \"exclude_subgroups\": \"keep-all\", \"model\": \"logreg\", \"scale\": \"scale\", \"training_size\": \"1k\", \"training_year\": \"2012_14\"}",
    "universe_id": "dd6a72b9ee8d00e5e87f024922c8b72d"
   },
   "start_time": "2025-08-06T17:56:00.225659",
   "version": "2.6.0"
  }
 },
 "nbformat": 4,
 "nbformat_minor": 5
}