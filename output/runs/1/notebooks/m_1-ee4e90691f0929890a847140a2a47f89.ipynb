{
 "cells": [
  {
   "cell_type": "markdown",
   "id": "b2057076-3a91-4cfa-9bfd-eab1e61b3068",
   "metadata": {
    "papermill": {
     "duration": 0.019866,
     "end_time": "2025-08-06T17:51:58.692423",
     "exception": false,
     "start_time": "2025-08-06T17:51:58.672557",
     "status": "completed"
    },
    "tags": []
   },
   "source": [
    "# Setup"
   ]
  },
  {
   "cell_type": "code",
   "execution_count": 1,
   "id": "f159f837-637b-42ba-96b5-ec9a68c44524",
   "metadata": {
    "execution": {
     "iopub.execute_input": "2025-08-06T17:51:58.722749Z",
     "iopub.status.busy": "2025-08-06T17:51:58.721913Z",
     "iopub.status.idle": "2025-08-06T17:51:58.734244Z",
     "shell.execute_reply": "2025-08-06T17:51:58.733368Z"
    },
    "papermill": {
     "duration": 0.032161,
     "end_time": "2025-08-06T17:51:58.736027",
     "exception": false,
     "start_time": "2025-08-06T17:51:58.703866",
     "status": "completed"
    },
    "tags": []
   },
   "outputs": [
    {
     "name": "stdout",
     "output_type": "stream",
     "text": [
      "/dss/dsshome1/0C/ra93lal2/cma/CMA_Fairness_v2\n"
     ]
    },
    {
     "name": "stderr",
     "output_type": "stream",
     "text": [
      "/dss/dsshome1/0C/ra93lal2/.local/share/virtualenvs/CMA_Fairness_v2-3j10GkSs/lib/python3.10/site-packages/IPython/core/magics/osm.py:393: UserWarning: This is now an optional IPython functionality, using bookmarks requires you to install the `pickleshare` library.\n",
      "  bkms = self.shell.db.get('bookmarks', {})\n",
      "/dss/dsshome1/0C/ra93lal2/.local/share/virtualenvs/CMA_Fairness_v2-3j10GkSs/lib/python3.10/site-packages/IPython/core/magics/osm.py:417: UserWarning: This is now an optional IPython functionality, setting dhist requires you to install the `pickleshare` library.\n",
      "  self.shell.db['dhist'] = compress_dhist(dhist)[-100:]\n"
     ]
    }
   ],
   "source": [
    "%cd ~/cma/CMA_Fairness_v2"
   ]
  },
  {
   "cell_type": "markdown",
   "id": "de2603b9",
   "metadata": {
    "papermill": {
     "duration": 0.015439,
     "end_time": "2025-08-06T17:51:58.765205",
     "exception": false,
     "start_time": "2025-08-06T17:51:58.749766",
     "status": "completed"
    },
    "tags": []
   },
   "source": [
    "The following cell holds the definition of our parameters, these values can be overriden by rendering the with e.g. the following command:\n",
    "\n",
    "papermill -p alpha 0.2 -p ratio 0.3 universe_analysis.ipynb output/test_run.ipynb"
   ]
  },
  {
   "cell_type": "code",
   "execution_count": 2,
   "id": "a80968a0-40bb-4fa9-85ef-2d5eefb01975",
   "metadata": {
    "execution": {
     "iopub.execute_input": "2025-08-06T17:51:58.797566Z",
     "iopub.status.busy": "2025-08-06T17:51:58.797109Z",
     "iopub.status.idle": "2025-08-06T17:51:58.801269Z",
     "shell.execute_reply": "2025-08-06T17:51:58.800583Z"
    },
    "papermill": {
     "duration": 0.024592,
     "end_time": "2025-08-06T17:51:58.805045",
     "exception": false,
     "start_time": "2025-08-06T17:51:58.780453",
     "status": "completed"
    },
    "tags": []
   },
   "outputs": [
    {
     "name": "stdout",
     "output_type": "stream",
     "text": [
      "Current working directory: /dss/dsshome1/0C/ra93lal2/cma/CMA_Fairness_v2\n"
     ]
    }
   ],
   "source": [
    "import os\n",
    "print(\"Current working directory:\", os.getcwd())"
   ]
  },
  {
   "cell_type": "code",
   "execution_count": 3,
   "id": "2dce4c03",
   "metadata": {
    "execution": {
     "iopub.execute_input": "2025-08-06T17:51:58.839179Z",
     "iopub.status.busy": "2025-08-06T17:51:58.838571Z",
     "iopub.status.idle": "2025-08-06T17:51:58.845983Z",
     "shell.execute_reply": "2025-08-06T17:51:58.844863Z"
    },
    "papermill": {
     "duration": 0.026859,
     "end_time": "2025-08-06T17:51:58.847884",
     "exception": false,
     "start_time": "2025-08-06T17:51:58.821025",
     "status": "completed"
    },
    "tags": [
     "parameters"
    ]
   },
   "outputs": [],
   "source": [
    "run_no = 0\n",
    "universe_id = \"test\"\n",
    "universe = {\n",
    "    \"training_size\": \"5k\", # \"25k\", \"5k\", \"1k\"\n",
    "    \"training_year\": \"2012_14\", # \"2014\", \"2012_14\", \"2010_14\"\n",
    "    \"scale\": \"scale\", # \"scale\", \"do-not-scale\",\n",
    "    \"model\": \"elasticnet\", # \"logreg\", \"penalized_logreg\", \"rf\", \"gbm\", \"elasticnet\"\n",
    "    \"cutoff\": [\"quantile_0.15\", \"quantile_0.30\"],\n",
    "    \"exclude_features\": \"age\", # \"none\", \"nationality\", \"sex\", \"nationality-sex\", \"age\"\n",
    "    \"exclude_subgroups\": \"drop-non-german\", # \"keep-all\", \"drop-non-german\"\n",
    "    \"eval_fairness_grouping\": [\"majority-minority\", \"nationality-all\"]\n",
    "}\n",
    "\n",
    "output_dir=\"./output\"\n",
    "seed=0"
   ]
  },
  {
   "cell_type": "code",
   "execution_count": 4,
   "id": "a6980136",
   "metadata": {
    "execution": {
     "iopub.execute_input": "2025-08-06T17:51:58.881733Z",
     "iopub.status.busy": "2025-08-06T17:51:58.881172Z",
     "iopub.status.idle": "2025-08-06T17:51:58.886537Z",
     "shell.execute_reply": "2025-08-06T17:51:58.885684Z"
    },
    "papermill": {
     "duration": 0.023542,
     "end_time": "2025-08-06T17:51:58.887953",
     "exception": false,
     "start_time": "2025-08-06T17:51:58.864411",
     "status": "completed"
    },
    "tags": [
     "injected-parameters"
    ]
   },
   "outputs": [],
   "source": [
    "# Parameters\n",
    "universe_id = \"ee4e90691f0929890a847140a2a47f89\"\n",
    "run_no = \"1\"\n",
    "universe = \"{\\\"cutoff\\\": [\\\"quantile_0.1\\\", \\\"quantile_0.25\\\"], \\\"eval_fairness_grouping\\\": [\\\"majority-minority\\\", \\\"nationality-all\\\"], \\\"exclude_features\\\": \\\"nationality\\\", \\\"exclude_subgroups\\\": \\\"keep-all\\\", \\\"model\\\": \\\"penalized_logreg\\\", \\\"scale\\\": \\\"do-not-scale\\\", \\\"training_size\\\": \\\"1k\\\", \\\"training_year\\\": \\\"2014\\\"}\"\n",
    "output_dir = \"output\"\n",
    "seed = \"2023\"\n"
   ]
  },
  {
   "cell_type": "code",
   "execution_count": 5,
   "id": "1650acaf",
   "metadata": {
    "execution": {
     "iopub.execute_input": "2025-08-06T17:51:58.920868Z",
     "iopub.status.busy": "2025-08-06T17:51:58.920212Z",
     "iopub.status.idle": "2025-08-06T17:51:58.925575Z",
     "shell.execute_reply": "2025-08-06T17:51:58.924602Z"
    },
    "papermill": {
     "duration": 0.023043,
     "end_time": "2025-08-06T17:51:58.927035",
     "exception": false,
     "start_time": "2025-08-06T17:51:58.903992",
     "status": "completed"
    },
    "tags": []
   },
   "outputs": [],
   "source": [
    "import json\n",
    "if isinstance(universe, str):\n",
    "    universe = json.loads(universe)"
   ]
  },
  {
   "cell_type": "code",
   "execution_count": 6,
   "id": "16620c48",
   "metadata": {
    "execution": {
     "iopub.execute_input": "2025-08-06T17:51:58.959272Z",
     "iopub.status.busy": "2025-08-06T17:51:58.958570Z",
     "iopub.status.idle": "2025-08-06T17:51:59.001375Z",
     "shell.execute_reply": "2025-08-06T17:51:59.000481Z"
    },
    "papermill": {
     "duration": 0.061112,
     "end_time": "2025-08-06T17:51:59.003415",
     "exception": false,
     "start_time": "2025-08-06T17:51:58.942303",
     "status": "completed"
    },
    "tags": []
   },
   "outputs": [],
   "source": [
    "# Auto-reload the custom package\n",
    "%load_ext autoreload\n",
    "%autoreload 1\n",
    "%aimport fairness_multiverse"
   ]
  },
  {
   "cell_type": "code",
   "execution_count": 7,
   "id": "01c5c9f3",
   "metadata": {
    "execution": {
     "iopub.execute_input": "2025-08-06T17:51:59.040575Z",
     "iopub.status.busy": "2025-08-06T17:51:59.039906Z",
     "iopub.status.idle": "2025-08-06T17:52:00.842468Z",
     "shell.execute_reply": "2025-08-06T17:52:00.841693Z"
    },
    "papermill": {
     "duration": 1.822438,
     "end_time": "2025-08-06T17:52:00.843889",
     "exception": false,
     "start_time": "2025-08-06T17:51:59.021451",
     "status": "completed"
    },
    "tags": []
   },
   "outputs": [],
   "source": [
    "from fairness_multiverse.universe import UniverseAnalysis\n",
    "\n",
    "universe_analysis = UniverseAnalysis(\n",
    "    run_no = run_no,\n",
    "    universe_id = universe_id,\n",
    "    universe = universe,\n",
    "    output_dir=output_dir,\n",
    ")"
   ]
  },
  {
   "cell_type": "code",
   "execution_count": 8,
   "id": "106241f5",
   "metadata": {
    "execution": {
     "iopub.execute_input": "2025-08-06T17:52:00.864713Z",
     "iopub.status.busy": "2025-08-06T17:52:00.863931Z",
     "iopub.status.idle": "2025-08-06T17:52:00.869608Z",
     "shell.execute_reply": "2025-08-06T17:52:00.868859Z"
    },
    "papermill": {
     "duration": 0.016932,
     "end_time": "2025-08-06T17:52:00.870894",
     "exception": false,
     "start_time": "2025-08-06T17:52:00.853962",
     "status": "completed"
    },
    "tags": []
   },
   "outputs": [
    {
     "name": "stdout",
     "output_type": "stream",
     "text": [
      "Using Seed: 2023\n"
     ]
    }
   ],
   "source": [
    "import numpy as np\n",
    "parsed_seed = int(seed)\n",
    "np.random.seed(parsed_seed)\n",
    "print(f\"Using Seed: {parsed_seed}\")"
   ]
  },
  {
   "cell_type": "markdown",
   "id": "e0ebdc57",
   "metadata": {
    "papermill": {
     "duration": 0.008476,
     "end_time": "2025-08-06T17:52:00.888843",
     "exception": false,
     "start_time": "2025-08-06T17:52:00.880367",
     "status": "completed"
    },
    "tags": []
   },
   "source": [
    "# Loading Data"
   ]
  },
  {
   "cell_type": "code",
   "execution_count": 9,
   "id": "f0496b8a",
   "metadata": {
    "execution": {
     "iopub.execute_input": "2025-08-06T17:52:00.906989Z",
     "iopub.status.busy": "2025-08-06T17:52:00.906482Z",
     "iopub.status.idle": "2025-08-06T17:52:12.768488Z",
     "shell.execute_reply": "2025-08-06T17:52:12.767080Z"
    },
    "papermill": {
     "duration": 11.872616,
     "end_time": "2025-08-06T17:52:12.769938",
     "exception": false,
     "start_time": "2025-08-06T17:52:00.897322",
     "status": "completed"
    },
    "tags": []
   },
   "outputs": [
    {
     "name": "stdout",
     "output_type": "stream",
     "text": [
      "Loading SIAB data from cache: data/siab_cached.csv.gz\n"
     ]
    },
    {
     "name": "stdout",
     "output_type": "stream",
     "text": [
      "(643690, 164)\n"
     ]
    }
   ],
   "source": [
    "from pathlib import Path\n",
    "import pandas as pd\n",
    "\n",
    "# File paths\n",
    "raw_file = Path(\"data/raw/siab.csv\")\n",
    "cache_file = Path(\"data/siab_cached.csv.gz\")\n",
    "\n",
    "# Ensure cache directory exists\n",
    "cache_file.parent.mkdir(parents=True, exist_ok=True)\n",
    "\n",
    "# Load with simple caching\n",
    "if cache_file.exists():\n",
    "    print(f\"Loading SIAB data from cache: {cache_file}\")\n",
    "    siab = pd.read_csv(cache_file, compression='gzip')\n",
    "else:\n",
    "    print(f\"Cache not found. Reading raw SIAB data: {raw_file}\")\n",
    "    siab = pd.read_csv(raw_file)\n",
    "    siab.to_csv(cache_file, index=False, compression='gzip')\n",
    "    print(f\"Cached SIAB data to: {cache_file}\")\n",
    "\n",
    "print(siab.shape)"
   ]
  },
  {
   "cell_type": "code",
   "execution_count": 10,
   "id": "db0ca512-5f53-4dba-abdb-a2888bca41ba",
   "metadata": {
    "execution": {
     "iopub.execute_input": "2025-08-06T17:52:12.801606Z",
     "iopub.status.busy": "2025-08-06T17:52:12.801061Z",
     "iopub.status.idle": "2025-08-06T17:52:12.947657Z",
     "shell.execute_reply": "2025-08-06T17:52:12.946911Z"
    },
    "papermill": {
     "duration": 0.167328,
     "end_time": "2025-08-06T17:52:12.949158",
     "exception": false,
     "start_time": "2025-08-06T17:52:12.781830",
     "status": "completed"
    },
    "tags": []
   },
   "outputs": [
    {
     "data": {
      "text/html": [
       "<div>\n",
       "<style scoped>\n",
       "    .dataframe tbody tr th:only-of-type {\n",
       "        vertical-align: middle;\n",
       "    }\n",
       "\n",
       "    .dataframe tbody tr th {\n",
       "        vertical-align: top;\n",
       "    }\n",
       "\n",
       "    .dataframe thead th {\n",
       "        text-align: right;\n",
       "    }\n",
       "</style>\n",
       "<table border=\"1\" class=\"dataframe\">\n",
       "  <thead>\n",
       "    <tr style=\"text-align: right;\">\n",
       "      <th></th>\n",
       "      <th>persnr</th>\n",
       "      <th>year</th>\n",
       "      <th>nrEntry</th>\n",
       "      <th>ltue</th>\n",
       "      <th>employed_before</th>\n",
       "      <th>receipt_leh_before</th>\n",
       "      <th>receipt_lhg_before</th>\n",
       "      <th>se_before</th>\n",
       "      <th>ASU_notue_seeking_before</th>\n",
       "      <th>ASU_other_before</th>\n",
       "      <th>...</th>\n",
       "      <th>minijob_tot_dur_byage</th>\n",
       "      <th>ft_tot_dur_byage</th>\n",
       "      <th>befrist_tot_dur_byage</th>\n",
       "      <th>leih_tot_dur_byage</th>\n",
       "      <th>LHG_tot_dur_byage</th>\n",
       "      <th>LEH_tot_dur_byage</th>\n",
       "      <th>almp_tot_dur_byage</th>\n",
       "      <th>almp_aw_tot_dur_byage</th>\n",
       "      <th>se_tot_dur_byage</th>\n",
       "      <th>seeking1_tot_dur_byage</th>\n",
       "    </tr>\n",
       "  </thead>\n",
       "  <tbody>\n",
       "    <tr>\n",
       "      <th>0</th>\n",
       "      <td>7</td>\n",
       "      <td>2015</td>\n",
       "      <td>1</td>\n",
       "      <td>0</td>\n",
       "      <td>1</td>\n",
       "      <td>0</td>\n",
       "      <td>0</td>\n",
       "      <td>0</td>\n",
       "      <td>1</td>\n",
       "      <td>0</td>\n",
       "      <td>...</td>\n",
       "      <td>0.000000</td>\n",
       "      <td>0.000000</td>\n",
       "      <td>15.043478</td>\n",
       "      <td>0.000000</td>\n",
       "      <td>0.000000</td>\n",
       "      <td>0.000000</td>\n",
       "      <td>0.000000</td>\n",
       "      <td>0.000000</td>\n",
       "      <td>0.000000</td>\n",
       "      <td>0.000000</td>\n",
       "    </tr>\n",
       "    <tr>\n",
       "      <th>1</th>\n",
       "      <td>18</td>\n",
       "      <td>2010</td>\n",
       "      <td>1</td>\n",
       "      <td>1</td>\n",
       "      <td>0</td>\n",
       "      <td>0</td>\n",
       "      <td>0</td>\n",
       "      <td>0</td>\n",
       "      <td>0</td>\n",
       "      <td>0</td>\n",
       "      <td>...</td>\n",
       "      <td>0.000000</td>\n",
       "      <td>0.000000</td>\n",
       "      <td>0.000000</td>\n",
       "      <td>0.000000</td>\n",
       "      <td>0.000000</td>\n",
       "      <td>0.000000</td>\n",
       "      <td>0.000000</td>\n",
       "      <td>0.000000</td>\n",
       "      <td>0.000000</td>\n",
       "      <td>0.000000</td>\n",
       "    </tr>\n",
       "    <tr>\n",
       "      <th>2</th>\n",
       "      <td>18</td>\n",
       "      <td>2011</td>\n",
       "      <td>2</td>\n",
       "      <td>0</td>\n",
       "      <td>1</td>\n",
       "      <td>0</td>\n",
       "      <td>1</td>\n",
       "      <td>0</td>\n",
       "      <td>1</td>\n",
       "      <td>0</td>\n",
       "      <td>...</td>\n",
       "      <td>2.714286</td>\n",
       "      <td>2.714286</td>\n",
       "      <td>0.000000</td>\n",
       "      <td>0.000000</td>\n",
       "      <td>10.775510</td>\n",
       "      <td>0.000000</td>\n",
       "      <td>8.367347</td>\n",
       "      <td>0.000000</td>\n",
       "      <td>0.000000</td>\n",
       "      <td>9.836735</td>\n",
       "    </tr>\n",
       "    <tr>\n",
       "      <th>3</th>\n",
       "      <td>18</td>\n",
       "      <td>2012</td>\n",
       "      <td>3</td>\n",
       "      <td>0</td>\n",
       "      <td>1</td>\n",
       "      <td>0</td>\n",
       "      <td>1</td>\n",
       "      <td>0</td>\n",
       "      <td>1</td>\n",
       "      <td>0</td>\n",
       "      <td>...</td>\n",
       "      <td>4.200000</td>\n",
       "      <td>4.200000</td>\n",
       "      <td>0.000000</td>\n",
       "      <td>0.000000</td>\n",
       "      <td>12.100000</td>\n",
       "      <td>0.000000</td>\n",
       "      <td>9.400000</td>\n",
       "      <td>0.000000</td>\n",
       "      <td>0.000000</td>\n",
       "      <td>9.960000</td>\n",
       "    </tr>\n",
       "    <tr>\n",
       "      <th>4</th>\n",
       "      <td>18</td>\n",
       "      <td>2012</td>\n",
       "      <td>4</td>\n",
       "      <td>0</td>\n",
       "      <td>1</td>\n",
       "      <td>0</td>\n",
       "      <td>1</td>\n",
       "      <td>0</td>\n",
       "      <td>1</td>\n",
       "      <td>0</td>\n",
       "      <td>...</td>\n",
       "      <td>5.460000</td>\n",
       "      <td>5.460000</td>\n",
       "      <td>0.000000</td>\n",
       "      <td>0.000000</td>\n",
       "      <td>13.360000</td>\n",
       "      <td>0.000000</td>\n",
       "      <td>10.320000</td>\n",
       "      <td>0.000000</td>\n",
       "      <td>0.000000</td>\n",
       "      <td>10.280000</td>\n",
       "    </tr>\n",
       "    <tr>\n",
       "      <th>...</th>\n",
       "      <td>...</td>\n",
       "      <td>...</td>\n",
       "      <td>...</td>\n",
       "      <td>...</td>\n",
       "      <td>...</td>\n",
       "      <td>...</td>\n",
       "      <td>...</td>\n",
       "      <td>...</td>\n",
       "      <td>...</td>\n",
       "      <td>...</td>\n",
       "      <td>...</td>\n",
       "      <td>...</td>\n",
       "      <td>...</td>\n",
       "      <td>...</td>\n",
       "      <td>...</td>\n",
       "      <td>...</td>\n",
       "      <td>...</td>\n",
       "      <td>...</td>\n",
       "      <td>...</td>\n",
       "      <td>...</td>\n",
       "      <td>...</td>\n",
       "    </tr>\n",
       "    <tr>\n",
       "      <th>643685</th>\n",
       "      <td>1827860</td>\n",
       "      <td>2013</td>\n",
       "      <td>1</td>\n",
       "      <td>0</td>\n",
       "      <td>0</td>\n",
       "      <td>0</td>\n",
       "      <td>1</td>\n",
       "      <td>0</td>\n",
       "      <td>0</td>\n",
       "      <td>1</td>\n",
       "      <td>...</td>\n",
       "      <td>0.000000</td>\n",
       "      <td>0.000000</td>\n",
       "      <td>0.000000</td>\n",
       "      <td>0.000000</td>\n",
       "      <td>0.612903</td>\n",
       "      <td>0.000000</td>\n",
       "      <td>0.000000</td>\n",
       "      <td>0.000000</td>\n",
       "      <td>0.000000</td>\n",
       "      <td>0.000000</td>\n",
       "    </tr>\n",
       "    <tr>\n",
       "      <th>643686</th>\n",
       "      <td>1827860</td>\n",
       "      <td>2015</td>\n",
       "      <td>2</td>\n",
       "      <td>1</td>\n",
       "      <td>0</td>\n",
       "      <td>0</td>\n",
       "      <td>1</td>\n",
       "      <td>0</td>\n",
       "      <td>1</td>\n",
       "      <td>0</td>\n",
       "      <td>...</td>\n",
       "      <td>0.000000</td>\n",
       "      <td>0.000000</td>\n",
       "      <td>0.212121</td>\n",
       "      <td>0.212121</td>\n",
       "      <td>17.363636</td>\n",
       "      <td>0.000000</td>\n",
       "      <td>8.909091</td>\n",
       "      <td>0.000000</td>\n",
       "      <td>0.000000</td>\n",
       "      <td>7.121212</td>\n",
       "    </tr>\n",
       "    <tr>\n",
       "      <th>643687</th>\n",
       "      <td>1827860</td>\n",
       "      <td>2016</td>\n",
       "      <td>3</td>\n",
       "      <td>1</td>\n",
       "      <td>0</td>\n",
       "      <td>0</td>\n",
       "      <td>1</td>\n",
       "      <td>1</td>\n",
       "      <td>0</td>\n",
       "      <td>1</td>\n",
       "      <td>...</td>\n",
       "      <td>0.000000</td>\n",
       "      <td>0.000000</td>\n",
       "      <td>0.294118</td>\n",
       "      <td>0.205882</td>\n",
       "      <td>34.705882</td>\n",
       "      <td>0.000000</td>\n",
       "      <td>10.352941</td>\n",
       "      <td>1.705882</td>\n",
       "      <td>1.705882</td>\n",
       "      <td>23.911765</td>\n",
       "    </tr>\n",
       "    <tr>\n",
       "      <th>643688</th>\n",
       "      <td>1827869</td>\n",
       "      <td>2013</td>\n",
       "      <td>1</td>\n",
       "      <td>1</td>\n",
       "      <td>1</td>\n",
       "      <td>0</td>\n",
       "      <td>0</td>\n",
       "      <td>0</td>\n",
       "      <td>1</td>\n",
       "      <td>0</td>\n",
       "      <td>...</td>\n",
       "      <td>0.000000</td>\n",
       "      <td>0.000000</td>\n",
       "      <td>0.000000</td>\n",
       "      <td>0.000000</td>\n",
       "      <td>0.000000</td>\n",
       "      <td>0.525424</td>\n",
       "      <td>0.000000</td>\n",
       "      <td>0.000000</td>\n",
       "      <td>0.000000</td>\n",
       "      <td>0.000000</td>\n",
       "    </tr>\n",
       "    <tr>\n",
       "      <th>643689</th>\n",
       "      <td>1827869</td>\n",
       "      <td>2014</td>\n",
       "      <td>2</td>\n",
       "      <td>0</td>\n",
       "      <td>0</td>\n",
       "      <td>1</td>\n",
       "      <td>0</td>\n",
       "      <td>0</td>\n",
       "      <td>1</td>\n",
       "      <td>0</td>\n",
       "      <td>...</td>\n",
       "      <td>0.000000</td>\n",
       "      <td>0.666667</td>\n",
       "      <td>0.666667</td>\n",
       "      <td>0.000000</td>\n",
       "      <td>0.000000</td>\n",
       "      <td>8.950000</td>\n",
       "      <td>1.033333</td>\n",
       "      <td>0.083333</td>\n",
       "      <td>0.083333</td>\n",
       "      <td>8.133333</td>\n",
       "    </tr>\n",
       "  </tbody>\n",
       "</table>\n",
       "<p>643690 rows × 164 columns</p>\n",
       "</div>"
      ],
      "text/plain": [
       "         persnr  year  nrEntry  ltue  employed_before  receipt_leh_before  \\\n",
       "0             7  2015        1     0                1                   0   \n",
       "1            18  2010        1     1                0                   0   \n",
       "2            18  2011        2     0                1                   0   \n",
       "3            18  2012        3     0                1                   0   \n",
       "4            18  2012        4     0                1                   0   \n",
       "...         ...   ...      ...   ...              ...                 ...   \n",
       "643685  1827860  2013        1     0                0                   0   \n",
       "643686  1827860  2015        2     1                0                   0   \n",
       "643687  1827860  2016        3     1                0                   0   \n",
       "643688  1827869  2013        1     1                1                   0   \n",
       "643689  1827869  2014        2     0                0                   1   \n",
       "\n",
       "        receipt_lhg_before  se_before  ASU_notue_seeking_before  \\\n",
       "0                        0          0                         1   \n",
       "1                        0          0                         0   \n",
       "2                        1          0                         1   \n",
       "3                        1          0                         1   \n",
       "4                        1          0                         1   \n",
       "...                    ...        ...                       ...   \n",
       "643685                   1          0                         0   \n",
       "643686                   1          0                         1   \n",
       "643687                   1          1                         0   \n",
       "643688                   0          0                         1   \n",
       "643689                   0          0                         1   \n",
       "\n",
       "        ASU_other_before  ...  minijob_tot_dur_byage  ft_tot_dur_byage  \\\n",
       "0                      0  ...               0.000000          0.000000   \n",
       "1                      0  ...               0.000000          0.000000   \n",
       "2                      0  ...               2.714286          2.714286   \n",
       "3                      0  ...               4.200000          4.200000   \n",
       "4                      0  ...               5.460000          5.460000   \n",
       "...                  ...  ...                    ...               ...   \n",
       "643685                 1  ...               0.000000          0.000000   \n",
       "643686                 0  ...               0.000000          0.000000   \n",
       "643687                 1  ...               0.000000          0.000000   \n",
       "643688                 0  ...               0.000000          0.000000   \n",
       "643689                 0  ...               0.000000          0.666667   \n",
       "\n",
       "        befrist_tot_dur_byage  leih_tot_dur_byage  LHG_tot_dur_byage  \\\n",
       "0                   15.043478            0.000000           0.000000   \n",
       "1                    0.000000            0.000000           0.000000   \n",
       "2                    0.000000            0.000000          10.775510   \n",
       "3                    0.000000            0.000000          12.100000   \n",
       "4                    0.000000            0.000000          13.360000   \n",
       "...                       ...                 ...                ...   \n",
       "643685               0.000000            0.000000           0.612903   \n",
       "643686               0.212121            0.212121          17.363636   \n",
       "643687               0.294118            0.205882          34.705882   \n",
       "643688               0.000000            0.000000           0.000000   \n",
       "643689               0.666667            0.000000           0.000000   \n",
       "\n",
       "        LEH_tot_dur_byage  almp_tot_dur_byage  almp_aw_tot_dur_byage  \\\n",
       "0                0.000000            0.000000               0.000000   \n",
       "1                0.000000            0.000000               0.000000   \n",
       "2                0.000000            8.367347               0.000000   \n",
       "3                0.000000            9.400000               0.000000   \n",
       "4                0.000000           10.320000               0.000000   \n",
       "...                   ...                 ...                    ...   \n",
       "643685           0.000000            0.000000               0.000000   \n",
       "643686           0.000000            8.909091               0.000000   \n",
       "643687           0.000000           10.352941               1.705882   \n",
       "643688           0.525424            0.000000               0.000000   \n",
       "643689           8.950000            1.033333               0.083333   \n",
       "\n",
       "        se_tot_dur_byage  seeking1_tot_dur_byage  \n",
       "0               0.000000                0.000000  \n",
       "1               0.000000                0.000000  \n",
       "2               0.000000                9.836735  \n",
       "3               0.000000                9.960000  \n",
       "4               0.000000               10.280000  \n",
       "...                  ...                     ...  \n",
       "643685          0.000000                0.000000  \n",
       "643686          0.000000                7.121212  \n",
       "643687          1.705882               23.911765  \n",
       "643688          0.000000                0.000000  \n",
       "643689          0.083333                8.133333  \n",
       "\n",
       "[643690 rows x 164 columns]"
      ]
     },
     "execution_count": 10,
     "metadata": {},
     "output_type": "execute_result"
    }
   ],
   "source": [
    "siab"
   ]
  },
  {
   "cell_type": "markdown",
   "id": "997051c5-15bd-4b69-9786-c3001a3ce484",
   "metadata": {
    "papermill": {
     "duration": 0.016366,
     "end_time": "2025-08-06T17:52:12.984357",
     "exception": false,
     "start_time": "2025-08-06T17:52:12.967991",
     "status": "completed"
    },
    "tags": []
   },
   "source": [
    "# Splitting Data and Setting Training Data Size"
   ]
  },
  {
   "cell_type": "code",
   "execution_count": 11,
   "id": "aea9c6ef-6f46-42c8-85eb-5a62025c1508",
   "metadata": {
    "execution": {
     "iopub.execute_input": "2025-08-06T17:52:13.021896Z",
     "iopub.status.busy": "2025-08-06T17:52:13.021380Z",
     "iopub.status.idle": "2025-08-06T17:52:13.289942Z",
     "shell.execute_reply": "2025-08-06T17:52:13.288895Z"
    },
    "papermill": {
     "duration": 0.290603,
     "end_time": "2025-08-06T17:52:13.291791",
     "exception": false,
     "start_time": "2025-08-06T17:52:13.001188",
     "status": "completed"
    },
    "tags": []
   },
   "outputs": [],
   "source": [
    "from fairness_multiverse.universe import sample_by_year_size\n",
    "\n",
    "siab_train = sample_by_year_size(siab,\n",
    "                               training_year=universe[\"training_year\"],\n",
    "                               training_size=universe[\"training_size\"])"
   ]
  },
  {
   "cell_type": "code",
   "execution_count": 12,
   "id": "8d3afb32-789d-442c-8d5d-9f5aa8dd2eed",
   "metadata": {
    "execution": {
     "iopub.execute_input": "2025-08-06T17:52:13.331210Z",
     "iopub.status.busy": "2025-08-06T17:52:13.330346Z",
     "iopub.status.idle": "2025-08-06T17:52:13.337627Z",
     "shell.execute_reply": "2025-08-06T17:52:13.336651Z"
    },
    "papermill": {
     "duration": 0.028622,
     "end_time": "2025-08-06T17:52:13.339256",
     "exception": false,
     "start_time": "2025-08-06T17:52:13.310634",
     "status": "completed"
    },
    "tags": []
   },
   "outputs": [
    {
     "data": {
      "text/plain": [
       "(1000, 164)"
      ]
     },
     "execution_count": 12,
     "metadata": {},
     "output_type": "execute_result"
    }
   ],
   "source": [
    "siab_train.shape"
   ]
  },
  {
   "cell_type": "code",
   "execution_count": 13,
   "id": "d582db68-1a4c-47fb-84fc-08518dc1975a",
   "metadata": {
    "execution": {
     "iopub.execute_input": "2025-08-06T17:52:13.378233Z",
     "iopub.status.busy": "2025-08-06T17:52:13.377723Z",
     "iopub.status.idle": "2025-08-06T17:52:13.388609Z",
     "shell.execute_reply": "2025-08-06T17:52:13.387520Z"
    },
    "papermill": {
     "duration": 0.032922,
     "end_time": "2025-08-06T17:52:13.390291",
     "exception": false,
     "start_time": "2025-08-06T17:52:13.357369",
     "status": "completed"
    },
    "tags": []
   },
   "outputs": [
    {
     "data": {
      "text/plain": [
       "year\n",
       "2014    1000\n",
       "dtype: int64"
      ]
     },
     "metadata": {},
     "output_type": "display_data"
    }
   ],
   "source": [
    "display(siab_train.groupby(\"year\").size())"
   ]
  },
  {
   "cell_type": "code",
   "execution_count": 14,
   "id": "a561edb4-d032-42cb-8256-22eac1111c64",
   "metadata": {
    "execution": {
     "iopub.execute_input": "2025-08-06T17:52:13.427088Z",
     "iopub.status.busy": "2025-08-06T17:52:13.426555Z",
     "iopub.status.idle": "2025-08-06T17:52:13.689475Z",
     "shell.execute_reply": "2025-08-06T17:52:13.688541Z"
    },
    "papermill": {
     "duration": 0.283161,
     "end_time": "2025-08-06T17:52:13.691411",
     "exception": false,
     "start_time": "2025-08-06T17:52:13.408250",
     "status": "completed"
    },
    "tags": []
   },
   "outputs": [],
   "source": [
    "#siab_train = siab_s[siab_s.year < 2015]\n",
    "siab_calib = siab[siab.year == 2015]\n",
    "siab_test = siab[siab.year == 2016]"
   ]
  },
  {
   "cell_type": "code",
   "execution_count": 15,
   "id": "472de16f-c3db-4916-846b-1f0de9cf1746",
   "metadata": {
    "execution": {
     "iopub.execute_input": "2025-08-06T17:52:13.740769Z",
     "iopub.status.busy": "2025-08-06T17:52:13.739995Z",
     "iopub.status.idle": "2025-08-06T17:52:13.747703Z",
     "shell.execute_reply": "2025-08-06T17:52:13.746505Z"
    },
    "papermill": {
     "duration": 0.036094,
     "end_time": "2025-08-06T17:52:13.749734",
     "exception": false,
     "start_time": "2025-08-06T17:52:13.713640",
     "status": "completed"
    },
    "tags": []
   },
   "outputs": [],
   "source": [
    "X_train = siab_train.iloc[:,4:164]\n",
    "y_train = siab_train.iloc[:, [3]]"
   ]
  },
  {
   "cell_type": "code",
   "execution_count": 16,
   "id": "828c96af-f43a-4ed6-ba47-8ac73a47d56c",
   "metadata": {
    "execution": {
     "iopub.execute_input": "2025-08-06T17:52:13.796248Z",
     "iopub.status.busy": "2025-08-06T17:52:13.795719Z",
     "iopub.status.idle": "2025-08-06T17:52:13.846290Z",
     "shell.execute_reply": "2025-08-06T17:52:13.845202Z"
    },
    "papermill": {
     "duration": 0.073352,
     "end_time": "2025-08-06T17:52:13.848127",
     "exception": false,
     "start_time": "2025-08-06T17:52:13.774775",
     "status": "completed"
    },
    "tags": []
   },
   "outputs": [],
   "source": [
    "X_calib = siab_calib.iloc[:,4:164]\n",
    "y_calib = siab_calib.iloc[:, [3]]"
   ]
  },
  {
   "cell_type": "code",
   "execution_count": 17,
   "id": "c34be9c3-6bd6-476e-acd3-845840e303be",
   "metadata": {
    "execution": {
     "iopub.execute_input": "2025-08-06T17:52:13.889425Z",
     "iopub.status.busy": "2025-08-06T17:52:13.889003Z",
     "iopub.status.idle": "2025-08-06T17:52:13.942841Z",
     "shell.execute_reply": "2025-08-06T17:52:13.941704Z"
    },
    "papermill": {
     "duration": 0.075928,
     "end_time": "2025-08-06T17:52:13.944678",
     "exception": false,
     "start_time": "2025-08-06T17:52:13.868750",
     "status": "completed"
    },
    "tags": []
   },
   "outputs": [],
   "source": [
    "X_test = siab_test.iloc[:,4:164]\n",
    "y_true = siab_test.iloc[:, [3]]"
   ]
  },
  {
   "cell_type": "code",
   "execution_count": 18,
   "id": "e6c733c5",
   "metadata": {
    "execution": {
     "iopub.execute_input": "2025-08-06T17:52:13.985414Z",
     "iopub.status.busy": "2025-08-06T17:52:13.984918Z",
     "iopub.status.idle": "2025-08-06T17:52:14.082283Z",
     "shell.execute_reply": "2025-08-06T17:52:14.081319Z"
    },
    "papermill": {
     "duration": 0.117787,
     "end_time": "2025-08-06T17:52:14.084249",
     "exception": false,
     "start_time": "2025-08-06T17:52:13.966462",
     "status": "completed"
    },
    "tags": []
   },
   "outputs": [],
   "source": [
    "# Auxiliary data needed downstream in the pipeline\n",
    "\n",
    "org_train = X_train.copy()\n",
    "org_test = X_test.copy()\n",
    "org_calib = X_calib.copy()"
   ]
  },
  {
   "cell_type": "markdown",
   "id": "0a4a1b33",
   "metadata": {
    "papermill": {
     "duration": 0.019965,
     "end_time": "2025-08-06T17:52:14.124991",
     "exception": false,
     "start_time": "2025-08-06T17:52:14.105026",
     "status": "completed"
    },
    "tags": []
   },
   "source": [
    "# Preprocessing Data"
   ]
  },
  {
   "cell_type": "code",
   "execution_count": 19,
   "id": "ca879031",
   "metadata": {
    "execution": {
     "iopub.execute_input": "2025-08-06T17:52:14.168316Z",
     "iopub.status.busy": "2025-08-06T17:52:14.167297Z",
     "iopub.status.idle": "2025-08-06T17:52:14.172621Z",
     "shell.execute_reply": "2025-08-06T17:52:14.171934Z"
    },
    "papermill": {
     "duration": 0.028785,
     "end_time": "2025-08-06T17:52:14.174300",
     "exception": false,
     "start_time": "2025-08-06T17:52:14.145515",
     "status": "completed"
    },
    "tags": []
   },
   "outputs": [],
   "source": [
    "# EXCLUDE PROTECTED FEATURES\n",
    "# --------------------------\n",
    "\n",
    "excluded_features = universe[\"exclude_features\"].split(\"-\")\n",
    "excluded_features_dictionary = {\n",
    "    \"nationality\": [\"maxdeutsch1\", \"maxdeutsch.Missing.\"],\n",
    "    \"sex\": [\"frau1\"],\n",
    "    \"age\": [\"age\"],\n",
    "}"
   ]
  },
  {
   "cell_type": "code",
   "execution_count": 20,
   "id": "b745ac60",
   "metadata": {
    "execution": {
     "iopub.execute_input": "2025-08-06T17:52:14.213218Z",
     "iopub.status.busy": "2025-08-06T17:52:14.212756Z",
     "iopub.status.idle": "2025-08-06T17:52:14.218307Z",
     "shell.execute_reply": "2025-08-06T17:52:14.217426Z"
    },
    "papermill": {
     "duration": 0.026223,
     "end_time": "2025-08-06T17:52:14.220001",
     "exception": false,
     "start_time": "2025-08-06T17:52:14.193778",
     "status": "completed"
    },
    "tags": []
   },
   "outputs": [],
   "source": [
    "excluded_features_columns = [\n",
    "    excluded_features_dictionary[f] for f in excluded_features if len(f) > 0 and f != \"none\"\n",
    "]"
   ]
  },
  {
   "cell_type": "code",
   "execution_count": 21,
   "id": "f84f73a2",
   "metadata": {
    "execution": {
     "iopub.execute_input": "2025-08-06T17:52:14.258576Z",
     "iopub.status.busy": "2025-08-06T17:52:14.257746Z",
     "iopub.status.idle": "2025-08-06T17:52:14.263667Z",
     "shell.execute_reply": "2025-08-06T17:52:14.262608Z"
    },
    "papermill": {
     "duration": 0.026588,
     "end_time": "2025-08-06T17:52:14.265037",
     "exception": false,
     "start_time": "2025-08-06T17:52:14.238449",
     "status": "completed"
    },
    "tags": []
   },
   "outputs": [],
   "source": [
    "from fairness_multiverse.universe import flatten_once\n",
    "\n",
    "excluded_features_columns = flatten_once(excluded_features_columns)"
   ]
  },
  {
   "cell_type": "code",
   "execution_count": 22,
   "id": "884dea22",
   "metadata": {
    "execution": {
     "iopub.execute_input": "2025-08-06T17:52:14.303628Z",
     "iopub.status.busy": "2025-08-06T17:52:14.303346Z",
     "iopub.status.idle": "2025-08-06T17:52:14.310562Z",
     "shell.execute_reply": "2025-08-06T17:52:14.309584Z"
    },
    "papermill": {
     "duration": 0.028723,
     "end_time": "2025-08-06T17:52:14.312879",
     "exception": false,
     "start_time": "2025-08-06T17:52:14.284156",
     "status": "completed"
    },
    "tags": []
   },
   "outputs": [
    {
     "name": "stdout",
     "output_type": "stream",
     "text": [
      "Dropping features: ['maxdeutsch1', 'maxdeutsch.Missing.']\n"
     ]
    }
   ],
   "source": [
    "if len(excluded_features_columns) > 0:\n",
    "    print(f\"Dropping features: {excluded_features_columns}\")\n",
    "    X_train.drop(excluded_features_columns, axis=1, inplace=True)"
   ]
  },
  {
   "cell_type": "code",
   "execution_count": 23,
   "id": "95ab8b16",
   "metadata": {
    "execution": {
     "iopub.execute_input": "2025-08-06T17:52:14.358316Z",
     "iopub.status.busy": "2025-08-06T17:52:14.357913Z",
     "iopub.status.idle": "2025-08-06T17:52:14.420881Z",
     "shell.execute_reply": "2025-08-06T17:52:14.419859Z"
    },
    "papermill": {
     "duration": 0.086077,
     "end_time": "2025-08-06T17:52:14.422167",
     "exception": false,
     "start_time": "2025-08-06T17:52:14.336090",
     "status": "completed"
    },
    "tags": []
   },
   "outputs": [
    {
     "name": "stdout",
     "output_type": "stream",
     "text": [
      "Dropping features: ['maxdeutsch1', 'maxdeutsch.Missing.']\n"
     ]
    }
   ],
   "source": [
    "if len(excluded_features_columns) > 0:\n",
    "    print(f\"Dropping features: {excluded_features_columns}\")\n",
    "    X_test.drop(excluded_features_columns, axis=1, inplace=True)"
   ]
  },
  {
   "cell_type": "code",
   "execution_count": 24,
   "id": "1853aaf5-fb9f-46cb-a2b5-8ea4ae2237e4",
   "metadata": {
    "execution": {
     "iopub.execute_input": "2025-08-06T17:52:14.462933Z",
     "iopub.status.busy": "2025-08-06T17:52:14.462301Z",
     "iopub.status.idle": "2025-08-06T17:52:14.513521Z",
     "shell.execute_reply": "2025-08-06T17:52:14.512288Z"
    },
    "papermill": {
     "duration": 0.073584,
     "end_time": "2025-08-06T17:52:14.515255",
     "exception": false,
     "start_time": "2025-08-06T17:52:14.441671",
     "status": "completed"
    },
    "tags": []
   },
   "outputs": [
    {
     "name": "stdout",
     "output_type": "stream",
     "text": [
      "Dropping features: ['maxdeutsch1', 'maxdeutsch.Missing.']\n"
     ]
    }
   ],
   "source": [
    "if len(excluded_features_columns) > 0:\n",
    "    print(f\"Dropping features: {excluded_features_columns}\")\n",
    "    X_calib.drop(excluded_features_columns, axis=1, inplace=True)"
   ]
  },
  {
   "cell_type": "code",
   "execution_count": 25,
   "id": "76c4dc6d",
   "metadata": {
    "execution": {
     "iopub.execute_input": "2025-08-06T17:52:14.554745Z",
     "iopub.status.busy": "2025-08-06T17:52:14.553990Z",
     "iopub.status.idle": "2025-08-06T17:52:14.559257Z",
     "shell.execute_reply": "2025-08-06T17:52:14.558273Z"
    },
    "papermill": {
     "duration": 0.026399,
     "end_time": "2025-08-06T17:52:14.560938",
     "exception": false,
     "start_time": "2025-08-06T17:52:14.534539",
     "status": "completed"
    },
    "tags": []
   },
   "outputs": [],
   "source": [
    "# EXCLUDE CERTAIN SUBGROUPS\n",
    "# -------------------------\n",
    "\n",
    "mode = universe.get(\"exclude_subgroups\", \"keep-all\") # Defaults to \"keep-all\" if the key is missing."
   ]
  },
  {
   "cell_type": "code",
   "execution_count": 26,
   "id": "21994072",
   "metadata": {
    "execution": {
     "iopub.execute_input": "2025-08-06T17:52:14.599610Z",
     "iopub.status.busy": "2025-08-06T17:52:14.599058Z",
     "iopub.status.idle": "2025-08-06T17:52:14.605451Z",
     "shell.execute_reply": "2025-08-06T17:52:14.604469Z"
    },
    "papermill": {
     "duration": 0.027207,
     "end_time": "2025-08-06T17:52:14.606979",
     "exception": false,
     "start_time": "2025-08-06T17:52:14.579772",
     "status": "completed"
    },
    "tags": []
   },
   "outputs": [],
   "source": [
    "if mode == \"keep-all\":\n",
    "    keep_mask = pd.Series(True, index=org_train.index)\n",
    "\n",
    "elif mode == \"drop-non-german\":\n",
    "    keep_mask = (org_train[\"maxdeutsch1\"] == 1) & (org_train[\"maxdeutsch.Missing.\"] == 0)\n",
    "\n",
    "else:\n",
    "    raise ValueError(f\"Unsupported mode for exclude_subgroups: {mode}\")"
   ]
  },
  {
   "cell_type": "code",
   "execution_count": 27,
   "id": "71651440",
   "metadata": {
    "execution": {
     "iopub.execute_input": "2025-08-06T17:52:14.647231Z",
     "iopub.status.busy": "2025-08-06T17:52:14.646493Z",
     "iopub.status.idle": "2025-08-06T17:52:14.653260Z",
     "shell.execute_reply": "2025-08-06T17:52:14.652410Z"
    },
    "papermill": {
     "duration": 0.029187,
     "end_time": "2025-08-06T17:52:14.654823",
     "exception": false,
     "start_time": "2025-08-06T17:52:14.625636",
     "status": "completed"
    },
    "tags": []
   },
   "outputs": [],
   "source": [
    "n_drop = (~keep_mask).sum() # Calculates how many rows are set to be dropped\n",
    "if n_drop > 0:\n",
    "    pct = n_drop / len(keep_mask) * 100\n",
    "    print(f\"Dropping {n_drop} rows ({pct:.2f}%) where mode='{mode}'\")"
   ]
  },
  {
   "cell_type": "code",
   "execution_count": 28,
   "id": "5fb8eee5",
   "metadata": {
    "execution": {
     "iopub.execute_input": "2025-08-06T17:52:14.695750Z",
     "iopub.status.busy": "2025-08-06T17:52:14.695067Z",
     "iopub.status.idle": "2025-08-06T17:52:14.702437Z",
     "shell.execute_reply": "2025-08-06T17:52:14.701537Z"
    },
    "papermill": {
     "duration": 0.030557,
     "end_time": "2025-08-06T17:52:14.704188",
     "exception": false,
     "start_time": "2025-08-06T17:52:14.673631",
     "status": "completed"
    },
    "tags": []
   },
   "outputs": [],
   "source": [
    "X_train = X_train[keep_mask]"
   ]
  },
  {
   "cell_type": "code",
   "execution_count": 29,
   "id": "b202bb3a",
   "metadata": {
    "execution": {
     "iopub.execute_input": "2025-08-06T17:52:14.745514Z",
     "iopub.status.busy": "2025-08-06T17:52:14.745018Z",
     "iopub.status.idle": "2025-08-06T17:52:14.751346Z",
     "shell.execute_reply": "2025-08-06T17:52:14.750455Z"
    },
    "papermill": {
     "duration": 0.029794,
     "end_time": "2025-08-06T17:52:14.752837",
     "exception": false,
     "start_time": "2025-08-06T17:52:14.723043",
     "status": "completed"
    },
    "tags": []
   },
   "outputs": [],
   "source": [
    "y_train = y_train[keep_mask]"
   ]
  },
  {
   "cell_type": "markdown",
   "id": "493e2ac3",
   "metadata": {
    "papermill": {
     "duration": 0.018185,
     "end_time": "2025-08-06T17:52:14.790460",
     "exception": false,
     "start_time": "2025-08-06T17:52:14.772275",
     "status": "completed"
    },
    "tags": []
   },
   "source": [
    "# Model Training"
   ]
  },
  {
   "cell_type": "code",
   "execution_count": 30,
   "id": "679e1268",
   "metadata": {
    "execution": {
     "iopub.execute_input": "2025-08-06T17:52:14.829287Z",
     "iopub.status.busy": "2025-08-06T17:52:14.828325Z",
     "iopub.status.idle": "2025-08-06T17:52:14.937014Z",
     "shell.execute_reply": "2025-08-06T17:52:14.936054Z"
    },
    "papermill": {
     "duration": 0.13027,
     "end_time": "2025-08-06T17:52:14.938952",
     "exception": false,
     "start_time": "2025-08-06T17:52:14.808682",
     "status": "completed"
    },
    "tags": []
   },
   "outputs": [],
   "source": [
    "from sklearn.linear_model import LogisticRegression\n",
    "from sklearn.ensemble import GradientBoostingClassifier, RandomForestClassifier\n",
    "\n",
    "if (universe[\"model\"] == \"logreg\"):\n",
    "    model = LogisticRegression() #penalty=\"none\", solver=\"newton-cg\", max_iter=1)\n",
    "elif (universe[\"model\"] == \"penalized_logreg\"):\n",
    "    model = LogisticRegression(penalty=\"l2\", C=0.1) #, solver=\"newton-cg\", max_iter=1)\n",
    "elif (universe[\"model\"] == \"rf\"):\n",
    "    model = RandomForestClassifier() # n_estimators=100, n_jobs=-1\n",
    "elif (universe[\"model\"] == \"gbm\"):\n",
    "    model = GradientBoostingClassifier()\n",
    "elif (universe[\"model\"] == \"elasticnet\"):\n",
    "    model = LogisticRegression(penalty = 'elasticnet', solver = 'saga', l1_ratio = 0.5) # max_iter=5000\n",
    "else:\n",
    "    raise \"Unsupported universe.model\""
   ]
  },
  {
   "cell_type": "code",
   "execution_count": 31,
   "id": "0cc8f744",
   "metadata": {
    "execution": {
     "iopub.execute_input": "2025-08-06T17:52:14.982765Z",
     "iopub.status.busy": "2025-08-06T17:52:14.981911Z",
     "iopub.status.idle": "2025-08-06T17:52:14.988577Z",
     "shell.execute_reply": "2025-08-06T17:52:14.987590Z"
    },
    "papermill": {
     "duration": 0.029836,
     "end_time": "2025-08-06T17:52:14.990222",
     "exception": false,
     "start_time": "2025-08-06T17:52:14.960386",
     "status": "completed"
    },
    "tags": []
   },
   "outputs": [],
   "source": [
    "from sklearn.pipeline import Pipeline\n",
    "from sklearn.preprocessing import StandardScaler\n",
    "\n",
    "model = Pipeline([\n",
    "    #(\"continuous_processor\", continuous_processor),\n",
    "    #(\"categorical_preprocessor\", categorical_preprocessor),\n",
    "    (\"scale\", StandardScaler() if universe[\"scale\"] == \"scale\" else None), \n",
    "    (\"model\", model),\n",
    "])"
   ]
  },
  {
   "cell_type": "code",
   "execution_count": 32,
   "id": "9442c04d",
   "metadata": {
    "execution": {
     "iopub.execute_input": "2025-08-06T17:52:15.032266Z",
     "iopub.status.busy": "2025-08-06T17:52:15.031392Z",
     "iopub.status.idle": "2025-08-06T17:52:15.096132Z",
     "shell.execute_reply": "2025-08-06T17:52:15.095183Z"
    },
    "papermill": {
     "duration": 0.088671,
     "end_time": "2025-08-06T17:52:15.098805",
     "exception": false,
     "start_time": "2025-08-06T17:52:15.010134",
     "status": "completed"
    },
    "tags": []
   },
   "outputs": [
    {
     "name": "stderr",
     "output_type": "stream",
     "text": [
      "/dss/dsshome1/0C/ra93lal2/.local/share/virtualenvs/CMA_Fairness_v2-3j10GkSs/lib/python3.10/site-packages/sklearn/linear_model/_logistic.py:444: ConvergenceWarning: lbfgs failed to converge (status=1):\n",
      "STOP: TOTAL NO. of ITERATIONS REACHED LIMIT.\n",
      "\n",
      "Increase the number of iterations (max_iter) or scale the data as shown in:\n",
      "    https://scikit-learn.org/stable/modules/preprocessing.html\n",
      "Please also refer to the documentation for alternative solver options:\n",
      "    https://scikit-learn.org/stable/modules/linear_model.html#logistic-regression\n",
      "  n_iter_i = _check_optimize_result(\n"
     ]
    },
    {
     "data": {
      "text/html": [
       "<style>#sk-container-id-1 {color: black;background-color: white;}#sk-container-id-1 pre{padding: 0;}#sk-container-id-1 div.sk-toggleable {background-color: white;}#sk-container-id-1 label.sk-toggleable__label {cursor: pointer;display: block;width: 100%;margin-bottom: 0;padding: 0.3em;box-sizing: border-box;text-align: center;}#sk-container-id-1 label.sk-toggleable__label-arrow:before {content: \"▸\";float: left;margin-right: 0.25em;color: #696969;}#sk-container-id-1 label.sk-toggleable__label-arrow:hover:before {color: black;}#sk-container-id-1 div.sk-estimator:hover label.sk-toggleable__label-arrow:before {color: black;}#sk-container-id-1 div.sk-toggleable__content {max-height: 0;max-width: 0;overflow: hidden;text-align: left;background-color: #f0f8ff;}#sk-container-id-1 div.sk-toggleable__content pre {margin: 0.2em;color: black;border-radius: 0.25em;background-color: #f0f8ff;}#sk-container-id-1 input.sk-toggleable__control:checked~div.sk-toggleable__content {max-height: 200px;max-width: 100%;overflow: auto;}#sk-container-id-1 input.sk-toggleable__control:checked~label.sk-toggleable__label-arrow:before {content: \"▾\";}#sk-container-id-1 div.sk-estimator input.sk-toggleable__control:checked~label.sk-toggleable__label {background-color: #d4ebff;}#sk-container-id-1 div.sk-label input.sk-toggleable__control:checked~label.sk-toggleable__label {background-color: #d4ebff;}#sk-container-id-1 input.sk-hidden--visually {border: 0;clip: rect(1px 1px 1px 1px);clip: rect(1px, 1px, 1px, 1px);height: 1px;margin: -1px;overflow: hidden;padding: 0;position: absolute;width: 1px;}#sk-container-id-1 div.sk-estimator {font-family: monospace;background-color: #f0f8ff;border: 1px dotted black;border-radius: 0.25em;box-sizing: border-box;margin-bottom: 0.5em;}#sk-container-id-1 div.sk-estimator:hover {background-color: #d4ebff;}#sk-container-id-1 div.sk-parallel-item::after {content: \"\";width: 100%;border-bottom: 1px solid gray;flex-grow: 1;}#sk-container-id-1 div.sk-label:hover label.sk-toggleable__label {background-color: #d4ebff;}#sk-container-id-1 div.sk-serial::before {content: \"\";position: absolute;border-left: 1px solid gray;box-sizing: border-box;top: 0;bottom: 0;left: 50%;z-index: 0;}#sk-container-id-1 div.sk-serial {display: flex;flex-direction: column;align-items: center;background-color: white;padding-right: 0.2em;padding-left: 0.2em;position: relative;}#sk-container-id-1 div.sk-item {position: relative;z-index: 1;}#sk-container-id-1 div.sk-parallel {display: flex;align-items: stretch;justify-content: center;background-color: white;position: relative;}#sk-container-id-1 div.sk-item::before, #sk-container-id-1 div.sk-parallel-item::before {content: \"\";position: absolute;border-left: 1px solid gray;box-sizing: border-box;top: 0;bottom: 0;left: 50%;z-index: -1;}#sk-container-id-1 div.sk-parallel-item {display: flex;flex-direction: column;z-index: 1;position: relative;background-color: white;}#sk-container-id-1 div.sk-parallel-item:first-child::after {align-self: flex-end;width: 50%;}#sk-container-id-1 div.sk-parallel-item:last-child::after {align-self: flex-start;width: 50%;}#sk-container-id-1 div.sk-parallel-item:only-child::after {width: 0;}#sk-container-id-1 div.sk-dashed-wrapped {border: 1px dashed gray;margin: 0 0.4em 0.5em 0.4em;box-sizing: border-box;padding-bottom: 0.4em;background-color: white;}#sk-container-id-1 div.sk-label label {font-family: monospace;font-weight: bold;display: inline-block;line-height: 1.2em;}#sk-container-id-1 div.sk-label-container {text-align: center;}#sk-container-id-1 div.sk-container {/* jupyter's `normalize.less` sets `[hidden] { display: none; }` but bootstrap.min.css set `[hidden] { display: none !important; }` so we also need the `!important` here to be able to override the default hidden behavior on the sphinx rendered scikit-learn.org. See: https://github.com/scikit-learn/scikit-learn/issues/21755 */display: inline-block !important;position: relative;}#sk-container-id-1 div.sk-text-repr-fallback {display: none;}</style><div id=\"sk-container-id-1\" class=\"sk-top-container\"><div class=\"sk-text-repr-fallback\"><pre>Pipeline(steps=[(&#x27;scale&#x27;, None), (&#x27;model&#x27;, LogisticRegression(C=0.1))])</pre><b>In a Jupyter environment, please rerun this cell to show the HTML representation or trust the notebook. <br />On GitHub, the HTML representation is unable to render, please try loading this page with nbviewer.org.</b></div><div class=\"sk-container\" hidden><div class=\"sk-item sk-dashed-wrapped\"><div class=\"sk-label-container\"><div class=\"sk-label sk-toggleable\"><input class=\"sk-toggleable__control sk-hidden--visually\" id=\"sk-estimator-id-1\" type=\"checkbox\" ><label for=\"sk-estimator-id-1\" class=\"sk-toggleable__label sk-toggleable__label-arrow\">Pipeline</label><div class=\"sk-toggleable__content\"><pre>Pipeline(steps=[(&#x27;scale&#x27;, None), (&#x27;model&#x27;, LogisticRegression(C=0.1))])</pre></div></div></div><div class=\"sk-serial\"><div class=\"sk-item\"><div class=\"sk-estimator sk-toggleable\"><input class=\"sk-toggleable__control sk-hidden--visually\" id=\"sk-estimator-id-2\" type=\"checkbox\" ><label for=\"sk-estimator-id-2\" class=\"sk-toggleable__label sk-toggleable__label-arrow\">None</label><div class=\"sk-toggleable__content\"><pre>None</pre></div></div></div><div class=\"sk-item\"><div class=\"sk-estimator sk-toggleable\"><input class=\"sk-toggleable__control sk-hidden--visually\" id=\"sk-estimator-id-3\" type=\"checkbox\" ><label for=\"sk-estimator-id-3\" class=\"sk-toggleable__label sk-toggleable__label-arrow\">LogisticRegression</label><div class=\"sk-toggleable__content\"><pre>LogisticRegression(C=0.1)</pre></div></div></div></div></div></div></div>"
      ],
      "text/plain": [
       "Pipeline(steps=[('scale', None), ('model', LogisticRegression(C=0.1))])"
      ]
     },
     "execution_count": 32,
     "metadata": {},
     "output_type": "execute_result"
    }
   ],
   "source": [
    "model.fit(X_train, y_train.values.ravel())"
   ]
  },
  {
   "cell_type": "code",
   "execution_count": 33,
   "id": "a7cf2e16",
   "metadata": {
    "execution": {
     "iopub.execute_input": "2025-08-06T17:52:15.142959Z",
     "iopub.status.busy": "2025-08-06T17:52:15.142392Z",
     "iopub.status.idle": "2025-08-06T17:52:15.257513Z",
     "shell.execute_reply": "2025-08-06T17:52:15.256349Z"
    },
    "papermill": {
     "duration": 0.139098,
     "end_time": "2025-08-06T17:52:15.259551",
     "exception": false,
     "start_time": "2025-08-06T17:52:15.120453",
     "status": "completed"
    },
    "tags": []
   },
   "outputs": [
    {
     "data": {
      "text/plain": [
       "0.8495262512540408"
      ]
     },
     "execution_count": 33,
     "metadata": {},
     "output_type": "execute_result"
    }
   ],
   "source": [
    "from fairness_multiverse.universe import predict_w_threshold\n",
    "\n",
    "probs_test = model.predict_proba(X_test)\n",
    "\n",
    "'''\n",
    "Below code returns a boolean array (or binary 0/1 array depending on how it’s used) where each element \n",
    "is True if the probability of class 1 is greater than or equal to the threshold, and False otherwise.\n",
    "'''\n",
    "y_pred_default = predict_w_threshold(probs_test, 0.5)\n",
    "\n",
    "from sklearn.metrics import accuracy_score\n",
    "\n",
    "# Naive prediction\n",
    "accuracy_score(y_true = y_true, y_pred = y_pred_default)"
   ]
  },
  {
   "cell_type": "code",
   "execution_count": 34,
   "id": "081964c3",
   "metadata": {
    "execution": {
     "iopub.execute_input": "2025-08-06T17:52:15.301467Z",
     "iopub.status.busy": "2025-08-06T17:52:15.300671Z",
     "iopub.status.idle": "2025-08-06T17:52:15.385449Z",
     "shell.execute_reply": "2025-08-06T17:52:15.384358Z"
    },
    "papermill": {
     "duration": 0.106398,
     "end_time": "2025-08-06T17:52:15.387111",
     "exception": false,
     "start_time": "2025-08-06T17:52:15.280713",
     "status": "completed"
    },
    "tags": []
   },
   "outputs": [
    {
     "data": {
      "text/plain": [
       "array([0, 0, 0, ..., 0, 0, 0])"
      ]
     },
     "execution_count": 34,
     "metadata": {},
     "output_type": "execute_result"
    }
   ],
   "source": [
    "model.predict(X_test)"
   ]
  },
  {
   "cell_type": "markdown",
   "id": "56c9705b",
   "metadata": {
    "papermill": {
     "duration": 0.019266,
     "end_time": "2025-08-06T17:52:15.427586",
     "exception": false,
     "start_time": "2025-08-06T17:52:15.408320",
     "status": "completed"
    },
    "tags": []
   },
   "source": [
    "# Conformal Prediction"
   ]
  },
  {
   "cell_type": "code",
   "execution_count": 35,
   "id": "160ec6ff",
   "metadata": {
    "execution": {
     "iopub.execute_input": "2025-08-06T17:52:15.451021Z",
     "iopub.status.busy": "2025-08-06T17:52:15.450637Z",
     "iopub.status.idle": "2025-08-06T17:52:15.455460Z",
     "shell.execute_reply": "2025-08-06T17:52:15.454615Z"
    },
    "papermill": {
     "duration": 0.017746,
     "end_time": "2025-08-06T17:52:15.457063",
     "exception": false,
     "start_time": "2025-08-06T17:52:15.439317",
     "status": "completed"
    },
    "tags": []
   },
   "outputs": [],
   "source": [
    "# Miscoverage level for conformal prediction (10% allowed error rate => 90% target coverage)\n",
    "alpha = 0.1"
   ]
  },
  {
   "cell_type": "code",
   "execution_count": 36,
   "id": "eadf4555-3dd3-440e-8e35-f82a4ad9f855",
   "metadata": {
    "execution": {
     "iopub.execute_input": "2025-08-06T17:52:15.501894Z",
     "iopub.status.busy": "2025-08-06T17:52:15.501236Z",
     "iopub.status.idle": "2025-08-06T17:52:15.579863Z",
     "shell.execute_reply": "2025-08-06T17:52:15.578924Z"
    },
    "papermill": {
     "duration": 0.103318,
     "end_time": "2025-08-06T17:52:15.582683",
     "exception": false,
     "start_time": "2025-08-06T17:52:15.479365",
     "status": "completed"
    },
    "tags": []
   },
   "outputs": [],
   "source": [
    "probs_calib = model.predict_proba(X_calib)"
   ]
  },
  {
   "cell_type": "code",
   "execution_count": 37,
   "id": "2ed93547-6d5d-4983-9b36-1ecb300da49a",
   "metadata": {
    "execution": {
     "iopub.execute_input": "2025-08-06T17:52:15.628273Z",
     "iopub.status.busy": "2025-08-06T17:52:15.627725Z",
     "iopub.status.idle": "2025-08-06T17:52:15.633096Z",
     "shell.execute_reply": "2025-08-06T17:52:15.632209Z"
    },
    "papermill": {
     "duration": 0.029103,
     "end_time": "2025-08-06T17:52:15.634596",
     "exception": false,
     "start_time": "2025-08-06T17:52:15.605493",
     "status": "completed"
    },
    "tags": []
   },
   "outputs": [],
   "source": [
    "y_calib = y_calib.values.ravel().astype(int)"
   ]
  },
  {
   "cell_type": "code",
   "execution_count": 38,
   "id": "65d1320d-f588-4b38-9072-62af1ae97f7d",
   "metadata": {
    "execution": {
     "iopub.execute_input": "2025-08-06T17:52:15.678844Z",
     "iopub.status.busy": "2025-08-06T17:52:15.678095Z",
     "iopub.status.idle": "2025-08-06T17:52:15.685912Z",
     "shell.execute_reply": "2025-08-06T17:52:15.684960Z"
    },
    "papermill": {
     "duration": 0.031723,
     "end_time": "2025-08-06T17:52:15.687644",
     "exception": false,
     "start_time": "2025-08-06T17:52:15.655921",
     "status": "completed"
    },
    "tags": []
   },
   "outputs": [],
   "source": [
    "from fairness_multiverse.conformal import compute_nc_scores\n",
    "\n",
    "# Compute nonconformity scores on calibration set (1 - probability of true class)\n",
    "nc_scores = compute_nc_scores(probs_calib, y_calib)"
   ]
  },
  {
   "cell_type": "code",
   "execution_count": 39,
   "id": "df3b8ca3-53b7-43d5-9667-7c85da7aeda2",
   "metadata": {
    "execution": {
     "iopub.execute_input": "2025-08-06T17:52:15.732523Z",
     "iopub.status.busy": "2025-08-06T17:52:15.731864Z",
     "iopub.status.idle": "2025-08-06T17:52:15.738758Z",
     "shell.execute_reply": "2025-08-06T17:52:15.737892Z"
    },
    "papermill": {
     "duration": 0.030622,
     "end_time": "2025-08-06T17:52:15.740261",
     "exception": false,
     "start_time": "2025-08-06T17:52:15.709639",
     "status": "completed"
    },
    "tags": []
   },
   "outputs": [],
   "source": [
    "from fairness_multiverse.conformal import find_threshold\n",
    "\n",
    "# Find conformal threshold q_hat for the given alpha (split conformal method)\n",
    "q_hat = find_threshold(nc_scores, alpha)"
   ]
  },
  {
   "cell_type": "code",
   "execution_count": 40,
   "id": "4d29e6c1-0ef6-4aa4-b8fe-4fe79b0d033a",
   "metadata": {
    "execution": {
     "iopub.execute_input": "2025-08-06T17:52:15.784924Z",
     "iopub.status.busy": "2025-08-06T17:52:15.784069Z",
     "iopub.status.idle": "2025-08-06T17:52:15.791540Z",
     "shell.execute_reply": "2025-08-06T17:52:15.790731Z"
    },
    "papermill": {
     "duration": 0.031035,
     "end_time": "2025-08-06T17:52:15.793146",
     "exception": false,
     "start_time": "2025-08-06T17:52:15.762111",
     "status": "completed"
    },
    "tags": []
   },
   "outputs": [
    {
     "data": {
      "text/plain": [
       "0.6913076764823459"
      ]
     },
     "execution_count": 40,
     "metadata": {},
     "output_type": "execute_result"
    }
   ],
   "source": [
    "q_hat"
   ]
  },
  {
   "cell_type": "code",
   "execution_count": 41,
   "id": "92460794-cdac-4be2-ba28-f28c0515a6fb",
   "metadata": {
    "execution": {
     "iopub.execute_input": "2025-08-06T17:52:15.837750Z",
     "iopub.status.busy": "2025-08-06T17:52:15.836825Z",
     "iopub.status.idle": "2025-08-06T17:52:16.610456Z",
     "shell.execute_reply": "2025-08-06T17:52:16.609421Z"
    },
    "papermill": {
     "duration": 0.798099,
     "end_time": "2025-08-06T17:52:16.612534",
     "exception": false,
     "start_time": "2025-08-06T17:52:15.814435",
     "status": "completed"
    },
    "tags": []
   },
   "outputs": [],
   "source": [
    "from fairness_multiverse.conformal import predict_conformal_sets\n",
    "\n",
    "# Generate prediction sets for each test example\n",
    "pred_sets = predict_conformal_sets(model, X_test, q_hat)"
   ]
  },
  {
   "cell_type": "code",
   "execution_count": 42,
   "id": "d90c9a65-e6db-4f5d-80cd-e68fb7e46829",
   "metadata": {
    "execution": {
     "iopub.execute_input": "2025-08-06T17:52:16.657601Z",
     "iopub.status.busy": "2025-08-06T17:52:16.657105Z",
     "iopub.status.idle": "2025-08-06T17:52:16.663036Z",
     "shell.execute_reply": "2025-08-06T17:52:16.662073Z"
    },
    "papermill": {
     "duration": 0.030351,
     "end_time": "2025-08-06T17:52:16.664781",
     "exception": false,
     "start_time": "2025-08-06T17:52:16.634430",
     "status": "completed"
    },
    "tags": []
   },
   "outputs": [],
   "source": [
    "y_true = y_true.squeeze()"
   ]
  },
  {
   "cell_type": "code",
   "execution_count": 43,
   "id": "3a58a54a-1e68-46b9-927a-df01f18aebc8",
   "metadata": {
    "execution": {
     "iopub.execute_input": "2025-08-06T17:52:16.708501Z",
     "iopub.status.busy": "2025-08-06T17:52:16.707661Z",
     "iopub.status.idle": "2025-08-06T17:52:17.611966Z",
     "shell.execute_reply": "2025-08-06T17:52:17.610957Z"
    },
    "papermill": {
     "duration": 0.928338,
     "end_time": "2025-08-06T17:52:17.613972",
     "exception": false,
     "start_time": "2025-08-06T17:52:16.685634",
     "status": "completed"
    },
    "tags": []
   },
   "outputs": [],
   "source": [
    "from fairness_multiverse.conformal import evaluate_sets\n",
    "\n",
    "# Evaluate coverage and average set size on test data\n",
    "metrics = evaluate_sets(pred_sets, y_true)"
   ]
  },
  {
   "cell_type": "markdown",
   "id": "2b569c12-9aaa-4c88-98c9-bbcd0cf3ebb8",
   "metadata": {
    "papermill": {
     "duration": 0.021557,
     "end_time": "2025-08-06T17:52:17.658502",
     "exception": false,
     "start_time": "2025-08-06T17:52:17.636945",
     "status": "completed"
    },
    "tags": []
   },
   "source": [
    "# CP Metrics"
   ]
  },
  {
   "cell_type": "code",
   "execution_count": 44,
   "id": "5ce0a5cb-201f-45a0-ade5-94c7f0bd6095",
   "metadata": {
    "execution": {
     "iopub.execute_input": "2025-08-06T17:52:17.703329Z",
     "iopub.status.busy": "2025-08-06T17:52:17.702673Z",
     "iopub.status.idle": "2025-08-06T17:52:17.710088Z",
     "shell.execute_reply": "2025-08-06T17:52:17.709116Z"
    },
    "papermill": {
     "duration": 0.031464,
     "end_time": "2025-08-06T17:52:17.711659",
     "exception": false,
     "start_time": "2025-08-06T17:52:17.680195",
     "status": "completed"
    },
    "tags": []
   },
   "outputs": [
    {
     "data": {
      "text/plain": [
       "{'coverage': 0.9090848288930999, 'avg_size': 1.2262289599821647}"
      ]
     },
     "execution_count": 44,
     "metadata": {},
     "output_type": "execute_result"
    }
   ],
   "source": [
    "metrics"
   ]
  },
  {
   "cell_type": "code",
   "execution_count": 45,
   "id": "9b9a838d-31c9-430b-ae14-12baee460d17",
   "metadata": {
    "execution": {
     "iopub.execute_input": "2025-08-06T17:52:17.756468Z",
     "iopub.status.busy": "2025-08-06T17:52:17.755945Z",
     "iopub.status.idle": "2025-08-06T17:52:17.762546Z",
     "shell.execute_reply": "2025-08-06T17:52:17.761642Z"
    },
    "papermill": {
     "duration": 0.030351,
     "end_time": "2025-08-06T17:52:17.764232",
     "exception": false,
     "start_time": "2025-08-06T17:52:17.733881",
     "status": "completed"
    },
    "tags": []
   },
   "outputs": [],
   "source": [
    "example_universe = universe.copy()\n",
    "universe_training_year = example_universe.get(\"training_year\")\n",
    "universe_training_size = example_universe.get(\"training_size\")\n",
    "universe_scale = example_universe.get(\"scale\")\n",
    "universe_model = example_universe.get(\"model\")\n",
    "universe_exclude_features = example_universe.get(\"exclude_features\")\n",
    "universe_exclude_subgroups = example_universe.get(\"exclude_subgroups\")"
   ]
  },
  {
   "cell_type": "code",
   "execution_count": 46,
   "id": "f4b6a8ac-9dc0-4245-8a91-5b3b5999c4f9",
   "metadata": {
    "execution": {
     "iopub.execute_input": "2025-08-06T17:52:17.810028Z",
     "iopub.status.busy": "2025-08-06T17:52:17.809545Z",
     "iopub.status.idle": "2025-08-06T17:52:17.816352Z",
     "shell.execute_reply": "2025-08-06T17:52:17.815223Z"
    },
    "papermill": {
     "duration": 0.031913,
     "end_time": "2025-08-06T17:52:17.818037",
     "exception": false,
     "start_time": "2025-08-06T17:52:17.786124",
     "status": "completed"
    },
    "tags": []
   },
   "outputs": [],
   "source": [
    "cp_metrics_dict = {\n",
    "    \"universe_id\": [universe_id],\n",
    "    \"universe_training_year\": [universe_training_year],\n",
    "    \"universe_training_size\": [universe_training_size],\n",
    "    \"universe_scale\": [universe_scale],\n",
    "    \"universe_model\": [universe_model],\n",
    "    \"universe_exclude_features\": [universe_exclude_features],\n",
    "    \"universe_exclude_subgroups\": [universe_exclude_subgroups],\n",
    "    \"q_hat\": [q_hat],\n",
    "    \"coverage\": [metrics[\"coverage\"]],\n",
    "    \"avg_size\": [metrics[\"avg_size\"]],\n",
    "}"
   ]
  },
  {
   "cell_type": "code",
   "execution_count": 47,
   "id": "33007efc-14e9-4ec6-97ac-56a455c82265",
   "metadata": {
    "execution": {
     "iopub.execute_input": "2025-08-06T17:52:17.864088Z",
     "iopub.status.busy": "2025-08-06T17:52:17.863625Z",
     "iopub.status.idle": "2025-08-06T17:52:17.869903Z",
     "shell.execute_reply": "2025-08-06T17:52:17.868903Z"
    },
    "papermill": {
     "duration": 0.030553,
     "end_time": "2025-08-06T17:52:17.871428",
     "exception": false,
     "start_time": "2025-08-06T17:52:17.840875",
     "status": "completed"
    },
    "tags": []
   },
   "outputs": [],
   "source": [
    "cp_metrics_df = pd.DataFrame(cp_metrics_dict)"
   ]
  },
  {
   "cell_type": "code",
   "execution_count": 48,
   "id": "db12611b-57b2-4910-b9d0-355adfd6e7bf",
   "metadata": {
    "execution": {
     "iopub.execute_input": "2025-08-06T17:52:17.917533Z",
     "iopub.status.busy": "2025-08-06T17:52:17.917067Z",
     "iopub.status.idle": "2025-08-06T17:52:17.932914Z",
     "shell.execute_reply": "2025-08-06T17:52:17.931931Z"
    },
    "papermill": {
     "duration": 0.040831,
     "end_time": "2025-08-06T17:52:17.934522",
     "exception": false,
     "start_time": "2025-08-06T17:52:17.893691",
     "status": "completed"
    },
    "tags": []
   },
   "outputs": [
    {
     "data": {
      "text/html": [
       "<div>\n",
       "<style scoped>\n",
       "    .dataframe tbody tr th:only-of-type {\n",
       "        vertical-align: middle;\n",
       "    }\n",
       "\n",
       "    .dataframe tbody tr th {\n",
       "        vertical-align: top;\n",
       "    }\n",
       "\n",
       "    .dataframe thead th {\n",
       "        text-align: right;\n",
       "    }\n",
       "</style>\n",
       "<table border=\"1\" class=\"dataframe\">\n",
       "  <thead>\n",
       "    <tr style=\"text-align: right;\">\n",
       "      <th></th>\n",
       "      <th>universe_id</th>\n",
       "      <th>universe_training_year</th>\n",
       "      <th>universe_training_size</th>\n",
       "      <th>universe_scale</th>\n",
       "      <th>universe_model</th>\n",
       "      <th>universe_exclude_features</th>\n",
       "      <th>universe_exclude_subgroups</th>\n",
       "      <th>q_hat</th>\n",
       "      <th>coverage</th>\n",
       "      <th>avg_size</th>\n",
       "    </tr>\n",
       "  </thead>\n",
       "  <tbody>\n",
       "    <tr>\n",
       "      <th>0</th>\n",
       "      <td>ee4e90691f0929890a847140a2a47f89</td>\n",
       "      <td>2014</td>\n",
       "      <td>1k</td>\n",
       "      <td>do-not-scale</td>\n",
       "      <td>penalized_logreg</td>\n",
       "      <td>nationality</td>\n",
       "      <td>keep-all</td>\n",
       "      <td>0.691308</td>\n",
       "      <td>0.909085</td>\n",
       "      <td>1.226229</td>\n",
       "    </tr>\n",
       "  </tbody>\n",
       "</table>\n",
       "</div>"
      ],
      "text/plain": [
       "                        universe_id universe_training_year  \\\n",
       "0  ee4e90691f0929890a847140a2a47f89                   2014   \n",
       "\n",
       "  universe_training_size universe_scale    universe_model  \\\n",
       "0                     1k   do-not-scale  penalized_logreg   \n",
       "\n",
       "  universe_exclude_features universe_exclude_subgroups     q_hat  coverage  \\\n",
       "0               nationality                   keep-all  0.691308  0.909085   \n",
       "\n",
       "   avg_size  \n",
       "0  1.226229  "
      ]
     },
     "execution_count": 48,
     "metadata": {},
     "output_type": "execute_result"
    }
   ],
   "source": [
    "cp_metrics_df"
   ]
  },
  {
   "cell_type": "markdown",
   "id": "c825ecb4-0d3d-41d6-b7c6-eccb21272259",
   "metadata": {
    "papermill": {
     "duration": 0.021912,
     "end_time": "2025-08-06T17:52:17.978160",
     "exception": false,
     "start_time": "2025-08-06T17:52:17.956248",
     "status": "completed"
    },
    "tags": []
   },
   "source": [
    "Conditional coverage & looking at subgroups"
   ]
  },
  {
   "cell_type": "code",
   "execution_count": 49,
   "id": "027ae886-68dd-4141-96c7-805a5450e1ef",
   "metadata": {
    "execution": {
     "iopub.execute_input": "2025-08-06T17:52:18.022194Z",
     "iopub.status.busy": "2025-08-06T17:52:18.021730Z",
     "iopub.status.idle": "2025-08-06T17:52:18.283633Z",
     "shell.execute_reply": "2025-08-06T17:52:18.282617Z"
    },
    "papermill": {
     "duration": 0.28689,
     "end_time": "2025-08-06T17:52:18.285876",
     "exception": false,
     "start_time": "2025-08-06T17:52:17.998986",
     "status": "completed"
    },
    "tags": []
   },
   "outputs": [],
   "source": [
    "from fairness_multiverse.conformal import build_cp_groups\n",
    "\n",
    "cp_groups_df = build_cp_groups(pred_sets, y_true, X_test.index, org_test)"
   ]
  },
  {
   "cell_type": "code",
   "execution_count": 50,
   "id": "6cbdab96-b2b2-45af-ad54-d0516db2e28d",
   "metadata": {
    "execution": {
     "iopub.execute_input": "2025-08-06T17:52:18.337099Z",
     "iopub.status.busy": "2025-08-06T17:52:18.336591Z",
     "iopub.status.idle": "2025-08-06T17:52:19.988812Z",
     "shell.execute_reply": "2025-08-06T17:52:19.987776Z"
    },
    "papermill": {
     "duration": 1.679842,
     "end_time": "2025-08-06T17:52:19.990690",
     "exception": false,
     "start_time": "2025-08-06T17:52:18.310848",
     "status": "completed"
    },
    "tags": []
   },
   "outputs": [],
   "source": [
    "# Define covered = 1 if true_label is in the predicted set\n",
    "cp_groups_df['covered'] = cp_groups_df.apply(\n",
    "    lambda r: int(r['true_label'] in r['pred_set']),\n",
    "    axis=1\n",
    ")"
   ]
  },
  {
   "cell_type": "code",
   "execution_count": 51,
   "id": "90032e27-66df-4540-9169-4e89cfbaa758",
   "metadata": {
    "execution": {
     "iopub.execute_input": "2025-08-06T17:52:20.041115Z",
     "iopub.status.busy": "2025-08-06T17:52:20.039104Z",
     "iopub.status.idle": "2025-08-06T17:52:20.052662Z",
     "shell.execute_reply": "2025-08-06T17:52:20.051535Z"
    },
    "papermill": {
     "duration": 0.039319,
     "end_time": "2025-08-06T17:52:20.054540",
     "exception": false,
     "start_time": "2025-08-06T17:52:20.015221",
     "status": "completed"
    },
    "tags": []
   },
   "outputs": [],
   "source": [
    "subgroups = ['frau1','nongerman','nongerman_male','nongerman_female']\n",
    "\n",
    "# Conditional coverage for subgroup==1\n",
    "cond_coverage = {\n",
    "    g: cp_groups_df.loc[cp_groups_df[g]==1, 'covered'].mean()\n",
    "    for g in subgroups\n",
    "}"
   ]
  },
  {
   "cell_type": "code",
   "execution_count": 52,
   "id": "1e348fb1-b9c3-45bc-ba23-f016827a7e0d",
   "metadata": {
    "execution": {
     "iopub.execute_input": "2025-08-06T17:52:20.104126Z",
     "iopub.status.busy": "2025-08-06T17:52:20.103635Z",
     "iopub.status.idle": "2025-08-06T17:52:20.111415Z",
     "shell.execute_reply": "2025-08-06T17:52:20.110496Z"
    },
    "papermill": {
     "duration": 0.035141,
     "end_time": "2025-08-06T17:52:20.113115",
     "exception": false,
     "start_time": "2025-08-06T17:52:20.077974",
     "status": "completed"
    },
    "tags": []
   },
   "outputs": [
    {
     "data": {
      "text/plain": [
       "{'frau1': 0.9075616659927214,\n",
       " 'nongerman': 0.9331387189131534,\n",
       " 'nongerman_male': 0.9454201567144015,\n",
       " 'nongerman_female': 0.912816691505216}"
      ]
     },
     "execution_count": 52,
     "metadata": {},
     "output_type": "execute_result"
    }
   ],
   "source": [
    "cond_coverage"
   ]
  },
  {
   "cell_type": "code",
   "execution_count": 53,
   "id": "f5093324-c3dd-4d63-bc4c-8d945e5c8bbb",
   "metadata": {
    "execution": {
     "iopub.execute_input": "2025-08-06T17:52:20.160540Z",
     "iopub.status.busy": "2025-08-06T17:52:20.159806Z",
     "iopub.status.idle": "2025-08-06T17:52:20.167915Z",
     "shell.execute_reply": "2025-08-06T17:52:20.166148Z"
    },
    "papermill": {
     "duration": 0.032922,
     "end_time": "2025-08-06T17:52:20.169593",
     "exception": false,
     "start_time": "2025-08-06T17:52:20.136671",
     "status": "completed"
    },
    "tags": []
   },
   "outputs": [],
   "source": [
    "for subgroup, cov in cond_coverage.items():\n",
    "    cp_metrics_df[f\"cov_{subgroup}\"] = cov"
   ]
  },
  {
   "cell_type": "code",
   "execution_count": 54,
   "id": "6e872e10-dbe5-49e8-b554-5030c98ff75d",
   "metadata": {
    "execution": {
     "iopub.execute_input": "2025-08-06T17:52:20.218041Z",
     "iopub.status.busy": "2025-08-06T17:52:20.217490Z",
     "iopub.status.idle": "2025-08-06T17:52:20.237344Z",
     "shell.execute_reply": "2025-08-06T17:52:20.236434Z"
    },
    "papermill": {
     "duration": 0.044922,
     "end_time": "2025-08-06T17:52:20.238988",
     "exception": false,
     "start_time": "2025-08-06T17:52:20.194066",
     "status": "completed"
    },
    "tags": []
   },
   "outputs": [
    {
     "data": {
      "text/html": [
       "<div>\n",
       "<style scoped>\n",
       "    .dataframe tbody tr th:only-of-type {\n",
       "        vertical-align: middle;\n",
       "    }\n",
       "\n",
       "    .dataframe tbody tr th {\n",
       "        vertical-align: top;\n",
       "    }\n",
       "\n",
       "    .dataframe thead th {\n",
       "        text-align: right;\n",
       "    }\n",
       "</style>\n",
       "<table border=\"1\" class=\"dataframe\">\n",
       "  <thead>\n",
       "    <tr style=\"text-align: right;\">\n",
       "      <th></th>\n",
       "      <th>universe_id</th>\n",
       "      <th>universe_training_year</th>\n",
       "      <th>universe_training_size</th>\n",
       "      <th>universe_scale</th>\n",
       "      <th>universe_model</th>\n",
       "      <th>universe_exclude_features</th>\n",
       "      <th>universe_exclude_subgroups</th>\n",
       "      <th>q_hat</th>\n",
       "      <th>coverage</th>\n",
       "      <th>avg_size</th>\n",
       "      <th>cov_frau1</th>\n",
       "      <th>cov_nongerman</th>\n",
       "      <th>cov_nongerman_male</th>\n",
       "      <th>cov_nongerman_female</th>\n",
       "    </tr>\n",
       "  </thead>\n",
       "  <tbody>\n",
       "    <tr>\n",
       "      <th>0</th>\n",
       "      <td>ee4e90691f0929890a847140a2a47f89</td>\n",
       "      <td>2014</td>\n",
       "      <td>1k</td>\n",
       "      <td>do-not-scale</td>\n",
       "      <td>penalized_logreg</td>\n",
       "      <td>nationality</td>\n",
       "      <td>keep-all</td>\n",
       "      <td>0.691308</td>\n",
       "      <td>0.909085</td>\n",
       "      <td>1.226229</td>\n",
       "      <td>0.907562</td>\n",
       "      <td>0.933139</td>\n",
       "      <td>0.94542</td>\n",
       "      <td>0.912817</td>\n",
       "    </tr>\n",
       "  </tbody>\n",
       "</table>\n",
       "</div>"
      ],
      "text/plain": [
       "                        universe_id universe_training_year  \\\n",
       "0  ee4e90691f0929890a847140a2a47f89                   2014   \n",
       "\n",
       "  universe_training_size universe_scale    universe_model  \\\n",
       "0                     1k   do-not-scale  penalized_logreg   \n",
       "\n",
       "  universe_exclude_features universe_exclude_subgroups     q_hat  coverage  \\\n",
       "0               nationality                   keep-all  0.691308  0.909085   \n",
       "\n",
       "   avg_size  cov_frau1  cov_nongerman  cov_nongerman_male  \\\n",
       "0  1.226229   0.907562       0.933139             0.94542   \n",
       "\n",
       "   cov_nongerman_female  \n",
       "0              0.912817  "
      ]
     },
     "execution_count": 54,
     "metadata": {},
     "output_type": "execute_result"
    }
   ],
   "source": [
    "cp_metrics_df"
   ]
  },
  {
   "cell_type": "markdown",
   "id": "33774451",
   "metadata": {
    "papermill": {
     "duration": 0.022215,
     "end_time": "2025-08-06T17:52:20.285151",
     "exception": false,
     "start_time": "2025-08-06T17:52:20.262936",
     "status": "completed"
    },
    "tags": []
   },
   "source": [
    "# (Fairness) Metrics"
   ]
  },
  {
   "cell_type": "code",
   "execution_count": 55,
   "id": "debc5d62",
   "metadata": {
    "execution": {
     "iopub.execute_input": "2025-08-06T17:52:20.332739Z",
     "iopub.status.busy": "2025-08-06T17:52:20.332186Z",
     "iopub.status.idle": "2025-08-06T17:52:20.353814Z",
     "shell.execute_reply": "2025-08-06T17:52:20.352817Z"
    },
    "papermill": {
     "duration": 0.047534,
     "end_time": "2025-08-06T17:52:20.355622",
     "exception": false,
     "start_time": "2025-08-06T17:52:20.308088",
     "status": "completed"
    },
    "tags": []
   },
   "outputs": [],
   "source": [
    "colname_to_bin = \"maxdeutsch1\"\n",
    "majority_value = org_train[colname_to_bin].mode()[0]\n",
    "\n",
    "org_test[\"majmin\"] = np.where(org_test[colname_to_bin] == majority_value, \"majority\", \"minority\")"
   ]
  },
  {
   "cell_type": "code",
   "execution_count": 56,
   "id": "06a50de5",
   "metadata": {
    "execution": {
     "iopub.execute_input": "2025-08-06T17:52:20.404143Z",
     "iopub.status.busy": "2025-08-06T17:52:20.403647Z",
     "iopub.status.idle": "2025-08-06T17:52:22.318398Z",
     "shell.execute_reply": "2025-08-06T17:52:22.317596Z"
    },
    "papermill": {
     "duration": 1.940288,
     "end_time": "2025-08-06T17:52:22.319821",
     "exception": false,
     "start_time": "2025-08-06T17:52:20.379533",
     "status": "completed"
    },
    "tags": []
   },
   "outputs": [],
   "source": [
    "example_universe = universe.copy()\n",
    "example_universe[\"cutoff\"] = example_universe[\"cutoff\"][0]\n",
    "example_universe[\"eval_fairness_grouping\"] = example_universe[\"eval_fairness_grouping\"][0]\n",
    "fairness_dict, metric_frame = universe_analysis.compute_metrics(\n",
    "    example_universe,\n",
    "    y_pred_prob=probs_test,\n",
    "    y_test=y_true,\n",
    "    org_test=org_test,\n",
    ")"
   ]
  },
  {
   "cell_type": "markdown",
   "id": "f95d4e02",
   "metadata": {
    "papermill": {
     "duration": 0.013144,
     "end_time": "2025-08-06T17:52:22.345633",
     "exception": false,
     "start_time": "2025-08-06T17:52:22.332489",
     "status": "completed"
    },
    "tags": []
   },
   "source": [
    "# Overall"
   ]
  },
  {
   "cell_type": "markdown",
   "id": "bdee4871",
   "metadata": {
    "papermill": {
     "duration": 0.023738,
     "end_time": "2025-08-06T17:52:22.396065",
     "exception": false,
     "start_time": "2025-08-06T17:52:22.372327",
     "status": "completed"
    },
    "tags": []
   },
   "source": [
    "Main fairness target: Equalized Odds. Seems to be a better fit than equal opportunity, since we're not only interested in Y = 1. Seems to be a better fit than demographic parity, since we also care about accuracy, not just equal distribution of preds.\n",
    "\n",
    "Pick column for computation of fairness metrics\n",
    "\n",
    "Performance\n",
    "Overall performance measures, most interesting in relation to the measures split by group below"
   ]
  },
  {
   "cell_type": "code",
   "execution_count": 57,
   "id": "c4e067c6",
   "metadata": {
    "execution": {
     "iopub.execute_input": "2025-08-06T17:52:22.446085Z",
     "iopub.status.busy": "2025-08-06T17:52:22.445146Z",
     "iopub.status.idle": "2025-08-06T17:52:22.453826Z",
     "shell.execute_reply": "2025-08-06T17:52:22.452966Z"
    },
    "papermill": {
     "duration": 0.035149,
     "end_time": "2025-08-06T17:52:22.455499",
     "exception": false,
     "start_time": "2025-08-06T17:52:22.420350",
     "status": "completed"
    },
    "tags": []
   },
   "outputs": [
    {
     "data": {
      "text/plain": [
       "accuracy                   0.217066\n",
       "balanced accuracy          0.532287\n",
       "f1                         0.238599\n",
       "precision                  0.136303\n",
       "false positive rate        0.891716\n",
       "false negative rate        0.043709\n",
       "selection rate             0.900000\n",
       "count                  89710.000000\n",
       "dtype: float64"
      ]
     },
     "execution_count": 57,
     "metadata": {},
     "output_type": "execute_result"
    }
   ],
   "source": [
    "metric_frame.overall"
   ]
  },
  {
   "cell_type": "markdown",
   "id": "e968fe9d",
   "metadata": {
    "papermill": {
     "duration": 0.024395,
     "end_time": "2025-08-06T17:52:22.503914",
     "exception": false,
     "start_time": "2025-08-06T17:52:22.479519",
     "status": "completed"
    },
    "tags": []
   },
   "source": [
    "By Group"
   ]
  },
  {
   "cell_type": "code",
   "execution_count": 58,
   "id": "ec325bce",
   "metadata": {
    "execution": {
     "iopub.execute_input": "2025-08-06T17:52:22.553334Z",
     "iopub.status.busy": "2025-08-06T17:52:22.552547Z",
     "iopub.status.idle": "2025-08-06T17:52:22.568546Z",
     "shell.execute_reply": "2025-08-06T17:52:22.567416Z"
    },
    "papermill": {
     "duration": 0.042685,
     "end_time": "2025-08-06T17:52:22.570163",
     "exception": false,
     "start_time": "2025-08-06T17:52:22.527478",
     "status": "completed"
    },
    "tags": []
   },
   "outputs": [
    {
     "data": {
      "text/html": [
       "<div>\n",
       "<style scoped>\n",
       "    .dataframe tbody tr th:only-of-type {\n",
       "        vertical-align: middle;\n",
       "    }\n",
       "\n",
       "    .dataframe tbody tr th {\n",
       "        vertical-align: top;\n",
       "    }\n",
       "\n",
       "    .dataframe thead th {\n",
       "        text-align: right;\n",
       "    }\n",
       "</style>\n",
       "<table border=\"1\" class=\"dataframe\">\n",
       "  <thead>\n",
       "    <tr style=\"text-align: right;\">\n",
       "      <th></th>\n",
       "      <th>accuracy</th>\n",
       "      <th>balanced accuracy</th>\n",
       "      <th>f1</th>\n",
       "      <th>precision</th>\n",
       "      <th>false positive rate</th>\n",
       "      <th>false negative rate</th>\n",
       "      <th>selection rate</th>\n",
       "      <th>count</th>\n",
       "    </tr>\n",
       "    <tr>\n",
       "      <th>majmin</th>\n",
       "      <th></th>\n",
       "      <th></th>\n",
       "      <th></th>\n",
       "      <th></th>\n",
       "      <th></th>\n",
       "      <th></th>\n",
       "      <th></th>\n",
       "      <th></th>\n",
       "    </tr>\n",
       "  </thead>\n",
       "  <tbody>\n",
       "    <tr>\n",
       "      <th>majority</th>\n",
       "      <td>0.237878</td>\n",
       "      <td>0.540004</td>\n",
       "      <td>0.247924</td>\n",
       "      <td>0.142550</td>\n",
       "      <td>0.870648</td>\n",
       "      <td>0.049344</td>\n",
       "      <td>0.881220</td>\n",
       "      <td>69170.0</td>\n",
       "    </tr>\n",
       "    <tr>\n",
       "      <th>minority</th>\n",
       "      <td>0.146981</td>\n",
       "      <td>0.508363</td>\n",
       "      <td>0.209091</td>\n",
       "      <td>0.117058</td>\n",
       "      <td>0.961314</td>\n",
       "      <td>0.021959</td>\n",
       "      <td>0.963242</td>\n",
       "      <td>20540.0</td>\n",
       "    </tr>\n",
       "  </tbody>\n",
       "</table>\n",
       "</div>"
      ],
      "text/plain": [
       "          accuracy  balanced accuracy        f1  precision  \\\n",
       "majmin                                                       \n",
       "majority  0.237878           0.540004  0.247924   0.142550   \n",
       "minority  0.146981           0.508363  0.209091   0.117058   \n",
       "\n",
       "          false positive rate  false negative rate  selection rate    count  \n",
       "majmin                                                                       \n",
       "majority             0.870648             0.049344        0.881220  69170.0  \n",
       "minority             0.961314             0.021959        0.963242  20540.0  "
      ]
     },
     "execution_count": 58,
     "metadata": {},
     "output_type": "execute_result"
    }
   ],
   "source": [
    "metric_frame.by_group"
   ]
  },
  {
   "cell_type": "code",
   "execution_count": 59,
   "id": "a9ddbe63",
   "metadata": {
    "execution": {
     "iopub.execute_input": "2025-08-06T17:52:22.622009Z",
     "iopub.status.busy": "2025-08-06T17:52:22.621121Z",
     "iopub.status.idle": "2025-08-06T17:52:25.036889Z",
     "shell.execute_reply": "2025-08-06T17:52:25.035759Z"
    },
    "papermill": {
     "duration": 2.443922,
     "end_time": "2025-08-06T17:52:25.039249",
     "exception": false,
     "start_time": "2025-08-06T17:52:22.595327",
     "status": "completed"
    },
    "tags": []
   },
   "outputs": [
    {
     "data": {
      "text/plain": [
       "array([[<Axes: title={'center': 'accuracy'}, xlabel='majmin'>,\n",
       "        <Axes: title={'center': 'balanced accuracy'}, xlabel='majmin'>,\n",
       "        <Axes: title={'center': 'f1'}, xlabel='majmin'>],\n",
       "       [<Axes: title={'center': 'precision'}, xlabel='majmin'>,\n",
       "        <Axes: title={'center': 'false positive rate'}, xlabel='majmin'>,\n",
       "        <Axes: title={'center': 'false negative rate'}, xlabel='majmin'>],\n",
       "       [<Axes: title={'center': 'selection rate'}, xlabel='majmin'>,\n",
       "        <Axes: title={'center': 'count'}, xlabel='majmin'>,\n",
       "        <Axes: xlabel='majmin'>]], dtype=object)"
      ]
     },
     "execution_count": 59,
     "metadata": {},
     "output_type": "execute_result"
    },
    {
     "data": {
      "image/png": "[encoded data removed]",
      "text/plain": [
       "<Figure size 1200x800 with 9 Axes>"
      ]
     },
     "metadata": {},
     "output_type": "display_data"
    }
   ],
   "source": [
    "# In a graphic\n",
    "metric_frame.by_group.plot.bar(\n",
    "    subplots=True,\n",
    "    layout=[3, 3],\n",
    "    legend=False,\n",
    "    figsize=[12, 8],\n",
    "    title=\"Show all metrics\",\n",
    ")"
   ]
  },
  {
   "cell_type": "markdown",
   "id": "f57a0bac",
   "metadata": {
    "papermill": {
     "duration": 0.035965,
     "end_time": "2025-08-06T17:52:25.113306",
     "exception": false,
     "start_time": "2025-08-06T17:52:25.077341",
     "status": "completed"
    },
    "tags": []
   },
   "source": [
    "# Final Output"
   ]
  },
  {
   "cell_type": "code",
   "execution_count": 60,
   "id": "96d280a3",
   "metadata": {
    "execution": {
     "iopub.execute_input": "2025-08-06T17:52:25.187718Z",
     "iopub.status.busy": "2025-08-06T17:52:25.186649Z",
     "iopub.status.idle": "2025-08-06T17:52:25.195577Z",
     "shell.execute_reply": "2025-08-06T17:52:25.194419Z"
    },
    "papermill": {
     "duration": 0.048599,
     "end_time": "2025-08-06T17:52:25.197705",
     "exception": false,
     "start_time": "2025-08-06T17:52:25.149106",
     "status": "completed"
    },
    "tags": []
   },
   "outputs": [
    {
     "data": {
      "text/plain": [
       "4"
      ]
     },
     "execution_count": 60,
     "metadata": {},
     "output_type": "execute_result"
    }
   ],
   "source": [
    "sub_universes = universe_analysis.generate_sub_universes()\n",
    "len(sub_universes)"
   ]
  },
  {
   "cell_type": "code",
   "execution_count": 61,
   "id": "92adf7ba",
   "metadata": {
    "execution": {
     "iopub.execute_input": "2025-08-06T17:52:25.271567Z",
     "iopub.status.busy": "2025-08-06T17:52:25.270760Z",
     "iopub.status.idle": "2025-08-06T17:52:25.277992Z",
     "shell.execute_reply": "2025-08-06T17:52:25.276845Z"
    },
    "papermill": {
     "duration": 0.046554,
     "end_time": "2025-08-06T17:52:25.280191",
     "exception": false,
     "start_time": "2025-08-06T17:52:25.233637",
     "status": "completed"
    },
    "tags": []
   },
   "outputs": [],
   "source": [
    "def filter_sub_universe_data(sub_universe, org_test):\n",
    "    # Keep all rows — no filtering\n",
    "    keep_rows_mask = np.ones(org_test.shape[0], dtype=bool)\n",
    "\n",
    "    print(f\"[INFO] Keeping all rows: {keep_rows_mask.sum()} rows retained.\")\n",
    "    return keep_rows_mask"
   ]
  },
  {
   "cell_type": "code",
   "execution_count": 62,
   "id": "4a759155",
   "metadata": {
    "execution": {
     "iopub.execute_input": "2025-08-06T17:52:25.345392Z",
     "iopub.status.busy": "2025-08-06T17:52:25.344854Z",
     "iopub.status.idle": "2025-08-06T17:52:33.735271Z",
     "shell.execute_reply": "2025-08-06T17:52:33.734534Z"
    },
    "papermill": {
     "duration": 8.420592,
     "end_time": "2025-08-06T17:52:33.737369",
     "exception": false,
     "start_time": "2025-08-06T17:52:25.316777",
     "status": "completed"
    },
    "tags": []
   },
   "outputs": [
    {
     "name": "stdout",
     "output_type": "stream",
     "text": [
      "Stopping execution_time clock.\n",
      "[INFO] Keeping all rows: 89710 rows retained.\n"
     ]
    },
    {
     "name": "stdout",
     "output_type": "stream",
     "text": [
      "[INFO] Keeping all rows: 89710 rows retained.\n"
     ]
    },
    {
     "name": "stdout",
     "output_type": "stream",
     "text": [
      "[INFO] Keeping all rows: 89710 rows retained.\n"
     ]
    },
    {
     "name": "stdout",
     "output_type": "stream",
     "text": [
      "[INFO] Keeping all rows: 89710 rows retained.\n"
     ]
    },
    {
     "data": {
      "text/html": [
       "<div>\n",
       "<style scoped>\n",
       "    .dataframe tbody tr th:only-of-type {\n",
       "        vertical-align: middle;\n",
       "    }\n",
       "\n",
       "    .dataframe tbody tr th {\n",
       "        vertical-align: top;\n",
       "    }\n",
       "\n",
       "    .dataframe thead th {\n",
       "        text-align: right;\n",
       "    }\n",
       "</style>\n",
       "<table border=\"1\" class=\"dataframe\">\n",
       "  <thead>\n",
       "    <tr style=\"text-align: right;\">\n",
       "      <th></th>\n",
       "      <th>run_no</th>\n",
       "      <th>universe_id</th>\n",
       "      <th>universe_settings</th>\n",
       "      <th>execution_time</th>\n",
       "      <th>test_size_n</th>\n",
       "      <th>test_size_frac</th>\n",
       "      <th>fair_main_equalized_odds_difference</th>\n",
       "      <th>fair_main_equalized_odds_ratio</th>\n",
       "      <th>fair_main_demographic_parity_difference</th>\n",
       "      <th>fair_main_demographic_parity_ratio</th>\n",
       "      <th>...</th>\n",
       "      <th>perf_grp_precision_0</th>\n",
       "      <th>perf_grp_precision_1</th>\n",
       "      <th>perf_grp_false positive rate_0</th>\n",
       "      <th>perf_grp_false positive rate_1</th>\n",
       "      <th>perf_grp_false negative rate_0</th>\n",
       "      <th>perf_grp_false negative rate_1</th>\n",
       "      <th>perf_grp_selection rate_0</th>\n",
       "      <th>perf_grp_selection rate_1</th>\n",
       "      <th>perf_grp_count_0</th>\n",
       "      <th>perf_grp_count_1</th>\n",
       "    </tr>\n",
       "  </thead>\n",
       "  <tbody>\n",
       "    <tr>\n",
       "      <th>0</th>\n",
       "      <td>1</td>\n",
       "      <td>ee4e90691f0929890a847140a2a47f89</td>\n",
       "      <td>{\"cutoff\": \"quantile_0.1\", \"eval_fairness_grou...</td>\n",
       "      <td>24.540124</td>\n",
       "      <td>89710</td>\n",
       "      <td>1.0</td>\n",
       "      <td>0.090666</td>\n",
       "      <td>0.905685</td>\n",
       "      <td>0.082022</td>\n",
       "      <td>0.914848</td>\n",
       "      <td>...</td>\n",
       "      <td>NaN</td>\n",
       "      <td>NaN</td>\n",
       "      <td>NaN</td>\n",
       "      <td>NaN</td>\n",
       "      <td>NaN</td>\n",
       "      <td>NaN</td>\n",
       "      <td>NaN</td>\n",
       "      <td>NaN</td>\n",
       "      <td>NaN</td>\n",
       "      <td>NaN</td>\n",
       "    </tr>\n",
       "    <tr>\n",
       "      <th>0</th>\n",
       "      <td>1</td>\n",
       "      <td>ee4e90691f0929890a847140a2a47f89</td>\n",
       "      <td>{\"cutoff\": \"quantile_0.1\", \"eval_fairness_grou...</td>\n",
       "      <td>24.540124</td>\n",
       "      <td>89710</td>\n",
       "      <td>1.0</td>\n",
       "      <td>0.090666</td>\n",
       "      <td>0.905685</td>\n",
       "      <td>0.082022</td>\n",
       "      <td>0.914848</td>\n",
       "      <td>...</td>\n",
       "      <td>0.117058</td>\n",
       "      <td>0.14255</td>\n",
       "      <td>0.961314</td>\n",
       "      <td>0.870648</td>\n",
       "      <td>0.021959</td>\n",
       "      <td>0.049344</td>\n",
       "      <td>0.963242</td>\n",
       "      <td>0.881220</td>\n",
       "      <td>20540.0</td>\n",
       "      <td>69170.0</td>\n",
       "    </tr>\n",
       "    <tr>\n",
       "      <th>0</th>\n",
       "      <td>1</td>\n",
       "      <td>ee4e90691f0929890a847140a2a47f89</td>\n",
       "      <td>{\"cutoff\": \"quantile_0.25\", \"eval_fairness_gro...</td>\n",
       "      <td>24.540124</td>\n",
       "      <td>89710</td>\n",
       "      <td>1.0</td>\n",
       "      <td>0.208578</td>\n",
       "      <td>0.766379</td>\n",
       "      <td>0.190887</td>\n",
       "      <td>0.787235</td>\n",
       "      <td>...</td>\n",
       "      <td>NaN</td>\n",
       "      <td>NaN</td>\n",
       "      <td>NaN</td>\n",
       "      <td>NaN</td>\n",
       "      <td>NaN</td>\n",
       "      <td>NaN</td>\n",
       "      <td>NaN</td>\n",
       "      <td>NaN</td>\n",
       "      <td>NaN</td>\n",
       "      <td>NaN</td>\n",
       "    </tr>\n",
       "    <tr>\n",
       "      <th>0</th>\n",
       "      <td>1</td>\n",
       "      <td>ee4e90691f0929890a847140a2a47f89</td>\n",
       "      <td>{\"cutoff\": \"quantile_0.25\", \"eval_fairness_gro...</td>\n",
       "      <td>24.540124</td>\n",
       "      <td>89710</td>\n",
       "      <td>1.0</td>\n",
       "      <td>0.208578</td>\n",
       "      <td>0.766379</td>\n",
       "      <td>0.190887</td>\n",
       "      <td>0.787235</td>\n",
       "      <td>...</td>\n",
       "      <td>0.119601</td>\n",
       "      <td>0.15925</td>\n",
       "      <td>0.892802</td>\n",
       "      <td>0.684225</td>\n",
       "      <td>0.069257</td>\n",
       "      <td>0.148796</td>\n",
       "      <td>0.897176</td>\n",
       "      <td>0.706289</td>\n",
       "      <td>20540.0</td>\n",
       "      <td>69170.0</td>\n",
       "    </tr>\n",
       "  </tbody>\n",
       "</table>\n",
       "<p>4 rows × 50 columns</p>\n",
       "</div>"
      ],
      "text/plain": [
       "  run_no                       universe_id  \\\n",
       "0      1  ee4e90691f0929890a847140a2a47f89   \n",
       "0      1  ee4e90691f0929890a847140a2a47f89   \n",
       "0      1  ee4e90691f0929890a847140a2a47f89   \n",
       "0      1  ee4e90691f0929890a847140a2a47f89   \n",
       "\n",
       "                                   universe_settings  execution_time  \\\n",
       "0  {\"cutoff\": \"quantile_0.1\", \"eval_fairness_grou...       24.540124   \n",
       "0  {\"cutoff\": \"quantile_0.1\", \"eval_fairness_grou...       24.540124   \n",
       "0  {\"cutoff\": \"quantile_0.25\", \"eval_fairness_gro...       24.540124   \n",
       "0  {\"cutoff\": \"quantile_0.25\", \"eval_fairness_gro...       24.540124   \n",
       "\n",
       "   test_size_n  test_size_frac  fair_main_equalized_odds_difference  \\\n",
       "0        89710             1.0                             0.090666   \n",
       "0        89710             1.0                             0.090666   \n",
       "0        89710             1.0                             0.208578   \n",
       "0        89710             1.0                             0.208578   \n",
       "\n",
       "   fair_main_equalized_odds_ratio  fair_main_demographic_parity_difference  \\\n",
       "0                        0.905685                                 0.082022   \n",
       "0                        0.905685                                 0.082022   \n",
       "0                        0.766379                                 0.190887   \n",
       "0                        0.766379                                 0.190887   \n",
       "\n",
       "   fair_main_demographic_parity_ratio  ...  perf_grp_precision_0  \\\n",
       "0                            0.914848  ...                   NaN   \n",
       "0                            0.914848  ...              0.117058   \n",
       "0                            0.787235  ...                   NaN   \n",
       "0                            0.787235  ...              0.119601   \n",
       "\n",
       "   perf_grp_precision_1  perf_grp_false positive rate_0  \\\n",
       "0                   NaN                             NaN   \n",
       "0               0.14255                        0.961314   \n",
       "0                   NaN                             NaN   \n",
       "0               0.15925                        0.892802   \n",
       "\n",
       "   perf_grp_false positive rate_1  perf_grp_false negative rate_0  \\\n",
       "0                             NaN                             NaN   \n",
       "0                        0.870648                        0.021959   \n",
       "0                             NaN                             NaN   \n",
       "0                        0.684225                        0.069257   \n",
       "\n",
       "   perf_grp_false negative rate_1  perf_grp_selection rate_0  \\\n",
       "0                             NaN                        NaN   \n",
       "0                        0.049344                   0.963242   \n",
       "0                             NaN                        NaN   \n",
       "0                        0.148796                   0.897176   \n",
       "\n",
       "   perf_grp_selection rate_1  perf_grp_count_0  perf_grp_count_1  \n",
       "0                        NaN               NaN               NaN  \n",
       "0                   0.881220           20540.0           69170.0  \n",
       "0                        NaN               NaN               NaN  \n",
       "0                   0.706289           20540.0           69170.0  \n",
       "\n",
       "[4 rows x 50 columns]"
      ]
     },
     "execution_count": 62,
     "metadata": {},
     "output_type": "execute_result"
    }
   ],
   "source": [
    "final_output = universe_analysis.generate_final_output(\n",
    "    y_pred_prob=probs_test,\n",
    "    y_test=y_true,\n",
    "    org_test=org_test,\n",
    "    filter_data=filter_sub_universe_data,\n",
    "    cp_metrics_df=cp_metrics_df,\n",
    "    save=True,\n",
    ")\n",
    "final_output"
   ]
  },
  {
   "cell_type": "code",
   "execution_count": null,
   "id": "571f9a0f-660a-4841-b661-b06fbc637944",
   "metadata": {
    "papermill": {
     "duration": 0.025388,
     "end_time": "2025-08-06T17:52:33.831899",
     "exception": false,
     "start_time": "2025-08-06T17:52:33.806511",
     "status": "completed"
    },
    "tags": []
   },
   "outputs": [],
   "source": []
  },
  {
   "cell_type": "code",
   "execution_count": null,
   "id": "529482e3-0150-4854-a92d-ab864efc606e",
   "metadata": {
    "papermill": {
     "duration": 0.02738,
     "end_time": "2025-08-06T17:52:33.887085",
     "exception": false,
     "start_time": "2025-08-06T17:52:33.859705",
     "status": "completed"
    },
    "tags": []
   },
   "outputs": [],
   "source": []
  }
 ],
 "metadata": {
  "celltoolbar": "Tags",
  "kernelspec": {
   "display_name": "Python (CMA Fairness)",
   "language": "python",
   "name": "cma_fair_env"
  },
  "language_info": {
   "codemirror_mode": {
    "name": "ipython",
    "version": 3
   },
   "file_extension": ".py",
   "mimetype": "text/x-python",
   "name": "python",
   "nbconvert_exporter": "python",
   "pygments_lexer": "ipython3",
   "version": "3.10.12"
  },
  "papermill": {
   "default_parameters": {},
   "duration": 37.128466,
   "end_time": "2025-08-06T17:52:34.722161",
   "environment_variables": {},
   "exception": null,
   "input_path": "universe_analysis.ipynb",
   "output_path": "output/runs/1/notebooks/m_1-ee4e90691f0929890a847140a2a47f89.ipynb",
   "parameters": {
    "output_dir": "output",
    "run_no": "1",
    "seed": "2023",
    "universe": "{\"cutoff\": [\"quantile_0.1\", \"quantile_0.25\"], \"eval_fairness_grouping\": [\"majority-minority\", \"nationality-all\"], \"exclude_features\": \"nationality\", \"exclude_subgroups\": \"keep-all\", \"model\": \"penalized_logreg\", \"scale\": \"do-not-scale\", \"training_size\": \"1k\", \"training_year\": \"2014\"}",
    "universe_id": "ee4e90691f0929890a847140a2a47f89"
   },
   "start_time": "2025-08-06T17:51:57.593695",
   "version": "2.6.0"
  }
 },
 "nbformat": 4,
 "nbformat_minor": 5
}