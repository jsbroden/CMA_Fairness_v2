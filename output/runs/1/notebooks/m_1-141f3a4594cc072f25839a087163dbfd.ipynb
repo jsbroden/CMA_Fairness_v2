{
 "cells": [
  {
   "cell_type": "markdown",
   "id": "b2057076-3a91-4cfa-9bfd-eab1e61b3068",
   "metadata": {
    "papermill": {
     "duration": 0.014953,
     "end_time": "2025-08-06T17:57:44.514528",
     "exception": false,
     "start_time": "2025-08-06T17:57:44.499575",
     "status": "completed"
    },
    "tags": []
   },
   "source": [
    "# Setup"
   ]
  },
  {
   "cell_type": "code",
   "execution_count": 1,
   "id": "f159f837-637b-42ba-96b5-ec9a68c44524",
   "metadata": {
    "execution": {
     "iopub.execute_input": "2025-08-06T17:57:44.549270Z",
     "iopub.status.busy": "2025-08-06T17:57:44.548811Z",
     "iopub.status.idle": "2025-08-06T17:57:44.562188Z",
     "shell.execute_reply": "2025-08-06T17:57:44.561127Z"
    },
    "papermill": {
     "duration": 0.032581,
     "end_time": "2025-08-06T17:57:44.563950",
     "exception": false,
     "start_time": "2025-08-06T17:57:44.531369",
     "status": "completed"
    },
    "tags": []
   },
   "outputs": [
    {
     "name": "stdout",
     "output_type": "stream",
     "text": [
      "/dss/dsshome1/0C/ra93lal2/cma/CMA_Fairness_v2\n"
     ]
    },
    {
     "name": "stderr",
     "output_type": "stream",
     "text": [
      "/dss/dsshome1/0C/ra93lal2/.local/share/virtualenvs/CMA_Fairness_v2-3j10GkSs/lib/python3.10/site-packages/IPython/core/magics/osm.py:393: UserWarning: This is now an optional IPython functionality, using bookmarks requires you to install the `pickleshare` library.\n",
      "  bkms = self.shell.db.get('bookmarks', {})\n",
      "/dss/dsshome1/0C/ra93lal2/.local/share/virtualenvs/CMA_Fairness_v2-3j10GkSs/lib/python3.10/site-packages/IPython/core/magics/osm.py:417: UserWarning: This is now an optional IPython functionality, setting dhist requires you to install the `pickleshare` library.\n",
      "  self.shell.db['dhist'] = compress_dhist(dhist)[-100:]\n"
     ]
    }
   ],
   "source": [
    "%cd ~/cma/CMA_Fairness_v2"
   ]
  },
  {
   "cell_type": "markdown",
   "id": "de2603b9",
   "metadata": {
    "papermill": {
     "duration": 0.016862,
     "end_time": "2025-08-06T17:57:44.598533",
     "exception": false,
     "start_time": "2025-08-06T17:57:44.581671",
     "status": "completed"
    },
    "tags": []
   },
   "source": [
    "The following cell holds the definition of our parameters, these values can be overriden by rendering the with e.g. the following command:\n",
    "\n",
    "papermill -p alpha 0.2 -p ratio 0.3 universe_analysis.ipynb output/test_run.ipynb"
   ]
  },
  {
   "cell_type": "code",
   "execution_count": 2,
   "id": "a80968a0-40bb-4fa9-85ef-2d5eefb01975",
   "metadata": {
    "execution": {
     "iopub.execute_input": "2025-08-06T17:57:44.634702Z",
     "iopub.status.busy": "2025-08-06T17:57:44.634243Z",
     "iopub.status.idle": "2025-08-06T17:57:44.639463Z",
     "shell.execute_reply": "2025-08-06T17:57:44.638603Z"
    },
    "papermill": {
     "duration": 0.025138,
     "end_time": "2025-08-06T17:57:44.641233",
     "exception": false,
     "start_time": "2025-08-06T17:57:44.616095",
     "status": "completed"
    },
    "tags": []
   },
   "outputs": [
    {
     "name": "stdout",
     "output_type": "stream",
     "text": [
      "Current working directory: /dss/dsshome1/0C/ra93lal2/cma/CMA_Fairness_v2\n"
     ]
    }
   ],
   "source": [
    "import os\n",
    "print(\"Current working directory:\", os.getcwd())"
   ]
  },
  {
   "cell_type": "code",
   "execution_count": 3,
   "id": "2dce4c03",
   "metadata": {
    "execution": {
     "iopub.execute_input": "2025-08-06T17:57:44.676706Z",
     "iopub.status.busy": "2025-08-06T17:57:44.676180Z",
     "iopub.status.idle": "2025-08-06T17:57:44.682862Z",
     "shell.execute_reply": "2025-08-06T17:57:44.681845Z"
    },
    "papermill": {
     "duration": 0.028604,
     "end_time": "2025-08-06T17:57:44.684683",
     "exception": false,
     "start_time": "2025-08-06T17:57:44.656079",
     "status": "completed"
    },
    "tags": [
     "parameters"
    ]
   },
   "outputs": [],
   "source": [
    "run_no = 0\n",
    "universe_id = \"test\"\n",
    "universe = {\n",
    "    \"training_size\": \"5k\", # \"25k\", \"5k\", \"1k\"\n",
    "    \"training_year\": \"2012_14\", # \"2014\", \"2012_14\", \"2010_14\"\n",
    "    \"scale\": \"scale\", # \"scale\", \"do-not-scale\",\n",
    "    \"model\": \"elasticnet\", # \"logreg\", \"penalized_logreg\", \"rf\", \"gbm\", \"elasticnet\"\n",
    "    \"cutoff\": [\"quantile_0.15\", \"quantile_0.30\"],\n",
    "    \"exclude_features\": \"age\", # \"none\", \"nationality\", \"sex\", \"nationality-sex\", \"age\"\n",
    "    \"exclude_subgroups\": \"drop-non-german\", # \"keep-all\", \"drop-non-german\"\n",
    "    \"eval_fairness_grouping\": [\"majority-minority\", \"nationality-all\"]\n",
    "}\n",
    "\n",
    "output_dir=\"./output\"\n",
    "seed=0"
   ]
  },
  {
   "cell_type": "code",
   "execution_count": 4,
   "id": "1c1118d1",
   "metadata": {
    "execution": {
     "iopub.execute_input": "2025-08-06T17:57:44.723001Z",
     "iopub.status.busy": "2025-08-06T17:57:44.722149Z",
     "iopub.status.idle": "2025-08-06T17:57:44.727830Z",
     "shell.execute_reply": "2025-08-06T17:57:44.726853Z"
    },
    "papermill": {
     "duration": 0.025944,
     "end_time": "2025-08-06T17:57:44.729628",
     "exception": false,
     "start_time": "2025-08-06T17:57:44.703684",
     "status": "completed"
    },
    "tags": [
     "injected-parameters"
    ]
   },
   "outputs": [],
   "source": [
    "# Parameters\n",
    "universe_id = \"141f3a4594cc072f25839a087163dbfd\"\n",
    "run_no = \"1\"\n",
    "universe = \"{\\\"cutoff\\\": [\\\"quantile_0.1\\\", \\\"quantile_0.25\\\"], \\\"eval_fairness_grouping\\\": [\\\"majority-minority\\\", \\\"nationality-all\\\"], \\\"exclude_features\\\": \\\"age\\\", \\\"exclude_subgroups\\\": \\\"drop-non-german\\\", \\\"model\\\": \\\"penalized_logreg\\\", \\\"scale\\\": \\\"scale\\\", \\\"training_size\\\": \\\"1k\\\", \\\"training_year\\\": \\\"2012_14\\\"}\"\n",
    "output_dir = \"output\"\n",
    "seed = \"2023\"\n"
   ]
  },
  {
   "cell_type": "code",
   "execution_count": 5,
   "id": "1650acaf",
   "metadata": {
    "execution": {
     "iopub.execute_input": "2025-08-06T17:57:44.769301Z",
     "iopub.status.busy": "2025-08-06T17:57:44.768105Z",
     "iopub.status.idle": "2025-08-06T17:57:44.773648Z",
     "shell.execute_reply": "2025-08-06T17:57:44.772648Z"
    },
    "papermill": {
     "duration": 0.028504,
     "end_time": "2025-08-06T17:57:44.775472",
     "exception": false,
     "start_time": "2025-08-06T17:57:44.746968",
     "status": "completed"
    },
    "tags": []
   },
   "outputs": [],
   "source": [
    "import json\n",
    "if isinstance(universe, str):\n",
    "    universe = json.loads(universe)"
   ]
  },
  {
   "cell_type": "code",
   "execution_count": 6,
   "id": "16620c48",
   "metadata": {
    "execution": {
     "iopub.execute_input": "2025-08-06T17:57:44.814820Z",
     "iopub.status.busy": "2025-08-06T17:57:44.813873Z",
     "iopub.status.idle": "2025-08-06T17:57:44.861931Z",
     "shell.execute_reply": "2025-08-06T17:57:44.861084Z"
    },
    "papermill": {
     "duration": 0.068981,
     "end_time": "2025-08-06T17:57:44.863418",
     "exception": false,
     "start_time": "2025-08-06T17:57:44.794437",
     "status": "completed"
    },
    "tags": []
   },
   "outputs": [],
   "source": [
    "# Auto-reload the custom package\n",
    "%load_ext autoreload\n",
    "%autoreload 1\n",
    "%aimport fairness_multiverse"
   ]
  },
  {
   "cell_type": "code",
   "execution_count": 7,
   "id": "01c5c9f3",
   "metadata": {
    "execution": {
     "iopub.execute_input": "2025-08-06T17:57:44.900113Z",
     "iopub.status.busy": "2025-08-06T17:57:44.899598Z",
     "iopub.status.idle": "2025-08-06T17:57:46.782298Z",
     "shell.execute_reply": "2025-08-06T17:57:46.781544Z"
    },
    "papermill": {
     "duration": 1.902982,
     "end_time": "2025-08-06T17:57:46.783730",
     "exception": false,
     "start_time": "2025-08-06T17:57:44.880748",
     "status": "completed"
    },
    "tags": []
   },
   "outputs": [],
   "source": [
    "from fairness_multiverse.universe import UniverseAnalysis\n",
    "\n",
    "universe_analysis = UniverseAnalysis(\n",
    "    run_no = run_no,\n",
    "    universe_id = universe_id,\n",
    "    universe = universe,\n",
    "    output_dir=output_dir,\n",
    ")"
   ]
  },
  {
   "cell_type": "code",
   "execution_count": 8,
   "id": "106241f5",
   "metadata": {
    "execution": {
     "iopub.execute_input": "2025-08-06T17:57:46.808213Z",
     "iopub.status.busy": "2025-08-06T17:57:46.807821Z",
     "iopub.status.idle": "2025-08-06T17:57:46.815331Z",
     "shell.execute_reply": "2025-08-06T17:57:46.813751Z"
    },
    "papermill": {
     "duration": 0.024251,
     "end_time": "2025-08-06T17:57:46.817166",
     "exception": false,
     "start_time": "2025-08-06T17:57:46.792915",
     "status": "completed"
    },
    "tags": []
   },
   "outputs": [
    {
     "name": "stdout",
     "output_type": "stream",
     "text": [
      "Using Seed: 2023\n"
     ]
    }
   ],
   "source": [
    "import numpy as np\n",
    "parsed_seed = int(seed)\n",
    "np.random.seed(parsed_seed)\n",
    "print(f\"Using Seed: {parsed_seed}\")"
   ]
  },
  {
   "cell_type": "markdown",
   "id": "e0ebdc57",
   "metadata": {
    "papermill": {
     "duration": 0.016854,
     "end_time": "2025-08-06T17:57:46.850611",
     "exception": false,
     "start_time": "2025-08-06T17:57:46.833757",
     "status": "completed"
    },
    "tags": []
   },
   "source": [
    "# Loading Data"
   ]
  },
  {
   "cell_type": "code",
   "execution_count": 9,
   "id": "f0496b8a",
   "metadata": {
    "execution": {
     "iopub.execute_input": "2025-08-06T17:57:46.885387Z",
     "iopub.status.busy": "2025-08-06T17:57:46.884956Z",
     "iopub.status.idle": "2025-08-06T17:57:59.544884Z",
     "shell.execute_reply": "2025-08-06T17:57:59.543677Z"
    },
    "papermill": {
     "duration": 12.67991,
     "end_time": "2025-08-06T17:57:59.546695",
     "exception": false,
     "start_time": "2025-08-06T17:57:46.866785",
     "status": "completed"
    },
    "tags": []
   },
   "outputs": [
    {
     "name": "stdout",
     "output_type": "stream",
     "text": [
      "Loading SIAB data from cache: data/siab_cached.csv.gz\n"
     ]
    },
    {
     "name": "stdout",
     "output_type": "stream",
     "text": [
      "(643690, 164)\n"
     ]
    }
   ],
   "source": [
    "from pathlib import Path\n",
    "import pandas as pd\n",
    "\n",
    "# File paths\n",
    "raw_file = Path(\"data/raw/siab.csv\")\n",
    "cache_file = Path(\"data/siab_cached.csv.gz\")\n",
    "\n",
    "# Ensure cache directory exists\n",
    "cache_file.parent.mkdir(parents=True, exist_ok=True)\n",
    "\n",
    "# Load with simple caching\n",
    "if cache_file.exists():\n",
    "    print(f\"Loading SIAB data from cache: {cache_file}\")\n",
    "    siab = pd.read_csv(cache_file, compression='gzip')\n",
    "else:\n",
    "    print(f\"Cache not found. Reading raw SIAB data: {raw_file}\")\n",
    "    siab = pd.read_csv(raw_file)\n",
    "    siab.to_csv(cache_file, index=False, compression='gzip')\n",
    "    print(f\"Cached SIAB data to: {cache_file}\")\n",
    "\n",
    "print(siab.shape)"
   ]
  },
  {
   "cell_type": "code",
   "execution_count": 10,
   "id": "db0ca512-5f53-4dba-abdb-a2888bca41ba",
   "metadata": {
    "execution": {
     "iopub.execute_input": "2025-08-06T17:57:59.585700Z",
     "iopub.status.busy": "2025-08-06T17:57:59.585214Z",
     "iopub.status.idle": "2025-08-06T17:57:59.701511Z",
     "shell.execute_reply": "2025-08-06T17:57:59.700821Z"
    },
    "papermill": {
     "duration": 0.136209,
     "end_time": "2025-08-06T17:57:59.702728",
     "exception": false,
     "start_time": "2025-08-06T17:57:59.566519",
     "status": "completed"
    },
    "tags": []
   },
   "outputs": [
    {
     "data": {
      "text/html": [
       "<div>\n",
       "<style scoped>\n",
       "    .dataframe tbody tr th:only-of-type {\n",
       "        vertical-align: middle;\n",
       "    }\n",
       "\n",
       "    .dataframe tbody tr th {\n",
       "        vertical-align: top;\n",
       "    }\n",
       "\n",
       "    .dataframe thead th {\n",
       "        text-align: right;\n",
       "    }\n",
       "</style>\n",
       "<table border=\"1\" class=\"dataframe\">\n",
       "  <thead>\n",
       "    <tr style=\"text-align: right;\">\n",
       "      <th></th>\n",
       "      <th>persnr</th>\n",
       "      <th>year</th>\n",
       "      <th>nrEntry</th>\n",
       "      <th>ltue</th>\n",
       "      <th>employed_before</th>\n",
       "      <th>receipt_leh_before</th>\n",
       "      <th>receipt_lhg_before</th>\n",
       "      <th>se_before</th>\n",
       "      <th>ASU_notue_seeking_before</th>\n",
       "      <th>ASU_other_before</th>\n",
       "      <th>...</th>\n",
       "      <th>minijob_tot_dur_byage</th>\n",
       "      <th>ft_tot_dur_byage</th>\n",
       "      <th>befrist_tot_dur_byage</th>\n",
       "      <th>leih_tot_dur_byage</th>\n",
       "      <th>LHG_tot_dur_byage</th>\n",
       "      <th>LEH_tot_dur_byage</th>\n",
       "      <th>almp_tot_dur_byage</th>\n",
       "      <th>almp_aw_tot_dur_byage</th>\n",
       "      <th>se_tot_dur_byage</th>\n",
       "      <th>seeking1_tot_dur_byage</th>\n",
       "    </tr>\n",
       "  </thead>\n",
       "  <tbody>\n",
       "    <tr>\n",
       "      <th>0</th>\n",
       "      <td>7</td>\n",
       "      <td>2015</td>\n",
       "      <td>1</td>\n",
       "      <td>0</td>\n",
       "      <td>1</td>\n",
       "      <td>0</td>\n",
       "      <td>0</td>\n",
       "      <td>0</td>\n",
       "      <td>1</td>\n",
       "      <td>0</td>\n",
       "      <td>...</td>\n",
       "      <td>0.000000</td>\n",
       "      <td>0.000000</td>\n",
       "      <td>15.043478</td>\n",
       "      <td>0.000000</td>\n",
       "      <td>0.000000</td>\n",
       "      <td>0.000000</td>\n",
       "      <td>0.000000</td>\n",
       "      <td>0.000000</td>\n",
       "      <td>0.000000</td>\n",
       "      <td>0.000000</td>\n",
       "    </tr>\n",
       "    <tr>\n",
       "      <th>1</th>\n",
       "      <td>18</td>\n",
       "      <td>2010</td>\n",
       "      <td>1</td>\n",
       "      <td>1</td>\n",
       "      <td>0</td>\n",
       "      <td>0</td>\n",
       "      <td>0</td>\n",
       "      <td>0</td>\n",
       "      <td>0</td>\n",
       "      <td>0</td>\n",
       "      <td>...</td>\n",
       "      <td>0.000000</td>\n",
       "      <td>0.000000</td>\n",
       "      <td>0.000000</td>\n",
       "      <td>0.000000</td>\n",
       "      <td>0.000000</td>\n",
       "      <td>0.000000</td>\n",
       "      <td>0.000000</td>\n",
       "      <td>0.000000</td>\n",
       "      <td>0.000000</td>\n",
       "      <td>0.000000</td>\n",
       "    </tr>\n",
       "    <tr>\n",
       "      <th>2</th>\n",
       "      <td>18</td>\n",
       "      <td>2011</td>\n",
       "      <td>2</td>\n",
       "      <td>0</td>\n",
       "      <td>1</td>\n",
       "      <td>0</td>\n",
       "      <td>1</td>\n",
       "      <td>0</td>\n",
       "      <td>1</td>\n",
       "      <td>0</td>\n",
       "      <td>...</td>\n",
       "      <td>2.714286</td>\n",
       "      <td>2.714286</td>\n",
       "      <td>0.000000</td>\n",
       "      <td>0.000000</td>\n",
       "      <td>10.775510</td>\n",
       "      <td>0.000000</td>\n",
       "      <td>8.367347</td>\n",
       "      <td>0.000000</td>\n",
       "      <td>0.000000</td>\n",
       "      <td>9.836735</td>\n",
       "    </tr>\n",
       "    <tr>\n",
       "      <th>3</th>\n",
       "      <td>18</td>\n",
       "      <td>2012</td>\n",
       "      <td>3</td>\n",
       "      <td>0</td>\n",
       "      <td>1</td>\n",
       "      <td>0</td>\n",
       "      <td>1</td>\n",
       "      <td>0</td>\n",
       "      <td>1</td>\n",
       "      <td>0</td>\n",
       "      <td>...</td>\n",
       "      <td>4.200000</td>\n",
       "      <td>4.200000</td>\n",
       "      <td>0.000000</td>\n",
       "      <td>0.000000</td>\n",
       "      <td>12.100000</td>\n",
       "      <td>0.000000</td>\n",
       "      <td>9.400000</td>\n",
       "      <td>0.000000</td>\n",
       "      <td>0.000000</td>\n",
       "      <td>9.960000</td>\n",
       "    </tr>\n",
       "    <tr>\n",
       "      <th>4</th>\n",
       "      <td>18</td>\n",
       "      <td>2012</td>\n",
       "      <td>4</td>\n",
       "      <td>0</td>\n",
       "      <td>1</td>\n",
       "      <td>0</td>\n",
       "      <td>1</td>\n",
       "      <td>0</td>\n",
       "      <td>1</td>\n",
       "      <td>0</td>\n",
       "      <td>...</td>\n",
       "      <td>5.460000</td>\n",
       "      <td>5.460000</td>\n",
       "      <td>0.000000</td>\n",
       "      <td>0.000000</td>\n",
       "      <td>13.360000</td>\n",
       "      <td>0.000000</td>\n",
       "      <td>10.320000</td>\n",
       "      <td>0.000000</td>\n",
       "      <td>0.000000</td>\n",
       "      <td>10.280000</td>\n",
       "    </tr>\n",
       "    <tr>\n",
       "      <th>...</th>\n",
       "      <td>...</td>\n",
       "      <td>...</td>\n",
       "      <td>...</td>\n",
       "      <td>...</td>\n",
       "      <td>...</td>\n",
       "      <td>...</td>\n",
       "      <td>...</td>\n",
       "      <td>...</td>\n",
       "      <td>...</td>\n",
       "      <td>...</td>\n",
       "      <td>...</td>\n",
       "      <td>...</td>\n",
       "      <td>...</td>\n",
       "      <td>...</td>\n",
       "      <td>...</td>\n",
       "      <td>...</td>\n",
       "      <td>...</td>\n",
       "      <td>...</td>\n",
       "      <td>...</td>\n",
       "      <td>...</td>\n",
       "      <td>...</td>\n",
       "    </tr>\n",
       "    <tr>\n",
       "      <th>643685</th>\n",
       "      <td>1827860</td>\n",
       "      <td>2013</td>\n",
       "      <td>1</td>\n",
       "      <td>0</td>\n",
       "      <td>0</td>\n",
       "      <td>0</td>\n",
       "      <td>1</td>\n",
       "      <td>0</td>\n",
       "      <td>0</td>\n",
       "      <td>1</td>\n",
       "      <td>...</td>\n",
       "      <td>0.000000</td>\n",
       "      <td>0.000000</td>\n",
       "      <td>0.000000</td>\n",
       "      <td>0.000000</td>\n",
       "      <td>0.612903</td>\n",
       "      <td>0.000000</td>\n",
       "      <td>0.000000</td>\n",
       "      <td>0.000000</td>\n",
       "      <td>0.000000</td>\n",
       "      <td>0.000000</td>\n",
       "    </tr>\n",
       "    <tr>\n",
       "      <th>643686</th>\n",
       "      <td>1827860</td>\n",
       "      <td>2015</td>\n",
       "      <td>2</td>\n",
       "      <td>1</td>\n",
       "      <td>0</td>\n",
       "      <td>0</td>\n",
       "      <td>1</td>\n",
       "      <td>0</td>\n",
       "      <td>1</td>\n",
       "      <td>0</td>\n",
       "      <td>...</td>\n",
       "      <td>0.000000</td>\n",
       "      <td>0.000000</td>\n",
       "      <td>0.212121</td>\n",
       "      <td>0.212121</td>\n",
       "      <td>17.363636</td>\n",
       "      <td>0.000000</td>\n",
       "      <td>8.909091</td>\n",
       "      <td>0.000000</td>\n",
       "      <td>0.000000</td>\n",
       "      <td>7.121212</td>\n",
       "    </tr>\n",
       "    <tr>\n",
       "      <th>643687</th>\n",
       "      <td>1827860</td>\n",
       "      <td>2016</td>\n",
       "      <td>3</td>\n",
       "      <td>1</td>\n",
       "      <td>0</td>\n",
       "      <td>0</td>\n",
       "      <td>1</td>\n",
       "      <td>1</td>\n",
       "      <td>0</td>\n",
       "      <td>1</td>\n",
       "      <td>...</td>\n",
       "      <td>0.000000</td>\n",
       "      <td>0.000000</td>\n",
       "      <td>0.294118</td>\n",
       "      <td>0.205882</td>\n",
       "      <td>34.705882</td>\n",
       "      <td>0.000000</td>\n",
       "      <td>10.352941</td>\n",
       "      <td>1.705882</td>\n",
       "      <td>1.705882</td>\n",
       "      <td>23.911765</td>\n",
       "    </tr>\n",
       "    <tr>\n",
       "      <th>643688</th>\n",
       "      <td>1827869</td>\n",
       "      <td>2013</td>\n",
       "      <td>1</td>\n",
       "      <td>1</td>\n",
       "      <td>1</td>\n",
       "      <td>0</td>\n",
       "      <td>0</td>\n",
       "      <td>0</td>\n",
       "      <td>1</td>\n",
       "      <td>0</td>\n",
       "      <td>...</td>\n",
       "      <td>0.000000</td>\n",
       "      <td>0.000000</td>\n",
       "      <td>0.000000</td>\n",
       "      <td>0.000000</td>\n",
       "      <td>0.000000</td>\n",
       "      <td>0.525424</td>\n",
       "      <td>0.000000</td>\n",
       "      <td>0.000000</td>\n",
       "      <td>0.000000</td>\n",
       "      <td>0.000000</td>\n",
       "    </tr>\n",
       "    <tr>\n",
       "      <th>643689</th>\n",
       "      <td>1827869</td>\n",
       "      <td>2014</td>\n",
       "      <td>2</td>\n",
       "      <td>0</td>\n",
       "      <td>0</td>\n",
       "      <td>1</td>\n",
       "      <td>0</td>\n",
       "      <td>0</td>\n",
       "      <td>1</td>\n",
       "      <td>0</td>\n",
       "      <td>...</td>\n",
       "      <td>0.000000</td>\n",
       "      <td>0.666667</td>\n",
       "      <td>0.666667</td>\n",
       "      <td>0.000000</td>\n",
       "      <td>0.000000</td>\n",
       "      <td>8.950000</td>\n",
       "      <td>1.033333</td>\n",
       "      <td>0.083333</td>\n",
       "      <td>0.083333</td>\n",
       "      <td>8.133333</td>\n",
       "    </tr>\n",
       "  </tbody>\n",
       "</table>\n",
       "<p>643690 rows × 164 columns</p>\n",
       "</div>"
      ],
      "text/plain": [
       "         persnr  year  nrEntry  ltue  employed_before  receipt_leh_before  \\\n",
       "0             7  2015        1     0                1                   0   \n",
       "1            18  2010        1     1                0                   0   \n",
       "2            18  2011        2     0                1                   0   \n",
       "3            18  2012        3     0                1                   0   \n",
       "4            18  2012        4     0                1                   0   \n",
       "...         ...   ...      ...   ...              ...                 ...   \n",
       "643685  1827860  2013        1     0                0                   0   \n",
       "643686  1827860  2015        2     1                0                   0   \n",
       "643687  1827860  2016        3     1                0                   0   \n",
       "643688  1827869  2013        1     1                1                   0   \n",
       "643689  1827869  2014        2     0                0                   1   \n",
       "\n",
       "        receipt_lhg_before  se_before  ASU_notue_seeking_before  \\\n",
       "0                        0          0                         1   \n",
       "1                        0          0                         0   \n",
       "2                        1          0                         1   \n",
       "3                        1          0                         1   \n",
       "4                        1          0                         1   \n",
       "...                    ...        ...                       ...   \n",
       "643685                   1          0                         0   \n",
       "643686                   1          0                         1   \n",
       "643687                   1          1                         0   \n",
       "643688                   0          0                         1   \n",
       "643689                   0          0                         1   \n",
       "\n",
       "        ASU_other_before  ...  minijob_tot_dur_byage  ft_tot_dur_byage  \\\n",
       "0                      0  ...               0.000000          0.000000   \n",
       "1                      0  ...               0.000000          0.000000   \n",
       "2                      0  ...               2.714286          2.714286   \n",
       "3                      0  ...               4.200000          4.200000   \n",
       "4                      0  ...               5.460000          5.460000   \n",
       "...                  ...  ...                    ...               ...   \n",
       "643685                 1  ...               0.000000          0.000000   \n",
       "643686                 0  ...               0.000000          0.000000   \n",
       "643687                 1  ...               0.000000          0.000000   \n",
       "643688                 0  ...               0.000000          0.000000   \n",
       "643689                 0  ...               0.000000          0.666667   \n",
       "\n",
       "        befrist_tot_dur_byage  leih_tot_dur_byage  LHG_tot_dur_byage  \\\n",
       "0                   15.043478            0.000000           0.000000   \n",
       "1                    0.000000            0.000000           0.000000   \n",
       "2                    0.000000            0.000000          10.775510   \n",
       "3                    0.000000            0.000000          12.100000   \n",
       "4                    0.000000            0.000000          13.360000   \n",
       "...                       ...                 ...                ...   \n",
       "643685               0.000000            0.000000           0.612903   \n",
       "643686               0.212121            0.212121          17.363636   \n",
       "643687               0.294118            0.205882          34.705882   \n",
       "643688               0.000000            0.000000           0.000000   \n",
       "643689               0.666667            0.000000           0.000000   \n",
       "\n",
       "        LEH_tot_dur_byage  almp_tot_dur_byage  almp_aw_tot_dur_byage  \\\n",
       "0                0.000000            0.000000               0.000000   \n",
       "1                0.000000            0.000000               0.000000   \n",
       "2                0.000000            8.367347               0.000000   \n",
       "3                0.000000            9.400000               0.000000   \n",
       "4                0.000000           10.320000               0.000000   \n",
       "...                   ...                 ...                    ...   \n",
       "643685           0.000000            0.000000               0.000000   \n",
       "643686           0.000000            8.909091               0.000000   \n",
       "643687           0.000000           10.352941               1.705882   \n",
       "643688           0.525424            0.000000               0.000000   \n",
       "643689           8.950000            1.033333               0.083333   \n",
       "\n",
       "        se_tot_dur_byage  seeking1_tot_dur_byage  \n",
       "0               0.000000                0.000000  \n",
       "1               0.000000                0.000000  \n",
       "2               0.000000                9.836735  \n",
       "3               0.000000                9.960000  \n",
       "4               0.000000               10.280000  \n",
       "...                  ...                     ...  \n",
       "643685          0.000000                0.000000  \n",
       "643686          0.000000                7.121212  \n",
       "643687          1.705882               23.911765  \n",
       "643688          0.000000                0.000000  \n",
       "643689          0.083333                8.133333  \n",
       "\n",
       "[643690 rows x 164 columns]"
      ]
     },
     "execution_count": 10,
     "metadata": {},
     "output_type": "execute_result"
    }
   ],
   "source": [
    "siab"
   ]
  },
  {
   "cell_type": "markdown",
   "id": "997051c5-15bd-4b69-9786-c3001a3ce484",
   "metadata": {
    "papermill": {
     "duration": 0.017614,
     "end_time": "2025-08-06T17:57:59.730247",
     "exception": false,
     "start_time": "2025-08-06T17:57:59.712633",
     "status": "completed"
    },
    "tags": []
   },
   "source": [
    "# Splitting Data and Setting Training Data Size"
   ]
  },
  {
   "cell_type": "code",
   "execution_count": 11,
   "id": "aea9c6ef-6f46-42c8-85eb-5a62025c1508",
   "metadata": {
    "execution": {
     "iopub.execute_input": "2025-08-06T17:57:59.769038Z",
     "iopub.status.busy": "2025-08-06T17:57:59.768574Z",
     "iopub.status.idle": "2025-08-06T17:58:00.387419Z",
     "shell.execute_reply": "2025-08-06T17:58:00.386422Z"
    },
    "papermill": {
     "duration": 0.640696,
     "end_time": "2025-08-06T17:58:00.389435",
     "exception": false,
     "start_time": "2025-08-06T17:57:59.748739",
     "status": "completed"
    },
    "tags": []
   },
   "outputs": [],
   "source": [
    "from fairness_multiverse.universe import sample_by_year_size\n",
    "\n",
    "siab_train = sample_by_year_size(siab,\n",
    "                               training_year=universe[\"training_year\"],\n",
    "                               training_size=universe[\"training_size\"])"
   ]
  },
  {
   "cell_type": "code",
   "execution_count": 12,
   "id": "8d3afb32-789d-442c-8d5d-9f5aa8dd2eed",
   "metadata": {
    "execution": {
     "iopub.execute_input": "2025-08-06T17:58:00.449430Z",
     "iopub.status.busy": "2025-08-06T17:58:00.448879Z",
     "iopub.status.idle": "2025-08-06T17:58:00.456787Z",
     "shell.execute_reply": "2025-08-06T17:58:00.455779Z"
    },
    "papermill": {
     "duration": 0.048953,
     "end_time": "2025-08-06T17:58:00.459045",
     "exception": false,
     "start_time": "2025-08-06T17:58:00.410092",
     "status": "completed"
    },
    "tags": []
   },
   "outputs": [
    {
     "data": {
      "text/plain": [
       "(1000, 164)"
      ]
     },
     "execution_count": 12,
     "metadata": {},
     "output_type": "execute_result"
    }
   ],
   "source": [
    "siab_train.shape"
   ]
  },
  {
   "cell_type": "code",
   "execution_count": 13,
   "id": "d582db68-1a4c-47fb-84fc-08518dc1975a",
   "metadata": {
    "execution": {
     "iopub.execute_input": "2025-08-06T17:58:00.516577Z",
     "iopub.status.busy": "2025-08-06T17:58:00.515771Z",
     "iopub.status.idle": "2025-08-06T17:58:00.538967Z",
     "shell.execute_reply": "2025-08-06T17:58:00.537880Z"
    },
    "papermill": {
     "duration": 0.054404,
     "end_time": "2025-08-06T17:58:00.540841",
     "exception": false,
     "start_time": "2025-08-06T17:58:00.486437",
     "status": "completed"
    },
    "tags": []
   },
   "outputs": [
    {
     "data": {
      "text/plain": [
       "year\n",
       "2012    334\n",
       "2013    333\n",
       "2014    333\n",
       "dtype: int64"
      ]
     },
     "metadata": {},
     "output_type": "display_data"
    }
   ],
   "source": [
    "display(siab_train.groupby(\"year\").size())"
   ]
  },
  {
   "cell_type": "code",
   "execution_count": 14,
   "id": "a561edb4-d032-42cb-8256-22eac1111c64",
   "metadata": {
    "execution": {
     "iopub.execute_input": "2025-08-06T17:58:00.579999Z",
     "iopub.status.busy": "2025-08-06T17:58:00.579450Z",
     "iopub.status.idle": "2025-08-06T17:58:00.797331Z",
     "shell.execute_reply": "2025-08-06T17:58:00.796593Z"
    },
    "papermill": {
     "duration": 0.239516,
     "end_time": "2025-08-06T17:58:00.799137",
     "exception": false,
     "start_time": "2025-08-06T17:58:00.559621",
     "status": "completed"
    },
    "tags": []
   },
   "outputs": [],
   "source": [
    "#siab_train = siab_s[siab_s.year < 2015]\n",
    "siab_calib = siab[siab.year == 2015]\n",
    "siab_test = siab[siab.year == 2016]"
   ]
  },
  {
   "cell_type": "code",
   "execution_count": 15,
   "id": "472de16f-c3db-4916-846b-1f0de9cf1746",
   "metadata": {
    "execution": {
     "iopub.execute_input": "2025-08-06T17:58:00.834728Z",
     "iopub.status.busy": "2025-08-06T17:58:00.834228Z",
     "iopub.status.idle": "2025-08-06T17:58:00.839808Z",
     "shell.execute_reply": "2025-08-06T17:58:00.839099Z"
    },
    "papermill": {
     "duration": 0.018718,
     "end_time": "2025-08-06T17:58:00.842001",
     "exception": false,
     "start_time": "2025-08-06T17:58:00.823283",
     "status": "completed"
    },
    "tags": []
   },
   "outputs": [],
   "source": [
    "X_train = siab_train.iloc[:,4:164]\n",
    "y_train = siab_train.iloc[:, [3]]"
   ]
  },
  {
   "cell_type": "code",
   "execution_count": 16,
   "id": "828c96af-f43a-4ed6-ba47-8ac73a47d56c",
   "metadata": {
    "execution": {
     "iopub.execute_input": "2025-08-06T17:58:00.901202Z",
     "iopub.status.busy": "2025-08-06T17:58:00.900398Z",
     "iopub.status.idle": "2025-08-06T17:58:00.982715Z",
     "shell.execute_reply": "2025-08-06T17:58:00.981322Z"
    },
    "papermill": {
     "duration": 0.113771,
     "end_time": "2025-08-06T17:58:00.985107",
     "exception": false,
     "start_time": "2025-08-06T17:58:00.871336",
     "status": "completed"
    },
    "tags": []
   },
   "outputs": [],
   "source": [
    "X_calib = siab_calib.iloc[:,4:164]\n",
    "y_calib = siab_calib.iloc[:, [3]]"
   ]
  },
  {
   "cell_type": "code",
   "execution_count": 17,
   "id": "c34be9c3-6bd6-476e-acd3-845840e303be",
   "metadata": {
    "execution": {
     "iopub.execute_input": "2025-08-06T17:58:01.046182Z",
     "iopub.status.busy": "2025-08-06T17:58:01.045771Z",
     "iopub.status.idle": "2025-08-06T17:58:01.103964Z",
     "shell.execute_reply": "2025-08-06T17:58:01.102465Z"
    },
    "papermill": {
     "duration": 0.091016,
     "end_time": "2025-08-06T17:58:01.106378",
     "exception": false,
     "start_time": "2025-08-06T17:58:01.015362",
     "status": "completed"
    },
    "tags": []
   },
   "outputs": [],
   "source": [
    "X_test = siab_test.iloc[:,4:164]\n",
    "y_true = siab_test.iloc[:, [3]]"
   ]
  },
  {
   "cell_type": "code",
   "execution_count": 18,
   "id": "e6c733c5",
   "metadata": {
    "execution": {
     "iopub.execute_input": "2025-08-06T17:58:01.166483Z",
     "iopub.status.busy": "2025-08-06T17:58:01.166112Z",
     "iopub.status.idle": "2025-08-06T17:58:01.262911Z",
     "shell.execute_reply": "2025-08-06T17:58:01.261868Z"
    },
    "papermill": {
     "duration": 0.129302,
     "end_time": "2025-08-06T17:58:01.265013",
     "exception": false,
     "start_time": "2025-08-06T17:58:01.135711",
     "status": "completed"
    },
    "tags": []
   },
   "outputs": [],
   "source": [
    "# Auxiliary data needed downstream in the pipeline\n",
    "\n",
    "org_train = X_train.copy()\n",
    "org_test = X_test.copy()\n",
    "org_calib = X_calib.copy()"
   ]
  },
  {
   "cell_type": "markdown",
   "id": "0a4a1b33",
   "metadata": {
    "papermill": {
     "duration": 0.017793,
     "end_time": "2025-08-06T17:58:01.302440",
     "exception": false,
     "start_time": "2025-08-06T17:58:01.284647",
     "status": "completed"
    },
    "tags": []
   },
   "source": [
    "# Preprocessing Data"
   ]
  },
  {
   "cell_type": "code",
   "execution_count": 19,
   "id": "ca879031",
   "metadata": {
    "execution": {
     "iopub.execute_input": "2025-08-06T17:58:01.343354Z",
     "iopub.status.busy": "2025-08-06T17:58:01.342931Z",
     "iopub.status.idle": "2025-08-06T17:58:01.350182Z",
     "shell.execute_reply": "2025-08-06T17:58:01.349134Z"
    },
    "papermill": {
     "duration": 0.037565,
     "end_time": "2025-08-06T17:58:01.352704",
     "exception": false,
     "start_time": "2025-08-06T17:58:01.315139",
     "status": "completed"
    },
    "tags": []
   },
   "outputs": [],
   "source": [
    "# EXCLUDE PROTECTED FEATURES\n",
    "# --------------------------\n",
    "\n",
    "excluded_features = universe[\"exclude_features\"].split(\"-\")\n",
    "excluded_features_dictionary = {\n",
    "    \"nationality\": [\"maxdeutsch1\", \"maxdeutsch.Missing.\"],\n",
    "    \"sex\": [\"frau1\"],\n",
    "    \"age\": [\"age\"],\n",
    "}"
   ]
  },
  {
   "cell_type": "code",
   "execution_count": 20,
   "id": "b745ac60",
   "metadata": {
    "execution": {
     "iopub.execute_input": "2025-08-06T17:58:01.406407Z",
     "iopub.status.busy": "2025-08-06T17:58:01.405889Z",
     "iopub.status.idle": "2025-08-06T17:58:01.411846Z",
     "shell.execute_reply": "2025-08-06T17:58:01.410777Z"
    },
    "papermill": {
     "duration": 0.03787,
     "end_time": "2025-08-06T17:58:01.413492",
     "exception": false,
     "start_time": "2025-08-06T17:58:01.375622",
     "status": "completed"
    },
    "tags": []
   },
   "outputs": [],
   "source": [
    "excluded_features_columns = [\n",
    "    excluded_features_dictionary[f] for f in excluded_features if len(f) > 0 and f != \"none\"\n",
    "]"
   ]
  },
  {
   "cell_type": "code",
   "execution_count": 21,
   "id": "f84f73a2",
   "metadata": {
    "execution": {
     "iopub.execute_input": "2025-08-06T17:58:01.453971Z",
     "iopub.status.busy": "2025-08-06T17:58:01.453467Z",
     "iopub.status.idle": "2025-08-06T17:58:01.459033Z",
     "shell.execute_reply": "2025-08-06T17:58:01.458084Z"
    },
    "papermill": {
     "duration": 0.027401,
     "end_time": "2025-08-06T17:58:01.460962",
     "exception": false,
     "start_time": "2025-08-06T17:58:01.433561",
     "status": "completed"
    },
    "tags": []
   },
   "outputs": [],
   "source": [
    "from fairness_multiverse.universe import flatten_once\n",
    "\n",
    "excluded_features_columns = flatten_once(excluded_features_columns)"
   ]
  },
  {
   "cell_type": "code",
   "execution_count": 22,
   "id": "884dea22",
   "metadata": {
    "execution": {
     "iopub.execute_input": "2025-08-06T17:58:01.485503Z",
     "iopub.status.busy": "2025-08-06T17:58:01.485062Z",
     "iopub.status.idle": "2025-08-06T17:58:01.493158Z",
     "shell.execute_reply": "2025-08-06T17:58:01.492092Z"
    },
    "papermill": {
     "duration": 0.020931,
     "end_time": "2025-08-06T17:58:01.494652",
     "exception": false,
     "start_time": "2025-08-06T17:58:01.473721",
     "status": "completed"
    },
    "tags": []
   },
   "outputs": [
    {
     "name": "stdout",
     "output_type": "stream",
     "text": [
      "Dropping features: ['age']\n"
     ]
    }
   ],
   "source": [
    "if len(excluded_features_columns) > 0:\n",
    "    print(f\"Dropping features: {excluded_features_columns}\")\n",
    "    X_train.drop(excluded_features_columns, axis=1, inplace=True)"
   ]
  },
  {
   "cell_type": "code",
   "execution_count": 23,
   "id": "95ab8b16",
   "metadata": {
    "execution": {
     "iopub.execute_input": "2025-08-06T17:58:01.518359Z",
     "iopub.status.busy": "2025-08-06T17:58:01.517837Z",
     "iopub.status.idle": "2025-08-06T17:58:01.571206Z",
     "shell.execute_reply": "2025-08-06T17:58:01.570451Z"
    },
    "papermill": {
     "duration": 0.066598,
     "end_time": "2025-08-06T17:58:01.572647",
     "exception": false,
     "start_time": "2025-08-06T17:58:01.506049",
     "status": "completed"
    },
    "tags": []
   },
   "outputs": [
    {
     "name": "stdout",
     "output_type": "stream",
     "text": [
      "Dropping features: ['age']\n"
     ]
    }
   ],
   "source": [
    "if len(excluded_features_columns) > 0:\n",
    "    print(f\"Dropping features: {excluded_features_columns}\")\n",
    "    X_test.drop(excluded_features_columns, axis=1, inplace=True)"
   ]
  },
  {
   "cell_type": "code",
   "execution_count": 24,
   "id": "1853aaf5-fb9f-46cb-a2b5-8ea4ae2237e4",
   "metadata": {
    "execution": {
     "iopub.execute_input": "2025-08-06T17:58:01.604405Z",
     "iopub.status.busy": "2025-08-06T17:58:01.604015Z",
     "iopub.status.idle": "2025-08-06T17:58:01.654275Z",
     "shell.execute_reply": "2025-08-06T17:58:01.653124Z"
    },
    "papermill": {
     "duration": 0.072287,
     "end_time": "2025-08-06T17:58:01.656020",
     "exception": false,
     "start_time": "2025-08-06T17:58:01.583733",
     "status": "completed"
    },
    "tags": []
   },
   "outputs": [
    {
     "name": "stdout",
     "output_type": "stream",
     "text": [
      "Dropping features: ['age']\n"
     ]
    }
   ],
   "source": [
    "if len(excluded_features_columns) > 0:\n",
    "    print(f\"Dropping features: {excluded_features_columns}\")\n",
    "    X_calib.drop(excluded_features_columns, axis=1, inplace=True)"
   ]
  },
  {
   "cell_type": "code",
   "execution_count": 25,
   "id": "76c4dc6d",
   "metadata": {
    "execution": {
     "iopub.execute_input": "2025-08-06T17:58:01.698592Z",
     "iopub.status.busy": "2025-08-06T17:58:01.697871Z",
     "iopub.status.idle": "2025-08-06T17:58:01.703267Z",
     "shell.execute_reply": "2025-08-06T17:58:01.702350Z"
    },
    "papermill": {
     "duration": 0.028456,
     "end_time": "2025-08-06T17:58:01.704931",
     "exception": false,
     "start_time": "2025-08-06T17:58:01.676475",
     "status": "completed"
    },
    "tags": []
   },
   "outputs": [],
   "source": [
    "# EXCLUDE CERTAIN SUBGROUPS\n",
    "# -------------------------\n",
    "\n",
    "mode = universe.get(\"exclude_subgroups\", \"keep-all\") # Defaults to \"keep-all\" if the key is missing."
   ]
  },
  {
   "cell_type": "code",
   "execution_count": 26,
   "id": "21994072",
   "metadata": {
    "execution": {
     "iopub.execute_input": "2025-08-06T17:58:01.747195Z",
     "iopub.status.busy": "2025-08-06T17:58:01.746220Z",
     "iopub.status.idle": "2025-08-06T17:58:01.754005Z",
     "shell.execute_reply": "2025-08-06T17:58:01.752951Z"
    },
    "papermill": {
     "duration": 0.030864,
     "end_time": "2025-08-06T17:58:01.755642",
     "exception": false,
     "start_time": "2025-08-06T17:58:01.724778",
     "status": "completed"
    },
    "tags": []
   },
   "outputs": [],
   "source": [
    "if mode == \"keep-all\":\n",
    "    keep_mask = pd.Series(True, index=org_train.index)\n",
    "\n",
    "elif mode == \"drop-non-german\":\n",
    "    keep_mask = (org_train[\"maxdeutsch1\"] == 1) & (org_train[\"maxdeutsch.Missing.\"] == 0)\n",
    "\n",
    "else:\n",
    "    raise ValueError(f\"Unsupported mode for exclude_subgroups: {mode}\")"
   ]
  },
  {
   "cell_type": "code",
   "execution_count": 27,
   "id": "71651440",
   "metadata": {
    "execution": {
     "iopub.execute_input": "2025-08-06T17:58:01.796779Z",
     "iopub.status.busy": "2025-08-06T17:58:01.795746Z",
     "iopub.status.idle": "2025-08-06T17:58:01.803246Z",
     "shell.execute_reply": "2025-08-06T17:58:01.802213Z"
    },
    "papermill": {
     "duration": 0.029595,
     "end_time": "2025-08-06T17:58:01.804859",
     "exception": false,
     "start_time": "2025-08-06T17:58:01.775264",
     "status": "completed"
    },
    "tags": []
   },
   "outputs": [
    {
     "name": "stdout",
     "output_type": "stream",
     "text": [
      "Dropping 147 rows (14.70%) where mode='drop-non-german'\n"
     ]
    }
   ],
   "source": [
    "n_drop = (~keep_mask).sum() # Calculates how many rows are set to be dropped\n",
    "if n_drop > 0:\n",
    "    pct = n_drop / len(keep_mask) * 100\n",
    "    print(f\"Dropping {n_drop} rows ({pct:.2f}%) where mode='{mode}'\")"
   ]
  },
  {
   "cell_type": "code",
   "execution_count": 28,
   "id": "5fb8eee5",
   "metadata": {
    "execution": {
     "iopub.execute_input": "2025-08-06T17:58:01.847283Z",
     "iopub.status.busy": "2025-08-06T17:58:01.846360Z",
     "iopub.status.idle": "2025-08-06T17:58:01.853299Z",
     "shell.execute_reply": "2025-08-06T17:58:01.852260Z"
    },
    "papermill": {
     "duration": 0.029246,
     "end_time": "2025-08-06T17:58:01.855090",
     "exception": false,
     "start_time": "2025-08-06T17:58:01.825844",
     "status": "completed"
    },
    "tags": []
   },
   "outputs": [],
   "source": [
    "X_train = X_train[keep_mask]"
   ]
  },
  {
   "cell_type": "code",
   "execution_count": 29,
   "id": "b202bb3a",
   "metadata": {
    "execution": {
     "iopub.execute_input": "2025-08-06T17:58:01.898296Z",
     "iopub.status.busy": "2025-08-06T17:58:01.897650Z",
     "iopub.status.idle": "2025-08-06T17:58:01.904125Z",
     "shell.execute_reply": "2025-08-06T17:58:01.903130Z"
    },
    "papermill": {
     "duration": 0.029497,
     "end_time": "2025-08-06T17:58:01.905596",
     "exception": false,
     "start_time": "2025-08-06T17:58:01.876099",
     "status": "completed"
    },
    "tags": []
   },
   "outputs": [],
   "source": [
    "y_train = y_train[keep_mask]"
   ]
  },
  {
   "cell_type": "markdown",
   "id": "493e2ac3",
   "metadata": {
    "papermill": {
     "duration": 0.020527,
     "end_time": "2025-08-06T17:58:01.945913",
     "exception": false,
     "start_time": "2025-08-06T17:58:01.925386",
     "status": "completed"
    },
    "tags": []
   },
   "source": [
    "# Model Training"
   ]
  },
  {
   "cell_type": "code",
   "execution_count": 30,
   "id": "679e1268",
   "metadata": {
    "execution": {
     "iopub.execute_input": "2025-08-06T17:58:01.988575Z",
     "iopub.status.busy": "2025-08-06T17:58:01.987622Z",
     "iopub.status.idle": "2025-08-06T17:58:02.093673Z",
     "shell.execute_reply": "2025-08-06T17:58:02.092643Z"
    },
    "papermill": {
     "duration": 0.129163,
     "end_time": "2025-08-06T17:58:02.095593",
     "exception": false,
     "start_time": "2025-08-06T17:58:01.966430",
     "status": "completed"
    },
    "tags": []
   },
   "outputs": [],
   "source": [
    "from sklearn.linear_model import LogisticRegression\n",
    "from sklearn.ensemble import GradientBoostingClassifier, RandomForestClassifier\n",
    "\n",
    "if (universe[\"model\"] == \"logreg\"):\n",
    "    model = LogisticRegression() #penalty=\"none\", solver=\"newton-cg\", max_iter=1)\n",
    "elif (universe[\"model\"] == \"penalized_logreg\"):\n",
    "    model = LogisticRegression(penalty=\"l2\", C=0.1) #, solver=\"newton-cg\", max_iter=1)\n",
    "elif (universe[\"model\"] == \"rf\"):\n",
    "    model = RandomForestClassifier() # n_estimators=100, n_jobs=-1\n",
    "elif (universe[\"model\"] == \"gbm\"):\n",
    "    model = GradientBoostingClassifier()\n",
    "elif (universe[\"model\"] == \"elasticnet\"):\n",
    "    model = LogisticRegression(penalty = 'elasticnet', solver = 'saga', l1_ratio = 0.5) # max_iter=5000\n",
    "else:\n",
    "    raise \"Unsupported universe.model\""
   ]
  },
  {
   "cell_type": "code",
   "execution_count": 31,
   "id": "0cc8f744",
   "metadata": {
    "execution": {
     "iopub.execute_input": "2025-08-06T17:58:02.136744Z",
     "iopub.status.busy": "2025-08-06T17:58:02.136247Z",
     "iopub.status.idle": "2025-08-06T17:58:02.142840Z",
     "shell.execute_reply": "2025-08-06T17:58:02.141885Z"
    },
    "papermill": {
     "duration": 0.028914,
     "end_time": "2025-08-06T17:58:02.144609",
     "exception": false,
     "start_time": "2025-08-06T17:58:02.115695",
     "status": "completed"
    },
    "tags": []
   },
   "outputs": [],
   "source": [
    "from sklearn.pipeline import Pipeline\n",
    "from sklearn.preprocessing import StandardScaler\n",
    "\n",
    "model = Pipeline([\n",
    "    #(\"continuous_processor\", continuous_processor),\n",
    "    #(\"categorical_preprocessor\", categorical_preprocessor),\n",
    "    (\"scale\", StandardScaler() if universe[\"scale\"] == \"scale\" else None), \n",
    "    (\"model\", model),\n",
    "])"
   ]
  },
  {
   "cell_type": "code",
   "execution_count": 32,
   "id": "9442c04d",
   "metadata": {
    "execution": {
     "iopub.execute_input": "2025-08-06T17:58:02.186782Z",
     "iopub.status.busy": "2025-08-06T17:58:02.186307Z",
     "iopub.status.idle": "2025-08-06T17:58:02.231184Z",
     "shell.execute_reply": "2025-08-06T17:58:02.230339Z"
    },
    "papermill": {
     "duration": 0.068725,
     "end_time": "2025-08-06T17:58:02.233078",
     "exception": false,
     "start_time": "2025-08-06T17:58:02.164353",
     "status": "completed"
    },
    "tags": []
   },
   "outputs": [
    {
     "data": {
      "text/html": [
       "<style>#sk-container-id-1 {color: black;background-color: white;}#sk-container-id-1 pre{padding: 0;}#sk-container-id-1 div.sk-toggleable {background-color: white;}#sk-container-id-1 label.sk-toggleable__label {cursor: pointer;display: block;width: 100%;margin-bottom: 0;padding: 0.3em;box-sizing: border-box;text-align: center;}#sk-container-id-1 label.sk-toggleable__label-arrow:before {content: \"▸\";float: left;margin-right: 0.25em;color: #696969;}#sk-container-id-1 label.sk-toggleable__label-arrow:hover:before {color: black;}#sk-container-id-1 div.sk-estimator:hover label.sk-toggleable__label-arrow:before {color: black;}#sk-container-id-1 div.sk-toggleable__content {max-height: 0;max-width: 0;overflow: hidden;text-align: left;background-color: #f0f8ff;}#sk-container-id-1 div.sk-toggleable__content pre {margin: 0.2em;color: black;border-radius: 0.25em;background-color: #f0f8ff;}#sk-container-id-1 input.sk-toggleable__control:checked~div.sk-toggleable__content {max-height: 200px;max-width: 100%;overflow: auto;}#sk-container-id-1 input.sk-toggleable__control:checked~label.sk-toggleable__label-arrow:before {content: \"▾\";}#sk-container-id-1 div.sk-estimator input.sk-toggleable__control:checked~label.sk-toggleable__label {background-color: #d4ebff;}#sk-container-id-1 div.sk-label input.sk-toggleable__control:checked~label.sk-toggleable__label {background-color: #d4ebff;}#sk-container-id-1 input.sk-hidden--visually {border: 0;clip: rect(1px 1px 1px 1px);clip: rect(1px, 1px, 1px, 1px);height: 1px;margin: -1px;overflow: hidden;padding: 0;position: absolute;width: 1px;}#sk-container-id-1 div.sk-estimator {font-family: monospace;background-color: #f0f8ff;border: 1px dotted black;border-radius: 0.25em;box-sizing: border-box;margin-bottom: 0.5em;}#sk-container-id-1 div.sk-estimator:hover {background-color: #d4ebff;}#sk-container-id-1 div.sk-parallel-item::after {content: \"\";width: 100%;border-bottom: 1px solid gray;flex-grow: 1;}#sk-container-id-1 div.sk-label:hover label.sk-toggleable__label {background-color: #d4ebff;}#sk-container-id-1 div.sk-serial::before {content: \"\";position: absolute;border-left: 1px solid gray;box-sizing: border-box;top: 0;bottom: 0;left: 50%;z-index: 0;}#sk-container-id-1 div.sk-serial {display: flex;flex-direction: column;align-items: center;background-color: white;padding-right: 0.2em;padding-left: 0.2em;position: relative;}#sk-container-id-1 div.sk-item {position: relative;z-index: 1;}#sk-container-id-1 div.sk-parallel {display: flex;align-items: stretch;justify-content: center;background-color: white;position: relative;}#sk-container-id-1 div.sk-item::before, #sk-container-id-1 div.sk-parallel-item::before {content: \"\";position: absolute;border-left: 1px solid gray;box-sizing: border-box;top: 0;bottom: 0;left: 50%;z-index: -1;}#sk-container-id-1 div.sk-parallel-item {display: flex;flex-direction: column;z-index: 1;position: relative;background-color: white;}#sk-container-id-1 div.sk-parallel-item:first-child::after {align-self: flex-end;width: 50%;}#sk-container-id-1 div.sk-parallel-item:last-child::after {align-self: flex-start;width: 50%;}#sk-container-id-1 div.sk-parallel-item:only-child::after {width: 0;}#sk-container-id-1 div.sk-dashed-wrapped {border: 1px dashed gray;margin: 0 0.4em 0.5em 0.4em;box-sizing: border-box;padding-bottom: 0.4em;background-color: white;}#sk-container-id-1 div.sk-label label {font-family: monospace;font-weight: bold;display: inline-block;line-height: 1.2em;}#sk-container-id-1 div.sk-label-container {text-align: center;}#sk-container-id-1 div.sk-container {/* jupyter's `normalize.less` sets `[hidden] { display: none; }` but bootstrap.min.css set `[hidden] { display: none !important; }` so we also need the `!important` here to be able to override the default hidden behavior on the sphinx rendered scikit-learn.org. See: https://github.com/scikit-learn/scikit-learn/issues/21755 */display: inline-block !important;position: relative;}#sk-container-id-1 div.sk-text-repr-fallback {display: none;}</style><div id=\"sk-container-id-1\" class=\"sk-top-container\"><div class=\"sk-text-repr-fallback\"><pre>Pipeline(steps=[(&#x27;scale&#x27;, StandardScaler()),\n",
       "                (&#x27;model&#x27;, LogisticRegression(C=0.1))])</pre><b>In a Jupyter environment, please rerun this cell to show the HTML representation or trust the notebook. <br />On GitHub, the HTML representation is unable to render, please try loading this page with nbviewer.org.</b></div><div class=\"sk-container\" hidden><div class=\"sk-item sk-dashed-wrapped\"><div class=\"sk-label-container\"><div class=\"sk-label sk-toggleable\"><input class=\"sk-toggleable__control sk-hidden--visually\" id=\"sk-estimator-id-1\" type=\"checkbox\" ><label for=\"sk-estimator-id-1\" class=\"sk-toggleable__label sk-toggleable__label-arrow\">Pipeline</label><div class=\"sk-toggleable__content\"><pre>Pipeline(steps=[(&#x27;scale&#x27;, StandardScaler()),\n",
       "                (&#x27;model&#x27;, LogisticRegression(C=0.1))])</pre></div></div></div><div class=\"sk-serial\"><div class=\"sk-item\"><div class=\"sk-estimator sk-toggleable\"><input class=\"sk-toggleable__control sk-hidden--visually\" id=\"sk-estimator-id-2\" type=\"checkbox\" ><label for=\"sk-estimator-id-2\" class=\"sk-toggleable__label sk-toggleable__label-arrow\">StandardScaler</label><div class=\"sk-toggleable__content\"><pre>StandardScaler()</pre></div></div></div><div class=\"sk-item\"><div class=\"sk-estimator sk-toggleable\"><input class=\"sk-toggleable__control sk-hidden--visually\" id=\"sk-estimator-id-3\" type=\"checkbox\" ><label for=\"sk-estimator-id-3\" class=\"sk-toggleable__label sk-toggleable__label-arrow\">LogisticRegression</label><div class=\"sk-toggleable__content\"><pre>LogisticRegression(C=0.1)</pre></div></div></div></div></div></div></div>"
      ],
      "text/plain": [
       "Pipeline(steps=[('scale', StandardScaler()),\n",
       "                ('model', LogisticRegression(C=0.1))])"
      ]
     },
     "execution_count": 32,
     "metadata": {},
     "output_type": "execute_result"
    }
   ],
   "source": [
    "model.fit(X_train, y_train.values.ravel())"
   ]
  },
  {
   "cell_type": "code",
   "execution_count": 33,
   "id": "a7cf2e16",
   "metadata": {
    "execution": {
     "iopub.execute_input": "2025-08-06T17:58:02.275161Z",
     "iopub.status.busy": "2025-08-06T17:58:02.274797Z",
     "iopub.status.idle": "2025-08-06T17:58:02.467110Z",
     "shell.execute_reply": "2025-08-06T17:58:02.466335Z"
    },
    "papermill": {
     "duration": 0.212888,
     "end_time": "2025-08-06T17:58:02.468339",
     "exception": false,
     "start_time": "2025-08-06T17:58:02.255451",
     "status": "completed"
    },
    "tags": []
   },
   "outputs": [
    {
     "data": {
      "text/plain": [
       "0.842893768810612"
      ]
     },
     "execution_count": 33,
     "metadata": {},
     "output_type": "execute_result"
    }
   ],
   "source": [
    "from fairness_multiverse.universe import predict_w_threshold\n",
    "\n",
    "probs_test = model.predict_proba(X_test)\n",
    "\n",
    "'''\n",
    "Below code returns a boolean array (or binary 0/1 array depending on how it’s used) where each element \n",
    "is True if the probability of class 1 is greater than or equal to the threshold, and False otherwise.\n",
    "'''\n",
    "y_pred_default = predict_w_threshold(probs_test, 0.5)\n",
    "\n",
    "from sklearn.metrics import accuracy_score\n",
    "\n",
    "# Naive prediction\n",
    "accuracy_score(y_true = y_true, y_pred = y_pred_default)"
   ]
  },
  {
   "cell_type": "code",
   "execution_count": 34,
   "id": "081964c3",
   "metadata": {
    "execution": {
     "iopub.execute_input": "2025-08-06T17:58:02.493231Z",
     "iopub.status.busy": "2025-08-06T17:58:02.492849Z",
     "iopub.status.idle": "2025-08-06T17:58:02.676603Z",
     "shell.execute_reply": "2025-08-06T17:58:02.675639Z"
    },
    "papermill": {
     "duration": 0.198406,
     "end_time": "2025-08-06T17:58:02.678287",
     "exception": false,
     "start_time": "2025-08-06T17:58:02.479881",
     "status": "completed"
    },
    "tags": []
   },
   "outputs": [
    {
     "data": {
      "text/plain": [
       "array([0, 0, 0, ..., 0, 0, 0])"
      ]
     },
     "execution_count": 34,
     "metadata": {},
     "output_type": "execute_result"
    }
   ],
   "source": [
    "model.predict(X_test)"
   ]
  },
  {
   "cell_type": "markdown",
   "id": "56c9705b",
   "metadata": {
    "papermill": {
     "duration": 0.011471,
     "end_time": "2025-08-06T17:58:02.704711",
     "exception": false,
     "start_time": "2025-08-06T17:58:02.693240",
     "status": "completed"
    },
    "tags": []
   },
   "source": [
    "# Conformal Prediction"
   ]
  },
  {
   "cell_type": "code",
   "execution_count": 35,
   "id": "160ec6ff",
   "metadata": {
    "execution": {
     "iopub.execute_input": "2025-08-06T17:58:02.742418Z",
     "iopub.status.busy": "2025-08-06T17:58:02.741914Z",
     "iopub.status.idle": "2025-08-06T17:58:02.747311Z",
     "shell.execute_reply": "2025-08-06T17:58:02.746332Z"
    },
    "papermill": {
     "duration": 0.031654,
     "end_time": "2025-08-06T17:58:02.749110",
     "exception": false,
     "start_time": "2025-08-06T17:58:02.717456",
     "status": "completed"
    },
    "tags": []
   },
   "outputs": [],
   "source": [
    "# Miscoverage level for conformal prediction (10% allowed error rate => 90% target coverage)\n",
    "alpha = 0.1"
   ]
  },
  {
   "cell_type": "code",
   "execution_count": 36,
   "id": "eadf4555-3dd3-440e-8e35-f82a4ad9f855",
   "metadata": {
    "execution": {
     "iopub.execute_input": "2025-08-06T17:58:02.790748Z",
     "iopub.status.busy": "2025-08-06T17:58:02.790038Z",
     "iopub.status.idle": "2025-08-06T17:58:02.973271Z",
     "shell.execute_reply": "2025-08-06T17:58:02.972206Z"
    },
    "papermill": {
     "duration": 0.208961,
     "end_time": "2025-08-06T17:58:02.975346",
     "exception": false,
     "start_time": "2025-08-06T17:58:02.766385",
     "status": "completed"
    },
    "tags": []
   },
   "outputs": [],
   "source": [
    "probs_calib = model.predict_proba(X_calib)"
   ]
  },
  {
   "cell_type": "code",
   "execution_count": 37,
   "id": "2ed93547-6d5d-4983-9b36-1ecb300da49a",
   "metadata": {
    "execution": {
     "iopub.execute_input": "2025-08-06T17:58:03.024607Z",
     "iopub.status.busy": "2025-08-06T17:58:03.024088Z",
     "iopub.status.idle": "2025-08-06T17:58:03.030195Z",
     "shell.execute_reply": "2025-08-06T17:58:03.029265Z"
    },
    "papermill": {
     "duration": 0.03216,
     "end_time": "2025-08-06T17:58:03.031814",
     "exception": false,
     "start_time": "2025-08-06T17:58:02.999654",
     "status": "completed"
    },
    "tags": []
   },
   "outputs": [],
   "source": [
    "y_calib = y_calib.values.ravel().astype(int)"
   ]
  },
  {
   "cell_type": "code",
   "execution_count": 38,
   "id": "65d1320d-f588-4b38-9072-62af1ae97f7d",
   "metadata": {
    "execution": {
     "iopub.execute_input": "2025-08-06T17:58:03.080313Z",
     "iopub.status.busy": "2025-08-06T17:58:03.079800Z",
     "iopub.status.idle": "2025-08-06T17:58:03.088547Z",
     "shell.execute_reply": "2025-08-06T17:58:03.087571Z"
    },
    "papermill": {
     "duration": 0.035102,
     "end_time": "2025-08-06T17:58:03.090291",
     "exception": false,
     "start_time": "2025-08-06T17:58:03.055189",
     "status": "completed"
    },
    "tags": []
   },
   "outputs": [],
   "source": [
    "from fairness_multiverse.conformal import compute_nc_scores\n",
    "\n",
    "# Compute nonconformity scores on calibration set (1 - probability of true class)\n",
    "nc_scores = compute_nc_scores(probs_calib, y_calib)"
   ]
  },
  {
   "cell_type": "code",
   "execution_count": 39,
   "id": "df3b8ca3-53b7-43d5-9667-7c85da7aeda2",
   "metadata": {
    "execution": {
     "iopub.execute_input": "2025-08-06T17:58:03.135791Z",
     "iopub.status.busy": "2025-08-06T17:58:03.134969Z",
     "iopub.status.idle": "2025-08-06T17:58:03.142088Z",
     "shell.execute_reply": "2025-08-06T17:58:03.140851Z"
    },
    "papermill": {
     "duration": 0.031051,
     "end_time": "2025-08-06T17:58:03.143746",
     "exception": false,
     "start_time": "2025-08-06T17:58:03.112695",
     "status": "completed"
    },
    "tags": []
   },
   "outputs": [],
   "source": [
    "from fairness_multiverse.conformal import find_threshold\n",
    "\n",
    "# Find conformal threshold q_hat for the given alpha (split conformal method)\n",
    "q_hat = find_threshold(nc_scores, alpha)"
   ]
  },
  {
   "cell_type": "code",
   "execution_count": 40,
   "id": "4d29e6c1-0ef6-4aa4-b8fe-4fe79b0d033a",
   "metadata": {
    "execution": {
     "iopub.execute_input": "2025-08-06T17:58:03.190196Z",
     "iopub.status.busy": "2025-08-06T17:58:03.189126Z",
     "iopub.status.idle": "2025-08-06T17:58:03.196406Z",
     "shell.execute_reply": "2025-08-06T17:58:03.195430Z"
    },
    "papermill": {
     "duration": 0.032573,
     "end_time": "2025-08-06T17:58:03.197991",
     "exception": false,
     "start_time": "2025-08-06T17:58:03.165418",
     "status": "completed"
    },
    "tags": []
   },
   "outputs": [
    {
     "data": {
      "text/plain": [
       "0.7628846564779775"
      ]
     },
     "execution_count": 40,
     "metadata": {},
     "output_type": "execute_result"
    }
   ],
   "source": [
    "q_hat"
   ]
  },
  {
   "cell_type": "code",
   "execution_count": 41,
   "id": "92460794-cdac-4be2-ba28-f28c0515a6fb",
   "metadata": {
    "execution": {
     "iopub.execute_input": "2025-08-06T17:58:03.249226Z",
     "iopub.status.busy": "2025-08-06T17:58:03.243967Z",
     "iopub.status.idle": "2025-08-06T17:58:04.374256Z",
     "shell.execute_reply": "2025-08-06T17:58:04.373119Z"
    },
    "papermill": {
     "duration": 1.155632,
     "end_time": "2025-08-06T17:58:04.376787",
     "exception": false,
     "start_time": "2025-08-06T17:58:03.221155",
     "status": "completed"
    },
    "tags": []
   },
   "outputs": [],
   "source": [
    "from fairness_multiverse.conformal import predict_conformal_sets\n",
    "\n",
    "# Generate prediction sets for each test example\n",
    "pred_sets = predict_conformal_sets(model, X_test, q_hat)"
   ]
  },
  {
   "cell_type": "code",
   "execution_count": 42,
   "id": "d90c9a65-e6db-4f5d-80cd-e68fb7e46829",
   "metadata": {
    "execution": {
     "iopub.execute_input": "2025-08-06T17:58:04.450126Z",
     "iopub.status.busy": "2025-08-06T17:58:04.449134Z",
     "iopub.status.idle": "2025-08-06T17:58:04.455923Z",
     "shell.execute_reply": "2025-08-06T17:58:04.454724Z"
    },
    "papermill": {
     "duration": 0.047536,
     "end_time": "2025-08-06T17:58:04.457423",
     "exception": false,
     "start_time": "2025-08-06T17:58:04.409887",
     "status": "completed"
    },
    "tags": []
   },
   "outputs": [],
   "source": [
    "y_true = y_true.squeeze()"
   ]
  },
  {
   "cell_type": "code",
   "execution_count": 43,
   "id": "3a58a54a-1e68-46b9-927a-df01f18aebc8",
   "metadata": {
    "execution": {
     "iopub.execute_input": "2025-08-06T17:58:04.504141Z",
     "iopub.status.busy": "2025-08-06T17:58:04.503119Z",
     "iopub.status.idle": "2025-08-06T17:58:05.642581Z",
     "shell.execute_reply": "2025-08-06T17:58:05.641803Z"
    },
    "papermill": {
     "duration": 1.165242,
     "end_time": "2025-08-06T17:58:05.644943",
     "exception": false,
     "start_time": "2025-08-06T17:58:04.479701",
     "status": "completed"
    },
    "tags": []
   },
   "outputs": [],
   "source": [
    "from fairness_multiverse.conformal import evaluate_sets\n",
    "\n",
    "# Evaluate coverage and average set size on test data\n",
    "metrics = evaluate_sets(pred_sets, y_true)"
   ]
  },
  {
   "cell_type": "markdown",
   "id": "2b569c12-9aaa-4c88-98c9-bbcd0cf3ebb8",
   "metadata": {
    "papermill": {
     "duration": 0.031654,
     "end_time": "2025-08-06T17:58:05.708988",
     "exception": false,
     "start_time": "2025-08-06T17:58:05.677334",
     "status": "completed"
    },
    "tags": []
   },
   "source": [
    "# CP Metrics"
   ]
  },
  {
   "cell_type": "code",
   "execution_count": 44,
   "id": "5ce0a5cb-201f-45a0-ade5-94c7f0bd6095",
   "metadata": {
    "execution": {
     "iopub.execute_input": "2025-08-06T17:58:05.774835Z",
     "iopub.status.busy": "2025-08-06T17:58:05.774181Z",
     "iopub.status.idle": "2025-08-06T17:58:05.784058Z",
     "shell.execute_reply": "2025-08-06T17:58:05.782728Z"
    },
    "papermill": {
     "duration": 0.045651,
     "end_time": "2025-08-06T17:58:05.786396",
     "exception": false,
     "start_time": "2025-08-06T17:58:05.740745",
     "status": "completed"
    },
    "tags": []
   },
   "outputs": [
    {
     "data": {
      "text/plain": [
       "{'coverage': 0.9118158510756883, 'avg_size': 1.2064429829450452}"
      ]
     },
     "execution_count": 44,
     "metadata": {},
     "output_type": "execute_result"
    }
   ],
   "source": [
    "metrics"
   ]
  },
  {
   "cell_type": "code",
   "execution_count": 45,
   "id": "9b9a838d-31c9-430b-ae14-12baee460d17",
   "metadata": {
    "execution": {
     "iopub.execute_input": "2025-08-06T17:58:05.853734Z",
     "iopub.status.busy": "2025-08-06T17:58:05.852496Z",
     "iopub.status.idle": "2025-08-06T17:58:05.861468Z",
     "shell.execute_reply": "2025-08-06T17:58:05.860123Z"
    },
    "papermill": {
     "duration": 0.04546,
     "end_time": "2025-08-06T17:58:05.864124",
     "exception": false,
     "start_time": "2025-08-06T17:58:05.818664",
     "status": "completed"
    },
    "tags": []
   },
   "outputs": [],
   "source": [
    "example_universe = universe.copy()\n",
    "universe_training_year = example_universe.get(\"training_year\")\n",
    "universe_training_size = example_universe.get(\"training_size\")\n",
    "universe_scale = example_universe.get(\"scale\")\n",
    "universe_model = example_universe.get(\"model\")\n",
    "universe_exclude_features = example_universe.get(\"exclude_features\")\n",
    "universe_exclude_subgroups = example_universe.get(\"exclude_subgroups\")"
   ]
  },
  {
   "cell_type": "code",
   "execution_count": 46,
   "id": "f4b6a8ac-9dc0-4245-8a91-5b3b5999c4f9",
   "metadata": {
    "execution": {
     "iopub.execute_input": "2025-08-06T17:58:05.933176Z",
     "iopub.status.busy": "2025-08-06T17:58:05.932670Z",
     "iopub.status.idle": "2025-08-06T17:58:05.941637Z",
     "shell.execute_reply": "2025-08-06T17:58:05.940009Z"
    },
    "papermill": {
     "duration": 0.046628,
     "end_time": "2025-08-06T17:58:05.944285",
     "exception": false,
     "start_time": "2025-08-06T17:58:05.897657",
     "status": "completed"
    },
    "tags": []
   },
   "outputs": [],
   "source": [
    "cp_metrics_dict = {\n",
    "    \"universe_id\": [universe_id],\n",
    "    \"universe_training_year\": [universe_training_year],\n",
    "    \"universe_training_size\": [universe_training_size],\n",
    "    \"universe_scale\": [universe_scale],\n",
    "    \"universe_model\": [universe_model],\n",
    "    \"universe_exclude_features\": [universe_exclude_features],\n",
    "    \"universe_exclude_subgroups\": [universe_exclude_subgroups],\n",
    "    \"q_hat\": [q_hat],\n",
    "    \"coverage\": [metrics[\"coverage\"]],\n",
    "    \"avg_size\": [metrics[\"avg_size\"]],\n",
    "}"
   ]
  },
  {
   "cell_type": "code",
   "execution_count": 47,
   "id": "33007efc-14e9-4ec6-97ac-56a455c82265",
   "metadata": {
    "execution": {
     "iopub.execute_input": "2025-08-06T17:58:06.010204Z",
     "iopub.status.busy": "2025-08-06T17:58:06.009526Z",
     "iopub.status.idle": "2025-08-06T17:58:06.019273Z",
     "shell.execute_reply": "2025-08-06T17:58:06.017742Z"
    },
    "papermill": {
     "duration": 0.043308,
     "end_time": "2025-08-06T17:58:06.021839",
     "exception": false,
     "start_time": "2025-08-06T17:58:05.978531",
     "status": "completed"
    },
    "tags": []
   },
   "outputs": [],
   "source": [
    "cp_metrics_df = pd.DataFrame(cp_metrics_dict)"
   ]
  },
  {
   "cell_type": "code",
   "execution_count": 48,
   "id": "db12611b-57b2-4910-b9d0-355adfd6e7bf",
   "metadata": {
    "execution": {
     "iopub.execute_input": "2025-08-06T17:58:06.088043Z",
     "iopub.status.busy": "2025-08-06T17:58:06.087218Z",
     "iopub.status.idle": "2025-08-06T17:58:06.111915Z",
     "shell.execute_reply": "2025-08-06T17:58:06.110317Z"
    },
    "papermill": {
     "duration": 0.060379,
     "end_time": "2025-08-06T17:58:06.114330",
     "exception": false,
     "start_time": "2025-08-06T17:58:06.053951",
     "status": "completed"
    },
    "tags": []
   },
   "outputs": [
    {
     "data": {
      "text/html": [
       "<div>\n",
       "<style scoped>\n",
       "    .dataframe tbody tr th:only-of-type {\n",
       "        vertical-align: middle;\n",
       "    }\n",
       "\n",
       "    .dataframe tbody tr th {\n",
       "        vertical-align: top;\n",
       "    }\n",
       "\n",
       "    .dataframe thead th {\n",
       "        text-align: right;\n",
       "    }\n",
       "</style>\n",
       "<table border=\"1\" class=\"dataframe\">\n",
       "  <thead>\n",
       "    <tr style=\"text-align: right;\">\n",
       "      <th></th>\n",
       "      <th>universe_id</th>\n",
       "      <th>universe_training_year</th>\n",
       "      <th>universe_training_size</th>\n",
       "      <th>universe_scale</th>\n",
       "      <th>universe_model</th>\n",
       "      <th>universe_exclude_features</th>\n",
       "      <th>universe_exclude_subgroups</th>\n",
       "      <th>q_hat</th>\n",
       "      <th>coverage</th>\n",
       "      <th>avg_size</th>\n",
       "    </tr>\n",
       "  </thead>\n",
       "  <tbody>\n",
       "    <tr>\n",
       "      <th>0</th>\n",
       "      <td>141f3a4594cc072f25839a087163dbfd</td>\n",
       "      <td>2012_14</td>\n",
       "      <td>1k</td>\n",
       "      <td>scale</td>\n",
       "      <td>penalized_logreg</td>\n",
       "      <td>age</td>\n",
       "      <td>drop-non-german</td>\n",
       "      <td>0.762885</td>\n",
       "      <td>0.911816</td>\n",
       "      <td>1.206443</td>\n",
       "    </tr>\n",
       "  </tbody>\n",
       "</table>\n",
       "</div>"
      ],
      "text/plain": [
       "                        universe_id universe_training_year  \\\n",
       "0  141f3a4594cc072f25839a087163dbfd                2012_14   \n",
       "\n",
       "  universe_training_size universe_scale    universe_model  \\\n",
       "0                     1k          scale  penalized_logreg   \n",
       "\n",
       "  universe_exclude_features universe_exclude_subgroups     q_hat  coverage  \\\n",
       "0                       age            drop-non-german  0.762885  0.911816   \n",
       "\n",
       "   avg_size  \n",
       "0  1.206443  "
      ]
     },
     "execution_count": 48,
     "metadata": {},
     "output_type": "execute_result"
    }
   ],
   "source": [
    "cp_metrics_df"
   ]
  },
  {
   "cell_type": "markdown",
   "id": "c825ecb4-0d3d-41d6-b7c6-eccb21272259",
   "metadata": {
    "papermill": {
     "duration": 0.031828,
     "end_time": "2025-08-06T17:58:06.177351",
     "exception": false,
     "start_time": "2025-08-06T17:58:06.145523",
     "status": "completed"
    },
    "tags": []
   },
   "source": [
    "Conditional coverage & looking at subgroups"
   ]
  },
  {
   "cell_type": "code",
   "execution_count": 49,
   "id": "027ae886-68dd-4141-96c7-805a5450e1ef",
   "metadata": {
    "execution": {
     "iopub.execute_input": "2025-08-06T17:58:06.233890Z",
     "iopub.status.busy": "2025-08-06T17:58:06.233001Z",
     "iopub.status.idle": "2025-08-06T17:58:06.596759Z",
     "shell.execute_reply": "2025-08-06T17:58:06.595479Z"
    },
    "papermill": {
     "duration": 0.392052,
     "end_time": "2025-08-06T17:58:06.599359",
     "exception": false,
     "start_time": "2025-08-06T17:58:06.207307",
     "status": "completed"
    },
    "tags": []
   },
   "outputs": [],
   "source": [
    "from fairness_multiverse.conformal import build_cp_groups\n",
    "\n",
    "cp_groups_df = build_cp_groups(pred_sets, y_true, X_test.index, org_test)"
   ]
  },
  {
   "cell_type": "code",
   "execution_count": 50,
   "id": "6cbdab96-b2b2-45af-ad54-d0516db2e28d",
   "metadata": {
    "execution": {
     "iopub.execute_input": "2025-08-06T17:58:06.670252Z",
     "iopub.status.busy": "2025-08-06T17:58:06.669327Z",
     "iopub.status.idle": "2025-08-06T17:58:08.282528Z",
     "shell.execute_reply": "2025-08-06T17:58:08.281619Z"
    },
    "papermill": {
     "duration": 1.647977,
     "end_time": "2025-08-06T17:58:08.284386",
     "exception": false,
     "start_time": "2025-08-06T17:58:06.636409",
     "status": "completed"
    },
    "tags": []
   },
   "outputs": [],
   "source": [
    "# Define covered = 1 if true_label is in the predicted set\n",
    "cp_groups_df['covered'] = cp_groups_df.apply(\n",
    "    lambda r: int(r['true_label'] in r['pred_set']),\n",
    "    axis=1\n",
    ")"
   ]
  },
  {
   "cell_type": "code",
   "execution_count": 51,
   "id": "90032e27-66df-4540-9169-4e89cfbaa758",
   "metadata": {
    "execution": {
     "iopub.execute_input": "2025-08-06T17:58:08.348927Z",
     "iopub.status.busy": "2025-08-06T17:58:08.348420Z",
     "iopub.status.idle": "2025-08-06T17:58:08.359668Z",
     "shell.execute_reply": "2025-08-06T17:58:08.358696Z"
    },
    "papermill": {
     "duration": 0.055739,
     "end_time": "2025-08-06T17:58:08.361356",
     "exception": false,
     "start_time": "2025-08-06T17:58:08.305617",
     "status": "completed"
    },
    "tags": []
   },
   "outputs": [],
   "source": [
    "subgroups = ['frau1','nongerman','nongerman_male','nongerman_female']\n",
    "\n",
    "# Conditional coverage for subgroup==1\n",
    "cond_coverage = {\n",
    "    g: cp_groups_df.loc[cp_groups_df[g]==1, 'covered'].mean()\n",
    "    for g in subgroups\n",
    "}"
   ]
  },
  {
   "cell_type": "code",
   "execution_count": 52,
   "id": "1e348fb1-b9c3-45bc-ba23-f016827a7e0d",
   "metadata": {
    "execution": {
     "iopub.execute_input": "2025-08-06T17:58:08.405122Z",
     "iopub.status.busy": "2025-08-06T17:58:08.404457Z",
     "iopub.status.idle": "2025-08-06T17:58:08.411539Z",
     "shell.execute_reply": "2025-08-06T17:58:08.410742Z"
    },
    "papermill": {
     "duration": 0.030527,
     "end_time": "2025-08-06T17:58:08.413050",
     "exception": false,
     "start_time": "2025-08-06T17:58:08.382523",
     "status": "completed"
    },
    "tags": []
   },
   "outputs": [
    {
     "data": {
      "text/plain": [
       "{'frau1': 0.901900525677315,\n",
       " 'nongerman': 0.9139953966204457,\n",
       " 'nongerman_male': 0.9349725299468612,\n",
       " 'nongerman_female': 0.879284649776453}"
      ]
     },
     "execution_count": 52,
     "metadata": {},
     "output_type": "execute_result"
    }
   ],
   "source": [
    "cond_coverage"
   ]
  },
  {
   "cell_type": "code",
   "execution_count": 53,
   "id": "f5093324-c3dd-4d63-bc4c-8d945e5c8bbb",
   "metadata": {
    "execution": {
     "iopub.execute_input": "2025-08-06T17:58:08.457002Z",
     "iopub.status.busy": "2025-08-06T17:58:08.456495Z",
     "iopub.status.idle": "2025-08-06T17:58:08.463592Z",
     "shell.execute_reply": "2025-08-06T17:58:08.462657Z"
    },
    "papermill": {
     "duration": 0.030895,
     "end_time": "2025-08-06T17:58:08.465347",
     "exception": false,
     "start_time": "2025-08-06T17:58:08.434452",
     "status": "completed"
    },
    "tags": []
   },
   "outputs": [],
   "source": [
    "for subgroup, cov in cond_coverage.items():\n",
    "    cp_metrics_df[f\"cov_{subgroup}\"] = cov"
   ]
  },
  {
   "cell_type": "code",
   "execution_count": 54,
   "id": "6e872e10-dbe5-49e8-b554-5030c98ff75d",
   "metadata": {
    "execution": {
     "iopub.execute_input": "2025-08-06T17:58:08.509355Z",
     "iopub.status.busy": "2025-08-06T17:58:08.508888Z",
     "iopub.status.idle": "2025-08-06T17:58:08.527546Z",
     "shell.execute_reply": "2025-08-06T17:58:08.526573Z"
    },
    "papermill": {
     "duration": 0.042424,
     "end_time": "2025-08-06T17:58:08.529328",
     "exception": false,
     "start_time": "2025-08-06T17:58:08.486904",
     "status": "completed"
    },
    "tags": []
   },
   "outputs": [
    {
     "data": {
      "text/html": [
       "<div>\n",
       "<style scoped>\n",
       "    .dataframe tbody tr th:only-of-type {\n",
       "        vertical-align: middle;\n",
       "    }\n",
       "\n",
       "    .dataframe tbody tr th {\n",
       "        vertical-align: top;\n",
       "    }\n",
       "\n",
       "    .dataframe thead th {\n",
       "        text-align: right;\n",
       "    }\n",
       "</style>\n",
       "<table border=\"1\" class=\"dataframe\">\n",
       "  <thead>\n",
       "    <tr style=\"text-align: right;\">\n",
       "      <th></th>\n",
       "      <th>universe_id</th>\n",
       "      <th>universe_training_year</th>\n",
       "      <th>universe_training_size</th>\n",
       "      <th>universe_scale</th>\n",
       "      <th>universe_model</th>\n",
       "      <th>universe_exclude_features</th>\n",
       "      <th>universe_exclude_subgroups</th>\n",
       "      <th>q_hat</th>\n",
       "      <th>coverage</th>\n",
       "      <th>avg_size</th>\n",
       "      <th>cov_frau1</th>\n",
       "      <th>cov_nongerman</th>\n",
       "      <th>cov_nongerman_male</th>\n",
       "      <th>cov_nongerman_female</th>\n",
       "    </tr>\n",
       "  </thead>\n",
       "  <tbody>\n",
       "    <tr>\n",
       "      <th>0</th>\n",
       "      <td>141f3a4594cc072f25839a087163dbfd</td>\n",
       "      <td>2012_14</td>\n",
       "      <td>1k</td>\n",
       "      <td>scale</td>\n",
       "      <td>penalized_logreg</td>\n",
       "      <td>age</td>\n",
       "      <td>drop-non-german</td>\n",
       "      <td>0.762885</td>\n",
       "      <td>0.911816</td>\n",
       "      <td>1.206443</td>\n",
       "      <td>0.901901</td>\n",
       "      <td>0.913995</td>\n",
       "      <td>0.934973</td>\n",
       "      <td>0.879285</td>\n",
       "    </tr>\n",
       "  </tbody>\n",
       "</table>\n",
       "</div>"
      ],
      "text/plain": [
       "                        universe_id universe_training_year  \\\n",
       "0  141f3a4594cc072f25839a087163dbfd                2012_14   \n",
       "\n",
       "  universe_training_size universe_scale    universe_model  \\\n",
       "0                     1k          scale  penalized_logreg   \n",
       "\n",
       "  universe_exclude_features universe_exclude_subgroups     q_hat  coverage  \\\n",
       "0                       age            drop-non-german  0.762885  0.911816   \n",
       "\n",
       "   avg_size  cov_frau1  cov_nongerman  cov_nongerman_male  \\\n",
       "0  1.206443   0.901901       0.913995            0.934973   \n",
       "\n",
       "   cov_nongerman_female  \n",
       "0              0.879285  "
      ]
     },
     "execution_count": 54,
     "metadata": {},
     "output_type": "execute_result"
    }
   ],
   "source": [
    "cp_metrics_df"
   ]
  },
  {
   "cell_type": "markdown",
   "id": "33774451",
   "metadata": {
    "papermill": {
     "duration": 0.020992,
     "end_time": "2025-08-06T17:58:08.571499",
     "exception": false,
     "start_time": "2025-08-06T17:58:08.550507",
     "status": "completed"
    },
    "tags": []
   },
   "source": [
    "# (Fairness) Metrics"
   ]
  },
  {
   "cell_type": "code",
   "execution_count": 55,
   "id": "debc5d62",
   "metadata": {
    "execution": {
     "iopub.execute_input": "2025-08-06T17:58:08.616073Z",
     "iopub.status.busy": "2025-08-06T17:58:08.615349Z",
     "iopub.status.idle": "2025-08-06T17:58:08.635523Z",
     "shell.execute_reply": "2025-08-06T17:58:08.634592Z"
    },
    "papermill": {
     "duration": 0.044997,
     "end_time": "2025-08-06T17:58:08.637543",
     "exception": false,
     "start_time": "2025-08-06T17:58:08.592546",
     "status": "completed"
    },
    "tags": []
   },
   "outputs": [],
   "source": [
    "colname_to_bin = \"maxdeutsch1\"\n",
    "majority_value = org_train[colname_to_bin].mode()[0]\n",
    "\n",
    "org_test[\"majmin\"] = np.where(org_test[colname_to_bin] == majority_value, \"majority\", \"minority\")"
   ]
  },
  {
   "cell_type": "code",
   "execution_count": 56,
   "id": "06a50de5",
   "metadata": {
    "execution": {
     "iopub.execute_input": "2025-08-06T17:58:08.682500Z",
     "iopub.status.busy": "2025-08-06T17:58:08.681966Z",
     "iopub.status.idle": "2025-08-06T17:58:11.083686Z",
     "shell.execute_reply": "2025-08-06T17:58:11.082924Z"
    },
    "papermill": {
     "duration": 2.426068,
     "end_time": "2025-08-06T17:58:11.085207",
     "exception": false,
     "start_time": "2025-08-06T17:58:08.659139",
     "status": "completed"
    },
    "tags": []
   },
   "outputs": [],
   "source": [
    "example_universe = universe.copy()\n",
    "example_universe[\"cutoff\"] = example_universe[\"cutoff\"][0]\n",
    "example_universe[\"eval_fairness_grouping\"] = example_universe[\"eval_fairness_grouping\"][0]\n",
    "fairness_dict, metric_frame = universe_analysis.compute_metrics(\n",
    "    example_universe,\n",
    "    y_pred_prob=probs_test,\n",
    "    y_test=y_true,\n",
    "    org_test=org_test,\n",
    ")"
   ]
  },
  {
   "cell_type": "markdown",
   "id": "f95d4e02",
   "metadata": {
    "papermill": {
     "duration": 0.021771,
     "end_time": "2025-08-06T17:58:11.122178",
     "exception": false,
     "start_time": "2025-08-06T17:58:11.100407",
     "status": "completed"
    },
    "tags": []
   },
   "source": [
    "# Overall"
   ]
  },
  {
   "cell_type": "markdown",
   "id": "bdee4871",
   "metadata": {
    "papermill": {
     "duration": 0.018307,
     "end_time": "2025-08-06T17:58:11.165140",
     "exception": false,
     "start_time": "2025-08-06T17:58:11.146833",
     "status": "completed"
    },
    "tags": []
   },
   "source": [
    "Main fairness target: Equalized Odds. Seems to be a better fit than equal opportunity, since we're not only interested in Y = 1. Seems to be a better fit than demographic parity, since we also care about accuracy, not just equal distribution of preds.\n",
    "\n",
    "Pick column for computation of fairness metrics\n",
    "\n",
    "Performance\n",
    "Overall performance measures, most interesting in relation to the measures split by group below"
   ]
  },
  {
   "cell_type": "code",
   "execution_count": 57,
   "id": "c4e067c6",
   "metadata": {
    "execution": {
     "iopub.execute_input": "2025-08-06T17:58:11.191730Z",
     "iopub.status.busy": "2025-08-06T17:58:11.191374Z",
     "iopub.status.idle": "2025-08-06T17:58:11.198428Z",
     "shell.execute_reply": "2025-08-06T17:58:11.197692Z"
    },
    "papermill": {
     "duration": 0.021625,
     "end_time": "2025-08-06T17:58:11.199725",
     "exception": false,
     "start_time": "2025-08-06T17:58:11.178100",
     "status": "completed"
    },
    "tags": []
   },
   "outputs": [
    {
     "data": {
      "text/plain": [
       "accuracy                   0.218805\n",
       "balanced accuracy          0.536175\n",
       "f1                         0.240290\n",
       "precision                  0.137269\n",
       "false positive rate        0.890719\n",
       "false negative rate        0.036931\n",
       "selection rate             0.900000\n",
       "count                  89710.000000\n",
       "dtype: float64"
      ]
     },
     "execution_count": 57,
     "metadata": {},
     "output_type": "execute_result"
    }
   ],
   "source": [
    "metric_frame.overall"
   ]
  },
  {
   "cell_type": "markdown",
   "id": "e968fe9d",
   "metadata": {
    "papermill": {
     "duration": 0.012357,
     "end_time": "2025-08-06T17:58:11.225177",
     "exception": false,
     "start_time": "2025-08-06T17:58:11.212820",
     "status": "completed"
    },
    "tags": []
   },
   "source": [
    "By Group"
   ]
  },
  {
   "cell_type": "code",
   "execution_count": 58,
   "id": "ec325bce",
   "metadata": {
    "execution": {
     "iopub.execute_input": "2025-08-06T17:58:11.251168Z",
     "iopub.status.busy": "2025-08-06T17:58:11.250651Z",
     "iopub.status.idle": "2025-08-06T17:58:11.263164Z",
     "shell.execute_reply": "2025-08-06T17:58:11.262339Z"
    },
    "papermill": {
     "duration": 0.02716,
     "end_time": "2025-08-06T17:58:11.264503",
     "exception": false,
     "start_time": "2025-08-06T17:58:11.237343",
     "status": "completed"
    },
    "tags": []
   },
   "outputs": [
    {
     "data": {
      "text/html": [
       "<div>\n",
       "<style scoped>\n",
       "    .dataframe tbody tr th:only-of-type {\n",
       "        vertical-align: middle;\n",
       "    }\n",
       "\n",
       "    .dataframe tbody tr th {\n",
       "        vertical-align: top;\n",
       "    }\n",
       "\n",
       "    .dataframe thead th {\n",
       "        text-align: right;\n",
       "    }\n",
       "</style>\n",
       "<table border=\"1\" class=\"dataframe\">\n",
       "  <thead>\n",
       "    <tr style=\"text-align: right;\">\n",
       "      <th></th>\n",
       "      <th>accuracy</th>\n",
       "      <th>balanced accuracy</th>\n",
       "      <th>f1</th>\n",
       "      <th>precision</th>\n",
       "      <th>false positive rate</th>\n",
       "      <th>false negative rate</th>\n",
       "      <th>selection rate</th>\n",
       "      <th>count</th>\n",
       "    </tr>\n",
       "    <tr>\n",
       "      <th>majmin</th>\n",
       "      <th></th>\n",
       "      <th></th>\n",
       "      <th></th>\n",
       "      <th></th>\n",
       "      <th></th>\n",
       "      <th></th>\n",
       "      <th></th>\n",
       "      <th></th>\n",
       "    </tr>\n",
       "  </thead>\n",
       "  <tbody>\n",
       "    <tr>\n",
       "      <th>majority</th>\n",
       "      <td>0.234683</td>\n",
       "      <td>0.541503</td>\n",
       "      <td>0.248684</td>\n",
       "      <td>0.142876</td>\n",
       "      <td>0.875529</td>\n",
       "      <td>0.041466</td>\n",
       "      <td>0.886497</td>\n",
       "      <td>69170.0</td>\n",
       "    </tr>\n",
       "    <tr>\n",
       "      <th>minority</th>\n",
       "      <td>0.165336</td>\n",
       "      <td>0.519838</td>\n",
       "      <td>0.213145</td>\n",
       "      <td>0.119567</td>\n",
       "      <td>0.940898</td>\n",
       "      <td>0.019426</td>\n",
       "      <td>0.945472</td>\n",
       "      <td>20540.0</td>\n",
       "    </tr>\n",
       "  </tbody>\n",
       "</table>\n",
       "</div>"
      ],
      "text/plain": [
       "          accuracy  balanced accuracy        f1  precision  \\\n",
       "majmin                                                       \n",
       "majority  0.234683           0.541503  0.248684   0.142876   \n",
       "minority  0.165336           0.519838  0.213145   0.119567   \n",
       "\n",
       "          false positive rate  false negative rate  selection rate    count  \n",
       "majmin                                                                       \n",
       "majority             0.875529             0.041466        0.886497  69170.0  \n",
       "minority             0.940898             0.019426        0.945472  20540.0  "
      ]
     },
     "execution_count": 58,
     "metadata": {},
     "output_type": "execute_result"
    }
   ],
   "source": [
    "metric_frame.by_group"
   ]
  },
  {
   "cell_type": "code",
   "execution_count": 59,
   "id": "a9ddbe63",
   "metadata": {
    "execution": {
     "iopub.execute_input": "2025-08-06T17:58:11.292131Z",
     "iopub.status.busy": "2025-08-06T17:58:11.291596Z",
     "iopub.status.idle": "2025-08-06T17:58:13.087290Z",
     "shell.execute_reply": "2025-08-06T17:58:13.086227Z"
    },
    "papermill": {
     "duration": 1.811133,
     "end_time": "2025-08-06T17:58:13.089180",
     "exception": false,
     "start_time": "2025-08-06T17:58:11.278047",
     "status": "completed"
    },
    "tags": []
   },
   "outputs": [
    {
     "data": {
      "text/plain": [
       "array([[<Axes: title={'center': 'accuracy'}, xlabel='majmin'>,\n",
       "        <Axes: title={'center': 'balanced accuracy'}, xlabel='majmin'>,\n",
       "        <Axes: title={'center': 'f1'}, xlabel='majmin'>],\n",
       "       [<Axes: title={'center': 'precision'}, xlabel='majmin'>,\n",
       "        <Axes: title={'center': 'false positive rate'}, xlabel='majmin'>,\n",
       "        <Axes: title={'center': 'false negative rate'}, xlabel='majmin'>],\n",
       "       [<Axes: title={'center': 'selection rate'}, xlabel='majmin'>,\n",
       "        <Axes: title={'center': 'count'}, xlabel='majmin'>,\n",
       "        <Axes: xlabel='majmin'>]], dtype=object)"
      ]
     },
     "execution_count": 59,
     "metadata": {},
     "output_type": "execute_result"
    },
    {
     "data": {
      "image/png": "[encoded data removed]",
      "text/plain": [
       "<Figure size 1200x800 with 9 Axes>"
      ]
     },
     "metadata": {},
     "output_type": "display_data"
    }
   ],
   "source": [
    "# In a graphic\n",
    "metric_frame.by_group.plot.bar(\n",
    "    subplots=True,\n",
    "    layout=[3, 3],\n",
    "    legend=False,\n",
    "    figsize=[12, 8],\n",
    "    title=\"Show all metrics\",\n",
    ")"
   ]
  },
  {
   "cell_type": "markdown",
   "id": "f57a0bac",
   "metadata": {
    "papermill": {
     "duration": 0.023717,
     "end_time": "2025-08-06T17:58:13.140788",
     "exception": false,
     "start_time": "2025-08-06T17:58:13.117071",
     "status": "completed"
    },
    "tags": []
   },
   "source": [
    "# Final Output"
   ]
  },
  {
   "cell_type": "code",
   "execution_count": 60,
   "id": "96d280a3",
   "metadata": {
    "execution": {
     "iopub.execute_input": "2025-08-06T17:58:13.194488Z",
     "iopub.status.busy": "2025-08-06T17:58:13.193923Z",
     "iopub.status.idle": "2025-08-06T17:58:13.201986Z",
     "shell.execute_reply": "2025-08-06T17:58:13.201124Z"
    },
    "papermill": {
     "duration": 0.03576,
     "end_time": "2025-08-06T17:58:13.203313",
     "exception": false,
     "start_time": "2025-08-06T17:58:13.167553",
     "status": "completed"
    },
    "tags": []
   },
   "outputs": [
    {
     "data": {
      "text/plain": [
       "4"
      ]
     },
     "execution_count": 60,
     "metadata": {},
     "output_type": "execute_result"
    }
   ],
   "source": [
    "sub_universes = universe_analysis.generate_sub_universes()\n",
    "len(sub_universes)"
   ]
  },
  {
   "cell_type": "code",
   "execution_count": 61,
   "id": "92adf7ba",
   "metadata": {
    "execution": {
     "iopub.execute_input": "2025-08-06T17:58:13.233831Z",
     "iopub.status.busy": "2025-08-06T17:58:13.233304Z",
     "iopub.status.idle": "2025-08-06T17:58:13.238392Z",
     "shell.execute_reply": "2025-08-06T17:58:13.237700Z"
    },
    "papermill": {
     "duration": 0.021761,
     "end_time": "2025-08-06T17:58:13.239774",
     "exception": false,
     "start_time": "2025-08-06T17:58:13.218013",
     "status": "completed"
    },
    "tags": []
   },
   "outputs": [],
   "source": [
    "def filter_sub_universe_data(sub_universe, org_test):\n",
    "    # Keep all rows — no filtering\n",
    "    keep_rows_mask = np.ones(org_test.shape[0], dtype=bool)\n",
    "\n",
    "    print(f\"[INFO] Keeping all rows: {keep_rows_mask.sum()} rows retained.\")\n",
    "    return keep_rows_mask"
   ]
  },
  {
   "cell_type": "code",
   "execution_count": 62,
   "id": "4a759155",
   "metadata": {
    "execution": {
     "iopub.execute_input": "2025-08-06T17:58:13.279152Z",
     "iopub.status.busy": "2025-08-06T17:58:13.278714Z",
     "iopub.status.idle": "2025-08-06T17:58:24.309647Z",
     "shell.execute_reply": "2025-08-06T17:58:24.308251Z"
    },
    "papermill": {
     "duration": 11.04953,
     "end_time": "2025-08-06T17:58:24.311893",
     "exception": false,
     "start_time": "2025-08-06T17:58:13.262363",
     "status": "completed"
    },
    "tags": []
   },
   "outputs": [
    {
     "name": "stdout",
     "output_type": "stream",
     "text": [
      "Stopping execution_time clock.\n",
      "[INFO] Keeping all rows: 89710 rows retained.\n"
     ]
    },
    {
     "name": "stdout",
     "output_type": "stream",
     "text": [
      "[INFO] Keeping all rows: 89710 rows retained.\n"
     ]
    },
    {
     "name": "stdout",
     "output_type": "stream",
     "text": [
      "[INFO] Keeping all rows: 89710 rows retained.\n"
     ]
    },
    {
     "name": "stdout",
     "output_type": "stream",
     "text": [
      "[INFO] Keeping all rows: 89710 rows retained.\n"
     ]
    },
    {
     "data": {
      "text/html": [
       "<div>\n",
       "<style scoped>\n",
       "    .dataframe tbody tr th:only-of-type {\n",
       "        vertical-align: middle;\n",
       "    }\n",
       "\n",
       "    .dataframe tbody tr th {\n",
       "        vertical-align: top;\n",
       "    }\n",
       "\n",
       "    .dataframe thead th {\n",
       "        text-align: right;\n",
       "    }\n",
       "</style>\n",
       "<table border=\"1\" class=\"dataframe\">\n",
       "  <thead>\n",
       "    <tr style=\"text-align: right;\">\n",
       "      <th></th>\n",
       "      <th>run_no</th>\n",
       "      <th>universe_id</th>\n",
       "      <th>universe_settings</th>\n",
       "      <th>execution_time</th>\n",
       "      <th>test_size_n</th>\n",
       "      <th>test_size_frac</th>\n",
       "      <th>fair_main_equalized_odds_difference</th>\n",
       "      <th>fair_main_equalized_odds_ratio</th>\n",
       "      <th>fair_main_demographic_parity_difference</th>\n",
       "      <th>fair_main_demographic_parity_ratio</th>\n",
       "      <th>...</th>\n",
       "      <th>perf_grp_precision_0</th>\n",
       "      <th>perf_grp_precision_1</th>\n",
       "      <th>perf_grp_false positive rate_0</th>\n",
       "      <th>perf_grp_false positive rate_1</th>\n",
       "      <th>perf_grp_false negative rate_0</th>\n",
       "      <th>perf_grp_false negative rate_1</th>\n",
       "      <th>perf_grp_selection rate_0</th>\n",
       "      <th>perf_grp_selection rate_1</th>\n",
       "      <th>perf_grp_count_0</th>\n",
       "      <th>perf_grp_count_1</th>\n",
       "    </tr>\n",
       "  </thead>\n",
       "  <tbody>\n",
       "    <tr>\n",
       "      <th>0</th>\n",
       "      <td>1</td>\n",
       "      <td>141f3a4594cc072f25839a087163dbfd</td>\n",
       "      <td>{\"cutoff\": \"quantile_0.1\", \"eval_fairness_grou...</td>\n",
       "      <td>26.546424</td>\n",
       "      <td>89710</td>\n",
       "      <td>1.0</td>\n",
       "      <td>0.065369</td>\n",
       "      <td>0.930525</td>\n",
       "      <td>0.058975</td>\n",
       "      <td>0.937624</td>\n",
       "      <td>...</td>\n",
       "      <td>NaN</td>\n",
       "      <td>NaN</td>\n",
       "      <td>NaN</td>\n",
       "      <td>NaN</td>\n",
       "      <td>NaN</td>\n",
       "      <td>NaN</td>\n",
       "      <td>NaN</td>\n",
       "      <td>NaN</td>\n",
       "      <td>NaN</td>\n",
       "      <td>NaN</td>\n",
       "    </tr>\n",
       "    <tr>\n",
       "      <th>0</th>\n",
       "      <td>1</td>\n",
       "      <td>141f3a4594cc072f25839a087163dbfd</td>\n",
       "      <td>{\"cutoff\": \"quantile_0.1\", \"eval_fairness_grou...</td>\n",
       "      <td>26.546424</td>\n",
       "      <td>89710</td>\n",
       "      <td>1.0</td>\n",
       "      <td>0.065369</td>\n",
       "      <td>0.930525</td>\n",
       "      <td>0.058975</td>\n",
       "      <td>0.937624</td>\n",
       "      <td>...</td>\n",
       "      <td>0.119567</td>\n",
       "      <td>0.142876</td>\n",
       "      <td>0.940898</td>\n",
       "      <td>0.875529</td>\n",
       "      <td>0.019426</td>\n",
       "      <td>0.041466</td>\n",
       "      <td>0.945472</td>\n",
       "      <td>0.886497</td>\n",
       "      <td>20540.0</td>\n",
       "      <td>69170.0</td>\n",
       "    </tr>\n",
       "    <tr>\n",
       "      <th>0</th>\n",
       "      <td>1</td>\n",
       "      <td>141f3a4594cc072f25839a087163dbfd</td>\n",
       "      <td>{\"cutoff\": \"quantile_0.25\", \"eval_fairness_gro...</td>\n",
       "      <td>26.546424</td>\n",
       "      <td>89710</td>\n",
       "      <td>1.0</td>\n",
       "      <td>0.145415</td>\n",
       "      <td>0.827130</td>\n",
       "      <td>0.131154</td>\n",
       "      <td>0.845904</td>\n",
       "      <td>...</td>\n",
       "      <td>NaN</td>\n",
       "      <td>NaN</td>\n",
       "      <td>NaN</td>\n",
       "      <td>NaN</td>\n",
       "      <td>NaN</td>\n",
       "      <td>NaN</td>\n",
       "      <td>NaN</td>\n",
       "      <td>NaN</td>\n",
       "      <td>NaN</td>\n",
       "      <td>NaN</td>\n",
       "    </tr>\n",
       "    <tr>\n",
       "      <th>0</th>\n",
       "      <td>1</td>\n",
       "      <td>141f3a4594cc072f25839a087163dbfd</td>\n",
       "      <td>{\"cutoff\": \"quantile_0.25\", \"eval_fairness_gro...</td>\n",
       "      <td>26.546424</td>\n",
       "      <td>89710</td>\n",
       "      <td>1.0</td>\n",
       "      <td>0.145415</td>\n",
       "      <td>0.827130</td>\n",
       "      <td>0.131154</td>\n",
       "      <td>0.845904</td>\n",
       "      <td>...</td>\n",
       "      <td>0.125615</td>\n",
       "      <td>0.161305</td>\n",
       "      <td>0.841184</td>\n",
       "      <td>0.695769</td>\n",
       "      <td>0.072635</td>\n",
       "      <td>0.121116</td>\n",
       "      <td>0.851120</td>\n",
       "      <td>0.719965</td>\n",
       "      <td>20540.0</td>\n",
       "      <td>69170.0</td>\n",
       "    </tr>\n",
       "  </tbody>\n",
       "</table>\n",
       "<p>4 rows × 50 columns</p>\n",
       "</div>"
      ],
      "text/plain": [
       "  run_no                       universe_id  \\\n",
       "0      1  141f3a4594cc072f25839a087163dbfd   \n",
       "0      1  141f3a4594cc072f25839a087163dbfd   \n",
       "0      1  141f3a4594cc072f25839a087163dbfd   \n",
       "0      1  141f3a4594cc072f25839a087163dbfd   \n",
       "\n",
       "                                   universe_settings  execution_time  \\\n",
       "0  {\"cutoff\": \"quantile_0.1\", \"eval_fairness_grou...       26.546424   \n",
       "0  {\"cutoff\": \"quantile_0.1\", \"eval_fairness_grou...       26.546424   \n",
       "0  {\"cutoff\": \"quantile_0.25\", \"eval_fairness_gro...       26.546424   \n",
       "0  {\"cutoff\": \"quantile_0.25\", \"eval_fairness_gro...       26.546424   \n",
       "\n",
       "   test_size_n  test_size_frac  fair_main_equalized_odds_difference  \\\n",
       "0        89710             1.0                             0.065369   \n",
       "0        89710             1.0                             0.065369   \n",
       "0        89710             1.0                             0.145415   \n",
       "0        89710             1.0                             0.145415   \n",
       "\n",
       "   fair_main_equalized_odds_ratio  fair_main_demographic_parity_difference  \\\n",
       "0                        0.930525                                 0.058975   \n",
       "0                        0.930525                                 0.058975   \n",
       "0                        0.827130                                 0.131154   \n",
       "0                        0.827130                                 0.131154   \n",
       "\n",
       "   fair_main_demographic_parity_ratio  ...  perf_grp_precision_0  \\\n",
       "0                            0.937624  ...                   NaN   \n",
       "0                            0.937624  ...              0.119567   \n",
       "0                            0.845904  ...                   NaN   \n",
       "0                            0.845904  ...              0.125615   \n",
       "\n",
       "   perf_grp_precision_1  perf_grp_false positive rate_0  \\\n",
       "0                   NaN                             NaN   \n",
       "0              0.142876                        0.940898   \n",
       "0                   NaN                             NaN   \n",
       "0              0.161305                        0.841184   \n",
       "\n",
       "   perf_grp_false positive rate_1  perf_grp_false negative rate_0  \\\n",
       "0                             NaN                             NaN   \n",
       "0                        0.875529                        0.019426   \n",
       "0                             NaN                             NaN   \n",
       "0                        0.695769                        0.072635   \n",
       "\n",
       "   perf_grp_false negative rate_1  perf_grp_selection rate_0  \\\n",
       "0                             NaN                        NaN   \n",
       "0                        0.041466                   0.945472   \n",
       "0                             NaN                        NaN   \n",
       "0                        0.121116                   0.851120   \n",
       "\n",
       "   perf_grp_selection rate_1  perf_grp_count_0  perf_grp_count_1  \n",
       "0                        NaN               NaN               NaN  \n",
       "0                   0.886497           20540.0           69170.0  \n",
       "0                        NaN               NaN               NaN  \n",
       "0                   0.719965           20540.0           69170.0  \n",
       "\n",
       "[4 rows x 50 columns]"
      ]
     },
     "execution_count": 62,
     "metadata": {},
     "output_type": "execute_result"
    }
   ],
   "source": [
    "final_output = universe_analysis.generate_final_output(\n",
    "    y_pred_prob=probs_test,\n",
    "    y_test=y_true,\n",
    "    org_test=org_test,\n",
    "    filter_data=filter_sub_universe_data,\n",
    "    cp_metrics_df=cp_metrics_df,\n",
    "    save=True,\n",
    ")\n",
    "final_output"
   ]
  },
  {
   "cell_type": "code",
   "execution_count": null,
   "id": "571f9a0f-660a-4841-b661-b06fbc637944",
   "metadata": {
    "papermill": {
     "duration": 0.031369,
     "end_time": "2025-08-06T17:58:24.376790",
     "exception": false,
     "start_time": "2025-08-06T17:58:24.345421",
     "status": "completed"
    },
    "tags": []
   },
   "outputs": [],
   "source": []
  },
  {
   "cell_type": "code",
   "execution_count": null,
   "id": "529482e3-0150-4854-a92d-ab864efc606e",
   "metadata": {
    "papermill": {
     "duration": 0.030166,
     "end_time": "2025-08-06T17:58:24.437532",
     "exception": false,
     "start_time": "2025-08-06T17:58:24.407366",
     "status": "completed"
    },
    "tags": []
   },
   "outputs": [],
   "source": []
  }
 ],
 "metadata": {
  "celltoolbar": "Tags",
  "kernelspec": {
   "display_name": "Python (CMA Fairness)",
   "language": "python",
   "name": "cma_fair_env"
  },
  "language_info": {
   "codemirror_mode": {
    "name": "ipython",
    "version": 3
   },
   "file_extension": ".py",
   "mimetype": "text/x-python",
   "name": "python",
   "nbconvert_exporter": "python",
   "pygments_lexer": "ipython3",
   "version": "3.10.12"
  },
  "papermill": {
   "default_parameters": {},
   "duration": 41.728952,
   "end_time": "2025-08-06T17:58:25.291832",
   "environment_variables": {},
   "exception": null,
   "input_path": "universe_analysis.ipynb",
   "output_path": "output/runs/1/notebooks/m_1-141f3a4594cc072f25839a087163dbfd.ipynb",
   "parameters": {
    "output_dir": "output",
    "run_no": "1",
    "seed": "2023",
    "universe": "{\"cutoff\": [\"quantile_0.1\", \"quantile_0.25\"], \"eval_fairness_grouping\": [\"majority-minority\", \"nationality-all\"], \"exclude_features\": \"age\", \"exclude_subgroups\": \"drop-non-german\", \"model\": \"penalized_logreg\", \"scale\": \"scale\", \"training_size\": \"1k\", \"training_year\": \"2012_14\"}",
    "universe_id": "141f3a4594cc072f25839a087163dbfd"
   },
   "start_time": "2025-08-06T17:57:43.562880",
   "version": "2.6.0"
  }
 },
 "nbformat": 4,
 "nbformat_minor": 5
}