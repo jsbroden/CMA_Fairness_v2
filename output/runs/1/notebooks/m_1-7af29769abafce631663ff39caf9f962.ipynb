{
 "cells": [
  {
   "cell_type": "markdown",
   "id": "b2057076-3a91-4cfa-9bfd-eab1e61b3068",
   "metadata": {
    "papermill": {
     "duration": 0.015897,
     "end_time": "2025-08-06T17:19:35.629304",
     "exception": false,
     "start_time": "2025-08-06T17:19:35.613407",
     "status": "completed"
    },
    "tags": []
   },
   "source": [
    "# Setup"
   ]
  },
  {
   "cell_type": "code",
   "execution_count": 1,
   "id": "f159f837-637b-42ba-96b5-ec9a68c44524",
   "metadata": {
    "execution": {
     "iopub.execute_input": "2025-08-06T17:19:35.663667Z",
     "iopub.status.busy": "2025-08-06T17:19:35.662986Z",
     "iopub.status.idle": "2025-08-06T17:19:35.676980Z",
     "shell.execute_reply": "2025-08-06T17:19:35.675904Z"
    },
    "papermill": {
     "duration": 0.033625,
     "end_time": "2025-08-06T17:19:35.679106",
     "exception": false,
     "start_time": "2025-08-06T17:19:35.645481",
     "status": "completed"
    },
    "tags": []
   },
   "outputs": [
    {
     "name": "stdout",
     "output_type": "stream",
     "text": [
      "/dss/dsshome1/0C/ra93lal2/cma/CMA_Fairness_v2\n"
     ]
    },
    {
     "name": "stderr",
     "output_type": "stream",
     "text": [
      "/dss/dsshome1/0C/ra93lal2/.local/share/virtualenvs/CMA_Fairness_v2-3j10GkSs/lib/python3.10/site-packages/IPython/core/magics/osm.py:393: UserWarning: This is now an optional IPython functionality, using bookmarks requires you to install the `pickleshare` library.\n",
      "  bkms = self.shell.db.get('bookmarks', {})\n",
      "/dss/dsshome1/0C/ra93lal2/.local/share/virtualenvs/CMA_Fairness_v2-3j10GkSs/lib/python3.10/site-packages/IPython/core/magics/osm.py:417: UserWarning: This is now an optional IPython functionality, setting dhist requires you to install the `pickleshare` library.\n",
      "  self.shell.db['dhist'] = compress_dhist(dhist)[-100:]\n"
     ]
    }
   ],
   "source": [
    "%cd ~/cma/CMA_Fairness_v2"
   ]
  },
  {
   "cell_type": "markdown",
   "id": "de2603b9",
   "metadata": {
    "papermill": {
     "duration": 0.015858,
     "end_time": "2025-08-06T17:19:35.712515",
     "exception": false,
     "start_time": "2025-08-06T17:19:35.696657",
     "status": "completed"
    },
    "tags": []
   },
   "source": [
    "The following cell holds the definition of our parameters, these values can be overriden by rendering the with e.g. the following command:\n",
    "\n",
    "papermill -p alpha 0.2 -p ratio 0.3 universe_analysis.ipynb output/test_run.ipynb"
   ]
  },
  {
   "cell_type": "code",
   "execution_count": 2,
   "id": "a80968a0-40bb-4fa9-85ef-2d5eefb01975",
   "metadata": {
    "execution": {
     "iopub.execute_input": "2025-08-06T17:19:35.747831Z",
     "iopub.status.busy": "2025-08-06T17:19:35.747186Z",
     "iopub.status.idle": "2025-08-06T17:19:35.752750Z",
     "shell.execute_reply": "2025-08-06T17:19:35.751805Z"
    },
    "papermill": {
     "duration": 0.025286,
     "end_time": "2025-08-06T17:19:35.754400",
     "exception": false,
     "start_time": "2025-08-06T17:19:35.729114",
     "status": "completed"
    },
    "tags": []
   },
   "outputs": [
    {
     "name": "stdout",
     "output_type": "stream",
     "text": [
      "Current working directory: /dss/dsshome1/0C/ra93lal2/cma/CMA_Fairness_v2\n"
     ]
    }
   ],
   "source": [
    "import os\n",
    "print(\"Current working directory:\", os.getcwd())"
   ]
  },
  {
   "cell_type": "code",
   "execution_count": 3,
   "id": "2dce4c03",
   "metadata": {
    "execution": {
     "iopub.execute_input": "2025-08-06T17:19:35.790003Z",
     "iopub.status.busy": "2025-08-06T17:19:35.789536Z",
     "iopub.status.idle": "2025-08-06T17:19:35.795699Z",
     "shell.execute_reply": "2025-08-06T17:19:35.794815Z"
    },
    "papermill": {
     "duration": 0.025767,
     "end_time": "2025-08-06T17:19:35.797339",
     "exception": false,
     "start_time": "2025-08-06T17:19:35.771572",
     "status": "completed"
    },
    "tags": [
     "parameters"
    ]
   },
   "outputs": [],
   "source": [
    "run_no = 0\n",
    "universe_id = \"test\"\n",
    "universe = {\n",
    "    \"training_size\": \"5k\", # \"25k\", \"5k\", \"1k\"\n",
    "    \"training_year\": \"2012_14\", # \"2014\", \"2012_14\", \"2010_14\"\n",
    "    \"scale\": \"scale\", # \"scale\", \"do-not-scale\",\n",
    "    \"model\": \"elasticnet\", # \"logreg\", \"penalized_logreg\", \"rf\", \"gbm\", \"elasticnet\"\n",
    "    \"cutoff\": [\"quantile_0.15\", \"quantile_0.30\"],\n",
    "    \"exclude_features\": \"age\", # \"none\", \"nationality\", \"sex\", \"nationality-sex\", \"age\"\n",
    "    \"exclude_subgroups\": \"drop-non-german\", # \"keep-all\", \"drop-non-german\"\n",
    "    \"eval_fairness_grouping\": [\"majority-minority\", \"nationality-all\"]\n",
    "}\n",
    "\n",
    "output_dir=\"./output\"\n",
    "seed=0"
   ]
  },
  {
   "cell_type": "code",
   "execution_count": 4,
   "id": "ece4526c",
   "metadata": {
    "execution": {
     "iopub.execute_input": "2025-08-06T17:19:35.835485Z",
     "iopub.status.busy": "2025-08-06T17:19:35.834397Z",
     "iopub.status.idle": "2025-08-06T17:19:35.840070Z",
     "shell.execute_reply": "2025-08-06T17:19:35.839080Z"
    },
    "papermill": {
     "duration": 0.026128,
     "end_time": "2025-08-06T17:19:35.841673",
     "exception": false,
     "start_time": "2025-08-06T17:19:35.815545",
     "status": "completed"
    },
    "tags": [
     "injected-parameters"
    ]
   },
   "outputs": [],
   "source": [
    "# Parameters\n",
    "universe_id = \"7af29769abafce631663ff39caf9f962\"\n",
    "run_no = \"1\"\n",
    "universe = \"{\\\"cutoff\\\": [\\\"quantile_0.1\\\", \\\"quantile_0.25\\\"], \\\"eval_fairness_grouping\\\": [\\\"majority-minority\\\", \\\"nationality-all\\\"], \\\"exclude_features\\\": \\\"nationality-sex\\\", \\\"exclude_subgroups\\\": \\\"keep-all\\\", \\\"model\\\": \\\"elasticnet\\\", \\\"scale\\\": \\\"scale\\\", \\\"training_size\\\": \\\"5k\\\", \\\"training_year\\\": \\\"2014\\\"}\"\n",
    "output_dir = \"output\"\n",
    "seed = \"2023\"\n"
   ]
  },
  {
   "cell_type": "code",
   "execution_count": 5,
   "id": "1650acaf",
   "metadata": {
    "execution": {
     "iopub.execute_input": "2025-08-06T17:19:35.879674Z",
     "iopub.status.busy": "2025-08-06T17:19:35.878986Z",
     "iopub.status.idle": "2025-08-06T17:19:35.884221Z",
     "shell.execute_reply": "2025-08-06T17:19:35.883214Z"
    },
    "papermill": {
     "duration": 0.025765,
     "end_time": "2025-08-06T17:19:35.885876",
     "exception": false,
     "start_time": "2025-08-06T17:19:35.860111",
     "status": "completed"
    },
    "tags": []
   },
   "outputs": [],
   "source": [
    "import json\n",
    "if isinstance(universe, str):\n",
    "    universe = json.loads(universe)"
   ]
  },
  {
   "cell_type": "code",
   "execution_count": 6,
   "id": "16620c48",
   "metadata": {
    "execution": {
     "iopub.execute_input": "2025-08-06T17:19:35.921730Z",
     "iopub.status.busy": "2025-08-06T17:19:35.921145Z",
     "iopub.status.idle": "2025-08-06T17:19:35.966360Z",
     "shell.execute_reply": "2025-08-06T17:19:35.965427Z"
    },
    "papermill": {
     "duration": 0.064559,
     "end_time": "2025-08-06T17:19:35.968329",
     "exception": false,
     "start_time": "2025-08-06T17:19:35.903770",
     "status": "completed"
    },
    "tags": []
   },
   "outputs": [],
   "source": [
    "# Auto-reload the custom package\n",
    "%load_ext autoreload\n",
    "%autoreload 1\n",
    "%aimport fairness_multiverse"
   ]
  },
  {
   "cell_type": "code",
   "execution_count": 7,
   "id": "01c5c9f3",
   "metadata": {
    "execution": {
     "iopub.execute_input": "2025-08-06T17:19:36.004441Z",
     "iopub.status.busy": "2025-08-06T17:19:36.003767Z",
     "iopub.status.idle": "2025-08-06T17:19:37.645779Z",
     "shell.execute_reply": "2025-08-06T17:19:37.644954Z"
    },
    "papermill": {
     "duration": 1.661346,
     "end_time": "2025-08-06T17:19:37.647229",
     "exception": false,
     "start_time": "2025-08-06T17:19:35.985883",
     "status": "completed"
    },
    "tags": []
   },
   "outputs": [],
   "source": [
    "from fairness_multiverse.universe import UniverseAnalysis\n",
    "\n",
    "universe_analysis = UniverseAnalysis(\n",
    "    run_no = run_no,\n",
    "    universe_id = universe_id,\n",
    "    universe = universe,\n",
    "    output_dir=output_dir,\n",
    ")"
   ]
  },
  {
   "cell_type": "code",
   "execution_count": 8,
   "id": "106241f5",
   "metadata": {
    "execution": {
     "iopub.execute_input": "2025-08-06T17:19:37.669044Z",
     "iopub.status.busy": "2025-08-06T17:19:37.668496Z",
     "iopub.status.idle": "2025-08-06T17:19:37.674276Z",
     "shell.execute_reply": "2025-08-06T17:19:37.673511Z"
    },
    "papermill": {
     "duration": 0.016444,
     "end_time": "2025-08-06T17:19:37.675487",
     "exception": false,
     "start_time": "2025-08-06T17:19:37.659043",
     "status": "completed"
    },
    "tags": []
   },
   "outputs": [
    {
     "name": "stdout",
     "output_type": "stream",
     "text": [
      "Using Seed: 2023\n"
     ]
    }
   ],
   "source": [
    "import numpy as np\n",
    "parsed_seed = int(seed)\n",
    "np.random.seed(parsed_seed)\n",
    "print(f\"Using Seed: {parsed_seed}\")"
   ]
  },
  {
   "cell_type": "markdown",
   "id": "e0ebdc57",
   "metadata": {
    "papermill": {
     "duration": 0.008507,
     "end_time": "2025-08-06T17:19:37.693504",
     "exception": false,
     "start_time": "2025-08-06T17:19:37.684997",
     "status": "completed"
    },
    "tags": []
   },
   "source": [
    "# Loading Data"
   ]
  },
  {
   "cell_type": "code",
   "execution_count": 9,
   "id": "f0496b8a",
   "metadata": {
    "execution": {
     "iopub.execute_input": "2025-08-06T17:19:37.729307Z",
     "iopub.status.busy": "2025-08-06T17:19:37.728781Z",
     "iopub.status.idle": "2025-08-06T17:19:47.032284Z",
     "shell.execute_reply": "2025-08-06T17:19:47.030905Z"
    },
    "papermill": {
     "duration": 9.322377,
     "end_time": "2025-08-06T17:19:47.033507",
     "exception": false,
     "start_time": "2025-08-06T17:19:37.711130",
     "status": "completed"
    },
    "tags": []
   },
   "outputs": [
    {
     "name": "stdout",
     "output_type": "stream",
     "text": [
      "Loading SIAB data from cache: data/siab_cached.csv.gz\n"
     ]
    },
    {
     "name": "stdout",
     "output_type": "stream",
     "text": [
      "(643690, 164)\n"
     ]
    }
   ],
   "source": [
    "from pathlib import Path\n",
    "import pandas as pd\n",
    "\n",
    "# File paths\n",
    "raw_file = Path(\"data/raw/siab.csv\")\n",
    "cache_file = Path(\"data/siab_cached.csv.gz\")\n",
    "\n",
    "# Ensure cache directory exists\n",
    "cache_file.parent.mkdir(parents=True, exist_ok=True)\n",
    "\n",
    "# Load with simple caching\n",
    "if cache_file.exists():\n",
    "    print(f\"Loading SIAB data from cache: {cache_file}\")\n",
    "    siab = pd.read_csv(cache_file, compression='gzip')\n",
    "else:\n",
    "    print(f\"Cache not found. Reading raw SIAB data: {raw_file}\")\n",
    "    siab = pd.read_csv(raw_file)\n",
    "    siab.to_csv(cache_file, index=False, compression='gzip')\n",
    "    print(f\"Cached SIAB data to: {cache_file}\")\n",
    "\n",
    "print(siab.shape)"
   ]
  },
  {
   "cell_type": "code",
   "execution_count": 10,
   "id": "db0ca512-5f53-4dba-abdb-a2888bca41ba",
   "metadata": {
    "execution": {
     "iopub.execute_input": "2025-08-06T17:19:47.056683Z",
     "iopub.status.busy": "2025-08-06T17:19:47.056148Z",
     "iopub.status.idle": "2025-08-06T17:19:47.172295Z",
     "shell.execute_reply": "2025-08-06T17:19:47.171267Z"
    },
    "papermill": {
     "duration": 0.128696,
     "end_time": "2025-08-06T17:19:47.173983",
     "exception": false,
     "start_time": "2025-08-06T17:19:47.045287",
     "status": "completed"
    },
    "tags": []
   },
   "outputs": [
    {
     "data": {
      "text/html": [
       "<div>\n",
       "<style scoped>\n",
       "    .dataframe tbody tr th:only-of-type {\n",
       "        vertical-align: middle;\n",
       "    }\n",
       "\n",
       "    .dataframe tbody tr th {\n",
       "        vertical-align: top;\n",
       "    }\n",
       "\n",
       "    .dataframe thead th {\n",
       "        text-align: right;\n",
       "    }\n",
       "</style>\n",
       "<table border=\"1\" class=\"dataframe\">\n",
       "  <thead>\n",
       "    <tr style=\"text-align: right;\">\n",
       "      <th></th>\n",
       "      <th>persnr</th>\n",
       "      <th>year</th>\n",
       "      <th>nrEntry</th>\n",
       "      <th>ltue</th>\n",
       "      <th>employed_before</th>\n",
       "      <th>receipt_leh_before</th>\n",
       "      <th>receipt_lhg_before</th>\n",
       "      <th>se_before</th>\n",
       "      <th>ASU_notue_seeking_before</th>\n",
       "      <th>ASU_other_before</th>\n",
       "      <th>...</th>\n",
       "      <th>minijob_tot_dur_byage</th>\n",
       "      <th>ft_tot_dur_byage</th>\n",
       "      <th>befrist_tot_dur_byage</th>\n",
       "      <th>leih_tot_dur_byage</th>\n",
       "      <th>LHG_tot_dur_byage</th>\n",
       "      <th>LEH_tot_dur_byage</th>\n",
       "      <th>almp_tot_dur_byage</th>\n",
       "      <th>almp_aw_tot_dur_byage</th>\n",
       "      <th>se_tot_dur_byage</th>\n",
       "      <th>seeking1_tot_dur_byage</th>\n",
       "    </tr>\n",
       "  </thead>\n",
       "  <tbody>\n",
       "    <tr>\n",
       "      <th>0</th>\n",
       "      <td>7</td>\n",
       "      <td>2015</td>\n",
       "      <td>1</td>\n",
       "      <td>0</td>\n",
       "      <td>1</td>\n",
       "      <td>0</td>\n",
       "      <td>0</td>\n",
       "      <td>0</td>\n",
       "      <td>1</td>\n",
       "      <td>0</td>\n",
       "      <td>...</td>\n",
       "      <td>0.000000</td>\n",
       "      <td>0.000000</td>\n",
       "      <td>15.043478</td>\n",
       "      <td>0.000000</td>\n",
       "      <td>0.000000</td>\n",
       "      <td>0.000000</td>\n",
       "      <td>0.000000</td>\n",
       "      <td>0.000000</td>\n",
       "      <td>0.000000</td>\n",
       "      <td>0.000000</td>\n",
       "    </tr>\n",
       "    <tr>\n",
       "      <th>1</th>\n",
       "      <td>18</td>\n",
       "      <td>2010</td>\n",
       "      <td>1</td>\n",
       "      <td>1</td>\n",
       "      <td>0</td>\n",
       "      <td>0</td>\n",
       "      <td>0</td>\n",
       "      <td>0</td>\n",
       "      <td>0</td>\n",
       "      <td>0</td>\n",
       "      <td>...</td>\n",
       "      <td>0.000000</td>\n",
       "      <td>0.000000</td>\n",
       "      <td>0.000000</td>\n",
       "      <td>0.000000</td>\n",
       "      <td>0.000000</td>\n",
       "      <td>0.000000</td>\n",
       "      <td>0.000000</td>\n",
       "      <td>0.000000</td>\n",
       "      <td>0.000000</td>\n",
       "      <td>0.000000</td>\n",
       "    </tr>\n",
       "    <tr>\n",
       "      <th>2</th>\n",
       "      <td>18</td>\n",
       "      <td>2011</td>\n",
       "      <td>2</td>\n",
       "      <td>0</td>\n",
       "      <td>1</td>\n",
       "      <td>0</td>\n",
       "      <td>1</td>\n",
       "      <td>0</td>\n",
       "      <td>1</td>\n",
       "      <td>0</td>\n",
       "      <td>...</td>\n",
       "      <td>2.714286</td>\n",
       "      <td>2.714286</td>\n",
       "      <td>0.000000</td>\n",
       "      <td>0.000000</td>\n",
       "      <td>10.775510</td>\n",
       "      <td>0.000000</td>\n",
       "      <td>8.367347</td>\n",
       "      <td>0.000000</td>\n",
       "      <td>0.000000</td>\n",
       "      <td>9.836735</td>\n",
       "    </tr>\n",
       "    <tr>\n",
       "      <th>3</th>\n",
       "      <td>18</td>\n",
       "      <td>2012</td>\n",
       "      <td>3</td>\n",
       "      <td>0</td>\n",
       "      <td>1</td>\n",
       "      <td>0</td>\n",
       "      <td>1</td>\n",
       "      <td>0</td>\n",
       "      <td>1</td>\n",
       "      <td>0</td>\n",
       "      <td>...</td>\n",
       "      <td>4.200000</td>\n",
       "      <td>4.200000</td>\n",
       "      <td>0.000000</td>\n",
       "      <td>0.000000</td>\n",
       "      <td>12.100000</td>\n",
       "      <td>0.000000</td>\n",
       "      <td>9.400000</td>\n",
       "      <td>0.000000</td>\n",
       "      <td>0.000000</td>\n",
       "      <td>9.960000</td>\n",
       "    </tr>\n",
       "    <tr>\n",
       "      <th>4</th>\n",
       "      <td>18</td>\n",
       "      <td>2012</td>\n",
       "      <td>4</td>\n",
       "      <td>0</td>\n",
       "      <td>1</td>\n",
       "      <td>0</td>\n",
       "      <td>1</td>\n",
       "      <td>0</td>\n",
       "      <td>1</td>\n",
       "      <td>0</td>\n",
       "      <td>...</td>\n",
       "      <td>5.460000</td>\n",
       "      <td>5.460000</td>\n",
       "      <td>0.000000</td>\n",
       "      <td>0.000000</td>\n",
       "      <td>13.360000</td>\n",
       "      <td>0.000000</td>\n",
       "      <td>10.320000</td>\n",
       "      <td>0.000000</td>\n",
       "      <td>0.000000</td>\n",
       "      <td>10.280000</td>\n",
       "    </tr>\n",
       "    <tr>\n",
       "      <th>...</th>\n",
       "      <td>...</td>\n",
       "      <td>...</td>\n",
       "      <td>...</td>\n",
       "      <td>...</td>\n",
       "      <td>...</td>\n",
       "      <td>...</td>\n",
       "      <td>...</td>\n",
       "      <td>...</td>\n",
       "      <td>...</td>\n",
       "      <td>...</td>\n",
       "      <td>...</td>\n",
       "      <td>...</td>\n",
       "      <td>...</td>\n",
       "      <td>...</td>\n",
       "      <td>...</td>\n",
       "      <td>...</td>\n",
       "      <td>...</td>\n",
       "      <td>...</td>\n",
       "      <td>...</td>\n",
       "      <td>...</td>\n",
       "      <td>...</td>\n",
       "    </tr>\n",
       "    <tr>\n",
       "      <th>643685</th>\n",
       "      <td>1827860</td>\n",
       "      <td>2013</td>\n",
       "      <td>1</td>\n",
       "      <td>0</td>\n",
       "      <td>0</td>\n",
       "      <td>0</td>\n",
       "      <td>1</td>\n",
       "      <td>0</td>\n",
       "      <td>0</td>\n",
       "      <td>1</td>\n",
       "      <td>...</td>\n",
       "      <td>0.000000</td>\n",
       "      <td>0.000000</td>\n",
       "      <td>0.000000</td>\n",
       "      <td>0.000000</td>\n",
       "      <td>0.612903</td>\n",
       "      <td>0.000000</td>\n",
       "      <td>0.000000</td>\n",
       "      <td>0.000000</td>\n",
       "      <td>0.000000</td>\n",
       "      <td>0.000000</td>\n",
       "    </tr>\n",
       "    <tr>\n",
       "      <th>643686</th>\n",
       "      <td>1827860</td>\n",
       "      <td>2015</td>\n",
       "      <td>2</td>\n",
       "      <td>1</td>\n",
       "      <td>0</td>\n",
       "      <td>0</td>\n",
       "      <td>1</td>\n",
       "      <td>0</td>\n",
       "      <td>1</td>\n",
       "      <td>0</td>\n",
       "      <td>...</td>\n",
       "      <td>0.000000</td>\n",
       "      <td>0.000000</td>\n",
       "      <td>0.212121</td>\n",
       "      <td>0.212121</td>\n",
       "      <td>17.363636</td>\n",
       "      <td>0.000000</td>\n",
       "      <td>8.909091</td>\n",
       "      <td>0.000000</td>\n",
       "      <td>0.000000</td>\n",
       "      <td>7.121212</td>\n",
       "    </tr>\n",
       "    <tr>\n",
       "      <th>643687</th>\n",
       "      <td>1827860</td>\n",
       "      <td>2016</td>\n",
       "      <td>3</td>\n",
       "      <td>1</td>\n",
       "      <td>0</td>\n",
       "      <td>0</td>\n",
       "      <td>1</td>\n",
       "      <td>1</td>\n",
       "      <td>0</td>\n",
       "      <td>1</td>\n",
       "      <td>...</td>\n",
       "      <td>0.000000</td>\n",
       "      <td>0.000000</td>\n",
       "      <td>0.294118</td>\n",
       "      <td>0.205882</td>\n",
       "      <td>34.705882</td>\n",
       "      <td>0.000000</td>\n",
       "      <td>10.352941</td>\n",
       "      <td>1.705882</td>\n",
       "      <td>1.705882</td>\n",
       "      <td>23.911765</td>\n",
       "    </tr>\n",
       "    <tr>\n",
       "      <th>643688</th>\n",
       "      <td>1827869</td>\n",
       "      <td>2013</td>\n",
       "      <td>1</td>\n",
       "      <td>1</td>\n",
       "      <td>1</td>\n",
       "      <td>0</td>\n",
       "      <td>0</td>\n",
       "      <td>0</td>\n",
       "      <td>1</td>\n",
       "      <td>0</td>\n",
       "      <td>...</td>\n",
       "      <td>0.000000</td>\n",
       "      <td>0.000000</td>\n",
       "      <td>0.000000</td>\n",
       "      <td>0.000000</td>\n",
       "      <td>0.000000</td>\n",
       "      <td>0.525424</td>\n",
       "      <td>0.000000</td>\n",
       "      <td>0.000000</td>\n",
       "      <td>0.000000</td>\n",
       "      <td>0.000000</td>\n",
       "    </tr>\n",
       "    <tr>\n",
       "      <th>643689</th>\n",
       "      <td>1827869</td>\n",
       "      <td>2014</td>\n",
       "      <td>2</td>\n",
       "      <td>0</td>\n",
       "      <td>0</td>\n",
       "      <td>1</td>\n",
       "      <td>0</td>\n",
       "      <td>0</td>\n",
       "      <td>1</td>\n",
       "      <td>0</td>\n",
       "      <td>...</td>\n",
       "      <td>0.000000</td>\n",
       "      <td>0.666667</td>\n",
       "      <td>0.666667</td>\n",
       "      <td>0.000000</td>\n",
       "      <td>0.000000</td>\n",
       "      <td>8.950000</td>\n",
       "      <td>1.033333</td>\n",
       "      <td>0.083333</td>\n",
       "      <td>0.083333</td>\n",
       "      <td>8.133333</td>\n",
       "    </tr>\n",
       "  </tbody>\n",
       "</table>\n",
       "<p>643690 rows × 164 columns</p>\n",
       "</div>"
      ],
      "text/plain": [
       "         persnr  year  nrEntry  ltue  employed_before  receipt_leh_before  \\\n",
       "0             7  2015        1     0                1                   0   \n",
       "1            18  2010        1     1                0                   0   \n",
       "2            18  2011        2     0                1                   0   \n",
       "3            18  2012        3     0                1                   0   \n",
       "4            18  2012        4     0                1                   0   \n",
       "...         ...   ...      ...   ...              ...                 ...   \n",
       "643685  1827860  2013        1     0                0                   0   \n",
       "643686  1827860  2015        2     1                0                   0   \n",
       "643687  1827860  2016        3     1                0                   0   \n",
       "643688  1827869  2013        1     1                1                   0   \n",
       "643689  1827869  2014        2     0                0                   1   \n",
       "\n",
       "        receipt_lhg_before  se_before  ASU_notue_seeking_before  \\\n",
       "0                        0          0                         1   \n",
       "1                        0          0                         0   \n",
       "2                        1          0                         1   \n",
       "3                        1          0                         1   \n",
       "4                        1          0                         1   \n",
       "...                    ...        ...                       ...   \n",
       "643685                   1          0                         0   \n",
       "643686                   1          0                         1   \n",
       "643687                   1          1                         0   \n",
       "643688                   0          0                         1   \n",
       "643689                   0          0                         1   \n",
       "\n",
       "        ASU_other_before  ...  minijob_tot_dur_byage  ft_tot_dur_byage  \\\n",
       "0                      0  ...               0.000000          0.000000   \n",
       "1                      0  ...               0.000000          0.000000   \n",
       "2                      0  ...               2.714286          2.714286   \n",
       "3                      0  ...               4.200000          4.200000   \n",
       "4                      0  ...               5.460000          5.460000   \n",
       "...                  ...  ...                    ...               ...   \n",
       "643685                 1  ...               0.000000          0.000000   \n",
       "643686                 0  ...               0.000000          0.000000   \n",
       "643687                 1  ...               0.000000          0.000000   \n",
       "643688                 0  ...               0.000000          0.000000   \n",
       "643689                 0  ...               0.000000          0.666667   \n",
       "\n",
       "        befrist_tot_dur_byage  leih_tot_dur_byage  LHG_tot_dur_byage  \\\n",
       "0                   15.043478            0.000000           0.000000   \n",
       "1                    0.000000            0.000000           0.000000   \n",
       "2                    0.000000            0.000000          10.775510   \n",
       "3                    0.000000            0.000000          12.100000   \n",
       "4                    0.000000            0.000000          13.360000   \n",
       "...                       ...                 ...                ...   \n",
       "643685               0.000000            0.000000           0.612903   \n",
       "643686               0.212121            0.212121          17.363636   \n",
       "643687               0.294118            0.205882          34.705882   \n",
       "643688               0.000000            0.000000           0.000000   \n",
       "643689               0.666667            0.000000           0.000000   \n",
       "\n",
       "        LEH_tot_dur_byage  almp_tot_dur_byage  almp_aw_tot_dur_byage  \\\n",
       "0                0.000000            0.000000               0.000000   \n",
       "1                0.000000            0.000000               0.000000   \n",
       "2                0.000000            8.367347               0.000000   \n",
       "3                0.000000            9.400000               0.000000   \n",
       "4                0.000000           10.320000               0.000000   \n",
       "...                   ...                 ...                    ...   \n",
       "643685           0.000000            0.000000               0.000000   \n",
       "643686           0.000000            8.909091               0.000000   \n",
       "643687           0.000000           10.352941               1.705882   \n",
       "643688           0.525424            0.000000               0.000000   \n",
       "643689           8.950000            1.033333               0.083333   \n",
       "\n",
       "        se_tot_dur_byage  seeking1_tot_dur_byage  \n",
       "0               0.000000                0.000000  \n",
       "1               0.000000                0.000000  \n",
       "2               0.000000                9.836735  \n",
       "3               0.000000                9.960000  \n",
       "4               0.000000               10.280000  \n",
       "...                  ...                     ...  \n",
       "643685          0.000000                0.000000  \n",
       "643686          0.000000                7.121212  \n",
       "643687          1.705882               23.911765  \n",
       "643688          0.000000                0.000000  \n",
       "643689          0.083333                8.133333  \n",
       "\n",
       "[643690 rows x 164 columns]"
      ]
     },
     "execution_count": 10,
     "metadata": {},
     "output_type": "execute_result"
    }
   ],
   "source": [
    "siab"
   ]
  },
  {
   "cell_type": "markdown",
   "id": "997051c5-15bd-4b69-9786-c3001a3ce484",
   "metadata": {
    "papermill": {
     "duration": 0.01978,
     "end_time": "2025-08-06T17:19:47.221496",
     "exception": false,
     "start_time": "2025-08-06T17:19:47.201716",
     "status": "completed"
    },
    "tags": []
   },
   "source": [
    "# Splitting Data and Setting Training Data Size"
   ]
  },
  {
   "cell_type": "code",
   "execution_count": 11,
   "id": "aea9c6ef-6f46-42c8-85eb-5a62025c1508",
   "metadata": {
    "execution": {
     "iopub.execute_input": "2025-08-06T17:19:47.263289Z",
     "iopub.status.busy": "2025-08-06T17:19:47.262410Z",
     "iopub.status.idle": "2025-08-06T17:19:47.534555Z",
     "shell.execute_reply": "2025-08-06T17:19:47.533390Z"
    },
    "papermill": {
     "duration": 0.296055,
     "end_time": "2025-08-06T17:19:47.536793",
     "exception": false,
     "start_time": "2025-08-06T17:19:47.240738",
     "status": "completed"
    },
    "tags": []
   },
   "outputs": [],
   "source": [
    "from fairness_multiverse.universe import sample_by_year_size\n",
    "\n",
    "siab_train = sample_by_year_size(siab,\n",
    "                               training_year=universe[\"training_year\"],\n",
    "                               training_size=universe[\"training_size\"])"
   ]
  },
  {
   "cell_type": "code",
   "execution_count": 12,
   "id": "8d3afb32-789d-442c-8d5d-9f5aa8dd2eed",
   "metadata": {
    "execution": {
     "iopub.execute_input": "2025-08-06T17:19:47.571200Z",
     "iopub.status.busy": "2025-08-06T17:19:47.570683Z",
     "iopub.status.idle": "2025-08-06T17:19:47.577608Z",
     "shell.execute_reply": "2025-08-06T17:19:47.576870Z"
    },
    "papermill": {
     "duration": 0.02198,
     "end_time": "2025-08-06T17:19:47.578958",
     "exception": false,
     "start_time": "2025-08-06T17:19:47.556978",
     "status": "completed"
    },
    "tags": []
   },
   "outputs": [
    {
     "data": {
      "text/plain": [
       "(5000, 164)"
      ]
     },
     "execution_count": 12,
     "metadata": {},
     "output_type": "execute_result"
    }
   ],
   "source": [
    "siab_train.shape"
   ]
  },
  {
   "cell_type": "code",
   "execution_count": 13,
   "id": "d582db68-1a4c-47fb-84fc-08518dc1975a",
   "metadata": {
    "execution": {
     "iopub.execute_input": "2025-08-06T17:19:47.603804Z",
     "iopub.status.busy": "2025-08-06T17:19:47.603210Z",
     "iopub.status.idle": "2025-08-06T17:19:47.611147Z",
     "shell.execute_reply": "2025-08-06T17:19:47.610352Z"
    },
    "papermill": {
     "duration": 0.023058,
     "end_time": "2025-08-06T17:19:47.612484",
     "exception": false,
     "start_time": "2025-08-06T17:19:47.589426",
     "status": "completed"
    },
    "tags": []
   },
   "outputs": [
    {
     "data": {
      "text/plain": [
       "year\n",
       "2014    5000\n",
       "dtype: int64"
      ]
     },
     "metadata": {},
     "output_type": "display_data"
    }
   ],
   "source": [
    "display(siab_train.groupby(\"year\").size())"
   ]
  },
  {
   "cell_type": "code",
   "execution_count": 14,
   "id": "a561edb4-d032-42cb-8256-22eac1111c64",
   "metadata": {
    "execution": {
     "iopub.execute_input": "2025-08-06T17:19:47.635577Z",
     "iopub.status.busy": "2025-08-06T17:19:47.635064Z",
     "iopub.status.idle": "2025-08-06T17:19:47.928896Z",
     "shell.execute_reply": "2025-08-06T17:19:47.927854Z"
    },
    "papermill": {
     "duration": 0.307455,
     "end_time": "2025-08-06T17:19:47.931205",
     "exception": false,
     "start_time": "2025-08-06T17:19:47.623750",
     "status": "completed"
    },
    "tags": []
   },
   "outputs": [],
   "source": [
    "#siab_train = siab_s[siab_s.year < 2015]\n",
    "siab_calib = siab[siab.year == 2015]\n",
    "siab_test = siab[siab.year == 2016]"
   ]
  },
  {
   "cell_type": "code",
   "execution_count": 15,
   "id": "472de16f-c3db-4916-846b-1f0de9cf1746",
   "metadata": {
    "execution": {
     "iopub.execute_input": "2025-08-06T17:19:47.968972Z",
     "iopub.status.busy": "2025-08-06T17:19:47.968613Z",
     "iopub.status.idle": "2025-08-06T17:19:47.975482Z",
     "shell.execute_reply": "2025-08-06T17:19:47.974609Z"
    },
    "papermill": {
     "duration": 0.021248,
     "end_time": "2025-08-06T17:19:47.976996",
     "exception": false,
     "start_time": "2025-08-06T17:19:47.955748",
     "status": "completed"
    },
    "tags": []
   },
   "outputs": [],
   "source": [
    "X_train = siab_train.iloc[:,4:164]\n",
    "y_train = siab_train.iloc[:, [3]]"
   ]
  },
  {
   "cell_type": "code",
   "execution_count": 16,
   "id": "828c96af-f43a-4ed6-ba47-8ac73a47d56c",
   "metadata": {
    "execution": {
     "iopub.execute_input": "2025-08-06T17:19:48.005592Z",
     "iopub.status.busy": "2025-08-06T17:19:48.004880Z",
     "iopub.status.idle": "2025-08-06T17:19:48.057291Z",
     "shell.execute_reply": "2025-08-06T17:19:48.056309Z"
    },
    "papermill": {
     "duration": 0.070843,
     "end_time": "2025-08-06T17:19:48.058602",
     "exception": false,
     "start_time": "2025-08-06T17:19:47.987759",
     "status": "completed"
    },
    "tags": []
   },
   "outputs": [],
   "source": [
    "X_calib = siab_calib.iloc[:,4:164]\n",
    "y_calib = siab_calib.iloc[:, [3]]"
   ]
  },
  {
   "cell_type": "code",
   "execution_count": 17,
   "id": "c34be9c3-6bd6-476e-acd3-845840e303be",
   "metadata": {
    "execution": {
     "iopub.execute_input": "2025-08-06T17:19:48.101045Z",
     "iopub.status.busy": "2025-08-06T17:19:48.100471Z",
     "iopub.status.idle": "2025-08-06T17:19:48.167490Z",
     "shell.execute_reply": "2025-08-06T17:19:48.166188Z"
    },
    "papermill": {
     "duration": 0.091145,
     "end_time": "2025-08-06T17:19:48.169612",
     "exception": false,
     "start_time": "2025-08-06T17:19:48.078467",
     "status": "completed"
    },
    "tags": []
   },
   "outputs": [],
   "source": [
    "X_test = siab_test.iloc[:,4:164]\n",
    "y_true = siab_test.iloc[:, [3]]"
   ]
  },
  {
   "cell_type": "code",
   "execution_count": 18,
   "id": "e6c733c5",
   "metadata": {
    "execution": {
     "iopub.execute_input": "2025-08-06T17:19:48.226496Z",
     "iopub.status.busy": "2025-08-06T17:19:48.225427Z",
     "iopub.status.idle": "2025-08-06T17:19:48.362821Z",
     "shell.execute_reply": "2025-08-06T17:19:48.361632Z"
    },
    "papermill": {
     "duration": 0.168968,
     "end_time": "2025-08-06T17:19:48.364865",
     "exception": false,
     "start_time": "2025-08-06T17:19:48.195897",
     "status": "completed"
    },
    "tags": []
   },
   "outputs": [],
   "source": [
    "# Auxiliary data needed downstream in the pipeline\n",
    "\n",
    "org_train = X_train.copy()\n",
    "org_test = X_test.copy()\n",
    "org_calib = X_calib.copy()"
   ]
  },
  {
   "cell_type": "markdown",
   "id": "0a4a1b33",
   "metadata": {
    "papermill": {
     "duration": 0.028412,
     "end_time": "2025-08-06T17:19:48.429913",
     "exception": false,
     "start_time": "2025-08-06T17:19:48.401501",
     "status": "completed"
    },
    "tags": []
   },
   "source": [
    "# Preprocessing Data"
   ]
  },
  {
   "cell_type": "code",
   "execution_count": 19,
   "id": "ca879031",
   "metadata": {
    "execution": {
     "iopub.execute_input": "2025-08-06T17:19:48.470527Z",
     "iopub.status.busy": "2025-08-06T17:19:48.470077Z",
     "iopub.status.idle": "2025-08-06T17:19:48.477380Z",
     "shell.execute_reply": "2025-08-06T17:19:48.476174Z"
    },
    "papermill": {
     "duration": 0.031575,
     "end_time": "2025-08-06T17:19:48.479762",
     "exception": false,
     "start_time": "2025-08-06T17:19:48.448187",
     "status": "completed"
    },
    "tags": []
   },
   "outputs": [],
   "source": [
    "# EXCLUDE PROTECTED FEATURES\n",
    "# --------------------------\n",
    "\n",
    "excluded_features = universe[\"exclude_features\"].split(\"-\")\n",
    "excluded_features_dictionary = {\n",
    "    \"nationality\": [\"maxdeutsch1\", \"maxdeutsch.Missing.\"],\n",
    "    \"sex\": [\"frau1\"],\n",
    "    \"age\": [\"age\"],\n",
    "}"
   ]
  },
  {
   "cell_type": "code",
   "execution_count": 20,
   "id": "b745ac60",
   "metadata": {
    "execution": {
     "iopub.execute_input": "2025-08-06T17:19:48.526275Z",
     "iopub.status.busy": "2025-08-06T17:19:48.525869Z",
     "iopub.status.idle": "2025-08-06T17:19:48.531996Z",
     "shell.execute_reply": "2025-08-06T17:19:48.530617Z"
    },
    "papermill": {
     "duration": 0.026503,
     "end_time": "2025-08-06T17:19:48.534101",
     "exception": false,
     "start_time": "2025-08-06T17:19:48.507598",
     "status": "completed"
    },
    "tags": []
   },
   "outputs": [],
   "source": [
    "excluded_features_columns = [\n",
    "    excluded_features_dictionary[f] for f in excluded_features if len(f) > 0 and f != \"none\"\n",
    "]"
   ]
  },
  {
   "cell_type": "code",
   "execution_count": 21,
   "id": "f84f73a2",
   "metadata": {
    "execution": {
     "iopub.execute_input": "2025-08-06T17:19:48.569909Z",
     "iopub.status.busy": "2025-08-06T17:19:48.569476Z",
     "iopub.status.idle": "2025-08-06T17:19:48.574221Z",
     "shell.execute_reply": "2025-08-06T17:19:48.573527Z"
    },
    "papermill": {
     "duration": 0.020614,
     "end_time": "2025-08-06T17:19:48.575514",
     "exception": false,
     "start_time": "2025-08-06T17:19:48.554900",
     "status": "completed"
    },
    "tags": []
   },
   "outputs": [],
   "source": [
    "from fairness_multiverse.universe import flatten_once\n",
    "\n",
    "excluded_features_columns = flatten_once(excluded_features_columns)"
   ]
  },
  {
   "cell_type": "code",
   "execution_count": 22,
   "id": "884dea22",
   "metadata": {
    "execution": {
     "iopub.execute_input": "2025-08-06T17:19:48.600901Z",
     "iopub.status.busy": "2025-08-06T17:19:48.600555Z",
     "iopub.status.idle": "2025-08-06T17:19:48.608256Z",
     "shell.execute_reply": "2025-08-06T17:19:48.607386Z"
    },
    "papermill": {
     "duration": 0.020804,
     "end_time": "2025-08-06T17:19:48.609785",
     "exception": false,
     "start_time": "2025-08-06T17:19:48.588981",
     "status": "completed"
    },
    "tags": []
   },
   "outputs": [
    {
     "name": "stdout",
     "output_type": "stream",
     "text": [
      "Dropping features: ['maxdeutsch1', 'maxdeutsch.Missing.', 'frau1']\n"
     ]
    }
   ],
   "source": [
    "if len(excluded_features_columns) > 0:\n",
    "    print(f\"Dropping features: {excluded_features_columns}\")\n",
    "    X_train.drop(excluded_features_columns, axis=1, inplace=True)"
   ]
  },
  {
   "cell_type": "code",
   "execution_count": 23,
   "id": "95ab8b16",
   "metadata": {
    "execution": {
     "iopub.execute_input": "2025-08-06T17:19:48.645649Z",
     "iopub.status.busy": "2025-08-06T17:19:48.645196Z",
     "iopub.status.idle": "2025-08-06T17:19:48.706991Z",
     "shell.execute_reply": "2025-08-06T17:19:48.705843Z"
    },
    "papermill": {
     "duration": 0.086223,
     "end_time": "2025-08-06T17:19:48.709319",
     "exception": false,
     "start_time": "2025-08-06T17:19:48.623096",
     "status": "completed"
    },
    "tags": []
   },
   "outputs": [
    {
     "name": "stdout",
     "output_type": "stream",
     "text": [
      "Dropping features: ['maxdeutsch1', 'maxdeutsch.Missing.', 'frau1']\n"
     ]
    }
   ],
   "source": [
    "if len(excluded_features_columns) > 0:\n",
    "    print(f\"Dropping features: {excluded_features_columns}\")\n",
    "    X_test.drop(excluded_features_columns, axis=1, inplace=True)"
   ]
  },
  {
   "cell_type": "code",
   "execution_count": 24,
   "id": "1853aaf5-fb9f-46cb-a2b5-8ea4ae2237e4",
   "metadata": {
    "execution": {
     "iopub.execute_input": "2025-08-06T17:19:48.762224Z",
     "iopub.status.busy": "2025-08-06T17:19:48.761713Z",
     "iopub.status.idle": "2025-08-06T17:19:48.816536Z",
     "shell.execute_reply": "2025-08-06T17:19:48.815696Z"
    },
    "papermill": {
     "duration": 0.080192,
     "end_time": "2025-08-06T17:19:48.817749",
     "exception": false,
     "start_time": "2025-08-06T17:19:48.737557",
     "status": "completed"
    },
    "tags": []
   },
   "outputs": [
    {
     "name": "stdout",
     "output_type": "stream",
     "text": [
      "Dropping features: ['maxdeutsch1', 'maxdeutsch.Missing.', 'frau1']\n"
     ]
    }
   ],
   "source": [
    "if len(excluded_features_columns) > 0:\n",
    "    print(f\"Dropping features: {excluded_features_columns}\")\n",
    "    X_calib.drop(excluded_features_columns, axis=1, inplace=True)"
   ]
  },
  {
   "cell_type": "code",
   "execution_count": 25,
   "id": "76c4dc6d",
   "metadata": {
    "execution": {
     "iopub.execute_input": "2025-08-06T17:19:48.849168Z",
     "iopub.status.busy": "2025-08-06T17:19:48.848617Z",
     "iopub.status.idle": "2025-08-06T17:19:48.855222Z",
     "shell.execute_reply": "2025-08-06T17:19:48.853999Z"
    },
    "papermill": {
     "duration": 0.027943,
     "end_time": "2025-08-06T17:19:48.857855",
     "exception": false,
     "start_time": "2025-08-06T17:19:48.829912",
     "status": "completed"
    },
    "tags": []
   },
   "outputs": [],
   "source": [
    "# EXCLUDE CERTAIN SUBGROUPS\n",
    "# -------------------------\n",
    "\n",
    "mode = universe.get(\"exclude_subgroups\", \"keep-all\") # Defaults to \"keep-all\" if the key is missing."
   ]
  },
  {
   "cell_type": "code",
   "execution_count": 26,
   "id": "21994072",
   "metadata": {
    "execution": {
     "iopub.execute_input": "2025-08-06T17:19:48.906267Z",
     "iopub.status.busy": "2025-08-06T17:19:48.905606Z",
     "iopub.status.idle": "2025-08-06T17:19:48.912439Z",
     "shell.execute_reply": "2025-08-06T17:19:48.911356Z"
    },
    "papermill": {
     "duration": 0.028932,
     "end_time": "2025-08-06T17:19:48.914754",
     "exception": false,
     "start_time": "2025-08-06T17:19:48.885822",
     "status": "completed"
    },
    "tags": []
   },
   "outputs": [],
   "source": [
    "if mode == \"keep-all\":\n",
    "    keep_mask = pd.Series(True, index=org_train.index)\n",
    "\n",
    "elif mode == \"drop-non-german\":\n",
    "    keep_mask = (org_train[\"maxdeutsch1\"] == 1) & (org_train[\"maxdeutsch.Missing.\"] == 0)\n",
    "\n",
    "else:\n",
    "    raise ValueError(f\"Unsupported mode for exclude_subgroups: {mode}\")"
   ]
  },
  {
   "cell_type": "code",
   "execution_count": 27,
   "id": "71651440",
   "metadata": {
    "execution": {
     "iopub.execute_input": "2025-08-06T17:19:48.964362Z",
     "iopub.status.busy": "2025-08-06T17:19:48.963332Z",
     "iopub.status.idle": "2025-08-06T17:19:48.974960Z",
     "shell.execute_reply": "2025-08-06T17:19:48.974032Z"
    },
    "papermill": {
     "duration": 0.038458,
     "end_time": "2025-08-06T17:19:48.977279",
     "exception": false,
     "start_time": "2025-08-06T17:19:48.938821",
     "status": "completed"
    },
    "tags": []
   },
   "outputs": [],
   "source": [
    "n_drop = (~keep_mask).sum() # Calculates how many rows are set to be dropped\n",
    "if n_drop > 0:\n",
    "    pct = n_drop / len(keep_mask) * 100\n",
    "    print(f\"Dropping {n_drop} rows ({pct:.2f}%) where mode='{mode}'\")"
   ]
  },
  {
   "cell_type": "code",
   "execution_count": 28,
   "id": "5fb8eee5",
   "metadata": {
    "execution": {
     "iopub.execute_input": "2025-08-06T17:19:49.020258Z",
     "iopub.status.busy": "2025-08-06T17:19:49.019632Z",
     "iopub.status.idle": "2025-08-06T17:19:49.026741Z",
     "shell.execute_reply": "2025-08-06T17:19:49.025980Z"
    },
    "papermill": {
     "duration": 0.029999,
     "end_time": "2025-08-06T17:19:49.028018",
     "exception": false,
     "start_time": "2025-08-06T17:19:48.998019",
     "status": "completed"
    },
    "tags": []
   },
   "outputs": [],
   "source": [
    "X_train = X_train[keep_mask]"
   ]
  },
  {
   "cell_type": "code",
   "execution_count": 29,
   "id": "b202bb3a",
   "metadata": {
    "execution": {
     "iopub.execute_input": "2025-08-06T17:19:49.071149Z",
     "iopub.status.busy": "2025-08-06T17:19:49.070646Z",
     "iopub.status.idle": "2025-08-06T17:19:49.075859Z",
     "shell.execute_reply": "2025-08-06T17:19:49.075135Z"
    },
    "papermill": {
     "duration": 0.029005,
     "end_time": "2025-08-06T17:19:49.077902",
     "exception": false,
     "start_time": "2025-08-06T17:19:49.048897",
     "status": "completed"
    },
    "tags": []
   },
   "outputs": [],
   "source": [
    "y_train = y_train[keep_mask]"
   ]
  },
  {
   "cell_type": "markdown",
   "id": "493e2ac3",
   "metadata": {
    "papermill": {
     "duration": 0.010772,
     "end_time": "2025-08-06T17:19:49.102783",
     "exception": false,
     "start_time": "2025-08-06T17:19:49.092011",
     "status": "completed"
    },
    "tags": []
   },
   "source": [
    "# Model Training"
   ]
  },
  {
   "cell_type": "code",
   "execution_count": 30,
   "id": "679e1268",
   "metadata": {
    "execution": {
     "iopub.execute_input": "2025-08-06T17:19:49.125186Z",
     "iopub.status.busy": "2025-08-06T17:19:49.124565Z",
     "iopub.status.idle": "2025-08-06T17:19:49.245600Z",
     "shell.execute_reply": "2025-08-06T17:19:49.244359Z"
    },
    "papermill": {
     "duration": 0.134873,
     "end_time": "2025-08-06T17:19:49.248093",
     "exception": false,
     "start_time": "2025-08-06T17:19:49.113220",
     "status": "completed"
    },
    "tags": []
   },
   "outputs": [],
   "source": [
    "from sklearn.linear_model import LogisticRegression\n",
    "from sklearn.ensemble import GradientBoostingClassifier, RandomForestClassifier\n",
    "\n",
    "if (universe[\"model\"] == \"logreg\"):\n",
    "    model = LogisticRegression() #penalty=\"none\", solver=\"newton-cg\", max_iter=1)\n",
    "elif (universe[\"model\"] == \"penalized_logreg\"):\n",
    "    model = LogisticRegression(penalty=\"l2\", C=0.1) #, solver=\"newton-cg\", max_iter=1)\n",
    "elif (universe[\"model\"] == \"rf\"):\n",
    "    model = RandomForestClassifier() # n_estimators=100, n_jobs=-1\n",
    "elif (universe[\"model\"] == \"gbm\"):\n",
    "    model = GradientBoostingClassifier()\n",
    "elif (universe[\"model\"] == \"elasticnet\"):\n",
    "    model = LogisticRegression(penalty = 'elasticnet', solver = 'saga', l1_ratio = 0.5) # max_iter=5000\n",
    "else:\n",
    "    raise \"Unsupported universe.model\""
   ]
  },
  {
   "cell_type": "code",
   "execution_count": 31,
   "id": "0cc8f744",
   "metadata": {
    "execution": {
     "iopub.execute_input": "2025-08-06T17:19:49.296329Z",
     "iopub.status.busy": "2025-08-06T17:19:49.295680Z",
     "iopub.status.idle": "2025-08-06T17:19:49.302879Z",
     "shell.execute_reply": "2025-08-06T17:19:49.301605Z"
    },
    "papermill": {
     "duration": 0.034743,
     "end_time": "2025-08-06T17:19:49.306541",
     "exception": false,
     "start_time": "2025-08-06T17:19:49.271798",
     "status": "completed"
    },
    "tags": []
   },
   "outputs": [],
   "source": [
    "from sklearn.pipeline import Pipeline\n",
    "from sklearn.preprocessing import StandardScaler\n",
    "\n",
    "model = Pipeline([\n",
    "    #(\"continuous_processor\", continuous_processor),\n",
    "    #(\"categorical_preprocessor\", categorical_preprocessor),\n",
    "    (\"scale\", StandardScaler() if universe[\"scale\"] == \"scale\" else None), \n",
    "    (\"model\", model),\n",
    "])"
   ]
  },
  {
   "cell_type": "code",
   "execution_count": 32,
   "id": "9442c04d",
   "metadata": {
    "execution": {
     "iopub.execute_input": "2025-08-06T17:19:49.353476Z",
     "iopub.status.busy": "2025-08-06T17:19:49.352945Z",
     "iopub.status.idle": "2025-08-06T17:19:50.982999Z",
     "shell.execute_reply": "2025-08-06T17:19:50.982003Z"
    },
    "papermill": {
     "duration": 1.655475,
     "end_time": "2025-08-06T17:19:50.985055",
     "exception": false,
     "start_time": "2025-08-06T17:19:49.329580",
     "status": "completed"
    },
    "tags": []
   },
   "outputs": [
    {
     "name": "stderr",
     "output_type": "stream",
     "text": [
      "/dss/dsshome1/0C/ra93lal2/.local/share/virtualenvs/CMA_Fairness_v2-3j10GkSs/lib/python3.10/site-packages/sklearn/linear_model/_sag.py:350: ConvergenceWarning: The max_iter was reached which means the coef_ did not converge\n",
      "  warnings.warn(\n"
     ]
    },
    {
     "data": {
      "text/html": [
       "<style>#sk-container-id-1 {color: black;background-color: white;}#sk-container-id-1 pre{padding: 0;}#sk-container-id-1 div.sk-toggleable {background-color: white;}#sk-container-id-1 label.sk-toggleable__label {cursor: pointer;display: block;width: 100%;margin-bottom: 0;padding: 0.3em;box-sizing: border-box;text-align: center;}#sk-container-id-1 label.sk-toggleable__label-arrow:before {content: \"▸\";float: left;margin-right: 0.25em;color: #696969;}#sk-container-id-1 label.sk-toggleable__label-arrow:hover:before {color: black;}#sk-container-id-1 div.sk-estimator:hover label.sk-toggleable__label-arrow:before {color: black;}#sk-container-id-1 div.sk-toggleable__content {max-height: 0;max-width: 0;overflow: hidden;text-align: left;background-color: #f0f8ff;}#sk-container-id-1 div.sk-toggleable__content pre {margin: 0.2em;color: black;border-radius: 0.25em;background-color: #f0f8ff;}#sk-container-id-1 input.sk-toggleable__control:checked~div.sk-toggleable__content {max-height: 200px;max-width: 100%;overflow: auto;}#sk-container-id-1 input.sk-toggleable__control:checked~label.sk-toggleable__label-arrow:before {content: \"▾\";}#sk-container-id-1 div.sk-estimator input.sk-toggleable__control:checked~label.sk-toggleable__label {background-color: #d4ebff;}#sk-container-id-1 div.sk-label input.sk-toggleable__control:checked~label.sk-toggleable__label {background-color: #d4ebff;}#sk-container-id-1 input.sk-hidden--visually {border: 0;clip: rect(1px 1px 1px 1px);clip: rect(1px, 1px, 1px, 1px);height: 1px;margin: -1px;overflow: hidden;padding: 0;position: absolute;width: 1px;}#sk-container-id-1 div.sk-estimator {font-family: monospace;background-color: #f0f8ff;border: 1px dotted black;border-radius: 0.25em;box-sizing: border-box;margin-bottom: 0.5em;}#sk-container-id-1 div.sk-estimator:hover {background-color: #d4ebff;}#sk-container-id-1 div.sk-parallel-item::after {content: \"\";width: 100%;border-bottom: 1px solid gray;flex-grow: 1;}#sk-container-id-1 div.sk-label:hover label.sk-toggleable__label {background-color: #d4ebff;}#sk-container-id-1 div.sk-serial::before {content: \"\";position: absolute;border-left: 1px solid gray;box-sizing: border-box;top: 0;bottom: 0;left: 50%;z-index: 0;}#sk-container-id-1 div.sk-serial {display: flex;flex-direction: column;align-items: center;background-color: white;padding-right: 0.2em;padding-left: 0.2em;position: relative;}#sk-container-id-1 div.sk-item {position: relative;z-index: 1;}#sk-container-id-1 div.sk-parallel {display: flex;align-items: stretch;justify-content: center;background-color: white;position: relative;}#sk-container-id-1 div.sk-item::before, #sk-container-id-1 div.sk-parallel-item::before {content: \"\";position: absolute;border-left: 1px solid gray;box-sizing: border-box;top: 0;bottom: 0;left: 50%;z-index: -1;}#sk-container-id-1 div.sk-parallel-item {display: flex;flex-direction: column;z-index: 1;position: relative;background-color: white;}#sk-container-id-1 div.sk-parallel-item:first-child::after {align-self: flex-end;width: 50%;}#sk-container-id-1 div.sk-parallel-item:last-child::after {align-self: flex-start;width: 50%;}#sk-container-id-1 div.sk-parallel-item:only-child::after {width: 0;}#sk-container-id-1 div.sk-dashed-wrapped {border: 1px dashed gray;margin: 0 0.4em 0.5em 0.4em;box-sizing: border-box;padding-bottom: 0.4em;background-color: white;}#sk-container-id-1 div.sk-label label {font-family: monospace;font-weight: bold;display: inline-block;line-height: 1.2em;}#sk-container-id-1 div.sk-label-container {text-align: center;}#sk-container-id-1 div.sk-container {/* jupyter's `normalize.less` sets `[hidden] { display: none; }` but bootstrap.min.css set `[hidden] { display: none !important; }` so we also need the `!important` here to be able to override the default hidden behavior on the sphinx rendered scikit-learn.org. See: https://github.com/scikit-learn/scikit-learn/issues/21755 */display: inline-block !important;position: relative;}#sk-container-id-1 div.sk-text-repr-fallback {display: none;}</style><div id=\"sk-container-id-1\" class=\"sk-top-container\"><div class=\"sk-text-repr-fallback\"><pre>Pipeline(steps=[(&#x27;scale&#x27;, StandardScaler()),\n",
       "                (&#x27;model&#x27;,\n",
       "                 LogisticRegression(l1_ratio=0.5, penalty=&#x27;elasticnet&#x27;,\n",
       "                                    solver=&#x27;saga&#x27;))])</pre><b>In a Jupyter environment, please rerun this cell to show the HTML representation or trust the notebook. <br />On GitHub, the HTML representation is unable to render, please try loading this page with nbviewer.org.</b></div><div class=\"sk-container\" hidden><div class=\"sk-item sk-dashed-wrapped\"><div class=\"sk-label-container\"><div class=\"sk-label sk-toggleable\"><input class=\"sk-toggleable__control sk-hidden--visually\" id=\"sk-estimator-id-1\" type=\"checkbox\" ><label for=\"sk-estimator-id-1\" class=\"sk-toggleable__label sk-toggleable__label-arrow\">Pipeline</label><div class=\"sk-toggleable__content\"><pre>Pipeline(steps=[(&#x27;scale&#x27;, StandardScaler()),\n",
       "                (&#x27;model&#x27;,\n",
       "                 LogisticRegression(l1_ratio=0.5, penalty=&#x27;elasticnet&#x27;,\n",
       "                                    solver=&#x27;saga&#x27;))])</pre></div></div></div><div class=\"sk-serial\"><div class=\"sk-item\"><div class=\"sk-estimator sk-toggleable\"><input class=\"sk-toggleable__control sk-hidden--visually\" id=\"sk-estimator-id-2\" type=\"checkbox\" ><label for=\"sk-estimator-id-2\" class=\"sk-toggleable__label sk-toggleable__label-arrow\">StandardScaler</label><div class=\"sk-toggleable__content\"><pre>StandardScaler()</pre></div></div></div><div class=\"sk-item\"><div class=\"sk-estimator sk-toggleable\"><input class=\"sk-toggleable__control sk-hidden--visually\" id=\"sk-estimator-id-3\" type=\"checkbox\" ><label for=\"sk-estimator-id-3\" class=\"sk-toggleable__label sk-toggleable__label-arrow\">LogisticRegression</label><div class=\"sk-toggleable__content\"><pre>LogisticRegression(l1_ratio=0.5, penalty=&#x27;elasticnet&#x27;, solver=&#x27;saga&#x27;)</pre></div></div></div></div></div></div></div>"
      ],
      "text/plain": [
       "Pipeline(steps=[('scale', StandardScaler()),\n",
       "                ('model',\n",
       "                 LogisticRegression(l1_ratio=0.5, penalty='elasticnet',\n",
       "                                    solver='saga'))])"
      ]
     },
     "execution_count": 32,
     "metadata": {},
     "output_type": "execute_result"
    }
   ],
   "source": [
    "model.fit(X_train, y_train.values.ravel())"
   ]
  },
  {
   "cell_type": "code",
   "execution_count": 33,
   "id": "a7cf2e16",
   "metadata": {
    "execution": {
     "iopub.execute_input": "2025-08-06T17:19:51.038073Z",
     "iopub.status.busy": "2025-08-06T17:19:51.037271Z",
     "iopub.status.idle": "2025-08-06T17:19:51.237534Z",
     "shell.execute_reply": "2025-08-06T17:19:51.236569Z"
    },
    "papermill": {
     "duration": 0.229574,
     "end_time": "2025-08-06T17:19:51.239286",
     "exception": false,
     "start_time": "2025-08-06T17:19:51.009712",
     "status": "completed"
    },
    "tags": []
   },
   "outputs": [
    {
     "data": {
      "text/plain": [
       "0.8581094638278899"
      ]
     },
     "execution_count": 33,
     "metadata": {},
     "output_type": "execute_result"
    }
   ],
   "source": [
    "from fairness_multiverse.universe import predict_w_threshold\n",
    "\n",
    "probs_test = model.predict_proba(X_test)\n",
    "\n",
    "'''\n",
    "Below code returns a boolean array (or binary 0/1 array depending on how it’s used) where each element \n",
    "is True if the probability of class 1 is greater than or equal to the threshold, and False otherwise.\n",
    "'''\n",
    "y_pred_default = predict_w_threshold(probs_test, 0.5)\n",
    "\n",
    "from sklearn.metrics import accuracy_score\n",
    "\n",
    "# Naive prediction\n",
    "accuracy_score(y_true = y_true, y_pred = y_pred_default)"
   ]
  },
  {
   "cell_type": "code",
   "execution_count": 34,
   "id": "081964c3",
   "metadata": {
    "execution": {
     "iopub.execute_input": "2025-08-06T17:19:51.285719Z",
     "iopub.status.busy": "2025-08-06T17:19:51.284986Z",
     "iopub.status.idle": "2025-08-06T17:19:51.473035Z",
     "shell.execute_reply": "2025-08-06T17:19:51.472045Z"
    },
    "papermill": {
     "duration": 0.213327,
     "end_time": "2025-08-06T17:19:51.475172",
     "exception": false,
     "start_time": "2025-08-06T17:19:51.261845",
     "status": "completed"
    },
    "tags": []
   },
   "outputs": [
    {
     "data": {
      "text/plain": [
       "array([0, 0, 0, ..., 0, 0, 0])"
      ]
     },
     "execution_count": 34,
     "metadata": {},
     "output_type": "execute_result"
    }
   ],
   "source": [
    "model.predict(X_test)"
   ]
  },
  {
   "cell_type": "markdown",
   "id": "56c9705b",
   "metadata": {
    "papermill": {
     "duration": 0.026675,
     "end_time": "2025-08-06T17:19:51.525563",
     "exception": false,
     "start_time": "2025-08-06T17:19:51.498888",
     "status": "completed"
    },
    "tags": []
   },
   "source": [
    "# Conformal Prediction"
   ]
  },
  {
   "cell_type": "code",
   "execution_count": 35,
   "id": "160ec6ff",
   "metadata": {
    "execution": {
     "iopub.execute_input": "2025-08-06T17:19:51.576783Z",
     "iopub.status.busy": "2025-08-06T17:19:51.575936Z",
     "iopub.status.idle": "2025-08-06T17:19:51.581913Z",
     "shell.execute_reply": "2025-08-06T17:19:51.580915Z"
    },
    "papermill": {
     "duration": 0.036452,
     "end_time": "2025-08-06T17:19:51.586425",
     "exception": false,
     "start_time": "2025-08-06T17:19:51.549973",
     "status": "completed"
    },
    "tags": []
   },
   "outputs": [],
   "source": [
    "# Miscoverage level for conformal prediction (10% allowed error rate => 90% target coverage)\n",
    "alpha = 0.1"
   ]
  },
  {
   "cell_type": "code",
   "execution_count": 36,
   "id": "eadf4555-3dd3-440e-8e35-f82a4ad9f855",
   "metadata": {
    "execution": {
     "iopub.execute_input": "2025-08-06T17:19:51.635631Z",
     "iopub.status.busy": "2025-08-06T17:19:51.634973Z",
     "iopub.status.idle": "2025-08-06T17:19:51.838846Z",
     "shell.execute_reply": "2025-08-06T17:19:51.837739Z"
    },
    "papermill": {
     "duration": 0.231222,
     "end_time": "2025-08-06T17:19:51.840878",
     "exception": false,
     "start_time": "2025-08-06T17:19:51.609656",
     "status": "completed"
    },
    "tags": []
   },
   "outputs": [],
   "source": [
    "probs_calib = model.predict_proba(X_calib)"
   ]
  },
  {
   "cell_type": "code",
   "execution_count": 37,
   "id": "2ed93547-6d5d-4983-9b36-1ecb300da49a",
   "metadata": {
    "execution": {
     "iopub.execute_input": "2025-08-06T17:19:51.888879Z",
     "iopub.status.busy": "2025-08-06T17:19:51.887819Z",
     "iopub.status.idle": "2025-08-06T17:19:51.894047Z",
     "shell.execute_reply": "2025-08-06T17:19:51.893032Z"
    },
    "papermill": {
     "duration": 0.032421,
     "end_time": "2025-08-06T17:19:51.895865",
     "exception": false,
     "start_time": "2025-08-06T17:19:51.863444",
     "status": "completed"
    },
    "tags": []
   },
   "outputs": [],
   "source": [
    "y_calib = y_calib.values.ravel().astype(int)"
   ]
  },
  {
   "cell_type": "code",
   "execution_count": 38,
   "id": "65d1320d-f588-4b38-9072-62af1ae97f7d",
   "metadata": {
    "execution": {
     "iopub.execute_input": "2025-08-06T17:19:51.952752Z",
     "iopub.status.busy": "2025-08-06T17:19:51.952379Z",
     "iopub.status.idle": "2025-08-06T17:19:51.962119Z",
     "shell.execute_reply": "2025-08-06T17:19:51.961052Z"
    },
    "papermill": {
     "duration": 0.037277,
     "end_time": "2025-08-06T17:19:51.963742",
     "exception": false,
     "start_time": "2025-08-06T17:19:51.926465",
     "status": "completed"
    },
    "tags": []
   },
   "outputs": [],
   "source": [
    "from fairness_multiverse.conformal import compute_nc_scores\n",
    "\n",
    "# Compute nonconformity scores on calibration set (1 - probability of true class)\n",
    "nc_scores = compute_nc_scores(probs_calib, y_calib)"
   ]
  },
  {
   "cell_type": "code",
   "execution_count": 39,
   "id": "df3b8ca3-53b7-43d5-9667-7c85da7aeda2",
   "metadata": {
    "execution": {
     "iopub.execute_input": "2025-08-06T17:19:52.018979Z",
     "iopub.status.busy": "2025-08-06T17:19:52.018146Z",
     "iopub.status.idle": "2025-08-06T17:19:52.025979Z",
     "shell.execute_reply": "2025-08-06T17:19:52.024680Z"
    },
    "papermill": {
     "duration": 0.040469,
     "end_time": "2025-08-06T17:19:52.028260",
     "exception": false,
     "start_time": "2025-08-06T17:19:51.987791",
     "status": "completed"
    },
    "tags": []
   },
   "outputs": [],
   "source": [
    "from fairness_multiverse.conformal import find_threshold\n",
    "\n",
    "# Find conformal threshold q_hat for the given alpha (split conformal method)\n",
    "q_hat = find_threshold(nc_scores, alpha)"
   ]
  },
  {
   "cell_type": "code",
   "execution_count": 40,
   "id": "4d29e6c1-0ef6-4aa4-b8fe-4fe79b0d033a",
   "metadata": {
    "execution": {
     "iopub.execute_input": "2025-08-06T17:19:52.080865Z",
     "iopub.status.busy": "2025-08-06T17:19:52.080093Z",
     "iopub.status.idle": "2025-08-06T17:19:52.088826Z",
     "shell.execute_reply": "2025-08-06T17:19:52.087662Z"
    },
    "papermill": {
     "duration": 0.035144,
     "end_time": "2025-08-06T17:19:52.090494",
     "exception": false,
     "start_time": "2025-08-06T17:19:52.055350",
     "status": "completed"
    },
    "tags": []
   },
   "outputs": [
    {
     "data": {
      "text/plain": [
       "0.6837400660639259"
      ]
     },
     "execution_count": 40,
     "metadata": {},
     "output_type": "execute_result"
    }
   ],
   "source": [
    "q_hat"
   ]
  },
  {
   "cell_type": "code",
   "execution_count": 41,
   "id": "92460794-cdac-4be2-ba28-f28c0515a6fb",
   "metadata": {
    "execution": {
     "iopub.execute_input": "2025-08-06T17:19:52.119746Z",
     "iopub.status.busy": "2025-08-06T17:19:52.119380Z",
     "iopub.status.idle": "2025-08-06T17:19:52.999927Z",
     "shell.execute_reply": "2025-08-06T17:19:52.998834Z"
    },
    "papermill": {
     "duration": 0.89606,
     "end_time": "2025-08-06T17:19:53.001996",
     "exception": false,
     "start_time": "2025-08-06T17:19:52.105936",
     "status": "completed"
    },
    "tags": []
   },
   "outputs": [],
   "source": [
    "from fairness_multiverse.conformal import predict_conformal_sets\n",
    "\n",
    "# Generate prediction sets for each test example\n",
    "pred_sets = predict_conformal_sets(model, X_test, q_hat)"
   ]
  },
  {
   "cell_type": "code",
   "execution_count": 42,
   "id": "d90c9a65-e6db-4f5d-80cd-e68fb7e46829",
   "metadata": {
    "execution": {
     "iopub.execute_input": "2025-08-06T17:19:53.052054Z",
     "iopub.status.busy": "2025-08-06T17:19:53.051542Z",
     "iopub.status.idle": "2025-08-06T17:19:53.057023Z",
     "shell.execute_reply": "2025-08-06T17:19:53.056080Z"
    },
    "papermill": {
     "duration": 0.030888,
     "end_time": "2025-08-06T17:19:53.058558",
     "exception": false,
     "start_time": "2025-08-06T17:19:53.027670",
     "status": "completed"
    },
    "tags": []
   },
   "outputs": [],
   "source": [
    "y_true = y_true.squeeze()"
   ]
  },
  {
   "cell_type": "code",
   "execution_count": 43,
   "id": "3a58a54a-1e68-46b9-927a-df01f18aebc8",
   "metadata": {
    "execution": {
     "iopub.execute_input": "2025-08-06T17:19:53.107136Z",
     "iopub.status.busy": "2025-08-06T17:19:53.106600Z",
     "iopub.status.idle": "2025-08-06T17:19:54.040761Z",
     "shell.execute_reply": "2025-08-06T17:19:54.039683Z"
    },
    "papermill": {
     "duration": 0.96074,
     "end_time": "2025-08-06T17:19:54.042609",
     "exception": false,
     "start_time": "2025-08-06T17:19:53.081869",
     "status": "completed"
    },
    "tags": []
   },
   "outputs": [],
   "source": [
    "from fairness_multiverse.conformal import evaluate_sets\n",
    "\n",
    "# Evaluate coverage and average set size on test data\n",
    "metrics = evaluate_sets(pred_sets, y_true)"
   ]
  },
  {
   "cell_type": "markdown",
   "id": "2b569c12-9aaa-4c88-98c9-bbcd0cf3ebb8",
   "metadata": {
    "papermill": {
     "duration": 0.022607,
     "end_time": "2025-08-06T17:19:54.089463",
     "exception": false,
     "start_time": "2025-08-06T17:19:54.066856",
     "status": "completed"
    },
    "tags": []
   },
   "source": [
    "# CP Metrics"
   ]
  },
  {
   "cell_type": "code",
   "execution_count": 44,
   "id": "5ce0a5cb-201f-45a0-ade5-94c7f0bd6095",
   "metadata": {
    "execution": {
     "iopub.execute_input": "2025-08-06T17:19:54.137815Z",
     "iopub.status.busy": "2025-08-06T17:19:54.137165Z",
     "iopub.status.idle": "2025-08-06T17:19:54.144431Z",
     "shell.execute_reply": "2025-08-06T17:19:54.143318Z"
    },
    "papermill": {
     "duration": 0.033118,
     "end_time": "2025-08-06T17:19:54.146032",
     "exception": false,
     "start_time": "2025-08-06T17:19:54.112914",
     "status": "completed"
    },
    "tags": []
   },
   "outputs": [
    {
     "data": {
      "text/plain": [
       "{'coverage': 0.9102106788540854, 'avg_size': 1.1334968230966447}"
      ]
     },
     "execution_count": 44,
     "metadata": {},
     "output_type": "execute_result"
    }
   ],
   "source": [
    "metrics"
   ]
  },
  {
   "cell_type": "code",
   "execution_count": 45,
   "id": "9b9a838d-31c9-430b-ae14-12baee460d17",
   "metadata": {
    "execution": {
     "iopub.execute_input": "2025-08-06T17:19:54.193554Z",
     "iopub.status.busy": "2025-08-06T17:19:54.192920Z",
     "iopub.status.idle": "2025-08-06T17:19:54.199199Z",
     "shell.execute_reply": "2025-08-06T17:19:54.198344Z"
    },
    "papermill": {
     "duration": 0.031542,
     "end_time": "2025-08-06T17:19:54.200799",
     "exception": false,
     "start_time": "2025-08-06T17:19:54.169257",
     "status": "completed"
    },
    "tags": []
   },
   "outputs": [],
   "source": [
    "example_universe = universe.copy()\n",
    "universe_training_year = example_universe.get(\"training_year\")\n",
    "universe_training_size = example_universe.get(\"training_size\")\n",
    "universe_scale = example_universe.get(\"scale\")\n",
    "universe_model = example_universe.get(\"model\")\n",
    "universe_exclude_features = example_universe.get(\"exclude_features\")\n",
    "universe_exclude_subgroups = example_universe.get(\"exclude_subgroups\")"
   ]
  },
  {
   "cell_type": "code",
   "execution_count": 46,
   "id": "f4b6a8ac-9dc0-4245-8a91-5b3b5999c4f9",
   "metadata": {
    "execution": {
     "iopub.execute_input": "2025-08-06T17:19:54.249049Z",
     "iopub.status.busy": "2025-08-06T17:19:54.248352Z",
     "iopub.status.idle": "2025-08-06T17:19:54.254872Z",
     "shell.execute_reply": "2025-08-06T17:19:54.253986Z"
    },
    "papermill": {
     "duration": 0.03236,
     "end_time": "2025-08-06T17:19:54.256639",
     "exception": false,
     "start_time": "2025-08-06T17:19:54.224279",
     "status": "completed"
    },
    "tags": []
   },
   "outputs": [],
   "source": [
    "cp_metrics_dict = {\n",
    "    \"universe_id\": [universe_id],\n",
    "    \"universe_training_year\": [universe_training_year],\n",
    "    \"universe_training_size\": [universe_training_size],\n",
    "    \"universe_scale\": [universe_scale],\n",
    "    \"universe_model\": [universe_model],\n",
    "    \"universe_exclude_features\": [universe_exclude_features],\n",
    "    \"universe_exclude_subgroups\": [universe_exclude_subgroups],\n",
    "    \"q_hat\": [q_hat],\n",
    "    \"coverage\": [metrics[\"coverage\"]],\n",
    "    \"avg_size\": [metrics[\"avg_size\"]],\n",
    "}"
   ]
  },
  {
   "cell_type": "code",
   "execution_count": 47,
   "id": "33007efc-14e9-4ec6-97ac-56a455c82265",
   "metadata": {
    "execution": {
     "iopub.execute_input": "2025-08-06T17:19:54.294770Z",
     "iopub.status.busy": "2025-08-06T17:19:54.294000Z",
     "iopub.status.idle": "2025-08-06T17:19:54.299687Z",
     "shell.execute_reply": "2025-08-06T17:19:54.298892Z"
    },
    "papermill": {
     "duration": 0.021612,
     "end_time": "2025-08-06T17:19:54.301196",
     "exception": false,
     "start_time": "2025-08-06T17:19:54.279584",
     "status": "completed"
    },
    "tags": []
   },
   "outputs": [],
   "source": [
    "cp_metrics_df = pd.DataFrame(cp_metrics_dict)"
   ]
  },
  {
   "cell_type": "code",
   "execution_count": 48,
   "id": "db12611b-57b2-4910-b9d0-355adfd6e7bf",
   "metadata": {
    "execution": {
     "iopub.execute_input": "2025-08-06T17:19:54.326237Z",
     "iopub.status.busy": "2025-08-06T17:19:54.325837Z",
     "iopub.status.idle": "2025-08-06T17:19:54.337587Z",
     "shell.execute_reply": "2025-08-06T17:19:54.336708Z"
    },
    "papermill": {
     "duration": 0.024987,
     "end_time": "2025-08-06T17:19:54.338871",
     "exception": false,
     "start_time": "2025-08-06T17:19:54.313884",
     "status": "completed"
    },
    "tags": []
   },
   "outputs": [
    {
     "data": {
      "text/html": [
       "<div>\n",
       "<style scoped>\n",
       "    .dataframe tbody tr th:only-of-type {\n",
       "        vertical-align: middle;\n",
       "    }\n",
       "\n",
       "    .dataframe tbody tr th {\n",
       "        vertical-align: top;\n",
       "    }\n",
       "\n",
       "    .dataframe thead th {\n",
       "        text-align: right;\n",
       "    }\n",
       "</style>\n",
       "<table border=\"1\" class=\"dataframe\">\n",
       "  <thead>\n",
       "    <tr style=\"text-align: right;\">\n",
       "      <th></th>\n",
       "      <th>universe_id</th>\n",
       "      <th>universe_training_year</th>\n",
       "      <th>universe_training_size</th>\n",
       "      <th>universe_scale</th>\n",
       "      <th>universe_model</th>\n",
       "      <th>universe_exclude_features</th>\n",
       "      <th>universe_exclude_subgroups</th>\n",
       "      <th>q_hat</th>\n",
       "      <th>coverage</th>\n",
       "      <th>avg_size</th>\n",
       "    </tr>\n",
       "  </thead>\n",
       "  <tbody>\n",
       "    <tr>\n",
       "      <th>0</th>\n",
       "      <td>7af29769abafce631663ff39caf9f962</td>\n",
       "      <td>2014</td>\n",
       "      <td>5k</td>\n",
       "      <td>scale</td>\n",
       "      <td>elasticnet</td>\n",
       "      <td>nationality-sex</td>\n",
       "      <td>keep-all</td>\n",
       "      <td>0.68374</td>\n",
       "      <td>0.910211</td>\n",
       "      <td>1.133497</td>\n",
       "    </tr>\n",
       "  </tbody>\n",
       "</table>\n",
       "</div>"
      ],
      "text/plain": [
       "                        universe_id universe_training_year  \\\n",
       "0  7af29769abafce631663ff39caf9f962                   2014   \n",
       "\n",
       "  universe_training_size universe_scale universe_model  \\\n",
       "0                     5k          scale     elasticnet   \n",
       "\n",
       "  universe_exclude_features universe_exclude_subgroups    q_hat  coverage  \\\n",
       "0           nationality-sex                   keep-all  0.68374  0.910211   \n",
       "\n",
       "   avg_size  \n",
       "0  1.133497  "
      ]
     },
     "execution_count": 48,
     "metadata": {},
     "output_type": "execute_result"
    }
   ],
   "source": [
    "cp_metrics_df"
   ]
  },
  {
   "cell_type": "markdown",
   "id": "c825ecb4-0d3d-41d6-b7c6-eccb21272259",
   "metadata": {
    "papermill": {
     "duration": 0.011046,
     "end_time": "2025-08-06T17:19:54.361688",
     "exception": false,
     "start_time": "2025-08-06T17:19:54.350642",
     "status": "completed"
    },
    "tags": []
   },
   "source": [
    "Conditional coverage & looking at subgroups"
   ]
  },
  {
   "cell_type": "code",
   "execution_count": 49,
   "id": "027ae886-68dd-4141-96c7-805a5450e1ef",
   "metadata": {
    "execution": {
     "iopub.execute_input": "2025-08-06T17:19:54.385556Z",
     "iopub.status.busy": "2025-08-06T17:19:54.384931Z",
     "iopub.status.idle": "2025-08-06T17:19:54.612457Z",
     "shell.execute_reply": "2025-08-06T17:19:54.611437Z"
    },
    "papermill": {
     "duration": 0.241023,
     "end_time": "2025-08-06T17:19:54.613978",
     "exception": false,
     "start_time": "2025-08-06T17:19:54.372955",
     "status": "completed"
    },
    "tags": []
   },
   "outputs": [],
   "source": [
    "from fairness_multiverse.conformal import build_cp_groups\n",
    "\n",
    "cp_groups_df = build_cp_groups(pred_sets, y_true, X_test.index, org_test)"
   ]
  },
  {
   "cell_type": "code",
   "execution_count": 50,
   "id": "6cbdab96-b2b2-45af-ad54-d0516db2e28d",
   "metadata": {
    "execution": {
     "iopub.execute_input": "2025-08-06T17:19:54.655485Z",
     "iopub.status.busy": "2025-08-06T17:19:54.654843Z",
     "iopub.status.idle": "2025-08-06T17:19:56.357292Z",
     "shell.execute_reply": "2025-08-06T17:19:56.356120Z"
    },
    "papermill": {
     "duration": 1.723121,
     "end_time": "2025-08-06T17:19:56.359467",
     "exception": false,
     "start_time": "2025-08-06T17:19:54.636346",
     "status": "completed"
    },
    "tags": []
   },
   "outputs": [],
   "source": [
    "# Define covered = 1 if true_label is in the predicted set\n",
    "cp_groups_df['covered'] = cp_groups_df.apply(\n",
    "    lambda r: int(r['true_label'] in r['pred_set']),\n",
    "    axis=1\n",
    ")"
   ]
  },
  {
   "cell_type": "code",
   "execution_count": 51,
   "id": "90032e27-66df-4540-9169-4e89cfbaa758",
   "metadata": {
    "execution": {
     "iopub.execute_input": "2025-08-06T17:19:56.414262Z",
     "iopub.status.busy": "2025-08-06T17:19:56.413618Z",
     "iopub.status.idle": "2025-08-06T17:19:56.428691Z",
     "shell.execute_reply": "2025-08-06T17:19:56.427384Z"
    },
    "papermill": {
     "duration": 0.044269,
     "end_time": "2025-08-06T17:19:56.430833",
     "exception": false,
     "start_time": "2025-08-06T17:19:56.386564",
     "status": "completed"
    },
    "tags": []
   },
   "outputs": [],
   "source": [
    "subgroups = ['frau1','nongerman','nongerman_male','nongerman_female']\n",
    "\n",
    "# Conditional coverage for subgroup==1\n",
    "cond_coverage = {\n",
    "    g: cp_groups_df.loc[cp_groups_df[g]==1, 'covered'].mean()\n",
    "    for g in subgroups\n",
    "}"
   ]
  },
  {
   "cell_type": "code",
   "execution_count": 52,
   "id": "1e348fb1-b9c3-45bc-ba23-f016827a7e0d",
   "metadata": {
    "execution": {
     "iopub.execute_input": "2025-08-06T17:19:56.484641Z",
     "iopub.status.busy": "2025-08-06T17:19:56.484014Z",
     "iopub.status.idle": "2025-08-06T17:19:56.492508Z",
     "shell.execute_reply": "2025-08-06T17:19:56.491320Z"
    },
    "papermill": {
     "duration": 0.037144,
     "end_time": "2025-08-06T17:19:56.494535",
     "exception": false,
     "start_time": "2025-08-06T17:19:56.457391",
     "status": "completed"
    },
    "tags": []
   },
   "outputs": [
    {
     "data": {
      "text/plain": [
       "{'frau1': 0.9095295861976007,\n",
       " 'nongerman': 0.9100095435917588,\n",
       " 'nongerman_male': 0.927226875619202,\n",
       " 'nongerman_female': 0.8815201192250373}"
      ]
     },
     "execution_count": 52,
     "metadata": {},
     "output_type": "execute_result"
    }
   ],
   "source": [
    "cond_coverage"
   ]
  },
  {
   "cell_type": "code",
   "execution_count": 53,
   "id": "f5093324-c3dd-4d63-bc4c-8d945e5c8bbb",
   "metadata": {
    "execution": {
     "iopub.execute_input": "2025-08-06T17:19:56.549809Z",
     "iopub.status.busy": "2025-08-06T17:19:56.549156Z",
     "iopub.status.idle": "2025-08-06T17:19:56.557516Z",
     "shell.execute_reply": "2025-08-06T17:19:56.556436Z"
    },
    "papermill": {
     "duration": 0.037499,
     "end_time": "2025-08-06T17:19:56.559467",
     "exception": false,
     "start_time": "2025-08-06T17:19:56.521968",
     "status": "completed"
    },
    "tags": []
   },
   "outputs": [],
   "source": [
    "for subgroup, cov in cond_coverage.items():\n",
    "    cp_metrics_df[f\"cov_{subgroup}\"] = cov"
   ]
  },
  {
   "cell_type": "code",
   "execution_count": 54,
   "id": "6e872e10-dbe5-49e8-b554-5030c98ff75d",
   "metadata": {
    "execution": {
     "iopub.execute_input": "2025-08-06T17:19:56.617129Z",
     "iopub.status.busy": "2025-08-06T17:19:56.616162Z",
     "iopub.status.idle": "2025-08-06T17:19:56.637177Z",
     "shell.execute_reply": "2025-08-06T17:19:56.635803Z"
    },
    "papermill": {
     "duration": 0.051826,
     "end_time": "2025-08-06T17:19:56.638977",
     "exception": false,
     "start_time": "2025-08-06T17:19:56.587151",
     "status": "completed"
    },
    "tags": []
   },
   "outputs": [
    {
     "data": {
      "text/html": [
       "<div>\n",
       "<style scoped>\n",
       "    .dataframe tbody tr th:only-of-type {\n",
       "        vertical-align: middle;\n",
       "    }\n",
       "\n",
       "    .dataframe tbody tr th {\n",
       "        vertical-align: top;\n",
       "    }\n",
       "\n",
       "    .dataframe thead th {\n",
       "        text-align: right;\n",
       "    }\n",
       "</style>\n",
       "<table border=\"1\" class=\"dataframe\">\n",
       "  <thead>\n",
       "    <tr style=\"text-align: right;\">\n",
       "      <th></th>\n",
       "      <th>universe_id</th>\n",
       "      <th>universe_training_year</th>\n",
       "      <th>universe_training_size</th>\n",
       "      <th>universe_scale</th>\n",
       "      <th>universe_model</th>\n",
       "      <th>universe_exclude_features</th>\n",
       "      <th>universe_exclude_subgroups</th>\n",
       "      <th>q_hat</th>\n",
       "      <th>coverage</th>\n",
       "      <th>avg_size</th>\n",
       "      <th>cov_frau1</th>\n",
       "      <th>cov_nongerman</th>\n",
       "      <th>cov_nongerman_male</th>\n",
       "      <th>cov_nongerman_female</th>\n",
       "    </tr>\n",
       "  </thead>\n",
       "  <tbody>\n",
       "    <tr>\n",
       "      <th>0</th>\n",
       "      <td>7af29769abafce631663ff39caf9f962</td>\n",
       "      <td>2014</td>\n",
       "      <td>5k</td>\n",
       "      <td>scale</td>\n",
       "      <td>elasticnet</td>\n",
       "      <td>nationality-sex</td>\n",
       "      <td>keep-all</td>\n",
       "      <td>0.68374</td>\n",
       "      <td>0.910211</td>\n",
       "      <td>1.133497</td>\n",
       "      <td>0.90953</td>\n",
       "      <td>0.91001</td>\n",
       "      <td>0.927227</td>\n",
       "      <td>0.88152</td>\n",
       "    </tr>\n",
       "  </tbody>\n",
       "</table>\n",
       "</div>"
      ],
      "text/plain": [
       "                        universe_id universe_training_year  \\\n",
       "0  7af29769abafce631663ff39caf9f962                   2014   \n",
       "\n",
       "  universe_training_size universe_scale universe_model  \\\n",
       "0                     5k          scale     elasticnet   \n",
       "\n",
       "  universe_exclude_features universe_exclude_subgroups    q_hat  coverage  \\\n",
       "0           nationality-sex                   keep-all  0.68374  0.910211   \n",
       "\n",
       "   avg_size  cov_frau1  cov_nongerman  cov_nongerman_male  \\\n",
       "0  1.133497    0.90953        0.91001            0.927227   \n",
       "\n",
       "   cov_nongerman_female  \n",
       "0               0.88152  "
      ]
     },
     "execution_count": 54,
     "metadata": {},
     "output_type": "execute_result"
    }
   ],
   "source": [
    "cp_metrics_df"
   ]
  },
  {
   "cell_type": "markdown",
   "id": "33774451",
   "metadata": {
    "papermill": {
     "duration": 0.02527,
     "end_time": "2025-08-06T17:19:56.696998",
     "exception": false,
     "start_time": "2025-08-06T17:19:56.671728",
     "status": "completed"
    },
    "tags": []
   },
   "source": [
    "# (Fairness) Metrics"
   ]
  },
  {
   "cell_type": "code",
   "execution_count": 55,
   "id": "debc5d62",
   "metadata": {
    "execution": {
     "iopub.execute_input": "2025-08-06T17:19:56.751192Z",
     "iopub.status.busy": "2025-08-06T17:19:56.750613Z",
     "iopub.status.idle": "2025-08-06T17:19:56.777619Z",
     "shell.execute_reply": "2025-08-06T17:19:56.776556Z"
    },
    "papermill": {
     "duration": 0.056403,
     "end_time": "2025-08-06T17:19:56.779285",
     "exception": false,
     "start_time": "2025-08-06T17:19:56.722882",
     "status": "completed"
    },
    "tags": []
   },
   "outputs": [],
   "source": [
    "colname_to_bin = \"maxdeutsch1\"\n",
    "majority_value = org_train[colname_to_bin].mode()[0]\n",
    "\n",
    "org_test[\"majmin\"] = np.where(org_test[colname_to_bin] == majority_value, \"majority\", \"minority\")"
   ]
  },
  {
   "cell_type": "code",
   "execution_count": 56,
   "id": "06a50de5",
   "metadata": {
    "execution": {
     "iopub.execute_input": "2025-08-06T17:19:56.831448Z",
     "iopub.status.busy": "2025-08-06T17:19:56.831093Z",
     "iopub.status.idle": "2025-08-06T17:20:00.031461Z",
     "shell.execute_reply": "2025-08-06T17:20:00.029895Z"
    },
    "papermill": {
     "duration": 3.228055,
     "end_time": "2025-08-06T17:20:00.033893",
     "exception": false,
     "start_time": "2025-08-06T17:19:56.805838",
     "status": "completed"
    },
    "tags": []
   },
   "outputs": [],
   "source": [
    "example_universe = universe.copy()\n",
    "example_universe[\"cutoff\"] = example_universe[\"cutoff\"][0]\n",
    "example_universe[\"eval_fairness_grouping\"] = example_universe[\"eval_fairness_grouping\"][0]\n",
    "fairness_dict, metric_frame = universe_analysis.compute_metrics(\n",
    "    example_universe,\n",
    "    y_pred_prob=probs_test,\n",
    "    y_test=y_true,\n",
    "    org_test=org_test,\n",
    ")"
   ]
  },
  {
   "cell_type": "markdown",
   "id": "f95d4e02",
   "metadata": {
    "papermill": {
     "duration": 0.027555,
     "end_time": "2025-08-06T17:20:00.093120",
     "exception": false,
     "start_time": "2025-08-06T17:20:00.065565",
     "status": "completed"
    },
    "tags": []
   },
   "source": [
    "# Overall"
   ]
  },
  {
   "cell_type": "markdown",
   "id": "bdee4871",
   "metadata": {
    "papermill": {
     "duration": 0.027662,
     "end_time": "2025-08-06T17:20:00.147574",
     "exception": false,
     "start_time": "2025-08-06T17:20:00.119912",
     "status": "completed"
    },
    "tags": []
   },
   "source": [
    "Main fairness target: Equalized Odds. Seems to be a better fit than equal opportunity, since we're not only interested in Y = 1. Seems to be a better fit than demographic parity, since we also care about accuracy, not just equal distribution of preds.\n",
    "\n",
    "Pick column for computation of fairness metrics\n",
    "\n",
    "Performance\n",
    "Overall performance measures, most interesting in relation to the measures split by group below"
   ]
  },
  {
   "cell_type": "code",
   "execution_count": 57,
   "id": "c4e067c6",
   "metadata": {
    "execution": {
     "iopub.execute_input": "2025-08-06T17:20:00.203975Z",
     "iopub.status.busy": "2025-08-06T17:20:00.203436Z",
     "iopub.status.idle": "2025-08-06T17:20:00.216136Z",
     "shell.execute_reply": "2025-08-06T17:20:00.215008Z"
    },
    "papermill": {
     "duration": 0.043091,
     "end_time": "2025-08-06T17:20:00.217878",
     "exception": false,
     "start_time": "2025-08-06T17:20:00.174787",
     "status": "completed"
    },
    "tags": []
   },
   "outputs": [
    {
     "data": {
      "text/plain": [
       "accuracy                   0.224289\n",
       "balanced accuracy          0.548436\n",
       "f1                         0.245623\n",
       "precision                  0.140316\n",
       "false positive rate        0.887573\n",
       "false negative rate        0.015554\n",
       "selection rate             0.900000\n",
       "count                  89710.000000\n",
       "dtype: float64"
      ]
     },
     "execution_count": 57,
     "metadata": {},
     "output_type": "execute_result"
    }
   ],
   "source": [
    "metric_frame.overall"
   ]
  },
  {
   "cell_type": "markdown",
   "id": "e968fe9d",
   "metadata": {
    "papermill": {
     "duration": 0.027781,
     "end_time": "2025-08-06T17:20:00.276832",
     "exception": false,
     "start_time": "2025-08-06T17:20:00.249051",
     "status": "completed"
    },
    "tags": []
   },
   "source": [
    "By Group"
   ]
  },
  {
   "cell_type": "code",
   "execution_count": 58,
   "id": "ec325bce",
   "metadata": {
    "execution": {
     "iopub.execute_input": "2025-08-06T17:20:00.334545Z",
     "iopub.status.busy": "2025-08-06T17:20:00.333943Z",
     "iopub.status.idle": "2025-08-06T17:20:00.354261Z",
     "shell.execute_reply": "2025-08-06T17:20:00.353102Z"
    },
    "papermill": {
     "duration": 0.052989,
     "end_time": "2025-08-06T17:20:00.356459",
     "exception": false,
     "start_time": "2025-08-06T17:20:00.303470",
     "status": "completed"
    },
    "tags": []
   },
   "outputs": [
    {
     "data": {
      "text/html": [
       "<div>\n",
       "<style scoped>\n",
       "    .dataframe tbody tr th:only-of-type {\n",
       "        vertical-align: middle;\n",
       "    }\n",
       "\n",
       "    .dataframe tbody tr th {\n",
       "        vertical-align: top;\n",
       "    }\n",
       "\n",
       "    .dataframe thead th {\n",
       "        text-align: right;\n",
       "    }\n",
       "</style>\n",
       "<table border=\"1\" class=\"dataframe\">\n",
       "  <thead>\n",
       "    <tr style=\"text-align: right;\">\n",
       "      <th></th>\n",
       "      <th>accuracy</th>\n",
       "      <th>balanced accuracy</th>\n",
       "      <th>f1</th>\n",
       "      <th>precision</th>\n",
       "      <th>false positive rate</th>\n",
       "      <th>false negative rate</th>\n",
       "      <th>selection rate</th>\n",
       "      <th>count</th>\n",
       "    </tr>\n",
       "    <tr>\n",
       "      <th>majmin</th>\n",
       "      <th></th>\n",
       "      <th></th>\n",
       "      <th></th>\n",
       "      <th></th>\n",
       "      <th></th>\n",
       "      <th></th>\n",
       "      <th></th>\n",
       "      <th></th>\n",
       "    </tr>\n",
       "  </thead>\n",
       "  <tbody>\n",
       "    <tr>\n",
       "      <th>majority</th>\n",
       "      <td>0.241680</td>\n",
       "      <td>0.556432</td>\n",
       "      <td>0.255405</td>\n",
       "      <td>0.146742</td>\n",
       "      <td>0.871381</td>\n",
       "      <td>0.015755</td>\n",
       "      <td>0.886295</td>\n",
       "      <td>69170.0</td>\n",
       "    </tr>\n",
       "    <tr>\n",
       "      <th>minority</th>\n",
       "      <td>0.165725</td>\n",
       "      <td>0.522078</td>\n",
       "      <td>0.214017</td>\n",
       "      <td>0.120047</td>\n",
       "      <td>0.941063</td>\n",
       "      <td>0.014780</td>\n",
       "      <td>0.946154</td>\n",
       "      <td>20540.0</td>\n",
       "    </tr>\n",
       "  </tbody>\n",
       "</table>\n",
       "</div>"
      ],
      "text/plain": [
       "          accuracy  balanced accuracy        f1  precision  \\\n",
       "majmin                                                       \n",
       "majority  0.241680           0.556432  0.255405   0.146742   \n",
       "minority  0.165725           0.522078  0.214017   0.120047   \n",
       "\n",
       "          false positive rate  false negative rate  selection rate    count  \n",
       "majmin                                                                       \n",
       "majority             0.871381             0.015755        0.886295  69170.0  \n",
       "minority             0.941063             0.014780        0.946154  20540.0  "
      ]
     },
     "execution_count": 58,
     "metadata": {},
     "output_type": "execute_result"
    }
   ],
   "source": [
    "metric_frame.by_group"
   ]
  },
  {
   "cell_type": "code",
   "execution_count": 59,
   "id": "a9ddbe63",
   "metadata": {
    "execution": {
     "iopub.execute_input": "2025-08-06T17:20:00.414525Z",
     "iopub.status.busy": "2025-08-06T17:20:00.413988Z",
     "iopub.status.idle": "2025-08-06T17:20:03.245568Z",
     "shell.execute_reply": "2025-08-06T17:20:03.244533Z"
    },
    "papermill": {
     "duration": 2.862174,
     "end_time": "2025-08-06T17:20:03.247259",
     "exception": false,
     "start_time": "2025-08-06T17:20:00.385085",
     "status": "completed"
    },
    "tags": []
   },
   "outputs": [
    {
     "data": {
      "text/plain": [
       "array([[<Axes: title={'center': 'accuracy'}, xlabel='majmin'>,\n",
       "        <Axes: title={'center': 'balanced accuracy'}, xlabel='majmin'>,\n",
       "        <Axes: title={'center': 'f1'}, xlabel='majmin'>],\n",
       "       [<Axes: title={'center': 'precision'}, xlabel='majmin'>,\n",
       "        <Axes: title={'center': 'false positive rate'}, xlabel='majmin'>,\n",
       "        <Axes: title={'center': 'false negative rate'}, xlabel='majmin'>],\n",
       "       [<Axes: title={'center': 'selection rate'}, xlabel='majmin'>,\n",
       "        <Axes: title={'center': 'count'}, xlabel='majmin'>,\n",
       "        <Axes: xlabel='majmin'>]], dtype=object)"
      ]
     },
     "execution_count": 59,
     "metadata": {},
     "output_type": "execute_result"
    },
    {
     "data": {
      "image/png": "[encoded data removed]",
      "text/plain": [
       "<Figure size 1200x800 with 9 Axes>"
      ]
     },
     "metadata": {},
     "output_type": "display_data"
    }
   ],
   "source": [
    "# In a graphic\n",
    "metric_frame.by_group.plot.bar(\n",
    "    subplots=True,\n",
    "    layout=[3, 3],\n",
    "    legend=False,\n",
    "    figsize=[12, 8],\n",
    "    title=\"Show all metrics\",\n",
    ")"
   ]
  },
  {
   "cell_type": "markdown",
   "id": "f57a0bac",
   "metadata": {
    "papermill": {
     "duration": 0.026412,
     "end_time": "2025-08-06T17:20:03.300948",
     "exception": false,
     "start_time": "2025-08-06T17:20:03.274536",
     "status": "completed"
    },
    "tags": []
   },
   "source": [
    "# Final Output"
   ]
  },
  {
   "cell_type": "code",
   "execution_count": 60,
   "id": "96d280a3",
   "metadata": {
    "execution": {
     "iopub.execute_input": "2025-08-06T17:20:03.353777Z",
     "iopub.status.busy": "2025-08-06T17:20:03.353096Z",
     "iopub.status.idle": "2025-08-06T17:20:03.361450Z",
     "shell.execute_reply": "2025-08-06T17:20:03.360435Z"
    },
    "papermill": {
     "duration": 0.036286,
     "end_time": "2025-08-06T17:20:03.363089",
     "exception": false,
     "start_time": "2025-08-06T17:20:03.326803",
     "status": "completed"
    },
    "tags": []
   },
   "outputs": [
    {
     "data": {
      "text/plain": [
       "4"
      ]
     },
     "execution_count": 60,
     "metadata": {},
     "output_type": "execute_result"
    }
   ],
   "source": [
    "sub_universes = universe_analysis.generate_sub_universes()\n",
    "len(sub_universes)"
   ]
  },
  {
   "cell_type": "code",
   "execution_count": 61,
   "id": "92adf7ba",
   "metadata": {
    "execution": {
     "iopub.execute_input": "2025-08-06T17:20:03.414659Z",
     "iopub.status.busy": "2025-08-06T17:20:03.414031Z",
     "iopub.status.idle": "2025-08-06T17:20:03.427084Z",
     "shell.execute_reply": "2025-08-06T17:20:03.426059Z"
    },
    "papermill": {
     "duration": 0.039764,
     "end_time": "2025-08-06T17:20:03.429033",
     "exception": false,
     "start_time": "2025-08-06T17:20:03.389269",
     "status": "completed"
    },
    "tags": []
   },
   "outputs": [],
   "source": [
    "def filter_sub_universe_data(sub_universe, org_test):\n",
    "    # Keep all rows — no filtering\n",
    "    keep_rows_mask = np.ones(org_test.shape[0], dtype=bool)\n",
    "\n",
    "    print(f\"[INFO] Keeping all rows: {keep_rows_mask.sum()} rows retained.\")\n",
    "    return keep_rows_mask"
   ]
  },
  {
   "cell_type": "code",
   "execution_count": 62,
   "id": "4a759155",
   "metadata": {
    "execution": {
     "iopub.execute_input": "2025-08-06T17:20:03.481215Z",
     "iopub.status.busy": "2025-08-06T17:20:03.480453Z",
     "iopub.status.idle": "2025-08-06T17:20:13.054356Z",
     "shell.execute_reply": "2025-08-06T17:20:13.053440Z"
    },
    "papermill": {
     "duration": 9.601327,
     "end_time": "2025-08-06T17:20:13.055871",
     "exception": false,
     "start_time": "2025-08-06T17:20:03.454544",
     "status": "completed"
    },
    "tags": []
   },
   "outputs": [
    {
     "name": "stdout",
     "output_type": "stream",
     "text": [
      "Stopping execution_time clock.\n",
      "[INFO] Keeping all rows: 89710 rows retained.\n"
     ]
    },
    {
     "name": "stdout",
     "output_type": "stream",
     "text": [
      "[INFO] Keeping all rows: 89710 rows retained.\n"
     ]
    },
    {
     "name": "stdout",
     "output_type": "stream",
     "text": [
      "[INFO] Keeping all rows: 89710 rows retained.\n"
     ]
    },
    {
     "name": "stdout",
     "output_type": "stream",
     "text": [
      "[INFO] Keeping all rows: 89710 rows retained.\n"
     ]
    },
    {
     "data": {
      "text/html": [
       "<div>\n",
       "<style scoped>\n",
       "    .dataframe tbody tr th:only-of-type {\n",
       "        vertical-align: middle;\n",
       "    }\n",
       "\n",
       "    .dataframe tbody tr th {\n",
       "        vertical-align: top;\n",
       "    }\n",
       "\n",
       "    .dataframe thead th {\n",
       "        text-align: right;\n",
       "    }\n",
       "</style>\n",
       "<table border=\"1\" class=\"dataframe\">\n",
       "  <thead>\n",
       "    <tr style=\"text-align: right;\">\n",
       "      <th></th>\n",
       "      <th>run_no</th>\n",
       "      <th>universe_id</th>\n",
       "      <th>universe_settings</th>\n",
       "      <th>execution_time</th>\n",
       "      <th>test_size_n</th>\n",
       "      <th>test_size_frac</th>\n",
       "      <th>fair_main_equalized_odds_difference</th>\n",
       "      <th>fair_main_equalized_odds_ratio</th>\n",
       "      <th>fair_main_demographic_parity_difference</th>\n",
       "      <th>fair_main_demographic_parity_ratio</th>\n",
       "      <th>...</th>\n",
       "      <th>perf_grp_precision_0</th>\n",
       "      <th>perf_grp_precision_1</th>\n",
       "      <th>perf_grp_false positive rate_0</th>\n",
       "      <th>perf_grp_false positive rate_1</th>\n",
       "      <th>perf_grp_false negative rate_0</th>\n",
       "      <th>perf_grp_false negative rate_1</th>\n",
       "      <th>perf_grp_selection rate_0</th>\n",
       "      <th>perf_grp_selection rate_1</th>\n",
       "      <th>perf_grp_count_0</th>\n",
       "      <th>perf_grp_count_1</th>\n",
       "    </tr>\n",
       "  </thead>\n",
       "  <tbody>\n",
       "    <tr>\n",
       "      <th>0</th>\n",
       "      <td>1</td>\n",
       "      <td>7af29769abafce631663ff39caf9f962</td>\n",
       "      <td>{\"cutoff\": \"quantile_0.1\", \"eval_fairness_grou...</td>\n",
       "      <td>25.881916</td>\n",
       "      <td>89710</td>\n",
       "      <td>1.0</td>\n",
       "      <td>0.069682</td>\n",
       "      <td>0.925954</td>\n",
       "      <td>0.059859</td>\n",
       "      <td>0.936734</td>\n",
       "      <td>...</td>\n",
       "      <td>NaN</td>\n",
       "      <td>NaN</td>\n",
       "      <td>NaN</td>\n",
       "      <td>NaN</td>\n",
       "      <td>NaN</td>\n",
       "      <td>NaN</td>\n",
       "      <td>NaN</td>\n",
       "      <td>NaN</td>\n",
       "      <td>NaN</td>\n",
       "      <td>NaN</td>\n",
       "    </tr>\n",
       "    <tr>\n",
       "      <th>0</th>\n",
       "      <td>1</td>\n",
       "      <td>7af29769abafce631663ff39caf9f962</td>\n",
       "      <td>{\"cutoff\": \"quantile_0.1\", \"eval_fairness_grou...</td>\n",
       "      <td>25.881916</td>\n",
       "      <td>89710</td>\n",
       "      <td>1.0</td>\n",
       "      <td>0.069682</td>\n",
       "      <td>0.925954</td>\n",
       "      <td>0.059859</td>\n",
       "      <td>0.936734</td>\n",
       "      <td>...</td>\n",
       "      <td>0.120047</td>\n",
       "      <td>0.146742</td>\n",
       "      <td>0.941063</td>\n",
       "      <td>0.871381</td>\n",
       "      <td>0.014780</td>\n",
       "      <td>0.015755</td>\n",
       "      <td>0.946154</td>\n",
       "      <td>0.886295</td>\n",
       "      <td>20540.0</td>\n",
       "      <td>69170.0</td>\n",
       "    </tr>\n",
       "    <tr>\n",
       "      <th>0</th>\n",
       "      <td>1</td>\n",
       "      <td>7af29769abafce631663ff39caf9f962</td>\n",
       "      <td>{\"cutoff\": \"quantile_0.25\", \"eval_fairness_gro...</td>\n",
       "      <td>25.881916</td>\n",
       "      <td>89710</td>\n",
       "      <td>1.0</td>\n",
       "      <td>0.141030</td>\n",
       "      <td>0.830211</td>\n",
       "      <td>0.121683</td>\n",
       "      <td>0.855794</td>\n",
       "      <td>...</td>\n",
       "      <td>NaN</td>\n",
       "      <td>NaN</td>\n",
       "      <td>NaN</td>\n",
       "      <td>NaN</td>\n",
       "      <td>NaN</td>\n",
       "      <td>NaN</td>\n",
       "      <td>NaN</td>\n",
       "      <td>NaN</td>\n",
       "      <td>NaN</td>\n",
       "      <td>NaN</td>\n",
       "    </tr>\n",
       "    <tr>\n",
       "      <th>0</th>\n",
       "      <td>1</td>\n",
       "      <td>7af29769abafce631663ff39caf9f962</td>\n",
       "      <td>{\"cutoff\": \"quantile_0.25\", \"eval_fairness_gro...</td>\n",
       "      <td>25.881916</td>\n",
       "      <td>89710</td>\n",
       "      <td>1.0</td>\n",
       "      <td>0.141030</td>\n",
       "      <td>0.830211</td>\n",
       "      <td>0.121683</td>\n",
       "      <td>0.855794</td>\n",
       "      <td>...</td>\n",
       "      <td>0.129125</td>\n",
       "      <td>0.171251</td>\n",
       "      <td>0.830619</td>\n",
       "      <td>0.689589</td>\n",
       "      <td>0.054899</td>\n",
       "      <td>0.064114</td>\n",
       "      <td>0.843817</td>\n",
       "      <td>0.722134</td>\n",
       "      <td>20540.0</td>\n",
       "      <td>69170.0</td>\n",
       "    </tr>\n",
       "  </tbody>\n",
       "</table>\n",
       "<p>4 rows × 50 columns</p>\n",
       "</div>"
      ],
      "text/plain": [
       "  run_no                       universe_id  \\\n",
       "0      1  7af29769abafce631663ff39caf9f962   \n",
       "0      1  7af29769abafce631663ff39caf9f962   \n",
       "0      1  7af29769abafce631663ff39caf9f962   \n",
       "0      1  7af29769abafce631663ff39caf9f962   \n",
       "\n",
       "                                   universe_settings  execution_time  \\\n",
       "0  {\"cutoff\": \"quantile_0.1\", \"eval_fairness_grou...       25.881916   \n",
       "0  {\"cutoff\": \"quantile_0.1\", \"eval_fairness_grou...       25.881916   \n",
       "0  {\"cutoff\": \"quantile_0.25\", \"eval_fairness_gro...       25.881916   \n",
       "0  {\"cutoff\": \"quantile_0.25\", \"eval_fairness_gro...       25.881916   \n",
       "\n",
       "   test_size_n  test_size_frac  fair_main_equalized_odds_difference  \\\n",
       "0        89710             1.0                             0.069682   \n",
       "0        89710             1.0                             0.069682   \n",
       "0        89710             1.0                             0.141030   \n",
       "0        89710             1.0                             0.141030   \n",
       "\n",
       "   fair_main_equalized_odds_ratio  fair_main_demographic_parity_difference  \\\n",
       "0                        0.925954                                 0.059859   \n",
       "0                        0.925954                                 0.059859   \n",
       "0                        0.830211                                 0.121683   \n",
       "0                        0.830211                                 0.121683   \n",
       "\n",
       "   fair_main_demographic_parity_ratio  ...  perf_grp_precision_0  \\\n",
       "0                            0.936734  ...                   NaN   \n",
       "0                            0.936734  ...              0.120047   \n",
       "0                            0.855794  ...                   NaN   \n",
       "0                            0.855794  ...              0.129125   \n",
       "\n",
       "   perf_grp_precision_1  perf_grp_false positive rate_0  \\\n",
       "0                   NaN                             NaN   \n",
       "0              0.146742                        0.941063   \n",
       "0                   NaN                             NaN   \n",
       "0              0.171251                        0.830619   \n",
       "\n",
       "   perf_grp_false positive rate_1  perf_grp_false negative rate_0  \\\n",
       "0                             NaN                             NaN   \n",
       "0                        0.871381                        0.014780   \n",
       "0                             NaN                             NaN   \n",
       "0                        0.689589                        0.054899   \n",
       "\n",
       "   perf_grp_false negative rate_1  perf_grp_selection rate_0  \\\n",
       "0                             NaN                        NaN   \n",
       "0                        0.015755                   0.946154   \n",
       "0                             NaN                        NaN   \n",
       "0                        0.064114                   0.843817   \n",
       "\n",
       "   perf_grp_selection rate_1  perf_grp_count_0  perf_grp_count_1  \n",
       "0                        NaN               NaN               NaN  \n",
       "0                   0.886295           20540.0           69170.0  \n",
       "0                        NaN               NaN               NaN  \n",
       "0                   0.722134           20540.0           69170.0  \n",
       "\n",
       "[4 rows x 50 columns]"
      ]
     },
     "execution_count": 62,
     "metadata": {},
     "output_type": "execute_result"
    }
   ],
   "source": [
    "final_output = universe_analysis.generate_final_output(\n",
    "    y_pred_prob=probs_test,\n",
    "    y_test=y_true,\n",
    "    org_test=org_test,\n",
    "    filter_data=filter_sub_universe_data,\n",
    "    cp_metrics_df=cp_metrics_df,\n",
    "    save=True,\n",
    ")\n",
    "final_output"
   ]
  },
  {
   "cell_type": "code",
   "execution_count": null,
   "id": "571f9a0f-660a-4841-b661-b06fbc637944",
   "metadata": {
    "papermill": {
     "duration": 0.014927,
     "end_time": "2025-08-06T17:20:13.096262",
     "exception": false,
     "start_time": "2025-08-06T17:20:13.081335",
     "status": "completed"
    },
    "tags": []
   },
   "outputs": [],
   "source": []
  },
  {
   "cell_type": "code",
   "execution_count": null,
   "id": "529482e3-0150-4854-a92d-ab864efc606e",
   "metadata": {
    "papermill": {
     "duration": 0.014702,
     "end_time": "2025-08-06T17:20:13.125409",
     "exception": false,
     "start_time": "2025-08-06T17:20:13.110707",
     "status": "completed"
    },
    "tags": []
   },
   "outputs": [],
   "source": []
  }
 ],
 "metadata": {
  "celltoolbar": "Tags",
  "kernelspec": {
   "display_name": "Python (CMA Fairness)",
   "language": "python",
   "name": "cma_fair_env"
  },
  "language_info": {
   "codemirror_mode": {
    "name": "ipython",
    "version": 3
   },
   "file_extension": ".py",
   "mimetype": "text/x-python",
   "name": "python",
   "nbconvert_exporter": "python",
   "pygments_lexer": "ipython3",
   "version": "3.10.12"
  },
  "papermill": {
   "default_parameters": {},
   "duration": 39.259115,
   "end_time": "2025-08-06T17:20:13.758922",
   "environment_variables": {},
   "exception": null,
   "input_path": "universe_analysis.ipynb",
   "output_path": "output/runs/1/notebooks/m_1-7af29769abafce631663ff39caf9f962.ipynb",
   "parameters": {
    "output_dir": "output",
    "run_no": "1",
    "seed": "2023",
    "universe": "{\"cutoff\": [\"quantile_0.1\", \"quantile_0.25\"], \"eval_fairness_grouping\": [\"majority-minority\", \"nationality-all\"], \"exclude_features\": \"nationality-sex\", \"exclude_subgroups\": \"keep-all\", \"model\": \"elasticnet\", \"scale\": \"scale\", \"training_size\": \"5k\", \"training_year\": \"2014\"}",
    "universe_id": "7af29769abafce631663ff39caf9f962"
   },
   "start_time": "2025-08-06T17:19:34.499807",
   "version": "2.6.0"
  }
 },
 "nbformat": 4,
 "nbformat_minor": 5
}