{
 "cells": [
  {
   "cell_type": "markdown",
   "id": "b2057076-3a91-4cfa-9bfd-eab1e61b3068",
   "metadata": {
    "papermill": {
     "duration": 0.017416,
     "end_time": "2025-08-06T16:56:36.197309",
     "exception": false,
     "start_time": "2025-08-06T16:56:36.179893",
     "status": "completed"
    },
    "tags": []
   },
   "source": [
    "# Setup"
   ]
  },
  {
   "cell_type": "code",
   "execution_count": 1,
   "id": "f159f837-637b-42ba-96b5-ec9a68c44524",
   "metadata": {
    "execution": {
     "iopub.execute_input": "2025-08-06T16:56:36.230851Z",
     "iopub.status.busy": "2025-08-06T16:56:36.230197Z",
     "iopub.status.idle": "2025-08-06T16:56:36.243643Z",
     "shell.execute_reply": "2025-08-06T16:56:36.242686Z"
    },
    "papermill": {
     "duration": 0.032252,
     "end_time": "2025-08-06T16:56:36.245289",
     "exception": false,
     "start_time": "2025-08-06T16:56:36.213037",
     "status": "completed"
    },
    "tags": []
   },
   "outputs": [
    {
     "name": "stdout",
     "output_type": "stream",
     "text": [
      "/dss/dsshome1/0C/ra93lal2/cma/CMA_Fairness_v2\n"
     ]
    },
    {
     "name": "stderr",
     "output_type": "stream",
     "text": [
      "/dss/dsshome1/0C/ra93lal2/.local/share/virtualenvs/CMA_Fairness_v2-3j10GkSs/lib/python3.10/site-packages/IPython/core/magics/osm.py:393: UserWarning: This is now an optional IPython functionality, using bookmarks requires you to install the `pickleshare` library.\n",
      "  bkms = self.shell.db.get('bookmarks', {})\n",
      "/dss/dsshome1/0C/ra93lal2/.local/share/virtualenvs/CMA_Fairness_v2-3j10GkSs/lib/python3.10/site-packages/IPython/core/magics/osm.py:417: UserWarning: This is now an optional IPython functionality, setting dhist requires you to install the `pickleshare` library.\n",
      "  self.shell.db['dhist'] = compress_dhist(dhist)[-100:]\n"
     ]
    }
   ],
   "source": [
    "%cd ~/cma/CMA_Fairness_v2"
   ]
  },
  {
   "cell_type": "markdown",
   "id": "de2603b9",
   "metadata": {
    "papermill": {
     "duration": 0.015999,
     "end_time": "2025-08-06T16:56:36.278199",
     "exception": false,
     "start_time": "2025-08-06T16:56:36.262200",
     "status": "completed"
    },
    "tags": []
   },
   "source": [
    "The following cell holds the definition of our parameters, these values can be overriden by rendering the with e.g. the following command:\n",
    "\n",
    "papermill -p alpha 0.2 -p ratio 0.3 universe_analysis.ipynb output/test_run.ipynb"
   ]
  },
  {
   "cell_type": "code",
   "execution_count": 2,
   "id": "a80968a0-40bb-4fa9-85ef-2d5eefb01975",
   "metadata": {
    "execution": {
     "iopub.execute_input": "2025-08-06T16:56:36.312352Z",
     "iopub.status.busy": "2025-08-06T16:56:36.311669Z",
     "iopub.status.idle": "2025-08-06T16:56:36.317770Z",
     "shell.execute_reply": "2025-08-06T16:56:36.316578Z"
    },
    "papermill": {
     "duration": 0.02544,
     "end_time": "2025-08-06T16:56:36.319504",
     "exception": false,
     "start_time": "2025-08-06T16:56:36.294064",
     "status": "completed"
    },
    "tags": []
   },
   "outputs": [
    {
     "name": "stdout",
     "output_type": "stream",
     "text": [
      "Current working directory: /dss/dsshome1/0C/ra93lal2/cma/CMA_Fairness_v2\n"
     ]
    }
   ],
   "source": [
    "import os\n",
    "print(\"Current working directory:\", os.getcwd())"
   ]
  },
  {
   "cell_type": "code",
   "execution_count": 3,
   "id": "2dce4c03",
   "metadata": {
    "execution": {
     "iopub.execute_input": "2025-08-06T16:56:36.354522Z",
     "iopub.status.busy": "2025-08-06T16:56:36.353870Z",
     "iopub.status.idle": "2025-08-06T16:56:36.360484Z",
     "shell.execute_reply": "2025-08-06T16:56:36.359498Z"
    },
    "papermill": {
     "duration": 0.025518,
     "end_time": "2025-08-06T16:56:36.362084",
     "exception": false,
     "start_time": "2025-08-06T16:56:36.336566",
     "status": "completed"
    },
    "tags": [
     "parameters"
    ]
   },
   "outputs": [],
   "source": [
    "run_no = 0\n",
    "universe_id = \"test\"\n",
    "universe = {\n",
    "    \"training_size\": \"5k\", # \"25k\", \"5k\", \"1k\"\n",
    "    \"training_year\": \"2012_14\", # \"2014\", \"2012_14\", \"2010_14\"\n",
    "    \"scale\": \"scale\", # \"scale\", \"do-not-scale\",\n",
    "    \"model\": \"elasticnet\", # \"logreg\", \"penalized_logreg\", \"rf\", \"gbm\", \"elasticnet\"\n",
    "    \"cutoff\": [\"quantile_0.15\", \"quantile_0.30\"],\n",
    "    \"exclude_features\": \"age\", # \"none\", \"nationality\", \"sex\", \"nationality-sex\", \"age\"\n",
    "    \"exclude_subgroups\": \"drop-non-german\", # \"keep-all\", \"drop-non-german\"\n",
    "    \"eval_fairness_grouping\": [\"majority-minority\", \"nationality-all\"]\n",
    "}\n",
    "\n",
    "output_dir=\"./output\"\n",
    "seed=0"
   ]
  },
  {
   "cell_type": "code",
   "execution_count": 4,
   "id": "49feea29",
   "metadata": {
    "execution": {
     "iopub.execute_input": "2025-08-06T16:56:36.398184Z",
     "iopub.status.busy": "2025-08-06T16:56:36.397545Z",
     "iopub.status.idle": "2025-08-06T16:56:36.402757Z",
     "shell.execute_reply": "2025-08-06T16:56:36.401838Z"
    },
    "papermill": {
     "duration": 0.024856,
     "end_time": "2025-08-06T16:56:36.404285",
     "exception": false,
     "start_time": "2025-08-06T16:56:36.379429",
     "status": "completed"
    },
    "tags": [
     "injected-parameters"
    ]
   },
   "outputs": [],
   "source": [
    "# Parameters\n",
    "universe_id = \"e27a9f3050c36db572ccf27907c2f740\"\n",
    "run_no = \"1\"\n",
    "universe = \"{\\\"cutoff\\\": [\\\"quantile_0.1\\\", \\\"quantile_0.25\\\"], \\\"eval_fairness_grouping\\\": [\\\"majority-minority\\\", \\\"nationality-all\\\"], \\\"exclude_features\\\": \\\"nationality\\\", \\\"exclude_subgroups\\\": \\\"keep-all\\\", \\\"model\\\": \\\"logreg\\\", \\\"scale\\\": \\\"do-not-scale\\\", \\\"training_size\\\": \\\"25k\\\", \\\"training_year\\\": \\\"2012_14\\\"}\"\n",
    "output_dir = \"output\"\n",
    "seed = \"2023\"\n"
   ]
  },
  {
   "cell_type": "code",
   "execution_count": 5,
   "id": "1650acaf",
   "metadata": {
    "execution": {
     "iopub.execute_input": "2025-08-06T16:56:36.437368Z",
     "iopub.status.busy": "2025-08-06T16:56:36.436808Z",
     "iopub.status.idle": "2025-08-06T16:56:36.441991Z",
     "shell.execute_reply": "2025-08-06T16:56:36.441097Z"
    },
    "papermill": {
     "duration": 0.023158,
     "end_time": "2025-08-06T16:56:36.443544",
     "exception": false,
     "start_time": "2025-08-06T16:56:36.420386",
     "status": "completed"
    },
    "tags": []
   },
   "outputs": [],
   "source": [
    "import json\n",
    "if isinstance(universe, str):\n",
    "    universe = json.loads(universe)"
   ]
  },
  {
   "cell_type": "code",
   "execution_count": 6,
   "id": "16620c48",
   "metadata": {
    "execution": {
     "iopub.execute_input": "2025-08-06T16:56:36.477424Z",
     "iopub.status.busy": "2025-08-06T16:56:36.476746Z",
     "iopub.status.idle": "2025-08-06T16:56:36.521638Z",
     "shell.execute_reply": "2025-08-06T16:56:36.520787Z"
    },
    "papermill": {
     "duration": 0.06343,
     "end_time": "2025-08-06T16:56:36.523391",
     "exception": false,
     "start_time": "2025-08-06T16:56:36.459961",
     "status": "completed"
    },
    "tags": []
   },
   "outputs": [],
   "source": [
    "# Auto-reload the custom package\n",
    "%load_ext autoreload\n",
    "%autoreload 1\n",
    "%aimport fairness_multiverse"
   ]
  },
  {
   "cell_type": "code",
   "execution_count": 7,
   "id": "01c5c9f3",
   "metadata": {
    "execution": {
     "iopub.execute_input": "2025-08-06T16:56:36.556950Z",
     "iopub.status.busy": "2025-08-06T16:56:36.556257Z",
     "iopub.status.idle": "2025-08-06T16:56:38.540564Z",
     "shell.execute_reply": "2025-08-06T16:56:38.539423Z"
    },
    "papermill": {
     "duration": 2.00326,
     "end_time": "2025-08-06T16:56:38.542518",
     "exception": false,
     "start_time": "2025-08-06T16:56:36.539258",
     "status": "completed"
    },
    "tags": []
   },
   "outputs": [],
   "source": [
    "from fairness_multiverse.universe import UniverseAnalysis\n",
    "\n",
    "universe_analysis = UniverseAnalysis(\n",
    "    run_no = run_no,\n",
    "    universe_id = universe_id,\n",
    "    universe = universe,\n",
    "    output_dir=output_dir,\n",
    ")"
   ]
  },
  {
   "cell_type": "code",
   "execution_count": 8,
   "id": "106241f5",
   "metadata": {
    "execution": {
     "iopub.execute_input": "2025-08-06T16:56:38.578796Z",
     "iopub.status.busy": "2025-08-06T16:56:38.577796Z",
     "iopub.status.idle": "2025-08-06T16:56:38.585225Z",
     "shell.execute_reply": "2025-08-06T16:56:38.584177Z"
    },
    "papermill": {
     "duration": 0.026695,
     "end_time": "2025-08-06T16:56:38.586846",
     "exception": false,
     "start_time": "2025-08-06T16:56:38.560151",
     "status": "completed"
    },
    "tags": []
   },
   "outputs": [
    {
     "name": "stdout",
     "output_type": "stream",
     "text": [
      "Using Seed: 2023\n"
     ]
    }
   ],
   "source": [
    "import numpy as np\n",
    "parsed_seed = int(seed)\n",
    "np.random.seed(parsed_seed)\n",
    "print(f\"Using Seed: {parsed_seed}\")"
   ]
  },
  {
   "cell_type": "markdown",
   "id": "e0ebdc57",
   "metadata": {
    "papermill": {
     "duration": 0.016058,
     "end_time": "2025-08-06T16:56:38.619140",
     "exception": false,
     "start_time": "2025-08-06T16:56:38.603082",
     "status": "completed"
    },
    "tags": []
   },
   "source": [
    "# Loading Data"
   ]
  },
  {
   "cell_type": "code",
   "execution_count": 9,
   "id": "f0496b8a",
   "metadata": {
    "execution": {
     "iopub.execute_input": "2025-08-06T16:56:38.653493Z",
     "iopub.status.busy": "2025-08-06T16:56:38.652834Z",
     "iopub.status.idle": "2025-08-06T16:56:51.154041Z",
     "shell.execute_reply": "2025-08-06T16:56:51.152958Z"
    },
    "papermill": {
     "duration": 12.520343,
     "end_time": "2025-08-06T16:56:51.155534",
     "exception": false,
     "start_time": "2025-08-06T16:56:38.635191",
     "status": "completed"
    },
    "tags": []
   },
   "outputs": [
    {
     "name": "stdout",
     "output_type": "stream",
     "text": [
      "Loading SIAB data from cache: data/siab_cached.csv.gz\n"
     ]
    },
    {
     "name": "stdout",
     "output_type": "stream",
     "text": [
      "(643690, 164)\n"
     ]
    }
   ],
   "source": [
    "from pathlib import Path\n",
    "import pandas as pd\n",
    "\n",
    "# File paths\n",
    "raw_file = Path(\"data/raw/siab.csv\")\n",
    "cache_file = Path(\"data/siab_cached.csv.gz\")\n",
    "\n",
    "# Ensure cache directory exists\n",
    "cache_file.parent.mkdir(parents=True, exist_ok=True)\n",
    "\n",
    "# Load with simple caching\n",
    "if cache_file.exists():\n",
    "    print(f\"Loading SIAB data from cache: {cache_file}\")\n",
    "    siab = pd.read_csv(cache_file, compression='gzip')\n",
    "else:\n",
    "    print(f\"Cache not found. Reading raw SIAB data: {raw_file}\")\n",
    "    siab = pd.read_csv(raw_file)\n",
    "    siab.to_csv(cache_file, index=False, compression='gzip')\n",
    "    print(f\"Cached SIAB data to: {cache_file}\")\n",
    "\n",
    "print(siab.shape)"
   ]
  },
  {
   "cell_type": "code",
   "execution_count": 10,
   "id": "db0ca512-5f53-4dba-abdb-a2888bca41ba",
   "metadata": {
    "execution": {
     "iopub.execute_input": "2025-08-06T16:56:51.194436Z",
     "iopub.status.busy": "2025-08-06T16:56:51.193722Z",
     "iopub.status.idle": "2025-08-06T16:56:51.401956Z",
     "shell.execute_reply": "2025-08-06T16:56:51.401110Z"
    },
    "papermill": {
     "duration": 0.228645,
     "end_time": "2025-08-06T16:56:51.403601",
     "exception": false,
     "start_time": "2025-08-06T16:56:51.174956",
     "status": "completed"
    },
    "tags": []
   },
   "outputs": [
    {
     "data": {
      "text/html": [
       "<div>\n",
       "<style scoped>\n",
       "    .dataframe tbody tr th:only-of-type {\n",
       "        vertical-align: middle;\n",
       "    }\n",
       "\n",
       "    .dataframe tbody tr th {\n",
       "        vertical-align: top;\n",
       "    }\n",
       "\n",
       "    .dataframe thead th {\n",
       "        text-align: right;\n",
       "    }\n",
       "</style>\n",
       "<table border=\"1\" class=\"dataframe\">\n",
       "  <thead>\n",
       "    <tr style=\"text-align: right;\">\n",
       "      <th></th>\n",
       "      <th>persnr</th>\n",
       "      <th>year</th>\n",
       "      <th>nrEntry</th>\n",
       "      <th>ltue</th>\n",
       "      <th>employed_before</th>\n",
       "      <th>receipt_leh_before</th>\n",
       "      <th>receipt_lhg_before</th>\n",
       "      <th>se_before</th>\n",
       "      <th>ASU_notue_seeking_before</th>\n",
       "      <th>ASU_other_before</th>\n",
       "      <th>...</th>\n",
       "      <th>minijob_tot_dur_byage</th>\n",
       "      <th>ft_tot_dur_byage</th>\n",
       "      <th>befrist_tot_dur_byage</th>\n",
       "      <th>leih_tot_dur_byage</th>\n",
       "      <th>LHG_tot_dur_byage</th>\n",
       "      <th>LEH_tot_dur_byage</th>\n",
       "      <th>almp_tot_dur_byage</th>\n",
       "      <th>almp_aw_tot_dur_byage</th>\n",
       "      <th>se_tot_dur_byage</th>\n",
       "      <th>seeking1_tot_dur_byage</th>\n",
       "    </tr>\n",
       "  </thead>\n",
       "  <tbody>\n",
       "    <tr>\n",
       "      <th>0</th>\n",
       "      <td>7</td>\n",
       "      <td>2015</td>\n",
       "      <td>1</td>\n",
       "      <td>0</td>\n",
       "      <td>1</td>\n",
       "      <td>0</td>\n",
       "      <td>0</td>\n",
       "      <td>0</td>\n",
       "      <td>1</td>\n",
       "      <td>0</td>\n",
       "      <td>...</td>\n",
       "      <td>0.000000</td>\n",
       "      <td>0.000000</td>\n",
       "      <td>15.043478</td>\n",
       "      <td>0.000000</td>\n",
       "      <td>0.000000</td>\n",
       "      <td>0.000000</td>\n",
       "      <td>0.000000</td>\n",
       "      <td>0.000000</td>\n",
       "      <td>0.000000</td>\n",
       "      <td>0.000000</td>\n",
       "    </tr>\n",
       "    <tr>\n",
       "      <th>1</th>\n",
       "      <td>18</td>\n",
       "      <td>2010</td>\n",
       "      <td>1</td>\n",
       "      <td>1</td>\n",
       "      <td>0</td>\n",
       "      <td>0</td>\n",
       "      <td>0</td>\n",
       "      <td>0</td>\n",
       "      <td>0</td>\n",
       "      <td>0</td>\n",
       "      <td>...</td>\n",
       "      <td>0.000000</td>\n",
       "      <td>0.000000</td>\n",
       "      <td>0.000000</td>\n",
       "      <td>0.000000</td>\n",
       "      <td>0.000000</td>\n",
       "      <td>0.000000</td>\n",
       "      <td>0.000000</td>\n",
       "      <td>0.000000</td>\n",
       "      <td>0.000000</td>\n",
       "      <td>0.000000</td>\n",
       "    </tr>\n",
       "    <tr>\n",
       "      <th>2</th>\n",
       "      <td>18</td>\n",
       "      <td>2011</td>\n",
       "      <td>2</td>\n",
       "      <td>0</td>\n",
       "      <td>1</td>\n",
       "      <td>0</td>\n",
       "      <td>1</td>\n",
       "      <td>0</td>\n",
       "      <td>1</td>\n",
       "      <td>0</td>\n",
       "      <td>...</td>\n",
       "      <td>2.714286</td>\n",
       "      <td>2.714286</td>\n",
       "      <td>0.000000</td>\n",
       "      <td>0.000000</td>\n",
       "      <td>10.775510</td>\n",
       "      <td>0.000000</td>\n",
       "      <td>8.367347</td>\n",
       "      <td>0.000000</td>\n",
       "      <td>0.000000</td>\n",
       "      <td>9.836735</td>\n",
       "    </tr>\n",
       "    <tr>\n",
       "      <th>3</th>\n",
       "      <td>18</td>\n",
       "      <td>2012</td>\n",
       "      <td>3</td>\n",
       "      <td>0</td>\n",
       "      <td>1</td>\n",
       "      <td>0</td>\n",
       "      <td>1</td>\n",
       "      <td>0</td>\n",
       "      <td>1</td>\n",
       "      <td>0</td>\n",
       "      <td>...</td>\n",
       "      <td>4.200000</td>\n",
       "      <td>4.200000</td>\n",
       "      <td>0.000000</td>\n",
       "      <td>0.000000</td>\n",
       "      <td>12.100000</td>\n",
       "      <td>0.000000</td>\n",
       "      <td>9.400000</td>\n",
       "      <td>0.000000</td>\n",
       "      <td>0.000000</td>\n",
       "      <td>9.960000</td>\n",
       "    </tr>\n",
       "    <tr>\n",
       "      <th>4</th>\n",
       "      <td>18</td>\n",
       "      <td>2012</td>\n",
       "      <td>4</td>\n",
       "      <td>0</td>\n",
       "      <td>1</td>\n",
       "      <td>0</td>\n",
       "      <td>1</td>\n",
       "      <td>0</td>\n",
       "      <td>1</td>\n",
       "      <td>0</td>\n",
       "      <td>...</td>\n",
       "      <td>5.460000</td>\n",
       "      <td>5.460000</td>\n",
       "      <td>0.000000</td>\n",
       "      <td>0.000000</td>\n",
       "      <td>13.360000</td>\n",
       "      <td>0.000000</td>\n",
       "      <td>10.320000</td>\n",
       "      <td>0.000000</td>\n",
       "      <td>0.000000</td>\n",
       "      <td>10.280000</td>\n",
       "    </tr>\n",
       "    <tr>\n",
       "      <th>...</th>\n",
       "      <td>...</td>\n",
       "      <td>...</td>\n",
       "      <td>...</td>\n",
       "      <td>...</td>\n",
       "      <td>...</td>\n",
       "      <td>...</td>\n",
       "      <td>...</td>\n",
       "      <td>...</td>\n",
       "      <td>...</td>\n",
       "      <td>...</td>\n",
       "      <td>...</td>\n",
       "      <td>...</td>\n",
       "      <td>...</td>\n",
       "      <td>...</td>\n",
       "      <td>...</td>\n",
       "      <td>...</td>\n",
       "      <td>...</td>\n",
       "      <td>...</td>\n",
       "      <td>...</td>\n",
       "      <td>...</td>\n",
       "      <td>...</td>\n",
       "    </tr>\n",
       "    <tr>\n",
       "      <th>643685</th>\n",
       "      <td>1827860</td>\n",
       "      <td>2013</td>\n",
       "      <td>1</td>\n",
       "      <td>0</td>\n",
       "      <td>0</td>\n",
       "      <td>0</td>\n",
       "      <td>1</td>\n",
       "      <td>0</td>\n",
       "      <td>0</td>\n",
       "      <td>1</td>\n",
       "      <td>...</td>\n",
       "      <td>0.000000</td>\n",
       "      <td>0.000000</td>\n",
       "      <td>0.000000</td>\n",
       "      <td>0.000000</td>\n",
       "      <td>0.612903</td>\n",
       "      <td>0.000000</td>\n",
       "      <td>0.000000</td>\n",
       "      <td>0.000000</td>\n",
       "      <td>0.000000</td>\n",
       "      <td>0.000000</td>\n",
       "    </tr>\n",
       "    <tr>\n",
       "      <th>643686</th>\n",
       "      <td>1827860</td>\n",
       "      <td>2015</td>\n",
       "      <td>2</td>\n",
       "      <td>1</td>\n",
       "      <td>0</td>\n",
       "      <td>0</td>\n",
       "      <td>1</td>\n",
       "      <td>0</td>\n",
       "      <td>1</td>\n",
       "      <td>0</td>\n",
       "      <td>...</td>\n",
       "      <td>0.000000</td>\n",
       "      <td>0.000000</td>\n",
       "      <td>0.212121</td>\n",
       "      <td>0.212121</td>\n",
       "      <td>17.363636</td>\n",
       "      <td>0.000000</td>\n",
       "      <td>8.909091</td>\n",
       "      <td>0.000000</td>\n",
       "      <td>0.000000</td>\n",
       "      <td>7.121212</td>\n",
       "    </tr>\n",
       "    <tr>\n",
       "      <th>643687</th>\n",
       "      <td>1827860</td>\n",
       "      <td>2016</td>\n",
       "      <td>3</td>\n",
       "      <td>1</td>\n",
       "      <td>0</td>\n",
       "      <td>0</td>\n",
       "      <td>1</td>\n",
       "      <td>1</td>\n",
       "      <td>0</td>\n",
       "      <td>1</td>\n",
       "      <td>...</td>\n",
       "      <td>0.000000</td>\n",
       "      <td>0.000000</td>\n",
       "      <td>0.294118</td>\n",
       "      <td>0.205882</td>\n",
       "      <td>34.705882</td>\n",
       "      <td>0.000000</td>\n",
       "      <td>10.352941</td>\n",
       "      <td>1.705882</td>\n",
       "      <td>1.705882</td>\n",
       "      <td>23.911765</td>\n",
       "    </tr>\n",
       "    <tr>\n",
       "      <th>643688</th>\n",
       "      <td>1827869</td>\n",
       "      <td>2013</td>\n",
       "      <td>1</td>\n",
       "      <td>1</td>\n",
       "      <td>1</td>\n",
       "      <td>0</td>\n",
       "      <td>0</td>\n",
       "      <td>0</td>\n",
       "      <td>1</td>\n",
       "      <td>0</td>\n",
       "      <td>...</td>\n",
       "      <td>0.000000</td>\n",
       "      <td>0.000000</td>\n",
       "      <td>0.000000</td>\n",
       "      <td>0.000000</td>\n",
       "      <td>0.000000</td>\n",
       "      <td>0.525424</td>\n",
       "      <td>0.000000</td>\n",
       "      <td>0.000000</td>\n",
       "      <td>0.000000</td>\n",
       "      <td>0.000000</td>\n",
       "    </tr>\n",
       "    <tr>\n",
       "      <th>643689</th>\n",
       "      <td>1827869</td>\n",
       "      <td>2014</td>\n",
       "      <td>2</td>\n",
       "      <td>0</td>\n",
       "      <td>0</td>\n",
       "      <td>1</td>\n",
       "      <td>0</td>\n",
       "      <td>0</td>\n",
       "      <td>1</td>\n",
       "      <td>0</td>\n",
       "      <td>...</td>\n",
       "      <td>0.000000</td>\n",
       "      <td>0.666667</td>\n",
       "      <td>0.666667</td>\n",
       "      <td>0.000000</td>\n",
       "      <td>0.000000</td>\n",
       "      <td>8.950000</td>\n",
       "      <td>1.033333</td>\n",
       "      <td>0.083333</td>\n",
       "      <td>0.083333</td>\n",
       "      <td>8.133333</td>\n",
       "    </tr>\n",
       "  </tbody>\n",
       "</table>\n",
       "<p>643690 rows × 164 columns</p>\n",
       "</div>"
      ],
      "text/plain": [
       "         persnr  year  nrEntry  ltue  employed_before  receipt_leh_before  \\\n",
       "0             7  2015        1     0                1                   0   \n",
       "1            18  2010        1     1                0                   0   \n",
       "2            18  2011        2     0                1                   0   \n",
       "3            18  2012        3     0                1                   0   \n",
       "4            18  2012        4     0                1                   0   \n",
       "...         ...   ...      ...   ...              ...                 ...   \n",
       "643685  1827860  2013        1     0                0                   0   \n",
       "643686  1827860  2015        2     1                0                   0   \n",
       "643687  1827860  2016        3     1                0                   0   \n",
       "643688  1827869  2013        1     1                1                   0   \n",
       "643689  1827869  2014        2     0                0                   1   \n",
       "\n",
       "        receipt_lhg_before  se_before  ASU_notue_seeking_before  \\\n",
       "0                        0          0                         1   \n",
       "1                        0          0                         0   \n",
       "2                        1          0                         1   \n",
       "3                        1          0                         1   \n",
       "4                        1          0                         1   \n",
       "...                    ...        ...                       ...   \n",
       "643685                   1          0                         0   \n",
       "643686                   1          0                         1   \n",
       "643687                   1          1                         0   \n",
       "643688                   0          0                         1   \n",
       "643689                   0          0                         1   \n",
       "\n",
       "        ASU_other_before  ...  minijob_tot_dur_byage  ft_tot_dur_byage  \\\n",
       "0                      0  ...               0.000000          0.000000   \n",
       "1                      0  ...               0.000000          0.000000   \n",
       "2                      0  ...               2.714286          2.714286   \n",
       "3                      0  ...               4.200000          4.200000   \n",
       "4                      0  ...               5.460000          5.460000   \n",
       "...                  ...  ...                    ...               ...   \n",
       "643685                 1  ...               0.000000          0.000000   \n",
       "643686                 0  ...               0.000000          0.000000   \n",
       "643687                 1  ...               0.000000          0.000000   \n",
       "643688                 0  ...               0.000000          0.000000   \n",
       "643689                 0  ...               0.000000          0.666667   \n",
       "\n",
       "        befrist_tot_dur_byage  leih_tot_dur_byage  LHG_tot_dur_byage  \\\n",
       "0                   15.043478            0.000000           0.000000   \n",
       "1                    0.000000            0.000000           0.000000   \n",
       "2                    0.000000            0.000000          10.775510   \n",
       "3                    0.000000            0.000000          12.100000   \n",
       "4                    0.000000            0.000000          13.360000   \n",
       "...                       ...                 ...                ...   \n",
       "643685               0.000000            0.000000           0.612903   \n",
       "643686               0.212121            0.212121          17.363636   \n",
       "643687               0.294118            0.205882          34.705882   \n",
       "643688               0.000000            0.000000           0.000000   \n",
       "643689               0.666667            0.000000           0.000000   \n",
       "\n",
       "        LEH_tot_dur_byage  almp_tot_dur_byage  almp_aw_tot_dur_byage  \\\n",
       "0                0.000000            0.000000               0.000000   \n",
       "1                0.000000            0.000000               0.000000   \n",
       "2                0.000000            8.367347               0.000000   \n",
       "3                0.000000            9.400000               0.000000   \n",
       "4                0.000000           10.320000               0.000000   \n",
       "...                   ...                 ...                    ...   \n",
       "643685           0.000000            0.000000               0.000000   \n",
       "643686           0.000000            8.909091               0.000000   \n",
       "643687           0.000000           10.352941               1.705882   \n",
       "643688           0.525424            0.000000               0.000000   \n",
       "643689           8.950000            1.033333               0.083333   \n",
       "\n",
       "        se_tot_dur_byage  seeking1_tot_dur_byage  \n",
       "0               0.000000                0.000000  \n",
       "1               0.000000                0.000000  \n",
       "2               0.000000                9.836735  \n",
       "3               0.000000                9.960000  \n",
       "4               0.000000               10.280000  \n",
       "...                  ...                     ...  \n",
       "643685          0.000000                0.000000  \n",
       "643686          0.000000                7.121212  \n",
       "643687          1.705882               23.911765  \n",
       "643688          0.000000                0.000000  \n",
       "643689          0.083333                8.133333  \n",
       "\n",
       "[643690 rows x 164 columns]"
      ]
     },
     "execution_count": 10,
     "metadata": {},
     "output_type": "execute_result"
    }
   ],
   "source": [
    "siab"
   ]
  },
  {
   "cell_type": "markdown",
   "id": "997051c5-15bd-4b69-9786-c3001a3ce484",
   "metadata": {
    "papermill": {
     "duration": 0.016529,
     "end_time": "2025-08-06T16:56:51.437768",
     "exception": false,
     "start_time": "2025-08-06T16:56:51.421239",
     "status": "completed"
    },
    "tags": []
   },
   "source": [
    "# Splitting Data and Setting Training Data Size"
   ]
  },
  {
   "cell_type": "code",
   "execution_count": 11,
   "id": "aea9c6ef-6f46-42c8-85eb-5a62025c1508",
   "metadata": {
    "execution": {
     "iopub.execute_input": "2025-08-06T16:56:51.472094Z",
     "iopub.status.busy": "2025-08-06T16:56:51.471426Z",
     "iopub.status.idle": "2025-08-06T16:56:52.153252Z",
     "shell.execute_reply": "2025-08-06T16:56:52.152279Z"
    },
    "papermill": {
     "duration": 0.701157,
     "end_time": "2025-08-06T16:56:52.155248",
     "exception": false,
     "start_time": "2025-08-06T16:56:51.454091",
     "status": "completed"
    },
    "tags": []
   },
   "outputs": [],
   "source": [
    "from fairness_multiverse.universe import sample_by_year_size\n",
    "\n",
    "siab_train = sample_by_year_size(siab,\n",
    "                               training_year=universe[\"training_year\"],\n",
    "                               training_size=universe[\"training_size\"])"
   ]
  },
  {
   "cell_type": "code",
   "execution_count": 12,
   "id": "8d3afb32-789d-442c-8d5d-9f5aa8dd2eed",
   "metadata": {
    "execution": {
     "iopub.execute_input": "2025-08-06T16:56:52.198240Z",
     "iopub.status.busy": "2025-08-06T16:56:52.197725Z",
     "iopub.status.idle": "2025-08-06T16:56:52.205519Z",
     "shell.execute_reply": "2025-08-06T16:56:52.204565Z"
    },
    "papermill": {
     "duration": 0.031348,
     "end_time": "2025-08-06T16:56:52.207312",
     "exception": false,
     "start_time": "2025-08-06T16:56:52.175964",
     "status": "completed"
    },
    "tags": []
   },
   "outputs": [
    {
     "data": {
      "text/plain": [
       "(25000, 164)"
      ]
     },
     "execution_count": 12,
     "metadata": {},
     "output_type": "execute_result"
    }
   ],
   "source": [
    "siab_train.shape"
   ]
  },
  {
   "cell_type": "code",
   "execution_count": 13,
   "id": "d582db68-1a4c-47fb-84fc-08518dc1975a",
   "metadata": {
    "execution": {
     "iopub.execute_input": "2025-08-06T16:56:52.244104Z",
     "iopub.status.busy": "2025-08-06T16:56:52.243533Z",
     "iopub.status.idle": "2025-08-06T16:56:52.254732Z",
     "shell.execute_reply": "2025-08-06T16:56:52.252765Z"
    },
    "papermill": {
     "duration": 0.031544,
     "end_time": "2025-08-06T16:56:52.256623",
     "exception": false,
     "start_time": "2025-08-06T16:56:52.225079",
     "status": "completed"
    },
    "tags": []
   },
   "outputs": [
    {
     "data": {
      "text/plain": [
       "year\n",
       "2012    8334\n",
       "2013    8333\n",
       "2014    8333\n",
       "dtype: int64"
      ]
     },
     "metadata": {},
     "output_type": "display_data"
    }
   ],
   "source": [
    "display(siab_train.groupby(\"year\").size())"
   ]
  },
  {
   "cell_type": "code",
   "execution_count": 14,
   "id": "a561edb4-d032-42cb-8256-22eac1111c64",
   "metadata": {
    "execution": {
     "iopub.execute_input": "2025-08-06T16:56:52.295254Z",
     "iopub.status.busy": "2025-08-06T16:56:52.294359Z",
     "iopub.status.idle": "2025-08-06T16:56:52.557546Z",
     "shell.execute_reply": "2025-08-06T16:56:52.556554Z"
    },
    "papermill": {
     "duration": 0.284353,
     "end_time": "2025-08-06T16:56:52.559407",
     "exception": false,
     "start_time": "2025-08-06T16:56:52.275054",
     "status": "completed"
    },
    "tags": []
   },
   "outputs": [],
   "source": [
    "#siab_train = siab_s[siab_s.year < 2015]\n",
    "siab_calib = siab[siab.year == 2015]\n",
    "siab_test = siab[siab.year == 2016]"
   ]
  },
  {
   "cell_type": "code",
   "execution_count": 15,
   "id": "472de16f-c3db-4916-846b-1f0de9cf1746",
   "metadata": {
    "execution": {
     "iopub.execute_input": "2025-08-06T16:56:52.614592Z",
     "iopub.status.busy": "2025-08-06T16:56:52.613949Z",
     "iopub.status.idle": "2025-08-06T16:56:52.628636Z",
     "shell.execute_reply": "2025-08-06T16:56:52.627410Z"
    },
    "papermill": {
     "duration": 0.036733,
     "end_time": "2025-08-06T16:56:52.630394",
     "exception": false,
     "start_time": "2025-08-06T16:56:52.593661",
     "status": "completed"
    },
    "tags": []
   },
   "outputs": [],
   "source": [
    "X_train = siab_train.iloc[:,4:164]\n",
    "y_train = siab_train.iloc[:, [3]]"
   ]
  },
  {
   "cell_type": "code",
   "execution_count": 16,
   "id": "828c96af-f43a-4ed6-ba47-8ac73a47d56c",
   "metadata": {
    "execution": {
     "iopub.execute_input": "2025-08-06T16:56:52.671093Z",
     "iopub.status.busy": "2025-08-06T16:56:52.670589Z",
     "iopub.status.idle": "2025-08-06T16:56:52.721096Z",
     "shell.execute_reply": "2025-08-06T16:56:52.720040Z"
    },
    "papermill": {
     "duration": 0.072395,
     "end_time": "2025-08-06T16:56:52.722735",
     "exception": false,
     "start_time": "2025-08-06T16:56:52.650340",
     "status": "completed"
    },
    "tags": []
   },
   "outputs": [],
   "source": [
    "X_calib = siab_calib.iloc[:,4:164]\n",
    "y_calib = siab_calib.iloc[:, [3]]"
   ]
  },
  {
   "cell_type": "code",
   "execution_count": 17,
   "id": "c34be9c3-6bd6-476e-acd3-845840e303be",
   "metadata": {
    "execution": {
     "iopub.execute_input": "2025-08-06T16:56:52.764353Z",
     "iopub.status.busy": "2025-08-06T16:56:52.763528Z",
     "iopub.status.idle": "2025-08-06T16:56:52.816098Z",
     "shell.execute_reply": "2025-08-06T16:56:52.815053Z"
    },
    "papermill": {
     "duration": 0.076147,
     "end_time": "2025-08-06T16:56:52.817773",
     "exception": false,
     "start_time": "2025-08-06T16:56:52.741626",
     "status": "completed"
    },
    "tags": []
   },
   "outputs": [],
   "source": [
    "X_test = siab_test.iloc[:,4:164]\n",
    "y_true = siab_test.iloc[:, [3]]"
   ]
  },
  {
   "cell_type": "code",
   "execution_count": 18,
   "id": "e6c733c5",
   "metadata": {
    "execution": {
     "iopub.execute_input": "2025-08-06T16:56:52.858929Z",
     "iopub.status.busy": "2025-08-06T16:56:52.858067Z",
     "iopub.status.idle": "2025-08-06T16:56:52.971525Z",
     "shell.execute_reply": "2025-08-06T16:56:52.970622Z"
    },
    "papermill": {
     "duration": 0.135269,
     "end_time": "2025-08-06T16:56:52.973344",
     "exception": false,
     "start_time": "2025-08-06T16:56:52.838075",
     "status": "completed"
    },
    "tags": []
   },
   "outputs": [],
   "source": [
    "# Auxiliary data needed downstream in the pipeline\n",
    "\n",
    "org_train = X_train.copy()\n",
    "org_test = X_test.copy()\n",
    "org_calib = X_calib.copy()"
   ]
  },
  {
   "cell_type": "markdown",
   "id": "0a4a1b33",
   "metadata": {
    "papermill": {
     "duration": 0.020103,
     "end_time": "2025-08-06T16:56:53.012577",
     "exception": false,
     "start_time": "2025-08-06T16:56:52.992474",
     "status": "completed"
    },
    "tags": []
   },
   "source": [
    "# Preprocessing Data"
   ]
  },
  {
   "cell_type": "code",
   "execution_count": 19,
   "id": "ca879031",
   "metadata": {
    "execution": {
     "iopub.execute_input": "2025-08-06T16:56:53.053380Z",
     "iopub.status.busy": "2025-08-06T16:56:53.052871Z",
     "iopub.status.idle": "2025-08-06T16:56:53.059432Z",
     "shell.execute_reply": "2025-08-06T16:56:53.058461Z"
    },
    "papermill": {
     "duration": 0.029051,
     "end_time": "2025-08-06T16:56:53.061374",
     "exception": false,
     "start_time": "2025-08-06T16:56:53.032323",
     "status": "completed"
    },
    "tags": []
   },
   "outputs": [],
   "source": [
    "# EXCLUDE PROTECTED FEATURES\n",
    "# --------------------------\n",
    "\n",
    "excluded_features = universe[\"exclude_features\"].split(\"-\")\n",
    "excluded_features_dictionary = {\n",
    "    \"nationality\": [\"maxdeutsch1\", \"maxdeutsch.Missing.\"],\n",
    "    \"sex\": [\"frau1\"],\n",
    "    \"age\": [\"age\"],\n",
    "}"
   ]
  },
  {
   "cell_type": "code",
   "execution_count": 20,
   "id": "b745ac60",
   "metadata": {
    "execution": {
     "iopub.execute_input": "2025-08-06T16:56:53.103455Z",
     "iopub.status.busy": "2025-08-06T16:56:53.102989Z",
     "iopub.status.idle": "2025-08-06T16:56:53.108792Z",
     "shell.execute_reply": "2025-08-06T16:56:53.107815Z"
    },
    "papermill": {
     "duration": 0.028806,
     "end_time": "2025-08-06T16:56:53.110476",
     "exception": false,
     "start_time": "2025-08-06T16:56:53.081670",
     "status": "completed"
    },
    "tags": []
   },
   "outputs": [],
   "source": [
    "excluded_features_columns = [\n",
    "    excluded_features_dictionary[f] for f in excluded_features if len(f) > 0 and f != \"none\"\n",
    "]"
   ]
  },
  {
   "cell_type": "code",
   "execution_count": 21,
   "id": "f84f73a2",
   "metadata": {
    "execution": {
     "iopub.execute_input": "2025-08-06T16:56:53.150679Z",
     "iopub.status.busy": "2025-08-06T16:56:53.150019Z",
     "iopub.status.idle": "2025-08-06T16:56:53.155503Z",
     "shell.execute_reply": "2025-08-06T16:56:53.154552Z"
    },
    "papermill": {
     "duration": 0.02749,
     "end_time": "2025-08-06T16:56:53.157152",
     "exception": false,
     "start_time": "2025-08-06T16:56:53.129662",
     "status": "completed"
    },
    "tags": []
   },
   "outputs": [],
   "source": [
    "from fairness_multiverse.universe import flatten_once\n",
    "\n",
    "excluded_features_columns = flatten_once(excluded_features_columns)"
   ]
  },
  {
   "cell_type": "code",
   "execution_count": 22,
   "id": "884dea22",
   "metadata": {
    "execution": {
     "iopub.execute_input": "2025-08-06T16:56:53.196646Z",
     "iopub.status.busy": "2025-08-06T16:56:53.195794Z",
     "iopub.status.idle": "2025-08-06T16:56:53.211573Z",
     "shell.execute_reply": "2025-08-06T16:56:53.210149Z"
    },
    "papermill": {
     "duration": 0.036705,
     "end_time": "2025-08-06T16:56:53.213249",
     "exception": false,
     "start_time": "2025-08-06T16:56:53.176544",
     "status": "completed"
    },
    "tags": []
   },
   "outputs": [
    {
     "name": "stdout",
     "output_type": "stream",
     "text": [
      "Dropping features: ['maxdeutsch1', 'maxdeutsch.Missing.']\n"
     ]
    }
   ],
   "source": [
    "if len(excluded_features_columns) > 0:\n",
    "    print(f\"Dropping features: {excluded_features_columns}\")\n",
    "    X_train.drop(excluded_features_columns, axis=1, inplace=True)"
   ]
  },
  {
   "cell_type": "code",
   "execution_count": 23,
   "id": "95ab8b16",
   "metadata": {
    "execution": {
     "iopub.execute_input": "2025-08-06T16:56:53.253326Z",
     "iopub.status.busy": "2025-08-06T16:56:53.252891Z",
     "iopub.status.idle": "2025-08-06T16:56:53.306709Z",
     "shell.execute_reply": "2025-08-06T16:56:53.306011Z"
    },
    "papermill": {
     "duration": 0.075148,
     "end_time": "2025-08-06T16:56:53.308186",
     "exception": false,
     "start_time": "2025-08-06T16:56:53.233038",
     "status": "completed"
    },
    "tags": []
   },
   "outputs": [
    {
     "name": "stdout",
     "output_type": "stream",
     "text": [
      "Dropping features: ['maxdeutsch1', 'maxdeutsch.Missing.']\n"
     ]
    }
   ],
   "source": [
    "if len(excluded_features_columns) > 0:\n",
    "    print(f\"Dropping features: {excluded_features_columns}\")\n",
    "    X_test.drop(excluded_features_columns, axis=1, inplace=True)"
   ]
  },
  {
   "cell_type": "code",
   "execution_count": 24,
   "id": "1853aaf5-fb9f-46cb-a2b5-8ea4ae2237e4",
   "metadata": {
    "execution": {
     "iopub.execute_input": "2025-08-06T16:56:53.349561Z",
     "iopub.status.busy": "2025-08-06T16:56:53.349202Z",
     "iopub.status.idle": "2025-08-06T16:56:53.398942Z",
     "shell.execute_reply": "2025-08-06T16:56:53.396874Z"
    },
    "papermill": {
     "duration": 0.068695,
     "end_time": "2025-08-06T16:56:53.401156",
     "exception": false,
     "start_time": "2025-08-06T16:56:53.332461",
     "status": "completed"
    },
    "tags": []
   },
   "outputs": [
    {
     "name": "stdout",
     "output_type": "stream",
     "text": [
      "Dropping features: ['maxdeutsch1', 'maxdeutsch.Missing.']\n"
     ]
    }
   ],
   "source": [
    "if len(excluded_features_columns) > 0:\n",
    "    print(f\"Dropping features: {excluded_features_columns}\")\n",
    "    X_calib.drop(excluded_features_columns, axis=1, inplace=True)"
   ]
  },
  {
   "cell_type": "code",
   "execution_count": 25,
   "id": "76c4dc6d",
   "metadata": {
    "execution": {
     "iopub.execute_input": "2025-08-06T16:56:53.435517Z",
     "iopub.status.busy": "2025-08-06T16:56:53.435055Z",
     "iopub.status.idle": "2025-08-06T16:56:53.441192Z",
     "shell.execute_reply": "2025-08-06T16:56:53.440287Z"
    },
    "papermill": {
     "duration": 0.028646,
     "end_time": "2025-08-06T16:56:53.443115",
     "exception": false,
     "start_time": "2025-08-06T16:56:53.414469",
     "status": "completed"
    },
    "tags": []
   },
   "outputs": [],
   "source": [
    "# EXCLUDE CERTAIN SUBGROUPS\n",
    "# -------------------------\n",
    "\n",
    "mode = universe.get(\"exclude_subgroups\", \"keep-all\") # Defaults to \"keep-all\" if the key is missing."
   ]
  },
  {
   "cell_type": "code",
   "execution_count": 26,
   "id": "21994072",
   "metadata": {
    "execution": {
     "iopub.execute_input": "2025-08-06T16:56:53.484910Z",
     "iopub.status.busy": "2025-08-06T16:56:53.484440Z",
     "iopub.status.idle": "2025-08-06T16:56:53.491270Z",
     "shell.execute_reply": "2025-08-06T16:56:53.490253Z"
    },
    "papermill": {
     "duration": 0.029695,
     "end_time": "2025-08-06T16:56:53.493051",
     "exception": false,
     "start_time": "2025-08-06T16:56:53.463356",
     "status": "completed"
    },
    "tags": []
   },
   "outputs": [],
   "source": [
    "if mode == \"keep-all\":\n",
    "    keep_mask = pd.Series(True, index=org_train.index)\n",
    "\n",
    "elif mode == \"drop-non-german\":\n",
    "    keep_mask = (org_train[\"maxdeutsch1\"] == 1) & (org_train[\"maxdeutsch.Missing.\"] == 0)\n",
    "\n",
    "else:\n",
    "    raise ValueError(f\"Unsupported mode for exclude_subgroups: {mode}\")"
   ]
  },
  {
   "cell_type": "code",
   "execution_count": 27,
   "id": "71651440",
   "metadata": {
    "execution": {
     "iopub.execute_input": "2025-08-06T16:56:53.535725Z",
     "iopub.status.busy": "2025-08-06T16:56:53.535109Z",
     "iopub.status.idle": "2025-08-06T16:56:53.541165Z",
     "shell.execute_reply": "2025-08-06T16:56:53.540260Z"
    },
    "papermill": {
     "duration": 0.028945,
     "end_time": "2025-08-06T16:56:53.542734",
     "exception": false,
     "start_time": "2025-08-06T16:56:53.513789",
     "status": "completed"
    },
    "tags": []
   },
   "outputs": [],
   "source": [
    "n_drop = (~keep_mask).sum() # Calculates how many rows are set to be dropped\n",
    "if n_drop > 0:\n",
    "    pct = n_drop / len(keep_mask) * 100\n",
    "    print(f\"Dropping {n_drop} rows ({pct:.2f}%) where mode='{mode}'\")"
   ]
  },
  {
   "cell_type": "code",
   "execution_count": 28,
   "id": "5fb8eee5",
   "metadata": {
    "execution": {
     "iopub.execute_input": "2025-08-06T16:56:53.584123Z",
     "iopub.status.busy": "2025-08-06T16:56:53.583448Z",
     "iopub.status.idle": "2025-08-06T16:56:53.599252Z",
     "shell.execute_reply": "2025-08-06T16:56:53.598186Z"
    },
    "papermill": {
     "duration": 0.038939,
     "end_time": "2025-08-06T16:56:53.600935",
     "exception": false,
     "start_time": "2025-08-06T16:56:53.561996",
     "status": "completed"
    },
    "tags": []
   },
   "outputs": [],
   "source": [
    "X_train = X_train[keep_mask]"
   ]
  },
  {
   "cell_type": "code",
   "execution_count": 29,
   "id": "b202bb3a",
   "metadata": {
    "execution": {
     "iopub.execute_input": "2025-08-06T16:56:53.627585Z",
     "iopub.status.busy": "2025-08-06T16:56:53.627270Z",
     "iopub.status.idle": "2025-08-06T16:56:53.632641Z",
     "shell.execute_reply": "2025-08-06T16:56:53.631761Z"
    },
    "papermill": {
     "duration": 0.017719,
     "end_time": "2025-08-06T16:56:53.634347",
     "exception": false,
     "start_time": "2025-08-06T16:56:53.616628",
     "status": "completed"
    },
    "tags": []
   },
   "outputs": [],
   "source": [
    "y_train = y_train[keep_mask]"
   ]
  },
  {
   "cell_type": "markdown",
   "id": "493e2ac3",
   "metadata": {
    "papermill": {
     "duration": 0.020176,
     "end_time": "2025-08-06T16:56:53.676260",
     "exception": false,
     "start_time": "2025-08-06T16:56:53.656084",
     "status": "completed"
    },
    "tags": []
   },
   "source": [
    "# Model Training"
   ]
  },
  {
   "cell_type": "code",
   "execution_count": 30,
   "id": "679e1268",
   "metadata": {
    "execution": {
     "iopub.execute_input": "2025-08-06T16:56:53.717636Z",
     "iopub.status.busy": "2025-08-06T16:56:53.717137Z",
     "iopub.status.idle": "2025-08-06T16:56:53.822539Z",
     "shell.execute_reply": "2025-08-06T16:56:53.821521Z"
    },
    "papermill": {
     "duration": 0.128124,
     "end_time": "2025-08-06T16:56:53.824348",
     "exception": false,
     "start_time": "2025-08-06T16:56:53.696224",
     "status": "completed"
    },
    "tags": []
   },
   "outputs": [],
   "source": [
    "from sklearn.linear_model import LogisticRegression\n",
    "from sklearn.ensemble import GradientBoostingClassifier, RandomForestClassifier\n",
    "\n",
    "if (universe[\"model\"] == \"logreg\"):\n",
    "    model = LogisticRegression() #penalty=\"none\", solver=\"newton-cg\", max_iter=1)\n",
    "elif (universe[\"model\"] == \"penalized_logreg\"):\n",
    "    model = LogisticRegression(penalty=\"l2\", C=0.1) #, solver=\"newton-cg\", max_iter=1)\n",
    "elif (universe[\"model\"] == \"rf\"):\n",
    "    model = RandomForestClassifier() # n_estimators=100, n_jobs=-1\n",
    "elif (universe[\"model\"] == \"gbm\"):\n",
    "    model = GradientBoostingClassifier()\n",
    "elif (universe[\"model\"] == \"elasticnet\"):\n",
    "    model = LogisticRegression(penalty = 'elasticnet', solver = 'saga', l1_ratio = 0.5) # max_iter=5000\n",
    "else:\n",
    "    raise \"Unsupported universe.model\""
   ]
  },
  {
   "cell_type": "code",
   "execution_count": 31,
   "id": "0cc8f744",
   "metadata": {
    "execution": {
     "iopub.execute_input": "2025-08-06T16:56:53.867065Z",
     "iopub.status.busy": "2025-08-06T16:56:53.866562Z",
     "iopub.status.idle": "2025-08-06T16:56:53.872669Z",
     "shell.execute_reply": "2025-08-06T16:56:53.871757Z"
    },
    "papermill": {
     "duration": 0.029096,
     "end_time": "2025-08-06T16:56:53.874253",
     "exception": false,
     "start_time": "2025-08-06T16:56:53.845157",
     "status": "completed"
    },
    "tags": []
   },
   "outputs": [],
   "source": [
    "from sklearn.pipeline import Pipeline\n",
    "from sklearn.preprocessing import StandardScaler\n",
    "\n",
    "model = Pipeline([\n",
    "    #(\"continuous_processor\", continuous_processor),\n",
    "    #(\"categorical_preprocessor\", categorical_preprocessor),\n",
    "    (\"scale\", StandardScaler() if universe[\"scale\"] == \"scale\" else None), \n",
    "    (\"model\", model),\n",
    "])"
   ]
  },
  {
   "cell_type": "code",
   "execution_count": 32,
   "id": "9442c04d",
   "metadata": {
    "execution": {
     "iopub.execute_input": "2025-08-06T16:56:53.921873Z",
     "iopub.status.busy": "2025-08-06T16:56:53.921442Z",
     "iopub.status.idle": "2025-08-06T16:56:54.627948Z",
     "shell.execute_reply": "2025-08-06T16:56:54.627004Z"
    },
    "papermill": {
     "duration": 0.720997,
     "end_time": "2025-08-06T16:56:54.629817",
     "exception": false,
     "start_time": "2025-08-06T16:56:53.908820",
     "status": "completed"
    },
    "tags": []
   },
   "outputs": [
    {
     "name": "stderr",
     "output_type": "stream",
     "text": [
      "/dss/dsshome1/0C/ra93lal2/.local/share/virtualenvs/CMA_Fairness_v2-3j10GkSs/lib/python3.10/site-packages/sklearn/linear_model/_logistic.py:444: ConvergenceWarning: lbfgs failed to converge (status=1):\n",
      "STOP: TOTAL NO. of ITERATIONS REACHED LIMIT.\n",
      "\n",
      "Increase the number of iterations (max_iter) or scale the data as shown in:\n",
      "    https://scikit-learn.org/stable/modules/preprocessing.html\n",
      "Please also refer to the documentation for alternative solver options:\n",
      "    https://scikit-learn.org/stable/modules/linear_model.html#logistic-regression\n",
      "  n_iter_i = _check_optimize_result(\n"
     ]
    },
    {
     "data": {
      "text/html": [
       "<style>#sk-container-id-1 {color: black;background-color: white;}#sk-container-id-1 pre{padding: 0;}#sk-container-id-1 div.sk-toggleable {background-color: white;}#sk-container-id-1 label.sk-toggleable__label {cursor: pointer;display: block;width: 100%;margin-bottom: 0;padding: 0.3em;box-sizing: border-box;text-align: center;}#sk-container-id-1 label.sk-toggleable__label-arrow:before {content: \"▸\";float: left;margin-right: 0.25em;color: #696969;}#sk-container-id-1 label.sk-toggleable__label-arrow:hover:before {color: black;}#sk-container-id-1 div.sk-estimator:hover label.sk-toggleable__label-arrow:before {color: black;}#sk-container-id-1 div.sk-toggleable__content {max-height: 0;max-width: 0;overflow: hidden;text-align: left;background-color: #f0f8ff;}#sk-container-id-1 div.sk-toggleable__content pre {margin: 0.2em;color: black;border-radius: 0.25em;background-color: #f0f8ff;}#sk-container-id-1 input.sk-toggleable__control:checked~div.sk-toggleable__content {max-height: 200px;max-width: 100%;overflow: auto;}#sk-container-id-1 input.sk-toggleable__control:checked~label.sk-toggleable__label-arrow:before {content: \"▾\";}#sk-container-id-1 div.sk-estimator input.sk-toggleable__control:checked~label.sk-toggleable__label {background-color: #d4ebff;}#sk-container-id-1 div.sk-label input.sk-toggleable__control:checked~label.sk-toggleable__label {background-color: #d4ebff;}#sk-container-id-1 input.sk-hidden--visually {border: 0;clip: rect(1px 1px 1px 1px);clip: rect(1px, 1px, 1px, 1px);height: 1px;margin: -1px;overflow: hidden;padding: 0;position: absolute;width: 1px;}#sk-container-id-1 div.sk-estimator {font-family: monospace;background-color: #f0f8ff;border: 1px dotted black;border-radius: 0.25em;box-sizing: border-box;margin-bottom: 0.5em;}#sk-container-id-1 div.sk-estimator:hover {background-color: #d4ebff;}#sk-container-id-1 div.sk-parallel-item::after {content: \"\";width: 100%;border-bottom: 1px solid gray;flex-grow: 1;}#sk-container-id-1 div.sk-label:hover label.sk-toggleable__label {background-color: #d4ebff;}#sk-container-id-1 div.sk-serial::before {content: \"\";position: absolute;border-left: 1px solid gray;box-sizing: border-box;top: 0;bottom: 0;left: 50%;z-index: 0;}#sk-container-id-1 div.sk-serial {display: flex;flex-direction: column;align-items: center;background-color: white;padding-right: 0.2em;padding-left: 0.2em;position: relative;}#sk-container-id-1 div.sk-item {position: relative;z-index: 1;}#sk-container-id-1 div.sk-parallel {display: flex;align-items: stretch;justify-content: center;background-color: white;position: relative;}#sk-container-id-1 div.sk-item::before, #sk-container-id-1 div.sk-parallel-item::before {content: \"\";position: absolute;border-left: 1px solid gray;box-sizing: border-box;top: 0;bottom: 0;left: 50%;z-index: -1;}#sk-container-id-1 div.sk-parallel-item {display: flex;flex-direction: column;z-index: 1;position: relative;background-color: white;}#sk-container-id-1 div.sk-parallel-item:first-child::after {align-self: flex-end;width: 50%;}#sk-container-id-1 div.sk-parallel-item:last-child::after {align-self: flex-start;width: 50%;}#sk-container-id-1 div.sk-parallel-item:only-child::after {width: 0;}#sk-container-id-1 div.sk-dashed-wrapped {border: 1px dashed gray;margin: 0 0.4em 0.5em 0.4em;box-sizing: border-box;padding-bottom: 0.4em;background-color: white;}#sk-container-id-1 div.sk-label label {font-family: monospace;font-weight: bold;display: inline-block;line-height: 1.2em;}#sk-container-id-1 div.sk-label-container {text-align: center;}#sk-container-id-1 div.sk-container {/* jupyter's `normalize.less` sets `[hidden] { display: none; }` but bootstrap.min.css set `[hidden] { display: none !important; }` so we also need the `!important` here to be able to override the default hidden behavior on the sphinx rendered scikit-learn.org. See: https://github.com/scikit-learn/scikit-learn/issues/21755 */display: inline-block !important;position: relative;}#sk-container-id-1 div.sk-text-repr-fallback {display: none;}</style><div id=\"sk-container-id-1\" class=\"sk-top-container\"><div class=\"sk-text-repr-fallback\"><pre>Pipeline(steps=[(&#x27;scale&#x27;, None), (&#x27;model&#x27;, LogisticRegression())])</pre><b>In a Jupyter environment, please rerun this cell to show the HTML representation or trust the notebook. <br />On GitHub, the HTML representation is unable to render, please try loading this page with nbviewer.org.</b></div><div class=\"sk-container\" hidden><div class=\"sk-item sk-dashed-wrapped\"><div class=\"sk-label-container\"><div class=\"sk-label sk-toggleable\"><input class=\"sk-toggleable__control sk-hidden--visually\" id=\"sk-estimator-id-1\" type=\"checkbox\" ><label for=\"sk-estimator-id-1\" class=\"sk-toggleable__label sk-toggleable__label-arrow\">Pipeline</label><div class=\"sk-toggleable__content\"><pre>Pipeline(steps=[(&#x27;scale&#x27;, None), (&#x27;model&#x27;, LogisticRegression())])</pre></div></div></div><div class=\"sk-serial\"><div class=\"sk-item\"><div class=\"sk-estimator sk-toggleable\"><input class=\"sk-toggleable__control sk-hidden--visually\" id=\"sk-estimator-id-2\" type=\"checkbox\" ><label for=\"sk-estimator-id-2\" class=\"sk-toggleable__label sk-toggleable__label-arrow\">None</label><div class=\"sk-toggleable__content\"><pre>None</pre></div></div></div><div class=\"sk-item\"><div class=\"sk-estimator sk-toggleable\"><input class=\"sk-toggleable__control sk-hidden--visually\" id=\"sk-estimator-id-3\" type=\"checkbox\" ><label for=\"sk-estimator-id-3\" class=\"sk-toggleable__label sk-toggleable__label-arrow\">LogisticRegression</label><div class=\"sk-toggleable__content\"><pre>LogisticRegression()</pre></div></div></div></div></div></div></div>"
      ],
      "text/plain": [
       "Pipeline(steps=[('scale', None), ('model', LogisticRegression())])"
      ]
     },
     "execution_count": 32,
     "metadata": {},
     "output_type": "execute_result"
    }
   ],
   "source": [
    "model.fit(X_train, y_train.values.ravel())"
   ]
  },
  {
   "cell_type": "code",
   "execution_count": 33,
   "id": "a7cf2e16",
   "metadata": {
    "execution": {
     "iopub.execute_input": "2025-08-06T16:56:54.672628Z",
     "iopub.status.busy": "2025-08-06T16:56:54.671661Z",
     "iopub.status.idle": "2025-08-06T16:56:54.768723Z",
     "shell.execute_reply": "2025-08-06T16:56:54.767863Z"
    },
    "papermill": {
     "duration": 0.119774,
     "end_time": "2025-08-06T16:56:54.770586",
     "exception": false,
     "start_time": "2025-08-06T16:56:54.650812",
     "status": "completed"
    },
    "tags": []
   },
   "outputs": [
    {
     "data": {
      "text/plain": [
       "0.8605841043361944"
      ]
     },
     "execution_count": 33,
     "metadata": {},
     "output_type": "execute_result"
    }
   ],
   "source": [
    "from fairness_multiverse.universe import predict_w_threshold\n",
    "\n",
    "probs_test = model.predict_proba(X_test)\n",
    "\n",
    "'''\n",
    "Below code returns a boolean array (or binary 0/1 array depending on how it’s used) where each element \n",
    "is True if the probability of class 1 is greater than or equal to the threshold, and False otherwise.\n",
    "'''\n",
    "y_pred_default = predict_w_threshold(probs_test, 0.5)\n",
    "\n",
    "from sklearn.metrics import accuracy_score\n",
    "\n",
    "# Naive prediction\n",
    "accuracy_score(y_true = y_true, y_pred = y_pred_default)"
   ]
  },
  {
   "cell_type": "code",
   "execution_count": 34,
   "id": "081964c3",
   "metadata": {
    "execution": {
     "iopub.execute_input": "2025-08-06T16:56:54.813350Z",
     "iopub.status.busy": "2025-08-06T16:56:54.812989Z",
     "iopub.status.idle": "2025-08-06T16:56:54.901139Z",
     "shell.execute_reply": "2025-08-06T16:56:54.900270Z"
    },
    "papermill": {
     "duration": 0.112364,
     "end_time": "2025-08-06T16:56:54.902690",
     "exception": false,
     "start_time": "2025-08-06T16:56:54.790326",
     "status": "completed"
    },
    "tags": []
   },
   "outputs": [
    {
     "data": {
      "text/plain": [
       "array([0, 0, 0, ..., 0, 0, 0])"
      ]
     },
     "execution_count": 34,
     "metadata": {},
     "output_type": "execute_result"
    }
   ],
   "source": [
    "model.predict(X_test)"
   ]
  },
  {
   "cell_type": "markdown",
   "id": "56c9705b",
   "metadata": {
    "papermill": {
     "duration": 0.018989,
     "end_time": "2025-08-06T16:56:54.944422",
     "exception": false,
     "start_time": "2025-08-06T16:56:54.925433",
     "status": "completed"
    },
    "tags": []
   },
   "source": [
    "# Conformal Prediction"
   ]
  },
  {
   "cell_type": "code",
   "execution_count": 35,
   "id": "160ec6ff",
   "metadata": {
    "execution": {
     "iopub.execute_input": "2025-08-06T16:56:54.984463Z",
     "iopub.status.busy": "2025-08-06T16:56:54.983572Z",
     "iopub.status.idle": "2025-08-06T16:56:54.989526Z",
     "shell.execute_reply": "2025-08-06T16:56:54.988179Z"
    },
    "papermill": {
     "duration": 0.027665,
     "end_time": "2025-08-06T16:56:54.991169",
     "exception": false,
     "start_time": "2025-08-06T16:56:54.963504",
     "status": "completed"
    },
    "tags": []
   },
   "outputs": [],
   "source": [
    "# Miscoverage level for conformal prediction (10% allowed error rate => 90% target coverage)\n",
    "alpha = 0.1"
   ]
  },
  {
   "cell_type": "code",
   "execution_count": 36,
   "id": "eadf4555-3dd3-440e-8e35-f82a4ad9f855",
   "metadata": {
    "execution": {
     "iopub.execute_input": "2025-08-06T16:56:55.032123Z",
     "iopub.status.busy": "2025-08-06T16:56:55.031122Z",
     "iopub.status.idle": "2025-08-06T16:56:55.115327Z",
     "shell.execute_reply": "2025-08-06T16:56:55.114368Z"
    },
    "papermill": {
     "duration": 0.106415,
     "end_time": "2025-08-06T16:56:55.117207",
     "exception": false,
     "start_time": "2025-08-06T16:56:55.010792",
     "status": "completed"
    },
    "tags": []
   },
   "outputs": [],
   "source": [
    "probs_calib = model.predict_proba(X_calib)"
   ]
  },
  {
   "cell_type": "code",
   "execution_count": 37,
   "id": "2ed93547-6d5d-4983-9b36-1ecb300da49a",
   "metadata": {
    "execution": {
     "iopub.execute_input": "2025-08-06T16:56:55.158928Z",
     "iopub.status.busy": "2025-08-06T16:56:55.158245Z",
     "iopub.status.idle": "2025-08-06T16:56:55.163736Z",
     "shell.execute_reply": "2025-08-06T16:56:55.162854Z"
    },
    "papermill": {
     "duration": 0.028089,
     "end_time": "2025-08-06T16:56:55.165344",
     "exception": false,
     "start_time": "2025-08-06T16:56:55.137255",
     "status": "completed"
    },
    "tags": []
   },
   "outputs": [],
   "source": [
    "y_calib = y_calib.values.ravel().astype(int)"
   ]
  },
  {
   "cell_type": "code",
   "execution_count": 38,
   "id": "65d1320d-f588-4b38-9072-62af1ae97f7d",
   "metadata": {
    "execution": {
     "iopub.execute_input": "2025-08-06T16:56:55.207103Z",
     "iopub.status.busy": "2025-08-06T16:56:55.206698Z",
     "iopub.status.idle": "2025-08-06T16:56:55.213901Z",
     "shell.execute_reply": "2025-08-06T16:56:55.213089Z"
    },
    "papermill": {
     "duration": 0.029888,
     "end_time": "2025-08-06T16:56:55.215468",
     "exception": false,
     "start_time": "2025-08-06T16:56:55.185580",
     "status": "completed"
    },
    "tags": []
   },
   "outputs": [],
   "source": [
    "from fairness_multiverse.conformal import compute_nc_scores\n",
    "\n",
    "# Compute nonconformity scores on calibration set (1 - probability of true class)\n",
    "nc_scores = compute_nc_scores(probs_calib, y_calib)"
   ]
  },
  {
   "cell_type": "code",
   "execution_count": 39,
   "id": "df3b8ca3-53b7-43d5-9667-7c85da7aeda2",
   "metadata": {
    "execution": {
     "iopub.execute_input": "2025-08-06T16:56:55.256878Z",
     "iopub.status.busy": "2025-08-06T16:56:55.255970Z",
     "iopub.status.idle": "2025-08-06T16:56:55.262959Z",
     "shell.execute_reply": "2025-08-06T16:56:55.261963Z"
    },
    "papermill": {
     "duration": 0.029518,
     "end_time": "2025-08-06T16:56:55.264598",
     "exception": false,
     "start_time": "2025-08-06T16:56:55.235080",
     "status": "completed"
    },
    "tags": []
   },
   "outputs": [],
   "source": [
    "from fairness_multiverse.conformal import find_threshold\n",
    "\n",
    "# Find conformal threshold q_hat for the given alpha (split conformal method)\n",
    "q_hat = find_threshold(nc_scores, alpha)"
   ]
  },
  {
   "cell_type": "code",
   "execution_count": 40,
   "id": "4d29e6c1-0ef6-4aa4-b8fe-4fe79b0d033a",
   "metadata": {
    "execution": {
     "iopub.execute_input": "2025-08-06T16:56:55.306628Z",
     "iopub.status.busy": "2025-08-06T16:56:55.305607Z",
     "iopub.status.idle": "2025-08-06T16:56:55.313661Z",
     "shell.execute_reply": "2025-08-06T16:56:55.312668Z"
    },
    "papermill": {
     "duration": 0.030668,
     "end_time": "2025-08-06T16:56:55.315252",
     "exception": false,
     "start_time": "2025-08-06T16:56:55.284584",
     "status": "completed"
    },
    "tags": []
   },
   "outputs": [
    {
     "data": {
      "text/plain": [
       "0.6779959096769574"
      ]
     },
     "execution_count": 40,
     "metadata": {},
     "output_type": "execute_result"
    }
   ],
   "source": [
    "q_hat"
   ]
  },
  {
   "cell_type": "code",
   "execution_count": 41,
   "id": "92460794-cdac-4be2-ba28-f28c0515a6fb",
   "metadata": {
    "execution": {
     "iopub.execute_input": "2025-08-06T16:56:55.356694Z",
     "iopub.status.busy": "2025-08-06T16:56:55.355874Z",
     "iopub.status.idle": "2025-08-06T16:56:56.150303Z",
     "shell.execute_reply": "2025-08-06T16:56:56.149283Z"
    },
    "papermill": {
     "duration": 0.816749,
     "end_time": "2025-08-06T16:56:56.152295",
     "exception": false,
     "start_time": "2025-08-06T16:56:55.335546",
     "status": "completed"
    },
    "tags": []
   },
   "outputs": [],
   "source": [
    "from fairness_multiverse.conformal import predict_conformal_sets\n",
    "\n",
    "# Generate prediction sets for each test example\n",
    "pred_sets = predict_conformal_sets(model, X_test, q_hat)"
   ]
  },
  {
   "cell_type": "code",
   "execution_count": 42,
   "id": "d90c9a65-e6db-4f5d-80cd-e68fb7e46829",
   "metadata": {
    "execution": {
     "iopub.execute_input": "2025-08-06T16:56:56.205707Z",
     "iopub.status.busy": "2025-08-06T16:56:56.205085Z",
     "iopub.status.idle": "2025-08-06T16:56:56.211878Z",
     "shell.execute_reply": "2025-08-06T16:56:56.210579Z"
    },
    "papermill": {
     "duration": 0.034621,
     "end_time": "2025-08-06T16:56:56.213752",
     "exception": false,
     "start_time": "2025-08-06T16:56:56.179131",
     "status": "completed"
    },
    "tags": []
   },
   "outputs": [],
   "source": [
    "y_true = y_true.squeeze()"
   ]
  },
  {
   "cell_type": "code",
   "execution_count": 43,
   "id": "3a58a54a-1e68-46b9-927a-df01f18aebc8",
   "metadata": {
    "execution": {
     "iopub.execute_input": "2025-08-06T16:56:56.265783Z",
     "iopub.status.busy": "2025-08-06T16:56:56.265078Z",
     "iopub.status.idle": "2025-08-06T16:56:57.214384Z",
     "shell.execute_reply": "2025-08-06T16:56:57.213440Z"
    },
    "papermill": {
     "duration": 0.977807,
     "end_time": "2025-08-06T16:56:57.216353",
     "exception": false,
     "start_time": "2025-08-06T16:56:56.238546",
     "status": "completed"
    },
    "tags": []
   },
   "outputs": [],
   "source": [
    "from fairness_multiverse.conformal import evaluate_sets\n",
    "\n",
    "# Evaluate coverage and average set size on test data\n",
    "metrics = evaluate_sets(pred_sets, y_true)"
   ]
  },
  {
   "cell_type": "markdown",
   "id": "2b569c12-9aaa-4c88-98c9-bbcd0cf3ebb8",
   "metadata": {
    "papermill": {
     "duration": 0.024759,
     "end_time": "2025-08-06T16:56:57.257547",
     "exception": false,
     "start_time": "2025-08-06T16:56:57.232788",
     "status": "completed"
    },
    "tags": []
   },
   "source": [
    "# CP Metrics"
   ]
  },
  {
   "cell_type": "code",
   "execution_count": 44,
   "id": "5ce0a5cb-201f-45a0-ade5-94c7f0bd6095",
   "metadata": {
    "execution": {
     "iopub.execute_input": "2025-08-06T16:56:57.308475Z",
     "iopub.status.busy": "2025-08-06T16:56:57.307661Z",
     "iopub.status.idle": "2025-08-06T16:56:57.315707Z",
     "shell.execute_reply": "2025-08-06T16:56:57.314574Z"
    },
    "papermill": {
     "duration": 0.035513,
     "end_time": "2025-08-06T16:56:57.317462",
     "exception": false,
     "start_time": "2025-08-06T16:56:57.281949",
     "status": "completed"
    },
    "tags": []
   },
   "outputs": [
    {
     "data": {
      "text/plain": [
       "{'coverage': 0.9110912941701037, 'avg_size': 1.1951844833351912}"
      ]
     },
     "execution_count": 44,
     "metadata": {},
     "output_type": "execute_result"
    }
   ],
   "source": [
    "metrics"
   ]
  },
  {
   "cell_type": "code",
   "execution_count": 45,
   "id": "9b9a838d-31c9-430b-ae14-12baee460d17",
   "metadata": {
    "execution": {
     "iopub.execute_input": "2025-08-06T16:56:57.368743Z",
     "iopub.status.busy": "2025-08-06T16:56:57.367759Z",
     "iopub.status.idle": "2025-08-06T16:56:57.374814Z",
     "shell.execute_reply": "2025-08-06T16:56:57.373835Z"
    },
    "papermill": {
     "duration": 0.034209,
     "end_time": "2025-08-06T16:56:57.376417",
     "exception": false,
     "start_time": "2025-08-06T16:56:57.342208",
     "status": "completed"
    },
    "tags": []
   },
   "outputs": [],
   "source": [
    "example_universe = universe.copy()\n",
    "universe_training_year = example_universe.get(\"training_year\")\n",
    "universe_training_size = example_universe.get(\"training_size\")\n",
    "universe_scale = example_universe.get(\"scale\")\n",
    "universe_model = example_universe.get(\"model\")\n",
    "universe_exclude_features = example_universe.get(\"exclude_features\")\n",
    "universe_exclude_subgroups = example_universe.get(\"exclude_subgroups\")"
   ]
  },
  {
   "cell_type": "code",
   "execution_count": 46,
   "id": "f4b6a8ac-9dc0-4245-8a91-5b3b5999c4f9",
   "metadata": {
    "execution": {
     "iopub.execute_input": "2025-08-06T16:56:57.428065Z",
     "iopub.status.busy": "2025-08-06T16:56:57.426922Z",
     "iopub.status.idle": "2025-08-06T16:56:57.435151Z",
     "shell.execute_reply": "2025-08-06T16:56:57.433874Z"
    },
    "papermill": {
     "duration": 0.035871,
     "end_time": "2025-08-06T16:56:57.437102",
     "exception": false,
     "start_time": "2025-08-06T16:56:57.401231",
     "status": "completed"
    },
    "tags": []
   },
   "outputs": [],
   "source": [
    "cp_metrics_dict = {\n",
    "    \"universe_id\": [universe_id],\n",
    "    \"universe_training_year\": [universe_training_year],\n",
    "    \"universe_training_size\": [universe_training_size],\n",
    "    \"universe_scale\": [universe_scale],\n",
    "    \"universe_model\": [universe_model],\n",
    "    \"universe_exclude_features\": [universe_exclude_features],\n",
    "    \"universe_exclude_subgroups\": [universe_exclude_subgroups],\n",
    "    \"q_hat\": [q_hat],\n",
    "    \"coverage\": [metrics[\"coverage\"]],\n",
    "    \"avg_size\": [metrics[\"avg_size\"]],\n",
    "}"
   ]
  },
  {
   "cell_type": "code",
   "execution_count": 47,
   "id": "33007efc-14e9-4ec6-97ac-56a455c82265",
   "metadata": {
    "execution": {
     "iopub.execute_input": "2025-08-06T16:56:57.488555Z",
     "iopub.status.busy": "2025-08-06T16:56:57.487532Z",
     "iopub.status.idle": "2025-08-06T16:56:57.496283Z",
     "shell.execute_reply": "2025-08-06T16:56:57.495299Z"
    },
    "papermill": {
     "duration": 0.03654,
     "end_time": "2025-08-06T16:56:57.498064",
     "exception": false,
     "start_time": "2025-08-06T16:56:57.461524",
     "status": "completed"
    },
    "tags": []
   },
   "outputs": [],
   "source": [
    "cp_metrics_df = pd.DataFrame(cp_metrics_dict)"
   ]
  },
  {
   "cell_type": "code",
   "execution_count": 48,
   "id": "db12611b-57b2-4910-b9d0-355adfd6e7bf",
   "metadata": {
    "execution": {
     "iopub.execute_input": "2025-08-06T16:56:57.535597Z",
     "iopub.status.busy": "2025-08-06T16:56:57.534884Z",
     "iopub.status.idle": "2025-08-06T16:56:57.548285Z",
     "shell.execute_reply": "2025-08-06T16:56:57.547169Z"
    },
    "papermill": {
     "duration": 0.027446,
     "end_time": "2025-08-06T16:56:57.550029",
     "exception": false,
     "start_time": "2025-08-06T16:56:57.522583",
     "status": "completed"
    },
    "tags": []
   },
   "outputs": [
    {
     "data": {
      "text/html": [
       "<div>\n",
       "<style scoped>\n",
       "    .dataframe tbody tr th:only-of-type {\n",
       "        vertical-align: middle;\n",
       "    }\n",
       "\n",
       "    .dataframe tbody tr th {\n",
       "        vertical-align: top;\n",
       "    }\n",
       "\n",
       "    .dataframe thead th {\n",
       "        text-align: right;\n",
       "    }\n",
       "</style>\n",
       "<table border=\"1\" class=\"dataframe\">\n",
       "  <thead>\n",
       "    <tr style=\"text-align: right;\">\n",
       "      <th></th>\n",
       "      <th>universe_id</th>\n",
       "      <th>universe_training_year</th>\n",
       "      <th>universe_training_size</th>\n",
       "      <th>universe_scale</th>\n",
       "      <th>universe_model</th>\n",
       "      <th>universe_exclude_features</th>\n",
       "      <th>universe_exclude_subgroups</th>\n",
       "      <th>q_hat</th>\n",
       "      <th>coverage</th>\n",
       "      <th>avg_size</th>\n",
       "    </tr>\n",
       "  </thead>\n",
       "  <tbody>\n",
       "    <tr>\n",
       "      <th>0</th>\n",
       "      <td>e27a9f3050c36db572ccf27907c2f740</td>\n",
       "      <td>2012_14</td>\n",
       "      <td>25k</td>\n",
       "      <td>do-not-scale</td>\n",
       "      <td>logreg</td>\n",
       "      <td>nationality</td>\n",
       "      <td>keep-all</td>\n",
       "      <td>0.677996</td>\n",
       "      <td>0.911091</td>\n",
       "      <td>1.195184</td>\n",
       "    </tr>\n",
       "  </tbody>\n",
       "</table>\n",
       "</div>"
      ],
      "text/plain": [
       "                        universe_id universe_training_year  \\\n",
       "0  e27a9f3050c36db572ccf27907c2f740                2012_14   \n",
       "\n",
       "  universe_training_size universe_scale universe_model  \\\n",
       "0                    25k   do-not-scale         logreg   \n",
       "\n",
       "  universe_exclude_features universe_exclude_subgroups     q_hat  coverage  \\\n",
       "0               nationality                   keep-all  0.677996  0.911091   \n",
       "\n",
       "   avg_size  \n",
       "0  1.195184  "
      ]
     },
     "execution_count": 48,
     "metadata": {},
     "output_type": "execute_result"
    }
   ],
   "source": [
    "cp_metrics_df"
   ]
  },
  {
   "cell_type": "markdown",
   "id": "c825ecb4-0d3d-41d6-b7c6-eccb21272259",
   "metadata": {
    "papermill": {
     "duration": 0.013865,
     "end_time": "2025-08-06T16:56:57.583591",
     "exception": false,
     "start_time": "2025-08-06T16:56:57.569726",
     "status": "completed"
    },
    "tags": []
   },
   "source": [
    "Conditional coverage & looking at subgroups"
   ]
  },
  {
   "cell_type": "code",
   "execution_count": 49,
   "id": "027ae886-68dd-4141-96c7-805a5450e1ef",
   "metadata": {
    "execution": {
     "iopub.execute_input": "2025-08-06T16:56:57.610826Z",
     "iopub.status.busy": "2025-08-06T16:56:57.610299Z",
     "iopub.status.idle": "2025-08-06T16:56:57.826094Z",
     "shell.execute_reply": "2025-08-06T16:56:57.825310Z"
    },
    "papermill": {
     "duration": 0.231742,
     "end_time": "2025-08-06T16:56:57.827557",
     "exception": false,
     "start_time": "2025-08-06T16:56:57.595815",
     "status": "completed"
    },
    "tags": []
   },
   "outputs": [],
   "source": [
    "from fairness_multiverse.conformal import build_cp_groups\n",
    "\n",
    "cp_groups_df = build_cp_groups(pred_sets, y_true, X_test.index, org_test)"
   ]
  },
  {
   "cell_type": "code",
   "execution_count": 50,
   "id": "6cbdab96-b2b2-45af-ad54-d0516db2e28d",
   "metadata": {
    "execution": {
     "iopub.execute_input": "2025-08-06T16:56:57.872213Z",
     "iopub.status.busy": "2025-08-06T16:56:57.871760Z",
     "iopub.status.idle": "2025-08-06T16:56:59.386207Z",
     "shell.execute_reply": "2025-08-06T16:56:59.385067Z"
    },
    "papermill": {
     "duration": 1.539947,
     "end_time": "2025-08-06T16:56:59.388477",
     "exception": false,
     "start_time": "2025-08-06T16:56:57.848530",
     "status": "completed"
    },
    "tags": []
   },
   "outputs": [],
   "source": [
    "# Define covered = 1 if true_label is in the predicted set\n",
    "cp_groups_df['covered'] = cp_groups_df.apply(\n",
    "    lambda r: int(r['true_label'] in r['pred_set']),\n",
    "    axis=1\n",
    ")"
   ]
  },
  {
   "cell_type": "code",
   "execution_count": 51,
   "id": "90032e27-66df-4540-9169-4e89cfbaa758",
   "metadata": {
    "execution": {
     "iopub.execute_input": "2025-08-06T16:56:59.441851Z",
     "iopub.status.busy": "2025-08-06T16:56:59.441323Z",
     "iopub.status.idle": "2025-08-06T16:56:59.453495Z",
     "shell.execute_reply": "2025-08-06T16:56:59.452558Z"
    },
    "papermill": {
     "duration": 0.041157,
     "end_time": "2025-08-06T16:56:59.455354",
     "exception": false,
     "start_time": "2025-08-06T16:56:59.414197",
     "status": "completed"
    },
    "tags": []
   },
   "outputs": [],
   "source": [
    "subgroups = ['frau1','nongerman','nongerman_male','nongerman_female']\n",
    "\n",
    "# Conditional coverage for subgroup==1\n",
    "cond_coverage = {\n",
    "    g: cp_groups_df.loc[cp_groups_df[g]==1, 'covered'].mean()\n",
    "    for g in subgroups\n",
    "}"
   ]
  },
  {
   "cell_type": "code",
   "execution_count": 52,
   "id": "1e348fb1-b9c3-45bc-ba23-f016827a7e0d",
   "metadata": {
    "execution": {
     "iopub.execute_input": "2025-08-06T16:56:59.511793Z",
     "iopub.status.busy": "2025-08-06T16:56:59.511391Z",
     "iopub.status.idle": "2025-08-06T16:56:59.519765Z",
     "shell.execute_reply": "2025-08-06T16:56:59.518733Z"
    },
    "papermill": {
     "duration": 0.038255,
     "end_time": "2025-08-06T16:56:59.521795",
     "exception": false,
     "start_time": "2025-08-06T16:56:59.483540",
     "status": "completed"
    },
    "tags": []
   },
   "outputs": [
    {
     "data": {
      "text/plain": [
       "{'frau1': 0.9101765736622186,\n",
       " 'nongerman': 0.9269634536574411,\n",
       " 'nongerman_male': 0.9409168693145996,\n",
       " 'nongerman_female': 0.9038748137108793}"
      ]
     },
     "execution_count": 52,
     "metadata": {},
     "output_type": "execute_result"
    }
   ],
   "source": [
    "cond_coverage"
   ]
  },
  {
   "cell_type": "code",
   "execution_count": 53,
   "id": "f5093324-c3dd-4d63-bc4c-8d945e5c8bbb",
   "metadata": {
    "execution": {
     "iopub.execute_input": "2025-08-06T16:56:59.577438Z",
     "iopub.status.busy": "2025-08-06T16:56:59.576919Z",
     "iopub.status.idle": "2025-08-06T16:56:59.584930Z",
     "shell.execute_reply": "2025-08-06T16:56:59.583867Z"
    },
    "papermill": {
     "duration": 0.038083,
     "end_time": "2025-08-06T16:56:59.586968",
     "exception": false,
     "start_time": "2025-08-06T16:56:59.548885",
     "status": "completed"
    },
    "tags": []
   },
   "outputs": [],
   "source": [
    "for subgroup, cov in cond_coverage.items():\n",
    "    cp_metrics_df[f\"cov_{subgroup}\"] = cov"
   ]
  },
  {
   "cell_type": "code",
   "execution_count": 54,
   "id": "6e872e10-dbe5-49e8-b554-5030c98ff75d",
   "metadata": {
    "execution": {
     "iopub.execute_input": "2025-08-06T16:56:59.635000Z",
     "iopub.status.busy": "2025-08-06T16:56:59.633844Z",
     "iopub.status.idle": "2025-08-06T16:56:59.792208Z",
     "shell.execute_reply": "2025-08-06T16:56:59.791151Z"
    },
    "papermill": {
     "duration": 0.183885,
     "end_time": "2025-08-06T16:56:59.794058",
     "exception": false,
     "start_time": "2025-08-06T16:56:59.610173",
     "status": "completed"
    },
    "tags": []
   },
   "outputs": [
    {
     "data": {
      "text/html": [
       "<div>\n",
       "<style scoped>\n",
       "    .dataframe tbody tr th:only-of-type {\n",
       "        vertical-align: middle;\n",
       "    }\n",
       "\n",
       "    .dataframe tbody tr th {\n",
       "        vertical-align: top;\n",
       "    }\n",
       "\n",
       "    .dataframe thead th {\n",
       "        text-align: right;\n",
       "    }\n",
       "</style>\n",
       "<table border=\"1\" class=\"dataframe\">\n",
       "  <thead>\n",
       "    <tr style=\"text-align: right;\">\n",
       "      <th></th>\n",
       "      <th>universe_id</th>\n",
       "      <th>universe_training_year</th>\n",
       "      <th>universe_training_size</th>\n",
       "      <th>universe_scale</th>\n",
       "      <th>universe_model</th>\n",
       "      <th>universe_exclude_features</th>\n",
       "      <th>universe_exclude_subgroups</th>\n",
       "      <th>q_hat</th>\n",
       "      <th>coverage</th>\n",
       "      <th>avg_size</th>\n",
       "      <th>cov_frau1</th>\n",
       "      <th>cov_nongerman</th>\n",
       "      <th>cov_nongerman_male</th>\n",
       "      <th>cov_nongerman_female</th>\n",
       "    </tr>\n",
       "  </thead>\n",
       "  <tbody>\n",
       "    <tr>\n",
       "      <th>0</th>\n",
       "      <td>e27a9f3050c36db572ccf27907c2f740</td>\n",
       "      <td>2012_14</td>\n",
       "      <td>25k</td>\n",
       "      <td>do-not-scale</td>\n",
       "      <td>logreg</td>\n",
       "      <td>nationality</td>\n",
       "      <td>keep-all</td>\n",
       "      <td>0.677996</td>\n",
       "      <td>0.911091</td>\n",
       "      <td>1.195184</td>\n",
       "      <td>0.910177</td>\n",
       "      <td>0.926963</td>\n",
       "      <td>0.940917</td>\n",
       "      <td>0.903875</td>\n",
       "    </tr>\n",
       "  </tbody>\n",
       "</table>\n",
       "</div>"
      ],
      "text/plain": [
       "                        universe_id universe_training_year  \\\n",
       "0  e27a9f3050c36db572ccf27907c2f740                2012_14   \n",
       "\n",
       "  universe_training_size universe_scale universe_model  \\\n",
       "0                    25k   do-not-scale         logreg   \n",
       "\n",
       "  universe_exclude_features universe_exclude_subgroups     q_hat  coverage  \\\n",
       "0               nationality                   keep-all  0.677996  0.911091   \n",
       "\n",
       "   avg_size  cov_frau1  cov_nongerman  cov_nongerman_male  \\\n",
       "0  1.195184   0.910177       0.926963            0.940917   \n",
       "\n",
       "   cov_nongerman_female  \n",
       "0              0.903875  "
      ]
     },
     "execution_count": 54,
     "metadata": {},
     "output_type": "execute_result"
    }
   ],
   "source": [
    "cp_metrics_df"
   ]
  },
  {
   "cell_type": "markdown",
   "id": "33774451",
   "metadata": {
    "papermill": {
     "duration": 0.026454,
     "end_time": "2025-08-06T16:56:59.847784",
     "exception": false,
     "start_time": "2025-08-06T16:56:59.821330",
     "status": "completed"
    },
    "tags": []
   },
   "source": [
    "# (Fairness) Metrics"
   ]
  },
  {
   "cell_type": "code",
   "execution_count": 55,
   "id": "debc5d62",
   "metadata": {
    "execution": {
     "iopub.execute_input": "2025-08-06T16:56:59.897719Z",
     "iopub.status.busy": "2025-08-06T16:56:59.897313Z",
     "iopub.status.idle": "2025-08-06T16:56:59.921245Z",
     "shell.execute_reply": "2025-08-06T16:56:59.920201Z"
    },
    "papermill": {
     "duration": 0.050462,
     "end_time": "2025-08-06T16:56:59.923172",
     "exception": false,
     "start_time": "2025-08-06T16:56:59.872710",
     "status": "completed"
    },
    "tags": []
   },
   "outputs": [],
   "source": [
    "colname_to_bin = \"maxdeutsch1\"\n",
    "majority_value = org_train[colname_to_bin].mode()[0]\n",
    "\n",
    "org_test[\"majmin\"] = np.where(org_test[colname_to_bin] == majority_value, \"majority\", \"minority\")"
   ]
  },
  {
   "cell_type": "code",
   "execution_count": 56,
   "id": "06a50de5",
   "metadata": {
    "execution": {
     "iopub.execute_input": "2025-08-06T16:56:59.973232Z",
     "iopub.status.busy": "2025-08-06T16:56:59.972595Z",
     "iopub.status.idle": "2025-08-06T16:57:02.907841Z",
     "shell.execute_reply": "2025-08-06T16:57:02.907095Z"
    },
    "papermill": {
     "duration": 2.962203,
     "end_time": "2025-08-06T16:57:02.909682",
     "exception": false,
     "start_time": "2025-08-06T16:56:59.947479",
     "status": "completed"
    },
    "tags": []
   },
   "outputs": [],
   "source": [
    "example_universe = universe.copy()\n",
    "example_universe[\"cutoff\"] = example_universe[\"cutoff\"][0]\n",
    "example_universe[\"eval_fairness_grouping\"] = example_universe[\"eval_fairness_grouping\"][0]\n",
    "fairness_dict, metric_frame = universe_analysis.compute_metrics(\n",
    "    example_universe,\n",
    "    y_pred_prob=probs_test,\n",
    "    y_test=y_true,\n",
    "    org_test=org_test,\n",
    ")"
   ]
  },
  {
   "cell_type": "markdown",
   "id": "f95d4e02",
   "metadata": {
    "papermill": {
     "duration": 0.012973,
     "end_time": "2025-08-06T16:57:02.938038",
     "exception": false,
     "start_time": "2025-08-06T16:57:02.925065",
     "status": "completed"
    },
    "tags": []
   },
   "source": [
    "# Overall"
   ]
  },
  {
   "cell_type": "markdown",
   "id": "bdee4871",
   "metadata": {
    "papermill": {
     "duration": 0.011745,
     "end_time": "2025-08-06T16:57:02.961660",
     "exception": false,
     "start_time": "2025-08-06T16:57:02.949915",
     "status": "completed"
    },
    "tags": []
   },
   "source": [
    "Main fairness target: Equalized Odds. Seems to be a better fit than equal opportunity, since we're not only interested in Y = 1. Seems to be a better fit than demographic parity, since we also care about accuracy, not just equal distribution of preds.\n",
    "\n",
    "Pick column for computation of fairness metrics\n",
    "\n",
    "Performance\n",
    "Overall performance measures, most interesting in relation to the measures split by group below"
   ]
  },
  {
   "cell_type": "code",
   "execution_count": 57,
   "id": "c4e067c6",
   "metadata": {
    "execution": {
     "iopub.execute_input": "2025-08-06T16:57:02.987281Z",
     "iopub.status.busy": "2025-08-06T16:57:02.986532Z",
     "iopub.status.idle": "2025-08-06T16:57:02.993347Z",
     "shell.execute_reply": "2025-08-06T16:57:02.992614Z"
    },
    "papermill": {
     "duration": 0.021363,
     "end_time": "2025-08-06T16:57:02.994621",
     "exception": false,
     "start_time": "2025-08-06T16:57:02.973258",
     "status": "completed"
    },
    "tags": []
   },
   "outputs": [
    {
     "data": {
      "text/plain": [
       "accuracy                   0.218248\n",
       "balanced accuracy          0.534929\n",
       "f1                         0.239748\n",
       "precision                  0.136960\n",
       "false positive rate        0.891039\n",
       "false negative rate        0.039103\n",
       "selection rate             0.900000\n",
       "count                  89710.000000\n",
       "dtype: float64"
      ]
     },
     "execution_count": 57,
     "metadata": {},
     "output_type": "execute_result"
    }
   ],
   "source": [
    "metric_frame.overall"
   ]
  },
  {
   "cell_type": "markdown",
   "id": "e968fe9d",
   "metadata": {
    "papermill": {
     "duration": 0.023672,
     "end_time": "2025-08-06T16:57:03.035207",
     "exception": false,
     "start_time": "2025-08-06T16:57:03.011535",
     "status": "completed"
    },
    "tags": []
   },
   "source": [
    "By Group"
   ]
  },
  {
   "cell_type": "code",
   "execution_count": 58,
   "id": "ec325bce",
   "metadata": {
    "execution": {
     "iopub.execute_input": "2025-08-06T16:57:03.085814Z",
     "iopub.status.busy": "2025-08-06T16:57:03.085072Z",
     "iopub.status.idle": "2025-08-06T16:57:03.100664Z",
     "shell.execute_reply": "2025-08-06T16:57:03.099731Z"
    },
    "papermill": {
     "duration": 0.043543,
     "end_time": "2025-08-06T16:57:03.102401",
     "exception": false,
     "start_time": "2025-08-06T16:57:03.058858",
     "status": "completed"
    },
    "tags": []
   },
   "outputs": [
    {
     "data": {
      "text/html": [
       "<div>\n",
       "<style scoped>\n",
       "    .dataframe tbody tr th:only-of-type {\n",
       "        vertical-align: middle;\n",
       "    }\n",
       "\n",
       "    .dataframe tbody tr th {\n",
       "        vertical-align: top;\n",
       "    }\n",
       "\n",
       "    .dataframe thead th {\n",
       "        text-align: right;\n",
       "    }\n",
       "</style>\n",
       "<table border=\"1\" class=\"dataframe\">\n",
       "  <thead>\n",
       "    <tr style=\"text-align: right;\">\n",
       "      <th></th>\n",
       "      <th>accuracy</th>\n",
       "      <th>balanced accuracy</th>\n",
       "      <th>f1</th>\n",
       "      <th>precision</th>\n",
       "      <th>false positive rate</th>\n",
       "      <th>false negative rate</th>\n",
       "      <th>selection rate</th>\n",
       "      <th>count</th>\n",
       "    </tr>\n",
       "    <tr>\n",
       "      <th>majmin</th>\n",
       "      <th></th>\n",
       "      <th></th>\n",
       "      <th></th>\n",
       "      <th></th>\n",
       "      <th></th>\n",
       "      <th></th>\n",
       "      <th></th>\n",
       "      <th></th>\n",
       "    </tr>\n",
       "  </thead>\n",
       "  <tbody>\n",
       "    <tr>\n",
       "      <th>majority</th>\n",
       "      <td>0.241015</td>\n",
       "      <td>0.543157</td>\n",
       "      <td>0.249317</td>\n",
       "      <td>0.143400</td>\n",
       "      <td>0.867516</td>\n",
       "      <td>0.046171</td>\n",
       "      <td>0.878921</td>\n",
       "      <td>69170.0</td>\n",
       "    </tr>\n",
       "    <tr>\n",
       "      <th>minority</th>\n",
       "      <td>0.141577</td>\n",
       "      <td>0.509716</td>\n",
       "      <td>0.209753</td>\n",
       "      <td>0.117329</td>\n",
       "      <td>0.968743</td>\n",
       "      <td>0.011824</td>\n",
       "      <td>0.970983</td>\n",
       "      <td>20540.0</td>\n",
       "    </tr>\n",
       "  </tbody>\n",
       "</table>\n",
       "</div>"
      ],
      "text/plain": [
       "          accuracy  balanced accuracy        f1  precision  \\\n",
       "majmin                                                       \n",
       "majority  0.241015           0.543157  0.249317   0.143400   \n",
       "minority  0.141577           0.509716  0.209753   0.117329   \n",
       "\n",
       "          false positive rate  false negative rate  selection rate    count  \n",
       "majmin                                                                       \n",
       "majority             0.867516             0.046171        0.878921  69170.0  \n",
       "minority             0.968743             0.011824        0.970983  20540.0  "
      ]
     },
     "execution_count": 58,
     "metadata": {},
     "output_type": "execute_result"
    }
   ],
   "source": [
    "metric_frame.by_group"
   ]
  },
  {
   "cell_type": "code",
   "execution_count": 59,
   "id": "a9ddbe63",
   "metadata": {
    "execution": {
     "iopub.execute_input": "2025-08-06T16:57:03.153726Z",
     "iopub.status.busy": "2025-08-06T16:57:03.153199Z",
     "iopub.status.idle": "2025-08-06T16:57:05.686816Z",
     "shell.execute_reply": "2025-08-06T16:57:05.685749Z"
    },
    "papermill": {
     "duration": 2.562389,
     "end_time": "2025-08-06T16:57:05.688545",
     "exception": false,
     "start_time": "2025-08-06T16:57:03.126156",
     "status": "completed"
    },
    "tags": []
   },
   "outputs": [
    {
     "data": {
      "text/plain": [
       "array([[<Axes: title={'center': 'accuracy'}, xlabel='majmin'>,\n",
       "        <Axes: title={'center': 'balanced accuracy'}, xlabel='majmin'>,\n",
       "        <Axes: title={'center': 'f1'}, xlabel='majmin'>],\n",
       "       [<Axes: title={'center': 'precision'}, xlabel='majmin'>,\n",
       "        <Axes: title={'center': 'false positive rate'}, xlabel='majmin'>,\n",
       "        <Axes: title={'center': 'false negative rate'}, xlabel='majmin'>],\n",
       "       [<Axes: title={'center': 'selection rate'}, xlabel='majmin'>,\n",
       "        <Axes: title={'center': 'count'}, xlabel='majmin'>,\n",
       "        <Axes: xlabel='majmin'>]], dtype=object)"
      ]
     },
     "execution_count": 59,
     "metadata": {},
     "output_type": "execute_result"
    },
    {
     "data": {
      "image/png": "[encoded data removed]",
      "text/plain": [
       "<Figure size 1200x800 with 9 Axes>"
      ]
     },
     "metadata": {},
     "output_type": "display_data"
    }
   ],
   "source": [
    "# In a graphic\n",
    "metric_frame.by_group.plot.bar(\n",
    "    subplots=True,\n",
    "    layout=[3, 3],\n",
    "    legend=False,\n",
    "    figsize=[12, 8],\n",
    "    title=\"Show all metrics\",\n",
    ")"
   ]
  },
  {
   "cell_type": "markdown",
   "id": "f57a0bac",
   "metadata": {
    "papermill": {
     "duration": 0.025409,
     "end_time": "2025-08-06T16:57:05.739924",
     "exception": false,
     "start_time": "2025-08-06T16:57:05.714515",
     "status": "completed"
    },
    "tags": []
   },
   "source": [
    "# Final Output"
   ]
  },
  {
   "cell_type": "code",
   "execution_count": 60,
   "id": "96d280a3",
   "metadata": {
    "execution": {
     "iopub.execute_input": "2025-08-06T16:57:05.788872Z",
     "iopub.status.busy": "2025-08-06T16:57:05.787907Z",
     "iopub.status.idle": "2025-08-06T16:57:05.796713Z",
     "shell.execute_reply": "2025-08-06T16:57:05.795756Z"
    },
    "papermill": {
     "duration": 0.035019,
     "end_time": "2025-08-06T16:57:05.798182",
     "exception": false,
     "start_time": "2025-08-06T16:57:05.763163",
     "status": "completed"
    },
    "tags": []
   },
   "outputs": [
    {
     "data": {
      "text/plain": [
       "4"
      ]
     },
     "execution_count": 60,
     "metadata": {},
     "output_type": "execute_result"
    }
   ],
   "source": [
    "sub_universes = universe_analysis.generate_sub_universes()\n",
    "len(sub_universes)"
   ]
  },
  {
   "cell_type": "code",
   "execution_count": 61,
   "id": "92adf7ba",
   "metadata": {
    "execution": {
     "iopub.execute_input": "2025-08-06T16:57:05.848269Z",
     "iopub.status.busy": "2025-08-06T16:57:05.847522Z",
     "iopub.status.idle": "2025-08-06T16:57:05.853953Z",
     "shell.execute_reply": "2025-08-06T16:57:05.852998Z"
    },
    "papermill": {
     "duration": 0.032641,
     "end_time": "2025-08-06T16:57:05.855545",
     "exception": false,
     "start_time": "2025-08-06T16:57:05.822904",
     "status": "completed"
    },
    "tags": []
   },
   "outputs": [],
   "source": [
    "def filter_sub_universe_data(sub_universe, org_test):\n",
    "    # Keep all rows — no filtering\n",
    "    keep_rows_mask = np.ones(org_test.shape[0], dtype=bool)\n",
    "\n",
    "    print(f\"[INFO] Keeping all rows: {keep_rows_mask.sum()} rows retained.\")\n",
    "    return keep_rows_mask"
   ]
  },
  {
   "cell_type": "code",
   "execution_count": 62,
   "id": "4a759155",
   "metadata": {
    "execution": {
     "iopub.execute_input": "2025-08-06T16:57:05.903766Z",
     "iopub.status.busy": "2025-08-06T16:57:05.903439Z",
     "iopub.status.idle": "2025-08-06T16:57:13.835017Z",
     "shell.execute_reply": "2025-08-06T16:57:13.833896Z"
    },
    "papermill": {
     "duration": 7.958037,
     "end_time": "2025-08-06T16:57:13.836944",
     "exception": false,
     "start_time": "2025-08-06T16:57:05.878907",
     "status": "completed"
    },
    "tags": []
   },
   "outputs": [
    {
     "name": "stdout",
     "output_type": "stream",
     "text": [
      "Stopping execution_time clock.\n",
      "[INFO] Keeping all rows: 89710 rows retained.\n"
     ]
    },
    {
     "name": "stdout",
     "output_type": "stream",
     "text": [
      "[INFO] Keeping all rows: 89710 rows retained.\n"
     ]
    },
    {
     "name": "stdout",
     "output_type": "stream",
     "text": [
      "[INFO] Keeping all rows: 89710 rows retained.\n"
     ]
    },
    {
     "name": "stdout",
     "output_type": "stream",
     "text": [
      "[INFO] Keeping all rows: 89710 rows retained.\n"
     ]
    },
    {
     "data": {
      "text/html": [
       "<div>\n",
       "<style scoped>\n",
       "    .dataframe tbody tr th:only-of-type {\n",
       "        vertical-align: middle;\n",
       "    }\n",
       "\n",
       "    .dataframe tbody tr th {\n",
       "        vertical-align: top;\n",
       "    }\n",
       "\n",
       "    .dataframe thead th {\n",
       "        text-align: right;\n",
       "    }\n",
       "</style>\n",
       "<table border=\"1\" class=\"dataframe\">\n",
       "  <thead>\n",
       "    <tr style=\"text-align: right;\">\n",
       "      <th></th>\n",
       "      <th>run_no</th>\n",
       "      <th>universe_id</th>\n",
       "      <th>universe_settings</th>\n",
       "      <th>execution_time</th>\n",
       "      <th>test_size_n</th>\n",
       "      <th>test_size_frac</th>\n",
       "      <th>fair_main_equalized_odds_difference</th>\n",
       "      <th>fair_main_equalized_odds_ratio</th>\n",
       "      <th>fair_main_demographic_parity_difference</th>\n",
       "      <th>fair_main_demographic_parity_ratio</th>\n",
       "      <th>...</th>\n",
       "      <th>perf_grp_precision_0</th>\n",
       "      <th>perf_grp_precision_1</th>\n",
       "      <th>perf_grp_false positive rate_0</th>\n",
       "      <th>perf_grp_false positive rate_1</th>\n",
       "      <th>perf_grp_false negative rate_0</th>\n",
       "      <th>perf_grp_false negative rate_1</th>\n",
       "      <th>perf_grp_selection rate_0</th>\n",
       "      <th>perf_grp_selection rate_1</th>\n",
       "      <th>perf_grp_count_0</th>\n",
       "      <th>perf_grp_count_1</th>\n",
       "    </tr>\n",
       "  </thead>\n",
       "  <tbody>\n",
       "    <tr>\n",
       "      <th>0</th>\n",
       "      <td>1</td>\n",
       "      <td>e27a9f3050c36db572ccf27907c2f740</td>\n",
       "      <td>{\"cutoff\": \"quantile_0.1\", \"eval_fairness_grou...</td>\n",
       "      <td>27.430358</td>\n",
       "      <td>89710</td>\n",
       "      <td>1.0</td>\n",
       "      <td>0.101227</td>\n",
       "      <td>0.895507</td>\n",
       "      <td>0.092062</td>\n",
       "      <td>0.905187</td>\n",
       "      <td>...</td>\n",
       "      <td>NaN</td>\n",
       "      <td>NaN</td>\n",
       "      <td>NaN</td>\n",
       "      <td>NaN</td>\n",
       "      <td>NaN</td>\n",
       "      <td>NaN</td>\n",
       "      <td>NaN</td>\n",
       "      <td>NaN</td>\n",
       "      <td>NaN</td>\n",
       "      <td>NaN</td>\n",
       "    </tr>\n",
       "    <tr>\n",
       "      <th>0</th>\n",
       "      <td>1</td>\n",
       "      <td>e27a9f3050c36db572ccf27907c2f740</td>\n",
       "      <td>{\"cutoff\": \"quantile_0.1\", \"eval_fairness_grou...</td>\n",
       "      <td>27.430358</td>\n",
       "      <td>89710</td>\n",
       "      <td>1.0</td>\n",
       "      <td>0.101227</td>\n",
       "      <td>0.895507</td>\n",
       "      <td>0.092062</td>\n",
       "      <td>0.905187</td>\n",
       "      <td>...</td>\n",
       "      <td>0.117329</td>\n",
       "      <td>0.143400</td>\n",
       "      <td>0.968743</td>\n",
       "      <td>0.867516</td>\n",
       "      <td>0.011824</td>\n",
       "      <td>0.046171</td>\n",
       "      <td>0.970983</td>\n",
       "      <td>0.878921</td>\n",
       "      <td>20540.0</td>\n",
       "      <td>69170.0</td>\n",
       "    </tr>\n",
       "    <tr>\n",
       "      <th>0</th>\n",
       "      <td>1</td>\n",
       "      <td>e27a9f3050c36db572ccf27907c2f740</td>\n",
       "      <td>{\"cutoff\": \"quantile_0.25\", \"eval_fairness_gro...</td>\n",
       "      <td>27.430358</td>\n",
       "      <td>89710</td>\n",
       "      <td>1.0</td>\n",
       "      <td>0.223403</td>\n",
       "      <td>0.752187</td>\n",
       "      <td>0.204400</td>\n",
       "      <td>0.774789</td>\n",
       "      <td>...</td>\n",
       "      <td>NaN</td>\n",
       "      <td>NaN</td>\n",
       "      <td>NaN</td>\n",
       "      <td>NaN</td>\n",
       "      <td>NaN</td>\n",
       "      <td>NaN</td>\n",
       "      <td>NaN</td>\n",
       "      <td>NaN</td>\n",
       "      <td>NaN</td>\n",
       "      <td>NaN</td>\n",
       "    </tr>\n",
       "    <tr>\n",
       "      <th>0</th>\n",
       "      <td>1</td>\n",
       "      <td>e27a9f3050c36db572ccf27907c2f740</td>\n",
       "      <td>{\"cutoff\": \"quantile_0.25\", \"eval_fairness_gro...</td>\n",
       "      <td>27.430358</td>\n",
       "      <td>89710</td>\n",
       "      <td>1.0</td>\n",
       "      <td>0.223403</td>\n",
       "      <td>0.752187</td>\n",
       "      <td>0.204400</td>\n",
       "      <td>0.774789</td>\n",
       "      <td>...</td>\n",
       "      <td>0.121232</td>\n",
       "      <td>0.163117</td>\n",
       "      <td>0.901497</td>\n",
       "      <td>0.678094</td>\n",
       "      <td>0.045608</td>\n",
       "      <td>0.131947</td>\n",
       "      <td>0.907595</td>\n",
       "      <td>0.703195</td>\n",
       "      <td>20540.0</td>\n",
       "      <td>69170.0</td>\n",
       "    </tr>\n",
       "  </tbody>\n",
       "</table>\n",
       "<p>4 rows × 50 columns</p>\n",
       "</div>"
      ],
      "text/plain": [
       "  run_no                       universe_id  \\\n",
       "0      1  e27a9f3050c36db572ccf27907c2f740   \n",
       "0      1  e27a9f3050c36db572ccf27907c2f740   \n",
       "0      1  e27a9f3050c36db572ccf27907c2f740   \n",
       "0      1  e27a9f3050c36db572ccf27907c2f740   \n",
       "\n",
       "                                   universe_settings  execution_time  \\\n",
       "0  {\"cutoff\": \"quantile_0.1\", \"eval_fairness_grou...       27.430358   \n",
       "0  {\"cutoff\": \"quantile_0.1\", \"eval_fairness_grou...       27.430358   \n",
       "0  {\"cutoff\": \"quantile_0.25\", \"eval_fairness_gro...       27.430358   \n",
       "0  {\"cutoff\": \"quantile_0.25\", \"eval_fairness_gro...       27.430358   \n",
       "\n",
       "   test_size_n  test_size_frac  fair_main_equalized_odds_difference  \\\n",
       "0        89710             1.0                             0.101227   \n",
       "0        89710             1.0                             0.101227   \n",
       "0        89710             1.0                             0.223403   \n",
       "0        89710             1.0                             0.223403   \n",
       "\n",
       "   fair_main_equalized_odds_ratio  fair_main_demographic_parity_difference  \\\n",
       "0                        0.895507                                 0.092062   \n",
       "0                        0.895507                                 0.092062   \n",
       "0                        0.752187                                 0.204400   \n",
       "0                        0.752187                                 0.204400   \n",
       "\n",
       "   fair_main_demographic_parity_ratio  ...  perf_grp_precision_0  \\\n",
       "0                            0.905187  ...                   NaN   \n",
       "0                            0.905187  ...              0.117329   \n",
       "0                            0.774789  ...                   NaN   \n",
       "0                            0.774789  ...              0.121232   \n",
       "\n",
       "   perf_grp_precision_1  perf_grp_false positive rate_0  \\\n",
       "0                   NaN                             NaN   \n",
       "0              0.143400                        0.968743   \n",
       "0                   NaN                             NaN   \n",
       "0              0.163117                        0.901497   \n",
       "\n",
       "   perf_grp_false positive rate_1  perf_grp_false negative rate_0  \\\n",
       "0                             NaN                             NaN   \n",
       "0                        0.867516                        0.011824   \n",
       "0                             NaN                             NaN   \n",
       "0                        0.678094                        0.045608   \n",
       "\n",
       "   perf_grp_false negative rate_1  perf_grp_selection rate_0  \\\n",
       "0                             NaN                        NaN   \n",
       "0                        0.046171                   0.970983   \n",
       "0                             NaN                        NaN   \n",
       "0                        0.131947                   0.907595   \n",
       "\n",
       "   perf_grp_selection rate_1  perf_grp_count_0  perf_grp_count_1  \n",
       "0                        NaN               NaN               NaN  \n",
       "0                   0.878921           20540.0           69170.0  \n",
       "0                        NaN               NaN               NaN  \n",
       "0                   0.703195           20540.0           69170.0  \n",
       "\n",
       "[4 rows x 50 columns]"
      ]
     },
     "execution_count": 62,
     "metadata": {},
     "output_type": "execute_result"
    }
   ],
   "source": [
    "final_output = universe_analysis.generate_final_output(\n",
    "    y_pred_prob=probs_test,\n",
    "    y_test=y_true,\n",
    "    org_test=org_test,\n",
    "    filter_data=filter_sub_universe_data,\n",
    "    cp_metrics_df=cp_metrics_df,\n",
    "    save=True,\n",
    ")\n",
    "final_output"
   ]
  },
  {
   "cell_type": "code",
   "execution_count": null,
   "id": "571f9a0f-660a-4841-b661-b06fbc637944",
   "metadata": {
    "papermill": {
     "duration": 0.025566,
     "end_time": "2025-08-06T16:57:13.891181",
     "exception": false,
     "start_time": "2025-08-06T16:57:13.865615",
     "status": "completed"
    },
    "tags": []
   },
   "outputs": [],
   "source": []
  },
  {
   "cell_type": "code",
   "execution_count": null,
   "id": "529482e3-0150-4854-a92d-ab864efc606e",
   "metadata": {
    "papermill": {
     "duration": 0.026764,
     "end_time": "2025-08-06T16:57:13.944960",
     "exception": false,
     "start_time": "2025-08-06T16:57:13.918196",
     "status": "completed"
    },
    "tags": []
   },
   "outputs": [],
   "source": []
  }
 ],
 "metadata": {
  "celltoolbar": "Tags",
  "kernelspec": {
   "display_name": "Python (CMA Fairness)",
   "language": "python",
   "name": "cma_fair_env"
  },
  "language_info": {
   "codemirror_mode": {
    "name": "ipython",
    "version": 3
   },
   "file_extension": ".py",
   "mimetype": "text/x-python",
   "name": "python",
   "nbconvert_exporter": "python",
   "pygments_lexer": "ipython3",
   "version": "3.10.12"
  },
  "papermill": {
   "default_parameters": {},
   "duration": 39.851062,
   "end_time": "2025-08-06T16:57:14.692166",
   "environment_variables": {},
   "exception": null,
   "input_path": "universe_analysis.ipynb",
   "output_path": "output/runs/1/notebooks/m_1-e27a9f3050c36db572ccf27907c2f740.ipynb",
   "parameters": {
    "output_dir": "output",
    "run_no": "1",
    "seed": "2023",
    "universe": "{\"cutoff\": [\"quantile_0.1\", \"quantile_0.25\"], \"eval_fairness_grouping\": [\"majority-minority\", \"nationality-all\"], \"exclude_features\": \"nationality\", \"exclude_subgroups\": \"keep-all\", \"model\": \"logreg\", \"scale\": \"do-not-scale\", \"training_size\": \"25k\", \"training_year\": \"2012_14\"}",
    "universe_id": "e27a9f3050c36db572ccf27907c2f740"
   },
   "start_time": "2025-08-06T16:56:34.841104",
   "version": "2.6.0"
  }
 },
 "nbformat": 4,
 "nbformat_minor": 5
}