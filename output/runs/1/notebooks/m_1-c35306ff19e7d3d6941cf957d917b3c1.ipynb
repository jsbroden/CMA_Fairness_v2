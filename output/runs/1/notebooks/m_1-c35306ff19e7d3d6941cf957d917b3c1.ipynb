{
 "cells": [
  {
   "cell_type": "markdown",
   "id": "b2057076-3a91-4cfa-9bfd-eab1e61b3068",
   "metadata": {
    "papermill": {
     "duration": 0.016264,
     "end_time": "2025-08-06T17:57:51.885892",
     "exception": false,
     "start_time": "2025-08-06T17:57:51.869628",
     "status": "completed"
    },
    "tags": []
   },
   "source": [
    "# Setup"
   ]
  },
  {
   "cell_type": "code",
   "execution_count": 1,
   "id": "f159f837-637b-42ba-96b5-ec9a68c44524",
   "metadata": {
    "execution": {
     "iopub.execute_input": "2025-08-06T17:57:51.919208Z",
     "iopub.status.busy": "2025-08-06T17:57:51.918609Z",
     "iopub.status.idle": "2025-08-06T17:57:51.932192Z",
     "shell.execute_reply": "2025-08-06T17:57:51.931252Z"
    },
    "papermill": {
     "duration": 0.032548,
     "end_time": "2025-08-06T17:57:51.933841",
     "exception": false,
     "start_time": "2025-08-06T17:57:51.901293",
     "status": "completed"
    },
    "tags": []
   },
   "outputs": [
    {
     "name": "stdout",
     "output_type": "stream",
     "text": [
      "/dss/dsshome1/0C/ra93lal2/cma/CMA_Fairness_v2\n"
     ]
    },
    {
     "name": "stderr",
     "output_type": "stream",
     "text": [
      "/dss/dsshome1/0C/ra93lal2/.local/share/virtualenvs/CMA_Fairness_v2-3j10GkSs/lib/python3.10/site-packages/IPython/core/magics/osm.py:393: UserWarning: This is now an optional IPython functionality, using bookmarks requires you to install the `pickleshare` library.\n",
      "  bkms = self.shell.db.get('bookmarks', {})\n",
      "/dss/dsshome1/0C/ra93lal2/.local/share/virtualenvs/CMA_Fairness_v2-3j10GkSs/lib/python3.10/site-packages/IPython/core/magics/osm.py:417: UserWarning: This is now an optional IPython functionality, setting dhist requires you to install the `pickleshare` library.\n",
      "  self.shell.db['dhist'] = compress_dhist(dhist)[-100:]\n"
     ]
    }
   ],
   "source": [
    "%cd ~/cma/CMA_Fairness_v2"
   ]
  },
  {
   "cell_type": "markdown",
   "id": "de2603b9",
   "metadata": {
    "papermill": {
     "duration": 0.014947,
     "end_time": "2025-08-06T17:57:51.964095",
     "exception": false,
     "start_time": "2025-08-06T17:57:51.949148",
     "status": "completed"
    },
    "tags": []
   },
   "source": [
    "The following cell holds the definition of our parameters, these values can be overriden by rendering the with e.g. the following command:\n",
    "\n",
    "papermill -p alpha 0.2 -p ratio 0.3 universe_analysis.ipynb output/test_run.ipynb"
   ]
  },
  {
   "cell_type": "code",
   "execution_count": 2,
   "id": "a80968a0-40bb-4fa9-85ef-2d5eefb01975",
   "metadata": {
    "execution": {
     "iopub.execute_input": "2025-08-06T17:57:51.995966Z",
     "iopub.status.busy": "2025-08-06T17:57:51.995280Z",
     "iopub.status.idle": "2025-08-06T17:57:52.000984Z",
     "shell.execute_reply": "2025-08-06T17:57:51.999985Z"
    },
    "papermill": {
     "duration": 0.023388,
     "end_time": "2025-08-06T17:57:52.002477",
     "exception": false,
     "start_time": "2025-08-06T17:57:51.979089",
     "status": "completed"
    },
    "tags": []
   },
   "outputs": [
    {
     "name": "stdout",
     "output_type": "stream",
     "text": [
      "Current working directory: /dss/dsshome1/0C/ra93lal2/cma/CMA_Fairness_v2\n"
     ]
    }
   ],
   "source": [
    "import os\n",
    "print(\"Current working directory:\", os.getcwd())"
   ]
  },
  {
   "cell_type": "code",
   "execution_count": 3,
   "id": "2dce4c03",
   "metadata": {
    "execution": {
     "iopub.execute_input": "2025-08-06T17:57:52.036280Z",
     "iopub.status.busy": "2025-08-06T17:57:52.035617Z",
     "iopub.status.idle": "2025-08-06T17:57:52.041917Z",
     "shell.execute_reply": "2025-08-06T17:57:52.040929Z"
    },
    "papermill": {
     "duration": 0.024303,
     "end_time": "2025-08-06T17:57:52.043314",
     "exception": false,
     "start_time": "2025-08-06T17:57:52.019011",
     "status": "completed"
    },
    "tags": [
     "parameters"
    ]
   },
   "outputs": [],
   "source": [
    "run_no = 0\n",
    "universe_id = \"test\"\n",
    "universe = {\n",
    "    \"training_size\": \"5k\", # \"25k\", \"5k\", \"1k\"\n",
    "    \"training_year\": \"2012_14\", # \"2014\", \"2012_14\", \"2010_14\"\n",
    "    \"scale\": \"scale\", # \"scale\", \"do-not-scale\",\n",
    "    \"model\": \"elasticnet\", # \"logreg\", \"penalized_logreg\", \"rf\", \"gbm\", \"elasticnet\"\n",
    "    \"cutoff\": [\"quantile_0.15\", \"quantile_0.30\"],\n",
    "    \"exclude_features\": \"age\", # \"none\", \"nationality\", \"sex\", \"nationality-sex\", \"age\"\n",
    "    \"exclude_subgroups\": \"drop-non-german\", # \"keep-all\", \"drop-non-german\"\n",
    "    \"eval_fairness_grouping\": [\"majority-minority\", \"nationality-all\"]\n",
    "}\n",
    "\n",
    "output_dir=\"./output\"\n",
    "seed=0"
   ]
  },
  {
   "cell_type": "code",
   "execution_count": 4,
   "id": "8ebf4c68",
   "metadata": {
    "execution": {
     "iopub.execute_input": "2025-08-06T17:57:52.075862Z",
     "iopub.status.busy": "2025-08-06T17:57:52.075247Z",
     "iopub.status.idle": "2025-08-06T17:57:52.080301Z",
     "shell.execute_reply": "2025-08-06T17:57:52.079478Z"
    },
    "papermill": {
     "duration": 0.022821,
     "end_time": "2025-08-06T17:57:52.081789",
     "exception": false,
     "start_time": "2025-08-06T17:57:52.058968",
     "status": "completed"
    },
    "tags": [
     "injected-parameters"
    ]
   },
   "outputs": [],
   "source": [
    "# Parameters\n",
    "universe_id = \"c35306ff19e7d3d6941cf957d917b3c1\"\n",
    "run_no = \"1\"\n",
    "universe = \"{\\\"cutoff\\\": [\\\"quantile_0.1\\\", \\\"quantile_0.25\\\"], \\\"eval_fairness_grouping\\\": [\\\"majority-minority\\\", \\\"nationality-all\\\"], \\\"exclude_features\\\": \\\"nationality\\\", \\\"exclude_subgroups\\\": \\\"drop-non-german\\\", \\\"model\\\": \\\"rf\\\", \\\"scale\\\": \\\"scale\\\", \\\"training_size\\\": \\\"1k\\\", \\\"training_year\\\": \\\"2012_14\\\"}\"\n",
    "output_dir = \"output\"\n",
    "seed = \"2023\"\n"
   ]
  },
  {
   "cell_type": "code",
   "execution_count": 5,
   "id": "1650acaf",
   "metadata": {
    "execution": {
     "iopub.execute_input": "2025-08-06T17:57:52.115501Z",
     "iopub.status.busy": "2025-08-06T17:57:52.114826Z",
     "iopub.status.idle": "2025-08-06T17:57:52.119956Z",
     "shell.execute_reply": "2025-08-06T17:57:52.119003Z"
    },
    "papermill": {
     "duration": 0.023518,
     "end_time": "2025-08-06T17:57:52.121426",
     "exception": false,
     "start_time": "2025-08-06T17:57:52.097908",
     "status": "completed"
    },
    "tags": []
   },
   "outputs": [],
   "source": [
    "import json\n",
    "if isinstance(universe, str):\n",
    "    universe = json.loads(universe)"
   ]
  },
  {
   "cell_type": "code",
   "execution_count": 6,
   "id": "16620c48",
   "metadata": {
    "execution": {
     "iopub.execute_input": "2025-08-06T17:57:52.154342Z",
     "iopub.status.busy": "2025-08-06T17:57:52.153679Z",
     "iopub.status.idle": "2025-08-06T17:57:52.199011Z",
     "shell.execute_reply": "2025-08-06T17:57:52.198110Z"
    },
    "papermill": {
     "duration": 0.063644,
     "end_time": "2025-08-06T17:57:52.200904",
     "exception": false,
     "start_time": "2025-08-06T17:57:52.137260",
     "status": "completed"
    },
    "tags": []
   },
   "outputs": [],
   "source": [
    "# Auto-reload the custom package\n",
    "%load_ext autoreload\n",
    "%autoreload 1\n",
    "%aimport fairness_multiverse"
   ]
  },
  {
   "cell_type": "code",
   "execution_count": 7,
   "id": "01c5c9f3",
   "metadata": {
    "execution": {
     "iopub.execute_input": "2025-08-06T17:57:52.234515Z",
     "iopub.status.busy": "2025-08-06T17:57:52.233884Z",
     "iopub.status.idle": "2025-08-06T17:57:54.137679Z",
     "shell.execute_reply": "2025-08-06T17:57:54.136627Z"
    },
    "papermill": {
     "duration": 1.922119,
     "end_time": "2025-08-06T17:57:54.139665",
     "exception": false,
     "start_time": "2025-08-06T17:57:52.217546",
     "status": "completed"
    },
    "tags": []
   },
   "outputs": [],
   "source": [
    "from fairness_multiverse.universe import UniverseAnalysis\n",
    "\n",
    "universe_analysis = UniverseAnalysis(\n",
    "    run_no = run_no,\n",
    "    universe_id = universe_id,\n",
    "    universe = universe,\n",
    "    output_dir=output_dir,\n",
    ")"
   ]
  },
  {
   "cell_type": "code",
   "execution_count": 8,
   "id": "106241f5",
   "metadata": {
    "execution": {
     "iopub.execute_input": "2025-08-06T17:57:54.178098Z",
     "iopub.status.busy": "2025-08-06T17:57:54.177108Z",
     "iopub.status.idle": "2025-08-06T17:57:54.183696Z",
     "shell.execute_reply": "2025-08-06T17:57:54.182836Z"
    },
    "papermill": {
     "duration": 0.02714,
     "end_time": "2025-08-06T17:57:54.185074",
     "exception": false,
     "start_time": "2025-08-06T17:57:54.157934",
     "status": "completed"
    },
    "tags": []
   },
   "outputs": [
    {
     "name": "stdout",
     "output_type": "stream",
     "text": [
      "Using Seed: 2023\n"
     ]
    }
   ],
   "source": [
    "import numpy as np\n",
    "parsed_seed = int(seed)\n",
    "np.random.seed(parsed_seed)\n",
    "print(f\"Using Seed: {parsed_seed}\")"
   ]
  },
  {
   "cell_type": "markdown",
   "id": "e0ebdc57",
   "metadata": {
    "papermill": {
     "duration": 0.016622,
     "end_time": "2025-08-06T17:57:54.218960",
     "exception": false,
     "start_time": "2025-08-06T17:57:54.202338",
     "status": "completed"
    },
    "tags": []
   },
   "source": [
    "# Loading Data"
   ]
  },
  {
   "cell_type": "code",
   "execution_count": 9,
   "id": "f0496b8a",
   "metadata": {
    "execution": {
     "iopub.execute_input": "2025-08-06T17:57:54.254382Z",
     "iopub.status.busy": "2025-08-06T17:57:54.253724Z",
     "iopub.status.idle": "2025-08-06T17:58:05.973370Z",
     "shell.execute_reply": "2025-08-06T17:58:05.972505Z"
    },
    "papermill": {
     "duration": 11.738957,
     "end_time": "2025-08-06T17:58:05.974736",
     "exception": false,
     "start_time": "2025-08-06T17:57:54.235779",
     "status": "completed"
    },
    "tags": []
   },
   "outputs": [
    {
     "name": "stdout",
     "output_type": "stream",
     "text": [
      "Loading SIAB data from cache: data/siab_cached.csv.gz\n"
     ]
    },
    {
     "name": "stdout",
     "output_type": "stream",
     "text": [
      "(643690, 164)\n"
     ]
    }
   ],
   "source": [
    "from pathlib import Path\n",
    "import pandas as pd\n",
    "\n",
    "# File paths\n",
    "raw_file = Path(\"data/raw/siab.csv\")\n",
    "cache_file = Path(\"data/siab_cached.csv.gz\")\n",
    "\n",
    "# Ensure cache directory exists\n",
    "cache_file.parent.mkdir(parents=True, exist_ok=True)\n",
    "\n",
    "# Load with simple caching\n",
    "if cache_file.exists():\n",
    "    print(f\"Loading SIAB data from cache: {cache_file}\")\n",
    "    siab = pd.read_csv(cache_file, compression='gzip')\n",
    "else:\n",
    "    print(f\"Cache not found. Reading raw SIAB data: {raw_file}\")\n",
    "    siab = pd.read_csv(raw_file)\n",
    "    siab.to_csv(cache_file, index=False, compression='gzip')\n",
    "    print(f\"Cached SIAB data to: {cache_file}\")\n",
    "\n",
    "print(siab.shape)"
   ]
  },
  {
   "cell_type": "code",
   "execution_count": 10,
   "id": "db0ca512-5f53-4dba-abdb-a2888bca41ba",
   "metadata": {
    "execution": {
     "iopub.execute_input": "2025-08-06T17:58:05.997376Z",
     "iopub.status.busy": "2025-08-06T17:58:05.996819Z",
     "iopub.status.idle": "2025-08-06T17:58:06.130587Z",
     "shell.execute_reply": "2025-08-06T17:58:06.129778Z"
    },
    "papermill": {
     "duration": 0.145511,
     "end_time": "2025-08-06T17:58:06.131849",
     "exception": false,
     "start_time": "2025-08-06T17:58:05.986338",
     "status": "completed"
    },
    "tags": []
   },
   "outputs": [
    {
     "data": {
      "text/html": [
       "<div>\n",
       "<style scoped>\n",
       "    .dataframe tbody tr th:only-of-type {\n",
       "        vertical-align: middle;\n",
       "    }\n",
       "\n",
       "    .dataframe tbody tr th {\n",
       "        vertical-align: top;\n",
       "    }\n",
       "\n",
       "    .dataframe thead th {\n",
       "        text-align: right;\n",
       "    }\n",
       "</style>\n",
       "<table border=\"1\" class=\"dataframe\">\n",
       "  <thead>\n",
       "    <tr style=\"text-align: right;\">\n",
       "      <th></th>\n",
       "      <th>persnr</th>\n",
       "      <th>year</th>\n",
       "      <th>nrEntry</th>\n",
       "      <th>ltue</th>\n",
       "      <th>employed_before</th>\n",
       "      <th>receipt_leh_before</th>\n",
       "      <th>receipt_lhg_before</th>\n",
       "      <th>se_before</th>\n",
       "      <th>ASU_notue_seeking_before</th>\n",
       "      <th>ASU_other_before</th>\n",
       "      <th>...</th>\n",
       "      <th>minijob_tot_dur_byage</th>\n",
       "      <th>ft_tot_dur_byage</th>\n",
       "      <th>befrist_tot_dur_byage</th>\n",
       "      <th>leih_tot_dur_byage</th>\n",
       "      <th>LHG_tot_dur_byage</th>\n",
       "      <th>LEH_tot_dur_byage</th>\n",
       "      <th>almp_tot_dur_byage</th>\n",
       "      <th>almp_aw_tot_dur_byage</th>\n",
       "      <th>se_tot_dur_byage</th>\n",
       "      <th>seeking1_tot_dur_byage</th>\n",
       "    </tr>\n",
       "  </thead>\n",
       "  <tbody>\n",
       "    <tr>\n",
       "      <th>0</th>\n",
       "      <td>7</td>\n",
       "      <td>2015</td>\n",
       "      <td>1</td>\n",
       "      <td>0</td>\n",
       "      <td>1</td>\n",
       "      <td>0</td>\n",
       "      <td>0</td>\n",
       "      <td>0</td>\n",
       "      <td>1</td>\n",
       "      <td>0</td>\n",
       "      <td>...</td>\n",
       "      <td>0.000000</td>\n",
       "      <td>0.000000</td>\n",
       "      <td>15.043478</td>\n",
       "      <td>0.000000</td>\n",
       "      <td>0.000000</td>\n",
       "      <td>0.000000</td>\n",
       "      <td>0.000000</td>\n",
       "      <td>0.000000</td>\n",
       "      <td>0.000000</td>\n",
       "      <td>0.000000</td>\n",
       "    </tr>\n",
       "    <tr>\n",
       "      <th>1</th>\n",
       "      <td>18</td>\n",
       "      <td>2010</td>\n",
       "      <td>1</td>\n",
       "      <td>1</td>\n",
       "      <td>0</td>\n",
       "      <td>0</td>\n",
       "      <td>0</td>\n",
       "      <td>0</td>\n",
       "      <td>0</td>\n",
       "      <td>0</td>\n",
       "      <td>...</td>\n",
       "      <td>0.000000</td>\n",
       "      <td>0.000000</td>\n",
       "      <td>0.000000</td>\n",
       "      <td>0.000000</td>\n",
       "      <td>0.000000</td>\n",
       "      <td>0.000000</td>\n",
       "      <td>0.000000</td>\n",
       "      <td>0.000000</td>\n",
       "      <td>0.000000</td>\n",
       "      <td>0.000000</td>\n",
       "    </tr>\n",
       "    <tr>\n",
       "      <th>2</th>\n",
       "      <td>18</td>\n",
       "      <td>2011</td>\n",
       "      <td>2</td>\n",
       "      <td>0</td>\n",
       "      <td>1</td>\n",
       "      <td>0</td>\n",
       "      <td>1</td>\n",
       "      <td>0</td>\n",
       "      <td>1</td>\n",
       "      <td>0</td>\n",
       "      <td>...</td>\n",
       "      <td>2.714286</td>\n",
       "      <td>2.714286</td>\n",
       "      <td>0.000000</td>\n",
       "      <td>0.000000</td>\n",
       "      <td>10.775510</td>\n",
       "      <td>0.000000</td>\n",
       "      <td>8.367347</td>\n",
       "      <td>0.000000</td>\n",
       "      <td>0.000000</td>\n",
       "      <td>9.836735</td>\n",
       "    </tr>\n",
       "    <tr>\n",
       "      <th>3</th>\n",
       "      <td>18</td>\n",
       "      <td>2012</td>\n",
       "      <td>3</td>\n",
       "      <td>0</td>\n",
       "      <td>1</td>\n",
       "      <td>0</td>\n",
       "      <td>1</td>\n",
       "      <td>0</td>\n",
       "      <td>1</td>\n",
       "      <td>0</td>\n",
       "      <td>...</td>\n",
       "      <td>4.200000</td>\n",
       "      <td>4.200000</td>\n",
       "      <td>0.000000</td>\n",
       "      <td>0.000000</td>\n",
       "      <td>12.100000</td>\n",
       "      <td>0.000000</td>\n",
       "      <td>9.400000</td>\n",
       "      <td>0.000000</td>\n",
       "      <td>0.000000</td>\n",
       "      <td>9.960000</td>\n",
       "    </tr>\n",
       "    <tr>\n",
       "      <th>4</th>\n",
       "      <td>18</td>\n",
       "      <td>2012</td>\n",
       "      <td>4</td>\n",
       "      <td>0</td>\n",
       "      <td>1</td>\n",
       "      <td>0</td>\n",
       "      <td>1</td>\n",
       "      <td>0</td>\n",
       "      <td>1</td>\n",
       "      <td>0</td>\n",
       "      <td>...</td>\n",
       "      <td>5.460000</td>\n",
       "      <td>5.460000</td>\n",
       "      <td>0.000000</td>\n",
       "      <td>0.000000</td>\n",
       "      <td>13.360000</td>\n",
       "      <td>0.000000</td>\n",
       "      <td>10.320000</td>\n",
       "      <td>0.000000</td>\n",
       "      <td>0.000000</td>\n",
       "      <td>10.280000</td>\n",
       "    </tr>\n",
       "    <tr>\n",
       "      <th>...</th>\n",
       "      <td>...</td>\n",
       "      <td>...</td>\n",
       "      <td>...</td>\n",
       "      <td>...</td>\n",
       "      <td>...</td>\n",
       "      <td>...</td>\n",
       "      <td>...</td>\n",
       "      <td>...</td>\n",
       "      <td>...</td>\n",
       "      <td>...</td>\n",
       "      <td>...</td>\n",
       "      <td>...</td>\n",
       "      <td>...</td>\n",
       "      <td>...</td>\n",
       "      <td>...</td>\n",
       "      <td>...</td>\n",
       "      <td>...</td>\n",
       "      <td>...</td>\n",
       "      <td>...</td>\n",
       "      <td>...</td>\n",
       "      <td>...</td>\n",
       "    </tr>\n",
       "    <tr>\n",
       "      <th>643685</th>\n",
       "      <td>1827860</td>\n",
       "      <td>2013</td>\n",
       "      <td>1</td>\n",
       "      <td>0</td>\n",
       "      <td>0</td>\n",
       "      <td>0</td>\n",
       "      <td>1</td>\n",
       "      <td>0</td>\n",
       "      <td>0</td>\n",
       "      <td>1</td>\n",
       "      <td>...</td>\n",
       "      <td>0.000000</td>\n",
       "      <td>0.000000</td>\n",
       "      <td>0.000000</td>\n",
       "      <td>0.000000</td>\n",
       "      <td>0.612903</td>\n",
       "      <td>0.000000</td>\n",
       "      <td>0.000000</td>\n",
       "      <td>0.000000</td>\n",
       "      <td>0.000000</td>\n",
       "      <td>0.000000</td>\n",
       "    </tr>\n",
       "    <tr>\n",
       "      <th>643686</th>\n",
       "      <td>1827860</td>\n",
       "      <td>2015</td>\n",
       "      <td>2</td>\n",
       "      <td>1</td>\n",
       "      <td>0</td>\n",
       "      <td>0</td>\n",
       "      <td>1</td>\n",
       "      <td>0</td>\n",
       "      <td>1</td>\n",
       "      <td>0</td>\n",
       "      <td>...</td>\n",
       "      <td>0.000000</td>\n",
       "      <td>0.000000</td>\n",
       "      <td>0.212121</td>\n",
       "      <td>0.212121</td>\n",
       "      <td>17.363636</td>\n",
       "      <td>0.000000</td>\n",
       "      <td>8.909091</td>\n",
       "      <td>0.000000</td>\n",
       "      <td>0.000000</td>\n",
       "      <td>7.121212</td>\n",
       "    </tr>\n",
       "    <tr>\n",
       "      <th>643687</th>\n",
       "      <td>1827860</td>\n",
       "      <td>2016</td>\n",
       "      <td>3</td>\n",
       "      <td>1</td>\n",
       "      <td>0</td>\n",
       "      <td>0</td>\n",
       "      <td>1</td>\n",
       "      <td>1</td>\n",
       "      <td>0</td>\n",
       "      <td>1</td>\n",
       "      <td>...</td>\n",
       "      <td>0.000000</td>\n",
       "      <td>0.000000</td>\n",
       "      <td>0.294118</td>\n",
       "      <td>0.205882</td>\n",
       "      <td>34.705882</td>\n",
       "      <td>0.000000</td>\n",
       "      <td>10.352941</td>\n",
       "      <td>1.705882</td>\n",
       "      <td>1.705882</td>\n",
       "      <td>23.911765</td>\n",
       "    </tr>\n",
       "    <tr>\n",
       "      <th>643688</th>\n",
       "      <td>1827869</td>\n",
       "      <td>2013</td>\n",
       "      <td>1</td>\n",
       "      <td>1</td>\n",
       "      <td>1</td>\n",
       "      <td>0</td>\n",
       "      <td>0</td>\n",
       "      <td>0</td>\n",
       "      <td>1</td>\n",
       "      <td>0</td>\n",
       "      <td>...</td>\n",
       "      <td>0.000000</td>\n",
       "      <td>0.000000</td>\n",
       "      <td>0.000000</td>\n",
       "      <td>0.000000</td>\n",
       "      <td>0.000000</td>\n",
       "      <td>0.525424</td>\n",
       "      <td>0.000000</td>\n",
       "      <td>0.000000</td>\n",
       "      <td>0.000000</td>\n",
       "      <td>0.000000</td>\n",
       "    </tr>\n",
       "    <tr>\n",
       "      <th>643689</th>\n",
       "      <td>1827869</td>\n",
       "      <td>2014</td>\n",
       "      <td>2</td>\n",
       "      <td>0</td>\n",
       "      <td>0</td>\n",
       "      <td>1</td>\n",
       "      <td>0</td>\n",
       "      <td>0</td>\n",
       "      <td>1</td>\n",
       "      <td>0</td>\n",
       "      <td>...</td>\n",
       "      <td>0.000000</td>\n",
       "      <td>0.666667</td>\n",
       "      <td>0.666667</td>\n",
       "      <td>0.000000</td>\n",
       "      <td>0.000000</td>\n",
       "      <td>8.950000</td>\n",
       "      <td>1.033333</td>\n",
       "      <td>0.083333</td>\n",
       "      <td>0.083333</td>\n",
       "      <td>8.133333</td>\n",
       "    </tr>\n",
       "  </tbody>\n",
       "</table>\n",
       "<p>643690 rows × 164 columns</p>\n",
       "</div>"
      ],
      "text/plain": [
       "         persnr  year  nrEntry  ltue  employed_before  receipt_leh_before  \\\n",
       "0             7  2015        1     0                1                   0   \n",
       "1            18  2010        1     1                0                   0   \n",
       "2            18  2011        2     0                1                   0   \n",
       "3            18  2012        3     0                1                   0   \n",
       "4            18  2012        4     0                1                   0   \n",
       "...         ...   ...      ...   ...              ...                 ...   \n",
       "643685  1827860  2013        1     0                0                   0   \n",
       "643686  1827860  2015        2     1                0                   0   \n",
       "643687  1827860  2016        3     1                0                   0   \n",
       "643688  1827869  2013        1     1                1                   0   \n",
       "643689  1827869  2014        2     0                0                   1   \n",
       "\n",
       "        receipt_lhg_before  se_before  ASU_notue_seeking_before  \\\n",
       "0                        0          0                         1   \n",
       "1                        0          0                         0   \n",
       "2                        1          0                         1   \n",
       "3                        1          0                         1   \n",
       "4                        1          0                         1   \n",
       "...                    ...        ...                       ...   \n",
       "643685                   1          0                         0   \n",
       "643686                   1          0                         1   \n",
       "643687                   1          1                         0   \n",
       "643688                   0          0                         1   \n",
       "643689                   0          0                         1   \n",
       "\n",
       "        ASU_other_before  ...  minijob_tot_dur_byage  ft_tot_dur_byage  \\\n",
       "0                      0  ...               0.000000          0.000000   \n",
       "1                      0  ...               0.000000          0.000000   \n",
       "2                      0  ...               2.714286          2.714286   \n",
       "3                      0  ...               4.200000          4.200000   \n",
       "4                      0  ...               5.460000          5.460000   \n",
       "...                  ...  ...                    ...               ...   \n",
       "643685                 1  ...               0.000000          0.000000   \n",
       "643686                 0  ...               0.000000          0.000000   \n",
       "643687                 1  ...               0.000000          0.000000   \n",
       "643688                 0  ...               0.000000          0.000000   \n",
       "643689                 0  ...               0.000000          0.666667   \n",
       "\n",
       "        befrist_tot_dur_byage  leih_tot_dur_byage  LHG_tot_dur_byage  \\\n",
       "0                   15.043478            0.000000           0.000000   \n",
       "1                    0.000000            0.000000           0.000000   \n",
       "2                    0.000000            0.000000          10.775510   \n",
       "3                    0.000000            0.000000          12.100000   \n",
       "4                    0.000000            0.000000          13.360000   \n",
       "...                       ...                 ...                ...   \n",
       "643685               0.000000            0.000000           0.612903   \n",
       "643686               0.212121            0.212121          17.363636   \n",
       "643687               0.294118            0.205882          34.705882   \n",
       "643688               0.000000            0.000000           0.000000   \n",
       "643689               0.666667            0.000000           0.000000   \n",
       "\n",
       "        LEH_tot_dur_byage  almp_tot_dur_byage  almp_aw_tot_dur_byage  \\\n",
       "0                0.000000            0.000000               0.000000   \n",
       "1                0.000000            0.000000               0.000000   \n",
       "2                0.000000            8.367347               0.000000   \n",
       "3                0.000000            9.400000               0.000000   \n",
       "4                0.000000           10.320000               0.000000   \n",
       "...                   ...                 ...                    ...   \n",
       "643685           0.000000            0.000000               0.000000   \n",
       "643686           0.000000            8.909091               0.000000   \n",
       "643687           0.000000           10.352941               1.705882   \n",
       "643688           0.525424            0.000000               0.000000   \n",
       "643689           8.950000            1.033333               0.083333   \n",
       "\n",
       "        se_tot_dur_byage  seeking1_tot_dur_byage  \n",
       "0               0.000000                0.000000  \n",
       "1               0.000000                0.000000  \n",
       "2               0.000000                9.836735  \n",
       "3               0.000000                9.960000  \n",
       "4               0.000000               10.280000  \n",
       "...                  ...                     ...  \n",
       "643685          0.000000                0.000000  \n",
       "643686          0.000000                7.121212  \n",
       "643687          1.705882               23.911765  \n",
       "643688          0.000000                0.000000  \n",
       "643689          0.083333                8.133333  \n",
       "\n",
       "[643690 rows x 164 columns]"
      ]
     },
     "execution_count": 10,
     "metadata": {},
     "output_type": "execute_result"
    }
   ],
   "source": [
    "siab"
   ]
  },
  {
   "cell_type": "markdown",
   "id": "997051c5-15bd-4b69-9786-c3001a3ce484",
   "metadata": {
    "papermill": {
     "duration": 0.00957,
     "end_time": "2025-08-06T17:58:06.151385",
     "exception": false,
     "start_time": "2025-08-06T17:58:06.141815",
     "status": "completed"
    },
    "tags": []
   },
   "source": [
    "# Splitting Data and Setting Training Data Size"
   ]
  },
  {
   "cell_type": "code",
   "execution_count": 11,
   "id": "aea9c6ef-6f46-42c8-85eb-5a62025c1508",
   "metadata": {
    "execution": {
     "iopub.execute_input": "2025-08-06T17:58:06.172771Z",
     "iopub.status.busy": "2025-08-06T17:58:06.172251Z",
     "iopub.status.idle": "2025-08-06T17:58:06.759178Z",
     "shell.execute_reply": "2025-08-06T17:58:06.758366Z"
    },
    "papermill": {
     "duration": 0.599384,
     "end_time": "2025-08-06T17:58:06.760657",
     "exception": false,
     "start_time": "2025-08-06T17:58:06.161273",
     "status": "completed"
    },
    "tags": []
   },
   "outputs": [],
   "source": [
    "from fairness_multiverse.universe import sample_by_year_size\n",
    "\n",
    "siab_train = sample_by_year_size(siab,\n",
    "                               training_year=universe[\"training_year\"],\n",
    "                               training_size=universe[\"training_size\"])"
   ]
  },
  {
   "cell_type": "code",
   "execution_count": 12,
   "id": "8d3afb32-789d-442c-8d5d-9f5aa8dd2eed",
   "metadata": {
    "execution": {
     "iopub.execute_input": "2025-08-06T17:58:06.785315Z",
     "iopub.status.busy": "2025-08-06T17:58:06.784845Z",
     "iopub.status.idle": "2025-08-06T17:58:06.791970Z",
     "shell.execute_reply": "2025-08-06T17:58:06.790949Z"
    },
    "papermill": {
     "duration": 0.019752,
     "end_time": "2025-08-06T17:58:06.793609",
     "exception": false,
     "start_time": "2025-08-06T17:58:06.773857",
     "status": "completed"
    },
    "tags": []
   },
   "outputs": [
    {
     "data": {
      "text/plain": [
       "(1000, 164)"
      ]
     },
     "execution_count": 12,
     "metadata": {},
     "output_type": "execute_result"
    }
   ],
   "source": [
    "siab_train.shape"
   ]
  },
  {
   "cell_type": "code",
   "execution_count": 13,
   "id": "d582db68-1a4c-47fb-84fc-08518dc1975a",
   "metadata": {
    "execution": {
     "iopub.execute_input": "2025-08-06T17:58:06.834032Z",
     "iopub.status.busy": "2025-08-06T17:58:06.833362Z",
     "iopub.status.idle": "2025-08-06T17:58:06.843604Z",
     "shell.execute_reply": "2025-08-06T17:58:06.842549Z"
    },
    "papermill": {
     "duration": 0.032965,
     "end_time": "2025-08-06T17:58:06.845355",
     "exception": false,
     "start_time": "2025-08-06T17:58:06.812390",
     "status": "completed"
    },
    "tags": []
   },
   "outputs": [
    {
     "data": {
      "text/plain": [
       "year\n",
       "2012    334\n",
       "2013    333\n",
       "2014    333\n",
       "dtype: int64"
      ]
     },
     "metadata": {},
     "output_type": "display_data"
    }
   ],
   "source": [
    "display(siab_train.groupby(\"year\").size())"
   ]
  },
  {
   "cell_type": "code",
   "execution_count": 14,
   "id": "a561edb4-d032-42cb-8256-22eac1111c64",
   "metadata": {
    "execution": {
     "iopub.execute_input": "2025-08-06T17:58:06.900125Z",
     "iopub.status.busy": "2025-08-06T17:58:06.899267Z",
     "iopub.status.idle": "2025-08-06T17:58:07.160712Z",
     "shell.execute_reply": "2025-08-06T17:58:07.159595Z"
    },
    "papermill": {
     "duration": 0.299781,
     "end_time": "2025-08-06T17:58:07.162696",
     "exception": false,
     "start_time": "2025-08-06T17:58:06.862915",
     "status": "completed"
    },
    "tags": []
   },
   "outputs": [],
   "source": [
    "#siab_train = siab_s[siab_s.year < 2015]\n",
    "siab_calib = siab[siab.year == 2015]\n",
    "siab_test = siab[siab.year == 2016]"
   ]
  },
  {
   "cell_type": "code",
   "execution_count": 15,
   "id": "472de16f-c3db-4916-846b-1f0de9cf1746",
   "metadata": {
    "execution": {
     "iopub.execute_input": "2025-08-06T17:58:07.217579Z",
     "iopub.status.busy": "2025-08-06T17:58:07.217108Z",
     "iopub.status.idle": "2025-08-06T17:58:07.223380Z",
     "shell.execute_reply": "2025-08-06T17:58:07.222367Z"
    },
    "papermill": {
     "duration": 0.042102,
     "end_time": "2025-08-06T17:58:07.224760",
     "exception": false,
     "start_time": "2025-08-06T17:58:07.182658",
     "status": "completed"
    },
    "tags": []
   },
   "outputs": [],
   "source": [
    "X_train = siab_train.iloc[:,4:164]\n",
    "y_train = siab_train.iloc[:, [3]]"
   ]
  },
  {
   "cell_type": "code",
   "execution_count": 16,
   "id": "828c96af-f43a-4ed6-ba47-8ac73a47d56c",
   "metadata": {
    "execution": {
     "iopub.execute_input": "2025-08-06T17:58:07.247088Z",
     "iopub.status.busy": "2025-08-06T17:58:07.246582Z",
     "iopub.status.idle": "2025-08-06T17:58:07.299452Z",
     "shell.execute_reply": "2025-08-06T17:58:07.298298Z"
    },
    "papermill": {
     "duration": 0.065716,
     "end_time": "2025-08-06T17:58:07.301279",
     "exception": false,
     "start_time": "2025-08-06T17:58:07.235563",
     "status": "completed"
    },
    "tags": []
   },
   "outputs": [],
   "source": [
    "X_calib = siab_calib.iloc[:,4:164]\n",
    "y_calib = siab_calib.iloc[:, [3]]"
   ]
  },
  {
   "cell_type": "code",
   "execution_count": 17,
   "id": "c34be9c3-6bd6-476e-acd3-845840e303be",
   "metadata": {
    "execution": {
     "iopub.execute_input": "2025-08-06T17:58:07.346795Z",
     "iopub.status.busy": "2025-08-06T17:58:07.345859Z",
     "iopub.status.idle": "2025-08-06T17:58:07.403078Z",
     "shell.execute_reply": "2025-08-06T17:58:07.402070Z"
    },
    "papermill": {
     "duration": 0.082049,
     "end_time": "2025-08-06T17:58:07.405223",
     "exception": false,
     "start_time": "2025-08-06T17:58:07.323174",
     "status": "completed"
    },
    "tags": []
   },
   "outputs": [],
   "source": [
    "X_test = siab_test.iloc[:,4:164]\n",
    "y_true = siab_test.iloc[:, [3]]"
   ]
  },
  {
   "cell_type": "code",
   "execution_count": 18,
   "id": "e6c733c5",
   "metadata": {
    "execution": {
     "iopub.execute_input": "2025-08-06T17:58:07.438898Z",
     "iopub.status.busy": "2025-08-06T17:58:07.438548Z",
     "iopub.status.idle": "2025-08-06T17:58:07.529336Z",
     "shell.execute_reply": "2025-08-06T17:58:07.528591Z"
    },
    "papermill": {
     "duration": 0.104155,
     "end_time": "2025-08-06T17:58:07.530765",
     "exception": false,
     "start_time": "2025-08-06T17:58:07.426610",
     "status": "completed"
    },
    "tags": []
   },
   "outputs": [],
   "source": [
    "# Auxiliary data needed downstream in the pipeline\n",
    "\n",
    "org_train = X_train.copy()\n",
    "org_test = X_test.copy()\n",
    "org_calib = X_calib.copy()"
   ]
  },
  {
   "cell_type": "markdown",
   "id": "0a4a1b33",
   "metadata": {
    "papermill": {
     "duration": 0.009348,
     "end_time": "2025-08-06T17:58:07.550143",
     "exception": false,
     "start_time": "2025-08-06T17:58:07.540795",
     "status": "completed"
    },
    "tags": []
   },
   "source": [
    "# Preprocessing Data"
   ]
  },
  {
   "cell_type": "code",
   "execution_count": 19,
   "id": "ca879031",
   "metadata": {
    "execution": {
     "iopub.execute_input": "2025-08-06T17:58:07.570702Z",
     "iopub.status.busy": "2025-08-06T17:58:07.570200Z",
     "iopub.status.idle": "2025-08-06T17:58:07.575048Z",
     "shell.execute_reply": "2025-08-06T17:58:07.574343Z"
    },
    "papermill": {
     "duration": 0.016519,
     "end_time": "2025-08-06T17:58:07.576328",
     "exception": false,
     "start_time": "2025-08-06T17:58:07.559809",
     "status": "completed"
    },
    "tags": []
   },
   "outputs": [],
   "source": [
    "# EXCLUDE PROTECTED FEATURES\n",
    "# --------------------------\n",
    "\n",
    "excluded_features = universe[\"exclude_features\"].split(\"-\")\n",
    "excluded_features_dictionary = {\n",
    "    \"nationality\": [\"maxdeutsch1\", \"maxdeutsch.Missing.\"],\n",
    "    \"sex\": [\"frau1\"],\n",
    "    \"age\": [\"age\"],\n",
    "}"
   ]
  },
  {
   "cell_type": "code",
   "execution_count": 20,
   "id": "b745ac60",
   "metadata": {
    "execution": {
     "iopub.execute_input": "2025-08-06T17:58:07.614172Z",
     "iopub.status.busy": "2025-08-06T17:58:07.613668Z",
     "iopub.status.idle": "2025-08-06T17:58:07.619952Z",
     "shell.execute_reply": "2025-08-06T17:58:07.618874Z"
    },
    "papermill": {
     "duration": 0.028231,
     "end_time": "2025-08-06T17:58:07.622000",
     "exception": false,
     "start_time": "2025-08-06T17:58:07.593769",
     "status": "completed"
    },
    "tags": []
   },
   "outputs": [],
   "source": [
    "excluded_features_columns = [\n",
    "    excluded_features_dictionary[f] for f in excluded_features if len(f) > 0 and f != \"none\"\n",
    "]"
   ]
  },
  {
   "cell_type": "code",
   "execution_count": 21,
   "id": "f84f73a2",
   "metadata": {
    "execution": {
     "iopub.execute_input": "2025-08-06T17:58:07.662666Z",
     "iopub.status.busy": "2025-08-06T17:58:07.662148Z",
     "iopub.status.idle": "2025-08-06T17:58:07.668351Z",
     "shell.execute_reply": "2025-08-06T17:58:07.667343Z"
    },
    "papermill": {
     "duration": 0.028375,
     "end_time": "2025-08-06T17:58:07.670069",
     "exception": false,
     "start_time": "2025-08-06T17:58:07.641694",
     "status": "completed"
    },
    "tags": []
   },
   "outputs": [],
   "source": [
    "from fairness_multiverse.universe import flatten_once\n",
    "\n",
    "excluded_features_columns = flatten_once(excluded_features_columns)"
   ]
  },
  {
   "cell_type": "code",
   "execution_count": 22,
   "id": "884dea22",
   "metadata": {
    "execution": {
     "iopub.execute_input": "2025-08-06T17:58:07.697217Z",
     "iopub.status.busy": "2025-08-06T17:58:07.696778Z",
     "iopub.status.idle": "2025-08-06T17:58:07.704309Z",
     "shell.execute_reply": "2025-08-06T17:58:07.703550Z"
    },
    "papermill": {
     "duration": 0.019364,
     "end_time": "2025-08-06T17:58:07.705536",
     "exception": false,
     "start_time": "2025-08-06T17:58:07.686172",
     "status": "completed"
    },
    "tags": []
   },
   "outputs": [
    {
     "name": "stdout",
     "output_type": "stream",
     "text": [
      "Dropping features: ['maxdeutsch1', 'maxdeutsch.Missing.']\n"
     ]
    }
   ],
   "source": [
    "if len(excluded_features_columns) > 0:\n",
    "    print(f\"Dropping features: {excluded_features_columns}\")\n",
    "    X_train.drop(excluded_features_columns, axis=1, inplace=True)"
   ]
  },
  {
   "cell_type": "code",
   "execution_count": 23,
   "id": "95ab8b16",
   "metadata": {
    "execution": {
     "iopub.execute_input": "2025-08-06T17:58:07.727141Z",
     "iopub.status.busy": "2025-08-06T17:58:07.726478Z",
     "iopub.status.idle": "2025-08-06T17:58:07.778122Z",
     "shell.execute_reply": "2025-08-06T17:58:07.777328Z"
    },
    "papermill": {
     "duration": 0.063494,
     "end_time": "2025-08-06T17:58:07.779485",
     "exception": false,
     "start_time": "2025-08-06T17:58:07.715991",
     "status": "completed"
    },
    "tags": []
   },
   "outputs": [
    {
     "name": "stdout",
     "output_type": "stream",
     "text": [
      "Dropping features: ['maxdeutsch1', 'maxdeutsch.Missing.']\n"
     ]
    }
   ],
   "source": [
    "if len(excluded_features_columns) > 0:\n",
    "    print(f\"Dropping features: {excluded_features_columns}\")\n",
    "    X_test.drop(excluded_features_columns, axis=1, inplace=True)"
   ]
  },
  {
   "cell_type": "code",
   "execution_count": 24,
   "id": "1853aaf5-fb9f-46cb-a2b5-8ea4ae2237e4",
   "metadata": {
    "execution": {
     "iopub.execute_input": "2025-08-06T17:58:07.803537Z",
     "iopub.status.busy": "2025-08-06T17:58:07.803059Z",
     "iopub.status.idle": "2025-08-06T17:58:07.857985Z",
     "shell.execute_reply": "2025-08-06T17:58:07.856825Z"
    },
    "papermill": {
     "duration": 0.069389,
     "end_time": "2025-08-06T17:58:07.859743",
     "exception": false,
     "start_time": "2025-08-06T17:58:07.790354",
     "status": "completed"
    },
    "tags": []
   },
   "outputs": [
    {
     "name": "stdout",
     "output_type": "stream",
     "text": [
      "Dropping features: ['maxdeutsch1', 'maxdeutsch.Missing.']\n"
     ]
    }
   ],
   "source": [
    "if len(excluded_features_columns) > 0:\n",
    "    print(f\"Dropping features: {excluded_features_columns}\")\n",
    "    X_calib.drop(excluded_features_columns, axis=1, inplace=True)"
   ]
  },
  {
   "cell_type": "code",
   "execution_count": 25,
   "id": "76c4dc6d",
   "metadata": {
    "execution": {
     "iopub.execute_input": "2025-08-06T17:58:07.905864Z",
     "iopub.status.busy": "2025-08-06T17:58:07.904916Z",
     "iopub.status.idle": "2025-08-06T17:58:07.910725Z",
     "shell.execute_reply": "2025-08-06T17:58:07.909674Z"
    },
    "papermill": {
     "duration": 0.030912,
     "end_time": "2025-08-06T17:58:07.912461",
     "exception": false,
     "start_time": "2025-08-06T17:58:07.881549",
     "status": "completed"
    },
    "tags": []
   },
   "outputs": [],
   "source": [
    "# EXCLUDE CERTAIN SUBGROUPS\n",
    "# -------------------------\n",
    "\n",
    "mode = universe.get(\"exclude_subgroups\", \"keep-all\") # Defaults to \"keep-all\" if the key is missing."
   ]
  },
  {
   "cell_type": "code",
   "execution_count": 26,
   "id": "21994072",
   "metadata": {
    "execution": {
     "iopub.execute_input": "2025-08-06T17:58:07.961881Z",
     "iopub.status.busy": "2025-08-06T17:58:07.960961Z",
     "iopub.status.idle": "2025-08-06T17:58:07.968087Z",
     "shell.execute_reply": "2025-08-06T17:58:07.967108Z"
    },
    "papermill": {
     "duration": 0.037059,
     "end_time": "2025-08-06T17:58:07.970077",
     "exception": false,
     "start_time": "2025-08-06T17:58:07.933018",
     "status": "completed"
    },
    "tags": []
   },
   "outputs": [],
   "source": [
    "if mode == \"keep-all\":\n",
    "    keep_mask = pd.Series(True, index=org_train.index)\n",
    "\n",
    "elif mode == \"drop-non-german\":\n",
    "    keep_mask = (org_train[\"maxdeutsch1\"] == 1) & (org_train[\"maxdeutsch.Missing.\"] == 0)\n",
    "\n",
    "else:\n",
    "    raise ValueError(f\"Unsupported mode for exclude_subgroups: {mode}\")"
   ]
  },
  {
   "cell_type": "code",
   "execution_count": 27,
   "id": "71651440",
   "metadata": {
    "execution": {
     "iopub.execute_input": "2025-08-06T17:58:08.009217Z",
     "iopub.status.busy": "2025-08-06T17:58:08.008727Z",
     "iopub.status.idle": "2025-08-06T17:58:08.016241Z",
     "shell.execute_reply": "2025-08-06T17:58:08.015233Z"
    },
    "papermill": {
     "duration": 0.028837,
     "end_time": "2025-08-06T17:58:08.017763",
     "exception": false,
     "start_time": "2025-08-06T17:58:07.988926",
     "status": "completed"
    },
    "tags": []
   },
   "outputs": [
    {
     "name": "stdout",
     "output_type": "stream",
     "text": [
      "Dropping 147 rows (14.70%) where mode='drop-non-german'\n"
     ]
    }
   ],
   "source": [
    "n_drop = (~keep_mask).sum() # Calculates how many rows are set to be dropped\n",
    "if n_drop > 0:\n",
    "    pct = n_drop / len(keep_mask) * 100\n",
    "    print(f\"Dropping {n_drop} rows ({pct:.2f}%) where mode='{mode}'\")"
   ]
  },
  {
   "cell_type": "code",
   "execution_count": 28,
   "id": "5fb8eee5",
   "metadata": {
    "execution": {
     "iopub.execute_input": "2025-08-06T17:58:08.057243Z",
     "iopub.status.busy": "2025-08-06T17:58:08.056764Z",
     "iopub.status.idle": "2025-08-06T17:58:08.062881Z",
     "shell.execute_reply": "2025-08-06T17:58:08.061862Z"
    },
    "papermill": {
     "duration": 0.027526,
     "end_time": "2025-08-06T17:58:08.064472",
     "exception": false,
     "start_time": "2025-08-06T17:58:08.036946",
     "status": "completed"
    },
    "tags": []
   },
   "outputs": [],
   "source": [
    "X_train = X_train[keep_mask]"
   ]
  },
  {
   "cell_type": "code",
   "execution_count": 29,
   "id": "b202bb3a",
   "metadata": {
    "execution": {
     "iopub.execute_input": "2025-08-06T17:58:08.104597Z",
     "iopub.status.busy": "2025-08-06T17:58:08.103635Z",
     "iopub.status.idle": "2025-08-06T17:58:08.110258Z",
     "shell.execute_reply": "2025-08-06T17:58:08.109276Z"
    },
    "papermill": {
     "duration": 0.028399,
     "end_time": "2025-08-06T17:58:08.111970",
     "exception": false,
     "start_time": "2025-08-06T17:58:08.083571",
     "status": "completed"
    },
    "tags": []
   },
   "outputs": [],
   "source": [
    "y_train = y_train[keep_mask]"
   ]
  },
  {
   "cell_type": "markdown",
   "id": "493e2ac3",
   "metadata": {
    "papermill": {
     "duration": 0.017596,
     "end_time": "2025-08-06T17:58:08.148574",
     "exception": false,
     "start_time": "2025-08-06T17:58:08.130978",
     "status": "completed"
    },
    "tags": []
   },
   "source": [
    "# Model Training"
   ]
  },
  {
   "cell_type": "code",
   "execution_count": 30,
   "id": "679e1268",
   "metadata": {
    "execution": {
     "iopub.execute_input": "2025-08-06T17:58:08.187145Z",
     "iopub.status.busy": "2025-08-06T17:58:08.186637Z",
     "iopub.status.idle": "2025-08-06T17:58:08.309649Z",
     "shell.execute_reply": "2025-08-06T17:58:08.308698Z"
    },
    "papermill": {
     "duration": 0.145417,
     "end_time": "2025-08-06T17:58:08.311932",
     "exception": false,
     "start_time": "2025-08-06T17:58:08.166515",
     "status": "completed"
    },
    "tags": []
   },
   "outputs": [],
   "source": [
    "from sklearn.linear_model import LogisticRegression\n",
    "from sklearn.ensemble import GradientBoostingClassifier, RandomForestClassifier\n",
    "\n",
    "if (universe[\"model\"] == \"logreg\"):\n",
    "    model = LogisticRegression() #penalty=\"none\", solver=\"newton-cg\", max_iter=1)\n",
    "elif (universe[\"model\"] == \"penalized_logreg\"):\n",
    "    model = LogisticRegression(penalty=\"l2\", C=0.1) #, solver=\"newton-cg\", max_iter=1)\n",
    "elif (universe[\"model\"] == \"rf\"):\n",
    "    model = RandomForestClassifier() # n_estimators=100, n_jobs=-1\n",
    "elif (universe[\"model\"] == \"gbm\"):\n",
    "    model = GradientBoostingClassifier()\n",
    "elif (universe[\"model\"] == \"elasticnet\"):\n",
    "    model = LogisticRegression(penalty = 'elasticnet', solver = 'saga', l1_ratio = 0.5) # max_iter=5000\n",
    "else:\n",
    "    raise \"Unsupported universe.model\""
   ]
  },
  {
   "cell_type": "code",
   "execution_count": 31,
   "id": "0cc8f744",
   "metadata": {
    "execution": {
     "iopub.execute_input": "2025-08-06T17:58:08.369184Z",
     "iopub.status.busy": "2025-08-06T17:58:08.368530Z",
     "iopub.status.idle": "2025-08-06T17:58:08.374874Z",
     "shell.execute_reply": "2025-08-06T17:58:08.373977Z"
    },
    "papermill": {
     "duration": 0.0295,
     "end_time": "2025-08-06T17:58:08.376465",
     "exception": false,
     "start_time": "2025-08-06T17:58:08.346965",
     "status": "completed"
    },
    "tags": []
   },
   "outputs": [],
   "source": [
    "from sklearn.pipeline import Pipeline\n",
    "from sklearn.preprocessing import StandardScaler\n",
    "\n",
    "model = Pipeline([\n",
    "    #(\"continuous_processor\", continuous_processor),\n",
    "    #(\"categorical_preprocessor\", categorical_preprocessor),\n",
    "    (\"scale\", StandardScaler() if universe[\"scale\"] == \"scale\" else None), \n",
    "    (\"model\", model),\n",
    "])"
   ]
  },
  {
   "cell_type": "code",
   "execution_count": 32,
   "id": "9442c04d",
   "metadata": {
    "execution": {
     "iopub.execute_input": "2025-08-06T17:58:08.415144Z",
     "iopub.status.busy": "2025-08-06T17:58:08.414671Z",
     "iopub.status.idle": "2025-08-06T17:58:08.760698Z",
     "shell.execute_reply": "2025-08-06T17:58:08.759768Z"
    },
    "papermill": {
     "duration": 0.367134,
     "end_time": "2025-08-06T17:58:08.762213",
     "exception": false,
     "start_time": "2025-08-06T17:58:08.395079",
     "status": "completed"
    },
    "tags": []
   },
   "outputs": [
    {
     "data": {
      "text/html": [
       "<style>#sk-container-id-1 {color: black;background-color: white;}#sk-container-id-1 pre{padding: 0;}#sk-container-id-1 div.sk-toggleable {background-color: white;}#sk-container-id-1 label.sk-toggleable__label {cursor: pointer;display: block;width: 100%;margin-bottom: 0;padding: 0.3em;box-sizing: border-box;text-align: center;}#sk-container-id-1 label.sk-toggleable__label-arrow:before {content: \"▸\";float: left;margin-right: 0.25em;color: #696969;}#sk-container-id-1 label.sk-toggleable__label-arrow:hover:before {color: black;}#sk-container-id-1 div.sk-estimator:hover label.sk-toggleable__label-arrow:before {color: black;}#sk-container-id-1 div.sk-toggleable__content {max-height: 0;max-width: 0;overflow: hidden;text-align: left;background-color: #f0f8ff;}#sk-container-id-1 div.sk-toggleable__content pre {margin: 0.2em;color: black;border-radius: 0.25em;background-color: #f0f8ff;}#sk-container-id-1 input.sk-toggleable__control:checked~div.sk-toggleable__content {max-height: 200px;max-width: 100%;overflow: auto;}#sk-container-id-1 input.sk-toggleable__control:checked~label.sk-toggleable__label-arrow:before {content: \"▾\";}#sk-container-id-1 div.sk-estimator input.sk-toggleable__control:checked~label.sk-toggleable__label {background-color: #d4ebff;}#sk-container-id-1 div.sk-label input.sk-toggleable__control:checked~label.sk-toggleable__label {background-color: #d4ebff;}#sk-container-id-1 input.sk-hidden--visually {border: 0;clip: rect(1px 1px 1px 1px);clip: rect(1px, 1px, 1px, 1px);height: 1px;margin: -1px;overflow: hidden;padding: 0;position: absolute;width: 1px;}#sk-container-id-1 div.sk-estimator {font-family: monospace;background-color: #f0f8ff;border: 1px dotted black;border-radius: 0.25em;box-sizing: border-box;margin-bottom: 0.5em;}#sk-container-id-1 div.sk-estimator:hover {background-color: #d4ebff;}#sk-container-id-1 div.sk-parallel-item::after {content: \"\";width: 100%;border-bottom: 1px solid gray;flex-grow: 1;}#sk-container-id-1 div.sk-label:hover label.sk-toggleable__label {background-color: #d4ebff;}#sk-container-id-1 div.sk-serial::before {content: \"\";position: absolute;border-left: 1px solid gray;box-sizing: border-box;top: 0;bottom: 0;left: 50%;z-index: 0;}#sk-container-id-1 div.sk-serial {display: flex;flex-direction: column;align-items: center;background-color: white;padding-right: 0.2em;padding-left: 0.2em;position: relative;}#sk-container-id-1 div.sk-item {position: relative;z-index: 1;}#sk-container-id-1 div.sk-parallel {display: flex;align-items: stretch;justify-content: center;background-color: white;position: relative;}#sk-container-id-1 div.sk-item::before, #sk-container-id-1 div.sk-parallel-item::before {content: \"\";position: absolute;border-left: 1px solid gray;box-sizing: border-box;top: 0;bottom: 0;left: 50%;z-index: -1;}#sk-container-id-1 div.sk-parallel-item {display: flex;flex-direction: column;z-index: 1;position: relative;background-color: white;}#sk-container-id-1 div.sk-parallel-item:first-child::after {align-self: flex-end;width: 50%;}#sk-container-id-1 div.sk-parallel-item:last-child::after {align-self: flex-start;width: 50%;}#sk-container-id-1 div.sk-parallel-item:only-child::after {width: 0;}#sk-container-id-1 div.sk-dashed-wrapped {border: 1px dashed gray;margin: 0 0.4em 0.5em 0.4em;box-sizing: border-box;padding-bottom: 0.4em;background-color: white;}#sk-container-id-1 div.sk-label label {font-family: monospace;font-weight: bold;display: inline-block;line-height: 1.2em;}#sk-container-id-1 div.sk-label-container {text-align: center;}#sk-container-id-1 div.sk-container {/* jupyter's `normalize.less` sets `[hidden] { display: none; }` but bootstrap.min.css set `[hidden] { display: none !important; }` so we also need the `!important` here to be able to override the default hidden behavior on the sphinx rendered scikit-learn.org. See: https://github.com/scikit-learn/scikit-learn/issues/21755 */display: inline-block !important;position: relative;}#sk-container-id-1 div.sk-text-repr-fallback {display: none;}</style><div id=\"sk-container-id-1\" class=\"sk-top-container\"><div class=\"sk-text-repr-fallback\"><pre>Pipeline(steps=[(&#x27;scale&#x27;, StandardScaler()),\n",
       "                (&#x27;model&#x27;, RandomForestClassifier())])</pre><b>In a Jupyter environment, please rerun this cell to show the HTML representation or trust the notebook. <br />On GitHub, the HTML representation is unable to render, please try loading this page with nbviewer.org.</b></div><div class=\"sk-container\" hidden><div class=\"sk-item sk-dashed-wrapped\"><div class=\"sk-label-container\"><div class=\"sk-label sk-toggleable\"><input class=\"sk-toggleable__control sk-hidden--visually\" id=\"sk-estimator-id-1\" type=\"checkbox\" ><label for=\"sk-estimator-id-1\" class=\"sk-toggleable__label sk-toggleable__label-arrow\">Pipeline</label><div class=\"sk-toggleable__content\"><pre>Pipeline(steps=[(&#x27;scale&#x27;, StandardScaler()),\n",
       "                (&#x27;model&#x27;, RandomForestClassifier())])</pre></div></div></div><div class=\"sk-serial\"><div class=\"sk-item\"><div class=\"sk-estimator sk-toggleable\"><input class=\"sk-toggleable__control sk-hidden--visually\" id=\"sk-estimator-id-2\" type=\"checkbox\" ><label for=\"sk-estimator-id-2\" class=\"sk-toggleable__label sk-toggleable__label-arrow\">StandardScaler</label><div class=\"sk-toggleable__content\"><pre>StandardScaler()</pre></div></div></div><div class=\"sk-item\"><div class=\"sk-estimator sk-toggleable\"><input class=\"sk-toggleable__control sk-hidden--visually\" id=\"sk-estimator-id-3\" type=\"checkbox\" ><label for=\"sk-estimator-id-3\" class=\"sk-toggleable__label sk-toggleable__label-arrow\">RandomForestClassifier</label><div class=\"sk-toggleable__content\"><pre>RandomForestClassifier()</pre></div></div></div></div></div></div></div>"
      ],
      "text/plain": [
       "Pipeline(steps=[('scale', StandardScaler()),\n",
       "                ('model', RandomForestClassifier())])"
      ]
     },
     "execution_count": 32,
     "metadata": {},
     "output_type": "execute_result"
    }
   ],
   "source": [
    "model.fit(X_train, y_train.values.ravel())"
   ]
  },
  {
   "cell_type": "code",
   "execution_count": 33,
   "id": "a7cf2e16",
   "metadata": {
    "execution": {
     "iopub.execute_input": "2025-08-06T17:58:08.802408Z",
     "iopub.status.busy": "2025-08-06T17:58:08.801955Z",
     "iopub.status.idle": "2025-08-06T17:58:10.389174Z",
     "shell.execute_reply": "2025-08-06T17:58:10.388221Z"
    },
    "papermill": {
     "duration": 1.60916,
     "end_time": "2025-08-06T17:58:10.390782",
     "exception": false,
     "start_time": "2025-08-06T17:58:08.781622",
     "status": "completed"
    },
    "tags": []
   },
   "outputs": [
    {
     "data": {
      "text/plain": [
       "0.8577416118604392"
      ]
     },
     "execution_count": 33,
     "metadata": {},
     "output_type": "execute_result"
    }
   ],
   "source": [
    "from fairness_multiverse.universe import predict_w_threshold\n",
    "\n",
    "probs_test = model.predict_proba(X_test)\n",
    "\n",
    "'''\n",
    "Below code returns a boolean array (or binary 0/1 array depending on how it’s used) where each element \n",
    "is True if the probability of class 1 is greater than or equal to the threshold, and False otherwise.\n",
    "'''\n",
    "y_pred_default = predict_w_threshold(probs_test, 0.5)\n",
    "\n",
    "from sklearn.metrics import accuracy_score\n",
    "\n",
    "# Naive prediction\n",
    "accuracy_score(y_true = y_true, y_pred = y_pred_default)"
   ]
  },
  {
   "cell_type": "code",
   "execution_count": 34,
   "id": "081964c3",
   "metadata": {
    "execution": {
     "iopub.execute_input": "2025-08-06T17:58:10.434150Z",
     "iopub.status.busy": "2025-08-06T17:58:10.433690Z",
     "iopub.status.idle": "2025-08-06T17:58:12.184073Z",
     "shell.execute_reply": "2025-08-06T17:58:12.182939Z"
    },
    "papermill": {
     "duration": 1.775851,
     "end_time": "2025-08-06T17:58:12.185990",
     "exception": false,
     "start_time": "2025-08-06T17:58:10.410139",
     "status": "completed"
    },
    "tags": []
   },
   "outputs": [
    {
     "data": {
      "text/plain": [
       "array([0, 0, 0, ..., 0, 0, 0])"
      ]
     },
     "execution_count": 34,
     "metadata": {},
     "output_type": "execute_result"
    }
   ],
   "source": [
    "model.predict(X_test)"
   ]
  },
  {
   "cell_type": "markdown",
   "id": "56c9705b",
   "metadata": {
    "papermill": {
     "duration": 0.024815,
     "end_time": "2025-08-06T17:58:12.236098",
     "exception": false,
     "start_time": "2025-08-06T17:58:12.211283",
     "status": "completed"
    },
    "tags": []
   },
   "source": [
    "# Conformal Prediction"
   ]
  },
  {
   "cell_type": "code",
   "execution_count": 35,
   "id": "160ec6ff",
   "metadata": {
    "execution": {
     "iopub.execute_input": "2025-08-06T17:58:12.287569Z",
     "iopub.status.busy": "2025-08-06T17:58:12.286906Z",
     "iopub.status.idle": "2025-08-06T17:58:12.292618Z",
     "shell.execute_reply": "2025-08-06T17:58:12.291613Z"
    },
    "papermill": {
     "duration": 0.033237,
     "end_time": "2025-08-06T17:58:12.294425",
     "exception": false,
     "start_time": "2025-08-06T17:58:12.261188",
     "status": "completed"
    },
    "tags": []
   },
   "outputs": [],
   "source": [
    "# Miscoverage level for conformal prediction (10% allowed error rate => 90% target coverage)\n",
    "alpha = 0.1"
   ]
  },
  {
   "cell_type": "code",
   "execution_count": 36,
   "id": "eadf4555-3dd3-440e-8e35-f82a4ad9f855",
   "metadata": {
    "execution": {
     "iopub.execute_input": "2025-08-06T17:58:12.346498Z",
     "iopub.status.busy": "2025-08-06T17:58:12.345527Z",
     "iopub.status.idle": "2025-08-06T17:58:13.979595Z",
     "shell.execute_reply": "2025-08-06T17:58:13.978447Z"
    },
    "papermill": {
     "duration": 1.661579,
     "end_time": "2025-08-06T17:58:13.981560",
     "exception": false,
     "start_time": "2025-08-06T17:58:12.319981",
     "status": "completed"
    },
    "tags": []
   },
   "outputs": [],
   "source": [
    "probs_calib = model.predict_proba(X_calib)"
   ]
  },
  {
   "cell_type": "code",
   "execution_count": 37,
   "id": "2ed93547-6d5d-4983-9b36-1ecb300da49a",
   "metadata": {
    "execution": {
     "iopub.execute_input": "2025-08-06T17:58:14.027186Z",
     "iopub.status.busy": "2025-08-06T17:58:14.026235Z",
     "iopub.status.idle": "2025-08-06T17:58:14.032398Z",
     "shell.execute_reply": "2025-08-06T17:58:14.031277Z"
    },
    "papermill": {
     "duration": 0.030547,
     "end_time": "2025-08-06T17:58:14.034148",
     "exception": false,
     "start_time": "2025-08-06T17:58:14.003601",
     "status": "completed"
    },
    "tags": []
   },
   "outputs": [],
   "source": [
    "y_calib = y_calib.values.ravel().astype(int)"
   ]
  },
  {
   "cell_type": "code",
   "execution_count": 38,
   "id": "65d1320d-f588-4b38-9072-62af1ae97f7d",
   "metadata": {
    "execution": {
     "iopub.execute_input": "2025-08-06T17:58:14.079506Z",
     "iopub.status.busy": "2025-08-06T17:58:14.078773Z",
     "iopub.status.idle": "2025-08-06T17:58:14.086577Z",
     "shell.execute_reply": "2025-08-06T17:58:14.085607Z"
    },
    "papermill": {
     "duration": 0.032215,
     "end_time": "2025-08-06T17:58:14.088417",
     "exception": false,
     "start_time": "2025-08-06T17:58:14.056202",
     "status": "completed"
    },
    "tags": []
   },
   "outputs": [],
   "source": [
    "from fairness_multiverse.conformal import compute_nc_scores\n",
    "\n",
    "# Compute nonconformity scores on calibration set (1 - probability of true class)\n",
    "nc_scores = compute_nc_scores(probs_calib, y_calib)"
   ]
  },
  {
   "cell_type": "code",
   "execution_count": 39,
   "id": "df3b8ca3-53b7-43d5-9667-7c85da7aeda2",
   "metadata": {
    "execution": {
     "iopub.execute_input": "2025-08-06T17:58:14.135813Z",
     "iopub.status.busy": "2025-08-06T17:58:14.133466Z",
     "iopub.status.idle": "2025-08-06T17:58:14.143260Z",
     "shell.execute_reply": "2025-08-06T17:58:14.142232Z"
    },
    "papermill": {
     "duration": 0.035336,
     "end_time": "2025-08-06T17:58:14.145563",
     "exception": false,
     "start_time": "2025-08-06T17:58:14.110227",
     "status": "completed"
    },
    "tags": []
   },
   "outputs": [],
   "source": [
    "from fairness_multiverse.conformal import find_threshold\n",
    "\n",
    "# Find conformal threshold q_hat for the given alpha (split conformal method)\n",
    "q_hat = find_threshold(nc_scores, alpha)"
   ]
  },
  {
   "cell_type": "code",
   "execution_count": 40,
   "id": "4d29e6c1-0ef6-4aa4-b8fe-4fe79b0d033a",
   "metadata": {
    "execution": {
     "iopub.execute_input": "2025-08-06T17:58:14.211648Z",
     "iopub.status.busy": "2025-08-06T17:58:14.210848Z",
     "iopub.status.idle": "2025-08-06T17:58:14.218937Z",
     "shell.execute_reply": "2025-08-06T17:58:14.217820Z"
    },
    "papermill": {
     "duration": 0.043376,
     "end_time": "2025-08-06T17:58:14.221269",
     "exception": false,
     "start_time": "2025-08-06T17:58:14.177893",
     "status": "completed"
    },
    "tags": []
   },
   "outputs": [
    {
     "data": {
      "text/plain": [
       "0.6699999999999999"
      ]
     },
     "execution_count": 40,
     "metadata": {},
     "output_type": "execute_result"
    }
   ],
   "source": [
    "q_hat"
   ]
  },
  {
   "cell_type": "code",
   "execution_count": 41,
   "id": "92460794-cdac-4be2-ba28-f28c0515a6fb",
   "metadata": {
    "execution": {
     "iopub.execute_input": "2025-08-06T17:58:14.282610Z",
     "iopub.status.busy": "2025-08-06T17:58:14.281904Z",
     "iopub.status.idle": "2025-08-06T17:58:17.050585Z",
     "shell.execute_reply": "2025-08-06T17:58:17.049468Z"
    },
    "papermill": {
     "duration": 2.799594,
     "end_time": "2025-08-06T17:58:17.052549",
     "exception": false,
     "start_time": "2025-08-06T17:58:14.252955",
     "status": "completed"
    },
    "tags": []
   },
   "outputs": [],
   "source": [
    "from fairness_multiverse.conformal import predict_conformal_sets\n",
    "\n",
    "# Generate prediction sets for each test example\n",
    "pred_sets = predict_conformal_sets(model, X_test, q_hat)"
   ]
  },
  {
   "cell_type": "code",
   "execution_count": 42,
   "id": "d90c9a65-e6db-4f5d-80cd-e68fb7e46829",
   "metadata": {
    "execution": {
     "iopub.execute_input": "2025-08-06T17:58:17.098728Z",
     "iopub.status.busy": "2025-08-06T17:58:17.098020Z",
     "iopub.status.idle": "2025-08-06T17:58:17.104392Z",
     "shell.execute_reply": "2025-08-06T17:58:17.103239Z"
    },
    "papermill": {
     "duration": 0.030658,
     "end_time": "2025-08-06T17:58:17.106526",
     "exception": false,
     "start_time": "2025-08-06T17:58:17.075868",
     "status": "completed"
    },
    "tags": []
   },
   "outputs": [],
   "source": [
    "y_true = y_true.squeeze()"
   ]
  },
  {
   "cell_type": "code",
   "execution_count": 43,
   "id": "3a58a54a-1e68-46b9-927a-df01f18aebc8",
   "metadata": {
    "execution": {
     "iopub.execute_input": "2025-08-06T17:58:17.171152Z",
     "iopub.status.busy": "2025-08-06T17:58:17.169938Z",
     "iopub.status.idle": "2025-08-06T17:58:18.183316Z",
     "shell.execute_reply": "2025-08-06T17:58:18.182569Z"
    },
    "papermill": {
     "duration": 1.047141,
     "end_time": "2025-08-06T17:58:18.184794",
     "exception": false,
     "start_time": "2025-08-06T17:58:17.137653",
     "status": "completed"
    },
    "tags": []
   },
   "outputs": [],
   "source": [
    "from fairness_multiverse.conformal import evaluate_sets\n",
    "\n",
    "# Evaluate coverage and average set size on test data\n",
    "metrics = evaluate_sets(pred_sets, y_true)"
   ]
  },
  {
   "cell_type": "markdown",
   "id": "2b569c12-9aaa-4c88-98c9-bbcd0cf3ebb8",
   "metadata": {
    "papermill": {
     "duration": 0.011596,
     "end_time": "2025-08-06T17:58:18.208371",
     "exception": false,
     "start_time": "2025-08-06T17:58:18.196775",
     "status": "completed"
    },
    "tags": []
   },
   "source": [
    "# CP Metrics"
   ]
  },
  {
   "cell_type": "code",
   "execution_count": 44,
   "id": "5ce0a5cb-201f-45a0-ade5-94c7f0bd6095",
   "metadata": {
    "execution": {
     "iopub.execute_input": "2025-08-06T17:58:18.233440Z",
     "iopub.status.busy": "2025-08-06T17:58:18.232938Z",
     "iopub.status.idle": "2025-08-06T17:58:18.239324Z",
     "shell.execute_reply": "2025-08-06T17:58:18.238621Z"
    },
    "papermill": {
     "duration": 0.020695,
     "end_time": "2025-08-06T17:58:18.240750",
     "exception": false,
     "start_time": "2025-08-06T17:58:18.220055",
     "status": "completed"
    },
    "tags": []
   },
   "outputs": [
    {
     "data": {
      "text/plain": [
       "{'coverage': 0.915605841043362, 'avg_size': 1.1836361609631034}"
      ]
     },
     "execution_count": 44,
     "metadata": {},
     "output_type": "execute_result"
    }
   ],
   "source": [
    "metrics"
   ]
  },
  {
   "cell_type": "code",
   "execution_count": 45,
   "id": "9b9a838d-31c9-430b-ae14-12baee460d17",
   "metadata": {
    "execution": {
     "iopub.execute_input": "2025-08-06T17:58:18.266090Z",
     "iopub.status.busy": "2025-08-06T17:58:18.265578Z",
     "iopub.status.idle": "2025-08-06T17:58:18.271048Z",
     "shell.execute_reply": "2025-08-06T17:58:18.270366Z"
    },
    "papermill": {
     "duration": 0.019581,
     "end_time": "2025-08-06T17:58:18.272446",
     "exception": false,
     "start_time": "2025-08-06T17:58:18.252865",
     "status": "completed"
    },
    "tags": []
   },
   "outputs": [],
   "source": [
    "example_universe = universe.copy()\n",
    "universe_training_year = example_universe.get(\"training_year\")\n",
    "universe_training_size = example_universe.get(\"training_size\")\n",
    "universe_scale = example_universe.get(\"scale\")\n",
    "universe_model = example_universe.get(\"model\")\n",
    "universe_exclude_features = example_universe.get(\"exclude_features\")\n",
    "universe_exclude_subgroups = example_universe.get(\"exclude_subgroups\")"
   ]
  },
  {
   "cell_type": "code",
   "execution_count": 46,
   "id": "f4b6a8ac-9dc0-4245-8a91-5b3b5999c4f9",
   "metadata": {
    "execution": {
     "iopub.execute_input": "2025-08-06T17:58:18.298307Z",
     "iopub.status.busy": "2025-08-06T17:58:18.297794Z",
     "iopub.status.idle": "2025-08-06T17:58:18.302957Z",
     "shell.execute_reply": "2025-08-06T17:58:18.302109Z"
    },
    "papermill": {
     "duration": 0.019508,
     "end_time": "2025-08-06T17:58:18.304290",
     "exception": false,
     "start_time": "2025-08-06T17:58:18.284782",
     "status": "completed"
    },
    "tags": []
   },
   "outputs": [],
   "source": [
    "cp_metrics_dict = {\n",
    "    \"universe_id\": [universe_id],\n",
    "    \"universe_training_year\": [universe_training_year],\n",
    "    \"universe_training_size\": [universe_training_size],\n",
    "    \"universe_scale\": [universe_scale],\n",
    "    \"universe_model\": [universe_model],\n",
    "    \"universe_exclude_features\": [universe_exclude_features],\n",
    "    \"universe_exclude_subgroups\": [universe_exclude_subgroups],\n",
    "    \"q_hat\": [q_hat],\n",
    "    \"coverage\": [metrics[\"coverage\"]],\n",
    "    \"avg_size\": [metrics[\"avg_size\"]],\n",
    "}"
   ]
  },
  {
   "cell_type": "code",
   "execution_count": 47,
   "id": "33007efc-14e9-4ec6-97ac-56a455c82265",
   "metadata": {
    "execution": {
     "iopub.execute_input": "2025-08-06T17:58:18.352472Z",
     "iopub.status.busy": "2025-08-06T17:58:18.351977Z",
     "iopub.status.idle": "2025-08-06T17:58:18.358478Z",
     "shell.execute_reply": "2025-08-06T17:58:18.357431Z"
    },
    "papermill": {
     "duration": 0.032649,
     "end_time": "2025-08-06T17:58:18.359833",
     "exception": false,
     "start_time": "2025-08-06T17:58:18.327184",
     "status": "completed"
    },
    "tags": []
   },
   "outputs": [],
   "source": [
    "cp_metrics_df = pd.DataFrame(cp_metrics_dict)"
   ]
  },
  {
   "cell_type": "code",
   "execution_count": 48,
   "id": "db12611b-57b2-4910-b9d0-355adfd6e7bf",
   "metadata": {
    "execution": {
     "iopub.execute_input": "2025-08-06T17:58:18.386232Z",
     "iopub.status.busy": "2025-08-06T17:58:18.385733Z",
     "iopub.status.idle": "2025-08-06T17:58:18.398149Z",
     "shell.execute_reply": "2025-08-06T17:58:18.397408Z"
    },
    "papermill": {
     "duration": 0.026701,
     "end_time": "2025-08-06T17:58:18.399527",
     "exception": false,
     "start_time": "2025-08-06T17:58:18.372826",
     "status": "completed"
    },
    "tags": []
   },
   "outputs": [
    {
     "data": {
      "text/html": [
       "<div>\n",
       "<style scoped>\n",
       "    .dataframe tbody tr th:only-of-type {\n",
       "        vertical-align: middle;\n",
       "    }\n",
       "\n",
       "    .dataframe tbody tr th {\n",
       "        vertical-align: top;\n",
       "    }\n",
       "\n",
       "    .dataframe thead th {\n",
       "        text-align: right;\n",
       "    }\n",
       "</style>\n",
       "<table border=\"1\" class=\"dataframe\">\n",
       "  <thead>\n",
       "    <tr style=\"text-align: right;\">\n",
       "      <th></th>\n",
       "      <th>universe_id</th>\n",
       "      <th>universe_training_year</th>\n",
       "      <th>universe_training_size</th>\n",
       "      <th>universe_scale</th>\n",
       "      <th>universe_model</th>\n",
       "      <th>universe_exclude_features</th>\n",
       "      <th>universe_exclude_subgroups</th>\n",
       "      <th>q_hat</th>\n",
       "      <th>coverage</th>\n",
       "      <th>avg_size</th>\n",
       "    </tr>\n",
       "  </thead>\n",
       "  <tbody>\n",
       "    <tr>\n",
       "      <th>0</th>\n",
       "      <td>c35306ff19e7d3d6941cf957d917b3c1</td>\n",
       "      <td>2012_14</td>\n",
       "      <td>1k</td>\n",
       "      <td>scale</td>\n",
       "      <td>rf</td>\n",
       "      <td>nationality</td>\n",
       "      <td>drop-non-german</td>\n",
       "      <td>0.67</td>\n",
       "      <td>0.915606</td>\n",
       "      <td>1.183636</td>\n",
       "    </tr>\n",
       "  </tbody>\n",
       "</table>\n",
       "</div>"
      ],
      "text/plain": [
       "                        universe_id universe_training_year  \\\n",
       "0  c35306ff19e7d3d6941cf957d917b3c1                2012_14   \n",
       "\n",
       "  universe_training_size universe_scale universe_model  \\\n",
       "0                     1k          scale             rf   \n",
       "\n",
       "  universe_exclude_features universe_exclude_subgroups  q_hat  coverage  \\\n",
       "0               nationality            drop-non-german   0.67  0.915606   \n",
       "\n",
       "   avg_size  \n",
       "0  1.183636  "
      ]
     },
     "execution_count": 48,
     "metadata": {},
     "output_type": "execute_result"
    }
   ],
   "source": [
    "cp_metrics_df"
   ]
  },
  {
   "cell_type": "markdown",
   "id": "c825ecb4-0d3d-41d6-b7c6-eccb21272259",
   "metadata": {
    "papermill": {
     "duration": 0.01183,
     "end_time": "2025-08-06T17:58:18.424287",
     "exception": false,
     "start_time": "2025-08-06T17:58:18.412457",
     "status": "completed"
    },
    "tags": []
   },
   "source": [
    "Conditional coverage & looking at subgroups"
   ]
  },
  {
   "cell_type": "code",
   "execution_count": 49,
   "id": "027ae886-68dd-4141-96c7-805a5450e1ef",
   "metadata": {
    "execution": {
     "iopub.execute_input": "2025-08-06T17:58:18.449474Z",
     "iopub.status.busy": "2025-08-06T17:58:18.448971Z",
     "iopub.status.idle": "2025-08-06T17:58:18.664241Z",
     "shell.execute_reply": "2025-08-06T17:58:18.663456Z"
    },
    "papermill": {
     "duration": 0.229448,
     "end_time": "2025-08-06T17:58:18.665625",
     "exception": false,
     "start_time": "2025-08-06T17:58:18.436177",
     "status": "completed"
    },
    "tags": []
   },
   "outputs": [],
   "source": [
    "from fairness_multiverse.conformal import build_cp_groups\n",
    "\n",
    "cp_groups_df = build_cp_groups(pred_sets, y_true, X_test.index, org_test)"
   ]
  },
  {
   "cell_type": "code",
   "execution_count": 50,
   "id": "6cbdab96-b2b2-45af-ad54-d0516db2e28d",
   "metadata": {
    "execution": {
     "iopub.execute_input": "2025-08-06T17:58:18.693328Z",
     "iopub.status.busy": "2025-08-06T17:58:18.692889Z",
     "iopub.status.idle": "2025-08-06T17:58:20.025119Z",
     "shell.execute_reply": "2025-08-06T17:58:20.024101Z"
    },
    "papermill": {
     "duration": 1.348923,
     "end_time": "2025-08-06T17:58:20.027009",
     "exception": false,
     "start_time": "2025-08-06T17:58:18.678086",
     "status": "completed"
    },
    "tags": []
   },
   "outputs": [],
   "source": [
    "# Define covered = 1 if true_label is in the predicted set\n",
    "cp_groups_df['covered'] = cp_groups_df.apply(\n",
    "    lambda r: int(r['true_label'] in r['pred_set']),\n",
    "    axis=1\n",
    ")"
   ]
  },
  {
   "cell_type": "code",
   "execution_count": 51,
   "id": "90032e27-66df-4540-9169-4e89cfbaa758",
   "metadata": {
    "execution": {
     "iopub.execute_input": "2025-08-06T17:58:20.094136Z",
     "iopub.status.busy": "2025-08-06T17:58:20.093669Z",
     "iopub.status.idle": "2025-08-06T17:58:20.105460Z",
     "shell.execute_reply": "2025-08-06T17:58:20.104426Z"
    },
    "papermill": {
     "duration": 0.037543,
     "end_time": "2025-08-06T17:58:20.107431",
     "exception": false,
     "start_time": "2025-08-06T17:58:20.069888",
     "status": "completed"
    },
    "tags": []
   },
   "outputs": [],
   "source": [
    "subgroups = ['frau1','nongerman','nongerman_male','nongerman_female']\n",
    "\n",
    "# Conditional coverage for subgroup==1\n",
    "cond_coverage = {\n",
    "    g: cp_groups_df.loc[cp_groups_df[g]==1, 'covered'].mean()\n",
    "    for g in subgroups\n",
    "}"
   ]
  },
  {
   "cell_type": "code",
   "execution_count": 52,
   "id": "1e348fb1-b9c3-45bc-ba23-f016827a7e0d",
   "metadata": {
    "execution": {
     "iopub.execute_input": "2025-08-06T17:58:20.163643Z",
     "iopub.status.busy": "2025-08-06T17:58:20.162889Z",
     "iopub.status.idle": "2025-08-06T17:58:20.170751Z",
     "shell.execute_reply": "2025-08-06T17:58:20.169799Z"
    },
    "papermill": {
     "duration": 0.041716,
     "end_time": "2025-08-06T17:58:20.172883",
     "exception": false,
     "start_time": "2025-08-06T17:58:20.131167",
     "status": "completed"
    },
    "tags": []
   },
   "outputs": [
    {
     "data": {
      "text/plain": [
       "{'frau1': 0.913627173473514,\n",
       " 'nongerman': 0.9136585639701341,\n",
       " 'nongerman_male': 0.9257858236512654,\n",
       " 'nongerman_female': 0.893591654247392}"
      ]
     },
     "execution_count": 52,
     "metadata": {},
     "output_type": "execute_result"
    }
   ],
   "source": [
    "cond_coverage"
   ]
  },
  {
   "cell_type": "code",
   "execution_count": 53,
   "id": "f5093324-c3dd-4d63-bc4c-8d945e5c8bbb",
   "metadata": {
    "execution": {
     "iopub.execute_input": "2025-08-06T17:58:20.237708Z",
     "iopub.status.busy": "2025-08-06T17:58:20.237231Z",
     "iopub.status.idle": "2025-08-06T17:58:20.245501Z",
     "shell.execute_reply": "2025-08-06T17:58:20.244220Z"
    },
    "papermill": {
     "duration": 0.043676,
     "end_time": "2025-08-06T17:58:20.248259",
     "exception": false,
     "start_time": "2025-08-06T17:58:20.204583",
     "status": "completed"
    },
    "tags": []
   },
   "outputs": [],
   "source": [
    "for subgroup, cov in cond_coverage.items():\n",
    "    cp_metrics_df[f\"cov_{subgroup}\"] = cov"
   ]
  },
  {
   "cell_type": "code",
   "execution_count": 54,
   "id": "6e872e10-dbe5-49e8-b554-5030c98ff75d",
   "metadata": {
    "execution": {
     "iopub.execute_input": "2025-08-06T17:58:20.308261Z",
     "iopub.status.busy": "2025-08-06T17:58:20.307793Z",
     "iopub.status.idle": "2025-08-06T17:58:20.326759Z",
     "shell.execute_reply": "2025-08-06T17:58:20.325803Z"
    },
    "papermill": {
     "duration": 0.050998,
     "end_time": "2025-08-06T17:58:20.328408",
     "exception": false,
     "start_time": "2025-08-06T17:58:20.277410",
     "status": "completed"
    },
    "tags": []
   },
   "outputs": [
    {
     "data": {
      "text/html": [
       "<div>\n",
       "<style scoped>\n",
       "    .dataframe tbody tr th:only-of-type {\n",
       "        vertical-align: middle;\n",
       "    }\n",
       "\n",
       "    .dataframe tbody tr th {\n",
       "        vertical-align: top;\n",
       "    }\n",
       "\n",
       "    .dataframe thead th {\n",
       "        text-align: right;\n",
       "    }\n",
       "</style>\n",
       "<table border=\"1\" class=\"dataframe\">\n",
       "  <thead>\n",
       "    <tr style=\"text-align: right;\">\n",
       "      <th></th>\n",
       "      <th>universe_id</th>\n",
       "      <th>universe_training_year</th>\n",
       "      <th>universe_training_size</th>\n",
       "      <th>universe_scale</th>\n",
       "      <th>universe_model</th>\n",
       "      <th>universe_exclude_features</th>\n",
       "      <th>universe_exclude_subgroups</th>\n",
       "      <th>q_hat</th>\n",
       "      <th>coverage</th>\n",
       "      <th>avg_size</th>\n",
       "      <th>cov_frau1</th>\n",
       "      <th>cov_nongerman</th>\n",
       "      <th>cov_nongerman_male</th>\n",
       "      <th>cov_nongerman_female</th>\n",
       "    </tr>\n",
       "  </thead>\n",
       "  <tbody>\n",
       "    <tr>\n",
       "      <th>0</th>\n",
       "      <td>c35306ff19e7d3d6941cf957d917b3c1</td>\n",
       "      <td>2012_14</td>\n",
       "      <td>1k</td>\n",
       "      <td>scale</td>\n",
       "      <td>rf</td>\n",
       "      <td>nationality</td>\n",
       "      <td>drop-non-german</td>\n",
       "      <td>0.67</td>\n",
       "      <td>0.915606</td>\n",
       "      <td>1.183636</td>\n",
       "      <td>0.913627</td>\n",
       "      <td>0.913659</td>\n",
       "      <td>0.925786</td>\n",
       "      <td>0.893592</td>\n",
       "    </tr>\n",
       "  </tbody>\n",
       "</table>\n",
       "</div>"
      ],
      "text/plain": [
       "                        universe_id universe_training_year  \\\n",
       "0  c35306ff19e7d3d6941cf957d917b3c1                2012_14   \n",
       "\n",
       "  universe_training_size universe_scale universe_model  \\\n",
       "0                     1k          scale             rf   \n",
       "\n",
       "  universe_exclude_features universe_exclude_subgroups  q_hat  coverage  \\\n",
       "0               nationality            drop-non-german   0.67  0.915606   \n",
       "\n",
       "   avg_size  cov_frau1  cov_nongerman  cov_nongerman_male  \\\n",
       "0  1.183636   0.913627       0.913659            0.925786   \n",
       "\n",
       "   cov_nongerman_female  \n",
       "0              0.893592  "
      ]
     },
     "execution_count": 54,
     "metadata": {},
     "output_type": "execute_result"
    }
   ],
   "source": [
    "cp_metrics_df"
   ]
  },
  {
   "cell_type": "markdown",
   "id": "33774451",
   "metadata": {
    "papermill": {
     "duration": 0.020747,
     "end_time": "2025-08-06T17:58:20.370426",
     "exception": false,
     "start_time": "2025-08-06T17:58:20.349679",
     "status": "completed"
    },
    "tags": []
   },
   "source": [
    "# (Fairness) Metrics"
   ]
  },
  {
   "cell_type": "code",
   "execution_count": 55,
   "id": "debc5d62",
   "metadata": {
    "execution": {
     "iopub.execute_input": "2025-08-06T17:58:20.413111Z",
     "iopub.status.busy": "2025-08-06T17:58:20.412461Z",
     "iopub.status.idle": "2025-08-06T17:58:20.431977Z",
     "shell.execute_reply": "2025-08-06T17:58:20.431159Z"
    },
    "papermill": {
     "duration": 0.042948,
     "end_time": "2025-08-06T17:58:20.433600",
     "exception": false,
     "start_time": "2025-08-06T17:58:20.390652",
     "status": "completed"
    },
    "tags": []
   },
   "outputs": [],
   "source": [
    "colname_to_bin = \"maxdeutsch1\"\n",
    "majority_value = org_train[colname_to_bin].mode()[0]\n",
    "\n",
    "org_test[\"majmin\"] = np.where(org_test[colname_to_bin] == majority_value, \"majority\", \"minority\")"
   ]
  },
  {
   "cell_type": "code",
   "execution_count": 56,
   "id": "06a50de5",
   "metadata": {
    "execution": {
     "iopub.execute_input": "2025-08-06T17:58:20.477269Z",
     "iopub.status.busy": "2025-08-06T17:58:20.476623Z",
     "iopub.status.idle": "2025-08-06T17:58:23.327997Z",
     "shell.execute_reply": "2025-08-06T17:58:23.327076Z"
    },
    "papermill": {
     "duration": 2.875393,
     "end_time": "2025-08-06T17:58:23.330097",
     "exception": false,
     "start_time": "2025-08-06T17:58:20.454704",
     "status": "completed"
    },
    "tags": []
   },
   "outputs": [],
   "source": [
    "example_universe = universe.copy()\n",
    "example_universe[\"cutoff\"] = example_universe[\"cutoff\"][0]\n",
    "example_universe[\"eval_fairness_grouping\"] = example_universe[\"eval_fairness_grouping\"][0]\n",
    "fairness_dict, metric_frame = universe_analysis.compute_metrics(\n",
    "    example_universe,\n",
    "    y_pred_prob=probs_test,\n",
    "    y_test=y_true,\n",
    "    org_test=org_test,\n",
    ")"
   ]
  },
  {
   "cell_type": "markdown",
   "id": "f95d4e02",
   "metadata": {
    "papermill": {
     "duration": 0.023482,
     "end_time": "2025-08-06T17:58:23.379249",
     "exception": false,
     "start_time": "2025-08-06T17:58:23.355767",
     "status": "completed"
    },
    "tags": []
   },
   "source": [
    "# Overall"
   ]
  },
  {
   "cell_type": "markdown",
   "id": "bdee4871",
   "metadata": {
    "papermill": {
     "duration": 0.023936,
     "end_time": "2025-08-06T17:58:23.425829",
     "exception": false,
     "start_time": "2025-08-06T17:58:23.401893",
     "status": "completed"
    },
    "tags": []
   },
   "source": [
    "Main fairness target: Equalized Odds. Seems to be a better fit than equal opportunity, since we're not only interested in Y = 1. Seems to be a better fit than demographic parity, since we also care about accuracy, not just equal distribution of preds.\n",
    "\n",
    "Pick column for computation of fairness metrics\n",
    "\n",
    "Performance\n",
    "Overall performance measures, most interesting in relation to the measures split by group below"
   ]
  },
  {
   "cell_type": "code",
   "execution_count": 57,
   "id": "c4e067c6",
   "metadata": {
    "execution": {
     "iopub.execute_input": "2025-08-06T17:58:23.463404Z",
     "iopub.status.busy": "2025-08-06T17:58:23.462705Z",
     "iopub.status.idle": "2025-08-06T17:58:23.469611Z",
     "shell.execute_reply": "2025-08-06T17:58:23.468840Z"
    },
    "papermill": {
     "duration": 0.022449,
     "end_time": "2025-08-06T17:58:23.471039",
     "exception": false,
     "start_time": "2025-08-06T17:58:23.448590",
     "status": "completed"
    },
    "tags": []
   },
   "outputs": [
    {
     "data": {
      "text/plain": [
       "accuracy                   0.209798\n",
       "balanced accuracy          0.540384\n",
       "f1                         0.242323\n",
       "precision                  0.138155\n",
       "false positive rate        0.904286\n",
       "false negative rate        0.014946\n",
       "selection rate             0.914647\n",
       "count                  89710.000000\n",
       "dtype: float64"
      ]
     },
     "execution_count": 57,
     "metadata": {},
     "output_type": "execute_result"
    }
   ],
   "source": [
    "metric_frame.overall"
   ]
  },
  {
   "cell_type": "markdown",
   "id": "e968fe9d",
   "metadata": {
    "papermill": {
     "duration": 0.012928,
     "end_time": "2025-08-06T17:58:23.497089",
     "exception": false,
     "start_time": "2025-08-06T17:58:23.484161",
     "status": "completed"
    },
    "tags": []
   },
   "source": [
    "By Group"
   ]
  },
  {
   "cell_type": "code",
   "execution_count": 58,
   "id": "ec325bce",
   "metadata": {
    "execution": {
     "iopub.execute_input": "2025-08-06T17:58:23.522589Z",
     "iopub.status.busy": "2025-08-06T17:58:23.522076Z",
     "iopub.status.idle": "2025-08-06T17:58:23.534002Z",
     "shell.execute_reply": "2025-08-06T17:58:23.533233Z"
    },
    "papermill": {
     "duration": 0.026134,
     "end_time": "2025-08-06T17:58:23.535308",
     "exception": false,
     "start_time": "2025-08-06T17:58:23.509174",
     "status": "completed"
    },
    "tags": []
   },
   "outputs": [
    {
     "data": {
      "text/html": [
       "<div>\n",
       "<style scoped>\n",
       "    .dataframe tbody tr th:only-of-type {\n",
       "        vertical-align: middle;\n",
       "    }\n",
       "\n",
       "    .dataframe tbody tr th {\n",
       "        vertical-align: top;\n",
       "    }\n",
       "\n",
       "    .dataframe thead th {\n",
       "        text-align: right;\n",
       "    }\n",
       "</style>\n",
       "<table border=\"1\" class=\"dataframe\">\n",
       "  <thead>\n",
       "    <tr style=\"text-align: right;\">\n",
       "      <th></th>\n",
       "      <th>accuracy</th>\n",
       "      <th>balanced accuracy</th>\n",
       "      <th>f1</th>\n",
       "      <th>precision</th>\n",
       "      <th>false positive rate</th>\n",
       "      <th>false negative rate</th>\n",
       "      <th>selection rate</th>\n",
       "      <th>count</th>\n",
       "    </tr>\n",
       "    <tr>\n",
       "      <th>majmin</th>\n",
       "      <th></th>\n",
       "      <th></th>\n",
       "      <th></th>\n",
       "      <th></th>\n",
       "      <th></th>\n",
       "      <th></th>\n",
       "      <th></th>\n",
       "      <th></th>\n",
       "    </tr>\n",
       "  </thead>\n",
       "  <tbody>\n",
       "    <tr>\n",
       "      <th>majority</th>\n",
       "      <td>0.222409</td>\n",
       "      <td>0.546025</td>\n",
       "      <td>0.250975</td>\n",
       "      <td>0.143789</td>\n",
       "      <td>0.893836</td>\n",
       "      <td>0.014114</td>\n",
       "      <td>0.906000</td>\n",
       "      <td>69170.0</td>\n",
       "    </tr>\n",
       "    <tr>\n",
       "      <th>minority</th>\n",
       "      <td>0.167332</td>\n",
       "      <td>0.521517</td>\n",
       "      <td>0.213764</td>\n",
       "      <td>0.119938</td>\n",
       "      <td>0.938807</td>\n",
       "      <td>0.018159</td>\n",
       "      <td>0.943768</td>\n",
       "      <td>20540.0</td>\n",
       "    </tr>\n",
       "  </tbody>\n",
       "</table>\n",
       "</div>"
      ],
      "text/plain": [
       "          accuracy  balanced accuracy        f1  precision  \\\n",
       "majmin                                                       \n",
       "majority  0.222409           0.546025  0.250975   0.143789   \n",
       "minority  0.167332           0.521517  0.213764   0.119938   \n",
       "\n",
       "          false positive rate  false negative rate  selection rate    count  \n",
       "majmin                                                                       \n",
       "majority             0.893836             0.014114        0.906000  69170.0  \n",
       "minority             0.938807             0.018159        0.943768  20540.0  "
      ]
     },
     "execution_count": 58,
     "metadata": {},
     "output_type": "execute_result"
    }
   ],
   "source": [
    "metric_frame.by_group"
   ]
  },
  {
   "cell_type": "code",
   "execution_count": 59,
   "id": "a9ddbe63",
   "metadata": {
    "execution": {
     "iopub.execute_input": "2025-08-06T17:58:23.561468Z",
     "iopub.status.busy": "2025-08-06T17:58:23.560964Z",
     "iopub.status.idle": "2025-08-06T17:58:25.640458Z",
     "shell.execute_reply": "2025-08-06T17:58:25.639492Z"
    },
    "papermill": {
     "duration": 2.094017,
     "end_time": "2025-08-06T17:58:25.642132",
     "exception": false,
     "start_time": "2025-08-06T17:58:23.548115",
     "status": "completed"
    },
    "tags": []
   },
   "outputs": [
    {
     "data": {
      "text/plain": [
       "array([[<Axes: title={'center': 'accuracy'}, xlabel='majmin'>,\n",
       "        <Axes: title={'center': 'balanced accuracy'}, xlabel='majmin'>,\n",
       "        <Axes: title={'center': 'f1'}, xlabel='majmin'>],\n",
       "       [<Axes: title={'center': 'precision'}, xlabel='majmin'>,\n",
       "        <Axes: title={'center': 'false positive rate'}, xlabel='majmin'>,\n",
       "        <Axes: title={'center': 'false negative rate'}, xlabel='majmin'>],\n",
       "       [<Axes: title={'center': 'selection rate'}, xlabel='majmin'>,\n",
       "        <Axes: title={'center': 'count'}, xlabel='majmin'>,\n",
       "        <Axes: xlabel='majmin'>]], dtype=object)"
      ]
     },
     "execution_count": 59,
     "metadata": {},
     "output_type": "execute_result"
    },
    {
     "data": {
      "image/png": "[encoded data removed]",
      "text/plain": [
       "<Figure size 1200x800 with 9 Axes>"
      ]
     },
     "metadata": {},
     "output_type": "display_data"
    }
   ],
   "source": [
    "# In a graphic\n",
    "metric_frame.by_group.plot.bar(\n",
    "    subplots=True,\n",
    "    layout=[3, 3],\n",
    "    legend=False,\n",
    "    figsize=[12, 8],\n",
    "    title=\"Show all metrics\",\n",
    ")"
   ]
  },
  {
   "cell_type": "markdown",
   "id": "f57a0bac",
   "metadata": {
    "papermill": {
     "duration": 0.026506,
     "end_time": "2025-08-06T17:58:25.697869",
     "exception": false,
     "start_time": "2025-08-06T17:58:25.671363",
     "status": "completed"
    },
    "tags": []
   },
   "source": [
    "# Final Output"
   ]
  },
  {
   "cell_type": "code",
   "execution_count": 60,
   "id": "96d280a3",
   "metadata": {
    "execution": {
     "iopub.execute_input": "2025-08-06T17:58:25.747852Z",
     "iopub.status.busy": "2025-08-06T17:58:25.747187Z",
     "iopub.status.idle": "2025-08-06T17:58:25.755121Z",
     "shell.execute_reply": "2025-08-06T17:58:25.754219Z"
    },
    "papermill": {
     "duration": 0.033038,
     "end_time": "2025-08-06T17:58:25.756765",
     "exception": false,
     "start_time": "2025-08-06T17:58:25.723727",
     "status": "completed"
    },
    "tags": []
   },
   "outputs": [
    {
     "data": {
      "text/plain": [
       "4"
      ]
     },
     "execution_count": 60,
     "metadata": {},
     "output_type": "execute_result"
    }
   ],
   "source": [
    "sub_universes = universe_analysis.generate_sub_universes()\n",
    "len(sub_universes)"
   ]
  },
  {
   "cell_type": "code",
   "execution_count": 61,
   "id": "92adf7ba",
   "metadata": {
    "execution": {
     "iopub.execute_input": "2025-08-06T17:58:25.808385Z",
     "iopub.status.busy": "2025-08-06T17:58:25.807806Z",
     "iopub.status.idle": "2025-08-06T17:58:25.813543Z",
     "shell.execute_reply": "2025-08-06T17:58:25.812689Z"
    },
    "papermill": {
     "duration": 0.032279,
     "end_time": "2025-08-06T17:58:25.814895",
     "exception": false,
     "start_time": "2025-08-06T17:58:25.782616",
     "status": "completed"
    },
    "tags": []
   },
   "outputs": [],
   "source": [
    "def filter_sub_universe_data(sub_universe, org_test):\n",
    "    # Keep all rows — no filtering\n",
    "    keep_rows_mask = np.ones(org_test.shape[0], dtype=bool)\n",
    "\n",
    "    print(f\"[INFO] Keeping all rows: {keep_rows_mask.sum()} rows retained.\")\n",
    "    return keep_rows_mask"
   ]
  },
  {
   "cell_type": "code",
   "execution_count": 62,
   "id": "4a759155",
   "metadata": {
    "execution": {
     "iopub.execute_input": "2025-08-06T17:58:25.864921Z",
     "iopub.status.busy": "2025-08-06T17:58:25.864177Z",
     "iopub.status.idle": "2025-08-06T17:58:34.045353Z",
     "shell.execute_reply": "2025-08-06T17:58:34.044157Z"
    },
    "papermill": {
     "duration": 8.207719,
     "end_time": "2025-08-06T17:58:34.046953",
     "exception": false,
     "start_time": "2025-08-06T17:58:25.839234",
     "status": "completed"
    },
    "tags": []
   },
   "outputs": [
    {
     "name": "stdout",
     "output_type": "stream",
     "text": [
      "Stopping execution_time clock.\n",
      "[INFO] Keeping all rows: 89710 rows retained.\n"
     ]
    },
    {
     "name": "stdout",
     "output_type": "stream",
     "text": [
      "[INFO] Keeping all rows: 89710 rows retained.\n"
     ]
    },
    {
     "name": "stdout",
     "output_type": "stream",
     "text": [
      "[INFO] Keeping all rows: 89710 rows retained.\n"
     ]
    },
    {
     "name": "stdout",
     "output_type": "stream",
     "text": [
      "[INFO] Keeping all rows: 89710 rows retained.\n"
     ]
    },
    {
     "data": {
      "text/html": [
       "<div>\n",
       "<style scoped>\n",
       "    .dataframe tbody tr th:only-of-type {\n",
       "        vertical-align: middle;\n",
       "    }\n",
       "\n",
       "    .dataframe tbody tr th {\n",
       "        vertical-align: top;\n",
       "    }\n",
       "\n",
       "    .dataframe thead th {\n",
       "        text-align: right;\n",
       "    }\n",
       "</style>\n",
       "<table border=\"1\" class=\"dataframe\">\n",
       "  <thead>\n",
       "    <tr style=\"text-align: right;\">\n",
       "      <th></th>\n",
       "      <th>run_no</th>\n",
       "      <th>universe_id</th>\n",
       "      <th>universe_settings</th>\n",
       "      <th>execution_time</th>\n",
       "      <th>test_size_n</th>\n",
       "      <th>test_size_frac</th>\n",
       "      <th>fair_main_equalized_odds_difference</th>\n",
       "      <th>fair_main_equalized_odds_ratio</th>\n",
       "      <th>fair_main_demographic_parity_difference</th>\n",
       "      <th>fair_main_demographic_parity_ratio</th>\n",
       "      <th>...</th>\n",
       "      <th>perf_grp_precision_0</th>\n",
       "      <th>perf_grp_precision_1</th>\n",
       "      <th>perf_grp_false positive rate_0</th>\n",
       "      <th>perf_grp_false positive rate_1</th>\n",
       "      <th>perf_grp_false negative rate_0</th>\n",
       "      <th>perf_grp_false negative rate_1</th>\n",
       "      <th>perf_grp_selection rate_0</th>\n",
       "      <th>perf_grp_selection rate_1</th>\n",
       "      <th>perf_grp_count_0</th>\n",
       "      <th>perf_grp_count_1</th>\n",
       "    </tr>\n",
       "  </thead>\n",
       "  <tbody>\n",
       "    <tr>\n",
       "      <th>0</th>\n",
       "      <td>1</td>\n",
       "      <td>c35306ff19e7d3d6941cf957d917b3c1</td>\n",
       "      <td>{\"cutoff\": \"quantile_0.1\", \"eval_fairness_grou...</td>\n",
       "      <td>31.788938</td>\n",
       "      <td>89710</td>\n",
       "      <td>1.0</td>\n",
       "      <td>0.044971</td>\n",
       "      <td>0.952098</td>\n",
       "      <td>0.037769</td>\n",
       "      <td>0.959981</td>\n",
       "      <td>...</td>\n",
       "      <td>NaN</td>\n",
       "      <td>NaN</td>\n",
       "      <td>NaN</td>\n",
       "      <td>NaN</td>\n",
       "      <td>NaN</td>\n",
       "      <td>NaN</td>\n",
       "      <td>NaN</td>\n",
       "      <td>NaN</td>\n",
       "      <td>NaN</td>\n",
       "      <td>NaN</td>\n",
       "    </tr>\n",
       "    <tr>\n",
       "      <th>0</th>\n",
       "      <td>1</td>\n",
       "      <td>c35306ff19e7d3d6941cf957d917b3c1</td>\n",
       "      <td>{\"cutoff\": \"quantile_0.1\", \"eval_fairness_grou...</td>\n",
       "      <td>31.788938</td>\n",
       "      <td>89710</td>\n",
       "      <td>1.0</td>\n",
       "      <td>0.044971</td>\n",
       "      <td>0.952098</td>\n",
       "      <td>0.037769</td>\n",
       "      <td>0.959981</td>\n",
       "      <td>...</td>\n",
       "      <td>0.119938</td>\n",
       "      <td>0.143789</td>\n",
       "      <td>0.938807</td>\n",
       "      <td>0.893836</td>\n",
       "      <td>0.018159</td>\n",
       "      <td>0.014114</td>\n",
       "      <td>0.943768</td>\n",
       "      <td>0.906000</td>\n",
       "      <td>20540.0</td>\n",
       "      <td>69170.0</td>\n",
       "    </tr>\n",
       "    <tr>\n",
       "      <th>0</th>\n",
       "      <td>1</td>\n",
       "      <td>c35306ff19e7d3d6941cf957d917b3c1</td>\n",
       "      <td>{\"cutoff\": \"quantile_0.25\", \"eval_fairness_gro...</td>\n",
       "      <td>31.788938</td>\n",
       "      <td>89710</td>\n",
       "      <td>1.0</td>\n",
       "      <td>0.099935</td>\n",
       "      <td>0.880107</td>\n",
       "      <td>0.084237</td>\n",
       "      <td>0.900310</td>\n",
       "      <td>...</td>\n",
       "      <td>NaN</td>\n",
       "      <td>NaN</td>\n",
       "      <td>NaN</td>\n",
       "      <td>NaN</td>\n",
       "      <td>NaN</td>\n",
       "      <td>NaN</td>\n",
       "      <td>NaN</td>\n",
       "      <td>NaN</td>\n",
       "      <td>NaN</td>\n",
       "      <td>NaN</td>\n",
       "    </tr>\n",
       "    <tr>\n",
       "      <th>0</th>\n",
       "      <td>1</td>\n",
       "      <td>c35306ff19e7d3d6941cf957d917b3c1</td>\n",
       "      <td>{\"cutoff\": \"quantile_0.25\", \"eval_fairness_gro...</td>\n",
       "      <td>31.788938</td>\n",
       "      <td>89710</td>\n",
       "      <td>1.0</td>\n",
       "      <td>0.099935</td>\n",
       "      <td>0.880107</td>\n",
       "      <td>0.084237</td>\n",
       "      <td>0.900310</td>\n",
       "      <td>...</td>\n",
       "      <td>0.127276</td>\n",
       "      <td>0.163110</td>\n",
       "      <td>0.833535</td>\n",
       "      <td>0.733600</td>\n",
       "      <td>0.067145</td>\n",
       "      <td>0.060941</td>\n",
       "      <td>0.844985</td>\n",
       "      <td>0.760749</td>\n",
       "      <td>20540.0</td>\n",
       "      <td>69170.0</td>\n",
       "    </tr>\n",
       "  </tbody>\n",
       "</table>\n",
       "<p>4 rows × 50 columns</p>\n",
       "</div>"
      ],
      "text/plain": [
       "  run_no                       universe_id  \\\n",
       "0      1  c35306ff19e7d3d6941cf957d917b3c1   \n",
       "0      1  c35306ff19e7d3d6941cf957d917b3c1   \n",
       "0      1  c35306ff19e7d3d6941cf957d917b3c1   \n",
       "0      1  c35306ff19e7d3d6941cf957d917b3c1   \n",
       "\n",
       "                                   universe_settings  execution_time  \\\n",
       "0  {\"cutoff\": \"quantile_0.1\", \"eval_fairness_grou...       31.788938   \n",
       "0  {\"cutoff\": \"quantile_0.1\", \"eval_fairness_grou...       31.788938   \n",
       "0  {\"cutoff\": \"quantile_0.25\", \"eval_fairness_gro...       31.788938   \n",
       "0  {\"cutoff\": \"quantile_0.25\", \"eval_fairness_gro...       31.788938   \n",
       "\n",
       "   test_size_n  test_size_frac  fair_main_equalized_odds_difference  \\\n",
       "0        89710             1.0                             0.044971   \n",
       "0        89710             1.0                             0.044971   \n",
       "0        89710             1.0                             0.099935   \n",
       "0        89710             1.0                             0.099935   \n",
       "\n",
       "   fair_main_equalized_odds_ratio  fair_main_demographic_parity_difference  \\\n",
       "0                        0.952098                                 0.037769   \n",
       "0                        0.952098                                 0.037769   \n",
       "0                        0.880107                                 0.084237   \n",
       "0                        0.880107                                 0.084237   \n",
       "\n",
       "   fair_main_demographic_parity_ratio  ...  perf_grp_precision_0  \\\n",
       "0                            0.959981  ...                   NaN   \n",
       "0                            0.959981  ...              0.119938   \n",
       "0                            0.900310  ...                   NaN   \n",
       "0                            0.900310  ...              0.127276   \n",
       "\n",
       "   perf_grp_precision_1  perf_grp_false positive rate_0  \\\n",
       "0                   NaN                             NaN   \n",
       "0              0.143789                        0.938807   \n",
       "0                   NaN                             NaN   \n",
       "0              0.163110                        0.833535   \n",
       "\n",
       "   perf_grp_false positive rate_1  perf_grp_false negative rate_0  \\\n",
       "0                             NaN                             NaN   \n",
       "0                        0.893836                        0.018159   \n",
       "0                             NaN                             NaN   \n",
       "0                        0.733600                        0.067145   \n",
       "\n",
       "   perf_grp_false negative rate_1  perf_grp_selection rate_0  \\\n",
       "0                             NaN                        NaN   \n",
       "0                        0.014114                   0.943768   \n",
       "0                             NaN                        NaN   \n",
       "0                        0.060941                   0.844985   \n",
       "\n",
       "   perf_grp_selection rate_1  perf_grp_count_0  perf_grp_count_1  \n",
       "0                        NaN               NaN               NaN  \n",
       "0                   0.906000           20540.0           69170.0  \n",
       "0                        NaN               NaN               NaN  \n",
       "0                   0.760749           20540.0           69170.0  \n",
       "\n",
       "[4 rows x 50 columns]"
      ]
     },
     "execution_count": 62,
     "metadata": {},
     "output_type": "execute_result"
    }
   ],
   "source": [
    "final_output = universe_analysis.generate_final_output(\n",
    "    y_pred_prob=probs_test,\n",
    "    y_test=y_true,\n",
    "    org_test=org_test,\n",
    "    filter_data=filter_sub_universe_data,\n",
    "    cp_metrics_df=cp_metrics_df,\n",
    "    save=True,\n",
    ")\n",
    "final_output"
   ]
  },
  {
   "cell_type": "code",
   "execution_count": null,
   "id": "571f9a0f-660a-4841-b661-b06fbc637944",
   "metadata": {
    "papermill": {
     "duration": 0.026384,
     "end_time": "2025-08-06T17:58:34.102461",
     "exception": false,
     "start_time": "2025-08-06T17:58:34.076077",
     "status": "completed"
    },
    "tags": []
   },
   "outputs": [],
   "source": []
  },
  {
   "cell_type": "code",
   "execution_count": null,
   "id": "529482e3-0150-4854-a92d-ab864efc606e",
   "metadata": {
    "papermill": {
     "duration": 0.026442,
     "end_time": "2025-08-06T17:58:34.154021",
     "exception": false,
     "start_time": "2025-08-06T17:58:34.127579",
     "status": "completed"
    },
    "tags": []
   },
   "outputs": [],
   "source": []
  }
 ],
 "metadata": {
  "celltoolbar": "Tags",
  "kernelspec": {
   "display_name": "Python (CMA Fairness)",
   "language": "python",
   "name": "cma_fair_env"
  },
  "language_info": {
   "codemirror_mode": {
    "name": "ipython",
    "version": 3
   },
   "file_extension": ".py",
   "mimetype": "text/x-python",
   "name": "python",
   "nbconvert_exporter": "python",
   "pygments_lexer": "ipython3",
   "version": "3.10.12"
  },
  "papermill": {
   "default_parameters": {},
   "duration": 44.282473,
   "end_time": "2025-08-06T17:58:34.998939",
   "environment_variables": {},
   "exception": null,
   "input_path": "universe_analysis.ipynb",
   "output_path": "output/runs/1/notebooks/m_1-c35306ff19e7d3d6941cf957d917b3c1.ipynb",
   "parameters": {
    "output_dir": "output",
    "run_no": "1",
    "seed": "2023",
    "universe": "{\"cutoff\": [\"quantile_0.1\", \"quantile_0.25\"], \"eval_fairness_grouping\": [\"majority-minority\", \"nationality-all\"], \"exclude_features\": \"nationality\", \"exclude_subgroups\": \"drop-non-german\", \"model\": \"rf\", \"scale\": \"scale\", \"training_size\": \"1k\", \"training_year\": \"2012_14\"}",
    "universe_id": "c35306ff19e7d3d6941cf957d917b3c1"
   },
   "start_time": "2025-08-06T17:57:50.716466",
   "version": "2.6.0"
  }
 },
 "nbformat": 4,
 "nbformat_minor": 5
}