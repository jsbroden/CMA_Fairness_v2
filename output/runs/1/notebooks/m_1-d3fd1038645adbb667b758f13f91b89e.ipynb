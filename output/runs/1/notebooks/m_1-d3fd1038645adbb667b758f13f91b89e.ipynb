{
 "cells": [
  {
   "cell_type": "markdown",
   "id": "b2057076-3a91-4cfa-9bfd-eab1e61b3068",
   "metadata": {
    "papermill": {
     "duration": 0.025435,
     "end_time": "2025-08-06T17:29:53.055078",
     "exception": false,
     "start_time": "2025-08-06T17:29:53.029643",
     "status": "completed"
    },
    "tags": []
   },
   "source": [
    "# Setup"
   ]
  },
  {
   "cell_type": "code",
   "execution_count": 1,
   "id": "f159f837-637b-42ba-96b5-ec9a68c44524",
   "metadata": {
    "execution": {
     "iopub.execute_input": "2025-08-06T17:29:53.106364Z",
     "iopub.status.busy": "2025-08-06T17:29:53.105971Z",
     "iopub.status.idle": "2025-08-06T17:29:53.120695Z",
     "shell.execute_reply": "2025-08-06T17:29:53.119514Z"
    },
    "papermill": {
     "duration": 0.042487,
     "end_time": "2025-08-06T17:29:53.122155",
     "exception": false,
     "start_time": "2025-08-06T17:29:53.079668",
     "status": "completed"
    },
    "tags": []
   },
   "outputs": [
    {
     "name": "stdout",
     "output_type": "stream",
     "text": [
      "/dss/dsshome1/0C/ra93lal2/cma/CMA_Fairness_v2\n"
     ]
    },
    {
     "name": "stderr",
     "output_type": "stream",
     "text": [
      "/dss/dsshome1/0C/ra93lal2/.local/share/virtualenvs/CMA_Fairness_v2-3j10GkSs/lib/python3.10/site-packages/IPython/core/magics/osm.py:393: UserWarning: This is now an optional IPython functionality, using bookmarks requires you to install the `pickleshare` library.\n",
      "  bkms = self.shell.db.get('bookmarks', {})\n",
      "/dss/dsshome1/0C/ra93lal2/.local/share/virtualenvs/CMA_Fairness_v2-3j10GkSs/lib/python3.10/site-packages/IPython/core/magics/osm.py:417: UserWarning: This is now an optional IPython functionality, setting dhist requires you to install the `pickleshare` library.\n",
      "  self.shell.db['dhist'] = compress_dhist(dhist)[-100:]\n"
     ]
    }
   ],
   "source": [
    "%cd ~/cma/CMA_Fairness_v2"
   ]
  },
  {
   "cell_type": "markdown",
   "id": "de2603b9",
   "metadata": {
    "papermill": {
     "duration": 0.016587,
     "end_time": "2025-08-06T17:29:53.152295",
     "exception": false,
     "start_time": "2025-08-06T17:29:53.135708",
     "status": "completed"
    },
    "tags": []
   },
   "source": [
    "The following cell holds the definition of our parameters, these values can be overriden by rendering the with e.g. the following command:\n",
    "\n",
    "papermill -p alpha 0.2 -p ratio 0.3 universe_analysis.ipynb output/test_run.ipynb"
   ]
  },
  {
   "cell_type": "code",
   "execution_count": 2,
   "id": "a80968a0-40bb-4fa9-85ef-2d5eefb01975",
   "metadata": {
    "execution": {
     "iopub.execute_input": "2025-08-06T17:29:53.186447Z",
     "iopub.status.busy": "2025-08-06T17:29:53.185935Z",
     "iopub.status.idle": "2025-08-06T17:29:53.191208Z",
     "shell.execute_reply": "2025-08-06T17:29:53.190365Z"
    },
    "papermill": {
     "duration": 0.024514,
     "end_time": "2025-08-06T17:29:53.192973",
     "exception": false,
     "start_time": "2025-08-06T17:29:53.168459",
     "status": "completed"
    },
    "tags": []
   },
   "outputs": [
    {
     "name": "stdout",
     "output_type": "stream",
     "text": [
      "Current working directory: /dss/dsshome1/0C/ra93lal2/cma/CMA_Fairness_v2\n"
     ]
    }
   ],
   "source": [
    "import os\n",
    "print(\"Current working directory:\", os.getcwd())"
   ]
  },
  {
   "cell_type": "code",
   "execution_count": 3,
   "id": "2dce4c03",
   "metadata": {
    "execution": {
     "iopub.execute_input": "2025-08-06T17:29:53.228290Z",
     "iopub.status.busy": "2025-08-06T17:29:53.227842Z",
     "iopub.status.idle": "2025-08-06T17:29:53.233774Z",
     "shell.execute_reply": "2025-08-06T17:29:53.232802Z"
    },
    "papermill": {
     "duration": 0.025469,
     "end_time": "2025-08-06T17:29:53.235459",
     "exception": false,
     "start_time": "2025-08-06T17:29:53.209990",
     "status": "completed"
    },
    "tags": [
     "parameters"
    ]
   },
   "outputs": [],
   "source": [
    "run_no = 0\n",
    "universe_id = \"test\"\n",
    "universe = {\n",
    "    \"training_size\": \"5k\", # \"25k\", \"5k\", \"1k\"\n",
    "    \"training_year\": \"2012_14\", # \"2014\", \"2012_14\", \"2010_14\"\n",
    "    \"scale\": \"scale\", # \"scale\", \"do-not-scale\",\n",
    "    \"model\": \"elasticnet\", # \"logreg\", \"penalized_logreg\", \"rf\", \"gbm\", \"elasticnet\"\n",
    "    \"cutoff\": [\"quantile_0.15\", \"quantile_0.30\"],\n",
    "    \"exclude_features\": \"age\", # \"none\", \"nationality\", \"sex\", \"nationality-sex\", \"age\"\n",
    "    \"exclude_subgroups\": \"drop-non-german\", # \"keep-all\", \"drop-non-german\"\n",
    "    \"eval_fairness_grouping\": [\"majority-minority\", \"nationality-all\"]\n",
    "}\n",
    "\n",
    "output_dir=\"./output\"\n",
    "seed=0"
   ]
  },
  {
   "cell_type": "code",
   "execution_count": 4,
   "id": "997b7d9f",
   "metadata": {
    "execution": {
     "iopub.execute_input": "2025-08-06T17:29:53.270186Z",
     "iopub.status.busy": "2025-08-06T17:29:53.269757Z",
     "iopub.status.idle": "2025-08-06T17:29:53.274836Z",
     "shell.execute_reply": "2025-08-06T17:29:53.273972Z"
    },
    "papermill": {
     "duration": 0.025398,
     "end_time": "2025-08-06T17:29:53.276441",
     "exception": false,
     "start_time": "2025-08-06T17:29:53.251043",
     "status": "completed"
    },
    "tags": [
     "injected-parameters"
    ]
   },
   "outputs": [],
   "source": [
    "# Parameters\n",
    "universe_id = \"d3fd1038645adbb667b758f13f91b89e\"\n",
    "run_no = \"1\"\n",
    "universe = \"{\\\"cutoff\\\": [\\\"quantile_0.1\\\", \\\"quantile_0.25\\\"], \\\"eval_fairness_grouping\\\": [\\\"majority-minority\\\", \\\"nationality-all\\\"], \\\"exclude_features\\\": \\\"sex\\\", \\\"exclude_subgroups\\\": \\\"drop-non-german\\\", \\\"model\\\": \\\"elasticnet\\\", \\\"scale\\\": \\\"scale\\\", \\\"training_size\\\": \\\"5k\\\", \\\"training_year\\\": \\\"2012_14\\\"}\"\n",
    "output_dir = \"output\"\n",
    "seed = \"2023\"\n"
   ]
  },
  {
   "cell_type": "code",
   "execution_count": 5,
   "id": "1650acaf",
   "metadata": {
    "execution": {
     "iopub.execute_input": "2025-08-06T17:29:53.300717Z",
     "iopub.status.busy": "2025-08-06T17:29:53.300106Z",
     "iopub.status.idle": "2025-08-06T17:29:53.305036Z",
     "shell.execute_reply": "2025-08-06T17:29:53.303958Z"
    },
    "papermill": {
     "duration": 0.016326,
     "end_time": "2025-08-06T17:29:53.306851",
     "exception": false,
     "start_time": "2025-08-06T17:29:53.290525",
     "status": "completed"
    },
    "tags": []
   },
   "outputs": [],
   "source": [
    "import json\n",
    "if isinstance(universe, str):\n",
    "    universe = json.loads(universe)"
   ]
  },
  {
   "cell_type": "code",
   "execution_count": 6,
   "id": "16620c48",
   "metadata": {
    "execution": {
     "iopub.execute_input": "2025-08-06T17:29:53.341629Z",
     "iopub.status.busy": "2025-08-06T17:29:53.340673Z",
     "iopub.status.idle": "2025-08-06T17:29:53.385794Z",
     "shell.execute_reply": "2025-08-06T17:29:53.384912Z"
    },
    "papermill": {
     "duration": 0.064127,
     "end_time": "2025-08-06T17:29:53.387506",
     "exception": false,
     "start_time": "2025-08-06T17:29:53.323379",
     "status": "completed"
    },
    "tags": []
   },
   "outputs": [],
   "source": [
    "# Auto-reload the custom package\n",
    "%load_ext autoreload\n",
    "%autoreload 1\n",
    "%aimport fairness_multiverse"
   ]
  },
  {
   "cell_type": "code",
   "execution_count": 7,
   "id": "01c5c9f3",
   "metadata": {
    "execution": {
     "iopub.execute_input": "2025-08-06T17:29:53.420622Z",
     "iopub.status.busy": "2025-08-06T17:29:53.419931Z",
     "iopub.status.idle": "2025-08-06T17:29:55.305201Z",
     "shell.execute_reply": "2025-08-06T17:29:55.304049Z"
    },
    "papermill": {
     "duration": 1.905148,
     "end_time": "2025-08-06T17:29:55.307643",
     "exception": false,
     "start_time": "2025-08-06T17:29:53.402495",
     "status": "completed"
    },
    "tags": []
   },
   "outputs": [],
   "source": [
    "from fairness_multiverse.universe import UniverseAnalysis\n",
    "\n",
    "universe_analysis = UniverseAnalysis(\n",
    "    run_no = run_no,\n",
    "    universe_id = universe_id,\n",
    "    universe = universe,\n",
    "    output_dir=output_dir,\n",
    ")"
   ]
  },
  {
   "cell_type": "code",
   "execution_count": 8,
   "id": "106241f5",
   "metadata": {
    "execution": {
     "iopub.execute_input": "2025-08-06T17:29:55.357141Z",
     "iopub.status.busy": "2025-08-06T17:29:55.356360Z",
     "iopub.status.idle": "2025-08-06T17:29:55.363154Z",
     "shell.execute_reply": "2025-08-06T17:29:55.362259Z"
    },
    "papermill": {
     "duration": 0.033548,
     "end_time": "2025-08-06T17:29:55.365420",
     "exception": false,
     "start_time": "2025-08-06T17:29:55.331872",
     "status": "completed"
    },
    "tags": []
   },
   "outputs": [
    {
     "name": "stdout",
     "output_type": "stream",
     "text": [
      "Using Seed: 2023\n"
     ]
    }
   ],
   "source": [
    "import numpy as np\n",
    "parsed_seed = int(seed)\n",
    "np.random.seed(parsed_seed)\n",
    "print(f\"Using Seed: {parsed_seed}\")"
   ]
  },
  {
   "cell_type": "markdown",
   "id": "e0ebdc57",
   "metadata": {
    "papermill": {
     "duration": 0.024614,
     "end_time": "2025-08-06T17:29:55.414439",
     "exception": false,
     "start_time": "2025-08-06T17:29:55.389825",
     "status": "completed"
    },
    "tags": []
   },
   "source": [
    "# Loading Data"
   ]
  },
  {
   "cell_type": "code",
   "execution_count": 9,
   "id": "f0496b8a",
   "metadata": {
    "execution": {
     "iopub.execute_input": "2025-08-06T17:29:55.461033Z",
     "iopub.status.busy": "2025-08-06T17:29:55.460680Z",
     "iopub.status.idle": "2025-08-06T17:30:06.091194Z",
     "shell.execute_reply": "2025-08-06T17:30:06.089577Z"
    },
    "papermill": {
     "duration": 10.657357,
     "end_time": "2025-08-06T17:30:06.093302",
     "exception": false,
     "start_time": "2025-08-06T17:29:55.435945",
     "status": "completed"
    },
    "tags": []
   },
   "outputs": [
    {
     "name": "stdout",
     "output_type": "stream",
     "text": [
      "Loading SIAB data from cache: data/siab_cached.csv.gz\n"
     ]
    },
    {
     "name": "stdout",
     "output_type": "stream",
     "text": [
      "(643690, 164)\n"
     ]
    }
   ],
   "source": [
    "from pathlib import Path\n",
    "import pandas as pd\n",
    "\n",
    "# File paths\n",
    "raw_file = Path(\"data/raw/siab.csv\")\n",
    "cache_file = Path(\"data/siab_cached.csv.gz\")\n",
    "\n",
    "# Ensure cache directory exists\n",
    "cache_file.parent.mkdir(parents=True, exist_ok=True)\n",
    "\n",
    "# Load with simple caching\n",
    "if cache_file.exists():\n",
    "    print(f\"Loading SIAB data from cache: {cache_file}\")\n",
    "    siab = pd.read_csv(cache_file, compression='gzip')\n",
    "else:\n",
    "    print(f\"Cache not found. Reading raw SIAB data: {raw_file}\")\n",
    "    siab = pd.read_csv(raw_file)\n",
    "    siab.to_csv(cache_file, index=False, compression='gzip')\n",
    "    print(f\"Cached SIAB data to: {cache_file}\")\n",
    "\n",
    "print(siab.shape)"
   ]
  },
  {
   "cell_type": "code",
   "execution_count": 10,
   "id": "db0ca512-5f53-4dba-abdb-a2888bca41ba",
   "metadata": {
    "execution": {
     "iopub.execute_input": "2025-08-06T17:30:06.139397Z",
     "iopub.status.busy": "2025-08-06T17:30:06.138679Z",
     "iopub.status.idle": "2025-08-06T17:30:06.314295Z",
     "shell.execute_reply": "2025-08-06T17:30:06.312961Z"
    },
    "papermill": {
     "duration": 0.200689,
     "end_time": "2025-08-06T17:30:06.316980",
     "exception": false,
     "start_time": "2025-08-06T17:30:06.116291",
     "status": "completed"
    },
    "tags": []
   },
   "outputs": [
    {
     "data": {
      "text/html": [
       "<div>\n",
       "<style scoped>\n",
       "    .dataframe tbody tr th:only-of-type {\n",
       "        vertical-align: middle;\n",
       "    }\n",
       "\n",
       "    .dataframe tbody tr th {\n",
       "        vertical-align: top;\n",
       "    }\n",
       "\n",
       "    .dataframe thead th {\n",
       "        text-align: right;\n",
       "    }\n",
       "</style>\n",
       "<table border=\"1\" class=\"dataframe\">\n",
       "  <thead>\n",
       "    <tr style=\"text-align: right;\">\n",
       "      <th></th>\n",
       "      <th>persnr</th>\n",
       "      <th>year</th>\n",
       "      <th>nrEntry</th>\n",
       "      <th>ltue</th>\n",
       "      <th>employed_before</th>\n",
       "      <th>receipt_leh_before</th>\n",
       "      <th>receipt_lhg_before</th>\n",
       "      <th>se_before</th>\n",
       "      <th>ASU_notue_seeking_before</th>\n",
       "      <th>ASU_other_before</th>\n",
       "      <th>...</th>\n",
       "      <th>minijob_tot_dur_byage</th>\n",
       "      <th>ft_tot_dur_byage</th>\n",
       "      <th>befrist_tot_dur_byage</th>\n",
       "      <th>leih_tot_dur_byage</th>\n",
       "      <th>LHG_tot_dur_byage</th>\n",
       "      <th>LEH_tot_dur_byage</th>\n",
       "      <th>almp_tot_dur_byage</th>\n",
       "      <th>almp_aw_tot_dur_byage</th>\n",
       "      <th>se_tot_dur_byage</th>\n",
       "      <th>seeking1_tot_dur_byage</th>\n",
       "    </tr>\n",
       "  </thead>\n",
       "  <tbody>\n",
       "    <tr>\n",
       "      <th>0</th>\n",
       "      <td>7</td>\n",
       "      <td>2015</td>\n",
       "      <td>1</td>\n",
       "      <td>0</td>\n",
       "      <td>1</td>\n",
       "      <td>0</td>\n",
       "      <td>0</td>\n",
       "      <td>0</td>\n",
       "      <td>1</td>\n",
       "      <td>0</td>\n",
       "      <td>...</td>\n",
       "      <td>0.000000</td>\n",
       "      <td>0.000000</td>\n",
       "      <td>15.043478</td>\n",
       "      <td>0.000000</td>\n",
       "      <td>0.000000</td>\n",
       "      <td>0.000000</td>\n",
       "      <td>0.000000</td>\n",
       "      <td>0.000000</td>\n",
       "      <td>0.000000</td>\n",
       "      <td>0.000000</td>\n",
       "    </tr>\n",
       "    <tr>\n",
       "      <th>1</th>\n",
       "      <td>18</td>\n",
       "      <td>2010</td>\n",
       "      <td>1</td>\n",
       "      <td>1</td>\n",
       "      <td>0</td>\n",
       "      <td>0</td>\n",
       "      <td>0</td>\n",
       "      <td>0</td>\n",
       "      <td>0</td>\n",
       "      <td>0</td>\n",
       "      <td>...</td>\n",
       "      <td>0.000000</td>\n",
       "      <td>0.000000</td>\n",
       "      <td>0.000000</td>\n",
       "      <td>0.000000</td>\n",
       "      <td>0.000000</td>\n",
       "      <td>0.000000</td>\n",
       "      <td>0.000000</td>\n",
       "      <td>0.000000</td>\n",
       "      <td>0.000000</td>\n",
       "      <td>0.000000</td>\n",
       "    </tr>\n",
       "    <tr>\n",
       "      <th>2</th>\n",
       "      <td>18</td>\n",
       "      <td>2011</td>\n",
       "      <td>2</td>\n",
       "      <td>0</td>\n",
       "      <td>1</td>\n",
       "      <td>0</td>\n",
       "      <td>1</td>\n",
       "      <td>0</td>\n",
       "      <td>1</td>\n",
       "      <td>0</td>\n",
       "      <td>...</td>\n",
       "      <td>2.714286</td>\n",
       "      <td>2.714286</td>\n",
       "      <td>0.000000</td>\n",
       "      <td>0.000000</td>\n",
       "      <td>10.775510</td>\n",
       "      <td>0.000000</td>\n",
       "      <td>8.367347</td>\n",
       "      <td>0.000000</td>\n",
       "      <td>0.000000</td>\n",
       "      <td>9.836735</td>\n",
       "    </tr>\n",
       "    <tr>\n",
       "      <th>3</th>\n",
       "      <td>18</td>\n",
       "      <td>2012</td>\n",
       "      <td>3</td>\n",
       "      <td>0</td>\n",
       "      <td>1</td>\n",
       "      <td>0</td>\n",
       "      <td>1</td>\n",
       "      <td>0</td>\n",
       "      <td>1</td>\n",
       "      <td>0</td>\n",
       "      <td>...</td>\n",
       "      <td>4.200000</td>\n",
       "      <td>4.200000</td>\n",
       "      <td>0.000000</td>\n",
       "      <td>0.000000</td>\n",
       "      <td>12.100000</td>\n",
       "      <td>0.000000</td>\n",
       "      <td>9.400000</td>\n",
       "      <td>0.000000</td>\n",
       "      <td>0.000000</td>\n",
       "      <td>9.960000</td>\n",
       "    </tr>\n",
       "    <tr>\n",
       "      <th>4</th>\n",
       "      <td>18</td>\n",
       "      <td>2012</td>\n",
       "      <td>4</td>\n",
       "      <td>0</td>\n",
       "      <td>1</td>\n",
       "      <td>0</td>\n",
       "      <td>1</td>\n",
       "      <td>0</td>\n",
       "      <td>1</td>\n",
       "      <td>0</td>\n",
       "      <td>...</td>\n",
       "      <td>5.460000</td>\n",
       "      <td>5.460000</td>\n",
       "      <td>0.000000</td>\n",
       "      <td>0.000000</td>\n",
       "      <td>13.360000</td>\n",
       "      <td>0.000000</td>\n",
       "      <td>10.320000</td>\n",
       "      <td>0.000000</td>\n",
       "      <td>0.000000</td>\n",
       "      <td>10.280000</td>\n",
       "    </tr>\n",
       "    <tr>\n",
       "      <th>...</th>\n",
       "      <td>...</td>\n",
       "      <td>...</td>\n",
       "      <td>...</td>\n",
       "      <td>...</td>\n",
       "      <td>...</td>\n",
       "      <td>...</td>\n",
       "      <td>...</td>\n",
       "      <td>...</td>\n",
       "      <td>...</td>\n",
       "      <td>...</td>\n",
       "      <td>...</td>\n",
       "      <td>...</td>\n",
       "      <td>...</td>\n",
       "      <td>...</td>\n",
       "      <td>...</td>\n",
       "      <td>...</td>\n",
       "      <td>...</td>\n",
       "      <td>...</td>\n",
       "      <td>...</td>\n",
       "      <td>...</td>\n",
       "      <td>...</td>\n",
       "    </tr>\n",
       "    <tr>\n",
       "      <th>643685</th>\n",
       "      <td>1827860</td>\n",
       "      <td>2013</td>\n",
       "      <td>1</td>\n",
       "      <td>0</td>\n",
       "      <td>0</td>\n",
       "      <td>0</td>\n",
       "      <td>1</td>\n",
       "      <td>0</td>\n",
       "      <td>0</td>\n",
       "      <td>1</td>\n",
       "      <td>...</td>\n",
       "      <td>0.000000</td>\n",
       "      <td>0.000000</td>\n",
       "      <td>0.000000</td>\n",
       "      <td>0.000000</td>\n",
       "      <td>0.612903</td>\n",
       "      <td>0.000000</td>\n",
       "      <td>0.000000</td>\n",
       "      <td>0.000000</td>\n",
       "      <td>0.000000</td>\n",
       "      <td>0.000000</td>\n",
       "    </tr>\n",
       "    <tr>\n",
       "      <th>643686</th>\n",
       "      <td>1827860</td>\n",
       "      <td>2015</td>\n",
       "      <td>2</td>\n",
       "      <td>1</td>\n",
       "      <td>0</td>\n",
       "      <td>0</td>\n",
       "      <td>1</td>\n",
       "      <td>0</td>\n",
       "      <td>1</td>\n",
       "      <td>0</td>\n",
       "      <td>...</td>\n",
       "      <td>0.000000</td>\n",
       "      <td>0.000000</td>\n",
       "      <td>0.212121</td>\n",
       "      <td>0.212121</td>\n",
       "      <td>17.363636</td>\n",
       "      <td>0.000000</td>\n",
       "      <td>8.909091</td>\n",
       "      <td>0.000000</td>\n",
       "      <td>0.000000</td>\n",
       "      <td>7.121212</td>\n",
       "    </tr>\n",
       "    <tr>\n",
       "      <th>643687</th>\n",
       "      <td>1827860</td>\n",
       "      <td>2016</td>\n",
       "      <td>3</td>\n",
       "      <td>1</td>\n",
       "      <td>0</td>\n",
       "      <td>0</td>\n",
       "      <td>1</td>\n",
       "      <td>1</td>\n",
       "      <td>0</td>\n",
       "      <td>1</td>\n",
       "      <td>...</td>\n",
       "      <td>0.000000</td>\n",
       "      <td>0.000000</td>\n",
       "      <td>0.294118</td>\n",
       "      <td>0.205882</td>\n",
       "      <td>34.705882</td>\n",
       "      <td>0.000000</td>\n",
       "      <td>10.352941</td>\n",
       "      <td>1.705882</td>\n",
       "      <td>1.705882</td>\n",
       "      <td>23.911765</td>\n",
       "    </tr>\n",
       "    <tr>\n",
       "      <th>643688</th>\n",
       "      <td>1827869</td>\n",
       "      <td>2013</td>\n",
       "      <td>1</td>\n",
       "      <td>1</td>\n",
       "      <td>1</td>\n",
       "      <td>0</td>\n",
       "      <td>0</td>\n",
       "      <td>0</td>\n",
       "      <td>1</td>\n",
       "      <td>0</td>\n",
       "      <td>...</td>\n",
       "      <td>0.000000</td>\n",
       "      <td>0.000000</td>\n",
       "      <td>0.000000</td>\n",
       "      <td>0.000000</td>\n",
       "      <td>0.000000</td>\n",
       "      <td>0.525424</td>\n",
       "      <td>0.000000</td>\n",
       "      <td>0.000000</td>\n",
       "      <td>0.000000</td>\n",
       "      <td>0.000000</td>\n",
       "    </tr>\n",
       "    <tr>\n",
       "      <th>643689</th>\n",
       "      <td>1827869</td>\n",
       "      <td>2014</td>\n",
       "      <td>2</td>\n",
       "      <td>0</td>\n",
       "      <td>0</td>\n",
       "      <td>1</td>\n",
       "      <td>0</td>\n",
       "      <td>0</td>\n",
       "      <td>1</td>\n",
       "      <td>0</td>\n",
       "      <td>...</td>\n",
       "      <td>0.000000</td>\n",
       "      <td>0.666667</td>\n",
       "      <td>0.666667</td>\n",
       "      <td>0.000000</td>\n",
       "      <td>0.000000</td>\n",
       "      <td>8.950000</td>\n",
       "      <td>1.033333</td>\n",
       "      <td>0.083333</td>\n",
       "      <td>0.083333</td>\n",
       "      <td>8.133333</td>\n",
       "    </tr>\n",
       "  </tbody>\n",
       "</table>\n",
       "<p>643690 rows × 164 columns</p>\n",
       "</div>"
      ],
      "text/plain": [
       "         persnr  year  nrEntry  ltue  employed_before  receipt_leh_before  \\\n",
       "0             7  2015        1     0                1                   0   \n",
       "1            18  2010        1     1                0                   0   \n",
       "2            18  2011        2     0                1                   0   \n",
       "3            18  2012        3     0                1                   0   \n",
       "4            18  2012        4     0                1                   0   \n",
       "...         ...   ...      ...   ...              ...                 ...   \n",
       "643685  1827860  2013        1     0                0                   0   \n",
       "643686  1827860  2015        2     1                0                   0   \n",
       "643687  1827860  2016        3     1                0                   0   \n",
       "643688  1827869  2013        1     1                1                   0   \n",
       "643689  1827869  2014        2     0                0                   1   \n",
       "\n",
       "        receipt_lhg_before  se_before  ASU_notue_seeking_before  \\\n",
       "0                        0          0                         1   \n",
       "1                        0          0                         0   \n",
       "2                        1          0                         1   \n",
       "3                        1          0                         1   \n",
       "4                        1          0                         1   \n",
       "...                    ...        ...                       ...   \n",
       "643685                   1          0                         0   \n",
       "643686                   1          0                         1   \n",
       "643687                   1          1                         0   \n",
       "643688                   0          0                         1   \n",
       "643689                   0          0                         1   \n",
       "\n",
       "        ASU_other_before  ...  minijob_tot_dur_byage  ft_tot_dur_byage  \\\n",
       "0                      0  ...               0.000000          0.000000   \n",
       "1                      0  ...               0.000000          0.000000   \n",
       "2                      0  ...               2.714286          2.714286   \n",
       "3                      0  ...               4.200000          4.200000   \n",
       "4                      0  ...               5.460000          5.460000   \n",
       "...                  ...  ...                    ...               ...   \n",
       "643685                 1  ...               0.000000          0.000000   \n",
       "643686                 0  ...               0.000000          0.000000   \n",
       "643687                 1  ...               0.000000          0.000000   \n",
       "643688                 0  ...               0.000000          0.000000   \n",
       "643689                 0  ...               0.000000          0.666667   \n",
       "\n",
       "        befrist_tot_dur_byage  leih_tot_dur_byage  LHG_tot_dur_byage  \\\n",
       "0                   15.043478            0.000000           0.000000   \n",
       "1                    0.000000            0.000000           0.000000   \n",
       "2                    0.000000            0.000000          10.775510   \n",
       "3                    0.000000            0.000000          12.100000   \n",
       "4                    0.000000            0.000000          13.360000   \n",
       "...                       ...                 ...                ...   \n",
       "643685               0.000000            0.000000           0.612903   \n",
       "643686               0.212121            0.212121          17.363636   \n",
       "643687               0.294118            0.205882          34.705882   \n",
       "643688               0.000000            0.000000           0.000000   \n",
       "643689               0.666667            0.000000           0.000000   \n",
       "\n",
       "        LEH_tot_dur_byage  almp_tot_dur_byage  almp_aw_tot_dur_byage  \\\n",
       "0                0.000000            0.000000               0.000000   \n",
       "1                0.000000            0.000000               0.000000   \n",
       "2                0.000000            8.367347               0.000000   \n",
       "3                0.000000            9.400000               0.000000   \n",
       "4                0.000000           10.320000               0.000000   \n",
       "...                   ...                 ...                    ...   \n",
       "643685           0.000000            0.000000               0.000000   \n",
       "643686           0.000000            8.909091               0.000000   \n",
       "643687           0.000000           10.352941               1.705882   \n",
       "643688           0.525424            0.000000               0.000000   \n",
       "643689           8.950000            1.033333               0.083333   \n",
       "\n",
       "        se_tot_dur_byage  seeking1_tot_dur_byage  \n",
       "0               0.000000                0.000000  \n",
       "1               0.000000                0.000000  \n",
       "2               0.000000                9.836735  \n",
       "3               0.000000                9.960000  \n",
       "4               0.000000               10.280000  \n",
       "...                  ...                     ...  \n",
       "643685          0.000000                0.000000  \n",
       "643686          0.000000                7.121212  \n",
       "643687          1.705882               23.911765  \n",
       "643688          0.000000                0.000000  \n",
       "643689          0.083333                8.133333  \n",
       "\n",
       "[643690 rows x 164 columns]"
      ]
     },
     "execution_count": 10,
     "metadata": {},
     "output_type": "execute_result"
    }
   ],
   "source": [
    "siab"
   ]
  },
  {
   "cell_type": "markdown",
   "id": "997051c5-15bd-4b69-9786-c3001a3ce484",
   "metadata": {
    "papermill": {
     "duration": 0.026442,
     "end_time": "2025-08-06T17:30:06.370280",
     "exception": false,
     "start_time": "2025-08-06T17:30:06.343838",
     "status": "completed"
    },
    "tags": []
   },
   "source": [
    "# Splitting Data and Setting Training Data Size"
   ]
  },
  {
   "cell_type": "code",
   "execution_count": 11,
   "id": "aea9c6ef-6f46-42c8-85eb-5a62025c1508",
   "metadata": {
    "execution": {
     "iopub.execute_input": "2025-08-06T17:30:06.429551Z",
     "iopub.status.busy": "2025-08-06T17:30:06.428753Z",
     "iopub.status.idle": "2025-08-06T17:30:07.599177Z",
     "shell.execute_reply": "2025-08-06T17:30:07.598022Z"
    },
    "papermill": {
     "duration": 1.202869,
     "end_time": "2025-08-06T17:30:07.601570",
     "exception": false,
     "start_time": "2025-08-06T17:30:06.398701",
     "status": "completed"
    },
    "tags": []
   },
   "outputs": [],
   "source": [
    "from fairness_multiverse.universe import sample_by_year_size\n",
    "\n",
    "siab_train = sample_by_year_size(siab,\n",
    "                               training_year=universe[\"training_year\"],\n",
    "                               training_size=universe[\"training_size\"])"
   ]
  },
  {
   "cell_type": "code",
   "execution_count": 12,
   "id": "8d3afb32-789d-442c-8d5d-9f5aa8dd2eed",
   "metadata": {
    "execution": {
     "iopub.execute_input": "2025-08-06T17:30:07.639613Z",
     "iopub.status.busy": "2025-08-06T17:30:07.639109Z",
     "iopub.status.idle": "2025-08-06T17:30:07.646459Z",
     "shell.execute_reply": "2025-08-06T17:30:07.645352Z"
    },
    "papermill": {
     "duration": 0.028835,
     "end_time": "2025-08-06T17:30:07.648816",
     "exception": false,
     "start_time": "2025-08-06T17:30:07.619981",
     "status": "completed"
    },
    "tags": []
   },
   "outputs": [
    {
     "data": {
      "text/plain": [
       "(5000, 164)"
      ]
     },
     "execution_count": 12,
     "metadata": {},
     "output_type": "execute_result"
    }
   ],
   "source": [
    "siab_train.shape"
   ]
  },
  {
   "cell_type": "code",
   "execution_count": 13,
   "id": "d582db68-1a4c-47fb-84fc-08518dc1975a",
   "metadata": {
    "execution": {
     "iopub.execute_input": "2025-08-06T17:30:07.703034Z",
     "iopub.status.busy": "2025-08-06T17:30:07.702488Z",
     "iopub.status.idle": "2025-08-06T17:30:07.713084Z",
     "shell.execute_reply": "2025-08-06T17:30:07.712126Z"
    },
    "papermill": {
     "duration": 0.042306,
     "end_time": "2025-08-06T17:30:07.714766",
     "exception": false,
     "start_time": "2025-08-06T17:30:07.672460",
     "status": "completed"
    },
    "tags": []
   },
   "outputs": [
    {
     "data": {
      "text/plain": [
       "year\n",
       "2012    1667\n",
       "2013    1667\n",
       "2014    1666\n",
       "dtype: int64"
      ]
     },
     "metadata": {},
     "output_type": "display_data"
    }
   ],
   "source": [
    "display(siab_train.groupby(\"year\").size())"
   ]
  },
  {
   "cell_type": "code",
   "execution_count": 14,
   "id": "a561edb4-d032-42cb-8256-22eac1111c64",
   "metadata": {
    "execution": {
     "iopub.execute_input": "2025-08-06T17:30:07.751990Z",
     "iopub.status.busy": "2025-08-06T17:30:07.751477Z",
     "iopub.status.idle": "2025-08-06T17:30:07.977573Z",
     "shell.execute_reply": "2025-08-06T17:30:07.976538Z"
    },
    "papermill": {
     "duration": 0.24627,
     "end_time": "2025-08-06T17:30:07.979718",
     "exception": false,
     "start_time": "2025-08-06T17:30:07.733448",
     "status": "completed"
    },
    "tags": []
   },
   "outputs": [],
   "source": [
    "#siab_train = siab_s[siab_s.year < 2015]\n",
    "siab_calib = siab[siab.year == 2015]\n",
    "siab_test = siab[siab.year == 2016]"
   ]
  },
  {
   "cell_type": "code",
   "execution_count": 15,
   "id": "472de16f-c3db-4916-846b-1f0de9cf1746",
   "metadata": {
    "execution": {
     "iopub.execute_input": "2025-08-06T17:30:08.019243Z",
     "iopub.status.busy": "2025-08-06T17:30:08.018768Z",
     "iopub.status.idle": "2025-08-06T17:30:08.029744Z",
     "shell.execute_reply": "2025-08-06T17:30:08.028641Z"
    },
    "papermill": {
     "duration": 0.033538,
     "end_time": "2025-08-06T17:30:08.032678",
     "exception": false,
     "start_time": "2025-08-06T17:30:07.999140",
     "status": "completed"
    },
    "tags": []
   },
   "outputs": [],
   "source": [
    "X_train = siab_train.iloc[:,4:164]\n",
    "y_train = siab_train.iloc[:, [3]]"
   ]
  },
  {
   "cell_type": "code",
   "execution_count": 16,
   "id": "828c96af-f43a-4ed6-ba47-8ac73a47d56c",
   "metadata": {
    "execution": {
     "iopub.execute_input": "2025-08-06T17:30:08.077333Z",
     "iopub.status.busy": "2025-08-06T17:30:08.076233Z",
     "iopub.status.idle": "2025-08-06T17:30:08.134483Z",
     "shell.execute_reply": "2025-08-06T17:30:08.133439Z"
    },
    "papermill": {
     "duration": 0.08359,
     "end_time": "2025-08-06T17:30:08.137358",
     "exception": false,
     "start_time": "2025-08-06T17:30:08.053768",
     "status": "completed"
    },
    "tags": []
   },
   "outputs": [],
   "source": [
    "X_calib = siab_calib.iloc[:,4:164]\n",
    "y_calib = siab_calib.iloc[:, [3]]"
   ]
  },
  {
   "cell_type": "code",
   "execution_count": 17,
   "id": "c34be9c3-6bd6-476e-acd3-845840e303be",
   "metadata": {
    "execution": {
     "iopub.execute_input": "2025-08-06T17:30:08.191785Z",
     "iopub.status.busy": "2025-08-06T17:30:08.191220Z",
     "iopub.status.idle": "2025-08-06T17:30:08.268137Z",
     "shell.execute_reply": "2025-08-06T17:30:08.266938Z"
    },
    "papermill": {
     "duration": 0.105729,
     "end_time": "2025-08-06T17:30:08.269768",
     "exception": false,
     "start_time": "2025-08-06T17:30:08.164039",
     "status": "completed"
    },
    "tags": []
   },
   "outputs": [],
   "source": [
    "X_test = siab_test.iloc[:,4:164]\n",
    "y_true = siab_test.iloc[:, [3]]"
   ]
  },
  {
   "cell_type": "code",
   "execution_count": 18,
   "id": "e6c733c5",
   "metadata": {
    "execution": {
     "iopub.execute_input": "2025-08-06T17:30:08.311707Z",
     "iopub.status.busy": "2025-08-06T17:30:08.311180Z",
     "iopub.status.idle": "2025-08-06T17:30:08.418761Z",
     "shell.execute_reply": "2025-08-06T17:30:08.417839Z"
    },
    "papermill": {
     "duration": 0.13081,
     "end_time": "2025-08-06T17:30:08.420633",
     "exception": false,
     "start_time": "2025-08-06T17:30:08.289823",
     "status": "completed"
    },
    "tags": []
   },
   "outputs": [],
   "source": [
    "# Auxiliary data needed downstream in the pipeline\n",
    "\n",
    "org_train = X_train.copy()\n",
    "org_test = X_test.copy()\n",
    "org_calib = X_calib.copy()"
   ]
  },
  {
   "cell_type": "markdown",
   "id": "0a4a1b33",
   "metadata": {
    "papermill": {
     "duration": 0.020125,
     "end_time": "2025-08-06T17:30:08.460681",
     "exception": false,
     "start_time": "2025-08-06T17:30:08.440556",
     "status": "completed"
    },
    "tags": []
   },
   "source": [
    "# Preprocessing Data"
   ]
  },
  {
   "cell_type": "code",
   "execution_count": 19,
   "id": "ca879031",
   "metadata": {
    "execution": {
     "iopub.execute_input": "2025-08-06T17:30:08.500428Z",
     "iopub.status.busy": "2025-08-06T17:30:08.499883Z",
     "iopub.status.idle": "2025-08-06T17:30:08.506236Z",
     "shell.execute_reply": "2025-08-06T17:30:08.505338Z"
    },
    "papermill": {
     "duration": 0.028033,
     "end_time": "2025-08-06T17:30:08.507940",
     "exception": false,
     "start_time": "2025-08-06T17:30:08.479907",
     "status": "completed"
    },
    "tags": []
   },
   "outputs": [],
   "source": [
    "# EXCLUDE PROTECTED FEATURES\n",
    "# --------------------------\n",
    "\n",
    "excluded_features = universe[\"exclude_features\"].split(\"-\")\n",
    "excluded_features_dictionary = {\n",
    "    \"nationality\": [\"maxdeutsch1\", \"maxdeutsch.Missing.\"],\n",
    "    \"sex\": [\"frau1\"],\n",
    "    \"age\": [\"age\"],\n",
    "}"
   ]
  },
  {
   "cell_type": "code",
   "execution_count": 20,
   "id": "b745ac60",
   "metadata": {
    "execution": {
     "iopub.execute_input": "2025-08-06T17:30:08.548395Z",
     "iopub.status.busy": "2025-08-06T17:30:08.547811Z",
     "iopub.status.idle": "2025-08-06T17:30:08.554854Z",
     "shell.execute_reply": "2025-08-06T17:30:08.553830Z"
    },
    "papermill": {
     "duration": 0.028995,
     "end_time": "2025-08-06T17:30:08.556536",
     "exception": false,
     "start_time": "2025-08-06T17:30:08.527541",
     "status": "completed"
    },
    "tags": []
   },
   "outputs": [],
   "source": [
    "excluded_features_columns = [\n",
    "    excluded_features_dictionary[f] for f in excluded_features if len(f) > 0 and f != \"none\"\n",
    "]"
   ]
  },
  {
   "cell_type": "code",
   "execution_count": 21,
   "id": "f84f73a2",
   "metadata": {
    "execution": {
     "iopub.execute_input": "2025-08-06T17:30:08.598118Z",
     "iopub.status.busy": "2025-08-06T17:30:08.597196Z",
     "iopub.status.idle": "2025-08-06T17:30:08.602965Z",
     "shell.execute_reply": "2025-08-06T17:30:08.601817Z"
    },
    "papermill": {
     "duration": 0.028381,
     "end_time": "2025-08-06T17:30:08.604952",
     "exception": false,
     "start_time": "2025-08-06T17:30:08.576571",
     "status": "completed"
    },
    "tags": []
   },
   "outputs": [],
   "source": [
    "from fairness_multiverse.universe import flatten_once\n",
    "\n",
    "excluded_features_columns = flatten_once(excluded_features_columns)"
   ]
  },
  {
   "cell_type": "code",
   "execution_count": 22,
   "id": "884dea22",
   "metadata": {
    "execution": {
     "iopub.execute_input": "2025-08-06T17:30:08.650992Z",
     "iopub.status.busy": "2025-08-06T17:30:08.650240Z",
     "iopub.status.idle": "2025-08-06T17:30:08.661619Z",
     "shell.execute_reply": "2025-08-06T17:30:08.660603Z"
    },
    "papermill": {
     "duration": 0.036683,
     "end_time": "2025-08-06T17:30:08.663191",
     "exception": false,
     "start_time": "2025-08-06T17:30:08.626508",
     "status": "completed"
    },
    "tags": []
   },
   "outputs": [
    {
     "name": "stdout",
     "output_type": "stream",
     "text": [
      "Dropping features: ['frau1']\n"
     ]
    }
   ],
   "source": [
    "if len(excluded_features_columns) > 0:\n",
    "    print(f\"Dropping features: {excluded_features_columns}\")\n",
    "    X_train.drop(excluded_features_columns, axis=1, inplace=True)"
   ]
  },
  {
   "cell_type": "code",
   "execution_count": 23,
   "id": "95ab8b16",
   "metadata": {
    "execution": {
     "iopub.execute_input": "2025-08-06T17:30:08.698691Z",
     "iopub.status.busy": "2025-08-06T17:30:08.698316Z",
     "iopub.status.idle": "2025-08-06T17:30:08.754436Z",
     "shell.execute_reply": "2025-08-06T17:30:08.753458Z"
    },
    "papermill": {
     "duration": 0.071778,
     "end_time": "2025-08-06T17:30:08.756105",
     "exception": false,
     "start_time": "2025-08-06T17:30:08.684327",
     "status": "completed"
    },
    "tags": []
   },
   "outputs": [
    {
     "name": "stdout",
     "output_type": "stream",
     "text": [
      "Dropping features: ['frau1']\n"
     ]
    }
   ],
   "source": [
    "if len(excluded_features_columns) > 0:\n",
    "    print(f\"Dropping features: {excluded_features_columns}\")\n",
    "    X_test.drop(excluded_features_columns, axis=1, inplace=True)"
   ]
  },
  {
   "cell_type": "code",
   "execution_count": 24,
   "id": "1853aaf5-fb9f-46cb-a2b5-8ea4ae2237e4",
   "metadata": {
    "execution": {
     "iopub.execute_input": "2025-08-06T17:30:08.801618Z",
     "iopub.status.busy": "2025-08-06T17:30:08.801235Z",
     "iopub.status.idle": "2025-08-06T17:30:08.853990Z",
     "shell.execute_reply": "2025-08-06T17:30:08.853063Z"
    },
    "papermill": {
     "duration": 0.078645,
     "end_time": "2025-08-06T17:30:08.855745",
     "exception": false,
     "start_time": "2025-08-06T17:30:08.777100",
     "status": "completed"
    },
    "tags": []
   },
   "outputs": [
    {
     "name": "stdout",
     "output_type": "stream",
     "text": [
      "Dropping features: ['frau1']\n"
     ]
    }
   ],
   "source": [
    "if len(excluded_features_columns) > 0:\n",
    "    print(f\"Dropping features: {excluded_features_columns}\")\n",
    "    X_calib.drop(excluded_features_columns, axis=1, inplace=True)"
   ]
  },
  {
   "cell_type": "code",
   "execution_count": 25,
   "id": "76c4dc6d",
   "metadata": {
    "execution": {
     "iopub.execute_input": "2025-08-06T17:30:08.897045Z",
     "iopub.status.busy": "2025-08-06T17:30:08.896680Z",
     "iopub.status.idle": "2025-08-06T17:30:08.901720Z",
     "shell.execute_reply": "2025-08-06T17:30:08.901018Z"
    },
    "papermill": {
     "duration": 0.025547,
     "end_time": "2025-08-06T17:30:08.903147",
     "exception": false,
     "start_time": "2025-08-06T17:30:08.877600",
     "status": "completed"
    },
    "tags": []
   },
   "outputs": [],
   "source": [
    "# EXCLUDE CERTAIN SUBGROUPS\n",
    "# -------------------------\n",
    "\n",
    "mode = universe.get(\"exclude_subgroups\", \"keep-all\") # Defaults to \"keep-all\" if the key is missing."
   ]
  },
  {
   "cell_type": "code",
   "execution_count": 26,
   "id": "21994072",
   "metadata": {
    "execution": {
     "iopub.execute_input": "2025-08-06T17:30:08.927707Z",
     "iopub.status.busy": "2025-08-06T17:30:08.927081Z",
     "iopub.status.idle": "2025-08-06T17:30:08.947761Z",
     "shell.execute_reply": "2025-08-06T17:30:08.946738Z"
    },
    "papermill": {
     "duration": 0.034642,
     "end_time": "2025-08-06T17:30:08.949457",
     "exception": false,
     "start_time": "2025-08-06T17:30:08.914815",
     "status": "completed"
    },
    "tags": []
   },
   "outputs": [],
   "source": [
    "if mode == \"keep-all\":\n",
    "    keep_mask = pd.Series(True, index=org_train.index)\n",
    "\n",
    "elif mode == \"drop-non-german\":\n",
    "    keep_mask = (org_train[\"maxdeutsch1\"] == 1) & (org_train[\"maxdeutsch.Missing.\"] == 0)\n",
    "\n",
    "else:\n",
    "    raise ValueError(f\"Unsupported mode for exclude_subgroups: {mode}\")"
   ]
  },
  {
   "cell_type": "code",
   "execution_count": 27,
   "id": "71651440",
   "metadata": {
    "execution": {
     "iopub.execute_input": "2025-08-06T17:30:08.992462Z",
     "iopub.status.busy": "2025-08-06T17:30:08.991984Z",
     "iopub.status.idle": "2025-08-06T17:30:08.998968Z",
     "shell.execute_reply": "2025-08-06T17:30:08.998090Z"
    },
    "papermill": {
     "duration": 0.031083,
     "end_time": "2025-08-06T17:30:09.000516",
     "exception": false,
     "start_time": "2025-08-06T17:30:08.969433",
     "status": "completed"
    },
    "tags": []
   },
   "outputs": [
    {
     "name": "stdout",
     "output_type": "stream",
     "text": [
      "Dropping 665 rows (13.30%) where mode='drop-non-german'\n"
     ]
    }
   ],
   "source": [
    "n_drop = (~keep_mask).sum() # Calculates how many rows are set to be dropped\n",
    "if n_drop > 0:\n",
    "    pct = n_drop / len(keep_mask) * 100\n",
    "    print(f\"Dropping {n_drop} rows ({pct:.2f}%) where mode='{mode}'\")"
   ]
  },
  {
   "cell_type": "code",
   "execution_count": 28,
   "id": "5fb8eee5",
   "metadata": {
    "execution": {
     "iopub.execute_input": "2025-08-06T17:30:09.045956Z",
     "iopub.status.busy": "2025-08-06T17:30:09.045297Z",
     "iopub.status.idle": "2025-08-06T17:30:09.053154Z",
     "shell.execute_reply": "2025-08-06T17:30:09.052295Z"
    },
    "papermill": {
     "duration": 0.032136,
     "end_time": "2025-08-06T17:30:09.054758",
     "exception": false,
     "start_time": "2025-08-06T17:30:09.022622",
     "status": "completed"
    },
    "tags": []
   },
   "outputs": [],
   "source": [
    "X_train = X_train[keep_mask]"
   ]
  },
  {
   "cell_type": "code",
   "execution_count": 29,
   "id": "b202bb3a",
   "metadata": {
    "execution": {
     "iopub.execute_input": "2025-08-06T17:30:09.082357Z",
     "iopub.status.busy": "2025-08-06T17:30:09.082010Z",
     "iopub.status.idle": "2025-08-06T17:30:09.087152Z",
     "shell.execute_reply": "2025-08-06T17:30:09.086436Z"
    },
    "papermill": {
     "duration": 0.018195,
     "end_time": "2025-08-06T17:30:09.088504",
     "exception": false,
     "start_time": "2025-08-06T17:30:09.070309",
     "status": "completed"
    },
    "tags": []
   },
   "outputs": [],
   "source": [
    "y_train = y_train[keep_mask]"
   ]
  },
  {
   "cell_type": "markdown",
   "id": "493e2ac3",
   "metadata": {
    "papermill": {
     "duration": 0.014221,
     "end_time": "2025-08-06T17:30:09.113527",
     "exception": false,
     "start_time": "2025-08-06T17:30:09.099306",
     "status": "completed"
    },
    "tags": []
   },
   "source": [
    "# Model Training"
   ]
  },
  {
   "cell_type": "code",
   "execution_count": 30,
   "id": "679e1268",
   "metadata": {
    "execution": {
     "iopub.execute_input": "2025-08-06T17:30:09.170191Z",
     "iopub.status.busy": "2025-08-06T17:30:09.169736Z",
     "iopub.status.idle": "2025-08-06T17:30:09.286025Z",
     "shell.execute_reply": "2025-08-06T17:30:09.284853Z"
    },
    "papermill": {
     "duration": 0.144285,
     "end_time": "2025-08-06T17:30:09.288712",
     "exception": false,
     "start_time": "2025-08-06T17:30:09.144427",
     "status": "completed"
    },
    "tags": []
   },
   "outputs": [],
   "source": [
    "from sklearn.linear_model import LogisticRegression\n",
    "from sklearn.ensemble import GradientBoostingClassifier, RandomForestClassifier\n",
    "\n",
    "if (universe[\"model\"] == \"logreg\"):\n",
    "    model = LogisticRegression() #penalty=\"none\", solver=\"newton-cg\", max_iter=1)\n",
    "elif (universe[\"model\"] == \"penalized_logreg\"):\n",
    "    model = LogisticRegression(penalty=\"l2\", C=0.1) #, solver=\"newton-cg\", max_iter=1)\n",
    "elif (universe[\"model\"] == \"rf\"):\n",
    "    model = RandomForestClassifier() # n_estimators=100, n_jobs=-1\n",
    "elif (universe[\"model\"] == \"gbm\"):\n",
    "    model = GradientBoostingClassifier()\n",
    "elif (universe[\"model\"] == \"elasticnet\"):\n",
    "    model = LogisticRegression(penalty = 'elasticnet', solver = 'saga', l1_ratio = 0.5) # max_iter=5000\n",
    "else:\n",
    "    raise \"Unsupported universe.model\""
   ]
  },
  {
   "cell_type": "code",
   "execution_count": 31,
   "id": "0cc8f744",
   "metadata": {
    "execution": {
     "iopub.execute_input": "2025-08-06T17:30:09.352119Z",
     "iopub.status.busy": "2025-08-06T17:30:09.351226Z",
     "iopub.status.idle": "2025-08-06T17:30:09.358804Z",
     "shell.execute_reply": "2025-08-06T17:30:09.357636Z"
    },
    "papermill": {
     "duration": 0.040557,
     "end_time": "2025-08-06T17:30:09.360500",
     "exception": false,
     "start_time": "2025-08-06T17:30:09.319943",
     "status": "completed"
    },
    "tags": []
   },
   "outputs": [],
   "source": [
    "from sklearn.pipeline import Pipeline\n",
    "from sklearn.preprocessing import StandardScaler\n",
    "\n",
    "model = Pipeline([\n",
    "    #(\"continuous_processor\", continuous_processor),\n",
    "    #(\"categorical_preprocessor\", categorical_preprocessor),\n",
    "    (\"scale\", StandardScaler() if universe[\"scale\"] == \"scale\" else None), \n",
    "    (\"model\", model),\n",
    "])"
   ]
  },
  {
   "cell_type": "code",
   "execution_count": 32,
   "id": "9442c04d",
   "metadata": {
    "execution": {
     "iopub.execute_input": "2025-08-06T17:30:09.405171Z",
     "iopub.status.busy": "2025-08-06T17:30:09.404826Z",
     "iopub.status.idle": "2025-08-06T17:30:10.853042Z",
     "shell.execute_reply": "2025-08-06T17:30:10.851999Z"
    },
    "papermill": {
     "duration": 1.461762,
     "end_time": "2025-08-06T17:30:10.855298",
     "exception": false,
     "start_time": "2025-08-06T17:30:09.393536",
     "status": "completed"
    },
    "tags": []
   },
   "outputs": [
    {
     "name": "stderr",
     "output_type": "stream",
     "text": [
      "/dss/dsshome1/0C/ra93lal2/.local/share/virtualenvs/CMA_Fairness_v2-3j10GkSs/lib/python3.10/site-packages/sklearn/linear_model/_sag.py:350: ConvergenceWarning: The max_iter was reached which means the coef_ did not converge\n",
      "  warnings.warn(\n"
     ]
    },
    {
     "data": {
      "text/html": [
       "<style>#sk-container-id-1 {color: black;background-color: white;}#sk-container-id-1 pre{padding: 0;}#sk-container-id-1 div.sk-toggleable {background-color: white;}#sk-container-id-1 label.sk-toggleable__label {cursor: pointer;display: block;width: 100%;margin-bottom: 0;padding: 0.3em;box-sizing: border-box;text-align: center;}#sk-container-id-1 label.sk-toggleable__label-arrow:before {content: \"▸\";float: left;margin-right: 0.25em;color: #696969;}#sk-container-id-1 label.sk-toggleable__label-arrow:hover:before {color: black;}#sk-container-id-1 div.sk-estimator:hover label.sk-toggleable__label-arrow:before {color: black;}#sk-container-id-1 div.sk-toggleable__content {max-height: 0;max-width: 0;overflow: hidden;text-align: left;background-color: #f0f8ff;}#sk-container-id-1 div.sk-toggleable__content pre {margin: 0.2em;color: black;border-radius: 0.25em;background-color: #f0f8ff;}#sk-container-id-1 input.sk-toggleable__control:checked~div.sk-toggleable__content {max-height: 200px;max-width: 100%;overflow: auto;}#sk-container-id-1 input.sk-toggleable__control:checked~label.sk-toggleable__label-arrow:before {content: \"▾\";}#sk-container-id-1 div.sk-estimator input.sk-toggleable__control:checked~label.sk-toggleable__label {background-color: #d4ebff;}#sk-container-id-1 div.sk-label input.sk-toggleable__control:checked~label.sk-toggleable__label {background-color: #d4ebff;}#sk-container-id-1 input.sk-hidden--visually {border: 0;clip: rect(1px 1px 1px 1px);clip: rect(1px, 1px, 1px, 1px);height: 1px;margin: -1px;overflow: hidden;padding: 0;position: absolute;width: 1px;}#sk-container-id-1 div.sk-estimator {font-family: monospace;background-color: #f0f8ff;border: 1px dotted black;border-radius: 0.25em;box-sizing: border-box;margin-bottom: 0.5em;}#sk-container-id-1 div.sk-estimator:hover {background-color: #d4ebff;}#sk-container-id-1 div.sk-parallel-item::after {content: \"\";width: 100%;border-bottom: 1px solid gray;flex-grow: 1;}#sk-container-id-1 div.sk-label:hover label.sk-toggleable__label {background-color: #d4ebff;}#sk-container-id-1 div.sk-serial::before {content: \"\";position: absolute;border-left: 1px solid gray;box-sizing: border-box;top: 0;bottom: 0;left: 50%;z-index: 0;}#sk-container-id-1 div.sk-serial {display: flex;flex-direction: column;align-items: center;background-color: white;padding-right: 0.2em;padding-left: 0.2em;position: relative;}#sk-container-id-1 div.sk-item {position: relative;z-index: 1;}#sk-container-id-1 div.sk-parallel {display: flex;align-items: stretch;justify-content: center;background-color: white;position: relative;}#sk-container-id-1 div.sk-item::before, #sk-container-id-1 div.sk-parallel-item::before {content: \"\";position: absolute;border-left: 1px solid gray;box-sizing: border-box;top: 0;bottom: 0;left: 50%;z-index: -1;}#sk-container-id-1 div.sk-parallel-item {display: flex;flex-direction: column;z-index: 1;position: relative;background-color: white;}#sk-container-id-1 div.sk-parallel-item:first-child::after {align-self: flex-end;width: 50%;}#sk-container-id-1 div.sk-parallel-item:last-child::after {align-self: flex-start;width: 50%;}#sk-container-id-1 div.sk-parallel-item:only-child::after {width: 0;}#sk-container-id-1 div.sk-dashed-wrapped {border: 1px dashed gray;margin: 0 0.4em 0.5em 0.4em;box-sizing: border-box;padding-bottom: 0.4em;background-color: white;}#sk-container-id-1 div.sk-label label {font-family: monospace;font-weight: bold;display: inline-block;line-height: 1.2em;}#sk-container-id-1 div.sk-label-container {text-align: center;}#sk-container-id-1 div.sk-container {/* jupyter's `normalize.less` sets `[hidden] { display: none; }` but bootstrap.min.css set `[hidden] { display: none !important; }` so we also need the `!important` here to be able to override the default hidden behavior on the sphinx rendered scikit-learn.org. See: https://github.com/scikit-learn/scikit-learn/issues/21755 */display: inline-block !important;position: relative;}#sk-container-id-1 div.sk-text-repr-fallback {display: none;}</style><div id=\"sk-container-id-1\" class=\"sk-top-container\"><div class=\"sk-text-repr-fallback\"><pre>Pipeline(steps=[(&#x27;scale&#x27;, StandardScaler()),\n",
       "                (&#x27;model&#x27;,\n",
       "                 LogisticRegression(l1_ratio=0.5, penalty=&#x27;elasticnet&#x27;,\n",
       "                                    solver=&#x27;saga&#x27;))])</pre><b>In a Jupyter environment, please rerun this cell to show the HTML representation or trust the notebook. <br />On GitHub, the HTML representation is unable to render, please try loading this page with nbviewer.org.</b></div><div class=\"sk-container\" hidden><div class=\"sk-item sk-dashed-wrapped\"><div class=\"sk-label-container\"><div class=\"sk-label sk-toggleable\"><input class=\"sk-toggleable__control sk-hidden--visually\" id=\"sk-estimator-id-1\" type=\"checkbox\" ><label for=\"sk-estimator-id-1\" class=\"sk-toggleable__label sk-toggleable__label-arrow\">Pipeline</label><div class=\"sk-toggleable__content\"><pre>Pipeline(steps=[(&#x27;scale&#x27;, StandardScaler()),\n",
       "                (&#x27;model&#x27;,\n",
       "                 LogisticRegression(l1_ratio=0.5, penalty=&#x27;elasticnet&#x27;,\n",
       "                                    solver=&#x27;saga&#x27;))])</pre></div></div></div><div class=\"sk-serial\"><div class=\"sk-item\"><div class=\"sk-estimator sk-toggleable\"><input class=\"sk-toggleable__control sk-hidden--visually\" id=\"sk-estimator-id-2\" type=\"checkbox\" ><label for=\"sk-estimator-id-2\" class=\"sk-toggleable__label sk-toggleable__label-arrow\">StandardScaler</label><div class=\"sk-toggleable__content\"><pre>StandardScaler()</pre></div></div></div><div class=\"sk-item\"><div class=\"sk-estimator sk-toggleable\"><input class=\"sk-toggleable__control sk-hidden--visually\" id=\"sk-estimator-id-3\" type=\"checkbox\" ><label for=\"sk-estimator-id-3\" class=\"sk-toggleable__label sk-toggleable__label-arrow\">LogisticRegression</label><div class=\"sk-toggleable__content\"><pre>LogisticRegression(l1_ratio=0.5, penalty=&#x27;elasticnet&#x27;, solver=&#x27;saga&#x27;)</pre></div></div></div></div></div></div></div>"
      ],
      "text/plain": [
       "Pipeline(steps=[('scale', StandardScaler()),\n",
       "                ('model',\n",
       "                 LogisticRegression(l1_ratio=0.5, penalty='elasticnet',\n",
       "                                    solver='saga'))])"
      ]
     },
     "execution_count": 32,
     "metadata": {},
     "output_type": "execute_result"
    }
   ],
   "source": [
    "model.fit(X_train, y_train.values.ravel())"
   ]
  },
  {
   "cell_type": "code",
   "execution_count": 33,
   "id": "a7cf2e16",
   "metadata": {
    "execution": {
     "iopub.execute_input": "2025-08-06T17:30:10.904796Z",
     "iopub.status.busy": "2025-08-06T17:30:10.904274Z",
     "iopub.status.idle": "2025-08-06T17:30:11.100817Z",
     "shell.execute_reply": "2025-08-06T17:30:11.099719Z"
    },
    "papermill": {
     "duration": 0.221817,
     "end_time": "2025-08-06T17:30:11.102456",
     "exception": false,
     "start_time": "2025-08-06T17:30:10.880639",
     "status": "completed"
    },
    "tags": []
   },
   "outputs": [
    {
     "data": {
      "text/plain": [
       "0.8580537286813065"
      ]
     },
     "execution_count": 33,
     "metadata": {},
     "output_type": "execute_result"
    }
   ],
   "source": [
    "from fairness_multiverse.universe import predict_w_threshold\n",
    "\n",
    "probs_test = model.predict_proba(X_test)\n",
    "\n",
    "'''\n",
    "Below code returns a boolean array (or binary 0/1 array depending on how it’s used) where each element \n",
    "is True if the probability of class 1 is greater than or equal to the threshold, and False otherwise.\n",
    "'''\n",
    "y_pred_default = predict_w_threshold(probs_test, 0.5)\n",
    "\n",
    "from sklearn.metrics import accuracy_score\n",
    "\n",
    "# Naive prediction\n",
    "accuracy_score(y_true = y_true, y_pred = y_pred_default)"
   ]
  },
  {
   "cell_type": "code",
   "execution_count": 34,
   "id": "081964c3",
   "metadata": {
    "execution": {
     "iopub.execute_input": "2025-08-06T17:30:11.145725Z",
     "iopub.status.busy": "2025-08-06T17:30:11.144807Z",
     "iopub.status.idle": "2025-08-06T17:30:11.328457Z",
     "shell.execute_reply": "2025-08-06T17:30:11.327375Z"
    },
    "papermill": {
     "duration": 0.207143,
     "end_time": "2025-08-06T17:30:11.330894",
     "exception": false,
     "start_time": "2025-08-06T17:30:11.123751",
     "status": "completed"
    },
    "tags": []
   },
   "outputs": [
    {
     "data": {
      "text/plain": [
       "array([0, 0, 0, ..., 0, 0, 0])"
      ]
     },
     "execution_count": 34,
     "metadata": {},
     "output_type": "execute_result"
    }
   ],
   "source": [
    "model.predict(X_test)"
   ]
  },
  {
   "cell_type": "markdown",
   "id": "56c9705b",
   "metadata": {
    "papermill": {
     "duration": 0.028715,
     "end_time": "2025-08-06T17:30:11.389477",
     "exception": false,
     "start_time": "2025-08-06T17:30:11.360762",
     "status": "completed"
    },
    "tags": []
   },
   "source": [
    "# Conformal Prediction"
   ]
  },
  {
   "cell_type": "code",
   "execution_count": 35,
   "id": "160ec6ff",
   "metadata": {
    "execution": {
     "iopub.execute_input": "2025-08-06T17:30:11.449790Z",
     "iopub.status.busy": "2025-08-06T17:30:11.449097Z",
     "iopub.status.idle": "2025-08-06T17:30:11.455689Z",
     "shell.execute_reply": "2025-08-06T17:30:11.454641Z"
    },
    "papermill": {
     "duration": 0.038155,
     "end_time": "2025-08-06T17:30:11.457264",
     "exception": false,
     "start_time": "2025-08-06T17:30:11.419109",
     "status": "completed"
    },
    "tags": []
   },
   "outputs": [],
   "source": [
    "# Miscoverage level for conformal prediction (10% allowed error rate => 90% target coverage)\n",
    "alpha = 0.1"
   ]
  },
  {
   "cell_type": "code",
   "execution_count": 36,
   "id": "eadf4555-3dd3-440e-8e35-f82a4ad9f855",
   "metadata": {
    "execution": {
     "iopub.execute_input": "2025-08-06T17:30:11.498971Z",
     "iopub.status.busy": "2025-08-06T17:30:11.498267Z",
     "iopub.status.idle": "2025-08-06T17:30:11.677919Z",
     "shell.execute_reply": "2025-08-06T17:30:11.676977Z"
    },
    "papermill": {
     "duration": 0.20196,
     "end_time": "2025-08-06T17:30:11.679757",
     "exception": false,
     "start_time": "2025-08-06T17:30:11.477797",
     "status": "completed"
    },
    "tags": []
   },
   "outputs": [],
   "source": [
    "probs_calib = model.predict_proba(X_calib)"
   ]
  },
  {
   "cell_type": "code",
   "execution_count": 37,
   "id": "2ed93547-6d5d-4983-9b36-1ecb300da49a",
   "metadata": {
    "execution": {
     "iopub.execute_input": "2025-08-06T17:30:11.722061Z",
     "iopub.status.busy": "2025-08-06T17:30:11.721352Z",
     "iopub.status.idle": "2025-08-06T17:30:11.727551Z",
     "shell.execute_reply": "2025-08-06T17:30:11.726626Z"
    },
    "papermill": {
     "duration": 0.029251,
     "end_time": "2025-08-06T17:30:11.729233",
     "exception": false,
     "start_time": "2025-08-06T17:30:11.699982",
     "status": "completed"
    },
    "tags": []
   },
   "outputs": [],
   "source": [
    "y_calib = y_calib.values.ravel().astype(int)"
   ]
  },
  {
   "cell_type": "code",
   "execution_count": 38,
   "id": "65d1320d-f588-4b38-9072-62af1ae97f7d",
   "metadata": {
    "execution": {
     "iopub.execute_input": "2025-08-06T17:30:11.772583Z",
     "iopub.status.busy": "2025-08-06T17:30:11.771704Z",
     "iopub.status.idle": "2025-08-06T17:30:11.779050Z",
     "shell.execute_reply": "2025-08-06T17:30:11.778212Z"
    },
    "papermill": {
     "duration": 0.029774,
     "end_time": "2025-08-06T17:30:11.780801",
     "exception": false,
     "start_time": "2025-08-06T17:30:11.751027",
     "status": "completed"
    },
    "tags": []
   },
   "outputs": [],
   "source": [
    "from fairness_multiverse.conformal import compute_nc_scores\n",
    "\n",
    "# Compute nonconformity scores on calibration set (1 - probability of true class)\n",
    "nc_scores = compute_nc_scores(probs_calib, y_calib)"
   ]
  },
  {
   "cell_type": "code",
   "execution_count": 39,
   "id": "df3b8ca3-53b7-43d5-9667-7c85da7aeda2",
   "metadata": {
    "execution": {
     "iopub.execute_input": "2025-08-06T17:30:11.828857Z",
     "iopub.status.busy": "2025-08-06T17:30:11.828199Z",
     "iopub.status.idle": "2025-08-06T17:30:11.834655Z",
     "shell.execute_reply": "2025-08-06T17:30:11.833710Z"
    },
    "papermill": {
     "duration": 0.031709,
     "end_time": "2025-08-06T17:30:11.836265",
     "exception": false,
     "start_time": "2025-08-06T17:30:11.804556",
     "status": "completed"
    },
    "tags": []
   },
   "outputs": [],
   "source": [
    "from fairness_multiverse.conformal import find_threshold\n",
    "\n",
    "# Find conformal threshold q_hat for the given alpha (split conformal method)\n",
    "q_hat = find_threshold(nc_scores, alpha)"
   ]
  },
  {
   "cell_type": "code",
   "execution_count": 40,
   "id": "4d29e6c1-0ef6-4aa4-b8fe-4fe79b0d033a",
   "metadata": {
    "execution": {
     "iopub.execute_input": "2025-08-06T17:30:11.882900Z",
     "iopub.status.busy": "2025-08-06T17:30:11.882174Z",
     "iopub.status.idle": "2025-08-06T17:30:11.889042Z",
     "shell.execute_reply": "2025-08-06T17:30:11.888147Z"
    },
    "papermill": {
     "duration": 0.031548,
     "end_time": "2025-08-06T17:30:11.890631",
     "exception": false,
     "start_time": "2025-08-06T17:30:11.859083",
     "status": "completed"
    },
    "tags": []
   },
   "outputs": [
    {
     "data": {
      "text/plain": [
       "0.6918953953552243"
      ]
     },
     "execution_count": 40,
     "metadata": {},
     "output_type": "execute_result"
    }
   ],
   "source": [
    "q_hat"
   ]
  },
  {
   "cell_type": "code",
   "execution_count": 41,
   "id": "92460794-cdac-4be2-ba28-f28c0515a6fb",
   "metadata": {
    "execution": {
     "iopub.execute_input": "2025-08-06T17:30:11.937246Z",
     "iopub.status.busy": "2025-08-06T17:30:11.936634Z",
     "iopub.status.idle": "2025-08-06T17:30:12.795048Z",
     "shell.execute_reply": "2025-08-06T17:30:12.794264Z"
    },
    "papermill": {
     "duration": 0.883713,
     "end_time": "2025-08-06T17:30:12.797039",
     "exception": false,
     "start_time": "2025-08-06T17:30:11.913326",
     "status": "completed"
    },
    "tags": []
   },
   "outputs": [],
   "source": [
    "from fairness_multiverse.conformal import predict_conformal_sets\n",
    "\n",
    "# Generate prediction sets for each test example\n",
    "pred_sets = predict_conformal_sets(model, X_test, q_hat)"
   ]
  },
  {
   "cell_type": "code",
   "execution_count": 42,
   "id": "d90c9a65-e6db-4f5d-80cd-e68fb7e46829",
   "metadata": {
    "execution": {
     "iopub.execute_input": "2025-08-06T17:30:12.844522Z",
     "iopub.status.busy": "2025-08-06T17:30:12.843918Z",
     "iopub.status.idle": "2025-08-06T17:30:12.849644Z",
     "shell.execute_reply": "2025-08-06T17:30:12.848680Z"
    },
    "papermill": {
     "duration": 0.030814,
     "end_time": "2025-08-06T17:30:12.851278",
     "exception": false,
     "start_time": "2025-08-06T17:30:12.820464",
     "status": "completed"
    },
    "tags": []
   },
   "outputs": [],
   "source": [
    "y_true = y_true.squeeze()"
   ]
  },
  {
   "cell_type": "code",
   "execution_count": 43,
   "id": "3a58a54a-1e68-46b9-927a-df01f18aebc8",
   "metadata": {
    "execution": {
     "iopub.execute_input": "2025-08-06T17:30:12.898390Z",
     "iopub.status.busy": "2025-08-06T17:30:12.897906Z",
     "iopub.status.idle": "2025-08-06T17:30:13.890453Z",
     "shell.execute_reply": "2025-08-06T17:30:13.889513Z"
    },
    "papermill": {
     "duration": 1.017817,
     "end_time": "2025-08-06T17:30:13.892383",
     "exception": false,
     "start_time": "2025-08-06T17:30:12.874566",
     "status": "completed"
    },
    "tags": []
   },
   "outputs": [],
   "source": [
    "from fairness_multiverse.conformal import evaluate_sets\n",
    "\n",
    "# Evaluate coverage and average set size on test data\n",
    "metrics = evaluate_sets(pred_sets, y_true)"
   ]
  },
  {
   "cell_type": "markdown",
   "id": "2b569c12-9aaa-4c88-98c9-bbcd0cf3ebb8",
   "metadata": {
    "papermill": {
     "duration": 0.034083,
     "end_time": "2025-08-06T17:30:13.947522",
     "exception": false,
     "start_time": "2025-08-06T17:30:13.913439",
     "status": "completed"
    },
    "tags": []
   },
   "source": [
    "# CP Metrics"
   ]
  },
  {
   "cell_type": "code",
   "execution_count": 44,
   "id": "5ce0a5cb-201f-45a0-ade5-94c7f0bd6095",
   "metadata": {
    "execution": {
     "iopub.execute_input": "2025-08-06T17:30:13.981709Z",
     "iopub.status.busy": "2025-08-06T17:30:13.981246Z",
     "iopub.status.idle": "2025-08-06T17:30:13.988883Z",
     "shell.execute_reply": "2025-08-06T17:30:13.987829Z"
    },
    "papermill": {
     "duration": 0.021657,
     "end_time": "2025-08-06T17:30:13.990628",
     "exception": false,
     "start_time": "2025-08-06T17:30:13.968971",
     "status": "completed"
    },
    "tags": []
   },
   "outputs": [
    {
     "data": {
      "text/plain": [
       "{'coverage': 0.9110578530821536, 'avg_size': 1.135269200757998}"
      ]
     },
     "execution_count": 44,
     "metadata": {},
     "output_type": "execute_result"
    }
   ],
   "source": [
    "metrics"
   ]
  },
  {
   "cell_type": "code",
   "execution_count": 45,
   "id": "9b9a838d-31c9-430b-ae14-12baee460d17",
   "metadata": {
    "execution": {
     "iopub.execute_input": "2025-08-06T17:30:14.042613Z",
     "iopub.status.busy": "2025-08-06T17:30:14.042145Z",
     "iopub.status.idle": "2025-08-06T17:30:14.048645Z",
     "shell.execute_reply": "2025-08-06T17:30:14.047678Z"
    },
    "papermill": {
     "duration": 0.034899,
     "end_time": "2025-08-06T17:30:14.050266",
     "exception": false,
     "start_time": "2025-08-06T17:30:14.015367",
     "status": "completed"
    },
    "tags": []
   },
   "outputs": [],
   "source": [
    "example_universe = universe.copy()\n",
    "universe_training_year = example_universe.get(\"training_year\")\n",
    "universe_training_size = example_universe.get(\"training_size\")\n",
    "universe_scale = example_universe.get(\"scale\")\n",
    "universe_model = example_universe.get(\"model\")\n",
    "universe_exclude_features = example_universe.get(\"exclude_features\")\n",
    "universe_exclude_subgroups = example_universe.get(\"exclude_subgroups\")"
   ]
  },
  {
   "cell_type": "code",
   "execution_count": 46,
   "id": "f4b6a8ac-9dc0-4245-8a91-5b3b5999c4f9",
   "metadata": {
    "execution": {
     "iopub.execute_input": "2025-08-06T17:30:14.100531Z",
     "iopub.status.busy": "2025-08-06T17:30:14.099480Z",
     "iopub.status.idle": "2025-08-06T17:30:14.107134Z",
     "shell.execute_reply": "2025-08-06T17:30:14.106132Z"
    },
    "papermill": {
     "duration": 0.034357,
     "end_time": "2025-08-06T17:30:14.108840",
     "exception": false,
     "start_time": "2025-08-06T17:30:14.074483",
     "status": "completed"
    },
    "tags": []
   },
   "outputs": [],
   "source": [
    "cp_metrics_dict = {\n",
    "    \"universe_id\": [universe_id],\n",
    "    \"universe_training_year\": [universe_training_year],\n",
    "    \"universe_training_size\": [universe_training_size],\n",
    "    \"universe_scale\": [universe_scale],\n",
    "    \"universe_model\": [universe_model],\n",
    "    \"universe_exclude_features\": [universe_exclude_features],\n",
    "    \"universe_exclude_subgroups\": [universe_exclude_subgroups],\n",
    "    \"q_hat\": [q_hat],\n",
    "    \"coverage\": [metrics[\"coverage\"]],\n",
    "    \"avg_size\": [metrics[\"avg_size\"]],\n",
    "}"
   ]
  },
  {
   "cell_type": "code",
   "execution_count": 47,
   "id": "33007efc-14e9-4ec6-97ac-56a455c82265",
   "metadata": {
    "execution": {
     "iopub.execute_input": "2025-08-06T17:30:14.159416Z",
     "iopub.status.busy": "2025-08-06T17:30:14.158761Z",
     "iopub.status.idle": "2025-08-06T17:30:14.166689Z",
     "shell.execute_reply": "2025-08-06T17:30:14.165603Z"
    },
    "papermill": {
     "duration": 0.03482,
     "end_time": "2025-08-06T17:30:14.168445",
     "exception": false,
     "start_time": "2025-08-06T17:30:14.133625",
     "status": "completed"
    },
    "tags": []
   },
   "outputs": [],
   "source": [
    "cp_metrics_df = pd.DataFrame(cp_metrics_dict)"
   ]
  },
  {
   "cell_type": "code",
   "execution_count": 48,
   "id": "db12611b-57b2-4910-b9d0-355adfd6e7bf",
   "metadata": {
    "execution": {
     "iopub.execute_input": "2025-08-06T17:30:14.219814Z",
     "iopub.status.busy": "2025-08-06T17:30:14.219021Z",
     "iopub.status.idle": "2025-08-06T17:30:14.237225Z",
     "shell.execute_reply": "2025-08-06T17:30:14.236173Z"
    },
    "papermill": {
     "duration": 0.04618,
     "end_time": "2025-08-06T17:30:14.239256",
     "exception": false,
     "start_time": "2025-08-06T17:30:14.193076",
     "status": "completed"
    },
    "tags": []
   },
   "outputs": [
    {
     "data": {
      "text/html": [
       "<div>\n",
       "<style scoped>\n",
       "    .dataframe tbody tr th:only-of-type {\n",
       "        vertical-align: middle;\n",
       "    }\n",
       "\n",
       "    .dataframe tbody tr th {\n",
       "        vertical-align: top;\n",
       "    }\n",
       "\n",
       "    .dataframe thead th {\n",
       "        text-align: right;\n",
       "    }\n",
       "</style>\n",
       "<table border=\"1\" class=\"dataframe\">\n",
       "  <thead>\n",
       "    <tr style=\"text-align: right;\">\n",
       "      <th></th>\n",
       "      <th>universe_id</th>\n",
       "      <th>universe_training_year</th>\n",
       "      <th>universe_training_size</th>\n",
       "      <th>universe_scale</th>\n",
       "      <th>universe_model</th>\n",
       "      <th>universe_exclude_features</th>\n",
       "      <th>universe_exclude_subgroups</th>\n",
       "      <th>q_hat</th>\n",
       "      <th>coverage</th>\n",
       "      <th>avg_size</th>\n",
       "    </tr>\n",
       "  </thead>\n",
       "  <tbody>\n",
       "    <tr>\n",
       "      <th>0</th>\n",
       "      <td>d3fd1038645adbb667b758f13f91b89e</td>\n",
       "      <td>2012_14</td>\n",
       "      <td>5k</td>\n",
       "      <td>scale</td>\n",
       "      <td>elasticnet</td>\n",
       "      <td>sex</td>\n",
       "      <td>drop-non-german</td>\n",
       "      <td>0.691895</td>\n",
       "      <td>0.911058</td>\n",
       "      <td>1.135269</td>\n",
       "    </tr>\n",
       "  </tbody>\n",
       "</table>\n",
       "</div>"
      ],
      "text/plain": [
       "                        universe_id universe_training_year  \\\n",
       "0  d3fd1038645adbb667b758f13f91b89e                2012_14   \n",
       "\n",
       "  universe_training_size universe_scale universe_model  \\\n",
       "0                     5k          scale     elasticnet   \n",
       "\n",
       "  universe_exclude_features universe_exclude_subgroups     q_hat  coverage  \\\n",
       "0                       sex            drop-non-german  0.691895  0.911058   \n",
       "\n",
       "   avg_size  \n",
       "0  1.135269  "
      ]
     },
     "execution_count": 48,
     "metadata": {},
     "output_type": "execute_result"
    }
   ],
   "source": [
    "cp_metrics_df"
   ]
  },
  {
   "cell_type": "markdown",
   "id": "c825ecb4-0d3d-41d6-b7c6-eccb21272259",
   "metadata": {
    "papermill": {
     "duration": 0.027266,
     "end_time": "2025-08-06T17:30:14.294336",
     "exception": false,
     "start_time": "2025-08-06T17:30:14.267070",
     "status": "completed"
    },
    "tags": []
   },
   "source": [
    "Conditional coverage & looking at subgroups"
   ]
  },
  {
   "cell_type": "code",
   "execution_count": 49,
   "id": "027ae886-68dd-4141-96c7-805a5450e1ef",
   "metadata": {
    "execution": {
     "iopub.execute_input": "2025-08-06T17:30:14.353900Z",
     "iopub.status.busy": "2025-08-06T17:30:14.352759Z",
     "iopub.status.idle": "2025-08-06T17:30:14.640253Z",
     "shell.execute_reply": "2025-08-06T17:30:14.639209Z"
    },
    "papermill": {
     "duration": 0.320803,
     "end_time": "2025-08-06T17:30:14.642769",
     "exception": false,
     "start_time": "2025-08-06T17:30:14.321966",
     "status": "completed"
    },
    "tags": []
   },
   "outputs": [],
   "source": [
    "from fairness_multiverse.conformal import build_cp_groups\n",
    "\n",
    "cp_groups_df = build_cp_groups(pred_sets, y_true, X_test.index, org_test)"
   ]
  },
  {
   "cell_type": "code",
   "execution_count": 50,
   "id": "6cbdab96-b2b2-45af-ad54-d0516db2e28d",
   "metadata": {
    "execution": {
     "iopub.execute_input": "2025-08-06T17:30:14.742198Z",
     "iopub.status.busy": "2025-08-06T17:30:14.741412Z",
     "iopub.status.idle": "2025-08-06T17:30:16.412274Z",
     "shell.execute_reply": "2025-08-06T17:30:16.411197Z"
    },
    "papermill": {
     "duration": 1.706446,
     "end_time": "2025-08-06T17:30:16.414244",
     "exception": false,
     "start_time": "2025-08-06T17:30:14.707798",
     "status": "completed"
    },
    "tags": []
   },
   "outputs": [],
   "source": [
    "# Define covered = 1 if true_label is in the predicted set\n",
    "cp_groups_df['covered'] = cp_groups_df.apply(\n",
    "    lambda r: int(r['true_label'] in r['pred_set']),\n",
    "    axis=1\n",
    ")"
   ]
  },
  {
   "cell_type": "code",
   "execution_count": 51,
   "id": "90032e27-66df-4540-9169-4e89cfbaa758",
   "metadata": {
    "execution": {
     "iopub.execute_input": "2025-08-06T17:30:16.464290Z",
     "iopub.status.busy": "2025-08-06T17:30:16.463763Z",
     "iopub.status.idle": "2025-08-06T17:30:16.475691Z",
     "shell.execute_reply": "2025-08-06T17:30:16.474903Z"
    },
    "papermill": {
     "duration": 0.039176,
     "end_time": "2025-08-06T17:30:16.477284",
     "exception": false,
     "start_time": "2025-08-06T17:30:16.438108",
     "status": "completed"
    },
    "tags": []
   },
   "outputs": [],
   "source": [
    "subgroups = ['frau1','nongerman','nongerman_male','nongerman_female']\n",
    "\n",
    "# Conditional coverage for subgroup==1\n",
    "cond_coverage = {\n",
    "    g: cp_groups_df.loc[cp_groups_df[g]==1, 'covered'].mean()\n",
    "    for g in subgroups\n",
    "}"
   ]
  },
  {
   "cell_type": "code",
   "execution_count": 52,
   "id": "1e348fb1-b9c3-45bc-ba23-f016827a7e0d",
   "metadata": {
    "execution": {
     "iopub.execute_input": "2025-08-06T17:30:16.503978Z",
     "iopub.status.busy": "2025-08-06T17:30:16.503454Z",
     "iopub.status.idle": "2025-08-06T17:30:16.510176Z",
     "shell.execute_reply": "2025-08-06T17:30:16.509431Z"
    },
    "papermill": {
     "duration": 0.02159,
     "end_time": "2025-08-06T17:30:16.511526",
     "exception": false,
     "start_time": "2025-08-06T17:30:16.489936",
     "status": "completed"
    },
    "tags": []
   },
   "outputs": [
    {
     "data": {
      "text/plain": [
       "{'frau1': 0.9076425394257986,\n",
       " 'nongerman': 0.9074271599393702,\n",
       " 'nongerman_male': 0.9253354949112852,\n",
       " 'nongerman_female': 0.8777943368107303}"
      ]
     },
     "execution_count": 52,
     "metadata": {},
     "output_type": "execute_result"
    }
   ],
   "source": [
    "cond_coverage"
   ]
  },
  {
   "cell_type": "code",
   "execution_count": 53,
   "id": "f5093324-c3dd-4d63-bc4c-8d945e5c8bbb",
   "metadata": {
    "execution": {
     "iopub.execute_input": "2025-08-06T17:30:16.540687Z",
     "iopub.status.busy": "2025-08-06T17:30:16.540174Z",
     "iopub.status.idle": "2025-08-06T17:30:16.546319Z",
     "shell.execute_reply": "2025-08-06T17:30:16.545529Z"
    },
    "papermill": {
     "duration": 0.023059,
     "end_time": "2025-08-06T17:30:16.547703",
     "exception": false,
     "start_time": "2025-08-06T17:30:16.524644",
     "status": "completed"
    },
    "tags": []
   },
   "outputs": [],
   "source": [
    "for subgroup, cov in cond_coverage.items():\n",
    "    cp_metrics_df[f\"cov_{subgroup}\"] = cov"
   ]
  },
  {
   "cell_type": "code",
   "execution_count": 54,
   "id": "6e872e10-dbe5-49e8-b554-5030c98ff75d",
   "metadata": {
    "execution": {
     "iopub.execute_input": "2025-08-06T17:30:16.574473Z",
     "iopub.status.busy": "2025-08-06T17:30:16.573954Z",
     "iopub.status.idle": "2025-08-06T17:30:16.590470Z",
     "shell.execute_reply": "2025-08-06T17:30:16.589726Z"
    },
    "papermill": {
     "duration": 0.031104,
     "end_time": "2025-08-06T17:30:16.591826",
     "exception": false,
     "start_time": "2025-08-06T17:30:16.560722",
     "status": "completed"
    },
    "tags": []
   },
   "outputs": [
    {
     "data": {
      "text/html": [
       "<div>\n",
       "<style scoped>\n",
       "    .dataframe tbody tr th:only-of-type {\n",
       "        vertical-align: middle;\n",
       "    }\n",
       "\n",
       "    .dataframe tbody tr th {\n",
       "        vertical-align: top;\n",
       "    }\n",
       "\n",
       "    .dataframe thead th {\n",
       "        text-align: right;\n",
       "    }\n",
       "</style>\n",
       "<table border=\"1\" class=\"dataframe\">\n",
       "  <thead>\n",
       "    <tr style=\"text-align: right;\">\n",
       "      <th></th>\n",
       "      <th>universe_id</th>\n",
       "      <th>universe_training_year</th>\n",
       "      <th>universe_training_size</th>\n",
       "      <th>universe_scale</th>\n",
       "      <th>universe_model</th>\n",
       "      <th>universe_exclude_features</th>\n",
       "      <th>universe_exclude_subgroups</th>\n",
       "      <th>q_hat</th>\n",
       "      <th>coverage</th>\n",
       "      <th>avg_size</th>\n",
       "      <th>cov_frau1</th>\n",
       "      <th>cov_nongerman</th>\n",
       "      <th>cov_nongerman_male</th>\n",
       "      <th>cov_nongerman_female</th>\n",
       "    </tr>\n",
       "  </thead>\n",
       "  <tbody>\n",
       "    <tr>\n",
       "      <th>0</th>\n",
       "      <td>d3fd1038645adbb667b758f13f91b89e</td>\n",
       "      <td>2012_14</td>\n",
       "      <td>5k</td>\n",
       "      <td>scale</td>\n",
       "      <td>elasticnet</td>\n",
       "      <td>sex</td>\n",
       "      <td>drop-non-german</td>\n",
       "      <td>0.691895</td>\n",
       "      <td>0.911058</td>\n",
       "      <td>1.135269</td>\n",
       "      <td>0.907643</td>\n",
       "      <td>0.907427</td>\n",
       "      <td>0.925335</td>\n",
       "      <td>0.877794</td>\n",
       "    </tr>\n",
       "  </tbody>\n",
       "</table>\n",
       "</div>"
      ],
      "text/plain": [
       "                        universe_id universe_training_year  \\\n",
       "0  d3fd1038645adbb667b758f13f91b89e                2012_14   \n",
       "\n",
       "  universe_training_size universe_scale universe_model  \\\n",
       "0                     5k          scale     elasticnet   \n",
       "\n",
       "  universe_exclude_features universe_exclude_subgroups     q_hat  coverage  \\\n",
       "0                       sex            drop-non-german  0.691895  0.911058   \n",
       "\n",
       "   avg_size  cov_frau1  cov_nongerman  cov_nongerman_male  \\\n",
       "0  1.135269   0.907643       0.907427            0.925335   \n",
       "\n",
       "   cov_nongerman_female  \n",
       "0              0.877794  "
      ]
     },
     "execution_count": 54,
     "metadata": {},
     "output_type": "execute_result"
    }
   ],
   "source": [
    "cp_metrics_df"
   ]
  },
  {
   "cell_type": "markdown",
   "id": "33774451",
   "metadata": {
    "papermill": {
     "duration": 0.012898,
     "end_time": "2025-08-06T17:30:16.618081",
     "exception": false,
     "start_time": "2025-08-06T17:30:16.605183",
     "status": "completed"
    },
    "tags": []
   },
   "source": [
    "# (Fairness) Metrics"
   ]
  },
  {
   "cell_type": "code",
   "execution_count": 55,
   "id": "debc5d62",
   "metadata": {
    "execution": {
     "iopub.execute_input": "2025-08-06T17:30:16.645263Z",
     "iopub.status.busy": "2025-08-06T17:30:16.644748Z",
     "iopub.status.idle": "2025-08-06T17:30:16.659872Z",
     "shell.execute_reply": "2025-08-06T17:30:16.658953Z"
    },
    "papermill": {
     "duration": 0.031256,
     "end_time": "2025-08-06T17:30:16.662096",
     "exception": false,
     "start_time": "2025-08-06T17:30:16.630840",
     "status": "completed"
    },
    "tags": []
   },
   "outputs": [],
   "source": [
    "colname_to_bin = \"maxdeutsch1\"\n",
    "majority_value = org_train[colname_to_bin].mode()[0]\n",
    "\n",
    "org_test[\"majmin\"] = np.where(org_test[colname_to_bin] == majority_value, \"majority\", \"minority\")"
   ]
  },
  {
   "cell_type": "code",
   "execution_count": 56,
   "id": "06a50de5",
   "metadata": {
    "execution": {
     "iopub.execute_input": "2025-08-06T17:30:16.709798Z",
     "iopub.status.busy": "2025-08-06T17:30:16.709141Z",
     "iopub.status.idle": "2025-08-06T17:30:19.439095Z",
     "shell.execute_reply": "2025-08-06T17:30:19.438111Z"
    },
    "papermill": {
     "duration": 2.755759,
     "end_time": "2025-08-06T17:30:19.441060",
     "exception": false,
     "start_time": "2025-08-06T17:30:16.685301",
     "status": "completed"
    },
    "tags": []
   },
   "outputs": [],
   "source": [
    "example_universe = universe.copy()\n",
    "example_universe[\"cutoff\"] = example_universe[\"cutoff\"][0]\n",
    "example_universe[\"eval_fairness_grouping\"] = example_universe[\"eval_fairness_grouping\"][0]\n",
    "fairness_dict, metric_frame = universe_analysis.compute_metrics(\n",
    "    example_universe,\n",
    "    y_pred_prob=probs_test,\n",
    "    y_test=y_true,\n",
    "    org_test=org_test,\n",
    ")"
   ]
  },
  {
   "cell_type": "markdown",
   "id": "f95d4e02",
   "metadata": {
    "papermill": {
     "duration": 0.02505,
     "end_time": "2025-08-06T17:30:19.494443",
     "exception": false,
     "start_time": "2025-08-06T17:30:19.469393",
     "status": "completed"
    },
    "tags": []
   },
   "source": [
    "# Overall"
   ]
  },
  {
   "cell_type": "markdown",
   "id": "bdee4871",
   "metadata": {
    "papermill": {
     "duration": 0.024969,
     "end_time": "2025-08-06T17:30:19.544542",
     "exception": false,
     "start_time": "2025-08-06T17:30:19.519573",
     "status": "completed"
    },
    "tags": []
   },
   "source": [
    "Main fairness target: Equalized Odds. Seems to be a better fit than equal opportunity, since we're not only interested in Y = 1. Seems to be a better fit than demographic parity, since we also care about accuracy, not just equal distribution of preds.\n",
    "\n",
    "Pick column for computation of fairness metrics\n",
    "\n",
    "Performance\n",
    "Overall performance measures, most interesting in relation to the measures split by group below"
   ]
  },
  {
   "cell_type": "code",
   "execution_count": 57,
   "id": "c4e067c6",
   "metadata": {
    "execution": {
     "iopub.execute_input": "2025-08-06T17:30:19.596412Z",
     "iopub.status.busy": "2025-08-06T17:30:19.595427Z",
     "iopub.status.idle": "2025-08-06T17:30:19.603957Z",
     "shell.execute_reply": "2025-08-06T17:30:19.602906Z"
    },
    "papermill": {
     "duration": 0.036603,
     "end_time": "2025-08-06T17:30:19.606041",
     "exception": false,
     "start_time": "2025-08-06T17:30:19.569438",
     "status": "completed"
    },
    "tags": []
   },
   "outputs": [
    {
     "data": {
      "text/plain": [
       "accuracy                   0.223821\n",
       "balanced accuracy          0.547390\n",
       "f1                         0.245168\n",
       "precision                  0.140056\n",
       "false positive rate        0.887842\n",
       "false negative rate        0.017379\n",
       "selection rate             0.900000\n",
       "count                  89710.000000\n",
       "dtype: float64"
      ]
     },
     "execution_count": 57,
     "metadata": {},
     "output_type": "execute_result"
    }
   ],
   "source": [
    "metric_frame.overall"
   ]
  },
  {
   "cell_type": "markdown",
   "id": "e968fe9d",
   "metadata": {
    "papermill": {
     "duration": 0.025571,
     "end_time": "2025-08-06T17:30:19.657337",
     "exception": false,
     "start_time": "2025-08-06T17:30:19.631766",
     "status": "completed"
    },
    "tags": []
   },
   "source": [
    "By Group"
   ]
  },
  {
   "cell_type": "code",
   "execution_count": 58,
   "id": "ec325bce",
   "metadata": {
    "execution": {
     "iopub.execute_input": "2025-08-06T17:30:19.711511Z",
     "iopub.status.busy": "2025-08-06T17:30:19.710932Z",
     "iopub.status.idle": "2025-08-06T17:30:19.732378Z",
     "shell.execute_reply": "2025-08-06T17:30:19.731246Z"
    },
    "papermill": {
     "duration": 0.051179,
     "end_time": "2025-08-06T17:30:19.734102",
     "exception": false,
     "start_time": "2025-08-06T17:30:19.682923",
     "status": "completed"
    },
    "tags": []
   },
   "outputs": [
    {
     "data": {
      "text/html": [
       "<div>\n",
       "<style scoped>\n",
       "    .dataframe tbody tr th:only-of-type {\n",
       "        vertical-align: middle;\n",
       "    }\n",
       "\n",
       "    .dataframe tbody tr th {\n",
       "        vertical-align: top;\n",
       "    }\n",
       "\n",
       "    .dataframe thead th {\n",
       "        text-align: right;\n",
       "    }\n",
       "</style>\n",
       "<table border=\"1\" class=\"dataframe\">\n",
       "  <thead>\n",
       "    <tr style=\"text-align: right;\">\n",
       "      <th></th>\n",
       "      <th>accuracy</th>\n",
       "      <th>balanced accuracy</th>\n",
       "      <th>f1</th>\n",
       "      <th>precision</th>\n",
       "      <th>false positive rate</th>\n",
       "      <th>false negative rate</th>\n",
       "      <th>selection rate</th>\n",
       "      <th>count</th>\n",
       "    </tr>\n",
       "    <tr>\n",
       "      <th>majmin</th>\n",
       "      <th></th>\n",
       "      <th></th>\n",
       "      <th></th>\n",
       "      <th></th>\n",
       "      <th></th>\n",
       "      <th></th>\n",
       "      <th></th>\n",
       "      <th></th>\n",
       "    </tr>\n",
       "  </thead>\n",
       "  <tbody>\n",
       "    <tr>\n",
       "      <th>majority</th>\n",
       "      <td>0.240943</td>\n",
       "      <td>0.554894</td>\n",
       "      <td>0.254713</td>\n",
       "      <td>0.146343</td>\n",
       "      <td>0.871831</td>\n",
       "      <td>0.018381</td>\n",
       "      <td>0.886338</td>\n",
       "      <td>69170.0</td>\n",
       "    </tr>\n",
       "    <tr>\n",
       "      <th>minority</th>\n",
       "      <td>0.166164</td>\n",
       "      <td>0.522877</td>\n",
       "      <td>0.214322</td>\n",
       "      <td>0.120220</td>\n",
       "      <td>0.940733</td>\n",
       "      <td>0.013514</td>\n",
       "      <td>0.946008</td>\n",
       "      <td>20540.0</td>\n",
       "    </tr>\n",
       "  </tbody>\n",
       "</table>\n",
       "</div>"
      ],
      "text/plain": [
       "          accuracy  balanced accuracy        f1  precision  \\\n",
       "majmin                                                       \n",
       "majority  0.240943           0.554894  0.254713   0.146343   \n",
       "minority  0.166164           0.522877  0.214322   0.120220   \n",
       "\n",
       "          false positive rate  false negative rate  selection rate    count  \n",
       "majmin                                                                       \n",
       "majority             0.871831             0.018381        0.886338  69170.0  \n",
       "minority             0.940733             0.013514        0.946008  20540.0  "
      ]
     },
     "execution_count": 58,
     "metadata": {},
     "output_type": "execute_result"
    }
   ],
   "source": [
    "metric_frame.by_group"
   ]
  },
  {
   "cell_type": "code",
   "execution_count": 59,
   "id": "a9ddbe63",
   "metadata": {
    "execution": {
     "iopub.execute_input": "2025-08-06T17:30:19.788960Z",
     "iopub.status.busy": "2025-08-06T17:30:19.787963Z",
     "iopub.status.idle": "2025-08-06T17:30:21.900499Z",
     "shell.execute_reply": "2025-08-06T17:30:21.899790Z"
    },
    "papermill": {
     "duration": 2.14072,
     "end_time": "2025-08-06T17:30:21.901887",
     "exception": false,
     "start_time": "2025-08-06T17:30:19.761167",
     "status": "completed"
    },
    "tags": []
   },
   "outputs": [
    {
     "data": {
      "text/plain": [
       "array([[<Axes: title={'center': 'accuracy'}, xlabel='majmin'>,\n",
       "        <Axes: title={'center': 'balanced accuracy'}, xlabel='majmin'>,\n",
       "        <Axes: title={'center': 'f1'}, xlabel='majmin'>],\n",
       "       [<Axes: title={'center': 'precision'}, xlabel='majmin'>,\n",
       "        <Axes: title={'center': 'false positive rate'}, xlabel='majmin'>,\n",
       "        <Axes: title={'center': 'false negative rate'}, xlabel='majmin'>],\n",
       "       [<Axes: title={'center': 'selection rate'}, xlabel='majmin'>,\n",
       "        <Axes: title={'center': 'count'}, xlabel='majmin'>,\n",
       "        <Axes: xlabel='majmin'>]], dtype=object)"
      ]
     },
     "execution_count": 59,
     "metadata": {},
     "output_type": "execute_result"
    },
    {
     "data": {
      "image/png": "[encoded data removed]",
      "text/plain": [
       "<Figure size 1200x800 with 9 Axes>"
      ]
     },
     "metadata": {},
     "output_type": "display_data"
    }
   ],
   "source": [
    "# In a graphic\n",
    "metric_frame.by_group.plot.bar(\n",
    "    subplots=True,\n",
    "    layout=[3, 3],\n",
    "    legend=False,\n",
    "    figsize=[12, 8],\n",
    "    title=\"Show all metrics\",\n",
    ")"
   ]
  },
  {
   "cell_type": "markdown",
   "id": "f57a0bac",
   "metadata": {
    "papermill": {
     "duration": 0.025414,
     "end_time": "2025-08-06T17:30:21.953554",
     "exception": false,
     "start_time": "2025-08-06T17:30:21.928140",
     "status": "completed"
    },
    "tags": []
   },
   "source": [
    "# Final Output"
   ]
  },
  {
   "cell_type": "code",
   "execution_count": 60,
   "id": "96d280a3",
   "metadata": {
    "execution": {
     "iopub.execute_input": "2025-08-06T17:30:22.006681Z",
     "iopub.status.busy": "2025-08-06T17:30:22.006013Z",
     "iopub.status.idle": "2025-08-06T17:30:22.014192Z",
     "shell.execute_reply": "2025-08-06T17:30:22.013256Z"
    },
    "papermill": {
     "duration": 0.037157,
     "end_time": "2025-08-06T17:30:22.015756",
     "exception": false,
     "start_time": "2025-08-06T17:30:21.978599",
     "status": "completed"
    },
    "tags": []
   },
   "outputs": [
    {
     "data": {
      "text/plain": [
       "4"
      ]
     },
     "execution_count": 60,
     "metadata": {},
     "output_type": "execute_result"
    }
   ],
   "source": [
    "sub_universes = universe_analysis.generate_sub_universes()\n",
    "len(sub_universes)"
   ]
  },
  {
   "cell_type": "code",
   "execution_count": 61,
   "id": "92adf7ba",
   "metadata": {
    "execution": {
     "iopub.execute_input": "2025-08-06T17:30:22.068603Z",
     "iopub.status.busy": "2025-08-06T17:30:22.067947Z",
     "iopub.status.idle": "2025-08-06T17:30:22.074086Z",
     "shell.execute_reply": "2025-08-06T17:30:22.073183Z"
    },
    "papermill": {
     "duration": 0.034721,
     "end_time": "2025-08-06T17:30:22.075790",
     "exception": false,
     "start_time": "2025-08-06T17:30:22.041069",
     "status": "completed"
    },
    "tags": []
   },
   "outputs": [],
   "source": [
    "def filter_sub_universe_data(sub_universe, org_test):\n",
    "    # Keep all rows — no filtering\n",
    "    keep_rows_mask = np.ones(org_test.shape[0], dtype=bool)\n",
    "\n",
    "    print(f\"[INFO] Keeping all rows: {keep_rows_mask.sum()} rows retained.\")\n",
    "    return keep_rows_mask"
   ]
  },
  {
   "cell_type": "code",
   "execution_count": 62,
   "id": "4a759155",
   "metadata": {
    "execution": {
     "iopub.execute_input": "2025-08-06T17:30:22.129964Z",
     "iopub.status.busy": "2025-08-06T17:30:22.129047Z",
     "iopub.status.idle": "2025-08-06T17:30:29.569014Z",
     "shell.execute_reply": "2025-08-06T17:30:29.568203Z"
    },
    "papermill": {
     "duration": 7.468989,
     "end_time": "2025-08-06T17:30:29.570499",
     "exception": false,
     "start_time": "2025-08-06T17:30:22.101510",
     "status": "completed"
    },
    "tags": []
   },
   "outputs": [
    {
     "name": "stdout",
     "output_type": "stream",
     "text": [
      "Stopping execution_time clock.\n",
      "[INFO] Keeping all rows: 89710 rows retained.\n"
     ]
    },
    {
     "name": "stdout",
     "output_type": "stream",
     "text": [
      "[INFO] Keeping all rows: 89710 rows retained.\n"
     ]
    },
    {
     "name": "stdout",
     "output_type": "stream",
     "text": [
      "[INFO] Keeping all rows: 89710 rows retained.\n"
     ]
    },
    {
     "name": "stdout",
     "output_type": "stream",
     "text": [
      "[INFO] Keeping all rows: 89710 rows retained.\n"
     ]
    },
    {
     "data": {
      "text/html": [
       "<div>\n",
       "<style scoped>\n",
       "    .dataframe tbody tr th:only-of-type {\n",
       "        vertical-align: middle;\n",
       "    }\n",
       "\n",
       "    .dataframe tbody tr th {\n",
       "        vertical-align: top;\n",
       "    }\n",
       "\n",
       "    .dataframe thead th {\n",
       "        text-align: right;\n",
       "    }\n",
       "</style>\n",
       "<table border=\"1\" class=\"dataframe\">\n",
       "  <thead>\n",
       "    <tr style=\"text-align: right;\">\n",
       "      <th></th>\n",
       "      <th>run_no</th>\n",
       "      <th>universe_id</th>\n",
       "      <th>universe_settings</th>\n",
       "      <th>execution_time</th>\n",
       "      <th>test_size_n</th>\n",
       "      <th>test_size_frac</th>\n",
       "      <th>fair_main_equalized_odds_difference</th>\n",
       "      <th>fair_main_equalized_odds_ratio</th>\n",
       "      <th>fair_main_demographic_parity_difference</th>\n",
       "      <th>fair_main_demographic_parity_ratio</th>\n",
       "      <th>...</th>\n",
       "      <th>perf_grp_precision_0</th>\n",
       "      <th>perf_grp_precision_1</th>\n",
       "      <th>perf_grp_false positive rate_0</th>\n",
       "      <th>perf_grp_false positive rate_1</th>\n",
       "      <th>perf_grp_false negative rate_0</th>\n",
       "      <th>perf_grp_false negative rate_1</th>\n",
       "      <th>perf_grp_selection rate_0</th>\n",
       "      <th>perf_grp_selection rate_1</th>\n",
       "      <th>perf_grp_count_0</th>\n",
       "      <th>perf_grp_count_1</th>\n",
       "    </tr>\n",
       "  </thead>\n",
       "  <tbody>\n",
       "    <tr>\n",
       "      <th>0</th>\n",
       "      <td>1</td>\n",
       "      <td>d3fd1038645adbb667b758f13f91b89e</td>\n",
       "      <td>{\"cutoff\": \"quantile_0.1\", \"eval_fairness_grou...</td>\n",
       "      <td>26.885352</td>\n",
       "      <td>89710</td>\n",
       "      <td>1.0</td>\n",
       "      <td>0.068902</td>\n",
       "      <td>0.926757</td>\n",
       "      <td>0.05967</td>\n",
       "      <td>0.936925</td>\n",
       "      <td>...</td>\n",
       "      <td>NaN</td>\n",
       "      <td>NaN</td>\n",
       "      <td>NaN</td>\n",
       "      <td>NaN</td>\n",
       "      <td>NaN</td>\n",
       "      <td>NaN</td>\n",
       "      <td>NaN</td>\n",
       "      <td>NaN</td>\n",
       "      <td>NaN</td>\n",
       "      <td>NaN</td>\n",
       "    </tr>\n",
       "    <tr>\n",
       "      <th>0</th>\n",
       "      <td>1</td>\n",
       "      <td>d3fd1038645adbb667b758f13f91b89e</td>\n",
       "      <td>{\"cutoff\": \"quantile_0.1\", \"eval_fairness_grou...</td>\n",
       "      <td>26.885352</td>\n",
       "      <td>89710</td>\n",
       "      <td>1.0</td>\n",
       "      <td>0.068902</td>\n",
       "      <td>0.926757</td>\n",
       "      <td>0.05967</td>\n",
       "      <td>0.936925</td>\n",
       "      <td>...</td>\n",
       "      <td>0.120220</td>\n",
       "      <td>0.146343</td>\n",
       "      <td>0.940733</td>\n",
       "      <td>0.871831</td>\n",
       "      <td>0.013514</td>\n",
       "      <td>0.018381</td>\n",
       "      <td>0.946008</td>\n",
       "      <td>0.886338</td>\n",
       "      <td>20540.0</td>\n",
       "      <td>69170.0</td>\n",
       "    </tr>\n",
       "    <tr>\n",
       "      <th>0</th>\n",
       "      <td>1</td>\n",
       "      <td>d3fd1038645adbb667b758f13f91b89e</td>\n",
       "      <td>{\"cutoff\": \"quantile_0.25\", \"eval_fairness_gro...</td>\n",
       "      <td>26.885352</td>\n",
       "      <td>89710</td>\n",
       "      <td>1.0</td>\n",
       "      <td>0.114440</td>\n",
       "      <td>0.858732</td>\n",
       "      <td>0.09731</td>\n",
       "      <td>0.882052</td>\n",
       "      <td>...</td>\n",
       "      <td>NaN</td>\n",
       "      <td>NaN</td>\n",
       "      <td>NaN</td>\n",
       "      <td>NaN</td>\n",
       "      <td>NaN</td>\n",
       "      <td>NaN</td>\n",
       "      <td>NaN</td>\n",
       "      <td>NaN</td>\n",
       "      <td>NaN</td>\n",
       "      <td>NaN</td>\n",
       "    </tr>\n",
       "    <tr>\n",
       "      <th>0</th>\n",
       "      <td>1</td>\n",
       "      <td>d3fd1038645adbb667b758f13f91b89e</td>\n",
       "      <td>{\"cutoff\": \"quantile_0.25\", \"eval_fairness_gro...</td>\n",
       "      <td>26.885352</td>\n",
       "      <td>89710</td>\n",
       "      <td>1.0</td>\n",
       "      <td>0.114440</td>\n",
       "      <td>0.858732</td>\n",
       "      <td>0.09731</td>\n",
       "      <td>0.882052</td>\n",
       "      <td>...</td>\n",
       "      <td>0.131299</td>\n",
       "      <td>0.170375</td>\n",
       "      <td>0.810092</td>\n",
       "      <td>0.695652</td>\n",
       "      <td>0.060389</td>\n",
       "      <td>0.061707</td>\n",
       "      <td>0.825024</td>\n",
       "      <td>0.727714</td>\n",
       "      <td>20540.0</td>\n",
       "      <td>69170.0</td>\n",
       "    </tr>\n",
       "  </tbody>\n",
       "</table>\n",
       "<p>4 rows × 50 columns</p>\n",
       "</div>"
      ],
      "text/plain": [
       "  run_no                       universe_id  \\\n",
       "0      1  d3fd1038645adbb667b758f13f91b89e   \n",
       "0      1  d3fd1038645adbb667b758f13f91b89e   \n",
       "0      1  d3fd1038645adbb667b758f13f91b89e   \n",
       "0      1  d3fd1038645adbb667b758f13f91b89e   \n",
       "\n",
       "                                   universe_settings  execution_time  \\\n",
       "0  {\"cutoff\": \"quantile_0.1\", \"eval_fairness_grou...       26.885352   \n",
       "0  {\"cutoff\": \"quantile_0.1\", \"eval_fairness_grou...       26.885352   \n",
       "0  {\"cutoff\": \"quantile_0.25\", \"eval_fairness_gro...       26.885352   \n",
       "0  {\"cutoff\": \"quantile_0.25\", \"eval_fairness_gro...       26.885352   \n",
       "\n",
       "   test_size_n  test_size_frac  fair_main_equalized_odds_difference  \\\n",
       "0        89710             1.0                             0.068902   \n",
       "0        89710             1.0                             0.068902   \n",
       "0        89710             1.0                             0.114440   \n",
       "0        89710             1.0                             0.114440   \n",
       "\n",
       "   fair_main_equalized_odds_ratio  fair_main_demographic_parity_difference  \\\n",
       "0                        0.926757                                  0.05967   \n",
       "0                        0.926757                                  0.05967   \n",
       "0                        0.858732                                  0.09731   \n",
       "0                        0.858732                                  0.09731   \n",
       "\n",
       "   fair_main_demographic_parity_ratio  ...  perf_grp_precision_0  \\\n",
       "0                            0.936925  ...                   NaN   \n",
       "0                            0.936925  ...              0.120220   \n",
       "0                            0.882052  ...                   NaN   \n",
       "0                            0.882052  ...              0.131299   \n",
       "\n",
       "   perf_grp_precision_1  perf_grp_false positive rate_0  \\\n",
       "0                   NaN                             NaN   \n",
       "0              0.146343                        0.940733   \n",
       "0                   NaN                             NaN   \n",
       "0              0.170375                        0.810092   \n",
       "\n",
       "   perf_grp_false positive rate_1  perf_grp_false negative rate_0  \\\n",
       "0                             NaN                             NaN   \n",
       "0                        0.871831                        0.013514   \n",
       "0                             NaN                             NaN   \n",
       "0                        0.695652                        0.060389   \n",
       "\n",
       "   perf_grp_false negative rate_1  perf_grp_selection rate_0  \\\n",
       "0                             NaN                        NaN   \n",
       "0                        0.018381                   0.946008   \n",
       "0                             NaN                        NaN   \n",
       "0                        0.061707                   0.825024   \n",
       "\n",
       "   perf_grp_selection rate_1  perf_grp_count_0  perf_grp_count_1  \n",
       "0                        NaN               NaN               NaN  \n",
       "0                   0.886338           20540.0           69170.0  \n",
       "0                        NaN               NaN               NaN  \n",
       "0                   0.727714           20540.0           69170.0  \n",
       "\n",
       "[4 rows x 50 columns]"
      ]
     },
     "execution_count": 62,
     "metadata": {},
     "output_type": "execute_result"
    }
   ],
   "source": [
    "final_output = universe_analysis.generate_final_output(\n",
    "    y_pred_prob=probs_test,\n",
    "    y_test=y_true,\n",
    "    org_test=org_test,\n",
    "    filter_data=filter_sub_universe_data,\n",
    "    cp_metrics_df=cp_metrics_df,\n",
    "    save=True,\n",
    ")\n",
    "final_output"
   ]
  },
  {
   "cell_type": "code",
   "execution_count": null,
   "id": "571f9a0f-660a-4841-b661-b06fbc637944",
   "metadata": {
    "papermill": {
     "duration": 0.031761,
     "end_time": "2025-08-06T17:30:29.629973",
     "exception": false,
     "start_time": "2025-08-06T17:30:29.598212",
     "status": "completed"
    },
    "tags": []
   },
   "outputs": [],
   "source": []
  },
  {
   "cell_type": "code",
   "execution_count": null,
   "id": "529482e3-0150-4854-a92d-ab864efc606e",
   "metadata": {
    "papermill": {
     "duration": 0.026007,
     "end_time": "2025-08-06T17:30:29.681265",
     "exception": false,
     "start_time": "2025-08-06T17:30:29.655258",
     "status": "completed"
    },
    "tags": []
   },
   "outputs": [],
   "source": []
  }
 ],
 "metadata": {
  "celltoolbar": "Tags",
  "kernelspec": {
   "display_name": "Python (CMA Fairness)",
   "language": "python",
   "name": "cma_fair_env"
  },
  "language_info": {
   "codemirror_mode": {
    "name": "ipython",
    "version": 3
   },
   "file_extension": ".py",
   "mimetype": "text/x-python",
   "name": "python",
   "nbconvert_exporter": "python",
   "pygments_lexer": "ipython3",
   "version": "3.10.12"
  },
  "papermill": {
   "default_parameters": {},
   "duration": 38.595085,
   "end_time": "2025-08-06T17:30:30.525602",
   "environment_variables": {},
   "exception": null,
   "input_path": "universe_analysis.ipynb",
   "output_path": "output/runs/1/notebooks/m_1-d3fd1038645adbb667b758f13f91b89e.ipynb",
   "parameters": {
    "output_dir": "output",
    "run_no": "1",
    "seed": "2023",
    "universe": "{\"cutoff\": [\"quantile_0.1\", \"quantile_0.25\"], \"eval_fairness_grouping\": [\"majority-minority\", \"nationality-all\"], \"exclude_features\": \"sex\", \"exclude_subgroups\": \"drop-non-german\", \"model\": \"elasticnet\", \"scale\": \"scale\", \"training_size\": \"5k\", \"training_year\": \"2012_14\"}",
    "universe_id": "d3fd1038645adbb667b758f13f91b89e"
   },
   "start_time": "2025-08-06T17:29:51.930517",
   "version": "2.6.0"
  }
 },
 "nbformat": 4,
 "nbformat_minor": 5
}