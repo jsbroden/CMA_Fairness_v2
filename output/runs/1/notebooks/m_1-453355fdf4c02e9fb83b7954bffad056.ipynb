{
 "cells": [
  {
   "cell_type": "markdown",
   "id": "b2057076-3a91-4cfa-9bfd-eab1e61b3068",
   "metadata": {
    "papermill": {
     "duration": 0.019526,
     "end_time": "2025-08-06T17:56:38.801396",
     "exception": false,
     "start_time": "2025-08-06T17:56:38.781870",
     "status": "completed"
    },
    "tags": []
   },
   "source": [
    "# Setup"
   ]
  },
  {
   "cell_type": "code",
   "execution_count": 1,
   "id": "f159f837-637b-42ba-96b5-ec9a68c44524",
   "metadata": {
    "execution": {
     "iopub.execute_input": "2025-08-06T17:56:38.836781Z",
     "iopub.status.busy": "2025-08-06T17:56:38.835535Z",
     "iopub.status.idle": "2025-08-06T17:56:38.851879Z",
     "shell.execute_reply": "2025-08-06T17:56:38.850787Z"
    },
    "papermill": {
     "duration": 0.036388,
     "end_time": "2025-08-06T17:56:38.853829",
     "exception": false,
     "start_time": "2025-08-06T17:56:38.817441",
     "status": "completed"
    },
    "tags": []
   },
   "outputs": [
    {
     "name": "stdout",
     "output_type": "stream",
     "text": [
      "/dss/dsshome1/0C/ra93lal2/cma/CMA_Fairness_v2\n"
     ]
    },
    {
     "name": "stderr",
     "output_type": "stream",
     "text": [
      "/dss/dsshome1/0C/ra93lal2/.local/share/virtualenvs/CMA_Fairness_v2-3j10GkSs/lib/python3.10/site-packages/IPython/core/magics/osm.py:393: UserWarning: This is now an optional IPython functionality, using bookmarks requires you to install the `pickleshare` library.\n",
      "  bkms = self.shell.db.get('bookmarks', {})\n",
      "/dss/dsshome1/0C/ra93lal2/.local/share/virtualenvs/CMA_Fairness_v2-3j10GkSs/lib/python3.10/site-packages/IPython/core/magics/osm.py:417: UserWarning: This is now an optional IPython functionality, setting dhist requires you to install the `pickleshare` library.\n",
      "  self.shell.db['dhist'] = compress_dhist(dhist)[-100:]\n"
     ]
    }
   ],
   "source": [
    "%cd ~/cma/CMA_Fairness_v2"
   ]
  },
  {
   "cell_type": "markdown",
   "id": "de2603b9",
   "metadata": {
    "papermill": {
     "duration": 0.015999,
     "end_time": "2025-08-06T17:56:38.888504",
     "exception": false,
     "start_time": "2025-08-06T17:56:38.872505",
     "status": "completed"
    },
    "tags": []
   },
   "source": [
    "The following cell holds the definition of our parameters, these values can be overriden by rendering the with e.g. the following command:\n",
    "\n",
    "papermill -p alpha 0.2 -p ratio 0.3 universe_analysis.ipynb output/test_run.ipynb"
   ]
  },
  {
   "cell_type": "code",
   "execution_count": 2,
   "id": "a80968a0-40bb-4fa9-85ef-2d5eefb01975",
   "metadata": {
    "execution": {
     "iopub.execute_input": "2025-08-06T17:56:38.925247Z",
     "iopub.status.busy": "2025-08-06T17:56:38.923467Z",
     "iopub.status.idle": "2025-08-06T17:56:38.930565Z",
     "shell.execute_reply": "2025-08-06T17:56:38.929570Z"
    },
    "papermill": {
     "duration": 0.027598,
     "end_time": "2025-08-06T17:56:38.932321",
     "exception": false,
     "start_time": "2025-08-06T17:56:38.904723",
     "status": "completed"
    },
    "tags": []
   },
   "outputs": [
    {
     "name": "stdout",
     "output_type": "stream",
     "text": [
      "Current working directory: /dss/dsshome1/0C/ra93lal2/cma/CMA_Fairness_v2\n"
     ]
    }
   ],
   "source": [
    "import os\n",
    "print(\"Current working directory:\", os.getcwd())"
   ]
  },
  {
   "cell_type": "code",
   "execution_count": 3,
   "id": "2dce4c03",
   "metadata": {
    "execution": {
     "iopub.execute_input": "2025-08-06T17:56:38.969575Z",
     "iopub.status.busy": "2025-08-06T17:56:38.968401Z",
     "iopub.status.idle": "2025-08-06T17:56:38.975744Z",
     "shell.execute_reply": "2025-08-06T17:56:38.974692Z"
    },
    "papermill": {
     "duration": 0.028137,
     "end_time": "2025-08-06T17:56:38.977478",
     "exception": false,
     "start_time": "2025-08-06T17:56:38.949341",
     "status": "completed"
    },
    "tags": [
     "parameters"
    ]
   },
   "outputs": [],
   "source": [
    "run_no = 0\n",
    "universe_id = \"test\"\n",
    "universe = {\n",
    "    \"training_size\": \"5k\", # \"25k\", \"5k\", \"1k\"\n",
    "    \"training_year\": \"2012_14\", # \"2014\", \"2012_14\", \"2010_14\"\n",
    "    \"scale\": \"scale\", # \"scale\", \"do-not-scale\",\n",
    "    \"model\": \"elasticnet\", # \"logreg\", \"penalized_logreg\", \"rf\", \"gbm\", \"elasticnet\"\n",
    "    \"cutoff\": [\"quantile_0.15\", \"quantile_0.30\"],\n",
    "    \"exclude_features\": \"age\", # \"none\", \"nationality\", \"sex\", \"nationality-sex\", \"age\"\n",
    "    \"exclude_subgroups\": \"drop-non-german\", # \"keep-all\", \"drop-non-german\"\n",
    "    \"eval_fairness_grouping\": [\"majority-minority\", \"nationality-all\"]\n",
    "}\n",
    "\n",
    "output_dir=\"./output\"\n",
    "seed=0"
   ]
  },
  {
   "cell_type": "code",
   "execution_count": 4,
   "id": "e8b9518e",
   "metadata": {
    "execution": {
     "iopub.execute_input": "2025-08-06T17:56:39.015045Z",
     "iopub.status.busy": "2025-08-06T17:56:39.014095Z",
     "iopub.status.idle": "2025-08-06T17:56:39.020388Z",
     "shell.execute_reply": "2025-08-06T17:56:39.019450Z"
    },
    "papermill": {
     "duration": 0.026627,
     "end_time": "2025-08-06T17:56:39.022067",
     "exception": false,
     "start_time": "2025-08-06T17:56:38.995440",
     "status": "completed"
    },
    "tags": [
     "injected-parameters"
    ]
   },
   "outputs": [],
   "source": [
    "# Parameters\n",
    "universe_id = \"453355fdf4c02e9fb83b7954bffad056\"\n",
    "run_no = \"1\"\n",
    "universe = \"{\\\"cutoff\\\": [\\\"quantile_0.1\\\", \\\"quantile_0.25\\\"], \\\"eval_fairness_grouping\\\": [\\\"majority-minority\\\", \\\"nationality-all\\\"], \\\"exclude_features\\\": \\\"none\\\", \\\"exclude_subgroups\\\": \\\"keep-all\\\", \\\"model\\\": \\\"penalized_logreg\\\", \\\"scale\\\": \\\"scale\\\", \\\"training_size\\\": \\\"1k\\\", \\\"training_year\\\": \\\"2012_14\\\"}\"\n",
    "output_dir = \"output\"\n",
    "seed = \"2023\"\n"
   ]
  },
  {
   "cell_type": "code",
   "execution_count": 5,
   "id": "1650acaf",
   "metadata": {
    "execution": {
     "iopub.execute_input": "2025-08-06T17:56:39.059470Z",
     "iopub.status.busy": "2025-08-06T17:56:39.058715Z",
     "iopub.status.idle": "2025-08-06T17:56:39.063905Z",
     "shell.execute_reply": "2025-08-06T17:56:39.062885Z"
    },
    "papermill": {
     "duration": 0.026982,
     "end_time": "2025-08-06T17:56:39.065822",
     "exception": false,
     "start_time": "2025-08-06T17:56:39.038840",
     "status": "completed"
    },
    "tags": []
   },
   "outputs": [],
   "source": [
    "import json\n",
    "if isinstance(universe, str):\n",
    "    universe = json.loads(universe)"
   ]
  },
  {
   "cell_type": "code",
   "execution_count": 6,
   "id": "16620c48",
   "metadata": {
    "execution": {
     "iopub.execute_input": "2025-08-06T17:56:39.112440Z",
     "iopub.status.busy": "2025-08-06T17:56:39.111579Z",
     "iopub.status.idle": "2025-08-06T17:56:39.171313Z",
     "shell.execute_reply": "2025-08-06T17:56:39.170212Z"
    },
    "papermill": {
     "duration": 0.086173,
     "end_time": "2025-08-06T17:56:39.173836",
     "exception": false,
     "start_time": "2025-08-06T17:56:39.087663",
     "status": "completed"
    },
    "tags": []
   },
   "outputs": [],
   "source": [
    "# Auto-reload the custom package\n",
    "%load_ext autoreload\n",
    "%autoreload 1\n",
    "%aimport fairness_multiverse"
   ]
  },
  {
   "cell_type": "code",
   "execution_count": 7,
   "id": "01c5c9f3",
   "metadata": {
    "execution": {
     "iopub.execute_input": "2025-08-06T17:56:39.215133Z",
     "iopub.status.busy": "2025-08-06T17:56:39.214380Z",
     "iopub.status.idle": "2025-08-06T17:56:41.441757Z",
     "shell.execute_reply": "2025-08-06T17:56:41.440737Z"
    },
    "papermill": {
     "duration": 2.248352,
     "end_time": "2025-08-06T17:56:41.443711",
     "exception": false,
     "start_time": "2025-08-06T17:56:39.195359",
     "status": "completed"
    },
    "tags": []
   },
   "outputs": [],
   "source": [
    "from fairness_multiverse.universe import UniverseAnalysis\n",
    "\n",
    "universe_analysis = UniverseAnalysis(\n",
    "    run_no = run_no,\n",
    "    universe_id = universe_id,\n",
    "    universe = universe,\n",
    "    output_dir=output_dir,\n",
    ")"
   ]
  },
  {
   "cell_type": "code",
   "execution_count": 8,
   "id": "106241f5",
   "metadata": {
    "execution": {
     "iopub.execute_input": "2025-08-06T17:56:41.481813Z",
     "iopub.status.busy": "2025-08-06T17:56:41.481255Z",
     "iopub.status.idle": "2025-08-06T17:56:41.488232Z",
     "shell.execute_reply": "2025-08-06T17:56:41.486931Z"
    },
    "papermill": {
     "duration": 0.027664,
     "end_time": "2025-08-06T17:56:41.489565",
     "exception": false,
     "start_time": "2025-08-06T17:56:41.461901",
     "status": "completed"
    },
    "tags": []
   },
   "outputs": [
    {
     "name": "stdout",
     "output_type": "stream",
     "text": [
      "Using Seed: 2023\n"
     ]
    }
   ],
   "source": [
    "import numpy as np\n",
    "parsed_seed = int(seed)\n",
    "np.random.seed(parsed_seed)\n",
    "print(f\"Using Seed: {parsed_seed}\")"
   ]
  },
  {
   "cell_type": "markdown",
   "id": "e0ebdc57",
   "metadata": {
    "papermill": {
     "duration": 0.017862,
     "end_time": "2025-08-06T17:56:41.523477",
     "exception": false,
     "start_time": "2025-08-06T17:56:41.505615",
     "status": "completed"
    },
    "tags": []
   },
   "source": [
    "# Loading Data"
   ]
  },
  {
   "cell_type": "code",
   "execution_count": 9,
   "id": "f0496b8a",
   "metadata": {
    "execution": {
     "iopub.execute_input": "2025-08-06T17:56:41.558938Z",
     "iopub.status.busy": "2025-08-06T17:56:41.557753Z",
     "iopub.status.idle": "2025-08-06T17:56:53.983557Z",
     "shell.execute_reply": "2025-08-06T17:56:53.982299Z"
    },
    "papermill": {
     "duration": 12.446332,
     "end_time": "2025-08-06T17:56:53.985366",
     "exception": false,
     "start_time": "2025-08-06T17:56:41.539034",
     "status": "completed"
    },
    "tags": []
   },
   "outputs": [
    {
     "name": "stdout",
     "output_type": "stream",
     "text": [
      "Loading SIAB data from cache: data/siab_cached.csv.gz\n"
     ]
    },
    {
     "name": "stdout",
     "output_type": "stream",
     "text": [
      "(643690, 164)\n"
     ]
    }
   ],
   "source": [
    "from pathlib import Path\n",
    "import pandas as pd\n",
    "\n",
    "# File paths\n",
    "raw_file = Path(\"data/raw/siab.csv\")\n",
    "cache_file = Path(\"data/siab_cached.csv.gz\")\n",
    "\n",
    "# Ensure cache directory exists\n",
    "cache_file.parent.mkdir(parents=True, exist_ok=True)\n",
    "\n",
    "# Load with simple caching\n",
    "if cache_file.exists():\n",
    "    print(f\"Loading SIAB data from cache: {cache_file}\")\n",
    "    siab = pd.read_csv(cache_file, compression='gzip')\n",
    "else:\n",
    "    print(f\"Cache not found. Reading raw SIAB data: {raw_file}\")\n",
    "    siab = pd.read_csv(raw_file)\n",
    "    siab.to_csv(cache_file, index=False, compression='gzip')\n",
    "    print(f\"Cached SIAB data to: {cache_file}\")\n",
    "\n",
    "print(siab.shape)"
   ]
  },
  {
   "cell_type": "code",
   "execution_count": 10,
   "id": "db0ca512-5f53-4dba-abdb-a2888bca41ba",
   "metadata": {
    "execution": {
     "iopub.execute_input": "2025-08-06T17:56:54.025190Z",
     "iopub.status.busy": "2025-08-06T17:56:54.024240Z",
     "iopub.status.idle": "2025-08-06T17:56:54.173657Z",
     "shell.execute_reply": "2025-08-06T17:56:54.172516Z"
    },
    "papermill": {
     "duration": 0.172055,
     "end_time": "2025-08-06T17:56:54.176930",
     "exception": false,
     "start_time": "2025-08-06T17:56:54.004875",
     "status": "completed"
    },
    "tags": []
   },
   "outputs": [
    {
     "data": {
      "text/html": [
       "<div>\n",
       "<style scoped>\n",
       "    .dataframe tbody tr th:only-of-type {\n",
       "        vertical-align: middle;\n",
       "    }\n",
       "\n",
       "    .dataframe tbody tr th {\n",
       "        vertical-align: top;\n",
       "    }\n",
       "\n",
       "    .dataframe thead th {\n",
       "        text-align: right;\n",
       "    }\n",
       "</style>\n",
       "<table border=\"1\" class=\"dataframe\">\n",
       "  <thead>\n",
       "    <tr style=\"text-align: right;\">\n",
       "      <th></th>\n",
       "      <th>persnr</th>\n",
       "      <th>year</th>\n",
       "      <th>nrEntry</th>\n",
       "      <th>ltue</th>\n",
       "      <th>employed_before</th>\n",
       "      <th>receipt_leh_before</th>\n",
       "      <th>receipt_lhg_before</th>\n",
       "      <th>se_before</th>\n",
       "      <th>ASU_notue_seeking_before</th>\n",
       "      <th>ASU_other_before</th>\n",
       "      <th>...</th>\n",
       "      <th>minijob_tot_dur_byage</th>\n",
       "      <th>ft_tot_dur_byage</th>\n",
       "      <th>befrist_tot_dur_byage</th>\n",
       "      <th>leih_tot_dur_byage</th>\n",
       "      <th>LHG_tot_dur_byage</th>\n",
       "      <th>LEH_tot_dur_byage</th>\n",
       "      <th>almp_tot_dur_byage</th>\n",
       "      <th>almp_aw_tot_dur_byage</th>\n",
       "      <th>se_tot_dur_byage</th>\n",
       "      <th>seeking1_tot_dur_byage</th>\n",
       "    </tr>\n",
       "  </thead>\n",
       "  <tbody>\n",
       "    <tr>\n",
       "      <th>0</th>\n",
       "      <td>7</td>\n",
       "      <td>2015</td>\n",
       "      <td>1</td>\n",
       "      <td>0</td>\n",
       "      <td>1</td>\n",
       "      <td>0</td>\n",
       "      <td>0</td>\n",
       "      <td>0</td>\n",
       "      <td>1</td>\n",
       "      <td>0</td>\n",
       "      <td>...</td>\n",
       "      <td>0.000000</td>\n",
       "      <td>0.000000</td>\n",
       "      <td>15.043478</td>\n",
       "      <td>0.000000</td>\n",
       "      <td>0.000000</td>\n",
       "      <td>0.000000</td>\n",
       "      <td>0.000000</td>\n",
       "      <td>0.000000</td>\n",
       "      <td>0.000000</td>\n",
       "      <td>0.000000</td>\n",
       "    </tr>\n",
       "    <tr>\n",
       "      <th>1</th>\n",
       "      <td>18</td>\n",
       "      <td>2010</td>\n",
       "      <td>1</td>\n",
       "      <td>1</td>\n",
       "      <td>0</td>\n",
       "      <td>0</td>\n",
       "      <td>0</td>\n",
       "      <td>0</td>\n",
       "      <td>0</td>\n",
       "      <td>0</td>\n",
       "      <td>...</td>\n",
       "      <td>0.000000</td>\n",
       "      <td>0.000000</td>\n",
       "      <td>0.000000</td>\n",
       "      <td>0.000000</td>\n",
       "      <td>0.000000</td>\n",
       "      <td>0.000000</td>\n",
       "      <td>0.000000</td>\n",
       "      <td>0.000000</td>\n",
       "      <td>0.000000</td>\n",
       "      <td>0.000000</td>\n",
       "    </tr>\n",
       "    <tr>\n",
       "      <th>2</th>\n",
       "      <td>18</td>\n",
       "      <td>2011</td>\n",
       "      <td>2</td>\n",
       "      <td>0</td>\n",
       "      <td>1</td>\n",
       "      <td>0</td>\n",
       "      <td>1</td>\n",
       "      <td>0</td>\n",
       "      <td>1</td>\n",
       "      <td>0</td>\n",
       "      <td>...</td>\n",
       "      <td>2.714286</td>\n",
       "      <td>2.714286</td>\n",
       "      <td>0.000000</td>\n",
       "      <td>0.000000</td>\n",
       "      <td>10.775510</td>\n",
       "      <td>0.000000</td>\n",
       "      <td>8.367347</td>\n",
       "      <td>0.000000</td>\n",
       "      <td>0.000000</td>\n",
       "      <td>9.836735</td>\n",
       "    </tr>\n",
       "    <tr>\n",
       "      <th>3</th>\n",
       "      <td>18</td>\n",
       "      <td>2012</td>\n",
       "      <td>3</td>\n",
       "      <td>0</td>\n",
       "      <td>1</td>\n",
       "      <td>0</td>\n",
       "      <td>1</td>\n",
       "      <td>0</td>\n",
       "      <td>1</td>\n",
       "      <td>0</td>\n",
       "      <td>...</td>\n",
       "      <td>4.200000</td>\n",
       "      <td>4.200000</td>\n",
       "      <td>0.000000</td>\n",
       "      <td>0.000000</td>\n",
       "      <td>12.100000</td>\n",
       "      <td>0.000000</td>\n",
       "      <td>9.400000</td>\n",
       "      <td>0.000000</td>\n",
       "      <td>0.000000</td>\n",
       "      <td>9.960000</td>\n",
       "    </tr>\n",
       "    <tr>\n",
       "      <th>4</th>\n",
       "      <td>18</td>\n",
       "      <td>2012</td>\n",
       "      <td>4</td>\n",
       "      <td>0</td>\n",
       "      <td>1</td>\n",
       "      <td>0</td>\n",
       "      <td>1</td>\n",
       "      <td>0</td>\n",
       "      <td>1</td>\n",
       "      <td>0</td>\n",
       "      <td>...</td>\n",
       "      <td>5.460000</td>\n",
       "      <td>5.460000</td>\n",
       "      <td>0.000000</td>\n",
       "      <td>0.000000</td>\n",
       "      <td>13.360000</td>\n",
       "      <td>0.000000</td>\n",
       "      <td>10.320000</td>\n",
       "      <td>0.000000</td>\n",
       "      <td>0.000000</td>\n",
       "      <td>10.280000</td>\n",
       "    </tr>\n",
       "    <tr>\n",
       "      <th>...</th>\n",
       "      <td>...</td>\n",
       "      <td>...</td>\n",
       "      <td>...</td>\n",
       "      <td>...</td>\n",
       "      <td>...</td>\n",
       "      <td>...</td>\n",
       "      <td>...</td>\n",
       "      <td>...</td>\n",
       "      <td>...</td>\n",
       "      <td>...</td>\n",
       "      <td>...</td>\n",
       "      <td>...</td>\n",
       "      <td>...</td>\n",
       "      <td>...</td>\n",
       "      <td>...</td>\n",
       "      <td>...</td>\n",
       "      <td>...</td>\n",
       "      <td>...</td>\n",
       "      <td>...</td>\n",
       "      <td>...</td>\n",
       "      <td>...</td>\n",
       "    </tr>\n",
       "    <tr>\n",
       "      <th>643685</th>\n",
       "      <td>1827860</td>\n",
       "      <td>2013</td>\n",
       "      <td>1</td>\n",
       "      <td>0</td>\n",
       "      <td>0</td>\n",
       "      <td>0</td>\n",
       "      <td>1</td>\n",
       "      <td>0</td>\n",
       "      <td>0</td>\n",
       "      <td>1</td>\n",
       "      <td>...</td>\n",
       "      <td>0.000000</td>\n",
       "      <td>0.000000</td>\n",
       "      <td>0.000000</td>\n",
       "      <td>0.000000</td>\n",
       "      <td>0.612903</td>\n",
       "      <td>0.000000</td>\n",
       "      <td>0.000000</td>\n",
       "      <td>0.000000</td>\n",
       "      <td>0.000000</td>\n",
       "      <td>0.000000</td>\n",
       "    </tr>\n",
       "    <tr>\n",
       "      <th>643686</th>\n",
       "      <td>1827860</td>\n",
       "      <td>2015</td>\n",
       "      <td>2</td>\n",
       "      <td>1</td>\n",
       "      <td>0</td>\n",
       "      <td>0</td>\n",
       "      <td>1</td>\n",
       "      <td>0</td>\n",
       "      <td>1</td>\n",
       "      <td>0</td>\n",
       "      <td>...</td>\n",
       "      <td>0.000000</td>\n",
       "      <td>0.000000</td>\n",
       "      <td>0.212121</td>\n",
       "      <td>0.212121</td>\n",
       "      <td>17.363636</td>\n",
       "      <td>0.000000</td>\n",
       "      <td>8.909091</td>\n",
       "      <td>0.000000</td>\n",
       "      <td>0.000000</td>\n",
       "      <td>7.121212</td>\n",
       "    </tr>\n",
       "    <tr>\n",
       "      <th>643687</th>\n",
       "      <td>1827860</td>\n",
       "      <td>2016</td>\n",
       "      <td>3</td>\n",
       "      <td>1</td>\n",
       "      <td>0</td>\n",
       "      <td>0</td>\n",
       "      <td>1</td>\n",
       "      <td>1</td>\n",
       "      <td>0</td>\n",
       "      <td>1</td>\n",
       "      <td>...</td>\n",
       "      <td>0.000000</td>\n",
       "      <td>0.000000</td>\n",
       "      <td>0.294118</td>\n",
       "      <td>0.205882</td>\n",
       "      <td>34.705882</td>\n",
       "      <td>0.000000</td>\n",
       "      <td>10.352941</td>\n",
       "      <td>1.705882</td>\n",
       "      <td>1.705882</td>\n",
       "      <td>23.911765</td>\n",
       "    </tr>\n",
       "    <tr>\n",
       "      <th>643688</th>\n",
       "      <td>1827869</td>\n",
       "      <td>2013</td>\n",
       "      <td>1</td>\n",
       "      <td>1</td>\n",
       "      <td>1</td>\n",
       "      <td>0</td>\n",
       "      <td>0</td>\n",
       "      <td>0</td>\n",
       "      <td>1</td>\n",
       "      <td>0</td>\n",
       "      <td>...</td>\n",
       "      <td>0.000000</td>\n",
       "      <td>0.000000</td>\n",
       "      <td>0.000000</td>\n",
       "      <td>0.000000</td>\n",
       "      <td>0.000000</td>\n",
       "      <td>0.525424</td>\n",
       "      <td>0.000000</td>\n",
       "      <td>0.000000</td>\n",
       "      <td>0.000000</td>\n",
       "      <td>0.000000</td>\n",
       "    </tr>\n",
       "    <tr>\n",
       "      <th>643689</th>\n",
       "      <td>1827869</td>\n",
       "      <td>2014</td>\n",
       "      <td>2</td>\n",
       "      <td>0</td>\n",
       "      <td>0</td>\n",
       "      <td>1</td>\n",
       "      <td>0</td>\n",
       "      <td>0</td>\n",
       "      <td>1</td>\n",
       "      <td>0</td>\n",
       "      <td>...</td>\n",
       "      <td>0.000000</td>\n",
       "      <td>0.666667</td>\n",
       "      <td>0.666667</td>\n",
       "      <td>0.000000</td>\n",
       "      <td>0.000000</td>\n",
       "      <td>8.950000</td>\n",
       "      <td>1.033333</td>\n",
       "      <td>0.083333</td>\n",
       "      <td>0.083333</td>\n",
       "      <td>8.133333</td>\n",
       "    </tr>\n",
       "  </tbody>\n",
       "</table>\n",
       "<p>643690 rows × 164 columns</p>\n",
       "</div>"
      ],
      "text/plain": [
       "         persnr  year  nrEntry  ltue  employed_before  receipt_leh_before  \\\n",
       "0             7  2015        1     0                1                   0   \n",
       "1            18  2010        1     1                0                   0   \n",
       "2            18  2011        2     0                1                   0   \n",
       "3            18  2012        3     0                1                   0   \n",
       "4            18  2012        4     0                1                   0   \n",
       "...         ...   ...      ...   ...              ...                 ...   \n",
       "643685  1827860  2013        1     0                0                   0   \n",
       "643686  1827860  2015        2     1                0                   0   \n",
       "643687  1827860  2016        3     1                0                   0   \n",
       "643688  1827869  2013        1     1                1                   0   \n",
       "643689  1827869  2014        2     0                0                   1   \n",
       "\n",
       "        receipt_lhg_before  se_before  ASU_notue_seeking_before  \\\n",
       "0                        0          0                         1   \n",
       "1                        0          0                         0   \n",
       "2                        1          0                         1   \n",
       "3                        1          0                         1   \n",
       "4                        1          0                         1   \n",
       "...                    ...        ...                       ...   \n",
       "643685                   1          0                         0   \n",
       "643686                   1          0                         1   \n",
       "643687                   1          1                         0   \n",
       "643688                   0          0                         1   \n",
       "643689                   0          0                         1   \n",
       "\n",
       "        ASU_other_before  ...  minijob_tot_dur_byage  ft_tot_dur_byage  \\\n",
       "0                      0  ...               0.000000          0.000000   \n",
       "1                      0  ...               0.000000          0.000000   \n",
       "2                      0  ...               2.714286          2.714286   \n",
       "3                      0  ...               4.200000          4.200000   \n",
       "4                      0  ...               5.460000          5.460000   \n",
       "...                  ...  ...                    ...               ...   \n",
       "643685                 1  ...               0.000000          0.000000   \n",
       "643686                 0  ...               0.000000          0.000000   \n",
       "643687                 1  ...               0.000000          0.000000   \n",
       "643688                 0  ...               0.000000          0.000000   \n",
       "643689                 0  ...               0.000000          0.666667   \n",
       "\n",
       "        befrist_tot_dur_byage  leih_tot_dur_byage  LHG_tot_dur_byage  \\\n",
       "0                   15.043478            0.000000           0.000000   \n",
       "1                    0.000000            0.000000           0.000000   \n",
       "2                    0.000000            0.000000          10.775510   \n",
       "3                    0.000000            0.000000          12.100000   \n",
       "4                    0.000000            0.000000          13.360000   \n",
       "...                       ...                 ...                ...   \n",
       "643685               0.000000            0.000000           0.612903   \n",
       "643686               0.212121            0.212121          17.363636   \n",
       "643687               0.294118            0.205882          34.705882   \n",
       "643688               0.000000            0.000000           0.000000   \n",
       "643689               0.666667            0.000000           0.000000   \n",
       "\n",
       "        LEH_tot_dur_byage  almp_tot_dur_byage  almp_aw_tot_dur_byage  \\\n",
       "0                0.000000            0.000000               0.000000   \n",
       "1                0.000000            0.000000               0.000000   \n",
       "2                0.000000            8.367347               0.000000   \n",
       "3                0.000000            9.400000               0.000000   \n",
       "4                0.000000           10.320000               0.000000   \n",
       "...                   ...                 ...                    ...   \n",
       "643685           0.000000            0.000000               0.000000   \n",
       "643686           0.000000            8.909091               0.000000   \n",
       "643687           0.000000           10.352941               1.705882   \n",
       "643688           0.525424            0.000000               0.000000   \n",
       "643689           8.950000            1.033333               0.083333   \n",
       "\n",
       "        se_tot_dur_byage  seeking1_tot_dur_byage  \n",
       "0               0.000000                0.000000  \n",
       "1               0.000000                0.000000  \n",
       "2               0.000000                9.836735  \n",
       "3               0.000000                9.960000  \n",
       "4               0.000000               10.280000  \n",
       "...                  ...                     ...  \n",
       "643685          0.000000                0.000000  \n",
       "643686          0.000000                7.121212  \n",
       "643687          1.705882               23.911765  \n",
       "643688          0.000000                0.000000  \n",
       "643689          0.083333                8.133333  \n",
       "\n",
       "[643690 rows x 164 columns]"
      ]
     },
     "execution_count": 10,
     "metadata": {},
     "output_type": "execute_result"
    }
   ],
   "source": [
    "siab"
   ]
  },
  {
   "cell_type": "markdown",
   "id": "997051c5-15bd-4b69-9786-c3001a3ce484",
   "metadata": {
    "papermill": {
     "duration": 0.025667,
     "end_time": "2025-08-06T17:56:54.230673",
     "exception": false,
     "start_time": "2025-08-06T17:56:54.205006",
     "status": "completed"
    },
    "tags": []
   },
   "source": [
    "# Splitting Data and Setting Training Data Size"
   ]
  },
  {
   "cell_type": "code",
   "execution_count": 11,
   "id": "aea9c6ef-6f46-42c8-85eb-5a62025c1508",
   "metadata": {
    "execution": {
     "iopub.execute_input": "2025-08-06T17:56:54.284893Z",
     "iopub.status.busy": "2025-08-06T17:56:54.284040Z",
     "iopub.status.idle": "2025-08-06T17:56:55.003493Z",
     "shell.execute_reply": "2025-08-06T17:56:55.002451Z"
    },
    "papermill": {
     "duration": 0.748438,
     "end_time": "2025-08-06T17:56:55.005129",
     "exception": false,
     "start_time": "2025-08-06T17:56:54.256691",
     "status": "completed"
    },
    "tags": []
   },
   "outputs": [],
   "source": [
    "from fairness_multiverse.universe import sample_by_year_size\n",
    "\n",
    "siab_train = sample_by_year_size(siab,\n",
    "                               training_year=universe[\"training_year\"],\n",
    "                               training_size=universe[\"training_size\"])"
   ]
  },
  {
   "cell_type": "code",
   "execution_count": 12,
   "id": "8d3afb32-789d-442c-8d5d-9f5aa8dd2eed",
   "metadata": {
    "execution": {
     "iopub.execute_input": "2025-08-06T17:56:55.055374Z",
     "iopub.status.busy": "2025-08-06T17:56:55.054892Z",
     "iopub.status.idle": "2025-08-06T17:56:55.062840Z",
     "shell.execute_reply": "2025-08-06T17:56:55.061844Z"
    },
    "papermill": {
     "duration": 0.041349,
     "end_time": "2025-08-06T17:56:55.065608",
     "exception": false,
     "start_time": "2025-08-06T17:56:55.024259",
     "status": "completed"
    },
    "tags": []
   },
   "outputs": [
    {
     "data": {
      "text/plain": [
       "(1000, 164)"
      ]
     },
     "execution_count": 12,
     "metadata": {},
     "output_type": "execute_result"
    }
   ],
   "source": [
    "siab_train.shape"
   ]
  },
  {
   "cell_type": "code",
   "execution_count": 13,
   "id": "d582db68-1a4c-47fb-84fc-08518dc1975a",
   "metadata": {
    "execution": {
     "iopub.execute_input": "2025-08-06T17:56:55.106464Z",
     "iopub.status.busy": "2025-08-06T17:56:55.105977Z",
     "iopub.status.idle": "2025-08-06T17:56:55.115709Z",
     "shell.execute_reply": "2025-08-06T17:56:55.114982Z"
    },
    "papermill": {
     "duration": 0.031282,
     "end_time": "2025-08-06T17:56:55.116998",
     "exception": false,
     "start_time": "2025-08-06T17:56:55.085716",
     "status": "completed"
    },
    "tags": []
   },
   "outputs": [
    {
     "data": {
      "text/plain": [
       "year\n",
       "2012    334\n",
       "2013    333\n",
       "2014    333\n",
       "dtype: int64"
      ]
     },
     "metadata": {},
     "output_type": "display_data"
    }
   ],
   "source": [
    "display(siab_train.groupby(\"year\").size())"
   ]
  },
  {
   "cell_type": "code",
   "execution_count": 14,
   "id": "a561edb4-d032-42cb-8256-22eac1111c64",
   "metadata": {
    "execution": {
     "iopub.execute_input": "2025-08-06T17:56:55.146392Z",
     "iopub.status.busy": "2025-08-06T17:56:55.145559Z",
     "iopub.status.idle": "2025-08-06T17:56:55.443698Z",
     "shell.execute_reply": "2025-08-06T17:56:55.442778Z"
    },
    "papermill": {
     "duration": 0.318167,
     "end_time": "2025-08-06T17:56:55.445376",
     "exception": false,
     "start_time": "2025-08-06T17:56:55.127209",
     "status": "completed"
    },
    "tags": []
   },
   "outputs": [],
   "source": [
    "#siab_train = siab_s[siab_s.year < 2015]\n",
    "siab_calib = siab[siab.year == 2015]\n",
    "siab_test = siab[siab.year == 2016]"
   ]
  },
  {
   "cell_type": "code",
   "execution_count": 15,
   "id": "472de16f-c3db-4916-846b-1f0de9cf1746",
   "metadata": {
    "execution": {
     "iopub.execute_input": "2025-08-06T17:56:55.481988Z",
     "iopub.status.busy": "2025-08-06T17:56:55.481542Z",
     "iopub.status.idle": "2025-08-06T17:56:55.488241Z",
     "shell.execute_reply": "2025-08-06T17:56:55.487237Z"
    },
    "papermill": {
     "duration": 0.027478,
     "end_time": "2025-08-06T17:56:55.489711",
     "exception": false,
     "start_time": "2025-08-06T17:56:55.462233",
     "status": "completed"
    },
    "tags": []
   },
   "outputs": [],
   "source": [
    "X_train = siab_train.iloc[:,4:164]\n",
    "y_train = siab_train.iloc[:, [3]]"
   ]
  },
  {
   "cell_type": "code",
   "execution_count": 16,
   "id": "828c96af-f43a-4ed6-ba47-8ac73a47d56c",
   "metadata": {
    "execution": {
     "iopub.execute_input": "2025-08-06T17:56:55.529788Z",
     "iopub.status.busy": "2025-08-06T17:56:55.529225Z",
     "iopub.status.idle": "2025-08-06T17:56:55.582433Z",
     "shell.execute_reply": "2025-08-06T17:56:55.581188Z"
    },
    "papermill": {
     "duration": 0.076447,
     "end_time": "2025-08-06T17:56:55.583990",
     "exception": false,
     "start_time": "2025-08-06T17:56:55.507543",
     "status": "completed"
    },
    "tags": []
   },
   "outputs": [],
   "source": [
    "X_calib = siab_calib.iloc[:,4:164]\n",
    "y_calib = siab_calib.iloc[:, [3]]"
   ]
  },
  {
   "cell_type": "code",
   "execution_count": 17,
   "id": "c34be9c3-6bd6-476e-acd3-845840e303be",
   "metadata": {
    "execution": {
     "iopub.execute_input": "2025-08-06T17:56:55.622255Z",
     "iopub.status.busy": "2025-08-06T17:56:55.621439Z",
     "iopub.status.idle": "2025-08-06T17:56:55.673200Z",
     "shell.execute_reply": "2025-08-06T17:56:55.672246Z"
    },
    "papermill": {
     "duration": 0.072188,
     "end_time": "2025-08-06T17:56:55.675199",
     "exception": false,
     "start_time": "2025-08-06T17:56:55.603011",
     "status": "completed"
    },
    "tags": []
   },
   "outputs": [],
   "source": [
    "X_test = siab_test.iloc[:,4:164]\n",
    "y_true = siab_test.iloc[:, [3]]"
   ]
  },
  {
   "cell_type": "code",
   "execution_count": 18,
   "id": "e6c733c5",
   "metadata": {
    "execution": {
     "iopub.execute_input": "2025-08-06T17:56:55.716254Z",
     "iopub.status.busy": "2025-08-06T17:56:55.715323Z",
     "iopub.status.idle": "2025-08-06T17:56:55.824093Z",
     "shell.execute_reply": "2025-08-06T17:56:55.809065Z"
    },
    "papermill": {
     "duration": 0.130684,
     "end_time": "2025-08-06T17:56:55.825967",
     "exception": false,
     "start_time": "2025-08-06T17:56:55.695283",
     "status": "completed"
    },
    "tags": []
   },
   "outputs": [],
   "source": [
    "# Auxiliary data needed downstream in the pipeline\n",
    "\n",
    "org_train = X_train.copy()\n",
    "org_test = X_test.copy()\n",
    "org_calib = X_calib.copy()"
   ]
  },
  {
   "cell_type": "markdown",
   "id": "0a4a1b33",
   "metadata": {
    "papermill": {
     "duration": 0.017316,
     "end_time": "2025-08-06T17:56:55.861484",
     "exception": false,
     "start_time": "2025-08-06T17:56:55.844168",
     "status": "completed"
    },
    "tags": []
   },
   "source": [
    "# Preprocessing Data"
   ]
  },
  {
   "cell_type": "code",
   "execution_count": 19,
   "id": "ca879031",
   "metadata": {
    "execution": {
     "iopub.execute_input": "2025-08-06T17:56:55.900397Z",
     "iopub.status.busy": "2025-08-06T17:56:55.899833Z",
     "iopub.status.idle": "2025-08-06T17:56:55.906372Z",
     "shell.execute_reply": "2025-08-06T17:56:55.905420Z"
    },
    "papermill": {
     "duration": 0.028808,
     "end_time": "2025-08-06T17:56:55.907911",
     "exception": false,
     "start_time": "2025-08-06T17:56:55.879103",
     "status": "completed"
    },
    "tags": []
   },
   "outputs": [],
   "source": [
    "# EXCLUDE PROTECTED FEATURES\n",
    "# --------------------------\n",
    "\n",
    "excluded_features = universe[\"exclude_features\"].split(\"-\")\n",
    "excluded_features_dictionary = {\n",
    "    \"nationality\": [\"maxdeutsch1\", \"maxdeutsch.Missing.\"],\n",
    "    \"sex\": [\"frau1\"],\n",
    "    \"age\": [\"age\"],\n",
    "}"
   ]
  },
  {
   "cell_type": "code",
   "execution_count": 20,
   "id": "b745ac60",
   "metadata": {
    "execution": {
     "iopub.execute_input": "2025-08-06T17:56:55.950631Z",
     "iopub.status.busy": "2025-08-06T17:56:55.949808Z",
     "iopub.status.idle": "2025-08-06T17:56:55.956180Z",
     "shell.execute_reply": "2025-08-06T17:56:55.955197Z"
    },
    "papermill": {
     "duration": 0.028093,
     "end_time": "2025-08-06T17:56:55.957965",
     "exception": false,
     "start_time": "2025-08-06T17:56:55.929872",
     "status": "completed"
    },
    "tags": []
   },
   "outputs": [],
   "source": [
    "excluded_features_columns = [\n",
    "    excluded_features_dictionary[f] for f in excluded_features if len(f) > 0 and f != \"none\"\n",
    "]"
   ]
  },
  {
   "cell_type": "code",
   "execution_count": 21,
   "id": "f84f73a2",
   "metadata": {
    "execution": {
     "iopub.execute_input": "2025-08-06T17:56:55.997403Z",
     "iopub.status.busy": "2025-08-06T17:56:55.996975Z",
     "iopub.status.idle": "2025-08-06T17:56:56.002473Z",
     "shell.execute_reply": "2025-08-06T17:56:56.001372Z"
    },
    "papermill": {
     "duration": 0.027202,
     "end_time": "2025-08-06T17:56:56.004273",
     "exception": false,
     "start_time": "2025-08-06T17:56:55.977071",
     "status": "completed"
    },
    "tags": []
   },
   "outputs": [],
   "source": [
    "from fairness_multiverse.universe import flatten_once\n",
    "\n",
    "excluded_features_columns = flatten_once(excluded_features_columns)"
   ]
  },
  {
   "cell_type": "code",
   "execution_count": 22,
   "id": "884dea22",
   "metadata": {
    "execution": {
     "iopub.execute_input": "2025-08-06T17:56:56.043664Z",
     "iopub.status.busy": "2025-08-06T17:56:56.043057Z",
     "iopub.status.idle": "2025-08-06T17:56:56.049172Z",
     "shell.execute_reply": "2025-08-06T17:56:56.047949Z"
    },
    "papermill": {
     "duration": 0.027339,
     "end_time": "2025-08-06T17:56:56.050841",
     "exception": false,
     "start_time": "2025-08-06T17:56:56.023502",
     "status": "completed"
    },
    "tags": []
   },
   "outputs": [],
   "source": [
    "if len(excluded_features_columns) > 0:\n",
    "    print(f\"Dropping features: {excluded_features_columns}\")\n",
    "    X_train.drop(excluded_features_columns, axis=1, inplace=True)"
   ]
  },
  {
   "cell_type": "code",
   "execution_count": 23,
   "id": "95ab8b16",
   "metadata": {
    "execution": {
     "iopub.execute_input": "2025-08-06T17:56:56.091541Z",
     "iopub.status.busy": "2025-08-06T17:56:56.090975Z",
     "iopub.status.idle": "2025-08-06T17:56:56.097287Z",
     "shell.execute_reply": "2025-08-06T17:56:56.096311Z"
    },
    "papermill": {
     "duration": 0.027058,
     "end_time": "2025-08-06T17:56:56.098775",
     "exception": false,
     "start_time": "2025-08-06T17:56:56.071717",
     "status": "completed"
    },
    "tags": []
   },
   "outputs": [],
   "source": [
    "if len(excluded_features_columns) > 0:\n",
    "    print(f\"Dropping features: {excluded_features_columns}\")\n",
    "    X_test.drop(excluded_features_columns, axis=1, inplace=True)"
   ]
  },
  {
   "cell_type": "code",
   "execution_count": 24,
   "id": "1853aaf5-fb9f-46cb-a2b5-8ea4ae2237e4",
   "metadata": {
    "execution": {
     "iopub.execute_input": "2025-08-06T17:56:56.139698Z",
     "iopub.status.busy": "2025-08-06T17:56:56.139060Z",
     "iopub.status.idle": "2025-08-06T17:56:56.146075Z",
     "shell.execute_reply": "2025-08-06T17:56:56.144176Z"
    },
    "papermill": {
     "duration": 0.028454,
     "end_time": "2025-08-06T17:56:56.148123",
     "exception": false,
     "start_time": "2025-08-06T17:56:56.119669",
     "status": "completed"
    },
    "tags": []
   },
   "outputs": [],
   "source": [
    "if len(excluded_features_columns) > 0:\n",
    "    print(f\"Dropping features: {excluded_features_columns}\")\n",
    "    X_calib.drop(excluded_features_columns, axis=1, inplace=True)"
   ]
  },
  {
   "cell_type": "code",
   "execution_count": 25,
   "id": "76c4dc6d",
   "metadata": {
    "execution": {
     "iopub.execute_input": "2025-08-06T17:56:56.193433Z",
     "iopub.status.busy": "2025-08-06T17:56:56.192756Z",
     "iopub.status.idle": "2025-08-06T17:56:56.198549Z",
     "shell.execute_reply": "2025-08-06T17:56:56.197565Z"
    },
    "papermill": {
     "duration": 0.029845,
     "end_time": "2025-08-06T17:56:56.200111",
     "exception": false,
     "start_time": "2025-08-06T17:56:56.170266",
     "status": "completed"
    },
    "tags": []
   },
   "outputs": [],
   "source": [
    "# EXCLUDE CERTAIN SUBGROUPS\n",
    "# -------------------------\n",
    "\n",
    "mode = universe.get(\"exclude_subgroups\", \"keep-all\") # Defaults to \"keep-all\" if the key is missing."
   ]
  },
  {
   "cell_type": "code",
   "execution_count": 26,
   "id": "21994072",
   "metadata": {
    "execution": {
     "iopub.execute_input": "2025-08-06T17:56:56.243982Z",
     "iopub.status.busy": "2025-08-06T17:56:56.243545Z",
     "iopub.status.idle": "2025-08-06T17:56:56.250464Z",
     "shell.execute_reply": "2025-08-06T17:56:56.249370Z"
    },
    "papermill": {
     "duration": 0.031027,
     "end_time": "2025-08-06T17:56:56.252077",
     "exception": false,
     "start_time": "2025-08-06T17:56:56.221050",
     "status": "completed"
    },
    "tags": []
   },
   "outputs": [],
   "source": [
    "if mode == \"keep-all\":\n",
    "    keep_mask = pd.Series(True, index=org_train.index)\n",
    "\n",
    "elif mode == \"drop-non-german\":\n",
    "    keep_mask = (org_train[\"maxdeutsch1\"] == 1) & (org_train[\"maxdeutsch.Missing.\"] == 0)\n",
    "\n",
    "else:\n",
    "    raise ValueError(f\"Unsupported mode for exclude_subgroups: {mode}\")"
   ]
  },
  {
   "cell_type": "code",
   "execution_count": 27,
   "id": "71651440",
   "metadata": {
    "execution": {
     "iopub.execute_input": "2025-08-06T17:56:56.276761Z",
     "iopub.status.busy": "2025-08-06T17:56:56.276345Z",
     "iopub.status.idle": "2025-08-06T17:56:56.281930Z",
     "shell.execute_reply": "2025-08-06T17:56:56.281189Z"
    },
    "papermill": {
     "duration": 0.018126,
     "end_time": "2025-08-06T17:56:56.283196",
     "exception": false,
     "start_time": "2025-08-06T17:56:56.265070",
     "status": "completed"
    },
    "tags": []
   },
   "outputs": [],
   "source": [
    "n_drop = (~keep_mask).sum() # Calculates how many rows are set to be dropped\n",
    "if n_drop > 0:\n",
    "    pct = n_drop / len(keep_mask) * 100\n",
    "    print(f\"Dropping {n_drop} rows ({pct:.2f}%) where mode='{mode}'\")"
   ]
  },
  {
   "cell_type": "code",
   "execution_count": 28,
   "id": "5fb8eee5",
   "metadata": {
    "execution": {
     "iopub.execute_input": "2025-08-06T17:56:56.306196Z",
     "iopub.status.busy": "2025-08-06T17:56:56.305756Z",
     "iopub.status.idle": "2025-08-06T17:56:56.312110Z",
     "shell.execute_reply": "2025-08-06T17:56:56.311055Z"
    },
    "papermill": {
     "duration": 0.019754,
     "end_time": "2025-08-06T17:56:56.313851",
     "exception": false,
     "start_time": "2025-08-06T17:56:56.294097",
     "status": "completed"
    },
    "tags": []
   },
   "outputs": [],
   "source": [
    "X_train = X_train[keep_mask]"
   ]
  },
  {
   "cell_type": "code",
   "execution_count": 29,
   "id": "b202bb3a",
   "metadata": {
    "execution": {
     "iopub.execute_input": "2025-08-06T17:56:56.360933Z",
     "iopub.status.busy": "2025-08-06T17:56:56.359727Z",
     "iopub.status.idle": "2025-08-06T17:56:56.366137Z",
     "shell.execute_reply": "2025-08-06T17:56:56.365005Z"
    },
    "papermill": {
     "duration": 0.03236,
     "end_time": "2025-08-06T17:56:56.368235",
     "exception": false,
     "start_time": "2025-08-06T17:56:56.335875",
     "status": "completed"
    },
    "tags": []
   },
   "outputs": [],
   "source": [
    "y_train = y_train[keep_mask]"
   ]
  },
  {
   "cell_type": "markdown",
   "id": "493e2ac3",
   "metadata": {
    "papermill": {
     "duration": 0.028777,
     "end_time": "2025-08-06T17:56:56.425813",
     "exception": false,
     "start_time": "2025-08-06T17:56:56.397036",
     "status": "completed"
    },
    "tags": []
   },
   "source": [
    "# Model Training"
   ]
  },
  {
   "cell_type": "code",
   "execution_count": 30,
   "id": "679e1268",
   "metadata": {
    "execution": {
     "iopub.execute_input": "2025-08-06T17:56:56.485527Z",
     "iopub.status.busy": "2025-08-06T17:56:56.484998Z",
     "iopub.status.idle": "2025-08-06T17:56:56.589658Z",
     "shell.execute_reply": "2025-08-06T17:56:56.588866Z"
    },
    "papermill": {
     "duration": 0.137384,
     "end_time": "2025-08-06T17:56:56.591178",
     "exception": false,
     "start_time": "2025-08-06T17:56:56.453794",
     "status": "completed"
    },
    "tags": []
   },
   "outputs": [],
   "source": [
    "from sklearn.linear_model import LogisticRegression\n",
    "from sklearn.ensemble import GradientBoostingClassifier, RandomForestClassifier\n",
    "\n",
    "if (universe[\"model\"] == \"logreg\"):\n",
    "    model = LogisticRegression() #penalty=\"none\", solver=\"newton-cg\", max_iter=1)\n",
    "elif (universe[\"model\"] == \"penalized_logreg\"):\n",
    "    model = LogisticRegression(penalty=\"l2\", C=0.1) #, solver=\"newton-cg\", max_iter=1)\n",
    "elif (universe[\"model\"] == \"rf\"):\n",
    "    model = RandomForestClassifier() # n_estimators=100, n_jobs=-1\n",
    "elif (universe[\"model\"] == \"gbm\"):\n",
    "    model = GradientBoostingClassifier()\n",
    "elif (universe[\"model\"] == \"elasticnet\"):\n",
    "    model = LogisticRegression(penalty = 'elasticnet', solver = 'saga', l1_ratio = 0.5) # max_iter=5000\n",
    "else:\n",
    "    raise \"Unsupported universe.model\""
   ]
  },
  {
   "cell_type": "code",
   "execution_count": 31,
   "id": "0cc8f744",
   "metadata": {
    "execution": {
     "iopub.execute_input": "2025-08-06T17:56:56.614216Z",
     "iopub.status.busy": "2025-08-06T17:56:56.613694Z",
     "iopub.status.idle": "2025-08-06T17:56:56.619226Z",
     "shell.execute_reply": "2025-08-06T17:56:56.618497Z"
    },
    "papermill": {
     "duration": 0.018434,
     "end_time": "2025-08-06T17:56:56.620598",
     "exception": false,
     "start_time": "2025-08-06T17:56:56.602164",
     "status": "completed"
    },
    "tags": []
   },
   "outputs": [],
   "source": [
    "from sklearn.pipeline import Pipeline\n",
    "from sklearn.preprocessing import StandardScaler\n",
    "\n",
    "model = Pipeline([\n",
    "    #(\"continuous_processor\", continuous_processor),\n",
    "    #(\"categorical_preprocessor\", categorical_preprocessor),\n",
    "    (\"scale\", StandardScaler() if universe[\"scale\"] == \"scale\" else None), \n",
    "    (\"model\", model),\n",
    "])"
   ]
  },
  {
   "cell_type": "code",
   "execution_count": 32,
   "id": "9442c04d",
   "metadata": {
    "execution": {
     "iopub.execute_input": "2025-08-06T17:56:56.644117Z",
     "iopub.status.busy": "2025-08-06T17:56:56.643591Z",
     "iopub.status.idle": "2025-08-06T17:56:56.680059Z",
     "shell.execute_reply": "2025-08-06T17:56:56.678586Z"
    },
    "papermill": {
     "duration": 0.049486,
     "end_time": "2025-08-06T17:56:56.681354",
     "exception": false,
     "start_time": "2025-08-06T17:56:56.631868",
     "status": "completed"
    },
    "tags": []
   },
   "outputs": [
    {
     "data": {
      "text/html": [
       "<style>#sk-container-id-1 {color: black;background-color: white;}#sk-container-id-1 pre{padding: 0;}#sk-container-id-1 div.sk-toggleable {background-color: white;}#sk-container-id-1 label.sk-toggleable__label {cursor: pointer;display: block;width: 100%;margin-bottom: 0;padding: 0.3em;box-sizing: border-box;text-align: center;}#sk-container-id-1 label.sk-toggleable__label-arrow:before {content: \"▸\";float: left;margin-right: 0.25em;color: #696969;}#sk-container-id-1 label.sk-toggleable__label-arrow:hover:before {color: black;}#sk-container-id-1 div.sk-estimator:hover label.sk-toggleable__label-arrow:before {color: black;}#sk-container-id-1 div.sk-toggleable__content {max-height: 0;max-width: 0;overflow: hidden;text-align: left;background-color: #f0f8ff;}#sk-container-id-1 div.sk-toggleable__content pre {margin: 0.2em;color: black;border-radius: 0.25em;background-color: #f0f8ff;}#sk-container-id-1 input.sk-toggleable__control:checked~div.sk-toggleable__content {max-height: 200px;max-width: 100%;overflow: auto;}#sk-container-id-1 input.sk-toggleable__control:checked~label.sk-toggleable__label-arrow:before {content: \"▾\";}#sk-container-id-1 div.sk-estimator input.sk-toggleable__control:checked~label.sk-toggleable__label {background-color: #d4ebff;}#sk-container-id-1 div.sk-label input.sk-toggleable__control:checked~label.sk-toggleable__label {background-color: #d4ebff;}#sk-container-id-1 input.sk-hidden--visually {border: 0;clip: rect(1px 1px 1px 1px);clip: rect(1px, 1px, 1px, 1px);height: 1px;margin: -1px;overflow: hidden;padding: 0;position: absolute;width: 1px;}#sk-container-id-1 div.sk-estimator {font-family: monospace;background-color: #f0f8ff;border: 1px dotted black;border-radius: 0.25em;box-sizing: border-box;margin-bottom: 0.5em;}#sk-container-id-1 div.sk-estimator:hover {background-color: #d4ebff;}#sk-container-id-1 div.sk-parallel-item::after {content: \"\";width: 100%;border-bottom: 1px solid gray;flex-grow: 1;}#sk-container-id-1 div.sk-label:hover label.sk-toggleable__label {background-color: #d4ebff;}#sk-container-id-1 div.sk-serial::before {content: \"\";position: absolute;border-left: 1px solid gray;box-sizing: border-box;top: 0;bottom: 0;left: 50%;z-index: 0;}#sk-container-id-1 div.sk-serial {display: flex;flex-direction: column;align-items: center;background-color: white;padding-right: 0.2em;padding-left: 0.2em;position: relative;}#sk-container-id-1 div.sk-item {position: relative;z-index: 1;}#sk-container-id-1 div.sk-parallel {display: flex;align-items: stretch;justify-content: center;background-color: white;position: relative;}#sk-container-id-1 div.sk-item::before, #sk-container-id-1 div.sk-parallel-item::before {content: \"\";position: absolute;border-left: 1px solid gray;box-sizing: border-box;top: 0;bottom: 0;left: 50%;z-index: -1;}#sk-container-id-1 div.sk-parallel-item {display: flex;flex-direction: column;z-index: 1;position: relative;background-color: white;}#sk-container-id-1 div.sk-parallel-item:first-child::after {align-self: flex-end;width: 50%;}#sk-container-id-1 div.sk-parallel-item:last-child::after {align-self: flex-start;width: 50%;}#sk-container-id-1 div.sk-parallel-item:only-child::after {width: 0;}#sk-container-id-1 div.sk-dashed-wrapped {border: 1px dashed gray;margin: 0 0.4em 0.5em 0.4em;box-sizing: border-box;padding-bottom: 0.4em;background-color: white;}#sk-container-id-1 div.sk-label label {font-family: monospace;font-weight: bold;display: inline-block;line-height: 1.2em;}#sk-container-id-1 div.sk-label-container {text-align: center;}#sk-container-id-1 div.sk-container {/* jupyter's `normalize.less` sets `[hidden] { display: none; }` but bootstrap.min.css set `[hidden] { display: none !important; }` so we also need the `!important` here to be able to override the default hidden behavior on the sphinx rendered scikit-learn.org. See: https://github.com/scikit-learn/scikit-learn/issues/21755 */display: inline-block !important;position: relative;}#sk-container-id-1 div.sk-text-repr-fallback {display: none;}</style><div id=\"sk-container-id-1\" class=\"sk-top-container\"><div class=\"sk-text-repr-fallback\"><pre>Pipeline(steps=[(&#x27;scale&#x27;, StandardScaler()),\n",
       "                (&#x27;model&#x27;, LogisticRegression(C=0.1))])</pre><b>In a Jupyter environment, please rerun this cell to show the HTML representation or trust the notebook. <br />On GitHub, the HTML representation is unable to render, please try loading this page with nbviewer.org.</b></div><div class=\"sk-container\" hidden><div class=\"sk-item sk-dashed-wrapped\"><div class=\"sk-label-container\"><div class=\"sk-label sk-toggleable\"><input class=\"sk-toggleable__control sk-hidden--visually\" id=\"sk-estimator-id-1\" type=\"checkbox\" ><label for=\"sk-estimator-id-1\" class=\"sk-toggleable__label sk-toggleable__label-arrow\">Pipeline</label><div class=\"sk-toggleable__content\"><pre>Pipeline(steps=[(&#x27;scale&#x27;, StandardScaler()),\n",
       "                (&#x27;model&#x27;, LogisticRegression(C=0.1))])</pre></div></div></div><div class=\"sk-serial\"><div class=\"sk-item\"><div class=\"sk-estimator sk-toggleable\"><input class=\"sk-toggleable__control sk-hidden--visually\" id=\"sk-estimator-id-2\" type=\"checkbox\" ><label for=\"sk-estimator-id-2\" class=\"sk-toggleable__label sk-toggleable__label-arrow\">StandardScaler</label><div class=\"sk-toggleable__content\"><pre>StandardScaler()</pre></div></div></div><div class=\"sk-item\"><div class=\"sk-estimator sk-toggleable\"><input class=\"sk-toggleable__control sk-hidden--visually\" id=\"sk-estimator-id-3\" type=\"checkbox\" ><label for=\"sk-estimator-id-3\" class=\"sk-toggleable__label sk-toggleable__label-arrow\">LogisticRegression</label><div class=\"sk-toggleable__content\"><pre>LogisticRegression(C=0.1)</pre></div></div></div></div></div></div></div>"
      ],
      "text/plain": [
       "Pipeline(steps=[('scale', StandardScaler()),\n",
       "                ('model', LogisticRegression(C=0.1))])"
      ]
     },
     "execution_count": 32,
     "metadata": {},
     "output_type": "execute_result"
    }
   ],
   "source": [
    "model.fit(X_train, y_train.values.ravel())"
   ]
  },
  {
   "cell_type": "code",
   "execution_count": 33,
   "id": "a7cf2e16",
   "metadata": {
    "execution": {
     "iopub.execute_input": "2025-08-06T17:56:56.705338Z",
     "iopub.status.busy": "2025-08-06T17:56:56.704809Z",
     "iopub.status.idle": "2025-08-06T17:56:56.896295Z",
     "shell.execute_reply": "2025-08-06T17:56:56.895507Z"
    },
    "papermill": {
     "duration": 0.205075,
     "end_time": "2025-08-06T17:56:56.897763",
     "exception": false,
     "start_time": "2025-08-06T17:56:56.692688",
     "status": "completed"
    },
    "tags": []
   },
   "outputs": [
    {
     "data": {
      "text/plain": [
       "0.8403299520677739"
      ]
     },
     "execution_count": 33,
     "metadata": {},
     "output_type": "execute_result"
    }
   ],
   "source": [
    "from fairness_multiverse.universe import predict_w_threshold\n",
    "\n",
    "probs_test = model.predict_proba(X_test)\n",
    "\n",
    "'''\n",
    "Below code returns a boolean array (or binary 0/1 array depending on how it’s used) where each element \n",
    "is True if the probability of class 1 is greater than or equal to the threshold, and False otherwise.\n",
    "'''\n",
    "y_pred_default = predict_w_threshold(probs_test, 0.5)\n",
    "\n",
    "from sklearn.metrics import accuracy_score\n",
    "\n",
    "# Naive prediction\n",
    "accuracy_score(y_true = y_true, y_pred = y_pred_default)"
   ]
  },
  {
   "cell_type": "code",
   "execution_count": 34,
   "id": "081964c3",
   "metadata": {
    "execution": {
     "iopub.execute_input": "2025-08-06T17:56:56.920325Z",
     "iopub.status.busy": "2025-08-06T17:56:56.920009Z",
     "iopub.status.idle": "2025-08-06T17:56:57.092049Z",
     "shell.execute_reply": "2025-08-06T17:56:57.091134Z"
    },
    "papermill": {
     "duration": 0.184719,
     "end_time": "2025-08-06T17:56:57.093465",
     "exception": false,
     "start_time": "2025-08-06T17:56:56.908746",
     "status": "completed"
    },
    "tags": []
   },
   "outputs": [
    {
     "data": {
      "text/plain": [
       "array([0, 0, 0, ..., 0, 0, 0])"
      ]
     },
     "execution_count": 34,
     "metadata": {},
     "output_type": "execute_result"
    }
   ],
   "source": [
    "model.predict(X_test)"
   ]
  },
  {
   "cell_type": "markdown",
   "id": "56c9705b",
   "metadata": {
    "papermill": {
     "duration": 0.012084,
     "end_time": "2025-08-06T17:56:57.116912",
     "exception": false,
     "start_time": "2025-08-06T17:56:57.104828",
     "status": "completed"
    },
    "tags": []
   },
   "source": [
    "# Conformal Prediction"
   ]
  },
  {
   "cell_type": "code",
   "execution_count": 35,
   "id": "160ec6ff",
   "metadata": {
    "execution": {
     "iopub.execute_input": "2025-08-06T17:56:57.139655Z",
     "iopub.status.busy": "2025-08-06T17:56:57.138798Z",
     "iopub.status.idle": "2025-08-06T17:56:57.143546Z",
     "shell.execute_reply": "2025-08-06T17:56:57.142830Z"
    },
    "papermill": {
     "duration": 0.017671,
     "end_time": "2025-08-06T17:56:57.144961",
     "exception": false,
     "start_time": "2025-08-06T17:56:57.127290",
     "status": "completed"
    },
    "tags": []
   },
   "outputs": [],
   "source": [
    "# Miscoverage level for conformal prediction (10% allowed error rate => 90% target coverage)\n",
    "alpha = 0.1"
   ]
  },
  {
   "cell_type": "code",
   "execution_count": 36,
   "id": "eadf4555-3dd3-440e-8e35-f82a4ad9f855",
   "metadata": {
    "execution": {
     "iopub.execute_input": "2025-08-06T17:56:57.170028Z",
     "iopub.status.busy": "2025-08-06T17:56:57.169614Z",
     "iopub.status.idle": "2025-08-06T17:56:57.340281Z",
     "shell.execute_reply": "2025-08-06T17:56:57.339264Z"
    },
    "papermill": {
     "duration": 0.18521,
     "end_time": "2025-08-06T17:56:57.341893",
     "exception": false,
     "start_time": "2025-08-06T17:56:57.156683",
     "status": "completed"
    },
    "tags": []
   },
   "outputs": [],
   "source": [
    "probs_calib = model.predict_proba(X_calib)"
   ]
  },
  {
   "cell_type": "code",
   "execution_count": 37,
   "id": "2ed93547-6d5d-4983-9b36-1ecb300da49a",
   "metadata": {
    "execution": {
     "iopub.execute_input": "2025-08-06T17:56:57.380127Z",
     "iopub.status.busy": "2025-08-06T17:56:57.379222Z",
     "iopub.status.idle": "2025-08-06T17:56:57.383919Z",
     "shell.execute_reply": "2025-08-06T17:56:57.383205Z"
    },
    "papermill": {
     "duration": 0.023355,
     "end_time": "2025-08-06T17:56:57.385464",
     "exception": false,
     "start_time": "2025-08-06T17:56:57.362109",
     "status": "completed"
    },
    "tags": []
   },
   "outputs": [],
   "source": [
    "y_calib = y_calib.values.ravel().astype(int)"
   ]
  },
  {
   "cell_type": "code",
   "execution_count": 38,
   "id": "65d1320d-f588-4b38-9072-62af1ae97f7d",
   "metadata": {
    "execution": {
     "iopub.execute_input": "2025-08-06T17:56:57.411071Z",
     "iopub.status.busy": "2025-08-06T17:56:57.410707Z",
     "iopub.status.idle": "2025-08-06T17:56:57.416721Z",
     "shell.execute_reply": "2025-08-06T17:56:57.415914Z"
    },
    "papermill": {
     "duration": 0.02028,
     "end_time": "2025-08-06T17:56:57.418154",
     "exception": false,
     "start_time": "2025-08-06T17:56:57.397874",
     "status": "completed"
    },
    "tags": []
   },
   "outputs": [],
   "source": [
    "from fairness_multiverse.conformal import compute_nc_scores\n",
    "\n",
    "# Compute nonconformity scores on calibration set (1 - probability of true class)\n",
    "nc_scores = compute_nc_scores(probs_calib, y_calib)"
   ]
  },
  {
   "cell_type": "code",
   "execution_count": 39,
   "id": "df3b8ca3-53b7-43d5-9667-7c85da7aeda2",
   "metadata": {
    "execution": {
     "iopub.execute_input": "2025-08-06T17:56:57.443571Z",
     "iopub.status.busy": "2025-08-06T17:56:57.443029Z",
     "iopub.status.idle": "2025-08-06T17:56:57.449659Z",
     "shell.execute_reply": "2025-08-06T17:56:57.448757Z"
    },
    "papermill": {
     "duration": 0.021015,
     "end_time": "2025-08-06T17:56:57.451582",
     "exception": false,
     "start_time": "2025-08-06T17:56:57.430567",
     "status": "completed"
    },
    "tags": []
   },
   "outputs": [],
   "source": [
    "from fairness_multiverse.conformal import find_threshold\n",
    "\n",
    "# Find conformal threshold q_hat for the given alpha (split conformal method)\n",
    "q_hat = find_threshold(nc_scores, alpha)"
   ]
  },
  {
   "cell_type": "code",
   "execution_count": 40,
   "id": "4d29e6c1-0ef6-4aa4-b8fe-4fe79b0d033a",
   "metadata": {
    "execution": {
     "iopub.execute_input": "2025-08-06T17:56:57.494113Z",
     "iopub.status.busy": "2025-08-06T17:56:57.493228Z",
     "iopub.status.idle": "2025-08-06T17:56:57.500839Z",
     "shell.execute_reply": "2025-08-06T17:56:57.499674Z"
    },
    "papermill": {
     "duration": 0.030554,
     "end_time": "2025-08-06T17:56:57.502568",
     "exception": false,
     "start_time": "2025-08-06T17:56:57.472014",
     "status": "completed"
    },
    "tags": []
   },
   "outputs": [
    {
     "data": {
      "text/plain": [
       "0.7547096822672416"
      ]
     },
     "execution_count": 40,
     "metadata": {},
     "output_type": "execute_result"
    }
   ],
   "source": [
    "q_hat"
   ]
  },
  {
   "cell_type": "code",
   "execution_count": 41,
   "id": "92460794-cdac-4be2-ba28-f28c0515a6fb",
   "metadata": {
    "execution": {
     "iopub.execute_input": "2025-08-06T17:56:57.553822Z",
     "iopub.status.busy": "2025-08-06T17:56:57.553280Z",
     "iopub.status.idle": "2025-08-06T17:56:58.311692Z",
     "shell.execute_reply": "2025-08-06T17:56:58.310980Z"
    },
    "papermill": {
     "duration": 0.785803,
     "end_time": "2025-08-06T17:56:58.313283",
     "exception": false,
     "start_time": "2025-08-06T17:56:57.527480",
     "status": "completed"
    },
    "tags": []
   },
   "outputs": [],
   "source": [
    "from fairness_multiverse.conformal import predict_conformal_sets\n",
    "\n",
    "# Generate prediction sets for each test example\n",
    "pred_sets = predict_conformal_sets(model, X_test, q_hat)"
   ]
  },
  {
   "cell_type": "code",
   "execution_count": 42,
   "id": "d90c9a65-e6db-4f5d-80cd-e68fb7e46829",
   "metadata": {
    "execution": {
     "iopub.execute_input": "2025-08-06T17:56:58.337115Z",
     "iopub.status.busy": "2025-08-06T17:56:58.336712Z",
     "iopub.status.idle": "2025-08-06T17:56:58.355857Z",
     "shell.execute_reply": "2025-08-06T17:56:58.354767Z"
    },
    "papermill": {
     "duration": 0.03347,
     "end_time": "2025-08-06T17:56:58.358056",
     "exception": false,
     "start_time": "2025-08-06T17:56:58.324586",
     "status": "completed"
    },
    "tags": []
   },
   "outputs": [],
   "source": [
    "y_true = y_true.squeeze()"
   ]
  },
  {
   "cell_type": "code",
   "execution_count": 43,
   "id": "3a58a54a-1e68-46b9-927a-df01f18aebc8",
   "metadata": {
    "execution": {
     "iopub.execute_input": "2025-08-06T17:56:58.402485Z",
     "iopub.status.busy": "2025-08-06T17:56:58.401801Z",
     "iopub.status.idle": "2025-08-06T17:56:59.327359Z",
     "shell.execute_reply": "2025-08-06T17:56:59.326335Z"
    },
    "papermill": {
     "duration": 0.949132,
     "end_time": "2025-08-06T17:56:59.329436",
     "exception": false,
     "start_time": "2025-08-06T17:56:58.380304",
     "status": "completed"
    },
    "tags": []
   },
   "outputs": [],
   "source": [
    "from fairness_multiverse.conformal import evaluate_sets\n",
    "\n",
    "# Evaluate coverage and average set size on test data\n",
    "metrics = evaluate_sets(pred_sets, y_true)"
   ]
  },
  {
   "cell_type": "markdown",
   "id": "2b569c12-9aaa-4c88-98c9-bbcd0cf3ebb8",
   "metadata": {
    "papermill": {
     "duration": 0.023614,
     "end_time": "2025-08-06T17:56:59.378334",
     "exception": false,
     "start_time": "2025-08-06T17:56:59.354720",
     "status": "completed"
    },
    "tags": []
   },
   "source": [
    "# CP Metrics"
   ]
  },
  {
   "cell_type": "code",
   "execution_count": 44,
   "id": "5ce0a5cb-201f-45a0-ade5-94c7f0bd6095",
   "metadata": {
    "execution": {
     "iopub.execute_input": "2025-08-06T17:56:59.439702Z",
     "iopub.status.busy": "2025-08-06T17:56:59.439264Z",
     "iopub.status.idle": "2025-08-06T17:56:59.445885Z",
     "shell.execute_reply": "2025-08-06T17:56:59.445042Z"
    },
    "papermill": {
     "duration": 0.039628,
     "end_time": "2025-08-06T17:56:59.447444",
     "exception": false,
     "start_time": "2025-08-06T17:56:59.407816",
     "status": "completed"
    },
    "tags": []
   },
   "outputs": [
    {
     "data": {
      "text/plain": [
       "{'coverage': 0.9106119719094862, 'avg_size': 1.1995764128859658}"
      ]
     },
     "execution_count": 44,
     "metadata": {},
     "output_type": "execute_result"
    }
   ],
   "source": [
    "metrics"
   ]
  },
  {
   "cell_type": "code",
   "execution_count": 45,
   "id": "9b9a838d-31c9-430b-ae14-12baee460d17",
   "metadata": {
    "execution": {
     "iopub.execute_input": "2025-08-06T17:56:59.490421Z",
     "iopub.status.busy": "2025-08-06T17:56:59.489932Z",
     "iopub.status.idle": "2025-08-06T17:56:59.497082Z",
     "shell.execute_reply": "2025-08-06T17:56:59.495931Z"
    },
    "papermill": {
     "duration": 0.032543,
     "end_time": "2025-08-06T17:56:59.500778",
     "exception": false,
     "start_time": "2025-08-06T17:56:59.468235",
     "status": "completed"
    },
    "tags": []
   },
   "outputs": [],
   "source": [
    "example_universe = universe.copy()\n",
    "universe_training_year = example_universe.get(\"training_year\")\n",
    "universe_training_size = example_universe.get(\"training_size\")\n",
    "universe_scale = example_universe.get(\"scale\")\n",
    "universe_model = example_universe.get(\"model\")\n",
    "universe_exclude_features = example_universe.get(\"exclude_features\")\n",
    "universe_exclude_subgroups = example_universe.get(\"exclude_subgroups\")"
   ]
  },
  {
   "cell_type": "code",
   "execution_count": 46,
   "id": "f4b6a8ac-9dc0-4245-8a91-5b3b5999c4f9",
   "metadata": {
    "execution": {
     "iopub.execute_input": "2025-08-06T17:56:59.561326Z",
     "iopub.status.busy": "2025-08-06T17:56:59.560350Z",
     "iopub.status.idle": "2025-08-06T17:56:59.566912Z",
     "shell.execute_reply": "2025-08-06T17:56:59.566013Z"
    },
    "papermill": {
     "duration": 0.029076,
     "end_time": "2025-08-06T17:56:59.568512",
     "exception": false,
     "start_time": "2025-08-06T17:56:59.539436",
     "status": "completed"
    },
    "tags": []
   },
   "outputs": [],
   "source": [
    "cp_metrics_dict = {\n",
    "    \"universe_id\": [universe_id],\n",
    "    \"universe_training_year\": [universe_training_year],\n",
    "    \"universe_training_size\": [universe_training_size],\n",
    "    \"universe_scale\": [universe_scale],\n",
    "    \"universe_model\": [universe_model],\n",
    "    \"universe_exclude_features\": [universe_exclude_features],\n",
    "    \"universe_exclude_subgroups\": [universe_exclude_subgroups],\n",
    "    \"q_hat\": [q_hat],\n",
    "    \"coverage\": [metrics[\"coverage\"]],\n",
    "    \"avg_size\": [metrics[\"avg_size\"]],\n",
    "}"
   ]
  },
  {
   "cell_type": "code",
   "execution_count": 47,
   "id": "33007efc-14e9-4ec6-97ac-56a455c82265",
   "metadata": {
    "execution": {
     "iopub.execute_input": "2025-08-06T17:56:59.610598Z",
     "iopub.status.busy": "2025-08-06T17:56:59.609706Z",
     "iopub.status.idle": "2025-08-06T17:56:59.616130Z",
     "shell.execute_reply": "2025-08-06T17:56:59.615032Z"
    },
    "papermill": {
     "duration": 0.029528,
     "end_time": "2025-08-06T17:56:59.617816",
     "exception": false,
     "start_time": "2025-08-06T17:56:59.588288",
     "status": "completed"
    },
    "tags": []
   },
   "outputs": [],
   "source": [
    "cp_metrics_df = pd.DataFrame(cp_metrics_dict)"
   ]
  },
  {
   "cell_type": "code",
   "execution_count": 48,
   "id": "db12611b-57b2-4910-b9d0-355adfd6e7bf",
   "metadata": {
    "execution": {
     "iopub.execute_input": "2025-08-06T17:56:59.660560Z",
     "iopub.status.busy": "2025-08-06T17:56:59.660067Z",
     "iopub.status.idle": "2025-08-06T17:56:59.676405Z",
     "shell.execute_reply": "2025-08-06T17:56:59.675429Z"
    },
    "papermill": {
     "duration": 0.039967,
     "end_time": "2025-08-06T17:56:59.677952",
     "exception": false,
     "start_time": "2025-08-06T17:56:59.637985",
     "status": "completed"
    },
    "tags": []
   },
   "outputs": [
    {
     "data": {
      "text/html": [
       "<div>\n",
       "<style scoped>\n",
       "    .dataframe tbody tr th:only-of-type {\n",
       "        vertical-align: middle;\n",
       "    }\n",
       "\n",
       "    .dataframe tbody tr th {\n",
       "        vertical-align: top;\n",
       "    }\n",
       "\n",
       "    .dataframe thead th {\n",
       "        text-align: right;\n",
       "    }\n",
       "</style>\n",
       "<table border=\"1\" class=\"dataframe\">\n",
       "  <thead>\n",
       "    <tr style=\"text-align: right;\">\n",
       "      <th></th>\n",
       "      <th>universe_id</th>\n",
       "      <th>universe_training_year</th>\n",
       "      <th>universe_training_size</th>\n",
       "      <th>universe_scale</th>\n",
       "      <th>universe_model</th>\n",
       "      <th>universe_exclude_features</th>\n",
       "      <th>universe_exclude_subgroups</th>\n",
       "      <th>q_hat</th>\n",
       "      <th>coverage</th>\n",
       "      <th>avg_size</th>\n",
       "    </tr>\n",
       "  </thead>\n",
       "  <tbody>\n",
       "    <tr>\n",
       "      <th>0</th>\n",
       "      <td>453355fdf4c02e9fb83b7954bffad056</td>\n",
       "      <td>2012_14</td>\n",
       "      <td>1k</td>\n",
       "      <td>scale</td>\n",
       "      <td>penalized_logreg</td>\n",
       "      <td>none</td>\n",
       "      <td>keep-all</td>\n",
       "      <td>0.75471</td>\n",
       "      <td>0.910612</td>\n",
       "      <td>1.199576</td>\n",
       "    </tr>\n",
       "  </tbody>\n",
       "</table>\n",
       "</div>"
      ],
      "text/plain": [
       "                        universe_id universe_training_year  \\\n",
       "0  453355fdf4c02e9fb83b7954bffad056                2012_14   \n",
       "\n",
       "  universe_training_size universe_scale    universe_model  \\\n",
       "0                     1k          scale  penalized_logreg   \n",
       "\n",
       "  universe_exclude_features universe_exclude_subgroups    q_hat  coverage  \\\n",
       "0                      none                   keep-all  0.75471  0.910612   \n",
       "\n",
       "   avg_size  \n",
       "0  1.199576  "
      ]
     },
     "execution_count": 48,
     "metadata": {},
     "output_type": "execute_result"
    }
   ],
   "source": [
    "cp_metrics_df"
   ]
  },
  {
   "cell_type": "markdown",
   "id": "c825ecb4-0d3d-41d6-b7c6-eccb21272259",
   "metadata": {
    "papermill": {
     "duration": 0.021079,
     "end_time": "2025-08-06T17:56:59.719888",
     "exception": false,
     "start_time": "2025-08-06T17:56:59.698809",
     "status": "completed"
    },
    "tags": []
   },
   "source": [
    "Conditional coverage & looking at subgroups"
   ]
  },
  {
   "cell_type": "code",
   "execution_count": 49,
   "id": "027ae886-68dd-4141-96c7-805a5450e1ef",
   "metadata": {
    "execution": {
     "iopub.execute_input": "2025-08-06T17:56:59.763426Z",
     "iopub.status.busy": "2025-08-06T17:56:59.762704Z",
     "iopub.status.idle": "2025-08-06T17:57:00.021055Z",
     "shell.execute_reply": "2025-08-06T17:57:00.020154Z"
    },
    "papermill": {
     "duration": 0.281951,
     "end_time": "2025-08-06T17:57:00.022794",
     "exception": false,
     "start_time": "2025-08-06T17:56:59.740843",
     "status": "completed"
    },
    "tags": []
   },
   "outputs": [],
   "source": [
    "from fairness_multiverse.conformal import build_cp_groups\n",
    "\n",
    "cp_groups_df = build_cp_groups(pred_sets, y_true, X_test.index, org_test)"
   ]
  },
  {
   "cell_type": "code",
   "execution_count": 50,
   "id": "6cbdab96-b2b2-45af-ad54-d0516db2e28d",
   "metadata": {
    "execution": {
     "iopub.execute_input": "2025-08-06T17:57:00.066698Z",
     "iopub.status.busy": "2025-08-06T17:57:00.065940Z",
     "iopub.status.idle": "2025-08-06T17:57:01.635419Z",
     "shell.execute_reply": "2025-08-06T17:57:01.634552Z"
    },
    "papermill": {
     "duration": 1.593352,
     "end_time": "2025-08-06T17:57:01.637219",
     "exception": false,
     "start_time": "2025-08-06T17:57:00.043867",
     "status": "completed"
    },
    "tags": []
   },
   "outputs": [],
   "source": [
    "# Define covered = 1 if true_label is in the predicted set\n",
    "cp_groups_df['covered'] = cp_groups_df.apply(\n",
    "    lambda r: int(r['true_label'] in r['pred_set']),\n",
    "    axis=1\n",
    ")"
   ]
  },
  {
   "cell_type": "code",
   "execution_count": 51,
   "id": "90032e27-66df-4540-9169-4e89cfbaa758",
   "metadata": {
    "execution": {
     "iopub.execute_input": "2025-08-06T17:57:01.681854Z",
     "iopub.status.busy": "2025-08-06T17:57:01.681203Z",
     "iopub.status.idle": "2025-08-06T17:57:01.692921Z",
     "shell.execute_reply": "2025-08-06T17:57:01.691954Z"
    },
    "papermill": {
     "duration": 0.03484,
     "end_time": "2025-08-06T17:57:01.694632",
     "exception": false,
     "start_time": "2025-08-06T17:57:01.659792",
     "status": "completed"
    },
    "tags": []
   },
   "outputs": [],
   "source": [
    "subgroups = ['frau1','nongerman','nongerman_male','nongerman_female']\n",
    "\n",
    "# Conditional coverage for subgroup==1\n",
    "cond_coverage = {\n",
    "    g: cp_groups_df.loc[cp_groups_df[g]==1, 'covered'].mean()\n",
    "    for g in subgroups\n",
    "}"
   ]
  },
  {
   "cell_type": "code",
   "execution_count": 52,
   "id": "1e348fb1-b9c3-45bc-ba23-f016827a7e0d",
   "metadata": {
    "execution": {
     "iopub.execute_input": "2025-08-06T17:57:01.745885Z",
     "iopub.status.busy": "2025-08-06T17:57:01.745307Z",
     "iopub.status.idle": "2025-08-06T17:57:01.754849Z",
     "shell.execute_reply": "2025-08-06T17:57:01.753823Z"
    },
    "papermill": {
     "duration": 0.040921,
     "end_time": "2025-08-06T17:57:01.756413",
     "exception": false,
     "start_time": "2025-08-06T17:57:01.715492",
     "status": "completed"
    },
    "tags": []
   },
   "outputs": [
    {
     "data": {
      "text/plain": [
       "{'frau1': 0.9030327537403963,\n",
       " 'nongerman': 0.9143883680458093,\n",
       " 'nongerman_male': 0.9324506890029721,\n",
       " 'nongerman_female': 0.8845007451564829}"
      ]
     },
     "execution_count": 52,
     "metadata": {},
     "output_type": "execute_result"
    }
   ],
   "source": [
    "cond_coverage"
   ]
  },
  {
   "cell_type": "code",
   "execution_count": 53,
   "id": "f5093324-c3dd-4d63-bc4c-8d945e5c8bbb",
   "metadata": {
    "execution": {
     "iopub.execute_input": "2025-08-06T17:57:01.801598Z",
     "iopub.status.busy": "2025-08-06T17:57:01.801123Z",
     "iopub.status.idle": "2025-08-06T17:57:01.808281Z",
     "shell.execute_reply": "2025-08-06T17:57:01.807330Z"
    },
    "papermill": {
     "duration": 0.031866,
     "end_time": "2025-08-06T17:57:01.809827",
     "exception": false,
     "start_time": "2025-08-06T17:57:01.777961",
     "status": "completed"
    },
    "tags": []
   },
   "outputs": [],
   "source": [
    "for subgroup, cov in cond_coverage.items():\n",
    "    cp_metrics_df[f\"cov_{subgroup}\"] = cov"
   ]
  },
  {
   "cell_type": "code",
   "execution_count": 54,
   "id": "6e872e10-dbe5-49e8-b554-5030c98ff75d",
   "metadata": {
    "execution": {
     "iopub.execute_input": "2025-08-06T17:57:01.854303Z",
     "iopub.status.busy": "2025-08-06T17:57:01.853442Z",
     "iopub.status.idle": "2025-08-06T17:57:01.871332Z",
     "shell.execute_reply": "2025-08-06T17:57:01.870447Z"
    },
    "papermill": {
     "duration": 0.042373,
     "end_time": "2025-08-06T17:57:01.873034",
     "exception": false,
     "start_time": "2025-08-06T17:57:01.830661",
     "status": "completed"
    },
    "tags": []
   },
   "outputs": [
    {
     "data": {
      "text/html": [
       "<div>\n",
       "<style scoped>\n",
       "    .dataframe tbody tr th:only-of-type {\n",
       "        vertical-align: middle;\n",
       "    }\n",
       "\n",
       "    .dataframe tbody tr th {\n",
       "        vertical-align: top;\n",
       "    }\n",
       "\n",
       "    .dataframe thead th {\n",
       "        text-align: right;\n",
       "    }\n",
       "</style>\n",
       "<table border=\"1\" class=\"dataframe\">\n",
       "  <thead>\n",
       "    <tr style=\"text-align: right;\">\n",
       "      <th></th>\n",
       "      <th>universe_id</th>\n",
       "      <th>universe_training_year</th>\n",
       "      <th>universe_training_size</th>\n",
       "      <th>universe_scale</th>\n",
       "      <th>universe_model</th>\n",
       "      <th>universe_exclude_features</th>\n",
       "      <th>universe_exclude_subgroups</th>\n",
       "      <th>q_hat</th>\n",
       "      <th>coverage</th>\n",
       "      <th>avg_size</th>\n",
       "      <th>cov_frau1</th>\n",
       "      <th>cov_nongerman</th>\n",
       "      <th>cov_nongerman_male</th>\n",
       "      <th>cov_nongerman_female</th>\n",
       "    </tr>\n",
       "  </thead>\n",
       "  <tbody>\n",
       "    <tr>\n",
       "      <th>0</th>\n",
       "      <td>453355fdf4c02e9fb83b7954bffad056</td>\n",
       "      <td>2012_14</td>\n",
       "      <td>1k</td>\n",
       "      <td>scale</td>\n",
       "      <td>penalized_logreg</td>\n",
       "      <td>none</td>\n",
       "      <td>keep-all</td>\n",
       "      <td>0.75471</td>\n",
       "      <td>0.910612</td>\n",
       "      <td>1.199576</td>\n",
       "      <td>0.903033</td>\n",
       "      <td>0.914388</td>\n",
       "      <td>0.932451</td>\n",
       "      <td>0.884501</td>\n",
       "    </tr>\n",
       "  </tbody>\n",
       "</table>\n",
       "</div>"
      ],
      "text/plain": [
       "                        universe_id universe_training_year  \\\n",
       "0  453355fdf4c02e9fb83b7954bffad056                2012_14   \n",
       "\n",
       "  universe_training_size universe_scale    universe_model  \\\n",
       "0                     1k          scale  penalized_logreg   \n",
       "\n",
       "  universe_exclude_features universe_exclude_subgroups    q_hat  coverage  \\\n",
       "0                      none                   keep-all  0.75471  0.910612   \n",
       "\n",
       "   avg_size  cov_frau1  cov_nongerman  cov_nongerman_male  \\\n",
       "0  1.199576   0.903033       0.914388            0.932451   \n",
       "\n",
       "   cov_nongerman_female  \n",
       "0              0.884501  "
      ]
     },
     "execution_count": 54,
     "metadata": {},
     "output_type": "execute_result"
    }
   ],
   "source": [
    "cp_metrics_df"
   ]
  },
  {
   "cell_type": "markdown",
   "id": "33774451",
   "metadata": {
    "papermill": {
     "duration": 0.0215,
     "end_time": "2025-08-06T17:57:01.916652",
     "exception": false,
     "start_time": "2025-08-06T17:57:01.895152",
     "status": "completed"
    },
    "tags": []
   },
   "source": [
    "# (Fairness) Metrics"
   ]
  },
  {
   "cell_type": "code",
   "execution_count": 55,
   "id": "debc5d62",
   "metadata": {
    "execution": {
     "iopub.execute_input": "2025-08-06T17:57:01.964725Z",
     "iopub.status.busy": "2025-08-06T17:57:01.963681Z",
     "iopub.status.idle": "2025-08-06T17:57:01.986517Z",
     "shell.execute_reply": "2025-08-06T17:57:01.985514Z"
    },
    "papermill": {
     "duration": 0.049661,
     "end_time": "2025-08-06T17:57:01.988666",
     "exception": false,
     "start_time": "2025-08-06T17:57:01.939005",
     "status": "completed"
    },
    "tags": []
   },
   "outputs": [],
   "source": [
    "colname_to_bin = \"maxdeutsch1\"\n",
    "majority_value = org_train[colname_to_bin].mode()[0]\n",
    "\n",
    "org_test[\"majmin\"] = np.where(org_test[colname_to_bin] == majority_value, \"majority\", \"minority\")"
   ]
  },
  {
   "cell_type": "code",
   "execution_count": 56,
   "id": "06a50de5",
   "metadata": {
    "execution": {
     "iopub.execute_input": "2025-08-06T17:57:02.034083Z",
     "iopub.status.busy": "2025-08-06T17:57:02.033414Z",
     "iopub.status.idle": "2025-08-06T17:57:04.912157Z",
     "shell.execute_reply": "2025-08-06T17:57:04.911181Z"
    },
    "papermill": {
     "duration": 2.903603,
     "end_time": "2025-08-06T17:57:04.914113",
     "exception": false,
     "start_time": "2025-08-06T17:57:02.010510",
     "status": "completed"
    },
    "tags": []
   },
   "outputs": [],
   "source": [
    "example_universe = universe.copy()\n",
    "example_universe[\"cutoff\"] = example_universe[\"cutoff\"][0]\n",
    "example_universe[\"eval_fairness_grouping\"] = example_universe[\"eval_fairness_grouping\"][0]\n",
    "fairness_dict, metric_frame = universe_analysis.compute_metrics(\n",
    "    example_universe,\n",
    "    y_pred_prob=probs_test,\n",
    "    y_test=y_true,\n",
    "    org_test=org_test,\n",
    ")"
   ]
  },
  {
   "cell_type": "markdown",
   "id": "f95d4e02",
   "metadata": {
    "papermill": {
     "duration": 0.021667,
     "end_time": "2025-08-06T17:57:04.962385",
     "exception": false,
     "start_time": "2025-08-06T17:57:04.940718",
     "status": "completed"
    },
    "tags": []
   },
   "source": [
    "# Overall"
   ]
  },
  {
   "cell_type": "markdown",
   "id": "bdee4871",
   "metadata": {
    "papermill": {
     "duration": 0.021157,
     "end_time": "2025-08-06T17:57:05.004622",
     "exception": false,
     "start_time": "2025-08-06T17:57:04.983465",
     "status": "completed"
    },
    "tags": []
   },
   "source": [
    "Main fairness target: Equalized Odds. Seems to be a better fit than equal opportunity, since we're not only interested in Y = 1. Seems to be a better fit than demographic parity, since we also care about accuracy, not just equal distribution of preds.\n",
    "\n",
    "Pick column for computation of fairness metrics\n",
    "\n",
    "Performance\n",
    "Overall performance measures, most interesting in relation to the measures split by group below"
   ]
  },
  {
   "cell_type": "code",
   "execution_count": 57,
   "id": "c4e067c6",
   "metadata": {
    "execution": {
     "iopub.execute_input": "2025-08-06T17:57:05.049913Z",
     "iopub.status.busy": "2025-08-06T17:57:05.048924Z",
     "iopub.status.idle": "2025-08-06T17:57:05.059673Z",
     "shell.execute_reply": "2025-08-06T17:57:05.058703Z"
    },
    "papermill": {
     "duration": 0.035481,
     "end_time": "2025-08-06T17:57:05.061164",
     "exception": false,
     "start_time": "2025-08-06T17:57:05.025683",
     "status": "completed"
    },
    "tags": []
   },
   "outputs": [
    {
     "data": {
      "text/plain": [
       "accuracy                   0.219585\n",
       "balanced accuracy          0.537920\n",
       "f1                         0.241048\n",
       "precision                  0.137703\n",
       "false positive rate        0.890271\n",
       "false negative rate        0.033889\n",
       "selection rate             0.900000\n",
       "count                  89710.000000\n",
       "dtype: float64"
      ]
     },
     "execution_count": 57,
     "metadata": {},
     "output_type": "execute_result"
    }
   ],
   "source": [
    "metric_frame.overall"
   ]
  },
  {
   "cell_type": "markdown",
   "id": "e968fe9d",
   "metadata": {
    "papermill": {
     "duration": 0.021704,
     "end_time": "2025-08-06T17:57:05.104392",
     "exception": false,
     "start_time": "2025-08-06T17:57:05.082688",
     "status": "completed"
    },
    "tags": []
   },
   "source": [
    "By Group"
   ]
  },
  {
   "cell_type": "code",
   "execution_count": 58,
   "id": "ec325bce",
   "metadata": {
    "execution": {
     "iopub.execute_input": "2025-08-06T17:57:05.148086Z",
     "iopub.status.busy": "2025-08-06T17:57:05.147571Z",
     "iopub.status.idle": "2025-08-06T17:57:05.165149Z",
     "shell.execute_reply": "2025-08-06T17:57:05.164111Z"
    },
    "papermill": {
     "duration": 0.041767,
     "end_time": "2025-08-06T17:57:05.166872",
     "exception": false,
     "start_time": "2025-08-06T17:57:05.125105",
     "status": "completed"
    },
    "tags": []
   },
   "outputs": [
    {
     "data": {
      "text/html": [
       "<div>\n",
       "<style scoped>\n",
       "    .dataframe tbody tr th:only-of-type {\n",
       "        vertical-align: middle;\n",
       "    }\n",
       "\n",
       "    .dataframe tbody tr th {\n",
       "        vertical-align: top;\n",
       "    }\n",
       "\n",
       "    .dataframe thead th {\n",
       "        text-align: right;\n",
       "    }\n",
       "</style>\n",
       "<table border=\"1\" class=\"dataframe\">\n",
       "  <thead>\n",
       "    <tr style=\"text-align: right;\">\n",
       "      <th></th>\n",
       "      <th>accuracy</th>\n",
       "      <th>balanced accuracy</th>\n",
       "      <th>f1</th>\n",
       "      <th>precision</th>\n",
       "      <th>false positive rate</th>\n",
       "      <th>false negative rate</th>\n",
       "      <th>selection rate</th>\n",
       "      <th>count</th>\n",
       "    </tr>\n",
       "    <tr>\n",
       "      <th>majmin</th>\n",
       "      <th></th>\n",
       "      <th></th>\n",
       "      <th></th>\n",
       "      <th></th>\n",
       "      <th></th>\n",
       "      <th></th>\n",
       "      <th></th>\n",
       "      <th></th>\n",
       "    </tr>\n",
       "  </thead>\n",
       "  <tbody>\n",
       "    <tr>\n",
       "      <th>majority</th>\n",
       "      <td>0.240191</td>\n",
       "      <td>0.545650</td>\n",
       "      <td>0.250485</td>\n",
       "      <td>0.144014</td>\n",
       "      <td>0.869532</td>\n",
       "      <td>0.039168</td>\n",
       "      <td>0.881596</td>\n",
       "      <td>69170.0</td>\n",
       "    </tr>\n",
       "    <tr>\n",
       "      <th>minority</th>\n",
       "      <td>0.150195</td>\n",
       "      <td>0.513852</td>\n",
       "      <td>0.211145</td>\n",
       "      <td>0.118225</td>\n",
       "      <td>0.958783</td>\n",
       "      <td>0.013514</td>\n",
       "      <td>0.961977</td>\n",
       "      <td>20540.0</td>\n",
       "    </tr>\n",
       "  </tbody>\n",
       "</table>\n",
       "</div>"
      ],
      "text/plain": [
       "          accuracy  balanced accuracy        f1  precision  \\\n",
       "majmin                                                       \n",
       "majority  0.240191           0.545650  0.250485   0.144014   \n",
       "minority  0.150195           0.513852  0.211145   0.118225   \n",
       "\n",
       "          false positive rate  false negative rate  selection rate    count  \n",
       "majmin                                                                       \n",
       "majority             0.869532             0.039168        0.881596  69170.0  \n",
       "minority             0.958783             0.013514        0.961977  20540.0  "
      ]
     },
     "execution_count": 58,
     "metadata": {},
     "output_type": "execute_result"
    }
   ],
   "source": [
    "metric_frame.by_group"
   ]
  },
  {
   "cell_type": "code",
   "execution_count": 59,
   "id": "a9ddbe63",
   "metadata": {
    "execution": {
     "iopub.execute_input": "2025-08-06T17:57:05.212066Z",
     "iopub.status.busy": "2025-08-06T17:57:05.211573Z",
     "iopub.status.idle": "2025-08-06T17:57:07.458636Z",
     "shell.execute_reply": "2025-08-06T17:57:07.457602Z"
    },
    "papermill": {
     "duration": 2.270997,
     "end_time": "2025-08-06T17:57:07.460392",
     "exception": false,
     "start_time": "2025-08-06T17:57:05.189395",
     "status": "completed"
    },
    "tags": []
   },
   "outputs": [
    {
     "data": {
      "text/plain": [
       "array([[<Axes: title={'center': 'accuracy'}, xlabel='majmin'>,\n",
       "        <Axes: title={'center': 'balanced accuracy'}, xlabel='majmin'>,\n",
       "        <Axes: title={'center': 'f1'}, xlabel='majmin'>],\n",
       "       [<Axes: title={'center': 'precision'}, xlabel='majmin'>,\n",
       "        <Axes: title={'center': 'false positive rate'}, xlabel='majmin'>,\n",
       "        <Axes: title={'center': 'false negative rate'}, xlabel='majmin'>],\n",
       "       [<Axes: title={'center': 'selection rate'}, xlabel='majmin'>,\n",
       "        <Axes: title={'center': 'count'}, xlabel='majmin'>,\n",
       "        <Axes: xlabel='majmin'>]], dtype=object)"
      ]
     },
     "execution_count": 59,
     "metadata": {},
     "output_type": "execute_result"
    },
    {
     "data": {
      "image/png": "[encoded data removed]",
      "text/plain": [
       "<Figure size 1200x800 with 9 Axes>"
      ]
     },
     "metadata": {},
     "output_type": "display_data"
    }
   ],
   "source": [
    "# In a graphic\n",
    "metric_frame.by_group.plot.bar(\n",
    "    subplots=True,\n",
    "    layout=[3, 3],\n",
    "    legend=False,\n",
    "    figsize=[12, 8],\n",
    "    title=\"Show all metrics\",\n",
    ")"
   ]
  },
  {
   "cell_type": "markdown",
   "id": "f57a0bac",
   "metadata": {
    "papermill": {
     "duration": 0.018683,
     "end_time": "2025-08-06T17:57:07.508570",
     "exception": false,
     "start_time": "2025-08-06T17:57:07.489887",
     "status": "completed"
    },
    "tags": []
   },
   "source": [
    "# Final Output"
   ]
  },
  {
   "cell_type": "code",
   "execution_count": 60,
   "id": "96d280a3",
   "metadata": {
    "execution": {
     "iopub.execute_input": "2025-08-06T17:57:07.548223Z",
     "iopub.status.busy": "2025-08-06T17:57:07.546871Z",
     "iopub.status.idle": "2025-08-06T17:57:07.556710Z",
     "shell.execute_reply": "2025-08-06T17:57:07.555708Z"
    },
    "papermill": {
     "duration": 0.036064,
     "end_time": "2025-08-06T17:57:07.558428",
     "exception": false,
     "start_time": "2025-08-06T17:57:07.522364",
     "status": "completed"
    },
    "tags": []
   },
   "outputs": [
    {
     "data": {
      "text/plain": [
       "4"
      ]
     },
     "execution_count": 60,
     "metadata": {},
     "output_type": "execute_result"
    }
   ],
   "source": [
    "sub_universes = universe_analysis.generate_sub_universes()\n",
    "len(sub_universes)"
   ]
  },
  {
   "cell_type": "code",
   "execution_count": 61,
   "id": "92adf7ba",
   "metadata": {
    "execution": {
     "iopub.execute_input": "2025-08-06T17:57:07.592967Z",
     "iopub.status.busy": "2025-08-06T17:57:07.592419Z",
     "iopub.status.idle": "2025-08-06T17:57:07.611634Z",
     "shell.execute_reply": "2025-08-06T17:57:07.610489Z"
    },
    "papermill": {
     "duration": 0.0362,
     "end_time": "2025-08-06T17:57:07.613514",
     "exception": false,
     "start_time": "2025-08-06T17:57:07.577314",
     "status": "completed"
    },
    "tags": []
   },
   "outputs": [],
   "source": [
    "def filter_sub_universe_data(sub_universe, org_test):\n",
    "    # Keep all rows — no filtering\n",
    "    keep_rows_mask = np.ones(org_test.shape[0], dtype=bool)\n",
    "\n",
    "    print(f\"[INFO] Keeping all rows: {keep_rows_mask.sum()} rows retained.\")\n",
    "    return keep_rows_mask"
   ]
  },
  {
   "cell_type": "code",
   "execution_count": 62,
   "id": "4a759155",
   "metadata": {
    "execution": {
     "iopub.execute_input": "2025-08-06T17:57:07.665971Z",
     "iopub.status.busy": "2025-08-06T17:57:07.664841Z",
     "iopub.status.idle": "2025-08-06T17:57:18.394231Z",
     "shell.execute_reply": "2025-08-06T17:57:18.393052Z"
    },
    "papermill": {
     "duration": 10.756502,
     "end_time": "2025-08-06T17:57:18.395894",
     "exception": false,
     "start_time": "2025-08-06T17:57:07.639392",
     "status": "completed"
    },
    "tags": []
   },
   "outputs": [
    {
     "name": "stdout",
     "output_type": "stream",
     "text": [
      "Stopping execution_time clock.\n",
      "[INFO] Keeping all rows: 89710 rows retained.\n"
     ]
    },
    {
     "name": "stdout",
     "output_type": "stream",
     "text": [
      "[INFO] Keeping all rows: 89710 rows retained.\n"
     ]
    },
    {
     "name": "stdout",
     "output_type": "stream",
     "text": [
      "[INFO] Keeping all rows: 89710 rows retained.\n"
     ]
    },
    {
     "name": "stdout",
     "output_type": "stream",
     "text": [
      "[INFO] Keeping all rows: 89710 rows retained.\n"
     ]
    },
    {
     "data": {
      "text/html": [
       "<div>\n",
       "<style scoped>\n",
       "    .dataframe tbody tr th:only-of-type {\n",
       "        vertical-align: middle;\n",
       "    }\n",
       "\n",
       "    .dataframe tbody tr th {\n",
       "        vertical-align: top;\n",
       "    }\n",
       "\n",
       "    .dataframe thead th {\n",
       "        text-align: right;\n",
       "    }\n",
       "</style>\n",
       "<table border=\"1\" class=\"dataframe\">\n",
       "  <thead>\n",
       "    <tr style=\"text-align: right;\">\n",
       "      <th></th>\n",
       "      <th>run_no</th>\n",
       "      <th>universe_id</th>\n",
       "      <th>universe_settings</th>\n",
       "      <th>execution_time</th>\n",
       "      <th>test_size_n</th>\n",
       "      <th>test_size_frac</th>\n",
       "      <th>fair_main_equalized_odds_difference</th>\n",
       "      <th>fair_main_equalized_odds_ratio</th>\n",
       "      <th>fair_main_demographic_parity_difference</th>\n",
       "      <th>fair_main_demographic_parity_ratio</th>\n",
       "      <th>...</th>\n",
       "      <th>perf_grp_precision_0</th>\n",
       "      <th>perf_grp_precision_1</th>\n",
       "      <th>perf_grp_false positive rate_0</th>\n",
       "      <th>perf_grp_false positive rate_1</th>\n",
       "      <th>perf_grp_false negative rate_0</th>\n",
       "      <th>perf_grp_false negative rate_1</th>\n",
       "      <th>perf_grp_selection rate_0</th>\n",
       "      <th>perf_grp_selection rate_1</th>\n",
       "      <th>perf_grp_count_0</th>\n",
       "      <th>perf_grp_count_1</th>\n",
       "    </tr>\n",
       "  </thead>\n",
       "  <tbody>\n",
       "    <tr>\n",
       "      <th>0</th>\n",
       "      <td>1</td>\n",
       "      <td>453355fdf4c02e9fb83b7954bffad056</td>\n",
       "      <td>{\"cutoff\": \"quantile_0.1\", \"eval_fairness_grou...</td>\n",
       "      <td>26.269068</td>\n",
       "      <td>89710</td>\n",
       "      <td>1.0</td>\n",
       "      <td>0.089251</td>\n",
       "      <td>0.906912</td>\n",
       "      <td>0.080381</td>\n",
       "      <td>0.916442</td>\n",
       "      <td>...</td>\n",
       "      <td>NaN</td>\n",
       "      <td>NaN</td>\n",
       "      <td>NaN</td>\n",
       "      <td>NaN</td>\n",
       "      <td>NaN</td>\n",
       "      <td>NaN</td>\n",
       "      <td>NaN</td>\n",
       "      <td>NaN</td>\n",
       "      <td>NaN</td>\n",
       "      <td>NaN</td>\n",
       "    </tr>\n",
       "    <tr>\n",
       "      <th>0</th>\n",
       "      <td>1</td>\n",
       "      <td>453355fdf4c02e9fb83b7954bffad056</td>\n",
       "      <td>{\"cutoff\": \"quantile_0.1\", \"eval_fairness_grou...</td>\n",
       "      <td>26.269068</td>\n",
       "      <td>89710</td>\n",
       "      <td>1.0</td>\n",
       "      <td>0.089251</td>\n",
       "      <td>0.906912</td>\n",
       "      <td>0.080381</td>\n",
       "      <td>0.916442</td>\n",
       "      <td>...</td>\n",
       "      <td>0.118225</td>\n",
       "      <td>0.144014</td>\n",
       "      <td>0.958783</td>\n",
       "      <td>0.869532</td>\n",
       "      <td>0.013514</td>\n",
       "      <td>0.039168</td>\n",
       "      <td>0.961977</td>\n",
       "      <td>0.881596</td>\n",
       "      <td>20540.0</td>\n",
       "      <td>69170.0</td>\n",
       "    </tr>\n",
       "    <tr>\n",
       "      <th>0</th>\n",
       "      <td>1</td>\n",
       "      <td>453355fdf4c02e9fb83b7954bffad056</td>\n",
       "      <td>{\"cutoff\": \"quantile_0.25\", \"eval_fairness_gro...</td>\n",
       "      <td>26.269068</td>\n",
       "      <td>89710</td>\n",
       "      <td>1.0</td>\n",
       "      <td>0.171359</td>\n",
       "      <td>0.800772</td>\n",
       "      <td>0.154959</td>\n",
       "      <td>0.821778</td>\n",
       "      <td>...</td>\n",
       "      <td>NaN</td>\n",
       "      <td>NaN</td>\n",
       "      <td>NaN</td>\n",
       "      <td>NaN</td>\n",
       "      <td>NaN</td>\n",
       "      <td>NaN</td>\n",
       "      <td>NaN</td>\n",
       "      <td>NaN</td>\n",
       "      <td>NaN</td>\n",
       "      <td>NaN</td>\n",
       "    </tr>\n",
       "    <tr>\n",
       "      <th>0</th>\n",
       "      <td>1</td>\n",
       "      <td>453355fdf4c02e9fb83b7954bffad056</td>\n",
       "      <td>{\"cutoff\": \"quantile_0.25\", \"eval_fairness_gro...</td>\n",
       "      <td>26.269068</td>\n",
       "      <td>89710</td>\n",
       "      <td>1.0</td>\n",
       "      <td>0.171359</td>\n",
       "      <td>0.800772</td>\n",
       "      <td>0.154959</td>\n",
       "      <td>0.821778</td>\n",
       "      <td>...</td>\n",
       "      <td>0.124811</td>\n",
       "      <td>0.163426</td>\n",
       "      <td>0.860114</td>\n",
       "      <td>0.688756</td>\n",
       "      <td>0.058699</td>\n",
       "      <td>0.116302</td>\n",
       "      <td>0.869474</td>\n",
       "      <td>0.714515</td>\n",
       "      <td>20540.0</td>\n",
       "      <td>69170.0</td>\n",
       "    </tr>\n",
       "  </tbody>\n",
       "</table>\n",
       "<p>4 rows × 50 columns</p>\n",
       "</div>"
      ],
      "text/plain": [
       "  run_no                       universe_id  \\\n",
       "0      1  453355fdf4c02e9fb83b7954bffad056   \n",
       "0      1  453355fdf4c02e9fb83b7954bffad056   \n",
       "0      1  453355fdf4c02e9fb83b7954bffad056   \n",
       "0      1  453355fdf4c02e9fb83b7954bffad056   \n",
       "\n",
       "                                   universe_settings  execution_time  \\\n",
       "0  {\"cutoff\": \"quantile_0.1\", \"eval_fairness_grou...       26.269068   \n",
       "0  {\"cutoff\": \"quantile_0.1\", \"eval_fairness_grou...       26.269068   \n",
       "0  {\"cutoff\": \"quantile_0.25\", \"eval_fairness_gro...       26.269068   \n",
       "0  {\"cutoff\": \"quantile_0.25\", \"eval_fairness_gro...       26.269068   \n",
       "\n",
       "   test_size_n  test_size_frac  fair_main_equalized_odds_difference  \\\n",
       "0        89710             1.0                             0.089251   \n",
       "0        89710             1.0                             0.089251   \n",
       "0        89710             1.0                             0.171359   \n",
       "0        89710             1.0                             0.171359   \n",
       "\n",
       "   fair_main_equalized_odds_ratio  fair_main_demographic_parity_difference  \\\n",
       "0                        0.906912                                 0.080381   \n",
       "0                        0.906912                                 0.080381   \n",
       "0                        0.800772                                 0.154959   \n",
       "0                        0.800772                                 0.154959   \n",
       "\n",
       "   fair_main_demographic_parity_ratio  ...  perf_grp_precision_0  \\\n",
       "0                            0.916442  ...                   NaN   \n",
       "0                            0.916442  ...              0.118225   \n",
       "0                            0.821778  ...                   NaN   \n",
       "0                            0.821778  ...              0.124811   \n",
       "\n",
       "   perf_grp_precision_1  perf_grp_false positive rate_0  \\\n",
       "0                   NaN                             NaN   \n",
       "0              0.144014                        0.958783   \n",
       "0                   NaN                             NaN   \n",
       "0              0.163426                        0.860114   \n",
       "\n",
       "   perf_grp_false positive rate_1  perf_grp_false negative rate_0  \\\n",
       "0                             NaN                             NaN   \n",
       "0                        0.869532                        0.013514   \n",
       "0                             NaN                             NaN   \n",
       "0                        0.688756                        0.058699   \n",
       "\n",
       "   perf_grp_false negative rate_1  perf_grp_selection rate_0  \\\n",
       "0                             NaN                        NaN   \n",
       "0                        0.039168                   0.961977   \n",
       "0                             NaN                        NaN   \n",
       "0                        0.116302                   0.869474   \n",
       "\n",
       "   perf_grp_selection rate_1  perf_grp_count_0  perf_grp_count_1  \n",
       "0                        NaN               NaN               NaN  \n",
       "0                   0.881596           20540.0           69170.0  \n",
       "0                        NaN               NaN               NaN  \n",
       "0                   0.714515           20540.0           69170.0  \n",
       "\n",
       "[4 rows x 50 columns]"
      ]
     },
     "execution_count": 62,
     "metadata": {},
     "output_type": "execute_result"
    }
   ],
   "source": [
    "final_output = universe_analysis.generate_final_output(\n",
    "    y_pred_prob=probs_test,\n",
    "    y_test=y_true,\n",
    "    org_test=org_test,\n",
    "    filter_data=filter_sub_universe_data,\n",
    "    cp_metrics_df=cp_metrics_df,\n",
    "    save=True,\n",
    ")\n",
    "final_output"
   ]
  },
  {
   "cell_type": "code",
   "execution_count": null,
   "id": "571f9a0f-660a-4841-b661-b06fbc637944",
   "metadata": {
    "papermill": {
     "duration": 0.027311,
     "end_time": "2025-08-06T17:57:18.452247",
     "exception": false,
     "start_time": "2025-08-06T17:57:18.424936",
     "status": "completed"
    },
    "tags": []
   },
   "outputs": [],
   "source": []
  },
  {
   "cell_type": "code",
   "execution_count": null,
   "id": "529482e3-0150-4854-a92d-ab864efc606e",
   "metadata": {
    "papermill": {
     "duration": 0.027292,
     "end_time": "2025-08-06T17:57:18.505534",
     "exception": false,
     "start_time": "2025-08-06T17:57:18.478242",
     "status": "completed"
    },
    "tags": []
   },
   "outputs": [],
   "source": []
  }
 ],
 "metadata": {
  "celltoolbar": "Tags",
  "kernelspec": {
   "display_name": "Python (CMA Fairness)",
   "language": "python",
   "name": "cma_fair_env"
  },
  "language_info": {
   "codemirror_mode": {
    "name": "ipython",
    "version": 3
   },
   "file_extension": ".py",
   "mimetype": "text/x-python",
   "name": "python",
   "nbconvert_exporter": "python",
   "pygments_lexer": "ipython3",
   "version": "3.10.12"
  },
  "papermill": {
   "default_parameters": {},
   "duration": 46.902463,
   "end_time": "2025-08-06T17:57:19.453933",
   "environment_variables": {},
   "exception": null,
   "input_path": "universe_analysis.ipynb",
   "output_path": "output/runs/1/notebooks/m_1-453355fdf4c02e9fb83b7954bffad056.ipynb",
   "parameters": {
    "output_dir": "output",
    "run_no": "1",
    "seed": "2023",
    "universe": "{\"cutoff\": [\"quantile_0.1\", \"quantile_0.25\"], \"eval_fairness_grouping\": [\"majority-minority\", \"nationality-all\"], \"exclude_features\": \"none\", \"exclude_subgroups\": \"keep-all\", \"model\": \"penalized_logreg\", \"scale\": \"scale\", \"training_size\": \"1k\", \"training_year\": \"2012_14\"}",
    "universe_id": "453355fdf4c02e9fb83b7954bffad056"
   },
   "start_time": "2025-08-06T17:56:32.551470",
   "version": "2.6.0"
  }
 },
 "nbformat": 4,
 "nbformat_minor": 5
}