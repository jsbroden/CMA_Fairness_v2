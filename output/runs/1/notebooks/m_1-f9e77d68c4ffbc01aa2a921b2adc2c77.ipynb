{
 "cells": [
  {
   "cell_type": "markdown",
   "id": "b2057076-3a91-4cfa-9bfd-eab1e61b3068",
   "metadata": {
    "papermill": {
     "duration": 0.018653,
     "end_time": "2025-08-06T18:03:32.408193",
     "exception": false,
     "start_time": "2025-08-06T18:03:32.389540",
     "status": "completed"
    },
    "tags": []
   },
   "source": [
    "# Setup"
   ]
  },
  {
   "cell_type": "code",
   "execution_count": 1,
   "id": "f159f837-637b-42ba-96b5-ec9a68c44524",
   "metadata": {
    "execution": {
     "iopub.execute_input": "2025-08-06T18:03:32.444932Z",
     "iopub.status.busy": "2025-08-06T18:03:32.444469Z",
     "iopub.status.idle": "2025-08-06T18:03:32.458094Z",
     "shell.execute_reply": "2025-08-06T18:03:32.457025Z"
    },
    "papermill": {
     "duration": 0.034309,
     "end_time": "2025-08-06T18:03:32.459880",
     "exception": false,
     "start_time": "2025-08-06T18:03:32.425571",
     "status": "completed"
    },
    "tags": []
   },
   "outputs": [
    {
     "name": "stdout",
     "output_type": "stream",
     "text": [
      "/dss/dsshome1/0C/ra93lal2/cma/CMA_Fairness_v2\n"
     ]
    },
    {
     "name": "stderr",
     "output_type": "stream",
     "text": [
      "/dss/dsshome1/0C/ra93lal2/.local/share/virtualenvs/CMA_Fairness_v2-3j10GkSs/lib/python3.10/site-packages/IPython/core/magics/osm.py:393: UserWarning: This is now an optional IPython functionality, using bookmarks requires you to install the `pickleshare` library.\n",
      "  bkms = self.shell.db.get('bookmarks', {})\n",
      "/dss/dsshome1/0C/ra93lal2/.local/share/virtualenvs/CMA_Fairness_v2-3j10GkSs/lib/python3.10/site-packages/IPython/core/magics/osm.py:417: UserWarning: This is now an optional IPython functionality, setting dhist requires you to install the `pickleshare` library.\n",
      "  self.shell.db['dhist'] = compress_dhist(dhist)[-100:]\n"
     ]
    }
   ],
   "source": [
    "%cd ~/cma/CMA_Fairness_v2"
   ]
  },
  {
   "cell_type": "markdown",
   "id": "de2603b9",
   "metadata": {
    "papermill": {
     "duration": 0.015134,
     "end_time": "2025-08-06T18:03:32.494028",
     "exception": false,
     "start_time": "2025-08-06T18:03:32.478894",
     "status": "completed"
    },
    "tags": []
   },
   "source": [
    "The following cell holds the definition of our parameters, these values can be overriden by rendering the with e.g. the following command:\n",
    "\n",
    "papermill -p alpha 0.2 -p ratio 0.3 universe_analysis.ipynb output/test_run.ipynb"
   ]
  },
  {
   "cell_type": "code",
   "execution_count": 2,
   "id": "a80968a0-40bb-4fa9-85ef-2d5eefb01975",
   "metadata": {
    "execution": {
     "iopub.execute_input": "2025-08-06T18:03:32.525000Z",
     "iopub.status.busy": "2025-08-06T18:03:32.524610Z",
     "iopub.status.idle": "2025-08-06T18:03:32.529876Z",
     "shell.execute_reply": "2025-08-06T18:03:32.528888Z"
    },
    "papermill": {
     "duration": 0.022789,
     "end_time": "2025-08-06T18:03:32.531476",
     "exception": false,
     "start_time": "2025-08-06T18:03:32.508687",
     "status": "completed"
    },
    "tags": []
   },
   "outputs": [
    {
     "name": "stdout",
     "output_type": "stream",
     "text": [
      "Current working directory: /dss/dsshome1/0C/ra93lal2/cma/CMA_Fairness_v2\n"
     ]
    }
   ],
   "source": [
    "import os\n",
    "print(\"Current working directory:\", os.getcwd())"
   ]
  },
  {
   "cell_type": "code",
   "execution_count": 3,
   "id": "2dce4c03",
   "metadata": {
    "execution": {
     "iopub.execute_input": "2025-08-06T18:03:32.567209Z",
     "iopub.status.busy": "2025-08-06T18:03:32.566777Z",
     "iopub.status.idle": "2025-08-06T18:03:32.572935Z",
     "shell.execute_reply": "2025-08-06T18:03:32.571969Z"
    },
    "papermill": {
     "duration": 0.025681,
     "end_time": "2025-08-06T18:03:32.574622",
     "exception": false,
     "start_time": "2025-08-06T18:03:32.548941",
     "status": "completed"
    },
    "tags": [
     "parameters"
    ]
   },
   "outputs": [],
   "source": [
    "run_no = 0\n",
    "universe_id = \"test\"\n",
    "universe = {\n",
    "    \"training_size\": \"5k\", # \"25k\", \"5k\", \"1k\"\n",
    "    \"training_year\": \"2012_14\", # \"2014\", \"2012_14\", \"2010_14\"\n",
    "    \"scale\": \"scale\", # \"scale\", \"do-not-scale\",\n",
    "    \"model\": \"elasticnet\", # \"logreg\", \"penalized_logreg\", \"rf\", \"gbm\", \"elasticnet\"\n",
    "    \"cutoff\": [\"quantile_0.15\", \"quantile_0.30\"],\n",
    "    \"exclude_features\": \"age\", # \"none\", \"nationality\", \"sex\", \"nationality-sex\", \"age\"\n",
    "    \"exclude_subgroups\": \"drop-non-german\", # \"keep-all\", \"drop-non-german\"\n",
    "    \"eval_fairness_grouping\": [\"majority-minority\", \"nationality-all\"]\n",
    "}\n",
    "\n",
    "output_dir=\"./output\"\n",
    "seed=0"
   ]
  },
  {
   "cell_type": "code",
   "execution_count": 4,
   "id": "b331d89d",
   "metadata": {
    "execution": {
     "iopub.execute_input": "2025-08-06T18:03:32.610248Z",
     "iopub.status.busy": "2025-08-06T18:03:32.609673Z",
     "iopub.status.idle": "2025-08-06T18:03:32.614695Z",
     "shell.execute_reply": "2025-08-06T18:03:32.613743Z"
    },
    "papermill": {
     "duration": 0.0243,
     "end_time": "2025-08-06T18:03:32.616405",
     "exception": false,
     "start_time": "2025-08-06T18:03:32.592105",
     "status": "completed"
    },
    "tags": [
     "injected-parameters"
    ]
   },
   "outputs": [],
   "source": [
    "# Parameters\n",
    "universe_id = \"f9e77d68c4ffbc01aa2a921b2adc2c77\"\n",
    "run_no = \"1\"\n",
    "universe = \"{\\\"cutoff\\\": [\\\"quantile_0.1\\\", \\\"quantile_0.25\\\"], \\\"eval_fairness_grouping\\\": [\\\"majority-minority\\\", \\\"nationality-all\\\"], \\\"exclude_features\\\": \\\"none\\\", \\\"exclude_subgroups\\\": \\\"keep-all\\\", \\\"model\\\": \\\"gbm\\\", \\\"scale\\\": \\\"do-not-scale\\\", \\\"training_size\\\": \\\"1k\\\", \\\"training_year\\\": \\\"2012_14\\\"}\"\n",
    "output_dir = \"output\"\n",
    "seed = \"2023\"\n"
   ]
  },
  {
   "cell_type": "code",
   "execution_count": 5,
   "id": "1650acaf",
   "metadata": {
    "execution": {
     "iopub.execute_input": "2025-08-06T18:03:32.641659Z",
     "iopub.status.busy": "2025-08-06T18:03:32.641286Z",
     "iopub.status.idle": "2025-08-06T18:03:32.644830Z",
     "shell.execute_reply": "2025-08-06T18:03:32.644155Z"
    },
    "papermill": {
     "duration": 0.013853,
     "end_time": "2025-08-06T18:03:32.646190",
     "exception": false,
     "start_time": "2025-08-06T18:03:32.632337",
     "status": "completed"
    },
    "tags": []
   },
   "outputs": [],
   "source": [
    "import json\n",
    "if isinstance(universe, str):\n",
    "    universe = json.loads(universe)"
   ]
  },
  {
   "cell_type": "code",
   "execution_count": 6,
   "id": "16620c48",
   "metadata": {
    "execution": {
     "iopub.execute_input": "2025-08-06T18:03:32.682253Z",
     "iopub.status.busy": "2025-08-06T18:03:32.681595Z",
     "iopub.status.idle": "2025-08-06T18:03:32.747938Z",
     "shell.execute_reply": "2025-08-06T18:03:32.746856Z"
    },
    "papermill": {
     "duration": 0.086905,
     "end_time": "2025-08-06T18:03:32.749961",
     "exception": false,
     "start_time": "2025-08-06T18:03:32.663056",
     "status": "completed"
    },
    "tags": []
   },
   "outputs": [],
   "source": [
    "# Auto-reload the custom package\n",
    "%load_ext autoreload\n",
    "%autoreload 1\n",
    "%aimport fairness_multiverse"
   ]
  },
  {
   "cell_type": "code",
   "execution_count": 7,
   "id": "01c5c9f3",
   "metadata": {
    "execution": {
     "iopub.execute_input": "2025-08-06T18:03:32.787387Z",
     "iopub.status.busy": "2025-08-06T18:03:32.786926Z",
     "iopub.status.idle": "2025-08-06T18:03:34.743893Z",
     "shell.execute_reply": "2025-08-06T18:03:34.742851Z"
    },
    "papermill": {
     "duration": 1.977683,
     "end_time": "2025-08-06T18:03:34.745813",
     "exception": false,
     "start_time": "2025-08-06T18:03:32.768130",
     "status": "completed"
    },
    "tags": []
   },
   "outputs": [],
   "source": [
    "from fairness_multiverse.universe import UniverseAnalysis\n",
    "\n",
    "universe_analysis = UniverseAnalysis(\n",
    "    run_no = run_no,\n",
    "    universe_id = universe_id,\n",
    "    universe = universe,\n",
    "    output_dir=output_dir,\n",
    ")"
   ]
  },
  {
   "cell_type": "code",
   "execution_count": 8,
   "id": "106241f5",
   "metadata": {
    "execution": {
     "iopub.execute_input": "2025-08-06T18:03:34.780124Z",
     "iopub.status.busy": "2025-08-06T18:03:34.779646Z",
     "iopub.status.idle": "2025-08-06T18:03:34.786324Z",
     "shell.execute_reply": "2025-08-06T18:03:34.785398Z"
    },
    "papermill": {
     "duration": 0.025202,
     "end_time": "2025-08-06T18:03:34.787935",
     "exception": false,
     "start_time": "2025-08-06T18:03:34.762733",
     "status": "completed"
    },
    "tags": []
   },
   "outputs": [
    {
     "name": "stdout",
     "output_type": "stream",
     "text": [
      "Using Seed: 2023\n"
     ]
    }
   ],
   "source": [
    "import numpy as np\n",
    "parsed_seed = int(seed)\n",
    "np.random.seed(parsed_seed)\n",
    "print(f\"Using Seed: {parsed_seed}\")"
   ]
  },
  {
   "cell_type": "markdown",
   "id": "e0ebdc57",
   "metadata": {
    "papermill": {
     "duration": 0.016482,
     "end_time": "2025-08-06T18:03:34.821531",
     "exception": false,
     "start_time": "2025-08-06T18:03:34.805049",
     "status": "completed"
    },
    "tags": []
   },
   "source": [
    "# Loading Data"
   ]
  },
  {
   "cell_type": "code",
   "execution_count": 9,
   "id": "f0496b8a",
   "metadata": {
    "execution": {
     "iopub.execute_input": "2025-08-06T18:03:34.855440Z",
     "iopub.status.busy": "2025-08-06T18:03:34.854732Z",
     "iopub.status.idle": "2025-08-06T18:03:48.051964Z",
     "shell.execute_reply": "2025-08-06T18:03:48.051120Z"
    },
    "papermill": {
     "duration": 13.216044,
     "end_time": "2025-08-06T18:03:48.053454",
     "exception": false,
     "start_time": "2025-08-06T18:03:34.837410",
     "status": "completed"
    },
    "tags": []
   },
   "outputs": [
    {
     "name": "stdout",
     "output_type": "stream",
     "text": [
      "Loading SIAB data from cache: data/siab_cached.csv.gz\n"
     ]
    },
    {
     "name": "stdout",
     "output_type": "stream",
     "text": [
      "(643690, 164)\n"
     ]
    }
   ],
   "source": [
    "from pathlib import Path\n",
    "import pandas as pd\n",
    "\n",
    "# File paths\n",
    "raw_file = Path(\"data/raw/siab.csv\")\n",
    "cache_file = Path(\"data/siab_cached.csv.gz\")\n",
    "\n",
    "# Ensure cache directory exists\n",
    "cache_file.parent.mkdir(parents=True, exist_ok=True)\n",
    "\n",
    "# Load with simple caching\n",
    "if cache_file.exists():\n",
    "    print(f\"Loading SIAB data from cache: {cache_file}\")\n",
    "    siab = pd.read_csv(cache_file, compression='gzip')\n",
    "else:\n",
    "    print(f\"Cache not found. Reading raw SIAB data: {raw_file}\")\n",
    "    siab = pd.read_csv(raw_file)\n",
    "    siab.to_csv(cache_file, index=False, compression='gzip')\n",
    "    print(f\"Cached SIAB data to: {cache_file}\")\n",
    "\n",
    "print(siab.shape)"
   ]
  },
  {
   "cell_type": "code",
   "execution_count": 10,
   "id": "db0ca512-5f53-4dba-abdb-a2888bca41ba",
   "metadata": {
    "execution": {
     "iopub.execute_input": "2025-08-06T18:03:48.077304Z",
     "iopub.status.busy": "2025-08-06T18:03:48.076913Z",
     "iopub.status.idle": "2025-08-06T18:03:48.225737Z",
     "shell.execute_reply": "2025-08-06T18:03:48.224995Z"
    },
    "papermill": {
     "duration": 0.161238,
     "end_time": "2025-08-06T18:03:48.227106",
     "exception": false,
     "start_time": "2025-08-06T18:03:48.065868",
     "status": "completed"
    },
    "tags": []
   },
   "outputs": [
    {
     "data": {
      "text/html": [
       "<div>\n",
       "<style scoped>\n",
       "    .dataframe tbody tr th:only-of-type {\n",
       "        vertical-align: middle;\n",
       "    }\n",
       "\n",
       "    .dataframe tbody tr th {\n",
       "        vertical-align: top;\n",
       "    }\n",
       "\n",
       "    .dataframe thead th {\n",
       "        text-align: right;\n",
       "    }\n",
       "</style>\n",
       "<table border=\"1\" class=\"dataframe\">\n",
       "  <thead>\n",
       "    <tr style=\"text-align: right;\">\n",
       "      <th></th>\n",
       "      <th>persnr</th>\n",
       "      <th>year</th>\n",
       "      <th>nrEntry</th>\n",
       "      <th>ltue</th>\n",
       "      <th>employed_before</th>\n",
       "      <th>receipt_leh_before</th>\n",
       "      <th>receipt_lhg_before</th>\n",
       "      <th>se_before</th>\n",
       "      <th>ASU_notue_seeking_before</th>\n",
       "      <th>ASU_other_before</th>\n",
       "      <th>...</th>\n",
       "      <th>minijob_tot_dur_byage</th>\n",
       "      <th>ft_tot_dur_byage</th>\n",
       "      <th>befrist_tot_dur_byage</th>\n",
       "      <th>leih_tot_dur_byage</th>\n",
       "      <th>LHG_tot_dur_byage</th>\n",
       "      <th>LEH_tot_dur_byage</th>\n",
       "      <th>almp_tot_dur_byage</th>\n",
       "      <th>almp_aw_tot_dur_byage</th>\n",
       "      <th>se_tot_dur_byage</th>\n",
       "      <th>seeking1_tot_dur_byage</th>\n",
       "    </tr>\n",
       "  </thead>\n",
       "  <tbody>\n",
       "    <tr>\n",
       "      <th>0</th>\n",
       "      <td>7</td>\n",
       "      <td>2015</td>\n",
       "      <td>1</td>\n",
       "      <td>0</td>\n",
       "      <td>1</td>\n",
       "      <td>0</td>\n",
       "      <td>0</td>\n",
       "      <td>0</td>\n",
       "      <td>1</td>\n",
       "      <td>0</td>\n",
       "      <td>...</td>\n",
       "      <td>0.000000</td>\n",
       "      <td>0.000000</td>\n",
       "      <td>15.043478</td>\n",
       "      <td>0.000000</td>\n",
       "      <td>0.000000</td>\n",
       "      <td>0.000000</td>\n",
       "      <td>0.000000</td>\n",
       "      <td>0.000000</td>\n",
       "      <td>0.000000</td>\n",
       "      <td>0.000000</td>\n",
       "    </tr>\n",
       "    <tr>\n",
       "      <th>1</th>\n",
       "      <td>18</td>\n",
       "      <td>2010</td>\n",
       "      <td>1</td>\n",
       "      <td>1</td>\n",
       "      <td>0</td>\n",
       "      <td>0</td>\n",
       "      <td>0</td>\n",
       "      <td>0</td>\n",
       "      <td>0</td>\n",
       "      <td>0</td>\n",
       "      <td>...</td>\n",
       "      <td>0.000000</td>\n",
       "      <td>0.000000</td>\n",
       "      <td>0.000000</td>\n",
       "      <td>0.000000</td>\n",
       "      <td>0.000000</td>\n",
       "      <td>0.000000</td>\n",
       "      <td>0.000000</td>\n",
       "      <td>0.000000</td>\n",
       "      <td>0.000000</td>\n",
       "      <td>0.000000</td>\n",
       "    </tr>\n",
       "    <tr>\n",
       "      <th>2</th>\n",
       "      <td>18</td>\n",
       "      <td>2011</td>\n",
       "      <td>2</td>\n",
       "      <td>0</td>\n",
       "      <td>1</td>\n",
       "      <td>0</td>\n",
       "      <td>1</td>\n",
       "      <td>0</td>\n",
       "      <td>1</td>\n",
       "      <td>0</td>\n",
       "      <td>...</td>\n",
       "      <td>2.714286</td>\n",
       "      <td>2.714286</td>\n",
       "      <td>0.000000</td>\n",
       "      <td>0.000000</td>\n",
       "      <td>10.775510</td>\n",
       "      <td>0.000000</td>\n",
       "      <td>8.367347</td>\n",
       "      <td>0.000000</td>\n",
       "      <td>0.000000</td>\n",
       "      <td>9.836735</td>\n",
       "    </tr>\n",
       "    <tr>\n",
       "      <th>3</th>\n",
       "      <td>18</td>\n",
       "      <td>2012</td>\n",
       "      <td>3</td>\n",
       "      <td>0</td>\n",
       "      <td>1</td>\n",
       "      <td>0</td>\n",
       "      <td>1</td>\n",
       "      <td>0</td>\n",
       "      <td>1</td>\n",
       "      <td>0</td>\n",
       "      <td>...</td>\n",
       "      <td>4.200000</td>\n",
       "      <td>4.200000</td>\n",
       "      <td>0.000000</td>\n",
       "      <td>0.000000</td>\n",
       "      <td>12.100000</td>\n",
       "      <td>0.000000</td>\n",
       "      <td>9.400000</td>\n",
       "      <td>0.000000</td>\n",
       "      <td>0.000000</td>\n",
       "      <td>9.960000</td>\n",
       "    </tr>\n",
       "    <tr>\n",
       "      <th>4</th>\n",
       "      <td>18</td>\n",
       "      <td>2012</td>\n",
       "      <td>4</td>\n",
       "      <td>0</td>\n",
       "      <td>1</td>\n",
       "      <td>0</td>\n",
       "      <td>1</td>\n",
       "      <td>0</td>\n",
       "      <td>1</td>\n",
       "      <td>0</td>\n",
       "      <td>...</td>\n",
       "      <td>5.460000</td>\n",
       "      <td>5.460000</td>\n",
       "      <td>0.000000</td>\n",
       "      <td>0.000000</td>\n",
       "      <td>13.360000</td>\n",
       "      <td>0.000000</td>\n",
       "      <td>10.320000</td>\n",
       "      <td>0.000000</td>\n",
       "      <td>0.000000</td>\n",
       "      <td>10.280000</td>\n",
       "    </tr>\n",
       "    <tr>\n",
       "      <th>...</th>\n",
       "      <td>...</td>\n",
       "      <td>...</td>\n",
       "      <td>...</td>\n",
       "      <td>...</td>\n",
       "      <td>...</td>\n",
       "      <td>...</td>\n",
       "      <td>...</td>\n",
       "      <td>...</td>\n",
       "      <td>...</td>\n",
       "      <td>...</td>\n",
       "      <td>...</td>\n",
       "      <td>...</td>\n",
       "      <td>...</td>\n",
       "      <td>...</td>\n",
       "      <td>...</td>\n",
       "      <td>...</td>\n",
       "      <td>...</td>\n",
       "      <td>...</td>\n",
       "      <td>...</td>\n",
       "      <td>...</td>\n",
       "      <td>...</td>\n",
       "    </tr>\n",
       "    <tr>\n",
       "      <th>643685</th>\n",
       "      <td>1827860</td>\n",
       "      <td>2013</td>\n",
       "      <td>1</td>\n",
       "      <td>0</td>\n",
       "      <td>0</td>\n",
       "      <td>0</td>\n",
       "      <td>1</td>\n",
       "      <td>0</td>\n",
       "      <td>0</td>\n",
       "      <td>1</td>\n",
       "      <td>...</td>\n",
       "      <td>0.000000</td>\n",
       "      <td>0.000000</td>\n",
       "      <td>0.000000</td>\n",
       "      <td>0.000000</td>\n",
       "      <td>0.612903</td>\n",
       "      <td>0.000000</td>\n",
       "      <td>0.000000</td>\n",
       "      <td>0.000000</td>\n",
       "      <td>0.000000</td>\n",
       "      <td>0.000000</td>\n",
       "    </tr>\n",
       "    <tr>\n",
       "      <th>643686</th>\n",
       "      <td>1827860</td>\n",
       "      <td>2015</td>\n",
       "      <td>2</td>\n",
       "      <td>1</td>\n",
       "      <td>0</td>\n",
       "      <td>0</td>\n",
       "      <td>1</td>\n",
       "      <td>0</td>\n",
       "      <td>1</td>\n",
       "      <td>0</td>\n",
       "      <td>...</td>\n",
       "      <td>0.000000</td>\n",
       "      <td>0.000000</td>\n",
       "      <td>0.212121</td>\n",
       "      <td>0.212121</td>\n",
       "      <td>17.363636</td>\n",
       "      <td>0.000000</td>\n",
       "      <td>8.909091</td>\n",
       "      <td>0.000000</td>\n",
       "      <td>0.000000</td>\n",
       "      <td>7.121212</td>\n",
       "    </tr>\n",
       "    <tr>\n",
       "      <th>643687</th>\n",
       "      <td>1827860</td>\n",
       "      <td>2016</td>\n",
       "      <td>3</td>\n",
       "      <td>1</td>\n",
       "      <td>0</td>\n",
       "      <td>0</td>\n",
       "      <td>1</td>\n",
       "      <td>1</td>\n",
       "      <td>0</td>\n",
       "      <td>1</td>\n",
       "      <td>...</td>\n",
       "      <td>0.000000</td>\n",
       "      <td>0.000000</td>\n",
       "      <td>0.294118</td>\n",
       "      <td>0.205882</td>\n",
       "      <td>34.705882</td>\n",
       "      <td>0.000000</td>\n",
       "      <td>10.352941</td>\n",
       "      <td>1.705882</td>\n",
       "      <td>1.705882</td>\n",
       "      <td>23.911765</td>\n",
       "    </tr>\n",
       "    <tr>\n",
       "      <th>643688</th>\n",
       "      <td>1827869</td>\n",
       "      <td>2013</td>\n",
       "      <td>1</td>\n",
       "      <td>1</td>\n",
       "      <td>1</td>\n",
       "      <td>0</td>\n",
       "      <td>0</td>\n",
       "      <td>0</td>\n",
       "      <td>1</td>\n",
       "      <td>0</td>\n",
       "      <td>...</td>\n",
       "      <td>0.000000</td>\n",
       "      <td>0.000000</td>\n",
       "      <td>0.000000</td>\n",
       "      <td>0.000000</td>\n",
       "      <td>0.000000</td>\n",
       "      <td>0.525424</td>\n",
       "      <td>0.000000</td>\n",
       "      <td>0.000000</td>\n",
       "      <td>0.000000</td>\n",
       "      <td>0.000000</td>\n",
       "    </tr>\n",
       "    <tr>\n",
       "      <th>643689</th>\n",
       "      <td>1827869</td>\n",
       "      <td>2014</td>\n",
       "      <td>2</td>\n",
       "      <td>0</td>\n",
       "      <td>0</td>\n",
       "      <td>1</td>\n",
       "      <td>0</td>\n",
       "      <td>0</td>\n",
       "      <td>1</td>\n",
       "      <td>0</td>\n",
       "      <td>...</td>\n",
       "      <td>0.000000</td>\n",
       "      <td>0.666667</td>\n",
       "      <td>0.666667</td>\n",
       "      <td>0.000000</td>\n",
       "      <td>0.000000</td>\n",
       "      <td>8.950000</td>\n",
       "      <td>1.033333</td>\n",
       "      <td>0.083333</td>\n",
       "      <td>0.083333</td>\n",
       "      <td>8.133333</td>\n",
       "    </tr>\n",
       "  </tbody>\n",
       "</table>\n",
       "<p>643690 rows × 164 columns</p>\n",
       "</div>"
      ],
      "text/plain": [
       "         persnr  year  nrEntry  ltue  employed_before  receipt_leh_before  \\\n",
       "0             7  2015        1     0                1                   0   \n",
       "1            18  2010        1     1                0                   0   \n",
       "2            18  2011        2     0                1                   0   \n",
       "3            18  2012        3     0                1                   0   \n",
       "4            18  2012        4     0                1                   0   \n",
       "...         ...   ...      ...   ...              ...                 ...   \n",
       "643685  1827860  2013        1     0                0                   0   \n",
       "643686  1827860  2015        2     1                0                   0   \n",
       "643687  1827860  2016        3     1                0                   0   \n",
       "643688  1827869  2013        1     1                1                   0   \n",
       "643689  1827869  2014        2     0                0                   1   \n",
       "\n",
       "        receipt_lhg_before  se_before  ASU_notue_seeking_before  \\\n",
       "0                        0          0                         1   \n",
       "1                        0          0                         0   \n",
       "2                        1          0                         1   \n",
       "3                        1          0                         1   \n",
       "4                        1          0                         1   \n",
       "...                    ...        ...                       ...   \n",
       "643685                   1          0                         0   \n",
       "643686                   1          0                         1   \n",
       "643687                   1          1                         0   \n",
       "643688                   0          0                         1   \n",
       "643689                   0          0                         1   \n",
       "\n",
       "        ASU_other_before  ...  minijob_tot_dur_byage  ft_tot_dur_byage  \\\n",
       "0                      0  ...               0.000000          0.000000   \n",
       "1                      0  ...               0.000000          0.000000   \n",
       "2                      0  ...               2.714286          2.714286   \n",
       "3                      0  ...               4.200000          4.200000   \n",
       "4                      0  ...               5.460000          5.460000   \n",
       "...                  ...  ...                    ...               ...   \n",
       "643685                 1  ...               0.000000          0.000000   \n",
       "643686                 0  ...               0.000000          0.000000   \n",
       "643687                 1  ...               0.000000          0.000000   \n",
       "643688                 0  ...               0.000000          0.000000   \n",
       "643689                 0  ...               0.000000          0.666667   \n",
       "\n",
       "        befrist_tot_dur_byage  leih_tot_dur_byage  LHG_tot_dur_byage  \\\n",
       "0                   15.043478            0.000000           0.000000   \n",
       "1                    0.000000            0.000000           0.000000   \n",
       "2                    0.000000            0.000000          10.775510   \n",
       "3                    0.000000            0.000000          12.100000   \n",
       "4                    0.000000            0.000000          13.360000   \n",
       "...                       ...                 ...                ...   \n",
       "643685               0.000000            0.000000           0.612903   \n",
       "643686               0.212121            0.212121          17.363636   \n",
       "643687               0.294118            0.205882          34.705882   \n",
       "643688               0.000000            0.000000           0.000000   \n",
       "643689               0.666667            0.000000           0.000000   \n",
       "\n",
       "        LEH_tot_dur_byage  almp_tot_dur_byage  almp_aw_tot_dur_byage  \\\n",
       "0                0.000000            0.000000               0.000000   \n",
       "1                0.000000            0.000000               0.000000   \n",
       "2                0.000000            8.367347               0.000000   \n",
       "3                0.000000            9.400000               0.000000   \n",
       "4                0.000000           10.320000               0.000000   \n",
       "...                   ...                 ...                    ...   \n",
       "643685           0.000000            0.000000               0.000000   \n",
       "643686           0.000000            8.909091               0.000000   \n",
       "643687           0.000000           10.352941               1.705882   \n",
       "643688           0.525424            0.000000               0.000000   \n",
       "643689           8.950000            1.033333               0.083333   \n",
       "\n",
       "        se_tot_dur_byage  seeking1_tot_dur_byage  \n",
       "0               0.000000                0.000000  \n",
       "1               0.000000                0.000000  \n",
       "2               0.000000                9.836735  \n",
       "3               0.000000                9.960000  \n",
       "4               0.000000               10.280000  \n",
       "...                  ...                     ...  \n",
       "643685          0.000000                0.000000  \n",
       "643686          0.000000                7.121212  \n",
       "643687          1.705882               23.911765  \n",
       "643688          0.000000                0.000000  \n",
       "643689          0.083333                8.133333  \n",
       "\n",
       "[643690 rows x 164 columns]"
      ]
     },
     "execution_count": 10,
     "metadata": {},
     "output_type": "execute_result"
    }
   ],
   "source": [
    "siab"
   ]
  },
  {
   "cell_type": "markdown",
   "id": "997051c5-15bd-4b69-9786-c3001a3ce484",
   "metadata": {
    "papermill": {
     "duration": 0.009877,
     "end_time": "2025-08-06T18:03:48.247540",
     "exception": false,
     "start_time": "2025-08-06T18:03:48.237663",
     "status": "completed"
    },
    "tags": []
   },
   "source": [
    "# Splitting Data and Setting Training Data Size"
   ]
  },
  {
   "cell_type": "code",
   "execution_count": 11,
   "id": "aea9c6ef-6f46-42c8-85eb-5a62025c1508",
   "metadata": {
    "execution": {
     "iopub.execute_input": "2025-08-06T18:03:48.277423Z",
     "iopub.status.busy": "2025-08-06T18:03:48.276467Z",
     "iopub.status.idle": "2025-08-06T18:03:48.971024Z",
     "shell.execute_reply": "2025-08-06T18:03:48.970071Z"
    },
    "papermill": {
     "duration": 0.714024,
     "end_time": "2025-08-06T18:03:48.972953",
     "exception": false,
     "start_time": "2025-08-06T18:03:48.258929",
     "status": "completed"
    },
    "tags": []
   },
   "outputs": [],
   "source": [
    "from fairness_multiverse.universe import sample_by_year_size\n",
    "\n",
    "siab_train = sample_by_year_size(siab,\n",
    "                               training_year=universe[\"training_year\"],\n",
    "                               training_size=universe[\"training_size\"])"
   ]
  },
  {
   "cell_type": "code",
   "execution_count": 12,
   "id": "8d3afb32-789d-442c-8d5d-9f5aa8dd2eed",
   "metadata": {
    "execution": {
     "iopub.execute_input": "2025-08-06T18:03:49.016385Z",
     "iopub.status.busy": "2025-08-06T18:03:49.015476Z",
     "iopub.status.idle": "2025-08-06T18:03:49.022790Z",
     "shell.execute_reply": "2025-08-06T18:03:49.021911Z"
    },
    "papermill": {
     "duration": 0.030619,
     "end_time": "2025-08-06T18:03:49.024376",
     "exception": false,
     "start_time": "2025-08-06T18:03:48.993757",
     "status": "completed"
    },
    "tags": []
   },
   "outputs": [
    {
     "data": {
      "text/plain": [
       "(1000, 164)"
      ]
     },
     "execution_count": 12,
     "metadata": {},
     "output_type": "execute_result"
    }
   ],
   "source": [
    "siab_train.shape"
   ]
  },
  {
   "cell_type": "code",
   "execution_count": 13,
   "id": "d582db68-1a4c-47fb-84fc-08518dc1975a",
   "metadata": {
    "execution": {
     "iopub.execute_input": "2025-08-06T18:03:49.065990Z",
     "iopub.status.busy": "2025-08-06T18:03:49.065508Z",
     "iopub.status.idle": "2025-08-06T18:03:49.076853Z",
     "shell.execute_reply": "2025-08-06T18:03:49.075751Z"
    },
    "papermill": {
     "duration": 0.034125,
     "end_time": "2025-08-06T18:03:49.078528",
     "exception": false,
     "start_time": "2025-08-06T18:03:49.044403",
     "status": "completed"
    },
    "tags": []
   },
   "outputs": [
    {
     "data": {
      "text/plain": [
       "year\n",
       "2012    334\n",
       "2013    333\n",
       "2014    333\n",
       "dtype: int64"
      ]
     },
     "metadata": {},
     "output_type": "display_data"
    }
   ],
   "source": [
    "display(siab_train.groupby(\"year\").size())"
   ]
  },
  {
   "cell_type": "code",
   "execution_count": 14,
   "id": "a561edb4-d032-42cb-8256-22eac1111c64",
   "metadata": {
    "execution": {
     "iopub.execute_input": "2025-08-06T18:03:49.119653Z",
     "iopub.status.busy": "2025-08-06T18:03:49.119149Z",
     "iopub.status.idle": "2025-08-06T18:03:49.382991Z",
     "shell.execute_reply": "2025-08-06T18:03:49.381827Z"
    },
    "papermill": {
     "duration": 0.286431,
     "end_time": "2025-08-06T18:03:49.384889",
     "exception": false,
     "start_time": "2025-08-06T18:03:49.098458",
     "status": "completed"
    },
    "tags": []
   },
   "outputs": [],
   "source": [
    "#siab_train = siab_s[siab_s.year < 2015]\n",
    "siab_calib = siab[siab.year == 2015]\n",
    "siab_test = siab[siab.year == 2016]"
   ]
  },
  {
   "cell_type": "code",
   "execution_count": 15,
   "id": "472de16f-c3db-4916-846b-1f0de9cf1746",
   "metadata": {
    "execution": {
     "iopub.execute_input": "2025-08-06T18:03:49.409318Z",
     "iopub.status.busy": "2025-08-06T18:03:49.408450Z",
     "iopub.status.idle": "2025-08-06T18:03:49.415892Z",
     "shell.execute_reply": "2025-08-06T18:03:49.414633Z"
    },
    "papermill": {
     "duration": 0.030641,
     "end_time": "2025-08-06T18:03:49.427736",
     "exception": false,
     "start_time": "2025-08-06T18:03:49.397095",
     "status": "completed"
    },
    "tags": []
   },
   "outputs": [],
   "source": [
    "X_train = siab_train.iloc[:,4:164]\n",
    "y_train = siab_train.iloc[:, [3]]"
   ]
  },
  {
   "cell_type": "code",
   "execution_count": 16,
   "id": "828c96af-f43a-4ed6-ba47-8ac73a47d56c",
   "metadata": {
    "execution": {
     "iopub.execute_input": "2025-08-06T18:03:49.454700Z",
     "iopub.status.busy": "2025-08-06T18:03:49.454352Z",
     "iopub.status.idle": "2025-08-06T18:03:49.508901Z",
     "shell.execute_reply": "2025-08-06T18:03:49.507584Z"
    },
    "papermill": {
     "duration": 0.068455,
     "end_time": "2025-08-06T18:03:49.511268",
     "exception": false,
     "start_time": "2025-08-06T18:03:49.442813",
     "status": "completed"
    },
    "tags": []
   },
   "outputs": [],
   "source": [
    "X_calib = siab_calib.iloc[:,4:164]\n",
    "y_calib = siab_calib.iloc[:, [3]]"
   ]
  },
  {
   "cell_type": "code",
   "execution_count": 17,
   "id": "c34be9c3-6bd6-476e-acd3-845840e303be",
   "metadata": {
    "execution": {
     "iopub.execute_input": "2025-08-06T18:03:49.567688Z",
     "iopub.status.busy": "2025-08-06T18:03:49.567315Z",
     "iopub.status.idle": "2025-08-06T18:03:49.630730Z",
     "shell.execute_reply": "2025-08-06T18:03:49.629566Z"
    },
    "papermill": {
     "duration": 0.091529,
     "end_time": "2025-08-06T18:03:49.631933",
     "exception": false,
     "start_time": "2025-08-06T18:03:49.540404",
     "status": "completed"
    },
    "tags": []
   },
   "outputs": [],
   "source": [
    "X_test = siab_test.iloc[:,4:164]\n",
    "y_true = siab_test.iloc[:, [3]]"
   ]
  },
  {
   "cell_type": "code",
   "execution_count": 18,
   "id": "e6c733c5",
   "metadata": {
    "execution": {
     "iopub.execute_input": "2025-08-06T18:03:49.654548Z",
     "iopub.status.busy": "2025-08-06T18:03:49.653956Z",
     "iopub.status.idle": "2025-08-06T18:03:49.769321Z",
     "shell.execute_reply": "2025-08-06T18:03:49.768355Z"
    },
    "papermill": {
     "duration": 0.128135,
     "end_time": "2025-08-06T18:03:49.771225",
     "exception": false,
     "start_time": "2025-08-06T18:03:49.643090",
     "status": "completed"
    },
    "tags": []
   },
   "outputs": [],
   "source": [
    "# Auxiliary data needed downstream in the pipeline\n",
    "\n",
    "org_train = X_train.copy()\n",
    "org_test = X_test.copy()\n",
    "org_calib = X_calib.copy()"
   ]
  },
  {
   "cell_type": "markdown",
   "id": "0a4a1b33",
   "metadata": {
    "papermill": {
     "duration": 0.02153,
     "end_time": "2025-08-06T18:03:49.824505",
     "exception": false,
     "start_time": "2025-08-06T18:03:49.802975",
     "status": "completed"
    },
    "tags": []
   },
   "source": [
    "# Preprocessing Data"
   ]
  },
  {
   "cell_type": "code",
   "execution_count": 19,
   "id": "ca879031",
   "metadata": {
    "execution": {
     "iopub.execute_input": "2025-08-06T18:03:49.866300Z",
     "iopub.status.busy": "2025-08-06T18:03:49.865858Z",
     "iopub.status.idle": "2025-08-06T18:03:49.871714Z",
     "shell.execute_reply": "2025-08-06T18:03:49.870730Z"
    },
    "papermill": {
     "duration": 0.026728,
     "end_time": "2025-08-06T18:03:49.873912",
     "exception": false,
     "start_time": "2025-08-06T18:03:49.847184",
     "status": "completed"
    },
    "tags": []
   },
   "outputs": [],
   "source": [
    "# EXCLUDE PROTECTED FEATURES\n",
    "# --------------------------\n",
    "\n",
    "excluded_features = universe[\"exclude_features\"].split(\"-\")\n",
    "excluded_features_dictionary = {\n",
    "    \"nationality\": [\"maxdeutsch1\", \"maxdeutsch.Missing.\"],\n",
    "    \"sex\": [\"frau1\"],\n",
    "    \"age\": [\"age\"],\n",
    "}"
   ]
  },
  {
   "cell_type": "code",
   "execution_count": 20,
   "id": "b745ac60",
   "metadata": {
    "execution": {
     "iopub.execute_input": "2025-08-06T18:03:49.916844Z",
     "iopub.status.busy": "2025-08-06T18:03:49.916279Z",
     "iopub.status.idle": "2025-08-06T18:03:49.922238Z",
     "shell.execute_reply": "2025-08-06T18:03:49.921118Z"
    },
    "papermill": {
     "duration": 0.031399,
     "end_time": "2025-08-06T18:03:49.923928",
     "exception": false,
     "start_time": "2025-08-06T18:03:49.892529",
     "status": "completed"
    },
    "tags": []
   },
   "outputs": [],
   "source": [
    "excluded_features_columns = [\n",
    "    excluded_features_dictionary[f] for f in excluded_features if len(f) > 0 and f != \"none\"\n",
    "]"
   ]
  },
  {
   "cell_type": "code",
   "execution_count": 21,
   "id": "f84f73a2",
   "metadata": {
    "execution": {
     "iopub.execute_input": "2025-08-06T18:03:49.963701Z",
     "iopub.status.busy": "2025-08-06T18:03:49.963033Z",
     "iopub.status.idle": "2025-08-06T18:03:49.969107Z",
     "shell.execute_reply": "2025-08-06T18:03:49.968068Z"
    },
    "papermill": {
     "duration": 0.029346,
     "end_time": "2025-08-06T18:03:49.970709",
     "exception": false,
     "start_time": "2025-08-06T18:03:49.941363",
     "status": "completed"
    },
    "tags": []
   },
   "outputs": [],
   "source": [
    "from fairness_multiverse.universe import flatten_once\n",
    "\n",
    "excluded_features_columns = flatten_once(excluded_features_columns)"
   ]
  },
  {
   "cell_type": "code",
   "execution_count": 22,
   "id": "884dea22",
   "metadata": {
    "execution": {
     "iopub.execute_input": "2025-08-06T18:03:50.001717Z",
     "iopub.status.busy": "2025-08-06T18:03:50.001345Z",
     "iopub.status.idle": "2025-08-06T18:03:50.006070Z",
     "shell.execute_reply": "2025-08-06T18:03:50.005214Z"
    },
    "papermill": {
     "duration": 0.018617,
     "end_time": "2025-08-06T18:03:50.007546",
     "exception": false,
     "start_time": "2025-08-06T18:03:49.988929",
     "status": "completed"
    },
    "tags": []
   },
   "outputs": [],
   "source": [
    "if len(excluded_features_columns) > 0:\n",
    "    print(f\"Dropping features: {excluded_features_columns}\")\n",
    "    X_train.drop(excluded_features_columns, axis=1, inplace=True)"
   ]
  },
  {
   "cell_type": "code",
   "execution_count": 23,
   "id": "95ab8b16",
   "metadata": {
    "execution": {
     "iopub.execute_input": "2025-08-06T18:03:50.032343Z",
     "iopub.status.busy": "2025-08-06T18:03:50.031806Z",
     "iopub.status.idle": "2025-08-06T18:03:50.038891Z",
     "shell.execute_reply": "2025-08-06T18:03:50.037772Z"
    },
    "papermill": {
     "duration": 0.022701,
     "end_time": "2025-08-06T18:03:50.041476",
     "exception": false,
     "start_time": "2025-08-06T18:03:50.018775",
     "status": "completed"
    },
    "tags": []
   },
   "outputs": [],
   "source": [
    "if len(excluded_features_columns) > 0:\n",
    "    print(f\"Dropping features: {excluded_features_columns}\")\n",
    "    X_test.drop(excluded_features_columns, axis=1, inplace=True)"
   ]
  },
  {
   "cell_type": "code",
   "execution_count": 24,
   "id": "1853aaf5-fb9f-46cb-a2b5-8ea4ae2237e4",
   "metadata": {
    "execution": {
     "iopub.execute_input": "2025-08-06T18:03:50.096081Z",
     "iopub.status.busy": "2025-08-06T18:03:50.095572Z",
     "iopub.status.idle": "2025-08-06T18:03:50.101316Z",
     "shell.execute_reply": "2025-08-06T18:03:50.100481Z"
    },
    "papermill": {
     "duration": 0.029849,
     "end_time": "2025-08-06T18:03:50.102735",
     "exception": false,
     "start_time": "2025-08-06T18:03:50.072886",
     "status": "completed"
    },
    "tags": []
   },
   "outputs": [],
   "source": [
    "if len(excluded_features_columns) > 0:\n",
    "    print(f\"Dropping features: {excluded_features_columns}\")\n",
    "    X_calib.drop(excluded_features_columns, axis=1, inplace=True)"
   ]
  },
  {
   "cell_type": "code",
   "execution_count": 25,
   "id": "76c4dc6d",
   "metadata": {
    "execution": {
     "iopub.execute_input": "2025-08-06T18:03:50.129912Z",
     "iopub.status.busy": "2025-08-06T18:03:50.129392Z",
     "iopub.status.idle": "2025-08-06T18:03:50.134246Z",
     "shell.execute_reply": "2025-08-06T18:03:50.133480Z"
    },
    "papermill": {
     "duration": 0.018551,
     "end_time": "2025-08-06T18:03:50.136006",
     "exception": false,
     "start_time": "2025-08-06T18:03:50.117455",
     "status": "completed"
    },
    "tags": []
   },
   "outputs": [],
   "source": [
    "# EXCLUDE CERTAIN SUBGROUPS\n",
    "# -------------------------\n",
    "\n",
    "mode = universe.get(\"exclude_subgroups\", \"keep-all\") # Defaults to \"keep-all\" if the key is missing."
   ]
  },
  {
   "cell_type": "code",
   "execution_count": 26,
   "id": "21994072",
   "metadata": {
    "execution": {
     "iopub.execute_input": "2025-08-06T18:03:50.161285Z",
     "iopub.status.busy": "2025-08-06T18:03:50.160561Z",
     "iopub.status.idle": "2025-08-06T18:03:50.166290Z",
     "shell.execute_reply": "2025-08-06T18:03:50.165504Z"
    },
    "papermill": {
     "duration": 0.019139,
     "end_time": "2025-08-06T18:03:50.167713",
     "exception": false,
     "start_time": "2025-08-06T18:03:50.148574",
     "status": "completed"
    },
    "tags": []
   },
   "outputs": [],
   "source": [
    "if mode == \"keep-all\":\n",
    "    keep_mask = pd.Series(True, index=org_train.index)\n",
    "\n",
    "elif mode == \"drop-non-german\":\n",
    "    keep_mask = (org_train[\"maxdeutsch1\"] == 1) & (org_train[\"maxdeutsch.Missing.\"] == 0)\n",
    "\n",
    "else:\n",
    "    raise ValueError(f\"Unsupported mode for exclude_subgroups: {mode}\")"
   ]
  },
  {
   "cell_type": "code",
   "execution_count": 27,
   "id": "71651440",
   "metadata": {
    "execution": {
     "iopub.execute_input": "2025-08-06T18:03:50.201353Z",
     "iopub.status.busy": "2025-08-06T18:03:50.200903Z",
     "iopub.status.idle": "2025-08-06T18:03:50.207459Z",
     "shell.execute_reply": "2025-08-06T18:03:50.206483Z"
    },
    "papermill": {
     "duration": 0.026207,
     "end_time": "2025-08-06T18:03:50.209187",
     "exception": false,
     "start_time": "2025-08-06T18:03:50.182980",
     "status": "completed"
    },
    "tags": []
   },
   "outputs": [],
   "source": [
    "n_drop = (~keep_mask).sum() # Calculates how many rows are set to be dropped\n",
    "if n_drop > 0:\n",
    "    pct = n_drop / len(keep_mask) * 100\n",
    "    print(f\"Dropping {n_drop} rows ({pct:.2f}%) where mode='{mode}'\")"
   ]
  },
  {
   "cell_type": "code",
   "execution_count": 28,
   "id": "5fb8eee5",
   "metadata": {
    "execution": {
     "iopub.execute_input": "2025-08-06T18:03:50.243141Z",
     "iopub.status.busy": "2025-08-06T18:03:50.242793Z",
     "iopub.status.idle": "2025-08-06T18:03:50.248365Z",
     "shell.execute_reply": "2025-08-06T18:03:50.247651Z"
    },
    "papermill": {
     "duration": 0.020519,
     "end_time": "2025-08-06T18:03:50.249668",
     "exception": false,
     "start_time": "2025-08-06T18:03:50.229149",
     "status": "completed"
    },
    "tags": []
   },
   "outputs": [],
   "source": [
    "X_train = X_train[keep_mask]"
   ]
  },
  {
   "cell_type": "code",
   "execution_count": 29,
   "id": "b202bb3a",
   "metadata": {
    "execution": {
     "iopub.execute_input": "2025-08-06T18:03:50.272429Z",
     "iopub.status.busy": "2025-08-06T18:03:50.271683Z",
     "iopub.status.idle": "2025-08-06T18:03:50.278694Z",
     "shell.execute_reply": "2025-08-06T18:03:50.277745Z"
    },
    "papermill": {
     "duration": 0.019657,
     "end_time": "2025-08-06T18:03:50.280511",
     "exception": false,
     "start_time": "2025-08-06T18:03:50.260854",
     "status": "completed"
    },
    "tags": []
   },
   "outputs": [],
   "source": [
    "y_train = y_train[keep_mask]"
   ]
  },
  {
   "cell_type": "markdown",
   "id": "493e2ac3",
   "metadata": {
    "papermill": {
     "duration": 0.010478,
     "end_time": "2025-08-06T18:03:50.305489",
     "exception": false,
     "start_time": "2025-08-06T18:03:50.295011",
     "status": "completed"
    },
    "tags": []
   },
   "source": [
    "# Model Training"
   ]
  },
  {
   "cell_type": "code",
   "execution_count": 30,
   "id": "679e1268",
   "metadata": {
    "execution": {
     "iopub.execute_input": "2025-08-06T18:03:50.346319Z",
     "iopub.status.busy": "2025-08-06T18:03:50.345540Z",
     "iopub.status.idle": "2025-08-06T18:03:50.423848Z",
     "shell.execute_reply": "2025-08-06T18:03:50.423092Z"
    },
    "papermill": {
     "duration": 0.099216,
     "end_time": "2025-08-06T18:03:50.425289",
     "exception": false,
     "start_time": "2025-08-06T18:03:50.326073",
     "status": "completed"
    },
    "tags": []
   },
   "outputs": [],
   "source": [
    "from sklearn.linear_model import LogisticRegression\n",
    "from sklearn.ensemble import GradientBoostingClassifier, RandomForestClassifier\n",
    "\n",
    "if (universe[\"model\"] == \"logreg\"):\n",
    "    model = LogisticRegression() #penalty=\"none\", solver=\"newton-cg\", max_iter=1)\n",
    "elif (universe[\"model\"] == \"penalized_logreg\"):\n",
    "    model = LogisticRegression(penalty=\"l2\", C=0.1) #, solver=\"newton-cg\", max_iter=1)\n",
    "elif (universe[\"model\"] == \"rf\"):\n",
    "    model = RandomForestClassifier() # n_estimators=100, n_jobs=-1\n",
    "elif (universe[\"model\"] == \"gbm\"):\n",
    "    model = GradientBoostingClassifier()\n",
    "elif (universe[\"model\"] == \"elasticnet\"):\n",
    "    model = LogisticRegression(penalty = 'elasticnet', solver = 'saga', l1_ratio = 0.5) # max_iter=5000\n",
    "else:\n",
    "    raise \"Unsupported universe.model\""
   ]
  },
  {
   "cell_type": "code",
   "execution_count": 31,
   "id": "0cc8f744",
   "metadata": {
    "execution": {
     "iopub.execute_input": "2025-08-06T18:03:50.449283Z",
     "iopub.status.busy": "2025-08-06T18:03:50.448834Z",
     "iopub.status.idle": "2025-08-06T18:03:50.455515Z",
     "shell.execute_reply": "2025-08-06T18:03:50.454711Z"
    },
    "papermill": {
     "duration": 0.020417,
     "end_time": "2025-08-06T18:03:50.456824",
     "exception": false,
     "start_time": "2025-08-06T18:03:50.436407",
     "status": "completed"
    },
    "tags": []
   },
   "outputs": [],
   "source": [
    "from sklearn.pipeline import Pipeline\n",
    "from sklearn.preprocessing import StandardScaler\n",
    "\n",
    "model = Pipeline([\n",
    "    #(\"continuous_processor\", continuous_processor),\n",
    "    #(\"categorical_preprocessor\", categorical_preprocessor),\n",
    "    (\"scale\", StandardScaler() if universe[\"scale\"] == \"scale\" else None), \n",
    "    (\"model\", model),\n",
    "])"
   ]
  },
  {
   "cell_type": "code",
   "execution_count": 32,
   "id": "9442c04d",
   "metadata": {
    "execution": {
     "iopub.execute_input": "2025-08-06T18:03:50.481578Z",
     "iopub.status.busy": "2025-08-06T18:03:50.481047Z",
     "iopub.status.idle": "2025-08-06T18:03:51.490118Z",
     "shell.execute_reply": "2025-08-06T18:03:51.489199Z"
    },
    "papermill": {
     "duration": 1.022786,
     "end_time": "2025-08-06T18:03:51.491734",
     "exception": false,
     "start_time": "2025-08-06T18:03:50.468948",
     "status": "completed"
    },
    "tags": []
   },
   "outputs": [
    {
     "data": {
      "text/html": [
       "<style>#sk-container-id-1 {color: black;background-color: white;}#sk-container-id-1 pre{padding: 0;}#sk-container-id-1 div.sk-toggleable {background-color: white;}#sk-container-id-1 label.sk-toggleable__label {cursor: pointer;display: block;width: 100%;margin-bottom: 0;padding: 0.3em;box-sizing: border-box;text-align: center;}#sk-container-id-1 label.sk-toggleable__label-arrow:before {content: \"▸\";float: left;margin-right: 0.25em;color: #696969;}#sk-container-id-1 label.sk-toggleable__label-arrow:hover:before {color: black;}#sk-container-id-1 div.sk-estimator:hover label.sk-toggleable__label-arrow:before {color: black;}#sk-container-id-1 div.sk-toggleable__content {max-height: 0;max-width: 0;overflow: hidden;text-align: left;background-color: #f0f8ff;}#sk-container-id-1 div.sk-toggleable__content pre {margin: 0.2em;color: black;border-radius: 0.25em;background-color: #f0f8ff;}#sk-container-id-1 input.sk-toggleable__control:checked~div.sk-toggleable__content {max-height: 200px;max-width: 100%;overflow: auto;}#sk-container-id-1 input.sk-toggleable__control:checked~label.sk-toggleable__label-arrow:before {content: \"▾\";}#sk-container-id-1 div.sk-estimator input.sk-toggleable__control:checked~label.sk-toggleable__label {background-color: #d4ebff;}#sk-container-id-1 div.sk-label input.sk-toggleable__control:checked~label.sk-toggleable__label {background-color: #d4ebff;}#sk-container-id-1 input.sk-hidden--visually {border: 0;clip: rect(1px 1px 1px 1px);clip: rect(1px, 1px, 1px, 1px);height: 1px;margin: -1px;overflow: hidden;padding: 0;position: absolute;width: 1px;}#sk-container-id-1 div.sk-estimator {font-family: monospace;background-color: #f0f8ff;border: 1px dotted black;border-radius: 0.25em;box-sizing: border-box;margin-bottom: 0.5em;}#sk-container-id-1 div.sk-estimator:hover {background-color: #d4ebff;}#sk-container-id-1 div.sk-parallel-item::after {content: \"\";width: 100%;border-bottom: 1px solid gray;flex-grow: 1;}#sk-container-id-1 div.sk-label:hover label.sk-toggleable__label {background-color: #d4ebff;}#sk-container-id-1 div.sk-serial::before {content: \"\";position: absolute;border-left: 1px solid gray;box-sizing: border-box;top: 0;bottom: 0;left: 50%;z-index: 0;}#sk-container-id-1 div.sk-serial {display: flex;flex-direction: column;align-items: center;background-color: white;padding-right: 0.2em;padding-left: 0.2em;position: relative;}#sk-container-id-1 div.sk-item {position: relative;z-index: 1;}#sk-container-id-1 div.sk-parallel {display: flex;align-items: stretch;justify-content: center;background-color: white;position: relative;}#sk-container-id-1 div.sk-item::before, #sk-container-id-1 div.sk-parallel-item::before {content: \"\";position: absolute;border-left: 1px solid gray;box-sizing: border-box;top: 0;bottom: 0;left: 50%;z-index: -1;}#sk-container-id-1 div.sk-parallel-item {display: flex;flex-direction: column;z-index: 1;position: relative;background-color: white;}#sk-container-id-1 div.sk-parallel-item:first-child::after {align-self: flex-end;width: 50%;}#sk-container-id-1 div.sk-parallel-item:last-child::after {align-self: flex-start;width: 50%;}#sk-container-id-1 div.sk-parallel-item:only-child::after {width: 0;}#sk-container-id-1 div.sk-dashed-wrapped {border: 1px dashed gray;margin: 0 0.4em 0.5em 0.4em;box-sizing: border-box;padding-bottom: 0.4em;background-color: white;}#sk-container-id-1 div.sk-label label {font-family: monospace;font-weight: bold;display: inline-block;line-height: 1.2em;}#sk-container-id-1 div.sk-label-container {text-align: center;}#sk-container-id-1 div.sk-container {/* jupyter's `normalize.less` sets `[hidden] { display: none; }` but bootstrap.min.css set `[hidden] { display: none !important; }` so we also need the `!important` here to be able to override the default hidden behavior on the sphinx rendered scikit-learn.org. See: https://github.com/scikit-learn/scikit-learn/issues/21755 */display: inline-block !important;position: relative;}#sk-container-id-1 div.sk-text-repr-fallback {display: none;}</style><div id=\"sk-container-id-1\" class=\"sk-top-container\"><div class=\"sk-text-repr-fallback\"><pre>Pipeline(steps=[(&#x27;scale&#x27;, None), (&#x27;model&#x27;, GradientBoostingClassifier())])</pre><b>In a Jupyter environment, please rerun this cell to show the HTML representation or trust the notebook. <br />On GitHub, the HTML representation is unable to render, please try loading this page with nbviewer.org.</b></div><div class=\"sk-container\" hidden><div class=\"sk-item sk-dashed-wrapped\"><div class=\"sk-label-container\"><div class=\"sk-label sk-toggleable\"><input class=\"sk-toggleable__control sk-hidden--visually\" id=\"sk-estimator-id-1\" type=\"checkbox\" ><label for=\"sk-estimator-id-1\" class=\"sk-toggleable__label sk-toggleable__label-arrow\">Pipeline</label><div class=\"sk-toggleable__content\"><pre>Pipeline(steps=[(&#x27;scale&#x27;, None), (&#x27;model&#x27;, GradientBoostingClassifier())])</pre></div></div></div><div class=\"sk-serial\"><div class=\"sk-item\"><div class=\"sk-estimator sk-toggleable\"><input class=\"sk-toggleable__control sk-hidden--visually\" id=\"sk-estimator-id-2\" type=\"checkbox\" ><label for=\"sk-estimator-id-2\" class=\"sk-toggleable__label sk-toggleable__label-arrow\">None</label><div class=\"sk-toggleable__content\"><pre>None</pre></div></div></div><div class=\"sk-item\"><div class=\"sk-estimator sk-toggleable\"><input class=\"sk-toggleable__control sk-hidden--visually\" id=\"sk-estimator-id-3\" type=\"checkbox\" ><label for=\"sk-estimator-id-3\" class=\"sk-toggleable__label sk-toggleable__label-arrow\">GradientBoostingClassifier</label><div class=\"sk-toggleable__content\"><pre>GradientBoostingClassifier()</pre></div></div></div></div></div></div></div>"
      ],
      "text/plain": [
       "Pipeline(steps=[('scale', None), ('model', GradientBoostingClassifier())])"
      ]
     },
     "execution_count": 32,
     "metadata": {},
     "output_type": "execute_result"
    }
   ],
   "source": [
    "model.fit(X_train, y_train.values.ravel())"
   ]
  },
  {
   "cell_type": "code",
   "execution_count": 33,
   "id": "a7cf2e16",
   "metadata": {
    "execution": {
     "iopub.execute_input": "2025-08-06T18:03:51.534833Z",
     "iopub.status.busy": "2025-08-06T18:03:51.534185Z",
     "iopub.status.idle": "2025-08-06T18:03:52.216081Z",
     "shell.execute_reply": "2025-08-06T18:03:52.214998Z"
    },
    "papermill": {
     "duration": 0.706219,
     "end_time": "2025-08-06T18:03:52.217629",
     "exception": false,
     "start_time": "2025-08-06T18:03:51.511410",
     "status": "completed"
    },
    "tags": []
   },
   "outputs": [
    {
     "data": {
      "text/plain": [
       "0.8413331847062758"
      ]
     },
     "execution_count": 33,
     "metadata": {},
     "output_type": "execute_result"
    }
   ],
   "source": [
    "from fairness_multiverse.universe import predict_w_threshold\n",
    "\n",
    "probs_test = model.predict_proba(X_test)\n",
    "\n",
    "'''\n",
    "Below code returns a boolean array (or binary 0/1 array depending on how it’s used) where each element \n",
    "is True if the probability of class 1 is greater than or equal to the threshold, and False otherwise.\n",
    "'''\n",
    "y_pred_default = predict_w_threshold(probs_test, 0.5)\n",
    "\n",
    "from sklearn.metrics import accuracy_score\n",
    "\n",
    "# Naive prediction\n",
    "accuracy_score(y_true = y_true, y_pred = y_pred_default)"
   ]
  },
  {
   "cell_type": "code",
   "execution_count": 34,
   "id": "081964c3",
   "metadata": {
    "execution": {
     "iopub.execute_input": "2025-08-06T18:03:52.256736Z",
     "iopub.status.busy": "2025-08-06T18:03:52.256195Z",
     "iopub.status.idle": "2025-08-06T18:03:52.928951Z",
     "shell.execute_reply": "2025-08-06T18:03:52.928085Z"
    },
    "papermill": {
     "duration": 0.693671,
     "end_time": "2025-08-06T18:03:52.930731",
     "exception": false,
     "start_time": "2025-08-06T18:03:52.237060",
     "status": "completed"
    },
    "tags": []
   },
   "outputs": [
    {
     "data": {
      "text/plain": [
       "array([0, 0, 0, ..., 0, 0, 0])"
      ]
     },
     "execution_count": 34,
     "metadata": {},
     "output_type": "execute_result"
    }
   ],
   "source": [
    "model.predict(X_test)"
   ]
  },
  {
   "cell_type": "markdown",
   "id": "56c9705b",
   "metadata": {
    "papermill": {
     "duration": 0.021348,
     "end_time": "2025-08-06T18:03:52.974326",
     "exception": false,
     "start_time": "2025-08-06T18:03:52.952978",
     "status": "completed"
    },
    "tags": []
   },
   "source": [
    "# Conformal Prediction"
   ]
  },
  {
   "cell_type": "code",
   "execution_count": 35,
   "id": "160ec6ff",
   "metadata": {
    "execution": {
     "iopub.execute_input": "2025-08-06T18:03:53.020440Z",
     "iopub.status.busy": "2025-08-06T18:03:53.019775Z",
     "iopub.status.idle": "2025-08-06T18:03:53.026520Z",
     "shell.execute_reply": "2025-08-06T18:03:53.025266Z"
    },
    "papermill": {
     "duration": 0.031953,
     "end_time": "2025-08-06T18:03:53.028533",
     "exception": false,
     "start_time": "2025-08-06T18:03:52.996580",
     "status": "completed"
    },
    "tags": []
   },
   "outputs": [],
   "source": [
    "# Miscoverage level for conformal prediction (10% allowed error rate => 90% target coverage)\n",
    "alpha = 0.1"
   ]
  },
  {
   "cell_type": "code",
   "execution_count": 36,
   "id": "eadf4555-3dd3-440e-8e35-f82a4ad9f855",
   "metadata": {
    "execution": {
     "iopub.execute_input": "2025-08-06T18:03:53.074154Z",
     "iopub.status.busy": "2025-08-06T18:03:53.073517Z",
     "iopub.status.idle": "2025-08-06T18:03:53.736926Z",
     "shell.execute_reply": "2025-08-06T18:03:53.736022Z"
    },
    "papermill": {
     "duration": 0.688093,
     "end_time": "2025-08-06T18:03:53.738842",
     "exception": false,
     "start_time": "2025-08-06T18:03:53.050749",
     "status": "completed"
    },
    "tags": []
   },
   "outputs": [],
   "source": [
    "probs_calib = model.predict_proba(X_calib)"
   ]
  },
  {
   "cell_type": "code",
   "execution_count": 37,
   "id": "2ed93547-6d5d-4983-9b36-1ecb300da49a",
   "metadata": {
    "execution": {
     "iopub.execute_input": "2025-08-06T18:03:53.783830Z",
     "iopub.status.busy": "2025-08-06T18:03:53.783333Z",
     "iopub.status.idle": "2025-08-06T18:03:53.790268Z",
     "shell.execute_reply": "2025-08-06T18:03:53.789344Z"
    },
    "papermill": {
     "duration": 0.032162,
     "end_time": "2025-08-06T18:03:53.792135",
     "exception": false,
     "start_time": "2025-08-06T18:03:53.759973",
     "status": "completed"
    },
    "tags": []
   },
   "outputs": [],
   "source": [
    "y_calib = y_calib.values.ravel().astype(int)"
   ]
  },
  {
   "cell_type": "code",
   "execution_count": 38,
   "id": "65d1320d-f588-4b38-9072-62af1ae97f7d",
   "metadata": {
    "execution": {
     "iopub.execute_input": "2025-08-06T18:03:53.835945Z",
     "iopub.status.busy": "2025-08-06T18:03:53.835497Z",
     "iopub.status.idle": "2025-08-06T18:03:53.842556Z",
     "shell.execute_reply": "2025-08-06T18:03:53.841577Z"
    },
    "papermill": {
     "duration": 0.030903,
     "end_time": "2025-08-06T18:03:53.844379",
     "exception": false,
     "start_time": "2025-08-06T18:03:53.813476",
     "status": "completed"
    },
    "tags": []
   },
   "outputs": [],
   "source": [
    "from fairness_multiverse.conformal import compute_nc_scores\n",
    "\n",
    "# Compute nonconformity scores on calibration set (1 - probability of true class)\n",
    "nc_scores = compute_nc_scores(probs_calib, y_calib)"
   ]
  },
  {
   "cell_type": "code",
   "execution_count": 39,
   "id": "df3b8ca3-53b7-43d5-9667-7c85da7aeda2",
   "metadata": {
    "execution": {
     "iopub.execute_input": "2025-08-06T18:03:53.889564Z",
     "iopub.status.busy": "2025-08-06T18:03:53.888922Z",
     "iopub.status.idle": "2025-08-06T18:03:53.896062Z",
     "shell.execute_reply": "2025-08-06T18:03:53.894930Z"
    },
    "papermill": {
     "duration": 0.031779,
     "end_time": "2025-08-06T18:03:53.898479",
     "exception": false,
     "start_time": "2025-08-06T18:03:53.866700",
     "status": "completed"
    },
    "tags": []
   },
   "outputs": [],
   "source": [
    "from fairness_multiverse.conformal import find_threshold\n",
    "\n",
    "# Find conformal threshold q_hat for the given alpha (split conformal method)\n",
    "q_hat = find_threshold(nc_scores, alpha)"
   ]
  },
  {
   "cell_type": "code",
   "execution_count": 40,
   "id": "4d29e6c1-0ef6-4aa4-b8fe-4fe79b0d033a",
   "metadata": {
    "execution": {
     "iopub.execute_input": "2025-08-06T18:03:53.944860Z",
     "iopub.status.busy": "2025-08-06T18:03:53.944368Z",
     "iopub.status.idle": "2025-08-06T18:03:53.951984Z",
     "shell.execute_reply": "2025-08-06T18:03:53.950954Z"
    },
    "papermill": {
     "duration": 0.03238,
     "end_time": "2025-08-06T18:03:53.953628",
     "exception": false,
     "start_time": "2025-08-06T18:03:53.921248",
     "status": "completed"
    },
    "tags": []
   },
   "outputs": [
    {
     "data": {
      "text/plain": [
       "0.7556709418233363"
      ]
     },
     "execution_count": 40,
     "metadata": {},
     "output_type": "execute_result"
    }
   ],
   "source": [
    "q_hat"
   ]
  },
  {
   "cell_type": "code",
   "execution_count": 41,
   "id": "92460794-cdac-4be2-ba28-f28c0515a6fb",
   "metadata": {
    "execution": {
     "iopub.execute_input": "2025-08-06T18:03:53.999713Z",
     "iopub.status.busy": "2025-08-06T18:03:53.999105Z",
     "iopub.status.idle": "2025-08-06T18:03:55.337861Z",
     "shell.execute_reply": "2025-08-06T18:03:55.336765Z"
    },
    "papermill": {
     "duration": 1.363641,
     "end_time": "2025-08-06T18:03:55.339478",
     "exception": false,
     "start_time": "2025-08-06T18:03:53.975837",
     "status": "completed"
    },
    "tags": []
   },
   "outputs": [],
   "source": [
    "from fairness_multiverse.conformal import predict_conformal_sets\n",
    "\n",
    "# Generate prediction sets for each test example\n",
    "pred_sets = predict_conformal_sets(model, X_test, q_hat)"
   ]
  },
  {
   "cell_type": "code",
   "execution_count": 42,
   "id": "d90c9a65-e6db-4f5d-80cd-e68fb7e46829",
   "metadata": {
    "execution": {
     "iopub.execute_input": "2025-08-06T18:03:55.364647Z",
     "iopub.status.busy": "2025-08-06T18:03:55.364280Z",
     "iopub.status.idle": "2025-08-06T18:03:55.369148Z",
     "shell.execute_reply": "2025-08-06T18:03:55.368276Z"
    },
    "papermill": {
     "duration": 0.018927,
     "end_time": "2025-08-06T18:03:55.370568",
     "exception": false,
     "start_time": "2025-08-06T18:03:55.351641",
     "status": "completed"
    },
    "tags": []
   },
   "outputs": [],
   "source": [
    "y_true = y_true.squeeze()"
   ]
  },
  {
   "cell_type": "code",
   "execution_count": 43,
   "id": "3a58a54a-1e68-46b9-927a-df01f18aebc8",
   "metadata": {
    "execution": {
     "iopub.execute_input": "2025-08-06T18:03:55.412842Z",
     "iopub.status.busy": "2025-08-06T18:03:55.412354Z",
     "iopub.status.idle": "2025-08-06T18:03:56.262491Z",
     "shell.execute_reply": "2025-08-06T18:03:56.261228Z"
    },
    "papermill": {
     "duration": 0.882672,
     "end_time": "2025-08-06T18:03:56.265491",
     "exception": false,
     "start_time": "2025-08-06T18:03:55.382819",
     "status": "completed"
    },
    "tags": []
   },
   "outputs": [],
   "source": [
    "from fairness_multiverse.conformal import evaluate_sets\n",
    "\n",
    "# Evaluate coverage and average set size on test data\n",
    "metrics = evaluate_sets(pred_sets, y_true)"
   ]
  },
  {
   "cell_type": "markdown",
   "id": "2b569c12-9aaa-4c88-98c9-bbcd0cf3ebb8",
   "metadata": {
    "papermill": {
     "duration": 0.031186,
     "end_time": "2025-08-06T18:03:56.330802",
     "exception": false,
     "start_time": "2025-08-06T18:03:56.299616",
     "status": "completed"
    },
    "tags": []
   },
   "source": [
    "# CP Metrics"
   ]
  },
  {
   "cell_type": "code",
   "execution_count": 44,
   "id": "5ce0a5cb-201f-45a0-ade5-94c7f0bd6095",
   "metadata": {
    "execution": {
     "iopub.execute_input": "2025-08-06T18:03:56.394745Z",
     "iopub.status.busy": "2025-08-06T18:03:56.393886Z",
     "iopub.status.idle": "2025-08-06T18:03:56.400800Z",
     "shell.execute_reply": "2025-08-06T18:03:56.399664Z"
    },
    "papermill": {
     "duration": 0.041001,
     "end_time": "2025-08-06T18:03:56.402655",
     "exception": false,
     "start_time": "2025-08-06T18:03:56.361654",
     "status": "completed"
    },
    "tags": []
   },
   "outputs": [
    {
     "data": {
      "text/plain": [
       "{'coverage': 0.9102664140006688, 'avg_size': 1.172466837587783}"
      ]
     },
     "execution_count": 44,
     "metadata": {},
     "output_type": "execute_result"
    }
   ],
   "source": [
    "metrics"
   ]
  },
  {
   "cell_type": "code",
   "execution_count": 45,
   "id": "9b9a838d-31c9-430b-ae14-12baee460d17",
   "metadata": {
    "execution": {
     "iopub.execute_input": "2025-08-06T18:03:56.444433Z",
     "iopub.status.busy": "2025-08-06T18:03:56.443354Z",
     "iopub.status.idle": "2025-08-06T18:03:56.451014Z",
     "shell.execute_reply": "2025-08-06T18:03:56.449969Z"
    },
    "papermill": {
     "duration": 0.029937,
     "end_time": "2025-08-06T18:03:56.452976",
     "exception": false,
     "start_time": "2025-08-06T18:03:56.423039",
     "status": "completed"
    },
    "tags": []
   },
   "outputs": [],
   "source": [
    "example_universe = universe.copy()\n",
    "universe_training_year = example_universe.get(\"training_year\")\n",
    "universe_training_size = example_universe.get(\"training_size\")\n",
    "universe_scale = example_universe.get(\"scale\")\n",
    "universe_model = example_universe.get(\"model\")\n",
    "universe_exclude_features = example_universe.get(\"exclude_features\")\n",
    "universe_exclude_subgroups = example_universe.get(\"exclude_subgroups\")"
   ]
  },
  {
   "cell_type": "code",
   "execution_count": 46,
   "id": "f4b6a8ac-9dc0-4245-8a91-5b3b5999c4f9",
   "metadata": {
    "execution": {
     "iopub.execute_input": "2025-08-06T18:03:56.494186Z",
     "iopub.status.busy": "2025-08-06T18:03:56.493241Z",
     "iopub.status.idle": "2025-08-06T18:03:56.500355Z",
     "shell.execute_reply": "2025-08-06T18:03:56.499327Z"
    },
    "papermill": {
     "duration": 0.028943,
     "end_time": "2025-08-06T18:03:56.502357",
     "exception": false,
     "start_time": "2025-08-06T18:03:56.473414",
     "status": "completed"
    },
    "tags": []
   },
   "outputs": [],
   "source": [
    "cp_metrics_dict = {\n",
    "    \"universe_id\": [universe_id],\n",
    "    \"universe_training_year\": [universe_training_year],\n",
    "    \"universe_training_size\": [universe_training_size],\n",
    "    \"universe_scale\": [universe_scale],\n",
    "    \"universe_model\": [universe_model],\n",
    "    \"universe_exclude_features\": [universe_exclude_features],\n",
    "    \"universe_exclude_subgroups\": [universe_exclude_subgroups],\n",
    "    \"q_hat\": [q_hat],\n",
    "    \"coverage\": [metrics[\"coverage\"]],\n",
    "    \"avg_size\": [metrics[\"avg_size\"]],\n",
    "}"
   ]
  },
  {
   "cell_type": "code",
   "execution_count": 47,
   "id": "33007efc-14e9-4ec6-97ac-56a455c82265",
   "metadata": {
    "execution": {
     "iopub.execute_input": "2025-08-06T18:03:56.543208Z",
     "iopub.status.busy": "2025-08-06T18:03:56.542346Z",
     "iopub.status.idle": "2025-08-06T18:03:56.548187Z",
     "shell.execute_reply": "2025-08-06T18:03:56.547158Z"
    },
    "papermill": {
     "duration": 0.026956,
     "end_time": "2025-08-06T18:03:56.549668",
     "exception": false,
     "start_time": "2025-08-06T18:03:56.522712",
     "status": "completed"
    },
    "tags": []
   },
   "outputs": [],
   "source": [
    "cp_metrics_df = pd.DataFrame(cp_metrics_dict)"
   ]
  },
  {
   "cell_type": "code",
   "execution_count": 48,
   "id": "db12611b-57b2-4910-b9d0-355adfd6e7bf",
   "metadata": {
    "execution": {
     "iopub.execute_input": "2025-08-06T18:03:56.591939Z",
     "iopub.status.busy": "2025-08-06T18:03:56.591432Z",
     "iopub.status.idle": "2025-08-06T18:03:56.609942Z",
     "shell.execute_reply": "2025-08-06T18:03:56.608644Z"
    },
    "papermill": {
     "duration": 0.055425,
     "end_time": "2025-08-06T18:03:56.625368",
     "exception": false,
     "start_time": "2025-08-06T18:03:56.569943",
     "status": "completed"
    },
    "tags": []
   },
   "outputs": [
    {
     "data": {
      "text/html": [
       "<div>\n",
       "<style scoped>\n",
       "    .dataframe tbody tr th:only-of-type {\n",
       "        vertical-align: middle;\n",
       "    }\n",
       "\n",
       "    .dataframe tbody tr th {\n",
       "        vertical-align: top;\n",
       "    }\n",
       "\n",
       "    .dataframe thead th {\n",
       "        text-align: right;\n",
       "    }\n",
       "</style>\n",
       "<table border=\"1\" class=\"dataframe\">\n",
       "  <thead>\n",
       "    <tr style=\"text-align: right;\">\n",
       "      <th></th>\n",
       "      <th>universe_id</th>\n",
       "      <th>universe_training_year</th>\n",
       "      <th>universe_training_size</th>\n",
       "      <th>universe_scale</th>\n",
       "      <th>universe_model</th>\n",
       "      <th>universe_exclude_features</th>\n",
       "      <th>universe_exclude_subgroups</th>\n",
       "      <th>q_hat</th>\n",
       "      <th>coverage</th>\n",
       "      <th>avg_size</th>\n",
       "    </tr>\n",
       "  </thead>\n",
       "  <tbody>\n",
       "    <tr>\n",
       "      <th>0</th>\n",
       "      <td>f9e77d68c4ffbc01aa2a921b2adc2c77</td>\n",
       "      <td>2012_14</td>\n",
       "      <td>1k</td>\n",
       "      <td>do-not-scale</td>\n",
       "      <td>gbm</td>\n",
       "      <td>none</td>\n",
       "      <td>keep-all</td>\n",
       "      <td>0.755671</td>\n",
       "      <td>0.910266</td>\n",
       "      <td>1.172467</td>\n",
       "    </tr>\n",
       "  </tbody>\n",
       "</table>\n",
       "</div>"
      ],
      "text/plain": [
       "                        universe_id universe_training_year  \\\n",
       "0  f9e77d68c4ffbc01aa2a921b2adc2c77                2012_14   \n",
       "\n",
       "  universe_training_size universe_scale universe_model  \\\n",
       "0                     1k   do-not-scale            gbm   \n",
       "\n",
       "  universe_exclude_features universe_exclude_subgroups     q_hat  coverage  \\\n",
       "0                      none                   keep-all  0.755671  0.910266   \n",
       "\n",
       "   avg_size  \n",
       "0  1.172467  "
      ]
     },
     "execution_count": 48,
     "metadata": {},
     "output_type": "execute_result"
    }
   ],
   "source": [
    "cp_metrics_df"
   ]
  },
  {
   "cell_type": "markdown",
   "id": "c825ecb4-0d3d-41d6-b7c6-eccb21272259",
   "metadata": {
    "papermill": {
     "duration": 0.020618,
     "end_time": "2025-08-06T18:03:56.674854",
     "exception": false,
     "start_time": "2025-08-06T18:03:56.654236",
     "status": "completed"
    },
    "tags": []
   },
   "source": [
    "Conditional coverage & looking at subgroups"
   ]
  },
  {
   "cell_type": "code",
   "execution_count": 49,
   "id": "027ae886-68dd-4141-96c7-805a5450e1ef",
   "metadata": {
    "execution": {
     "iopub.execute_input": "2025-08-06T18:03:56.718898Z",
     "iopub.status.busy": "2025-08-06T18:03:56.718240Z",
     "iopub.status.idle": "2025-08-06T18:03:57.003786Z",
     "shell.execute_reply": "2025-08-06T18:03:57.002656Z"
    },
    "papermill": {
     "duration": 0.310392,
     "end_time": "2025-08-06T18:03:57.006009",
     "exception": false,
     "start_time": "2025-08-06T18:03:56.695617",
     "status": "completed"
    },
    "tags": []
   },
   "outputs": [],
   "source": [
    "from fairness_multiverse.conformal import build_cp_groups\n",
    "\n",
    "cp_groups_df = build_cp_groups(pred_sets, y_true, X_test.index, org_test)"
   ]
  },
  {
   "cell_type": "code",
   "execution_count": 50,
   "id": "6cbdab96-b2b2-45af-ad54-d0516db2e28d",
   "metadata": {
    "execution": {
     "iopub.execute_input": "2025-08-06T18:03:57.050515Z",
     "iopub.status.busy": "2025-08-06T18:03:57.049739Z",
     "iopub.status.idle": "2025-08-06T18:03:58.507192Z",
     "shell.execute_reply": "2025-08-06T18:03:58.506213Z"
    },
    "papermill": {
     "duration": 1.481989,
     "end_time": "2025-08-06T18:03:58.509269",
     "exception": false,
     "start_time": "2025-08-06T18:03:57.027280",
     "status": "completed"
    },
    "tags": []
   },
   "outputs": [],
   "source": [
    "# Define covered = 1 if true_label is in the predicted set\n",
    "cp_groups_df['covered'] = cp_groups_df.apply(\n",
    "    lambda r: int(r['true_label'] in r['pred_set']),\n",
    "    axis=1\n",
    ")"
   ]
  },
  {
   "cell_type": "code",
   "execution_count": 51,
   "id": "90032e27-66df-4540-9169-4e89cfbaa758",
   "metadata": {
    "execution": {
     "iopub.execute_input": "2025-08-06T18:03:58.558634Z",
     "iopub.status.busy": "2025-08-06T18:03:58.557683Z",
     "iopub.status.idle": "2025-08-06T18:03:58.569060Z",
     "shell.execute_reply": "2025-08-06T18:03:58.568120Z"
    },
    "papermill": {
     "duration": 0.037421,
     "end_time": "2025-08-06T18:03:58.570915",
     "exception": false,
     "start_time": "2025-08-06T18:03:58.533494",
     "status": "completed"
    },
    "tags": []
   },
   "outputs": [],
   "source": [
    "subgroups = ['frau1','nongerman','nongerman_male','nongerman_female']\n",
    "\n",
    "# Conditional coverage for subgroup==1\n",
    "cond_coverage = {\n",
    "    g: cp_groups_df.loc[cp_groups_df[g]==1, 'covered'].mean()\n",
    "    for g in subgroups\n",
    "}"
   ]
  },
  {
   "cell_type": "code",
   "execution_count": 52,
   "id": "1e348fb1-b9c3-45bc-ba23-f016827a7e0d",
   "metadata": {
    "execution": {
     "iopub.execute_input": "2025-08-06T18:03:58.617075Z",
     "iopub.status.busy": "2025-08-06T18:03:58.616495Z",
     "iopub.status.idle": "2025-08-06T18:03:58.623534Z",
     "shell.execute_reply": "2025-08-06T18:03:58.622595Z"
    },
    "papermill": {
     "duration": 0.029671,
     "end_time": "2025-08-06T18:03:58.625427",
     "exception": false,
     "start_time": "2025-08-06T18:03:58.595756",
     "status": "completed"
    },
    "tags": []
   },
   "outputs": [
    {
     "data": {
      "text/plain": [
       "{'frau1': 0.9076694972368243,\n",
       " 'nongerman': 0.9080446864649413,\n",
       " 'nongerman_male': 0.9252454291632892,\n",
       " 'nongerman_female': 0.8795827123695976}"
      ]
     },
     "execution_count": 52,
     "metadata": {},
     "output_type": "execute_result"
    }
   ],
   "source": [
    "cond_coverage"
   ]
  },
  {
   "cell_type": "code",
   "execution_count": 53,
   "id": "f5093324-c3dd-4d63-bc4c-8d945e5c8bbb",
   "metadata": {
    "execution": {
     "iopub.execute_input": "2025-08-06T18:03:58.671913Z",
     "iopub.status.busy": "2025-08-06T18:03:58.671622Z",
     "iopub.status.idle": "2025-08-06T18:03:58.678217Z",
     "shell.execute_reply": "2025-08-06T18:03:58.677209Z"
    },
    "papermill": {
     "duration": 0.030664,
     "end_time": "2025-08-06T18:03:58.679903",
     "exception": false,
     "start_time": "2025-08-06T18:03:58.649239",
     "status": "completed"
    },
    "tags": []
   },
   "outputs": [],
   "source": [
    "for subgroup, cov in cond_coverage.items():\n",
    "    cp_metrics_df[f\"cov_{subgroup}\"] = cov"
   ]
  },
  {
   "cell_type": "code",
   "execution_count": 54,
   "id": "6e872e10-dbe5-49e8-b554-5030c98ff75d",
   "metadata": {
    "execution": {
     "iopub.execute_input": "2025-08-06T18:03:58.727764Z",
     "iopub.status.busy": "2025-08-06T18:03:58.727462Z",
     "iopub.status.idle": "2025-08-06T18:03:58.748651Z",
     "shell.execute_reply": "2025-08-06T18:03:58.747478Z"
    },
    "papermill": {
     "duration": 0.046941,
     "end_time": "2025-08-06T18:03:58.750327",
     "exception": false,
     "start_time": "2025-08-06T18:03:58.703386",
     "status": "completed"
    },
    "tags": []
   },
   "outputs": [
    {
     "data": {
      "text/html": [
       "<div>\n",
       "<style scoped>\n",
       "    .dataframe tbody tr th:only-of-type {\n",
       "        vertical-align: middle;\n",
       "    }\n",
       "\n",
       "    .dataframe tbody tr th {\n",
       "        vertical-align: top;\n",
       "    }\n",
       "\n",
       "    .dataframe thead th {\n",
       "        text-align: right;\n",
       "    }\n",
       "</style>\n",
       "<table border=\"1\" class=\"dataframe\">\n",
       "  <thead>\n",
       "    <tr style=\"text-align: right;\">\n",
       "      <th></th>\n",
       "      <th>universe_id</th>\n",
       "      <th>universe_training_year</th>\n",
       "      <th>universe_training_size</th>\n",
       "      <th>universe_scale</th>\n",
       "      <th>universe_model</th>\n",
       "      <th>universe_exclude_features</th>\n",
       "      <th>universe_exclude_subgroups</th>\n",
       "      <th>q_hat</th>\n",
       "      <th>coverage</th>\n",
       "      <th>avg_size</th>\n",
       "      <th>cov_frau1</th>\n",
       "      <th>cov_nongerman</th>\n",
       "      <th>cov_nongerman_male</th>\n",
       "      <th>cov_nongerman_female</th>\n",
       "    </tr>\n",
       "  </thead>\n",
       "  <tbody>\n",
       "    <tr>\n",
       "      <th>0</th>\n",
       "      <td>f9e77d68c4ffbc01aa2a921b2adc2c77</td>\n",
       "      <td>2012_14</td>\n",
       "      <td>1k</td>\n",
       "      <td>do-not-scale</td>\n",
       "      <td>gbm</td>\n",
       "      <td>none</td>\n",
       "      <td>keep-all</td>\n",
       "      <td>0.755671</td>\n",
       "      <td>0.910266</td>\n",
       "      <td>1.172467</td>\n",
       "      <td>0.907669</td>\n",
       "      <td>0.908045</td>\n",
       "      <td>0.925245</td>\n",
       "      <td>0.879583</td>\n",
       "    </tr>\n",
       "  </tbody>\n",
       "</table>\n",
       "</div>"
      ],
      "text/plain": [
       "                        universe_id universe_training_year  \\\n",
       "0  f9e77d68c4ffbc01aa2a921b2adc2c77                2012_14   \n",
       "\n",
       "  universe_training_size universe_scale universe_model  \\\n",
       "0                     1k   do-not-scale            gbm   \n",
       "\n",
       "  universe_exclude_features universe_exclude_subgroups     q_hat  coverage  \\\n",
       "0                      none                   keep-all  0.755671  0.910266   \n",
       "\n",
       "   avg_size  cov_frau1  cov_nongerman  cov_nongerman_male  \\\n",
       "0  1.172467   0.907669       0.908045            0.925245   \n",
       "\n",
       "   cov_nongerman_female  \n",
       "0              0.879583  "
      ]
     },
     "execution_count": 54,
     "metadata": {},
     "output_type": "execute_result"
    }
   ],
   "source": [
    "cp_metrics_df"
   ]
  },
  {
   "cell_type": "markdown",
   "id": "33774451",
   "metadata": {
    "papermill": {
     "duration": 0.020798,
     "end_time": "2025-08-06T18:03:58.793708",
     "exception": false,
     "start_time": "2025-08-06T18:03:58.772910",
     "status": "completed"
    },
    "tags": []
   },
   "source": [
    "# (Fairness) Metrics"
   ]
  },
  {
   "cell_type": "code",
   "execution_count": 55,
   "id": "debc5d62",
   "metadata": {
    "execution": {
     "iopub.execute_input": "2025-08-06T18:03:58.837170Z",
     "iopub.status.busy": "2025-08-06T18:03:58.836508Z",
     "iopub.status.idle": "2025-08-06T18:03:58.857769Z",
     "shell.execute_reply": "2025-08-06T18:03:58.856951Z"
    },
    "papermill": {
     "duration": 0.044849,
     "end_time": "2025-08-06T18:03:58.859309",
     "exception": false,
     "start_time": "2025-08-06T18:03:58.814460",
     "status": "completed"
    },
    "tags": []
   },
   "outputs": [],
   "source": [
    "colname_to_bin = \"maxdeutsch1\"\n",
    "majority_value = org_train[colname_to_bin].mode()[0]\n",
    "\n",
    "org_test[\"majmin\"] = np.where(org_test[colname_to_bin] == majority_value, \"majority\", \"minority\")"
   ]
  },
  {
   "cell_type": "code",
   "execution_count": 56,
   "id": "06a50de5",
   "metadata": {
    "execution": {
     "iopub.execute_input": "2025-08-06T18:03:58.903811Z",
     "iopub.status.busy": "2025-08-06T18:03:58.903423Z",
     "iopub.status.idle": "2025-08-06T18:04:01.687078Z",
     "shell.execute_reply": "2025-08-06T18:04:01.686116Z"
    },
    "papermill": {
     "duration": 2.807218,
     "end_time": "2025-08-06T18:04:01.689038",
     "exception": false,
     "start_time": "2025-08-06T18:03:58.881820",
     "status": "completed"
    },
    "tags": []
   },
   "outputs": [],
   "source": [
    "example_universe = universe.copy()\n",
    "example_universe[\"cutoff\"] = example_universe[\"cutoff\"][0]\n",
    "example_universe[\"eval_fairness_grouping\"] = example_universe[\"eval_fairness_grouping\"][0]\n",
    "fairness_dict, metric_frame = universe_analysis.compute_metrics(\n",
    "    example_universe,\n",
    "    y_pred_prob=probs_test,\n",
    "    y_test=y_true,\n",
    "    org_test=org_test,\n",
    ")"
   ]
  },
  {
   "cell_type": "markdown",
   "id": "f95d4e02",
   "metadata": {
    "papermill": {
     "duration": 0.021921,
     "end_time": "2025-08-06T18:04:01.735345",
     "exception": false,
     "start_time": "2025-08-06T18:04:01.713424",
     "status": "completed"
    },
    "tags": []
   },
   "source": [
    "# Overall"
   ]
  },
  {
   "cell_type": "markdown",
   "id": "bdee4871",
   "metadata": {
    "papermill": {
     "duration": 0.016676,
     "end_time": "2025-08-06T18:04:01.767454",
     "exception": false,
     "start_time": "2025-08-06T18:04:01.750778",
     "status": "completed"
    },
    "tags": []
   },
   "source": [
    "Main fairness target: Equalized Odds. Seems to be a better fit than equal opportunity, since we're not only interested in Y = 1. Seems to be a better fit than demographic parity, since we also care about accuracy, not just equal distribution of preds.\n",
    "\n",
    "Pick column for computation of fairness metrics\n",
    "\n",
    "Performance\n",
    "Overall performance measures, most interesting in relation to the measures split by group below"
   ]
  },
  {
   "cell_type": "code",
   "execution_count": 57,
   "id": "c4e067c6",
   "metadata": {
    "execution": {
     "iopub.execute_input": "2025-08-06T18:04:01.816263Z",
     "iopub.status.busy": "2025-08-06T18:04:01.815231Z",
     "iopub.status.idle": "2025-08-06T18:04:01.823837Z",
     "shell.execute_reply": "2025-08-06T18:04:01.822892Z"
    },
    "papermill": {
     "duration": 0.03356,
     "end_time": "2025-08-06T18:04:01.825327",
     "exception": false,
     "start_time": "2025-08-06T18:04:01.791767",
     "status": "completed"
    },
    "tags": []
   },
   "outputs": [
    {
     "data": {
      "text/plain": [
       "accuracy                   0.223130\n",
       "balanced accuracy          0.545844\n",
       "f1                         0.244496\n",
       "precision                  0.139672\n",
       "false positive rate        0.888238\n",
       "false negative rate        0.020073\n",
       "selection rate             0.900000\n",
       "count                  89710.000000\n",
       "dtype: float64"
      ]
     },
     "execution_count": 57,
     "metadata": {},
     "output_type": "execute_result"
    }
   ],
   "source": [
    "metric_frame.overall"
   ]
  },
  {
   "cell_type": "markdown",
   "id": "e968fe9d",
   "metadata": {
    "papermill": {
     "duration": 0.022208,
     "end_time": "2025-08-06T18:04:01.871620",
     "exception": false,
     "start_time": "2025-08-06T18:04:01.849412",
     "status": "completed"
    },
    "tags": []
   },
   "source": [
    "By Group"
   ]
  },
  {
   "cell_type": "code",
   "execution_count": 58,
   "id": "ec325bce",
   "metadata": {
    "execution": {
     "iopub.execute_input": "2025-08-06T18:04:01.917712Z",
     "iopub.status.busy": "2025-08-06T18:04:01.917056Z",
     "iopub.status.idle": "2025-08-06T18:04:01.932372Z",
     "shell.execute_reply": "2025-08-06T18:04:01.931461Z"
    },
    "papermill": {
     "duration": 0.040314,
     "end_time": "2025-08-06T18:04:01.934050",
     "exception": false,
     "start_time": "2025-08-06T18:04:01.893736",
     "status": "completed"
    },
    "tags": []
   },
   "outputs": [
    {
     "data": {
      "text/html": [
       "<div>\n",
       "<style scoped>\n",
       "    .dataframe tbody tr th:only-of-type {\n",
       "        vertical-align: middle;\n",
       "    }\n",
       "\n",
       "    .dataframe tbody tr th {\n",
       "        vertical-align: top;\n",
       "    }\n",
       "\n",
       "    .dataframe thead th {\n",
       "        text-align: right;\n",
       "    }\n",
       "</style>\n",
       "<table border=\"1\" class=\"dataframe\">\n",
       "  <thead>\n",
       "    <tr style=\"text-align: right;\">\n",
       "      <th></th>\n",
       "      <th>accuracy</th>\n",
       "      <th>balanced accuracy</th>\n",
       "      <th>f1</th>\n",
       "      <th>precision</th>\n",
       "      <th>false positive rate</th>\n",
       "      <th>false negative rate</th>\n",
       "      <th>selection rate</th>\n",
       "      <th>count</th>\n",
       "    </tr>\n",
       "    <tr>\n",
       "      <th>majmin</th>\n",
       "      <th></th>\n",
       "      <th></th>\n",
       "      <th></th>\n",
       "      <th></th>\n",
       "      <th></th>\n",
       "      <th></th>\n",
       "      <th></th>\n",
       "      <th></th>\n",
       "    </tr>\n",
       "  </thead>\n",
       "  <tbody>\n",
       "    <tr>\n",
       "      <th>majority</th>\n",
       "      <td>0.245583</td>\n",
       "      <td>0.555527</td>\n",
       "      <td>0.254944</td>\n",
       "      <td>0.146603</td>\n",
       "      <td>0.865750</td>\n",
       "      <td>0.023195</td>\n",
       "      <td>0.880425</td>\n",
       "      <td>69170.0</td>\n",
       "    </tr>\n",
       "    <tr>\n",
       "      <th>minority</th>\n",
       "      <td>0.147517</td>\n",
       "      <td>0.514726</td>\n",
       "      <td>0.211545</td>\n",
       "      <td>0.118397</td>\n",
       "      <td>0.962525</td>\n",
       "      <td>0.008024</td>\n",
       "      <td>0.965920</td>\n",
       "      <td>20540.0</td>\n",
       "    </tr>\n",
       "  </tbody>\n",
       "</table>\n",
       "</div>"
      ],
      "text/plain": [
       "          accuracy  balanced accuracy        f1  precision  \\\n",
       "majmin                                                       \n",
       "majority  0.245583           0.555527  0.254944   0.146603   \n",
       "minority  0.147517           0.514726  0.211545   0.118397   \n",
       "\n",
       "          false positive rate  false negative rate  selection rate    count  \n",
       "majmin                                                                       \n",
       "majority             0.865750             0.023195        0.880425  69170.0  \n",
       "minority             0.962525             0.008024        0.965920  20540.0  "
      ]
     },
     "execution_count": 58,
     "metadata": {},
     "output_type": "execute_result"
    }
   ],
   "source": [
    "metric_frame.by_group"
   ]
  },
  {
   "cell_type": "code",
   "execution_count": 59,
   "id": "a9ddbe63",
   "metadata": {
    "execution": {
     "iopub.execute_input": "2025-08-06T18:04:01.982091Z",
     "iopub.status.busy": "2025-08-06T18:04:01.981430Z",
     "iopub.status.idle": "2025-08-06T18:04:04.274029Z",
     "shell.execute_reply": "2025-08-06T18:04:04.273019Z"
    },
    "papermill": {
     "duration": 2.318454,
     "end_time": "2025-08-06T18:04:04.275815",
     "exception": false,
     "start_time": "2025-08-06T18:04:01.957361",
     "status": "completed"
    },
    "tags": []
   },
   "outputs": [
    {
     "data": {
      "text/plain": [
       "array([[<Axes: title={'center': 'accuracy'}, xlabel='majmin'>,\n",
       "        <Axes: title={'center': 'balanced accuracy'}, xlabel='majmin'>,\n",
       "        <Axes: title={'center': 'f1'}, xlabel='majmin'>],\n",
       "       [<Axes: title={'center': 'precision'}, xlabel='majmin'>,\n",
       "        <Axes: title={'center': 'false positive rate'}, xlabel='majmin'>,\n",
       "        <Axes: title={'center': 'false negative rate'}, xlabel='majmin'>],\n",
       "       [<Axes: title={'center': 'selection rate'}, xlabel='majmin'>,\n",
       "        <Axes: title={'center': 'count'}, xlabel='majmin'>,\n",
       "        <Axes: xlabel='majmin'>]], dtype=object)"
      ]
     },
     "execution_count": 59,
     "metadata": {},
     "output_type": "execute_result"
    },
    {
     "data": {
      "image/png": "[encoded data removed]",
      "text/plain": [
       "<Figure size 1200x800 with 9 Axes>"
      ]
     },
     "metadata": {},
     "output_type": "display_data"
    }
   ],
   "source": [
    "# In a graphic\n",
    "metric_frame.by_group.plot.bar(\n",
    "    subplots=True,\n",
    "    layout=[3, 3],\n",
    "    legend=False,\n",
    "    figsize=[12, 8],\n",
    "    title=\"Show all metrics\",\n",
    ")"
   ]
  },
  {
   "cell_type": "markdown",
   "id": "f57a0bac",
   "metadata": {
    "papermill": {
     "duration": 0.021542,
     "end_time": "2025-08-06T18:04:04.320237",
     "exception": false,
     "start_time": "2025-08-06T18:04:04.298695",
     "status": "completed"
    },
    "tags": []
   },
   "source": [
    "# Final Output"
   ]
  },
  {
   "cell_type": "code",
   "execution_count": 60,
   "id": "96d280a3",
   "metadata": {
    "execution": {
     "iopub.execute_input": "2025-08-06T18:04:04.349005Z",
     "iopub.status.busy": "2025-08-06T18:04:04.348327Z",
     "iopub.status.idle": "2025-08-06T18:04:04.355826Z",
     "shell.execute_reply": "2025-08-06T18:04:04.355162Z"
    },
    "papermill": {
     "duration": 0.022977,
     "end_time": "2025-08-06T18:04:04.357006",
     "exception": false,
     "start_time": "2025-08-06T18:04:04.334029",
     "status": "completed"
    },
    "tags": []
   },
   "outputs": [
    {
     "data": {
      "text/plain": [
       "4"
      ]
     },
     "execution_count": 60,
     "metadata": {},
     "output_type": "execute_result"
    }
   ],
   "source": [
    "sub_universes = universe_analysis.generate_sub_universes()\n",
    "len(sub_universes)"
   ]
  },
  {
   "cell_type": "code",
   "execution_count": 61,
   "id": "92adf7ba",
   "metadata": {
    "execution": {
     "iopub.execute_input": "2025-08-06T18:04:04.397248Z",
     "iopub.status.busy": "2025-08-06T18:04:04.396744Z",
     "iopub.status.idle": "2025-08-06T18:04:04.403254Z",
     "shell.execute_reply": "2025-08-06T18:04:04.402237Z"
    },
    "papermill": {
     "duration": 0.033692,
     "end_time": "2025-08-06T18:04:04.404991",
     "exception": false,
     "start_time": "2025-08-06T18:04:04.371299",
     "status": "completed"
    },
    "tags": []
   },
   "outputs": [],
   "source": [
    "def filter_sub_universe_data(sub_universe, org_test):\n",
    "    # Keep all rows — no filtering\n",
    "    keep_rows_mask = np.ones(org_test.shape[0], dtype=bool)\n",
    "\n",
    "    print(f\"[INFO] Keeping all rows: {keep_rows_mask.sum()} rows retained.\")\n",
    "    return keep_rows_mask"
   ]
  },
  {
   "cell_type": "code",
   "execution_count": 62,
   "id": "4a759155",
   "metadata": {
    "execution": {
     "iopub.execute_input": "2025-08-06T18:04:04.455341Z",
     "iopub.status.busy": "2025-08-06T18:04:04.454859Z",
     "iopub.status.idle": "2025-08-06T18:04:15.088165Z",
     "shell.execute_reply": "2025-08-06T18:04:15.087090Z"
    },
    "papermill": {
     "duration": 10.660582,
     "end_time": "2025-08-06T18:04:15.089767",
     "exception": false,
     "start_time": "2025-08-06T18:04:04.429185",
     "status": "completed"
    },
    "tags": []
   },
   "outputs": [
    {
     "name": "stdout",
     "output_type": "stream",
     "text": [
      "Stopping execution_time clock.\n",
      "[INFO] Keeping all rows: 89710 rows retained.\n"
     ]
    },
    {
     "name": "stdout",
     "output_type": "stream",
     "text": [
      "[INFO] Keeping all rows: 89710 rows retained.\n"
     ]
    },
    {
     "name": "stdout",
     "output_type": "stream",
     "text": [
      "[INFO] Keeping all rows: 89710 rows retained.\n"
     ]
    },
    {
     "name": "stdout",
     "output_type": "stream",
     "text": [
      "[INFO] Keeping all rows: 89710 rows retained.\n"
     ]
    },
    {
     "data": {
      "text/html": [
       "<div>\n",
       "<style scoped>\n",
       "    .dataframe tbody tr th:only-of-type {\n",
       "        vertical-align: middle;\n",
       "    }\n",
       "\n",
       "    .dataframe tbody tr th {\n",
       "        vertical-align: top;\n",
       "    }\n",
       "\n",
       "    .dataframe thead th {\n",
       "        text-align: right;\n",
       "    }\n",
       "</style>\n",
       "<table border=\"1\" class=\"dataframe\">\n",
       "  <thead>\n",
       "    <tr style=\"text-align: right;\">\n",
       "      <th></th>\n",
       "      <th>run_no</th>\n",
       "      <th>universe_id</th>\n",
       "      <th>universe_settings</th>\n",
       "      <th>execution_time</th>\n",
       "      <th>test_size_n</th>\n",
       "      <th>test_size_frac</th>\n",
       "      <th>fair_main_equalized_odds_difference</th>\n",
       "      <th>fair_main_equalized_odds_ratio</th>\n",
       "      <th>fair_main_demographic_parity_difference</th>\n",
       "      <th>fair_main_demographic_parity_ratio</th>\n",
       "      <th>...</th>\n",
       "      <th>perf_grp_precision_0</th>\n",
       "      <th>perf_grp_precision_1</th>\n",
       "      <th>perf_grp_false positive rate_0</th>\n",
       "      <th>perf_grp_false positive rate_1</th>\n",
       "      <th>perf_grp_false negative rate_0</th>\n",
       "      <th>perf_grp_false negative rate_1</th>\n",
       "      <th>perf_grp_selection rate_0</th>\n",
       "      <th>perf_grp_selection rate_1</th>\n",
       "      <th>perf_grp_count_0</th>\n",
       "      <th>perf_grp_count_1</th>\n",
       "    </tr>\n",
       "  </thead>\n",
       "  <tbody>\n",
       "    <tr>\n",
       "      <th>0</th>\n",
       "      <td>1</td>\n",
       "      <td>f9e77d68c4ffbc01aa2a921b2adc2c77</td>\n",
       "      <td>{\"cutoff\": \"quantile_0.1\", \"eval_fairness_grou...</td>\n",
       "      <td>29.770821</td>\n",
       "      <td>89710</td>\n",
       "      <td>1.0</td>\n",
       "      <td>0.096774</td>\n",
       "      <td>0.899458</td>\n",
       "      <td>0.085495</td>\n",
       "      <td>0.911488</td>\n",
       "      <td>...</td>\n",
       "      <td>NaN</td>\n",
       "      <td>NaN</td>\n",
       "      <td>NaN</td>\n",
       "      <td>NaN</td>\n",
       "      <td>NaN</td>\n",
       "      <td>NaN</td>\n",
       "      <td>NaN</td>\n",
       "      <td>NaN</td>\n",
       "      <td>NaN</td>\n",
       "      <td>NaN</td>\n",
       "    </tr>\n",
       "    <tr>\n",
       "      <th>0</th>\n",
       "      <td>1</td>\n",
       "      <td>f9e77d68c4ffbc01aa2a921b2adc2c77</td>\n",
       "      <td>{\"cutoff\": \"quantile_0.1\", \"eval_fairness_grou...</td>\n",
       "      <td>29.770821</td>\n",
       "      <td>89710</td>\n",
       "      <td>1.0</td>\n",
       "      <td>0.096774</td>\n",
       "      <td>0.899458</td>\n",
       "      <td>0.085495</td>\n",
       "      <td>0.911488</td>\n",
       "      <td>...</td>\n",
       "      <td>0.118397</td>\n",
       "      <td>0.146603</td>\n",
       "      <td>0.962525</td>\n",
       "      <td>0.86575</td>\n",
       "      <td>0.008024</td>\n",
       "      <td>0.023195</td>\n",
       "      <td>0.965920</td>\n",
       "      <td>0.880425</td>\n",
       "      <td>20540.0</td>\n",
       "      <td>69170.0</td>\n",
       "    </tr>\n",
       "    <tr>\n",
       "      <th>0</th>\n",
       "      <td>1</td>\n",
       "      <td>f9e77d68c4ffbc01aa2a921b2adc2c77</td>\n",
       "      <td>{\"cutoff\": \"quantile_0.25\", \"eval_fairness_gro...</td>\n",
       "      <td>29.770821</td>\n",
       "      <td>89710</td>\n",
       "      <td>1.0</td>\n",
       "      <td>0.099042</td>\n",
       "      <td>0.876150</td>\n",
       "      <td>0.084997</td>\n",
       "      <td>0.895777</td>\n",
       "      <td>...</td>\n",
       "      <td>NaN</td>\n",
       "      <td>NaN</td>\n",
       "      <td>NaN</td>\n",
       "      <td>NaN</td>\n",
       "      <td>NaN</td>\n",
       "      <td>NaN</td>\n",
       "      <td>NaN</td>\n",
       "      <td>NaN</td>\n",
       "      <td>NaN</td>\n",
       "      <td>NaN</td>\n",
       "    </tr>\n",
       "    <tr>\n",
       "      <th>0</th>\n",
       "      <td>1</td>\n",
       "      <td>f9e77d68c4ffbc01aa2a921b2adc2c77</td>\n",
       "      <td>{\"cutoff\": \"quantile_0.25\", \"eval_fairness_gro...</td>\n",
       "      <td>29.770821</td>\n",
       "      <td>89710</td>\n",
       "      <td>1.0</td>\n",
       "      <td>0.099042</td>\n",
       "      <td>0.876150</td>\n",
       "      <td>0.084997</td>\n",
       "      <td>0.895777</td>\n",
       "      <td>...</td>\n",
       "      <td>0.132470</td>\n",
       "      <td>0.167640</td>\n",
       "      <td>0.799692</td>\n",
       "      <td>0.70065</td>\n",
       "      <td>0.062922</td>\n",
       "      <td>0.073195</td>\n",
       "      <td>0.815531</td>\n",
       "      <td>0.730533</td>\n",
       "      <td>20540.0</td>\n",
       "      <td>69170.0</td>\n",
       "    </tr>\n",
       "  </tbody>\n",
       "</table>\n",
       "<p>4 rows × 50 columns</p>\n",
       "</div>"
      ],
      "text/plain": [
       "  run_no                       universe_id  \\\n",
       "0      1  f9e77d68c4ffbc01aa2a921b2adc2c77   \n",
       "0      1  f9e77d68c4ffbc01aa2a921b2adc2c77   \n",
       "0      1  f9e77d68c4ffbc01aa2a921b2adc2c77   \n",
       "0      1  f9e77d68c4ffbc01aa2a921b2adc2c77   \n",
       "\n",
       "                                   universe_settings  execution_time  \\\n",
       "0  {\"cutoff\": \"quantile_0.1\", \"eval_fairness_grou...       29.770821   \n",
       "0  {\"cutoff\": \"quantile_0.1\", \"eval_fairness_grou...       29.770821   \n",
       "0  {\"cutoff\": \"quantile_0.25\", \"eval_fairness_gro...       29.770821   \n",
       "0  {\"cutoff\": \"quantile_0.25\", \"eval_fairness_gro...       29.770821   \n",
       "\n",
       "   test_size_n  test_size_frac  fair_main_equalized_odds_difference  \\\n",
       "0        89710             1.0                             0.096774   \n",
       "0        89710             1.0                             0.096774   \n",
       "0        89710             1.0                             0.099042   \n",
       "0        89710             1.0                             0.099042   \n",
       "\n",
       "   fair_main_equalized_odds_ratio  fair_main_demographic_parity_difference  \\\n",
       "0                        0.899458                                 0.085495   \n",
       "0                        0.899458                                 0.085495   \n",
       "0                        0.876150                                 0.084997   \n",
       "0                        0.876150                                 0.084997   \n",
       "\n",
       "   fair_main_demographic_parity_ratio  ...  perf_grp_precision_0  \\\n",
       "0                            0.911488  ...                   NaN   \n",
       "0                            0.911488  ...              0.118397   \n",
       "0                            0.895777  ...                   NaN   \n",
       "0                            0.895777  ...              0.132470   \n",
       "\n",
       "   perf_grp_precision_1  perf_grp_false positive rate_0  \\\n",
       "0                   NaN                             NaN   \n",
       "0              0.146603                        0.962525   \n",
       "0                   NaN                             NaN   \n",
       "0              0.167640                        0.799692   \n",
       "\n",
       "   perf_grp_false positive rate_1  perf_grp_false negative rate_0  \\\n",
       "0                             NaN                             NaN   \n",
       "0                         0.86575                        0.008024   \n",
       "0                             NaN                             NaN   \n",
       "0                         0.70065                        0.062922   \n",
       "\n",
       "   perf_grp_false negative rate_1  perf_grp_selection rate_0  \\\n",
       "0                             NaN                        NaN   \n",
       "0                        0.023195                   0.965920   \n",
       "0                             NaN                        NaN   \n",
       "0                        0.073195                   0.815531   \n",
       "\n",
       "   perf_grp_selection rate_1  perf_grp_count_0  perf_grp_count_1  \n",
       "0                        NaN               NaN               NaN  \n",
       "0                   0.880425           20540.0           69170.0  \n",
       "0                        NaN               NaN               NaN  \n",
       "0                   0.730533           20540.0           69170.0  \n",
       "\n",
       "[4 rows x 50 columns]"
      ]
     },
     "execution_count": 62,
     "metadata": {},
     "output_type": "execute_result"
    }
   ],
   "source": [
    "final_output = universe_analysis.generate_final_output(\n",
    "    y_pred_prob=probs_test,\n",
    "    y_test=y_true,\n",
    "    org_test=org_test,\n",
    "    filter_data=filter_sub_universe_data,\n",
    "    cp_metrics_df=cp_metrics_df,\n",
    "    save=True,\n",
    ")\n",
    "final_output"
   ]
  },
  {
   "cell_type": "code",
   "execution_count": null,
   "id": "571f9a0f-660a-4841-b661-b06fbc637944",
   "metadata": {
    "papermill": {
     "duration": 0.027154,
     "end_time": "2025-08-06T18:04:15.145303",
     "exception": false,
     "start_time": "2025-08-06T18:04:15.118149",
     "status": "completed"
    },
    "tags": []
   },
   "outputs": [],
   "source": []
  },
  {
   "cell_type": "code",
   "execution_count": null,
   "id": "529482e3-0150-4854-a92d-ab864efc606e",
   "metadata": {
    "papermill": {
     "duration": 0.026244,
     "end_time": "2025-08-06T18:04:15.197096",
     "exception": false,
     "start_time": "2025-08-06T18:04:15.170852",
     "status": "completed"
    },
    "tags": []
   },
   "outputs": [],
   "source": []
  }
 ],
 "metadata": {
  "celltoolbar": "Tags",
  "kernelspec": {
   "display_name": "Python (CMA Fairness)",
   "language": "python",
   "name": "cma_fair_env"
  },
  "language_info": {
   "codemirror_mode": {
    "name": "ipython",
    "version": 3
   },
   "file_extension": ".py",
   "mimetype": "text/x-python",
   "name": "python",
   "nbconvert_exporter": "python",
   "pygments_lexer": "ipython3",
   "version": "3.10.12"
  },
  "papermill": {
   "default_parameters": {},
   "duration": 44.674431,
   "end_time": "2025-08-06T18:04:15.943029",
   "environment_variables": {},
   "exception": null,
   "input_path": "universe_analysis.ipynb",
   "output_path": "output/runs/1/notebooks/m_1-f9e77d68c4ffbc01aa2a921b2adc2c77.ipynb",
   "parameters": {
    "output_dir": "output",
    "run_no": "1",
    "seed": "2023",
    "universe": "{\"cutoff\": [\"quantile_0.1\", \"quantile_0.25\"], \"eval_fairness_grouping\": [\"majority-minority\", \"nationality-all\"], \"exclude_features\": \"none\", \"exclude_subgroups\": \"keep-all\", \"model\": \"gbm\", \"scale\": \"do-not-scale\", \"training_size\": \"1k\", \"training_year\": \"2012_14\"}",
    "universe_id": "f9e77d68c4ffbc01aa2a921b2adc2c77"
   },
   "start_time": "2025-08-06T18:03:31.268598",
   "version": "2.6.0"
  }
 },
 "nbformat": 4,
 "nbformat_minor": 5
}