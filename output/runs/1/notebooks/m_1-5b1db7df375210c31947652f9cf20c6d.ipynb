{
 "cells": [
  {
   "cell_type": "markdown",
   "id": "b2057076-3a91-4cfa-9bfd-eab1e61b3068",
   "metadata": {
    "papermill": {
     "duration": 0.015548,
     "end_time": "2025-08-06T17:50:07.648378",
     "exception": false,
     "start_time": "2025-08-06T17:50:07.632830",
     "status": "completed"
    },
    "tags": []
   },
   "source": [
    "# Setup"
   ]
  },
  {
   "cell_type": "code",
   "execution_count": 1,
   "id": "f159f837-637b-42ba-96b5-ec9a68c44524",
   "metadata": {
    "execution": {
     "iopub.execute_input": "2025-08-06T17:50:07.683277Z",
     "iopub.status.busy": "2025-08-06T17:50:07.682575Z",
     "iopub.status.idle": "2025-08-06T17:50:07.696243Z",
     "shell.execute_reply": "2025-08-06T17:50:07.695247Z"
    },
    "papermill": {
     "duration": 0.032508,
     "end_time": "2025-08-06T17:50:07.697831",
     "exception": false,
     "start_time": "2025-08-06T17:50:07.665323",
     "status": "completed"
    },
    "tags": []
   },
   "outputs": [
    {
     "name": "stdout",
     "output_type": "stream",
     "text": [
      "/dss/dsshome1/0C/ra93lal2/cma/CMA_Fairness_v2\n"
     ]
    },
    {
     "name": "stderr",
     "output_type": "stream",
     "text": [
      "/dss/dsshome1/0C/ra93lal2/.local/share/virtualenvs/CMA_Fairness_v2-3j10GkSs/lib/python3.10/site-packages/IPython/core/magics/osm.py:393: UserWarning: This is now an optional IPython functionality, using bookmarks requires you to install the `pickleshare` library.\n",
      "  bkms = self.shell.db.get('bookmarks', {})\n",
      "/dss/dsshome1/0C/ra93lal2/.local/share/virtualenvs/CMA_Fairness_v2-3j10GkSs/lib/python3.10/site-packages/IPython/core/magics/osm.py:417: UserWarning: This is now an optional IPython functionality, setting dhist requires you to install the `pickleshare` library.\n",
      "  self.shell.db['dhist'] = compress_dhist(dhist)[-100:]\n"
     ]
    }
   ],
   "source": [
    "%cd ~/cma/CMA_Fairness_v2"
   ]
  },
  {
   "cell_type": "markdown",
   "id": "de2603b9",
   "metadata": {
    "papermill": {
     "duration": 0.015573,
     "end_time": "2025-08-06T17:50:07.728974",
     "exception": false,
     "start_time": "2025-08-06T17:50:07.713401",
     "status": "completed"
    },
    "tags": []
   },
   "source": [
    "The following cell holds the definition of our parameters, these values can be overriden by rendering the with e.g. the following command:\n",
    "\n",
    "papermill -p alpha 0.2 -p ratio 0.3 universe_analysis.ipynb output/test_run.ipynb"
   ]
  },
  {
   "cell_type": "code",
   "execution_count": 2,
   "id": "a80968a0-40bb-4fa9-85ef-2d5eefb01975",
   "metadata": {
    "execution": {
     "iopub.execute_input": "2025-08-06T17:50:07.761133Z",
     "iopub.status.busy": "2025-08-06T17:50:07.760619Z",
     "iopub.status.idle": "2025-08-06T17:50:07.766314Z",
     "shell.execute_reply": "2025-08-06T17:50:07.765379Z"
    },
    "papermill": {
     "duration": 0.023611,
     "end_time": "2025-08-06T17:50:07.767859",
     "exception": false,
     "start_time": "2025-08-06T17:50:07.744248",
     "status": "completed"
    },
    "tags": []
   },
   "outputs": [
    {
     "name": "stdout",
     "output_type": "stream",
     "text": [
      "Current working directory: /dss/dsshome1/0C/ra93lal2/cma/CMA_Fairness_v2\n"
     ]
    }
   ],
   "source": [
    "import os\n",
    "print(\"Current working directory:\", os.getcwd())"
   ]
  },
  {
   "cell_type": "code",
   "execution_count": 3,
   "id": "2dce4c03",
   "metadata": {
    "execution": {
     "iopub.execute_input": "2025-08-06T17:50:07.800202Z",
     "iopub.status.busy": "2025-08-06T17:50:07.799393Z",
     "iopub.status.idle": "2025-08-06T17:50:07.805702Z",
     "shell.execute_reply": "2025-08-06T17:50:07.804750Z"
    },
    "papermill": {
     "duration": 0.023702,
     "end_time": "2025-08-06T17:50:07.807195",
     "exception": false,
     "start_time": "2025-08-06T17:50:07.783493",
     "status": "completed"
    },
    "tags": [
     "parameters"
    ]
   },
   "outputs": [],
   "source": [
    "run_no = 0\n",
    "universe_id = \"test\"\n",
    "universe = {\n",
    "    \"training_size\": \"5k\", # \"25k\", \"5k\", \"1k\"\n",
    "    \"training_year\": \"2012_14\", # \"2014\", \"2012_14\", \"2010_14\"\n",
    "    \"scale\": \"scale\", # \"scale\", \"do-not-scale\",\n",
    "    \"model\": \"elasticnet\", # \"logreg\", \"penalized_logreg\", \"rf\", \"gbm\", \"elasticnet\"\n",
    "    \"cutoff\": [\"quantile_0.15\", \"quantile_0.30\"],\n",
    "    \"exclude_features\": \"age\", # \"none\", \"nationality\", \"sex\", \"nationality-sex\", \"age\"\n",
    "    \"exclude_subgroups\": \"drop-non-german\", # \"keep-all\", \"drop-non-german\"\n",
    "    \"eval_fairness_grouping\": [\"majority-minority\", \"nationality-all\"]\n",
    "}\n",
    "\n",
    "output_dir=\"./output\"\n",
    "seed=0"
   ]
  },
  {
   "cell_type": "code",
   "execution_count": 4,
   "id": "7de89e94",
   "metadata": {
    "execution": {
     "iopub.execute_input": "2025-08-06T17:50:07.840408Z",
     "iopub.status.busy": "2025-08-06T17:50:07.839640Z",
     "iopub.status.idle": "2025-08-06T17:50:07.845099Z",
     "shell.execute_reply": "2025-08-06T17:50:07.844144Z"
    },
    "papermill": {
     "duration": 0.023245,
     "end_time": "2025-08-06T17:50:07.846563",
     "exception": false,
     "start_time": "2025-08-06T17:50:07.823318",
     "status": "completed"
    },
    "tags": [
     "injected-parameters"
    ]
   },
   "outputs": [],
   "source": [
    "# Parameters\n",
    "universe_id = \"5b1db7df375210c31947652f9cf20c6d\"\n",
    "run_no = \"1\"\n",
    "universe = \"{\\\"cutoff\\\": [\\\"quantile_0.1\\\", \\\"quantile_0.25\\\"], \\\"eval_fairness_grouping\\\": [\\\"majority-minority\\\", \\\"nationality-all\\\"], \\\"exclude_features\\\": \\\"none\\\", \\\"exclude_subgroups\\\": \\\"drop-non-german\\\", \\\"model\\\": \\\"elasticnet\\\", \\\"scale\\\": \\\"scale\\\", \\\"training_size\\\": \\\"1k\\\", \\\"training_year\\\": \\\"2014\\\"}\"\n",
    "output_dir = \"output\"\n",
    "seed = \"2023\"\n"
   ]
  },
  {
   "cell_type": "code",
   "execution_count": 5,
   "id": "1650acaf",
   "metadata": {
    "execution": {
     "iopub.execute_input": "2025-08-06T17:50:07.881060Z",
     "iopub.status.busy": "2025-08-06T17:50:07.880383Z",
     "iopub.status.idle": "2025-08-06T17:50:07.886725Z",
     "shell.execute_reply": "2025-08-06T17:50:07.885611Z"
    },
    "papermill": {
     "duration": 0.025264,
     "end_time": "2025-08-06T17:50:07.888457",
     "exception": false,
     "start_time": "2025-08-06T17:50:07.863193",
     "status": "completed"
    },
    "tags": []
   },
   "outputs": [],
   "source": [
    "import json\n",
    "if isinstance(universe, str):\n",
    "    universe = json.loads(universe)"
   ]
  },
  {
   "cell_type": "code",
   "execution_count": 6,
   "id": "16620c48",
   "metadata": {
    "execution": {
     "iopub.execute_input": "2025-08-06T17:50:07.924148Z",
     "iopub.status.busy": "2025-08-06T17:50:07.923460Z",
     "iopub.status.idle": "2025-08-06T17:50:07.965972Z",
     "shell.execute_reply": "2025-08-06T17:50:07.965047Z"
    },
    "papermill": {
     "duration": 0.062172,
     "end_time": "2025-08-06T17:50:07.968179",
     "exception": false,
     "start_time": "2025-08-06T17:50:07.906007",
     "status": "completed"
    },
    "tags": []
   },
   "outputs": [],
   "source": [
    "# Auto-reload the custom package\n",
    "%load_ext autoreload\n",
    "%autoreload 1\n",
    "%aimport fairness_multiverse"
   ]
  },
  {
   "cell_type": "code",
   "execution_count": 7,
   "id": "01c5c9f3",
   "metadata": {
    "execution": {
     "iopub.execute_input": "2025-08-06T17:50:08.002571Z",
     "iopub.status.busy": "2025-08-06T17:50:08.001718Z",
     "iopub.status.idle": "2025-08-06T17:50:09.944750Z",
     "shell.execute_reply": "2025-08-06T17:50:09.943804Z"
    },
    "papermill": {
     "duration": 1.961887,
     "end_time": "2025-08-06T17:50:09.946552",
     "exception": false,
     "start_time": "2025-08-06T17:50:07.984665",
     "status": "completed"
    },
    "tags": []
   },
   "outputs": [],
   "source": [
    "from fairness_multiverse.universe import UniverseAnalysis\n",
    "\n",
    "universe_analysis = UniverseAnalysis(\n",
    "    run_no = run_no,\n",
    "    universe_id = universe_id,\n",
    "    universe = universe,\n",
    "    output_dir=output_dir,\n",
    ")"
   ]
  },
  {
   "cell_type": "code",
   "execution_count": 8,
   "id": "106241f5",
   "metadata": {
    "execution": {
     "iopub.execute_input": "2025-08-06T17:50:09.981079Z",
     "iopub.status.busy": "2025-08-06T17:50:09.980738Z",
     "iopub.status.idle": "2025-08-06T17:50:09.986567Z",
     "shell.execute_reply": "2025-08-06T17:50:09.985738Z"
    },
    "papermill": {
     "duration": 0.024561,
     "end_time": "2025-08-06T17:50:09.988064",
     "exception": false,
     "start_time": "2025-08-06T17:50:09.963503",
     "status": "completed"
    },
    "tags": []
   },
   "outputs": [
    {
     "name": "stdout",
     "output_type": "stream",
     "text": [
      "Using Seed: 2023\n"
     ]
    }
   ],
   "source": [
    "import numpy as np\n",
    "parsed_seed = int(seed)\n",
    "np.random.seed(parsed_seed)\n",
    "print(f\"Using Seed: {parsed_seed}\")"
   ]
  },
  {
   "cell_type": "markdown",
   "id": "e0ebdc57",
   "metadata": {
    "papermill": {
     "duration": 0.01547,
     "end_time": "2025-08-06T17:50:10.019425",
     "exception": false,
     "start_time": "2025-08-06T17:50:10.003955",
     "status": "completed"
    },
    "tags": []
   },
   "source": [
    "# Loading Data"
   ]
  },
  {
   "cell_type": "code",
   "execution_count": 9,
   "id": "f0496b8a",
   "metadata": {
    "execution": {
     "iopub.execute_input": "2025-08-06T17:50:10.052934Z",
     "iopub.status.busy": "2025-08-06T17:50:10.052083Z",
     "iopub.status.idle": "2025-08-06T17:50:21.009888Z",
     "shell.execute_reply": "2025-08-06T17:50:21.008901Z"
    },
    "papermill": {
     "duration": 10.975742,
     "end_time": "2025-08-06T17:50:21.011237",
     "exception": false,
     "start_time": "2025-08-06T17:50:10.035495",
     "status": "completed"
    },
    "tags": []
   },
   "outputs": [
    {
     "name": "stdout",
     "output_type": "stream",
     "text": [
      "Loading SIAB data from cache: data/siab_cached.csv.gz\n"
     ]
    },
    {
     "name": "stdout",
     "output_type": "stream",
     "text": [
      "(643690, 164)\n"
     ]
    }
   ],
   "source": [
    "from pathlib import Path\n",
    "import pandas as pd\n",
    "\n",
    "# File paths\n",
    "raw_file = Path(\"data/raw/siab.csv\")\n",
    "cache_file = Path(\"data/siab_cached.csv.gz\")\n",
    "\n",
    "# Ensure cache directory exists\n",
    "cache_file.parent.mkdir(parents=True, exist_ok=True)\n",
    "\n",
    "# Load with simple caching\n",
    "if cache_file.exists():\n",
    "    print(f\"Loading SIAB data from cache: {cache_file}\")\n",
    "    siab = pd.read_csv(cache_file, compression='gzip')\n",
    "else:\n",
    "    print(f\"Cache not found. Reading raw SIAB data: {raw_file}\")\n",
    "    siab = pd.read_csv(raw_file)\n",
    "    siab.to_csv(cache_file, index=False, compression='gzip')\n",
    "    print(f\"Cached SIAB data to: {cache_file}\")\n",
    "\n",
    "print(siab.shape)"
   ]
  },
  {
   "cell_type": "code",
   "execution_count": 10,
   "id": "db0ca512-5f53-4dba-abdb-a2888bca41ba",
   "metadata": {
    "execution": {
     "iopub.execute_input": "2025-08-06T17:50:21.032122Z",
     "iopub.status.busy": "2025-08-06T17:50:21.031755Z",
     "iopub.status.idle": "2025-08-06T17:50:21.130867Z",
     "shell.execute_reply": "2025-08-06T17:50:21.129253Z"
    },
    "papermill": {
     "duration": 0.110239,
     "end_time": "2025-08-06T17:50:21.132575",
     "exception": false,
     "start_time": "2025-08-06T17:50:21.022336",
     "status": "completed"
    },
    "tags": []
   },
   "outputs": [
    {
     "data": {
      "text/html": [
       "<div>\n",
       "<style scoped>\n",
       "    .dataframe tbody tr th:only-of-type {\n",
       "        vertical-align: middle;\n",
       "    }\n",
       "\n",
       "    .dataframe tbody tr th {\n",
       "        vertical-align: top;\n",
       "    }\n",
       "\n",
       "    .dataframe thead th {\n",
       "        text-align: right;\n",
       "    }\n",
       "</style>\n",
       "<table border=\"1\" class=\"dataframe\">\n",
       "  <thead>\n",
       "    <tr style=\"text-align: right;\">\n",
       "      <th></th>\n",
       "      <th>persnr</th>\n",
       "      <th>year</th>\n",
       "      <th>nrEntry</th>\n",
       "      <th>ltue</th>\n",
       "      <th>employed_before</th>\n",
       "      <th>receipt_leh_before</th>\n",
       "      <th>receipt_lhg_before</th>\n",
       "      <th>se_before</th>\n",
       "      <th>ASU_notue_seeking_before</th>\n",
       "      <th>ASU_other_before</th>\n",
       "      <th>...</th>\n",
       "      <th>minijob_tot_dur_byage</th>\n",
       "      <th>ft_tot_dur_byage</th>\n",
       "      <th>befrist_tot_dur_byage</th>\n",
       "      <th>leih_tot_dur_byage</th>\n",
       "      <th>LHG_tot_dur_byage</th>\n",
       "      <th>LEH_tot_dur_byage</th>\n",
       "      <th>almp_tot_dur_byage</th>\n",
       "      <th>almp_aw_tot_dur_byage</th>\n",
       "      <th>se_tot_dur_byage</th>\n",
       "      <th>seeking1_tot_dur_byage</th>\n",
       "    </tr>\n",
       "  </thead>\n",
       "  <tbody>\n",
       "    <tr>\n",
       "      <th>0</th>\n",
       "      <td>7</td>\n",
       "      <td>2015</td>\n",
       "      <td>1</td>\n",
       "      <td>0</td>\n",
       "      <td>1</td>\n",
       "      <td>0</td>\n",
       "      <td>0</td>\n",
       "      <td>0</td>\n",
       "      <td>1</td>\n",
       "      <td>0</td>\n",
       "      <td>...</td>\n",
       "      <td>0.000000</td>\n",
       "      <td>0.000000</td>\n",
       "      <td>15.043478</td>\n",
       "      <td>0.000000</td>\n",
       "      <td>0.000000</td>\n",
       "      <td>0.000000</td>\n",
       "      <td>0.000000</td>\n",
       "      <td>0.000000</td>\n",
       "      <td>0.000000</td>\n",
       "      <td>0.000000</td>\n",
       "    </tr>\n",
       "    <tr>\n",
       "      <th>1</th>\n",
       "      <td>18</td>\n",
       "      <td>2010</td>\n",
       "      <td>1</td>\n",
       "      <td>1</td>\n",
       "      <td>0</td>\n",
       "      <td>0</td>\n",
       "      <td>0</td>\n",
       "      <td>0</td>\n",
       "      <td>0</td>\n",
       "      <td>0</td>\n",
       "      <td>...</td>\n",
       "      <td>0.000000</td>\n",
       "      <td>0.000000</td>\n",
       "      <td>0.000000</td>\n",
       "      <td>0.000000</td>\n",
       "      <td>0.000000</td>\n",
       "      <td>0.000000</td>\n",
       "      <td>0.000000</td>\n",
       "      <td>0.000000</td>\n",
       "      <td>0.000000</td>\n",
       "      <td>0.000000</td>\n",
       "    </tr>\n",
       "    <tr>\n",
       "      <th>2</th>\n",
       "      <td>18</td>\n",
       "      <td>2011</td>\n",
       "      <td>2</td>\n",
       "      <td>0</td>\n",
       "      <td>1</td>\n",
       "      <td>0</td>\n",
       "      <td>1</td>\n",
       "      <td>0</td>\n",
       "      <td>1</td>\n",
       "      <td>0</td>\n",
       "      <td>...</td>\n",
       "      <td>2.714286</td>\n",
       "      <td>2.714286</td>\n",
       "      <td>0.000000</td>\n",
       "      <td>0.000000</td>\n",
       "      <td>10.775510</td>\n",
       "      <td>0.000000</td>\n",
       "      <td>8.367347</td>\n",
       "      <td>0.000000</td>\n",
       "      <td>0.000000</td>\n",
       "      <td>9.836735</td>\n",
       "    </tr>\n",
       "    <tr>\n",
       "      <th>3</th>\n",
       "      <td>18</td>\n",
       "      <td>2012</td>\n",
       "      <td>3</td>\n",
       "      <td>0</td>\n",
       "      <td>1</td>\n",
       "      <td>0</td>\n",
       "      <td>1</td>\n",
       "      <td>0</td>\n",
       "      <td>1</td>\n",
       "      <td>0</td>\n",
       "      <td>...</td>\n",
       "      <td>4.200000</td>\n",
       "      <td>4.200000</td>\n",
       "      <td>0.000000</td>\n",
       "      <td>0.000000</td>\n",
       "      <td>12.100000</td>\n",
       "      <td>0.000000</td>\n",
       "      <td>9.400000</td>\n",
       "      <td>0.000000</td>\n",
       "      <td>0.000000</td>\n",
       "      <td>9.960000</td>\n",
       "    </tr>\n",
       "    <tr>\n",
       "      <th>4</th>\n",
       "      <td>18</td>\n",
       "      <td>2012</td>\n",
       "      <td>4</td>\n",
       "      <td>0</td>\n",
       "      <td>1</td>\n",
       "      <td>0</td>\n",
       "      <td>1</td>\n",
       "      <td>0</td>\n",
       "      <td>1</td>\n",
       "      <td>0</td>\n",
       "      <td>...</td>\n",
       "      <td>5.460000</td>\n",
       "      <td>5.460000</td>\n",
       "      <td>0.000000</td>\n",
       "      <td>0.000000</td>\n",
       "      <td>13.360000</td>\n",
       "      <td>0.000000</td>\n",
       "      <td>10.320000</td>\n",
       "      <td>0.000000</td>\n",
       "      <td>0.000000</td>\n",
       "      <td>10.280000</td>\n",
       "    </tr>\n",
       "    <tr>\n",
       "      <th>...</th>\n",
       "      <td>...</td>\n",
       "      <td>...</td>\n",
       "      <td>...</td>\n",
       "      <td>...</td>\n",
       "      <td>...</td>\n",
       "      <td>...</td>\n",
       "      <td>...</td>\n",
       "      <td>...</td>\n",
       "      <td>...</td>\n",
       "      <td>...</td>\n",
       "      <td>...</td>\n",
       "      <td>...</td>\n",
       "      <td>...</td>\n",
       "      <td>...</td>\n",
       "      <td>...</td>\n",
       "      <td>...</td>\n",
       "      <td>...</td>\n",
       "      <td>...</td>\n",
       "      <td>...</td>\n",
       "      <td>...</td>\n",
       "      <td>...</td>\n",
       "    </tr>\n",
       "    <tr>\n",
       "      <th>643685</th>\n",
       "      <td>1827860</td>\n",
       "      <td>2013</td>\n",
       "      <td>1</td>\n",
       "      <td>0</td>\n",
       "      <td>0</td>\n",
       "      <td>0</td>\n",
       "      <td>1</td>\n",
       "      <td>0</td>\n",
       "      <td>0</td>\n",
       "      <td>1</td>\n",
       "      <td>...</td>\n",
       "      <td>0.000000</td>\n",
       "      <td>0.000000</td>\n",
       "      <td>0.000000</td>\n",
       "      <td>0.000000</td>\n",
       "      <td>0.612903</td>\n",
       "      <td>0.000000</td>\n",
       "      <td>0.000000</td>\n",
       "      <td>0.000000</td>\n",
       "      <td>0.000000</td>\n",
       "      <td>0.000000</td>\n",
       "    </tr>\n",
       "    <tr>\n",
       "      <th>643686</th>\n",
       "      <td>1827860</td>\n",
       "      <td>2015</td>\n",
       "      <td>2</td>\n",
       "      <td>1</td>\n",
       "      <td>0</td>\n",
       "      <td>0</td>\n",
       "      <td>1</td>\n",
       "      <td>0</td>\n",
       "      <td>1</td>\n",
       "      <td>0</td>\n",
       "      <td>...</td>\n",
       "      <td>0.000000</td>\n",
       "      <td>0.000000</td>\n",
       "      <td>0.212121</td>\n",
       "      <td>0.212121</td>\n",
       "      <td>17.363636</td>\n",
       "      <td>0.000000</td>\n",
       "      <td>8.909091</td>\n",
       "      <td>0.000000</td>\n",
       "      <td>0.000000</td>\n",
       "      <td>7.121212</td>\n",
       "    </tr>\n",
       "    <tr>\n",
       "      <th>643687</th>\n",
       "      <td>1827860</td>\n",
       "      <td>2016</td>\n",
       "      <td>3</td>\n",
       "      <td>1</td>\n",
       "      <td>0</td>\n",
       "      <td>0</td>\n",
       "      <td>1</td>\n",
       "      <td>1</td>\n",
       "      <td>0</td>\n",
       "      <td>1</td>\n",
       "      <td>...</td>\n",
       "      <td>0.000000</td>\n",
       "      <td>0.000000</td>\n",
       "      <td>0.294118</td>\n",
       "      <td>0.205882</td>\n",
       "      <td>34.705882</td>\n",
       "      <td>0.000000</td>\n",
       "      <td>10.352941</td>\n",
       "      <td>1.705882</td>\n",
       "      <td>1.705882</td>\n",
       "      <td>23.911765</td>\n",
       "    </tr>\n",
       "    <tr>\n",
       "      <th>643688</th>\n",
       "      <td>1827869</td>\n",
       "      <td>2013</td>\n",
       "      <td>1</td>\n",
       "      <td>1</td>\n",
       "      <td>1</td>\n",
       "      <td>0</td>\n",
       "      <td>0</td>\n",
       "      <td>0</td>\n",
       "      <td>1</td>\n",
       "      <td>0</td>\n",
       "      <td>...</td>\n",
       "      <td>0.000000</td>\n",
       "      <td>0.000000</td>\n",
       "      <td>0.000000</td>\n",
       "      <td>0.000000</td>\n",
       "      <td>0.000000</td>\n",
       "      <td>0.525424</td>\n",
       "      <td>0.000000</td>\n",
       "      <td>0.000000</td>\n",
       "      <td>0.000000</td>\n",
       "      <td>0.000000</td>\n",
       "    </tr>\n",
       "    <tr>\n",
       "      <th>643689</th>\n",
       "      <td>1827869</td>\n",
       "      <td>2014</td>\n",
       "      <td>2</td>\n",
       "      <td>0</td>\n",
       "      <td>0</td>\n",
       "      <td>1</td>\n",
       "      <td>0</td>\n",
       "      <td>0</td>\n",
       "      <td>1</td>\n",
       "      <td>0</td>\n",
       "      <td>...</td>\n",
       "      <td>0.000000</td>\n",
       "      <td>0.666667</td>\n",
       "      <td>0.666667</td>\n",
       "      <td>0.000000</td>\n",
       "      <td>0.000000</td>\n",
       "      <td>8.950000</td>\n",
       "      <td>1.033333</td>\n",
       "      <td>0.083333</td>\n",
       "      <td>0.083333</td>\n",
       "      <td>8.133333</td>\n",
       "    </tr>\n",
       "  </tbody>\n",
       "</table>\n",
       "<p>643690 rows × 164 columns</p>\n",
       "</div>"
      ],
      "text/plain": [
       "         persnr  year  nrEntry  ltue  employed_before  receipt_leh_before  \\\n",
       "0             7  2015        1     0                1                   0   \n",
       "1            18  2010        1     1                0                   0   \n",
       "2            18  2011        2     0                1                   0   \n",
       "3            18  2012        3     0                1                   0   \n",
       "4            18  2012        4     0                1                   0   \n",
       "...         ...   ...      ...   ...              ...                 ...   \n",
       "643685  1827860  2013        1     0                0                   0   \n",
       "643686  1827860  2015        2     1                0                   0   \n",
       "643687  1827860  2016        3     1                0                   0   \n",
       "643688  1827869  2013        1     1                1                   0   \n",
       "643689  1827869  2014        2     0                0                   1   \n",
       "\n",
       "        receipt_lhg_before  se_before  ASU_notue_seeking_before  \\\n",
       "0                        0          0                         1   \n",
       "1                        0          0                         0   \n",
       "2                        1          0                         1   \n",
       "3                        1          0                         1   \n",
       "4                        1          0                         1   \n",
       "...                    ...        ...                       ...   \n",
       "643685                   1          0                         0   \n",
       "643686                   1          0                         1   \n",
       "643687                   1          1                         0   \n",
       "643688                   0          0                         1   \n",
       "643689                   0          0                         1   \n",
       "\n",
       "        ASU_other_before  ...  minijob_tot_dur_byage  ft_tot_dur_byage  \\\n",
       "0                      0  ...               0.000000          0.000000   \n",
       "1                      0  ...               0.000000          0.000000   \n",
       "2                      0  ...               2.714286          2.714286   \n",
       "3                      0  ...               4.200000          4.200000   \n",
       "4                      0  ...               5.460000          5.460000   \n",
       "...                  ...  ...                    ...               ...   \n",
       "643685                 1  ...               0.000000          0.000000   \n",
       "643686                 0  ...               0.000000          0.000000   \n",
       "643687                 1  ...               0.000000          0.000000   \n",
       "643688                 0  ...               0.000000          0.000000   \n",
       "643689                 0  ...               0.000000          0.666667   \n",
       "\n",
       "        befrist_tot_dur_byage  leih_tot_dur_byage  LHG_tot_dur_byage  \\\n",
       "0                   15.043478            0.000000           0.000000   \n",
       "1                    0.000000            0.000000           0.000000   \n",
       "2                    0.000000            0.000000          10.775510   \n",
       "3                    0.000000            0.000000          12.100000   \n",
       "4                    0.000000            0.000000          13.360000   \n",
       "...                       ...                 ...                ...   \n",
       "643685               0.000000            0.000000           0.612903   \n",
       "643686               0.212121            0.212121          17.363636   \n",
       "643687               0.294118            0.205882          34.705882   \n",
       "643688               0.000000            0.000000           0.000000   \n",
       "643689               0.666667            0.000000           0.000000   \n",
       "\n",
       "        LEH_tot_dur_byage  almp_tot_dur_byage  almp_aw_tot_dur_byage  \\\n",
       "0                0.000000            0.000000               0.000000   \n",
       "1                0.000000            0.000000               0.000000   \n",
       "2                0.000000            8.367347               0.000000   \n",
       "3                0.000000            9.400000               0.000000   \n",
       "4                0.000000           10.320000               0.000000   \n",
       "...                   ...                 ...                    ...   \n",
       "643685           0.000000            0.000000               0.000000   \n",
       "643686           0.000000            8.909091               0.000000   \n",
       "643687           0.000000           10.352941               1.705882   \n",
       "643688           0.525424            0.000000               0.000000   \n",
       "643689           8.950000            1.033333               0.083333   \n",
       "\n",
       "        se_tot_dur_byage  seeking1_tot_dur_byage  \n",
       "0               0.000000                0.000000  \n",
       "1               0.000000                0.000000  \n",
       "2               0.000000                9.836735  \n",
       "3               0.000000                9.960000  \n",
       "4               0.000000               10.280000  \n",
       "...                  ...                     ...  \n",
       "643685          0.000000                0.000000  \n",
       "643686          0.000000                7.121212  \n",
       "643687          1.705882               23.911765  \n",
       "643688          0.000000                0.000000  \n",
       "643689          0.083333                8.133333  \n",
       "\n",
       "[643690 rows x 164 columns]"
      ]
     },
     "execution_count": 10,
     "metadata": {},
     "output_type": "execute_result"
    }
   ],
   "source": [
    "siab"
   ]
  },
  {
   "cell_type": "markdown",
   "id": "997051c5-15bd-4b69-9786-c3001a3ce484",
   "metadata": {
    "papermill": {
     "duration": 0.018904,
     "end_time": "2025-08-06T17:50:21.169515",
     "exception": false,
     "start_time": "2025-08-06T17:50:21.150611",
     "status": "completed"
    },
    "tags": []
   },
   "source": [
    "# Splitting Data and Setting Training Data Size"
   ]
  },
  {
   "cell_type": "code",
   "execution_count": 11,
   "id": "aea9c6ef-6f46-42c8-85eb-5a62025c1508",
   "metadata": {
    "execution": {
     "iopub.execute_input": "2025-08-06T17:50:21.220938Z",
     "iopub.status.busy": "2025-08-06T17:50:21.220486Z",
     "iopub.status.idle": "2025-08-06T17:50:21.422069Z",
     "shell.execute_reply": "2025-08-06T17:50:21.421362Z"
    },
    "papermill": {
     "duration": 0.235311,
     "end_time": "2025-08-06T17:50:21.423829",
     "exception": false,
     "start_time": "2025-08-06T17:50:21.188518",
     "status": "completed"
    },
    "tags": []
   },
   "outputs": [],
   "source": [
    "from fairness_multiverse.universe import sample_by_year_size\n",
    "\n",
    "siab_train = sample_by_year_size(siab,\n",
    "                               training_year=universe[\"training_year\"],\n",
    "                               training_size=universe[\"training_size\"])"
   ]
  },
  {
   "cell_type": "code",
   "execution_count": 12,
   "id": "8d3afb32-789d-442c-8d5d-9f5aa8dd2eed",
   "metadata": {
    "execution": {
     "iopub.execute_input": "2025-08-06T17:50:21.463681Z",
     "iopub.status.busy": "2025-08-06T17:50:21.462975Z",
     "iopub.status.idle": "2025-08-06T17:50:21.471115Z",
     "shell.execute_reply": "2025-08-06T17:50:21.470021Z"
    },
    "papermill": {
     "duration": 0.030088,
     "end_time": "2025-08-06T17:50:21.472988",
     "exception": false,
     "start_time": "2025-08-06T17:50:21.442900",
     "status": "completed"
    },
    "tags": []
   },
   "outputs": [
    {
     "data": {
      "text/plain": [
       "(1000, 164)"
      ]
     },
     "execution_count": 12,
     "metadata": {},
     "output_type": "execute_result"
    }
   ],
   "source": [
    "siab_train.shape"
   ]
  },
  {
   "cell_type": "code",
   "execution_count": 13,
   "id": "d582db68-1a4c-47fb-84fc-08518dc1975a",
   "metadata": {
    "execution": {
     "iopub.execute_input": "2025-08-06T17:50:21.517215Z",
     "iopub.status.busy": "2025-08-06T17:50:21.516297Z",
     "iopub.status.idle": "2025-08-06T17:50:21.525847Z",
     "shell.execute_reply": "2025-08-06T17:50:21.524975Z"
    },
    "papermill": {
     "duration": 0.032018,
     "end_time": "2025-08-06T17:50:21.527253",
     "exception": false,
     "start_time": "2025-08-06T17:50:21.495235",
     "status": "completed"
    },
    "tags": []
   },
   "outputs": [
    {
     "data": {
      "text/plain": [
       "year\n",
       "2014    1000\n",
       "dtype: int64"
      ]
     },
     "metadata": {},
     "output_type": "display_data"
    }
   ],
   "source": [
    "display(siab_train.groupby(\"year\").size())"
   ]
  },
  {
   "cell_type": "code",
   "execution_count": 14,
   "id": "a561edb4-d032-42cb-8256-22eac1111c64",
   "metadata": {
    "execution": {
     "iopub.execute_input": "2025-08-06T17:50:21.558790Z",
     "iopub.status.busy": "2025-08-06T17:50:21.558120Z",
     "iopub.status.idle": "2025-08-06T17:50:21.806572Z",
     "shell.execute_reply": "2025-08-06T17:50:21.805544Z"
    },
    "papermill": {
     "duration": 0.2709,
     "end_time": "2025-08-06T17:50:21.808513",
     "exception": false,
     "start_time": "2025-08-06T17:50:21.537613",
     "status": "completed"
    },
    "tags": []
   },
   "outputs": [],
   "source": [
    "#siab_train = siab_s[siab_s.year < 2015]\n",
    "siab_calib = siab[siab.year == 2015]\n",
    "siab_test = siab[siab.year == 2016]"
   ]
  },
  {
   "cell_type": "code",
   "execution_count": 15,
   "id": "472de16f-c3db-4916-846b-1f0de9cf1746",
   "metadata": {
    "execution": {
     "iopub.execute_input": "2025-08-06T17:50:21.849501Z",
     "iopub.status.busy": "2025-08-06T17:50:21.848777Z",
     "iopub.status.idle": "2025-08-06T17:50:21.855657Z",
     "shell.execute_reply": "2025-08-06T17:50:21.854750Z"
    },
    "papermill": {
     "duration": 0.029216,
     "end_time": "2025-08-06T17:50:21.857368",
     "exception": false,
     "start_time": "2025-08-06T17:50:21.828152",
     "status": "completed"
    },
    "tags": []
   },
   "outputs": [],
   "source": [
    "X_train = siab_train.iloc[:,4:164]\n",
    "y_train = siab_train.iloc[:, [3]]"
   ]
  },
  {
   "cell_type": "code",
   "execution_count": 16,
   "id": "828c96af-f43a-4ed6-ba47-8ac73a47d56c",
   "metadata": {
    "execution": {
     "iopub.execute_input": "2025-08-06T17:50:21.897254Z",
     "iopub.status.busy": "2025-08-06T17:50:21.896539Z",
     "iopub.status.idle": "2025-08-06T17:50:21.949688Z",
     "shell.execute_reply": "2025-08-06T17:50:21.948519Z"
    },
    "papermill": {
     "duration": 0.0754,
     "end_time": "2025-08-06T17:50:21.951506",
     "exception": false,
     "start_time": "2025-08-06T17:50:21.876106",
     "status": "completed"
    },
    "tags": []
   },
   "outputs": [],
   "source": [
    "X_calib = siab_calib.iloc[:,4:164]\n",
    "y_calib = siab_calib.iloc[:, [3]]"
   ]
  },
  {
   "cell_type": "code",
   "execution_count": 17,
   "id": "c34be9c3-6bd6-476e-acd3-845840e303be",
   "metadata": {
    "execution": {
     "iopub.execute_input": "2025-08-06T17:50:21.991795Z",
     "iopub.status.busy": "2025-08-06T17:50:21.991359Z",
     "iopub.status.idle": "2025-08-06T17:50:22.046510Z",
     "shell.execute_reply": "2025-08-06T17:50:22.045518Z"
    },
    "papermill": {
     "duration": 0.077493,
     "end_time": "2025-08-06T17:50:22.048343",
     "exception": false,
     "start_time": "2025-08-06T17:50:21.970850",
     "status": "completed"
    },
    "tags": []
   },
   "outputs": [],
   "source": [
    "X_test = siab_test.iloc[:,4:164]\n",
    "y_true = siab_test.iloc[:, [3]]"
   ]
  },
  {
   "cell_type": "code",
   "execution_count": 18,
   "id": "e6c733c5",
   "metadata": {
    "execution": {
     "iopub.execute_input": "2025-08-06T17:50:22.087293Z",
     "iopub.status.busy": "2025-08-06T17:50:22.086921Z",
     "iopub.status.idle": "2025-08-06T17:50:22.181481Z",
     "shell.execute_reply": "2025-08-06T17:50:22.180443Z"
    },
    "papermill": {
     "duration": 0.116499,
     "end_time": "2025-08-06T17:50:22.183673",
     "exception": false,
     "start_time": "2025-08-06T17:50:22.067174",
     "status": "completed"
    },
    "tags": []
   },
   "outputs": [],
   "source": [
    "# Auxiliary data needed downstream in the pipeline\n",
    "\n",
    "org_train = X_train.copy()\n",
    "org_test = X_test.copy()\n",
    "org_calib = X_calib.copy()"
   ]
  },
  {
   "cell_type": "markdown",
   "id": "0a4a1b33",
   "metadata": {
    "papermill": {
     "duration": 0.018186,
     "end_time": "2025-08-06T17:50:22.221181",
     "exception": false,
     "start_time": "2025-08-06T17:50:22.202995",
     "status": "completed"
    },
    "tags": []
   },
   "source": [
    "# Preprocessing Data"
   ]
  },
  {
   "cell_type": "code",
   "execution_count": 19,
   "id": "ca879031",
   "metadata": {
    "execution": {
     "iopub.execute_input": "2025-08-06T17:50:22.261124Z",
     "iopub.status.busy": "2025-08-06T17:50:22.260592Z",
     "iopub.status.idle": "2025-08-06T17:50:22.266866Z",
     "shell.execute_reply": "2025-08-06T17:50:22.266009Z"
    },
    "papermill": {
     "duration": 0.028439,
     "end_time": "2025-08-06T17:50:22.268532",
     "exception": false,
     "start_time": "2025-08-06T17:50:22.240093",
     "status": "completed"
    },
    "tags": []
   },
   "outputs": [],
   "source": [
    "# EXCLUDE PROTECTED FEATURES\n",
    "# --------------------------\n",
    "\n",
    "excluded_features = universe[\"exclude_features\"].split(\"-\")\n",
    "excluded_features_dictionary = {\n",
    "    \"nationality\": [\"maxdeutsch1\", \"maxdeutsch.Missing.\"],\n",
    "    \"sex\": [\"frau1\"],\n",
    "    \"age\": [\"age\"],\n",
    "}"
   ]
  },
  {
   "cell_type": "code",
   "execution_count": 20,
   "id": "b745ac60",
   "metadata": {
    "execution": {
     "iopub.execute_input": "2025-08-06T17:50:22.307761Z",
     "iopub.status.busy": "2025-08-06T17:50:22.307275Z",
     "iopub.status.idle": "2025-08-06T17:50:22.313048Z",
     "shell.execute_reply": "2025-08-06T17:50:22.312110Z"
    },
    "papermill": {
     "duration": 0.02709,
     "end_time": "2025-08-06T17:50:22.314630",
     "exception": false,
     "start_time": "2025-08-06T17:50:22.287540",
     "status": "completed"
    },
    "tags": []
   },
   "outputs": [],
   "source": [
    "excluded_features_columns = [\n",
    "    excluded_features_dictionary[f] for f in excluded_features if len(f) > 0 and f != \"none\"\n",
    "]"
   ]
  },
  {
   "cell_type": "code",
   "execution_count": 21,
   "id": "f84f73a2",
   "metadata": {
    "execution": {
     "iopub.execute_input": "2025-08-06T17:50:22.353253Z",
     "iopub.status.busy": "2025-08-06T17:50:22.352166Z",
     "iopub.status.idle": "2025-08-06T17:50:22.357868Z",
     "shell.execute_reply": "2025-08-06T17:50:22.356878Z"
    },
    "papermill": {
     "duration": 0.026456,
     "end_time": "2025-08-06T17:50:22.359549",
     "exception": false,
     "start_time": "2025-08-06T17:50:22.333093",
     "status": "completed"
    },
    "tags": []
   },
   "outputs": [],
   "source": [
    "from fairness_multiverse.universe import flatten_once\n",
    "\n",
    "excluded_features_columns = flatten_once(excluded_features_columns)"
   ]
  },
  {
   "cell_type": "code",
   "execution_count": 22,
   "id": "884dea22",
   "metadata": {
    "execution": {
     "iopub.execute_input": "2025-08-06T17:50:22.398462Z",
     "iopub.status.busy": "2025-08-06T17:50:22.398022Z",
     "iopub.status.idle": "2025-08-06T17:50:22.404050Z",
     "shell.execute_reply": "2025-08-06T17:50:22.403162Z"
    },
    "papermill": {
     "duration": 0.026908,
     "end_time": "2025-08-06T17:50:22.405613",
     "exception": false,
     "start_time": "2025-08-06T17:50:22.378705",
     "status": "completed"
    },
    "tags": []
   },
   "outputs": [],
   "source": [
    "if len(excluded_features_columns) > 0:\n",
    "    print(f\"Dropping features: {excluded_features_columns}\")\n",
    "    X_train.drop(excluded_features_columns, axis=1, inplace=True)"
   ]
  },
  {
   "cell_type": "code",
   "execution_count": 23,
   "id": "95ab8b16",
   "metadata": {
    "execution": {
     "iopub.execute_input": "2025-08-06T17:50:22.446013Z",
     "iopub.status.busy": "2025-08-06T17:50:22.445102Z",
     "iopub.status.idle": "2025-08-06T17:50:22.450982Z",
     "shell.execute_reply": "2025-08-06T17:50:22.450072Z"
    },
    "papermill": {
     "duration": 0.027455,
     "end_time": "2025-08-06T17:50:22.452571",
     "exception": false,
     "start_time": "2025-08-06T17:50:22.425116",
     "status": "completed"
    },
    "tags": []
   },
   "outputs": [],
   "source": [
    "if len(excluded_features_columns) > 0:\n",
    "    print(f\"Dropping features: {excluded_features_columns}\")\n",
    "    X_test.drop(excluded_features_columns, axis=1, inplace=True)"
   ]
  },
  {
   "cell_type": "code",
   "execution_count": 24,
   "id": "1853aaf5-fb9f-46cb-a2b5-8ea4ae2237e4",
   "metadata": {
    "execution": {
     "iopub.execute_input": "2025-08-06T17:50:22.492132Z",
     "iopub.status.busy": "2025-08-06T17:50:22.491222Z",
     "iopub.status.idle": "2025-08-06T17:50:22.497222Z",
     "shell.execute_reply": "2025-08-06T17:50:22.496204Z"
    },
    "papermill": {
     "duration": 0.027372,
     "end_time": "2025-08-06T17:50:22.498874",
     "exception": false,
     "start_time": "2025-08-06T17:50:22.471502",
     "status": "completed"
    },
    "tags": []
   },
   "outputs": [],
   "source": [
    "if len(excluded_features_columns) > 0:\n",
    "    print(f\"Dropping features: {excluded_features_columns}\")\n",
    "    X_calib.drop(excluded_features_columns, axis=1, inplace=True)"
   ]
  },
  {
   "cell_type": "code",
   "execution_count": 25,
   "id": "76c4dc6d",
   "metadata": {
    "execution": {
     "iopub.execute_input": "2025-08-06T17:50:22.538285Z",
     "iopub.status.busy": "2025-08-06T17:50:22.537870Z",
     "iopub.status.idle": "2025-08-06T17:50:22.543199Z",
     "shell.execute_reply": "2025-08-06T17:50:22.542154Z"
    },
    "papermill": {
     "duration": 0.026822,
     "end_time": "2025-08-06T17:50:22.544873",
     "exception": false,
     "start_time": "2025-08-06T17:50:22.518051",
     "status": "completed"
    },
    "tags": []
   },
   "outputs": [],
   "source": [
    "# EXCLUDE CERTAIN SUBGROUPS\n",
    "# -------------------------\n",
    "\n",
    "mode = universe.get(\"exclude_subgroups\", \"keep-all\") # Defaults to \"keep-all\" if the key is missing."
   ]
  },
  {
   "cell_type": "code",
   "execution_count": 26,
   "id": "21994072",
   "metadata": {
    "execution": {
     "iopub.execute_input": "2025-08-06T17:50:22.634887Z",
     "iopub.status.busy": "2025-08-06T17:50:22.634410Z",
     "iopub.status.idle": "2025-08-06T17:50:22.640784Z",
     "shell.execute_reply": "2025-08-06T17:50:22.640011Z"
    },
    "papermill": {
     "duration": 0.077486,
     "end_time": "2025-08-06T17:50:22.642107",
     "exception": false,
     "start_time": "2025-08-06T17:50:22.564621",
     "status": "completed"
    },
    "tags": []
   },
   "outputs": [],
   "source": [
    "if mode == \"keep-all\":\n",
    "    keep_mask = pd.Series(True, index=org_train.index)\n",
    "\n",
    "elif mode == \"drop-non-german\":\n",
    "    keep_mask = (org_train[\"maxdeutsch1\"] == 1) & (org_train[\"maxdeutsch.Missing.\"] == 0)\n",
    "\n",
    "else:\n",
    "    raise ValueError(f\"Unsupported mode for exclude_subgroups: {mode}\")"
   ]
  },
  {
   "cell_type": "code",
   "execution_count": 27,
   "id": "71651440",
   "metadata": {
    "execution": {
     "iopub.execute_input": "2025-08-06T17:50:22.664535Z",
     "iopub.status.busy": "2025-08-06T17:50:22.663753Z",
     "iopub.status.idle": "2025-08-06T17:50:22.669977Z",
     "shell.execute_reply": "2025-08-06T17:50:22.669236Z"
    },
    "papermill": {
     "duration": 0.018146,
     "end_time": "2025-08-06T17:50:22.671202",
     "exception": false,
     "start_time": "2025-08-06T17:50:22.653056",
     "status": "completed"
    },
    "tags": []
   },
   "outputs": [
    {
     "name": "stdout",
     "output_type": "stream",
     "text": [
      "Dropping 147 rows (14.70%) where mode='drop-non-german'\n"
     ]
    }
   ],
   "source": [
    "n_drop = (~keep_mask).sum() # Calculates how many rows are set to be dropped\n",
    "if n_drop > 0:\n",
    "    pct = n_drop / len(keep_mask) * 100\n",
    "    print(f\"Dropping {n_drop} rows ({pct:.2f}%) where mode='{mode}'\")"
   ]
  },
  {
   "cell_type": "code",
   "execution_count": 28,
   "id": "5fb8eee5",
   "metadata": {
    "execution": {
     "iopub.execute_input": "2025-08-06T17:50:22.693002Z",
     "iopub.status.busy": "2025-08-06T17:50:22.692594Z",
     "iopub.status.idle": "2025-08-06T17:50:22.698483Z",
     "shell.execute_reply": "2025-08-06T17:50:22.697488Z"
    },
    "papermill": {
     "duration": 0.018402,
     "end_time": "2025-08-06T17:50:22.700201",
     "exception": false,
     "start_time": "2025-08-06T17:50:22.681799",
     "status": "completed"
    },
    "tags": []
   },
   "outputs": [],
   "source": [
    "X_train = X_train[keep_mask]"
   ]
  },
  {
   "cell_type": "code",
   "execution_count": 29,
   "id": "b202bb3a",
   "metadata": {
    "execution": {
     "iopub.execute_input": "2025-08-06T17:50:22.741264Z",
     "iopub.status.busy": "2025-08-06T17:50:22.740352Z",
     "iopub.status.idle": "2025-08-06T17:50:22.746519Z",
     "shell.execute_reply": "2025-08-06T17:50:22.745501Z"
    },
    "papermill": {
     "duration": 0.027714,
     "end_time": "2025-08-06T17:50:22.747974",
     "exception": false,
     "start_time": "2025-08-06T17:50:22.720260",
     "status": "completed"
    },
    "tags": []
   },
   "outputs": [],
   "source": [
    "y_train = y_train[keep_mask]"
   ]
  },
  {
   "cell_type": "markdown",
   "id": "493e2ac3",
   "metadata": {
    "papermill": {
     "duration": 0.019652,
     "end_time": "2025-08-06T17:50:22.787837",
     "exception": false,
     "start_time": "2025-08-06T17:50:22.768185",
     "status": "completed"
    },
    "tags": []
   },
   "source": [
    "# Model Training"
   ]
  },
  {
   "cell_type": "code",
   "execution_count": 30,
   "id": "679e1268",
   "metadata": {
    "execution": {
     "iopub.execute_input": "2025-08-06T17:50:22.827573Z",
     "iopub.status.busy": "2025-08-06T17:50:22.826969Z",
     "iopub.status.idle": "2025-08-06T17:50:22.933923Z",
     "shell.execute_reply": "2025-08-06T17:50:22.932960Z"
    },
    "papermill": {
     "duration": 0.128871,
     "end_time": "2025-08-06T17:50:22.935842",
     "exception": false,
     "start_time": "2025-08-06T17:50:22.806971",
     "status": "completed"
    },
    "tags": []
   },
   "outputs": [],
   "source": [
    "from sklearn.linear_model import LogisticRegression\n",
    "from sklearn.ensemble import GradientBoostingClassifier, RandomForestClassifier\n",
    "\n",
    "if (universe[\"model\"] == \"logreg\"):\n",
    "    model = LogisticRegression() #penalty=\"none\", solver=\"newton-cg\", max_iter=1)\n",
    "elif (universe[\"model\"] == \"penalized_logreg\"):\n",
    "    model = LogisticRegression(penalty=\"l2\", C=0.1) #, solver=\"newton-cg\", max_iter=1)\n",
    "elif (universe[\"model\"] == \"rf\"):\n",
    "    model = RandomForestClassifier() # n_estimators=100, n_jobs=-1\n",
    "elif (universe[\"model\"] == \"gbm\"):\n",
    "    model = GradientBoostingClassifier()\n",
    "elif (universe[\"model\"] == \"elasticnet\"):\n",
    "    model = LogisticRegression(penalty = 'elasticnet', solver = 'saga', l1_ratio = 0.5) # max_iter=5000\n",
    "else:\n",
    "    raise \"Unsupported universe.model\""
   ]
  },
  {
   "cell_type": "code",
   "execution_count": 31,
   "id": "0cc8f744",
   "metadata": {
    "execution": {
     "iopub.execute_input": "2025-08-06T17:50:22.975717Z",
     "iopub.status.busy": "2025-08-06T17:50:22.975233Z",
     "iopub.status.idle": "2025-08-06T17:50:22.981978Z",
     "shell.execute_reply": "2025-08-06T17:50:22.980962Z"
    },
    "papermill": {
     "duration": 0.028529,
     "end_time": "2025-08-06T17:50:22.984075",
     "exception": false,
     "start_time": "2025-08-06T17:50:22.955546",
     "status": "completed"
    },
    "tags": []
   },
   "outputs": [],
   "source": [
    "from sklearn.pipeline import Pipeline\n",
    "from sklearn.preprocessing import StandardScaler\n",
    "\n",
    "model = Pipeline([\n",
    "    #(\"continuous_processor\", continuous_processor),\n",
    "    #(\"categorical_preprocessor\", categorical_preprocessor),\n",
    "    (\"scale\", StandardScaler() if universe[\"scale\"] == \"scale\" else None), \n",
    "    (\"model\", model),\n",
    "])"
   ]
  },
  {
   "cell_type": "code",
   "execution_count": 32,
   "id": "9442c04d",
   "metadata": {
    "execution": {
     "iopub.execute_input": "2025-08-06T17:50:23.025332Z",
     "iopub.status.busy": "2025-08-06T17:50:23.024389Z",
     "iopub.status.idle": "2025-08-06T17:50:23.384222Z",
     "shell.execute_reply": "2025-08-06T17:50:23.383173Z"
    },
    "papermill": {
     "duration": 0.381294,
     "end_time": "2025-08-06T17:50:23.385814",
     "exception": false,
     "start_time": "2025-08-06T17:50:23.004520",
     "status": "completed"
    },
    "tags": []
   },
   "outputs": [
    {
     "name": "stderr",
     "output_type": "stream",
     "text": [
      "/dss/dsshome1/0C/ra93lal2/.local/share/virtualenvs/CMA_Fairness_v2-3j10GkSs/lib/python3.10/site-packages/sklearn/linear_model/_sag.py:350: ConvergenceWarning: The max_iter was reached which means the coef_ did not converge\n",
      "  warnings.warn(\n"
     ]
    },
    {
     "data": {
      "text/html": [
       "<style>#sk-container-id-1 {color: black;background-color: white;}#sk-container-id-1 pre{padding: 0;}#sk-container-id-1 div.sk-toggleable {background-color: white;}#sk-container-id-1 label.sk-toggleable__label {cursor: pointer;display: block;width: 100%;margin-bottom: 0;padding: 0.3em;box-sizing: border-box;text-align: center;}#sk-container-id-1 label.sk-toggleable__label-arrow:before {content: \"▸\";float: left;margin-right: 0.25em;color: #696969;}#sk-container-id-1 label.sk-toggleable__label-arrow:hover:before {color: black;}#sk-container-id-1 div.sk-estimator:hover label.sk-toggleable__label-arrow:before {color: black;}#sk-container-id-1 div.sk-toggleable__content {max-height: 0;max-width: 0;overflow: hidden;text-align: left;background-color: #f0f8ff;}#sk-container-id-1 div.sk-toggleable__content pre {margin: 0.2em;color: black;border-radius: 0.25em;background-color: #f0f8ff;}#sk-container-id-1 input.sk-toggleable__control:checked~div.sk-toggleable__content {max-height: 200px;max-width: 100%;overflow: auto;}#sk-container-id-1 input.sk-toggleable__control:checked~label.sk-toggleable__label-arrow:before {content: \"▾\";}#sk-container-id-1 div.sk-estimator input.sk-toggleable__control:checked~label.sk-toggleable__label {background-color: #d4ebff;}#sk-container-id-1 div.sk-label input.sk-toggleable__control:checked~label.sk-toggleable__label {background-color: #d4ebff;}#sk-container-id-1 input.sk-hidden--visually {border: 0;clip: rect(1px 1px 1px 1px);clip: rect(1px, 1px, 1px, 1px);height: 1px;margin: -1px;overflow: hidden;padding: 0;position: absolute;width: 1px;}#sk-container-id-1 div.sk-estimator {font-family: monospace;background-color: #f0f8ff;border: 1px dotted black;border-radius: 0.25em;box-sizing: border-box;margin-bottom: 0.5em;}#sk-container-id-1 div.sk-estimator:hover {background-color: #d4ebff;}#sk-container-id-1 div.sk-parallel-item::after {content: \"\";width: 100%;border-bottom: 1px solid gray;flex-grow: 1;}#sk-container-id-1 div.sk-label:hover label.sk-toggleable__label {background-color: #d4ebff;}#sk-container-id-1 div.sk-serial::before {content: \"\";position: absolute;border-left: 1px solid gray;box-sizing: border-box;top: 0;bottom: 0;left: 50%;z-index: 0;}#sk-container-id-1 div.sk-serial {display: flex;flex-direction: column;align-items: center;background-color: white;padding-right: 0.2em;padding-left: 0.2em;position: relative;}#sk-container-id-1 div.sk-item {position: relative;z-index: 1;}#sk-container-id-1 div.sk-parallel {display: flex;align-items: stretch;justify-content: center;background-color: white;position: relative;}#sk-container-id-1 div.sk-item::before, #sk-container-id-1 div.sk-parallel-item::before {content: \"\";position: absolute;border-left: 1px solid gray;box-sizing: border-box;top: 0;bottom: 0;left: 50%;z-index: -1;}#sk-container-id-1 div.sk-parallel-item {display: flex;flex-direction: column;z-index: 1;position: relative;background-color: white;}#sk-container-id-1 div.sk-parallel-item:first-child::after {align-self: flex-end;width: 50%;}#sk-container-id-1 div.sk-parallel-item:last-child::after {align-self: flex-start;width: 50%;}#sk-container-id-1 div.sk-parallel-item:only-child::after {width: 0;}#sk-container-id-1 div.sk-dashed-wrapped {border: 1px dashed gray;margin: 0 0.4em 0.5em 0.4em;box-sizing: border-box;padding-bottom: 0.4em;background-color: white;}#sk-container-id-1 div.sk-label label {font-family: monospace;font-weight: bold;display: inline-block;line-height: 1.2em;}#sk-container-id-1 div.sk-label-container {text-align: center;}#sk-container-id-1 div.sk-container {/* jupyter's `normalize.less` sets `[hidden] { display: none; }` but bootstrap.min.css set `[hidden] { display: none !important; }` so we also need the `!important` here to be able to override the default hidden behavior on the sphinx rendered scikit-learn.org. See: https://github.com/scikit-learn/scikit-learn/issues/21755 */display: inline-block !important;position: relative;}#sk-container-id-1 div.sk-text-repr-fallback {display: none;}</style><div id=\"sk-container-id-1\" class=\"sk-top-container\"><div class=\"sk-text-repr-fallback\"><pre>Pipeline(steps=[(&#x27;scale&#x27;, StandardScaler()),\n",
       "                (&#x27;model&#x27;,\n",
       "                 LogisticRegression(l1_ratio=0.5, penalty=&#x27;elasticnet&#x27;,\n",
       "                                    solver=&#x27;saga&#x27;))])</pre><b>In a Jupyter environment, please rerun this cell to show the HTML representation or trust the notebook. <br />On GitHub, the HTML representation is unable to render, please try loading this page with nbviewer.org.</b></div><div class=\"sk-container\" hidden><div class=\"sk-item sk-dashed-wrapped\"><div class=\"sk-label-container\"><div class=\"sk-label sk-toggleable\"><input class=\"sk-toggleable__control sk-hidden--visually\" id=\"sk-estimator-id-1\" type=\"checkbox\" ><label for=\"sk-estimator-id-1\" class=\"sk-toggleable__label sk-toggleable__label-arrow\">Pipeline</label><div class=\"sk-toggleable__content\"><pre>Pipeline(steps=[(&#x27;scale&#x27;, StandardScaler()),\n",
       "                (&#x27;model&#x27;,\n",
       "                 LogisticRegression(l1_ratio=0.5, penalty=&#x27;elasticnet&#x27;,\n",
       "                                    solver=&#x27;saga&#x27;))])</pre></div></div></div><div class=\"sk-serial\"><div class=\"sk-item\"><div class=\"sk-estimator sk-toggleable\"><input class=\"sk-toggleable__control sk-hidden--visually\" id=\"sk-estimator-id-2\" type=\"checkbox\" ><label for=\"sk-estimator-id-2\" class=\"sk-toggleable__label sk-toggleable__label-arrow\">StandardScaler</label><div class=\"sk-toggleable__content\"><pre>StandardScaler()</pre></div></div></div><div class=\"sk-item\"><div class=\"sk-estimator sk-toggleable\"><input class=\"sk-toggleable__control sk-hidden--visually\" id=\"sk-estimator-id-3\" type=\"checkbox\" ><label for=\"sk-estimator-id-3\" class=\"sk-toggleable__label sk-toggleable__label-arrow\">LogisticRegression</label><div class=\"sk-toggleable__content\"><pre>LogisticRegression(l1_ratio=0.5, penalty=&#x27;elasticnet&#x27;, solver=&#x27;saga&#x27;)</pre></div></div></div></div></div></div></div>"
      ],
      "text/plain": [
       "Pipeline(steps=[('scale', StandardScaler()),\n",
       "                ('model',\n",
       "                 LogisticRegression(l1_ratio=0.5, penalty='elasticnet',\n",
       "                                    solver='saga'))])"
      ]
     },
     "execution_count": 32,
     "metadata": {},
     "output_type": "execute_result"
    }
   ],
   "source": [
    "model.fit(X_train, y_train.values.ravel())"
   ]
  },
  {
   "cell_type": "code",
   "execution_count": 33,
   "id": "a7cf2e16",
   "metadata": {
    "execution": {
     "iopub.execute_input": "2025-08-06T17:50:23.429586Z",
     "iopub.status.busy": "2025-08-06T17:50:23.428946Z",
     "iopub.status.idle": "2025-08-06T17:50:23.630954Z",
     "shell.execute_reply": "2025-08-06T17:50:23.629918Z"
    },
    "papermill": {
     "duration": 0.225533,
     "end_time": "2025-08-06T17:50:23.632560",
     "exception": false,
     "start_time": "2025-08-06T17:50:23.407027",
     "status": "completed"
    },
    "tags": []
   },
   "outputs": [
    {
     "data": {
      "text/plain": [
       "0.8156281351019953"
      ]
     },
     "execution_count": 33,
     "metadata": {},
     "output_type": "execute_result"
    }
   ],
   "source": [
    "from fairness_multiverse.universe import predict_w_threshold\n",
    "\n",
    "probs_test = model.predict_proba(X_test)\n",
    "\n",
    "'''\n",
    "Below code returns a boolean array (or binary 0/1 array depending on how it’s used) where each element \n",
    "is True if the probability of class 1 is greater than or equal to the threshold, and False otherwise.\n",
    "'''\n",
    "y_pred_default = predict_w_threshold(probs_test, 0.5)\n",
    "\n",
    "from sklearn.metrics import accuracy_score\n",
    "\n",
    "# Naive prediction\n",
    "accuracy_score(y_true = y_true, y_pred = y_pred_default)"
   ]
  },
  {
   "cell_type": "code",
   "execution_count": 34,
   "id": "081964c3",
   "metadata": {
    "execution": {
     "iopub.execute_input": "2025-08-06T17:50:23.675274Z",
     "iopub.status.busy": "2025-08-06T17:50:23.674777Z",
     "iopub.status.idle": "2025-08-06T17:50:23.869678Z",
     "shell.execute_reply": "2025-08-06T17:50:23.868740Z"
    },
    "papermill": {
     "duration": 0.218102,
     "end_time": "2025-08-06T17:50:23.871258",
     "exception": false,
     "start_time": "2025-08-06T17:50:23.653156",
     "status": "completed"
    },
    "tags": []
   },
   "outputs": [
    {
     "data": {
      "text/plain": [
       "array([0, 0, 0, ..., 0, 0, 0])"
      ]
     },
     "execution_count": 34,
     "metadata": {},
     "output_type": "execute_result"
    }
   ],
   "source": [
    "model.predict(X_test)"
   ]
  },
  {
   "cell_type": "markdown",
   "id": "56c9705b",
   "metadata": {
    "papermill": {
     "duration": 0.021679,
     "end_time": "2025-08-06T17:50:23.914371",
     "exception": false,
     "start_time": "2025-08-06T17:50:23.892692",
     "status": "completed"
    },
    "tags": []
   },
   "source": [
    "# Conformal Prediction"
   ]
  },
  {
   "cell_type": "code",
   "execution_count": 35,
   "id": "160ec6ff",
   "metadata": {
    "execution": {
     "iopub.execute_input": "2025-08-06T17:50:23.957070Z",
     "iopub.status.busy": "2025-08-06T17:50:23.956381Z",
     "iopub.status.idle": "2025-08-06T17:50:23.961838Z",
     "shell.execute_reply": "2025-08-06T17:50:23.960863Z"
    },
    "papermill": {
     "duration": 0.02834,
     "end_time": "2025-08-06T17:50:23.963443",
     "exception": false,
     "start_time": "2025-08-06T17:50:23.935103",
     "status": "completed"
    },
    "tags": []
   },
   "outputs": [],
   "source": [
    "# Miscoverage level for conformal prediction (10% allowed error rate => 90% target coverage)\n",
    "alpha = 0.1"
   ]
  },
  {
   "cell_type": "code",
   "execution_count": 36,
   "id": "eadf4555-3dd3-440e-8e35-f82a4ad9f855",
   "metadata": {
    "execution": {
     "iopub.execute_input": "2025-08-06T17:50:24.008078Z",
     "iopub.status.busy": "2025-08-06T17:50:24.007390Z",
     "iopub.status.idle": "2025-08-06T17:50:24.187102Z",
     "shell.execute_reply": "2025-08-06T17:50:24.186077Z"
    },
    "papermill": {
     "duration": 0.203592,
     "end_time": "2025-08-06T17:50:24.189033",
     "exception": false,
     "start_time": "2025-08-06T17:50:23.985441",
     "status": "completed"
    },
    "tags": []
   },
   "outputs": [],
   "source": [
    "probs_calib = model.predict_proba(X_calib)"
   ]
  },
  {
   "cell_type": "code",
   "execution_count": 37,
   "id": "2ed93547-6d5d-4983-9b36-1ecb300da49a",
   "metadata": {
    "execution": {
     "iopub.execute_input": "2025-08-06T17:50:24.231913Z",
     "iopub.status.busy": "2025-08-06T17:50:24.231412Z",
     "iopub.status.idle": "2025-08-06T17:50:24.237229Z",
     "shell.execute_reply": "2025-08-06T17:50:24.236318Z"
    },
    "papermill": {
     "duration": 0.02918,
     "end_time": "2025-08-06T17:50:24.238769",
     "exception": false,
     "start_time": "2025-08-06T17:50:24.209589",
     "status": "completed"
    },
    "tags": []
   },
   "outputs": [],
   "source": [
    "y_calib = y_calib.values.ravel().astype(int)"
   ]
  },
  {
   "cell_type": "code",
   "execution_count": 38,
   "id": "65d1320d-f588-4b38-9072-62af1ae97f7d",
   "metadata": {
    "execution": {
     "iopub.execute_input": "2025-08-06T17:50:24.281899Z",
     "iopub.status.busy": "2025-08-06T17:50:24.281424Z",
     "iopub.status.idle": "2025-08-06T17:50:24.288498Z",
     "shell.execute_reply": "2025-08-06T17:50:24.287640Z"
    },
    "papermill": {
     "duration": 0.030744,
     "end_time": "2025-08-06T17:50:24.290071",
     "exception": false,
     "start_time": "2025-08-06T17:50:24.259327",
     "status": "completed"
    },
    "tags": []
   },
   "outputs": [],
   "source": [
    "from fairness_multiverse.conformal import compute_nc_scores\n",
    "\n",
    "# Compute nonconformity scores on calibration set (1 - probability of true class)\n",
    "nc_scores = compute_nc_scores(probs_calib, y_calib)"
   ]
  },
  {
   "cell_type": "code",
   "execution_count": 39,
   "id": "df3b8ca3-53b7-43d5-9667-7c85da7aeda2",
   "metadata": {
    "execution": {
     "iopub.execute_input": "2025-08-06T17:50:24.332200Z",
     "iopub.status.busy": "2025-08-06T17:50:24.331708Z",
     "iopub.status.idle": "2025-08-06T17:50:24.338868Z",
     "shell.execute_reply": "2025-08-06T17:50:24.338023Z"
    },
    "papermill": {
     "duration": 0.029919,
     "end_time": "2025-08-06T17:50:24.340496",
     "exception": false,
     "start_time": "2025-08-06T17:50:24.310577",
     "status": "completed"
    },
    "tags": []
   },
   "outputs": [],
   "source": [
    "from fairness_multiverse.conformal import find_threshold\n",
    "\n",
    "# Find conformal threshold q_hat for the given alpha (split conformal method)\n",
    "q_hat = find_threshold(nc_scores, alpha)"
   ]
  },
  {
   "cell_type": "code",
   "execution_count": 40,
   "id": "4d29e6c1-0ef6-4aa4-b8fe-4fe79b0d033a",
   "metadata": {
    "execution": {
     "iopub.execute_input": "2025-08-06T17:50:24.382074Z",
     "iopub.status.busy": "2025-08-06T17:50:24.381180Z",
     "iopub.status.idle": "2025-08-06T17:50:24.388480Z",
     "shell.execute_reply": "2025-08-06T17:50:24.387496Z"
    },
    "papermill": {
     "duration": 0.029483,
     "end_time": "2025-08-06T17:50:24.389940",
     "exception": false,
     "start_time": "2025-08-06T17:50:24.360457",
     "status": "completed"
    },
    "tags": []
   },
   "outputs": [
    {
     "data": {
      "text/plain": [
       "0.8097912404712461"
      ]
     },
     "execution_count": 40,
     "metadata": {},
     "output_type": "execute_result"
    }
   ],
   "source": [
    "q_hat"
   ]
  },
  {
   "cell_type": "code",
   "execution_count": 41,
   "id": "92460794-cdac-4be2-ba28-f28c0515a6fb",
   "metadata": {
    "execution": {
     "iopub.execute_input": "2025-08-06T17:50:24.431777Z",
     "iopub.status.busy": "2025-08-06T17:50:24.431234Z",
     "iopub.status.idle": "2025-08-06T17:50:25.309137Z",
     "shell.execute_reply": "2025-08-06T17:50:25.308049Z"
    },
    "papermill": {
     "duration": 0.900999,
     "end_time": "2025-08-06T17:50:25.311130",
     "exception": false,
     "start_time": "2025-08-06T17:50:24.410131",
     "status": "completed"
    },
    "tags": []
   },
   "outputs": [],
   "source": [
    "from fairness_multiverse.conformal import predict_conformal_sets\n",
    "\n",
    "# Generate prediction sets for each test example\n",
    "pred_sets = predict_conformal_sets(model, X_test, q_hat)"
   ]
  },
  {
   "cell_type": "code",
   "execution_count": 42,
   "id": "d90c9a65-e6db-4f5d-80cd-e68fb7e46829",
   "metadata": {
    "execution": {
     "iopub.execute_input": "2025-08-06T17:50:25.355971Z",
     "iopub.status.busy": "2025-08-06T17:50:25.355527Z",
     "iopub.status.idle": "2025-08-06T17:50:25.361052Z",
     "shell.execute_reply": "2025-08-06T17:50:25.360095Z"
    },
    "papermill": {
     "duration": 0.0293,
     "end_time": "2025-08-06T17:50:25.362963",
     "exception": false,
     "start_time": "2025-08-06T17:50:25.333663",
     "status": "completed"
    },
    "tags": []
   },
   "outputs": [],
   "source": [
    "y_true = y_true.squeeze()"
   ]
  },
  {
   "cell_type": "code",
   "execution_count": 43,
   "id": "3a58a54a-1e68-46b9-927a-df01f18aebc8",
   "metadata": {
    "execution": {
     "iopub.execute_input": "2025-08-06T17:50:25.407384Z",
     "iopub.status.busy": "2025-08-06T17:50:25.406916Z",
     "iopub.status.idle": "2025-08-06T17:50:26.223301Z",
     "shell.execute_reply": "2025-08-06T17:50:26.222199Z"
    },
    "papermill": {
     "duration": 0.840401,
     "end_time": "2025-08-06T17:50:26.225288",
     "exception": false,
     "start_time": "2025-08-06T17:50:25.384887",
     "status": "completed"
    },
    "tags": []
   },
   "outputs": [],
   "source": [
    "from fairness_multiverse.conformal import evaluate_sets\n",
    "\n",
    "# Evaluate coverage and average set size on test data\n",
    "metrics = evaluate_sets(pred_sets, y_true)"
   ]
  },
  {
   "cell_type": "markdown",
   "id": "2b569c12-9aaa-4c88-98c9-bbcd0cf3ebb8",
   "metadata": {
    "papermill": {
     "duration": 0.024637,
     "end_time": "2025-08-06T17:50:26.274797",
     "exception": false,
     "start_time": "2025-08-06T17:50:26.250160",
     "status": "completed"
    },
    "tags": []
   },
   "source": [
    "# CP Metrics"
   ]
  },
  {
   "cell_type": "code",
   "execution_count": 44,
   "id": "5ce0a5cb-201f-45a0-ade5-94c7f0bd6095",
   "metadata": {
    "execution": {
     "iopub.execute_input": "2025-08-06T17:50:26.326313Z",
     "iopub.status.busy": "2025-08-06T17:50:26.325632Z",
     "iopub.status.idle": "2025-08-06T17:50:26.333337Z",
     "shell.execute_reply": "2025-08-06T17:50:26.332245Z"
    },
    "papermill": {
     "duration": 0.035654,
     "end_time": "2025-08-06T17:50:26.335148",
     "exception": false,
     "start_time": "2025-08-06T17:50:26.299494",
     "status": "completed"
    },
    "tags": []
   },
   "outputs": [
    {
     "data": {
      "text/plain": [
       "{'coverage': 0.908761565042916, 'avg_size': 1.2456470850518337}"
      ]
     },
     "execution_count": 44,
     "metadata": {},
     "output_type": "execute_result"
    }
   ],
   "source": [
    "metrics"
   ]
  },
  {
   "cell_type": "code",
   "execution_count": 45,
   "id": "9b9a838d-31c9-430b-ae14-12baee460d17",
   "metadata": {
    "execution": {
     "iopub.execute_input": "2025-08-06T17:50:26.388302Z",
     "iopub.status.busy": "2025-08-06T17:50:26.387192Z",
     "iopub.status.idle": "2025-08-06T17:50:26.394132Z",
     "shell.execute_reply": "2025-08-06T17:50:26.393080Z"
    },
    "papermill": {
     "duration": 0.035173,
     "end_time": "2025-08-06T17:50:26.395797",
     "exception": false,
     "start_time": "2025-08-06T17:50:26.360624",
     "status": "completed"
    },
    "tags": []
   },
   "outputs": [],
   "source": [
    "example_universe = universe.copy()\n",
    "universe_training_year = example_universe.get(\"training_year\")\n",
    "universe_training_size = example_universe.get(\"training_size\")\n",
    "universe_scale = example_universe.get(\"scale\")\n",
    "universe_model = example_universe.get(\"model\")\n",
    "universe_exclude_features = example_universe.get(\"exclude_features\")\n",
    "universe_exclude_subgroups = example_universe.get(\"exclude_subgroups\")"
   ]
  },
  {
   "cell_type": "code",
   "execution_count": 46,
   "id": "f4b6a8ac-9dc0-4245-8a91-5b3b5999c4f9",
   "metadata": {
    "execution": {
     "iopub.execute_input": "2025-08-06T17:50:26.448277Z",
     "iopub.status.busy": "2025-08-06T17:50:26.447531Z",
     "iopub.status.idle": "2025-08-06T17:50:26.454525Z",
     "shell.execute_reply": "2025-08-06T17:50:26.453448Z"
    },
    "papermill": {
     "duration": 0.034952,
     "end_time": "2025-08-06T17:50:26.456117",
     "exception": false,
     "start_time": "2025-08-06T17:50:26.421165",
     "status": "completed"
    },
    "tags": []
   },
   "outputs": [],
   "source": [
    "cp_metrics_dict = {\n",
    "    \"universe_id\": [universe_id],\n",
    "    \"universe_training_year\": [universe_training_year],\n",
    "    \"universe_training_size\": [universe_training_size],\n",
    "    \"universe_scale\": [universe_scale],\n",
    "    \"universe_model\": [universe_model],\n",
    "    \"universe_exclude_features\": [universe_exclude_features],\n",
    "    \"universe_exclude_subgroups\": [universe_exclude_subgroups],\n",
    "    \"q_hat\": [q_hat],\n",
    "    \"coverage\": [metrics[\"coverage\"]],\n",
    "    \"avg_size\": [metrics[\"avg_size\"]],\n",
    "}"
   ]
  },
  {
   "cell_type": "code",
   "execution_count": 47,
   "id": "33007efc-14e9-4ec6-97ac-56a455c82265",
   "metadata": {
    "execution": {
     "iopub.execute_input": "2025-08-06T17:50:26.502096Z",
     "iopub.status.busy": "2025-08-06T17:50:26.501424Z",
     "iopub.status.idle": "2025-08-06T17:50:26.508432Z",
     "shell.execute_reply": "2025-08-06T17:50:26.507426Z"
    },
    "papermill": {
     "duration": 0.032069,
     "end_time": "2025-08-06T17:50:26.510002",
     "exception": false,
     "start_time": "2025-08-06T17:50:26.477933",
     "status": "completed"
    },
    "tags": []
   },
   "outputs": [],
   "source": [
    "cp_metrics_df = pd.DataFrame(cp_metrics_dict)"
   ]
  },
  {
   "cell_type": "code",
   "execution_count": 48,
   "id": "db12611b-57b2-4910-b9d0-355adfd6e7bf",
   "metadata": {
    "execution": {
     "iopub.execute_input": "2025-08-06T17:50:26.555546Z",
     "iopub.status.busy": "2025-08-06T17:50:26.554941Z",
     "iopub.status.idle": "2025-08-06T17:50:26.573493Z",
     "shell.execute_reply": "2025-08-06T17:50:26.572330Z"
    },
    "papermill": {
     "duration": 0.04326,
     "end_time": "2025-08-06T17:50:26.575222",
     "exception": false,
     "start_time": "2025-08-06T17:50:26.531962",
     "status": "completed"
    },
    "tags": []
   },
   "outputs": [
    {
     "data": {
      "text/html": [
       "<div>\n",
       "<style scoped>\n",
       "    .dataframe tbody tr th:only-of-type {\n",
       "        vertical-align: middle;\n",
       "    }\n",
       "\n",
       "    .dataframe tbody tr th {\n",
       "        vertical-align: top;\n",
       "    }\n",
       "\n",
       "    .dataframe thead th {\n",
       "        text-align: right;\n",
       "    }\n",
       "</style>\n",
       "<table border=\"1\" class=\"dataframe\">\n",
       "  <thead>\n",
       "    <tr style=\"text-align: right;\">\n",
       "      <th></th>\n",
       "      <th>universe_id</th>\n",
       "      <th>universe_training_year</th>\n",
       "      <th>universe_training_size</th>\n",
       "      <th>universe_scale</th>\n",
       "      <th>universe_model</th>\n",
       "      <th>universe_exclude_features</th>\n",
       "      <th>universe_exclude_subgroups</th>\n",
       "      <th>q_hat</th>\n",
       "      <th>coverage</th>\n",
       "      <th>avg_size</th>\n",
       "    </tr>\n",
       "  </thead>\n",
       "  <tbody>\n",
       "    <tr>\n",
       "      <th>0</th>\n",
       "      <td>5b1db7df375210c31947652f9cf20c6d</td>\n",
       "      <td>2014</td>\n",
       "      <td>1k</td>\n",
       "      <td>scale</td>\n",
       "      <td>elasticnet</td>\n",
       "      <td>none</td>\n",
       "      <td>drop-non-german</td>\n",
       "      <td>0.809791</td>\n",
       "      <td>0.908762</td>\n",
       "      <td>1.245647</td>\n",
       "    </tr>\n",
       "  </tbody>\n",
       "</table>\n",
       "</div>"
      ],
      "text/plain": [
       "                        universe_id universe_training_year  \\\n",
       "0  5b1db7df375210c31947652f9cf20c6d                   2014   \n",
       "\n",
       "  universe_training_size universe_scale universe_model  \\\n",
       "0                     1k          scale     elasticnet   \n",
       "\n",
       "  universe_exclude_features universe_exclude_subgroups     q_hat  coverage  \\\n",
       "0                      none            drop-non-german  0.809791  0.908762   \n",
       "\n",
       "   avg_size  \n",
       "0  1.245647  "
      ]
     },
     "execution_count": 48,
     "metadata": {},
     "output_type": "execute_result"
    }
   ],
   "source": [
    "cp_metrics_df"
   ]
  },
  {
   "cell_type": "markdown",
   "id": "c825ecb4-0d3d-41d6-b7c6-eccb21272259",
   "metadata": {
    "papermill": {
     "duration": 0.021907,
     "end_time": "2025-08-06T17:50:26.619669",
     "exception": false,
     "start_time": "2025-08-06T17:50:26.597762",
     "status": "completed"
    },
    "tags": []
   },
   "source": [
    "Conditional coverage & looking at subgroups"
   ]
  },
  {
   "cell_type": "code",
   "execution_count": 49,
   "id": "027ae886-68dd-4141-96c7-805a5450e1ef",
   "metadata": {
    "execution": {
     "iopub.execute_input": "2025-08-06T17:50:26.666532Z",
     "iopub.status.busy": "2025-08-06T17:50:26.665780Z",
     "iopub.status.idle": "2025-08-06T17:50:26.972279Z",
     "shell.execute_reply": "2025-08-06T17:50:26.971230Z"
    },
    "papermill": {
     "duration": 0.331957,
     "end_time": "2025-08-06T17:50:26.974391",
     "exception": false,
     "start_time": "2025-08-06T17:50:26.642434",
     "status": "completed"
    },
    "tags": []
   },
   "outputs": [],
   "source": [
    "from fairness_multiverse.conformal import build_cp_groups\n",
    "\n",
    "cp_groups_df = build_cp_groups(pred_sets, y_true, X_test.index, org_test)"
   ]
  },
  {
   "cell_type": "code",
   "execution_count": 50,
   "id": "6cbdab96-b2b2-45af-ad54-d0516db2e28d",
   "metadata": {
    "execution": {
     "iopub.execute_input": "2025-08-06T17:50:27.032041Z",
     "iopub.status.busy": "2025-08-06T17:50:27.031557Z",
     "iopub.status.idle": "2025-08-06T17:50:28.578980Z",
     "shell.execute_reply": "2025-08-06T17:50:28.577943Z"
    },
    "papermill": {
     "duration": 1.576244,
     "end_time": "2025-08-06T17:50:28.580962",
     "exception": false,
     "start_time": "2025-08-06T17:50:27.004718",
     "status": "completed"
    },
    "tags": []
   },
   "outputs": [],
   "source": [
    "# Define covered = 1 if true_label is in the predicted set\n",
    "cp_groups_df['covered'] = cp_groups_df.apply(\n",
    "    lambda r: int(r['true_label'] in r['pred_set']),\n",
    "    axis=1\n",
    ")"
   ]
  },
  {
   "cell_type": "code",
   "execution_count": 51,
   "id": "90032e27-66df-4540-9169-4e89cfbaa758",
   "metadata": {
    "execution": {
     "iopub.execute_input": "2025-08-06T17:50:28.635653Z",
     "iopub.status.busy": "2025-08-06T17:50:28.635154Z",
     "iopub.status.idle": "2025-08-06T17:50:28.652542Z",
     "shell.execute_reply": "2025-08-06T17:50:28.647429Z"
    },
    "papermill": {
     "duration": 0.050827,
     "end_time": "2025-08-06T17:50:28.655012",
     "exception": false,
     "start_time": "2025-08-06T17:50:28.604185",
     "status": "completed"
    },
    "tags": []
   },
   "outputs": [],
   "source": [
    "subgroups = ['frau1','nongerman','nongerman_male','nongerman_female']\n",
    "\n",
    "# Conditional coverage for subgroup==1\n",
    "cond_coverage = {\n",
    "    g: cp_groups_df.loc[cp_groups_df[g]==1, 'covered'].mean()\n",
    "    for g in subgroups\n",
    "}"
   ]
  },
  {
   "cell_type": "code",
   "execution_count": 52,
   "id": "1e348fb1-b9c3-45bc-ba23-f016827a7e0d",
   "metadata": {
    "execution": {
     "iopub.execute_input": "2025-08-06T17:50:28.715989Z",
     "iopub.status.busy": "2025-08-06T17:50:28.715491Z",
     "iopub.status.idle": "2025-08-06T17:50:28.723364Z",
     "shell.execute_reply": "2025-08-06T17:50:28.722463Z"
    },
    "papermill": {
     "duration": 0.04097,
     "end_time": "2025-08-06T17:50:28.725400",
     "exception": false,
     "start_time": "2025-08-06T17:50:28.684430",
     "status": "completed"
    },
    "tags": []
   },
   "outputs": [
    {
     "data": {
      "text/plain": [
       "{'frau1': 0.905593745787842,\n",
       " 'nongerman': 0.9060798293381238,\n",
       " 'nongerman_male': 0.924614968927317,\n",
       " 'nongerman_female': 0.8754098360655738}"
      ]
     },
     "execution_count": 52,
     "metadata": {},
     "output_type": "execute_result"
    }
   ],
   "source": [
    "cond_coverage"
   ]
  },
  {
   "cell_type": "code",
   "execution_count": 53,
   "id": "f5093324-c3dd-4d63-bc4c-8d945e5c8bbb",
   "metadata": {
    "execution": {
     "iopub.execute_input": "2025-08-06T17:50:28.792529Z",
     "iopub.status.busy": "2025-08-06T17:50:28.791560Z",
     "iopub.status.idle": "2025-08-06T17:50:28.801984Z",
     "shell.execute_reply": "2025-08-06T17:50:28.800779Z"
    },
    "papermill": {
     "duration": 0.046238,
     "end_time": "2025-08-06T17:50:28.803826",
     "exception": false,
     "start_time": "2025-08-06T17:50:28.757588",
     "status": "completed"
    },
    "tags": []
   },
   "outputs": [],
   "source": [
    "for subgroup, cov in cond_coverage.items():\n",
    "    cp_metrics_df[f\"cov_{subgroup}\"] = cov"
   ]
  },
  {
   "cell_type": "code",
   "execution_count": 54,
   "id": "6e872e10-dbe5-49e8-b554-5030c98ff75d",
   "metadata": {
    "execution": {
     "iopub.execute_input": "2025-08-06T17:50:28.854020Z",
     "iopub.status.busy": "2025-08-06T17:50:28.853303Z",
     "iopub.status.idle": "2025-08-06T17:50:28.879135Z",
     "shell.execute_reply": "2025-08-06T17:50:28.878017Z"
    },
    "papermill": {
     "duration": 0.053953,
     "end_time": "2025-08-06T17:50:28.881529",
     "exception": false,
     "start_time": "2025-08-06T17:50:28.827576",
     "status": "completed"
    },
    "tags": []
   },
   "outputs": [
    {
     "data": {
      "text/html": [
       "<div>\n",
       "<style scoped>\n",
       "    .dataframe tbody tr th:only-of-type {\n",
       "        vertical-align: middle;\n",
       "    }\n",
       "\n",
       "    .dataframe tbody tr th {\n",
       "        vertical-align: top;\n",
       "    }\n",
       "\n",
       "    .dataframe thead th {\n",
       "        text-align: right;\n",
       "    }\n",
       "</style>\n",
       "<table border=\"1\" class=\"dataframe\">\n",
       "  <thead>\n",
       "    <tr style=\"text-align: right;\">\n",
       "      <th></th>\n",
       "      <th>universe_id</th>\n",
       "      <th>universe_training_year</th>\n",
       "      <th>universe_training_size</th>\n",
       "      <th>universe_scale</th>\n",
       "      <th>universe_model</th>\n",
       "      <th>universe_exclude_features</th>\n",
       "      <th>universe_exclude_subgroups</th>\n",
       "      <th>q_hat</th>\n",
       "      <th>coverage</th>\n",
       "      <th>avg_size</th>\n",
       "      <th>cov_frau1</th>\n",
       "      <th>cov_nongerman</th>\n",
       "      <th>cov_nongerman_male</th>\n",
       "      <th>cov_nongerman_female</th>\n",
       "    </tr>\n",
       "  </thead>\n",
       "  <tbody>\n",
       "    <tr>\n",
       "      <th>0</th>\n",
       "      <td>5b1db7df375210c31947652f9cf20c6d</td>\n",
       "      <td>2014</td>\n",
       "      <td>1k</td>\n",
       "      <td>scale</td>\n",
       "      <td>elasticnet</td>\n",
       "      <td>none</td>\n",
       "      <td>drop-non-german</td>\n",
       "      <td>0.809791</td>\n",
       "      <td>0.908762</td>\n",
       "      <td>1.245647</td>\n",
       "      <td>0.905594</td>\n",
       "      <td>0.90608</td>\n",
       "      <td>0.924615</td>\n",
       "      <td>0.87541</td>\n",
       "    </tr>\n",
       "  </tbody>\n",
       "</table>\n",
       "</div>"
      ],
      "text/plain": [
       "                        universe_id universe_training_year  \\\n",
       "0  5b1db7df375210c31947652f9cf20c6d                   2014   \n",
       "\n",
       "  universe_training_size universe_scale universe_model  \\\n",
       "0                     1k          scale     elasticnet   \n",
       "\n",
       "  universe_exclude_features universe_exclude_subgroups     q_hat  coverage  \\\n",
       "0                      none            drop-non-german  0.809791  0.908762   \n",
       "\n",
       "   avg_size  cov_frau1  cov_nongerman  cov_nongerman_male  \\\n",
       "0  1.245647   0.905594        0.90608            0.924615   \n",
       "\n",
       "   cov_nongerman_female  \n",
       "0               0.87541  "
      ]
     },
     "execution_count": 54,
     "metadata": {},
     "output_type": "execute_result"
    }
   ],
   "source": [
    "cp_metrics_df"
   ]
  },
  {
   "cell_type": "markdown",
   "id": "33774451",
   "metadata": {
    "papermill": {
     "duration": 0.035569,
     "end_time": "2025-08-06T17:50:28.953089",
     "exception": false,
     "start_time": "2025-08-06T17:50:28.917520",
     "status": "completed"
    },
    "tags": []
   },
   "source": [
    "# (Fairness) Metrics"
   ]
  },
  {
   "cell_type": "code",
   "execution_count": 55,
   "id": "debc5d62",
   "metadata": {
    "execution": {
     "iopub.execute_input": "2025-08-06T17:50:29.026902Z",
     "iopub.status.busy": "2025-08-06T17:50:29.025838Z",
     "iopub.status.idle": "2025-08-06T17:50:29.047509Z",
     "shell.execute_reply": "2025-08-06T17:50:29.046454Z"
    },
    "papermill": {
     "duration": 0.060756,
     "end_time": "2025-08-06T17:50:29.049441",
     "exception": false,
     "start_time": "2025-08-06T17:50:28.988685",
     "status": "completed"
    },
    "tags": []
   },
   "outputs": [],
   "source": [
    "colname_to_bin = \"maxdeutsch1\"\n",
    "majority_value = org_train[colname_to_bin].mode()[0]\n",
    "\n",
    "org_test[\"majmin\"] = np.where(org_test[colname_to_bin] == majority_value, \"majority\", \"minority\")"
   ]
  },
  {
   "cell_type": "code",
   "execution_count": 56,
   "id": "06a50de5",
   "metadata": {
    "execution": {
     "iopub.execute_input": "2025-08-06T17:50:29.109515Z",
     "iopub.status.busy": "2025-08-06T17:50:29.108956Z",
     "iopub.status.idle": "2025-08-06T17:50:31.892596Z",
     "shell.execute_reply": "2025-08-06T17:50:31.891615Z"
    },
    "papermill": {
     "duration": 2.820827,
     "end_time": "2025-08-06T17:50:31.894476",
     "exception": false,
     "start_time": "2025-08-06T17:50:29.073649",
     "status": "completed"
    },
    "tags": []
   },
   "outputs": [],
   "source": [
    "example_universe = universe.copy()\n",
    "example_universe[\"cutoff\"] = example_universe[\"cutoff\"][0]\n",
    "example_universe[\"eval_fairness_grouping\"] = example_universe[\"eval_fairness_grouping\"][0]\n",
    "fairness_dict, metric_frame = universe_analysis.compute_metrics(\n",
    "    example_universe,\n",
    "    y_pred_prob=probs_test,\n",
    "    y_test=y_true,\n",
    "    org_test=org_test,\n",
    ")"
   ]
  },
  {
   "cell_type": "markdown",
   "id": "f95d4e02",
   "metadata": {
    "papermill": {
     "duration": 0.022822,
     "end_time": "2025-08-06T17:50:31.942773",
     "exception": false,
     "start_time": "2025-08-06T17:50:31.919951",
     "status": "completed"
    },
    "tags": []
   },
   "source": [
    "# Overall"
   ]
  },
  {
   "cell_type": "markdown",
   "id": "bdee4871",
   "metadata": {
    "papermill": {
     "duration": 0.023202,
     "end_time": "2025-08-06T17:50:31.988742",
     "exception": false,
     "start_time": "2025-08-06T17:50:31.965540",
     "status": "completed"
    },
    "tags": []
   },
   "source": [
    "Main fairness target: Equalized Odds. Seems to be a better fit than equal opportunity, since we're not only interested in Y = 1. Seems to be a better fit than demographic parity, since we also care about accuracy, not just equal distribution of preds.\n",
    "\n",
    "Pick column for computation of fairness metrics\n",
    "\n",
    "Performance\n",
    "Overall performance measures, most interesting in relation to the measures split by group below"
   ]
  },
  {
   "cell_type": "code",
   "execution_count": 57,
   "id": "c4e067c6",
   "metadata": {
    "execution": {
     "iopub.execute_input": "2025-08-06T17:50:32.036741Z",
     "iopub.status.busy": "2025-08-06T17:50:32.036045Z",
     "iopub.status.idle": "2025-08-06T17:50:32.043384Z",
     "shell.execute_reply": "2025-08-06T17:50:32.042658Z"
    },
    "papermill": {
     "duration": 0.032346,
     "end_time": "2025-08-06T17:50:32.044681",
     "exception": false,
     "start_time": "2025-08-06T17:50:32.012335",
     "status": "completed"
    },
    "tags": []
   },
   "outputs": [
    {
     "data": {
      "text/plain": [
       "accuracy                   0.218760\n",
       "balanced accuracy          0.536075\n",
       "f1                         0.240246\n",
       "precision                  0.137245\n",
       "false positive rate        0.890744\n",
       "false negative rate        0.037105\n",
       "selection rate             0.900000\n",
       "count                  89710.000000\n",
       "dtype: float64"
      ]
     },
     "execution_count": 57,
     "metadata": {},
     "output_type": "execute_result"
    }
   ],
   "source": [
    "metric_frame.overall"
   ]
  },
  {
   "cell_type": "markdown",
   "id": "e968fe9d",
   "metadata": {
    "papermill": {
     "duration": 0.011821,
     "end_time": "2025-08-06T17:50:32.069141",
     "exception": false,
     "start_time": "2025-08-06T17:50:32.057320",
     "status": "completed"
    },
    "tags": []
   },
   "source": [
    "By Group"
   ]
  },
  {
   "cell_type": "code",
   "execution_count": 58,
   "id": "ec325bce",
   "metadata": {
    "execution": {
     "iopub.execute_input": "2025-08-06T17:50:32.094395Z",
     "iopub.status.busy": "2025-08-06T17:50:32.093836Z",
     "iopub.status.idle": "2025-08-06T17:50:32.106761Z",
     "shell.execute_reply": "2025-08-06T17:50:32.106016Z"
    },
    "papermill": {
     "duration": 0.026942,
     "end_time": "2025-08-06T17:50:32.108012",
     "exception": false,
     "start_time": "2025-08-06T17:50:32.081070",
     "status": "completed"
    },
    "tags": []
   },
   "outputs": [
    {
     "data": {
      "text/html": [
       "<div>\n",
       "<style scoped>\n",
       "    .dataframe tbody tr th:only-of-type {\n",
       "        vertical-align: middle;\n",
       "    }\n",
       "\n",
       "    .dataframe tbody tr th {\n",
       "        vertical-align: top;\n",
       "    }\n",
       "\n",
       "    .dataframe thead th {\n",
       "        text-align: right;\n",
       "    }\n",
       "</style>\n",
       "<table border=\"1\" class=\"dataframe\">\n",
       "  <thead>\n",
       "    <tr style=\"text-align: right;\">\n",
       "      <th></th>\n",
       "      <th>accuracy</th>\n",
       "      <th>balanced accuracy</th>\n",
       "      <th>f1</th>\n",
       "      <th>precision</th>\n",
       "      <th>false positive rate</th>\n",
       "      <th>false negative rate</th>\n",
       "      <th>selection rate</th>\n",
       "      <th>count</th>\n",
       "    </tr>\n",
       "    <tr>\n",
       "      <th>majmin</th>\n",
       "      <th></th>\n",
       "      <th></th>\n",
       "      <th></th>\n",
       "      <th></th>\n",
       "      <th></th>\n",
       "      <th></th>\n",
       "      <th></th>\n",
       "      <th></th>\n",
       "    </tr>\n",
       "  </thead>\n",
       "  <tbody>\n",
       "    <tr>\n",
       "      <th>majority</th>\n",
       "      <td>0.234610</td>\n",
       "      <td>0.541878</td>\n",
       "      <td>0.248858</td>\n",
       "      <td>0.142969</td>\n",
       "      <td>0.875762</td>\n",
       "      <td>0.040481</td>\n",
       "      <td>0.886830</td>\n",
       "      <td>69170.0</td>\n",
       "    </tr>\n",
       "    <tr>\n",
       "      <th>minority</th>\n",
       "      <td>0.165385</td>\n",
       "      <td>0.517846</td>\n",
       "      <td>0.212359</td>\n",
       "      <td>0.119142</td>\n",
       "      <td>0.940238</td>\n",
       "      <td>0.024071</td>\n",
       "      <td>0.944352</td>\n",
       "      <td>20540.0</td>\n",
       "    </tr>\n",
       "  </tbody>\n",
       "</table>\n",
       "</div>"
      ],
      "text/plain": [
       "          accuracy  balanced accuracy        f1  precision  \\\n",
       "majmin                                                       \n",
       "majority  0.234610           0.541878  0.248858   0.142969   \n",
       "minority  0.165385           0.517846  0.212359   0.119142   \n",
       "\n",
       "          false positive rate  false negative rate  selection rate    count  \n",
       "majmin                                                                       \n",
       "majority             0.875762             0.040481        0.886830  69170.0  \n",
       "minority             0.940238             0.024071        0.944352  20540.0  "
      ]
     },
     "execution_count": 58,
     "metadata": {},
     "output_type": "execute_result"
    }
   ],
   "source": [
    "metric_frame.by_group"
   ]
  },
  {
   "cell_type": "code",
   "execution_count": 59,
   "id": "a9ddbe63",
   "metadata": {
    "execution": {
     "iopub.execute_input": "2025-08-06T17:50:32.134109Z",
     "iopub.status.busy": "2025-08-06T17:50:32.133568Z",
     "iopub.status.idle": "2025-08-06T17:50:34.209715Z",
     "shell.execute_reply": "2025-08-06T17:50:34.208921Z"
    },
    "papermill": {
     "duration": 2.090203,
     "end_time": "2025-08-06T17:50:34.211028",
     "exception": false,
     "start_time": "2025-08-06T17:50:32.120825",
     "status": "completed"
    },
    "tags": []
   },
   "outputs": [
    {
     "data": {
      "text/plain": [
       "array([[<Axes: title={'center': 'accuracy'}, xlabel='majmin'>,\n",
       "        <Axes: title={'center': 'balanced accuracy'}, xlabel='majmin'>,\n",
       "        <Axes: title={'center': 'f1'}, xlabel='majmin'>],\n",
       "       [<Axes: title={'center': 'precision'}, xlabel='majmin'>,\n",
       "        <Axes: title={'center': 'false positive rate'}, xlabel='majmin'>,\n",
       "        <Axes: title={'center': 'false negative rate'}, xlabel='majmin'>],\n",
       "       [<Axes: title={'center': 'selection rate'}, xlabel='majmin'>,\n",
       "        <Axes: title={'center': 'count'}, xlabel='majmin'>,\n",
       "        <Axes: xlabel='majmin'>]], dtype=object)"
      ]
     },
     "execution_count": 59,
     "metadata": {},
     "output_type": "execute_result"
    },
    {
     "data": {
      "image/png": "[encoded data removed]",
      "text/plain": [
       "<Figure size 1200x800 with 9 Axes>"
      ]
     },
     "metadata": {},
     "output_type": "display_data"
    }
   ],
   "source": [
    "# In a graphic\n",
    "metric_frame.by_group.plot.bar(\n",
    "    subplots=True,\n",
    "    layout=[3, 3],\n",
    "    legend=False,\n",
    "    figsize=[12, 8],\n",
    "    title=\"Show all metrics\",\n",
    ")"
   ]
  },
  {
   "cell_type": "markdown",
   "id": "f57a0bac",
   "metadata": {
    "papermill": {
     "duration": 0.01314,
     "end_time": "2025-08-06T17:50:34.240213",
     "exception": false,
     "start_time": "2025-08-06T17:50:34.227073",
     "status": "completed"
    },
    "tags": []
   },
   "source": [
    "# Final Output"
   ]
  },
  {
   "cell_type": "code",
   "execution_count": 60,
   "id": "96d280a3",
   "metadata": {
    "execution": {
     "iopub.execute_input": "2025-08-06T17:50:34.269404Z",
     "iopub.status.busy": "2025-08-06T17:50:34.268470Z",
     "iopub.status.idle": "2025-08-06T17:50:34.275885Z",
     "shell.execute_reply": "2025-08-06T17:50:34.275155Z"
    },
    "papermill": {
     "duration": 0.023779,
     "end_time": "2025-08-06T17:50:34.277195",
     "exception": false,
     "start_time": "2025-08-06T17:50:34.253416",
     "status": "completed"
    },
    "tags": []
   },
   "outputs": [
    {
     "data": {
      "text/plain": [
       "4"
      ]
     },
     "execution_count": 60,
     "metadata": {},
     "output_type": "execute_result"
    }
   ],
   "source": [
    "sub_universes = universe_analysis.generate_sub_universes()\n",
    "len(sub_universes)"
   ]
  },
  {
   "cell_type": "code",
   "execution_count": 61,
   "id": "92adf7ba",
   "metadata": {
    "execution": {
     "iopub.execute_input": "2025-08-06T17:50:34.305535Z",
     "iopub.status.busy": "2025-08-06T17:50:34.304996Z",
     "iopub.status.idle": "2025-08-06T17:50:34.310603Z",
     "shell.execute_reply": "2025-08-06T17:50:34.309816Z"
    },
    "papermill": {
     "duration": 0.020809,
     "end_time": "2025-08-06T17:50:34.311963",
     "exception": false,
     "start_time": "2025-08-06T17:50:34.291154",
     "status": "completed"
    },
    "tags": []
   },
   "outputs": [],
   "source": [
    "def filter_sub_universe_data(sub_universe, org_test):\n",
    "    # Keep all rows — no filtering\n",
    "    keep_rows_mask = np.ones(org_test.shape[0], dtype=bool)\n",
    "\n",
    "    print(f\"[INFO] Keeping all rows: {keep_rows_mask.sum()} rows retained.\")\n",
    "    return keep_rows_mask"
   ]
  },
  {
   "cell_type": "code",
   "execution_count": 62,
   "id": "4a759155",
   "metadata": {
    "execution": {
     "iopub.execute_input": "2025-08-06T17:50:34.342443Z",
     "iopub.status.busy": "2025-08-06T17:50:34.342136Z",
     "iopub.status.idle": "2025-08-06T17:50:43.865235Z",
     "shell.execute_reply": "2025-08-06T17:50:43.864397Z"
    },
    "papermill": {
     "duration": 9.538956,
     "end_time": "2025-08-06T17:50:43.866958",
     "exception": false,
     "start_time": "2025-08-06T17:50:34.328002",
     "status": "completed"
    },
    "tags": []
   },
   "outputs": [
    {
     "name": "stdout",
     "output_type": "stream",
     "text": [
      "Stopping execution_time clock.\n",
      "[INFO] Keeping all rows: 89710 rows retained.\n"
     ]
    },
    {
     "name": "stdout",
     "output_type": "stream",
     "text": [
      "[INFO] Keeping all rows: 89710 rows retained.\n"
     ]
    },
    {
     "name": "stdout",
     "output_type": "stream",
     "text": [
      "[INFO] Keeping all rows: 89710 rows retained.\n"
     ]
    },
    {
     "name": "stdout",
     "output_type": "stream",
     "text": [
      "[INFO] Keeping all rows: 89710 rows retained.\n"
     ]
    },
    {
     "data": {
      "text/html": [
       "<div>\n",
       "<style scoped>\n",
       "    .dataframe tbody tr th:only-of-type {\n",
       "        vertical-align: middle;\n",
       "    }\n",
       "\n",
       "    .dataframe tbody tr th {\n",
       "        vertical-align: top;\n",
       "    }\n",
       "\n",
       "    .dataframe thead th {\n",
       "        text-align: right;\n",
       "    }\n",
       "</style>\n",
       "<table border=\"1\" class=\"dataframe\">\n",
       "  <thead>\n",
       "    <tr style=\"text-align: right;\">\n",
       "      <th></th>\n",
       "      <th>run_no</th>\n",
       "      <th>universe_id</th>\n",
       "      <th>universe_settings</th>\n",
       "      <th>execution_time</th>\n",
       "      <th>test_size_n</th>\n",
       "      <th>test_size_frac</th>\n",
       "      <th>fair_main_equalized_odds_difference</th>\n",
       "      <th>fair_main_equalized_odds_ratio</th>\n",
       "      <th>fair_main_demographic_parity_difference</th>\n",
       "      <th>fair_main_demographic_parity_ratio</th>\n",
       "      <th>...</th>\n",
       "      <th>perf_grp_precision_0</th>\n",
       "      <th>perf_grp_precision_1</th>\n",
       "      <th>perf_grp_false positive rate_0</th>\n",
       "      <th>perf_grp_false positive rate_1</th>\n",
       "      <th>perf_grp_false negative rate_0</th>\n",
       "      <th>perf_grp_false negative rate_1</th>\n",
       "      <th>perf_grp_selection rate_0</th>\n",
       "      <th>perf_grp_selection rate_1</th>\n",
       "      <th>perf_grp_count_0</th>\n",
       "      <th>perf_grp_count_1</th>\n",
       "    </tr>\n",
       "  </thead>\n",
       "  <tbody>\n",
       "    <tr>\n",
       "      <th>0</th>\n",
       "      <td>1</td>\n",
       "      <td>5b1db7df375210c31947652f9cf20c6d</td>\n",
       "      <td>{\"cutoff\": \"quantile_0.1\", \"eval_fairness_grou...</td>\n",
       "      <td>24.455659</td>\n",
       "      <td>89710</td>\n",
       "      <td>1.0</td>\n",
       "      <td>0.064476</td>\n",
       "      <td>0.931426</td>\n",
       "      <td>0.057523</td>\n",
       "      <td>0.939087</td>\n",
       "      <td>...</td>\n",
       "      <td>NaN</td>\n",
       "      <td>NaN</td>\n",
       "      <td>NaN</td>\n",
       "      <td>NaN</td>\n",
       "      <td>NaN</td>\n",
       "      <td>NaN</td>\n",
       "      <td>NaN</td>\n",
       "      <td>NaN</td>\n",
       "      <td>NaN</td>\n",
       "      <td>NaN</td>\n",
       "    </tr>\n",
       "    <tr>\n",
       "      <th>0</th>\n",
       "      <td>1</td>\n",
       "      <td>5b1db7df375210c31947652f9cf20c6d</td>\n",
       "      <td>{\"cutoff\": \"quantile_0.1\", \"eval_fairness_grou...</td>\n",
       "      <td>24.455659</td>\n",
       "      <td>89710</td>\n",
       "      <td>1.0</td>\n",
       "      <td>0.064476</td>\n",
       "      <td>0.931426</td>\n",
       "      <td>0.057523</td>\n",
       "      <td>0.939087</td>\n",
       "      <td>...</td>\n",
       "      <td>0.119142</td>\n",
       "      <td>0.142969</td>\n",
       "      <td>0.940238</td>\n",
       "      <td>0.875762</td>\n",
       "      <td>0.024071</td>\n",
       "      <td>0.040481</td>\n",
       "      <td>0.944352</td>\n",
       "      <td>0.886830</td>\n",
       "      <td>20540.0</td>\n",
       "      <td>69170.0</td>\n",
       "    </tr>\n",
       "    <tr>\n",
       "      <th>0</th>\n",
       "      <td>1</td>\n",
       "      <td>5b1db7df375210c31947652f9cf20c6d</td>\n",
       "      <td>{\"cutoff\": \"quantile_0.25\", \"eval_fairness_gro...</td>\n",
       "      <td>24.455659</td>\n",
       "      <td>89710</td>\n",
       "      <td>1.0</td>\n",
       "      <td>0.060595</td>\n",
       "      <td>0.921889</td>\n",
       "      <td>0.050774</td>\n",
       "      <td>0.935659</td>\n",
       "      <td>...</td>\n",
       "      <td>NaN</td>\n",
       "      <td>NaN</td>\n",
       "      <td>NaN</td>\n",
       "      <td>NaN</td>\n",
       "      <td>NaN</td>\n",
       "      <td>NaN</td>\n",
       "      <td>NaN</td>\n",
       "      <td>NaN</td>\n",
       "      <td>NaN</td>\n",
       "      <td>NaN</td>\n",
       "    </tr>\n",
       "    <tr>\n",
       "      <th>0</th>\n",
       "      <td>1</td>\n",
       "      <td>5b1db7df375210c31947652f9cf20c6d</td>\n",
       "      <td>{\"cutoff\": \"quantile_0.25\", \"eval_fairness_gro...</td>\n",
       "      <td>24.455659</td>\n",
       "      <td>89710</td>\n",
       "      <td>1.0</td>\n",
       "      <td>0.060595</td>\n",
       "      <td>0.921889</td>\n",
       "      <td>0.050774</td>\n",
       "      <td>0.935659</td>\n",
       "      <td>...</td>\n",
       "      <td>0.130298</td>\n",
       "      <td>0.159419</td>\n",
       "      <td>0.775754</td>\n",
       "      <td>0.715159</td>\n",
       "      <td>0.108108</td>\n",
       "      <td>0.109190</td>\n",
       "      <td>0.789143</td>\n",
       "      <td>0.738369</td>\n",
       "      <td>20540.0</td>\n",
       "      <td>69170.0</td>\n",
       "    </tr>\n",
       "  </tbody>\n",
       "</table>\n",
       "<p>4 rows × 50 columns</p>\n",
       "</div>"
      ],
      "text/plain": [
       "  run_no                       universe_id  \\\n",
       "0      1  5b1db7df375210c31947652f9cf20c6d   \n",
       "0      1  5b1db7df375210c31947652f9cf20c6d   \n",
       "0      1  5b1db7df375210c31947652f9cf20c6d   \n",
       "0      1  5b1db7df375210c31947652f9cf20c6d   \n",
       "\n",
       "                                   universe_settings  execution_time  \\\n",
       "0  {\"cutoff\": \"quantile_0.1\", \"eval_fairness_grou...       24.455659   \n",
       "0  {\"cutoff\": \"quantile_0.1\", \"eval_fairness_grou...       24.455659   \n",
       "0  {\"cutoff\": \"quantile_0.25\", \"eval_fairness_gro...       24.455659   \n",
       "0  {\"cutoff\": \"quantile_0.25\", \"eval_fairness_gro...       24.455659   \n",
       "\n",
       "   test_size_n  test_size_frac  fair_main_equalized_odds_difference  \\\n",
       "0        89710             1.0                             0.064476   \n",
       "0        89710             1.0                             0.064476   \n",
       "0        89710             1.0                             0.060595   \n",
       "0        89710             1.0                             0.060595   \n",
       "\n",
       "   fair_main_equalized_odds_ratio  fair_main_demographic_parity_difference  \\\n",
       "0                        0.931426                                 0.057523   \n",
       "0                        0.931426                                 0.057523   \n",
       "0                        0.921889                                 0.050774   \n",
       "0                        0.921889                                 0.050774   \n",
       "\n",
       "   fair_main_demographic_parity_ratio  ...  perf_grp_precision_0  \\\n",
       "0                            0.939087  ...                   NaN   \n",
       "0                            0.939087  ...              0.119142   \n",
       "0                            0.935659  ...                   NaN   \n",
       "0                            0.935659  ...              0.130298   \n",
       "\n",
       "   perf_grp_precision_1  perf_grp_false positive rate_0  \\\n",
       "0                   NaN                             NaN   \n",
       "0              0.142969                        0.940238   \n",
       "0                   NaN                             NaN   \n",
       "0              0.159419                        0.775754   \n",
       "\n",
       "   perf_grp_false positive rate_1  perf_grp_false negative rate_0  \\\n",
       "0                             NaN                             NaN   \n",
       "0                        0.875762                        0.024071   \n",
       "0                             NaN                             NaN   \n",
       "0                        0.715159                        0.108108   \n",
       "\n",
       "   perf_grp_false negative rate_1  perf_grp_selection rate_0  \\\n",
       "0                             NaN                        NaN   \n",
       "0                        0.040481                   0.944352   \n",
       "0                             NaN                        NaN   \n",
       "0                        0.109190                   0.789143   \n",
       "\n",
       "   perf_grp_selection rate_1  perf_grp_count_0  perf_grp_count_1  \n",
       "0                        NaN               NaN               NaN  \n",
       "0                   0.886830           20540.0           69170.0  \n",
       "0                        NaN               NaN               NaN  \n",
       "0                   0.738369           20540.0           69170.0  \n",
       "\n",
       "[4 rows x 50 columns]"
      ]
     },
     "execution_count": 62,
     "metadata": {},
     "output_type": "execute_result"
    }
   ],
   "source": [
    "final_output = universe_analysis.generate_final_output(\n",
    "    y_pred_prob=probs_test,\n",
    "    y_test=y_true,\n",
    "    org_test=org_test,\n",
    "    filter_data=filter_sub_universe_data,\n",
    "    cp_metrics_df=cp_metrics_df,\n",
    "    save=True,\n",
    ")\n",
    "final_output"
   ]
  },
  {
   "cell_type": "code",
   "execution_count": null,
   "id": "571f9a0f-660a-4841-b661-b06fbc637944",
   "metadata": {
    "papermill": {
     "duration": 0.014118,
     "end_time": "2025-08-06T17:50:43.897823",
     "exception": false,
     "start_time": "2025-08-06T17:50:43.883705",
     "status": "completed"
    },
    "tags": []
   },
   "outputs": [],
   "source": []
  },
  {
   "cell_type": "code",
   "execution_count": null,
   "id": "529482e3-0150-4854-a92d-ab864efc606e",
   "metadata": {
    "papermill": {
     "duration": 0.025026,
     "end_time": "2025-08-06T17:50:43.936990",
     "exception": false,
     "start_time": "2025-08-06T17:50:43.911964",
     "status": "completed"
    },
    "tags": []
   },
   "outputs": [],
   "source": []
  }
 ],
 "metadata": {
  "celltoolbar": "Tags",
  "kernelspec": {
   "display_name": "Python (CMA Fairness)",
   "language": "python",
   "name": "cma_fair_env"
  },
  "language_info": {
   "codemirror_mode": {
    "name": "ipython",
    "version": 3
   },
   "file_extension": ".py",
   "mimetype": "text/x-python",
   "name": "python",
   "nbconvert_exporter": "python",
   "pygments_lexer": "ipython3",
   "version": "3.10.12"
  },
  "papermill": {
   "default_parameters": {},
   "duration": 38.183443,
   "end_time": "2025-08-06T17:50:44.672398",
   "environment_variables": {},
   "exception": null,
   "input_path": "universe_analysis.ipynb",
   "output_path": "output/runs/1/notebooks/m_1-5b1db7df375210c31947652f9cf20c6d.ipynb",
   "parameters": {
    "output_dir": "output",
    "run_no": "1",
    "seed": "2023",
    "universe": "{\"cutoff\": [\"quantile_0.1\", \"quantile_0.25\"], \"eval_fairness_grouping\": [\"majority-minority\", \"nationality-all\"], \"exclude_features\": \"none\", \"exclude_subgroups\": \"drop-non-german\", \"model\": \"elasticnet\", \"scale\": \"scale\", \"training_size\": \"1k\", \"training_year\": \"2014\"}",
    "universe_id": "5b1db7df375210c31947652f9cf20c6d"
   },
   "start_time": "2025-08-06T17:50:06.488955",
   "version": "2.6.0"
  }
 },
 "nbformat": 4,
 "nbformat_minor": 5
}