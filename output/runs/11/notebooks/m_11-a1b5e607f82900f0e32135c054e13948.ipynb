{
 "cells": [
  {
   "cell_type": "code",
   "execution_count": 1,
   "id": "f159f837-637b-42ba-96b5-ec9a68c44524",
   "metadata": {
    "execution": {
     "iopub.execute_input": "2025-07-28T10:51:40.114838Z",
     "iopub.status.busy": "2025-07-28T10:51:40.114279Z",
     "iopub.status.idle": "2025-07-28T10:51:40.128119Z",
     "shell.execute_reply": "2025-07-28T10:51:40.127123Z"
    },
    "papermill": {
     "duration": 0.038892,
     "end_time": "2025-07-28T10:51:40.131303",
     "exception": false,
     "start_time": "2025-07-28T10:51:40.092411",
     "status": "completed"
    },
    "tags": []
   },
   "outputs": [
    {
     "name": "stdout",
     "output_type": "stream",
     "text": [
      "/dss/dsshome1/0C/ra93lal2/cma/CMA_Fairness_v2\n"
     ]
    },
    {
     "name": "stderr",
     "output_type": "stream",
     "text": [
      "/dss/dsshome1/0C/ra93lal2/.local/share/virtualenvs/CMA_Fairness_v2-3j10GkSs/lib/python3.10/site-packages/IPython/core/magics/osm.py:393: UserWarning: This is now an optional IPython functionality, using bookmarks requires you to install the `pickleshare` library.\n",
      "  bkms = self.shell.db.get('bookmarks', {})\n",
      "/dss/dsshome1/0C/ra93lal2/.local/share/virtualenvs/CMA_Fairness_v2-3j10GkSs/lib/python3.10/site-packages/IPython/core/magics/osm.py:417: UserWarning: This is now an optional IPython functionality, setting dhist requires you to install the `pickleshare` library.\n",
      "  self.shell.db['dhist'] = compress_dhist(dhist)[-100:]\n"
     ]
    }
   ],
   "source": [
    "%cd ~/cma/CMA_Fairness_v2"
   ]
  },
  {
   "cell_type": "markdown",
   "id": "de2603b9",
   "metadata": {
    "papermill": {
     "duration": 0.009945,
     "end_time": "2025-07-28T10:51:40.153535",
     "exception": false,
     "start_time": "2025-07-28T10:51:40.143590",
     "status": "completed"
    },
    "tags": []
   },
   "source": [
    "The following cell holds the definition of our parameters, these values can be overriden by rendering the with e.g. the following command:\n",
    "\n",
    "papermill -p alpha 0.2 -p ratio 0.3 universe_analysis.ipynb output/test_run.ipynb"
   ]
  },
  {
   "cell_type": "code",
   "execution_count": 2,
   "id": "a80968a0-40bb-4fa9-85ef-2d5eefb01975",
   "metadata": {
    "execution": {
     "iopub.execute_input": "2025-07-28T10:51:40.174739Z",
     "iopub.status.busy": "2025-07-28T10:51:40.174372Z",
     "iopub.status.idle": "2025-07-28T10:51:40.179359Z",
     "shell.execute_reply": "2025-07-28T10:51:40.178533Z"
    },
    "papermill": {
     "duration": 0.017549,
     "end_time": "2025-07-28T10:51:40.180864",
     "exception": false,
     "start_time": "2025-07-28T10:51:40.163315",
     "status": "completed"
    },
    "tags": []
   },
   "outputs": [
    {
     "name": "stdout",
     "output_type": "stream",
     "text": [
      "Current working directory: /dss/dsshome1/0C/ra93lal2/cma/CMA_Fairness_v2\n"
     ]
    }
   ],
   "source": [
    "import os\n",
    "print(\"Current working directory:\", os.getcwd())"
   ]
  },
  {
   "cell_type": "code",
   "execution_count": 3,
   "id": "2dce4c03",
   "metadata": {
    "execution": {
     "iopub.execute_input": "2025-07-28T10:51:40.203109Z",
     "iopub.status.busy": "2025-07-28T10:51:40.202684Z",
     "iopub.status.idle": "2025-07-28T10:51:40.208848Z",
     "shell.execute_reply": "2025-07-28T10:51:40.207874Z"
    },
    "papermill": {
     "duration": 0.023162,
     "end_time": "2025-07-28T10:51:40.214622",
     "exception": false,
     "start_time": "2025-07-28T10:51:40.191460",
     "status": "completed"
    },
    "tags": [
     "parameters"
    ]
   },
   "outputs": [],
   "source": [
    "run_no = 0\n",
    "universe_id = \"test\"\n",
    "universe = {\n",
    "    \"training_size\": \"2014\", # \"25k\", \"5k\", \"1k\", \"2014\"\n",
    "    \"scale\": \"scale\", # \"scale\", \"do-not-scale\",\n",
    "    #\"stratify_split\": \"target\", # \"none\", \"target\", \"protected-attribute\", \"both\",\n",
    "    \"model\": \"elasticnet\", # \"logreg\", \"penalized_logreg\", \"rf\", \"gbm\", \"elasticnet\"\n",
    "    \"cutoff\": [\"quantile_0.15\", \"quantile_0.30\"],\n",
    "    \"exclude_features\": \"age\", # \"none\", \"nationality\", \"sex\", \"nationality-sex\", \"age\"\n",
    "    \"exclude_subgroups\": \"keep-all\", # \"keep-all\", \"drop-non-german\"\n",
    "    \"eval_fairness_grouping\": [\"majority-minority\", \"nationality-all\"]\n",
    "}\n",
    "\n",
    "output_dir=\"./output\"\n",
    "seed=0"
   ]
  },
  {
   "cell_type": "code",
   "execution_count": 4,
   "id": "5cd5ff01",
   "metadata": {
    "execution": {
     "iopub.execute_input": "2025-07-28T10:51:40.255053Z",
     "iopub.status.busy": "2025-07-28T10:51:40.254543Z",
     "iopub.status.idle": "2025-07-28T10:51:40.259991Z",
     "shell.execute_reply": "2025-07-28T10:51:40.259108Z"
    },
    "papermill": {
     "duration": 0.028256,
     "end_time": "2025-07-28T10:51:40.261660",
     "exception": false,
     "start_time": "2025-07-28T10:51:40.233404",
     "status": "completed"
    },
    "tags": [
     "injected-parameters"
    ]
   },
   "outputs": [],
   "source": [
    "# Parameters\n",
    "universe_id = \"a1b5e607f82900f0e32135c054e13948\"\n",
    "run_no = \"11\"\n",
    "universe = \"{\\\"cutoff\\\": [\\\"quantile_0.1\\\", \\\"quantile_0.25\\\"], \\\"eval_fairness_grouping\\\": [\\\"majority-minority\\\", \\\"nationality-all\\\"], \\\"exclude_features\\\": \\\"none\\\", \\\"exclude_subgroups\\\": \\\"drop-non-german\\\", \\\"model\\\": \\\"elasticnet\\\", \\\"scale\\\": \\\"do-not-scale\\\", \\\"training_size\\\": \\\"1k\\\"}\"\n",
    "output_dir = \"output\"\n",
    "seed = \"2023\"\n"
   ]
  },
  {
   "cell_type": "code",
   "execution_count": 5,
   "id": "1650acaf",
   "metadata": {
    "execution": {
     "iopub.execute_input": "2025-07-28T10:51:40.303568Z",
     "iopub.status.busy": "2025-07-28T10:51:40.303159Z",
     "iopub.status.idle": "2025-07-28T10:51:40.308760Z",
     "shell.execute_reply": "2025-07-28T10:51:40.307705Z"
    },
    "papermill": {
     "duration": 0.028275,
     "end_time": "2025-07-28T10:51:40.310472",
     "exception": false,
     "start_time": "2025-07-28T10:51:40.282197",
     "status": "completed"
    },
    "tags": []
   },
   "outputs": [],
   "source": [
    "import json\n",
    "# Parse universe into dict if it is passed as a string\n",
    "if isinstance(universe, str):\n",
    "    universe = json.loads(universe)"
   ]
  },
  {
   "cell_type": "code",
   "execution_count": 6,
   "id": "16620c48",
   "metadata": {
    "execution": {
     "iopub.execute_input": "2025-07-28T10:51:40.351781Z",
     "iopub.status.busy": "2025-07-28T10:51:40.350996Z",
     "iopub.status.idle": "2025-07-28T10:51:40.386721Z",
     "shell.execute_reply": "2025-07-28T10:51:40.385985Z"
    },
    "papermill": {
     "duration": 0.057617,
     "end_time": "2025-07-28T10:51:40.388198",
     "exception": false,
     "start_time": "2025-07-28T10:51:40.330581",
     "status": "completed"
    },
    "tags": []
   },
   "outputs": [],
   "source": [
    "# Auto-reload the custom package\n",
    "%load_ext autoreload\n",
    "%autoreload 1\n",
    "%aimport fairness_multiverse"
   ]
  },
  {
   "cell_type": "code",
   "execution_count": 7,
   "id": "01c5c9f3",
   "metadata": {
    "execution": {
     "iopub.execute_input": "2025-07-28T10:51:40.411473Z",
     "iopub.status.busy": "2025-07-28T10:51:40.410942Z",
     "iopub.status.idle": "2025-07-28T10:51:42.491042Z",
     "shell.execute_reply": "2025-07-28T10:51:42.489884Z"
    },
    "papermill": {
     "duration": 2.094194,
     "end_time": "2025-07-28T10:51:42.493690",
     "exception": false,
     "start_time": "2025-07-28T10:51:40.399496",
     "status": "completed"
    },
    "tags": []
   },
   "outputs": [],
   "source": [
    "from fairness_multiverse.universe import UniverseAnalysis\n",
    "\n",
    "universe_analysis = UniverseAnalysis(\n",
    "    run_no = run_no,\n",
    "    universe_id = universe_id,\n",
    "    universe = universe,\n",
    "    output_dir=output_dir,\n",
    ")"
   ]
  },
  {
   "cell_type": "code",
   "execution_count": 8,
   "id": "106241f5",
   "metadata": {
    "execution": {
     "iopub.execute_input": "2025-07-28T10:51:42.548661Z",
     "iopub.status.busy": "2025-07-28T10:51:42.548017Z",
     "iopub.status.idle": "2025-07-28T10:51:42.556450Z",
     "shell.execute_reply": "2025-07-28T10:51:42.555203Z"
    },
    "papermill": {
     "duration": 0.039238,
     "end_time": "2025-07-28T10:51:42.559010",
     "exception": false,
     "start_time": "2025-07-28T10:51:42.519772",
     "status": "completed"
    },
    "tags": []
   },
   "outputs": [
    {
     "name": "stdout",
     "output_type": "stream",
     "text": [
      "Using Seed: 2023\n"
     ]
    }
   ],
   "source": [
    "import numpy as np\n",
    "parsed_seed = int(seed)\n",
    "np.random.seed(parsed_seed)\n",
    "print(f\"Using Seed: {parsed_seed}\")"
   ]
  },
  {
   "cell_type": "markdown",
   "id": "e0ebdc57",
   "metadata": {
    "papermill": {
     "duration": 0.03063,
     "end_time": "2025-07-28T10:51:42.620953",
     "exception": false,
     "start_time": "2025-07-28T10:51:42.590323",
     "status": "completed"
    },
    "tags": []
   },
   "source": [
    "# Loading Data"
   ]
  },
  {
   "cell_type": "markdown",
   "id": "681925a3",
   "metadata": {
    "papermill": {
     "duration": 0.031291,
     "end_time": "2025-07-28T10:51:42.683861",
     "exception": false,
     "start_time": "2025-07-28T10:51:42.652570",
     "status": "completed"
    },
    "tags": []
   },
   "source": [
    "Load siab_train, siab_test, siab_calib and/or \n",
    "load siab_train_features, siab_train_labels"
   ]
  },
  {
   "cell_type": "code",
   "execution_count": 9,
   "id": "f0496b8a",
   "metadata": {
    "execution": {
     "iopub.execute_input": "2025-07-28T10:51:42.747886Z",
     "iopub.status.busy": "2025-07-28T10:51:42.747340Z",
     "iopub.status.idle": "2025-07-28T10:51:54.939677Z",
     "shell.execute_reply": "2025-07-28T10:51:54.938396Z"
    },
    "papermill": {
     "duration": 12.226834,
     "end_time": "2025-07-28T10:51:54.941847",
     "exception": false,
     "start_time": "2025-07-28T10:51:42.715013",
     "status": "completed"
    },
    "tags": []
   },
   "outputs": [
    {
     "name": "stdout",
     "output_type": "stream",
     "text": [
      "Loading SIAB data from cache: data/siab_cached.csv.gz\n"
     ]
    },
    {
     "name": "stdout",
     "output_type": "stream",
     "text": [
      "(643690, 164)\n"
     ]
    }
   ],
   "source": [
    "from pathlib import Path\n",
    "import pandas as pd\n",
    "\n",
    "# File paths\n",
    "raw_file = Path(\"data/raw/siab.csv\")\n",
    "cache_file = Path(\"data/siab_cached.csv.gz\")\n",
    "\n",
    "# Ensure cache directory exists\n",
    "cache_file.parent.mkdir(parents=True, exist_ok=True)\n",
    "\n",
    "# Load with simple caching\n",
    "if cache_file.exists():\n",
    "    print(f\"Loading SIAB data from cache: {cache_file}\")\n",
    "    siab = pd.read_csv(cache_file, compression='gzip')\n",
    "else:\n",
    "    print(f\"Cache not found. Reading raw SIAB data: {raw_file}\")\n",
    "    siab = pd.read_csv(raw_file)\n",
    "    siab.to_csv(cache_file, index=False, compression='gzip')\n",
    "    print(f\"Cached SIAB data to: {cache_file}\")\n",
    "\n",
    "# Now use `siab` DataFrame as needed\n",
    "print(siab.shape)"
   ]
  },
  {
   "cell_type": "code",
   "execution_count": 10,
   "id": "db0ca512-5f53-4dba-abdb-a2888bca41ba",
   "metadata": {
    "execution": {
     "iopub.execute_input": "2025-07-28T10:51:54.989233Z",
     "iopub.status.busy": "2025-07-28T10:51:54.988699Z",
     "iopub.status.idle": "2025-07-28T10:51:54.994773Z",
     "shell.execute_reply": "2025-07-28T10:51:54.993877Z"
    },
    "papermill": {
     "duration": 0.030447,
     "end_time": "2025-07-28T10:51:54.996391",
     "exception": false,
     "start_time": "2025-07-28T10:51:54.965944",
     "status": "completed"
    },
    "tags": []
   },
   "outputs": [],
   "source": [
    "#siab"
   ]
  },
  {
   "cell_type": "code",
   "execution_count": 11,
   "id": "a0edb063",
   "metadata": {
    "execution": {
     "iopub.execute_input": "2025-07-28T10:51:55.039486Z",
     "iopub.status.busy": "2025-07-28T10:51:55.038749Z",
     "iopub.status.idle": "2025-07-28T10:51:55.043860Z",
     "shell.execute_reply": "2025-07-28T10:51:55.042866Z"
    },
    "papermill": {
     "duration": 0.028863,
     "end_time": "2025-07-28T10:51:55.045505",
     "exception": false,
     "start_time": "2025-07-28T10:51:55.016642",
     "status": "completed"
    },
    "tags": []
   },
   "outputs": [],
   "source": [
    "#import pandas as pd\n",
    "#\n",
    "#X_train = pd.read_csv(\"./data/X_train.csv\")\n",
    "#y_train = pd.read_csv(\"./data/y_train.csv\")"
   ]
  },
  {
   "cell_type": "code",
   "execution_count": 12,
   "id": "63d08085",
   "metadata": {
    "execution": {
     "iopub.execute_input": "2025-07-28T10:51:55.087678Z",
     "iopub.status.busy": "2025-07-28T10:51:55.086972Z",
     "iopub.status.idle": "2025-07-28T10:51:55.092483Z",
     "shell.execute_reply": "2025-07-28T10:51:55.091478Z"
    },
    "papermill": {
     "duration": 0.027937,
     "end_time": "2025-07-28T10:51:55.094196",
     "exception": false,
     "start_time": "2025-07-28T10:51:55.066259",
     "status": "completed"
    },
    "tags": []
   },
   "outputs": [],
   "source": [
    "#X_test = pd.read_csv(\"./data/X_test.csv\")\n",
    "#y_true = pd.read_csv(\"./data/y_test.csv\")"
   ]
  },
  {
   "cell_type": "code",
   "execution_count": 13,
   "id": "98a8d0fa-1d3d-4ed8-bb2c-281470e24add",
   "metadata": {
    "execution": {
     "iopub.execute_input": "2025-07-28T10:51:55.137152Z",
     "iopub.status.busy": "2025-07-28T10:51:55.136480Z",
     "iopub.status.idle": "2025-07-28T10:51:55.142219Z",
     "shell.execute_reply": "2025-07-28T10:51:55.141245Z"
    },
    "papermill": {
     "duration": 0.028704,
     "end_time": "2025-07-28T10:51:55.143955",
     "exception": false,
     "start_time": "2025-07-28T10:51:55.115251",
     "status": "completed"
    },
    "tags": []
   },
   "outputs": [],
   "source": [
    "# Calibration data for conformal\n",
    "#X_calib = pd.read_csv(\"./data/X_calib.csv\")\n",
    "#y_calib = pd.read_csv(\"./data/y_calib.csv\")"
   ]
  },
  {
   "cell_type": "markdown",
   "id": "9901737e-04df-44f0-9100-f5ad144ed040",
   "metadata": {
    "papermill": {
     "duration": 0.018463,
     "end_time": "2025-07-28T10:51:55.182774",
     "exception": false,
     "start_time": "2025-07-28T10:51:55.164311",
     "status": "completed"
    },
    "tags": []
   },
   "source": [
    "# Splitting Data and Setting Training Data Size"
   ]
  },
  {
   "cell_type": "code",
   "execution_count": 14,
   "id": "acbc8f7d-8fc8-4e86-8c59-5dcb0f58384b",
   "metadata": {
    "execution": {
     "iopub.execute_input": "2025-07-28T10:51:55.223833Z",
     "iopub.status.busy": "2025-07-28T10:51:55.222907Z",
     "iopub.status.idle": "2025-07-28T10:51:55.232637Z",
     "shell.execute_reply": "2025-07-28T10:51:55.231645Z"
    },
    "papermill": {
     "duration": 0.032795,
     "end_time": "2025-07-28T10:51:55.234348",
     "exception": false,
     "start_time": "2025-07-28T10:51:55.201553",
     "status": "completed"
    },
    "tags": []
   },
   "outputs": [],
   "source": [
    "def sample_by_year(df, training_size, random_state=42):\n",
    "    if training_size == \"2014\":\n",
    "        return df[df[\"year\"] == 2014].reset_index(drop=True)\n",
    "    \n",
    "    size_map = {\n",
    "        \"25k\": 5000,\n",
    "        \"5k\": 1000,\n",
    "        \"1k\": 200\n",
    "    }\n",
    "\n",
    "    if training_size not in size_map:\n",
    "        return df.reset_index(drop=True)  # use all data\n",
    "\n",
    "    n_per_year = size_map[training_size]\n",
    "    grouped = df.groupby(\"year\")\n",
    "    sampled = grouped.apply(lambda x: x.sample(n=min(n_per_year, len(x)), random_state=random_state))\n",
    "    return sampled.reset_index(drop=True)"
   ]
  },
  {
   "cell_type": "code",
   "execution_count": 15,
   "id": "6d931f52-beaf-43ff-9e78-9d44a448d54e",
   "metadata": {
    "execution": {
     "iopub.execute_input": "2025-07-28T10:51:55.277173Z",
     "iopub.status.busy": "2025-07-28T10:51:55.276521Z",
     "iopub.status.idle": "2025-07-28T10:51:55.976523Z",
     "shell.execute_reply": "2025-07-28T10:51:55.975372Z"
    },
    "papermill": {
     "duration": 0.724451,
     "end_time": "2025-07-28T10:51:55.978519",
     "exception": false,
     "start_time": "2025-07-28T10:51:55.254068",
     "status": "completed"
    },
    "tags": []
   },
   "outputs": [],
   "source": [
    "siab_s = sample_by_year(siab, universe[\"training_size\"])"
   ]
  },
  {
   "cell_type": "code",
   "execution_count": 16,
   "id": "5db0a40e-a4e2-4920-be85-b12ae061d70d",
   "metadata": {
    "execution": {
     "iopub.execute_input": "2025-07-28T10:51:56.026084Z",
     "iopub.status.busy": "2025-07-28T10:51:56.025201Z",
     "iopub.status.idle": "2025-07-28T10:51:56.040066Z",
     "shell.execute_reply": "2025-07-28T10:51:56.039103Z"
    },
    "papermill": {
     "duration": 0.038767,
     "end_time": "2025-07-28T10:51:56.041877",
     "exception": false,
     "start_time": "2025-07-28T10:51:56.003110",
     "status": "completed"
    },
    "tags": []
   },
   "outputs": [
    {
     "data": {
      "text/plain": [
       "year\n",
       "2010    200\n",
       "2011    200\n",
       "2012    200\n",
       "2013    200\n",
       "2014    200\n",
       "2015    200\n",
       "2016    200\n",
       "dtype: int64"
      ]
     },
     "metadata": {},
     "output_type": "display_data"
    }
   ],
   "source": [
    "display(siab_s.groupby(\"year\").size())"
   ]
  },
  {
   "cell_type": "code",
   "execution_count": 17,
   "id": "a561edb4-d032-42cb-8256-22eac1111c64",
   "metadata": {
    "execution": {
     "iopub.execute_input": "2025-07-28T10:51:56.084157Z",
     "iopub.status.busy": "2025-07-28T10:51:56.083270Z",
     "iopub.status.idle": "2025-07-28T10:51:56.314466Z",
     "shell.execute_reply": "2025-07-28T10:51:56.313656Z"
    },
    "papermill": {
     "duration": 0.254199,
     "end_time": "2025-07-28T10:51:56.316376",
     "exception": false,
     "start_time": "2025-07-28T10:51:56.062177",
     "status": "completed"
    },
    "tags": []
   },
   "outputs": [],
   "source": [
    "siab_train = siab_s[siab_s.year < 2015]\n",
    "siab_calib = siab[siab.year == 2015]\n",
    "siab_test = siab[siab.year == 2016]"
   ]
  },
  {
   "cell_type": "code",
   "execution_count": 18,
   "id": "472de16f-c3db-4916-846b-1f0de9cf1746",
   "metadata": {
    "execution": {
     "iopub.execute_input": "2025-07-28T10:51:56.359136Z",
     "iopub.status.busy": "2025-07-28T10:51:56.358684Z",
     "iopub.status.idle": "2025-07-28T10:51:56.365465Z",
     "shell.execute_reply": "2025-07-28T10:51:56.364640Z"
    },
    "papermill": {
     "duration": 0.029935,
     "end_time": "2025-07-28T10:51:56.366981",
     "exception": false,
     "start_time": "2025-07-28T10:51:56.337046",
     "status": "completed"
    },
    "tags": []
   },
   "outputs": [],
   "source": [
    "X_train = siab_train.iloc[:,4:164]\n",
    "y_train = siab_train.iloc[:, [3]]"
   ]
  },
  {
   "cell_type": "code",
   "execution_count": 19,
   "id": "828c96af-f43a-4ed6-ba47-8ac73a47d56c",
   "metadata": {
    "execution": {
     "iopub.execute_input": "2025-07-28T10:51:56.409607Z",
     "iopub.status.busy": "2025-07-28T10:51:56.408919Z",
     "iopub.status.idle": "2025-07-28T10:51:56.603173Z",
     "shell.execute_reply": "2025-07-28T10:51:56.602176Z"
    },
    "papermill": {
     "duration": 0.217826,
     "end_time": "2025-07-28T10:51:56.605148",
     "exception": false,
     "start_time": "2025-07-28T10:51:56.387322",
     "status": "completed"
    },
    "tags": []
   },
   "outputs": [],
   "source": [
    "X_calib = siab_calib.iloc[:,4:164]\n",
    "y_calib = siab_calib.iloc[:, [3]]"
   ]
  },
  {
   "cell_type": "code",
   "execution_count": 20,
   "id": "c34be9c3-6bd6-476e-acd3-845840e303be",
   "metadata": {
    "execution": {
     "iopub.execute_input": "2025-07-28T10:51:56.648688Z",
     "iopub.status.busy": "2025-07-28T10:51:56.648251Z",
     "iopub.status.idle": "2025-07-28T10:51:56.703001Z",
     "shell.execute_reply": "2025-07-28T10:51:56.702022Z"
    },
    "papermill": {
     "duration": 0.078089,
     "end_time": "2025-07-28T10:51:56.704947",
     "exception": false,
     "start_time": "2025-07-28T10:51:56.626858",
     "status": "completed"
    },
    "tags": []
   },
   "outputs": [],
   "source": [
    "X_test = siab_test.iloc[:,4:164]\n",
    "y_true = siab_test.iloc[:, [3]]"
   ]
  },
  {
   "cell_type": "code",
   "execution_count": 21,
   "id": "e6c733c5",
   "metadata": {
    "execution": {
     "iopub.execute_input": "2025-07-28T10:51:56.746963Z",
     "iopub.status.busy": "2025-07-28T10:51:56.746268Z",
     "iopub.status.idle": "2025-07-28T10:51:56.850261Z",
     "shell.execute_reply": "2025-07-28T10:51:56.849326Z"
    },
    "papermill": {
     "duration": 0.126948,
     "end_time": "2025-07-28T10:51:56.852245",
     "exception": false,
     "start_time": "2025-07-28T10:51:56.725297",
     "status": "completed"
    },
    "tags": []
   },
   "outputs": [],
   "source": [
    "# Auxiliary data needed downstream in the pipeline\n",
    "\n",
    "org_train = X_train.copy()\n",
    "org_test = X_test.copy()\n",
    "org_calib = X_calib.copy()"
   ]
  },
  {
   "cell_type": "markdown",
   "id": "0a4a1b33",
   "metadata": {
    "papermill": {
     "duration": 0.019911,
     "end_time": "2025-07-28T10:51:56.893308",
     "exception": false,
     "start_time": "2025-07-28T10:51:56.873397",
     "status": "completed"
    },
    "tags": []
   },
   "source": [
    "# Preprocessing Data"
   ]
  },
  {
   "cell_type": "code",
   "execution_count": 22,
   "id": "ca879031",
   "metadata": {
    "execution": {
     "iopub.execute_input": "2025-07-28T10:51:56.934582Z",
     "iopub.status.busy": "2025-07-28T10:51:56.933777Z",
     "iopub.status.idle": "2025-07-28T10:51:56.939882Z",
     "shell.execute_reply": "2025-07-28T10:51:56.938949Z"
    },
    "papermill": {
     "duration": 0.028594,
     "end_time": "2025-07-28T10:51:56.941540",
     "exception": false,
     "start_time": "2025-07-28T10:51:56.912946",
     "status": "completed"
    },
    "tags": []
   },
   "outputs": [],
   "source": [
    "# EXCLUDE PROTECTED FEATURES\n",
    "# ----------------------\n",
    "# \"exclude_features\": \"none\", # \"nationality\", \"sex\", \"nationality-sex\"\n",
    "\n",
    "excluded_features = universe[\"exclude_features\"].split(\"-\") # split, e.g.: \"nationality-sex\" -> [\"nationality\", \"sex\"]\n",
    "excluded_features_dictionary = {\n",
    "    \"nationality\": [\"maxdeutsch1\", \"maxdeutsch.Missing.\"],\n",
    "    \"sex\": [\"frau1\"],\n",
    "    \"age\": [\"age\"],\n",
    "}\n"
   ]
  },
  {
   "cell_type": "code",
   "execution_count": 23,
   "id": "b745ac60",
   "metadata": {
    "execution": {
     "iopub.execute_input": "2025-07-28T10:51:56.983024Z",
     "iopub.status.busy": "2025-07-28T10:51:56.982559Z",
     "iopub.status.idle": "2025-07-28T10:51:56.988243Z",
     "shell.execute_reply": "2025-07-28T10:51:56.987336Z"
    },
    "papermill": {
     "duration": 0.02805,
     "end_time": "2025-07-28T10:51:56.989977",
     "exception": false,
     "start_time": "2025-07-28T10:51:56.961927",
     "status": "completed"
    },
    "tags": []
   },
   "outputs": [],
   "source": [
    "# Code nice names to column names\n",
    "\n",
    "excluded_features_columns = [\n",
    "    excluded_features_dictionary[f] for f in excluded_features if len(f) > 0 and f != \"none\"\n",
    "]"
   ]
  },
  {
   "cell_type": "code",
   "execution_count": 24,
   "id": "f84f73a2",
   "metadata": {
    "execution": {
     "iopub.execute_input": "2025-07-28T10:51:57.032328Z",
     "iopub.status.busy": "2025-07-28T10:51:57.031881Z",
     "iopub.status.idle": "2025-07-28T10:51:57.038637Z",
     "shell.execute_reply": "2025-07-28T10:51:57.037727Z"
    },
    "papermill": {
     "duration": 0.029435,
     "end_time": "2025-07-28T10:51:57.040381",
     "exception": false,
     "start_time": "2025-07-28T10:51:57.010946",
     "status": "completed"
    },
    "tags": []
   },
   "outputs": [],
   "source": [
    "from utils import flatten_once\n",
    "\n",
    "excluded_features_columns = flatten_once(excluded_features_columns)"
   ]
  },
  {
   "cell_type": "code",
   "execution_count": 25,
   "id": "884dea22",
   "metadata": {
    "execution": {
     "iopub.execute_input": "2025-07-28T10:51:57.082450Z",
     "iopub.status.busy": "2025-07-28T10:51:57.081714Z",
     "iopub.status.idle": "2025-07-28T10:51:57.087688Z",
     "shell.execute_reply": "2025-07-28T10:51:57.086673Z"
    },
    "papermill": {
     "duration": 0.02843,
     "end_time": "2025-07-28T10:51:57.089345",
     "exception": false,
     "start_time": "2025-07-28T10:51:57.060915",
     "status": "completed"
    },
    "tags": []
   },
   "outputs": [],
   "source": [
    "if len(excluded_features_columns) > 0:\n",
    "    print(f\"Dropping features: {excluded_features_columns}\")\n",
    "    X_train.drop(excluded_features_columns, axis=1, inplace=True)"
   ]
  },
  {
   "cell_type": "code",
   "execution_count": 26,
   "id": "95ab8b16",
   "metadata": {
    "execution": {
     "iopub.execute_input": "2025-07-28T10:51:57.133538Z",
     "iopub.status.busy": "2025-07-28T10:51:57.132635Z",
     "iopub.status.idle": "2025-07-28T10:51:57.138382Z",
     "shell.execute_reply": "2025-07-28T10:51:57.137450Z"
    },
    "papermill": {
     "duration": 0.030094,
     "end_time": "2025-07-28T10:51:57.140069",
     "exception": false,
     "start_time": "2025-07-28T10:51:57.109975",
     "status": "completed"
    },
    "tags": []
   },
   "outputs": [],
   "source": [
    "if len(excluded_features_columns) > 0:\n",
    "    print(f\"Dropping features: {excluded_features_columns}\")\n",
    "    X_test.drop(excluded_features_columns, axis=1, inplace=True)"
   ]
  },
  {
   "cell_type": "code",
   "execution_count": 27,
   "id": "1853aaf5-fb9f-46cb-a2b5-8ea4ae2237e4",
   "metadata": {
    "execution": {
     "iopub.execute_input": "2025-07-28T10:51:57.182517Z",
     "iopub.status.busy": "2025-07-28T10:51:57.181536Z",
     "iopub.status.idle": "2025-07-28T10:51:57.189235Z",
     "shell.execute_reply": "2025-07-28T10:51:57.186869Z"
    },
    "papermill": {
     "duration": 0.031234,
     "end_time": "2025-07-28T10:51:57.191443",
     "exception": false,
     "start_time": "2025-07-28T10:51:57.160209",
     "status": "completed"
    },
    "tags": []
   },
   "outputs": [],
   "source": [
    "if len(excluded_features_columns) > 0:\n",
    "    print(f\"Dropping features: {excluded_features_columns}\")\n",
    "    X_calib.drop(excluded_features_columns, axis=1, inplace=True)"
   ]
  },
  {
   "cell_type": "code",
   "execution_count": 28,
   "id": "6727d079-03e5-481e-9d38-292a90b7a0a8",
   "metadata": {
    "execution": {
     "iopub.execute_input": "2025-07-28T10:51:57.238174Z",
     "iopub.status.busy": "2025-07-28T10:51:57.237730Z",
     "iopub.status.idle": "2025-07-28T10:51:57.242661Z",
     "shell.execute_reply": "2025-07-28T10:51:57.241687Z"
    },
    "papermill": {
     "duration": 0.030061,
     "end_time": "2025-07-28T10:51:57.244290",
     "exception": false,
     "start_time": "2025-07-28T10:51:57.214229",
     "status": "completed"
    },
    "tags": []
   },
   "outputs": [],
   "source": [
    "# SPLIT & STRATIFY DATA\n",
    "# ----------------------"
   ]
  },
  {
   "cell_type": "code",
   "execution_count": 29,
   "id": "76c4dc6d",
   "metadata": {
    "execution": {
     "iopub.execute_input": "2025-07-28T10:51:57.291762Z",
     "iopub.status.busy": "2025-07-28T10:51:57.290701Z",
     "iopub.status.idle": "2025-07-28T10:51:57.296943Z",
     "shell.execute_reply": "2025-07-28T10:51:57.295956Z"
    },
    "papermill": {
     "duration": 0.034622,
     "end_time": "2025-07-28T10:51:57.301352",
     "exception": false,
     "start_time": "2025-07-28T10:51:57.266730",
     "status": "completed"
    },
    "tags": []
   },
   "outputs": [],
   "source": [
    "# EXCLUDE CERTAIN SUBGROUPS\n",
    "# ----------------------\n",
    "\n",
    "mode = universe.get(\"exclude_subgroups\", \"keep-all\") \n",
    "# Fetches the exclude_subgroups setting from the universe dict.\n",
    "# Defaults to \"keep-all\" if the key is missing."
   ]
  },
  {
   "cell_type": "code",
   "execution_count": 30,
   "id": "21994072",
   "metadata": {
    "execution": {
     "iopub.execute_input": "2025-07-28T10:51:57.345567Z",
     "iopub.status.busy": "2025-07-28T10:51:57.345083Z",
     "iopub.status.idle": "2025-07-28T10:51:57.352545Z",
     "shell.execute_reply": "2025-07-28T10:51:57.351494Z"
    },
    "papermill": {
     "duration": 0.030243,
     "end_time": "2025-07-28T10:51:57.354058",
     "exception": false,
     "start_time": "2025-07-28T10:51:57.323815",
     "status": "completed"
    },
    "tags": []
   },
   "outputs": [],
   "source": [
    "if mode == \"keep-all\":\n",
    "    keep_mask = pd.Series(True, index=org_train.index)\n",
    "\n",
    "# org_train contains the original feature columns from features_org (in Simson)\n",
    "# features_org contains unprocessed features, for me X_train at beginning ???\n",
    "# For keep-all, creates a boolean Series (keep_mask) of all True, so no rows are removed.\n",
    "\n",
    "elif mode == \"drop-non-german\":\n",
    "    keep_mask = org_train[\"maxdeutsch1\"] == 1 # ??? what about missing values?\n",
    "\n",
    "else:\n",
    "    raise ValueError(f\"Unsupported mode for exclude_subgroups: {mode}\")\n"
   ]
  },
  {
   "cell_type": "code",
   "execution_count": 31,
   "id": "71651440",
   "metadata": {
    "execution": {
     "iopub.execute_input": "2025-07-28T10:51:57.397966Z",
     "iopub.status.busy": "2025-07-28T10:51:57.397383Z",
     "iopub.status.idle": "2025-07-28T10:51:57.405396Z",
     "shell.execute_reply": "2025-07-28T10:51:57.404371Z"
    },
    "papermill": {
     "duration": 0.032321,
     "end_time": "2025-07-28T10:51:57.406968",
     "exception": false,
     "start_time": "2025-07-28T10:51:57.374647",
     "status": "completed"
    },
    "tags": []
   },
   "outputs": [
    {
     "name": "stdout",
     "output_type": "stream",
     "text": [
      "Dropping 131 rows (13.10%) where mode='drop-non-german'\n"
     ]
    }
   ],
   "source": [
    "n_drop = (~keep_mask).sum() # Calculates how many rows are set to be dropped\n",
    "if n_drop > 0:\n",
    "    pct = n_drop / len(keep_mask) * 100\n",
    "    print(f\"Dropping {n_drop} rows ({pct:.2f}%) where mode='{mode}'\")"
   ]
  },
  {
   "cell_type": "code",
   "execution_count": 32,
   "id": "5fb8eee5",
   "metadata": {
    "execution": {
     "iopub.execute_input": "2025-07-28T10:51:57.450864Z",
     "iopub.status.busy": "2025-07-28T10:51:57.449974Z",
     "iopub.status.idle": "2025-07-28T10:51:57.456817Z",
     "shell.execute_reply": "2025-07-28T10:51:57.455832Z"
    },
    "papermill": {
     "duration": 0.030313,
     "end_time": "2025-07-28T10:51:57.458790",
     "exception": false,
     "start_time": "2025-07-28T10:51:57.428477",
     "status": "completed"
    },
    "tags": []
   },
   "outputs": [],
   "source": [
    "X_train = X_train[keep_mask]"
   ]
  },
  {
   "cell_type": "code",
   "execution_count": 33,
   "id": "b202bb3a",
   "metadata": {
    "execution": {
     "iopub.execute_input": "2025-07-28T10:51:57.501992Z",
     "iopub.status.busy": "2025-07-28T10:51:57.501215Z",
     "iopub.status.idle": "2025-07-28T10:51:57.507444Z",
     "shell.execute_reply": "2025-07-28T10:51:57.506551Z"
    },
    "papermill": {
     "duration": 0.029428,
     "end_time": "2025-07-28T10:51:57.509203",
     "exception": false,
     "start_time": "2025-07-28T10:51:57.479775",
     "status": "completed"
    },
    "tags": []
   },
   "outputs": [],
   "source": [
    "y_train = y_train[keep_mask]"
   ]
  },
  {
   "cell_type": "markdown",
   "id": "493e2ac3",
   "metadata": {
    "papermill": {
     "duration": 0.020197,
     "end_time": "2025-07-28T10:51:57.550497",
     "exception": false,
     "start_time": "2025-07-28T10:51:57.530300",
     "status": "completed"
    },
    "tags": []
   },
   "source": [
    "# Model Training"
   ]
  },
  {
   "cell_type": "code",
   "execution_count": 34,
   "id": "679e1268",
   "metadata": {
    "execution": {
     "iopub.execute_input": "2025-07-28T10:51:57.593593Z",
     "iopub.status.busy": "2025-07-28T10:51:57.593073Z",
     "iopub.status.idle": "2025-07-28T10:51:57.701824Z",
     "shell.execute_reply": "2025-07-28T10:51:57.700822Z"
    },
    "papermill": {
     "duration": 0.133043,
     "end_time": "2025-07-28T10:51:57.703784",
     "exception": false,
     "start_time": "2025-07-28T10:51:57.570741",
     "status": "completed"
    },
    "tags": []
   },
   "outputs": [],
   "source": [
    "from sklearn.linear_model import LogisticRegression\n",
    "from sklearn.ensemble import GradientBoostingClassifier, RandomForestClassifier\n",
    "\n",
    "if (universe[\"model\"] == \"logreg\"):\n",
    "    model = LogisticRegression() #penalty=\"none\") #, solver=\"newton-cg\", max_iter=1) # include random_state=19 ?\n",
    "elif (universe[\"model\"] == \"penalized_logreg\"):\n",
    "    model = LogisticRegression(penalty=\"l2\", C=1.0) #, solver=\"newton-cg\", max_iter=1)\n",
    "elif (universe[\"model\"] == \"rf\"):\n",
    "    model = RandomForestClassifier(n_estimators=100, n_jobs=-1)\n",
    "elif (universe[\"model\"] == \"gbm\"):\n",
    "    model = GradientBoostingClassifier()\n",
    "elif (universe[\"model\"] == \"elasticnet\"):\n",
    "    model = LogisticRegression(penalty = 'elasticnet', solver = 'saga', l1_ratio = 0.5, max_iter=5000) # which solver to use?\n",
    "else:\n",
    "    raise \"Unsupported universe.model\""
   ]
  },
  {
   "cell_type": "code",
   "execution_count": 35,
   "id": "0cc8f744",
   "metadata": {
    "execution": {
     "iopub.execute_input": "2025-07-28T10:51:57.747596Z",
     "iopub.status.busy": "2025-07-28T10:51:57.746567Z",
     "iopub.status.idle": "2025-07-28T10:51:57.753439Z",
     "shell.execute_reply": "2025-07-28T10:51:57.752490Z"
    },
    "papermill": {
     "duration": 0.029775,
     "end_time": "2025-07-28T10:51:57.754837",
     "exception": false,
     "start_time": "2025-07-28T10:51:57.725062",
     "status": "completed"
    },
    "tags": []
   },
   "outputs": [],
   "source": [
    "import numpy as np\n",
    "from sklearn.pipeline import Pipeline\n",
    "from sklearn.preprocessing import StandardScaler\n",
    "\n",
    "model = Pipeline([\n",
    "    #(\"continuous_processor\", continuous_processor),\n",
    "    #(\"categorical_preprocessor\", categorical_preprocessor),\n",
    "    (\"scale\", StandardScaler() if universe[\"scale\"] == \"scale\" else None), \n",
    "    (\"model\", model),\n",
    "])"
   ]
  },
  {
   "cell_type": "code",
   "execution_count": 36,
   "id": "9442c04d",
   "metadata": {
    "execution": {
     "iopub.execute_input": "2025-07-28T10:51:57.779728Z",
     "iopub.status.busy": "2025-07-28T10:51:57.779233Z",
     "iopub.status.idle": "2025-07-28T10:52:15.485751Z",
     "shell.execute_reply": "2025-07-28T10:52:15.484579Z"
    },
    "papermill": {
     "duration": 17.72051,
     "end_time": "2025-07-28T10:52:15.487711",
     "exception": false,
     "start_time": "2025-07-28T10:51:57.767201",
     "status": "completed"
    },
    "tags": []
   },
   "outputs": [
    {
     "name": "stderr",
     "output_type": "stream",
     "text": [
      "/dss/dsshome1/0C/ra93lal2/.local/share/virtualenvs/CMA_Fairness_v2-3j10GkSs/lib/python3.10/site-packages/sklearn/linear_model/_sag.py:350: ConvergenceWarning: The max_iter was reached which means the coef_ did not converge\n",
      "  warnings.warn(\n"
     ]
    },
    {
     "data": {
      "text/html": [
       "<style>#sk-container-id-1 {color: black;background-color: white;}#sk-container-id-1 pre{padding: 0;}#sk-container-id-1 div.sk-toggleable {background-color: white;}#sk-container-id-1 label.sk-toggleable__label {cursor: pointer;display: block;width: 100%;margin-bottom: 0;padding: 0.3em;box-sizing: border-box;text-align: center;}#sk-container-id-1 label.sk-toggleable__label-arrow:before {content: \"▸\";float: left;margin-right: 0.25em;color: #696969;}#sk-container-id-1 label.sk-toggleable__label-arrow:hover:before {color: black;}#sk-container-id-1 div.sk-estimator:hover label.sk-toggleable__label-arrow:before {color: black;}#sk-container-id-1 div.sk-toggleable__content {max-height: 0;max-width: 0;overflow: hidden;text-align: left;background-color: #f0f8ff;}#sk-container-id-1 div.sk-toggleable__content pre {margin: 0.2em;color: black;border-radius: 0.25em;background-color: #f0f8ff;}#sk-container-id-1 input.sk-toggleable__control:checked~div.sk-toggleable__content {max-height: 200px;max-width: 100%;overflow: auto;}#sk-container-id-1 input.sk-toggleable__control:checked~label.sk-toggleable__label-arrow:before {content: \"▾\";}#sk-container-id-1 div.sk-estimator input.sk-toggleable__control:checked~label.sk-toggleable__label {background-color: #d4ebff;}#sk-container-id-1 div.sk-label input.sk-toggleable__control:checked~label.sk-toggleable__label {background-color: #d4ebff;}#sk-container-id-1 input.sk-hidden--visually {border: 0;clip: rect(1px 1px 1px 1px);clip: rect(1px, 1px, 1px, 1px);height: 1px;margin: -1px;overflow: hidden;padding: 0;position: absolute;width: 1px;}#sk-container-id-1 div.sk-estimator {font-family: monospace;background-color: #f0f8ff;border: 1px dotted black;border-radius: 0.25em;box-sizing: border-box;margin-bottom: 0.5em;}#sk-container-id-1 div.sk-estimator:hover {background-color: #d4ebff;}#sk-container-id-1 div.sk-parallel-item::after {content: \"\";width: 100%;border-bottom: 1px solid gray;flex-grow: 1;}#sk-container-id-1 div.sk-label:hover label.sk-toggleable__label {background-color: #d4ebff;}#sk-container-id-1 div.sk-serial::before {content: \"\";position: absolute;border-left: 1px solid gray;box-sizing: border-box;top: 0;bottom: 0;left: 50%;z-index: 0;}#sk-container-id-1 div.sk-serial {display: flex;flex-direction: column;align-items: center;background-color: white;padding-right: 0.2em;padding-left: 0.2em;position: relative;}#sk-container-id-1 div.sk-item {position: relative;z-index: 1;}#sk-container-id-1 div.sk-parallel {display: flex;align-items: stretch;justify-content: center;background-color: white;position: relative;}#sk-container-id-1 div.sk-item::before, #sk-container-id-1 div.sk-parallel-item::before {content: \"\";position: absolute;border-left: 1px solid gray;box-sizing: border-box;top: 0;bottom: 0;left: 50%;z-index: -1;}#sk-container-id-1 div.sk-parallel-item {display: flex;flex-direction: column;z-index: 1;position: relative;background-color: white;}#sk-container-id-1 div.sk-parallel-item:first-child::after {align-self: flex-end;width: 50%;}#sk-container-id-1 div.sk-parallel-item:last-child::after {align-self: flex-start;width: 50%;}#sk-container-id-1 div.sk-parallel-item:only-child::after {width: 0;}#sk-container-id-1 div.sk-dashed-wrapped {border: 1px dashed gray;margin: 0 0.4em 0.5em 0.4em;box-sizing: border-box;padding-bottom: 0.4em;background-color: white;}#sk-container-id-1 div.sk-label label {font-family: monospace;font-weight: bold;display: inline-block;line-height: 1.2em;}#sk-container-id-1 div.sk-label-container {text-align: center;}#sk-container-id-1 div.sk-container {/* jupyter's `normalize.less` sets `[hidden] { display: none; }` but bootstrap.min.css set `[hidden] { display: none !important; }` so we also need the `!important` here to be able to override the default hidden behavior on the sphinx rendered scikit-learn.org. See: https://github.com/scikit-learn/scikit-learn/issues/21755 */display: inline-block !important;position: relative;}#sk-container-id-1 div.sk-text-repr-fallback {display: none;}</style><div id=\"sk-container-id-1\" class=\"sk-top-container\"><div class=\"sk-text-repr-fallback\"><pre>Pipeline(steps=[(&#x27;scale&#x27;, None),\n",
       "                (&#x27;model&#x27;,\n",
       "                 LogisticRegression(l1_ratio=0.5, max_iter=5000,\n",
       "                                    penalty=&#x27;elasticnet&#x27;, solver=&#x27;saga&#x27;))])</pre><b>In a Jupyter environment, please rerun this cell to show the HTML representation or trust the notebook. <br />On GitHub, the HTML representation is unable to render, please try loading this page with nbviewer.org.</b></div><div class=\"sk-container\" hidden><div class=\"sk-item sk-dashed-wrapped\"><div class=\"sk-label-container\"><div class=\"sk-label sk-toggleable\"><input class=\"sk-toggleable__control sk-hidden--visually\" id=\"sk-estimator-id-1\" type=\"checkbox\" ><label for=\"sk-estimator-id-1\" class=\"sk-toggleable__label sk-toggleable__label-arrow\">Pipeline</label><div class=\"sk-toggleable__content\"><pre>Pipeline(steps=[(&#x27;scale&#x27;, None),\n",
       "                (&#x27;model&#x27;,\n",
       "                 LogisticRegression(l1_ratio=0.5, max_iter=5000,\n",
       "                                    penalty=&#x27;elasticnet&#x27;, solver=&#x27;saga&#x27;))])</pre></div></div></div><div class=\"sk-serial\"><div class=\"sk-item\"><div class=\"sk-estimator sk-toggleable\"><input class=\"sk-toggleable__control sk-hidden--visually\" id=\"sk-estimator-id-2\" type=\"checkbox\" ><label for=\"sk-estimator-id-2\" class=\"sk-toggleable__label sk-toggleable__label-arrow\">None</label><div class=\"sk-toggleable__content\"><pre>None</pre></div></div></div><div class=\"sk-item\"><div class=\"sk-estimator sk-toggleable\"><input class=\"sk-toggleable__control sk-hidden--visually\" id=\"sk-estimator-id-3\" type=\"checkbox\" ><label for=\"sk-estimator-id-3\" class=\"sk-toggleable__label sk-toggleable__label-arrow\">LogisticRegression</label><div class=\"sk-toggleable__content\"><pre>LogisticRegression(l1_ratio=0.5, max_iter=5000, penalty=&#x27;elasticnet&#x27;,\n",
       "                   solver=&#x27;saga&#x27;)</pre></div></div></div></div></div></div></div>"
      ],
      "text/plain": [
       "Pipeline(steps=[('scale', None),\n",
       "                ('model',\n",
       "                 LogisticRegression(l1_ratio=0.5, max_iter=5000,\n",
       "                                    penalty='elasticnet', solver='saga'))])"
      ]
     },
     "execution_count": 36,
     "metadata": {},
     "output_type": "execute_result"
    }
   ],
   "source": [
    "model.fit(X_train, y_train.values.ravel())"
   ]
  },
  {
   "cell_type": "code",
   "execution_count": 37,
   "id": "af59f8c0",
   "metadata": {
    "execution": {
     "iopub.execute_input": "2025-07-28T10:52:15.535124Z",
     "iopub.status.busy": "2025-07-28T10:52:15.534489Z",
     "iopub.status.idle": "2025-07-28T10:52:15.540570Z",
     "shell.execute_reply": "2025-07-28T10:52:15.539684Z"
    },
    "papermill": {
     "duration": 0.030269,
     "end_time": "2025-07-28T10:52:15.542227",
     "exception": false,
     "start_time": "2025-07-28T10:52:15.511958",
     "status": "completed"
    },
    "tags": []
   },
   "outputs": [],
   "source": [
    "from fairness_multiverse.universe import predict_w_threshold"
   ]
  },
  {
   "cell_type": "code",
   "execution_count": 38,
   "id": "a7cf2e16",
   "metadata": {
    "execution": {
     "iopub.execute_input": "2025-07-28T10:52:15.586740Z",
     "iopub.status.busy": "2025-07-28T10:52:15.585894Z",
     "iopub.status.idle": "2025-07-28T10:52:15.686142Z",
     "shell.execute_reply": "2025-07-28T10:52:15.685092Z"
    },
    "papermill": {
     "duration": 0.12434,
     "end_time": "2025-07-28T10:52:15.687978",
     "exception": false,
     "start_time": "2025-07-28T10:52:15.563638",
     "status": "completed"
    },
    "tags": []
   },
   "outputs": [
    {
     "data": {
      "text/plain": [
       "0.8631479210790325"
      ]
     },
     "execution_count": 38,
     "metadata": {},
     "output_type": "execute_result"
    }
   ],
   "source": [
    "probs_test = model.predict_proba(X_test)\n",
    "\n",
    "'''\n",
    "Below code returns a boolean array (or binary 0/1 array depending on how it’s used) where each element \n",
    "is True if the probability of class 1 is greater than or equal to the threshold, and False otherwise.\n",
    "'''\n",
    "y_pred_default = predict_w_threshold(probs_test, 0.5)\n",
    "\n",
    "from sklearn.metrics import accuracy_score\n",
    "\n",
    "# Naive prediction\n",
    "accuracy_score(y_true = y_true, y_pred = y_pred_default)"
   ]
  },
  {
   "cell_type": "code",
   "execution_count": 39,
   "id": "081964c3",
   "metadata": {
    "execution": {
     "iopub.execute_input": "2025-07-28T10:52:15.736597Z",
     "iopub.status.busy": "2025-07-28T10:52:15.735871Z",
     "iopub.status.idle": "2025-07-28T10:52:15.820951Z",
     "shell.execute_reply": "2025-07-28T10:52:15.819914Z"
    },
    "papermill": {
     "duration": 0.111483,
     "end_time": "2025-07-28T10:52:15.822877",
     "exception": false,
     "start_time": "2025-07-28T10:52:15.711394",
     "status": "completed"
    },
    "tags": []
   },
   "outputs": [
    {
     "data": {
      "text/plain": [
       "array([0, 0, 0, ..., 0, 0, 0])"
      ]
     },
     "execution_count": 39,
     "metadata": {},
     "output_type": "execute_result"
    }
   ],
   "source": [
    "model.predict(X_test)"
   ]
  },
  {
   "cell_type": "markdown",
   "id": "56c9705b",
   "metadata": {
    "papermill": {
     "duration": 0.022357,
     "end_time": "2025-07-28T10:52:15.869331",
     "exception": false,
     "start_time": "2025-07-28T10:52:15.846974",
     "status": "completed"
    },
    "tags": []
   },
   "source": [
    "# Conformal Prediction"
   ]
  },
  {
   "cell_type": "code",
   "execution_count": 40,
   "id": "160ec6ff",
   "metadata": {
    "execution": {
     "iopub.execute_input": "2025-07-28T10:52:15.917154Z",
     "iopub.status.busy": "2025-07-28T10:52:15.916447Z",
     "iopub.status.idle": "2025-07-28T10:52:15.922487Z",
     "shell.execute_reply": "2025-07-28T10:52:15.921519Z"
    },
    "papermill": {
     "duration": 0.032393,
     "end_time": "2025-07-28T10:52:15.924136",
     "exception": false,
     "start_time": "2025-07-28T10:52:15.891743",
     "status": "completed"
    },
    "tags": []
   },
   "outputs": [],
   "source": [
    "# Miscoverage level for conformal prediction (10% allowed error rate => 90% target coverage)\n",
    "alpha = 0.1"
   ]
  },
  {
   "cell_type": "code",
   "execution_count": 41,
   "id": "eadf4555-3dd3-440e-8e35-f82a4ad9f855",
   "metadata": {
    "execution": {
     "iopub.execute_input": "2025-07-28T10:52:15.971847Z",
     "iopub.status.busy": "2025-07-28T10:52:15.971135Z",
     "iopub.status.idle": "2025-07-28T10:52:16.053293Z",
     "shell.execute_reply": "2025-07-28T10:52:16.052232Z"
    },
    "papermill": {
     "duration": 0.108091,
     "end_time": "2025-07-28T10:52:16.055277",
     "exception": false,
     "start_time": "2025-07-28T10:52:15.947186",
     "status": "completed"
    },
    "tags": []
   },
   "outputs": [],
   "source": [
    "probs_calib = model.predict_proba(X_calib)"
   ]
  },
  {
   "cell_type": "code",
   "execution_count": 42,
   "id": "2ed93547-6d5d-4983-9b36-1ecb300da49a",
   "metadata": {
    "execution": {
     "iopub.execute_input": "2025-07-28T10:52:16.104186Z",
     "iopub.status.busy": "2025-07-28T10:52:16.103517Z",
     "iopub.status.idle": "2025-07-28T10:52:16.109302Z",
     "shell.execute_reply": "2025-07-28T10:52:16.108419Z"
    },
    "papermill": {
     "duration": 0.031988,
     "end_time": "2025-07-28T10:52:16.110888",
     "exception": false,
     "start_time": "2025-07-28T10:52:16.078900",
     "status": "completed"
    },
    "tags": []
   },
   "outputs": [],
   "source": [
    "y_calib = y_calib.values.ravel().astype(int)"
   ]
  },
  {
   "cell_type": "code",
   "execution_count": 43,
   "id": "65d1320d-f588-4b38-9072-62af1ae97f7d",
   "metadata": {
    "execution": {
     "iopub.execute_input": "2025-07-28T10:52:16.158669Z",
     "iopub.status.busy": "2025-07-28T10:52:16.157982Z",
     "iopub.status.idle": "2025-07-28T10:52:16.165838Z",
     "shell.execute_reply": "2025-07-28T10:52:16.164935Z"
    },
    "papermill": {
     "duration": 0.033898,
     "end_time": "2025-07-28T10:52:16.167503",
     "exception": false,
     "start_time": "2025-07-28T10:52:16.133605",
     "status": "completed"
    },
    "tags": []
   },
   "outputs": [],
   "source": [
    "from fairness_multiverse.conformal import compute_nc_scores\n",
    "\n",
    "# Compute nonconformity scores on calibration set (1 - probability of true class)\n",
    "nc_scores = compute_nc_scores(probs_calib, y_calib)"
   ]
  },
  {
   "cell_type": "code",
   "execution_count": 44,
   "id": "df3b8ca3-53b7-43d5-9667-7c85da7aeda2",
   "metadata": {
    "execution": {
     "iopub.execute_input": "2025-07-28T10:52:16.214063Z",
     "iopub.status.busy": "2025-07-28T10:52:16.213492Z",
     "iopub.status.idle": "2025-07-28T10:52:16.220463Z",
     "shell.execute_reply": "2025-07-28T10:52:16.219511Z"
    },
    "papermill": {
     "duration": 0.032062,
     "end_time": "2025-07-28T10:52:16.222014",
     "exception": false,
     "start_time": "2025-07-28T10:52:16.189952",
     "status": "completed"
    },
    "tags": []
   },
   "outputs": [],
   "source": [
    "from fairness_multiverse.conformal import find_threshold\n",
    "\n",
    "# Find conformal threshold q_hat for the given alpha (split conformal method)\n",
    "q_hat = find_threshold(nc_scores, alpha)"
   ]
  },
  {
   "cell_type": "code",
   "execution_count": 45,
   "id": "4d29e6c1-0ef6-4aa4-b8fe-4fe79b0d033a",
   "metadata": {
    "execution": {
     "iopub.execute_input": "2025-07-28T10:52:16.267974Z",
     "iopub.status.busy": "2025-07-28T10:52:16.267304Z",
     "iopub.status.idle": "2025-07-28T10:52:16.275089Z",
     "shell.execute_reply": "2025-07-28T10:52:16.274097Z"
    },
    "papermill": {
     "duration": 0.032236,
     "end_time": "2025-07-28T10:52:16.276825",
     "exception": false,
     "start_time": "2025-07-28T10:52:16.244589",
     "status": "completed"
    },
    "tags": []
   },
   "outputs": [
    {
     "data": {
      "text/plain": [
       "0.6909967687802409"
      ]
     },
     "execution_count": 45,
     "metadata": {},
     "output_type": "execute_result"
    }
   ],
   "source": [
    "q_hat"
   ]
  },
  {
   "cell_type": "code",
   "execution_count": 46,
   "id": "92460794-cdac-4be2-ba28-f28c0515a6fb",
   "metadata": {
    "execution": {
     "iopub.execute_input": "2025-07-28T10:52:16.323710Z",
     "iopub.status.busy": "2025-07-28T10:52:16.323071Z",
     "iopub.status.idle": "2025-07-28T10:52:17.160223Z",
     "shell.execute_reply": "2025-07-28T10:52:17.159227Z"
    },
    "papermill": {
     "duration": 0.862531,
     "end_time": "2025-07-28T10:52:17.162312",
     "exception": false,
     "start_time": "2025-07-28T10:52:16.299781",
     "status": "completed"
    },
    "tags": []
   },
   "outputs": [],
   "source": [
    "from fairness_multiverse.conformal import predict_conformal_sets\n",
    "\n",
    "# Generate prediction sets for each test example\n",
    "pred_sets = predict_conformal_sets(model, X_test, q_hat)"
   ]
  },
  {
   "cell_type": "code",
   "execution_count": 47,
   "id": "d90c9a65-e6db-4f5d-80cd-e68fb7e46829",
   "metadata": {
    "execution": {
     "iopub.execute_input": "2025-07-28T10:52:17.209254Z",
     "iopub.status.busy": "2025-07-28T10:52:17.208529Z",
     "iopub.status.idle": "2025-07-28T10:52:17.214633Z",
     "shell.execute_reply": "2025-07-28T10:52:17.213624Z"
    },
    "papermill": {
     "duration": 0.031567,
     "end_time": "2025-07-28T10:52:17.216467",
     "exception": false,
     "start_time": "2025-07-28T10:52:17.184900",
     "status": "completed"
    },
    "tags": []
   },
   "outputs": [],
   "source": [
    "y_true = y_true.squeeze()"
   ]
  },
  {
   "cell_type": "code",
   "execution_count": 48,
   "id": "3a58a54a-1e68-46b9-927a-df01f18aebc8",
   "metadata": {
    "execution": {
     "iopub.execute_input": "2025-07-28T10:52:17.265433Z",
     "iopub.status.busy": "2025-07-28T10:52:17.264477Z",
     "iopub.status.idle": "2025-07-28T10:52:18.254188Z",
     "shell.execute_reply": "2025-07-28T10:52:18.253192Z"
    },
    "papermill": {
     "duration": 1.014785,
     "end_time": "2025-07-28T10:52:18.256110",
     "exception": false,
     "start_time": "2025-07-28T10:52:17.241325",
     "status": "completed"
    },
    "tags": []
   },
   "outputs": [],
   "source": [
    "from fairness_multiverse.conformal import evaluate_sets\n",
    "\n",
    "# Evaluate coverage and average set size on test data\n",
    "metrics = evaluate_sets(pred_sets, y_true)"
   ]
  },
  {
   "cell_type": "markdown",
   "id": "2b569c12-9aaa-4c88-98c9-bbcd0cf3ebb8",
   "metadata": {
    "papermill": {
     "duration": 0.022097,
     "end_time": "2025-07-28T10:52:18.303441",
     "exception": false,
     "start_time": "2025-07-28T10:52:18.281344",
     "status": "completed"
    },
    "tags": []
   },
   "source": [
    "# CP Metrics"
   ]
  },
  {
   "cell_type": "code",
   "execution_count": 49,
   "id": "5ce0a5cb-201f-45a0-ade5-94c7f0bd6095",
   "metadata": {
    "execution": {
     "iopub.execute_input": "2025-07-28T10:52:18.350474Z",
     "iopub.status.busy": "2025-07-28T10:52:18.349861Z",
     "iopub.status.idle": "2025-07-28T10:52:18.357229Z",
     "shell.execute_reply": "2025-07-28T10:52:18.356244Z"
    },
    "papermill": {
     "duration": 0.033451,
     "end_time": "2025-07-28T10:52:18.358813",
     "exception": false,
     "start_time": "2025-07-28T10:52:18.325362",
     "status": "completed"
    },
    "tags": []
   },
   "outputs": [
    {
     "data": {
      "text/plain": [
       "{'coverage': 0.9131869356816409, 'avg_size': 1.2532828001337644}"
      ]
     },
     "execution_count": 49,
     "metadata": {},
     "output_type": "execute_result"
    }
   ],
   "source": [
    "metrics"
   ]
  },
  {
   "cell_type": "code",
   "execution_count": 50,
   "id": "9b9a838d-31c9-430b-ae14-12baee460d17",
   "metadata": {
    "execution": {
     "iopub.execute_input": "2025-07-28T10:52:18.409614Z",
     "iopub.status.busy": "2025-07-28T10:52:18.408621Z",
     "iopub.status.idle": "2025-07-28T10:52:18.415567Z",
     "shell.execute_reply": "2025-07-28T10:52:18.414478Z"
    },
    "papermill": {
     "duration": 0.034328,
     "end_time": "2025-07-28T10:52:18.417263",
     "exception": false,
     "start_time": "2025-07-28T10:52:18.382935",
     "status": "completed"
    },
    "tags": []
   },
   "outputs": [],
   "source": [
    "example_universe = universe.copy()\n",
    "universe_training_size = example_universe.get(\"training_size\")\n",
    "universe_scale = example_universe.get(\"scale\")\n",
    "universe_model = example_universe.get(\"model\")\n",
    "universe_exclude_features = example_universe.get(\"exclude_features\")\n",
    "universe_exclude_subgroups = example_universe.get(\"exclude_subgroups\")"
   ]
  },
  {
   "cell_type": "code",
   "execution_count": 51,
   "id": "f4b6a8ac-9dc0-4245-8a91-5b3b5999c4f9",
   "metadata": {
    "execution": {
     "iopub.execute_input": "2025-07-28T10:52:18.467707Z",
     "iopub.status.busy": "2025-07-28T10:52:18.467017Z",
     "iopub.status.idle": "2025-07-28T10:52:18.473824Z",
     "shell.execute_reply": "2025-07-28T10:52:18.472839Z"
    },
    "papermill": {
     "duration": 0.034017,
     "end_time": "2025-07-28T10:52:18.475399",
     "exception": false,
     "start_time": "2025-07-28T10:52:18.441382",
     "status": "completed"
    },
    "tags": []
   },
   "outputs": [],
   "source": [
    "cp_metrics_dict = {\n",
    "    \"universe_id\": [universe_id],\n",
    "    \"universe_training_size\": [universe_training_size],\n",
    "    \"universe_scale\": [universe_scale],\n",
    "    \"universe_model\": [universe_model],\n",
    "    \"universe_exclude_features\": [universe_exclude_features],\n",
    "    \"universe_exclude_subgroups\": [universe_exclude_subgroups],\n",
    "    \"q_hat\": [q_hat],\n",
    "    \"coverage\": [metrics[\"coverage\"]],\n",
    "    \"avg_size\": [metrics[\"avg_size\"]],\n",
    "}"
   ]
  },
  {
   "cell_type": "code",
   "execution_count": 52,
   "id": "908acbb1-0371-4915-85ca-3fa520d2efe2",
   "metadata": {
    "execution": {
     "iopub.execute_input": "2025-07-28T10:52:18.525132Z",
     "iopub.status.busy": "2025-07-28T10:52:18.524418Z",
     "iopub.status.idle": "2025-07-28T10:52:18.532727Z",
     "shell.execute_reply": "2025-07-28T10:52:18.531739Z"
    },
    "papermill": {
     "duration": 0.034769,
     "end_time": "2025-07-28T10:52:18.534349",
     "exception": false,
     "start_time": "2025-07-28T10:52:18.499580",
     "status": "completed"
    },
    "tags": []
   },
   "outputs": [
    {
     "data": {
      "text/plain": [
       "{'universe_id': ['a1b5e607f82900f0e32135c054e13948'],\n",
       " 'universe_training_size': ['1k'],\n",
       " 'universe_scale': ['do-not-scale'],\n",
       " 'universe_model': ['elasticnet'],\n",
       " 'universe_exclude_features': ['none'],\n",
       " 'universe_exclude_subgroups': ['drop-non-german'],\n",
       " 'q_hat': [0.6909967687802409],\n",
       " 'coverage': [0.9131869356816409],\n",
       " 'avg_size': [1.2532828001337644]}"
      ]
     },
     "execution_count": 52,
     "metadata": {},
     "output_type": "execute_result"
    }
   ],
   "source": [
    "cp_metrics_dict"
   ]
  },
  {
   "cell_type": "code",
   "execution_count": 53,
   "id": "33007efc-14e9-4ec6-97ac-56a455c82265",
   "metadata": {
    "execution": {
     "iopub.execute_input": "2025-07-28T10:52:18.585259Z",
     "iopub.status.busy": "2025-07-28T10:52:18.584595Z",
     "iopub.status.idle": "2025-07-28T10:52:18.590879Z",
     "shell.execute_reply": "2025-07-28T10:52:18.589912Z"
    },
    "papermill": {
     "duration": 0.033312,
     "end_time": "2025-07-28T10:52:18.592647",
     "exception": false,
     "start_time": "2025-07-28T10:52:18.559335",
     "status": "completed"
    },
    "tags": []
   },
   "outputs": [],
   "source": [
    "cp_metrics_df = pd.DataFrame(cp_metrics_dict)"
   ]
  },
  {
   "cell_type": "code",
   "execution_count": 54,
   "id": "db12611b-57b2-4910-b9d0-355adfd6e7bf",
   "metadata": {
    "execution": {
     "iopub.execute_input": "2025-07-28T10:52:18.644455Z",
     "iopub.status.busy": "2025-07-28T10:52:18.643740Z",
     "iopub.status.idle": "2025-07-28T10:52:18.662355Z",
     "shell.execute_reply": "2025-07-28T10:52:18.661342Z"
    },
    "papermill": {
     "duration": 0.046402,
     "end_time": "2025-07-28T10:52:18.664292",
     "exception": false,
     "start_time": "2025-07-28T10:52:18.617890",
     "status": "completed"
    },
    "tags": []
   },
   "outputs": [
    {
     "data": {
      "text/html": [
       "<div>\n",
       "<style scoped>\n",
       "    .dataframe tbody tr th:only-of-type {\n",
       "        vertical-align: middle;\n",
       "    }\n",
       "\n",
       "    .dataframe tbody tr th {\n",
       "        vertical-align: top;\n",
       "    }\n",
       "\n",
       "    .dataframe thead th {\n",
       "        text-align: right;\n",
       "    }\n",
       "</style>\n",
       "<table border=\"1\" class=\"dataframe\">\n",
       "  <thead>\n",
       "    <tr style=\"text-align: right;\">\n",
       "      <th></th>\n",
       "      <th>universe_id</th>\n",
       "      <th>universe_training_size</th>\n",
       "      <th>universe_scale</th>\n",
       "      <th>universe_model</th>\n",
       "      <th>universe_exclude_features</th>\n",
       "      <th>universe_exclude_subgroups</th>\n",
       "      <th>q_hat</th>\n",
       "      <th>coverage</th>\n",
       "      <th>avg_size</th>\n",
       "    </tr>\n",
       "  </thead>\n",
       "  <tbody>\n",
       "    <tr>\n",
       "      <th>0</th>\n",
       "      <td>a1b5e607f82900f0e32135c054e13948</td>\n",
       "      <td>1k</td>\n",
       "      <td>do-not-scale</td>\n",
       "      <td>elasticnet</td>\n",
       "      <td>none</td>\n",
       "      <td>drop-non-german</td>\n",
       "      <td>0.690997</td>\n",
       "      <td>0.913187</td>\n",
       "      <td>1.253283</td>\n",
       "    </tr>\n",
       "  </tbody>\n",
       "</table>\n",
       "</div>"
      ],
      "text/plain": [
       "                        universe_id universe_training_size universe_scale  \\\n",
       "0  a1b5e607f82900f0e32135c054e13948                     1k   do-not-scale   \n",
       "\n",
       "  universe_model universe_exclude_features universe_exclude_subgroups  \\\n",
       "0     elasticnet                      none            drop-non-german   \n",
       "\n",
       "      q_hat  coverage  avg_size  \n",
       "0  0.690997  0.913187  1.253283  "
      ]
     },
     "execution_count": 54,
     "metadata": {},
     "output_type": "execute_result"
    }
   ],
   "source": [
    "cp_metrics_df"
   ]
  },
  {
   "cell_type": "code",
   "execution_count": 55,
   "id": "b7fbde55-a0a1-47e4-9af6-fe4a17fa8c61",
   "metadata": {
    "execution": {
     "iopub.execute_input": "2025-07-28T10:52:18.716796Z",
     "iopub.status.busy": "2025-07-28T10:52:18.715351Z",
     "iopub.status.idle": "2025-07-28T10:52:18.721412Z",
     "shell.execute_reply": "2025-07-28T10:52:18.720476Z"
    },
    "papermill": {
     "duration": 0.033433,
     "end_time": "2025-07-28T10:52:18.723422",
     "exception": false,
     "start_time": "2025-07-28T10:52:18.689989",
     "status": "completed"
    },
    "tags": []
   },
   "outputs": [],
   "source": [
    "# Conditional Coverage & looking at subgroups"
   ]
  },
  {
   "cell_type": "code",
   "execution_count": 56,
   "id": "027ae886-68dd-4141-96c7-805a5450e1ef",
   "metadata": {
    "execution": {
     "iopub.execute_input": "2025-07-28T10:52:18.776420Z",
     "iopub.status.busy": "2025-07-28T10:52:18.775786Z",
     "iopub.status.idle": "2025-07-28T10:52:19.047047Z",
     "shell.execute_reply": "2025-07-28T10:52:19.045881Z"
    },
    "papermill": {
     "duration": 0.29977,
     "end_time": "2025-07-28T10:52:19.049008",
     "exception": false,
     "start_time": "2025-07-28T10:52:18.749238",
     "status": "completed"
    },
    "tags": []
   },
   "outputs": [],
   "source": [
    "from fairness_multiverse.conformal import build_cp_groups\n",
    "\n",
    "cp_groups_df = build_cp_groups(pred_sets, y_true, X_test.index, org_test)\n",
    "#needs universe_id and setting"
   ]
  },
  {
   "cell_type": "code",
   "execution_count": 57,
   "id": "01d5802c-663a-4d1f-9d69-e036faaffbf7",
   "metadata": {
    "execution": {
     "iopub.execute_input": "2025-07-28T10:52:19.101090Z",
     "iopub.status.busy": "2025-07-28T10:52:19.100496Z",
     "iopub.status.idle": "2025-07-28T10:52:19.105870Z",
     "shell.execute_reply": "2025-07-28T10:52:19.104828Z"
    },
    "papermill": {
     "duration": 0.033823,
     "end_time": "2025-07-28T10:52:19.107681",
     "exception": false,
     "start_time": "2025-07-28T10:52:19.073858",
     "status": "completed"
    },
    "tags": []
   },
   "outputs": [],
   "source": [
    "#delete\n",
    "#cp_groups_df"
   ]
  },
  {
   "cell_type": "code",
   "execution_count": 58,
   "id": "fa424af1-d1eb-443d-b717-2d279ada8408",
   "metadata": {
    "execution": {
     "iopub.execute_input": "2025-07-28T10:52:19.159488Z",
     "iopub.status.busy": "2025-07-28T10:52:19.158795Z",
     "iopub.status.idle": "2025-07-28T10:52:19.163910Z",
     "shell.execute_reply": "2025-07-28T10:52:19.162910Z"
    },
    "papermill": {
     "duration": 0.032625,
     "end_time": "2025-07-28T10:52:19.165664",
     "exception": false,
     "start_time": "2025-07-28T10:52:19.133039",
     "status": "completed"
    },
    "tags": []
   },
   "outputs": [],
   "source": [
    "#delete\n",
    "#percentage = (cp_groups_df['nongerman_female'] == 1).mean() * 100\n",
    "#print(percentage)\n"
   ]
  },
  {
   "cell_type": "code",
   "execution_count": 59,
   "id": "6cbdab96-b2b2-45af-ad54-d0516db2e28d",
   "metadata": {
    "execution": {
     "iopub.execute_input": "2025-07-28T10:52:19.217625Z",
     "iopub.status.busy": "2025-07-28T10:52:19.216946Z",
     "iopub.status.idle": "2025-07-28T10:52:20.891295Z",
     "shell.execute_reply": "2025-07-28T10:52:20.890201Z"
    },
    "papermill": {
     "duration": 1.701966,
     "end_time": "2025-07-28T10:52:20.893296",
     "exception": false,
     "start_time": "2025-07-28T10:52:19.191330",
     "status": "completed"
    },
    "tags": []
   },
   "outputs": [],
   "source": [
    "# Define covered = 1 if true_label is in the predicted set\n",
    "cp_groups_df['covered'] = cp_groups_df.apply(\n",
    "    lambda r: int(r['true_label'] in r['pred_set']),\n",
    "    axis=1\n",
    ")"
   ]
  },
  {
   "cell_type": "code",
   "execution_count": 60,
   "id": "338ff529-1a6b-4b87-a931-8e4788d52aad",
   "metadata": {
    "execution": {
     "iopub.execute_input": "2025-07-28T10:52:20.946397Z",
     "iopub.status.busy": "2025-07-28T10:52:20.945374Z",
     "iopub.status.idle": "2025-07-28T10:52:20.951298Z",
     "shell.execute_reply": "2025-07-28T10:52:20.950355Z"
    },
    "papermill": {
     "duration": 0.034403,
     "end_time": "2025-07-28T10:52:20.952987",
     "exception": false,
     "start_time": "2025-07-28T10:52:20.918584",
     "status": "completed"
    },
    "tags": []
   },
   "outputs": [],
   "source": [
    "#cp_groups_df"
   ]
  },
  {
   "cell_type": "code",
   "execution_count": 61,
   "id": "90032e27-66df-4540-9169-4e89cfbaa758",
   "metadata": {
    "execution": {
     "iopub.execute_input": "2025-07-28T10:52:21.002825Z",
     "iopub.status.busy": "2025-07-28T10:52:21.002240Z",
     "iopub.status.idle": "2025-07-28T10:52:21.015969Z",
     "shell.execute_reply": "2025-07-28T10:52:21.014967Z"
    },
    "papermill": {
     "duration": 0.040313,
     "end_time": "2025-07-28T10:52:21.017722",
     "exception": false,
     "start_time": "2025-07-28T10:52:20.977409",
     "status": "completed"
    },
    "tags": []
   },
   "outputs": [],
   "source": [
    "subgroups = ['frau1','nongerman','nongerman_male','nongerman_female']\n",
    "\n",
    "# Conditional coverage for subgroup==1\n",
    "cond_coverage = {\n",
    "    g: cp_groups_df.loc[cp_groups_df[g]==1, 'covered'].mean()\n",
    "    for g in subgroups\n",
    "}"
   ]
  },
  {
   "cell_type": "code",
   "execution_count": 62,
   "id": "1e348fb1-b9c3-45bc-ba23-f016827a7e0d",
   "metadata": {
    "execution": {
     "iopub.execute_input": "2025-07-28T10:52:21.070118Z",
     "iopub.status.busy": "2025-07-28T10:52:21.069655Z",
     "iopub.status.idle": "2025-07-28T10:52:21.076893Z",
     "shell.execute_reply": "2025-07-28T10:52:21.075919Z"
    },
    "papermill": {
     "duration": 0.034555,
     "end_time": "2025-07-28T10:52:21.078523",
     "exception": false,
     "start_time": "2025-07-28T10:52:21.043968",
     "status": "completed"
    },
    "tags": []
   },
   "outputs": [
    {
     "data": {
      "text/plain": [
       "{'frau1': 0.9118749157568405,\n",
       " 'nongerman': 0.9512154044798743,\n",
       " 'nongerman_male': 0.9599207421417635,\n",
       " 'nongerman_female': 0.9368107302533532}"
      ]
     },
     "execution_count": 62,
     "metadata": {},
     "output_type": "execute_result"
    }
   ],
   "source": [
    "cond_coverage"
   ]
  },
  {
   "cell_type": "code",
   "execution_count": 63,
   "id": "f5093324-c3dd-4d63-bc4c-8d945e5c8bbb",
   "metadata": {
    "execution": {
     "iopub.execute_input": "2025-07-28T10:52:21.133036Z",
     "iopub.status.busy": "2025-07-28T10:52:21.132339Z",
     "iopub.status.idle": "2025-07-28T10:52:21.139976Z",
     "shell.execute_reply": "2025-07-28T10:52:21.138931Z"
    },
    "papermill": {
     "duration": 0.036066,
     "end_time": "2025-07-28T10:52:21.141669",
     "exception": false,
     "start_time": "2025-07-28T10:52:21.105603",
     "status": "completed"
    },
    "tags": []
   },
   "outputs": [],
   "source": [
    "for subgroup, cov in cond_coverage.items():\n",
    "    cp_metrics_df[f\"cov_{subgroup}\"] = cov"
   ]
  },
  {
   "cell_type": "code",
   "execution_count": 64,
   "id": "6e872e10-dbe5-49e8-b554-5030c98ff75d",
   "metadata": {
    "execution": {
     "iopub.execute_input": "2025-07-28T10:52:21.195666Z",
     "iopub.status.busy": "2025-07-28T10:52:21.195022Z",
     "iopub.status.idle": "2025-07-28T10:52:21.213786Z",
     "shell.execute_reply": "2025-07-28T10:52:21.212827Z"
    },
    "papermill": {
     "duration": 0.047598,
     "end_time": "2025-07-28T10:52:21.215580",
     "exception": false,
     "start_time": "2025-07-28T10:52:21.167982",
     "status": "completed"
    },
    "tags": []
   },
   "outputs": [
    {
     "data": {
      "text/html": [
       "<div>\n",
       "<style scoped>\n",
       "    .dataframe tbody tr th:only-of-type {\n",
       "        vertical-align: middle;\n",
       "    }\n",
       "\n",
       "    .dataframe tbody tr th {\n",
       "        vertical-align: top;\n",
       "    }\n",
       "\n",
       "    .dataframe thead th {\n",
       "        text-align: right;\n",
       "    }\n",
       "</style>\n",
       "<table border=\"1\" class=\"dataframe\">\n",
       "  <thead>\n",
       "    <tr style=\"text-align: right;\">\n",
       "      <th></th>\n",
       "      <th>universe_id</th>\n",
       "      <th>universe_training_size</th>\n",
       "      <th>universe_scale</th>\n",
       "      <th>universe_model</th>\n",
       "      <th>universe_exclude_features</th>\n",
       "      <th>universe_exclude_subgroups</th>\n",
       "      <th>q_hat</th>\n",
       "      <th>coverage</th>\n",
       "      <th>avg_size</th>\n",
       "      <th>cov_frau1</th>\n",
       "      <th>cov_nongerman</th>\n",
       "      <th>cov_nongerman_male</th>\n",
       "      <th>cov_nongerman_female</th>\n",
       "    </tr>\n",
       "  </thead>\n",
       "  <tbody>\n",
       "    <tr>\n",
       "      <th>0</th>\n",
       "      <td>a1b5e607f82900f0e32135c054e13948</td>\n",
       "      <td>1k</td>\n",
       "      <td>do-not-scale</td>\n",
       "      <td>elasticnet</td>\n",
       "      <td>none</td>\n",
       "      <td>drop-non-german</td>\n",
       "      <td>0.690997</td>\n",
       "      <td>0.913187</td>\n",
       "      <td>1.253283</td>\n",
       "      <td>0.911875</td>\n",
       "      <td>0.951215</td>\n",
       "      <td>0.959921</td>\n",
       "      <td>0.936811</td>\n",
       "    </tr>\n",
       "  </tbody>\n",
       "</table>\n",
       "</div>"
      ],
      "text/plain": [
       "                        universe_id universe_training_size universe_scale  \\\n",
       "0  a1b5e607f82900f0e32135c054e13948                     1k   do-not-scale   \n",
       "\n",
       "  universe_model universe_exclude_features universe_exclude_subgroups  \\\n",
       "0     elasticnet                      none            drop-non-german   \n",
       "\n",
       "      q_hat  coverage  avg_size  cov_frau1  cov_nongerman  cov_nongerman_male  \\\n",
       "0  0.690997  0.913187  1.253283   0.911875       0.951215            0.959921   \n",
       "\n",
       "   cov_nongerman_female  \n",
       "0              0.936811  "
      ]
     },
     "execution_count": 64,
     "metadata": {},
     "output_type": "execute_result"
    }
   ],
   "source": [
    "cp_metrics_df"
   ]
  },
  {
   "cell_type": "markdown",
   "id": "33774451",
   "metadata": {
    "papermill": {
     "duration": 0.025575,
     "end_time": "2025-07-28T10:52:21.268431",
     "exception": false,
     "start_time": "2025-07-28T10:52:21.242856",
     "status": "completed"
    },
    "tags": []
   },
   "source": [
    "# (Fairness) Metrics"
   ]
  },
  {
   "cell_type": "code",
   "execution_count": 65,
   "id": "debc5d62",
   "metadata": {
    "execution": {
     "iopub.execute_input": "2025-07-28T10:52:21.322220Z",
     "iopub.status.busy": "2025-07-28T10:52:21.321227Z",
     "iopub.status.idle": "2025-07-28T10:52:21.345808Z",
     "shell.execute_reply": "2025-07-28T10:52:21.344802Z"
    },
    "papermill": {
     "duration": 0.053985,
     "end_time": "2025-07-28T10:52:21.347612",
     "exception": false,
     "start_time": "2025-07-28T10:52:21.293627",
     "status": "completed"
    },
    "tags": []
   },
   "outputs": [],
   "source": [
    "# do I need to include maxdeutsch1.missing?\n",
    "\n",
    "import numpy as np\n",
    "\n",
    "colname_to_bin = \"maxdeutsch1\"\n",
    "majority_value = org_train[colname_to_bin].mode()[0]\n",
    "\n",
    "org_test[\"majmin\"] = np.where(org_test[colname_to_bin] == majority_value, \"majority\", \"minority\")"
   ]
  },
  {
   "cell_type": "code",
   "execution_count": 66,
   "id": "06a50de5",
   "metadata": {
    "execution": {
     "iopub.execute_input": "2025-07-28T10:52:21.402988Z",
     "iopub.status.busy": "2025-07-28T10:52:21.402382Z",
     "iopub.status.idle": "2025-07-28T10:52:23.815611Z",
     "shell.execute_reply": "2025-07-28T10:52:23.814882Z"
    },
    "papermill": {
     "duration": 2.442114,
     "end_time": "2025-07-28T10:52:23.817062",
     "exception": false,
     "start_time": "2025-07-28T10:52:21.374948",
     "status": "completed"
    },
    "tags": []
   },
   "outputs": [],
   "source": [
    "example_universe = universe.copy()\n",
    "example_universe[\"cutoff\"] = example_universe[\"cutoff\"][0]\n",
    "example_universe[\"eval_fairness_grouping\"] = example_universe[\"eval_fairness_grouping\"][0]\n",
    "fairness_dict, metric_frame = universe_analysis.compute_metrics(\n",
    "    example_universe,\n",
    "    y_pred_prob=probs_test,\n",
    "    y_test=y_true,\n",
    "    org_test=org_test,\n",
    ")"
   ]
  },
  {
   "cell_type": "markdown",
   "id": "f95d4e02",
   "metadata": {
    "papermill": {
     "duration": 0.012796,
     "end_time": "2025-07-28T10:52:23.843454",
     "exception": false,
     "start_time": "2025-07-28T10:52:23.830658",
     "status": "completed"
    },
    "tags": []
   },
   "source": [
    "# Overall"
   ]
  },
  {
   "cell_type": "markdown",
   "id": "bdee4871",
   "metadata": {
    "papermill": {
     "duration": 0.012551,
     "end_time": "2025-07-28T10:52:23.868910",
     "exception": false,
     "start_time": "2025-07-28T10:52:23.856359",
     "status": "completed"
    },
    "tags": []
   },
   "source": [
    "Fairness\n",
    "Main fairness target: Equalized Odds. Seems to be a better fit than equal opportunity, since we're not only interested in Y = 1. Seems to be a better fit than demographic parity, since we also care about accuracy, not just equal distribution of preds.\n",
    "\n",
    "Pick column for computation of fairness metrics\n",
    "\n",
    "Performance\n",
    "Overall performance measures, most interesting in relation to the measures split by group below"
   ]
  },
  {
   "cell_type": "code",
   "execution_count": 67,
   "id": "c4e067c6",
   "metadata": {
    "execution": {
     "iopub.execute_input": "2025-07-28T10:52:23.895904Z",
     "iopub.status.busy": "2025-07-28T10:52:23.895503Z",
     "iopub.status.idle": "2025-07-28T10:52:24.155468Z",
     "shell.execute_reply": "2025-07-28T10:52:24.154667Z"
    },
    "papermill": {
     "duration": 0.275268,
     "end_time": "2025-07-28T10:52:24.156872",
     "exception": false,
     "start_time": "2025-07-28T10:52:23.881604",
     "status": "completed"
    },
    "tags": []
   },
   "outputs": [
    {
     "data": {
      "text/plain": [
       "accuracy                   0.214034\n",
       "balanced accuracy          0.525509\n",
       "f1                         0.235650\n",
       "precision                  0.134619\n",
       "false positive rate        0.893455\n",
       "false negative rate        0.055527\n",
       "selection rate             0.900000\n",
       "count                  89710.000000\n",
       "dtype: float64"
      ]
     },
     "execution_count": 67,
     "metadata": {},
     "output_type": "execute_result"
    }
   ],
   "source": [
    "metric_frame.overall"
   ]
  },
  {
   "cell_type": "markdown",
   "id": "e968fe9d",
   "metadata": {
    "papermill": {
     "duration": 0.027543,
     "end_time": "2025-07-28T10:52:24.211859",
     "exception": false,
     "start_time": "2025-07-28T10:52:24.184316",
     "status": "completed"
    },
    "tags": []
   },
   "source": [
    "By Group"
   ]
  },
  {
   "cell_type": "code",
   "execution_count": 68,
   "id": "ec325bce",
   "metadata": {
    "execution": {
     "iopub.execute_input": "2025-07-28T10:52:24.275292Z",
     "iopub.status.busy": "2025-07-28T10:52:24.274831Z",
     "iopub.status.idle": "2025-07-28T10:52:24.292298Z",
     "shell.execute_reply": "2025-07-28T10:52:24.291197Z"
    },
    "papermill": {
     "duration": 0.048772,
     "end_time": "2025-07-28T10:52:24.294149",
     "exception": false,
     "start_time": "2025-07-28T10:52:24.245377",
     "status": "completed"
    },
    "tags": []
   },
   "outputs": [
    {
     "data": {
      "text/html": [
       "<div>\n",
       "<style scoped>\n",
       "    .dataframe tbody tr th:only-of-type {\n",
       "        vertical-align: middle;\n",
       "    }\n",
       "\n",
       "    .dataframe tbody tr th {\n",
       "        vertical-align: top;\n",
       "    }\n",
       "\n",
       "    .dataframe thead th {\n",
       "        text-align: right;\n",
       "    }\n",
       "</style>\n",
       "<table border=\"1\" class=\"dataframe\">\n",
       "  <thead>\n",
       "    <tr style=\"text-align: right;\">\n",
       "      <th></th>\n",
       "      <th>accuracy</th>\n",
       "      <th>balanced accuracy</th>\n",
       "      <th>f1</th>\n",
       "      <th>precision</th>\n",
       "      <th>false positive rate</th>\n",
       "      <th>false negative rate</th>\n",
       "      <th>selection rate</th>\n",
       "      <th>count</th>\n",
       "    </tr>\n",
       "    <tr>\n",
       "      <th>majmin</th>\n",
       "      <th></th>\n",
       "      <th></th>\n",
       "      <th></th>\n",
       "      <th></th>\n",
       "      <th></th>\n",
       "      <th></th>\n",
       "      <th></th>\n",
       "      <th></th>\n",
       "    </tr>\n",
       "  </thead>\n",
       "  <tbody>\n",
       "    <tr>\n",
       "      <th>majority</th>\n",
       "      <td>0.235319</td>\n",
       "      <td>0.531852</td>\n",
       "      <td>0.244202</td>\n",
       "      <td>0.140443</td>\n",
       "      <td>0.871198</td>\n",
       "      <td>0.065098</td>\n",
       "      <td>0.879615</td>\n",
       "      <td>69170.0</td>\n",
       "    </tr>\n",
       "    <tr>\n",
       "      <th>minority</th>\n",
       "      <td>0.142356</td>\n",
       "      <td>0.507218</td>\n",
       "      <td>0.208768</td>\n",
       "      <td>0.116807</td>\n",
       "      <td>0.966982</td>\n",
       "      <td>0.018581</td>\n",
       "      <td>0.968647</td>\n",
       "      <td>20540.0</td>\n",
       "    </tr>\n",
       "  </tbody>\n",
       "</table>\n",
       "</div>"
      ],
      "text/plain": [
       "          accuracy  balanced accuracy        f1  precision  \\\n",
       "majmin                                                       \n",
       "majority  0.235319           0.531852  0.244202   0.140443   \n",
       "minority  0.142356           0.507218  0.208768   0.116807   \n",
       "\n",
       "          false positive rate  false negative rate  selection rate    count  \n",
       "majmin                                                                       \n",
       "majority             0.871198             0.065098        0.879615  69170.0  \n",
       "minority             0.966982             0.018581        0.968647  20540.0  "
      ]
     },
     "execution_count": 68,
     "metadata": {},
     "output_type": "execute_result"
    }
   ],
   "source": [
    "metric_frame.by_group"
   ]
  },
  {
   "cell_type": "code",
   "execution_count": 69,
   "id": "a9ddbe63",
   "metadata": {
    "execution": {
     "iopub.execute_input": "2025-07-28T10:52:24.349756Z",
     "iopub.status.busy": "2025-07-28T10:52:24.349238Z",
     "iopub.status.idle": "2025-07-28T10:52:27.850971Z",
     "shell.execute_reply": "2025-07-28T10:52:27.850165Z"
    },
    "papermill": {
     "duration": 3.530769,
     "end_time": "2025-07-28T10:52:27.852238",
     "exception": false,
     "start_time": "2025-07-28T10:52:24.321469",
     "status": "completed"
    },
    "tags": []
   },
   "outputs": [
    {
     "data": {
      "text/plain": [
       "array([[<Axes: title={'center': 'accuracy'}, xlabel='majmin'>,\n",
       "        <Axes: title={'center': 'balanced accuracy'}, xlabel='majmin'>,\n",
       "        <Axes: title={'center': 'f1'}, xlabel='majmin'>],\n",
       "       [<Axes: title={'center': 'precision'}, xlabel='majmin'>,\n",
       "        <Axes: title={'center': 'false positive rate'}, xlabel='majmin'>,\n",
       "        <Axes: title={'center': 'false negative rate'}, xlabel='majmin'>],\n",
       "       [<Axes: title={'center': 'selection rate'}, xlabel='majmin'>,\n",
       "        <Axes: title={'center': 'count'}, xlabel='majmin'>,\n",
       "        <Axes: xlabel='majmin'>]], dtype=object)"
      ]
     },
     "execution_count": 69,
     "metadata": {},
     "output_type": "execute_result"
    },
    {
     "data": {
      "image/png": "[encoded data removed]",
      "text/plain": [
       "<Figure size 1200x800 with 9 Axes>"
      ]
     },
     "metadata": {},
     "output_type": "display_data"
    }
   ],
   "source": [
    "# In a graphic\n",
    "metric_frame.by_group.plot.bar(\n",
    "    subplots=True,\n",
    "    layout=[3, 3],\n",
    "    legend=False,\n",
    "    figsize=[12, 8],\n",
    "    title=\"Show all metrics\",\n",
    ")"
   ]
  },
  {
   "cell_type": "markdown",
   "id": "f57a0bac",
   "metadata": {
    "papermill": {
     "duration": 0.013726,
     "end_time": "2025-07-28T10:52:27.880653",
     "exception": false,
     "start_time": "2025-07-28T10:52:27.866927",
     "status": "completed"
    },
    "tags": []
   },
   "source": [
    "# Final Output"
   ]
  },
  {
   "cell_type": "code",
   "execution_count": 70,
   "id": "96d280a3",
   "metadata": {
    "execution": {
     "iopub.execute_input": "2025-07-28T10:52:27.908952Z",
     "iopub.status.busy": "2025-07-28T10:52:27.908578Z",
     "iopub.status.idle": "2025-07-28T10:52:29.312903Z",
     "shell.execute_reply": "2025-07-28T10:52:29.312200Z"
    },
    "papermill": {
     "duration": 1.419776,
     "end_time": "2025-07-28T10:52:29.314017",
     "exception": false,
     "start_time": "2025-07-28T10:52:27.894241",
     "status": "completed"
    },
    "tags": []
   },
   "outputs": [
    {
     "data": {
      "text/plain": [
       "4"
      ]
     },
     "execution_count": 70,
     "metadata": {},
     "output_type": "execute_result"
    }
   ],
   "source": [
    "sub_universes = universe_analysis.generate_sub_universes()\n",
    "len(sub_universes)"
   ]
  },
  {
   "cell_type": "code",
   "execution_count": 71,
   "id": "92adf7ba",
   "metadata": {
    "execution": {
     "iopub.execute_input": "2025-07-28T10:52:29.344297Z",
     "iopub.status.busy": "2025-07-28T10:52:29.343999Z",
     "iopub.status.idle": "2025-07-28T10:52:29.568755Z",
     "shell.execute_reply": "2025-07-28T10:52:29.567458Z"
    },
    "papermill": {
     "duration": 0.242521,
     "end_time": "2025-07-28T10:52:29.570484",
     "exception": false,
     "start_time": "2025-07-28T10:52:29.327963",
     "status": "completed"
    },
    "tags": []
   },
   "outputs": [],
   "source": [
    "def filter_sub_universe_data(sub_universe, org_test):\n",
    "    # Keep all rows — no filtering\n",
    "    keep_rows_mask = np.ones(org_test.shape[0], dtype=bool)\n",
    "\n",
    "    print(f\"[INFO] Keeping all rows: {keep_rows_mask.sum()} rows retained.\")\n",
    "    return keep_rows_mask"
   ]
  },
  {
   "cell_type": "code",
   "execution_count": 72,
   "id": "4a759155",
   "metadata": {
    "execution": {
     "iopub.execute_input": "2025-07-28T10:52:29.608133Z",
     "iopub.status.busy": "2025-07-28T10:52:29.607603Z",
     "iopub.status.idle": "2025-07-28T10:52:40.853417Z",
     "shell.execute_reply": "2025-07-28T10:52:40.852527Z"
    },
    "papermill": {
     "duration": 11.266083,
     "end_time": "2025-07-28T10:52:40.855138",
     "exception": false,
     "start_time": "2025-07-28T10:52:29.589055",
     "status": "completed"
    },
    "tags": []
   },
   "outputs": [
    {
     "name": "stdout",
     "output_type": "stream",
     "text": [
      "Stopping execution_time clock.\n",
      "[INFO] Keeping all rows: 89710 rows retained.\n"
     ]
    },
    {
     "name": "stdout",
     "output_type": "stream",
     "text": [
      "[INFO] Keeping all rows: 89710 rows retained.\n"
     ]
    },
    {
     "name": "stdout",
     "output_type": "stream",
     "text": [
      "[INFO] Keeping all rows: 89710 rows retained.\n"
     ]
    },
    {
     "name": "stdout",
     "output_type": "stream",
     "text": [
      "[INFO] Keeping all rows: 89710 rows retained.\n"
     ]
    },
    {
     "data": {
      "text/html": [
       "<div>\n",
       "<style scoped>\n",
       "    .dataframe tbody tr th:only-of-type {\n",
       "        vertical-align: middle;\n",
       "    }\n",
       "\n",
       "    .dataframe tbody tr th {\n",
       "        vertical-align: top;\n",
       "    }\n",
       "\n",
       "    .dataframe thead th {\n",
       "        text-align: right;\n",
       "    }\n",
       "</style>\n",
       "<table border=\"1\" class=\"dataframe\">\n",
       "  <thead>\n",
       "    <tr style=\"text-align: right;\">\n",
       "      <th></th>\n",
       "      <th>run_no</th>\n",
       "      <th>universe_id</th>\n",
       "      <th>universe_settings</th>\n",
       "      <th>execution_time</th>\n",
       "      <th>test_size_n</th>\n",
       "      <th>test_size_frac</th>\n",
       "      <th>fair_main_equalized_odds_difference</th>\n",
       "      <th>fair_main_equalized_odds_ratio</th>\n",
       "      <th>fair_main_demographic_parity_difference</th>\n",
       "      <th>fair_main_demographic_parity_ratio</th>\n",
       "      <th>...</th>\n",
       "      <th>perf_grp_precision_0</th>\n",
       "      <th>perf_grp_precision_1</th>\n",
       "      <th>perf_grp_false positive rate_0</th>\n",
       "      <th>perf_grp_false positive rate_1</th>\n",
       "      <th>perf_grp_false negative rate_0</th>\n",
       "      <th>perf_grp_false negative rate_1</th>\n",
       "      <th>perf_grp_selection rate_0</th>\n",
       "      <th>perf_grp_selection rate_1</th>\n",
       "      <th>perf_grp_count_0</th>\n",
       "      <th>perf_grp_count_1</th>\n",
       "    </tr>\n",
       "  </thead>\n",
       "  <tbody>\n",
       "    <tr>\n",
       "      <th>0</th>\n",
       "      <td>11</td>\n",
       "      <td>a1b5e607f82900f0e32135c054e13948</td>\n",
       "      <td>{\"cutoff\": \"quantile_0.1\", \"eval_fairness_grou...</td>\n",
       "      <td>47.180641</td>\n",
       "      <td>89710</td>\n",
       "      <td>1.0</td>\n",
       "      <td>0.095784</td>\n",
       "      <td>0.900945</td>\n",
       "      <td>0.089031</td>\n",
       "      <td>0.908087</td>\n",
       "      <td>...</td>\n",
       "      <td>NaN</td>\n",
       "      <td>NaN</td>\n",
       "      <td>NaN</td>\n",
       "      <td>NaN</td>\n",
       "      <td>NaN</td>\n",
       "      <td>NaN</td>\n",
       "      <td>NaN</td>\n",
       "      <td>NaN</td>\n",
       "      <td>NaN</td>\n",
       "      <td>NaN</td>\n",
       "    </tr>\n",
       "    <tr>\n",
       "      <th>0</th>\n",
       "      <td>11</td>\n",
       "      <td>a1b5e607f82900f0e32135c054e13948</td>\n",
       "      <td>{\"cutoff\": \"quantile_0.1\", \"eval_fairness_grou...</td>\n",
       "      <td>47.180641</td>\n",
       "      <td>89710</td>\n",
       "      <td>1.0</td>\n",
       "      <td>0.095784</td>\n",
       "      <td>0.900945</td>\n",
       "      <td>0.089031</td>\n",
       "      <td>0.908087</td>\n",
       "      <td>...</td>\n",
       "      <td>0.116807</td>\n",
       "      <td>0.140443</td>\n",
       "      <td>0.966982</td>\n",
       "      <td>0.871198</td>\n",
       "      <td>0.018581</td>\n",
       "      <td>0.065098</td>\n",
       "      <td>0.968647</td>\n",
       "      <td>0.879615</td>\n",
       "      <td>20540.0</td>\n",
       "      <td>69170.0</td>\n",
       "    </tr>\n",
       "    <tr>\n",
       "      <th>0</th>\n",
       "      <td>11</td>\n",
       "      <td>a1b5e607f82900f0e32135c054e13948</td>\n",
       "      <td>{\"cutoff\": \"quantile_0.25\", \"eval_fairness_gro...</td>\n",
       "      <td>47.180641</td>\n",
       "      <td>89710</td>\n",
       "      <td>1.0</td>\n",
       "      <td>0.222660</td>\n",
       "      <td>0.753972</td>\n",
       "      <td>0.207241</td>\n",
       "      <td>0.772209</td>\n",
       "      <td>...</td>\n",
       "      <td>NaN</td>\n",
       "      <td>NaN</td>\n",
       "      <td>NaN</td>\n",
       "      <td>NaN</td>\n",
       "      <td>NaN</td>\n",
       "      <td>NaN</td>\n",
       "      <td>NaN</td>\n",
       "      <td>NaN</td>\n",
       "      <td>NaN</td>\n",
       "      <td>NaN</td>\n",
       "    </tr>\n",
       "    <tr>\n",
       "      <th>0</th>\n",
       "      <td>11</td>\n",
       "      <td>a1b5e607f82900f0e32135c054e13948</td>\n",
       "      <td>{\"cutoff\": \"quantile_0.25\", \"eval_fairness_gro...</td>\n",
       "      <td>47.180641</td>\n",
       "      <td>89710</td>\n",
       "      <td>1.0</td>\n",
       "      <td>0.222660</td>\n",
       "      <td>0.753972</td>\n",
       "      <td>0.207241</td>\n",
       "      <td>0.772209</td>\n",
       "      <td>...</td>\n",
       "      <td>0.119923</td>\n",
       "      <td>0.157074</td>\n",
       "      <td>0.905019</td>\n",
       "      <td>0.682359</td>\n",
       "      <td>0.053632</td>\n",
       "      <td>0.164880</td>\n",
       "      <td>0.909786</td>\n",
       "      <td>0.702544</td>\n",
       "      <td>20540.0</td>\n",
       "      <td>69170.0</td>\n",
       "    </tr>\n",
       "  </tbody>\n",
       "</table>\n",
       "<p>4 rows × 50 columns</p>\n",
       "</div>"
      ],
      "text/plain": [
       "  run_no                       universe_id  \\\n",
       "0     11  a1b5e607f82900f0e32135c054e13948   \n",
       "0     11  a1b5e607f82900f0e32135c054e13948   \n",
       "0     11  a1b5e607f82900f0e32135c054e13948   \n",
       "0     11  a1b5e607f82900f0e32135c054e13948   \n",
       "\n",
       "                                   universe_settings  execution_time  \\\n",
       "0  {\"cutoff\": \"quantile_0.1\", \"eval_fairness_grou...       47.180641   \n",
       "0  {\"cutoff\": \"quantile_0.1\", \"eval_fairness_grou...       47.180641   \n",
       "0  {\"cutoff\": \"quantile_0.25\", \"eval_fairness_gro...       47.180641   \n",
       "0  {\"cutoff\": \"quantile_0.25\", \"eval_fairness_gro...       47.180641   \n",
       "\n",
       "   test_size_n  test_size_frac  fair_main_equalized_odds_difference  \\\n",
       "0        89710             1.0                             0.095784   \n",
       "0        89710             1.0                             0.095784   \n",
       "0        89710             1.0                             0.222660   \n",
       "0        89710             1.0                             0.222660   \n",
       "\n",
       "   fair_main_equalized_odds_ratio  fair_main_demographic_parity_difference  \\\n",
       "0                        0.900945                                 0.089031   \n",
       "0                        0.900945                                 0.089031   \n",
       "0                        0.753972                                 0.207241   \n",
       "0                        0.753972                                 0.207241   \n",
       "\n",
       "   fair_main_demographic_parity_ratio  ...  perf_grp_precision_0  \\\n",
       "0                            0.908087  ...                   NaN   \n",
       "0                            0.908087  ...              0.116807   \n",
       "0                            0.772209  ...                   NaN   \n",
       "0                            0.772209  ...              0.119923   \n",
       "\n",
       "   perf_grp_precision_1  perf_grp_false positive rate_0  \\\n",
       "0                   NaN                             NaN   \n",
       "0              0.140443                        0.966982   \n",
       "0                   NaN                             NaN   \n",
       "0              0.157074                        0.905019   \n",
       "\n",
       "   perf_grp_false positive rate_1  perf_grp_false negative rate_0  \\\n",
       "0                             NaN                             NaN   \n",
       "0                        0.871198                        0.018581   \n",
       "0                             NaN                             NaN   \n",
       "0                        0.682359                        0.053632   \n",
       "\n",
       "   perf_grp_false negative rate_1  perf_grp_selection rate_0  \\\n",
       "0                             NaN                        NaN   \n",
       "0                        0.065098                   0.968647   \n",
       "0                             NaN                        NaN   \n",
       "0                        0.164880                   0.909786   \n",
       "\n",
       "   perf_grp_selection rate_1  perf_grp_count_0  perf_grp_count_1  \n",
       "0                        NaN               NaN               NaN  \n",
       "0                   0.879615           20540.0           69170.0  \n",
       "0                        NaN               NaN               NaN  \n",
       "0                   0.702544           20540.0           69170.0  \n",
       "\n",
       "[4 rows x 50 columns]"
      ]
     },
     "execution_count": 72,
     "metadata": {},
     "output_type": "execute_result"
    }
   ],
   "source": [
    "final_output = universe_analysis.generate_final_output(\n",
    "    y_pred_prob=probs_test,\n",
    "    y_test=y_true,\n",
    "    org_test=org_test,\n",
    "    filter_data=filter_sub_universe_data,\n",
    "    cp_metrics_df=cp_metrics_df,\n",
    "    save=True,\n",
    ")\n",
    "final_output"
   ]
  },
  {
   "cell_type": "code",
   "execution_count": null,
   "id": "721ff514-cb11-46f8-b6fc-50392f74b5cb",
   "metadata": {
    "papermill": {
     "duration": 0.028204,
     "end_time": "2025-07-28T10:52:40.914253",
     "exception": false,
     "start_time": "2025-07-28T10:52:40.886049",
     "status": "completed"
    },
    "tags": []
   },
   "outputs": [],
   "source": []
  }
 ],
 "metadata": {
  "celltoolbar": "Tags",
  "kernelspec": {
   "display_name": "Python (CMA Fairness)",
   "language": "python",
   "name": "cma_fair_env"
  },
  "language_info": {
   "codemirror_mode": {
    "name": "ipython",
    "version": 3
   },
   "file_extension": ".py",
   "mimetype": "text/x-python",
   "name": "python",
   "nbconvert_exporter": "python",
   "pygments_lexer": "ipython3",
   "version": "3.10.12"
  },
  "papermill": {
   "default_parameters": {},
   "duration": 62.779994,
   "end_time": "2025-07-28T10:52:41.661556",
   "environment_variables": {},
   "exception": null,
   "input_path": "universe_analysis.ipynb",
   "output_path": "output/runs/11/notebooks/m_11-a1b5e607f82900f0e32135c054e13948.ipynb",
   "parameters": {
    "output_dir": "output",
    "run_no": "11",
    "seed": "2023",
    "universe": "{\"cutoff\": [\"quantile_0.1\", \"quantile_0.25\"], \"eval_fairness_grouping\": [\"majority-minority\", \"nationality-all\"], \"exclude_features\": \"none\", \"exclude_subgroups\": \"drop-non-german\", \"model\": \"elasticnet\", \"scale\": \"do-not-scale\", \"training_size\": \"1k\"}",
    "universe_id": "a1b5e607f82900f0e32135c054e13948"
   },
   "start_time": "2025-07-28T10:51:38.881562",
   "version": "2.6.0"
  }
 },
 "nbformat": 4,
 "nbformat_minor": 5
}