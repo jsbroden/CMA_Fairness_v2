{
 "cells": [
  {
   "cell_type": "code",
   "execution_count": 1,
   "id": "f159f837-637b-42ba-96b5-ec9a68c44524",
   "metadata": {
    "execution": {
     "iopub.execute_input": "2025-07-28T11:05:40.721639Z",
     "iopub.status.busy": "2025-07-28T11:05:40.721189Z",
     "iopub.status.idle": "2025-07-28T11:05:40.747227Z",
     "shell.execute_reply": "2025-07-28T11:05:40.745961Z"
    },
    "papermill": {
     "duration": 0.052325,
     "end_time": "2025-07-28T11:05:40.752421",
     "exception": false,
     "start_time": "2025-07-28T11:05:40.700096",
     "status": "completed"
    },
    "tags": []
   },
   "outputs": [
    {
     "name": "stdout",
     "output_type": "stream",
     "text": [
      "/dss/dsshome1/0C/ra93lal2/cma/CMA_Fairness_v2\n"
     ]
    },
    {
     "name": "stderr",
     "output_type": "stream",
     "text": [
      "/dss/dsshome1/0C/ra93lal2/.local/share/virtualenvs/CMA_Fairness_v2-3j10GkSs/lib/python3.10/site-packages/IPython/core/magics/osm.py:393: UserWarning: This is now an optional IPython functionality, using bookmarks requires you to install the `pickleshare` library.\n",
      "  bkms = self.shell.db.get('bookmarks', {})\n",
      "/dss/dsshome1/0C/ra93lal2/.local/share/virtualenvs/CMA_Fairness_v2-3j10GkSs/lib/python3.10/site-packages/IPython/core/magics/osm.py:417: UserWarning: This is now an optional IPython functionality, setting dhist requires you to install the `pickleshare` library.\n",
      "  self.shell.db['dhist'] = compress_dhist(dhist)[-100:]\n"
     ]
    }
   ],
   "source": [
    "%cd ~/cma/CMA_Fairness_v2"
   ]
  },
  {
   "cell_type": "markdown",
   "id": "de2603b9",
   "metadata": {
    "papermill": {
     "duration": 0.039129,
     "end_time": "2025-07-28T11:05:40.842893",
     "exception": false,
     "start_time": "2025-07-28T11:05:40.803764",
     "status": "completed"
    },
    "tags": []
   },
   "source": [
    "The following cell holds the definition of our parameters, these values can be overriden by rendering the with e.g. the following command:\n",
    "\n",
    "papermill -p alpha 0.2 -p ratio 0.3 universe_analysis.ipynb output/test_run.ipynb"
   ]
  },
  {
   "cell_type": "code",
   "execution_count": 2,
   "id": "a80968a0-40bb-4fa9-85ef-2d5eefb01975",
   "metadata": {
    "execution": {
     "iopub.execute_input": "2025-07-28T11:05:40.913779Z",
     "iopub.status.busy": "2025-07-28T11:05:40.913388Z",
     "iopub.status.idle": "2025-07-28T11:05:40.919098Z",
     "shell.execute_reply": "2025-07-28T11:05:40.918058Z"
    },
    "papermill": {
     "duration": 0.031255,
     "end_time": "2025-07-28T11:05:40.923616",
     "exception": false,
     "start_time": "2025-07-28T11:05:40.892361",
     "status": "completed"
    },
    "tags": []
   },
   "outputs": [
    {
     "name": "stdout",
     "output_type": "stream",
     "text": [
      "Current working directory: /dss/dsshome1/0C/ra93lal2/cma/CMA_Fairness_v2\n"
     ]
    }
   ],
   "source": [
    "import os\n",
    "print(\"Current working directory:\", os.getcwd())"
   ]
  },
  {
   "cell_type": "code",
   "execution_count": 3,
   "id": "2dce4c03",
   "metadata": {
    "execution": {
     "iopub.execute_input": "2025-07-28T11:05:40.965349Z",
     "iopub.status.busy": "2025-07-28T11:05:40.964935Z",
     "iopub.status.idle": "2025-07-28T11:05:40.971364Z",
     "shell.execute_reply": "2025-07-28T11:05:40.970432Z"
    },
    "papermill": {
     "duration": 0.030884,
     "end_time": "2025-07-28T11:05:40.974817",
     "exception": false,
     "start_time": "2025-07-28T11:05:40.943933",
     "status": "completed"
    },
    "tags": [
     "parameters"
    ]
   },
   "outputs": [],
   "source": [
    "run_no = 0\n",
    "universe_id = \"test\"\n",
    "universe = {\n",
    "    \"training_size\": \"2014\", # \"25k\", \"5k\", \"1k\", \"2014\"\n",
    "    \"scale\": \"scale\", # \"scale\", \"do-not-scale\",\n",
    "    #\"stratify_split\": \"target\", # \"none\", \"target\", \"protected-attribute\", \"both\",\n",
    "    \"model\": \"elasticnet\", # \"logreg\", \"penalized_logreg\", \"rf\", \"gbm\", \"elasticnet\"\n",
    "    \"cutoff\": [\"quantile_0.15\", \"quantile_0.30\"],\n",
    "    \"exclude_features\": \"age\", # \"none\", \"nationality\", \"sex\", \"nationality-sex\", \"age\"\n",
    "    \"exclude_subgroups\": \"keep-all\", # \"keep-all\", \"drop-non-german\"\n",
    "    \"eval_fairness_grouping\": [\"majority-minority\", \"nationality-all\"]\n",
    "}\n",
    "\n",
    "output_dir=\"./output\"\n",
    "seed=0"
   ]
  },
  {
   "cell_type": "code",
   "execution_count": 4,
   "id": "0dc2fdf5",
   "metadata": {
    "execution": {
     "iopub.execute_input": "2025-07-28T11:05:41.015639Z",
     "iopub.status.busy": "2025-07-28T11:05:41.015243Z",
     "iopub.status.idle": "2025-07-28T11:05:41.020996Z",
     "shell.execute_reply": "2025-07-28T11:05:41.020017Z"
    },
    "papermill": {
     "duration": 0.030198,
     "end_time": "2025-07-28T11:05:41.024445",
     "exception": false,
     "start_time": "2025-07-28T11:05:40.994247",
     "status": "completed"
    },
    "tags": [
     "injected-parameters"
    ]
   },
   "outputs": [],
   "source": [
    "# Parameters\n",
    "universe_id = \"a59dd11aa57b37af8b4354fce4106422\"\n",
    "run_no = \"11\"\n",
    "universe = \"{\\\"cutoff\\\": [\\\"quantile_0.1\\\", \\\"quantile_0.25\\\"], \\\"eval_fairness_grouping\\\": [\\\"majority-minority\\\", \\\"nationality-all\\\"], \\\"exclude_features\\\": \\\"sex\\\", \\\"exclude_subgroups\\\": \\\"keep-all\\\", \\\"model\\\": \\\"rf\\\", \\\"scale\\\": \\\"do-not-scale\\\", \\\"training_size\\\": \\\"2014\\\"}\"\n",
    "output_dir = \"output\"\n",
    "seed = \"2023\"\n"
   ]
  },
  {
   "cell_type": "code",
   "execution_count": 5,
   "id": "1650acaf",
   "metadata": {
    "execution": {
     "iopub.execute_input": "2025-07-28T11:05:41.102946Z",
     "iopub.status.busy": "2025-07-28T11:05:41.102518Z",
     "iopub.status.idle": "2025-07-28T11:05:41.108170Z",
     "shell.execute_reply": "2025-07-28T11:05:41.107127Z"
    },
    "papermill": {
     "duration": 0.063331,
     "end_time": "2025-07-28T11:05:41.110058",
     "exception": false,
     "start_time": "2025-07-28T11:05:41.046727",
     "status": "completed"
    },
    "tags": []
   },
   "outputs": [],
   "source": [
    "import json\n",
    "# Parse universe into dict if it is passed as a string\n",
    "if isinstance(universe, str):\n",
    "    universe = json.loads(universe)"
   ]
  },
  {
   "cell_type": "code",
   "execution_count": 6,
   "id": "16620c48",
   "metadata": {
    "execution": {
     "iopub.execute_input": "2025-07-28T11:05:41.193694Z",
     "iopub.status.busy": "2025-07-28T11:05:41.193233Z",
     "iopub.status.idle": "2025-07-28T11:05:41.262565Z",
     "shell.execute_reply": "2025-07-28T11:05:41.261371Z"
    },
    "papermill": {
     "duration": 0.114018,
     "end_time": "2025-07-28T11:05:41.264938",
     "exception": false,
     "start_time": "2025-07-28T11:05:41.150920",
     "status": "completed"
    },
    "tags": []
   },
   "outputs": [],
   "source": [
    "# Auto-reload the custom package\n",
    "%load_ext autoreload\n",
    "%autoreload 1\n",
    "%aimport fairness_multiverse"
   ]
  },
  {
   "cell_type": "code",
   "execution_count": 7,
   "id": "01c5c9f3",
   "metadata": {
    "execution": {
     "iopub.execute_input": "2025-07-28T11:05:41.308392Z",
     "iopub.status.busy": "2025-07-28T11:05:41.307927Z",
     "iopub.status.idle": "2025-07-28T11:05:44.737335Z",
     "shell.execute_reply": "2025-07-28T11:05:44.735695Z"
    },
    "papermill": {
     "duration": 3.452828,
     "end_time": "2025-07-28T11:05:44.739812",
     "exception": false,
     "start_time": "2025-07-28T11:05:41.286984",
     "status": "completed"
    },
    "tags": []
   },
   "outputs": [],
   "source": [
    "from fairness_multiverse.universe import UniverseAnalysis\n",
    "\n",
    "universe_analysis = UniverseAnalysis(\n",
    "    run_no = run_no,\n",
    "    universe_id = universe_id,\n",
    "    universe = universe,\n",
    "    output_dir=output_dir,\n",
    ")"
   ]
  },
  {
   "cell_type": "code",
   "execution_count": 8,
   "id": "106241f5",
   "metadata": {
    "execution": {
     "iopub.execute_input": "2025-07-28T11:05:44.789513Z",
     "iopub.status.busy": "2025-07-28T11:05:44.789016Z",
     "iopub.status.idle": "2025-07-28T11:05:44.797881Z",
     "shell.execute_reply": "2025-07-28T11:05:44.796756Z"
    },
    "papermill": {
     "duration": 0.039656,
     "end_time": "2025-07-28T11:05:44.802173",
     "exception": false,
     "start_time": "2025-07-28T11:05:44.762517",
     "status": "completed"
    },
    "tags": []
   },
   "outputs": [
    {
     "name": "stdout",
     "output_type": "stream",
     "text": [
      "Using Seed: 2023\n"
     ]
    }
   ],
   "source": [
    "import numpy as np\n",
    "parsed_seed = int(seed)\n",
    "np.random.seed(parsed_seed)\n",
    "print(f\"Using Seed: {parsed_seed}\")"
   ]
  },
  {
   "cell_type": "markdown",
   "id": "e0ebdc57",
   "metadata": {
    "papermill": {
     "duration": 0.024871,
     "end_time": "2025-07-28T11:05:44.848781",
     "exception": false,
     "start_time": "2025-07-28T11:05:44.823910",
     "status": "completed"
    },
    "tags": []
   },
   "source": [
    "# Loading Data"
   ]
  },
  {
   "cell_type": "markdown",
   "id": "681925a3",
   "metadata": {
    "papermill": {
     "duration": 0.021249,
     "end_time": "2025-07-28T11:05:44.913045",
     "exception": false,
     "start_time": "2025-07-28T11:05:44.891796",
     "status": "completed"
    },
    "tags": []
   },
   "source": [
    "Load siab_train, siab_test, siab_calib and/or \n",
    "load siab_train_features, siab_train_labels"
   ]
  },
  {
   "cell_type": "code",
   "execution_count": 9,
   "id": "f0496b8a",
   "metadata": {
    "execution": {
     "iopub.execute_input": "2025-07-28T11:05:44.994914Z",
     "iopub.status.busy": "2025-07-28T11:05:44.994487Z",
     "iopub.status.idle": "2025-07-28T11:06:09.277673Z",
     "shell.execute_reply": "2025-07-28T11:06:09.276133Z"
    },
    "papermill": {
     "duration": 24.339866,
     "end_time": "2025-07-28T11:06:09.279814",
     "exception": false,
     "start_time": "2025-07-28T11:05:44.939948",
     "status": "completed"
    },
    "tags": []
   },
   "outputs": [
    {
     "name": "stdout",
     "output_type": "stream",
     "text": [
      "Loading SIAB data from cache: data/siab_cached.csv.gz\n"
     ]
    },
    {
     "name": "stdout",
     "output_type": "stream",
     "text": [
      "(643690, 164)\n"
     ]
    }
   ],
   "source": [
    "from pathlib import Path\n",
    "import pandas as pd\n",
    "\n",
    "# File paths\n",
    "raw_file = Path(\"data/raw/siab.csv\")\n",
    "cache_file = Path(\"data/siab_cached.csv.gz\")\n",
    "\n",
    "# Ensure cache directory exists\n",
    "cache_file.parent.mkdir(parents=True, exist_ok=True)\n",
    "\n",
    "# Load with simple caching\n",
    "if cache_file.exists():\n",
    "    print(f\"Loading SIAB data from cache: {cache_file}\")\n",
    "    siab = pd.read_csv(cache_file, compression='gzip')\n",
    "else:\n",
    "    print(f\"Cache not found. Reading raw SIAB data: {raw_file}\")\n",
    "    siab = pd.read_csv(raw_file)\n",
    "    siab.to_csv(cache_file, index=False, compression='gzip')\n",
    "    print(f\"Cached SIAB data to: {cache_file}\")\n",
    "\n",
    "# Now use `siab` DataFrame as needed\n",
    "print(siab.shape)"
   ]
  },
  {
   "cell_type": "code",
   "execution_count": 10,
   "id": "db0ca512-5f53-4dba-abdb-a2888bca41ba",
   "metadata": {
    "execution": {
     "iopub.execute_input": "2025-07-28T11:06:09.370951Z",
     "iopub.status.busy": "2025-07-28T11:06:09.370475Z",
     "iopub.status.idle": "2025-07-28T11:06:09.377130Z",
     "shell.execute_reply": "2025-07-28T11:06:09.376140Z"
    },
    "papermill": {
     "duration": 0.058981,
     "end_time": "2025-07-28T11:06:09.378766",
     "exception": false,
     "start_time": "2025-07-28T11:06:09.319785",
     "status": "completed"
    },
    "tags": []
   },
   "outputs": [],
   "source": [
    "#siab"
   ]
  },
  {
   "cell_type": "code",
   "execution_count": 11,
   "id": "a0edb063",
   "metadata": {
    "execution": {
     "iopub.execute_input": "2025-07-28T11:06:09.457537Z",
     "iopub.status.busy": "2025-07-28T11:06:09.457069Z",
     "iopub.status.idle": "2025-07-28T11:06:09.462821Z",
     "shell.execute_reply": "2025-07-28T11:06:09.461919Z"
    },
    "papermill": {
     "duration": 0.054582,
     "end_time": "2025-07-28T11:06:09.470991",
     "exception": false,
     "start_time": "2025-07-28T11:06:09.416409",
     "status": "completed"
    },
    "tags": []
   },
   "outputs": [],
   "source": [
    "#import pandas as pd\n",
    "#\n",
    "#X_train = pd.read_csv(\"./data/X_train.csv\")\n",
    "#y_train = pd.read_csv(\"./data/y_train.csv\")"
   ]
  },
  {
   "cell_type": "code",
   "execution_count": 12,
   "id": "63d08085",
   "metadata": {
    "execution": {
     "iopub.execute_input": "2025-07-28T11:06:09.601424Z",
     "iopub.status.busy": "2025-07-28T11:06:09.600930Z",
     "iopub.status.idle": "2025-07-28T11:06:09.606506Z",
     "shell.execute_reply": "2025-07-28T11:06:09.605571Z"
    },
    "papermill": {
     "duration": 0.050346,
     "end_time": "2025-07-28T11:06:09.608891",
     "exception": false,
     "start_time": "2025-07-28T11:06:09.558545",
     "status": "completed"
    },
    "tags": []
   },
   "outputs": [],
   "source": [
    "#X_test = pd.read_csv(\"./data/X_test.csv\")\n",
    "#y_true = pd.read_csv(\"./data/y_test.csv\")"
   ]
  },
  {
   "cell_type": "code",
   "execution_count": 13,
   "id": "98a8d0fa-1d3d-4ed8-bb2c-281470e24add",
   "metadata": {
    "execution": {
     "iopub.execute_input": "2025-07-28T11:06:09.760328Z",
     "iopub.status.busy": "2025-07-28T11:06:09.759839Z",
     "iopub.status.idle": "2025-07-28T11:06:09.765598Z",
     "shell.execute_reply": "2025-07-28T11:06:09.764515Z"
    },
    "papermill": {
     "duration": 0.072132,
     "end_time": "2025-07-28T11:06:09.768289",
     "exception": false,
     "start_time": "2025-07-28T11:06:09.696157",
     "status": "completed"
    },
    "tags": []
   },
   "outputs": [],
   "source": [
    "# Calibration data for conformal\n",
    "#X_calib = pd.read_csv(\"./data/X_calib.csv\")\n",
    "#y_calib = pd.read_csv(\"./data/y_calib.csv\")"
   ]
  },
  {
   "cell_type": "markdown",
   "id": "9901737e-04df-44f0-9100-f5ad144ed040",
   "metadata": {
    "papermill": {
     "duration": 0.038006,
     "end_time": "2025-07-28T11:06:09.876950",
     "exception": false,
     "start_time": "2025-07-28T11:06:09.838944",
     "status": "completed"
    },
    "tags": []
   },
   "source": [
    "# Splitting Data and Setting Training Data Size"
   ]
  },
  {
   "cell_type": "code",
   "execution_count": 14,
   "id": "acbc8f7d-8fc8-4e86-8c59-5dcb0f58384b",
   "metadata": {
    "execution": {
     "iopub.execute_input": "2025-07-28T11:06:09.937525Z",
     "iopub.status.busy": "2025-07-28T11:06:09.937075Z",
     "iopub.status.idle": "2025-07-28T11:06:09.947384Z",
     "shell.execute_reply": "2025-07-28T11:06:09.946334Z"
    },
    "papermill": {
     "duration": 0.035307,
     "end_time": "2025-07-28T11:06:09.949155",
     "exception": false,
     "start_time": "2025-07-28T11:06:09.913848",
     "status": "completed"
    },
    "tags": []
   },
   "outputs": [],
   "source": [
    "def sample_by_year(df, training_size, random_state=42):\n",
    "    if training_size == \"2014\":\n",
    "        return df[df[\"year\"] == 2014].reset_index(drop=True)\n",
    "    \n",
    "    size_map = {\n",
    "        \"25k\": 5000,\n",
    "        \"5k\": 1000,\n",
    "        \"1k\": 200\n",
    "    }\n",
    "\n",
    "    if training_size not in size_map:\n",
    "        return df.reset_index(drop=True)  # use all data\n",
    "\n",
    "    n_per_year = size_map[training_size]\n",
    "    grouped = df.groupby(\"year\")\n",
    "    sampled = grouped.apply(lambda x: x.sample(n=min(n_per_year, len(x)), random_state=random_state))\n",
    "    return sampled.reset_index(drop=True)"
   ]
  },
  {
   "cell_type": "code",
   "execution_count": 15,
   "id": "6d931f52-beaf-43ff-9e78-9d44a448d54e",
   "metadata": {
    "execution": {
     "iopub.execute_input": "2025-07-28T11:06:10.021622Z",
     "iopub.status.busy": "2025-07-28T11:06:10.021248Z",
     "iopub.status.idle": "2025-07-28T11:06:10.222706Z",
     "shell.execute_reply": "2025-07-28T11:06:10.221556Z"
    },
    "papermill": {
     "duration": 0.224555,
     "end_time": "2025-07-28T11:06:10.225219",
     "exception": false,
     "start_time": "2025-07-28T11:06:10.000664",
     "status": "completed"
    },
    "tags": []
   },
   "outputs": [],
   "source": [
    "siab_s = sample_by_year(siab, universe[\"training_size\"])"
   ]
  },
  {
   "cell_type": "code",
   "execution_count": 16,
   "id": "5db0a40e-a4e2-4920-be85-b12ae061d70d",
   "metadata": {
    "execution": {
     "iopub.execute_input": "2025-07-28T11:06:10.326795Z",
     "iopub.status.busy": "2025-07-28T11:06:10.325871Z",
     "iopub.status.idle": "2025-07-28T11:06:10.345954Z",
     "shell.execute_reply": "2025-07-28T11:06:10.344908Z"
    },
    "papermill": {
     "duration": 0.097164,
     "end_time": "2025-07-28T11:06:10.348153",
     "exception": false,
     "start_time": "2025-07-28T11:06:10.250989",
     "status": "completed"
    },
    "tags": []
   },
   "outputs": [
    {
     "data": {
      "text/plain": [
       "year\n",
       "2014    87158\n",
       "dtype: int64"
      ]
     },
     "metadata": {},
     "output_type": "display_data"
    }
   ],
   "source": [
    "display(siab_s.groupby(\"year\").size())"
   ]
  },
  {
   "cell_type": "code",
   "execution_count": 17,
   "id": "a561edb4-d032-42cb-8256-22eac1111c64",
   "metadata": {
    "execution": {
     "iopub.execute_input": "2025-07-28T11:06:10.445703Z",
     "iopub.status.busy": "2025-07-28T11:06:10.445269Z",
     "iopub.status.idle": "2025-07-28T11:06:11.185588Z",
     "shell.execute_reply": "2025-07-28T11:06:11.184113Z"
    },
    "papermill": {
     "duration": 0.786965,
     "end_time": "2025-07-28T11:06:11.187602",
     "exception": false,
     "start_time": "2025-07-28T11:06:10.400637",
     "status": "completed"
    },
    "tags": []
   },
   "outputs": [],
   "source": [
    "siab_train = siab_s[siab_s.year < 2015]\n",
    "siab_calib = siab[siab.year == 2015]\n",
    "siab_test = siab[siab.year == 2016]"
   ]
  },
  {
   "cell_type": "code",
   "execution_count": 18,
   "id": "472de16f-c3db-4916-846b-1f0de9cf1746",
   "metadata": {
    "execution": {
     "iopub.execute_input": "2025-07-28T11:06:11.366838Z",
     "iopub.status.busy": "2025-07-28T11:06:11.366372Z",
     "iopub.status.idle": "2025-07-28T11:06:11.506407Z",
     "shell.execute_reply": "2025-07-28T11:06:11.505316Z"
    },
    "papermill": {
     "duration": 0.220134,
     "end_time": "2025-07-28T11:06:11.508382",
     "exception": false,
     "start_time": "2025-07-28T11:06:11.288248",
     "status": "completed"
    },
    "tags": []
   },
   "outputs": [],
   "source": [
    "X_train = siab_train.iloc[:,4:164]\n",
    "y_train = siab_train.iloc[:, [3]]"
   ]
  },
  {
   "cell_type": "code",
   "execution_count": 19,
   "id": "828c96af-f43a-4ed6-ba47-8ac73a47d56c",
   "metadata": {
    "execution": {
     "iopub.execute_input": "2025-07-28T11:06:11.626696Z",
     "iopub.status.busy": "2025-07-28T11:06:11.626260Z",
     "iopub.status.idle": "2025-07-28T11:06:11.762270Z",
     "shell.execute_reply": "2025-07-28T11:06:11.761149Z"
    },
    "papermill": {
     "duration": 0.208498,
     "end_time": "2025-07-28T11:06:11.764889",
     "exception": false,
     "start_time": "2025-07-28T11:06:11.556391",
     "status": "completed"
    },
    "tags": []
   },
   "outputs": [],
   "source": [
    "X_calib = siab_calib.iloc[:,4:164]\n",
    "y_calib = siab_calib.iloc[:, [3]]"
   ]
  },
  {
   "cell_type": "code",
   "execution_count": 20,
   "id": "c34be9c3-6bd6-476e-acd3-845840e303be",
   "metadata": {
    "execution": {
     "iopub.execute_input": "2025-07-28T11:06:11.833922Z",
     "iopub.status.busy": "2025-07-28T11:06:11.833466Z",
     "iopub.status.idle": "2025-07-28T11:06:11.893139Z",
     "shell.execute_reply": "2025-07-28T11:06:11.891932Z"
    },
    "papermill": {
     "duration": 0.083069,
     "end_time": "2025-07-28T11:06:11.895682",
     "exception": false,
     "start_time": "2025-07-28T11:06:11.812613",
     "status": "completed"
    },
    "tags": []
   },
   "outputs": [],
   "source": [
    "X_test = siab_test.iloc[:,4:164]\n",
    "y_true = siab_test.iloc[:, [3]]"
   ]
  },
  {
   "cell_type": "code",
   "execution_count": 21,
   "id": "e6c733c5",
   "metadata": {
    "execution": {
     "iopub.execute_input": "2025-07-28T11:06:11.956778Z",
     "iopub.status.busy": "2025-07-28T11:06:11.956329Z",
     "iopub.status.idle": "2025-07-28T11:06:12.124989Z",
     "shell.execute_reply": "2025-07-28T11:06:12.123817Z"
    },
    "papermill": {
     "duration": 0.195796,
     "end_time": "2025-07-28T11:06:12.127066",
     "exception": false,
     "start_time": "2025-07-28T11:06:11.931270",
     "status": "completed"
    },
    "tags": []
   },
   "outputs": [],
   "source": [
    "# Auxiliary data needed downstream in the pipeline\n",
    "\n",
    "org_train = X_train.copy()\n",
    "org_test = X_test.copy()\n",
    "org_calib = X_calib.copy()"
   ]
  },
  {
   "cell_type": "markdown",
   "id": "0a4a1b33",
   "metadata": {
    "papermill": {
     "duration": 0.051655,
     "end_time": "2025-07-28T11:06:12.251843",
     "exception": false,
     "start_time": "2025-07-28T11:06:12.200188",
     "status": "completed"
    },
    "tags": []
   },
   "source": [
    "# Preprocessing Data"
   ]
  },
  {
   "cell_type": "code",
   "execution_count": 22,
   "id": "ca879031",
   "metadata": {
    "execution": {
     "iopub.execute_input": "2025-07-28T11:06:12.309070Z",
     "iopub.status.busy": "2025-07-28T11:06:12.308420Z",
     "iopub.status.idle": "2025-07-28T11:06:12.315975Z",
     "shell.execute_reply": "2025-07-28T11:06:12.314305Z"
    },
    "papermill": {
     "duration": 0.040091,
     "end_time": "2025-07-28T11:06:12.320675",
     "exception": false,
     "start_time": "2025-07-28T11:06:12.280584",
     "status": "completed"
    },
    "tags": []
   },
   "outputs": [],
   "source": [
    "# EXCLUDE PROTECTED FEATURES\n",
    "# ----------------------\n",
    "# \"exclude_features\": \"none\", # \"nationality\", \"sex\", \"nationality-sex\"\n",
    "\n",
    "excluded_features = universe[\"exclude_features\"].split(\"-\") # split, e.g.: \"nationality-sex\" -> [\"nationality\", \"sex\"]\n",
    "excluded_features_dictionary = {\n",
    "    \"nationality\": [\"maxdeutsch1\", \"maxdeutsch.Missing.\"],\n",
    "    \"sex\": [\"frau1\"],\n",
    "    \"age\": [\"age\"],\n",
    "}\n"
   ]
  },
  {
   "cell_type": "code",
   "execution_count": 23,
   "id": "b745ac60",
   "metadata": {
    "execution": {
     "iopub.execute_input": "2025-07-28T11:06:12.374935Z",
     "iopub.status.busy": "2025-07-28T11:06:12.374312Z",
     "iopub.status.idle": "2025-07-28T11:06:12.383235Z",
     "shell.execute_reply": "2025-07-28T11:06:12.381348Z"
    },
    "papermill": {
     "duration": 0.042709,
     "end_time": "2025-07-28T11:06:12.388310",
     "exception": false,
     "start_time": "2025-07-28T11:06:12.345601",
     "status": "completed"
    },
    "tags": []
   },
   "outputs": [],
   "source": [
    "# Code nice names to column names\n",
    "\n",
    "excluded_features_columns = [\n",
    "    excluded_features_dictionary[f] for f in excluded_features if len(f) > 0 and f != \"none\"\n",
    "]"
   ]
  },
  {
   "cell_type": "code",
   "execution_count": 24,
   "id": "f84f73a2",
   "metadata": {
    "execution": {
     "iopub.execute_input": "2025-07-28T11:06:12.446369Z",
     "iopub.status.busy": "2025-07-28T11:06:12.445895Z",
     "iopub.status.idle": "2025-07-28T11:06:12.453305Z",
     "shell.execute_reply": "2025-07-28T11:06:12.451870Z"
    },
    "papermill": {
     "duration": 0.037043,
     "end_time": "2025-07-28T11:06:12.455328",
     "exception": false,
     "start_time": "2025-07-28T11:06:12.418285",
     "status": "completed"
    },
    "tags": []
   },
   "outputs": [],
   "source": [
    "from utils import flatten_once\n",
    "\n",
    "excluded_features_columns = flatten_once(excluded_features_columns)"
   ]
  },
  {
   "cell_type": "code",
   "execution_count": 25,
   "id": "884dea22",
   "metadata": {
    "execution": {
     "iopub.execute_input": "2025-07-28T11:06:12.493472Z",
     "iopub.status.busy": "2025-07-28T11:06:12.492973Z",
     "iopub.status.idle": "2025-07-28T11:06:12.569281Z",
     "shell.execute_reply": "2025-07-28T11:06:12.568010Z"
    },
    "papermill": {
     "duration": 0.093153,
     "end_time": "2025-07-28T11:06:12.571383",
     "exception": false,
     "start_time": "2025-07-28T11:06:12.478230",
     "status": "completed"
    },
    "tags": []
   },
   "outputs": [
    {
     "name": "stdout",
     "output_type": "stream",
     "text": [
      "Dropping features: ['frau1']\n"
     ]
    }
   ],
   "source": [
    "if len(excluded_features_columns) > 0:\n",
    "    print(f\"Dropping features: {excluded_features_columns}\")\n",
    "    X_train.drop(excluded_features_columns, axis=1, inplace=True)"
   ]
  },
  {
   "cell_type": "code",
   "execution_count": 26,
   "id": "95ab8b16",
   "metadata": {
    "execution": {
     "iopub.execute_input": "2025-07-28T11:06:12.666937Z",
     "iopub.status.busy": "2025-07-28T11:06:12.666507Z",
     "iopub.status.idle": "2025-07-28T11:06:12.767564Z",
     "shell.execute_reply": "2025-07-28T11:06:12.766420Z"
    },
    "papermill": {
     "duration": 0.149106,
     "end_time": "2025-07-28T11:06:12.769680",
     "exception": false,
     "start_time": "2025-07-28T11:06:12.620574",
     "status": "completed"
    },
    "tags": []
   },
   "outputs": [
    {
     "name": "stdout",
     "output_type": "stream",
     "text": [
      "Dropping features: ['frau1']\n"
     ]
    }
   ],
   "source": [
    "if len(excluded_features_columns) > 0:\n",
    "    print(f\"Dropping features: {excluded_features_columns}\")\n",
    "    X_test.drop(excluded_features_columns, axis=1, inplace=True)"
   ]
  },
  {
   "cell_type": "code",
   "execution_count": 27,
   "id": "1853aaf5-fb9f-46cb-a2b5-8ea4ae2237e4",
   "metadata": {
    "execution": {
     "iopub.execute_input": "2025-07-28T11:06:12.857453Z",
     "iopub.status.busy": "2025-07-28T11:06:12.856974Z",
     "iopub.status.idle": "2025-07-28T11:06:12.930559Z",
     "shell.execute_reply": "2025-07-28T11:06:12.929545Z"
    },
    "papermill": {
     "duration": 0.115658,
     "end_time": "2025-07-28T11:06:12.932340",
     "exception": false,
     "start_time": "2025-07-28T11:06:12.816682",
     "status": "completed"
    },
    "tags": []
   },
   "outputs": [
    {
     "name": "stdout",
     "output_type": "stream",
     "text": [
      "Dropping features: ['frau1']\n"
     ]
    }
   ],
   "source": [
    "if len(excluded_features_columns) > 0:\n",
    "    print(f\"Dropping features: {excluded_features_columns}\")\n",
    "    X_calib.drop(excluded_features_columns, axis=1, inplace=True)"
   ]
  },
  {
   "cell_type": "code",
   "execution_count": 28,
   "id": "6727d079-03e5-481e-9d38-292a90b7a0a8",
   "metadata": {
    "execution": {
     "iopub.execute_input": "2025-07-28T11:06:12.978027Z",
     "iopub.status.busy": "2025-07-28T11:06:12.977540Z",
     "iopub.status.idle": "2025-07-28T11:06:13.015042Z",
     "shell.execute_reply": "2025-07-28T11:06:13.009612Z"
    },
    "papermill": {
     "duration": 0.061516,
     "end_time": "2025-07-28T11:06:13.017055",
     "exception": false,
     "start_time": "2025-07-28T11:06:12.955539",
     "status": "completed"
    },
    "tags": []
   },
   "outputs": [],
   "source": [
    "# SPLIT & STRATIFY DATA\n",
    "# ----------------------"
   ]
  },
  {
   "cell_type": "code",
   "execution_count": 29,
   "id": "76c4dc6d",
   "metadata": {
    "execution": {
     "iopub.execute_input": "2025-07-28T11:06:13.110790Z",
     "iopub.status.busy": "2025-07-28T11:06:13.110350Z",
     "iopub.status.idle": "2025-07-28T11:06:13.116853Z",
     "shell.execute_reply": "2025-07-28T11:06:13.115799Z"
    },
    "papermill": {
     "duration": 0.060036,
     "end_time": "2025-07-28T11:06:13.118468",
     "exception": false,
     "start_time": "2025-07-28T11:06:13.058432",
     "status": "completed"
    },
    "tags": []
   },
   "outputs": [],
   "source": [
    "# EXCLUDE CERTAIN SUBGROUPS\n",
    "# ----------------------\n",
    "\n",
    "mode = universe.get(\"exclude_subgroups\", \"keep-all\") \n",
    "# Fetches the exclude_subgroups setting from the universe dict.\n",
    "# Defaults to \"keep-all\" if the key is missing."
   ]
  },
  {
   "cell_type": "code",
   "execution_count": 30,
   "id": "21994072",
   "metadata": {
    "execution": {
     "iopub.execute_input": "2025-07-28T11:06:13.212721Z",
     "iopub.status.busy": "2025-07-28T11:06:13.212254Z",
     "iopub.status.idle": "2025-07-28T11:06:13.222561Z",
     "shell.execute_reply": "2025-07-28T11:06:13.221552Z"
    },
    "papermill": {
     "duration": 0.051946,
     "end_time": "2025-07-28T11:06:13.224509",
     "exception": false,
     "start_time": "2025-07-28T11:06:13.172563",
     "status": "completed"
    },
    "tags": []
   },
   "outputs": [],
   "source": [
    "if mode == \"keep-all\":\n",
    "    keep_mask = pd.Series(True, index=org_train.index)\n",
    "\n",
    "# org_train contains the original feature columns from features_org (in Simson)\n",
    "# features_org contains unprocessed features, for me X_train at beginning ???\n",
    "# For keep-all, creates a boolean Series (keep_mask) of all True, so no rows are removed.\n",
    "\n",
    "elif mode == \"drop-non-german\":\n",
    "    keep_mask = org_train[\"maxdeutsch1\"] == 1 # ??? what about missing values?\n",
    "\n",
    "else:\n",
    "    raise ValueError(f\"Unsupported mode for exclude_subgroups: {mode}\")\n"
   ]
  },
  {
   "cell_type": "code",
   "execution_count": 31,
   "id": "71651440",
   "metadata": {
    "execution": {
     "iopub.execute_input": "2025-07-28T11:06:13.322742Z",
     "iopub.status.busy": "2025-07-28T11:06:13.322256Z",
     "iopub.status.idle": "2025-07-28T11:06:13.330829Z",
     "shell.execute_reply": "2025-07-28T11:06:13.329837Z"
    },
    "papermill": {
     "duration": 0.058359,
     "end_time": "2025-07-28T11:06:13.333147",
     "exception": false,
     "start_time": "2025-07-28T11:06:13.274788",
     "status": "completed"
    },
    "tags": []
   },
   "outputs": [],
   "source": [
    "n_drop = (~keep_mask).sum() # Calculates how many rows are set to be dropped\n",
    "if n_drop > 0:\n",
    "    pct = n_drop / len(keep_mask) * 100\n",
    "    print(f\"Dropping {n_drop} rows ({pct:.2f}%) where mode='{mode}'\")"
   ]
  },
  {
   "cell_type": "code",
   "execution_count": 32,
   "id": "5fb8eee5",
   "metadata": {
    "execution": {
     "iopub.execute_input": "2025-07-28T11:06:13.422970Z",
     "iopub.status.busy": "2025-07-28T11:06:13.422504Z",
     "iopub.status.idle": "2025-07-28T11:06:13.548605Z",
     "shell.execute_reply": "2025-07-28T11:06:13.539846Z"
    },
    "papermill": {
     "duration": 0.163422,
     "end_time": "2025-07-28T11:06:13.551842",
     "exception": false,
     "start_time": "2025-07-28T11:06:13.388420",
     "status": "completed"
    },
    "tags": []
   },
   "outputs": [],
   "source": [
    "X_train = X_train[keep_mask]"
   ]
  },
  {
   "cell_type": "code",
   "execution_count": 33,
   "id": "b202bb3a",
   "metadata": {
    "execution": {
     "iopub.execute_input": "2025-07-28T11:06:13.640763Z",
     "iopub.status.busy": "2025-07-28T11:06:13.640299Z",
     "iopub.status.idle": "2025-07-28T11:06:13.650075Z",
     "shell.execute_reply": "2025-07-28T11:06:13.648979Z"
    },
    "papermill": {
     "duration": 0.056054,
     "end_time": "2025-07-28T11:06:13.652392",
     "exception": false,
     "start_time": "2025-07-28T11:06:13.596338",
     "status": "completed"
    },
    "tags": []
   },
   "outputs": [],
   "source": [
    "y_train = y_train[keep_mask]"
   ]
  },
  {
   "cell_type": "markdown",
   "id": "493e2ac3",
   "metadata": {
    "papermill": {
     "duration": 0.049311,
     "end_time": "2025-07-28T11:06:13.767682",
     "exception": false,
     "start_time": "2025-07-28T11:06:13.718371",
     "status": "completed"
    },
    "tags": []
   },
   "source": [
    "# Model Training"
   ]
  },
  {
   "cell_type": "code",
   "execution_count": 34,
   "id": "679e1268",
   "metadata": {
    "execution": {
     "iopub.execute_input": "2025-07-28T11:06:13.847674Z",
     "iopub.status.busy": "2025-07-28T11:06:13.847219Z",
     "iopub.status.idle": "2025-07-28T11:06:14.082204Z",
     "shell.execute_reply": "2025-07-28T11:06:14.081062Z"
    },
    "papermill": {
     "duration": 0.279803,
     "end_time": "2025-07-28T11:06:14.084394",
     "exception": false,
     "start_time": "2025-07-28T11:06:13.804591",
     "status": "completed"
    },
    "tags": []
   },
   "outputs": [],
   "source": [
    "from sklearn.linear_model import LogisticRegression\n",
    "from sklearn.ensemble import GradientBoostingClassifier, RandomForestClassifier\n",
    "\n",
    "if (universe[\"model\"] == \"logreg\"):\n",
    "    model = LogisticRegression() #penalty=\"none\") #, solver=\"newton-cg\", max_iter=1) # include random_state=19 ?\n",
    "elif (universe[\"model\"] == \"penalized_logreg\"):\n",
    "    model = LogisticRegression(penalty=\"l2\", C=1.0) #, solver=\"newton-cg\", max_iter=1)\n",
    "elif (universe[\"model\"] == \"rf\"):\n",
    "    model = RandomForestClassifier(n_estimators=100, n_jobs=-1)\n",
    "elif (universe[\"model\"] == \"gbm\"):\n",
    "    model = GradientBoostingClassifier()\n",
    "elif (universe[\"model\"] == \"elasticnet\"):\n",
    "    model = LogisticRegression(penalty = 'elasticnet', solver = 'saga', l1_ratio = 0.5, max_iter=5000) # which solver to use?\n",
    "else:\n",
    "    raise \"Unsupported universe.model\""
   ]
  },
  {
   "cell_type": "code",
   "execution_count": 35,
   "id": "0cc8f744",
   "metadata": {
    "execution": {
     "iopub.execute_input": "2025-07-28T11:06:14.174504Z",
     "iopub.status.busy": "2025-07-28T11:06:14.173440Z",
     "iopub.status.idle": "2025-07-28T11:06:14.181065Z",
     "shell.execute_reply": "2025-07-28T11:06:14.180116Z"
    },
    "papermill": {
     "duration": 0.051118,
     "end_time": "2025-07-28T11:06:14.183412",
     "exception": false,
     "start_time": "2025-07-28T11:06:14.132294",
     "status": "completed"
    },
    "tags": []
   },
   "outputs": [],
   "source": [
    "import numpy as np\n",
    "from sklearn.pipeline import Pipeline\n",
    "from sklearn.preprocessing import StandardScaler\n",
    "\n",
    "model = Pipeline([\n",
    "    #(\"continuous_processor\", continuous_processor),\n",
    "    #(\"categorical_preprocessor\", categorical_preprocessor),\n",
    "    (\"scale\", StandardScaler() if universe[\"scale\"] == \"scale\" else None), \n",
    "    (\"model\", model),\n",
    "])"
   ]
  },
  {
   "cell_type": "code",
   "execution_count": 36,
   "id": "9442c04d",
   "metadata": {
    "execution": {
     "iopub.execute_input": "2025-07-28T11:06:14.248385Z",
     "iopub.status.busy": "2025-07-28T11:06:14.247792Z",
     "iopub.status.idle": "2025-07-28T11:06:28.948746Z",
     "shell.execute_reply": "2025-07-28T11:06:28.947520Z"
    },
    "papermill": {
     "duration": 14.719276,
     "end_time": "2025-07-28T11:06:28.950864",
     "exception": false,
     "start_time": "2025-07-28T11:06:14.231588",
     "status": "completed"
    },
    "tags": []
   },
   "outputs": [
    {
     "data": {
      "text/html": [
       "<style>#sk-container-id-1 {color: black;background-color: white;}#sk-container-id-1 pre{padding: 0;}#sk-container-id-1 div.sk-toggleable {background-color: white;}#sk-container-id-1 label.sk-toggleable__label {cursor: pointer;display: block;width: 100%;margin-bottom: 0;padding: 0.3em;box-sizing: border-box;text-align: center;}#sk-container-id-1 label.sk-toggleable__label-arrow:before {content: \"▸\";float: left;margin-right: 0.25em;color: #696969;}#sk-container-id-1 label.sk-toggleable__label-arrow:hover:before {color: black;}#sk-container-id-1 div.sk-estimator:hover label.sk-toggleable__label-arrow:before {color: black;}#sk-container-id-1 div.sk-toggleable__content {max-height: 0;max-width: 0;overflow: hidden;text-align: left;background-color: #f0f8ff;}#sk-container-id-1 div.sk-toggleable__content pre {margin: 0.2em;color: black;border-radius: 0.25em;background-color: #f0f8ff;}#sk-container-id-1 input.sk-toggleable__control:checked~div.sk-toggleable__content {max-height: 200px;max-width: 100%;overflow: auto;}#sk-container-id-1 input.sk-toggleable__control:checked~label.sk-toggleable__label-arrow:before {content: \"▾\";}#sk-container-id-1 div.sk-estimator input.sk-toggleable__control:checked~label.sk-toggleable__label {background-color: #d4ebff;}#sk-container-id-1 div.sk-label input.sk-toggleable__control:checked~label.sk-toggleable__label {background-color: #d4ebff;}#sk-container-id-1 input.sk-hidden--visually {border: 0;clip: rect(1px 1px 1px 1px);clip: rect(1px, 1px, 1px, 1px);height: 1px;margin: -1px;overflow: hidden;padding: 0;position: absolute;width: 1px;}#sk-container-id-1 div.sk-estimator {font-family: monospace;background-color: #f0f8ff;border: 1px dotted black;border-radius: 0.25em;box-sizing: border-box;margin-bottom: 0.5em;}#sk-container-id-1 div.sk-estimator:hover {background-color: #d4ebff;}#sk-container-id-1 div.sk-parallel-item::after {content: \"\";width: 100%;border-bottom: 1px solid gray;flex-grow: 1;}#sk-container-id-1 div.sk-label:hover label.sk-toggleable__label {background-color: #d4ebff;}#sk-container-id-1 div.sk-serial::before {content: \"\";position: absolute;border-left: 1px solid gray;box-sizing: border-box;top: 0;bottom: 0;left: 50%;z-index: 0;}#sk-container-id-1 div.sk-serial {display: flex;flex-direction: column;align-items: center;background-color: white;padding-right: 0.2em;padding-left: 0.2em;position: relative;}#sk-container-id-1 div.sk-item {position: relative;z-index: 1;}#sk-container-id-1 div.sk-parallel {display: flex;align-items: stretch;justify-content: center;background-color: white;position: relative;}#sk-container-id-1 div.sk-item::before, #sk-container-id-1 div.sk-parallel-item::before {content: \"\";position: absolute;border-left: 1px solid gray;box-sizing: border-box;top: 0;bottom: 0;left: 50%;z-index: -1;}#sk-container-id-1 div.sk-parallel-item {display: flex;flex-direction: column;z-index: 1;position: relative;background-color: white;}#sk-container-id-1 div.sk-parallel-item:first-child::after {align-self: flex-end;width: 50%;}#sk-container-id-1 div.sk-parallel-item:last-child::after {align-self: flex-start;width: 50%;}#sk-container-id-1 div.sk-parallel-item:only-child::after {width: 0;}#sk-container-id-1 div.sk-dashed-wrapped {border: 1px dashed gray;margin: 0 0.4em 0.5em 0.4em;box-sizing: border-box;padding-bottom: 0.4em;background-color: white;}#sk-container-id-1 div.sk-label label {font-family: monospace;font-weight: bold;display: inline-block;line-height: 1.2em;}#sk-container-id-1 div.sk-label-container {text-align: center;}#sk-container-id-1 div.sk-container {/* jupyter's `normalize.less` sets `[hidden] { display: none; }` but bootstrap.min.css set `[hidden] { display: none !important; }` so we also need the `!important` here to be able to override the default hidden behavior on the sphinx rendered scikit-learn.org. See: https://github.com/scikit-learn/scikit-learn/issues/21755 */display: inline-block !important;position: relative;}#sk-container-id-1 div.sk-text-repr-fallback {display: none;}</style><div id=\"sk-container-id-1\" class=\"sk-top-container\"><div class=\"sk-text-repr-fallback\"><pre>Pipeline(steps=[(&#x27;scale&#x27;, None), (&#x27;model&#x27;, RandomForestClassifier(n_jobs=-1))])</pre><b>In a Jupyter environment, please rerun this cell to show the HTML representation or trust the notebook. <br />On GitHub, the HTML representation is unable to render, please try loading this page with nbviewer.org.</b></div><div class=\"sk-container\" hidden><div class=\"sk-item sk-dashed-wrapped\"><div class=\"sk-label-container\"><div class=\"sk-label sk-toggleable\"><input class=\"sk-toggleable__control sk-hidden--visually\" id=\"sk-estimator-id-1\" type=\"checkbox\" ><label for=\"sk-estimator-id-1\" class=\"sk-toggleable__label sk-toggleable__label-arrow\">Pipeline</label><div class=\"sk-toggleable__content\"><pre>Pipeline(steps=[(&#x27;scale&#x27;, None), (&#x27;model&#x27;, RandomForestClassifier(n_jobs=-1))])</pre></div></div></div><div class=\"sk-serial\"><div class=\"sk-item\"><div class=\"sk-estimator sk-toggleable\"><input class=\"sk-toggleable__control sk-hidden--visually\" id=\"sk-estimator-id-2\" type=\"checkbox\" ><label for=\"sk-estimator-id-2\" class=\"sk-toggleable__label sk-toggleable__label-arrow\">None</label><div class=\"sk-toggleable__content\"><pre>None</pre></div></div></div><div class=\"sk-item\"><div class=\"sk-estimator sk-toggleable\"><input class=\"sk-toggleable__control sk-hidden--visually\" id=\"sk-estimator-id-3\" type=\"checkbox\" ><label for=\"sk-estimator-id-3\" class=\"sk-toggleable__label sk-toggleable__label-arrow\">RandomForestClassifier</label><div class=\"sk-toggleable__content\"><pre>RandomForestClassifier(n_jobs=-1)</pre></div></div></div></div></div></div></div>"
      ],
      "text/plain": [
       "Pipeline(steps=[('scale', None), ('model', RandomForestClassifier(n_jobs=-1))])"
      ]
     },
     "execution_count": 36,
     "metadata": {},
     "output_type": "execute_result"
    }
   ],
   "source": [
    "model.fit(X_train, y_train.values.ravel())"
   ]
  },
  {
   "cell_type": "code",
   "execution_count": 37,
   "id": "af59f8c0",
   "metadata": {
    "execution": {
     "iopub.execute_input": "2025-07-28T11:06:29.041302Z",
     "iopub.status.busy": "2025-07-28T11:06:29.040659Z",
     "iopub.status.idle": "2025-07-28T11:06:29.047999Z",
     "shell.execute_reply": "2025-07-28T11:06:29.047071Z"
    },
    "papermill": {
     "duration": 0.060932,
     "end_time": "2025-07-28T11:06:29.051431",
     "exception": false,
     "start_time": "2025-07-28T11:06:28.990499",
     "status": "completed"
    },
    "tags": []
   },
   "outputs": [],
   "source": [
    "from fairness_multiverse.universe import predict_w_threshold"
   ]
  },
  {
   "cell_type": "code",
   "execution_count": 38,
   "id": "a7cf2e16",
   "metadata": {
    "execution": {
     "iopub.execute_input": "2025-07-28T11:06:29.151975Z",
     "iopub.status.busy": "2025-07-28T11:06:29.151541Z",
     "iopub.status.idle": "2025-07-28T11:06:31.111923Z",
     "shell.execute_reply": "2025-07-28T11:06:31.111044Z"
    },
    "papermill": {
     "duration": 2.00463,
     "end_time": "2025-07-28T11:06:31.113706",
     "exception": false,
     "start_time": "2025-07-28T11:06:29.109076",
     "status": "completed"
    },
    "tags": []
   },
   "outputs": [
    {
     "data": {
      "text/plain": [
       "0.8672277338089399"
      ]
     },
     "execution_count": 38,
     "metadata": {},
     "output_type": "execute_result"
    }
   ],
   "source": [
    "probs_test = model.predict_proba(X_test)\n",
    "\n",
    "'''\n",
    "Below code returns a boolean array (or binary 0/1 array depending on how it’s used) where each element \n",
    "is True if the probability of class 1 is greater than or equal to the threshold, and False otherwise.\n",
    "'''\n",
    "y_pred_default = predict_w_threshold(probs_test, 0.5)\n",
    "\n",
    "from sklearn.metrics import accuracy_score\n",
    "\n",
    "# Naive prediction\n",
    "accuracy_score(y_true = y_true, y_pred = y_pred_default)"
   ]
  },
  {
   "cell_type": "code",
   "execution_count": 39,
   "id": "081964c3",
   "metadata": {
    "execution": {
     "iopub.execute_input": "2025-07-28T11:06:31.218376Z",
     "iopub.status.busy": "2025-07-28T11:06:31.217860Z",
     "iopub.status.idle": "2025-07-28T11:06:33.234764Z",
     "shell.execute_reply": "2025-07-28T11:06:33.233767Z"
    },
    "papermill": {
     "duration": 2.067921,
     "end_time": "2025-07-28T11:06:33.236580",
     "exception": false,
     "start_time": "2025-07-28T11:06:31.168659",
     "status": "completed"
    },
    "tags": []
   },
   "outputs": [
    {
     "data": {
      "text/plain": [
       "array([0, 0, 0, ..., 0, 0, 0])"
      ]
     },
     "execution_count": 39,
     "metadata": {},
     "output_type": "execute_result"
    }
   ],
   "source": [
    "model.predict(X_test)"
   ]
  },
  {
   "cell_type": "markdown",
   "id": "56c9705b",
   "metadata": {
    "papermill": {
     "duration": 0.024037,
     "end_time": "2025-07-28T11:06:33.284692",
     "exception": false,
     "start_time": "2025-07-28T11:06:33.260655",
     "status": "completed"
    },
    "tags": []
   },
   "source": [
    "# Conformal Prediction"
   ]
  },
  {
   "cell_type": "code",
   "execution_count": 40,
   "id": "160ec6ff",
   "metadata": {
    "execution": {
     "iopub.execute_input": "2025-07-28T11:06:33.330640Z",
     "iopub.status.busy": "2025-07-28T11:06:33.329680Z",
     "iopub.status.idle": "2025-07-28T11:06:33.335167Z",
     "shell.execute_reply": "2025-07-28T11:06:33.334124Z"
    },
    "papermill": {
     "duration": 0.030712,
     "end_time": "2025-07-28T11:06:33.336969",
     "exception": false,
     "start_time": "2025-07-28T11:06:33.306257",
     "status": "completed"
    },
    "tags": []
   },
   "outputs": [],
   "source": [
    "# Miscoverage level for conformal prediction (10% allowed error rate => 90% target coverage)\n",
    "alpha = 0.1"
   ]
  },
  {
   "cell_type": "code",
   "execution_count": 41,
   "id": "eadf4555-3dd3-440e-8e35-f82a4ad9f855",
   "metadata": {
    "execution": {
     "iopub.execute_input": "2025-07-28T11:06:33.385643Z",
     "iopub.status.busy": "2025-07-28T11:06:33.384877Z",
     "iopub.status.idle": "2025-07-28T11:06:35.037938Z",
     "shell.execute_reply": "2025-07-28T11:06:35.036676Z"
    },
    "papermill": {
     "duration": 1.677599,
     "end_time": "2025-07-28T11:06:35.040172",
     "exception": false,
     "start_time": "2025-07-28T11:06:33.362573",
     "status": "completed"
    },
    "tags": []
   },
   "outputs": [],
   "source": [
    "probs_calib = model.predict_proba(X_calib)"
   ]
  },
  {
   "cell_type": "code",
   "execution_count": 42,
   "id": "2ed93547-6d5d-4983-9b36-1ecb300da49a",
   "metadata": {
    "execution": {
     "iopub.execute_input": "2025-07-28T11:06:35.092058Z",
     "iopub.status.busy": "2025-07-28T11:06:35.091550Z",
     "iopub.status.idle": "2025-07-28T11:06:35.098716Z",
     "shell.execute_reply": "2025-07-28T11:06:35.097806Z"
    },
    "papermill": {
     "duration": 0.035192,
     "end_time": "2025-07-28T11:06:35.100427",
     "exception": false,
     "start_time": "2025-07-28T11:06:35.065235",
     "status": "completed"
    },
    "tags": []
   },
   "outputs": [],
   "source": [
    "y_calib = y_calib.values.ravel().astype(int)"
   ]
  },
  {
   "cell_type": "code",
   "execution_count": 43,
   "id": "65d1320d-f588-4b38-9072-62af1ae97f7d",
   "metadata": {
    "execution": {
     "iopub.execute_input": "2025-07-28T11:06:35.208854Z",
     "iopub.status.busy": "2025-07-28T11:06:35.208377Z",
     "iopub.status.idle": "2025-07-28T11:06:35.217068Z",
     "shell.execute_reply": "2025-07-28T11:06:35.216002Z"
    },
    "papermill": {
     "duration": 0.061502,
     "end_time": "2025-07-28T11:06:35.218909",
     "exception": false,
     "start_time": "2025-07-28T11:06:35.157407",
     "status": "completed"
    },
    "tags": []
   },
   "outputs": [],
   "source": [
    "from fairness_multiverse.conformal import compute_nc_scores\n",
    "\n",
    "# Compute nonconformity scores on calibration set (1 - probability of true class)\n",
    "nc_scores = compute_nc_scores(probs_calib, y_calib)"
   ]
  },
  {
   "cell_type": "code",
   "execution_count": 44,
   "id": "df3b8ca3-53b7-43d5-9667-7c85da7aeda2",
   "metadata": {
    "execution": {
     "iopub.execute_input": "2025-07-28T11:06:35.327765Z",
     "iopub.status.busy": "2025-07-28T11:06:35.327331Z",
     "iopub.status.idle": "2025-07-28T11:06:35.335021Z",
     "shell.execute_reply": "2025-07-28T11:06:35.334002Z"
    },
    "papermill": {
     "duration": 0.059447,
     "end_time": "2025-07-28T11:06:35.336809",
     "exception": false,
     "start_time": "2025-07-28T11:06:35.277362",
     "status": "completed"
    },
    "tags": []
   },
   "outputs": [],
   "source": [
    "from fairness_multiverse.conformal import find_threshold\n",
    "\n",
    "# Find conformal threshold q_hat for the given alpha (split conformal method)\n",
    "q_hat = find_threshold(nc_scores, alpha)"
   ]
  },
  {
   "cell_type": "code",
   "execution_count": 45,
   "id": "4d29e6c1-0ef6-4aa4-b8fe-4fe79b0d033a",
   "metadata": {
    "execution": {
     "iopub.execute_input": "2025-07-28T11:06:35.501224Z",
     "iopub.status.busy": "2025-07-28T11:06:35.500783Z",
     "iopub.status.idle": "2025-07-28T11:06:35.510339Z",
     "shell.execute_reply": "2025-07-28T11:06:35.509322Z"
    },
    "papermill": {
     "duration": 0.094835,
     "end_time": "2025-07-28T11:06:35.513243",
     "exception": false,
     "start_time": "2025-07-28T11:06:35.418408",
     "status": "completed"
    },
    "tags": []
   },
   "outputs": [
    {
     "data": {
      "text/plain": [
       "0.6599999999999999"
      ]
     },
     "execution_count": 45,
     "metadata": {},
     "output_type": "execute_result"
    }
   ],
   "source": [
    "q_hat"
   ]
  },
  {
   "cell_type": "code",
   "execution_count": 46,
   "id": "92460794-cdac-4be2-ba28-f28c0515a6fb",
   "metadata": {
    "execution": {
     "iopub.execute_input": "2025-07-28T11:06:35.654097Z",
     "iopub.status.busy": "2025-07-28T11:06:35.653613Z",
     "iopub.status.idle": "2025-07-28T11:06:39.821095Z",
     "shell.execute_reply": "2025-07-28T11:06:39.820000Z"
    },
    "papermill": {
     "duration": 4.234517,
     "end_time": "2025-07-28T11:06:39.823375",
     "exception": false,
     "start_time": "2025-07-28T11:06:35.588858",
     "status": "completed"
    },
    "tags": []
   },
   "outputs": [],
   "source": [
    "from fairness_multiverse.conformal import predict_conformal_sets\n",
    "\n",
    "# Generate prediction sets for each test example\n",
    "pred_sets = predict_conformal_sets(model, X_test, q_hat)"
   ]
  },
  {
   "cell_type": "code",
   "execution_count": 47,
   "id": "d90c9a65-e6db-4f5d-80cd-e68fb7e46829",
   "metadata": {
    "execution": {
     "iopub.execute_input": "2025-07-28T11:06:39.921505Z",
     "iopub.status.busy": "2025-07-28T11:06:39.920487Z",
     "iopub.status.idle": "2025-07-28T11:06:39.927275Z",
     "shell.execute_reply": "2025-07-28T11:06:39.926115Z"
    },
    "papermill": {
     "duration": 0.050153,
     "end_time": "2025-07-28T11:06:39.928917",
     "exception": false,
     "start_time": "2025-07-28T11:06:39.878764",
     "status": "completed"
    },
    "tags": []
   },
   "outputs": [],
   "source": [
    "y_true = y_true.squeeze()"
   ]
  },
  {
   "cell_type": "code",
   "execution_count": 48,
   "id": "3a58a54a-1e68-46b9-927a-df01f18aebc8",
   "metadata": {
    "execution": {
     "iopub.execute_input": "2025-07-28T11:06:40.027120Z",
     "iopub.status.busy": "2025-07-28T11:06:40.026675Z",
     "iopub.status.idle": "2025-07-28T11:06:42.269320Z",
     "shell.execute_reply": "2025-07-28T11:06:42.268115Z"
    },
    "papermill": {
     "duration": 2.286618,
     "end_time": "2025-07-28T11:06:42.271285",
     "exception": false,
     "start_time": "2025-07-28T11:06:39.984667",
     "status": "completed"
    },
    "tags": []
   },
   "outputs": [],
   "source": [
    "from fairness_multiverse.conformal import evaluate_sets\n",
    "\n",
    "# Evaluate coverage and average set size on test data\n",
    "metrics = evaluate_sets(pred_sets, y_true)"
   ]
  },
  {
   "cell_type": "markdown",
   "id": "2b569c12-9aaa-4c88-98c9-bbcd0cf3ebb8",
   "metadata": {
    "papermill": {
     "duration": 0.044178,
     "end_time": "2025-07-28T11:06:42.364885",
     "exception": false,
     "start_time": "2025-07-28T11:06:42.320707",
     "status": "completed"
    },
    "tags": []
   },
   "source": [
    "# CP Metrics"
   ]
  },
  {
   "cell_type": "code",
   "execution_count": 49,
   "id": "5ce0a5cb-201f-45a0-ade5-94c7f0bd6095",
   "metadata": {
    "execution": {
     "iopub.execute_input": "2025-07-28T11:06:42.458666Z",
     "iopub.status.busy": "2025-07-28T11:06:42.458195Z",
     "iopub.status.idle": "2025-07-28T11:06:42.465715Z",
     "shell.execute_reply": "2025-07-28T11:06:42.464701Z"
    },
    "papermill": {
     "duration": 0.050669,
     "end_time": "2025-07-28T11:06:42.467336",
     "exception": false,
     "start_time": "2025-07-28T11:06:42.416667",
     "status": "completed"
    },
    "tags": []
   },
   "outputs": [
    {
     "data": {
      "text/plain": [
       "{'coverage': 0.9172890424701817, 'avg_size': 1.1444543529149482}"
      ]
     },
     "execution_count": 49,
     "metadata": {},
     "output_type": "execute_result"
    }
   ],
   "source": [
    "metrics"
   ]
  },
  {
   "cell_type": "code",
   "execution_count": 50,
   "id": "9b9a838d-31c9-430b-ae14-12baee460d17",
   "metadata": {
    "execution": {
     "iopub.execute_input": "2025-07-28T11:06:42.578856Z",
     "iopub.status.busy": "2025-07-28T11:06:42.578370Z",
     "iopub.status.idle": "2025-07-28T11:06:42.585522Z",
     "shell.execute_reply": "2025-07-28T11:06:42.584486Z"
    },
    "papermill": {
     "duration": 0.062893,
     "end_time": "2025-07-28T11:06:42.587269",
     "exception": false,
     "start_time": "2025-07-28T11:06:42.524376",
     "status": "completed"
    },
    "tags": []
   },
   "outputs": [],
   "source": [
    "example_universe = universe.copy()\n",
    "universe_training_size = example_universe.get(\"training_size\")\n",
    "universe_scale = example_universe.get(\"scale\")\n",
    "universe_model = example_universe.get(\"model\")\n",
    "universe_exclude_features = example_universe.get(\"exclude_features\")\n",
    "universe_exclude_subgroups = example_universe.get(\"exclude_subgroups\")"
   ]
  },
  {
   "cell_type": "code",
   "execution_count": 51,
   "id": "f4b6a8ac-9dc0-4245-8a91-5b3b5999c4f9",
   "metadata": {
    "execution": {
     "iopub.execute_input": "2025-07-28T11:06:42.698960Z",
     "iopub.status.busy": "2025-07-28T11:06:42.698556Z",
     "iopub.status.idle": "2025-07-28T11:06:42.706917Z",
     "shell.execute_reply": "2025-07-28T11:06:42.705987Z"
    },
    "papermill": {
     "duration": 0.064608,
     "end_time": "2025-07-28T11:06:42.708785",
     "exception": false,
     "start_time": "2025-07-28T11:06:42.644177",
     "status": "completed"
    },
    "tags": []
   },
   "outputs": [],
   "source": [
    "cp_metrics_dict = {\n",
    "    \"universe_id\": [universe_id],\n",
    "    \"universe_training_size\": [universe_training_size],\n",
    "    \"universe_scale\": [universe_scale],\n",
    "    \"universe_model\": [universe_model],\n",
    "    \"universe_exclude_features\": [universe_exclude_features],\n",
    "    \"universe_exclude_subgroups\": [universe_exclude_subgroups],\n",
    "    \"q_hat\": [q_hat],\n",
    "    \"coverage\": [metrics[\"coverage\"]],\n",
    "    \"avg_size\": [metrics[\"avg_size\"]],\n",
    "}"
   ]
  },
  {
   "cell_type": "code",
   "execution_count": 52,
   "id": "908acbb1-0371-4915-85ca-3fa520d2efe2",
   "metadata": {
    "execution": {
     "iopub.execute_input": "2025-07-28T11:06:42.806992Z",
     "iopub.status.busy": "2025-07-28T11:06:42.806568Z",
     "iopub.status.idle": "2025-07-28T11:06:42.814754Z",
     "shell.execute_reply": "2025-07-28T11:06:42.813800Z"
    },
    "papermill": {
     "duration": 0.051688,
     "end_time": "2025-07-28T11:06:42.816397",
     "exception": false,
     "start_time": "2025-07-28T11:06:42.764709",
     "status": "completed"
    },
    "tags": []
   },
   "outputs": [
    {
     "data": {
      "text/plain": [
       "{'universe_id': ['a59dd11aa57b37af8b4354fce4106422'],\n",
       " 'universe_training_size': ['2014'],\n",
       " 'universe_scale': ['do-not-scale'],\n",
       " 'universe_model': ['rf'],\n",
       " 'universe_exclude_features': ['sex'],\n",
       " 'universe_exclude_subgroups': ['keep-all'],\n",
       " 'q_hat': [0.6599999999999999],\n",
       " 'coverage': [0.9172890424701817],\n",
       " 'avg_size': [1.1444543529149482]}"
      ]
     },
     "execution_count": 52,
     "metadata": {},
     "output_type": "execute_result"
    }
   ],
   "source": [
    "cp_metrics_dict"
   ]
  },
  {
   "cell_type": "code",
   "execution_count": 53,
   "id": "33007efc-14e9-4ec6-97ac-56a455c82265",
   "metadata": {
    "execution": {
     "iopub.execute_input": "2025-07-28T11:06:42.926577Z",
     "iopub.status.busy": "2025-07-28T11:06:42.926141Z",
     "iopub.status.idle": "2025-07-28T11:06:42.933347Z",
     "shell.execute_reply": "2025-07-28T11:06:42.932203Z"
    },
    "papermill": {
     "duration": 0.061878,
     "end_time": "2025-07-28T11:06:42.934847",
     "exception": false,
     "start_time": "2025-07-28T11:06:42.872969",
     "status": "completed"
    },
    "tags": []
   },
   "outputs": [],
   "source": [
    "cp_metrics_df = pd.DataFrame(cp_metrics_dict)"
   ]
  },
  {
   "cell_type": "code",
   "execution_count": 54,
   "id": "db12611b-57b2-4910-b9d0-355adfd6e7bf",
   "metadata": {
    "execution": {
     "iopub.execute_input": "2025-07-28T11:06:43.038614Z",
     "iopub.status.busy": "2025-07-28T11:06:43.038153Z",
     "iopub.status.idle": "2025-07-28T11:06:43.069417Z",
     "shell.execute_reply": "2025-07-28T11:06:43.068289Z"
    },
    "papermill": {
     "duration": 0.090455,
     "end_time": "2025-07-28T11:06:43.071109",
     "exception": false,
     "start_time": "2025-07-28T11:06:42.980654",
     "status": "completed"
    },
    "tags": []
   },
   "outputs": [
    {
     "data": {
      "text/html": [
       "<div>\n",
       "<style scoped>\n",
       "    .dataframe tbody tr th:only-of-type {\n",
       "        vertical-align: middle;\n",
       "    }\n",
       "\n",
       "    .dataframe tbody tr th {\n",
       "        vertical-align: top;\n",
       "    }\n",
       "\n",
       "    .dataframe thead th {\n",
       "        text-align: right;\n",
       "    }\n",
       "</style>\n",
       "<table border=\"1\" class=\"dataframe\">\n",
       "  <thead>\n",
       "    <tr style=\"text-align: right;\">\n",
       "      <th></th>\n",
       "      <th>universe_id</th>\n",
       "      <th>universe_training_size</th>\n",
       "      <th>universe_scale</th>\n",
       "      <th>universe_model</th>\n",
       "      <th>universe_exclude_features</th>\n",
       "      <th>universe_exclude_subgroups</th>\n",
       "      <th>q_hat</th>\n",
       "      <th>coverage</th>\n",
       "      <th>avg_size</th>\n",
       "    </tr>\n",
       "  </thead>\n",
       "  <tbody>\n",
       "    <tr>\n",
       "      <th>0</th>\n",
       "      <td>a59dd11aa57b37af8b4354fce4106422</td>\n",
       "      <td>2014</td>\n",
       "      <td>do-not-scale</td>\n",
       "      <td>rf</td>\n",
       "      <td>sex</td>\n",
       "      <td>keep-all</td>\n",
       "      <td>0.66</td>\n",
       "      <td>0.917289</td>\n",
       "      <td>1.144454</td>\n",
       "    </tr>\n",
       "  </tbody>\n",
       "</table>\n",
       "</div>"
      ],
      "text/plain": [
       "                        universe_id universe_training_size universe_scale  \\\n",
       "0  a59dd11aa57b37af8b4354fce4106422                   2014   do-not-scale   \n",
       "\n",
       "  universe_model universe_exclude_features universe_exclude_subgroups  q_hat  \\\n",
       "0             rf                       sex                   keep-all   0.66   \n",
       "\n",
       "   coverage  avg_size  \n",
       "0  0.917289  1.144454  "
      ]
     },
     "execution_count": 54,
     "metadata": {},
     "output_type": "execute_result"
    }
   ],
   "source": [
    "cp_metrics_df"
   ]
  },
  {
   "cell_type": "code",
   "execution_count": 55,
   "id": "b7fbde55-a0a1-47e4-9af6-fe4a17fa8c61",
   "metadata": {
    "execution": {
     "iopub.execute_input": "2025-07-28T11:06:43.151001Z",
     "iopub.status.busy": "2025-07-28T11:06:43.150599Z",
     "iopub.status.idle": "2025-07-28T11:06:43.156221Z",
     "shell.execute_reply": "2025-07-28T11:06:43.155133Z"
    },
    "papermill": {
     "duration": 0.034472,
     "end_time": "2025-07-28T11:06:43.159147",
     "exception": false,
     "start_time": "2025-07-28T11:06:43.124675",
     "status": "completed"
    },
    "tags": []
   },
   "outputs": [],
   "source": [
    "# Conditional Coverage & looking at subgroups"
   ]
  },
  {
   "cell_type": "code",
   "execution_count": 56,
   "id": "027ae886-68dd-4141-96c7-805a5450e1ef",
   "metadata": {
    "execution": {
     "iopub.execute_input": "2025-07-28T11:06:43.212162Z",
     "iopub.status.busy": "2025-07-28T11:06:43.211719Z",
     "iopub.status.idle": "2025-07-28T11:06:43.666370Z",
     "shell.execute_reply": "2025-07-28T11:06:43.665241Z"
    },
    "papermill": {
     "duration": 0.484779,
     "end_time": "2025-07-28T11:06:43.669002",
     "exception": false,
     "start_time": "2025-07-28T11:06:43.184223",
     "status": "completed"
    },
    "tags": []
   },
   "outputs": [],
   "source": [
    "from fairness_multiverse.conformal import build_cp_groups\n",
    "\n",
    "cp_groups_df = build_cp_groups(pred_sets, y_true, X_test.index, org_test)\n",
    "#needs universe_id and setting"
   ]
  },
  {
   "cell_type": "code",
   "execution_count": 57,
   "id": "01d5802c-663a-4d1f-9d69-e036faaffbf7",
   "metadata": {
    "execution": {
     "iopub.execute_input": "2025-07-28T11:06:43.756815Z",
     "iopub.status.busy": "2025-07-28T11:06:43.756026Z",
     "iopub.status.idle": "2025-07-28T11:06:43.761903Z",
     "shell.execute_reply": "2025-07-28T11:06:43.760901Z"
    },
    "papermill": {
     "duration": 0.052651,
     "end_time": "2025-07-28T11:06:43.764819",
     "exception": false,
     "start_time": "2025-07-28T11:06:43.712168",
     "status": "completed"
    },
    "tags": []
   },
   "outputs": [],
   "source": [
    "#delete\n",
    "#cp_groups_df"
   ]
  },
  {
   "cell_type": "code",
   "execution_count": 58,
   "id": "fa424af1-d1eb-443d-b717-2d279ada8408",
   "metadata": {
    "execution": {
     "iopub.execute_input": "2025-07-28T11:06:43.834342Z",
     "iopub.status.busy": "2025-07-28T11:06:43.833915Z",
     "iopub.status.idle": "2025-07-28T11:06:43.839447Z",
     "shell.execute_reply": "2025-07-28T11:06:43.838486Z"
    },
    "papermill": {
     "duration": 0.037355,
     "end_time": "2025-07-28T11:06:43.842778",
     "exception": false,
     "start_time": "2025-07-28T11:06:43.805423",
     "status": "completed"
    },
    "tags": []
   },
   "outputs": [],
   "source": [
    "#delete\n",
    "#percentage = (cp_groups_df['nongerman_female'] == 1).mean() * 100\n",
    "#print(percentage)\n"
   ]
  },
  {
   "cell_type": "code",
   "execution_count": 59,
   "id": "6cbdab96-b2b2-45af-ad54-d0516db2e28d",
   "metadata": {
    "execution": {
     "iopub.execute_input": "2025-07-28T11:06:43.915166Z",
     "iopub.status.busy": "2025-07-28T11:06:43.914656Z",
     "iopub.status.idle": "2025-07-28T11:06:47.299467Z",
     "shell.execute_reply": "2025-07-28T11:06:47.298365Z"
    },
    "papermill": {
     "duration": 3.430876,
     "end_time": "2025-07-28T11:06:47.301363",
     "exception": false,
     "start_time": "2025-07-28T11:06:43.870487",
     "status": "completed"
    },
    "tags": []
   },
   "outputs": [],
   "source": [
    "# Define covered = 1 if true_label is in the predicted set\n",
    "cp_groups_df['covered'] = cp_groups_df.apply(\n",
    "    lambda r: int(r['true_label'] in r['pred_set']),\n",
    "    axis=1\n",
    ")"
   ]
  },
  {
   "cell_type": "code",
   "execution_count": 60,
   "id": "338ff529-1a6b-4b87-a931-8e4788d52aad",
   "metadata": {
    "execution": {
     "iopub.execute_input": "2025-07-28T11:06:47.414510Z",
     "iopub.status.busy": "2025-07-28T11:06:47.413633Z",
     "iopub.status.idle": "2025-07-28T11:06:47.419183Z",
     "shell.execute_reply": "2025-07-28T11:06:47.418232Z"
    },
    "papermill": {
     "duration": 0.071261,
     "end_time": "2025-07-28T11:06:47.420812",
     "exception": false,
     "start_time": "2025-07-28T11:06:47.349551",
     "status": "completed"
    },
    "tags": []
   },
   "outputs": [],
   "source": [
    "#cp_groups_df"
   ]
  },
  {
   "cell_type": "code",
   "execution_count": 61,
   "id": "90032e27-66df-4540-9169-4e89cfbaa758",
   "metadata": {
    "execution": {
     "iopub.execute_input": "2025-07-28T11:06:47.528201Z",
     "iopub.status.busy": "2025-07-28T11:06:47.527793Z",
     "iopub.status.idle": "2025-07-28T11:06:47.542442Z",
     "shell.execute_reply": "2025-07-28T11:06:47.541548Z"
    },
    "papermill": {
     "duration": 0.077983,
     "end_time": "2025-07-28T11:06:47.544352",
     "exception": false,
     "start_time": "2025-07-28T11:06:47.466369",
     "status": "completed"
    },
    "tags": []
   },
   "outputs": [],
   "source": [
    "subgroups = ['frau1','nongerman','nongerman_male','nongerman_female']\n",
    "\n",
    "# Conditional coverage for subgroup==1\n",
    "cond_coverage = {\n",
    "    g: cp_groups_df.loc[cp_groups_df[g]==1, 'covered'].mean()\n",
    "    for g in subgroups\n",
    "}"
   ]
  },
  {
   "cell_type": "code",
   "execution_count": 62,
   "id": "1e348fb1-b9c3-45bc-ba23-f016827a7e0d",
   "metadata": {
    "execution": {
     "iopub.execute_input": "2025-07-28T11:06:47.615032Z",
     "iopub.status.busy": "2025-07-28T11:06:47.614561Z",
     "iopub.status.idle": "2025-07-28T11:06:47.623569Z",
     "shell.execute_reply": "2025-07-28T11:06:47.622445Z"
    },
    "papermill": {
     "duration": 0.045573,
     "end_time": "2025-07-28T11:06:47.627920",
     "exception": false,
     "start_time": "2025-07-28T11:06:47.582347",
     "status": "completed"
    },
    "tags": []
   },
   "outputs": [
    {
     "data": {
      "text/plain": [
       "{'frau1': 0.9181560857258391,\n",
       " 'nongerman': 0.913770841520238,\n",
       " 'nongerman_male': 0.927226875619202,\n",
       " 'nongerman_female': 0.89150521609538}"
      ]
     },
     "execution_count": 62,
     "metadata": {},
     "output_type": "execute_result"
    }
   ],
   "source": [
    "cond_coverage"
   ]
  },
  {
   "cell_type": "code",
   "execution_count": 63,
   "id": "f5093324-c3dd-4d63-bc4c-8d945e5c8bbb",
   "metadata": {
    "execution": {
     "iopub.execute_input": "2025-07-28T11:06:47.736082Z",
     "iopub.status.busy": "2025-07-28T11:06:47.735617Z",
     "iopub.status.idle": "2025-07-28T11:06:47.744871Z",
     "shell.execute_reply": "2025-07-28T11:06:47.743725Z"
    },
    "papermill": {
     "duration": 0.063274,
     "end_time": "2025-07-28T11:06:47.747119",
     "exception": false,
     "start_time": "2025-07-28T11:06:47.683845",
     "status": "completed"
    },
    "tags": []
   },
   "outputs": [],
   "source": [
    "for subgroup, cov in cond_coverage.items():\n",
    "    cp_metrics_df[f\"cov_{subgroup}\"] = cov"
   ]
  },
  {
   "cell_type": "code",
   "execution_count": 64,
   "id": "6e872e10-dbe5-49e8-b554-5030c98ff75d",
   "metadata": {
    "execution": {
     "iopub.execute_input": "2025-07-28T11:06:47.824615Z",
     "iopub.status.busy": "2025-07-28T11:06:47.824168Z",
     "iopub.status.idle": "2025-07-28T11:06:47.866231Z",
     "shell.execute_reply": "2025-07-28T11:06:47.865306Z"
    },
    "papermill": {
     "duration": 0.091427,
     "end_time": "2025-07-28T11:06:47.868091",
     "exception": false,
     "start_time": "2025-07-28T11:06:47.776664",
     "status": "completed"
    },
    "tags": []
   },
   "outputs": [
    {
     "data": {
      "text/html": [
       "<div>\n",
       "<style scoped>\n",
       "    .dataframe tbody tr th:only-of-type {\n",
       "        vertical-align: middle;\n",
       "    }\n",
       "\n",
       "    .dataframe tbody tr th {\n",
       "        vertical-align: top;\n",
       "    }\n",
       "\n",
       "    .dataframe thead th {\n",
       "        text-align: right;\n",
       "    }\n",
       "</style>\n",
       "<table border=\"1\" class=\"dataframe\">\n",
       "  <thead>\n",
       "    <tr style=\"text-align: right;\">\n",
       "      <th></th>\n",
       "      <th>universe_id</th>\n",
       "      <th>universe_training_size</th>\n",
       "      <th>universe_scale</th>\n",
       "      <th>universe_model</th>\n",
       "      <th>universe_exclude_features</th>\n",
       "      <th>universe_exclude_subgroups</th>\n",
       "      <th>q_hat</th>\n",
       "      <th>coverage</th>\n",
       "      <th>avg_size</th>\n",
       "      <th>cov_frau1</th>\n",
       "      <th>cov_nongerman</th>\n",
       "      <th>cov_nongerman_male</th>\n",
       "      <th>cov_nongerman_female</th>\n",
       "    </tr>\n",
       "  </thead>\n",
       "  <tbody>\n",
       "    <tr>\n",
       "      <th>0</th>\n",
       "      <td>a59dd11aa57b37af8b4354fce4106422</td>\n",
       "      <td>2014</td>\n",
       "      <td>do-not-scale</td>\n",
       "      <td>rf</td>\n",
       "      <td>sex</td>\n",
       "      <td>keep-all</td>\n",
       "      <td>0.66</td>\n",
       "      <td>0.917289</td>\n",
       "      <td>1.144454</td>\n",
       "      <td>0.918156</td>\n",
       "      <td>0.913771</td>\n",
       "      <td>0.927227</td>\n",
       "      <td>0.891505</td>\n",
       "    </tr>\n",
       "  </tbody>\n",
       "</table>\n",
       "</div>"
      ],
      "text/plain": [
       "                        universe_id universe_training_size universe_scale  \\\n",
       "0  a59dd11aa57b37af8b4354fce4106422                   2014   do-not-scale   \n",
       "\n",
       "  universe_model universe_exclude_features universe_exclude_subgroups  q_hat  \\\n",
       "0             rf                       sex                   keep-all   0.66   \n",
       "\n",
       "   coverage  avg_size  cov_frau1  cov_nongerman  cov_nongerman_male  \\\n",
       "0  0.917289  1.144454   0.918156       0.913771            0.927227   \n",
       "\n",
       "   cov_nongerman_female  \n",
       "0              0.891505  "
      ]
     },
     "execution_count": 64,
     "metadata": {},
     "output_type": "execute_result"
    }
   ],
   "source": [
    "cp_metrics_df"
   ]
  },
  {
   "cell_type": "markdown",
   "id": "33774451",
   "metadata": {
    "papermill": {
     "duration": 0.04629,
     "end_time": "2025-07-28T11:06:47.963221",
     "exception": false,
     "start_time": "2025-07-28T11:06:47.916931",
     "status": "completed"
    },
    "tags": []
   },
   "source": [
    "# (Fairness) Metrics"
   ]
  },
  {
   "cell_type": "code",
   "execution_count": 65,
   "id": "debc5d62",
   "metadata": {
    "execution": {
     "iopub.execute_input": "2025-07-28T11:06:48.019117Z",
     "iopub.status.busy": "2025-07-28T11:06:48.018545Z",
     "iopub.status.idle": "2025-07-28T11:06:48.056942Z",
     "shell.execute_reply": "2025-07-28T11:06:48.055818Z"
    },
    "papermill": {
     "duration": 0.068329,
     "end_time": "2025-07-28T11:06:48.058852",
     "exception": false,
     "start_time": "2025-07-28T11:06:47.990523",
     "status": "completed"
    },
    "tags": []
   },
   "outputs": [],
   "source": [
    "# do I need to include maxdeutsch1.missing?\n",
    "\n",
    "import numpy as np\n",
    "\n",
    "colname_to_bin = \"maxdeutsch1\"\n",
    "majority_value = org_train[colname_to_bin].mode()[0]\n",
    "\n",
    "org_test[\"majmin\"] = np.where(org_test[colname_to_bin] == majority_value, \"majority\", \"minority\")"
   ]
  },
  {
   "cell_type": "code",
   "execution_count": 66,
   "id": "06a50de5",
   "metadata": {
    "execution": {
     "iopub.execute_input": "2025-07-28T11:06:48.123183Z",
     "iopub.status.busy": "2025-07-28T11:06:48.122783Z",
     "iopub.status.idle": "2025-07-28T11:06:51.717472Z",
     "shell.execute_reply": "2025-07-28T11:06:51.716299Z"
    },
    "papermill": {
     "duration": 3.625689,
     "end_time": "2025-07-28T11:06:51.720125",
     "exception": false,
     "start_time": "2025-07-28T11:06:48.094436",
     "status": "completed"
    },
    "tags": []
   },
   "outputs": [],
   "source": [
    "example_universe = universe.copy()\n",
    "example_universe[\"cutoff\"] = example_universe[\"cutoff\"][0]\n",
    "example_universe[\"eval_fairness_grouping\"] = example_universe[\"eval_fairness_grouping\"][0]\n",
    "fairness_dict, metric_frame = universe_analysis.compute_metrics(\n",
    "    example_universe,\n",
    "    y_pred_prob=probs_test,\n",
    "    y_test=y_true,\n",
    "    org_test=org_test,\n",
    ")"
   ]
  },
  {
   "cell_type": "markdown",
   "id": "f95d4e02",
   "metadata": {
    "papermill": {
     "duration": 0.060026,
     "end_time": "2025-07-28T11:06:51.840783",
     "exception": false,
     "start_time": "2025-07-28T11:06:51.780757",
     "status": "completed"
    },
    "tags": []
   },
   "source": [
    "# Overall"
   ]
  },
  {
   "cell_type": "markdown",
   "id": "bdee4871",
   "metadata": {
    "papermill": {
     "duration": 0.027235,
     "end_time": "2025-07-28T11:06:51.939578",
     "exception": false,
     "start_time": "2025-07-28T11:06:51.912343",
     "status": "completed"
    },
    "tags": []
   },
   "source": [
    "Fairness\n",
    "Main fairness target: Equalized Odds. Seems to be a better fit than equal opportunity, since we're not only interested in Y = 1. Seems to be a better fit than demographic parity, since we also care about accuracy, not just equal distribution of preds.\n",
    "\n",
    "Pick column for computation of fairness metrics\n",
    "\n",
    "Performance\n",
    "Overall performance measures, most interesting in relation to the measures split by group below"
   ]
  },
  {
   "cell_type": "code",
   "execution_count": 67,
   "id": "c4e067c6",
   "metadata": {
    "execution": {
     "iopub.execute_input": "2025-07-28T11:06:52.033396Z",
     "iopub.status.busy": "2025-07-28T11:06:52.032970Z",
     "iopub.status.idle": "2025-07-28T11:06:52.048524Z",
     "shell.execute_reply": "2025-07-28T11:06:52.047509Z"
    },
    "papermill": {
     "duration": 0.064672,
     "end_time": "2025-07-28T11:06:52.067825",
     "exception": false,
     "start_time": "2025-07-28T11:06:52.003153",
     "status": "completed"
    },
    "tags": []
   },
   "outputs": [
    {
     "data": {
      "text/plain": [
       "accuracy                   0.208282\n",
       "balanced accuracy          0.536735\n",
       "f1                         0.240756\n",
       "precision                  0.137264\n",
       "false positive rate        0.905066\n",
       "false negative rate        0.021463\n",
       "selection rate             0.914491\n",
       "count                  89710.000000\n",
       "dtype: float64"
      ]
     },
     "execution_count": 67,
     "metadata": {},
     "output_type": "execute_result"
    }
   ],
   "source": [
    "metric_frame.overall"
   ]
  },
  {
   "cell_type": "markdown",
   "id": "e968fe9d",
   "metadata": {
    "papermill": {
     "duration": 0.034679,
     "end_time": "2025-07-28T11:06:52.157175",
     "exception": false,
     "start_time": "2025-07-28T11:06:52.122496",
     "status": "completed"
    },
    "tags": []
   },
   "source": [
    "By Group"
   ]
  },
  {
   "cell_type": "code",
   "execution_count": 68,
   "id": "ec325bce",
   "metadata": {
    "execution": {
     "iopub.execute_input": "2025-07-28T11:06:52.225420Z",
     "iopub.status.busy": "2025-07-28T11:06:52.224997Z",
     "iopub.status.idle": "2025-07-28T11:06:52.258094Z",
     "shell.execute_reply": "2025-07-28T11:06:52.256977Z"
    },
    "papermill": {
     "duration": 0.077923,
     "end_time": "2025-07-28T11:06:52.260305",
     "exception": false,
     "start_time": "2025-07-28T11:06:52.182382",
     "status": "completed"
    },
    "tags": []
   },
   "outputs": [
    {
     "data": {
      "text/html": [
       "<div>\n",
       "<style scoped>\n",
       "    .dataframe tbody tr th:only-of-type {\n",
       "        vertical-align: middle;\n",
       "    }\n",
       "\n",
       "    .dataframe tbody tr th {\n",
       "        vertical-align: top;\n",
       "    }\n",
       "\n",
       "    .dataframe thead th {\n",
       "        text-align: right;\n",
       "    }\n",
       "</style>\n",
       "<table border=\"1\" class=\"dataframe\">\n",
       "  <thead>\n",
       "    <tr style=\"text-align: right;\">\n",
       "      <th></th>\n",
       "      <th>accuracy</th>\n",
       "      <th>balanced accuracy</th>\n",
       "      <th>f1</th>\n",
       "      <th>precision</th>\n",
       "      <th>false positive rate</th>\n",
       "      <th>false negative rate</th>\n",
       "      <th>selection rate</th>\n",
       "      <th>count</th>\n",
       "    </tr>\n",
       "    <tr>\n",
       "      <th>majmin</th>\n",
       "      <th></th>\n",
       "      <th></th>\n",
       "      <th></th>\n",
       "      <th></th>\n",
       "      <th></th>\n",
       "      <th></th>\n",
       "      <th></th>\n",
       "      <th></th>\n",
       "    </tr>\n",
       "  </thead>\n",
       "  <tbody>\n",
       "    <tr>\n",
       "      <th>majority</th>\n",
       "      <td>0.199407</td>\n",
       "      <td>0.534860</td>\n",
       "      <td>0.246459</td>\n",
       "      <td>0.140733</td>\n",
       "      <td>0.921089</td>\n",
       "      <td>0.009190</td>\n",
       "      <td>0.930302</td>\n",
       "      <td>69170.0</td>\n",
       "    </tr>\n",
       "    <tr>\n",
       "      <th>minority</th>\n",
       "      <td>0.238169</td>\n",
       "      <td>0.539515</td>\n",
       "      <td>0.219862</td>\n",
       "      <td>0.124647</td>\n",
       "      <td>0.852135</td>\n",
       "      <td>0.068834</td>\n",
       "      <td>0.861246</td>\n",
       "      <td>20540.0</td>\n",
       "    </tr>\n",
       "  </tbody>\n",
       "</table>\n",
       "</div>"
      ],
      "text/plain": [
       "          accuracy  balanced accuracy        f1  precision  \\\n",
       "majmin                                                       \n",
       "majority  0.199407           0.534860  0.246459   0.140733   \n",
       "minority  0.238169           0.539515  0.219862   0.124647   \n",
       "\n",
       "          false positive rate  false negative rate  selection rate    count  \n",
       "majmin                                                                       \n",
       "majority             0.921089             0.009190        0.930302  69170.0  \n",
       "minority             0.852135             0.068834        0.861246  20540.0  "
      ]
     },
     "execution_count": 68,
     "metadata": {},
     "output_type": "execute_result"
    }
   ],
   "source": [
    "metric_frame.by_group"
   ]
  },
  {
   "cell_type": "code",
   "execution_count": 69,
   "id": "a9ddbe63",
   "metadata": {
    "execution": {
     "iopub.execute_input": "2025-07-28T11:06:52.377637Z",
     "iopub.status.busy": "2025-07-28T11:06:52.377187Z",
     "iopub.status.idle": "2025-07-28T11:06:55.582051Z",
     "shell.execute_reply": "2025-07-28T11:06:55.581068Z"
    },
    "papermill": {
     "duration": 3.270612,
     "end_time": "2025-07-28T11:06:55.583782",
     "exception": false,
     "start_time": "2025-07-28T11:06:52.313170",
     "status": "completed"
    },
    "tags": []
   },
   "outputs": [
    {
     "data": {
      "text/plain": [
       "array([[<Axes: title={'center': 'accuracy'}, xlabel='majmin'>,\n",
       "        <Axes: title={'center': 'balanced accuracy'}, xlabel='majmin'>,\n",
       "        <Axes: title={'center': 'f1'}, xlabel='majmin'>],\n",
       "       [<Axes: title={'center': 'precision'}, xlabel='majmin'>,\n",
       "        <Axes: title={'center': 'false positive rate'}, xlabel='majmin'>,\n",
       "        <Axes: title={'center': 'false negative rate'}, xlabel='majmin'>],\n",
       "       [<Axes: title={'center': 'selection rate'}, xlabel='majmin'>,\n",
       "        <Axes: title={'center': 'count'}, xlabel='majmin'>,\n",
       "        <Axes: xlabel='majmin'>]], dtype=object)"
      ]
     },
     "execution_count": 69,
     "metadata": {},
     "output_type": "execute_result"
    },
    {
     "data": {
      "image/png": "[encoded data removed]",
      "text/plain": [
       "<Figure size 1200x800 with 9 Axes>"
      ]
     },
     "metadata": {},
     "output_type": "display_data"
    }
   ],
   "source": [
    "# In a graphic\n",
    "metric_frame.by_group.plot.bar(\n",
    "    subplots=True,\n",
    "    layout=[3, 3],\n",
    "    legend=False,\n",
    "    figsize=[12, 8],\n",
    "    title=\"Show all metrics\",\n",
    ")"
   ]
  },
  {
   "cell_type": "markdown",
   "id": "f57a0bac",
   "metadata": {
    "papermill": {
     "duration": 0.06112,
     "end_time": "2025-07-28T11:06:55.700516",
     "exception": false,
     "start_time": "2025-07-28T11:06:55.639396",
     "status": "completed"
    },
    "tags": []
   },
   "source": [
    "# Final Output"
   ]
  },
  {
   "cell_type": "code",
   "execution_count": 70,
   "id": "96d280a3",
   "metadata": {
    "execution": {
     "iopub.execute_input": "2025-07-28T11:06:55.832707Z",
     "iopub.status.busy": "2025-07-28T11:06:55.832157Z",
     "iopub.status.idle": "2025-07-28T11:06:55.840095Z",
     "shell.execute_reply": "2025-07-28T11:06:55.839174Z"
    },
    "papermill": {
     "duration": 0.071775,
     "end_time": "2025-07-28T11:06:55.841674",
     "exception": false,
     "start_time": "2025-07-28T11:06:55.769899",
     "status": "completed"
    },
    "tags": []
   },
   "outputs": [
    {
     "data": {
      "text/plain": [
       "4"
      ]
     },
     "execution_count": 70,
     "metadata": {},
     "output_type": "execute_result"
    }
   ],
   "source": [
    "sub_universes = universe_analysis.generate_sub_universes()\n",
    "len(sub_universes)"
   ]
  },
  {
   "cell_type": "code",
   "execution_count": 71,
   "id": "92adf7ba",
   "metadata": {
    "execution": {
     "iopub.execute_input": "2025-07-28T11:06:55.944121Z",
     "iopub.status.busy": "2025-07-28T11:06:55.943624Z",
     "iopub.status.idle": "2025-07-28T11:06:55.949947Z",
     "shell.execute_reply": "2025-07-28T11:06:55.948944Z"
    },
    "papermill": {
     "duration": 0.061213,
     "end_time": "2025-07-28T11:06:55.951850",
     "exception": false,
     "start_time": "2025-07-28T11:06:55.890637",
     "status": "completed"
    },
    "tags": []
   },
   "outputs": [],
   "source": [
    "def filter_sub_universe_data(sub_universe, org_test):\n",
    "    # Keep all rows — no filtering\n",
    "    keep_rows_mask = np.ones(org_test.shape[0], dtype=bool)\n",
    "\n",
    "    print(f\"[INFO] Keeping all rows: {keep_rows_mask.sum()} rows retained.\")\n",
    "    return keep_rows_mask"
   ]
  },
  {
   "cell_type": "code",
   "execution_count": 72,
   "id": "4a759155",
   "metadata": {
    "execution": {
     "iopub.execute_input": "2025-07-28T11:06:56.017717Z",
     "iopub.status.busy": "2025-07-28T11:06:56.016922Z",
     "iopub.status.idle": "2025-07-28T11:07:09.384205Z",
     "shell.execute_reply": "2025-07-28T11:07:09.383271Z"
    },
    "papermill": {
     "duration": 13.402688,
     "end_time": "2025-07-28T11:07:09.385969",
     "exception": false,
     "start_time": "2025-07-28T11:06:55.983281",
     "status": "completed"
    },
    "tags": []
   },
   "outputs": [
    {
     "name": "stdout",
     "output_type": "stream",
     "text": [
      "Stopping execution_time clock.\n",
      "[INFO] Keeping all rows: 89710 rows retained.\n"
     ]
    },
    {
     "name": "stdout",
     "output_type": "stream",
     "text": [
      "[INFO] Keeping all rows: 89710 rows retained.\n"
     ]
    },
    {
     "name": "stdout",
     "output_type": "stream",
     "text": [
      "[INFO] Keeping all rows: 89710 rows retained.\n"
     ]
    },
    {
     "name": "stdout",
     "output_type": "stream",
     "text": [
      "[INFO] Keeping all rows: 89710 rows retained.\n"
     ]
    },
    {
     "data": {
      "text/html": [
       "<div>\n",
       "<style scoped>\n",
       "    .dataframe tbody tr th:only-of-type {\n",
       "        vertical-align: middle;\n",
       "    }\n",
       "\n",
       "    .dataframe tbody tr th {\n",
       "        vertical-align: top;\n",
       "    }\n",
       "\n",
       "    .dataframe thead th {\n",
       "        text-align: right;\n",
       "    }\n",
       "</style>\n",
       "<table border=\"1\" class=\"dataframe\">\n",
       "  <thead>\n",
       "    <tr style=\"text-align: right;\">\n",
       "      <th></th>\n",
       "      <th>run_no</th>\n",
       "      <th>universe_id</th>\n",
       "      <th>universe_settings</th>\n",
       "      <th>execution_time</th>\n",
       "      <th>test_size_n</th>\n",
       "      <th>test_size_frac</th>\n",
       "      <th>fair_main_equalized_odds_difference</th>\n",
       "      <th>fair_main_equalized_odds_ratio</th>\n",
       "      <th>fair_main_demographic_parity_difference</th>\n",
       "      <th>fair_main_demographic_parity_ratio</th>\n",
       "      <th>...</th>\n",
       "      <th>perf_grp_precision_0</th>\n",
       "      <th>perf_grp_precision_1</th>\n",
       "      <th>perf_grp_false positive rate_0</th>\n",
       "      <th>perf_grp_false positive rate_1</th>\n",
       "      <th>perf_grp_false negative rate_0</th>\n",
       "      <th>perf_grp_false negative rate_1</th>\n",
       "      <th>perf_grp_selection rate_0</th>\n",
       "      <th>perf_grp_selection rate_1</th>\n",
       "      <th>perf_grp_count_0</th>\n",
       "      <th>perf_grp_count_1</th>\n",
       "    </tr>\n",
       "  </thead>\n",
       "  <tbody>\n",
       "    <tr>\n",
       "      <th>0</th>\n",
       "      <td>11</td>\n",
       "      <td>a59dd11aa57b37af8b4354fce4106422</td>\n",
       "      <td>{\"cutoff\": \"quantile_0.1\", \"eval_fairness_grou...</td>\n",
       "      <td>71.39961</td>\n",
       "      <td>89710</td>\n",
       "      <td>1.0</td>\n",
       "      <td>0.068954</td>\n",
       "      <td>0.925138</td>\n",
       "      <td>0.069056</td>\n",
       "      <td>0.925771</td>\n",
       "      <td>...</td>\n",
       "      <td>NaN</td>\n",
       "      <td>NaN</td>\n",
       "      <td>NaN</td>\n",
       "      <td>NaN</td>\n",
       "      <td>NaN</td>\n",
       "      <td>NaN</td>\n",
       "      <td>NaN</td>\n",
       "      <td>NaN</td>\n",
       "      <td>NaN</td>\n",
       "      <td>NaN</td>\n",
       "    </tr>\n",
       "    <tr>\n",
       "      <th>0</th>\n",
       "      <td>11</td>\n",
       "      <td>a59dd11aa57b37af8b4354fce4106422</td>\n",
       "      <td>{\"cutoff\": \"quantile_0.1\", \"eval_fairness_grou...</td>\n",
       "      <td>71.39961</td>\n",
       "      <td>89710</td>\n",
       "      <td>1.0</td>\n",
       "      <td>0.068954</td>\n",
       "      <td>0.925138</td>\n",
       "      <td>0.069056</td>\n",
       "      <td>0.925771</td>\n",
       "      <td>...</td>\n",
       "      <td>0.124647</td>\n",
       "      <td>0.140733</td>\n",
       "      <td>0.852135</td>\n",
       "      <td>0.921089</td>\n",
       "      <td>0.068834</td>\n",
       "      <td>0.009190</td>\n",
       "      <td>0.861246</td>\n",
       "      <td>0.930302</td>\n",
       "      <td>20540.0</td>\n",
       "      <td>69170.0</td>\n",
       "    </tr>\n",
       "    <tr>\n",
       "      <th>0</th>\n",
       "      <td>11</td>\n",
       "      <td>a59dd11aa57b37af8b4354fce4106422</td>\n",
       "      <td>{\"cutoff\": \"quantile_0.25\", \"eval_fairness_gro...</td>\n",
       "      <td>71.39961</td>\n",
       "      <td>89710</td>\n",
       "      <td>1.0</td>\n",
       "      <td>0.090809</td>\n",
       "      <td>0.904937</td>\n",
       "      <td>0.070211</td>\n",
       "      <td>0.909209</td>\n",
       "      <td>...</td>\n",
       "      <td>NaN</td>\n",
       "      <td>NaN</td>\n",
       "      <td>NaN</td>\n",
       "      <td>NaN</td>\n",
       "      <td>NaN</td>\n",
       "      <td>NaN</td>\n",
       "      <td>NaN</td>\n",
       "      <td>NaN</td>\n",
       "      <td>NaN</td>\n",
       "      <td>NaN</td>\n",
       "    </tr>\n",
       "    <tr>\n",
       "      <th>0</th>\n",
       "      <td>11</td>\n",
       "      <td>a59dd11aa57b37af8b4354fce4106422</td>\n",
       "      <td>{\"cutoff\": \"quantile_0.25\", \"eval_fairness_gro...</td>\n",
       "      <td>71.39961</td>\n",
       "      <td>89710</td>\n",
       "      <td>1.0</td>\n",
       "      <td>0.090809</td>\n",
       "      <td>0.904937</td>\n",
       "      <td>0.070211</td>\n",
       "      <td>0.909209</td>\n",
       "      <td>...</td>\n",
       "      <td>0.141739</td>\n",
       "      <td>0.163224</td>\n",
       "      <td>0.682093</td>\n",
       "      <td>0.745627</td>\n",
       "      <td>0.135557</td>\n",
       "      <td>0.044748</td>\n",
       "      <td>0.703116</td>\n",
       "      <td>0.773327</td>\n",
       "      <td>20540.0</td>\n",
       "      <td>69170.0</td>\n",
       "    </tr>\n",
       "  </tbody>\n",
       "</table>\n",
       "<p>4 rows × 50 columns</p>\n",
       "</div>"
      ],
      "text/plain": [
       "  run_no                       universe_id  \\\n",
       "0     11  a59dd11aa57b37af8b4354fce4106422   \n",
       "0     11  a59dd11aa57b37af8b4354fce4106422   \n",
       "0     11  a59dd11aa57b37af8b4354fce4106422   \n",
       "0     11  a59dd11aa57b37af8b4354fce4106422   \n",
       "\n",
       "                                   universe_settings  execution_time  \\\n",
       "0  {\"cutoff\": \"quantile_0.1\", \"eval_fairness_grou...        71.39961   \n",
       "0  {\"cutoff\": \"quantile_0.1\", \"eval_fairness_grou...        71.39961   \n",
       "0  {\"cutoff\": \"quantile_0.25\", \"eval_fairness_gro...        71.39961   \n",
       "0  {\"cutoff\": \"quantile_0.25\", \"eval_fairness_gro...        71.39961   \n",
       "\n",
       "   test_size_n  test_size_frac  fair_main_equalized_odds_difference  \\\n",
       "0        89710             1.0                             0.068954   \n",
       "0        89710             1.0                             0.068954   \n",
       "0        89710             1.0                             0.090809   \n",
       "0        89710             1.0                             0.090809   \n",
       "\n",
       "   fair_main_equalized_odds_ratio  fair_main_demographic_parity_difference  \\\n",
       "0                        0.925138                                 0.069056   \n",
       "0                        0.925138                                 0.069056   \n",
       "0                        0.904937                                 0.070211   \n",
       "0                        0.904937                                 0.070211   \n",
       "\n",
       "   fair_main_demographic_parity_ratio  ...  perf_grp_precision_0  \\\n",
       "0                            0.925771  ...                   NaN   \n",
       "0                            0.925771  ...              0.124647   \n",
       "0                            0.909209  ...                   NaN   \n",
       "0                            0.909209  ...              0.141739   \n",
       "\n",
       "   perf_grp_precision_1  perf_grp_false positive rate_0  \\\n",
       "0                   NaN                             NaN   \n",
       "0              0.140733                        0.852135   \n",
       "0                   NaN                             NaN   \n",
       "0              0.163224                        0.682093   \n",
       "\n",
       "   perf_grp_false positive rate_1  perf_grp_false negative rate_0  \\\n",
       "0                             NaN                             NaN   \n",
       "0                        0.921089                        0.068834   \n",
       "0                             NaN                             NaN   \n",
       "0                        0.745627                        0.135557   \n",
       "\n",
       "   perf_grp_false negative rate_1  perf_grp_selection rate_0  \\\n",
       "0                             NaN                        NaN   \n",
       "0                        0.009190                   0.861246   \n",
       "0                             NaN                        NaN   \n",
       "0                        0.044748                   0.703116   \n",
       "\n",
       "   perf_grp_selection rate_1  perf_grp_count_0  perf_grp_count_1  \n",
       "0                        NaN               NaN               NaN  \n",
       "0                   0.930302           20540.0           69170.0  \n",
       "0                        NaN               NaN               NaN  \n",
       "0                   0.773327           20540.0           69170.0  \n",
       "\n",
       "[4 rows x 50 columns]"
      ]
     },
     "execution_count": 72,
     "metadata": {},
     "output_type": "execute_result"
    }
   ],
   "source": [
    "final_output = universe_analysis.generate_final_output(\n",
    "    y_pred_prob=probs_test,\n",
    "    y_test=y_true,\n",
    "    org_test=org_test,\n",
    "    filter_data=filter_sub_universe_data,\n",
    "    cp_metrics_df=cp_metrics_df,\n",
    "    save=True,\n",
    ")\n",
    "final_output"
   ]
  },
  {
   "cell_type": "code",
   "execution_count": null,
   "id": "721ff514-cb11-46f8-b6fc-50392f74b5cb",
   "metadata": {
    "papermill": {
     "duration": 0.056024,
     "end_time": "2025-07-28T11:07:09.488199",
     "exception": false,
     "start_time": "2025-07-28T11:07:09.432175",
     "status": "completed"
    },
    "tags": []
   },
   "outputs": [],
   "source": []
  }
 ],
 "metadata": {
  "celltoolbar": "Tags",
  "kernelspec": {
   "display_name": "Python (CMA Fairness)",
   "language": "python",
   "name": "cma_fair_env"
  },
  "language_info": {
   "codemirror_mode": {
    "name": "ipython",
    "version": 3
   },
   "file_extension": ".py",
   "mimetype": "text/x-python",
   "name": "python",
   "nbconvert_exporter": "python",
   "pygments_lexer": "ipython3",
   "version": "3.10.12"
  },
  "papermill": {
   "default_parameters": {},
   "duration": 91.891016,
   "end_time": "2025-07-28T11:07:10.657221",
   "environment_variables": {},
   "exception": null,
   "input_path": "universe_analysis.ipynb",
   "output_path": "output/runs/11/notebooks/m_11-a59dd11aa57b37af8b4354fce4106422.ipynb",
   "parameters": {
    "output_dir": "output",
    "run_no": "11",
    "seed": "2023",
    "universe": "{\"cutoff\": [\"quantile_0.1\", \"quantile_0.25\"], \"eval_fairness_grouping\": [\"majority-minority\", \"nationality-all\"], \"exclude_features\": \"sex\", \"exclude_subgroups\": \"keep-all\", \"model\": \"rf\", \"scale\": \"do-not-scale\", \"training_size\": \"2014\"}",
    "universe_id": "a59dd11aa57b37af8b4354fce4106422"
   },
   "start_time": "2025-07-28T11:05:38.766205",
   "version": "2.6.0"
  }
 },
 "nbformat": 4,
 "nbformat_minor": 5
}