{
 "cells": [
  {
   "cell_type": "code",
   "execution_count": 1,
   "id": "f159f837-637b-42ba-96b5-ec9a68c44524",
   "metadata": {
    "execution": {
     "iopub.execute_input": "2025-07-28T11:03:27.813312Z",
     "iopub.status.busy": "2025-07-28T11:03:27.812370Z",
     "iopub.status.idle": "2025-07-28T11:03:27.827604Z",
     "shell.execute_reply": "2025-07-28T11:03:27.826474Z"
    },
    "papermill": {
     "duration": 0.039497,
     "end_time": "2025-07-28T11:03:27.829881",
     "exception": false,
     "start_time": "2025-07-28T11:03:27.790384",
     "status": "completed"
    },
    "tags": []
   },
   "outputs": [
    {
     "name": "stdout",
     "output_type": "stream",
     "text": [
      "/dss/dsshome1/0C/ra93lal2/cma/CMA_Fairness_v2\n"
     ]
    },
    {
     "name": "stderr",
     "output_type": "stream",
     "text": [
      "/dss/dsshome1/0C/ra93lal2/.local/share/virtualenvs/CMA_Fairness_v2-3j10GkSs/lib/python3.10/site-packages/IPython/core/magics/osm.py:393: UserWarning: This is now an optional IPython functionality, using bookmarks requires you to install the `pickleshare` library.\n",
      "  bkms = self.shell.db.get('bookmarks', {})\n",
      "/dss/dsshome1/0C/ra93lal2/.local/share/virtualenvs/CMA_Fairness_v2-3j10GkSs/lib/python3.10/site-packages/IPython/core/magics/osm.py:417: UserWarning: This is now an optional IPython functionality, setting dhist requires you to install the `pickleshare` library.\n",
      "  self.shell.db['dhist'] = compress_dhist(dhist)[-100:]\n"
     ]
    }
   ],
   "source": [
    "%cd ~/cma/CMA_Fairness_v2"
   ]
  },
  {
   "cell_type": "markdown",
   "id": "de2603b9",
   "metadata": {
    "papermill": {
     "duration": 0.026072,
     "end_time": "2025-07-28T11:03:27.881918",
     "exception": false,
     "start_time": "2025-07-28T11:03:27.855846",
     "status": "completed"
    },
    "tags": []
   },
   "source": [
    "The following cell holds the definition of our parameters, these values can be overriden by rendering the with e.g. the following command:\n",
    "\n",
    "papermill -p alpha 0.2 -p ratio 0.3 universe_analysis.ipynb output/test_run.ipynb"
   ]
  },
  {
   "cell_type": "code",
   "execution_count": 2,
   "id": "a80968a0-40bb-4fa9-85ef-2d5eefb01975",
   "metadata": {
    "execution": {
     "iopub.execute_input": "2025-07-28T11:03:27.930520Z",
     "iopub.status.busy": "2025-07-28T11:03:27.929798Z",
     "iopub.status.idle": "2025-07-28T11:03:27.935537Z",
     "shell.execute_reply": "2025-07-28T11:03:27.934547Z"
    },
    "papermill": {
     "duration": 0.028219,
     "end_time": "2025-07-28T11:03:27.937236",
     "exception": false,
     "start_time": "2025-07-28T11:03:27.909017",
     "status": "completed"
    },
    "tags": []
   },
   "outputs": [
    {
     "name": "stdout",
     "output_type": "stream",
     "text": [
      "Current working directory: /dss/dsshome1/0C/ra93lal2/cma/CMA_Fairness_v2\n"
     ]
    }
   ],
   "source": [
    "import os\n",
    "print(\"Current working directory:\", os.getcwd())"
   ]
  },
  {
   "cell_type": "code",
   "execution_count": 3,
   "id": "2dce4c03",
   "metadata": {
    "execution": {
     "iopub.execute_input": "2025-07-28T11:03:27.967658Z",
     "iopub.status.busy": "2025-07-28T11:03:27.967029Z",
     "iopub.status.idle": "2025-07-28T11:03:27.973526Z",
     "shell.execute_reply": "2025-07-28T11:03:27.972740Z"
    },
    "papermill": {
     "duration": 0.019382,
     "end_time": "2025-07-28T11:03:27.975056",
     "exception": false,
     "start_time": "2025-07-28T11:03:27.955674",
     "status": "completed"
    },
    "tags": [
     "parameters"
    ]
   },
   "outputs": [],
   "source": [
    "run_no = 0\n",
    "universe_id = \"test\"\n",
    "universe = {\n",
    "    \"training_size\": \"2014\", # \"25k\", \"5k\", \"1k\", \"2014\"\n",
    "    \"scale\": \"scale\", # \"scale\", \"do-not-scale\",\n",
    "    #\"stratify_split\": \"target\", # \"none\", \"target\", \"protected-attribute\", \"both\",\n",
    "    \"model\": \"elasticnet\", # \"logreg\", \"penalized_logreg\", \"rf\", \"gbm\", \"elasticnet\"\n",
    "    \"cutoff\": [\"quantile_0.15\", \"quantile_0.30\"],\n",
    "    \"exclude_features\": \"age\", # \"none\", \"nationality\", \"sex\", \"nationality-sex\", \"age\"\n",
    "    \"exclude_subgroups\": \"keep-all\", # \"keep-all\", \"drop-non-german\"\n",
    "    \"eval_fairness_grouping\": [\"majority-minority\", \"nationality-all\"]\n",
    "}\n",
    "\n",
    "output_dir=\"./output\"\n",
    "seed=0"
   ]
  },
  {
   "cell_type": "code",
   "execution_count": 4,
   "id": "0c981dae",
   "metadata": {
    "execution": {
     "iopub.execute_input": "2025-07-28T11:03:28.017515Z",
     "iopub.status.busy": "2025-07-28T11:03:28.016695Z",
     "iopub.status.idle": "2025-07-28T11:03:28.022132Z",
     "shell.execute_reply": "2025-07-28T11:03:28.021171Z"
    },
    "papermill": {
     "duration": 0.028239,
     "end_time": "2025-07-28T11:03:28.023860",
     "exception": false,
     "start_time": "2025-07-28T11:03:27.995621",
     "status": "completed"
    },
    "tags": [
     "injected-parameters"
    ]
   },
   "outputs": [],
   "source": [
    "# Parameters\n",
    "universe_id = \"247e61d34f5ed0eb37f0f301fb56c1f9\"\n",
    "run_no = \"11\"\n",
    "universe = \"{\\\"cutoff\\\": [\\\"quantile_0.1\\\", \\\"quantile_0.25\\\"], \\\"eval_fairness_grouping\\\": [\\\"majority-minority\\\", \\\"nationality-all\\\"], \\\"exclude_features\\\": \\\"nationality-sex\\\", \\\"exclude_subgroups\\\": \\\"keep-all\\\", \\\"model\\\": \\\"logreg\\\", \\\"scale\\\": \\\"do-not-scale\\\", \\\"training_size\\\": \\\"2014\\\"}\"\n",
    "output_dir = \"output\"\n",
    "seed = \"2023\"\n"
   ]
  },
  {
   "cell_type": "code",
   "execution_count": 5,
   "id": "1650acaf",
   "metadata": {
    "execution": {
     "iopub.execute_input": "2025-07-28T11:03:28.047345Z",
     "iopub.status.busy": "2025-07-28T11:03:28.046995Z",
     "iopub.status.idle": "2025-07-28T11:03:28.051608Z",
     "shell.execute_reply": "2025-07-28T11:03:28.050903Z"
    },
    "papermill": {
     "duration": 0.01722,
     "end_time": "2025-07-28T11:03:28.052965",
     "exception": false,
     "start_time": "2025-07-28T11:03:28.035745",
     "status": "completed"
    },
    "tags": []
   },
   "outputs": [],
   "source": [
    "import json\n",
    "# Parse universe into dict if it is passed as a string\n",
    "if isinstance(universe, str):\n",
    "    universe = json.loads(universe)"
   ]
  },
  {
   "cell_type": "code",
   "execution_count": 6,
   "id": "16620c48",
   "metadata": {
    "execution": {
     "iopub.execute_input": "2025-07-28T11:03:28.074867Z",
     "iopub.status.busy": "2025-07-28T11:03:28.074514Z",
     "iopub.status.idle": "2025-07-28T11:03:28.219579Z",
     "shell.execute_reply": "2025-07-28T11:03:28.218780Z"
    },
    "papermill": {
     "duration": 0.157862,
     "end_time": "2025-07-28T11:03:28.221309",
     "exception": false,
     "start_time": "2025-07-28T11:03:28.063447",
     "status": "completed"
    },
    "tags": []
   },
   "outputs": [],
   "source": [
    "# Auto-reload the custom package\n",
    "%load_ext autoreload\n",
    "%autoreload 1\n",
    "%aimport fairness_multiverse"
   ]
  },
  {
   "cell_type": "code",
   "execution_count": 7,
   "id": "01c5c9f3",
   "metadata": {
    "execution": {
     "iopub.execute_input": "2025-07-28T11:03:28.244223Z",
     "iopub.status.busy": "2025-07-28T11:03:28.243752Z",
     "iopub.status.idle": "2025-07-28T11:03:30.228647Z",
     "shell.execute_reply": "2025-07-28T11:03:30.227775Z"
    },
    "papermill": {
     "duration": 1.998414,
     "end_time": "2025-07-28T11:03:30.230210",
     "exception": false,
     "start_time": "2025-07-28T11:03:28.231796",
     "status": "completed"
    },
    "tags": []
   },
   "outputs": [],
   "source": [
    "from fairness_multiverse.universe import UniverseAnalysis\n",
    "\n",
    "universe_analysis = UniverseAnalysis(\n",
    "    run_no = run_no,\n",
    "    universe_id = universe_id,\n",
    "    universe = universe,\n",
    "    output_dir=output_dir,\n",
    ")"
   ]
  },
  {
   "cell_type": "code",
   "execution_count": 8,
   "id": "106241f5",
   "metadata": {
    "execution": {
     "iopub.execute_input": "2025-07-28T11:03:30.252146Z",
     "iopub.status.busy": "2025-07-28T11:03:30.251732Z",
     "iopub.status.idle": "2025-07-28T11:03:30.257545Z",
     "shell.execute_reply": "2025-07-28T11:03:30.256574Z"
    },
    "papermill": {
     "duration": 0.01858,
     "end_time": "2025-07-28T11:03:30.259305",
     "exception": false,
     "start_time": "2025-07-28T11:03:30.240725",
     "status": "completed"
    },
    "tags": []
   },
   "outputs": [
    {
     "name": "stdout",
     "output_type": "stream",
     "text": [
      "Using Seed: 2023\n"
     ]
    }
   ],
   "source": [
    "import numpy as np\n",
    "parsed_seed = int(seed)\n",
    "np.random.seed(parsed_seed)\n",
    "print(f\"Using Seed: {parsed_seed}\")"
   ]
  },
  {
   "cell_type": "markdown",
   "id": "e0ebdc57",
   "metadata": {
    "papermill": {
     "duration": 0.010276,
     "end_time": "2025-07-28T11:03:30.280666",
     "exception": false,
     "start_time": "2025-07-28T11:03:30.270390",
     "status": "completed"
    },
    "tags": []
   },
   "source": [
    "# Loading Data"
   ]
  },
  {
   "cell_type": "markdown",
   "id": "681925a3",
   "metadata": {
    "papermill": {
     "duration": 0.010479,
     "end_time": "2025-07-28T11:03:30.301134",
     "exception": false,
     "start_time": "2025-07-28T11:03:30.290655",
     "status": "completed"
    },
    "tags": []
   },
   "source": [
    "Load siab_train, siab_test, siab_calib and/or \n",
    "load siab_train_features, siab_train_labels"
   ]
  },
  {
   "cell_type": "code",
   "execution_count": 9,
   "id": "f0496b8a",
   "metadata": {
    "execution": {
     "iopub.execute_input": "2025-07-28T11:03:30.339390Z",
     "iopub.status.busy": "2025-07-28T11:03:30.338892Z",
     "iopub.status.idle": "2025-07-28T11:03:43.071046Z",
     "shell.execute_reply": "2025-07-28T11:03:43.069606Z"
    },
    "papermill": {
     "duration": 12.753865,
     "end_time": "2025-07-28T11:03:43.072931",
     "exception": false,
     "start_time": "2025-07-28T11:03:30.319066",
     "status": "completed"
    },
    "tags": []
   },
   "outputs": [
    {
     "name": "stdout",
     "output_type": "stream",
     "text": [
      "Loading SIAB data from cache: data/siab_cached.csv.gz\n"
     ]
    },
    {
     "name": "stdout",
     "output_type": "stream",
     "text": [
      "(643690, 164)\n"
     ]
    }
   ],
   "source": [
    "from pathlib import Path\n",
    "import pandas as pd\n",
    "\n",
    "# File paths\n",
    "raw_file = Path(\"data/raw/siab.csv\")\n",
    "cache_file = Path(\"data/siab_cached.csv.gz\")\n",
    "\n",
    "# Ensure cache directory exists\n",
    "cache_file.parent.mkdir(parents=True, exist_ok=True)\n",
    "\n",
    "# Load with simple caching\n",
    "if cache_file.exists():\n",
    "    print(f\"Loading SIAB data from cache: {cache_file}\")\n",
    "    siab = pd.read_csv(cache_file, compression='gzip')\n",
    "else:\n",
    "    print(f\"Cache not found. Reading raw SIAB data: {raw_file}\")\n",
    "    siab = pd.read_csv(raw_file)\n",
    "    siab.to_csv(cache_file, index=False, compression='gzip')\n",
    "    print(f\"Cached SIAB data to: {cache_file}\")\n",
    "\n",
    "# Now use `siab` DataFrame as needed\n",
    "print(siab.shape)"
   ]
  },
  {
   "cell_type": "code",
   "execution_count": 10,
   "id": "db0ca512-5f53-4dba-abdb-a2888bca41ba",
   "metadata": {
    "execution": {
     "iopub.execute_input": "2025-07-28T11:03:43.121560Z",
     "iopub.status.busy": "2025-07-28T11:03:43.121066Z",
     "iopub.status.idle": "2025-07-28T11:03:43.127370Z",
     "shell.execute_reply": "2025-07-28T11:03:43.126362Z"
    },
    "papermill": {
     "duration": 0.033188,
     "end_time": "2025-07-28T11:03:43.129191",
     "exception": false,
     "start_time": "2025-07-28T11:03:43.096003",
     "status": "completed"
    },
    "tags": []
   },
   "outputs": [],
   "source": [
    "#siab"
   ]
  },
  {
   "cell_type": "code",
   "execution_count": 11,
   "id": "a0edb063",
   "metadata": {
    "execution": {
     "iopub.execute_input": "2025-07-28T11:03:43.171657Z",
     "iopub.status.busy": "2025-07-28T11:03:43.171187Z",
     "iopub.status.idle": "2025-07-28T11:03:43.176918Z",
     "shell.execute_reply": "2025-07-28T11:03:43.175826Z"
    },
    "papermill": {
     "duration": 0.029632,
     "end_time": "2025-07-28T11:03:43.178866",
     "exception": false,
     "start_time": "2025-07-28T11:03:43.149234",
     "status": "completed"
    },
    "tags": []
   },
   "outputs": [],
   "source": [
    "#import pandas as pd\n",
    "#\n",
    "#X_train = pd.read_csv(\"./data/X_train.csv\")\n",
    "#y_train = pd.read_csv(\"./data/y_train.csv\")"
   ]
  },
  {
   "cell_type": "code",
   "execution_count": 12,
   "id": "63d08085",
   "metadata": {
    "execution": {
     "iopub.execute_input": "2025-07-28T11:03:43.222176Z",
     "iopub.status.busy": "2025-07-28T11:03:43.221168Z",
     "iopub.status.idle": "2025-07-28T11:03:43.226304Z",
     "shell.execute_reply": "2025-07-28T11:03:43.225238Z"
    },
    "papermill": {
     "duration": 0.028374,
     "end_time": "2025-07-28T11:03:43.228085",
     "exception": false,
     "start_time": "2025-07-28T11:03:43.199711",
     "status": "completed"
    },
    "tags": []
   },
   "outputs": [],
   "source": [
    "#X_test = pd.read_csv(\"./data/X_test.csv\")\n",
    "#y_true = pd.read_csv(\"./data/y_test.csv\")"
   ]
  },
  {
   "cell_type": "code",
   "execution_count": 13,
   "id": "98a8d0fa-1d3d-4ed8-bb2c-281470e24add",
   "metadata": {
    "execution": {
     "iopub.execute_input": "2025-07-28T11:03:43.271377Z",
     "iopub.status.busy": "2025-07-28T11:03:43.270800Z",
     "iopub.status.idle": "2025-07-28T11:03:43.275909Z",
     "shell.execute_reply": "2025-07-28T11:03:43.274798Z"
    },
    "papermill": {
     "duration": 0.027774,
     "end_time": "2025-07-28T11:03:43.277429",
     "exception": false,
     "start_time": "2025-07-28T11:03:43.249655",
     "status": "completed"
    },
    "tags": []
   },
   "outputs": [],
   "source": [
    "# Calibration data for conformal\n",
    "#X_calib = pd.read_csv(\"./data/X_calib.csv\")\n",
    "#y_calib = pd.read_csv(\"./data/y_calib.csv\")"
   ]
  },
  {
   "cell_type": "markdown",
   "id": "9901737e-04df-44f0-9100-f5ad144ed040",
   "metadata": {
    "papermill": {
     "duration": 0.029453,
     "end_time": "2025-07-28T11:03:43.326028",
     "exception": false,
     "start_time": "2025-07-28T11:03:43.296575",
     "status": "completed"
    },
    "tags": []
   },
   "source": [
    "# Splitting Data and Setting Training Data Size"
   ]
  },
  {
   "cell_type": "code",
   "execution_count": 14,
   "id": "acbc8f7d-8fc8-4e86-8c59-5dcb0f58384b",
   "metadata": {
    "execution": {
     "iopub.execute_input": "2025-07-28T11:03:43.370792Z",
     "iopub.status.busy": "2025-07-28T11:03:43.370314Z",
     "iopub.status.idle": "2025-07-28T11:03:43.378755Z",
     "shell.execute_reply": "2025-07-28T11:03:43.377796Z"
    },
    "papermill": {
     "duration": 0.032696,
     "end_time": "2025-07-28T11:03:43.380511",
     "exception": false,
     "start_time": "2025-07-28T11:03:43.347815",
     "status": "completed"
    },
    "tags": []
   },
   "outputs": [],
   "source": [
    "def sample_by_year(df, training_size, random_state=42):\n",
    "    if training_size == \"2014\":\n",
    "        return df[df[\"year\"] == 2014].reset_index(drop=True)\n",
    "    \n",
    "    size_map = {\n",
    "        \"25k\": 5000,\n",
    "        \"5k\": 1000,\n",
    "        \"1k\": 200\n",
    "    }\n",
    "\n",
    "    if training_size not in size_map:\n",
    "        return df.reset_index(drop=True)  # use all data\n",
    "\n",
    "    n_per_year = size_map[training_size]\n",
    "    grouped = df.groupby(\"year\")\n",
    "    sampled = grouped.apply(lambda x: x.sample(n=min(n_per_year, len(x)), random_state=random_state))\n",
    "    return sampled.reset_index(drop=True)"
   ]
  },
  {
   "cell_type": "code",
   "execution_count": 15,
   "id": "6d931f52-beaf-43ff-9e78-9d44a448d54e",
   "metadata": {
    "execution": {
     "iopub.execute_input": "2025-07-28T11:03:43.425935Z",
     "iopub.status.busy": "2025-07-28T11:03:43.425326Z",
     "iopub.status.idle": "2025-07-28T11:03:43.581964Z",
     "shell.execute_reply": "2025-07-28T11:03:43.581009Z"
    },
    "papermill": {
     "duration": 0.183272,
     "end_time": "2025-07-28T11:03:43.584405",
     "exception": false,
     "start_time": "2025-07-28T11:03:43.401133",
     "status": "completed"
    },
    "tags": []
   },
   "outputs": [],
   "source": [
    "siab_s = sample_by_year(siab, universe[\"training_size\"])"
   ]
  },
  {
   "cell_type": "code",
   "execution_count": 16,
   "id": "5db0a40e-a4e2-4920-be85-b12ae061d70d",
   "metadata": {
    "execution": {
     "iopub.execute_input": "2025-07-28T11:03:43.633271Z",
     "iopub.status.busy": "2025-07-28T11:03:43.632750Z",
     "iopub.status.idle": "2025-07-28T11:03:43.648178Z",
     "shell.execute_reply": "2025-07-28T11:03:43.647138Z"
    },
    "papermill": {
     "duration": 0.038958,
     "end_time": "2025-07-28T11:03:43.650010",
     "exception": false,
     "start_time": "2025-07-28T11:03:43.611052",
     "status": "completed"
    },
    "tags": []
   },
   "outputs": [
    {
     "data": {
      "text/plain": [
       "year\n",
       "2014    87158\n",
       "dtype: int64"
      ]
     },
     "metadata": {},
     "output_type": "display_data"
    }
   ],
   "source": [
    "display(siab_s.groupby(\"year\").size())"
   ]
  },
  {
   "cell_type": "code",
   "execution_count": 17,
   "id": "a561edb4-d032-42cb-8256-22eac1111c64",
   "metadata": {
    "execution": {
     "iopub.execute_input": "2025-07-28T11:03:43.696206Z",
     "iopub.status.busy": "2025-07-28T11:03:43.695203Z",
     "iopub.status.idle": "2025-07-28T11:03:43.989672Z",
     "shell.execute_reply": "2025-07-28T11:03:43.988645Z"
    },
    "papermill": {
     "duration": 0.319366,
     "end_time": "2025-07-28T11:03:43.991786",
     "exception": false,
     "start_time": "2025-07-28T11:03:43.672420",
     "status": "completed"
    },
    "tags": []
   },
   "outputs": [],
   "source": [
    "siab_train = siab_s[siab_s.year < 2015]\n",
    "siab_calib = siab[siab.year == 2015]\n",
    "siab_test = siab[siab.year == 2016]"
   ]
  },
  {
   "cell_type": "code",
   "execution_count": 18,
   "id": "472de16f-c3db-4916-846b-1f0de9cf1746",
   "metadata": {
    "execution": {
     "iopub.execute_input": "2025-07-28T11:03:44.041427Z",
     "iopub.status.busy": "2025-07-28T11:03:44.040897Z",
     "iopub.status.idle": "2025-07-28T11:03:44.092905Z",
     "shell.execute_reply": "2025-07-28T11:03:44.091847Z"
    },
    "papermill": {
     "duration": 0.077455,
     "end_time": "2025-07-28T11:03:44.094949",
     "exception": false,
     "start_time": "2025-07-28T11:03:44.017494",
     "status": "completed"
    },
    "tags": []
   },
   "outputs": [],
   "source": [
    "X_train = siab_train.iloc[:,4:164]\n",
    "y_train = siab_train.iloc[:, [3]]"
   ]
  },
  {
   "cell_type": "code",
   "execution_count": 19,
   "id": "828c96af-f43a-4ed6-ba47-8ac73a47d56c",
   "metadata": {
    "execution": {
     "iopub.execute_input": "2025-07-28T11:03:44.156283Z",
     "iopub.status.busy": "2025-07-28T11:03:44.155755Z",
     "iopub.status.idle": "2025-07-28T11:03:44.234969Z",
     "shell.execute_reply": "2025-07-28T11:03:44.233865Z"
    },
    "papermill": {
     "duration": 0.103836,
     "end_time": "2025-07-28T11:03:44.236993",
     "exception": false,
     "start_time": "2025-07-28T11:03:44.133157",
     "status": "completed"
    },
    "tags": []
   },
   "outputs": [],
   "source": [
    "X_calib = siab_calib.iloc[:,4:164]\n",
    "y_calib = siab_calib.iloc[:, [3]]"
   ]
  },
  {
   "cell_type": "code",
   "execution_count": 20,
   "id": "c34be9c3-6bd6-476e-acd3-845840e303be",
   "metadata": {
    "execution": {
     "iopub.execute_input": "2025-07-28T11:03:44.277644Z",
     "iopub.status.busy": "2025-07-28T11:03:44.276755Z",
     "iopub.status.idle": "2025-07-28T11:03:44.339207Z",
     "shell.execute_reply": "2025-07-28T11:03:44.337967Z"
    },
    "papermill": {
     "duration": 0.084757,
     "end_time": "2025-07-28T11:03:44.341189",
     "exception": false,
     "start_time": "2025-07-28T11:03:44.256432",
     "status": "completed"
    },
    "tags": []
   },
   "outputs": [],
   "source": [
    "X_test = siab_test.iloc[:,4:164]\n",
    "y_true = siab_test.iloc[:, [3]]"
   ]
  },
  {
   "cell_type": "code",
   "execution_count": 21,
   "id": "e6c733c5",
   "metadata": {
    "execution": {
     "iopub.execute_input": "2025-07-28T11:03:44.386104Z",
     "iopub.status.busy": "2025-07-28T11:03:44.385129Z",
     "iopub.status.idle": "2025-07-28T11:03:44.545862Z",
     "shell.execute_reply": "2025-07-28T11:03:44.544451Z"
    },
    "papermill": {
     "duration": 0.183687,
     "end_time": "2025-07-28T11:03:44.548039",
     "exception": false,
     "start_time": "2025-07-28T11:03:44.364352",
     "status": "completed"
    },
    "tags": []
   },
   "outputs": [],
   "source": [
    "# Auxiliary data needed downstream in the pipeline\n",
    "\n",
    "org_train = X_train.copy()\n",
    "org_test = X_test.copy()\n",
    "org_calib = X_calib.copy()"
   ]
  },
  {
   "cell_type": "markdown",
   "id": "0a4a1b33",
   "metadata": {
    "papermill": {
     "duration": 0.023681,
     "end_time": "2025-07-28T11:03:44.596268",
     "exception": false,
     "start_time": "2025-07-28T11:03:44.572587",
     "status": "completed"
    },
    "tags": []
   },
   "source": [
    "# Preprocessing Data"
   ]
  },
  {
   "cell_type": "code",
   "execution_count": 22,
   "id": "ca879031",
   "metadata": {
    "execution": {
     "iopub.execute_input": "2025-07-28T11:03:44.646240Z",
     "iopub.status.busy": "2025-07-28T11:03:44.645166Z",
     "iopub.status.idle": "2025-07-28T11:03:44.652487Z",
     "shell.execute_reply": "2025-07-28T11:03:44.651283Z"
    },
    "papermill": {
     "duration": 0.034398,
     "end_time": "2025-07-28T11:03:44.654453",
     "exception": false,
     "start_time": "2025-07-28T11:03:44.620055",
     "status": "completed"
    },
    "tags": []
   },
   "outputs": [],
   "source": [
    "# EXCLUDE PROTECTED FEATURES\n",
    "# ----------------------\n",
    "# \"exclude_features\": \"none\", # \"nationality\", \"sex\", \"nationality-sex\"\n",
    "\n",
    "excluded_features = universe[\"exclude_features\"].split(\"-\") # split, e.g.: \"nationality-sex\" -> [\"nationality\", \"sex\"]\n",
    "excluded_features_dictionary = {\n",
    "    \"nationality\": [\"maxdeutsch1\", \"maxdeutsch.Missing.\"],\n",
    "    \"sex\": [\"frau1\"],\n",
    "    \"age\": [\"age\"],\n",
    "}\n"
   ]
  },
  {
   "cell_type": "code",
   "execution_count": 23,
   "id": "b745ac60",
   "metadata": {
    "execution": {
     "iopub.execute_input": "2025-07-28T11:03:44.705642Z",
     "iopub.status.busy": "2025-07-28T11:03:44.704772Z",
     "iopub.status.idle": "2025-07-28T11:03:44.711760Z",
     "shell.execute_reply": "2025-07-28T11:03:44.710737Z"
    },
    "papermill": {
     "duration": 0.034836,
     "end_time": "2025-07-28T11:03:44.713717",
     "exception": false,
     "start_time": "2025-07-28T11:03:44.678881",
     "status": "completed"
    },
    "tags": []
   },
   "outputs": [],
   "source": [
    "# Code nice names to column names\n",
    "\n",
    "excluded_features_columns = [\n",
    "    excluded_features_dictionary[f] for f in excluded_features if len(f) > 0 and f != \"none\"\n",
    "]"
   ]
  },
  {
   "cell_type": "code",
   "execution_count": 24,
   "id": "f84f73a2",
   "metadata": {
    "execution": {
     "iopub.execute_input": "2025-07-28T11:03:44.765098Z",
     "iopub.status.busy": "2025-07-28T11:03:44.764386Z",
     "iopub.status.idle": "2025-07-28T11:03:44.772536Z",
     "shell.execute_reply": "2025-07-28T11:03:44.771327Z"
    },
    "papermill": {
     "duration": 0.036182,
     "end_time": "2025-07-28T11:03:44.774544",
     "exception": false,
     "start_time": "2025-07-28T11:03:44.738362",
     "status": "completed"
    },
    "tags": []
   },
   "outputs": [],
   "source": [
    "from utils import flatten_once\n",
    "\n",
    "excluded_features_columns = flatten_once(excluded_features_columns)"
   ]
  },
  {
   "cell_type": "code",
   "execution_count": 25,
   "id": "884dea22",
   "metadata": {
    "execution": {
     "iopub.execute_input": "2025-07-28T11:03:44.825811Z",
     "iopub.status.busy": "2025-07-28T11:03:44.825123Z",
     "iopub.status.idle": "2025-07-28T11:03:44.886614Z",
     "shell.execute_reply": "2025-07-28T11:03:44.885356Z"
    },
    "papermill": {
     "duration": 0.089689,
     "end_time": "2025-07-28T11:03:44.888930",
     "exception": false,
     "start_time": "2025-07-28T11:03:44.799241",
     "status": "completed"
    },
    "tags": []
   },
   "outputs": [
    {
     "name": "stdout",
     "output_type": "stream",
     "text": [
      "Dropping features: ['maxdeutsch1', 'maxdeutsch.Missing.', 'frau1']\n"
     ]
    }
   ],
   "source": [
    "if len(excluded_features_columns) > 0:\n",
    "    print(f\"Dropping features: {excluded_features_columns}\")\n",
    "    X_train.drop(excluded_features_columns, axis=1, inplace=True)"
   ]
  },
  {
   "cell_type": "code",
   "execution_count": 26,
   "id": "95ab8b16",
   "metadata": {
    "execution": {
     "iopub.execute_input": "2025-07-28T11:03:44.943347Z",
     "iopub.status.busy": "2025-07-28T11:03:44.942862Z",
     "iopub.status.idle": "2025-07-28T11:03:45.002266Z",
     "shell.execute_reply": "2025-07-28T11:03:45.001066Z"
    },
    "papermill": {
     "duration": 0.089195,
     "end_time": "2025-07-28T11:03:45.004486",
     "exception": false,
     "start_time": "2025-07-28T11:03:44.915291",
     "status": "completed"
    },
    "tags": []
   },
   "outputs": [
    {
     "name": "stdout",
     "output_type": "stream",
     "text": [
      "Dropping features: ['maxdeutsch1', 'maxdeutsch.Missing.', 'frau1']\n"
     ]
    }
   ],
   "source": [
    "if len(excluded_features_columns) > 0:\n",
    "    print(f\"Dropping features: {excluded_features_columns}\")\n",
    "    X_test.drop(excluded_features_columns, axis=1, inplace=True)"
   ]
  },
  {
   "cell_type": "code",
   "execution_count": 27,
   "id": "1853aaf5-fb9f-46cb-a2b5-8ea4ae2237e4",
   "metadata": {
    "execution": {
     "iopub.execute_input": "2025-07-28T11:03:45.057414Z",
     "iopub.status.busy": "2025-07-28T11:03:45.056574Z",
     "iopub.status.idle": "2025-07-28T11:03:45.123863Z",
     "shell.execute_reply": "2025-07-28T11:03:45.122712Z"
    },
    "papermill": {
     "duration": 0.096075,
     "end_time": "2025-07-28T11:03:45.126121",
     "exception": false,
     "start_time": "2025-07-28T11:03:45.030046",
     "status": "completed"
    },
    "tags": []
   },
   "outputs": [
    {
     "name": "stdout",
     "output_type": "stream",
     "text": [
      "Dropping features: ['maxdeutsch1', 'maxdeutsch.Missing.', 'frau1']\n"
     ]
    }
   ],
   "source": [
    "if len(excluded_features_columns) > 0:\n",
    "    print(f\"Dropping features: {excluded_features_columns}\")\n",
    "    X_calib.drop(excluded_features_columns, axis=1, inplace=True)"
   ]
  },
  {
   "cell_type": "code",
   "execution_count": 28,
   "id": "6727d079-03e5-481e-9d38-292a90b7a0a8",
   "metadata": {
    "execution": {
     "iopub.execute_input": "2025-07-28T11:03:45.179955Z",
     "iopub.status.busy": "2025-07-28T11:03:45.179267Z",
     "iopub.status.idle": "2025-07-28T11:03:45.185180Z",
     "shell.execute_reply": "2025-07-28T11:03:45.183776Z"
    },
    "papermill": {
     "duration": 0.035328,
     "end_time": "2025-07-28T11:03:45.187729",
     "exception": false,
     "start_time": "2025-07-28T11:03:45.152401",
     "status": "completed"
    },
    "tags": []
   },
   "outputs": [],
   "source": [
    "# SPLIT & STRATIFY DATA\n",
    "# ----------------------"
   ]
  },
  {
   "cell_type": "code",
   "execution_count": 29,
   "id": "76c4dc6d",
   "metadata": {
    "execution": {
     "iopub.execute_input": "2025-07-28T11:03:45.241542Z",
     "iopub.status.busy": "2025-07-28T11:03:45.240914Z",
     "iopub.status.idle": "2025-07-28T11:03:45.247644Z",
     "shell.execute_reply": "2025-07-28T11:03:45.246597Z"
    },
    "papermill": {
     "duration": 0.035671,
     "end_time": "2025-07-28T11:03:45.249446",
     "exception": false,
     "start_time": "2025-07-28T11:03:45.213775",
     "status": "completed"
    },
    "tags": []
   },
   "outputs": [],
   "source": [
    "# EXCLUDE CERTAIN SUBGROUPS\n",
    "# ----------------------\n",
    "\n",
    "mode = universe.get(\"exclude_subgroups\", \"keep-all\") \n",
    "# Fetches the exclude_subgroups setting from the universe dict.\n",
    "# Defaults to \"keep-all\" if the key is missing."
   ]
  },
  {
   "cell_type": "code",
   "execution_count": 30,
   "id": "21994072",
   "metadata": {
    "execution": {
     "iopub.execute_input": "2025-07-28T11:03:45.306685Z",
     "iopub.status.busy": "2025-07-28T11:03:45.305624Z",
     "iopub.status.idle": "2025-07-28T11:03:45.313671Z",
     "shell.execute_reply": "2025-07-28T11:03:45.312420Z"
    },
    "papermill": {
     "duration": 0.038478,
     "end_time": "2025-07-28T11:03:45.315768",
     "exception": false,
     "start_time": "2025-07-28T11:03:45.277290",
     "status": "completed"
    },
    "tags": []
   },
   "outputs": [],
   "source": [
    "if mode == \"keep-all\":\n",
    "    keep_mask = pd.Series(True, index=org_train.index)\n",
    "\n",
    "# org_train contains the original feature columns from features_org (in Simson)\n",
    "# features_org contains unprocessed features, for me X_train at beginning ???\n",
    "# For keep-all, creates a boolean Series (keep_mask) of all True, so no rows are removed.\n",
    "\n",
    "elif mode == \"drop-non-german\":\n",
    "    keep_mask = org_train[\"maxdeutsch1\"] == 1 # ??? what about missing values?\n",
    "\n",
    "else:\n",
    "    raise ValueError(f\"Unsupported mode for exclude_subgroups: {mode}\")\n"
   ]
  },
  {
   "cell_type": "code",
   "execution_count": 31,
   "id": "71651440",
   "metadata": {
    "execution": {
     "iopub.execute_input": "2025-07-28T11:03:45.370928Z",
     "iopub.status.busy": "2025-07-28T11:03:45.370379Z",
     "iopub.status.idle": "2025-07-28T11:03:45.378420Z",
     "shell.execute_reply": "2025-07-28T11:03:45.377266Z"
    },
    "papermill": {
     "duration": 0.039019,
     "end_time": "2025-07-28T11:03:45.381243",
     "exception": false,
     "start_time": "2025-07-28T11:03:45.342224",
     "status": "completed"
    },
    "tags": []
   },
   "outputs": [],
   "source": [
    "n_drop = (~keep_mask).sum() # Calculates how many rows are set to be dropped\n",
    "if n_drop > 0:\n",
    "    pct = n_drop / len(keep_mask) * 100\n",
    "    print(f\"Dropping {n_drop} rows ({pct:.2f}%) where mode='{mode}'\")"
   ]
  },
  {
   "cell_type": "code",
   "execution_count": 32,
   "id": "5fb8eee5",
   "metadata": {
    "execution": {
     "iopub.execute_input": "2025-07-28T11:03:45.437259Z",
     "iopub.status.busy": "2025-07-28T11:03:45.436254Z",
     "iopub.status.idle": "2025-07-28T11:03:45.521408Z",
     "shell.execute_reply": "2025-07-28T11:03:45.520100Z"
    },
    "papermill": {
     "duration": 0.115709,
     "end_time": "2025-07-28T11:03:45.523970",
     "exception": false,
     "start_time": "2025-07-28T11:03:45.408261",
     "status": "completed"
    },
    "tags": []
   },
   "outputs": [],
   "source": [
    "X_train = X_train[keep_mask]"
   ]
  },
  {
   "cell_type": "code",
   "execution_count": 33,
   "id": "b202bb3a",
   "metadata": {
    "execution": {
     "iopub.execute_input": "2025-07-28T11:03:45.560261Z",
     "iopub.status.busy": "2025-07-28T11:03:45.559739Z",
     "iopub.status.idle": "2025-07-28T11:03:45.566336Z",
     "shell.execute_reply": "2025-07-28T11:03:45.565520Z"
    },
    "papermill": {
     "duration": 0.0234,
     "end_time": "2025-07-28T11:03:45.568179",
     "exception": false,
     "start_time": "2025-07-28T11:03:45.544779",
     "status": "completed"
    },
    "tags": []
   },
   "outputs": [],
   "source": [
    "y_train = y_train[keep_mask]"
   ]
  },
  {
   "cell_type": "markdown",
   "id": "493e2ac3",
   "metadata": {
    "papermill": {
     "duration": 0.022329,
     "end_time": "2025-07-28T11:03:45.614858",
     "exception": false,
     "start_time": "2025-07-28T11:03:45.592529",
     "status": "completed"
    },
    "tags": []
   },
   "source": [
    "# Model Training"
   ]
  },
  {
   "cell_type": "code",
   "execution_count": 34,
   "id": "679e1268",
   "metadata": {
    "execution": {
     "iopub.execute_input": "2025-07-28T11:03:45.660906Z",
     "iopub.status.busy": "2025-07-28T11:03:45.660315Z",
     "iopub.status.idle": "2025-07-28T11:03:45.771200Z",
     "shell.execute_reply": "2025-07-28T11:03:45.770251Z"
    },
    "papermill": {
     "duration": 0.137803,
     "end_time": "2025-07-28T11:03:45.773429",
     "exception": false,
     "start_time": "2025-07-28T11:03:45.635626",
     "status": "completed"
    },
    "tags": []
   },
   "outputs": [],
   "source": [
    "from sklearn.linear_model import LogisticRegression\n",
    "from sklearn.ensemble import GradientBoostingClassifier, RandomForestClassifier\n",
    "\n",
    "if (universe[\"model\"] == \"logreg\"):\n",
    "    model = LogisticRegression() #penalty=\"none\") #, solver=\"newton-cg\", max_iter=1) # include random_state=19 ?\n",
    "elif (universe[\"model\"] == \"penalized_logreg\"):\n",
    "    model = LogisticRegression(penalty=\"l2\", C=1.0) #, solver=\"newton-cg\", max_iter=1)\n",
    "elif (universe[\"model\"] == \"rf\"):\n",
    "    model = RandomForestClassifier(n_estimators=100, n_jobs=-1)\n",
    "elif (universe[\"model\"] == \"gbm\"):\n",
    "    model = GradientBoostingClassifier()\n",
    "elif (universe[\"model\"] == \"elasticnet\"):\n",
    "    model = LogisticRegression(penalty = 'elasticnet', solver = 'saga', l1_ratio = 0.5, max_iter=5000) # which solver to use?\n",
    "else:\n",
    "    raise \"Unsupported universe.model\""
   ]
  },
  {
   "cell_type": "code",
   "execution_count": 35,
   "id": "0cc8f744",
   "metadata": {
    "execution": {
     "iopub.execute_input": "2025-07-28T11:03:45.823544Z",
     "iopub.status.busy": "2025-07-28T11:03:45.822866Z",
     "iopub.status.idle": "2025-07-28T11:03:45.829489Z",
     "shell.execute_reply": "2025-07-28T11:03:45.828422Z"
    },
    "papermill": {
     "duration": 0.032949,
     "end_time": "2025-07-28T11:03:45.831474",
     "exception": false,
     "start_time": "2025-07-28T11:03:45.798525",
     "status": "completed"
    },
    "tags": []
   },
   "outputs": [],
   "source": [
    "import numpy as np\n",
    "from sklearn.pipeline import Pipeline\n",
    "from sklearn.preprocessing import StandardScaler\n",
    "\n",
    "model = Pipeline([\n",
    "    #(\"continuous_processor\", continuous_processor),\n",
    "    #(\"categorical_preprocessor\", categorical_preprocessor),\n",
    "    (\"scale\", StandardScaler() if universe[\"scale\"] == \"scale\" else None), \n",
    "    (\"model\", model),\n",
    "])"
   ]
  },
  {
   "cell_type": "code",
   "execution_count": 36,
   "id": "9442c04d",
   "metadata": {
    "execution": {
     "iopub.execute_input": "2025-07-28T11:03:45.887754Z",
     "iopub.status.busy": "2025-07-28T11:03:45.887270Z",
     "iopub.status.idle": "2025-07-28T11:03:49.789182Z",
     "shell.execute_reply": "2025-07-28T11:03:49.788293Z"
    },
    "papermill": {
     "duration": 3.931733,
     "end_time": "2025-07-28T11:03:49.790824",
     "exception": false,
     "start_time": "2025-07-28T11:03:45.859091",
     "status": "completed"
    },
    "tags": []
   },
   "outputs": [
    {
     "name": "stderr",
     "output_type": "stream",
     "text": [
      "/dss/dsshome1/0C/ra93lal2/.local/share/virtualenvs/CMA_Fairness_v2-3j10GkSs/lib/python3.10/site-packages/sklearn/linear_model/_logistic.py:444: ConvergenceWarning: lbfgs failed to converge (status=1):\n",
      "STOP: TOTAL NO. of ITERATIONS REACHED LIMIT.\n",
      "\n",
      "Increase the number of iterations (max_iter) or scale the data as shown in:\n",
      "    https://scikit-learn.org/stable/modules/preprocessing.html\n",
      "Please also refer to the documentation for alternative solver options:\n",
      "    https://scikit-learn.org/stable/modules/linear_model.html#logistic-regression\n",
      "  n_iter_i = _check_optimize_result(\n"
     ]
    },
    {
     "data": {
      "text/html": [
       "<style>#sk-container-id-1 {color: black;background-color: white;}#sk-container-id-1 pre{padding: 0;}#sk-container-id-1 div.sk-toggleable {background-color: white;}#sk-container-id-1 label.sk-toggleable__label {cursor: pointer;display: block;width: 100%;margin-bottom: 0;padding: 0.3em;box-sizing: border-box;text-align: center;}#sk-container-id-1 label.sk-toggleable__label-arrow:before {content: \"▸\";float: left;margin-right: 0.25em;color: #696969;}#sk-container-id-1 label.sk-toggleable__label-arrow:hover:before {color: black;}#sk-container-id-1 div.sk-estimator:hover label.sk-toggleable__label-arrow:before {color: black;}#sk-container-id-1 div.sk-toggleable__content {max-height: 0;max-width: 0;overflow: hidden;text-align: left;background-color: #f0f8ff;}#sk-container-id-1 div.sk-toggleable__content pre {margin: 0.2em;color: black;border-radius: 0.25em;background-color: #f0f8ff;}#sk-container-id-1 input.sk-toggleable__control:checked~div.sk-toggleable__content {max-height: 200px;max-width: 100%;overflow: auto;}#sk-container-id-1 input.sk-toggleable__control:checked~label.sk-toggleable__label-arrow:before {content: \"▾\";}#sk-container-id-1 div.sk-estimator input.sk-toggleable__control:checked~label.sk-toggleable__label {background-color: #d4ebff;}#sk-container-id-1 div.sk-label input.sk-toggleable__control:checked~label.sk-toggleable__label {background-color: #d4ebff;}#sk-container-id-1 input.sk-hidden--visually {border: 0;clip: rect(1px 1px 1px 1px);clip: rect(1px, 1px, 1px, 1px);height: 1px;margin: -1px;overflow: hidden;padding: 0;position: absolute;width: 1px;}#sk-container-id-1 div.sk-estimator {font-family: monospace;background-color: #f0f8ff;border: 1px dotted black;border-radius: 0.25em;box-sizing: border-box;margin-bottom: 0.5em;}#sk-container-id-1 div.sk-estimator:hover {background-color: #d4ebff;}#sk-container-id-1 div.sk-parallel-item::after {content: \"\";width: 100%;border-bottom: 1px solid gray;flex-grow: 1;}#sk-container-id-1 div.sk-label:hover label.sk-toggleable__label {background-color: #d4ebff;}#sk-container-id-1 div.sk-serial::before {content: \"\";position: absolute;border-left: 1px solid gray;box-sizing: border-box;top: 0;bottom: 0;left: 50%;z-index: 0;}#sk-container-id-1 div.sk-serial {display: flex;flex-direction: column;align-items: center;background-color: white;padding-right: 0.2em;padding-left: 0.2em;position: relative;}#sk-container-id-1 div.sk-item {position: relative;z-index: 1;}#sk-container-id-1 div.sk-parallel {display: flex;align-items: stretch;justify-content: center;background-color: white;position: relative;}#sk-container-id-1 div.sk-item::before, #sk-container-id-1 div.sk-parallel-item::before {content: \"\";position: absolute;border-left: 1px solid gray;box-sizing: border-box;top: 0;bottom: 0;left: 50%;z-index: -1;}#sk-container-id-1 div.sk-parallel-item {display: flex;flex-direction: column;z-index: 1;position: relative;background-color: white;}#sk-container-id-1 div.sk-parallel-item:first-child::after {align-self: flex-end;width: 50%;}#sk-container-id-1 div.sk-parallel-item:last-child::after {align-self: flex-start;width: 50%;}#sk-container-id-1 div.sk-parallel-item:only-child::after {width: 0;}#sk-container-id-1 div.sk-dashed-wrapped {border: 1px dashed gray;margin: 0 0.4em 0.5em 0.4em;box-sizing: border-box;padding-bottom: 0.4em;background-color: white;}#sk-container-id-1 div.sk-label label {font-family: monospace;font-weight: bold;display: inline-block;line-height: 1.2em;}#sk-container-id-1 div.sk-label-container {text-align: center;}#sk-container-id-1 div.sk-container {/* jupyter's `normalize.less` sets `[hidden] { display: none; }` but bootstrap.min.css set `[hidden] { display: none !important; }` so we also need the `!important` here to be able to override the default hidden behavior on the sphinx rendered scikit-learn.org. See: https://github.com/scikit-learn/scikit-learn/issues/21755 */display: inline-block !important;position: relative;}#sk-container-id-1 div.sk-text-repr-fallback {display: none;}</style><div id=\"sk-container-id-1\" class=\"sk-top-container\"><div class=\"sk-text-repr-fallback\"><pre>Pipeline(steps=[(&#x27;scale&#x27;, None), (&#x27;model&#x27;, LogisticRegression())])</pre><b>In a Jupyter environment, please rerun this cell to show the HTML representation or trust the notebook. <br />On GitHub, the HTML representation is unable to render, please try loading this page with nbviewer.org.</b></div><div class=\"sk-container\" hidden><div class=\"sk-item sk-dashed-wrapped\"><div class=\"sk-label-container\"><div class=\"sk-label sk-toggleable\"><input class=\"sk-toggleable__control sk-hidden--visually\" id=\"sk-estimator-id-1\" type=\"checkbox\" ><label for=\"sk-estimator-id-1\" class=\"sk-toggleable__label sk-toggleable__label-arrow\">Pipeline</label><div class=\"sk-toggleable__content\"><pre>Pipeline(steps=[(&#x27;scale&#x27;, None), (&#x27;model&#x27;, LogisticRegression())])</pre></div></div></div><div class=\"sk-serial\"><div class=\"sk-item\"><div class=\"sk-estimator sk-toggleable\"><input class=\"sk-toggleable__control sk-hidden--visually\" id=\"sk-estimator-id-2\" type=\"checkbox\" ><label for=\"sk-estimator-id-2\" class=\"sk-toggleable__label sk-toggleable__label-arrow\">None</label><div class=\"sk-toggleable__content\"><pre>None</pre></div></div></div><div class=\"sk-item\"><div class=\"sk-estimator sk-toggleable\"><input class=\"sk-toggleable__control sk-hidden--visually\" id=\"sk-estimator-id-3\" type=\"checkbox\" ><label for=\"sk-estimator-id-3\" class=\"sk-toggleable__label sk-toggleable__label-arrow\">LogisticRegression</label><div class=\"sk-toggleable__content\"><pre>LogisticRegression()</pre></div></div></div></div></div></div></div>"
      ],
      "text/plain": [
       "Pipeline(steps=[('scale', None), ('model', LogisticRegression())])"
      ]
     },
     "execution_count": 36,
     "metadata": {},
     "output_type": "execute_result"
    }
   ],
   "source": [
    "model.fit(X_train, y_train.values.ravel())"
   ]
  },
  {
   "cell_type": "code",
   "execution_count": 37,
   "id": "af59f8c0",
   "metadata": {
    "execution": {
     "iopub.execute_input": "2025-07-28T11:03:49.838746Z",
     "iopub.status.busy": "2025-07-28T11:03:49.837887Z",
     "iopub.status.idle": "2025-07-28T11:03:49.843504Z",
     "shell.execute_reply": "2025-07-28T11:03:49.842595Z"
    },
    "papermill": {
     "duration": 0.030742,
     "end_time": "2025-07-28T11:03:49.845042",
     "exception": false,
     "start_time": "2025-07-28T11:03:49.814300",
     "status": "completed"
    },
    "tags": []
   },
   "outputs": [],
   "source": [
    "from fairness_multiverse.universe import predict_w_threshold"
   ]
  },
  {
   "cell_type": "code",
   "execution_count": 38,
   "id": "a7cf2e16",
   "metadata": {
    "execution": {
     "iopub.execute_input": "2025-07-28T11:03:49.892191Z",
     "iopub.status.busy": "2025-07-28T11:03:49.891411Z",
     "iopub.status.idle": "2025-07-28T11:03:49.985677Z",
     "shell.execute_reply": "2025-07-28T11:03:49.984774Z"
    },
    "papermill": {
     "duration": 0.12083,
     "end_time": "2025-07-28T11:03:49.987422",
     "exception": false,
     "start_time": "2025-07-28T11:03:49.866592",
     "status": "completed"
    },
    "tags": []
   },
   "outputs": [
    {
     "data": {
      "text/plain": [
       "0.8639505071898339"
      ]
     },
     "execution_count": 38,
     "metadata": {},
     "output_type": "execute_result"
    }
   ],
   "source": [
    "probs_test = model.predict_proba(X_test)\n",
    "\n",
    "'''\n",
    "Below code returns a boolean array (or binary 0/1 array depending on how it’s used) where each element \n",
    "is True if the probability of class 1 is greater than or equal to the threshold, and False otherwise.\n",
    "'''\n",
    "y_pred_default = predict_w_threshold(probs_test, 0.5)\n",
    "\n",
    "from sklearn.metrics import accuracy_score\n",
    "\n",
    "# Naive prediction\n",
    "accuracy_score(y_true = y_true, y_pred = y_pred_default)"
   ]
  },
  {
   "cell_type": "code",
   "execution_count": 39,
   "id": "081964c3",
   "metadata": {
    "execution": {
     "iopub.execute_input": "2025-07-28T11:03:50.034247Z",
     "iopub.status.busy": "2025-07-28T11:03:50.033874Z",
     "iopub.status.idle": "2025-07-28T11:03:50.116650Z",
     "shell.execute_reply": "2025-07-28T11:03:50.115715Z"
    },
    "papermill": {
     "duration": 0.108749,
     "end_time": "2025-07-28T11:03:50.118405",
     "exception": false,
     "start_time": "2025-07-28T11:03:50.009656",
     "status": "completed"
    },
    "tags": []
   },
   "outputs": [
    {
     "data": {
      "text/plain": [
       "array([0, 0, 0, ..., 0, 0, 0])"
      ]
     },
     "execution_count": 39,
     "metadata": {},
     "output_type": "execute_result"
    }
   ],
   "source": [
    "model.predict(X_test)"
   ]
  },
  {
   "cell_type": "markdown",
   "id": "56c9705b",
   "metadata": {
    "papermill": {
     "duration": 0.024034,
     "end_time": "2025-07-28T11:03:50.166493",
     "exception": false,
     "start_time": "2025-07-28T11:03:50.142459",
     "status": "completed"
    },
    "tags": []
   },
   "source": [
    "# Conformal Prediction"
   ]
  },
  {
   "cell_type": "code",
   "execution_count": 40,
   "id": "160ec6ff",
   "metadata": {
    "execution": {
     "iopub.execute_input": "2025-07-28T11:03:50.213109Z",
     "iopub.status.busy": "2025-07-28T11:03:50.212592Z",
     "iopub.status.idle": "2025-07-28T11:03:50.218161Z",
     "shell.execute_reply": "2025-07-28T11:03:50.217259Z"
    },
    "papermill": {
     "duration": 0.031706,
     "end_time": "2025-07-28T11:03:50.219824",
     "exception": false,
     "start_time": "2025-07-28T11:03:50.188118",
     "status": "completed"
    },
    "tags": []
   },
   "outputs": [],
   "source": [
    "# Miscoverage level for conformal prediction (10% allowed error rate => 90% target coverage)\n",
    "alpha = 0.1"
   ]
  },
  {
   "cell_type": "code",
   "execution_count": 41,
   "id": "eadf4555-3dd3-440e-8e35-f82a4ad9f855",
   "metadata": {
    "execution": {
     "iopub.execute_input": "2025-07-28T11:03:50.269644Z",
     "iopub.status.busy": "2025-07-28T11:03:50.269145Z",
     "iopub.status.idle": "2025-07-28T11:03:50.353512Z",
     "shell.execute_reply": "2025-07-28T11:03:50.352413Z"
    },
    "papermill": {
     "duration": 0.11168,
     "end_time": "2025-07-28T11:03:50.355763",
     "exception": false,
     "start_time": "2025-07-28T11:03:50.244083",
     "status": "completed"
    },
    "tags": []
   },
   "outputs": [],
   "source": [
    "probs_calib = model.predict_proba(X_calib)"
   ]
  },
  {
   "cell_type": "code",
   "execution_count": 42,
   "id": "2ed93547-6d5d-4983-9b36-1ecb300da49a",
   "metadata": {
    "execution": {
     "iopub.execute_input": "2025-07-28T11:03:50.406543Z",
     "iopub.status.busy": "2025-07-28T11:03:50.405812Z",
     "iopub.status.idle": "2025-07-28T11:03:50.412454Z",
     "shell.execute_reply": "2025-07-28T11:03:50.411404Z"
    },
    "papermill": {
     "duration": 0.032946,
     "end_time": "2025-07-28T11:03:50.414131",
     "exception": false,
     "start_time": "2025-07-28T11:03:50.381185",
     "status": "completed"
    },
    "tags": []
   },
   "outputs": [],
   "source": [
    "y_calib = y_calib.values.ravel().astype(int)"
   ]
  },
  {
   "cell_type": "code",
   "execution_count": 43,
   "id": "65d1320d-f588-4b38-9072-62af1ae97f7d",
   "metadata": {
    "execution": {
     "iopub.execute_input": "2025-07-28T11:03:50.463123Z",
     "iopub.status.busy": "2025-07-28T11:03:50.462266Z",
     "iopub.status.idle": "2025-07-28T11:03:50.469357Z",
     "shell.execute_reply": "2025-07-28T11:03:50.468499Z"
    },
    "papermill": {
     "duration": 0.034585,
     "end_time": "2025-07-28T11:03:50.471203",
     "exception": false,
     "start_time": "2025-07-28T11:03:50.436618",
     "status": "completed"
    },
    "tags": []
   },
   "outputs": [],
   "source": [
    "from fairness_multiverse.conformal import compute_nc_scores\n",
    "\n",
    "# Compute nonconformity scores on calibration set (1 - probability of true class)\n",
    "nc_scores = compute_nc_scores(probs_calib, y_calib)"
   ]
  },
  {
   "cell_type": "code",
   "execution_count": 44,
   "id": "df3b8ca3-53b7-43d5-9667-7c85da7aeda2",
   "metadata": {
    "execution": {
     "iopub.execute_input": "2025-07-28T11:03:50.522464Z",
     "iopub.status.busy": "2025-07-28T11:03:50.521749Z",
     "iopub.status.idle": "2025-07-28T11:03:50.529225Z",
     "shell.execute_reply": "2025-07-28T11:03:50.528228Z"
    },
    "papermill": {
     "duration": 0.034769,
     "end_time": "2025-07-28T11:03:50.531026",
     "exception": false,
     "start_time": "2025-07-28T11:03:50.496257",
     "status": "completed"
    },
    "tags": []
   },
   "outputs": [],
   "source": [
    "from fairness_multiverse.conformal import find_threshold\n",
    "\n",
    "# Find conformal threshold q_hat for the given alpha (split conformal method)\n",
    "q_hat = find_threshold(nc_scores, alpha)"
   ]
  },
  {
   "cell_type": "code",
   "execution_count": 45,
   "id": "4d29e6c1-0ef6-4aa4-b8fe-4fe79b0d033a",
   "metadata": {
    "execution": {
     "iopub.execute_input": "2025-07-28T11:03:50.582705Z",
     "iopub.status.busy": "2025-07-28T11:03:50.581724Z",
     "iopub.status.idle": "2025-07-28T11:03:50.589413Z",
     "shell.execute_reply": "2025-07-28T11:03:50.588324Z"
    },
    "papermill": {
     "duration": 0.035227,
     "end_time": "2025-07-28T11:03:50.591174",
     "exception": false,
     "start_time": "2025-07-28T11:03:50.555947",
     "status": "completed"
    },
    "tags": []
   },
   "outputs": [
    {
     "data": {
      "text/plain": [
       "0.675334928571862"
      ]
     },
     "execution_count": 45,
     "metadata": {},
     "output_type": "execute_result"
    }
   ],
   "source": [
    "q_hat"
   ]
  },
  {
   "cell_type": "code",
   "execution_count": 46,
   "id": "92460794-cdac-4be2-ba28-f28c0515a6fb",
   "metadata": {
    "execution": {
     "iopub.execute_input": "2025-07-28T11:03:50.641832Z",
     "iopub.status.busy": "2025-07-28T11:03:50.640784Z",
     "iopub.status.idle": "2025-07-28T11:03:51.475593Z",
     "shell.execute_reply": "2025-07-28T11:03:51.474489Z"
    },
    "papermill": {
     "duration": 0.86277,
     "end_time": "2025-07-28T11:03:51.477740",
     "exception": false,
     "start_time": "2025-07-28T11:03:50.614970",
     "status": "completed"
    },
    "tags": []
   },
   "outputs": [],
   "source": [
    "from fairness_multiverse.conformal import predict_conformal_sets\n",
    "\n",
    "# Generate prediction sets for each test example\n",
    "pred_sets = predict_conformal_sets(model, X_test, q_hat)"
   ]
  },
  {
   "cell_type": "code",
   "execution_count": 47,
   "id": "d90c9a65-e6db-4f5d-80cd-e68fb7e46829",
   "metadata": {
    "execution": {
     "iopub.execute_input": "2025-07-28T11:03:51.529291Z",
     "iopub.status.busy": "2025-07-28T11:03:51.528288Z",
     "iopub.status.idle": "2025-07-28T11:03:51.534694Z",
     "shell.execute_reply": "2025-07-28T11:03:51.533537Z"
    },
    "papermill": {
     "duration": 0.032254,
     "end_time": "2025-07-28T11:03:51.536476",
     "exception": false,
     "start_time": "2025-07-28T11:03:51.504222",
     "status": "completed"
    },
    "tags": []
   },
   "outputs": [],
   "source": [
    "y_true = y_true.squeeze()"
   ]
  },
  {
   "cell_type": "code",
   "execution_count": 48,
   "id": "3a58a54a-1e68-46b9-927a-df01f18aebc8",
   "metadata": {
    "execution": {
     "iopub.execute_input": "2025-07-28T11:03:51.586514Z",
     "iopub.status.busy": "2025-07-28T11:03:51.585637Z",
     "iopub.status.idle": "2025-07-28T11:03:52.610999Z",
     "shell.execute_reply": "2025-07-28T11:03:52.609973Z"
    },
    "papermill": {
     "duration": 1.051985,
     "end_time": "2025-07-28T11:03:52.612929",
     "exception": false,
     "start_time": "2025-07-28T11:03:51.560944",
     "status": "completed"
    },
    "tags": []
   },
   "outputs": [],
   "source": [
    "from fairness_multiverse.conformal import evaluate_sets\n",
    "\n",
    "# Evaluate coverage and average set size on test data\n",
    "metrics = evaluate_sets(pred_sets, y_true)"
   ]
  },
  {
   "cell_type": "markdown",
   "id": "2b569c12-9aaa-4c88-98c9-bbcd0cf3ebb8",
   "metadata": {
    "papermill": {
     "duration": 0.023724,
     "end_time": "2025-07-28T11:03:52.689009",
     "exception": false,
     "start_time": "2025-07-28T11:03:52.665285",
     "status": "completed"
    },
    "tags": []
   },
   "source": [
    "# CP Metrics"
   ]
  },
  {
   "cell_type": "code",
   "execution_count": 49,
   "id": "5ce0a5cb-201f-45a0-ade5-94c7f0bd6095",
   "metadata": {
    "execution": {
     "iopub.execute_input": "2025-07-28T11:03:52.741001Z",
     "iopub.status.busy": "2025-07-28T11:03:52.740582Z",
     "iopub.status.idle": "2025-07-28T11:03:52.748010Z",
     "shell.execute_reply": "2025-07-28T11:03:52.747072Z"
    },
    "papermill": {
     "duration": 0.036035,
     "end_time": "2025-07-28T11:03:52.749840",
     "exception": false,
     "start_time": "2025-07-28T11:03:52.713805",
     "status": "completed"
    },
    "tags": []
   },
   "outputs": [
    {
     "data": {
      "text/plain": [
       "{'coverage': 0.911615204547988, 'avg_size': 1.1964440976479769}"
      ]
     },
     "execution_count": 49,
     "metadata": {},
     "output_type": "execute_result"
    }
   ],
   "source": [
    "metrics"
   ]
  },
  {
   "cell_type": "code",
   "execution_count": 50,
   "id": "9b9a838d-31c9-430b-ae14-12baee460d17",
   "metadata": {
    "execution": {
     "iopub.execute_input": "2025-07-28T11:03:52.802684Z",
     "iopub.status.busy": "2025-07-28T11:03:52.801822Z",
     "iopub.status.idle": "2025-07-28T11:03:52.809261Z",
     "shell.execute_reply": "2025-07-28T11:03:52.808261Z"
    },
    "papermill": {
     "duration": 0.036345,
     "end_time": "2025-07-28T11:03:52.810826",
     "exception": false,
     "start_time": "2025-07-28T11:03:52.774481",
     "status": "completed"
    },
    "tags": []
   },
   "outputs": [],
   "source": [
    "example_universe = universe.copy()\n",
    "universe_training_size = example_universe.get(\"training_size\")\n",
    "universe_scale = example_universe.get(\"scale\")\n",
    "universe_model = example_universe.get(\"model\")\n",
    "universe_exclude_features = example_universe.get(\"exclude_features\")\n",
    "universe_exclude_subgroups = example_universe.get(\"exclude_subgroups\")"
   ]
  },
  {
   "cell_type": "code",
   "execution_count": 51,
   "id": "f4b6a8ac-9dc0-4245-8a91-5b3b5999c4f9",
   "metadata": {
    "execution": {
     "iopub.execute_input": "2025-07-28T11:03:52.862449Z",
     "iopub.status.busy": "2025-07-28T11:03:52.861968Z",
     "iopub.status.idle": "2025-07-28T11:03:52.869341Z",
     "shell.execute_reply": "2025-07-28T11:03:52.868021Z"
    },
    "papermill": {
     "duration": 0.035367,
     "end_time": "2025-07-28T11:03:52.871224",
     "exception": false,
     "start_time": "2025-07-28T11:03:52.835857",
     "status": "completed"
    },
    "tags": []
   },
   "outputs": [],
   "source": [
    "cp_metrics_dict = {\n",
    "    \"universe_id\": [universe_id],\n",
    "    \"universe_training_size\": [universe_training_size],\n",
    "    \"universe_scale\": [universe_scale],\n",
    "    \"universe_model\": [universe_model],\n",
    "    \"universe_exclude_features\": [universe_exclude_features],\n",
    "    \"universe_exclude_subgroups\": [universe_exclude_subgroups],\n",
    "    \"q_hat\": [q_hat],\n",
    "    \"coverage\": [metrics[\"coverage\"]],\n",
    "    \"avg_size\": [metrics[\"avg_size\"]],\n",
    "}"
   ]
  },
  {
   "cell_type": "code",
   "execution_count": 52,
   "id": "908acbb1-0371-4915-85ca-3fa520d2efe2",
   "metadata": {
    "execution": {
     "iopub.execute_input": "2025-07-28T11:03:52.919421Z",
     "iopub.status.busy": "2025-07-28T11:03:52.918897Z",
     "iopub.status.idle": "2025-07-28T11:03:52.926972Z",
     "shell.execute_reply": "2025-07-28T11:03:52.925998Z"
    },
    "papermill": {
     "duration": 0.033804,
     "end_time": "2025-07-28T11:03:52.928555",
     "exception": false,
     "start_time": "2025-07-28T11:03:52.894751",
     "status": "completed"
    },
    "tags": []
   },
   "outputs": [
    {
     "data": {
      "text/plain": [
       "{'universe_id': ['247e61d34f5ed0eb37f0f301fb56c1f9'],\n",
       " 'universe_training_size': ['2014'],\n",
       " 'universe_scale': ['do-not-scale'],\n",
       " 'universe_model': ['logreg'],\n",
       " 'universe_exclude_features': ['nationality-sex'],\n",
       " 'universe_exclude_subgroups': ['keep-all'],\n",
       " 'q_hat': [0.675334928571862],\n",
       " 'coverage': [0.911615204547988],\n",
       " 'avg_size': [1.1964440976479769]}"
      ]
     },
     "execution_count": 52,
     "metadata": {},
     "output_type": "execute_result"
    }
   ],
   "source": [
    "cp_metrics_dict"
   ]
  },
  {
   "cell_type": "code",
   "execution_count": 53,
   "id": "33007efc-14e9-4ec6-97ac-56a455c82265",
   "metadata": {
    "execution": {
     "iopub.execute_input": "2025-07-28T11:03:52.977730Z",
     "iopub.status.busy": "2025-07-28T11:03:52.977221Z",
     "iopub.status.idle": "2025-07-28T11:03:52.983676Z",
     "shell.execute_reply": "2025-07-28T11:03:52.982640Z"
    },
    "papermill": {
     "duration": 0.032271,
     "end_time": "2025-07-28T11:03:52.985373",
     "exception": false,
     "start_time": "2025-07-28T11:03:52.953102",
     "status": "completed"
    },
    "tags": []
   },
   "outputs": [],
   "source": [
    "cp_metrics_df = pd.DataFrame(cp_metrics_dict)"
   ]
  },
  {
   "cell_type": "code",
   "execution_count": 54,
   "id": "db12611b-57b2-4910-b9d0-355adfd6e7bf",
   "metadata": {
    "execution": {
     "iopub.execute_input": "2025-07-28T11:03:53.036409Z",
     "iopub.status.busy": "2025-07-28T11:03:53.035868Z",
     "iopub.status.idle": "2025-07-28T11:03:53.054131Z",
     "shell.execute_reply": "2025-07-28T11:03:53.053210Z"
    },
    "papermill": {
     "duration": 0.045371,
     "end_time": "2025-07-28T11:03:53.055881",
     "exception": false,
     "start_time": "2025-07-28T11:03:53.010510",
     "status": "completed"
    },
    "tags": []
   },
   "outputs": [
    {
     "data": {
      "text/html": [
       "<div>\n",
       "<style scoped>\n",
       "    .dataframe tbody tr th:only-of-type {\n",
       "        vertical-align: middle;\n",
       "    }\n",
       "\n",
       "    .dataframe tbody tr th {\n",
       "        vertical-align: top;\n",
       "    }\n",
       "\n",
       "    .dataframe thead th {\n",
       "        text-align: right;\n",
       "    }\n",
       "</style>\n",
       "<table border=\"1\" class=\"dataframe\">\n",
       "  <thead>\n",
       "    <tr style=\"text-align: right;\">\n",
       "      <th></th>\n",
       "      <th>universe_id</th>\n",
       "      <th>universe_training_size</th>\n",
       "      <th>universe_scale</th>\n",
       "      <th>universe_model</th>\n",
       "      <th>universe_exclude_features</th>\n",
       "      <th>universe_exclude_subgroups</th>\n",
       "      <th>q_hat</th>\n",
       "      <th>coverage</th>\n",
       "      <th>avg_size</th>\n",
       "    </tr>\n",
       "  </thead>\n",
       "  <tbody>\n",
       "    <tr>\n",
       "      <th>0</th>\n",
       "      <td>247e61d34f5ed0eb37f0f301fb56c1f9</td>\n",
       "      <td>2014</td>\n",
       "      <td>do-not-scale</td>\n",
       "      <td>logreg</td>\n",
       "      <td>nationality-sex</td>\n",
       "      <td>keep-all</td>\n",
       "      <td>0.675335</td>\n",
       "      <td>0.911615</td>\n",
       "      <td>1.196444</td>\n",
       "    </tr>\n",
       "  </tbody>\n",
       "</table>\n",
       "</div>"
      ],
      "text/plain": [
       "                        universe_id universe_training_size universe_scale  \\\n",
       "0  247e61d34f5ed0eb37f0f301fb56c1f9                   2014   do-not-scale   \n",
       "\n",
       "  universe_model universe_exclude_features universe_exclude_subgroups  \\\n",
       "0         logreg           nationality-sex                   keep-all   \n",
       "\n",
       "      q_hat  coverage  avg_size  \n",
       "0  0.675335  0.911615  1.196444  "
      ]
     },
     "execution_count": 54,
     "metadata": {},
     "output_type": "execute_result"
    }
   ],
   "source": [
    "cp_metrics_df"
   ]
  },
  {
   "cell_type": "code",
   "execution_count": 55,
   "id": "b7fbde55-a0a1-47e4-9af6-fe4a17fa8c61",
   "metadata": {
    "execution": {
     "iopub.execute_input": "2025-07-28T11:03:53.105905Z",
     "iopub.status.busy": "2025-07-28T11:03:53.105236Z",
     "iopub.status.idle": "2025-07-28T11:03:53.111165Z",
     "shell.execute_reply": "2025-07-28T11:03:53.110053Z"
    },
    "papermill": {
     "duration": 0.032236,
     "end_time": "2025-07-28T11:03:53.112949",
     "exception": false,
     "start_time": "2025-07-28T11:03:53.080713",
     "status": "completed"
    },
    "tags": []
   },
   "outputs": [],
   "source": [
    "# Conditional Coverage & looking at subgroups"
   ]
  },
  {
   "cell_type": "code",
   "execution_count": 56,
   "id": "027ae886-68dd-4141-96c7-805a5450e1ef",
   "metadata": {
    "execution": {
     "iopub.execute_input": "2025-07-28T11:03:53.166916Z",
     "iopub.status.busy": "2025-07-28T11:03:53.166183Z",
     "iopub.status.idle": "2025-07-28T11:03:53.452061Z",
     "shell.execute_reply": "2025-07-28T11:03:53.451011Z"
    },
    "papermill": {
     "duration": 0.313426,
     "end_time": "2025-07-28T11:03:53.454182",
     "exception": false,
     "start_time": "2025-07-28T11:03:53.140756",
     "status": "completed"
    },
    "tags": []
   },
   "outputs": [],
   "source": [
    "from fairness_multiverse.conformal import build_cp_groups\n",
    "\n",
    "cp_groups_df = build_cp_groups(pred_sets, y_true, X_test.index, org_test)\n",
    "#needs universe_id and setting"
   ]
  },
  {
   "cell_type": "code",
   "execution_count": 57,
   "id": "01d5802c-663a-4d1f-9d69-e036faaffbf7",
   "metadata": {
    "execution": {
     "iopub.execute_input": "2025-07-28T11:03:53.504337Z",
     "iopub.status.busy": "2025-07-28T11:03:53.503527Z",
     "iopub.status.idle": "2025-07-28T11:03:53.508796Z",
     "shell.execute_reply": "2025-07-28T11:03:53.507827Z"
    },
    "papermill": {
     "duration": 0.032493,
     "end_time": "2025-07-28T11:03:53.510501",
     "exception": false,
     "start_time": "2025-07-28T11:03:53.478008",
     "status": "completed"
    },
    "tags": []
   },
   "outputs": [],
   "source": [
    "#delete\n",
    "#cp_groups_df"
   ]
  },
  {
   "cell_type": "code",
   "execution_count": 58,
   "id": "fa424af1-d1eb-443d-b717-2d279ada8408",
   "metadata": {
    "execution": {
     "iopub.execute_input": "2025-07-28T11:03:53.565662Z",
     "iopub.status.busy": "2025-07-28T11:03:53.564981Z",
     "iopub.status.idle": "2025-07-28T11:03:53.570496Z",
     "shell.execute_reply": "2025-07-28T11:03:53.569438Z"
    },
    "papermill": {
     "duration": 0.035022,
     "end_time": "2025-07-28T11:03:53.572252",
     "exception": false,
     "start_time": "2025-07-28T11:03:53.537230",
     "status": "completed"
    },
    "tags": []
   },
   "outputs": [],
   "source": [
    "#delete\n",
    "#percentage = (cp_groups_df['nongerman_female'] == 1).mean() * 100\n",
    "#print(percentage)\n"
   ]
  },
  {
   "cell_type": "code",
   "execution_count": 59,
   "id": "6cbdab96-b2b2-45af-ad54-d0516db2e28d",
   "metadata": {
    "execution": {
     "iopub.execute_input": "2025-07-28T11:03:53.627112Z",
     "iopub.status.busy": "2025-07-28T11:03:53.626377Z",
     "iopub.status.idle": "2025-07-28T11:03:55.266959Z",
     "shell.execute_reply": "2025-07-28T11:03:55.265970Z"
    },
    "papermill": {
     "duration": 1.670749,
     "end_time": "2025-07-28T11:03:55.269074",
     "exception": false,
     "start_time": "2025-07-28T11:03:53.598325",
     "status": "completed"
    },
    "tags": []
   },
   "outputs": [],
   "source": [
    "# Define covered = 1 if true_label is in the predicted set\n",
    "cp_groups_df['covered'] = cp_groups_df.apply(\n",
    "    lambda r: int(r['true_label'] in r['pred_set']),\n",
    "    axis=1\n",
    ")"
   ]
  },
  {
   "cell_type": "code",
   "execution_count": 60,
   "id": "338ff529-1a6b-4b87-a931-8e4788d52aad",
   "metadata": {
    "execution": {
     "iopub.execute_input": "2025-07-28T11:03:55.319830Z",
     "iopub.status.busy": "2025-07-28T11:03:55.318930Z",
     "iopub.status.idle": "2025-07-28T11:03:55.324415Z",
     "shell.execute_reply": "2025-07-28T11:03:55.323220Z"
    },
    "papermill": {
     "duration": 0.0317,
     "end_time": "2025-07-28T11:03:55.326276",
     "exception": false,
     "start_time": "2025-07-28T11:03:55.294576",
     "status": "completed"
    },
    "tags": []
   },
   "outputs": [],
   "source": [
    "#cp_groups_df"
   ]
  },
  {
   "cell_type": "code",
   "execution_count": 61,
   "id": "90032e27-66df-4540-9169-4e89cfbaa758",
   "metadata": {
    "execution": {
     "iopub.execute_input": "2025-07-28T11:03:55.377817Z",
     "iopub.status.busy": "2025-07-28T11:03:55.377279Z",
     "iopub.status.idle": "2025-07-28T11:03:55.390397Z",
     "shell.execute_reply": "2025-07-28T11:03:55.389246Z"
    },
    "papermill": {
     "duration": 0.040772,
     "end_time": "2025-07-28T11:03:55.392475",
     "exception": false,
     "start_time": "2025-07-28T11:03:55.351703",
     "status": "completed"
    },
    "tags": []
   },
   "outputs": [],
   "source": [
    "subgroups = ['frau1','nongerman','nongerman_male','nongerman_female']\n",
    "\n",
    "# Conditional coverage for subgroup==1\n",
    "cond_coverage = {\n",
    "    g: cp_groups_df.loc[cp_groups_df[g]==1, 'covered'].mean()\n",
    "    for g in subgroups\n",
    "}"
   ]
  },
  {
   "cell_type": "code",
   "execution_count": 62,
   "id": "1e348fb1-b9c3-45bc-ba23-f016827a7e0d",
   "metadata": {
    "execution": {
     "iopub.execute_input": "2025-07-28T11:03:55.445141Z",
     "iopub.status.busy": "2025-07-28T11:03:55.444365Z",
     "iopub.status.idle": "2025-07-28T11:03:55.452231Z",
     "shell.execute_reply": "2025-07-28T11:03:55.451171Z"
    },
    "papermill": {
     "duration": 0.036589,
     "end_time": "2025-07-28T11:03:55.453944",
     "exception": false,
     "start_time": "2025-07-28T11:03:55.417355",
     "status": "completed"
    },
    "tags": []
   },
   "outputs": [
    {
     "data": {
      "text/plain": [
       "{'frau1': 0.9107157298827335,\n",
       " 'nongerman': 0.927861674058272,\n",
       " 'nongerman_male': 0.9416373952985679,\n",
       " 'nongerman_female': 0.9050670640834575}"
      ]
     },
     "execution_count": 62,
     "metadata": {},
     "output_type": "execute_result"
    }
   ],
   "source": [
    "cond_coverage"
   ]
  },
  {
   "cell_type": "code",
   "execution_count": 63,
   "id": "f5093324-c3dd-4d63-bc4c-8d945e5c8bbb",
   "metadata": {
    "execution": {
     "iopub.execute_input": "2025-07-28T11:03:55.505833Z",
     "iopub.status.busy": "2025-07-28T11:03:55.504984Z",
     "iopub.status.idle": "2025-07-28T11:03:55.513885Z",
     "shell.execute_reply": "2025-07-28T11:03:55.512986Z"
    },
    "papermill": {
     "duration": 0.036436,
     "end_time": "2025-07-28T11:03:55.515689",
     "exception": false,
     "start_time": "2025-07-28T11:03:55.479253",
     "status": "completed"
    },
    "tags": []
   },
   "outputs": [],
   "source": [
    "for subgroup, cov in cond_coverage.items():\n",
    "    cp_metrics_df[f\"cov_{subgroup}\"] = cov"
   ]
  },
  {
   "cell_type": "code",
   "execution_count": 64,
   "id": "6e872e10-dbe5-49e8-b554-5030c98ff75d",
   "metadata": {
    "execution": {
     "iopub.execute_input": "2025-07-28T11:03:55.577661Z",
     "iopub.status.busy": "2025-07-28T11:03:55.577195Z",
     "iopub.status.idle": "2025-07-28T11:03:55.595751Z",
     "shell.execute_reply": "2025-07-28T11:03:55.594787Z"
    },
    "papermill": {
     "duration": 0.052222,
     "end_time": "2025-07-28T11:03:55.597600",
     "exception": false,
     "start_time": "2025-07-28T11:03:55.545378",
     "status": "completed"
    },
    "tags": []
   },
   "outputs": [
    {
     "data": {
      "text/html": [
       "<div>\n",
       "<style scoped>\n",
       "    .dataframe tbody tr th:only-of-type {\n",
       "        vertical-align: middle;\n",
       "    }\n",
       "\n",
       "    .dataframe tbody tr th {\n",
       "        vertical-align: top;\n",
       "    }\n",
       "\n",
       "    .dataframe thead th {\n",
       "        text-align: right;\n",
       "    }\n",
       "</style>\n",
       "<table border=\"1\" class=\"dataframe\">\n",
       "  <thead>\n",
       "    <tr style=\"text-align: right;\">\n",
       "      <th></th>\n",
       "      <th>universe_id</th>\n",
       "      <th>universe_training_size</th>\n",
       "      <th>universe_scale</th>\n",
       "      <th>universe_model</th>\n",
       "      <th>universe_exclude_features</th>\n",
       "      <th>universe_exclude_subgroups</th>\n",
       "      <th>q_hat</th>\n",
       "      <th>coverage</th>\n",
       "      <th>avg_size</th>\n",
       "      <th>cov_frau1</th>\n",
       "      <th>cov_nongerman</th>\n",
       "      <th>cov_nongerman_male</th>\n",
       "      <th>cov_nongerman_female</th>\n",
       "    </tr>\n",
       "  </thead>\n",
       "  <tbody>\n",
       "    <tr>\n",
       "      <th>0</th>\n",
       "      <td>247e61d34f5ed0eb37f0f301fb56c1f9</td>\n",
       "      <td>2014</td>\n",
       "      <td>do-not-scale</td>\n",
       "      <td>logreg</td>\n",
       "      <td>nationality-sex</td>\n",
       "      <td>keep-all</td>\n",
       "      <td>0.675335</td>\n",
       "      <td>0.911615</td>\n",
       "      <td>1.196444</td>\n",
       "      <td>0.910716</td>\n",
       "      <td>0.927862</td>\n",
       "      <td>0.941637</td>\n",
       "      <td>0.905067</td>\n",
       "    </tr>\n",
       "  </tbody>\n",
       "</table>\n",
       "</div>"
      ],
      "text/plain": [
       "                        universe_id universe_training_size universe_scale  \\\n",
       "0  247e61d34f5ed0eb37f0f301fb56c1f9                   2014   do-not-scale   \n",
       "\n",
       "  universe_model universe_exclude_features universe_exclude_subgroups  \\\n",
       "0         logreg           nationality-sex                   keep-all   \n",
       "\n",
       "      q_hat  coverage  avg_size  cov_frau1  cov_nongerman  cov_nongerman_male  \\\n",
       "0  0.675335  0.911615  1.196444   0.910716       0.927862            0.941637   \n",
       "\n",
       "   cov_nongerman_female  \n",
       "0              0.905067  "
      ]
     },
     "execution_count": 64,
     "metadata": {},
     "output_type": "execute_result"
    }
   ],
   "source": [
    "cp_metrics_df"
   ]
  },
  {
   "cell_type": "markdown",
   "id": "33774451",
   "metadata": {
    "papermill": {
     "duration": 0.025806,
     "end_time": "2025-07-28T11:03:55.648530",
     "exception": false,
     "start_time": "2025-07-28T11:03:55.622724",
     "status": "completed"
    },
    "tags": []
   },
   "source": [
    "# (Fairness) Metrics"
   ]
  },
  {
   "cell_type": "code",
   "execution_count": 65,
   "id": "debc5d62",
   "metadata": {
    "execution": {
     "iopub.execute_input": "2025-07-28T11:03:55.702550Z",
     "iopub.status.busy": "2025-07-28T11:03:55.702024Z",
     "iopub.status.idle": "2025-07-28T11:03:55.727321Z",
     "shell.execute_reply": "2025-07-28T11:03:55.726247Z"
    },
    "papermill": {
     "duration": 0.055407,
     "end_time": "2025-07-28T11:03:55.729412",
     "exception": false,
     "start_time": "2025-07-28T11:03:55.674005",
     "status": "completed"
    },
    "tags": []
   },
   "outputs": [],
   "source": [
    "# do I need to include maxdeutsch1.missing?\n",
    "\n",
    "import numpy as np\n",
    "\n",
    "colname_to_bin = \"maxdeutsch1\"\n",
    "majority_value = org_train[colname_to_bin].mode()[0]\n",
    "\n",
    "org_test[\"majmin\"] = np.where(org_test[colname_to_bin] == majority_value, \"majority\", \"minority\")"
   ]
  },
  {
   "cell_type": "code",
   "execution_count": 66,
   "id": "06a50de5",
   "metadata": {
    "execution": {
     "iopub.execute_input": "2025-07-28T11:03:55.786637Z",
     "iopub.status.busy": "2025-07-28T11:03:55.785897Z",
     "iopub.status.idle": "2025-07-28T11:03:58.836917Z",
     "shell.execute_reply": "2025-07-28T11:03:58.835925Z"
    },
    "papermill": {
     "duration": 3.08144,
     "end_time": "2025-07-28T11:03:58.838900",
     "exception": false,
     "start_time": "2025-07-28T11:03:55.757460",
     "status": "completed"
    },
    "tags": []
   },
   "outputs": [],
   "source": [
    "example_universe = universe.copy()\n",
    "example_universe[\"cutoff\"] = example_universe[\"cutoff\"][0]\n",
    "example_universe[\"eval_fairness_grouping\"] = example_universe[\"eval_fairness_grouping\"][0]\n",
    "fairness_dict, metric_frame = universe_analysis.compute_metrics(\n",
    "    example_universe,\n",
    "    y_pred_prob=probs_test,\n",
    "    y_test=y_true,\n",
    "    org_test=org_test,\n",
    ")"
   ]
  },
  {
   "cell_type": "markdown",
   "id": "f95d4e02",
   "metadata": {
    "papermill": {
     "duration": 0.026102,
     "end_time": "2025-07-28T11:03:58.897445",
     "exception": false,
     "start_time": "2025-07-28T11:03:58.871343",
     "status": "completed"
    },
    "tags": []
   },
   "source": [
    "# Overall"
   ]
  },
  {
   "cell_type": "markdown",
   "id": "bdee4871",
   "metadata": {
    "papermill": {
     "duration": 0.032272,
     "end_time": "2025-07-28T11:03:58.955239",
     "exception": false,
     "start_time": "2025-07-28T11:03:58.922967",
     "status": "completed"
    },
    "tags": []
   },
   "source": [
    "Fairness\n",
    "Main fairness target: Equalized Odds. Seems to be a better fit than equal opportunity, since we're not only interested in Y = 1. Seems to be a better fit than demographic parity, since we also care about accuracy, not just equal distribution of preds.\n",
    "\n",
    "Pick column for computation of fairness metrics\n",
    "\n",
    "Performance\n",
    "Overall performance measures, most interesting in relation to the measures split by group below"
   ]
  },
  {
   "cell_type": "code",
   "execution_count": 67,
   "id": "c4e067c6",
   "metadata": {
    "execution": {
     "iopub.execute_input": "2025-07-28T11:03:59.026376Z",
     "iopub.status.busy": "2025-07-28T11:03:59.025269Z",
     "iopub.status.idle": "2025-07-28T11:03:59.035827Z",
     "shell.execute_reply": "2025-07-28T11:03:59.034694Z"
    },
    "papermill": {
     "duration": 0.04938,
     "end_time": "2025-07-28T11:03:59.038889",
     "exception": false,
     "start_time": "2025-07-28T11:03:58.989509",
     "status": "completed"
    },
    "tags": []
   },
   "outputs": [
    {
     "data": {
      "text/plain": [
       "accuracy                   0.217980\n",
       "balanced accuracy          0.534331\n",
       "f1                         0.239487\n",
       "precision                  0.136811\n",
       "false positive rate        0.891192\n",
       "false negative rate        0.040146\n",
       "selection rate             0.900000\n",
       "count                  89710.000000\n",
       "dtype: float64"
      ]
     },
     "execution_count": 67,
     "metadata": {},
     "output_type": "execute_result"
    }
   ],
   "source": [
    "metric_frame.overall"
   ]
  },
  {
   "cell_type": "markdown",
   "id": "e968fe9d",
   "metadata": {
    "papermill": {
     "duration": 0.032549,
     "end_time": "2025-07-28T11:03:59.104568",
     "exception": false,
     "start_time": "2025-07-28T11:03:59.072019",
     "status": "completed"
    },
    "tags": []
   },
   "source": [
    "By Group"
   ]
  },
  {
   "cell_type": "code",
   "execution_count": 68,
   "id": "ec325bce",
   "metadata": {
    "execution": {
     "iopub.execute_input": "2025-07-28T11:03:59.173012Z",
     "iopub.status.busy": "2025-07-28T11:03:59.172517Z",
     "iopub.status.idle": "2025-07-28T11:03:59.188711Z",
     "shell.execute_reply": "2025-07-28T11:03:59.187551Z"
    },
    "papermill": {
     "duration": 0.05268,
     "end_time": "2025-07-28T11:03:59.190921",
     "exception": false,
     "start_time": "2025-07-28T11:03:59.138241",
     "status": "completed"
    },
    "tags": []
   },
   "outputs": [
    {
     "data": {
      "text/html": [
       "<div>\n",
       "<style scoped>\n",
       "    .dataframe tbody tr th:only-of-type {\n",
       "        vertical-align: middle;\n",
       "    }\n",
       "\n",
       "    .dataframe tbody tr th {\n",
       "        vertical-align: top;\n",
       "    }\n",
       "\n",
       "    .dataframe thead th {\n",
       "        text-align: right;\n",
       "    }\n",
       "</style>\n",
       "<table border=\"1\" class=\"dataframe\">\n",
       "  <thead>\n",
       "    <tr style=\"text-align: right;\">\n",
       "      <th></th>\n",
       "      <th>accuracy</th>\n",
       "      <th>balanced accuracy</th>\n",
       "      <th>f1</th>\n",
       "      <th>precision</th>\n",
       "      <th>false positive rate</th>\n",
       "      <th>false negative rate</th>\n",
       "      <th>selection rate</th>\n",
       "      <th>count</th>\n",
       "    </tr>\n",
       "    <tr>\n",
       "      <th>majmin</th>\n",
       "      <th></th>\n",
       "      <th></th>\n",
       "      <th></th>\n",
       "      <th></th>\n",
       "      <th></th>\n",
       "      <th></th>\n",
       "      <th></th>\n",
       "      <th></th>\n",
       "    </tr>\n",
       "  </thead>\n",
       "  <tbody>\n",
       "    <tr>\n",
       "      <th>majority</th>\n",
       "      <td>0.240104</td>\n",
       "      <td>0.542122</td>\n",
       "      <td>0.248857</td>\n",
       "      <td>0.143122</td>\n",
       "      <td>0.868382</td>\n",
       "      <td>0.047374</td>\n",
       "      <td>0.879514</td>\n",
       "      <td>69170.0</td>\n",
       "    </tr>\n",
       "    <tr>\n",
       "      <th>minority</th>\n",
       "      <td>0.143476</td>\n",
       "      <td>0.510606</td>\n",
       "      <td>0.210049</td>\n",
       "      <td>0.117520</td>\n",
       "      <td>0.966542</td>\n",
       "      <td>0.012247</td>\n",
       "      <td>0.968987</td>\n",
       "      <td>20540.0</td>\n",
       "    </tr>\n",
       "  </tbody>\n",
       "</table>\n",
       "</div>"
      ],
      "text/plain": [
       "          accuracy  balanced accuracy        f1  precision  \\\n",
       "majmin                                                       \n",
       "majority  0.240104           0.542122  0.248857   0.143122   \n",
       "minority  0.143476           0.510606  0.210049   0.117520   \n",
       "\n",
       "          false positive rate  false negative rate  selection rate    count  \n",
       "majmin                                                                       \n",
       "majority             0.868382             0.047374        0.879514  69170.0  \n",
       "minority             0.966542             0.012247        0.968987  20540.0  "
      ]
     },
     "execution_count": 68,
     "metadata": {},
     "output_type": "execute_result"
    }
   ],
   "source": [
    "metric_frame.by_group"
   ]
  },
  {
   "cell_type": "code",
   "execution_count": 69,
   "id": "a9ddbe63",
   "metadata": {
    "execution": {
     "iopub.execute_input": "2025-07-28T11:03:59.256117Z",
     "iopub.status.busy": "2025-07-28T11:03:59.255040Z",
     "iopub.status.idle": "2025-07-28T11:04:01.914041Z",
     "shell.execute_reply": "2025-07-28T11:04:01.913253Z"
    },
    "papermill": {
     "duration": 2.692035,
     "end_time": "2025-07-28T11:04:01.916137",
     "exception": false,
     "start_time": "2025-07-28T11:03:59.224102",
     "status": "completed"
    },
    "tags": []
   },
   "outputs": [
    {
     "data": {
      "text/plain": [
       "array([[<Axes: title={'center': 'accuracy'}, xlabel='majmin'>,\n",
       "        <Axes: title={'center': 'balanced accuracy'}, xlabel='majmin'>,\n",
       "        <Axes: title={'center': 'f1'}, xlabel='majmin'>],\n",
       "       [<Axes: title={'center': 'precision'}, xlabel='majmin'>,\n",
       "        <Axes: title={'center': 'false positive rate'}, xlabel='majmin'>,\n",
       "        <Axes: title={'center': 'false negative rate'}, xlabel='majmin'>],\n",
       "       [<Axes: title={'center': 'selection rate'}, xlabel='majmin'>,\n",
       "        <Axes: title={'center': 'count'}, xlabel='majmin'>,\n",
       "        <Axes: xlabel='majmin'>]], dtype=object)"
      ]
     },
     "execution_count": 69,
     "metadata": {},
     "output_type": "execute_result"
    },
    {
     "data": {
      "image/png": "[encoded data removed]",
      "text/plain": [
       "<Figure size 1200x800 with 9 Axes>"
      ]
     },
     "metadata": {},
     "output_type": "display_data"
    }
   ],
   "source": [
    "# In a graphic\n",
    "metric_frame.by_group.plot.bar(\n",
    "    subplots=True,\n",
    "    layout=[3, 3],\n",
    "    legend=False,\n",
    "    figsize=[12, 8],\n",
    "    title=\"Show all metrics\",\n",
    ")"
   ]
  },
  {
   "cell_type": "markdown",
   "id": "f57a0bac",
   "metadata": {
    "papermill": {
     "duration": 0.041428,
     "end_time": "2025-07-28T11:04:01.999362",
     "exception": false,
     "start_time": "2025-07-28T11:04:01.957934",
     "status": "completed"
    },
    "tags": []
   },
   "source": [
    "# Final Output"
   ]
  },
  {
   "cell_type": "code",
   "execution_count": 70,
   "id": "96d280a3",
   "metadata": {
    "execution": {
     "iopub.execute_input": "2025-07-28T11:04:02.085780Z",
     "iopub.status.busy": "2025-07-28T11:04:02.085277Z",
     "iopub.status.idle": "2025-07-28T11:04:02.093819Z",
     "shell.execute_reply": "2025-07-28T11:04:02.092807Z"
    },
    "papermill": {
     "duration": 0.053248,
     "end_time": "2025-07-28T11:04:02.096026",
     "exception": false,
     "start_time": "2025-07-28T11:04:02.042778",
     "status": "completed"
    },
    "tags": []
   },
   "outputs": [
    {
     "data": {
      "text/plain": [
       "4"
      ]
     },
     "execution_count": 70,
     "metadata": {},
     "output_type": "execute_result"
    }
   ],
   "source": [
    "sub_universes = universe_analysis.generate_sub_universes()\n",
    "len(sub_universes)"
   ]
  },
  {
   "cell_type": "code",
   "execution_count": 71,
   "id": "92adf7ba",
   "metadata": {
    "execution": {
     "iopub.execute_input": "2025-07-28T11:04:02.179737Z",
     "iopub.status.busy": "2025-07-28T11:04:02.179181Z",
     "iopub.status.idle": "2025-07-28T11:04:02.186764Z",
     "shell.execute_reply": "2025-07-28T11:04:02.185563Z"
    },
    "papermill": {
     "duration": 0.052109,
     "end_time": "2025-07-28T11:04:02.189047",
     "exception": false,
     "start_time": "2025-07-28T11:04:02.136938",
     "status": "completed"
    },
    "tags": []
   },
   "outputs": [],
   "source": [
    "def filter_sub_universe_data(sub_universe, org_test):\n",
    "    # Keep all rows — no filtering\n",
    "    keep_rows_mask = np.ones(org_test.shape[0], dtype=bool)\n",
    "\n",
    "    print(f\"[INFO] Keeping all rows: {keep_rows_mask.sum()} rows retained.\")\n",
    "    return keep_rows_mask"
   ]
  },
  {
   "cell_type": "code",
   "execution_count": 72,
   "id": "4a759155",
   "metadata": {
    "execution": {
     "iopub.execute_input": "2025-07-28T11:04:02.274347Z",
     "iopub.status.busy": "2025-07-28T11:04:02.273280Z",
     "iopub.status.idle": "2025-07-28T11:04:12.922320Z",
     "shell.execute_reply": "2025-07-28T11:04:12.921157Z"
    },
    "papermill": {
     "duration": 10.693776,
     "end_time": "2025-07-28T11:04:12.924096",
     "exception": false,
     "start_time": "2025-07-28T11:04:02.230320",
     "status": "completed"
    },
    "tags": []
   },
   "outputs": [
    {
     "name": "stdout",
     "output_type": "stream",
     "text": [
      "Stopping execution_time clock.\n",
      "[INFO] Keeping all rows: 89710 rows retained.\n"
     ]
    },
    {
     "name": "stdout",
     "output_type": "stream",
     "text": [
      "[INFO] Keeping all rows: 89710 rows retained.\n"
     ]
    },
    {
     "name": "stdout",
     "output_type": "stream",
     "text": [
      "[INFO] Keeping all rows: 89710 rows retained.\n"
     ]
    },
    {
     "name": "stdout",
     "output_type": "stream",
     "text": [
      "[INFO] Keeping all rows: 89710 rows retained.\n"
     ]
    },
    {
     "data": {
      "text/html": [
       "<div>\n",
       "<style scoped>\n",
       "    .dataframe tbody tr th:only-of-type {\n",
       "        vertical-align: middle;\n",
       "    }\n",
       "\n",
       "    .dataframe tbody tr th {\n",
       "        vertical-align: top;\n",
       "    }\n",
       "\n",
       "    .dataframe thead th {\n",
       "        text-align: right;\n",
       "    }\n",
       "</style>\n",
       "<table border=\"1\" class=\"dataframe\">\n",
       "  <thead>\n",
       "    <tr style=\"text-align: right;\">\n",
       "      <th></th>\n",
       "      <th>run_no</th>\n",
       "      <th>universe_id</th>\n",
       "      <th>universe_settings</th>\n",
       "      <th>execution_time</th>\n",
       "      <th>test_size_n</th>\n",
       "      <th>test_size_frac</th>\n",
       "      <th>fair_main_equalized_odds_difference</th>\n",
       "      <th>fair_main_equalized_odds_ratio</th>\n",
       "      <th>fair_main_demographic_parity_difference</th>\n",
       "      <th>fair_main_demographic_parity_ratio</th>\n",
       "      <th>...</th>\n",
       "      <th>perf_grp_precision_0</th>\n",
       "      <th>perf_grp_precision_1</th>\n",
       "      <th>perf_grp_false positive rate_0</th>\n",
       "      <th>perf_grp_false positive rate_1</th>\n",
       "      <th>perf_grp_false negative rate_0</th>\n",
       "      <th>perf_grp_false negative rate_1</th>\n",
       "      <th>perf_grp_selection rate_0</th>\n",
       "      <th>perf_grp_selection rate_1</th>\n",
       "      <th>perf_grp_count_0</th>\n",
       "      <th>perf_grp_count_1</th>\n",
       "    </tr>\n",
       "  </thead>\n",
       "  <tbody>\n",
       "    <tr>\n",
       "      <th>0</th>\n",
       "      <td>11</td>\n",
       "      <td>247e61d34f5ed0eb37f0f301fb56c1f9</td>\n",
       "      <td>{\"cutoff\": \"quantile_0.1\", \"eval_fairness_grou...</td>\n",
       "      <td>32.087814</td>\n",
       "      <td>89710</td>\n",
       "      <td>1.0</td>\n",
       "      <td>0.098159</td>\n",
       "      <td>0.898443</td>\n",
       "      <td>0.089473</td>\n",
       "      <td>0.907663</td>\n",
       "      <td>...</td>\n",
       "      <td>NaN</td>\n",
       "      <td>NaN</td>\n",
       "      <td>NaN</td>\n",
       "      <td>NaN</td>\n",
       "      <td>NaN</td>\n",
       "      <td>NaN</td>\n",
       "      <td>NaN</td>\n",
       "      <td>NaN</td>\n",
       "      <td>NaN</td>\n",
       "      <td>NaN</td>\n",
       "    </tr>\n",
       "    <tr>\n",
       "      <th>0</th>\n",
       "      <td>11</td>\n",
       "      <td>247e61d34f5ed0eb37f0f301fb56c1f9</td>\n",
       "      <td>{\"cutoff\": \"quantile_0.1\", \"eval_fairness_grou...</td>\n",
       "      <td>32.087814</td>\n",
       "      <td>89710</td>\n",
       "      <td>1.0</td>\n",
       "      <td>0.098159</td>\n",
       "      <td>0.898443</td>\n",
       "      <td>0.089473</td>\n",
       "      <td>0.907663</td>\n",
       "      <td>...</td>\n",
       "      <td>0.117520</td>\n",
       "      <td>0.143122</td>\n",
       "      <td>0.966542</td>\n",
       "      <td>0.868382</td>\n",
       "      <td>0.012247</td>\n",
       "      <td>0.047374</td>\n",
       "      <td>0.968987</td>\n",
       "      <td>0.879514</td>\n",
       "      <td>20540.0</td>\n",
       "      <td>69170.0</td>\n",
       "    </tr>\n",
       "    <tr>\n",
       "      <th>0</th>\n",
       "      <td>11</td>\n",
       "      <td>247e61d34f5ed0eb37f0f301fb56c1f9</td>\n",
       "      <td>{\"cutoff\": \"quantile_0.25\", \"eval_fairness_gro...</td>\n",
       "      <td>32.087814</td>\n",
       "      <td>89710</td>\n",
       "      <td>1.0</td>\n",
       "      <td>0.215230</td>\n",
       "      <td>0.759579</td>\n",
       "      <td>0.196949</td>\n",
       "      <td>0.781617</td>\n",
       "      <td>...</td>\n",
       "      <td>NaN</td>\n",
       "      <td>NaN</td>\n",
       "      <td>NaN</td>\n",
       "      <td>NaN</td>\n",
       "      <td>NaN</td>\n",
       "      <td>NaN</td>\n",
       "      <td>NaN</td>\n",
       "      <td>NaN</td>\n",
       "      <td>NaN</td>\n",
       "      <td>NaN</td>\n",
       "    </tr>\n",
       "    <tr>\n",
       "      <th>0</th>\n",
       "      <td>11</td>\n",
       "      <td>247e61d34f5ed0eb37f0f301fb56c1f9</td>\n",
       "      <td>{\"cutoff\": \"quantile_0.25\", \"eval_fairness_gro...</td>\n",
       "      <td>32.087814</td>\n",
       "      <td>89710</td>\n",
       "      <td>1.0</td>\n",
       "      <td>0.215230</td>\n",
       "      <td>0.759579</td>\n",
       "      <td>0.196949</td>\n",
       "      <td>0.781617</td>\n",
       "      <td>...</td>\n",
       "      <td>0.121788</td>\n",
       "      <td>0.162804</td>\n",
       "      <td>0.895223</td>\n",
       "      <td>0.679993</td>\n",
       "      <td>0.047297</td>\n",
       "      <td>0.131510</td>\n",
       "      <td>0.901850</td>\n",
       "      <td>0.704901</td>\n",
       "      <td>20540.0</td>\n",
       "      <td>69170.0</td>\n",
       "    </tr>\n",
       "  </tbody>\n",
       "</table>\n",
       "<p>4 rows × 50 columns</p>\n",
       "</div>"
      ],
      "text/plain": [
       "  run_no                       universe_id  \\\n",
       "0     11  247e61d34f5ed0eb37f0f301fb56c1f9   \n",
       "0     11  247e61d34f5ed0eb37f0f301fb56c1f9   \n",
       "0     11  247e61d34f5ed0eb37f0f301fb56c1f9   \n",
       "0     11  247e61d34f5ed0eb37f0f301fb56c1f9   \n",
       "\n",
       "                                   universe_settings  execution_time  \\\n",
       "0  {\"cutoff\": \"quantile_0.1\", \"eval_fairness_grou...       32.087814   \n",
       "0  {\"cutoff\": \"quantile_0.1\", \"eval_fairness_grou...       32.087814   \n",
       "0  {\"cutoff\": \"quantile_0.25\", \"eval_fairness_gro...       32.087814   \n",
       "0  {\"cutoff\": \"quantile_0.25\", \"eval_fairness_gro...       32.087814   \n",
       "\n",
       "   test_size_n  test_size_frac  fair_main_equalized_odds_difference  \\\n",
       "0        89710             1.0                             0.098159   \n",
       "0        89710             1.0                             0.098159   \n",
       "0        89710             1.0                             0.215230   \n",
       "0        89710             1.0                             0.215230   \n",
       "\n",
       "   fair_main_equalized_odds_ratio  fair_main_demographic_parity_difference  \\\n",
       "0                        0.898443                                 0.089473   \n",
       "0                        0.898443                                 0.089473   \n",
       "0                        0.759579                                 0.196949   \n",
       "0                        0.759579                                 0.196949   \n",
       "\n",
       "   fair_main_demographic_parity_ratio  ...  perf_grp_precision_0  \\\n",
       "0                            0.907663  ...                   NaN   \n",
       "0                            0.907663  ...              0.117520   \n",
       "0                            0.781617  ...                   NaN   \n",
       "0                            0.781617  ...              0.121788   \n",
       "\n",
       "   perf_grp_precision_1  perf_grp_false positive rate_0  \\\n",
       "0                   NaN                             NaN   \n",
       "0              0.143122                        0.966542   \n",
       "0                   NaN                             NaN   \n",
       "0              0.162804                        0.895223   \n",
       "\n",
       "   perf_grp_false positive rate_1  perf_grp_false negative rate_0  \\\n",
       "0                             NaN                             NaN   \n",
       "0                        0.868382                        0.012247   \n",
       "0                             NaN                             NaN   \n",
       "0                        0.679993                        0.047297   \n",
       "\n",
       "   perf_grp_false negative rate_1  perf_grp_selection rate_0  \\\n",
       "0                             NaN                        NaN   \n",
       "0                        0.047374                   0.968987   \n",
       "0                             NaN                        NaN   \n",
       "0                        0.131510                   0.901850   \n",
       "\n",
       "   perf_grp_selection rate_1  perf_grp_count_0  perf_grp_count_1  \n",
       "0                        NaN               NaN               NaN  \n",
       "0                   0.879514           20540.0           69170.0  \n",
       "0                        NaN               NaN               NaN  \n",
       "0                   0.704901           20540.0           69170.0  \n",
       "\n",
       "[4 rows x 50 columns]"
      ]
     },
     "execution_count": 72,
     "metadata": {},
     "output_type": "execute_result"
    }
   ],
   "source": [
    "final_output = universe_analysis.generate_final_output(\n",
    "    y_pred_prob=probs_test,\n",
    "    y_test=y_true,\n",
    "    org_test=org_test,\n",
    "    filter_data=filter_sub_universe_data,\n",
    "    cp_metrics_df=cp_metrics_df,\n",
    "    save=True,\n",
    ")\n",
    "final_output"
   ]
  },
  {
   "cell_type": "code",
   "execution_count": null,
   "id": "721ff514-cb11-46f8-b6fc-50392f74b5cb",
   "metadata": {
    "papermill": {
     "duration": 0.030908,
     "end_time": "2025-07-28T11:04:12.989806",
     "exception": false,
     "start_time": "2025-07-28T11:04:12.958898",
     "status": "completed"
    },
    "tags": []
   },
   "outputs": [],
   "source": []
  }
 ],
 "metadata": {
  "celltoolbar": "Tags",
  "kernelspec": {
   "display_name": "Python (CMA Fairness)",
   "language": "python",
   "name": "cma_fair_env"
  },
  "language_info": {
   "codemirror_mode": {
    "name": "ipython",
    "version": 3
   },
   "file_extension": ".py",
   "mimetype": "text/x-python",
   "name": "python",
   "nbconvert_exporter": "python",
   "pygments_lexer": "ipython3",
   "version": "3.10.12"
  },
  "papermill": {
   "default_parameters": {},
   "duration": 47.098902,
   "end_time": "2025-07-28T11:04:13.941765",
   "environment_variables": {},
   "exception": null,
   "input_path": "universe_analysis.ipynb",
   "output_path": "output/runs/11/notebooks/m_11-247e61d34f5ed0eb37f0f301fb56c1f9.ipynb",
   "parameters": {
    "output_dir": "output",
    "run_no": "11",
    "seed": "2023",
    "universe": "{\"cutoff\": [\"quantile_0.1\", \"quantile_0.25\"], \"eval_fairness_grouping\": [\"majority-minority\", \"nationality-all\"], \"exclude_features\": \"nationality-sex\", \"exclude_subgroups\": \"keep-all\", \"model\": \"logreg\", \"scale\": \"do-not-scale\", \"training_size\": \"2014\"}",
    "universe_id": "247e61d34f5ed0eb37f0f301fb56c1f9"
   },
   "start_time": "2025-07-28T11:03:26.842863",
   "version": "2.6.0"
  }
 },
 "nbformat": 4,
 "nbformat_minor": 5
}