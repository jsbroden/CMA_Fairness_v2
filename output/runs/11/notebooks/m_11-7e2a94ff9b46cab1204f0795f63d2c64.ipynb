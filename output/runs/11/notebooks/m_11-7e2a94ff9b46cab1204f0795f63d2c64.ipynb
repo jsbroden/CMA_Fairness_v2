{
 "cells": [
  {
   "cell_type": "code",
   "execution_count": 1,
   "id": "f159f837-637b-42ba-96b5-ec9a68c44524",
   "metadata": {
    "execution": {
     "iopub.execute_input": "2025-07-28T10:25:52.925940Z",
     "iopub.status.busy": "2025-07-28T10:25:52.925159Z",
     "iopub.status.idle": "2025-07-28T10:25:52.938566Z",
     "shell.execute_reply": "2025-07-28T10:25:52.937726Z"
    },
    "papermill": {
     "duration": 0.043316,
     "end_time": "2025-07-28T10:25:52.940312",
     "exception": false,
     "start_time": "2025-07-28T10:25:52.896996",
     "status": "completed"
    },
    "tags": []
   },
   "outputs": [
    {
     "name": "stdout",
     "output_type": "stream",
     "text": [
      "/dss/dsshome1/0C/ra93lal2/cma/CMA_Fairness_v2\n"
     ]
    },
    {
     "name": "stderr",
     "output_type": "stream",
     "text": [
      "/dss/dsshome1/0C/ra93lal2/.local/share/virtualenvs/CMA_Fairness_v2-3j10GkSs/lib/python3.10/site-packages/IPython/core/magics/osm.py:393: UserWarning: This is now an optional IPython functionality, using bookmarks requires you to install the `pickleshare` library.\n",
      "  bkms = self.shell.db.get('bookmarks', {})\n",
      "/dss/dsshome1/0C/ra93lal2/.local/share/virtualenvs/CMA_Fairness_v2-3j10GkSs/lib/python3.10/site-packages/IPython/core/magics/osm.py:417: UserWarning: This is now an optional IPython functionality, setting dhist requires you to install the `pickleshare` library.\n",
      "  self.shell.db['dhist'] = compress_dhist(dhist)[-100:]\n"
     ]
    }
   ],
   "source": [
    "%cd ~/cma/CMA_Fairness_v2"
   ]
  },
  {
   "cell_type": "markdown",
   "id": "de2603b9",
   "metadata": {
    "papermill": {
     "duration": 0.0213,
     "end_time": "2025-07-28T10:25:52.983146",
     "exception": false,
     "start_time": "2025-07-28T10:25:52.961846",
     "status": "completed"
    },
    "tags": []
   },
   "source": [
    "The following cell holds the definition of our parameters, these values can be overriden by rendering the with e.g. the following command:\n",
    "\n",
    "papermill -p alpha 0.2 -p ratio 0.3 universe_analysis.ipynb output/test_run.ipynb"
   ]
  },
  {
   "cell_type": "code",
   "execution_count": 2,
   "id": "a80968a0-40bb-4fa9-85ef-2d5eefb01975",
   "metadata": {
    "execution": {
     "iopub.execute_input": "2025-07-28T10:25:53.027393Z",
     "iopub.status.busy": "2025-07-28T10:25:53.026707Z",
     "iopub.status.idle": "2025-07-28T10:25:53.033035Z",
     "shell.execute_reply": "2025-07-28T10:25:53.031830Z"
    },
    "papermill": {
     "duration": 0.030298,
     "end_time": "2025-07-28T10:25:53.034709",
     "exception": false,
     "start_time": "2025-07-28T10:25:53.004411",
     "status": "completed"
    },
    "tags": []
   },
   "outputs": [
    {
     "name": "stdout",
     "output_type": "stream",
     "text": [
      "Current working directory: /dss/dsshome1/0C/ra93lal2/cma/CMA_Fairness_v2\n"
     ]
    }
   ],
   "source": [
    "import os\n",
    "print(\"Current working directory:\", os.getcwd())"
   ]
  },
  {
   "cell_type": "code",
   "execution_count": 3,
   "id": "2dce4c03",
   "metadata": {
    "execution": {
     "iopub.execute_input": "2025-07-28T10:25:53.079906Z",
     "iopub.status.busy": "2025-07-28T10:25:53.079223Z",
     "iopub.status.idle": "2025-07-28T10:25:53.085952Z",
     "shell.execute_reply": "2025-07-28T10:25:53.085072Z"
    },
    "papermill": {
     "duration": 0.031167,
     "end_time": "2025-07-28T10:25:53.087634",
     "exception": false,
     "start_time": "2025-07-28T10:25:53.056467",
     "status": "completed"
    },
    "tags": [
     "parameters"
    ]
   },
   "outputs": [],
   "source": [
    "run_no = 0\n",
    "universe_id = \"test\"\n",
    "universe = {\n",
    "    \"training_size\": \"2014\", # \"25k\", \"5k\", \"1k\", \"2014\"\n",
    "    \"scale\": \"scale\", # \"scale\", \"do-not-scale\",\n",
    "    #\"stratify_split\": \"target\", # \"none\", \"target\", \"protected-attribute\", \"both\",\n",
    "    \"model\": \"elasticnet\", # \"logreg\", \"penalized_logreg\", \"rf\", \"gbm\", \"elasticnet\"\n",
    "    \"cutoff\": [\"quantile_0.15\", \"quantile_0.30\"],\n",
    "    \"exclude_features\": \"age\", # \"none\", \"nationality\", \"sex\", \"nationality-sex\", \"age\"\n",
    "    \"exclude_subgroups\": \"keep-all\", # \"keep-all\", \"drop-non-german\"\n",
    "    #\"training_sample\": \"restricted\", # \"restricted\", \"full\"\n",
    "    \"eval_fairness_grouping\": [\"majority-minority\", \"nationality-all\"]\n",
    "}\n",
    "\n",
    "output_dir=\"./output\"\n",
    "seed=0"
   ]
  },
  {
   "cell_type": "code",
   "execution_count": 4,
   "id": "53e93497",
   "metadata": {
    "execution": {
     "iopub.execute_input": "2025-07-28T10:25:53.132707Z",
     "iopub.status.busy": "2025-07-28T10:25:53.131992Z",
     "iopub.status.idle": "2025-07-28T10:25:53.137662Z",
     "shell.execute_reply": "2025-07-28T10:25:53.136717Z"
    },
    "papermill": {
     "duration": 0.030026,
     "end_time": "2025-07-28T10:25:53.139468",
     "exception": false,
     "start_time": "2025-07-28T10:25:53.109442",
     "status": "completed"
    },
    "tags": [
     "injected-parameters"
    ]
   },
   "outputs": [],
   "source": [
    "# Parameters\n",
    "universe_id = \"7e2a94ff9b46cab1204f0795f63d2c64\"\n",
    "run_no = \"11\"\n",
    "universe = \"{\\\"cutoff\\\": [\\\"quantile_0.1\\\", \\\"quantile_0.25\\\"], \\\"eval_fairness_grouping\\\": [\\\"majority-minority\\\", \\\"nationality-all\\\"], \\\"exclude_features\\\": \\\"age\\\", \\\"exclude_subgroups\\\": \\\"drop-non-german\\\", \\\"model\\\": \\\"elasticnet\\\", \\\"scale\\\": \\\"do-not-scale\\\", \\\"training_size\\\": \\\"25k\\\"}\"\n",
    "output_dir = \"output\"\n",
    "seed = \"2023\"\n"
   ]
  },
  {
   "cell_type": "code",
   "execution_count": 5,
   "id": "1650acaf",
   "metadata": {
    "execution": {
     "iopub.execute_input": "2025-07-28T10:25:53.183085Z",
     "iopub.status.busy": "2025-07-28T10:25:53.182386Z",
     "iopub.status.idle": "2025-07-28T10:25:53.187738Z",
     "shell.execute_reply": "2025-07-28T10:25:53.186863Z"
    },
    "papermill": {
     "duration": 0.028901,
     "end_time": "2025-07-28T10:25:53.189508",
     "exception": false,
     "start_time": "2025-07-28T10:25:53.160607",
     "status": "completed"
    },
    "tags": []
   },
   "outputs": [],
   "source": [
    "import json\n",
    "# Parse universe into dict if it is passed as a string\n",
    "if isinstance(universe, str):\n",
    "    universe = json.loads(universe)"
   ]
  },
  {
   "cell_type": "code",
   "execution_count": 6,
   "id": "16620c48",
   "metadata": {
    "execution": {
     "iopub.execute_input": "2025-07-28T10:25:53.230849Z",
     "iopub.status.busy": "2025-07-28T10:25:53.230190Z",
     "iopub.status.idle": "2025-07-28T10:25:53.279417Z",
     "shell.execute_reply": "2025-07-28T10:25:53.278420Z"
    },
    "papermill": {
     "duration": 0.07254,
     "end_time": "2025-07-28T10:25:53.281490",
     "exception": false,
     "start_time": "2025-07-28T10:25:53.208950",
     "status": "completed"
    },
    "tags": []
   },
   "outputs": [],
   "source": [
    "# Auto-reload the custom package\n",
    "%load_ext autoreload\n",
    "%autoreload 1\n",
    "%aimport fairness_multiverse"
   ]
  },
  {
   "cell_type": "code",
   "execution_count": 7,
   "id": "01c5c9f3",
   "metadata": {
    "execution": {
     "iopub.execute_input": "2025-07-28T10:25:53.319783Z",
     "iopub.status.busy": "2025-07-28T10:25:53.318957Z",
     "iopub.status.idle": "2025-07-28T10:25:55.185208Z",
     "shell.execute_reply": "2025-07-28T10:25:55.184105Z"
    },
    "papermill": {
     "duration": 1.887726,
     "end_time": "2025-07-28T10:25:55.187530",
     "exception": false,
     "start_time": "2025-07-28T10:25:53.299804",
     "status": "completed"
    },
    "tags": []
   },
   "outputs": [],
   "source": [
    "from fairness_multiverse.universe import UniverseAnalysis\n",
    "\n",
    "universe_analysis = UniverseAnalysis(\n",
    "    run_no = run_no,\n",
    "    universe_id = universe_id,\n",
    "    universe = universe,\n",
    "    output_dir=output_dir,\n",
    ")"
   ]
  },
  {
   "cell_type": "code",
   "execution_count": 8,
   "id": "106241f5",
   "metadata": {
    "execution": {
     "iopub.execute_input": "2025-07-28T10:25:55.230393Z",
     "iopub.status.busy": "2025-07-28T10:25:55.229718Z",
     "iopub.status.idle": "2025-07-28T10:25:55.236198Z",
     "shell.execute_reply": "2025-07-28T10:25:55.235304Z"
    },
    "papermill": {
     "duration": 0.029405,
     "end_time": "2025-07-28T10:25:55.237838",
     "exception": false,
     "start_time": "2025-07-28T10:25:55.208433",
     "status": "completed"
    },
    "tags": []
   },
   "outputs": [
    {
     "name": "stdout",
     "output_type": "stream",
     "text": [
      "Using Seed: 2023\n"
     ]
    }
   ],
   "source": [
    "import numpy as np\n",
    "parsed_seed = int(seed)\n",
    "np.random.seed(parsed_seed)\n",
    "print(f\"Using Seed: {parsed_seed}\")"
   ]
  },
  {
   "cell_type": "markdown",
   "id": "e0ebdc57",
   "metadata": {
    "papermill": {
     "duration": 0.021566,
     "end_time": "2025-07-28T10:25:55.280404",
     "exception": false,
     "start_time": "2025-07-28T10:25:55.258838",
     "status": "completed"
    },
    "tags": []
   },
   "source": [
    "# Loading Data"
   ]
  },
  {
   "cell_type": "markdown",
   "id": "681925a3",
   "metadata": {
    "papermill": {
     "duration": 0.020012,
     "end_time": "2025-07-28T10:25:55.324634",
     "exception": false,
     "start_time": "2025-07-28T10:25:55.304622",
     "status": "completed"
    },
    "tags": []
   },
   "source": [
    "Load siab_train, siab_test, siab_calib and/or \n",
    "load siab_train_features, siab_train_labels"
   ]
  },
  {
   "cell_type": "code",
   "execution_count": 9,
   "id": "f0496b8a",
   "metadata": {
    "execution": {
     "iopub.execute_input": "2025-07-28T10:25:55.366240Z",
     "iopub.status.busy": "2025-07-28T10:25:55.365301Z",
     "iopub.status.idle": "2025-07-28T10:26:07.829729Z",
     "shell.execute_reply": "2025-07-28T10:26:07.828625Z"
    },
    "papermill": {
     "duration": 12.486475,
     "end_time": "2025-07-28T10:26:07.831521",
     "exception": false,
     "start_time": "2025-07-28T10:25:55.345046",
     "status": "completed"
    },
    "tags": []
   },
   "outputs": [
    {
     "name": "stdout",
     "output_type": "stream",
     "text": [
      "Loading SIAB data from cache: data/siab_cached.csv.gz\n"
     ]
    },
    {
     "name": "stdout",
     "output_type": "stream",
     "text": [
      "(643690, 164)\n"
     ]
    }
   ],
   "source": [
    "from pathlib import Path\n",
    "import pandas as pd\n",
    "\n",
    "# File paths\n",
    "raw_file = Path(\"data/raw/siab.csv\")\n",
    "cache_file = Path(\"data/siab_cached.csv.gz\")\n",
    "\n",
    "# Ensure cache directory exists\n",
    "cache_file.parent.mkdir(parents=True, exist_ok=True)\n",
    "\n",
    "# Load with simple caching\n",
    "if cache_file.exists():\n",
    "    print(f\"Loading SIAB data from cache: {cache_file}\")\n",
    "    siab = pd.read_csv(cache_file, compression='gzip')\n",
    "else:\n",
    "    print(f\"Cache not found. Reading raw SIAB data: {raw_file}\")\n",
    "    siab = pd.read_csv(raw_file)\n",
    "    siab.to_csv(cache_file, index=False, compression='gzip')\n",
    "    print(f\"Cached SIAB data to: {cache_file}\")\n",
    "\n",
    "# Now use `siab` DataFrame as needed\n",
    "print(siab.shape)"
   ]
  },
  {
   "cell_type": "code",
   "execution_count": 10,
   "id": "db0ca512-5f53-4dba-abdb-a2888bca41ba",
   "metadata": {
    "execution": {
     "iopub.execute_input": "2025-07-28T10:26:07.872984Z",
     "iopub.status.busy": "2025-07-28T10:26:07.872465Z",
     "iopub.status.idle": "2025-07-28T10:26:07.878201Z",
     "shell.execute_reply": "2025-07-28T10:26:07.877310Z"
    },
    "papermill": {
     "duration": 0.026869,
     "end_time": "2025-07-28T10:26:07.879732",
     "exception": false,
     "start_time": "2025-07-28T10:26:07.852863",
     "status": "completed"
    },
    "tags": []
   },
   "outputs": [],
   "source": [
    "#siab"
   ]
  },
  {
   "cell_type": "code",
   "execution_count": 11,
   "id": "a0edb063",
   "metadata": {
    "execution": {
     "iopub.execute_input": "2025-07-28T10:26:07.918858Z",
     "iopub.status.busy": "2025-07-28T10:26:07.918174Z",
     "iopub.status.idle": "2025-07-28T10:26:07.923214Z",
     "shell.execute_reply": "2025-07-28T10:26:07.922325Z"
    },
    "papermill": {
     "duration": 0.026138,
     "end_time": "2025-07-28T10:26:07.924912",
     "exception": false,
     "start_time": "2025-07-28T10:26:07.898774",
     "status": "completed"
    },
    "tags": []
   },
   "outputs": [],
   "source": [
    "#import pandas as pd\n",
    "#\n",
    "#X_train = pd.read_csv(\"./data/X_train.csv\")\n",
    "#y_train = pd.read_csv(\"./data/y_train.csv\")"
   ]
  },
  {
   "cell_type": "code",
   "execution_count": 12,
   "id": "63d08085",
   "metadata": {
    "execution": {
     "iopub.execute_input": "2025-07-28T10:26:07.963618Z",
     "iopub.status.busy": "2025-07-28T10:26:07.962938Z",
     "iopub.status.idle": "2025-07-28T10:26:07.967923Z",
     "shell.execute_reply": "2025-07-28T10:26:07.967044Z"
    },
    "papermill": {
     "duration": 0.025939,
     "end_time": "2025-07-28T10:26:07.969591",
     "exception": false,
     "start_time": "2025-07-28T10:26:07.943652",
     "status": "completed"
    },
    "tags": []
   },
   "outputs": [],
   "source": [
    "#X_test = pd.read_csv(\"./data/X_test.csv\")\n",
    "#y_true = pd.read_csv(\"./data/y_test.csv\")"
   ]
  },
  {
   "cell_type": "code",
   "execution_count": 13,
   "id": "98a8d0fa-1d3d-4ed8-bb2c-281470e24add",
   "metadata": {
    "execution": {
     "iopub.execute_input": "2025-07-28T10:26:08.008370Z",
     "iopub.status.busy": "2025-07-28T10:26:08.007677Z",
     "iopub.status.idle": "2025-07-28T10:26:08.013960Z",
     "shell.execute_reply": "2025-07-28T10:26:08.013045Z"
    },
    "papermill": {
     "duration": 0.027425,
     "end_time": "2025-07-28T10:26:08.015611",
     "exception": false,
     "start_time": "2025-07-28T10:26:07.988186",
     "status": "completed"
    },
    "tags": []
   },
   "outputs": [],
   "source": [
    "# Calibration data for conformal\n",
    "#X_calib = pd.read_csv(\"./data/X_calib.csv\")\n",
    "#y_calib = pd.read_csv(\"./data/y_calib.csv\")"
   ]
  },
  {
   "cell_type": "markdown",
   "id": "9901737e-04df-44f0-9100-f5ad144ed040",
   "metadata": {
    "papermill": {
     "duration": 0.018628,
     "end_time": "2025-07-28T10:26:08.053501",
     "exception": false,
     "start_time": "2025-07-28T10:26:08.034873",
     "status": "completed"
    },
    "tags": []
   },
   "source": [
    "# Splitting Data and Setting Training Data Size"
   ]
  },
  {
   "cell_type": "code",
   "execution_count": 14,
   "id": "acbc8f7d-8fc8-4e86-8c59-5dcb0f58384b",
   "metadata": {
    "execution": {
     "iopub.execute_input": "2025-07-28T10:26:08.092261Z",
     "iopub.status.busy": "2025-07-28T10:26:08.091554Z",
     "iopub.status.idle": "2025-07-28T10:26:08.099911Z",
     "shell.execute_reply": "2025-07-28T10:26:08.098949Z"
    },
    "papermill": {
     "duration": 0.029518,
     "end_time": "2025-07-28T10:26:08.101556",
     "exception": false,
     "start_time": "2025-07-28T10:26:08.072038",
     "status": "completed"
    },
    "tags": []
   },
   "outputs": [],
   "source": [
    "def sample_by_year(df, training_size, random_state=42):\n",
    "    if training_size == \"2014\":\n",
    "        return df[df[\"year\"] == 2014].reset_index(drop=True)\n",
    "    \n",
    "    size_map = {\n",
    "        \"25k\": 5000,\n",
    "        \"5k\": 1000,\n",
    "        \"1k\": 200\n",
    "    }\n",
    "\n",
    "    if training_size not in size_map:\n",
    "        return df.reset_index(drop=True)  # use all data\n",
    "\n",
    "    n_per_year = size_map[training_size]\n",
    "    grouped = df.groupby(\"year\")\n",
    "    sampled = grouped.apply(lambda x: x.sample(n=min(n_per_year, len(x)), random_state=random_state))\n",
    "    return sampled.reset_index(drop=True)"
   ]
  },
  {
   "cell_type": "code",
   "execution_count": 15,
   "id": "6d931f52-beaf-43ff-9e78-9d44a448d54e",
   "metadata": {
    "execution": {
     "iopub.execute_input": "2025-07-28T10:26:08.141247Z",
     "iopub.status.busy": "2025-07-28T10:26:08.140598Z",
     "iopub.status.idle": "2025-07-28T10:26:08.922346Z",
     "shell.execute_reply": "2025-07-28T10:26:08.921405Z"
    },
    "papermill": {
     "duration": 0.803626,
     "end_time": "2025-07-28T10:26:08.924213",
     "exception": false,
     "start_time": "2025-07-28T10:26:08.120587",
     "status": "completed"
    },
    "tags": []
   },
   "outputs": [],
   "source": [
    "siab_s = sample_by_year(siab, universe[\"training_size\"])"
   ]
  },
  {
   "cell_type": "code",
   "execution_count": 16,
   "id": "5db0a40e-a4e2-4920-be85-b12ae061d70d",
   "metadata": {
    "execution": {
     "iopub.execute_input": "2025-07-28T10:26:08.964439Z",
     "iopub.status.busy": "2025-07-28T10:26:08.963732Z",
     "iopub.status.idle": "2025-07-28T10:26:08.977894Z",
     "shell.execute_reply": "2025-07-28T10:26:08.976810Z"
    },
    "papermill": {
     "duration": 0.035889,
     "end_time": "2025-07-28T10:26:08.979609",
     "exception": false,
     "start_time": "2025-07-28T10:26:08.943720",
     "status": "completed"
    },
    "tags": []
   },
   "outputs": [
    {
     "data": {
      "text/plain": [
       "year\n",
       "2010    5000\n",
       "2011    5000\n",
       "2012    5000\n",
       "2013    5000\n",
       "2014    5000\n",
       "2015    5000\n",
       "2016    5000\n",
       "dtype: int64"
      ]
     },
     "metadata": {},
     "output_type": "display_data"
    }
   ],
   "source": [
    "display(siab_s.groupby(\"year\").size())"
   ]
  },
  {
   "cell_type": "code",
   "execution_count": 17,
   "id": "a561edb4-d032-42cb-8256-22eac1111c64",
   "metadata": {
    "execution": {
     "iopub.execute_input": "2025-07-28T10:26:09.020555Z",
     "iopub.status.busy": "2025-07-28T10:26:09.019850Z",
     "iopub.status.idle": "2025-07-28T10:26:09.284194Z",
     "shell.execute_reply": "2025-07-28T10:26:09.283224Z"
    },
    "papermill": {
     "duration": 0.286916,
     "end_time": "2025-07-28T10:26:09.286223",
     "exception": false,
     "start_time": "2025-07-28T10:26:08.999307",
     "status": "completed"
    },
    "tags": []
   },
   "outputs": [],
   "source": [
    "siab_train = siab_s[siab_s.year < 2015]\n",
    "siab_calib = siab[siab.year == 2015]\n",
    "siab_test = siab[siab.year == 2016]"
   ]
  },
  {
   "cell_type": "code",
   "execution_count": 18,
   "id": "472de16f-c3db-4916-846b-1f0de9cf1746",
   "metadata": {
    "execution": {
     "iopub.execute_input": "2025-07-28T10:26:09.326605Z",
     "iopub.status.busy": "2025-07-28T10:26:09.325896Z",
     "iopub.status.idle": "2025-07-28T10:26:09.340691Z",
     "shell.execute_reply": "2025-07-28T10:26:09.339650Z"
    },
    "papermill": {
     "duration": 0.036758,
     "end_time": "2025-07-28T10:26:09.342446",
     "exception": false,
     "start_time": "2025-07-28T10:26:09.305688",
     "status": "completed"
    },
    "tags": []
   },
   "outputs": [],
   "source": [
    "X_train = siab_train.iloc[:,4:164]\n",
    "y_train = siab_train.iloc[:, [3]]"
   ]
  },
  {
   "cell_type": "code",
   "execution_count": 19,
   "id": "828c96af-f43a-4ed6-ba47-8ac73a47d56c",
   "metadata": {
    "execution": {
     "iopub.execute_input": "2025-07-28T10:26:09.382546Z",
     "iopub.status.busy": "2025-07-28T10:26:09.381843Z",
     "iopub.status.idle": "2025-07-28T10:26:09.433312Z",
     "shell.execute_reply": "2025-07-28T10:26:09.432274Z"
    },
    "papermill": {
     "duration": 0.073113,
     "end_time": "2025-07-28T10:26:09.434952",
     "exception": false,
     "start_time": "2025-07-28T10:26:09.361839",
     "status": "completed"
    },
    "tags": []
   },
   "outputs": [],
   "source": [
    "X_calib = siab_calib.iloc[:,4:164]\n",
    "y_calib = siab_calib.iloc[:, [3]]"
   ]
  },
  {
   "cell_type": "code",
   "execution_count": 20,
   "id": "c34be9c3-6bd6-476e-acd3-845840e303be",
   "metadata": {
    "execution": {
     "iopub.execute_input": "2025-07-28T10:26:09.475683Z",
     "iopub.status.busy": "2025-07-28T10:26:09.474759Z",
     "iopub.status.idle": "2025-07-28T10:26:09.526066Z",
     "shell.execute_reply": "2025-07-28T10:26:09.525106Z"
    },
    "papermill": {
     "duration": 0.073617,
     "end_time": "2025-07-28T10:26:09.528245",
     "exception": false,
     "start_time": "2025-07-28T10:26:09.454628",
     "status": "completed"
    },
    "tags": []
   },
   "outputs": [],
   "source": [
    "X_test = siab_test.iloc[:,4:164]\n",
    "y_true = siab_test.iloc[:, [3]]"
   ]
  },
  {
   "cell_type": "code",
   "execution_count": 21,
   "id": "e6c733c5",
   "metadata": {
    "execution": {
     "iopub.execute_input": "2025-07-28T10:26:09.569325Z",
     "iopub.status.busy": "2025-07-28T10:26:09.568585Z",
     "iopub.status.idle": "2025-07-28T10:26:09.673443Z",
     "shell.execute_reply": "2025-07-28T10:26:09.672455Z"
    },
    "papermill": {
     "duration": 0.127281,
     "end_time": "2025-07-28T10:26:09.675414",
     "exception": false,
     "start_time": "2025-07-28T10:26:09.548133",
     "status": "completed"
    },
    "tags": []
   },
   "outputs": [],
   "source": [
    "# Auxiliary data needed downstream in the pipeline\n",
    "\n",
    "org_train = X_train.copy()\n",
    "org_test = X_test.copy()\n",
    "org_calib = X_calib.copy()"
   ]
  },
  {
   "cell_type": "markdown",
   "id": "0a4a1b33",
   "metadata": {
    "papermill": {
     "duration": 0.019207,
     "end_time": "2025-07-28T10:26:09.714466",
     "exception": false,
     "start_time": "2025-07-28T10:26:09.695259",
     "status": "completed"
    },
    "tags": []
   },
   "source": [
    "# Preprocessing Data"
   ]
  },
  {
   "cell_type": "code",
   "execution_count": 22,
   "id": "ca879031",
   "metadata": {
    "execution": {
     "iopub.execute_input": "2025-07-28T10:26:09.755339Z",
     "iopub.status.busy": "2025-07-28T10:26:09.754645Z",
     "iopub.status.idle": "2025-07-28T10:26:09.760686Z",
     "shell.execute_reply": "2025-07-28T10:26:09.759782Z"
    },
    "papermill": {
     "duration": 0.028134,
     "end_time": "2025-07-28T10:26:09.762296",
     "exception": false,
     "start_time": "2025-07-28T10:26:09.734162",
     "status": "completed"
    },
    "tags": []
   },
   "outputs": [],
   "source": [
    "# EXCLUDE PROTECTED FEATURES\n",
    "# ----------------------\n",
    "# \"exclude_features\": \"none\", # \"nationality\", \"sex\", \"nationality-sex\"\n",
    "\n",
    "excluded_features = universe[\"exclude_features\"].split(\"-\") # split, e.g.: \"nationality-sex\" -> [\"nationality\", \"sex\"]\n",
    "excluded_features_dictionary = {\n",
    "    \"nationality\": [\"maxdeutsch1\", \"maxdeutsch.Missing.\"],\n",
    "    \"sex\": [\"frau1\"],\n",
    "    \"age\": [\"age\"],\n",
    "}\n"
   ]
  },
  {
   "cell_type": "code",
   "execution_count": 23,
   "id": "b745ac60",
   "metadata": {
    "execution": {
     "iopub.execute_input": "2025-07-28T10:26:09.803256Z",
     "iopub.status.busy": "2025-07-28T10:26:09.802539Z",
     "iopub.status.idle": "2025-07-28T10:26:09.808458Z",
     "shell.execute_reply": "2025-07-28T10:26:09.807538Z"
    },
    "papermill": {
     "duration": 0.02797,
     "end_time": "2025-07-28T10:26:09.809991",
     "exception": false,
     "start_time": "2025-07-28T10:26:09.782021",
     "status": "completed"
    },
    "tags": []
   },
   "outputs": [],
   "source": [
    "# Code nice names to column names\n",
    "\n",
    "excluded_features_columns = [\n",
    "    excluded_features_dictionary[f] for f in excluded_features if len(f) > 0 and f != \"none\"\n",
    "]"
   ]
  },
  {
   "cell_type": "code",
   "execution_count": 24,
   "id": "f84f73a2",
   "metadata": {
    "execution": {
     "iopub.execute_input": "2025-07-28T10:26:09.850973Z",
     "iopub.status.busy": "2025-07-28T10:26:09.850327Z",
     "iopub.status.idle": "2025-07-28T10:26:09.857009Z",
     "shell.execute_reply": "2025-07-28T10:26:09.856193Z"
    },
    "papermill": {
     "duration": 0.028604,
     "end_time": "2025-07-28T10:26:09.858550",
     "exception": false,
     "start_time": "2025-07-28T10:26:09.829946",
     "status": "completed"
    },
    "tags": []
   },
   "outputs": [],
   "source": [
    "from utils import flatten_once\n",
    "\n",
    "excluded_features_columns = flatten_once(excluded_features_columns)"
   ]
  },
  {
   "cell_type": "code",
   "execution_count": 25,
   "id": "884dea22",
   "metadata": {
    "execution": {
     "iopub.execute_input": "2025-07-28T10:26:09.899689Z",
     "iopub.status.busy": "2025-07-28T10:26:09.898997Z",
     "iopub.status.idle": "2025-07-28T10:26:09.914669Z",
     "shell.execute_reply": "2025-07-28T10:26:09.913640Z"
    },
    "papermill": {
     "duration": 0.037945,
     "end_time": "2025-07-28T10:26:09.916371",
     "exception": false,
     "start_time": "2025-07-28T10:26:09.878426",
     "status": "completed"
    },
    "tags": []
   },
   "outputs": [
    {
     "name": "stdout",
     "output_type": "stream",
     "text": [
      "Dropping features: ['age']\n"
     ]
    }
   ],
   "source": [
    "if len(excluded_features_columns) > 0:\n",
    "    print(f\"Dropping features: {excluded_features_columns}\")\n",
    "    X_train.drop(excluded_features_columns, axis=1, inplace=True)"
   ]
  },
  {
   "cell_type": "code",
   "execution_count": 26,
   "id": "95ab8b16",
   "metadata": {
    "execution": {
     "iopub.execute_input": "2025-07-28T10:26:09.958335Z",
     "iopub.status.busy": "2025-07-28T10:26:09.957645Z",
     "iopub.status.idle": "2025-07-28T10:26:10.013208Z",
     "shell.execute_reply": "2025-07-28T10:26:10.012218Z"
    },
    "papermill": {
     "duration": 0.077952,
     "end_time": "2025-07-28T10:26:10.014907",
     "exception": false,
     "start_time": "2025-07-28T10:26:09.936955",
     "status": "completed"
    },
    "tags": []
   },
   "outputs": [
    {
     "name": "stdout",
     "output_type": "stream",
     "text": [
      "Dropping features: ['age']\n"
     ]
    }
   ],
   "source": [
    "if len(excluded_features_columns) > 0:\n",
    "    print(f\"Dropping features: {excluded_features_columns}\")\n",
    "    X_test.drop(excluded_features_columns, axis=1, inplace=True)"
   ]
  },
  {
   "cell_type": "code",
   "execution_count": 27,
   "id": "1853aaf5-fb9f-46cb-a2b5-8ea4ae2237e4",
   "metadata": {
    "execution": {
     "iopub.execute_input": "2025-07-28T10:26:10.056713Z",
     "iopub.status.busy": "2025-07-28T10:26:10.055996Z",
     "iopub.status.idle": "2025-07-28T10:26:10.108593Z",
     "shell.execute_reply": "2025-07-28T10:26:10.107586Z"
    },
    "papermill": {
     "duration": 0.076011,
     "end_time": "2025-07-28T10:26:10.111314",
     "exception": false,
     "start_time": "2025-07-28T10:26:10.035303",
     "status": "completed"
    },
    "tags": []
   },
   "outputs": [
    {
     "name": "stdout",
     "output_type": "stream",
     "text": [
      "Dropping features: ['age']\n"
     ]
    }
   ],
   "source": [
    "if len(excluded_features_columns) > 0:\n",
    "    print(f\"Dropping features: {excluded_features_columns}\")\n",
    "    X_calib.drop(excluded_features_columns, axis=1, inplace=True)"
   ]
  },
  {
   "cell_type": "code",
   "execution_count": 28,
   "id": "6727d079-03e5-481e-9d38-292a90b7a0a8",
   "metadata": {
    "execution": {
     "iopub.execute_input": "2025-07-28T10:26:10.153702Z",
     "iopub.status.busy": "2025-07-28T10:26:10.153040Z",
     "iopub.status.idle": "2025-07-28T10:26:10.158008Z",
     "shell.execute_reply": "2025-07-28T10:26:10.157143Z"
    },
    "papermill": {
     "duration": 0.027431,
     "end_time": "2025-07-28T10:26:10.159472",
     "exception": false,
     "start_time": "2025-07-28T10:26:10.132041",
     "status": "completed"
    },
    "tags": []
   },
   "outputs": [],
   "source": [
    "# SPLIT & STRATIFY DATA\n",
    "# ----------------------"
   ]
  },
  {
   "cell_type": "code",
   "execution_count": 29,
   "id": "76c4dc6d",
   "metadata": {
    "execution": {
     "iopub.execute_input": "2025-07-28T10:26:10.201389Z",
     "iopub.status.busy": "2025-07-28T10:26:10.200688Z",
     "iopub.status.idle": "2025-07-28T10:26:10.206144Z",
     "shell.execute_reply": "2025-07-28T10:26:10.205200Z"
    },
    "papermill": {
     "duration": 0.028194,
     "end_time": "2025-07-28T10:26:10.207807",
     "exception": false,
     "start_time": "2025-07-28T10:26:10.179613",
     "status": "completed"
    },
    "tags": []
   },
   "outputs": [],
   "source": [
    "# EXCLUDE CERTAIN SUBGROUPS\n",
    "# ----------------------\n",
    "\n",
    "mode = universe.get(\"exclude_subgroups\", \"keep-all\") \n",
    "# Fetches the exclude_subgroups setting from the universe dict.\n",
    "# Defaults to \"keep-all\" if the key is missing."
   ]
  },
  {
   "cell_type": "code",
   "execution_count": 30,
   "id": "21994072",
   "metadata": {
    "execution": {
     "iopub.execute_input": "2025-07-28T10:26:10.250310Z",
     "iopub.status.busy": "2025-07-28T10:26:10.249623Z",
     "iopub.status.idle": "2025-07-28T10:26:10.256562Z",
     "shell.execute_reply": "2025-07-28T10:26:10.255751Z"
    },
    "papermill": {
     "duration": 0.029712,
     "end_time": "2025-07-28T10:26:10.258171",
     "exception": false,
     "start_time": "2025-07-28T10:26:10.228459",
     "status": "completed"
    },
    "tags": []
   },
   "outputs": [],
   "source": [
    "if mode == \"keep-all\":\n",
    "    keep_mask = pd.Series(True, index=org_train.index)\n",
    "\n",
    "# org_train contains the original feature columns from features_org (in Simson)\n",
    "# features_org contains unprocessed features, for me X_train at beginning ???\n",
    "# For keep-all, creates a boolean Series (keep_mask) of all True, so no rows are removed.\n",
    "\n",
    "elif mode == \"drop-non-german\":\n",
    "    keep_mask = org_train[\"maxdeutsch1\"] == 1 # ??? what about missing values?\n",
    "\n",
    "else:\n",
    "    raise ValueError(f\"Unsupported mode for exclude_subgroups: {mode}\")\n"
   ]
  },
  {
   "cell_type": "code",
   "execution_count": 31,
   "id": "71651440",
   "metadata": {
    "execution": {
     "iopub.execute_input": "2025-07-28T10:26:10.300736Z",
     "iopub.status.busy": "2025-07-28T10:26:10.300081Z",
     "iopub.status.idle": "2025-07-28T10:26:10.307527Z",
     "shell.execute_reply": "2025-07-28T10:26:10.306648Z"
    },
    "papermill": {
     "duration": 0.030457,
     "end_time": "2025-07-28T10:26:10.309208",
     "exception": false,
     "start_time": "2025-07-28T10:26:10.278751",
     "status": "completed"
    },
    "tags": []
   },
   "outputs": [
    {
     "name": "stdout",
     "output_type": "stream",
     "text": [
      "Dropping 3312 rows (13.25%) where mode='drop-non-german'\n"
     ]
    }
   ],
   "source": [
    "n_drop = (~keep_mask).sum() # Calculates how many rows are set to be dropped\n",
    "if n_drop > 0:\n",
    "    pct = n_drop / len(keep_mask) * 100\n",
    "    print(f\"Dropping {n_drop} rows ({pct:.2f}%) where mode='{mode}'\")"
   ]
  },
  {
   "cell_type": "code",
   "execution_count": 32,
   "id": "5fb8eee5",
   "metadata": {
    "execution": {
     "iopub.execute_input": "2025-07-28T10:26:10.351961Z",
     "iopub.status.busy": "2025-07-28T10:26:10.351308Z",
     "iopub.status.idle": "2025-07-28T10:26:10.365430Z",
     "shell.execute_reply": "2025-07-28T10:26:10.364543Z"
    },
    "papermill": {
     "duration": 0.037302,
     "end_time": "2025-07-28T10:26:10.367194",
     "exception": false,
     "start_time": "2025-07-28T10:26:10.329892",
     "status": "completed"
    },
    "tags": []
   },
   "outputs": [],
   "source": [
    "X_train = X_train[keep_mask]"
   ]
  },
  {
   "cell_type": "code",
   "execution_count": 33,
   "id": "b202bb3a",
   "metadata": {
    "execution": {
     "iopub.execute_input": "2025-07-28T10:26:10.409978Z",
     "iopub.status.busy": "2025-07-28T10:26:10.409312Z",
     "iopub.status.idle": "2025-07-28T10:26:10.415704Z",
     "shell.execute_reply": "2025-07-28T10:26:10.414839Z"
    },
    "papermill": {
     "duration": 0.029204,
     "end_time": "2025-07-28T10:26:10.417159",
     "exception": false,
     "start_time": "2025-07-28T10:26:10.387955",
     "status": "completed"
    },
    "tags": []
   },
   "outputs": [],
   "source": [
    "y_train = y_train[keep_mask]"
   ]
  },
  {
   "cell_type": "markdown",
   "id": "493e2ac3",
   "metadata": {
    "papermill": {
     "duration": 0.020153,
     "end_time": "2025-07-28T10:26:10.458019",
     "exception": false,
     "start_time": "2025-07-28T10:26:10.437866",
     "status": "completed"
    },
    "tags": []
   },
   "source": [
    "# Model Training"
   ]
  },
  {
   "cell_type": "code",
   "execution_count": 34,
   "id": "679e1268",
   "metadata": {
    "execution": {
     "iopub.execute_input": "2025-07-28T10:26:10.500042Z",
     "iopub.status.busy": "2025-07-28T10:26:10.499320Z",
     "iopub.status.idle": "2025-07-28T10:26:10.603197Z",
     "shell.execute_reply": "2025-07-28T10:26:10.602243Z"
    },
    "papermill": {
     "duration": 0.12709,
     "end_time": "2025-07-28T10:26:10.605175",
     "exception": false,
     "start_time": "2025-07-28T10:26:10.478085",
     "status": "completed"
    },
    "tags": []
   },
   "outputs": [],
   "source": [
    "from sklearn.linear_model import LogisticRegression\n",
    "from sklearn.ensemble import GradientBoostingClassifier, RandomForestClassifier\n",
    "\n",
    "if (universe[\"model\"] == \"logreg\"):\n",
    "    model = LogisticRegression() #penalty=\"none\") #, solver=\"newton-cg\", max_iter=1) # include random_state=19 ?\n",
    "elif (universe[\"model\"] == \"penalized_logreg\"):\n",
    "    model = LogisticRegression(penalty=\"l2\", C=1.0) #, solver=\"newton-cg\", max_iter=1)\n",
    "elif (universe[\"model\"] == \"rf\"):\n",
    "    model = RandomForestClassifier(n_estimators=100, n_jobs=-1)\n",
    "elif (universe[\"model\"] == \"gbm\"):\n",
    "    model = GradientBoostingClassifier()\n",
    "elif (universe[\"model\"] == \"elasticnet\"):\n",
    "    model = LogisticRegression(penalty = 'elasticnet', solver = 'saga', l1_ratio = 0.5, max_iter=5000) # which solver to use?\n",
    "else:\n",
    "    raise \"Unsupported universe.model\""
   ]
  },
  {
   "cell_type": "code",
   "execution_count": 35,
   "id": "0cc8f744",
   "metadata": {
    "execution": {
     "iopub.execute_input": "2025-07-28T10:26:10.648567Z",
     "iopub.status.busy": "2025-07-28T10:26:10.647890Z",
     "iopub.status.idle": "2025-07-28T10:26:10.654309Z",
     "shell.execute_reply": "2025-07-28T10:26:10.653378Z"
    },
    "papermill": {
     "duration": 0.029686,
     "end_time": "2025-07-28T10:26:10.655901",
     "exception": false,
     "start_time": "2025-07-28T10:26:10.626215",
     "status": "completed"
    },
    "tags": []
   },
   "outputs": [],
   "source": [
    "import numpy as np\n",
    "from sklearn.pipeline import Pipeline\n",
    "from sklearn.preprocessing import StandardScaler\n",
    "\n",
    "model = Pipeline([\n",
    "    #(\"continuous_processor\", continuous_processor),\n",
    "    #(\"categorical_preprocessor\", categorical_preprocessor),\n",
    "    (\"scale\", StandardScaler() if universe[\"scale\"] == \"scale\" else None), \n",
    "    (\"model\", model),\n",
    "])"
   ]
  },
  {
   "cell_type": "code",
   "execution_count": 36,
   "id": "9442c04d",
   "metadata": {
    "execution": {
     "iopub.execute_input": "2025-07-28T10:26:10.698680Z",
     "iopub.status.busy": "2025-07-28T10:26:10.697982Z",
     "iopub.status.idle": "2025-07-28T10:33:46.350746Z",
     "shell.execute_reply": "2025-07-28T10:33:46.349559Z"
    },
    "papermill": {
     "duration": 455.689281,
     "end_time": "2025-07-28T10:33:46.365800",
     "exception": false,
     "start_time": "2025-07-28T10:26:10.676519",
     "status": "completed"
    },
    "tags": []
   },
   "outputs": [
    {
     "name": "stderr",
     "output_type": "stream",
     "text": [
      "/dss/dsshome1/0C/ra93lal2/.local/share/virtualenvs/CMA_Fairness_v2-3j10GkSs/lib/python3.10/site-packages/sklearn/linear_model/_sag.py:350: ConvergenceWarning: The max_iter was reached which means the coef_ did not converge\n",
      "  warnings.warn(\n"
     ]
    },
    {
     "data": {
      "text/html": [
       "<style>#sk-container-id-1 {color: black;background-color: white;}#sk-container-id-1 pre{padding: 0;}#sk-container-id-1 div.sk-toggleable {background-color: white;}#sk-container-id-1 label.sk-toggleable__label {cursor: pointer;display: block;width: 100%;margin-bottom: 0;padding: 0.3em;box-sizing: border-box;text-align: center;}#sk-container-id-1 label.sk-toggleable__label-arrow:before {content: \"▸\";float: left;margin-right: 0.25em;color: #696969;}#sk-container-id-1 label.sk-toggleable__label-arrow:hover:before {color: black;}#sk-container-id-1 div.sk-estimator:hover label.sk-toggleable__label-arrow:before {color: black;}#sk-container-id-1 div.sk-toggleable__content {max-height: 0;max-width: 0;overflow: hidden;text-align: left;background-color: #f0f8ff;}#sk-container-id-1 div.sk-toggleable__content pre {margin: 0.2em;color: black;border-radius: 0.25em;background-color: #f0f8ff;}#sk-container-id-1 input.sk-toggleable__control:checked~div.sk-toggleable__content {max-height: 200px;max-width: 100%;overflow: auto;}#sk-container-id-1 input.sk-toggleable__control:checked~label.sk-toggleable__label-arrow:before {content: \"▾\";}#sk-container-id-1 div.sk-estimator input.sk-toggleable__control:checked~label.sk-toggleable__label {background-color: #d4ebff;}#sk-container-id-1 div.sk-label input.sk-toggleable__control:checked~label.sk-toggleable__label {background-color: #d4ebff;}#sk-container-id-1 input.sk-hidden--visually {border: 0;clip: rect(1px 1px 1px 1px);clip: rect(1px, 1px, 1px, 1px);height: 1px;margin: -1px;overflow: hidden;padding: 0;position: absolute;width: 1px;}#sk-container-id-1 div.sk-estimator {font-family: monospace;background-color: #f0f8ff;border: 1px dotted black;border-radius: 0.25em;box-sizing: border-box;margin-bottom: 0.5em;}#sk-container-id-1 div.sk-estimator:hover {background-color: #d4ebff;}#sk-container-id-1 div.sk-parallel-item::after {content: \"\";width: 100%;border-bottom: 1px solid gray;flex-grow: 1;}#sk-container-id-1 div.sk-label:hover label.sk-toggleable__label {background-color: #d4ebff;}#sk-container-id-1 div.sk-serial::before {content: \"\";position: absolute;border-left: 1px solid gray;box-sizing: border-box;top: 0;bottom: 0;left: 50%;z-index: 0;}#sk-container-id-1 div.sk-serial {display: flex;flex-direction: column;align-items: center;background-color: white;padding-right: 0.2em;padding-left: 0.2em;position: relative;}#sk-container-id-1 div.sk-item {position: relative;z-index: 1;}#sk-container-id-1 div.sk-parallel {display: flex;align-items: stretch;justify-content: center;background-color: white;position: relative;}#sk-container-id-1 div.sk-item::before, #sk-container-id-1 div.sk-parallel-item::before {content: \"\";position: absolute;border-left: 1px solid gray;box-sizing: border-box;top: 0;bottom: 0;left: 50%;z-index: -1;}#sk-container-id-1 div.sk-parallel-item {display: flex;flex-direction: column;z-index: 1;position: relative;background-color: white;}#sk-container-id-1 div.sk-parallel-item:first-child::after {align-self: flex-end;width: 50%;}#sk-container-id-1 div.sk-parallel-item:last-child::after {align-self: flex-start;width: 50%;}#sk-container-id-1 div.sk-parallel-item:only-child::after {width: 0;}#sk-container-id-1 div.sk-dashed-wrapped {border: 1px dashed gray;margin: 0 0.4em 0.5em 0.4em;box-sizing: border-box;padding-bottom: 0.4em;background-color: white;}#sk-container-id-1 div.sk-label label {font-family: monospace;font-weight: bold;display: inline-block;line-height: 1.2em;}#sk-container-id-1 div.sk-label-container {text-align: center;}#sk-container-id-1 div.sk-container {/* jupyter's `normalize.less` sets `[hidden] { display: none; }` but bootstrap.min.css set `[hidden] { display: none !important; }` so we also need the `!important` here to be able to override the default hidden behavior on the sphinx rendered scikit-learn.org. See: https://github.com/scikit-learn/scikit-learn/issues/21755 */display: inline-block !important;position: relative;}#sk-container-id-1 div.sk-text-repr-fallback {display: none;}</style><div id=\"sk-container-id-1\" class=\"sk-top-container\"><div class=\"sk-text-repr-fallback\"><pre>Pipeline(steps=[(&#x27;scale&#x27;, None),\n",
       "                (&#x27;model&#x27;,\n",
       "                 LogisticRegression(l1_ratio=0.5, max_iter=5000,\n",
       "                                    penalty=&#x27;elasticnet&#x27;, solver=&#x27;saga&#x27;))])</pre><b>In a Jupyter environment, please rerun this cell to show the HTML representation or trust the notebook. <br />On GitHub, the HTML representation is unable to render, please try loading this page with nbviewer.org.</b></div><div class=\"sk-container\" hidden><div class=\"sk-item sk-dashed-wrapped\"><div class=\"sk-label-container\"><div class=\"sk-label sk-toggleable\"><input class=\"sk-toggleable__control sk-hidden--visually\" id=\"sk-estimator-id-1\" type=\"checkbox\" ><label for=\"sk-estimator-id-1\" class=\"sk-toggleable__label sk-toggleable__label-arrow\">Pipeline</label><div class=\"sk-toggleable__content\"><pre>Pipeline(steps=[(&#x27;scale&#x27;, None),\n",
       "                (&#x27;model&#x27;,\n",
       "                 LogisticRegression(l1_ratio=0.5, max_iter=5000,\n",
       "                                    penalty=&#x27;elasticnet&#x27;, solver=&#x27;saga&#x27;))])</pre></div></div></div><div class=\"sk-serial\"><div class=\"sk-item\"><div class=\"sk-estimator sk-toggleable\"><input class=\"sk-toggleable__control sk-hidden--visually\" id=\"sk-estimator-id-2\" type=\"checkbox\" ><label for=\"sk-estimator-id-2\" class=\"sk-toggleable__label sk-toggleable__label-arrow\">None</label><div class=\"sk-toggleable__content\"><pre>None</pre></div></div></div><div class=\"sk-item\"><div class=\"sk-estimator sk-toggleable\"><input class=\"sk-toggleable__control sk-hidden--visually\" id=\"sk-estimator-id-3\" type=\"checkbox\" ><label for=\"sk-estimator-id-3\" class=\"sk-toggleable__label sk-toggleable__label-arrow\">LogisticRegression</label><div class=\"sk-toggleable__content\"><pre>LogisticRegression(l1_ratio=0.5, max_iter=5000, penalty=&#x27;elasticnet&#x27;,\n",
       "                   solver=&#x27;saga&#x27;)</pre></div></div></div></div></div></div></div>"
      ],
      "text/plain": [
       "Pipeline(steps=[('scale', None),\n",
       "                ('model',\n",
       "                 LogisticRegression(l1_ratio=0.5, max_iter=5000,\n",
       "                                    penalty='elasticnet', solver='saga'))])"
      ]
     },
     "execution_count": 36,
     "metadata": {},
     "output_type": "execute_result"
    }
   ],
   "source": [
    "model.fit(X_train, y_train.values.ravel())"
   ]
  },
  {
   "cell_type": "code",
   "execution_count": 37,
   "id": "af59f8c0",
   "metadata": {
    "execution": {
     "iopub.execute_input": "2025-07-28T10:33:46.410858Z",
     "iopub.status.busy": "2025-07-28T10:33:46.410101Z",
     "iopub.status.idle": "2025-07-28T10:33:46.416291Z",
     "shell.execute_reply": "2025-07-28T10:33:46.415449Z"
    },
    "papermill": {
     "duration": 0.030518,
     "end_time": "2025-07-28T10:33:46.417879",
     "exception": false,
     "start_time": "2025-07-28T10:33:46.387361",
     "status": "completed"
    },
    "tags": []
   },
   "outputs": [],
   "source": [
    "from fairness_multiverse.universe import predict_w_threshold"
   ]
  },
  {
   "cell_type": "code",
   "execution_count": 38,
   "id": "a7cf2e16",
   "metadata": {
    "execution": {
     "iopub.execute_input": "2025-07-28T10:33:46.461509Z",
     "iopub.status.busy": "2025-07-28T10:33:46.460679Z",
     "iopub.status.idle": "2025-07-28T10:33:46.565177Z",
     "shell.execute_reply": "2025-07-28T10:33:46.564278Z"
    },
    "papermill": {
     "duration": 0.128006,
     "end_time": "2025-07-28T10:33:46.566952",
     "exception": false,
     "start_time": "2025-07-28T10:33:46.438946",
     "status": "completed"
    },
    "tags": []
   },
   "outputs": [
    {
     "data": {
      "text/plain": [
       "0.851231746739494"
      ]
     },
     "execution_count": 38,
     "metadata": {},
     "output_type": "execute_result"
    }
   ],
   "source": [
    "probs_test = model.predict_proba(X_test)\n",
    "\n",
    "'''\n",
    "Below code returns a boolean array (or binary 0/1 array depending on how it’s used) where each element \n",
    "is True if the probability of class 1 is greater than or equal to the threshold, and False otherwise.\n",
    "'''\n",
    "y_pred_default = predict_w_threshold(probs_test, 0.5)\n",
    "\n",
    "from sklearn.metrics import accuracy_score\n",
    "\n",
    "# Naive prediction\n",
    "accuracy_score(y_true = y_true, y_pred = y_pred_default)"
   ]
  },
  {
   "cell_type": "code",
   "execution_count": 39,
   "id": "081964c3",
   "metadata": {
    "execution": {
     "iopub.execute_input": "2025-07-28T10:33:46.611667Z",
     "iopub.status.busy": "2025-07-28T10:33:46.611189Z",
     "iopub.status.idle": "2025-07-28T10:33:46.693344Z",
     "shell.execute_reply": "2025-07-28T10:33:46.692351Z"
    },
    "papermill": {
     "duration": 0.106348,
     "end_time": "2025-07-28T10:33:46.695281",
     "exception": false,
     "start_time": "2025-07-28T10:33:46.588933",
     "status": "completed"
    },
    "tags": []
   },
   "outputs": [
    {
     "data": {
      "text/plain": [
       "array([0, 0, 0, ..., 0, 0, 0])"
      ]
     },
     "execution_count": 39,
     "metadata": {},
     "output_type": "execute_result"
    }
   ],
   "source": [
    "model.predict(X_test)"
   ]
  },
  {
   "cell_type": "markdown",
   "id": "56c9705b",
   "metadata": {
    "papermill": {
     "duration": 0.021354,
     "end_time": "2025-07-28T10:33:46.740188",
     "exception": false,
     "start_time": "2025-07-28T10:33:46.718834",
     "status": "completed"
    },
    "tags": []
   },
   "source": [
    "# Conformal Prediction"
   ]
  },
  {
   "cell_type": "code",
   "execution_count": 40,
   "id": "160ec6ff",
   "metadata": {
    "execution": {
     "iopub.execute_input": "2025-07-28T10:33:46.786033Z",
     "iopub.status.busy": "2025-07-28T10:33:46.785363Z",
     "iopub.status.idle": "2025-07-28T10:33:46.790768Z",
     "shell.execute_reply": "2025-07-28T10:33:46.789740Z"
    },
    "papermill": {
     "duration": 0.0305,
     "end_time": "2025-07-28T10:33:46.792375",
     "exception": false,
     "start_time": "2025-07-28T10:33:46.761875",
     "status": "completed"
    },
    "tags": []
   },
   "outputs": [],
   "source": [
    "# Miscoverage level for conformal prediction (10% allowed error rate => 90% target coverage)\n",
    "alpha = 0.1"
   ]
  },
  {
   "cell_type": "code",
   "execution_count": 41,
   "id": "eadf4555-3dd3-440e-8e35-f82a4ad9f855",
   "metadata": {
    "execution": {
     "iopub.execute_input": "2025-07-28T10:33:46.838921Z",
     "iopub.status.busy": "2025-07-28T10:33:46.838417Z",
     "iopub.status.idle": "2025-07-28T10:33:46.926350Z",
     "shell.execute_reply": "2025-07-28T10:33:46.925429Z"
    },
    "papermill": {
     "duration": 0.113198,
     "end_time": "2025-07-28T10:33:46.928330",
     "exception": false,
     "start_time": "2025-07-28T10:33:46.815132",
     "status": "completed"
    },
    "tags": []
   },
   "outputs": [],
   "source": [
    "probs_calib = model.predict_proba(X_calib)"
   ]
  },
  {
   "cell_type": "code",
   "execution_count": 42,
   "id": "2ed93547-6d5d-4983-9b36-1ecb300da49a",
   "metadata": {
    "execution": {
     "iopub.execute_input": "2025-07-28T10:33:46.975342Z",
     "iopub.status.busy": "2025-07-28T10:33:46.974943Z",
     "iopub.status.idle": "2025-07-28T10:33:46.980517Z",
     "shell.execute_reply": "2025-07-28T10:33:46.979539Z"
    },
    "papermill": {
     "duration": 0.031568,
     "end_time": "2025-07-28T10:33:46.982357",
     "exception": false,
     "start_time": "2025-07-28T10:33:46.950789",
     "status": "completed"
    },
    "tags": []
   },
   "outputs": [],
   "source": [
    "y_calib = y_calib.values.ravel().astype(int)"
   ]
  },
  {
   "cell_type": "code",
   "execution_count": 43,
   "id": "65d1320d-f588-4b38-9072-62af1ae97f7d",
   "metadata": {
    "execution": {
     "iopub.execute_input": "2025-07-28T10:33:47.029036Z",
     "iopub.status.busy": "2025-07-28T10:33:47.028571Z",
     "iopub.status.idle": "2025-07-28T10:33:47.036565Z",
     "shell.execute_reply": "2025-07-28T10:33:47.035593Z"
    },
    "papermill": {
     "duration": 0.032605,
     "end_time": "2025-07-28T10:33:47.038133",
     "exception": false,
     "start_time": "2025-07-28T10:33:47.005528",
     "status": "completed"
    },
    "tags": []
   },
   "outputs": [],
   "source": [
    "from fairness_multiverse.conformal import compute_nc_scores\n",
    "\n",
    "# Compute nonconformity scores on calibration set (1 - probability of true class)\n",
    "nc_scores = compute_nc_scores(probs_calib, y_calib)"
   ]
  },
  {
   "cell_type": "code",
   "execution_count": 44,
   "id": "df3b8ca3-53b7-43d5-9667-7c85da7aeda2",
   "metadata": {
    "execution": {
     "iopub.execute_input": "2025-07-28T10:33:47.084486Z",
     "iopub.status.busy": "2025-07-28T10:33:47.083336Z",
     "iopub.status.idle": "2025-07-28T10:33:47.090209Z",
     "shell.execute_reply": "2025-07-28T10:33:47.089273Z"
    },
    "papermill": {
     "duration": 0.031647,
     "end_time": "2025-07-28T10:33:47.091884",
     "exception": false,
     "start_time": "2025-07-28T10:33:47.060237",
     "status": "completed"
    },
    "tags": []
   },
   "outputs": [],
   "source": [
    "from fairness_multiverse.conformal import find_threshold\n",
    "\n",
    "# Find conformal threshold q_hat for the given alpha (split conformal method)\n",
    "q_hat = find_threshold(nc_scores, alpha)"
   ]
  },
  {
   "cell_type": "code",
   "execution_count": 45,
   "id": "4d29e6c1-0ef6-4aa4-b8fe-4fe79b0d033a",
   "metadata": {
    "execution": {
     "iopub.execute_input": "2025-07-28T10:33:47.137266Z",
     "iopub.status.busy": "2025-07-28T10:33:47.136795Z",
     "iopub.status.idle": "2025-07-28T10:33:47.144023Z",
     "shell.execute_reply": "2025-07-28T10:33:47.142946Z"
    },
    "papermill": {
     "duration": 0.03165,
     "end_time": "2025-07-28T10:33:47.145778",
     "exception": false,
     "start_time": "2025-07-28T10:33:47.114128",
     "status": "completed"
    },
    "tags": []
   },
   "outputs": [
    {
     "data": {
      "text/plain": [
       "0.6531205214617208"
      ]
     },
     "execution_count": 45,
     "metadata": {},
     "output_type": "execute_result"
    }
   ],
   "source": [
    "q_hat"
   ]
  },
  {
   "cell_type": "code",
   "execution_count": 46,
   "id": "92460794-cdac-4be2-ba28-f28c0515a6fb",
   "metadata": {
    "execution": {
     "iopub.execute_input": "2025-07-28T10:33:47.191536Z",
     "iopub.status.busy": "2025-07-28T10:33:47.190689Z",
     "iopub.status.idle": "2025-07-28T10:33:48.080198Z",
     "shell.execute_reply": "2025-07-28T10:33:48.079262Z"
    },
    "papermill": {
     "duration": 0.914198,
     "end_time": "2025-07-28T10:33:48.082140",
     "exception": false,
     "start_time": "2025-07-28T10:33:47.167942",
     "status": "completed"
    },
    "tags": []
   },
   "outputs": [],
   "source": [
    "from fairness_multiverse.conformal import predict_conformal_sets\n",
    "\n",
    "# Generate prediction sets for each test example\n",
    "pred_sets = predict_conformal_sets(model, X_test, q_hat)"
   ]
  },
  {
   "cell_type": "code",
   "execution_count": 47,
   "id": "d90c9a65-e6db-4f5d-80cd-e68fb7e46829",
   "metadata": {
    "execution": {
     "iopub.execute_input": "2025-07-28T10:33:48.128756Z",
     "iopub.status.busy": "2025-07-28T10:33:48.127883Z",
     "iopub.status.idle": "2025-07-28T10:33:48.133299Z",
     "shell.execute_reply": "2025-07-28T10:33:48.132298Z"
    },
    "papermill": {
     "duration": 0.030046,
     "end_time": "2025-07-28T10:33:48.134954",
     "exception": false,
     "start_time": "2025-07-28T10:33:48.104908",
     "status": "completed"
    },
    "tags": []
   },
   "outputs": [],
   "source": [
    "y_true = y_true.squeeze()"
   ]
  },
  {
   "cell_type": "code",
   "execution_count": 48,
   "id": "3a58a54a-1e68-46b9-927a-df01f18aebc8",
   "metadata": {
    "execution": {
     "iopub.execute_input": "2025-07-28T10:33:48.182515Z",
     "iopub.status.busy": "2025-07-28T10:33:48.181734Z",
     "iopub.status.idle": "2025-07-28T10:33:48.962443Z",
     "shell.execute_reply": "2025-07-28T10:33:48.961690Z"
    },
    "papermill": {
     "duration": 0.806463,
     "end_time": "2025-07-28T10:33:48.964404",
     "exception": false,
     "start_time": "2025-07-28T10:33:48.157941",
     "status": "completed"
    },
    "tags": []
   },
   "outputs": [],
   "source": [
    "from fairness_multiverse.conformal import evaluate_sets\n",
    "\n",
    "# Evaluate coverage and average set size on test data\n",
    "metrics = evaluate_sets(pred_sets, y_true)"
   ]
  },
  {
   "cell_type": "markdown",
   "id": "2b569c12-9aaa-4c88-98c9-bbcd0cf3ebb8",
   "metadata": {
    "papermill": {
     "duration": 0.023863,
     "end_time": "2025-07-28T10:33:49.012546",
     "exception": false,
     "start_time": "2025-07-28T10:33:48.988683",
     "status": "completed"
    },
    "tags": []
   },
   "source": [
    "# CP Metrics"
   ]
  },
  {
   "cell_type": "code",
   "execution_count": 49,
   "id": "5ce0a5cb-201f-45a0-ade5-94c7f0bd6095",
   "metadata": {
    "execution": {
     "iopub.execute_input": "2025-07-28T10:33:49.061826Z",
     "iopub.status.busy": "2025-07-28T10:33:49.060889Z",
     "iopub.status.idle": "2025-07-28T10:33:49.068860Z",
     "shell.execute_reply": "2025-07-28T10:33:49.067763Z"
    },
    "papermill": {
     "duration": 0.034243,
     "end_time": "2025-07-28T10:33:49.071049",
     "exception": false,
     "start_time": "2025-07-28T10:33:49.036806",
     "status": "completed"
    },
    "tags": []
   },
   "outputs": [
    {
     "data": {
      "text/plain": [
       "{'coverage': 0.9108572065544532, 'avg_size': 1.2450117043807825}"
      ]
     },
     "execution_count": 49,
     "metadata": {},
     "output_type": "execute_result"
    }
   ],
   "source": [
    "metrics"
   ]
  },
  {
   "cell_type": "code",
   "execution_count": 50,
   "id": "9b9a838d-31c9-430b-ae14-12baee460d17",
   "metadata": {
    "execution": {
     "iopub.execute_input": "2025-07-28T10:33:49.121725Z",
     "iopub.status.busy": "2025-07-28T10:33:49.120644Z",
     "iopub.status.idle": "2025-07-28T10:33:49.128456Z",
     "shell.execute_reply": "2025-07-28T10:33:49.127008Z"
    },
    "papermill": {
     "duration": 0.046801,
     "end_time": "2025-07-28T10:33:49.141310",
     "exception": false,
     "start_time": "2025-07-28T10:33:49.094509",
     "status": "completed"
    },
    "tags": []
   },
   "outputs": [],
   "source": [
    "example_universe = universe.copy()\n",
    "universe_training_size = example_universe.get(\"training_size\")\n",
    "universe_scale = example_universe.get(\"scale\")\n",
    "universe_model = example_universe.get(\"model\")\n",
    "universe_exclude_features = example_universe.get(\"exclude_features\")\n",
    "universe_exclude_subgroups = example_universe.get(\"exclude_subgroups\")"
   ]
  },
  {
   "cell_type": "code",
   "execution_count": 51,
   "id": "f4b6a8ac-9dc0-4245-8a91-5b3b5999c4f9",
   "metadata": {
    "execution": {
     "iopub.execute_input": "2025-07-28T10:33:49.215231Z",
     "iopub.status.busy": "2025-07-28T10:33:49.214738Z",
     "iopub.status.idle": "2025-07-28T10:33:49.222015Z",
     "shell.execute_reply": "2025-07-28T10:33:49.220961Z"
    },
    "papermill": {
     "duration": 0.039769,
     "end_time": "2025-07-28T10:33:49.224005",
     "exception": false,
     "start_time": "2025-07-28T10:33:49.184236",
     "status": "completed"
    },
    "tags": []
   },
   "outputs": [],
   "source": [
    "cp_metrics_dict = {\n",
    "    \"universe_id\": [universe_id],\n",
    "    \"universe_training_size\": [universe_training_size],\n",
    "    \"universe_scale\": [universe_scale],\n",
    "    \"universe_model\": [universe_model],\n",
    "    \"universe_exclude_features\": [universe_exclude_features],\n",
    "    \"universe_exclude_subgroups\": [universe_exclude_subgroups],\n",
    "    \"q_hat\": [q_hat],\n",
    "    \"coverage\": [metrics[\"coverage\"]],\n",
    "    \"avg_size\": [metrics[\"avg_size\"]],\n",
    "}"
   ]
  },
  {
   "cell_type": "code",
   "execution_count": 52,
   "id": "908acbb1-0371-4915-85ca-3fa520d2efe2",
   "metadata": {
    "execution": {
     "iopub.execute_input": "2025-07-28T10:33:49.286229Z",
     "iopub.status.busy": "2025-07-28T10:33:49.285461Z",
     "iopub.status.idle": "2025-07-28T10:33:49.294181Z",
     "shell.execute_reply": "2025-07-28T10:33:49.293083Z"
    },
    "papermill": {
     "duration": 0.041257,
     "end_time": "2025-07-28T10:33:49.296122",
     "exception": false,
     "start_time": "2025-07-28T10:33:49.254865",
     "status": "completed"
    },
    "tags": []
   },
   "outputs": [
    {
     "data": {
      "text/plain": [
       "{'universe_id': ['7e2a94ff9b46cab1204f0795f63d2c64'],\n",
       " 'universe_training_size': ['25k'],\n",
       " 'universe_scale': ['do-not-scale'],\n",
       " 'universe_model': ['elasticnet'],\n",
       " 'universe_exclude_features': ['age'],\n",
       " 'universe_exclude_subgroups': ['drop-non-german'],\n",
       " 'q_hat': [0.6531205214617208],\n",
       " 'coverage': [0.9108572065544532],\n",
       " 'avg_size': [1.2450117043807825]}"
      ]
     },
     "execution_count": 52,
     "metadata": {},
     "output_type": "execute_result"
    }
   ],
   "source": [
    "cp_metrics_dict"
   ]
  },
  {
   "cell_type": "code",
   "execution_count": 53,
   "id": "33007efc-14e9-4ec6-97ac-56a455c82265",
   "metadata": {
    "execution": {
     "iopub.execute_input": "2025-07-28T10:33:49.355775Z",
     "iopub.status.busy": "2025-07-28T10:33:49.355262Z",
     "iopub.status.idle": "2025-07-28T10:33:49.361923Z",
     "shell.execute_reply": "2025-07-28T10:33:49.360879Z"
    },
    "papermill": {
     "duration": 0.039588,
     "end_time": "2025-07-28T10:33:49.365579",
     "exception": false,
     "start_time": "2025-07-28T10:33:49.325991",
     "status": "completed"
    },
    "tags": []
   },
   "outputs": [],
   "source": [
    "cp_metrics_df = pd.DataFrame(cp_metrics_dict)"
   ]
  },
  {
   "cell_type": "code",
   "execution_count": 54,
   "id": "db12611b-57b2-4910-b9d0-355adfd6e7bf",
   "metadata": {
    "execution": {
     "iopub.execute_input": "2025-07-28T10:33:49.414106Z",
     "iopub.status.busy": "2025-07-28T10:33:49.413441Z",
     "iopub.status.idle": "2025-07-28T10:33:49.440858Z",
     "shell.execute_reply": "2025-07-28T10:33:49.436643Z"
    },
    "papermill": {
     "duration": 0.055492,
     "end_time": "2025-07-28T10:33:49.442802",
     "exception": false,
     "start_time": "2025-07-28T10:33:49.387310",
     "status": "completed"
    },
    "tags": []
   },
   "outputs": [
    {
     "data": {
      "text/html": [
       "<div>\n",
       "<style scoped>\n",
       "    .dataframe tbody tr th:only-of-type {\n",
       "        vertical-align: middle;\n",
       "    }\n",
       "\n",
       "    .dataframe tbody tr th {\n",
       "        vertical-align: top;\n",
       "    }\n",
       "\n",
       "    .dataframe thead th {\n",
       "        text-align: right;\n",
       "    }\n",
       "</style>\n",
       "<table border=\"1\" class=\"dataframe\">\n",
       "  <thead>\n",
       "    <tr style=\"text-align: right;\">\n",
       "      <th></th>\n",
       "      <th>universe_id</th>\n",
       "      <th>universe_training_size</th>\n",
       "      <th>universe_scale</th>\n",
       "      <th>universe_model</th>\n",
       "      <th>universe_exclude_features</th>\n",
       "      <th>universe_exclude_subgroups</th>\n",
       "      <th>q_hat</th>\n",
       "      <th>coverage</th>\n",
       "      <th>avg_size</th>\n",
       "    </tr>\n",
       "  </thead>\n",
       "  <tbody>\n",
       "    <tr>\n",
       "      <th>0</th>\n",
       "      <td>7e2a94ff9b46cab1204f0795f63d2c64</td>\n",
       "      <td>25k</td>\n",
       "      <td>do-not-scale</td>\n",
       "      <td>elasticnet</td>\n",
       "      <td>age</td>\n",
       "      <td>drop-non-german</td>\n",
       "      <td>0.653121</td>\n",
       "      <td>0.910857</td>\n",
       "      <td>1.245012</td>\n",
       "    </tr>\n",
       "  </tbody>\n",
       "</table>\n",
       "</div>"
      ],
      "text/plain": [
       "                        universe_id universe_training_size universe_scale  \\\n",
       "0  7e2a94ff9b46cab1204f0795f63d2c64                    25k   do-not-scale   \n",
       "\n",
       "  universe_model universe_exclude_features universe_exclude_subgroups  \\\n",
       "0     elasticnet                       age            drop-non-german   \n",
       "\n",
       "      q_hat  coverage  avg_size  \n",
       "0  0.653121  0.910857  1.245012  "
      ]
     },
     "execution_count": 54,
     "metadata": {},
     "output_type": "execute_result"
    }
   ],
   "source": [
    "cp_metrics_df"
   ]
  },
  {
   "cell_type": "code",
   "execution_count": 55,
   "id": "b7fbde55-a0a1-47e4-9af6-fe4a17fa8c61",
   "metadata": {
    "execution": {
     "iopub.execute_input": "2025-07-28T10:33:49.493671Z",
     "iopub.status.busy": "2025-07-28T10:33:49.493180Z",
     "iopub.status.idle": "2025-07-28T10:33:49.498466Z",
     "shell.execute_reply": "2025-07-28T10:33:49.497473Z"
    },
    "papermill": {
     "duration": 0.030715,
     "end_time": "2025-07-28T10:33:49.500240",
     "exception": false,
     "start_time": "2025-07-28T10:33:49.469525",
     "status": "completed"
    },
    "tags": []
   },
   "outputs": [],
   "source": [
    "# Conditional Coverage & looking at subgroups"
   ]
  },
  {
   "cell_type": "code",
   "execution_count": 56,
   "id": "027ae886-68dd-4141-96c7-805a5450e1ef",
   "metadata": {
    "execution": {
     "iopub.execute_input": "2025-07-28T10:33:49.551257Z",
     "iopub.status.busy": "2025-07-28T10:33:49.550759Z",
     "iopub.status.idle": "2025-07-28T10:33:49.766705Z",
     "shell.execute_reply": "2025-07-28T10:33:49.765944Z"
    },
    "papermill": {
     "duration": 0.241907,
     "end_time": "2025-07-28T10:33:49.768313",
     "exception": false,
     "start_time": "2025-07-28T10:33:49.526406",
     "status": "completed"
    },
    "tags": []
   },
   "outputs": [],
   "source": [
    "from fairness_multiverse.conformal import build_cp_groups\n",
    "\n",
    "cp_groups_df = build_cp_groups(pred_sets, y_true, X_test.index, org_test)\n",
    "#needs universe_id and setting"
   ]
  },
  {
   "cell_type": "code",
   "execution_count": 57,
   "id": "01d5802c-663a-4d1f-9d69-e036faaffbf7",
   "metadata": {
    "execution": {
     "iopub.execute_input": "2025-07-28T10:33:49.802210Z",
     "iopub.status.busy": "2025-07-28T10:33:49.801394Z",
     "iopub.status.idle": "2025-07-28T10:33:49.805856Z",
     "shell.execute_reply": "2025-07-28T10:33:49.805190Z"
    },
    "papermill": {
     "duration": 0.023204,
     "end_time": "2025-07-28T10:33:49.807091",
     "exception": false,
     "start_time": "2025-07-28T10:33:49.783887",
     "status": "completed"
    },
    "tags": []
   },
   "outputs": [],
   "source": [
    "#delete\n",
    "#cp_groups_df"
   ]
  },
  {
   "cell_type": "code",
   "execution_count": 58,
   "id": "fa424af1-d1eb-443d-b717-2d279ada8408",
   "metadata": {
    "execution": {
     "iopub.execute_input": "2025-07-28T10:33:49.834862Z",
     "iopub.status.busy": "2025-07-28T10:33:49.834346Z",
     "iopub.status.idle": "2025-07-28T10:33:49.896645Z",
     "shell.execute_reply": "2025-07-28T10:33:49.895881Z"
    },
    "papermill": {
     "duration": 0.07757,
     "end_time": "2025-07-28T10:33:49.898094",
     "exception": false,
     "start_time": "2025-07-28T10:33:49.820524",
     "status": "completed"
    },
    "tags": []
   },
   "outputs": [],
   "source": [
    "#delete\n",
    "#percentage = (cp_groups_df['nongerman_female'] == 1).mean() * 100\n",
    "#print(percentage)\n"
   ]
  },
  {
   "cell_type": "code",
   "execution_count": 59,
   "id": "6cbdab96-b2b2-45af-ad54-d0516db2e28d",
   "metadata": {
    "execution": {
     "iopub.execute_input": "2025-07-28T10:33:49.942898Z",
     "iopub.status.busy": "2025-07-28T10:33:49.942267Z",
     "iopub.status.idle": "2025-07-28T10:33:51.774672Z",
     "shell.execute_reply": "2025-07-28T10:33:51.773582Z"
    },
    "papermill": {
     "duration": 1.862166,
     "end_time": "2025-07-28T10:33:51.776864",
     "exception": false,
     "start_time": "2025-07-28T10:33:49.914698",
     "status": "completed"
    },
    "tags": []
   },
   "outputs": [],
   "source": [
    "# Define covered = 1 if true_label is in the predicted set\n",
    "cp_groups_df['covered'] = cp_groups_df.apply(\n",
    "    lambda r: int(r['true_label'] in r['pred_set']),\n",
    "    axis=1\n",
    ")"
   ]
  },
  {
   "cell_type": "code",
   "execution_count": 60,
   "id": "338ff529-1a6b-4b87-a931-8e4788d52aad",
   "metadata": {
    "execution": {
     "iopub.execute_input": "2025-07-28T10:33:51.829168Z",
     "iopub.status.busy": "2025-07-28T10:33:51.828625Z",
     "iopub.status.idle": "2025-07-28T10:33:51.834412Z",
     "shell.execute_reply": "2025-07-28T10:33:51.833226Z"
    },
    "papermill": {
     "duration": 0.031459,
     "end_time": "2025-07-28T10:33:51.836453",
     "exception": false,
     "start_time": "2025-07-28T10:33:51.804994",
     "status": "completed"
    },
    "tags": []
   },
   "outputs": [],
   "source": [
    "#cp_groups_df"
   ]
  },
  {
   "cell_type": "code",
   "execution_count": 61,
   "id": "90032e27-66df-4540-9169-4e89cfbaa758",
   "metadata": {
    "execution": {
     "iopub.execute_input": "2025-07-28T10:33:51.889588Z",
     "iopub.status.busy": "2025-07-28T10:33:51.888867Z",
     "iopub.status.idle": "2025-07-28T10:33:51.902452Z",
     "shell.execute_reply": "2025-07-28T10:33:51.901455Z"
    },
    "papermill": {
     "duration": 0.042788,
     "end_time": "2025-07-28T10:33:51.906341",
     "exception": false,
     "start_time": "2025-07-28T10:33:51.863553",
     "status": "completed"
    },
    "tags": []
   },
   "outputs": [],
   "source": [
    "subgroups = ['frau1','nongerman','nongerman_male','nongerman_female']\n",
    "\n",
    "# Conditional coverage for subgroup==1\n",
    "cond_coverage = {\n",
    "    g: cp_groups_df.loc[cp_groups_df[g]==1, 'covered'].mean()\n",
    "    for g in subgroups\n",
    "}"
   ]
  },
  {
   "cell_type": "code",
   "execution_count": 62,
   "id": "1e348fb1-b9c3-45bc-ba23-f016827a7e0d",
   "metadata": {
    "execution": {
     "iopub.execute_input": "2025-07-28T10:33:51.961443Z",
     "iopub.status.busy": "2025-07-28T10:33:51.960966Z",
     "iopub.status.idle": "2025-07-28T10:33:51.968868Z",
     "shell.execute_reply": "2025-07-28T10:33:51.967839Z"
    },
    "papermill": {
     "duration": 0.039218,
     "end_time": "2025-07-28T10:33:51.970523",
     "exception": false,
     "start_time": "2025-07-28T10:33:51.931305",
     "status": "completed"
    },
    "tags": []
   },
   "outputs": [
    {
     "data": {
      "text/plain": [
       "{'frau1': 0.907912117536056,\n",
       " 'nongerman': 0.9555942289339246,\n",
       " 'nongerman_male': 0.9660452130054941,\n",
       " 'nongerman_female': 0.938301043219076}"
      ]
     },
     "execution_count": 62,
     "metadata": {},
     "output_type": "execute_result"
    }
   ],
   "source": [
    "cond_coverage"
   ]
  },
  {
   "cell_type": "code",
   "execution_count": 63,
   "id": "f5093324-c3dd-4d63-bc4c-8d945e5c8bbb",
   "metadata": {
    "execution": {
     "iopub.execute_input": "2025-07-28T10:33:52.022097Z",
     "iopub.status.busy": "2025-07-28T10:33:52.021527Z",
     "iopub.status.idle": "2025-07-28T10:33:52.029642Z",
     "shell.execute_reply": "2025-07-28T10:33:52.028448Z"
    },
    "papermill": {
     "duration": 0.034354,
     "end_time": "2025-07-28T10:33:52.031295",
     "exception": false,
     "start_time": "2025-07-28T10:33:51.996941",
     "status": "completed"
    },
    "tags": []
   },
   "outputs": [],
   "source": [
    "for subgroup, cov in cond_coverage.items():\n",
    "    cp_metrics_df[f\"cov_{subgroup}\"] = cov"
   ]
  },
  {
   "cell_type": "code",
   "execution_count": 64,
   "id": "6e872e10-dbe5-49e8-b554-5030c98ff75d",
   "metadata": {
    "execution": {
     "iopub.execute_input": "2025-07-28T10:33:52.060556Z",
     "iopub.status.busy": "2025-07-28T10:33:52.059960Z",
     "iopub.status.idle": "2025-07-28T10:33:52.074578Z",
     "shell.execute_reply": "2025-07-28T10:33:52.073785Z"
    },
    "papermill": {
     "duration": 0.030244,
     "end_time": "2025-07-28T10:33:52.076000",
     "exception": false,
     "start_time": "2025-07-28T10:33:52.045756",
     "status": "completed"
    },
    "tags": []
   },
   "outputs": [
    {
     "data": {
      "text/html": [
       "<div>\n",
       "<style scoped>\n",
       "    .dataframe tbody tr th:only-of-type {\n",
       "        vertical-align: middle;\n",
       "    }\n",
       "\n",
       "    .dataframe tbody tr th {\n",
       "        vertical-align: top;\n",
       "    }\n",
       "\n",
       "    .dataframe thead th {\n",
       "        text-align: right;\n",
       "    }\n",
       "</style>\n",
       "<table border=\"1\" class=\"dataframe\">\n",
       "  <thead>\n",
       "    <tr style=\"text-align: right;\">\n",
       "      <th></th>\n",
       "      <th>universe_id</th>\n",
       "      <th>universe_training_size</th>\n",
       "      <th>universe_scale</th>\n",
       "      <th>universe_model</th>\n",
       "      <th>universe_exclude_features</th>\n",
       "      <th>universe_exclude_subgroups</th>\n",
       "      <th>q_hat</th>\n",
       "      <th>coverage</th>\n",
       "      <th>avg_size</th>\n",
       "      <th>cov_frau1</th>\n",
       "      <th>cov_nongerman</th>\n",
       "      <th>cov_nongerman_male</th>\n",
       "      <th>cov_nongerman_female</th>\n",
       "    </tr>\n",
       "  </thead>\n",
       "  <tbody>\n",
       "    <tr>\n",
       "      <th>0</th>\n",
       "      <td>7e2a94ff9b46cab1204f0795f63d2c64</td>\n",
       "      <td>25k</td>\n",
       "      <td>do-not-scale</td>\n",
       "      <td>elasticnet</td>\n",
       "      <td>age</td>\n",
       "      <td>drop-non-german</td>\n",
       "      <td>0.653121</td>\n",
       "      <td>0.910857</td>\n",
       "      <td>1.245012</td>\n",
       "      <td>0.907912</td>\n",
       "      <td>0.955594</td>\n",
       "      <td>0.966045</td>\n",
       "      <td>0.938301</td>\n",
       "    </tr>\n",
       "  </tbody>\n",
       "</table>\n",
       "</div>"
      ],
      "text/plain": [
       "                        universe_id universe_training_size universe_scale  \\\n",
       "0  7e2a94ff9b46cab1204f0795f63d2c64                    25k   do-not-scale   \n",
       "\n",
       "  universe_model universe_exclude_features universe_exclude_subgroups  \\\n",
       "0     elasticnet                       age            drop-non-german   \n",
       "\n",
       "      q_hat  coverage  avg_size  cov_frau1  cov_nongerman  cov_nongerman_male  \\\n",
       "0  0.653121  0.910857  1.245012   0.907912       0.955594            0.966045   \n",
       "\n",
       "   cov_nongerman_female  \n",
       "0              0.938301  "
      ]
     },
     "execution_count": 64,
     "metadata": {},
     "output_type": "execute_result"
    }
   ],
   "source": [
    "cp_metrics_df"
   ]
  },
  {
   "cell_type": "markdown",
   "id": "33774451",
   "metadata": {
    "papermill": {
     "duration": 0.028446,
     "end_time": "2025-07-28T10:33:52.128775",
     "exception": false,
     "start_time": "2025-07-28T10:33:52.100329",
     "status": "completed"
    },
    "tags": []
   },
   "source": [
    "# (Fairness) Metrics"
   ]
  },
  {
   "cell_type": "code",
   "execution_count": 65,
   "id": "debc5d62",
   "metadata": {
    "execution": {
     "iopub.execute_input": "2025-07-28T10:33:52.186921Z",
     "iopub.status.busy": "2025-07-28T10:33:52.185940Z",
     "iopub.status.idle": "2025-07-28T10:33:52.211925Z",
     "shell.execute_reply": "2025-07-28T10:33:52.210882Z"
    },
    "papermill": {
     "duration": 0.056858,
     "end_time": "2025-07-28T10:33:52.213960",
     "exception": false,
     "start_time": "2025-07-28T10:33:52.157102",
     "status": "completed"
    },
    "tags": []
   },
   "outputs": [],
   "source": [
    "# do I need to include maxdeutsch1.missing?\n",
    "\n",
    "import numpy as np\n",
    "\n",
    "colname_to_bin = \"maxdeutsch1\"\n",
    "majority_value = org_train[colname_to_bin].mode()[0]\n",
    "\n",
    "org_test[\"majmin\"] = np.where(org_test[colname_to_bin] == majority_value, \"majority\", \"minority\")"
   ]
  },
  {
   "cell_type": "code",
   "execution_count": 66,
   "id": "06a50de5",
   "metadata": {
    "execution": {
     "iopub.execute_input": "2025-07-28T10:33:52.277029Z",
     "iopub.status.busy": "2025-07-28T10:33:52.276296Z",
     "iopub.status.idle": "2025-07-28T10:33:55.205828Z",
     "shell.execute_reply": "2025-07-28T10:33:55.204877Z"
    },
    "papermill": {
     "duration": 2.962071,
     "end_time": "2025-07-28T10:33:55.207798",
     "exception": false,
     "start_time": "2025-07-28T10:33:52.245727",
     "status": "completed"
    },
    "tags": []
   },
   "outputs": [],
   "source": [
    "example_universe = universe.copy()\n",
    "example_universe[\"cutoff\"] = example_universe[\"cutoff\"][0]\n",
    "example_universe[\"eval_fairness_grouping\"] = example_universe[\"eval_fairness_grouping\"][0]\n",
    "fairness_dict, metric_frame = universe_analysis.compute_metrics(\n",
    "    example_universe,\n",
    "    y_pred_prob=probs_test,\n",
    "    y_test=y_true,\n",
    "    org_test=org_test,\n",
    ")"
   ]
  },
  {
   "cell_type": "markdown",
   "id": "f95d4e02",
   "metadata": {
    "papermill": {
     "duration": 0.026249,
     "end_time": "2025-07-28T10:33:55.260005",
     "exception": false,
     "start_time": "2025-07-28T10:33:55.233756",
     "status": "completed"
    },
    "tags": []
   },
   "source": [
    "# Overall"
   ]
  },
  {
   "cell_type": "markdown",
   "id": "bdee4871",
   "metadata": {
    "papermill": {
     "duration": 0.025292,
     "end_time": "2025-07-28T10:33:55.309758",
     "exception": false,
     "start_time": "2025-07-28T10:33:55.284466",
     "status": "completed"
    },
    "tags": []
   },
   "source": [
    "Fairness\n",
    "Main fairness target: Equalized Odds. Seems to be a better fit than equal opportunity, since we're not only interested in Y = 1. Seems to be a better fit than demographic parity, since we also care about accuracy, not just equal distribution of preds.\n",
    "\n",
    "Pick column for computation of fairness metrics\n",
    "\n",
    "Performance\n",
    "Overall performance measures, most interesting in relation to the measures split by group below"
   ]
  },
  {
   "cell_type": "code",
   "execution_count": 67,
   "id": "c4e067c6",
   "metadata": {
    "execution": {
     "iopub.execute_input": "2025-07-28T10:33:55.361057Z",
     "iopub.status.busy": "2025-07-28T10:33:55.360315Z",
     "iopub.status.idle": "2025-07-28T10:33:55.369406Z",
     "shell.execute_reply": "2025-07-28T10:33:55.368500Z"
    },
    "papermill": {
     "duration": 0.036633,
     "end_time": "2025-07-28T10:33:55.371082",
     "exception": false,
     "start_time": "2025-07-28T10:33:55.334449",
     "status": "completed"
    },
    "tags": []
   },
   "outputs": [
    {
     "data": {
      "text/plain": [
       "accuracy                   0.219786\n",
       "balanced accuracy          0.538368\n",
       "f1                         0.241244\n",
       "precision                  0.137814\n",
       "false positive rate        0.890156\n",
       "false negative rate        0.033107\n",
       "selection rate             0.900000\n",
       "count                  89710.000000\n",
       "dtype: float64"
      ]
     },
     "execution_count": 67,
     "metadata": {},
     "output_type": "execute_result"
    }
   ],
   "source": [
    "metric_frame.overall"
   ]
  },
  {
   "cell_type": "markdown",
   "id": "e968fe9d",
   "metadata": {
    "papermill": {
     "duration": 0.024853,
     "end_time": "2025-07-28T10:33:55.420570",
     "exception": false,
     "start_time": "2025-07-28T10:33:55.395717",
     "status": "completed"
    },
    "tags": []
   },
   "source": [
    "By Group"
   ]
  },
  {
   "cell_type": "code",
   "execution_count": 68,
   "id": "ec325bce",
   "metadata": {
    "execution": {
     "iopub.execute_input": "2025-07-28T10:33:55.472074Z",
     "iopub.status.busy": "2025-07-28T10:33:55.471320Z",
     "iopub.status.idle": "2025-07-28T10:33:55.488006Z",
     "shell.execute_reply": "2025-07-28T10:33:55.487101Z"
    },
    "papermill": {
     "duration": 0.043637,
     "end_time": "2025-07-28T10:33:55.489503",
     "exception": false,
     "start_time": "2025-07-28T10:33:55.445866",
     "status": "completed"
    },
    "tags": []
   },
   "outputs": [
    {
     "data": {
      "text/html": [
       "<div>\n",
       "<style scoped>\n",
       "    .dataframe tbody tr th:only-of-type {\n",
       "        vertical-align: middle;\n",
       "    }\n",
       "\n",
       "    .dataframe tbody tr th {\n",
       "        vertical-align: top;\n",
       "    }\n",
       "\n",
       "    .dataframe thead th {\n",
       "        text-align: right;\n",
       "    }\n",
       "</style>\n",
       "<table border=\"1\" class=\"dataframe\">\n",
       "  <thead>\n",
       "    <tr style=\"text-align: right;\">\n",
       "      <th></th>\n",
       "      <th>accuracy</th>\n",
       "      <th>balanced accuracy</th>\n",
       "      <th>f1</th>\n",
       "      <th>precision</th>\n",
       "      <th>false positive rate</th>\n",
       "      <th>false negative rate</th>\n",
       "      <th>selection rate</th>\n",
       "      <th>count</th>\n",
       "    </tr>\n",
       "    <tr>\n",
       "      <th>majmin</th>\n",
       "      <th></th>\n",
       "      <th></th>\n",
       "      <th></th>\n",
       "      <th></th>\n",
       "      <th></th>\n",
       "      <th></th>\n",
       "      <th></th>\n",
       "      <th></th>\n",
       "    </tr>\n",
       "  </thead>\n",
       "  <tbody>\n",
       "    <tr>\n",
       "      <th>majority</th>\n",
       "      <td>0.243444</td>\n",
       "      <td>0.547802</td>\n",
       "      <td>0.25142</td>\n",
       "      <td>0.144618</td>\n",
       "      <td>0.865884</td>\n",
       "      <td>0.038512</td>\n",
       "      <td>0.878517</td>\n",
       "      <td>69170.0</td>\n",
       "    </tr>\n",
       "    <tr>\n",
       "      <th>minority</th>\n",
       "      <td>0.140117</td>\n",
       "      <td>0.508707</td>\n",
       "      <td>0.20940</td>\n",
       "      <td>0.117114</td>\n",
       "      <td>0.970339</td>\n",
       "      <td>0.012247</td>\n",
       "      <td>0.972347</td>\n",
       "      <td>20540.0</td>\n",
       "    </tr>\n",
       "  </tbody>\n",
       "</table>\n",
       "</div>"
      ],
      "text/plain": [
       "          accuracy  balanced accuracy       f1  precision  \\\n",
       "majmin                                                      \n",
       "majority  0.243444           0.547802  0.25142   0.144618   \n",
       "minority  0.140117           0.508707  0.20940   0.117114   \n",
       "\n",
       "          false positive rate  false negative rate  selection rate    count  \n",
       "majmin                                                                       \n",
       "majority             0.865884             0.038512        0.878517  69170.0  \n",
       "minority             0.970339             0.012247        0.972347  20540.0  "
      ]
     },
     "execution_count": 68,
     "metadata": {},
     "output_type": "execute_result"
    }
   ],
   "source": [
    "metric_frame.by_group"
   ]
  },
  {
   "cell_type": "code",
   "execution_count": 69,
   "id": "a9ddbe63",
   "metadata": {
    "execution": {
     "iopub.execute_input": "2025-07-28T10:33:55.541971Z",
     "iopub.status.busy": "2025-07-28T10:33:55.541315Z",
     "iopub.status.idle": "2025-07-28T10:33:58.047007Z",
     "shell.execute_reply": "2025-07-28T10:33:58.046087Z"
    },
    "papermill": {
     "duration": 2.533179,
     "end_time": "2025-07-28T10:33:58.048717",
     "exception": false,
     "start_time": "2025-07-28T10:33:55.515538",
     "status": "completed"
    },
    "tags": []
   },
   "outputs": [
    {
     "data": {
      "text/plain": [
       "array([[<Axes: title={'center': 'accuracy'}, xlabel='majmin'>,\n",
       "        <Axes: title={'center': 'balanced accuracy'}, xlabel='majmin'>,\n",
       "        <Axes: title={'center': 'f1'}, xlabel='majmin'>],\n",
       "       [<Axes: title={'center': 'precision'}, xlabel='majmin'>,\n",
       "        <Axes: title={'center': 'false positive rate'}, xlabel='majmin'>,\n",
       "        <Axes: title={'center': 'false negative rate'}, xlabel='majmin'>],\n",
       "       [<Axes: title={'center': 'selection rate'}, xlabel='majmin'>,\n",
       "        <Axes: title={'center': 'count'}, xlabel='majmin'>,\n",
       "        <Axes: xlabel='majmin'>]], dtype=object)"
      ]
     },
     "execution_count": 69,
     "metadata": {},
     "output_type": "execute_result"
    },
    {
     "data": {
      "image/png": "[encoded data removed]",
      "text/plain": [
       "<Figure size 1200x800 with 9 Axes>"
      ]
     },
     "metadata": {},
     "output_type": "display_data"
    }
   ],
   "source": [
    "# In a graphic\n",
    "metric_frame.by_group.plot.bar(\n",
    "    subplots=True,\n",
    "    layout=[3, 3],\n",
    "    legend=False,\n",
    "    figsize=[12, 8],\n",
    "    title=\"Show all metrics\",\n",
    ")"
   ]
  },
  {
   "cell_type": "markdown",
   "id": "f57a0bac",
   "metadata": {
    "papermill": {
     "duration": 0.030733,
     "end_time": "2025-07-28T10:33:58.114402",
     "exception": false,
     "start_time": "2025-07-28T10:33:58.083669",
     "status": "completed"
    },
    "tags": []
   },
   "source": [
    "# Final Output"
   ]
  },
  {
   "cell_type": "code",
   "execution_count": 70,
   "id": "96d280a3",
   "metadata": {
    "execution": {
     "iopub.execute_input": "2025-07-28T10:33:58.173328Z",
     "iopub.status.busy": "2025-07-28T10:33:58.172645Z",
     "iopub.status.idle": "2025-07-28T10:33:58.181511Z",
     "shell.execute_reply": "2025-07-28T10:33:58.180437Z"
    },
    "papermill": {
     "duration": 0.039953,
     "end_time": "2025-07-28T10:33:58.183393",
     "exception": false,
     "start_time": "2025-07-28T10:33:58.143440",
     "status": "completed"
    },
    "tags": []
   },
   "outputs": [
    {
     "data": {
      "text/plain": [
       "4"
      ]
     },
     "execution_count": 70,
     "metadata": {},
     "output_type": "execute_result"
    }
   ],
   "source": [
    "sub_universes = universe_analysis.generate_sub_universes()\n",
    "len(sub_universes)"
   ]
  },
  {
   "cell_type": "code",
   "execution_count": 71,
   "id": "92adf7ba",
   "metadata": {
    "execution": {
     "iopub.execute_input": "2025-07-28T10:33:58.247345Z",
     "iopub.status.busy": "2025-07-28T10:33:58.246658Z",
     "iopub.status.idle": "2025-07-28T10:33:58.253553Z",
     "shell.execute_reply": "2025-07-28T10:33:58.252585Z"
    },
    "papermill": {
     "duration": 0.039974,
     "end_time": "2025-07-28T10:33:58.255295",
     "exception": false,
     "start_time": "2025-07-28T10:33:58.215321",
     "status": "completed"
    },
    "tags": []
   },
   "outputs": [],
   "source": [
    "def filter_sub_universe_data(sub_universe, org_test):\n",
    "    # Keep all rows — no filtering\n",
    "    keep_rows_mask = np.ones(org_test.shape[0], dtype=bool)\n",
    "\n",
    "    print(f\"[INFO] Keeping all rows: {keep_rows_mask.sum()} rows retained.\")\n",
    "    return keep_rows_mask"
   ]
  },
  {
   "cell_type": "code",
   "execution_count": 72,
   "id": "4a759155",
   "metadata": {
    "execution": {
     "iopub.execute_input": "2025-07-28T10:33:58.320693Z",
     "iopub.status.busy": "2025-07-28T10:33:58.319937Z",
     "iopub.status.idle": "2025-07-28T10:34:08.228835Z",
     "shell.execute_reply": "2025-07-28T10:34:08.227903Z"
    },
    "papermill": {
     "duration": 9.943418,
     "end_time": "2025-07-28T10:34:08.230426",
     "exception": false,
     "start_time": "2025-07-28T10:33:58.287008",
     "status": "completed"
    },
    "tags": []
   },
   "outputs": [
    {
     "name": "stdout",
     "output_type": "stream",
     "text": [
      "Stopping execution_time clock.\n",
      "[INFO] Keeping all rows: 89710 rows retained.\n"
     ]
    },
    {
     "name": "stdout",
     "output_type": "stream",
     "text": [
      "[INFO] Keeping all rows: 89710 rows retained.\n"
     ]
    },
    {
     "name": "stdout",
     "output_type": "stream",
     "text": [
      "[INFO] Keeping all rows: 89710 rows retained.\n"
     ]
    },
    {
     "name": "stdout",
     "output_type": "stream",
     "text": [
      "[INFO] Keeping all rows: 89710 rows retained.\n"
     ]
    },
    {
     "data": {
      "text/html": [
       "<div>\n",
       "<style scoped>\n",
       "    .dataframe tbody tr th:only-of-type {\n",
       "        vertical-align: middle;\n",
       "    }\n",
       "\n",
       "    .dataframe tbody tr th {\n",
       "        vertical-align: top;\n",
       "    }\n",
       "\n",
       "    .dataframe thead th {\n",
       "        text-align: right;\n",
       "    }\n",
       "</style>\n",
       "<table border=\"1\" class=\"dataframe\">\n",
       "  <thead>\n",
       "    <tr style=\"text-align: right;\">\n",
       "      <th></th>\n",
       "      <th>run_no</th>\n",
       "      <th>universe_id</th>\n",
       "      <th>universe_settings</th>\n",
       "      <th>execution_time</th>\n",
       "      <th>test_size_n</th>\n",
       "      <th>test_size_frac</th>\n",
       "      <th>fair_main_equalized_odds_difference</th>\n",
       "      <th>fair_main_equalized_odds_ratio</th>\n",
       "      <th>fair_main_demographic_parity_difference</th>\n",
       "      <th>fair_main_demographic_parity_ratio</th>\n",
       "      <th>...</th>\n",
       "      <th>perf_grp_precision_0</th>\n",
       "      <th>perf_grp_precision_1</th>\n",
       "      <th>perf_grp_false positive rate_0</th>\n",
       "      <th>perf_grp_false positive rate_1</th>\n",
       "      <th>perf_grp_false negative rate_0</th>\n",
       "      <th>perf_grp_false negative rate_1</th>\n",
       "      <th>perf_grp_selection rate_0</th>\n",
       "      <th>perf_grp_selection rate_1</th>\n",
       "      <th>perf_grp_count_0</th>\n",
       "      <th>perf_grp_count_1</th>\n",
       "    </tr>\n",
       "  </thead>\n",
       "  <tbody>\n",
       "    <tr>\n",
       "      <th>0</th>\n",
       "      <td>11</td>\n",
       "      <td>7e2a94ff9b46cab1204f0795f63d2c64</td>\n",
       "      <td>{\"cutoff\": \"quantile_0.1\", \"eval_fairness_grou...</td>\n",
       "      <td>483.196006</td>\n",
       "      <td>89710</td>\n",
       "      <td>1.0</td>\n",
       "      <td>0.104455</td>\n",
       "      <td>0.892352</td>\n",
       "      <td>0.093830</td>\n",
       "      <td>0.903502</td>\n",
       "      <td>...</td>\n",
       "      <td>NaN</td>\n",
       "      <td>NaN</td>\n",
       "      <td>NaN</td>\n",
       "      <td>NaN</td>\n",
       "      <td>NaN</td>\n",
       "      <td>NaN</td>\n",
       "      <td>NaN</td>\n",
       "      <td>NaN</td>\n",
       "      <td>NaN</td>\n",
       "      <td>NaN</td>\n",
       "    </tr>\n",
       "    <tr>\n",
       "      <th>0</th>\n",
       "      <td>11</td>\n",
       "      <td>7e2a94ff9b46cab1204f0795f63d2c64</td>\n",
       "      <td>{\"cutoff\": \"quantile_0.1\", \"eval_fairness_grou...</td>\n",
       "      <td>483.196006</td>\n",
       "      <td>89710</td>\n",
       "      <td>1.0</td>\n",
       "      <td>0.104455</td>\n",
       "      <td>0.892352</td>\n",
       "      <td>0.093830</td>\n",
       "      <td>0.903502</td>\n",
       "      <td>...</td>\n",
       "      <td>0.117114</td>\n",
       "      <td>0.144618</td>\n",
       "      <td>0.970339</td>\n",
       "      <td>0.865884</td>\n",
       "      <td>0.012247</td>\n",
       "      <td>0.038512</td>\n",
       "      <td>0.972347</td>\n",
       "      <td>0.878517</td>\n",
       "      <td>20540.0</td>\n",
       "      <td>69170.0</td>\n",
       "    </tr>\n",
       "    <tr>\n",
       "      <th>0</th>\n",
       "      <td>11</td>\n",
       "      <td>7e2a94ff9b46cab1204f0795f63d2c64</td>\n",
       "      <td>{\"cutoff\": \"quantile_0.25\", \"eval_fairness_gro...</td>\n",
       "      <td>483.196006</td>\n",
       "      <td>89710</td>\n",
       "      <td>1.0</td>\n",
       "      <td>0.246426</td>\n",
       "      <td>0.731515</td>\n",
       "      <td>0.224227</td>\n",
       "      <td>0.757036</td>\n",
       "      <td>...</td>\n",
       "      <td>NaN</td>\n",
       "      <td>NaN</td>\n",
       "      <td>NaN</td>\n",
       "      <td>NaN</td>\n",
       "      <td>NaN</td>\n",
       "      <td>NaN</td>\n",
       "      <td>NaN</td>\n",
       "      <td>NaN</td>\n",
       "      <td>NaN</td>\n",
       "      <td>NaN</td>\n",
       "    </tr>\n",
       "    <tr>\n",
       "      <th>0</th>\n",
       "      <td>11</td>\n",
       "      <td>7e2a94ff9b46cab1204f0795f63d2c64</td>\n",
       "      <td>{\"cutoff\": \"quantile_0.25\", \"eval_fairness_gro...</td>\n",
       "      <td>483.196006</td>\n",
       "      <td>89710</td>\n",
       "      <td>1.0</td>\n",
       "      <td>0.246426</td>\n",
       "      <td>0.731515</td>\n",
       "      <td>0.224227</td>\n",
       "      <td>0.757036</td>\n",
       "      <td>...</td>\n",
       "      <td>0.120120</td>\n",
       "      <td>0.165977</td>\n",
       "      <td>0.917841</td>\n",
       "      <td>0.671414</td>\n",
       "      <td>0.038429</td>\n",
       "      <td>0.122429</td>\n",
       "      <td>0.922882</td>\n",
       "      <td>0.698655</td>\n",
       "      <td>20540.0</td>\n",
       "      <td>69170.0</td>\n",
       "    </tr>\n",
       "  </tbody>\n",
       "</table>\n",
       "<p>4 rows × 50 columns</p>\n",
       "</div>"
      ],
      "text/plain": [
       "  run_no                       universe_id  \\\n",
       "0     11  7e2a94ff9b46cab1204f0795f63d2c64   \n",
       "0     11  7e2a94ff9b46cab1204f0795f63d2c64   \n",
       "0     11  7e2a94ff9b46cab1204f0795f63d2c64   \n",
       "0     11  7e2a94ff9b46cab1204f0795f63d2c64   \n",
       "\n",
       "                                   universe_settings  execution_time  \\\n",
       "0  {\"cutoff\": \"quantile_0.1\", \"eval_fairness_grou...      483.196006   \n",
       "0  {\"cutoff\": \"quantile_0.1\", \"eval_fairness_grou...      483.196006   \n",
       "0  {\"cutoff\": \"quantile_0.25\", \"eval_fairness_gro...      483.196006   \n",
       "0  {\"cutoff\": \"quantile_0.25\", \"eval_fairness_gro...      483.196006   \n",
       "\n",
       "   test_size_n  test_size_frac  fair_main_equalized_odds_difference  \\\n",
       "0        89710             1.0                             0.104455   \n",
       "0        89710             1.0                             0.104455   \n",
       "0        89710             1.0                             0.246426   \n",
       "0        89710             1.0                             0.246426   \n",
       "\n",
       "   fair_main_equalized_odds_ratio  fair_main_demographic_parity_difference  \\\n",
       "0                        0.892352                                 0.093830   \n",
       "0                        0.892352                                 0.093830   \n",
       "0                        0.731515                                 0.224227   \n",
       "0                        0.731515                                 0.224227   \n",
       "\n",
       "   fair_main_demographic_parity_ratio  ...  perf_grp_precision_0  \\\n",
       "0                            0.903502  ...                   NaN   \n",
       "0                            0.903502  ...              0.117114   \n",
       "0                            0.757036  ...                   NaN   \n",
       "0                            0.757036  ...              0.120120   \n",
       "\n",
       "   perf_grp_precision_1  perf_grp_false positive rate_0  \\\n",
       "0                   NaN                             NaN   \n",
       "0              0.144618                        0.970339   \n",
       "0                   NaN                             NaN   \n",
       "0              0.165977                        0.917841   \n",
       "\n",
       "   perf_grp_false positive rate_1  perf_grp_false negative rate_0  \\\n",
       "0                             NaN                             NaN   \n",
       "0                        0.865884                        0.012247   \n",
       "0                             NaN                             NaN   \n",
       "0                        0.671414                        0.038429   \n",
       "\n",
       "   perf_grp_false negative rate_1  perf_grp_selection rate_0  \\\n",
       "0                             NaN                        NaN   \n",
       "0                        0.038512                   0.972347   \n",
       "0                             NaN                        NaN   \n",
       "0                        0.122429                   0.922882   \n",
       "\n",
       "   perf_grp_selection rate_1  perf_grp_count_0  perf_grp_count_1  \n",
       "0                        NaN               NaN               NaN  \n",
       "0                   0.878517           20540.0           69170.0  \n",
       "0                        NaN               NaN               NaN  \n",
       "0                   0.698655           20540.0           69170.0  \n",
       "\n",
       "[4 rows x 50 columns]"
      ]
     },
     "execution_count": 72,
     "metadata": {},
     "output_type": "execute_result"
    }
   ],
   "source": [
    "final_output = universe_analysis.generate_final_output(\n",
    "    y_pred_prob=probs_test,\n",
    "    y_test=y_true,\n",
    "    org_test=org_test,\n",
    "    filter_data=filter_sub_universe_data,\n",
    "    cp_metrics_df=cp_metrics_df,\n",
    "    save=True,\n",
    ")\n",
    "final_output"
   ]
  },
  {
   "cell_type": "code",
   "execution_count": null,
   "id": "721ff514-cb11-46f8-b6fc-50392f74b5cb",
   "metadata": {
    "papermill": {
     "duration": 0.028022,
     "end_time": "2025-07-28T10:34:08.289851",
     "exception": false,
     "start_time": "2025-07-28T10:34:08.261829",
     "status": "completed"
    },
    "tags": []
   },
   "outputs": [],
   "source": []
  }
 ],
 "metadata": {
  "celltoolbar": "Tags",
  "kernelspec": {
   "display_name": "Python (CMA Fairness)",
   "language": "python",
   "name": "cma_fair_env"
  },
  "language_info": {
   "codemirror_mode": {
    "name": "ipython",
    "version": 3
   },
   "file_extension": ".py",
   "mimetype": "text/x-python",
   "name": "python",
   "nbconvert_exporter": "python",
   "pygments_lexer": "ipython3",
   "version": "3.10.12"
  },
  "papermill": {
   "default_parameters": {},
   "duration": 497.393504,
   "end_time": "2025-07-28T10:34:09.136548",
   "environment_variables": {},
   "exception": null,
   "input_path": "universe_analysis.ipynb",
   "output_path": "output/runs/11/notebooks/m_11-7e2a94ff9b46cab1204f0795f63d2c64.ipynb",
   "parameters": {
    "output_dir": "output",
    "run_no": "11",
    "seed": "2023",
    "universe": "{\"cutoff\": [\"quantile_0.1\", \"quantile_0.25\"], \"eval_fairness_grouping\": [\"majority-minority\", \"nationality-all\"], \"exclude_features\": \"age\", \"exclude_subgroups\": \"drop-non-german\", \"model\": \"elasticnet\", \"scale\": \"do-not-scale\", \"training_size\": \"25k\"}",
    "universe_id": "7e2a94ff9b46cab1204f0795f63d2c64"
   },
   "start_time": "2025-07-28T10:25:51.743044",
   "version": "2.6.0"
  }
 },
 "nbformat": 4,
 "nbformat_minor": 5
}