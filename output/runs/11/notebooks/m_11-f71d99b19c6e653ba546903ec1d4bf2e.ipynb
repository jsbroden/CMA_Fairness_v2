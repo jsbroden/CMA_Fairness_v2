{
 "cells": [
  {
   "cell_type": "code",
   "execution_count": 1,
   "id": "f159f837-637b-42ba-96b5-ec9a68c44524",
   "metadata": {
    "execution": {
     "iopub.execute_input": "2025-07-28T10:46:42.781393Z",
     "iopub.status.busy": "2025-07-28T10:46:42.780202Z",
     "iopub.status.idle": "2025-07-28T10:46:42.795297Z",
     "shell.execute_reply": "2025-07-28T10:46:42.794280Z"
    },
    "papermill": {
     "duration": 0.042118,
     "end_time": "2025-07-28T10:46:42.798445",
     "exception": false,
     "start_time": "2025-07-28T10:46:42.756327",
     "status": "completed"
    },
    "tags": []
   },
   "outputs": [
    {
     "name": "stdout",
     "output_type": "stream",
     "text": [
      "/dss/dsshome1/0C/ra93lal2/cma/CMA_Fairness_v2\n"
     ]
    },
    {
     "name": "stderr",
     "output_type": "stream",
     "text": [
      "/dss/dsshome1/0C/ra93lal2/.local/share/virtualenvs/CMA_Fairness_v2-3j10GkSs/lib/python3.10/site-packages/IPython/core/magics/osm.py:393: UserWarning: This is now an optional IPython functionality, using bookmarks requires you to install the `pickleshare` library.\n",
      "  bkms = self.shell.db.get('bookmarks', {})\n",
      "/dss/dsshome1/0C/ra93lal2/.local/share/virtualenvs/CMA_Fairness_v2-3j10GkSs/lib/python3.10/site-packages/IPython/core/magics/osm.py:417: UserWarning: This is now an optional IPython functionality, setting dhist requires you to install the `pickleshare` library.\n",
      "  self.shell.db['dhist'] = compress_dhist(dhist)[-100:]\n"
     ]
    }
   ],
   "source": [
    "%cd ~/cma/CMA_Fairness_v2"
   ]
  },
  {
   "cell_type": "markdown",
   "id": "de2603b9",
   "metadata": {
    "papermill": {
     "duration": 0.01781,
     "end_time": "2025-07-28T10:46:42.835062",
     "exception": false,
     "start_time": "2025-07-28T10:46:42.817252",
     "status": "completed"
    },
    "tags": []
   },
   "source": [
    "The following cell holds the definition of our parameters, these values can be overriden by rendering the with e.g. the following command:\n",
    "\n",
    "papermill -p alpha 0.2 -p ratio 0.3 universe_analysis.ipynb output/test_run.ipynb"
   ]
  },
  {
   "cell_type": "code",
   "execution_count": 2,
   "id": "a80968a0-40bb-4fa9-85ef-2d5eefb01975",
   "metadata": {
    "execution": {
     "iopub.execute_input": "2025-07-28T10:46:42.877574Z",
     "iopub.status.busy": "2025-07-28T10:46:42.876627Z",
     "iopub.status.idle": "2025-07-28T10:46:42.882953Z",
     "shell.execute_reply": "2025-07-28T10:46:42.881814Z"
    },
    "papermill": {
     "duration": 0.028754,
     "end_time": "2025-07-28T10:46:42.884398",
     "exception": false,
     "start_time": "2025-07-28T10:46:42.855644",
     "status": "completed"
    },
    "tags": []
   },
   "outputs": [
    {
     "name": "stdout",
     "output_type": "stream",
     "text": [
      "Current working directory: /dss/dsshome1/0C/ra93lal2/cma/CMA_Fairness_v2\n"
     ]
    }
   ],
   "source": [
    "import os\n",
    "print(\"Current working directory:\", os.getcwd())"
   ]
  },
  {
   "cell_type": "code",
   "execution_count": 3,
   "id": "2dce4c03",
   "metadata": {
    "execution": {
     "iopub.execute_input": "2025-07-28T10:46:42.908581Z",
     "iopub.status.busy": "2025-07-28T10:46:42.908178Z",
     "iopub.status.idle": "2025-07-28T10:46:42.913217Z",
     "shell.execute_reply": "2025-07-28T10:46:42.912306Z"
    },
    "papermill": {
     "duration": 0.018267,
     "end_time": "2025-07-28T10:46:42.914515",
     "exception": false,
     "start_time": "2025-07-28T10:46:42.896248",
     "status": "completed"
    },
    "tags": [
     "parameters"
    ]
   },
   "outputs": [],
   "source": [
    "run_no = 0\n",
    "universe_id = \"test\"\n",
    "universe = {\n",
    "    \"training_size\": \"2014\", # \"25k\", \"5k\", \"1k\", \"2014\"\n",
    "    \"scale\": \"scale\", # \"scale\", \"do-not-scale\",\n",
    "    #\"stratify_split\": \"target\", # \"none\", \"target\", \"protected-attribute\", \"both\",\n",
    "    \"model\": \"elasticnet\", # \"logreg\", \"penalized_logreg\", \"rf\", \"gbm\", \"elasticnet\"\n",
    "    \"cutoff\": [\"quantile_0.15\", \"quantile_0.30\"],\n",
    "    \"exclude_features\": \"age\", # \"none\", \"nationality\", \"sex\", \"nationality-sex\", \"age\"\n",
    "    \"exclude_subgroups\": \"keep-all\", # \"keep-all\", \"drop-non-german\"\n",
    "    \"eval_fairness_grouping\": [\"majority-minority\", \"nationality-all\"]\n",
    "}\n",
    "\n",
    "output_dir=\"./output\"\n",
    "seed=0"
   ]
  },
  {
   "cell_type": "code",
   "execution_count": 4,
   "id": "61a52d0a",
   "metadata": {
    "execution": {
     "iopub.execute_input": "2025-07-28T10:46:42.938875Z",
     "iopub.status.busy": "2025-07-28T10:46:42.938526Z",
     "iopub.status.idle": "2025-07-28T10:46:42.942897Z",
     "shell.execute_reply": "2025-07-28T10:46:42.942065Z"
    },
    "papermill": {
     "duration": 0.017765,
     "end_time": "2025-07-28T10:46:42.944270",
     "exception": false,
     "start_time": "2025-07-28T10:46:42.926505",
     "status": "completed"
    },
    "tags": [
     "injected-parameters"
    ]
   },
   "outputs": [],
   "source": [
    "# Parameters\n",
    "universe_id = \"f71d99b19c6e653ba546903ec1d4bf2e\"\n",
    "run_no = \"11\"\n",
    "universe = \"{\\\"cutoff\\\": [\\\"quantile_0.1\\\", \\\"quantile_0.25\\\"], \\\"eval_fairness_grouping\\\": [\\\"majority-minority\\\", \\\"nationality-all\\\"], \\\"exclude_features\\\": \\\"sex\\\", \\\"exclude_subgroups\\\": \\\"keep-all\\\", \\\"model\\\": \\\"elasticnet\\\", \\\"scale\\\": \\\"scale\\\", \\\"training_size\\\": \\\"1k\\\"}\"\n",
    "output_dir = \"output\"\n",
    "seed = \"2023\"\n"
   ]
  },
  {
   "cell_type": "code",
   "execution_count": 5,
   "id": "1650acaf",
   "metadata": {
    "execution": {
     "iopub.execute_input": "2025-07-28T10:46:42.967829Z",
     "iopub.status.busy": "2025-07-28T10:46:42.967302Z",
     "iopub.status.idle": "2025-07-28T10:46:42.972197Z",
     "shell.execute_reply": "2025-07-28T10:46:42.971396Z"
    },
    "papermill": {
     "duration": 0.018169,
     "end_time": "2025-07-28T10:46:42.973678",
     "exception": false,
     "start_time": "2025-07-28T10:46:42.955509",
     "status": "completed"
    },
    "tags": []
   },
   "outputs": [],
   "source": [
    "import json\n",
    "# Parse universe into dict if it is passed as a string\n",
    "if isinstance(universe, str):\n",
    "    universe = json.loads(universe)"
   ]
  },
  {
   "cell_type": "code",
   "execution_count": 6,
   "id": "16620c48",
   "metadata": {
    "execution": {
     "iopub.execute_input": "2025-07-28T10:46:43.014740Z",
     "iopub.status.busy": "2025-07-28T10:46:43.014282Z",
     "iopub.status.idle": "2025-07-28T10:46:43.062662Z",
     "shell.execute_reply": "2025-07-28T10:46:43.061628Z"
    },
    "papermill": {
     "duration": 0.071096,
     "end_time": "2025-07-28T10:46:43.064831",
     "exception": false,
     "start_time": "2025-07-28T10:46:42.993735",
     "status": "completed"
    },
    "tags": []
   },
   "outputs": [],
   "source": [
    "# Auto-reload the custom package\n",
    "%load_ext autoreload\n",
    "%autoreload 1\n",
    "%aimport fairness_multiverse"
   ]
  },
  {
   "cell_type": "code",
   "execution_count": 7,
   "id": "01c5c9f3",
   "metadata": {
    "execution": {
     "iopub.execute_input": "2025-07-28T10:46:43.106952Z",
     "iopub.status.busy": "2025-07-28T10:46:43.106004Z",
     "iopub.status.idle": "2025-07-28T10:46:45.197601Z",
     "shell.execute_reply": "2025-07-28T10:46:45.196364Z"
    },
    "papermill": {
     "duration": 2.116631,
     "end_time": "2025-07-28T10:46:45.200304",
     "exception": false,
     "start_time": "2025-07-28T10:46:43.083673",
     "status": "completed"
    },
    "tags": []
   },
   "outputs": [],
   "source": [
    "from fairness_multiverse.universe import UniverseAnalysis\n",
    "\n",
    "universe_analysis = UniverseAnalysis(\n",
    "    run_no = run_no,\n",
    "    universe_id = universe_id,\n",
    "    universe = universe,\n",
    "    output_dir=output_dir,\n",
    ")"
   ]
  },
  {
   "cell_type": "code",
   "execution_count": 8,
   "id": "106241f5",
   "metadata": {
    "execution": {
     "iopub.execute_input": "2025-07-28T10:46:45.261390Z",
     "iopub.status.busy": "2025-07-28T10:46:45.260554Z",
     "iopub.status.idle": "2025-07-28T10:46:45.267424Z",
     "shell.execute_reply": "2025-07-28T10:46:45.266508Z"
    },
    "papermill": {
     "duration": 0.039588,
     "end_time": "2025-07-28T10:46:45.269927",
     "exception": false,
     "start_time": "2025-07-28T10:46:45.230339",
     "status": "completed"
    },
    "tags": []
   },
   "outputs": [
    {
     "name": "stdout",
     "output_type": "stream",
     "text": [
      "Using Seed: 2023\n"
     ]
    }
   ],
   "source": [
    "import numpy as np\n",
    "parsed_seed = int(seed)\n",
    "np.random.seed(parsed_seed)\n",
    "print(f\"Using Seed: {parsed_seed}\")"
   ]
  },
  {
   "cell_type": "markdown",
   "id": "e0ebdc57",
   "metadata": {
    "papermill": {
     "duration": 0.029219,
     "end_time": "2025-07-28T10:46:45.328650",
     "exception": false,
     "start_time": "2025-07-28T10:46:45.299431",
     "status": "completed"
    },
    "tags": []
   },
   "source": [
    "# Loading Data"
   ]
  },
  {
   "cell_type": "markdown",
   "id": "681925a3",
   "metadata": {
    "papermill": {
     "duration": 0.029456,
     "end_time": "2025-07-28T10:46:45.387507",
     "exception": false,
     "start_time": "2025-07-28T10:46:45.358051",
     "status": "completed"
    },
    "tags": []
   },
   "source": [
    "Load siab_train, siab_test, siab_calib and/or \n",
    "load siab_train_features, siab_train_labels"
   ]
  },
  {
   "cell_type": "code",
   "execution_count": 9,
   "id": "f0496b8a",
   "metadata": {
    "execution": {
     "iopub.execute_input": "2025-07-28T10:46:45.448754Z",
     "iopub.status.busy": "2025-07-28T10:46:45.447932Z",
     "iopub.status.idle": "2025-07-28T10:46:58.134786Z",
     "shell.execute_reply": "2025-07-28T10:46:58.133585Z"
    },
    "papermill": {
     "duration": 12.719543,
     "end_time": "2025-07-28T10:46:58.136706",
     "exception": false,
     "start_time": "2025-07-28T10:46:45.417163",
     "status": "completed"
    },
    "tags": []
   },
   "outputs": [
    {
     "name": "stdout",
     "output_type": "stream",
     "text": [
      "Loading SIAB data from cache: data/siab_cached.csv.gz\n"
     ]
    },
    {
     "name": "stdout",
     "output_type": "stream",
     "text": [
      "(643690, 164)\n"
     ]
    }
   ],
   "source": [
    "from pathlib import Path\n",
    "import pandas as pd\n",
    "\n",
    "# File paths\n",
    "raw_file = Path(\"data/raw/siab.csv\")\n",
    "cache_file = Path(\"data/siab_cached.csv.gz\")\n",
    "\n",
    "# Ensure cache directory exists\n",
    "cache_file.parent.mkdir(parents=True, exist_ok=True)\n",
    "\n",
    "# Load with simple caching\n",
    "if cache_file.exists():\n",
    "    print(f\"Loading SIAB data from cache: {cache_file}\")\n",
    "    siab = pd.read_csv(cache_file, compression='gzip')\n",
    "else:\n",
    "    print(f\"Cache not found. Reading raw SIAB data: {raw_file}\")\n",
    "    siab = pd.read_csv(raw_file)\n",
    "    siab.to_csv(cache_file, index=False, compression='gzip')\n",
    "    print(f\"Cached SIAB data to: {cache_file}\")\n",
    "\n",
    "# Now use `siab` DataFrame as needed\n",
    "print(siab.shape)"
   ]
  },
  {
   "cell_type": "code",
   "execution_count": 10,
   "id": "db0ca512-5f53-4dba-abdb-a2888bca41ba",
   "metadata": {
    "execution": {
     "iopub.execute_input": "2025-07-28T10:46:58.182291Z",
     "iopub.status.busy": "2025-07-28T10:46:58.181751Z",
     "iopub.status.idle": "2025-07-28T10:46:58.187598Z",
     "shell.execute_reply": "2025-07-28T10:46:58.186689Z"
    },
    "papermill": {
     "duration": 0.029098,
     "end_time": "2025-07-28T10:46:58.189496",
     "exception": false,
     "start_time": "2025-07-28T10:46:58.160398",
     "status": "completed"
    },
    "tags": []
   },
   "outputs": [],
   "source": [
    "#siab"
   ]
  },
  {
   "cell_type": "code",
   "execution_count": 11,
   "id": "a0edb063",
   "metadata": {
    "execution": {
     "iopub.execute_input": "2025-07-28T10:46:58.231975Z",
     "iopub.status.busy": "2025-07-28T10:46:58.231040Z",
     "iopub.status.idle": "2025-07-28T10:46:58.237278Z",
     "shell.execute_reply": "2025-07-28T10:46:58.236183Z"
    },
    "papermill": {
     "duration": 0.028864,
     "end_time": "2025-07-28T10:46:58.239079",
     "exception": false,
     "start_time": "2025-07-28T10:46:58.210215",
     "status": "completed"
    },
    "tags": []
   },
   "outputs": [],
   "source": [
    "#import pandas as pd\n",
    "#\n",
    "#X_train = pd.read_csv(\"./data/X_train.csv\")\n",
    "#y_train = pd.read_csv(\"./data/y_train.csv\")"
   ]
  },
  {
   "cell_type": "code",
   "execution_count": 12,
   "id": "63d08085",
   "metadata": {
    "execution": {
     "iopub.execute_input": "2025-07-28T10:46:58.282414Z",
     "iopub.status.busy": "2025-07-28T10:46:58.281935Z",
     "iopub.status.idle": "2025-07-28T10:46:58.287137Z",
     "shell.execute_reply": "2025-07-28T10:46:58.286223Z"
    },
    "papermill": {
     "duration": 0.028672,
     "end_time": "2025-07-28T10:46:58.289140",
     "exception": false,
     "start_time": "2025-07-28T10:46:58.260468",
     "status": "completed"
    },
    "tags": []
   },
   "outputs": [],
   "source": [
    "#X_test = pd.read_csv(\"./data/X_test.csv\")\n",
    "#y_true = pd.read_csv(\"./data/y_test.csv\")"
   ]
  },
  {
   "cell_type": "code",
   "execution_count": 13,
   "id": "98a8d0fa-1d3d-4ed8-bb2c-281470e24add",
   "metadata": {
    "execution": {
     "iopub.execute_input": "2025-07-28T10:46:58.331627Z",
     "iopub.status.busy": "2025-07-28T10:46:58.331107Z",
     "iopub.status.idle": "2025-07-28T10:46:58.336194Z",
     "shell.execute_reply": "2025-07-28T10:46:58.335165Z"
    },
    "papermill": {
     "duration": 0.028046,
     "end_time": "2025-07-28T10:46:58.338019",
     "exception": false,
     "start_time": "2025-07-28T10:46:58.309973",
     "status": "completed"
    },
    "tags": []
   },
   "outputs": [],
   "source": [
    "# Calibration data for conformal\n",
    "#X_calib = pd.read_csv(\"./data/X_calib.csv\")\n",
    "#y_calib = pd.read_csv(\"./data/y_calib.csv\")"
   ]
  },
  {
   "cell_type": "markdown",
   "id": "9901737e-04df-44f0-9100-f5ad144ed040",
   "metadata": {
    "papermill": {
     "duration": 0.01965,
     "end_time": "2025-07-28T10:46:58.378883",
     "exception": false,
     "start_time": "2025-07-28T10:46:58.359233",
     "status": "completed"
    },
    "tags": []
   },
   "source": [
    "# Splitting Data and Setting Training Data Size"
   ]
  },
  {
   "cell_type": "code",
   "execution_count": 14,
   "id": "acbc8f7d-8fc8-4e86-8c59-5dcb0f58384b",
   "metadata": {
    "execution": {
     "iopub.execute_input": "2025-07-28T10:46:58.422039Z",
     "iopub.status.busy": "2025-07-28T10:46:58.421545Z",
     "iopub.status.idle": "2025-07-28T10:46:58.430084Z",
     "shell.execute_reply": "2025-07-28T10:46:58.429159Z"
    },
    "papermill": {
     "duration": 0.032179,
     "end_time": "2025-07-28T10:46:58.431819",
     "exception": false,
     "start_time": "2025-07-28T10:46:58.399640",
     "status": "completed"
    },
    "tags": []
   },
   "outputs": [],
   "source": [
    "def sample_by_year(df, training_size, random_state=42):\n",
    "    if training_size == \"2014\":\n",
    "        return df[df[\"year\"] == 2014].reset_index(drop=True)\n",
    "    \n",
    "    size_map = {\n",
    "        \"25k\": 5000,\n",
    "        \"5k\": 1000,\n",
    "        \"1k\": 200\n",
    "    }\n",
    "\n",
    "    if training_size not in size_map:\n",
    "        return df.reset_index(drop=True)  # use all data\n",
    "\n",
    "    n_per_year = size_map[training_size]\n",
    "    grouped = df.groupby(\"year\")\n",
    "    sampled = grouped.apply(lambda x: x.sample(n=min(n_per_year, len(x)), random_state=random_state))\n",
    "    return sampled.reset_index(drop=True)"
   ]
  },
  {
   "cell_type": "code",
   "execution_count": 15,
   "id": "6d931f52-beaf-43ff-9e78-9d44a448d54e",
   "metadata": {
    "execution": {
     "iopub.execute_input": "2025-07-28T10:46:58.476660Z",
     "iopub.status.busy": "2025-07-28T10:46:58.475593Z",
     "iopub.status.idle": "2025-07-28T10:46:59.182524Z",
     "shell.execute_reply": "2025-07-28T10:46:59.181470Z"
    },
    "papermill": {
     "duration": 0.732497,
     "end_time": "2025-07-28T10:46:59.185114",
     "exception": false,
     "start_time": "2025-07-28T10:46:58.452617",
     "status": "completed"
    },
    "tags": []
   },
   "outputs": [],
   "source": [
    "siab_s = sample_by_year(siab, universe[\"training_size\"])"
   ]
  },
  {
   "cell_type": "code",
   "execution_count": 16,
   "id": "5db0a40e-a4e2-4920-be85-b12ae061d70d",
   "metadata": {
    "execution": {
     "iopub.execute_input": "2025-07-28T10:46:59.231147Z",
     "iopub.status.busy": "2025-07-28T10:46:59.230589Z",
     "iopub.status.idle": "2025-07-28T10:46:59.245840Z",
     "shell.execute_reply": "2025-07-28T10:46:59.244856Z"
    },
    "papermill": {
     "duration": 0.037537,
     "end_time": "2025-07-28T10:46:59.247466",
     "exception": false,
     "start_time": "2025-07-28T10:46:59.209929",
     "status": "completed"
    },
    "tags": []
   },
   "outputs": [
    {
     "data": {
      "text/plain": [
       "year\n",
       "2010    200\n",
       "2011    200\n",
       "2012    200\n",
       "2013    200\n",
       "2014    200\n",
       "2015    200\n",
       "2016    200\n",
       "dtype: int64"
      ]
     },
     "metadata": {},
     "output_type": "display_data"
    }
   ],
   "source": [
    "display(siab_s.groupby(\"year\").size())"
   ]
  },
  {
   "cell_type": "code",
   "execution_count": 17,
   "id": "a561edb4-d032-42cb-8256-22eac1111c64",
   "metadata": {
    "execution": {
     "iopub.execute_input": "2025-07-28T10:46:59.289047Z",
     "iopub.status.busy": "2025-07-28T10:46:59.288062Z",
     "iopub.status.idle": "2025-07-28T10:46:59.567565Z",
     "shell.execute_reply": "2025-07-28T10:46:59.566557Z"
    },
    "papermill": {
     "duration": 0.302113,
     "end_time": "2025-07-28T10:46:59.569499",
     "exception": false,
     "start_time": "2025-07-28T10:46:59.267386",
     "status": "completed"
    },
    "tags": []
   },
   "outputs": [],
   "source": [
    "siab_train = siab_s[siab_s.year < 2015]\n",
    "siab_calib = siab[siab.year == 2015]\n",
    "siab_test = siab[siab.year == 2016]"
   ]
  },
  {
   "cell_type": "code",
   "execution_count": 18,
   "id": "472de16f-c3db-4916-846b-1f0de9cf1746",
   "metadata": {
    "execution": {
     "iopub.execute_input": "2025-07-28T10:46:59.610913Z",
     "iopub.status.busy": "2025-07-28T10:46:59.610355Z",
     "iopub.status.idle": "2025-07-28T10:46:59.617116Z",
     "shell.execute_reply": "2025-07-28T10:46:59.616175Z"
    },
    "papermill": {
     "duration": 0.029586,
     "end_time": "2025-07-28T10:46:59.618753",
     "exception": false,
     "start_time": "2025-07-28T10:46:59.589167",
     "status": "completed"
    },
    "tags": []
   },
   "outputs": [],
   "source": [
    "X_train = siab_train.iloc[:,4:164]\n",
    "y_train = siab_train.iloc[:, [3]]"
   ]
  },
  {
   "cell_type": "code",
   "execution_count": 19,
   "id": "828c96af-f43a-4ed6-ba47-8ac73a47d56c",
   "metadata": {
    "execution": {
     "iopub.execute_input": "2025-07-28T10:46:59.660360Z",
     "iopub.status.busy": "2025-07-28T10:46:59.659860Z",
     "iopub.status.idle": "2025-07-28T10:46:59.712605Z",
     "shell.execute_reply": "2025-07-28T10:46:59.711352Z"
    },
    "papermill": {
     "duration": 0.076117,
     "end_time": "2025-07-28T10:46:59.714522",
     "exception": false,
     "start_time": "2025-07-28T10:46:59.638405",
     "status": "completed"
    },
    "tags": []
   },
   "outputs": [],
   "source": [
    "X_calib = siab_calib.iloc[:,4:164]\n",
    "y_calib = siab_calib.iloc[:, [3]]"
   ]
  },
  {
   "cell_type": "code",
   "execution_count": 20,
   "id": "c34be9c3-6bd6-476e-acd3-845840e303be",
   "metadata": {
    "execution": {
     "iopub.execute_input": "2025-07-28T10:46:59.760121Z",
     "iopub.status.busy": "2025-07-28T10:46:59.759185Z",
     "iopub.status.idle": "2025-07-28T10:46:59.816101Z",
     "shell.execute_reply": "2025-07-28T10:46:59.814965Z"
    },
    "papermill": {
     "duration": 0.08145,
     "end_time": "2025-07-28T10:46:59.818229",
     "exception": false,
     "start_time": "2025-07-28T10:46:59.736779",
     "status": "completed"
    },
    "tags": []
   },
   "outputs": [],
   "source": [
    "X_test = siab_test.iloc[:,4:164]\n",
    "y_true = siab_test.iloc[:, [3]]"
   ]
  },
  {
   "cell_type": "code",
   "execution_count": 21,
   "id": "e6c733c5",
   "metadata": {
    "execution": {
     "iopub.execute_input": "2025-07-28T10:46:59.879622Z",
     "iopub.status.busy": "2025-07-28T10:46:59.879092Z",
     "iopub.status.idle": "2025-07-28T10:46:59.981016Z",
     "shell.execute_reply": "2025-07-28T10:46:59.979933Z"
    },
    "papermill": {
     "duration": 0.126901,
     "end_time": "2025-07-28T10:46:59.983389",
     "exception": false,
     "start_time": "2025-07-28T10:46:59.856488",
     "status": "completed"
    },
    "tags": []
   },
   "outputs": [],
   "source": [
    "# Auxiliary data needed downstream in the pipeline\n",
    "\n",
    "org_train = X_train.copy()\n",
    "org_test = X_test.copy()\n",
    "org_calib = X_calib.copy()"
   ]
  },
  {
   "cell_type": "markdown",
   "id": "0a4a1b33",
   "metadata": {
    "papermill": {
     "duration": 0.0119,
     "end_time": "2025-07-28T10:47:00.010331",
     "exception": false,
     "start_time": "2025-07-28T10:46:59.998431",
     "status": "completed"
    },
    "tags": []
   },
   "source": [
    "# Preprocessing Data"
   ]
  },
  {
   "cell_type": "code",
   "execution_count": 22,
   "id": "ca879031",
   "metadata": {
    "execution": {
     "iopub.execute_input": "2025-07-28T10:47:00.053289Z",
     "iopub.status.busy": "2025-07-28T10:47:00.052797Z",
     "iopub.status.idle": "2025-07-28T10:47:00.060005Z",
     "shell.execute_reply": "2025-07-28T10:47:00.059050Z"
    },
    "papermill": {
     "duration": 0.030494,
     "end_time": "2025-07-28T10:47:00.061616",
     "exception": false,
     "start_time": "2025-07-28T10:47:00.031122",
     "status": "completed"
    },
    "tags": []
   },
   "outputs": [],
   "source": [
    "# EXCLUDE PROTECTED FEATURES\n",
    "# ----------------------\n",
    "# \"exclude_features\": \"none\", # \"nationality\", \"sex\", \"nationality-sex\"\n",
    "\n",
    "excluded_features = universe[\"exclude_features\"].split(\"-\") # split, e.g.: \"nationality-sex\" -> [\"nationality\", \"sex\"]\n",
    "excluded_features_dictionary = {\n",
    "    \"nationality\": [\"maxdeutsch1\", \"maxdeutsch.Missing.\"],\n",
    "    \"sex\": [\"frau1\"],\n",
    "    \"age\": [\"age\"],\n",
    "}\n"
   ]
  },
  {
   "cell_type": "code",
   "execution_count": 23,
   "id": "b745ac60",
   "metadata": {
    "execution": {
     "iopub.execute_input": "2025-07-28T10:47:00.107073Z",
     "iopub.status.busy": "2025-07-28T10:47:00.106559Z",
     "iopub.status.idle": "2025-07-28T10:47:00.112496Z",
     "shell.execute_reply": "2025-07-28T10:47:00.111397Z"
    },
    "papermill": {
     "duration": 0.030833,
     "end_time": "2025-07-28T10:47:00.114313",
     "exception": false,
     "start_time": "2025-07-28T10:47:00.083480",
     "status": "completed"
    },
    "tags": []
   },
   "outputs": [],
   "source": [
    "# Code nice names to column names\n",
    "\n",
    "excluded_features_columns = [\n",
    "    excluded_features_dictionary[f] for f in excluded_features if len(f) > 0 and f != \"none\"\n",
    "]"
   ]
  },
  {
   "cell_type": "code",
   "execution_count": 24,
   "id": "f84f73a2",
   "metadata": {
    "execution": {
     "iopub.execute_input": "2025-07-28T10:47:00.161386Z",
     "iopub.status.busy": "2025-07-28T10:47:00.160617Z",
     "iopub.status.idle": "2025-07-28T10:47:00.167408Z",
     "shell.execute_reply": "2025-07-28T10:47:00.166446Z"
    },
    "papermill": {
     "duration": 0.032162,
     "end_time": "2025-07-28T10:47:00.169153",
     "exception": false,
     "start_time": "2025-07-28T10:47:00.136991",
     "status": "completed"
    },
    "tags": []
   },
   "outputs": [],
   "source": [
    "from utils import flatten_once\n",
    "\n",
    "excluded_features_columns = flatten_once(excluded_features_columns)"
   ]
  },
  {
   "cell_type": "code",
   "execution_count": 25,
   "id": "884dea22",
   "metadata": {
    "execution": {
     "iopub.execute_input": "2025-07-28T10:47:00.214814Z",
     "iopub.status.busy": "2025-07-28T10:47:00.214302Z",
     "iopub.status.idle": "2025-07-28T10:47:00.222149Z",
     "shell.execute_reply": "2025-07-28T10:47:00.221190Z"
    },
    "papermill": {
     "duration": 0.03283,
     "end_time": "2025-07-28T10:47:00.223994",
     "exception": false,
     "start_time": "2025-07-28T10:47:00.191164",
     "status": "completed"
    },
    "tags": []
   },
   "outputs": [
    {
     "name": "stdout",
     "output_type": "stream",
     "text": [
      "Dropping features: ['frau1']\n"
     ]
    }
   ],
   "source": [
    "if len(excluded_features_columns) > 0:\n",
    "    print(f\"Dropping features: {excluded_features_columns}\")\n",
    "    X_train.drop(excluded_features_columns, axis=1, inplace=True)"
   ]
  },
  {
   "cell_type": "code",
   "execution_count": 26,
   "id": "95ab8b16",
   "metadata": {
    "execution": {
     "iopub.execute_input": "2025-07-28T10:47:00.267712Z",
     "iopub.status.busy": "2025-07-28T10:47:00.266668Z",
     "iopub.status.idle": "2025-07-28T10:47:00.324456Z",
     "shell.execute_reply": "2025-07-28T10:47:00.323151Z"
    },
    "papermill": {
     "duration": 0.080503,
     "end_time": "2025-07-28T10:47:00.326327",
     "exception": false,
     "start_time": "2025-07-28T10:47:00.245824",
     "status": "completed"
    },
    "tags": []
   },
   "outputs": [
    {
     "name": "stdout",
     "output_type": "stream",
     "text": [
      "Dropping features: ['frau1']\n"
     ]
    }
   ],
   "source": [
    "if len(excluded_features_columns) > 0:\n",
    "    print(f\"Dropping features: {excluded_features_columns}\")\n",
    "    X_test.drop(excluded_features_columns, axis=1, inplace=True)"
   ]
  },
  {
   "cell_type": "code",
   "execution_count": 27,
   "id": "1853aaf5-fb9f-46cb-a2b5-8ea4ae2237e4",
   "metadata": {
    "execution": {
     "iopub.execute_input": "2025-07-28T10:47:00.371559Z",
     "iopub.status.busy": "2025-07-28T10:47:00.370995Z",
     "iopub.status.idle": "2025-07-28T10:47:00.425723Z",
     "shell.execute_reply": "2025-07-28T10:47:00.424670Z"
    },
    "papermill": {
     "duration": 0.079395,
     "end_time": "2025-07-28T10:47:00.427393",
     "exception": false,
     "start_time": "2025-07-28T10:47:00.347998",
     "status": "completed"
    },
    "tags": []
   },
   "outputs": [
    {
     "name": "stdout",
     "output_type": "stream",
     "text": [
      "Dropping features: ['frau1']\n"
     ]
    }
   ],
   "source": [
    "if len(excluded_features_columns) > 0:\n",
    "    print(f\"Dropping features: {excluded_features_columns}\")\n",
    "    X_calib.drop(excluded_features_columns, axis=1, inplace=True)"
   ]
  },
  {
   "cell_type": "code",
   "execution_count": 28,
   "id": "6727d079-03e5-481e-9d38-292a90b7a0a8",
   "metadata": {
    "execution": {
     "iopub.execute_input": "2025-07-28T10:47:00.474349Z",
     "iopub.status.busy": "2025-07-28T10:47:00.473714Z",
     "iopub.status.idle": "2025-07-28T10:47:00.479030Z",
     "shell.execute_reply": "2025-07-28T10:47:00.478060Z"
    },
    "papermill": {
     "duration": 0.030682,
     "end_time": "2025-07-28T10:47:00.481120",
     "exception": false,
     "start_time": "2025-07-28T10:47:00.450438",
     "status": "completed"
    },
    "tags": []
   },
   "outputs": [],
   "source": [
    "# SPLIT & STRATIFY DATA\n",
    "# ----------------------"
   ]
  },
  {
   "cell_type": "code",
   "execution_count": 29,
   "id": "76c4dc6d",
   "metadata": {
    "execution": {
     "iopub.execute_input": "2025-07-28T10:47:00.527417Z",
     "iopub.status.busy": "2025-07-28T10:47:00.526871Z",
     "iopub.status.idle": "2025-07-28T10:47:00.532651Z",
     "shell.execute_reply": "2025-07-28T10:47:00.531628Z"
    },
    "papermill": {
     "duration": 0.030834,
     "end_time": "2025-07-28T10:47:00.534397",
     "exception": false,
     "start_time": "2025-07-28T10:47:00.503563",
     "status": "completed"
    },
    "tags": []
   },
   "outputs": [],
   "source": [
    "# EXCLUDE CERTAIN SUBGROUPS\n",
    "# ----------------------\n",
    "\n",
    "mode = universe.get(\"exclude_subgroups\", \"keep-all\") \n",
    "# Fetches the exclude_subgroups setting from the universe dict.\n",
    "# Defaults to \"keep-all\" if the key is missing."
   ]
  },
  {
   "cell_type": "code",
   "execution_count": 30,
   "id": "21994072",
   "metadata": {
    "execution": {
     "iopub.execute_input": "2025-07-28T10:47:00.579911Z",
     "iopub.status.busy": "2025-07-28T10:47:00.579384Z",
     "iopub.status.idle": "2025-07-28T10:47:00.586574Z",
     "shell.execute_reply": "2025-07-28T10:47:00.585529Z"
    },
    "papermill": {
     "duration": 0.032087,
     "end_time": "2025-07-28T10:47:00.588434",
     "exception": false,
     "start_time": "2025-07-28T10:47:00.556347",
     "status": "completed"
    },
    "tags": []
   },
   "outputs": [],
   "source": [
    "if mode == \"keep-all\":\n",
    "    keep_mask = pd.Series(True, index=org_train.index)\n",
    "\n",
    "# org_train contains the original feature columns from features_org (in Simson)\n",
    "# features_org contains unprocessed features, for me X_train at beginning ???\n",
    "# For keep-all, creates a boolean Series (keep_mask) of all True, so no rows are removed.\n",
    "\n",
    "elif mode == \"drop-non-german\":\n",
    "    keep_mask = org_train[\"maxdeutsch1\"] == 1 # ??? what about missing values?\n",
    "\n",
    "else:\n",
    "    raise ValueError(f\"Unsupported mode for exclude_subgroups: {mode}\")\n"
   ]
  },
  {
   "cell_type": "code",
   "execution_count": 31,
   "id": "71651440",
   "metadata": {
    "execution": {
     "iopub.execute_input": "2025-07-28T10:47:00.633966Z",
     "iopub.status.busy": "2025-07-28T10:47:00.633159Z",
     "iopub.status.idle": "2025-07-28T10:47:00.640488Z",
     "shell.execute_reply": "2025-07-28T10:47:00.639452Z"
    },
    "papermill": {
     "duration": 0.031638,
     "end_time": "2025-07-28T10:47:00.642230",
     "exception": false,
     "start_time": "2025-07-28T10:47:00.610592",
     "status": "completed"
    },
    "tags": []
   },
   "outputs": [],
   "source": [
    "n_drop = (~keep_mask).sum() # Calculates how many rows are set to be dropped\n",
    "if n_drop > 0:\n",
    "    pct = n_drop / len(keep_mask) * 100\n",
    "    print(f\"Dropping {n_drop} rows ({pct:.2f}%) where mode='{mode}'\")"
   ]
  },
  {
   "cell_type": "code",
   "execution_count": 32,
   "id": "5fb8eee5",
   "metadata": {
    "execution": {
     "iopub.execute_input": "2025-07-28T10:47:00.687956Z",
     "iopub.status.busy": "2025-07-28T10:47:00.687390Z",
     "iopub.status.idle": "2025-07-28T10:47:00.694332Z",
     "shell.execute_reply": "2025-07-28T10:47:00.693284Z"
    },
    "papermill": {
     "duration": 0.031574,
     "end_time": "2025-07-28T10:47:00.696220",
     "exception": false,
     "start_time": "2025-07-28T10:47:00.664646",
     "status": "completed"
    },
    "tags": []
   },
   "outputs": [],
   "source": [
    "X_train = X_train[keep_mask]"
   ]
  },
  {
   "cell_type": "code",
   "execution_count": 33,
   "id": "b202bb3a",
   "metadata": {
    "execution": {
     "iopub.execute_input": "2025-07-28T10:47:00.742631Z",
     "iopub.status.busy": "2025-07-28T10:47:00.741901Z",
     "iopub.status.idle": "2025-07-28T10:47:00.748533Z",
     "shell.execute_reply": "2025-07-28T10:47:00.747524Z"
    },
    "papermill": {
     "duration": 0.031422,
     "end_time": "2025-07-28T10:47:00.750202",
     "exception": false,
     "start_time": "2025-07-28T10:47:00.718780",
     "status": "completed"
    },
    "tags": []
   },
   "outputs": [],
   "source": [
    "y_train = y_train[keep_mask]"
   ]
  },
  {
   "cell_type": "markdown",
   "id": "493e2ac3",
   "metadata": {
    "papermill": {
     "duration": 0.02182,
     "end_time": "2025-07-28T10:47:00.794216",
     "exception": false,
     "start_time": "2025-07-28T10:47:00.772396",
     "status": "completed"
    },
    "tags": []
   },
   "source": [
    "# Model Training"
   ]
  },
  {
   "cell_type": "code",
   "execution_count": 34,
   "id": "679e1268",
   "metadata": {
    "execution": {
     "iopub.execute_input": "2025-07-28T10:47:00.839569Z",
     "iopub.status.busy": "2025-07-28T10:47:00.838580Z",
     "iopub.status.idle": "2025-07-28T10:47:00.950125Z",
     "shell.execute_reply": "2025-07-28T10:47:00.949003Z"
    },
    "papermill": {
     "duration": 0.136075,
     "end_time": "2025-07-28T10:47:00.952166",
     "exception": false,
     "start_time": "2025-07-28T10:47:00.816091",
     "status": "completed"
    },
    "tags": []
   },
   "outputs": [],
   "source": [
    "from sklearn.linear_model import LogisticRegression\n",
    "from sklearn.ensemble import GradientBoostingClassifier, RandomForestClassifier\n",
    "\n",
    "if (universe[\"model\"] == \"logreg\"):\n",
    "    model = LogisticRegression() #penalty=\"none\") #, solver=\"newton-cg\", max_iter=1) # include random_state=19 ?\n",
    "elif (universe[\"model\"] == \"penalized_logreg\"):\n",
    "    model = LogisticRegression(penalty=\"l2\", C=1.0) #, solver=\"newton-cg\", max_iter=1)\n",
    "elif (universe[\"model\"] == \"rf\"):\n",
    "    model = RandomForestClassifier(n_estimators=100, n_jobs=-1)\n",
    "elif (universe[\"model\"] == \"gbm\"):\n",
    "    model = GradientBoostingClassifier()\n",
    "elif (universe[\"model\"] == \"elasticnet\"):\n",
    "    model = LogisticRegression(penalty = 'elasticnet', solver = 'saga', l1_ratio = 0.5, max_iter=5000) # which solver to use?\n",
    "else:\n",
    "    raise \"Unsupported universe.model\""
   ]
  },
  {
   "cell_type": "code",
   "execution_count": 35,
   "id": "0cc8f744",
   "metadata": {
    "execution": {
     "iopub.execute_input": "2025-07-28T10:47:00.998607Z",
     "iopub.status.busy": "2025-07-28T10:47:00.997926Z",
     "iopub.status.idle": "2025-07-28T10:47:01.005060Z",
     "shell.execute_reply": "2025-07-28T10:47:01.004023Z"
    },
    "papermill": {
     "duration": 0.032192,
     "end_time": "2025-07-28T10:47:01.007223",
     "exception": false,
     "start_time": "2025-07-28T10:47:00.975031",
     "status": "completed"
    },
    "tags": []
   },
   "outputs": [],
   "source": [
    "import numpy as np\n",
    "from sklearn.pipeline import Pipeline\n",
    "from sklearn.preprocessing import StandardScaler\n",
    "\n",
    "model = Pipeline([\n",
    "    #(\"continuous_processor\", continuous_processor),\n",
    "    #(\"categorical_preprocessor\", categorical_preprocessor),\n",
    "    (\"scale\", StandardScaler() if universe[\"scale\"] == \"scale\" else None), \n",
    "    (\"model\", model),\n",
    "])"
   ]
  },
  {
   "cell_type": "code",
   "execution_count": 36,
   "id": "9442c04d",
   "metadata": {
    "execution": {
     "iopub.execute_input": "2025-07-28T10:47:01.054448Z",
     "iopub.status.busy": "2025-07-28T10:47:01.053718Z",
     "iopub.status.idle": "2025-07-28T10:47:05.052592Z",
     "shell.execute_reply": "2025-07-28T10:47:05.051568Z"
    },
    "papermill": {
     "duration": 4.024184,
     "end_time": "2025-07-28T10:47:05.054277",
     "exception": false,
     "start_time": "2025-07-28T10:47:01.030093",
     "status": "completed"
    },
    "tags": []
   },
   "outputs": [
    {
     "data": {
      "text/html": [
       "<style>#sk-container-id-1 {color: black;background-color: white;}#sk-container-id-1 pre{padding: 0;}#sk-container-id-1 div.sk-toggleable {background-color: white;}#sk-container-id-1 label.sk-toggleable__label {cursor: pointer;display: block;width: 100%;margin-bottom: 0;padding: 0.3em;box-sizing: border-box;text-align: center;}#sk-container-id-1 label.sk-toggleable__label-arrow:before {content: \"▸\";float: left;margin-right: 0.25em;color: #696969;}#sk-container-id-1 label.sk-toggleable__label-arrow:hover:before {color: black;}#sk-container-id-1 div.sk-estimator:hover label.sk-toggleable__label-arrow:before {color: black;}#sk-container-id-1 div.sk-toggleable__content {max-height: 0;max-width: 0;overflow: hidden;text-align: left;background-color: #f0f8ff;}#sk-container-id-1 div.sk-toggleable__content pre {margin: 0.2em;color: black;border-radius: 0.25em;background-color: #f0f8ff;}#sk-container-id-1 input.sk-toggleable__control:checked~div.sk-toggleable__content {max-height: 200px;max-width: 100%;overflow: auto;}#sk-container-id-1 input.sk-toggleable__control:checked~label.sk-toggleable__label-arrow:before {content: \"▾\";}#sk-container-id-1 div.sk-estimator input.sk-toggleable__control:checked~label.sk-toggleable__label {background-color: #d4ebff;}#sk-container-id-1 div.sk-label input.sk-toggleable__control:checked~label.sk-toggleable__label {background-color: #d4ebff;}#sk-container-id-1 input.sk-hidden--visually {border: 0;clip: rect(1px 1px 1px 1px);clip: rect(1px, 1px, 1px, 1px);height: 1px;margin: -1px;overflow: hidden;padding: 0;position: absolute;width: 1px;}#sk-container-id-1 div.sk-estimator {font-family: monospace;background-color: #f0f8ff;border: 1px dotted black;border-radius: 0.25em;box-sizing: border-box;margin-bottom: 0.5em;}#sk-container-id-1 div.sk-estimator:hover {background-color: #d4ebff;}#sk-container-id-1 div.sk-parallel-item::after {content: \"\";width: 100%;border-bottom: 1px solid gray;flex-grow: 1;}#sk-container-id-1 div.sk-label:hover label.sk-toggleable__label {background-color: #d4ebff;}#sk-container-id-1 div.sk-serial::before {content: \"\";position: absolute;border-left: 1px solid gray;box-sizing: border-box;top: 0;bottom: 0;left: 50%;z-index: 0;}#sk-container-id-1 div.sk-serial {display: flex;flex-direction: column;align-items: center;background-color: white;padding-right: 0.2em;padding-left: 0.2em;position: relative;}#sk-container-id-1 div.sk-item {position: relative;z-index: 1;}#sk-container-id-1 div.sk-parallel {display: flex;align-items: stretch;justify-content: center;background-color: white;position: relative;}#sk-container-id-1 div.sk-item::before, #sk-container-id-1 div.sk-parallel-item::before {content: \"\";position: absolute;border-left: 1px solid gray;box-sizing: border-box;top: 0;bottom: 0;left: 50%;z-index: -1;}#sk-container-id-1 div.sk-parallel-item {display: flex;flex-direction: column;z-index: 1;position: relative;background-color: white;}#sk-container-id-1 div.sk-parallel-item:first-child::after {align-self: flex-end;width: 50%;}#sk-container-id-1 div.sk-parallel-item:last-child::after {align-self: flex-start;width: 50%;}#sk-container-id-1 div.sk-parallel-item:only-child::after {width: 0;}#sk-container-id-1 div.sk-dashed-wrapped {border: 1px dashed gray;margin: 0 0.4em 0.5em 0.4em;box-sizing: border-box;padding-bottom: 0.4em;background-color: white;}#sk-container-id-1 div.sk-label label {font-family: monospace;font-weight: bold;display: inline-block;line-height: 1.2em;}#sk-container-id-1 div.sk-label-container {text-align: center;}#sk-container-id-1 div.sk-container {/* jupyter's `normalize.less` sets `[hidden] { display: none; }` but bootstrap.min.css set `[hidden] { display: none !important; }` so we also need the `!important` here to be able to override the default hidden behavior on the sphinx rendered scikit-learn.org. See: https://github.com/scikit-learn/scikit-learn/issues/21755 */display: inline-block !important;position: relative;}#sk-container-id-1 div.sk-text-repr-fallback {display: none;}</style><div id=\"sk-container-id-1\" class=\"sk-top-container\"><div class=\"sk-text-repr-fallback\"><pre>Pipeline(steps=[(&#x27;scale&#x27;, StandardScaler()),\n",
       "                (&#x27;model&#x27;,\n",
       "                 LogisticRegression(l1_ratio=0.5, max_iter=5000,\n",
       "                                    penalty=&#x27;elasticnet&#x27;, solver=&#x27;saga&#x27;))])</pre><b>In a Jupyter environment, please rerun this cell to show the HTML representation or trust the notebook. <br />On GitHub, the HTML representation is unable to render, please try loading this page with nbviewer.org.</b></div><div class=\"sk-container\" hidden><div class=\"sk-item sk-dashed-wrapped\"><div class=\"sk-label-container\"><div class=\"sk-label sk-toggleable\"><input class=\"sk-toggleable__control sk-hidden--visually\" id=\"sk-estimator-id-1\" type=\"checkbox\" ><label for=\"sk-estimator-id-1\" class=\"sk-toggleable__label sk-toggleable__label-arrow\">Pipeline</label><div class=\"sk-toggleable__content\"><pre>Pipeline(steps=[(&#x27;scale&#x27;, StandardScaler()),\n",
       "                (&#x27;model&#x27;,\n",
       "                 LogisticRegression(l1_ratio=0.5, max_iter=5000,\n",
       "                                    penalty=&#x27;elasticnet&#x27;, solver=&#x27;saga&#x27;))])</pre></div></div></div><div class=\"sk-serial\"><div class=\"sk-item\"><div class=\"sk-estimator sk-toggleable\"><input class=\"sk-toggleable__control sk-hidden--visually\" id=\"sk-estimator-id-2\" type=\"checkbox\" ><label for=\"sk-estimator-id-2\" class=\"sk-toggleable__label sk-toggleable__label-arrow\">StandardScaler</label><div class=\"sk-toggleable__content\"><pre>StandardScaler()</pre></div></div></div><div class=\"sk-item\"><div class=\"sk-estimator sk-toggleable\"><input class=\"sk-toggleable__control sk-hidden--visually\" id=\"sk-estimator-id-3\" type=\"checkbox\" ><label for=\"sk-estimator-id-3\" class=\"sk-toggleable__label sk-toggleable__label-arrow\">LogisticRegression</label><div class=\"sk-toggleable__content\"><pre>LogisticRegression(l1_ratio=0.5, max_iter=5000, penalty=&#x27;elasticnet&#x27;,\n",
       "                   solver=&#x27;saga&#x27;)</pre></div></div></div></div></div></div></div>"
      ],
      "text/plain": [
       "Pipeline(steps=[('scale', StandardScaler()),\n",
       "                ('model',\n",
       "                 LogisticRegression(l1_ratio=0.5, max_iter=5000,\n",
       "                                    penalty='elasticnet', solver='saga'))])"
      ]
     },
     "execution_count": 36,
     "metadata": {},
     "output_type": "execute_result"
    }
   ],
   "source": [
    "model.fit(X_train, y_train.values.ravel())"
   ]
  },
  {
   "cell_type": "code",
   "execution_count": 37,
   "id": "af59f8c0",
   "metadata": {
    "execution": {
     "iopub.execute_input": "2025-07-28T10:47:05.099586Z",
     "iopub.status.busy": "2025-07-28T10:47:05.098598Z",
     "iopub.status.idle": "2025-07-28T10:47:05.104405Z",
     "shell.execute_reply": "2025-07-28T10:47:05.103436Z"
    },
    "papermill": {
     "duration": 0.029863,
     "end_time": "2025-07-28T10:47:05.106243",
     "exception": false,
     "start_time": "2025-07-28T10:47:05.076380",
     "status": "completed"
    },
    "tags": []
   },
   "outputs": [],
   "source": [
    "from fairness_multiverse.universe import predict_w_threshold"
   ]
  },
  {
   "cell_type": "code",
   "execution_count": 38,
   "id": "a7cf2e16",
   "metadata": {
    "execution": {
     "iopub.execute_input": "2025-07-28T10:47:05.150920Z",
     "iopub.status.busy": "2025-07-28T10:47:05.150370Z",
     "iopub.status.idle": "2025-07-28T10:47:05.354533Z",
     "shell.execute_reply": "2025-07-28T10:47:05.353498Z"
    },
    "papermill": {
     "duration": 0.228911,
     "end_time": "2025-07-28T10:47:05.356599",
     "exception": false,
     "start_time": "2025-07-28T10:47:05.127688",
     "status": "completed"
    },
    "tags": []
   },
   "outputs": [
    {
     "data": {
      "text/plain": [
       "0.824724111024412"
      ]
     },
     "execution_count": 38,
     "metadata": {},
     "output_type": "execute_result"
    }
   ],
   "source": [
    "probs_test = model.predict_proba(X_test)\n",
    "\n",
    "'''\n",
    "Below code returns a boolean array (or binary 0/1 array depending on how it’s used) where each element \n",
    "is True if the probability of class 1 is greater than or equal to the threshold, and False otherwise.\n",
    "'''\n",
    "y_pred_default = predict_w_threshold(probs_test, 0.5)\n",
    "\n",
    "from sklearn.metrics import accuracy_score\n",
    "\n",
    "# Naive prediction\n",
    "accuracy_score(y_true = y_true, y_pred = y_pred_default)"
   ]
  },
  {
   "cell_type": "code",
   "execution_count": 39,
   "id": "081964c3",
   "metadata": {
    "execution": {
     "iopub.execute_input": "2025-07-28T10:47:05.415832Z",
     "iopub.status.busy": "2025-07-28T10:47:05.414638Z",
     "iopub.status.idle": "2025-07-28T10:47:05.605325Z",
     "shell.execute_reply": "2025-07-28T10:47:05.604372Z"
    },
    "papermill": {
     "duration": 0.224548,
     "end_time": "2025-07-28T10:47:05.606960",
     "exception": false,
     "start_time": "2025-07-28T10:47:05.382412",
     "status": "completed"
    },
    "tags": []
   },
   "outputs": [
    {
     "data": {
      "text/plain": [
       "array([0, 0, 0, ..., 0, 0, 0])"
      ]
     },
     "execution_count": 39,
     "metadata": {},
     "output_type": "execute_result"
    }
   ],
   "source": [
    "model.predict(X_test)"
   ]
  },
  {
   "cell_type": "markdown",
   "id": "56c9705b",
   "metadata": {
    "papermill": {
     "duration": 0.021761,
     "end_time": "2025-07-28T10:47:05.650694",
     "exception": false,
     "start_time": "2025-07-28T10:47:05.628933",
     "status": "completed"
    },
    "tags": []
   },
   "source": [
    "# Conformal Prediction"
   ]
  },
  {
   "cell_type": "code",
   "execution_count": 40,
   "id": "160ec6ff",
   "metadata": {
    "execution": {
     "iopub.execute_input": "2025-07-28T10:47:05.696642Z",
     "iopub.status.busy": "2025-07-28T10:47:05.695673Z",
     "iopub.status.idle": "2025-07-28T10:47:05.701589Z",
     "shell.execute_reply": "2025-07-28T10:47:05.700503Z"
    },
    "papermill": {
     "duration": 0.030531,
     "end_time": "2025-07-28T10:47:05.703359",
     "exception": false,
     "start_time": "2025-07-28T10:47:05.672828",
     "status": "completed"
    },
    "tags": []
   },
   "outputs": [],
   "source": [
    "# Miscoverage level for conformal prediction (10% allowed error rate => 90% target coverage)\n",
    "alpha = 0.1"
   ]
  },
  {
   "cell_type": "code",
   "execution_count": 41,
   "id": "eadf4555-3dd3-440e-8e35-f82a4ad9f855",
   "metadata": {
    "execution": {
     "iopub.execute_input": "2025-07-28T10:47:05.753586Z",
     "iopub.status.busy": "2025-07-28T10:47:05.752695Z",
     "iopub.status.idle": "2025-07-28T10:47:05.930670Z",
     "shell.execute_reply": "2025-07-28T10:47:05.929650Z"
    },
    "papermill": {
     "duration": 0.204619,
     "end_time": "2025-07-28T10:47:05.932820",
     "exception": false,
     "start_time": "2025-07-28T10:47:05.728201",
     "status": "completed"
    },
    "tags": []
   },
   "outputs": [],
   "source": [
    "probs_calib = model.predict_proba(X_calib)"
   ]
  },
  {
   "cell_type": "code",
   "execution_count": 42,
   "id": "2ed93547-6d5d-4983-9b36-1ecb300da49a",
   "metadata": {
    "execution": {
     "iopub.execute_input": "2025-07-28T10:47:05.982303Z",
     "iopub.status.busy": "2025-07-28T10:47:05.981585Z",
     "iopub.status.idle": "2025-07-28T10:47:05.987479Z",
     "shell.execute_reply": "2025-07-28T10:47:05.986536Z"
    },
    "papermill": {
     "duration": 0.031719,
     "end_time": "2025-07-28T10:47:05.989415",
     "exception": false,
     "start_time": "2025-07-28T10:47:05.957696",
     "status": "completed"
    },
    "tags": []
   },
   "outputs": [],
   "source": [
    "y_calib = y_calib.values.ravel().astype(int)"
   ]
  },
  {
   "cell_type": "code",
   "execution_count": 43,
   "id": "65d1320d-f588-4b38-9072-62af1ae97f7d",
   "metadata": {
    "execution": {
     "iopub.execute_input": "2025-07-28T10:47:06.038802Z",
     "iopub.status.busy": "2025-07-28T10:47:06.037970Z",
     "iopub.status.idle": "2025-07-28T10:47:06.045419Z",
     "shell.execute_reply": "2025-07-28T10:47:06.044461Z"
    },
    "papermill": {
     "duration": 0.033722,
     "end_time": "2025-07-28T10:47:06.047173",
     "exception": false,
     "start_time": "2025-07-28T10:47:06.013451",
     "status": "completed"
    },
    "tags": []
   },
   "outputs": [],
   "source": [
    "from fairness_multiverse.conformal import compute_nc_scores\n",
    "\n",
    "# Compute nonconformity scores on calibration set (1 - probability of true class)\n",
    "nc_scores = compute_nc_scores(probs_calib, y_calib)"
   ]
  },
  {
   "cell_type": "code",
   "execution_count": 44,
   "id": "df3b8ca3-53b7-43d5-9667-7c85da7aeda2",
   "metadata": {
    "execution": {
     "iopub.execute_input": "2025-07-28T10:47:06.094631Z",
     "iopub.status.busy": "2025-07-28T10:47:06.093972Z",
     "iopub.status.idle": "2025-07-28T10:47:06.101626Z",
     "shell.execute_reply": "2025-07-28T10:47:06.100768Z"
    },
    "papermill": {
     "duration": 0.032772,
     "end_time": "2025-07-28T10:47:06.103343",
     "exception": false,
     "start_time": "2025-07-28T10:47:06.070571",
     "status": "completed"
    },
    "tags": []
   },
   "outputs": [],
   "source": [
    "from fairness_multiverse.conformal import find_threshold\n",
    "\n",
    "# Find conformal threshold q_hat for the given alpha (split conformal method)\n",
    "q_hat = find_threshold(nc_scores, alpha)"
   ]
  },
  {
   "cell_type": "code",
   "execution_count": 45,
   "id": "4d29e6c1-0ef6-4aa4-b8fe-4fe79b0d033a",
   "metadata": {
    "execution": {
     "iopub.execute_input": "2025-07-28T10:47:06.152470Z",
     "iopub.status.busy": "2025-07-28T10:47:06.151795Z",
     "iopub.status.idle": "2025-07-28T10:47:06.159212Z",
     "shell.execute_reply": "2025-07-28T10:47:06.158264Z"
    },
    "papermill": {
     "duration": 0.033417,
     "end_time": "2025-07-28T10:47:06.160768",
     "exception": false,
     "start_time": "2025-07-28T10:47:06.127351",
     "status": "completed"
    },
    "tags": []
   },
   "outputs": [
    {
     "data": {
      "text/plain": [
       "0.754043070621413"
      ]
     },
     "execution_count": 45,
     "metadata": {},
     "output_type": "execute_result"
    }
   ],
   "source": [
    "q_hat"
   ]
  },
  {
   "cell_type": "code",
   "execution_count": 46,
   "id": "92460794-cdac-4be2-ba28-f28c0515a6fb",
   "metadata": {
    "execution": {
     "iopub.execute_input": "2025-07-28T10:47:06.210024Z",
     "iopub.status.busy": "2025-07-28T10:47:06.209295Z",
     "iopub.status.idle": "2025-07-28T10:47:07.155348Z",
     "shell.execute_reply": "2025-07-28T10:47:07.154237Z"
    },
    "papermill": {
     "duration": 0.973002,
     "end_time": "2025-07-28T10:47:07.157486",
     "exception": false,
     "start_time": "2025-07-28T10:47:06.184484",
     "status": "completed"
    },
    "tags": []
   },
   "outputs": [],
   "source": [
    "from fairness_multiverse.conformal import predict_conformal_sets\n",
    "\n",
    "# Generate prediction sets for each test example\n",
    "pred_sets = predict_conformal_sets(model, X_test, q_hat)"
   ]
  },
  {
   "cell_type": "code",
   "execution_count": 47,
   "id": "d90c9a65-e6db-4f5d-80cd-e68fb7e46829",
   "metadata": {
    "execution": {
     "iopub.execute_input": "2025-07-28T10:47:07.206496Z",
     "iopub.status.busy": "2025-07-28T10:47:07.205820Z",
     "iopub.status.idle": "2025-07-28T10:47:07.211412Z",
     "shell.execute_reply": "2025-07-28T10:47:07.210408Z"
    },
    "papermill": {
     "duration": 0.032228,
     "end_time": "2025-07-28T10:47:07.213152",
     "exception": false,
     "start_time": "2025-07-28T10:47:07.180924",
     "status": "completed"
    },
    "tags": []
   },
   "outputs": [],
   "source": [
    "y_true = y_true.squeeze()"
   ]
  },
  {
   "cell_type": "code",
   "execution_count": 48,
   "id": "3a58a54a-1e68-46b9-927a-df01f18aebc8",
   "metadata": {
    "execution": {
     "iopub.execute_input": "2025-07-28T10:47:07.269142Z",
     "iopub.status.busy": "2025-07-28T10:47:07.268358Z",
     "iopub.status.idle": "2025-07-28T10:47:08.046878Z",
     "shell.execute_reply": "2025-07-28T10:47:08.046069Z"
    },
    "papermill": {
     "duration": 0.811783,
     "end_time": "2025-07-28T10:47:08.049435",
     "exception": false,
     "start_time": "2025-07-28T10:47:07.237652",
     "status": "completed"
    },
    "tags": []
   },
   "outputs": [],
   "source": [
    "from fairness_multiverse.conformal import evaluate_sets\n",
    "\n",
    "# Evaluate coverage and average set size on test data\n",
    "metrics = evaluate_sets(pred_sets, y_true)"
   ]
  },
  {
   "cell_type": "markdown",
   "id": "2b569c12-9aaa-4c88-98c9-bbcd0cf3ebb8",
   "metadata": {
    "papermill": {
     "duration": 0.034402,
     "end_time": "2025-07-28T10:47:08.136276",
     "exception": false,
     "start_time": "2025-07-28T10:47:08.101874",
     "status": "completed"
    },
    "tags": []
   },
   "source": [
    "# CP Metrics"
   ]
  },
  {
   "cell_type": "code",
   "execution_count": 49,
   "id": "5ce0a5cb-201f-45a0-ade5-94c7f0bd6095",
   "metadata": {
    "execution": {
     "iopub.execute_input": "2025-07-28T10:47:08.206233Z",
     "iopub.status.busy": "2025-07-28T10:47:08.205607Z",
     "iopub.status.idle": "2025-07-28T10:47:08.212735Z",
     "shell.execute_reply": "2025-07-28T10:47:08.211907Z"
    },
    "papermill": {
     "duration": 0.043988,
     "end_time": "2025-07-28T10:47:08.214203",
     "exception": false,
     "start_time": "2025-07-28T10:47:08.170215",
     "status": "completed"
    },
    "tags": []
   },
   "outputs": [
    {
     "data": {
      "text/plain": [
       "{'coverage': 0.9074573626128637, 'avg_size': 1.2211793557017054}"
      ]
     },
     "execution_count": 49,
     "metadata": {},
     "output_type": "execute_result"
    }
   ],
   "source": [
    "metrics"
   ]
  },
  {
   "cell_type": "code",
   "execution_count": 50,
   "id": "9b9a838d-31c9-430b-ae14-12baee460d17",
   "metadata": {
    "execution": {
     "iopub.execute_input": "2025-07-28T10:47:08.243025Z",
     "iopub.status.busy": "2025-07-28T10:47:08.242426Z",
     "iopub.status.idle": "2025-07-28T10:47:08.250321Z",
     "shell.execute_reply": "2025-07-28T10:47:08.249534Z"
    },
    "papermill": {
     "duration": 0.02395,
     "end_time": "2025-07-28T10:47:08.251751",
     "exception": false,
     "start_time": "2025-07-28T10:47:08.227801",
     "status": "completed"
    },
    "tags": []
   },
   "outputs": [],
   "source": [
    "example_universe = universe.copy()\n",
    "universe_training_size = example_universe.get(\"training_size\")\n",
    "universe_scale = example_universe.get(\"scale\")\n",
    "universe_model = example_universe.get(\"model\")\n",
    "universe_exclude_features = example_universe.get(\"exclude_features\")\n",
    "universe_exclude_subgroups = example_universe.get(\"exclude_subgroups\")"
   ]
  },
  {
   "cell_type": "code",
   "execution_count": 51,
   "id": "f4b6a8ac-9dc0-4245-8a91-5b3b5999c4f9",
   "metadata": {
    "execution": {
     "iopub.execute_input": "2025-07-28T10:47:08.280361Z",
     "iopub.status.busy": "2025-07-28T10:47:08.279848Z",
     "iopub.status.idle": "2025-07-28T10:47:08.285492Z",
     "shell.execute_reply": "2025-07-28T10:47:08.284706Z"
    },
    "papermill": {
     "duration": 0.021242,
     "end_time": "2025-07-28T10:47:08.286844",
     "exception": false,
     "start_time": "2025-07-28T10:47:08.265602",
     "status": "completed"
    },
    "tags": []
   },
   "outputs": [],
   "source": [
    "cp_metrics_dict = {\n",
    "    \"universe_id\": [universe_id],\n",
    "    \"universe_training_size\": [universe_training_size],\n",
    "    \"universe_scale\": [universe_scale],\n",
    "    \"universe_model\": [universe_model],\n",
    "    \"universe_exclude_features\": [universe_exclude_features],\n",
    "    \"universe_exclude_subgroups\": [universe_exclude_subgroups],\n",
    "    \"q_hat\": [q_hat],\n",
    "    \"coverage\": [metrics[\"coverage\"]],\n",
    "    \"avg_size\": [metrics[\"avg_size\"]],\n",
    "}"
   ]
  },
  {
   "cell_type": "code",
   "execution_count": 52,
   "id": "908acbb1-0371-4915-85ca-3fa520d2efe2",
   "metadata": {
    "execution": {
     "iopub.execute_input": "2025-07-28T10:47:08.315694Z",
     "iopub.status.busy": "2025-07-28T10:47:08.315177Z",
     "iopub.status.idle": "2025-07-28T10:47:08.322604Z",
     "shell.execute_reply": "2025-07-28T10:47:08.321871Z"
    },
    "papermill": {
     "duration": 0.0232,
     "end_time": "2025-07-28T10:47:08.323933",
     "exception": false,
     "start_time": "2025-07-28T10:47:08.300733",
     "status": "completed"
    },
    "tags": []
   },
   "outputs": [
    {
     "data": {
      "text/plain": [
       "{'universe_id': ['f71d99b19c6e653ba546903ec1d4bf2e'],\n",
       " 'universe_training_size': ['1k'],\n",
       " 'universe_scale': ['scale'],\n",
       " 'universe_model': ['elasticnet'],\n",
       " 'universe_exclude_features': ['sex'],\n",
       " 'universe_exclude_subgroups': ['keep-all'],\n",
       " 'q_hat': [0.754043070621413],\n",
       " 'coverage': [0.9074573626128637],\n",
       " 'avg_size': [1.2211793557017054]}"
      ]
     },
     "execution_count": 52,
     "metadata": {},
     "output_type": "execute_result"
    }
   ],
   "source": [
    "cp_metrics_dict"
   ]
  },
  {
   "cell_type": "code",
   "execution_count": 53,
   "id": "33007efc-14e9-4ec6-97ac-56a455c82265",
   "metadata": {
    "execution": {
     "iopub.execute_input": "2025-07-28T10:47:08.352712Z",
     "iopub.status.busy": "2025-07-28T10:47:08.352176Z",
     "iopub.status.idle": "2025-07-28T10:47:08.358035Z",
     "shell.execute_reply": "2025-07-28T10:47:08.357192Z"
    },
    "papermill": {
     "duration": 0.021545,
     "end_time": "2025-07-28T10:47:08.359401",
     "exception": false,
     "start_time": "2025-07-28T10:47:08.337856",
     "status": "completed"
    },
    "tags": []
   },
   "outputs": [],
   "source": [
    "cp_metrics_df = pd.DataFrame(cp_metrics_dict)"
   ]
  },
  {
   "cell_type": "code",
   "execution_count": 54,
   "id": "db12611b-57b2-4910-b9d0-355adfd6e7bf",
   "metadata": {
    "execution": {
     "iopub.execute_input": "2025-07-28T10:47:08.387780Z",
     "iopub.status.busy": "2025-07-28T10:47:08.387232Z",
     "iopub.status.idle": "2025-07-28T10:47:08.402075Z",
     "shell.execute_reply": "2025-07-28T10:47:08.401300Z"
    },
    "papermill": {
     "duration": 0.030151,
     "end_time": "2025-07-28T10:47:08.403551",
     "exception": false,
     "start_time": "2025-07-28T10:47:08.373400",
     "status": "completed"
    },
    "tags": []
   },
   "outputs": [
    {
     "data": {
      "text/html": [
       "<div>\n",
       "<style scoped>\n",
       "    .dataframe tbody tr th:only-of-type {\n",
       "        vertical-align: middle;\n",
       "    }\n",
       "\n",
       "    .dataframe tbody tr th {\n",
       "        vertical-align: top;\n",
       "    }\n",
       "\n",
       "    .dataframe thead th {\n",
       "        text-align: right;\n",
       "    }\n",
       "</style>\n",
       "<table border=\"1\" class=\"dataframe\">\n",
       "  <thead>\n",
       "    <tr style=\"text-align: right;\">\n",
       "      <th></th>\n",
       "      <th>universe_id</th>\n",
       "      <th>universe_training_size</th>\n",
       "      <th>universe_scale</th>\n",
       "      <th>universe_model</th>\n",
       "      <th>universe_exclude_features</th>\n",
       "      <th>universe_exclude_subgroups</th>\n",
       "      <th>q_hat</th>\n",
       "      <th>coverage</th>\n",
       "      <th>avg_size</th>\n",
       "    </tr>\n",
       "  </thead>\n",
       "  <tbody>\n",
       "    <tr>\n",
       "      <th>0</th>\n",
       "      <td>f71d99b19c6e653ba546903ec1d4bf2e</td>\n",
       "      <td>1k</td>\n",
       "      <td>scale</td>\n",
       "      <td>elasticnet</td>\n",
       "      <td>sex</td>\n",
       "      <td>keep-all</td>\n",
       "      <td>0.754043</td>\n",
       "      <td>0.907457</td>\n",
       "      <td>1.221179</td>\n",
       "    </tr>\n",
       "  </tbody>\n",
       "</table>\n",
       "</div>"
      ],
      "text/plain": [
       "                        universe_id universe_training_size universe_scale  \\\n",
       "0  f71d99b19c6e653ba546903ec1d4bf2e                     1k          scale   \n",
       "\n",
       "  universe_model universe_exclude_features universe_exclude_subgroups  \\\n",
       "0     elasticnet                       sex                   keep-all   \n",
       "\n",
       "      q_hat  coverage  avg_size  \n",
       "0  0.754043  0.907457  1.221179  "
      ]
     },
     "execution_count": 54,
     "metadata": {},
     "output_type": "execute_result"
    }
   ],
   "source": [
    "cp_metrics_df"
   ]
  },
  {
   "cell_type": "code",
   "execution_count": 55,
   "id": "b7fbde55-a0a1-47e4-9af6-fe4a17fa8c61",
   "metadata": {
    "execution": {
     "iopub.execute_input": "2025-07-28T10:47:08.432439Z",
     "iopub.status.busy": "2025-07-28T10:47:08.431879Z",
     "iopub.status.idle": "2025-07-28T10:47:08.436448Z",
     "shell.execute_reply": "2025-07-28T10:47:08.435626Z"
    },
    "papermill": {
     "duration": 0.020349,
     "end_time": "2025-07-28T10:47:08.437733",
     "exception": false,
     "start_time": "2025-07-28T10:47:08.417384",
     "status": "completed"
    },
    "tags": []
   },
   "outputs": [],
   "source": [
    "# Conditional Coverage & looking at subgroups"
   ]
  },
  {
   "cell_type": "code",
   "execution_count": 56,
   "id": "027ae886-68dd-4141-96c7-805a5450e1ef",
   "metadata": {
    "execution": {
     "iopub.execute_input": "2025-07-28T10:47:08.466333Z",
     "iopub.status.busy": "2025-07-28T10:47:08.465797Z",
     "iopub.status.idle": "2025-07-28T10:47:08.661615Z",
     "shell.execute_reply": "2025-07-28T10:47:08.660777Z"
    },
    "papermill": {
     "duration": 0.211416,
     "end_time": "2025-07-28T10:47:08.663193",
     "exception": false,
     "start_time": "2025-07-28T10:47:08.451777",
     "status": "completed"
    },
    "tags": []
   },
   "outputs": [],
   "source": [
    "from fairness_multiverse.conformal import build_cp_groups\n",
    "\n",
    "cp_groups_df = build_cp_groups(pred_sets, y_true, X_test.index, org_test)\n",
    "#needs universe_id and setting"
   ]
  },
  {
   "cell_type": "code",
   "execution_count": 57,
   "id": "01d5802c-663a-4d1f-9d69-e036faaffbf7",
   "metadata": {
    "execution": {
     "iopub.execute_input": "2025-07-28T10:47:08.691860Z",
     "iopub.status.busy": "2025-07-28T10:47:08.691319Z",
     "iopub.status.idle": "2025-07-28T10:47:08.695877Z",
     "shell.execute_reply": "2025-07-28T10:47:08.695041Z"
    },
    "papermill": {
     "duration": 0.02028,
     "end_time": "2025-07-28T10:47:08.697164",
     "exception": false,
     "start_time": "2025-07-28T10:47:08.676884",
     "status": "completed"
    },
    "tags": []
   },
   "outputs": [],
   "source": [
    "#delete\n",
    "#cp_groups_df"
   ]
  },
  {
   "cell_type": "code",
   "execution_count": 58,
   "id": "fa424af1-d1eb-443d-b717-2d279ada8408",
   "metadata": {
    "execution": {
     "iopub.execute_input": "2025-07-28T10:47:08.725923Z",
     "iopub.status.busy": "2025-07-28T10:47:08.725406Z",
     "iopub.status.idle": "2025-07-28T10:47:08.729731Z",
     "shell.execute_reply": "2025-07-28T10:47:08.728909Z"
    },
    "papermill": {
     "duration": 0.019889,
     "end_time": "2025-07-28T10:47:08.731185",
     "exception": false,
     "start_time": "2025-07-28T10:47:08.711296",
     "status": "completed"
    },
    "tags": []
   },
   "outputs": [],
   "source": [
    "#delete\n",
    "#percentage = (cp_groups_df['nongerman_female'] == 1).mean() * 100\n",
    "#print(percentage)\n"
   ]
  },
  {
   "cell_type": "code",
   "execution_count": 59,
   "id": "6cbdab96-b2b2-45af-ad54-d0516db2e28d",
   "metadata": {
    "execution": {
     "iopub.execute_input": "2025-07-28T10:47:08.760171Z",
     "iopub.status.busy": "2025-07-28T10:47:08.759621Z",
     "iopub.status.idle": "2025-07-28T10:47:10.101262Z",
     "shell.execute_reply": "2025-07-28T10:47:10.100130Z"
    },
    "papermill": {
     "duration": 1.357807,
     "end_time": "2025-07-28T10:47:10.103272",
     "exception": false,
     "start_time": "2025-07-28T10:47:08.745465",
     "status": "completed"
    },
    "tags": []
   },
   "outputs": [],
   "source": [
    "# Define covered = 1 if true_label is in the predicted set\n",
    "cp_groups_df['covered'] = cp_groups_df.apply(\n",
    "    lambda r: int(r['true_label'] in r['pred_set']),\n",
    "    axis=1\n",
    ")"
   ]
  },
  {
   "cell_type": "code",
   "execution_count": 60,
   "id": "338ff529-1a6b-4b87-a931-8e4788d52aad",
   "metadata": {
    "execution": {
     "iopub.execute_input": "2025-07-28T10:47:10.153758Z",
     "iopub.status.busy": "2025-07-28T10:47:10.152973Z",
     "iopub.status.idle": "2025-07-28T10:47:10.158321Z",
     "shell.execute_reply": "2025-07-28T10:47:10.157332Z"
    },
    "papermill": {
     "duration": 0.035203,
     "end_time": "2025-07-28T10:47:10.160092",
     "exception": false,
     "start_time": "2025-07-28T10:47:10.124889",
     "status": "completed"
    },
    "tags": []
   },
   "outputs": [],
   "source": [
    "#cp_groups_df"
   ]
  },
  {
   "cell_type": "code",
   "execution_count": 61,
   "id": "90032e27-66df-4540-9169-4e89cfbaa758",
   "metadata": {
    "execution": {
     "iopub.execute_input": "2025-07-28T10:47:10.205575Z",
     "iopub.status.busy": "2025-07-28T10:47:10.205076Z",
     "iopub.status.idle": "2025-07-28T10:47:10.219198Z",
     "shell.execute_reply": "2025-07-28T10:47:10.218127Z"
    },
    "papermill": {
     "duration": 0.036165,
     "end_time": "2025-07-28T10:47:10.221010",
     "exception": false,
     "start_time": "2025-07-28T10:47:10.184845",
     "status": "completed"
    },
    "tags": []
   },
   "outputs": [],
   "source": [
    "subgroups = ['frau1','nongerman','nongerman_male','nongerman_female']\n",
    "\n",
    "# Conditional coverage for subgroup==1\n",
    "cond_coverage = {\n",
    "    g: cp_groups_df.loc[cp_groups_df[g]==1, 'covered'].mean()\n",
    "    for g in subgroups\n",
    "}"
   ]
  },
  {
   "cell_type": "code",
   "execution_count": 62,
   "id": "1e348fb1-b9c3-45bc-ba23-f016827a7e0d",
   "metadata": {
    "execution": {
     "iopub.execute_input": "2025-07-28T10:47:10.259742Z",
     "iopub.status.busy": "2025-07-28T10:47:10.259342Z",
     "iopub.status.idle": "2025-07-28T10:47:10.266216Z",
     "shell.execute_reply": "2025-07-28T10:47:10.265099Z"
    },
    "papermill": {
     "duration": 0.023133,
     "end_time": "2025-07-28T10:47:10.267601",
     "exception": false,
     "start_time": "2025-07-28T10:47:10.244468",
     "status": "completed"
    },
    "tags": []
   },
   "outputs": [
    {
     "data": {
      "text/plain": [
       "{'frau1': 0.9083164847014422,\n",
       " 'nongerman': 0.9155111435468478,\n",
       " 'nongerman_male': 0.9291182563271188,\n",
       " 'nongerman_female': 0.8929955290611028}"
      ]
     },
     "execution_count": 62,
     "metadata": {},
     "output_type": "execute_result"
    }
   ],
   "source": [
    "cond_coverage"
   ]
  },
  {
   "cell_type": "code",
   "execution_count": 63,
   "id": "f5093324-c3dd-4d63-bc4c-8d945e5c8bbb",
   "metadata": {
    "execution": {
     "iopub.execute_input": "2025-07-28T10:47:10.297784Z",
     "iopub.status.busy": "2025-07-28T10:47:10.297414Z",
     "iopub.status.idle": "2025-07-28T10:47:10.303649Z",
     "shell.execute_reply": "2025-07-28T10:47:10.302792Z"
    },
    "papermill": {
     "duration": 0.021999,
     "end_time": "2025-07-28T10:47:10.305274",
     "exception": false,
     "start_time": "2025-07-28T10:47:10.283275",
     "status": "completed"
    },
    "tags": []
   },
   "outputs": [],
   "source": [
    "for subgroup, cov in cond_coverage.items():\n",
    "    cp_metrics_df[f\"cov_{subgroup}\"] = cov"
   ]
  },
  {
   "cell_type": "code",
   "execution_count": 64,
   "id": "6e872e10-dbe5-49e8-b554-5030c98ff75d",
   "metadata": {
    "execution": {
     "iopub.execute_input": "2025-07-28T10:47:10.374442Z",
     "iopub.status.busy": "2025-07-28T10:47:10.374089Z",
     "iopub.status.idle": "2025-07-28T10:47:10.387395Z",
     "shell.execute_reply": "2025-07-28T10:47:10.386663Z"
    },
    "papermill": {
     "duration": 0.050493,
     "end_time": "2025-07-28T10:47:10.389340",
     "exception": false,
     "start_time": "2025-07-28T10:47:10.338847",
     "status": "completed"
    },
    "tags": []
   },
   "outputs": [
    {
     "data": {
      "text/html": [
       "<div>\n",
       "<style scoped>\n",
       "    .dataframe tbody tr th:only-of-type {\n",
       "        vertical-align: middle;\n",
       "    }\n",
       "\n",
       "    .dataframe tbody tr th {\n",
       "        vertical-align: top;\n",
       "    }\n",
       "\n",
       "    .dataframe thead th {\n",
       "        text-align: right;\n",
       "    }\n",
       "</style>\n",
       "<table border=\"1\" class=\"dataframe\">\n",
       "  <thead>\n",
       "    <tr style=\"text-align: right;\">\n",
       "      <th></th>\n",
       "      <th>universe_id</th>\n",
       "      <th>universe_training_size</th>\n",
       "      <th>universe_scale</th>\n",
       "      <th>universe_model</th>\n",
       "      <th>universe_exclude_features</th>\n",
       "      <th>universe_exclude_subgroups</th>\n",
       "      <th>q_hat</th>\n",
       "      <th>coverage</th>\n",
       "      <th>avg_size</th>\n",
       "      <th>cov_frau1</th>\n",
       "      <th>cov_nongerman</th>\n",
       "      <th>cov_nongerman_male</th>\n",
       "      <th>cov_nongerman_female</th>\n",
       "    </tr>\n",
       "  </thead>\n",
       "  <tbody>\n",
       "    <tr>\n",
       "      <th>0</th>\n",
       "      <td>f71d99b19c6e653ba546903ec1d4bf2e</td>\n",
       "      <td>1k</td>\n",
       "      <td>scale</td>\n",
       "      <td>elasticnet</td>\n",
       "      <td>sex</td>\n",
       "      <td>keep-all</td>\n",
       "      <td>0.754043</td>\n",
       "      <td>0.907457</td>\n",
       "      <td>1.221179</td>\n",
       "      <td>0.908316</td>\n",
       "      <td>0.915511</td>\n",
       "      <td>0.929118</td>\n",
       "      <td>0.892996</td>\n",
       "    </tr>\n",
       "  </tbody>\n",
       "</table>\n",
       "</div>"
      ],
      "text/plain": [
       "                        universe_id universe_training_size universe_scale  \\\n",
       "0  f71d99b19c6e653ba546903ec1d4bf2e                     1k          scale   \n",
       "\n",
       "  universe_model universe_exclude_features universe_exclude_subgroups  \\\n",
       "0     elasticnet                       sex                   keep-all   \n",
       "\n",
       "      q_hat  coverage  avg_size  cov_frau1  cov_nongerman  cov_nongerman_male  \\\n",
       "0  0.754043  0.907457  1.221179   0.908316       0.915511            0.929118   \n",
       "\n",
       "   cov_nongerman_female  \n",
       "0              0.892996  "
      ]
     },
     "execution_count": 64,
     "metadata": {},
     "output_type": "execute_result"
    }
   ],
   "source": [
    "cp_metrics_df"
   ]
  },
  {
   "cell_type": "markdown",
   "id": "33774451",
   "metadata": {
    "papermill": {
     "duration": 0.026795,
     "end_time": "2025-07-28T10:47:10.449972",
     "exception": false,
     "start_time": "2025-07-28T10:47:10.423177",
     "status": "completed"
    },
    "tags": []
   },
   "source": [
    "# (Fairness) Metrics"
   ]
  },
  {
   "cell_type": "code",
   "execution_count": 65,
   "id": "debc5d62",
   "metadata": {
    "execution": {
     "iopub.execute_input": "2025-07-28T10:47:10.497793Z",
     "iopub.status.busy": "2025-07-28T10:47:10.497298Z",
     "iopub.status.idle": "2025-07-28T10:47:10.513251Z",
     "shell.execute_reply": "2025-07-28T10:47:10.512505Z"
    },
    "papermill": {
     "duration": 0.041926,
     "end_time": "2025-07-28T10:47:10.514706",
     "exception": false,
     "start_time": "2025-07-28T10:47:10.472780",
     "status": "completed"
    },
    "tags": []
   },
   "outputs": [],
   "source": [
    "# do I need to include maxdeutsch1.missing?\n",
    "\n",
    "import numpy as np\n",
    "\n",
    "colname_to_bin = \"maxdeutsch1\"\n",
    "majority_value = org_train[colname_to_bin].mode()[0]\n",
    "\n",
    "org_test[\"majmin\"] = np.where(org_test[colname_to_bin] == majority_value, \"majority\", \"minority\")"
   ]
  },
  {
   "cell_type": "code",
   "execution_count": 66,
   "id": "06a50de5",
   "metadata": {
    "execution": {
     "iopub.execute_input": "2025-07-28T10:47:10.543709Z",
     "iopub.status.busy": "2025-07-28T10:47:10.543201Z",
     "iopub.status.idle": "2025-07-28T10:47:13.516136Z",
     "shell.execute_reply": "2025-07-28T10:47:13.515154Z"
    },
    "papermill": {
     "duration": 2.989267,
     "end_time": "2025-07-28T10:47:13.518068",
     "exception": false,
     "start_time": "2025-07-28T10:47:10.528801",
     "status": "completed"
    },
    "tags": []
   },
   "outputs": [],
   "source": [
    "example_universe = universe.copy()\n",
    "example_universe[\"cutoff\"] = example_universe[\"cutoff\"][0]\n",
    "example_universe[\"eval_fairness_grouping\"] = example_universe[\"eval_fairness_grouping\"][0]\n",
    "fairness_dict, metric_frame = universe_analysis.compute_metrics(\n",
    "    example_universe,\n",
    "    y_pred_prob=probs_test,\n",
    "    y_test=y_true,\n",
    "    org_test=org_test,\n",
    ")"
   ]
  },
  {
   "cell_type": "markdown",
   "id": "f95d4e02",
   "metadata": {
    "papermill": {
     "duration": 0.025368,
     "end_time": "2025-07-28T10:47:13.570835",
     "exception": false,
     "start_time": "2025-07-28T10:47:13.545467",
     "status": "completed"
    },
    "tags": []
   },
   "source": [
    "# Overall"
   ]
  },
  {
   "cell_type": "markdown",
   "id": "bdee4871",
   "metadata": {
    "papermill": {
     "duration": 0.030505,
     "end_time": "2025-07-28T10:47:13.629183",
     "exception": false,
     "start_time": "2025-07-28T10:47:13.598678",
     "status": "completed"
    },
    "tags": []
   },
   "source": [
    "Fairness\n",
    "Main fairness target: Equalized Odds. Seems to be a better fit than equal opportunity, since we're not only interested in Y = 1. Seems to be a better fit than demographic parity, since we also care about accuracy, not just equal distribution of preds.\n",
    "\n",
    "Pick column for computation of fairness metrics\n",
    "\n",
    "Performance\n",
    "Overall performance measures, most interesting in relation to the measures split by group below"
   ]
  },
  {
   "cell_type": "code",
   "execution_count": 67,
   "id": "c4e067c6",
   "metadata": {
    "execution": {
     "iopub.execute_input": "2025-07-28T10:47:13.684736Z",
     "iopub.status.busy": "2025-07-28T10:47:13.684345Z",
     "iopub.status.idle": "2025-07-28T10:47:13.691969Z",
     "shell.execute_reply": "2025-07-28T10:47:13.691003Z"
    },
    "papermill": {
     "duration": 0.034874,
     "end_time": "2025-07-28T10:47:13.693423",
     "exception": false,
     "start_time": "2025-07-28T10:47:13.658549",
     "status": "completed"
    },
    "tags": []
   },
   "outputs": [
    {
     "data": {
      "text/plain": [
       "accuracy                   0.218894\n",
       "balanced accuracy          0.536374\n",
       "f1                         0.240376\n",
       "precision                  0.137319\n",
       "false positive rate        0.890668\n",
       "false negative rate        0.036583\n",
       "selection rate             0.900000\n",
       "count                  89710.000000\n",
       "dtype: float64"
      ]
     },
     "execution_count": 67,
     "metadata": {},
     "output_type": "execute_result"
    }
   ],
   "source": [
    "metric_frame.overall"
   ]
  },
  {
   "cell_type": "markdown",
   "id": "e968fe9d",
   "metadata": {
    "papermill": {
     "duration": 0.014051,
     "end_time": "2025-07-28T10:47:13.722881",
     "exception": false,
     "start_time": "2025-07-28T10:47:13.708830",
     "status": "completed"
    },
    "tags": []
   },
   "source": [
    "By Group"
   ]
  },
  {
   "cell_type": "code",
   "execution_count": 68,
   "id": "ec325bce",
   "metadata": {
    "execution": {
     "iopub.execute_input": "2025-07-28T10:47:13.753028Z",
     "iopub.status.busy": "2025-07-28T10:47:13.752464Z",
     "iopub.status.idle": "2025-07-28T10:47:13.766527Z",
     "shell.execute_reply": "2025-07-28T10:47:13.765339Z"
    },
    "papermill": {
     "duration": 0.03168,
     "end_time": "2025-07-28T10:47:13.768551",
     "exception": false,
     "start_time": "2025-07-28T10:47:13.736871",
     "status": "completed"
    },
    "tags": []
   },
   "outputs": [
    {
     "data": {
      "text/html": [
       "<div>\n",
       "<style scoped>\n",
       "    .dataframe tbody tr th:only-of-type {\n",
       "        vertical-align: middle;\n",
       "    }\n",
       "\n",
       "    .dataframe tbody tr th {\n",
       "        vertical-align: top;\n",
       "    }\n",
       "\n",
       "    .dataframe thead th {\n",
       "        text-align: right;\n",
       "    }\n",
       "</style>\n",
       "<table border=\"1\" class=\"dataframe\">\n",
       "  <thead>\n",
       "    <tr style=\"text-align: right;\">\n",
       "      <th></th>\n",
       "      <th>accuracy</th>\n",
       "      <th>balanced accuracy</th>\n",
       "      <th>f1</th>\n",
       "      <th>precision</th>\n",
       "      <th>false positive rate</th>\n",
       "      <th>false negative rate</th>\n",
       "      <th>selection rate</th>\n",
       "      <th>count</th>\n",
       "    </tr>\n",
       "    <tr>\n",
       "      <th>majmin</th>\n",
       "      <th></th>\n",
       "      <th></th>\n",
       "      <th></th>\n",
       "      <th></th>\n",
       "      <th></th>\n",
       "      <th></th>\n",
       "      <th></th>\n",
       "      <th></th>\n",
       "    </tr>\n",
       "  </thead>\n",
       "  <tbody>\n",
       "    <tr>\n",
       "      <th>majority</th>\n",
       "      <td>0.232615</td>\n",
       "      <td>0.541378</td>\n",
       "      <td>0.248669</td>\n",
       "      <td>0.142811</td>\n",
       "      <td>0.878294</td>\n",
       "      <td>0.038950</td>\n",
       "      <td>0.889229</td>\n",
       "      <td>69170.0</td>\n",
       "    </tr>\n",
       "    <tr>\n",
       "      <th>minority</th>\n",
       "      <td>0.172687</td>\n",
       "      <td>0.520504</td>\n",
       "      <td>0.213251</td>\n",
       "      <td>0.119755</td>\n",
       "      <td>0.931543</td>\n",
       "      <td>0.027449</td>\n",
       "      <td>0.936271</td>\n",
       "      <td>20540.0</td>\n",
       "    </tr>\n",
       "  </tbody>\n",
       "</table>\n",
       "</div>"
      ],
      "text/plain": [
       "          accuracy  balanced accuracy        f1  precision  \\\n",
       "majmin                                                       \n",
       "majority  0.232615           0.541378  0.248669   0.142811   \n",
       "minority  0.172687           0.520504  0.213251   0.119755   \n",
       "\n",
       "          false positive rate  false negative rate  selection rate    count  \n",
       "majmin                                                                       \n",
       "majority             0.878294             0.038950        0.889229  69170.0  \n",
       "minority             0.931543             0.027449        0.936271  20540.0  "
      ]
     },
     "execution_count": 68,
     "metadata": {},
     "output_type": "execute_result"
    }
   ],
   "source": [
    "metric_frame.by_group"
   ]
  },
  {
   "cell_type": "code",
   "execution_count": 69,
   "id": "a9ddbe63",
   "metadata": {
    "execution": {
     "iopub.execute_input": "2025-07-28T10:47:13.829691Z",
     "iopub.status.busy": "2025-07-28T10:47:13.829181Z",
     "iopub.status.idle": "2025-07-28T10:47:15.982347Z",
     "shell.execute_reply": "2025-07-28T10:47:15.981628Z"
    },
    "papermill": {
     "duration": 2.186111,
     "end_time": "2025-07-28T10:47:15.983877",
     "exception": false,
     "start_time": "2025-07-28T10:47:13.797766",
     "status": "completed"
    },
    "tags": []
   },
   "outputs": [
    {
     "data": {
      "text/plain": [
       "array([[<Axes: title={'center': 'accuracy'}, xlabel='majmin'>,\n",
       "        <Axes: title={'center': 'balanced accuracy'}, xlabel='majmin'>,\n",
       "        <Axes: title={'center': 'f1'}, xlabel='majmin'>],\n",
       "       [<Axes: title={'center': 'precision'}, xlabel='majmin'>,\n",
       "        <Axes: title={'center': 'false positive rate'}, xlabel='majmin'>,\n",
       "        <Axes: title={'center': 'false negative rate'}, xlabel='majmin'>],\n",
       "       [<Axes: title={'center': 'selection rate'}, xlabel='majmin'>,\n",
       "        <Axes: title={'center': 'count'}, xlabel='majmin'>,\n",
       "        <Axes: xlabel='majmin'>]], dtype=object)"
      ]
     },
     "execution_count": 69,
     "metadata": {},
     "output_type": "execute_result"
    },
    {
     "data": {
      "image/png": "[encoded data removed]",
      "text/plain": [
       "<Figure size 1200x800 with 9 Axes>"
      ]
     },
     "metadata": {},
     "output_type": "display_data"
    }
   ],
   "source": [
    "# In a graphic\n",
    "metric_frame.by_group.plot.bar(\n",
    "    subplots=True,\n",
    "    layout=[3, 3],\n",
    "    legend=False,\n",
    "    figsize=[12, 8],\n",
    "    title=\"Show all metrics\",\n",
    ")"
   ]
  },
  {
   "cell_type": "markdown",
   "id": "f57a0bac",
   "metadata": {
    "papermill": {
     "duration": 0.030692,
     "end_time": "2025-07-28T10:47:16.055658",
     "exception": false,
     "start_time": "2025-07-28T10:47:16.024966",
     "status": "completed"
    },
    "tags": []
   },
   "source": [
    "# Final Output"
   ]
  },
  {
   "cell_type": "code",
   "execution_count": 70,
   "id": "96d280a3",
   "metadata": {
    "execution": {
     "iopub.execute_input": "2025-07-28T10:47:16.094360Z",
     "iopub.status.busy": "2025-07-28T10:47:16.093896Z",
     "iopub.status.idle": "2025-07-28T10:47:16.101944Z",
     "shell.execute_reply": "2025-07-28T10:47:16.100919Z"
    },
    "papermill": {
     "duration": 0.030853,
     "end_time": "2025-07-28T10:47:16.103859",
     "exception": false,
     "start_time": "2025-07-28T10:47:16.073006",
     "status": "completed"
    },
    "tags": []
   },
   "outputs": [
    {
     "data": {
      "text/plain": [
       "4"
      ]
     },
     "execution_count": 70,
     "metadata": {},
     "output_type": "execute_result"
    }
   ],
   "source": [
    "sub_universes = universe_analysis.generate_sub_universes()\n",
    "len(sub_universes)"
   ]
  },
  {
   "cell_type": "code",
   "execution_count": 71,
   "id": "92adf7ba",
   "metadata": {
    "execution": {
     "iopub.execute_input": "2025-07-28T10:47:16.137031Z",
     "iopub.status.busy": "2025-07-28T10:47:16.136603Z",
     "iopub.status.idle": "2025-07-28T10:47:16.150685Z",
     "shell.execute_reply": "2025-07-28T10:47:16.149929Z"
    },
    "papermill": {
     "duration": 0.032733,
     "end_time": "2025-07-28T10:47:16.152685",
     "exception": false,
     "start_time": "2025-07-28T10:47:16.119952",
     "status": "completed"
    },
    "tags": []
   },
   "outputs": [],
   "source": [
    "def filter_sub_universe_data(sub_universe, org_test):\n",
    "    # Keep all rows — no filtering\n",
    "    keep_rows_mask = np.ones(org_test.shape[0], dtype=bool)\n",
    "\n",
    "    print(f\"[INFO] Keeping all rows: {keep_rows_mask.sum()} rows retained.\")\n",
    "    return keep_rows_mask"
   ]
  },
  {
   "cell_type": "code",
   "execution_count": 72,
   "id": "4a759155",
   "metadata": {
    "execution": {
     "iopub.execute_input": "2025-07-28T10:47:16.233543Z",
     "iopub.status.busy": "2025-07-28T10:47:16.232967Z",
     "iopub.status.idle": "2025-07-28T10:47:25.742037Z",
     "shell.execute_reply": "2025-07-28T10:47:25.740744Z"
    },
    "papermill": {
     "duration": 9.551252,
     "end_time": "2025-07-28T10:47:25.743790",
     "exception": false,
     "start_time": "2025-07-28T10:47:16.192538",
     "status": "completed"
    },
    "tags": []
   },
   "outputs": [
    {
     "name": "stdout",
     "output_type": "stream",
     "text": [
      "Stopping execution_time clock.\n",
      "[INFO] Keeping all rows: 89710 rows retained.\n"
     ]
    },
    {
     "name": "stdout",
     "output_type": "stream",
     "text": [
      "[INFO] Keeping all rows: 89710 rows retained.\n"
     ]
    },
    {
     "name": "stdout",
     "output_type": "stream",
     "text": [
      "[INFO] Keeping all rows: 89710 rows retained.\n"
     ]
    },
    {
     "name": "stdout",
     "output_type": "stream",
     "text": [
      "[INFO] Keeping all rows: 89710 rows retained.\n"
     ]
    },
    {
     "data": {
      "text/html": [
       "<div>\n",
       "<style scoped>\n",
       "    .dataframe tbody tr th:only-of-type {\n",
       "        vertical-align: middle;\n",
       "    }\n",
       "\n",
       "    .dataframe tbody tr th {\n",
       "        vertical-align: top;\n",
       "    }\n",
       "\n",
       "    .dataframe thead th {\n",
       "        text-align: right;\n",
       "    }\n",
       "</style>\n",
       "<table border=\"1\" class=\"dataframe\">\n",
       "  <thead>\n",
       "    <tr style=\"text-align: right;\">\n",
       "      <th></th>\n",
       "      <th>run_no</th>\n",
       "      <th>universe_id</th>\n",
       "      <th>universe_settings</th>\n",
       "      <th>execution_time</th>\n",
       "      <th>test_size_n</th>\n",
       "      <th>test_size_frac</th>\n",
       "      <th>fair_main_equalized_odds_difference</th>\n",
       "      <th>fair_main_equalized_odds_ratio</th>\n",
       "      <th>fair_main_demographic_parity_difference</th>\n",
       "      <th>fair_main_demographic_parity_ratio</th>\n",
       "      <th>...</th>\n",
       "      <th>perf_grp_precision_0</th>\n",
       "      <th>perf_grp_precision_1</th>\n",
       "      <th>perf_grp_false positive rate_0</th>\n",
       "      <th>perf_grp_false positive rate_1</th>\n",
       "      <th>perf_grp_false negative rate_0</th>\n",
       "      <th>perf_grp_false negative rate_1</th>\n",
       "      <th>perf_grp_selection rate_0</th>\n",
       "      <th>perf_grp_selection rate_1</th>\n",
       "      <th>perf_grp_count_0</th>\n",
       "      <th>perf_grp_count_1</th>\n",
       "    </tr>\n",
       "  </thead>\n",
       "  <tbody>\n",
       "    <tr>\n",
       "      <th>0</th>\n",
       "      <td>11</td>\n",
       "      <td>f71d99b19c6e653ba546903ec1d4bf2e</td>\n",
       "      <td>{\"cutoff\": \"quantile_0.1\", \"eval_fairness_grou...</td>\n",
       "      <td>31.099856</td>\n",
       "      <td>89710</td>\n",
       "      <td>1.0</td>\n",
       "      <td>0.053249</td>\n",
       "      <td>0.942838</td>\n",
       "      <td>0.047041</td>\n",
       "      <td>0.949757</td>\n",
       "      <td>...</td>\n",
       "      <td>NaN</td>\n",
       "      <td>NaN</td>\n",
       "      <td>NaN</td>\n",
       "      <td>NaN</td>\n",
       "      <td>NaN</td>\n",
       "      <td>NaN</td>\n",
       "      <td>NaN</td>\n",
       "      <td>NaN</td>\n",
       "      <td>NaN</td>\n",
       "      <td>NaN</td>\n",
       "    </tr>\n",
       "    <tr>\n",
       "      <th>0</th>\n",
       "      <td>11</td>\n",
       "      <td>f71d99b19c6e653ba546903ec1d4bf2e</td>\n",
       "      <td>{\"cutoff\": \"quantile_0.1\", \"eval_fairness_grou...</td>\n",
       "      <td>31.099856</td>\n",
       "      <td>89710</td>\n",
       "      <td>1.0</td>\n",
       "      <td>0.053249</td>\n",
       "      <td>0.942838</td>\n",
       "      <td>0.047041</td>\n",
       "      <td>0.949757</td>\n",
       "      <td>...</td>\n",
       "      <td>0.119755</td>\n",
       "      <td>0.142811</td>\n",
       "      <td>0.931543</td>\n",
       "      <td>0.878294</td>\n",
       "      <td>0.027449</td>\n",
       "      <td>0.038950</td>\n",
       "      <td>0.936271</td>\n",
       "      <td>0.889229</td>\n",
       "      <td>20540.0</td>\n",
       "      <td>69170.0</td>\n",
       "    </tr>\n",
       "    <tr>\n",
       "      <th>0</th>\n",
       "      <td>11</td>\n",
       "      <td>f71d99b19c6e653ba546903ec1d4bf2e</td>\n",
       "      <td>{\"cutoff\": \"quantile_0.25\", \"eval_fairness_gro...</td>\n",
       "      <td>31.099856</td>\n",
       "      <td>89710</td>\n",
       "      <td>1.0</td>\n",
       "      <td>0.099869</td>\n",
       "      <td>0.889464</td>\n",
       "      <td>0.047476</td>\n",
       "      <td>0.937603</td>\n",
       "      <td>...</td>\n",
       "      <td>NaN</td>\n",
       "      <td>NaN</td>\n",
       "      <td>NaN</td>\n",
       "      <td>NaN</td>\n",
       "      <td>NaN</td>\n",
       "      <td>NaN</td>\n",
       "      <td>NaN</td>\n",
       "      <td>NaN</td>\n",
       "      <td>NaN</td>\n",
       "      <td>NaN</td>\n",
       "    </tr>\n",
       "    <tr>\n",
       "      <th>0</th>\n",
       "      <td>11</td>\n",
       "      <td>f71d99b19c6e653ba546903ec1d4bf2e</td>\n",
       "      <td>{\"cutoff\": \"quantile_0.25\", \"eval_fairness_gro...</td>\n",
       "      <td>31.099856</td>\n",
       "      <td>89710</td>\n",
       "      <td>1.0</td>\n",
       "      <td>0.099869</td>\n",
       "      <td>0.889464</td>\n",
       "      <td>0.047476</td>\n",
       "      <td>0.937603</td>\n",
       "      <td>...</td>\n",
       "      <td>0.129871</td>\n",
       "      <td>0.156910</td>\n",
       "      <td>0.701629</td>\n",
       "      <td>0.739147</td>\n",
       "      <td>0.196368</td>\n",
       "      <td>0.096499</td>\n",
       "      <td>0.713389</td>\n",
       "      <td>0.760865</td>\n",
       "      <td>20540.0</td>\n",
       "      <td>69170.0</td>\n",
       "    </tr>\n",
       "  </tbody>\n",
       "</table>\n",
       "<p>4 rows × 50 columns</p>\n",
       "</div>"
      ],
      "text/plain": [
       "  run_no                       universe_id  \\\n",
       "0     11  f71d99b19c6e653ba546903ec1d4bf2e   \n",
       "0     11  f71d99b19c6e653ba546903ec1d4bf2e   \n",
       "0     11  f71d99b19c6e653ba546903ec1d4bf2e   \n",
       "0     11  f71d99b19c6e653ba546903ec1d4bf2e   \n",
       "\n",
       "                                   universe_settings  execution_time  \\\n",
       "0  {\"cutoff\": \"quantile_0.1\", \"eval_fairness_grou...       31.099856   \n",
       "0  {\"cutoff\": \"quantile_0.1\", \"eval_fairness_grou...       31.099856   \n",
       "0  {\"cutoff\": \"quantile_0.25\", \"eval_fairness_gro...       31.099856   \n",
       "0  {\"cutoff\": \"quantile_0.25\", \"eval_fairness_gro...       31.099856   \n",
       "\n",
       "   test_size_n  test_size_frac  fair_main_equalized_odds_difference  \\\n",
       "0        89710             1.0                             0.053249   \n",
       "0        89710             1.0                             0.053249   \n",
       "0        89710             1.0                             0.099869   \n",
       "0        89710             1.0                             0.099869   \n",
       "\n",
       "   fair_main_equalized_odds_ratio  fair_main_demographic_parity_difference  \\\n",
       "0                        0.942838                                 0.047041   \n",
       "0                        0.942838                                 0.047041   \n",
       "0                        0.889464                                 0.047476   \n",
       "0                        0.889464                                 0.047476   \n",
       "\n",
       "   fair_main_demographic_parity_ratio  ...  perf_grp_precision_0  \\\n",
       "0                            0.949757  ...                   NaN   \n",
       "0                            0.949757  ...              0.119755   \n",
       "0                            0.937603  ...                   NaN   \n",
       "0                            0.937603  ...              0.129871   \n",
       "\n",
       "   perf_grp_precision_1  perf_grp_false positive rate_0  \\\n",
       "0                   NaN                             NaN   \n",
       "0              0.142811                        0.931543   \n",
       "0                   NaN                             NaN   \n",
       "0              0.156910                        0.701629   \n",
       "\n",
       "   perf_grp_false positive rate_1  perf_grp_false negative rate_0  \\\n",
       "0                             NaN                             NaN   \n",
       "0                        0.878294                        0.027449   \n",
       "0                             NaN                             NaN   \n",
       "0                        0.739147                        0.196368   \n",
       "\n",
       "   perf_grp_false negative rate_1  perf_grp_selection rate_0  \\\n",
       "0                             NaN                        NaN   \n",
       "0                        0.038950                   0.936271   \n",
       "0                             NaN                        NaN   \n",
       "0                        0.096499                   0.713389   \n",
       "\n",
       "   perf_grp_selection rate_1  perf_grp_count_0  perf_grp_count_1  \n",
       "0                        NaN               NaN               NaN  \n",
       "0                   0.889229           20540.0           69170.0  \n",
       "0                        NaN               NaN               NaN  \n",
       "0                   0.760865           20540.0           69170.0  \n",
       "\n",
       "[4 rows x 50 columns]"
      ]
     },
     "execution_count": 72,
     "metadata": {},
     "output_type": "execute_result"
    }
   ],
   "source": [
    "final_output = universe_analysis.generate_final_output(\n",
    "    y_pred_prob=probs_test,\n",
    "    y_test=y_true,\n",
    "    org_test=org_test,\n",
    "    filter_data=filter_sub_universe_data,\n",
    "    cp_metrics_df=cp_metrics_df,\n",
    "    save=True,\n",
    ")\n",
    "final_output"
   ]
  },
  {
   "cell_type": "code",
   "execution_count": null,
   "id": "721ff514-cb11-46f8-b6fc-50392f74b5cb",
   "metadata": {
    "papermill": {
     "duration": 0.03467,
     "end_time": "2025-07-28T10:47:25.814094",
     "exception": false,
     "start_time": "2025-07-28T10:47:25.779424",
     "status": "completed"
    },
    "tags": []
   },
   "outputs": [],
   "source": []
  }
 ],
 "metadata": {
  "celltoolbar": "Tags",
  "kernelspec": {
   "display_name": "Python (CMA Fairness)",
   "language": "python",
   "name": "cma_fair_env"
  },
  "language_info": {
   "codemirror_mode": {
    "name": "ipython",
    "version": 3
   },
   "file_extension": ".py",
   "mimetype": "text/x-python",
   "name": "python",
   "nbconvert_exporter": "python",
   "pygments_lexer": "ipython3",
   "version": "3.10.12"
  },
  "papermill": {
   "default_parameters": {},
   "duration": 44.937755,
   "end_time": "2025-07-28T10:47:26.566105",
   "environment_variables": {},
   "exception": null,
   "input_path": "universe_analysis.ipynb",
   "output_path": "output/runs/11/notebooks/m_11-f71d99b19c6e653ba546903ec1d4bf2e.ipynb",
   "parameters": {
    "output_dir": "output",
    "run_no": "11",
    "seed": "2023",
    "universe": "{\"cutoff\": [\"quantile_0.1\", \"quantile_0.25\"], \"eval_fairness_grouping\": [\"majority-minority\", \"nationality-all\"], \"exclude_features\": \"sex\", \"exclude_subgroups\": \"keep-all\", \"model\": \"elasticnet\", \"scale\": \"scale\", \"training_size\": \"1k\"}",
    "universe_id": "f71d99b19c6e653ba546903ec1d4bf2e"
   },
   "start_time": "2025-07-28T10:46:41.628350",
   "version": "2.6.0"
  }
 },
 "nbformat": 4,
 "nbformat_minor": 5
}