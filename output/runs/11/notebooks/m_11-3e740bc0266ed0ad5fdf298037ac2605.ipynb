{
 "cells": [
  {
   "cell_type": "code",
   "execution_count": 1,
   "id": "f159f837-637b-42ba-96b5-ec9a68c44524",
   "metadata": {
    "execution": {
     "iopub.execute_input": "2025-07-28T11:21:12.155087Z",
     "iopub.status.busy": "2025-07-28T11:21:12.154454Z",
     "iopub.status.idle": "2025-07-28T11:21:12.169090Z",
     "shell.execute_reply": "2025-07-28T11:21:12.168226Z"
    },
    "papermill": {
     "duration": 0.035957,
     "end_time": "2025-07-28T11:21:12.170936",
     "exception": false,
     "start_time": "2025-07-28T11:21:12.134979",
     "status": "completed"
    },
    "tags": []
   },
   "outputs": [
    {
     "name": "stdout",
     "output_type": "stream",
     "text": [
      "/dss/dsshome1/0C/ra93lal2/cma/CMA_Fairness_v2\n"
     ]
    },
    {
     "name": "stderr",
     "output_type": "stream",
     "text": [
      "/dss/dsshome1/0C/ra93lal2/.local/share/virtualenvs/CMA_Fairness_v2-3j10GkSs/lib/python3.10/site-packages/IPython/core/magics/osm.py:393: UserWarning: This is now an optional IPython functionality, using bookmarks requires you to install the `pickleshare` library.\n",
      "  bkms = self.shell.db.get('bookmarks', {})\n",
      "/dss/dsshome1/0C/ra93lal2/.local/share/virtualenvs/CMA_Fairness_v2-3j10GkSs/lib/python3.10/site-packages/IPython/core/magics/osm.py:417: UserWarning: This is now an optional IPython functionality, setting dhist requires you to install the `pickleshare` library.\n",
      "  self.shell.db['dhist'] = compress_dhist(dhist)[-100:]\n"
     ]
    }
   ],
   "source": [
    "%cd ~/cma/CMA_Fairness_v2"
   ]
  },
  {
   "cell_type": "markdown",
   "id": "de2603b9",
   "metadata": {
    "papermill": {
     "duration": 0.021152,
     "end_time": "2025-07-28T11:21:12.213840",
     "exception": false,
     "start_time": "2025-07-28T11:21:12.192688",
     "status": "completed"
    },
    "tags": []
   },
   "source": [
    "The following cell holds the definition of our parameters, these values can be overriden by rendering the with e.g. the following command:\n",
    "\n",
    "papermill -p alpha 0.2 -p ratio 0.3 universe_analysis.ipynb output/test_run.ipynb"
   ]
  },
  {
   "cell_type": "code",
   "execution_count": 2,
   "id": "a80968a0-40bb-4fa9-85ef-2d5eefb01975",
   "metadata": {
    "execution": {
     "iopub.execute_input": "2025-07-28T11:21:12.257925Z",
     "iopub.status.busy": "2025-07-28T11:21:12.257259Z",
     "iopub.status.idle": "2025-07-28T11:21:12.263243Z",
     "shell.execute_reply": "2025-07-28T11:21:12.262219Z"
    },
    "papermill": {
     "duration": 0.030119,
     "end_time": "2025-07-28T11:21:12.265049",
     "exception": false,
     "start_time": "2025-07-28T11:21:12.234930",
     "status": "completed"
    },
    "tags": []
   },
   "outputs": [
    {
     "name": "stdout",
     "output_type": "stream",
     "text": [
      "Current working directory: /dss/dsshome1/0C/ra93lal2/cma/CMA_Fairness_v2\n"
     ]
    }
   ],
   "source": [
    "import os\n",
    "print(\"Current working directory:\", os.getcwd())"
   ]
  },
  {
   "cell_type": "code",
   "execution_count": 3,
   "id": "2dce4c03",
   "metadata": {
    "execution": {
     "iopub.execute_input": "2025-07-28T11:21:12.304587Z",
     "iopub.status.busy": "2025-07-28T11:21:12.303903Z",
     "iopub.status.idle": "2025-07-28T11:21:12.310096Z",
     "shell.execute_reply": "2025-07-28T11:21:12.309253Z"
    },
    "papermill": {
     "duration": 0.026084,
     "end_time": "2025-07-28T11:21:12.311709",
     "exception": false,
     "start_time": "2025-07-28T11:21:12.285625",
     "status": "completed"
    },
    "tags": [
     "parameters"
    ]
   },
   "outputs": [],
   "source": [
    "run_no = 0\n",
    "universe_id = \"test\"\n",
    "universe = {\n",
    "    \"training_size\": \"2014\", # \"25k\", \"5k\", \"1k\", \"2014\"\n",
    "    \"scale\": \"scale\", # \"scale\", \"do-not-scale\",\n",
    "    #\"stratify_split\": \"target\", # \"none\", \"target\", \"protected-attribute\", \"both\",\n",
    "    \"model\": \"elasticnet\", # \"logreg\", \"penalized_logreg\", \"rf\", \"gbm\", \"elasticnet\"\n",
    "    \"cutoff\": [\"quantile_0.15\", \"quantile_0.30\"],\n",
    "    \"exclude_features\": \"age\", # \"none\", \"nationality\", \"sex\", \"nationality-sex\", \"age\"\n",
    "    \"exclude_subgroups\": \"keep-all\", # \"keep-all\", \"drop-non-german\"\n",
    "    \"eval_fairness_grouping\": [\"majority-minority\", \"nationality-all\"]\n",
    "}\n",
    "\n",
    "output_dir=\"./output\"\n",
    "seed=0"
   ]
  },
  {
   "cell_type": "code",
   "execution_count": 4,
   "id": "26ab6bd3",
   "metadata": {
    "execution": {
     "iopub.execute_input": "2025-07-28T11:21:12.348232Z",
     "iopub.status.busy": "2025-07-28T11:21:12.347377Z",
     "iopub.status.idle": "2025-07-28T11:21:12.353393Z",
     "shell.execute_reply": "2025-07-28T11:21:12.352519Z"
    },
    "papermill": {
     "duration": 0.028536,
     "end_time": "2025-07-28T11:21:12.357834",
     "exception": false,
     "start_time": "2025-07-28T11:21:12.329298",
     "status": "completed"
    },
    "tags": [
     "injected-parameters"
    ]
   },
   "outputs": [],
   "source": [
    "# Parameters\n",
    "universe_id = \"3e740bc0266ed0ad5fdf298037ac2605\"\n",
    "run_no = \"11\"\n",
    "universe = \"{\\\"cutoff\\\": [\\\"quantile_0.1\\\", \\\"quantile_0.25\\\"], \\\"eval_fairness_grouping\\\": [\\\"majority-minority\\\", \\\"nationality-all\\\"], \\\"exclude_features\\\": \\\"age\\\", \\\"exclude_subgroups\\\": \\\"keep-all\\\", \\\"model\\\": \\\"elasticnet\\\", \\\"scale\\\": \\\"do-not-scale\\\", \\\"training_size\\\": \\\"2014\\\"}\"\n",
    "output_dir = \"output\"\n",
    "seed = \"2023\"\n"
   ]
  },
  {
   "cell_type": "code",
   "execution_count": 5,
   "id": "1650acaf",
   "metadata": {
    "execution": {
     "iopub.execute_input": "2025-07-28T11:21:12.396460Z",
     "iopub.status.busy": "2025-07-28T11:21:12.395953Z",
     "iopub.status.idle": "2025-07-28T11:21:12.400831Z",
     "shell.execute_reply": "2025-07-28T11:21:12.399821Z"
    },
    "papermill": {
     "duration": 0.02459,
     "end_time": "2025-07-28T11:21:12.402673",
     "exception": false,
     "start_time": "2025-07-28T11:21:12.378083",
     "status": "completed"
    },
    "tags": []
   },
   "outputs": [],
   "source": [
    "import json\n",
    "# Parse universe into dict if it is passed as a string\n",
    "if isinstance(universe, str):\n",
    "    universe = json.loads(universe)"
   ]
  },
  {
   "cell_type": "code",
   "execution_count": 6,
   "id": "16620c48",
   "metadata": {
    "execution": {
     "iopub.execute_input": "2025-07-28T11:21:12.443612Z",
     "iopub.status.busy": "2025-07-28T11:21:12.443170Z",
     "iopub.status.idle": "2025-07-28T11:21:12.488464Z",
     "shell.execute_reply": "2025-07-28T11:21:12.487483Z"
    },
    "papermill": {
     "duration": 0.06783,
     "end_time": "2025-07-28T11:21:12.490361",
     "exception": false,
     "start_time": "2025-07-28T11:21:12.422531",
     "status": "completed"
    },
    "tags": []
   },
   "outputs": [],
   "source": [
    "# Auto-reload the custom package\n",
    "%load_ext autoreload\n",
    "%autoreload 1\n",
    "%aimport fairness_multiverse"
   ]
  },
  {
   "cell_type": "code",
   "execution_count": 7,
   "id": "01c5c9f3",
   "metadata": {
    "execution": {
     "iopub.execute_input": "2025-07-28T11:21:12.533308Z",
     "iopub.status.busy": "2025-07-28T11:21:12.532416Z",
     "iopub.status.idle": "2025-07-28T11:21:14.530826Z",
     "shell.execute_reply": "2025-07-28T11:21:14.529844Z"
    },
    "papermill": {
     "duration": 2.021589,
     "end_time": "2025-07-28T11:21:14.532876",
     "exception": false,
     "start_time": "2025-07-28T11:21:12.511287",
     "status": "completed"
    },
    "tags": []
   },
   "outputs": [],
   "source": [
    "from fairness_multiverse.universe import UniverseAnalysis\n",
    "\n",
    "universe_analysis = UniverseAnalysis(\n",
    "    run_no = run_no,\n",
    "    universe_id = universe_id,\n",
    "    universe = universe,\n",
    "    output_dir=output_dir,\n",
    ")"
   ]
  },
  {
   "cell_type": "code",
   "execution_count": 8,
   "id": "106241f5",
   "metadata": {
    "execution": {
     "iopub.execute_input": "2025-07-28T11:21:14.571600Z",
     "iopub.status.busy": "2025-07-28T11:21:14.570856Z",
     "iopub.status.idle": "2025-07-28T11:21:14.577733Z",
     "shell.execute_reply": "2025-07-28T11:21:14.576757Z"
    },
    "papermill": {
     "duration": 0.028021,
     "end_time": "2025-07-28T11:21:14.579437",
     "exception": false,
     "start_time": "2025-07-28T11:21:14.551416",
     "status": "completed"
    },
    "tags": []
   },
   "outputs": [
    {
     "name": "stdout",
     "output_type": "stream",
     "text": [
      "Using Seed: 2023\n"
     ]
    }
   ],
   "source": [
    "import numpy as np\n",
    "parsed_seed = int(seed)\n",
    "np.random.seed(parsed_seed)\n",
    "print(f\"Using Seed: {parsed_seed}\")"
   ]
  },
  {
   "cell_type": "markdown",
   "id": "e0ebdc57",
   "metadata": {
    "papermill": {
     "duration": 0.018079,
     "end_time": "2025-07-28T11:21:14.616827",
     "exception": false,
     "start_time": "2025-07-28T11:21:14.598748",
     "status": "completed"
    },
    "tags": []
   },
   "source": [
    "# Loading Data"
   ]
  },
  {
   "cell_type": "markdown",
   "id": "681925a3",
   "metadata": {
    "papermill": {
     "duration": 0.019526,
     "end_time": "2025-07-28T11:21:14.654733",
     "exception": false,
     "start_time": "2025-07-28T11:21:14.635207",
     "status": "completed"
    },
    "tags": []
   },
   "source": [
    "Load siab_train, siab_test, siab_calib and/or \n",
    "load siab_train_features, siab_train_labels"
   ]
  },
  {
   "cell_type": "code",
   "execution_count": 9,
   "id": "f0496b8a",
   "metadata": {
    "execution": {
     "iopub.execute_input": "2025-07-28T11:21:14.693839Z",
     "iopub.status.busy": "2025-07-28T11:21:14.693107Z",
     "iopub.status.idle": "2025-07-28T11:21:27.608014Z",
     "shell.execute_reply": "2025-07-28T11:21:27.606852Z"
    },
    "papermill": {
     "duration": 12.936214,
     "end_time": "2025-07-28T11:21:27.609685",
     "exception": false,
     "start_time": "2025-07-28T11:21:14.673471",
     "status": "completed"
    },
    "tags": []
   },
   "outputs": [
    {
     "name": "stdout",
     "output_type": "stream",
     "text": [
      "Loading SIAB data from cache: data/siab_cached.csv.gz\n"
     ]
    },
    {
     "name": "stdout",
     "output_type": "stream",
     "text": [
      "(643690, 164)\n"
     ]
    }
   ],
   "source": [
    "from pathlib import Path\n",
    "import pandas as pd\n",
    "\n",
    "# File paths\n",
    "raw_file = Path(\"data/raw/siab.csv\")\n",
    "cache_file = Path(\"data/siab_cached.csv.gz\")\n",
    "\n",
    "# Ensure cache directory exists\n",
    "cache_file.parent.mkdir(parents=True, exist_ok=True)\n",
    "\n",
    "# Load with simple caching\n",
    "if cache_file.exists():\n",
    "    print(f\"Loading SIAB data from cache: {cache_file}\")\n",
    "    siab = pd.read_csv(cache_file, compression='gzip')\n",
    "else:\n",
    "    print(f\"Cache not found. Reading raw SIAB data: {raw_file}\")\n",
    "    siab = pd.read_csv(raw_file)\n",
    "    siab.to_csv(cache_file, index=False, compression='gzip')\n",
    "    print(f\"Cached SIAB data to: {cache_file}\")\n",
    "\n",
    "# Now use `siab` DataFrame as needed\n",
    "print(siab.shape)"
   ]
  },
  {
   "cell_type": "code",
   "execution_count": 10,
   "id": "db0ca512-5f53-4dba-abdb-a2888bca41ba",
   "metadata": {
    "execution": {
     "iopub.execute_input": "2025-07-28T11:21:27.650525Z",
     "iopub.status.busy": "2025-07-28T11:21:27.650033Z",
     "iopub.status.idle": "2025-07-28T11:21:27.655814Z",
     "shell.execute_reply": "2025-07-28T11:21:27.654799Z"
    },
    "papermill": {
     "duration": 0.026762,
     "end_time": "2025-07-28T11:21:27.657408",
     "exception": false,
     "start_time": "2025-07-28T11:21:27.630646",
     "status": "completed"
    },
    "tags": []
   },
   "outputs": [],
   "source": [
    "#siab"
   ]
  },
  {
   "cell_type": "code",
   "execution_count": 11,
   "id": "a0edb063",
   "metadata": {
    "execution": {
     "iopub.execute_input": "2025-07-28T11:21:27.695817Z",
     "iopub.status.busy": "2025-07-28T11:21:27.695100Z",
     "iopub.status.idle": "2025-07-28T11:21:27.700197Z",
     "shell.execute_reply": "2025-07-28T11:21:27.699297Z"
    },
    "papermill": {
     "duration": 0.025602,
     "end_time": "2025-07-28T11:21:27.701644",
     "exception": false,
     "start_time": "2025-07-28T11:21:27.676042",
     "status": "completed"
    },
    "tags": []
   },
   "outputs": [],
   "source": [
    "#import pandas as pd\n",
    "#\n",
    "#X_train = pd.read_csv(\"./data/X_train.csv\")\n",
    "#y_train = pd.read_csv(\"./data/y_train.csv\")"
   ]
  },
  {
   "cell_type": "code",
   "execution_count": 12,
   "id": "63d08085",
   "metadata": {
    "execution": {
     "iopub.execute_input": "2025-07-28T11:21:27.740739Z",
     "iopub.status.busy": "2025-07-28T11:21:27.739798Z",
     "iopub.status.idle": "2025-07-28T11:21:27.745063Z",
     "shell.execute_reply": "2025-07-28T11:21:27.744090Z"
    },
    "papermill": {
     "duration": 0.026415,
     "end_time": "2025-07-28T11:21:27.746563",
     "exception": false,
     "start_time": "2025-07-28T11:21:27.720148",
     "status": "completed"
    },
    "tags": []
   },
   "outputs": [],
   "source": [
    "#X_test = pd.read_csv(\"./data/X_test.csv\")\n",
    "#y_true = pd.read_csv(\"./data/y_test.csv\")"
   ]
  },
  {
   "cell_type": "code",
   "execution_count": 13,
   "id": "98a8d0fa-1d3d-4ed8-bb2c-281470e24add",
   "metadata": {
    "execution": {
     "iopub.execute_input": "2025-07-28T11:21:27.785288Z",
     "iopub.status.busy": "2025-07-28T11:21:27.784600Z",
     "iopub.status.idle": "2025-07-28T11:21:27.789682Z",
     "shell.execute_reply": "2025-07-28T11:21:27.788818Z"
    },
    "papermill": {
     "duration": 0.02597,
     "end_time": "2025-07-28T11:21:27.791199",
     "exception": false,
     "start_time": "2025-07-28T11:21:27.765229",
     "status": "completed"
    },
    "tags": []
   },
   "outputs": [],
   "source": [
    "# Calibration data for conformal\n",
    "#X_calib = pd.read_csv(\"./data/X_calib.csv\")\n",
    "#y_calib = pd.read_csv(\"./data/y_calib.csv\")"
   ]
  },
  {
   "cell_type": "markdown",
   "id": "9901737e-04df-44f0-9100-f5ad144ed040",
   "metadata": {
    "papermill": {
     "duration": 0.01821,
     "end_time": "2025-07-28T11:21:27.827991",
     "exception": false,
     "start_time": "2025-07-28T11:21:27.809781",
     "status": "completed"
    },
    "tags": []
   },
   "source": [
    "# Splitting Data and Setting Training Data Size"
   ]
  },
  {
   "cell_type": "code",
   "execution_count": 14,
   "id": "acbc8f7d-8fc8-4e86-8c59-5dcb0f58384b",
   "metadata": {
    "execution": {
     "iopub.execute_input": "2025-07-28T11:21:27.866527Z",
     "iopub.status.busy": "2025-07-28T11:21:27.865819Z",
     "iopub.status.idle": "2025-07-28T11:21:27.874007Z",
     "shell.execute_reply": "2025-07-28T11:21:27.873056Z"
    },
    "papermill": {
     "duration": 0.029021,
     "end_time": "2025-07-28T11:21:27.875591",
     "exception": false,
     "start_time": "2025-07-28T11:21:27.846570",
     "status": "completed"
    },
    "tags": []
   },
   "outputs": [],
   "source": [
    "def sample_by_year(df, training_size, random_state=42):\n",
    "    if training_size == \"2014\":\n",
    "        return df[df[\"year\"] == 2014].reset_index(drop=True)\n",
    "    \n",
    "    size_map = {\n",
    "        \"25k\": 5000,\n",
    "        \"5k\": 1000,\n",
    "        \"1k\": 200\n",
    "    }\n",
    "\n",
    "    if training_size not in size_map:\n",
    "        return df.reset_index(drop=True)  # use all data\n",
    "\n",
    "    n_per_year = size_map[training_size]\n",
    "    grouped = df.groupby(\"year\")\n",
    "    sampled = grouped.apply(lambda x: x.sample(n=min(n_per_year, len(x)), random_state=random_state))\n",
    "    return sampled.reset_index(drop=True)"
   ]
  },
  {
   "cell_type": "code",
   "execution_count": 15,
   "id": "6d931f52-beaf-43ff-9e78-9d44a448d54e",
   "metadata": {
    "execution": {
     "iopub.execute_input": "2025-07-28T11:21:27.914374Z",
     "iopub.status.busy": "2025-07-28T11:21:27.913702Z",
     "iopub.status.idle": "2025-07-28T11:21:28.097510Z",
     "shell.execute_reply": "2025-07-28T11:21:28.096549Z"
    },
    "papermill": {
     "duration": 0.205113,
     "end_time": "2025-07-28T11:21:28.099376",
     "exception": false,
     "start_time": "2025-07-28T11:21:27.894263",
     "status": "completed"
    },
    "tags": []
   },
   "outputs": [],
   "source": [
    "siab_s = sample_by_year(siab, universe[\"training_size\"])"
   ]
  },
  {
   "cell_type": "code",
   "execution_count": 16,
   "id": "5db0a40e-a4e2-4920-be85-b12ae061d70d",
   "metadata": {
    "execution": {
     "iopub.execute_input": "2025-07-28T11:21:28.138724Z",
     "iopub.status.busy": "2025-07-28T11:21:28.138028Z",
     "iopub.status.idle": "2025-07-28T11:21:28.153383Z",
     "shell.execute_reply": "2025-07-28T11:21:28.152535Z"
    },
    "papermill": {
     "duration": 0.036483,
     "end_time": "2025-07-28T11:21:28.154895",
     "exception": false,
     "start_time": "2025-07-28T11:21:28.118412",
     "status": "completed"
    },
    "tags": []
   },
   "outputs": [
    {
     "data": {
      "text/plain": [
       "year\n",
       "2014    87158\n",
       "dtype: int64"
      ]
     },
     "metadata": {},
     "output_type": "display_data"
    }
   ],
   "source": [
    "display(siab_s.groupby(\"year\").size())"
   ]
  },
  {
   "cell_type": "code",
   "execution_count": 17,
   "id": "a561edb4-d032-42cb-8256-22eac1111c64",
   "metadata": {
    "execution": {
     "iopub.execute_input": "2025-07-28T11:21:28.194842Z",
     "iopub.status.busy": "2025-07-28T11:21:28.194148Z",
     "iopub.status.idle": "2025-07-28T11:21:28.487662Z",
     "shell.execute_reply": "2025-07-28T11:21:28.486737Z"
    },
    "papermill": {
     "duration": 0.315347,
     "end_time": "2025-07-28T11:21:28.489682",
     "exception": false,
     "start_time": "2025-07-28T11:21:28.174335",
     "status": "completed"
    },
    "tags": []
   },
   "outputs": [],
   "source": [
    "siab_train = siab_s[siab_s.year < 2015]\n",
    "siab_calib = siab[siab.year == 2015]\n",
    "siab_test = siab[siab.year == 2016]"
   ]
  },
  {
   "cell_type": "code",
   "execution_count": 18,
   "id": "472de16f-c3db-4916-846b-1f0de9cf1746",
   "metadata": {
    "execution": {
     "iopub.execute_input": "2025-07-28T11:21:28.529773Z",
     "iopub.status.busy": "2025-07-28T11:21:28.529048Z",
     "iopub.status.idle": "2025-07-28T11:21:28.583453Z",
     "shell.execute_reply": "2025-07-28T11:21:28.582426Z"
    },
    "papermill": {
     "duration": 0.076103,
     "end_time": "2025-07-28T11:21:28.585261",
     "exception": false,
     "start_time": "2025-07-28T11:21:28.509158",
     "status": "completed"
    },
    "tags": []
   },
   "outputs": [],
   "source": [
    "X_train = siab_train.iloc[:,4:164]\n",
    "y_train = siab_train.iloc[:, [3]]"
   ]
  },
  {
   "cell_type": "code",
   "execution_count": 19,
   "id": "828c96af-f43a-4ed6-ba47-8ac73a47d56c",
   "metadata": {
    "execution": {
     "iopub.execute_input": "2025-07-28T11:21:28.625132Z",
     "iopub.status.busy": "2025-07-28T11:21:28.624430Z",
     "iopub.status.idle": "2025-07-28T11:21:28.675390Z",
     "shell.execute_reply": "2025-07-28T11:21:28.674335Z"
    },
    "papermill": {
     "duration": 0.072457,
     "end_time": "2025-07-28T11:21:28.677163",
     "exception": false,
     "start_time": "2025-07-28T11:21:28.604706",
     "status": "completed"
    },
    "tags": []
   },
   "outputs": [],
   "source": [
    "X_calib = siab_calib.iloc[:,4:164]\n",
    "y_calib = siab_calib.iloc[:, [3]]"
   ]
  },
  {
   "cell_type": "code",
   "execution_count": 20,
   "id": "c34be9c3-6bd6-476e-acd3-845840e303be",
   "metadata": {
    "execution": {
     "iopub.execute_input": "2025-07-28T11:21:28.717746Z",
     "iopub.status.busy": "2025-07-28T11:21:28.717084Z",
     "iopub.status.idle": "2025-07-28T11:21:28.769052Z",
     "shell.execute_reply": "2025-07-28T11:21:28.768101Z"
    },
    "papermill": {
     "duration": 0.073818,
     "end_time": "2025-07-28T11:21:28.770716",
     "exception": false,
     "start_time": "2025-07-28T11:21:28.696898",
     "status": "completed"
    },
    "tags": []
   },
   "outputs": [],
   "source": [
    "X_test = siab_test.iloc[:,4:164]\n",
    "y_true = siab_test.iloc[:, [3]]"
   ]
  },
  {
   "cell_type": "code",
   "execution_count": 21,
   "id": "e6c733c5",
   "metadata": {
    "execution": {
     "iopub.execute_input": "2025-07-28T11:21:28.811611Z",
     "iopub.status.busy": "2025-07-28T11:21:28.810905Z",
     "iopub.status.idle": "2025-07-28T11:21:28.945575Z",
     "shell.execute_reply": "2025-07-28T11:21:28.944599Z"
    },
    "papermill": {
     "duration": 0.156856,
     "end_time": "2025-07-28T11:21:28.947547",
     "exception": false,
     "start_time": "2025-07-28T11:21:28.790691",
     "status": "completed"
    },
    "tags": []
   },
   "outputs": [],
   "source": [
    "# Auxiliary data needed downstream in the pipeline\n",
    "\n",
    "org_train = X_train.copy()\n",
    "org_test = X_test.copy()\n",
    "org_calib = X_calib.copy()"
   ]
  },
  {
   "cell_type": "markdown",
   "id": "0a4a1b33",
   "metadata": {
    "papermill": {
     "duration": 0.019025,
     "end_time": "2025-07-28T11:21:28.986646",
     "exception": false,
     "start_time": "2025-07-28T11:21:28.967621",
     "status": "completed"
    },
    "tags": []
   },
   "source": [
    "# Preprocessing Data"
   ]
  },
  {
   "cell_type": "code",
   "execution_count": 22,
   "id": "ca879031",
   "metadata": {
    "execution": {
     "iopub.execute_input": "2025-07-28T11:21:29.026924Z",
     "iopub.status.busy": "2025-07-28T11:21:29.026197Z",
     "iopub.status.idle": "2025-07-28T11:21:29.033039Z",
     "shell.execute_reply": "2025-07-28T11:21:29.031663Z"
    },
    "papermill": {
     "duration": 0.028854,
     "end_time": "2025-07-28T11:21:29.034674",
     "exception": false,
     "start_time": "2025-07-28T11:21:29.005820",
     "status": "completed"
    },
    "tags": []
   },
   "outputs": [],
   "source": [
    "# EXCLUDE PROTECTED FEATURES\n",
    "# ----------------------\n",
    "# \"exclude_features\": \"none\", # \"nationality\", \"sex\", \"nationality-sex\"\n",
    "\n",
    "excluded_features = universe[\"exclude_features\"].split(\"-\") # split, e.g.: \"nationality-sex\" -> [\"nationality\", \"sex\"]\n",
    "excluded_features_dictionary = {\n",
    "    \"nationality\": [\"maxdeutsch1\", \"maxdeutsch.Missing.\"],\n",
    "    \"sex\": [\"frau1\"],\n",
    "    \"age\": [\"age\"],\n",
    "}\n"
   ]
  },
  {
   "cell_type": "code",
   "execution_count": 23,
   "id": "b745ac60",
   "metadata": {
    "execution": {
     "iopub.execute_input": "2025-07-28T11:21:29.075652Z",
     "iopub.status.busy": "2025-07-28T11:21:29.074987Z",
     "iopub.status.idle": "2025-07-28T11:21:29.080927Z",
     "shell.execute_reply": "2025-07-28T11:21:29.079936Z"
    },
    "papermill": {
     "duration": 0.027924,
     "end_time": "2025-07-28T11:21:29.082410",
     "exception": false,
     "start_time": "2025-07-28T11:21:29.054486",
     "status": "completed"
    },
    "tags": []
   },
   "outputs": [],
   "source": [
    "# Code nice names to column names\n",
    "\n",
    "excluded_features_columns = [\n",
    "    excluded_features_dictionary[f] for f in excluded_features if len(f) > 0 and f != \"none\"\n",
    "]"
   ]
  },
  {
   "cell_type": "code",
   "execution_count": 24,
   "id": "f84f73a2",
   "metadata": {
    "execution": {
     "iopub.execute_input": "2025-07-28T11:21:29.122919Z",
     "iopub.status.busy": "2025-07-28T11:21:29.122228Z",
     "iopub.status.idle": "2025-07-28T11:21:29.128880Z",
     "shell.execute_reply": "2025-07-28T11:21:29.128009Z"
    },
    "papermill": {
     "duration": 0.028613,
     "end_time": "2025-07-28T11:21:29.130635",
     "exception": false,
     "start_time": "2025-07-28T11:21:29.102022",
     "status": "completed"
    },
    "tags": []
   },
   "outputs": [],
   "source": [
    "from utils import flatten_once\n",
    "\n",
    "excluded_features_columns = flatten_once(excluded_features_columns)"
   ]
  },
  {
   "cell_type": "code",
   "execution_count": 25,
   "id": "884dea22",
   "metadata": {
    "execution": {
     "iopub.execute_input": "2025-07-28T11:21:29.171436Z",
     "iopub.status.busy": "2025-07-28T11:21:29.170786Z",
     "iopub.status.idle": "2025-07-28T11:21:29.222968Z",
     "shell.execute_reply": "2025-07-28T11:21:29.221946Z"
    },
    "papermill": {
     "duration": 0.075538,
     "end_time": "2025-07-28T11:21:29.225709",
     "exception": false,
     "start_time": "2025-07-28T11:21:29.150171",
     "status": "completed"
    },
    "tags": []
   },
   "outputs": [
    {
     "name": "stdout",
     "output_type": "stream",
     "text": [
      "Dropping features: ['age']\n"
     ]
    }
   ],
   "source": [
    "if len(excluded_features_columns) > 0:\n",
    "    print(f\"Dropping features: {excluded_features_columns}\")\n",
    "    X_train.drop(excluded_features_columns, axis=1, inplace=True)"
   ]
  },
  {
   "cell_type": "code",
   "execution_count": 26,
   "id": "95ab8b16",
   "metadata": {
    "execution": {
     "iopub.execute_input": "2025-07-28T11:21:29.267442Z",
     "iopub.status.busy": "2025-07-28T11:21:29.266793Z",
     "iopub.status.idle": "2025-07-28T11:21:29.319201Z",
     "shell.execute_reply": "2025-07-28T11:21:29.318172Z"
    },
    "papermill": {
     "duration": 0.075997,
     "end_time": "2025-07-28T11:21:29.321907",
     "exception": false,
     "start_time": "2025-07-28T11:21:29.245910",
     "status": "completed"
    },
    "tags": []
   },
   "outputs": [
    {
     "name": "stdout",
     "output_type": "stream",
     "text": [
      "Dropping features: ['age']\n"
     ]
    }
   ],
   "source": [
    "if len(excluded_features_columns) > 0:\n",
    "    print(f\"Dropping features: {excluded_features_columns}\")\n",
    "    X_test.drop(excluded_features_columns, axis=1, inplace=True)"
   ]
  },
  {
   "cell_type": "code",
   "execution_count": 27,
   "id": "1853aaf5-fb9f-46cb-a2b5-8ea4ae2237e4",
   "metadata": {
    "execution": {
     "iopub.execute_input": "2025-07-28T11:21:29.363577Z",
     "iopub.status.busy": "2025-07-28T11:21:29.362910Z",
     "iopub.status.idle": "2025-07-28T11:21:29.413411Z",
     "shell.execute_reply": "2025-07-28T11:21:29.412376Z"
    },
    "papermill": {
     "duration": 0.073765,
     "end_time": "2025-07-28T11:21:29.415989",
     "exception": false,
     "start_time": "2025-07-28T11:21:29.342224",
     "status": "completed"
    },
    "tags": []
   },
   "outputs": [
    {
     "name": "stdout",
     "output_type": "stream",
     "text": [
      "Dropping features: ['age']\n"
     ]
    }
   ],
   "source": [
    "if len(excluded_features_columns) > 0:\n",
    "    print(f\"Dropping features: {excluded_features_columns}\")\n",
    "    X_calib.drop(excluded_features_columns, axis=1, inplace=True)"
   ]
  },
  {
   "cell_type": "code",
   "execution_count": 28,
   "id": "6727d079-03e5-481e-9d38-292a90b7a0a8",
   "metadata": {
    "execution": {
     "iopub.execute_input": "2025-07-28T11:21:29.458075Z",
     "iopub.status.busy": "2025-07-28T11:21:29.457400Z",
     "iopub.status.idle": "2025-07-28T11:21:29.462349Z",
     "shell.execute_reply": "2025-07-28T11:21:29.461462Z"
    },
    "papermill": {
     "duration": 0.027449,
     "end_time": "2025-07-28T11:21:29.464009",
     "exception": false,
     "start_time": "2025-07-28T11:21:29.436560",
     "status": "completed"
    },
    "tags": []
   },
   "outputs": [],
   "source": [
    "# SPLIT & STRATIFY DATA\n",
    "# ----------------------"
   ]
  },
  {
   "cell_type": "code",
   "execution_count": 29,
   "id": "76c4dc6d",
   "metadata": {
    "execution": {
     "iopub.execute_input": "2025-07-28T11:21:29.505884Z",
     "iopub.status.busy": "2025-07-28T11:21:29.505232Z",
     "iopub.status.idle": "2025-07-28T11:21:29.510683Z",
     "shell.execute_reply": "2025-07-28T11:21:29.509828Z"
    },
    "papermill": {
     "duration": 0.028302,
     "end_time": "2025-07-28T11:21:29.512238",
     "exception": false,
     "start_time": "2025-07-28T11:21:29.483936",
     "status": "completed"
    },
    "tags": []
   },
   "outputs": [],
   "source": [
    "# EXCLUDE CERTAIN SUBGROUPS\n",
    "# ----------------------\n",
    "\n",
    "mode = universe.get(\"exclude_subgroups\", \"keep-all\") \n",
    "# Fetches the exclude_subgroups setting from the universe dict.\n",
    "# Defaults to \"keep-all\" if the key is missing."
   ]
  },
  {
   "cell_type": "code",
   "execution_count": 30,
   "id": "21994072",
   "metadata": {
    "execution": {
     "iopub.execute_input": "2025-07-28T11:21:29.553965Z",
     "iopub.status.busy": "2025-07-28T11:21:29.553302Z",
     "iopub.status.idle": "2025-07-28T11:21:29.560715Z",
     "shell.execute_reply": "2025-07-28T11:21:29.559741Z"
    },
    "papermill": {
     "duration": 0.029943,
     "end_time": "2025-07-28T11:21:29.562271",
     "exception": false,
     "start_time": "2025-07-28T11:21:29.532328",
     "status": "completed"
    },
    "tags": []
   },
   "outputs": [],
   "source": [
    "if mode == \"keep-all\":\n",
    "    keep_mask = pd.Series(True, index=org_train.index)\n",
    "\n",
    "# org_train contains the original feature columns from features_org (in Simson)\n",
    "# features_org contains unprocessed features, for me X_train at beginning ???\n",
    "# For keep-all, creates a boolean Series (keep_mask) of all True, so no rows are removed.\n",
    "\n",
    "elif mode == \"drop-non-german\":\n",
    "    keep_mask = org_train[\"maxdeutsch1\"] == 1 # ??? what about missing values?\n",
    "\n",
    "else:\n",
    "    raise ValueError(f\"Unsupported mode for exclude_subgroups: {mode}\")\n"
   ]
  },
  {
   "cell_type": "code",
   "execution_count": 31,
   "id": "71651440",
   "metadata": {
    "execution": {
     "iopub.execute_input": "2025-07-28T11:21:29.603999Z",
     "iopub.status.busy": "2025-07-28T11:21:29.603307Z",
     "iopub.status.idle": "2025-07-28T11:21:29.610269Z",
     "shell.execute_reply": "2025-07-28T11:21:29.609401Z"
    },
    "papermill": {
     "duration": 0.029347,
     "end_time": "2025-07-28T11:21:29.611813",
     "exception": false,
     "start_time": "2025-07-28T11:21:29.582466",
     "status": "completed"
    },
    "tags": []
   },
   "outputs": [],
   "source": [
    "n_drop = (~keep_mask).sum() # Calculates how many rows are set to be dropped\n",
    "if n_drop > 0:\n",
    "    pct = n_drop / len(keep_mask) * 100\n",
    "    print(f\"Dropping {n_drop} rows ({pct:.2f}%) where mode='{mode}'\")"
   ]
  },
  {
   "cell_type": "code",
   "execution_count": 32,
   "id": "5fb8eee5",
   "metadata": {
    "execution": {
     "iopub.execute_input": "2025-07-28T11:21:29.653506Z",
     "iopub.status.busy": "2025-07-28T11:21:29.652842Z",
     "iopub.status.idle": "2025-07-28T11:21:29.715151Z",
     "shell.execute_reply": "2025-07-28T11:21:29.714208Z"
    },
    "papermill": {
     "duration": 0.085234,
     "end_time": "2025-07-28T11:21:29.717130",
     "exception": false,
     "start_time": "2025-07-28T11:21:29.631896",
     "status": "completed"
    },
    "tags": []
   },
   "outputs": [],
   "source": [
    "X_train = X_train[keep_mask]"
   ]
  },
  {
   "cell_type": "code",
   "execution_count": 33,
   "id": "b202bb3a",
   "metadata": {
    "execution": {
     "iopub.execute_input": "2025-07-28T11:21:29.759515Z",
     "iopub.status.busy": "2025-07-28T11:21:29.758812Z",
     "iopub.status.idle": "2025-07-28T11:21:29.766182Z",
     "shell.execute_reply": "2025-07-28T11:21:29.765286Z"
    },
    "papermill": {
     "duration": 0.030178,
     "end_time": "2025-07-28T11:21:29.767791",
     "exception": false,
     "start_time": "2025-07-28T11:21:29.737613",
     "status": "completed"
    },
    "tags": []
   },
   "outputs": [],
   "source": [
    "y_train = y_train[keep_mask]"
   ]
  },
  {
   "cell_type": "markdown",
   "id": "493e2ac3",
   "metadata": {
    "papermill": {
     "duration": 0.019728,
     "end_time": "2025-07-28T11:21:29.807637",
     "exception": false,
     "start_time": "2025-07-28T11:21:29.787909",
     "status": "completed"
    },
    "tags": []
   },
   "source": [
    "# Model Training"
   ]
  },
  {
   "cell_type": "code",
   "execution_count": 34,
   "id": "679e1268",
   "metadata": {
    "execution": {
     "iopub.execute_input": "2025-07-28T11:21:29.849456Z",
     "iopub.status.busy": "2025-07-28T11:21:29.848738Z",
     "iopub.status.idle": "2025-07-28T11:21:29.955225Z",
     "shell.execute_reply": "2025-07-28T11:21:29.954321Z"
    },
    "papermill": {
     "duration": 0.129522,
     "end_time": "2025-07-28T11:21:29.957058",
     "exception": false,
     "start_time": "2025-07-28T11:21:29.827536",
     "status": "completed"
    },
    "tags": []
   },
   "outputs": [],
   "source": [
    "from sklearn.linear_model import LogisticRegression\n",
    "from sklearn.ensemble import GradientBoostingClassifier, RandomForestClassifier\n",
    "\n",
    "if (universe[\"model\"] == \"logreg\"):\n",
    "    model = LogisticRegression() #penalty=\"none\") #, solver=\"newton-cg\", max_iter=1) # include random_state=19 ?\n",
    "elif (universe[\"model\"] == \"penalized_logreg\"):\n",
    "    model = LogisticRegression(penalty=\"l2\", C=1.0) #, solver=\"newton-cg\", max_iter=1)\n",
    "elif (universe[\"model\"] == \"rf\"):\n",
    "    model = RandomForestClassifier(n_estimators=100, n_jobs=-1)\n",
    "elif (universe[\"model\"] == \"gbm\"):\n",
    "    model = GradientBoostingClassifier()\n",
    "elif (universe[\"model\"] == \"elasticnet\"):\n",
    "    model = LogisticRegression(penalty = 'elasticnet', solver = 'saga', l1_ratio = 0.5, max_iter=5000) # which solver to use?\n",
    "else:\n",
    "    raise \"Unsupported universe.model\""
   ]
  },
  {
   "cell_type": "code",
   "execution_count": 35,
   "id": "0cc8f744",
   "metadata": {
    "execution": {
     "iopub.execute_input": "2025-07-28T11:21:30.000210Z",
     "iopub.status.busy": "2025-07-28T11:21:29.999534Z",
     "iopub.status.idle": "2025-07-28T11:21:30.005988Z",
     "shell.execute_reply": "2025-07-28T11:21:30.005100Z"
    },
    "papermill": {
     "duration": 0.029221,
     "end_time": "2025-07-28T11:21:30.007574",
     "exception": false,
     "start_time": "2025-07-28T11:21:29.978353",
     "status": "completed"
    },
    "tags": []
   },
   "outputs": [],
   "source": [
    "import numpy as np\n",
    "from sklearn.pipeline import Pipeline\n",
    "from sklearn.preprocessing import StandardScaler\n",
    "\n",
    "model = Pipeline([\n",
    "    #(\"continuous_processor\", continuous_processor),\n",
    "    #(\"categorical_preprocessor\", categorical_preprocessor),\n",
    "    (\"scale\", StandardScaler() if universe[\"scale\"] == \"scale\" else None), \n",
    "    (\"model\", model),\n",
    "])"
   ]
  },
  {
   "cell_type": "code",
   "execution_count": 36,
   "id": "9442c04d",
   "metadata": {
    "execution": {
     "iopub.execute_input": "2025-07-28T11:21:30.049576Z",
     "iopub.status.busy": "2025-07-28T11:21:30.048865Z",
     "iopub.status.idle": "2025-07-28T11:42:51.719286Z",
     "shell.execute_reply": "2025-07-28T11:42:51.718290Z"
    },
    "papermill": {
     "duration": 1283.753923,
     "end_time": "2025-07-28T11:42:53.781761",
     "exception": false,
     "start_time": "2025-07-28T11:21:30.027838",
     "status": "completed"
    },
    "tags": []
   },
   "outputs": [
    {
     "name": "stderr",
     "output_type": "stream",
     "text": [
      "/dss/dsshome1/0C/ra93lal2/.local/share/virtualenvs/CMA_Fairness_v2-3j10GkSs/lib/python3.10/site-packages/sklearn/linear_model/_sag.py:350: ConvergenceWarning: The max_iter was reached which means the coef_ did not converge\n",
      "  warnings.warn(\n"
     ]
    },
    {
     "data": {
      "text/html": [
       "<style>#sk-container-id-1 {color: black;background-color: white;}#sk-container-id-1 pre{padding: 0;}#sk-container-id-1 div.sk-toggleable {background-color: white;}#sk-container-id-1 label.sk-toggleable__label {cursor: pointer;display: block;width: 100%;margin-bottom: 0;padding: 0.3em;box-sizing: border-box;text-align: center;}#sk-container-id-1 label.sk-toggleable__label-arrow:before {content: \"▸\";float: left;margin-right: 0.25em;color: #696969;}#sk-container-id-1 label.sk-toggleable__label-arrow:hover:before {color: black;}#sk-container-id-1 div.sk-estimator:hover label.sk-toggleable__label-arrow:before {color: black;}#sk-container-id-1 div.sk-toggleable__content {max-height: 0;max-width: 0;overflow: hidden;text-align: left;background-color: #f0f8ff;}#sk-container-id-1 div.sk-toggleable__content pre {margin: 0.2em;color: black;border-radius: 0.25em;background-color: #f0f8ff;}#sk-container-id-1 input.sk-toggleable__control:checked~div.sk-toggleable__content {max-height: 200px;max-width: 100%;overflow: auto;}#sk-container-id-1 input.sk-toggleable__control:checked~label.sk-toggleable__label-arrow:before {content: \"▾\";}#sk-container-id-1 div.sk-estimator input.sk-toggleable__control:checked~label.sk-toggleable__label {background-color: #d4ebff;}#sk-container-id-1 div.sk-label input.sk-toggleable__control:checked~label.sk-toggleable__label {background-color: #d4ebff;}#sk-container-id-1 input.sk-hidden--visually {border: 0;clip: rect(1px 1px 1px 1px);clip: rect(1px, 1px, 1px, 1px);height: 1px;margin: -1px;overflow: hidden;padding: 0;position: absolute;width: 1px;}#sk-container-id-1 div.sk-estimator {font-family: monospace;background-color: #f0f8ff;border: 1px dotted black;border-radius: 0.25em;box-sizing: border-box;margin-bottom: 0.5em;}#sk-container-id-1 div.sk-estimator:hover {background-color: #d4ebff;}#sk-container-id-1 div.sk-parallel-item::after {content: \"\";width: 100%;border-bottom: 1px solid gray;flex-grow: 1;}#sk-container-id-1 div.sk-label:hover label.sk-toggleable__label {background-color: #d4ebff;}#sk-container-id-1 div.sk-serial::before {content: \"\";position: absolute;border-left: 1px solid gray;box-sizing: border-box;top: 0;bottom: 0;left: 50%;z-index: 0;}#sk-container-id-1 div.sk-serial {display: flex;flex-direction: column;align-items: center;background-color: white;padding-right: 0.2em;padding-left: 0.2em;position: relative;}#sk-container-id-1 div.sk-item {position: relative;z-index: 1;}#sk-container-id-1 div.sk-parallel {display: flex;align-items: stretch;justify-content: center;background-color: white;position: relative;}#sk-container-id-1 div.sk-item::before, #sk-container-id-1 div.sk-parallel-item::before {content: \"\";position: absolute;border-left: 1px solid gray;box-sizing: border-box;top: 0;bottom: 0;left: 50%;z-index: -1;}#sk-container-id-1 div.sk-parallel-item {display: flex;flex-direction: column;z-index: 1;position: relative;background-color: white;}#sk-container-id-1 div.sk-parallel-item:first-child::after {align-self: flex-end;width: 50%;}#sk-container-id-1 div.sk-parallel-item:last-child::after {align-self: flex-start;width: 50%;}#sk-container-id-1 div.sk-parallel-item:only-child::after {width: 0;}#sk-container-id-1 div.sk-dashed-wrapped {border: 1px dashed gray;margin: 0 0.4em 0.5em 0.4em;box-sizing: border-box;padding-bottom: 0.4em;background-color: white;}#sk-container-id-1 div.sk-label label {font-family: monospace;font-weight: bold;display: inline-block;line-height: 1.2em;}#sk-container-id-1 div.sk-label-container {text-align: center;}#sk-container-id-1 div.sk-container {/* jupyter's `normalize.less` sets `[hidden] { display: none; }` but bootstrap.min.css set `[hidden] { display: none !important; }` so we also need the `!important` here to be able to override the default hidden behavior on the sphinx rendered scikit-learn.org. See: https://github.com/scikit-learn/scikit-learn/issues/21755 */display: inline-block !important;position: relative;}#sk-container-id-1 div.sk-text-repr-fallback {display: none;}</style><div id=\"sk-container-id-1\" class=\"sk-top-container\"><div class=\"sk-text-repr-fallback\"><pre>Pipeline(steps=[(&#x27;scale&#x27;, None),\n",
       "                (&#x27;model&#x27;,\n",
       "                 LogisticRegression(l1_ratio=0.5, max_iter=5000,\n",
       "                                    penalty=&#x27;elasticnet&#x27;, solver=&#x27;saga&#x27;))])</pre><b>In a Jupyter environment, please rerun this cell to show the HTML representation or trust the notebook. <br />On GitHub, the HTML representation is unable to render, please try loading this page with nbviewer.org.</b></div><div class=\"sk-container\" hidden><div class=\"sk-item sk-dashed-wrapped\"><div class=\"sk-label-container\"><div class=\"sk-label sk-toggleable\"><input class=\"sk-toggleable__control sk-hidden--visually\" id=\"sk-estimator-id-1\" type=\"checkbox\" ><label for=\"sk-estimator-id-1\" class=\"sk-toggleable__label sk-toggleable__label-arrow\">Pipeline</label><div class=\"sk-toggleable__content\"><pre>Pipeline(steps=[(&#x27;scale&#x27;, None),\n",
       "                (&#x27;model&#x27;,\n",
       "                 LogisticRegression(l1_ratio=0.5, max_iter=5000,\n",
       "                                    penalty=&#x27;elasticnet&#x27;, solver=&#x27;saga&#x27;))])</pre></div></div></div><div class=\"sk-serial\"><div class=\"sk-item\"><div class=\"sk-estimator sk-toggleable\"><input class=\"sk-toggleable__control sk-hidden--visually\" id=\"sk-estimator-id-2\" type=\"checkbox\" ><label for=\"sk-estimator-id-2\" class=\"sk-toggleable__label sk-toggleable__label-arrow\">None</label><div class=\"sk-toggleable__content\"><pre>None</pre></div></div></div><div class=\"sk-item\"><div class=\"sk-estimator sk-toggleable\"><input class=\"sk-toggleable__control sk-hidden--visually\" id=\"sk-estimator-id-3\" type=\"checkbox\" ><label for=\"sk-estimator-id-3\" class=\"sk-toggleable__label sk-toggleable__label-arrow\">LogisticRegression</label><div class=\"sk-toggleable__content\"><pre>LogisticRegression(l1_ratio=0.5, max_iter=5000, penalty=&#x27;elasticnet&#x27;,\n",
       "                   solver=&#x27;saga&#x27;)</pre></div></div></div></div></div></div></div>"
      ],
      "text/plain": [
       "Pipeline(steps=[('scale', None),\n",
       "                ('model',\n",
       "                 LogisticRegression(l1_ratio=0.5, max_iter=5000,\n",
       "                                    penalty='elasticnet', solver='saga'))])"
      ]
     },
     "execution_count": 36,
     "metadata": {},
     "output_type": "execute_result"
    }
   ],
   "source": [
    "model.fit(X_train, y_train.values.ravel())"
   ]
  },
  {
   "cell_type": "code",
   "execution_count": 37,
   "id": "af59f8c0",
   "metadata": {
    "execution": {
     "iopub.execute_input": "2025-07-28T11:42:53.805066Z",
     "iopub.status.busy": "2025-07-28T11:42:53.804790Z",
     "iopub.status.idle": "2025-07-28T11:42:53.809483Z",
     "shell.execute_reply": "2025-07-28T11:42:53.808740Z"
    },
    "papermill": {
     "duration": 0.017585,
     "end_time": "2025-07-28T11:42:53.810700",
     "exception": false,
     "start_time": "2025-07-28T11:42:53.793115",
     "status": "completed"
    },
    "tags": []
   },
   "outputs": [],
   "source": [
    "from fairness_multiverse.universe import predict_w_threshold"
   ]
  },
  {
   "cell_type": "code",
   "execution_count": 38,
   "id": "a7cf2e16",
   "metadata": {
    "execution": {
     "iopub.execute_input": "2025-07-28T11:42:53.844471Z",
     "iopub.status.busy": "2025-07-28T11:42:53.844122Z",
     "iopub.status.idle": "2025-07-28T11:42:53.931359Z",
     "shell.execute_reply": "2025-07-28T11:42:53.930517Z"
    },
    "papermill": {
     "duration": 0.100472,
     "end_time": "2025-07-28T11:42:53.932671",
     "exception": false,
     "start_time": "2025-07-28T11:42:53.832199",
     "status": "completed"
    },
    "tags": []
   },
   "outputs": [
    {
     "data": {
      "text/plain": [
       "0.8621892765577973"
      ]
     },
     "execution_count": 38,
     "metadata": {},
     "output_type": "execute_result"
    }
   ],
   "source": [
    "probs_test = model.predict_proba(X_test)\n",
    "\n",
    "'''\n",
    "Below code returns a boolean array (or binary 0/1 array depending on how it’s used) where each element \n",
    "is True if the probability of class 1 is greater than or equal to the threshold, and False otherwise.\n",
    "'''\n",
    "y_pred_default = predict_w_threshold(probs_test, 0.5)\n",
    "\n",
    "from sklearn.metrics import accuracy_score\n",
    "\n",
    "# Naive prediction\n",
    "accuracy_score(y_true = y_true, y_pred = y_pred_default)"
   ]
  },
  {
   "cell_type": "code",
   "execution_count": 39,
   "id": "081964c3",
   "metadata": {
    "execution": {
     "iopub.execute_input": "2025-07-28T11:42:53.955945Z",
     "iopub.status.busy": "2025-07-28T11:42:53.955695Z",
     "iopub.status.idle": "2025-07-28T11:42:54.032372Z",
     "shell.execute_reply": "2025-07-28T11:42:54.031480Z"
    },
    "papermill": {
     "duration": 0.089493,
     "end_time": "2025-07-28T11:42:54.033630",
     "exception": false,
     "start_time": "2025-07-28T11:42:53.944137",
     "status": "completed"
    },
    "tags": []
   },
   "outputs": [
    {
     "data": {
      "text/plain": [
       "array([0, 0, 0, ..., 0, 0, 0])"
      ]
     },
     "execution_count": 39,
     "metadata": {},
     "output_type": "execute_result"
    }
   ],
   "source": [
    "model.predict(X_test)"
   ]
  },
  {
   "cell_type": "markdown",
   "id": "56c9705b",
   "metadata": {
    "papermill": {
     "duration": 0.010999,
     "end_time": "2025-07-28T11:42:54.056436",
     "exception": false,
     "start_time": "2025-07-28T11:42:54.045437",
     "status": "completed"
    },
    "tags": []
   },
   "source": [
    "# Conformal Prediction"
   ]
  },
  {
   "cell_type": "code",
   "execution_count": 40,
   "id": "160ec6ff",
   "metadata": {
    "execution": {
     "iopub.execute_input": "2025-07-28T11:42:54.078944Z",
     "iopub.status.busy": "2025-07-28T11:42:54.078691Z",
     "iopub.status.idle": "2025-07-28T11:42:54.082588Z",
     "shell.execute_reply": "2025-07-28T11:42:54.081882Z"
    },
    "papermill": {
     "duration": 0.016575,
     "end_time": "2025-07-28T11:42:54.083738",
     "exception": false,
     "start_time": "2025-07-28T11:42:54.067163",
     "status": "completed"
    },
    "tags": []
   },
   "outputs": [],
   "source": [
    "# Miscoverage level for conformal prediction (10% allowed error rate => 90% target coverage)\n",
    "alpha = 0.1"
   ]
  },
  {
   "cell_type": "code",
   "execution_count": 41,
   "id": "eadf4555-3dd3-440e-8e35-f82a4ad9f855",
   "metadata": {
    "execution": {
     "iopub.execute_input": "2025-07-28T11:42:54.106839Z",
     "iopub.status.busy": "2025-07-28T11:42:54.106569Z",
     "iopub.status.idle": "2025-07-28T11:42:54.180755Z",
     "shell.execute_reply": "2025-07-28T11:42:54.179948Z"
    },
    "papermill": {
     "duration": 0.087279,
     "end_time": "2025-07-28T11:42:54.182286",
     "exception": false,
     "start_time": "2025-07-28T11:42:54.095007",
     "status": "completed"
    },
    "tags": []
   },
   "outputs": [],
   "source": [
    "probs_calib = model.predict_proba(X_calib)"
   ]
  },
  {
   "cell_type": "code",
   "execution_count": 42,
   "id": "2ed93547-6d5d-4983-9b36-1ecb300da49a",
   "metadata": {
    "execution": {
     "iopub.execute_input": "2025-07-28T11:42:54.208308Z",
     "iopub.status.busy": "2025-07-28T11:42:54.207986Z",
     "iopub.status.idle": "2025-07-28T11:42:54.212351Z",
     "shell.execute_reply": "2025-07-28T11:42:54.211646Z"
    },
    "papermill": {
     "duration": 0.017081,
     "end_time": "2025-07-28T11:42:54.213565",
     "exception": false,
     "start_time": "2025-07-28T11:42:54.196484",
     "status": "completed"
    },
    "tags": []
   },
   "outputs": [],
   "source": [
    "y_calib = y_calib.values.ravel().astype(int)"
   ]
  },
  {
   "cell_type": "code",
   "execution_count": 43,
   "id": "65d1320d-f588-4b38-9072-62af1ae97f7d",
   "metadata": {
    "execution": {
     "iopub.execute_input": "2025-07-28T11:42:54.236512Z",
     "iopub.status.busy": "2025-07-28T11:42:54.236251Z",
     "iopub.status.idle": "2025-07-28T11:42:54.241567Z",
     "shell.execute_reply": "2025-07-28T11:42:54.240874Z"
    },
    "papermill": {
     "duration": 0.018038,
     "end_time": "2025-07-28T11:42:54.242873",
     "exception": false,
     "start_time": "2025-07-28T11:42:54.224835",
     "status": "completed"
    },
    "tags": []
   },
   "outputs": [],
   "source": [
    "from fairness_multiverse.conformal import compute_nc_scores\n",
    "\n",
    "# Compute nonconformity scores on calibration set (1 - probability of true class)\n",
    "nc_scores = compute_nc_scores(probs_calib, y_calib)"
   ]
  },
  {
   "cell_type": "code",
   "execution_count": 44,
   "id": "df3b8ca3-53b7-43d5-9667-7c85da7aeda2",
   "metadata": {
    "execution": {
     "iopub.execute_input": "2025-07-28T11:42:54.266049Z",
     "iopub.status.busy": "2025-07-28T11:42:54.265765Z",
     "iopub.status.idle": "2025-07-28T11:42:54.270572Z",
     "shell.execute_reply": "2025-07-28T11:42:54.269903Z"
    },
    "papermill": {
     "duration": 0.01764,
     "end_time": "2025-07-28T11:42:54.271792",
     "exception": false,
     "start_time": "2025-07-28T11:42:54.254152",
     "status": "completed"
    },
    "tags": []
   },
   "outputs": [],
   "source": [
    "from fairness_multiverse.conformal import find_threshold\n",
    "\n",
    "# Find conformal threshold q_hat for the given alpha (split conformal method)\n",
    "q_hat = find_threshold(nc_scores, alpha)"
   ]
  },
  {
   "cell_type": "code",
   "execution_count": 45,
   "id": "4d29e6c1-0ef6-4aa4-b8fe-4fe79b0d033a",
   "metadata": {
    "execution": {
     "iopub.execute_input": "2025-07-28T11:42:54.295360Z",
     "iopub.status.busy": "2025-07-28T11:42:54.295137Z",
     "iopub.status.idle": "2025-07-28T11:42:54.300508Z",
     "shell.execute_reply": "2025-07-28T11:42:54.299774Z"
    },
    "papermill": {
     "duration": 0.018521,
     "end_time": "2025-07-28T11:42:54.301734",
     "exception": false,
     "start_time": "2025-07-28T11:42:54.283213",
     "status": "completed"
    },
    "tags": []
   },
   "outputs": [
    {
     "data": {
      "text/plain": [
       "0.6438790622511903"
      ]
     },
     "execution_count": 45,
     "metadata": {},
     "output_type": "execute_result"
    }
   ],
   "source": [
    "q_hat"
   ]
  },
  {
   "cell_type": "code",
   "execution_count": 46,
   "id": "92460794-cdac-4be2-ba28-f28c0515a6fb",
   "metadata": {
    "execution": {
     "iopub.execute_input": "2025-07-28T11:42:54.325356Z",
     "iopub.status.busy": "2025-07-28T11:42:54.325101Z",
     "iopub.status.idle": "2025-07-28T11:42:54.809165Z",
     "shell.execute_reply": "2025-07-28T11:42:54.808476Z"
    },
    "papermill": {
     "duration": 0.497405,
     "end_time": "2025-07-28T11:42:54.810687",
     "exception": false,
     "start_time": "2025-07-28T11:42:54.313282",
     "status": "completed"
    },
    "tags": []
   },
   "outputs": [],
   "source": [
    "from fairness_multiverse.conformal import predict_conformal_sets\n",
    "\n",
    "# Generate prediction sets for each test example\n",
    "pred_sets = predict_conformal_sets(model, X_test, q_hat)"
   ]
  },
  {
   "cell_type": "code",
   "execution_count": 47,
   "id": "d90c9a65-e6db-4f5d-80cd-e68fb7e46829",
   "metadata": {
    "execution": {
     "iopub.execute_input": "2025-07-28T11:42:54.835281Z",
     "iopub.status.busy": "2025-07-28T11:42:54.835029Z",
     "iopub.status.idle": "2025-07-28T11:42:54.839354Z",
     "shell.execute_reply": "2025-07-28T11:42:54.838631Z"
    },
    "papermill": {
     "duration": 0.017812,
     "end_time": "2025-07-28T11:42:54.840637",
     "exception": false,
     "start_time": "2025-07-28T11:42:54.822825",
     "status": "completed"
    },
    "tags": []
   },
   "outputs": [],
   "source": [
    "y_true = y_true.squeeze()"
   ]
  },
  {
   "cell_type": "code",
   "execution_count": 48,
   "id": "3a58a54a-1e68-46b9-927a-df01f18aebc8",
   "metadata": {
    "execution": {
     "iopub.execute_input": "2025-07-28T11:42:54.864594Z",
     "iopub.status.busy": "2025-07-28T11:42:54.864331Z",
     "iopub.status.idle": "2025-07-28T11:42:55.356490Z",
     "shell.execute_reply": "2025-07-28T11:42:55.355828Z"
    },
    "papermill": {
     "duration": 0.505407,
     "end_time": "2025-07-28T11:42:55.357712",
     "exception": false,
     "start_time": "2025-07-28T11:42:54.852305",
     "status": "completed"
    },
    "tags": []
   },
   "outputs": [],
   "source": [
    "from fairness_multiverse.conformal import evaluate_sets\n",
    "\n",
    "# Evaluate coverage and average set size on test data\n",
    "metrics = evaluate_sets(pred_sets, y_true)"
   ]
  },
  {
   "cell_type": "markdown",
   "id": "2b569c12-9aaa-4c88-98c9-bbcd0cf3ebb8",
   "metadata": {
    "papermill": {
     "duration": 0.011111,
     "end_time": "2025-07-28T11:42:55.380113",
     "exception": false,
     "start_time": "2025-07-28T11:42:55.369002",
     "status": "completed"
    },
    "tags": []
   },
   "source": [
    "# CP Metrics"
   ]
  },
  {
   "cell_type": "code",
   "execution_count": 49,
   "id": "5ce0a5cb-201f-45a0-ade5-94c7f0bd6095",
   "metadata": {
    "execution": {
     "iopub.execute_input": "2025-07-28T11:42:55.403273Z",
     "iopub.status.busy": "2025-07-28T11:42:55.402981Z",
     "iopub.status.idle": "2025-07-28T11:42:55.408167Z",
     "shell.execute_reply": "2025-07-28T11:42:55.407480Z"
    },
    "papermill": {
     "duration": 0.018265,
     "end_time": "2025-07-28T11:42:55.409448",
     "exception": false,
     "start_time": "2025-07-28T11:42:55.391183",
     "status": "completed"
    },
    "tags": []
   },
   "outputs": [
    {
     "data": {
      "text/plain": [
       "{'coverage': 0.9142904915839929, 'avg_size': 1.232281796901126}"
      ]
     },
     "execution_count": 49,
     "metadata": {},
     "output_type": "execute_result"
    }
   ],
   "source": [
    "metrics"
   ]
  },
  {
   "cell_type": "code",
   "execution_count": 50,
   "id": "9b9a838d-31c9-430b-ae14-12baee460d17",
   "metadata": {
    "execution": {
     "iopub.execute_input": "2025-07-28T11:42:55.433343Z",
     "iopub.status.busy": "2025-07-28T11:42:55.433082Z",
     "iopub.status.idle": "2025-07-28T11:42:55.437597Z",
     "shell.execute_reply": "2025-07-28T11:42:55.436961Z"
    },
    "papermill": {
     "duration": 0.017706,
     "end_time": "2025-07-28T11:42:55.438729",
     "exception": false,
     "start_time": "2025-07-28T11:42:55.421023",
     "status": "completed"
    },
    "tags": []
   },
   "outputs": [],
   "source": [
    "example_universe = universe.copy()\n",
    "universe_training_size = example_universe.get(\"training_size\")\n",
    "universe_scale = example_universe.get(\"scale\")\n",
    "universe_model = example_universe.get(\"model\")\n",
    "universe_exclude_features = example_universe.get(\"exclude_features\")\n",
    "universe_exclude_subgroups = example_universe.get(\"exclude_subgroups\")"
   ]
  },
  {
   "cell_type": "code",
   "execution_count": 51,
   "id": "f4b6a8ac-9dc0-4245-8a91-5b3b5999c4f9",
   "metadata": {
    "execution": {
     "iopub.execute_input": "2025-07-28T11:42:55.462888Z",
     "iopub.status.busy": "2025-07-28T11:42:55.462646Z",
     "iopub.status.idle": "2025-07-28T11:42:55.467126Z",
     "shell.execute_reply": "2025-07-28T11:42:55.466457Z"
    },
    "papermill": {
     "duration": 0.017922,
     "end_time": "2025-07-28T11:42:55.468427",
     "exception": false,
     "start_time": "2025-07-28T11:42:55.450505",
     "status": "completed"
    },
    "tags": []
   },
   "outputs": [],
   "source": [
    "cp_metrics_dict = {\n",
    "    \"universe_id\": [universe_id],\n",
    "    \"universe_training_size\": [universe_training_size],\n",
    "    \"universe_scale\": [universe_scale],\n",
    "    \"universe_model\": [universe_model],\n",
    "    \"universe_exclude_features\": [universe_exclude_features],\n",
    "    \"universe_exclude_subgroups\": [universe_exclude_subgroups],\n",
    "    \"q_hat\": [q_hat],\n",
    "    \"coverage\": [metrics[\"coverage\"]],\n",
    "    \"avg_size\": [metrics[\"avg_size\"]],\n",
    "}"
   ]
  },
  {
   "cell_type": "code",
   "execution_count": 52,
   "id": "908acbb1-0371-4915-85ca-3fa520d2efe2",
   "metadata": {
    "execution": {
     "iopub.execute_input": "2025-07-28T11:42:55.492763Z",
     "iopub.status.busy": "2025-07-28T11:42:55.492534Z",
     "iopub.status.idle": "2025-07-28T11:42:55.497456Z",
     "shell.execute_reply": "2025-07-28T11:42:55.496816Z"
    },
    "papermill": {
     "duration": 0.018265,
     "end_time": "2025-07-28T11:42:55.498718",
     "exception": false,
     "start_time": "2025-07-28T11:42:55.480453",
     "status": "completed"
    },
    "tags": []
   },
   "outputs": [
    {
     "data": {
      "text/plain": [
       "{'universe_id': ['3e740bc0266ed0ad5fdf298037ac2605'],\n",
       " 'universe_training_size': ['2014'],\n",
       " 'universe_scale': ['do-not-scale'],\n",
       " 'universe_model': ['elasticnet'],\n",
       " 'universe_exclude_features': ['age'],\n",
       " 'universe_exclude_subgroups': ['keep-all'],\n",
       " 'q_hat': [0.6438790622511903],\n",
       " 'coverage': [0.9142904915839929],\n",
       " 'avg_size': [1.232281796901126]}"
      ]
     },
     "execution_count": 52,
     "metadata": {},
     "output_type": "execute_result"
    }
   ],
   "source": [
    "cp_metrics_dict"
   ]
  },
  {
   "cell_type": "code",
   "execution_count": 53,
   "id": "33007efc-14e9-4ec6-97ac-56a455c82265",
   "metadata": {
    "execution": {
     "iopub.execute_input": "2025-07-28T11:42:55.523471Z",
     "iopub.status.busy": "2025-07-28T11:42:55.523205Z",
     "iopub.status.idle": "2025-07-28T11:42:55.527570Z",
     "shell.execute_reply": "2025-07-28T11:42:55.526837Z"
    },
    "papermill": {
     "duration": 0.018108,
     "end_time": "2025-07-28T11:42:55.528801",
     "exception": false,
     "start_time": "2025-07-28T11:42:55.510693",
     "status": "completed"
    },
    "tags": []
   },
   "outputs": [],
   "source": [
    "cp_metrics_df = pd.DataFrame(cp_metrics_dict)"
   ]
  },
  {
   "cell_type": "code",
   "execution_count": 54,
   "id": "db12611b-57b2-4910-b9d0-355adfd6e7bf",
   "metadata": {
    "execution": {
     "iopub.execute_input": "2025-07-28T11:42:55.553058Z",
     "iopub.status.busy": "2025-07-28T11:42:55.552791Z",
     "iopub.status.idle": "2025-07-28T11:42:55.565098Z",
     "shell.execute_reply": "2025-07-28T11:42:55.564440Z"
    },
    "papermill": {
     "duration": 0.025977,
     "end_time": "2025-07-28T11:42:55.566372",
     "exception": false,
     "start_time": "2025-07-28T11:42:55.540395",
     "status": "completed"
    },
    "tags": []
   },
   "outputs": [
    {
     "data": {
      "text/html": [
       "<div>\n",
       "<style scoped>\n",
       "    .dataframe tbody tr th:only-of-type {\n",
       "        vertical-align: middle;\n",
       "    }\n",
       "\n",
       "    .dataframe tbody tr th {\n",
       "        vertical-align: top;\n",
       "    }\n",
       "\n",
       "    .dataframe thead th {\n",
       "        text-align: right;\n",
       "    }\n",
       "</style>\n",
       "<table border=\"1\" class=\"dataframe\">\n",
       "  <thead>\n",
       "    <tr style=\"text-align: right;\">\n",
       "      <th></th>\n",
       "      <th>universe_id</th>\n",
       "      <th>universe_training_size</th>\n",
       "      <th>universe_scale</th>\n",
       "      <th>universe_model</th>\n",
       "      <th>universe_exclude_features</th>\n",
       "      <th>universe_exclude_subgroups</th>\n",
       "      <th>q_hat</th>\n",
       "      <th>coverage</th>\n",
       "      <th>avg_size</th>\n",
       "    </tr>\n",
       "  </thead>\n",
       "  <tbody>\n",
       "    <tr>\n",
       "      <th>0</th>\n",
       "      <td>3e740bc0266ed0ad5fdf298037ac2605</td>\n",
       "      <td>2014</td>\n",
       "      <td>do-not-scale</td>\n",
       "      <td>elasticnet</td>\n",
       "      <td>age</td>\n",
       "      <td>keep-all</td>\n",
       "      <td>0.643879</td>\n",
       "      <td>0.91429</td>\n",
       "      <td>1.232282</td>\n",
       "    </tr>\n",
       "  </tbody>\n",
       "</table>\n",
       "</div>"
      ],
      "text/plain": [
       "                        universe_id universe_training_size universe_scale  \\\n",
       "0  3e740bc0266ed0ad5fdf298037ac2605                   2014   do-not-scale   \n",
       "\n",
       "  universe_model universe_exclude_features universe_exclude_subgroups  \\\n",
       "0     elasticnet                       age                   keep-all   \n",
       "\n",
       "      q_hat  coverage  avg_size  \n",
       "0  0.643879   0.91429  1.232282  "
      ]
     },
     "execution_count": 54,
     "metadata": {},
     "output_type": "execute_result"
    }
   ],
   "source": [
    "cp_metrics_df"
   ]
  },
  {
   "cell_type": "code",
   "execution_count": 55,
   "id": "b7fbde55-a0a1-47e4-9af6-fe4a17fa8c61",
   "metadata": {
    "execution": {
     "iopub.execute_input": "2025-07-28T11:42:55.590908Z",
     "iopub.status.busy": "2025-07-28T11:42:55.590651Z",
     "iopub.status.idle": "2025-07-28T11:42:55.594259Z",
     "shell.execute_reply": "2025-07-28T11:42:55.593621Z"
    },
    "papermill": {
     "duration": 0.017334,
     "end_time": "2025-07-28T11:42:55.595500",
     "exception": false,
     "start_time": "2025-07-28T11:42:55.578166",
     "status": "completed"
    },
    "tags": []
   },
   "outputs": [],
   "source": [
    "# Conditional Coverage & looking at subgroups"
   ]
  },
  {
   "cell_type": "code",
   "execution_count": 56,
   "id": "027ae886-68dd-4141-96c7-805a5450e1ef",
   "metadata": {
    "execution": {
     "iopub.execute_input": "2025-07-28T11:42:55.620403Z",
     "iopub.status.busy": "2025-07-28T11:42:55.620074Z",
     "iopub.status.idle": "2025-07-28T11:42:55.780295Z",
     "shell.execute_reply": "2025-07-28T11:42:55.779550Z"
    },
    "papermill": {
     "duration": 0.174016,
     "end_time": "2025-07-28T11:42:55.781741",
     "exception": false,
     "start_time": "2025-07-28T11:42:55.607725",
     "status": "completed"
    },
    "tags": []
   },
   "outputs": [],
   "source": [
    "from fairness_multiverse.conformal import build_cp_groups\n",
    "\n",
    "cp_groups_df = build_cp_groups(pred_sets, y_true, X_test.index, org_test)\n",
    "#needs universe_id and setting"
   ]
  },
  {
   "cell_type": "code",
   "execution_count": 57,
   "id": "01d5802c-663a-4d1f-9d69-e036faaffbf7",
   "metadata": {
    "execution": {
     "iopub.execute_input": "2025-07-28T11:42:55.807228Z",
     "iopub.status.busy": "2025-07-28T11:42:55.806957Z",
     "iopub.status.idle": "2025-07-28T11:42:55.810846Z",
     "shell.execute_reply": "2025-07-28T11:42:55.810179Z"
    },
    "papermill": {
     "duration": 0.017785,
     "end_time": "2025-07-28T11:42:55.812111",
     "exception": false,
     "start_time": "2025-07-28T11:42:55.794326",
     "status": "completed"
    },
    "tags": []
   },
   "outputs": [],
   "source": [
    "#delete\n",
    "#cp_groups_df"
   ]
  },
  {
   "cell_type": "code",
   "execution_count": 58,
   "id": "fa424af1-d1eb-443d-b717-2d279ada8408",
   "metadata": {
    "execution": {
     "iopub.execute_input": "2025-07-28T11:42:55.837302Z",
     "iopub.status.busy": "2025-07-28T11:42:55.837015Z",
     "iopub.status.idle": "2025-07-28T11:42:55.840647Z",
     "shell.execute_reply": "2025-07-28T11:42:55.839900Z"
    },
    "papermill": {
     "duration": 0.017485,
     "end_time": "2025-07-28T11:42:55.841892",
     "exception": false,
     "start_time": "2025-07-28T11:42:55.824407",
     "status": "completed"
    },
    "tags": []
   },
   "outputs": [],
   "source": [
    "#delete\n",
    "#percentage = (cp_groups_df['nongerman_female'] == 1).mean() * 100\n",
    "#print(percentage)\n"
   ]
  },
  {
   "cell_type": "code",
   "execution_count": 59,
   "id": "6cbdab96-b2b2-45af-ad54-d0516db2e28d",
   "metadata": {
    "execution": {
     "iopub.execute_input": "2025-07-28T11:42:55.866950Z",
     "iopub.status.busy": "2025-07-28T11:42:55.866683Z",
     "iopub.status.idle": "2025-07-28T11:42:56.742522Z",
     "shell.execute_reply": "2025-07-28T11:42:56.741838Z"
    },
    "papermill": {
     "duration": 0.889829,
     "end_time": "2025-07-28T11:42:56.743813",
     "exception": false,
     "start_time": "2025-07-28T11:42:55.853984",
     "status": "completed"
    },
    "tags": []
   },
   "outputs": [],
   "source": [
    "# Define covered = 1 if true_label is in the predicted set\n",
    "cp_groups_df['covered'] = cp_groups_df.apply(\n",
    "    lambda r: int(r['true_label'] in r['pred_set']),\n",
    "    axis=1\n",
    ")"
   ]
  },
  {
   "cell_type": "code",
   "execution_count": 60,
   "id": "338ff529-1a6b-4b87-a931-8e4788d52aad",
   "metadata": {
    "execution": {
     "iopub.execute_input": "2025-07-28T11:42:56.769929Z",
     "iopub.status.busy": "2025-07-28T11:42:56.769677Z",
     "iopub.status.idle": "2025-07-28T11:42:56.773228Z",
     "shell.execute_reply": "2025-07-28T11:42:56.772586Z"
    },
    "papermill": {
     "duration": 0.017633,
     "end_time": "2025-07-28T11:42:56.774551",
     "exception": false,
     "start_time": "2025-07-28T11:42:56.756918",
     "status": "completed"
    },
    "tags": []
   },
   "outputs": [],
   "source": [
    "#cp_groups_df"
   ]
  },
  {
   "cell_type": "code",
   "execution_count": 61,
   "id": "90032e27-66df-4540-9169-4e89cfbaa758",
   "metadata": {
    "execution": {
     "iopub.execute_input": "2025-07-28T11:42:56.799801Z",
     "iopub.status.busy": "2025-07-28T11:42:56.799542Z",
     "iopub.status.idle": "2025-07-28T11:42:56.807660Z",
     "shell.execute_reply": "2025-07-28T11:42:56.807061Z"
    },
    "papermill": {
     "duration": 0.02211,
     "end_time": "2025-07-28T11:42:56.808963",
     "exception": false,
     "start_time": "2025-07-28T11:42:56.786853",
     "status": "completed"
    },
    "tags": []
   },
   "outputs": [],
   "source": [
    "subgroups = ['frau1','nongerman','nongerman_male','nongerman_female']\n",
    "\n",
    "# Conditional coverage for subgroup==1\n",
    "cond_coverage = {\n",
    "    g: cp_groups_df.loc[cp_groups_df[g]==1, 'covered'].mean()\n",
    "    for g in subgroups\n",
    "}"
   ]
  },
  {
   "cell_type": "code",
   "execution_count": 62,
   "id": "1e348fb1-b9c3-45bc-ba23-f016827a7e0d",
   "metadata": {
    "execution": {
     "iopub.execute_input": "2025-07-28T11:42:56.833946Z",
     "iopub.status.busy": "2025-07-28T11:42:56.833733Z",
     "iopub.status.idle": "2025-07-28T11:42:56.838629Z",
     "shell.execute_reply": "2025-07-28T11:42:56.837933Z"
    },
    "papermill": {
     "duration": 0.018663,
     "end_time": "2025-07-28T11:42:56.839850",
     "exception": false,
     "start_time": "2025-07-28T11:42:56.821187",
     "status": "completed"
    },
    "tags": []
   },
   "outputs": [
    {
     "data": {
      "text/plain": [
       "{'frau1': 0.9134923844183852,\n",
       " 'nongerman': 0.9601414697131309,\n",
       " 'nongerman_male': 0.9672160677294425,\n",
       " 'nongerman_female': 0.9484351713859911}"
      ]
     },
     "execution_count": 62,
     "metadata": {},
     "output_type": "execute_result"
    }
   ],
   "source": [
    "cond_coverage"
   ]
  },
  {
   "cell_type": "code",
   "execution_count": 63,
   "id": "f5093324-c3dd-4d63-bc4c-8d945e5c8bbb",
   "metadata": {
    "execution": {
     "iopub.execute_input": "2025-07-28T11:42:56.865338Z",
     "iopub.status.busy": "2025-07-28T11:42:56.865072Z",
     "iopub.status.idle": "2025-07-28T11:42:56.870268Z",
     "shell.execute_reply": "2025-07-28T11:42:56.869562Z"
    },
    "papermill": {
     "duration": 0.019038,
     "end_time": "2025-07-28T11:42:56.871441",
     "exception": false,
     "start_time": "2025-07-28T11:42:56.852403",
     "status": "completed"
    },
    "tags": []
   },
   "outputs": [],
   "source": [
    "for subgroup, cov in cond_coverage.items():\n",
    "    cp_metrics_df[f\"cov_{subgroup}\"] = cov"
   ]
  },
  {
   "cell_type": "code",
   "execution_count": 64,
   "id": "6e872e10-dbe5-49e8-b554-5030c98ff75d",
   "metadata": {
    "execution": {
     "iopub.execute_input": "2025-07-28T11:42:56.896731Z",
     "iopub.status.busy": "2025-07-28T11:42:56.896462Z",
     "iopub.status.idle": "2025-07-28T11:42:56.909117Z",
     "shell.execute_reply": "2025-07-28T11:42:56.908399Z"
    },
    "papermill": {
     "duration": 0.026574,
     "end_time": "2025-07-28T11:42:56.910385",
     "exception": false,
     "start_time": "2025-07-28T11:42:56.883811",
     "status": "completed"
    },
    "tags": []
   },
   "outputs": [
    {
     "data": {
      "text/html": [
       "<div>\n",
       "<style scoped>\n",
       "    .dataframe tbody tr th:only-of-type {\n",
       "        vertical-align: middle;\n",
       "    }\n",
       "\n",
       "    .dataframe tbody tr th {\n",
       "        vertical-align: top;\n",
       "    }\n",
       "\n",
       "    .dataframe thead th {\n",
       "        text-align: right;\n",
       "    }\n",
       "</style>\n",
       "<table border=\"1\" class=\"dataframe\">\n",
       "  <thead>\n",
       "    <tr style=\"text-align: right;\">\n",
       "      <th></th>\n",
       "      <th>universe_id</th>\n",
       "      <th>universe_training_size</th>\n",
       "      <th>universe_scale</th>\n",
       "      <th>universe_model</th>\n",
       "      <th>universe_exclude_features</th>\n",
       "      <th>universe_exclude_subgroups</th>\n",
       "      <th>q_hat</th>\n",
       "      <th>coverage</th>\n",
       "      <th>avg_size</th>\n",
       "      <th>cov_frau1</th>\n",
       "      <th>cov_nongerman</th>\n",
       "      <th>cov_nongerman_male</th>\n",
       "      <th>cov_nongerman_female</th>\n",
       "    </tr>\n",
       "  </thead>\n",
       "  <tbody>\n",
       "    <tr>\n",
       "      <th>0</th>\n",
       "      <td>3e740bc0266ed0ad5fdf298037ac2605</td>\n",
       "      <td>2014</td>\n",
       "      <td>do-not-scale</td>\n",
       "      <td>elasticnet</td>\n",
       "      <td>age</td>\n",
       "      <td>keep-all</td>\n",
       "      <td>0.643879</td>\n",
       "      <td>0.91429</td>\n",
       "      <td>1.232282</td>\n",
       "      <td>0.913492</td>\n",
       "      <td>0.960141</td>\n",
       "      <td>0.967216</td>\n",
       "      <td>0.948435</td>\n",
       "    </tr>\n",
       "  </tbody>\n",
       "</table>\n",
       "</div>"
      ],
      "text/plain": [
       "                        universe_id universe_training_size universe_scale  \\\n",
       "0  3e740bc0266ed0ad5fdf298037ac2605                   2014   do-not-scale   \n",
       "\n",
       "  universe_model universe_exclude_features universe_exclude_subgroups  \\\n",
       "0     elasticnet                       age                   keep-all   \n",
       "\n",
       "      q_hat  coverage  avg_size  cov_frau1  cov_nongerman  cov_nongerman_male  \\\n",
       "0  0.643879   0.91429  1.232282   0.913492       0.960141            0.967216   \n",
       "\n",
       "   cov_nongerman_female  \n",
       "0              0.948435  "
      ]
     },
     "execution_count": 64,
     "metadata": {},
     "output_type": "execute_result"
    }
   ],
   "source": [
    "cp_metrics_df"
   ]
  },
  {
   "cell_type": "markdown",
   "id": "33774451",
   "metadata": {
    "papermill": {
     "duration": 0.012235,
     "end_time": "2025-07-28T11:42:56.935203",
     "exception": false,
     "start_time": "2025-07-28T11:42:56.922968",
     "status": "completed"
    },
    "tags": []
   },
   "source": [
    "# (Fairness) Metrics"
   ]
  },
  {
   "cell_type": "code",
   "execution_count": 65,
   "id": "debc5d62",
   "metadata": {
    "execution": {
     "iopub.execute_input": "2025-07-28T11:42:56.960728Z",
     "iopub.status.busy": "2025-07-28T11:42:56.960437Z",
     "iopub.status.idle": "2025-07-28T11:42:56.972647Z",
     "shell.execute_reply": "2025-07-28T11:42:56.971916Z"
    },
    "papermill": {
     "duration": 0.026353,
     "end_time": "2025-07-28T11:42:56.973838",
     "exception": false,
     "start_time": "2025-07-28T11:42:56.947485",
     "status": "completed"
    },
    "tags": []
   },
   "outputs": [],
   "source": [
    "# do I need to include maxdeutsch1.missing?\n",
    "\n",
    "import numpy as np\n",
    "\n",
    "colname_to_bin = \"maxdeutsch1\"\n",
    "majority_value = org_train[colname_to_bin].mode()[0]\n",
    "\n",
    "org_test[\"majmin\"] = np.where(org_test[colname_to_bin] == majority_value, \"majority\", \"minority\")"
   ]
  },
  {
   "cell_type": "code",
   "execution_count": 66,
   "id": "06a50de5",
   "metadata": {
    "execution": {
     "iopub.execute_input": "2025-07-28T11:42:56.999421Z",
     "iopub.status.busy": "2025-07-28T11:42:56.999158Z",
     "iopub.status.idle": "2025-07-28T11:42:58.372130Z",
     "shell.execute_reply": "2025-07-28T11:42:58.371393Z"
    },
    "papermill": {
     "duration": 1.387368,
     "end_time": "2025-07-28T11:42:58.373551",
     "exception": false,
     "start_time": "2025-07-28T11:42:56.986183",
     "status": "completed"
    },
    "tags": []
   },
   "outputs": [],
   "source": [
    "example_universe = universe.copy()\n",
    "example_universe[\"cutoff\"] = example_universe[\"cutoff\"][0]\n",
    "example_universe[\"eval_fairness_grouping\"] = example_universe[\"eval_fairness_grouping\"][0]\n",
    "fairness_dict, metric_frame = universe_analysis.compute_metrics(\n",
    "    example_universe,\n",
    "    y_pred_prob=probs_test,\n",
    "    y_test=y_true,\n",
    "    org_test=org_test,\n",
    ")"
   ]
  },
  {
   "cell_type": "markdown",
   "id": "f95d4e02",
   "metadata": {
    "papermill": {
     "duration": 0.012455,
     "end_time": "2025-07-28T11:42:58.398959",
     "exception": false,
     "start_time": "2025-07-28T11:42:58.386504",
     "status": "completed"
    },
    "tags": []
   },
   "source": [
    "# Overall"
   ]
  },
  {
   "cell_type": "markdown",
   "id": "bdee4871",
   "metadata": {
    "papermill": {
     "duration": 0.012059,
     "end_time": "2025-07-28T11:42:58.423424",
     "exception": false,
     "start_time": "2025-07-28T11:42:58.411365",
     "status": "completed"
    },
    "tags": []
   },
   "source": [
    "Fairness\n",
    "Main fairness target: Equalized Odds. Seems to be a better fit than equal opportunity, since we're not only interested in Y = 1. Seems to be a better fit than demographic parity, since we also care about accuracy, not just equal distribution of preds.\n",
    "\n",
    "Pick column for computation of fairness metrics\n",
    "\n",
    "Performance\n",
    "Overall performance measures, most interesting in relation to the measures split by group below"
   ]
  },
  {
   "cell_type": "code",
   "execution_count": 67,
   "id": "c4e067c6",
   "metadata": {
    "execution": {
     "iopub.execute_input": "2025-07-28T11:42:58.449182Z",
     "iopub.status.busy": "2025-07-28T11:42:58.448931Z",
     "iopub.status.idle": "2025-07-28T11:42:58.455136Z",
     "shell.execute_reply": "2025-07-28T11:42:58.454476Z"
    },
    "papermill": {
     "duration": 0.020742,
     "end_time": "2025-07-28T11:42:58.456463",
     "exception": false,
     "start_time": "2025-07-28T11:42:58.435721",
     "status": "completed"
    },
    "tags": []
   },
   "outputs": [
    {
     "data": {
      "text/plain": [
       "accuracy                   0.221101\n",
       "balanced accuracy          0.541309\n",
       "f1                         0.242523\n",
       "precision                  0.138545\n",
       "false positive rate        0.889402\n",
       "false negative rate        0.027981\n",
       "selection rate             0.900000\n",
       "count                  89710.000000\n",
       "dtype: float64"
      ]
     },
     "execution_count": 67,
     "metadata": {},
     "output_type": "execute_result"
    }
   ],
   "source": [
    "metric_frame.overall"
   ]
  },
  {
   "cell_type": "markdown",
   "id": "e968fe9d",
   "metadata": {
    "papermill": {
     "duration": 0.012569,
     "end_time": "2025-07-28T11:42:58.482201",
     "exception": false,
     "start_time": "2025-07-28T11:42:58.469632",
     "status": "completed"
    },
    "tags": []
   },
   "source": [
    "By Group"
   ]
  },
  {
   "cell_type": "code",
   "execution_count": 68,
   "id": "ec325bce",
   "metadata": {
    "execution": {
     "iopub.execute_input": "2025-07-28T11:42:58.508361Z",
     "iopub.status.busy": "2025-07-28T11:42:58.508015Z",
     "iopub.status.idle": "2025-07-28T11:42:58.519549Z",
     "shell.execute_reply": "2025-07-28T11:42:58.518857Z"
    },
    "papermill": {
     "duration": 0.026237,
     "end_time": "2025-07-28T11:42:58.520848",
     "exception": false,
     "start_time": "2025-07-28T11:42:58.494611",
     "status": "completed"
    },
    "tags": []
   },
   "outputs": [
    {
     "data": {
      "text/html": [
       "<div>\n",
       "<style scoped>\n",
       "    .dataframe tbody tr th:only-of-type {\n",
       "        vertical-align: middle;\n",
       "    }\n",
       "\n",
       "    .dataframe tbody tr th {\n",
       "        vertical-align: top;\n",
       "    }\n",
       "\n",
       "    .dataframe thead th {\n",
       "        text-align: right;\n",
       "    }\n",
       "</style>\n",
       "<table border=\"1\" class=\"dataframe\">\n",
       "  <thead>\n",
       "    <tr style=\"text-align: right;\">\n",
       "      <th></th>\n",
       "      <th>accuracy</th>\n",
       "      <th>balanced accuracy</th>\n",
       "      <th>f1</th>\n",
       "      <th>precision</th>\n",
       "      <th>false positive rate</th>\n",
       "      <th>false negative rate</th>\n",
       "      <th>selection rate</th>\n",
       "      <th>count</th>\n",
       "    </tr>\n",
       "    <tr>\n",
       "      <th>majmin</th>\n",
       "      <th></th>\n",
       "      <th></th>\n",
       "      <th></th>\n",
       "      <th></th>\n",
       "      <th></th>\n",
       "      <th></th>\n",
       "      <th></th>\n",
       "      <th></th>\n",
       "    </tr>\n",
       "  </thead>\n",
       "  <tbody>\n",
       "    <tr>\n",
       "      <th>majority</th>\n",
       "      <td>0.245482</td>\n",
       "      <td>0.551481</td>\n",
       "      <td>0.253084</td>\n",
       "      <td>0.145586</td>\n",
       "      <td>0.864434</td>\n",
       "      <td>0.032604</td>\n",
       "      <td>0.878040</td>\n",
       "      <td>69170.0</td>\n",
       "    </tr>\n",
       "    <tr>\n",
       "      <th>minority</th>\n",
       "      <td>0.138997</td>\n",
       "      <td>0.508993</td>\n",
       "      <td>0.209538</td>\n",
       "      <td>0.117171</td>\n",
       "      <td>0.971880</td>\n",
       "      <td>0.010135</td>\n",
       "      <td>0.973953</td>\n",
       "      <td>20540.0</td>\n",
       "    </tr>\n",
       "  </tbody>\n",
       "</table>\n",
       "</div>"
      ],
      "text/plain": [
       "          accuracy  balanced accuracy        f1  precision  \\\n",
       "majmin                                                       \n",
       "majority  0.245482           0.551481  0.253084   0.145586   \n",
       "minority  0.138997           0.508993  0.209538   0.117171   \n",
       "\n",
       "          false positive rate  false negative rate  selection rate    count  \n",
       "majmin                                                                       \n",
       "majority             0.864434             0.032604        0.878040  69170.0  \n",
       "minority             0.971880             0.010135        0.973953  20540.0  "
      ]
     },
     "execution_count": 68,
     "metadata": {},
     "output_type": "execute_result"
    }
   ],
   "source": [
    "metric_frame.by_group"
   ]
  },
  {
   "cell_type": "code",
   "execution_count": 69,
   "id": "a9ddbe63",
   "metadata": {
    "execution": {
     "iopub.execute_input": "2025-07-28T11:42:58.547887Z",
     "iopub.status.busy": "2025-07-28T11:42:58.547618Z",
     "iopub.status.idle": "2025-07-28T11:43:00.096512Z",
     "shell.execute_reply": "2025-07-28T11:43:00.095711Z"
    },
    "papermill": {
     "duration": 1.563518,
     "end_time": "2025-07-28T11:43:00.097746",
     "exception": false,
     "start_time": "2025-07-28T11:42:58.534228",
     "status": "completed"
    },
    "tags": []
   },
   "outputs": [
    {
     "data": {
      "text/plain": [
       "array([[<Axes: title={'center': 'accuracy'}, xlabel='majmin'>,\n",
       "        <Axes: title={'center': 'balanced accuracy'}, xlabel='majmin'>,\n",
       "        <Axes: title={'center': 'f1'}, xlabel='majmin'>],\n",
       "       [<Axes: title={'center': 'precision'}, xlabel='majmin'>,\n",
       "        <Axes: title={'center': 'false positive rate'}, xlabel='majmin'>,\n",
       "        <Axes: title={'center': 'false negative rate'}, xlabel='majmin'>],\n",
       "       [<Axes: title={'center': 'selection rate'}, xlabel='majmin'>,\n",
       "        <Axes: title={'center': 'count'}, xlabel='majmin'>,\n",
       "        <Axes: xlabel='majmin'>]], dtype=object)"
      ]
     },
     "execution_count": 69,
     "metadata": {},
     "output_type": "execute_result"
    },
    {
     "data": {
      "image/png": "[encoded data removed]",
      "text/plain": [
       "<Figure size 1200x800 with 9 Axes>"
      ]
     },
     "metadata": {},
     "output_type": "display_data"
    }
   ],
   "source": [
    "# In a graphic\n",
    "metric_frame.by_group.plot.bar(\n",
    "    subplots=True,\n",
    "    layout=[3, 3],\n",
    "    legend=False,\n",
    "    figsize=[12, 8],\n",
    "    title=\"Show all metrics\",\n",
    ")"
   ]
  },
  {
   "cell_type": "markdown",
   "id": "f57a0bac",
   "metadata": {
    "papermill": {
     "duration": 0.013398,
     "end_time": "2025-07-28T11:43:00.127683",
     "exception": false,
     "start_time": "2025-07-28T11:43:00.114285",
     "status": "completed"
    },
    "tags": []
   },
   "source": [
    "# Final Output"
   ]
  },
  {
   "cell_type": "code",
   "execution_count": 70,
   "id": "96d280a3",
   "metadata": {
    "execution": {
     "iopub.execute_input": "2025-07-28T11:43:00.155459Z",
     "iopub.status.busy": "2025-07-28T11:43:00.155120Z",
     "iopub.status.idle": "2025-07-28T11:43:00.160997Z",
     "shell.execute_reply": "2025-07-28T11:43:00.160255Z"
    },
    "papermill": {
     "duration": 0.021332,
     "end_time": "2025-07-28T11:43:00.162214",
     "exception": false,
     "start_time": "2025-07-28T11:43:00.140882",
     "status": "completed"
    },
    "tags": []
   },
   "outputs": [
    {
     "data": {
      "text/plain": [
       "4"
      ]
     },
     "execution_count": 70,
     "metadata": {},
     "output_type": "execute_result"
    }
   ],
   "source": [
    "sub_universes = universe_analysis.generate_sub_universes()\n",
    "len(sub_universes)"
   ]
  },
  {
   "cell_type": "code",
   "execution_count": 71,
   "id": "92adf7ba",
   "metadata": {
    "execution": {
     "iopub.execute_input": "2025-07-28T11:43:00.190777Z",
     "iopub.status.busy": "2025-07-28T11:43:00.190516Z",
     "iopub.status.idle": "2025-07-28T11:43:00.195149Z",
     "shell.execute_reply": "2025-07-28T11:43:00.194466Z"
    },
    "papermill": {
     "duration": 0.020196,
     "end_time": "2025-07-28T11:43:00.196458",
     "exception": false,
     "start_time": "2025-07-28T11:43:00.176262",
     "status": "completed"
    },
    "tags": []
   },
   "outputs": [],
   "source": [
    "def filter_sub_universe_data(sub_universe, org_test):\n",
    "    # Keep all rows — no filtering\n",
    "    keep_rows_mask = np.ones(org_test.shape[0], dtype=bool)\n",
    "\n",
    "    print(f\"[INFO] Keeping all rows: {keep_rows_mask.sum()} rows retained.\")\n",
    "    return keep_rows_mask"
   ]
  },
  {
   "cell_type": "code",
   "execution_count": 72,
   "id": "4a759155",
   "metadata": {
    "execution": {
     "iopub.execute_input": "2025-07-28T11:43:00.225069Z",
     "iopub.status.busy": "2025-07-28T11:43:00.224827Z",
     "iopub.status.idle": "2025-07-28T11:43:05.585502Z",
     "shell.execute_reply": "2025-07-28T11:43:05.584788Z"
    },
    "papermill": {
     "duration": 5.376265,
     "end_time": "2025-07-28T11:43:05.586705",
     "exception": false,
     "start_time": "2025-07-28T11:43:00.210440",
     "status": "completed"
    },
    "tags": []
   },
   "outputs": [
    {
     "name": "stdout",
     "output_type": "stream",
     "text": [
      "Stopping execution_time clock.\n",
      "[INFO] Keeping all rows: 89710 rows retained.\n"
     ]
    },
    {
     "name": "stdout",
     "output_type": "stream",
     "text": [
      "[INFO] Keeping all rows: 89710 rows retained.\n"
     ]
    },
    {
     "name": "stdout",
     "output_type": "stream",
     "text": [
      "[INFO] Keeping all rows: 89710 rows retained.\n"
     ]
    },
    {
     "name": "stdout",
     "output_type": "stream",
     "text": [
      "[INFO] Keeping all rows: 89710 rows retained.\n"
     ]
    },
    {
     "data": {
      "text/html": [
       "<div>\n",
       "<style scoped>\n",
       "    .dataframe tbody tr th:only-of-type {\n",
       "        vertical-align: middle;\n",
       "    }\n",
       "\n",
       "    .dataframe tbody tr th {\n",
       "        vertical-align: top;\n",
       "    }\n",
       "\n",
       "    .dataframe thead th {\n",
       "        text-align: right;\n",
       "    }\n",
       "</style>\n",
       "<table border=\"1\" class=\"dataframe\">\n",
       "  <thead>\n",
       "    <tr style=\"text-align: right;\">\n",
       "      <th></th>\n",
       "      <th>run_no</th>\n",
       "      <th>universe_id</th>\n",
       "      <th>universe_settings</th>\n",
       "      <th>execution_time</th>\n",
       "      <th>test_size_n</th>\n",
       "      <th>test_size_frac</th>\n",
       "      <th>fair_main_equalized_odds_difference</th>\n",
       "      <th>fair_main_equalized_odds_ratio</th>\n",
       "      <th>fair_main_demographic_parity_difference</th>\n",
       "      <th>fair_main_demographic_parity_ratio</th>\n",
       "      <th>...</th>\n",
       "      <th>perf_grp_precision_0</th>\n",
       "      <th>perf_grp_precision_1</th>\n",
       "      <th>perf_grp_false positive rate_0</th>\n",
       "      <th>perf_grp_false positive rate_1</th>\n",
       "      <th>perf_grp_false negative rate_0</th>\n",
       "      <th>perf_grp_false negative rate_1</th>\n",
       "      <th>perf_grp_selection rate_0</th>\n",
       "      <th>perf_grp_selection rate_1</th>\n",
       "      <th>perf_grp_count_0</th>\n",
       "      <th>perf_grp_count_1</th>\n",
       "    </tr>\n",
       "  </thead>\n",
       "  <tbody>\n",
       "    <tr>\n",
       "      <th>0</th>\n",
       "      <td>11</td>\n",
       "      <td>3e740bc0266ed0ad5fdf298037ac2605</td>\n",
       "      <td>{\"cutoff\": \"quantile_0.1\", \"eval_fairness_grou...</td>\n",
       "      <td>1305.753967</td>\n",
       "      <td>89710</td>\n",
       "      <td>1.0</td>\n",
       "      <td>0.107445</td>\n",
       "      <td>0.889446</td>\n",
       "      <td>0.095914</td>\n",
       "      <td>0.901521</td>\n",
       "      <td>...</td>\n",
       "      <td>NaN</td>\n",
       "      <td>NaN</td>\n",
       "      <td>NaN</td>\n",
       "      <td>NaN</td>\n",
       "      <td>NaN</td>\n",
       "      <td>NaN</td>\n",
       "      <td>NaN</td>\n",
       "      <td>NaN</td>\n",
       "      <td>NaN</td>\n",
       "      <td>NaN</td>\n",
       "    </tr>\n",
       "    <tr>\n",
       "      <th>0</th>\n",
       "      <td>11</td>\n",
       "      <td>3e740bc0266ed0ad5fdf298037ac2605</td>\n",
       "      <td>{\"cutoff\": \"quantile_0.1\", \"eval_fairness_grou...</td>\n",
       "      <td>1305.753967</td>\n",
       "      <td>89710</td>\n",
       "      <td>1.0</td>\n",
       "      <td>0.107445</td>\n",
       "      <td>0.889446</td>\n",
       "      <td>0.095914</td>\n",
       "      <td>0.901521</td>\n",
       "      <td>...</td>\n",
       "      <td>0.117171</td>\n",
       "      <td>0.145586</td>\n",
       "      <td>0.971880</td>\n",
       "      <td>0.864434</td>\n",
       "      <td>0.010135</td>\n",
       "      <td>0.032604</td>\n",
       "      <td>0.973953</td>\n",
       "      <td>0.878040</td>\n",
       "      <td>20540.0</td>\n",
       "      <td>69170.0</td>\n",
       "    </tr>\n",
       "    <tr>\n",
       "      <th>0</th>\n",
       "      <td>11</td>\n",
       "      <td>3e740bc0266ed0ad5fdf298037ac2605</td>\n",
       "      <td>{\"cutoff\": \"quantile_0.25\", \"eval_fairness_gro...</td>\n",
       "      <td>1305.753967</td>\n",
       "      <td>89710</td>\n",
       "      <td>1.0</td>\n",
       "      <td>0.249993</td>\n",
       "      <td>0.728118</td>\n",
       "      <td>0.226752</td>\n",
       "      <td>0.754817</td>\n",
       "      <td>...</td>\n",
       "      <td>NaN</td>\n",
       "      <td>NaN</td>\n",
       "      <td>NaN</td>\n",
       "      <td>NaN</td>\n",
       "      <td>NaN</td>\n",
       "      <td>NaN</td>\n",
       "      <td>NaN</td>\n",
       "      <td>NaN</td>\n",
       "      <td>NaN</td>\n",
       "      <td>NaN</td>\n",
       "    </tr>\n",
       "    <tr>\n",
       "      <th>0</th>\n",
       "      <td>11</td>\n",
       "      <td>3e740bc0266ed0ad5fdf298037ac2605</td>\n",
       "      <td>{\"cutoff\": \"quantile_0.25\", \"eval_fairness_gro...</td>\n",
       "      <td>1305.753967</td>\n",
       "      <td>89710</td>\n",
       "      <td>1.0</td>\n",
       "      <td>0.249993</td>\n",
       "      <td>0.728118</td>\n",
       "      <td>0.226752</td>\n",
       "      <td>0.754817</td>\n",
       "      <td>...</td>\n",
       "      <td>0.120394</td>\n",
       "      <td>0.167668</td>\n",
       "      <td>0.919492</td>\n",
       "      <td>0.669499</td>\n",
       "      <td>0.034206</td>\n",
       "      <td>0.114223</td>\n",
       "      <td>0.924830</td>\n",
       "      <td>0.698077</td>\n",
       "      <td>20540.0</td>\n",
       "      <td>69170.0</td>\n",
       "    </tr>\n",
       "  </tbody>\n",
       "</table>\n",
       "<p>4 rows × 50 columns</p>\n",
       "</div>"
      ],
      "text/plain": [
       "  run_no                       universe_id  \\\n",
       "0     11  3e740bc0266ed0ad5fdf298037ac2605   \n",
       "0     11  3e740bc0266ed0ad5fdf298037ac2605   \n",
       "0     11  3e740bc0266ed0ad5fdf298037ac2605   \n",
       "0     11  3e740bc0266ed0ad5fdf298037ac2605   \n",
       "\n",
       "                                   universe_settings  execution_time  \\\n",
       "0  {\"cutoff\": \"quantile_0.1\", \"eval_fairness_grou...     1305.753967   \n",
       "0  {\"cutoff\": \"quantile_0.1\", \"eval_fairness_grou...     1305.753967   \n",
       "0  {\"cutoff\": \"quantile_0.25\", \"eval_fairness_gro...     1305.753967   \n",
       "0  {\"cutoff\": \"quantile_0.25\", \"eval_fairness_gro...     1305.753967   \n",
       "\n",
       "   test_size_n  test_size_frac  fair_main_equalized_odds_difference  \\\n",
       "0        89710             1.0                             0.107445   \n",
       "0        89710             1.0                             0.107445   \n",
       "0        89710             1.0                             0.249993   \n",
       "0        89710             1.0                             0.249993   \n",
       "\n",
       "   fair_main_equalized_odds_ratio  fair_main_demographic_parity_difference  \\\n",
       "0                        0.889446                                 0.095914   \n",
       "0                        0.889446                                 0.095914   \n",
       "0                        0.728118                                 0.226752   \n",
       "0                        0.728118                                 0.226752   \n",
       "\n",
       "   fair_main_demographic_parity_ratio  ...  perf_grp_precision_0  \\\n",
       "0                            0.901521  ...                   NaN   \n",
       "0                            0.901521  ...              0.117171   \n",
       "0                            0.754817  ...                   NaN   \n",
       "0                            0.754817  ...              0.120394   \n",
       "\n",
       "   perf_grp_precision_1  perf_grp_false positive rate_0  \\\n",
       "0                   NaN                             NaN   \n",
       "0              0.145586                        0.971880   \n",
       "0                   NaN                             NaN   \n",
       "0              0.167668                        0.919492   \n",
       "\n",
       "   perf_grp_false positive rate_1  perf_grp_false negative rate_0  \\\n",
       "0                             NaN                             NaN   \n",
       "0                        0.864434                        0.010135   \n",
       "0                             NaN                             NaN   \n",
       "0                        0.669499                        0.034206   \n",
       "\n",
       "   perf_grp_false negative rate_1  perf_grp_selection rate_0  \\\n",
       "0                             NaN                        NaN   \n",
       "0                        0.032604                   0.973953   \n",
       "0                             NaN                        NaN   \n",
       "0                        0.114223                   0.924830   \n",
       "\n",
       "   perf_grp_selection rate_1  perf_grp_count_0  perf_grp_count_1  \n",
       "0                        NaN               NaN               NaN  \n",
       "0                   0.878040           20540.0           69170.0  \n",
       "0                        NaN               NaN               NaN  \n",
       "0                   0.698077           20540.0           69170.0  \n",
       "\n",
       "[4 rows x 50 columns]"
      ]
     },
     "execution_count": 72,
     "metadata": {},
     "output_type": "execute_result"
    }
   ],
   "source": [
    "final_output = universe_analysis.generate_final_output(\n",
    "    y_pred_prob=probs_test,\n",
    "    y_test=y_true,\n",
    "    org_test=org_test,\n",
    "    filter_data=filter_sub_universe_data,\n",
    "    cp_metrics_df=cp_metrics_df,\n",
    "    save=True,\n",
    ")\n",
    "final_output"
   ]
  },
  {
   "cell_type": "code",
   "execution_count": null,
   "id": "721ff514-cb11-46f8-b6fc-50392f74b5cb",
   "metadata": {
    "papermill": {
     "duration": 0.013923,
     "end_time": "2025-07-28T11:43:05.617780",
     "exception": false,
     "start_time": "2025-07-28T11:43:05.603857",
     "status": "completed"
    },
    "tags": []
   },
   "outputs": [],
   "source": []
  }
 ],
 "metadata": {
  "celltoolbar": "Tags",
  "kernelspec": {
   "display_name": "Python (CMA Fairness)",
   "language": "python",
   "name": "cma_fair_env"
  },
  "language_info": {
   "codemirror_mode": {
    "name": "ipython",
    "version": 3
   },
   "file_extension": ".py",
   "mimetype": "text/x-python",
   "name": "python",
   "nbconvert_exporter": "python",
   "pygments_lexer": "ipython3",
   "version": "3.10.12"
  },
  "papermill": {
   "default_parameters": {},
   "duration": 1315.245424,
   "end_time": "2025-07-28T11:43:06.149085",
   "environment_variables": {},
   "exception": null,
   "input_path": "universe_analysis.ipynb",
   "output_path": "output/runs/11/notebooks/m_11-3e740bc0266ed0ad5fdf298037ac2605.ipynb",
   "parameters": {
    "output_dir": "output",
    "run_no": "11",
    "seed": "2023",
    "universe": "{\"cutoff\": [\"quantile_0.1\", \"quantile_0.25\"], \"eval_fairness_grouping\": [\"majority-minority\", \"nationality-all\"], \"exclude_features\": \"age\", \"exclude_subgroups\": \"keep-all\", \"model\": \"elasticnet\", \"scale\": \"do-not-scale\", \"training_size\": \"2014\"}",
    "universe_id": "3e740bc0266ed0ad5fdf298037ac2605"
   },
   "start_time": "2025-07-28T11:21:10.903661",
   "version": "2.6.0"
  }
 },
 "nbformat": 4,
 "nbformat_minor": 5
}