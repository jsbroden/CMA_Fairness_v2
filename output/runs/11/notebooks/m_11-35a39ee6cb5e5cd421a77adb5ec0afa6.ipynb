{
 "cells": [
  {
   "cell_type": "code",
   "execution_count": 1,
   "id": "f159f837-637b-42ba-96b5-ec9a68c44524",
   "metadata": {
    "execution": {
     "iopub.execute_input": "2025-07-28T11:12:35.018002Z",
     "iopub.status.busy": "2025-07-28T11:12:35.017282Z",
     "iopub.status.idle": "2025-07-28T11:12:35.030653Z",
     "shell.execute_reply": "2025-07-28T11:12:35.029834Z"
    },
    "papermill": {
     "duration": 0.034403,
     "end_time": "2025-07-28T11:12:35.032180",
     "exception": false,
     "start_time": "2025-07-28T11:12:34.997777",
     "status": "completed"
    },
    "tags": []
   },
   "outputs": [
    {
     "name": "stdout",
     "output_type": "stream",
     "text": [
      "/dss/dsshome1/0C/ra93lal2/cma/CMA_Fairness_v2\n"
     ]
    },
    {
     "name": "stderr",
     "output_type": "stream",
     "text": [
      "/dss/dsshome1/0C/ra93lal2/.local/share/virtualenvs/CMA_Fairness_v2-3j10GkSs/lib/python3.10/site-packages/IPython/core/magics/osm.py:393: UserWarning: This is now an optional IPython functionality, using bookmarks requires you to install the `pickleshare` library.\n",
      "  bkms = self.shell.db.get('bookmarks', {})\n",
      "/dss/dsshome1/0C/ra93lal2/.local/share/virtualenvs/CMA_Fairness_v2-3j10GkSs/lib/python3.10/site-packages/IPython/core/magics/osm.py:417: UserWarning: This is now an optional IPython functionality, setting dhist requires you to install the `pickleshare` library.\n",
      "  self.shell.db['dhist'] = compress_dhist(dhist)[-100:]\n"
     ]
    }
   ],
   "source": [
    "%cd ~/cma/CMA_Fairness_v2"
   ]
  },
  {
   "cell_type": "markdown",
   "id": "de2603b9",
   "metadata": {
    "papermill": {
     "duration": 0.017346,
     "end_time": "2025-07-28T11:12:35.067852",
     "exception": false,
     "start_time": "2025-07-28T11:12:35.050506",
     "status": "completed"
    },
    "tags": []
   },
   "source": [
    "The following cell holds the definition of our parameters, these values can be overriden by rendering the with e.g. the following command:\n",
    "\n",
    "papermill -p alpha 0.2 -p ratio 0.3 universe_analysis.ipynb output/test_run.ipynb"
   ]
  },
  {
   "cell_type": "code",
   "execution_count": 2,
   "id": "a80968a0-40bb-4fa9-85ef-2d5eefb01975",
   "metadata": {
    "execution": {
     "iopub.execute_input": "2025-07-28T11:12:35.105458Z",
     "iopub.status.busy": "2025-07-28T11:12:35.104577Z",
     "iopub.status.idle": "2025-07-28T11:12:35.110462Z",
     "shell.execute_reply": "2025-07-28T11:12:35.109595Z"
    },
    "papermill": {
     "duration": 0.025618,
     "end_time": "2025-07-28T11:12:35.111996",
     "exception": false,
     "start_time": "2025-07-28T11:12:35.086378",
     "status": "completed"
    },
    "tags": []
   },
   "outputs": [
    {
     "name": "stdout",
     "output_type": "stream",
     "text": [
      "Current working directory: /dss/dsshome1/0C/ra93lal2/cma/CMA_Fairness_v2\n"
     ]
    }
   ],
   "source": [
    "import os\n",
    "print(\"Current working directory:\", os.getcwd())"
   ]
  },
  {
   "cell_type": "code",
   "execution_count": 3,
   "id": "2dce4c03",
   "metadata": {
    "execution": {
     "iopub.execute_input": "2025-07-28T11:12:35.149074Z",
     "iopub.status.busy": "2025-07-28T11:12:35.148303Z",
     "iopub.status.idle": "2025-07-28T11:12:35.154444Z",
     "shell.execute_reply": "2025-07-28T11:12:35.153573Z"
    },
    "papermill": {
     "duration": 0.026196,
     "end_time": "2025-07-28T11:12:35.155969",
     "exception": false,
     "start_time": "2025-07-28T11:12:35.129773",
     "status": "completed"
    },
    "tags": [
     "parameters"
    ]
   },
   "outputs": [],
   "source": [
    "run_no = 0\n",
    "universe_id = \"test\"\n",
    "universe = {\n",
    "    \"training_size\": \"2014\", # \"25k\", \"5k\", \"1k\", \"2014\"\n",
    "    \"scale\": \"scale\", # \"scale\", \"do-not-scale\",\n",
    "    #\"stratify_split\": \"target\", # \"none\", \"target\", \"protected-attribute\", \"both\",\n",
    "    \"model\": \"elasticnet\", # \"logreg\", \"penalized_logreg\", \"rf\", \"gbm\", \"elasticnet\"\n",
    "    \"cutoff\": [\"quantile_0.15\", \"quantile_0.30\"],\n",
    "    \"exclude_features\": \"age\", # \"none\", \"nationality\", \"sex\", \"nationality-sex\", \"age\"\n",
    "    \"exclude_subgroups\": \"keep-all\", # \"keep-all\", \"drop-non-german\"\n",
    "    \"eval_fairness_grouping\": [\"majority-minority\", \"nationality-all\"]\n",
    "}\n",
    "\n",
    "output_dir=\"./output\"\n",
    "seed=0"
   ]
  },
  {
   "cell_type": "code",
   "execution_count": 4,
   "id": "9c4d2db7",
   "metadata": {
    "execution": {
     "iopub.execute_input": "2025-07-28T11:12:35.194051Z",
     "iopub.status.busy": "2025-07-28T11:12:35.193156Z",
     "iopub.status.idle": "2025-07-28T11:12:35.198462Z",
     "shell.execute_reply": "2025-07-28T11:12:35.197633Z"
    },
    "papermill": {
     "duration": 0.025618,
     "end_time": "2025-07-28T11:12:35.199958",
     "exception": false,
     "start_time": "2025-07-28T11:12:35.174340",
     "status": "completed"
    },
    "tags": [
     "injected-parameters"
    ]
   },
   "outputs": [],
   "source": [
    "# Parameters\n",
    "universe_id = \"35a39ee6cb5e5cd421a77adb5ec0afa6\"\n",
    "run_no = \"11\"\n",
    "universe = \"{\\\"cutoff\\\": [\\\"quantile_0.1\\\", \\\"quantile_0.25\\\"], \\\"eval_fairness_grouping\\\": [\\\"majority-minority\\\", \\\"nationality-all\\\"], \\\"exclude_features\\\": \\\"nationality-sex\\\", \\\"exclude_subgroups\\\": \\\"keep-all\\\", \\\"model\\\": \\\"elasticnet\\\", \\\"scale\\\": \\\"do-not-scale\\\", \\\"training_size\\\": \\\"2014\\\"}\"\n",
    "output_dir = \"output\"\n",
    "seed = \"2023\"\n"
   ]
  },
  {
   "cell_type": "code",
   "execution_count": 5,
   "id": "1650acaf",
   "metadata": {
    "execution": {
     "iopub.execute_input": "2025-07-28T11:12:35.237112Z",
     "iopub.status.busy": "2025-07-28T11:12:35.236244Z",
     "iopub.status.idle": "2025-07-28T11:12:35.241206Z",
     "shell.execute_reply": "2025-07-28T11:12:35.240357Z"
    },
    "papermill": {
     "duration": 0.02491,
     "end_time": "2025-07-28T11:12:35.242694",
     "exception": false,
     "start_time": "2025-07-28T11:12:35.217784",
     "status": "completed"
    },
    "tags": []
   },
   "outputs": [],
   "source": [
    "import json\n",
    "# Parse universe into dict if it is passed as a string\n",
    "if isinstance(universe, str):\n",
    "    universe = json.loads(universe)"
   ]
  },
  {
   "cell_type": "code",
   "execution_count": 6,
   "id": "16620c48",
   "metadata": {
    "execution": {
     "iopub.execute_input": "2025-07-28T11:12:35.280045Z",
     "iopub.status.busy": "2025-07-28T11:12:35.279518Z",
     "iopub.status.idle": "2025-07-28T11:12:35.337257Z",
     "shell.execute_reply": "2025-07-28T11:12:35.336398Z"
    },
    "papermill": {
     "duration": 0.078805,
     "end_time": "2025-07-28T11:12:35.339037",
     "exception": false,
     "start_time": "2025-07-28T11:12:35.260232",
     "status": "completed"
    },
    "tags": []
   },
   "outputs": [],
   "source": [
    "# Auto-reload the custom package\n",
    "%load_ext autoreload\n",
    "%autoreload 1\n",
    "%aimport fairness_multiverse"
   ]
  },
  {
   "cell_type": "code",
   "execution_count": 7,
   "id": "01c5c9f3",
   "metadata": {
    "execution": {
     "iopub.execute_input": "2025-07-28T11:12:35.376823Z",
     "iopub.status.busy": "2025-07-28T11:12:35.376027Z",
     "iopub.status.idle": "2025-07-28T11:12:37.339304Z",
     "shell.execute_reply": "2025-07-28T11:12:37.338367Z"
    },
    "papermill": {
     "duration": 1.983938,
     "end_time": "2025-07-28T11:12:37.341253",
     "exception": false,
     "start_time": "2025-07-28T11:12:35.357315",
     "status": "completed"
    },
    "tags": []
   },
   "outputs": [],
   "source": [
    "from fairness_multiverse.universe import UniverseAnalysis\n",
    "\n",
    "universe_analysis = UniverseAnalysis(\n",
    "    run_no = run_no,\n",
    "    universe_id = universe_id,\n",
    "    universe = universe,\n",
    "    output_dir=output_dir,\n",
    ")"
   ]
  },
  {
   "cell_type": "code",
   "execution_count": 8,
   "id": "106241f5",
   "metadata": {
    "execution": {
     "iopub.execute_input": "2025-07-28T11:12:37.382236Z",
     "iopub.status.busy": "2025-07-28T11:12:37.381547Z",
     "iopub.status.idle": "2025-07-28T11:12:37.388448Z",
     "shell.execute_reply": "2025-07-28T11:12:37.387486Z"
    },
    "papermill": {
     "duration": 0.027577,
     "end_time": "2025-07-28T11:12:37.390127",
     "exception": false,
     "start_time": "2025-07-28T11:12:37.362550",
     "status": "completed"
    },
    "tags": []
   },
   "outputs": [
    {
     "name": "stdout",
     "output_type": "stream",
     "text": [
      "Using Seed: 2023\n"
     ]
    }
   ],
   "source": [
    "import numpy as np\n",
    "parsed_seed = int(seed)\n",
    "np.random.seed(parsed_seed)\n",
    "print(f\"Using Seed: {parsed_seed}\")"
   ]
  },
  {
   "cell_type": "markdown",
   "id": "e0ebdc57",
   "metadata": {
    "papermill": {
     "duration": 0.018024,
     "end_time": "2025-07-28T11:12:37.426459",
     "exception": false,
     "start_time": "2025-07-28T11:12:37.408435",
     "status": "completed"
    },
    "tags": []
   },
   "source": [
    "# Loading Data"
   ]
  },
  {
   "cell_type": "markdown",
   "id": "681925a3",
   "metadata": {
    "papermill": {
     "duration": 0.01766,
     "end_time": "2025-07-28T11:12:37.462016",
     "exception": false,
     "start_time": "2025-07-28T11:12:37.444356",
     "status": "completed"
    },
    "tags": []
   },
   "source": [
    "Load siab_train, siab_test, siab_calib and/or \n",
    "load siab_train_features, siab_train_labels"
   ]
  },
  {
   "cell_type": "code",
   "execution_count": 9,
   "id": "f0496b8a",
   "metadata": {
    "execution": {
     "iopub.execute_input": "2025-07-28T11:12:37.499533Z",
     "iopub.status.busy": "2025-07-28T11:12:37.498852Z",
     "iopub.status.idle": "2025-07-28T11:12:49.864558Z",
     "shell.execute_reply": "2025-07-28T11:12:49.863334Z"
    },
    "papermill": {
     "duration": 12.386323,
     "end_time": "2025-07-28T11:12:49.866252",
     "exception": false,
     "start_time": "2025-07-28T11:12:37.479929",
     "status": "completed"
    },
    "tags": []
   },
   "outputs": [
    {
     "name": "stdout",
     "output_type": "stream",
     "text": [
      "Loading SIAB data from cache: data/siab_cached.csv.gz\n"
     ]
    },
    {
     "name": "stdout",
     "output_type": "stream",
     "text": [
      "(643690, 164)\n"
     ]
    }
   ],
   "source": [
    "from pathlib import Path\n",
    "import pandas as pd\n",
    "\n",
    "# File paths\n",
    "raw_file = Path(\"data/raw/siab.csv\")\n",
    "cache_file = Path(\"data/siab_cached.csv.gz\")\n",
    "\n",
    "# Ensure cache directory exists\n",
    "cache_file.parent.mkdir(parents=True, exist_ok=True)\n",
    "\n",
    "# Load with simple caching\n",
    "if cache_file.exists():\n",
    "    print(f\"Loading SIAB data from cache: {cache_file}\")\n",
    "    siab = pd.read_csv(cache_file, compression='gzip')\n",
    "else:\n",
    "    print(f\"Cache not found. Reading raw SIAB data: {raw_file}\")\n",
    "    siab = pd.read_csv(raw_file)\n",
    "    siab.to_csv(cache_file, index=False, compression='gzip')\n",
    "    print(f\"Cached SIAB data to: {cache_file}\")\n",
    "\n",
    "# Now use `siab` DataFrame as needed\n",
    "print(siab.shape)"
   ]
  },
  {
   "cell_type": "code",
   "execution_count": 10,
   "id": "db0ca512-5f53-4dba-abdb-a2888bca41ba",
   "metadata": {
    "execution": {
     "iopub.execute_input": "2025-07-28T11:12:49.907743Z",
     "iopub.status.busy": "2025-07-28T11:12:49.906868Z",
     "iopub.status.idle": "2025-07-28T11:12:49.912842Z",
     "shell.execute_reply": "2025-07-28T11:12:49.911965Z"
    },
    "papermill": {
     "duration": 0.026977,
     "end_time": "2025-07-28T11:12:49.914319",
     "exception": false,
     "start_time": "2025-07-28T11:12:49.887342",
     "status": "completed"
    },
    "tags": []
   },
   "outputs": [],
   "source": [
    "#siab"
   ]
  },
  {
   "cell_type": "code",
   "execution_count": 11,
   "id": "a0edb063",
   "metadata": {
    "execution": {
     "iopub.execute_input": "2025-07-28T11:12:49.953205Z",
     "iopub.status.busy": "2025-07-28T11:12:49.952514Z",
     "iopub.status.idle": "2025-07-28T11:12:49.957647Z",
     "shell.execute_reply": "2025-07-28T11:12:49.956775Z"
    },
    "papermill": {
     "duration": 0.026147,
     "end_time": "2025-07-28T11:12:49.959276",
     "exception": false,
     "start_time": "2025-07-28T11:12:49.933129",
     "status": "completed"
    },
    "tags": []
   },
   "outputs": [],
   "source": [
    "#import pandas as pd\n",
    "#\n",
    "#X_train = pd.read_csv(\"./data/X_train.csv\")\n",
    "#y_train = pd.read_csv(\"./data/y_train.csv\")"
   ]
  },
  {
   "cell_type": "code",
   "execution_count": 12,
   "id": "63d08085",
   "metadata": {
    "execution": {
     "iopub.execute_input": "2025-07-28T11:12:49.998076Z",
     "iopub.status.busy": "2025-07-28T11:12:49.997408Z",
     "iopub.status.idle": "2025-07-28T11:12:50.002569Z",
     "shell.execute_reply": "2025-07-28T11:12:50.001607Z"
    },
    "papermill": {
     "duration": 0.026092,
     "end_time": "2025-07-28T11:12:50.004164",
     "exception": false,
     "start_time": "2025-07-28T11:12:49.978072",
     "status": "completed"
    },
    "tags": []
   },
   "outputs": [],
   "source": [
    "#X_test = pd.read_csv(\"./data/X_test.csv\")\n",
    "#y_true = pd.read_csv(\"./data/y_test.csv\")"
   ]
  },
  {
   "cell_type": "code",
   "execution_count": 13,
   "id": "98a8d0fa-1d3d-4ed8-bb2c-281470e24add",
   "metadata": {
    "execution": {
     "iopub.execute_input": "2025-07-28T11:12:50.042696Z",
     "iopub.status.busy": "2025-07-28T11:12:50.042058Z",
     "iopub.status.idle": "2025-07-28T11:12:50.047217Z",
     "shell.execute_reply": "2025-07-28T11:12:50.046282Z"
    },
    "papermill": {
     "duration": 0.02625,
     "end_time": "2025-07-28T11:12:50.048924",
     "exception": false,
     "start_time": "2025-07-28T11:12:50.022674",
     "status": "completed"
    },
    "tags": []
   },
   "outputs": [],
   "source": [
    "# Calibration data for conformal\n",
    "#X_calib = pd.read_csv(\"./data/X_calib.csv\")\n",
    "#y_calib = pd.read_csv(\"./data/y_calib.csv\")"
   ]
  },
  {
   "cell_type": "markdown",
   "id": "9901737e-04df-44f0-9100-f5ad144ed040",
   "metadata": {
    "papermill": {
     "duration": 0.018363,
     "end_time": "2025-07-28T11:12:50.085972",
     "exception": false,
     "start_time": "2025-07-28T11:12:50.067609",
     "status": "completed"
    },
    "tags": []
   },
   "source": [
    "# Splitting Data and Setting Training Data Size"
   ]
  },
  {
   "cell_type": "code",
   "execution_count": 14,
   "id": "acbc8f7d-8fc8-4e86-8c59-5dcb0f58384b",
   "metadata": {
    "execution": {
     "iopub.execute_input": "2025-07-28T11:12:50.124929Z",
     "iopub.status.busy": "2025-07-28T11:12:50.124257Z",
     "iopub.status.idle": "2025-07-28T11:12:50.132680Z",
     "shell.execute_reply": "2025-07-28T11:12:50.131802Z"
    },
    "papermill": {
     "duration": 0.029768,
     "end_time": "2025-07-28T11:12:50.134237",
     "exception": false,
     "start_time": "2025-07-28T11:12:50.104469",
     "status": "completed"
    },
    "tags": []
   },
   "outputs": [],
   "source": [
    "def sample_by_year(df, training_size, random_state=42):\n",
    "    if training_size == \"2014\":\n",
    "        return df[df[\"year\"] == 2014].reset_index(drop=True)\n",
    "    \n",
    "    size_map = {\n",
    "        \"25k\": 5000,\n",
    "        \"5k\": 1000,\n",
    "        \"1k\": 200\n",
    "    }\n",
    "\n",
    "    if training_size not in size_map:\n",
    "        return df.reset_index(drop=True)  # use all data\n",
    "\n",
    "    n_per_year = size_map[training_size]\n",
    "    grouped = df.groupby(\"year\")\n",
    "    sampled = grouped.apply(lambda x: x.sample(n=min(n_per_year, len(x)), random_state=random_state))\n",
    "    return sampled.reset_index(drop=True)"
   ]
  },
  {
   "cell_type": "code",
   "execution_count": 15,
   "id": "6d931f52-beaf-43ff-9e78-9d44a448d54e",
   "metadata": {
    "execution": {
     "iopub.execute_input": "2025-07-28T11:12:50.173296Z",
     "iopub.status.busy": "2025-07-28T11:12:50.172577Z",
     "iopub.status.idle": "2025-07-28T11:12:50.323527Z",
     "shell.execute_reply": "2025-07-28T11:12:50.322567Z"
    },
    "papermill": {
     "duration": 0.172162,
     "end_time": "2025-07-28T11:12:50.325416",
     "exception": false,
     "start_time": "2025-07-28T11:12:50.153254",
     "status": "completed"
    },
    "tags": []
   },
   "outputs": [],
   "source": [
    "siab_s = sample_by_year(siab, universe[\"training_size\"])"
   ]
  },
  {
   "cell_type": "code",
   "execution_count": 16,
   "id": "5db0a40e-a4e2-4920-be85-b12ae061d70d",
   "metadata": {
    "execution": {
     "iopub.execute_input": "2025-07-28T11:12:50.364839Z",
     "iopub.status.busy": "2025-07-28T11:12:50.364158Z",
     "iopub.status.idle": "2025-07-28T11:12:50.378966Z",
     "shell.execute_reply": "2025-07-28T11:12:50.378055Z"
    },
    "papermill": {
     "duration": 0.036018,
     "end_time": "2025-07-28T11:12:50.380605",
     "exception": false,
     "start_time": "2025-07-28T11:12:50.344587",
     "status": "completed"
    },
    "tags": []
   },
   "outputs": [
    {
     "data": {
      "text/plain": [
       "year\n",
       "2014    87158\n",
       "dtype: int64"
      ]
     },
     "metadata": {},
     "output_type": "display_data"
    }
   ],
   "source": [
    "display(siab_s.groupby(\"year\").size())"
   ]
  },
  {
   "cell_type": "code",
   "execution_count": 17,
   "id": "a561edb4-d032-42cb-8256-22eac1111c64",
   "metadata": {
    "execution": {
     "iopub.execute_input": "2025-07-28T11:12:50.420601Z",
     "iopub.status.busy": "2025-07-28T11:12:50.419724Z",
     "iopub.status.idle": "2025-07-28T11:12:50.700443Z",
     "shell.execute_reply": "2025-07-28T11:12:50.699486Z"
    },
    "papermill": {
     "duration": 0.302684,
     "end_time": "2025-07-28T11:12:50.702433",
     "exception": false,
     "start_time": "2025-07-28T11:12:50.399749",
     "status": "completed"
    },
    "tags": []
   },
   "outputs": [],
   "source": [
    "siab_train = siab_s[siab_s.year < 2015]\n",
    "siab_calib = siab[siab.year == 2015]\n",
    "siab_test = siab[siab.year == 2016]"
   ]
  },
  {
   "cell_type": "code",
   "execution_count": 18,
   "id": "472de16f-c3db-4916-846b-1f0de9cf1746",
   "metadata": {
    "execution": {
     "iopub.execute_input": "2025-07-28T11:12:50.742763Z",
     "iopub.status.busy": "2025-07-28T11:12:50.742122Z",
     "iopub.status.idle": "2025-07-28T11:12:50.833658Z",
     "shell.execute_reply": "2025-07-28T11:12:50.832702Z"
    },
    "papermill": {
     "duration": 0.113356,
     "end_time": "2025-07-28T11:12:50.835361",
     "exception": false,
     "start_time": "2025-07-28T11:12:50.722005",
     "status": "completed"
    },
    "tags": []
   },
   "outputs": [],
   "source": [
    "X_train = siab_train.iloc[:,4:164]\n",
    "y_train = siab_train.iloc[:, [3]]"
   ]
  },
  {
   "cell_type": "code",
   "execution_count": 19,
   "id": "828c96af-f43a-4ed6-ba47-8ac73a47d56c",
   "metadata": {
    "execution": {
     "iopub.execute_input": "2025-07-28T11:12:50.875521Z",
     "iopub.status.busy": "2025-07-28T11:12:50.874885Z",
     "iopub.status.idle": "2025-07-28T11:12:50.923987Z",
     "shell.execute_reply": "2025-07-28T11:12:50.922928Z"
    },
    "papermill": {
     "duration": 0.070688,
     "end_time": "2025-07-28T11:12:50.925624",
     "exception": false,
     "start_time": "2025-07-28T11:12:50.854936",
     "status": "completed"
    },
    "tags": []
   },
   "outputs": [],
   "source": [
    "X_calib = siab_calib.iloc[:,4:164]\n",
    "y_calib = siab_calib.iloc[:, [3]]"
   ]
  },
  {
   "cell_type": "code",
   "execution_count": 20,
   "id": "c34be9c3-6bd6-476e-acd3-845840e303be",
   "metadata": {
    "execution": {
     "iopub.execute_input": "2025-07-28T11:12:50.966839Z",
     "iopub.status.busy": "2025-07-28T11:12:50.966161Z",
     "iopub.status.idle": "2025-07-28T11:12:51.018151Z",
     "shell.execute_reply": "2025-07-28T11:12:51.017185Z"
    },
    "papermill": {
     "duration": 0.073797,
     "end_time": "2025-07-28T11:12:51.019746",
     "exception": false,
     "start_time": "2025-07-28T11:12:50.945949",
     "status": "completed"
    },
    "tags": []
   },
   "outputs": [],
   "source": [
    "X_test = siab_test.iloc[:,4:164]\n",
    "y_true = siab_test.iloc[:, [3]]"
   ]
  },
  {
   "cell_type": "code",
   "execution_count": 21,
   "id": "e6c733c5",
   "metadata": {
    "execution": {
     "iopub.execute_input": "2025-07-28T11:12:51.059949Z",
     "iopub.status.busy": "2025-07-28T11:12:51.059273Z",
     "iopub.status.idle": "2025-07-28T11:12:51.194157Z",
     "shell.execute_reply": "2025-07-28T11:12:51.193191Z"
    },
    "papermill": {
     "duration": 0.156877,
     "end_time": "2025-07-28T11:12:51.196095",
     "exception": false,
     "start_time": "2025-07-28T11:12:51.039218",
     "status": "completed"
    },
    "tags": []
   },
   "outputs": [],
   "source": [
    "# Auxiliary data needed downstream in the pipeline\n",
    "\n",
    "org_train = X_train.copy()\n",
    "org_test = X_test.copy()\n",
    "org_calib = X_calib.copy()"
   ]
  },
  {
   "cell_type": "markdown",
   "id": "0a4a1b33",
   "metadata": {
    "papermill": {
     "duration": 0.018958,
     "end_time": "2025-07-28T11:12:51.235269",
     "exception": false,
     "start_time": "2025-07-28T11:12:51.216311",
     "status": "completed"
    },
    "tags": []
   },
   "source": [
    "# Preprocessing Data"
   ]
  },
  {
   "cell_type": "code",
   "execution_count": 22,
   "id": "ca879031",
   "metadata": {
    "execution": {
     "iopub.execute_input": "2025-07-28T11:12:51.275283Z",
     "iopub.status.busy": "2025-07-28T11:12:51.274577Z",
     "iopub.status.idle": "2025-07-28T11:12:51.280864Z",
     "shell.execute_reply": "2025-07-28T11:12:51.279982Z"
    },
    "papermill": {
     "duration": 0.027871,
     "end_time": "2025-07-28T11:12:51.282420",
     "exception": false,
     "start_time": "2025-07-28T11:12:51.254549",
     "status": "completed"
    },
    "tags": []
   },
   "outputs": [],
   "source": [
    "# EXCLUDE PROTECTED FEATURES\n",
    "# ----------------------\n",
    "# \"exclude_features\": \"none\", # \"nationality\", \"sex\", \"nationality-sex\"\n",
    "\n",
    "excluded_features = universe[\"exclude_features\"].split(\"-\") # split, e.g.: \"nationality-sex\" -> [\"nationality\", \"sex\"]\n",
    "excluded_features_dictionary = {\n",
    "    \"nationality\": [\"maxdeutsch1\", \"maxdeutsch.Missing.\"],\n",
    "    \"sex\": [\"frau1\"],\n",
    "    \"age\": [\"age\"],\n",
    "}\n"
   ]
  },
  {
   "cell_type": "code",
   "execution_count": 23,
   "id": "b745ac60",
   "metadata": {
    "execution": {
     "iopub.execute_input": "2025-07-28T11:12:51.322821Z",
     "iopub.status.busy": "2025-07-28T11:12:51.322173Z",
     "iopub.status.idle": "2025-07-28T11:12:51.327751Z",
     "shell.execute_reply": "2025-07-28T11:12:51.326910Z"
    },
    "papermill": {
     "duration": 0.027437,
     "end_time": "2025-07-28T11:12:51.329297",
     "exception": false,
     "start_time": "2025-07-28T11:12:51.301860",
     "status": "completed"
    },
    "tags": []
   },
   "outputs": [],
   "source": [
    "# Code nice names to column names\n",
    "\n",
    "excluded_features_columns = [\n",
    "    excluded_features_dictionary[f] for f in excluded_features if len(f) > 0 and f != \"none\"\n",
    "]"
   ]
  },
  {
   "cell_type": "code",
   "execution_count": 24,
   "id": "f84f73a2",
   "metadata": {
    "execution": {
     "iopub.execute_input": "2025-07-28T11:12:51.369642Z",
     "iopub.status.busy": "2025-07-28T11:12:51.368964Z",
     "iopub.status.idle": "2025-07-28T11:12:51.375527Z",
     "shell.execute_reply": "2025-07-28T11:12:51.374669Z"
    },
    "papermill": {
     "duration": 0.028485,
     "end_time": "2025-07-28T11:12:51.377205",
     "exception": false,
     "start_time": "2025-07-28T11:12:51.348720",
     "status": "completed"
    },
    "tags": []
   },
   "outputs": [],
   "source": [
    "from utils import flatten_once\n",
    "\n",
    "excluded_features_columns = flatten_once(excluded_features_columns)"
   ]
  },
  {
   "cell_type": "code",
   "execution_count": 25,
   "id": "884dea22",
   "metadata": {
    "execution": {
     "iopub.execute_input": "2025-07-28T11:12:51.417948Z",
     "iopub.status.busy": "2025-07-28T11:12:51.417310Z",
     "iopub.status.idle": "2025-07-28T11:12:51.469988Z",
     "shell.execute_reply": "2025-07-28T11:12:51.469155Z"
    },
    "papermill": {
     "duration": 0.075206,
     "end_time": "2025-07-28T11:12:51.471813",
     "exception": false,
     "start_time": "2025-07-28T11:12:51.396607",
     "status": "completed"
    },
    "tags": []
   },
   "outputs": [
    {
     "name": "stdout",
     "output_type": "stream",
     "text": [
      "Dropping features: ['maxdeutsch1', 'maxdeutsch.Missing.', 'frau1']\n"
     ]
    }
   ],
   "source": [
    "if len(excluded_features_columns) > 0:\n",
    "    print(f\"Dropping features: {excluded_features_columns}\")\n",
    "    X_train.drop(excluded_features_columns, axis=1, inplace=True)"
   ]
  },
  {
   "cell_type": "code",
   "execution_count": 26,
   "id": "95ab8b16",
   "metadata": {
    "execution": {
     "iopub.execute_input": "2025-07-28T11:12:51.515521Z",
     "iopub.status.busy": "2025-07-28T11:12:51.514822Z",
     "iopub.status.idle": "2025-07-28T11:12:51.568061Z",
     "shell.execute_reply": "2025-07-28T11:12:51.567177Z"
    },
    "papermill": {
     "duration": 0.078058,
     "end_time": "2025-07-28T11:12:51.569850",
     "exception": false,
     "start_time": "2025-07-28T11:12:51.491792",
     "status": "completed"
    },
    "tags": []
   },
   "outputs": [
    {
     "name": "stdout",
     "output_type": "stream",
     "text": [
      "Dropping features: ['maxdeutsch1', 'maxdeutsch.Missing.', 'frau1']\n"
     ]
    }
   ],
   "source": [
    "if len(excluded_features_columns) > 0:\n",
    "    print(f\"Dropping features: {excluded_features_columns}\")\n",
    "    X_test.drop(excluded_features_columns, axis=1, inplace=True)"
   ]
  },
  {
   "cell_type": "code",
   "execution_count": 27,
   "id": "1853aaf5-fb9f-46cb-a2b5-8ea4ae2237e4",
   "metadata": {
    "execution": {
     "iopub.execute_input": "2025-07-28T11:12:51.611055Z",
     "iopub.status.busy": "2025-07-28T11:12:51.610361Z",
     "iopub.status.idle": "2025-07-28T11:12:51.662605Z",
     "shell.execute_reply": "2025-07-28T11:12:51.661648Z"
    },
    "papermill": {
     "duration": 0.074609,
     "end_time": "2025-07-28T11:12:51.664474",
     "exception": false,
     "start_time": "2025-07-28T11:12:51.589865",
     "status": "completed"
    },
    "tags": []
   },
   "outputs": [
    {
     "name": "stdout",
     "output_type": "stream",
     "text": [
      "Dropping features: ['maxdeutsch1', 'maxdeutsch.Missing.', 'frau1']\n"
     ]
    }
   ],
   "source": [
    "if len(excluded_features_columns) > 0:\n",
    "    print(f\"Dropping features: {excluded_features_columns}\")\n",
    "    X_calib.drop(excluded_features_columns, axis=1, inplace=True)"
   ]
  },
  {
   "cell_type": "code",
   "execution_count": 28,
   "id": "6727d079-03e5-481e-9d38-292a90b7a0a8",
   "metadata": {
    "execution": {
     "iopub.execute_input": "2025-07-28T11:12:51.706315Z",
     "iopub.status.busy": "2025-07-28T11:12:51.705632Z",
     "iopub.status.idle": "2025-07-28T11:12:51.710483Z",
     "shell.execute_reply": "2025-07-28T11:12:51.709593Z"
    },
    "papermill": {
     "duration": 0.027319,
     "end_time": "2025-07-28T11:12:51.711936",
     "exception": false,
     "start_time": "2025-07-28T11:12:51.684617",
     "status": "completed"
    },
    "tags": []
   },
   "outputs": [],
   "source": [
    "# SPLIT & STRATIFY DATA\n",
    "# ----------------------"
   ]
  },
  {
   "cell_type": "code",
   "execution_count": 29,
   "id": "76c4dc6d",
   "metadata": {
    "execution": {
     "iopub.execute_input": "2025-07-28T11:12:51.753556Z",
     "iopub.status.busy": "2025-07-28T11:12:51.752898Z",
     "iopub.status.idle": "2025-07-28T11:12:51.758205Z",
     "shell.execute_reply": "2025-07-28T11:12:51.757287Z"
    },
    "papermill": {
     "duration": 0.027792,
     "end_time": "2025-07-28T11:12:51.759776",
     "exception": false,
     "start_time": "2025-07-28T11:12:51.731984",
     "status": "completed"
    },
    "tags": []
   },
   "outputs": [],
   "source": [
    "# EXCLUDE CERTAIN SUBGROUPS\n",
    "# ----------------------\n",
    "\n",
    "mode = universe.get(\"exclude_subgroups\", \"keep-all\") \n",
    "# Fetches the exclude_subgroups setting from the universe dict.\n",
    "# Defaults to \"keep-all\" if the key is missing."
   ]
  },
  {
   "cell_type": "code",
   "execution_count": 30,
   "id": "21994072",
   "metadata": {
    "execution": {
     "iopub.execute_input": "2025-07-28T11:12:51.801401Z",
     "iopub.status.busy": "2025-07-28T11:12:51.800714Z",
     "iopub.status.idle": "2025-07-28T11:12:51.807672Z",
     "shell.execute_reply": "2025-07-28T11:12:51.806739Z"
    },
    "papermill": {
     "duration": 0.029507,
     "end_time": "2025-07-28T11:12:51.809281",
     "exception": false,
     "start_time": "2025-07-28T11:12:51.779774",
     "status": "completed"
    },
    "tags": []
   },
   "outputs": [],
   "source": [
    "if mode == \"keep-all\":\n",
    "    keep_mask = pd.Series(True, index=org_train.index)\n",
    "\n",
    "# org_train contains the original feature columns from features_org (in Simson)\n",
    "# features_org contains unprocessed features, for me X_train at beginning ???\n",
    "# For keep-all, creates a boolean Series (keep_mask) of all True, so no rows are removed.\n",
    "\n",
    "elif mode == \"drop-non-german\":\n",
    "    keep_mask = org_train[\"maxdeutsch1\"] == 1 # ??? what about missing values?\n",
    "\n",
    "else:\n",
    "    raise ValueError(f\"Unsupported mode for exclude_subgroups: {mode}\")\n"
   ]
  },
  {
   "cell_type": "code",
   "execution_count": 31,
   "id": "71651440",
   "metadata": {
    "execution": {
     "iopub.execute_input": "2025-07-28T11:12:51.851421Z",
     "iopub.status.busy": "2025-07-28T11:12:51.850789Z",
     "iopub.status.idle": "2025-07-28T11:12:51.857550Z",
     "shell.execute_reply": "2025-07-28T11:12:51.856734Z"
    },
    "papermill": {
     "duration": 0.0294,
     "end_time": "2025-07-28T11:12:51.859049",
     "exception": false,
     "start_time": "2025-07-28T11:12:51.829649",
     "status": "completed"
    },
    "tags": []
   },
   "outputs": [],
   "source": [
    "n_drop = (~keep_mask).sum() # Calculates how many rows are set to be dropped\n",
    "if n_drop > 0:\n",
    "    pct = n_drop / len(keep_mask) * 100\n",
    "    print(f\"Dropping {n_drop} rows ({pct:.2f}%) where mode='{mode}'\")"
   ]
  },
  {
   "cell_type": "code",
   "execution_count": 32,
   "id": "5fb8eee5",
   "metadata": {
    "execution": {
     "iopub.execute_input": "2025-07-28T11:12:51.901710Z",
     "iopub.status.busy": "2025-07-28T11:12:51.901064Z",
     "iopub.status.idle": "2025-07-28T11:12:51.960801Z",
     "shell.execute_reply": "2025-07-28T11:12:51.959872Z"
    },
    "papermill": {
     "duration": 0.082904,
     "end_time": "2025-07-28T11:12:51.962574",
     "exception": false,
     "start_time": "2025-07-28T11:12:51.879670",
     "status": "completed"
    },
    "tags": []
   },
   "outputs": [],
   "source": [
    "X_train = X_train[keep_mask]"
   ]
  },
  {
   "cell_type": "code",
   "execution_count": 33,
   "id": "b202bb3a",
   "metadata": {
    "execution": {
     "iopub.execute_input": "2025-07-28T11:12:52.006006Z",
     "iopub.status.busy": "2025-07-28T11:12:52.005323Z",
     "iopub.status.idle": "2025-07-28T11:12:52.013019Z",
     "shell.execute_reply": "2025-07-28T11:12:52.012227Z"
    },
    "papermill": {
     "duration": 0.030996,
     "end_time": "2025-07-28T11:12:52.014746",
     "exception": false,
     "start_time": "2025-07-28T11:12:51.983750",
     "status": "completed"
    },
    "tags": []
   },
   "outputs": [],
   "source": [
    "y_train = y_train[keep_mask]"
   ]
  },
  {
   "cell_type": "markdown",
   "id": "493e2ac3",
   "metadata": {
    "papermill": {
     "duration": 0.020115,
     "end_time": "2025-07-28T11:12:52.055406",
     "exception": false,
     "start_time": "2025-07-28T11:12:52.035291",
     "status": "completed"
    },
    "tags": []
   },
   "source": [
    "# Model Training"
   ]
  },
  {
   "cell_type": "code",
   "execution_count": 34,
   "id": "679e1268",
   "metadata": {
    "execution": {
     "iopub.execute_input": "2025-07-28T11:12:52.097417Z",
     "iopub.status.busy": "2025-07-28T11:12:52.096727Z",
     "iopub.status.idle": "2025-07-28T11:12:52.200385Z",
     "shell.execute_reply": "2025-07-28T11:12:52.199433Z"
    },
    "papermill": {
     "duration": 0.126513,
     "end_time": "2025-07-28T11:12:52.202154",
     "exception": false,
     "start_time": "2025-07-28T11:12:52.075641",
     "status": "completed"
    },
    "tags": []
   },
   "outputs": [],
   "source": [
    "from sklearn.linear_model import LogisticRegression\n",
    "from sklearn.ensemble import GradientBoostingClassifier, RandomForestClassifier\n",
    "\n",
    "if (universe[\"model\"] == \"logreg\"):\n",
    "    model = LogisticRegression() #penalty=\"none\") #, solver=\"newton-cg\", max_iter=1) # include random_state=19 ?\n",
    "elif (universe[\"model\"] == \"penalized_logreg\"):\n",
    "    model = LogisticRegression(penalty=\"l2\", C=1.0) #, solver=\"newton-cg\", max_iter=1)\n",
    "elif (universe[\"model\"] == \"rf\"):\n",
    "    model = RandomForestClassifier(n_estimators=100, n_jobs=-1)\n",
    "elif (universe[\"model\"] == \"gbm\"):\n",
    "    model = GradientBoostingClassifier()\n",
    "elif (universe[\"model\"] == \"elasticnet\"):\n",
    "    model = LogisticRegression(penalty = 'elasticnet', solver = 'saga', l1_ratio = 0.5, max_iter=5000) # which solver to use?\n",
    "else:\n",
    "    raise \"Unsupported universe.model\""
   ]
  },
  {
   "cell_type": "code",
   "execution_count": 35,
   "id": "0cc8f744",
   "metadata": {
    "execution": {
     "iopub.execute_input": "2025-07-28T11:12:52.244945Z",
     "iopub.status.busy": "2025-07-28T11:12:52.244285Z",
     "iopub.status.idle": "2025-07-28T11:12:52.250577Z",
     "shell.execute_reply": "2025-07-28T11:12:52.249642Z"
    },
    "papermill": {
     "duration": 0.029239,
     "end_time": "2025-07-28T11:12:52.252253",
     "exception": false,
     "start_time": "2025-07-28T11:12:52.223014",
     "status": "completed"
    },
    "tags": []
   },
   "outputs": [],
   "source": [
    "import numpy as np\n",
    "from sklearn.pipeline import Pipeline\n",
    "from sklearn.preprocessing import StandardScaler\n",
    "\n",
    "model = Pipeline([\n",
    "    #(\"continuous_processor\", continuous_processor),\n",
    "    #(\"categorical_preprocessor\", categorical_preprocessor),\n",
    "    (\"scale\", StandardScaler() if universe[\"scale\"] == \"scale\" else None), \n",
    "    (\"model\", model),\n",
    "])"
   ]
  },
  {
   "cell_type": "code",
   "execution_count": 36,
   "id": "9442c04d",
   "metadata": {
    "execution": {
     "iopub.execute_input": "2025-07-28T11:12:52.294854Z",
     "iopub.status.busy": "2025-07-28T11:12:52.294179Z",
     "iopub.status.idle": "2025-07-28T11:29:11.569607Z",
     "shell.execute_reply": "2025-07-28T11:29:11.568729Z"
    },
    "papermill": {
     "duration": 979.320823,
     "end_time": "2025-07-28T11:29:11.593891",
     "exception": false,
     "start_time": "2025-07-28T11:12:52.273068",
     "status": "completed"
    },
    "tags": []
   },
   "outputs": [
    {
     "data": {
      "text/html": [
       "<style>#sk-container-id-1 {color: black;background-color: white;}#sk-container-id-1 pre{padding: 0;}#sk-container-id-1 div.sk-toggleable {background-color: white;}#sk-container-id-1 label.sk-toggleable__label {cursor: pointer;display: block;width: 100%;margin-bottom: 0;padding: 0.3em;box-sizing: border-box;text-align: center;}#sk-container-id-1 label.sk-toggleable__label-arrow:before {content: \"▸\";float: left;margin-right: 0.25em;color: #696969;}#sk-container-id-1 label.sk-toggleable__label-arrow:hover:before {color: black;}#sk-container-id-1 div.sk-estimator:hover label.sk-toggleable__label-arrow:before {color: black;}#sk-container-id-1 div.sk-toggleable__content {max-height: 0;max-width: 0;overflow: hidden;text-align: left;background-color: #f0f8ff;}#sk-container-id-1 div.sk-toggleable__content pre {margin: 0.2em;color: black;border-radius: 0.25em;background-color: #f0f8ff;}#sk-container-id-1 input.sk-toggleable__control:checked~div.sk-toggleable__content {max-height: 200px;max-width: 100%;overflow: auto;}#sk-container-id-1 input.sk-toggleable__control:checked~label.sk-toggleable__label-arrow:before {content: \"▾\";}#sk-container-id-1 div.sk-estimator input.sk-toggleable__control:checked~label.sk-toggleable__label {background-color: #d4ebff;}#sk-container-id-1 div.sk-label input.sk-toggleable__control:checked~label.sk-toggleable__label {background-color: #d4ebff;}#sk-container-id-1 input.sk-hidden--visually {border: 0;clip: rect(1px 1px 1px 1px);clip: rect(1px, 1px, 1px, 1px);height: 1px;margin: -1px;overflow: hidden;padding: 0;position: absolute;width: 1px;}#sk-container-id-1 div.sk-estimator {font-family: monospace;background-color: #f0f8ff;border: 1px dotted black;border-radius: 0.25em;box-sizing: border-box;margin-bottom: 0.5em;}#sk-container-id-1 div.sk-estimator:hover {background-color: #d4ebff;}#sk-container-id-1 div.sk-parallel-item::after {content: \"\";width: 100%;border-bottom: 1px solid gray;flex-grow: 1;}#sk-container-id-1 div.sk-label:hover label.sk-toggleable__label {background-color: #d4ebff;}#sk-container-id-1 div.sk-serial::before {content: \"\";position: absolute;border-left: 1px solid gray;box-sizing: border-box;top: 0;bottom: 0;left: 50%;z-index: 0;}#sk-container-id-1 div.sk-serial {display: flex;flex-direction: column;align-items: center;background-color: white;padding-right: 0.2em;padding-left: 0.2em;position: relative;}#sk-container-id-1 div.sk-item {position: relative;z-index: 1;}#sk-container-id-1 div.sk-parallel {display: flex;align-items: stretch;justify-content: center;background-color: white;position: relative;}#sk-container-id-1 div.sk-item::before, #sk-container-id-1 div.sk-parallel-item::before {content: \"\";position: absolute;border-left: 1px solid gray;box-sizing: border-box;top: 0;bottom: 0;left: 50%;z-index: -1;}#sk-container-id-1 div.sk-parallel-item {display: flex;flex-direction: column;z-index: 1;position: relative;background-color: white;}#sk-container-id-1 div.sk-parallel-item:first-child::after {align-self: flex-end;width: 50%;}#sk-container-id-1 div.sk-parallel-item:last-child::after {align-self: flex-start;width: 50%;}#sk-container-id-1 div.sk-parallel-item:only-child::after {width: 0;}#sk-container-id-1 div.sk-dashed-wrapped {border: 1px dashed gray;margin: 0 0.4em 0.5em 0.4em;box-sizing: border-box;padding-bottom: 0.4em;background-color: white;}#sk-container-id-1 div.sk-label label {font-family: monospace;font-weight: bold;display: inline-block;line-height: 1.2em;}#sk-container-id-1 div.sk-label-container {text-align: center;}#sk-container-id-1 div.sk-container {/* jupyter's `normalize.less` sets `[hidden] { display: none; }` but bootstrap.min.css set `[hidden] { display: none !important; }` so we also need the `!important` here to be able to override the default hidden behavior on the sphinx rendered scikit-learn.org. See: https://github.com/scikit-learn/scikit-learn/issues/21755 */display: inline-block !important;position: relative;}#sk-container-id-1 div.sk-text-repr-fallback {display: none;}</style><div id=\"sk-container-id-1\" class=\"sk-top-container\"><div class=\"sk-text-repr-fallback\"><pre>Pipeline(steps=[(&#x27;scale&#x27;, None),\n",
       "                (&#x27;model&#x27;,\n",
       "                 LogisticRegression(l1_ratio=0.5, max_iter=5000,\n",
       "                                    penalty=&#x27;elasticnet&#x27;, solver=&#x27;saga&#x27;))])</pre><b>In a Jupyter environment, please rerun this cell to show the HTML representation or trust the notebook. <br />On GitHub, the HTML representation is unable to render, please try loading this page with nbviewer.org.</b></div><div class=\"sk-container\" hidden><div class=\"sk-item sk-dashed-wrapped\"><div class=\"sk-label-container\"><div class=\"sk-label sk-toggleable\"><input class=\"sk-toggleable__control sk-hidden--visually\" id=\"sk-estimator-id-1\" type=\"checkbox\" ><label for=\"sk-estimator-id-1\" class=\"sk-toggleable__label sk-toggleable__label-arrow\">Pipeline</label><div class=\"sk-toggleable__content\"><pre>Pipeline(steps=[(&#x27;scale&#x27;, None),\n",
       "                (&#x27;model&#x27;,\n",
       "                 LogisticRegression(l1_ratio=0.5, max_iter=5000,\n",
       "                                    penalty=&#x27;elasticnet&#x27;, solver=&#x27;saga&#x27;))])</pre></div></div></div><div class=\"sk-serial\"><div class=\"sk-item\"><div class=\"sk-estimator sk-toggleable\"><input class=\"sk-toggleable__control sk-hidden--visually\" id=\"sk-estimator-id-2\" type=\"checkbox\" ><label for=\"sk-estimator-id-2\" class=\"sk-toggleable__label sk-toggleable__label-arrow\">None</label><div class=\"sk-toggleable__content\"><pre>None</pre></div></div></div><div class=\"sk-item\"><div class=\"sk-estimator sk-toggleable\"><input class=\"sk-toggleable__control sk-hidden--visually\" id=\"sk-estimator-id-3\" type=\"checkbox\" ><label for=\"sk-estimator-id-3\" class=\"sk-toggleable__label sk-toggleable__label-arrow\">LogisticRegression</label><div class=\"sk-toggleable__content\"><pre>LogisticRegression(l1_ratio=0.5, max_iter=5000, penalty=&#x27;elasticnet&#x27;,\n",
       "                   solver=&#x27;saga&#x27;)</pre></div></div></div></div></div></div></div>"
      ],
      "text/plain": [
       "Pipeline(steps=[('scale', None),\n",
       "                ('model',\n",
       "                 LogisticRegression(l1_ratio=0.5, max_iter=5000,\n",
       "                                    penalty='elasticnet', solver='saga'))])"
      ]
     },
     "execution_count": 36,
     "metadata": {},
     "output_type": "execute_result"
    }
   ],
   "source": [
    "model.fit(X_train, y_train.values.ravel())"
   ]
  },
  {
   "cell_type": "code",
   "execution_count": 37,
   "id": "af59f8c0",
   "metadata": {
    "execution": {
     "iopub.execute_input": "2025-07-28T11:29:11.635310Z",
     "iopub.status.busy": "2025-07-28T11:29:11.635025Z",
     "iopub.status.idle": "2025-07-28T11:29:11.639562Z",
     "shell.execute_reply": "2025-07-28T11:29:11.638837Z"
    },
    "papermill": {
     "duration": 0.02724,
     "end_time": "2025-07-28T11:29:11.641253",
     "exception": false,
     "start_time": "2025-07-28T11:29:11.614013",
     "status": "completed"
    },
    "tags": []
   },
   "outputs": [],
   "source": [
    "from fairness_multiverse.universe import predict_w_threshold"
   ]
  },
  {
   "cell_type": "code",
   "execution_count": 38,
   "id": "a7cf2e16",
   "metadata": {
    "execution": {
     "iopub.execute_input": "2025-07-28T11:29:11.692007Z",
     "iopub.status.busy": "2025-07-28T11:29:11.691582Z",
     "iopub.status.idle": "2025-07-28T11:29:11.801910Z",
     "shell.execute_reply": "2025-07-28T11:29:11.801082Z"
    },
    "papermill": {
     "duration": 0.136351,
     "end_time": "2025-07-28T11:29:11.803147",
     "exception": false,
     "start_time": "2025-07-28T11:29:11.666796",
     "status": "completed"
    },
    "tags": []
   },
   "outputs": [
    {
     "data": {
      "text/plain": [
       "0.8594916954631591"
      ]
     },
     "execution_count": 38,
     "metadata": {},
     "output_type": "execute_result"
    }
   ],
   "source": [
    "probs_test = model.predict_proba(X_test)\n",
    "\n",
    "'''\n",
    "Below code returns a boolean array (or binary 0/1 array depending on how it’s used) where each element \n",
    "is True if the probability of class 1 is greater than or equal to the threshold, and False otherwise.\n",
    "'''\n",
    "y_pred_default = predict_w_threshold(probs_test, 0.5)\n",
    "\n",
    "from sklearn.metrics import accuracy_score\n",
    "\n",
    "# Naive prediction\n",
    "accuracy_score(y_true = y_true, y_pred = y_pred_default)"
   ]
  },
  {
   "cell_type": "code",
   "execution_count": 39,
   "id": "081964c3",
   "metadata": {
    "execution": {
     "iopub.execute_input": "2025-07-28T11:29:11.828845Z",
     "iopub.status.busy": "2025-07-28T11:29:11.828117Z",
     "iopub.status.idle": "2025-07-28T11:29:11.911460Z",
     "shell.execute_reply": "2025-07-28T11:29:11.910711Z"
    },
    "papermill": {
     "duration": 0.097159,
     "end_time": "2025-07-28T11:29:11.912949",
     "exception": false,
     "start_time": "2025-07-28T11:29:11.815790",
     "status": "completed"
    },
    "tags": []
   },
   "outputs": [
    {
     "data": {
      "text/plain": [
       "array([0, 0, 0, ..., 0, 0, 0])"
      ]
     },
     "execution_count": 39,
     "metadata": {},
     "output_type": "execute_result"
    }
   ],
   "source": [
    "model.predict(X_test)"
   ]
  },
  {
   "cell_type": "markdown",
   "id": "56c9705b",
   "metadata": {
    "papermill": {
     "duration": 0.020338,
     "end_time": "2025-07-28T11:29:11.954706",
     "exception": false,
     "start_time": "2025-07-28T11:29:11.934368",
     "status": "completed"
    },
    "tags": []
   },
   "source": [
    "# Conformal Prediction"
   ]
  },
  {
   "cell_type": "code",
   "execution_count": 40,
   "id": "160ec6ff",
   "metadata": {
    "execution": {
     "iopub.execute_input": "2025-07-28T11:29:11.996959Z",
     "iopub.status.busy": "2025-07-28T11:29:11.996538Z",
     "iopub.status.idle": "2025-07-28T11:29:12.001630Z",
     "shell.execute_reply": "2025-07-28T11:29:12.000722Z"
    },
    "papermill": {
     "duration": 0.027994,
     "end_time": "2025-07-28T11:29:12.002978",
     "exception": false,
     "start_time": "2025-07-28T11:29:11.974984",
     "status": "completed"
    },
    "tags": []
   },
   "outputs": [],
   "source": [
    "# Miscoverage level for conformal prediction (10% allowed error rate => 90% target coverage)\n",
    "alpha = 0.1"
   ]
  },
  {
   "cell_type": "code",
   "execution_count": 41,
   "id": "eadf4555-3dd3-440e-8e35-f82a4ad9f855",
   "metadata": {
    "execution": {
     "iopub.execute_input": "2025-07-28T11:29:12.028199Z",
     "iopub.status.busy": "2025-07-28T11:29:12.027840Z",
     "iopub.status.idle": "2025-07-28T11:29:12.104816Z",
     "shell.execute_reply": "2025-07-28T11:29:12.104038Z"
    },
    "papermill": {
     "duration": 0.091072,
     "end_time": "2025-07-28T11:29:12.106642",
     "exception": false,
     "start_time": "2025-07-28T11:29:12.015570",
     "status": "completed"
    },
    "tags": []
   },
   "outputs": [],
   "source": [
    "probs_calib = model.predict_proba(X_calib)"
   ]
  },
  {
   "cell_type": "code",
   "execution_count": 42,
   "id": "2ed93547-6d5d-4983-9b36-1ecb300da49a",
   "metadata": {
    "execution": {
     "iopub.execute_input": "2025-07-28T11:29:12.149668Z",
     "iopub.status.busy": "2025-07-28T11:29:12.149354Z",
     "iopub.status.idle": "2025-07-28T11:29:12.153890Z",
     "shell.execute_reply": "2025-07-28T11:29:12.153137Z"
    },
    "papermill": {
     "duration": 0.027232,
     "end_time": "2025-07-28T11:29:12.155301",
     "exception": false,
     "start_time": "2025-07-28T11:29:12.128069",
     "status": "completed"
    },
    "tags": []
   },
   "outputs": [],
   "source": [
    "y_calib = y_calib.values.ravel().astype(int)"
   ]
  },
  {
   "cell_type": "code",
   "execution_count": 43,
   "id": "65d1320d-f588-4b38-9072-62af1ae97f7d",
   "metadata": {
    "execution": {
     "iopub.execute_input": "2025-07-28T11:29:12.198483Z",
     "iopub.status.busy": "2025-07-28T11:29:12.198242Z",
     "iopub.status.idle": "2025-07-28T11:29:12.203928Z",
     "shell.execute_reply": "2025-07-28T11:29:12.203176Z"
    },
    "papermill": {
     "duration": 0.028845,
     "end_time": "2025-07-28T11:29:12.205445",
     "exception": false,
     "start_time": "2025-07-28T11:29:12.176600",
     "status": "completed"
    },
    "tags": []
   },
   "outputs": [],
   "source": [
    "from fairness_multiverse.conformal import compute_nc_scores\n",
    "\n",
    "# Compute nonconformity scores on calibration set (1 - probability of true class)\n",
    "nc_scores = compute_nc_scores(probs_calib, y_calib)"
   ]
  },
  {
   "cell_type": "code",
   "execution_count": 44,
   "id": "df3b8ca3-53b7-43d5-9667-7c85da7aeda2",
   "metadata": {
    "execution": {
     "iopub.execute_input": "2025-07-28T11:29:12.249731Z",
     "iopub.status.busy": "2025-07-28T11:29:12.249378Z",
     "iopub.status.idle": "2025-07-28T11:29:12.254459Z",
     "shell.execute_reply": "2025-07-28T11:29:12.253676Z"
    },
    "papermill": {
     "duration": 0.028753,
     "end_time": "2025-07-28T11:29:12.255796",
     "exception": false,
     "start_time": "2025-07-28T11:29:12.227043",
     "status": "completed"
    },
    "tags": []
   },
   "outputs": [],
   "source": [
    "from fairness_multiverse.conformal import find_threshold\n",
    "\n",
    "# Find conformal threshold q_hat for the given alpha (split conformal method)\n",
    "q_hat = find_threshold(nc_scores, alpha)"
   ]
  },
  {
   "cell_type": "code",
   "execution_count": 45,
   "id": "4d29e6c1-0ef6-4aa4-b8fe-4fe79b0d033a",
   "metadata": {
    "execution": {
     "iopub.execute_input": "2025-07-28T11:29:12.299357Z",
     "iopub.status.busy": "2025-07-28T11:29:12.299118Z",
     "iopub.status.idle": "2025-07-28T11:29:12.304534Z",
     "shell.execute_reply": "2025-07-28T11:29:12.303695Z"
    },
    "papermill": {
     "duration": 0.028456,
     "end_time": "2025-07-28T11:29:12.306057",
     "exception": false,
     "start_time": "2025-07-28T11:29:12.277601",
     "status": "completed"
    },
    "tags": []
   },
   "outputs": [
    {
     "data": {
      "text/plain": [
       "0.6865219744626483"
      ]
     },
     "execution_count": 45,
     "metadata": {},
     "output_type": "execute_result"
    }
   ],
   "source": [
    "q_hat"
   ]
  },
  {
   "cell_type": "code",
   "execution_count": 46,
   "id": "92460794-cdac-4be2-ba28-f28c0515a6fb",
   "metadata": {
    "execution": {
     "iopub.execute_input": "2025-07-28T11:29:12.349907Z",
     "iopub.status.busy": "2025-07-28T11:29:12.349655Z",
     "iopub.status.idle": "2025-07-28T11:29:12.902608Z",
     "shell.execute_reply": "2025-07-28T11:29:12.901770Z"
    },
    "papermill": {
     "duration": 0.576954,
     "end_time": "2025-07-28T11:29:12.904442",
     "exception": false,
     "start_time": "2025-07-28T11:29:12.327488",
     "status": "completed"
    },
    "tags": []
   },
   "outputs": [],
   "source": [
    "from fairness_multiverse.conformal import predict_conformal_sets\n",
    "\n",
    "# Generate prediction sets for each test example\n",
    "pred_sets = predict_conformal_sets(model, X_test, q_hat)"
   ]
  },
  {
   "cell_type": "code",
   "execution_count": 47,
   "id": "d90c9a65-e6db-4f5d-80cd-e68fb7e46829",
   "metadata": {
    "execution": {
     "iopub.execute_input": "2025-07-28T11:29:12.930759Z",
     "iopub.status.busy": "2025-07-28T11:29:12.930442Z",
     "iopub.status.idle": "2025-07-28T11:29:12.935300Z",
     "shell.execute_reply": "2025-07-28T11:29:12.934345Z"
    },
    "papermill": {
     "duration": 0.019211,
     "end_time": "2025-07-28T11:29:12.936787",
     "exception": false,
     "start_time": "2025-07-28T11:29:12.917576",
     "status": "completed"
    },
    "tags": []
   },
   "outputs": [],
   "source": [
    "y_true = y_true.squeeze()"
   ]
  },
  {
   "cell_type": "code",
   "execution_count": 48,
   "id": "3a58a54a-1e68-46b9-927a-df01f18aebc8",
   "metadata": {
    "execution": {
     "iopub.execute_input": "2025-07-28T11:29:12.980568Z",
     "iopub.status.busy": "2025-07-28T11:29:12.980288Z",
     "iopub.status.idle": "2025-07-28T11:29:13.493277Z",
     "shell.execute_reply": "2025-07-28T11:29:13.492466Z"
    },
    "papermill": {
     "duration": 0.53674,
     "end_time": "2025-07-28T11:29:13.495042",
     "exception": false,
     "start_time": "2025-07-28T11:29:12.958302",
     "status": "completed"
    },
    "tags": []
   },
   "outputs": [],
   "source": [
    "from fairness_multiverse.conformal import evaluate_sets\n",
    "\n",
    "# Evaluate coverage and average set size on test data\n",
    "metrics = evaluate_sets(pred_sets, y_true)"
   ]
  },
  {
   "cell_type": "markdown",
   "id": "2b569c12-9aaa-4c88-98c9-bbcd0cf3ebb8",
   "metadata": {
    "papermill": {
     "duration": 0.021056,
     "end_time": "2025-07-28T11:29:13.539485",
     "exception": false,
     "start_time": "2025-07-28T11:29:13.518429",
     "status": "completed"
    },
    "tags": []
   },
   "source": [
    "# CP Metrics"
   ]
  },
  {
   "cell_type": "code",
   "execution_count": 49,
   "id": "5ce0a5cb-201f-45a0-ade5-94c7f0bd6095",
   "metadata": {
    "execution": {
     "iopub.execute_input": "2025-07-28T11:29:13.584300Z",
     "iopub.status.busy": "2025-07-28T11:29:13.583929Z",
     "iopub.status.idle": "2025-07-28T11:29:13.589803Z",
     "shell.execute_reply": "2025-07-28T11:29:13.588951Z"
    },
    "papermill": {
     "duration": 0.028944,
     "end_time": "2025-07-28T11:29:13.590887",
     "exception": false,
     "start_time": "2025-07-28T11:29:13.561943",
     "status": "completed"
    },
    "tags": []
   },
   "outputs": [
    {
     "data": {
      "text/plain": [
       "{'coverage': 0.9112807936684874, 'avg_size': 1.1322037676959091}"
      ]
     },
     "execution_count": 49,
     "metadata": {},
     "output_type": "execute_result"
    }
   ],
   "source": [
    "metrics"
   ]
  },
  {
   "cell_type": "code",
   "execution_count": 50,
   "id": "9b9a838d-31c9-430b-ae14-12baee460d17",
   "metadata": {
    "execution": {
     "iopub.execute_input": "2025-07-28T11:29:13.616607Z",
     "iopub.status.busy": "2025-07-28T11:29:13.616212Z",
     "iopub.status.idle": "2025-07-28T11:29:13.621964Z",
     "shell.execute_reply": "2025-07-28T11:29:13.621178Z"
    },
    "papermill": {
     "duration": 0.019953,
     "end_time": "2025-07-28T11:29:13.623216",
     "exception": false,
     "start_time": "2025-07-28T11:29:13.603263",
     "status": "completed"
    },
    "tags": []
   },
   "outputs": [],
   "source": [
    "example_universe = universe.copy()\n",
    "universe_training_size = example_universe.get(\"training_size\")\n",
    "universe_scale = example_universe.get(\"scale\")\n",
    "universe_model = example_universe.get(\"model\")\n",
    "universe_exclude_features = example_universe.get(\"exclude_features\")\n",
    "universe_exclude_subgroups = example_universe.get(\"exclude_subgroups\")"
   ]
  },
  {
   "cell_type": "code",
   "execution_count": 51,
   "id": "f4b6a8ac-9dc0-4245-8a91-5b3b5999c4f9",
   "metadata": {
    "execution": {
     "iopub.execute_input": "2025-07-28T11:29:13.649191Z",
     "iopub.status.busy": "2025-07-28T11:29:13.648693Z",
     "iopub.status.idle": "2025-07-28T11:29:13.653645Z",
     "shell.execute_reply": "2025-07-28T11:29:13.652914Z"
    },
    "papermill": {
     "duration": 0.019108,
     "end_time": "2025-07-28T11:29:13.654802",
     "exception": false,
     "start_time": "2025-07-28T11:29:13.635694",
     "status": "completed"
    },
    "tags": []
   },
   "outputs": [],
   "source": [
    "cp_metrics_dict = {\n",
    "    \"universe_id\": [universe_id],\n",
    "    \"universe_training_size\": [universe_training_size],\n",
    "    \"universe_scale\": [universe_scale],\n",
    "    \"universe_model\": [universe_model],\n",
    "    \"universe_exclude_features\": [universe_exclude_features],\n",
    "    \"universe_exclude_subgroups\": [universe_exclude_subgroups],\n",
    "    \"q_hat\": [q_hat],\n",
    "    \"coverage\": [metrics[\"coverage\"]],\n",
    "    \"avg_size\": [metrics[\"avg_size\"]],\n",
    "}"
   ]
  },
  {
   "cell_type": "code",
   "execution_count": 52,
   "id": "908acbb1-0371-4915-85ca-3fa520d2efe2",
   "metadata": {
    "execution": {
     "iopub.execute_input": "2025-07-28T11:29:13.680612Z",
     "iopub.status.busy": "2025-07-28T11:29:13.680015Z",
     "iopub.status.idle": "2025-07-28T11:29:13.685712Z",
     "shell.execute_reply": "2025-07-28T11:29:13.685039Z"
    },
    "papermill": {
     "duration": 0.019704,
     "end_time": "2025-07-28T11:29:13.686858",
     "exception": false,
     "start_time": "2025-07-28T11:29:13.667154",
     "status": "completed"
    },
    "tags": []
   },
   "outputs": [
    {
     "data": {
      "text/plain": [
       "{'universe_id': ['35a39ee6cb5e5cd421a77adb5ec0afa6'],\n",
       " 'universe_training_size': ['2014'],\n",
       " 'universe_scale': ['do-not-scale'],\n",
       " 'universe_model': ['elasticnet'],\n",
       " 'universe_exclude_features': ['nationality-sex'],\n",
       " 'universe_exclude_subgroups': ['keep-all'],\n",
       " 'q_hat': [0.6865219744626483],\n",
       " 'coverage': [0.9112807936684874],\n",
       " 'avg_size': [1.1322037676959091]}"
      ]
     },
     "execution_count": 52,
     "metadata": {},
     "output_type": "execute_result"
    }
   ],
   "source": [
    "cp_metrics_dict"
   ]
  },
  {
   "cell_type": "code",
   "execution_count": 53,
   "id": "33007efc-14e9-4ec6-97ac-56a455c82265",
   "metadata": {
    "execution": {
     "iopub.execute_input": "2025-07-28T11:29:13.712849Z",
     "iopub.status.busy": "2025-07-28T11:29:13.712365Z",
     "iopub.status.idle": "2025-07-28T11:29:13.717116Z",
     "shell.execute_reply": "2025-07-28T11:29:13.716329Z"
    },
    "papermill": {
     "duration": 0.018981,
     "end_time": "2025-07-28T11:29:13.718285",
     "exception": false,
     "start_time": "2025-07-28T11:29:13.699304",
     "status": "completed"
    },
    "tags": []
   },
   "outputs": [],
   "source": [
    "cp_metrics_df = pd.DataFrame(cp_metrics_dict)"
   ]
  },
  {
   "cell_type": "code",
   "execution_count": 54,
   "id": "db12611b-57b2-4910-b9d0-355adfd6e7bf",
   "metadata": {
    "execution": {
     "iopub.execute_input": "2025-07-28T11:29:13.744328Z",
     "iopub.status.busy": "2025-07-28T11:29:13.743693Z",
     "iopub.status.idle": "2025-07-28T11:29:13.756674Z",
     "shell.execute_reply": "2025-07-28T11:29:13.755903Z"
    },
    "papermill": {
     "duration": 0.027256,
     "end_time": "2025-07-28T11:29:13.757807",
     "exception": false,
     "start_time": "2025-07-28T11:29:13.730551",
     "status": "completed"
    },
    "tags": []
   },
   "outputs": [
    {
     "data": {
      "text/html": [
       "<div>\n",
       "<style scoped>\n",
       "    .dataframe tbody tr th:only-of-type {\n",
       "        vertical-align: middle;\n",
       "    }\n",
       "\n",
       "    .dataframe tbody tr th {\n",
       "        vertical-align: top;\n",
       "    }\n",
       "\n",
       "    .dataframe thead th {\n",
       "        text-align: right;\n",
       "    }\n",
       "</style>\n",
       "<table border=\"1\" class=\"dataframe\">\n",
       "  <thead>\n",
       "    <tr style=\"text-align: right;\">\n",
       "      <th></th>\n",
       "      <th>universe_id</th>\n",
       "      <th>universe_training_size</th>\n",
       "      <th>universe_scale</th>\n",
       "      <th>universe_model</th>\n",
       "      <th>universe_exclude_features</th>\n",
       "      <th>universe_exclude_subgroups</th>\n",
       "      <th>q_hat</th>\n",
       "      <th>coverage</th>\n",
       "      <th>avg_size</th>\n",
       "    </tr>\n",
       "  </thead>\n",
       "  <tbody>\n",
       "    <tr>\n",
       "      <th>0</th>\n",
       "      <td>35a39ee6cb5e5cd421a77adb5ec0afa6</td>\n",
       "      <td>2014</td>\n",
       "      <td>do-not-scale</td>\n",
       "      <td>elasticnet</td>\n",
       "      <td>nationality-sex</td>\n",
       "      <td>keep-all</td>\n",
       "      <td>0.686522</td>\n",
       "      <td>0.911281</td>\n",
       "      <td>1.132204</td>\n",
       "    </tr>\n",
       "  </tbody>\n",
       "</table>\n",
       "</div>"
      ],
      "text/plain": [
       "                        universe_id universe_training_size universe_scale  \\\n",
       "0  35a39ee6cb5e5cd421a77adb5ec0afa6                   2014   do-not-scale   \n",
       "\n",
       "  universe_model universe_exclude_features universe_exclude_subgroups  \\\n",
       "0     elasticnet           nationality-sex                   keep-all   \n",
       "\n",
       "      q_hat  coverage  avg_size  \n",
       "0  0.686522  0.911281  1.132204  "
      ]
     },
     "execution_count": 54,
     "metadata": {},
     "output_type": "execute_result"
    }
   ],
   "source": [
    "cp_metrics_df"
   ]
  },
  {
   "cell_type": "code",
   "execution_count": 55,
   "id": "b7fbde55-a0a1-47e4-9af6-fe4a17fa8c61",
   "metadata": {
    "execution": {
     "iopub.execute_input": "2025-07-28T11:29:13.783754Z",
     "iopub.status.busy": "2025-07-28T11:29:13.783307Z",
     "iopub.status.idle": "2025-07-28T11:29:13.787054Z",
     "shell.execute_reply": "2025-07-28T11:29:13.786386Z"
    },
    "papermill": {
     "duration": 0.017849,
     "end_time": "2025-07-28T11:29:13.788203",
     "exception": false,
     "start_time": "2025-07-28T11:29:13.770354",
     "status": "completed"
    },
    "tags": []
   },
   "outputs": [],
   "source": [
    "# Conditional Coverage & looking at subgroups"
   ]
  },
  {
   "cell_type": "code",
   "execution_count": 56,
   "id": "027ae886-68dd-4141-96c7-805a5450e1ef",
   "metadata": {
    "execution": {
     "iopub.execute_input": "2025-07-28T11:29:13.814215Z",
     "iopub.status.busy": "2025-07-28T11:29:13.813792Z",
     "iopub.status.idle": "2025-07-28T11:29:13.995545Z",
     "shell.execute_reply": "2025-07-28T11:29:13.994666Z"
    },
    "papermill": {
     "duration": 0.196389,
     "end_time": "2025-07-28T11:29:13.997060",
     "exception": false,
     "start_time": "2025-07-28T11:29:13.800671",
     "status": "completed"
    },
    "tags": []
   },
   "outputs": [],
   "source": [
    "from fairness_multiverse.conformal import build_cp_groups\n",
    "\n",
    "cp_groups_df = build_cp_groups(pred_sets, y_true, X_test.index, org_test)\n",
    "#needs universe_id and setting"
   ]
  },
  {
   "cell_type": "code",
   "execution_count": 57,
   "id": "01d5802c-663a-4d1f-9d69-e036faaffbf7",
   "metadata": {
    "execution": {
     "iopub.execute_input": "2025-07-28T11:29:14.024321Z",
     "iopub.status.busy": "2025-07-28T11:29:14.023573Z",
     "iopub.status.idle": "2025-07-28T11:29:14.027753Z",
     "shell.execute_reply": "2025-07-28T11:29:14.027071Z"
    },
    "papermill": {
     "duration": 0.018879,
     "end_time": "2025-07-28T11:29:14.029257",
     "exception": false,
     "start_time": "2025-07-28T11:29:14.010378",
     "status": "completed"
    },
    "tags": []
   },
   "outputs": [],
   "source": [
    "#delete\n",
    "#cp_groups_df"
   ]
  },
  {
   "cell_type": "code",
   "execution_count": 58,
   "id": "fa424af1-d1eb-443d-b717-2d279ada8408",
   "metadata": {
    "execution": {
     "iopub.execute_input": "2025-07-28T11:29:14.076010Z",
     "iopub.status.busy": "2025-07-28T11:29:14.075668Z",
     "iopub.status.idle": "2025-07-28T11:29:14.079645Z",
     "shell.execute_reply": "2025-07-28T11:29:14.078863Z"
    },
    "papermill": {
     "duration": 0.029523,
     "end_time": "2025-07-28T11:29:14.081091",
     "exception": false,
     "start_time": "2025-07-28T11:29:14.051568",
     "status": "completed"
    },
    "tags": []
   },
   "outputs": [],
   "source": [
    "#delete\n",
    "#percentage = (cp_groups_df['nongerman_female'] == 1).mean() * 100\n",
    "#print(percentage)\n"
   ]
  },
  {
   "cell_type": "code",
   "execution_count": 59,
   "id": "6cbdab96-b2b2-45af-ad54-d0516db2e28d",
   "metadata": {
    "execution": {
     "iopub.execute_input": "2025-07-28T11:29:14.128156Z",
     "iopub.status.busy": "2025-07-28T11:29:14.127652Z",
     "iopub.status.idle": "2025-07-28T11:29:15.093331Z",
     "shell.execute_reply": "2025-07-28T11:29:15.092474Z"
    },
    "papermill": {
     "duration": 0.991225,
     "end_time": "2025-07-28T11:29:15.094892",
     "exception": false,
     "start_time": "2025-07-28T11:29:14.103667",
     "status": "completed"
    },
    "tags": []
   },
   "outputs": [],
   "source": [
    "# Define covered = 1 if true_label is in the predicted set\n",
    "cp_groups_df['covered'] = cp_groups_df.apply(\n",
    "    lambda r: int(r['true_label'] in r['pred_set']),\n",
    "    axis=1\n",
    ")"
   ]
  },
  {
   "cell_type": "code",
   "execution_count": 60,
   "id": "338ff529-1a6b-4b87-a931-8e4788d52aad",
   "metadata": {
    "execution": {
     "iopub.execute_input": "2025-07-28T11:29:15.122640Z",
     "iopub.status.busy": "2025-07-28T11:29:15.122284Z",
     "iopub.status.idle": "2025-07-28T11:29:15.126204Z",
     "shell.execute_reply": "2025-07-28T11:29:15.125498Z"
    },
    "papermill": {
     "duration": 0.019014,
     "end_time": "2025-07-28T11:29:15.127444",
     "exception": false,
     "start_time": "2025-07-28T11:29:15.108430",
     "status": "completed"
    },
    "tags": []
   },
   "outputs": [],
   "source": [
    "#cp_groups_df"
   ]
  },
  {
   "cell_type": "code",
   "execution_count": 61,
   "id": "90032e27-66df-4540-9169-4e89cfbaa758",
   "metadata": {
    "execution": {
     "iopub.execute_input": "2025-07-28T11:29:15.154307Z",
     "iopub.status.busy": "2025-07-28T11:29:15.153944Z",
     "iopub.status.idle": "2025-07-28T11:29:15.164248Z",
     "shell.execute_reply": "2025-07-28T11:29:15.163429Z"
    },
    "papermill": {
     "duration": 0.025028,
     "end_time": "2025-07-28T11:29:15.165513",
     "exception": false,
     "start_time": "2025-07-28T11:29:15.140485",
     "status": "completed"
    },
    "tags": []
   },
   "outputs": [],
   "source": [
    "subgroups = ['frau1','nongerman','nongerman_male','nongerman_female']\n",
    "\n",
    "# Conditional coverage for subgroup==1\n",
    "cond_coverage = {\n",
    "    g: cp_groups_df.loc[cp_groups_df[g]==1, 'covered'].mean()\n",
    "    for g in subgroups\n",
    "}"
   ]
  },
  {
   "cell_type": "code",
   "execution_count": 62,
   "id": "1e348fb1-b9c3-45bc-ba23-f016827a7e0d",
   "metadata": {
    "execution": {
     "iopub.execute_input": "2025-07-28T11:29:15.192880Z",
     "iopub.status.busy": "2025-07-28T11:29:15.192531Z",
     "iopub.status.idle": "2025-07-28T11:29:15.198884Z",
     "shell.execute_reply": "2025-07-28T11:29:15.198103Z"
    },
    "papermill": {
     "duration": 0.021639,
     "end_time": "2025-07-28T11:29:15.200227",
     "exception": false,
     "start_time": "2025-07-28T11:29:15.178588",
     "status": "completed"
    },
    "tags": []
   },
   "outputs": [
    {
     "data": {
      "text/plain": [
       "{'frau1': 0.910338320528373,\n",
       " 'nongerman': 0.9070903272890586,\n",
       " 'nongerman_male': 0.9228136539673962,\n",
       " 'nongerman_female': 0.8810730253353204}"
      ]
     },
     "execution_count": 62,
     "metadata": {},
     "output_type": "execute_result"
    }
   ],
   "source": [
    "cond_coverage"
   ]
  },
  {
   "cell_type": "code",
   "execution_count": 63,
   "id": "f5093324-c3dd-4d63-bc4c-8d945e5c8bbb",
   "metadata": {
    "execution": {
     "iopub.execute_input": "2025-07-28T11:29:15.227462Z",
     "iopub.status.busy": "2025-07-28T11:29:15.227129Z",
     "iopub.status.idle": "2025-07-28T11:29:15.233971Z",
     "shell.execute_reply": "2025-07-28T11:29:15.233141Z"
    },
    "papermill": {
     "duration": 0.021889,
     "end_time": "2025-07-28T11:29:15.235404",
     "exception": false,
     "start_time": "2025-07-28T11:29:15.213515",
     "status": "completed"
    },
    "tags": []
   },
   "outputs": [],
   "source": [
    "for subgroup, cov in cond_coverage.items():\n",
    "    cp_metrics_df[f\"cov_{subgroup}\"] = cov"
   ]
  },
  {
   "cell_type": "code",
   "execution_count": 64,
   "id": "6e872e10-dbe5-49e8-b554-5030c98ff75d",
   "metadata": {
    "execution": {
     "iopub.execute_input": "2025-07-28T11:29:15.283354Z",
     "iopub.status.busy": "2025-07-28T11:29:15.282967Z",
     "iopub.status.idle": "2025-07-28T11:29:15.299208Z",
     "shell.execute_reply": "2025-07-28T11:29:15.298421Z"
    },
    "papermill": {
     "duration": 0.042296,
     "end_time": "2025-07-28T11:29:15.300688",
     "exception": false,
     "start_time": "2025-07-28T11:29:15.258392",
     "status": "completed"
    },
    "tags": []
   },
   "outputs": [
    {
     "data": {
      "text/html": [
       "<div>\n",
       "<style scoped>\n",
       "    .dataframe tbody tr th:only-of-type {\n",
       "        vertical-align: middle;\n",
       "    }\n",
       "\n",
       "    .dataframe tbody tr th {\n",
       "        vertical-align: top;\n",
       "    }\n",
       "\n",
       "    .dataframe thead th {\n",
       "        text-align: right;\n",
       "    }\n",
       "</style>\n",
       "<table border=\"1\" class=\"dataframe\">\n",
       "  <thead>\n",
       "    <tr style=\"text-align: right;\">\n",
       "      <th></th>\n",
       "      <th>universe_id</th>\n",
       "      <th>universe_training_size</th>\n",
       "      <th>universe_scale</th>\n",
       "      <th>universe_model</th>\n",
       "      <th>universe_exclude_features</th>\n",
       "      <th>universe_exclude_subgroups</th>\n",
       "      <th>q_hat</th>\n",
       "      <th>coverage</th>\n",
       "      <th>avg_size</th>\n",
       "      <th>cov_frau1</th>\n",
       "      <th>cov_nongerman</th>\n",
       "      <th>cov_nongerman_male</th>\n",
       "      <th>cov_nongerman_female</th>\n",
       "    </tr>\n",
       "  </thead>\n",
       "  <tbody>\n",
       "    <tr>\n",
       "      <th>0</th>\n",
       "      <td>35a39ee6cb5e5cd421a77adb5ec0afa6</td>\n",
       "      <td>2014</td>\n",
       "      <td>do-not-scale</td>\n",
       "      <td>elasticnet</td>\n",
       "      <td>nationality-sex</td>\n",
       "      <td>keep-all</td>\n",
       "      <td>0.686522</td>\n",
       "      <td>0.911281</td>\n",
       "      <td>1.132204</td>\n",
       "      <td>0.910338</td>\n",
       "      <td>0.90709</td>\n",
       "      <td>0.922814</td>\n",
       "      <td>0.881073</td>\n",
       "    </tr>\n",
       "  </tbody>\n",
       "</table>\n",
       "</div>"
      ],
      "text/plain": [
       "                        universe_id universe_training_size universe_scale  \\\n",
       "0  35a39ee6cb5e5cd421a77adb5ec0afa6                   2014   do-not-scale   \n",
       "\n",
       "  universe_model universe_exclude_features universe_exclude_subgroups  \\\n",
       "0     elasticnet           nationality-sex                   keep-all   \n",
       "\n",
       "      q_hat  coverage  avg_size  cov_frau1  cov_nongerman  cov_nongerman_male  \\\n",
       "0  0.686522  0.911281  1.132204   0.910338        0.90709            0.922814   \n",
       "\n",
       "   cov_nongerman_female  \n",
       "0              0.881073  "
      ]
     },
     "execution_count": 64,
     "metadata": {},
     "output_type": "execute_result"
    }
   ],
   "source": [
    "cp_metrics_df"
   ]
  },
  {
   "cell_type": "markdown",
   "id": "33774451",
   "metadata": {
    "papermill": {
     "duration": 0.023919,
     "end_time": "2025-07-28T11:29:15.348249",
     "exception": false,
     "start_time": "2025-07-28T11:29:15.324330",
     "status": "completed"
    },
    "tags": []
   },
   "source": [
    "# (Fairness) Metrics"
   ]
  },
  {
   "cell_type": "code",
   "execution_count": 65,
   "id": "debc5d62",
   "metadata": {
    "execution": {
     "iopub.execute_input": "2025-07-28T11:29:15.376615Z",
     "iopub.status.busy": "2025-07-28T11:29:15.376128Z",
     "iopub.status.idle": "2025-07-28T11:29:15.398396Z",
     "shell.execute_reply": "2025-07-28T11:29:15.397620Z"
    },
    "papermill": {
     "duration": 0.038033,
     "end_time": "2025-07-28T11:29:15.399718",
     "exception": false,
     "start_time": "2025-07-28T11:29:15.361685",
     "status": "completed"
    },
    "tags": []
   },
   "outputs": [],
   "source": [
    "# do I need to include maxdeutsch1.missing?\n",
    "\n",
    "import numpy as np\n",
    "\n",
    "colname_to_bin = \"maxdeutsch1\"\n",
    "majority_value = org_train[colname_to_bin].mode()[0]\n",
    "\n",
    "org_test[\"majmin\"] = np.where(org_test[colname_to_bin] == majority_value, \"majority\", \"minority\")"
   ]
  },
  {
   "cell_type": "code",
   "execution_count": 66,
   "id": "06a50de5",
   "metadata": {
    "execution": {
     "iopub.execute_input": "2025-07-28T11:29:15.428224Z",
     "iopub.status.busy": "2025-07-28T11:29:15.427751Z",
     "iopub.status.idle": "2025-07-28T11:29:17.018237Z",
     "shell.execute_reply": "2025-07-28T11:29:17.017478Z"
    },
    "papermill": {
     "duration": 1.606546,
     "end_time": "2025-07-28T11:29:17.019953",
     "exception": false,
     "start_time": "2025-07-28T11:29:15.413407",
     "status": "completed"
    },
    "tags": []
   },
   "outputs": [],
   "source": [
    "example_universe = universe.copy()\n",
    "example_universe[\"cutoff\"] = example_universe[\"cutoff\"][0]\n",
    "example_universe[\"eval_fairness_grouping\"] = example_universe[\"eval_fairness_grouping\"][0]\n",
    "fairness_dict, metric_frame = universe_analysis.compute_metrics(\n",
    "    example_universe,\n",
    "    y_pred_prob=probs_test,\n",
    "    y_test=y_true,\n",
    "    org_test=org_test,\n",
    ")"
   ]
  },
  {
   "cell_type": "markdown",
   "id": "f95d4e02",
   "metadata": {
    "papermill": {
     "duration": 0.02311,
     "end_time": "2025-07-28T11:29:17.067513",
     "exception": false,
     "start_time": "2025-07-28T11:29:17.044403",
     "status": "completed"
    },
    "tags": []
   },
   "source": [
    "# Overall"
   ]
  },
  {
   "cell_type": "markdown",
   "id": "bdee4871",
   "metadata": {
    "papermill": {
     "duration": 0.022923,
     "end_time": "2025-07-28T11:29:17.113373",
     "exception": false,
     "start_time": "2025-07-28T11:29:17.090450",
     "status": "completed"
    },
    "tags": []
   },
   "source": [
    "Fairness\n",
    "Main fairness target: Equalized Odds. Seems to be a better fit than equal opportunity, since we're not only interested in Y = 1. Seems to be a better fit than demographic parity, since we also care about accuracy, not just equal distribution of preds.\n",
    "\n",
    "Pick column for computation of fairness metrics\n",
    "\n",
    "Performance\n",
    "Overall performance measures, most interesting in relation to the measures split by group below"
   ]
  },
  {
   "cell_type": "code",
   "execution_count": 67,
   "id": "c4e067c6",
   "metadata": {
    "execution": {
     "iopub.execute_input": "2025-07-28T11:29:17.153432Z",
     "iopub.status.busy": "2025-07-28T11:29:17.152987Z",
     "iopub.status.idle": "2025-07-28T11:29:17.161048Z",
     "shell.execute_reply": "2025-07-28T11:29:17.160205Z"
    },
    "papermill": {
     "duration": 0.026115,
     "end_time": "2025-07-28T11:29:17.162518",
     "exception": false,
     "start_time": "2025-07-28T11:29:17.136403",
     "status": "completed"
    },
    "tags": []
   },
   "outputs": [
    {
     "data": {
      "text/plain": [
       "accuracy                   0.221480\n",
       "balanced accuracy          0.542156\n",
       "f1                         0.242891\n",
       "precision                  0.138756\n",
       "false positive rate        0.889184\n",
       "false negative rate        0.026503\n",
       "selection rate             0.900000\n",
       "count                  89710.000000\n",
       "dtype: float64"
      ]
     },
     "execution_count": 67,
     "metadata": {},
     "output_type": "execute_result"
    }
   ],
   "source": [
    "metric_frame.overall"
   ]
  },
  {
   "cell_type": "markdown",
   "id": "e968fe9d",
   "metadata": {
    "papermill": {
     "duration": 0.023809,
     "end_time": "2025-07-28T11:29:17.210088",
     "exception": false,
     "start_time": "2025-07-28T11:29:17.186279",
     "status": "completed"
    },
    "tags": []
   },
   "source": [
    "By Group"
   ]
  },
  {
   "cell_type": "code",
   "execution_count": 68,
   "id": "ec325bce",
   "metadata": {
    "execution": {
     "iopub.execute_input": "2025-07-28T11:29:17.259851Z",
     "iopub.status.busy": "2025-07-28T11:29:17.259427Z",
     "iopub.status.idle": "2025-07-28T11:29:17.274260Z",
     "shell.execute_reply": "2025-07-28T11:29:17.273473Z"
    },
    "papermill": {
     "duration": 0.041366,
     "end_time": "2025-07-28T11:29:17.275774",
     "exception": false,
     "start_time": "2025-07-28T11:29:17.234408",
     "status": "completed"
    },
    "tags": []
   },
   "outputs": [
    {
     "data": {
      "text/html": [
       "<div>\n",
       "<style scoped>\n",
       "    .dataframe tbody tr th:only-of-type {\n",
       "        vertical-align: middle;\n",
       "    }\n",
       "\n",
       "    .dataframe tbody tr th {\n",
       "        vertical-align: top;\n",
       "    }\n",
       "\n",
       "    .dataframe thead th {\n",
       "        text-align: right;\n",
       "    }\n",
       "</style>\n",
       "<table border=\"1\" class=\"dataframe\">\n",
       "  <thead>\n",
       "    <tr style=\"text-align: right;\">\n",
       "      <th></th>\n",
       "      <th>accuracy</th>\n",
       "      <th>balanced accuracy</th>\n",
       "      <th>f1</th>\n",
       "      <th>precision</th>\n",
       "      <th>false positive rate</th>\n",
       "      <th>false negative rate</th>\n",
       "      <th>selection rate</th>\n",
       "      <th>count</th>\n",
       "    </tr>\n",
       "    <tr>\n",
       "      <th>majmin</th>\n",
       "      <th></th>\n",
       "      <th></th>\n",
       "      <th></th>\n",
       "      <th></th>\n",
       "      <th></th>\n",
       "      <th></th>\n",
       "      <th></th>\n",
       "      <th></th>\n",
       "    </tr>\n",
       "  </thead>\n",
       "  <tbody>\n",
       "    <tr>\n",
       "      <th>majority</th>\n",
       "      <td>0.243371</td>\n",
       "      <td>0.551749</td>\n",
       "      <td>0.253239</td>\n",
       "      <td>0.145609</td>\n",
       "      <td>0.867400</td>\n",
       "      <td>0.029103</td>\n",
       "      <td>0.881076</td>\n",
       "      <td>69170.0</td>\n",
       "    </tr>\n",
       "    <tr>\n",
       "      <th>minority</th>\n",
       "      <td>0.147760</td>\n",
       "      <td>0.511191</td>\n",
       "      <td>0.210170</td>\n",
       "      <td>0.117656</td>\n",
       "      <td>0.961149</td>\n",
       "      <td>0.016470</td>\n",
       "      <td>0.963729</td>\n",
       "      <td>20540.0</td>\n",
       "    </tr>\n",
       "  </tbody>\n",
       "</table>\n",
       "</div>"
      ],
      "text/plain": [
       "          accuracy  balanced accuracy        f1  precision  \\\n",
       "majmin                                                       \n",
       "majority  0.243371           0.551749  0.253239   0.145609   \n",
       "minority  0.147760           0.511191  0.210170   0.117656   \n",
       "\n",
       "          false positive rate  false negative rate  selection rate    count  \n",
       "majmin                                                                       \n",
       "majority             0.867400             0.029103        0.881076  69170.0  \n",
       "minority             0.961149             0.016470        0.963729  20540.0  "
      ]
     },
     "execution_count": 68,
     "metadata": {},
     "output_type": "execute_result"
    }
   ],
   "source": [
    "metric_frame.by_group"
   ]
  },
  {
   "cell_type": "code",
   "execution_count": 69,
   "id": "a9ddbe63",
   "metadata": {
    "execution": {
     "iopub.execute_input": "2025-07-28T11:29:17.316918Z",
     "iopub.status.busy": "2025-07-28T11:29:17.316402Z",
     "iopub.status.idle": "2025-07-28T11:29:19.074537Z",
     "shell.execute_reply": "2025-07-28T11:29:19.073774Z"
    },
    "papermill": {
     "duration": 1.774268,
     "end_time": "2025-07-28T11:29:19.075977",
     "exception": false,
     "start_time": "2025-07-28T11:29:17.301709",
     "status": "completed"
    },
    "tags": []
   },
   "outputs": [
    {
     "data": {
      "text/plain": [
       "array([[<Axes: title={'center': 'accuracy'}, xlabel='majmin'>,\n",
       "        <Axes: title={'center': 'balanced accuracy'}, xlabel='majmin'>,\n",
       "        <Axes: title={'center': 'f1'}, xlabel='majmin'>],\n",
       "       [<Axes: title={'center': 'precision'}, xlabel='majmin'>,\n",
       "        <Axes: title={'center': 'false positive rate'}, xlabel='majmin'>,\n",
       "        <Axes: title={'center': 'false negative rate'}, xlabel='majmin'>],\n",
       "       [<Axes: title={'center': 'selection rate'}, xlabel='majmin'>,\n",
       "        <Axes: title={'center': 'count'}, xlabel='majmin'>,\n",
       "        <Axes: xlabel='majmin'>]], dtype=object)"
      ]
     },
     "execution_count": 69,
     "metadata": {},
     "output_type": "execute_result"
    },
    {
     "data": {
      "image/png": "[encoded data removed]",
      "text/plain": [
       "<Figure size 1200x800 with 9 Axes>"
      ]
     },
     "metadata": {},
     "output_type": "display_data"
    }
   ],
   "source": [
    "# In a graphic\n",
    "metric_frame.by_group.plot.bar(\n",
    "    subplots=True,\n",
    "    layout=[3, 3],\n",
    "    legend=False,\n",
    "    figsize=[12, 8],\n",
    "    title=\"Show all metrics\",\n",
    ")"
   ]
  },
  {
   "cell_type": "markdown",
   "id": "f57a0bac",
   "metadata": {
    "papermill": {
     "duration": 0.02593,
     "end_time": "2025-07-28T11:29:19.128319",
     "exception": false,
     "start_time": "2025-07-28T11:29:19.102389",
     "status": "completed"
    },
    "tags": []
   },
   "source": [
    "# Final Output"
   ]
  },
  {
   "cell_type": "code",
   "execution_count": 70,
   "id": "96d280a3",
   "metadata": {
    "execution": {
     "iopub.execute_input": "2025-07-28T11:29:19.181969Z",
     "iopub.status.busy": "2025-07-28T11:29:19.181158Z",
     "iopub.status.idle": "2025-07-28T11:29:19.187697Z",
     "shell.execute_reply": "2025-07-28T11:29:19.186887Z"
    },
    "papermill": {
     "duration": 0.034918,
     "end_time": "2025-07-28T11:29:19.189358",
     "exception": false,
     "start_time": "2025-07-28T11:29:19.154440",
     "status": "completed"
    },
    "tags": []
   },
   "outputs": [
    {
     "data": {
      "text/plain": [
       "4"
      ]
     },
     "execution_count": 70,
     "metadata": {},
     "output_type": "execute_result"
    }
   ],
   "source": [
    "sub_universes = universe_analysis.generate_sub_universes()\n",
    "len(sub_universes)"
   ]
  },
  {
   "cell_type": "code",
   "execution_count": 71,
   "id": "92adf7ba",
   "metadata": {
    "execution": {
     "iopub.execute_input": "2025-07-28T11:29:19.224474Z",
     "iopub.status.busy": "2025-07-28T11:29:19.223904Z",
     "iopub.status.idle": "2025-07-28T11:29:19.229859Z",
     "shell.execute_reply": "2025-07-28T11:29:19.229164Z"
    },
    "papermill": {
     "duration": 0.023242,
     "end_time": "2025-07-28T11:29:19.231017",
     "exception": false,
     "start_time": "2025-07-28T11:29:19.207775",
     "status": "completed"
    },
    "tags": []
   },
   "outputs": [],
   "source": [
    "def filter_sub_universe_data(sub_universe, org_test):\n",
    "    # Keep all rows — no filtering\n",
    "    keep_rows_mask = np.ones(org_test.shape[0], dtype=bool)\n",
    "\n",
    "    print(f\"[INFO] Keeping all rows: {keep_rows_mask.sum()} rows retained.\")\n",
    "    return keep_rows_mask"
   ]
  },
  {
   "cell_type": "code",
   "execution_count": 72,
   "id": "4a759155",
   "metadata": {
    "execution": {
     "iopub.execute_input": "2025-07-28T11:29:19.263508Z",
     "iopub.status.busy": "2025-07-28T11:29:19.263123Z",
     "iopub.status.idle": "2025-07-28T11:29:25.109895Z",
     "shell.execute_reply": "2025-07-28T11:29:25.108984Z"
    },
    "papermill": {
     "duration": 5.864493,
     "end_time": "2025-07-28T11:29:25.111171",
     "exception": false,
     "start_time": "2025-07-28T11:29:19.246678",
     "status": "completed"
    },
    "tags": []
   },
   "outputs": [
    {
     "name": "stdout",
     "output_type": "stream",
     "text": [
      "Stopping execution_time clock.\n",
      "[INFO] Keeping all rows: 89710 rows retained.\n"
     ]
    },
    {
     "name": "stdout",
     "output_type": "stream",
     "text": [
      "[INFO] Keeping all rows: 89710 rows retained.\n"
     ]
    },
    {
     "name": "stdout",
     "output_type": "stream",
     "text": [
      "[INFO] Keeping all rows: 89710 rows retained.\n"
     ]
    },
    {
     "name": "stdout",
     "output_type": "stream",
     "text": [
      "[INFO] Keeping all rows: 89710 rows retained.\n"
     ]
    },
    {
     "data": {
      "text/html": [
       "<div>\n",
       "<style scoped>\n",
       "    .dataframe tbody tr th:only-of-type {\n",
       "        vertical-align: middle;\n",
       "    }\n",
       "\n",
       "    .dataframe tbody tr th {\n",
       "        vertical-align: top;\n",
       "    }\n",
       "\n",
       "    .dataframe thead th {\n",
       "        text-align: right;\n",
       "    }\n",
       "</style>\n",
       "<table border=\"1\" class=\"dataframe\">\n",
       "  <thead>\n",
       "    <tr style=\"text-align: right;\">\n",
       "      <th></th>\n",
       "      <th>run_no</th>\n",
       "      <th>universe_id</th>\n",
       "      <th>universe_settings</th>\n",
       "      <th>execution_time</th>\n",
       "      <th>test_size_n</th>\n",
       "      <th>test_size_frac</th>\n",
       "      <th>fair_main_equalized_odds_difference</th>\n",
       "      <th>fair_main_equalized_odds_ratio</th>\n",
       "      <th>fair_main_demographic_parity_difference</th>\n",
       "      <th>fair_main_demographic_parity_ratio</th>\n",
       "      <th>...</th>\n",
       "      <th>perf_grp_precision_0</th>\n",
       "      <th>perf_grp_precision_1</th>\n",
       "      <th>perf_grp_false positive rate_0</th>\n",
       "      <th>perf_grp_false positive rate_1</th>\n",
       "      <th>perf_grp_false negative rate_0</th>\n",
       "      <th>perf_grp_false negative rate_1</th>\n",
       "      <th>perf_grp_selection rate_0</th>\n",
       "      <th>perf_grp_selection rate_1</th>\n",
       "      <th>perf_grp_count_0</th>\n",
       "      <th>perf_grp_count_1</th>\n",
       "    </tr>\n",
       "  </thead>\n",
       "  <tbody>\n",
       "    <tr>\n",
       "      <th>0</th>\n",
       "      <td>11</td>\n",
       "      <td>35a39ee6cb5e5cd421a77adb5ec0afa6</td>\n",
       "      <td>{\"cutoff\": \"quantile_0.1\", \"eval_fairness_grou...</td>\n",
       "      <td>1001.983782</td>\n",
       "      <td>89710</td>\n",
       "      <td>1.0</td>\n",
       "      <td>0.093749</td>\n",
       "      <td>0.902461</td>\n",
       "      <td>0.082654</td>\n",
       "      <td>0.914236</td>\n",
       "      <td>...</td>\n",
       "      <td>NaN</td>\n",
       "      <td>NaN</td>\n",
       "      <td>NaN</td>\n",
       "      <td>NaN</td>\n",
       "      <td>NaN</td>\n",
       "      <td>NaN</td>\n",
       "      <td>NaN</td>\n",
       "      <td>NaN</td>\n",
       "      <td>NaN</td>\n",
       "      <td>NaN</td>\n",
       "    </tr>\n",
       "    <tr>\n",
       "      <th>0</th>\n",
       "      <td>11</td>\n",
       "      <td>35a39ee6cb5e5cd421a77adb5ec0afa6</td>\n",
       "      <td>{\"cutoff\": \"quantile_0.1\", \"eval_fairness_grou...</td>\n",
       "      <td>1001.983782</td>\n",
       "      <td>89710</td>\n",
       "      <td>1.0</td>\n",
       "      <td>0.093749</td>\n",
       "      <td>0.902461</td>\n",
       "      <td>0.082654</td>\n",
       "      <td>0.914236</td>\n",
       "      <td>...</td>\n",
       "      <td>0.117656</td>\n",
       "      <td>0.145609</td>\n",
       "      <td>0.961149</td>\n",
       "      <td>0.867400</td>\n",
       "      <td>0.016470</td>\n",
       "      <td>0.029103</td>\n",
       "      <td>0.963729</td>\n",
       "      <td>0.881076</td>\n",
       "      <td>20540.0</td>\n",
       "      <td>69170.0</td>\n",
       "    </tr>\n",
       "    <tr>\n",
       "      <th>0</th>\n",
       "      <td>11</td>\n",
       "      <td>35a39ee6cb5e5cd421a77adb5ec0afa6</td>\n",
       "      <td>{\"cutoff\": \"quantile_0.25\", \"eval_fairness_gro...</td>\n",
       "      <td>1001.983782</td>\n",
       "      <td>89710</td>\n",
       "      <td>1.0</td>\n",
       "      <td>0.174573</td>\n",
       "      <td>0.797204</td>\n",
       "      <td>0.151297</td>\n",
       "      <td>0.825423</td>\n",
       "      <td>...</td>\n",
       "      <td>NaN</td>\n",
       "      <td>NaN</td>\n",
       "      <td>NaN</td>\n",
       "      <td>NaN</td>\n",
       "      <td>NaN</td>\n",
       "      <td>NaN</td>\n",
       "      <td>NaN</td>\n",
       "      <td>NaN</td>\n",
       "      <td>NaN</td>\n",
       "      <td>NaN</td>\n",
       "    </tr>\n",
       "    <tr>\n",
       "      <th>0</th>\n",
       "      <td>11</td>\n",
       "      <td>35a39ee6cb5e5cd421a77adb5ec0afa6</td>\n",
       "      <td>{\"cutoff\": \"quantile_0.25\", \"eval_fairness_gro...</td>\n",
       "      <td>1001.983782</td>\n",
       "      <td>89710</td>\n",
       "      <td>1.0</td>\n",
       "      <td>0.174573</td>\n",
       "      <td>0.797204</td>\n",
       "      <td>0.151297</td>\n",
       "      <td>0.825423</td>\n",
       "      <td>...</td>\n",
       "      <td>0.121229</td>\n",
       "      <td>0.167438</td>\n",
       "      <td>0.860830</td>\n",
       "      <td>0.686257</td>\n",
       "      <td>0.088682</td>\n",
       "      <td>0.093545</td>\n",
       "      <td>0.866650</td>\n",
       "      <td>0.715353</td>\n",
       "      <td>20540.0</td>\n",
       "      <td>69170.0</td>\n",
       "    </tr>\n",
       "  </tbody>\n",
       "</table>\n",
       "<p>4 rows × 50 columns</p>\n",
       "</div>"
      ],
      "text/plain": [
       "  run_no                       universe_id  \\\n",
       "0     11  35a39ee6cb5e5cd421a77adb5ec0afa6   \n",
       "0     11  35a39ee6cb5e5cd421a77adb5ec0afa6   \n",
       "0     11  35a39ee6cb5e5cd421a77adb5ec0afa6   \n",
       "0     11  35a39ee6cb5e5cd421a77adb5ec0afa6   \n",
       "\n",
       "                                   universe_settings  execution_time  \\\n",
       "0  {\"cutoff\": \"quantile_0.1\", \"eval_fairness_grou...     1001.983782   \n",
       "0  {\"cutoff\": \"quantile_0.1\", \"eval_fairness_grou...     1001.983782   \n",
       "0  {\"cutoff\": \"quantile_0.25\", \"eval_fairness_gro...     1001.983782   \n",
       "0  {\"cutoff\": \"quantile_0.25\", \"eval_fairness_gro...     1001.983782   \n",
       "\n",
       "   test_size_n  test_size_frac  fair_main_equalized_odds_difference  \\\n",
       "0        89710             1.0                             0.093749   \n",
       "0        89710             1.0                             0.093749   \n",
       "0        89710             1.0                             0.174573   \n",
       "0        89710             1.0                             0.174573   \n",
       "\n",
       "   fair_main_equalized_odds_ratio  fair_main_demographic_parity_difference  \\\n",
       "0                        0.902461                                 0.082654   \n",
       "0                        0.902461                                 0.082654   \n",
       "0                        0.797204                                 0.151297   \n",
       "0                        0.797204                                 0.151297   \n",
       "\n",
       "   fair_main_demographic_parity_ratio  ...  perf_grp_precision_0  \\\n",
       "0                            0.914236  ...                   NaN   \n",
       "0                            0.914236  ...              0.117656   \n",
       "0                            0.825423  ...                   NaN   \n",
       "0                            0.825423  ...              0.121229   \n",
       "\n",
       "   perf_grp_precision_1  perf_grp_false positive rate_0  \\\n",
       "0                   NaN                             NaN   \n",
       "0              0.145609                        0.961149   \n",
       "0                   NaN                             NaN   \n",
       "0              0.167438                        0.860830   \n",
       "\n",
       "   perf_grp_false positive rate_1  perf_grp_false negative rate_0  \\\n",
       "0                             NaN                             NaN   \n",
       "0                        0.867400                        0.016470   \n",
       "0                             NaN                             NaN   \n",
       "0                        0.686257                        0.088682   \n",
       "\n",
       "   perf_grp_false negative rate_1  perf_grp_selection rate_0  \\\n",
       "0                             NaN                        NaN   \n",
       "0                        0.029103                   0.963729   \n",
       "0                             NaN                        NaN   \n",
       "0                        0.093545                   0.866650   \n",
       "\n",
       "   perf_grp_selection rate_1  perf_grp_count_0  perf_grp_count_1  \n",
       "0                        NaN               NaN               NaN  \n",
       "0                   0.881076           20540.0           69170.0  \n",
       "0                        NaN               NaN               NaN  \n",
       "0                   0.715353           20540.0           69170.0  \n",
       "\n",
       "[4 rows x 50 columns]"
      ]
     },
     "execution_count": 72,
     "metadata": {},
     "output_type": "execute_result"
    }
   ],
   "source": [
    "final_output = universe_analysis.generate_final_output(\n",
    "    y_pred_prob=probs_test,\n",
    "    y_test=y_true,\n",
    "    org_test=org_test,\n",
    "    filter_data=filter_sub_universe_data,\n",
    "    cp_metrics_df=cp_metrics_df,\n",
    "    save=True,\n",
    ")\n",
    "final_output"
   ]
  },
  {
   "cell_type": "code",
   "execution_count": null,
   "id": "721ff514-cb11-46f8-b6fc-50392f74b5cb",
   "metadata": {
    "papermill": {
     "duration": 0.014684,
     "end_time": "2025-07-28T11:29:25.143745",
     "exception": false,
     "start_time": "2025-07-28T11:29:25.129061",
     "status": "completed"
    },
    "tags": []
   },
   "outputs": [],
   "source": []
  }
 ],
 "metadata": {
  "celltoolbar": "Tags",
  "kernelspec": {
   "display_name": "Python (CMA Fairness)",
   "language": "python",
   "name": "cma_fair_env"
  },
  "language_info": {
   "codemirror_mode": {
    "name": "ipython",
    "version": 3
   },
   "file_extension": ".py",
   "mimetype": "text/x-python",
   "name": "python",
   "nbconvert_exporter": "python",
   "pygments_lexer": "ipython3",
   "version": "3.10.12"
  },
  "papermill": {
   "default_parameters": {},
   "duration": 1011.837361,
   "end_time": "2025-07-28T11:29:25.675225",
   "environment_variables": {},
   "exception": null,
   "input_path": "universe_analysis.ipynb",
   "output_path": "output/runs/11/notebooks/m_11-35a39ee6cb5e5cd421a77adb5ec0afa6.ipynb",
   "parameters": {
    "output_dir": "output",
    "run_no": "11",
    "seed": "2023",
    "universe": "{\"cutoff\": [\"quantile_0.1\", \"quantile_0.25\"], \"eval_fairness_grouping\": [\"majority-minority\", \"nationality-all\"], \"exclude_features\": \"nationality-sex\", \"exclude_subgroups\": \"keep-all\", \"model\": \"elasticnet\", \"scale\": \"do-not-scale\", \"training_size\": \"2014\"}",
    "universe_id": "35a39ee6cb5e5cd421a77adb5ec0afa6"
   },
   "start_time": "2025-07-28T11:12:33.837864",
   "version": "2.6.0"
  }
 },
 "nbformat": 4,
 "nbformat_minor": 5
}