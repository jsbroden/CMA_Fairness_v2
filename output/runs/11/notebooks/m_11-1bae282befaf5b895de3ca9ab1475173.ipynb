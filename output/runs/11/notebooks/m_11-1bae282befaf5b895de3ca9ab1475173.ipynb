{
 "cells": [
  {
   "cell_type": "code",
   "execution_count": 1,
   "id": "f159f837-637b-42ba-96b5-ec9a68c44524",
   "metadata": {
    "execution": {
     "iopub.execute_input": "2025-07-28T10:46:06.882160Z",
     "iopub.status.busy": "2025-07-28T10:46:06.881684Z",
     "iopub.status.idle": "2025-07-28T10:46:06.896395Z",
     "shell.execute_reply": "2025-07-28T10:46:06.895243Z"
    },
    "papermill": {
     "duration": 0.038872,
     "end_time": "2025-07-28T10:46:06.898194",
     "exception": false,
     "start_time": "2025-07-28T10:46:06.859322",
     "status": "completed"
    },
    "tags": []
   },
   "outputs": [
    {
     "name": "stdout",
     "output_type": "stream",
     "text": [
      "/dss/dsshome1/0C/ra93lal2/cma/CMA_Fairness_v2\n"
     ]
    },
    {
     "name": "stderr",
     "output_type": "stream",
     "text": [
      "/dss/dsshome1/0C/ra93lal2/.local/share/virtualenvs/CMA_Fairness_v2-3j10GkSs/lib/python3.10/site-packages/IPython/core/magics/osm.py:393: UserWarning: This is now an optional IPython functionality, using bookmarks requires you to install the `pickleshare` library.\n",
      "  bkms = self.shell.db.get('bookmarks', {})\n",
      "/dss/dsshome1/0C/ra93lal2/.local/share/virtualenvs/CMA_Fairness_v2-3j10GkSs/lib/python3.10/site-packages/IPython/core/magics/osm.py:417: UserWarning: This is now an optional IPython functionality, setting dhist requires you to install the `pickleshare` library.\n",
      "  self.shell.db['dhist'] = compress_dhist(dhist)[-100:]\n"
     ]
    }
   ],
   "source": [
    "%cd ~/cma/CMA_Fairness_v2"
   ]
  },
  {
   "cell_type": "markdown",
   "id": "de2603b9",
   "metadata": {
    "papermill": {
     "duration": 0.021081,
     "end_time": "2025-07-28T10:46:06.939513",
     "exception": false,
     "start_time": "2025-07-28T10:46:06.918432",
     "status": "completed"
    },
    "tags": []
   },
   "source": [
    "The following cell holds the definition of our parameters, these values can be overriden by rendering the with e.g. the following command:\n",
    "\n",
    "papermill -p alpha 0.2 -p ratio 0.3 universe_analysis.ipynb output/test_run.ipynb"
   ]
  },
  {
   "cell_type": "code",
   "execution_count": 2,
   "id": "a80968a0-40bb-4fa9-85ef-2d5eefb01975",
   "metadata": {
    "execution": {
     "iopub.execute_input": "2025-07-28T10:46:06.970921Z",
     "iopub.status.busy": "2025-07-28T10:46:06.970459Z",
     "iopub.status.idle": "2025-07-28T10:46:06.975866Z",
     "shell.execute_reply": "2025-07-28T10:46:06.974925Z"
    },
    "papermill": {
     "duration": 0.020371,
     "end_time": "2025-07-28T10:46:06.977320",
     "exception": false,
     "start_time": "2025-07-28T10:46:06.956949",
     "status": "completed"
    },
    "tags": []
   },
   "outputs": [
    {
     "name": "stdout",
     "output_type": "stream",
     "text": [
      "Current working directory: /dss/dsshome1/0C/ra93lal2/cma/CMA_Fairness_v2\n"
     ]
    }
   ],
   "source": [
    "import os\n",
    "print(\"Current working directory:\", os.getcwd())"
   ]
  },
  {
   "cell_type": "code",
   "execution_count": 3,
   "id": "2dce4c03",
   "metadata": {
    "execution": {
     "iopub.execute_input": "2025-07-28T10:46:07.000632Z",
     "iopub.status.busy": "2025-07-28T10:46:07.000099Z",
     "iopub.status.idle": "2025-07-28T10:46:07.006119Z",
     "shell.execute_reply": "2025-07-28T10:46:07.005253Z"
    },
    "papermill": {
     "duration": 0.019778,
     "end_time": "2025-07-28T10:46:07.007948",
     "exception": false,
     "start_time": "2025-07-28T10:46:06.988170",
     "status": "completed"
    },
    "tags": [
     "parameters"
    ]
   },
   "outputs": [],
   "source": [
    "run_no = 0\n",
    "universe_id = \"test\"\n",
    "universe = {\n",
    "    \"training_size\": \"2014\", # \"25k\", \"5k\", \"1k\", \"2014\"\n",
    "    \"scale\": \"scale\", # \"scale\", \"do-not-scale\",\n",
    "    #\"stratify_split\": \"target\", # \"none\", \"target\", \"protected-attribute\", \"both\",\n",
    "    \"model\": \"elasticnet\", # \"logreg\", \"penalized_logreg\", \"rf\", \"gbm\", \"elasticnet\"\n",
    "    \"cutoff\": [\"quantile_0.15\", \"quantile_0.30\"],\n",
    "    \"exclude_features\": \"age\", # \"none\", \"nationality\", \"sex\", \"nationality-sex\", \"age\"\n",
    "    \"exclude_subgroups\": \"keep-all\", # \"keep-all\", \"drop-non-german\"\n",
    "    \"eval_fairness_grouping\": [\"majority-minority\", \"nationality-all\"]\n",
    "}\n",
    "\n",
    "output_dir=\"./output\"\n",
    "seed=0"
   ]
  },
  {
   "cell_type": "code",
   "execution_count": 4,
   "id": "d1954572",
   "metadata": {
    "execution": {
     "iopub.execute_input": "2025-07-28T10:46:07.048222Z",
     "iopub.status.busy": "2025-07-28T10:46:07.047341Z",
     "iopub.status.idle": "2025-07-28T10:46:07.053397Z",
     "shell.execute_reply": "2025-07-28T10:46:07.052284Z"
    },
    "papermill": {
     "duration": 0.028691,
     "end_time": "2025-07-28T10:46:07.055434",
     "exception": false,
     "start_time": "2025-07-28T10:46:07.026743",
     "status": "completed"
    },
    "tags": [
     "injected-parameters"
    ]
   },
   "outputs": [],
   "source": [
    "# Parameters\n",
    "universe_id = \"1bae282befaf5b895de3ca9ab1475173\"\n",
    "run_no = \"11\"\n",
    "universe = \"{\\\"cutoff\\\": [\\\"quantile_0.1\\\", \\\"quantile_0.25\\\"], \\\"eval_fairness_grouping\\\": [\\\"majority-minority\\\", \\\"nationality-all\\\"], \\\"exclude_features\\\": \\\"age\\\", \\\"exclude_subgroups\\\": \\\"drop-non-german\\\", \\\"model\\\": \\\"gbm\\\", \\\"scale\\\": \\\"scale\\\", \\\"training_size\\\": \\\"1k\\\"}\"\n",
    "output_dir = \"output\"\n",
    "seed = \"2023\"\n"
   ]
  },
  {
   "cell_type": "code",
   "execution_count": 5,
   "id": "1650acaf",
   "metadata": {
    "execution": {
     "iopub.execute_input": "2025-07-28T10:46:07.098697Z",
     "iopub.status.busy": "2025-07-28T10:46:07.098202Z",
     "iopub.status.idle": "2025-07-28T10:46:07.103891Z",
     "shell.execute_reply": "2025-07-28T10:46:07.102758Z"
    },
    "papermill": {
     "duration": 0.029612,
     "end_time": "2025-07-28T10:46:07.105855",
     "exception": false,
     "start_time": "2025-07-28T10:46:07.076243",
     "status": "completed"
    },
    "tags": []
   },
   "outputs": [],
   "source": [
    "import json\n",
    "# Parse universe into dict if it is passed as a string\n",
    "if isinstance(universe, str):\n",
    "    universe = json.loads(universe)"
   ]
  },
  {
   "cell_type": "code",
   "execution_count": 6,
   "id": "16620c48",
   "metadata": {
    "execution": {
     "iopub.execute_input": "2025-07-28T10:46:07.151380Z",
     "iopub.status.busy": "2025-07-28T10:46:07.150840Z",
     "iopub.status.idle": "2025-07-28T10:46:07.201086Z",
     "shell.execute_reply": "2025-07-28T10:46:07.199920Z"
    },
    "papermill": {
     "duration": 0.07545,
     "end_time": "2025-07-28T10:46:07.203265",
     "exception": false,
     "start_time": "2025-07-28T10:46:07.127815",
     "status": "completed"
    },
    "tags": []
   },
   "outputs": [],
   "source": [
    "# Auto-reload the custom package\n",
    "%load_ext autoreload\n",
    "%autoreload 1\n",
    "%aimport fairness_multiverse"
   ]
  },
  {
   "cell_type": "code",
   "execution_count": 7,
   "id": "01c5c9f3",
   "metadata": {
    "execution": {
     "iopub.execute_input": "2025-07-28T10:46:07.249367Z",
     "iopub.status.busy": "2025-07-28T10:46:07.248314Z",
     "iopub.status.idle": "2025-07-28T10:46:08.873147Z",
     "shell.execute_reply": "2025-07-28T10:46:08.871884Z"
    },
    "papermill": {
     "duration": 1.650259,
     "end_time": "2025-07-28T10:46:08.875383",
     "exception": false,
     "start_time": "2025-07-28T10:46:07.225124",
     "status": "completed"
    },
    "tags": []
   },
   "outputs": [],
   "source": [
    "from fairness_multiverse.universe import UniverseAnalysis\n",
    "\n",
    "universe_analysis = UniverseAnalysis(\n",
    "    run_no = run_no,\n",
    "    universe_id = universe_id,\n",
    "    universe = universe,\n",
    "    output_dir=output_dir,\n",
    ")"
   ]
  },
  {
   "cell_type": "code",
   "execution_count": 8,
   "id": "106241f5",
   "metadata": {
    "execution": {
     "iopub.execute_input": "2025-07-28T10:46:08.917752Z",
     "iopub.status.busy": "2025-07-28T10:46:08.916908Z",
     "iopub.status.idle": "2025-07-28T10:46:08.927149Z",
     "shell.execute_reply": "2025-07-28T10:46:08.926070Z"
    },
    "papermill": {
     "duration": 0.031943,
     "end_time": "2025-07-28T10:46:08.929386",
     "exception": false,
     "start_time": "2025-07-28T10:46:08.897443",
     "status": "completed"
    },
    "tags": []
   },
   "outputs": [
    {
     "name": "stdout",
     "output_type": "stream",
     "text": [
      "Using Seed: 2023\n"
     ]
    }
   ],
   "source": [
    "import numpy as np\n",
    "parsed_seed = int(seed)\n",
    "np.random.seed(parsed_seed)\n",
    "print(f\"Using Seed: {parsed_seed}\")"
   ]
  },
  {
   "cell_type": "markdown",
   "id": "e0ebdc57",
   "metadata": {
    "papermill": {
     "duration": 0.018506,
     "end_time": "2025-07-28T10:46:08.967559",
     "exception": false,
     "start_time": "2025-07-28T10:46:08.949053",
     "status": "completed"
    },
    "tags": []
   },
   "source": [
    "# Loading Data"
   ]
  },
  {
   "cell_type": "markdown",
   "id": "681925a3",
   "metadata": {
    "papermill": {
     "duration": 0.019184,
     "end_time": "2025-07-28T10:46:09.005384",
     "exception": false,
     "start_time": "2025-07-28T10:46:08.986200",
     "status": "completed"
    },
    "tags": []
   },
   "source": [
    "Load siab_train, siab_test, siab_calib and/or \n",
    "load siab_train_features, siab_train_labels"
   ]
  },
  {
   "cell_type": "code",
   "execution_count": 9,
   "id": "f0496b8a",
   "metadata": {
    "execution": {
     "iopub.execute_input": "2025-07-28T10:46:09.045224Z",
     "iopub.status.busy": "2025-07-28T10:46:09.044284Z",
     "iopub.status.idle": "2025-07-28T10:46:21.806164Z",
     "shell.execute_reply": "2025-07-28T10:46:21.804987Z"
    },
    "papermill": {
     "duration": 12.783494,
     "end_time": "2025-07-28T10:46:21.807757",
     "exception": false,
     "start_time": "2025-07-28T10:46:09.024263",
     "status": "completed"
    },
    "tags": []
   },
   "outputs": [
    {
     "name": "stdout",
     "output_type": "stream",
     "text": [
      "Loading SIAB data from cache: data/siab_cached.csv.gz\n"
     ]
    },
    {
     "name": "stdout",
     "output_type": "stream",
     "text": [
      "(643690, 164)\n"
     ]
    }
   ],
   "source": [
    "from pathlib import Path\n",
    "import pandas as pd\n",
    "\n",
    "# File paths\n",
    "raw_file = Path(\"data/raw/siab.csv\")\n",
    "cache_file = Path(\"data/siab_cached.csv.gz\")\n",
    "\n",
    "# Ensure cache directory exists\n",
    "cache_file.parent.mkdir(parents=True, exist_ok=True)\n",
    "\n",
    "# Load with simple caching\n",
    "if cache_file.exists():\n",
    "    print(f\"Loading SIAB data from cache: {cache_file}\")\n",
    "    siab = pd.read_csv(cache_file, compression='gzip')\n",
    "else:\n",
    "    print(f\"Cache not found. Reading raw SIAB data: {raw_file}\")\n",
    "    siab = pd.read_csv(raw_file)\n",
    "    siab.to_csv(cache_file, index=False, compression='gzip')\n",
    "    print(f\"Cached SIAB data to: {cache_file}\")\n",
    "\n",
    "# Now use `siab` DataFrame as needed\n",
    "print(siab.shape)"
   ]
  },
  {
   "cell_type": "code",
   "execution_count": 10,
   "id": "db0ca512-5f53-4dba-abdb-a2888bca41ba",
   "metadata": {
    "execution": {
     "iopub.execute_input": "2025-07-28T10:46:21.851546Z",
     "iopub.status.busy": "2025-07-28T10:46:21.851001Z",
     "iopub.status.idle": "2025-07-28T10:46:21.857275Z",
     "shell.execute_reply": "2025-07-28T10:46:21.856100Z"
    },
    "papermill": {
     "duration": 0.029339,
     "end_time": "2025-07-28T10:46:21.859129",
     "exception": false,
     "start_time": "2025-07-28T10:46:21.829790",
     "status": "completed"
    },
    "tags": []
   },
   "outputs": [],
   "source": [
    "#siab"
   ]
  },
  {
   "cell_type": "code",
   "execution_count": 11,
   "id": "a0edb063",
   "metadata": {
    "execution": {
     "iopub.execute_input": "2025-07-28T10:46:21.900088Z",
     "iopub.status.busy": "2025-07-28T10:46:21.899484Z",
     "iopub.status.idle": "2025-07-28T10:46:21.904933Z",
     "shell.execute_reply": "2025-07-28T10:46:21.903757Z"
    },
    "papermill": {
     "duration": 0.027777,
     "end_time": "2025-07-28T10:46:21.906812",
     "exception": false,
     "start_time": "2025-07-28T10:46:21.879035",
     "status": "completed"
    },
    "tags": []
   },
   "outputs": [],
   "source": [
    "#import pandas as pd\n",
    "#\n",
    "#X_train = pd.read_csv(\"./data/X_train.csv\")\n",
    "#y_train = pd.read_csv(\"./data/y_train.csv\")"
   ]
  },
  {
   "cell_type": "code",
   "execution_count": 12,
   "id": "63d08085",
   "metadata": {
    "execution": {
     "iopub.execute_input": "2025-07-28T10:46:21.952218Z",
     "iopub.status.busy": "2025-07-28T10:46:21.951658Z",
     "iopub.status.idle": "2025-07-28T10:46:21.957107Z",
     "shell.execute_reply": "2025-07-28T10:46:21.956065Z"
    },
    "papermill": {
     "duration": 0.027931,
     "end_time": "2025-07-28T10:46:21.958833",
     "exception": false,
     "start_time": "2025-07-28T10:46:21.930902",
     "status": "completed"
    },
    "tags": []
   },
   "outputs": [],
   "source": [
    "#X_test = pd.read_csv(\"./data/X_test.csv\")\n",
    "#y_true = pd.read_csv(\"./data/y_test.csv\")"
   ]
  },
  {
   "cell_type": "code",
   "execution_count": 13,
   "id": "98a8d0fa-1d3d-4ed8-bb2c-281470e24add",
   "metadata": {
    "execution": {
     "iopub.execute_input": "2025-07-28T10:46:21.999702Z",
     "iopub.status.busy": "2025-07-28T10:46:21.999215Z",
     "iopub.status.idle": "2025-07-28T10:46:22.004715Z",
     "shell.execute_reply": "2025-07-28T10:46:22.003531Z"
    },
    "papermill": {
     "duration": 0.027636,
     "end_time": "2025-07-28T10:46:22.006371",
     "exception": false,
     "start_time": "2025-07-28T10:46:21.978735",
     "status": "completed"
    },
    "tags": []
   },
   "outputs": [],
   "source": [
    "# Calibration data for conformal\n",
    "#X_calib = pd.read_csv(\"./data/X_calib.csv\")\n",
    "#y_calib = pd.read_csv(\"./data/y_calib.csv\")"
   ]
  },
  {
   "cell_type": "markdown",
   "id": "9901737e-04df-44f0-9100-f5ad144ed040",
   "metadata": {
    "papermill": {
     "duration": 0.02036,
     "end_time": "2025-07-28T10:46:22.046820",
     "exception": false,
     "start_time": "2025-07-28T10:46:22.026460",
     "status": "completed"
    },
    "tags": []
   },
   "source": [
    "# Splitting Data and Setting Training Data Size"
   ]
  },
  {
   "cell_type": "code",
   "execution_count": 14,
   "id": "acbc8f7d-8fc8-4e86-8c59-5dcb0f58384b",
   "metadata": {
    "execution": {
     "iopub.execute_input": "2025-07-28T10:46:22.087525Z",
     "iopub.status.busy": "2025-07-28T10:46:22.087042Z",
     "iopub.status.idle": "2025-07-28T10:46:22.095412Z",
     "shell.execute_reply": "2025-07-28T10:46:22.094431Z"
    },
    "papermill": {
     "duration": 0.030939,
     "end_time": "2025-07-28T10:46:22.097175",
     "exception": false,
     "start_time": "2025-07-28T10:46:22.066236",
     "status": "completed"
    },
    "tags": []
   },
   "outputs": [],
   "source": [
    "def sample_by_year(df, training_size, random_state=42):\n",
    "    if training_size == \"2014\":\n",
    "        return df[df[\"year\"] == 2014].reset_index(drop=True)\n",
    "    \n",
    "    size_map = {\n",
    "        \"25k\": 5000,\n",
    "        \"5k\": 1000,\n",
    "        \"1k\": 200\n",
    "    }\n",
    "\n",
    "    if training_size not in size_map:\n",
    "        return df.reset_index(drop=True)  # use all data\n",
    "\n",
    "    n_per_year = size_map[training_size]\n",
    "    grouped = df.groupby(\"year\")\n",
    "    sampled = grouped.apply(lambda x: x.sample(n=min(n_per_year, len(x)), random_state=random_state))\n",
    "    return sampled.reset_index(drop=True)"
   ]
  },
  {
   "cell_type": "code",
   "execution_count": 15,
   "id": "6d931f52-beaf-43ff-9e78-9d44a448d54e",
   "metadata": {
    "execution": {
     "iopub.execute_input": "2025-07-28T10:46:22.138262Z",
     "iopub.status.busy": "2025-07-28T10:46:22.137635Z",
     "iopub.status.idle": "2025-07-28T10:46:22.850486Z",
     "shell.execute_reply": "2025-07-28T10:46:22.849416Z"
    },
    "papermill": {
     "duration": 0.73565,
     "end_time": "2025-07-28T10:46:22.852696",
     "exception": false,
     "start_time": "2025-07-28T10:46:22.117046",
     "status": "completed"
    },
    "tags": []
   },
   "outputs": [],
   "source": [
    "siab_s = sample_by_year(siab, universe[\"training_size\"])"
   ]
  },
  {
   "cell_type": "code",
   "execution_count": 16,
   "id": "5db0a40e-a4e2-4920-be85-b12ae061d70d",
   "metadata": {
    "execution": {
     "iopub.execute_input": "2025-07-28T10:46:22.897991Z",
     "iopub.status.busy": "2025-07-28T10:46:22.897281Z",
     "iopub.status.idle": "2025-07-28T10:46:22.912082Z",
     "shell.execute_reply": "2025-07-28T10:46:22.910987Z"
    },
    "papermill": {
     "duration": 0.039034,
     "end_time": "2025-07-28T10:46:22.913970",
     "exception": false,
     "start_time": "2025-07-28T10:46:22.874936",
     "status": "completed"
    },
    "tags": []
   },
   "outputs": [
    {
     "data": {
      "text/plain": [
       "year\n",
       "2010    200\n",
       "2011    200\n",
       "2012    200\n",
       "2013    200\n",
       "2014    200\n",
       "2015    200\n",
       "2016    200\n",
       "dtype: int64"
      ]
     },
     "metadata": {},
     "output_type": "display_data"
    }
   ],
   "source": [
    "display(siab_s.groupby(\"year\").size())"
   ]
  },
  {
   "cell_type": "code",
   "execution_count": 17,
   "id": "a561edb4-d032-42cb-8256-22eac1111c64",
   "metadata": {
    "execution": {
     "iopub.execute_input": "2025-07-28T10:46:22.960456Z",
     "iopub.status.busy": "2025-07-28T10:46:22.959670Z",
     "iopub.status.idle": "2025-07-28T10:46:23.217057Z",
     "shell.execute_reply": "2025-07-28T10:46:23.215839Z"
    },
    "papermill": {
     "duration": 0.283268,
     "end_time": "2025-07-28T10:46:23.219266",
     "exception": false,
     "start_time": "2025-07-28T10:46:22.935998",
     "status": "completed"
    },
    "tags": []
   },
   "outputs": [],
   "source": [
    "siab_train = siab_s[siab_s.year < 2015]\n",
    "siab_calib = siab[siab.year == 2015]\n",
    "siab_test = siab[siab.year == 2016]"
   ]
  },
  {
   "cell_type": "code",
   "execution_count": 18,
   "id": "472de16f-c3db-4916-846b-1f0de9cf1746",
   "metadata": {
    "execution": {
     "iopub.execute_input": "2025-07-28T10:46:23.278461Z",
     "iopub.status.busy": "2025-07-28T10:46:23.277560Z",
     "iopub.status.idle": "2025-07-28T10:46:23.285299Z",
     "shell.execute_reply": "2025-07-28T10:46:23.284140Z"
    },
    "papermill": {
     "duration": 0.043249,
     "end_time": "2025-07-28T10:46:23.287488",
     "exception": false,
     "start_time": "2025-07-28T10:46:23.244239",
     "status": "completed"
    },
    "tags": []
   },
   "outputs": [],
   "source": [
    "X_train = siab_train.iloc[:,4:164]\n",
    "y_train = siab_train.iloc[:, [3]]"
   ]
  },
  {
   "cell_type": "code",
   "execution_count": 19,
   "id": "828c96af-f43a-4ed6-ba47-8ac73a47d56c",
   "metadata": {
    "execution": {
     "iopub.execute_input": "2025-07-28T10:46:23.333696Z",
     "iopub.status.busy": "2025-07-28T10:46:23.332975Z",
     "iopub.status.idle": "2025-07-28T10:46:23.399454Z",
     "shell.execute_reply": "2025-07-28T10:46:23.398356Z"
    },
    "papermill": {
     "duration": 0.090606,
     "end_time": "2025-07-28T10:46:23.401556",
     "exception": false,
     "start_time": "2025-07-28T10:46:23.310950",
     "status": "completed"
    },
    "tags": []
   },
   "outputs": [],
   "source": [
    "X_calib = siab_calib.iloc[:,4:164]\n",
    "y_calib = siab_calib.iloc[:, [3]]"
   ]
  },
  {
   "cell_type": "code",
   "execution_count": 20,
   "id": "c34be9c3-6bd6-476e-acd3-845840e303be",
   "metadata": {
    "execution": {
     "iopub.execute_input": "2025-07-28T10:46:23.447218Z",
     "iopub.status.busy": "2025-07-28T10:46:23.446603Z",
     "iopub.status.idle": "2025-07-28T10:46:23.502786Z",
     "shell.execute_reply": "2025-07-28T10:46:23.501684Z"
    },
    "papermill": {
     "duration": 0.080366,
     "end_time": "2025-07-28T10:46:23.504660",
     "exception": false,
     "start_time": "2025-07-28T10:46:23.424294",
     "status": "completed"
    },
    "tags": []
   },
   "outputs": [],
   "source": [
    "X_test = siab_test.iloc[:,4:164]\n",
    "y_true = siab_test.iloc[:, [3]]"
   ]
  },
  {
   "cell_type": "code",
   "execution_count": 21,
   "id": "e6c733c5",
   "metadata": {
    "execution": {
     "iopub.execute_input": "2025-07-28T10:46:23.561309Z",
     "iopub.status.busy": "2025-07-28T10:46:23.560370Z",
     "iopub.status.idle": "2025-07-28T10:46:23.661795Z",
     "shell.execute_reply": "2025-07-28T10:46:23.660721Z"
    },
    "papermill": {
     "duration": 0.125716,
     "end_time": "2025-07-28T10:46:23.663857",
     "exception": false,
     "start_time": "2025-07-28T10:46:23.538141",
     "status": "completed"
    },
    "tags": []
   },
   "outputs": [],
   "source": [
    "# Auxiliary data needed downstream in the pipeline\n",
    "\n",
    "org_train = X_train.copy()\n",
    "org_test = X_test.copy()\n",
    "org_calib = X_calib.copy()"
   ]
  },
  {
   "cell_type": "markdown",
   "id": "0a4a1b33",
   "metadata": {
    "papermill": {
     "duration": 0.021208,
     "end_time": "2025-07-28T10:46:23.707038",
     "exception": false,
     "start_time": "2025-07-28T10:46:23.685830",
     "status": "completed"
    },
    "tags": []
   },
   "source": [
    "# Preprocessing Data"
   ]
  },
  {
   "cell_type": "code",
   "execution_count": 22,
   "id": "ca879031",
   "metadata": {
    "execution": {
     "iopub.execute_input": "2025-07-28T10:46:23.752762Z",
     "iopub.status.busy": "2025-07-28T10:46:23.752125Z",
     "iopub.status.idle": "2025-07-28T10:46:23.758579Z",
     "shell.execute_reply": "2025-07-28T10:46:23.757655Z"
    },
    "papermill": {
     "duration": 0.031313,
     "end_time": "2025-07-28T10:46:23.760213",
     "exception": false,
     "start_time": "2025-07-28T10:46:23.728900",
     "status": "completed"
    },
    "tags": []
   },
   "outputs": [],
   "source": [
    "# EXCLUDE PROTECTED FEATURES\n",
    "# ----------------------\n",
    "# \"exclude_features\": \"none\", # \"nationality\", \"sex\", \"nationality-sex\"\n",
    "\n",
    "excluded_features = universe[\"exclude_features\"].split(\"-\") # split, e.g.: \"nationality-sex\" -> [\"nationality\", \"sex\"]\n",
    "excluded_features_dictionary = {\n",
    "    \"nationality\": [\"maxdeutsch1\", \"maxdeutsch.Missing.\"],\n",
    "    \"sex\": [\"frau1\"],\n",
    "    \"age\": [\"age\"],\n",
    "}\n"
   ]
  },
  {
   "cell_type": "code",
   "execution_count": 23,
   "id": "b745ac60",
   "metadata": {
    "execution": {
     "iopub.execute_input": "2025-07-28T10:46:23.818756Z",
     "iopub.status.busy": "2025-07-28T10:46:23.818055Z",
     "iopub.status.idle": "2025-07-28T10:46:23.824261Z",
     "shell.execute_reply": "2025-07-28T10:46:23.823314Z"
    },
    "papermill": {
     "duration": 0.029781,
     "end_time": "2025-07-28T10:46:23.825943",
     "exception": false,
     "start_time": "2025-07-28T10:46:23.796162",
     "status": "completed"
    },
    "tags": []
   },
   "outputs": [],
   "source": [
    "# Code nice names to column names\n",
    "\n",
    "excluded_features_columns = [\n",
    "    excluded_features_dictionary[f] for f in excluded_features if len(f) > 0 and f != \"none\"\n",
    "]"
   ]
  },
  {
   "cell_type": "code",
   "execution_count": 24,
   "id": "f84f73a2",
   "metadata": {
    "execution": {
     "iopub.execute_input": "2025-07-28T10:46:23.871713Z",
     "iopub.status.busy": "2025-07-28T10:46:23.870206Z",
     "iopub.status.idle": "2025-07-28T10:46:23.877696Z",
     "shell.execute_reply": "2025-07-28T10:46:23.876825Z"
    },
    "papermill": {
     "duration": 0.032793,
     "end_time": "2025-07-28T10:46:23.879226",
     "exception": false,
     "start_time": "2025-07-28T10:46:23.846433",
     "status": "completed"
    },
    "tags": []
   },
   "outputs": [],
   "source": [
    "from utils import flatten_once\n",
    "\n",
    "excluded_features_columns = flatten_once(excluded_features_columns)"
   ]
  },
  {
   "cell_type": "code",
   "execution_count": 25,
   "id": "884dea22",
   "metadata": {
    "execution": {
     "iopub.execute_input": "2025-07-28T10:46:23.923520Z",
     "iopub.status.busy": "2025-07-28T10:46:23.922736Z",
     "iopub.status.idle": "2025-07-28T10:46:23.931442Z",
     "shell.execute_reply": "2025-07-28T10:46:23.930512Z"
    },
    "papermill": {
     "duration": 0.032354,
     "end_time": "2025-07-28T10:46:23.933200",
     "exception": false,
     "start_time": "2025-07-28T10:46:23.900846",
     "status": "completed"
    },
    "tags": []
   },
   "outputs": [
    {
     "name": "stdout",
     "output_type": "stream",
     "text": [
      "Dropping features: ['age']\n"
     ]
    }
   ],
   "source": [
    "if len(excluded_features_columns) > 0:\n",
    "    print(f\"Dropping features: {excluded_features_columns}\")\n",
    "    X_train.drop(excluded_features_columns, axis=1, inplace=True)"
   ]
  },
  {
   "cell_type": "code",
   "execution_count": 26,
   "id": "95ab8b16",
   "metadata": {
    "execution": {
     "iopub.execute_input": "2025-07-28T10:46:23.977065Z",
     "iopub.status.busy": "2025-07-28T10:46:23.976013Z",
     "iopub.status.idle": "2025-07-28T10:46:24.031498Z",
     "shell.execute_reply": "2025-07-28T10:46:24.030484Z"
    },
    "papermill": {
     "duration": 0.079571,
     "end_time": "2025-07-28T10:46:24.033515",
     "exception": false,
     "start_time": "2025-07-28T10:46:23.953944",
     "status": "completed"
    },
    "tags": []
   },
   "outputs": [
    {
     "name": "stdout",
     "output_type": "stream",
     "text": [
      "Dropping features: ['age']\n"
     ]
    }
   ],
   "source": [
    "if len(excluded_features_columns) > 0:\n",
    "    print(f\"Dropping features: {excluded_features_columns}\")\n",
    "    X_test.drop(excluded_features_columns, axis=1, inplace=True)"
   ]
  },
  {
   "cell_type": "code",
   "execution_count": 27,
   "id": "1853aaf5-fb9f-46cb-a2b5-8ea4ae2237e4",
   "metadata": {
    "execution": {
     "iopub.execute_input": "2025-07-28T10:46:24.077824Z",
     "iopub.status.busy": "2025-07-28T10:46:24.077407Z",
     "iopub.status.idle": "2025-07-28T10:46:24.135472Z",
     "shell.execute_reply": "2025-07-28T10:46:24.134318Z"
    },
    "papermill": {
     "duration": 0.082045,
     "end_time": "2025-07-28T10:46:24.137160",
     "exception": false,
     "start_time": "2025-07-28T10:46:24.055115",
     "status": "completed"
    },
    "tags": []
   },
   "outputs": [
    {
     "name": "stdout",
     "output_type": "stream",
     "text": [
      "Dropping features: ['age']\n"
     ]
    }
   ],
   "source": [
    "if len(excluded_features_columns) > 0:\n",
    "    print(f\"Dropping features: {excluded_features_columns}\")\n",
    "    X_calib.drop(excluded_features_columns, axis=1, inplace=True)"
   ]
  },
  {
   "cell_type": "code",
   "execution_count": 28,
   "id": "6727d079-03e5-481e-9d38-292a90b7a0a8",
   "metadata": {
    "execution": {
     "iopub.execute_input": "2025-07-28T10:46:24.182664Z",
     "iopub.status.busy": "2025-07-28T10:46:24.182256Z",
     "iopub.status.idle": "2025-07-28T10:46:24.187282Z",
     "shell.execute_reply": "2025-07-28T10:46:24.186185Z"
    },
    "papermill": {
     "duration": 0.029816,
     "end_time": "2025-07-28T10:46:24.188861",
     "exception": false,
     "start_time": "2025-07-28T10:46:24.159045",
     "status": "completed"
    },
    "tags": []
   },
   "outputs": [],
   "source": [
    "# SPLIT & STRATIFY DATA\n",
    "# ----------------------"
   ]
  },
  {
   "cell_type": "code",
   "execution_count": 29,
   "id": "76c4dc6d",
   "metadata": {
    "execution": {
     "iopub.execute_input": "2025-07-28T10:46:24.240600Z",
     "iopub.status.busy": "2025-07-28T10:46:24.238010Z",
     "iopub.status.idle": "2025-07-28T10:46:24.245838Z",
     "shell.execute_reply": "2025-07-28T10:46:24.244801Z"
    },
    "papermill": {
     "duration": 0.035763,
     "end_time": "2025-07-28T10:46:24.247551",
     "exception": false,
     "start_time": "2025-07-28T10:46:24.211788",
     "status": "completed"
    },
    "tags": []
   },
   "outputs": [],
   "source": [
    "# EXCLUDE CERTAIN SUBGROUPS\n",
    "# ----------------------\n",
    "\n",
    "mode = universe.get(\"exclude_subgroups\", \"keep-all\") \n",
    "# Fetches the exclude_subgroups setting from the universe dict.\n",
    "# Defaults to \"keep-all\" if the key is missing."
   ]
  },
  {
   "cell_type": "code",
   "execution_count": 30,
   "id": "21994072",
   "metadata": {
    "execution": {
     "iopub.execute_input": "2025-07-28T10:46:24.295200Z",
     "iopub.status.busy": "2025-07-28T10:46:24.294307Z",
     "iopub.status.idle": "2025-07-28T10:46:24.301769Z",
     "shell.execute_reply": "2025-07-28T10:46:24.300878Z"
    },
    "papermill": {
     "duration": 0.032735,
     "end_time": "2025-07-28T10:46:24.303526",
     "exception": false,
     "start_time": "2025-07-28T10:46:24.270791",
     "status": "completed"
    },
    "tags": []
   },
   "outputs": [],
   "source": [
    "if mode == \"keep-all\":\n",
    "    keep_mask = pd.Series(True, index=org_train.index)\n",
    "\n",
    "# org_train contains the original feature columns from features_org (in Simson)\n",
    "# features_org contains unprocessed features, for me X_train at beginning ???\n",
    "# For keep-all, creates a boolean Series (keep_mask) of all True, so no rows are removed.\n",
    "\n",
    "elif mode == \"drop-non-german\":\n",
    "    keep_mask = org_train[\"maxdeutsch1\"] == 1 # ??? what about missing values?\n",
    "\n",
    "else:\n",
    "    raise ValueError(f\"Unsupported mode for exclude_subgroups: {mode}\")\n"
   ]
  },
  {
   "cell_type": "code",
   "execution_count": 31,
   "id": "71651440",
   "metadata": {
    "execution": {
     "iopub.execute_input": "2025-07-28T10:46:24.351701Z",
     "iopub.status.busy": "2025-07-28T10:46:24.350781Z",
     "iopub.status.idle": "2025-07-28T10:46:24.358163Z",
     "shell.execute_reply": "2025-07-28T10:46:24.357233Z"
    },
    "papermill": {
     "duration": 0.033296,
     "end_time": "2025-07-28T10:46:24.359681",
     "exception": false,
     "start_time": "2025-07-28T10:46:24.326385",
     "status": "completed"
    },
    "tags": []
   },
   "outputs": [
    {
     "name": "stdout",
     "output_type": "stream",
     "text": [
      "Dropping 131 rows (13.10%) where mode='drop-non-german'\n"
     ]
    }
   ],
   "source": [
    "n_drop = (~keep_mask).sum() # Calculates how many rows are set to be dropped\n",
    "if n_drop > 0:\n",
    "    pct = n_drop / len(keep_mask) * 100\n",
    "    print(f\"Dropping {n_drop} rows ({pct:.2f}%) where mode='{mode}'\")"
   ]
  },
  {
   "cell_type": "code",
   "execution_count": 32,
   "id": "5fb8eee5",
   "metadata": {
    "execution": {
     "iopub.execute_input": "2025-07-28T10:46:24.406675Z",
     "iopub.status.busy": "2025-07-28T10:46:24.405852Z",
     "iopub.status.idle": "2025-07-28T10:46:24.413119Z",
     "shell.execute_reply": "2025-07-28T10:46:24.412166Z"
    },
    "papermill": {
     "duration": 0.03309,
     "end_time": "2025-07-28T10:46:24.414662",
     "exception": false,
     "start_time": "2025-07-28T10:46:24.381572",
     "status": "completed"
    },
    "tags": []
   },
   "outputs": [],
   "source": [
    "X_train = X_train[keep_mask]"
   ]
  },
  {
   "cell_type": "code",
   "execution_count": 33,
   "id": "b202bb3a",
   "metadata": {
    "execution": {
     "iopub.execute_input": "2025-07-28T10:46:24.461104Z",
     "iopub.status.busy": "2025-07-28T10:46:24.460101Z",
     "iopub.status.idle": "2025-07-28T10:46:24.466115Z",
     "shell.execute_reply": "2025-07-28T10:46:24.465151Z"
    },
    "papermill": {
     "duration": 0.03121,
     "end_time": "2025-07-28T10:46:24.468042",
     "exception": false,
     "start_time": "2025-07-28T10:46:24.436832",
     "status": "completed"
    },
    "tags": []
   },
   "outputs": [],
   "source": [
    "y_train = y_train[keep_mask]"
   ]
  },
  {
   "cell_type": "markdown",
   "id": "493e2ac3",
   "metadata": {
    "papermill": {
     "duration": 0.022489,
     "end_time": "2025-07-28T10:46:24.514580",
     "exception": false,
     "start_time": "2025-07-28T10:46:24.492091",
     "status": "completed"
    },
    "tags": []
   },
   "source": [
    "# Model Training"
   ]
  },
  {
   "cell_type": "code",
   "execution_count": 34,
   "id": "679e1268",
   "metadata": {
    "execution": {
     "iopub.execute_input": "2025-07-28T10:46:24.562126Z",
     "iopub.status.busy": "2025-07-28T10:46:24.561238Z",
     "iopub.status.idle": "2025-07-28T10:46:24.671376Z",
     "shell.execute_reply": "2025-07-28T10:46:24.670397Z"
    },
    "papermill": {
     "duration": 0.136607,
     "end_time": "2025-07-28T10:46:24.673394",
     "exception": false,
     "start_time": "2025-07-28T10:46:24.536787",
     "status": "completed"
    },
    "tags": []
   },
   "outputs": [],
   "source": [
    "from sklearn.linear_model import LogisticRegression\n",
    "from sklearn.ensemble import GradientBoostingClassifier, RandomForestClassifier\n",
    "\n",
    "if (universe[\"model\"] == \"logreg\"):\n",
    "    model = LogisticRegression() #penalty=\"none\") #, solver=\"newton-cg\", max_iter=1) # include random_state=19 ?\n",
    "elif (universe[\"model\"] == \"penalized_logreg\"):\n",
    "    model = LogisticRegression(penalty=\"l2\", C=1.0) #, solver=\"newton-cg\", max_iter=1)\n",
    "elif (universe[\"model\"] == \"rf\"):\n",
    "    model = RandomForestClassifier(n_estimators=100, n_jobs=-1)\n",
    "elif (universe[\"model\"] == \"gbm\"):\n",
    "    model = GradientBoostingClassifier()\n",
    "elif (universe[\"model\"] == \"elasticnet\"):\n",
    "    model = LogisticRegression(penalty = 'elasticnet', solver = 'saga', l1_ratio = 0.5, max_iter=5000) # which solver to use?\n",
    "else:\n",
    "    raise \"Unsupported universe.model\""
   ]
  },
  {
   "cell_type": "code",
   "execution_count": 35,
   "id": "0cc8f744",
   "metadata": {
    "execution": {
     "iopub.execute_input": "2025-07-28T10:46:24.721702Z",
     "iopub.status.busy": "2025-07-28T10:46:24.720650Z",
     "iopub.status.idle": "2025-07-28T10:46:24.727739Z",
     "shell.execute_reply": "2025-07-28T10:46:24.726781Z"
    },
    "papermill": {
     "duration": 0.032259,
     "end_time": "2025-07-28T10:46:24.729353",
     "exception": false,
     "start_time": "2025-07-28T10:46:24.697094",
     "status": "completed"
    },
    "tags": []
   },
   "outputs": [],
   "source": [
    "import numpy as np\n",
    "from sklearn.pipeline import Pipeline\n",
    "from sklearn.preprocessing import StandardScaler\n",
    "\n",
    "model = Pipeline([\n",
    "    #(\"continuous_processor\", continuous_processor),\n",
    "    #(\"categorical_preprocessor\", categorical_preprocessor),\n",
    "    (\"scale\", StandardScaler() if universe[\"scale\"] == \"scale\" else None), \n",
    "    (\"model\", model),\n",
    "])"
   ]
  },
  {
   "cell_type": "code",
   "execution_count": 36,
   "id": "9442c04d",
   "metadata": {
    "execution": {
     "iopub.execute_input": "2025-07-28T10:46:24.775798Z",
     "iopub.status.busy": "2025-07-28T10:46:24.775221Z",
     "iopub.status.idle": "2025-07-28T10:46:25.726722Z",
     "shell.execute_reply": "2025-07-28T10:46:25.725966Z"
    },
    "papermill": {
     "duration": 0.975216,
     "end_time": "2025-07-28T10:46:25.728177",
     "exception": false,
     "start_time": "2025-07-28T10:46:24.752961",
     "status": "completed"
    },
    "tags": []
   },
   "outputs": [
    {
     "data": {
      "text/html": [
       "<style>#sk-container-id-1 {color: black;background-color: white;}#sk-container-id-1 pre{padding: 0;}#sk-container-id-1 div.sk-toggleable {background-color: white;}#sk-container-id-1 label.sk-toggleable__label {cursor: pointer;display: block;width: 100%;margin-bottom: 0;padding: 0.3em;box-sizing: border-box;text-align: center;}#sk-container-id-1 label.sk-toggleable__label-arrow:before {content: \"▸\";float: left;margin-right: 0.25em;color: #696969;}#sk-container-id-1 label.sk-toggleable__label-arrow:hover:before {color: black;}#sk-container-id-1 div.sk-estimator:hover label.sk-toggleable__label-arrow:before {color: black;}#sk-container-id-1 div.sk-toggleable__content {max-height: 0;max-width: 0;overflow: hidden;text-align: left;background-color: #f0f8ff;}#sk-container-id-1 div.sk-toggleable__content pre {margin: 0.2em;color: black;border-radius: 0.25em;background-color: #f0f8ff;}#sk-container-id-1 input.sk-toggleable__control:checked~div.sk-toggleable__content {max-height: 200px;max-width: 100%;overflow: auto;}#sk-container-id-1 input.sk-toggleable__control:checked~label.sk-toggleable__label-arrow:before {content: \"▾\";}#sk-container-id-1 div.sk-estimator input.sk-toggleable__control:checked~label.sk-toggleable__label {background-color: #d4ebff;}#sk-container-id-1 div.sk-label input.sk-toggleable__control:checked~label.sk-toggleable__label {background-color: #d4ebff;}#sk-container-id-1 input.sk-hidden--visually {border: 0;clip: rect(1px 1px 1px 1px);clip: rect(1px, 1px, 1px, 1px);height: 1px;margin: -1px;overflow: hidden;padding: 0;position: absolute;width: 1px;}#sk-container-id-1 div.sk-estimator {font-family: monospace;background-color: #f0f8ff;border: 1px dotted black;border-radius: 0.25em;box-sizing: border-box;margin-bottom: 0.5em;}#sk-container-id-1 div.sk-estimator:hover {background-color: #d4ebff;}#sk-container-id-1 div.sk-parallel-item::after {content: \"\";width: 100%;border-bottom: 1px solid gray;flex-grow: 1;}#sk-container-id-1 div.sk-label:hover label.sk-toggleable__label {background-color: #d4ebff;}#sk-container-id-1 div.sk-serial::before {content: \"\";position: absolute;border-left: 1px solid gray;box-sizing: border-box;top: 0;bottom: 0;left: 50%;z-index: 0;}#sk-container-id-1 div.sk-serial {display: flex;flex-direction: column;align-items: center;background-color: white;padding-right: 0.2em;padding-left: 0.2em;position: relative;}#sk-container-id-1 div.sk-item {position: relative;z-index: 1;}#sk-container-id-1 div.sk-parallel {display: flex;align-items: stretch;justify-content: center;background-color: white;position: relative;}#sk-container-id-1 div.sk-item::before, #sk-container-id-1 div.sk-parallel-item::before {content: \"\";position: absolute;border-left: 1px solid gray;box-sizing: border-box;top: 0;bottom: 0;left: 50%;z-index: -1;}#sk-container-id-1 div.sk-parallel-item {display: flex;flex-direction: column;z-index: 1;position: relative;background-color: white;}#sk-container-id-1 div.sk-parallel-item:first-child::after {align-self: flex-end;width: 50%;}#sk-container-id-1 div.sk-parallel-item:last-child::after {align-self: flex-start;width: 50%;}#sk-container-id-1 div.sk-parallel-item:only-child::after {width: 0;}#sk-container-id-1 div.sk-dashed-wrapped {border: 1px dashed gray;margin: 0 0.4em 0.5em 0.4em;box-sizing: border-box;padding-bottom: 0.4em;background-color: white;}#sk-container-id-1 div.sk-label label {font-family: monospace;font-weight: bold;display: inline-block;line-height: 1.2em;}#sk-container-id-1 div.sk-label-container {text-align: center;}#sk-container-id-1 div.sk-container {/* jupyter's `normalize.less` sets `[hidden] { display: none; }` but bootstrap.min.css set `[hidden] { display: none !important; }` so we also need the `!important` here to be able to override the default hidden behavior on the sphinx rendered scikit-learn.org. See: https://github.com/scikit-learn/scikit-learn/issues/21755 */display: inline-block !important;position: relative;}#sk-container-id-1 div.sk-text-repr-fallback {display: none;}</style><div id=\"sk-container-id-1\" class=\"sk-top-container\"><div class=\"sk-text-repr-fallback\"><pre>Pipeline(steps=[(&#x27;scale&#x27;, StandardScaler()),\n",
       "                (&#x27;model&#x27;, GradientBoostingClassifier())])</pre><b>In a Jupyter environment, please rerun this cell to show the HTML representation or trust the notebook. <br />On GitHub, the HTML representation is unable to render, please try loading this page with nbviewer.org.</b></div><div class=\"sk-container\" hidden><div class=\"sk-item sk-dashed-wrapped\"><div class=\"sk-label-container\"><div class=\"sk-label sk-toggleable\"><input class=\"sk-toggleable__control sk-hidden--visually\" id=\"sk-estimator-id-1\" type=\"checkbox\" ><label for=\"sk-estimator-id-1\" class=\"sk-toggleable__label sk-toggleable__label-arrow\">Pipeline</label><div class=\"sk-toggleable__content\"><pre>Pipeline(steps=[(&#x27;scale&#x27;, StandardScaler()),\n",
       "                (&#x27;model&#x27;, GradientBoostingClassifier())])</pre></div></div></div><div class=\"sk-serial\"><div class=\"sk-item\"><div class=\"sk-estimator sk-toggleable\"><input class=\"sk-toggleable__control sk-hidden--visually\" id=\"sk-estimator-id-2\" type=\"checkbox\" ><label for=\"sk-estimator-id-2\" class=\"sk-toggleable__label sk-toggleable__label-arrow\">StandardScaler</label><div class=\"sk-toggleable__content\"><pre>StandardScaler()</pre></div></div></div><div class=\"sk-item\"><div class=\"sk-estimator sk-toggleable\"><input class=\"sk-toggleable__control sk-hidden--visually\" id=\"sk-estimator-id-3\" type=\"checkbox\" ><label for=\"sk-estimator-id-3\" class=\"sk-toggleable__label sk-toggleable__label-arrow\">GradientBoostingClassifier</label><div class=\"sk-toggleable__content\"><pre>GradientBoostingClassifier()</pre></div></div></div></div></div></div></div>"
      ],
      "text/plain": [
       "Pipeline(steps=[('scale', StandardScaler()),\n",
       "                ('model', GradientBoostingClassifier())])"
      ]
     },
     "execution_count": 36,
     "metadata": {},
     "output_type": "execute_result"
    }
   ],
   "source": [
    "model.fit(X_train, y_train.values.ravel())"
   ]
  },
  {
   "cell_type": "code",
   "execution_count": 37,
   "id": "af59f8c0",
   "metadata": {
    "execution": {
     "iopub.execute_input": "2025-07-28T10:46:25.754689Z",
     "iopub.status.busy": "2025-07-28T10:46:25.754266Z",
     "iopub.status.idle": "2025-07-28T10:46:25.759114Z",
     "shell.execute_reply": "2025-07-28T10:46:25.758076Z"
    },
    "papermill": {
     "duration": 0.019762,
     "end_time": "2025-07-28T10:46:25.760670",
     "exception": false,
     "start_time": "2025-07-28T10:46:25.740908",
     "status": "completed"
    },
    "tags": []
   },
   "outputs": [],
   "source": [
    "from fairness_multiverse.universe import predict_w_threshold"
   ]
  },
  {
   "cell_type": "code",
   "execution_count": 38,
   "id": "a7cf2e16",
   "metadata": {
    "execution": {
     "iopub.execute_input": "2025-07-28T10:46:25.787933Z",
     "iopub.status.busy": "2025-07-28T10:46:25.787407Z",
     "iopub.status.idle": "2025-07-28T10:46:26.595023Z",
     "shell.execute_reply": "2025-07-28T10:46:26.593892Z"
    },
    "papermill": {
     "duration": 0.82292,
     "end_time": "2025-07-28T10:46:26.596847",
     "exception": false,
     "start_time": "2025-07-28T10:46:25.773927",
     "status": "completed"
    },
    "tags": []
   },
   "outputs": [
    {
     "data": {
      "text/plain": [
       "0.8244342882621781"
      ]
     },
     "execution_count": 38,
     "metadata": {},
     "output_type": "execute_result"
    }
   ],
   "source": [
    "probs_test = model.predict_proba(X_test)\n",
    "\n",
    "'''\n",
    "Below code returns a boolean array (or binary 0/1 array depending on how it’s used) where each element \n",
    "is True if the probability of class 1 is greater than or equal to the threshold, and False otherwise.\n",
    "'''\n",
    "y_pred_default = predict_w_threshold(probs_test, 0.5)\n",
    "\n",
    "from sklearn.metrics import accuracy_score\n",
    "\n",
    "# Naive prediction\n",
    "accuracy_score(y_true = y_true, y_pred = y_pred_default)"
   ]
  },
  {
   "cell_type": "code",
   "execution_count": 39,
   "id": "081964c3",
   "metadata": {
    "execution": {
     "iopub.execute_input": "2025-07-28T10:46:26.647396Z",
     "iopub.status.busy": "2025-07-28T10:46:26.646445Z",
     "iopub.status.idle": "2025-07-28T10:46:27.365481Z",
     "shell.execute_reply": "2025-07-28T10:46:27.364505Z"
    },
    "papermill": {
     "duration": 0.746786,
     "end_time": "2025-07-28T10:46:27.367272",
     "exception": false,
     "start_time": "2025-07-28T10:46:26.620486",
     "status": "completed"
    },
    "tags": []
   },
   "outputs": [
    {
     "data": {
      "text/plain": [
       "array([0, 0, 0, ..., 0, 0, 0])"
      ]
     },
     "execution_count": 39,
     "metadata": {},
     "output_type": "execute_result"
    }
   ],
   "source": [
    "model.predict(X_test)"
   ]
  },
  {
   "cell_type": "markdown",
   "id": "56c9705b",
   "metadata": {
    "papermill": {
     "duration": 0.026332,
     "end_time": "2025-07-28T10:46:27.418977",
     "exception": false,
     "start_time": "2025-07-28T10:46:27.392645",
     "status": "completed"
    },
    "tags": []
   },
   "source": [
    "# Conformal Prediction"
   ]
  },
  {
   "cell_type": "code",
   "execution_count": 40,
   "id": "160ec6ff",
   "metadata": {
    "execution": {
     "iopub.execute_input": "2025-07-28T10:46:27.474024Z",
     "iopub.status.busy": "2025-07-28T10:46:27.473505Z",
     "iopub.status.idle": "2025-07-28T10:46:27.479142Z",
     "shell.execute_reply": "2025-07-28T10:46:27.478410Z"
    },
    "papermill": {
     "duration": 0.033947,
     "end_time": "2025-07-28T10:46:27.480746",
     "exception": false,
     "start_time": "2025-07-28T10:46:27.446799",
     "status": "completed"
    },
    "tags": []
   },
   "outputs": [],
   "source": [
    "# Miscoverage level for conformal prediction (10% allowed error rate => 90% target coverage)\n",
    "alpha = 0.1"
   ]
  },
  {
   "cell_type": "code",
   "execution_count": 41,
   "id": "eadf4555-3dd3-440e-8e35-f82a4ad9f855",
   "metadata": {
    "execution": {
     "iopub.execute_input": "2025-07-28T10:46:27.514536Z",
     "iopub.status.busy": "2025-07-28T10:46:27.514007Z",
     "iopub.status.idle": "2025-07-28T10:46:28.293226Z",
     "shell.execute_reply": "2025-07-28T10:46:28.292102Z"
    },
    "papermill": {
     "duration": 0.800358,
     "end_time": "2025-07-28T10:46:28.295383",
     "exception": false,
     "start_time": "2025-07-28T10:46:27.495025",
     "status": "completed"
    },
    "tags": []
   },
   "outputs": [],
   "source": [
    "probs_calib = model.predict_proba(X_calib)"
   ]
  },
  {
   "cell_type": "code",
   "execution_count": 42,
   "id": "2ed93547-6d5d-4983-9b36-1ecb300da49a",
   "metadata": {
    "execution": {
     "iopub.execute_input": "2025-07-28T10:46:28.366552Z",
     "iopub.status.busy": "2025-07-28T10:46:28.365902Z",
     "iopub.status.idle": "2025-07-28T10:46:28.372792Z",
     "shell.execute_reply": "2025-07-28T10:46:28.371572Z"
    },
    "papermill": {
     "duration": 0.034848,
     "end_time": "2025-07-28T10:46:28.374981",
     "exception": false,
     "start_time": "2025-07-28T10:46:28.340133",
     "status": "completed"
    },
    "tags": []
   },
   "outputs": [],
   "source": [
    "y_calib = y_calib.values.ravel().astype(int)"
   ]
  },
  {
   "cell_type": "code",
   "execution_count": 43,
   "id": "65d1320d-f588-4b38-9072-62af1ae97f7d",
   "metadata": {
    "execution": {
     "iopub.execute_input": "2025-07-28T10:46:28.440792Z",
     "iopub.status.busy": "2025-07-28T10:46:28.439918Z",
     "iopub.status.idle": "2025-07-28T10:46:28.449320Z",
     "shell.execute_reply": "2025-07-28T10:46:28.448087Z"
    },
    "papermill": {
     "duration": 0.044925,
     "end_time": "2025-07-28T10:46:28.451965",
     "exception": false,
     "start_time": "2025-07-28T10:46:28.407040",
     "status": "completed"
    },
    "tags": []
   },
   "outputs": [],
   "source": [
    "from fairness_multiverse.conformal import compute_nc_scores\n",
    "\n",
    "# Compute nonconformity scores on calibration set (1 - probability of true class)\n",
    "nc_scores = compute_nc_scores(probs_calib, y_calib)"
   ]
  },
  {
   "cell_type": "code",
   "execution_count": 44,
   "id": "df3b8ca3-53b7-43d5-9667-7c85da7aeda2",
   "metadata": {
    "execution": {
     "iopub.execute_input": "2025-07-28T10:46:28.516001Z",
     "iopub.status.busy": "2025-07-28T10:46:28.515174Z",
     "iopub.status.idle": "2025-07-28T10:46:28.523759Z",
     "shell.execute_reply": "2025-07-28T10:46:28.522512Z"
    },
    "papermill": {
     "duration": 0.04403,
     "end_time": "2025-07-28T10:46:28.526257",
     "exception": false,
     "start_time": "2025-07-28T10:46:28.482227",
     "status": "completed"
    },
    "tags": []
   },
   "outputs": [],
   "source": [
    "from fairness_multiverse.conformal import find_threshold\n",
    "\n",
    "# Find conformal threshold q_hat for the given alpha (split conformal method)\n",
    "q_hat = find_threshold(nc_scores, alpha)"
   ]
  },
  {
   "cell_type": "code",
   "execution_count": 45,
   "id": "4d29e6c1-0ef6-4aa4-b8fe-4fe79b0d033a",
   "metadata": {
    "execution": {
     "iopub.execute_input": "2025-07-28T10:46:28.591740Z",
     "iopub.status.busy": "2025-07-28T10:46:28.590608Z",
     "iopub.status.idle": "2025-07-28T10:46:28.598448Z",
     "shell.execute_reply": "2025-07-28T10:46:28.597268Z"
    },
    "papermill": {
     "duration": 0.042707,
     "end_time": "2025-07-28T10:46:28.600283",
     "exception": false,
     "start_time": "2025-07-28T10:46:28.557576",
     "status": "completed"
    },
    "tags": []
   },
   "outputs": [
    {
     "data": {
      "text/plain": [
       "0.7765924572679745"
      ]
     },
     "execution_count": 45,
     "metadata": {},
     "output_type": "execute_result"
    }
   ],
   "source": [
    "q_hat"
   ]
  },
  {
   "cell_type": "code",
   "execution_count": 46,
   "id": "92460794-cdac-4be2-ba28-f28c0515a6fb",
   "metadata": {
    "execution": {
     "iopub.execute_input": "2025-07-28T10:46:28.659042Z",
     "iopub.status.busy": "2025-07-28T10:46:28.658001Z",
     "iopub.status.idle": "2025-07-28T10:46:30.342983Z",
     "shell.execute_reply": "2025-07-28T10:46:30.341822Z"
    },
    "papermill": {
     "duration": 1.716008,
     "end_time": "2025-07-28T10:46:30.345223",
     "exception": false,
     "start_time": "2025-07-28T10:46:28.629215",
     "status": "completed"
    },
    "tags": []
   },
   "outputs": [],
   "source": [
    "from fairness_multiverse.conformal import predict_conformal_sets\n",
    "\n",
    "# Generate prediction sets for each test example\n",
    "pred_sets = predict_conformal_sets(model, X_test, q_hat)"
   ]
  },
  {
   "cell_type": "code",
   "execution_count": 47,
   "id": "d90c9a65-e6db-4f5d-80cd-e68fb7e46829",
   "metadata": {
    "execution": {
     "iopub.execute_input": "2025-07-28T10:46:30.399693Z",
     "iopub.status.busy": "2025-07-28T10:46:30.398920Z",
     "iopub.status.idle": "2025-07-28T10:46:30.405326Z",
     "shell.execute_reply": "2025-07-28T10:46:30.404199Z"
    },
    "papermill": {
     "duration": 0.035671,
     "end_time": "2025-07-28T10:46:30.407256",
     "exception": false,
     "start_time": "2025-07-28T10:46:30.371585",
     "status": "completed"
    },
    "tags": []
   },
   "outputs": [],
   "source": [
    "y_true = y_true.squeeze()"
   ]
  },
  {
   "cell_type": "code",
   "execution_count": 48,
   "id": "3a58a54a-1e68-46b9-927a-df01f18aebc8",
   "metadata": {
    "execution": {
     "iopub.execute_input": "2025-07-28T10:46:30.437877Z",
     "iopub.status.busy": "2025-07-28T10:46:30.437426Z",
     "iopub.status.idle": "2025-07-28T10:46:31.374946Z",
     "shell.execute_reply": "2025-07-28T10:46:31.373846Z"
    },
    "papermill": {
     "duration": 0.954558,
     "end_time": "2025-07-28T10:46:31.377166",
     "exception": false,
     "start_time": "2025-07-28T10:46:30.422608",
     "status": "completed"
    },
    "tags": []
   },
   "outputs": [],
   "source": [
    "from fairness_multiverse.conformal import evaluate_sets\n",
    "\n",
    "# Evaluate coverage and average set size on test data\n",
    "metrics = evaluate_sets(pred_sets, y_true)"
   ]
  },
  {
   "cell_type": "markdown",
   "id": "2b569c12-9aaa-4c88-98c9-bbcd0cf3ebb8",
   "metadata": {
    "papermill": {
     "duration": 0.027054,
     "end_time": "2025-07-28T10:46:31.431994",
     "exception": false,
     "start_time": "2025-07-28T10:46:31.404940",
     "status": "completed"
    },
    "tags": []
   },
   "source": [
    "# CP Metrics"
   ]
  },
  {
   "cell_type": "code",
   "execution_count": 49,
   "id": "5ce0a5cb-201f-45a0-ade5-94c7f0bd6095",
   "metadata": {
    "execution": {
     "iopub.execute_input": "2025-07-28T10:46:31.488582Z",
     "iopub.status.busy": "2025-07-28T10:46:31.487639Z",
     "iopub.status.idle": "2025-07-28T10:46:31.494944Z",
     "shell.execute_reply": "2025-07-28T10:46:31.493839Z"
    },
    "papermill": {
     "duration": 0.037612,
     "end_time": "2025-07-28T10:46:31.496816",
     "exception": false,
     "start_time": "2025-07-28T10:46:31.459204",
     "status": "completed"
    },
    "tags": []
   },
   "outputs": [
    {
     "data": {
      "text/plain": [
       "{'coverage': 0.9062200423587115, 'avg_size': 1.1928101660907369}"
      ]
     },
     "execution_count": 49,
     "metadata": {},
     "output_type": "execute_result"
    }
   ],
   "source": [
    "metrics"
   ]
  },
  {
   "cell_type": "code",
   "execution_count": 50,
   "id": "9b9a838d-31c9-430b-ae14-12baee460d17",
   "metadata": {
    "execution": {
     "iopub.execute_input": "2025-07-28T10:46:31.553936Z",
     "iopub.status.busy": "2025-07-28T10:46:31.553463Z",
     "iopub.status.idle": "2025-07-28T10:46:31.560572Z",
     "shell.execute_reply": "2025-07-28T10:46:31.559446Z"
    },
    "papermill": {
     "duration": 0.037677,
     "end_time": "2025-07-28T10:46:31.562414",
     "exception": false,
     "start_time": "2025-07-28T10:46:31.524737",
     "status": "completed"
    },
    "tags": []
   },
   "outputs": [],
   "source": [
    "example_universe = universe.copy()\n",
    "universe_training_size = example_universe.get(\"training_size\")\n",
    "universe_scale = example_universe.get(\"scale\")\n",
    "universe_model = example_universe.get(\"model\")\n",
    "universe_exclude_features = example_universe.get(\"exclude_features\")\n",
    "universe_exclude_subgroups = example_universe.get(\"exclude_subgroups\")"
   ]
  },
  {
   "cell_type": "code",
   "execution_count": 51,
   "id": "f4b6a8ac-9dc0-4245-8a91-5b3b5999c4f9",
   "metadata": {
    "execution": {
     "iopub.execute_input": "2025-07-28T10:46:31.613038Z",
     "iopub.status.busy": "2025-07-28T10:46:31.612253Z",
     "iopub.status.idle": "2025-07-28T10:46:31.619194Z",
     "shell.execute_reply": "2025-07-28T10:46:31.618188Z"
    },
    "papermill": {
     "duration": 0.033452,
     "end_time": "2025-07-28T10:46:31.620982",
     "exception": false,
     "start_time": "2025-07-28T10:46:31.587530",
     "status": "completed"
    },
    "tags": []
   },
   "outputs": [],
   "source": [
    "cp_metrics_dict = {\n",
    "    \"universe_id\": [universe_id],\n",
    "    \"universe_training_size\": [universe_training_size],\n",
    "    \"universe_scale\": [universe_scale],\n",
    "    \"universe_model\": [universe_model],\n",
    "    \"universe_exclude_features\": [universe_exclude_features],\n",
    "    \"universe_exclude_subgroups\": [universe_exclude_subgroups],\n",
    "    \"q_hat\": [q_hat],\n",
    "    \"coverage\": [metrics[\"coverage\"]],\n",
    "    \"avg_size\": [metrics[\"avg_size\"]],\n",
    "}"
   ]
  },
  {
   "cell_type": "code",
   "execution_count": 52,
   "id": "908acbb1-0371-4915-85ca-3fa520d2efe2",
   "metadata": {
    "execution": {
     "iopub.execute_input": "2025-07-28T10:46:31.670670Z",
     "iopub.status.busy": "2025-07-28T10:46:31.670001Z",
     "iopub.status.idle": "2025-07-28T10:46:31.680795Z",
     "shell.execute_reply": "2025-07-28T10:46:31.679394Z"
    },
    "papermill": {
     "duration": 0.037233,
     "end_time": "2025-07-28T10:46:31.682484",
     "exception": false,
     "start_time": "2025-07-28T10:46:31.645251",
     "status": "completed"
    },
    "tags": []
   },
   "outputs": [
    {
     "data": {
      "text/plain": [
       "{'universe_id': ['1bae282befaf5b895de3ca9ab1475173'],\n",
       " 'universe_training_size': ['1k'],\n",
       " 'universe_scale': ['scale'],\n",
       " 'universe_model': ['gbm'],\n",
       " 'universe_exclude_features': ['age'],\n",
       " 'universe_exclude_subgroups': ['drop-non-german'],\n",
       " 'q_hat': [0.7765924572679745],\n",
       " 'coverage': [0.9062200423587115],\n",
       " 'avg_size': [1.1928101660907369]}"
      ]
     },
     "execution_count": 52,
     "metadata": {},
     "output_type": "execute_result"
    }
   ],
   "source": [
    "cp_metrics_dict"
   ]
  },
  {
   "cell_type": "code",
   "execution_count": 53,
   "id": "33007efc-14e9-4ec6-97ac-56a455c82265",
   "metadata": {
    "execution": {
     "iopub.execute_input": "2025-07-28T10:46:31.732574Z",
     "iopub.status.busy": "2025-07-28T10:46:31.731847Z",
     "iopub.status.idle": "2025-07-28T10:46:31.739863Z",
     "shell.execute_reply": "2025-07-28T10:46:31.738777Z"
    },
    "papermill": {
     "duration": 0.035435,
     "end_time": "2025-07-28T10:46:31.741917",
     "exception": false,
     "start_time": "2025-07-28T10:46:31.706482",
     "status": "completed"
    },
    "tags": []
   },
   "outputs": [],
   "source": [
    "cp_metrics_df = pd.DataFrame(cp_metrics_dict)"
   ]
  },
  {
   "cell_type": "code",
   "execution_count": 54,
   "id": "db12611b-57b2-4910-b9d0-355adfd6e7bf",
   "metadata": {
    "execution": {
     "iopub.execute_input": "2025-07-28T10:46:31.815267Z",
     "iopub.status.busy": "2025-07-28T10:46:31.814537Z",
     "iopub.status.idle": "2025-07-28T10:46:31.833894Z",
     "shell.execute_reply": "2025-07-28T10:46:31.832628Z"
    },
    "papermill": {
     "duration": 0.058403,
     "end_time": "2025-07-28T10:46:31.836107",
     "exception": false,
     "start_time": "2025-07-28T10:46:31.777704",
     "status": "completed"
    },
    "tags": []
   },
   "outputs": [
    {
     "data": {
      "text/html": [
       "<div>\n",
       "<style scoped>\n",
       "    .dataframe tbody tr th:only-of-type {\n",
       "        vertical-align: middle;\n",
       "    }\n",
       "\n",
       "    .dataframe tbody tr th {\n",
       "        vertical-align: top;\n",
       "    }\n",
       "\n",
       "    .dataframe thead th {\n",
       "        text-align: right;\n",
       "    }\n",
       "</style>\n",
       "<table border=\"1\" class=\"dataframe\">\n",
       "  <thead>\n",
       "    <tr style=\"text-align: right;\">\n",
       "      <th></th>\n",
       "      <th>universe_id</th>\n",
       "      <th>universe_training_size</th>\n",
       "      <th>universe_scale</th>\n",
       "      <th>universe_model</th>\n",
       "      <th>universe_exclude_features</th>\n",
       "      <th>universe_exclude_subgroups</th>\n",
       "      <th>q_hat</th>\n",
       "      <th>coverage</th>\n",
       "      <th>avg_size</th>\n",
       "    </tr>\n",
       "  </thead>\n",
       "  <tbody>\n",
       "    <tr>\n",
       "      <th>0</th>\n",
       "      <td>1bae282befaf5b895de3ca9ab1475173</td>\n",
       "      <td>1k</td>\n",
       "      <td>scale</td>\n",
       "      <td>gbm</td>\n",
       "      <td>age</td>\n",
       "      <td>drop-non-german</td>\n",
       "      <td>0.776592</td>\n",
       "      <td>0.90622</td>\n",
       "      <td>1.19281</td>\n",
       "    </tr>\n",
       "  </tbody>\n",
       "</table>\n",
       "</div>"
      ],
      "text/plain": [
       "                        universe_id universe_training_size universe_scale  \\\n",
       "0  1bae282befaf5b895de3ca9ab1475173                     1k          scale   \n",
       "\n",
       "  universe_model universe_exclude_features universe_exclude_subgroups  \\\n",
       "0            gbm                       age            drop-non-german   \n",
       "\n",
       "      q_hat  coverage  avg_size  \n",
       "0  0.776592   0.90622   1.19281  "
      ]
     },
     "execution_count": 54,
     "metadata": {},
     "output_type": "execute_result"
    }
   ],
   "source": [
    "cp_metrics_df"
   ]
  },
  {
   "cell_type": "code",
   "execution_count": 55,
   "id": "b7fbde55-a0a1-47e4-9af6-fe4a17fa8c61",
   "metadata": {
    "execution": {
     "iopub.execute_input": "2025-07-28T10:46:31.908100Z",
     "iopub.status.busy": "2025-07-28T10:46:31.907667Z",
     "iopub.status.idle": "2025-07-28T10:46:31.913372Z",
     "shell.execute_reply": "2025-07-28T10:46:31.912173Z"
    },
    "papermill": {
     "duration": 0.045148,
     "end_time": "2025-07-28T10:46:31.915390",
     "exception": false,
     "start_time": "2025-07-28T10:46:31.870242",
     "status": "completed"
    },
    "tags": []
   },
   "outputs": [],
   "source": [
    "# Conditional Coverage & looking at subgroups"
   ]
  },
  {
   "cell_type": "code",
   "execution_count": 56,
   "id": "027ae886-68dd-4141-96c7-805a5450e1ef",
   "metadata": {
    "execution": {
     "iopub.execute_input": "2025-07-28T10:46:31.994250Z",
     "iopub.status.busy": "2025-07-28T10:46:31.993186Z",
     "iopub.status.idle": "2025-07-28T10:46:32.265875Z",
     "shell.execute_reply": "2025-07-28T10:46:32.265049Z"
    },
    "papermill": {
     "duration": 0.31528,
     "end_time": "2025-07-28T10:46:32.267435",
     "exception": false,
     "start_time": "2025-07-28T10:46:31.952155",
     "status": "completed"
    },
    "tags": []
   },
   "outputs": [],
   "source": [
    "from fairness_multiverse.conformal import build_cp_groups\n",
    "\n",
    "cp_groups_df = build_cp_groups(pred_sets, y_true, X_test.index, org_test)\n",
    "#needs universe_id and setting"
   ]
  },
  {
   "cell_type": "code",
   "execution_count": 57,
   "id": "01d5802c-663a-4d1f-9d69-e036faaffbf7",
   "metadata": {
    "execution": {
     "iopub.execute_input": "2025-07-28T10:46:32.297703Z",
     "iopub.status.busy": "2025-07-28T10:46:32.297165Z",
     "iopub.status.idle": "2025-07-28T10:46:32.301657Z",
     "shell.execute_reply": "2025-07-28T10:46:32.300761Z"
    },
    "papermill": {
     "duration": 0.021179,
     "end_time": "2025-07-28T10:46:32.303188",
     "exception": false,
     "start_time": "2025-07-28T10:46:32.282009",
     "status": "completed"
    },
    "tags": []
   },
   "outputs": [],
   "source": [
    "#delete\n",
    "#cp_groups_df"
   ]
  },
  {
   "cell_type": "code",
   "execution_count": 58,
   "id": "fa424af1-d1eb-443d-b717-2d279ada8408",
   "metadata": {
    "execution": {
     "iopub.execute_input": "2025-07-28T10:46:32.335963Z",
     "iopub.status.busy": "2025-07-28T10:46:32.335434Z",
     "iopub.status.idle": "2025-07-28T10:46:32.340263Z",
     "shell.execute_reply": "2025-07-28T10:46:32.339361Z"
    },
    "papermill": {
     "duration": 0.023015,
     "end_time": "2025-07-28T10:46:32.341853",
     "exception": false,
     "start_time": "2025-07-28T10:46:32.318838",
     "status": "completed"
    },
    "tags": []
   },
   "outputs": [],
   "source": [
    "#delete\n",
    "#percentage = (cp_groups_df['nongerman_female'] == 1).mean() * 100\n",
    "#print(percentage)\n"
   ]
  },
  {
   "cell_type": "code",
   "execution_count": 59,
   "id": "6cbdab96-b2b2-45af-ad54-d0516db2e28d",
   "metadata": {
    "execution": {
     "iopub.execute_input": "2025-07-28T10:46:32.372846Z",
     "iopub.status.busy": "2025-07-28T10:46:32.372440Z",
     "iopub.status.idle": "2025-07-28T10:46:34.198340Z",
     "shell.execute_reply": "2025-07-28T10:46:34.197327Z"
    },
    "papermill": {
     "duration": 1.843301,
     "end_time": "2025-07-28T10:46:34.200402",
     "exception": false,
     "start_time": "2025-07-28T10:46:32.357101",
     "status": "completed"
    },
    "tags": []
   },
   "outputs": [],
   "source": [
    "# Define covered = 1 if true_label is in the predicted set\n",
    "cp_groups_df['covered'] = cp_groups_df.apply(\n",
    "    lambda r: int(r['true_label'] in r['pred_set']),\n",
    "    axis=1\n",
    ")"
   ]
  },
  {
   "cell_type": "code",
   "execution_count": 60,
   "id": "338ff529-1a6b-4b87-a931-8e4788d52aad",
   "metadata": {
    "execution": {
     "iopub.execute_input": "2025-07-28T10:46:34.253485Z",
     "iopub.status.busy": "2025-07-28T10:46:34.252645Z",
     "iopub.status.idle": "2025-07-28T10:46:34.258684Z",
     "shell.execute_reply": "2025-07-28T10:46:34.257776Z"
    },
    "papermill": {
     "duration": 0.032568,
     "end_time": "2025-07-28T10:46:34.260267",
     "exception": false,
     "start_time": "2025-07-28T10:46:34.227699",
     "status": "completed"
    },
    "tags": []
   },
   "outputs": [],
   "source": [
    "#cp_groups_df"
   ]
  },
  {
   "cell_type": "code",
   "execution_count": 61,
   "id": "90032e27-66df-4540-9169-4e89cfbaa758",
   "metadata": {
    "execution": {
     "iopub.execute_input": "2025-07-28T10:46:34.309789Z",
     "iopub.status.busy": "2025-07-28T10:46:34.309021Z",
     "iopub.status.idle": "2025-07-28T10:46:34.322177Z",
     "shell.execute_reply": "2025-07-28T10:46:34.320194Z"
    },
    "papermill": {
     "duration": 0.040284,
     "end_time": "2025-07-28T10:46:34.324898",
     "exception": false,
     "start_time": "2025-07-28T10:46:34.284614",
     "status": "completed"
    },
    "tags": []
   },
   "outputs": [],
   "source": [
    "subgroups = ['frau1','nongerman','nongerman_male','nongerman_female']\n",
    "\n",
    "# Conditional coverage for subgroup==1\n",
    "cond_coverage = {\n",
    "    g: cp_groups_df.loc[cp_groups_df[g]==1, 'covered'].mean()\n",
    "    for g in subgroups\n",
    "}"
   ]
  },
  {
   "cell_type": "code",
   "execution_count": 62,
   "id": "1e348fb1-b9c3-45bc-ba23-f016827a7e0d",
   "metadata": {
    "execution": {
     "iopub.execute_input": "2025-07-28T10:46:34.380689Z",
     "iopub.status.busy": "2025-07-28T10:46:34.379364Z",
     "iopub.status.idle": "2025-07-28T10:46:34.387367Z",
     "shell.execute_reply": "2025-07-28T10:46:34.386334Z"
    },
    "papermill": {
     "duration": 0.03733,
     "end_time": "2025-07-28T10:46:34.389112",
     "exception": false,
     "start_time": "2025-07-28T10:46:34.351782",
     "status": "completed"
    },
    "tags": []
   },
   "outputs": [
    {
     "data": {
      "text/plain": [
       "{'frau1': 0.904434559913735,\n",
       " 'nongerman': 0.9062482456632797,\n",
       " 'nongerman_male': 0.9231739169593803,\n",
       " 'nongerman_female': 0.8782414307004471}"
      ]
     },
     "execution_count": 62,
     "metadata": {},
     "output_type": "execute_result"
    }
   ],
   "source": [
    "cond_coverage"
   ]
  },
  {
   "cell_type": "code",
   "execution_count": 63,
   "id": "f5093324-c3dd-4d63-bc4c-8d945e5c8bbb",
   "metadata": {
    "execution": {
     "iopub.execute_input": "2025-07-28T10:46:34.444884Z",
     "iopub.status.busy": "2025-07-28T10:46:34.444336Z",
     "iopub.status.idle": "2025-07-28T10:46:34.452447Z",
     "shell.execute_reply": "2025-07-28T10:46:34.451481Z"
    },
    "papermill": {
     "duration": 0.037682,
     "end_time": "2025-07-28T10:46:34.454244",
     "exception": false,
     "start_time": "2025-07-28T10:46:34.416562",
     "status": "completed"
    },
    "tags": []
   },
   "outputs": [],
   "source": [
    "for subgroup, cov in cond_coverage.items():\n",
    "    cp_metrics_df[f\"cov_{subgroup}\"] = cov"
   ]
  },
  {
   "cell_type": "code",
   "execution_count": 64,
   "id": "6e872e10-dbe5-49e8-b554-5030c98ff75d",
   "metadata": {
    "execution": {
     "iopub.execute_input": "2025-07-28T10:46:34.510983Z",
     "iopub.status.busy": "2025-07-28T10:46:34.510484Z",
     "iopub.status.idle": "2025-07-28T10:46:34.528750Z",
     "shell.execute_reply": "2025-07-28T10:46:34.527648Z"
    },
    "papermill": {
     "duration": 0.048264,
     "end_time": "2025-07-28T10:46:34.530575",
     "exception": false,
     "start_time": "2025-07-28T10:46:34.482311",
     "status": "completed"
    },
    "tags": []
   },
   "outputs": [
    {
     "data": {
      "text/html": [
       "<div>\n",
       "<style scoped>\n",
       "    .dataframe tbody tr th:only-of-type {\n",
       "        vertical-align: middle;\n",
       "    }\n",
       "\n",
       "    .dataframe tbody tr th {\n",
       "        vertical-align: top;\n",
       "    }\n",
       "\n",
       "    .dataframe thead th {\n",
       "        text-align: right;\n",
       "    }\n",
       "</style>\n",
       "<table border=\"1\" class=\"dataframe\">\n",
       "  <thead>\n",
       "    <tr style=\"text-align: right;\">\n",
       "      <th></th>\n",
       "      <th>universe_id</th>\n",
       "      <th>universe_training_size</th>\n",
       "      <th>universe_scale</th>\n",
       "      <th>universe_model</th>\n",
       "      <th>universe_exclude_features</th>\n",
       "      <th>universe_exclude_subgroups</th>\n",
       "      <th>q_hat</th>\n",
       "      <th>coverage</th>\n",
       "      <th>avg_size</th>\n",
       "      <th>cov_frau1</th>\n",
       "      <th>cov_nongerman</th>\n",
       "      <th>cov_nongerman_male</th>\n",
       "      <th>cov_nongerman_female</th>\n",
       "    </tr>\n",
       "  </thead>\n",
       "  <tbody>\n",
       "    <tr>\n",
       "      <th>0</th>\n",
       "      <td>1bae282befaf5b895de3ca9ab1475173</td>\n",
       "      <td>1k</td>\n",
       "      <td>scale</td>\n",
       "      <td>gbm</td>\n",
       "      <td>age</td>\n",
       "      <td>drop-non-german</td>\n",
       "      <td>0.776592</td>\n",
       "      <td>0.90622</td>\n",
       "      <td>1.19281</td>\n",
       "      <td>0.904435</td>\n",
       "      <td>0.906248</td>\n",
       "      <td>0.923174</td>\n",
       "      <td>0.878241</td>\n",
       "    </tr>\n",
       "  </tbody>\n",
       "</table>\n",
       "</div>"
      ],
      "text/plain": [
       "                        universe_id universe_training_size universe_scale  \\\n",
       "0  1bae282befaf5b895de3ca9ab1475173                     1k          scale   \n",
       "\n",
       "  universe_model universe_exclude_features universe_exclude_subgroups  \\\n",
       "0            gbm                       age            drop-non-german   \n",
       "\n",
       "      q_hat  coverage  avg_size  cov_frau1  cov_nongerman  cov_nongerman_male  \\\n",
       "0  0.776592   0.90622   1.19281   0.904435       0.906248            0.923174   \n",
       "\n",
       "   cov_nongerman_female  \n",
       "0              0.878241  "
      ]
     },
     "execution_count": 64,
     "metadata": {},
     "output_type": "execute_result"
    }
   ],
   "source": [
    "cp_metrics_df"
   ]
  },
  {
   "cell_type": "markdown",
   "id": "33774451",
   "metadata": {
    "papermill": {
     "duration": 0.028205,
     "end_time": "2025-07-28T10:46:34.587464",
     "exception": false,
     "start_time": "2025-07-28T10:46:34.559259",
     "status": "completed"
    },
    "tags": []
   },
   "source": [
    "# (Fairness) Metrics"
   ]
  },
  {
   "cell_type": "code",
   "execution_count": 65,
   "id": "debc5d62",
   "metadata": {
    "execution": {
     "iopub.execute_input": "2025-07-28T10:46:34.646528Z",
     "iopub.status.busy": "2025-07-28T10:46:34.646041Z",
     "iopub.status.idle": "2025-07-28T10:46:34.668276Z",
     "shell.execute_reply": "2025-07-28T10:46:34.667247Z"
    },
    "papermill": {
     "duration": 0.053618,
     "end_time": "2025-07-28T10:46:34.670114",
     "exception": false,
     "start_time": "2025-07-28T10:46:34.616496",
     "status": "completed"
    },
    "tags": []
   },
   "outputs": [],
   "source": [
    "# do I need to include maxdeutsch1.missing?\n",
    "\n",
    "import numpy as np\n",
    "\n",
    "colname_to_bin = \"maxdeutsch1\"\n",
    "majority_value = org_train[colname_to_bin].mode()[0]\n",
    "\n",
    "org_test[\"majmin\"] = np.where(org_test[colname_to_bin] == majority_value, \"majority\", \"minority\")"
   ]
  },
  {
   "cell_type": "code",
   "execution_count": 66,
   "id": "06a50de5",
   "metadata": {
    "execution": {
     "iopub.execute_input": "2025-07-28T10:46:34.726001Z",
     "iopub.status.busy": "2025-07-28T10:46:34.725498Z",
     "iopub.status.idle": "2025-07-28T10:46:37.709224Z",
     "shell.execute_reply": "2025-07-28T10:46:37.708243Z"
    },
    "papermill": {
     "duration": 3.012484,
     "end_time": "2025-07-28T10:46:37.711327",
     "exception": false,
     "start_time": "2025-07-28T10:46:34.698843",
     "status": "completed"
    },
    "tags": []
   },
   "outputs": [],
   "source": [
    "example_universe = universe.copy()\n",
    "example_universe[\"cutoff\"] = example_universe[\"cutoff\"][0]\n",
    "example_universe[\"eval_fairness_grouping\"] = example_universe[\"eval_fairness_grouping\"][0]\n",
    "fairness_dict, metric_frame = universe_analysis.compute_metrics(\n",
    "    example_universe,\n",
    "    y_pred_prob=probs_test,\n",
    "    y_test=y_true,\n",
    "    org_test=org_test,\n",
    ")"
   ]
  },
  {
   "cell_type": "markdown",
   "id": "f95d4e02",
   "metadata": {
    "papermill": {
     "duration": 0.025744,
     "end_time": "2025-07-28T10:46:37.766435",
     "exception": false,
     "start_time": "2025-07-28T10:46:37.740691",
     "status": "completed"
    },
    "tags": []
   },
   "source": [
    "# Overall"
   ]
  },
  {
   "cell_type": "markdown",
   "id": "bdee4871",
   "metadata": {
    "papermill": {
     "duration": 0.026053,
     "end_time": "2025-07-28T10:46:37.819684",
     "exception": false,
     "start_time": "2025-07-28T10:46:37.793631",
     "status": "completed"
    },
    "tags": []
   },
   "source": [
    "Fairness\n",
    "Main fairness target: Equalized Odds. Seems to be a better fit than equal opportunity, since we're not only interested in Y = 1. Seems to be a better fit than demographic parity, since we also care about accuracy, not just equal distribution of preds.\n",
    "\n",
    "Pick column for computation of fairness metrics\n",
    "\n",
    "Performance\n",
    "Overall performance measures, most interesting in relation to the measures split by group below"
   ]
  },
  {
   "cell_type": "code",
   "execution_count": 67,
   "id": "c4e067c6",
   "metadata": {
    "execution": {
     "iopub.execute_input": "2025-07-28T10:46:37.877396Z",
     "iopub.status.busy": "2025-07-28T10:46:37.876882Z",
     "iopub.status.idle": "2025-07-28T10:46:37.886195Z",
     "shell.execute_reply": "2025-07-28T10:46:37.885318Z"
    },
    "papermill": {
     "duration": 0.039506,
     "end_time": "2025-07-28T10:46:37.887851",
     "exception": false,
     "start_time": "2025-07-28T10:46:37.848345",
     "status": "completed"
    },
    "tags": []
   },
   "outputs": [
    {
     "data": {
      "text/plain": [
       "accuracy                   0.221592\n",
       "balanced accuracy          0.542405\n",
       "f1                         0.243000\n",
       "precision                  0.138818\n",
       "false positive rate        0.889120\n",
       "false negative rate        0.026069\n",
       "selection rate             0.900000\n",
       "count                  89710.000000\n",
       "dtype: float64"
      ]
     },
     "execution_count": 67,
     "metadata": {},
     "output_type": "execute_result"
    }
   ],
   "source": [
    "metric_frame.overall"
   ]
  },
  {
   "cell_type": "markdown",
   "id": "e968fe9d",
   "metadata": {
    "papermill": {
     "duration": 0.02758,
     "end_time": "2025-07-28T10:46:37.942139",
     "exception": false,
     "start_time": "2025-07-28T10:46:37.914559",
     "status": "completed"
    },
    "tags": []
   },
   "source": [
    "By Group"
   ]
  },
  {
   "cell_type": "code",
   "execution_count": 68,
   "id": "ec325bce",
   "metadata": {
    "execution": {
     "iopub.execute_input": "2025-07-28T10:46:37.996904Z",
     "iopub.status.busy": "2025-07-28T10:46:37.996320Z",
     "iopub.status.idle": "2025-07-28T10:46:38.014804Z",
     "shell.execute_reply": "2025-07-28T10:46:38.013642Z"
    },
    "papermill": {
     "duration": 0.048389,
     "end_time": "2025-07-28T10:46:38.016708",
     "exception": false,
     "start_time": "2025-07-28T10:46:37.968319",
     "status": "completed"
    },
    "tags": []
   },
   "outputs": [
    {
     "data": {
      "text/html": [
       "<div>\n",
       "<style scoped>\n",
       "    .dataframe tbody tr th:only-of-type {\n",
       "        vertical-align: middle;\n",
       "    }\n",
       "\n",
       "    .dataframe tbody tr th {\n",
       "        vertical-align: top;\n",
       "    }\n",
       "\n",
       "    .dataframe thead th {\n",
       "        text-align: right;\n",
       "    }\n",
       "</style>\n",
       "<table border=\"1\" class=\"dataframe\">\n",
       "  <thead>\n",
       "    <tr style=\"text-align: right;\">\n",
       "      <th></th>\n",
       "      <th>accuracy</th>\n",
       "      <th>balanced accuracy</th>\n",
       "      <th>f1</th>\n",
       "      <th>precision</th>\n",
       "      <th>false positive rate</th>\n",
       "      <th>false negative rate</th>\n",
       "      <th>selection rate</th>\n",
       "      <th>count</th>\n",
       "    </tr>\n",
       "    <tr>\n",
       "      <th>majmin</th>\n",
       "      <th></th>\n",
       "      <th></th>\n",
       "      <th></th>\n",
       "      <th></th>\n",
       "      <th></th>\n",
       "      <th></th>\n",
       "      <th></th>\n",
       "      <th></th>\n",
       "    </tr>\n",
       "  </thead>\n",
       "  <tbody>\n",
       "    <tr>\n",
       "      <th>majority</th>\n",
       "      <td>0.230606</td>\n",
       "      <td>0.545368</td>\n",
       "      <td>0.250532</td>\n",
       "      <td>0.143772</td>\n",
       "      <td>0.882459</td>\n",
       "      <td>0.026805</td>\n",
       "      <td>0.894448</td>\n",
       "      <td>69170.0</td>\n",
       "    </tr>\n",
       "    <tr>\n",
       "      <th>minority</th>\n",
       "      <td>0.191237</td>\n",
       "      <td>0.532823</td>\n",
       "      <td>0.217817</td>\n",
       "      <td>0.122576</td>\n",
       "      <td>0.911127</td>\n",
       "      <td>0.023226</td>\n",
       "      <td>0.918695</td>\n",
       "      <td>20540.0</td>\n",
       "    </tr>\n",
       "  </tbody>\n",
       "</table>\n",
       "</div>"
      ],
      "text/plain": [
       "          accuracy  balanced accuracy        f1  precision  \\\n",
       "majmin                                                       \n",
       "majority  0.230606           0.545368  0.250532   0.143772   \n",
       "minority  0.191237           0.532823  0.217817   0.122576   \n",
       "\n",
       "          false positive rate  false negative rate  selection rate    count  \n",
       "majmin                                                                       \n",
       "majority             0.882459             0.026805        0.894448  69170.0  \n",
       "minority             0.911127             0.023226        0.918695  20540.0  "
      ]
     },
     "execution_count": 68,
     "metadata": {},
     "output_type": "execute_result"
    }
   ],
   "source": [
    "metric_frame.by_group"
   ]
  },
  {
   "cell_type": "code",
   "execution_count": 69,
   "id": "a9ddbe63",
   "metadata": {
    "execution": {
     "iopub.execute_input": "2025-07-28T10:46:38.074393Z",
     "iopub.status.busy": "2025-07-28T10:46:38.073598Z",
     "iopub.status.idle": "2025-07-28T10:46:40.468337Z",
     "shell.execute_reply": "2025-07-28T10:46:40.467250Z"
    },
    "papermill": {
     "duration": 2.425571,
     "end_time": "2025-07-28T10:46:40.470038",
     "exception": false,
     "start_time": "2025-07-28T10:46:38.044467",
     "status": "completed"
    },
    "tags": []
   },
   "outputs": [
    {
     "data": {
      "text/plain": [
       "array([[<Axes: title={'center': 'accuracy'}, xlabel='majmin'>,\n",
       "        <Axes: title={'center': 'balanced accuracy'}, xlabel='majmin'>,\n",
       "        <Axes: title={'center': 'f1'}, xlabel='majmin'>],\n",
       "       [<Axes: title={'center': 'precision'}, xlabel='majmin'>,\n",
       "        <Axes: title={'center': 'false positive rate'}, xlabel='majmin'>,\n",
       "        <Axes: title={'center': 'false negative rate'}, xlabel='majmin'>],\n",
       "       [<Axes: title={'center': 'selection rate'}, xlabel='majmin'>,\n",
       "        <Axes: title={'center': 'count'}, xlabel='majmin'>,\n",
       "        <Axes: xlabel='majmin'>]], dtype=object)"
      ]
     },
     "execution_count": 69,
     "metadata": {},
     "output_type": "execute_result"
    },
    {
     "data": {
      "image/png": "[encoded data removed]",
      "text/plain": [
       "<Figure size 1200x800 with 9 Axes>"
      ]
     },
     "metadata": {},
     "output_type": "display_data"
    }
   ],
   "source": [
    "# In a graphic\n",
    "metric_frame.by_group.plot.bar(\n",
    "    subplots=True,\n",
    "    layout=[3, 3],\n",
    "    legend=False,\n",
    "    figsize=[12, 8],\n",
    "    title=\"Show all metrics\",\n",
    ")"
   ]
  },
  {
   "cell_type": "markdown",
   "id": "f57a0bac",
   "metadata": {
    "papermill": {
     "duration": 0.027638,
     "end_time": "2025-07-28T10:46:40.527056",
     "exception": false,
     "start_time": "2025-07-28T10:46:40.499418",
     "status": "completed"
    },
    "tags": []
   },
   "source": [
    "# Final Output"
   ]
  },
  {
   "cell_type": "code",
   "execution_count": 70,
   "id": "96d280a3",
   "metadata": {
    "execution": {
     "iopub.execute_input": "2025-07-28T10:46:40.586575Z",
     "iopub.status.busy": "2025-07-28T10:46:40.585714Z",
     "iopub.status.idle": "2025-07-28T10:46:40.596202Z",
     "shell.execute_reply": "2025-07-28T10:46:40.595039Z"
    },
    "papermill": {
     "duration": 0.041562,
     "end_time": "2025-07-28T10:46:40.598159",
     "exception": false,
     "start_time": "2025-07-28T10:46:40.556597",
     "status": "completed"
    },
    "tags": []
   },
   "outputs": [
    {
     "data": {
      "text/plain": [
       "4"
      ]
     },
     "execution_count": 70,
     "metadata": {},
     "output_type": "execute_result"
    }
   ],
   "source": [
    "sub_universes = universe_analysis.generate_sub_universes()\n",
    "len(sub_universes)"
   ]
  },
  {
   "cell_type": "code",
   "execution_count": 71,
   "id": "92adf7ba",
   "metadata": {
    "execution": {
     "iopub.execute_input": "2025-07-28T10:46:40.661746Z",
     "iopub.status.busy": "2025-07-28T10:46:40.660708Z",
     "iopub.status.idle": "2025-07-28T10:46:40.668046Z",
     "shell.execute_reply": "2025-07-28T10:46:40.666968Z"
    },
    "papermill": {
     "duration": 0.039222,
     "end_time": "2025-07-28T10:46:40.669806",
     "exception": false,
     "start_time": "2025-07-28T10:46:40.630584",
     "status": "completed"
    },
    "tags": []
   },
   "outputs": [],
   "source": [
    "def filter_sub_universe_data(sub_universe, org_test):\n",
    "    # Keep all rows — no filtering\n",
    "    keep_rows_mask = np.ones(org_test.shape[0], dtype=bool)\n",
    "\n",
    "    print(f\"[INFO] Keeping all rows: {keep_rows_mask.sum()} rows retained.\")\n",
    "    return keep_rows_mask"
   ]
  },
  {
   "cell_type": "code",
   "execution_count": 72,
   "id": "4a759155",
   "metadata": {
    "execution": {
     "iopub.execute_input": "2025-07-28T10:46:40.730912Z",
     "iopub.status.busy": "2025-07-28T10:46:40.730318Z",
     "iopub.status.idle": "2025-07-28T10:46:52.496618Z",
     "shell.execute_reply": "2025-07-28T10:46:52.495490Z"
    },
    "papermill": {
     "duration": 11.798551,
     "end_time": "2025-07-28T10:46:52.498269",
     "exception": false,
     "start_time": "2025-07-28T10:46:40.699718",
     "status": "completed"
    },
    "tags": []
   },
   "outputs": [
    {
     "name": "stdout",
     "output_type": "stream",
     "text": [
      "Stopping execution_time clock.\n",
      "[INFO] Keeping all rows: 89710 rows retained.\n"
     ]
    },
    {
     "name": "stdout",
     "output_type": "stream",
     "text": [
      "[INFO] Keeping all rows: 89710 rows retained.\n"
     ]
    },
    {
     "name": "stdout",
     "output_type": "stream",
     "text": [
      "[INFO] Keeping all rows: 89710 rows retained.\n"
     ]
    },
    {
     "name": "stdout",
     "output_type": "stream",
     "text": [
      "[INFO] Keeping all rows: 89710 rows retained.\n"
     ]
    },
    {
     "data": {
      "text/html": [
       "<div>\n",
       "<style scoped>\n",
       "    .dataframe tbody tr th:only-of-type {\n",
       "        vertical-align: middle;\n",
       "    }\n",
       "\n",
       "    .dataframe tbody tr th {\n",
       "        vertical-align: top;\n",
       "    }\n",
       "\n",
       "    .dataframe thead th {\n",
       "        text-align: right;\n",
       "    }\n",
       "</style>\n",
       "<table border=\"1\" class=\"dataframe\">\n",
       "  <thead>\n",
       "    <tr style=\"text-align: right;\">\n",
       "      <th></th>\n",
       "      <th>run_no</th>\n",
       "      <th>universe_id</th>\n",
       "      <th>universe_settings</th>\n",
       "      <th>execution_time</th>\n",
       "      <th>test_size_n</th>\n",
       "      <th>test_size_frac</th>\n",
       "      <th>fair_main_equalized_odds_difference</th>\n",
       "      <th>fair_main_equalized_odds_ratio</th>\n",
       "      <th>fair_main_demographic_parity_difference</th>\n",
       "      <th>fair_main_demographic_parity_ratio</th>\n",
       "      <th>...</th>\n",
       "      <th>perf_grp_precision_0</th>\n",
       "      <th>perf_grp_precision_1</th>\n",
       "      <th>perf_grp_false positive rate_0</th>\n",
       "      <th>perf_grp_false positive rate_1</th>\n",
       "      <th>perf_grp_false negative rate_0</th>\n",
       "      <th>perf_grp_false negative rate_1</th>\n",
       "      <th>perf_grp_selection rate_0</th>\n",
       "      <th>perf_grp_selection rate_1</th>\n",
       "      <th>perf_grp_count_0</th>\n",
       "      <th>perf_grp_count_1</th>\n",
       "    </tr>\n",
       "  </thead>\n",
       "  <tbody>\n",
       "    <tr>\n",
       "      <th>0</th>\n",
       "      <td>11</td>\n",
       "      <td>1bae282befaf5b895de3ca9ab1475173</td>\n",
       "      <td>{\"cutoff\": \"quantile_0.1\", \"eval_fairness_grou...</td>\n",
       "      <td>31.926248</td>\n",
       "      <td>89710</td>\n",
       "      <td>1.0</td>\n",
       "      <td>0.028668</td>\n",
       "      <td>0.968535</td>\n",
       "      <td>0.024247</td>\n",
       "      <td>0.973607</td>\n",
       "      <td>...</td>\n",
       "      <td>NaN</td>\n",
       "      <td>NaN</td>\n",
       "      <td>NaN</td>\n",
       "      <td>NaN</td>\n",
       "      <td>NaN</td>\n",
       "      <td>NaN</td>\n",
       "      <td>NaN</td>\n",
       "      <td>NaN</td>\n",
       "      <td>NaN</td>\n",
       "      <td>NaN</td>\n",
       "    </tr>\n",
       "    <tr>\n",
       "      <th>0</th>\n",
       "      <td>11</td>\n",
       "      <td>1bae282befaf5b895de3ca9ab1475173</td>\n",
       "      <td>{\"cutoff\": \"quantile_0.1\", \"eval_fairness_grou...</td>\n",
       "      <td>31.926248</td>\n",
       "      <td>89710</td>\n",
       "      <td>1.0</td>\n",
       "      <td>0.028668</td>\n",
       "      <td>0.968535</td>\n",
       "      <td>0.024247</td>\n",
       "      <td>0.973607</td>\n",
       "      <td>...</td>\n",
       "      <td>0.122576</td>\n",
       "      <td>0.143772</td>\n",
       "      <td>0.911127</td>\n",
       "      <td>0.882459</td>\n",
       "      <td>0.023226</td>\n",
       "      <td>0.026805</td>\n",
       "      <td>0.918695</td>\n",
       "      <td>0.894448</td>\n",
       "      <td>20540.0</td>\n",
       "      <td>69170.0</td>\n",
       "    </tr>\n",
       "    <tr>\n",
       "      <th>0</th>\n",
       "      <td>11</td>\n",
       "      <td>1bae282befaf5b895de3ca9ab1475173</td>\n",
       "      <td>{\"cutoff\": \"quantile_0.25\", \"eval_fairness_gro...</td>\n",
       "      <td>31.926248</td>\n",
       "      <td>89710</td>\n",
       "      <td>1.0</td>\n",
       "      <td>0.104658</td>\n",
       "      <td>0.870278</td>\n",
       "      <td>0.090743</td>\n",
       "      <td>0.889332</td>\n",
       "      <td>...</td>\n",
       "      <td>NaN</td>\n",
       "      <td>NaN</td>\n",
       "      <td>NaN</td>\n",
       "      <td>NaN</td>\n",
       "      <td>NaN</td>\n",
       "      <td>NaN</td>\n",
       "      <td>NaN</td>\n",
       "      <td>NaN</td>\n",
       "      <td>NaN</td>\n",
       "      <td>NaN</td>\n",
       "    </tr>\n",
       "    <tr>\n",
       "      <th>0</th>\n",
       "      <td>11</td>\n",
       "      <td>1bae282befaf5b895de3ca9ab1475173</td>\n",
       "      <td>{\"cutoff\": \"quantile_0.25\", \"eval_fairness_gro...</td>\n",
       "      <td>31.926248</td>\n",
       "      <td>89710</td>\n",
       "      <td>1.0</td>\n",
       "      <td>0.104658</td>\n",
       "      <td>0.870278</td>\n",
       "      <td>0.090743</td>\n",
       "      <td>0.889332</td>\n",
       "      <td>...</td>\n",
       "      <td>0.129498</td>\n",
       "      <td>0.164374</td>\n",
       "      <td>0.806791</td>\n",
       "      <td>0.702132</td>\n",
       "      <td>0.078970</td>\n",
       "      <td>0.092888</td>\n",
       "      <td>0.819961</td>\n",
       "      <td>0.729218</td>\n",
       "      <td>20540.0</td>\n",
       "      <td>69170.0</td>\n",
       "    </tr>\n",
       "  </tbody>\n",
       "</table>\n",
       "<p>4 rows × 50 columns</p>\n",
       "</div>"
      ],
      "text/plain": [
       "  run_no                       universe_id  \\\n",
       "0     11  1bae282befaf5b895de3ca9ab1475173   \n",
       "0     11  1bae282befaf5b895de3ca9ab1475173   \n",
       "0     11  1bae282befaf5b895de3ca9ab1475173   \n",
       "0     11  1bae282befaf5b895de3ca9ab1475173   \n",
       "\n",
       "                                   universe_settings  execution_time  \\\n",
       "0  {\"cutoff\": \"quantile_0.1\", \"eval_fairness_grou...       31.926248   \n",
       "0  {\"cutoff\": \"quantile_0.1\", \"eval_fairness_grou...       31.926248   \n",
       "0  {\"cutoff\": \"quantile_0.25\", \"eval_fairness_gro...       31.926248   \n",
       "0  {\"cutoff\": \"quantile_0.25\", \"eval_fairness_gro...       31.926248   \n",
       "\n",
       "   test_size_n  test_size_frac  fair_main_equalized_odds_difference  \\\n",
       "0        89710             1.0                             0.028668   \n",
       "0        89710             1.0                             0.028668   \n",
       "0        89710             1.0                             0.104658   \n",
       "0        89710             1.0                             0.104658   \n",
       "\n",
       "   fair_main_equalized_odds_ratio  fair_main_demographic_parity_difference  \\\n",
       "0                        0.968535                                 0.024247   \n",
       "0                        0.968535                                 0.024247   \n",
       "0                        0.870278                                 0.090743   \n",
       "0                        0.870278                                 0.090743   \n",
       "\n",
       "   fair_main_demographic_parity_ratio  ...  perf_grp_precision_0  \\\n",
       "0                            0.973607  ...                   NaN   \n",
       "0                            0.973607  ...              0.122576   \n",
       "0                            0.889332  ...                   NaN   \n",
       "0                            0.889332  ...              0.129498   \n",
       "\n",
       "   perf_grp_precision_1  perf_grp_false positive rate_0  \\\n",
       "0                   NaN                             NaN   \n",
       "0              0.143772                        0.911127   \n",
       "0                   NaN                             NaN   \n",
       "0              0.164374                        0.806791   \n",
       "\n",
       "   perf_grp_false positive rate_1  perf_grp_false negative rate_0  \\\n",
       "0                             NaN                             NaN   \n",
       "0                        0.882459                        0.023226   \n",
       "0                             NaN                             NaN   \n",
       "0                        0.702132                        0.078970   \n",
       "\n",
       "   perf_grp_false negative rate_1  perf_grp_selection rate_0  \\\n",
       "0                             NaN                        NaN   \n",
       "0                        0.026805                   0.918695   \n",
       "0                             NaN                        NaN   \n",
       "0                        0.092888                   0.819961   \n",
       "\n",
       "   perf_grp_selection rate_1  perf_grp_count_0  perf_grp_count_1  \n",
       "0                        NaN               NaN               NaN  \n",
       "0                   0.894448           20540.0           69170.0  \n",
       "0                        NaN               NaN               NaN  \n",
       "0                   0.729218           20540.0           69170.0  \n",
       "\n",
       "[4 rows x 50 columns]"
      ]
     },
     "execution_count": 72,
     "metadata": {},
     "output_type": "execute_result"
    }
   ],
   "source": [
    "final_output = universe_analysis.generate_final_output(\n",
    "    y_pred_prob=probs_test,\n",
    "    y_test=y_true,\n",
    "    org_test=org_test,\n",
    "    filter_data=filter_sub_universe_data,\n",
    "    cp_metrics_df=cp_metrics_df,\n",
    "    save=True,\n",
    ")\n",
    "final_output"
   ]
  },
  {
   "cell_type": "code",
   "execution_count": null,
   "id": "721ff514-cb11-46f8-b6fc-50392f74b5cb",
   "metadata": {
    "papermill": {
     "duration": 0.02914,
     "end_time": "2025-07-28T10:46:52.563673",
     "exception": false,
     "start_time": "2025-07-28T10:46:52.534533",
     "status": "completed"
    },
    "tags": []
   },
   "outputs": [],
   "source": []
  }
 ],
 "metadata": {
  "celltoolbar": "Tags",
  "kernelspec": {
   "display_name": "Python (CMA Fairness)",
   "language": "python",
   "name": "cma_fair_env"
  },
  "language_info": {
   "codemirror_mode": {
    "name": "ipython",
    "version": 3
   },
   "file_extension": ".py",
   "mimetype": "text/x-python",
   "name": "python",
   "nbconvert_exporter": "python",
   "pygments_lexer": "ipython3",
   "version": "3.10.12"
  },
  "papermill": {
   "default_parameters": {},
   "duration": 47.595182,
   "end_time": "2025-07-28T10:46:53.413129",
   "environment_variables": {},
   "exception": null,
   "input_path": "universe_analysis.ipynb",
   "output_path": "output/runs/11/notebooks/m_11-1bae282befaf5b895de3ca9ab1475173.ipynb",
   "parameters": {
    "output_dir": "output",
    "run_no": "11",
    "seed": "2023",
    "universe": "{\"cutoff\": [\"quantile_0.1\", \"quantile_0.25\"], \"eval_fairness_grouping\": [\"majority-minority\", \"nationality-all\"], \"exclude_features\": \"age\", \"exclude_subgroups\": \"drop-non-german\", \"model\": \"gbm\", \"scale\": \"scale\", \"training_size\": \"1k\"}",
    "universe_id": "1bae282befaf5b895de3ca9ab1475173"
   },
   "start_time": "2025-07-28T10:46:05.817947",
   "version": "2.6.0"
  }
 },
 "nbformat": 4,
 "nbformat_minor": 5
}