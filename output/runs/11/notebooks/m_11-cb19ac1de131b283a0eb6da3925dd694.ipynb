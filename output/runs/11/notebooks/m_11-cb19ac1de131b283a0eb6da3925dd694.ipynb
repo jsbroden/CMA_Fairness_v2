{
 "cells": [
  {
   "cell_type": "code",
   "execution_count": 1,
   "id": "f159f837-637b-42ba-96b5-ec9a68c44524",
   "metadata": {
    "execution": {
     "iopub.execute_input": "2025-07-28T10:30:34.306753Z",
     "iopub.status.busy": "2025-07-28T10:30:34.305711Z",
     "iopub.status.idle": "2025-07-28T10:30:34.330228Z",
     "shell.execute_reply": "2025-07-28T10:30:34.329186Z"
    },
    "papermill": {
     "duration": 0.10285,
     "end_time": "2025-07-28T10:30:34.332137",
     "exception": false,
     "start_time": "2025-07-28T10:30:34.229287",
     "status": "completed"
    },
    "tags": []
   },
   "outputs": [
    {
     "name": "stdout",
     "output_type": "stream",
     "text": [
      "/dss/dsshome1/0C/ra93lal2/cma/CMA_Fairness_v2\n"
     ]
    },
    {
     "name": "stderr",
     "output_type": "stream",
     "text": [
      "/dss/dsshome1/0C/ra93lal2/.local/share/virtualenvs/CMA_Fairness_v2-3j10GkSs/lib/python3.10/site-packages/IPython/core/magics/osm.py:393: UserWarning: This is now an optional IPython functionality, using bookmarks requires you to install the `pickleshare` library.\n",
      "  bkms = self.shell.db.get('bookmarks', {})\n",
      "/dss/dsshome1/0C/ra93lal2/.local/share/virtualenvs/CMA_Fairness_v2-3j10GkSs/lib/python3.10/site-packages/IPython/core/magics/osm.py:417: UserWarning: This is now an optional IPython functionality, setting dhist requires you to install the `pickleshare` library.\n",
      "  self.shell.db['dhist'] = compress_dhist(dhist)[-100:]\n"
     ]
    }
   ],
   "source": [
    "%cd ~/cma/CMA_Fairness_v2"
   ]
  },
  {
   "cell_type": "markdown",
   "id": "de2603b9",
   "metadata": {
    "papermill": {
     "duration": 0.018786,
     "end_time": "2025-07-28T10:30:34.371369",
     "exception": false,
     "start_time": "2025-07-28T10:30:34.352583",
     "status": "completed"
    },
    "tags": []
   },
   "source": [
    "The following cell holds the definition of our parameters, these values can be overriden by rendering the with e.g. the following command:\n",
    "\n",
    "papermill -p alpha 0.2 -p ratio 0.3 universe_analysis.ipynb output/test_run.ipynb"
   ]
  },
  {
   "cell_type": "code",
   "execution_count": 2,
   "id": "a80968a0-40bb-4fa9-85ef-2d5eefb01975",
   "metadata": {
    "execution": {
     "iopub.execute_input": "2025-07-28T10:30:34.424908Z",
     "iopub.status.busy": "2025-07-28T10:30:34.424520Z",
     "iopub.status.idle": "2025-07-28T10:30:34.430077Z",
     "shell.execute_reply": "2025-07-28T10:30:34.428922Z"
    },
    "papermill": {
     "duration": 0.036481,
     "end_time": "2025-07-28T10:30:34.434524",
     "exception": false,
     "start_time": "2025-07-28T10:30:34.398043",
     "status": "completed"
    },
    "tags": []
   },
   "outputs": [
    {
     "name": "stdout",
     "output_type": "stream",
     "text": [
      "Current working directory: /dss/dsshome1/0C/ra93lal2/cma/CMA_Fairness_v2\n"
     ]
    }
   ],
   "source": [
    "import os\n",
    "print(\"Current working directory:\", os.getcwd())"
   ]
  },
  {
   "cell_type": "code",
   "execution_count": 3,
   "id": "2dce4c03",
   "metadata": {
    "execution": {
     "iopub.execute_input": "2025-07-28T10:30:34.502354Z",
     "iopub.status.busy": "2025-07-28T10:30:34.501968Z",
     "iopub.status.idle": "2025-07-28T10:30:34.508533Z",
     "shell.execute_reply": "2025-07-28T10:30:34.507650Z"
    },
    "papermill": {
     "duration": 0.041497,
     "end_time": "2025-07-28T10:30:34.510066",
     "exception": false,
     "start_time": "2025-07-28T10:30:34.468569",
     "status": "completed"
    },
    "tags": [
     "parameters"
    ]
   },
   "outputs": [],
   "source": [
    "run_no = 0\n",
    "universe_id = \"test\"\n",
    "universe = {\n",
    "    \"training_size\": \"2014\", # \"25k\", \"5k\", \"1k\", \"2014\"\n",
    "    \"scale\": \"scale\", # \"scale\", \"do-not-scale\",\n",
    "    #\"stratify_split\": \"target\", # \"none\", \"target\", \"protected-attribute\", \"both\",\n",
    "    \"model\": \"elasticnet\", # \"logreg\", \"penalized_logreg\", \"rf\", \"gbm\", \"elasticnet\"\n",
    "    \"cutoff\": [\"quantile_0.15\", \"quantile_0.30\"],\n",
    "    \"exclude_features\": \"age\", # \"none\", \"nationality\", \"sex\", \"nationality-sex\", \"age\"\n",
    "    \"exclude_subgroups\": \"keep-all\", # \"keep-all\", \"drop-non-german\"\n",
    "    #\"training_sample\": \"restricted\", # \"restricted\", \"full\"\n",
    "    \"eval_fairness_grouping\": [\"majority-minority\", \"nationality-all\"]\n",
    "}\n",
    "\n",
    "output_dir=\"./output\"\n",
    "seed=0"
   ]
  },
  {
   "cell_type": "code",
   "execution_count": 4,
   "id": "c55f63a7",
   "metadata": {
    "execution": {
     "iopub.execute_input": "2025-07-28T10:30:34.577997Z",
     "iopub.status.busy": "2025-07-28T10:30:34.577600Z",
     "iopub.status.idle": "2025-07-28T10:30:34.583182Z",
     "shell.execute_reply": "2025-07-28T10:30:34.582143Z"
    },
    "papermill": {
     "duration": 0.045688,
     "end_time": "2025-07-28T10:30:34.585836",
     "exception": false,
     "start_time": "2025-07-28T10:30:34.540148",
     "status": "completed"
    },
    "tags": [
     "injected-parameters"
    ]
   },
   "outputs": [],
   "source": [
    "# Parameters\n",
    "universe_id = \"cb19ac1de131b283a0eb6da3925dd694\"\n",
    "run_no = \"11\"\n",
    "universe = \"{\\\"cutoff\\\": [\\\"quantile_0.1\\\", \\\"quantile_0.25\\\"], \\\"eval_fairness_grouping\\\": [\\\"majority-minority\\\", \\\"nationality-all\\\"], \\\"exclude_features\\\": \\\"nationality-sex\\\", \\\"exclude_subgroups\\\": \\\"drop-non-german\\\", \\\"model\\\": \\\"rf\\\", \\\"scale\\\": \\\"scale\\\", \\\"training_size\\\": \\\"5k\\\"}\"\n",
    "output_dir = \"output\"\n",
    "seed = \"2023\"\n"
   ]
  },
  {
   "cell_type": "code",
   "execution_count": 5,
   "id": "1650acaf",
   "metadata": {
    "execution": {
     "iopub.execute_input": "2025-07-28T10:30:34.635173Z",
     "iopub.status.busy": "2025-07-28T10:30:34.634738Z",
     "iopub.status.idle": "2025-07-28T10:30:34.640190Z",
     "shell.execute_reply": "2025-07-28T10:30:34.639127Z"
    },
    "papermill": {
     "duration": 0.030345,
     "end_time": "2025-07-28T10:30:34.643552",
     "exception": false,
     "start_time": "2025-07-28T10:30:34.613207",
     "status": "completed"
    },
    "tags": []
   },
   "outputs": [],
   "source": [
    "import json\n",
    "# Parse universe into dict if it is passed as a string\n",
    "if isinstance(universe, str):\n",
    "    universe = json.loads(universe)"
   ]
  },
  {
   "cell_type": "code",
   "execution_count": 6,
   "id": "16620c48",
   "metadata": {
    "execution": {
     "iopub.execute_input": "2025-07-28T10:30:34.684663Z",
     "iopub.status.busy": "2025-07-28T10:30:34.684118Z",
     "iopub.status.idle": "2025-07-28T10:30:34.748775Z",
     "shell.execute_reply": "2025-07-28T10:30:34.732229Z"
    },
    "papermill": {
     "duration": 0.087659,
     "end_time": "2025-07-28T10:30:34.751059",
     "exception": false,
     "start_time": "2025-07-28T10:30:34.663400",
     "status": "completed"
    },
    "tags": []
   },
   "outputs": [],
   "source": [
    "# Auto-reload the custom package\n",
    "%load_ext autoreload\n",
    "%autoreload 1\n",
    "%aimport fairness_multiverse"
   ]
  },
  {
   "cell_type": "code",
   "execution_count": 7,
   "id": "01c5c9f3",
   "metadata": {
    "execution": {
     "iopub.execute_input": "2025-07-28T10:30:34.833957Z",
     "iopub.status.busy": "2025-07-28T10:30:34.833575Z",
     "iopub.status.idle": "2025-07-28T10:30:36.634817Z",
     "shell.execute_reply": "2025-07-28T10:30:36.634018Z"
    },
    "papermill": {
     "duration": 1.82785,
     "end_time": "2025-07-28T10:30:36.636374",
     "exception": false,
     "start_time": "2025-07-28T10:30:34.808524",
     "status": "completed"
    },
    "tags": []
   },
   "outputs": [],
   "source": [
    "from fairness_multiverse.universe import UniverseAnalysis\n",
    "\n",
    "universe_analysis = UniverseAnalysis(\n",
    "    run_no = run_no,\n",
    "    universe_id = universe_id,\n",
    "    universe = universe,\n",
    "    output_dir=output_dir,\n",
    ")"
   ]
  },
  {
   "cell_type": "code",
   "execution_count": 8,
   "id": "106241f5",
   "metadata": {
    "execution": {
     "iopub.execute_input": "2025-07-28T10:30:36.662534Z",
     "iopub.status.busy": "2025-07-28T10:30:36.661677Z",
     "iopub.status.idle": "2025-07-28T10:30:36.670305Z",
     "shell.execute_reply": "2025-07-28T10:30:36.669304Z"
    },
    "papermill": {
     "duration": 0.025341,
     "end_time": "2025-07-28T10:30:36.672175",
     "exception": false,
     "start_time": "2025-07-28T10:30:36.646834",
     "status": "completed"
    },
    "tags": []
   },
   "outputs": [
    {
     "name": "stdout",
     "output_type": "stream",
     "text": [
      "Using Seed: 2023\n"
     ]
    }
   ],
   "source": [
    "import numpy as np\n",
    "parsed_seed = int(seed)\n",
    "np.random.seed(parsed_seed)\n",
    "print(f\"Using Seed: {parsed_seed}\")"
   ]
  },
  {
   "cell_type": "markdown",
   "id": "e0ebdc57",
   "metadata": {
    "papermill": {
     "duration": 0.020215,
     "end_time": "2025-07-28T10:30:36.713347",
     "exception": false,
     "start_time": "2025-07-28T10:30:36.693132",
     "status": "completed"
    },
    "tags": []
   },
   "source": [
    "# Loading Data"
   ]
  },
  {
   "cell_type": "markdown",
   "id": "681925a3",
   "metadata": {
    "papermill": {
     "duration": 0.020678,
     "end_time": "2025-07-28T10:30:36.754292",
     "exception": false,
     "start_time": "2025-07-28T10:30:36.733614",
     "status": "completed"
    },
    "tags": []
   },
   "source": [
    "Load siab_train, siab_test, siab_calib and/or \n",
    "load siab_train_features, siab_train_labels"
   ]
  },
  {
   "cell_type": "code",
   "execution_count": 9,
   "id": "f0496b8a",
   "metadata": {
    "execution": {
     "iopub.execute_input": "2025-07-28T10:30:36.793953Z",
     "iopub.status.busy": "2025-07-28T10:30:36.793186Z",
     "iopub.status.idle": "2025-07-28T10:30:49.795258Z",
     "shell.execute_reply": "2025-07-28T10:30:49.793433Z"
    },
    "papermill": {
     "duration": 13.026331,
     "end_time": "2025-07-28T10:30:49.797706",
     "exception": false,
     "start_time": "2025-07-28T10:30:36.771375",
     "status": "completed"
    },
    "tags": []
   },
   "outputs": [
    {
     "name": "stdout",
     "output_type": "stream",
     "text": [
      "Loading SIAB data from cache: data/siab_cached.csv.gz\n"
     ]
    },
    {
     "name": "stdout",
     "output_type": "stream",
     "text": [
      "(643690, 164)\n"
     ]
    }
   ],
   "source": [
    "from pathlib import Path\n",
    "import pandas as pd\n",
    "\n",
    "# File paths\n",
    "raw_file = Path(\"data/raw/siab.csv\")\n",
    "cache_file = Path(\"data/siab_cached.csv.gz\")\n",
    "\n",
    "# Ensure cache directory exists\n",
    "cache_file.parent.mkdir(parents=True, exist_ok=True)\n",
    "\n",
    "# Load with simple caching\n",
    "if cache_file.exists():\n",
    "    print(f\"Loading SIAB data from cache: {cache_file}\")\n",
    "    siab = pd.read_csv(cache_file, compression='gzip')\n",
    "else:\n",
    "    print(f\"Cache not found. Reading raw SIAB data: {raw_file}\")\n",
    "    siab = pd.read_csv(raw_file)\n",
    "    siab.to_csv(cache_file, index=False, compression='gzip')\n",
    "    print(f\"Cached SIAB data to: {cache_file}\")\n",
    "\n",
    "# Now use `siab` DataFrame as needed\n",
    "print(siab.shape)"
   ]
  },
  {
   "cell_type": "code",
   "execution_count": 10,
   "id": "db0ca512-5f53-4dba-abdb-a2888bca41ba",
   "metadata": {
    "execution": {
     "iopub.execute_input": "2025-07-28T10:30:49.865372Z",
     "iopub.status.busy": "2025-07-28T10:30:49.864717Z",
     "iopub.status.idle": "2025-07-28T10:30:49.870761Z",
     "shell.execute_reply": "2025-07-28T10:30:49.869848Z"
    },
    "papermill": {
     "duration": 0.042705,
     "end_time": "2025-07-28T10:30:49.872746",
     "exception": false,
     "start_time": "2025-07-28T10:30:49.830041",
     "status": "completed"
    },
    "tags": []
   },
   "outputs": [],
   "source": [
    "#siab"
   ]
  },
  {
   "cell_type": "code",
   "execution_count": 11,
   "id": "a0edb063",
   "metadata": {
    "execution": {
     "iopub.execute_input": "2025-07-28T10:30:49.897082Z",
     "iopub.status.busy": "2025-07-28T10:30:49.896384Z",
     "iopub.status.idle": "2025-07-28T10:30:49.904222Z",
     "shell.execute_reply": "2025-07-28T10:30:49.902710Z"
    },
    "papermill": {
     "duration": 0.022515,
     "end_time": "2025-07-28T10:30:49.906655",
     "exception": false,
     "start_time": "2025-07-28T10:30:49.884140",
     "status": "completed"
    },
    "tags": []
   },
   "outputs": [],
   "source": [
    "#import pandas as pd\n",
    "#\n",
    "#X_train = pd.read_csv(\"./data/X_train.csv\")\n",
    "#y_train = pd.read_csv(\"./data/y_train.csv\")"
   ]
  },
  {
   "cell_type": "code",
   "execution_count": 12,
   "id": "63d08085",
   "metadata": {
    "execution": {
     "iopub.execute_input": "2025-07-28T10:30:49.946450Z",
     "iopub.status.busy": "2025-07-28T10:30:49.945968Z",
     "iopub.status.idle": "2025-07-28T10:30:49.951548Z",
     "shell.execute_reply": "2025-07-28T10:30:49.950317Z"
    },
    "papermill": {
     "duration": 0.021521,
     "end_time": "2025-07-28T10:30:49.953370",
     "exception": false,
     "start_time": "2025-07-28T10:30:49.931849",
     "status": "completed"
    },
    "tags": []
   },
   "outputs": [],
   "source": [
    "#X_test = pd.read_csv(\"./data/X_test.csv\")\n",
    "#y_true = pd.read_csv(\"./data/y_test.csv\")"
   ]
  },
  {
   "cell_type": "code",
   "execution_count": 13,
   "id": "98a8d0fa-1d3d-4ed8-bb2c-281470e24add",
   "metadata": {
    "execution": {
     "iopub.execute_input": "2025-07-28T10:30:49.996424Z",
     "iopub.status.busy": "2025-07-28T10:30:49.995913Z",
     "iopub.status.idle": "2025-07-28T10:30:50.000340Z",
     "shell.execute_reply": "2025-07-28T10:30:49.999528Z"
    },
    "papermill": {
     "duration": 0.025866,
     "end_time": "2025-07-28T10:30:50.001778",
     "exception": false,
     "start_time": "2025-07-28T10:30:49.975912",
     "status": "completed"
    },
    "tags": []
   },
   "outputs": [],
   "source": [
    "# Calibration data for conformal\n",
    "#X_calib = pd.read_csv(\"./data/X_calib.csv\")\n",
    "#y_calib = pd.read_csv(\"./data/y_calib.csv\")"
   ]
  },
  {
   "cell_type": "markdown",
   "id": "9901737e-04df-44f0-9100-f5ad144ed040",
   "metadata": {
    "papermill": {
     "duration": 0.02929,
     "end_time": "2025-07-28T10:30:50.057199",
     "exception": false,
     "start_time": "2025-07-28T10:30:50.027909",
     "status": "completed"
    },
    "tags": []
   },
   "source": [
    "# Splitting Data and Setting Training Data Size"
   ]
  },
  {
   "cell_type": "code",
   "execution_count": 14,
   "id": "acbc8f7d-8fc8-4e86-8c59-5dcb0f58384b",
   "metadata": {
    "execution": {
     "iopub.execute_input": "2025-07-28T10:30:50.081882Z",
     "iopub.status.busy": "2025-07-28T10:30:50.081532Z",
     "iopub.status.idle": "2025-07-28T10:30:50.087823Z",
     "shell.execute_reply": "2025-07-28T10:30:50.086942Z"
    },
    "papermill": {
     "duration": 0.019091,
     "end_time": "2025-07-28T10:30:50.089244",
     "exception": false,
     "start_time": "2025-07-28T10:30:50.070153",
     "status": "completed"
    },
    "tags": []
   },
   "outputs": [],
   "source": [
    "def sample_by_year(df, training_size, random_state=42):\n",
    "    if training_size == \"2014\":\n",
    "        return df[df[\"year\"] == 2014].reset_index(drop=True)\n",
    "    \n",
    "    size_map = {\n",
    "        \"25k\": 5000,\n",
    "        \"5k\": 1000,\n",
    "        \"1k\": 200\n",
    "    }\n",
    "\n",
    "    if training_size not in size_map:\n",
    "        return df.reset_index(drop=True)  # use all data\n",
    "\n",
    "    n_per_year = size_map[training_size]\n",
    "    grouped = df.groupby(\"year\")\n",
    "    sampled = grouped.apply(lambda x: x.sample(n=min(n_per_year, len(x)), random_state=random_state))\n",
    "    return sampled.reset_index(drop=True)"
   ]
  },
  {
   "cell_type": "code",
   "execution_count": 15,
   "id": "6d931f52-beaf-43ff-9e78-9d44a448d54e",
   "metadata": {
    "execution": {
     "iopub.execute_input": "2025-07-28T10:30:50.112654Z",
     "iopub.status.busy": "2025-07-28T10:30:50.112279Z",
     "iopub.status.idle": "2025-07-28T10:30:50.850721Z",
     "shell.execute_reply": "2025-07-28T10:30:50.849961Z"
    },
    "papermill": {
     "duration": 0.751419,
     "end_time": "2025-07-28T10:30:50.852217",
     "exception": false,
     "start_time": "2025-07-28T10:30:50.100798",
     "status": "completed"
    },
    "tags": []
   },
   "outputs": [],
   "source": [
    "siab_s = sample_by_year(siab, universe[\"training_size\"])"
   ]
  },
  {
   "cell_type": "code",
   "execution_count": 16,
   "id": "5db0a40e-a4e2-4920-be85-b12ae061d70d",
   "metadata": {
    "execution": {
     "iopub.execute_input": "2025-07-28T10:30:50.886639Z",
     "iopub.status.busy": "2025-07-28T10:30:50.886060Z",
     "iopub.status.idle": "2025-07-28T10:30:50.904016Z",
     "shell.execute_reply": "2025-07-28T10:30:50.902885Z"
    },
    "papermill": {
     "duration": 0.041046,
     "end_time": "2025-07-28T10:30:50.905679",
     "exception": false,
     "start_time": "2025-07-28T10:30:50.864633",
     "status": "completed"
    },
    "tags": []
   },
   "outputs": [
    {
     "data": {
      "text/plain": [
       "year\n",
       "2010    1000\n",
       "2011    1000\n",
       "2012    1000\n",
       "2013    1000\n",
       "2014    1000\n",
       "2015    1000\n",
       "2016    1000\n",
       "dtype: int64"
      ]
     },
     "metadata": {},
     "output_type": "display_data"
    }
   ],
   "source": [
    "display(siab_s.groupby(\"year\").size())"
   ]
  },
  {
   "cell_type": "code",
   "execution_count": 17,
   "id": "a561edb4-d032-42cb-8256-22eac1111c64",
   "metadata": {
    "execution": {
     "iopub.execute_input": "2025-07-28T10:30:50.951557Z",
     "iopub.status.busy": "2025-07-28T10:30:50.950851Z",
     "iopub.status.idle": "2025-07-28T10:30:51.257432Z",
     "shell.execute_reply": "2025-07-28T10:30:51.256674Z"
    },
    "papermill": {
     "duration": 0.33171,
     "end_time": "2025-07-28T10:30:51.258893",
     "exception": false,
     "start_time": "2025-07-28T10:30:50.927183",
     "status": "completed"
    },
    "tags": []
   },
   "outputs": [],
   "source": [
    "siab_train = siab_s[siab_s.year < 2015]\n",
    "siab_calib = siab[siab.year == 2015]\n",
    "siab_test = siab[siab.year == 2016]"
   ]
  },
  {
   "cell_type": "code",
   "execution_count": 18,
   "id": "472de16f-c3db-4916-846b-1f0de9cf1746",
   "metadata": {
    "execution": {
     "iopub.execute_input": "2025-07-28T10:30:51.283106Z",
     "iopub.status.busy": "2025-07-28T10:30:51.282290Z",
     "iopub.status.idle": "2025-07-28T10:30:51.291728Z",
     "shell.execute_reply": "2025-07-28T10:30:51.290295Z"
    },
    "papermill": {
     "duration": 0.023762,
     "end_time": "2025-07-28T10:30:51.293953",
     "exception": false,
     "start_time": "2025-07-28T10:30:51.270191",
     "status": "completed"
    },
    "tags": []
   },
   "outputs": [],
   "source": [
    "X_train = siab_train.iloc[:,4:164]\n",
    "y_train = siab_train.iloc[:, [3]]"
   ]
  },
  {
   "cell_type": "code",
   "execution_count": 19,
   "id": "828c96af-f43a-4ed6-ba47-8ac73a47d56c",
   "metadata": {
    "execution": {
     "iopub.execute_input": "2025-07-28T10:30:51.340739Z",
     "iopub.status.busy": "2025-07-28T10:30:51.339845Z",
     "iopub.status.idle": "2025-07-28T10:30:51.400921Z",
     "shell.execute_reply": "2025-07-28T10:30:51.399898Z"
    },
    "papermill": {
     "duration": 0.086077,
     "end_time": "2025-07-28T10:30:51.402543",
     "exception": false,
     "start_time": "2025-07-28T10:30:51.316466",
     "status": "completed"
    },
    "tags": []
   },
   "outputs": [],
   "source": [
    "X_calib = siab_calib.iloc[:,4:164]\n",
    "y_calib = siab_calib.iloc[:, [3]]"
   ]
  },
  {
   "cell_type": "code",
   "execution_count": 20,
   "id": "c34be9c3-6bd6-476e-acd3-845840e303be",
   "metadata": {
    "execution": {
     "iopub.execute_input": "2025-07-28T10:30:51.439362Z",
     "iopub.status.busy": "2025-07-28T10:30:51.438977Z",
     "iopub.status.idle": "2025-07-28T10:30:51.498437Z",
     "shell.execute_reply": "2025-07-28T10:30:51.497279Z"
    },
    "papermill": {
     "duration": 0.077879,
     "end_time": "2025-07-28T10:30:51.500526",
     "exception": false,
     "start_time": "2025-07-28T10:30:51.422647",
     "status": "completed"
    },
    "tags": []
   },
   "outputs": [],
   "source": [
    "X_test = siab_test.iloc[:,4:164]\n",
    "y_true = siab_test.iloc[:, [3]]"
   ]
  },
  {
   "cell_type": "code",
   "execution_count": 21,
   "id": "e6c733c5",
   "metadata": {
    "execution": {
     "iopub.execute_input": "2025-07-28T10:30:51.537300Z",
     "iopub.status.busy": "2025-07-28T10:30:51.536886Z",
     "iopub.status.idle": "2025-07-28T10:30:51.636749Z",
     "shell.execute_reply": "2025-07-28T10:30:51.635668Z"
    },
    "papermill": {
     "duration": 0.119676,
     "end_time": "2025-07-28T10:30:51.638978",
     "exception": false,
     "start_time": "2025-07-28T10:30:51.519302",
     "status": "completed"
    },
    "tags": []
   },
   "outputs": [],
   "source": [
    "# Auxiliary data needed downstream in the pipeline\n",
    "\n",
    "org_train = X_train.copy()\n",
    "org_test = X_test.copy()\n",
    "org_calib = X_calib.copy()"
   ]
  },
  {
   "cell_type": "markdown",
   "id": "0a4a1b33",
   "metadata": {
    "papermill": {
     "duration": 0.022579,
     "end_time": "2025-07-28T10:30:51.683999",
     "exception": false,
     "start_time": "2025-07-28T10:30:51.661420",
     "status": "completed"
    },
    "tags": []
   },
   "source": [
    "# Preprocessing Data"
   ]
  },
  {
   "cell_type": "code",
   "execution_count": 22,
   "id": "ca879031",
   "metadata": {
    "execution": {
     "iopub.execute_input": "2025-07-28T10:30:51.730294Z",
     "iopub.status.busy": "2025-07-28T10:30:51.729553Z",
     "iopub.status.idle": "2025-07-28T10:30:51.743546Z",
     "shell.execute_reply": "2025-07-28T10:30:51.742362Z"
    },
    "papermill": {
     "duration": 0.046935,
     "end_time": "2025-07-28T10:30:51.753193",
     "exception": false,
     "start_time": "2025-07-28T10:30:51.706258",
     "status": "completed"
    },
    "tags": []
   },
   "outputs": [],
   "source": [
    "# EXCLUDE PROTECTED FEATURES\n",
    "# ----------------------\n",
    "# \"exclude_features\": \"none\", # \"nationality\", \"sex\", \"nationality-sex\"\n",
    "\n",
    "excluded_features = universe[\"exclude_features\"].split(\"-\") # split, e.g.: \"nationality-sex\" -> [\"nationality\", \"sex\"]\n",
    "excluded_features_dictionary = {\n",
    "    \"nationality\": [\"maxdeutsch1\", \"maxdeutsch.Missing.\"],\n",
    "    \"sex\": [\"frau1\"],\n",
    "    \"age\": [\"age\"],\n",
    "}\n"
   ]
  },
  {
   "cell_type": "code",
   "execution_count": 23,
   "id": "b745ac60",
   "metadata": {
    "execution": {
     "iopub.execute_input": "2025-07-28T10:30:51.800107Z",
     "iopub.status.busy": "2025-07-28T10:30:51.799538Z",
     "iopub.status.idle": "2025-07-28T10:30:51.806571Z",
     "shell.execute_reply": "2025-07-28T10:30:51.805532Z"
    },
    "papermill": {
     "duration": 0.031023,
     "end_time": "2025-07-28T10:30:51.808150",
     "exception": false,
     "start_time": "2025-07-28T10:30:51.777127",
     "status": "completed"
    },
    "tags": []
   },
   "outputs": [],
   "source": [
    "# Code nice names to column names\n",
    "\n",
    "excluded_features_columns = [\n",
    "    excluded_features_dictionary[f] for f in excluded_features if len(f) > 0 and f != \"none\"\n",
    "]"
   ]
  },
  {
   "cell_type": "code",
   "execution_count": 24,
   "id": "f84f73a2",
   "metadata": {
    "execution": {
     "iopub.execute_input": "2025-07-28T10:30:51.850185Z",
     "iopub.status.busy": "2025-07-28T10:30:51.849489Z",
     "iopub.status.idle": "2025-07-28T10:30:51.856494Z",
     "shell.execute_reply": "2025-07-28T10:30:51.855379Z"
    },
    "papermill": {
     "duration": 0.030818,
     "end_time": "2025-07-28T10:30:51.858906",
     "exception": false,
     "start_time": "2025-07-28T10:30:51.828088",
     "status": "completed"
    },
    "tags": []
   },
   "outputs": [],
   "source": [
    "from utils import flatten_once\n",
    "\n",
    "excluded_features_columns = flatten_once(excluded_features_columns)"
   ]
  },
  {
   "cell_type": "code",
   "execution_count": 25,
   "id": "884dea22",
   "metadata": {
    "execution": {
     "iopub.execute_input": "2025-07-28T10:30:51.907550Z",
     "iopub.status.busy": "2025-07-28T10:30:51.907068Z",
     "iopub.status.idle": "2025-07-28T10:30:51.917184Z",
     "shell.execute_reply": "2025-07-28T10:30:51.916101Z"
    },
    "papermill": {
     "duration": 0.038861,
     "end_time": "2025-07-28T10:30:51.921236",
     "exception": false,
     "start_time": "2025-07-28T10:30:51.882375",
     "status": "completed"
    },
    "tags": []
   },
   "outputs": [
    {
     "name": "stdout",
     "output_type": "stream",
     "text": [
      "Dropping features: ['maxdeutsch1', 'maxdeutsch.Missing.', 'frau1']\n"
     ]
    }
   ],
   "source": [
    "if len(excluded_features_columns) > 0:\n",
    "    print(f\"Dropping features: {excluded_features_columns}\")\n",
    "    X_train.drop(excluded_features_columns, axis=1, inplace=True)"
   ]
  },
  {
   "cell_type": "code",
   "execution_count": 26,
   "id": "95ab8b16",
   "metadata": {
    "execution": {
     "iopub.execute_input": "2025-07-28T10:30:51.977641Z",
     "iopub.status.busy": "2025-07-28T10:30:51.977065Z",
     "iopub.status.idle": "2025-07-28T10:30:52.039950Z",
     "shell.execute_reply": "2025-07-28T10:30:52.038947Z"
    },
    "papermill": {
     "duration": 0.097938,
     "end_time": "2025-07-28T10:30:52.041640",
     "exception": false,
     "start_time": "2025-07-28T10:30:51.943702",
     "status": "completed"
    },
    "tags": []
   },
   "outputs": [
    {
     "name": "stdout",
     "output_type": "stream",
     "text": [
      "Dropping features: ['maxdeutsch1', 'maxdeutsch.Missing.', 'frau1']\n"
     ]
    }
   ],
   "source": [
    "if len(excluded_features_columns) > 0:\n",
    "    print(f\"Dropping features: {excluded_features_columns}\")\n",
    "    X_test.drop(excluded_features_columns, axis=1, inplace=True)"
   ]
  },
  {
   "cell_type": "code",
   "execution_count": 27,
   "id": "1853aaf5-fb9f-46cb-a2b5-8ea4ae2237e4",
   "metadata": {
    "execution": {
     "iopub.execute_input": "2025-07-28T10:30:52.094262Z",
     "iopub.status.busy": "2025-07-28T10:30:52.093841Z",
     "iopub.status.idle": "2025-07-28T10:30:52.151572Z",
     "shell.execute_reply": "2025-07-28T10:30:52.150562Z"
    },
    "papermill": {
     "duration": 0.096423,
     "end_time": "2025-07-28T10:30:52.161342",
     "exception": false,
     "start_time": "2025-07-28T10:30:52.064919",
     "status": "completed"
    },
    "tags": []
   },
   "outputs": [
    {
     "name": "stdout",
     "output_type": "stream",
     "text": [
      "Dropping features: ['maxdeutsch1', 'maxdeutsch.Missing.', 'frau1']\n"
     ]
    }
   ],
   "source": [
    "if len(excluded_features_columns) > 0:\n",
    "    print(f\"Dropping features: {excluded_features_columns}\")\n",
    "    X_calib.drop(excluded_features_columns, axis=1, inplace=True)"
   ]
  },
  {
   "cell_type": "code",
   "execution_count": 28,
   "id": "6727d079-03e5-481e-9d38-292a90b7a0a8",
   "metadata": {
    "execution": {
     "iopub.execute_input": "2025-07-28T10:30:52.203851Z",
     "iopub.status.busy": "2025-07-28T10:30:52.203574Z",
     "iopub.status.idle": "2025-07-28T10:30:52.208484Z",
     "shell.execute_reply": "2025-07-28T10:30:52.207487Z"
    },
    "papermill": {
     "duration": 0.039172,
     "end_time": "2025-07-28T10:30:52.216201",
     "exception": false,
     "start_time": "2025-07-28T10:30:52.177029",
     "status": "completed"
    },
    "tags": []
   },
   "outputs": [],
   "source": [
    "# SPLIT & STRATIFY DATA\n",
    "# ----------------------"
   ]
  },
  {
   "cell_type": "code",
   "execution_count": 29,
   "id": "76c4dc6d",
   "metadata": {
    "execution": {
     "iopub.execute_input": "2025-07-28T10:30:52.260018Z",
     "iopub.status.busy": "2025-07-28T10:30:52.259657Z",
     "iopub.status.idle": "2025-07-28T10:30:52.263874Z",
     "shell.execute_reply": "2025-07-28T10:30:52.263180Z"
    },
    "papermill": {
     "duration": 0.02693,
     "end_time": "2025-07-28T10:30:52.265562",
     "exception": false,
     "start_time": "2025-07-28T10:30:52.238632",
     "status": "completed"
    },
    "tags": []
   },
   "outputs": [],
   "source": [
    "# EXCLUDE CERTAIN SUBGROUPS\n",
    "# ----------------------\n",
    "\n",
    "mode = universe.get(\"exclude_subgroups\", \"keep-all\") \n",
    "# Fetches the exclude_subgroups setting from the universe dict.\n",
    "# Defaults to \"keep-all\" if the key is missing."
   ]
  },
  {
   "cell_type": "code",
   "execution_count": 30,
   "id": "21994072",
   "metadata": {
    "execution": {
     "iopub.execute_input": "2025-07-28T10:30:52.308528Z",
     "iopub.status.busy": "2025-07-28T10:30:52.307865Z",
     "iopub.status.idle": "2025-07-28T10:30:52.315091Z",
     "shell.execute_reply": "2025-07-28T10:30:52.314035Z"
    },
    "papermill": {
     "duration": 0.030699,
     "end_time": "2025-07-28T10:30:52.316671",
     "exception": false,
     "start_time": "2025-07-28T10:30:52.285972",
     "status": "completed"
    },
    "tags": []
   },
   "outputs": [],
   "source": [
    "if mode == \"keep-all\":\n",
    "    keep_mask = pd.Series(True, index=org_train.index)\n",
    "\n",
    "# org_train contains the original feature columns from features_org (in Simson)\n",
    "# features_org contains unprocessed features, for me X_train at beginning ???\n",
    "# For keep-all, creates a boolean Series (keep_mask) of all True, so no rows are removed.\n",
    "\n",
    "elif mode == \"drop-non-german\":\n",
    "    keep_mask = org_train[\"maxdeutsch1\"] == 1 # ??? what about missing values?\n",
    "\n",
    "else:\n",
    "    raise ValueError(f\"Unsupported mode for exclude_subgroups: {mode}\")\n"
   ]
  },
  {
   "cell_type": "code",
   "execution_count": 31,
   "id": "71651440",
   "metadata": {
    "execution": {
     "iopub.execute_input": "2025-07-28T10:30:52.359903Z",
     "iopub.status.busy": "2025-07-28T10:30:52.359405Z",
     "iopub.status.idle": "2025-07-28T10:30:52.366651Z",
     "shell.execute_reply": "2025-07-28T10:30:52.365573Z"
    },
    "papermill": {
     "duration": 0.030908,
     "end_time": "2025-07-28T10:30:52.368232",
     "exception": false,
     "start_time": "2025-07-28T10:30:52.337324",
     "status": "completed"
    },
    "tags": []
   },
   "outputs": [
    {
     "name": "stdout",
     "output_type": "stream",
     "text": [
      "Dropping 657 rows (13.14%) where mode='drop-non-german'\n"
     ]
    }
   ],
   "source": [
    "n_drop = (~keep_mask).sum() # Calculates how many rows are set to be dropped\n",
    "if n_drop > 0:\n",
    "    pct = n_drop / len(keep_mask) * 100\n",
    "    print(f\"Dropping {n_drop} rows ({pct:.2f}%) where mode='{mode}'\")"
   ]
  },
  {
   "cell_type": "code",
   "execution_count": 32,
   "id": "5fb8eee5",
   "metadata": {
    "execution": {
     "iopub.execute_input": "2025-07-28T10:30:52.414143Z",
     "iopub.status.busy": "2025-07-28T10:30:52.413075Z",
     "iopub.status.idle": "2025-07-28T10:30:52.461463Z",
     "shell.execute_reply": "2025-07-28T10:30:52.460255Z"
    },
    "papermill": {
     "duration": 0.073658,
     "end_time": "2025-07-28T10:30:52.463659",
     "exception": false,
     "start_time": "2025-07-28T10:30:52.390001",
     "status": "completed"
    },
    "tags": []
   },
   "outputs": [],
   "source": [
    "X_train = X_train[keep_mask]"
   ]
  },
  {
   "cell_type": "code",
   "execution_count": 33,
   "id": "b202bb3a",
   "metadata": {
    "execution": {
     "iopub.execute_input": "2025-07-28T10:30:52.502813Z",
     "iopub.status.busy": "2025-07-28T10:30:52.502452Z",
     "iopub.status.idle": "2025-07-28T10:30:52.507934Z",
     "shell.execute_reply": "2025-07-28T10:30:52.507165Z"
    },
    "papermill": {
     "duration": 0.024525,
     "end_time": "2025-07-28T10:30:52.509601",
     "exception": false,
     "start_time": "2025-07-28T10:30:52.485076",
     "status": "completed"
    },
    "tags": []
   },
   "outputs": [],
   "source": [
    "y_train = y_train[keep_mask]"
   ]
  },
  {
   "cell_type": "markdown",
   "id": "493e2ac3",
   "metadata": {
    "papermill": {
     "duration": 0.012603,
     "end_time": "2025-07-28T10:30:52.534761",
     "exception": false,
     "start_time": "2025-07-28T10:30:52.522158",
     "status": "completed"
    },
    "tags": []
   },
   "source": [
    "# Model Training"
   ]
  },
  {
   "cell_type": "code",
   "execution_count": 34,
   "id": "679e1268",
   "metadata": {
    "execution": {
     "iopub.execute_input": "2025-07-28T10:30:52.601565Z",
     "iopub.status.busy": "2025-07-28T10:30:52.601172Z",
     "iopub.status.idle": "2025-07-28T10:30:52.866061Z",
     "shell.execute_reply": "2025-07-28T10:30:52.865100Z"
    },
    "papermill": {
     "duration": 0.308337,
     "end_time": "2025-07-28T10:30:52.867990",
     "exception": false,
     "start_time": "2025-07-28T10:30:52.559653",
     "status": "completed"
    },
    "tags": []
   },
   "outputs": [],
   "source": [
    "from sklearn.linear_model import LogisticRegression\n",
    "from sklearn.ensemble import GradientBoostingClassifier, RandomForestClassifier\n",
    "\n",
    "if (universe[\"model\"] == \"logreg\"):\n",
    "    model = LogisticRegression() #penalty=\"none\") #, solver=\"newton-cg\", max_iter=1) # include random_state=19 ?\n",
    "elif (universe[\"model\"] == \"penalized_logreg\"):\n",
    "    model = LogisticRegression(penalty=\"l2\", C=1.0) #, solver=\"newton-cg\", max_iter=1)\n",
    "elif (universe[\"model\"] == \"rf\"):\n",
    "    model = RandomForestClassifier(n_estimators=100, n_jobs=-1)\n",
    "elif (universe[\"model\"] == \"gbm\"):\n",
    "    model = GradientBoostingClassifier()\n",
    "elif (universe[\"model\"] == \"elasticnet\"):\n",
    "    model = LogisticRegression(penalty = 'elasticnet', solver = 'saga', l1_ratio = 0.5, max_iter=5000) # which solver to use?\n",
    "else:\n",
    "    raise \"Unsupported universe.model\""
   ]
  },
  {
   "cell_type": "code",
   "execution_count": 35,
   "id": "0cc8f744",
   "metadata": {
    "execution": {
     "iopub.execute_input": "2025-07-28T10:30:52.965926Z",
     "iopub.status.busy": "2025-07-28T10:30:52.964962Z",
     "iopub.status.idle": "2025-07-28T10:30:52.971398Z",
     "shell.execute_reply": "2025-07-28T10:30:52.970402Z"
    },
    "papermill": {
     "duration": 0.059989,
     "end_time": "2025-07-28T10:30:52.974337",
     "exception": false,
     "start_time": "2025-07-28T10:30:52.914348",
     "status": "completed"
    },
    "tags": []
   },
   "outputs": [],
   "source": [
    "import numpy as np\n",
    "from sklearn.pipeline import Pipeline\n",
    "from sklearn.preprocessing import StandardScaler\n",
    "\n",
    "model = Pipeline([\n",
    "    #(\"continuous_processor\", continuous_processor),\n",
    "    #(\"categorical_preprocessor\", categorical_preprocessor),\n",
    "    (\"scale\", StandardScaler() if universe[\"scale\"] == \"scale\" else None), \n",
    "    (\"model\", model),\n",
    "])"
   ]
  },
  {
   "cell_type": "code",
   "execution_count": 36,
   "id": "9442c04d",
   "metadata": {
    "execution": {
     "iopub.execute_input": "2025-07-28T10:30:53.086589Z",
     "iopub.status.busy": "2025-07-28T10:30:53.086186Z",
     "iopub.status.idle": "2025-07-28T10:30:54.161153Z",
     "shell.execute_reply": "2025-07-28T10:30:54.160080Z"
    },
    "papermill": {
     "duration": 1.15185,
     "end_time": "2025-07-28T10:30:54.162751",
     "exception": false,
     "start_time": "2025-07-28T10:30:53.010901",
     "status": "completed"
    },
    "tags": []
   },
   "outputs": [
    {
     "data": {
      "text/html": [
       "<style>#sk-container-id-1 {color: black;background-color: white;}#sk-container-id-1 pre{padding: 0;}#sk-container-id-1 div.sk-toggleable {background-color: white;}#sk-container-id-1 label.sk-toggleable__label {cursor: pointer;display: block;width: 100%;margin-bottom: 0;padding: 0.3em;box-sizing: border-box;text-align: center;}#sk-container-id-1 label.sk-toggleable__label-arrow:before {content: \"▸\";float: left;margin-right: 0.25em;color: #696969;}#sk-container-id-1 label.sk-toggleable__label-arrow:hover:before {color: black;}#sk-container-id-1 div.sk-estimator:hover label.sk-toggleable__label-arrow:before {color: black;}#sk-container-id-1 div.sk-toggleable__content {max-height: 0;max-width: 0;overflow: hidden;text-align: left;background-color: #f0f8ff;}#sk-container-id-1 div.sk-toggleable__content pre {margin: 0.2em;color: black;border-radius: 0.25em;background-color: #f0f8ff;}#sk-container-id-1 input.sk-toggleable__control:checked~div.sk-toggleable__content {max-height: 200px;max-width: 100%;overflow: auto;}#sk-container-id-1 input.sk-toggleable__control:checked~label.sk-toggleable__label-arrow:before {content: \"▾\";}#sk-container-id-1 div.sk-estimator input.sk-toggleable__control:checked~label.sk-toggleable__label {background-color: #d4ebff;}#sk-container-id-1 div.sk-label input.sk-toggleable__control:checked~label.sk-toggleable__label {background-color: #d4ebff;}#sk-container-id-1 input.sk-hidden--visually {border: 0;clip: rect(1px 1px 1px 1px);clip: rect(1px, 1px, 1px, 1px);height: 1px;margin: -1px;overflow: hidden;padding: 0;position: absolute;width: 1px;}#sk-container-id-1 div.sk-estimator {font-family: monospace;background-color: #f0f8ff;border: 1px dotted black;border-radius: 0.25em;box-sizing: border-box;margin-bottom: 0.5em;}#sk-container-id-1 div.sk-estimator:hover {background-color: #d4ebff;}#sk-container-id-1 div.sk-parallel-item::after {content: \"\";width: 100%;border-bottom: 1px solid gray;flex-grow: 1;}#sk-container-id-1 div.sk-label:hover label.sk-toggleable__label {background-color: #d4ebff;}#sk-container-id-1 div.sk-serial::before {content: \"\";position: absolute;border-left: 1px solid gray;box-sizing: border-box;top: 0;bottom: 0;left: 50%;z-index: 0;}#sk-container-id-1 div.sk-serial {display: flex;flex-direction: column;align-items: center;background-color: white;padding-right: 0.2em;padding-left: 0.2em;position: relative;}#sk-container-id-1 div.sk-item {position: relative;z-index: 1;}#sk-container-id-1 div.sk-parallel {display: flex;align-items: stretch;justify-content: center;background-color: white;position: relative;}#sk-container-id-1 div.sk-item::before, #sk-container-id-1 div.sk-parallel-item::before {content: \"\";position: absolute;border-left: 1px solid gray;box-sizing: border-box;top: 0;bottom: 0;left: 50%;z-index: -1;}#sk-container-id-1 div.sk-parallel-item {display: flex;flex-direction: column;z-index: 1;position: relative;background-color: white;}#sk-container-id-1 div.sk-parallel-item:first-child::after {align-self: flex-end;width: 50%;}#sk-container-id-1 div.sk-parallel-item:last-child::after {align-self: flex-start;width: 50%;}#sk-container-id-1 div.sk-parallel-item:only-child::after {width: 0;}#sk-container-id-1 div.sk-dashed-wrapped {border: 1px dashed gray;margin: 0 0.4em 0.5em 0.4em;box-sizing: border-box;padding-bottom: 0.4em;background-color: white;}#sk-container-id-1 div.sk-label label {font-family: monospace;font-weight: bold;display: inline-block;line-height: 1.2em;}#sk-container-id-1 div.sk-label-container {text-align: center;}#sk-container-id-1 div.sk-container {/* jupyter's `normalize.less` sets `[hidden] { display: none; }` but bootstrap.min.css set `[hidden] { display: none !important; }` so we also need the `!important` here to be able to override the default hidden behavior on the sphinx rendered scikit-learn.org. See: https://github.com/scikit-learn/scikit-learn/issues/21755 */display: inline-block !important;position: relative;}#sk-container-id-1 div.sk-text-repr-fallback {display: none;}</style><div id=\"sk-container-id-1\" class=\"sk-top-container\"><div class=\"sk-text-repr-fallback\"><pre>Pipeline(steps=[(&#x27;scale&#x27;, StandardScaler()),\n",
       "                (&#x27;model&#x27;, RandomForestClassifier(n_jobs=-1))])</pre><b>In a Jupyter environment, please rerun this cell to show the HTML representation or trust the notebook. <br />On GitHub, the HTML representation is unable to render, please try loading this page with nbviewer.org.</b></div><div class=\"sk-container\" hidden><div class=\"sk-item sk-dashed-wrapped\"><div class=\"sk-label-container\"><div class=\"sk-label sk-toggleable\"><input class=\"sk-toggleable__control sk-hidden--visually\" id=\"sk-estimator-id-1\" type=\"checkbox\" ><label for=\"sk-estimator-id-1\" class=\"sk-toggleable__label sk-toggleable__label-arrow\">Pipeline</label><div class=\"sk-toggleable__content\"><pre>Pipeline(steps=[(&#x27;scale&#x27;, StandardScaler()),\n",
       "                (&#x27;model&#x27;, RandomForestClassifier(n_jobs=-1))])</pre></div></div></div><div class=\"sk-serial\"><div class=\"sk-item\"><div class=\"sk-estimator sk-toggleable\"><input class=\"sk-toggleable__control sk-hidden--visually\" id=\"sk-estimator-id-2\" type=\"checkbox\" ><label for=\"sk-estimator-id-2\" class=\"sk-toggleable__label sk-toggleable__label-arrow\">StandardScaler</label><div class=\"sk-toggleable__content\"><pre>StandardScaler()</pre></div></div></div><div class=\"sk-item\"><div class=\"sk-estimator sk-toggleable\"><input class=\"sk-toggleable__control sk-hidden--visually\" id=\"sk-estimator-id-3\" type=\"checkbox\" ><label for=\"sk-estimator-id-3\" class=\"sk-toggleable__label sk-toggleable__label-arrow\">RandomForestClassifier</label><div class=\"sk-toggleable__content\"><pre>RandomForestClassifier(n_jobs=-1)</pre></div></div></div></div></div></div></div>"
      ],
      "text/plain": [
       "Pipeline(steps=[('scale', StandardScaler()),\n",
       "                ('model', RandomForestClassifier(n_jobs=-1))])"
      ]
     },
     "execution_count": 36,
     "metadata": {},
     "output_type": "execute_result"
    }
   ],
   "source": [
    "model.fit(X_train, y_train.values.ravel())"
   ]
  },
  {
   "cell_type": "code",
   "execution_count": 37,
   "id": "af59f8c0",
   "metadata": {
    "execution": {
     "iopub.execute_input": "2025-07-28T10:30:54.261865Z",
     "iopub.status.busy": "2025-07-28T10:30:54.261354Z",
     "iopub.status.idle": "2025-07-28T10:30:54.267433Z",
     "shell.execute_reply": "2025-07-28T10:30:54.266439Z"
    },
    "papermill": {
     "duration": 0.055775,
     "end_time": "2025-07-28T10:30:54.270810",
     "exception": false,
     "start_time": "2025-07-28T10:30:54.215035",
     "status": "completed"
    },
    "tags": []
   },
   "outputs": [],
   "source": [
    "from fairness_multiverse.universe import predict_w_threshold"
   ]
  },
  {
   "cell_type": "code",
   "execution_count": 38,
   "id": "a7cf2e16",
   "metadata": {
    "execution": {
     "iopub.execute_input": "2025-07-28T10:30:54.316201Z",
     "iopub.status.busy": "2025-07-28T10:30:54.315643Z",
     "iopub.status.idle": "2025-07-28T10:30:55.538746Z",
     "shell.execute_reply": "2025-07-28T10:30:55.537711Z"
    },
    "papermill": {
     "duration": 1.247546,
     "end_time": "2025-07-28T10:30:55.540662",
     "exception": false,
     "start_time": "2025-07-28T10:30:54.293116",
     "status": "completed"
    },
    "tags": []
   },
   "outputs": [
    {
     "data": {
      "text/plain": [
       "0.8626685988184148"
      ]
     },
     "execution_count": 38,
     "metadata": {},
     "output_type": "execute_result"
    }
   ],
   "source": [
    "probs_test = model.predict_proba(X_test)\n",
    "\n",
    "'''\n",
    "Below code returns a boolean array (or binary 0/1 array depending on how it’s used) where each element \n",
    "is True if the probability of class 1 is greater than or equal to the threshold, and False otherwise.\n",
    "'''\n",
    "y_pred_default = predict_w_threshold(probs_test, 0.5)\n",
    "\n",
    "from sklearn.metrics import accuracy_score\n",
    "\n",
    "# Naive prediction\n",
    "accuracy_score(y_true = y_true, y_pred = y_pred_default)"
   ]
  },
  {
   "cell_type": "code",
   "execution_count": 39,
   "id": "081964c3",
   "metadata": {
    "execution": {
     "iopub.execute_input": "2025-07-28T10:30:55.752885Z",
     "iopub.status.busy": "2025-07-28T10:30:55.752357Z",
     "iopub.status.idle": "2025-07-28T10:30:56.920705Z",
     "shell.execute_reply": "2025-07-28T10:30:56.919648Z"
    },
    "papermill": {
     "duration": 1.198227,
     "end_time": "2025-07-28T10:30:56.922337",
     "exception": false,
     "start_time": "2025-07-28T10:30:55.724110",
     "status": "completed"
    },
    "tags": []
   },
   "outputs": [
    {
     "data": {
      "text/plain": [
       "array([0, 0, 0, ..., 0, 0, 0])"
      ]
     },
     "execution_count": 39,
     "metadata": {},
     "output_type": "execute_result"
    }
   ],
   "source": [
    "model.predict(X_test)"
   ]
  },
  {
   "cell_type": "markdown",
   "id": "56c9705b",
   "metadata": {
    "papermill": {
     "duration": 0.04817,
     "end_time": "2025-07-28T10:30:57.020875",
     "exception": false,
     "start_time": "2025-07-28T10:30:56.972705",
     "status": "completed"
    },
    "tags": []
   },
   "source": [
    "# Conformal Prediction"
   ]
  },
  {
   "cell_type": "code",
   "execution_count": 40,
   "id": "160ec6ff",
   "metadata": {
    "execution": {
     "iopub.execute_input": "2025-07-28T10:30:57.127793Z",
     "iopub.status.busy": "2025-07-28T10:30:57.126735Z",
     "iopub.status.idle": "2025-07-28T10:30:57.132447Z",
     "shell.execute_reply": "2025-07-28T10:30:57.131401Z"
    },
    "papermill": {
     "duration": 0.06553,
     "end_time": "2025-07-28T10:30:57.134211",
     "exception": false,
     "start_time": "2025-07-28T10:30:57.068681",
     "status": "completed"
    },
    "tags": []
   },
   "outputs": [],
   "source": [
    "# Miscoverage level for conformal prediction (10% allowed error rate => 90% target coverage)\n",
    "alpha = 0.1"
   ]
  },
  {
   "cell_type": "code",
   "execution_count": 41,
   "id": "eadf4555-3dd3-440e-8e35-f82a4ad9f855",
   "metadata": {
    "execution": {
     "iopub.execute_input": "2025-07-28T10:30:57.226287Z",
     "iopub.status.busy": "2025-07-28T10:30:57.225892Z",
     "iopub.status.idle": "2025-07-28T10:30:58.358049Z",
     "shell.execute_reply": "2025-07-28T10:30:58.357087Z"
    },
    "papermill": {
     "duration": 1.175506,
     "end_time": "2025-07-28T10:30:58.360153",
     "exception": false,
     "start_time": "2025-07-28T10:30:57.184647",
     "status": "completed"
    },
    "tags": []
   },
   "outputs": [],
   "source": [
    "probs_calib = model.predict_proba(X_calib)"
   ]
  },
  {
   "cell_type": "code",
   "execution_count": 42,
   "id": "2ed93547-6d5d-4983-9b36-1ecb300da49a",
   "metadata": {
    "execution": {
     "iopub.execute_input": "2025-07-28T10:30:58.485048Z",
     "iopub.status.busy": "2025-07-28T10:30:58.484605Z",
     "iopub.status.idle": "2025-07-28T10:30:58.490416Z",
     "shell.execute_reply": "2025-07-28T10:30:58.489543Z"
    },
    "papermill": {
     "duration": 0.046176,
     "end_time": "2025-07-28T10:30:58.505331",
     "exception": false,
     "start_time": "2025-07-28T10:30:58.459155",
     "status": "completed"
    },
    "tags": []
   },
   "outputs": [],
   "source": [
    "y_calib = y_calib.values.ravel().astype(int)"
   ]
  },
  {
   "cell_type": "code",
   "execution_count": 43,
   "id": "65d1320d-f588-4b38-9072-62af1ae97f7d",
   "metadata": {
    "execution": {
     "iopub.execute_input": "2025-07-28T10:30:58.606829Z",
     "iopub.status.busy": "2025-07-28T10:30:58.606364Z",
     "iopub.status.idle": "2025-07-28T10:30:58.614754Z",
     "shell.execute_reply": "2025-07-28T10:30:58.613575Z"
    },
    "papermill": {
     "duration": 0.071595,
     "end_time": "2025-07-28T10:30:58.617585",
     "exception": false,
     "start_time": "2025-07-28T10:30:58.545990",
     "status": "completed"
    },
    "tags": []
   },
   "outputs": [],
   "source": [
    "from fairness_multiverse.conformal import compute_nc_scores\n",
    "\n",
    "# Compute nonconformity scores on calibration set (1 - probability of true class)\n",
    "nc_scores = compute_nc_scores(probs_calib, y_calib)"
   ]
  },
  {
   "cell_type": "code",
   "execution_count": 44,
   "id": "df3b8ca3-53b7-43d5-9667-7c85da7aeda2",
   "metadata": {
    "execution": {
     "iopub.execute_input": "2025-07-28T10:30:58.674748Z",
     "iopub.status.busy": "2025-07-28T10:30:58.674329Z",
     "iopub.status.idle": "2025-07-28T10:30:58.682140Z",
     "shell.execute_reply": "2025-07-28T10:30:58.680975Z"
    },
    "papermill": {
     "duration": 0.035174,
     "end_time": "2025-07-28T10:30:58.683881",
     "exception": false,
     "start_time": "2025-07-28T10:30:58.648707",
     "status": "completed"
    },
    "tags": []
   },
   "outputs": [],
   "source": [
    "from fairness_multiverse.conformal import find_threshold\n",
    "\n",
    "# Find conformal threshold q_hat for the given alpha (split conformal method)\n",
    "q_hat = find_threshold(nc_scores, alpha)"
   ]
  },
  {
   "cell_type": "code",
   "execution_count": 45,
   "id": "4d29e6c1-0ef6-4aa4-b8fe-4fe79b0d033a",
   "metadata": {
    "execution": {
     "iopub.execute_input": "2025-07-28T10:30:58.730856Z",
     "iopub.status.busy": "2025-07-28T10:30:58.730454Z",
     "iopub.status.idle": "2025-07-28T10:30:58.738187Z",
     "shell.execute_reply": "2025-07-28T10:30:58.737198Z"
    },
    "papermill": {
     "duration": 0.035709,
     "end_time": "2025-07-28T10:30:58.742412",
     "exception": false,
     "start_time": "2025-07-28T10:30:58.706703",
     "status": "completed"
    },
    "tags": []
   },
   "outputs": [
    {
     "data": {
      "text/plain": [
       "0.6699999999999999"
      ]
     },
     "execution_count": 45,
     "metadata": {},
     "output_type": "execute_result"
    }
   ],
   "source": [
    "q_hat"
   ]
  },
  {
   "cell_type": "code",
   "execution_count": 46,
   "id": "92460794-cdac-4be2-ba28-f28c0515a6fb",
   "metadata": {
    "execution": {
     "iopub.execute_input": "2025-07-28T10:30:58.790581Z",
     "iopub.status.busy": "2025-07-28T10:30:58.790142Z",
     "iopub.status.idle": "2025-07-28T10:31:00.768960Z",
     "shell.execute_reply": "2025-07-28T10:31:00.767792Z"
    },
    "papermill": {
     "duration": 2.004864,
     "end_time": "2025-07-28T10:31:00.770901",
     "exception": false,
     "start_time": "2025-07-28T10:30:58.766037",
     "status": "completed"
    },
    "tags": []
   },
   "outputs": [],
   "source": [
    "from fairness_multiverse.conformal import predict_conformal_sets\n",
    "\n",
    "# Generate prediction sets for each test example\n",
    "pred_sets = predict_conformal_sets(model, X_test, q_hat)"
   ]
  },
  {
   "cell_type": "code",
   "execution_count": 47,
   "id": "d90c9a65-e6db-4f5d-80cd-e68fb7e46829",
   "metadata": {
    "execution": {
     "iopub.execute_input": "2025-07-28T10:31:00.830003Z",
     "iopub.status.busy": "2025-07-28T10:31:00.829483Z",
     "iopub.status.idle": "2025-07-28T10:31:00.835675Z",
     "shell.execute_reply": "2025-07-28T10:31:00.834535Z"
    },
    "papermill": {
     "duration": 0.035365,
     "end_time": "2025-07-28T10:31:00.837502",
     "exception": false,
     "start_time": "2025-07-28T10:31:00.802137",
     "status": "completed"
    },
    "tags": []
   },
   "outputs": [],
   "source": [
    "y_true = y_true.squeeze()"
   ]
  },
  {
   "cell_type": "code",
   "execution_count": 48,
   "id": "3a58a54a-1e68-46b9-927a-df01f18aebc8",
   "metadata": {
    "execution": {
     "iopub.execute_input": "2025-07-28T10:31:00.889039Z",
     "iopub.status.busy": "2025-07-28T10:31:00.888204Z",
     "iopub.status.idle": "2025-07-28T10:31:01.627565Z",
     "shell.execute_reply": "2025-07-28T10:31:01.626756Z"
    },
    "papermill": {
     "duration": 0.767645,
     "end_time": "2025-07-28T10:31:01.629633",
     "exception": false,
     "start_time": "2025-07-28T10:31:00.861988",
     "status": "completed"
    },
    "tags": []
   },
   "outputs": [],
   "source": [
    "from fairness_multiverse.conformal import evaluate_sets\n",
    "\n",
    "# Evaluate coverage and average set size on test data\n",
    "metrics = evaluate_sets(pred_sets, y_true)"
   ]
  },
  {
   "cell_type": "markdown",
   "id": "2b569c12-9aaa-4c88-98c9-bbcd0cf3ebb8",
   "metadata": {
    "papermill": {
     "duration": 0.025934,
     "end_time": "2025-07-28T10:31:01.685017",
     "exception": false,
     "start_time": "2025-07-28T10:31:01.659083",
     "status": "completed"
    },
    "tags": []
   },
   "source": [
    "# CP Metrics"
   ]
  },
  {
   "cell_type": "code",
   "execution_count": 49,
   "id": "5ce0a5cb-201f-45a0-ade5-94c7f0bd6095",
   "metadata": {
    "execution": {
     "iopub.execute_input": "2025-07-28T10:31:01.738786Z",
     "iopub.status.busy": "2025-07-28T10:31:01.738229Z",
     "iopub.status.idle": "2025-07-28T10:31:01.746322Z",
     "shell.execute_reply": "2025-07-28T10:31:01.745266Z"
    },
    "papermill": {
     "duration": 0.036868,
     "end_time": "2025-07-28T10:31:01.748015",
     "exception": false,
     "start_time": "2025-07-28T10:31:01.711147",
     "status": "completed"
    },
    "tags": []
   },
   "outputs": [
    {
     "data": {
      "text/plain": [
       "{'coverage': 0.9149258722550441, 'avg_size': 1.1538067105116487}"
      ]
     },
     "execution_count": 49,
     "metadata": {},
     "output_type": "execute_result"
    }
   ],
   "source": [
    "metrics"
   ]
  },
  {
   "cell_type": "code",
   "execution_count": 50,
   "id": "9b9a838d-31c9-430b-ae14-12baee460d17",
   "metadata": {
    "execution": {
     "iopub.execute_input": "2025-07-28T10:31:01.804181Z",
     "iopub.status.busy": "2025-07-28T10:31:01.803609Z",
     "iopub.status.idle": "2025-07-28T10:31:01.811159Z",
     "shell.execute_reply": "2025-07-28T10:31:01.809982Z"
    },
    "papermill": {
     "duration": 0.037887,
     "end_time": "2025-07-28T10:31:01.813115",
     "exception": false,
     "start_time": "2025-07-28T10:31:01.775228",
     "status": "completed"
    },
    "tags": []
   },
   "outputs": [],
   "source": [
    "example_universe = universe.copy()\n",
    "universe_training_size = example_universe.get(\"training_size\")\n",
    "universe_scale = example_universe.get(\"scale\")\n",
    "universe_model = example_universe.get(\"model\")\n",
    "universe_exclude_features = example_universe.get(\"exclude_features\")\n",
    "universe_exclude_subgroups = example_universe.get(\"exclude_subgroups\")"
   ]
  },
  {
   "cell_type": "code",
   "execution_count": 51,
   "id": "f4b6a8ac-9dc0-4245-8a91-5b3b5999c4f9",
   "metadata": {
    "execution": {
     "iopub.execute_input": "2025-07-28T10:31:01.870359Z",
     "iopub.status.busy": "2025-07-28T10:31:01.869568Z",
     "iopub.status.idle": "2025-07-28T10:31:01.876814Z",
     "shell.execute_reply": "2025-07-28T10:31:01.875705Z"
    },
    "papermill": {
     "duration": 0.037805,
     "end_time": "2025-07-28T10:31:01.878576",
     "exception": false,
     "start_time": "2025-07-28T10:31:01.840771",
     "status": "completed"
    },
    "tags": []
   },
   "outputs": [],
   "source": [
    "cp_metrics_dict = {\n",
    "    \"universe_id\": [universe_id],\n",
    "    \"universe_training_size\": [universe_training_size],\n",
    "    \"universe_scale\": [universe_scale],\n",
    "    \"universe_model\": [universe_model],\n",
    "    \"universe_exclude_features\": [universe_exclude_features],\n",
    "    \"universe_exclude_subgroups\": [universe_exclude_subgroups],\n",
    "    \"q_hat\": [q_hat],\n",
    "    \"coverage\": [metrics[\"coverage\"]],\n",
    "    \"avg_size\": [metrics[\"avg_size\"]],\n",
    "}"
   ]
  },
  {
   "cell_type": "code",
   "execution_count": 52,
   "id": "908acbb1-0371-4915-85ca-3fa520d2efe2",
   "metadata": {
    "execution": {
     "iopub.execute_input": "2025-07-28T10:31:01.936728Z",
     "iopub.status.busy": "2025-07-28T10:31:01.935920Z",
     "iopub.status.idle": "2025-07-28T10:31:01.944663Z",
     "shell.execute_reply": "2025-07-28T10:31:01.943504Z"
    },
    "papermill": {
     "duration": 0.039665,
     "end_time": "2025-07-28T10:31:01.946531",
     "exception": false,
     "start_time": "2025-07-28T10:31:01.906866",
     "status": "completed"
    },
    "tags": []
   },
   "outputs": [
    {
     "data": {
      "text/plain": [
       "{'universe_id': ['cb19ac1de131b283a0eb6da3925dd694'],\n",
       " 'universe_training_size': ['5k'],\n",
       " 'universe_scale': ['scale'],\n",
       " 'universe_model': ['rf'],\n",
       " 'universe_exclude_features': ['nationality-sex'],\n",
       " 'universe_exclude_subgroups': ['drop-non-german'],\n",
       " 'q_hat': [0.6699999999999999],\n",
       " 'coverage': [0.9149258722550441],\n",
       " 'avg_size': [1.1538067105116487]}"
      ]
     },
     "execution_count": 52,
     "metadata": {},
     "output_type": "execute_result"
    }
   ],
   "source": [
    "cp_metrics_dict"
   ]
  },
  {
   "cell_type": "code",
   "execution_count": 53,
   "id": "33007efc-14e9-4ec6-97ac-56a455c82265",
   "metadata": {
    "execution": {
     "iopub.execute_input": "2025-07-28T10:31:02.005020Z",
     "iopub.status.busy": "2025-07-28T10:31:02.004192Z",
     "iopub.status.idle": "2025-07-28T10:31:02.012634Z",
     "shell.execute_reply": "2025-07-28T10:31:02.011479Z"
    },
    "papermill": {
     "duration": 0.039582,
     "end_time": "2025-07-28T10:31:02.014480",
     "exception": false,
     "start_time": "2025-07-28T10:31:01.974898",
     "status": "completed"
    },
    "tags": []
   },
   "outputs": [],
   "source": [
    "cp_metrics_df = pd.DataFrame(cp_metrics_dict)"
   ]
  },
  {
   "cell_type": "code",
   "execution_count": 54,
   "id": "db12611b-57b2-4910-b9d0-355adfd6e7bf",
   "metadata": {
    "execution": {
     "iopub.execute_input": "2025-07-28T10:31:02.072941Z",
     "iopub.status.busy": "2025-07-28T10:31:02.072183Z",
     "iopub.status.idle": "2025-07-28T10:31:02.092761Z",
     "shell.execute_reply": "2025-07-28T10:31:02.091505Z"
    },
    "papermill": {
     "duration": 0.051613,
     "end_time": "2025-07-28T10:31:02.094567",
     "exception": false,
     "start_time": "2025-07-28T10:31:02.042954",
     "status": "completed"
    },
    "tags": []
   },
   "outputs": [
    {
     "data": {
      "text/html": [
       "<div>\n",
       "<style scoped>\n",
       "    .dataframe tbody tr th:only-of-type {\n",
       "        vertical-align: middle;\n",
       "    }\n",
       "\n",
       "    .dataframe tbody tr th {\n",
       "        vertical-align: top;\n",
       "    }\n",
       "\n",
       "    .dataframe thead th {\n",
       "        text-align: right;\n",
       "    }\n",
       "</style>\n",
       "<table border=\"1\" class=\"dataframe\">\n",
       "  <thead>\n",
       "    <tr style=\"text-align: right;\">\n",
       "      <th></th>\n",
       "      <th>universe_id</th>\n",
       "      <th>universe_training_size</th>\n",
       "      <th>universe_scale</th>\n",
       "      <th>universe_model</th>\n",
       "      <th>universe_exclude_features</th>\n",
       "      <th>universe_exclude_subgroups</th>\n",
       "      <th>q_hat</th>\n",
       "      <th>coverage</th>\n",
       "      <th>avg_size</th>\n",
       "    </tr>\n",
       "  </thead>\n",
       "  <tbody>\n",
       "    <tr>\n",
       "      <th>0</th>\n",
       "      <td>cb19ac1de131b283a0eb6da3925dd694</td>\n",
       "      <td>5k</td>\n",
       "      <td>scale</td>\n",
       "      <td>rf</td>\n",
       "      <td>nationality-sex</td>\n",
       "      <td>drop-non-german</td>\n",
       "      <td>0.67</td>\n",
       "      <td>0.914926</td>\n",
       "      <td>1.153807</td>\n",
       "    </tr>\n",
       "  </tbody>\n",
       "</table>\n",
       "</div>"
      ],
      "text/plain": [
       "                        universe_id universe_training_size universe_scale  \\\n",
       "0  cb19ac1de131b283a0eb6da3925dd694                     5k          scale   \n",
       "\n",
       "  universe_model universe_exclude_features universe_exclude_subgroups  q_hat  \\\n",
       "0             rf           nationality-sex            drop-non-german   0.67   \n",
       "\n",
       "   coverage  avg_size  \n",
       "0  0.914926  1.153807  "
      ]
     },
     "execution_count": 54,
     "metadata": {},
     "output_type": "execute_result"
    }
   ],
   "source": [
    "cp_metrics_df"
   ]
  },
  {
   "cell_type": "code",
   "execution_count": 55,
   "id": "b7fbde55-a0a1-47e4-9af6-fe4a17fa8c61",
   "metadata": {
    "execution": {
     "iopub.execute_input": "2025-07-28T10:31:02.153336Z",
     "iopub.status.busy": "2025-07-28T10:31:02.152558Z",
     "iopub.status.idle": "2025-07-28T10:31:02.158050Z",
     "shell.execute_reply": "2025-07-28T10:31:02.157024Z"
    },
    "papermill": {
     "duration": 0.036784,
     "end_time": "2025-07-28T10:31:02.159860",
     "exception": false,
     "start_time": "2025-07-28T10:31:02.123076",
     "status": "completed"
    },
    "tags": []
   },
   "outputs": [],
   "source": [
    "# Conditional Coverage & looking at subgroups"
   ]
  },
  {
   "cell_type": "code",
   "execution_count": 56,
   "id": "027ae886-68dd-4141-96c7-805a5450e1ef",
   "metadata": {
    "execution": {
     "iopub.execute_input": "2025-07-28T10:31:02.214048Z",
     "iopub.status.busy": "2025-07-28T10:31:02.213331Z",
     "iopub.status.idle": "2025-07-28T10:31:02.502696Z",
     "shell.execute_reply": "2025-07-28T10:31:02.501582Z"
    },
    "papermill": {
     "duration": 0.316294,
     "end_time": "2025-07-28T10:31:02.504929",
     "exception": false,
     "start_time": "2025-07-28T10:31:02.188635",
     "status": "completed"
    },
    "tags": []
   },
   "outputs": [],
   "source": [
    "from fairness_multiverse.conformal import build_cp_groups\n",
    "\n",
    "cp_groups_df = build_cp_groups(pred_sets, y_true, X_test.index, org_test)\n",
    "#needs universe_id and setting"
   ]
  },
  {
   "cell_type": "code",
   "execution_count": 57,
   "id": "01d5802c-663a-4d1f-9d69-e036faaffbf7",
   "metadata": {
    "execution": {
     "iopub.execute_input": "2025-07-28T10:31:02.543768Z",
     "iopub.status.busy": "2025-07-28T10:31:02.543401Z",
     "iopub.status.idle": "2025-07-28T10:31:02.547695Z",
     "shell.execute_reply": "2025-07-28T10:31:02.546980Z"
    },
    "papermill": {
     "duration": 0.024918,
     "end_time": "2025-07-28T10:31:02.549104",
     "exception": false,
     "start_time": "2025-07-28T10:31:02.524186",
     "status": "completed"
    },
    "tags": []
   },
   "outputs": [],
   "source": [
    "#delete\n",
    "#cp_groups_df"
   ]
  },
  {
   "cell_type": "code",
   "execution_count": 58,
   "id": "fa424af1-d1eb-443d-b717-2d279ada8408",
   "metadata": {
    "execution": {
     "iopub.execute_input": "2025-07-28T10:31:02.578191Z",
     "iopub.status.busy": "2025-07-28T10:31:02.577776Z",
     "iopub.status.idle": "2025-07-28T10:31:02.582592Z",
     "shell.execute_reply": "2025-07-28T10:31:02.581860Z"
    },
    "papermill": {
     "duration": 0.020355,
     "end_time": "2025-07-28T10:31:02.584055",
     "exception": false,
     "start_time": "2025-07-28T10:31:02.563700",
     "status": "completed"
    },
    "tags": []
   },
   "outputs": [],
   "source": [
    "#delete\n",
    "#percentage = (cp_groups_df['nongerman_female'] == 1).mean() * 100\n",
    "#print(percentage)\n"
   ]
  },
  {
   "cell_type": "code",
   "execution_count": 59,
   "id": "6cbdab96-b2b2-45af-ad54-d0516db2e28d",
   "metadata": {
    "execution": {
     "iopub.execute_input": "2025-07-28T10:31:02.637224Z",
     "iopub.status.busy": "2025-07-28T10:31:02.636382Z",
     "iopub.status.idle": "2025-07-28T10:31:04.422689Z",
     "shell.execute_reply": "2025-07-28T10:31:04.421531Z"
    },
    "papermill": {
     "duration": 1.818184,
     "end_time": "2025-07-28T10:31:04.424828",
     "exception": false,
     "start_time": "2025-07-28T10:31:02.606644",
     "status": "completed"
    },
    "tags": []
   },
   "outputs": [],
   "source": [
    "# Define covered = 1 if true_label is in the predicted set\n",
    "cp_groups_df['covered'] = cp_groups_df.apply(\n",
    "    lambda r: int(r['true_label'] in r['pred_set']),\n",
    "    axis=1\n",
    ")"
   ]
  },
  {
   "cell_type": "code",
   "execution_count": 60,
   "id": "338ff529-1a6b-4b87-a931-8e4788d52aad",
   "metadata": {
    "execution": {
     "iopub.execute_input": "2025-07-28T10:31:04.474891Z",
     "iopub.status.busy": "2025-07-28T10:31:04.474512Z",
     "iopub.status.idle": "2025-07-28T10:31:04.479863Z",
     "shell.execute_reply": "2025-07-28T10:31:04.479053Z"
    },
    "papermill": {
     "duration": 0.024599,
     "end_time": "2025-07-28T10:31:04.481317",
     "exception": false,
     "start_time": "2025-07-28T10:31:04.456718",
     "status": "completed"
    },
    "tags": []
   },
   "outputs": [],
   "source": [
    "#cp_groups_df"
   ]
  },
  {
   "cell_type": "code",
   "execution_count": 61,
   "id": "90032e27-66df-4540-9169-4e89cfbaa758",
   "metadata": {
    "execution": {
     "iopub.execute_input": "2025-07-28T10:31:04.510227Z",
     "iopub.status.busy": "2025-07-28T10:31:04.509811Z",
     "iopub.status.idle": "2025-07-28T10:31:04.519337Z",
     "shell.execute_reply": "2025-07-28T10:31:04.518566Z"
    },
    "papermill": {
     "duration": 0.025173,
     "end_time": "2025-07-28T10:31:04.520777",
     "exception": false,
     "start_time": "2025-07-28T10:31:04.495604",
     "status": "completed"
    },
    "tags": []
   },
   "outputs": [],
   "source": [
    "subgroups = ['frau1','nongerman','nongerman_male','nongerman_female']\n",
    "\n",
    "# Conditional coverage for subgroup==1\n",
    "cond_coverage = {\n",
    "    g: cp_groups_df.loc[cp_groups_df[g]==1, 'covered'].mean()\n",
    "    for g in subgroups\n",
    "}"
   ]
  },
  {
   "cell_type": "code",
   "execution_count": 62,
   "id": "1e348fb1-b9c3-45bc-ba23-f016827a7e0d",
   "metadata": {
    "execution": {
     "iopub.execute_input": "2025-07-28T10:31:04.549770Z",
     "iopub.status.busy": "2025-07-28T10:31:04.549225Z",
     "iopub.status.idle": "2025-07-28T10:31:04.556247Z",
     "shell.execute_reply": "2025-07-28T10:31:04.555169Z"
    },
    "papermill": {
     "duration": 0.02256,
     "end_time": "2025-07-28T10:31:04.557603",
     "exception": false,
     "start_time": "2025-07-28T10:31:04.535043",
     "status": "completed"
    },
    "tags": []
   },
   "outputs": [
    {
     "data": {
      "text/plain": [
       "{'frau1': 0.912252325111201,\n",
       " 'nongerman': 0.9064728007634874,\n",
       " 'nongerman_male': 0.9214626677474557,\n",
       " 'nongerman_female': 0.8816691505216095}"
      ]
     },
     "execution_count": 62,
     "metadata": {},
     "output_type": "execute_result"
    }
   ],
   "source": [
    "cond_coverage"
   ]
  },
  {
   "cell_type": "code",
   "execution_count": 63,
   "id": "f5093324-c3dd-4d63-bc4c-8d945e5c8bbb",
   "metadata": {
    "execution": {
     "iopub.execute_input": "2025-07-28T10:31:04.614491Z",
     "iopub.status.busy": "2025-07-28T10:31:04.613745Z",
     "iopub.status.idle": "2025-07-28T10:31:04.621202Z",
     "shell.execute_reply": "2025-07-28T10:31:04.620091Z"
    },
    "papermill": {
     "duration": 0.036382,
     "end_time": "2025-07-28T10:31:04.623081",
     "exception": false,
     "start_time": "2025-07-28T10:31:04.586699",
     "status": "completed"
    },
    "tags": []
   },
   "outputs": [],
   "source": [
    "for subgroup, cov in cond_coverage.items():\n",
    "    cp_metrics_df[f\"cov_{subgroup}\"] = cov"
   ]
  },
  {
   "cell_type": "code",
   "execution_count": 64,
   "id": "6e872e10-dbe5-49e8-b554-5030c98ff75d",
   "metadata": {
    "execution": {
     "iopub.execute_input": "2025-07-28T10:31:04.679556Z",
     "iopub.status.busy": "2025-07-28T10:31:04.678716Z",
     "iopub.status.idle": "2025-07-28T10:31:04.699376Z",
     "shell.execute_reply": "2025-07-28T10:31:04.698319Z"
    },
    "papermill": {
     "duration": 0.050154,
     "end_time": "2025-07-28T10:31:04.701236",
     "exception": false,
     "start_time": "2025-07-28T10:31:04.651082",
     "status": "completed"
    },
    "tags": []
   },
   "outputs": [
    {
     "data": {
      "text/html": [
       "<div>\n",
       "<style scoped>\n",
       "    .dataframe tbody tr th:only-of-type {\n",
       "        vertical-align: middle;\n",
       "    }\n",
       "\n",
       "    .dataframe tbody tr th {\n",
       "        vertical-align: top;\n",
       "    }\n",
       "\n",
       "    .dataframe thead th {\n",
       "        text-align: right;\n",
       "    }\n",
       "</style>\n",
       "<table border=\"1\" class=\"dataframe\">\n",
       "  <thead>\n",
       "    <tr style=\"text-align: right;\">\n",
       "      <th></th>\n",
       "      <th>universe_id</th>\n",
       "      <th>universe_training_size</th>\n",
       "      <th>universe_scale</th>\n",
       "      <th>universe_model</th>\n",
       "      <th>universe_exclude_features</th>\n",
       "      <th>universe_exclude_subgroups</th>\n",
       "      <th>q_hat</th>\n",
       "      <th>coverage</th>\n",
       "      <th>avg_size</th>\n",
       "      <th>cov_frau1</th>\n",
       "      <th>cov_nongerman</th>\n",
       "      <th>cov_nongerman_male</th>\n",
       "      <th>cov_nongerman_female</th>\n",
       "    </tr>\n",
       "  </thead>\n",
       "  <tbody>\n",
       "    <tr>\n",
       "      <th>0</th>\n",
       "      <td>cb19ac1de131b283a0eb6da3925dd694</td>\n",
       "      <td>5k</td>\n",
       "      <td>scale</td>\n",
       "      <td>rf</td>\n",
       "      <td>nationality-sex</td>\n",
       "      <td>drop-non-german</td>\n",
       "      <td>0.67</td>\n",
       "      <td>0.914926</td>\n",
       "      <td>1.153807</td>\n",
       "      <td>0.912252</td>\n",
       "      <td>0.906473</td>\n",
       "      <td>0.921463</td>\n",
       "      <td>0.881669</td>\n",
       "    </tr>\n",
       "  </tbody>\n",
       "</table>\n",
       "</div>"
      ],
      "text/plain": [
       "                        universe_id universe_training_size universe_scale  \\\n",
       "0  cb19ac1de131b283a0eb6da3925dd694                     5k          scale   \n",
       "\n",
       "  universe_model universe_exclude_features universe_exclude_subgroups  q_hat  \\\n",
       "0             rf           nationality-sex            drop-non-german   0.67   \n",
       "\n",
       "   coverage  avg_size  cov_frau1  cov_nongerman  cov_nongerman_male  \\\n",
       "0  0.914926  1.153807   0.912252       0.906473            0.921463   \n",
       "\n",
       "   cov_nongerman_female  \n",
       "0              0.881669  "
      ]
     },
     "execution_count": 64,
     "metadata": {},
     "output_type": "execute_result"
    }
   ],
   "source": [
    "cp_metrics_df"
   ]
  },
  {
   "cell_type": "markdown",
   "id": "33774451",
   "metadata": {
    "papermill": {
     "duration": 0.026956,
     "end_time": "2025-07-28T10:31:04.757502",
     "exception": false,
     "start_time": "2025-07-28T10:31:04.730546",
     "status": "completed"
    },
    "tags": []
   },
   "source": [
    "# (Fairness) Metrics"
   ]
  },
  {
   "cell_type": "code",
   "execution_count": 65,
   "id": "debc5d62",
   "metadata": {
    "execution": {
     "iopub.execute_input": "2025-07-28T10:31:04.817792Z",
     "iopub.status.busy": "2025-07-28T10:31:04.817031Z",
     "iopub.status.idle": "2025-07-28T10:31:04.840707Z",
     "shell.execute_reply": "2025-07-28T10:31:04.839554Z"
    },
    "papermill": {
     "duration": 0.056064,
     "end_time": "2025-07-28T10:31:04.842694",
     "exception": false,
     "start_time": "2025-07-28T10:31:04.786630",
     "status": "completed"
    },
    "tags": []
   },
   "outputs": [],
   "source": [
    "# do I need to include maxdeutsch1.missing?\n",
    "\n",
    "import numpy as np\n",
    "\n",
    "colname_to_bin = \"maxdeutsch1\"\n",
    "majority_value = org_train[colname_to_bin].mode()[0]\n",
    "\n",
    "org_test[\"majmin\"] = np.where(org_test[colname_to_bin] == majority_value, \"majority\", \"minority\")"
   ]
  },
  {
   "cell_type": "code",
   "execution_count": 66,
   "id": "06a50de5",
   "metadata": {
    "execution": {
     "iopub.execute_input": "2025-07-28T10:31:04.898165Z",
     "iopub.status.busy": "2025-07-28T10:31:04.897129Z",
     "iopub.status.idle": "2025-07-28T10:31:07.212964Z",
     "shell.execute_reply": "2025-07-28T10:31:07.211843Z"
    },
    "papermill": {
     "duration": 2.345583,
     "end_time": "2025-07-28T10:31:07.215162",
     "exception": false,
     "start_time": "2025-07-28T10:31:04.869579",
     "status": "completed"
    },
    "tags": []
   },
   "outputs": [],
   "source": [
    "example_universe = universe.copy()\n",
    "example_universe[\"cutoff\"] = example_universe[\"cutoff\"][0]\n",
    "example_universe[\"eval_fairness_grouping\"] = example_universe[\"eval_fairness_grouping\"][0]\n",
    "fairness_dict, metric_frame = universe_analysis.compute_metrics(\n",
    "    example_universe,\n",
    "    y_pred_prob=probs_test,\n",
    "    y_test=y_true,\n",
    "    org_test=org_test,\n",
    ")"
   ]
  },
  {
   "cell_type": "markdown",
   "id": "f95d4e02",
   "metadata": {
    "papermill": {
     "duration": 0.024939,
     "end_time": "2025-07-28T10:31:07.267451",
     "exception": false,
     "start_time": "2025-07-28T10:31:07.242512",
     "status": "completed"
    },
    "tags": []
   },
   "source": [
    "# Overall"
   ]
  },
  {
   "cell_type": "markdown",
   "id": "bdee4871",
   "metadata": {
    "papermill": {
     "duration": 0.026836,
     "end_time": "2025-07-28T10:31:07.308855",
     "exception": false,
     "start_time": "2025-07-28T10:31:07.282019",
     "status": "completed"
    },
    "tags": []
   },
   "source": [
    "Fairness\n",
    "Main fairness target: Equalized Odds. Seems to be a better fit than equal opportunity, since we're not only interested in Y = 1. Seems to be a better fit than demographic parity, since we also care about accuracy, not just equal distribution of preds.\n",
    "\n",
    "Pick column for computation of fairness metrics\n",
    "\n",
    "Performance\n",
    "Overall performance measures, most interesting in relation to the measures split by group below"
   ]
  },
  {
   "cell_type": "code",
   "execution_count": 67,
   "id": "c4e067c6",
   "metadata": {
    "execution": {
     "iopub.execute_input": "2025-07-28T10:31:07.364826Z",
     "iopub.status.busy": "2025-07-28T10:31:07.364351Z",
     "iopub.status.idle": "2025-07-28T10:31:07.373089Z",
     "shell.execute_reply": "2025-07-28T10:31:07.372182Z"
    },
    "papermill": {
     "duration": 0.037622,
     "end_time": "2025-07-28T10:31:07.374747",
     "exception": false,
     "start_time": "2025-07-28T10:31:07.337125",
     "status": "completed"
    },
    "tags": []
   },
   "outputs": [
    {
     "data": {
      "text/plain": [
       "accuracy                   0.196422\n",
       "balanced accuracy          0.533749\n",
       "f1                         0.239704\n",
       "precision                  0.136408\n",
       "false positive rate        0.919989\n",
       "false negative rate        0.012513\n",
       "selection rate             0.928648\n",
       "count                  89710.000000\n",
       "dtype: float64"
      ]
     },
     "execution_count": 67,
     "metadata": {},
     "output_type": "execute_result"
    }
   ],
   "source": [
    "metric_frame.overall"
   ]
  },
  {
   "cell_type": "markdown",
   "id": "e968fe9d",
   "metadata": {
    "papermill": {
     "duration": 0.01731,
     "end_time": "2025-07-28T10:31:07.413327",
     "exception": false,
     "start_time": "2025-07-28T10:31:07.396017",
     "status": "completed"
    },
    "tags": []
   },
   "source": [
    "By Group"
   ]
  },
  {
   "cell_type": "code",
   "execution_count": 68,
   "id": "ec325bce",
   "metadata": {
    "execution": {
     "iopub.execute_input": "2025-07-28T10:31:07.444689Z",
     "iopub.status.busy": "2025-07-28T10:31:07.444295Z",
     "iopub.status.idle": "2025-07-28T10:31:07.457992Z",
     "shell.execute_reply": "2025-07-28T10:31:07.456825Z"
    },
    "papermill": {
     "duration": 0.031731,
     "end_time": "2025-07-28T10:31:07.459998",
     "exception": false,
     "start_time": "2025-07-28T10:31:07.428267",
     "status": "completed"
    },
    "tags": []
   },
   "outputs": [
    {
     "data": {
      "text/html": [
       "<div>\n",
       "<style scoped>\n",
       "    .dataframe tbody tr th:only-of-type {\n",
       "        vertical-align: middle;\n",
       "    }\n",
       "\n",
       "    .dataframe tbody tr th {\n",
       "        vertical-align: top;\n",
       "    }\n",
       "\n",
       "    .dataframe thead th {\n",
       "        text-align: right;\n",
       "    }\n",
       "</style>\n",
       "<table border=\"1\" class=\"dataframe\">\n",
       "  <thead>\n",
       "    <tr style=\"text-align: right;\">\n",
       "      <th></th>\n",
       "      <th>accuracy</th>\n",
       "      <th>balanced accuracy</th>\n",
       "      <th>f1</th>\n",
       "      <th>precision</th>\n",
       "      <th>false positive rate</th>\n",
       "      <th>false negative rate</th>\n",
       "      <th>selection rate</th>\n",
       "      <th>count</th>\n",
       "    </tr>\n",
       "    <tr>\n",
       "      <th>majmin</th>\n",
       "      <th></th>\n",
       "      <th></th>\n",
       "      <th></th>\n",
       "      <th></th>\n",
       "      <th></th>\n",
       "      <th></th>\n",
       "      <th></th>\n",
       "      <th></th>\n",
       "    </tr>\n",
       "  </thead>\n",
       "  <tbody>\n",
       "    <tr>\n",
       "      <th>majority</th>\n",
       "      <td>0.198178</td>\n",
       "      <td>0.534755</td>\n",
       "      <td>0.246440</td>\n",
       "      <td>0.140692</td>\n",
       "      <td>0.922722</td>\n",
       "      <td>0.007768</td>\n",
       "      <td>0.931907</td>\n",
       "      <td>69170.0</td>\n",
       "    </tr>\n",
       "    <tr>\n",
       "      <th>minority</th>\n",
       "      <td>0.190506</td>\n",
       "      <td>0.529105</td>\n",
       "      <td>0.216336</td>\n",
       "      <td>0.121757</td>\n",
       "      <td>0.910962</td>\n",
       "      <td>0.030828</td>\n",
       "      <td>0.917673</td>\n",
       "      <td>20540.0</td>\n",
       "    </tr>\n",
       "  </tbody>\n",
       "</table>\n",
       "</div>"
      ],
      "text/plain": [
       "          accuracy  balanced accuracy        f1  precision  \\\n",
       "majmin                                                       \n",
       "majority  0.198178           0.534755  0.246440   0.140692   \n",
       "minority  0.190506           0.529105  0.216336   0.121757   \n",
       "\n",
       "          false positive rate  false negative rate  selection rate    count  \n",
       "majmin                                                                       \n",
       "majority             0.922722             0.007768        0.931907  69170.0  \n",
       "minority             0.910962             0.030828        0.917673  20540.0  "
      ]
     },
     "execution_count": 68,
     "metadata": {},
     "output_type": "execute_result"
    }
   ],
   "source": [
    "metric_frame.by_group"
   ]
  },
  {
   "cell_type": "code",
   "execution_count": 69,
   "id": "a9ddbe63",
   "metadata": {
    "execution": {
     "iopub.execute_input": "2025-07-28T10:31:07.521121Z",
     "iopub.status.busy": "2025-07-28T10:31:07.520580Z",
     "iopub.status.idle": "2025-07-28T10:31:10.793598Z",
     "shell.execute_reply": "2025-07-28T10:31:10.792814Z"
    },
    "papermill": {
     "duration": 3.290599,
     "end_time": "2025-07-28T10:31:10.795033",
     "exception": false,
     "start_time": "2025-07-28T10:31:07.504434",
     "status": "completed"
    },
    "tags": []
   },
   "outputs": [
    {
     "data": {
      "text/plain": [
       "array([[<Axes: title={'center': 'accuracy'}, xlabel='majmin'>,\n",
       "        <Axes: title={'center': 'balanced accuracy'}, xlabel='majmin'>,\n",
       "        <Axes: title={'center': 'f1'}, xlabel='majmin'>],\n",
       "       [<Axes: title={'center': 'precision'}, xlabel='majmin'>,\n",
       "        <Axes: title={'center': 'false positive rate'}, xlabel='majmin'>,\n",
       "        <Axes: title={'center': 'false negative rate'}, xlabel='majmin'>],\n",
       "       [<Axes: title={'center': 'selection rate'}, xlabel='majmin'>,\n",
       "        <Axes: title={'center': 'count'}, xlabel='majmin'>,\n",
       "        <Axes: xlabel='majmin'>]], dtype=object)"
      ]
     },
     "execution_count": 69,
     "metadata": {},
     "output_type": "execute_result"
    },
    {
     "data": {
      "image/png": "[encoded data removed]",
      "text/plain": [
       "<Figure size 1200x800 with 9 Axes>"
      ]
     },
     "metadata": {},
     "output_type": "display_data"
    }
   ],
   "source": [
    "# In a graphic\n",
    "metric_frame.by_group.plot.bar(\n",
    "    subplots=True,\n",
    "    layout=[3, 3],\n",
    "    legend=False,\n",
    "    figsize=[12, 8],\n",
    "    title=\"Show all metrics\",\n",
    ")"
   ]
  },
  {
   "cell_type": "markdown",
   "id": "f57a0bac",
   "metadata": {
    "papermill": {
     "duration": 0.017933,
     "end_time": "2025-07-28T10:31:10.830829",
     "exception": false,
     "start_time": "2025-07-28T10:31:10.812896",
     "status": "completed"
    },
    "tags": []
   },
   "source": [
    "# Final Output"
   ]
  },
  {
   "cell_type": "code",
   "execution_count": 70,
   "id": "96d280a3",
   "metadata": {
    "execution": {
     "iopub.execute_input": "2025-07-28T10:31:10.864417Z",
     "iopub.status.busy": "2025-07-28T10:31:10.863902Z",
     "iopub.status.idle": "2025-07-28T10:31:10.870911Z",
     "shell.execute_reply": "2025-07-28T10:31:10.870178Z"
    },
    "papermill": {
     "duration": 0.024516,
     "end_time": "2025-07-28T10:31:10.872154",
     "exception": false,
     "start_time": "2025-07-28T10:31:10.847638",
     "status": "completed"
    },
    "tags": []
   },
   "outputs": [
    {
     "data": {
      "text/plain": [
       "4"
      ]
     },
     "execution_count": 70,
     "metadata": {},
     "output_type": "execute_result"
    }
   ],
   "source": [
    "sub_universes = universe_analysis.generate_sub_universes()\n",
    "len(sub_universes)"
   ]
  },
  {
   "cell_type": "code",
   "execution_count": 71,
   "id": "92adf7ba",
   "metadata": {
    "execution": {
     "iopub.execute_input": "2025-07-28T10:31:10.909070Z",
     "iopub.status.busy": "2025-07-28T10:31:10.908321Z",
     "iopub.status.idle": "2025-07-28T10:31:10.914021Z",
     "shell.execute_reply": "2025-07-28T10:31:10.913236Z"
    },
    "papermill": {
     "duration": 0.027512,
     "end_time": "2025-07-28T10:31:10.915412",
     "exception": false,
     "start_time": "2025-07-28T10:31:10.887900",
     "status": "completed"
    },
    "tags": []
   },
   "outputs": [],
   "source": [
    "def filter_sub_universe_data(sub_universe, org_test):\n",
    "    # Keep all rows — no filtering\n",
    "    keep_rows_mask = np.ones(org_test.shape[0], dtype=bool)\n",
    "\n",
    "    print(f\"[INFO] Keeping all rows: {keep_rows_mask.sum()} rows retained.\")\n",
    "    return keep_rows_mask"
   ]
  },
  {
   "cell_type": "code",
   "execution_count": 72,
   "id": "4a759155",
   "metadata": {
    "execution": {
     "iopub.execute_input": "2025-07-28T10:31:10.950648Z",
     "iopub.status.busy": "2025-07-28T10:31:10.950267Z",
     "iopub.status.idle": "2025-07-28T10:31:22.743325Z",
     "shell.execute_reply": "2025-07-28T10:31:22.742245Z"
    },
    "papermill": {
     "duration": 11.812949,
     "end_time": "2025-07-28T10:31:22.744967",
     "exception": false,
     "start_time": "2025-07-28T10:31:10.932018",
     "status": "completed"
    },
    "tags": []
   },
   "outputs": [
    {
     "name": "stdout",
     "output_type": "stream",
     "text": [
      "Stopping execution_time clock.\n",
      "[INFO] Keeping all rows: 89710 rows retained.\n"
     ]
    },
    {
     "name": "stdout",
     "output_type": "stream",
     "text": [
      "[INFO] Keeping all rows: 89710 rows retained.\n"
     ]
    },
    {
     "name": "stdout",
     "output_type": "stream",
     "text": [
      "[INFO] Keeping all rows: 89710 rows retained.\n"
     ]
    },
    {
     "name": "stdout",
     "output_type": "stream",
     "text": [
      "[INFO] Keeping all rows: 89710 rows retained.\n"
     ]
    },
    {
     "data": {
      "text/html": [
       "<div>\n",
       "<style scoped>\n",
       "    .dataframe tbody tr th:only-of-type {\n",
       "        vertical-align: middle;\n",
       "    }\n",
       "\n",
       "    .dataframe tbody tr th {\n",
       "        vertical-align: top;\n",
       "    }\n",
       "\n",
       "    .dataframe thead th {\n",
       "        text-align: right;\n",
       "    }\n",
       "</style>\n",
       "<table border=\"1\" class=\"dataframe\">\n",
       "  <thead>\n",
       "    <tr style=\"text-align: right;\">\n",
       "      <th></th>\n",
       "      <th>run_no</th>\n",
       "      <th>universe_id</th>\n",
       "      <th>universe_settings</th>\n",
       "      <th>execution_time</th>\n",
       "      <th>test_size_n</th>\n",
       "      <th>test_size_frac</th>\n",
       "      <th>fair_main_equalized_odds_difference</th>\n",
       "      <th>fair_main_equalized_odds_ratio</th>\n",
       "      <th>fair_main_demographic_parity_difference</th>\n",
       "      <th>fair_main_demographic_parity_ratio</th>\n",
       "      <th>...</th>\n",
       "      <th>perf_grp_precision_0</th>\n",
       "      <th>perf_grp_precision_1</th>\n",
       "      <th>perf_grp_false positive rate_0</th>\n",
       "      <th>perf_grp_false positive rate_1</th>\n",
       "      <th>perf_grp_false negative rate_0</th>\n",
       "      <th>perf_grp_false negative rate_1</th>\n",
       "      <th>perf_grp_selection rate_0</th>\n",
       "      <th>perf_grp_selection rate_1</th>\n",
       "      <th>perf_grp_count_0</th>\n",
       "      <th>perf_grp_count_1</th>\n",
       "    </tr>\n",
       "  </thead>\n",
       "  <tbody>\n",
       "    <tr>\n",
       "      <th>0</th>\n",
       "      <td>11</td>\n",
       "      <td>cb19ac1de131b283a0eb6da3925dd694</td>\n",
       "      <td>{\"cutoff\": \"quantile_0.1\", \"eval_fairness_grou...</td>\n",
       "      <td>34.353697</td>\n",
       "      <td>89710</td>\n",
       "      <td>1.0</td>\n",
       "      <td>0.023060</td>\n",
       "      <td>0.976760</td>\n",
       "      <td>0.014234</td>\n",
       "      <td>0.984726</td>\n",
       "      <td>...</td>\n",
       "      <td>NaN</td>\n",
       "      <td>NaN</td>\n",
       "      <td>NaN</td>\n",
       "      <td>NaN</td>\n",
       "      <td>NaN</td>\n",
       "      <td>NaN</td>\n",
       "      <td>NaN</td>\n",
       "      <td>NaN</td>\n",
       "      <td>NaN</td>\n",
       "      <td>NaN</td>\n",
       "    </tr>\n",
       "    <tr>\n",
       "      <th>0</th>\n",
       "      <td>11</td>\n",
       "      <td>cb19ac1de131b283a0eb6da3925dd694</td>\n",
       "      <td>{\"cutoff\": \"quantile_0.1\", \"eval_fairness_grou...</td>\n",
       "      <td>34.353697</td>\n",
       "      <td>89710</td>\n",
       "      <td>1.0</td>\n",
       "      <td>0.023060</td>\n",
       "      <td>0.976760</td>\n",
       "      <td>0.014234</td>\n",
       "      <td>0.984726</td>\n",
       "      <td>...</td>\n",
       "      <td>0.121757</td>\n",
       "      <td>0.140692</td>\n",
       "      <td>0.910962</td>\n",
       "      <td>0.922722</td>\n",
       "      <td>0.030828</td>\n",
       "      <td>0.007768</td>\n",
       "      <td>0.917673</td>\n",
       "      <td>0.931907</td>\n",
       "      <td>20540.0</td>\n",
       "      <td>69170.0</td>\n",
       "    </tr>\n",
       "    <tr>\n",
       "      <th>0</th>\n",
       "      <td>11</td>\n",
       "      <td>cb19ac1de131b283a0eb6da3925dd694</td>\n",
       "      <td>{\"cutoff\": \"quantile_0.25\", \"eval_fairness_gro...</td>\n",
       "      <td>34.353697</td>\n",
       "      <td>89710</td>\n",
       "      <td>1.0</td>\n",
       "      <td>0.109624</td>\n",
       "      <td>0.885319</td>\n",
       "      <td>0.042148</td>\n",
       "      <td>0.946354</td>\n",
       "      <td>...</td>\n",
       "      <td>NaN</td>\n",
       "      <td>NaN</td>\n",
       "      <td>NaN</td>\n",
       "      <td>NaN</td>\n",
       "      <td>NaN</td>\n",
       "      <td>NaN</td>\n",
       "      <td>NaN</td>\n",
       "      <td>NaN</td>\n",
       "      <td>NaN</td>\n",
       "      <td>NaN</td>\n",
       "    </tr>\n",
       "    <tr>\n",
       "      <th>0</th>\n",
       "      <td>11</td>\n",
       "      <td>cb19ac1de131b283a0eb6da3925dd694</td>\n",
       "      <td>{\"cutoff\": \"quantile_0.25\", \"eval_fairness_gro...</td>\n",
       "      <td>34.353697</td>\n",
       "      <td>89710</td>\n",
       "      <td>1.0</td>\n",
       "      <td>0.109624</td>\n",
       "      <td>0.885319</td>\n",
       "      <td>0.042148</td>\n",
       "      <td>0.946354</td>\n",
       "      <td>...</td>\n",
       "      <td>0.131221</td>\n",
       "      <td>0.160769</td>\n",
       "      <td>0.730134</td>\n",
       "      <td>0.759753</td>\n",
       "      <td>0.153716</td>\n",
       "      <td>0.044092</td>\n",
       "      <td>0.743525</td>\n",
       "      <td>0.785673</td>\n",
       "      <td>20540.0</td>\n",
       "      <td>69170.0</td>\n",
       "    </tr>\n",
       "  </tbody>\n",
       "</table>\n",
       "<p>4 rows × 50 columns</p>\n",
       "</div>"
      ],
      "text/plain": [
       "  run_no                       universe_id  \\\n",
       "0     11  cb19ac1de131b283a0eb6da3925dd694   \n",
       "0     11  cb19ac1de131b283a0eb6da3925dd694   \n",
       "0     11  cb19ac1de131b283a0eb6da3925dd694   \n",
       "0     11  cb19ac1de131b283a0eb6da3925dd694   \n",
       "\n",
       "                                   universe_settings  execution_time  \\\n",
       "0  {\"cutoff\": \"quantile_0.1\", \"eval_fairness_grou...       34.353697   \n",
       "0  {\"cutoff\": \"quantile_0.1\", \"eval_fairness_grou...       34.353697   \n",
       "0  {\"cutoff\": \"quantile_0.25\", \"eval_fairness_gro...       34.353697   \n",
       "0  {\"cutoff\": \"quantile_0.25\", \"eval_fairness_gro...       34.353697   \n",
       "\n",
       "   test_size_n  test_size_frac  fair_main_equalized_odds_difference  \\\n",
       "0        89710             1.0                             0.023060   \n",
       "0        89710             1.0                             0.023060   \n",
       "0        89710             1.0                             0.109624   \n",
       "0        89710             1.0                             0.109624   \n",
       "\n",
       "   fair_main_equalized_odds_ratio  fair_main_demographic_parity_difference  \\\n",
       "0                        0.976760                                 0.014234   \n",
       "0                        0.976760                                 0.014234   \n",
       "0                        0.885319                                 0.042148   \n",
       "0                        0.885319                                 0.042148   \n",
       "\n",
       "   fair_main_demographic_parity_ratio  ...  perf_grp_precision_0  \\\n",
       "0                            0.984726  ...                   NaN   \n",
       "0                            0.984726  ...              0.121757   \n",
       "0                            0.946354  ...                   NaN   \n",
       "0                            0.946354  ...              0.131221   \n",
       "\n",
       "   perf_grp_precision_1  perf_grp_false positive rate_0  \\\n",
       "0                   NaN                             NaN   \n",
       "0              0.140692                        0.910962   \n",
       "0                   NaN                             NaN   \n",
       "0              0.160769                        0.730134   \n",
       "\n",
       "   perf_grp_false positive rate_1  perf_grp_false negative rate_0  \\\n",
       "0                             NaN                             NaN   \n",
       "0                        0.922722                        0.030828   \n",
       "0                             NaN                             NaN   \n",
       "0                        0.759753                        0.153716   \n",
       "\n",
       "   perf_grp_false negative rate_1  perf_grp_selection rate_0  \\\n",
       "0                             NaN                        NaN   \n",
       "0                        0.007768                   0.917673   \n",
       "0                             NaN                        NaN   \n",
       "0                        0.044092                   0.743525   \n",
       "\n",
       "   perf_grp_selection rate_1  perf_grp_count_0  perf_grp_count_1  \n",
       "0                        NaN               NaN               NaN  \n",
       "0                   0.931907           20540.0           69170.0  \n",
       "0                        NaN               NaN               NaN  \n",
       "0                   0.785673           20540.0           69170.0  \n",
       "\n",
       "[4 rows x 50 columns]"
      ]
     },
     "execution_count": 72,
     "metadata": {},
     "output_type": "execute_result"
    }
   ],
   "source": [
    "final_output = universe_analysis.generate_final_output(\n",
    "    y_pred_prob=probs_test,\n",
    "    y_test=y_true,\n",
    "    org_test=org_test,\n",
    "    filter_data=filter_sub_universe_data,\n",
    "    cp_metrics_df=cp_metrics_df,\n",
    "    save=True,\n",
    ")\n",
    "final_output"
   ]
  },
  {
   "cell_type": "code",
   "execution_count": null,
   "id": "721ff514-cb11-46f8-b6fc-50392f74b5cb",
   "metadata": {
    "papermill": {
     "duration": 0.027975,
     "end_time": "2025-07-28T10:31:22.804848",
     "exception": false,
     "start_time": "2025-07-28T10:31:22.776873",
     "status": "completed"
    },
    "tags": []
   },
   "outputs": [],
   "source": []
  }
 ],
 "metadata": {
  "celltoolbar": "Tags",
  "kernelspec": {
   "display_name": "Python (CMA Fairness)",
   "language": "python",
   "name": "cma_fair_env"
  },
  "language_info": {
   "codemirror_mode": {
    "name": "ipython",
    "version": 3
   },
   "file_extension": ".py",
   "mimetype": "text/x-python",
   "name": "python",
   "nbconvert_exporter": "python",
   "pygments_lexer": "ipython3",
   "version": "3.10.12"
  },
  "papermill": {
   "default_parameters": {},
   "duration": 50.742764,
   "end_time": "2025-07-28T10:31:23.553896",
   "environment_variables": {},
   "exception": null,
   "input_path": "universe_analysis.ipynb",
   "output_path": "output/runs/11/notebooks/m_11-cb19ac1de131b283a0eb6da3925dd694.ipynb",
   "parameters": {
    "output_dir": "output",
    "run_no": "11",
    "seed": "2023",
    "universe": "{\"cutoff\": [\"quantile_0.1\", \"quantile_0.25\"], \"eval_fairness_grouping\": [\"majority-minority\", \"nationality-all\"], \"exclude_features\": \"nationality-sex\", \"exclude_subgroups\": \"drop-non-german\", \"model\": \"rf\", \"scale\": \"scale\", \"training_size\": \"5k\"}",
    "universe_id": "cb19ac1de131b283a0eb6da3925dd694"
   },
   "start_time": "2025-07-28T10:30:32.811132",
   "version": "2.6.0"
  }
 },
 "nbformat": 4,
 "nbformat_minor": 5
}