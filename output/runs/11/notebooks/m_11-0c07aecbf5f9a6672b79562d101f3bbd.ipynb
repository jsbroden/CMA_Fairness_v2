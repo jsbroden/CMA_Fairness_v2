{
 "cells": [
  {
   "cell_type": "code",
   "execution_count": 1,
   "id": "f159f837-637b-42ba-96b5-ec9a68c44524",
   "metadata": {
    "execution": {
     "iopub.execute_input": "2025-07-28T10:52:52.646665Z",
     "iopub.status.busy": "2025-07-28T10:52:52.645963Z",
     "iopub.status.idle": "2025-07-28T10:52:52.659711Z",
     "shell.execute_reply": "2025-07-28T10:52:52.658945Z"
    },
    "papermill": {
     "duration": 0.042273,
     "end_time": "2025-07-28T10:52:52.666291",
     "exception": false,
     "start_time": "2025-07-28T10:52:52.624018",
     "status": "completed"
    },
    "tags": []
   },
   "outputs": [
    {
     "name": "stdout",
     "output_type": "stream",
     "text": [
      "/dss/dsshome1/0C/ra93lal2/cma/CMA_Fairness_v2\n"
     ]
    },
    {
     "name": "stderr",
     "output_type": "stream",
     "text": [
      "/dss/dsshome1/0C/ra93lal2/.local/share/virtualenvs/CMA_Fairness_v2-3j10GkSs/lib/python3.10/site-packages/IPython/core/magics/osm.py:393: UserWarning: This is now an optional IPython functionality, using bookmarks requires you to install the `pickleshare` library.\n",
      "  bkms = self.shell.db.get('bookmarks', {})\n",
      "/dss/dsshome1/0C/ra93lal2/.local/share/virtualenvs/CMA_Fairness_v2-3j10GkSs/lib/python3.10/site-packages/IPython/core/magics/osm.py:417: UserWarning: This is now an optional IPython functionality, setting dhist requires you to install the `pickleshare` library.\n",
      "  self.shell.db['dhist'] = compress_dhist(dhist)[-100:]\n"
     ]
    }
   ],
   "source": [
    "%cd ~/cma/CMA_Fairness_v2"
   ]
  },
  {
   "cell_type": "markdown",
   "id": "de2603b9",
   "metadata": {
    "papermill": {
     "duration": 0.0095,
     "end_time": "2025-07-28T10:52:52.685872",
     "exception": false,
     "start_time": "2025-07-28T10:52:52.676372",
     "status": "completed"
    },
    "tags": []
   },
   "source": [
    "The following cell holds the definition of our parameters, these values can be overriden by rendering the with e.g. the following command:\n",
    "\n",
    "papermill -p alpha 0.2 -p ratio 0.3 universe_analysis.ipynb output/test_run.ipynb"
   ]
  },
  {
   "cell_type": "code",
   "execution_count": 2,
   "id": "a80968a0-40bb-4fa9-85ef-2d5eefb01975",
   "metadata": {
    "execution": {
     "iopub.execute_input": "2025-07-28T10:52:52.707207Z",
     "iopub.status.busy": "2025-07-28T10:52:52.706713Z",
     "iopub.status.idle": "2025-07-28T10:52:52.712147Z",
     "shell.execute_reply": "2025-07-28T10:52:52.711110Z"
    },
    "papermill": {
     "duration": 0.018197,
     "end_time": "2025-07-28T10:52:52.713938",
     "exception": false,
     "start_time": "2025-07-28T10:52:52.695741",
     "status": "completed"
    },
    "tags": []
   },
   "outputs": [
    {
     "name": "stdout",
     "output_type": "stream",
     "text": [
      "Current working directory: /dss/dsshome1/0C/ra93lal2/cma/CMA_Fairness_v2\n"
     ]
    }
   ],
   "source": [
    "import os\n",
    "print(\"Current working directory:\", os.getcwd())"
   ]
  },
  {
   "cell_type": "code",
   "execution_count": 3,
   "id": "2dce4c03",
   "metadata": {
    "execution": {
     "iopub.execute_input": "2025-07-28T10:52:52.761499Z",
     "iopub.status.busy": "2025-07-28T10:52:52.760923Z",
     "iopub.status.idle": "2025-07-28T10:52:52.767593Z",
     "shell.execute_reply": "2025-07-28T10:52:52.766536Z"
    },
    "papermill": {
     "duration": 0.031814,
     "end_time": "2025-07-28T10:52:52.769468",
     "exception": false,
     "start_time": "2025-07-28T10:52:52.737654",
     "status": "completed"
    },
    "tags": [
     "parameters"
    ]
   },
   "outputs": [],
   "source": [
    "run_no = 0\n",
    "universe_id = \"test\"\n",
    "universe = {\n",
    "    \"training_size\": \"2014\", # \"25k\", \"5k\", \"1k\", \"2014\"\n",
    "    \"scale\": \"scale\", # \"scale\", \"do-not-scale\",\n",
    "    #\"stratify_split\": \"target\", # \"none\", \"target\", \"protected-attribute\", \"both\",\n",
    "    \"model\": \"elasticnet\", # \"logreg\", \"penalized_logreg\", \"rf\", \"gbm\", \"elasticnet\"\n",
    "    \"cutoff\": [\"quantile_0.15\", \"quantile_0.30\"],\n",
    "    \"exclude_features\": \"age\", # \"none\", \"nationality\", \"sex\", \"nationality-sex\", \"age\"\n",
    "    \"exclude_subgroups\": \"keep-all\", # \"keep-all\", \"drop-non-german\"\n",
    "    \"eval_fairness_grouping\": [\"majority-minority\", \"nationality-all\"]\n",
    "}\n",
    "\n",
    "output_dir=\"./output\"\n",
    "seed=0"
   ]
  },
  {
   "cell_type": "code",
   "execution_count": 4,
   "id": "2231eb15",
   "metadata": {
    "execution": {
     "iopub.execute_input": "2025-07-28T10:52:52.812460Z",
     "iopub.status.busy": "2025-07-28T10:52:52.811637Z",
     "iopub.status.idle": "2025-07-28T10:52:52.816259Z",
     "shell.execute_reply": "2025-07-28T10:52:52.815116Z"
    },
    "papermill": {
     "duration": 0.027652,
     "end_time": "2025-07-28T10:52:52.817941",
     "exception": false,
     "start_time": "2025-07-28T10:52:52.790289",
     "status": "completed"
    },
    "tags": [
     "injected-parameters"
    ]
   },
   "outputs": [],
   "source": [
    "# Parameters\n",
    "universe_id = \"0c07aecbf5f9a6672b79562d101f3bbd\"\n",
    "run_no = \"11\"\n",
    "universe = \"{\\\"cutoff\\\": [\\\"quantile_0.1\\\", \\\"quantile_0.25\\\"], \\\"eval_fairness_grouping\\\": [\\\"majority-minority\\\", \\\"nationality-all\\\"], \\\"exclude_features\\\": \\\"age\\\", \\\"exclude_subgroups\\\": \\\"drop-non-german\\\", \\\"model\\\": \\\"elasticnet\\\", \\\"scale\\\": \\\"do-not-scale\\\", \\\"training_size\\\": \\\"1k\\\"}\"\n",
    "output_dir = \"output\"\n",
    "seed = \"2023\"\n"
   ]
  },
  {
   "cell_type": "code",
   "execution_count": 5,
   "id": "1650acaf",
   "metadata": {
    "execution": {
     "iopub.execute_input": "2025-07-28T10:52:52.860740Z",
     "iopub.status.busy": "2025-07-28T10:52:52.859927Z",
     "iopub.status.idle": "2025-07-28T10:52:52.868556Z",
     "shell.execute_reply": "2025-07-28T10:52:52.864932Z"
    },
    "papermill": {
     "duration": 0.031433,
     "end_time": "2025-07-28T10:52:52.870376",
     "exception": false,
     "start_time": "2025-07-28T10:52:52.838943",
     "status": "completed"
    },
    "tags": []
   },
   "outputs": [],
   "source": [
    "import json\n",
    "# Parse universe into dict if it is passed as a string\n",
    "if isinstance(universe, str):\n",
    "    universe = json.loads(universe)"
   ]
  },
  {
   "cell_type": "code",
   "execution_count": 6,
   "id": "16620c48",
   "metadata": {
    "execution": {
     "iopub.execute_input": "2025-07-28T10:52:52.910911Z",
     "iopub.status.busy": "2025-07-28T10:52:52.910404Z",
     "iopub.status.idle": "2025-07-28T10:52:52.957516Z",
     "shell.execute_reply": "2025-07-28T10:52:52.956571Z"
    },
    "papermill": {
     "duration": 0.069506,
     "end_time": "2025-07-28T10:52:52.959343",
     "exception": false,
     "start_time": "2025-07-28T10:52:52.889837",
     "status": "completed"
    },
    "tags": []
   },
   "outputs": [],
   "source": [
    "# Auto-reload the custom package\n",
    "%load_ext autoreload\n",
    "%autoreload 1\n",
    "%aimport fairness_multiverse"
   ]
  },
  {
   "cell_type": "code",
   "execution_count": 7,
   "id": "01c5c9f3",
   "metadata": {
    "execution": {
     "iopub.execute_input": "2025-07-28T10:52:53.001175Z",
     "iopub.status.busy": "2025-07-28T10:52:53.000731Z",
     "iopub.status.idle": "2025-07-28T10:52:55.015478Z",
     "shell.execute_reply": "2025-07-28T10:52:55.014387Z"
    },
    "papermill": {
     "duration": 2.038183,
     "end_time": "2025-07-28T10:52:55.017461",
     "exception": false,
     "start_time": "2025-07-28T10:52:52.979278",
     "status": "completed"
    },
    "tags": []
   },
   "outputs": [],
   "source": [
    "from fairness_multiverse.universe import UniverseAnalysis\n",
    "\n",
    "universe_analysis = UniverseAnalysis(\n",
    "    run_no = run_no,\n",
    "    universe_id = universe_id,\n",
    "    universe = universe,\n",
    "    output_dir=output_dir,\n",
    ")"
   ]
  },
  {
   "cell_type": "code",
   "execution_count": 8,
   "id": "106241f5",
   "metadata": {
    "execution": {
     "iopub.execute_input": "2025-07-28T10:52:55.059248Z",
     "iopub.status.busy": "2025-07-28T10:52:55.058710Z",
     "iopub.status.idle": "2025-07-28T10:52:55.065995Z",
     "shell.execute_reply": "2025-07-28T10:52:55.064917Z"
    },
    "papermill": {
     "duration": 0.030018,
     "end_time": "2025-07-28T10:52:55.068092",
     "exception": false,
     "start_time": "2025-07-28T10:52:55.038074",
     "status": "completed"
    },
    "tags": []
   },
   "outputs": [
    {
     "name": "stdout",
     "output_type": "stream",
     "text": [
      "Using Seed: 2023\n"
     ]
    }
   ],
   "source": [
    "import numpy as np\n",
    "parsed_seed = int(seed)\n",
    "np.random.seed(parsed_seed)\n",
    "print(f\"Using Seed: {parsed_seed}\")"
   ]
  },
  {
   "cell_type": "markdown",
   "id": "e0ebdc57",
   "metadata": {
    "papermill": {
     "duration": 0.021376,
     "end_time": "2025-07-28T10:52:55.111680",
     "exception": false,
     "start_time": "2025-07-28T10:52:55.090304",
     "status": "completed"
    },
    "tags": []
   },
   "source": [
    "# Loading Data"
   ]
  },
  {
   "cell_type": "markdown",
   "id": "681925a3",
   "metadata": {
    "papermill": {
     "duration": 0.021056,
     "end_time": "2025-07-28T10:52:55.153938",
     "exception": false,
     "start_time": "2025-07-28T10:52:55.132882",
     "status": "completed"
    },
    "tags": []
   },
   "source": [
    "Load siab_train, siab_test, siab_calib and/or \n",
    "load siab_train_features, siab_train_labels"
   ]
  },
  {
   "cell_type": "code",
   "execution_count": 9,
   "id": "f0496b8a",
   "metadata": {
    "execution": {
     "iopub.execute_input": "2025-07-28T10:52:55.198266Z",
     "iopub.status.busy": "2025-07-28T10:52:55.197308Z",
     "iopub.status.idle": "2025-07-28T10:53:06.801590Z",
     "shell.execute_reply": "2025-07-28T10:53:06.800163Z"
    },
    "papermill": {
     "duration": 11.628749,
     "end_time": "2025-07-28T10:53:06.803831",
     "exception": false,
     "start_time": "2025-07-28T10:52:55.175082",
     "status": "completed"
    },
    "tags": []
   },
   "outputs": [
    {
     "name": "stdout",
     "output_type": "stream",
     "text": [
      "Loading SIAB data from cache: data/siab_cached.csv.gz\n"
     ]
    },
    {
     "name": "stdout",
     "output_type": "stream",
     "text": [
      "(643690, 164)\n"
     ]
    }
   ],
   "source": [
    "from pathlib import Path\n",
    "import pandas as pd\n",
    "\n",
    "# File paths\n",
    "raw_file = Path(\"data/raw/siab.csv\")\n",
    "cache_file = Path(\"data/siab_cached.csv.gz\")\n",
    "\n",
    "# Ensure cache directory exists\n",
    "cache_file.parent.mkdir(parents=True, exist_ok=True)\n",
    "\n",
    "# Load with simple caching\n",
    "if cache_file.exists():\n",
    "    print(f\"Loading SIAB data from cache: {cache_file}\")\n",
    "    siab = pd.read_csv(cache_file, compression='gzip')\n",
    "else:\n",
    "    print(f\"Cache not found. Reading raw SIAB data: {raw_file}\")\n",
    "    siab = pd.read_csv(raw_file)\n",
    "    siab.to_csv(cache_file, index=False, compression='gzip')\n",
    "    print(f\"Cached SIAB data to: {cache_file}\")\n",
    "\n",
    "# Now use `siab` DataFrame as needed\n",
    "print(siab.shape)"
   ]
  },
  {
   "cell_type": "code",
   "execution_count": 10,
   "id": "db0ca512-5f53-4dba-abdb-a2888bca41ba",
   "metadata": {
    "execution": {
     "iopub.execute_input": "2025-07-28T10:53:06.864251Z",
     "iopub.status.busy": "2025-07-28T10:53:06.863472Z",
     "iopub.status.idle": "2025-07-28T10:53:06.871420Z",
     "shell.execute_reply": "2025-07-28T10:53:06.870305Z"
    },
    "papermill": {
     "duration": 0.043543,
     "end_time": "2025-07-28T10:53:06.877116",
     "exception": false,
     "start_time": "2025-07-28T10:53:06.833573",
     "status": "completed"
    },
    "tags": []
   },
   "outputs": [],
   "source": [
    "#siab"
   ]
  },
  {
   "cell_type": "code",
   "execution_count": 11,
   "id": "a0edb063",
   "metadata": {
    "execution": {
     "iopub.execute_input": "2025-07-28T10:53:06.918365Z",
     "iopub.status.busy": "2025-07-28T10:53:06.917426Z",
     "iopub.status.idle": "2025-07-28T10:53:06.924071Z",
     "shell.execute_reply": "2025-07-28T10:53:06.923030Z"
    },
    "papermill": {
     "duration": 0.028857,
     "end_time": "2025-07-28T10:53:06.925784",
     "exception": false,
     "start_time": "2025-07-28T10:53:06.896927",
     "status": "completed"
    },
    "tags": []
   },
   "outputs": [],
   "source": [
    "#import pandas as pd\n",
    "#\n",
    "#X_train = pd.read_csv(\"./data/X_train.csv\")\n",
    "#y_train = pd.read_csv(\"./data/y_train.csv\")"
   ]
  },
  {
   "cell_type": "code",
   "execution_count": 12,
   "id": "63d08085",
   "metadata": {
    "execution": {
     "iopub.execute_input": "2025-07-28T10:53:06.966690Z",
     "iopub.status.busy": "2025-07-28T10:53:06.966266Z",
     "iopub.status.idle": "2025-07-28T10:53:06.971467Z",
     "shell.execute_reply": "2025-07-28T10:53:06.970275Z"
    },
    "papermill": {
     "duration": 0.027973,
     "end_time": "2025-07-28T10:53:06.973234",
     "exception": false,
     "start_time": "2025-07-28T10:53:06.945261",
     "status": "completed"
    },
    "tags": []
   },
   "outputs": [],
   "source": [
    "#X_test = pd.read_csv(\"./data/X_test.csv\")\n",
    "#y_true = pd.read_csv(\"./data/y_test.csv\")"
   ]
  },
  {
   "cell_type": "code",
   "execution_count": 13,
   "id": "98a8d0fa-1d3d-4ed8-bb2c-281470e24add",
   "metadata": {
    "execution": {
     "iopub.execute_input": "2025-07-28T10:53:07.013905Z",
     "iopub.status.busy": "2025-07-28T10:53:07.013401Z",
     "iopub.status.idle": "2025-07-28T10:53:07.019242Z",
     "shell.execute_reply": "2025-07-28T10:53:07.018244Z"
    },
    "papermill": {
     "duration": 0.028037,
     "end_time": "2025-07-28T10:53:07.021167",
     "exception": false,
     "start_time": "2025-07-28T10:53:06.993130",
     "status": "completed"
    },
    "tags": []
   },
   "outputs": [],
   "source": [
    "# Calibration data for conformal\n",
    "#X_calib = pd.read_csv(\"./data/X_calib.csv\")\n",
    "#y_calib = pd.read_csv(\"./data/y_calib.csv\")"
   ]
  },
  {
   "cell_type": "markdown",
   "id": "9901737e-04df-44f0-9100-f5ad144ed040",
   "metadata": {
    "papermill": {
     "duration": 0.020037,
     "end_time": "2025-07-28T10:53:07.062108",
     "exception": false,
     "start_time": "2025-07-28T10:53:07.042071",
     "status": "completed"
    },
    "tags": []
   },
   "source": [
    "# Splitting Data and Setting Training Data Size"
   ]
  },
  {
   "cell_type": "code",
   "execution_count": 14,
   "id": "acbc8f7d-8fc8-4e86-8c59-5dcb0f58384b",
   "metadata": {
    "execution": {
     "iopub.execute_input": "2025-07-28T10:53:07.102009Z",
     "iopub.status.busy": "2025-07-28T10:53:07.101466Z",
     "iopub.status.idle": "2025-07-28T10:53:07.110167Z",
     "shell.execute_reply": "2025-07-28T10:53:07.109085Z"
    },
    "papermill": {
     "duration": 0.030612,
     "end_time": "2025-07-28T10:53:07.111882",
     "exception": false,
     "start_time": "2025-07-28T10:53:07.081270",
     "status": "completed"
    },
    "tags": []
   },
   "outputs": [],
   "source": [
    "def sample_by_year(df, training_size, random_state=42):\n",
    "    if training_size == \"2014\":\n",
    "        return df[df[\"year\"] == 2014].reset_index(drop=True)\n",
    "    \n",
    "    size_map = {\n",
    "        \"25k\": 5000,\n",
    "        \"5k\": 1000,\n",
    "        \"1k\": 200\n",
    "    }\n",
    "\n",
    "    if training_size not in size_map:\n",
    "        return df.reset_index(drop=True)  # use all data\n",
    "\n",
    "    n_per_year = size_map[training_size]\n",
    "    grouped = df.groupby(\"year\")\n",
    "    sampled = grouped.apply(lambda x: x.sample(n=min(n_per_year, len(x)), random_state=random_state))\n",
    "    return sampled.reset_index(drop=True)"
   ]
  },
  {
   "cell_type": "code",
   "execution_count": 15,
   "id": "6d931f52-beaf-43ff-9e78-9d44a448d54e",
   "metadata": {
    "execution": {
     "iopub.execute_input": "2025-07-28T10:53:07.153013Z",
     "iopub.status.busy": "2025-07-28T10:53:07.152521Z",
     "iopub.status.idle": "2025-07-28T10:53:07.804103Z",
     "shell.execute_reply": "2025-07-28T10:53:07.803116Z"
    },
    "papermill": {
     "duration": 0.674533,
     "end_time": "2025-07-28T10:53:07.806095",
     "exception": false,
     "start_time": "2025-07-28T10:53:07.131562",
     "status": "completed"
    },
    "tags": []
   },
   "outputs": [],
   "source": [
    "siab_s = sample_by_year(siab, universe[\"training_size\"])"
   ]
  },
  {
   "cell_type": "code",
   "execution_count": 16,
   "id": "5db0a40e-a4e2-4920-be85-b12ae061d70d",
   "metadata": {
    "execution": {
     "iopub.execute_input": "2025-07-28T10:53:07.846890Z",
     "iopub.status.busy": "2025-07-28T10:53:07.846386Z",
     "iopub.status.idle": "2025-07-28T10:53:07.861130Z",
     "shell.execute_reply": "2025-07-28T10:53:07.860022Z"
    },
    "papermill": {
     "duration": 0.036336,
     "end_time": "2025-07-28T10:53:07.862832",
     "exception": false,
     "start_time": "2025-07-28T10:53:07.826496",
     "status": "completed"
    },
    "tags": []
   },
   "outputs": [
    {
     "data": {
      "text/plain": [
       "year\n",
       "2010    200\n",
       "2011    200\n",
       "2012    200\n",
       "2013    200\n",
       "2014    200\n",
       "2015    200\n",
       "2016    200\n",
       "dtype: int64"
      ]
     },
     "metadata": {},
     "output_type": "display_data"
    }
   ],
   "source": [
    "display(siab_s.groupby(\"year\").size())"
   ]
  },
  {
   "cell_type": "code",
   "execution_count": 17,
   "id": "a561edb4-d032-42cb-8256-22eac1111c64",
   "metadata": {
    "execution": {
     "iopub.execute_input": "2025-07-28T10:53:07.906369Z",
     "iopub.status.busy": "2025-07-28T10:53:07.905699Z",
     "iopub.status.idle": "2025-07-28T10:53:08.168946Z",
     "shell.execute_reply": "2025-07-28T10:53:08.167894Z"
    },
    "papermill": {
     "duration": 0.286018,
     "end_time": "2025-07-28T10:53:08.170982",
     "exception": false,
     "start_time": "2025-07-28T10:53:07.884964",
     "status": "completed"
    },
    "tags": []
   },
   "outputs": [],
   "source": [
    "siab_train = siab_s[siab_s.year < 2015]\n",
    "siab_calib = siab[siab.year == 2015]\n",
    "siab_test = siab[siab.year == 2016]"
   ]
  },
  {
   "cell_type": "code",
   "execution_count": 18,
   "id": "472de16f-c3db-4916-846b-1f0de9cf1746",
   "metadata": {
    "execution": {
     "iopub.execute_input": "2025-07-28T10:53:08.215980Z",
     "iopub.status.busy": "2025-07-28T10:53:08.215499Z",
     "iopub.status.idle": "2025-07-28T10:53:08.223841Z",
     "shell.execute_reply": "2025-07-28T10:53:08.222816Z"
    },
    "papermill": {
     "duration": 0.032642,
     "end_time": "2025-07-28T10:53:08.225876",
     "exception": false,
     "start_time": "2025-07-28T10:53:08.193234",
     "status": "completed"
    },
    "tags": []
   },
   "outputs": [],
   "source": [
    "X_train = siab_train.iloc[:,4:164]\n",
    "y_train = siab_train.iloc[:, [3]]"
   ]
  },
  {
   "cell_type": "code",
   "execution_count": 19,
   "id": "828c96af-f43a-4ed6-ba47-8ac73a47d56c",
   "metadata": {
    "execution": {
     "iopub.execute_input": "2025-07-28T10:53:08.271661Z",
     "iopub.status.busy": "2025-07-28T10:53:08.270809Z",
     "iopub.status.idle": "2025-07-28T10:53:08.306316Z",
     "shell.execute_reply": "2025-07-28T10:53:08.305229Z"
    },
    "papermill": {
     "duration": 0.05986,
     "end_time": "2025-07-28T10:53:08.308102",
     "exception": false,
     "start_time": "2025-07-28T10:53:08.248242",
     "status": "completed"
    },
    "tags": []
   },
   "outputs": [],
   "source": [
    "X_calib = siab_calib.iloc[:,4:164]\n",
    "y_calib = siab_calib.iloc[:, [3]]"
   ]
  },
  {
   "cell_type": "code",
   "execution_count": 20,
   "id": "c34be9c3-6bd6-476e-acd3-845840e303be",
   "metadata": {
    "execution": {
     "iopub.execute_input": "2025-07-28T10:53:08.348306Z",
     "iopub.status.busy": "2025-07-28T10:53:08.347641Z",
     "iopub.status.idle": "2025-07-28T10:53:08.400382Z",
     "shell.execute_reply": "2025-07-28T10:53:08.399521Z"
    },
    "papermill": {
     "duration": 0.073642,
     "end_time": "2025-07-28T10:53:08.401869",
     "exception": false,
     "start_time": "2025-07-28T10:53:08.328227",
     "status": "completed"
    },
    "tags": []
   },
   "outputs": [],
   "source": [
    "X_test = siab_test.iloc[:,4:164]\n",
    "y_true = siab_test.iloc[:, [3]]"
   ]
  },
  {
   "cell_type": "code",
   "execution_count": 21,
   "id": "e6c733c5",
   "metadata": {
    "execution": {
     "iopub.execute_input": "2025-07-28T10:53:08.425598Z",
     "iopub.status.busy": "2025-07-28T10:53:08.424920Z",
     "iopub.status.idle": "2025-07-28T10:53:08.544087Z",
     "shell.execute_reply": "2025-07-28T10:53:08.543295Z"
    },
    "papermill": {
     "duration": 0.132208,
     "end_time": "2025-07-28T10:53:08.545599",
     "exception": false,
     "start_time": "2025-07-28T10:53:08.413391",
     "status": "completed"
    },
    "tags": []
   },
   "outputs": [],
   "source": [
    "# Auxiliary data needed downstream in the pipeline\n",
    "\n",
    "org_train = X_train.copy()\n",
    "org_test = X_test.copy()\n",
    "org_calib = X_calib.copy()"
   ]
  },
  {
   "cell_type": "markdown",
   "id": "0a4a1b33",
   "metadata": {
    "papermill": {
     "duration": 0.015472,
     "end_time": "2025-07-28T10:53:08.572304",
     "exception": false,
     "start_time": "2025-07-28T10:53:08.556832",
     "status": "completed"
    },
    "tags": []
   },
   "source": [
    "# Preprocessing Data"
   ]
  },
  {
   "cell_type": "code",
   "execution_count": 22,
   "id": "ca879031",
   "metadata": {
    "execution": {
     "iopub.execute_input": "2025-07-28T10:53:08.595302Z",
     "iopub.status.busy": "2025-07-28T10:53:08.594813Z",
     "iopub.status.idle": "2025-07-28T10:53:08.601177Z",
     "shell.execute_reply": "2025-07-28T10:53:08.600195Z"
    },
    "papermill": {
     "duration": 0.019783,
     "end_time": "2025-07-28T10:53:08.602947",
     "exception": false,
     "start_time": "2025-07-28T10:53:08.583164",
     "status": "completed"
    },
    "tags": []
   },
   "outputs": [],
   "source": [
    "# EXCLUDE PROTECTED FEATURES\n",
    "# ----------------------\n",
    "# \"exclude_features\": \"none\", # \"nationality\", \"sex\", \"nationality-sex\"\n",
    "\n",
    "excluded_features = universe[\"exclude_features\"].split(\"-\") # split, e.g.: \"nationality-sex\" -> [\"nationality\", \"sex\"]\n",
    "excluded_features_dictionary = {\n",
    "    \"nationality\": [\"maxdeutsch1\", \"maxdeutsch.Missing.\"],\n",
    "    \"sex\": [\"frau1\"],\n",
    "    \"age\": [\"age\"],\n",
    "}\n"
   ]
  },
  {
   "cell_type": "code",
   "execution_count": 23,
   "id": "b745ac60",
   "metadata": {
    "execution": {
     "iopub.execute_input": "2025-07-28T10:53:08.697434Z",
     "iopub.status.busy": "2025-07-28T10:53:08.697044Z",
     "iopub.status.idle": "2025-07-28T10:53:08.701951Z",
     "shell.execute_reply": "2025-07-28T10:53:08.700937Z"
    },
    "papermill": {
     "duration": 0.018853,
     "end_time": "2025-07-28T10:53:08.703614",
     "exception": false,
     "start_time": "2025-07-28T10:53:08.684761",
     "status": "completed"
    },
    "tags": []
   },
   "outputs": [],
   "source": [
    "# Code nice names to column names\n",
    "\n",
    "excluded_features_columns = [\n",
    "    excluded_features_dictionary[f] for f in excluded_features if len(f) > 0 and f != \"none\"\n",
    "]"
   ]
  },
  {
   "cell_type": "code",
   "execution_count": 24,
   "id": "f84f73a2",
   "metadata": {
    "execution": {
     "iopub.execute_input": "2025-07-28T10:53:08.745146Z",
     "iopub.status.busy": "2025-07-28T10:53:08.744687Z",
     "iopub.status.idle": "2025-07-28T10:53:08.751357Z",
     "shell.execute_reply": "2025-07-28T10:53:08.750360Z"
    },
    "papermill": {
     "duration": 0.029914,
     "end_time": "2025-07-28T10:53:08.753704",
     "exception": false,
     "start_time": "2025-07-28T10:53:08.723790",
     "status": "completed"
    },
    "tags": []
   },
   "outputs": [],
   "source": [
    "from utils import flatten_once\n",
    "\n",
    "excluded_features_columns = flatten_once(excluded_features_columns)"
   ]
  },
  {
   "cell_type": "code",
   "execution_count": 25,
   "id": "884dea22",
   "metadata": {
    "execution": {
     "iopub.execute_input": "2025-07-28T10:53:08.799753Z",
     "iopub.status.busy": "2025-07-28T10:53:08.799265Z",
     "iopub.status.idle": "2025-07-28T10:53:08.807516Z",
     "shell.execute_reply": "2025-07-28T10:53:08.806389Z"
    },
    "papermill": {
     "duration": 0.032972,
     "end_time": "2025-07-28T10:53:08.809337",
     "exception": false,
     "start_time": "2025-07-28T10:53:08.776365",
     "status": "completed"
    },
    "tags": []
   },
   "outputs": [
    {
     "name": "stdout",
     "output_type": "stream",
     "text": [
      "Dropping features: ['age']\n"
     ]
    }
   ],
   "source": [
    "if len(excluded_features_columns) > 0:\n",
    "    print(f\"Dropping features: {excluded_features_columns}\")\n",
    "    X_train.drop(excluded_features_columns, axis=1, inplace=True)"
   ]
  },
  {
   "cell_type": "code",
   "execution_count": 26,
   "id": "95ab8b16",
   "metadata": {
    "execution": {
     "iopub.execute_input": "2025-07-28T10:53:08.833923Z",
     "iopub.status.busy": "2025-07-28T10:53:08.833526Z",
     "iopub.status.idle": "2025-07-28T10:53:08.885798Z",
     "shell.execute_reply": "2025-07-28T10:53:08.885053Z"
    },
    "papermill": {
     "duration": 0.066343,
     "end_time": "2025-07-28T10:53:08.887527",
     "exception": false,
     "start_time": "2025-07-28T10:53:08.821184",
     "status": "completed"
    },
    "tags": []
   },
   "outputs": [
    {
     "name": "stdout",
     "output_type": "stream",
     "text": [
      "Dropping features: ['age']\n"
     ]
    }
   ],
   "source": [
    "if len(excluded_features_columns) > 0:\n",
    "    print(f\"Dropping features: {excluded_features_columns}\")\n",
    "    X_test.drop(excluded_features_columns, axis=1, inplace=True)"
   ]
  },
  {
   "cell_type": "code",
   "execution_count": 27,
   "id": "1853aaf5-fb9f-46cb-a2b5-8ea4ae2237e4",
   "metadata": {
    "execution": {
     "iopub.execute_input": "2025-07-28T10:53:08.934646Z",
     "iopub.status.busy": "2025-07-28T10:53:08.933914Z",
     "iopub.status.idle": "2025-07-28T10:53:08.986621Z",
     "shell.execute_reply": "2025-07-28T10:53:08.985489Z"
    },
    "papermill": {
     "duration": 0.078378,
     "end_time": "2025-07-28T10:53:08.989567",
     "exception": false,
     "start_time": "2025-07-28T10:53:08.911189",
     "status": "completed"
    },
    "tags": []
   },
   "outputs": [
    {
     "name": "stdout",
     "output_type": "stream",
     "text": [
      "Dropping features: ['age']\n"
     ]
    }
   ],
   "source": [
    "if len(excluded_features_columns) > 0:\n",
    "    print(f\"Dropping features: {excluded_features_columns}\")\n",
    "    X_calib.drop(excluded_features_columns, axis=1, inplace=True)"
   ]
  },
  {
   "cell_type": "code",
   "execution_count": 28,
   "id": "6727d079-03e5-481e-9d38-292a90b7a0a8",
   "metadata": {
    "execution": {
     "iopub.execute_input": "2025-07-28T10:53:09.035762Z",
     "iopub.status.busy": "2025-07-28T10:53:09.035083Z",
     "iopub.status.idle": "2025-07-28T10:53:09.040353Z",
     "shell.execute_reply": "2025-07-28T10:53:09.039391Z"
    },
    "papermill": {
     "duration": 0.029899,
     "end_time": "2025-07-28T10:53:09.041935",
     "exception": false,
     "start_time": "2025-07-28T10:53:09.012036",
     "status": "completed"
    },
    "tags": []
   },
   "outputs": [],
   "source": [
    "# SPLIT & STRATIFY DATA\n",
    "# ----------------------"
   ]
  },
  {
   "cell_type": "code",
   "execution_count": 29,
   "id": "76c4dc6d",
   "metadata": {
    "execution": {
     "iopub.execute_input": "2025-07-28T10:53:09.087695Z",
     "iopub.status.busy": "2025-07-28T10:53:09.087212Z",
     "iopub.status.idle": "2025-07-28T10:53:09.093341Z",
     "shell.execute_reply": "2025-07-28T10:53:09.092273Z"
    },
    "papermill": {
     "duration": 0.030674,
     "end_time": "2025-07-28T10:53:09.094880",
     "exception": false,
     "start_time": "2025-07-28T10:53:09.064206",
     "status": "completed"
    },
    "tags": []
   },
   "outputs": [],
   "source": [
    "# EXCLUDE CERTAIN SUBGROUPS\n",
    "# ----------------------\n",
    "\n",
    "mode = universe.get(\"exclude_subgroups\", \"keep-all\") \n",
    "# Fetches the exclude_subgroups setting from the universe dict.\n",
    "# Defaults to \"keep-all\" if the key is missing."
   ]
  },
  {
   "cell_type": "code",
   "execution_count": 30,
   "id": "21994072",
   "metadata": {
    "execution": {
     "iopub.execute_input": "2025-07-28T10:53:09.140546Z",
     "iopub.status.busy": "2025-07-28T10:53:09.139978Z",
     "iopub.status.idle": "2025-07-28T10:53:09.147666Z",
     "shell.execute_reply": "2025-07-28T10:53:09.146526Z"
    },
    "papermill": {
     "duration": 0.032989,
     "end_time": "2025-07-28T10:53:09.149474",
     "exception": false,
     "start_time": "2025-07-28T10:53:09.116485",
     "status": "completed"
    },
    "tags": []
   },
   "outputs": [],
   "source": [
    "if mode == \"keep-all\":\n",
    "    keep_mask = pd.Series(True, index=org_train.index)\n",
    "\n",
    "# org_train contains the original feature columns from features_org (in Simson)\n",
    "# features_org contains unprocessed features, for me X_train at beginning ???\n",
    "# For keep-all, creates a boolean Series (keep_mask) of all True, so no rows are removed.\n",
    "\n",
    "elif mode == \"drop-non-german\":\n",
    "    keep_mask = org_train[\"maxdeutsch1\"] == 1 # ??? what about missing values?\n",
    "\n",
    "else:\n",
    "    raise ValueError(f\"Unsupported mode for exclude_subgroups: {mode}\")\n"
   ]
  },
  {
   "cell_type": "code",
   "execution_count": 31,
   "id": "71651440",
   "metadata": {
    "execution": {
     "iopub.execute_input": "2025-07-28T10:53:09.197719Z",
     "iopub.status.busy": "2025-07-28T10:53:09.196714Z",
     "iopub.status.idle": "2025-07-28T10:53:09.205661Z",
     "shell.execute_reply": "2025-07-28T10:53:09.204488Z"
    },
    "papermill": {
     "duration": 0.034751,
     "end_time": "2025-07-28T10:53:09.207665",
     "exception": false,
     "start_time": "2025-07-28T10:53:09.172914",
     "status": "completed"
    },
    "tags": []
   },
   "outputs": [
    {
     "name": "stdout",
     "output_type": "stream",
     "text": [
      "Dropping 131 rows (13.10%) where mode='drop-non-german'\n"
     ]
    }
   ],
   "source": [
    "n_drop = (~keep_mask).sum() # Calculates how many rows are set to be dropped\n",
    "if n_drop > 0:\n",
    "    pct = n_drop / len(keep_mask) * 100\n",
    "    print(f\"Dropping {n_drop} rows ({pct:.2f}%) where mode='{mode}'\")"
   ]
  },
  {
   "cell_type": "code",
   "execution_count": 32,
   "id": "5fb8eee5",
   "metadata": {
    "execution": {
     "iopub.execute_input": "2025-07-28T10:53:09.257088Z",
     "iopub.status.busy": "2025-07-28T10:53:09.256570Z",
     "iopub.status.idle": "2025-07-28T10:53:09.263841Z",
     "shell.execute_reply": "2025-07-28T10:53:09.262703Z"
    },
    "papermill": {
     "duration": 0.03348,
     "end_time": "2025-07-28T10:53:09.265241",
     "exception": false,
     "start_time": "2025-07-28T10:53:09.231761",
     "status": "completed"
    },
    "tags": []
   },
   "outputs": [],
   "source": [
    "X_train = X_train[keep_mask]"
   ]
  },
  {
   "cell_type": "code",
   "execution_count": 33,
   "id": "b202bb3a",
   "metadata": {
    "execution": {
     "iopub.execute_input": "2025-07-28T10:53:09.314679Z",
     "iopub.status.busy": "2025-07-28T10:53:09.313970Z",
     "iopub.status.idle": "2025-07-28T10:53:09.320086Z",
     "shell.execute_reply": "2025-07-28T10:53:09.319274Z"
    },
    "papermill": {
     "duration": 0.033278,
     "end_time": "2025-07-28T10:53:09.322515",
     "exception": false,
     "start_time": "2025-07-28T10:53:09.289237",
     "status": "completed"
    },
    "tags": []
   },
   "outputs": [],
   "source": [
    "y_train = y_train[keep_mask]"
   ]
  },
  {
   "cell_type": "markdown",
   "id": "493e2ac3",
   "metadata": {
    "papermill": {
     "duration": 0.012276,
     "end_time": "2025-07-28T10:53:09.348398",
     "exception": false,
     "start_time": "2025-07-28T10:53:09.336122",
     "status": "completed"
    },
    "tags": []
   },
   "source": [
    "# Model Training"
   ]
  },
  {
   "cell_type": "code",
   "execution_count": 34,
   "id": "679e1268",
   "metadata": {
    "execution": {
     "iopub.execute_input": "2025-07-28T10:53:09.373582Z",
     "iopub.status.busy": "2025-07-28T10:53:09.373208Z",
     "iopub.status.idle": "2025-07-28T10:53:09.483228Z",
     "shell.execute_reply": "2025-07-28T10:53:09.482258Z"
    },
    "papermill": {
     "duration": 0.124955,
     "end_time": "2025-07-28T10:53:09.485177",
     "exception": false,
     "start_time": "2025-07-28T10:53:09.360222",
     "status": "completed"
    },
    "tags": []
   },
   "outputs": [],
   "source": [
    "from sklearn.linear_model import LogisticRegression\n",
    "from sklearn.ensemble import GradientBoostingClassifier, RandomForestClassifier\n",
    "\n",
    "if (universe[\"model\"] == \"logreg\"):\n",
    "    model = LogisticRegression() #penalty=\"none\") #, solver=\"newton-cg\", max_iter=1) # include random_state=19 ?\n",
    "elif (universe[\"model\"] == \"penalized_logreg\"):\n",
    "    model = LogisticRegression(penalty=\"l2\", C=1.0) #, solver=\"newton-cg\", max_iter=1)\n",
    "elif (universe[\"model\"] == \"rf\"):\n",
    "    model = RandomForestClassifier(n_estimators=100, n_jobs=-1)\n",
    "elif (universe[\"model\"] == \"gbm\"):\n",
    "    model = GradientBoostingClassifier()\n",
    "elif (universe[\"model\"] == \"elasticnet\"):\n",
    "    model = LogisticRegression(penalty = 'elasticnet', solver = 'saga', l1_ratio = 0.5, max_iter=5000) # which solver to use?\n",
    "else:\n",
    "    raise \"Unsupported universe.model\""
   ]
  },
  {
   "cell_type": "code",
   "execution_count": 35,
   "id": "0cc8f744",
   "metadata": {
    "execution": {
     "iopub.execute_input": "2025-07-28T10:53:09.533289Z",
     "iopub.status.busy": "2025-07-28T10:53:09.532510Z",
     "iopub.status.idle": "2025-07-28T10:53:09.539238Z",
     "shell.execute_reply": "2025-07-28T10:53:09.538173Z"
    },
    "papermill": {
     "duration": 0.032285,
     "end_time": "2025-07-28T10:53:09.541090",
     "exception": false,
     "start_time": "2025-07-28T10:53:09.508805",
     "status": "completed"
    },
    "tags": []
   },
   "outputs": [],
   "source": [
    "import numpy as np\n",
    "from sklearn.pipeline import Pipeline\n",
    "from sklearn.preprocessing import StandardScaler\n",
    "\n",
    "model = Pipeline([\n",
    "    #(\"continuous_processor\", continuous_processor),\n",
    "    #(\"categorical_preprocessor\", categorical_preprocessor),\n",
    "    (\"scale\", StandardScaler() if universe[\"scale\"] == \"scale\" else None), \n",
    "    (\"model\", model),\n",
    "])"
   ]
  },
  {
   "cell_type": "code",
   "execution_count": 36,
   "id": "9442c04d",
   "metadata": {
    "execution": {
     "iopub.execute_input": "2025-07-28T10:53:09.590862Z",
     "iopub.status.busy": "2025-07-28T10:53:09.589859Z",
     "iopub.status.idle": "2025-07-28T10:53:25.486263Z",
     "shell.execute_reply": "2025-07-28T10:53:25.485237Z"
    },
    "papermill": {
     "duration": 15.922815,
     "end_time": "2025-07-28T10:53:25.487903",
     "exception": false,
     "start_time": "2025-07-28T10:53:09.565088",
     "status": "completed"
    },
    "tags": []
   },
   "outputs": [
    {
     "name": "stderr",
     "output_type": "stream",
     "text": [
      "/dss/dsshome1/0C/ra93lal2/.local/share/virtualenvs/CMA_Fairness_v2-3j10GkSs/lib/python3.10/site-packages/sklearn/linear_model/_sag.py:350: ConvergenceWarning: The max_iter was reached which means the coef_ did not converge\n",
      "  warnings.warn(\n"
     ]
    },
    {
     "data": {
      "text/html": [
       "<style>#sk-container-id-1 {color: black;background-color: white;}#sk-container-id-1 pre{padding: 0;}#sk-container-id-1 div.sk-toggleable {background-color: white;}#sk-container-id-1 label.sk-toggleable__label {cursor: pointer;display: block;width: 100%;margin-bottom: 0;padding: 0.3em;box-sizing: border-box;text-align: center;}#sk-container-id-1 label.sk-toggleable__label-arrow:before {content: \"▸\";float: left;margin-right: 0.25em;color: #696969;}#sk-container-id-1 label.sk-toggleable__label-arrow:hover:before {color: black;}#sk-container-id-1 div.sk-estimator:hover label.sk-toggleable__label-arrow:before {color: black;}#sk-container-id-1 div.sk-toggleable__content {max-height: 0;max-width: 0;overflow: hidden;text-align: left;background-color: #f0f8ff;}#sk-container-id-1 div.sk-toggleable__content pre {margin: 0.2em;color: black;border-radius: 0.25em;background-color: #f0f8ff;}#sk-container-id-1 input.sk-toggleable__control:checked~div.sk-toggleable__content {max-height: 200px;max-width: 100%;overflow: auto;}#sk-container-id-1 input.sk-toggleable__control:checked~label.sk-toggleable__label-arrow:before {content: \"▾\";}#sk-container-id-1 div.sk-estimator input.sk-toggleable__control:checked~label.sk-toggleable__label {background-color: #d4ebff;}#sk-container-id-1 div.sk-label input.sk-toggleable__control:checked~label.sk-toggleable__label {background-color: #d4ebff;}#sk-container-id-1 input.sk-hidden--visually {border: 0;clip: rect(1px 1px 1px 1px);clip: rect(1px, 1px, 1px, 1px);height: 1px;margin: -1px;overflow: hidden;padding: 0;position: absolute;width: 1px;}#sk-container-id-1 div.sk-estimator {font-family: monospace;background-color: #f0f8ff;border: 1px dotted black;border-radius: 0.25em;box-sizing: border-box;margin-bottom: 0.5em;}#sk-container-id-1 div.sk-estimator:hover {background-color: #d4ebff;}#sk-container-id-1 div.sk-parallel-item::after {content: \"\";width: 100%;border-bottom: 1px solid gray;flex-grow: 1;}#sk-container-id-1 div.sk-label:hover label.sk-toggleable__label {background-color: #d4ebff;}#sk-container-id-1 div.sk-serial::before {content: \"\";position: absolute;border-left: 1px solid gray;box-sizing: border-box;top: 0;bottom: 0;left: 50%;z-index: 0;}#sk-container-id-1 div.sk-serial {display: flex;flex-direction: column;align-items: center;background-color: white;padding-right: 0.2em;padding-left: 0.2em;position: relative;}#sk-container-id-1 div.sk-item {position: relative;z-index: 1;}#sk-container-id-1 div.sk-parallel {display: flex;align-items: stretch;justify-content: center;background-color: white;position: relative;}#sk-container-id-1 div.sk-item::before, #sk-container-id-1 div.sk-parallel-item::before {content: \"\";position: absolute;border-left: 1px solid gray;box-sizing: border-box;top: 0;bottom: 0;left: 50%;z-index: -1;}#sk-container-id-1 div.sk-parallel-item {display: flex;flex-direction: column;z-index: 1;position: relative;background-color: white;}#sk-container-id-1 div.sk-parallel-item:first-child::after {align-self: flex-end;width: 50%;}#sk-container-id-1 div.sk-parallel-item:last-child::after {align-self: flex-start;width: 50%;}#sk-container-id-1 div.sk-parallel-item:only-child::after {width: 0;}#sk-container-id-1 div.sk-dashed-wrapped {border: 1px dashed gray;margin: 0 0.4em 0.5em 0.4em;box-sizing: border-box;padding-bottom: 0.4em;background-color: white;}#sk-container-id-1 div.sk-label label {font-family: monospace;font-weight: bold;display: inline-block;line-height: 1.2em;}#sk-container-id-1 div.sk-label-container {text-align: center;}#sk-container-id-1 div.sk-container {/* jupyter's `normalize.less` sets `[hidden] { display: none; }` but bootstrap.min.css set `[hidden] { display: none !important; }` so we also need the `!important` here to be able to override the default hidden behavior on the sphinx rendered scikit-learn.org. See: https://github.com/scikit-learn/scikit-learn/issues/21755 */display: inline-block !important;position: relative;}#sk-container-id-1 div.sk-text-repr-fallback {display: none;}</style><div id=\"sk-container-id-1\" class=\"sk-top-container\"><div class=\"sk-text-repr-fallback\"><pre>Pipeline(steps=[(&#x27;scale&#x27;, None),\n",
       "                (&#x27;model&#x27;,\n",
       "                 LogisticRegression(l1_ratio=0.5, max_iter=5000,\n",
       "                                    penalty=&#x27;elasticnet&#x27;, solver=&#x27;saga&#x27;))])</pre><b>In a Jupyter environment, please rerun this cell to show the HTML representation or trust the notebook. <br />On GitHub, the HTML representation is unable to render, please try loading this page with nbviewer.org.</b></div><div class=\"sk-container\" hidden><div class=\"sk-item sk-dashed-wrapped\"><div class=\"sk-label-container\"><div class=\"sk-label sk-toggleable\"><input class=\"sk-toggleable__control sk-hidden--visually\" id=\"sk-estimator-id-1\" type=\"checkbox\" ><label for=\"sk-estimator-id-1\" class=\"sk-toggleable__label sk-toggleable__label-arrow\">Pipeline</label><div class=\"sk-toggleable__content\"><pre>Pipeline(steps=[(&#x27;scale&#x27;, None),\n",
       "                (&#x27;model&#x27;,\n",
       "                 LogisticRegression(l1_ratio=0.5, max_iter=5000,\n",
       "                                    penalty=&#x27;elasticnet&#x27;, solver=&#x27;saga&#x27;))])</pre></div></div></div><div class=\"sk-serial\"><div class=\"sk-item\"><div class=\"sk-estimator sk-toggleable\"><input class=\"sk-toggleable__control sk-hidden--visually\" id=\"sk-estimator-id-2\" type=\"checkbox\" ><label for=\"sk-estimator-id-2\" class=\"sk-toggleable__label sk-toggleable__label-arrow\">None</label><div class=\"sk-toggleable__content\"><pre>None</pre></div></div></div><div class=\"sk-item\"><div class=\"sk-estimator sk-toggleable\"><input class=\"sk-toggleable__control sk-hidden--visually\" id=\"sk-estimator-id-3\" type=\"checkbox\" ><label for=\"sk-estimator-id-3\" class=\"sk-toggleable__label sk-toggleable__label-arrow\">LogisticRegression</label><div class=\"sk-toggleable__content\"><pre>LogisticRegression(l1_ratio=0.5, max_iter=5000, penalty=&#x27;elasticnet&#x27;,\n",
       "                   solver=&#x27;saga&#x27;)</pre></div></div></div></div></div></div></div>"
      ],
      "text/plain": [
       "Pipeline(steps=[('scale', None),\n",
       "                ('model',\n",
       "                 LogisticRegression(l1_ratio=0.5, max_iter=5000,\n",
       "                                    penalty='elasticnet', solver='saga'))])"
      ]
     },
     "execution_count": 36,
     "metadata": {},
     "output_type": "execute_result"
    }
   ],
   "source": [
    "model.fit(X_train, y_train.values.ravel())"
   ]
  },
  {
   "cell_type": "code",
   "execution_count": 37,
   "id": "af59f8c0",
   "metadata": {
    "execution": {
     "iopub.execute_input": "2025-07-28T10:53:25.539709Z",
     "iopub.status.busy": "2025-07-28T10:53:25.538976Z",
     "iopub.status.idle": "2025-07-28T10:53:25.544601Z",
     "shell.execute_reply": "2025-07-28T10:53:25.543560Z"
    },
    "papermill": {
     "duration": 0.032072,
     "end_time": "2025-07-28T10:53:25.546357",
     "exception": false,
     "start_time": "2025-07-28T10:53:25.514285",
     "status": "completed"
    },
    "tags": []
   },
   "outputs": [],
   "source": [
    "from fairness_multiverse.universe import predict_w_threshold"
   ]
  },
  {
   "cell_type": "code",
   "execution_count": 38,
   "id": "a7cf2e16",
   "metadata": {
    "execution": {
     "iopub.execute_input": "2025-07-28T10:53:25.599372Z",
     "iopub.status.busy": "2025-07-28T10:53:25.598650Z",
     "iopub.status.idle": "2025-07-28T10:53:25.706466Z",
     "shell.execute_reply": "2025-07-28T10:53:25.705434Z"
    },
    "papermill": {
     "duration": 0.137168,
     "end_time": "2025-07-28T10:53:25.708464",
     "exception": false,
     "start_time": "2025-07-28T10:53:25.571296",
     "status": "completed"
    },
    "tags": []
   },
   "outputs": [
    {
     "data": {
      "text/plain": [
       "0.8629026864340653"
      ]
     },
     "execution_count": 38,
     "metadata": {},
     "output_type": "execute_result"
    }
   ],
   "source": [
    "probs_test = model.predict_proba(X_test)\n",
    "\n",
    "'''\n",
    "Below code returns a boolean array (or binary 0/1 array depending on how it’s used) where each element \n",
    "is True if the probability of class 1 is greater than or equal to the threshold, and False otherwise.\n",
    "'''\n",
    "y_pred_default = predict_w_threshold(probs_test, 0.5)\n",
    "\n",
    "from sklearn.metrics import accuracy_score\n",
    "\n",
    "# Naive prediction\n",
    "accuracy_score(y_true = y_true, y_pred = y_pred_default)"
   ]
  },
  {
   "cell_type": "code",
   "execution_count": 39,
   "id": "081964c3",
   "metadata": {
    "execution": {
     "iopub.execute_input": "2025-07-28T10:53:25.761169Z",
     "iopub.status.busy": "2025-07-28T10:53:25.760502Z",
     "iopub.status.idle": "2025-07-28T10:53:25.849702Z",
     "shell.execute_reply": "2025-07-28T10:53:25.848689Z"
    },
    "papermill": {
     "duration": 0.117574,
     "end_time": "2025-07-28T10:53:25.851479",
     "exception": false,
     "start_time": "2025-07-28T10:53:25.733905",
     "status": "completed"
    },
    "tags": []
   },
   "outputs": [
    {
     "data": {
      "text/plain": [
       "array([0, 0, 0, ..., 0, 0, 0])"
      ]
     },
     "execution_count": 39,
     "metadata": {},
     "output_type": "execute_result"
    }
   ],
   "source": [
    "model.predict(X_test)"
   ]
  },
  {
   "cell_type": "markdown",
   "id": "56c9705b",
   "metadata": {
    "papermill": {
     "duration": 0.025303,
     "end_time": "2025-07-28T10:53:25.900832",
     "exception": false,
     "start_time": "2025-07-28T10:53:25.875529",
     "status": "completed"
    },
    "tags": []
   },
   "source": [
    "# Conformal Prediction"
   ]
  },
  {
   "cell_type": "code",
   "execution_count": 40,
   "id": "160ec6ff",
   "metadata": {
    "execution": {
     "iopub.execute_input": "2025-07-28T10:53:25.952635Z",
     "iopub.status.busy": "2025-07-28T10:53:25.952121Z",
     "iopub.status.idle": "2025-07-28T10:53:25.957641Z",
     "shell.execute_reply": "2025-07-28T10:53:25.956711Z"
    },
    "papermill": {
     "duration": 0.03318,
     "end_time": "2025-07-28T10:53:25.959333",
     "exception": false,
     "start_time": "2025-07-28T10:53:25.926153",
     "status": "completed"
    },
    "tags": []
   },
   "outputs": [],
   "source": [
    "# Miscoverage level for conformal prediction (10% allowed error rate => 90% target coverage)\n",
    "alpha = 0.1"
   ]
  },
  {
   "cell_type": "code",
   "execution_count": 41,
   "id": "eadf4555-3dd3-440e-8e35-f82a4ad9f855",
   "metadata": {
    "execution": {
     "iopub.execute_input": "2025-07-28T10:53:26.012314Z",
     "iopub.status.busy": "2025-07-28T10:53:26.011544Z",
     "iopub.status.idle": "2025-07-28T10:53:26.102304Z",
     "shell.execute_reply": "2025-07-28T10:53:26.101291Z"
    },
    "papermill": {
     "duration": 0.119424,
     "end_time": "2025-07-28T10:53:26.104530",
     "exception": false,
     "start_time": "2025-07-28T10:53:25.985106",
     "status": "completed"
    },
    "tags": []
   },
   "outputs": [],
   "source": [
    "probs_calib = model.predict_proba(X_calib)"
   ]
  },
  {
   "cell_type": "code",
   "execution_count": 42,
   "id": "2ed93547-6d5d-4983-9b36-1ecb300da49a",
   "metadata": {
    "execution": {
     "iopub.execute_input": "2025-07-28T10:53:26.159807Z",
     "iopub.status.busy": "2025-07-28T10:53:26.159115Z",
     "iopub.status.idle": "2025-07-28T10:53:26.165961Z",
     "shell.execute_reply": "2025-07-28T10:53:26.164944Z"
    },
    "papermill": {
     "duration": 0.036511,
     "end_time": "2025-07-28T10:53:26.167785",
     "exception": false,
     "start_time": "2025-07-28T10:53:26.131274",
     "status": "completed"
    },
    "tags": []
   },
   "outputs": [],
   "source": [
    "y_calib = y_calib.values.ravel().astype(int)"
   ]
  },
  {
   "cell_type": "code",
   "execution_count": 43,
   "id": "65d1320d-f588-4b38-9072-62af1ae97f7d",
   "metadata": {
    "execution": {
     "iopub.execute_input": "2025-07-28T10:53:26.223757Z",
     "iopub.status.busy": "2025-07-28T10:53:26.222972Z",
     "iopub.status.idle": "2025-07-28T10:53:26.231746Z",
     "shell.execute_reply": "2025-07-28T10:53:26.230558Z"
    },
    "papermill": {
     "duration": 0.038942,
     "end_time": "2025-07-28T10:53:26.233753",
     "exception": false,
     "start_time": "2025-07-28T10:53:26.194811",
     "status": "completed"
    },
    "tags": []
   },
   "outputs": [],
   "source": [
    "from fairness_multiverse.conformal import compute_nc_scores\n",
    "\n",
    "# Compute nonconformity scores on calibration set (1 - probability of true class)\n",
    "nc_scores = compute_nc_scores(probs_calib, y_calib)"
   ]
  },
  {
   "cell_type": "code",
   "execution_count": 44,
   "id": "df3b8ca3-53b7-43d5-9667-7c85da7aeda2",
   "metadata": {
    "execution": {
     "iopub.execute_input": "2025-07-28T10:53:26.282821Z",
     "iopub.status.busy": "2025-07-28T10:53:26.281961Z",
     "iopub.status.idle": "2025-07-28T10:53:26.289769Z",
     "shell.execute_reply": "2025-07-28T10:53:26.288639Z"
    },
    "papermill": {
     "duration": 0.034188,
     "end_time": "2025-07-28T10:53:26.291740",
     "exception": false,
     "start_time": "2025-07-28T10:53:26.257552",
     "status": "completed"
    },
    "tags": []
   },
   "outputs": [],
   "source": [
    "from fairness_multiverse.conformal import find_threshold\n",
    "\n",
    "# Find conformal threshold q_hat for the given alpha (split conformal method)\n",
    "q_hat = find_threshold(nc_scores, alpha)"
   ]
  },
  {
   "cell_type": "code",
   "execution_count": 45,
   "id": "4d29e6c1-0ef6-4aa4-b8fe-4fe79b0d033a",
   "metadata": {
    "execution": {
     "iopub.execute_input": "2025-07-28T10:53:26.341451Z",
     "iopub.status.busy": "2025-07-28T10:53:26.340764Z",
     "iopub.status.idle": "2025-07-28T10:53:26.348790Z",
     "shell.execute_reply": "2025-07-28T10:53:26.347754Z"
    },
    "papermill": {
     "duration": 0.034376,
     "end_time": "2025-07-28T10:53:26.350661",
     "exception": false,
     "start_time": "2025-07-28T10:53:26.316285",
     "status": "completed"
    },
    "tags": []
   },
   "outputs": [
    {
     "data": {
      "text/plain": [
       "0.6867946271622524"
      ]
     },
     "execution_count": 45,
     "metadata": {},
     "output_type": "execute_result"
    }
   ],
   "source": [
    "q_hat"
   ]
  },
  {
   "cell_type": "code",
   "execution_count": 46,
   "id": "92460794-cdac-4be2-ba28-f28c0515a6fb",
   "metadata": {
    "execution": {
     "iopub.execute_input": "2025-07-28T10:53:26.401575Z",
     "iopub.status.busy": "2025-07-28T10:53:26.400521Z",
     "iopub.status.idle": "2025-07-28T10:53:27.294532Z",
     "shell.execute_reply": "2025-07-28T10:53:27.293719Z"
    },
    "papermill": {
     "duration": 0.921129,
     "end_time": "2025-07-28T10:53:27.296685",
     "exception": false,
     "start_time": "2025-07-28T10:53:26.375556",
     "status": "completed"
    },
    "tags": []
   },
   "outputs": [],
   "source": [
    "from fairness_multiverse.conformal import predict_conformal_sets\n",
    "\n",
    "# Generate prediction sets for each test example\n",
    "pred_sets = predict_conformal_sets(model, X_test, q_hat)"
   ]
  },
  {
   "cell_type": "code",
   "execution_count": 47,
   "id": "d90c9a65-e6db-4f5d-80cd-e68fb7e46829",
   "metadata": {
    "execution": {
     "iopub.execute_input": "2025-07-28T10:53:27.354578Z",
     "iopub.status.busy": "2025-07-28T10:53:27.353983Z",
     "iopub.status.idle": "2025-07-28T10:53:27.360745Z",
     "shell.execute_reply": "2025-07-28T10:53:27.359635Z"
    },
    "papermill": {
     "duration": 0.038135,
     "end_time": "2025-07-28T10:53:27.362900",
     "exception": false,
     "start_time": "2025-07-28T10:53:27.324765",
     "status": "completed"
    },
    "tags": []
   },
   "outputs": [],
   "source": [
    "y_true = y_true.squeeze()"
   ]
  },
  {
   "cell_type": "code",
   "execution_count": 48,
   "id": "3a58a54a-1e68-46b9-927a-df01f18aebc8",
   "metadata": {
    "execution": {
     "iopub.execute_input": "2025-07-28T10:53:27.415481Z",
     "iopub.status.busy": "2025-07-28T10:53:27.414531Z",
     "iopub.status.idle": "2025-07-28T10:53:28.216516Z",
     "shell.execute_reply": "2025-07-28T10:53:28.215692Z"
    },
    "papermill": {
     "duration": 0.828394,
     "end_time": "2025-07-28T10:53:28.218402",
     "exception": false,
     "start_time": "2025-07-28T10:53:27.390008",
     "status": "completed"
    },
    "tags": []
   },
   "outputs": [],
   "source": [
    "from fairness_multiverse.conformal import evaluate_sets\n",
    "\n",
    "# Evaluate coverage and average set size on test data\n",
    "metrics = evaluate_sets(pred_sets, y_true)"
   ]
  },
  {
   "cell_type": "markdown",
   "id": "2b569c12-9aaa-4c88-98c9-bbcd0cf3ebb8",
   "metadata": {
    "papermill": {
     "duration": 0.013057,
     "end_time": "2025-07-28T10:53:28.270674",
     "exception": false,
     "start_time": "2025-07-28T10:53:28.257617",
     "status": "completed"
    },
    "tags": []
   },
   "source": [
    "# CP Metrics"
   ]
  },
  {
   "cell_type": "code",
   "execution_count": 49,
   "id": "5ce0a5cb-201f-45a0-ade5-94c7f0bd6095",
   "metadata": {
    "execution": {
     "iopub.execute_input": "2025-07-28T10:53:28.298430Z",
     "iopub.status.busy": "2025-07-28T10:53:28.298056Z",
     "iopub.status.idle": "2025-07-28T10:53:28.304386Z",
     "shell.execute_reply": "2025-07-28T10:53:28.303476Z"
    },
    "papermill": {
     "duration": 0.021882,
     "end_time": "2025-07-28T10:53:28.305797",
     "exception": false,
     "start_time": "2025-07-28T10:53:28.283915",
     "status": "completed"
    },
    "tags": []
   },
   "outputs": [
    {
     "data": {
      "text/plain": [
       "{'coverage': 0.9137665812061085, 'avg_size': 1.2760561810277562}"
      ]
     },
     "execution_count": 49,
     "metadata": {},
     "output_type": "execute_result"
    }
   ],
   "source": [
    "metrics"
   ]
  },
  {
   "cell_type": "code",
   "execution_count": 50,
   "id": "9b9a838d-31c9-430b-ae14-12baee460d17",
   "metadata": {
    "execution": {
     "iopub.execute_input": "2025-07-28T10:53:28.333029Z",
     "iopub.status.busy": "2025-07-28T10:53:28.332328Z",
     "iopub.status.idle": "2025-07-28T10:53:28.337855Z",
     "shell.execute_reply": "2025-07-28T10:53:28.337109Z"
    },
    "papermill": {
     "duration": 0.020114,
     "end_time": "2025-07-28T10:53:28.339185",
     "exception": false,
     "start_time": "2025-07-28T10:53:28.319071",
     "status": "completed"
    },
    "tags": []
   },
   "outputs": [],
   "source": [
    "example_universe = universe.copy()\n",
    "universe_training_size = example_universe.get(\"training_size\")\n",
    "universe_scale = example_universe.get(\"scale\")\n",
    "universe_model = example_universe.get(\"model\")\n",
    "universe_exclude_features = example_universe.get(\"exclude_features\")\n",
    "universe_exclude_subgroups = example_universe.get(\"exclude_subgroups\")"
   ]
  },
  {
   "cell_type": "code",
   "execution_count": 51,
   "id": "f4b6a8ac-9dc0-4245-8a91-5b3b5999c4f9",
   "metadata": {
    "execution": {
     "iopub.execute_input": "2025-07-28T10:53:28.366176Z",
     "iopub.status.busy": "2025-07-28T10:53:28.365768Z",
     "iopub.status.idle": "2025-07-28T10:53:28.370582Z",
     "shell.execute_reply": "2025-07-28T10:53:28.369855Z"
    },
    "papermill": {
     "duration": 0.019377,
     "end_time": "2025-07-28T10:53:28.371979",
     "exception": false,
     "start_time": "2025-07-28T10:53:28.352602",
     "status": "completed"
    },
    "tags": []
   },
   "outputs": [],
   "source": [
    "cp_metrics_dict = {\n",
    "    \"universe_id\": [universe_id],\n",
    "    \"universe_training_size\": [universe_training_size],\n",
    "    \"universe_scale\": [universe_scale],\n",
    "    \"universe_model\": [universe_model],\n",
    "    \"universe_exclude_features\": [universe_exclude_features],\n",
    "    \"universe_exclude_subgroups\": [universe_exclude_subgroups],\n",
    "    \"q_hat\": [q_hat],\n",
    "    \"coverage\": [metrics[\"coverage\"]],\n",
    "    \"avg_size\": [metrics[\"avg_size\"]],\n",
    "}"
   ]
  },
  {
   "cell_type": "code",
   "execution_count": 52,
   "id": "908acbb1-0371-4915-85ca-3fa520d2efe2",
   "metadata": {
    "execution": {
     "iopub.execute_input": "2025-07-28T10:53:28.399404Z",
     "iopub.status.busy": "2025-07-28T10:53:28.399057Z",
     "iopub.status.idle": "2025-07-28T10:53:28.405561Z",
     "shell.execute_reply": "2025-07-28T10:53:28.404844Z"
    },
    "papermill": {
     "duration": 0.021693,
     "end_time": "2025-07-28T10:53:28.406829",
     "exception": false,
     "start_time": "2025-07-28T10:53:28.385136",
     "status": "completed"
    },
    "tags": []
   },
   "outputs": [
    {
     "data": {
      "text/plain": [
       "{'universe_id': ['0c07aecbf5f9a6672b79562d101f3bbd'],\n",
       " 'universe_training_size': ['1k'],\n",
       " 'universe_scale': ['do-not-scale'],\n",
       " 'universe_model': ['elasticnet'],\n",
       " 'universe_exclude_features': ['age'],\n",
       " 'universe_exclude_subgroups': ['drop-non-german'],\n",
       " 'q_hat': [0.6867946271622524],\n",
       " 'coverage': [0.9137665812061085],\n",
       " 'avg_size': [1.2760561810277562]}"
      ]
     },
     "execution_count": 52,
     "metadata": {},
     "output_type": "execute_result"
    }
   ],
   "source": [
    "cp_metrics_dict"
   ]
  },
  {
   "cell_type": "code",
   "execution_count": 53,
   "id": "33007efc-14e9-4ec6-97ac-56a455c82265",
   "metadata": {
    "execution": {
     "iopub.execute_input": "2025-07-28T10:53:28.435173Z",
     "iopub.status.busy": "2025-07-28T10:53:28.434638Z",
     "iopub.status.idle": "2025-07-28T10:53:28.440160Z",
     "shell.execute_reply": "2025-07-28T10:53:28.439339Z"
    },
    "papermill": {
     "duration": 0.020941,
     "end_time": "2025-07-28T10:53:28.441480",
     "exception": false,
     "start_time": "2025-07-28T10:53:28.420539",
     "status": "completed"
    },
    "tags": []
   },
   "outputs": [],
   "source": [
    "cp_metrics_df = pd.DataFrame(cp_metrics_dict)"
   ]
  },
  {
   "cell_type": "code",
   "execution_count": 54,
   "id": "db12611b-57b2-4910-b9d0-355adfd6e7bf",
   "metadata": {
    "execution": {
     "iopub.execute_input": "2025-07-28T10:53:28.469930Z",
     "iopub.status.busy": "2025-07-28T10:53:28.469381Z",
     "iopub.status.idle": "2025-07-28T10:53:28.483800Z",
     "shell.execute_reply": "2025-07-28T10:53:28.482806Z"
    },
    "papermill": {
     "duration": 0.029648,
     "end_time": "2025-07-28T10:53:28.485202",
     "exception": false,
     "start_time": "2025-07-28T10:53:28.455554",
     "status": "completed"
    },
    "tags": []
   },
   "outputs": [
    {
     "data": {
      "text/html": [
       "<div>\n",
       "<style scoped>\n",
       "    .dataframe tbody tr th:only-of-type {\n",
       "        vertical-align: middle;\n",
       "    }\n",
       "\n",
       "    .dataframe tbody tr th {\n",
       "        vertical-align: top;\n",
       "    }\n",
       "\n",
       "    .dataframe thead th {\n",
       "        text-align: right;\n",
       "    }\n",
       "</style>\n",
       "<table border=\"1\" class=\"dataframe\">\n",
       "  <thead>\n",
       "    <tr style=\"text-align: right;\">\n",
       "      <th></th>\n",
       "      <th>universe_id</th>\n",
       "      <th>universe_training_size</th>\n",
       "      <th>universe_scale</th>\n",
       "      <th>universe_model</th>\n",
       "      <th>universe_exclude_features</th>\n",
       "      <th>universe_exclude_subgroups</th>\n",
       "      <th>q_hat</th>\n",
       "      <th>coverage</th>\n",
       "      <th>avg_size</th>\n",
       "    </tr>\n",
       "  </thead>\n",
       "  <tbody>\n",
       "    <tr>\n",
       "      <th>0</th>\n",
       "      <td>0c07aecbf5f9a6672b79562d101f3bbd</td>\n",
       "      <td>1k</td>\n",
       "      <td>do-not-scale</td>\n",
       "      <td>elasticnet</td>\n",
       "      <td>age</td>\n",
       "      <td>drop-non-german</td>\n",
       "      <td>0.686795</td>\n",
       "      <td>0.913767</td>\n",
       "      <td>1.276056</td>\n",
       "    </tr>\n",
       "  </tbody>\n",
       "</table>\n",
       "</div>"
      ],
      "text/plain": [
       "                        universe_id universe_training_size universe_scale  \\\n",
       "0  0c07aecbf5f9a6672b79562d101f3bbd                     1k   do-not-scale   \n",
       "\n",
       "  universe_model universe_exclude_features universe_exclude_subgroups  \\\n",
       "0     elasticnet                       age            drop-non-german   \n",
       "\n",
       "      q_hat  coverage  avg_size  \n",
       "0  0.686795  0.913767  1.276056  "
      ]
     },
     "execution_count": 54,
     "metadata": {},
     "output_type": "execute_result"
    }
   ],
   "source": [
    "cp_metrics_df"
   ]
  },
  {
   "cell_type": "code",
   "execution_count": 55,
   "id": "b7fbde55-a0a1-47e4-9af6-fe4a17fa8c61",
   "metadata": {
    "execution": {
     "iopub.execute_input": "2025-07-28T10:53:28.513607Z",
     "iopub.status.busy": "2025-07-28T10:53:28.513078Z",
     "iopub.status.idle": "2025-07-28T10:53:28.518056Z",
     "shell.execute_reply": "2025-07-28T10:53:28.517297Z"
    },
    "papermill": {
     "duration": 0.020576,
     "end_time": "2025-07-28T10:53:28.519389",
     "exception": false,
     "start_time": "2025-07-28T10:53:28.498813",
     "status": "completed"
    },
    "tags": []
   },
   "outputs": [],
   "source": [
    "# Conditional Coverage & looking at subgroups"
   ]
  },
  {
   "cell_type": "code",
   "execution_count": 56,
   "id": "027ae886-68dd-4141-96c7-805a5450e1ef",
   "metadata": {
    "execution": {
     "iopub.execute_input": "2025-07-28T10:53:28.548194Z",
     "iopub.status.busy": "2025-07-28T10:53:28.547686Z",
     "iopub.status.idle": "2025-07-28T10:53:28.760666Z",
     "shell.execute_reply": "2025-07-28T10:53:28.759866Z"
    },
    "papermill": {
     "duration": 0.228606,
     "end_time": "2025-07-28T10:53:28.762188",
     "exception": false,
     "start_time": "2025-07-28T10:53:28.533582",
     "status": "completed"
    },
    "tags": []
   },
   "outputs": [],
   "source": [
    "from fairness_multiverse.conformal import build_cp_groups\n",
    "\n",
    "cp_groups_df = build_cp_groups(pred_sets, y_true, X_test.index, org_test)\n",
    "#needs universe_id and setting"
   ]
  },
  {
   "cell_type": "code",
   "execution_count": 57,
   "id": "01d5802c-663a-4d1f-9d69-e036faaffbf7",
   "metadata": {
    "execution": {
     "iopub.execute_input": "2025-07-28T10:53:28.790550Z",
     "iopub.status.busy": "2025-07-28T10:53:28.790004Z",
     "iopub.status.idle": "2025-07-28T10:53:28.794331Z",
     "shell.execute_reply": "2025-07-28T10:53:28.793564Z"
    },
    "papermill": {
     "duration": 0.019809,
     "end_time": "2025-07-28T10:53:28.795748",
     "exception": false,
     "start_time": "2025-07-28T10:53:28.775939",
     "status": "completed"
    },
    "tags": []
   },
   "outputs": [],
   "source": [
    "#delete\n",
    "#cp_groups_df"
   ]
  },
  {
   "cell_type": "code",
   "execution_count": 58,
   "id": "fa424af1-d1eb-443d-b717-2d279ada8408",
   "metadata": {
    "execution": {
     "iopub.execute_input": "2025-07-28T10:53:28.824766Z",
     "iopub.status.busy": "2025-07-28T10:53:28.824214Z",
     "iopub.status.idle": "2025-07-28T10:53:28.828999Z",
     "shell.execute_reply": "2025-07-28T10:53:28.828162Z"
    },
    "papermill": {
     "duration": 0.020438,
     "end_time": "2025-07-28T10:53:28.830286",
     "exception": false,
     "start_time": "2025-07-28T10:53:28.809848",
     "status": "completed"
    },
    "tags": []
   },
   "outputs": [],
   "source": [
    "#delete\n",
    "#percentage = (cp_groups_df['nongerman_female'] == 1).mean() * 100\n",
    "#print(percentage)\n"
   ]
  },
  {
   "cell_type": "code",
   "execution_count": 59,
   "id": "6cbdab96-b2b2-45af-ad54-d0516db2e28d",
   "metadata": {
    "execution": {
     "iopub.execute_input": "2025-07-28T10:53:28.859558Z",
     "iopub.status.busy": "2025-07-28T10:53:28.859051Z",
     "iopub.status.idle": "2025-07-28T10:53:30.391325Z",
     "shell.execute_reply": "2025-07-28T10:53:30.390157Z"
    },
    "papermill": {
     "duration": 1.548424,
     "end_time": "2025-07-28T10:53:30.393328",
     "exception": false,
     "start_time": "2025-07-28T10:53:28.844904",
     "status": "completed"
    },
    "tags": []
   },
   "outputs": [],
   "source": [
    "# Define covered = 1 if true_label is in the predicted set\n",
    "cp_groups_df['covered'] = cp_groups_df.apply(\n",
    "    lambda r: int(r['true_label'] in r['pred_set']),\n",
    "    axis=1\n",
    ")"
   ]
  },
  {
   "cell_type": "code",
   "execution_count": 60,
   "id": "338ff529-1a6b-4b87-a931-8e4788d52aad",
   "metadata": {
    "execution": {
     "iopub.execute_input": "2025-07-28T10:53:30.450201Z",
     "iopub.status.busy": "2025-07-28T10:53:30.449800Z",
     "iopub.status.idle": "2025-07-28T10:53:30.454387Z",
     "shell.execute_reply": "2025-07-28T10:53:30.453515Z"
    },
    "papermill": {
     "duration": 0.034653,
     "end_time": "2025-07-28T10:53:30.456103",
     "exception": false,
     "start_time": "2025-07-28T10:53:30.421450",
     "status": "completed"
    },
    "tags": []
   },
   "outputs": [],
   "source": [
    "#cp_groups_df"
   ]
  },
  {
   "cell_type": "code",
   "execution_count": 61,
   "id": "90032e27-66df-4540-9169-4e89cfbaa758",
   "metadata": {
    "execution": {
     "iopub.execute_input": "2025-07-28T10:53:30.512961Z",
     "iopub.status.busy": "2025-07-28T10:53:30.512304Z",
     "iopub.status.idle": "2025-07-28T10:53:30.524586Z",
     "shell.execute_reply": "2025-07-28T10:53:30.523467Z"
    },
    "papermill": {
     "duration": 0.042694,
     "end_time": "2025-07-28T10:53:30.526389",
     "exception": false,
     "start_time": "2025-07-28T10:53:30.483695",
     "status": "completed"
    },
    "tags": []
   },
   "outputs": [],
   "source": [
    "subgroups = ['frau1','nongerman','nongerman_male','nongerman_female']\n",
    "\n",
    "# Conditional coverage for subgroup==1\n",
    "cond_coverage = {\n",
    "    g: cp_groups_df.loc[cp_groups_df[g]==1, 'covered'].mean()\n",
    "    for g in subgroups\n",
    "}"
   ]
  },
  {
   "cell_type": "code",
   "execution_count": 62,
   "id": "1e348fb1-b9c3-45bc-ba23-f016827a7e0d",
   "metadata": {
    "execution": {
     "iopub.execute_input": "2025-07-28T10:53:30.584545Z",
     "iopub.status.busy": "2025-07-28T10:53:30.582301Z",
     "iopub.status.idle": "2025-07-28T10:53:30.591543Z",
     "shell.execute_reply": "2025-07-28T10:53:30.590611Z"
    },
    "papermill": {
     "duration": 0.039151,
     "end_time": "2025-07-28T10:53:30.593410",
     "exception": false,
     "start_time": "2025-07-28T10:53:30.554259",
     "status": "completed"
    },
    "tags": []
   },
   "outputs": [
    {
     "data": {
      "text/plain": [
       "{'frau1': 0.9138697937727457,\n",
       " 'nongerman': 0.9645202941671813,\n",
       " 'nongerman_male': 0.9699180401693236,\n",
       " 'nongerman_female': 0.9555886736214605}"
      ]
     },
     "execution_count": 62,
     "metadata": {},
     "output_type": "execute_result"
    }
   ],
   "source": [
    "cond_coverage"
   ]
  },
  {
   "cell_type": "code",
   "execution_count": 63,
   "id": "f5093324-c3dd-4d63-bc4c-8d945e5c8bbb",
   "metadata": {
    "execution": {
     "iopub.execute_input": "2025-07-28T10:53:30.653073Z",
     "iopub.status.busy": "2025-07-28T10:53:30.652268Z",
     "iopub.status.idle": "2025-07-28T10:53:30.661367Z",
     "shell.execute_reply": "2025-07-28T10:53:30.660301Z"
    },
    "papermill": {
     "duration": 0.043165,
     "end_time": "2025-07-28T10:53:30.663086",
     "exception": false,
     "start_time": "2025-07-28T10:53:30.619921",
     "status": "completed"
    },
    "tags": []
   },
   "outputs": [],
   "source": [
    "for subgroup, cov in cond_coverage.items():\n",
    "    cp_metrics_df[f\"cov_{subgroup}\"] = cov"
   ]
  },
  {
   "cell_type": "code",
   "execution_count": 64,
   "id": "6e872e10-dbe5-49e8-b554-5030c98ff75d",
   "metadata": {
    "execution": {
     "iopub.execute_input": "2025-07-28T10:53:30.721222Z",
     "iopub.status.busy": "2025-07-28T10:53:30.720485Z",
     "iopub.status.idle": "2025-07-28T10:53:30.755747Z",
     "shell.execute_reply": "2025-07-28T10:53:30.754554Z"
    },
    "papermill": {
     "duration": 0.067684,
     "end_time": "2025-07-28T10:53:30.758121",
     "exception": false,
     "start_time": "2025-07-28T10:53:30.690437",
     "status": "completed"
    },
    "tags": []
   },
   "outputs": [
    {
     "data": {
      "text/html": [
       "<div>\n",
       "<style scoped>\n",
       "    .dataframe tbody tr th:only-of-type {\n",
       "        vertical-align: middle;\n",
       "    }\n",
       "\n",
       "    .dataframe tbody tr th {\n",
       "        vertical-align: top;\n",
       "    }\n",
       "\n",
       "    .dataframe thead th {\n",
       "        text-align: right;\n",
       "    }\n",
       "</style>\n",
       "<table border=\"1\" class=\"dataframe\">\n",
       "  <thead>\n",
       "    <tr style=\"text-align: right;\">\n",
       "      <th></th>\n",
       "      <th>universe_id</th>\n",
       "      <th>universe_training_size</th>\n",
       "      <th>universe_scale</th>\n",
       "      <th>universe_model</th>\n",
       "      <th>universe_exclude_features</th>\n",
       "      <th>universe_exclude_subgroups</th>\n",
       "      <th>q_hat</th>\n",
       "      <th>coverage</th>\n",
       "      <th>avg_size</th>\n",
       "      <th>cov_frau1</th>\n",
       "      <th>cov_nongerman</th>\n",
       "      <th>cov_nongerman_male</th>\n",
       "      <th>cov_nongerman_female</th>\n",
       "    </tr>\n",
       "  </thead>\n",
       "  <tbody>\n",
       "    <tr>\n",
       "      <th>0</th>\n",
       "      <td>0c07aecbf5f9a6672b79562d101f3bbd</td>\n",
       "      <td>1k</td>\n",
       "      <td>do-not-scale</td>\n",
       "      <td>elasticnet</td>\n",
       "      <td>age</td>\n",
       "      <td>drop-non-german</td>\n",
       "      <td>0.686795</td>\n",
       "      <td>0.913767</td>\n",
       "      <td>1.276056</td>\n",
       "      <td>0.91387</td>\n",
       "      <td>0.96452</td>\n",
       "      <td>0.969918</td>\n",
       "      <td>0.955589</td>\n",
       "    </tr>\n",
       "  </tbody>\n",
       "</table>\n",
       "</div>"
      ],
      "text/plain": [
       "                        universe_id universe_training_size universe_scale  \\\n",
       "0  0c07aecbf5f9a6672b79562d101f3bbd                     1k   do-not-scale   \n",
       "\n",
       "  universe_model universe_exclude_features universe_exclude_subgroups  \\\n",
       "0     elasticnet                       age            drop-non-german   \n",
       "\n",
       "      q_hat  coverage  avg_size  cov_frau1  cov_nongerman  cov_nongerman_male  \\\n",
       "0  0.686795  0.913767  1.276056    0.91387        0.96452            0.969918   \n",
       "\n",
       "   cov_nongerman_female  \n",
       "0              0.955589  "
      ]
     },
     "execution_count": 64,
     "metadata": {},
     "output_type": "execute_result"
    }
   ],
   "source": [
    "cp_metrics_df"
   ]
  },
  {
   "cell_type": "markdown",
   "id": "33774451",
   "metadata": {
    "papermill": {
     "duration": 0.013473,
     "end_time": "2025-07-28T10:53:30.794332",
     "exception": false,
     "start_time": "2025-07-28T10:53:30.780859",
     "status": "completed"
    },
    "tags": []
   },
   "source": [
    "# (Fairness) Metrics"
   ]
  },
  {
   "cell_type": "code",
   "execution_count": 65,
   "id": "debc5d62",
   "metadata": {
    "execution": {
     "iopub.execute_input": "2025-07-28T10:53:30.823412Z",
     "iopub.status.busy": "2025-07-28T10:53:30.822650Z",
     "iopub.status.idle": "2025-07-28T10:53:30.846430Z",
     "shell.execute_reply": "2025-07-28T10:53:30.845397Z"
    },
    "papermill": {
     "duration": 0.040197,
     "end_time": "2025-07-28T10:53:30.848321",
     "exception": false,
     "start_time": "2025-07-28T10:53:30.808124",
     "status": "completed"
    },
    "tags": []
   },
   "outputs": [],
   "source": [
    "# do I need to include maxdeutsch1.missing?\n",
    "\n",
    "import numpy as np\n",
    "\n",
    "colname_to_bin = \"maxdeutsch1\"\n",
    "majority_value = org_train[colname_to_bin].mode()[0]\n",
    "\n",
    "org_test[\"majmin\"] = np.where(org_test[colname_to_bin] == majority_value, \"majority\", \"minority\")"
   ]
  },
  {
   "cell_type": "code",
   "execution_count": 66,
   "id": "06a50de5",
   "metadata": {
    "execution": {
     "iopub.execute_input": "2025-07-28T10:53:30.902351Z",
     "iopub.status.busy": "2025-07-28T10:53:30.901449Z",
     "iopub.status.idle": "2025-07-28T10:53:33.524314Z",
     "shell.execute_reply": "2025-07-28T10:53:33.522897Z"
    },
    "papermill": {
     "duration": 2.652937,
     "end_time": "2025-07-28T10:53:33.526807",
     "exception": false,
     "start_time": "2025-07-28T10:53:30.873870",
     "status": "completed"
    },
    "tags": []
   },
   "outputs": [],
   "source": [
    "example_universe = universe.copy()\n",
    "example_universe[\"cutoff\"] = example_universe[\"cutoff\"][0]\n",
    "example_universe[\"eval_fairness_grouping\"] = example_universe[\"eval_fairness_grouping\"][0]\n",
    "fairness_dict, metric_frame = universe_analysis.compute_metrics(\n",
    "    example_universe,\n",
    "    y_pred_prob=probs_test,\n",
    "    y_test=y_true,\n",
    "    org_test=org_test,\n",
    ")"
   ]
  },
  {
   "cell_type": "markdown",
   "id": "f95d4e02",
   "metadata": {
    "papermill": {
     "duration": 0.030539,
     "end_time": "2025-07-28T10:53:33.590375",
     "exception": false,
     "start_time": "2025-07-28T10:53:33.559836",
     "status": "completed"
    },
    "tags": []
   },
   "source": [
    "# Overall"
   ]
  },
  {
   "cell_type": "markdown",
   "id": "bdee4871",
   "metadata": {
    "papermill": {
     "duration": 0.033049,
     "end_time": "2025-07-28T10:53:33.655939",
     "exception": false,
     "start_time": "2025-07-28T10:53:33.622890",
     "status": "completed"
    },
    "tags": []
   },
   "source": [
    "Fairness\n",
    "Main fairness target: Equalized Odds. Seems to be a better fit than equal opportunity, since we're not only interested in Y = 1. Seems to be a better fit than demographic parity, since we also care about accuracy, not just equal distribution of preds.\n",
    "\n",
    "Pick column for computation of fairness metrics\n",
    "\n",
    "Performance\n",
    "Overall performance measures, most interesting in relation to the measures split by group below"
   ]
  },
  {
   "cell_type": "code",
   "execution_count": 67,
   "id": "c4e067c6",
   "metadata": {
    "execution": {
     "iopub.execute_input": "2025-07-28T10:53:33.723883Z",
     "iopub.status.busy": "2025-07-28T10:53:33.723137Z",
     "iopub.status.idle": "2025-07-28T10:53:33.734246Z",
     "shell.execute_reply": "2025-07-28T10:53:33.733075Z"
    },
    "papermill": {
     "duration": 0.04791,
     "end_time": "2025-07-28T10:53:33.736256",
     "exception": false,
     "start_time": "2025-07-28T10:53:33.688346",
     "status": "completed"
    },
    "tags": []
   },
   "outputs": [
    {
     "data": {
      "text/plain": [
       "accuracy                   0.213343\n",
       "balanced accuracy          0.523964\n",
       "f1                         0.234978\n",
       "precision                  0.134235\n",
       "false positive rate        0.893852\n",
       "false negative rate        0.058220\n",
       "selection rate             0.900000\n",
       "count                  89710.000000\n",
       "dtype: float64"
      ]
     },
     "execution_count": 67,
     "metadata": {},
     "output_type": "execute_result"
    }
   ],
   "source": [
    "metric_frame.overall"
   ]
  },
  {
   "cell_type": "markdown",
   "id": "e968fe9d",
   "metadata": {
    "papermill": {
     "duration": 0.033007,
     "end_time": "2025-07-28T10:53:33.802647",
     "exception": false,
     "start_time": "2025-07-28T10:53:33.769640",
     "status": "completed"
    },
    "tags": []
   },
   "source": [
    "By Group"
   ]
  },
  {
   "cell_type": "code",
   "execution_count": 68,
   "id": "ec325bce",
   "metadata": {
    "execution": {
     "iopub.execute_input": "2025-07-28T10:53:33.871336Z",
     "iopub.status.busy": "2025-07-28T10:53:33.870769Z",
     "iopub.status.idle": "2025-07-28T10:53:33.887656Z",
     "shell.execute_reply": "2025-07-28T10:53:33.886494Z"
    },
    "papermill": {
     "duration": 0.053524,
     "end_time": "2025-07-28T10:53:33.889926",
     "exception": false,
     "start_time": "2025-07-28T10:53:33.836402",
     "status": "completed"
    },
    "tags": []
   },
   "outputs": [
    {
     "data": {
      "text/html": [
       "<div>\n",
       "<style scoped>\n",
       "    .dataframe tbody tr th:only-of-type {\n",
       "        vertical-align: middle;\n",
       "    }\n",
       "\n",
       "    .dataframe tbody tr th {\n",
       "        vertical-align: top;\n",
       "    }\n",
       "\n",
       "    .dataframe thead th {\n",
       "        text-align: right;\n",
       "    }\n",
       "</style>\n",
       "<table border=\"1\" class=\"dataframe\">\n",
       "  <thead>\n",
       "    <tr style=\"text-align: right;\">\n",
       "      <th></th>\n",
       "      <th>accuracy</th>\n",
       "      <th>balanced accuracy</th>\n",
       "      <th>f1</th>\n",
       "      <th>precision</th>\n",
       "      <th>false positive rate</th>\n",
       "      <th>false negative rate</th>\n",
       "      <th>selection rate</th>\n",
       "      <th>count</th>\n",
       "    </tr>\n",
       "    <tr>\n",
       "      <th>majmin</th>\n",
       "      <th></th>\n",
       "      <th></th>\n",
       "      <th></th>\n",
       "      <th></th>\n",
       "      <th></th>\n",
       "      <th></th>\n",
       "      <th></th>\n",
       "      <th></th>\n",
       "    </tr>\n",
       "  </thead>\n",
       "  <tbody>\n",
       "    <tr>\n",
       "      <th>majority</th>\n",
       "      <td>0.234639</td>\n",
       "      <td>0.529884</td>\n",
       "      <td>0.243304</td>\n",
       "      <td>0.139933</td>\n",
       "      <td>0.871414</td>\n",
       "      <td>0.068818</td>\n",
       "      <td>0.879312</td>\n",
       "      <td>69170.0</td>\n",
       "    </tr>\n",
       "    <tr>\n",
       "      <th>minority</th>\n",
       "      <td>0.141626</td>\n",
       "      <td>0.507357</td>\n",
       "      <td>0.208840</td>\n",
       "      <td>0.116835</td>\n",
       "      <td>0.967973</td>\n",
       "      <td>0.017314</td>\n",
       "      <td>0.969669</td>\n",
       "      <td>20540.0</td>\n",
       "    </tr>\n",
       "  </tbody>\n",
       "</table>\n",
       "</div>"
      ],
      "text/plain": [
       "          accuracy  balanced accuracy        f1  precision  \\\n",
       "majmin                                                       \n",
       "majority  0.234639           0.529884  0.243304   0.139933   \n",
       "minority  0.141626           0.507357  0.208840   0.116835   \n",
       "\n",
       "          false positive rate  false negative rate  selection rate    count  \n",
       "majmin                                                                       \n",
       "majority             0.871414             0.068818        0.879312  69170.0  \n",
       "minority             0.967973             0.017314        0.969669  20540.0  "
      ]
     },
     "execution_count": 68,
     "metadata": {},
     "output_type": "execute_result"
    }
   ],
   "source": [
    "metric_frame.by_group"
   ]
  },
  {
   "cell_type": "code",
   "execution_count": 69,
   "id": "a9ddbe63",
   "metadata": {
    "execution": {
     "iopub.execute_input": "2025-07-28T10:53:33.959941Z",
     "iopub.status.busy": "2025-07-28T10:53:33.958901Z",
     "iopub.status.idle": "2025-07-28T10:53:36.828374Z",
     "shell.execute_reply": "2025-07-28T10:53:36.827336Z"
    },
    "papermill": {
     "duration": 2.90626,
     "end_time": "2025-07-28T10:53:36.830186",
     "exception": false,
     "start_time": "2025-07-28T10:53:33.923926",
     "status": "completed"
    },
    "tags": []
   },
   "outputs": [
    {
     "data": {
      "text/plain": [
       "array([[<Axes: title={'center': 'accuracy'}, xlabel='majmin'>,\n",
       "        <Axes: title={'center': 'balanced accuracy'}, xlabel='majmin'>,\n",
       "        <Axes: title={'center': 'f1'}, xlabel='majmin'>],\n",
       "       [<Axes: title={'center': 'precision'}, xlabel='majmin'>,\n",
       "        <Axes: title={'center': 'false positive rate'}, xlabel='majmin'>,\n",
       "        <Axes: title={'center': 'false negative rate'}, xlabel='majmin'>],\n",
       "       [<Axes: title={'center': 'selection rate'}, xlabel='majmin'>,\n",
       "        <Axes: title={'center': 'count'}, xlabel='majmin'>,\n",
       "        <Axes: xlabel='majmin'>]], dtype=object)"
      ]
     },
     "execution_count": 69,
     "metadata": {},
     "output_type": "execute_result"
    },
    {
     "data": {
      "image/png": "[encoded data removed]",
      "text/plain": [
       "<Figure size 1200x800 with 9 Axes>"
      ]
     },
     "metadata": {},
     "output_type": "display_data"
    }
   ],
   "source": [
    "# In a graphic\n",
    "metric_frame.by_group.plot.bar(\n",
    "    subplots=True,\n",
    "    layout=[3, 3],\n",
    "    legend=False,\n",
    "    figsize=[12, 8],\n",
    "    title=\"Show all metrics\",\n",
    ")"
   ]
  },
  {
   "cell_type": "markdown",
   "id": "f57a0bac",
   "metadata": {
    "papermill": {
     "duration": 0.030378,
     "end_time": "2025-07-28T10:53:36.892545",
     "exception": false,
     "start_time": "2025-07-28T10:53:36.862167",
     "status": "completed"
    },
    "tags": []
   },
   "source": [
    "# Final Output"
   ]
  },
  {
   "cell_type": "code",
   "execution_count": 70,
   "id": "96d280a3",
   "metadata": {
    "execution": {
     "iopub.execute_input": "2025-07-28T10:53:36.954388Z",
     "iopub.status.busy": "2025-07-28T10:53:36.953652Z",
     "iopub.status.idle": "2025-07-28T10:53:36.962613Z",
     "shell.execute_reply": "2025-07-28T10:53:36.961687Z"
    },
    "papermill": {
     "duration": 0.040996,
     "end_time": "2025-07-28T10:53:36.964316",
     "exception": false,
     "start_time": "2025-07-28T10:53:36.923320",
     "status": "completed"
    },
    "tags": []
   },
   "outputs": [
    {
     "data": {
      "text/plain": [
       "4"
      ]
     },
     "execution_count": 70,
     "metadata": {},
     "output_type": "execute_result"
    }
   ],
   "source": [
    "sub_universes = universe_analysis.generate_sub_universes()\n",
    "len(sub_universes)"
   ]
  },
  {
   "cell_type": "code",
   "execution_count": 71,
   "id": "92adf7ba",
   "metadata": {
    "execution": {
     "iopub.execute_input": "2025-07-28T10:53:37.026555Z",
     "iopub.status.busy": "2025-07-28T10:53:37.025500Z",
     "iopub.status.idle": "2025-07-28T10:53:37.032637Z",
     "shell.execute_reply": "2025-07-28T10:53:37.031280Z"
    },
    "papermill": {
     "duration": 0.039307,
     "end_time": "2025-07-28T10:53:37.034399",
     "exception": false,
     "start_time": "2025-07-28T10:53:36.995092",
     "status": "completed"
    },
    "tags": []
   },
   "outputs": [],
   "source": [
    "def filter_sub_universe_data(sub_universe, org_test):\n",
    "    # Keep all rows — no filtering\n",
    "    keep_rows_mask = np.ones(org_test.shape[0], dtype=bool)\n",
    "\n",
    "    print(f\"[INFO] Keeping all rows: {keep_rows_mask.sum()} rows retained.\")\n",
    "    return keep_rows_mask"
   ]
  },
  {
   "cell_type": "code",
   "execution_count": 72,
   "id": "4a759155",
   "metadata": {
    "execution": {
     "iopub.execute_input": "2025-07-28T10:53:37.095796Z",
     "iopub.status.busy": "2025-07-28T10:53:37.094866Z",
     "iopub.status.idle": "2025-07-28T10:53:47.837910Z",
     "shell.execute_reply": "2025-07-28T10:53:47.836994Z"
    },
    "papermill": {
     "duration": 10.774727,
     "end_time": "2025-07-28T10:53:47.839139",
     "exception": false,
     "start_time": "2025-07-28T10:53:37.064412",
     "status": "completed"
    },
    "tags": []
   },
   "outputs": [
    {
     "name": "stdout",
     "output_type": "stream",
     "text": [
      "Stopping execution_time clock.\n",
      "[INFO] Keeping all rows: 89710 rows retained.\n"
     ]
    },
    {
     "name": "stdout",
     "output_type": "stream",
     "text": [
      "[INFO] Keeping all rows: 89710 rows retained.\n"
     ]
    },
    {
     "name": "stdout",
     "output_type": "stream",
     "text": [
      "[INFO] Keeping all rows: 89710 rows retained.\n"
     ]
    },
    {
     "name": "stdout",
     "output_type": "stream",
     "text": [
      "[INFO] Keeping all rows: 89710 rows retained.\n"
     ]
    },
    {
     "data": {
      "text/html": [
       "<div>\n",
       "<style scoped>\n",
       "    .dataframe tbody tr th:only-of-type {\n",
       "        vertical-align: middle;\n",
       "    }\n",
       "\n",
       "    .dataframe tbody tr th {\n",
       "        vertical-align: top;\n",
       "    }\n",
       "\n",
       "    .dataframe thead th {\n",
       "        text-align: right;\n",
       "    }\n",
       "</style>\n",
       "<table border=\"1\" class=\"dataframe\">\n",
       "  <thead>\n",
       "    <tr style=\"text-align: right;\">\n",
       "      <th></th>\n",
       "      <th>run_no</th>\n",
       "      <th>universe_id</th>\n",
       "      <th>universe_settings</th>\n",
       "      <th>execution_time</th>\n",
       "      <th>test_size_n</th>\n",
       "      <th>test_size_frac</th>\n",
       "      <th>fair_main_equalized_odds_difference</th>\n",
       "      <th>fair_main_equalized_odds_ratio</th>\n",
       "      <th>fair_main_demographic_parity_difference</th>\n",
       "      <th>fair_main_demographic_parity_ratio</th>\n",
       "      <th>...</th>\n",
       "      <th>perf_grp_precision_0</th>\n",
       "      <th>perf_grp_precision_1</th>\n",
       "      <th>perf_grp_false positive rate_0</th>\n",
       "      <th>perf_grp_false positive rate_1</th>\n",
       "      <th>perf_grp_false negative rate_0</th>\n",
       "      <th>perf_grp_false negative rate_1</th>\n",
       "      <th>perf_grp_selection rate_0</th>\n",
       "      <th>perf_grp_selection rate_1</th>\n",
       "      <th>perf_grp_count_0</th>\n",
       "      <th>perf_grp_count_1</th>\n",
       "    </tr>\n",
       "  </thead>\n",
       "  <tbody>\n",
       "    <tr>\n",
       "      <th>0</th>\n",
       "      <td>11</td>\n",
       "      <td>0c07aecbf5f9a6672b79562d101f3bbd</td>\n",
       "      <td>{\"cutoff\": \"quantile_0.1\", \"eval_fairness_grou...</td>\n",
       "      <td>42.144193</td>\n",
       "      <td>89710</td>\n",
       "      <td>1.0</td>\n",
       "      <td>0.096558</td>\n",
       "      <td>0.900247</td>\n",
       "      <td>0.090357</td>\n",
       "      <td>0.906817</td>\n",
       "      <td>...</td>\n",
       "      <td>NaN</td>\n",
       "      <td>NaN</td>\n",
       "      <td>NaN</td>\n",
       "      <td>NaN</td>\n",
       "      <td>NaN</td>\n",
       "      <td>NaN</td>\n",
       "      <td>NaN</td>\n",
       "      <td>NaN</td>\n",
       "      <td>NaN</td>\n",
       "      <td>NaN</td>\n",
       "    </tr>\n",
       "    <tr>\n",
       "      <th>0</th>\n",
       "      <td>11</td>\n",
       "      <td>0c07aecbf5f9a6672b79562d101f3bbd</td>\n",
       "      <td>{\"cutoff\": \"quantile_0.1\", \"eval_fairness_grou...</td>\n",
       "      <td>42.144193</td>\n",
       "      <td>89710</td>\n",
       "      <td>1.0</td>\n",
       "      <td>0.096558</td>\n",
       "      <td>0.900247</td>\n",
       "      <td>0.090357</td>\n",
       "      <td>0.906817</td>\n",
       "      <td>...</td>\n",
       "      <td>0.116835</td>\n",
       "      <td>0.139933</td>\n",
       "      <td>0.967973</td>\n",
       "      <td>0.871414</td>\n",
       "      <td>0.017314</td>\n",
       "      <td>0.068818</td>\n",
       "      <td>0.969669</td>\n",
       "      <td>0.879312</td>\n",
       "      <td>20540.0</td>\n",
       "      <td>69170.0</td>\n",
       "    </tr>\n",
       "    <tr>\n",
       "      <th>0</th>\n",
       "      <td>11</td>\n",
       "      <td>0c07aecbf5f9a6672b79562d101f3bbd</td>\n",
       "      <td>{\"cutoff\": \"quantile_0.25\", \"eval_fairness_gro...</td>\n",
       "      <td>42.144193</td>\n",
       "      <td>89710</td>\n",
       "      <td>1.0</td>\n",
       "      <td>0.231087</td>\n",
       "      <td>0.746785</td>\n",
       "      <td>0.215955</td>\n",
       "      <td>0.764371</td>\n",
       "      <td>...</td>\n",
       "      <td>NaN</td>\n",
       "      <td>NaN</td>\n",
       "      <td>NaN</td>\n",
       "      <td>NaN</td>\n",
       "      <td>NaN</td>\n",
       "      <td>NaN</td>\n",
       "      <td>NaN</td>\n",
       "      <td>NaN</td>\n",
       "      <td>NaN</td>\n",
       "      <td>NaN</td>\n",
       "    </tr>\n",
       "    <tr>\n",
       "      <th>0</th>\n",
       "      <td>11</td>\n",
       "      <td>0c07aecbf5f9a6672b79562d101f3bbd</td>\n",
       "      <td>{\"cutoff\": \"quantile_0.25\", \"eval_fairness_gro...</td>\n",
       "      <td>42.144193</td>\n",
       "      <td>89710</td>\n",
       "      <td>1.0</td>\n",
       "      <td>0.231087</td>\n",
       "      <td>0.746785</td>\n",
       "      <td>0.215955</td>\n",
       "      <td>0.764371</td>\n",
       "      <td>...</td>\n",
       "      <td>0.119044</td>\n",
       "      <td>0.155705</td>\n",
       "      <td>0.912613</td>\n",
       "      <td>0.681526</td>\n",
       "      <td>0.053632</td>\n",
       "      <td>0.174508</td>\n",
       "      <td>0.916504</td>\n",
       "      <td>0.700549</td>\n",
       "      <td>20540.0</td>\n",
       "      <td>69170.0</td>\n",
       "    </tr>\n",
       "  </tbody>\n",
       "</table>\n",
       "<p>4 rows × 50 columns</p>\n",
       "</div>"
      ],
      "text/plain": [
       "  run_no                       universe_id  \\\n",
       "0     11  0c07aecbf5f9a6672b79562d101f3bbd   \n",
       "0     11  0c07aecbf5f9a6672b79562d101f3bbd   \n",
       "0     11  0c07aecbf5f9a6672b79562d101f3bbd   \n",
       "0     11  0c07aecbf5f9a6672b79562d101f3bbd   \n",
       "\n",
       "                                   universe_settings  execution_time  \\\n",
       "0  {\"cutoff\": \"quantile_0.1\", \"eval_fairness_grou...       42.144193   \n",
       "0  {\"cutoff\": \"quantile_0.1\", \"eval_fairness_grou...       42.144193   \n",
       "0  {\"cutoff\": \"quantile_0.25\", \"eval_fairness_gro...       42.144193   \n",
       "0  {\"cutoff\": \"quantile_0.25\", \"eval_fairness_gro...       42.144193   \n",
       "\n",
       "   test_size_n  test_size_frac  fair_main_equalized_odds_difference  \\\n",
       "0        89710             1.0                             0.096558   \n",
       "0        89710             1.0                             0.096558   \n",
       "0        89710             1.0                             0.231087   \n",
       "0        89710             1.0                             0.231087   \n",
       "\n",
       "   fair_main_equalized_odds_ratio  fair_main_demographic_parity_difference  \\\n",
       "0                        0.900247                                 0.090357   \n",
       "0                        0.900247                                 0.090357   \n",
       "0                        0.746785                                 0.215955   \n",
       "0                        0.746785                                 0.215955   \n",
       "\n",
       "   fair_main_demographic_parity_ratio  ...  perf_grp_precision_0  \\\n",
       "0                            0.906817  ...                   NaN   \n",
       "0                            0.906817  ...              0.116835   \n",
       "0                            0.764371  ...                   NaN   \n",
       "0                            0.764371  ...              0.119044   \n",
       "\n",
       "   perf_grp_precision_1  perf_grp_false positive rate_0  \\\n",
       "0                   NaN                             NaN   \n",
       "0              0.139933                        0.967973   \n",
       "0                   NaN                             NaN   \n",
       "0              0.155705                        0.912613   \n",
       "\n",
       "   perf_grp_false positive rate_1  perf_grp_false negative rate_0  \\\n",
       "0                             NaN                             NaN   \n",
       "0                        0.871414                        0.017314   \n",
       "0                             NaN                             NaN   \n",
       "0                        0.681526                        0.053632   \n",
       "\n",
       "   perf_grp_false negative rate_1  perf_grp_selection rate_0  \\\n",
       "0                             NaN                        NaN   \n",
       "0                        0.068818                   0.969669   \n",
       "0                             NaN                        NaN   \n",
       "0                        0.174508                   0.916504   \n",
       "\n",
       "   perf_grp_selection rate_1  perf_grp_count_0  perf_grp_count_1  \n",
       "0                        NaN               NaN               NaN  \n",
       "0                   0.879312           20540.0           69170.0  \n",
       "0                        NaN               NaN               NaN  \n",
       "0                   0.700549           20540.0           69170.0  \n",
       "\n",
       "[4 rows x 50 columns]"
      ]
     },
     "execution_count": 72,
     "metadata": {},
     "output_type": "execute_result"
    }
   ],
   "source": [
    "final_output = universe_analysis.generate_final_output(\n",
    "    y_pred_prob=probs_test,\n",
    "    y_test=y_true,\n",
    "    org_test=org_test,\n",
    "    filter_data=filter_sub_universe_data,\n",
    "    cp_metrics_df=cp_metrics_df,\n",
    "    save=True,\n",
    ")\n",
    "final_output"
   ]
  },
  {
   "cell_type": "code",
   "execution_count": null,
   "id": "721ff514-cb11-46f8-b6fc-50392f74b5cb",
   "metadata": {
    "papermill": {
     "duration": 0.023557,
     "end_time": "2025-07-28T10:53:47.881288",
     "exception": false,
     "start_time": "2025-07-28T10:53:47.857731",
     "status": "completed"
    },
    "tags": []
   },
   "outputs": [],
   "source": []
  }
 ],
 "metadata": {
  "celltoolbar": "Tags",
  "kernelspec": {
   "display_name": "Python (CMA Fairness)",
   "language": "python",
   "name": "cma_fair_env"
  },
  "language_info": {
   "codemirror_mode": {
    "name": "ipython",
    "version": 3
   },
   "file_extension": ".py",
   "mimetype": "text/x-python",
   "name": "python",
   "nbconvert_exporter": "python",
   "pygments_lexer": "ipython3",
   "version": "3.10.12"
  },
  "papermill": {
   "default_parameters": {},
   "duration": 57.214262,
   "end_time": "2025-07-28T10:53:48.640134",
   "environment_variables": {},
   "exception": null,
   "input_path": "universe_analysis.ipynb",
   "output_path": "output/runs/11/notebooks/m_11-0c07aecbf5f9a6672b79562d101f3bbd.ipynb",
   "parameters": {
    "output_dir": "output",
    "run_no": "11",
    "seed": "2023",
    "universe": "{\"cutoff\": [\"quantile_0.1\", \"quantile_0.25\"], \"eval_fairness_grouping\": [\"majority-minority\", \"nationality-all\"], \"exclude_features\": \"age\", \"exclude_subgroups\": \"drop-non-german\", \"model\": \"elasticnet\", \"scale\": \"do-not-scale\", \"training_size\": \"1k\"}",
    "universe_id": "0c07aecbf5f9a6672b79562d101f3bbd"
   },
   "start_time": "2025-07-28T10:52:51.425872",
   "version": "2.6.0"
  }
 },
 "nbformat": 4,
 "nbformat_minor": 5
}