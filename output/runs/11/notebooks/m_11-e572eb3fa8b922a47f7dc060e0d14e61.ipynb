{
 "cells": [
  {
   "cell_type": "code",
   "execution_count": 1,
   "id": "f159f837-637b-42ba-96b5-ec9a68c44524",
   "metadata": {
    "execution": {
     "iopub.execute_input": "2025-07-28T11:00:35.076525Z",
     "iopub.status.busy": "2025-07-28T11:00:35.075536Z",
     "iopub.status.idle": "2025-07-28T11:00:35.089837Z",
     "shell.execute_reply": "2025-07-28T11:00:35.088793Z"
    },
    "papermill": {
     "duration": 0.035832,
     "end_time": "2025-07-28T11:00:35.091380",
     "exception": false,
     "start_time": "2025-07-28T11:00:35.055548",
     "status": "completed"
    },
    "tags": []
   },
   "outputs": [
    {
     "name": "stdout",
     "output_type": "stream",
     "text": [
      "/dss/dsshome1/0C/ra93lal2/cma/CMA_Fairness_v2\n"
     ]
    },
    {
     "name": "stderr",
     "output_type": "stream",
     "text": [
      "/dss/dsshome1/0C/ra93lal2/.local/share/virtualenvs/CMA_Fairness_v2-3j10GkSs/lib/python3.10/site-packages/IPython/core/magics/osm.py:393: UserWarning: This is now an optional IPython functionality, using bookmarks requires you to install the `pickleshare` library.\n",
      "  bkms = self.shell.db.get('bookmarks', {})\n",
      "/dss/dsshome1/0C/ra93lal2/.local/share/virtualenvs/CMA_Fairness_v2-3j10GkSs/lib/python3.10/site-packages/IPython/core/magics/osm.py:417: UserWarning: This is now an optional IPython functionality, setting dhist requires you to install the `pickleshare` library.\n",
      "  self.shell.db['dhist'] = compress_dhist(dhist)[-100:]\n"
     ]
    }
   ],
   "source": [
    "%cd ~/cma/CMA_Fairness_v2"
   ]
  },
  {
   "cell_type": "markdown",
   "id": "de2603b9",
   "metadata": {
    "papermill": {
     "duration": 0.01757,
     "end_time": "2025-07-28T11:00:35.127201",
     "exception": false,
     "start_time": "2025-07-28T11:00:35.109631",
     "status": "completed"
    },
    "tags": []
   },
   "source": [
    "The following cell holds the definition of our parameters, these values can be overriden by rendering the with e.g. the following command:\n",
    "\n",
    "papermill -p alpha 0.2 -p ratio 0.3 universe_analysis.ipynb output/test_run.ipynb"
   ]
  },
  {
   "cell_type": "code",
   "execution_count": 2,
   "id": "a80968a0-40bb-4fa9-85ef-2d5eefb01975",
   "metadata": {
    "execution": {
     "iopub.execute_input": "2025-07-28T11:00:35.167266Z",
     "iopub.status.busy": "2025-07-28T11:00:35.166836Z",
     "iopub.status.idle": "2025-07-28T11:00:35.171978Z",
     "shell.execute_reply": "2025-07-28T11:00:35.171081Z"
    },
    "papermill": {
     "duration": 0.026103,
     "end_time": "2025-07-28T11:00:35.173721",
     "exception": false,
     "start_time": "2025-07-28T11:00:35.147618",
     "status": "completed"
    },
    "tags": []
   },
   "outputs": [
    {
     "name": "stdout",
     "output_type": "stream",
     "text": [
      "Current working directory: /dss/dsshome1/0C/ra93lal2/cma/CMA_Fairness_v2\n"
     ]
    }
   ],
   "source": [
    "import os\n",
    "print(\"Current working directory:\", os.getcwd())"
   ]
  },
  {
   "cell_type": "code",
   "execution_count": 3,
   "id": "2dce4c03",
   "metadata": {
    "execution": {
     "iopub.execute_input": "2025-07-28T11:00:35.215135Z",
     "iopub.status.busy": "2025-07-28T11:00:35.214477Z",
     "iopub.status.idle": "2025-07-28T11:00:35.220790Z",
     "shell.execute_reply": "2025-07-28T11:00:35.219880Z"
    },
    "papermill": {
     "duration": 0.028606,
     "end_time": "2025-07-28T11:00:35.222509",
     "exception": false,
     "start_time": "2025-07-28T11:00:35.193903",
     "status": "completed"
    },
    "tags": [
     "parameters"
    ]
   },
   "outputs": [],
   "source": [
    "run_no = 0\n",
    "universe_id = \"test\"\n",
    "universe = {\n",
    "    \"training_size\": \"2014\", # \"25k\", \"5k\", \"1k\", \"2014\"\n",
    "    \"scale\": \"scale\", # \"scale\", \"do-not-scale\",\n",
    "    #\"stratify_split\": \"target\", # \"none\", \"target\", \"protected-attribute\", \"both\",\n",
    "    \"model\": \"elasticnet\", # \"logreg\", \"penalized_logreg\", \"rf\", \"gbm\", \"elasticnet\"\n",
    "    \"cutoff\": [\"quantile_0.15\", \"quantile_0.30\"],\n",
    "    \"exclude_features\": \"age\", # \"none\", \"nationality\", \"sex\", \"nationality-sex\", \"age\"\n",
    "    \"exclude_subgroups\": \"keep-all\", # \"keep-all\", \"drop-non-german\"\n",
    "    \"eval_fairness_grouping\": [\"majority-minority\", \"nationality-all\"]\n",
    "}\n",
    "\n",
    "output_dir=\"./output\"\n",
    "seed=0"
   ]
  },
  {
   "cell_type": "code",
   "execution_count": 4,
   "id": "d38f6b96",
   "metadata": {
    "execution": {
     "iopub.execute_input": "2025-07-28T11:00:35.264482Z",
     "iopub.status.busy": "2025-07-28T11:00:35.263747Z",
     "iopub.status.idle": "2025-07-28T11:00:35.269395Z",
     "shell.execute_reply": "2025-07-28T11:00:35.268374Z"
    },
    "papermill": {
     "duration": 0.028639,
     "end_time": "2025-07-28T11:00:35.271058",
     "exception": false,
     "start_time": "2025-07-28T11:00:35.242419",
     "status": "completed"
    },
    "tags": [
     "injected-parameters"
    ]
   },
   "outputs": [],
   "source": [
    "# Parameters\n",
    "universe_id = \"e572eb3fa8b922a47f7dc060e0d14e61\"\n",
    "run_no = \"11\"\n",
    "universe = \"{\\\"cutoff\\\": [\\\"quantile_0.1\\\", \\\"quantile_0.25\\\"], \\\"eval_fairness_grouping\\\": [\\\"majority-minority\\\", \\\"nationality-all\\\"], \\\"exclude_features\\\": \\\"none\\\", \\\"exclude_subgroups\\\": \\\"drop-non-german\\\", \\\"model\\\": \\\"elasticnet\\\", \\\"scale\\\": \\\"scale\\\", \\\"training_size\\\": \\\"2014\\\"}\"\n",
    "output_dir = \"output\"\n",
    "seed = \"2023\"\n"
   ]
  },
  {
   "cell_type": "code",
   "execution_count": 5,
   "id": "1650acaf",
   "metadata": {
    "execution": {
     "iopub.execute_input": "2025-07-28T11:00:35.311717Z",
     "iopub.status.busy": "2025-07-28T11:00:35.310999Z",
     "iopub.status.idle": "2025-07-28T11:00:35.316413Z",
     "shell.execute_reply": "2025-07-28T11:00:35.315397Z"
    },
    "papermill": {
     "duration": 0.027269,
     "end_time": "2025-07-28T11:00:35.318147",
     "exception": false,
     "start_time": "2025-07-28T11:00:35.290878",
     "status": "completed"
    },
    "tags": []
   },
   "outputs": [],
   "source": [
    "import json\n",
    "# Parse universe into dict if it is passed as a string\n",
    "if isinstance(universe, str):\n",
    "    universe = json.loads(universe)"
   ]
  },
  {
   "cell_type": "code",
   "execution_count": 6,
   "id": "16620c48",
   "metadata": {
    "execution": {
     "iopub.execute_input": "2025-07-28T11:00:35.360964Z",
     "iopub.status.busy": "2025-07-28T11:00:35.359781Z",
     "iopub.status.idle": "2025-07-28T11:00:35.407245Z",
     "shell.execute_reply": "2025-07-28T11:00:35.406174Z"
    },
    "papermill": {
     "duration": 0.071347,
     "end_time": "2025-07-28T11:00:35.409948",
     "exception": false,
     "start_time": "2025-07-28T11:00:35.338601",
     "status": "completed"
    },
    "tags": []
   },
   "outputs": [],
   "source": [
    "# Auto-reload the custom package\n",
    "%load_ext autoreload\n",
    "%autoreload 1\n",
    "%aimport fairness_multiverse"
   ]
  },
  {
   "cell_type": "code",
   "execution_count": 7,
   "id": "01c5c9f3",
   "metadata": {
    "execution": {
     "iopub.execute_input": "2025-07-28T11:00:35.462594Z",
     "iopub.status.busy": "2025-07-28T11:00:35.461897Z",
     "iopub.status.idle": "2025-07-28T11:00:37.451113Z",
     "shell.execute_reply": "2025-07-28T11:00:37.449938Z"
    },
    "papermill": {
     "duration": 2.018245,
     "end_time": "2025-07-28T11:00:37.453464",
     "exception": false,
     "start_time": "2025-07-28T11:00:35.435219",
     "status": "completed"
    },
    "tags": []
   },
   "outputs": [],
   "source": [
    "from fairness_multiverse.universe import UniverseAnalysis\n",
    "\n",
    "universe_analysis = UniverseAnalysis(\n",
    "    run_no = run_no,\n",
    "    universe_id = universe_id,\n",
    "    universe = universe,\n",
    "    output_dir=output_dir,\n",
    ")"
   ]
  },
  {
   "cell_type": "code",
   "execution_count": 8,
   "id": "106241f5",
   "metadata": {
    "execution": {
     "iopub.execute_input": "2025-07-28T11:00:37.497548Z",
     "iopub.status.busy": "2025-07-28T11:00:37.496561Z",
     "iopub.status.idle": "2025-07-28T11:00:37.503970Z",
     "shell.execute_reply": "2025-07-28T11:00:37.502915Z"
    },
    "papermill": {
     "duration": 0.030616,
     "end_time": "2025-07-28T11:00:37.505636",
     "exception": false,
     "start_time": "2025-07-28T11:00:37.475020",
     "status": "completed"
    },
    "tags": []
   },
   "outputs": [
    {
     "name": "stdout",
     "output_type": "stream",
     "text": [
      "Using Seed: 2023\n"
     ]
    }
   ],
   "source": [
    "import numpy as np\n",
    "parsed_seed = int(seed)\n",
    "np.random.seed(parsed_seed)\n",
    "print(f\"Using Seed: {parsed_seed}\")"
   ]
  },
  {
   "cell_type": "markdown",
   "id": "e0ebdc57",
   "metadata": {
    "papermill": {
     "duration": 0.012337,
     "end_time": "2025-07-28T11:00:37.530677",
     "exception": false,
     "start_time": "2025-07-28T11:00:37.518340",
     "status": "completed"
    },
    "tags": []
   },
   "source": [
    "# Loading Data"
   ]
  },
  {
   "cell_type": "markdown",
   "id": "681925a3",
   "metadata": {
    "papermill": {
     "duration": 0.010819,
     "end_time": "2025-07-28T11:00:37.552406",
     "exception": false,
     "start_time": "2025-07-28T11:00:37.541587",
     "status": "completed"
    },
    "tags": []
   },
   "source": [
    "Load siab_train, siab_test, siab_calib and/or \n",
    "load siab_train_features, siab_train_labels"
   ]
  },
  {
   "cell_type": "code",
   "execution_count": 9,
   "id": "f0496b8a",
   "metadata": {
    "execution": {
     "iopub.execute_input": "2025-07-28T11:00:37.575417Z",
     "iopub.status.busy": "2025-07-28T11:00:37.575047Z",
     "iopub.status.idle": "2025-07-28T11:00:47.260764Z",
     "shell.execute_reply": "2025-07-28T11:00:47.259623Z"
    },
    "papermill": {
     "duration": 9.699069,
     "end_time": "2025-07-28T11:00:47.262158",
     "exception": false,
     "start_time": "2025-07-28T11:00:37.563089",
     "status": "completed"
    },
    "tags": []
   },
   "outputs": [
    {
     "name": "stdout",
     "output_type": "stream",
     "text": [
      "Loading SIAB data from cache: data/siab_cached.csv.gz\n"
     ]
    },
    {
     "name": "stdout",
     "output_type": "stream",
     "text": [
      "(643690, 164)\n"
     ]
    }
   ],
   "source": [
    "from pathlib import Path\n",
    "import pandas as pd\n",
    "\n",
    "# File paths\n",
    "raw_file = Path(\"data/raw/siab.csv\")\n",
    "cache_file = Path(\"data/siab_cached.csv.gz\")\n",
    "\n",
    "# Ensure cache directory exists\n",
    "cache_file.parent.mkdir(parents=True, exist_ok=True)\n",
    "\n",
    "# Load with simple caching\n",
    "if cache_file.exists():\n",
    "    print(f\"Loading SIAB data from cache: {cache_file}\")\n",
    "    siab = pd.read_csv(cache_file, compression='gzip')\n",
    "else:\n",
    "    print(f\"Cache not found. Reading raw SIAB data: {raw_file}\")\n",
    "    siab = pd.read_csv(raw_file)\n",
    "    siab.to_csv(cache_file, index=False, compression='gzip')\n",
    "    print(f\"Cached SIAB data to: {cache_file}\")\n",
    "\n",
    "# Now use `siab` DataFrame as needed\n",
    "print(siab.shape)"
   ]
  },
  {
   "cell_type": "code",
   "execution_count": 10,
   "id": "db0ca512-5f53-4dba-abdb-a2888bca41ba",
   "metadata": {
    "execution": {
     "iopub.execute_input": "2025-07-28T11:00:47.288203Z",
     "iopub.status.busy": "2025-07-28T11:00:47.287593Z",
     "iopub.status.idle": "2025-07-28T11:00:47.293419Z",
     "shell.execute_reply": "2025-07-28T11:00:47.292727Z"
    },
    "papermill": {
     "duration": 0.019068,
     "end_time": "2025-07-28T11:00:47.294897",
     "exception": false,
     "start_time": "2025-07-28T11:00:47.275829",
     "status": "completed"
    },
    "tags": []
   },
   "outputs": [],
   "source": [
    "#siab"
   ]
  },
  {
   "cell_type": "code",
   "execution_count": 11,
   "id": "a0edb063",
   "metadata": {
    "execution": {
     "iopub.execute_input": "2025-07-28T11:00:47.318328Z",
     "iopub.status.busy": "2025-07-28T11:00:47.317879Z",
     "iopub.status.idle": "2025-07-28T11:00:47.322259Z",
     "shell.execute_reply": "2025-07-28T11:00:47.321424Z"
    },
    "papermill": {
     "duration": 0.017186,
     "end_time": "2025-07-28T11:00:47.323623",
     "exception": false,
     "start_time": "2025-07-28T11:00:47.306437",
     "status": "completed"
    },
    "tags": []
   },
   "outputs": [],
   "source": [
    "#import pandas as pd\n",
    "#\n",
    "#X_train = pd.read_csv(\"./data/X_train.csv\")\n",
    "#y_train = pd.read_csv(\"./data/y_train.csv\")"
   ]
  },
  {
   "cell_type": "code",
   "execution_count": 12,
   "id": "63d08085",
   "metadata": {
    "execution": {
     "iopub.execute_input": "2025-07-28T11:00:47.347347Z",
     "iopub.status.busy": "2025-07-28T11:00:47.346768Z",
     "iopub.status.idle": "2025-07-28T11:00:47.351531Z",
     "shell.execute_reply": "2025-07-28T11:00:47.350769Z"
    },
    "papermill": {
     "duration": 0.017908,
     "end_time": "2025-07-28T11:00:47.352957",
     "exception": false,
     "start_time": "2025-07-28T11:00:47.335049",
     "status": "completed"
    },
    "tags": []
   },
   "outputs": [],
   "source": [
    "#X_test = pd.read_csv(\"./data/X_test.csv\")\n",
    "#y_true = pd.read_csv(\"./data/y_test.csv\")"
   ]
  },
  {
   "cell_type": "code",
   "execution_count": 13,
   "id": "98a8d0fa-1d3d-4ed8-bb2c-281470e24add",
   "metadata": {
    "execution": {
     "iopub.execute_input": "2025-07-28T11:00:47.376623Z",
     "iopub.status.busy": "2025-07-28T11:00:47.376005Z",
     "iopub.status.idle": "2025-07-28T11:00:47.381177Z",
     "shell.execute_reply": "2025-07-28T11:00:47.380299Z"
    },
    "papermill": {
     "duration": 0.018127,
     "end_time": "2025-07-28T11:00:47.382552",
     "exception": false,
     "start_time": "2025-07-28T11:00:47.364425",
     "status": "completed"
    },
    "tags": []
   },
   "outputs": [],
   "source": [
    "# Calibration data for conformal\n",
    "#X_calib = pd.read_csv(\"./data/X_calib.csv\")\n",
    "#y_calib = pd.read_csv(\"./data/y_calib.csv\")"
   ]
  },
  {
   "cell_type": "markdown",
   "id": "9901737e-04df-44f0-9100-f5ad144ed040",
   "metadata": {
    "papermill": {
     "duration": 0.010683,
     "end_time": "2025-07-28T11:00:47.404691",
     "exception": false,
     "start_time": "2025-07-28T11:00:47.394008",
     "status": "completed"
    },
    "tags": []
   },
   "source": [
    "# Splitting Data and Setting Training Data Size"
   ]
  },
  {
   "cell_type": "code",
   "execution_count": 14,
   "id": "acbc8f7d-8fc8-4e86-8c59-5dcb0f58384b",
   "metadata": {
    "execution": {
     "iopub.execute_input": "2025-07-28T11:00:47.427521Z",
     "iopub.status.busy": "2025-07-28T11:00:47.427153Z",
     "iopub.status.idle": "2025-07-28T11:00:47.434930Z",
     "shell.execute_reply": "2025-07-28T11:00:47.434202Z"
    },
    "papermill": {
     "duration": 0.020978,
     "end_time": "2025-07-28T11:00:47.436401",
     "exception": false,
     "start_time": "2025-07-28T11:00:47.415423",
     "status": "completed"
    },
    "tags": []
   },
   "outputs": [],
   "source": [
    "def sample_by_year(df, training_size, random_state=42):\n",
    "    if training_size == \"2014\":\n",
    "        return df[df[\"year\"] == 2014].reset_index(drop=True)\n",
    "    \n",
    "    size_map = {\n",
    "        \"25k\": 5000,\n",
    "        \"5k\": 1000,\n",
    "        \"1k\": 200\n",
    "    }\n",
    "\n",
    "    if training_size not in size_map:\n",
    "        return df.reset_index(drop=True)  # use all data\n",
    "\n",
    "    n_per_year = size_map[training_size]\n",
    "    grouped = df.groupby(\"year\")\n",
    "    sampled = grouped.apply(lambda x: x.sample(n=min(n_per_year, len(x)), random_state=random_state))\n",
    "    return sampled.reset_index(drop=True)"
   ]
  },
  {
   "cell_type": "code",
   "execution_count": 15,
   "id": "6d931f52-beaf-43ff-9e78-9d44a448d54e",
   "metadata": {
    "execution": {
     "iopub.execute_input": "2025-07-28T11:00:47.460072Z",
     "iopub.status.busy": "2025-07-28T11:00:47.459698Z",
     "iopub.status.idle": "2025-07-28T11:00:47.633633Z",
     "shell.execute_reply": "2025-07-28T11:00:47.632792Z"
    },
    "papermill": {
     "duration": 0.187435,
     "end_time": "2025-07-28T11:00:47.635278",
     "exception": false,
     "start_time": "2025-07-28T11:00:47.447843",
     "status": "completed"
    },
    "tags": []
   },
   "outputs": [],
   "source": [
    "siab_s = sample_by_year(siab, universe[\"training_size\"])"
   ]
  },
  {
   "cell_type": "code",
   "execution_count": 16,
   "id": "5db0a40e-a4e2-4920-be85-b12ae061d70d",
   "metadata": {
    "execution": {
     "iopub.execute_input": "2025-07-28T11:00:47.658590Z",
     "iopub.status.busy": "2025-07-28T11:00:47.658224Z",
     "iopub.status.idle": "2025-07-28T11:00:47.670672Z",
     "shell.execute_reply": "2025-07-28T11:00:47.669721Z"
    },
    "papermill": {
     "duration": 0.025941,
     "end_time": "2025-07-28T11:00:47.672340",
     "exception": false,
     "start_time": "2025-07-28T11:00:47.646399",
     "status": "completed"
    },
    "tags": []
   },
   "outputs": [
    {
     "data": {
      "text/plain": [
       "year\n",
       "2014    87158\n",
       "dtype: int64"
      ]
     },
     "metadata": {},
     "output_type": "display_data"
    }
   ],
   "source": [
    "display(siab_s.groupby(\"year\").size())"
   ]
  },
  {
   "cell_type": "code",
   "execution_count": 17,
   "id": "a561edb4-d032-42cb-8256-22eac1111c64",
   "metadata": {
    "execution": {
     "iopub.execute_input": "2025-07-28T11:00:47.696183Z",
     "iopub.status.busy": "2025-07-28T11:00:47.695576Z",
     "iopub.status.idle": "2025-07-28T11:00:48.001078Z",
     "shell.execute_reply": "2025-07-28T11:00:47.999701Z"
    },
    "papermill": {
     "duration": 0.319396,
     "end_time": "2025-07-28T11:00:48.002867",
     "exception": false,
     "start_time": "2025-07-28T11:00:47.683471",
     "status": "completed"
    },
    "tags": []
   },
   "outputs": [],
   "source": [
    "siab_train = siab_s[siab_s.year < 2015]\n",
    "siab_calib = siab[siab.year == 2015]\n",
    "siab_test = siab[siab.year == 2016]"
   ]
  },
  {
   "cell_type": "code",
   "execution_count": 18,
   "id": "472de16f-c3db-4916-846b-1f0de9cf1746",
   "metadata": {
    "execution": {
     "iopub.execute_input": "2025-07-28T11:00:48.026979Z",
     "iopub.status.busy": "2025-07-28T11:00:48.026438Z",
     "iopub.status.idle": "2025-07-28T11:00:48.081807Z",
     "shell.execute_reply": "2025-07-28T11:00:48.080942Z"
    },
    "papermill": {
     "duration": 0.068205,
     "end_time": "2025-07-28T11:00:48.083190",
     "exception": false,
     "start_time": "2025-07-28T11:00:48.014985",
     "status": "completed"
    },
    "tags": []
   },
   "outputs": [],
   "source": [
    "X_train = siab_train.iloc[:,4:164]\n",
    "y_train = siab_train.iloc[:, [3]]"
   ]
  },
  {
   "cell_type": "code",
   "execution_count": 19,
   "id": "828c96af-f43a-4ed6-ba47-8ac73a47d56c",
   "metadata": {
    "execution": {
     "iopub.execute_input": "2025-07-28T11:00:48.126581Z",
     "iopub.status.busy": "2025-07-28T11:00:48.126099Z",
     "iopub.status.idle": "2025-07-28T11:00:48.185342Z",
     "shell.execute_reply": "2025-07-28T11:00:48.184181Z"
    },
    "papermill": {
     "duration": 0.081325,
     "end_time": "2025-07-28T11:00:48.187214",
     "exception": false,
     "start_time": "2025-07-28T11:00:48.105889",
     "status": "completed"
    },
    "tags": []
   },
   "outputs": [],
   "source": [
    "X_calib = siab_calib.iloc[:,4:164]\n",
    "y_calib = siab_calib.iloc[:, [3]]"
   ]
  },
  {
   "cell_type": "code",
   "execution_count": 20,
   "id": "c34be9c3-6bd6-476e-acd3-845840e303be",
   "metadata": {
    "execution": {
     "iopub.execute_input": "2025-07-28T11:00:48.234873Z",
     "iopub.status.busy": "2025-07-28T11:00:48.234227Z",
     "iopub.status.idle": "2025-07-28T11:00:48.290472Z",
     "shell.execute_reply": "2025-07-28T11:00:48.289358Z"
    },
    "papermill": {
     "duration": 0.081591,
     "end_time": "2025-07-28T11:00:48.292359",
     "exception": false,
     "start_time": "2025-07-28T11:00:48.210768",
     "status": "completed"
    },
    "tags": []
   },
   "outputs": [],
   "source": [
    "X_test = siab_test.iloc[:,4:164]\n",
    "y_true = siab_test.iloc[:, [3]]"
   ]
  },
  {
   "cell_type": "code",
   "execution_count": 21,
   "id": "e6c733c5",
   "metadata": {
    "execution": {
     "iopub.execute_input": "2025-07-28T11:00:48.321769Z",
     "iopub.status.busy": "2025-07-28T11:00:48.321236Z",
     "iopub.status.idle": "2025-07-28T11:00:48.462102Z",
     "shell.execute_reply": "2025-07-28T11:00:48.461261Z"
    },
    "papermill": {
     "duration": 0.155314,
     "end_time": "2025-07-28T11:00:48.463758",
     "exception": false,
     "start_time": "2025-07-28T11:00:48.308444",
     "status": "completed"
    },
    "tags": []
   },
   "outputs": [],
   "source": [
    "# Auxiliary data needed downstream in the pipeline\n",
    "\n",
    "org_train = X_train.copy()\n",
    "org_test = X_test.copy()\n",
    "org_calib = X_calib.copy()"
   ]
  },
  {
   "cell_type": "markdown",
   "id": "0a4a1b33",
   "metadata": {
    "papermill": {
     "duration": 0.011138,
     "end_time": "2025-07-28T11:00:48.486367",
     "exception": false,
     "start_time": "2025-07-28T11:00:48.475229",
     "status": "completed"
    },
    "tags": []
   },
   "source": [
    "# Preprocessing Data"
   ]
  },
  {
   "cell_type": "code",
   "execution_count": 22,
   "id": "ca879031",
   "metadata": {
    "execution": {
     "iopub.execute_input": "2025-07-28T11:00:48.526455Z",
     "iopub.status.busy": "2025-07-28T11:00:48.525690Z",
     "iopub.status.idle": "2025-07-28T11:00:48.532723Z",
     "shell.execute_reply": "2025-07-28T11:00:48.531719Z"
    },
    "papermill": {
     "duration": 0.032069,
     "end_time": "2025-07-28T11:00:48.534456",
     "exception": false,
     "start_time": "2025-07-28T11:00:48.502387",
     "status": "completed"
    },
    "tags": []
   },
   "outputs": [],
   "source": [
    "# EXCLUDE PROTECTED FEATURES\n",
    "# ----------------------\n",
    "# \"exclude_features\": \"none\", # \"nationality\", \"sex\", \"nationality-sex\"\n",
    "\n",
    "excluded_features = universe[\"exclude_features\"].split(\"-\") # split, e.g.: \"nationality-sex\" -> [\"nationality\", \"sex\"]\n",
    "excluded_features_dictionary = {\n",
    "    \"nationality\": [\"maxdeutsch1\", \"maxdeutsch.Missing.\"],\n",
    "    \"sex\": [\"frau1\"],\n",
    "    \"age\": [\"age\"],\n",
    "}\n"
   ]
  },
  {
   "cell_type": "code",
   "execution_count": 23,
   "id": "b745ac60",
   "metadata": {
    "execution": {
     "iopub.execute_input": "2025-07-28T11:00:48.578153Z",
     "iopub.status.busy": "2025-07-28T11:00:48.577679Z",
     "iopub.status.idle": "2025-07-28T11:00:48.584056Z",
     "shell.execute_reply": "2025-07-28T11:00:48.583060Z"
    },
    "papermill": {
     "duration": 0.029862,
     "end_time": "2025-07-28T11:00:48.585961",
     "exception": false,
     "start_time": "2025-07-28T11:00:48.556099",
     "status": "completed"
    },
    "tags": []
   },
   "outputs": [],
   "source": [
    "# Code nice names to column names\n",
    "\n",
    "excluded_features_columns = [\n",
    "    excluded_features_dictionary[f] for f in excluded_features if len(f) > 0 and f != \"none\"\n",
    "]"
   ]
  },
  {
   "cell_type": "code",
   "execution_count": 24,
   "id": "f84f73a2",
   "metadata": {
    "execution": {
     "iopub.execute_input": "2025-07-28T11:00:48.633005Z",
     "iopub.status.busy": "2025-07-28T11:00:48.632273Z",
     "iopub.status.idle": "2025-07-28T11:00:48.640735Z",
     "shell.execute_reply": "2025-07-28T11:00:48.639382Z"
    },
    "papermill": {
     "duration": 0.034018,
     "end_time": "2025-07-28T11:00:48.642797",
     "exception": false,
     "start_time": "2025-07-28T11:00:48.608779",
     "status": "completed"
    },
    "tags": []
   },
   "outputs": [],
   "source": [
    "from utils import flatten_once\n",
    "\n",
    "excluded_features_columns = flatten_once(excluded_features_columns)"
   ]
  },
  {
   "cell_type": "code",
   "execution_count": 25,
   "id": "884dea22",
   "metadata": {
    "execution": {
     "iopub.execute_input": "2025-07-28T11:00:48.690489Z",
     "iopub.status.busy": "2025-07-28T11:00:48.689562Z",
     "iopub.status.idle": "2025-07-28T11:00:48.697066Z",
     "shell.execute_reply": "2025-07-28T11:00:48.695750Z"
    },
    "papermill": {
     "duration": 0.033306,
     "end_time": "2025-07-28T11:00:48.698716",
     "exception": false,
     "start_time": "2025-07-28T11:00:48.665410",
     "status": "completed"
    },
    "tags": []
   },
   "outputs": [],
   "source": [
    "if len(excluded_features_columns) > 0:\n",
    "    print(f\"Dropping features: {excluded_features_columns}\")\n",
    "    X_train.drop(excluded_features_columns, axis=1, inplace=True)"
   ]
  },
  {
   "cell_type": "code",
   "execution_count": 26,
   "id": "95ab8b16",
   "metadata": {
    "execution": {
     "iopub.execute_input": "2025-07-28T11:00:48.746125Z",
     "iopub.status.busy": "2025-07-28T11:00:48.745420Z",
     "iopub.status.idle": "2025-07-28T11:00:48.752768Z",
     "shell.execute_reply": "2025-07-28T11:00:48.751561Z"
    },
    "papermill": {
     "duration": 0.033529,
     "end_time": "2025-07-28T11:00:48.754610",
     "exception": false,
     "start_time": "2025-07-28T11:00:48.721081",
     "status": "completed"
    },
    "tags": []
   },
   "outputs": [],
   "source": [
    "if len(excluded_features_columns) > 0:\n",
    "    print(f\"Dropping features: {excluded_features_columns}\")\n",
    "    X_test.drop(excluded_features_columns, axis=1, inplace=True)"
   ]
  },
  {
   "cell_type": "code",
   "execution_count": 27,
   "id": "1853aaf5-fb9f-46cb-a2b5-8ea4ae2237e4",
   "metadata": {
    "execution": {
     "iopub.execute_input": "2025-07-28T11:00:48.802773Z",
     "iopub.status.busy": "2025-07-28T11:00:48.802035Z",
     "iopub.status.idle": "2025-07-28T11:00:48.809451Z",
     "shell.execute_reply": "2025-07-28T11:00:48.808155Z"
    },
    "papermill": {
     "duration": 0.033057,
     "end_time": "2025-07-28T11:00:48.811302",
     "exception": false,
     "start_time": "2025-07-28T11:00:48.778245",
     "status": "completed"
    },
    "tags": []
   },
   "outputs": [],
   "source": [
    "if len(excluded_features_columns) > 0:\n",
    "    print(f\"Dropping features: {excluded_features_columns}\")\n",
    "    X_calib.drop(excluded_features_columns, axis=1, inplace=True)"
   ]
  },
  {
   "cell_type": "code",
   "execution_count": 28,
   "id": "6727d079-03e5-481e-9d38-292a90b7a0a8",
   "metadata": {
    "execution": {
     "iopub.execute_input": "2025-07-28T11:00:48.858282Z",
     "iopub.status.busy": "2025-07-28T11:00:48.857964Z",
     "iopub.status.idle": "2025-07-28T11:00:48.861826Z",
     "shell.execute_reply": "2025-07-28T11:00:48.861119Z"
    },
    "papermill": {
     "duration": 0.031311,
     "end_time": "2025-07-28T11:00:48.865673",
     "exception": false,
     "start_time": "2025-07-28T11:00:48.834362",
     "status": "completed"
    },
    "tags": []
   },
   "outputs": [],
   "source": [
    "# SPLIT & STRATIFY DATA\n",
    "# ----------------------"
   ]
  },
  {
   "cell_type": "code",
   "execution_count": 29,
   "id": "76c4dc6d",
   "metadata": {
    "execution": {
     "iopub.execute_input": "2025-07-28T11:00:48.890428Z",
     "iopub.status.busy": "2025-07-28T11:00:48.890064Z",
     "iopub.status.idle": "2025-07-28T11:00:48.895127Z",
     "shell.execute_reply": "2025-07-28T11:00:48.894397Z"
    },
    "papermill": {
     "duration": 0.018964,
     "end_time": "2025-07-28T11:00:48.896541",
     "exception": false,
     "start_time": "2025-07-28T11:00:48.877577",
     "status": "completed"
    },
    "tags": []
   },
   "outputs": [],
   "source": [
    "# EXCLUDE CERTAIN SUBGROUPS\n",
    "# ----------------------\n",
    "\n",
    "mode = universe.get(\"exclude_subgroups\", \"keep-all\") \n",
    "# Fetches the exclude_subgroups setting from the universe dict.\n",
    "# Defaults to \"keep-all\" if the key is missing."
   ]
  },
  {
   "cell_type": "code",
   "execution_count": 30,
   "id": "21994072",
   "metadata": {
    "execution": {
     "iopub.execute_input": "2025-07-28T11:00:48.945585Z",
     "iopub.status.busy": "2025-07-28T11:00:48.945006Z",
     "iopub.status.idle": "2025-07-28T11:00:48.954085Z",
     "shell.execute_reply": "2025-07-28T11:00:48.952813Z"
    },
    "papermill": {
     "duration": 0.045797,
     "end_time": "2025-07-28T11:00:48.956045",
     "exception": false,
     "start_time": "2025-07-28T11:00:48.910248",
     "status": "completed"
    },
    "tags": []
   },
   "outputs": [],
   "source": [
    "if mode == \"keep-all\":\n",
    "    keep_mask = pd.Series(True, index=org_train.index)\n",
    "\n",
    "# org_train contains the original feature columns from features_org (in Simson)\n",
    "# features_org contains unprocessed features, for me X_train at beginning ???\n",
    "# For keep-all, creates a boolean Series (keep_mask) of all True, so no rows are removed.\n",
    "\n",
    "elif mode == \"drop-non-german\":\n",
    "    keep_mask = org_train[\"maxdeutsch1\"] == 1 # ??? what about missing values?\n",
    "\n",
    "else:\n",
    "    raise ValueError(f\"Unsupported mode for exclude_subgroups: {mode}\")\n"
   ]
  },
  {
   "cell_type": "code",
   "execution_count": 31,
   "id": "71651440",
   "metadata": {
    "execution": {
     "iopub.execute_input": "2025-07-28T11:00:49.003719Z",
     "iopub.status.busy": "2025-07-28T11:00:49.002897Z",
     "iopub.status.idle": "2025-07-28T11:00:49.013317Z",
     "shell.execute_reply": "2025-07-28T11:00:49.012091Z"
    },
    "papermill": {
     "duration": 0.035551,
     "end_time": "2025-07-28T11:00:49.015204",
     "exception": false,
     "start_time": "2025-07-28T11:00:48.979653",
     "status": "completed"
    },
    "tags": []
   },
   "outputs": [
    {
     "name": "stdout",
     "output_type": "stream",
     "text": [
      "Dropping 12995 rows (14.91%) where mode='drop-non-german'\n"
     ]
    }
   ],
   "source": [
    "n_drop = (~keep_mask).sum() # Calculates how many rows are set to be dropped\n",
    "if n_drop > 0:\n",
    "    pct = n_drop / len(keep_mask) * 100\n",
    "    print(f\"Dropping {n_drop} rows ({pct:.2f}%) where mode='{mode}'\")"
   ]
  },
  {
   "cell_type": "code",
   "execution_count": 32,
   "id": "5fb8eee5",
   "metadata": {
    "execution": {
     "iopub.execute_input": "2025-07-28T11:00:49.061710Z",
     "iopub.status.busy": "2025-07-28T11:00:49.060807Z",
     "iopub.status.idle": "2025-07-28T11:00:49.100672Z",
     "shell.execute_reply": "2025-07-28T11:00:49.099499Z"
    },
    "papermill": {
     "duration": 0.06555,
     "end_time": "2025-07-28T11:00:49.103574",
     "exception": false,
     "start_time": "2025-07-28T11:00:49.038024",
     "status": "completed"
    },
    "tags": []
   },
   "outputs": [],
   "source": [
    "X_train = X_train[keep_mask]"
   ]
  },
  {
   "cell_type": "code",
   "execution_count": 33,
   "id": "b202bb3a",
   "metadata": {
    "execution": {
     "iopub.execute_input": "2025-07-28T11:00:49.148010Z",
     "iopub.status.busy": "2025-07-28T11:00:49.147553Z",
     "iopub.status.idle": "2025-07-28T11:00:49.156105Z",
     "shell.execute_reply": "2025-07-28T11:00:49.154824Z"
    },
    "papermill": {
     "duration": 0.033638,
     "end_time": "2025-07-28T11:00:49.158021",
     "exception": false,
     "start_time": "2025-07-28T11:00:49.124383",
     "status": "completed"
    },
    "tags": []
   },
   "outputs": [],
   "source": [
    "y_train = y_train[keep_mask]"
   ]
  },
  {
   "cell_type": "markdown",
   "id": "493e2ac3",
   "metadata": {
    "papermill": {
     "duration": 0.021843,
     "end_time": "2025-07-28T11:00:49.203163",
     "exception": false,
     "start_time": "2025-07-28T11:00:49.181320",
     "status": "completed"
    },
    "tags": []
   },
   "source": [
    "# Model Training"
   ]
  },
  {
   "cell_type": "code",
   "execution_count": 34,
   "id": "679e1268",
   "metadata": {
    "execution": {
     "iopub.execute_input": "2025-07-28T11:00:49.250735Z",
     "iopub.status.busy": "2025-07-28T11:00:49.249985Z",
     "iopub.status.idle": "2025-07-28T11:00:49.374183Z",
     "shell.execute_reply": "2025-07-28T11:00:49.373127Z"
    },
    "papermill": {
     "duration": 0.150535,
     "end_time": "2025-07-28T11:00:49.376458",
     "exception": false,
     "start_time": "2025-07-28T11:00:49.225923",
     "status": "completed"
    },
    "tags": []
   },
   "outputs": [],
   "source": [
    "from sklearn.linear_model import LogisticRegression\n",
    "from sklearn.ensemble import GradientBoostingClassifier, RandomForestClassifier\n",
    "\n",
    "if (universe[\"model\"] == \"logreg\"):\n",
    "    model = LogisticRegression() #penalty=\"none\") #, solver=\"newton-cg\", max_iter=1) # include random_state=19 ?\n",
    "elif (universe[\"model\"] == \"penalized_logreg\"):\n",
    "    model = LogisticRegression(penalty=\"l2\", C=1.0) #, solver=\"newton-cg\", max_iter=1)\n",
    "elif (universe[\"model\"] == \"rf\"):\n",
    "    model = RandomForestClassifier(n_estimators=100, n_jobs=-1)\n",
    "elif (universe[\"model\"] == \"gbm\"):\n",
    "    model = GradientBoostingClassifier()\n",
    "elif (universe[\"model\"] == \"elasticnet\"):\n",
    "    model = LogisticRegression(penalty = 'elasticnet', solver = 'saga', l1_ratio = 0.5, max_iter=5000) # which solver to use?\n",
    "else:\n",
    "    raise \"Unsupported universe.model\""
   ]
  },
  {
   "cell_type": "code",
   "execution_count": 35,
   "id": "0cc8f744",
   "metadata": {
    "execution": {
     "iopub.execute_input": "2025-07-28T11:00:49.423068Z",
     "iopub.status.busy": "2025-07-28T11:00:49.422475Z",
     "iopub.status.idle": "2025-07-28T11:00:49.429559Z",
     "shell.execute_reply": "2025-07-28T11:00:49.428503Z"
    },
    "papermill": {
     "duration": 0.031774,
     "end_time": "2025-07-28T11:00:49.431337",
     "exception": false,
     "start_time": "2025-07-28T11:00:49.399563",
     "status": "completed"
    },
    "tags": []
   },
   "outputs": [],
   "source": [
    "import numpy as np\n",
    "from sklearn.pipeline import Pipeline\n",
    "from sklearn.preprocessing import StandardScaler\n",
    "\n",
    "model = Pipeline([\n",
    "    #(\"continuous_processor\", continuous_processor),\n",
    "    #(\"categorical_preprocessor\", categorical_preprocessor),\n",
    "    (\"scale\", StandardScaler() if universe[\"scale\"] == \"scale\" else None), \n",
    "    (\"model\", model),\n",
    "])"
   ]
  },
  {
   "cell_type": "code",
   "execution_count": 36,
   "id": "9442c04d",
   "metadata": {
    "execution": {
     "iopub.execute_input": "2025-07-28T11:00:49.479800Z",
     "iopub.status.busy": "2025-07-28T11:00:49.479327Z",
     "iopub.status.idle": "2025-07-28T11:01:23.282110Z",
     "shell.execute_reply": "2025-07-28T11:01:23.280957Z"
    },
    "papermill": {
     "duration": 33.83995,
     "end_time": "2025-07-28T11:01:23.294311",
     "exception": false,
     "start_time": "2025-07-28T11:00:49.454361",
     "status": "completed"
    },
    "tags": []
   },
   "outputs": [
    {
     "data": {
      "text/html": [
       "<style>#sk-container-id-1 {color: black;background-color: white;}#sk-container-id-1 pre{padding: 0;}#sk-container-id-1 div.sk-toggleable {background-color: white;}#sk-container-id-1 label.sk-toggleable__label {cursor: pointer;display: block;width: 100%;margin-bottom: 0;padding: 0.3em;box-sizing: border-box;text-align: center;}#sk-container-id-1 label.sk-toggleable__label-arrow:before {content: \"▸\";float: left;margin-right: 0.25em;color: #696969;}#sk-container-id-1 label.sk-toggleable__label-arrow:hover:before {color: black;}#sk-container-id-1 div.sk-estimator:hover label.sk-toggleable__label-arrow:before {color: black;}#sk-container-id-1 div.sk-toggleable__content {max-height: 0;max-width: 0;overflow: hidden;text-align: left;background-color: #f0f8ff;}#sk-container-id-1 div.sk-toggleable__content pre {margin: 0.2em;color: black;border-radius: 0.25em;background-color: #f0f8ff;}#sk-container-id-1 input.sk-toggleable__control:checked~div.sk-toggleable__content {max-height: 200px;max-width: 100%;overflow: auto;}#sk-container-id-1 input.sk-toggleable__control:checked~label.sk-toggleable__label-arrow:before {content: \"▾\";}#sk-container-id-1 div.sk-estimator input.sk-toggleable__control:checked~label.sk-toggleable__label {background-color: #d4ebff;}#sk-container-id-1 div.sk-label input.sk-toggleable__control:checked~label.sk-toggleable__label {background-color: #d4ebff;}#sk-container-id-1 input.sk-hidden--visually {border: 0;clip: rect(1px 1px 1px 1px);clip: rect(1px, 1px, 1px, 1px);height: 1px;margin: -1px;overflow: hidden;padding: 0;position: absolute;width: 1px;}#sk-container-id-1 div.sk-estimator {font-family: monospace;background-color: #f0f8ff;border: 1px dotted black;border-radius: 0.25em;box-sizing: border-box;margin-bottom: 0.5em;}#sk-container-id-1 div.sk-estimator:hover {background-color: #d4ebff;}#sk-container-id-1 div.sk-parallel-item::after {content: \"\";width: 100%;border-bottom: 1px solid gray;flex-grow: 1;}#sk-container-id-1 div.sk-label:hover label.sk-toggleable__label {background-color: #d4ebff;}#sk-container-id-1 div.sk-serial::before {content: \"\";position: absolute;border-left: 1px solid gray;box-sizing: border-box;top: 0;bottom: 0;left: 50%;z-index: 0;}#sk-container-id-1 div.sk-serial {display: flex;flex-direction: column;align-items: center;background-color: white;padding-right: 0.2em;padding-left: 0.2em;position: relative;}#sk-container-id-1 div.sk-item {position: relative;z-index: 1;}#sk-container-id-1 div.sk-parallel {display: flex;align-items: stretch;justify-content: center;background-color: white;position: relative;}#sk-container-id-1 div.sk-item::before, #sk-container-id-1 div.sk-parallel-item::before {content: \"\";position: absolute;border-left: 1px solid gray;box-sizing: border-box;top: 0;bottom: 0;left: 50%;z-index: -1;}#sk-container-id-1 div.sk-parallel-item {display: flex;flex-direction: column;z-index: 1;position: relative;background-color: white;}#sk-container-id-1 div.sk-parallel-item:first-child::after {align-self: flex-end;width: 50%;}#sk-container-id-1 div.sk-parallel-item:last-child::after {align-self: flex-start;width: 50%;}#sk-container-id-1 div.sk-parallel-item:only-child::after {width: 0;}#sk-container-id-1 div.sk-dashed-wrapped {border: 1px dashed gray;margin: 0 0.4em 0.5em 0.4em;box-sizing: border-box;padding-bottom: 0.4em;background-color: white;}#sk-container-id-1 div.sk-label label {font-family: monospace;font-weight: bold;display: inline-block;line-height: 1.2em;}#sk-container-id-1 div.sk-label-container {text-align: center;}#sk-container-id-1 div.sk-container {/* jupyter's `normalize.less` sets `[hidden] { display: none; }` but bootstrap.min.css set `[hidden] { display: none !important; }` so we also need the `!important` here to be able to override the default hidden behavior on the sphinx rendered scikit-learn.org. See: https://github.com/scikit-learn/scikit-learn/issues/21755 */display: inline-block !important;position: relative;}#sk-container-id-1 div.sk-text-repr-fallback {display: none;}</style><div id=\"sk-container-id-1\" class=\"sk-top-container\"><div class=\"sk-text-repr-fallback\"><pre>Pipeline(steps=[(&#x27;scale&#x27;, StandardScaler()),\n",
       "                (&#x27;model&#x27;,\n",
       "                 LogisticRegression(l1_ratio=0.5, max_iter=5000,\n",
       "                                    penalty=&#x27;elasticnet&#x27;, solver=&#x27;saga&#x27;))])</pre><b>In a Jupyter environment, please rerun this cell to show the HTML representation or trust the notebook. <br />On GitHub, the HTML representation is unable to render, please try loading this page with nbviewer.org.</b></div><div class=\"sk-container\" hidden><div class=\"sk-item sk-dashed-wrapped\"><div class=\"sk-label-container\"><div class=\"sk-label sk-toggleable\"><input class=\"sk-toggleable__control sk-hidden--visually\" id=\"sk-estimator-id-1\" type=\"checkbox\" ><label for=\"sk-estimator-id-1\" class=\"sk-toggleable__label sk-toggleable__label-arrow\">Pipeline</label><div class=\"sk-toggleable__content\"><pre>Pipeline(steps=[(&#x27;scale&#x27;, StandardScaler()),\n",
       "                (&#x27;model&#x27;,\n",
       "                 LogisticRegression(l1_ratio=0.5, max_iter=5000,\n",
       "                                    penalty=&#x27;elasticnet&#x27;, solver=&#x27;saga&#x27;))])</pre></div></div></div><div class=\"sk-serial\"><div class=\"sk-item\"><div class=\"sk-estimator sk-toggleable\"><input class=\"sk-toggleable__control sk-hidden--visually\" id=\"sk-estimator-id-2\" type=\"checkbox\" ><label for=\"sk-estimator-id-2\" class=\"sk-toggleable__label sk-toggleable__label-arrow\">StandardScaler</label><div class=\"sk-toggleable__content\"><pre>StandardScaler()</pre></div></div></div><div class=\"sk-item\"><div class=\"sk-estimator sk-toggleable\"><input class=\"sk-toggleable__control sk-hidden--visually\" id=\"sk-estimator-id-3\" type=\"checkbox\" ><label for=\"sk-estimator-id-3\" class=\"sk-toggleable__label sk-toggleable__label-arrow\">LogisticRegression</label><div class=\"sk-toggleable__content\"><pre>LogisticRegression(l1_ratio=0.5, max_iter=5000, penalty=&#x27;elasticnet&#x27;,\n",
       "                   solver=&#x27;saga&#x27;)</pre></div></div></div></div></div></div></div>"
      ],
      "text/plain": [
       "Pipeline(steps=[('scale', StandardScaler()),\n",
       "                ('model',\n",
       "                 LogisticRegression(l1_ratio=0.5, max_iter=5000,\n",
       "                                    penalty='elasticnet', solver='saga'))])"
      ]
     },
     "execution_count": 36,
     "metadata": {},
     "output_type": "execute_result"
    }
   ],
   "source": [
    "model.fit(X_train, y_train.values.ravel())"
   ]
  },
  {
   "cell_type": "code",
   "execution_count": 37,
   "id": "af59f8c0",
   "metadata": {
    "execution": {
     "iopub.execute_input": "2025-07-28T11:01:23.333167Z",
     "iopub.status.busy": "2025-07-28T11:01:23.332783Z",
     "iopub.status.idle": "2025-07-28T11:01:23.337857Z",
     "shell.execute_reply": "2025-07-28T11:01:23.336991Z"
    },
    "papermill": {
     "duration": 0.024527,
     "end_time": "2025-07-28T11:01:23.339259",
     "exception": false,
     "start_time": "2025-07-28T11:01:23.314732",
     "status": "completed"
    },
    "tags": []
   },
   "outputs": [],
   "source": [
    "from fairness_multiverse.universe import predict_w_threshold"
   ]
  },
  {
   "cell_type": "code",
   "execution_count": 38,
   "id": "a7cf2e16",
   "metadata": {
    "execution": {
     "iopub.execute_input": "2025-07-28T11:01:23.364740Z",
     "iopub.status.busy": "2025-07-28T11:01:23.364238Z",
     "iopub.status.idle": "2025-07-28T11:01:23.566681Z",
     "shell.execute_reply": "2025-07-28T11:01:23.565850Z"
    },
    "papermill": {
     "duration": 0.216774,
     "end_time": "2025-07-28T11:01:23.568366",
     "exception": false,
     "start_time": "2025-07-28T11:01:23.351592",
     "status": "completed"
    },
    "tags": []
   },
   "outputs": [
    {
     "data": {
      "text/plain": [
       "0.8668264407535392"
      ]
     },
     "execution_count": 38,
     "metadata": {},
     "output_type": "execute_result"
    }
   ],
   "source": [
    "probs_test = model.predict_proba(X_test)\n",
    "\n",
    "'''\n",
    "Below code returns a boolean array (or binary 0/1 array depending on how it’s used) where each element \n",
    "is True if the probability of class 1 is greater than or equal to the threshold, and False otherwise.\n",
    "'''\n",
    "y_pred_default = predict_w_threshold(probs_test, 0.5)\n",
    "\n",
    "from sklearn.metrics import accuracy_score\n",
    "\n",
    "# Naive prediction\n",
    "accuracy_score(y_true = y_true, y_pred = y_pred_default)"
   ]
  },
  {
   "cell_type": "code",
   "execution_count": 39,
   "id": "081964c3",
   "metadata": {
    "execution": {
     "iopub.execute_input": "2025-07-28T11:01:23.615064Z",
     "iopub.status.busy": "2025-07-28T11:01:23.614362Z",
     "iopub.status.idle": "2025-07-28T11:01:23.814276Z",
     "shell.execute_reply": "2025-07-28T11:01:23.813363Z"
    },
    "papermill": {
     "duration": 0.224621,
     "end_time": "2025-07-28T11:01:23.815943",
     "exception": false,
     "start_time": "2025-07-28T11:01:23.591322",
     "status": "completed"
    },
    "tags": []
   },
   "outputs": [
    {
     "data": {
      "text/plain": [
       "array([0, 0, 0, ..., 0, 0, 0])"
      ]
     },
     "execution_count": 39,
     "metadata": {},
     "output_type": "execute_result"
    }
   ],
   "source": [
    "model.predict(X_test)"
   ]
  },
  {
   "cell_type": "markdown",
   "id": "56c9705b",
   "metadata": {
    "papermill": {
     "duration": 0.021278,
     "end_time": "2025-07-28T11:01:23.859305",
     "exception": false,
     "start_time": "2025-07-28T11:01:23.838027",
     "status": "completed"
    },
    "tags": []
   },
   "source": [
    "# Conformal Prediction"
   ]
  },
  {
   "cell_type": "code",
   "execution_count": 40,
   "id": "160ec6ff",
   "metadata": {
    "execution": {
     "iopub.execute_input": "2025-07-28T11:01:23.903701Z",
     "iopub.status.busy": "2025-07-28T11:01:23.902962Z",
     "iopub.status.idle": "2025-07-28T11:01:23.908181Z",
     "shell.execute_reply": "2025-07-28T11:01:23.907269Z"
    },
    "papermill": {
     "duration": 0.029322,
     "end_time": "2025-07-28T11:01:23.909824",
     "exception": false,
     "start_time": "2025-07-28T11:01:23.880502",
     "status": "completed"
    },
    "tags": []
   },
   "outputs": [],
   "source": [
    "# Miscoverage level for conformal prediction (10% allowed error rate => 90% target coverage)\n",
    "alpha = 0.1"
   ]
  },
  {
   "cell_type": "code",
   "execution_count": 41,
   "id": "eadf4555-3dd3-440e-8e35-f82a4ad9f855",
   "metadata": {
    "execution": {
     "iopub.execute_input": "2025-07-28T11:01:23.954749Z",
     "iopub.status.busy": "2025-07-28T11:01:23.954018Z",
     "iopub.status.idle": "2025-07-28T11:01:24.141032Z",
     "shell.execute_reply": "2025-07-28T11:01:24.140095Z"
    },
    "papermill": {
     "duration": 0.211594,
     "end_time": "2025-07-28T11:01:24.142986",
     "exception": false,
     "start_time": "2025-07-28T11:01:23.931392",
     "status": "completed"
    },
    "tags": []
   },
   "outputs": [],
   "source": [
    "probs_calib = model.predict_proba(X_calib)"
   ]
  },
  {
   "cell_type": "code",
   "execution_count": 42,
   "id": "2ed93547-6d5d-4983-9b36-1ecb300da49a",
   "metadata": {
    "execution": {
     "iopub.execute_input": "2025-07-28T11:01:24.190207Z",
     "iopub.status.busy": "2025-07-28T11:01:24.189480Z",
     "iopub.status.idle": "2025-07-28T11:01:24.195364Z",
     "shell.execute_reply": "2025-07-28T11:01:24.194470Z"
    },
    "papermill": {
     "duration": 0.031559,
     "end_time": "2025-07-28T11:01:24.197004",
     "exception": false,
     "start_time": "2025-07-28T11:01:24.165445",
     "status": "completed"
    },
    "tags": []
   },
   "outputs": [],
   "source": [
    "y_calib = y_calib.values.ravel().astype(int)"
   ]
  },
  {
   "cell_type": "code",
   "execution_count": 43,
   "id": "65d1320d-f588-4b38-9072-62af1ae97f7d",
   "metadata": {
    "execution": {
     "iopub.execute_input": "2025-07-28T11:01:24.242973Z",
     "iopub.status.busy": "2025-07-28T11:01:24.242257Z",
     "iopub.status.idle": "2025-07-28T11:01:24.250739Z",
     "shell.execute_reply": "2025-07-28T11:01:24.249636Z"
    },
    "papermill": {
     "duration": 0.033532,
     "end_time": "2025-07-28T11:01:24.252403",
     "exception": false,
     "start_time": "2025-07-28T11:01:24.218871",
     "status": "completed"
    },
    "tags": []
   },
   "outputs": [],
   "source": [
    "from fairness_multiverse.conformal import compute_nc_scores\n",
    "\n",
    "# Compute nonconformity scores on calibration set (1 - probability of true class)\n",
    "nc_scores = compute_nc_scores(probs_calib, y_calib)"
   ]
  },
  {
   "cell_type": "code",
   "execution_count": 44,
   "id": "df3b8ca3-53b7-43d5-9667-7c85da7aeda2",
   "metadata": {
    "execution": {
     "iopub.execute_input": "2025-07-28T11:01:24.298625Z",
     "iopub.status.busy": "2025-07-28T11:01:24.297899Z",
     "iopub.status.idle": "2025-07-28T11:01:24.305585Z",
     "shell.execute_reply": "2025-07-28T11:01:24.304742Z"
    },
    "papermill": {
     "duration": 0.032558,
     "end_time": "2025-07-28T11:01:24.307220",
     "exception": false,
     "start_time": "2025-07-28T11:01:24.274662",
     "status": "completed"
    },
    "tags": []
   },
   "outputs": [],
   "source": [
    "from fairness_multiverse.conformal import find_threshold\n",
    "\n",
    "# Find conformal threshold q_hat for the given alpha (split conformal method)\n",
    "q_hat = find_threshold(nc_scores, alpha)"
   ]
  },
  {
   "cell_type": "code",
   "execution_count": 45,
   "id": "4d29e6c1-0ef6-4aa4-b8fe-4fe79b0d033a",
   "metadata": {
    "execution": {
     "iopub.execute_input": "2025-07-28T11:01:24.353115Z",
     "iopub.status.busy": "2025-07-28T11:01:24.352461Z",
     "iopub.status.idle": "2025-07-28T11:01:24.360196Z",
     "shell.execute_reply": "2025-07-28T11:01:24.359200Z"
    },
    "papermill": {
     "duration": 0.032415,
     "end_time": "2025-07-28T11:01:24.361898",
     "exception": false,
     "start_time": "2025-07-28T11:01:24.329483",
     "status": "completed"
    },
    "tags": []
   },
   "outputs": [
    {
     "data": {
      "text/plain": [
       "0.6746775923576194"
      ]
     },
     "execution_count": 45,
     "metadata": {},
     "output_type": "execute_result"
    }
   ],
   "source": [
    "q_hat"
   ]
  },
  {
   "cell_type": "code",
   "execution_count": 46,
   "id": "92460794-cdac-4be2-ba28-f28c0515a6fb",
   "metadata": {
    "execution": {
     "iopub.execute_input": "2025-07-28T11:01:24.407654Z",
     "iopub.status.busy": "2025-07-28T11:01:24.406960Z",
     "iopub.status.idle": "2025-07-28T11:01:25.295486Z",
     "shell.execute_reply": "2025-07-28T11:01:25.294461Z"
    },
    "papermill": {
     "duration": 0.91327,
     "end_time": "2025-07-28T11:01:25.297429",
     "exception": false,
     "start_time": "2025-07-28T11:01:24.384159",
     "status": "completed"
    },
    "tags": []
   },
   "outputs": [],
   "source": [
    "from fairness_multiverse.conformal import predict_conformal_sets\n",
    "\n",
    "# Generate prediction sets for each test example\n",
    "pred_sets = predict_conformal_sets(model, X_test, q_hat)"
   ]
  },
  {
   "cell_type": "code",
   "execution_count": 47,
   "id": "d90c9a65-e6db-4f5d-80cd-e68fb7e46829",
   "metadata": {
    "execution": {
     "iopub.execute_input": "2025-07-28T11:01:25.344092Z",
     "iopub.status.busy": "2025-07-28T11:01:25.343347Z",
     "iopub.status.idle": "2025-07-28T11:01:25.349630Z",
     "shell.execute_reply": "2025-07-28T11:01:25.348706Z"
    },
    "papermill": {
     "duration": 0.031327,
     "end_time": "2025-07-28T11:01:25.351318",
     "exception": false,
     "start_time": "2025-07-28T11:01:25.319991",
     "status": "completed"
    },
    "tags": []
   },
   "outputs": [],
   "source": [
    "y_true = y_true.squeeze()"
   ]
  },
  {
   "cell_type": "code",
   "execution_count": 48,
   "id": "3a58a54a-1e68-46b9-927a-df01f18aebc8",
   "metadata": {
    "execution": {
     "iopub.execute_input": "2025-07-28T11:01:25.398887Z",
     "iopub.status.busy": "2025-07-28T11:01:25.398216Z",
     "iopub.status.idle": "2025-07-28T11:01:26.344263Z",
     "shell.execute_reply": "2025-07-28T11:01:26.343296Z"
    },
    "papermill": {
     "duration": 0.971611,
     "end_time": "2025-07-28T11:01:26.346154",
     "exception": false,
     "start_time": "2025-07-28T11:01:25.374543",
     "status": "completed"
    },
    "tags": []
   },
   "outputs": [],
   "source": [
    "from fairness_multiverse.conformal import evaluate_sets\n",
    "\n",
    "# Evaluate coverage and average set size on test data\n",
    "metrics = evaluate_sets(pred_sets, y_true)"
   ]
  },
  {
   "cell_type": "markdown",
   "id": "2b569c12-9aaa-4c88-98c9-bbcd0cf3ebb8",
   "metadata": {
    "papermill": {
     "duration": 0.02552,
     "end_time": "2025-07-28T11:01:26.395781",
     "exception": false,
     "start_time": "2025-07-28T11:01:26.370261",
     "status": "completed"
    },
    "tags": []
   },
   "source": [
    "# CP Metrics"
   ]
  },
  {
   "cell_type": "code",
   "execution_count": 49,
   "id": "5ce0a5cb-201f-45a0-ade5-94c7f0bd6095",
   "metadata": {
    "execution": {
     "iopub.execute_input": "2025-07-28T11:01:26.442946Z",
     "iopub.status.busy": "2025-07-28T11:01:26.442266Z",
     "iopub.status.idle": "2025-07-28T11:01:26.449753Z",
     "shell.execute_reply": "2025-07-28T11:01:26.448868Z"
    },
    "papermill": {
     "duration": 0.03287,
     "end_time": "2025-07-28T11:01:26.451325",
     "exception": false,
     "start_time": "2025-07-28T11:01:26.418455",
     "status": "completed"
    },
    "tags": []
   },
   "outputs": [
    {
     "data": {
      "text/plain": [
       "{'coverage': 0.9125849960985397, 'avg_size': 1.1211013264964886}"
      ]
     },
     "execution_count": 49,
     "metadata": {},
     "output_type": "execute_result"
    }
   ],
   "source": [
    "metrics"
   ]
  },
  {
   "cell_type": "code",
   "execution_count": 50,
   "id": "9b9a838d-31c9-430b-ae14-12baee460d17",
   "metadata": {
    "execution": {
     "iopub.execute_input": "2025-07-28T11:01:26.499889Z",
     "iopub.status.busy": "2025-07-28T11:01:26.499137Z",
     "iopub.status.idle": "2025-07-28T11:01:26.505677Z",
     "shell.execute_reply": "2025-07-28T11:01:26.504785Z"
    },
    "papermill": {
     "duration": 0.032598,
     "end_time": "2025-07-28T11:01:26.507297",
     "exception": false,
     "start_time": "2025-07-28T11:01:26.474699",
     "status": "completed"
    },
    "tags": []
   },
   "outputs": [],
   "source": [
    "example_universe = universe.copy()\n",
    "universe_training_size = example_universe.get(\"training_size\")\n",
    "universe_scale = example_universe.get(\"scale\")\n",
    "universe_model = example_universe.get(\"model\")\n",
    "universe_exclude_features = example_universe.get(\"exclude_features\")\n",
    "universe_exclude_subgroups = example_universe.get(\"exclude_subgroups\")"
   ]
  },
  {
   "cell_type": "code",
   "execution_count": 51,
   "id": "f4b6a8ac-9dc0-4245-8a91-5b3b5999c4f9",
   "metadata": {
    "execution": {
     "iopub.execute_input": "2025-07-28T11:01:26.554679Z",
     "iopub.status.busy": "2025-07-28T11:01:26.553969Z",
     "iopub.status.idle": "2025-07-28T11:01:26.560689Z",
     "shell.execute_reply": "2025-07-28T11:01:26.559701Z"
    },
    "papermill": {
     "duration": 0.031885,
     "end_time": "2025-07-28T11:01:26.562333",
     "exception": false,
     "start_time": "2025-07-28T11:01:26.530448",
     "status": "completed"
    },
    "tags": []
   },
   "outputs": [],
   "source": [
    "cp_metrics_dict = {\n",
    "    \"universe_id\": [universe_id],\n",
    "    \"universe_training_size\": [universe_training_size],\n",
    "    \"universe_scale\": [universe_scale],\n",
    "    \"universe_model\": [universe_model],\n",
    "    \"universe_exclude_features\": [universe_exclude_features],\n",
    "    \"universe_exclude_subgroups\": [universe_exclude_subgroups],\n",
    "    \"q_hat\": [q_hat],\n",
    "    \"coverage\": [metrics[\"coverage\"]],\n",
    "    \"avg_size\": [metrics[\"avg_size\"]],\n",
    "}"
   ]
  },
  {
   "cell_type": "code",
   "execution_count": 52,
   "id": "908acbb1-0371-4915-85ca-3fa520d2efe2",
   "metadata": {
    "execution": {
     "iopub.execute_input": "2025-07-28T11:01:26.611533Z",
     "iopub.status.busy": "2025-07-28T11:01:26.610824Z",
     "iopub.status.idle": "2025-07-28T11:01:26.618636Z",
     "shell.execute_reply": "2025-07-28T11:01:26.617735Z"
    },
    "papermill": {
     "duration": 0.034796,
     "end_time": "2025-07-28T11:01:26.620187",
     "exception": false,
     "start_time": "2025-07-28T11:01:26.585391",
     "status": "completed"
    },
    "tags": []
   },
   "outputs": [
    {
     "data": {
      "text/plain": [
       "{'universe_id': ['e572eb3fa8b922a47f7dc060e0d14e61'],\n",
       " 'universe_training_size': ['2014'],\n",
       " 'universe_scale': ['scale'],\n",
       " 'universe_model': ['elasticnet'],\n",
       " 'universe_exclude_features': ['none'],\n",
       " 'universe_exclude_subgroups': ['drop-non-german'],\n",
       " 'q_hat': [0.6746775923576194],\n",
       " 'coverage': [0.9125849960985397],\n",
       " 'avg_size': [1.1211013264964886]}"
      ]
     },
     "execution_count": 52,
     "metadata": {},
     "output_type": "execute_result"
    }
   ],
   "source": [
    "cp_metrics_dict"
   ]
  },
  {
   "cell_type": "code",
   "execution_count": 53,
   "id": "33007efc-14e9-4ec6-97ac-56a455c82265",
   "metadata": {
    "execution": {
     "iopub.execute_input": "2025-07-28T11:01:26.671263Z",
     "iopub.status.busy": "2025-07-28T11:01:26.670526Z",
     "iopub.status.idle": "2025-07-28T11:01:26.677082Z",
     "shell.execute_reply": "2025-07-28T11:01:26.676131Z"
    },
    "papermill": {
     "duration": 0.034943,
     "end_time": "2025-07-28T11:01:26.678793",
     "exception": false,
     "start_time": "2025-07-28T11:01:26.643850",
     "status": "completed"
    },
    "tags": []
   },
   "outputs": [],
   "source": [
    "cp_metrics_df = pd.DataFrame(cp_metrics_dict)"
   ]
  },
  {
   "cell_type": "code",
   "execution_count": 54,
   "id": "db12611b-57b2-4910-b9d0-355adfd6e7bf",
   "metadata": {
    "execution": {
     "iopub.execute_input": "2025-07-28T11:01:26.727008Z",
     "iopub.status.busy": "2025-07-28T11:01:26.726338Z",
     "iopub.status.idle": "2025-07-28T11:01:26.744908Z",
     "shell.execute_reply": "2025-07-28T11:01:26.743923Z"
    },
    "papermill": {
     "duration": 0.044695,
     "end_time": "2025-07-28T11:01:26.746567",
     "exception": false,
     "start_time": "2025-07-28T11:01:26.701872",
     "status": "completed"
    },
    "tags": []
   },
   "outputs": [
    {
     "data": {
      "text/html": [
       "<div>\n",
       "<style scoped>\n",
       "    .dataframe tbody tr th:only-of-type {\n",
       "        vertical-align: middle;\n",
       "    }\n",
       "\n",
       "    .dataframe tbody tr th {\n",
       "        vertical-align: top;\n",
       "    }\n",
       "\n",
       "    .dataframe thead th {\n",
       "        text-align: right;\n",
       "    }\n",
       "</style>\n",
       "<table border=\"1\" class=\"dataframe\">\n",
       "  <thead>\n",
       "    <tr style=\"text-align: right;\">\n",
       "      <th></th>\n",
       "      <th>universe_id</th>\n",
       "      <th>universe_training_size</th>\n",
       "      <th>universe_scale</th>\n",
       "      <th>universe_model</th>\n",
       "      <th>universe_exclude_features</th>\n",
       "      <th>universe_exclude_subgroups</th>\n",
       "      <th>q_hat</th>\n",
       "      <th>coverage</th>\n",
       "      <th>avg_size</th>\n",
       "    </tr>\n",
       "  </thead>\n",
       "  <tbody>\n",
       "    <tr>\n",
       "      <th>0</th>\n",
       "      <td>e572eb3fa8b922a47f7dc060e0d14e61</td>\n",
       "      <td>2014</td>\n",
       "      <td>scale</td>\n",
       "      <td>elasticnet</td>\n",
       "      <td>none</td>\n",
       "      <td>drop-non-german</td>\n",
       "      <td>0.674678</td>\n",
       "      <td>0.912585</td>\n",
       "      <td>1.121101</td>\n",
       "    </tr>\n",
       "  </tbody>\n",
       "</table>\n",
       "</div>"
      ],
      "text/plain": [
       "                        universe_id universe_training_size universe_scale  \\\n",
       "0  e572eb3fa8b922a47f7dc060e0d14e61                   2014          scale   \n",
       "\n",
       "  universe_model universe_exclude_features universe_exclude_subgroups  \\\n",
       "0     elasticnet                      none            drop-non-german   \n",
       "\n",
       "      q_hat  coverage  avg_size  \n",
       "0  0.674678  0.912585  1.121101  "
      ]
     },
     "execution_count": 54,
     "metadata": {},
     "output_type": "execute_result"
    }
   ],
   "source": [
    "cp_metrics_df"
   ]
  },
  {
   "cell_type": "code",
   "execution_count": 55,
   "id": "b7fbde55-a0a1-47e4-9af6-fe4a17fa8c61",
   "metadata": {
    "execution": {
     "iopub.execute_input": "2025-07-28T11:01:26.796243Z",
     "iopub.status.busy": "2025-07-28T11:01:26.795495Z",
     "iopub.status.idle": "2025-07-28T11:01:26.800857Z",
     "shell.execute_reply": "2025-07-28T11:01:26.799913Z"
    },
    "papermill": {
     "duration": 0.031251,
     "end_time": "2025-07-28T11:01:26.802569",
     "exception": false,
     "start_time": "2025-07-28T11:01:26.771318",
     "status": "completed"
    },
    "tags": []
   },
   "outputs": [],
   "source": [
    "# Conditional Coverage & looking at subgroups"
   ]
  },
  {
   "cell_type": "code",
   "execution_count": 56,
   "id": "027ae886-68dd-4141-96c7-805a5450e1ef",
   "metadata": {
    "execution": {
     "iopub.execute_input": "2025-07-28T11:01:26.851369Z",
     "iopub.status.busy": "2025-07-28T11:01:26.850740Z",
     "iopub.status.idle": "2025-07-28T11:01:27.118215Z",
     "shell.execute_reply": "2025-07-28T11:01:27.117321Z"
    },
    "papermill": {
     "duration": 0.293757,
     "end_time": "2025-07-28T11:01:27.120165",
     "exception": false,
     "start_time": "2025-07-28T11:01:26.826408",
     "status": "completed"
    },
    "tags": []
   },
   "outputs": [],
   "source": [
    "from fairness_multiverse.conformal import build_cp_groups\n",
    "\n",
    "cp_groups_df = build_cp_groups(pred_sets, y_true, X_test.index, org_test)\n",
    "#needs universe_id and setting"
   ]
  },
  {
   "cell_type": "code",
   "execution_count": 57,
   "id": "01d5802c-663a-4d1f-9d69-e036faaffbf7",
   "metadata": {
    "execution": {
     "iopub.execute_input": "2025-07-28T11:01:27.169754Z",
     "iopub.status.busy": "2025-07-28T11:01:27.169078Z",
     "iopub.status.idle": "2025-07-28T11:01:27.174139Z",
     "shell.execute_reply": "2025-07-28T11:01:27.173114Z"
    },
    "papermill": {
     "duration": 0.031992,
     "end_time": "2025-07-28T11:01:27.175840",
     "exception": false,
     "start_time": "2025-07-28T11:01:27.143848",
     "status": "completed"
    },
    "tags": []
   },
   "outputs": [],
   "source": [
    "#delete\n",
    "#cp_groups_df"
   ]
  },
  {
   "cell_type": "code",
   "execution_count": 58,
   "id": "fa424af1-d1eb-443d-b717-2d279ada8408",
   "metadata": {
    "execution": {
     "iopub.execute_input": "2025-07-28T11:01:27.224853Z",
     "iopub.status.busy": "2025-07-28T11:01:27.224351Z",
     "iopub.status.idle": "2025-07-28T11:01:27.229607Z",
     "shell.execute_reply": "2025-07-28T11:01:27.228773Z"
    },
    "papermill": {
     "duration": 0.031387,
     "end_time": "2025-07-28T11:01:27.231171",
     "exception": false,
     "start_time": "2025-07-28T11:01:27.199784",
     "status": "completed"
    },
    "tags": []
   },
   "outputs": [],
   "source": [
    "#delete\n",
    "#percentage = (cp_groups_df['nongerman_female'] == 1).mean() * 100\n",
    "#print(percentage)\n"
   ]
  },
  {
   "cell_type": "code",
   "execution_count": 59,
   "id": "6cbdab96-b2b2-45af-ad54-d0516db2e28d",
   "metadata": {
    "execution": {
     "iopub.execute_input": "2025-07-28T11:01:27.280074Z",
     "iopub.status.busy": "2025-07-28T11:01:27.279332Z",
     "iopub.status.idle": "2025-07-28T11:01:28.980769Z",
     "shell.execute_reply": "2025-07-28T11:01:28.979814Z"
    },
    "papermill": {
     "duration": 1.728007,
     "end_time": "2025-07-28T11:01:28.982688",
     "exception": false,
     "start_time": "2025-07-28T11:01:27.254681",
     "status": "completed"
    },
    "tags": []
   },
   "outputs": [],
   "source": [
    "# Define covered = 1 if true_label is in the predicted set\n",
    "cp_groups_df['covered'] = cp_groups_df.apply(\n",
    "    lambda r: int(r['true_label'] in r['pred_set']),\n",
    "    axis=1\n",
    ")"
   ]
  },
  {
   "cell_type": "code",
   "execution_count": 60,
   "id": "338ff529-1a6b-4b87-a931-8e4788d52aad",
   "metadata": {
    "execution": {
     "iopub.execute_input": "2025-07-28T11:01:29.034166Z",
     "iopub.status.busy": "2025-07-28T11:01:29.033743Z",
     "iopub.status.idle": "2025-07-28T11:01:29.038529Z",
     "shell.execute_reply": "2025-07-28T11:01:29.037621Z"
    },
    "papermill": {
     "duration": 0.031251,
     "end_time": "2025-07-28T11:01:29.040168",
     "exception": false,
     "start_time": "2025-07-28T11:01:29.008917",
     "status": "completed"
    },
    "tags": []
   },
   "outputs": [],
   "source": [
    "#cp_groups_df"
   ]
  },
  {
   "cell_type": "code",
   "execution_count": 61,
   "id": "90032e27-66df-4540-9169-4e89cfbaa758",
   "metadata": {
    "execution": {
     "iopub.execute_input": "2025-07-28T11:01:29.089301Z",
     "iopub.status.busy": "2025-07-28T11:01:29.088647Z",
     "iopub.status.idle": "2025-07-28T11:01:29.100155Z",
     "shell.execute_reply": "2025-07-28T11:01:29.099133Z"
    },
    "papermill": {
     "duration": 0.03782,
     "end_time": "2025-07-28T11:01:29.101787",
     "exception": false,
     "start_time": "2025-07-28T11:01:29.063967",
     "status": "completed"
    },
    "tags": []
   },
   "outputs": [],
   "source": [
    "subgroups = ['frau1','nongerman','nongerman_male','nongerman_female']\n",
    "\n",
    "# Conditional coverage for subgroup==1\n",
    "cond_coverage = {\n",
    "    g: cp_groups_df.loc[cp_groups_df[g]==1, 'covered'].mean()\n",
    "    for g in subgroups\n",
    "}"
   ]
  },
  {
   "cell_type": "code",
   "execution_count": 62,
   "id": "1e348fb1-b9c3-45bc-ba23-f016827a7e0d",
   "metadata": {
    "execution": {
     "iopub.execute_input": "2025-07-28T11:01:29.151145Z",
     "iopub.status.busy": "2025-07-28T11:01:29.150516Z",
     "iopub.status.idle": "2025-07-28T11:01:29.158544Z",
     "shell.execute_reply": "2025-07-28T11:01:29.157624Z"
    },
    "papermill": {
     "duration": 0.034347,
     "end_time": "2025-07-28T11:01:29.160282",
     "exception": false,
     "start_time": "2025-07-28T11:01:29.125935",
     "status": "completed"
    },
    "tags": []
   },
   "outputs": [
    {
     "data": {
      "text/plain": [
       "{'frau1': 0.9109313923709395,\n",
       " 'nongerman': 0.9097288497164991,\n",
       " 'nongerman_male': 0.9255156264072774,\n",
       " 'nongerman_female': 0.8836065573770492}"
      ]
     },
     "execution_count": 62,
     "metadata": {},
     "output_type": "execute_result"
    }
   ],
   "source": [
    "cond_coverage"
   ]
  },
  {
   "cell_type": "code",
   "execution_count": 63,
   "id": "f5093324-c3dd-4d63-bc4c-8d945e5c8bbb",
   "metadata": {
    "execution": {
     "iopub.execute_input": "2025-07-28T11:01:29.210201Z",
     "iopub.status.busy": "2025-07-28T11:01:29.209503Z",
     "iopub.status.idle": "2025-07-28T11:01:29.217052Z",
     "shell.execute_reply": "2025-07-28T11:01:29.216070Z"
    },
    "papermill": {
     "duration": 0.03425,
     "end_time": "2025-07-28T11:01:29.218754",
     "exception": false,
     "start_time": "2025-07-28T11:01:29.184504",
     "status": "completed"
    },
    "tags": []
   },
   "outputs": [],
   "source": [
    "for subgroup, cov in cond_coverage.items():\n",
    "    cp_metrics_df[f\"cov_{subgroup}\"] = cov"
   ]
  },
  {
   "cell_type": "code",
   "execution_count": 64,
   "id": "6e872e10-dbe5-49e8-b554-5030c98ff75d",
   "metadata": {
    "execution": {
     "iopub.execute_input": "2025-07-28T11:01:29.268958Z",
     "iopub.status.busy": "2025-07-28T11:01:29.268168Z",
     "iopub.status.idle": "2025-07-28T11:01:29.287111Z",
     "shell.execute_reply": "2025-07-28T11:01:29.286138Z"
    },
    "papermill": {
     "duration": 0.045735,
     "end_time": "2025-07-28T11:01:29.288743",
     "exception": false,
     "start_time": "2025-07-28T11:01:29.243008",
     "status": "completed"
    },
    "tags": []
   },
   "outputs": [
    {
     "data": {
      "text/html": [
       "<div>\n",
       "<style scoped>\n",
       "    .dataframe tbody tr th:only-of-type {\n",
       "        vertical-align: middle;\n",
       "    }\n",
       "\n",
       "    .dataframe tbody tr th {\n",
       "        vertical-align: top;\n",
       "    }\n",
       "\n",
       "    .dataframe thead th {\n",
       "        text-align: right;\n",
       "    }\n",
       "</style>\n",
       "<table border=\"1\" class=\"dataframe\">\n",
       "  <thead>\n",
       "    <tr style=\"text-align: right;\">\n",
       "      <th></th>\n",
       "      <th>universe_id</th>\n",
       "      <th>universe_training_size</th>\n",
       "      <th>universe_scale</th>\n",
       "      <th>universe_model</th>\n",
       "      <th>universe_exclude_features</th>\n",
       "      <th>universe_exclude_subgroups</th>\n",
       "      <th>q_hat</th>\n",
       "      <th>coverage</th>\n",
       "      <th>avg_size</th>\n",
       "      <th>cov_frau1</th>\n",
       "      <th>cov_nongerman</th>\n",
       "      <th>cov_nongerman_male</th>\n",
       "      <th>cov_nongerman_female</th>\n",
       "    </tr>\n",
       "  </thead>\n",
       "  <tbody>\n",
       "    <tr>\n",
       "      <th>0</th>\n",
       "      <td>e572eb3fa8b922a47f7dc060e0d14e61</td>\n",
       "      <td>2014</td>\n",
       "      <td>scale</td>\n",
       "      <td>elasticnet</td>\n",
       "      <td>none</td>\n",
       "      <td>drop-non-german</td>\n",
       "      <td>0.674678</td>\n",
       "      <td>0.912585</td>\n",
       "      <td>1.121101</td>\n",
       "      <td>0.910931</td>\n",
       "      <td>0.909729</td>\n",
       "      <td>0.925516</td>\n",
       "      <td>0.883607</td>\n",
       "    </tr>\n",
       "  </tbody>\n",
       "</table>\n",
       "</div>"
      ],
      "text/plain": [
       "                        universe_id universe_training_size universe_scale  \\\n",
       "0  e572eb3fa8b922a47f7dc060e0d14e61                   2014          scale   \n",
       "\n",
       "  universe_model universe_exclude_features universe_exclude_subgroups  \\\n",
       "0     elasticnet                      none            drop-non-german   \n",
       "\n",
       "      q_hat  coverage  avg_size  cov_frau1  cov_nongerman  cov_nongerman_male  \\\n",
       "0  0.674678  0.912585  1.121101   0.910931       0.909729            0.925516   \n",
       "\n",
       "   cov_nongerman_female  \n",
       "0              0.883607  "
      ]
     },
     "execution_count": 64,
     "metadata": {},
     "output_type": "execute_result"
    }
   ],
   "source": [
    "cp_metrics_df"
   ]
  },
  {
   "cell_type": "markdown",
   "id": "33774451",
   "metadata": {
    "papermill": {
     "duration": 0.024301,
     "end_time": "2025-07-28T11:01:29.337677",
     "exception": false,
     "start_time": "2025-07-28T11:01:29.313376",
     "status": "completed"
    },
    "tags": []
   },
   "source": [
    "# (Fairness) Metrics"
   ]
  },
  {
   "cell_type": "code",
   "execution_count": 65,
   "id": "debc5d62",
   "metadata": {
    "execution": {
     "iopub.execute_input": "2025-07-28T11:01:29.388571Z",
     "iopub.status.busy": "2025-07-28T11:01:29.387818Z",
     "iopub.status.idle": "2025-07-28T11:01:29.410506Z",
     "shell.execute_reply": "2025-07-28T11:01:29.409579Z"
    },
    "papermill": {
     "duration": 0.050243,
     "end_time": "2025-07-28T11:01:29.412447",
     "exception": false,
     "start_time": "2025-07-28T11:01:29.362204",
     "status": "completed"
    },
    "tags": []
   },
   "outputs": [],
   "source": [
    "# do I need to include maxdeutsch1.missing?\n",
    "\n",
    "import numpy as np\n",
    "\n",
    "colname_to_bin = \"maxdeutsch1\"\n",
    "majority_value = org_train[colname_to_bin].mode()[0]\n",
    "\n",
    "org_test[\"majmin\"] = np.where(org_test[colname_to_bin] == majority_value, \"majority\", \"minority\")"
   ]
  },
  {
   "cell_type": "code",
   "execution_count": 66,
   "id": "06a50de5",
   "metadata": {
    "execution": {
     "iopub.execute_input": "2025-07-28T11:01:29.464838Z",
     "iopub.status.busy": "2025-07-28T11:01:29.464100Z",
     "iopub.status.idle": "2025-07-28T11:01:32.556871Z",
     "shell.execute_reply": "2025-07-28T11:01:32.555693Z"
    },
    "papermill": {
     "duration": 3.121292,
     "end_time": "2025-07-28T11:01:32.559192",
     "exception": false,
     "start_time": "2025-07-28T11:01:29.437900",
     "status": "completed"
    },
    "tags": []
   },
   "outputs": [],
   "source": [
    "example_universe = universe.copy()\n",
    "example_universe[\"cutoff\"] = example_universe[\"cutoff\"][0]\n",
    "example_universe[\"eval_fairness_grouping\"] = example_universe[\"eval_fairness_grouping\"][0]\n",
    "fairness_dict, metric_frame = universe_analysis.compute_metrics(\n",
    "    example_universe,\n",
    "    y_pred_prob=probs_test,\n",
    "    y_test=y_true,\n",
    "    org_test=org_test,\n",
    ")"
   ]
  },
  {
   "cell_type": "markdown",
   "id": "f95d4e02",
   "metadata": {
    "papermill": {
     "duration": 0.013509,
     "end_time": "2025-07-28T11:01:32.610200",
     "exception": false,
     "start_time": "2025-07-28T11:01:32.596691",
     "status": "completed"
    },
    "tags": []
   },
   "source": [
    "# Overall"
   ]
  },
  {
   "cell_type": "markdown",
   "id": "bdee4871",
   "metadata": {
    "papermill": {
     "duration": 0.013563,
     "end_time": "2025-07-28T11:01:32.637176",
     "exception": false,
     "start_time": "2025-07-28T11:01:32.623613",
     "status": "completed"
    },
    "tags": []
   },
   "source": [
    "Fairness\n",
    "Main fairness target: Equalized Odds. Seems to be a better fit than equal opportunity, since we're not only interested in Y = 1. Seems to be a better fit than demographic parity, since we also care about accuracy, not just equal distribution of preds.\n",
    "\n",
    "Pick column for computation of fairness metrics\n",
    "\n",
    "Performance\n",
    "Overall performance measures, most interesting in relation to the measures split by group below"
   ]
  },
  {
   "cell_type": "code",
   "execution_count": 67,
   "id": "c4e067c6",
   "metadata": {
    "execution": {
     "iopub.execute_input": "2025-07-28T11:01:32.685646Z",
     "iopub.status.busy": "2025-07-28T11:01:32.685166Z",
     "iopub.status.idle": "2025-07-28T11:01:32.694239Z",
     "shell.execute_reply": "2025-07-28T11:01:32.693285Z"
    },
    "papermill": {
     "duration": 0.039206,
     "end_time": "2025-07-28T11:01:32.695840",
     "exception": false,
     "start_time": "2025-07-28T11:01:32.656634",
     "status": "completed"
    },
    "tags": []
   },
   "outputs": [
    {
     "data": {
      "text/plain": [
       "accuracy                   0.225694\n",
       "balanced accuracy          0.551576\n",
       "f1                         0.246989\n",
       "precision                  0.141097\n",
       "false positive rate        0.886768\n",
       "false negative rate        0.010080\n",
       "selection rate             0.900000\n",
       "count                  89710.000000\n",
       "dtype: float64"
      ]
     },
     "execution_count": 67,
     "metadata": {},
     "output_type": "execute_result"
    }
   ],
   "source": [
    "metric_frame.overall"
   ]
  },
  {
   "cell_type": "markdown",
   "id": "e968fe9d",
   "metadata": {
    "papermill": {
     "duration": 0.027896,
     "end_time": "2025-07-28T11:01:32.748976",
     "exception": false,
     "start_time": "2025-07-28T11:01:32.721080",
     "status": "completed"
    },
    "tags": []
   },
   "source": [
    "By Group"
   ]
  },
  {
   "cell_type": "code",
   "execution_count": 68,
   "id": "ec325bce",
   "metadata": {
    "execution": {
     "iopub.execute_input": "2025-07-28T11:01:32.785894Z",
     "iopub.status.busy": "2025-07-28T11:01:32.785370Z",
     "iopub.status.idle": "2025-07-28T11:01:32.798678Z",
     "shell.execute_reply": "2025-07-28T11:01:32.797977Z"
    },
    "papermill": {
     "duration": 0.029267,
     "end_time": "2025-07-28T11:01:32.799999",
     "exception": false,
     "start_time": "2025-07-28T11:01:32.770732",
     "status": "completed"
    },
    "tags": []
   },
   "outputs": [
    {
     "data": {
      "text/html": [
       "<div>\n",
       "<style scoped>\n",
       "    .dataframe tbody tr th:only-of-type {\n",
       "        vertical-align: middle;\n",
       "    }\n",
       "\n",
       "    .dataframe tbody tr th {\n",
       "        vertical-align: top;\n",
       "    }\n",
       "\n",
       "    .dataframe thead th {\n",
       "        text-align: right;\n",
       "    }\n",
       "</style>\n",
       "<table border=\"1\" class=\"dataframe\">\n",
       "  <thead>\n",
       "    <tr style=\"text-align: right;\">\n",
       "      <th></th>\n",
       "      <th>accuracy</th>\n",
       "      <th>balanced accuracy</th>\n",
       "      <th>f1</th>\n",
       "      <th>precision</th>\n",
       "      <th>false positive rate</th>\n",
       "      <th>false negative rate</th>\n",
       "      <th>selection rate</th>\n",
       "      <th>count</th>\n",
       "    </tr>\n",
       "    <tr>\n",
       "      <th>majmin</th>\n",
       "      <th></th>\n",
       "      <th></th>\n",
       "      <th></th>\n",
       "      <th></th>\n",
       "      <th></th>\n",
       "      <th></th>\n",
       "      <th></th>\n",
       "      <th></th>\n",
       "    </tr>\n",
       "  </thead>\n",
       "  <tbody>\n",
       "    <tr>\n",
       "      <th>majority</th>\n",
       "      <td>0.247795</td>\n",
       "      <td>0.561949</td>\n",
       "      <td>0.257859</td>\n",
       "      <td>0.148258</td>\n",
       "      <td>0.865051</td>\n",
       "      <td>0.011050</td>\n",
       "      <td>0.881423</td>\n",
       "      <td>69170.0</td>\n",
       "    </tr>\n",
       "    <tr>\n",
       "      <th>minority</th>\n",
       "      <td>0.151266</td>\n",
       "      <td>0.517579</td>\n",
       "      <td>0.212566</td>\n",
       "      <td>0.119013</td>\n",
       "      <td>0.958508</td>\n",
       "      <td>0.006334</td>\n",
       "      <td>0.962561</td>\n",
       "      <td>20540.0</td>\n",
       "    </tr>\n",
       "  </tbody>\n",
       "</table>\n",
       "</div>"
      ],
      "text/plain": [
       "          accuracy  balanced accuracy        f1  precision  \\\n",
       "majmin                                                       \n",
       "majority  0.247795           0.561949  0.257859   0.148258   \n",
       "minority  0.151266           0.517579  0.212566   0.119013   \n",
       "\n",
       "          false positive rate  false negative rate  selection rate    count  \n",
       "majmin                                                                       \n",
       "majority             0.865051             0.011050        0.881423  69170.0  \n",
       "minority             0.958508             0.006334        0.962561  20540.0  "
      ]
     },
     "execution_count": 68,
     "metadata": {},
     "output_type": "execute_result"
    }
   ],
   "source": [
    "metric_frame.by_group"
   ]
  },
  {
   "cell_type": "code",
   "execution_count": 69,
   "id": "a9ddbe63",
   "metadata": {
    "execution": {
     "iopub.execute_input": "2025-07-28T11:01:32.848932Z",
     "iopub.status.busy": "2025-07-28T11:01:32.848453Z",
     "iopub.status.idle": "2025-07-28T11:01:35.592523Z",
     "shell.execute_reply": "2025-07-28T11:01:35.591480Z"
    },
    "papermill": {
     "duration": 2.779364,
     "end_time": "2025-07-28T11:01:35.594232",
     "exception": false,
     "start_time": "2025-07-28T11:01:32.814868",
     "status": "completed"
    },
    "tags": []
   },
   "outputs": [
    {
     "data": {
      "text/plain": [
       "array([[<Axes: title={'center': 'accuracy'}, xlabel='majmin'>,\n",
       "        <Axes: title={'center': 'balanced accuracy'}, xlabel='majmin'>,\n",
       "        <Axes: title={'center': 'f1'}, xlabel='majmin'>],\n",
       "       [<Axes: title={'center': 'precision'}, xlabel='majmin'>,\n",
       "        <Axes: title={'center': 'false positive rate'}, xlabel='majmin'>,\n",
       "        <Axes: title={'center': 'false negative rate'}, xlabel='majmin'>],\n",
       "       [<Axes: title={'center': 'selection rate'}, xlabel='majmin'>,\n",
       "        <Axes: title={'center': 'count'}, xlabel='majmin'>,\n",
       "        <Axes: xlabel='majmin'>]], dtype=object)"
      ]
     },
     "execution_count": 69,
     "metadata": {},
     "output_type": "execute_result"
    },
    {
     "data": {
      "image/png": "[encoded data removed]",
      "text/plain": [
       "<Figure size 1200x800 with 9 Axes>"
      ]
     },
     "metadata": {},
     "output_type": "display_data"
    }
   ],
   "source": [
    "# In a graphic\n",
    "metric_frame.by_group.plot.bar(\n",
    "    subplots=True,\n",
    "    layout=[3, 3],\n",
    "    legend=False,\n",
    "    figsize=[12, 8],\n",
    "    title=\"Show all metrics\",\n",
    ")"
   ]
  },
  {
   "cell_type": "markdown",
   "id": "f57a0bac",
   "metadata": {
    "papermill": {
     "duration": 0.026646,
     "end_time": "2025-07-28T11:01:35.648378",
     "exception": false,
     "start_time": "2025-07-28T11:01:35.621732",
     "status": "completed"
    },
    "tags": []
   },
   "source": [
    "# Final Output"
   ]
  },
  {
   "cell_type": "code",
   "execution_count": 70,
   "id": "96d280a3",
   "metadata": {
    "execution": {
     "iopub.execute_input": "2025-07-28T11:01:35.704802Z",
     "iopub.status.busy": "2025-07-28T11:01:35.704126Z",
     "iopub.status.idle": "2025-07-28T11:01:35.713161Z",
     "shell.execute_reply": "2025-07-28T11:01:35.712175Z"
    },
    "papermill": {
     "duration": 0.039725,
     "end_time": "2025-07-28T11:01:35.714859",
     "exception": false,
     "start_time": "2025-07-28T11:01:35.675134",
     "status": "completed"
    },
    "tags": []
   },
   "outputs": [
    {
     "data": {
      "text/plain": [
       "4"
      ]
     },
     "execution_count": 70,
     "metadata": {},
     "output_type": "execute_result"
    }
   ],
   "source": [
    "sub_universes = universe_analysis.generate_sub_universes()\n",
    "len(sub_universes)"
   ]
  },
  {
   "cell_type": "code",
   "execution_count": 71,
   "id": "92adf7ba",
   "metadata": {
    "execution": {
     "iopub.execute_input": "2025-07-28T11:01:35.771665Z",
     "iopub.status.busy": "2025-07-28T11:01:35.770983Z",
     "iopub.status.idle": "2025-07-28T11:01:35.777728Z",
     "shell.execute_reply": "2025-07-28T11:01:35.776691Z"
    },
    "papermill": {
     "duration": 0.037116,
     "end_time": "2025-07-28T11:01:35.779387",
     "exception": false,
     "start_time": "2025-07-28T11:01:35.742271",
     "status": "completed"
    },
    "tags": []
   },
   "outputs": [],
   "source": [
    "def filter_sub_universe_data(sub_universe, org_test):\n",
    "    # Keep all rows — no filtering\n",
    "    keep_rows_mask = np.ones(org_test.shape[0], dtype=bool)\n",
    "\n",
    "    print(f\"[INFO] Keeping all rows: {keep_rows_mask.sum()} rows retained.\")\n",
    "    return keep_rows_mask"
   ]
  },
  {
   "cell_type": "code",
   "execution_count": 72,
   "id": "4a759155",
   "metadata": {
    "execution": {
     "iopub.execute_input": "2025-07-28T11:01:35.838390Z",
     "iopub.status.busy": "2025-07-28T11:01:35.837606Z",
     "iopub.status.idle": "2025-07-28T11:01:47.537500Z",
     "shell.execute_reply": "2025-07-28T11:01:47.536460Z"
    },
    "papermill": {
     "duration": 11.730153,
     "end_time": "2025-07-28T11:01:47.539379",
     "exception": false,
     "start_time": "2025-07-28T11:01:35.809226",
     "status": "completed"
    },
    "tags": []
   },
   "outputs": [
    {
     "name": "stdout",
     "output_type": "stream",
     "text": [
      "Stopping execution_time clock.\n",
      "[INFO] Keeping all rows: 89710 rows retained.\n"
     ]
    },
    {
     "name": "stdout",
     "output_type": "stream",
     "text": [
      "[INFO] Keeping all rows: 89710 rows retained.\n"
     ]
    },
    {
     "name": "stdout",
     "output_type": "stream",
     "text": [
      "[INFO] Keeping all rows: 89710 rows retained.\n"
     ]
    },
    {
     "name": "stdout",
     "output_type": "stream",
     "text": [
      "[INFO] Keeping all rows: 89710 rows retained.\n"
     ]
    },
    {
     "data": {
      "text/html": [
       "<div>\n",
       "<style scoped>\n",
       "    .dataframe tbody tr th:only-of-type {\n",
       "        vertical-align: middle;\n",
       "    }\n",
       "\n",
       "    .dataframe tbody tr th {\n",
       "        vertical-align: top;\n",
       "    }\n",
       "\n",
       "    .dataframe thead th {\n",
       "        text-align: right;\n",
       "    }\n",
       "</style>\n",
       "<table border=\"1\" class=\"dataframe\">\n",
       "  <thead>\n",
       "    <tr style=\"text-align: right;\">\n",
       "      <th></th>\n",
       "      <th>run_no</th>\n",
       "      <th>universe_id</th>\n",
       "      <th>universe_settings</th>\n",
       "      <th>execution_time</th>\n",
       "      <th>test_size_n</th>\n",
       "      <th>test_size_frac</th>\n",
       "      <th>fair_main_equalized_odds_difference</th>\n",
       "      <th>fair_main_equalized_odds_ratio</th>\n",
       "      <th>fair_main_demographic_parity_difference</th>\n",
       "      <th>fair_main_demographic_parity_ratio</th>\n",
       "      <th>...</th>\n",
       "      <th>perf_grp_precision_0</th>\n",
       "      <th>perf_grp_precision_1</th>\n",
       "      <th>perf_grp_false positive rate_0</th>\n",
       "      <th>perf_grp_false positive rate_1</th>\n",
       "      <th>perf_grp_false negative rate_0</th>\n",
       "      <th>perf_grp_false negative rate_1</th>\n",
       "      <th>perf_grp_selection rate_0</th>\n",
       "      <th>perf_grp_selection rate_1</th>\n",
       "      <th>perf_grp_count_0</th>\n",
       "      <th>perf_grp_count_1</th>\n",
       "    </tr>\n",
       "  </thead>\n",
       "  <tbody>\n",
       "    <tr>\n",
       "      <th>0</th>\n",
       "      <td>11</td>\n",
       "      <td>e572eb3fa8b922a47f7dc060e0d14e61</td>\n",
       "      <td>{\"cutoff\": \"quantile_0.1\", \"eval_fairness_grou...</td>\n",
       "      <td>58.427147</td>\n",
       "      <td>89710</td>\n",
       "      <td>1.0</td>\n",
       "      <td>0.093457</td>\n",
       "      <td>0.902498</td>\n",
       "      <td>0.081138</td>\n",
       "      <td>0.915706</td>\n",
       "      <td>...</td>\n",
       "      <td>NaN</td>\n",
       "      <td>NaN</td>\n",
       "      <td>NaN</td>\n",
       "      <td>NaN</td>\n",
       "      <td>NaN</td>\n",
       "      <td>NaN</td>\n",
       "      <td>NaN</td>\n",
       "      <td>NaN</td>\n",
       "      <td>NaN</td>\n",
       "      <td>NaN</td>\n",
       "    </tr>\n",
       "    <tr>\n",
       "      <th>0</th>\n",
       "      <td>11</td>\n",
       "      <td>e572eb3fa8b922a47f7dc060e0d14e61</td>\n",
       "      <td>{\"cutoff\": \"quantile_0.1\", \"eval_fairness_grou...</td>\n",
       "      <td>58.427147</td>\n",
       "      <td>89710</td>\n",
       "      <td>1.0</td>\n",
       "      <td>0.093457</td>\n",
       "      <td>0.902498</td>\n",
       "      <td>0.081138</td>\n",
       "      <td>0.915706</td>\n",
       "      <td>...</td>\n",
       "      <td>0.119013</td>\n",
       "      <td>0.148258</td>\n",
       "      <td>0.958508</td>\n",
       "      <td>0.865051</td>\n",
       "      <td>0.006334</td>\n",
       "      <td>0.011050</td>\n",
       "      <td>0.962561</td>\n",
       "      <td>0.881423</td>\n",
       "      <td>20540.0</td>\n",
       "      <td>69170.0</td>\n",
       "    </tr>\n",
       "    <tr>\n",
       "      <th>0</th>\n",
       "      <td>11</td>\n",
       "      <td>e572eb3fa8b922a47f7dc060e0d14e61</td>\n",
       "      <td>{\"cutoff\": \"quantile_0.25\", \"eval_fairness_gro...</td>\n",
       "      <td>58.427147</td>\n",
       "      <td>89710</td>\n",
       "      <td>1.0</td>\n",
       "      <td>0.140791</td>\n",
       "      <td>0.830003</td>\n",
       "      <td>0.120693</td>\n",
       "      <td>0.856844</td>\n",
       "      <td>...</td>\n",
       "      <td>NaN</td>\n",
       "      <td>NaN</td>\n",
       "      <td>NaN</td>\n",
       "      <td>NaN</td>\n",
       "      <td>NaN</td>\n",
       "      <td>NaN</td>\n",
       "      <td>NaN</td>\n",
       "      <td>NaN</td>\n",
       "      <td>NaN</td>\n",
       "      <td>NaN</td>\n",
       "    </tr>\n",
       "    <tr>\n",
       "      <th>0</th>\n",
       "      <td>11</td>\n",
       "      <td>e572eb3fa8b922a47f7dc060e0d14e61</td>\n",
       "      <td>{\"cutoff\": \"quantile_0.25\", \"eval_fairness_gro...</td>\n",
       "      <td>58.427147</td>\n",
       "      <td>89710</td>\n",
       "      <td>1.0</td>\n",
       "      <td>0.140791</td>\n",
       "      <td>0.830003</td>\n",
       "      <td>0.120693</td>\n",
       "      <td>0.856844</td>\n",
       "      <td>...</td>\n",
       "      <td>0.130912</td>\n",
       "      <td>0.174171</td>\n",
       "      <td>0.828197</td>\n",
       "      <td>0.687406</td>\n",
       "      <td>0.042652</td>\n",
       "      <td>0.047812</td>\n",
       "      <td>0.843087</td>\n",
       "      <td>0.722394</td>\n",
       "      <td>20540.0</td>\n",
       "      <td>69170.0</td>\n",
       "    </tr>\n",
       "  </tbody>\n",
       "</table>\n",
       "<p>4 rows × 50 columns</p>\n",
       "</div>"
      ],
      "text/plain": [
       "  run_no                       universe_id  \\\n",
       "0     11  e572eb3fa8b922a47f7dc060e0d14e61   \n",
       "0     11  e572eb3fa8b922a47f7dc060e0d14e61   \n",
       "0     11  e572eb3fa8b922a47f7dc060e0d14e61   \n",
       "0     11  e572eb3fa8b922a47f7dc060e0d14e61   \n",
       "\n",
       "                                   universe_settings  execution_time  \\\n",
       "0  {\"cutoff\": \"quantile_0.1\", \"eval_fairness_grou...       58.427147   \n",
       "0  {\"cutoff\": \"quantile_0.1\", \"eval_fairness_grou...       58.427147   \n",
       "0  {\"cutoff\": \"quantile_0.25\", \"eval_fairness_gro...       58.427147   \n",
       "0  {\"cutoff\": \"quantile_0.25\", \"eval_fairness_gro...       58.427147   \n",
       "\n",
       "   test_size_n  test_size_frac  fair_main_equalized_odds_difference  \\\n",
       "0        89710             1.0                             0.093457   \n",
       "0        89710             1.0                             0.093457   \n",
       "0        89710             1.0                             0.140791   \n",
       "0        89710             1.0                             0.140791   \n",
       "\n",
       "   fair_main_equalized_odds_ratio  fair_main_demographic_parity_difference  \\\n",
       "0                        0.902498                                 0.081138   \n",
       "0                        0.902498                                 0.081138   \n",
       "0                        0.830003                                 0.120693   \n",
       "0                        0.830003                                 0.120693   \n",
       "\n",
       "   fair_main_demographic_parity_ratio  ...  perf_grp_precision_0  \\\n",
       "0                            0.915706  ...                   NaN   \n",
       "0                            0.915706  ...              0.119013   \n",
       "0                            0.856844  ...                   NaN   \n",
       "0                            0.856844  ...              0.130912   \n",
       "\n",
       "   perf_grp_precision_1  perf_grp_false positive rate_0  \\\n",
       "0                   NaN                             NaN   \n",
       "0              0.148258                        0.958508   \n",
       "0                   NaN                             NaN   \n",
       "0              0.174171                        0.828197   \n",
       "\n",
       "   perf_grp_false positive rate_1  perf_grp_false negative rate_0  \\\n",
       "0                             NaN                             NaN   \n",
       "0                        0.865051                        0.006334   \n",
       "0                             NaN                             NaN   \n",
       "0                        0.687406                        0.042652   \n",
       "\n",
       "   perf_grp_false negative rate_1  perf_grp_selection rate_0  \\\n",
       "0                             NaN                        NaN   \n",
       "0                        0.011050                   0.962561   \n",
       "0                             NaN                        NaN   \n",
       "0                        0.047812                   0.843087   \n",
       "\n",
       "   perf_grp_selection rate_1  perf_grp_count_0  perf_grp_count_1  \n",
       "0                        NaN               NaN               NaN  \n",
       "0                   0.881423           20540.0           69170.0  \n",
       "0                        NaN               NaN               NaN  \n",
       "0                   0.722394           20540.0           69170.0  \n",
       "\n",
       "[4 rows x 50 columns]"
      ]
     },
     "execution_count": 72,
     "metadata": {},
     "output_type": "execute_result"
    }
   ],
   "source": [
    "final_output = universe_analysis.generate_final_output(\n",
    "    y_pred_prob=probs_test,\n",
    "    y_test=y_true,\n",
    "    org_test=org_test,\n",
    "    filter_data=filter_sub_universe_data,\n",
    "    cp_metrics_df=cp_metrics_df,\n",
    "    save=True,\n",
    ")\n",
    "final_output"
   ]
  },
  {
   "cell_type": "code",
   "execution_count": null,
   "id": "721ff514-cb11-46f8-b6fc-50392f74b5cb",
   "metadata": {
    "papermill": {
     "duration": 0.034067,
     "end_time": "2025-07-28T11:01:47.609698",
     "exception": false,
     "start_time": "2025-07-28T11:01:47.575631",
     "status": "completed"
    },
    "tags": []
   },
   "outputs": [],
   "source": []
  }
 ],
 "metadata": {
  "celltoolbar": "Tags",
  "kernelspec": {
   "display_name": "Python (CMA Fairness)",
   "language": "python",
   "name": "cma_fair_env"
  },
  "language_info": {
   "codemirror_mode": {
    "name": "ipython",
    "version": 3
   },
   "file_extension": ".py",
   "mimetype": "text/x-python",
   "name": "python",
   "nbconvert_exporter": "python",
   "pygments_lexer": "ipython3",
   "version": "3.10.12"
  },
  "papermill": {
   "default_parameters": {},
   "duration": 74.23827,
   "end_time": "2025-07-28T11:01:48.362575",
   "environment_variables": {},
   "exception": null,
   "input_path": "universe_analysis.ipynb",
   "output_path": "output/runs/11/notebooks/m_11-e572eb3fa8b922a47f7dc060e0d14e61.ipynb",
   "parameters": {
    "output_dir": "output",
    "run_no": "11",
    "seed": "2023",
    "universe": "{\"cutoff\": [\"quantile_0.1\", \"quantile_0.25\"], \"eval_fairness_grouping\": [\"majority-minority\", \"nationality-all\"], \"exclude_features\": \"none\", \"exclude_subgroups\": \"drop-non-german\", \"model\": \"elasticnet\", \"scale\": \"scale\", \"training_size\": \"2014\"}",
    "universe_id": "e572eb3fa8b922a47f7dc060e0d14e61"
   },
   "start_time": "2025-07-28T11:00:34.124305",
   "version": "2.6.0"
  }
 },
 "nbformat": 4,
 "nbformat_minor": 5
}