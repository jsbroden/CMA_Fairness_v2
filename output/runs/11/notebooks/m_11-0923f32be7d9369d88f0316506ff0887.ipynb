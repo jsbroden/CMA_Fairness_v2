{
 "cells": [
  {
   "cell_type": "code",
   "execution_count": 1,
   "id": "f159f837-637b-42ba-96b5-ec9a68c44524",
   "metadata": {
    "execution": {
     "iopub.execute_input": "2025-07-28T10:36:23.761785Z",
     "iopub.status.busy": "2025-07-28T10:36:23.760855Z",
     "iopub.status.idle": "2025-07-28T10:36:23.774804Z",
     "shell.execute_reply": "2025-07-28T10:36:23.773804Z"
    },
    "papermill": {
     "duration": 0.037036,
     "end_time": "2025-07-28T10:36:23.776501",
     "exception": false,
     "start_time": "2025-07-28T10:36:23.739465",
     "status": "completed"
    },
    "tags": []
   },
   "outputs": [
    {
     "name": "stdout",
     "output_type": "stream",
     "text": [
      "/dss/dsshome1/0C/ra93lal2/cma/CMA_Fairness_v2\n"
     ]
    },
    {
     "name": "stderr",
     "output_type": "stream",
     "text": [
      "/dss/dsshome1/0C/ra93lal2/.local/share/virtualenvs/CMA_Fairness_v2-3j10GkSs/lib/python3.10/site-packages/IPython/core/magics/osm.py:393: UserWarning: This is now an optional IPython functionality, using bookmarks requires you to install the `pickleshare` library.\n",
      "  bkms = self.shell.db.get('bookmarks', {})\n",
      "/dss/dsshome1/0C/ra93lal2/.local/share/virtualenvs/CMA_Fairness_v2-3j10GkSs/lib/python3.10/site-packages/IPython/core/magics/osm.py:417: UserWarning: This is now an optional IPython functionality, setting dhist requires you to install the `pickleshare` library.\n",
      "  self.shell.db['dhist'] = compress_dhist(dhist)[-100:]\n"
     ]
    }
   ],
   "source": [
    "%cd ~/cma/CMA_Fairness_v2"
   ]
  },
  {
   "cell_type": "markdown",
   "id": "de2603b9",
   "metadata": {
    "papermill": {
     "duration": 0.019365,
     "end_time": "2025-07-28T10:36:23.816234",
     "exception": false,
     "start_time": "2025-07-28T10:36:23.796869",
     "status": "completed"
    },
    "tags": []
   },
   "source": [
    "The following cell holds the definition of our parameters, these values can be overriden by rendering the with e.g. the following command:\n",
    "\n",
    "papermill -p alpha 0.2 -p ratio 0.3 universe_analysis.ipynb output/test_run.ipynb"
   ]
  },
  {
   "cell_type": "code",
   "execution_count": 2,
   "id": "a80968a0-40bb-4fa9-85ef-2d5eefb01975",
   "metadata": {
    "execution": {
     "iopub.execute_input": "2025-07-28T10:36:23.857026Z",
     "iopub.status.busy": "2025-07-28T10:36:23.855913Z",
     "iopub.status.idle": "2025-07-28T10:36:23.861947Z",
     "shell.execute_reply": "2025-07-28T10:36:23.860958Z"
    },
    "papermill": {
     "duration": 0.028447,
     "end_time": "2025-07-28T10:36:23.863612",
     "exception": false,
     "start_time": "2025-07-28T10:36:23.835165",
     "status": "completed"
    },
    "tags": []
   },
   "outputs": [
    {
     "name": "stdout",
     "output_type": "stream",
     "text": [
      "Current working directory: /dss/dsshome1/0C/ra93lal2/cma/CMA_Fairness_v2\n"
     ]
    }
   ],
   "source": [
    "import os\n",
    "print(\"Current working directory:\", os.getcwd())"
   ]
  },
  {
   "cell_type": "code",
   "execution_count": 3,
   "id": "2dce4c03",
   "metadata": {
    "execution": {
     "iopub.execute_input": "2025-07-28T10:36:23.905328Z",
     "iopub.status.busy": "2025-07-28T10:36:23.904645Z",
     "iopub.status.idle": "2025-07-28T10:36:23.911372Z",
     "shell.execute_reply": "2025-07-28T10:36:23.910318Z"
    },
    "papermill": {
     "duration": 0.029175,
     "end_time": "2025-07-28T10:36:23.913087",
     "exception": false,
     "start_time": "2025-07-28T10:36:23.883912",
     "status": "completed"
    },
    "tags": [
     "parameters"
    ]
   },
   "outputs": [],
   "source": [
    "run_no = 0\n",
    "universe_id = \"test\"\n",
    "universe = {\n",
    "    \"training_size\": \"2014\", # \"25k\", \"5k\", \"1k\", \"2014\"\n",
    "    \"scale\": \"scale\", # \"scale\", \"do-not-scale\",\n",
    "    #\"stratify_split\": \"target\", # \"none\", \"target\", \"protected-attribute\", \"both\",\n",
    "    \"model\": \"elasticnet\", # \"logreg\", \"penalized_logreg\", \"rf\", \"gbm\", \"elasticnet\"\n",
    "    \"cutoff\": [\"quantile_0.15\", \"quantile_0.30\"],\n",
    "    \"exclude_features\": \"age\", # \"none\", \"nationality\", \"sex\", \"nationality-sex\", \"age\"\n",
    "    \"exclude_subgroups\": \"keep-all\", # \"keep-all\", \"drop-non-german\"\n",
    "    #\"training_sample\": \"restricted\", # \"restricted\", \"full\"\n",
    "    \"eval_fairness_grouping\": [\"majority-minority\", \"nationality-all\"]\n",
    "}\n",
    "\n",
    "output_dir=\"./output\"\n",
    "seed=0"
   ]
  },
  {
   "cell_type": "code",
   "execution_count": 4,
   "id": "3af3ceec",
   "metadata": {
    "execution": {
     "iopub.execute_input": "2025-07-28T10:36:23.955669Z",
     "iopub.status.busy": "2025-07-28T10:36:23.954720Z",
     "iopub.status.idle": "2025-07-28T10:36:23.960779Z",
     "shell.execute_reply": "2025-07-28T10:36:23.959789Z"
    },
    "papermill": {
     "duration": 0.029118,
     "end_time": "2025-07-28T10:36:23.962769",
     "exception": false,
     "start_time": "2025-07-28T10:36:23.933651",
     "status": "completed"
    },
    "tags": [
     "injected-parameters"
    ]
   },
   "outputs": [],
   "source": [
    "# Parameters\n",
    "universe_id = \"0923f32be7d9369d88f0316506ff0887\"\n",
    "run_no = \"11\"\n",
    "universe = \"{\\\"cutoff\\\": [\\\"quantile_0.1\\\", \\\"quantile_0.25\\\"], \\\"eval_fairness_grouping\\\": [\\\"majority-minority\\\", \\\"nationality-all\\\"], \\\"exclude_features\\\": \\\"nationality-sex\\\", \\\"exclude_subgroups\\\": \\\"drop-non-german\\\", \\\"model\\\": \\\"penalized_logreg\\\", \\\"scale\\\": \\\"do-not-scale\\\", \\\"training_size\\\": \\\"5k\\\"}\"\n",
    "output_dir = \"output\"\n",
    "seed = \"2023\"\n"
   ]
  },
  {
   "cell_type": "code",
   "execution_count": 5,
   "id": "1650acaf",
   "metadata": {
    "execution": {
     "iopub.execute_input": "2025-07-28T10:36:24.004185Z",
     "iopub.status.busy": "2025-07-28T10:36:24.003715Z",
     "iopub.status.idle": "2025-07-28T10:36:24.009744Z",
     "shell.execute_reply": "2025-07-28T10:36:24.008757Z"
    },
    "papermill": {
     "duration": 0.028935,
     "end_time": "2025-07-28T10:36:24.011382",
     "exception": false,
     "start_time": "2025-07-28T10:36:23.982447",
     "status": "completed"
    },
    "tags": []
   },
   "outputs": [],
   "source": [
    "import json\n",
    "# Parse universe into dict if it is passed as a string\n",
    "if isinstance(universe, str):\n",
    "    universe = json.loads(universe)"
   ]
  },
  {
   "cell_type": "code",
   "execution_count": 6,
   "id": "16620c48",
   "metadata": {
    "execution": {
     "iopub.execute_input": "2025-07-28T10:36:24.052644Z",
     "iopub.status.busy": "2025-07-28T10:36:24.051641Z",
     "iopub.status.idle": "2025-07-28T10:36:24.099437Z",
     "shell.execute_reply": "2025-07-28T10:36:24.098418Z"
    },
    "papermill": {
     "duration": 0.070101,
     "end_time": "2025-07-28T10:36:24.101658",
     "exception": false,
     "start_time": "2025-07-28T10:36:24.031557",
     "status": "completed"
    },
    "tags": []
   },
   "outputs": [],
   "source": [
    "# Auto-reload the custom package\n",
    "%load_ext autoreload\n",
    "%autoreload 1\n",
    "%aimport fairness_multiverse"
   ]
  },
  {
   "cell_type": "code",
   "execution_count": 7,
   "id": "01c5c9f3",
   "metadata": {
    "execution": {
     "iopub.execute_input": "2025-07-28T10:36:24.144943Z",
     "iopub.status.busy": "2025-07-28T10:36:24.144079Z",
     "iopub.status.idle": "2025-07-28T10:36:26.106870Z",
     "shell.execute_reply": "2025-07-28T10:36:26.105986Z"
    },
    "papermill": {
     "duration": 1.985543,
     "end_time": "2025-07-28T10:36:26.108433",
     "exception": false,
     "start_time": "2025-07-28T10:36:24.122890",
     "status": "completed"
    },
    "tags": []
   },
   "outputs": [],
   "source": [
    "from fairness_multiverse.universe import UniverseAnalysis\n",
    "\n",
    "universe_analysis = UniverseAnalysis(\n",
    "    run_no = run_no,\n",
    "    universe_id = universe_id,\n",
    "    universe = universe,\n",
    "    output_dir=output_dir,\n",
    ")"
   ]
  },
  {
   "cell_type": "code",
   "execution_count": 8,
   "id": "106241f5",
   "metadata": {
    "execution": {
     "iopub.execute_input": "2025-07-28T10:36:26.131840Z",
     "iopub.status.busy": "2025-07-28T10:36:26.131261Z",
     "iopub.status.idle": "2025-07-28T10:36:26.139148Z",
     "shell.execute_reply": "2025-07-28T10:36:26.138230Z"
    },
    "papermill": {
     "duration": 0.023846,
     "end_time": "2025-07-28T10:36:26.142919",
     "exception": false,
     "start_time": "2025-07-28T10:36:26.119073",
     "status": "completed"
    },
    "tags": []
   },
   "outputs": [
    {
     "name": "stdout",
     "output_type": "stream",
     "text": [
      "Using Seed: 2023\n"
     ]
    }
   ],
   "source": [
    "import numpy as np\n",
    "parsed_seed = int(seed)\n",
    "np.random.seed(parsed_seed)\n",
    "print(f\"Using Seed: {parsed_seed}\")"
   ]
  },
  {
   "cell_type": "markdown",
   "id": "e0ebdc57",
   "metadata": {
    "papermill": {
     "duration": 0.019659,
     "end_time": "2025-07-28T10:36:26.185094",
     "exception": false,
     "start_time": "2025-07-28T10:36:26.165435",
     "status": "completed"
    },
    "tags": []
   },
   "source": [
    "# Loading Data"
   ]
  },
  {
   "cell_type": "markdown",
   "id": "681925a3",
   "metadata": {
    "papermill": {
     "duration": 0.018669,
     "end_time": "2025-07-28T10:36:26.225551",
     "exception": false,
     "start_time": "2025-07-28T10:36:26.206882",
     "status": "completed"
    },
    "tags": []
   },
   "source": [
    "Load siab_train, siab_test, siab_calib and/or \n",
    "load siab_train_features, siab_train_labels"
   ]
  },
  {
   "cell_type": "code",
   "execution_count": 9,
   "id": "f0496b8a",
   "metadata": {
    "execution": {
     "iopub.execute_input": "2025-07-28T10:36:26.265338Z",
     "iopub.status.busy": "2025-07-28T10:36:26.264502Z",
     "iopub.status.idle": "2025-07-28T10:36:38.996708Z",
     "shell.execute_reply": "2025-07-28T10:36:38.995648Z"
    },
    "papermill": {
     "duration": 12.75438,
     "end_time": "2025-07-28T10:36:38.998427",
     "exception": false,
     "start_time": "2025-07-28T10:36:26.244047",
     "status": "completed"
    },
    "tags": []
   },
   "outputs": [
    {
     "name": "stdout",
     "output_type": "stream",
     "text": [
      "Loading SIAB data from cache: data/siab_cached.csv.gz\n"
     ]
    },
    {
     "name": "stdout",
     "output_type": "stream",
     "text": [
      "(643690, 164)\n"
     ]
    }
   ],
   "source": [
    "from pathlib import Path\n",
    "import pandas as pd\n",
    "\n",
    "# File paths\n",
    "raw_file = Path(\"data/raw/siab.csv\")\n",
    "cache_file = Path(\"data/siab_cached.csv.gz\")\n",
    "\n",
    "# Ensure cache directory exists\n",
    "cache_file.parent.mkdir(parents=True, exist_ok=True)\n",
    "\n",
    "# Load with simple caching\n",
    "if cache_file.exists():\n",
    "    print(f\"Loading SIAB data from cache: {cache_file}\")\n",
    "    siab = pd.read_csv(cache_file, compression='gzip')\n",
    "else:\n",
    "    print(f\"Cache not found. Reading raw SIAB data: {raw_file}\")\n",
    "    siab = pd.read_csv(raw_file)\n",
    "    siab.to_csv(cache_file, index=False, compression='gzip')\n",
    "    print(f\"Cached SIAB data to: {cache_file}\")\n",
    "\n",
    "# Now use `siab` DataFrame as needed\n",
    "print(siab.shape)"
   ]
  },
  {
   "cell_type": "code",
   "execution_count": 10,
   "id": "db0ca512-5f53-4dba-abdb-a2888bca41ba",
   "metadata": {
    "execution": {
     "iopub.execute_input": "2025-07-28T10:36:39.034554Z",
     "iopub.status.busy": "2025-07-28T10:36:39.034148Z",
     "iopub.status.idle": "2025-07-28T10:36:39.038773Z",
     "shell.execute_reply": "2025-07-28T10:36:39.038030Z"
    },
    "papermill": {
     "duration": 0.018906,
     "end_time": "2025-07-28T10:36:39.040105",
     "exception": false,
     "start_time": "2025-07-28T10:36:39.021199",
     "status": "completed"
    },
    "tags": []
   },
   "outputs": [],
   "source": [
    "#siab"
   ]
  },
  {
   "cell_type": "code",
   "execution_count": 11,
   "id": "a0edb063",
   "metadata": {
    "execution": {
     "iopub.execute_input": "2025-07-28T10:36:39.065194Z",
     "iopub.status.busy": "2025-07-28T10:36:39.064608Z",
     "iopub.status.idle": "2025-07-28T10:36:39.069071Z",
     "shell.execute_reply": "2025-07-28T10:36:39.068210Z"
    },
    "papermill": {
     "duration": 0.017708,
     "end_time": "2025-07-28T10:36:39.070402",
     "exception": false,
     "start_time": "2025-07-28T10:36:39.052694",
     "status": "completed"
    },
    "tags": []
   },
   "outputs": [],
   "source": [
    "#import pandas as pd\n",
    "#\n",
    "#X_train = pd.read_csv(\"./data/X_train.csv\")\n",
    "#y_train = pd.read_csv(\"./data/y_train.csv\")"
   ]
  },
  {
   "cell_type": "code",
   "execution_count": 12,
   "id": "63d08085",
   "metadata": {
    "execution": {
     "iopub.execute_input": "2025-07-28T10:36:39.092902Z",
     "iopub.status.busy": "2025-07-28T10:36:39.092440Z",
     "iopub.status.idle": "2025-07-28T10:36:39.096763Z",
     "shell.execute_reply": "2025-07-28T10:36:39.096052Z"
    },
    "papermill": {
     "duration": 0.016766,
     "end_time": "2025-07-28T10:36:39.098084",
     "exception": false,
     "start_time": "2025-07-28T10:36:39.081318",
     "status": "completed"
    },
    "tags": []
   },
   "outputs": [],
   "source": [
    "#X_test = pd.read_csv(\"./data/X_test.csv\")\n",
    "#y_true = pd.read_csv(\"./data/y_test.csv\")"
   ]
  },
  {
   "cell_type": "code",
   "execution_count": 13,
   "id": "98a8d0fa-1d3d-4ed8-bb2c-281470e24add",
   "metadata": {
    "execution": {
     "iopub.execute_input": "2025-07-28T10:36:39.121079Z",
     "iopub.status.busy": "2025-07-28T10:36:39.120381Z",
     "iopub.status.idle": "2025-07-28T10:36:39.124726Z",
     "shell.execute_reply": "2025-07-28T10:36:39.123917Z"
    },
    "papermill": {
     "duration": 0.01715,
     "end_time": "2025-07-28T10:36:39.126087",
     "exception": false,
     "start_time": "2025-07-28T10:36:39.108937",
     "status": "completed"
    },
    "tags": []
   },
   "outputs": [],
   "source": [
    "# Calibration data for conformal\n",
    "#X_calib = pd.read_csv(\"./data/X_calib.csv\")\n",
    "#y_calib = pd.read_csv(\"./data/y_calib.csv\")"
   ]
  },
  {
   "cell_type": "markdown",
   "id": "9901737e-04df-44f0-9100-f5ad144ed040",
   "metadata": {
    "papermill": {
     "duration": 0.010335,
     "end_time": "2025-07-28T10:36:39.147274",
     "exception": false,
     "start_time": "2025-07-28T10:36:39.136939",
     "status": "completed"
    },
    "tags": []
   },
   "source": [
    "# Splitting Data and Setting Training Data Size"
   ]
  },
  {
   "cell_type": "code",
   "execution_count": 14,
   "id": "acbc8f7d-8fc8-4e86-8c59-5dcb0f58384b",
   "metadata": {
    "execution": {
     "iopub.execute_input": "2025-07-28T10:36:39.169404Z",
     "iopub.status.busy": "2025-07-28T10:36:39.168868Z",
     "iopub.status.idle": "2025-07-28T10:36:39.176518Z",
     "shell.execute_reply": "2025-07-28T10:36:39.175793Z"
    },
    "papermill": {
     "duration": 0.020353,
     "end_time": "2025-07-28T10:36:39.178077",
     "exception": false,
     "start_time": "2025-07-28T10:36:39.157724",
     "status": "completed"
    },
    "tags": []
   },
   "outputs": [],
   "source": [
    "def sample_by_year(df, training_size, random_state=42):\n",
    "    if training_size == \"2014\":\n",
    "        return df[df[\"year\"] == 2014].reset_index(drop=True)\n",
    "    \n",
    "    size_map = {\n",
    "        \"25k\": 5000,\n",
    "        \"5k\": 1000,\n",
    "        \"1k\": 200\n",
    "    }\n",
    "\n",
    "    if training_size not in size_map:\n",
    "        return df.reset_index(drop=True)  # use all data\n",
    "\n",
    "    n_per_year = size_map[training_size]\n",
    "    grouped = df.groupby(\"year\")\n",
    "    sampled = grouped.apply(lambda x: x.sample(n=min(n_per_year, len(x)), random_state=random_state))\n",
    "    return sampled.reset_index(drop=True)"
   ]
  },
  {
   "cell_type": "code",
   "execution_count": 15,
   "id": "6d931f52-beaf-43ff-9e78-9d44a448d54e",
   "metadata": {
    "execution": {
     "iopub.execute_input": "2025-07-28T10:36:39.201433Z",
     "iopub.status.busy": "2025-07-28T10:36:39.200911Z",
     "iopub.status.idle": "2025-07-28T10:36:39.779332Z",
     "shell.execute_reply": "2025-07-28T10:36:39.778511Z"
    },
    "papermill": {
     "duration": 0.591327,
     "end_time": "2025-07-28T10:36:39.780938",
     "exception": false,
     "start_time": "2025-07-28T10:36:39.189611",
     "status": "completed"
    },
    "tags": []
   },
   "outputs": [],
   "source": [
    "siab_s = sample_by_year(siab, universe[\"training_size\"])"
   ]
  },
  {
   "cell_type": "code",
   "execution_count": 16,
   "id": "5db0a40e-a4e2-4920-be85-b12ae061d70d",
   "metadata": {
    "execution": {
     "iopub.execute_input": "2025-07-28T10:36:39.803875Z",
     "iopub.status.busy": "2025-07-28T10:36:39.803531Z",
     "iopub.status.idle": "2025-07-28T10:36:39.814057Z",
     "shell.execute_reply": "2025-07-28T10:36:39.813291Z"
    },
    "papermill": {
     "duration": 0.023541,
     "end_time": "2025-07-28T10:36:39.815432",
     "exception": false,
     "start_time": "2025-07-28T10:36:39.791891",
     "status": "completed"
    },
    "tags": []
   },
   "outputs": [
    {
     "data": {
      "text/plain": [
       "year\n",
       "2010    1000\n",
       "2011    1000\n",
       "2012    1000\n",
       "2013    1000\n",
       "2014    1000\n",
       "2015    1000\n",
       "2016    1000\n",
       "dtype: int64"
      ]
     },
     "metadata": {},
     "output_type": "display_data"
    }
   ],
   "source": [
    "display(siab_s.groupby(\"year\").size())"
   ]
  },
  {
   "cell_type": "code",
   "execution_count": 17,
   "id": "a561edb4-d032-42cb-8256-22eac1111c64",
   "metadata": {
    "execution": {
     "iopub.execute_input": "2025-07-28T10:36:39.838754Z",
     "iopub.status.busy": "2025-07-28T10:36:39.838251Z",
     "iopub.status.idle": "2025-07-28T10:36:40.096994Z",
     "shell.execute_reply": "2025-07-28T10:36:40.095830Z"
    },
    "papermill": {
     "duration": 0.271862,
     "end_time": "2025-07-28T10:36:40.098767",
     "exception": false,
     "start_time": "2025-07-28T10:36:39.826905",
     "status": "completed"
    },
    "tags": []
   },
   "outputs": [],
   "source": [
    "siab_train = siab_s[siab_s.year < 2015]\n",
    "siab_calib = siab[siab.year == 2015]\n",
    "siab_test = siab[siab.year == 2016]"
   ]
  },
  {
   "cell_type": "code",
   "execution_count": 18,
   "id": "472de16f-c3db-4916-846b-1f0de9cf1746",
   "metadata": {
    "execution": {
     "iopub.execute_input": "2025-07-28T10:36:40.122356Z",
     "iopub.status.busy": "2025-07-28T10:36:40.121800Z",
     "iopub.status.idle": "2025-07-28T10:36:40.129057Z",
     "shell.execute_reply": "2025-07-28T10:36:40.128141Z"
    },
    "papermill": {
     "duration": 0.020295,
     "end_time": "2025-07-28T10:36:40.130386",
     "exception": false,
     "start_time": "2025-07-28T10:36:40.110091",
     "status": "completed"
    },
    "tags": []
   },
   "outputs": [],
   "source": [
    "X_train = siab_train.iloc[:,4:164]\n",
    "y_train = siab_train.iloc[:, [3]]"
   ]
  },
  {
   "cell_type": "code",
   "execution_count": 19,
   "id": "828c96af-f43a-4ed6-ba47-8ac73a47d56c",
   "metadata": {
    "execution": {
     "iopub.execute_input": "2025-07-28T10:36:40.157928Z",
     "iopub.status.busy": "2025-07-28T10:36:40.157243Z",
     "iopub.status.idle": "2025-07-28T10:36:40.212944Z",
     "shell.execute_reply": "2025-07-28T10:36:40.211834Z"
    },
    "papermill": {
     "duration": 0.072574,
     "end_time": "2025-07-28T10:36:40.214733",
     "exception": false,
     "start_time": "2025-07-28T10:36:40.142159",
     "status": "completed"
    },
    "tags": []
   },
   "outputs": [],
   "source": [
    "X_calib = siab_calib.iloc[:,4:164]\n",
    "y_calib = siab_calib.iloc[:, [3]]"
   ]
  },
  {
   "cell_type": "code",
   "execution_count": 20,
   "id": "c34be9c3-6bd6-476e-acd3-845840e303be",
   "metadata": {
    "execution": {
     "iopub.execute_input": "2025-07-28T10:36:40.257182Z",
     "iopub.status.busy": "2025-07-28T10:36:40.256190Z",
     "iopub.status.idle": "2025-07-28T10:36:40.315903Z",
     "shell.execute_reply": "2025-07-28T10:36:40.314894Z"
    },
    "papermill": {
     "duration": 0.084306,
     "end_time": "2025-07-28T10:36:40.317509",
     "exception": false,
     "start_time": "2025-07-28T10:36:40.233203",
     "status": "completed"
    },
    "tags": []
   },
   "outputs": [],
   "source": [
    "X_test = siab_test.iloc[:,4:164]\n",
    "y_true = siab_test.iloc[:, [3]]"
   ]
  },
  {
   "cell_type": "code",
   "execution_count": 21,
   "id": "e6c733c5",
   "metadata": {
    "execution": {
     "iopub.execute_input": "2025-07-28T10:36:40.343043Z",
     "iopub.status.busy": "2025-07-28T10:36:40.342594Z",
     "iopub.status.idle": "2025-07-28T10:36:40.433101Z",
     "shell.execute_reply": "2025-07-28T10:36:40.432268Z"
    },
    "papermill": {
     "duration": 0.105534,
     "end_time": "2025-07-28T10:36:40.435553",
     "exception": false,
     "start_time": "2025-07-28T10:36:40.330019",
     "status": "completed"
    },
    "tags": []
   },
   "outputs": [],
   "source": [
    "# Auxiliary data needed downstream in the pipeline\n",
    "\n",
    "org_train = X_train.copy()\n",
    "org_test = X_test.copy()\n",
    "org_calib = X_calib.copy()"
   ]
  },
  {
   "cell_type": "markdown",
   "id": "0a4a1b33",
   "metadata": {
    "papermill": {
     "duration": 0.010826,
     "end_time": "2025-07-28T10:36:40.466802",
     "exception": false,
     "start_time": "2025-07-28T10:36:40.455976",
     "status": "completed"
    },
    "tags": []
   },
   "source": [
    "# Preprocessing Data"
   ]
  },
  {
   "cell_type": "code",
   "execution_count": 22,
   "id": "ca879031",
   "metadata": {
    "execution": {
     "iopub.execute_input": "2025-07-28T10:36:40.489545Z",
     "iopub.status.busy": "2025-07-28T10:36:40.489195Z",
     "iopub.status.idle": "2025-07-28T10:36:40.494382Z",
     "shell.execute_reply": "2025-07-28T10:36:40.493573Z"
    },
    "papermill": {
     "duration": 0.018193,
     "end_time": "2025-07-28T10:36:40.495723",
     "exception": false,
     "start_time": "2025-07-28T10:36:40.477530",
     "status": "completed"
    },
    "tags": []
   },
   "outputs": [],
   "source": [
    "# EXCLUDE PROTECTED FEATURES\n",
    "# ----------------------\n",
    "# \"exclude_features\": \"none\", # \"nationality\", \"sex\", \"nationality-sex\"\n",
    "\n",
    "excluded_features = universe[\"exclude_features\"].split(\"-\") # split, e.g.: \"nationality-sex\" -> [\"nationality\", \"sex\"]\n",
    "excluded_features_dictionary = {\n",
    "    \"nationality\": [\"maxdeutsch1\", \"maxdeutsch.Missing.\"],\n",
    "    \"sex\": [\"frau1\"],\n",
    "    \"age\": [\"age\"],\n",
    "}\n"
   ]
  },
  {
   "cell_type": "code",
   "execution_count": 23,
   "id": "b745ac60",
   "metadata": {
    "execution": {
     "iopub.execute_input": "2025-07-28T10:36:40.523201Z",
     "iopub.status.busy": "2025-07-28T10:36:40.522693Z",
     "iopub.status.idle": "2025-07-28T10:36:40.527538Z",
     "shell.execute_reply": "2025-07-28T10:36:40.526784Z"
    },
    "papermill": {
     "duration": 0.022007,
     "end_time": "2025-07-28T10:36:40.528922",
     "exception": false,
     "start_time": "2025-07-28T10:36:40.506915",
     "status": "completed"
    },
    "tags": []
   },
   "outputs": [],
   "source": [
    "# Code nice names to column names\n",
    "\n",
    "excluded_features_columns = [\n",
    "    excluded_features_dictionary[f] for f in excluded_features if len(f) > 0 and f != \"none\"\n",
    "]"
   ]
  },
  {
   "cell_type": "code",
   "execution_count": 24,
   "id": "f84f73a2",
   "metadata": {
    "execution": {
     "iopub.execute_input": "2025-07-28T10:36:40.552787Z",
     "iopub.status.busy": "2025-07-28T10:36:40.552296Z",
     "iopub.status.idle": "2025-07-28T10:36:40.558229Z",
     "shell.execute_reply": "2025-07-28T10:36:40.557280Z"
    },
    "papermill": {
     "duration": 0.019231,
     "end_time": "2025-07-28T10:36:40.559578",
     "exception": false,
     "start_time": "2025-07-28T10:36:40.540347",
     "status": "completed"
    },
    "tags": []
   },
   "outputs": [],
   "source": [
    "from utils import flatten_once\n",
    "\n",
    "excluded_features_columns = flatten_once(excluded_features_columns)"
   ]
  },
  {
   "cell_type": "code",
   "execution_count": 25,
   "id": "884dea22",
   "metadata": {
    "execution": {
     "iopub.execute_input": "2025-07-28T10:36:40.596118Z",
     "iopub.status.busy": "2025-07-28T10:36:40.595619Z",
     "iopub.status.idle": "2025-07-28T10:36:40.605768Z",
     "shell.execute_reply": "2025-07-28T10:36:40.604640Z"
    },
    "papermill": {
     "duration": 0.032172,
     "end_time": "2025-07-28T10:36:40.607481",
     "exception": false,
     "start_time": "2025-07-28T10:36:40.575309",
     "status": "completed"
    },
    "tags": []
   },
   "outputs": [
    {
     "name": "stdout",
     "output_type": "stream",
     "text": [
      "Dropping features: ['maxdeutsch1', 'maxdeutsch.Missing.', 'frau1']\n"
     ]
    }
   ],
   "source": [
    "if len(excluded_features_columns) > 0:\n",
    "    print(f\"Dropping features: {excluded_features_columns}\")\n",
    "    X_train.drop(excluded_features_columns, axis=1, inplace=True)"
   ]
  },
  {
   "cell_type": "code",
   "execution_count": 26,
   "id": "95ab8b16",
   "metadata": {
    "execution": {
     "iopub.execute_input": "2025-07-28T10:36:40.655197Z",
     "iopub.status.busy": "2025-07-28T10:36:40.654437Z",
     "iopub.status.idle": "2025-07-28T10:36:40.711295Z",
     "shell.execute_reply": "2025-07-28T10:36:40.710151Z"
    },
    "papermill": {
     "duration": 0.083291,
     "end_time": "2025-07-28T10:36:40.713239",
     "exception": false,
     "start_time": "2025-07-28T10:36:40.629948",
     "status": "completed"
    },
    "tags": []
   },
   "outputs": [
    {
     "name": "stdout",
     "output_type": "stream",
     "text": [
      "Dropping features: ['maxdeutsch1', 'maxdeutsch.Missing.', 'frau1']\n"
     ]
    }
   ],
   "source": [
    "if len(excluded_features_columns) > 0:\n",
    "    print(f\"Dropping features: {excluded_features_columns}\")\n",
    "    X_test.drop(excluded_features_columns, axis=1, inplace=True)"
   ]
  },
  {
   "cell_type": "code",
   "execution_count": 27,
   "id": "1853aaf5-fb9f-46cb-a2b5-8ea4ae2237e4",
   "metadata": {
    "execution": {
     "iopub.execute_input": "2025-07-28T10:36:40.762890Z",
     "iopub.status.busy": "2025-07-28T10:36:40.762457Z",
     "iopub.status.idle": "2025-07-28T10:36:40.848134Z",
     "shell.execute_reply": "2025-07-28T10:36:40.847075Z"
    },
    "papermill": {
     "duration": 0.110874,
     "end_time": "2025-07-28T10:36:40.849940",
     "exception": false,
     "start_time": "2025-07-28T10:36:40.739066",
     "status": "completed"
    },
    "tags": []
   },
   "outputs": [
    {
     "name": "stdout",
     "output_type": "stream",
     "text": [
      "Dropping features: ['maxdeutsch1', 'maxdeutsch.Missing.', 'frau1']\n"
     ]
    }
   ],
   "source": [
    "if len(excluded_features_columns) > 0:\n",
    "    print(f\"Dropping features: {excluded_features_columns}\")\n",
    "    X_calib.drop(excluded_features_columns, axis=1, inplace=True)"
   ]
  },
  {
   "cell_type": "code",
   "execution_count": 28,
   "id": "6727d079-03e5-481e-9d38-292a90b7a0a8",
   "metadata": {
    "execution": {
     "iopub.execute_input": "2025-07-28T10:36:40.896376Z",
     "iopub.status.busy": "2025-07-28T10:36:40.895824Z",
     "iopub.status.idle": "2025-07-28T10:36:40.901127Z",
     "shell.execute_reply": "2025-07-28T10:36:40.899990Z"
    },
    "papermill": {
     "duration": 0.030329,
     "end_time": "2025-07-28T10:36:40.902910",
     "exception": false,
     "start_time": "2025-07-28T10:36:40.872581",
     "status": "completed"
    },
    "tags": []
   },
   "outputs": [],
   "source": [
    "# SPLIT & STRATIFY DATA\n",
    "# ----------------------"
   ]
  },
  {
   "cell_type": "code",
   "execution_count": 29,
   "id": "76c4dc6d",
   "metadata": {
    "execution": {
     "iopub.execute_input": "2025-07-28T10:36:40.951168Z",
     "iopub.status.busy": "2025-07-28T10:36:40.950293Z",
     "iopub.status.idle": "2025-07-28T10:36:40.956694Z",
     "shell.execute_reply": "2025-07-28T10:36:40.955611Z"
    },
    "papermill": {
     "duration": 0.031928,
     "end_time": "2025-07-28T10:36:40.958427",
     "exception": false,
     "start_time": "2025-07-28T10:36:40.926499",
     "status": "completed"
    },
    "tags": []
   },
   "outputs": [],
   "source": [
    "# EXCLUDE CERTAIN SUBGROUPS\n",
    "# ----------------------\n",
    "\n",
    "mode = universe.get(\"exclude_subgroups\", \"keep-all\") \n",
    "# Fetches the exclude_subgroups setting from the universe dict.\n",
    "# Defaults to \"keep-all\" if the key is missing."
   ]
  },
  {
   "cell_type": "code",
   "execution_count": 30,
   "id": "21994072",
   "metadata": {
    "execution": {
     "iopub.execute_input": "2025-07-28T10:36:41.006238Z",
     "iopub.status.busy": "2025-07-28T10:36:41.005437Z",
     "iopub.status.idle": "2025-07-28T10:36:41.013367Z",
     "shell.execute_reply": "2025-07-28T10:36:41.012396Z"
    },
    "papermill": {
     "duration": 0.033353,
     "end_time": "2025-07-28T10:36:41.015099",
     "exception": false,
     "start_time": "2025-07-28T10:36:40.981746",
     "status": "completed"
    },
    "tags": []
   },
   "outputs": [],
   "source": [
    "if mode == \"keep-all\":\n",
    "    keep_mask = pd.Series(True, index=org_train.index)\n",
    "\n",
    "# org_train contains the original feature columns from features_org (in Simson)\n",
    "# features_org contains unprocessed features, for me X_train at beginning ???\n",
    "# For keep-all, creates a boolean Series (keep_mask) of all True, so no rows are removed.\n",
    "\n",
    "elif mode == \"drop-non-german\":\n",
    "    keep_mask = org_train[\"maxdeutsch1\"] == 1 # ??? what about missing values?\n",
    "\n",
    "else:\n",
    "    raise ValueError(f\"Unsupported mode for exclude_subgroups: {mode}\")\n"
   ]
  },
  {
   "cell_type": "code",
   "execution_count": 31,
   "id": "71651440",
   "metadata": {
    "execution": {
     "iopub.execute_input": "2025-07-28T10:36:41.061357Z",
     "iopub.status.busy": "2025-07-28T10:36:41.060635Z",
     "iopub.status.idle": "2025-07-28T10:36:41.069158Z",
     "shell.execute_reply": "2025-07-28T10:36:41.068144Z"
    },
    "papermill": {
     "duration": 0.034146,
     "end_time": "2025-07-28T10:36:41.070949",
     "exception": false,
     "start_time": "2025-07-28T10:36:41.036803",
     "status": "completed"
    },
    "tags": []
   },
   "outputs": [
    {
     "name": "stdout",
     "output_type": "stream",
     "text": [
      "Dropping 657 rows (13.14%) where mode='drop-non-german'\n"
     ]
    }
   ],
   "source": [
    "n_drop = (~keep_mask).sum() # Calculates how many rows are set to be dropped\n",
    "if n_drop > 0:\n",
    "    pct = n_drop / len(keep_mask) * 100\n",
    "    print(f\"Dropping {n_drop} rows ({pct:.2f}%) where mode='{mode}'\")"
   ]
  },
  {
   "cell_type": "code",
   "execution_count": 32,
   "id": "5fb8eee5",
   "metadata": {
    "execution": {
     "iopub.execute_input": "2025-07-28T10:36:41.117582Z",
     "iopub.status.busy": "2025-07-28T10:36:41.116539Z",
     "iopub.status.idle": "2025-07-28T10:36:41.124949Z",
     "shell.execute_reply": "2025-07-28T10:36:41.123901Z"
    },
    "papermill": {
     "duration": 0.033284,
     "end_time": "2025-07-28T10:36:41.126578",
     "exception": false,
     "start_time": "2025-07-28T10:36:41.093294",
     "status": "completed"
    },
    "tags": []
   },
   "outputs": [],
   "source": [
    "X_train = X_train[keep_mask]"
   ]
  },
  {
   "cell_type": "code",
   "execution_count": 33,
   "id": "b202bb3a",
   "metadata": {
    "execution": {
     "iopub.execute_input": "2025-07-28T10:36:41.174516Z",
     "iopub.status.busy": "2025-07-28T10:36:41.173709Z",
     "iopub.status.idle": "2025-07-28T10:36:41.180395Z",
     "shell.execute_reply": "2025-07-28T10:36:41.179366Z"
    },
    "papermill": {
     "duration": 0.032306,
     "end_time": "2025-07-28T10:36:41.182169",
     "exception": false,
     "start_time": "2025-07-28T10:36:41.149863",
     "status": "completed"
    },
    "tags": []
   },
   "outputs": [],
   "source": [
    "y_train = y_train[keep_mask]"
   ]
  },
  {
   "cell_type": "markdown",
   "id": "493e2ac3",
   "metadata": {
    "papermill": {
     "duration": 0.02241,
     "end_time": "2025-07-28T10:36:41.228207",
     "exception": false,
     "start_time": "2025-07-28T10:36:41.205797",
     "status": "completed"
    },
    "tags": []
   },
   "source": [
    "# Model Training"
   ]
  },
  {
   "cell_type": "code",
   "execution_count": 34,
   "id": "679e1268",
   "metadata": {
    "execution": {
     "iopub.execute_input": "2025-07-28T10:36:41.274794Z",
     "iopub.status.busy": "2025-07-28T10:36:41.273996Z",
     "iopub.status.idle": "2025-07-28T10:36:41.385598Z",
     "shell.execute_reply": "2025-07-28T10:36:41.384532Z"
    },
    "papermill": {
     "duration": 0.137654,
     "end_time": "2025-07-28T10:36:41.387667",
     "exception": false,
     "start_time": "2025-07-28T10:36:41.250013",
     "status": "completed"
    },
    "tags": []
   },
   "outputs": [],
   "source": [
    "from sklearn.linear_model import LogisticRegression\n",
    "from sklearn.ensemble import GradientBoostingClassifier, RandomForestClassifier\n",
    "\n",
    "if (universe[\"model\"] == \"logreg\"):\n",
    "    model = LogisticRegression() #penalty=\"none\") #, solver=\"newton-cg\", max_iter=1) # include random_state=19 ?\n",
    "elif (universe[\"model\"] == \"penalized_logreg\"):\n",
    "    model = LogisticRegression(penalty=\"l2\", C=1.0) #, solver=\"newton-cg\", max_iter=1)\n",
    "elif (universe[\"model\"] == \"rf\"):\n",
    "    model = RandomForestClassifier(n_estimators=100, n_jobs=-1)\n",
    "elif (universe[\"model\"] == \"gbm\"):\n",
    "    model = GradientBoostingClassifier()\n",
    "elif (universe[\"model\"] == \"elasticnet\"):\n",
    "    model = LogisticRegression(penalty = 'elasticnet', solver = 'saga', l1_ratio = 0.5, max_iter=5000) # which solver to use?\n",
    "else:\n",
    "    raise \"Unsupported universe.model\""
   ]
  },
  {
   "cell_type": "code",
   "execution_count": 35,
   "id": "0cc8f744",
   "metadata": {
    "execution": {
     "iopub.execute_input": "2025-07-28T10:36:41.439616Z",
     "iopub.status.busy": "2025-07-28T10:36:41.438938Z",
     "iopub.status.idle": "2025-07-28T10:36:41.446061Z",
     "shell.execute_reply": "2025-07-28T10:36:41.445014Z"
    },
    "papermill": {
     "duration": 0.03487,
     "end_time": "2025-07-28T10:36:41.447796",
     "exception": false,
     "start_time": "2025-07-28T10:36:41.412926",
     "status": "completed"
    },
    "tags": []
   },
   "outputs": [],
   "source": [
    "import numpy as np\n",
    "from sklearn.pipeline import Pipeline\n",
    "from sklearn.preprocessing import StandardScaler\n",
    "\n",
    "model = Pipeline([\n",
    "    #(\"continuous_processor\", continuous_processor),\n",
    "    #(\"categorical_preprocessor\", categorical_preprocessor),\n",
    "    (\"scale\", StandardScaler() if universe[\"scale\"] == \"scale\" else None), \n",
    "    (\"model\", model),\n",
    "])"
   ]
  },
  {
   "cell_type": "code",
   "execution_count": 36,
   "id": "9442c04d",
   "metadata": {
    "execution": {
     "iopub.execute_input": "2025-07-28T10:36:41.501075Z",
     "iopub.status.busy": "2025-07-28T10:36:41.500006Z",
     "iopub.status.idle": "2025-07-28T10:36:41.641060Z",
     "shell.execute_reply": "2025-07-28T10:36:41.639944Z"
    },
    "papermill": {
     "duration": 0.171511,
     "end_time": "2025-07-28T10:36:41.645136",
     "exception": false,
     "start_time": "2025-07-28T10:36:41.473625",
     "status": "completed"
    },
    "tags": []
   },
   "outputs": [
    {
     "name": "stderr",
     "output_type": "stream",
     "text": [
      "/dss/dsshome1/0C/ra93lal2/.local/share/virtualenvs/CMA_Fairness_v2-3j10GkSs/lib/python3.10/site-packages/sklearn/linear_model/_logistic.py:444: ConvergenceWarning: lbfgs failed to converge (status=1):\n",
      "STOP: TOTAL NO. of ITERATIONS REACHED LIMIT.\n",
      "\n",
      "Increase the number of iterations (max_iter) or scale the data as shown in:\n",
      "    https://scikit-learn.org/stable/modules/preprocessing.html\n",
      "Please also refer to the documentation for alternative solver options:\n",
      "    https://scikit-learn.org/stable/modules/linear_model.html#logistic-regression\n",
      "  n_iter_i = _check_optimize_result(\n"
     ]
    },
    {
     "data": {
      "text/html": [
       "<style>#sk-container-id-1 {color: black;background-color: white;}#sk-container-id-1 pre{padding: 0;}#sk-container-id-1 div.sk-toggleable {background-color: white;}#sk-container-id-1 label.sk-toggleable__label {cursor: pointer;display: block;width: 100%;margin-bottom: 0;padding: 0.3em;box-sizing: border-box;text-align: center;}#sk-container-id-1 label.sk-toggleable__label-arrow:before {content: \"▸\";float: left;margin-right: 0.25em;color: #696969;}#sk-container-id-1 label.sk-toggleable__label-arrow:hover:before {color: black;}#sk-container-id-1 div.sk-estimator:hover label.sk-toggleable__label-arrow:before {color: black;}#sk-container-id-1 div.sk-toggleable__content {max-height: 0;max-width: 0;overflow: hidden;text-align: left;background-color: #f0f8ff;}#sk-container-id-1 div.sk-toggleable__content pre {margin: 0.2em;color: black;border-radius: 0.25em;background-color: #f0f8ff;}#sk-container-id-1 input.sk-toggleable__control:checked~div.sk-toggleable__content {max-height: 200px;max-width: 100%;overflow: auto;}#sk-container-id-1 input.sk-toggleable__control:checked~label.sk-toggleable__label-arrow:before {content: \"▾\";}#sk-container-id-1 div.sk-estimator input.sk-toggleable__control:checked~label.sk-toggleable__label {background-color: #d4ebff;}#sk-container-id-1 div.sk-label input.sk-toggleable__control:checked~label.sk-toggleable__label {background-color: #d4ebff;}#sk-container-id-1 input.sk-hidden--visually {border: 0;clip: rect(1px 1px 1px 1px);clip: rect(1px, 1px, 1px, 1px);height: 1px;margin: -1px;overflow: hidden;padding: 0;position: absolute;width: 1px;}#sk-container-id-1 div.sk-estimator {font-family: monospace;background-color: #f0f8ff;border: 1px dotted black;border-radius: 0.25em;box-sizing: border-box;margin-bottom: 0.5em;}#sk-container-id-1 div.sk-estimator:hover {background-color: #d4ebff;}#sk-container-id-1 div.sk-parallel-item::after {content: \"\";width: 100%;border-bottom: 1px solid gray;flex-grow: 1;}#sk-container-id-1 div.sk-label:hover label.sk-toggleable__label {background-color: #d4ebff;}#sk-container-id-1 div.sk-serial::before {content: \"\";position: absolute;border-left: 1px solid gray;box-sizing: border-box;top: 0;bottom: 0;left: 50%;z-index: 0;}#sk-container-id-1 div.sk-serial {display: flex;flex-direction: column;align-items: center;background-color: white;padding-right: 0.2em;padding-left: 0.2em;position: relative;}#sk-container-id-1 div.sk-item {position: relative;z-index: 1;}#sk-container-id-1 div.sk-parallel {display: flex;align-items: stretch;justify-content: center;background-color: white;position: relative;}#sk-container-id-1 div.sk-item::before, #sk-container-id-1 div.sk-parallel-item::before {content: \"\";position: absolute;border-left: 1px solid gray;box-sizing: border-box;top: 0;bottom: 0;left: 50%;z-index: -1;}#sk-container-id-1 div.sk-parallel-item {display: flex;flex-direction: column;z-index: 1;position: relative;background-color: white;}#sk-container-id-1 div.sk-parallel-item:first-child::after {align-self: flex-end;width: 50%;}#sk-container-id-1 div.sk-parallel-item:last-child::after {align-self: flex-start;width: 50%;}#sk-container-id-1 div.sk-parallel-item:only-child::after {width: 0;}#sk-container-id-1 div.sk-dashed-wrapped {border: 1px dashed gray;margin: 0 0.4em 0.5em 0.4em;box-sizing: border-box;padding-bottom: 0.4em;background-color: white;}#sk-container-id-1 div.sk-label label {font-family: monospace;font-weight: bold;display: inline-block;line-height: 1.2em;}#sk-container-id-1 div.sk-label-container {text-align: center;}#sk-container-id-1 div.sk-container {/* jupyter's `normalize.less` sets `[hidden] { display: none; }` but bootstrap.min.css set `[hidden] { display: none !important; }` so we also need the `!important` here to be able to override the default hidden behavior on the sphinx rendered scikit-learn.org. See: https://github.com/scikit-learn/scikit-learn/issues/21755 */display: inline-block !important;position: relative;}#sk-container-id-1 div.sk-text-repr-fallback {display: none;}</style><div id=\"sk-container-id-1\" class=\"sk-top-container\"><div class=\"sk-text-repr-fallback\"><pre>Pipeline(steps=[(&#x27;scale&#x27;, None), (&#x27;model&#x27;, LogisticRegression())])</pre><b>In a Jupyter environment, please rerun this cell to show the HTML representation or trust the notebook. <br />On GitHub, the HTML representation is unable to render, please try loading this page with nbviewer.org.</b></div><div class=\"sk-container\" hidden><div class=\"sk-item sk-dashed-wrapped\"><div class=\"sk-label-container\"><div class=\"sk-label sk-toggleable\"><input class=\"sk-toggleable__control sk-hidden--visually\" id=\"sk-estimator-id-1\" type=\"checkbox\" ><label for=\"sk-estimator-id-1\" class=\"sk-toggleable__label sk-toggleable__label-arrow\">Pipeline</label><div class=\"sk-toggleable__content\"><pre>Pipeline(steps=[(&#x27;scale&#x27;, None), (&#x27;model&#x27;, LogisticRegression())])</pre></div></div></div><div class=\"sk-serial\"><div class=\"sk-item\"><div class=\"sk-estimator sk-toggleable\"><input class=\"sk-toggleable__control sk-hidden--visually\" id=\"sk-estimator-id-2\" type=\"checkbox\" ><label for=\"sk-estimator-id-2\" class=\"sk-toggleable__label sk-toggleable__label-arrow\">None</label><div class=\"sk-toggleable__content\"><pre>None</pre></div></div></div><div class=\"sk-item\"><div class=\"sk-estimator sk-toggleable\"><input class=\"sk-toggleable__control sk-hidden--visually\" id=\"sk-estimator-id-3\" type=\"checkbox\" ><label for=\"sk-estimator-id-3\" class=\"sk-toggleable__label sk-toggleable__label-arrow\">LogisticRegression</label><div class=\"sk-toggleable__content\"><pre>LogisticRegression()</pre></div></div></div></div></div></div></div>"
      ],
      "text/plain": [
       "Pipeline(steps=[('scale', None), ('model', LogisticRegression())])"
      ]
     },
     "execution_count": 36,
     "metadata": {},
     "output_type": "execute_result"
    }
   ],
   "source": [
    "model.fit(X_train, y_train.values.ravel())"
   ]
  },
  {
   "cell_type": "code",
   "execution_count": 37,
   "id": "af59f8c0",
   "metadata": {
    "execution": {
     "iopub.execute_input": "2025-07-28T10:36:41.695094Z",
     "iopub.status.busy": "2025-07-28T10:36:41.694230Z",
     "iopub.status.idle": "2025-07-28T10:36:41.699835Z",
     "shell.execute_reply": "2025-07-28T10:36:41.698763Z"
    },
    "papermill": {
     "duration": 0.032481,
     "end_time": "2025-07-28T10:36:41.701554",
     "exception": false,
     "start_time": "2025-07-28T10:36:41.669073",
     "status": "completed"
    },
    "tags": []
   },
   "outputs": [],
   "source": [
    "from fairness_multiverse.universe import predict_w_threshold"
   ]
  },
  {
   "cell_type": "code",
   "execution_count": 38,
   "id": "a7cf2e16",
   "metadata": {
    "execution": {
     "iopub.execute_input": "2025-07-28T10:36:41.750858Z",
     "iopub.status.busy": "2025-07-28T10:36:41.750358Z",
     "iopub.status.idle": "2025-07-28T10:36:41.848251Z",
     "shell.execute_reply": "2025-07-28T10:36:41.847217Z"
    },
    "papermill": {
     "duration": 0.125208,
     "end_time": "2025-07-28T10:36:41.850473",
     "exception": false,
     "start_time": "2025-07-28T10:36:41.725265",
     "status": "completed"
    },
    "tags": []
   },
   "outputs": [
    {
     "data": {
      "text/plain": [
       "0.8609965444209118"
      ]
     },
     "execution_count": 38,
     "metadata": {},
     "output_type": "execute_result"
    }
   ],
   "source": [
    "probs_test = model.predict_proba(X_test)\n",
    "\n",
    "'''\n",
    "Below code returns a boolean array (or binary 0/1 array depending on how it’s used) where each element \n",
    "is True if the probability of class 1 is greater than or equal to the threshold, and False otherwise.\n",
    "'''\n",
    "y_pred_default = predict_w_threshold(probs_test, 0.5)\n",
    "\n",
    "from sklearn.metrics import accuracy_score\n",
    "\n",
    "# Naive prediction\n",
    "accuracy_score(y_true = y_true, y_pred = y_pred_default)"
   ]
  },
  {
   "cell_type": "code",
   "execution_count": 39,
   "id": "081964c3",
   "metadata": {
    "execution": {
     "iopub.execute_input": "2025-07-28T10:36:41.901769Z",
     "iopub.status.busy": "2025-07-28T10:36:41.900993Z",
     "iopub.status.idle": "2025-07-28T10:36:41.986038Z",
     "shell.execute_reply": "2025-07-28T10:36:41.985002Z"
    },
    "papermill": {
     "duration": 0.113378,
     "end_time": "2025-07-28T10:36:41.988386",
     "exception": false,
     "start_time": "2025-07-28T10:36:41.875008",
     "status": "completed"
    },
    "tags": []
   },
   "outputs": [
    {
     "data": {
      "text/plain": [
       "array([0, 0, 0, ..., 0, 0, 0])"
      ]
     },
     "execution_count": 39,
     "metadata": {},
     "output_type": "execute_result"
    }
   ],
   "source": [
    "model.predict(X_test)"
   ]
  },
  {
   "cell_type": "markdown",
   "id": "56c9705b",
   "metadata": {
    "papermill": {
     "duration": 0.030056,
     "end_time": "2025-07-28T10:36:42.043004",
     "exception": false,
     "start_time": "2025-07-28T10:36:42.012948",
     "status": "completed"
    },
    "tags": []
   },
   "source": [
    "# Conformal Prediction"
   ]
  },
  {
   "cell_type": "code",
   "execution_count": 40,
   "id": "160ec6ff",
   "metadata": {
    "execution": {
     "iopub.execute_input": "2025-07-28T10:36:42.104818Z",
     "iopub.status.busy": "2025-07-28T10:36:42.104300Z",
     "iopub.status.idle": "2025-07-28T10:36:42.110295Z",
     "shell.execute_reply": "2025-07-28T10:36:42.109210Z"
    },
    "papermill": {
     "duration": 0.03958,
     "end_time": "2025-07-28T10:36:42.112449",
     "exception": false,
     "start_time": "2025-07-28T10:36:42.072869",
     "status": "completed"
    },
    "tags": []
   },
   "outputs": [],
   "source": [
    "# Miscoverage level for conformal prediction (10% allowed error rate => 90% target coverage)\n",
    "alpha = 0.1"
   ]
  },
  {
   "cell_type": "code",
   "execution_count": 41,
   "id": "eadf4555-3dd3-440e-8e35-f82a4ad9f855",
   "metadata": {
    "execution": {
     "iopub.execute_input": "2025-07-28T10:36:42.174528Z",
     "iopub.status.busy": "2025-07-28T10:36:42.173785Z",
     "iopub.status.idle": "2025-07-28T10:36:42.288171Z",
     "shell.execute_reply": "2025-07-28T10:36:42.286939Z"
    },
    "papermill": {
     "duration": 0.147639,
     "end_time": "2025-07-28T10:36:42.290198",
     "exception": false,
     "start_time": "2025-07-28T10:36:42.142559",
     "status": "completed"
    },
    "tags": []
   },
   "outputs": [],
   "source": [
    "probs_calib = model.predict_proba(X_calib)"
   ]
  },
  {
   "cell_type": "code",
   "execution_count": 42,
   "id": "2ed93547-6d5d-4983-9b36-1ecb300da49a",
   "metadata": {
    "execution": {
     "iopub.execute_input": "2025-07-28T10:36:42.362860Z",
     "iopub.status.busy": "2025-07-28T10:36:42.362249Z",
     "iopub.status.idle": "2025-07-28T10:36:42.369485Z",
     "shell.execute_reply": "2025-07-28T10:36:42.368273Z"
    },
    "papermill": {
     "duration": 0.041985,
     "end_time": "2025-07-28T10:36:42.371541",
     "exception": false,
     "start_time": "2025-07-28T10:36:42.329556",
     "status": "completed"
    },
    "tags": []
   },
   "outputs": [],
   "source": [
    "y_calib = y_calib.values.ravel().astype(int)"
   ]
  },
  {
   "cell_type": "code",
   "execution_count": 43,
   "id": "65d1320d-f588-4b38-9072-62af1ae97f7d",
   "metadata": {
    "execution": {
     "iopub.execute_input": "2025-07-28T10:36:42.404465Z",
     "iopub.status.busy": "2025-07-28T10:36:42.404092Z",
     "iopub.status.idle": "2025-07-28T10:36:42.410267Z",
     "shell.execute_reply": "2025-07-28T10:36:42.409489Z"
    },
    "papermill": {
     "duration": 0.021591,
     "end_time": "2025-07-28T10:36:42.411608",
     "exception": false,
     "start_time": "2025-07-28T10:36:42.390017",
     "status": "completed"
    },
    "tags": []
   },
   "outputs": [],
   "source": [
    "from fairness_multiverse.conformal import compute_nc_scores\n",
    "\n",
    "# Compute nonconformity scores on calibration set (1 - probability of true class)\n",
    "nc_scores = compute_nc_scores(probs_calib, y_calib)"
   ]
  },
  {
   "cell_type": "code",
   "execution_count": 44,
   "id": "df3b8ca3-53b7-43d5-9667-7c85da7aeda2",
   "metadata": {
    "execution": {
     "iopub.execute_input": "2025-07-28T10:36:42.438599Z",
     "iopub.status.busy": "2025-07-28T10:36:42.438064Z",
     "iopub.status.idle": "2025-07-28T10:36:42.444428Z",
     "shell.execute_reply": "2025-07-28T10:36:42.443603Z"
    },
    "papermill": {
     "duration": 0.021071,
     "end_time": "2025-07-28T10:36:42.445853",
     "exception": false,
     "start_time": "2025-07-28T10:36:42.424782",
     "status": "completed"
    },
    "tags": []
   },
   "outputs": [],
   "source": [
    "from fairness_multiverse.conformal import find_threshold\n",
    "\n",
    "# Find conformal threshold q_hat for the given alpha (split conformal method)\n",
    "q_hat = find_threshold(nc_scores, alpha)"
   ]
  },
  {
   "cell_type": "code",
   "execution_count": 45,
   "id": "4d29e6c1-0ef6-4aa4-b8fe-4fe79b0d033a",
   "metadata": {
    "execution": {
     "iopub.execute_input": "2025-07-28T10:36:42.478011Z",
     "iopub.status.busy": "2025-07-28T10:36:42.477503Z",
     "iopub.status.idle": "2025-07-28T10:36:42.483803Z",
     "shell.execute_reply": "2025-07-28T10:36:42.483062Z"
    },
    "papermill": {
     "duration": 0.023448,
     "end_time": "2025-07-28T10:36:42.485120",
     "exception": false,
     "start_time": "2025-07-28T10:36:42.461672",
     "status": "completed"
    },
    "tags": []
   },
   "outputs": [
    {
     "data": {
      "text/plain": [
       "0.6749912393154968"
      ]
     },
     "execution_count": 45,
     "metadata": {},
     "output_type": "execute_result"
    }
   ],
   "source": [
    "q_hat"
   ]
  },
  {
   "cell_type": "code",
   "execution_count": 46,
   "id": "92460794-cdac-4be2-ba28-f28c0515a6fb",
   "metadata": {
    "execution": {
     "iopub.execute_input": "2025-07-28T10:36:42.513462Z",
     "iopub.status.busy": "2025-07-28T10:36:42.512927Z",
     "iopub.status.idle": "2025-07-28T10:36:43.470020Z",
     "shell.execute_reply": "2025-07-28T10:36:43.468981Z"
    },
    "papermill": {
     "duration": 0.973667,
     "end_time": "2025-07-28T10:36:43.472197",
     "exception": false,
     "start_time": "2025-07-28T10:36:42.498530",
     "status": "completed"
    },
    "tags": []
   },
   "outputs": [],
   "source": [
    "from fairness_multiverse.conformal import predict_conformal_sets\n",
    "\n",
    "# Generate prediction sets for each test example\n",
    "pred_sets = predict_conformal_sets(model, X_test, q_hat)"
   ]
  },
  {
   "cell_type": "code",
   "execution_count": 47,
   "id": "d90c9a65-e6db-4f5d-80cd-e68fb7e46829",
   "metadata": {
    "execution": {
     "iopub.execute_input": "2025-07-28T10:36:43.531043Z",
     "iopub.status.busy": "2025-07-28T10:36:43.530313Z",
     "iopub.status.idle": "2025-07-28T10:36:43.536927Z",
     "shell.execute_reply": "2025-07-28T10:36:43.535782Z"
    },
    "papermill": {
     "duration": 0.038346,
     "end_time": "2025-07-28T10:36:43.538809",
     "exception": false,
     "start_time": "2025-07-28T10:36:43.500463",
     "status": "completed"
    },
    "tags": []
   },
   "outputs": [],
   "source": [
    "y_true = y_true.squeeze()"
   ]
  },
  {
   "cell_type": "code",
   "execution_count": 48,
   "id": "3a58a54a-1e68-46b9-927a-df01f18aebc8",
   "metadata": {
    "execution": {
     "iopub.execute_input": "2025-07-28T10:36:43.598328Z",
     "iopub.status.busy": "2025-07-28T10:36:43.597719Z",
     "iopub.status.idle": "2025-07-28T10:36:44.643542Z",
     "shell.execute_reply": "2025-07-28T10:36:44.642650Z"
    },
    "papermill": {
     "duration": 1.077239,
     "end_time": "2025-07-28T10:36:44.645088",
     "exception": false,
     "start_time": "2025-07-28T10:36:43.567849",
     "status": "completed"
    },
    "tags": []
   },
   "outputs": [],
   "source": [
    "from fairness_multiverse.conformal import evaluate_sets\n",
    "\n",
    "# Evaluate coverage and average set size on test data\n",
    "metrics = evaluate_sets(pred_sets, y_true)"
   ]
  },
  {
   "cell_type": "markdown",
   "id": "2b569c12-9aaa-4c88-98c9-bbcd0cf3ebb8",
   "metadata": {
    "papermill": {
     "duration": 0.030183,
     "end_time": "2025-07-28T10:36:44.701276",
     "exception": false,
     "start_time": "2025-07-28T10:36:44.671093",
     "status": "completed"
    },
    "tags": []
   },
   "source": [
    "# CP Metrics"
   ]
  },
  {
   "cell_type": "code",
   "execution_count": 49,
   "id": "5ce0a5cb-201f-45a0-ade5-94c7f0bd6095",
   "metadata": {
    "execution": {
     "iopub.execute_input": "2025-07-28T10:36:44.753143Z",
     "iopub.status.busy": "2025-07-28T10:36:44.752668Z",
     "iopub.status.idle": "2025-07-28T10:36:44.759904Z",
     "shell.execute_reply": "2025-07-28T10:36:44.759085Z"
    },
    "papermill": {
     "duration": 0.03595,
     "end_time": "2025-07-28T10:36:44.762145",
     "exception": false,
     "start_time": "2025-07-28T10:36:44.726195",
     "status": "completed"
    },
    "tags": []
   },
   "outputs": [
    {
     "data": {
      "text/plain": [
       "{'coverage': 0.9128748188607736, 'avg_size': 1.222661910600825}"
      ]
     },
     "execution_count": 49,
     "metadata": {},
     "output_type": "execute_result"
    }
   ],
   "source": [
    "metrics"
   ]
  },
  {
   "cell_type": "code",
   "execution_count": 50,
   "id": "9b9a838d-31c9-430b-ae14-12baee460d17",
   "metadata": {
    "execution": {
     "iopub.execute_input": "2025-07-28T10:36:44.826352Z",
     "iopub.status.busy": "2025-07-28T10:36:44.825717Z",
     "iopub.status.idle": "2025-07-28T10:36:44.833933Z",
     "shell.execute_reply": "2025-07-28T10:36:44.832685Z"
    },
    "papermill": {
     "duration": 0.036475,
     "end_time": "2025-07-28T10:36:44.835620",
     "exception": false,
     "start_time": "2025-07-28T10:36:44.799145",
     "status": "completed"
    },
    "tags": []
   },
   "outputs": [],
   "source": [
    "example_universe = universe.copy()\n",
    "universe_training_size = example_universe.get(\"training_size\")\n",
    "universe_scale = example_universe.get(\"scale\")\n",
    "universe_model = example_universe.get(\"model\")\n",
    "universe_exclude_features = example_universe.get(\"exclude_features\")\n",
    "universe_exclude_subgroups = example_universe.get(\"exclude_subgroups\")"
   ]
  },
  {
   "cell_type": "code",
   "execution_count": 51,
   "id": "f4b6a8ac-9dc0-4245-8a91-5b3b5999c4f9",
   "metadata": {
    "execution": {
     "iopub.execute_input": "2025-07-28T10:36:44.886768Z",
     "iopub.status.busy": "2025-07-28T10:36:44.886079Z",
     "iopub.status.idle": "2025-07-28T10:36:44.892912Z",
     "shell.execute_reply": "2025-07-28T10:36:44.891868Z"
    },
    "papermill": {
     "duration": 0.033986,
     "end_time": "2025-07-28T10:36:44.894561",
     "exception": false,
     "start_time": "2025-07-28T10:36:44.860575",
     "status": "completed"
    },
    "tags": []
   },
   "outputs": [],
   "source": [
    "cp_metrics_dict = {\n",
    "    \"universe_id\": [universe_id],\n",
    "    \"universe_training_size\": [universe_training_size],\n",
    "    \"universe_scale\": [universe_scale],\n",
    "    \"universe_model\": [universe_model],\n",
    "    \"universe_exclude_features\": [universe_exclude_features],\n",
    "    \"universe_exclude_subgroups\": [universe_exclude_subgroups],\n",
    "    \"q_hat\": [q_hat],\n",
    "    \"coverage\": [metrics[\"coverage\"]],\n",
    "    \"avg_size\": [metrics[\"avg_size\"]],\n",
    "}"
   ]
  },
  {
   "cell_type": "code",
   "execution_count": 52,
   "id": "908acbb1-0371-4915-85ca-3fa520d2efe2",
   "metadata": {
    "execution": {
     "iopub.execute_input": "2025-07-28T10:36:44.946216Z",
     "iopub.status.busy": "2025-07-28T10:36:44.945481Z",
     "iopub.status.idle": "2025-07-28T10:36:44.953453Z",
     "shell.execute_reply": "2025-07-28T10:36:44.952479Z"
    },
    "papermill": {
     "duration": 0.034446,
     "end_time": "2025-07-28T10:36:44.955076",
     "exception": false,
     "start_time": "2025-07-28T10:36:44.920630",
     "status": "completed"
    },
    "tags": []
   },
   "outputs": [
    {
     "data": {
      "text/plain": [
       "{'universe_id': ['0923f32be7d9369d88f0316506ff0887'],\n",
       " 'universe_training_size': ['5k'],\n",
       " 'universe_scale': ['do-not-scale'],\n",
       " 'universe_model': ['penalized_logreg'],\n",
       " 'universe_exclude_features': ['nationality-sex'],\n",
       " 'universe_exclude_subgroups': ['drop-non-german'],\n",
       " 'q_hat': [0.6749912393154968],\n",
       " 'coverage': [0.9128748188607736],\n",
       " 'avg_size': [1.222661910600825]}"
      ]
     },
     "execution_count": 52,
     "metadata": {},
     "output_type": "execute_result"
    }
   ],
   "source": [
    "cp_metrics_dict"
   ]
  },
  {
   "cell_type": "code",
   "execution_count": 53,
   "id": "33007efc-14e9-4ec6-97ac-56a455c82265",
   "metadata": {
    "execution": {
     "iopub.execute_input": "2025-07-28T10:36:45.027320Z",
     "iopub.status.busy": "2025-07-28T10:36:45.026597Z",
     "iopub.status.idle": "2025-07-28T10:36:45.033018Z",
     "shell.execute_reply": "2025-07-28T10:36:45.032164Z"
    },
    "papermill": {
     "duration": 0.055373,
     "end_time": "2025-07-28T10:36:45.034941",
     "exception": false,
     "start_time": "2025-07-28T10:36:44.979568",
     "status": "completed"
    },
    "tags": []
   },
   "outputs": [],
   "source": [
    "cp_metrics_df = pd.DataFrame(cp_metrics_dict)"
   ]
  },
  {
   "cell_type": "code",
   "execution_count": 54,
   "id": "db12611b-57b2-4910-b9d0-355adfd6e7bf",
   "metadata": {
    "execution": {
     "iopub.execute_input": "2025-07-28T10:36:45.084330Z",
     "iopub.status.busy": "2025-07-28T10:36:45.083352Z",
     "iopub.status.idle": "2025-07-28T10:36:45.103328Z",
     "shell.execute_reply": "2025-07-28T10:36:45.102136Z"
    },
    "papermill": {
     "duration": 0.046064,
     "end_time": "2025-07-28T10:36:45.104924",
     "exception": false,
     "start_time": "2025-07-28T10:36:45.058860",
     "status": "completed"
    },
    "tags": []
   },
   "outputs": [
    {
     "data": {
      "text/html": [
       "<div>\n",
       "<style scoped>\n",
       "    .dataframe tbody tr th:only-of-type {\n",
       "        vertical-align: middle;\n",
       "    }\n",
       "\n",
       "    .dataframe tbody tr th {\n",
       "        vertical-align: top;\n",
       "    }\n",
       "\n",
       "    .dataframe thead th {\n",
       "        text-align: right;\n",
       "    }\n",
       "</style>\n",
       "<table border=\"1\" class=\"dataframe\">\n",
       "  <thead>\n",
       "    <tr style=\"text-align: right;\">\n",
       "      <th></th>\n",
       "      <th>universe_id</th>\n",
       "      <th>universe_training_size</th>\n",
       "      <th>universe_scale</th>\n",
       "      <th>universe_model</th>\n",
       "      <th>universe_exclude_features</th>\n",
       "      <th>universe_exclude_subgroups</th>\n",
       "      <th>q_hat</th>\n",
       "      <th>coverage</th>\n",
       "      <th>avg_size</th>\n",
       "    </tr>\n",
       "  </thead>\n",
       "  <tbody>\n",
       "    <tr>\n",
       "      <th>0</th>\n",
       "      <td>0923f32be7d9369d88f0316506ff0887</td>\n",
       "      <td>5k</td>\n",
       "      <td>do-not-scale</td>\n",
       "      <td>penalized_logreg</td>\n",
       "      <td>nationality-sex</td>\n",
       "      <td>drop-non-german</td>\n",
       "      <td>0.674991</td>\n",
       "      <td>0.912875</td>\n",
       "      <td>1.222662</td>\n",
       "    </tr>\n",
       "  </tbody>\n",
       "</table>\n",
       "</div>"
      ],
      "text/plain": [
       "                        universe_id universe_training_size universe_scale  \\\n",
       "0  0923f32be7d9369d88f0316506ff0887                     5k   do-not-scale   \n",
       "\n",
       "     universe_model universe_exclude_features universe_exclude_subgroups  \\\n",
       "0  penalized_logreg           nationality-sex            drop-non-german   \n",
       "\n",
       "      q_hat  coverage  avg_size  \n",
       "0  0.674991  0.912875  1.222662  "
      ]
     },
     "execution_count": 54,
     "metadata": {},
     "output_type": "execute_result"
    }
   ],
   "source": [
    "cp_metrics_df"
   ]
  },
  {
   "cell_type": "code",
   "execution_count": 55,
   "id": "b7fbde55-a0a1-47e4-9af6-fe4a17fa8c61",
   "metadata": {
    "execution": {
     "iopub.execute_input": "2025-07-28T10:36:45.157654Z",
     "iopub.status.busy": "2025-07-28T10:36:45.157164Z",
     "iopub.status.idle": "2025-07-28T10:36:45.162646Z",
     "shell.execute_reply": "2025-07-28T10:36:45.161603Z"
    },
    "papermill": {
     "duration": 0.034523,
     "end_time": "2025-07-28T10:36:45.164369",
     "exception": false,
     "start_time": "2025-07-28T10:36:45.129846",
     "status": "completed"
    },
    "tags": []
   },
   "outputs": [],
   "source": [
    "# Conditional Coverage & looking at subgroups"
   ]
  },
  {
   "cell_type": "code",
   "execution_count": 56,
   "id": "027ae886-68dd-4141-96c7-805a5450e1ef",
   "metadata": {
    "execution": {
     "iopub.execute_input": "2025-07-28T10:36:45.216836Z",
     "iopub.status.busy": "2025-07-28T10:36:45.215801Z",
     "iopub.status.idle": "2025-07-28T10:36:45.509294Z",
     "shell.execute_reply": "2025-07-28T10:36:45.508093Z"
    },
    "papermill": {
     "duration": 0.32273,
     "end_time": "2025-07-28T10:36:45.512085",
     "exception": false,
     "start_time": "2025-07-28T10:36:45.189355",
     "status": "completed"
    },
    "tags": []
   },
   "outputs": [],
   "source": [
    "from fairness_multiverse.conformal import build_cp_groups\n",
    "\n",
    "cp_groups_df = build_cp_groups(pred_sets, y_true, X_test.index, org_test)\n",
    "#needs universe_id and setting"
   ]
  },
  {
   "cell_type": "code",
   "execution_count": 57,
   "id": "01d5802c-663a-4d1f-9d69-e036faaffbf7",
   "metadata": {
    "execution": {
     "iopub.execute_input": "2025-07-28T10:36:45.588078Z",
     "iopub.status.busy": "2025-07-28T10:36:45.587657Z",
     "iopub.status.idle": "2025-07-28T10:36:45.592183Z",
     "shell.execute_reply": "2025-07-28T10:36:45.591246Z"
    },
    "papermill": {
     "duration": 0.02323,
     "end_time": "2025-07-28T10:36:45.593613",
     "exception": false,
     "start_time": "2025-07-28T10:36:45.570383",
     "status": "completed"
    },
    "tags": []
   },
   "outputs": [],
   "source": [
    "#delete\n",
    "#cp_groups_df"
   ]
  },
  {
   "cell_type": "code",
   "execution_count": 58,
   "id": "fa424af1-d1eb-443d-b717-2d279ada8408",
   "metadata": {
    "execution": {
     "iopub.execute_input": "2025-07-28T10:36:45.654804Z",
     "iopub.status.busy": "2025-07-28T10:36:45.654393Z",
     "iopub.status.idle": "2025-07-28T10:36:45.659021Z",
     "shell.execute_reply": "2025-07-28T10:36:45.658042Z"
    },
    "papermill": {
     "duration": 0.04236,
     "end_time": "2025-07-28T10:36:45.661004",
     "exception": false,
     "start_time": "2025-07-28T10:36:45.618644",
     "status": "completed"
    },
    "tags": []
   },
   "outputs": [],
   "source": [
    "#delete\n",
    "#percentage = (cp_groups_df['nongerman_female'] == 1).mean() * 100\n",
    "#print(percentage)\n"
   ]
  },
  {
   "cell_type": "code",
   "execution_count": 59,
   "id": "6cbdab96-b2b2-45af-ad54-d0516db2e28d",
   "metadata": {
    "execution": {
     "iopub.execute_input": "2025-07-28T10:36:45.712259Z",
     "iopub.status.busy": "2025-07-28T10:36:45.711759Z",
     "iopub.status.idle": "2025-07-28T10:36:47.545596Z",
     "shell.execute_reply": "2025-07-28T10:36:47.544385Z"
    },
    "papermill": {
     "duration": 1.864076,
     "end_time": "2025-07-28T10:36:47.547293",
     "exception": false,
     "start_time": "2025-07-28T10:36:45.683217",
     "status": "completed"
    },
    "tags": []
   },
   "outputs": [],
   "source": [
    "# Define covered = 1 if true_label is in the predicted set\n",
    "cp_groups_df['covered'] = cp_groups_df.apply(\n",
    "    lambda r: int(r['true_label'] in r['pred_set']),\n",
    "    axis=1\n",
    ")"
   ]
  },
  {
   "cell_type": "code",
   "execution_count": 60,
   "id": "338ff529-1a6b-4b87-a931-8e4788d52aad",
   "metadata": {
    "execution": {
     "iopub.execute_input": "2025-07-28T10:36:47.581904Z",
     "iopub.status.busy": "2025-07-28T10:36:47.581481Z",
     "iopub.status.idle": "2025-07-28T10:36:47.586787Z",
     "shell.execute_reply": "2025-07-28T10:36:47.585858Z"
    },
    "papermill": {
     "duration": 0.022042,
     "end_time": "2025-07-28T10:36:47.588636",
     "exception": false,
     "start_time": "2025-07-28T10:36:47.566594",
     "status": "completed"
    },
    "tags": []
   },
   "outputs": [],
   "source": [
    "#cp_groups_df"
   ]
  },
  {
   "cell_type": "code",
   "execution_count": 61,
   "id": "90032e27-66df-4540-9169-4e89cfbaa758",
   "metadata": {
    "execution": {
     "iopub.execute_input": "2025-07-28T10:36:47.644822Z",
     "iopub.status.busy": "2025-07-28T10:36:47.644131Z",
     "iopub.status.idle": "2025-07-28T10:36:47.657349Z",
     "shell.execute_reply": "2025-07-28T10:36:47.656308Z"
    },
    "papermill": {
     "duration": 0.044243,
     "end_time": "2025-07-28T10:36:47.659218",
     "exception": false,
     "start_time": "2025-07-28T10:36:47.614975",
     "status": "completed"
    },
    "tags": []
   },
   "outputs": [],
   "source": [
    "subgroups = ['frau1','nongerman','nongerman_male','nongerman_female']\n",
    "\n",
    "# Conditional coverage for subgroup==1\n",
    "cond_coverage = {\n",
    "    g: cp_groups_df.loc[cp_groups_df[g]==1, 'covered'].mean()\n",
    "    for g in subgroups\n",
    "}"
   ]
  },
  {
   "cell_type": "code",
   "execution_count": 62,
   "id": "1e348fb1-b9c3-45bc-ba23-f016827a7e0d",
   "metadata": {
    "execution": {
     "iopub.execute_input": "2025-07-28T10:36:47.719252Z",
     "iopub.status.busy": "2025-07-28T10:36:47.718259Z",
     "iopub.status.idle": "2025-07-28T10:36:47.726434Z",
     "shell.execute_reply": "2025-07-28T10:36:47.725408Z"
    },
    "papermill": {
     "duration": 0.037888,
     "end_time": "2025-07-28T10:36:47.728003",
     "exception": false,
     "start_time": "2025-07-28T10:36:47.690115",
     "status": "completed"
    },
    "tags": []
   },
   "outputs": [
    {
     "data": {
      "text/plain": [
       "{'frau1': 0.9128993125758188,\n",
       " 'nongerman': 0.9431314208723965,\n",
       " 'nongerman_male': 0.9519949563181123,\n",
       " 'nongerman_female': 0.9284649776453056}"
      ]
     },
     "execution_count": 62,
     "metadata": {},
     "output_type": "execute_result"
    }
   ],
   "source": [
    "cond_coverage"
   ]
  },
  {
   "cell_type": "code",
   "execution_count": 63,
   "id": "f5093324-c3dd-4d63-bc4c-8d945e5c8bbb",
   "metadata": {
    "execution": {
     "iopub.execute_input": "2025-07-28T10:36:47.786445Z",
     "iopub.status.busy": "2025-07-28T10:36:47.785310Z",
     "iopub.status.idle": "2025-07-28T10:36:47.795676Z",
     "shell.execute_reply": "2025-07-28T10:36:47.794560Z"
    },
    "papermill": {
     "duration": 0.041926,
     "end_time": "2025-07-28T10:36:47.797725",
     "exception": false,
     "start_time": "2025-07-28T10:36:47.755799",
     "status": "completed"
    },
    "tags": []
   },
   "outputs": [],
   "source": [
    "for subgroup, cov in cond_coverage.items():\n",
    "    cp_metrics_df[f\"cov_{subgroup}\"] = cov"
   ]
  },
  {
   "cell_type": "code",
   "execution_count": 64,
   "id": "6e872e10-dbe5-49e8-b554-5030c98ff75d",
   "metadata": {
    "execution": {
     "iopub.execute_input": "2025-07-28T10:36:47.854524Z",
     "iopub.status.busy": "2025-07-28T10:36:47.853721Z",
     "iopub.status.idle": "2025-07-28T10:36:47.874143Z",
     "shell.execute_reply": "2025-07-28T10:36:47.873035Z"
    },
    "papermill": {
     "duration": 0.050783,
     "end_time": "2025-07-28T10:36:47.876092",
     "exception": false,
     "start_time": "2025-07-28T10:36:47.825309",
     "status": "completed"
    },
    "tags": []
   },
   "outputs": [
    {
     "data": {
      "text/html": [
       "<div>\n",
       "<style scoped>\n",
       "    .dataframe tbody tr th:only-of-type {\n",
       "        vertical-align: middle;\n",
       "    }\n",
       "\n",
       "    .dataframe tbody tr th {\n",
       "        vertical-align: top;\n",
       "    }\n",
       "\n",
       "    .dataframe thead th {\n",
       "        text-align: right;\n",
       "    }\n",
       "</style>\n",
       "<table border=\"1\" class=\"dataframe\">\n",
       "  <thead>\n",
       "    <tr style=\"text-align: right;\">\n",
       "      <th></th>\n",
       "      <th>universe_id</th>\n",
       "      <th>universe_training_size</th>\n",
       "      <th>universe_scale</th>\n",
       "      <th>universe_model</th>\n",
       "      <th>universe_exclude_features</th>\n",
       "      <th>universe_exclude_subgroups</th>\n",
       "      <th>q_hat</th>\n",
       "      <th>coverage</th>\n",
       "      <th>avg_size</th>\n",
       "      <th>cov_frau1</th>\n",
       "      <th>cov_nongerman</th>\n",
       "      <th>cov_nongerman_male</th>\n",
       "      <th>cov_nongerman_female</th>\n",
       "    </tr>\n",
       "  </thead>\n",
       "  <tbody>\n",
       "    <tr>\n",
       "      <th>0</th>\n",
       "      <td>0923f32be7d9369d88f0316506ff0887</td>\n",
       "      <td>5k</td>\n",
       "      <td>do-not-scale</td>\n",
       "      <td>penalized_logreg</td>\n",
       "      <td>nationality-sex</td>\n",
       "      <td>drop-non-german</td>\n",
       "      <td>0.674991</td>\n",
       "      <td>0.912875</td>\n",
       "      <td>1.222662</td>\n",
       "      <td>0.912899</td>\n",
       "      <td>0.943131</td>\n",
       "      <td>0.951995</td>\n",
       "      <td>0.928465</td>\n",
       "    </tr>\n",
       "  </tbody>\n",
       "</table>\n",
       "</div>"
      ],
      "text/plain": [
       "                        universe_id universe_training_size universe_scale  \\\n",
       "0  0923f32be7d9369d88f0316506ff0887                     5k   do-not-scale   \n",
       "\n",
       "     universe_model universe_exclude_features universe_exclude_subgroups  \\\n",
       "0  penalized_logreg           nationality-sex            drop-non-german   \n",
       "\n",
       "      q_hat  coverage  avg_size  cov_frau1  cov_nongerman  cov_nongerman_male  \\\n",
       "0  0.674991  0.912875  1.222662   0.912899       0.943131            0.951995   \n",
       "\n",
       "   cov_nongerman_female  \n",
       "0              0.928465  "
      ]
     },
     "execution_count": 64,
     "metadata": {},
     "output_type": "execute_result"
    }
   ],
   "source": [
    "cp_metrics_df"
   ]
  },
  {
   "cell_type": "markdown",
   "id": "33774451",
   "metadata": {
    "papermill": {
     "duration": 0.026427,
     "end_time": "2025-07-28T10:36:47.932121",
     "exception": false,
     "start_time": "2025-07-28T10:36:47.905694",
     "status": "completed"
    },
    "tags": []
   },
   "source": [
    "# (Fairness) Metrics"
   ]
  },
  {
   "cell_type": "code",
   "execution_count": 65,
   "id": "debc5d62",
   "metadata": {
    "execution": {
     "iopub.execute_input": "2025-07-28T10:36:47.988109Z",
     "iopub.status.busy": "2025-07-28T10:36:47.987357Z",
     "iopub.status.idle": "2025-07-28T10:36:48.010781Z",
     "shell.execute_reply": "2025-07-28T10:36:48.009401Z"
    },
    "papermill": {
     "duration": 0.053773,
     "end_time": "2025-07-28T10:36:48.012794",
     "exception": false,
     "start_time": "2025-07-28T10:36:47.959021",
     "status": "completed"
    },
    "tags": []
   },
   "outputs": [],
   "source": [
    "# do I need to include maxdeutsch1.missing?\n",
    "\n",
    "import numpy as np\n",
    "\n",
    "colname_to_bin = \"maxdeutsch1\"\n",
    "majority_value = org_train[colname_to_bin].mode()[0]\n",
    "\n",
    "org_test[\"majmin\"] = np.where(org_test[colname_to_bin] == majority_value, \"majority\", \"minority\")"
   ]
  },
  {
   "cell_type": "code",
   "execution_count": 66,
   "id": "06a50de5",
   "metadata": {
    "execution": {
     "iopub.execute_input": "2025-07-28T10:36:48.070965Z",
     "iopub.status.busy": "2025-07-28T10:36:48.070525Z",
     "iopub.status.idle": "2025-07-28T10:36:50.415768Z",
     "shell.execute_reply": "2025-07-28T10:36:50.414990Z"
    },
    "papermill": {
     "duration": 2.376042,
     "end_time": "2025-07-28T10:36:50.417232",
     "exception": false,
     "start_time": "2025-07-28T10:36:48.041190",
     "status": "completed"
    },
    "tags": []
   },
   "outputs": [],
   "source": [
    "example_universe = universe.copy()\n",
    "example_universe[\"cutoff\"] = example_universe[\"cutoff\"][0]\n",
    "example_universe[\"eval_fairness_grouping\"] = example_universe[\"eval_fairness_grouping\"][0]\n",
    "fairness_dict, metric_frame = universe_analysis.compute_metrics(\n",
    "    example_universe,\n",
    "    y_pred_prob=probs_test,\n",
    "    y_test=y_true,\n",
    "    org_test=org_test,\n",
    ")"
   ]
  },
  {
   "cell_type": "markdown",
   "id": "f95d4e02",
   "metadata": {
    "papermill": {
     "duration": 0.013314,
     "end_time": "2025-07-28T10:36:50.444915",
     "exception": false,
     "start_time": "2025-07-28T10:36:50.431601",
     "status": "completed"
    },
    "tags": []
   },
   "source": [
    "# Overall"
   ]
  },
  {
   "cell_type": "markdown",
   "id": "bdee4871",
   "metadata": {
    "papermill": {
     "duration": 0.013043,
     "end_time": "2025-07-28T10:36:50.471039",
     "exception": false,
     "start_time": "2025-07-28T10:36:50.457996",
     "status": "completed"
    },
    "tags": []
   },
   "source": [
    "Fairness\n",
    "Main fairness target: Equalized Odds. Seems to be a better fit than equal opportunity, since we're not only interested in Y = 1. Seems to be a better fit than demographic parity, since we also care about accuracy, not just equal distribution of preds.\n",
    "\n",
    "Pick column for computation of fairness metrics\n",
    "\n",
    "Performance\n",
    "Overall performance measures, most interesting in relation to the measures split by group below"
   ]
  },
  {
   "cell_type": "code",
   "execution_count": 67,
   "id": "c4e067c6",
   "metadata": {
    "execution": {
     "iopub.execute_input": "2025-07-28T10:36:50.499458Z",
     "iopub.status.busy": "2025-07-28T10:36:50.498777Z",
     "iopub.status.idle": "2025-07-28T10:36:50.506347Z",
     "shell.execute_reply": "2025-07-28T10:36:50.505628Z"
    },
    "papermill": {
     "duration": 0.023464,
     "end_time": "2025-07-28T10:36:50.507760",
     "exception": false,
     "start_time": "2025-07-28T10:36:50.484296",
     "status": "completed"
    },
    "tags": []
   },
   "outputs": [
    {
     "data": {
      "text/plain": [
       "accuracy                   0.218270\n",
       "balanced accuracy          0.534979\n",
       "f1                         0.239769\n",
       "precision                  0.136972\n",
       "false positive rate        0.891026\n",
       "false negative rate        0.039016\n",
       "selection rate             0.900000\n",
       "count                  89710.000000\n",
       "dtype: float64"
      ]
     },
     "execution_count": 67,
     "metadata": {},
     "output_type": "execute_result"
    }
   ],
   "source": [
    "metric_frame.overall"
   ]
  },
  {
   "cell_type": "markdown",
   "id": "e968fe9d",
   "metadata": {
    "papermill": {
     "duration": 0.013423,
     "end_time": "2025-07-28T10:36:50.535563",
     "exception": false,
     "start_time": "2025-07-28T10:36:50.522140",
     "status": "completed"
    },
    "tags": []
   },
   "source": [
    "By Group"
   ]
  },
  {
   "cell_type": "code",
   "execution_count": 68,
   "id": "ec325bce",
   "metadata": {
    "execution": {
     "iopub.execute_input": "2025-07-28T10:36:50.564080Z",
     "iopub.status.busy": "2025-07-28T10:36:50.563541Z",
     "iopub.status.idle": "2025-07-28T10:36:50.576860Z",
     "shell.execute_reply": "2025-07-28T10:36:50.576021Z"
    },
    "papermill": {
     "duration": 0.029188,
     "end_time": "2025-07-28T10:36:50.578262",
     "exception": false,
     "start_time": "2025-07-28T10:36:50.549074",
     "status": "completed"
    },
    "tags": []
   },
   "outputs": [
    {
     "data": {
      "text/html": [
       "<div>\n",
       "<style scoped>\n",
       "    .dataframe tbody tr th:only-of-type {\n",
       "        vertical-align: middle;\n",
       "    }\n",
       "\n",
       "    .dataframe tbody tr th {\n",
       "        vertical-align: top;\n",
       "    }\n",
       "\n",
       "    .dataframe thead th {\n",
       "        text-align: right;\n",
       "    }\n",
       "</style>\n",
       "<table border=\"1\" class=\"dataframe\">\n",
       "  <thead>\n",
       "    <tr style=\"text-align: right;\">\n",
       "      <th></th>\n",
       "      <th>accuracy</th>\n",
       "      <th>balanced accuracy</th>\n",
       "      <th>f1</th>\n",
       "      <th>precision</th>\n",
       "      <th>false positive rate</th>\n",
       "      <th>false negative rate</th>\n",
       "      <th>selection rate</th>\n",
       "      <th>count</th>\n",
       "    </tr>\n",
       "    <tr>\n",
       "      <th>majmin</th>\n",
       "      <th></th>\n",
       "      <th></th>\n",
       "      <th></th>\n",
       "      <th></th>\n",
       "      <th></th>\n",
       "      <th></th>\n",
       "      <th></th>\n",
       "      <th></th>\n",
       "    </tr>\n",
       "  </thead>\n",
       "  <tbody>\n",
       "    <tr>\n",
       "      <th>majority</th>\n",
       "      <td>0.239656</td>\n",
       "      <td>0.542976</td>\n",
       "      <td>0.249261</td>\n",
       "      <td>0.143331</td>\n",
       "      <td>0.869299</td>\n",
       "      <td>0.044748</td>\n",
       "      <td>0.880656</td>\n",
       "      <td>69170.0</td>\n",
       "    </tr>\n",
       "    <tr>\n",
       "      <th>minority</th>\n",
       "      <td>0.146251</td>\n",
       "      <td>0.510154</td>\n",
       "      <td>0.209805</td>\n",
       "      <td>0.117433</td>\n",
       "      <td>0.962800</td>\n",
       "      <td>0.016892</td>\n",
       "      <td>0.965141</td>\n",
       "      <td>20540.0</td>\n",
       "    </tr>\n",
       "  </tbody>\n",
       "</table>\n",
       "</div>"
      ],
      "text/plain": [
       "          accuracy  balanced accuracy        f1  precision  \\\n",
       "majmin                                                       \n",
       "majority  0.239656           0.542976  0.249261   0.143331   \n",
       "minority  0.146251           0.510154  0.209805   0.117433   \n",
       "\n",
       "          false positive rate  false negative rate  selection rate    count  \n",
       "majmin                                                                       \n",
       "majority             0.869299             0.044748        0.880656  69170.0  \n",
       "minority             0.962800             0.016892        0.965141  20540.0  "
      ]
     },
     "execution_count": 68,
     "metadata": {},
     "output_type": "execute_result"
    }
   ],
   "source": [
    "metric_frame.by_group"
   ]
  },
  {
   "cell_type": "code",
   "execution_count": 69,
   "id": "a9ddbe63",
   "metadata": {
    "execution": {
     "iopub.execute_input": "2025-07-28T10:36:50.607954Z",
     "iopub.status.busy": "2025-07-28T10:36:50.607571Z",
     "iopub.status.idle": "2025-07-28T10:36:52.489970Z",
     "shell.execute_reply": "2025-07-28T10:36:52.488958Z"
    },
    "papermill": {
     "duration": 1.898519,
     "end_time": "2025-07-28T10:36:52.491628",
     "exception": false,
     "start_time": "2025-07-28T10:36:50.593109",
     "status": "completed"
    },
    "tags": []
   },
   "outputs": [
    {
     "data": {
      "text/plain": [
       "array([[<Axes: title={'center': 'accuracy'}, xlabel='majmin'>,\n",
       "        <Axes: title={'center': 'balanced accuracy'}, xlabel='majmin'>,\n",
       "        <Axes: title={'center': 'f1'}, xlabel='majmin'>],\n",
       "       [<Axes: title={'center': 'precision'}, xlabel='majmin'>,\n",
       "        <Axes: title={'center': 'false positive rate'}, xlabel='majmin'>,\n",
       "        <Axes: title={'center': 'false negative rate'}, xlabel='majmin'>],\n",
       "       [<Axes: title={'center': 'selection rate'}, xlabel='majmin'>,\n",
       "        <Axes: title={'center': 'count'}, xlabel='majmin'>,\n",
       "        <Axes: xlabel='majmin'>]], dtype=object)"
      ]
     },
     "execution_count": 69,
     "metadata": {},
     "output_type": "execute_result"
    },
    {
     "data": {
      "image/png": "[encoded data removed]",
      "text/plain": [
       "<Figure size 1200x800 with 9 Axes>"
      ]
     },
     "metadata": {},
     "output_type": "display_data"
    }
   ],
   "source": [
    "# In a graphic\n",
    "metric_frame.by_group.plot.bar(\n",
    "    subplots=True,\n",
    "    layout=[3, 3],\n",
    "    legend=False,\n",
    "    figsize=[12, 8],\n",
    "    title=\"Show all metrics\",\n",
    ")"
   ]
  },
  {
   "cell_type": "markdown",
   "id": "f57a0bac",
   "metadata": {
    "papermill": {
     "duration": 0.027729,
     "end_time": "2025-07-28T10:36:52.549640",
     "exception": false,
     "start_time": "2025-07-28T10:36:52.521911",
     "status": "completed"
    },
    "tags": []
   },
   "source": [
    "# Final Output"
   ]
  },
  {
   "cell_type": "code",
   "execution_count": 70,
   "id": "96d280a3",
   "metadata": {
    "execution": {
     "iopub.execute_input": "2025-07-28T10:36:52.607104Z",
     "iopub.status.busy": "2025-07-28T10:36:52.606454Z",
     "iopub.status.idle": "2025-07-28T10:36:52.614904Z",
     "shell.execute_reply": "2025-07-28T10:36:52.613976Z"
    },
    "papermill": {
     "duration": 0.039439,
     "end_time": "2025-07-28T10:36:52.616422",
     "exception": false,
     "start_time": "2025-07-28T10:36:52.576983",
     "status": "completed"
    },
    "tags": []
   },
   "outputs": [
    {
     "data": {
      "text/plain": [
       "4"
      ]
     },
     "execution_count": 70,
     "metadata": {},
     "output_type": "execute_result"
    }
   ],
   "source": [
    "sub_universes = universe_analysis.generate_sub_universes()\n",
    "len(sub_universes)"
   ]
  },
  {
   "cell_type": "code",
   "execution_count": 71,
   "id": "92adf7ba",
   "metadata": {
    "execution": {
     "iopub.execute_input": "2025-07-28T10:36:52.673706Z",
     "iopub.status.busy": "2025-07-28T10:36:52.673184Z",
     "iopub.status.idle": "2025-07-28T10:36:52.679875Z",
     "shell.execute_reply": "2025-07-28T10:36:52.678852Z"
    },
    "papermill": {
     "duration": 0.037193,
     "end_time": "2025-07-28T10:36:52.681761",
     "exception": false,
     "start_time": "2025-07-28T10:36:52.644568",
     "status": "completed"
    },
    "tags": []
   },
   "outputs": [],
   "source": [
    "def filter_sub_universe_data(sub_universe, org_test):\n",
    "    # Keep all rows — no filtering\n",
    "    keep_rows_mask = np.ones(org_test.shape[0], dtype=bool)\n",
    "\n",
    "    print(f\"[INFO] Keeping all rows: {keep_rows_mask.sum()} rows retained.\")\n",
    "    return keep_rows_mask"
   ]
  },
  {
   "cell_type": "code",
   "execution_count": 72,
   "id": "4a759155",
   "metadata": {
    "execution": {
     "iopub.execute_input": "2025-07-28T10:36:52.737773Z",
     "iopub.status.busy": "2025-07-28T10:36:52.737258Z",
     "iopub.status.idle": "2025-07-28T10:37:04.201212Z",
     "shell.execute_reply": "2025-07-28T10:37:04.199997Z"
    },
    "papermill": {
     "duration": 11.493356,
     "end_time": "2025-07-28T10:37:04.202856",
     "exception": false,
     "start_time": "2025-07-28T10:36:52.709500",
     "status": "completed"
    },
    "tags": []
   },
   "outputs": [
    {
     "name": "stdout",
     "output_type": "stream",
     "text": [
      "Stopping execution_time clock.\n",
      "[INFO] Keeping all rows: 89710 rows retained.\n"
     ]
    },
    {
     "name": "stdout",
     "output_type": "stream",
     "text": [
      "[INFO] Keeping all rows: 89710 rows retained.\n"
     ]
    },
    {
     "name": "stdout",
     "output_type": "stream",
     "text": [
      "[INFO] Keeping all rows: 89710 rows retained.\n"
     ]
    },
    {
     "name": "stdout",
     "output_type": "stream",
     "text": [
      "[INFO] Keeping all rows: 89710 rows retained.\n"
     ]
    },
    {
     "data": {
      "text/html": [
       "<div>\n",
       "<style scoped>\n",
       "    .dataframe tbody tr th:only-of-type {\n",
       "        vertical-align: middle;\n",
       "    }\n",
       "\n",
       "    .dataframe tbody tr th {\n",
       "        vertical-align: top;\n",
       "    }\n",
       "\n",
       "    .dataframe thead th {\n",
       "        text-align: right;\n",
       "    }\n",
       "</style>\n",
       "<table border=\"1\" class=\"dataframe\">\n",
       "  <thead>\n",
       "    <tr style=\"text-align: right;\">\n",
       "      <th></th>\n",
       "      <th>run_no</th>\n",
       "      <th>universe_id</th>\n",
       "      <th>universe_settings</th>\n",
       "      <th>execution_time</th>\n",
       "      <th>test_size_n</th>\n",
       "      <th>test_size_frac</th>\n",
       "      <th>fair_main_equalized_odds_difference</th>\n",
       "      <th>fair_main_equalized_odds_ratio</th>\n",
       "      <th>fair_main_demographic_parity_difference</th>\n",
       "      <th>fair_main_demographic_parity_ratio</th>\n",
       "      <th>...</th>\n",
       "      <th>perf_grp_precision_0</th>\n",
       "      <th>perf_grp_precision_1</th>\n",
       "      <th>perf_grp_false positive rate_0</th>\n",
       "      <th>perf_grp_false positive rate_1</th>\n",
       "      <th>perf_grp_false negative rate_0</th>\n",
       "      <th>perf_grp_false negative rate_1</th>\n",
       "      <th>perf_grp_selection rate_0</th>\n",
       "      <th>perf_grp_selection rate_1</th>\n",
       "      <th>perf_grp_count_0</th>\n",
       "      <th>perf_grp_count_1</th>\n",
       "    </tr>\n",
       "  </thead>\n",
       "  <tbody>\n",
       "    <tr>\n",
       "      <th>0</th>\n",
       "      <td>11</td>\n",
       "      <td>0923f32be7d9369d88f0316506ff0887</td>\n",
       "      <td>{\"cutoff\": \"quantile_0.1\", \"eval_fairness_grou...</td>\n",
       "      <td>26.670248</td>\n",
       "      <td>89710</td>\n",
       "      <td>1.0</td>\n",
       "      <td>0.093501</td>\n",
       "      <td>0.902886</td>\n",
       "      <td>0.084485</td>\n",
       "      <td>0.912464</td>\n",
       "      <td>...</td>\n",
       "      <td>NaN</td>\n",
       "      <td>NaN</td>\n",
       "      <td>NaN</td>\n",
       "      <td>NaN</td>\n",
       "      <td>NaN</td>\n",
       "      <td>NaN</td>\n",
       "      <td>NaN</td>\n",
       "      <td>NaN</td>\n",
       "      <td>NaN</td>\n",
       "      <td>NaN</td>\n",
       "    </tr>\n",
       "    <tr>\n",
       "      <th>0</th>\n",
       "      <td>11</td>\n",
       "      <td>0923f32be7d9369d88f0316506ff0887</td>\n",
       "      <td>{\"cutoff\": \"quantile_0.1\", \"eval_fairness_grou...</td>\n",
       "      <td>26.670248</td>\n",
       "      <td>89710</td>\n",
       "      <td>1.0</td>\n",
       "      <td>0.093501</td>\n",
       "      <td>0.902886</td>\n",
       "      <td>0.084485</td>\n",
       "      <td>0.912464</td>\n",
       "      <td>...</td>\n",
       "      <td>0.117433</td>\n",
       "      <td>0.143331</td>\n",
       "      <td>0.962800</td>\n",
       "      <td>0.869299</td>\n",
       "      <td>0.016892</td>\n",
       "      <td>0.044748</td>\n",
       "      <td>0.965141</td>\n",
       "      <td>0.880656</td>\n",
       "      <td>20540.0</td>\n",
       "      <td>69170.0</td>\n",
       "    </tr>\n",
       "    <tr>\n",
       "      <th>0</th>\n",
       "      <td>11</td>\n",
       "      <td>0923f32be7d9369d88f0316506ff0887</td>\n",
       "      <td>{\"cutoff\": \"quantile_0.25\", \"eval_fairness_gro...</td>\n",
       "      <td>26.670248</td>\n",
       "      <td>89710</td>\n",
       "      <td>1.0</td>\n",
       "      <td>0.219054</td>\n",
       "      <td>0.756371</td>\n",
       "      <td>0.200485</td>\n",
       "      <td>0.778366</td>\n",
       "      <td>...</td>\n",
       "      <td>NaN</td>\n",
       "      <td>NaN</td>\n",
       "      <td>NaN</td>\n",
       "      <td>NaN</td>\n",
       "      <td>NaN</td>\n",
       "      <td>NaN</td>\n",
       "      <td>NaN</td>\n",
       "      <td>NaN</td>\n",
       "      <td>NaN</td>\n",
       "      <td>NaN</td>\n",
       "    </tr>\n",
       "    <tr>\n",
       "      <th>0</th>\n",
       "      <td>11</td>\n",
       "      <td>0923f32be7d9369d88f0316506ff0887</td>\n",
       "      <td>{\"cutoff\": \"quantile_0.25\", \"eval_fairness_gro...</td>\n",
       "      <td>26.670248</td>\n",
       "      <td>89710</td>\n",
       "      <td>1.0</td>\n",
       "      <td>0.219054</td>\n",
       "      <td>0.756371</td>\n",
       "      <td>0.200485</td>\n",
       "      <td>0.778366</td>\n",
       "      <td>...</td>\n",
       "      <td>0.120614</td>\n",
       "      <td>0.161739</td>\n",
       "      <td>0.899131</td>\n",
       "      <td>0.680077</td>\n",
       "      <td>0.053632</td>\n",
       "      <td>0.138184</td>\n",
       "      <td>0.904576</td>\n",
       "      <td>0.704091</td>\n",
       "      <td>20540.0</td>\n",
       "      <td>69170.0</td>\n",
       "    </tr>\n",
       "  </tbody>\n",
       "</table>\n",
       "<p>4 rows × 50 columns</p>\n",
       "</div>"
      ],
      "text/plain": [
       "  run_no                       universe_id  \\\n",
       "0     11  0923f32be7d9369d88f0316506ff0887   \n",
       "0     11  0923f32be7d9369d88f0316506ff0887   \n",
       "0     11  0923f32be7d9369d88f0316506ff0887   \n",
       "0     11  0923f32be7d9369d88f0316506ff0887   \n",
       "\n",
       "                                   universe_settings  execution_time  \\\n",
       "0  {\"cutoff\": \"quantile_0.1\", \"eval_fairness_grou...       26.670248   \n",
       "0  {\"cutoff\": \"quantile_0.1\", \"eval_fairness_grou...       26.670248   \n",
       "0  {\"cutoff\": \"quantile_0.25\", \"eval_fairness_gro...       26.670248   \n",
       "0  {\"cutoff\": \"quantile_0.25\", \"eval_fairness_gro...       26.670248   \n",
       "\n",
       "   test_size_n  test_size_frac  fair_main_equalized_odds_difference  \\\n",
       "0        89710             1.0                             0.093501   \n",
       "0        89710             1.0                             0.093501   \n",
       "0        89710             1.0                             0.219054   \n",
       "0        89710             1.0                             0.219054   \n",
       "\n",
       "   fair_main_equalized_odds_ratio  fair_main_demographic_parity_difference  \\\n",
       "0                        0.902886                                 0.084485   \n",
       "0                        0.902886                                 0.084485   \n",
       "0                        0.756371                                 0.200485   \n",
       "0                        0.756371                                 0.200485   \n",
       "\n",
       "   fair_main_demographic_parity_ratio  ...  perf_grp_precision_0  \\\n",
       "0                            0.912464  ...                   NaN   \n",
       "0                            0.912464  ...              0.117433   \n",
       "0                            0.778366  ...                   NaN   \n",
       "0                            0.778366  ...              0.120614   \n",
       "\n",
       "   perf_grp_precision_1  perf_grp_false positive rate_0  \\\n",
       "0                   NaN                             NaN   \n",
       "0              0.143331                        0.962800   \n",
       "0                   NaN                             NaN   \n",
       "0              0.161739                        0.899131   \n",
       "\n",
       "   perf_grp_false positive rate_1  perf_grp_false negative rate_0  \\\n",
       "0                             NaN                             NaN   \n",
       "0                        0.869299                        0.016892   \n",
       "0                             NaN                             NaN   \n",
       "0                        0.680077                        0.053632   \n",
       "\n",
       "   perf_grp_false negative rate_1  perf_grp_selection rate_0  \\\n",
       "0                             NaN                        NaN   \n",
       "0                        0.044748                   0.965141   \n",
       "0                             NaN                        NaN   \n",
       "0                        0.138184                   0.904576   \n",
       "\n",
       "   perf_grp_selection rate_1  perf_grp_count_0  perf_grp_count_1  \n",
       "0                        NaN               NaN               NaN  \n",
       "0                   0.880656           20540.0           69170.0  \n",
       "0                        NaN               NaN               NaN  \n",
       "0                   0.704091           20540.0           69170.0  \n",
       "\n",
       "[4 rows x 50 columns]"
      ]
     },
     "execution_count": 72,
     "metadata": {},
     "output_type": "execute_result"
    }
   ],
   "source": [
    "final_output = universe_analysis.generate_final_output(\n",
    "    y_pred_prob=probs_test,\n",
    "    y_test=y_true,\n",
    "    org_test=org_test,\n",
    "    filter_data=filter_sub_universe_data,\n",
    "    cp_metrics_df=cp_metrics_df,\n",
    "    save=True,\n",
    ")\n",
    "final_output"
   ]
  },
  {
   "cell_type": "code",
   "execution_count": null,
   "id": "721ff514-cb11-46f8-b6fc-50392f74b5cb",
   "metadata": {
    "papermill": {
     "duration": 0.029497,
     "end_time": "2025-07-28T10:37:04.263271",
     "exception": false,
     "start_time": "2025-07-28T10:37:04.233774",
     "status": "completed"
    },
    "tags": []
   },
   "outputs": [],
   "source": []
  }
 ],
 "metadata": {
  "celltoolbar": "Tags",
  "kernelspec": {
   "display_name": "Python (CMA Fairness)",
   "language": "python",
   "name": "cma_fair_env"
  },
  "language_info": {
   "codemirror_mode": {
    "name": "ipython",
    "version": 3
   },
   "file_extension": ".py",
   "mimetype": "text/x-python",
   "name": "python",
   "nbconvert_exporter": "python",
   "pygments_lexer": "ipython3",
   "version": "3.10.12"
  },
  "papermill": {
   "default_parameters": {},
   "duration": 42.70329,
   "end_time": "2025-07-28T10:37:05.212827",
   "environment_variables": {},
   "exception": null,
   "input_path": "universe_analysis.ipynb",
   "output_path": "output/runs/11/notebooks/m_11-0923f32be7d9369d88f0316506ff0887.ipynb",
   "parameters": {
    "output_dir": "output",
    "run_no": "11",
    "seed": "2023",
    "universe": "{\"cutoff\": [\"quantile_0.1\", \"quantile_0.25\"], \"eval_fairness_grouping\": [\"majority-minority\", \"nationality-all\"], \"exclude_features\": \"nationality-sex\", \"exclude_subgroups\": \"drop-non-german\", \"model\": \"penalized_logreg\", \"scale\": \"do-not-scale\", \"training_size\": \"5k\"}",
    "universe_id": "0923f32be7d9369d88f0316506ff0887"
   },
   "start_time": "2025-07-28T10:36:22.509537",
   "version": "2.6.0"
  }
 },
 "nbformat": 4,
 "nbformat_minor": 5
}