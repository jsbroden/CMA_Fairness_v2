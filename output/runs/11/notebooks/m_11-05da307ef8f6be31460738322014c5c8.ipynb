{
 "cells": [
  {
   "cell_type": "code",
   "execution_count": 1,
   "id": "f159f837-637b-42ba-96b5-ec9a68c44524",
   "metadata": {
    "execution": {
     "iopub.execute_input": "2025-07-28T11:04:32.283282Z",
     "iopub.status.busy": "2025-07-28T11:04:32.281192Z",
     "iopub.status.idle": "2025-07-28T11:04:32.297802Z",
     "shell.execute_reply": "2025-07-28T11:04:32.296851Z"
    },
    "papermill": {
     "duration": 0.042616,
     "end_time": "2025-07-28T11:04:32.299946",
     "exception": false,
     "start_time": "2025-07-28T11:04:32.257330",
     "status": "completed"
    },
    "tags": []
   },
   "outputs": [
    {
     "name": "stdout",
     "output_type": "stream",
     "text": [
      "/dss/dsshome1/0C/ra93lal2/cma/CMA_Fairness_v2\n"
     ]
    },
    {
     "name": "stderr",
     "output_type": "stream",
     "text": [
      "/dss/dsshome1/0C/ra93lal2/.local/share/virtualenvs/CMA_Fairness_v2-3j10GkSs/lib/python3.10/site-packages/IPython/core/magics/osm.py:393: UserWarning: This is now an optional IPython functionality, using bookmarks requires you to install the `pickleshare` library.\n",
      "  bkms = self.shell.db.get('bookmarks', {})\n",
      "/dss/dsshome1/0C/ra93lal2/.local/share/virtualenvs/CMA_Fairness_v2-3j10GkSs/lib/python3.10/site-packages/IPython/core/magics/osm.py:417: UserWarning: This is now an optional IPython functionality, setting dhist requires you to install the `pickleshare` library.\n",
      "  self.shell.db['dhist'] = compress_dhist(dhist)[-100:]\n"
     ]
    }
   ],
   "source": [
    "%cd ~/cma/CMA_Fairness_v2"
   ]
  },
  {
   "cell_type": "markdown",
   "id": "de2603b9",
   "metadata": {
    "papermill": {
     "duration": 0.022984,
     "end_time": "2025-07-28T11:04:32.345511",
     "exception": false,
     "start_time": "2025-07-28T11:04:32.322527",
     "status": "completed"
    },
    "tags": []
   },
   "source": [
    "The following cell holds the definition of our parameters, these values can be overriden by rendering the with e.g. the following command:\n",
    "\n",
    "papermill -p alpha 0.2 -p ratio 0.3 universe_analysis.ipynb output/test_run.ipynb"
   ]
  },
  {
   "cell_type": "code",
   "execution_count": 2,
   "id": "a80968a0-40bb-4fa9-85ef-2d5eefb01975",
   "metadata": {
    "execution": {
     "iopub.execute_input": "2025-07-28T11:04:32.394622Z",
     "iopub.status.busy": "2025-07-28T11:04:32.393989Z",
     "iopub.status.idle": "2025-07-28T11:04:32.400271Z",
     "shell.execute_reply": "2025-07-28T11:04:32.399115Z"
    },
    "papermill": {
     "duration": 0.033611,
     "end_time": "2025-07-28T11:04:32.401918",
     "exception": false,
     "start_time": "2025-07-28T11:04:32.368307",
     "status": "completed"
    },
    "tags": []
   },
   "outputs": [
    {
     "name": "stdout",
     "output_type": "stream",
     "text": [
      "Current working directory: /dss/dsshome1/0C/ra93lal2/cma/CMA_Fairness_v2\n"
     ]
    }
   ],
   "source": [
    "import os\n",
    "print(\"Current working directory:\", os.getcwd())"
   ]
  },
  {
   "cell_type": "code",
   "execution_count": 3,
   "id": "2dce4c03",
   "metadata": {
    "execution": {
     "iopub.execute_input": "2025-07-28T11:04:32.441399Z",
     "iopub.status.busy": "2025-07-28T11:04:32.440832Z",
     "iopub.status.idle": "2025-07-28T11:04:32.448290Z",
     "shell.execute_reply": "2025-07-28T11:04:32.446636Z"
    },
    "papermill": {
     "duration": 0.028796,
     "end_time": "2025-07-28T11:04:32.450127",
     "exception": false,
     "start_time": "2025-07-28T11:04:32.421331",
     "status": "completed"
    },
    "tags": [
     "parameters"
    ]
   },
   "outputs": [],
   "source": [
    "run_no = 0\n",
    "universe_id = \"test\"\n",
    "universe = {\n",
    "    \"training_size\": \"2014\", # \"25k\", \"5k\", \"1k\", \"2014\"\n",
    "    \"scale\": \"scale\", # \"scale\", \"do-not-scale\",\n",
    "    #\"stratify_split\": \"target\", # \"none\", \"target\", \"protected-attribute\", \"both\",\n",
    "    \"model\": \"elasticnet\", # \"logreg\", \"penalized_logreg\", \"rf\", \"gbm\", \"elasticnet\"\n",
    "    \"cutoff\": [\"quantile_0.15\", \"quantile_0.30\"],\n",
    "    \"exclude_features\": \"age\", # \"none\", \"nationality\", \"sex\", \"nationality-sex\", \"age\"\n",
    "    \"exclude_subgroups\": \"keep-all\", # \"keep-all\", \"drop-non-german\"\n",
    "    \"eval_fairness_grouping\": [\"majority-minority\", \"nationality-all\"]\n",
    "}\n",
    "\n",
    "output_dir=\"./output\"\n",
    "seed=0"
   ]
  },
  {
   "cell_type": "code",
   "execution_count": 4,
   "id": "e97f0d99",
   "metadata": {
    "execution": {
     "iopub.execute_input": "2025-07-28T11:04:32.505390Z",
     "iopub.status.busy": "2025-07-28T11:04:32.504930Z",
     "iopub.status.idle": "2025-07-28T11:04:32.562767Z",
     "shell.execute_reply": "2025-07-28T11:04:32.561702Z"
    },
    "papermill": {
     "duration": 0.094059,
     "end_time": "2025-07-28T11:04:32.565280",
     "exception": false,
     "start_time": "2025-07-28T11:04:32.471221",
     "status": "completed"
    },
    "tags": [
     "injected-parameters"
    ]
   },
   "outputs": [],
   "source": [
    "# Parameters\n",
    "universe_id = \"05da307ef8f6be31460738322014c5c8\"\n",
    "run_no = \"11\"\n",
    "universe = \"{\\\"cutoff\\\": [\\\"quantile_0.1\\\", \\\"quantile_0.25\\\"], \\\"eval_fairness_grouping\\\": [\\\"majority-minority\\\", \\\"nationality-all\\\"], \\\"exclude_features\\\": \\\"sex\\\", \\\"exclude_subgroups\\\": \\\"drop-non-german\\\", \\\"model\\\": \\\"penalized_logreg\\\", \\\"scale\\\": \\\"do-not-scale\\\", \\\"training_size\\\": \\\"2014\\\"}\"\n",
    "output_dir = \"output\"\n",
    "seed = \"2023\"\n"
   ]
  },
  {
   "cell_type": "code",
   "execution_count": 5,
   "id": "1650acaf",
   "metadata": {
    "execution": {
     "iopub.execute_input": "2025-07-28T11:04:32.679027Z",
     "iopub.status.busy": "2025-07-28T11:04:32.678517Z",
     "iopub.status.idle": "2025-07-28T11:04:32.683654Z",
     "shell.execute_reply": "2025-07-28T11:04:32.682697Z"
    },
    "papermill": {
     "duration": 0.027058,
     "end_time": "2025-07-28T11:04:32.685032",
     "exception": false,
     "start_time": "2025-07-28T11:04:32.657974",
     "status": "completed"
    },
    "tags": []
   },
   "outputs": [],
   "source": [
    "import json\n",
    "# Parse universe into dict if it is passed as a string\n",
    "if isinstance(universe, str):\n",
    "    universe = json.loads(universe)"
   ]
  },
  {
   "cell_type": "code",
   "execution_count": 6,
   "id": "16620c48",
   "metadata": {
    "execution": {
     "iopub.execute_input": "2025-07-28T11:04:32.723754Z",
     "iopub.status.busy": "2025-07-28T11:04:32.723098Z",
     "iopub.status.idle": "2025-07-28T11:04:32.756252Z",
     "shell.execute_reply": "2025-07-28T11:04:32.755475Z"
    },
    "papermill": {
     "duration": 0.056962,
     "end_time": "2025-07-28T11:04:32.758256",
     "exception": false,
     "start_time": "2025-07-28T11:04:32.701294",
     "status": "completed"
    },
    "tags": []
   },
   "outputs": [],
   "source": [
    "# Auto-reload the custom package\n",
    "%load_ext autoreload\n",
    "%autoreload 1\n",
    "%aimport fairness_multiverse"
   ]
  },
  {
   "cell_type": "code",
   "execution_count": 7,
   "id": "01c5c9f3",
   "metadata": {
    "execution": {
     "iopub.execute_input": "2025-07-28T11:04:32.802253Z",
     "iopub.status.busy": "2025-07-28T11:04:32.801785Z",
     "iopub.status.idle": "2025-07-28T11:04:34.695536Z",
     "shell.execute_reply": "2025-07-28T11:04:34.694371Z"
    },
    "papermill": {
     "duration": 1.918234,
     "end_time": "2025-07-28T11:04:34.697705",
     "exception": false,
     "start_time": "2025-07-28T11:04:32.779471",
     "status": "completed"
    },
    "tags": []
   },
   "outputs": [],
   "source": [
    "from fairness_multiverse.universe import UniverseAnalysis\n",
    "\n",
    "universe_analysis = UniverseAnalysis(\n",
    "    run_no = run_no,\n",
    "    universe_id = universe_id,\n",
    "    universe = universe,\n",
    "    output_dir=output_dir,\n",
    ")"
   ]
  },
  {
   "cell_type": "code",
   "execution_count": 8,
   "id": "106241f5",
   "metadata": {
    "execution": {
     "iopub.execute_input": "2025-07-28T11:04:34.741692Z",
     "iopub.status.busy": "2025-07-28T11:04:34.741195Z",
     "iopub.status.idle": "2025-07-28T11:04:34.749216Z",
     "shell.execute_reply": "2025-07-28T11:04:34.748141Z"
    },
    "papermill": {
     "duration": 0.032615,
     "end_time": "2025-07-28T11:04:34.751059",
     "exception": false,
     "start_time": "2025-07-28T11:04:34.718444",
     "status": "completed"
    },
    "tags": []
   },
   "outputs": [
    {
     "name": "stdout",
     "output_type": "stream",
     "text": [
      "Using Seed: 2023\n"
     ]
    }
   ],
   "source": [
    "import numpy as np\n",
    "parsed_seed = int(seed)\n",
    "np.random.seed(parsed_seed)\n",
    "print(f\"Using Seed: {parsed_seed}\")"
   ]
  },
  {
   "cell_type": "markdown",
   "id": "e0ebdc57",
   "metadata": {
    "papermill": {
     "duration": 0.021971,
     "end_time": "2025-07-28T11:04:34.795014",
     "exception": false,
     "start_time": "2025-07-28T11:04:34.773043",
     "status": "completed"
    },
    "tags": []
   },
   "source": [
    "# Loading Data"
   ]
  },
  {
   "cell_type": "markdown",
   "id": "681925a3",
   "metadata": {
    "papermill": {
     "duration": 0.021519,
     "end_time": "2025-07-28T11:04:34.834614",
     "exception": false,
     "start_time": "2025-07-28T11:04:34.813095",
     "status": "completed"
    },
    "tags": []
   },
   "source": [
    "Load siab_train, siab_test, siab_calib and/or \n",
    "load siab_train_features, siab_train_labels"
   ]
  },
  {
   "cell_type": "code",
   "execution_count": 9,
   "id": "f0496b8a",
   "metadata": {
    "execution": {
     "iopub.execute_input": "2025-07-28T11:04:34.875603Z",
     "iopub.status.busy": "2025-07-28T11:04:34.874544Z",
     "iopub.status.idle": "2025-07-28T11:04:48.545699Z",
     "shell.execute_reply": "2025-07-28T11:04:48.544378Z"
    },
    "papermill": {
     "duration": 13.690983,
     "end_time": "2025-07-28T11:04:48.547565",
     "exception": false,
     "start_time": "2025-07-28T11:04:34.856582",
     "status": "completed"
    },
    "tags": []
   },
   "outputs": [
    {
     "name": "stdout",
     "output_type": "stream",
     "text": [
      "Loading SIAB data from cache: data/siab_cached.csv.gz\n"
     ]
    },
    {
     "name": "stdout",
     "output_type": "stream",
     "text": [
      "(643690, 164)\n"
     ]
    }
   ],
   "source": [
    "from pathlib import Path\n",
    "import pandas as pd\n",
    "\n",
    "# File paths\n",
    "raw_file = Path(\"data/raw/siab.csv\")\n",
    "cache_file = Path(\"data/siab_cached.csv.gz\")\n",
    "\n",
    "# Ensure cache directory exists\n",
    "cache_file.parent.mkdir(parents=True, exist_ok=True)\n",
    "\n",
    "# Load with simple caching\n",
    "if cache_file.exists():\n",
    "    print(f\"Loading SIAB data from cache: {cache_file}\")\n",
    "    siab = pd.read_csv(cache_file, compression='gzip')\n",
    "else:\n",
    "    print(f\"Cache not found. Reading raw SIAB data: {raw_file}\")\n",
    "    siab = pd.read_csv(raw_file)\n",
    "    siab.to_csv(cache_file, index=False, compression='gzip')\n",
    "    print(f\"Cached SIAB data to: {cache_file}\")\n",
    "\n",
    "# Now use `siab` DataFrame as needed\n",
    "print(siab.shape)"
   ]
  },
  {
   "cell_type": "code",
   "execution_count": 10,
   "id": "db0ca512-5f53-4dba-abdb-a2888bca41ba",
   "metadata": {
    "execution": {
     "iopub.execute_input": "2025-07-28T11:04:48.594582Z",
     "iopub.status.busy": "2025-07-28T11:04:48.594040Z",
     "iopub.status.idle": "2025-07-28T11:04:48.600677Z",
     "shell.execute_reply": "2025-07-28T11:04:48.599689Z"
    },
    "papermill": {
     "duration": 0.031921,
     "end_time": "2025-07-28T11:04:48.602439",
     "exception": false,
     "start_time": "2025-07-28T11:04:48.570518",
     "status": "completed"
    },
    "tags": []
   },
   "outputs": [],
   "source": [
    "#siab"
   ]
  },
  {
   "cell_type": "code",
   "execution_count": 11,
   "id": "a0edb063",
   "metadata": {
    "execution": {
     "iopub.execute_input": "2025-07-28T11:04:48.647068Z",
     "iopub.status.busy": "2025-07-28T11:04:48.645989Z",
     "iopub.status.idle": "2025-07-28T11:04:48.651651Z",
     "shell.execute_reply": "2025-07-28T11:04:48.650653Z"
    },
    "papermill": {
     "duration": 0.02988,
     "end_time": "2025-07-28T11:04:48.654468",
     "exception": false,
     "start_time": "2025-07-28T11:04:48.624588",
     "status": "completed"
    },
    "tags": []
   },
   "outputs": [],
   "source": [
    "#import pandas as pd\n",
    "#\n",
    "#X_train = pd.read_csv(\"./data/X_train.csv\")\n",
    "#y_train = pd.read_csv(\"./data/y_train.csv\")"
   ]
  },
  {
   "cell_type": "code",
   "execution_count": 12,
   "id": "63d08085",
   "metadata": {
    "execution": {
     "iopub.execute_input": "2025-07-28T11:04:48.698568Z",
     "iopub.status.busy": "2025-07-28T11:04:48.698003Z",
     "iopub.status.idle": "2025-07-28T11:04:48.703385Z",
     "shell.execute_reply": "2025-07-28T11:04:48.702402Z"
    },
    "papermill": {
     "duration": 0.029044,
     "end_time": "2025-07-28T11:04:48.705026",
     "exception": false,
     "start_time": "2025-07-28T11:04:48.675982",
     "status": "completed"
    },
    "tags": []
   },
   "outputs": [],
   "source": [
    "#X_test = pd.read_csv(\"./data/X_test.csv\")\n",
    "#y_true = pd.read_csv(\"./data/y_test.csv\")"
   ]
  },
  {
   "cell_type": "code",
   "execution_count": 13,
   "id": "98a8d0fa-1d3d-4ed8-bb2c-281470e24add",
   "metadata": {
    "execution": {
     "iopub.execute_input": "2025-07-28T11:04:48.748857Z",
     "iopub.status.busy": "2025-07-28T11:04:48.747891Z",
     "iopub.status.idle": "2025-07-28T11:04:48.753366Z",
     "shell.execute_reply": "2025-07-28T11:04:48.752380Z"
    },
    "papermill": {
     "duration": 0.028988,
     "end_time": "2025-07-28T11:04:48.755259",
     "exception": false,
     "start_time": "2025-07-28T11:04:48.726271",
     "status": "completed"
    },
    "tags": []
   },
   "outputs": [],
   "source": [
    "# Calibration data for conformal\n",
    "#X_calib = pd.read_csv(\"./data/X_calib.csv\")\n",
    "#y_calib = pd.read_csv(\"./data/y_calib.csv\")"
   ]
  },
  {
   "cell_type": "markdown",
   "id": "9901737e-04df-44f0-9100-f5ad144ed040",
   "metadata": {
    "papermill": {
     "duration": 0.019475,
     "end_time": "2025-07-28T11:04:48.795109",
     "exception": false,
     "start_time": "2025-07-28T11:04:48.775634",
     "status": "completed"
    },
    "tags": []
   },
   "source": [
    "# Splitting Data and Setting Training Data Size"
   ]
  },
  {
   "cell_type": "code",
   "execution_count": 14,
   "id": "acbc8f7d-8fc8-4e86-8c59-5dcb0f58384b",
   "metadata": {
    "execution": {
     "iopub.execute_input": "2025-07-28T11:04:48.837904Z",
     "iopub.status.busy": "2025-07-28T11:04:48.837401Z",
     "iopub.status.idle": "2025-07-28T11:04:48.846376Z",
     "shell.execute_reply": "2025-07-28T11:04:48.845370Z"
    },
    "papermill": {
     "duration": 0.032775,
     "end_time": "2025-07-28T11:04:48.848504",
     "exception": false,
     "start_time": "2025-07-28T11:04:48.815729",
     "status": "completed"
    },
    "tags": []
   },
   "outputs": [],
   "source": [
    "def sample_by_year(df, training_size, random_state=42):\n",
    "    if training_size == \"2014\":\n",
    "        return df[df[\"year\"] == 2014].reset_index(drop=True)\n",
    "    \n",
    "    size_map = {\n",
    "        \"25k\": 5000,\n",
    "        \"5k\": 1000,\n",
    "        \"1k\": 200\n",
    "    }\n",
    "\n",
    "    if training_size not in size_map:\n",
    "        return df.reset_index(drop=True)  # use all data\n",
    "\n",
    "    n_per_year = size_map[training_size]\n",
    "    grouped = df.groupby(\"year\")\n",
    "    sampled = grouped.apply(lambda x: x.sample(n=min(n_per_year, len(x)), random_state=random_state))\n",
    "    return sampled.reset_index(drop=True)"
   ]
  },
  {
   "cell_type": "code",
   "execution_count": 15,
   "id": "6d931f52-beaf-43ff-9e78-9d44a448d54e",
   "metadata": {
    "execution": {
     "iopub.execute_input": "2025-07-28T11:04:48.890895Z",
     "iopub.status.busy": "2025-07-28T11:04:48.890086Z",
     "iopub.status.idle": "2025-07-28T11:04:49.075739Z",
     "shell.execute_reply": "2025-07-28T11:04:49.074811Z"
    },
    "papermill": {
     "duration": 0.208969,
     "end_time": "2025-07-28T11:04:49.077828",
     "exception": false,
     "start_time": "2025-07-28T11:04:48.868859",
     "status": "completed"
    },
    "tags": []
   },
   "outputs": [],
   "source": [
    "siab_s = sample_by_year(siab, universe[\"training_size\"])"
   ]
  },
  {
   "cell_type": "code",
   "execution_count": 16,
   "id": "5db0a40e-a4e2-4920-be85-b12ae061d70d",
   "metadata": {
    "execution": {
     "iopub.execute_input": "2025-07-28T11:04:49.124562Z",
     "iopub.status.busy": "2025-07-28T11:04:49.123604Z",
     "iopub.status.idle": "2025-07-28T11:04:49.139346Z",
     "shell.execute_reply": "2025-07-28T11:04:49.138428Z"
    },
    "papermill": {
     "duration": 0.04119,
     "end_time": "2025-07-28T11:04:49.141061",
     "exception": false,
     "start_time": "2025-07-28T11:04:49.099871",
     "status": "completed"
    },
    "tags": []
   },
   "outputs": [
    {
     "data": {
      "text/plain": [
       "year\n",
       "2014    87158\n",
       "dtype: int64"
      ]
     },
     "metadata": {},
     "output_type": "display_data"
    }
   ],
   "source": [
    "display(siab_s.groupby(\"year\").size())"
   ]
  },
  {
   "cell_type": "code",
   "execution_count": 17,
   "id": "a561edb4-d032-42cb-8256-22eac1111c64",
   "metadata": {
    "execution": {
     "iopub.execute_input": "2025-07-28T11:04:49.189831Z",
     "iopub.status.busy": "2025-07-28T11:04:49.189319Z",
     "iopub.status.idle": "2025-07-28T11:04:49.540746Z",
     "shell.execute_reply": "2025-07-28T11:04:49.539542Z"
    },
    "papermill": {
     "duration": 0.378811,
     "end_time": "2025-07-28T11:04:49.542804",
     "exception": false,
     "start_time": "2025-07-28T11:04:49.163993",
     "status": "completed"
    },
    "tags": []
   },
   "outputs": [],
   "source": [
    "siab_train = siab_s[siab_s.year < 2015]\n",
    "siab_calib = siab[siab.year == 2015]\n",
    "siab_test = siab[siab.year == 2016]"
   ]
  },
  {
   "cell_type": "code",
   "execution_count": 18,
   "id": "472de16f-c3db-4916-846b-1f0de9cf1746",
   "metadata": {
    "execution": {
     "iopub.execute_input": "2025-07-28T11:04:49.584190Z",
     "iopub.status.busy": "2025-07-28T11:04:49.583394Z",
     "iopub.status.idle": "2025-07-28T11:04:49.640792Z",
     "shell.execute_reply": "2025-07-28T11:04:49.639671Z"
    },
    "papermill": {
     "duration": 0.079717,
     "end_time": "2025-07-28T11:04:49.642493",
     "exception": false,
     "start_time": "2025-07-28T11:04:49.562776",
     "status": "completed"
    },
    "tags": []
   },
   "outputs": [],
   "source": [
    "X_train = siab_train.iloc[:,4:164]\n",
    "y_train = siab_train.iloc[:, [3]]"
   ]
  },
  {
   "cell_type": "code",
   "execution_count": 19,
   "id": "828c96af-f43a-4ed6-ba47-8ac73a47d56c",
   "metadata": {
    "execution": {
     "iopub.execute_input": "2025-07-28T11:04:49.684193Z",
     "iopub.status.busy": "2025-07-28T11:04:49.683448Z",
     "iopub.status.idle": "2025-07-28T11:04:49.738048Z",
     "shell.execute_reply": "2025-07-28T11:04:49.736990Z"
    },
    "papermill": {
     "duration": 0.077118,
     "end_time": "2025-07-28T11:04:49.739834",
     "exception": false,
     "start_time": "2025-07-28T11:04:49.662716",
     "status": "completed"
    },
    "tags": []
   },
   "outputs": [],
   "source": [
    "X_calib = siab_calib.iloc[:,4:164]\n",
    "y_calib = siab_calib.iloc[:, [3]]"
   ]
  },
  {
   "cell_type": "code",
   "execution_count": 20,
   "id": "c34be9c3-6bd6-476e-acd3-845840e303be",
   "metadata": {
    "execution": {
     "iopub.execute_input": "2025-07-28T11:04:49.781875Z",
     "iopub.status.busy": "2025-07-28T11:04:49.781149Z",
     "iopub.status.idle": "2025-07-28T11:04:49.837751Z",
     "shell.execute_reply": "2025-07-28T11:04:49.836658Z"
    },
    "papermill": {
     "duration": 0.079799,
     "end_time": "2025-07-28T11:04:49.839602",
     "exception": false,
     "start_time": "2025-07-28T11:04:49.759803",
     "status": "completed"
    },
    "tags": []
   },
   "outputs": [],
   "source": [
    "X_test = siab_test.iloc[:,4:164]\n",
    "y_true = siab_test.iloc[:, [3]]"
   ]
  },
  {
   "cell_type": "code",
   "execution_count": 21,
   "id": "e6c733c5",
   "metadata": {
    "execution": {
     "iopub.execute_input": "2025-07-28T11:04:49.887070Z",
     "iopub.status.busy": "2025-07-28T11:04:49.886425Z",
     "iopub.status.idle": "2025-07-28T11:04:50.028995Z",
     "shell.execute_reply": "2025-07-28T11:04:50.027978Z"
    },
    "papermill": {
     "duration": 0.168272,
     "end_time": "2025-07-28T11:04:50.031005",
     "exception": false,
     "start_time": "2025-07-28T11:04:49.862733",
     "status": "completed"
    },
    "tags": []
   },
   "outputs": [],
   "source": [
    "# Auxiliary data needed downstream in the pipeline\n",
    "\n",
    "org_train = X_train.copy()\n",
    "org_test = X_test.copy()\n",
    "org_calib = X_calib.copy()"
   ]
  },
  {
   "cell_type": "markdown",
   "id": "0a4a1b33",
   "metadata": {
    "papermill": {
     "duration": 0.02125,
     "end_time": "2025-07-28T11:04:50.075746",
     "exception": false,
     "start_time": "2025-07-28T11:04:50.054496",
     "status": "completed"
    },
    "tags": []
   },
   "source": [
    "# Preprocessing Data"
   ]
  },
  {
   "cell_type": "code",
   "execution_count": 22,
   "id": "ca879031",
   "metadata": {
    "execution": {
     "iopub.execute_input": "2025-07-28T11:04:50.120965Z",
     "iopub.status.busy": "2025-07-28T11:04:50.120248Z",
     "iopub.status.idle": "2025-07-28T11:04:50.127064Z",
     "shell.execute_reply": "2025-07-28T11:04:50.126122Z"
    },
    "papermill": {
     "duration": 0.033342,
     "end_time": "2025-07-28T11:04:50.128681",
     "exception": false,
     "start_time": "2025-07-28T11:04:50.095339",
     "status": "completed"
    },
    "tags": []
   },
   "outputs": [],
   "source": [
    "# EXCLUDE PROTECTED FEATURES\n",
    "# ----------------------\n",
    "# \"exclude_features\": \"none\", # \"nationality\", \"sex\", \"nationality-sex\"\n",
    "\n",
    "excluded_features = universe[\"exclude_features\"].split(\"-\") # split, e.g.: \"nationality-sex\" -> [\"nationality\", \"sex\"]\n",
    "excluded_features_dictionary = {\n",
    "    \"nationality\": [\"maxdeutsch1\", \"maxdeutsch.Missing.\"],\n",
    "    \"sex\": [\"frau1\"],\n",
    "    \"age\": [\"age\"],\n",
    "}\n"
   ]
  },
  {
   "cell_type": "code",
   "execution_count": 23,
   "id": "b745ac60",
   "metadata": {
    "execution": {
     "iopub.execute_input": "2025-07-28T11:04:50.172152Z",
     "iopub.status.busy": "2025-07-28T11:04:50.171418Z",
     "iopub.status.idle": "2025-07-28T11:04:50.178117Z",
     "shell.execute_reply": "2025-07-28T11:04:50.177132Z"
    },
    "papermill": {
     "duration": 0.030567,
     "end_time": "2025-07-28T11:04:50.179726",
     "exception": false,
     "start_time": "2025-07-28T11:04:50.149159",
     "status": "completed"
    },
    "tags": []
   },
   "outputs": [],
   "source": [
    "# Code nice names to column names\n",
    "\n",
    "excluded_features_columns = [\n",
    "    excluded_features_dictionary[f] for f in excluded_features if len(f) > 0 and f != \"none\"\n",
    "]"
   ]
  },
  {
   "cell_type": "code",
   "execution_count": 24,
   "id": "f84f73a2",
   "metadata": {
    "execution": {
     "iopub.execute_input": "2025-07-28T11:04:50.223645Z",
     "iopub.status.busy": "2025-07-28T11:04:50.222996Z",
     "iopub.status.idle": "2025-07-28T11:04:50.229856Z",
     "shell.execute_reply": "2025-07-28T11:04:50.228976Z"
    },
    "papermill": {
     "duration": 0.030877,
     "end_time": "2025-07-28T11:04:50.231519",
     "exception": false,
     "start_time": "2025-07-28T11:04:50.200642",
     "status": "completed"
    },
    "tags": []
   },
   "outputs": [],
   "source": [
    "from utils import flatten_once\n",
    "\n",
    "excluded_features_columns = flatten_once(excluded_features_columns)"
   ]
  },
  {
   "cell_type": "code",
   "execution_count": 25,
   "id": "884dea22",
   "metadata": {
    "execution": {
     "iopub.execute_input": "2025-07-28T11:04:50.278120Z",
     "iopub.status.busy": "2025-07-28T11:04:50.277607Z",
     "iopub.status.idle": "2025-07-28T11:04:50.329972Z",
     "shell.execute_reply": "2025-07-28T11:04:50.328814Z"
    },
    "papermill": {
     "duration": 0.080131,
     "end_time": "2025-07-28T11:04:50.331866",
     "exception": false,
     "start_time": "2025-07-28T11:04:50.251735",
     "status": "completed"
    },
    "tags": []
   },
   "outputs": [
    {
     "name": "stdout",
     "output_type": "stream",
     "text": [
      "Dropping features: ['frau1']\n"
     ]
    }
   ],
   "source": [
    "if len(excluded_features_columns) > 0:\n",
    "    print(f\"Dropping features: {excluded_features_columns}\")\n",
    "    X_train.drop(excluded_features_columns, axis=1, inplace=True)"
   ]
  },
  {
   "cell_type": "code",
   "execution_count": 26,
   "id": "95ab8b16",
   "metadata": {
    "execution": {
     "iopub.execute_input": "2025-07-28T11:04:50.376522Z",
     "iopub.status.busy": "2025-07-28T11:04:50.375920Z",
     "iopub.status.idle": "2025-07-28T11:04:50.439666Z",
     "shell.execute_reply": "2025-07-28T11:04:50.438672Z"
    },
    "papermill": {
     "duration": 0.087972,
     "end_time": "2025-07-28T11:04:50.441938",
     "exception": false,
     "start_time": "2025-07-28T11:04:50.353966",
     "status": "completed"
    },
    "tags": []
   },
   "outputs": [
    {
     "name": "stdout",
     "output_type": "stream",
     "text": [
      "Dropping features: ['frau1']\n"
     ]
    }
   ],
   "source": [
    "if len(excluded_features_columns) > 0:\n",
    "    print(f\"Dropping features: {excluded_features_columns}\")\n",
    "    X_test.drop(excluded_features_columns, axis=1, inplace=True)"
   ]
  },
  {
   "cell_type": "code",
   "execution_count": 27,
   "id": "1853aaf5-fb9f-46cb-a2b5-8ea4ae2237e4",
   "metadata": {
    "execution": {
     "iopub.execute_input": "2025-07-28T11:04:50.486508Z",
     "iopub.status.busy": "2025-07-28T11:04:50.485951Z",
     "iopub.status.idle": "2025-07-28T11:04:50.539386Z",
     "shell.execute_reply": "2025-07-28T11:04:50.538264Z"
    },
    "papermill": {
     "duration": 0.077664,
     "end_time": "2025-07-28T11:04:50.541287",
     "exception": false,
     "start_time": "2025-07-28T11:04:50.463623",
     "status": "completed"
    },
    "tags": []
   },
   "outputs": [
    {
     "name": "stdout",
     "output_type": "stream",
     "text": [
      "Dropping features: ['frau1']\n"
     ]
    }
   ],
   "source": [
    "if len(excluded_features_columns) > 0:\n",
    "    print(f\"Dropping features: {excluded_features_columns}\")\n",
    "    X_calib.drop(excluded_features_columns, axis=1, inplace=True)"
   ]
  },
  {
   "cell_type": "code",
   "execution_count": 28,
   "id": "6727d079-03e5-481e-9d38-292a90b7a0a8",
   "metadata": {
    "execution": {
     "iopub.execute_input": "2025-07-28T11:04:50.586826Z",
     "iopub.status.busy": "2025-07-28T11:04:50.586012Z",
     "iopub.status.idle": "2025-07-28T11:04:50.591284Z",
     "shell.execute_reply": "2025-07-28T11:04:50.590386Z"
    },
    "papermill": {
     "duration": 0.029653,
     "end_time": "2025-07-28T11:04:50.593202",
     "exception": false,
     "start_time": "2025-07-28T11:04:50.563549",
     "status": "completed"
    },
    "tags": []
   },
   "outputs": [],
   "source": [
    "# SPLIT & STRATIFY DATA\n",
    "# ----------------------"
   ]
  },
  {
   "cell_type": "code",
   "execution_count": 29,
   "id": "76c4dc6d",
   "metadata": {
    "execution": {
     "iopub.execute_input": "2025-07-28T11:04:50.639830Z",
     "iopub.status.busy": "2025-07-28T11:04:50.639061Z",
     "iopub.status.idle": "2025-07-28T11:04:50.644896Z",
     "shell.execute_reply": "2025-07-28T11:04:50.643884Z"
    },
    "papermill": {
     "duration": 0.031016,
     "end_time": "2025-07-28T11:04:50.646502",
     "exception": false,
     "start_time": "2025-07-28T11:04:50.615486",
     "status": "completed"
    },
    "tags": []
   },
   "outputs": [],
   "source": [
    "# EXCLUDE CERTAIN SUBGROUPS\n",
    "# ----------------------\n",
    "\n",
    "mode = universe.get(\"exclude_subgroups\", \"keep-all\") \n",
    "# Fetches the exclude_subgroups setting from the universe dict.\n",
    "# Defaults to \"keep-all\" if the key is missing."
   ]
  },
  {
   "cell_type": "code",
   "execution_count": 30,
   "id": "21994072",
   "metadata": {
    "execution": {
     "iopub.execute_input": "2025-07-28T11:04:50.692980Z",
     "iopub.status.busy": "2025-07-28T11:04:50.691850Z",
     "iopub.status.idle": "2025-07-28T11:04:50.699781Z",
     "shell.execute_reply": "2025-07-28T11:04:50.698814Z"
    },
    "papermill": {
     "duration": 0.033234,
     "end_time": "2025-07-28T11:04:50.701561",
     "exception": false,
     "start_time": "2025-07-28T11:04:50.668327",
     "status": "completed"
    },
    "tags": []
   },
   "outputs": [],
   "source": [
    "if mode == \"keep-all\":\n",
    "    keep_mask = pd.Series(True, index=org_train.index)\n",
    "\n",
    "# org_train contains the original feature columns from features_org (in Simson)\n",
    "# features_org contains unprocessed features, for me X_train at beginning ???\n",
    "# For keep-all, creates a boolean Series (keep_mask) of all True, so no rows are removed.\n",
    "\n",
    "elif mode == \"drop-non-german\":\n",
    "    keep_mask = org_train[\"maxdeutsch1\"] == 1 # ??? what about missing values?\n",
    "\n",
    "else:\n",
    "    raise ValueError(f\"Unsupported mode for exclude_subgroups: {mode}\")\n"
   ]
  },
  {
   "cell_type": "code",
   "execution_count": 31,
   "id": "71651440",
   "metadata": {
    "execution": {
     "iopub.execute_input": "2025-07-28T11:04:50.746467Z",
     "iopub.status.busy": "2025-07-28T11:04:50.745488Z",
     "iopub.status.idle": "2025-07-28T11:04:50.753469Z",
     "shell.execute_reply": "2025-07-28T11:04:50.752441Z"
    },
    "papermill": {
     "duration": 0.031763,
     "end_time": "2025-07-28T11:04:50.755148",
     "exception": false,
     "start_time": "2025-07-28T11:04:50.723385",
     "status": "completed"
    },
    "tags": []
   },
   "outputs": [
    {
     "name": "stdout",
     "output_type": "stream",
     "text": [
      "Dropping 12995 rows (14.91%) where mode='drop-non-german'\n"
     ]
    }
   ],
   "source": [
    "n_drop = (~keep_mask).sum() # Calculates how many rows are set to be dropped\n",
    "if n_drop > 0:\n",
    "    pct = n_drop / len(keep_mask) * 100\n",
    "    print(f\"Dropping {n_drop} rows ({pct:.2f}%) where mode='{mode}'\")"
   ]
  },
  {
   "cell_type": "code",
   "execution_count": 32,
   "id": "5fb8eee5",
   "metadata": {
    "execution": {
     "iopub.execute_input": "2025-07-28T11:04:50.801093Z",
     "iopub.status.busy": "2025-07-28T11:04:50.800533Z",
     "iopub.status.idle": "2025-07-28T11:04:50.858835Z",
     "shell.execute_reply": "2025-07-28T11:04:50.857770Z"
    },
    "papermill": {
     "duration": 0.083111,
     "end_time": "2025-07-28T11:04:50.860789",
     "exception": false,
     "start_time": "2025-07-28T11:04:50.777678",
     "status": "completed"
    },
    "tags": []
   },
   "outputs": [],
   "source": [
    "X_train = X_train[keep_mask]"
   ]
  },
  {
   "cell_type": "code",
   "execution_count": 33,
   "id": "b202bb3a",
   "metadata": {
    "execution": {
     "iopub.execute_input": "2025-07-28T11:04:50.906297Z",
     "iopub.status.busy": "2025-07-28T11:04:50.905351Z",
     "iopub.status.idle": "2025-07-28T11:04:50.913075Z",
     "shell.execute_reply": "2025-07-28T11:04:50.912073Z"
    },
    "papermill": {
     "duration": 0.032157,
     "end_time": "2025-07-28T11:04:50.914952",
     "exception": false,
     "start_time": "2025-07-28T11:04:50.882795",
     "status": "completed"
    },
    "tags": []
   },
   "outputs": [],
   "source": [
    "y_train = y_train[keep_mask]"
   ]
  },
  {
   "cell_type": "markdown",
   "id": "493e2ac3",
   "metadata": {
    "papermill": {
     "duration": 0.02576,
     "end_time": "2025-07-28T11:04:50.966873",
     "exception": false,
     "start_time": "2025-07-28T11:04:50.941113",
     "status": "completed"
    },
    "tags": []
   },
   "source": [
    "# Model Training"
   ]
  },
  {
   "cell_type": "code",
   "execution_count": 34,
   "id": "679e1268",
   "metadata": {
    "execution": {
     "iopub.execute_input": "2025-07-28T11:04:51.020751Z",
     "iopub.status.busy": "2025-07-28T11:04:51.019613Z",
     "iopub.status.idle": "2025-07-28T11:04:51.129572Z",
     "shell.execute_reply": "2025-07-28T11:04:51.128474Z"
    },
    "papermill": {
     "duration": 0.138993,
     "end_time": "2025-07-28T11:04:51.131824",
     "exception": false,
     "start_time": "2025-07-28T11:04:50.992831",
     "status": "completed"
    },
    "tags": []
   },
   "outputs": [],
   "source": [
    "from sklearn.linear_model import LogisticRegression\n",
    "from sklearn.ensemble import GradientBoostingClassifier, RandomForestClassifier\n",
    "\n",
    "if (universe[\"model\"] == \"logreg\"):\n",
    "    model = LogisticRegression() #penalty=\"none\") #, solver=\"newton-cg\", max_iter=1) # include random_state=19 ?\n",
    "elif (universe[\"model\"] == \"penalized_logreg\"):\n",
    "    model = LogisticRegression(penalty=\"l2\", C=1.0) #, solver=\"newton-cg\", max_iter=1)\n",
    "elif (universe[\"model\"] == \"rf\"):\n",
    "    model = RandomForestClassifier(n_estimators=100, n_jobs=-1)\n",
    "elif (universe[\"model\"] == \"gbm\"):\n",
    "    model = GradientBoostingClassifier()\n",
    "elif (universe[\"model\"] == \"elasticnet\"):\n",
    "    model = LogisticRegression(penalty = 'elasticnet', solver = 'saga', l1_ratio = 0.5, max_iter=5000) # which solver to use?\n",
    "else:\n",
    "    raise \"Unsupported universe.model\""
   ]
  },
  {
   "cell_type": "code",
   "execution_count": 35,
   "id": "0cc8f744",
   "metadata": {
    "execution": {
     "iopub.execute_input": "2025-07-28T11:04:51.188320Z",
     "iopub.status.busy": "2025-07-28T11:04:51.187525Z",
     "iopub.status.idle": "2025-07-28T11:04:51.194190Z",
     "shell.execute_reply": "2025-07-28T11:04:51.193312Z"
    },
    "papermill": {
     "duration": 0.03562,
     "end_time": "2025-07-28T11:04:51.195912",
     "exception": false,
     "start_time": "2025-07-28T11:04:51.160292",
     "status": "completed"
    },
    "tags": []
   },
   "outputs": [],
   "source": [
    "import numpy as np\n",
    "from sklearn.pipeline import Pipeline\n",
    "from sklearn.preprocessing import StandardScaler\n",
    "\n",
    "model = Pipeline([\n",
    "    #(\"continuous_processor\", continuous_processor),\n",
    "    #(\"categorical_preprocessor\", categorical_preprocessor),\n",
    "    (\"scale\", StandardScaler() if universe[\"scale\"] == \"scale\" else None), \n",
    "    (\"model\", model),\n",
    "])"
   ]
  },
  {
   "cell_type": "code",
   "execution_count": 36,
   "id": "9442c04d",
   "metadata": {
    "execution": {
     "iopub.execute_input": "2025-07-28T11:04:51.250699Z",
     "iopub.status.busy": "2025-07-28T11:04:51.249688Z",
     "iopub.status.idle": "2025-07-28T11:04:54.720801Z",
     "shell.execute_reply": "2025-07-28T11:04:54.719761Z"
    },
    "papermill": {
     "duration": 3.500492,
     "end_time": "2025-07-28T11:04:54.722773",
     "exception": false,
     "start_time": "2025-07-28T11:04:51.222281",
     "status": "completed"
    },
    "tags": []
   },
   "outputs": [
    {
     "name": "stderr",
     "output_type": "stream",
     "text": [
      "/dss/dsshome1/0C/ra93lal2/.local/share/virtualenvs/CMA_Fairness_v2-3j10GkSs/lib/python3.10/site-packages/sklearn/linear_model/_logistic.py:444: ConvergenceWarning: lbfgs failed to converge (status=1):\n",
      "STOP: TOTAL NO. of ITERATIONS REACHED LIMIT.\n",
      "\n",
      "Increase the number of iterations (max_iter) or scale the data as shown in:\n",
      "    https://scikit-learn.org/stable/modules/preprocessing.html\n",
      "Please also refer to the documentation for alternative solver options:\n",
      "    https://scikit-learn.org/stable/modules/linear_model.html#logistic-regression\n",
      "  n_iter_i = _check_optimize_result(\n"
     ]
    },
    {
     "data": {
      "text/html": [
       "<style>#sk-container-id-1 {color: black;background-color: white;}#sk-container-id-1 pre{padding: 0;}#sk-container-id-1 div.sk-toggleable {background-color: white;}#sk-container-id-1 label.sk-toggleable__label {cursor: pointer;display: block;width: 100%;margin-bottom: 0;padding: 0.3em;box-sizing: border-box;text-align: center;}#sk-container-id-1 label.sk-toggleable__label-arrow:before {content: \"▸\";float: left;margin-right: 0.25em;color: #696969;}#sk-container-id-1 label.sk-toggleable__label-arrow:hover:before {color: black;}#sk-container-id-1 div.sk-estimator:hover label.sk-toggleable__label-arrow:before {color: black;}#sk-container-id-1 div.sk-toggleable__content {max-height: 0;max-width: 0;overflow: hidden;text-align: left;background-color: #f0f8ff;}#sk-container-id-1 div.sk-toggleable__content pre {margin: 0.2em;color: black;border-radius: 0.25em;background-color: #f0f8ff;}#sk-container-id-1 input.sk-toggleable__control:checked~div.sk-toggleable__content {max-height: 200px;max-width: 100%;overflow: auto;}#sk-container-id-1 input.sk-toggleable__control:checked~label.sk-toggleable__label-arrow:before {content: \"▾\";}#sk-container-id-1 div.sk-estimator input.sk-toggleable__control:checked~label.sk-toggleable__label {background-color: #d4ebff;}#sk-container-id-1 div.sk-label input.sk-toggleable__control:checked~label.sk-toggleable__label {background-color: #d4ebff;}#sk-container-id-1 input.sk-hidden--visually {border: 0;clip: rect(1px 1px 1px 1px);clip: rect(1px, 1px, 1px, 1px);height: 1px;margin: -1px;overflow: hidden;padding: 0;position: absolute;width: 1px;}#sk-container-id-1 div.sk-estimator {font-family: monospace;background-color: #f0f8ff;border: 1px dotted black;border-radius: 0.25em;box-sizing: border-box;margin-bottom: 0.5em;}#sk-container-id-1 div.sk-estimator:hover {background-color: #d4ebff;}#sk-container-id-1 div.sk-parallel-item::after {content: \"\";width: 100%;border-bottom: 1px solid gray;flex-grow: 1;}#sk-container-id-1 div.sk-label:hover label.sk-toggleable__label {background-color: #d4ebff;}#sk-container-id-1 div.sk-serial::before {content: \"\";position: absolute;border-left: 1px solid gray;box-sizing: border-box;top: 0;bottom: 0;left: 50%;z-index: 0;}#sk-container-id-1 div.sk-serial {display: flex;flex-direction: column;align-items: center;background-color: white;padding-right: 0.2em;padding-left: 0.2em;position: relative;}#sk-container-id-1 div.sk-item {position: relative;z-index: 1;}#sk-container-id-1 div.sk-parallel {display: flex;align-items: stretch;justify-content: center;background-color: white;position: relative;}#sk-container-id-1 div.sk-item::before, #sk-container-id-1 div.sk-parallel-item::before {content: \"\";position: absolute;border-left: 1px solid gray;box-sizing: border-box;top: 0;bottom: 0;left: 50%;z-index: -1;}#sk-container-id-1 div.sk-parallel-item {display: flex;flex-direction: column;z-index: 1;position: relative;background-color: white;}#sk-container-id-1 div.sk-parallel-item:first-child::after {align-self: flex-end;width: 50%;}#sk-container-id-1 div.sk-parallel-item:last-child::after {align-self: flex-start;width: 50%;}#sk-container-id-1 div.sk-parallel-item:only-child::after {width: 0;}#sk-container-id-1 div.sk-dashed-wrapped {border: 1px dashed gray;margin: 0 0.4em 0.5em 0.4em;box-sizing: border-box;padding-bottom: 0.4em;background-color: white;}#sk-container-id-1 div.sk-label label {font-family: monospace;font-weight: bold;display: inline-block;line-height: 1.2em;}#sk-container-id-1 div.sk-label-container {text-align: center;}#sk-container-id-1 div.sk-container {/* jupyter's `normalize.less` sets `[hidden] { display: none; }` but bootstrap.min.css set `[hidden] { display: none !important; }` so we also need the `!important` here to be able to override the default hidden behavior on the sphinx rendered scikit-learn.org. See: https://github.com/scikit-learn/scikit-learn/issues/21755 */display: inline-block !important;position: relative;}#sk-container-id-1 div.sk-text-repr-fallback {display: none;}</style><div id=\"sk-container-id-1\" class=\"sk-top-container\"><div class=\"sk-text-repr-fallback\"><pre>Pipeline(steps=[(&#x27;scale&#x27;, None), (&#x27;model&#x27;, LogisticRegression())])</pre><b>In a Jupyter environment, please rerun this cell to show the HTML representation or trust the notebook. <br />On GitHub, the HTML representation is unable to render, please try loading this page with nbviewer.org.</b></div><div class=\"sk-container\" hidden><div class=\"sk-item sk-dashed-wrapped\"><div class=\"sk-label-container\"><div class=\"sk-label sk-toggleable\"><input class=\"sk-toggleable__control sk-hidden--visually\" id=\"sk-estimator-id-1\" type=\"checkbox\" ><label for=\"sk-estimator-id-1\" class=\"sk-toggleable__label sk-toggleable__label-arrow\">Pipeline</label><div class=\"sk-toggleable__content\"><pre>Pipeline(steps=[(&#x27;scale&#x27;, None), (&#x27;model&#x27;, LogisticRegression())])</pre></div></div></div><div class=\"sk-serial\"><div class=\"sk-item\"><div class=\"sk-estimator sk-toggleable\"><input class=\"sk-toggleable__control sk-hidden--visually\" id=\"sk-estimator-id-2\" type=\"checkbox\" ><label for=\"sk-estimator-id-2\" class=\"sk-toggleable__label sk-toggleable__label-arrow\">None</label><div class=\"sk-toggleable__content\"><pre>None</pre></div></div></div><div class=\"sk-item\"><div class=\"sk-estimator sk-toggleable\"><input class=\"sk-toggleable__control sk-hidden--visually\" id=\"sk-estimator-id-3\" type=\"checkbox\" ><label for=\"sk-estimator-id-3\" class=\"sk-toggleable__label sk-toggleable__label-arrow\">LogisticRegression</label><div class=\"sk-toggleable__content\"><pre>LogisticRegression()</pre></div></div></div></div></div></div></div>"
      ],
      "text/plain": [
       "Pipeline(steps=[('scale', None), ('model', LogisticRegression())])"
      ]
     },
     "execution_count": 36,
     "metadata": {},
     "output_type": "execute_result"
    }
   ],
   "source": [
    "model.fit(X_train, y_train.values.ravel())"
   ]
  },
  {
   "cell_type": "code",
   "execution_count": 37,
   "id": "af59f8c0",
   "metadata": {
    "execution": {
     "iopub.execute_input": "2025-07-28T11:04:54.769822Z",
     "iopub.status.busy": "2025-07-28T11:04:54.769249Z",
     "iopub.status.idle": "2025-07-28T11:04:54.776273Z",
     "shell.execute_reply": "2025-07-28T11:04:54.775057Z"
    },
    "papermill": {
     "duration": 0.033065,
     "end_time": "2025-07-28T11:04:54.778282",
     "exception": false,
     "start_time": "2025-07-28T11:04:54.745217",
     "status": "completed"
    },
    "tags": []
   },
   "outputs": [],
   "source": [
    "from fairness_multiverse.universe import predict_w_threshold"
   ]
  },
  {
   "cell_type": "code",
   "execution_count": 38,
   "id": "a7cf2e16",
   "metadata": {
    "execution": {
     "iopub.execute_input": "2025-07-28T11:04:54.828958Z",
     "iopub.status.busy": "2025-07-28T11:04:54.827687Z",
     "iopub.status.idle": "2025-07-28T11:04:54.960963Z",
     "shell.execute_reply": "2025-07-28T11:04:54.959861Z"
    },
    "papermill": {
     "duration": 0.160049,
     "end_time": "2025-07-28T11:04:54.963564",
     "exception": false,
     "start_time": "2025-07-28T11:04:54.803515",
     "status": "completed"
    },
    "tags": []
   },
   "outputs": [
    {
     "data": {
      "text/plain": [
       "0.8655333853528034"
      ]
     },
     "execution_count": 38,
     "metadata": {},
     "output_type": "execute_result"
    }
   ],
   "source": [
    "probs_test = model.predict_proba(X_test)\n",
    "\n",
    "'''\n",
    "Below code returns a boolean array (or binary 0/1 array depending on how it’s used) where each element \n",
    "is True if the probability of class 1 is greater than or equal to the threshold, and False otherwise.\n",
    "'''\n",
    "y_pred_default = predict_w_threshold(probs_test, 0.5)\n",
    "\n",
    "from sklearn.metrics import accuracy_score\n",
    "\n",
    "# Naive prediction\n",
    "accuracy_score(y_true = y_true, y_pred = y_pred_default)"
   ]
  },
  {
   "cell_type": "code",
   "execution_count": 39,
   "id": "081964c3",
   "metadata": {
    "execution": {
     "iopub.execute_input": "2025-07-28T11:04:55.022333Z",
     "iopub.status.busy": "2025-07-28T11:04:55.021810Z",
     "iopub.status.idle": "2025-07-28T11:04:55.110044Z",
     "shell.execute_reply": "2025-07-28T11:04:55.109118Z"
    },
    "papermill": {
     "duration": 0.120661,
     "end_time": "2025-07-28T11:04:55.112429",
     "exception": false,
     "start_time": "2025-07-28T11:04:54.991768",
     "status": "completed"
    },
    "tags": []
   },
   "outputs": [
    {
     "data": {
      "text/plain": [
       "array([0, 0, 0, ..., 0, 0, 0])"
      ]
     },
     "execution_count": 39,
     "metadata": {},
     "output_type": "execute_result"
    }
   ],
   "source": [
    "model.predict(X_test)"
   ]
  },
  {
   "cell_type": "markdown",
   "id": "56c9705b",
   "metadata": {
    "papermill": {
     "duration": 0.024171,
     "end_time": "2025-07-28T11:04:55.159985",
     "exception": false,
     "start_time": "2025-07-28T11:04:55.135814",
     "status": "completed"
    },
    "tags": []
   },
   "source": [
    "# Conformal Prediction"
   ]
  },
  {
   "cell_type": "code",
   "execution_count": 40,
   "id": "160ec6ff",
   "metadata": {
    "execution": {
     "iopub.execute_input": "2025-07-28T11:04:55.208476Z",
     "iopub.status.busy": "2025-07-28T11:04:55.207626Z",
     "iopub.status.idle": "2025-07-28T11:04:55.212849Z",
     "shell.execute_reply": "2025-07-28T11:04:55.211865Z"
    },
    "papermill": {
     "duration": 0.031682,
     "end_time": "2025-07-28T11:04:55.214466",
     "exception": false,
     "start_time": "2025-07-28T11:04:55.182784",
     "status": "completed"
    },
    "tags": []
   },
   "outputs": [],
   "source": [
    "# Miscoverage level for conformal prediction (10% allowed error rate => 90% target coverage)\n",
    "alpha = 0.1"
   ]
  },
  {
   "cell_type": "code",
   "execution_count": 41,
   "id": "eadf4555-3dd3-440e-8e35-f82a4ad9f855",
   "metadata": {
    "execution": {
     "iopub.execute_input": "2025-07-28T11:04:55.263680Z",
     "iopub.status.busy": "2025-07-28T11:04:55.262974Z",
     "iopub.status.idle": "2025-07-28T11:04:55.351610Z",
     "shell.execute_reply": "2025-07-28T11:04:55.350657Z"
    },
    "papermill": {
     "duration": 0.115896,
     "end_time": "2025-07-28T11:04:55.353754",
     "exception": false,
     "start_time": "2025-07-28T11:04:55.237858",
     "status": "completed"
    },
    "tags": []
   },
   "outputs": [],
   "source": [
    "probs_calib = model.predict_proba(X_calib)"
   ]
  },
  {
   "cell_type": "code",
   "execution_count": 42,
   "id": "2ed93547-6d5d-4983-9b36-1ecb300da49a",
   "metadata": {
    "execution": {
     "iopub.execute_input": "2025-07-28T11:04:55.401821Z",
     "iopub.status.busy": "2025-07-28T11:04:55.401261Z",
     "iopub.status.idle": "2025-07-28T11:04:55.407427Z",
     "shell.execute_reply": "2025-07-28T11:04:55.406424Z"
    },
    "papermill": {
     "duration": 0.032437,
     "end_time": "2025-07-28T11:04:55.409279",
     "exception": false,
     "start_time": "2025-07-28T11:04:55.376842",
     "status": "completed"
    },
    "tags": []
   },
   "outputs": [],
   "source": [
    "y_calib = y_calib.values.ravel().astype(int)"
   ]
  },
  {
   "cell_type": "code",
   "execution_count": 43,
   "id": "65d1320d-f588-4b38-9072-62af1ae97f7d",
   "metadata": {
    "execution": {
     "iopub.execute_input": "2025-07-28T11:04:55.458719Z",
     "iopub.status.busy": "2025-07-28T11:04:55.458002Z",
     "iopub.status.idle": "2025-07-28T11:04:55.466276Z",
     "shell.execute_reply": "2025-07-28T11:04:55.465269Z"
    },
    "papermill": {
     "duration": 0.034604,
     "end_time": "2025-07-28T11:04:55.468315",
     "exception": false,
     "start_time": "2025-07-28T11:04:55.433711",
     "status": "completed"
    },
    "tags": []
   },
   "outputs": [],
   "source": [
    "from fairness_multiverse.conformal import compute_nc_scores\n",
    "\n",
    "# Compute nonconformity scores on calibration set (1 - probability of true class)\n",
    "nc_scores = compute_nc_scores(probs_calib, y_calib)"
   ]
  },
  {
   "cell_type": "code",
   "execution_count": 44,
   "id": "df3b8ca3-53b7-43d5-9667-7c85da7aeda2",
   "metadata": {
    "execution": {
     "iopub.execute_input": "2025-07-28T11:04:55.518778Z",
     "iopub.status.busy": "2025-07-28T11:04:55.517745Z",
     "iopub.status.idle": "2025-07-28T11:04:55.525547Z",
     "shell.execute_reply": "2025-07-28T11:04:55.524425Z"
    },
    "papermill": {
     "duration": 0.034522,
     "end_time": "2025-07-28T11:04:55.527485",
     "exception": false,
     "start_time": "2025-07-28T11:04:55.492963",
     "status": "completed"
    },
    "tags": []
   },
   "outputs": [],
   "source": [
    "from fairness_multiverse.conformal import find_threshold\n",
    "\n",
    "# Find conformal threshold q_hat for the given alpha (split conformal method)\n",
    "q_hat = find_threshold(nc_scores, alpha)"
   ]
  },
  {
   "cell_type": "code",
   "execution_count": 45,
   "id": "4d29e6c1-0ef6-4aa4-b8fe-4fe79b0d033a",
   "metadata": {
    "execution": {
     "iopub.execute_input": "2025-07-28T11:04:55.577972Z",
     "iopub.status.busy": "2025-07-28T11:04:55.577008Z",
     "iopub.status.idle": "2025-07-28T11:04:55.585594Z",
     "shell.execute_reply": "2025-07-28T11:04:55.584625Z"
    },
    "papermill": {
     "duration": 0.036238,
     "end_time": "2025-07-28T11:04:55.587169",
     "exception": false,
     "start_time": "2025-07-28T11:04:55.550931",
     "status": "completed"
    },
    "tags": []
   },
   "outputs": [
    {
     "data": {
      "text/plain": [
       "0.661379145531941"
      ]
     },
     "execution_count": 45,
     "metadata": {},
     "output_type": "execute_result"
    }
   ],
   "source": [
    "q_hat"
   ]
  },
  {
   "cell_type": "code",
   "execution_count": 46,
   "id": "92460794-cdac-4be2-ba28-f28c0515a6fb",
   "metadata": {
    "execution": {
     "iopub.execute_input": "2025-07-28T11:04:55.650408Z",
     "iopub.status.busy": "2025-07-28T11:04:55.649692Z",
     "iopub.status.idle": "2025-07-28T11:04:56.590151Z",
     "shell.execute_reply": "2025-07-28T11:04:56.589141Z"
    },
    "papermill": {
     "duration": 0.974429,
     "end_time": "2025-07-28T11:04:56.592386",
     "exception": false,
     "start_time": "2025-07-28T11:04:55.617957",
     "status": "completed"
    },
    "tags": []
   },
   "outputs": [],
   "source": [
    "from fairness_multiverse.conformal import predict_conformal_sets\n",
    "\n",
    "# Generate prediction sets for each test example\n",
    "pred_sets = predict_conformal_sets(model, X_test, q_hat)"
   ]
  },
  {
   "cell_type": "code",
   "execution_count": 47,
   "id": "d90c9a65-e6db-4f5d-80cd-e68fb7e46829",
   "metadata": {
    "execution": {
     "iopub.execute_input": "2025-07-28T11:04:56.655881Z",
     "iopub.status.busy": "2025-07-28T11:04:56.655141Z",
     "iopub.status.idle": "2025-07-28T11:04:56.661712Z",
     "shell.execute_reply": "2025-07-28T11:04:56.660653Z"
    },
    "papermill": {
     "duration": 0.040791,
     "end_time": "2025-07-28T11:04:56.663817",
     "exception": false,
     "start_time": "2025-07-28T11:04:56.623026",
     "status": "completed"
    },
    "tags": []
   },
   "outputs": [],
   "source": [
    "y_true = y_true.squeeze()"
   ]
  },
  {
   "cell_type": "code",
   "execution_count": 48,
   "id": "3a58a54a-1e68-46b9-927a-df01f18aebc8",
   "metadata": {
    "execution": {
     "iopub.execute_input": "2025-07-28T11:04:56.727210Z",
     "iopub.status.busy": "2025-07-28T11:04:56.726392Z",
     "iopub.status.idle": "2025-07-28T11:04:57.694629Z",
     "shell.execute_reply": "2025-07-28T11:04:57.693510Z"
    },
    "papermill": {
     "duration": 1.003194,
     "end_time": "2025-07-28T11:04:57.697238",
     "exception": false,
     "start_time": "2025-07-28T11:04:56.694044",
     "status": "completed"
    },
    "tags": []
   },
   "outputs": [],
   "source": [
    "from fairness_multiverse.conformal import evaluate_sets\n",
    "\n",
    "# Evaluate coverage and average set size on test data\n",
    "metrics = evaluate_sets(pred_sets, y_true)"
   ]
  },
  {
   "cell_type": "markdown",
   "id": "2b569c12-9aaa-4c88-98c9-bbcd0cf3ebb8",
   "metadata": {
    "papermill": {
     "duration": 0.030208,
     "end_time": "2025-07-28T11:04:57.757121",
     "exception": false,
     "start_time": "2025-07-28T11:04:57.726913",
     "status": "completed"
    },
    "tags": []
   },
   "source": [
    "# CP Metrics"
   ]
  },
  {
   "cell_type": "code",
   "execution_count": 49,
   "id": "5ce0a5cb-201f-45a0-ade5-94c7f0bd6095",
   "metadata": {
    "execution": {
     "iopub.execute_input": "2025-07-28T11:04:57.819849Z",
     "iopub.status.busy": "2025-07-28T11:04:57.819111Z",
     "iopub.status.idle": "2025-07-28T11:04:57.827049Z",
     "shell.execute_reply": "2025-07-28T11:04:57.825978Z"
    },
    "papermill": {
     "duration": 0.04201,
     "end_time": "2025-07-28T11:04:57.829083",
     "exception": false,
     "start_time": "2025-07-28T11:04:57.787073",
     "status": "completed"
    },
    "tags": []
   },
   "outputs": [
    {
     "data": {
      "text/plain": [
       "{'coverage': 0.9126184371864898, 'avg_size': 1.2207557685876713}"
      ]
     },
     "execution_count": 49,
     "metadata": {},
     "output_type": "execute_result"
    }
   ],
   "source": [
    "metrics"
   ]
  },
  {
   "cell_type": "code",
   "execution_count": 50,
   "id": "9b9a838d-31c9-430b-ae14-12baee460d17",
   "metadata": {
    "execution": {
     "iopub.execute_input": "2025-07-28T11:04:57.891627Z",
     "iopub.status.busy": "2025-07-28T11:04:57.890857Z",
     "iopub.status.idle": "2025-07-28T11:04:57.897959Z",
     "shell.execute_reply": "2025-07-28T11:04:57.896823Z"
    },
    "papermill": {
     "duration": 0.04081,
     "end_time": "2025-07-28T11:04:57.900127",
     "exception": false,
     "start_time": "2025-07-28T11:04:57.859317",
     "status": "completed"
    },
    "tags": []
   },
   "outputs": [],
   "source": [
    "example_universe = universe.copy()\n",
    "universe_training_size = example_universe.get(\"training_size\")\n",
    "universe_scale = example_universe.get(\"scale\")\n",
    "universe_model = example_universe.get(\"model\")\n",
    "universe_exclude_features = example_universe.get(\"exclude_features\")\n",
    "universe_exclude_subgroups = example_universe.get(\"exclude_subgroups\")"
   ]
  },
  {
   "cell_type": "code",
   "execution_count": 51,
   "id": "f4b6a8ac-9dc0-4245-8a91-5b3b5999c4f9",
   "metadata": {
    "execution": {
     "iopub.execute_input": "2025-07-28T11:04:57.961971Z",
     "iopub.status.busy": "2025-07-28T11:04:57.961244Z",
     "iopub.status.idle": "2025-07-28T11:04:57.968831Z",
     "shell.execute_reply": "2025-07-28T11:04:57.967357Z"
    },
    "papermill": {
     "duration": 0.040671,
     "end_time": "2025-07-28T11:04:57.970524",
     "exception": false,
     "start_time": "2025-07-28T11:04:57.929853",
     "status": "completed"
    },
    "tags": []
   },
   "outputs": [],
   "source": [
    "cp_metrics_dict = {\n",
    "    \"universe_id\": [universe_id],\n",
    "    \"universe_training_size\": [universe_training_size],\n",
    "    \"universe_scale\": [universe_scale],\n",
    "    \"universe_model\": [universe_model],\n",
    "    \"universe_exclude_features\": [universe_exclude_features],\n",
    "    \"universe_exclude_subgroups\": [universe_exclude_subgroups],\n",
    "    \"q_hat\": [q_hat],\n",
    "    \"coverage\": [metrics[\"coverage\"]],\n",
    "    \"avg_size\": [metrics[\"avg_size\"]],\n",
    "}"
   ]
  },
  {
   "cell_type": "code",
   "execution_count": 52,
   "id": "908acbb1-0371-4915-85ca-3fa520d2efe2",
   "metadata": {
    "execution": {
     "iopub.execute_input": "2025-07-28T11:04:58.032507Z",
     "iopub.status.busy": "2025-07-28T11:04:58.031661Z",
     "iopub.status.idle": "2025-07-28T11:04:58.040555Z",
     "shell.execute_reply": "2025-07-28T11:04:58.039489Z"
    },
    "papermill": {
     "duration": 0.040872,
     "end_time": "2025-07-28T11:04:58.042469",
     "exception": false,
     "start_time": "2025-07-28T11:04:58.001597",
     "status": "completed"
    },
    "tags": []
   },
   "outputs": [
    {
     "data": {
      "text/plain": [
       "{'universe_id': ['05da307ef8f6be31460738322014c5c8'],\n",
       " 'universe_training_size': ['2014'],\n",
       " 'universe_scale': ['do-not-scale'],\n",
       " 'universe_model': ['penalized_logreg'],\n",
       " 'universe_exclude_features': ['sex'],\n",
       " 'universe_exclude_subgroups': ['drop-non-german'],\n",
       " 'q_hat': [0.661379145531941],\n",
       " 'coverage': [0.9126184371864898],\n",
       " 'avg_size': [1.2207557685876713]}"
      ]
     },
     "execution_count": 52,
     "metadata": {},
     "output_type": "execute_result"
    }
   ],
   "source": [
    "cp_metrics_dict"
   ]
  },
  {
   "cell_type": "code",
   "execution_count": 53,
   "id": "33007efc-14e9-4ec6-97ac-56a455c82265",
   "metadata": {
    "execution": {
     "iopub.execute_input": "2025-07-28T11:04:58.093823Z",
     "iopub.status.busy": "2025-07-28T11:04:58.092937Z",
     "iopub.status.idle": "2025-07-28T11:04:58.101143Z",
     "shell.execute_reply": "2025-07-28T11:04:58.100070Z"
    },
    "papermill": {
     "duration": 0.035532,
     "end_time": "2025-07-28T11:04:58.102824",
     "exception": false,
     "start_time": "2025-07-28T11:04:58.067292",
     "status": "completed"
    },
    "tags": []
   },
   "outputs": [],
   "source": [
    "cp_metrics_df = pd.DataFrame(cp_metrics_dict)"
   ]
  },
  {
   "cell_type": "code",
   "execution_count": 54,
   "id": "db12611b-57b2-4910-b9d0-355adfd6e7bf",
   "metadata": {
    "execution": {
     "iopub.execute_input": "2025-07-28T11:04:58.165356Z",
     "iopub.status.busy": "2025-07-28T11:04:58.164918Z",
     "iopub.status.idle": "2025-07-28T11:04:58.180186Z",
     "shell.execute_reply": "2025-07-28T11:04:58.179130Z"
    },
    "papermill": {
     "duration": 0.051759,
     "end_time": "2025-07-28T11:04:58.181768",
     "exception": false,
     "start_time": "2025-07-28T11:04:58.130009",
     "status": "completed"
    },
    "tags": []
   },
   "outputs": [
    {
     "data": {
      "text/html": [
       "<div>\n",
       "<style scoped>\n",
       "    .dataframe tbody tr th:only-of-type {\n",
       "        vertical-align: middle;\n",
       "    }\n",
       "\n",
       "    .dataframe tbody tr th {\n",
       "        vertical-align: top;\n",
       "    }\n",
       "\n",
       "    .dataframe thead th {\n",
       "        text-align: right;\n",
       "    }\n",
       "</style>\n",
       "<table border=\"1\" class=\"dataframe\">\n",
       "  <thead>\n",
       "    <tr style=\"text-align: right;\">\n",
       "      <th></th>\n",
       "      <th>universe_id</th>\n",
       "      <th>universe_training_size</th>\n",
       "      <th>universe_scale</th>\n",
       "      <th>universe_model</th>\n",
       "      <th>universe_exclude_features</th>\n",
       "      <th>universe_exclude_subgroups</th>\n",
       "      <th>q_hat</th>\n",
       "      <th>coverage</th>\n",
       "      <th>avg_size</th>\n",
       "    </tr>\n",
       "  </thead>\n",
       "  <tbody>\n",
       "    <tr>\n",
       "      <th>0</th>\n",
       "      <td>05da307ef8f6be31460738322014c5c8</td>\n",
       "      <td>2014</td>\n",
       "      <td>do-not-scale</td>\n",
       "      <td>penalized_logreg</td>\n",
       "      <td>sex</td>\n",
       "      <td>drop-non-german</td>\n",
       "      <td>0.661379</td>\n",
       "      <td>0.912618</td>\n",
       "      <td>1.220756</td>\n",
       "    </tr>\n",
       "  </tbody>\n",
       "</table>\n",
       "</div>"
      ],
      "text/plain": [
       "                        universe_id universe_training_size universe_scale  \\\n",
       "0  05da307ef8f6be31460738322014c5c8                   2014   do-not-scale   \n",
       "\n",
       "     universe_model universe_exclude_features universe_exclude_subgroups  \\\n",
       "0  penalized_logreg                       sex            drop-non-german   \n",
       "\n",
       "      q_hat  coverage  avg_size  \n",
       "0  0.661379  0.912618  1.220756  "
      ]
     },
     "execution_count": 54,
     "metadata": {},
     "output_type": "execute_result"
    }
   ],
   "source": [
    "cp_metrics_df"
   ]
  },
  {
   "cell_type": "code",
   "execution_count": 55,
   "id": "b7fbde55-a0a1-47e4-9af6-fe4a17fa8c61",
   "metadata": {
    "execution": {
     "iopub.execute_input": "2025-07-28T11:04:58.210835Z",
     "iopub.status.busy": "2025-07-28T11:04:58.210279Z",
     "iopub.status.idle": "2025-07-28T11:04:58.215153Z",
     "shell.execute_reply": "2025-07-28T11:04:58.214395Z"
    },
    "papermill": {
     "duration": 0.021085,
     "end_time": "2025-07-28T11:04:58.216646",
     "exception": false,
     "start_time": "2025-07-28T11:04:58.195561",
     "status": "completed"
    },
    "tags": []
   },
   "outputs": [],
   "source": [
    "# Conditional Coverage & looking at subgroups"
   ]
  },
  {
   "cell_type": "code",
   "execution_count": 56,
   "id": "027ae886-68dd-4141-96c7-805a5450e1ef",
   "metadata": {
    "execution": {
     "iopub.execute_input": "2025-07-28T11:04:58.247114Z",
     "iopub.status.busy": "2025-07-28T11:04:58.246488Z",
     "iopub.status.idle": "2025-07-28T11:04:58.526148Z",
     "shell.execute_reply": "2025-07-28T11:04:58.524946Z"
    },
    "papermill": {
     "duration": 0.296294,
     "end_time": "2025-07-28T11:04:58.527871",
     "exception": false,
     "start_time": "2025-07-28T11:04:58.231577",
     "status": "completed"
    },
    "tags": []
   },
   "outputs": [],
   "source": [
    "from fairness_multiverse.conformal import build_cp_groups\n",
    "\n",
    "cp_groups_df = build_cp_groups(pred_sets, y_true, X_test.index, org_test)\n",
    "#needs universe_id and setting"
   ]
  },
  {
   "cell_type": "code",
   "execution_count": 57,
   "id": "01d5802c-663a-4d1f-9d69-e036faaffbf7",
   "metadata": {
    "execution": {
     "iopub.execute_input": "2025-07-28T11:04:58.586664Z",
     "iopub.status.busy": "2025-07-28T11:04:58.586084Z",
     "iopub.status.idle": "2025-07-28T11:04:58.592301Z",
     "shell.execute_reply": "2025-07-28T11:04:58.591009Z"
    },
    "papermill": {
     "duration": 0.038004,
     "end_time": "2025-07-28T11:04:58.594263",
     "exception": false,
     "start_time": "2025-07-28T11:04:58.556259",
     "status": "completed"
    },
    "tags": []
   },
   "outputs": [],
   "source": [
    "#delete\n",
    "#cp_groups_df"
   ]
  },
  {
   "cell_type": "code",
   "execution_count": 58,
   "id": "fa424af1-d1eb-443d-b717-2d279ada8408",
   "metadata": {
    "execution": {
     "iopub.execute_input": "2025-07-28T11:04:58.651595Z",
     "iopub.status.busy": "2025-07-28T11:04:58.651039Z",
     "iopub.status.idle": "2025-07-28T11:04:58.656681Z",
     "shell.execute_reply": "2025-07-28T11:04:58.655582Z"
    },
    "papermill": {
     "duration": 0.036505,
     "end_time": "2025-07-28T11:04:58.658470",
     "exception": false,
     "start_time": "2025-07-28T11:04:58.621965",
     "status": "completed"
    },
    "tags": []
   },
   "outputs": [],
   "source": [
    "#delete\n",
    "#percentage = (cp_groups_df['nongerman_female'] == 1).mean() * 100\n",
    "#print(percentage)\n"
   ]
  },
  {
   "cell_type": "code",
   "execution_count": 59,
   "id": "6cbdab96-b2b2-45af-ad54-d0516db2e28d",
   "metadata": {
    "execution": {
     "iopub.execute_input": "2025-07-28T11:04:58.711237Z",
     "iopub.status.busy": "2025-07-28T11:04:58.710699Z",
     "iopub.status.idle": "2025-07-28T11:05:00.523678Z",
     "shell.execute_reply": "2025-07-28T11:05:00.522814Z"
    },
    "papermill": {
     "duration": 1.843096,
     "end_time": "2025-07-28T11:05:00.525149",
     "exception": false,
     "start_time": "2025-07-28T11:04:58.682053",
     "status": "completed"
    },
    "tags": []
   },
   "outputs": [],
   "source": [
    "# Define covered = 1 if true_label is in the predicted set\n",
    "cp_groups_df['covered'] = cp_groups_df.apply(\n",
    "    lambda r: int(r['true_label'] in r['pred_set']),\n",
    "    axis=1\n",
    ")"
   ]
  },
  {
   "cell_type": "code",
   "execution_count": 60,
   "id": "338ff529-1a6b-4b87-a931-8e4788d52aad",
   "metadata": {
    "execution": {
     "iopub.execute_input": "2025-07-28T11:05:00.556450Z",
     "iopub.status.busy": "2025-07-28T11:05:00.556045Z",
     "iopub.status.idle": "2025-07-28T11:05:00.561005Z",
     "shell.execute_reply": "2025-07-28T11:05:00.559958Z"
    },
    "papermill": {
     "duration": 0.02134,
     "end_time": "2025-07-28T11:05:00.562652",
     "exception": false,
     "start_time": "2025-07-28T11:05:00.541312",
     "status": "completed"
    },
    "tags": []
   },
   "outputs": [],
   "source": [
    "#cp_groups_df"
   ]
  },
  {
   "cell_type": "code",
   "execution_count": 61,
   "id": "90032e27-66df-4540-9169-4e89cfbaa758",
   "metadata": {
    "execution": {
     "iopub.execute_input": "2025-07-28T11:05:00.598717Z",
     "iopub.status.busy": "2025-07-28T11:05:00.598099Z",
     "iopub.status.idle": "2025-07-28T11:05:00.609223Z",
     "shell.execute_reply": "2025-07-28T11:05:00.608099Z"
    },
    "papermill": {
     "duration": 0.028123,
     "end_time": "2025-07-28T11:05:00.611346",
     "exception": false,
     "start_time": "2025-07-28T11:05:00.583223",
     "status": "completed"
    },
    "tags": []
   },
   "outputs": [],
   "source": [
    "subgroups = ['frau1','nongerman','nongerman_male','nongerman_female']\n",
    "\n",
    "# Conditional coverage for subgroup==1\n",
    "cond_coverage = {\n",
    "    g: cp_groups_df.loc[cp_groups_df[g]==1, 'covered'].mean()\n",
    "    for g in subgroups\n",
    "}"
   ]
  },
  {
   "cell_type": "code",
   "execution_count": 62,
   "id": "1e348fb1-b9c3-45bc-ba23-f016827a7e0d",
   "metadata": {
    "execution": {
     "iopub.execute_input": "2025-07-28T11:05:00.664389Z",
     "iopub.status.busy": "2025-07-28T11:05:00.663807Z",
     "iopub.status.idle": "2025-07-28T11:05:00.671748Z",
     "shell.execute_reply": "2025-07-28T11:05:00.670743Z"
    },
    "papermill": {
     "duration": 0.035614,
     "end_time": "2025-07-28T11:05:00.673397",
     "exception": false,
     "start_time": "2025-07-28T11:05:00.637783",
     "status": "completed"
    },
    "tags": []
   },
   "outputs": [
    {
     "data": {
      "text/plain": [
       "{'frau1': 0.9123331985442782,\n",
       " 'nongerman': 0.941278841295683,\n",
       " 'nongerman_male': 0.9515446275781321,\n",
       " 'nongerman_female': 0.9242921013412817}"
      ]
     },
     "execution_count": 62,
     "metadata": {},
     "output_type": "execute_result"
    }
   ],
   "source": [
    "cond_coverage"
   ]
  },
  {
   "cell_type": "code",
   "execution_count": 63,
   "id": "f5093324-c3dd-4d63-bc4c-8d945e5c8bbb",
   "metadata": {
    "execution": {
     "iopub.execute_input": "2025-07-28T11:05:00.726138Z",
     "iopub.status.busy": "2025-07-28T11:05:00.725607Z",
     "iopub.status.idle": "2025-07-28T11:05:00.733265Z",
     "shell.execute_reply": "2025-07-28T11:05:00.732271Z"
    },
    "papermill": {
     "duration": 0.035356,
     "end_time": "2025-07-28T11:05:00.734977",
     "exception": false,
     "start_time": "2025-07-28T11:05:00.699621",
     "status": "completed"
    },
    "tags": []
   },
   "outputs": [],
   "source": [
    "for subgroup, cov in cond_coverage.items():\n",
    "    cp_metrics_df[f\"cov_{subgroup}\"] = cov"
   ]
  },
  {
   "cell_type": "code",
   "execution_count": 64,
   "id": "6e872e10-dbe5-49e8-b554-5030c98ff75d",
   "metadata": {
    "execution": {
     "iopub.execute_input": "2025-07-28T11:05:00.789512Z",
     "iopub.status.busy": "2025-07-28T11:05:00.788855Z",
     "iopub.status.idle": "2025-07-28T11:05:00.809043Z",
     "shell.execute_reply": "2025-07-28T11:05:00.807865Z"
    },
    "papermill": {
     "duration": 0.050023,
     "end_time": "2025-07-28T11:05:00.810925",
     "exception": false,
     "start_time": "2025-07-28T11:05:00.760902",
     "status": "completed"
    },
    "tags": []
   },
   "outputs": [
    {
     "data": {
      "text/html": [
       "<div>\n",
       "<style scoped>\n",
       "    .dataframe tbody tr th:only-of-type {\n",
       "        vertical-align: middle;\n",
       "    }\n",
       "\n",
       "    .dataframe tbody tr th {\n",
       "        vertical-align: top;\n",
       "    }\n",
       "\n",
       "    .dataframe thead th {\n",
       "        text-align: right;\n",
       "    }\n",
       "</style>\n",
       "<table border=\"1\" class=\"dataframe\">\n",
       "  <thead>\n",
       "    <tr style=\"text-align: right;\">\n",
       "      <th></th>\n",
       "      <th>universe_id</th>\n",
       "      <th>universe_training_size</th>\n",
       "      <th>universe_scale</th>\n",
       "      <th>universe_model</th>\n",
       "      <th>universe_exclude_features</th>\n",
       "      <th>universe_exclude_subgroups</th>\n",
       "      <th>q_hat</th>\n",
       "      <th>coverage</th>\n",
       "      <th>avg_size</th>\n",
       "      <th>cov_frau1</th>\n",
       "      <th>cov_nongerman</th>\n",
       "      <th>cov_nongerman_male</th>\n",
       "      <th>cov_nongerman_female</th>\n",
       "    </tr>\n",
       "  </thead>\n",
       "  <tbody>\n",
       "    <tr>\n",
       "      <th>0</th>\n",
       "      <td>05da307ef8f6be31460738322014c5c8</td>\n",
       "      <td>2014</td>\n",
       "      <td>do-not-scale</td>\n",
       "      <td>penalized_logreg</td>\n",
       "      <td>sex</td>\n",
       "      <td>drop-non-german</td>\n",
       "      <td>0.661379</td>\n",
       "      <td>0.912618</td>\n",
       "      <td>1.220756</td>\n",
       "      <td>0.912333</td>\n",
       "      <td>0.941279</td>\n",
       "      <td>0.951545</td>\n",
       "      <td>0.924292</td>\n",
       "    </tr>\n",
       "  </tbody>\n",
       "</table>\n",
       "</div>"
      ],
      "text/plain": [
       "                        universe_id universe_training_size universe_scale  \\\n",
       "0  05da307ef8f6be31460738322014c5c8                   2014   do-not-scale   \n",
       "\n",
       "     universe_model universe_exclude_features universe_exclude_subgroups  \\\n",
       "0  penalized_logreg                       sex            drop-non-german   \n",
       "\n",
       "      q_hat  coverage  avg_size  cov_frau1  cov_nongerman  cov_nongerman_male  \\\n",
       "0  0.661379  0.912618  1.220756   0.912333       0.941279            0.951545   \n",
       "\n",
       "   cov_nongerman_female  \n",
       "0              0.924292  "
      ]
     },
     "execution_count": 64,
     "metadata": {},
     "output_type": "execute_result"
    }
   ],
   "source": [
    "cp_metrics_df"
   ]
  },
  {
   "cell_type": "markdown",
   "id": "33774451",
   "metadata": {
    "papermill": {
     "duration": 0.026143,
     "end_time": "2025-07-28T11:05:00.863260",
     "exception": false,
     "start_time": "2025-07-28T11:05:00.837117",
     "status": "completed"
    },
    "tags": []
   },
   "source": [
    "# (Fairness) Metrics"
   ]
  },
  {
   "cell_type": "code",
   "execution_count": 65,
   "id": "debc5d62",
   "metadata": {
    "execution": {
     "iopub.execute_input": "2025-07-28T11:05:00.917708Z",
     "iopub.status.busy": "2025-07-28T11:05:00.916981Z",
     "iopub.status.idle": "2025-07-28T11:05:00.942207Z",
     "shell.execute_reply": "2025-07-28T11:05:00.940791Z"
    },
    "papermill": {
     "duration": 0.055289,
     "end_time": "2025-07-28T11:05:00.944664",
     "exception": false,
     "start_time": "2025-07-28T11:05:00.889375",
     "status": "completed"
    },
    "tags": []
   },
   "outputs": [],
   "source": [
    "# do I need to include maxdeutsch1.missing?\n",
    "\n",
    "import numpy as np\n",
    "\n",
    "colname_to_bin = \"maxdeutsch1\"\n",
    "majority_value = org_train[colname_to_bin].mode()[0]\n",
    "\n",
    "org_test[\"majmin\"] = np.where(org_test[colname_to_bin] == majority_value, \"majority\", \"minority\")"
   ]
  },
  {
   "cell_type": "code",
   "execution_count": 66,
   "id": "06a50de5",
   "metadata": {
    "execution": {
     "iopub.execute_input": "2025-07-28T11:05:01.008557Z",
     "iopub.status.busy": "2025-07-28T11:05:01.007930Z",
     "iopub.status.idle": "2025-07-28T11:05:04.143325Z",
     "shell.execute_reply": "2025-07-28T11:05:04.142296Z"
    },
    "papermill": {
     "duration": 3.169747,
     "end_time": "2025-07-28T11:05:04.145432",
     "exception": false,
     "start_time": "2025-07-28T11:05:00.975685",
     "status": "completed"
    },
    "tags": []
   },
   "outputs": [],
   "source": [
    "example_universe = universe.copy()\n",
    "example_universe[\"cutoff\"] = example_universe[\"cutoff\"][0]\n",
    "example_universe[\"eval_fairness_grouping\"] = example_universe[\"eval_fairness_grouping\"][0]\n",
    "fairness_dict, metric_frame = universe_analysis.compute_metrics(\n",
    "    example_universe,\n",
    "    y_pred_prob=probs_test,\n",
    "    y_test=y_true,\n",
    "    org_test=org_test,\n",
    ")"
   ]
  },
  {
   "cell_type": "markdown",
   "id": "f95d4e02",
   "metadata": {
    "papermill": {
     "duration": 0.028472,
     "end_time": "2025-07-28T11:05:04.202841",
     "exception": false,
     "start_time": "2025-07-28T11:05:04.174369",
     "status": "completed"
    },
    "tags": []
   },
   "source": [
    "# Overall"
   ]
  },
  {
   "cell_type": "markdown",
   "id": "bdee4871",
   "metadata": {
    "papermill": {
     "duration": 0.040637,
     "end_time": "2025-07-28T11:05:04.269257",
     "exception": false,
     "start_time": "2025-07-28T11:05:04.228620",
     "status": "completed"
    },
    "tags": []
   },
   "source": [
    "Fairness\n",
    "Main fairness target: Equalized Odds. Seems to be a better fit than equal opportunity, since we're not only interested in Y = 1. Seems to be a better fit than demographic parity, since we also care about accuracy, not just equal distribution of preds.\n",
    "\n",
    "Pick column for computation of fairness metrics\n",
    "\n",
    "Performance\n",
    "Overall performance measures, most interesting in relation to the measures split by group below"
   ]
  },
  {
   "cell_type": "code",
   "execution_count": 67,
   "id": "c4e067c6",
   "metadata": {
    "execution": {
     "iopub.execute_input": "2025-07-28T11:05:04.327676Z",
     "iopub.status.busy": "2025-07-28T11:05:04.326764Z",
     "iopub.status.idle": "2025-07-28T11:05:04.336026Z",
     "shell.execute_reply": "2025-07-28T11:05:04.334928Z"
    },
    "papermill": {
     "duration": 0.040122,
     "end_time": "2025-07-28T11:05:04.337661",
     "exception": false,
     "start_time": "2025-07-28T11:05:04.297539",
     "status": "completed"
    },
    "tags": []
   },
   "outputs": [
    {
     "data": {
      "text/plain": [
       "accuracy                   0.217846\n",
       "balanced accuracy          0.534032\n",
       "f1                         0.239357\n",
       "precision                  0.136737\n",
       "false positive rate        0.891269\n",
       "false negative rate        0.040667\n",
       "selection rate             0.900000\n",
       "count                  89710.000000\n",
       "dtype: float64"
      ]
     },
     "execution_count": 67,
     "metadata": {},
     "output_type": "execute_result"
    }
   ],
   "source": [
    "metric_frame.overall"
   ]
  },
  {
   "cell_type": "markdown",
   "id": "e968fe9d",
   "metadata": {
    "papermill": {
     "duration": 0.028376,
     "end_time": "2025-07-28T11:05:04.396419",
     "exception": false,
     "start_time": "2025-07-28T11:05:04.368043",
     "status": "completed"
    },
    "tags": []
   },
   "source": [
    "By Group"
   ]
  },
  {
   "cell_type": "code",
   "execution_count": 68,
   "id": "ec325bce",
   "metadata": {
    "execution": {
     "iopub.execute_input": "2025-07-28T11:05:04.453938Z",
     "iopub.status.busy": "2025-07-28T11:05:04.453400Z",
     "iopub.status.idle": "2025-07-28T11:05:04.470874Z",
     "shell.execute_reply": "2025-07-28T11:05:04.469926Z"
    },
    "papermill": {
     "duration": 0.048895,
     "end_time": "2025-07-28T11:05:04.472592",
     "exception": false,
     "start_time": "2025-07-28T11:05:04.423697",
     "status": "completed"
    },
    "tags": []
   },
   "outputs": [
    {
     "data": {
      "text/html": [
       "<div>\n",
       "<style scoped>\n",
       "    .dataframe tbody tr th:only-of-type {\n",
       "        vertical-align: middle;\n",
       "    }\n",
       "\n",
       "    .dataframe tbody tr th {\n",
       "        vertical-align: top;\n",
       "    }\n",
       "\n",
       "    .dataframe thead th {\n",
       "        text-align: right;\n",
       "    }\n",
       "</style>\n",
       "<table border=\"1\" class=\"dataframe\">\n",
       "  <thead>\n",
       "    <tr style=\"text-align: right;\">\n",
       "      <th></th>\n",
       "      <th>accuracy</th>\n",
       "      <th>balanced accuracy</th>\n",
       "      <th>f1</th>\n",
       "      <th>precision</th>\n",
       "      <th>false positive rate</th>\n",
       "      <th>false negative rate</th>\n",
       "      <th>selection rate</th>\n",
       "      <th>count</th>\n",
       "    </tr>\n",
       "    <tr>\n",
       "      <th>majmin</th>\n",
       "      <th></th>\n",
       "      <th></th>\n",
       "      <th></th>\n",
       "      <th></th>\n",
       "      <th></th>\n",
       "      <th></th>\n",
       "      <th></th>\n",
       "      <th></th>\n",
       "    </tr>\n",
       "  </thead>\n",
       "  <tbody>\n",
       "    <tr>\n",
       "      <th>majority</th>\n",
       "      <td>0.240061</td>\n",
       "      <td>0.541911</td>\n",
       "      <td>0.248760</td>\n",
       "      <td>0.143069</td>\n",
       "      <td>0.868366</td>\n",
       "      <td>0.047812</td>\n",
       "      <td>0.879442</td>\n",
       "      <td>69170.0</td>\n",
       "    </tr>\n",
       "    <tr>\n",
       "      <th>minority</th>\n",
       "      <td>0.143038</td>\n",
       "      <td>0.509991</td>\n",
       "      <td>0.209822</td>\n",
       "      <td>0.117390</td>\n",
       "      <td>0.966927</td>\n",
       "      <td>0.013091</td>\n",
       "      <td>0.969231</td>\n",
       "      <td>20540.0</td>\n",
       "    </tr>\n",
       "  </tbody>\n",
       "</table>\n",
       "</div>"
      ],
      "text/plain": [
       "          accuracy  balanced accuracy        f1  precision  \\\n",
       "majmin                                                       \n",
       "majority  0.240061           0.541911  0.248760   0.143069   \n",
       "minority  0.143038           0.509991  0.209822   0.117390   \n",
       "\n",
       "          false positive rate  false negative rate  selection rate    count  \n",
       "majmin                                                                       \n",
       "majority             0.868366             0.047812        0.879442  69170.0  \n",
       "minority             0.966927             0.013091        0.969231  20540.0  "
      ]
     },
     "execution_count": 68,
     "metadata": {},
     "output_type": "execute_result"
    }
   ],
   "source": [
    "metric_frame.by_group"
   ]
  },
  {
   "cell_type": "code",
   "execution_count": 69,
   "id": "a9ddbe63",
   "metadata": {
    "execution": {
     "iopub.execute_input": "2025-07-28T11:05:04.533005Z",
     "iopub.status.busy": "2025-07-28T11:05:04.531290Z",
     "iopub.status.idle": "2025-07-28T11:05:07.213857Z",
     "shell.execute_reply": "2025-07-28T11:05:07.212825Z"
    },
    "papermill": {
     "duration": 2.715587,
     "end_time": "2025-07-28T11:05:07.216175",
     "exception": false,
     "start_time": "2025-07-28T11:05:04.500588",
     "status": "completed"
    },
    "tags": []
   },
   "outputs": [
    {
     "data": {
      "text/plain": [
       "array([[<Axes: title={'center': 'accuracy'}, xlabel='majmin'>,\n",
       "        <Axes: title={'center': 'balanced accuracy'}, xlabel='majmin'>,\n",
       "        <Axes: title={'center': 'f1'}, xlabel='majmin'>],\n",
       "       [<Axes: title={'center': 'precision'}, xlabel='majmin'>,\n",
       "        <Axes: title={'center': 'false positive rate'}, xlabel='majmin'>,\n",
       "        <Axes: title={'center': 'false negative rate'}, xlabel='majmin'>],\n",
       "       [<Axes: title={'center': 'selection rate'}, xlabel='majmin'>,\n",
       "        <Axes: title={'center': 'count'}, xlabel='majmin'>,\n",
       "        <Axes: xlabel='majmin'>]], dtype=object)"
      ]
     },
     "execution_count": 69,
     "metadata": {},
     "output_type": "execute_result"
    },
    {
     "data": {
      "image/png": "[encoded data removed]",
      "text/plain": [
       "<Figure size 1200x800 with 9 Axes>"
      ]
     },
     "metadata": {},
     "output_type": "display_data"
    }
   ],
   "source": [
    "# In a graphic\n",
    "metric_frame.by_group.plot.bar(\n",
    "    subplots=True,\n",
    "    layout=[3, 3],\n",
    "    legend=False,\n",
    "    figsize=[12, 8],\n",
    "    title=\"Show all metrics\",\n",
    ")"
   ]
  },
  {
   "cell_type": "markdown",
   "id": "f57a0bac",
   "metadata": {
    "papermill": {
     "duration": 0.031352,
     "end_time": "2025-07-28T11:05:07.279669",
     "exception": false,
     "start_time": "2025-07-28T11:05:07.248317",
     "status": "completed"
    },
    "tags": []
   },
   "source": [
    "# Final Output"
   ]
  },
  {
   "cell_type": "code",
   "execution_count": 70,
   "id": "96d280a3",
   "metadata": {
    "execution": {
     "iopub.execute_input": "2025-07-28T11:05:07.342840Z",
     "iopub.status.busy": "2025-07-28T11:05:07.341875Z",
     "iopub.status.idle": "2025-07-28T11:05:07.351352Z",
     "shell.execute_reply": "2025-07-28T11:05:07.350272Z"
    },
    "papermill": {
     "duration": 0.043637,
     "end_time": "2025-07-28T11:05:07.353516",
     "exception": false,
     "start_time": "2025-07-28T11:05:07.309879",
     "status": "completed"
    },
    "tags": []
   },
   "outputs": [
    {
     "data": {
      "text/plain": [
       "4"
      ]
     },
     "execution_count": 70,
     "metadata": {},
     "output_type": "execute_result"
    }
   ],
   "source": [
    "sub_universes = universe_analysis.generate_sub_universes()\n",
    "len(sub_universes)"
   ]
  },
  {
   "cell_type": "code",
   "execution_count": 71,
   "id": "92adf7ba",
   "metadata": {
    "execution": {
     "iopub.execute_input": "2025-07-28T11:05:07.417512Z",
     "iopub.status.busy": "2025-07-28T11:05:07.416723Z",
     "iopub.status.idle": "2025-07-28T11:05:07.423826Z",
     "shell.execute_reply": "2025-07-28T11:05:07.422774Z"
    },
    "papermill": {
     "duration": 0.041574,
     "end_time": "2025-07-28T11:05:07.425732",
     "exception": false,
     "start_time": "2025-07-28T11:05:07.384158",
     "status": "completed"
    },
    "tags": []
   },
   "outputs": [],
   "source": [
    "def filter_sub_universe_data(sub_universe, org_test):\n",
    "    # Keep all rows — no filtering\n",
    "    keep_rows_mask = np.ones(org_test.shape[0], dtype=bool)\n",
    "\n",
    "    print(f\"[INFO] Keeping all rows: {keep_rows_mask.sum()} rows retained.\")\n",
    "    return keep_rows_mask"
   ]
  },
  {
   "cell_type": "code",
   "execution_count": 72,
   "id": "4a759155",
   "metadata": {
    "execution": {
     "iopub.execute_input": "2025-07-28T11:05:07.489813Z",
     "iopub.status.busy": "2025-07-28T11:05:07.489084Z",
     "iopub.status.idle": "2025-07-28T11:05:21.004567Z",
     "shell.execute_reply": "2025-07-28T11:05:20.988123Z"
    },
    "papermill": {
     "duration": 13.549303,
     "end_time": "2025-07-28T11:05:21.006525",
     "exception": false,
     "start_time": "2025-07-28T11:05:07.457222",
     "status": "completed"
    },
    "tags": []
   },
   "outputs": [
    {
     "name": "stdout",
     "output_type": "stream",
     "text": [
      "Stopping execution_time clock.\n",
      "[INFO] Keeping all rows: 89710 rows retained.\n"
     ]
    },
    {
     "name": "stdout",
     "output_type": "stream",
     "text": [
      "[INFO] Keeping all rows: 89710 rows retained.\n"
     ]
    },
    {
     "name": "stdout",
     "output_type": "stream",
     "text": [
      "[INFO] Keeping all rows: 89710 rows retained.\n"
     ]
    },
    {
     "name": "stdout",
     "output_type": "stream",
     "text": [
      "[INFO] Keeping all rows: 89710 rows retained.\n"
     ]
    },
    {
     "data": {
      "text/html": [
       "<div>\n",
       "<style scoped>\n",
       "    .dataframe tbody tr th:only-of-type {\n",
       "        vertical-align: middle;\n",
       "    }\n",
       "\n",
       "    .dataframe tbody tr th {\n",
       "        vertical-align: top;\n",
       "    }\n",
       "\n",
       "    .dataframe thead th {\n",
       "        text-align: right;\n",
       "    }\n",
       "</style>\n",
       "<table border=\"1\" class=\"dataframe\">\n",
       "  <thead>\n",
       "    <tr style=\"text-align: right;\">\n",
       "      <th></th>\n",
       "      <th>run_no</th>\n",
       "      <th>universe_id</th>\n",
       "      <th>universe_settings</th>\n",
       "      <th>execution_time</th>\n",
       "      <th>test_size_n</th>\n",
       "      <th>test_size_frac</th>\n",
       "      <th>fair_main_equalized_odds_difference</th>\n",
       "      <th>fair_main_equalized_odds_ratio</th>\n",
       "      <th>fair_main_demographic_parity_difference</th>\n",
       "      <th>fair_main_demographic_parity_ratio</th>\n",
       "      <th>...</th>\n",
       "      <th>perf_grp_precision_0</th>\n",
       "      <th>perf_grp_precision_1</th>\n",
       "      <th>perf_grp_false positive rate_0</th>\n",
       "      <th>perf_grp_false positive rate_1</th>\n",
       "      <th>perf_grp_false negative rate_0</th>\n",
       "      <th>perf_grp_false negative rate_1</th>\n",
       "      <th>perf_grp_selection rate_0</th>\n",
       "      <th>perf_grp_selection rate_1</th>\n",
       "      <th>perf_grp_count_0</th>\n",
       "      <th>perf_grp_count_1</th>\n",
       "    </tr>\n",
       "  </thead>\n",
       "  <tbody>\n",
       "    <tr>\n",
       "      <th>0</th>\n",
       "      <td>11</td>\n",
       "      <td>05da307ef8f6be31460738322014c5c8</td>\n",
       "      <td>{\"cutoff\": \"quantile_0.1\", \"eval_fairness_grou...</td>\n",
       "      <td>32.85169</td>\n",
       "      <td>89710</td>\n",
       "      <td>1.0</td>\n",
       "      <td>0.098561</td>\n",
       "      <td>0.898067</td>\n",
       "      <td>0.089789</td>\n",
       "      <td>0.907361</td>\n",
       "      <td>...</td>\n",
       "      <td>NaN</td>\n",
       "      <td>NaN</td>\n",
       "      <td>NaN</td>\n",
       "      <td>NaN</td>\n",
       "      <td>NaN</td>\n",
       "      <td>NaN</td>\n",
       "      <td>NaN</td>\n",
       "      <td>NaN</td>\n",
       "      <td>NaN</td>\n",
       "      <td>NaN</td>\n",
       "    </tr>\n",
       "    <tr>\n",
       "      <th>0</th>\n",
       "      <td>11</td>\n",
       "      <td>05da307ef8f6be31460738322014c5c8</td>\n",
       "      <td>{\"cutoff\": \"quantile_0.1\", \"eval_fairness_grou...</td>\n",
       "      <td>32.85169</td>\n",
       "      <td>89710</td>\n",
       "      <td>1.0</td>\n",
       "      <td>0.098561</td>\n",
       "      <td>0.898067</td>\n",
       "      <td>0.089789</td>\n",
       "      <td>0.907361</td>\n",
       "      <td>...</td>\n",
       "      <td>0.117390</td>\n",
       "      <td>0.143069</td>\n",
       "      <td>0.966927</td>\n",
       "      <td>0.868366</td>\n",
       "      <td>0.013091</td>\n",
       "      <td>0.047812</td>\n",
       "      <td>0.969231</td>\n",
       "      <td>0.879442</td>\n",
       "      <td>20540.0</td>\n",
       "      <td>69170.0</td>\n",
       "    </tr>\n",
       "    <tr>\n",
       "      <th>0</th>\n",
       "      <td>11</td>\n",
       "      <td>05da307ef8f6be31460738322014c5c8</td>\n",
       "      <td>{\"cutoff\": \"quantile_0.25\", \"eval_fairness_gro...</td>\n",
       "      <td>32.85169</td>\n",
       "      <td>89710</td>\n",
       "      <td>1.0</td>\n",
       "      <td>0.223418</td>\n",
       "      <td>0.752216</td>\n",
       "      <td>0.204652</td>\n",
       "      <td>0.774560</td>\n",
       "      <td>...</td>\n",
       "      <td>NaN</td>\n",
       "      <td>NaN</td>\n",
       "      <td>NaN</td>\n",
       "      <td>NaN</td>\n",
       "      <td>NaN</td>\n",
       "      <td>NaN</td>\n",
       "      <td>NaN</td>\n",
       "      <td>NaN</td>\n",
       "      <td>NaN</td>\n",
       "      <td>NaN</td>\n",
       "    </tr>\n",
       "    <tr>\n",
       "      <th>0</th>\n",
       "      <td>11</td>\n",
       "      <td>05da307ef8f6be31460738322014c5c8</td>\n",
       "      <td>{\"cutoff\": \"quantile_0.25\", \"eval_fairness_gro...</td>\n",
       "      <td>32.85169</td>\n",
       "      <td>89710</td>\n",
       "      <td>1.0</td>\n",
       "      <td>0.223418</td>\n",
       "      <td>0.752216</td>\n",
       "      <td>0.204652</td>\n",
       "      <td>0.774560</td>\n",
       "      <td>...</td>\n",
       "      <td>0.121259</td>\n",
       "      <td>0.162863</td>\n",
       "      <td>0.901662</td>\n",
       "      <td>0.678244</td>\n",
       "      <td>0.045186</td>\n",
       "      <td>0.133370</td>\n",
       "      <td>0.907790</td>\n",
       "      <td>0.703137</td>\n",
       "      <td>20540.0</td>\n",
       "      <td>69170.0</td>\n",
       "    </tr>\n",
       "  </tbody>\n",
       "</table>\n",
       "<p>4 rows × 50 columns</p>\n",
       "</div>"
      ],
      "text/plain": [
       "  run_no                       universe_id  \\\n",
       "0     11  05da307ef8f6be31460738322014c5c8   \n",
       "0     11  05da307ef8f6be31460738322014c5c8   \n",
       "0     11  05da307ef8f6be31460738322014c5c8   \n",
       "0     11  05da307ef8f6be31460738322014c5c8   \n",
       "\n",
       "                                   universe_settings  execution_time  \\\n",
       "0  {\"cutoff\": \"quantile_0.1\", \"eval_fairness_grou...        32.85169   \n",
       "0  {\"cutoff\": \"quantile_0.1\", \"eval_fairness_grou...        32.85169   \n",
       "0  {\"cutoff\": \"quantile_0.25\", \"eval_fairness_gro...        32.85169   \n",
       "0  {\"cutoff\": \"quantile_0.25\", \"eval_fairness_gro...        32.85169   \n",
       "\n",
       "   test_size_n  test_size_frac  fair_main_equalized_odds_difference  \\\n",
       "0        89710             1.0                             0.098561   \n",
       "0        89710             1.0                             0.098561   \n",
       "0        89710             1.0                             0.223418   \n",
       "0        89710             1.0                             0.223418   \n",
       "\n",
       "   fair_main_equalized_odds_ratio  fair_main_demographic_parity_difference  \\\n",
       "0                        0.898067                                 0.089789   \n",
       "0                        0.898067                                 0.089789   \n",
       "0                        0.752216                                 0.204652   \n",
       "0                        0.752216                                 0.204652   \n",
       "\n",
       "   fair_main_demographic_parity_ratio  ...  perf_grp_precision_0  \\\n",
       "0                            0.907361  ...                   NaN   \n",
       "0                            0.907361  ...              0.117390   \n",
       "0                            0.774560  ...                   NaN   \n",
       "0                            0.774560  ...              0.121259   \n",
       "\n",
       "   perf_grp_precision_1  perf_grp_false positive rate_0  \\\n",
       "0                   NaN                             NaN   \n",
       "0              0.143069                        0.966927   \n",
       "0                   NaN                             NaN   \n",
       "0              0.162863                        0.901662   \n",
       "\n",
       "   perf_grp_false positive rate_1  perf_grp_false negative rate_0  \\\n",
       "0                             NaN                             NaN   \n",
       "0                        0.868366                        0.013091   \n",
       "0                             NaN                             NaN   \n",
       "0                        0.678244                        0.045186   \n",
       "\n",
       "   perf_grp_false negative rate_1  perf_grp_selection rate_0  \\\n",
       "0                             NaN                        NaN   \n",
       "0                        0.047812                   0.969231   \n",
       "0                             NaN                        NaN   \n",
       "0                        0.133370                   0.907790   \n",
       "\n",
       "   perf_grp_selection rate_1  perf_grp_count_0  perf_grp_count_1  \n",
       "0                        NaN               NaN               NaN  \n",
       "0                   0.879442           20540.0           69170.0  \n",
       "0                        NaN               NaN               NaN  \n",
       "0                   0.703137           20540.0           69170.0  \n",
       "\n",
       "[4 rows x 50 columns]"
      ]
     },
     "execution_count": 72,
     "metadata": {},
     "output_type": "execute_result"
    }
   ],
   "source": [
    "final_output = universe_analysis.generate_final_output(\n",
    "    y_pred_prob=probs_test,\n",
    "    y_test=y_true,\n",
    "    org_test=org_test,\n",
    "    filter_data=filter_sub_universe_data,\n",
    "    cp_metrics_df=cp_metrics_df,\n",
    "    save=True,\n",
    ")\n",
    "final_output"
   ]
  },
  {
   "cell_type": "code",
   "execution_count": null,
   "id": "721ff514-cb11-46f8-b6fc-50392f74b5cb",
   "metadata": {
    "papermill": {
     "duration": 0.072331,
     "end_time": "2025-07-28T11:05:21.142445",
     "exception": false,
     "start_time": "2025-07-28T11:05:21.070114",
     "status": "completed"
    },
    "tags": []
   },
   "outputs": [],
   "source": []
  }
 ],
 "metadata": {
  "celltoolbar": "Tags",
  "kernelspec": {
   "display_name": "Python (CMA Fairness)",
   "language": "python",
   "name": "cma_fair_env"
  },
  "language_info": {
   "codemirror_mode": {
    "name": "ipython",
    "version": 3
   },
   "file_extension": ".py",
   "mimetype": "text/x-python",
   "name": "python",
   "nbconvert_exporter": "python",
   "pygments_lexer": "ipython3",
   "version": "3.10.12"
  },
  "papermill": {
   "default_parameters": {},
   "duration": 52.077122,
   "end_time": "2025-07-28T11:05:23.035064",
   "environment_variables": {},
   "exception": null,
   "input_path": "universe_analysis.ipynb",
   "output_path": "output/runs/11/notebooks/m_11-05da307ef8f6be31460738322014c5c8.ipynb",
   "parameters": {
    "output_dir": "output",
    "run_no": "11",
    "seed": "2023",
    "universe": "{\"cutoff\": [\"quantile_0.1\", \"quantile_0.25\"], \"eval_fairness_grouping\": [\"majority-minority\", \"nationality-all\"], \"exclude_features\": \"sex\", \"exclude_subgroups\": \"drop-non-german\", \"model\": \"penalized_logreg\", \"scale\": \"do-not-scale\", \"training_size\": \"2014\"}",
    "universe_id": "05da307ef8f6be31460738322014c5c8"
   },
   "start_time": "2025-07-28T11:04:30.957942",
   "version": "2.6.0"
  }
 },
 "nbformat": 4,
 "nbformat_minor": 5
}