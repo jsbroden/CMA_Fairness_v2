{
 "cells": [
  {
   "cell_type": "code",
   "execution_count": 1,
   "id": "f159f837-637b-42ba-96b5-ec9a68c44524",
   "metadata": {
    "execution": {
     "iopub.execute_input": "2025-07-28T10:33:20.856774Z",
     "iopub.status.busy": "2025-07-28T10:33:20.855933Z",
     "iopub.status.idle": "2025-07-28T10:33:20.869974Z",
     "shell.execute_reply": "2025-07-28T10:33:20.869009Z"
    },
    "papermill": {
     "duration": 0.044895,
     "end_time": "2025-07-28T10:33:20.872373",
     "exception": false,
     "start_time": "2025-07-28T10:33:20.827478",
     "status": "completed"
    },
    "tags": []
   },
   "outputs": [
    {
     "name": "stdout",
     "output_type": "stream",
     "text": [
      "/dss/dsshome1/0C/ra93lal2/cma/CMA_Fairness_v2\n"
     ]
    },
    {
     "name": "stderr",
     "output_type": "stream",
     "text": [
      "/dss/dsshome1/0C/ra93lal2/.local/share/virtualenvs/CMA_Fairness_v2-3j10GkSs/lib/python3.10/site-packages/IPython/core/magics/osm.py:393: UserWarning: This is now an optional IPython functionality, using bookmarks requires you to install the `pickleshare` library.\n",
      "  bkms = self.shell.db.get('bookmarks', {})\n",
      "/dss/dsshome1/0C/ra93lal2/.local/share/virtualenvs/CMA_Fairness_v2-3j10GkSs/lib/python3.10/site-packages/IPython/core/magics/osm.py:417: UserWarning: This is now an optional IPython functionality, setting dhist requires you to install the `pickleshare` library.\n",
      "  self.shell.db['dhist'] = compress_dhist(dhist)[-100:]\n"
     ]
    }
   ],
   "source": [
    "%cd ~/cma/CMA_Fairness_v2"
   ]
  },
  {
   "cell_type": "markdown",
   "id": "de2603b9",
   "metadata": {
    "papermill": {
     "duration": 0.040846,
     "end_time": "2025-07-28T10:33:20.938001",
     "exception": false,
     "start_time": "2025-07-28T10:33:20.897155",
     "status": "completed"
    },
    "tags": []
   },
   "source": [
    "The following cell holds the definition of our parameters, these values can be overriden by rendering the with e.g. the following command:\n",
    "\n",
    "papermill -p alpha 0.2 -p ratio 0.3 universe_analysis.ipynb output/test_run.ipynb"
   ]
  },
  {
   "cell_type": "code",
   "execution_count": 2,
   "id": "a80968a0-40bb-4fa9-85ef-2d5eefb01975",
   "metadata": {
    "execution": {
     "iopub.execute_input": "2025-07-28T10:33:20.975951Z",
     "iopub.status.busy": "2025-07-28T10:33:20.975497Z",
     "iopub.status.idle": "2025-07-28T10:33:20.981182Z",
     "shell.execute_reply": "2025-07-28T10:33:20.980137Z"
    },
    "papermill": {
     "duration": 0.027095,
     "end_time": "2025-07-28T10:33:20.983272",
     "exception": false,
     "start_time": "2025-07-28T10:33:20.956177",
     "status": "completed"
    },
    "tags": []
   },
   "outputs": [
    {
     "name": "stdout",
     "output_type": "stream",
     "text": [
      "Current working directory: /dss/dsshome1/0C/ra93lal2/cma/CMA_Fairness_v2\n"
     ]
    }
   ],
   "source": [
    "import os\n",
    "print(\"Current working directory:\", os.getcwd())"
   ]
  },
  {
   "cell_type": "code",
   "execution_count": 3,
   "id": "2dce4c03",
   "metadata": {
    "execution": {
     "iopub.execute_input": "2025-07-28T10:33:21.023438Z",
     "iopub.status.busy": "2025-07-28T10:33:21.022419Z",
     "iopub.status.idle": "2025-07-28T10:33:21.030501Z",
     "shell.execute_reply": "2025-07-28T10:33:21.029483Z"
    },
    "papermill": {
     "duration": 0.029434,
     "end_time": "2025-07-28T10:33:21.032264",
     "exception": false,
     "start_time": "2025-07-28T10:33:21.002830",
     "status": "completed"
    },
    "tags": [
     "parameters"
    ]
   },
   "outputs": [],
   "source": [
    "run_no = 0\n",
    "universe_id = \"test\"\n",
    "universe = {\n",
    "    \"training_size\": \"2014\", # \"25k\", \"5k\", \"1k\", \"2014\"\n",
    "    \"scale\": \"scale\", # \"scale\", \"do-not-scale\",\n",
    "    #\"stratify_split\": \"target\", # \"none\", \"target\", \"protected-attribute\", \"both\",\n",
    "    \"model\": \"elasticnet\", # \"logreg\", \"penalized_logreg\", \"rf\", \"gbm\", \"elasticnet\"\n",
    "    \"cutoff\": [\"quantile_0.15\", \"quantile_0.30\"],\n",
    "    \"exclude_features\": \"age\", # \"none\", \"nationality\", \"sex\", \"nationality-sex\", \"age\"\n",
    "    \"exclude_subgroups\": \"keep-all\", # \"keep-all\", \"drop-non-german\"\n",
    "    #\"training_sample\": \"restricted\", # \"restricted\", \"full\"\n",
    "    \"eval_fairness_grouping\": [\"majority-minority\", \"nationality-all\"]\n",
    "}\n",
    "\n",
    "output_dir=\"./output\"\n",
    "seed=0"
   ]
  },
  {
   "cell_type": "code",
   "execution_count": 4,
   "id": "72097c7c",
   "metadata": {
    "execution": {
     "iopub.execute_input": "2025-07-28T10:33:21.071948Z",
     "iopub.status.busy": "2025-07-28T10:33:21.071340Z",
     "iopub.status.idle": "2025-07-28T10:33:21.076944Z",
     "shell.execute_reply": "2025-07-28T10:33:21.075982Z"
    },
    "papermill": {
     "duration": 0.027573,
     "end_time": "2025-07-28T10:33:21.078621",
     "exception": false,
     "start_time": "2025-07-28T10:33:21.051048",
     "status": "completed"
    },
    "tags": [
     "injected-parameters"
    ]
   },
   "outputs": [],
   "source": [
    "# Parameters\n",
    "universe_id = \"028e96abac7c651eb94bb8354869bcf6\"\n",
    "run_no = \"11\"\n",
    "universe = \"{\\\"cutoff\\\": [\\\"quantile_0.1\\\", \\\"quantile_0.25\\\"], \\\"eval_fairness_grouping\\\": [\\\"majority-minority\\\", \\\"nationality-all\\\"], \\\"exclude_features\\\": \\\"sex\\\", \\\"exclude_subgroups\\\": \\\"keep-all\\\", \\\"model\\\": \\\"elasticnet\\\", \\\"scale\\\": \\\"scale\\\", \\\"training_size\\\": \\\"5k\\\"}\"\n",
    "output_dir = \"output\"\n",
    "seed = \"2023\"\n"
   ]
  },
  {
   "cell_type": "code",
   "execution_count": 5,
   "id": "1650acaf",
   "metadata": {
    "execution": {
     "iopub.execute_input": "2025-07-28T10:33:21.117953Z",
     "iopub.status.busy": "2025-07-28T10:33:21.117046Z",
     "iopub.status.idle": "2025-07-28T10:33:21.122340Z",
     "shell.execute_reply": "2025-07-28T10:33:21.121141Z"
    },
    "papermill": {
     "duration": 0.027061,
     "end_time": "2025-07-28T10:33:21.124280",
     "exception": false,
     "start_time": "2025-07-28T10:33:21.097219",
     "status": "completed"
    },
    "tags": []
   },
   "outputs": [],
   "source": [
    "import json\n",
    "# Parse universe into dict if it is passed as a string\n",
    "if isinstance(universe, str):\n",
    "    universe = json.loads(universe)"
   ]
  },
  {
   "cell_type": "code",
   "execution_count": 6,
   "id": "16620c48",
   "metadata": {
    "execution": {
     "iopub.execute_input": "2025-07-28T10:33:21.162936Z",
     "iopub.status.busy": "2025-07-28T10:33:21.162241Z",
     "iopub.status.idle": "2025-07-28T10:33:21.210437Z",
     "shell.execute_reply": "2025-07-28T10:33:21.209509Z"
    },
    "papermill": {
     "duration": 0.069684,
     "end_time": "2025-07-28T10:33:21.212429",
     "exception": false,
     "start_time": "2025-07-28T10:33:21.142745",
     "status": "completed"
    },
    "tags": []
   },
   "outputs": [],
   "source": [
    "# Auto-reload the custom package\n",
    "%load_ext autoreload\n",
    "%autoreload 1\n",
    "%aimport fairness_multiverse"
   ]
  },
  {
   "cell_type": "code",
   "execution_count": 7,
   "id": "01c5c9f3",
   "metadata": {
    "execution": {
     "iopub.execute_input": "2025-07-28T10:33:21.251238Z",
     "iopub.status.busy": "2025-07-28T10:33:21.250305Z",
     "iopub.status.idle": "2025-07-28T10:33:23.442816Z",
     "shell.execute_reply": "2025-07-28T10:33:23.441631Z"
    },
    "papermill": {
     "duration": 2.213973,
     "end_time": "2025-07-28T10:33:23.445059",
     "exception": false,
     "start_time": "2025-07-28T10:33:21.231086",
     "status": "completed"
    },
    "tags": []
   },
   "outputs": [],
   "source": [
    "from fairness_multiverse.universe import UniverseAnalysis\n",
    "\n",
    "universe_analysis = UniverseAnalysis(\n",
    "    run_no = run_no,\n",
    "    universe_id = universe_id,\n",
    "    universe = universe,\n",
    "    output_dir=output_dir,\n",
    ")"
   ]
  },
  {
   "cell_type": "code",
   "execution_count": 8,
   "id": "106241f5",
   "metadata": {
    "execution": {
     "iopub.execute_input": "2025-07-28T10:33:23.490033Z",
     "iopub.status.busy": "2025-07-28T10:33:23.489292Z",
     "iopub.status.idle": "2025-07-28T10:33:23.496643Z",
     "shell.execute_reply": "2025-07-28T10:33:23.495478Z"
    },
    "papermill": {
     "duration": 0.031082,
     "end_time": "2025-07-28T10:33:23.498626",
     "exception": false,
     "start_time": "2025-07-28T10:33:23.467544",
     "status": "completed"
    },
    "tags": []
   },
   "outputs": [
    {
     "name": "stdout",
     "output_type": "stream",
     "text": [
      "Using Seed: 2023\n"
     ]
    }
   ],
   "source": [
    "import numpy as np\n",
    "parsed_seed = int(seed)\n",
    "np.random.seed(parsed_seed)\n",
    "print(f\"Using Seed: {parsed_seed}\")"
   ]
  },
  {
   "cell_type": "markdown",
   "id": "e0ebdc57",
   "metadata": {
    "papermill": {
     "duration": 0.021049,
     "end_time": "2025-07-28T10:33:23.540631",
     "exception": false,
     "start_time": "2025-07-28T10:33:23.519582",
     "status": "completed"
    },
    "tags": []
   },
   "source": [
    "# Loading Data"
   ]
  },
  {
   "cell_type": "markdown",
   "id": "681925a3",
   "metadata": {
    "papermill": {
     "duration": 0.020112,
     "end_time": "2025-07-28T10:33:23.582094",
     "exception": false,
     "start_time": "2025-07-28T10:33:23.561982",
     "status": "completed"
    },
    "tags": []
   },
   "source": [
    "Load siab_train, siab_test, siab_calib and/or \n",
    "load siab_train_features, siab_train_labels"
   ]
  },
  {
   "cell_type": "code",
   "execution_count": 9,
   "id": "f0496b8a",
   "metadata": {
    "execution": {
     "iopub.execute_input": "2025-07-28T10:33:23.625215Z",
     "iopub.status.busy": "2025-07-28T10:33:23.624367Z",
     "iopub.status.idle": "2025-07-28T10:33:37.080556Z",
     "shell.execute_reply": "2025-07-28T10:33:37.079372Z"
    },
    "papermill": {
     "duration": 13.478591,
     "end_time": "2025-07-28T10:33:37.082004",
     "exception": false,
     "start_time": "2025-07-28T10:33:23.603413",
     "status": "completed"
    },
    "tags": []
   },
   "outputs": [
    {
     "name": "stdout",
     "output_type": "stream",
     "text": [
      "Loading SIAB data from cache: data/siab_cached.csv.gz\n"
     ]
    },
    {
     "name": "stdout",
     "output_type": "stream",
     "text": [
      "(643690, 164)\n"
     ]
    }
   ],
   "source": [
    "from pathlib import Path\n",
    "import pandas as pd\n",
    "\n",
    "# File paths\n",
    "raw_file = Path(\"data/raw/siab.csv\")\n",
    "cache_file = Path(\"data/siab_cached.csv.gz\")\n",
    "\n",
    "# Ensure cache directory exists\n",
    "cache_file.parent.mkdir(parents=True, exist_ok=True)\n",
    "\n",
    "# Load with simple caching\n",
    "if cache_file.exists():\n",
    "    print(f\"Loading SIAB data from cache: {cache_file}\")\n",
    "    siab = pd.read_csv(cache_file, compression='gzip')\n",
    "else:\n",
    "    print(f\"Cache not found. Reading raw SIAB data: {raw_file}\")\n",
    "    siab = pd.read_csv(raw_file)\n",
    "    siab.to_csv(cache_file, index=False, compression='gzip')\n",
    "    print(f\"Cached SIAB data to: {cache_file}\")\n",
    "\n",
    "# Now use `siab` DataFrame as needed\n",
    "print(siab.shape)"
   ]
  },
  {
   "cell_type": "code",
   "execution_count": 10,
   "id": "db0ca512-5f53-4dba-abdb-a2888bca41ba",
   "metadata": {
    "execution": {
     "iopub.execute_input": "2025-07-28T10:33:37.107380Z",
     "iopub.status.busy": "2025-07-28T10:33:37.106721Z",
     "iopub.status.idle": "2025-07-28T10:33:37.111828Z",
     "shell.execute_reply": "2025-07-28T10:33:37.110951Z"
    },
    "papermill": {
     "duration": 0.018334,
     "end_time": "2025-07-28T10:33:37.113719",
     "exception": false,
     "start_time": "2025-07-28T10:33:37.095385",
     "status": "completed"
    },
    "tags": []
   },
   "outputs": [],
   "source": [
    "#siab"
   ]
  },
  {
   "cell_type": "code",
   "execution_count": 11,
   "id": "a0edb063",
   "metadata": {
    "execution": {
     "iopub.execute_input": "2025-07-28T10:33:37.164254Z",
     "iopub.status.busy": "2025-07-28T10:33:37.163454Z",
     "iopub.status.idle": "2025-07-28T10:33:37.168837Z",
     "shell.execute_reply": "2025-07-28T10:33:37.167894Z"
    },
    "papermill": {
     "duration": 0.037827,
     "end_time": "2025-07-28T10:33:37.170861",
     "exception": false,
     "start_time": "2025-07-28T10:33:37.133034",
     "status": "completed"
    },
    "tags": []
   },
   "outputs": [],
   "source": [
    "#import pandas as pd\n",
    "#\n",
    "#X_train = pd.read_csv(\"./data/X_train.csv\")\n",
    "#y_train = pd.read_csv(\"./data/y_train.csv\")"
   ]
  },
  {
   "cell_type": "code",
   "execution_count": 12,
   "id": "63d08085",
   "metadata": {
    "execution": {
     "iopub.execute_input": "2025-07-28T10:33:37.230266Z",
     "iopub.status.busy": "2025-07-28T10:33:37.229888Z",
     "iopub.status.idle": "2025-07-28T10:33:37.235512Z",
     "shell.execute_reply": "2025-07-28T10:33:37.234313Z"
    },
    "papermill": {
     "duration": 0.037926,
     "end_time": "2025-07-28T10:33:37.237684",
     "exception": false,
     "start_time": "2025-07-28T10:33:37.199758",
     "status": "completed"
    },
    "tags": []
   },
   "outputs": [],
   "source": [
    "#X_test = pd.read_csv(\"./data/X_test.csv\")\n",
    "#y_true = pd.read_csv(\"./data/y_test.csv\")"
   ]
  },
  {
   "cell_type": "code",
   "execution_count": 13,
   "id": "98a8d0fa-1d3d-4ed8-bb2c-281470e24add",
   "metadata": {
    "execution": {
     "iopub.execute_input": "2025-07-28T10:33:37.295506Z",
     "iopub.status.busy": "2025-07-28T10:33:37.294787Z",
     "iopub.status.idle": "2025-07-28T10:33:37.300770Z",
     "shell.execute_reply": "2025-07-28T10:33:37.299617Z"
    },
    "papermill": {
     "duration": 0.033762,
     "end_time": "2025-07-28T10:33:37.302896",
     "exception": false,
     "start_time": "2025-07-28T10:33:37.269134",
     "status": "completed"
    },
    "tags": []
   },
   "outputs": [],
   "source": [
    "# Calibration data for conformal\n",
    "#X_calib = pd.read_csv(\"./data/X_calib.csv\")\n",
    "#y_calib = pd.read_csv(\"./data/y_calib.csv\")"
   ]
  },
  {
   "cell_type": "markdown",
   "id": "9901737e-04df-44f0-9100-f5ad144ed040",
   "metadata": {
    "papermill": {
     "duration": 0.013942,
     "end_time": "2025-07-28T10:33:37.342739",
     "exception": false,
     "start_time": "2025-07-28T10:33:37.328797",
     "status": "completed"
    },
    "tags": []
   },
   "source": [
    "# Splitting Data and Setting Training Data Size"
   ]
  },
  {
   "cell_type": "code",
   "execution_count": 14,
   "id": "acbc8f7d-8fc8-4e86-8c59-5dcb0f58384b",
   "metadata": {
    "execution": {
     "iopub.execute_input": "2025-07-28T10:33:37.365170Z",
     "iopub.status.busy": "2025-07-28T10:33:37.364767Z",
     "iopub.status.idle": "2025-07-28T10:33:37.372707Z",
     "shell.execute_reply": "2025-07-28T10:33:37.371969Z"
    },
    "papermill": {
     "duration": 0.020892,
     "end_time": "2025-07-28T10:33:37.374125",
     "exception": false,
     "start_time": "2025-07-28T10:33:37.353233",
     "status": "completed"
    },
    "tags": []
   },
   "outputs": [],
   "source": [
    "def sample_by_year(df, training_size, random_state=42):\n",
    "    if training_size == \"2014\":\n",
    "        return df[df[\"year\"] == 2014].reset_index(drop=True)\n",
    "    \n",
    "    size_map = {\n",
    "        \"25k\": 5000,\n",
    "        \"5k\": 1000,\n",
    "        \"1k\": 200\n",
    "    }\n",
    "\n",
    "    if training_size not in size_map:\n",
    "        return df.reset_index(drop=True)  # use all data\n",
    "\n",
    "    n_per_year = size_map[training_size]\n",
    "    grouped = df.groupby(\"year\")\n",
    "    sampled = grouped.apply(lambda x: x.sample(n=min(n_per_year, len(x)), random_state=random_state))\n",
    "    return sampled.reset_index(drop=True)"
   ]
  },
  {
   "cell_type": "code",
   "execution_count": 15,
   "id": "6d931f52-beaf-43ff-9e78-9d44a448d54e",
   "metadata": {
    "execution": {
     "iopub.execute_input": "2025-07-28T10:33:37.413096Z",
     "iopub.status.busy": "2025-07-28T10:33:37.412275Z",
     "iopub.status.idle": "2025-07-28T10:33:38.372386Z",
     "shell.execute_reply": "2025-07-28T10:33:38.370153Z"
    },
    "papermill": {
     "duration": 1.000242,
     "end_time": "2025-07-28T10:33:38.385261",
     "exception": false,
     "start_time": "2025-07-28T10:33:37.385019",
     "status": "completed"
    },
    "tags": []
   },
   "outputs": [],
   "source": [
    "siab_s = sample_by_year(siab, universe[\"training_size\"])"
   ]
  },
  {
   "cell_type": "code",
   "execution_count": 16,
   "id": "5db0a40e-a4e2-4920-be85-b12ae061d70d",
   "metadata": {
    "execution": {
     "iopub.execute_input": "2025-07-28T10:33:38.408890Z",
     "iopub.status.busy": "2025-07-28T10:33:38.408506Z",
     "iopub.status.idle": "2025-07-28T10:33:38.420399Z",
     "shell.execute_reply": "2025-07-28T10:33:38.419227Z"
    },
    "papermill": {
     "duration": 0.02635,
     "end_time": "2025-07-28T10:33:38.422784",
     "exception": false,
     "start_time": "2025-07-28T10:33:38.396434",
     "status": "completed"
    },
    "tags": []
   },
   "outputs": [
    {
     "data": {
      "text/plain": [
       "year\n",
       "2010    1000\n",
       "2011    1000\n",
       "2012    1000\n",
       "2013    1000\n",
       "2014    1000\n",
       "2015    1000\n",
       "2016    1000\n",
       "dtype: int64"
      ]
     },
     "metadata": {},
     "output_type": "display_data"
    }
   ],
   "source": [
    "display(siab_s.groupby(\"year\").size())"
   ]
  },
  {
   "cell_type": "code",
   "execution_count": 17,
   "id": "a561edb4-d032-42cb-8256-22eac1111c64",
   "metadata": {
    "execution": {
     "iopub.execute_input": "2025-07-28T10:33:38.472532Z",
     "iopub.status.busy": "2025-07-28T10:33:38.471790Z",
     "iopub.status.idle": "2025-07-28T10:33:38.728708Z",
     "shell.execute_reply": "2025-07-28T10:33:38.727541Z"
    },
    "papermill": {
     "duration": 0.283092,
     "end_time": "2025-07-28T10:33:38.730577",
     "exception": false,
     "start_time": "2025-07-28T10:33:38.447485",
     "status": "completed"
    },
    "tags": []
   },
   "outputs": [],
   "source": [
    "siab_train = siab_s[siab_s.year < 2015]\n",
    "siab_calib = siab[siab.year == 2015]\n",
    "siab_test = siab[siab.year == 2016]"
   ]
  },
  {
   "cell_type": "code",
   "execution_count": 18,
   "id": "472de16f-c3db-4916-846b-1f0de9cf1746",
   "metadata": {
    "execution": {
     "iopub.execute_input": "2025-07-28T10:33:38.789982Z",
     "iopub.status.busy": "2025-07-28T10:33:38.789150Z",
     "iopub.status.idle": "2025-07-28T10:33:38.798352Z",
     "shell.execute_reply": "2025-07-28T10:33:38.797240Z"
    },
    "papermill": {
     "duration": 0.04299,
     "end_time": "2025-07-28T10:33:38.801159",
     "exception": false,
     "start_time": "2025-07-28T10:33:38.758169",
     "status": "completed"
    },
    "tags": []
   },
   "outputs": [],
   "source": [
    "X_train = siab_train.iloc[:,4:164]\n",
    "y_train = siab_train.iloc[:, [3]]"
   ]
  },
  {
   "cell_type": "code",
   "execution_count": 19,
   "id": "828c96af-f43a-4ed6-ba47-8ac73a47d56c",
   "metadata": {
    "execution": {
     "iopub.execute_input": "2025-07-28T10:33:38.861897Z",
     "iopub.status.busy": "2025-07-28T10:33:38.861134Z",
     "iopub.status.idle": "2025-07-28T10:33:38.894902Z",
     "shell.execute_reply": "2025-07-28T10:33:38.893599Z"
    },
    "papermill": {
     "duration": 0.062987,
     "end_time": "2025-07-28T10:33:38.896739",
     "exception": false,
     "start_time": "2025-07-28T10:33:38.833752",
     "status": "completed"
    },
    "tags": []
   },
   "outputs": [],
   "source": [
    "X_calib = siab_calib.iloc[:,4:164]\n",
    "y_calib = siab_calib.iloc[:, [3]]"
   ]
  },
  {
   "cell_type": "code",
   "execution_count": 20,
   "id": "c34be9c3-6bd6-476e-acd3-845840e303be",
   "metadata": {
    "execution": {
     "iopub.execute_input": "2025-07-28T10:33:38.938241Z",
     "iopub.status.busy": "2025-07-28T10:33:38.937426Z",
     "iopub.status.idle": "2025-07-28T10:33:38.994108Z",
     "shell.execute_reply": "2025-07-28T10:33:38.992889Z"
    },
    "papermill": {
     "duration": 0.079404,
     "end_time": "2025-07-28T10:33:38.996446",
     "exception": false,
     "start_time": "2025-07-28T10:33:38.917042",
     "status": "completed"
    },
    "tags": []
   },
   "outputs": [],
   "source": [
    "X_test = siab_test.iloc[:,4:164]\n",
    "y_true = siab_test.iloc[:, [3]]"
   ]
  },
  {
   "cell_type": "code",
   "execution_count": 21,
   "id": "e6c733c5",
   "metadata": {
    "execution": {
     "iopub.execute_input": "2025-07-28T10:33:39.043652Z",
     "iopub.status.busy": "2025-07-28T10:33:39.042893Z",
     "iopub.status.idle": "2025-07-28T10:33:39.141008Z",
     "shell.execute_reply": "2025-07-28T10:33:39.139883Z"
    },
    "papermill": {
     "duration": 0.123427,
     "end_time": "2025-07-28T10:33:39.143290",
     "exception": false,
     "start_time": "2025-07-28T10:33:39.019863",
     "status": "completed"
    },
    "tags": []
   },
   "outputs": [],
   "source": [
    "# Auxiliary data needed downstream in the pipeline\n",
    "\n",
    "org_train = X_train.copy()\n",
    "org_test = X_test.copy()\n",
    "org_calib = X_calib.copy()"
   ]
  },
  {
   "cell_type": "markdown",
   "id": "0a4a1b33",
   "metadata": {
    "papermill": {
     "duration": 0.022586,
     "end_time": "2025-07-28T10:33:39.189772",
     "exception": false,
     "start_time": "2025-07-28T10:33:39.167186",
     "status": "completed"
    },
    "tags": []
   },
   "source": [
    "# Preprocessing Data"
   ]
  },
  {
   "cell_type": "code",
   "execution_count": 22,
   "id": "ca879031",
   "metadata": {
    "execution": {
     "iopub.execute_input": "2025-07-28T10:33:39.237228Z",
     "iopub.status.busy": "2025-07-28T10:33:39.236704Z",
     "iopub.status.idle": "2025-07-28T10:33:39.243206Z",
     "shell.execute_reply": "2025-07-28T10:33:39.242142Z"
    },
    "papermill": {
     "duration": 0.032512,
     "end_time": "2025-07-28T10:33:39.245193",
     "exception": false,
     "start_time": "2025-07-28T10:33:39.212681",
     "status": "completed"
    },
    "tags": []
   },
   "outputs": [],
   "source": [
    "# EXCLUDE PROTECTED FEATURES\n",
    "# ----------------------\n",
    "# \"exclude_features\": \"none\", # \"nationality\", \"sex\", \"nationality-sex\"\n",
    "\n",
    "excluded_features = universe[\"exclude_features\"].split(\"-\") # split, e.g.: \"nationality-sex\" -> [\"nationality\", \"sex\"]\n",
    "excluded_features_dictionary = {\n",
    "    \"nationality\": [\"maxdeutsch1\", \"maxdeutsch.Missing.\"],\n",
    "    \"sex\": [\"frau1\"],\n",
    "    \"age\": [\"age\"],\n",
    "}\n"
   ]
  },
  {
   "cell_type": "code",
   "execution_count": 23,
   "id": "b745ac60",
   "metadata": {
    "execution": {
     "iopub.execute_input": "2025-07-28T10:33:39.287224Z",
     "iopub.status.busy": "2025-07-28T10:33:39.286445Z",
     "iopub.status.idle": "2025-07-28T10:33:39.292743Z",
     "shell.execute_reply": "2025-07-28T10:33:39.291689Z"
    },
    "papermill": {
     "duration": 0.028221,
     "end_time": "2025-07-28T10:33:39.294305",
     "exception": false,
     "start_time": "2025-07-28T10:33:39.266084",
     "status": "completed"
    },
    "tags": []
   },
   "outputs": [],
   "source": [
    "# Code nice names to column names\n",
    "\n",
    "excluded_features_columns = [\n",
    "    excluded_features_dictionary[f] for f in excluded_features if len(f) > 0 and f != \"none\"\n",
    "]"
   ]
  },
  {
   "cell_type": "code",
   "execution_count": 24,
   "id": "f84f73a2",
   "metadata": {
    "execution": {
     "iopub.execute_input": "2025-07-28T10:33:39.335168Z",
     "iopub.status.busy": "2025-07-28T10:33:39.334452Z",
     "iopub.status.idle": "2025-07-28T10:33:39.340347Z",
     "shell.execute_reply": "2025-07-28T10:33:39.339487Z"
    },
    "papermill": {
     "duration": 0.027679,
     "end_time": "2025-07-28T10:33:39.341978",
     "exception": false,
     "start_time": "2025-07-28T10:33:39.314299",
     "status": "completed"
    },
    "tags": []
   },
   "outputs": [],
   "source": [
    "from utils import flatten_once\n",
    "\n",
    "excluded_features_columns = flatten_once(excluded_features_columns)"
   ]
  },
  {
   "cell_type": "code",
   "execution_count": 25,
   "id": "884dea22",
   "metadata": {
    "execution": {
     "iopub.execute_input": "2025-07-28T10:33:39.382524Z",
     "iopub.status.busy": "2025-07-28T10:33:39.381764Z",
     "iopub.status.idle": "2025-07-28T10:33:39.390679Z",
     "shell.execute_reply": "2025-07-28T10:33:39.389649Z"
    },
    "papermill": {
     "duration": 0.030814,
     "end_time": "2025-07-28T10:33:39.392426",
     "exception": false,
     "start_time": "2025-07-28T10:33:39.361612",
     "status": "completed"
    },
    "tags": []
   },
   "outputs": [
    {
     "name": "stdout",
     "output_type": "stream",
     "text": [
      "Dropping features: ['frau1']\n"
     ]
    }
   ],
   "source": [
    "if len(excluded_features_columns) > 0:\n",
    "    print(f\"Dropping features: {excluded_features_columns}\")\n",
    "    X_train.drop(excluded_features_columns, axis=1, inplace=True)"
   ]
  },
  {
   "cell_type": "code",
   "execution_count": 26,
   "id": "95ab8b16",
   "metadata": {
    "execution": {
     "iopub.execute_input": "2025-07-28T10:33:39.433709Z",
     "iopub.status.busy": "2025-07-28T10:33:39.432950Z",
     "iopub.status.idle": "2025-07-28T10:33:39.488570Z",
     "shell.execute_reply": "2025-07-28T10:33:39.487518Z"
    },
    "papermill": {
     "duration": 0.077954,
     "end_time": "2025-07-28T10:33:39.490525",
     "exception": false,
     "start_time": "2025-07-28T10:33:39.412571",
     "status": "completed"
    },
    "tags": []
   },
   "outputs": [
    {
     "name": "stdout",
     "output_type": "stream",
     "text": [
      "Dropping features: ['frau1']\n"
     ]
    }
   ],
   "source": [
    "if len(excluded_features_columns) > 0:\n",
    "    print(f\"Dropping features: {excluded_features_columns}\")\n",
    "    X_test.drop(excluded_features_columns, axis=1, inplace=True)"
   ]
  },
  {
   "cell_type": "code",
   "execution_count": 27,
   "id": "1853aaf5-fb9f-46cb-a2b5-8ea4ae2237e4",
   "metadata": {
    "execution": {
     "iopub.execute_input": "2025-07-28T10:33:39.531932Z",
     "iopub.status.busy": "2025-07-28T10:33:39.531472Z",
     "iopub.status.idle": "2025-07-28T10:33:39.585409Z",
     "shell.execute_reply": "2025-07-28T10:33:39.584348Z"
    },
    "papermill": {
     "duration": 0.076355,
     "end_time": "2025-07-28T10:33:39.587305",
     "exception": false,
     "start_time": "2025-07-28T10:33:39.510950",
     "status": "completed"
    },
    "tags": []
   },
   "outputs": [
    {
     "name": "stdout",
     "output_type": "stream",
     "text": [
      "Dropping features: ['frau1']\n"
     ]
    }
   ],
   "source": [
    "if len(excluded_features_columns) > 0:\n",
    "    print(f\"Dropping features: {excluded_features_columns}\")\n",
    "    X_calib.drop(excluded_features_columns, axis=1, inplace=True)"
   ]
  },
  {
   "cell_type": "code",
   "execution_count": 28,
   "id": "6727d079-03e5-481e-9d38-292a90b7a0a8",
   "metadata": {
    "execution": {
     "iopub.execute_input": "2025-07-28T10:33:39.629382Z",
     "iopub.status.busy": "2025-07-28T10:33:39.628720Z",
     "iopub.status.idle": "2025-07-28T10:33:39.633718Z",
     "shell.execute_reply": "2025-07-28T10:33:39.632748Z"
    },
    "papermill": {
     "duration": 0.027226,
     "end_time": "2025-07-28T10:33:39.635271",
     "exception": false,
     "start_time": "2025-07-28T10:33:39.608045",
     "status": "completed"
    },
    "tags": []
   },
   "outputs": [],
   "source": [
    "# SPLIT & STRATIFY DATA\n",
    "# ----------------------"
   ]
  },
  {
   "cell_type": "code",
   "execution_count": 29,
   "id": "76c4dc6d",
   "metadata": {
    "execution": {
     "iopub.execute_input": "2025-07-28T10:33:39.676549Z",
     "iopub.status.busy": "2025-07-28T10:33:39.675981Z",
     "iopub.status.idle": "2025-07-28T10:33:39.681623Z",
     "shell.execute_reply": "2025-07-28T10:33:39.680521Z"
    },
    "papermill": {
     "duration": 0.027999,
     "end_time": "2025-07-28T10:33:39.683215",
     "exception": false,
     "start_time": "2025-07-28T10:33:39.655216",
     "status": "completed"
    },
    "tags": []
   },
   "outputs": [],
   "source": [
    "# EXCLUDE CERTAIN SUBGROUPS\n",
    "# ----------------------\n",
    "\n",
    "mode = universe.get(\"exclude_subgroups\", \"keep-all\") \n",
    "# Fetches the exclude_subgroups setting from the universe dict.\n",
    "# Defaults to \"keep-all\" if the key is missing."
   ]
  },
  {
   "cell_type": "code",
   "execution_count": 30,
   "id": "21994072",
   "metadata": {
    "execution": {
     "iopub.execute_input": "2025-07-28T10:33:39.725234Z",
     "iopub.status.busy": "2025-07-28T10:33:39.724686Z",
     "iopub.status.idle": "2025-07-28T10:33:39.732720Z",
     "shell.execute_reply": "2025-07-28T10:33:39.731678Z"
    },
    "papermill": {
     "duration": 0.030615,
     "end_time": "2025-07-28T10:33:39.734424",
     "exception": false,
     "start_time": "2025-07-28T10:33:39.703809",
     "status": "completed"
    },
    "tags": []
   },
   "outputs": [],
   "source": [
    "if mode == \"keep-all\":\n",
    "    keep_mask = pd.Series(True, index=org_train.index)\n",
    "\n",
    "# org_train contains the original feature columns from features_org (in Simson)\n",
    "# features_org contains unprocessed features, for me X_train at beginning ???\n",
    "# For keep-all, creates a boolean Series (keep_mask) of all True, so no rows are removed.\n",
    "\n",
    "elif mode == \"drop-non-german\":\n",
    "    keep_mask = org_train[\"maxdeutsch1\"] == 1 # ??? what about missing values?\n",
    "\n",
    "else:\n",
    "    raise ValueError(f\"Unsupported mode for exclude_subgroups: {mode}\")\n"
   ]
  },
  {
   "cell_type": "code",
   "execution_count": 31,
   "id": "71651440",
   "metadata": {
    "execution": {
     "iopub.execute_input": "2025-07-28T10:33:39.775665Z",
     "iopub.status.busy": "2025-07-28T10:33:39.775093Z",
     "iopub.status.idle": "2025-07-28T10:33:39.781769Z",
     "shell.execute_reply": "2025-07-28T10:33:39.780786Z"
    },
    "papermill": {
     "duration": 0.029122,
     "end_time": "2025-07-28T10:33:39.783460",
     "exception": false,
     "start_time": "2025-07-28T10:33:39.754338",
     "status": "completed"
    },
    "tags": []
   },
   "outputs": [],
   "source": [
    "n_drop = (~keep_mask).sum() # Calculates how many rows are set to be dropped\n",
    "if n_drop > 0:\n",
    "    pct = n_drop / len(keep_mask) * 100\n",
    "    print(f\"Dropping {n_drop} rows ({pct:.2f}%) where mode='{mode}'\")"
   ]
  },
  {
   "cell_type": "code",
   "execution_count": 32,
   "id": "5fb8eee5",
   "metadata": {
    "execution": {
     "iopub.execute_input": "2025-07-28T10:33:39.825555Z",
     "iopub.status.busy": "2025-07-28T10:33:39.825047Z",
     "iopub.status.idle": "2025-07-28T10:33:39.832726Z",
     "shell.execute_reply": "2025-07-28T10:33:39.831812Z"
    },
    "papermill": {
     "duration": 0.030465,
     "end_time": "2025-07-28T10:33:39.834415",
     "exception": false,
     "start_time": "2025-07-28T10:33:39.803950",
     "status": "completed"
    },
    "tags": []
   },
   "outputs": [],
   "source": [
    "X_train = X_train[keep_mask]"
   ]
  },
  {
   "cell_type": "code",
   "execution_count": 33,
   "id": "b202bb3a",
   "metadata": {
    "execution": {
     "iopub.execute_input": "2025-07-28T10:33:39.876761Z",
     "iopub.status.busy": "2025-07-28T10:33:39.875858Z",
     "iopub.status.idle": "2025-07-28T10:33:39.882264Z",
     "shell.execute_reply": "2025-07-28T10:33:39.881251Z"
    },
    "papermill": {
     "duration": 0.029296,
     "end_time": "2025-07-28T10:33:39.884143",
     "exception": false,
     "start_time": "2025-07-28T10:33:39.854847",
     "status": "completed"
    },
    "tags": []
   },
   "outputs": [],
   "source": [
    "y_train = y_train[keep_mask]"
   ]
  },
  {
   "cell_type": "markdown",
   "id": "493e2ac3",
   "metadata": {
    "papermill": {
     "duration": 0.023516,
     "end_time": "2025-07-28T10:33:39.931605",
     "exception": false,
     "start_time": "2025-07-28T10:33:39.908089",
     "status": "completed"
    },
    "tags": []
   },
   "source": [
    "# Model Training"
   ]
  },
  {
   "cell_type": "code",
   "execution_count": 34,
   "id": "679e1268",
   "metadata": {
    "execution": {
     "iopub.execute_input": "2025-07-28T10:33:39.980483Z",
     "iopub.status.busy": "2025-07-28T10:33:39.979810Z",
     "iopub.status.idle": "2025-07-28T10:33:40.086833Z",
     "shell.execute_reply": "2025-07-28T10:33:40.085854Z"
    },
    "papermill": {
     "duration": 0.133763,
     "end_time": "2025-07-28T10:33:40.089023",
     "exception": false,
     "start_time": "2025-07-28T10:33:39.955260",
     "status": "completed"
    },
    "tags": []
   },
   "outputs": [],
   "source": [
    "from sklearn.linear_model import LogisticRegression\n",
    "from sklearn.ensemble import GradientBoostingClassifier, RandomForestClassifier\n",
    "\n",
    "if (universe[\"model\"] == \"logreg\"):\n",
    "    model = LogisticRegression() #penalty=\"none\") #, solver=\"newton-cg\", max_iter=1) # include random_state=19 ?\n",
    "elif (universe[\"model\"] == \"penalized_logreg\"):\n",
    "    model = LogisticRegression(penalty=\"l2\", C=1.0) #, solver=\"newton-cg\", max_iter=1)\n",
    "elif (universe[\"model\"] == \"rf\"):\n",
    "    model = RandomForestClassifier(n_estimators=100, n_jobs=-1)\n",
    "elif (universe[\"model\"] == \"gbm\"):\n",
    "    model = GradientBoostingClassifier()\n",
    "elif (universe[\"model\"] == \"elasticnet\"):\n",
    "    model = LogisticRegression(penalty = 'elasticnet', solver = 'saga', l1_ratio = 0.5, max_iter=5000) # which solver to use?\n",
    "else:\n",
    "    raise \"Unsupported universe.model\""
   ]
  },
  {
   "cell_type": "code",
   "execution_count": 35,
   "id": "0cc8f744",
   "metadata": {
    "execution": {
     "iopub.execute_input": "2025-07-28T10:33:40.139186Z",
     "iopub.status.busy": "2025-07-28T10:33:40.138638Z",
     "iopub.status.idle": "2025-07-28T10:33:40.145208Z",
     "shell.execute_reply": "2025-07-28T10:33:40.144213Z"
    },
    "papermill": {
     "duration": 0.032859,
     "end_time": "2025-07-28T10:33:40.146696",
     "exception": false,
     "start_time": "2025-07-28T10:33:40.113837",
     "status": "completed"
    },
    "tags": []
   },
   "outputs": [],
   "source": [
    "import numpy as np\n",
    "from sklearn.pipeline import Pipeline\n",
    "from sklearn.preprocessing import StandardScaler\n",
    "\n",
    "model = Pipeline([\n",
    "    #(\"continuous_processor\", continuous_processor),\n",
    "    #(\"categorical_preprocessor\", categorical_preprocessor),\n",
    "    (\"scale\", StandardScaler() if universe[\"scale\"] == \"scale\" else None), \n",
    "    (\"model\", model),\n",
    "])"
   ]
  },
  {
   "cell_type": "code",
   "execution_count": 36,
   "id": "9442c04d",
   "metadata": {
    "execution": {
     "iopub.execute_input": "2025-07-28T10:33:40.193845Z",
     "iopub.status.busy": "2025-07-28T10:33:40.193350Z",
     "iopub.status.idle": "2025-07-28T10:33:53.723247Z",
     "shell.execute_reply": "2025-07-28T10:33:53.722109Z"
    },
    "papermill": {
     "duration": 13.556974,
     "end_time": "2025-07-28T10:33:53.724935",
     "exception": false,
     "start_time": "2025-07-28T10:33:40.167961",
     "status": "completed"
    },
    "tags": []
   },
   "outputs": [
    {
     "data": {
      "text/html": [
       "<style>#sk-container-id-1 {color: black;background-color: white;}#sk-container-id-1 pre{padding: 0;}#sk-container-id-1 div.sk-toggleable {background-color: white;}#sk-container-id-1 label.sk-toggleable__label {cursor: pointer;display: block;width: 100%;margin-bottom: 0;padding: 0.3em;box-sizing: border-box;text-align: center;}#sk-container-id-1 label.sk-toggleable__label-arrow:before {content: \"▸\";float: left;margin-right: 0.25em;color: #696969;}#sk-container-id-1 label.sk-toggleable__label-arrow:hover:before {color: black;}#sk-container-id-1 div.sk-estimator:hover label.sk-toggleable__label-arrow:before {color: black;}#sk-container-id-1 div.sk-toggleable__content {max-height: 0;max-width: 0;overflow: hidden;text-align: left;background-color: #f0f8ff;}#sk-container-id-1 div.sk-toggleable__content pre {margin: 0.2em;color: black;border-radius: 0.25em;background-color: #f0f8ff;}#sk-container-id-1 input.sk-toggleable__control:checked~div.sk-toggleable__content {max-height: 200px;max-width: 100%;overflow: auto;}#sk-container-id-1 input.sk-toggleable__control:checked~label.sk-toggleable__label-arrow:before {content: \"▾\";}#sk-container-id-1 div.sk-estimator input.sk-toggleable__control:checked~label.sk-toggleable__label {background-color: #d4ebff;}#sk-container-id-1 div.sk-label input.sk-toggleable__control:checked~label.sk-toggleable__label {background-color: #d4ebff;}#sk-container-id-1 input.sk-hidden--visually {border: 0;clip: rect(1px 1px 1px 1px);clip: rect(1px, 1px, 1px, 1px);height: 1px;margin: -1px;overflow: hidden;padding: 0;position: absolute;width: 1px;}#sk-container-id-1 div.sk-estimator {font-family: monospace;background-color: #f0f8ff;border: 1px dotted black;border-radius: 0.25em;box-sizing: border-box;margin-bottom: 0.5em;}#sk-container-id-1 div.sk-estimator:hover {background-color: #d4ebff;}#sk-container-id-1 div.sk-parallel-item::after {content: \"\";width: 100%;border-bottom: 1px solid gray;flex-grow: 1;}#sk-container-id-1 div.sk-label:hover label.sk-toggleable__label {background-color: #d4ebff;}#sk-container-id-1 div.sk-serial::before {content: \"\";position: absolute;border-left: 1px solid gray;box-sizing: border-box;top: 0;bottom: 0;left: 50%;z-index: 0;}#sk-container-id-1 div.sk-serial {display: flex;flex-direction: column;align-items: center;background-color: white;padding-right: 0.2em;padding-left: 0.2em;position: relative;}#sk-container-id-1 div.sk-item {position: relative;z-index: 1;}#sk-container-id-1 div.sk-parallel {display: flex;align-items: stretch;justify-content: center;background-color: white;position: relative;}#sk-container-id-1 div.sk-item::before, #sk-container-id-1 div.sk-parallel-item::before {content: \"\";position: absolute;border-left: 1px solid gray;box-sizing: border-box;top: 0;bottom: 0;left: 50%;z-index: -1;}#sk-container-id-1 div.sk-parallel-item {display: flex;flex-direction: column;z-index: 1;position: relative;background-color: white;}#sk-container-id-1 div.sk-parallel-item:first-child::after {align-self: flex-end;width: 50%;}#sk-container-id-1 div.sk-parallel-item:last-child::after {align-self: flex-start;width: 50%;}#sk-container-id-1 div.sk-parallel-item:only-child::after {width: 0;}#sk-container-id-1 div.sk-dashed-wrapped {border: 1px dashed gray;margin: 0 0.4em 0.5em 0.4em;box-sizing: border-box;padding-bottom: 0.4em;background-color: white;}#sk-container-id-1 div.sk-label label {font-family: monospace;font-weight: bold;display: inline-block;line-height: 1.2em;}#sk-container-id-1 div.sk-label-container {text-align: center;}#sk-container-id-1 div.sk-container {/* jupyter's `normalize.less` sets `[hidden] { display: none; }` but bootstrap.min.css set `[hidden] { display: none !important; }` so we also need the `!important` here to be able to override the default hidden behavior on the sphinx rendered scikit-learn.org. See: https://github.com/scikit-learn/scikit-learn/issues/21755 */display: inline-block !important;position: relative;}#sk-container-id-1 div.sk-text-repr-fallback {display: none;}</style><div id=\"sk-container-id-1\" class=\"sk-top-container\"><div class=\"sk-text-repr-fallback\"><pre>Pipeline(steps=[(&#x27;scale&#x27;, StandardScaler()),\n",
       "                (&#x27;model&#x27;,\n",
       "                 LogisticRegression(l1_ratio=0.5, max_iter=5000,\n",
       "                                    penalty=&#x27;elasticnet&#x27;, solver=&#x27;saga&#x27;))])</pre><b>In a Jupyter environment, please rerun this cell to show the HTML representation or trust the notebook. <br />On GitHub, the HTML representation is unable to render, please try loading this page with nbviewer.org.</b></div><div class=\"sk-container\" hidden><div class=\"sk-item sk-dashed-wrapped\"><div class=\"sk-label-container\"><div class=\"sk-label sk-toggleable\"><input class=\"sk-toggleable__control sk-hidden--visually\" id=\"sk-estimator-id-1\" type=\"checkbox\" ><label for=\"sk-estimator-id-1\" class=\"sk-toggleable__label sk-toggleable__label-arrow\">Pipeline</label><div class=\"sk-toggleable__content\"><pre>Pipeline(steps=[(&#x27;scale&#x27;, StandardScaler()),\n",
       "                (&#x27;model&#x27;,\n",
       "                 LogisticRegression(l1_ratio=0.5, max_iter=5000,\n",
       "                                    penalty=&#x27;elasticnet&#x27;, solver=&#x27;saga&#x27;))])</pre></div></div></div><div class=\"sk-serial\"><div class=\"sk-item\"><div class=\"sk-estimator sk-toggleable\"><input class=\"sk-toggleable__control sk-hidden--visually\" id=\"sk-estimator-id-2\" type=\"checkbox\" ><label for=\"sk-estimator-id-2\" class=\"sk-toggleable__label sk-toggleable__label-arrow\">StandardScaler</label><div class=\"sk-toggleable__content\"><pre>StandardScaler()</pre></div></div></div><div class=\"sk-item\"><div class=\"sk-estimator sk-toggleable\"><input class=\"sk-toggleable__control sk-hidden--visually\" id=\"sk-estimator-id-3\" type=\"checkbox\" ><label for=\"sk-estimator-id-3\" class=\"sk-toggleable__label sk-toggleable__label-arrow\">LogisticRegression</label><div class=\"sk-toggleable__content\"><pre>LogisticRegression(l1_ratio=0.5, max_iter=5000, penalty=&#x27;elasticnet&#x27;,\n",
       "                   solver=&#x27;saga&#x27;)</pre></div></div></div></div></div></div></div>"
      ],
      "text/plain": [
       "Pipeline(steps=[('scale', StandardScaler()),\n",
       "                ('model',\n",
       "                 LogisticRegression(l1_ratio=0.5, max_iter=5000,\n",
       "                                    penalty='elasticnet', solver='saga'))])"
      ]
     },
     "execution_count": 36,
     "metadata": {},
     "output_type": "execute_result"
    }
   ],
   "source": [
    "model.fit(X_train, y_train.values.ravel())"
   ]
  },
  {
   "cell_type": "code",
   "execution_count": 37,
   "id": "af59f8c0",
   "metadata": {
    "execution": {
     "iopub.execute_input": "2025-07-28T10:33:53.771849Z",
     "iopub.status.busy": "2025-07-28T10:33:53.771331Z",
     "iopub.status.idle": "2025-07-28T10:33:53.777439Z",
     "shell.execute_reply": "2025-07-28T10:33:53.776469Z"
    },
    "papermill": {
     "duration": 0.03028,
     "end_time": "2025-07-28T10:33:53.779162",
     "exception": false,
     "start_time": "2025-07-28T10:33:53.748882",
     "status": "completed"
    },
    "tags": []
   },
   "outputs": [],
   "source": [
    "from fairness_multiverse.universe import predict_w_threshold"
   ]
  },
  {
   "cell_type": "code",
   "execution_count": 38,
   "id": "a7cf2e16",
   "metadata": {
    "execution": {
     "iopub.execute_input": "2025-07-28T10:33:53.824838Z",
     "iopub.status.busy": "2025-07-28T10:33:53.823958Z",
     "iopub.status.idle": "2025-07-28T10:33:54.021547Z",
     "shell.execute_reply": "2025-07-28T10:33:54.020501Z"
    },
    "papermill": {
     "duration": 0.221577,
     "end_time": "2025-07-28T10:33:54.023299",
     "exception": false,
     "start_time": "2025-07-28T10:33:53.801722",
     "status": "completed"
    },
    "tags": []
   },
   "outputs": [
    {
     "data": {
      "text/plain": [
       "0.8531936238992308"
      ]
     },
     "execution_count": 38,
     "metadata": {},
     "output_type": "execute_result"
    }
   ],
   "source": [
    "probs_test = model.predict_proba(X_test)\n",
    "\n",
    "'''\n",
    "Below code returns a boolean array (or binary 0/1 array depending on how it’s used) where each element \n",
    "is True if the probability of class 1 is greater than or equal to the threshold, and False otherwise.\n",
    "'''\n",
    "y_pred_default = predict_w_threshold(probs_test, 0.5)\n",
    "\n",
    "from sklearn.metrics import accuracy_score\n",
    "\n",
    "# Naive prediction\n",
    "accuracy_score(y_true = y_true, y_pred = y_pred_default)"
   ]
  },
  {
   "cell_type": "code",
   "execution_count": 39,
   "id": "081964c3",
   "metadata": {
    "execution": {
     "iopub.execute_input": "2025-07-28T10:33:54.069804Z",
     "iopub.status.busy": "2025-07-28T10:33:54.068826Z",
     "iopub.status.idle": "2025-07-28T10:33:54.252491Z",
     "shell.execute_reply": "2025-07-28T10:33:54.251546Z"
    },
    "papermill": {
     "duration": 0.207804,
     "end_time": "2025-07-28T10:33:54.254170",
     "exception": false,
     "start_time": "2025-07-28T10:33:54.046366",
     "status": "completed"
    },
    "tags": []
   },
   "outputs": [
    {
     "data": {
      "text/plain": [
       "array([0, 0, 0, ..., 0, 0, 0])"
      ]
     },
     "execution_count": 39,
     "metadata": {},
     "output_type": "execute_result"
    }
   ],
   "source": [
    "model.predict(X_test)"
   ]
  },
  {
   "cell_type": "markdown",
   "id": "56c9705b",
   "metadata": {
    "papermill": {
     "duration": 0.021892,
     "end_time": "2025-07-28T10:33:54.301883",
     "exception": false,
     "start_time": "2025-07-28T10:33:54.279991",
     "status": "completed"
    },
    "tags": []
   },
   "source": [
    "# Conformal Prediction"
   ]
  },
  {
   "cell_type": "code",
   "execution_count": 40,
   "id": "160ec6ff",
   "metadata": {
    "execution": {
     "iopub.execute_input": "2025-07-28T10:33:54.346622Z",
     "iopub.status.busy": "2025-07-28T10:33:54.346084Z",
     "iopub.status.idle": "2025-07-28T10:33:54.351956Z",
     "shell.execute_reply": "2025-07-28T10:33:54.351044Z"
    },
    "papermill": {
     "duration": 0.030501,
     "end_time": "2025-07-28T10:33:54.353684",
     "exception": false,
     "start_time": "2025-07-28T10:33:54.323183",
     "status": "completed"
    },
    "tags": []
   },
   "outputs": [],
   "source": [
    "# Miscoverage level for conformal prediction (10% allowed error rate => 90% target coverage)\n",
    "alpha = 0.1"
   ]
  },
  {
   "cell_type": "code",
   "execution_count": 41,
   "id": "eadf4555-3dd3-440e-8e35-f82a4ad9f855",
   "metadata": {
    "execution": {
     "iopub.execute_input": "2025-07-28T10:33:54.400442Z",
     "iopub.status.busy": "2025-07-28T10:33:54.399627Z",
     "iopub.status.idle": "2025-07-28T10:33:54.580873Z",
     "shell.execute_reply": "2025-07-28T10:33:54.579887Z"
    },
    "papermill": {
     "duration": 0.206936,
     "end_time": "2025-07-28T10:33:54.582838",
     "exception": false,
     "start_time": "2025-07-28T10:33:54.375902",
     "status": "completed"
    },
    "tags": []
   },
   "outputs": [],
   "source": [
    "probs_calib = model.predict_proba(X_calib)"
   ]
  },
  {
   "cell_type": "code",
   "execution_count": 42,
   "id": "2ed93547-6d5d-4983-9b36-1ecb300da49a",
   "metadata": {
    "execution": {
     "iopub.execute_input": "2025-07-28T10:33:54.628851Z",
     "iopub.status.busy": "2025-07-28T10:33:54.628195Z",
     "iopub.status.idle": "2025-07-28T10:33:54.633986Z",
     "shell.execute_reply": "2025-07-28T10:33:54.632978Z"
    },
    "papermill": {
     "duration": 0.030567,
     "end_time": "2025-07-28T10:33:54.635781",
     "exception": false,
     "start_time": "2025-07-28T10:33:54.605214",
     "status": "completed"
    },
    "tags": []
   },
   "outputs": [],
   "source": [
    "y_calib = y_calib.values.ravel().astype(int)"
   ]
  },
  {
   "cell_type": "code",
   "execution_count": 43,
   "id": "65d1320d-f588-4b38-9072-62af1ae97f7d",
   "metadata": {
    "execution": {
     "iopub.execute_input": "2025-07-28T10:33:54.684254Z",
     "iopub.status.busy": "2025-07-28T10:33:54.683247Z",
     "iopub.status.idle": "2025-07-28T10:33:54.690938Z",
     "shell.execute_reply": "2025-07-28T10:33:54.690064Z"
    },
    "papermill": {
     "duration": 0.03392,
     "end_time": "2025-07-28T10:33:54.692743",
     "exception": false,
     "start_time": "2025-07-28T10:33:54.658823",
     "status": "completed"
    },
    "tags": []
   },
   "outputs": [],
   "source": [
    "from fairness_multiverse.conformal import compute_nc_scores\n",
    "\n",
    "# Compute nonconformity scores on calibration set (1 - probability of true class)\n",
    "nc_scores = compute_nc_scores(probs_calib, y_calib)"
   ]
  },
  {
   "cell_type": "code",
   "execution_count": 44,
   "id": "df3b8ca3-53b7-43d5-9667-7c85da7aeda2",
   "metadata": {
    "execution": {
     "iopub.execute_input": "2025-07-28T10:33:54.740670Z",
     "iopub.status.busy": "2025-07-28T10:33:54.739652Z",
     "iopub.status.idle": "2025-07-28T10:33:54.746846Z",
     "shell.execute_reply": "2025-07-28T10:33:54.745962Z"
    },
    "papermill": {
     "duration": 0.032907,
     "end_time": "2025-07-28T10:33:54.748426",
     "exception": false,
     "start_time": "2025-07-28T10:33:54.715519",
     "status": "completed"
    },
    "tags": []
   },
   "outputs": [],
   "source": [
    "from fairness_multiverse.conformal import find_threshold\n",
    "\n",
    "# Find conformal threshold q_hat for the given alpha (split conformal method)\n",
    "q_hat = find_threshold(nc_scores, alpha)"
   ]
  },
  {
   "cell_type": "code",
   "execution_count": 45,
   "id": "4d29e6c1-0ef6-4aa4-b8fe-4fe79b0d033a",
   "metadata": {
    "execution": {
     "iopub.execute_input": "2025-07-28T10:33:54.795368Z",
     "iopub.status.busy": "2025-07-28T10:33:54.794451Z",
     "iopub.status.idle": "2025-07-28T10:33:54.802148Z",
     "shell.execute_reply": "2025-07-28T10:33:54.801251Z"
    },
    "papermill": {
     "duration": 0.03229,
     "end_time": "2025-07-28T10:33:54.803827",
     "exception": false,
     "start_time": "2025-07-28T10:33:54.771537",
     "status": "completed"
    },
    "tags": []
   },
   "outputs": [
    {
     "data": {
      "text/plain": [
       "0.6791217474693978"
      ]
     },
     "execution_count": 45,
     "metadata": {},
     "output_type": "execute_result"
    }
   ],
   "source": [
    "q_hat"
   ]
  },
  {
   "cell_type": "code",
   "execution_count": 46,
   "id": "92460794-cdac-4be2-ba28-f28c0515a6fb",
   "metadata": {
    "execution": {
     "iopub.execute_input": "2025-07-28T10:33:54.850689Z",
     "iopub.status.busy": "2025-07-28T10:33:54.849881Z",
     "iopub.status.idle": "2025-07-28T10:33:55.753075Z",
     "shell.execute_reply": "2025-07-28T10:33:55.752087Z"
    },
    "papermill": {
     "duration": 0.928392,
     "end_time": "2025-07-28T10:33:55.754968",
     "exception": false,
     "start_time": "2025-07-28T10:33:54.826576",
     "status": "completed"
    },
    "tags": []
   },
   "outputs": [],
   "source": [
    "from fairness_multiverse.conformal import predict_conformal_sets\n",
    "\n",
    "# Generate prediction sets for each test example\n",
    "pred_sets = predict_conformal_sets(model, X_test, q_hat)"
   ]
  },
  {
   "cell_type": "code",
   "execution_count": 47,
   "id": "d90c9a65-e6db-4f5d-80cd-e68fb7e46829",
   "metadata": {
    "execution": {
     "iopub.execute_input": "2025-07-28T10:33:55.805394Z",
     "iopub.status.busy": "2025-07-28T10:33:55.804563Z",
     "iopub.status.idle": "2025-07-28T10:33:55.810525Z",
     "shell.execute_reply": "2025-07-28T10:33:55.809476Z"
    },
    "papermill": {
     "duration": 0.031981,
     "end_time": "2025-07-28T10:33:55.812209",
     "exception": false,
     "start_time": "2025-07-28T10:33:55.780228",
     "status": "completed"
    },
    "tags": []
   },
   "outputs": [],
   "source": [
    "y_true = y_true.squeeze()"
   ]
  },
  {
   "cell_type": "code",
   "execution_count": 48,
   "id": "3a58a54a-1e68-46b9-927a-df01f18aebc8",
   "metadata": {
    "execution": {
     "iopub.execute_input": "2025-07-28T10:33:55.861082Z",
     "iopub.status.busy": "2025-07-28T10:33:55.860311Z",
     "iopub.status.idle": "2025-07-28T10:33:56.820327Z",
     "shell.execute_reply": "2025-07-28T10:33:56.819348Z"
    },
    "papermill": {
     "duration": 0.987056,
     "end_time": "2025-07-28T10:33:56.822213",
     "exception": false,
     "start_time": "2025-07-28T10:33:55.835157",
     "status": "completed"
    },
    "tags": []
   },
   "outputs": [],
   "source": [
    "from fairness_multiverse.conformal import evaluate_sets\n",
    "\n",
    "# Evaluate coverage and average set size on test data\n",
    "metrics = evaluate_sets(pred_sets, y_true)"
   ]
  },
  {
   "cell_type": "markdown",
   "id": "2b569c12-9aaa-4c88-98c9-bbcd0cf3ebb8",
   "metadata": {
    "papermill": {
     "duration": 0.022248,
     "end_time": "2025-07-28T10:33:56.869376",
     "exception": false,
     "start_time": "2025-07-28T10:33:56.847128",
     "status": "completed"
    },
    "tags": []
   },
   "source": [
    "# CP Metrics"
   ]
  },
  {
   "cell_type": "code",
   "execution_count": 49,
   "id": "5ce0a5cb-201f-45a0-ade5-94c7f0bd6095",
   "metadata": {
    "execution": {
     "iopub.execute_input": "2025-07-28T10:33:56.916579Z",
     "iopub.status.busy": "2025-07-28T10:33:56.915516Z",
     "iopub.status.idle": "2025-07-28T10:33:56.925289Z",
     "shell.execute_reply": "2025-07-28T10:33:56.924087Z"
    },
    "papermill": {
     "duration": 0.035682,
     "end_time": "2025-07-28T10:33:56.926988",
     "exception": false,
     "start_time": "2025-07-28T10:33:56.891306",
     "status": "completed"
    },
    "tags": []
   },
   "outputs": [
    {
     "data": {
      "text/plain": [
       "{'coverage': 0.911113588228737, 'avg_size': 1.1451454687325828}"
      ]
     },
     "execution_count": 49,
     "metadata": {},
     "output_type": "execute_result"
    }
   ],
   "source": [
    "metrics"
   ]
  },
  {
   "cell_type": "code",
   "execution_count": 50,
   "id": "9b9a838d-31c9-430b-ae14-12baee460d17",
   "metadata": {
    "execution": {
     "iopub.execute_input": "2025-07-28T10:33:56.975490Z",
     "iopub.status.busy": "2025-07-28T10:33:56.974733Z",
     "iopub.status.idle": "2025-07-28T10:33:56.981598Z",
     "shell.execute_reply": "2025-07-28T10:33:56.980535Z"
    },
    "papermill": {
     "duration": 0.032746,
     "end_time": "2025-07-28T10:33:56.983303",
     "exception": false,
     "start_time": "2025-07-28T10:33:56.950557",
     "status": "completed"
    },
    "tags": []
   },
   "outputs": [],
   "source": [
    "example_universe = universe.copy()\n",
    "universe_training_size = example_universe.get(\"training_size\")\n",
    "universe_scale = example_universe.get(\"scale\")\n",
    "universe_model = example_universe.get(\"model\")\n",
    "universe_exclude_features = example_universe.get(\"exclude_features\")\n",
    "universe_exclude_subgroups = example_universe.get(\"exclude_subgroups\")"
   ]
  },
  {
   "cell_type": "code",
   "execution_count": 51,
   "id": "f4b6a8ac-9dc0-4245-8a91-5b3b5999c4f9",
   "metadata": {
    "execution": {
     "iopub.execute_input": "2025-07-28T10:33:57.031874Z",
     "iopub.status.busy": "2025-07-28T10:33:57.030102Z",
     "iopub.status.idle": "2025-07-28T10:33:57.037491Z",
     "shell.execute_reply": "2025-07-28T10:33:57.036571Z"
    },
    "papermill": {
     "duration": 0.032224,
     "end_time": "2025-07-28T10:33:57.039048",
     "exception": false,
     "start_time": "2025-07-28T10:33:57.006824",
     "status": "completed"
    },
    "tags": []
   },
   "outputs": [],
   "source": [
    "cp_metrics_dict = {\n",
    "    \"universe_id\": [universe_id],\n",
    "    \"universe_training_size\": [universe_training_size],\n",
    "    \"universe_scale\": [universe_scale],\n",
    "    \"universe_model\": [universe_model],\n",
    "    \"universe_exclude_features\": [universe_exclude_features],\n",
    "    \"universe_exclude_subgroups\": [universe_exclude_subgroups],\n",
    "    \"q_hat\": [q_hat],\n",
    "    \"coverage\": [metrics[\"coverage\"]],\n",
    "    \"avg_size\": [metrics[\"avg_size\"]],\n",
    "}"
   ]
  },
  {
   "cell_type": "code",
   "execution_count": 52,
   "id": "908acbb1-0371-4915-85ca-3fa520d2efe2",
   "metadata": {
    "execution": {
     "iopub.execute_input": "2025-07-28T10:33:57.087407Z",
     "iopub.status.busy": "2025-07-28T10:33:57.086539Z",
     "iopub.status.idle": "2025-07-28T10:33:57.094049Z",
     "shell.execute_reply": "2025-07-28T10:33:57.093084Z"
    },
    "papermill": {
     "duration": 0.033322,
     "end_time": "2025-07-28T10:33:57.095699",
     "exception": false,
     "start_time": "2025-07-28T10:33:57.062377",
     "status": "completed"
    },
    "tags": []
   },
   "outputs": [
    {
     "data": {
      "text/plain": [
       "{'universe_id': ['028e96abac7c651eb94bb8354869bcf6'],\n",
       " 'universe_training_size': ['5k'],\n",
       " 'universe_scale': ['scale'],\n",
       " 'universe_model': ['elasticnet'],\n",
       " 'universe_exclude_features': ['sex'],\n",
       " 'universe_exclude_subgroups': ['keep-all'],\n",
       " 'q_hat': [0.6791217474693978],\n",
       " 'coverage': [0.911113588228737],\n",
       " 'avg_size': [1.1451454687325828]}"
      ]
     },
     "execution_count": 52,
     "metadata": {},
     "output_type": "execute_result"
    }
   ],
   "source": [
    "cp_metrics_dict"
   ]
  },
  {
   "cell_type": "code",
   "execution_count": 53,
   "id": "33007efc-14e9-4ec6-97ac-56a455c82265",
   "metadata": {
    "execution": {
     "iopub.execute_input": "2025-07-28T10:33:57.144363Z",
     "iopub.status.busy": "2025-07-28T10:33:57.143547Z",
     "iopub.status.idle": "2025-07-28T10:33:57.149748Z",
     "shell.execute_reply": "2025-07-28T10:33:57.148798Z"
    },
    "papermill": {
     "duration": 0.032675,
     "end_time": "2025-07-28T10:33:57.151353",
     "exception": false,
     "start_time": "2025-07-28T10:33:57.118678",
     "status": "completed"
    },
    "tags": []
   },
   "outputs": [],
   "source": [
    "cp_metrics_df = pd.DataFrame(cp_metrics_dict)"
   ]
  },
  {
   "cell_type": "code",
   "execution_count": 54,
   "id": "db12611b-57b2-4910-b9d0-355adfd6e7bf",
   "metadata": {
    "execution": {
     "iopub.execute_input": "2025-07-28T10:33:57.202076Z",
     "iopub.status.busy": "2025-07-28T10:33:57.201445Z",
     "iopub.status.idle": "2025-07-28T10:33:57.220771Z",
     "shell.execute_reply": "2025-07-28T10:33:57.219711Z"
    },
    "papermill": {
     "duration": 0.044902,
     "end_time": "2025-07-28T10:33:57.222667",
     "exception": false,
     "start_time": "2025-07-28T10:33:57.177765",
     "status": "completed"
    },
    "tags": []
   },
   "outputs": [
    {
     "data": {
      "text/html": [
       "<div>\n",
       "<style scoped>\n",
       "    .dataframe tbody tr th:only-of-type {\n",
       "        vertical-align: middle;\n",
       "    }\n",
       "\n",
       "    .dataframe tbody tr th {\n",
       "        vertical-align: top;\n",
       "    }\n",
       "\n",
       "    .dataframe thead th {\n",
       "        text-align: right;\n",
       "    }\n",
       "</style>\n",
       "<table border=\"1\" class=\"dataframe\">\n",
       "  <thead>\n",
       "    <tr style=\"text-align: right;\">\n",
       "      <th></th>\n",
       "      <th>universe_id</th>\n",
       "      <th>universe_training_size</th>\n",
       "      <th>universe_scale</th>\n",
       "      <th>universe_model</th>\n",
       "      <th>universe_exclude_features</th>\n",
       "      <th>universe_exclude_subgroups</th>\n",
       "      <th>q_hat</th>\n",
       "      <th>coverage</th>\n",
       "      <th>avg_size</th>\n",
       "    </tr>\n",
       "  </thead>\n",
       "  <tbody>\n",
       "    <tr>\n",
       "      <th>0</th>\n",
       "      <td>028e96abac7c651eb94bb8354869bcf6</td>\n",
       "      <td>5k</td>\n",
       "      <td>scale</td>\n",
       "      <td>elasticnet</td>\n",
       "      <td>sex</td>\n",
       "      <td>keep-all</td>\n",
       "      <td>0.679122</td>\n",
       "      <td>0.911114</td>\n",
       "      <td>1.145145</td>\n",
       "    </tr>\n",
       "  </tbody>\n",
       "</table>\n",
       "</div>"
      ],
      "text/plain": [
       "                        universe_id universe_training_size universe_scale  \\\n",
       "0  028e96abac7c651eb94bb8354869bcf6                     5k          scale   \n",
       "\n",
       "  universe_model universe_exclude_features universe_exclude_subgroups  \\\n",
       "0     elasticnet                       sex                   keep-all   \n",
       "\n",
       "      q_hat  coverage  avg_size  \n",
       "0  0.679122  0.911114  1.145145  "
      ]
     },
     "execution_count": 54,
     "metadata": {},
     "output_type": "execute_result"
    }
   ],
   "source": [
    "cp_metrics_df"
   ]
  },
  {
   "cell_type": "code",
   "execution_count": 55,
   "id": "b7fbde55-a0a1-47e4-9af6-fe4a17fa8c61",
   "metadata": {
    "execution": {
     "iopub.execute_input": "2025-07-28T10:33:57.272205Z",
     "iopub.status.busy": "2025-07-28T10:33:57.271253Z",
     "iopub.status.idle": "2025-07-28T10:33:57.276581Z",
     "shell.execute_reply": "2025-07-28T10:33:57.275662Z"
    },
    "papermill": {
     "duration": 0.031726,
     "end_time": "2025-07-28T10:33:57.278296",
     "exception": false,
     "start_time": "2025-07-28T10:33:57.246570",
     "status": "completed"
    },
    "tags": []
   },
   "outputs": [],
   "source": [
    "# Conditional Coverage & looking at subgroups"
   ]
  },
  {
   "cell_type": "code",
   "execution_count": 56,
   "id": "027ae886-68dd-4141-96c7-805a5450e1ef",
   "metadata": {
    "execution": {
     "iopub.execute_input": "2025-07-28T10:33:57.327818Z",
     "iopub.status.busy": "2025-07-28T10:33:57.327059Z",
     "iopub.status.idle": "2025-07-28T10:33:57.592370Z",
     "shell.execute_reply": "2025-07-28T10:33:57.591204Z"
    },
    "papermill": {
     "duration": 0.291799,
     "end_time": "2025-07-28T10:33:57.594497",
     "exception": false,
     "start_time": "2025-07-28T10:33:57.302698",
     "status": "completed"
    },
    "tags": []
   },
   "outputs": [],
   "source": [
    "from fairness_multiverse.conformal import build_cp_groups\n",
    "\n",
    "cp_groups_df = build_cp_groups(pred_sets, y_true, X_test.index, org_test)\n",
    "#needs universe_id and setting"
   ]
  },
  {
   "cell_type": "code",
   "execution_count": 57,
   "id": "01d5802c-663a-4d1f-9d69-e036faaffbf7",
   "metadata": {
    "execution": {
     "iopub.execute_input": "2025-07-28T10:33:57.656077Z",
     "iopub.status.busy": "2025-07-28T10:33:57.655382Z",
     "iopub.status.idle": "2025-07-28T10:33:57.665936Z",
     "shell.execute_reply": "2025-07-28T10:33:57.659863Z"
    },
    "papermill": {
     "duration": 0.042157,
     "end_time": "2025-07-28T10:33:57.667627",
     "exception": false,
     "start_time": "2025-07-28T10:33:57.625470",
     "status": "completed"
    },
    "tags": []
   },
   "outputs": [],
   "source": [
    "#delete\n",
    "#cp_groups_df"
   ]
  },
  {
   "cell_type": "code",
   "execution_count": 58,
   "id": "fa424af1-d1eb-443d-b717-2d279ada8408",
   "metadata": {
    "execution": {
     "iopub.execute_input": "2025-07-28T10:33:57.723981Z",
     "iopub.status.busy": "2025-07-28T10:33:57.723441Z",
     "iopub.status.idle": "2025-07-28T10:33:57.728791Z",
     "shell.execute_reply": "2025-07-28T10:33:57.727613Z"
    },
    "papermill": {
     "duration": 0.036012,
     "end_time": "2025-07-28T10:33:57.730657",
     "exception": false,
     "start_time": "2025-07-28T10:33:57.694645",
     "status": "completed"
    },
    "tags": []
   },
   "outputs": [],
   "source": [
    "#delete\n",
    "#percentage = (cp_groups_df['nongerman_female'] == 1).mean() * 100\n",
    "#print(percentage)\n"
   ]
  },
  {
   "cell_type": "code",
   "execution_count": 59,
   "id": "6cbdab96-b2b2-45af-ad54-d0516db2e28d",
   "metadata": {
    "execution": {
     "iopub.execute_input": "2025-07-28T10:33:57.780773Z",
     "iopub.status.busy": "2025-07-28T10:33:57.779871Z",
     "iopub.status.idle": "2025-07-28T10:33:59.573567Z",
     "shell.execute_reply": "2025-07-28T10:33:59.572482Z"
    },
    "papermill": {
     "duration": 1.82104,
     "end_time": "2025-07-28T10:33:59.575635",
     "exception": false,
     "start_time": "2025-07-28T10:33:57.754595",
     "status": "completed"
    },
    "tags": []
   },
   "outputs": [],
   "source": [
    "# Define covered = 1 if true_label is in the predicted set\n",
    "cp_groups_df['covered'] = cp_groups_df.apply(\n",
    "    lambda r: int(r['true_label'] in r['pred_set']),\n",
    "    axis=1\n",
    ")"
   ]
  },
  {
   "cell_type": "code",
   "execution_count": 60,
   "id": "338ff529-1a6b-4b87-a931-8e4788d52aad",
   "metadata": {
    "execution": {
     "iopub.execute_input": "2025-07-28T10:33:59.624630Z",
     "iopub.status.busy": "2025-07-28T10:33:59.624130Z",
     "iopub.status.idle": "2025-07-28T10:33:59.629557Z",
     "shell.execute_reply": "2025-07-28T10:33:59.628521Z"
    },
    "papermill": {
     "duration": 0.03128,
     "end_time": "2025-07-28T10:33:59.631167",
     "exception": false,
     "start_time": "2025-07-28T10:33:59.599887",
     "status": "completed"
    },
    "tags": []
   },
   "outputs": [],
   "source": [
    "#cp_groups_df"
   ]
  },
  {
   "cell_type": "code",
   "execution_count": 61,
   "id": "90032e27-66df-4540-9169-4e89cfbaa758",
   "metadata": {
    "execution": {
     "iopub.execute_input": "2025-07-28T10:33:59.681090Z",
     "iopub.status.busy": "2025-07-28T10:33:59.680651Z",
     "iopub.status.idle": "2025-07-28T10:33:59.692428Z",
     "shell.execute_reply": "2025-07-28T10:33:59.691458Z"
    },
    "papermill": {
     "duration": 0.038296,
     "end_time": "2025-07-28T10:33:59.694027",
     "exception": false,
     "start_time": "2025-07-28T10:33:59.655731",
     "status": "completed"
    },
    "tags": []
   },
   "outputs": [],
   "source": [
    "subgroups = ['frau1','nongerman','nongerman_male','nongerman_female']\n",
    "\n",
    "# Conditional coverage for subgroup==1\n",
    "cond_coverage = {\n",
    "    g: cp_groups_df.loc[cp_groups_df[g]==1, 'covered'].mean()\n",
    "    for g in subgroups\n",
    "}"
   ]
  },
  {
   "cell_type": "code",
   "execution_count": 62,
   "id": "1e348fb1-b9c3-45bc-ba23-f016827a7e0d",
   "metadata": {
    "execution": {
     "iopub.execute_input": "2025-07-28T10:33:59.746198Z",
     "iopub.status.busy": "2025-07-28T10:33:59.745299Z",
     "iopub.status.idle": "2025-07-28T10:33:59.752814Z",
     "shell.execute_reply": "2025-07-28T10:33:59.751877Z"
    },
    "papermill": {
     "duration": 0.035923,
     "end_time": "2025-07-28T10:33:59.754647",
     "exception": false,
     "start_time": "2025-07-28T10:33:59.718724",
     "status": "completed"
    },
    "tags": []
   },
   "outputs": [
    {
     "data": {
      "text/plain": [
       "{'frau1': 0.9095835018196522,\n",
       " 'nongerman': 0.9105709313422781,\n",
       " 'nongerman_male': 0.9261460866432496,\n",
       " 'nongerman_female': 0.8847988077496274}"
      ]
     },
     "execution_count": 62,
     "metadata": {},
     "output_type": "execute_result"
    }
   ],
   "source": [
    "cond_coverage"
   ]
  },
  {
   "cell_type": "code",
   "execution_count": 63,
   "id": "f5093324-c3dd-4d63-bc4c-8d945e5c8bbb",
   "metadata": {
    "execution": {
     "iopub.execute_input": "2025-07-28T10:33:59.815451Z",
     "iopub.status.busy": "2025-07-28T10:33:59.814819Z",
     "iopub.status.idle": "2025-07-28T10:33:59.823419Z",
     "shell.execute_reply": "2025-07-28T10:33:59.822235Z"
    },
    "papermill": {
     "duration": 0.041413,
     "end_time": "2025-07-28T10:33:59.825267",
     "exception": false,
     "start_time": "2025-07-28T10:33:59.783854",
     "status": "completed"
    },
    "tags": []
   },
   "outputs": [],
   "source": [
    "for subgroup, cov in cond_coverage.items():\n",
    "    cp_metrics_df[f\"cov_{subgroup}\"] = cov"
   ]
  },
  {
   "cell_type": "code",
   "execution_count": 64,
   "id": "6e872e10-dbe5-49e8-b554-5030c98ff75d",
   "metadata": {
    "execution": {
     "iopub.execute_input": "2025-07-28T10:33:59.884941Z",
     "iopub.status.busy": "2025-07-28T10:33:59.884465Z",
     "iopub.status.idle": "2025-07-28T10:33:59.905195Z",
     "shell.execute_reply": "2025-07-28T10:33:59.904230Z"
    },
    "papermill": {
     "duration": 0.051943,
     "end_time": "2025-07-28T10:33:59.906742",
     "exception": false,
     "start_time": "2025-07-28T10:33:59.854799",
     "status": "completed"
    },
    "tags": []
   },
   "outputs": [
    {
     "data": {
      "text/html": [
       "<div>\n",
       "<style scoped>\n",
       "    .dataframe tbody tr th:only-of-type {\n",
       "        vertical-align: middle;\n",
       "    }\n",
       "\n",
       "    .dataframe tbody tr th {\n",
       "        vertical-align: top;\n",
       "    }\n",
       "\n",
       "    .dataframe thead th {\n",
       "        text-align: right;\n",
       "    }\n",
       "</style>\n",
       "<table border=\"1\" class=\"dataframe\">\n",
       "  <thead>\n",
       "    <tr style=\"text-align: right;\">\n",
       "      <th></th>\n",
       "      <th>universe_id</th>\n",
       "      <th>universe_training_size</th>\n",
       "      <th>universe_scale</th>\n",
       "      <th>universe_model</th>\n",
       "      <th>universe_exclude_features</th>\n",
       "      <th>universe_exclude_subgroups</th>\n",
       "      <th>q_hat</th>\n",
       "      <th>coverage</th>\n",
       "      <th>avg_size</th>\n",
       "      <th>cov_frau1</th>\n",
       "      <th>cov_nongerman</th>\n",
       "      <th>cov_nongerman_male</th>\n",
       "      <th>cov_nongerman_female</th>\n",
       "    </tr>\n",
       "  </thead>\n",
       "  <tbody>\n",
       "    <tr>\n",
       "      <th>0</th>\n",
       "      <td>028e96abac7c651eb94bb8354869bcf6</td>\n",
       "      <td>5k</td>\n",
       "      <td>scale</td>\n",
       "      <td>elasticnet</td>\n",
       "      <td>sex</td>\n",
       "      <td>keep-all</td>\n",
       "      <td>0.679122</td>\n",
       "      <td>0.911114</td>\n",
       "      <td>1.145145</td>\n",
       "      <td>0.909584</td>\n",
       "      <td>0.910571</td>\n",
       "      <td>0.926146</td>\n",
       "      <td>0.884799</td>\n",
       "    </tr>\n",
       "  </tbody>\n",
       "</table>\n",
       "</div>"
      ],
      "text/plain": [
       "                        universe_id universe_training_size universe_scale  \\\n",
       "0  028e96abac7c651eb94bb8354869bcf6                     5k          scale   \n",
       "\n",
       "  universe_model universe_exclude_features universe_exclude_subgroups  \\\n",
       "0     elasticnet                       sex                   keep-all   \n",
       "\n",
       "      q_hat  coverage  avg_size  cov_frau1  cov_nongerman  cov_nongerman_male  \\\n",
       "0  0.679122  0.911114  1.145145   0.909584       0.910571            0.926146   \n",
       "\n",
       "   cov_nongerman_female  \n",
       "0              0.884799  "
      ]
     },
     "execution_count": 64,
     "metadata": {},
     "output_type": "execute_result"
    }
   ],
   "source": [
    "cp_metrics_df"
   ]
  },
  {
   "cell_type": "markdown",
   "id": "33774451",
   "metadata": {
    "papermill": {
     "duration": 0.024586,
     "end_time": "2025-07-28T10:33:59.956416",
     "exception": false,
     "start_time": "2025-07-28T10:33:59.931830",
     "status": "completed"
    },
    "tags": []
   },
   "source": [
    "# (Fairness) Metrics"
   ]
  },
  {
   "cell_type": "code",
   "execution_count": 65,
   "id": "debc5d62",
   "metadata": {
    "execution": {
     "iopub.execute_input": "2025-07-28T10:34:00.007954Z",
     "iopub.status.busy": "2025-07-28T10:34:00.006867Z",
     "iopub.status.idle": "2025-07-28T10:34:00.030737Z",
     "shell.execute_reply": "2025-07-28T10:34:00.029667Z"
    },
    "papermill": {
     "duration": 0.05182,
     "end_time": "2025-07-28T10:34:00.032792",
     "exception": false,
     "start_time": "2025-07-28T10:33:59.980972",
     "status": "completed"
    },
    "tags": []
   },
   "outputs": [],
   "source": [
    "# do I need to include maxdeutsch1.missing?\n",
    "\n",
    "import numpy as np\n",
    "\n",
    "colname_to_bin = \"maxdeutsch1\"\n",
    "majority_value = org_train[colname_to_bin].mode()[0]\n",
    "\n",
    "org_test[\"majmin\"] = np.where(org_test[colname_to_bin] == majority_value, \"majority\", \"minority\")"
   ]
  },
  {
   "cell_type": "code",
   "execution_count": 66,
   "id": "06a50de5",
   "metadata": {
    "execution": {
     "iopub.execute_input": "2025-07-28T10:34:00.084610Z",
     "iopub.status.busy": "2025-07-28T10:34:00.083880Z",
     "iopub.status.idle": "2025-07-28T10:34:02.546071Z",
     "shell.execute_reply": "2025-07-28T10:34:02.545057Z"
    },
    "papermill": {
     "duration": 2.49006,
     "end_time": "2025-07-28T10:34:02.548196",
     "exception": false,
     "start_time": "2025-07-28T10:34:00.058136",
     "status": "completed"
    },
    "tags": []
   },
   "outputs": [],
   "source": [
    "example_universe = universe.copy()\n",
    "example_universe[\"cutoff\"] = example_universe[\"cutoff\"][0]\n",
    "example_universe[\"eval_fairness_grouping\"] = example_universe[\"eval_fairness_grouping\"][0]\n",
    "fairness_dict, metric_frame = universe_analysis.compute_metrics(\n",
    "    example_universe,\n",
    "    y_pred_prob=probs_test,\n",
    "    y_test=y_true,\n",
    "    org_test=org_test,\n",
    ")"
   ]
  },
  {
   "cell_type": "markdown",
   "id": "f95d4e02",
   "metadata": {
    "papermill": {
     "duration": 0.024262,
     "end_time": "2025-07-28T10:34:02.599942",
     "exception": false,
     "start_time": "2025-07-28T10:34:02.575680",
     "status": "completed"
    },
    "tags": []
   },
   "source": [
    "# Overall"
   ]
  },
  {
   "cell_type": "markdown",
   "id": "bdee4871",
   "metadata": {
    "papermill": {
     "duration": 0.024536,
     "end_time": "2025-07-28T10:34:02.648769",
     "exception": false,
     "start_time": "2025-07-28T10:34:02.624233",
     "status": "completed"
    },
    "tags": []
   },
   "source": [
    "Fairness\n",
    "Main fairness target: Equalized Odds. Seems to be a better fit than equal opportunity, since we're not only interested in Y = 1. Seems to be a better fit than demographic parity, since we also care about accuracy, not just equal distribution of preds.\n",
    "\n",
    "Pick column for computation of fairness metrics\n",
    "\n",
    "Performance\n",
    "Overall performance measures, most interesting in relation to the measures split by group below"
   ]
  },
  {
   "cell_type": "code",
   "execution_count": 67,
   "id": "c4e067c6",
   "metadata": {
    "execution": {
     "iopub.execute_input": "2025-07-28T10:34:02.697719Z",
     "iopub.status.busy": "2025-07-28T10:34:02.697294Z",
     "iopub.status.idle": "2025-07-28T10:34:02.704381Z",
     "shell.execute_reply": "2025-07-28T10:34:02.703228Z"
    },
    "papermill": {
     "duration": 0.033089,
     "end_time": "2025-07-28T10:34:02.705727",
     "exception": false,
     "start_time": "2025-07-28T10:34:02.672638",
     "status": "completed"
    },
    "tags": []
   },
   "outputs": [
    {
     "data": {
      "text/plain": [
       "accuracy                   0.223509\n",
       "balanced accuracy          0.546692\n",
       "f1                         0.244864\n",
       "precision                  0.139883\n",
       "false positive rate        0.888021\n",
       "false negative rate        0.018596\n",
       "selection rate             0.900000\n",
       "count                  89710.000000\n",
       "dtype: float64"
      ]
     },
     "execution_count": 67,
     "metadata": {},
     "output_type": "execute_result"
    }
   ],
   "source": [
    "metric_frame.overall"
   ]
  },
  {
   "cell_type": "markdown",
   "id": "e968fe9d",
   "metadata": {
    "papermill": {
     "duration": 0.013412,
     "end_time": "2025-07-28T10:34:02.733276",
     "exception": false,
     "start_time": "2025-07-28T10:34:02.719864",
     "status": "completed"
    },
    "tags": []
   },
   "source": [
    "By Group"
   ]
  },
  {
   "cell_type": "code",
   "execution_count": 68,
   "id": "ec325bce",
   "metadata": {
    "execution": {
     "iopub.execute_input": "2025-07-28T10:34:02.762036Z",
     "iopub.status.busy": "2025-07-28T10:34:02.761571Z",
     "iopub.status.idle": "2025-07-28T10:34:02.777513Z",
     "shell.execute_reply": "2025-07-28T10:34:02.776697Z"
    },
    "papermill": {
     "duration": 0.032025,
     "end_time": "2025-07-28T10:34:02.778914",
     "exception": false,
     "start_time": "2025-07-28T10:34:02.746889",
     "status": "completed"
    },
    "tags": []
   },
   "outputs": [
    {
     "data": {
      "text/html": [
       "<div>\n",
       "<style scoped>\n",
       "    .dataframe tbody tr th:only-of-type {\n",
       "        vertical-align: middle;\n",
       "    }\n",
       "\n",
       "    .dataframe tbody tr th {\n",
       "        vertical-align: top;\n",
       "    }\n",
       "\n",
       "    .dataframe thead th {\n",
       "        text-align: right;\n",
       "    }\n",
       "</style>\n",
       "<table border=\"1\" class=\"dataframe\">\n",
       "  <thead>\n",
       "    <tr style=\"text-align: right;\">\n",
       "      <th></th>\n",
       "      <th>accuracy</th>\n",
       "      <th>balanced accuracy</th>\n",
       "      <th>f1</th>\n",
       "      <th>precision</th>\n",
       "      <th>false positive rate</th>\n",
       "      <th>false negative rate</th>\n",
       "      <th>selection rate</th>\n",
       "      <th>count</th>\n",
       "    </tr>\n",
       "    <tr>\n",
       "      <th>majmin</th>\n",
       "      <th></th>\n",
       "      <th></th>\n",
       "      <th></th>\n",
       "      <th></th>\n",
       "      <th></th>\n",
       "      <th></th>\n",
       "      <th></th>\n",
       "      <th></th>\n",
       "    </tr>\n",
       "  </thead>\n",
       "  <tbody>\n",
       "    <tr>\n",
       "      <th>majority</th>\n",
       "      <td>0.244340</td>\n",
       "      <td>0.556341</td>\n",
       "      <td>0.255332</td>\n",
       "      <td>0.146779</td>\n",
       "      <td>0.867733</td>\n",
       "      <td>0.019584</td>\n",
       "      <td>0.882623</td>\n",
       "      <td>69170.0</td>\n",
       "    </tr>\n",
       "    <tr>\n",
       "      <th>minority</th>\n",
       "      <td>0.153359</td>\n",
       "      <td>0.515089</td>\n",
       "      <td>0.211552</td>\n",
       "      <td>0.118499</td>\n",
       "      <td>0.955041</td>\n",
       "      <td>0.014780</td>\n",
       "      <td>0.958520</td>\n",
       "      <td>20540.0</td>\n",
       "    </tr>\n",
       "  </tbody>\n",
       "</table>\n",
       "</div>"
      ],
      "text/plain": [
       "          accuracy  balanced accuracy        f1  precision  \\\n",
       "majmin                                                       \n",
       "majority  0.244340           0.556341  0.255332   0.146779   \n",
       "minority  0.153359           0.515089  0.211552   0.118499   \n",
       "\n",
       "          false positive rate  false negative rate  selection rate    count  \n",
       "majmin                                                                       \n",
       "majority             0.867733             0.019584        0.882623  69170.0  \n",
       "minority             0.955041             0.014780        0.958520  20540.0  "
      ]
     },
     "execution_count": 68,
     "metadata": {},
     "output_type": "execute_result"
    }
   ],
   "source": [
    "metric_frame.by_group"
   ]
  },
  {
   "cell_type": "code",
   "execution_count": 69,
   "id": "a9ddbe63",
   "metadata": {
    "execution": {
     "iopub.execute_input": "2025-07-28T10:34:02.810599Z",
     "iopub.status.busy": "2025-07-28T10:34:02.810273Z",
     "iopub.status.idle": "2025-07-28T10:34:05.242123Z",
     "shell.execute_reply": "2025-07-28T10:34:05.241193Z"
    },
    "papermill": {
     "duration": 2.448035,
     "end_time": "2025-07-28T10:34:05.243748",
     "exception": false,
     "start_time": "2025-07-28T10:34:02.795713",
     "status": "completed"
    },
    "tags": []
   },
   "outputs": [
    {
     "data": {
      "text/plain": [
       "array([[<Axes: title={'center': 'accuracy'}, xlabel='majmin'>,\n",
       "        <Axes: title={'center': 'balanced accuracy'}, xlabel='majmin'>,\n",
       "        <Axes: title={'center': 'f1'}, xlabel='majmin'>],\n",
       "       [<Axes: title={'center': 'precision'}, xlabel='majmin'>,\n",
       "        <Axes: title={'center': 'false positive rate'}, xlabel='majmin'>,\n",
       "        <Axes: title={'center': 'false negative rate'}, xlabel='majmin'>],\n",
       "       [<Axes: title={'center': 'selection rate'}, xlabel='majmin'>,\n",
       "        <Axes: title={'center': 'count'}, xlabel='majmin'>,\n",
       "        <Axes: xlabel='majmin'>]], dtype=object)"
      ]
     },
     "execution_count": 69,
     "metadata": {},
     "output_type": "execute_result"
    },
    {
     "data": {
      "image/png": "[encoded data removed]",
      "text/plain": [
       "<Figure size 1200x800 with 9 Axes>"
      ]
     },
     "metadata": {},
     "output_type": "display_data"
    }
   ],
   "source": [
    "# In a graphic\n",
    "metric_frame.by_group.plot.bar(\n",
    "    subplots=True,\n",
    "    layout=[3, 3],\n",
    "    legend=False,\n",
    "    figsize=[12, 8],\n",
    "    title=\"Show all metrics\",\n",
    ")"
   ]
  },
  {
   "cell_type": "markdown",
   "id": "f57a0bac",
   "metadata": {
    "papermill": {
     "duration": 0.026108,
     "end_time": "2025-07-28T10:34:05.296780",
     "exception": false,
     "start_time": "2025-07-28T10:34:05.270672",
     "status": "completed"
    },
    "tags": []
   },
   "source": [
    "# Final Output"
   ]
  },
  {
   "cell_type": "code",
   "execution_count": 70,
   "id": "96d280a3",
   "metadata": {
    "execution": {
     "iopub.execute_input": "2025-07-28T10:34:05.351783Z",
     "iopub.status.busy": "2025-07-28T10:34:05.351100Z",
     "iopub.status.idle": "2025-07-28T10:34:05.359969Z",
     "shell.execute_reply": "2025-07-28T10:34:05.359029Z"
    },
    "papermill": {
     "duration": 0.038274,
     "end_time": "2025-07-28T10:34:05.361494",
     "exception": false,
     "start_time": "2025-07-28T10:34:05.323220",
     "status": "completed"
    },
    "tags": []
   },
   "outputs": [
    {
     "data": {
      "text/plain": [
       "4"
      ]
     },
     "execution_count": 70,
     "metadata": {},
     "output_type": "execute_result"
    }
   ],
   "source": [
    "sub_universes = universe_analysis.generate_sub_universes()\n",
    "len(sub_universes)"
   ]
  },
  {
   "cell_type": "code",
   "execution_count": 71,
   "id": "92adf7ba",
   "metadata": {
    "execution": {
     "iopub.execute_input": "2025-07-28T10:34:05.417427Z",
     "iopub.status.busy": "2025-07-28T10:34:05.416764Z",
     "iopub.status.idle": "2025-07-28T10:34:05.423068Z",
     "shell.execute_reply": "2025-07-28T10:34:05.422058Z"
    },
    "papermill": {
     "duration": 0.036029,
     "end_time": "2025-07-28T10:34:05.424762",
     "exception": false,
     "start_time": "2025-07-28T10:34:05.388733",
     "status": "completed"
    },
    "tags": []
   },
   "outputs": [],
   "source": [
    "def filter_sub_universe_data(sub_universe, org_test):\n",
    "    # Keep all rows — no filtering\n",
    "    keep_rows_mask = np.ones(org_test.shape[0], dtype=bool)\n",
    "\n",
    "    print(f\"[INFO] Keeping all rows: {keep_rows_mask.sum()} rows retained.\")\n",
    "    return keep_rows_mask"
   ]
  },
  {
   "cell_type": "code",
   "execution_count": 72,
   "id": "4a759155",
   "metadata": {
    "execution": {
     "iopub.execute_input": "2025-07-28T10:34:05.480915Z",
     "iopub.status.busy": "2025-07-28T10:34:05.479868Z",
     "iopub.status.idle": "2025-07-28T10:34:16.956128Z",
     "shell.execute_reply": "2025-07-28T10:34:16.954522Z"
    },
    "papermill": {
     "duration": 11.507048,
     "end_time": "2025-07-28T10:34:16.959007",
     "exception": false,
     "start_time": "2025-07-28T10:34:05.451959",
     "status": "completed"
    },
    "tags": []
   },
   "outputs": [
    {
     "name": "stdout",
     "output_type": "stream",
     "text": [
      "Stopping execution_time clock.\n",
      "[INFO] Keeping all rows: 89710 rows retained.\n"
     ]
    },
    {
     "name": "stdout",
     "output_type": "stream",
     "text": [
      "[INFO] Keeping all rows: 89710 rows retained.\n"
     ]
    },
    {
     "name": "stdout",
     "output_type": "stream",
     "text": [
      "[INFO] Keeping all rows: 89710 rows retained.\n"
     ]
    },
    {
     "name": "stdout",
     "output_type": "stream",
     "text": [
      "[INFO] Keeping all rows: 89710 rows retained.\n"
     ]
    },
    {
     "data": {
      "text/html": [
       "<div>\n",
       "<style scoped>\n",
       "    .dataframe tbody tr th:only-of-type {\n",
       "        vertical-align: middle;\n",
       "    }\n",
       "\n",
       "    .dataframe tbody tr th {\n",
       "        vertical-align: top;\n",
       "    }\n",
       "\n",
       "    .dataframe thead th {\n",
       "        text-align: right;\n",
       "    }\n",
       "</style>\n",
       "<table border=\"1\" class=\"dataframe\">\n",
       "  <thead>\n",
       "    <tr style=\"text-align: right;\">\n",
       "      <th></th>\n",
       "      <th>run_no</th>\n",
       "      <th>universe_id</th>\n",
       "      <th>universe_settings</th>\n",
       "      <th>execution_time</th>\n",
       "      <th>test_size_n</th>\n",
       "      <th>test_size_frac</th>\n",
       "      <th>fair_main_equalized_odds_difference</th>\n",
       "      <th>fair_main_equalized_odds_ratio</th>\n",
       "      <th>fair_main_demographic_parity_difference</th>\n",
       "      <th>fair_main_demographic_parity_ratio</th>\n",
       "      <th>...</th>\n",
       "      <th>perf_grp_precision_0</th>\n",
       "      <th>perf_grp_precision_1</th>\n",
       "      <th>perf_grp_false positive rate_0</th>\n",
       "      <th>perf_grp_false positive rate_1</th>\n",
       "      <th>perf_grp_false negative rate_0</th>\n",
       "      <th>perf_grp_false negative rate_1</th>\n",
       "      <th>perf_grp_selection rate_0</th>\n",
       "      <th>perf_grp_selection rate_1</th>\n",
       "      <th>perf_grp_count_0</th>\n",
       "      <th>perf_grp_count_1</th>\n",
       "    </tr>\n",
       "  </thead>\n",
       "  <tbody>\n",
       "    <tr>\n",
       "      <th>0</th>\n",
       "      <td>11</td>\n",
       "      <td>028e96abac7c651eb94bb8354869bcf6</td>\n",
       "      <td>{\"cutoff\": \"quantile_0.1\", \"eval_fairness_grou...</td>\n",
       "      <td>42.105262</td>\n",
       "      <td>89710</td>\n",
       "      <td>1.0</td>\n",
       "      <td>0.087308</td>\n",
       "      <td>0.908582</td>\n",
       "      <td>0.075897</td>\n",
       "      <td>0.920818</td>\n",
       "      <td>...</td>\n",
       "      <td>NaN</td>\n",
       "      <td>NaN</td>\n",
       "      <td>NaN</td>\n",
       "      <td>NaN</td>\n",
       "      <td>NaN</td>\n",
       "      <td>NaN</td>\n",
       "      <td>NaN</td>\n",
       "      <td>NaN</td>\n",
       "      <td>NaN</td>\n",
       "      <td>NaN</td>\n",
       "    </tr>\n",
       "    <tr>\n",
       "      <th>0</th>\n",
       "      <td>11</td>\n",
       "      <td>028e96abac7c651eb94bb8354869bcf6</td>\n",
       "      <td>{\"cutoff\": \"quantile_0.1\", \"eval_fairness_grou...</td>\n",
       "      <td>42.105262</td>\n",
       "      <td>89710</td>\n",
       "      <td>1.0</td>\n",
       "      <td>0.087308</td>\n",
       "      <td>0.908582</td>\n",
       "      <td>0.075897</td>\n",
       "      <td>0.920818</td>\n",
       "      <td>...</td>\n",
       "      <td>0.118499</td>\n",
       "      <td>0.146779</td>\n",
       "      <td>0.955041</td>\n",
       "      <td>0.867733</td>\n",
       "      <td>0.014780</td>\n",
       "      <td>0.019584</td>\n",
       "      <td>0.958520</td>\n",
       "      <td>0.882623</td>\n",
       "      <td>20540.0</td>\n",
       "      <td>69170.0</td>\n",
       "    </tr>\n",
       "    <tr>\n",
       "      <th>0</th>\n",
       "      <td>11</td>\n",
       "      <td>028e96abac7c651eb94bb8354869bcf6</td>\n",
       "      <td>{\"cutoff\": \"quantile_0.25\", \"eval_fairness_gro...</td>\n",
       "      <td>42.105262</td>\n",
       "      <td>89710</td>\n",
       "      <td>1.0</td>\n",
       "      <td>0.157849</td>\n",
       "      <td>0.813010</td>\n",
       "      <td>0.137532</td>\n",
       "      <td>0.839339</td>\n",
       "      <td>...</td>\n",
       "      <td>NaN</td>\n",
       "      <td>NaN</td>\n",
       "      <td>NaN</td>\n",
       "      <td>NaN</td>\n",
       "      <td>NaN</td>\n",
       "      <td>NaN</td>\n",
       "      <td>NaN</td>\n",
       "      <td>NaN</td>\n",
       "      <td>NaN</td>\n",
       "      <td>NaN</td>\n",
       "    </tr>\n",
       "    <tr>\n",
       "      <th>0</th>\n",
       "      <td>11</td>\n",
       "      <td>028e96abac7c651eb94bb8354869bcf6</td>\n",
       "      <td>{\"cutoff\": \"quantile_0.25\", \"eval_fairness_gro...</td>\n",
       "      <td>42.105262</td>\n",
       "      <td>89710</td>\n",
       "      <td>1.0</td>\n",
       "      <td>0.157849</td>\n",
       "      <td>0.813010</td>\n",
       "      <td>0.137532</td>\n",
       "      <td>0.839339</td>\n",
       "      <td>...</td>\n",
       "      <td>0.127566</td>\n",
       "      <td>0.171030</td>\n",
       "      <td>0.844156</td>\n",
       "      <td>0.686307</td>\n",
       "      <td>0.052787</td>\n",
       "      <td>0.070022</td>\n",
       "      <td>0.856037</td>\n",
       "      <td>0.718505</td>\n",
       "      <td>20540.0</td>\n",
       "      <td>69170.0</td>\n",
       "    </tr>\n",
       "  </tbody>\n",
       "</table>\n",
       "<p>4 rows × 50 columns</p>\n",
       "</div>"
      ],
      "text/plain": [
       "  run_no                       universe_id  \\\n",
       "0     11  028e96abac7c651eb94bb8354869bcf6   \n",
       "0     11  028e96abac7c651eb94bb8354869bcf6   \n",
       "0     11  028e96abac7c651eb94bb8354869bcf6   \n",
       "0     11  028e96abac7c651eb94bb8354869bcf6   \n",
       "\n",
       "                                   universe_settings  execution_time  \\\n",
       "0  {\"cutoff\": \"quantile_0.1\", \"eval_fairness_grou...       42.105262   \n",
       "0  {\"cutoff\": \"quantile_0.1\", \"eval_fairness_grou...       42.105262   \n",
       "0  {\"cutoff\": \"quantile_0.25\", \"eval_fairness_gro...       42.105262   \n",
       "0  {\"cutoff\": \"quantile_0.25\", \"eval_fairness_gro...       42.105262   \n",
       "\n",
       "   test_size_n  test_size_frac  fair_main_equalized_odds_difference  \\\n",
       "0        89710             1.0                             0.087308   \n",
       "0        89710             1.0                             0.087308   \n",
       "0        89710             1.0                             0.157849   \n",
       "0        89710             1.0                             0.157849   \n",
       "\n",
       "   fair_main_equalized_odds_ratio  fair_main_demographic_parity_difference  \\\n",
       "0                        0.908582                                 0.075897   \n",
       "0                        0.908582                                 0.075897   \n",
       "0                        0.813010                                 0.137532   \n",
       "0                        0.813010                                 0.137532   \n",
       "\n",
       "   fair_main_demographic_parity_ratio  ...  perf_grp_precision_0  \\\n",
       "0                            0.920818  ...                   NaN   \n",
       "0                            0.920818  ...              0.118499   \n",
       "0                            0.839339  ...                   NaN   \n",
       "0                            0.839339  ...              0.127566   \n",
       "\n",
       "   perf_grp_precision_1  perf_grp_false positive rate_0  \\\n",
       "0                   NaN                             NaN   \n",
       "0              0.146779                        0.955041   \n",
       "0                   NaN                             NaN   \n",
       "0              0.171030                        0.844156   \n",
       "\n",
       "   perf_grp_false positive rate_1  perf_grp_false negative rate_0  \\\n",
       "0                             NaN                             NaN   \n",
       "0                        0.867733                        0.014780   \n",
       "0                             NaN                             NaN   \n",
       "0                        0.686307                        0.052787   \n",
       "\n",
       "   perf_grp_false negative rate_1  perf_grp_selection rate_0  \\\n",
       "0                             NaN                        NaN   \n",
       "0                        0.019584                   0.958520   \n",
       "0                             NaN                        NaN   \n",
       "0                        0.070022                   0.856037   \n",
       "\n",
       "   perf_grp_selection rate_1  perf_grp_count_0  perf_grp_count_1  \n",
       "0                        NaN               NaN               NaN  \n",
       "0                   0.882623           20540.0           69170.0  \n",
       "0                        NaN               NaN               NaN  \n",
       "0                   0.718505           20540.0           69170.0  \n",
       "\n",
       "[4 rows x 50 columns]"
      ]
     },
     "execution_count": 72,
     "metadata": {},
     "output_type": "execute_result"
    }
   ],
   "source": [
    "final_output = universe_analysis.generate_final_output(\n",
    "    y_pred_prob=probs_test,\n",
    "    y_test=y_true,\n",
    "    org_test=org_test,\n",
    "    filter_data=filter_sub_universe_data,\n",
    "    cp_metrics_df=cp_metrics_df,\n",
    "    save=True,\n",
    ")\n",
    "final_output"
   ]
  },
  {
   "cell_type": "code",
   "execution_count": null,
   "id": "721ff514-cb11-46f8-b6fc-50392f74b5cb",
   "metadata": {
    "papermill": {
     "duration": 0.033024,
     "end_time": "2025-07-28T10:34:17.027447",
     "exception": false,
     "start_time": "2025-07-28T10:34:16.994423",
     "status": "completed"
    },
    "tags": []
   },
   "outputs": [],
   "source": []
  }
 ],
 "metadata": {
  "celltoolbar": "Tags",
  "kernelspec": {
   "display_name": "Python (CMA Fairness)",
   "language": "python",
   "name": "cma_fair_env"
  },
  "language_info": {
   "codemirror_mode": {
    "name": "ipython",
    "version": 3
   },
   "file_extension": ".py",
   "mimetype": "text/x-python",
   "name": "python",
   "nbconvert_exporter": "python",
   "pygments_lexer": "ipython3",
   "version": "3.10.12"
  },
  "papermill": {
   "default_parameters": {},
   "duration": 58.241944,
   "end_time": "2025-07-28T10:34:17.877778",
   "environment_variables": {},
   "exception": null,
   "input_path": "universe_analysis.ipynb",
   "output_path": "output/runs/11/notebooks/m_11-028e96abac7c651eb94bb8354869bcf6.ipynb",
   "parameters": {
    "output_dir": "output",
    "run_no": "11",
    "seed": "2023",
    "universe": "{\"cutoff\": [\"quantile_0.1\", \"quantile_0.25\"], \"eval_fairness_grouping\": [\"majority-minority\", \"nationality-all\"], \"exclude_features\": \"sex\", \"exclude_subgroups\": \"keep-all\", \"model\": \"elasticnet\", \"scale\": \"scale\", \"training_size\": \"5k\"}",
    "universe_id": "028e96abac7c651eb94bb8354869bcf6"
   },
   "start_time": "2025-07-28T10:33:19.635834",
   "version": "2.6.0"
  }
 },
 "nbformat": 4,
 "nbformat_minor": 5
}