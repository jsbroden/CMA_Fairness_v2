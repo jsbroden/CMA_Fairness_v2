{
 "cells": [
  {
   "cell_type": "code",
   "execution_count": 1,
   "id": "f159f837-637b-42ba-96b5-ec9a68c44524",
   "metadata": {
    "execution": {
     "iopub.execute_input": "2025-07-28T10:33:16.309088Z",
     "iopub.status.busy": "2025-07-28T10:33:16.308405Z",
     "iopub.status.idle": "2025-07-28T10:33:16.322009Z",
     "shell.execute_reply": "2025-07-28T10:33:16.321120Z"
    },
    "papermill": {
     "duration": 0.034821,
     "end_time": "2025-07-28T10:33:16.323665",
     "exception": false,
     "start_time": "2025-07-28T10:33:16.288844",
     "status": "completed"
    },
    "tags": []
   },
   "outputs": [
    {
     "name": "stdout",
     "output_type": "stream",
     "text": [
      "/dss/dsshome1/0C/ra93lal2/cma/CMA_Fairness_v2\n"
     ]
    },
    {
     "name": "stderr",
     "output_type": "stream",
     "text": [
      "/dss/dsshome1/0C/ra93lal2/.local/share/virtualenvs/CMA_Fairness_v2-3j10GkSs/lib/python3.10/site-packages/IPython/core/magics/osm.py:393: UserWarning: This is now an optional IPython functionality, using bookmarks requires you to install the `pickleshare` library.\n",
      "  bkms = self.shell.db.get('bookmarks', {})\n",
      "/dss/dsshome1/0C/ra93lal2/.local/share/virtualenvs/CMA_Fairness_v2-3j10GkSs/lib/python3.10/site-packages/IPython/core/magics/osm.py:417: UserWarning: This is now an optional IPython functionality, setting dhist requires you to install the `pickleshare` library.\n",
      "  self.shell.db['dhist'] = compress_dhist(dhist)[-100:]\n"
     ]
    }
   ],
   "source": [
    "%cd ~/cma/CMA_Fairness_v2"
   ]
  },
  {
   "cell_type": "markdown",
   "id": "de2603b9",
   "metadata": {
    "papermill": {
     "duration": 0.017293,
     "end_time": "2025-07-28T10:33:16.359048",
     "exception": false,
     "start_time": "2025-07-28T10:33:16.341755",
     "status": "completed"
    },
    "tags": []
   },
   "source": [
    "The following cell holds the definition of our parameters, these values can be overriden by rendering the with e.g. the following command:\n",
    "\n",
    "papermill -p alpha 0.2 -p ratio 0.3 universe_analysis.ipynb output/test_run.ipynb"
   ]
  },
  {
   "cell_type": "code",
   "execution_count": 2,
   "id": "a80968a0-40bb-4fa9-85ef-2d5eefb01975",
   "metadata": {
    "execution": {
     "iopub.execute_input": "2025-07-28T10:33:16.395960Z",
     "iopub.status.busy": "2025-07-28T10:33:16.395321Z",
     "iopub.status.idle": "2025-07-28T10:33:16.401108Z",
     "shell.execute_reply": "2025-07-28T10:33:16.400247Z"
    },
    "papermill": {
     "duration": 0.025914,
     "end_time": "2025-07-28T10:33:16.402580",
     "exception": false,
     "start_time": "2025-07-28T10:33:16.376666",
     "status": "completed"
    },
    "tags": []
   },
   "outputs": [
    {
     "name": "stdout",
     "output_type": "stream",
     "text": [
      "Current working directory: /dss/dsshome1/0C/ra93lal2/cma/CMA_Fairness_v2\n"
     ]
    }
   ],
   "source": [
    "import os\n",
    "print(\"Current working directory:\", os.getcwd())"
   ]
  },
  {
   "cell_type": "code",
   "execution_count": 3,
   "id": "2dce4c03",
   "metadata": {
    "execution": {
     "iopub.execute_input": "2025-07-28T10:33:16.440507Z",
     "iopub.status.busy": "2025-07-28T10:33:16.439789Z",
     "iopub.status.idle": "2025-07-28T10:33:16.446072Z",
     "shell.execute_reply": "2025-07-28T10:33:16.445179Z"
    },
    "papermill": {
     "duration": 0.02675,
     "end_time": "2025-07-28T10:33:16.447566",
     "exception": false,
     "start_time": "2025-07-28T10:33:16.420816",
     "status": "completed"
    },
    "tags": [
     "parameters"
    ]
   },
   "outputs": [],
   "source": [
    "run_no = 0\n",
    "universe_id = \"test\"\n",
    "universe = {\n",
    "    \"training_size\": \"2014\", # \"25k\", \"5k\", \"1k\", \"2014\"\n",
    "    \"scale\": \"scale\", # \"scale\", \"do-not-scale\",\n",
    "    #\"stratify_split\": \"target\", # \"none\", \"target\", \"protected-attribute\", \"both\",\n",
    "    \"model\": \"elasticnet\", # \"logreg\", \"penalized_logreg\", \"rf\", \"gbm\", \"elasticnet\"\n",
    "    \"cutoff\": [\"quantile_0.15\", \"quantile_0.30\"],\n",
    "    \"exclude_features\": \"age\", # \"none\", \"nationality\", \"sex\", \"nationality-sex\", \"age\"\n",
    "    \"exclude_subgroups\": \"keep-all\", # \"keep-all\", \"drop-non-german\"\n",
    "    #\"training_sample\": \"restricted\", # \"restricted\", \"full\"\n",
    "    \"eval_fairness_grouping\": [\"majority-minority\", \"nationality-all\"]\n",
    "}\n",
    "\n",
    "output_dir=\"./output\"\n",
    "seed=0"
   ]
  },
  {
   "cell_type": "code",
   "execution_count": 4,
   "id": "79a8c48b",
   "metadata": {
    "execution": {
     "iopub.execute_input": "2025-07-28T10:33:16.486450Z",
     "iopub.status.busy": "2025-07-28T10:33:16.485769Z",
     "iopub.status.idle": "2025-07-28T10:33:16.491244Z",
     "shell.execute_reply": "2025-07-28T10:33:16.490315Z"
    },
    "papermill": {
     "duration": 0.026552,
     "end_time": "2025-07-28T10:33:16.492867",
     "exception": false,
     "start_time": "2025-07-28T10:33:16.466315",
     "status": "completed"
    },
    "tags": [
     "injected-parameters"
    ]
   },
   "outputs": [],
   "source": [
    "# Parameters\n",
    "universe_id = \"34697622877d1a735e285d9ce5bc1c89\"\n",
    "run_no = \"11\"\n",
    "universe = \"{\\\"cutoff\\\": [\\\"quantile_0.1\\\", \\\"quantile_0.25\\\"], \\\"eval_fairness_grouping\\\": [\\\"majority-minority\\\", \\\"nationality-all\\\"], \\\"exclude_features\\\": \\\"nationality\\\", \\\"exclude_subgroups\\\": \\\"drop-non-german\\\", \\\"model\\\": \\\"elasticnet\\\", \\\"scale\\\": \\\"scale\\\", \\\"training_size\\\": \\\"5k\\\"}\"\n",
    "output_dir = \"output\"\n",
    "seed = \"2023\"\n"
   ]
  },
  {
   "cell_type": "code",
   "execution_count": 5,
   "id": "1650acaf",
   "metadata": {
    "execution": {
     "iopub.execute_input": "2025-07-28T10:33:16.531324Z",
     "iopub.status.busy": "2025-07-28T10:33:16.530651Z",
     "iopub.status.idle": "2025-07-28T10:33:16.535615Z",
     "shell.execute_reply": "2025-07-28T10:33:16.534730Z"
    },
    "papermill": {
     "duration": 0.025747,
     "end_time": "2025-07-28T10:33:16.537211",
     "exception": false,
     "start_time": "2025-07-28T10:33:16.511464",
     "status": "completed"
    },
    "tags": []
   },
   "outputs": [],
   "source": [
    "import json\n",
    "# Parse universe into dict if it is passed as a string\n",
    "if isinstance(universe, str):\n",
    "    universe = json.loads(universe)"
   ]
  },
  {
   "cell_type": "code",
   "execution_count": 6,
   "id": "16620c48",
   "metadata": {
    "execution": {
     "iopub.execute_input": "2025-07-28T10:33:16.576129Z",
     "iopub.status.busy": "2025-07-28T10:33:16.575380Z",
     "iopub.status.idle": "2025-07-28T10:33:16.620340Z",
     "shell.execute_reply": "2025-07-28T10:33:16.619412Z"
    },
    "papermill": {
     "duration": 0.066184,
     "end_time": "2025-07-28T10:33:16.622184",
     "exception": false,
     "start_time": "2025-07-28T10:33:16.556000",
     "status": "completed"
    },
    "tags": []
   },
   "outputs": [],
   "source": [
    "# Auto-reload the custom package\n",
    "%load_ext autoreload\n",
    "%autoreload 1\n",
    "%aimport fairness_multiverse"
   ]
  },
  {
   "cell_type": "code",
   "execution_count": 7,
   "id": "01c5c9f3",
   "metadata": {
    "execution": {
     "iopub.execute_input": "2025-07-28T10:33:16.661184Z",
     "iopub.status.busy": "2025-07-28T10:33:16.660545Z",
     "iopub.status.idle": "2025-07-28T10:33:18.676459Z",
     "shell.execute_reply": "2025-07-28T10:33:18.675387Z"
    },
    "papermill": {
     "duration": 2.037585,
     "end_time": "2025-07-28T10:33:18.678499",
     "exception": false,
     "start_time": "2025-07-28T10:33:16.640914",
     "status": "completed"
    },
    "tags": []
   },
   "outputs": [],
   "source": [
    "from fairness_multiverse.universe import UniverseAnalysis\n",
    "\n",
    "universe_analysis = UniverseAnalysis(\n",
    "    run_no = run_no,\n",
    "    universe_id = universe_id,\n",
    "    universe = universe,\n",
    "    output_dir=output_dir,\n",
    ")"
   ]
  },
  {
   "cell_type": "code",
   "execution_count": 8,
   "id": "106241f5",
   "metadata": {
    "execution": {
     "iopub.execute_input": "2025-07-28T10:33:18.723000Z",
     "iopub.status.busy": "2025-07-28T10:33:18.722440Z",
     "iopub.status.idle": "2025-07-28T10:33:18.729369Z",
     "shell.execute_reply": "2025-07-28T10:33:18.728264Z"
    },
    "papermill": {
     "duration": 0.03119,
     "end_time": "2025-07-28T10:33:18.731067",
     "exception": false,
     "start_time": "2025-07-28T10:33:18.699877",
     "status": "completed"
    },
    "tags": []
   },
   "outputs": [
    {
     "name": "stdout",
     "output_type": "stream",
     "text": [
      "Using Seed: 2023\n"
     ]
    }
   ],
   "source": [
    "import numpy as np\n",
    "parsed_seed = int(seed)\n",
    "np.random.seed(parsed_seed)\n",
    "print(f\"Using Seed: {parsed_seed}\")"
   ]
  },
  {
   "cell_type": "markdown",
   "id": "e0ebdc57",
   "metadata": {
    "papermill": {
     "duration": 0.021244,
     "end_time": "2025-07-28T10:33:18.772759",
     "exception": false,
     "start_time": "2025-07-28T10:33:18.751515",
     "status": "completed"
    },
    "tags": []
   },
   "source": [
    "# Loading Data"
   ]
  },
  {
   "cell_type": "markdown",
   "id": "681925a3",
   "metadata": {
    "papermill": {
     "duration": 0.020577,
     "end_time": "2025-07-28T10:33:18.815445",
     "exception": false,
     "start_time": "2025-07-28T10:33:18.794868",
     "status": "completed"
    },
    "tags": []
   },
   "source": [
    "Load siab_train, siab_test, siab_calib and/or \n",
    "load siab_train_features, siab_train_labels"
   ]
  },
  {
   "cell_type": "code",
   "execution_count": 9,
   "id": "f0496b8a",
   "metadata": {
    "execution": {
     "iopub.execute_input": "2025-07-28T10:33:18.859822Z",
     "iopub.status.busy": "2025-07-28T10:33:18.859224Z",
     "iopub.status.idle": "2025-07-28T10:33:32.737840Z",
     "shell.execute_reply": "2025-07-28T10:33:32.736411Z"
    },
    "papermill": {
     "duration": 13.902537,
     "end_time": "2025-07-28T10:33:32.739422",
     "exception": false,
     "start_time": "2025-07-28T10:33:18.836885",
     "status": "completed"
    },
    "tags": []
   },
   "outputs": [
    {
     "name": "stdout",
     "output_type": "stream",
     "text": [
      "Loading SIAB data from cache: data/siab_cached.csv.gz\n"
     ]
    },
    {
     "name": "stdout",
     "output_type": "stream",
     "text": [
      "(643690, 164)\n"
     ]
    }
   ],
   "source": [
    "from pathlib import Path\n",
    "import pandas as pd\n",
    "\n",
    "# File paths\n",
    "raw_file = Path(\"data/raw/siab.csv\")\n",
    "cache_file = Path(\"data/siab_cached.csv.gz\")\n",
    "\n",
    "# Ensure cache directory exists\n",
    "cache_file.parent.mkdir(parents=True, exist_ok=True)\n",
    "\n",
    "# Load with simple caching\n",
    "if cache_file.exists():\n",
    "    print(f\"Loading SIAB data from cache: {cache_file}\")\n",
    "    siab = pd.read_csv(cache_file, compression='gzip')\n",
    "else:\n",
    "    print(f\"Cache not found. Reading raw SIAB data: {raw_file}\")\n",
    "    siab = pd.read_csv(raw_file)\n",
    "    siab.to_csv(cache_file, index=False, compression='gzip')\n",
    "    print(f\"Cached SIAB data to: {cache_file}\")\n",
    "\n",
    "# Now use `siab` DataFrame as needed\n",
    "print(siab.shape)"
   ]
  },
  {
   "cell_type": "code",
   "execution_count": 10,
   "id": "db0ca512-5f53-4dba-abdb-a2888bca41ba",
   "metadata": {
    "execution": {
     "iopub.execute_input": "2025-07-28T10:33:32.780561Z",
     "iopub.status.busy": "2025-07-28T10:33:32.779965Z",
     "iopub.status.idle": "2025-07-28T10:33:32.786046Z",
     "shell.execute_reply": "2025-07-28T10:33:32.785127Z"
    },
    "papermill": {
     "duration": 0.027138,
     "end_time": "2025-07-28T10:33:32.787631",
     "exception": false,
     "start_time": "2025-07-28T10:33:32.760493",
     "status": "completed"
    },
    "tags": []
   },
   "outputs": [],
   "source": [
    "#siab"
   ]
  },
  {
   "cell_type": "code",
   "execution_count": 11,
   "id": "a0edb063",
   "metadata": {
    "execution": {
     "iopub.execute_input": "2025-07-28T10:33:32.827097Z",
     "iopub.status.busy": "2025-07-28T10:33:32.826464Z",
     "iopub.status.idle": "2025-07-28T10:33:32.831806Z",
     "shell.execute_reply": "2025-07-28T10:33:32.830755Z"
    },
    "papermill": {
     "duration": 0.026915,
     "end_time": "2025-07-28T10:33:32.833606",
     "exception": false,
     "start_time": "2025-07-28T10:33:32.806691",
     "status": "completed"
    },
    "tags": []
   },
   "outputs": [],
   "source": [
    "#import pandas as pd\n",
    "#\n",
    "#X_train = pd.read_csv(\"./data/X_train.csv\")\n",
    "#y_train = pd.read_csv(\"./data/y_train.csv\")"
   ]
  },
  {
   "cell_type": "code",
   "execution_count": 12,
   "id": "63d08085",
   "metadata": {
    "execution": {
     "iopub.execute_input": "2025-07-28T10:33:32.872781Z",
     "iopub.status.busy": "2025-07-28T10:33:32.872188Z",
     "iopub.status.idle": "2025-07-28T10:33:32.877744Z",
     "shell.execute_reply": "2025-07-28T10:33:32.876717Z"
    },
    "papermill": {
     "duration": 0.026937,
     "end_time": "2025-07-28T10:33:32.879421",
     "exception": false,
     "start_time": "2025-07-28T10:33:32.852484",
     "status": "completed"
    },
    "tags": []
   },
   "outputs": [],
   "source": [
    "#X_test = pd.read_csv(\"./data/X_test.csv\")\n",
    "#y_true = pd.read_csv(\"./data/y_test.csv\")"
   ]
  },
  {
   "cell_type": "code",
   "execution_count": 13,
   "id": "98a8d0fa-1d3d-4ed8-bb2c-281470e24add",
   "metadata": {
    "execution": {
     "iopub.execute_input": "2025-07-28T10:33:32.918505Z",
     "iopub.status.busy": "2025-07-28T10:33:32.917921Z",
     "iopub.status.idle": "2025-07-28T10:33:32.923593Z",
     "shell.execute_reply": "2025-07-28T10:33:32.922546Z"
    },
    "papermill": {
     "duration": 0.026971,
     "end_time": "2025-07-28T10:33:32.925196",
     "exception": false,
     "start_time": "2025-07-28T10:33:32.898225",
     "status": "completed"
    },
    "tags": []
   },
   "outputs": [],
   "source": [
    "# Calibration data for conformal\n",
    "#X_calib = pd.read_csv(\"./data/X_calib.csv\")\n",
    "#y_calib = pd.read_csv(\"./data/y_calib.csv\")"
   ]
  },
  {
   "cell_type": "markdown",
   "id": "9901737e-04df-44f0-9100-f5ad144ed040",
   "metadata": {
    "papermill": {
     "duration": 0.0183,
     "end_time": "2025-07-28T10:33:32.962720",
     "exception": false,
     "start_time": "2025-07-28T10:33:32.944420",
     "status": "completed"
    },
    "tags": []
   },
   "source": [
    "# Splitting Data and Setting Training Data Size"
   ]
  },
  {
   "cell_type": "code",
   "execution_count": 14,
   "id": "acbc8f7d-8fc8-4e86-8c59-5dcb0f58384b",
   "metadata": {
    "execution": {
     "iopub.execute_input": "2025-07-28T10:33:33.002785Z",
     "iopub.status.busy": "2025-07-28T10:33:33.001716Z",
     "iopub.status.idle": "2025-07-28T10:33:33.013841Z",
     "shell.execute_reply": "2025-07-28T10:33:33.012894Z"
    },
    "papermill": {
     "duration": 0.034029,
     "end_time": "2025-07-28T10:33:33.015349",
     "exception": false,
     "start_time": "2025-07-28T10:33:32.981320",
     "status": "completed"
    },
    "tags": []
   },
   "outputs": [],
   "source": [
    "def sample_by_year(df, training_size, random_state=42):\n",
    "    if training_size == \"2014\":\n",
    "        return df[df[\"year\"] == 2014].reset_index(drop=True)\n",
    "    \n",
    "    size_map = {\n",
    "        \"25k\": 5000,\n",
    "        \"5k\": 1000,\n",
    "        \"1k\": 200\n",
    "    }\n",
    "\n",
    "    if training_size not in size_map:\n",
    "        return df.reset_index(drop=True)  # use all data\n",
    "\n",
    "    n_per_year = size_map[training_size]\n",
    "    grouped = df.groupby(\"year\")\n",
    "    sampled = grouped.apply(lambda x: x.sample(n=min(n_per_year, len(x)), random_state=random_state))\n",
    "    return sampled.reset_index(drop=True)"
   ]
  },
  {
   "cell_type": "code",
   "execution_count": 15,
   "id": "6d931f52-beaf-43ff-9e78-9d44a448d54e",
   "metadata": {
    "execution": {
     "iopub.execute_input": "2025-07-28T10:33:33.054615Z",
     "iopub.status.busy": "2025-07-28T10:33:33.053966Z",
     "iopub.status.idle": "2025-07-28T10:33:33.735839Z",
     "shell.execute_reply": "2025-07-28T10:33:33.734826Z"
    },
    "papermill": {
     "duration": 0.703655,
     "end_time": "2025-07-28T10:33:33.738099",
     "exception": false,
     "start_time": "2025-07-28T10:33:33.034444",
     "status": "completed"
    },
    "tags": []
   },
   "outputs": [],
   "source": [
    "siab_s = sample_by_year(siab, universe[\"training_size\"])"
   ]
  },
  {
   "cell_type": "code",
   "execution_count": 16,
   "id": "5db0a40e-a4e2-4920-be85-b12ae061d70d",
   "metadata": {
    "execution": {
     "iopub.execute_input": "2025-07-28T10:33:33.782995Z",
     "iopub.status.busy": "2025-07-28T10:33:33.782451Z",
     "iopub.status.idle": "2025-07-28T10:33:33.797705Z",
     "shell.execute_reply": "2025-07-28T10:33:33.796685Z"
    },
    "papermill": {
     "duration": 0.039258,
     "end_time": "2025-07-28T10:33:33.799429",
     "exception": false,
     "start_time": "2025-07-28T10:33:33.760171",
     "status": "completed"
    },
    "tags": []
   },
   "outputs": [
    {
     "data": {
      "text/plain": [
       "year\n",
       "2010    1000\n",
       "2011    1000\n",
       "2012    1000\n",
       "2013    1000\n",
       "2014    1000\n",
       "2015    1000\n",
       "2016    1000\n",
       "dtype: int64"
      ]
     },
     "metadata": {},
     "output_type": "display_data"
    }
   ],
   "source": [
    "display(siab_s.groupby(\"year\").size())"
   ]
  },
  {
   "cell_type": "code",
   "execution_count": 17,
   "id": "a561edb4-d032-42cb-8256-22eac1111c64",
   "metadata": {
    "execution": {
     "iopub.execute_input": "2025-07-28T10:33:33.839962Z",
     "iopub.status.busy": "2025-07-28T10:33:33.839051Z",
     "iopub.status.idle": "2025-07-28T10:33:34.092059Z",
     "shell.execute_reply": "2025-07-28T10:33:34.091001Z"
    },
    "papermill": {
     "duration": 0.274998,
     "end_time": "2025-07-28T10:33:34.093959",
     "exception": false,
     "start_time": "2025-07-28T10:33:33.818961",
     "status": "completed"
    },
    "tags": []
   },
   "outputs": [],
   "source": [
    "siab_train = siab_s[siab_s.year < 2015]\n",
    "siab_calib = siab[siab.year == 2015]\n",
    "siab_test = siab[siab.year == 2016]"
   ]
  },
  {
   "cell_type": "code",
   "execution_count": 18,
   "id": "472de16f-c3db-4916-846b-1f0de9cf1746",
   "metadata": {
    "execution": {
     "iopub.execute_input": "2025-07-28T10:33:34.134902Z",
     "iopub.status.busy": "2025-07-28T10:33:34.134011Z",
     "iopub.status.idle": "2025-07-28T10:33:34.142913Z",
     "shell.execute_reply": "2025-07-28T10:33:34.141894Z"
    },
    "papermill": {
     "duration": 0.030946,
     "end_time": "2025-07-28T10:33:34.144619",
     "exception": false,
     "start_time": "2025-07-28T10:33:34.113673",
     "status": "completed"
    },
    "tags": []
   },
   "outputs": [],
   "source": [
    "X_train = siab_train.iloc[:,4:164]\n",
    "y_train = siab_train.iloc[:, [3]]"
   ]
  },
  {
   "cell_type": "code",
   "execution_count": 19,
   "id": "828c96af-f43a-4ed6-ba47-8ac73a47d56c",
   "metadata": {
    "execution": {
     "iopub.execute_input": "2025-07-28T10:33:34.185091Z",
     "iopub.status.busy": "2025-07-28T10:33:34.184442Z",
     "iopub.status.idle": "2025-07-28T10:33:34.241692Z",
     "shell.execute_reply": "2025-07-28T10:33:34.240599Z"
    },
    "papermill": {
     "duration": 0.079179,
     "end_time": "2025-07-28T10:33:34.243358",
     "exception": false,
     "start_time": "2025-07-28T10:33:34.164179",
     "status": "completed"
    },
    "tags": []
   },
   "outputs": [],
   "source": [
    "X_calib = siab_calib.iloc[:,4:164]\n",
    "y_calib = siab_calib.iloc[:, [3]]"
   ]
  },
  {
   "cell_type": "code",
   "execution_count": 20,
   "id": "c34be9c3-6bd6-476e-acd3-845840e303be",
   "metadata": {
    "execution": {
     "iopub.execute_input": "2025-07-28T10:33:34.284545Z",
     "iopub.status.busy": "2025-07-28T10:33:34.283647Z",
     "iopub.status.idle": "2025-07-28T10:33:34.343763Z",
     "shell.execute_reply": "2025-07-28T10:33:34.342769Z"
    },
    "papermill": {
     "duration": 0.082091,
     "end_time": "2025-07-28T10:33:34.345514",
     "exception": false,
     "start_time": "2025-07-28T10:33:34.263423",
     "status": "completed"
    },
    "tags": []
   },
   "outputs": [],
   "source": [
    "X_test = siab_test.iloc[:,4:164]\n",
    "y_true = siab_test.iloc[:, [3]]"
   ]
  },
  {
   "cell_type": "code",
   "execution_count": 21,
   "id": "e6c733c5",
   "metadata": {
    "execution": {
     "iopub.execute_input": "2025-07-28T10:33:34.386153Z",
     "iopub.status.busy": "2025-07-28T10:33:34.385558Z",
     "iopub.status.idle": "2025-07-28T10:33:34.487251Z",
     "shell.execute_reply": "2025-07-28T10:33:34.486304Z"
    },
    "papermill": {
     "duration": 0.123762,
     "end_time": "2025-07-28T10:33:34.489127",
     "exception": false,
     "start_time": "2025-07-28T10:33:34.365365",
     "status": "completed"
    },
    "tags": []
   },
   "outputs": [],
   "source": [
    "# Auxiliary data needed downstream in the pipeline\n",
    "\n",
    "org_train = X_train.copy()\n",
    "org_test = X_test.copy()\n",
    "org_calib = X_calib.copy()"
   ]
  },
  {
   "cell_type": "markdown",
   "id": "0a4a1b33",
   "metadata": {
    "papermill": {
     "duration": 0.01907,
     "end_time": "2025-07-28T10:33:34.528154",
     "exception": false,
     "start_time": "2025-07-28T10:33:34.509084",
     "status": "completed"
    },
    "tags": []
   },
   "source": [
    "# Preprocessing Data"
   ]
  },
  {
   "cell_type": "code",
   "execution_count": 22,
   "id": "ca879031",
   "metadata": {
    "execution": {
     "iopub.execute_input": "2025-07-28T10:33:34.568855Z",
     "iopub.status.busy": "2025-07-28T10:33:34.568003Z",
     "iopub.status.idle": "2025-07-28T10:33:34.574686Z",
     "shell.execute_reply": "2025-07-28T10:33:34.573687Z"
    },
    "papermill": {
     "duration": 0.029076,
     "end_time": "2025-07-28T10:33:34.576290",
     "exception": false,
     "start_time": "2025-07-28T10:33:34.547214",
     "status": "completed"
    },
    "tags": []
   },
   "outputs": [],
   "source": [
    "# EXCLUDE PROTECTED FEATURES\n",
    "# ----------------------\n",
    "# \"exclude_features\": \"none\", # \"nationality\", \"sex\", \"nationality-sex\"\n",
    "\n",
    "excluded_features = universe[\"exclude_features\"].split(\"-\") # split, e.g.: \"nationality-sex\" -> [\"nationality\", \"sex\"]\n",
    "excluded_features_dictionary = {\n",
    "    \"nationality\": [\"maxdeutsch1\", \"maxdeutsch.Missing.\"],\n",
    "    \"sex\": [\"frau1\"],\n",
    "    \"age\": [\"age\"],\n",
    "}\n"
   ]
  },
  {
   "cell_type": "code",
   "execution_count": 23,
   "id": "b745ac60",
   "metadata": {
    "execution": {
     "iopub.execute_input": "2025-07-28T10:33:34.617242Z",
     "iopub.status.busy": "2025-07-28T10:33:34.616556Z",
     "iopub.status.idle": "2025-07-28T10:33:34.622438Z",
     "shell.execute_reply": "2025-07-28T10:33:34.621478Z"
    },
    "papermill": {
     "duration": 0.027958,
     "end_time": "2025-07-28T10:33:34.624132",
     "exception": false,
     "start_time": "2025-07-28T10:33:34.596174",
     "status": "completed"
    },
    "tags": []
   },
   "outputs": [],
   "source": [
    "# Code nice names to column names\n",
    "\n",
    "excluded_features_columns = [\n",
    "    excluded_features_dictionary[f] for f in excluded_features if len(f) > 0 and f != \"none\"\n",
    "]"
   ]
  },
  {
   "cell_type": "code",
   "execution_count": 24,
   "id": "f84f73a2",
   "metadata": {
    "execution": {
     "iopub.execute_input": "2025-07-28T10:33:34.665451Z",
     "iopub.status.busy": "2025-07-28T10:33:34.664623Z",
     "iopub.status.idle": "2025-07-28T10:33:34.671208Z",
     "shell.execute_reply": "2025-07-28T10:33:34.670375Z"
    },
    "papermill": {
     "duration": 0.028681,
     "end_time": "2025-07-28T10:33:34.672816",
     "exception": false,
     "start_time": "2025-07-28T10:33:34.644135",
     "status": "completed"
    },
    "tags": []
   },
   "outputs": [],
   "source": [
    "from utils import flatten_once\n",
    "\n",
    "excluded_features_columns = flatten_once(excluded_features_columns)"
   ]
  },
  {
   "cell_type": "code",
   "execution_count": 25,
   "id": "884dea22",
   "metadata": {
    "execution": {
     "iopub.execute_input": "2025-07-28T10:33:34.714203Z",
     "iopub.status.busy": "2025-07-28T10:33:34.713534Z",
     "iopub.status.idle": "2025-07-28T10:33:34.723159Z",
     "shell.execute_reply": "2025-07-28T10:33:34.722044Z"
    },
    "papermill": {
     "duration": 0.032033,
     "end_time": "2025-07-28T10:33:34.724845",
     "exception": false,
     "start_time": "2025-07-28T10:33:34.692812",
     "status": "completed"
    },
    "tags": []
   },
   "outputs": [
    {
     "name": "stdout",
     "output_type": "stream",
     "text": [
      "Dropping features: ['maxdeutsch1', 'maxdeutsch.Missing.']\n"
     ]
    }
   ],
   "source": [
    "if len(excluded_features_columns) > 0:\n",
    "    print(f\"Dropping features: {excluded_features_columns}\")\n",
    "    X_train.drop(excluded_features_columns, axis=1, inplace=True)"
   ]
  },
  {
   "cell_type": "code",
   "execution_count": 26,
   "id": "95ab8b16",
   "metadata": {
    "execution": {
     "iopub.execute_input": "2025-07-28T10:33:34.766692Z",
     "iopub.status.busy": "2025-07-28T10:33:34.765788Z",
     "iopub.status.idle": "2025-07-28T10:33:34.819580Z",
     "shell.execute_reply": "2025-07-28T10:33:34.818635Z"
    },
    "papermill": {
     "duration": 0.076259,
     "end_time": "2025-07-28T10:33:34.821289",
     "exception": false,
     "start_time": "2025-07-28T10:33:34.745030",
     "status": "completed"
    },
    "tags": []
   },
   "outputs": [
    {
     "name": "stdout",
     "output_type": "stream",
     "text": [
      "Dropping features: ['maxdeutsch1', 'maxdeutsch.Missing.']\n"
     ]
    }
   ],
   "source": [
    "if len(excluded_features_columns) > 0:\n",
    "    print(f\"Dropping features: {excluded_features_columns}\")\n",
    "    X_test.drop(excluded_features_columns, axis=1, inplace=True)"
   ]
  },
  {
   "cell_type": "code",
   "execution_count": 27,
   "id": "1853aaf5-fb9f-46cb-a2b5-8ea4ae2237e4",
   "metadata": {
    "execution": {
     "iopub.execute_input": "2025-07-28T10:33:34.868211Z",
     "iopub.status.busy": "2025-07-28T10:33:34.867501Z",
     "iopub.status.idle": "2025-07-28T10:33:34.917605Z",
     "shell.execute_reply": "2025-07-28T10:33:34.916624Z"
    },
    "papermill": {
     "duration": 0.07568,
     "end_time": "2025-07-28T10:33:34.919558",
     "exception": false,
     "start_time": "2025-07-28T10:33:34.843878",
     "status": "completed"
    },
    "tags": []
   },
   "outputs": [
    {
     "name": "stdout",
     "output_type": "stream",
     "text": [
      "Dropping features: ['maxdeutsch1', 'maxdeutsch.Missing.']\n"
     ]
    }
   ],
   "source": [
    "if len(excluded_features_columns) > 0:\n",
    "    print(f\"Dropping features: {excluded_features_columns}\")\n",
    "    X_calib.drop(excluded_features_columns, axis=1, inplace=True)"
   ]
  },
  {
   "cell_type": "code",
   "execution_count": 28,
   "id": "6727d079-03e5-481e-9d38-292a90b7a0a8",
   "metadata": {
    "execution": {
     "iopub.execute_input": "2025-07-28T10:33:34.966247Z",
     "iopub.status.busy": "2025-07-28T10:33:34.965553Z",
     "iopub.status.idle": "2025-07-28T10:33:34.970860Z",
     "shell.execute_reply": "2025-07-28T10:33:34.969913Z"
    },
    "papermill": {
     "duration": 0.029794,
     "end_time": "2025-07-28T10:33:34.972670",
     "exception": false,
     "start_time": "2025-07-28T10:33:34.942876",
     "status": "completed"
    },
    "tags": []
   },
   "outputs": [],
   "source": [
    "# SPLIT & STRATIFY DATA\n",
    "# ----------------------"
   ]
  },
  {
   "cell_type": "code",
   "execution_count": 29,
   "id": "76c4dc6d",
   "metadata": {
    "execution": {
     "iopub.execute_input": "2025-07-28T10:33:35.019893Z",
     "iopub.status.busy": "2025-07-28T10:33:35.019244Z",
     "iopub.status.idle": "2025-07-28T10:33:35.024874Z",
     "shell.execute_reply": "2025-07-28T10:33:35.023866Z"
    },
    "papermill": {
     "duration": 0.030658,
     "end_time": "2025-07-28T10:33:35.026492",
     "exception": false,
     "start_time": "2025-07-28T10:33:34.995834",
     "status": "completed"
    },
    "tags": []
   },
   "outputs": [],
   "source": [
    "# EXCLUDE CERTAIN SUBGROUPS\n",
    "# ----------------------\n",
    "\n",
    "mode = universe.get(\"exclude_subgroups\", \"keep-all\") \n",
    "# Fetches the exclude_subgroups setting from the universe dict.\n",
    "# Defaults to \"keep-all\" if the key is missing."
   ]
  },
  {
   "cell_type": "code",
   "execution_count": 30,
   "id": "21994072",
   "metadata": {
    "execution": {
     "iopub.execute_input": "2025-07-28T10:33:35.069296Z",
     "iopub.status.busy": "2025-07-28T10:33:35.068326Z",
     "iopub.status.idle": "2025-07-28T10:33:35.075605Z",
     "shell.execute_reply": "2025-07-28T10:33:35.074642Z"
    },
    "papermill": {
     "duration": 0.030269,
     "end_time": "2025-07-28T10:33:35.077310",
     "exception": false,
     "start_time": "2025-07-28T10:33:35.047041",
     "status": "completed"
    },
    "tags": []
   },
   "outputs": [],
   "source": [
    "if mode == \"keep-all\":\n",
    "    keep_mask = pd.Series(True, index=org_train.index)\n",
    "\n",
    "# org_train contains the original feature columns from features_org (in Simson)\n",
    "# features_org contains unprocessed features, for me X_train at beginning ???\n",
    "# For keep-all, creates a boolean Series (keep_mask) of all True, so no rows are removed.\n",
    "\n",
    "elif mode == \"drop-non-german\":\n",
    "    keep_mask = org_train[\"maxdeutsch1\"] == 1 # ??? what about missing values?\n",
    "\n",
    "else:\n",
    "    raise ValueError(f\"Unsupported mode for exclude_subgroups: {mode}\")\n"
   ]
  },
  {
   "cell_type": "code",
   "execution_count": 31,
   "id": "71651440",
   "metadata": {
    "execution": {
     "iopub.execute_input": "2025-07-28T10:33:35.119594Z",
     "iopub.status.busy": "2025-07-28T10:33:35.118880Z",
     "iopub.status.idle": "2025-07-28T10:33:35.126342Z",
     "shell.execute_reply": "2025-07-28T10:33:35.125326Z"
    },
    "papermill": {
     "duration": 0.030217,
     "end_time": "2025-07-28T10:33:35.127980",
     "exception": false,
     "start_time": "2025-07-28T10:33:35.097763",
     "status": "completed"
    },
    "tags": []
   },
   "outputs": [
    {
     "name": "stdout",
     "output_type": "stream",
     "text": [
      "Dropping 657 rows (13.14%) where mode='drop-non-german'\n"
     ]
    }
   ],
   "source": [
    "n_drop = (~keep_mask).sum() # Calculates how many rows are set to be dropped\n",
    "if n_drop > 0:\n",
    "    pct = n_drop / len(keep_mask) * 100\n",
    "    print(f\"Dropping {n_drop} rows ({pct:.2f}%) where mode='{mode}'\")"
   ]
  },
  {
   "cell_type": "code",
   "execution_count": 32,
   "id": "5fb8eee5",
   "metadata": {
    "execution": {
     "iopub.execute_input": "2025-07-28T10:33:35.170512Z",
     "iopub.status.busy": "2025-07-28T10:33:35.169689Z",
     "iopub.status.idle": "2025-07-28T10:33:35.177811Z",
     "shell.execute_reply": "2025-07-28T10:33:35.176728Z"
    },
    "papermill": {
     "duration": 0.030934,
     "end_time": "2025-07-28T10:33:35.179501",
     "exception": false,
     "start_time": "2025-07-28T10:33:35.148567",
     "status": "completed"
    },
    "tags": []
   },
   "outputs": [],
   "source": [
    "X_train = X_train[keep_mask]"
   ]
  },
  {
   "cell_type": "code",
   "execution_count": 33,
   "id": "b202bb3a",
   "metadata": {
    "execution": {
     "iopub.execute_input": "2025-07-28T10:33:35.222479Z",
     "iopub.status.busy": "2025-07-28T10:33:35.221576Z",
     "iopub.status.idle": "2025-07-28T10:33:35.228050Z",
     "shell.execute_reply": "2025-07-28T10:33:35.227136Z"
    },
    "papermill": {
     "duration": 0.029403,
     "end_time": "2025-07-28T10:33:35.229648",
     "exception": false,
     "start_time": "2025-07-28T10:33:35.200245",
     "status": "completed"
    },
    "tags": []
   },
   "outputs": [],
   "source": [
    "y_train = y_train[keep_mask]"
   ]
  },
  {
   "cell_type": "markdown",
   "id": "493e2ac3",
   "metadata": {
    "papermill": {
     "duration": 0.020175,
     "end_time": "2025-07-28T10:33:35.270534",
     "exception": false,
     "start_time": "2025-07-28T10:33:35.250359",
     "status": "completed"
    },
    "tags": []
   },
   "source": [
    "# Model Training"
   ]
  },
  {
   "cell_type": "code",
   "execution_count": 34,
   "id": "679e1268",
   "metadata": {
    "execution": {
     "iopub.execute_input": "2025-07-28T10:33:35.313448Z",
     "iopub.status.busy": "2025-07-28T10:33:35.312464Z",
     "iopub.status.idle": "2025-07-28T10:33:35.428400Z",
     "shell.execute_reply": "2025-07-28T10:33:35.427279Z"
    },
    "papermill": {
     "duration": 0.139628,
     "end_time": "2025-07-28T10:33:35.430447",
     "exception": false,
     "start_time": "2025-07-28T10:33:35.290819",
     "status": "completed"
    },
    "tags": []
   },
   "outputs": [],
   "source": [
    "from sklearn.linear_model import LogisticRegression\n",
    "from sklearn.ensemble import GradientBoostingClassifier, RandomForestClassifier\n",
    "\n",
    "if (universe[\"model\"] == \"logreg\"):\n",
    "    model = LogisticRegression() #penalty=\"none\") #, solver=\"newton-cg\", max_iter=1) # include random_state=19 ?\n",
    "elif (universe[\"model\"] == \"penalized_logreg\"):\n",
    "    model = LogisticRegression(penalty=\"l2\", C=1.0) #, solver=\"newton-cg\", max_iter=1)\n",
    "elif (universe[\"model\"] == \"rf\"):\n",
    "    model = RandomForestClassifier(n_estimators=100, n_jobs=-1)\n",
    "elif (universe[\"model\"] == \"gbm\"):\n",
    "    model = GradientBoostingClassifier()\n",
    "elif (universe[\"model\"] == \"elasticnet\"):\n",
    "    model = LogisticRegression(penalty = 'elasticnet', solver = 'saga', l1_ratio = 0.5, max_iter=5000) # which solver to use?\n",
    "else:\n",
    "    raise \"Unsupported universe.model\""
   ]
  },
  {
   "cell_type": "code",
   "execution_count": 35,
   "id": "0cc8f744",
   "metadata": {
    "execution": {
     "iopub.execute_input": "2025-07-28T10:33:35.474781Z",
     "iopub.status.busy": "2025-07-28T10:33:35.473834Z",
     "iopub.status.idle": "2025-07-28T10:33:35.481322Z",
     "shell.execute_reply": "2025-07-28T10:33:35.480283Z"
    },
    "papermill": {
     "duration": 0.031988,
     "end_time": "2025-07-28T10:33:35.483361",
     "exception": false,
     "start_time": "2025-07-28T10:33:35.451373",
     "status": "completed"
    },
    "tags": []
   },
   "outputs": [],
   "source": [
    "import numpy as np\n",
    "from sklearn.pipeline import Pipeline\n",
    "from sklearn.preprocessing import StandardScaler\n",
    "\n",
    "model = Pipeline([\n",
    "    #(\"continuous_processor\", continuous_processor),\n",
    "    #(\"categorical_preprocessor\", categorical_preprocessor),\n",
    "    (\"scale\", StandardScaler() if universe[\"scale\"] == \"scale\" else None), \n",
    "    (\"model\", model),\n",
    "])"
   ]
  },
  {
   "cell_type": "code",
   "execution_count": 36,
   "id": "9442c04d",
   "metadata": {
    "execution": {
     "iopub.execute_input": "2025-07-28T10:33:35.543356Z",
     "iopub.status.busy": "2025-07-28T10:33:35.542623Z",
     "iopub.status.idle": "2025-07-28T10:33:48.480640Z",
     "shell.execute_reply": "2025-07-28T10:33:48.479704Z"
    },
    "papermill": {
     "duration": 12.969444,
     "end_time": "2025-07-28T10:33:48.482336",
     "exception": false,
     "start_time": "2025-07-28T10:33:35.512892",
     "status": "completed"
    },
    "tags": []
   },
   "outputs": [
    {
     "data": {
      "text/html": [
       "<style>#sk-container-id-1 {color: black;background-color: white;}#sk-container-id-1 pre{padding: 0;}#sk-container-id-1 div.sk-toggleable {background-color: white;}#sk-container-id-1 label.sk-toggleable__label {cursor: pointer;display: block;width: 100%;margin-bottom: 0;padding: 0.3em;box-sizing: border-box;text-align: center;}#sk-container-id-1 label.sk-toggleable__label-arrow:before {content: \"▸\";float: left;margin-right: 0.25em;color: #696969;}#sk-container-id-1 label.sk-toggleable__label-arrow:hover:before {color: black;}#sk-container-id-1 div.sk-estimator:hover label.sk-toggleable__label-arrow:before {color: black;}#sk-container-id-1 div.sk-toggleable__content {max-height: 0;max-width: 0;overflow: hidden;text-align: left;background-color: #f0f8ff;}#sk-container-id-1 div.sk-toggleable__content pre {margin: 0.2em;color: black;border-radius: 0.25em;background-color: #f0f8ff;}#sk-container-id-1 input.sk-toggleable__control:checked~div.sk-toggleable__content {max-height: 200px;max-width: 100%;overflow: auto;}#sk-container-id-1 input.sk-toggleable__control:checked~label.sk-toggleable__label-arrow:before {content: \"▾\";}#sk-container-id-1 div.sk-estimator input.sk-toggleable__control:checked~label.sk-toggleable__label {background-color: #d4ebff;}#sk-container-id-1 div.sk-label input.sk-toggleable__control:checked~label.sk-toggleable__label {background-color: #d4ebff;}#sk-container-id-1 input.sk-hidden--visually {border: 0;clip: rect(1px 1px 1px 1px);clip: rect(1px, 1px, 1px, 1px);height: 1px;margin: -1px;overflow: hidden;padding: 0;position: absolute;width: 1px;}#sk-container-id-1 div.sk-estimator {font-family: monospace;background-color: #f0f8ff;border: 1px dotted black;border-radius: 0.25em;box-sizing: border-box;margin-bottom: 0.5em;}#sk-container-id-1 div.sk-estimator:hover {background-color: #d4ebff;}#sk-container-id-1 div.sk-parallel-item::after {content: \"\";width: 100%;border-bottom: 1px solid gray;flex-grow: 1;}#sk-container-id-1 div.sk-label:hover label.sk-toggleable__label {background-color: #d4ebff;}#sk-container-id-1 div.sk-serial::before {content: \"\";position: absolute;border-left: 1px solid gray;box-sizing: border-box;top: 0;bottom: 0;left: 50%;z-index: 0;}#sk-container-id-1 div.sk-serial {display: flex;flex-direction: column;align-items: center;background-color: white;padding-right: 0.2em;padding-left: 0.2em;position: relative;}#sk-container-id-1 div.sk-item {position: relative;z-index: 1;}#sk-container-id-1 div.sk-parallel {display: flex;align-items: stretch;justify-content: center;background-color: white;position: relative;}#sk-container-id-1 div.sk-item::before, #sk-container-id-1 div.sk-parallel-item::before {content: \"\";position: absolute;border-left: 1px solid gray;box-sizing: border-box;top: 0;bottom: 0;left: 50%;z-index: -1;}#sk-container-id-1 div.sk-parallel-item {display: flex;flex-direction: column;z-index: 1;position: relative;background-color: white;}#sk-container-id-1 div.sk-parallel-item:first-child::after {align-self: flex-end;width: 50%;}#sk-container-id-1 div.sk-parallel-item:last-child::after {align-self: flex-start;width: 50%;}#sk-container-id-1 div.sk-parallel-item:only-child::after {width: 0;}#sk-container-id-1 div.sk-dashed-wrapped {border: 1px dashed gray;margin: 0 0.4em 0.5em 0.4em;box-sizing: border-box;padding-bottom: 0.4em;background-color: white;}#sk-container-id-1 div.sk-label label {font-family: monospace;font-weight: bold;display: inline-block;line-height: 1.2em;}#sk-container-id-1 div.sk-label-container {text-align: center;}#sk-container-id-1 div.sk-container {/* jupyter's `normalize.less` sets `[hidden] { display: none; }` but bootstrap.min.css set `[hidden] { display: none !important; }` so we also need the `!important` here to be able to override the default hidden behavior on the sphinx rendered scikit-learn.org. See: https://github.com/scikit-learn/scikit-learn/issues/21755 */display: inline-block !important;position: relative;}#sk-container-id-1 div.sk-text-repr-fallback {display: none;}</style><div id=\"sk-container-id-1\" class=\"sk-top-container\"><div class=\"sk-text-repr-fallback\"><pre>Pipeline(steps=[(&#x27;scale&#x27;, StandardScaler()),\n",
       "                (&#x27;model&#x27;,\n",
       "                 LogisticRegression(l1_ratio=0.5, max_iter=5000,\n",
       "                                    penalty=&#x27;elasticnet&#x27;, solver=&#x27;saga&#x27;))])</pre><b>In a Jupyter environment, please rerun this cell to show the HTML representation or trust the notebook. <br />On GitHub, the HTML representation is unable to render, please try loading this page with nbviewer.org.</b></div><div class=\"sk-container\" hidden><div class=\"sk-item sk-dashed-wrapped\"><div class=\"sk-label-container\"><div class=\"sk-label sk-toggleable\"><input class=\"sk-toggleable__control sk-hidden--visually\" id=\"sk-estimator-id-1\" type=\"checkbox\" ><label for=\"sk-estimator-id-1\" class=\"sk-toggleable__label sk-toggleable__label-arrow\">Pipeline</label><div class=\"sk-toggleable__content\"><pre>Pipeline(steps=[(&#x27;scale&#x27;, StandardScaler()),\n",
       "                (&#x27;model&#x27;,\n",
       "                 LogisticRegression(l1_ratio=0.5, max_iter=5000,\n",
       "                                    penalty=&#x27;elasticnet&#x27;, solver=&#x27;saga&#x27;))])</pre></div></div></div><div class=\"sk-serial\"><div class=\"sk-item\"><div class=\"sk-estimator sk-toggleable\"><input class=\"sk-toggleable__control sk-hidden--visually\" id=\"sk-estimator-id-2\" type=\"checkbox\" ><label for=\"sk-estimator-id-2\" class=\"sk-toggleable__label sk-toggleable__label-arrow\">StandardScaler</label><div class=\"sk-toggleable__content\"><pre>StandardScaler()</pre></div></div></div><div class=\"sk-item\"><div class=\"sk-estimator sk-toggleable\"><input class=\"sk-toggleable__control sk-hidden--visually\" id=\"sk-estimator-id-3\" type=\"checkbox\" ><label for=\"sk-estimator-id-3\" class=\"sk-toggleable__label sk-toggleable__label-arrow\">LogisticRegression</label><div class=\"sk-toggleable__content\"><pre>LogisticRegression(l1_ratio=0.5, max_iter=5000, penalty=&#x27;elasticnet&#x27;,\n",
       "                   solver=&#x27;saga&#x27;)</pre></div></div></div></div></div></div></div>"
      ],
      "text/plain": [
       "Pipeline(steps=[('scale', StandardScaler()),\n",
       "                ('model',\n",
       "                 LogisticRegression(l1_ratio=0.5, max_iter=5000,\n",
       "                                    penalty='elasticnet', solver='saga'))])"
      ]
     },
     "execution_count": 36,
     "metadata": {},
     "output_type": "execute_result"
    }
   ],
   "source": [
    "model.fit(X_train, y_train.values.ravel())"
   ]
  },
  {
   "cell_type": "code",
   "execution_count": 37,
   "id": "af59f8c0",
   "metadata": {
    "execution": {
     "iopub.execute_input": "2025-07-28T10:33:48.529895Z",
     "iopub.status.busy": "2025-07-28T10:33:48.529130Z",
     "iopub.status.idle": "2025-07-28T10:33:48.534549Z",
     "shell.execute_reply": "2025-07-28T10:33:48.533560Z"
    },
    "papermill": {
     "duration": 0.029202,
     "end_time": "2025-07-28T10:33:48.536236",
     "exception": false,
     "start_time": "2025-07-28T10:33:48.507034",
     "status": "completed"
    },
    "tags": []
   },
   "outputs": [],
   "source": [
    "from fairness_multiverse.universe import predict_w_threshold"
   ]
  },
  {
   "cell_type": "code",
   "execution_count": 38,
   "id": "a7cf2e16",
   "metadata": {
    "execution": {
     "iopub.execute_input": "2025-07-28T10:33:48.581138Z",
     "iopub.status.busy": "2025-07-28T10:33:48.580507Z",
     "iopub.status.idle": "2025-07-28T10:33:48.782296Z",
     "shell.execute_reply": "2025-07-28T10:33:48.781366Z"
    },
    "papermill": {
     "duration": 0.226271,
     "end_time": "2025-07-28T10:33:48.784014",
     "exception": false,
     "start_time": "2025-07-28T10:33:48.557743",
     "status": "completed"
    },
    "tags": []
   },
   "outputs": [
    {
     "data": {
      "text/plain": [
       "0.853472299632148"
      ]
     },
     "execution_count": 38,
     "metadata": {},
     "output_type": "execute_result"
    }
   ],
   "source": [
    "probs_test = model.predict_proba(X_test)\n",
    "\n",
    "'''\n",
    "Below code returns a boolean array (or binary 0/1 array depending on how it’s used) where each element \n",
    "is True if the probability of class 1 is greater than or equal to the threshold, and False otherwise.\n",
    "'''\n",
    "y_pred_default = predict_w_threshold(probs_test, 0.5)\n",
    "\n",
    "from sklearn.metrics import accuracy_score\n",
    "\n",
    "# Naive prediction\n",
    "accuracy_score(y_true = y_true, y_pred = y_pred_default)"
   ]
  },
  {
   "cell_type": "code",
   "execution_count": 39,
   "id": "081964c3",
   "metadata": {
    "execution": {
     "iopub.execute_input": "2025-07-28T10:33:48.830942Z",
     "iopub.status.busy": "2025-07-28T10:33:48.830103Z",
     "iopub.status.idle": "2025-07-28T10:33:49.009897Z",
     "shell.execute_reply": "2025-07-28T10:33:49.008973Z"
    },
    "papermill": {
     "duration": 0.204473,
     "end_time": "2025-07-28T10:33:49.011355",
     "exception": false,
     "start_time": "2025-07-28T10:33:48.806882",
     "status": "completed"
    },
    "tags": []
   },
   "outputs": [
    {
     "data": {
      "text/plain": [
       "array([0, 0, 0, ..., 0, 0, 0])"
      ]
     },
     "execution_count": 39,
     "metadata": {},
     "output_type": "execute_result"
    }
   ],
   "source": [
    "model.predict(X_test)"
   ]
  },
  {
   "cell_type": "markdown",
   "id": "56c9705b",
   "metadata": {
    "papermill": {
     "duration": 0.012305,
     "end_time": "2025-07-28T10:33:49.036630",
     "exception": false,
     "start_time": "2025-07-28T10:33:49.024325",
     "status": "completed"
    },
    "tags": []
   },
   "source": [
    "# Conformal Prediction"
   ]
  },
  {
   "cell_type": "code",
   "execution_count": 40,
   "id": "160ec6ff",
   "metadata": {
    "execution": {
     "iopub.execute_input": "2025-07-28T10:33:49.069851Z",
     "iopub.status.busy": "2025-07-28T10:33:49.068843Z",
     "iopub.status.idle": "2025-07-28T10:33:49.074303Z",
     "shell.execute_reply": "2025-07-28T10:33:49.073363Z"
    },
    "papermill": {
     "duration": 0.02766,
     "end_time": "2025-07-28T10:33:49.076119",
     "exception": false,
     "start_time": "2025-07-28T10:33:49.048459",
     "status": "completed"
    },
    "tags": []
   },
   "outputs": [],
   "source": [
    "# Miscoverage level for conformal prediction (10% allowed error rate => 90% target coverage)\n",
    "alpha = 0.1"
   ]
  },
  {
   "cell_type": "code",
   "execution_count": 41,
   "id": "eadf4555-3dd3-440e-8e35-f82a4ad9f855",
   "metadata": {
    "execution": {
     "iopub.execute_input": "2025-07-28T10:33:49.122449Z",
     "iopub.status.busy": "2025-07-28T10:33:49.121943Z",
     "iopub.status.idle": "2025-07-28T10:33:49.330039Z",
     "shell.execute_reply": "2025-07-28T10:33:49.329015Z"
    },
    "papermill": {
     "duration": 0.233331,
     "end_time": "2025-07-28T10:33:49.332121",
     "exception": false,
     "start_time": "2025-07-28T10:33:49.098790",
     "status": "completed"
    },
    "tags": []
   },
   "outputs": [],
   "source": [
    "probs_calib = model.predict_proba(X_calib)"
   ]
  },
  {
   "cell_type": "code",
   "execution_count": 42,
   "id": "2ed93547-6d5d-4983-9b36-1ecb300da49a",
   "metadata": {
    "execution": {
     "iopub.execute_input": "2025-07-28T10:33:49.384845Z",
     "iopub.status.busy": "2025-07-28T10:33:49.384337Z",
     "iopub.status.idle": "2025-07-28T10:33:49.390343Z",
     "shell.execute_reply": "2025-07-28T10:33:49.389277Z"
    },
    "papermill": {
     "duration": 0.03624,
     "end_time": "2025-07-28T10:33:49.392319",
     "exception": false,
     "start_time": "2025-07-28T10:33:49.356079",
     "status": "completed"
    },
    "tags": []
   },
   "outputs": [],
   "source": [
    "y_calib = y_calib.values.ravel().astype(int)"
   ]
  },
  {
   "cell_type": "code",
   "execution_count": 43,
   "id": "65d1320d-f588-4b38-9072-62af1ae97f7d",
   "metadata": {
    "execution": {
     "iopub.execute_input": "2025-07-28T10:33:49.429698Z",
     "iopub.status.busy": "2025-07-28T10:33:49.429261Z",
     "iopub.status.idle": "2025-07-28T10:33:49.436629Z",
     "shell.execute_reply": "2025-07-28T10:33:49.435568Z"
    },
    "papermill": {
     "duration": 0.022923,
     "end_time": "2025-07-28T10:33:49.438146",
     "exception": false,
     "start_time": "2025-07-28T10:33:49.415223",
     "status": "completed"
    },
    "tags": []
   },
   "outputs": [],
   "source": [
    "from fairness_multiverse.conformal import compute_nc_scores\n",
    "\n",
    "# Compute nonconformity scores on calibration set (1 - probability of true class)\n",
    "nc_scores = compute_nc_scores(probs_calib, y_calib)"
   ]
  },
  {
   "cell_type": "code",
   "execution_count": 44,
   "id": "df3b8ca3-53b7-43d5-9667-7c85da7aeda2",
   "metadata": {
    "execution": {
     "iopub.execute_input": "2025-07-28T10:33:49.487163Z",
     "iopub.status.busy": "2025-07-28T10:33:49.486729Z",
     "iopub.status.idle": "2025-07-28T10:33:49.493825Z",
     "shell.execute_reply": "2025-07-28T10:33:49.493050Z"
    },
    "papermill": {
     "duration": 0.033723,
     "end_time": "2025-07-28T10:33:49.495275",
     "exception": false,
     "start_time": "2025-07-28T10:33:49.461552",
     "status": "completed"
    },
    "tags": []
   },
   "outputs": [],
   "source": [
    "from fairness_multiverse.conformal import find_threshold\n",
    "\n",
    "# Find conformal threshold q_hat for the given alpha (split conformal method)\n",
    "q_hat = find_threshold(nc_scores, alpha)"
   ]
  },
  {
   "cell_type": "code",
   "execution_count": 45,
   "id": "4d29e6c1-0ef6-4aa4-b8fe-4fe79b0d033a",
   "metadata": {
    "execution": {
     "iopub.execute_input": "2025-07-28T10:33:49.545286Z",
     "iopub.status.busy": "2025-07-28T10:33:49.544798Z",
     "iopub.status.idle": "2025-07-28T10:33:49.554108Z",
     "shell.execute_reply": "2025-07-28T10:33:49.553328Z"
    },
    "papermill": {
     "duration": 0.035946,
     "end_time": "2025-07-28T10:33:49.555708",
     "exception": false,
     "start_time": "2025-07-28T10:33:49.519762",
     "status": "completed"
    },
    "tags": []
   },
   "outputs": [
    {
     "data": {
      "text/plain": [
       "0.6833687746936399"
      ]
     },
     "execution_count": 45,
     "metadata": {},
     "output_type": "execute_result"
    }
   ],
   "source": [
    "q_hat"
   ]
  },
  {
   "cell_type": "code",
   "execution_count": 46,
   "id": "92460794-cdac-4be2-ba28-f28c0515a6fb",
   "metadata": {
    "execution": {
     "iopub.execute_input": "2025-07-28T10:33:49.590263Z",
     "iopub.status.busy": "2025-07-28T10:33:49.589826Z",
     "iopub.status.idle": "2025-07-28T10:33:50.578886Z",
     "shell.execute_reply": "2025-07-28T10:33:50.577754Z"
    },
    "papermill": {
     "duration": 1.011656,
     "end_time": "2025-07-28T10:33:50.580875",
     "exception": false,
     "start_time": "2025-07-28T10:33:49.569219",
     "status": "completed"
    },
    "tags": []
   },
   "outputs": [],
   "source": [
    "from fairness_multiverse.conformal import predict_conformal_sets\n",
    "\n",
    "# Generate prediction sets for each test example\n",
    "pred_sets = predict_conformal_sets(model, X_test, q_hat)"
   ]
  },
  {
   "cell_type": "code",
   "execution_count": 47,
   "id": "d90c9a65-e6db-4f5d-80cd-e68fb7e46829",
   "metadata": {
    "execution": {
     "iopub.execute_input": "2025-07-28T10:33:50.628450Z",
     "iopub.status.busy": "2025-07-28T10:33:50.627785Z",
     "iopub.status.idle": "2025-07-28T10:33:50.633803Z",
     "shell.execute_reply": "2025-07-28T10:33:50.632848Z"
    },
    "papermill": {
     "duration": 0.03124,
     "end_time": "2025-07-28T10:33:50.635408",
     "exception": false,
     "start_time": "2025-07-28T10:33:50.604168",
     "status": "completed"
    },
    "tags": []
   },
   "outputs": [],
   "source": [
    "y_true = y_true.squeeze()"
   ]
  },
  {
   "cell_type": "code",
   "execution_count": 48,
   "id": "3a58a54a-1e68-46b9-927a-df01f18aebc8",
   "metadata": {
    "execution": {
     "iopub.execute_input": "2025-07-28T10:33:50.683678Z",
     "iopub.status.busy": "2025-07-28T10:33:50.682893Z",
     "iopub.status.idle": "2025-07-28T10:33:51.648986Z",
     "shell.execute_reply": "2025-07-28T10:33:51.648001Z"
    },
    "papermill": {
     "duration": 0.991713,
     "end_time": "2025-07-28T10:33:51.650569",
     "exception": false,
     "start_time": "2025-07-28T10:33:50.658856",
     "status": "completed"
    },
    "tags": []
   },
   "outputs": [],
   "source": [
    "from fairness_multiverse.conformal import evaluate_sets\n",
    "\n",
    "# Evaluate coverage and average set size on test data\n",
    "metrics = evaluate_sets(pred_sets, y_true)"
   ]
  },
  {
   "cell_type": "markdown",
   "id": "2b569c12-9aaa-4c88-98c9-bbcd0cf3ebb8",
   "metadata": {
    "papermill": {
     "duration": 0.012402,
     "end_time": "2025-07-28T10:33:51.684898",
     "exception": false,
     "start_time": "2025-07-28T10:33:51.672496",
     "status": "completed"
    },
    "tags": []
   },
   "source": [
    "# CP Metrics"
   ]
  },
  {
   "cell_type": "code",
   "execution_count": 49,
   "id": "5ce0a5cb-201f-45a0-ade5-94c7f0bd6095",
   "metadata": {
    "execution": {
     "iopub.execute_input": "2025-07-28T10:33:51.717788Z",
     "iopub.status.busy": "2025-07-28T10:33:51.717298Z",
     "iopub.status.idle": "2025-07-28T10:33:51.723834Z",
     "shell.execute_reply": "2025-07-28T10:33:51.723090Z"
    },
    "papermill": {
     "duration": 0.027114,
     "end_time": "2025-07-28T10:33:51.725219",
     "exception": false,
     "start_time": "2025-07-28T10:33:51.698105",
     "status": "completed"
    },
    "tags": []
   },
   "outputs": [
    {
     "data": {
      "text/plain": [
       "{'coverage': 0.9105896778508528, 'avg_size': 1.1469401404525694}"
      ]
     },
     "execution_count": 49,
     "metadata": {},
     "output_type": "execute_result"
    }
   ],
   "source": [
    "metrics"
   ]
  },
  {
   "cell_type": "code",
   "execution_count": 50,
   "id": "9b9a838d-31c9-430b-ae14-12baee460d17",
   "metadata": {
    "execution": {
     "iopub.execute_input": "2025-07-28T10:33:51.751833Z",
     "iopub.status.busy": "2025-07-28T10:33:51.751314Z",
     "iopub.status.idle": "2025-07-28T10:33:51.767174Z",
     "shell.execute_reply": "2025-07-28T10:33:51.766449Z"
    },
    "papermill": {
     "duration": 0.031602,
     "end_time": "2025-07-28T10:33:51.769338",
     "exception": false,
     "start_time": "2025-07-28T10:33:51.737736",
     "status": "completed"
    },
    "tags": []
   },
   "outputs": [],
   "source": [
    "example_universe = universe.copy()\n",
    "universe_training_size = example_universe.get(\"training_size\")\n",
    "universe_scale = example_universe.get(\"scale\")\n",
    "universe_model = example_universe.get(\"model\")\n",
    "universe_exclude_features = example_universe.get(\"exclude_features\")\n",
    "universe_exclude_subgroups = example_universe.get(\"exclude_subgroups\")"
   ]
  },
  {
   "cell_type": "code",
   "execution_count": 51,
   "id": "f4b6a8ac-9dc0-4245-8a91-5b3b5999c4f9",
   "metadata": {
    "execution": {
     "iopub.execute_input": "2025-07-28T10:33:51.821114Z",
     "iopub.status.busy": "2025-07-28T10:33:51.820654Z",
     "iopub.status.idle": "2025-07-28T10:33:51.827264Z",
     "shell.execute_reply": "2025-07-28T10:33:51.826334Z"
    },
    "papermill": {
     "duration": 0.034452,
     "end_time": "2025-07-28T10:33:51.828763",
     "exception": false,
     "start_time": "2025-07-28T10:33:51.794311",
     "status": "completed"
    },
    "tags": []
   },
   "outputs": [],
   "source": [
    "cp_metrics_dict = {\n",
    "    \"universe_id\": [universe_id],\n",
    "    \"universe_training_size\": [universe_training_size],\n",
    "    \"universe_scale\": [universe_scale],\n",
    "    \"universe_model\": [universe_model],\n",
    "    \"universe_exclude_features\": [universe_exclude_features],\n",
    "    \"universe_exclude_subgroups\": [universe_exclude_subgroups],\n",
    "    \"q_hat\": [q_hat],\n",
    "    \"coverage\": [metrics[\"coverage\"]],\n",
    "    \"avg_size\": [metrics[\"avg_size\"]],\n",
    "}"
   ]
  },
  {
   "cell_type": "code",
   "execution_count": 52,
   "id": "908acbb1-0371-4915-85ca-3fa520d2efe2",
   "metadata": {
    "execution": {
     "iopub.execute_input": "2025-07-28T10:33:51.882305Z",
     "iopub.status.busy": "2025-07-28T10:33:51.881765Z",
     "iopub.status.idle": "2025-07-28T10:33:51.890303Z",
     "shell.execute_reply": "2025-07-28T10:33:51.888937Z"
    },
    "papermill": {
     "duration": 0.037624,
     "end_time": "2025-07-28T10:33:51.892081",
     "exception": false,
     "start_time": "2025-07-28T10:33:51.854457",
     "status": "completed"
    },
    "tags": []
   },
   "outputs": [
    {
     "data": {
      "text/plain": [
       "{'universe_id': ['34697622877d1a735e285d9ce5bc1c89'],\n",
       " 'universe_training_size': ['5k'],\n",
       " 'universe_scale': ['scale'],\n",
       " 'universe_model': ['elasticnet'],\n",
       " 'universe_exclude_features': ['nationality'],\n",
       " 'universe_exclude_subgroups': ['drop-non-german'],\n",
       " 'q_hat': [0.6833687746936399],\n",
       " 'coverage': [0.9105896778508528],\n",
       " 'avg_size': [1.1469401404525694]}"
      ]
     },
     "execution_count": 52,
     "metadata": {},
     "output_type": "execute_result"
    }
   ],
   "source": [
    "cp_metrics_dict"
   ]
  },
  {
   "cell_type": "code",
   "execution_count": 53,
   "id": "33007efc-14e9-4ec6-97ac-56a455c82265",
   "metadata": {
    "execution": {
     "iopub.execute_input": "2025-07-28T10:33:51.926595Z",
     "iopub.status.busy": "2025-07-28T10:33:51.926204Z",
     "iopub.status.idle": "2025-07-28T10:33:51.932284Z",
     "shell.execute_reply": "2025-07-28T10:33:51.931160Z"
    },
    "papermill": {
     "duration": 0.022891,
     "end_time": "2025-07-28T10:33:51.934261",
     "exception": false,
     "start_time": "2025-07-28T10:33:51.911370",
     "status": "completed"
    },
    "tags": []
   },
   "outputs": [],
   "source": [
    "cp_metrics_df = pd.DataFrame(cp_metrics_dict)"
   ]
  },
  {
   "cell_type": "code",
   "execution_count": 54,
   "id": "db12611b-57b2-4910-b9d0-355adfd6e7bf",
   "metadata": {
    "execution": {
     "iopub.execute_input": "2025-07-28T10:33:51.978595Z",
     "iopub.status.busy": "2025-07-28T10:33:51.978185Z",
     "iopub.status.idle": "2025-07-28T10:33:51.993300Z",
     "shell.execute_reply": "2025-07-28T10:33:51.992545Z"
    },
    "papermill": {
     "duration": 0.033841,
     "end_time": "2025-07-28T10:33:51.994925",
     "exception": false,
     "start_time": "2025-07-28T10:33:51.961084",
     "status": "completed"
    },
    "tags": []
   },
   "outputs": [
    {
     "data": {
      "text/html": [
       "<div>\n",
       "<style scoped>\n",
       "    .dataframe tbody tr th:only-of-type {\n",
       "        vertical-align: middle;\n",
       "    }\n",
       "\n",
       "    .dataframe tbody tr th {\n",
       "        vertical-align: top;\n",
       "    }\n",
       "\n",
       "    .dataframe thead th {\n",
       "        text-align: right;\n",
       "    }\n",
       "</style>\n",
       "<table border=\"1\" class=\"dataframe\">\n",
       "  <thead>\n",
       "    <tr style=\"text-align: right;\">\n",
       "      <th></th>\n",
       "      <th>universe_id</th>\n",
       "      <th>universe_training_size</th>\n",
       "      <th>universe_scale</th>\n",
       "      <th>universe_model</th>\n",
       "      <th>universe_exclude_features</th>\n",
       "      <th>universe_exclude_subgroups</th>\n",
       "      <th>q_hat</th>\n",
       "      <th>coverage</th>\n",
       "      <th>avg_size</th>\n",
       "    </tr>\n",
       "  </thead>\n",
       "  <tbody>\n",
       "    <tr>\n",
       "      <th>0</th>\n",
       "      <td>34697622877d1a735e285d9ce5bc1c89</td>\n",
       "      <td>5k</td>\n",
       "      <td>scale</td>\n",
       "      <td>elasticnet</td>\n",
       "      <td>nationality</td>\n",
       "      <td>drop-non-german</td>\n",
       "      <td>0.683369</td>\n",
       "      <td>0.91059</td>\n",
       "      <td>1.14694</td>\n",
       "    </tr>\n",
       "  </tbody>\n",
       "</table>\n",
       "</div>"
      ],
      "text/plain": [
       "                        universe_id universe_training_size universe_scale  \\\n",
       "0  34697622877d1a735e285d9ce5bc1c89                     5k          scale   \n",
       "\n",
       "  universe_model universe_exclude_features universe_exclude_subgroups  \\\n",
       "0     elasticnet               nationality            drop-non-german   \n",
       "\n",
       "      q_hat  coverage  avg_size  \n",
       "0  0.683369   0.91059   1.14694  "
      ]
     },
     "execution_count": 54,
     "metadata": {},
     "output_type": "execute_result"
    }
   ],
   "source": [
    "cp_metrics_df"
   ]
  },
  {
   "cell_type": "code",
   "execution_count": 55,
   "id": "b7fbde55-a0a1-47e4-9af6-fe4a17fa8c61",
   "metadata": {
    "execution": {
     "iopub.execute_input": "2025-07-28T10:33:52.023221Z",
     "iopub.status.busy": "2025-07-28T10:33:52.022235Z",
     "iopub.status.idle": "2025-07-28T10:33:52.029192Z",
     "shell.execute_reply": "2025-07-28T10:33:52.027987Z"
    },
    "papermill": {
     "duration": 0.023276,
     "end_time": "2025-07-28T10:33:52.031256",
     "exception": false,
     "start_time": "2025-07-28T10:33:52.007980",
     "status": "completed"
    },
    "tags": []
   },
   "outputs": [],
   "source": [
    "# Conditional Coverage & looking at subgroups"
   ]
  },
  {
   "cell_type": "code",
   "execution_count": 56,
   "id": "027ae886-68dd-4141-96c7-805a5450e1ef",
   "metadata": {
    "execution": {
     "iopub.execute_input": "2025-07-28T10:33:52.080939Z",
     "iopub.status.busy": "2025-07-28T10:33:52.080293Z",
     "iopub.status.idle": "2025-07-28T10:33:52.354140Z",
     "shell.execute_reply": "2025-07-28T10:33:52.353170Z"
    },
    "papermill": {
     "duration": 0.300195,
     "end_time": "2025-07-28T10:33:52.355963",
     "exception": false,
     "start_time": "2025-07-28T10:33:52.055768",
     "status": "completed"
    },
    "tags": []
   },
   "outputs": [],
   "source": [
    "from fairness_multiverse.conformal import build_cp_groups\n",
    "\n",
    "cp_groups_df = build_cp_groups(pred_sets, y_true, X_test.index, org_test)\n",
    "#needs universe_id and setting"
   ]
  },
  {
   "cell_type": "code",
   "execution_count": 57,
   "id": "01d5802c-663a-4d1f-9d69-e036faaffbf7",
   "metadata": {
    "execution": {
     "iopub.execute_input": "2025-07-28T10:33:52.405108Z",
     "iopub.status.busy": "2025-07-28T10:33:52.404441Z",
     "iopub.status.idle": "2025-07-28T10:33:52.409508Z",
     "shell.execute_reply": "2025-07-28T10:33:52.408465Z"
    },
    "papermill": {
     "duration": 0.031191,
     "end_time": "2025-07-28T10:33:52.411208",
     "exception": false,
     "start_time": "2025-07-28T10:33:52.380017",
     "status": "completed"
    },
    "tags": []
   },
   "outputs": [],
   "source": [
    "#delete\n",
    "#cp_groups_df"
   ]
  },
  {
   "cell_type": "code",
   "execution_count": 58,
   "id": "fa424af1-d1eb-443d-b717-2d279ada8408",
   "metadata": {
    "execution": {
     "iopub.execute_input": "2025-07-28T10:33:52.459715Z",
     "iopub.status.busy": "2025-07-28T10:33:52.459073Z",
     "iopub.status.idle": "2025-07-28T10:33:52.464211Z",
     "shell.execute_reply": "2025-07-28T10:33:52.463277Z"
    },
    "papermill": {
     "duration": 0.03081,
     "end_time": "2025-07-28T10:33:52.465750",
     "exception": false,
     "start_time": "2025-07-28T10:33:52.434940",
     "status": "completed"
    },
    "tags": []
   },
   "outputs": [],
   "source": [
    "#delete\n",
    "#percentage = (cp_groups_df['nongerman_female'] == 1).mean() * 100\n",
    "#print(percentage)\n"
   ]
  },
  {
   "cell_type": "code",
   "execution_count": 59,
   "id": "6cbdab96-b2b2-45af-ad54-d0516db2e28d",
   "metadata": {
    "execution": {
     "iopub.execute_input": "2025-07-28T10:33:52.517249Z",
     "iopub.status.busy": "2025-07-28T10:33:52.516532Z",
     "iopub.status.idle": "2025-07-28T10:33:54.219831Z",
     "shell.execute_reply": "2025-07-28T10:33:54.218713Z"
    },
    "papermill": {
     "duration": 1.730416,
     "end_time": "2025-07-28T10:33:54.221840",
     "exception": false,
     "start_time": "2025-07-28T10:33:52.491424",
     "status": "completed"
    },
    "tags": []
   },
   "outputs": [],
   "source": [
    "# Define covered = 1 if true_label is in the predicted set\n",
    "cp_groups_df['covered'] = cp_groups_df.apply(\n",
    "    lambda r: int(r['true_label'] in r['pred_set']),\n",
    "    axis=1\n",
    ")"
   ]
  },
  {
   "cell_type": "code",
   "execution_count": 60,
   "id": "338ff529-1a6b-4b87-a931-8e4788d52aad",
   "metadata": {
    "execution": {
     "iopub.execute_input": "2025-07-28T10:33:54.276046Z",
     "iopub.status.busy": "2025-07-28T10:33:54.275500Z",
     "iopub.status.idle": "2025-07-28T10:33:54.280638Z",
     "shell.execute_reply": "2025-07-28T10:33:54.279634Z"
    },
    "papermill": {
     "duration": 0.037284,
     "end_time": "2025-07-28T10:33:54.285173",
     "exception": false,
     "start_time": "2025-07-28T10:33:54.247889",
     "status": "completed"
    },
    "tags": []
   },
   "outputs": [],
   "source": [
    "#cp_groups_df"
   ]
  },
  {
   "cell_type": "code",
   "execution_count": 61,
   "id": "90032e27-66df-4540-9169-4e89cfbaa758",
   "metadata": {
    "execution": {
     "iopub.execute_input": "2025-07-28T10:33:54.335710Z",
     "iopub.status.busy": "2025-07-28T10:33:54.335202Z",
     "iopub.status.idle": "2025-07-28T10:33:54.349520Z",
     "shell.execute_reply": "2025-07-28T10:33:54.348513Z"
    },
    "papermill": {
     "duration": 0.042313,
     "end_time": "2025-07-28T10:33:54.351482",
     "exception": false,
     "start_time": "2025-07-28T10:33:54.309169",
     "status": "completed"
    },
    "tags": []
   },
   "outputs": [],
   "source": [
    "subgroups = ['frau1','nongerman','nongerman_male','nongerman_female']\n",
    "\n",
    "# Conditional coverage for subgroup==1\n",
    "cond_coverage = {\n",
    "    g: cp_groups_df.loc[cp_groups_df[g]==1, 'covered'].mean()\n",
    "    for g in subgroups\n",
    "}"
   ]
  },
  {
   "cell_type": "code",
   "execution_count": 62,
   "id": "1e348fb1-b9c3-45bc-ba23-f016827a7e0d",
   "metadata": {
    "execution": {
     "iopub.execute_input": "2025-07-28T10:33:54.403606Z",
     "iopub.status.busy": "2025-07-28T10:33:54.402964Z",
     "iopub.status.idle": "2025-07-28T10:33:54.410427Z",
     "shell.execute_reply": "2025-07-28T10:33:54.409579Z"
    },
    "papermill": {
     "duration": 0.03536,
     "end_time": "2025-07-28T10:33:54.412210",
     "exception": false,
     "start_time": "2025-07-28T10:33:54.376850",
     "status": "completed"
    },
    "tags": []
   },
   "outputs": [
    {
     "data": {
      "text/plain": [
       "{'frau1': 0.9083704003234937,\n",
       " 'nongerman': 0.9122550945938359,\n",
       " 'nongerman_male': 0.9277672701071782,\n",
       " 'nongerman_female': 0.8865871833084947}"
      ]
     },
     "execution_count": 62,
     "metadata": {},
     "output_type": "execute_result"
    }
   ],
   "source": [
    "cond_coverage"
   ]
  },
  {
   "cell_type": "code",
   "execution_count": 63,
   "id": "f5093324-c3dd-4d63-bc4c-8d945e5c8bbb",
   "metadata": {
    "execution": {
     "iopub.execute_input": "2025-07-28T10:33:54.466708Z",
     "iopub.status.busy": "2025-07-28T10:33:54.465958Z",
     "iopub.status.idle": "2025-07-28T10:33:54.474310Z",
     "shell.execute_reply": "2025-07-28T10:33:54.473147Z"
    },
    "papermill": {
     "duration": 0.037872,
     "end_time": "2025-07-28T10:33:54.475910",
     "exception": false,
     "start_time": "2025-07-28T10:33:54.438038",
     "status": "completed"
    },
    "tags": []
   },
   "outputs": [],
   "source": [
    "for subgroup, cov in cond_coverage.items():\n",
    "    cp_metrics_df[f\"cov_{subgroup}\"] = cov"
   ]
  },
  {
   "cell_type": "code",
   "execution_count": 64,
   "id": "6e872e10-dbe5-49e8-b554-5030c98ff75d",
   "metadata": {
    "execution": {
     "iopub.execute_input": "2025-07-28T10:33:54.530439Z",
     "iopub.status.busy": "2025-07-28T10:33:54.529434Z",
     "iopub.status.idle": "2025-07-28T10:33:54.552995Z",
     "shell.execute_reply": "2025-07-28T10:33:54.551736Z"
    },
    "papermill": {
     "duration": 0.053568,
     "end_time": "2025-07-28T10:33:54.554734",
     "exception": false,
     "start_time": "2025-07-28T10:33:54.501166",
     "status": "completed"
    },
    "tags": []
   },
   "outputs": [
    {
     "data": {
      "text/html": [
       "<div>\n",
       "<style scoped>\n",
       "    .dataframe tbody tr th:only-of-type {\n",
       "        vertical-align: middle;\n",
       "    }\n",
       "\n",
       "    .dataframe tbody tr th {\n",
       "        vertical-align: top;\n",
       "    }\n",
       "\n",
       "    .dataframe thead th {\n",
       "        text-align: right;\n",
       "    }\n",
       "</style>\n",
       "<table border=\"1\" class=\"dataframe\">\n",
       "  <thead>\n",
       "    <tr style=\"text-align: right;\">\n",
       "      <th></th>\n",
       "      <th>universe_id</th>\n",
       "      <th>universe_training_size</th>\n",
       "      <th>universe_scale</th>\n",
       "      <th>universe_model</th>\n",
       "      <th>universe_exclude_features</th>\n",
       "      <th>universe_exclude_subgroups</th>\n",
       "      <th>q_hat</th>\n",
       "      <th>coverage</th>\n",
       "      <th>avg_size</th>\n",
       "      <th>cov_frau1</th>\n",
       "      <th>cov_nongerman</th>\n",
       "      <th>cov_nongerman_male</th>\n",
       "      <th>cov_nongerman_female</th>\n",
       "    </tr>\n",
       "  </thead>\n",
       "  <tbody>\n",
       "    <tr>\n",
       "      <th>0</th>\n",
       "      <td>34697622877d1a735e285d9ce5bc1c89</td>\n",
       "      <td>5k</td>\n",
       "      <td>scale</td>\n",
       "      <td>elasticnet</td>\n",
       "      <td>nationality</td>\n",
       "      <td>drop-non-german</td>\n",
       "      <td>0.683369</td>\n",
       "      <td>0.91059</td>\n",
       "      <td>1.14694</td>\n",
       "      <td>0.90837</td>\n",
       "      <td>0.912255</td>\n",
       "      <td>0.927767</td>\n",
       "      <td>0.886587</td>\n",
       "    </tr>\n",
       "  </tbody>\n",
       "</table>\n",
       "</div>"
      ],
      "text/plain": [
       "                        universe_id universe_training_size universe_scale  \\\n",
       "0  34697622877d1a735e285d9ce5bc1c89                     5k          scale   \n",
       "\n",
       "  universe_model universe_exclude_features universe_exclude_subgroups  \\\n",
       "0     elasticnet               nationality            drop-non-german   \n",
       "\n",
       "      q_hat  coverage  avg_size  cov_frau1  cov_nongerman  cov_nongerman_male  \\\n",
       "0  0.683369   0.91059   1.14694    0.90837       0.912255            0.927767   \n",
       "\n",
       "   cov_nongerman_female  \n",
       "0              0.886587  "
      ]
     },
     "execution_count": 64,
     "metadata": {},
     "output_type": "execute_result"
    }
   ],
   "source": [
    "cp_metrics_df"
   ]
  },
  {
   "cell_type": "markdown",
   "id": "33774451",
   "metadata": {
    "papermill": {
     "duration": 0.024515,
     "end_time": "2025-07-28T10:33:54.606893",
     "exception": false,
     "start_time": "2025-07-28T10:33:54.582378",
     "status": "completed"
    },
    "tags": []
   },
   "source": [
    "# (Fairness) Metrics"
   ]
  },
  {
   "cell_type": "code",
   "execution_count": 65,
   "id": "debc5d62",
   "metadata": {
    "execution": {
     "iopub.execute_input": "2025-07-28T10:33:54.659210Z",
     "iopub.status.busy": "2025-07-28T10:33:54.658729Z",
     "iopub.status.idle": "2025-07-28T10:33:54.681649Z",
     "shell.execute_reply": "2025-07-28T10:33:54.680699Z"
    },
    "papermill": {
     "duration": 0.051866,
     "end_time": "2025-07-28T10:33:54.683676",
     "exception": false,
     "start_time": "2025-07-28T10:33:54.631810",
     "status": "completed"
    },
    "tags": []
   },
   "outputs": [],
   "source": [
    "# do I need to include maxdeutsch1.missing?\n",
    "\n",
    "import numpy as np\n",
    "\n",
    "colname_to_bin = \"maxdeutsch1\"\n",
    "majority_value = org_train[colname_to_bin].mode()[0]\n",
    "\n",
    "org_test[\"majmin\"] = np.where(org_test[colname_to_bin] == majority_value, \"majority\", \"minority\")"
   ]
  },
  {
   "cell_type": "code",
   "execution_count": 66,
   "id": "06a50de5",
   "metadata": {
    "execution": {
     "iopub.execute_input": "2025-07-28T10:33:54.735789Z",
     "iopub.status.busy": "2025-07-28T10:33:54.735255Z",
     "iopub.status.idle": "2025-07-28T10:33:57.526858Z",
     "shell.execute_reply": "2025-07-28T10:33:57.525856Z"
    },
    "papermill": {
     "duration": 2.819551,
     "end_time": "2025-07-28T10:33:57.528905",
     "exception": false,
     "start_time": "2025-07-28T10:33:54.709354",
     "status": "completed"
    },
    "tags": []
   },
   "outputs": [],
   "source": [
    "example_universe = universe.copy()\n",
    "example_universe[\"cutoff\"] = example_universe[\"cutoff\"][0]\n",
    "example_universe[\"eval_fairness_grouping\"] = example_universe[\"eval_fairness_grouping\"][0]\n",
    "fairness_dict, metric_frame = universe_analysis.compute_metrics(\n",
    "    example_universe,\n",
    "    y_pred_prob=probs_test,\n",
    "    y_test=y_true,\n",
    "    org_test=org_test,\n",
    ")"
   ]
  },
  {
   "cell_type": "markdown",
   "id": "f95d4e02",
   "metadata": {
    "papermill": {
     "duration": 0.027988,
     "end_time": "2025-07-28T10:33:57.588856",
     "exception": false,
     "start_time": "2025-07-28T10:33:57.560868",
     "status": "completed"
    },
    "tags": []
   },
   "source": [
    "# Overall"
   ]
  },
  {
   "cell_type": "markdown",
   "id": "bdee4871",
   "metadata": {
    "papermill": {
     "duration": 0.013403,
     "end_time": "2025-07-28T10:33:57.630826",
     "exception": false,
     "start_time": "2025-07-28T10:33:57.617423",
     "status": "completed"
    },
    "tags": []
   },
   "source": [
    "Fairness\n",
    "Main fairness target: Equalized Odds. Seems to be a better fit than equal opportunity, since we're not only interested in Y = 1. Seems to be a better fit than demographic parity, since we also care about accuracy, not just equal distribution of preds.\n",
    "\n",
    "Pick column for computation of fairness metrics\n",
    "\n",
    "Performance\n",
    "Overall performance measures, most interesting in relation to the measures split by group below"
   ]
  },
  {
   "cell_type": "code",
   "execution_count": 67,
   "id": "c4e067c6",
   "metadata": {
    "execution": {
     "iopub.execute_input": "2025-07-28T10:33:57.661369Z",
     "iopub.status.busy": "2025-07-28T10:33:57.660173Z",
     "iopub.status.idle": "2025-07-28T10:33:57.670485Z",
     "shell.execute_reply": "2025-07-28T10:33:57.669034Z"
    },
    "papermill": {
     "duration": 0.0284,
     "end_time": "2025-07-28T10:33:57.672648",
     "exception": false,
     "start_time": "2025-07-28T10:33:57.644248",
     "status": "completed"
    },
    "tags": []
   },
   "outputs": [
    {
     "data": {
      "text/plain": [
       "accuracy                   0.223130\n",
       "balanced accuracy          0.545844\n",
       "f1                         0.244496\n",
       "precision                  0.139672\n",
       "false positive rate        0.888238\n",
       "false negative rate        0.020073\n",
       "selection rate             0.900000\n",
       "count                  89710.000000\n",
       "dtype: float64"
      ]
     },
     "execution_count": 67,
     "metadata": {},
     "output_type": "execute_result"
    }
   ],
   "source": [
    "metric_frame.overall"
   ]
  },
  {
   "cell_type": "markdown",
   "id": "e968fe9d",
   "metadata": {
    "papermill": {
     "duration": 0.025489,
     "end_time": "2025-07-28T10:33:57.726137",
     "exception": false,
     "start_time": "2025-07-28T10:33:57.700648",
     "status": "completed"
    },
    "tags": []
   },
   "source": [
    "By Group"
   ]
  },
  {
   "cell_type": "code",
   "execution_count": 68,
   "id": "ec325bce",
   "metadata": {
    "execution": {
     "iopub.execute_input": "2025-07-28T10:33:57.756460Z",
     "iopub.status.busy": "2025-07-28T10:33:57.756113Z",
     "iopub.status.idle": "2025-07-28T10:33:57.769563Z",
     "shell.execute_reply": "2025-07-28T10:33:57.768843Z"
    },
    "papermill": {
     "duration": 0.02904,
     "end_time": "2025-07-28T10:33:57.770970",
     "exception": false,
     "start_time": "2025-07-28T10:33:57.741930",
     "status": "completed"
    },
    "tags": []
   },
   "outputs": [
    {
     "data": {
      "text/html": [
       "<div>\n",
       "<style scoped>\n",
       "    .dataframe tbody tr th:only-of-type {\n",
       "        vertical-align: middle;\n",
       "    }\n",
       "\n",
       "    .dataframe tbody tr th {\n",
       "        vertical-align: top;\n",
       "    }\n",
       "\n",
       "    .dataframe thead th {\n",
       "        text-align: right;\n",
       "    }\n",
       "</style>\n",
       "<table border=\"1\" class=\"dataframe\">\n",
       "  <thead>\n",
       "    <tr style=\"text-align: right;\">\n",
       "      <th></th>\n",
       "      <th>accuracy</th>\n",
       "      <th>balanced accuracy</th>\n",
       "      <th>f1</th>\n",
       "      <th>precision</th>\n",
       "      <th>false positive rate</th>\n",
       "      <th>false negative rate</th>\n",
       "      <th>selection rate</th>\n",
       "      <th>count</th>\n",
       "    </tr>\n",
       "    <tr>\n",
       "      <th>majmin</th>\n",
       "      <th></th>\n",
       "      <th></th>\n",
       "      <th></th>\n",
       "      <th></th>\n",
       "      <th></th>\n",
       "      <th></th>\n",
       "      <th></th>\n",
       "      <th></th>\n",
       "    </tr>\n",
       "  </thead>\n",
       "  <tbody>\n",
       "    <tr>\n",
       "      <th>majority</th>\n",
       "      <td>0.243053</td>\n",
       "      <td>0.554719</td>\n",
       "      <td>0.254606</td>\n",
       "      <td>0.146345</td>\n",
       "      <td>0.868899</td>\n",
       "      <td>0.021663</td>\n",
       "      <td>0.883360</td>\n",
       "      <td>69170.0</td>\n",
       "    </tr>\n",
       "    <tr>\n",
       "      <th>minority</th>\n",
       "      <td>0.156037</td>\n",
       "      <td>0.516970</td>\n",
       "      <td>0.212224</td>\n",
       "      <td>0.118908</td>\n",
       "      <td>0.952124</td>\n",
       "      <td>0.013936</td>\n",
       "      <td>0.956037</td>\n",
       "      <td>20540.0</td>\n",
       "    </tr>\n",
       "  </tbody>\n",
       "</table>\n",
       "</div>"
      ],
      "text/plain": [
       "          accuracy  balanced accuracy        f1  precision  \\\n",
       "majmin                                                       \n",
       "majority  0.243053           0.554719  0.254606   0.146345   \n",
       "minority  0.156037           0.516970  0.212224   0.118908   \n",
       "\n",
       "          false positive rate  false negative rate  selection rate    count  \n",
       "majmin                                                                       \n",
       "majority             0.868899             0.021663        0.883360  69170.0  \n",
       "minority             0.952124             0.013936        0.956037  20540.0  "
      ]
     },
     "execution_count": 68,
     "metadata": {},
     "output_type": "execute_result"
    }
   ],
   "source": [
    "metric_frame.by_group"
   ]
  },
  {
   "cell_type": "code",
   "execution_count": 69,
   "id": "a9ddbe63",
   "metadata": {
    "execution": {
     "iopub.execute_input": "2025-07-28T10:33:57.826353Z",
     "iopub.status.busy": "2025-07-28T10:33:57.825571Z",
     "iopub.status.idle": "2025-07-28T10:34:00.324571Z",
     "shell.execute_reply": "2025-07-28T10:34:00.323538Z"
    },
    "papermill": {
     "duration": 2.533468,
     "end_time": "2025-07-28T10:34:00.326446",
     "exception": false,
     "start_time": "2025-07-28T10:33:57.792978",
     "status": "completed"
    },
    "tags": []
   },
   "outputs": [
    {
     "data": {
      "text/plain": [
       "array([[<Axes: title={'center': 'accuracy'}, xlabel='majmin'>,\n",
       "        <Axes: title={'center': 'balanced accuracy'}, xlabel='majmin'>,\n",
       "        <Axes: title={'center': 'f1'}, xlabel='majmin'>],\n",
       "       [<Axes: title={'center': 'precision'}, xlabel='majmin'>,\n",
       "        <Axes: title={'center': 'false positive rate'}, xlabel='majmin'>,\n",
       "        <Axes: title={'center': 'false negative rate'}, xlabel='majmin'>],\n",
       "       [<Axes: title={'center': 'selection rate'}, xlabel='majmin'>,\n",
       "        <Axes: title={'center': 'count'}, xlabel='majmin'>,\n",
       "        <Axes: xlabel='majmin'>]], dtype=object)"
      ]
     },
     "execution_count": 69,
     "metadata": {},
     "output_type": "execute_result"
    },
    {
     "data": {
      "image/png": "[encoded data removed]",
      "text/plain": [
       "<Figure size 1200x800 with 9 Axes>"
      ]
     },
     "metadata": {},
     "output_type": "display_data"
    }
   ],
   "source": [
    "# In a graphic\n",
    "metric_frame.by_group.plot.bar(\n",
    "    subplots=True,\n",
    "    layout=[3, 3],\n",
    "    legend=False,\n",
    "    figsize=[12, 8],\n",
    "    title=\"Show all metrics\",\n",
    ")"
   ]
  },
  {
   "cell_type": "markdown",
   "id": "f57a0bac",
   "metadata": {
    "papermill": {
     "duration": 0.026354,
     "end_time": "2025-07-28T10:34:00.380912",
     "exception": false,
     "start_time": "2025-07-28T10:34:00.354558",
     "status": "completed"
    },
    "tags": []
   },
   "source": [
    "# Final Output"
   ]
  },
  {
   "cell_type": "code",
   "execution_count": 70,
   "id": "96d280a3",
   "metadata": {
    "execution": {
     "iopub.execute_input": "2025-07-28T10:34:00.437420Z",
     "iopub.status.busy": "2025-07-28T10:34:00.436407Z",
     "iopub.status.idle": "2025-07-28T10:34:00.445246Z",
     "shell.execute_reply": "2025-07-28T10:34:00.444398Z"
    },
    "papermill": {
     "duration": 0.038421,
     "end_time": "2025-07-28T10:34:00.446778",
     "exception": false,
     "start_time": "2025-07-28T10:34:00.408357",
     "status": "completed"
    },
    "tags": []
   },
   "outputs": [
    {
     "data": {
      "text/plain": [
       "4"
      ]
     },
     "execution_count": 70,
     "metadata": {},
     "output_type": "execute_result"
    }
   ],
   "source": [
    "sub_universes = universe_analysis.generate_sub_universes()\n",
    "len(sub_universes)"
   ]
  },
  {
   "cell_type": "code",
   "execution_count": 71,
   "id": "92adf7ba",
   "metadata": {
    "execution": {
     "iopub.execute_input": "2025-07-28T10:34:00.505029Z",
     "iopub.status.busy": "2025-07-28T10:34:00.504112Z",
     "iopub.status.idle": "2025-07-28T10:34:00.510630Z",
     "shell.execute_reply": "2025-07-28T10:34:00.509693Z"
    },
    "papermill": {
     "duration": 0.038302,
     "end_time": "2025-07-28T10:34:00.512296",
     "exception": false,
     "start_time": "2025-07-28T10:34:00.473994",
     "status": "completed"
    },
    "tags": []
   },
   "outputs": [],
   "source": [
    "def filter_sub_universe_data(sub_universe, org_test):\n",
    "    # Keep all rows — no filtering\n",
    "    keep_rows_mask = np.ones(org_test.shape[0], dtype=bool)\n",
    "\n",
    "    print(f\"[INFO] Keeping all rows: {keep_rows_mask.sum()} rows retained.\")\n",
    "    return keep_rows_mask"
   ]
  },
  {
   "cell_type": "code",
   "execution_count": 72,
   "id": "4a759155",
   "metadata": {
    "execution": {
     "iopub.execute_input": "2025-07-28T10:34:00.569209Z",
     "iopub.status.busy": "2025-07-28T10:34:00.568153Z",
     "iopub.status.idle": "2025-07-28T10:34:11.672547Z",
     "shell.execute_reply": "2025-07-28T10:34:11.671564Z"
    },
    "papermill": {
     "duration": 11.134016,
     "end_time": "2025-07-28T10:34:11.674260",
     "exception": false,
     "start_time": "2025-07-28T10:34:00.540244",
     "status": "completed"
    },
    "tags": []
   },
   "outputs": [
    {
     "name": "stdout",
     "output_type": "stream",
     "text": [
      "Stopping execution_time clock.\n",
      "[INFO] Keeping all rows: 89710 rows retained.\n"
     ]
    },
    {
     "name": "stdout",
     "output_type": "stream",
     "text": [
      "[INFO] Keeping all rows: 89710 rows retained.\n"
     ]
    },
    {
     "name": "stdout",
     "output_type": "stream",
     "text": [
      "[INFO] Keeping all rows: 89710 rows retained.\n"
     ]
    },
    {
     "name": "stdout",
     "output_type": "stream",
     "text": [
      "[INFO] Keeping all rows: 89710 rows retained.\n"
     ]
    },
    {
     "data": {
      "text/html": [
       "<div>\n",
       "<style scoped>\n",
       "    .dataframe tbody tr th:only-of-type {\n",
       "        vertical-align: middle;\n",
       "    }\n",
       "\n",
       "    .dataframe tbody tr th {\n",
       "        vertical-align: top;\n",
       "    }\n",
       "\n",
       "    .dataframe thead th {\n",
       "        text-align: right;\n",
       "    }\n",
       "</style>\n",
       "<table border=\"1\" class=\"dataframe\">\n",
       "  <thead>\n",
       "    <tr style=\"text-align: right;\">\n",
       "      <th></th>\n",
       "      <th>run_no</th>\n",
       "      <th>universe_id</th>\n",
       "      <th>universe_settings</th>\n",
       "      <th>execution_time</th>\n",
       "      <th>test_size_n</th>\n",
       "      <th>test_size_frac</th>\n",
       "      <th>fair_main_equalized_odds_difference</th>\n",
       "      <th>fair_main_equalized_odds_ratio</th>\n",
       "      <th>fair_main_demographic_parity_difference</th>\n",
       "      <th>fair_main_demographic_parity_ratio</th>\n",
       "      <th>...</th>\n",
       "      <th>perf_grp_precision_0</th>\n",
       "      <th>perf_grp_precision_1</th>\n",
       "      <th>perf_grp_false positive rate_0</th>\n",
       "      <th>perf_grp_false positive rate_1</th>\n",
       "      <th>perf_grp_false negative rate_0</th>\n",
       "      <th>perf_grp_false negative rate_1</th>\n",
       "      <th>perf_grp_selection rate_0</th>\n",
       "      <th>perf_grp_selection rate_1</th>\n",
       "      <th>perf_grp_count_0</th>\n",
       "      <th>perf_grp_count_1</th>\n",
       "    </tr>\n",
       "  </thead>\n",
       "  <tbody>\n",
       "    <tr>\n",
       "      <th>0</th>\n",
       "      <td>11</td>\n",
       "      <td>34697622877d1a735e285d9ce5bc1c89</td>\n",
       "      <td>{\"cutoff\": \"quantile_0.1\", \"eval_fairness_grou...</td>\n",
       "      <td>41.957802</td>\n",
       "      <td>89710</td>\n",
       "      <td>1.0</td>\n",
       "      <td>0.083225</td>\n",
       "      <td>0.91259</td>\n",
       "      <td>0.072677</td>\n",
       "      <td>0.923981</td>\n",
       "      <td>...</td>\n",
       "      <td>NaN</td>\n",
       "      <td>NaN</td>\n",
       "      <td>NaN</td>\n",
       "      <td>NaN</td>\n",
       "      <td>NaN</td>\n",
       "      <td>NaN</td>\n",
       "      <td>NaN</td>\n",
       "      <td>NaN</td>\n",
       "      <td>NaN</td>\n",
       "      <td>NaN</td>\n",
       "    </tr>\n",
       "    <tr>\n",
       "      <th>0</th>\n",
       "      <td>11</td>\n",
       "      <td>34697622877d1a735e285d9ce5bc1c89</td>\n",
       "      <td>{\"cutoff\": \"quantile_0.1\", \"eval_fairness_grou...</td>\n",
       "      <td>41.957802</td>\n",
       "      <td>89710</td>\n",
       "      <td>1.0</td>\n",
       "      <td>0.083225</td>\n",
       "      <td>0.91259</td>\n",
       "      <td>0.072677</td>\n",
       "      <td>0.923981</td>\n",
       "      <td>...</td>\n",
       "      <td>0.118908</td>\n",
       "      <td>0.146345</td>\n",
       "      <td>0.952124</td>\n",
       "      <td>0.868899</td>\n",
       "      <td>0.013936</td>\n",
       "      <td>0.021663</td>\n",
       "      <td>0.956037</td>\n",
       "      <td>0.883360</td>\n",
       "      <td>20540.0</td>\n",
       "      <td>69170.0</td>\n",
       "    </tr>\n",
       "    <tr>\n",
       "      <th>0</th>\n",
       "      <td>11</td>\n",
       "      <td>34697622877d1a735e285d9ce5bc1c89</td>\n",
       "      <td>{\"cutoff\": \"quantile_0.25\", \"eval_fairness_gro...</td>\n",
       "      <td>41.957802</td>\n",
       "      <td>89710</td>\n",
       "      <td>1.0</td>\n",
       "      <td>0.187218</td>\n",
       "      <td>0.78402</td>\n",
       "      <td>0.164304</td>\n",
       "      <td>0.812583</td>\n",
       "      <td>...</td>\n",
       "      <td>NaN</td>\n",
       "      <td>NaN</td>\n",
       "      <td>NaN</td>\n",
       "      <td>NaN</td>\n",
       "      <td>NaN</td>\n",
       "      <td>NaN</td>\n",
       "      <td>NaN</td>\n",
       "      <td>NaN</td>\n",
       "      <td>NaN</td>\n",
       "      <td>NaN</td>\n",
       "    </tr>\n",
       "    <tr>\n",
       "      <th>0</th>\n",
       "      <td>11</td>\n",
       "      <td>34697622877d1a735e285d9ce5bc1c89</td>\n",
       "      <td>{\"cutoff\": \"quantile_0.25\", \"eval_fairness_gro...</td>\n",
       "      <td>41.957802</td>\n",
       "      <td>89710</td>\n",
       "      <td>1.0</td>\n",
       "      <td>0.187218</td>\n",
       "      <td>0.78402</td>\n",
       "      <td>0.164304</td>\n",
       "      <td>0.812583</td>\n",
       "      <td>...</td>\n",
       "      <td>0.125229</td>\n",
       "      <td>0.172055</td>\n",
       "      <td>0.866828</td>\n",
       "      <td>0.679610</td>\n",
       "      <td>0.047720</td>\n",
       "      <td>0.072429</td>\n",
       "      <td>0.876680</td>\n",
       "      <td>0.712375</td>\n",
       "      <td>20540.0</td>\n",
       "      <td>69170.0</td>\n",
       "    </tr>\n",
       "  </tbody>\n",
       "</table>\n",
       "<p>4 rows × 50 columns</p>\n",
       "</div>"
      ],
      "text/plain": [
       "  run_no                       universe_id  \\\n",
       "0     11  34697622877d1a735e285d9ce5bc1c89   \n",
       "0     11  34697622877d1a735e285d9ce5bc1c89   \n",
       "0     11  34697622877d1a735e285d9ce5bc1c89   \n",
       "0     11  34697622877d1a735e285d9ce5bc1c89   \n",
       "\n",
       "                                   universe_settings  execution_time  \\\n",
       "0  {\"cutoff\": \"quantile_0.1\", \"eval_fairness_grou...       41.957802   \n",
       "0  {\"cutoff\": \"quantile_0.1\", \"eval_fairness_grou...       41.957802   \n",
       "0  {\"cutoff\": \"quantile_0.25\", \"eval_fairness_gro...       41.957802   \n",
       "0  {\"cutoff\": \"quantile_0.25\", \"eval_fairness_gro...       41.957802   \n",
       "\n",
       "   test_size_n  test_size_frac  fair_main_equalized_odds_difference  \\\n",
       "0        89710             1.0                             0.083225   \n",
       "0        89710             1.0                             0.083225   \n",
       "0        89710             1.0                             0.187218   \n",
       "0        89710             1.0                             0.187218   \n",
       "\n",
       "   fair_main_equalized_odds_ratio  fair_main_demographic_parity_difference  \\\n",
       "0                         0.91259                                 0.072677   \n",
       "0                         0.91259                                 0.072677   \n",
       "0                         0.78402                                 0.164304   \n",
       "0                         0.78402                                 0.164304   \n",
       "\n",
       "   fair_main_demographic_parity_ratio  ...  perf_grp_precision_0  \\\n",
       "0                            0.923981  ...                   NaN   \n",
       "0                            0.923981  ...              0.118908   \n",
       "0                            0.812583  ...                   NaN   \n",
       "0                            0.812583  ...              0.125229   \n",
       "\n",
       "   perf_grp_precision_1  perf_grp_false positive rate_0  \\\n",
       "0                   NaN                             NaN   \n",
       "0              0.146345                        0.952124   \n",
       "0                   NaN                             NaN   \n",
       "0              0.172055                        0.866828   \n",
       "\n",
       "   perf_grp_false positive rate_1  perf_grp_false negative rate_0  \\\n",
       "0                             NaN                             NaN   \n",
       "0                        0.868899                        0.013936   \n",
       "0                             NaN                             NaN   \n",
       "0                        0.679610                        0.047720   \n",
       "\n",
       "   perf_grp_false negative rate_1  perf_grp_selection rate_0  \\\n",
       "0                             NaN                        NaN   \n",
       "0                        0.021663                   0.956037   \n",
       "0                             NaN                        NaN   \n",
       "0                        0.072429                   0.876680   \n",
       "\n",
       "   perf_grp_selection rate_1  perf_grp_count_0  perf_grp_count_1  \n",
       "0                        NaN               NaN               NaN  \n",
       "0                   0.883360           20540.0           69170.0  \n",
       "0                        NaN               NaN               NaN  \n",
       "0                   0.712375           20540.0           69170.0  \n",
       "\n",
       "[4 rows x 50 columns]"
      ]
     },
     "execution_count": 72,
     "metadata": {},
     "output_type": "execute_result"
    }
   ],
   "source": [
    "final_output = universe_analysis.generate_final_output(\n",
    "    y_pred_prob=probs_test,\n",
    "    y_test=y_true,\n",
    "    org_test=org_test,\n",
    "    filter_data=filter_sub_universe_data,\n",
    "    cp_metrics_df=cp_metrics_df,\n",
    "    save=True,\n",
    ")\n",
    "final_output"
   ]
  },
  {
   "cell_type": "code",
   "execution_count": null,
   "id": "721ff514-cb11-46f8-b6fc-50392f74b5cb",
   "metadata": {
    "papermill": {
     "duration": 0.029737,
     "end_time": "2025-07-28T10:34:11.736410",
     "exception": false,
     "start_time": "2025-07-28T10:34:11.706673",
     "status": "completed"
    },
    "tags": []
   },
   "outputs": [],
   "source": []
  }
 ],
 "metadata": {
  "celltoolbar": "Tags",
  "kernelspec": {
   "display_name": "Python (CMA Fairness)",
   "language": "python",
   "name": "cma_fair_env"
  },
  "language_info": {
   "codemirror_mode": {
    "name": "ipython",
    "version": 3
   },
   "file_extension": ".py",
   "mimetype": "text/x-python",
   "name": "python",
   "nbconvert_exporter": "python",
   "pygments_lexer": "ipython3",
   "version": "3.10.12"
  },
  "papermill": {
   "default_parameters": {},
   "duration": 57.450765,
   "end_time": "2025-07-28T10:34:12.587023",
   "environment_variables": {},
   "exception": null,
   "input_path": "universe_analysis.ipynb",
   "output_path": "output/runs/11/notebooks/m_11-34697622877d1a735e285d9ce5bc1c89.ipynb",
   "parameters": {
    "output_dir": "output",
    "run_no": "11",
    "seed": "2023",
    "universe": "{\"cutoff\": [\"quantile_0.1\", \"quantile_0.25\"], \"eval_fairness_grouping\": [\"majority-minority\", \"nationality-all\"], \"exclude_features\": \"nationality\", \"exclude_subgroups\": \"drop-non-german\", \"model\": \"elasticnet\", \"scale\": \"scale\", \"training_size\": \"5k\"}",
    "universe_id": "34697622877d1a735e285d9ce5bc1c89"
   },
   "start_time": "2025-07-28T10:33:15.136258",
   "version": "2.6.0"
  }
 },
 "nbformat": 4,
 "nbformat_minor": 5
}