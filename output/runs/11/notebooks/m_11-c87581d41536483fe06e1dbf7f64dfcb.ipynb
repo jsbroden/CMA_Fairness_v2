{
 "cells": [
  {
   "cell_type": "code",
   "execution_count": 1,
   "id": "f159f837-637b-42ba-96b5-ec9a68c44524",
   "metadata": {
    "execution": {
     "iopub.execute_input": "2025-07-28T10:38:48.423895Z",
     "iopub.status.busy": "2025-07-28T10:38:48.423238Z",
     "iopub.status.idle": "2025-07-28T10:38:48.437480Z",
     "shell.execute_reply": "2025-07-28T10:38:48.436551Z"
    },
    "papermill": {
     "duration": 0.035439,
     "end_time": "2025-07-28T10:38:48.439141",
     "exception": false,
     "start_time": "2025-07-28T10:38:48.403702",
     "status": "completed"
    },
    "tags": []
   },
   "outputs": [
    {
     "name": "stdout",
     "output_type": "stream",
     "text": [
      "/dss/dsshome1/0C/ra93lal2/cma/CMA_Fairness_v2\n"
     ]
    },
    {
     "name": "stderr",
     "output_type": "stream",
     "text": [
      "/dss/dsshome1/0C/ra93lal2/.local/share/virtualenvs/CMA_Fairness_v2-3j10GkSs/lib/python3.10/site-packages/IPython/core/magics/osm.py:393: UserWarning: This is now an optional IPython functionality, using bookmarks requires you to install the `pickleshare` library.\n",
      "  bkms = self.shell.db.get('bookmarks', {})\n",
      "/dss/dsshome1/0C/ra93lal2/.local/share/virtualenvs/CMA_Fairness_v2-3j10GkSs/lib/python3.10/site-packages/IPython/core/magics/osm.py:417: UserWarning: This is now an optional IPython functionality, setting dhist requires you to install the `pickleshare` library.\n",
      "  self.shell.db['dhist'] = compress_dhist(dhist)[-100:]\n"
     ]
    }
   ],
   "source": [
    "%cd ~/cma/CMA_Fairness_v2"
   ]
  },
  {
   "cell_type": "markdown",
   "id": "de2603b9",
   "metadata": {
    "papermill": {
     "duration": 0.017807,
     "end_time": "2025-07-28T10:38:48.475453",
     "exception": false,
     "start_time": "2025-07-28T10:38:48.457646",
     "status": "completed"
    },
    "tags": []
   },
   "source": [
    "The following cell holds the definition of our parameters, these values can be overriden by rendering the with e.g. the following command:\n",
    "\n",
    "papermill -p alpha 0.2 -p ratio 0.3 universe_analysis.ipynb output/test_run.ipynb"
   ]
  },
  {
   "cell_type": "code",
   "execution_count": 2,
   "id": "a80968a0-40bb-4fa9-85ef-2d5eefb01975",
   "metadata": {
    "execution": {
     "iopub.execute_input": "2025-07-28T10:38:48.516650Z",
     "iopub.status.busy": "2025-07-28T10:38:48.515925Z",
     "iopub.status.idle": "2025-07-28T10:38:48.521494Z",
     "shell.execute_reply": "2025-07-28T10:38:48.520591Z"
    },
    "papermill": {
     "duration": 0.027996,
     "end_time": "2025-07-28T10:38:48.523072",
     "exception": false,
     "start_time": "2025-07-28T10:38:48.495076",
     "status": "completed"
    },
    "tags": []
   },
   "outputs": [
    {
     "name": "stdout",
     "output_type": "stream",
     "text": [
      "Current working directory: /dss/dsshome1/0C/ra93lal2/cma/CMA_Fairness_v2\n"
     ]
    }
   ],
   "source": [
    "import os\n",
    "print(\"Current working directory:\", os.getcwd())"
   ]
  },
  {
   "cell_type": "code",
   "execution_count": 3,
   "id": "2dce4c03",
   "metadata": {
    "execution": {
     "iopub.execute_input": "2025-07-28T10:38:48.562368Z",
     "iopub.status.busy": "2025-07-28T10:38:48.561692Z",
     "iopub.status.idle": "2025-07-28T10:38:48.568524Z",
     "shell.execute_reply": "2025-07-28T10:38:48.567592Z"
    },
    "papermill": {
     "duration": 0.028426,
     "end_time": "2025-07-28T10:38:48.570210",
     "exception": false,
     "start_time": "2025-07-28T10:38:48.541784",
     "status": "completed"
    },
    "tags": [
     "parameters"
    ]
   },
   "outputs": [],
   "source": [
    "run_no = 0\n",
    "universe_id = \"test\"\n",
    "universe = {\n",
    "    \"training_size\": \"2014\", # \"25k\", \"5k\", \"1k\", \"2014\"\n",
    "    \"scale\": \"scale\", # \"scale\", \"do-not-scale\",\n",
    "    #\"stratify_split\": \"target\", # \"none\", \"target\", \"protected-attribute\", \"both\",\n",
    "    \"model\": \"elasticnet\", # \"logreg\", \"penalized_logreg\", \"rf\", \"gbm\", \"elasticnet\"\n",
    "    \"cutoff\": [\"quantile_0.15\", \"quantile_0.30\"],\n",
    "    \"exclude_features\": \"age\", # \"none\", \"nationality\", \"sex\", \"nationality-sex\", \"age\"\n",
    "    \"exclude_subgroups\": \"keep-all\", # \"keep-all\", \"drop-non-german\"\n",
    "    \"eval_fairness_grouping\": [\"majority-minority\", \"nationality-all\"]\n",
    "}\n",
    "\n",
    "output_dir=\"./output\"\n",
    "seed=0"
   ]
  },
  {
   "cell_type": "code",
   "execution_count": 4,
   "id": "68d686db",
   "metadata": {
    "execution": {
     "iopub.execute_input": "2025-07-28T10:38:48.610443Z",
     "iopub.status.busy": "2025-07-28T10:38:48.609782Z",
     "iopub.status.idle": "2025-07-28T10:38:48.615285Z",
     "shell.execute_reply": "2025-07-28T10:38:48.614156Z"
    },
    "papermill": {
     "duration": 0.026858,
     "end_time": "2025-07-28T10:38:48.616960",
     "exception": false,
     "start_time": "2025-07-28T10:38:48.590102",
     "status": "completed"
    },
    "tags": [
     "injected-parameters"
    ]
   },
   "outputs": [],
   "source": [
    "# Parameters\n",
    "universe_id = \"c87581d41536483fe06e1dbf7f64dfcb\"\n",
    "run_no = \"11\"\n",
    "universe = \"{\\\"cutoff\\\": [\\\"quantile_0.1\\\", \\\"quantile_0.25\\\"], \\\"eval_fairness_grouping\\\": [\\\"majority-minority\\\", \\\"nationality-all\\\"], \\\"exclude_features\\\": \\\"age\\\", \\\"exclude_subgroups\\\": \\\"keep-all\\\", \\\"model\\\": \\\"gbm\\\", \\\"scale\\\": \\\"do-not-scale\\\", \\\"training_size\\\": \\\"5k\\\"}\"\n",
    "output_dir = \"output\"\n",
    "seed = \"2023\"\n"
   ]
  },
  {
   "cell_type": "code",
   "execution_count": 5,
   "id": "1650acaf",
   "metadata": {
    "execution": {
     "iopub.execute_input": "2025-07-28T10:38:48.657717Z",
     "iopub.status.busy": "2025-07-28T10:38:48.656997Z",
     "iopub.status.idle": "2025-07-28T10:38:48.662393Z",
     "shell.execute_reply": "2025-07-28T10:38:48.661409Z"
    },
    "papermill": {
     "duration": 0.027681,
     "end_time": "2025-07-28T10:38:48.664093",
     "exception": false,
     "start_time": "2025-07-28T10:38:48.636412",
     "status": "completed"
    },
    "tags": []
   },
   "outputs": [],
   "source": [
    "import json\n",
    "# Parse universe into dict if it is passed as a string\n",
    "if isinstance(universe, str):\n",
    "    universe = json.loads(universe)"
   ]
  },
  {
   "cell_type": "code",
   "execution_count": 6,
   "id": "16620c48",
   "metadata": {
    "execution": {
     "iopub.execute_input": "2025-07-28T10:38:48.705559Z",
     "iopub.status.busy": "2025-07-28T10:38:48.704912Z",
     "iopub.status.idle": "2025-07-28T10:38:48.751430Z",
     "shell.execute_reply": "2025-07-28T10:38:48.750561Z"
    },
    "papermill": {
     "duration": 0.069151,
     "end_time": "2025-07-28T10:38:48.753371",
     "exception": false,
     "start_time": "2025-07-28T10:38:48.684220",
     "status": "completed"
    },
    "tags": []
   },
   "outputs": [],
   "source": [
    "# Auto-reload the custom package\n",
    "%load_ext autoreload\n",
    "%autoreload 1\n",
    "%aimport fairness_multiverse"
   ]
  },
  {
   "cell_type": "code",
   "execution_count": 7,
   "id": "01c5c9f3",
   "metadata": {
    "execution": {
     "iopub.execute_input": "2025-07-28T10:38:48.795750Z",
     "iopub.status.busy": "2025-07-28T10:38:48.795106Z",
     "iopub.status.idle": "2025-07-28T10:38:50.854897Z",
     "shell.execute_reply": "2025-07-28T10:38:50.853525Z"
    },
    "papermill": {
     "duration": 2.083088,
     "end_time": "2025-07-28T10:38:50.857118",
     "exception": false,
     "start_time": "2025-07-28T10:38:48.774030",
     "status": "completed"
    },
    "tags": []
   },
   "outputs": [],
   "source": [
    "from fairness_multiverse.universe import UniverseAnalysis\n",
    "\n",
    "universe_analysis = UniverseAnalysis(\n",
    "    run_no = run_no,\n",
    "    universe_id = universe_id,\n",
    "    universe = universe,\n",
    "    output_dir=output_dir,\n",
    ")"
   ]
  },
  {
   "cell_type": "code",
   "execution_count": 8,
   "id": "106241f5",
   "metadata": {
    "execution": {
     "iopub.execute_input": "2025-07-28T10:38:50.900371Z",
     "iopub.status.busy": "2025-07-28T10:38:50.899718Z",
     "iopub.status.idle": "2025-07-28T10:38:50.907640Z",
     "shell.execute_reply": "2025-07-28T10:38:50.906800Z"
    },
    "papermill": {
     "duration": 0.031063,
     "end_time": "2025-07-28T10:38:50.909037",
     "exception": false,
     "start_time": "2025-07-28T10:38:50.877974",
     "status": "completed"
    },
    "tags": []
   },
   "outputs": [
    {
     "name": "stdout",
     "output_type": "stream",
     "text": [
      "Using Seed: 2023\n"
     ]
    }
   ],
   "source": [
    "import numpy as np\n",
    "parsed_seed = int(seed)\n",
    "np.random.seed(parsed_seed)\n",
    "print(f\"Using Seed: {parsed_seed}\")"
   ]
  },
  {
   "cell_type": "markdown",
   "id": "e0ebdc57",
   "metadata": {
    "papermill": {
     "duration": 0.010301,
     "end_time": "2025-07-28T10:38:50.930356",
     "exception": false,
     "start_time": "2025-07-28T10:38:50.920055",
     "status": "completed"
    },
    "tags": []
   },
   "source": [
    "# Loading Data"
   ]
  },
  {
   "cell_type": "markdown",
   "id": "681925a3",
   "metadata": {
    "papermill": {
     "duration": 0.010348,
     "end_time": "2025-07-28T10:38:50.950784",
     "exception": false,
     "start_time": "2025-07-28T10:38:50.940436",
     "status": "completed"
    },
    "tags": []
   },
   "source": [
    "Load siab_train, siab_test, siab_calib and/or \n",
    "load siab_train_features, siab_train_labels"
   ]
  },
  {
   "cell_type": "code",
   "execution_count": 9,
   "id": "f0496b8a",
   "metadata": {
    "execution": {
     "iopub.execute_input": "2025-07-28T10:38:50.973038Z",
     "iopub.status.busy": "2025-07-28T10:38:50.972471Z",
     "iopub.status.idle": "2025-07-28T10:39:03.875667Z",
     "shell.execute_reply": "2025-07-28T10:39:03.874405Z"
    },
    "papermill": {
     "duration": 12.916677,
     "end_time": "2025-07-28T10:39:03.877616",
     "exception": false,
     "start_time": "2025-07-28T10:38:50.960939",
     "status": "completed"
    },
    "tags": []
   },
   "outputs": [
    {
     "name": "stdout",
     "output_type": "stream",
     "text": [
      "Loading SIAB data from cache: data/siab_cached.csv.gz\n"
     ]
    },
    {
     "name": "stdout",
     "output_type": "stream",
     "text": [
      "(643690, 164)\n"
     ]
    }
   ],
   "source": [
    "from pathlib import Path\n",
    "import pandas as pd\n",
    "\n",
    "# File paths\n",
    "raw_file = Path(\"data/raw/siab.csv\")\n",
    "cache_file = Path(\"data/siab_cached.csv.gz\")\n",
    "\n",
    "# Ensure cache directory exists\n",
    "cache_file.parent.mkdir(parents=True, exist_ok=True)\n",
    "\n",
    "# Load with simple caching\n",
    "if cache_file.exists():\n",
    "    print(f\"Loading SIAB data from cache: {cache_file}\")\n",
    "    siab = pd.read_csv(cache_file, compression='gzip')\n",
    "else:\n",
    "    print(f\"Cache not found. Reading raw SIAB data: {raw_file}\")\n",
    "    siab = pd.read_csv(raw_file)\n",
    "    siab.to_csv(cache_file, index=False, compression='gzip')\n",
    "    print(f\"Cached SIAB data to: {cache_file}\")\n",
    "\n",
    "# Now use `siab` DataFrame as needed\n",
    "print(siab.shape)"
   ]
  },
  {
   "cell_type": "code",
   "execution_count": 10,
   "id": "db0ca512-5f53-4dba-abdb-a2888bca41ba",
   "metadata": {
    "execution": {
     "iopub.execute_input": "2025-07-28T10:39:03.925769Z",
     "iopub.status.busy": "2025-07-28T10:39:03.925334Z",
     "iopub.status.idle": "2025-07-28T10:39:03.929977Z",
     "shell.execute_reply": "2025-07-28T10:39:03.929273Z"
    },
    "papermill": {
     "duration": 0.026806,
     "end_time": "2025-07-28T10:39:03.931463",
     "exception": false,
     "start_time": "2025-07-28T10:39:03.904657",
     "status": "completed"
    },
    "tags": []
   },
   "outputs": [],
   "source": [
    "#siab"
   ]
  },
  {
   "cell_type": "code",
   "execution_count": 11,
   "id": "a0edb063",
   "metadata": {
    "execution": {
     "iopub.execute_input": "2025-07-28T10:39:03.973260Z",
     "iopub.status.busy": "2025-07-28T10:39:03.972550Z",
     "iopub.status.idle": "2025-07-28T10:39:03.977083Z",
     "shell.execute_reply": "2025-07-28T10:39:03.976111Z"
    },
    "papermill": {
     "duration": 0.027257,
     "end_time": "2025-07-28T10:39:03.979067",
     "exception": false,
     "start_time": "2025-07-28T10:39:03.951810",
     "status": "completed"
    },
    "tags": []
   },
   "outputs": [],
   "source": [
    "#import pandas as pd\n",
    "#\n",
    "#X_train = pd.read_csv(\"./data/X_train.csv\")\n",
    "#y_train = pd.read_csv(\"./data/y_train.csv\")"
   ]
  },
  {
   "cell_type": "code",
   "execution_count": 12,
   "id": "63d08085",
   "metadata": {
    "execution": {
     "iopub.execute_input": "2025-07-28T10:39:04.021486Z",
     "iopub.status.busy": "2025-07-28T10:39:04.020780Z",
     "iopub.status.idle": "2025-07-28T10:39:04.025687Z",
     "shell.execute_reply": "2025-07-28T10:39:04.024778Z"
    },
    "papermill": {
     "duration": 0.028106,
     "end_time": "2025-07-28T10:39:04.027238",
     "exception": false,
     "start_time": "2025-07-28T10:39:03.999132",
     "status": "completed"
    },
    "tags": []
   },
   "outputs": [],
   "source": [
    "#X_test = pd.read_csv(\"./data/X_test.csv\")\n",
    "#y_true = pd.read_csv(\"./data/y_test.csv\")"
   ]
  },
  {
   "cell_type": "code",
   "execution_count": 13,
   "id": "98a8d0fa-1d3d-4ed8-bb2c-281470e24add",
   "metadata": {
    "execution": {
     "iopub.execute_input": "2025-07-28T10:39:04.070358Z",
     "iopub.status.busy": "2025-07-28T10:39:04.069895Z",
     "iopub.status.idle": "2025-07-28T10:39:04.075117Z",
     "shell.execute_reply": "2025-07-28T10:39:04.074038Z"
    },
    "papermill": {
     "duration": 0.041395,
     "end_time": "2025-07-28T10:39:04.089139",
     "exception": false,
     "start_time": "2025-07-28T10:39:04.047744",
     "status": "completed"
    },
    "tags": []
   },
   "outputs": [],
   "source": [
    "# Calibration data for conformal\n",
    "#X_calib = pd.read_csv(\"./data/X_calib.csv\")\n",
    "#y_calib = pd.read_csv(\"./data/y_calib.csv\")"
   ]
  },
  {
   "cell_type": "markdown",
   "id": "9901737e-04df-44f0-9100-f5ad144ed040",
   "metadata": {
    "papermill": {
     "duration": 0.019491,
     "end_time": "2025-07-28T10:39:04.134240",
     "exception": false,
     "start_time": "2025-07-28T10:39:04.114749",
     "status": "completed"
    },
    "tags": []
   },
   "source": [
    "# Splitting Data and Setting Training Data Size"
   ]
  },
  {
   "cell_type": "code",
   "execution_count": 14,
   "id": "acbc8f7d-8fc8-4e86-8c59-5dcb0f58384b",
   "metadata": {
    "execution": {
     "iopub.execute_input": "2025-07-28T10:39:04.174480Z",
     "iopub.status.busy": "2025-07-28T10:39:04.173639Z",
     "iopub.status.idle": "2025-07-28T10:39:04.181948Z",
     "shell.execute_reply": "2025-07-28T10:39:04.181055Z"
    },
    "papermill": {
     "duration": 0.030329,
     "end_time": "2025-07-28T10:39:04.183616",
     "exception": false,
     "start_time": "2025-07-28T10:39:04.153287",
     "status": "completed"
    },
    "tags": []
   },
   "outputs": [],
   "source": [
    "def sample_by_year(df, training_size, random_state=42):\n",
    "    if training_size == \"2014\":\n",
    "        return df[df[\"year\"] == 2014].reset_index(drop=True)\n",
    "    \n",
    "    size_map = {\n",
    "        \"25k\": 5000,\n",
    "        \"5k\": 1000,\n",
    "        \"1k\": 200\n",
    "    }\n",
    "\n",
    "    if training_size not in size_map:\n",
    "        return df.reset_index(drop=True)  # use all data\n",
    "\n",
    "    n_per_year = size_map[training_size]\n",
    "    grouped = df.groupby(\"year\")\n",
    "    sampled = grouped.apply(lambda x: x.sample(n=min(n_per_year, len(x)), random_state=random_state))\n",
    "    return sampled.reset_index(drop=True)"
   ]
  },
  {
   "cell_type": "code",
   "execution_count": 15,
   "id": "6d931f52-beaf-43ff-9e78-9d44a448d54e",
   "metadata": {
    "execution": {
     "iopub.execute_input": "2025-07-28T10:39:04.227200Z",
     "iopub.status.busy": "2025-07-28T10:39:04.226536Z",
     "iopub.status.idle": "2025-07-28T10:39:04.875998Z",
     "shell.execute_reply": "2025-07-28T10:39:04.874992Z"
    },
    "papermill": {
     "duration": 0.674052,
     "end_time": "2025-07-28T10:39:04.878348",
     "exception": false,
     "start_time": "2025-07-28T10:39:04.204296",
     "status": "completed"
    },
    "tags": []
   },
   "outputs": [],
   "source": [
    "siab_s = sample_by_year(siab, universe[\"training_size\"])"
   ]
  },
  {
   "cell_type": "code",
   "execution_count": 16,
   "id": "5db0a40e-a4e2-4920-be85-b12ae061d70d",
   "metadata": {
    "execution": {
     "iopub.execute_input": "2025-07-28T10:39:04.922019Z",
     "iopub.status.busy": "2025-07-28T10:39:04.921504Z",
     "iopub.status.idle": "2025-07-28T10:39:04.936611Z",
     "shell.execute_reply": "2025-07-28T10:39:04.935583Z"
    },
    "papermill": {
     "duration": 0.03817,
     "end_time": "2025-07-28T10:39:04.938331",
     "exception": false,
     "start_time": "2025-07-28T10:39:04.900161",
     "status": "completed"
    },
    "tags": []
   },
   "outputs": [
    {
     "data": {
      "text/plain": [
       "year\n",
       "2010    1000\n",
       "2011    1000\n",
       "2012    1000\n",
       "2013    1000\n",
       "2014    1000\n",
       "2015    1000\n",
       "2016    1000\n",
       "dtype: int64"
      ]
     },
     "metadata": {},
     "output_type": "display_data"
    }
   ],
   "source": [
    "display(siab_s.groupby(\"year\").size())"
   ]
  },
  {
   "cell_type": "code",
   "execution_count": 17,
   "id": "a561edb4-d032-42cb-8256-22eac1111c64",
   "metadata": {
    "execution": {
     "iopub.execute_input": "2025-07-28T10:39:04.980648Z",
     "iopub.status.busy": "2025-07-28T10:39:04.979980Z",
     "iopub.status.idle": "2025-07-28T10:39:05.253191Z",
     "shell.execute_reply": "2025-07-28T10:39:05.252169Z"
    },
    "papermill": {
     "duration": 0.295686,
     "end_time": "2025-07-28T10:39:05.255130",
     "exception": false,
     "start_time": "2025-07-28T10:39:04.959444",
     "status": "completed"
    },
    "tags": []
   },
   "outputs": [],
   "source": [
    "siab_train = siab_s[siab_s.year < 2015]\n",
    "siab_calib = siab[siab.year == 2015]\n",
    "siab_test = siab[siab.year == 2016]"
   ]
  },
  {
   "cell_type": "code",
   "execution_count": 18,
   "id": "472de16f-c3db-4916-846b-1f0de9cf1746",
   "metadata": {
    "execution": {
     "iopub.execute_input": "2025-07-28T10:39:05.297561Z",
     "iopub.status.busy": "2025-07-28T10:39:05.296888Z",
     "iopub.status.idle": "2025-07-28T10:39:05.305087Z",
     "shell.execute_reply": "2025-07-28T10:39:05.304100Z"
    },
    "papermill": {
     "duration": 0.031185,
     "end_time": "2025-07-28T10:39:05.306781",
     "exception": false,
     "start_time": "2025-07-28T10:39:05.275596",
     "status": "completed"
    },
    "tags": []
   },
   "outputs": [],
   "source": [
    "X_train = siab_train.iloc[:,4:164]\n",
    "y_train = siab_train.iloc[:, [3]]"
   ]
  },
  {
   "cell_type": "code",
   "execution_count": 19,
   "id": "828c96af-f43a-4ed6-ba47-8ac73a47d56c",
   "metadata": {
    "execution": {
     "iopub.execute_input": "2025-07-28T10:39:05.350616Z",
     "iopub.status.busy": "2025-07-28T10:39:05.350170Z",
     "iopub.status.idle": "2025-07-28T10:39:05.387324Z",
     "shell.execute_reply": "2025-07-28T10:39:05.386275Z"
    },
    "papermill": {
     "duration": 0.0607,
     "end_time": "2025-07-28T10:39:05.388982",
     "exception": false,
     "start_time": "2025-07-28T10:39:05.328282",
     "status": "completed"
    },
    "tags": []
   },
   "outputs": [],
   "source": [
    "X_calib = siab_calib.iloc[:,4:164]\n",
    "y_calib = siab_calib.iloc[:, [3]]"
   ]
  },
  {
   "cell_type": "code",
   "execution_count": 20,
   "id": "c34be9c3-6bd6-476e-acd3-845840e303be",
   "metadata": {
    "execution": {
     "iopub.execute_input": "2025-07-28T10:39:05.430962Z",
     "iopub.status.busy": "2025-07-28T10:39:05.430471Z",
     "iopub.status.idle": "2025-07-28T10:39:05.486093Z",
     "shell.execute_reply": "2025-07-28T10:39:05.485029Z"
    },
    "papermill": {
     "duration": 0.078329,
     "end_time": "2025-07-28T10:39:05.487839",
     "exception": false,
     "start_time": "2025-07-28T10:39:05.409510",
     "status": "completed"
    },
    "tags": []
   },
   "outputs": [],
   "source": [
    "X_test = siab_test.iloc[:,4:164]\n",
    "y_true = siab_test.iloc[:, [3]]"
   ]
  },
  {
   "cell_type": "code",
   "execution_count": 21,
   "id": "e6c733c5",
   "metadata": {
    "execution": {
     "iopub.execute_input": "2025-07-28T10:39:05.532466Z",
     "iopub.status.busy": "2025-07-28T10:39:05.531424Z",
     "iopub.status.idle": "2025-07-28T10:39:05.637451Z",
     "shell.execute_reply": "2025-07-28T10:39:05.636293Z"
    },
    "papermill": {
     "duration": 0.130621,
     "end_time": "2025-07-28T10:39:05.639368",
     "exception": false,
     "start_time": "2025-07-28T10:39:05.508747",
     "status": "completed"
    },
    "tags": []
   },
   "outputs": [],
   "source": [
    "# Auxiliary data needed downstream in the pipeline\n",
    "\n",
    "org_train = X_train.copy()\n",
    "org_test = X_test.copy()\n",
    "org_calib = X_calib.copy()"
   ]
  },
  {
   "cell_type": "markdown",
   "id": "0a4a1b33",
   "metadata": {
    "papermill": {
     "duration": 0.021277,
     "end_time": "2025-07-28T10:39:05.697653",
     "exception": false,
     "start_time": "2025-07-28T10:39:05.676376",
     "status": "completed"
    },
    "tags": []
   },
   "source": [
    "# Preprocessing Data"
   ]
  },
  {
   "cell_type": "code",
   "execution_count": 22,
   "id": "ca879031",
   "metadata": {
    "execution": {
     "iopub.execute_input": "2025-07-28T10:39:05.740752Z",
     "iopub.status.busy": "2025-07-28T10:39:05.739835Z",
     "iopub.status.idle": "2025-07-28T10:39:05.746654Z",
     "shell.execute_reply": "2025-07-28T10:39:05.745722Z"
    },
    "papermill": {
     "duration": 0.029517,
     "end_time": "2025-07-28T10:39:05.748214",
     "exception": false,
     "start_time": "2025-07-28T10:39:05.718697",
     "status": "completed"
    },
    "tags": []
   },
   "outputs": [],
   "source": [
    "# EXCLUDE PROTECTED FEATURES\n",
    "# ----------------------\n",
    "# \"exclude_features\": \"none\", # \"nationality\", \"sex\", \"nationality-sex\"\n",
    "\n",
    "excluded_features = universe[\"exclude_features\"].split(\"-\") # split, e.g.: \"nationality-sex\" -> [\"nationality\", \"sex\"]\n",
    "excluded_features_dictionary = {\n",
    "    \"nationality\": [\"maxdeutsch1\", \"maxdeutsch.Missing.\"],\n",
    "    \"sex\": [\"frau1\"],\n",
    "    \"age\": [\"age\"],\n",
    "}\n"
   ]
  },
  {
   "cell_type": "code",
   "execution_count": 23,
   "id": "b745ac60",
   "metadata": {
    "execution": {
     "iopub.execute_input": "2025-07-28T10:39:05.791827Z",
     "iopub.status.busy": "2025-07-28T10:39:05.791031Z",
     "iopub.status.idle": "2025-07-28T10:39:05.797182Z",
     "shell.execute_reply": "2025-07-28T10:39:05.796200Z"
    },
    "papermill": {
     "duration": 0.030284,
     "end_time": "2025-07-28T10:39:05.798773",
     "exception": false,
     "start_time": "2025-07-28T10:39:05.768489",
     "status": "completed"
    },
    "tags": []
   },
   "outputs": [],
   "source": [
    "# Code nice names to column names\n",
    "\n",
    "excluded_features_columns = [\n",
    "    excluded_features_dictionary[f] for f in excluded_features if len(f) > 0 and f != \"none\"\n",
    "]"
   ]
  },
  {
   "cell_type": "code",
   "execution_count": 24,
   "id": "f84f73a2",
   "metadata": {
    "execution": {
     "iopub.execute_input": "2025-07-28T10:39:05.843881Z",
     "iopub.status.busy": "2025-07-28T10:39:05.843262Z",
     "iopub.status.idle": "2025-07-28T10:39:05.850339Z",
     "shell.execute_reply": "2025-07-28T10:39:05.849234Z"
    },
    "papermill": {
     "duration": 0.033009,
     "end_time": "2025-07-28T10:39:05.852014",
     "exception": false,
     "start_time": "2025-07-28T10:39:05.819005",
     "status": "completed"
    },
    "tags": []
   },
   "outputs": [],
   "source": [
    "from utils import flatten_once\n",
    "\n",
    "excluded_features_columns = flatten_once(excluded_features_columns)"
   ]
  },
  {
   "cell_type": "code",
   "execution_count": 25,
   "id": "884dea22",
   "metadata": {
    "execution": {
     "iopub.execute_input": "2025-07-28T10:39:05.895472Z",
     "iopub.status.busy": "2025-07-28T10:39:05.894722Z",
     "iopub.status.idle": "2025-07-28T10:39:05.906209Z",
     "shell.execute_reply": "2025-07-28T10:39:05.905087Z"
    },
    "papermill": {
     "duration": 0.035509,
     "end_time": "2025-07-28T10:39:05.908119",
     "exception": false,
     "start_time": "2025-07-28T10:39:05.872610",
     "status": "completed"
    },
    "tags": []
   },
   "outputs": [
    {
     "name": "stdout",
     "output_type": "stream",
     "text": [
      "Dropping features: ['age']\n"
     ]
    }
   ],
   "source": [
    "if len(excluded_features_columns) > 0:\n",
    "    print(f\"Dropping features: {excluded_features_columns}\")\n",
    "    X_train.drop(excluded_features_columns, axis=1, inplace=True)"
   ]
  },
  {
   "cell_type": "code",
   "execution_count": 26,
   "id": "95ab8b16",
   "metadata": {
    "execution": {
     "iopub.execute_input": "2025-07-28T10:39:05.951164Z",
     "iopub.status.busy": "2025-07-28T10:39:05.950327Z",
     "iopub.status.idle": "2025-07-28T10:39:06.008524Z",
     "shell.execute_reply": "2025-07-28T10:39:06.007419Z"
    },
    "papermill": {
     "duration": 0.081039,
     "end_time": "2025-07-28T10:39:06.010273",
     "exception": false,
     "start_time": "2025-07-28T10:39:05.929234",
     "status": "completed"
    },
    "tags": []
   },
   "outputs": [
    {
     "name": "stdout",
     "output_type": "stream",
     "text": [
      "Dropping features: ['age']\n"
     ]
    }
   ],
   "source": [
    "if len(excluded_features_columns) > 0:\n",
    "    print(f\"Dropping features: {excluded_features_columns}\")\n",
    "    X_test.drop(excluded_features_columns, axis=1, inplace=True)"
   ]
  },
  {
   "cell_type": "code",
   "execution_count": 27,
   "id": "1853aaf5-fb9f-46cb-a2b5-8ea4ae2237e4",
   "metadata": {
    "execution": {
     "iopub.execute_input": "2025-07-28T10:39:06.057682Z",
     "iopub.status.busy": "2025-07-28T10:39:06.056711Z",
     "iopub.status.idle": "2025-07-28T10:39:06.112557Z",
     "shell.execute_reply": "2025-07-28T10:39:06.111417Z"
    },
    "papermill": {
     "duration": 0.081353,
     "end_time": "2025-07-28T10:39:06.114341",
     "exception": false,
     "start_time": "2025-07-28T10:39:06.032988",
     "status": "completed"
    },
    "tags": []
   },
   "outputs": [
    {
     "name": "stdout",
     "output_type": "stream",
     "text": [
      "Dropping features: ['age']\n"
     ]
    }
   ],
   "source": [
    "if len(excluded_features_columns) > 0:\n",
    "    print(f\"Dropping features: {excluded_features_columns}\")\n",
    "    X_calib.drop(excluded_features_columns, axis=1, inplace=True)"
   ]
  },
  {
   "cell_type": "code",
   "execution_count": 28,
   "id": "6727d079-03e5-481e-9d38-292a90b7a0a8",
   "metadata": {
    "execution": {
     "iopub.execute_input": "2025-07-28T10:39:06.161189Z",
     "iopub.status.busy": "2025-07-28T10:39:06.160516Z",
     "iopub.status.idle": "2025-07-28T10:39:06.206164Z",
     "shell.execute_reply": "2025-07-28T10:39:06.205137Z"
    },
    "papermill": {
     "duration": 0.071412,
     "end_time": "2025-07-28T10:39:06.208296",
     "exception": false,
     "start_time": "2025-07-28T10:39:06.136884",
     "status": "completed"
    },
    "tags": []
   },
   "outputs": [],
   "source": [
    "# SPLIT & STRATIFY DATA\n",
    "# ----------------------"
   ]
  },
  {
   "cell_type": "code",
   "execution_count": 29,
   "id": "76c4dc6d",
   "metadata": {
    "execution": {
     "iopub.execute_input": "2025-07-28T10:39:06.255727Z",
     "iopub.status.busy": "2025-07-28T10:39:06.255170Z",
     "iopub.status.idle": "2025-07-28T10:39:06.261152Z",
     "shell.execute_reply": "2025-07-28T10:39:06.260227Z"
    },
    "papermill": {
     "duration": 0.03394,
     "end_time": "2025-07-28T10:39:06.265072",
     "exception": false,
     "start_time": "2025-07-28T10:39:06.231132",
     "status": "completed"
    },
    "tags": []
   },
   "outputs": [],
   "source": [
    "# EXCLUDE CERTAIN SUBGROUPS\n",
    "# ----------------------\n",
    "\n",
    "mode = universe.get(\"exclude_subgroups\", \"keep-all\") \n",
    "# Fetches the exclude_subgroups setting from the universe dict.\n",
    "# Defaults to \"keep-all\" if the key is missing."
   ]
  },
  {
   "cell_type": "code",
   "execution_count": 30,
   "id": "21994072",
   "metadata": {
    "execution": {
     "iopub.execute_input": "2025-07-28T10:39:06.311939Z",
     "iopub.status.busy": "2025-07-28T10:39:06.311089Z",
     "iopub.status.idle": "2025-07-28T10:39:06.318855Z",
     "shell.execute_reply": "2025-07-28T10:39:06.317814Z"
    },
    "papermill": {
     "duration": 0.033559,
     "end_time": "2025-07-28T10:39:06.320782",
     "exception": false,
     "start_time": "2025-07-28T10:39:06.287223",
     "status": "completed"
    },
    "tags": []
   },
   "outputs": [],
   "source": [
    "if mode == \"keep-all\":\n",
    "    keep_mask = pd.Series(True, index=org_train.index)\n",
    "\n",
    "# org_train contains the original feature columns from features_org (in Simson)\n",
    "# features_org contains unprocessed features, for me X_train at beginning ???\n",
    "# For keep-all, creates a boolean Series (keep_mask) of all True, so no rows are removed.\n",
    "\n",
    "elif mode == \"drop-non-german\":\n",
    "    keep_mask = org_train[\"maxdeutsch1\"] == 1 # ??? what about missing values?\n",
    "\n",
    "else:\n",
    "    raise ValueError(f\"Unsupported mode for exclude_subgroups: {mode}\")\n"
   ]
  },
  {
   "cell_type": "code",
   "execution_count": 31,
   "id": "71651440",
   "metadata": {
    "execution": {
     "iopub.execute_input": "2025-07-28T10:39:06.364580Z",
     "iopub.status.busy": "2025-07-28T10:39:06.363558Z",
     "iopub.status.idle": "2025-07-28T10:39:06.370555Z",
     "shell.execute_reply": "2025-07-28T10:39:06.369521Z"
    },
    "papermill": {
     "duration": 0.030379,
     "end_time": "2025-07-28T10:39:06.372319",
     "exception": false,
     "start_time": "2025-07-28T10:39:06.341940",
     "status": "completed"
    },
    "tags": []
   },
   "outputs": [],
   "source": [
    "n_drop = (~keep_mask).sum() # Calculates how many rows are set to be dropped\n",
    "if n_drop > 0:\n",
    "    pct = n_drop / len(keep_mask) * 100\n",
    "    print(f\"Dropping {n_drop} rows ({pct:.2f}%) where mode='{mode}'\")"
   ]
  },
  {
   "cell_type": "code",
   "execution_count": 32,
   "id": "5fb8eee5",
   "metadata": {
    "execution": {
     "iopub.execute_input": "2025-07-28T10:39:06.416967Z",
     "iopub.status.busy": "2025-07-28T10:39:06.416143Z",
     "iopub.status.idle": "2025-07-28T10:39:06.424691Z",
     "shell.execute_reply": "2025-07-28T10:39:06.423745Z"
    },
    "papermill": {
     "duration": 0.032146,
     "end_time": "2025-07-28T10:39:06.426343",
     "exception": false,
     "start_time": "2025-07-28T10:39:06.394197",
     "status": "completed"
    },
    "tags": []
   },
   "outputs": [],
   "source": [
    "X_train = X_train[keep_mask]"
   ]
  },
  {
   "cell_type": "code",
   "execution_count": 33,
   "id": "b202bb3a",
   "metadata": {
    "execution": {
     "iopub.execute_input": "2025-07-28T10:39:06.469962Z",
     "iopub.status.busy": "2025-07-28T10:39:06.469440Z",
     "iopub.status.idle": "2025-07-28T10:39:06.475815Z",
     "shell.execute_reply": "2025-07-28T10:39:06.474942Z"
    },
    "papermill": {
     "duration": 0.030198,
     "end_time": "2025-07-28T10:39:06.477604",
     "exception": false,
     "start_time": "2025-07-28T10:39:06.447406",
     "status": "completed"
    },
    "tags": []
   },
   "outputs": [],
   "source": [
    "y_train = y_train[keep_mask]"
   ]
  },
  {
   "cell_type": "markdown",
   "id": "493e2ac3",
   "metadata": {
    "papermill": {
     "duration": 0.02179,
     "end_time": "2025-07-28T10:39:06.520797",
     "exception": false,
     "start_time": "2025-07-28T10:39:06.499007",
     "status": "completed"
    },
    "tags": []
   },
   "source": [
    "# Model Training"
   ]
  },
  {
   "cell_type": "code",
   "execution_count": 34,
   "id": "679e1268",
   "metadata": {
    "execution": {
     "iopub.execute_input": "2025-07-28T10:39:06.564195Z",
     "iopub.status.busy": "2025-07-28T10:39:06.563507Z",
     "iopub.status.idle": "2025-07-28T10:39:06.675148Z",
     "shell.execute_reply": "2025-07-28T10:39:06.674191Z"
    },
    "papermill": {
     "duration": 0.135787,
     "end_time": "2025-07-28T10:39:06.677218",
     "exception": false,
     "start_time": "2025-07-28T10:39:06.541431",
     "status": "completed"
    },
    "tags": []
   },
   "outputs": [],
   "source": [
    "from sklearn.linear_model import LogisticRegression\n",
    "from sklearn.ensemble import GradientBoostingClassifier, RandomForestClassifier\n",
    "\n",
    "if (universe[\"model\"] == \"logreg\"):\n",
    "    model = LogisticRegression() #penalty=\"none\") #, solver=\"newton-cg\", max_iter=1) # include random_state=19 ?\n",
    "elif (universe[\"model\"] == \"penalized_logreg\"):\n",
    "    model = LogisticRegression(penalty=\"l2\", C=1.0) #, solver=\"newton-cg\", max_iter=1)\n",
    "elif (universe[\"model\"] == \"rf\"):\n",
    "    model = RandomForestClassifier(n_estimators=100, n_jobs=-1)\n",
    "elif (universe[\"model\"] == \"gbm\"):\n",
    "    model = GradientBoostingClassifier()\n",
    "elif (universe[\"model\"] == \"elasticnet\"):\n",
    "    model = LogisticRegression(penalty = 'elasticnet', solver = 'saga', l1_ratio = 0.5, max_iter=5000) # which solver to use?\n",
    "else:\n",
    "    raise \"Unsupported universe.model\""
   ]
  },
  {
   "cell_type": "code",
   "execution_count": 35,
   "id": "0cc8f744",
   "metadata": {
    "execution": {
     "iopub.execute_input": "2025-07-28T10:39:06.721953Z",
     "iopub.status.busy": "2025-07-28T10:39:06.721361Z",
     "iopub.status.idle": "2025-07-28T10:39:06.728277Z",
     "shell.execute_reply": "2025-07-28T10:39:06.727236Z"
    },
    "papermill": {
     "duration": 0.030651,
     "end_time": "2025-07-28T10:39:06.729974",
     "exception": false,
     "start_time": "2025-07-28T10:39:06.699323",
     "status": "completed"
    },
    "tags": []
   },
   "outputs": [],
   "source": [
    "import numpy as np\n",
    "from sklearn.pipeline import Pipeline\n",
    "from sklearn.preprocessing import StandardScaler\n",
    "\n",
    "model = Pipeline([\n",
    "    #(\"continuous_processor\", continuous_processor),\n",
    "    #(\"categorical_preprocessor\", categorical_preprocessor),\n",
    "    (\"scale\", StandardScaler() if universe[\"scale\"] == \"scale\" else None), \n",
    "    (\"model\", model),\n",
    "])"
   ]
  },
  {
   "cell_type": "code",
   "execution_count": 36,
   "id": "9442c04d",
   "metadata": {
    "execution": {
     "iopub.execute_input": "2025-07-28T10:39:06.774275Z",
     "iopub.status.busy": "2025-07-28T10:39:06.773350Z",
     "iopub.status.idle": "2025-07-28T10:39:12.006381Z",
     "shell.execute_reply": "2025-07-28T10:39:12.005400Z"
    },
    "papermill": {
     "duration": 5.256904,
     "end_time": "2025-07-28T10:39:12.007998",
     "exception": false,
     "start_time": "2025-07-28T10:39:06.751094",
     "status": "completed"
    },
    "tags": []
   },
   "outputs": [
    {
     "data": {
      "text/html": [
       "<style>#sk-container-id-1 {color: black;background-color: white;}#sk-container-id-1 pre{padding: 0;}#sk-container-id-1 div.sk-toggleable {background-color: white;}#sk-container-id-1 label.sk-toggleable__label {cursor: pointer;display: block;width: 100%;margin-bottom: 0;padding: 0.3em;box-sizing: border-box;text-align: center;}#sk-container-id-1 label.sk-toggleable__label-arrow:before {content: \"▸\";float: left;margin-right: 0.25em;color: #696969;}#sk-container-id-1 label.sk-toggleable__label-arrow:hover:before {color: black;}#sk-container-id-1 div.sk-estimator:hover label.sk-toggleable__label-arrow:before {color: black;}#sk-container-id-1 div.sk-toggleable__content {max-height: 0;max-width: 0;overflow: hidden;text-align: left;background-color: #f0f8ff;}#sk-container-id-1 div.sk-toggleable__content pre {margin: 0.2em;color: black;border-radius: 0.25em;background-color: #f0f8ff;}#sk-container-id-1 input.sk-toggleable__control:checked~div.sk-toggleable__content {max-height: 200px;max-width: 100%;overflow: auto;}#sk-container-id-1 input.sk-toggleable__control:checked~label.sk-toggleable__label-arrow:before {content: \"▾\";}#sk-container-id-1 div.sk-estimator input.sk-toggleable__control:checked~label.sk-toggleable__label {background-color: #d4ebff;}#sk-container-id-1 div.sk-label input.sk-toggleable__control:checked~label.sk-toggleable__label {background-color: #d4ebff;}#sk-container-id-1 input.sk-hidden--visually {border: 0;clip: rect(1px 1px 1px 1px);clip: rect(1px, 1px, 1px, 1px);height: 1px;margin: -1px;overflow: hidden;padding: 0;position: absolute;width: 1px;}#sk-container-id-1 div.sk-estimator {font-family: monospace;background-color: #f0f8ff;border: 1px dotted black;border-radius: 0.25em;box-sizing: border-box;margin-bottom: 0.5em;}#sk-container-id-1 div.sk-estimator:hover {background-color: #d4ebff;}#sk-container-id-1 div.sk-parallel-item::after {content: \"\";width: 100%;border-bottom: 1px solid gray;flex-grow: 1;}#sk-container-id-1 div.sk-label:hover label.sk-toggleable__label {background-color: #d4ebff;}#sk-container-id-1 div.sk-serial::before {content: \"\";position: absolute;border-left: 1px solid gray;box-sizing: border-box;top: 0;bottom: 0;left: 50%;z-index: 0;}#sk-container-id-1 div.sk-serial {display: flex;flex-direction: column;align-items: center;background-color: white;padding-right: 0.2em;padding-left: 0.2em;position: relative;}#sk-container-id-1 div.sk-item {position: relative;z-index: 1;}#sk-container-id-1 div.sk-parallel {display: flex;align-items: stretch;justify-content: center;background-color: white;position: relative;}#sk-container-id-1 div.sk-item::before, #sk-container-id-1 div.sk-parallel-item::before {content: \"\";position: absolute;border-left: 1px solid gray;box-sizing: border-box;top: 0;bottom: 0;left: 50%;z-index: -1;}#sk-container-id-1 div.sk-parallel-item {display: flex;flex-direction: column;z-index: 1;position: relative;background-color: white;}#sk-container-id-1 div.sk-parallel-item:first-child::after {align-self: flex-end;width: 50%;}#sk-container-id-1 div.sk-parallel-item:last-child::after {align-self: flex-start;width: 50%;}#sk-container-id-1 div.sk-parallel-item:only-child::after {width: 0;}#sk-container-id-1 div.sk-dashed-wrapped {border: 1px dashed gray;margin: 0 0.4em 0.5em 0.4em;box-sizing: border-box;padding-bottom: 0.4em;background-color: white;}#sk-container-id-1 div.sk-label label {font-family: monospace;font-weight: bold;display: inline-block;line-height: 1.2em;}#sk-container-id-1 div.sk-label-container {text-align: center;}#sk-container-id-1 div.sk-container {/* jupyter's `normalize.less` sets `[hidden] { display: none; }` but bootstrap.min.css set `[hidden] { display: none !important; }` so we also need the `!important` here to be able to override the default hidden behavior on the sphinx rendered scikit-learn.org. See: https://github.com/scikit-learn/scikit-learn/issues/21755 */display: inline-block !important;position: relative;}#sk-container-id-1 div.sk-text-repr-fallback {display: none;}</style><div id=\"sk-container-id-1\" class=\"sk-top-container\"><div class=\"sk-text-repr-fallback\"><pre>Pipeline(steps=[(&#x27;scale&#x27;, None), (&#x27;model&#x27;, GradientBoostingClassifier())])</pre><b>In a Jupyter environment, please rerun this cell to show the HTML representation or trust the notebook. <br />On GitHub, the HTML representation is unable to render, please try loading this page with nbviewer.org.</b></div><div class=\"sk-container\" hidden><div class=\"sk-item sk-dashed-wrapped\"><div class=\"sk-label-container\"><div class=\"sk-label sk-toggleable\"><input class=\"sk-toggleable__control sk-hidden--visually\" id=\"sk-estimator-id-1\" type=\"checkbox\" ><label for=\"sk-estimator-id-1\" class=\"sk-toggleable__label sk-toggleable__label-arrow\">Pipeline</label><div class=\"sk-toggleable__content\"><pre>Pipeline(steps=[(&#x27;scale&#x27;, None), (&#x27;model&#x27;, GradientBoostingClassifier())])</pre></div></div></div><div class=\"sk-serial\"><div class=\"sk-item\"><div class=\"sk-estimator sk-toggleable\"><input class=\"sk-toggleable__control sk-hidden--visually\" id=\"sk-estimator-id-2\" type=\"checkbox\" ><label for=\"sk-estimator-id-2\" class=\"sk-toggleable__label sk-toggleable__label-arrow\">None</label><div class=\"sk-toggleable__content\"><pre>None</pre></div></div></div><div class=\"sk-item\"><div class=\"sk-estimator sk-toggleable\"><input class=\"sk-toggleable__control sk-hidden--visually\" id=\"sk-estimator-id-3\" type=\"checkbox\" ><label for=\"sk-estimator-id-3\" class=\"sk-toggleable__label sk-toggleable__label-arrow\">GradientBoostingClassifier</label><div class=\"sk-toggleable__content\"><pre>GradientBoostingClassifier()</pre></div></div></div></div></div></div></div>"
      ],
      "text/plain": [
       "Pipeline(steps=[('scale', None), ('model', GradientBoostingClassifier())])"
      ]
     },
     "execution_count": 36,
     "metadata": {},
     "output_type": "execute_result"
    }
   ],
   "source": [
    "model.fit(X_train, y_train.values.ravel())"
   ]
  },
  {
   "cell_type": "code",
   "execution_count": 37,
   "id": "af59f8c0",
   "metadata": {
    "execution": {
     "iopub.execute_input": "2025-07-28T10:39:12.037842Z",
     "iopub.status.busy": "2025-07-28T10:39:12.037302Z",
     "iopub.status.idle": "2025-07-28T10:39:12.043142Z",
     "shell.execute_reply": "2025-07-28T10:39:12.042052Z"
    },
    "papermill": {
     "duration": 0.021349,
     "end_time": "2025-07-28T10:39:12.044623",
     "exception": false,
     "start_time": "2025-07-28T10:39:12.023274",
     "status": "completed"
    },
    "tags": []
   },
   "outputs": [],
   "source": [
    "from fairness_multiverse.universe import predict_w_threshold"
   ]
  },
  {
   "cell_type": "code",
   "execution_count": 38,
   "id": "a7cf2e16",
   "metadata": {
    "execution": {
     "iopub.execute_input": "2025-07-28T10:39:12.092985Z",
     "iopub.status.busy": "2025-07-28T10:39:12.092495Z",
     "iopub.status.idle": "2025-07-28T10:39:12.776026Z",
     "shell.execute_reply": "2025-07-28T10:39:12.774805Z"
    },
    "papermill": {
     "duration": 0.710919,
     "end_time": "2025-07-28T10:39:12.777810",
     "exception": false,
     "start_time": "2025-07-28T10:39:12.066891",
     "status": "completed"
    },
    "tags": []
   },
   "outputs": [
    {
     "data": {
      "text/plain": [
       "0.8566269089287705"
      ]
     },
     "execution_count": 38,
     "metadata": {},
     "output_type": "execute_result"
    }
   ],
   "source": [
    "probs_test = model.predict_proba(X_test)\n",
    "\n",
    "'''\n",
    "Below code returns a boolean array (or binary 0/1 array depending on how it’s used) where each element \n",
    "is True if the probability of class 1 is greater than or equal to the threshold, and False otherwise.\n",
    "'''\n",
    "y_pred_default = predict_w_threshold(probs_test, 0.5)\n",
    "\n",
    "from sklearn.metrics import accuracy_score\n",
    "\n",
    "# Naive prediction\n",
    "accuracy_score(y_true = y_true, y_pred = y_pred_default)"
   ]
  },
  {
   "cell_type": "code",
   "execution_count": 39,
   "id": "081964c3",
   "metadata": {
    "execution": {
     "iopub.execute_input": "2025-07-28T10:39:12.827852Z",
     "iopub.status.busy": "2025-07-28T10:39:12.827192Z",
     "iopub.status.idle": "2025-07-28T10:39:13.417017Z",
     "shell.execute_reply": "2025-07-28T10:39:13.416100Z"
    },
    "papermill": {
     "duration": 0.615467,
     "end_time": "2025-07-28T10:39:13.418419",
     "exception": false,
     "start_time": "2025-07-28T10:39:12.802952",
     "status": "completed"
    },
    "tags": []
   },
   "outputs": [
    {
     "data": {
      "text/plain": [
       "array([0, 0, 0, ..., 0, 0, 0])"
      ]
     },
     "execution_count": 39,
     "metadata": {},
     "output_type": "execute_result"
    }
   ],
   "source": [
    "model.predict(X_test)"
   ]
  },
  {
   "cell_type": "markdown",
   "id": "56c9705b",
   "metadata": {
    "papermill": {
     "duration": 0.012058,
     "end_time": "2025-07-28T10:39:13.443216",
     "exception": false,
     "start_time": "2025-07-28T10:39:13.431158",
     "status": "completed"
    },
    "tags": []
   },
   "source": [
    "# Conformal Prediction"
   ]
  },
  {
   "cell_type": "code",
   "execution_count": 40,
   "id": "160ec6ff",
   "metadata": {
    "execution": {
     "iopub.execute_input": "2025-07-28T10:39:13.472955Z",
     "iopub.status.busy": "2025-07-28T10:39:13.472505Z",
     "iopub.status.idle": "2025-07-28T10:39:13.477102Z",
     "shell.execute_reply": "2025-07-28T10:39:13.476309Z"
    },
    "papermill": {
     "duration": 0.019112,
     "end_time": "2025-07-28T10:39:13.478593",
     "exception": false,
     "start_time": "2025-07-28T10:39:13.459481",
     "status": "completed"
    },
    "tags": []
   },
   "outputs": [],
   "source": [
    "# Miscoverage level for conformal prediction (10% allowed error rate => 90% target coverage)\n",
    "alpha = 0.1"
   ]
  },
  {
   "cell_type": "code",
   "execution_count": 41,
   "id": "eadf4555-3dd3-440e-8e35-f82a4ad9f855",
   "metadata": {
    "execution": {
     "iopub.execute_input": "2025-07-28T10:39:13.505984Z",
     "iopub.status.busy": "2025-07-28T10:39:13.504971Z",
     "iopub.status.idle": "2025-07-28T10:39:13.946856Z",
     "shell.execute_reply": "2025-07-28T10:39:13.946012Z"
    },
    "papermill": {
     "duration": 0.457633,
     "end_time": "2025-07-28T10:39:13.948524",
     "exception": false,
     "start_time": "2025-07-28T10:39:13.490891",
     "status": "completed"
    },
    "tags": []
   },
   "outputs": [],
   "source": [
    "probs_calib = model.predict_proba(X_calib)"
   ]
  },
  {
   "cell_type": "code",
   "execution_count": 42,
   "id": "2ed93547-6d5d-4983-9b36-1ecb300da49a",
   "metadata": {
    "execution": {
     "iopub.execute_input": "2025-07-28T10:39:13.986746Z",
     "iopub.status.busy": "2025-07-28T10:39:13.986284Z",
     "iopub.status.idle": "2025-07-28T10:39:13.992270Z",
     "shell.execute_reply": "2025-07-28T10:39:13.991159Z"
    },
    "papermill": {
     "duration": 0.032429,
     "end_time": "2025-07-28T10:39:13.994272",
     "exception": false,
     "start_time": "2025-07-28T10:39:13.961843",
     "status": "completed"
    },
    "tags": []
   },
   "outputs": [],
   "source": [
    "y_calib = y_calib.values.ravel().astype(int)"
   ]
  },
  {
   "cell_type": "code",
   "execution_count": 43,
   "id": "65d1320d-f588-4b38-9072-62af1ae97f7d",
   "metadata": {
    "execution": {
     "iopub.execute_input": "2025-07-28T10:39:14.043247Z",
     "iopub.status.busy": "2025-07-28T10:39:14.042826Z",
     "iopub.status.idle": "2025-07-28T10:39:14.050764Z",
     "shell.execute_reply": "2025-07-28T10:39:14.049707Z"
    },
    "papermill": {
     "duration": 0.034481,
     "end_time": "2025-07-28T10:39:14.052765",
     "exception": false,
     "start_time": "2025-07-28T10:39:14.018284",
     "status": "completed"
    },
    "tags": []
   },
   "outputs": [],
   "source": [
    "from fairness_multiverse.conformal import compute_nc_scores\n",
    "\n",
    "# Compute nonconformity scores on calibration set (1 - probability of true class)\n",
    "nc_scores = compute_nc_scores(probs_calib, y_calib)"
   ]
  },
  {
   "cell_type": "code",
   "execution_count": 44,
   "id": "df3b8ca3-53b7-43d5-9667-7c85da7aeda2",
   "metadata": {
    "execution": {
     "iopub.execute_input": "2025-07-28T10:39:14.093720Z",
     "iopub.status.busy": "2025-07-28T10:39:14.093279Z",
     "iopub.status.idle": "2025-07-28T10:39:14.099923Z",
     "shell.execute_reply": "2025-07-28T10:39:14.099084Z"
    },
    "papermill": {
     "duration": 0.023235,
     "end_time": "2025-07-28T10:39:14.101362",
     "exception": false,
     "start_time": "2025-07-28T10:39:14.078127",
     "status": "completed"
    },
    "tags": []
   },
   "outputs": [],
   "source": [
    "from fairness_multiverse.conformal import find_threshold\n",
    "\n",
    "# Find conformal threshold q_hat for the given alpha (split conformal method)\n",
    "q_hat = find_threshold(nc_scores, alpha)"
   ]
  },
  {
   "cell_type": "code",
   "execution_count": 45,
   "id": "4d29e6c1-0ef6-4aa4-b8fe-4fe79b0d033a",
   "metadata": {
    "execution": {
     "iopub.execute_input": "2025-07-28T10:39:14.127916Z",
     "iopub.status.busy": "2025-07-28T10:39:14.127354Z",
     "iopub.status.idle": "2025-07-28T10:39:14.134744Z",
     "shell.execute_reply": "2025-07-28T10:39:14.133623Z"
    },
    "papermill": {
     "duration": 0.02237,
     "end_time": "2025-07-28T10:39:14.136552",
     "exception": false,
     "start_time": "2025-07-28T10:39:14.114182",
     "status": "completed"
    },
    "tags": []
   },
   "outputs": [
    {
     "data": {
      "text/plain": [
       "0.7085321405726477"
      ]
     },
     "execution_count": 45,
     "metadata": {},
     "output_type": "execute_result"
    }
   ],
   "source": [
    "q_hat"
   ]
  },
  {
   "cell_type": "code",
   "execution_count": 46,
   "id": "92460794-cdac-4be2-ba28-f28c0515a6fb",
   "metadata": {
    "execution": {
     "iopub.execute_input": "2025-07-28T10:39:14.186067Z",
     "iopub.status.busy": "2025-07-28T10:39:14.185557Z",
     "iopub.status.idle": "2025-07-28T10:39:15.544419Z",
     "shell.execute_reply": "2025-07-28T10:39:15.543323Z"
    },
    "papermill": {
     "duration": 1.385737,
     "end_time": "2025-07-28T10:39:15.546643",
     "exception": false,
     "start_time": "2025-07-28T10:39:14.160906",
     "status": "completed"
    },
    "tags": []
   },
   "outputs": [],
   "source": [
    "from fairness_multiverse.conformal import predict_conformal_sets\n",
    "\n",
    "# Generate prediction sets for each test example\n",
    "pred_sets = predict_conformal_sets(model, X_test, q_hat)"
   ]
  },
  {
   "cell_type": "code",
   "execution_count": 47,
   "id": "d90c9a65-e6db-4f5d-80cd-e68fb7e46829",
   "metadata": {
    "execution": {
     "iopub.execute_input": "2025-07-28T10:39:15.594788Z",
     "iopub.status.busy": "2025-07-28T10:39:15.594284Z",
     "iopub.status.idle": "2025-07-28T10:39:15.600246Z",
     "shell.execute_reply": "2025-07-28T10:39:15.599305Z"
    },
    "papermill": {
     "duration": 0.031995,
     "end_time": "2025-07-28T10:39:15.602061",
     "exception": false,
     "start_time": "2025-07-28T10:39:15.570066",
     "status": "completed"
    },
    "tags": []
   },
   "outputs": [],
   "source": [
    "y_true = y_true.squeeze()"
   ]
  },
  {
   "cell_type": "code",
   "execution_count": 48,
   "id": "3a58a54a-1e68-46b9-927a-df01f18aebc8",
   "metadata": {
    "execution": {
     "iopub.execute_input": "2025-07-28T10:39:15.653274Z",
     "iopub.status.busy": "2025-07-28T10:39:15.652758Z",
     "iopub.status.idle": "2025-07-28T10:39:16.613882Z",
     "shell.execute_reply": "2025-07-28T10:39:16.612839Z"
    },
    "papermill": {
     "duration": 0.988865,
     "end_time": "2025-07-28T10:39:16.615822",
     "exception": false,
     "start_time": "2025-07-28T10:39:15.626957",
     "status": "completed"
    },
    "tags": []
   },
   "outputs": [],
   "source": [
    "from fairness_multiverse.conformal import evaluate_sets\n",
    "\n",
    "# Evaluate coverage and average set size on test data\n",
    "metrics = evaluate_sets(pred_sets, y_true)"
   ]
  },
  {
   "cell_type": "markdown",
   "id": "2b569c12-9aaa-4c88-98c9-bbcd0cf3ebb8",
   "metadata": {
    "papermill": {
     "duration": 0.023936,
     "end_time": "2025-07-28T10:39:16.664386",
     "exception": false,
     "start_time": "2025-07-28T10:39:16.640450",
     "status": "completed"
    },
    "tags": []
   },
   "source": [
    "# CP Metrics"
   ]
  },
  {
   "cell_type": "code",
   "execution_count": 49,
   "id": "5ce0a5cb-201f-45a0-ade5-94c7f0bd6095",
   "metadata": {
    "execution": {
     "iopub.execute_input": "2025-07-28T10:39:16.714528Z",
     "iopub.status.busy": "2025-07-28T10:39:16.713801Z",
     "iopub.status.idle": "2025-07-28T10:39:16.721417Z",
     "shell.execute_reply": "2025-07-28T10:39:16.720393Z"
    },
    "papermill": {
     "duration": 0.034656,
     "end_time": "2025-07-28T10:39:16.723125",
     "exception": false,
     "start_time": "2025-07-28T10:39:16.688469",
     "status": "completed"
    },
    "tags": []
   },
   "outputs": [
    {
     "data": {
      "text/plain": [
       "{'coverage': 0.9113030877271208, 'avg_size': 1.1446104113253819}"
      ]
     },
     "execution_count": 49,
     "metadata": {},
     "output_type": "execute_result"
    }
   ],
   "source": [
    "metrics"
   ]
  },
  {
   "cell_type": "code",
   "execution_count": 50,
   "id": "9b9a838d-31c9-430b-ae14-12baee460d17",
   "metadata": {
    "execution": {
     "iopub.execute_input": "2025-07-28T10:39:16.774860Z",
     "iopub.status.busy": "2025-07-28T10:39:16.774092Z",
     "iopub.status.idle": "2025-07-28T10:39:16.781007Z",
     "shell.execute_reply": "2025-07-28T10:39:16.779890Z"
    },
    "papermill": {
     "duration": 0.03421,
     "end_time": "2025-07-28T10:39:16.782727",
     "exception": false,
     "start_time": "2025-07-28T10:39:16.748517",
     "status": "completed"
    },
    "tags": []
   },
   "outputs": [],
   "source": [
    "example_universe = universe.copy()\n",
    "universe_training_size = example_universe.get(\"training_size\")\n",
    "universe_scale = example_universe.get(\"scale\")\n",
    "universe_model = example_universe.get(\"model\")\n",
    "universe_exclude_features = example_universe.get(\"exclude_features\")\n",
    "universe_exclude_subgroups = example_universe.get(\"exclude_subgroups\")"
   ]
  },
  {
   "cell_type": "code",
   "execution_count": 51,
   "id": "f4b6a8ac-9dc0-4245-8a91-5b3b5999c4f9",
   "metadata": {
    "execution": {
     "iopub.execute_input": "2025-07-28T10:39:16.833816Z",
     "iopub.status.busy": "2025-07-28T10:39:16.833124Z",
     "iopub.status.idle": "2025-07-28T10:39:16.839918Z",
     "shell.execute_reply": "2025-07-28T10:39:16.838917Z"
    },
    "papermill": {
     "duration": 0.034265,
     "end_time": "2025-07-28T10:39:16.841684",
     "exception": false,
     "start_time": "2025-07-28T10:39:16.807419",
     "status": "completed"
    },
    "tags": []
   },
   "outputs": [],
   "source": [
    "cp_metrics_dict = {\n",
    "    \"universe_id\": [universe_id],\n",
    "    \"universe_training_size\": [universe_training_size],\n",
    "    \"universe_scale\": [universe_scale],\n",
    "    \"universe_model\": [universe_model],\n",
    "    \"universe_exclude_features\": [universe_exclude_features],\n",
    "    \"universe_exclude_subgroups\": [universe_exclude_subgroups],\n",
    "    \"q_hat\": [q_hat],\n",
    "    \"coverage\": [metrics[\"coverage\"]],\n",
    "    \"avg_size\": [metrics[\"avg_size\"]],\n",
    "}"
   ]
  },
  {
   "cell_type": "code",
   "execution_count": 52,
   "id": "908acbb1-0371-4915-85ca-3fa520d2efe2",
   "metadata": {
    "execution": {
     "iopub.execute_input": "2025-07-28T10:39:16.892735Z",
     "iopub.status.busy": "2025-07-28T10:39:16.892050Z",
     "iopub.status.idle": "2025-07-28T10:39:16.899797Z",
     "shell.execute_reply": "2025-07-28T10:39:16.898856Z"
    },
    "papermill": {
     "duration": 0.035222,
     "end_time": "2025-07-28T10:39:16.901484",
     "exception": false,
     "start_time": "2025-07-28T10:39:16.866262",
     "status": "completed"
    },
    "tags": []
   },
   "outputs": [
    {
     "data": {
      "text/plain": [
       "{'universe_id': ['c87581d41536483fe06e1dbf7f64dfcb'],\n",
       " 'universe_training_size': ['5k'],\n",
       " 'universe_scale': ['do-not-scale'],\n",
       " 'universe_model': ['gbm'],\n",
       " 'universe_exclude_features': ['age'],\n",
       " 'universe_exclude_subgroups': ['keep-all'],\n",
       " 'q_hat': [0.7085321405726477],\n",
       " 'coverage': [0.9113030877271208],\n",
       " 'avg_size': [1.1446104113253819]}"
      ]
     },
     "execution_count": 52,
     "metadata": {},
     "output_type": "execute_result"
    }
   ],
   "source": [
    "cp_metrics_dict"
   ]
  },
  {
   "cell_type": "code",
   "execution_count": 53,
   "id": "33007efc-14e9-4ec6-97ac-56a455c82265",
   "metadata": {
    "execution": {
     "iopub.execute_input": "2025-07-28T10:39:16.952933Z",
     "iopub.status.busy": "2025-07-28T10:39:16.952315Z",
     "iopub.status.idle": "2025-07-28T10:39:16.959601Z",
     "shell.execute_reply": "2025-07-28T10:39:16.958592Z"
    },
    "papermill": {
     "duration": 0.034728,
     "end_time": "2025-07-28T10:39:16.961304",
     "exception": false,
     "start_time": "2025-07-28T10:39:16.926576",
     "status": "completed"
    },
    "tags": []
   },
   "outputs": [],
   "source": [
    "cp_metrics_df = pd.DataFrame(cp_metrics_dict)"
   ]
  },
  {
   "cell_type": "code",
   "execution_count": 54,
   "id": "db12611b-57b2-4910-b9d0-355adfd6e7bf",
   "metadata": {
    "execution": {
     "iopub.execute_input": "2025-07-28T10:39:17.014240Z",
     "iopub.status.busy": "2025-07-28T10:39:17.013410Z",
     "iopub.status.idle": "2025-07-28T10:39:17.032804Z",
     "shell.execute_reply": "2025-07-28T10:39:17.031709Z"
    },
    "papermill": {
     "duration": 0.047467,
     "end_time": "2025-07-28T10:39:17.034645",
     "exception": false,
     "start_time": "2025-07-28T10:39:16.987178",
     "status": "completed"
    },
    "tags": []
   },
   "outputs": [
    {
     "data": {
      "text/html": [
       "<div>\n",
       "<style scoped>\n",
       "    .dataframe tbody tr th:only-of-type {\n",
       "        vertical-align: middle;\n",
       "    }\n",
       "\n",
       "    .dataframe tbody tr th {\n",
       "        vertical-align: top;\n",
       "    }\n",
       "\n",
       "    .dataframe thead th {\n",
       "        text-align: right;\n",
       "    }\n",
       "</style>\n",
       "<table border=\"1\" class=\"dataframe\">\n",
       "  <thead>\n",
       "    <tr style=\"text-align: right;\">\n",
       "      <th></th>\n",
       "      <th>universe_id</th>\n",
       "      <th>universe_training_size</th>\n",
       "      <th>universe_scale</th>\n",
       "      <th>universe_model</th>\n",
       "      <th>universe_exclude_features</th>\n",
       "      <th>universe_exclude_subgroups</th>\n",
       "      <th>q_hat</th>\n",
       "      <th>coverage</th>\n",
       "      <th>avg_size</th>\n",
       "    </tr>\n",
       "  </thead>\n",
       "  <tbody>\n",
       "    <tr>\n",
       "      <th>0</th>\n",
       "      <td>c87581d41536483fe06e1dbf7f64dfcb</td>\n",
       "      <td>5k</td>\n",
       "      <td>do-not-scale</td>\n",
       "      <td>gbm</td>\n",
       "      <td>age</td>\n",
       "      <td>keep-all</td>\n",
       "      <td>0.708532</td>\n",
       "      <td>0.911303</td>\n",
       "      <td>1.14461</td>\n",
       "    </tr>\n",
       "  </tbody>\n",
       "</table>\n",
       "</div>"
      ],
      "text/plain": [
       "                        universe_id universe_training_size universe_scale  \\\n",
       "0  c87581d41536483fe06e1dbf7f64dfcb                     5k   do-not-scale   \n",
       "\n",
       "  universe_model universe_exclude_features universe_exclude_subgroups  \\\n",
       "0            gbm                       age                   keep-all   \n",
       "\n",
       "      q_hat  coverage  avg_size  \n",
       "0  0.708532  0.911303   1.14461  "
      ]
     },
     "execution_count": 54,
     "metadata": {},
     "output_type": "execute_result"
    }
   ],
   "source": [
    "cp_metrics_df"
   ]
  },
  {
   "cell_type": "code",
   "execution_count": 55,
   "id": "b7fbde55-a0a1-47e4-9af6-fe4a17fa8c61",
   "metadata": {
    "execution": {
     "iopub.execute_input": "2025-07-28T10:39:17.087643Z",
     "iopub.status.busy": "2025-07-28T10:39:17.086669Z",
     "iopub.status.idle": "2025-07-28T10:39:17.092250Z",
     "shell.execute_reply": "2025-07-28T10:39:17.091254Z"
    },
    "papermill": {
     "duration": 0.034678,
     "end_time": "2025-07-28T10:39:17.093786",
     "exception": false,
     "start_time": "2025-07-28T10:39:17.059108",
     "status": "completed"
    },
    "tags": []
   },
   "outputs": [],
   "source": [
    "# Conditional Coverage & looking at subgroups"
   ]
  },
  {
   "cell_type": "code",
   "execution_count": 56,
   "id": "027ae886-68dd-4141-96c7-805a5450e1ef",
   "metadata": {
    "execution": {
     "iopub.execute_input": "2025-07-28T10:39:17.144224Z",
     "iopub.status.busy": "2025-07-28T10:39:17.143594Z",
     "iopub.status.idle": "2025-07-28T10:39:17.423556Z",
     "shell.execute_reply": "2025-07-28T10:39:17.422581Z"
    },
    "papermill": {
     "duration": 0.307826,
     "end_time": "2025-07-28T10:39:17.425473",
     "exception": false,
     "start_time": "2025-07-28T10:39:17.117647",
     "status": "completed"
    },
    "tags": []
   },
   "outputs": [],
   "source": [
    "from fairness_multiverse.conformal import build_cp_groups\n",
    "\n",
    "cp_groups_df = build_cp_groups(pred_sets, y_true, X_test.index, org_test)\n",
    "#needs universe_id and setting"
   ]
  },
  {
   "cell_type": "code",
   "execution_count": 57,
   "id": "01d5802c-663a-4d1f-9d69-e036faaffbf7",
   "metadata": {
    "execution": {
     "iopub.execute_input": "2025-07-28T10:39:17.477914Z",
     "iopub.status.busy": "2025-07-28T10:39:17.477088Z",
     "iopub.status.idle": "2025-07-28T10:39:17.482601Z",
     "shell.execute_reply": "2025-07-28T10:39:17.481545Z"
    },
    "papermill": {
     "duration": 0.034436,
     "end_time": "2025-07-28T10:39:17.484375",
     "exception": false,
     "start_time": "2025-07-28T10:39:17.449939",
     "status": "completed"
    },
    "tags": []
   },
   "outputs": [],
   "source": [
    "#delete\n",
    "#cp_groups_df"
   ]
  },
  {
   "cell_type": "code",
   "execution_count": 58,
   "id": "fa424af1-d1eb-443d-b717-2d279ada8408",
   "metadata": {
    "execution": {
     "iopub.execute_input": "2025-07-28T10:39:17.537438Z",
     "iopub.status.busy": "2025-07-28T10:39:17.536647Z",
     "iopub.status.idle": "2025-07-28T10:39:17.542003Z",
     "shell.execute_reply": "2025-07-28T10:39:17.541033Z"
    },
    "papermill": {
     "duration": 0.033945,
     "end_time": "2025-07-28T10:39:17.543793",
     "exception": false,
     "start_time": "2025-07-28T10:39:17.509848",
     "status": "completed"
    },
    "tags": []
   },
   "outputs": [],
   "source": [
    "#delete\n",
    "#percentage = (cp_groups_df['nongerman_female'] == 1).mean() * 100\n",
    "#print(percentage)\n"
   ]
  },
  {
   "cell_type": "code",
   "execution_count": 59,
   "id": "6cbdab96-b2b2-45af-ad54-d0516db2e28d",
   "metadata": {
    "execution": {
     "iopub.execute_input": "2025-07-28T10:39:17.596822Z",
     "iopub.status.busy": "2025-07-28T10:39:17.596128Z",
     "iopub.status.idle": "2025-07-28T10:39:19.264340Z",
     "shell.execute_reply": "2025-07-28T10:39:19.263184Z"
    },
    "papermill": {
     "duration": 1.696912,
     "end_time": "2025-07-28T10:39:19.266434",
     "exception": false,
     "start_time": "2025-07-28T10:39:17.569522",
     "status": "completed"
    },
    "tags": []
   },
   "outputs": [],
   "source": [
    "# Define covered = 1 if true_label is in the predicted set\n",
    "cp_groups_df['covered'] = cp_groups_df.apply(\n",
    "    lambda r: int(r['true_label'] in r['pred_set']),\n",
    "    axis=1\n",
    ")"
   ]
  },
  {
   "cell_type": "code",
   "execution_count": 60,
   "id": "338ff529-1a6b-4b87-a931-8e4788d52aad",
   "metadata": {
    "execution": {
     "iopub.execute_input": "2025-07-28T10:39:19.324334Z",
     "iopub.status.busy": "2025-07-28T10:39:19.323621Z",
     "iopub.status.idle": "2025-07-28T10:39:19.329054Z",
     "shell.execute_reply": "2025-07-28T10:39:19.327892Z"
    },
    "papermill": {
     "duration": 0.036786,
     "end_time": "2025-07-28T10:39:19.330932",
     "exception": false,
     "start_time": "2025-07-28T10:39:19.294146",
     "status": "completed"
    },
    "tags": []
   },
   "outputs": [],
   "source": [
    "#cp_groups_df"
   ]
  },
  {
   "cell_type": "code",
   "execution_count": 61,
   "id": "90032e27-66df-4540-9169-4e89cfbaa758",
   "metadata": {
    "execution": {
     "iopub.execute_input": "2025-07-28T10:39:19.389961Z",
     "iopub.status.busy": "2025-07-28T10:39:19.389191Z",
     "iopub.status.idle": "2025-07-28T10:39:19.401323Z",
     "shell.execute_reply": "2025-07-28T10:39:19.400237Z"
    },
    "papermill": {
     "duration": 0.04368,
     "end_time": "2025-07-28T10:39:19.403282",
     "exception": false,
     "start_time": "2025-07-28T10:39:19.359602",
     "status": "completed"
    },
    "tags": []
   },
   "outputs": [],
   "source": [
    "subgroups = ['frau1','nongerman','nongerman_male','nongerman_female']\n",
    "\n",
    "# Conditional coverage for subgroup==1\n",
    "cond_coverage = {\n",
    "    g: cp_groups_df.loc[cp_groups_df[g]==1, 'covered'].mean()\n",
    "    for g in subgroups\n",
    "}"
   ]
  },
  {
   "cell_type": "code",
   "execution_count": 62,
   "id": "1e348fb1-b9c3-45bc-ba23-f016827a7e0d",
   "metadata": {
    "execution": {
     "iopub.execute_input": "2025-07-28T10:39:19.456247Z",
     "iopub.status.busy": "2025-07-28T10:39:19.455686Z",
     "iopub.status.idle": "2025-07-28T10:39:19.463415Z",
     "shell.execute_reply": "2025-07-28T10:39:19.462411Z"
    },
    "papermill": {
     "duration": 0.036414,
     "end_time": "2025-07-28T10:39:19.465125",
     "exception": false,
     "start_time": "2025-07-28T10:39:19.428711",
     "status": "completed"
    },
    "tags": []
   },
   "outputs": [
    {
     "data": {
      "text/plain": [
       "{'frau1': 0.9098261221188839,\n",
       " 'nongerman': 0.9100656823668107,\n",
       " 'nongerman_male': 0.924614968927317,\n",
       " 'nongerman_female': 0.8859910581222057}"
      ]
     },
     "execution_count": 62,
     "metadata": {},
     "output_type": "execute_result"
    }
   ],
   "source": [
    "cond_coverage"
   ]
  },
  {
   "cell_type": "code",
   "execution_count": 63,
   "id": "f5093324-c3dd-4d63-bc4c-8d945e5c8bbb",
   "metadata": {
    "execution": {
     "iopub.execute_input": "2025-07-28T10:39:19.517856Z",
     "iopub.status.busy": "2025-07-28T10:39:19.517138Z",
     "iopub.status.idle": "2025-07-28T10:39:19.524937Z",
     "shell.execute_reply": "2025-07-28T10:39:19.523969Z"
    },
    "papermill": {
     "duration": 0.03651,
     "end_time": "2025-07-28T10:39:19.526588",
     "exception": false,
     "start_time": "2025-07-28T10:39:19.490078",
     "status": "completed"
    },
    "tags": []
   },
   "outputs": [],
   "source": [
    "for subgroup, cov in cond_coverage.items():\n",
    "    cp_metrics_df[f\"cov_{subgroup}\"] = cov"
   ]
  },
  {
   "cell_type": "code",
   "execution_count": 64,
   "id": "6e872e10-dbe5-49e8-b554-5030c98ff75d",
   "metadata": {
    "execution": {
     "iopub.execute_input": "2025-07-28T10:39:19.579626Z",
     "iopub.status.busy": "2025-07-28T10:39:19.579152Z",
     "iopub.status.idle": "2025-07-28T10:39:19.599450Z",
     "shell.execute_reply": "2025-07-28T10:39:19.598493Z"
    },
    "papermill": {
     "duration": 0.047272,
     "end_time": "2025-07-28T10:39:19.601036",
     "exception": false,
     "start_time": "2025-07-28T10:39:19.553764",
     "status": "completed"
    },
    "tags": []
   },
   "outputs": [
    {
     "data": {
      "text/html": [
       "<div>\n",
       "<style scoped>\n",
       "    .dataframe tbody tr th:only-of-type {\n",
       "        vertical-align: middle;\n",
       "    }\n",
       "\n",
       "    .dataframe tbody tr th {\n",
       "        vertical-align: top;\n",
       "    }\n",
       "\n",
       "    .dataframe thead th {\n",
       "        text-align: right;\n",
       "    }\n",
       "</style>\n",
       "<table border=\"1\" class=\"dataframe\">\n",
       "  <thead>\n",
       "    <tr style=\"text-align: right;\">\n",
       "      <th></th>\n",
       "      <th>universe_id</th>\n",
       "      <th>universe_training_size</th>\n",
       "      <th>universe_scale</th>\n",
       "      <th>universe_model</th>\n",
       "      <th>universe_exclude_features</th>\n",
       "      <th>universe_exclude_subgroups</th>\n",
       "      <th>q_hat</th>\n",
       "      <th>coverage</th>\n",
       "      <th>avg_size</th>\n",
       "      <th>cov_frau1</th>\n",
       "      <th>cov_nongerman</th>\n",
       "      <th>cov_nongerman_male</th>\n",
       "      <th>cov_nongerman_female</th>\n",
       "    </tr>\n",
       "  </thead>\n",
       "  <tbody>\n",
       "    <tr>\n",
       "      <th>0</th>\n",
       "      <td>c87581d41536483fe06e1dbf7f64dfcb</td>\n",
       "      <td>5k</td>\n",
       "      <td>do-not-scale</td>\n",
       "      <td>gbm</td>\n",
       "      <td>age</td>\n",
       "      <td>keep-all</td>\n",
       "      <td>0.708532</td>\n",
       "      <td>0.911303</td>\n",
       "      <td>1.14461</td>\n",
       "      <td>0.909826</td>\n",
       "      <td>0.910066</td>\n",
       "      <td>0.924615</td>\n",
       "      <td>0.885991</td>\n",
       "    </tr>\n",
       "  </tbody>\n",
       "</table>\n",
       "</div>"
      ],
      "text/plain": [
       "                        universe_id universe_training_size universe_scale  \\\n",
       "0  c87581d41536483fe06e1dbf7f64dfcb                     5k   do-not-scale   \n",
       "\n",
       "  universe_model universe_exclude_features universe_exclude_subgroups  \\\n",
       "0            gbm                       age                   keep-all   \n",
       "\n",
       "      q_hat  coverage  avg_size  cov_frau1  cov_nongerman  cov_nongerman_male  \\\n",
       "0  0.708532  0.911303   1.14461   0.909826       0.910066            0.924615   \n",
       "\n",
       "   cov_nongerman_female  \n",
       "0              0.885991  "
      ]
     },
     "execution_count": 64,
     "metadata": {},
     "output_type": "execute_result"
    }
   ],
   "source": [
    "cp_metrics_df"
   ]
  },
  {
   "cell_type": "markdown",
   "id": "33774451",
   "metadata": {
    "papermill": {
     "duration": 0.02497,
     "end_time": "2025-07-28T10:39:19.651531",
     "exception": false,
     "start_time": "2025-07-28T10:39:19.626561",
     "status": "completed"
    },
    "tags": []
   },
   "source": [
    "# (Fairness) Metrics"
   ]
  },
  {
   "cell_type": "code",
   "execution_count": 65,
   "id": "debc5d62",
   "metadata": {
    "execution": {
     "iopub.execute_input": "2025-07-28T10:39:19.704271Z",
     "iopub.status.busy": "2025-07-28T10:39:19.703678Z",
     "iopub.status.idle": "2025-07-28T10:39:19.727613Z",
     "shell.execute_reply": "2025-07-28T10:39:19.726538Z"
    },
    "papermill": {
     "duration": 0.052822,
     "end_time": "2025-07-28T10:39:19.729671",
     "exception": false,
     "start_time": "2025-07-28T10:39:19.676849",
     "status": "completed"
    },
    "tags": []
   },
   "outputs": [],
   "source": [
    "# do I need to include maxdeutsch1.missing?\n",
    "\n",
    "import numpy as np\n",
    "\n",
    "colname_to_bin = \"maxdeutsch1\"\n",
    "majority_value = org_train[colname_to_bin].mode()[0]\n",
    "\n",
    "org_test[\"majmin\"] = np.where(org_test[colname_to_bin] == majority_value, \"majority\", \"minority\")"
   ]
  },
  {
   "cell_type": "code",
   "execution_count": 66,
   "id": "06a50de5",
   "metadata": {
    "execution": {
     "iopub.execute_input": "2025-07-28T10:39:19.782142Z",
     "iopub.status.busy": "2025-07-28T10:39:19.781276Z",
     "iopub.status.idle": "2025-07-28T10:39:22.954942Z",
     "shell.execute_reply": "2025-07-28T10:39:22.953953Z"
    },
    "papermill": {
     "duration": 3.202059,
     "end_time": "2025-07-28T10:39:22.956822",
     "exception": false,
     "start_time": "2025-07-28T10:39:19.754763",
     "status": "completed"
    },
    "tags": []
   },
   "outputs": [],
   "source": [
    "example_universe = universe.copy()\n",
    "example_universe[\"cutoff\"] = example_universe[\"cutoff\"][0]\n",
    "example_universe[\"eval_fairness_grouping\"] = example_universe[\"eval_fairness_grouping\"][0]\n",
    "fairness_dict, metric_frame = universe_analysis.compute_metrics(\n",
    "    example_universe,\n",
    "    y_pred_prob=probs_test,\n",
    "    y_test=y_true,\n",
    "    org_test=org_test,\n",
    ")"
   ]
  },
  {
   "cell_type": "markdown",
   "id": "f95d4e02",
   "metadata": {
    "papermill": {
     "duration": 0.025775,
     "end_time": "2025-07-28T10:39:23.010098",
     "exception": false,
     "start_time": "2025-07-28T10:39:22.984323",
     "status": "completed"
    },
    "tags": []
   },
   "source": [
    "# Overall"
   ]
  },
  {
   "cell_type": "markdown",
   "id": "bdee4871",
   "metadata": {
    "papermill": {
     "duration": 0.0244,
     "end_time": "2025-07-28T10:39:23.059249",
     "exception": false,
     "start_time": "2025-07-28T10:39:23.034849",
     "status": "completed"
    },
    "tags": []
   },
   "source": [
    "Fairness\n",
    "Main fairness target: Equalized Odds. Seems to be a better fit than equal opportunity, since we're not only interested in Y = 1. Seems to be a better fit than demographic parity, since we also care about accuracy, not just equal distribution of preds.\n",
    "\n",
    "Pick column for computation of fairness metrics\n",
    "\n",
    "Performance\n",
    "Overall performance measures, most interesting in relation to the measures split by group below"
   ]
  },
  {
   "cell_type": "code",
   "execution_count": 67,
   "id": "c4e067c6",
   "metadata": {
    "execution": {
     "iopub.execute_input": "2025-07-28T10:39:23.110400Z",
     "iopub.status.busy": "2025-07-28T10:39:23.109917Z",
     "iopub.status.idle": "2025-07-28T10:39:23.118717Z",
     "shell.execute_reply": "2025-07-28T10:39:23.117846Z"
    },
    "papermill": {
     "duration": 0.036155,
     "end_time": "2025-07-28T10:39:23.120370",
     "exception": false,
     "start_time": "2025-07-28T10:39:23.084215",
     "status": "completed"
    },
    "tags": []
   },
   "outputs": [
    {
     "data": {
      "text/plain": [
       "accuracy                   0.224379\n",
       "balanced accuracy          0.548636\n",
       "f1                         0.245710\n",
       "precision                  0.140366\n",
       "false positive rate        0.887522\n",
       "false negative rate        0.015207\n",
       "selection rate             0.900000\n",
       "count                  89710.000000\n",
       "dtype: float64"
      ]
     },
     "execution_count": 67,
     "metadata": {},
     "output_type": "execute_result"
    }
   ],
   "source": [
    "metric_frame.overall"
   ]
  },
  {
   "cell_type": "markdown",
   "id": "e968fe9d",
   "metadata": {
    "papermill": {
     "duration": 0.024377,
     "end_time": "2025-07-28T10:39:23.170276",
     "exception": false,
     "start_time": "2025-07-28T10:39:23.145899",
     "status": "completed"
    },
    "tags": []
   },
   "source": [
    "By Group"
   ]
  },
  {
   "cell_type": "code",
   "execution_count": 68,
   "id": "ec325bce",
   "metadata": {
    "execution": {
     "iopub.execute_input": "2025-07-28T10:39:23.221812Z",
     "iopub.status.busy": "2025-07-28T10:39:23.221348Z",
     "iopub.status.idle": "2025-07-28T10:39:23.237985Z",
     "shell.execute_reply": "2025-07-28T10:39:23.236968Z"
    },
    "papermill": {
     "duration": 0.044528,
     "end_time": "2025-07-28T10:39:23.239623",
     "exception": false,
     "start_time": "2025-07-28T10:39:23.195095",
     "status": "completed"
    },
    "tags": []
   },
   "outputs": [
    {
     "data": {
      "text/html": [
       "<div>\n",
       "<style scoped>\n",
       "    .dataframe tbody tr th:only-of-type {\n",
       "        vertical-align: middle;\n",
       "    }\n",
       "\n",
       "    .dataframe tbody tr th {\n",
       "        vertical-align: top;\n",
       "    }\n",
       "\n",
       "    .dataframe thead th {\n",
       "        text-align: right;\n",
       "    }\n",
       "</style>\n",
       "<table border=\"1\" class=\"dataframe\">\n",
       "  <thead>\n",
       "    <tr style=\"text-align: right;\">\n",
       "      <th></th>\n",
       "      <th>accuracy</th>\n",
       "      <th>balanced accuracy</th>\n",
       "      <th>f1</th>\n",
       "      <th>precision</th>\n",
       "      <th>false positive rate</th>\n",
       "      <th>false negative rate</th>\n",
       "      <th>selection rate</th>\n",
       "      <th>count</th>\n",
       "    </tr>\n",
       "    <tr>\n",
       "      <th>majmin</th>\n",
       "      <th></th>\n",
       "      <th></th>\n",
       "      <th></th>\n",
       "      <th></th>\n",
       "      <th></th>\n",
       "      <th></th>\n",
       "      <th></th>\n",
       "      <th></th>\n",
       "    </tr>\n",
       "  </thead>\n",
       "  <tbody>\n",
       "    <tr>\n",
       "      <th>majority</th>\n",
       "      <td>0.243299</td>\n",
       "      <td>0.557365</td>\n",
       "      <td>0.255812</td>\n",
       "      <td>0.147010</td>\n",
       "      <td>0.869515</td>\n",
       "      <td>0.015755</td>\n",
       "      <td>0.884675</td>\n",
       "      <td>69170.0</td>\n",
       "    </tr>\n",
       "    <tr>\n",
       "      <th>minority</th>\n",
       "      <td>0.160662</td>\n",
       "      <td>0.519951</td>\n",
       "      <td>0.213288</td>\n",
       "      <td>0.119564</td>\n",
       "      <td>0.947006</td>\n",
       "      <td>0.013091</td>\n",
       "      <td>0.951607</td>\n",
       "      <td>20540.0</td>\n",
       "    </tr>\n",
       "  </tbody>\n",
       "</table>\n",
       "</div>"
      ],
      "text/plain": [
       "          accuracy  balanced accuracy        f1  precision  \\\n",
       "majmin                                                       \n",
       "majority  0.243299           0.557365  0.255812   0.147010   \n",
       "minority  0.160662           0.519951  0.213288   0.119564   \n",
       "\n",
       "          false positive rate  false negative rate  selection rate    count  \n",
       "majmin                                                                       \n",
       "majority             0.869515             0.015755        0.884675  69170.0  \n",
       "minority             0.947006             0.013091        0.951607  20540.0  "
      ]
     },
     "execution_count": 68,
     "metadata": {},
     "output_type": "execute_result"
    }
   ],
   "source": [
    "metric_frame.by_group"
   ]
  },
  {
   "cell_type": "code",
   "execution_count": 69,
   "id": "a9ddbe63",
   "metadata": {
    "execution": {
     "iopub.execute_input": "2025-07-28T10:39:23.293638Z",
     "iopub.status.busy": "2025-07-28T10:39:23.292956Z",
     "iopub.status.idle": "2025-07-28T10:39:25.673350Z",
     "shell.execute_reply": "2025-07-28T10:39:25.672473Z"
    },
    "papermill": {
     "duration": 2.409421,
     "end_time": "2025-07-28T10:39:25.675108",
     "exception": false,
     "start_time": "2025-07-28T10:39:23.265687",
     "status": "completed"
    },
    "tags": []
   },
   "outputs": [
    {
     "data": {
      "text/plain": [
       "array([[<Axes: title={'center': 'accuracy'}, xlabel='majmin'>,\n",
       "        <Axes: title={'center': 'balanced accuracy'}, xlabel='majmin'>,\n",
       "        <Axes: title={'center': 'f1'}, xlabel='majmin'>],\n",
       "       [<Axes: title={'center': 'precision'}, xlabel='majmin'>,\n",
       "        <Axes: title={'center': 'false positive rate'}, xlabel='majmin'>,\n",
       "        <Axes: title={'center': 'false negative rate'}, xlabel='majmin'>],\n",
       "       [<Axes: title={'center': 'selection rate'}, xlabel='majmin'>,\n",
       "        <Axes: title={'center': 'count'}, xlabel='majmin'>,\n",
       "        <Axes: xlabel='majmin'>]], dtype=object)"
      ]
     },
     "execution_count": 69,
     "metadata": {},
     "output_type": "execute_result"
    },
    {
     "data": {
      "image/png": "[encoded data removed]",
      "text/plain": [
       "<Figure size 1200x800 with 9 Axes>"
      ]
     },
     "metadata": {},
     "output_type": "display_data"
    }
   ],
   "source": [
    "# In a graphic\n",
    "metric_frame.by_group.plot.bar(\n",
    "    subplots=True,\n",
    "    layout=[3, 3],\n",
    "    legend=False,\n",
    "    figsize=[12, 8],\n",
    "    title=\"Show all metrics\",\n",
    ")"
   ]
  },
  {
   "cell_type": "markdown",
   "id": "f57a0bac",
   "metadata": {
    "papermill": {
     "duration": 0.028467,
     "end_time": "2025-07-28T10:39:25.732595",
     "exception": false,
     "start_time": "2025-07-28T10:39:25.704128",
     "status": "completed"
    },
    "tags": []
   },
   "source": [
    "# Final Output"
   ]
  },
  {
   "cell_type": "code",
   "execution_count": 70,
   "id": "96d280a3",
   "metadata": {
    "execution": {
     "iopub.execute_input": "2025-07-28T10:39:25.790023Z",
     "iopub.status.busy": "2025-07-28T10:39:25.789377Z",
     "iopub.status.idle": "2025-07-28T10:39:25.797442Z",
     "shell.execute_reply": "2025-07-28T10:39:25.796526Z"
    },
    "papermill": {
     "duration": 0.038468,
     "end_time": "2025-07-28T10:39:25.798903",
     "exception": false,
     "start_time": "2025-07-28T10:39:25.760435",
     "status": "completed"
    },
    "tags": []
   },
   "outputs": [
    {
     "data": {
      "text/plain": [
       "4"
      ]
     },
     "execution_count": 70,
     "metadata": {},
     "output_type": "execute_result"
    }
   ],
   "source": [
    "sub_universes = universe_analysis.generate_sub_universes()\n",
    "len(sub_universes)"
   ]
  },
  {
   "cell_type": "code",
   "execution_count": 71,
   "id": "92adf7ba",
   "metadata": {
    "execution": {
     "iopub.execute_input": "2025-07-28T10:39:25.858053Z",
     "iopub.status.busy": "2025-07-28T10:39:25.857387Z",
     "iopub.status.idle": "2025-07-28T10:39:25.863741Z",
     "shell.execute_reply": "2025-07-28T10:39:25.862783Z"
    },
    "papermill": {
     "duration": 0.037737,
     "end_time": "2025-07-28T10:39:25.865278",
     "exception": false,
     "start_time": "2025-07-28T10:39:25.827541",
     "status": "completed"
    },
    "tags": []
   },
   "outputs": [],
   "source": [
    "def filter_sub_universe_data(sub_universe, org_test):\n",
    "    # Keep all rows — no filtering\n",
    "    keep_rows_mask = np.ones(org_test.shape[0], dtype=bool)\n",
    "\n",
    "    print(f\"[INFO] Keeping all rows: {keep_rows_mask.sum()} rows retained.\")\n",
    "    return keep_rows_mask"
   ]
  },
  {
   "cell_type": "code",
   "execution_count": 72,
   "id": "4a759155",
   "metadata": {
    "execution": {
     "iopub.execute_input": "2025-07-28T10:39:25.922874Z",
     "iopub.status.busy": "2025-07-28T10:39:25.922392Z",
     "iopub.status.idle": "2025-07-28T10:39:37.924877Z",
     "shell.execute_reply": "2025-07-28T10:39:37.923876Z"
    },
    "papermill": {
     "duration": 12.033446,
     "end_time": "2025-07-28T10:39:37.926478",
     "exception": false,
     "start_time": "2025-07-28T10:39:25.893032",
     "status": "completed"
    },
    "tags": []
   },
   "outputs": [
    {
     "name": "stdout",
     "output_type": "stream",
     "text": [
      "Stopping execution_time clock.\n",
      "[INFO] Keeping all rows: 89710 rows retained.\n"
     ]
    },
    {
     "name": "stdout",
     "output_type": "stream",
     "text": [
      "[INFO] Keeping all rows: 89710 rows retained.\n"
     ]
    },
    {
     "name": "stdout",
     "output_type": "stream",
     "text": [
      "[INFO] Keeping all rows: 89710 rows retained.\n"
     ]
    },
    {
     "name": "stdout",
     "output_type": "stream",
     "text": [
      "[INFO] Keeping all rows: 89710 rows retained.\n"
     ]
    },
    {
     "data": {
      "text/html": [
       "<div>\n",
       "<style scoped>\n",
       "    .dataframe tbody tr th:only-of-type {\n",
       "        vertical-align: middle;\n",
       "    }\n",
       "\n",
       "    .dataframe tbody tr th {\n",
       "        vertical-align: top;\n",
       "    }\n",
       "\n",
       "    .dataframe thead th {\n",
       "        text-align: right;\n",
       "    }\n",
       "</style>\n",
       "<table border=\"1\" class=\"dataframe\">\n",
       "  <thead>\n",
       "    <tr style=\"text-align: right;\">\n",
       "      <th></th>\n",
       "      <th>run_no</th>\n",
       "      <th>universe_id</th>\n",
       "      <th>universe_settings</th>\n",
       "      <th>execution_time</th>\n",
       "      <th>test_size_n</th>\n",
       "      <th>test_size_frac</th>\n",
       "      <th>fair_main_equalized_odds_difference</th>\n",
       "      <th>fair_main_equalized_odds_ratio</th>\n",
       "      <th>fair_main_demographic_parity_difference</th>\n",
       "      <th>fair_main_demographic_parity_ratio</th>\n",
       "      <th>...</th>\n",
       "      <th>perf_grp_precision_0</th>\n",
       "      <th>perf_grp_precision_1</th>\n",
       "      <th>perf_grp_false positive rate_0</th>\n",
       "      <th>perf_grp_false positive rate_1</th>\n",
       "      <th>perf_grp_false negative rate_0</th>\n",
       "      <th>perf_grp_false negative rate_1</th>\n",
       "      <th>perf_grp_selection rate_0</th>\n",
       "      <th>perf_grp_selection rate_1</th>\n",
       "      <th>perf_grp_count_0</th>\n",
       "      <th>perf_grp_count_1</th>\n",
       "    </tr>\n",
       "  </thead>\n",
       "  <tbody>\n",
       "    <tr>\n",
       "      <th>0</th>\n",
       "      <td>11</td>\n",
       "      <td>c87581d41536483fe06e1dbf7f64dfcb</td>\n",
       "      <td>{\"cutoff\": \"quantile_0.1\", \"eval_fairness_grou...</td>\n",
       "      <td>35.110992</td>\n",
       "      <td>89710</td>\n",
       "      <td>1.0</td>\n",
       "      <td>0.077491</td>\n",
       "      <td>0.918173</td>\n",
       "      <td>0.066931</td>\n",
       "      <td>0.929665</td>\n",
       "      <td>...</td>\n",
       "      <td>NaN</td>\n",
       "      <td>NaN</td>\n",
       "      <td>NaN</td>\n",
       "      <td>NaN</td>\n",
       "      <td>NaN</td>\n",
       "      <td>NaN</td>\n",
       "      <td>NaN</td>\n",
       "      <td>NaN</td>\n",
       "      <td>NaN</td>\n",
       "      <td>NaN</td>\n",
       "    </tr>\n",
       "    <tr>\n",
       "      <th>0</th>\n",
       "      <td>11</td>\n",
       "      <td>c87581d41536483fe06e1dbf7f64dfcb</td>\n",
       "      <td>{\"cutoff\": \"quantile_0.1\", \"eval_fairness_grou...</td>\n",
       "      <td>35.110992</td>\n",
       "      <td>89710</td>\n",
       "      <td>1.0</td>\n",
       "      <td>0.077491</td>\n",
       "      <td>0.918173</td>\n",
       "      <td>0.066931</td>\n",
       "      <td>0.929665</td>\n",
       "      <td>...</td>\n",
       "      <td>0.119564</td>\n",
       "      <td>0.147010</td>\n",
       "      <td>0.947006</td>\n",
       "      <td>0.869515</td>\n",
       "      <td>0.013091</td>\n",
       "      <td>0.015755</td>\n",
       "      <td>0.951607</td>\n",
       "      <td>0.884675</td>\n",
       "      <td>20540.0</td>\n",
       "      <td>69170.0</td>\n",
       "    </tr>\n",
       "    <tr>\n",
       "      <th>0</th>\n",
       "      <td>11</td>\n",
       "      <td>c87581d41536483fe06e1dbf7f64dfcb</td>\n",
       "      <td>{\"cutoff\": \"quantile_0.25\", \"eval_fairness_gro...</td>\n",
       "      <td>35.110992</td>\n",
       "      <td>89710</td>\n",
       "      <td>1.0</td>\n",
       "      <td>0.103795</td>\n",
       "      <td>0.870509</td>\n",
       "      <td>0.087981</td>\n",
       "      <td>0.892439</td>\n",
       "      <td>...</td>\n",
       "      <td>NaN</td>\n",
       "      <td>NaN</td>\n",
       "      <td>NaN</td>\n",
       "      <td>NaN</td>\n",
       "      <td>NaN</td>\n",
       "      <td>NaN</td>\n",
       "      <td>NaN</td>\n",
       "      <td>NaN</td>\n",
       "      <td>NaN</td>\n",
       "      <td>NaN</td>\n",
       "    </tr>\n",
       "    <tr>\n",
       "      <th>0</th>\n",
       "      <td>11</td>\n",
       "      <td>c87581d41536483fe06e1dbf7f64dfcb</td>\n",
       "      <td>{\"cutoff\": \"quantile_0.25\", \"eval_fairness_gro...</td>\n",
       "      <td>35.110992</td>\n",
       "      <td>89710</td>\n",
       "      <td>1.0</td>\n",
       "      <td>0.103795</td>\n",
       "      <td>0.870509</td>\n",
       "      <td>0.087981</td>\n",
       "      <td>0.892439</td>\n",
       "      <td>...</td>\n",
       "      <td>0.133028</td>\n",
       "      <td>0.170439</td>\n",
       "      <td>0.801563</td>\n",
       "      <td>0.697768</td>\n",
       "      <td>0.056166</td>\n",
       "      <td>0.058425</td>\n",
       "      <td>0.817965</td>\n",
       "      <td>0.729984</td>\n",
       "      <td>20540.0</td>\n",
       "      <td>69170.0</td>\n",
       "    </tr>\n",
       "  </tbody>\n",
       "</table>\n",
       "<p>4 rows × 50 columns</p>\n",
       "</div>"
      ],
      "text/plain": [
       "  run_no                       universe_id  \\\n",
       "0     11  c87581d41536483fe06e1dbf7f64dfcb   \n",
       "0     11  c87581d41536483fe06e1dbf7f64dfcb   \n",
       "0     11  c87581d41536483fe06e1dbf7f64dfcb   \n",
       "0     11  c87581d41536483fe06e1dbf7f64dfcb   \n",
       "\n",
       "                                   universe_settings  execution_time  \\\n",
       "0  {\"cutoff\": \"quantile_0.1\", \"eval_fairness_grou...       35.110992   \n",
       "0  {\"cutoff\": \"quantile_0.1\", \"eval_fairness_grou...       35.110992   \n",
       "0  {\"cutoff\": \"quantile_0.25\", \"eval_fairness_gro...       35.110992   \n",
       "0  {\"cutoff\": \"quantile_0.25\", \"eval_fairness_gro...       35.110992   \n",
       "\n",
       "   test_size_n  test_size_frac  fair_main_equalized_odds_difference  \\\n",
       "0        89710             1.0                             0.077491   \n",
       "0        89710             1.0                             0.077491   \n",
       "0        89710             1.0                             0.103795   \n",
       "0        89710             1.0                             0.103795   \n",
       "\n",
       "   fair_main_equalized_odds_ratio  fair_main_demographic_parity_difference  \\\n",
       "0                        0.918173                                 0.066931   \n",
       "0                        0.918173                                 0.066931   \n",
       "0                        0.870509                                 0.087981   \n",
       "0                        0.870509                                 0.087981   \n",
       "\n",
       "   fair_main_demographic_parity_ratio  ...  perf_grp_precision_0  \\\n",
       "0                            0.929665  ...                   NaN   \n",
       "0                            0.929665  ...              0.119564   \n",
       "0                            0.892439  ...                   NaN   \n",
       "0                            0.892439  ...              0.133028   \n",
       "\n",
       "   perf_grp_precision_1  perf_grp_false positive rate_0  \\\n",
       "0                   NaN                             NaN   \n",
       "0              0.147010                        0.947006   \n",
       "0                   NaN                             NaN   \n",
       "0              0.170439                        0.801563   \n",
       "\n",
       "   perf_grp_false positive rate_1  perf_grp_false negative rate_0  \\\n",
       "0                             NaN                             NaN   \n",
       "0                        0.869515                        0.013091   \n",
       "0                             NaN                             NaN   \n",
       "0                        0.697768                        0.056166   \n",
       "\n",
       "   perf_grp_false negative rate_1  perf_grp_selection rate_0  \\\n",
       "0                             NaN                        NaN   \n",
       "0                        0.015755                   0.951607   \n",
       "0                             NaN                        NaN   \n",
       "0                        0.058425                   0.817965   \n",
       "\n",
       "   perf_grp_selection rate_1  perf_grp_count_0  perf_grp_count_1  \n",
       "0                        NaN               NaN               NaN  \n",
       "0                   0.884675           20540.0           69170.0  \n",
       "0                        NaN               NaN               NaN  \n",
       "0                   0.729984           20540.0           69170.0  \n",
       "\n",
       "[4 rows x 50 columns]"
      ]
     },
     "execution_count": 72,
     "metadata": {},
     "output_type": "execute_result"
    }
   ],
   "source": [
    "final_output = universe_analysis.generate_final_output(\n",
    "    y_pred_prob=probs_test,\n",
    "    y_test=y_true,\n",
    "    org_test=org_test,\n",
    "    filter_data=filter_sub_universe_data,\n",
    "    cp_metrics_df=cp_metrics_df,\n",
    "    save=True,\n",
    ")\n",
    "final_output"
   ]
  },
  {
   "cell_type": "code",
   "execution_count": null,
   "id": "721ff514-cb11-46f8-b6fc-50392f74b5cb",
   "metadata": {
    "papermill": {
     "duration": 0.027372,
     "end_time": "2025-07-28T10:39:37.984548",
     "exception": false,
     "start_time": "2025-07-28T10:39:37.957176",
     "status": "completed"
    },
    "tags": []
   },
   "outputs": [],
   "source": []
  }
 ],
 "metadata": {
  "celltoolbar": "Tags",
  "kernelspec": {
   "display_name": "Python (CMA Fairness)",
   "language": "python",
   "name": "cma_fair_env"
  },
  "language_info": {
   "codemirror_mode": {
    "name": "ipython",
    "version": 3
   },
   "file_extension": ".py",
   "mimetype": "text/x-python",
   "name": "python",
   "nbconvert_exporter": "python",
   "pygments_lexer": "ipython3",
   "version": "3.10.12"
  },
  "papermill": {
   "default_parameters": {},
   "duration": 51.661359,
   "end_time": "2025-07-28T10:39:38.831268",
   "environment_variables": {},
   "exception": null,
   "input_path": "universe_analysis.ipynb",
   "output_path": "output/runs/11/notebooks/m_11-c87581d41536483fe06e1dbf7f64dfcb.ipynb",
   "parameters": {
    "output_dir": "output",
    "run_no": "11",
    "seed": "2023",
    "universe": "{\"cutoff\": [\"quantile_0.1\", \"quantile_0.25\"], \"eval_fairness_grouping\": [\"majority-minority\", \"nationality-all\"], \"exclude_features\": \"age\", \"exclude_subgroups\": \"keep-all\", \"model\": \"gbm\", \"scale\": \"do-not-scale\", \"training_size\": \"5k\"}",
    "universe_id": "c87581d41536483fe06e1dbf7f64dfcb"
   },
   "start_time": "2025-07-28T10:38:47.169909",
   "version": "2.6.0"
  }
 },
 "nbformat": 4,
 "nbformat_minor": 5
}