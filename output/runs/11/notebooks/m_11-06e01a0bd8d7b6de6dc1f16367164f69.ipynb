{
 "cells": [
  {
   "cell_type": "code",
   "execution_count": 1,
   "id": "f159f837-637b-42ba-96b5-ec9a68c44524",
   "metadata": {
    "execution": {
     "iopub.execute_input": "2025-07-28T10:34:54.091973Z",
     "iopub.status.busy": "2025-07-28T10:34:54.090923Z",
     "iopub.status.idle": "2025-07-28T10:34:54.104963Z",
     "shell.execute_reply": "2025-07-28T10:34:54.103797Z"
    },
    "papermill": {
     "duration": 0.039223,
     "end_time": "2025-07-28T10:34:54.108852",
     "exception": false,
     "start_time": "2025-07-28T10:34:54.069629",
     "status": "completed"
    },
    "tags": []
   },
   "outputs": [
    {
     "name": "stdout",
     "output_type": "stream",
     "text": [
      "/dss/dsshome1/0C/ra93lal2/cma/CMA_Fairness_v2\n"
     ]
    },
    {
     "name": "stderr",
     "output_type": "stream",
     "text": [
      "/dss/dsshome1/0C/ra93lal2/.local/share/virtualenvs/CMA_Fairness_v2-3j10GkSs/lib/python3.10/site-packages/IPython/core/magics/osm.py:393: UserWarning: This is now an optional IPython functionality, using bookmarks requires you to install the `pickleshare` library.\n",
      "  bkms = self.shell.db.get('bookmarks', {})\n",
      "/dss/dsshome1/0C/ra93lal2/.local/share/virtualenvs/CMA_Fairness_v2-3j10GkSs/lib/python3.10/site-packages/IPython/core/magics/osm.py:417: UserWarning: This is now an optional IPython functionality, setting dhist requires you to install the `pickleshare` library.\n",
      "  self.shell.db['dhist'] = compress_dhist(dhist)[-100:]\n"
     ]
    }
   ],
   "source": [
    "%cd ~/cma/CMA_Fairness_v2"
   ]
  },
  {
   "cell_type": "markdown",
   "id": "de2603b9",
   "metadata": {
    "papermill": {
     "duration": 0.020063,
     "end_time": "2025-07-28T10:34:54.148746",
     "exception": false,
     "start_time": "2025-07-28T10:34:54.128683",
     "status": "completed"
    },
    "tags": []
   },
   "source": [
    "The following cell holds the definition of our parameters, these values can be overriden by rendering the with e.g. the following command:\n",
    "\n",
    "papermill -p alpha 0.2 -p ratio 0.3 universe_analysis.ipynb output/test_run.ipynb"
   ]
  },
  {
   "cell_type": "code",
   "execution_count": 2,
   "id": "a80968a0-40bb-4fa9-85ef-2d5eefb01975",
   "metadata": {
    "execution": {
     "iopub.execute_input": "2025-07-28T10:34:54.192910Z",
     "iopub.status.busy": "2025-07-28T10:34:54.192060Z",
     "iopub.status.idle": "2025-07-28T10:34:54.198853Z",
     "shell.execute_reply": "2025-07-28T10:34:54.197691Z"
    },
    "papermill": {
     "duration": 0.031334,
     "end_time": "2025-07-28T10:34:54.200696",
     "exception": false,
     "start_time": "2025-07-28T10:34:54.169362",
     "status": "completed"
    },
    "tags": []
   },
   "outputs": [
    {
     "name": "stdout",
     "output_type": "stream",
     "text": [
      "Current working directory: /dss/dsshome1/0C/ra93lal2/cma/CMA_Fairness_v2\n"
     ]
    }
   ],
   "source": [
    "import os\n",
    "print(\"Current working directory:\", os.getcwd())"
   ]
  },
  {
   "cell_type": "code",
   "execution_count": 3,
   "id": "2dce4c03",
   "metadata": {
    "execution": {
     "iopub.execute_input": "2025-07-28T10:34:54.243386Z",
     "iopub.status.busy": "2025-07-28T10:34:54.242464Z",
     "iopub.status.idle": "2025-07-28T10:34:54.250007Z",
     "shell.execute_reply": "2025-07-28T10:34:54.248916Z"
    },
    "papermill": {
     "duration": 0.030251,
     "end_time": "2025-07-28T10:34:54.251821",
     "exception": false,
     "start_time": "2025-07-28T10:34:54.221570",
     "status": "completed"
    },
    "tags": [
     "parameters"
    ]
   },
   "outputs": [],
   "source": [
    "run_no = 0\n",
    "universe_id = \"test\"\n",
    "universe = {\n",
    "    \"training_size\": \"2014\", # \"25k\", \"5k\", \"1k\", \"2014\"\n",
    "    \"scale\": \"scale\", # \"scale\", \"do-not-scale\",\n",
    "    #\"stratify_split\": \"target\", # \"none\", \"target\", \"protected-attribute\", \"both\",\n",
    "    \"model\": \"elasticnet\", # \"logreg\", \"penalized_logreg\", \"rf\", \"gbm\", \"elasticnet\"\n",
    "    \"cutoff\": [\"quantile_0.15\", \"quantile_0.30\"],\n",
    "    \"exclude_features\": \"age\", # \"none\", \"nationality\", \"sex\", \"nationality-sex\", \"age\"\n",
    "    \"exclude_subgroups\": \"keep-all\", # \"keep-all\", \"drop-non-german\"\n",
    "    #\"training_sample\": \"restricted\", # \"restricted\", \"full\"\n",
    "    \"eval_fairness_grouping\": [\"majority-minority\", \"nationality-all\"]\n",
    "}\n",
    "\n",
    "output_dir=\"./output\"\n",
    "seed=0"
   ]
  },
  {
   "cell_type": "code",
   "execution_count": 4,
   "id": "7776d478",
   "metadata": {
    "execution": {
     "iopub.execute_input": "2025-07-28T10:34:54.294712Z",
     "iopub.status.busy": "2025-07-28T10:34:54.293844Z",
     "iopub.status.idle": "2025-07-28T10:34:54.299591Z",
     "shell.execute_reply": "2025-07-28T10:34:54.298512Z"
    },
    "papermill": {
     "duration": 0.028764,
     "end_time": "2025-07-28T10:34:54.301469",
     "exception": false,
     "start_time": "2025-07-28T10:34:54.272705",
     "status": "completed"
    },
    "tags": [
     "injected-parameters"
    ]
   },
   "outputs": [],
   "source": [
    "# Parameters\n",
    "universe_id = \"06e01a0bd8d7b6de6dc1f16367164f69\"\n",
    "run_no = \"11\"\n",
    "universe = \"{\\\"cutoff\\\": [\\\"quantile_0.1\\\", \\\"quantile_0.25\\\"], \\\"eval_fairness_grouping\\\": [\\\"majority-minority\\\", \\\"nationality-all\\\"], \\\"exclude_features\\\": \\\"nationality\\\", \\\"exclude_subgroups\\\": \\\"keep-all\\\", \\\"model\\\": \\\"logreg\\\", \\\"scale\\\": \\\"do-not-scale\\\", \\\"training_size\\\": \\\"5k\\\"}\"\n",
    "output_dir = \"output\"\n",
    "seed = \"2023\"\n"
   ]
  },
  {
   "cell_type": "code",
   "execution_count": 5,
   "id": "1650acaf",
   "metadata": {
    "execution": {
     "iopub.execute_input": "2025-07-28T10:34:54.343661Z",
     "iopub.status.busy": "2025-07-28T10:34:54.343223Z",
     "iopub.status.idle": "2025-07-28T10:34:54.347734Z",
     "shell.execute_reply": "2025-07-28T10:34:54.346690Z"
    },
    "papermill": {
     "duration": 0.027335,
     "end_time": "2025-07-28T10:34:54.349530",
     "exception": false,
     "start_time": "2025-07-28T10:34:54.322195",
     "status": "completed"
    },
    "tags": []
   },
   "outputs": [],
   "source": [
    "import json\n",
    "# Parse universe into dict if it is passed as a string\n",
    "if isinstance(universe, str):\n",
    "    universe = json.loads(universe)"
   ]
  },
  {
   "cell_type": "code",
   "execution_count": 6,
   "id": "16620c48",
   "metadata": {
    "execution": {
     "iopub.execute_input": "2025-07-28T10:34:54.392205Z",
     "iopub.status.busy": "2025-07-28T10:34:54.391248Z",
     "iopub.status.idle": "2025-07-28T10:34:54.438707Z",
     "shell.execute_reply": "2025-07-28T10:34:54.437643Z"
    },
    "papermill": {
     "duration": 0.070445,
     "end_time": "2025-07-28T10:34:54.440931",
     "exception": false,
     "start_time": "2025-07-28T10:34:54.370486",
     "status": "completed"
    },
    "tags": []
   },
   "outputs": [],
   "source": [
    "# Auto-reload the custom package\n",
    "%load_ext autoreload\n",
    "%autoreload 1\n",
    "%aimport fairness_multiverse"
   ]
  },
  {
   "cell_type": "code",
   "execution_count": 7,
   "id": "01c5c9f3",
   "metadata": {
    "execution": {
     "iopub.execute_input": "2025-07-28T10:34:54.487030Z",
     "iopub.status.busy": "2025-07-28T10:34:54.486141Z",
     "iopub.status.idle": "2025-07-28T10:34:56.338353Z",
     "shell.execute_reply": "2025-07-28T10:34:56.337348Z"
    },
    "papermill": {
     "duration": 1.876784,
     "end_time": "2025-07-28T10:34:56.340366",
     "exception": false,
     "start_time": "2025-07-28T10:34:54.463582",
     "status": "completed"
    },
    "tags": []
   },
   "outputs": [],
   "source": [
    "from fairness_multiverse.universe import UniverseAnalysis\n",
    "\n",
    "universe_analysis = UniverseAnalysis(\n",
    "    run_no = run_no,\n",
    "    universe_id = universe_id,\n",
    "    universe = universe,\n",
    "    output_dir=output_dir,\n",
    ")"
   ]
  },
  {
   "cell_type": "code",
   "execution_count": 8,
   "id": "106241f5",
   "metadata": {
    "execution": {
     "iopub.execute_input": "2025-07-28T10:34:56.381947Z",
     "iopub.status.busy": "2025-07-28T10:34:56.381444Z",
     "iopub.status.idle": "2025-07-28T10:34:56.387982Z",
     "shell.execute_reply": "2025-07-28T10:34:56.387055Z"
    },
    "papermill": {
     "duration": 0.029645,
     "end_time": "2025-07-28T10:34:56.389824",
     "exception": false,
     "start_time": "2025-07-28T10:34:56.360179",
     "status": "completed"
    },
    "tags": []
   },
   "outputs": [
    {
     "name": "stdout",
     "output_type": "stream",
     "text": [
      "Using Seed: 2023\n"
     ]
    }
   ],
   "source": [
    "import numpy as np\n",
    "parsed_seed = int(seed)\n",
    "np.random.seed(parsed_seed)\n",
    "print(f\"Using Seed: {parsed_seed}\")"
   ]
  },
  {
   "cell_type": "markdown",
   "id": "e0ebdc57",
   "metadata": {
    "papermill": {
     "duration": 0.018612,
     "end_time": "2025-07-28T10:34:56.427495",
     "exception": false,
     "start_time": "2025-07-28T10:34:56.408883",
     "status": "completed"
    },
    "tags": []
   },
   "source": [
    "# Loading Data"
   ]
  },
  {
   "cell_type": "markdown",
   "id": "681925a3",
   "metadata": {
    "papermill": {
     "duration": 0.018846,
     "end_time": "2025-07-28T10:34:56.465473",
     "exception": false,
     "start_time": "2025-07-28T10:34:56.446627",
     "status": "completed"
    },
    "tags": []
   },
   "source": [
    "Load siab_train, siab_test, siab_calib and/or \n",
    "load siab_train_features, siab_train_labels"
   ]
  },
  {
   "cell_type": "code",
   "execution_count": 9,
   "id": "f0496b8a",
   "metadata": {
    "execution": {
     "iopub.execute_input": "2025-07-28T10:34:56.492527Z",
     "iopub.status.busy": "2025-07-28T10:34:56.491854Z",
     "iopub.status.idle": "2025-07-28T10:35:08.810429Z",
     "shell.execute_reply": "2025-07-28T10:35:08.809070Z"
    },
    "papermill": {
     "duration": 12.332229,
     "end_time": "2025-07-28T10:35:08.812994",
     "exception": false,
     "start_time": "2025-07-28T10:34:56.480765",
     "status": "completed"
    },
    "tags": []
   },
   "outputs": [
    {
     "name": "stdout",
     "output_type": "stream",
     "text": [
      "Loading SIAB data from cache: data/siab_cached.csv.gz\n"
     ]
    },
    {
     "name": "stdout",
     "output_type": "stream",
     "text": [
      "(643690, 164)\n"
     ]
    }
   ],
   "source": [
    "from pathlib import Path\n",
    "import pandas as pd\n",
    "\n",
    "# File paths\n",
    "raw_file = Path(\"data/raw/siab.csv\")\n",
    "cache_file = Path(\"data/siab_cached.csv.gz\")\n",
    "\n",
    "# Ensure cache directory exists\n",
    "cache_file.parent.mkdir(parents=True, exist_ok=True)\n",
    "\n",
    "# Load with simple caching\n",
    "if cache_file.exists():\n",
    "    print(f\"Loading SIAB data from cache: {cache_file}\")\n",
    "    siab = pd.read_csv(cache_file, compression='gzip')\n",
    "else:\n",
    "    print(f\"Cache not found. Reading raw SIAB data: {raw_file}\")\n",
    "    siab = pd.read_csv(raw_file)\n",
    "    siab.to_csv(cache_file, index=False, compression='gzip')\n",
    "    print(f\"Cached SIAB data to: {cache_file}\")\n",
    "\n",
    "# Now use `siab` DataFrame as needed\n",
    "print(siab.shape)"
   ]
  },
  {
   "cell_type": "code",
   "execution_count": 10,
   "id": "db0ca512-5f53-4dba-abdb-a2888bca41ba",
   "metadata": {
    "execution": {
     "iopub.execute_input": "2025-07-28T10:35:08.872562Z",
     "iopub.status.busy": "2025-07-28T10:35:08.871502Z",
     "iopub.status.idle": "2025-07-28T10:35:08.877468Z",
     "shell.execute_reply": "2025-07-28T10:35:08.876411Z"
    },
    "papermill": {
     "duration": 0.039786,
     "end_time": "2025-07-28T10:35:08.882449",
     "exception": false,
     "start_time": "2025-07-28T10:35:08.842663",
     "status": "completed"
    },
    "tags": []
   },
   "outputs": [],
   "source": [
    "#siab"
   ]
  },
  {
   "cell_type": "code",
   "execution_count": 11,
   "id": "a0edb063",
   "metadata": {
    "execution": {
     "iopub.execute_input": "2025-07-28T10:35:08.923880Z",
     "iopub.status.busy": "2025-07-28T10:35:08.923431Z",
     "iopub.status.idle": "2025-07-28T10:35:08.928651Z",
     "shell.execute_reply": "2025-07-28T10:35:08.927494Z"
    },
    "papermill": {
     "duration": 0.02601,
     "end_time": "2025-07-28T10:35:08.930268",
     "exception": false,
     "start_time": "2025-07-28T10:35:08.904258",
     "status": "completed"
    },
    "tags": []
   },
   "outputs": [],
   "source": [
    "#import pandas as pd\n",
    "#\n",
    "#X_train = pd.read_csv(\"./data/X_train.csv\")\n",
    "#y_train = pd.read_csv(\"./data/y_train.csv\")"
   ]
  },
  {
   "cell_type": "code",
   "execution_count": 12,
   "id": "63d08085",
   "metadata": {
    "execution": {
     "iopub.execute_input": "2025-07-28T10:35:08.954222Z",
     "iopub.status.busy": "2025-07-28T10:35:08.953753Z",
     "iopub.status.idle": "2025-07-28T10:35:08.959232Z",
     "shell.execute_reply": "2025-07-28T10:35:08.958209Z"
    },
    "papermill": {
     "duration": 0.019753,
     "end_time": "2025-07-28T10:35:08.961120",
     "exception": false,
     "start_time": "2025-07-28T10:35:08.941367",
     "status": "completed"
    },
    "tags": []
   },
   "outputs": [],
   "source": [
    "#X_test = pd.read_csv(\"./data/X_test.csv\")\n",
    "#y_true = pd.read_csv(\"./data/y_test.csv\")"
   ]
  },
  {
   "cell_type": "code",
   "execution_count": 13,
   "id": "98a8d0fa-1d3d-4ed8-bb2c-281470e24add",
   "metadata": {
    "execution": {
     "iopub.execute_input": "2025-07-28T10:35:09.007875Z",
     "iopub.status.busy": "2025-07-28T10:35:09.007212Z",
     "iopub.status.idle": "2025-07-28T10:35:09.013123Z",
     "shell.execute_reply": "2025-07-28T10:35:09.012134Z"
    },
    "papermill": {
     "duration": 0.031714,
     "end_time": "2025-07-28T10:35:09.014854",
     "exception": false,
     "start_time": "2025-07-28T10:35:08.983140",
     "status": "completed"
    },
    "tags": []
   },
   "outputs": [],
   "source": [
    "# Calibration data for conformal\n",
    "#X_calib = pd.read_csv(\"./data/X_calib.csv\")\n",
    "#y_calib = pd.read_csv(\"./data/y_calib.csv\")"
   ]
  },
  {
   "cell_type": "markdown",
   "id": "9901737e-04df-44f0-9100-f5ad144ed040",
   "metadata": {
    "papermill": {
     "duration": 0.020627,
     "end_time": "2025-07-28T10:35:09.057534",
     "exception": false,
     "start_time": "2025-07-28T10:35:09.036907",
     "status": "completed"
    },
    "tags": []
   },
   "source": [
    "# Splitting Data and Setting Training Data Size"
   ]
  },
  {
   "cell_type": "code",
   "execution_count": 14,
   "id": "acbc8f7d-8fc8-4e86-8c59-5dcb0f58384b",
   "metadata": {
    "execution": {
     "iopub.execute_input": "2025-07-28T10:35:09.101822Z",
     "iopub.status.busy": "2025-07-28T10:35:09.101342Z",
     "iopub.status.idle": "2025-07-28T10:35:09.110735Z",
     "shell.execute_reply": "2025-07-28T10:35:09.109575Z"
    },
    "papermill": {
     "duration": 0.033639,
     "end_time": "2025-07-28T10:35:09.112449",
     "exception": false,
     "start_time": "2025-07-28T10:35:09.078810",
     "status": "completed"
    },
    "tags": []
   },
   "outputs": [],
   "source": [
    "def sample_by_year(df, training_size, random_state=42):\n",
    "    if training_size == \"2014\":\n",
    "        return df[df[\"year\"] == 2014].reset_index(drop=True)\n",
    "    \n",
    "    size_map = {\n",
    "        \"25k\": 5000,\n",
    "        \"5k\": 1000,\n",
    "        \"1k\": 200\n",
    "    }\n",
    "\n",
    "    if training_size not in size_map:\n",
    "        return df.reset_index(drop=True)  # use all data\n",
    "\n",
    "    n_per_year = size_map[training_size]\n",
    "    grouped = df.groupby(\"year\")\n",
    "    sampled = grouped.apply(lambda x: x.sample(n=min(n_per_year, len(x)), random_state=random_state))\n",
    "    return sampled.reset_index(drop=True)"
   ]
  },
  {
   "cell_type": "code",
   "execution_count": 15,
   "id": "6d931f52-beaf-43ff-9e78-9d44a448d54e",
   "metadata": {
    "execution": {
     "iopub.execute_input": "2025-07-28T10:35:09.153062Z",
     "iopub.status.busy": "2025-07-28T10:35:09.152581Z",
     "iopub.status.idle": "2025-07-28T10:35:09.835735Z",
     "shell.execute_reply": "2025-07-28T10:35:09.834760Z"
    },
    "papermill": {
     "duration": 0.708564,
     "end_time": "2025-07-28T10:35:09.837978",
     "exception": false,
     "start_time": "2025-07-28T10:35:09.129414",
     "status": "completed"
    },
    "tags": []
   },
   "outputs": [],
   "source": [
    "siab_s = sample_by_year(siab, universe[\"training_size\"])"
   ]
  },
  {
   "cell_type": "code",
   "execution_count": 16,
   "id": "5db0a40e-a4e2-4920-be85-b12ae061d70d",
   "metadata": {
    "execution": {
     "iopub.execute_input": "2025-07-28T10:35:09.883620Z",
     "iopub.status.busy": "2025-07-28T10:35:09.883155Z",
     "iopub.status.idle": "2025-07-28T10:35:09.899740Z",
     "shell.execute_reply": "2025-07-28T10:35:09.897416Z"
    },
    "papermill": {
     "duration": 0.041878,
     "end_time": "2025-07-28T10:35:09.902141",
     "exception": false,
     "start_time": "2025-07-28T10:35:09.860263",
     "status": "completed"
    },
    "tags": []
   },
   "outputs": [
    {
     "data": {
      "text/plain": [
       "year\n",
       "2010    1000\n",
       "2011    1000\n",
       "2012    1000\n",
       "2013    1000\n",
       "2014    1000\n",
       "2015    1000\n",
       "2016    1000\n",
       "dtype: int64"
      ]
     },
     "metadata": {},
     "output_type": "display_data"
    }
   ],
   "source": [
    "display(siab_s.groupby(\"year\").size())"
   ]
  },
  {
   "cell_type": "code",
   "execution_count": 17,
   "id": "a561edb4-d032-42cb-8256-22eac1111c64",
   "metadata": {
    "execution": {
     "iopub.execute_input": "2025-07-28T10:35:09.948367Z",
     "iopub.status.busy": "2025-07-28T10:35:09.947636Z",
     "iopub.status.idle": "2025-07-28T10:35:10.206998Z",
     "shell.execute_reply": "2025-07-28T10:35:10.205960Z"
    },
    "papermill": {
     "duration": 0.284665,
     "end_time": "2025-07-28T10:35:10.209119",
     "exception": false,
     "start_time": "2025-07-28T10:35:09.924454",
     "status": "completed"
    },
    "tags": []
   },
   "outputs": [],
   "source": [
    "siab_train = siab_s[siab_s.year < 2015]\n",
    "siab_calib = siab[siab.year == 2015]\n",
    "siab_test = siab[siab.year == 2016]"
   ]
  },
  {
   "cell_type": "code",
   "execution_count": 18,
   "id": "472de16f-c3db-4916-846b-1f0de9cf1746",
   "metadata": {
    "execution": {
     "iopub.execute_input": "2025-07-28T10:35:10.254072Z",
     "iopub.status.busy": "2025-07-28T10:35:10.253572Z",
     "iopub.status.idle": "2025-07-28T10:35:10.262294Z",
     "shell.execute_reply": "2025-07-28T10:35:10.261095Z"
    },
    "papermill": {
     "duration": 0.033177,
     "end_time": "2025-07-28T10:35:10.264242",
     "exception": false,
     "start_time": "2025-07-28T10:35:10.231065",
     "status": "completed"
    },
    "tags": []
   },
   "outputs": [],
   "source": [
    "X_train = siab_train.iloc[:,4:164]\n",
    "y_train = siab_train.iloc[:, [3]]"
   ]
  },
  {
   "cell_type": "code",
   "execution_count": 19,
   "id": "828c96af-f43a-4ed6-ba47-8ac73a47d56c",
   "metadata": {
    "execution": {
     "iopub.execute_input": "2025-07-28T10:35:10.311014Z",
     "iopub.status.busy": "2025-07-28T10:35:10.310110Z",
     "iopub.status.idle": "2025-07-28T10:35:10.373202Z",
     "shell.execute_reply": "2025-07-28T10:35:10.372020Z"
    },
    "papermill": {
     "duration": 0.087332,
     "end_time": "2025-07-28T10:35:10.375256",
     "exception": false,
     "start_time": "2025-07-28T10:35:10.287924",
     "status": "completed"
    },
    "tags": []
   },
   "outputs": [],
   "source": [
    "X_calib = siab_calib.iloc[:,4:164]\n",
    "y_calib = siab_calib.iloc[:, [3]]"
   ]
  },
  {
   "cell_type": "code",
   "execution_count": 20,
   "id": "c34be9c3-6bd6-476e-acd3-845840e303be",
   "metadata": {
    "execution": {
     "iopub.execute_input": "2025-07-28T10:35:10.421792Z",
     "iopub.status.busy": "2025-07-28T10:35:10.421176Z",
     "iopub.status.idle": "2025-07-28T10:35:10.475843Z",
     "shell.execute_reply": "2025-07-28T10:35:10.474790Z"
    },
    "papermill": {
     "duration": 0.079624,
     "end_time": "2025-07-28T10:35:10.477251",
     "exception": false,
     "start_time": "2025-07-28T10:35:10.397627",
     "status": "completed"
    },
    "tags": []
   },
   "outputs": [],
   "source": [
    "X_test = siab_test.iloc[:,4:164]\n",
    "y_true = siab_test.iloc[:, [3]]"
   ]
  },
  {
   "cell_type": "code",
   "execution_count": 21,
   "id": "e6c733c5",
   "metadata": {
    "execution": {
     "iopub.execute_input": "2025-07-28T10:35:10.522544Z",
     "iopub.status.busy": "2025-07-28T10:35:10.521631Z",
     "iopub.status.idle": "2025-07-28T10:35:10.626949Z",
     "shell.execute_reply": "2025-07-28T10:35:10.625958Z"
    },
    "papermill": {
     "duration": 0.131533,
     "end_time": "2025-07-28T10:35:10.629112",
     "exception": false,
     "start_time": "2025-07-28T10:35:10.497579",
     "status": "completed"
    },
    "tags": []
   },
   "outputs": [],
   "source": [
    "# Auxiliary data needed downstream in the pipeline\n",
    "\n",
    "org_train = X_train.copy()\n",
    "org_test = X_test.copy()\n",
    "org_calib = X_calib.copy()"
   ]
  },
  {
   "cell_type": "markdown",
   "id": "0a4a1b33",
   "metadata": {
    "papermill": {
     "duration": 0.021351,
     "end_time": "2025-07-28T10:35:10.690869",
     "exception": false,
     "start_time": "2025-07-28T10:35:10.669518",
     "status": "completed"
    },
    "tags": []
   },
   "source": [
    "# Preprocessing Data"
   ]
  },
  {
   "cell_type": "code",
   "execution_count": 22,
   "id": "ca879031",
   "metadata": {
    "execution": {
     "iopub.execute_input": "2025-07-28T10:35:10.734498Z",
     "iopub.status.busy": "2025-07-28T10:35:10.734033Z",
     "iopub.status.idle": "2025-07-28T10:35:10.740784Z",
     "shell.execute_reply": "2025-07-28T10:35:10.739385Z"
    },
    "papermill": {
     "duration": 0.030922,
     "end_time": "2025-07-28T10:35:10.742404",
     "exception": false,
     "start_time": "2025-07-28T10:35:10.711482",
     "status": "completed"
    },
    "tags": []
   },
   "outputs": [],
   "source": [
    "# EXCLUDE PROTECTED FEATURES\n",
    "# ----------------------\n",
    "# \"exclude_features\": \"none\", # \"nationality\", \"sex\", \"nationality-sex\"\n",
    "\n",
    "excluded_features = universe[\"exclude_features\"].split(\"-\") # split, e.g.: \"nationality-sex\" -> [\"nationality\", \"sex\"]\n",
    "excluded_features_dictionary = {\n",
    "    \"nationality\": [\"maxdeutsch1\", \"maxdeutsch.Missing.\"],\n",
    "    \"sex\": [\"frau1\"],\n",
    "    \"age\": [\"age\"],\n",
    "}\n"
   ]
  },
  {
   "cell_type": "code",
   "execution_count": 23,
   "id": "b745ac60",
   "metadata": {
    "execution": {
     "iopub.execute_input": "2025-07-28T10:35:10.768823Z",
     "iopub.status.busy": "2025-07-28T10:35:10.768445Z",
     "iopub.status.idle": "2025-07-28T10:35:10.773419Z",
     "shell.execute_reply": "2025-07-28T10:35:10.772451Z"
    },
    "papermill": {
     "duration": 0.020012,
     "end_time": "2025-07-28T10:35:10.774861",
     "exception": false,
     "start_time": "2025-07-28T10:35:10.754849",
     "status": "completed"
    },
    "tags": []
   },
   "outputs": [],
   "source": [
    "# Code nice names to column names\n",
    "\n",
    "excluded_features_columns = [\n",
    "    excluded_features_dictionary[f] for f in excluded_features if len(f) > 0 and f != \"none\"\n",
    "]"
   ]
  },
  {
   "cell_type": "code",
   "execution_count": 24,
   "id": "f84f73a2",
   "metadata": {
    "execution": {
     "iopub.execute_input": "2025-07-28T10:35:10.800717Z",
     "iopub.status.busy": "2025-07-28T10:35:10.800122Z",
     "iopub.status.idle": "2025-07-28T10:35:10.806479Z",
     "shell.execute_reply": "2025-07-28T10:35:10.805623Z"
    },
    "papermill": {
     "duration": 0.020694,
     "end_time": "2025-07-28T10:35:10.807996",
     "exception": false,
     "start_time": "2025-07-28T10:35:10.787302",
     "status": "completed"
    },
    "tags": []
   },
   "outputs": [],
   "source": [
    "from utils import flatten_once\n",
    "\n",
    "excluded_features_columns = flatten_once(excluded_features_columns)"
   ]
  },
  {
   "cell_type": "code",
   "execution_count": 25,
   "id": "884dea22",
   "metadata": {
    "execution": {
     "iopub.execute_input": "2025-07-28T10:35:10.847110Z",
     "iopub.status.busy": "2025-07-28T10:35:10.846642Z",
     "iopub.status.idle": "2025-07-28T10:35:10.855899Z",
     "shell.execute_reply": "2025-07-28T10:35:10.854907Z"
    },
    "papermill": {
     "duration": 0.03628,
     "end_time": "2025-07-28T10:35:10.857770",
     "exception": false,
     "start_time": "2025-07-28T10:35:10.821490",
     "status": "completed"
    },
    "tags": []
   },
   "outputs": [
    {
     "name": "stdout",
     "output_type": "stream",
     "text": [
      "Dropping features: ['maxdeutsch1', 'maxdeutsch.Missing.']\n"
     ]
    }
   ],
   "source": [
    "if len(excluded_features_columns) > 0:\n",
    "    print(f\"Dropping features: {excluded_features_columns}\")\n",
    "    X_train.drop(excluded_features_columns, axis=1, inplace=True)"
   ]
  },
  {
   "cell_type": "code",
   "execution_count": 26,
   "id": "95ab8b16",
   "metadata": {
    "execution": {
     "iopub.execute_input": "2025-07-28T10:35:10.903012Z",
     "iopub.status.busy": "2025-07-28T10:35:10.902329Z",
     "iopub.status.idle": "2025-07-28T10:35:10.962889Z",
     "shell.execute_reply": "2025-07-28T10:35:10.961708Z"
    },
    "papermill": {
     "duration": 0.087123,
     "end_time": "2025-07-28T10:35:10.964948",
     "exception": false,
     "start_time": "2025-07-28T10:35:10.877825",
     "status": "completed"
    },
    "tags": []
   },
   "outputs": [
    {
     "name": "stdout",
     "output_type": "stream",
     "text": [
      "Dropping features: ['maxdeutsch1', 'maxdeutsch.Missing.']\n"
     ]
    }
   ],
   "source": [
    "if len(excluded_features_columns) > 0:\n",
    "    print(f\"Dropping features: {excluded_features_columns}\")\n",
    "    X_test.drop(excluded_features_columns, axis=1, inplace=True)"
   ]
  },
  {
   "cell_type": "code",
   "execution_count": 27,
   "id": "1853aaf5-fb9f-46cb-a2b5-8ea4ae2237e4",
   "metadata": {
    "execution": {
     "iopub.execute_input": "2025-07-28T10:35:11.005565Z",
     "iopub.status.busy": "2025-07-28T10:35:11.005171Z",
     "iopub.status.idle": "2025-07-28T10:35:11.056017Z",
     "shell.execute_reply": "2025-07-28T10:35:11.054805Z"
    },
    "papermill": {
     "duration": 0.072379,
     "end_time": "2025-07-28T10:35:11.058360",
     "exception": false,
     "start_time": "2025-07-28T10:35:10.985981",
     "status": "completed"
    },
    "tags": []
   },
   "outputs": [
    {
     "name": "stdout",
     "output_type": "stream",
     "text": [
      "Dropping features: ['maxdeutsch1', 'maxdeutsch.Missing.']\n"
     ]
    }
   ],
   "source": [
    "if len(excluded_features_columns) > 0:\n",
    "    print(f\"Dropping features: {excluded_features_columns}\")\n",
    "    X_calib.drop(excluded_features_columns, axis=1, inplace=True)"
   ]
  },
  {
   "cell_type": "code",
   "execution_count": 28,
   "id": "6727d079-03e5-481e-9d38-292a90b7a0a8",
   "metadata": {
    "execution": {
     "iopub.execute_input": "2025-07-28T10:35:11.120356Z",
     "iopub.status.busy": "2025-07-28T10:35:11.119830Z",
     "iopub.status.idle": "2025-07-28T10:35:11.126167Z",
     "shell.execute_reply": "2025-07-28T10:35:11.124914Z"
    },
    "papermill": {
     "duration": 0.041398,
     "end_time": "2025-07-28T10:35:11.128368",
     "exception": false,
     "start_time": "2025-07-28T10:35:11.086970",
     "status": "completed"
    },
    "tags": []
   },
   "outputs": [],
   "source": [
    "# SPLIT & STRATIFY DATA\n",
    "# ----------------------"
   ]
  },
  {
   "cell_type": "code",
   "execution_count": 29,
   "id": "76c4dc6d",
   "metadata": {
    "execution": {
     "iopub.execute_input": "2025-07-28T10:35:11.184237Z",
     "iopub.status.busy": "2025-07-28T10:35:11.183535Z",
     "iopub.status.idle": "2025-07-28T10:35:11.189520Z",
     "shell.execute_reply": "2025-07-28T10:35:11.188451Z"
    },
    "papermill": {
     "duration": 0.033734,
     "end_time": "2025-07-28T10:35:11.191395",
     "exception": false,
     "start_time": "2025-07-28T10:35:11.157661",
     "status": "completed"
    },
    "tags": []
   },
   "outputs": [],
   "source": [
    "# EXCLUDE CERTAIN SUBGROUPS\n",
    "# ----------------------\n",
    "\n",
    "mode = universe.get(\"exclude_subgroups\", \"keep-all\") \n",
    "# Fetches the exclude_subgroups setting from the universe dict.\n",
    "# Defaults to \"keep-all\" if the key is missing."
   ]
  },
  {
   "cell_type": "code",
   "execution_count": 30,
   "id": "21994072",
   "metadata": {
    "execution": {
     "iopub.execute_input": "2025-07-28T10:35:11.242796Z",
     "iopub.status.busy": "2025-07-28T10:35:11.242095Z",
     "iopub.status.idle": "2025-07-28T10:35:11.250279Z",
     "shell.execute_reply": "2025-07-28T10:35:11.249197Z"
    },
    "papermill": {
     "duration": 0.035817,
     "end_time": "2025-07-28T10:35:11.252122",
     "exception": false,
     "start_time": "2025-07-28T10:35:11.216305",
     "status": "completed"
    },
    "tags": []
   },
   "outputs": [],
   "source": [
    "if mode == \"keep-all\":\n",
    "    keep_mask = pd.Series(True, index=org_train.index)\n",
    "\n",
    "# org_train contains the original feature columns from features_org (in Simson)\n",
    "# features_org contains unprocessed features, for me X_train at beginning ???\n",
    "# For keep-all, creates a boolean Series (keep_mask) of all True, so no rows are removed.\n",
    "\n",
    "elif mode == \"drop-non-german\":\n",
    "    keep_mask = org_train[\"maxdeutsch1\"] == 1 # ??? what about missing values?\n",
    "\n",
    "else:\n",
    "    raise ValueError(f\"Unsupported mode for exclude_subgroups: {mode}\")\n"
   ]
  },
  {
   "cell_type": "code",
   "execution_count": 31,
   "id": "71651440",
   "metadata": {
    "execution": {
     "iopub.execute_input": "2025-07-28T10:35:11.304211Z",
     "iopub.status.busy": "2025-07-28T10:35:11.303174Z",
     "iopub.status.idle": "2025-07-28T10:35:11.310667Z",
     "shell.execute_reply": "2025-07-28T10:35:11.309631Z"
    },
    "papermill": {
     "duration": 0.035313,
     "end_time": "2025-07-28T10:35:11.312619",
     "exception": false,
     "start_time": "2025-07-28T10:35:11.277306",
     "status": "completed"
    },
    "tags": []
   },
   "outputs": [],
   "source": [
    "n_drop = (~keep_mask).sum() # Calculates how many rows are set to be dropped\n",
    "if n_drop > 0:\n",
    "    pct = n_drop / len(keep_mask) * 100\n",
    "    print(f\"Dropping {n_drop} rows ({pct:.2f}%) where mode='{mode}'\")"
   ]
  },
  {
   "cell_type": "code",
   "execution_count": 32,
   "id": "5fb8eee5",
   "metadata": {
    "execution": {
     "iopub.execute_input": "2025-07-28T10:35:11.365080Z",
     "iopub.status.busy": "2025-07-28T10:35:11.364313Z",
     "iopub.status.idle": "2025-07-28T10:35:11.374986Z",
     "shell.execute_reply": "2025-07-28T10:35:11.373919Z"
    },
    "papermill": {
     "duration": 0.038661,
     "end_time": "2025-07-28T10:35:11.376904",
     "exception": false,
     "start_time": "2025-07-28T10:35:11.338243",
     "status": "completed"
    },
    "tags": []
   },
   "outputs": [],
   "source": [
    "X_train = X_train[keep_mask]"
   ]
  },
  {
   "cell_type": "code",
   "execution_count": 33,
   "id": "b202bb3a",
   "metadata": {
    "execution": {
     "iopub.execute_input": "2025-07-28T10:35:11.426950Z",
     "iopub.status.busy": "2025-07-28T10:35:11.426263Z",
     "iopub.status.idle": "2025-07-28T10:35:11.433063Z",
     "shell.execute_reply": "2025-07-28T10:35:11.431951Z"
    },
    "papermill": {
     "duration": 0.033217,
     "end_time": "2025-07-28T10:35:11.434838",
     "exception": false,
     "start_time": "2025-07-28T10:35:11.401621",
     "status": "completed"
    },
    "tags": []
   },
   "outputs": [],
   "source": [
    "y_train = y_train[keep_mask]"
   ]
  },
  {
   "cell_type": "markdown",
   "id": "493e2ac3",
   "metadata": {
    "papermill": {
     "duration": 0.026756,
     "end_time": "2025-07-28T10:35:11.485812",
     "exception": false,
     "start_time": "2025-07-28T10:35:11.459056",
     "status": "completed"
    },
    "tags": []
   },
   "source": [
    "# Model Training"
   ]
  },
  {
   "cell_type": "code",
   "execution_count": 34,
   "id": "679e1268",
   "metadata": {
    "execution": {
     "iopub.execute_input": "2025-07-28T10:35:11.537621Z",
     "iopub.status.busy": "2025-07-28T10:35:11.536887Z",
     "iopub.status.idle": "2025-07-28T10:35:11.652943Z",
     "shell.execute_reply": "2025-07-28T10:35:11.651822Z"
    },
    "papermill": {
     "duration": 0.144363,
     "end_time": "2025-07-28T10:35:11.655063",
     "exception": false,
     "start_time": "2025-07-28T10:35:11.510700",
     "status": "completed"
    },
    "tags": []
   },
   "outputs": [],
   "source": [
    "from sklearn.linear_model import LogisticRegression\n",
    "from sklearn.ensemble import GradientBoostingClassifier, RandomForestClassifier\n",
    "\n",
    "if (universe[\"model\"] == \"logreg\"):\n",
    "    model = LogisticRegression() #penalty=\"none\") #, solver=\"newton-cg\", max_iter=1) # include random_state=19 ?\n",
    "elif (universe[\"model\"] == \"penalized_logreg\"):\n",
    "    model = LogisticRegression(penalty=\"l2\", C=1.0) #, solver=\"newton-cg\", max_iter=1)\n",
    "elif (universe[\"model\"] == \"rf\"):\n",
    "    model = RandomForestClassifier(n_estimators=100, n_jobs=-1)\n",
    "elif (universe[\"model\"] == \"gbm\"):\n",
    "    model = GradientBoostingClassifier()\n",
    "elif (universe[\"model\"] == \"elasticnet\"):\n",
    "    model = LogisticRegression(penalty = 'elasticnet', solver = 'saga', l1_ratio = 0.5, max_iter=5000) # which solver to use?\n",
    "else:\n",
    "    raise \"Unsupported universe.model\""
   ]
  },
  {
   "cell_type": "code",
   "execution_count": 35,
   "id": "0cc8f744",
   "metadata": {
    "execution": {
     "iopub.execute_input": "2025-07-28T10:35:11.707214Z",
     "iopub.status.busy": "2025-07-28T10:35:11.706526Z",
     "iopub.status.idle": "2025-07-28T10:35:11.713458Z",
     "shell.execute_reply": "2025-07-28T10:35:11.712461Z"
    },
    "papermill": {
     "duration": 0.034697,
     "end_time": "2025-07-28T10:35:11.715008",
     "exception": false,
     "start_time": "2025-07-28T10:35:11.680311",
     "status": "completed"
    },
    "tags": []
   },
   "outputs": [],
   "source": [
    "import numpy as np\n",
    "from sklearn.pipeline import Pipeline\n",
    "from sklearn.preprocessing import StandardScaler\n",
    "\n",
    "model = Pipeline([\n",
    "    #(\"continuous_processor\", continuous_processor),\n",
    "    #(\"categorical_preprocessor\", categorical_preprocessor),\n",
    "    (\"scale\", StandardScaler() if universe[\"scale\"] == \"scale\" else None), \n",
    "    (\"model\", model),\n",
    "])"
   ]
  },
  {
   "cell_type": "code",
   "execution_count": 36,
   "id": "9442c04d",
   "metadata": {
    "execution": {
     "iopub.execute_input": "2025-07-28T10:35:11.762085Z",
     "iopub.status.busy": "2025-07-28T10:35:11.761143Z",
     "iopub.status.idle": "2025-07-28T10:35:11.920722Z",
     "shell.execute_reply": "2025-07-28T10:35:11.919709Z"
    },
    "papermill": {
     "duration": 0.184681,
     "end_time": "2025-07-28T10:35:11.922430",
     "exception": false,
     "start_time": "2025-07-28T10:35:11.737749",
     "status": "completed"
    },
    "tags": []
   },
   "outputs": [
    {
     "name": "stderr",
     "output_type": "stream",
     "text": [
      "/dss/dsshome1/0C/ra93lal2/.local/share/virtualenvs/CMA_Fairness_v2-3j10GkSs/lib/python3.10/site-packages/sklearn/linear_model/_logistic.py:444: ConvergenceWarning: lbfgs failed to converge (status=1):\n",
      "STOP: TOTAL NO. of ITERATIONS REACHED LIMIT.\n",
      "\n",
      "Increase the number of iterations (max_iter) or scale the data as shown in:\n",
      "    https://scikit-learn.org/stable/modules/preprocessing.html\n",
      "Please also refer to the documentation for alternative solver options:\n",
      "    https://scikit-learn.org/stable/modules/linear_model.html#logistic-regression\n",
      "  n_iter_i = _check_optimize_result(\n"
     ]
    },
    {
     "data": {
      "text/html": [
       "<style>#sk-container-id-1 {color: black;background-color: white;}#sk-container-id-1 pre{padding: 0;}#sk-container-id-1 div.sk-toggleable {background-color: white;}#sk-container-id-1 label.sk-toggleable__label {cursor: pointer;display: block;width: 100%;margin-bottom: 0;padding: 0.3em;box-sizing: border-box;text-align: center;}#sk-container-id-1 label.sk-toggleable__label-arrow:before {content: \"▸\";float: left;margin-right: 0.25em;color: #696969;}#sk-container-id-1 label.sk-toggleable__label-arrow:hover:before {color: black;}#sk-container-id-1 div.sk-estimator:hover label.sk-toggleable__label-arrow:before {color: black;}#sk-container-id-1 div.sk-toggleable__content {max-height: 0;max-width: 0;overflow: hidden;text-align: left;background-color: #f0f8ff;}#sk-container-id-1 div.sk-toggleable__content pre {margin: 0.2em;color: black;border-radius: 0.25em;background-color: #f0f8ff;}#sk-container-id-1 input.sk-toggleable__control:checked~div.sk-toggleable__content {max-height: 200px;max-width: 100%;overflow: auto;}#sk-container-id-1 input.sk-toggleable__control:checked~label.sk-toggleable__label-arrow:before {content: \"▾\";}#sk-container-id-1 div.sk-estimator input.sk-toggleable__control:checked~label.sk-toggleable__label {background-color: #d4ebff;}#sk-container-id-1 div.sk-label input.sk-toggleable__control:checked~label.sk-toggleable__label {background-color: #d4ebff;}#sk-container-id-1 input.sk-hidden--visually {border: 0;clip: rect(1px 1px 1px 1px);clip: rect(1px, 1px, 1px, 1px);height: 1px;margin: -1px;overflow: hidden;padding: 0;position: absolute;width: 1px;}#sk-container-id-1 div.sk-estimator {font-family: monospace;background-color: #f0f8ff;border: 1px dotted black;border-radius: 0.25em;box-sizing: border-box;margin-bottom: 0.5em;}#sk-container-id-1 div.sk-estimator:hover {background-color: #d4ebff;}#sk-container-id-1 div.sk-parallel-item::after {content: \"\";width: 100%;border-bottom: 1px solid gray;flex-grow: 1;}#sk-container-id-1 div.sk-label:hover label.sk-toggleable__label {background-color: #d4ebff;}#sk-container-id-1 div.sk-serial::before {content: \"\";position: absolute;border-left: 1px solid gray;box-sizing: border-box;top: 0;bottom: 0;left: 50%;z-index: 0;}#sk-container-id-1 div.sk-serial {display: flex;flex-direction: column;align-items: center;background-color: white;padding-right: 0.2em;padding-left: 0.2em;position: relative;}#sk-container-id-1 div.sk-item {position: relative;z-index: 1;}#sk-container-id-1 div.sk-parallel {display: flex;align-items: stretch;justify-content: center;background-color: white;position: relative;}#sk-container-id-1 div.sk-item::before, #sk-container-id-1 div.sk-parallel-item::before {content: \"\";position: absolute;border-left: 1px solid gray;box-sizing: border-box;top: 0;bottom: 0;left: 50%;z-index: -1;}#sk-container-id-1 div.sk-parallel-item {display: flex;flex-direction: column;z-index: 1;position: relative;background-color: white;}#sk-container-id-1 div.sk-parallel-item:first-child::after {align-self: flex-end;width: 50%;}#sk-container-id-1 div.sk-parallel-item:last-child::after {align-self: flex-start;width: 50%;}#sk-container-id-1 div.sk-parallel-item:only-child::after {width: 0;}#sk-container-id-1 div.sk-dashed-wrapped {border: 1px dashed gray;margin: 0 0.4em 0.5em 0.4em;box-sizing: border-box;padding-bottom: 0.4em;background-color: white;}#sk-container-id-1 div.sk-label label {font-family: monospace;font-weight: bold;display: inline-block;line-height: 1.2em;}#sk-container-id-1 div.sk-label-container {text-align: center;}#sk-container-id-1 div.sk-container {/* jupyter's `normalize.less` sets `[hidden] { display: none; }` but bootstrap.min.css set `[hidden] { display: none !important; }` so we also need the `!important` here to be able to override the default hidden behavior on the sphinx rendered scikit-learn.org. See: https://github.com/scikit-learn/scikit-learn/issues/21755 */display: inline-block !important;position: relative;}#sk-container-id-1 div.sk-text-repr-fallback {display: none;}</style><div id=\"sk-container-id-1\" class=\"sk-top-container\"><div class=\"sk-text-repr-fallback\"><pre>Pipeline(steps=[(&#x27;scale&#x27;, None), (&#x27;model&#x27;, LogisticRegression())])</pre><b>In a Jupyter environment, please rerun this cell to show the HTML representation or trust the notebook. <br />On GitHub, the HTML representation is unable to render, please try loading this page with nbviewer.org.</b></div><div class=\"sk-container\" hidden><div class=\"sk-item sk-dashed-wrapped\"><div class=\"sk-label-container\"><div class=\"sk-label sk-toggleable\"><input class=\"sk-toggleable__control sk-hidden--visually\" id=\"sk-estimator-id-1\" type=\"checkbox\" ><label for=\"sk-estimator-id-1\" class=\"sk-toggleable__label sk-toggleable__label-arrow\">Pipeline</label><div class=\"sk-toggleable__content\"><pre>Pipeline(steps=[(&#x27;scale&#x27;, None), (&#x27;model&#x27;, LogisticRegression())])</pre></div></div></div><div class=\"sk-serial\"><div class=\"sk-item\"><div class=\"sk-estimator sk-toggleable\"><input class=\"sk-toggleable__control sk-hidden--visually\" id=\"sk-estimator-id-2\" type=\"checkbox\" ><label for=\"sk-estimator-id-2\" class=\"sk-toggleable__label sk-toggleable__label-arrow\">None</label><div class=\"sk-toggleable__content\"><pre>None</pre></div></div></div><div class=\"sk-item\"><div class=\"sk-estimator sk-toggleable\"><input class=\"sk-toggleable__control sk-hidden--visually\" id=\"sk-estimator-id-3\" type=\"checkbox\" ><label for=\"sk-estimator-id-3\" class=\"sk-toggleable__label sk-toggleable__label-arrow\">LogisticRegression</label><div class=\"sk-toggleable__content\"><pre>LogisticRegression()</pre></div></div></div></div></div></div></div>"
      ],
      "text/plain": [
       "Pipeline(steps=[('scale', None), ('model', LogisticRegression())])"
      ]
     },
     "execution_count": 36,
     "metadata": {},
     "output_type": "execute_result"
    }
   ],
   "source": [
    "model.fit(X_train, y_train.values.ravel())"
   ]
  },
  {
   "cell_type": "code",
   "execution_count": 37,
   "id": "af59f8c0",
   "metadata": {
    "execution": {
     "iopub.execute_input": "2025-07-28T10:35:11.973991Z",
     "iopub.status.busy": "2025-07-28T10:35:11.973041Z",
     "iopub.status.idle": "2025-07-28T10:35:11.978847Z",
     "shell.execute_reply": "2025-07-28T10:35:11.977888Z"
    },
    "papermill": {
     "duration": 0.031355,
     "end_time": "2025-07-28T10:35:11.980570",
     "exception": false,
     "start_time": "2025-07-28T10:35:11.949215",
     "status": "completed"
    },
    "tags": []
   },
   "outputs": [],
   "source": [
    "from fairness_multiverse.universe import predict_w_threshold"
   ]
  },
  {
   "cell_type": "code",
   "execution_count": 38,
   "id": "a7cf2e16",
   "metadata": {
    "execution": {
     "iopub.execute_input": "2025-07-28T10:35:12.027507Z",
     "iopub.status.busy": "2025-07-28T10:35:12.026712Z",
     "iopub.status.idle": "2025-07-28T10:35:12.131238Z",
     "shell.execute_reply": "2025-07-28T10:35:12.130270Z"
    },
    "papermill": {
     "duration": 0.129958,
     "end_time": "2025-07-28T10:35:12.133099",
     "exception": false,
     "start_time": "2025-07-28T10:35:12.003141",
     "status": "completed"
    },
    "tags": []
   },
   "outputs": [
    {
     "data": {
      "text/plain": [
       "0.8585776390591907"
      ]
     },
     "execution_count": 38,
     "metadata": {},
     "output_type": "execute_result"
    }
   ],
   "source": [
    "probs_test = model.predict_proba(X_test)\n",
    "\n",
    "'''\n",
    "Below code returns a boolean array (or binary 0/1 array depending on how it’s used) where each element \n",
    "is True if the probability of class 1 is greater than or equal to the threshold, and False otherwise.\n",
    "'''\n",
    "y_pred_default = predict_w_threshold(probs_test, 0.5)\n",
    "\n",
    "from sklearn.metrics import accuracy_score\n",
    "\n",
    "# Naive prediction\n",
    "accuracy_score(y_true = y_true, y_pred = y_pred_default)"
   ]
  },
  {
   "cell_type": "code",
   "execution_count": 39,
   "id": "081964c3",
   "metadata": {
    "execution": {
     "iopub.execute_input": "2025-07-28T10:35:12.181885Z",
     "iopub.status.busy": "2025-07-28T10:35:12.180938Z",
     "iopub.status.idle": "2025-07-28T10:35:12.269686Z",
     "shell.execute_reply": "2025-07-28T10:35:12.268577Z"
    },
    "papermill": {
     "duration": 0.114616,
     "end_time": "2025-07-28T10:35:12.271536",
     "exception": false,
     "start_time": "2025-07-28T10:35:12.156920",
     "status": "completed"
    },
    "tags": []
   },
   "outputs": [
    {
     "data": {
      "text/plain": [
       "array([0, 0, 0, ..., 0, 0, 0])"
      ]
     },
     "execution_count": 39,
     "metadata": {},
     "output_type": "execute_result"
    }
   ],
   "source": [
    "model.predict(X_test)"
   ]
  },
  {
   "cell_type": "markdown",
   "id": "56c9705b",
   "metadata": {
    "papermill": {
     "duration": 0.022353,
     "end_time": "2025-07-28T10:35:12.316483",
     "exception": false,
     "start_time": "2025-07-28T10:35:12.294130",
     "status": "completed"
    },
    "tags": []
   },
   "source": [
    "# Conformal Prediction"
   ]
  },
  {
   "cell_type": "code",
   "execution_count": 40,
   "id": "160ec6ff",
   "metadata": {
    "execution": {
     "iopub.execute_input": "2025-07-28T10:35:12.364834Z",
     "iopub.status.busy": "2025-07-28T10:35:12.364009Z",
     "iopub.status.idle": "2025-07-28T10:35:12.369546Z",
     "shell.execute_reply": "2025-07-28T10:35:12.368492Z"
    },
    "papermill": {
     "duration": 0.032104,
     "end_time": "2025-07-28T10:35:12.371492",
     "exception": false,
     "start_time": "2025-07-28T10:35:12.339388",
     "status": "completed"
    },
    "tags": []
   },
   "outputs": [],
   "source": [
    "# Miscoverage level for conformal prediction (10% allowed error rate => 90% target coverage)\n",
    "alpha = 0.1"
   ]
  },
  {
   "cell_type": "code",
   "execution_count": 41,
   "id": "eadf4555-3dd3-440e-8e35-f82a4ad9f855",
   "metadata": {
    "execution": {
     "iopub.execute_input": "2025-07-28T10:35:12.426963Z",
     "iopub.status.busy": "2025-07-28T10:35:12.425964Z",
     "iopub.status.idle": "2025-07-28T10:35:12.541845Z",
     "shell.execute_reply": "2025-07-28T10:35:12.540533Z"
    },
    "papermill": {
     "duration": 0.146053,
     "end_time": "2025-07-28T10:35:12.544204",
     "exception": false,
     "start_time": "2025-07-28T10:35:12.398151",
     "status": "completed"
    },
    "tags": []
   },
   "outputs": [],
   "source": [
    "probs_calib = model.predict_proba(X_calib)"
   ]
  },
  {
   "cell_type": "code",
   "execution_count": 42,
   "id": "2ed93547-6d5d-4983-9b36-1ecb300da49a",
   "metadata": {
    "execution": {
     "iopub.execute_input": "2025-07-28T10:35:12.592974Z",
     "iopub.status.busy": "2025-07-28T10:35:12.592194Z",
     "iopub.status.idle": "2025-07-28T10:35:12.599057Z",
     "shell.execute_reply": "2025-07-28T10:35:12.598040Z"
    },
    "papermill": {
     "duration": 0.032352,
     "end_time": "2025-07-28T10:35:12.601019",
     "exception": false,
     "start_time": "2025-07-28T10:35:12.568667",
     "status": "completed"
    },
    "tags": []
   },
   "outputs": [],
   "source": [
    "y_calib = y_calib.values.ravel().astype(int)"
   ]
  },
  {
   "cell_type": "code",
   "execution_count": 43,
   "id": "65d1320d-f588-4b38-9072-62af1ae97f7d",
   "metadata": {
    "execution": {
     "iopub.execute_input": "2025-07-28T10:35:12.653579Z",
     "iopub.status.busy": "2025-07-28T10:35:12.652832Z",
     "iopub.status.idle": "2025-07-28T10:35:12.660738Z",
     "shell.execute_reply": "2025-07-28T10:35:12.659521Z"
    },
    "papermill": {
     "duration": 0.03602,
     "end_time": "2025-07-28T10:35:12.662644",
     "exception": false,
     "start_time": "2025-07-28T10:35:12.626624",
     "status": "completed"
    },
    "tags": []
   },
   "outputs": [],
   "source": [
    "from fairness_multiverse.conformal import compute_nc_scores\n",
    "\n",
    "# Compute nonconformity scores on calibration set (1 - probability of true class)\n",
    "nc_scores = compute_nc_scores(probs_calib, y_calib)"
   ]
  },
  {
   "cell_type": "code",
   "execution_count": 44,
   "id": "df3b8ca3-53b7-43d5-9667-7c85da7aeda2",
   "metadata": {
    "execution": {
     "iopub.execute_input": "2025-07-28T10:35:12.711104Z",
     "iopub.status.busy": "2025-07-28T10:35:12.710249Z",
     "iopub.status.idle": "2025-07-28T10:35:12.718444Z",
     "shell.execute_reply": "2025-07-28T10:35:12.717330Z"
    },
    "papermill": {
     "duration": 0.034662,
     "end_time": "2025-07-28T10:35:12.720516",
     "exception": false,
     "start_time": "2025-07-28T10:35:12.685854",
     "status": "completed"
    },
    "tags": []
   },
   "outputs": [],
   "source": [
    "from fairness_multiverse.conformal import find_threshold\n",
    "\n",
    "# Find conformal threshold q_hat for the given alpha (split conformal method)\n",
    "q_hat = find_threshold(nc_scores, alpha)"
   ]
  },
  {
   "cell_type": "code",
   "execution_count": 45,
   "id": "4d29e6c1-0ef6-4aa4-b8fe-4fe79b0d033a",
   "metadata": {
    "execution": {
     "iopub.execute_input": "2025-07-28T10:35:12.770110Z",
     "iopub.status.busy": "2025-07-28T10:35:12.769562Z",
     "iopub.status.idle": "2025-07-28T10:35:12.777170Z",
     "shell.execute_reply": "2025-07-28T10:35:12.776196Z"
    },
    "papermill": {
     "duration": 0.035967,
     "end_time": "2025-07-28T10:35:12.779105",
     "exception": false,
     "start_time": "2025-07-28T10:35:12.743138",
     "status": "completed"
    },
    "tags": []
   },
   "outputs": [
    {
     "data": {
      "text/plain": [
       "0.6832193219273258"
      ]
     },
     "execution_count": 45,
     "metadata": {},
     "output_type": "execute_result"
    }
   ],
   "source": [
    "q_hat"
   ]
  },
  {
   "cell_type": "code",
   "execution_count": 46,
   "id": "92460794-cdac-4be2-ba28-f28c0515a6fb",
   "metadata": {
    "execution": {
     "iopub.execute_input": "2025-07-28T10:35:12.832853Z",
     "iopub.status.busy": "2025-07-28T10:35:12.832360Z",
     "iopub.status.idle": "2025-07-28T10:35:13.674333Z",
     "shell.execute_reply": "2025-07-28T10:35:13.673326Z"
    },
    "papermill": {
     "duration": 0.871299,
     "end_time": "2025-07-28T10:35:13.676428",
     "exception": false,
     "start_time": "2025-07-28T10:35:12.805129",
     "status": "completed"
    },
    "tags": []
   },
   "outputs": [],
   "source": [
    "from fairness_multiverse.conformal import predict_conformal_sets\n",
    "\n",
    "# Generate prediction sets for each test example\n",
    "pred_sets = predict_conformal_sets(model, X_test, q_hat)"
   ]
  },
  {
   "cell_type": "code",
   "execution_count": 47,
   "id": "d90c9a65-e6db-4f5d-80cd-e68fb7e46829",
   "metadata": {
    "execution": {
     "iopub.execute_input": "2025-07-28T10:35:13.731552Z",
     "iopub.status.busy": "2025-07-28T10:35:13.731051Z",
     "iopub.status.idle": "2025-07-28T10:35:13.737116Z",
     "shell.execute_reply": "2025-07-28T10:35:13.735933Z"
    },
    "papermill": {
     "duration": 0.035924,
     "end_time": "2025-07-28T10:35:13.738992",
     "exception": false,
     "start_time": "2025-07-28T10:35:13.703068",
     "status": "completed"
    },
    "tags": []
   },
   "outputs": [],
   "source": [
    "y_true = y_true.squeeze()"
   ]
  },
  {
   "cell_type": "code",
   "execution_count": 48,
   "id": "3a58a54a-1e68-46b9-927a-df01f18aebc8",
   "metadata": {
    "execution": {
     "iopub.execute_input": "2025-07-28T10:35:13.795864Z",
     "iopub.status.busy": "2025-07-28T10:35:13.795375Z",
     "iopub.status.idle": "2025-07-28T10:35:14.785806Z",
     "shell.execute_reply": "2025-07-28T10:35:14.784790Z"
    },
    "papermill": {
     "duration": 1.02092,
     "end_time": "2025-07-28T10:35:14.788048",
     "exception": false,
     "start_time": "2025-07-28T10:35:13.767128",
     "status": "completed"
    },
    "tags": []
   },
   "outputs": [],
   "source": [
    "from fairness_multiverse.conformal import evaluate_sets\n",
    "\n",
    "# Evaluate coverage and average set size on test data\n",
    "metrics = evaluate_sets(pred_sets, y_true)"
   ]
  },
  {
   "cell_type": "markdown",
   "id": "2b569c12-9aaa-4c88-98c9-bbcd0cf3ebb8",
   "metadata": {
    "papermill": {
     "duration": 0.027898,
     "end_time": "2025-07-28T10:35:14.847074",
     "exception": false,
     "start_time": "2025-07-28T10:35:14.819176",
     "status": "completed"
    },
    "tags": []
   },
   "source": [
    "# CP Metrics"
   ]
  },
  {
   "cell_type": "code",
   "execution_count": 49,
   "id": "5ce0a5cb-201f-45a0-ade5-94c7f0bd6095",
   "metadata": {
    "execution": {
     "iopub.execute_input": "2025-07-28T10:35:14.892621Z",
     "iopub.status.busy": "2025-07-28T10:35:14.891695Z",
     "iopub.status.idle": "2025-07-28T10:35:14.898877Z",
     "shell.execute_reply": "2025-07-28T10:35:14.897996Z"
    },
    "papermill": {
     "duration": 0.026191,
     "end_time": "2025-07-28T10:35:14.900432",
     "exception": false,
     "start_time": "2025-07-28T10:35:14.874241",
     "status": "completed"
    },
    "tags": []
   },
   "outputs": [
    {
     "data": {
      "text/plain": [
       "{'coverage': 0.911615204547988, 'avg_size': 1.193947163081039}"
      ]
     },
     "execution_count": 49,
     "metadata": {},
     "output_type": "execute_result"
    }
   ],
   "source": [
    "metrics"
   ]
  },
  {
   "cell_type": "code",
   "execution_count": 50,
   "id": "9b9a838d-31c9-430b-ae14-12baee460d17",
   "metadata": {
    "execution": {
     "iopub.execute_input": "2025-07-28T10:35:14.929941Z",
     "iopub.status.busy": "2025-07-28T10:35:14.929398Z",
     "iopub.status.idle": "2025-07-28T10:35:14.934942Z",
     "shell.execute_reply": "2025-07-28T10:35:14.934150Z"
    },
    "papermill": {
     "duration": 0.021625,
     "end_time": "2025-07-28T10:35:14.936564",
     "exception": false,
     "start_time": "2025-07-28T10:35:14.914939",
     "status": "completed"
    },
    "tags": []
   },
   "outputs": [],
   "source": [
    "example_universe = universe.copy()\n",
    "universe_training_size = example_universe.get(\"training_size\")\n",
    "universe_scale = example_universe.get(\"scale\")\n",
    "universe_model = example_universe.get(\"model\")\n",
    "universe_exclude_features = example_universe.get(\"exclude_features\")\n",
    "universe_exclude_subgroups = example_universe.get(\"exclude_subgroups\")"
   ]
  },
  {
   "cell_type": "code",
   "execution_count": 51,
   "id": "f4b6a8ac-9dc0-4245-8a91-5b3b5999c4f9",
   "metadata": {
    "execution": {
     "iopub.execute_input": "2025-07-28T10:35:14.965982Z",
     "iopub.status.busy": "2025-07-28T10:35:14.965601Z",
     "iopub.status.idle": "2025-07-28T10:35:15.000270Z",
     "shell.execute_reply": "2025-07-28T10:35:14.999118Z"
    },
    "papermill": {
     "duration": 0.051813,
     "end_time": "2025-07-28T10:35:15.002740",
     "exception": false,
     "start_time": "2025-07-28T10:35:14.950927",
     "status": "completed"
    },
    "tags": []
   },
   "outputs": [],
   "source": [
    "cp_metrics_dict = {\n",
    "    \"universe_id\": [universe_id],\n",
    "    \"universe_training_size\": [universe_training_size],\n",
    "    \"universe_scale\": [universe_scale],\n",
    "    \"universe_model\": [universe_model],\n",
    "    \"universe_exclude_features\": [universe_exclude_features],\n",
    "    \"universe_exclude_subgroups\": [universe_exclude_subgroups],\n",
    "    \"q_hat\": [q_hat],\n",
    "    \"coverage\": [metrics[\"coverage\"]],\n",
    "    \"avg_size\": [metrics[\"avg_size\"]],\n",
    "}"
   ]
  },
  {
   "cell_type": "code",
   "execution_count": 52,
   "id": "908acbb1-0371-4915-85ca-3fa520d2efe2",
   "metadata": {
    "execution": {
     "iopub.execute_input": "2025-07-28T10:35:15.062304Z",
     "iopub.status.busy": "2025-07-28T10:35:15.061595Z",
     "iopub.status.idle": "2025-07-28T10:35:15.069667Z",
     "shell.execute_reply": "2025-07-28T10:35:15.068645Z"
    },
    "papermill": {
     "duration": 0.040273,
     "end_time": "2025-07-28T10:35:15.071735",
     "exception": false,
     "start_time": "2025-07-28T10:35:15.031462",
     "status": "completed"
    },
    "tags": []
   },
   "outputs": [
    {
     "data": {
      "text/plain": [
       "{'universe_id': ['06e01a0bd8d7b6de6dc1f16367164f69'],\n",
       " 'universe_training_size': ['5k'],\n",
       " 'universe_scale': ['do-not-scale'],\n",
       " 'universe_model': ['logreg'],\n",
       " 'universe_exclude_features': ['nationality'],\n",
       " 'universe_exclude_subgroups': ['keep-all'],\n",
       " 'q_hat': [0.6832193219273258],\n",
       " 'coverage': [0.911615204547988],\n",
       " 'avg_size': [1.193947163081039]}"
      ]
     },
     "execution_count": 52,
     "metadata": {},
     "output_type": "execute_result"
    }
   ],
   "source": [
    "cp_metrics_dict"
   ]
  },
  {
   "cell_type": "code",
   "execution_count": 53,
   "id": "33007efc-14e9-4ec6-97ac-56a455c82265",
   "metadata": {
    "execution": {
     "iopub.execute_input": "2025-07-28T10:35:15.126733Z",
     "iopub.status.busy": "2025-07-28T10:35:15.126243Z",
     "iopub.status.idle": "2025-07-28T10:35:15.132914Z",
     "shell.execute_reply": "2025-07-28T10:35:15.131785Z"
    },
    "papermill": {
     "duration": 0.034512,
     "end_time": "2025-07-28T10:35:15.134760",
     "exception": false,
     "start_time": "2025-07-28T10:35:15.100248",
     "status": "completed"
    },
    "tags": []
   },
   "outputs": [],
   "source": [
    "cp_metrics_df = pd.DataFrame(cp_metrics_dict)"
   ]
  },
  {
   "cell_type": "code",
   "execution_count": 54,
   "id": "db12611b-57b2-4910-b9d0-355adfd6e7bf",
   "metadata": {
    "execution": {
     "iopub.execute_input": "2025-07-28T10:35:15.188487Z",
     "iopub.status.busy": "2025-07-28T10:35:15.187892Z",
     "iopub.status.idle": "2025-07-28T10:35:15.208150Z",
     "shell.execute_reply": "2025-07-28T10:35:15.206770Z"
    },
    "papermill": {
     "duration": 0.049004,
     "end_time": "2025-07-28T10:35:15.210058",
     "exception": false,
     "start_time": "2025-07-28T10:35:15.161054",
     "status": "completed"
    },
    "tags": []
   },
   "outputs": [
    {
     "data": {
      "text/html": [
       "<div>\n",
       "<style scoped>\n",
       "    .dataframe tbody tr th:only-of-type {\n",
       "        vertical-align: middle;\n",
       "    }\n",
       "\n",
       "    .dataframe tbody tr th {\n",
       "        vertical-align: top;\n",
       "    }\n",
       "\n",
       "    .dataframe thead th {\n",
       "        text-align: right;\n",
       "    }\n",
       "</style>\n",
       "<table border=\"1\" class=\"dataframe\">\n",
       "  <thead>\n",
       "    <tr style=\"text-align: right;\">\n",
       "      <th></th>\n",
       "      <th>universe_id</th>\n",
       "      <th>universe_training_size</th>\n",
       "      <th>universe_scale</th>\n",
       "      <th>universe_model</th>\n",
       "      <th>universe_exclude_features</th>\n",
       "      <th>universe_exclude_subgroups</th>\n",
       "      <th>q_hat</th>\n",
       "      <th>coverage</th>\n",
       "      <th>avg_size</th>\n",
       "    </tr>\n",
       "  </thead>\n",
       "  <tbody>\n",
       "    <tr>\n",
       "      <th>0</th>\n",
       "      <td>06e01a0bd8d7b6de6dc1f16367164f69</td>\n",
       "      <td>5k</td>\n",
       "      <td>do-not-scale</td>\n",
       "      <td>logreg</td>\n",
       "      <td>nationality</td>\n",
       "      <td>keep-all</td>\n",
       "      <td>0.683219</td>\n",
       "      <td>0.911615</td>\n",
       "      <td>1.193947</td>\n",
       "    </tr>\n",
       "  </tbody>\n",
       "</table>\n",
       "</div>"
      ],
      "text/plain": [
       "                        universe_id universe_training_size universe_scale  \\\n",
       "0  06e01a0bd8d7b6de6dc1f16367164f69                     5k   do-not-scale   \n",
       "\n",
       "  universe_model universe_exclude_features universe_exclude_subgroups  \\\n",
       "0         logreg               nationality                   keep-all   \n",
       "\n",
       "      q_hat  coverage  avg_size  \n",
       "0  0.683219  0.911615  1.193947  "
      ]
     },
     "execution_count": 54,
     "metadata": {},
     "output_type": "execute_result"
    }
   ],
   "source": [
    "cp_metrics_df"
   ]
  },
  {
   "cell_type": "code",
   "execution_count": 55,
   "id": "b7fbde55-a0a1-47e4-9af6-fe4a17fa8c61",
   "metadata": {
    "execution": {
     "iopub.execute_input": "2025-07-28T10:35:15.262163Z",
     "iopub.status.busy": "2025-07-28T10:35:15.261603Z",
     "iopub.status.idle": "2025-07-28T10:35:15.267139Z",
     "shell.execute_reply": "2025-07-28T10:35:15.266119Z"
    },
    "papermill": {
     "duration": 0.034279,
     "end_time": "2025-07-28T10:35:15.268780",
     "exception": false,
     "start_time": "2025-07-28T10:35:15.234501",
     "status": "completed"
    },
    "tags": []
   },
   "outputs": [],
   "source": [
    "# Conditional Coverage & looking at subgroups"
   ]
  },
  {
   "cell_type": "code",
   "execution_count": 56,
   "id": "027ae886-68dd-4141-96c7-805a5450e1ef",
   "metadata": {
    "execution": {
     "iopub.execute_input": "2025-07-28T10:35:15.319880Z",
     "iopub.status.busy": "2025-07-28T10:35:15.319331Z",
     "iopub.status.idle": "2025-07-28T10:35:15.612800Z",
     "shell.execute_reply": "2025-07-28T10:35:15.611730Z"
    },
    "papermill": {
     "duration": 0.321753,
     "end_time": "2025-07-28T10:35:15.614644",
     "exception": false,
     "start_time": "2025-07-28T10:35:15.292891",
     "status": "completed"
    },
    "tags": []
   },
   "outputs": [],
   "source": [
    "from fairness_multiverse.conformal import build_cp_groups\n",
    "\n",
    "cp_groups_df = build_cp_groups(pred_sets, y_true, X_test.index, org_test)\n",
    "#needs universe_id and setting"
   ]
  },
  {
   "cell_type": "code",
   "execution_count": 57,
   "id": "01d5802c-663a-4d1f-9d69-e036faaffbf7",
   "metadata": {
    "execution": {
     "iopub.execute_input": "2025-07-28T10:35:15.668516Z",
     "iopub.status.busy": "2025-07-28T10:35:15.667674Z",
     "iopub.status.idle": "2025-07-28T10:35:15.673086Z",
     "shell.execute_reply": "2025-07-28T10:35:15.672130Z"
    },
    "papermill": {
     "duration": 0.034669,
     "end_time": "2025-07-28T10:35:15.674881",
     "exception": false,
     "start_time": "2025-07-28T10:35:15.640212",
     "status": "completed"
    },
    "tags": []
   },
   "outputs": [],
   "source": [
    "#delete\n",
    "#cp_groups_df"
   ]
  },
  {
   "cell_type": "code",
   "execution_count": 58,
   "id": "fa424af1-d1eb-443d-b717-2d279ada8408",
   "metadata": {
    "execution": {
     "iopub.execute_input": "2025-07-28T10:35:15.729408Z",
     "iopub.status.busy": "2025-07-28T10:35:15.728911Z",
     "iopub.status.idle": "2025-07-28T10:35:15.734030Z",
     "shell.execute_reply": "2025-07-28T10:35:15.732963Z"
    },
    "papermill": {
     "duration": 0.034019,
     "end_time": "2025-07-28T10:35:15.735836",
     "exception": false,
     "start_time": "2025-07-28T10:35:15.701817",
     "status": "completed"
    },
    "tags": []
   },
   "outputs": [],
   "source": [
    "#delete\n",
    "#percentage = (cp_groups_df['nongerman_female'] == 1).mean() * 100\n",
    "#print(percentage)\n"
   ]
  },
  {
   "cell_type": "code",
   "execution_count": 59,
   "id": "6cbdab96-b2b2-45af-ad54-d0516db2e28d",
   "metadata": {
    "execution": {
     "iopub.execute_input": "2025-07-28T10:35:15.765981Z",
     "iopub.status.busy": "2025-07-28T10:35:15.765245Z",
     "iopub.status.idle": "2025-07-28T10:35:17.464253Z",
     "shell.execute_reply": "2025-07-28T10:35:17.463497Z"
    },
    "papermill": {
     "duration": 1.714575,
     "end_time": "2025-07-28T10:35:17.465720",
     "exception": false,
     "start_time": "2025-07-28T10:35:15.751145",
     "status": "completed"
    },
    "tags": []
   },
   "outputs": [],
   "source": [
    "# Define covered = 1 if true_label is in the predicted set\n",
    "cp_groups_df['covered'] = cp_groups_df.apply(\n",
    "    lambda r: int(r['true_label'] in r['pred_set']),\n",
    "    axis=1\n",
    ")"
   ]
  },
  {
   "cell_type": "code",
   "execution_count": 60,
   "id": "338ff529-1a6b-4b87-a931-8e4788d52aad",
   "metadata": {
    "execution": {
     "iopub.execute_input": "2025-07-28T10:35:17.520719Z",
     "iopub.status.busy": "2025-07-28T10:35:17.520238Z",
     "iopub.status.idle": "2025-07-28T10:35:17.525616Z",
     "shell.execute_reply": "2025-07-28T10:35:17.524560Z"
    },
    "papermill": {
     "duration": 0.039429,
     "end_time": "2025-07-28T10:35:17.527517",
     "exception": false,
     "start_time": "2025-07-28T10:35:17.488088",
     "status": "completed"
    },
    "tags": []
   },
   "outputs": [],
   "source": [
    "#cp_groups_df"
   ]
  },
  {
   "cell_type": "code",
   "execution_count": 61,
   "id": "90032e27-66df-4540-9169-4e89cfbaa758",
   "metadata": {
    "execution": {
     "iopub.execute_input": "2025-07-28T10:35:17.587352Z",
     "iopub.status.busy": "2025-07-28T10:35:17.586727Z",
     "iopub.status.idle": "2025-07-28T10:35:17.600093Z",
     "shell.execute_reply": "2025-07-28T10:35:17.598701Z"
    },
    "papermill": {
     "duration": 0.045808,
     "end_time": "2025-07-28T10:35:17.602528",
     "exception": false,
     "start_time": "2025-07-28T10:35:17.556720",
     "status": "completed"
    },
    "tags": []
   },
   "outputs": [],
   "source": [
    "subgroups = ['frau1','nongerman','nongerman_male','nongerman_female']\n",
    "\n",
    "# Conditional coverage for subgroup==1\n",
    "cond_coverage = {\n",
    "    g: cp_groups_df.loc[cp_groups_df[g]==1, 'covered'].mean()\n",
    "    for g in subgroups\n",
    "}"
   ]
  },
  {
   "cell_type": "code",
   "execution_count": 62,
   "id": "1e348fb1-b9c3-45bc-ba23-f016827a7e0d",
   "metadata": {
    "execution": {
     "iopub.execute_input": "2025-07-28T10:35:17.673895Z",
     "iopub.status.busy": "2025-07-28T10:35:17.673104Z",
     "iopub.status.idle": "2025-07-28T10:35:17.681617Z",
     "shell.execute_reply": "2025-07-28T10:35:17.680630Z"
    },
    "papermill": {
     "duration": 0.043707,
     "end_time": "2025-07-28T10:35:17.683453",
     "exception": false,
     "start_time": "2025-07-28T10:35:17.639746",
     "status": "completed"
    },
    "tags": []
   },
   "outputs": [
    {
     "data": {
      "text/plain": [
       "{'frau1': 0.910769645504785,\n",
       " 'nongerman': 0.9259529557065065,\n",
       " 'nongerman_male': 0.9397460145906512,\n",
       " 'nongerman_female': 0.9031296572280179}"
      ]
     },
     "execution_count": 62,
     "metadata": {},
     "output_type": "execute_result"
    }
   ],
   "source": [
    "cond_coverage"
   ]
  },
  {
   "cell_type": "code",
   "execution_count": 63,
   "id": "f5093324-c3dd-4d63-bc4c-8d945e5c8bbb",
   "metadata": {
    "execution": {
     "iopub.execute_input": "2025-07-28T10:35:17.744116Z",
     "iopub.status.busy": "2025-07-28T10:35:17.743294Z",
     "iopub.status.idle": "2025-07-28T10:35:17.752692Z",
     "shell.execute_reply": "2025-07-28T10:35:17.751590Z"
    },
    "papermill": {
     "duration": 0.041722,
     "end_time": "2025-07-28T10:35:17.754471",
     "exception": false,
     "start_time": "2025-07-28T10:35:17.712749",
     "status": "completed"
    },
    "tags": []
   },
   "outputs": [],
   "source": [
    "for subgroup, cov in cond_coverage.items():\n",
    "    cp_metrics_df[f\"cov_{subgroup}\"] = cov"
   ]
  },
  {
   "cell_type": "code",
   "execution_count": 64,
   "id": "6e872e10-dbe5-49e8-b554-5030c98ff75d",
   "metadata": {
    "execution": {
     "iopub.execute_input": "2025-07-28T10:35:17.816600Z",
     "iopub.status.busy": "2025-07-28T10:35:17.815930Z",
     "iopub.status.idle": "2025-07-28T10:35:17.838769Z",
     "shell.execute_reply": "2025-07-28T10:35:17.837512Z"
    },
    "papermill": {
     "duration": 0.056273,
     "end_time": "2025-07-28T10:35:17.840745",
     "exception": false,
     "start_time": "2025-07-28T10:35:17.784472",
     "status": "completed"
    },
    "tags": []
   },
   "outputs": [
    {
     "data": {
      "text/html": [
       "<div>\n",
       "<style scoped>\n",
       "    .dataframe tbody tr th:only-of-type {\n",
       "        vertical-align: middle;\n",
       "    }\n",
       "\n",
       "    .dataframe tbody tr th {\n",
       "        vertical-align: top;\n",
       "    }\n",
       "\n",
       "    .dataframe thead th {\n",
       "        text-align: right;\n",
       "    }\n",
       "</style>\n",
       "<table border=\"1\" class=\"dataframe\">\n",
       "  <thead>\n",
       "    <tr style=\"text-align: right;\">\n",
       "      <th></th>\n",
       "      <th>universe_id</th>\n",
       "      <th>universe_training_size</th>\n",
       "      <th>universe_scale</th>\n",
       "      <th>universe_model</th>\n",
       "      <th>universe_exclude_features</th>\n",
       "      <th>universe_exclude_subgroups</th>\n",
       "      <th>q_hat</th>\n",
       "      <th>coverage</th>\n",
       "      <th>avg_size</th>\n",
       "      <th>cov_frau1</th>\n",
       "      <th>cov_nongerman</th>\n",
       "      <th>cov_nongerman_male</th>\n",
       "      <th>cov_nongerman_female</th>\n",
       "    </tr>\n",
       "  </thead>\n",
       "  <tbody>\n",
       "    <tr>\n",
       "      <th>0</th>\n",
       "      <td>06e01a0bd8d7b6de6dc1f16367164f69</td>\n",
       "      <td>5k</td>\n",
       "      <td>do-not-scale</td>\n",
       "      <td>logreg</td>\n",
       "      <td>nationality</td>\n",
       "      <td>keep-all</td>\n",
       "      <td>0.683219</td>\n",
       "      <td>0.911615</td>\n",
       "      <td>1.193947</td>\n",
       "      <td>0.91077</td>\n",
       "      <td>0.925953</td>\n",
       "      <td>0.939746</td>\n",
       "      <td>0.90313</td>\n",
       "    </tr>\n",
       "  </tbody>\n",
       "</table>\n",
       "</div>"
      ],
      "text/plain": [
       "                        universe_id universe_training_size universe_scale  \\\n",
       "0  06e01a0bd8d7b6de6dc1f16367164f69                     5k   do-not-scale   \n",
       "\n",
       "  universe_model universe_exclude_features universe_exclude_subgroups  \\\n",
       "0         logreg               nationality                   keep-all   \n",
       "\n",
       "      q_hat  coverage  avg_size  cov_frau1  cov_nongerman  cov_nongerman_male  \\\n",
       "0  0.683219  0.911615  1.193947    0.91077       0.925953            0.939746   \n",
       "\n",
       "   cov_nongerman_female  \n",
       "0               0.90313  "
      ]
     },
     "execution_count": 64,
     "metadata": {},
     "output_type": "execute_result"
    }
   ],
   "source": [
    "cp_metrics_df"
   ]
  },
  {
   "cell_type": "markdown",
   "id": "33774451",
   "metadata": {
    "papermill": {
     "duration": 0.027672,
     "end_time": "2025-07-28T10:35:17.897627",
     "exception": false,
     "start_time": "2025-07-28T10:35:17.869955",
     "status": "completed"
    },
    "tags": []
   },
   "source": [
    "# (Fairness) Metrics"
   ]
  },
  {
   "cell_type": "code",
   "execution_count": 65,
   "id": "debc5d62",
   "metadata": {
    "execution": {
     "iopub.execute_input": "2025-07-28T10:35:17.957737Z",
     "iopub.status.busy": "2025-07-28T10:35:17.956850Z",
     "iopub.status.idle": "2025-07-28T10:35:17.979645Z",
     "shell.execute_reply": "2025-07-28T10:35:17.978498Z"
    },
    "papermill": {
     "duration": 0.055773,
     "end_time": "2025-07-28T10:35:17.982054",
     "exception": false,
     "start_time": "2025-07-28T10:35:17.926281",
     "status": "completed"
    },
    "tags": []
   },
   "outputs": [],
   "source": [
    "# do I need to include maxdeutsch1.missing?\n",
    "\n",
    "import numpy as np\n",
    "\n",
    "colname_to_bin = \"maxdeutsch1\"\n",
    "majority_value = org_train[colname_to_bin].mode()[0]\n",
    "\n",
    "org_test[\"majmin\"] = np.where(org_test[colname_to_bin] == majority_value, \"majority\", \"minority\")"
   ]
  },
  {
   "cell_type": "code",
   "execution_count": 66,
   "id": "06a50de5",
   "metadata": {
    "execution": {
     "iopub.execute_input": "2025-07-28T10:35:18.043471Z",
     "iopub.status.busy": "2025-07-28T10:35:18.042946Z",
     "iopub.status.idle": "2025-07-28T10:35:20.961748Z",
     "shell.execute_reply": "2025-07-28T10:35:20.960615Z"
    },
    "papermill": {
     "duration": 2.951843,
     "end_time": "2025-07-28T10:35:20.963853",
     "exception": false,
     "start_time": "2025-07-28T10:35:18.012010",
     "status": "completed"
    },
    "tags": []
   },
   "outputs": [],
   "source": [
    "example_universe = universe.copy()\n",
    "example_universe[\"cutoff\"] = example_universe[\"cutoff\"][0]\n",
    "example_universe[\"eval_fairness_grouping\"] = example_universe[\"eval_fairness_grouping\"][0]\n",
    "fairness_dict, metric_frame = universe_analysis.compute_metrics(\n",
    "    example_universe,\n",
    "    y_pred_prob=probs_test,\n",
    "    y_test=y_true,\n",
    "    org_test=org_test,\n",
    ")"
   ]
  },
  {
   "cell_type": "markdown",
   "id": "f95d4e02",
   "metadata": {
    "papermill": {
     "duration": 0.025206,
     "end_time": "2025-07-28T10:35:21.015694",
     "exception": false,
     "start_time": "2025-07-28T10:35:20.990488",
     "status": "completed"
    },
    "tags": []
   },
   "source": [
    "# Overall"
   ]
  },
  {
   "cell_type": "markdown",
   "id": "bdee4871",
   "metadata": {
    "papermill": {
     "duration": 0.025006,
     "end_time": "2025-07-28T10:35:21.066816",
     "exception": false,
     "start_time": "2025-07-28T10:35:21.041810",
     "status": "completed"
    },
    "tags": []
   },
   "source": [
    "Fairness\n",
    "Main fairness target: Equalized Odds. Seems to be a better fit than equal opportunity, since we're not only interested in Y = 1. Seems to be a better fit than demographic parity, since we also care about accuracy, not just equal distribution of preds.\n",
    "\n",
    "Pick column for computation of fairness metrics\n",
    "\n",
    "Performance\n",
    "Overall performance measures, most interesting in relation to the measures split by group below"
   ]
  },
  {
   "cell_type": "code",
   "execution_count": 67,
   "id": "c4e067c6",
   "metadata": {
    "execution": {
     "iopub.execute_input": "2025-07-28T10:35:21.120812Z",
     "iopub.status.busy": "2025-07-28T10:35:21.120273Z",
     "iopub.status.idle": "2025-07-28T10:35:21.130237Z",
     "shell.execute_reply": "2025-07-28T10:35:21.129042Z"
    },
    "papermill": {
     "duration": 0.039268,
     "end_time": "2025-07-28T10:35:21.132054",
     "exception": false,
     "start_time": "2025-07-28T10:35:21.092786",
     "status": "completed"
    },
    "tags": []
   },
   "outputs": [
    {
     "data": {
      "text/plain": [
       "accuracy                   0.218760\n",
       "balanced accuracy          0.536075\n",
       "f1                         0.240246\n",
       "precision                  0.137245\n",
       "false positive rate        0.890744\n",
       "false negative rate        0.037105\n",
       "selection rate             0.900000\n",
       "count                  89710.000000\n",
       "dtype: float64"
      ]
     },
     "execution_count": 67,
     "metadata": {},
     "output_type": "execute_result"
    }
   ],
   "source": [
    "metric_frame.overall"
   ]
  },
  {
   "cell_type": "markdown",
   "id": "e968fe9d",
   "metadata": {
    "papermill": {
     "duration": 0.026347,
     "end_time": "2025-07-28T10:35:21.184830",
     "exception": false,
     "start_time": "2025-07-28T10:35:21.158483",
     "status": "completed"
    },
    "tags": []
   },
   "source": [
    "By Group"
   ]
  },
  {
   "cell_type": "code",
   "execution_count": 68,
   "id": "ec325bce",
   "metadata": {
    "execution": {
     "iopub.execute_input": "2025-07-28T10:35:21.240007Z",
     "iopub.status.busy": "2025-07-28T10:35:21.239151Z",
     "iopub.status.idle": "2025-07-28T10:35:21.259152Z",
     "shell.execute_reply": "2025-07-28T10:35:21.257972Z"
    },
    "papermill": {
     "duration": 0.050218,
     "end_time": "2025-07-28T10:35:21.261142",
     "exception": false,
     "start_time": "2025-07-28T10:35:21.210924",
     "status": "completed"
    },
    "tags": []
   },
   "outputs": [
    {
     "data": {
      "text/html": [
       "<div>\n",
       "<style scoped>\n",
       "    .dataframe tbody tr th:only-of-type {\n",
       "        vertical-align: middle;\n",
       "    }\n",
       "\n",
       "    .dataframe tbody tr th {\n",
       "        vertical-align: top;\n",
       "    }\n",
       "\n",
       "    .dataframe thead th {\n",
       "        text-align: right;\n",
       "    }\n",
       "</style>\n",
       "<table border=\"1\" class=\"dataframe\">\n",
       "  <thead>\n",
       "    <tr style=\"text-align: right;\">\n",
       "      <th></th>\n",
       "      <th>accuracy</th>\n",
       "      <th>balanced accuracy</th>\n",
       "      <th>f1</th>\n",
       "      <th>precision</th>\n",
       "      <th>false positive rate</th>\n",
       "      <th>false negative rate</th>\n",
       "      <th>selection rate</th>\n",
       "      <th>count</th>\n",
       "    </tr>\n",
       "    <tr>\n",
       "      <th>majmin</th>\n",
       "      <th></th>\n",
       "      <th></th>\n",
       "      <th></th>\n",
       "      <th></th>\n",
       "      <th></th>\n",
       "      <th></th>\n",
       "      <th></th>\n",
       "      <th></th>\n",
       "    </tr>\n",
       "  </thead>\n",
       "  <tbody>\n",
       "    <tr>\n",
       "      <th>majority</th>\n",
       "      <td>0.241044</td>\n",
       "      <td>0.544425</td>\n",
       "      <td>0.249904</td>\n",
       "      <td>0.143721</td>\n",
       "      <td>0.867933</td>\n",
       "      <td>0.043217</td>\n",
       "      <td>0.879673</td>\n",
       "      <td>69170.0</td>\n",
       "    </tr>\n",
       "    <tr>\n",
       "      <th>minority</th>\n",
       "      <td>0.143720</td>\n",
       "      <td>0.510192</td>\n",
       "      <td>0.209883</td>\n",
       "      <td>0.117434</td>\n",
       "      <td>0.966102</td>\n",
       "      <td>0.013514</td>\n",
       "      <td>0.968452</td>\n",
       "      <td>20540.0</td>\n",
       "    </tr>\n",
       "  </tbody>\n",
       "</table>\n",
       "</div>"
      ],
      "text/plain": [
       "          accuracy  balanced accuracy        f1  precision  \\\n",
       "majmin                                                       \n",
       "majority  0.241044           0.544425  0.249904   0.143721   \n",
       "minority  0.143720           0.510192  0.209883   0.117434   \n",
       "\n",
       "          false positive rate  false negative rate  selection rate    count  \n",
       "majmin                                                                       \n",
       "majority             0.867933             0.043217        0.879673  69170.0  \n",
       "minority             0.966102             0.013514        0.968452  20540.0  "
      ]
     },
     "execution_count": 68,
     "metadata": {},
     "output_type": "execute_result"
    }
   ],
   "source": [
    "metric_frame.by_group"
   ]
  },
  {
   "cell_type": "code",
   "execution_count": 69,
   "id": "a9ddbe63",
   "metadata": {
    "execution": {
     "iopub.execute_input": "2025-07-28T10:35:21.318058Z",
     "iopub.status.busy": "2025-07-28T10:35:21.317333Z",
     "iopub.status.idle": "2025-07-28T10:35:24.180906Z",
     "shell.execute_reply": "2025-07-28T10:35:24.180177Z"
    },
    "papermill": {
     "duration": 2.893434,
     "end_time": "2025-07-28T10:35:24.182802",
     "exception": false,
     "start_time": "2025-07-28T10:35:21.289368",
     "status": "completed"
    },
    "tags": []
   },
   "outputs": [
    {
     "data": {
      "text/plain": [
       "array([[<Axes: title={'center': 'accuracy'}, xlabel='majmin'>,\n",
       "        <Axes: title={'center': 'balanced accuracy'}, xlabel='majmin'>,\n",
       "        <Axes: title={'center': 'f1'}, xlabel='majmin'>],\n",
       "       [<Axes: title={'center': 'precision'}, xlabel='majmin'>,\n",
       "        <Axes: title={'center': 'false positive rate'}, xlabel='majmin'>,\n",
       "        <Axes: title={'center': 'false negative rate'}, xlabel='majmin'>],\n",
       "       [<Axes: title={'center': 'selection rate'}, xlabel='majmin'>,\n",
       "        <Axes: title={'center': 'count'}, xlabel='majmin'>,\n",
       "        <Axes: xlabel='majmin'>]], dtype=object)"
      ]
     },
     "execution_count": 69,
     "metadata": {},
     "output_type": "execute_result"
    },
    {
     "data": {
      "image/png": "[encoded data removed]",
      "text/plain": [
       "<Figure size 1200x800 with 9 Axes>"
      ]
     },
     "metadata": {},
     "output_type": "display_data"
    }
   ],
   "source": [
    "# In a graphic\n",
    "metric_frame.by_group.plot.bar(\n",
    "    subplots=True,\n",
    "    layout=[3, 3],\n",
    "    legend=False,\n",
    "    figsize=[12, 8],\n",
    "    title=\"Show all metrics\",\n",
    ")"
   ]
  },
  {
   "cell_type": "markdown",
   "id": "f57a0bac",
   "metadata": {
    "papermill": {
     "duration": 0.031836,
     "end_time": "2025-07-28T10:35:24.249478",
     "exception": false,
     "start_time": "2025-07-28T10:35:24.217642",
     "status": "completed"
    },
    "tags": []
   },
   "source": [
    "# Final Output"
   ]
  },
  {
   "cell_type": "code",
   "execution_count": 70,
   "id": "96d280a3",
   "metadata": {
    "execution": {
     "iopub.execute_input": "2025-07-28T10:35:24.316129Z",
     "iopub.status.busy": "2025-07-28T10:35:24.315399Z",
     "iopub.status.idle": "2025-07-28T10:35:24.325685Z",
     "shell.execute_reply": "2025-07-28T10:35:24.324565Z"
    },
    "papermill": {
     "duration": 0.045623,
     "end_time": "2025-07-28T10:35:24.327401",
     "exception": false,
     "start_time": "2025-07-28T10:35:24.281778",
     "status": "completed"
    },
    "tags": []
   },
   "outputs": [
    {
     "data": {
      "text/plain": [
       "4"
      ]
     },
     "execution_count": 70,
     "metadata": {},
     "output_type": "execute_result"
    }
   ],
   "source": [
    "sub_universes = universe_analysis.generate_sub_universes()\n",
    "len(sub_universes)"
   ]
  },
  {
   "cell_type": "code",
   "execution_count": 71,
   "id": "92adf7ba",
   "metadata": {
    "execution": {
     "iopub.execute_input": "2025-07-28T10:35:24.395753Z",
     "iopub.status.busy": "2025-07-28T10:35:24.394754Z",
     "iopub.status.idle": "2025-07-28T10:35:24.401923Z",
     "shell.execute_reply": "2025-07-28T10:35:24.400817Z"
    },
    "papermill": {
     "duration": 0.043877,
     "end_time": "2025-07-28T10:35:24.403781",
     "exception": false,
     "start_time": "2025-07-28T10:35:24.359904",
     "status": "completed"
    },
    "tags": []
   },
   "outputs": [],
   "source": [
    "def filter_sub_universe_data(sub_universe, org_test):\n",
    "    # Keep all rows — no filtering\n",
    "    keep_rows_mask = np.ones(org_test.shape[0], dtype=bool)\n",
    "\n",
    "    print(f\"[INFO] Keeping all rows: {keep_rows_mask.sum()} rows retained.\")\n",
    "    return keep_rows_mask"
   ]
  },
  {
   "cell_type": "code",
   "execution_count": 72,
   "id": "4a759155",
   "metadata": {
    "execution": {
     "iopub.execute_input": "2025-07-28T10:35:24.468907Z",
     "iopub.status.busy": "2025-07-28T10:35:24.468439Z",
     "iopub.status.idle": "2025-07-28T10:35:34.553130Z",
     "shell.execute_reply": "2025-07-28T10:35:34.552248Z"
    },
    "papermill": {
     "duration": 10.11913,
     "end_time": "2025-07-28T10:35:34.554551",
     "exception": false,
     "start_time": "2025-07-28T10:35:24.435421",
     "status": "completed"
    },
    "tags": []
   },
   "outputs": [
    {
     "name": "stdout",
     "output_type": "stream",
     "text": [
      "Stopping execution_time clock.\n",
      "[INFO] Keeping all rows: 89710 rows retained.\n"
     ]
    },
    {
     "name": "stdout",
     "output_type": "stream",
     "text": [
      "[INFO] Keeping all rows: 89710 rows retained.\n"
     ]
    },
    {
     "name": "stdout",
     "output_type": "stream",
     "text": [
      "[INFO] Keeping all rows: 89710 rows retained.\n"
     ]
    },
    {
     "name": "stdout",
     "output_type": "stream",
     "text": [
      "[INFO] Keeping all rows: 89710 rows retained.\n"
     ]
    },
    {
     "data": {
      "text/html": [
       "<div>\n",
       "<style scoped>\n",
       "    .dataframe tbody tr th:only-of-type {\n",
       "        vertical-align: middle;\n",
       "    }\n",
       "\n",
       "    .dataframe tbody tr th {\n",
       "        vertical-align: top;\n",
       "    }\n",
       "\n",
       "    .dataframe thead th {\n",
       "        text-align: right;\n",
       "    }\n",
       "</style>\n",
       "<table border=\"1\" class=\"dataframe\">\n",
       "  <thead>\n",
       "    <tr style=\"text-align: right;\">\n",
       "      <th></th>\n",
       "      <th>run_no</th>\n",
       "      <th>universe_id</th>\n",
       "      <th>universe_settings</th>\n",
       "      <th>execution_time</th>\n",
       "      <th>test_size_n</th>\n",
       "      <th>test_size_frac</th>\n",
       "      <th>fair_main_equalized_odds_difference</th>\n",
       "      <th>fair_main_equalized_odds_ratio</th>\n",
       "      <th>fair_main_demographic_parity_difference</th>\n",
       "      <th>fair_main_demographic_parity_ratio</th>\n",
       "      <th>...</th>\n",
       "      <th>perf_grp_precision_0</th>\n",
       "      <th>perf_grp_precision_1</th>\n",
       "      <th>perf_grp_false positive rate_0</th>\n",
       "      <th>perf_grp_false positive rate_1</th>\n",
       "      <th>perf_grp_false negative rate_0</th>\n",
       "      <th>perf_grp_false negative rate_1</th>\n",
       "      <th>perf_grp_selection rate_0</th>\n",
       "      <th>perf_grp_selection rate_1</th>\n",
       "      <th>perf_grp_count_0</th>\n",
       "      <th>perf_grp_count_1</th>\n",
       "    </tr>\n",
       "  </thead>\n",
       "  <tbody>\n",
       "    <tr>\n",
       "      <th>0</th>\n",
       "      <td>11</td>\n",
       "      <td>06e01a0bd8d7b6de6dc1f16367164f69</td>\n",
       "      <td>{\"cutoff\": \"quantile_0.1\", \"eval_fairness_grou...</td>\n",
       "      <td>28.193974</td>\n",
       "      <td>89710</td>\n",
       "      <td>1.0</td>\n",
       "      <td>0.098169</td>\n",
       "      <td>0.898386</td>\n",
       "      <td>0.088779</td>\n",
       "      <td>0.908329</td>\n",
       "      <td>...</td>\n",
       "      <td>NaN</td>\n",
       "      <td>NaN</td>\n",
       "      <td>NaN</td>\n",
       "      <td>NaN</td>\n",
       "      <td>NaN</td>\n",
       "      <td>NaN</td>\n",
       "      <td>NaN</td>\n",
       "      <td>NaN</td>\n",
       "      <td>NaN</td>\n",
       "      <td>NaN</td>\n",
       "    </tr>\n",
       "    <tr>\n",
       "      <th>0</th>\n",
       "      <td>11</td>\n",
       "      <td>06e01a0bd8d7b6de6dc1f16367164f69</td>\n",
       "      <td>{\"cutoff\": \"quantile_0.1\", \"eval_fairness_grou...</td>\n",
       "      <td>28.193974</td>\n",
       "      <td>89710</td>\n",
       "      <td>1.0</td>\n",
       "      <td>0.098169</td>\n",
       "      <td>0.898386</td>\n",
       "      <td>0.088779</td>\n",
       "      <td>0.908329</td>\n",
       "      <td>...</td>\n",
       "      <td>0.117434</td>\n",
       "      <td>0.143721</td>\n",
       "      <td>0.966102</td>\n",
       "      <td>0.867933</td>\n",
       "      <td>0.013514</td>\n",
       "      <td>0.043217</td>\n",
       "      <td>0.968452</td>\n",
       "      <td>0.879673</td>\n",
       "      <td>20540.0</td>\n",
       "      <td>69170.0</td>\n",
       "    </tr>\n",
       "    <tr>\n",
       "      <th>0</th>\n",
       "      <td>11</td>\n",
       "      <td>06e01a0bd8d7b6de6dc1f16367164f69</td>\n",
       "      <td>{\"cutoff\": \"quantile_0.25\", \"eval_fairness_gro...</td>\n",
       "      <td>28.193974</td>\n",
       "      <td>89710</td>\n",
       "      <td>1.0</td>\n",
       "      <td>0.217605</td>\n",
       "      <td>0.757299</td>\n",
       "      <td>0.198401</td>\n",
       "      <td>0.780279</td>\n",
       "      <td>...</td>\n",
       "      <td>NaN</td>\n",
       "      <td>NaN</td>\n",
       "      <td>NaN</td>\n",
       "      <td>NaN</td>\n",
       "      <td>NaN</td>\n",
       "      <td>NaN</td>\n",
       "      <td>NaN</td>\n",
       "      <td>NaN</td>\n",
       "      <td>NaN</td>\n",
       "      <td>NaN</td>\n",
       "    </tr>\n",
       "    <tr>\n",
       "      <th>0</th>\n",
       "      <td>11</td>\n",
       "      <td>06e01a0bd8d7b6de6dc1f16367164f69</td>\n",
       "      <td>{\"cutoff\": \"quantile_0.25\", \"eval_fairness_gro...</td>\n",
       "      <td>28.193974</td>\n",
       "      <td>89710</td>\n",
       "      <td>1.0</td>\n",
       "      <td>0.217605</td>\n",
       "      <td>0.757299</td>\n",
       "      <td>0.198401</td>\n",
       "      <td>0.780279</td>\n",
       "      <td>...</td>\n",
       "      <td>0.121529</td>\n",
       "      <td>0.163640</td>\n",
       "      <td>0.896599</td>\n",
       "      <td>0.678994</td>\n",
       "      <td>0.048142</td>\n",
       "      <td>0.127462</td>\n",
       "      <td>0.902970</td>\n",
       "      <td>0.704568</td>\n",
       "      <td>20540.0</td>\n",
       "      <td>69170.0</td>\n",
       "    </tr>\n",
       "  </tbody>\n",
       "</table>\n",
       "<p>4 rows × 50 columns</p>\n",
       "</div>"
      ],
      "text/plain": [
       "  run_no                       universe_id  \\\n",
       "0     11  06e01a0bd8d7b6de6dc1f16367164f69   \n",
       "0     11  06e01a0bd8d7b6de6dc1f16367164f69   \n",
       "0     11  06e01a0bd8d7b6de6dc1f16367164f69   \n",
       "0     11  06e01a0bd8d7b6de6dc1f16367164f69   \n",
       "\n",
       "                                   universe_settings  execution_time  \\\n",
       "0  {\"cutoff\": \"quantile_0.1\", \"eval_fairness_grou...       28.193974   \n",
       "0  {\"cutoff\": \"quantile_0.1\", \"eval_fairness_grou...       28.193974   \n",
       "0  {\"cutoff\": \"quantile_0.25\", \"eval_fairness_gro...       28.193974   \n",
       "0  {\"cutoff\": \"quantile_0.25\", \"eval_fairness_gro...       28.193974   \n",
       "\n",
       "   test_size_n  test_size_frac  fair_main_equalized_odds_difference  \\\n",
       "0        89710             1.0                             0.098169   \n",
       "0        89710             1.0                             0.098169   \n",
       "0        89710             1.0                             0.217605   \n",
       "0        89710             1.0                             0.217605   \n",
       "\n",
       "   fair_main_equalized_odds_ratio  fair_main_demographic_parity_difference  \\\n",
       "0                        0.898386                                 0.088779   \n",
       "0                        0.898386                                 0.088779   \n",
       "0                        0.757299                                 0.198401   \n",
       "0                        0.757299                                 0.198401   \n",
       "\n",
       "   fair_main_demographic_parity_ratio  ...  perf_grp_precision_0  \\\n",
       "0                            0.908329  ...                   NaN   \n",
       "0                            0.908329  ...              0.117434   \n",
       "0                            0.780279  ...                   NaN   \n",
       "0                            0.780279  ...              0.121529   \n",
       "\n",
       "   perf_grp_precision_1  perf_grp_false positive rate_0  \\\n",
       "0                   NaN                             NaN   \n",
       "0              0.143721                        0.966102   \n",
       "0                   NaN                             NaN   \n",
       "0              0.163640                        0.896599   \n",
       "\n",
       "   perf_grp_false positive rate_1  perf_grp_false negative rate_0  \\\n",
       "0                             NaN                             NaN   \n",
       "0                        0.867933                        0.013514   \n",
       "0                             NaN                             NaN   \n",
       "0                        0.678994                        0.048142   \n",
       "\n",
       "   perf_grp_false negative rate_1  perf_grp_selection rate_0  \\\n",
       "0                             NaN                        NaN   \n",
       "0                        0.043217                   0.968452   \n",
       "0                             NaN                        NaN   \n",
       "0                        0.127462                   0.902970   \n",
       "\n",
       "   perf_grp_selection rate_1  perf_grp_count_0  perf_grp_count_1  \n",
       "0                        NaN               NaN               NaN  \n",
       "0                   0.879673           20540.0           69170.0  \n",
       "0                        NaN               NaN               NaN  \n",
       "0                   0.704568           20540.0           69170.0  \n",
       "\n",
       "[4 rows x 50 columns]"
      ]
     },
     "execution_count": 72,
     "metadata": {},
     "output_type": "execute_result"
    }
   ],
   "source": [
    "final_output = universe_analysis.generate_final_output(\n",
    "    y_pred_prob=probs_test,\n",
    "    y_test=y_true,\n",
    "    org_test=org_test,\n",
    "    filter_data=filter_sub_universe_data,\n",
    "    cp_metrics_df=cp_metrics_df,\n",
    "    save=True,\n",
    ")\n",
    "final_output"
   ]
  },
  {
   "cell_type": "code",
   "execution_count": null,
   "id": "721ff514-cb11-46f8-b6fc-50392f74b5cb",
   "metadata": {
    "papermill": {
     "duration": 0.01899,
     "end_time": "2025-07-28T10:35:34.592161",
     "exception": false,
     "start_time": "2025-07-28T10:35:34.573171",
     "status": "completed"
    },
    "tags": []
   },
   "outputs": [],
   "source": []
  }
 ],
 "metadata": {
  "celltoolbar": "Tags",
  "kernelspec": {
   "display_name": "Python (CMA Fairness)",
   "language": "python",
   "name": "cma_fair_env"
  },
  "language_info": {
   "codemirror_mode": {
    "name": "ipython",
    "version": 3
   },
   "file_extension": ".py",
   "mimetype": "text/x-python",
   "name": "python",
   "nbconvert_exporter": "python",
   "pygments_lexer": "ipython3",
   "version": "3.10.12"
  },
  "papermill": {
   "default_parameters": {},
   "duration": 42.453999,
   "end_time": "2025-07-28T10:35:35.326876",
   "environment_variables": {},
   "exception": null,
   "input_path": "universe_analysis.ipynb",
   "output_path": "output/runs/11/notebooks/m_11-06e01a0bd8d7b6de6dc1f16367164f69.ipynb",
   "parameters": {
    "output_dir": "output",
    "run_no": "11",
    "seed": "2023",
    "universe": "{\"cutoff\": [\"quantile_0.1\", \"quantile_0.25\"], \"eval_fairness_grouping\": [\"majority-minority\", \"nationality-all\"], \"exclude_features\": \"nationality\", \"exclude_subgroups\": \"keep-all\", \"model\": \"logreg\", \"scale\": \"do-not-scale\", \"training_size\": \"5k\"}",
    "universe_id": "06e01a0bd8d7b6de6dc1f16367164f69"
   },
   "start_time": "2025-07-28T10:34:52.872877",
   "version": "2.6.0"
  }
 },
 "nbformat": 4,
 "nbformat_minor": 5
}