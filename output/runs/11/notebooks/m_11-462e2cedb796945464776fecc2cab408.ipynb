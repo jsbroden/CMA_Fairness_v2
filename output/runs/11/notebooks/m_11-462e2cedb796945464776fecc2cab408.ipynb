{
 "cells": [
  {
   "cell_type": "code",
   "execution_count": 1,
   "id": "f159f837-637b-42ba-96b5-ec9a68c44524",
   "metadata": {
    "execution": {
     "iopub.execute_input": "2025-07-28T10:29:01.229929Z",
     "iopub.status.busy": "2025-07-28T10:29:01.229017Z",
     "iopub.status.idle": "2025-07-28T10:29:01.242285Z",
     "shell.execute_reply": "2025-07-28T10:29:01.241329Z"
    },
    "papermill": {
     "duration": 0.035114,
     "end_time": "2025-07-28T10:29:01.244816",
     "exception": false,
     "start_time": "2025-07-28T10:29:01.209702",
     "status": "completed"
    },
    "tags": []
   },
   "outputs": [
    {
     "name": "stdout",
     "output_type": "stream",
     "text": [
      "/dss/dsshome1/0C/ra93lal2/cma/CMA_Fairness_v2\n"
     ]
    },
    {
     "name": "stderr",
     "output_type": "stream",
     "text": [
      "/dss/dsshome1/0C/ra93lal2/.local/share/virtualenvs/CMA_Fairness_v2-3j10GkSs/lib/python3.10/site-packages/IPython/core/magics/osm.py:393: UserWarning: This is now an optional IPython functionality, using bookmarks requires you to install the `pickleshare` library.\n",
      "  bkms = self.shell.db.get('bookmarks', {})\n",
      "/dss/dsshome1/0C/ra93lal2/.local/share/virtualenvs/CMA_Fairness_v2-3j10GkSs/lib/python3.10/site-packages/IPython/core/magics/osm.py:417: UserWarning: This is now an optional IPython functionality, setting dhist requires you to install the `pickleshare` library.\n",
      "  self.shell.db['dhist'] = compress_dhist(dhist)[-100:]\n"
     ]
    }
   ],
   "source": [
    "%cd ~/cma/CMA_Fairness_v2"
   ]
  },
  {
   "cell_type": "markdown",
   "id": "de2603b9",
   "metadata": {
    "papermill": {
     "duration": 0.018037,
     "end_time": "2025-07-28T10:29:01.281150",
     "exception": false,
     "start_time": "2025-07-28T10:29:01.263113",
     "status": "completed"
    },
    "tags": []
   },
   "source": [
    "The following cell holds the definition of our parameters, these values can be overriden by rendering the with e.g. the following command:\n",
    "\n",
    "papermill -p alpha 0.2 -p ratio 0.3 universe_analysis.ipynb output/test_run.ipynb"
   ]
  },
  {
   "cell_type": "code",
   "execution_count": 2,
   "id": "a80968a0-40bb-4fa9-85ef-2d5eefb01975",
   "metadata": {
    "execution": {
     "iopub.execute_input": "2025-07-28T10:29:01.320546Z",
     "iopub.status.busy": "2025-07-28T10:29:01.319512Z",
     "iopub.status.idle": "2025-07-28T10:29:01.325852Z",
     "shell.execute_reply": "2025-07-28T10:29:01.324905Z"
    },
    "papermill": {
     "duration": 0.027699,
     "end_time": "2025-07-28T10:29:01.327522",
     "exception": false,
     "start_time": "2025-07-28T10:29:01.299823",
     "status": "completed"
    },
    "tags": []
   },
   "outputs": [
    {
     "name": "stdout",
     "output_type": "stream",
     "text": [
      "Current working directory: /dss/dsshome1/0C/ra93lal2/cma/CMA_Fairness_v2\n"
     ]
    }
   ],
   "source": [
    "import os\n",
    "print(\"Current working directory:\", os.getcwd())"
   ]
  },
  {
   "cell_type": "code",
   "execution_count": 3,
   "id": "2dce4c03",
   "metadata": {
    "execution": {
     "iopub.execute_input": "2025-07-28T10:29:01.367244Z",
     "iopub.status.busy": "2025-07-28T10:29:01.366354Z",
     "iopub.status.idle": "2025-07-28T10:29:01.372687Z",
     "shell.execute_reply": "2025-07-28T10:29:01.371695Z"
    },
    "papermill": {
     "duration": 0.028253,
     "end_time": "2025-07-28T10:29:01.374685",
     "exception": false,
     "start_time": "2025-07-28T10:29:01.346432",
     "status": "completed"
    },
    "tags": [
     "parameters"
    ]
   },
   "outputs": [],
   "source": [
    "run_no = 0\n",
    "universe_id = \"test\"\n",
    "universe = {\n",
    "    \"training_size\": \"2014\", # \"25k\", \"5k\", \"1k\", \"2014\"\n",
    "    \"scale\": \"scale\", # \"scale\", \"do-not-scale\",\n",
    "    #\"stratify_split\": \"target\", # \"none\", \"target\", \"protected-attribute\", \"both\",\n",
    "    \"model\": \"elasticnet\", # \"logreg\", \"penalized_logreg\", \"rf\", \"gbm\", \"elasticnet\"\n",
    "    \"cutoff\": [\"quantile_0.15\", \"quantile_0.30\"],\n",
    "    \"exclude_features\": \"age\", # \"none\", \"nationality\", \"sex\", \"nationality-sex\", \"age\"\n",
    "    \"exclude_subgroups\": \"keep-all\", # \"keep-all\", \"drop-non-german\"\n",
    "    #\"training_sample\": \"restricted\", # \"restricted\", \"full\"\n",
    "    \"eval_fairness_grouping\": [\"majority-minority\", \"nationality-all\"]\n",
    "}\n",
    "\n",
    "output_dir=\"./output\"\n",
    "seed=0"
   ]
  },
  {
   "cell_type": "code",
   "execution_count": 4,
   "id": "9093a5ef",
   "metadata": {
    "execution": {
     "iopub.execute_input": "2025-07-28T10:29:01.418919Z",
     "iopub.status.busy": "2025-07-28T10:29:01.418232Z",
     "iopub.status.idle": "2025-07-28T10:29:01.423778Z",
     "shell.execute_reply": "2025-07-28T10:29:01.422897Z"
    },
    "papermill": {
     "duration": 0.02912,
     "end_time": "2025-07-28T10:29:01.425388",
     "exception": false,
     "start_time": "2025-07-28T10:29:01.396268",
     "status": "completed"
    },
    "tags": [
     "injected-parameters"
    ]
   },
   "outputs": [],
   "source": [
    "# Parameters\n",
    "universe_id = \"462e2cedb796945464776fecc2cab408\"\n",
    "run_no = \"11\"\n",
    "universe = \"{\\\"cutoff\\\": [\\\"quantile_0.1\\\", \\\"quantile_0.25\\\"], \\\"eval_fairness_grouping\\\": [\\\"majority-minority\\\", \\\"nationality-all\\\"], \\\"exclude_features\\\": \\\"nationality-sex\\\", \\\"exclude_subgroups\\\": \\\"keep-all\\\", \\\"model\\\": \\\"penalized_logreg\\\", \\\"scale\\\": \\\"scale\\\", \\\"training_size\\\": \\\"5k\\\"}\"\n",
    "output_dir = \"output\"\n",
    "seed = \"2023\"\n"
   ]
  },
  {
   "cell_type": "code",
   "execution_count": 5,
   "id": "1650acaf",
   "metadata": {
    "execution": {
     "iopub.execute_input": "2025-07-28T10:29:01.468871Z",
     "iopub.status.busy": "2025-07-28T10:29:01.468173Z",
     "iopub.status.idle": "2025-07-28T10:29:01.473753Z",
     "shell.execute_reply": "2025-07-28T10:29:01.472565Z"
    },
    "papermill": {
     "duration": 0.02961,
     "end_time": "2025-07-28T10:29:01.475453",
     "exception": false,
     "start_time": "2025-07-28T10:29:01.445843",
     "status": "completed"
    },
    "tags": []
   },
   "outputs": [],
   "source": [
    "import json\n",
    "# Parse universe into dict if it is passed as a string\n",
    "if isinstance(universe, str):\n",
    "    universe = json.loads(universe)"
   ]
  },
  {
   "cell_type": "code",
   "execution_count": 6,
   "id": "16620c48",
   "metadata": {
    "execution": {
     "iopub.execute_input": "2025-07-28T10:29:01.525348Z",
     "iopub.status.busy": "2025-07-28T10:29:01.524820Z",
     "iopub.status.idle": "2025-07-28T10:29:01.571934Z",
     "shell.execute_reply": "2025-07-28T10:29:01.571058Z"
    },
    "papermill": {
     "duration": 0.077274,
     "end_time": "2025-07-28T10:29:01.573536",
     "exception": false,
     "start_time": "2025-07-28T10:29:01.496262",
     "status": "completed"
    },
    "tags": []
   },
   "outputs": [],
   "source": [
    "# Auto-reload the custom package\n",
    "%load_ext autoreload\n",
    "%autoreload 1\n",
    "%aimport fairness_multiverse"
   ]
  },
  {
   "cell_type": "code",
   "execution_count": 7,
   "id": "01c5c9f3",
   "metadata": {
    "execution": {
     "iopub.execute_input": "2025-07-28T10:29:01.615155Z",
     "iopub.status.busy": "2025-07-28T10:29:01.614367Z",
     "iopub.status.idle": "2025-07-28T10:29:03.329131Z",
     "shell.execute_reply": "2025-07-28T10:29:03.328373Z"
    },
    "papermill": {
     "duration": 1.746112,
     "end_time": "2025-07-28T10:29:03.330644",
     "exception": false,
     "start_time": "2025-07-28T10:29:01.584532",
     "status": "completed"
    },
    "tags": []
   },
   "outputs": [],
   "source": [
    "from fairness_multiverse.universe import UniverseAnalysis\n",
    "\n",
    "universe_analysis = UniverseAnalysis(\n",
    "    run_no = run_no,\n",
    "    universe_id = universe_id,\n",
    "    universe = universe,\n",
    "    output_dir=output_dir,\n",
    ")"
   ]
  },
  {
   "cell_type": "code",
   "execution_count": 8,
   "id": "106241f5",
   "metadata": {
    "execution": {
     "iopub.execute_input": "2025-07-28T10:29:03.353786Z",
     "iopub.status.busy": "2025-07-28T10:29:03.352995Z",
     "iopub.status.idle": "2025-07-28T10:29:03.358767Z",
     "shell.execute_reply": "2025-07-28T10:29:03.357975Z"
    },
    "papermill": {
     "duration": 0.018406,
     "end_time": "2025-07-28T10:29:03.360068",
     "exception": false,
     "start_time": "2025-07-28T10:29:03.341662",
     "status": "completed"
    },
    "tags": []
   },
   "outputs": [
    {
     "name": "stdout",
     "output_type": "stream",
     "text": [
      "Using Seed: 2023\n"
     ]
    }
   ],
   "source": [
    "import numpy as np\n",
    "parsed_seed = int(seed)\n",
    "np.random.seed(parsed_seed)\n",
    "print(f\"Using Seed: {parsed_seed}\")"
   ]
  },
  {
   "cell_type": "markdown",
   "id": "e0ebdc57",
   "metadata": {
    "papermill": {
     "duration": 0.013423,
     "end_time": "2025-07-28T10:29:03.384682",
     "exception": false,
     "start_time": "2025-07-28T10:29:03.371259",
     "status": "completed"
    },
    "tags": []
   },
   "source": [
    "# Loading Data"
   ]
  },
  {
   "cell_type": "markdown",
   "id": "681925a3",
   "metadata": {
    "papermill": {
     "duration": 0.018596,
     "end_time": "2025-07-28T10:29:03.414823",
     "exception": false,
     "start_time": "2025-07-28T10:29:03.396227",
     "status": "completed"
    },
    "tags": []
   },
   "source": [
    "Load siab_train, siab_test, siab_calib and/or \n",
    "load siab_train_features, siab_train_labels"
   ]
  },
  {
   "cell_type": "code",
   "execution_count": 9,
   "id": "f0496b8a",
   "metadata": {
    "execution": {
     "iopub.execute_input": "2025-07-28T10:29:03.453937Z",
     "iopub.status.busy": "2025-07-28T10:29:03.453577Z",
     "iopub.status.idle": "2025-07-28T10:29:16.094282Z",
     "shell.execute_reply": "2025-07-28T10:29:16.093068Z"
    },
    "papermill": {
     "duration": 12.662485,
     "end_time": "2025-07-28T10:29:16.096228",
     "exception": false,
     "start_time": "2025-07-28T10:29:03.433743",
     "status": "completed"
    },
    "tags": []
   },
   "outputs": [
    {
     "name": "stdout",
     "output_type": "stream",
     "text": [
      "Loading SIAB data from cache: data/siab_cached.csv.gz\n"
     ]
    },
    {
     "name": "stdout",
     "output_type": "stream",
     "text": [
      "(643690, 164)\n"
     ]
    }
   ],
   "source": [
    "from pathlib import Path\n",
    "import pandas as pd\n",
    "\n",
    "# File paths\n",
    "raw_file = Path(\"data/raw/siab.csv\")\n",
    "cache_file = Path(\"data/siab_cached.csv.gz\")\n",
    "\n",
    "# Ensure cache directory exists\n",
    "cache_file.parent.mkdir(parents=True, exist_ok=True)\n",
    "\n",
    "# Load with simple caching\n",
    "if cache_file.exists():\n",
    "    print(f\"Loading SIAB data from cache: {cache_file}\")\n",
    "    siab = pd.read_csv(cache_file, compression='gzip')\n",
    "else:\n",
    "    print(f\"Cache not found. Reading raw SIAB data: {raw_file}\")\n",
    "    siab = pd.read_csv(raw_file)\n",
    "    siab.to_csv(cache_file, index=False, compression='gzip')\n",
    "    print(f\"Cached SIAB data to: {cache_file}\")\n",
    "\n",
    "# Now use `siab` DataFrame as needed\n",
    "print(siab.shape)"
   ]
  },
  {
   "cell_type": "code",
   "execution_count": 10,
   "id": "db0ca512-5f53-4dba-abdb-a2888bca41ba",
   "metadata": {
    "execution": {
     "iopub.execute_input": "2025-07-28T10:29:16.141540Z",
     "iopub.status.busy": "2025-07-28T10:29:16.141018Z",
     "iopub.status.idle": "2025-07-28T10:29:16.146503Z",
     "shell.execute_reply": "2025-07-28T10:29:16.145593Z"
    },
    "papermill": {
     "duration": 0.029188,
     "end_time": "2025-07-28T10:29:16.148122",
     "exception": false,
     "start_time": "2025-07-28T10:29:16.118934",
     "status": "completed"
    },
    "tags": []
   },
   "outputs": [],
   "source": [
    "#siab"
   ]
  },
  {
   "cell_type": "code",
   "execution_count": 11,
   "id": "a0edb063",
   "metadata": {
    "execution": {
     "iopub.execute_input": "2025-07-28T10:29:16.188876Z",
     "iopub.status.busy": "2025-07-28T10:29:16.188004Z",
     "iopub.status.idle": "2025-07-28T10:29:16.192944Z",
     "shell.execute_reply": "2025-07-28T10:29:16.192067Z"
    },
    "papermill": {
     "duration": 0.026289,
     "end_time": "2025-07-28T10:29:16.194480",
     "exception": false,
     "start_time": "2025-07-28T10:29:16.168191",
     "status": "completed"
    },
    "tags": []
   },
   "outputs": [],
   "source": [
    "#import pandas as pd\n",
    "#\n",
    "#X_train = pd.read_csv(\"./data/X_train.csv\")\n",
    "#y_train = pd.read_csv(\"./data/y_train.csv\")"
   ]
  },
  {
   "cell_type": "code",
   "execution_count": 12,
   "id": "63d08085",
   "metadata": {
    "execution": {
     "iopub.execute_input": "2025-07-28T10:29:16.234585Z",
     "iopub.status.busy": "2025-07-28T10:29:16.234187Z",
     "iopub.status.idle": "2025-07-28T10:29:16.239486Z",
     "shell.execute_reply": "2025-07-28T10:29:16.238441Z"
    },
    "papermill": {
     "duration": 0.027347,
     "end_time": "2025-07-28T10:29:16.241085",
     "exception": false,
     "start_time": "2025-07-28T10:29:16.213738",
     "status": "completed"
    },
    "tags": []
   },
   "outputs": [],
   "source": [
    "#X_test = pd.read_csv(\"./data/X_test.csv\")\n",
    "#y_true = pd.read_csv(\"./data/y_test.csv\")"
   ]
  },
  {
   "cell_type": "code",
   "execution_count": 13,
   "id": "98a8d0fa-1d3d-4ed8-bb2c-281470e24add",
   "metadata": {
    "execution": {
     "iopub.execute_input": "2025-07-28T10:29:16.282758Z",
     "iopub.status.busy": "2025-07-28T10:29:16.282042Z",
     "iopub.status.idle": "2025-07-28T10:29:16.287385Z",
     "shell.execute_reply": "2025-07-28T10:29:16.286519Z"
    },
    "papermill": {
     "duration": 0.026734,
     "end_time": "2025-07-28T10:29:16.289014",
     "exception": false,
     "start_time": "2025-07-28T10:29:16.262280",
     "status": "completed"
    },
    "tags": []
   },
   "outputs": [],
   "source": [
    "# Calibration data for conformal\n",
    "#X_calib = pd.read_csv(\"./data/X_calib.csv\")\n",
    "#y_calib = pd.read_csv(\"./data/y_calib.csv\")"
   ]
  },
  {
   "cell_type": "markdown",
   "id": "9901737e-04df-44f0-9100-f5ad144ed040",
   "metadata": {
    "papermill": {
     "duration": 0.018772,
     "end_time": "2025-07-28T10:29:16.327461",
     "exception": false,
     "start_time": "2025-07-28T10:29:16.308689",
     "status": "completed"
    },
    "tags": []
   },
   "source": [
    "# Splitting Data and Setting Training Data Size"
   ]
  },
  {
   "cell_type": "code",
   "execution_count": 14,
   "id": "acbc8f7d-8fc8-4e86-8c59-5dcb0f58384b",
   "metadata": {
    "execution": {
     "iopub.execute_input": "2025-07-28T10:29:16.373741Z",
     "iopub.status.busy": "2025-07-28T10:29:16.372774Z",
     "iopub.status.idle": "2025-07-28T10:29:16.381475Z",
     "shell.execute_reply": "2025-07-28T10:29:16.380440Z"
    },
    "papermill": {
     "duration": 0.036192,
     "end_time": "2025-07-28T10:29:16.383305",
     "exception": false,
     "start_time": "2025-07-28T10:29:16.347113",
     "status": "completed"
    },
    "tags": []
   },
   "outputs": [],
   "source": [
    "def sample_by_year(df, training_size, random_state=42):\n",
    "    if training_size == \"2014\":\n",
    "        return df[df[\"year\"] == 2014].reset_index(drop=True)\n",
    "    \n",
    "    size_map = {\n",
    "        \"25k\": 5000,\n",
    "        \"5k\": 1000,\n",
    "        \"1k\": 200\n",
    "    }\n",
    "\n",
    "    if training_size not in size_map:\n",
    "        return df.reset_index(drop=True)  # use all data\n",
    "\n",
    "    n_per_year = size_map[training_size]\n",
    "    grouped = df.groupby(\"year\")\n",
    "    sampled = grouped.apply(lambda x: x.sample(n=min(n_per_year, len(x)), random_state=random_state))\n",
    "    return sampled.reset_index(drop=True)"
   ]
  },
  {
   "cell_type": "code",
   "execution_count": 15,
   "id": "6d931f52-beaf-43ff-9e78-9d44a448d54e",
   "metadata": {
    "execution": {
     "iopub.execute_input": "2025-07-28T10:29:16.427372Z",
     "iopub.status.busy": "2025-07-28T10:29:16.426688Z",
     "iopub.status.idle": "2025-07-28T10:29:17.095899Z",
     "shell.execute_reply": "2025-07-28T10:29:17.094879Z"
    },
    "papermill": {
     "duration": 0.693205,
     "end_time": "2025-07-28T10:29:17.098050",
     "exception": false,
     "start_time": "2025-07-28T10:29:16.404845",
     "status": "completed"
    },
    "tags": []
   },
   "outputs": [],
   "source": [
    "siab_s = sample_by_year(siab, universe[\"training_size\"])"
   ]
  },
  {
   "cell_type": "code",
   "execution_count": 16,
   "id": "5db0a40e-a4e2-4920-be85-b12ae061d70d",
   "metadata": {
    "execution": {
     "iopub.execute_input": "2025-07-28T10:29:17.141826Z",
     "iopub.status.busy": "2025-07-28T10:29:17.141102Z",
     "iopub.status.idle": "2025-07-28T10:29:17.155858Z",
     "shell.execute_reply": "2025-07-28T10:29:17.154817Z"
    },
    "papermill": {
     "duration": 0.038989,
     "end_time": "2025-07-28T10:29:17.157806",
     "exception": false,
     "start_time": "2025-07-28T10:29:17.118817",
     "status": "completed"
    },
    "tags": []
   },
   "outputs": [
    {
     "data": {
      "text/plain": [
       "year\n",
       "2010    1000\n",
       "2011    1000\n",
       "2012    1000\n",
       "2013    1000\n",
       "2014    1000\n",
       "2015    1000\n",
       "2016    1000\n",
       "dtype: int64"
      ]
     },
     "metadata": {},
     "output_type": "display_data"
    }
   ],
   "source": [
    "display(siab_s.groupby(\"year\").size())"
   ]
  },
  {
   "cell_type": "code",
   "execution_count": 17,
   "id": "a561edb4-d032-42cb-8256-22eac1111c64",
   "metadata": {
    "execution": {
     "iopub.execute_input": "2025-07-28T10:29:17.200995Z",
     "iopub.status.busy": "2025-07-28T10:29:17.200278Z",
     "iopub.status.idle": "2025-07-28T10:29:17.457492Z",
     "shell.execute_reply": "2025-07-28T10:29:17.456489Z"
    },
    "papermill": {
     "duration": 0.280834,
     "end_time": "2025-07-28T10:29:17.459463",
     "exception": false,
     "start_time": "2025-07-28T10:29:17.178629",
     "status": "completed"
    },
    "tags": []
   },
   "outputs": [],
   "source": [
    "siab_train = siab_s[siab_s.year < 2015]\n",
    "siab_calib = siab[siab.year == 2015]\n",
    "siab_test = siab[siab.year == 2016]"
   ]
  },
  {
   "cell_type": "code",
   "execution_count": 18,
   "id": "472de16f-c3db-4916-846b-1f0de9cf1746",
   "metadata": {
    "execution": {
     "iopub.execute_input": "2025-07-28T10:29:17.499985Z",
     "iopub.status.busy": "2025-07-28T10:29:17.499116Z",
     "iopub.status.idle": "2025-07-28T10:29:17.508437Z",
     "shell.execute_reply": "2025-07-28T10:29:17.507441Z"
    },
    "papermill": {
     "duration": 0.030875,
     "end_time": "2025-07-28T10:29:17.510066",
     "exception": false,
     "start_time": "2025-07-28T10:29:17.479191",
     "status": "completed"
    },
    "tags": []
   },
   "outputs": [],
   "source": [
    "X_train = siab_train.iloc[:,4:164]\n",
    "y_train = siab_train.iloc[:, [3]]"
   ]
  },
  {
   "cell_type": "code",
   "execution_count": 19,
   "id": "828c96af-f43a-4ed6-ba47-8ac73a47d56c",
   "metadata": {
    "execution": {
     "iopub.execute_input": "2025-07-28T10:29:17.552268Z",
     "iopub.status.busy": "2025-07-28T10:29:17.551248Z",
     "iopub.status.idle": "2025-07-28T10:29:17.605714Z",
     "shell.execute_reply": "2025-07-28T10:29:17.604565Z"
    },
    "papermill": {
     "duration": 0.077817,
     "end_time": "2025-07-28T10:29:17.607844",
     "exception": false,
     "start_time": "2025-07-28T10:29:17.530027",
     "status": "completed"
    },
    "tags": []
   },
   "outputs": [],
   "source": [
    "X_calib = siab_calib.iloc[:,4:164]\n",
    "y_calib = siab_calib.iloc[:, [3]]"
   ]
  },
  {
   "cell_type": "code",
   "execution_count": 20,
   "id": "c34be9c3-6bd6-476e-acd3-845840e303be",
   "metadata": {
    "execution": {
     "iopub.execute_input": "2025-07-28T10:29:17.654537Z",
     "iopub.status.busy": "2025-07-28T10:29:17.653826Z",
     "iopub.status.idle": "2025-07-28T10:29:17.709251Z",
     "shell.execute_reply": "2025-07-28T10:29:17.708083Z"
    },
    "papermill": {
     "duration": 0.08048,
     "end_time": "2025-07-28T10:29:17.711047",
     "exception": false,
     "start_time": "2025-07-28T10:29:17.630567",
     "status": "completed"
    },
    "tags": []
   },
   "outputs": [],
   "source": [
    "X_test = siab_test.iloc[:,4:164]\n",
    "y_true = siab_test.iloc[:, [3]]"
   ]
  },
  {
   "cell_type": "code",
   "execution_count": 21,
   "id": "e6c733c5",
   "metadata": {
    "execution": {
     "iopub.execute_input": "2025-07-28T10:29:17.756944Z",
     "iopub.status.busy": "2025-07-28T10:29:17.756246Z",
     "iopub.status.idle": "2025-07-28T10:29:17.850762Z",
     "shell.execute_reply": "2025-07-28T10:29:17.849690Z"
    },
    "papermill": {
     "duration": 0.120195,
     "end_time": "2025-07-28T10:29:17.852967",
     "exception": false,
     "start_time": "2025-07-28T10:29:17.732772",
     "status": "completed"
    },
    "tags": []
   },
   "outputs": [],
   "source": [
    "# Auxiliary data needed downstream in the pipeline\n",
    "\n",
    "org_train = X_train.copy()\n",
    "org_test = X_test.copy()\n",
    "org_calib = X_calib.copy()"
   ]
  },
  {
   "cell_type": "markdown",
   "id": "0a4a1b33",
   "metadata": {
    "papermill": {
     "duration": 0.021206,
     "end_time": "2025-07-28T10:29:17.896751",
     "exception": false,
     "start_time": "2025-07-28T10:29:17.875545",
     "status": "completed"
    },
    "tags": []
   },
   "source": [
    "# Preprocessing Data"
   ]
  },
  {
   "cell_type": "code",
   "execution_count": 22,
   "id": "ca879031",
   "metadata": {
    "execution": {
     "iopub.execute_input": "2025-07-28T10:29:17.942951Z",
     "iopub.status.busy": "2025-07-28T10:29:17.942267Z",
     "iopub.status.idle": "2025-07-28T10:29:17.948389Z",
     "shell.execute_reply": "2025-07-28T10:29:17.947473Z"
    },
    "papermill": {
     "duration": 0.031367,
     "end_time": "2025-07-28T10:29:17.950060",
     "exception": false,
     "start_time": "2025-07-28T10:29:17.918693",
     "status": "completed"
    },
    "tags": []
   },
   "outputs": [],
   "source": [
    "# EXCLUDE PROTECTED FEATURES\n",
    "# ----------------------\n",
    "# \"exclude_features\": \"none\", # \"nationality\", \"sex\", \"nationality-sex\"\n",
    "\n",
    "excluded_features = universe[\"exclude_features\"].split(\"-\") # split, e.g.: \"nationality-sex\" -> [\"nationality\", \"sex\"]\n",
    "excluded_features_dictionary = {\n",
    "    \"nationality\": [\"maxdeutsch1\", \"maxdeutsch.Missing.\"],\n",
    "    \"sex\": [\"frau1\"],\n",
    "    \"age\": [\"age\"],\n",
    "}\n"
   ]
  },
  {
   "cell_type": "code",
   "execution_count": 23,
   "id": "b745ac60",
   "metadata": {
    "execution": {
     "iopub.execute_input": "2025-07-28T10:29:17.995748Z",
     "iopub.status.busy": "2025-07-28T10:29:17.995066Z",
     "iopub.status.idle": "2025-07-28T10:29:18.001490Z",
     "shell.execute_reply": "2025-07-28T10:29:18.000548Z"
    },
    "papermill": {
     "duration": 0.03115,
     "end_time": "2025-07-28T10:29:18.003147",
     "exception": false,
     "start_time": "2025-07-28T10:29:17.971997",
     "status": "completed"
    },
    "tags": []
   },
   "outputs": [],
   "source": [
    "# Code nice names to column names\n",
    "\n",
    "excluded_features_columns = [\n",
    "    excluded_features_dictionary[f] for f in excluded_features if len(f) > 0 and f != \"none\"\n",
    "]"
   ]
  },
  {
   "cell_type": "code",
   "execution_count": 24,
   "id": "f84f73a2",
   "metadata": {
    "execution": {
     "iopub.execute_input": "2025-07-28T10:29:18.048927Z",
     "iopub.status.busy": "2025-07-28T10:29:18.048209Z",
     "iopub.status.idle": "2025-07-28T10:29:18.055650Z",
     "shell.execute_reply": "2025-07-28T10:29:18.054717Z"
    },
    "papermill": {
     "duration": 0.031954,
     "end_time": "2025-07-28T10:29:18.057562",
     "exception": false,
     "start_time": "2025-07-28T10:29:18.025608",
     "status": "completed"
    },
    "tags": []
   },
   "outputs": [],
   "source": [
    "from utils import flatten_once\n",
    "\n",
    "excluded_features_columns = flatten_once(excluded_features_columns)"
   ]
  },
  {
   "cell_type": "code",
   "execution_count": 25,
   "id": "884dea22",
   "metadata": {
    "execution": {
     "iopub.execute_input": "2025-07-28T10:29:18.104254Z",
     "iopub.status.busy": "2025-07-28T10:29:18.103552Z",
     "iopub.status.idle": "2025-07-28T10:29:18.113023Z",
     "shell.execute_reply": "2025-07-28T10:29:18.112117Z"
    },
    "papermill": {
     "duration": 0.034508,
     "end_time": "2025-07-28T10:29:18.114589",
     "exception": false,
     "start_time": "2025-07-28T10:29:18.080081",
     "status": "completed"
    },
    "tags": []
   },
   "outputs": [
    {
     "name": "stdout",
     "output_type": "stream",
     "text": [
      "Dropping features: ['maxdeutsch1', 'maxdeutsch.Missing.', 'frau1']\n"
     ]
    }
   ],
   "source": [
    "if len(excluded_features_columns) > 0:\n",
    "    print(f\"Dropping features: {excluded_features_columns}\")\n",
    "    X_train.drop(excluded_features_columns, axis=1, inplace=True)"
   ]
  },
  {
   "cell_type": "code",
   "execution_count": 26,
   "id": "95ab8b16",
   "metadata": {
    "execution": {
     "iopub.execute_input": "2025-07-28T10:29:18.161600Z",
     "iopub.status.busy": "2025-07-28T10:29:18.160861Z",
     "iopub.status.idle": "2025-07-28T10:29:18.217606Z",
     "shell.execute_reply": "2025-07-28T10:29:18.216451Z"
    },
    "papermill": {
     "duration": 0.082638,
     "end_time": "2025-07-28T10:29:18.219316",
     "exception": false,
     "start_time": "2025-07-28T10:29:18.136678",
     "status": "completed"
    },
    "tags": []
   },
   "outputs": [
    {
     "name": "stdout",
     "output_type": "stream",
     "text": [
      "Dropping features: ['maxdeutsch1', 'maxdeutsch.Missing.', 'frau1']\n"
     ]
    }
   ],
   "source": [
    "if len(excluded_features_columns) > 0:\n",
    "    print(f\"Dropping features: {excluded_features_columns}\")\n",
    "    X_test.drop(excluded_features_columns, axis=1, inplace=True)"
   ]
  },
  {
   "cell_type": "code",
   "execution_count": 27,
   "id": "1853aaf5-fb9f-46cb-a2b5-8ea4ae2237e4",
   "metadata": {
    "execution": {
     "iopub.execute_input": "2025-07-28T10:29:18.263176Z",
     "iopub.status.busy": "2025-07-28T10:29:18.262277Z",
     "iopub.status.idle": "2025-07-28T10:29:18.315571Z",
     "shell.execute_reply": "2025-07-28T10:29:18.314551Z"
    },
    "papermill": {
     "duration": 0.077211,
     "end_time": "2025-07-28T10:29:18.317523",
     "exception": false,
     "start_time": "2025-07-28T10:29:18.240312",
     "status": "completed"
    },
    "tags": []
   },
   "outputs": [
    {
     "name": "stdout",
     "output_type": "stream",
     "text": [
      "Dropping features: ['maxdeutsch1', 'maxdeutsch.Missing.', 'frau1']\n"
     ]
    }
   ],
   "source": [
    "if len(excluded_features_columns) > 0:\n",
    "    print(f\"Dropping features: {excluded_features_columns}\")\n",
    "    X_calib.drop(excluded_features_columns, axis=1, inplace=True)"
   ]
  },
  {
   "cell_type": "code",
   "execution_count": 28,
   "id": "6727d079-03e5-481e-9d38-292a90b7a0a8",
   "metadata": {
    "execution": {
     "iopub.execute_input": "2025-07-28T10:29:18.362214Z",
     "iopub.status.busy": "2025-07-28T10:29:18.361233Z",
     "iopub.status.idle": "2025-07-28T10:29:18.366657Z",
     "shell.execute_reply": "2025-07-28T10:29:18.365747Z"
    },
    "papermill": {
     "duration": 0.029106,
     "end_time": "2025-07-28T10:29:18.368273",
     "exception": false,
     "start_time": "2025-07-28T10:29:18.339167",
     "status": "completed"
    },
    "tags": []
   },
   "outputs": [],
   "source": [
    "# SPLIT & STRATIFY DATA\n",
    "# ----------------------"
   ]
  },
  {
   "cell_type": "code",
   "execution_count": 29,
   "id": "76c4dc6d",
   "metadata": {
    "execution": {
     "iopub.execute_input": "2025-07-28T10:29:18.413425Z",
     "iopub.status.busy": "2025-07-28T10:29:18.412960Z",
     "iopub.status.idle": "2025-07-28T10:29:18.418364Z",
     "shell.execute_reply": "2025-07-28T10:29:18.417511Z"
    },
    "papermill": {
     "duration": 0.029655,
     "end_time": "2025-07-28T10:29:18.419846",
     "exception": false,
     "start_time": "2025-07-28T10:29:18.390191",
     "status": "completed"
    },
    "tags": []
   },
   "outputs": [],
   "source": [
    "# EXCLUDE CERTAIN SUBGROUPS\n",
    "# ----------------------\n",
    "\n",
    "mode = universe.get(\"exclude_subgroups\", \"keep-all\") \n",
    "# Fetches the exclude_subgroups setting from the universe dict.\n",
    "# Defaults to \"keep-all\" if the key is missing."
   ]
  },
  {
   "cell_type": "code",
   "execution_count": 30,
   "id": "21994072",
   "metadata": {
    "execution": {
     "iopub.execute_input": "2025-07-28T10:29:18.465658Z",
     "iopub.status.busy": "2025-07-28T10:29:18.465063Z",
     "iopub.status.idle": "2025-07-28T10:29:18.472889Z",
     "shell.execute_reply": "2025-07-28T10:29:18.471943Z"
    },
    "papermill": {
     "duration": 0.033331,
     "end_time": "2025-07-28T10:29:18.474684",
     "exception": false,
     "start_time": "2025-07-28T10:29:18.441353",
     "status": "completed"
    },
    "tags": []
   },
   "outputs": [],
   "source": [
    "if mode == \"keep-all\":\n",
    "    keep_mask = pd.Series(True, index=org_train.index)\n",
    "\n",
    "# org_train contains the original feature columns from features_org (in Simson)\n",
    "# features_org contains unprocessed features, for me X_train at beginning ???\n",
    "# For keep-all, creates a boolean Series (keep_mask) of all True, so no rows are removed.\n",
    "\n",
    "elif mode == \"drop-non-german\":\n",
    "    keep_mask = org_train[\"maxdeutsch1\"] == 1 # ??? what about missing values?\n",
    "\n",
    "else:\n",
    "    raise ValueError(f\"Unsupported mode for exclude_subgroups: {mode}\")\n"
   ]
  },
  {
   "cell_type": "code",
   "execution_count": 31,
   "id": "71651440",
   "metadata": {
    "execution": {
     "iopub.execute_input": "2025-07-28T10:29:18.519232Z",
     "iopub.status.busy": "2025-07-28T10:29:18.518737Z",
     "iopub.status.idle": "2025-07-28T10:29:18.525727Z",
     "shell.execute_reply": "2025-07-28T10:29:18.524708Z"
    },
    "papermill": {
     "duration": 0.030684,
     "end_time": "2025-07-28T10:29:18.527568",
     "exception": false,
     "start_time": "2025-07-28T10:29:18.496884",
     "status": "completed"
    },
    "tags": []
   },
   "outputs": [],
   "source": [
    "n_drop = (~keep_mask).sum() # Calculates how many rows are set to be dropped\n",
    "if n_drop > 0:\n",
    "    pct = n_drop / len(keep_mask) * 100\n",
    "    print(f\"Dropping {n_drop} rows ({pct:.2f}%) where mode='{mode}'\")"
   ]
  },
  {
   "cell_type": "code",
   "execution_count": 32,
   "id": "5fb8eee5",
   "metadata": {
    "execution": {
     "iopub.execute_input": "2025-07-28T10:29:18.575351Z",
     "iopub.status.busy": "2025-07-28T10:29:18.574863Z",
     "iopub.status.idle": "2025-07-28T10:29:18.583158Z",
     "shell.execute_reply": "2025-07-28T10:29:18.582104Z"
    },
    "papermill": {
     "duration": 0.035757,
     "end_time": "2025-07-28T10:29:18.584963",
     "exception": false,
     "start_time": "2025-07-28T10:29:18.549206",
     "status": "completed"
    },
    "tags": []
   },
   "outputs": [],
   "source": [
    "X_train = X_train[keep_mask]"
   ]
  },
  {
   "cell_type": "code",
   "execution_count": 33,
   "id": "b202bb3a",
   "metadata": {
    "execution": {
     "iopub.execute_input": "2025-07-28T10:29:18.642660Z",
     "iopub.status.busy": "2025-07-28T10:29:18.642160Z",
     "iopub.status.idle": "2025-07-28T10:29:18.648986Z",
     "shell.execute_reply": "2025-07-28T10:29:18.647870Z"
    },
    "papermill": {
     "duration": 0.039987,
     "end_time": "2025-07-28T10:29:18.650911",
     "exception": false,
     "start_time": "2025-07-28T10:29:18.610924",
     "status": "completed"
    },
    "tags": []
   },
   "outputs": [],
   "source": [
    "y_train = y_train[keep_mask]"
   ]
  },
  {
   "cell_type": "markdown",
   "id": "493e2ac3",
   "metadata": {
    "papermill": {
     "duration": 0.020687,
     "end_time": "2025-07-28T10:29:18.698114",
     "exception": false,
     "start_time": "2025-07-28T10:29:18.677427",
     "status": "completed"
    },
    "tags": []
   },
   "source": [
    "# Model Training"
   ]
  },
  {
   "cell_type": "code",
   "execution_count": 34,
   "id": "679e1268",
   "metadata": {
    "execution": {
     "iopub.execute_input": "2025-07-28T10:29:18.742561Z",
     "iopub.status.busy": "2025-07-28T10:29:18.742130Z",
     "iopub.status.idle": "2025-07-28T10:29:18.848353Z",
     "shell.execute_reply": "2025-07-28T10:29:18.847242Z"
    },
    "papermill": {
     "duration": 0.131577,
     "end_time": "2025-07-28T10:29:18.850700",
     "exception": false,
     "start_time": "2025-07-28T10:29:18.719123",
     "status": "completed"
    },
    "tags": []
   },
   "outputs": [],
   "source": [
    "from sklearn.linear_model import LogisticRegression\n",
    "from sklearn.ensemble import GradientBoostingClassifier, RandomForestClassifier\n",
    "\n",
    "if (universe[\"model\"] == \"logreg\"):\n",
    "    model = LogisticRegression() #penalty=\"none\") #, solver=\"newton-cg\", max_iter=1) # include random_state=19 ?\n",
    "elif (universe[\"model\"] == \"penalized_logreg\"):\n",
    "    model = LogisticRegression(penalty=\"l2\", C=1.0) #, solver=\"newton-cg\", max_iter=1)\n",
    "elif (universe[\"model\"] == \"rf\"):\n",
    "    model = RandomForestClassifier(n_estimators=100, n_jobs=-1)\n",
    "elif (universe[\"model\"] == \"gbm\"):\n",
    "    model = GradientBoostingClassifier()\n",
    "elif (universe[\"model\"] == \"elasticnet\"):\n",
    "    model = LogisticRegression(penalty = 'elasticnet', solver = 'saga', l1_ratio = 0.5, max_iter=5000) # which solver to use?\n",
    "else:\n",
    "    raise \"Unsupported universe.model\""
   ]
  },
  {
   "cell_type": "code",
   "execution_count": 35,
   "id": "0cc8f744",
   "metadata": {
    "execution": {
     "iopub.execute_input": "2025-07-28T10:29:18.898949Z",
     "iopub.status.busy": "2025-07-28T10:29:18.898368Z",
     "iopub.status.idle": "2025-07-28T10:29:18.905137Z",
     "shell.execute_reply": "2025-07-28T10:29:18.904210Z"
    },
    "papermill": {
     "duration": 0.032072,
     "end_time": "2025-07-28T10:29:18.906896",
     "exception": false,
     "start_time": "2025-07-28T10:29:18.874824",
     "status": "completed"
    },
    "tags": []
   },
   "outputs": [],
   "source": [
    "import numpy as np\n",
    "from sklearn.pipeline import Pipeline\n",
    "from sklearn.preprocessing import StandardScaler\n",
    "\n",
    "model = Pipeline([\n",
    "    #(\"continuous_processor\", continuous_processor),\n",
    "    #(\"categorical_preprocessor\", categorical_preprocessor),\n",
    "    (\"scale\", StandardScaler() if universe[\"scale\"] == \"scale\" else None), \n",
    "    (\"model\", model),\n",
    "])"
   ]
  },
  {
   "cell_type": "code",
   "execution_count": 36,
   "id": "9442c04d",
   "metadata": {
    "execution": {
     "iopub.execute_input": "2025-07-28T10:29:18.951472Z",
     "iopub.status.busy": "2025-07-28T10:29:18.950773Z",
     "iopub.status.idle": "2025-07-28T10:29:19.101723Z",
     "shell.execute_reply": "2025-07-28T10:29:19.100766Z"
    },
    "papermill": {
     "duration": 0.175223,
     "end_time": "2025-07-28T10:29:19.103305",
     "exception": false,
     "start_time": "2025-07-28T10:29:18.928082",
     "status": "completed"
    },
    "tags": []
   },
   "outputs": [
    {
     "name": "stderr",
     "output_type": "stream",
     "text": [
      "/dss/dsshome1/0C/ra93lal2/.local/share/virtualenvs/CMA_Fairness_v2-3j10GkSs/lib/python3.10/site-packages/sklearn/linear_model/_logistic.py:444: ConvergenceWarning: lbfgs failed to converge (status=1):\n",
      "STOP: TOTAL NO. of ITERATIONS REACHED LIMIT.\n",
      "\n",
      "Increase the number of iterations (max_iter) or scale the data as shown in:\n",
      "    https://scikit-learn.org/stable/modules/preprocessing.html\n",
      "Please also refer to the documentation for alternative solver options:\n",
      "    https://scikit-learn.org/stable/modules/linear_model.html#logistic-regression\n",
      "  n_iter_i = _check_optimize_result(\n"
     ]
    },
    {
     "data": {
      "text/html": [
       "<style>#sk-container-id-1 {color: black;background-color: white;}#sk-container-id-1 pre{padding: 0;}#sk-container-id-1 div.sk-toggleable {background-color: white;}#sk-container-id-1 label.sk-toggleable__label {cursor: pointer;display: block;width: 100%;margin-bottom: 0;padding: 0.3em;box-sizing: border-box;text-align: center;}#sk-container-id-1 label.sk-toggleable__label-arrow:before {content: \"▸\";float: left;margin-right: 0.25em;color: #696969;}#sk-container-id-1 label.sk-toggleable__label-arrow:hover:before {color: black;}#sk-container-id-1 div.sk-estimator:hover label.sk-toggleable__label-arrow:before {color: black;}#sk-container-id-1 div.sk-toggleable__content {max-height: 0;max-width: 0;overflow: hidden;text-align: left;background-color: #f0f8ff;}#sk-container-id-1 div.sk-toggleable__content pre {margin: 0.2em;color: black;border-radius: 0.25em;background-color: #f0f8ff;}#sk-container-id-1 input.sk-toggleable__control:checked~div.sk-toggleable__content {max-height: 200px;max-width: 100%;overflow: auto;}#sk-container-id-1 input.sk-toggleable__control:checked~label.sk-toggleable__label-arrow:before {content: \"▾\";}#sk-container-id-1 div.sk-estimator input.sk-toggleable__control:checked~label.sk-toggleable__label {background-color: #d4ebff;}#sk-container-id-1 div.sk-label input.sk-toggleable__control:checked~label.sk-toggleable__label {background-color: #d4ebff;}#sk-container-id-1 input.sk-hidden--visually {border: 0;clip: rect(1px 1px 1px 1px);clip: rect(1px, 1px, 1px, 1px);height: 1px;margin: -1px;overflow: hidden;padding: 0;position: absolute;width: 1px;}#sk-container-id-1 div.sk-estimator {font-family: monospace;background-color: #f0f8ff;border: 1px dotted black;border-radius: 0.25em;box-sizing: border-box;margin-bottom: 0.5em;}#sk-container-id-1 div.sk-estimator:hover {background-color: #d4ebff;}#sk-container-id-1 div.sk-parallel-item::after {content: \"\";width: 100%;border-bottom: 1px solid gray;flex-grow: 1;}#sk-container-id-1 div.sk-label:hover label.sk-toggleable__label {background-color: #d4ebff;}#sk-container-id-1 div.sk-serial::before {content: \"\";position: absolute;border-left: 1px solid gray;box-sizing: border-box;top: 0;bottom: 0;left: 50%;z-index: 0;}#sk-container-id-1 div.sk-serial {display: flex;flex-direction: column;align-items: center;background-color: white;padding-right: 0.2em;padding-left: 0.2em;position: relative;}#sk-container-id-1 div.sk-item {position: relative;z-index: 1;}#sk-container-id-1 div.sk-parallel {display: flex;align-items: stretch;justify-content: center;background-color: white;position: relative;}#sk-container-id-1 div.sk-item::before, #sk-container-id-1 div.sk-parallel-item::before {content: \"\";position: absolute;border-left: 1px solid gray;box-sizing: border-box;top: 0;bottom: 0;left: 50%;z-index: -1;}#sk-container-id-1 div.sk-parallel-item {display: flex;flex-direction: column;z-index: 1;position: relative;background-color: white;}#sk-container-id-1 div.sk-parallel-item:first-child::after {align-self: flex-end;width: 50%;}#sk-container-id-1 div.sk-parallel-item:last-child::after {align-self: flex-start;width: 50%;}#sk-container-id-1 div.sk-parallel-item:only-child::after {width: 0;}#sk-container-id-1 div.sk-dashed-wrapped {border: 1px dashed gray;margin: 0 0.4em 0.5em 0.4em;box-sizing: border-box;padding-bottom: 0.4em;background-color: white;}#sk-container-id-1 div.sk-label label {font-family: monospace;font-weight: bold;display: inline-block;line-height: 1.2em;}#sk-container-id-1 div.sk-label-container {text-align: center;}#sk-container-id-1 div.sk-container {/* jupyter's `normalize.less` sets `[hidden] { display: none; }` but bootstrap.min.css set `[hidden] { display: none !important; }` so we also need the `!important` here to be able to override the default hidden behavior on the sphinx rendered scikit-learn.org. See: https://github.com/scikit-learn/scikit-learn/issues/21755 */display: inline-block !important;position: relative;}#sk-container-id-1 div.sk-text-repr-fallback {display: none;}</style><div id=\"sk-container-id-1\" class=\"sk-top-container\"><div class=\"sk-text-repr-fallback\"><pre>Pipeline(steps=[(&#x27;scale&#x27;, StandardScaler()), (&#x27;model&#x27;, LogisticRegression())])</pre><b>In a Jupyter environment, please rerun this cell to show the HTML representation or trust the notebook. <br />On GitHub, the HTML representation is unable to render, please try loading this page with nbviewer.org.</b></div><div class=\"sk-container\" hidden><div class=\"sk-item sk-dashed-wrapped\"><div class=\"sk-label-container\"><div class=\"sk-label sk-toggleable\"><input class=\"sk-toggleable__control sk-hidden--visually\" id=\"sk-estimator-id-1\" type=\"checkbox\" ><label for=\"sk-estimator-id-1\" class=\"sk-toggleable__label sk-toggleable__label-arrow\">Pipeline</label><div class=\"sk-toggleable__content\"><pre>Pipeline(steps=[(&#x27;scale&#x27;, StandardScaler()), (&#x27;model&#x27;, LogisticRegression())])</pre></div></div></div><div class=\"sk-serial\"><div class=\"sk-item\"><div class=\"sk-estimator sk-toggleable\"><input class=\"sk-toggleable__control sk-hidden--visually\" id=\"sk-estimator-id-2\" type=\"checkbox\" ><label for=\"sk-estimator-id-2\" class=\"sk-toggleable__label sk-toggleable__label-arrow\">StandardScaler</label><div class=\"sk-toggleable__content\"><pre>StandardScaler()</pre></div></div></div><div class=\"sk-item\"><div class=\"sk-estimator sk-toggleable\"><input class=\"sk-toggleable__control sk-hidden--visually\" id=\"sk-estimator-id-3\" type=\"checkbox\" ><label for=\"sk-estimator-id-3\" class=\"sk-toggleable__label sk-toggleable__label-arrow\">LogisticRegression</label><div class=\"sk-toggleable__content\"><pre>LogisticRegression()</pre></div></div></div></div></div></div></div>"
      ],
      "text/plain": [
       "Pipeline(steps=[('scale', StandardScaler()), ('model', LogisticRegression())])"
      ]
     },
     "execution_count": 36,
     "metadata": {},
     "output_type": "execute_result"
    }
   ],
   "source": [
    "model.fit(X_train, y_train.values.ravel())"
   ]
  },
  {
   "cell_type": "code",
   "execution_count": 37,
   "id": "af59f8c0",
   "metadata": {
    "execution": {
     "iopub.execute_input": "2025-07-28T10:29:19.152895Z",
     "iopub.status.busy": "2025-07-28T10:29:19.152193Z",
     "iopub.status.idle": "2025-07-28T10:29:19.157663Z",
     "shell.execute_reply": "2025-07-28T10:29:19.156795Z"
    },
    "papermill": {
     "duration": 0.031568,
     "end_time": "2025-07-28T10:29:19.159229",
     "exception": false,
     "start_time": "2025-07-28T10:29:19.127661",
     "status": "completed"
    },
    "tags": []
   },
   "outputs": [],
   "source": [
    "from fairness_multiverse.universe import predict_w_threshold"
   ]
  },
  {
   "cell_type": "code",
   "execution_count": 38,
   "id": "a7cf2e16",
   "metadata": {
    "execution": {
     "iopub.execute_input": "2025-07-28T10:29:19.204925Z",
     "iopub.status.busy": "2025-07-28T10:29:19.204172Z",
     "iopub.status.idle": "2025-07-28T10:29:19.395411Z",
     "shell.execute_reply": "2025-07-28T10:29:19.394483Z"
    },
    "papermill": {
     "duration": 0.21616,
     "end_time": "2025-07-28T10:29:19.397110",
     "exception": false,
     "start_time": "2025-07-28T10:29:19.180950",
     "status": "completed"
    },
    "tags": []
   },
   "outputs": [
    {
     "data": {
      "text/plain": [
       "0.8526028313454465"
      ]
     },
     "execution_count": 38,
     "metadata": {},
     "output_type": "execute_result"
    }
   ],
   "source": [
    "probs_test = model.predict_proba(X_test)\n",
    "\n",
    "'''\n",
    "Below code returns a boolean array (or binary 0/1 array depending on how it’s used) where each element \n",
    "is True if the probability of class 1 is greater than or equal to the threshold, and False otherwise.\n",
    "'''\n",
    "y_pred_default = predict_w_threshold(probs_test, 0.5)\n",
    "\n",
    "from sklearn.metrics import accuracy_score\n",
    "\n",
    "# Naive prediction\n",
    "accuracy_score(y_true = y_true, y_pred = y_pred_default)"
   ]
  },
  {
   "cell_type": "code",
   "execution_count": 39,
   "id": "081964c3",
   "metadata": {
    "execution": {
     "iopub.execute_input": "2025-07-28T10:29:19.445927Z",
     "iopub.status.busy": "2025-07-28T10:29:19.445405Z",
     "iopub.status.idle": "2025-07-28T10:29:19.631206Z",
     "shell.execute_reply": "2025-07-28T10:29:19.630177Z"
    },
    "papermill": {
     "duration": 0.209889,
     "end_time": "2025-07-28T10:29:19.632980",
     "exception": false,
     "start_time": "2025-07-28T10:29:19.423091",
     "status": "completed"
    },
    "tags": []
   },
   "outputs": [
    {
     "data": {
      "text/plain": [
       "array([0, 0, 0, ..., 0, 0, 0])"
      ]
     },
     "execution_count": 39,
     "metadata": {},
     "output_type": "execute_result"
    }
   ],
   "source": [
    "model.predict(X_test)"
   ]
  },
  {
   "cell_type": "markdown",
   "id": "56c9705b",
   "metadata": {
    "papermill": {
     "duration": 0.021312,
     "end_time": "2025-07-28T10:29:19.677389",
     "exception": false,
     "start_time": "2025-07-28T10:29:19.656077",
     "status": "completed"
    },
    "tags": []
   },
   "source": [
    "# Conformal Prediction"
   ]
  },
  {
   "cell_type": "code",
   "execution_count": 40,
   "id": "160ec6ff",
   "metadata": {
    "execution": {
     "iopub.execute_input": "2025-07-28T10:29:19.727148Z",
     "iopub.status.busy": "2025-07-28T10:29:19.726613Z",
     "iopub.status.idle": "2025-07-28T10:29:19.732482Z",
     "shell.execute_reply": "2025-07-28T10:29:19.731532Z"
    },
    "papermill": {
     "duration": 0.031593,
     "end_time": "2025-07-28T10:29:19.734075",
     "exception": false,
     "start_time": "2025-07-28T10:29:19.702482",
     "status": "completed"
    },
    "tags": []
   },
   "outputs": [],
   "source": [
    "# Miscoverage level for conformal prediction (10% allowed error rate => 90% target coverage)\n",
    "alpha = 0.1"
   ]
  },
  {
   "cell_type": "code",
   "execution_count": 41,
   "id": "eadf4555-3dd3-440e-8e35-f82a4ad9f855",
   "metadata": {
    "execution": {
     "iopub.execute_input": "2025-07-28T10:29:19.781883Z",
     "iopub.status.busy": "2025-07-28T10:29:19.781230Z",
     "iopub.status.idle": "2025-07-28T10:29:19.956504Z",
     "shell.execute_reply": "2025-07-28T10:29:19.955502Z"
    },
    "papermill": {
     "duration": 0.201642,
     "end_time": "2025-07-28T10:29:19.958567",
     "exception": false,
     "start_time": "2025-07-28T10:29:19.756925",
     "status": "completed"
    },
    "tags": []
   },
   "outputs": [],
   "source": [
    "probs_calib = model.predict_proba(X_calib)"
   ]
  },
  {
   "cell_type": "code",
   "execution_count": 42,
   "id": "2ed93547-6d5d-4983-9b36-1ecb300da49a",
   "metadata": {
    "execution": {
     "iopub.execute_input": "2025-07-28T10:29:20.006773Z",
     "iopub.status.busy": "2025-07-28T10:29:20.006092Z",
     "iopub.status.idle": "2025-07-28T10:29:20.012399Z",
     "shell.execute_reply": "2025-07-28T10:29:20.011538Z"
    },
    "papermill": {
     "duration": 0.032134,
     "end_time": "2025-07-28T10:29:20.013997",
     "exception": false,
     "start_time": "2025-07-28T10:29:19.981863",
     "status": "completed"
    },
    "tags": []
   },
   "outputs": [],
   "source": [
    "y_calib = y_calib.values.ravel().astype(int)"
   ]
  },
  {
   "cell_type": "code",
   "execution_count": 43,
   "id": "65d1320d-f588-4b38-9072-62af1ae97f7d",
   "metadata": {
    "execution": {
     "iopub.execute_input": "2025-07-28T10:29:20.062877Z",
     "iopub.status.busy": "2025-07-28T10:29:20.062195Z",
     "iopub.status.idle": "2025-07-28T10:29:20.069722Z",
     "shell.execute_reply": "2025-07-28T10:29:20.068845Z"
    },
    "papermill": {
     "duration": 0.033702,
     "end_time": "2025-07-28T10:29:20.071537",
     "exception": false,
     "start_time": "2025-07-28T10:29:20.037835",
     "status": "completed"
    },
    "tags": []
   },
   "outputs": [],
   "source": [
    "from fairness_multiverse.conformal import compute_nc_scores\n",
    "\n",
    "# Compute nonconformity scores on calibration set (1 - probability of true class)\n",
    "nc_scores = compute_nc_scores(probs_calib, y_calib)"
   ]
  },
  {
   "cell_type": "code",
   "execution_count": 44,
   "id": "df3b8ca3-53b7-43d5-9667-7c85da7aeda2",
   "metadata": {
    "execution": {
     "iopub.execute_input": "2025-07-28T10:29:20.118702Z",
     "iopub.status.busy": "2025-07-28T10:29:20.118046Z",
     "iopub.status.idle": "2025-07-28T10:29:20.125295Z",
     "shell.execute_reply": "2025-07-28T10:29:20.124432Z"
    },
    "papermill": {
     "duration": 0.032732,
     "end_time": "2025-07-28T10:29:20.126930",
     "exception": false,
     "start_time": "2025-07-28T10:29:20.094198",
     "status": "completed"
    },
    "tags": []
   },
   "outputs": [],
   "source": [
    "from fairness_multiverse.conformal import find_threshold\n",
    "\n",
    "# Find conformal threshold q_hat for the given alpha (split conformal method)\n",
    "q_hat = find_threshold(nc_scores, alpha)"
   ]
  },
  {
   "cell_type": "code",
   "execution_count": 45,
   "id": "4d29e6c1-0ef6-4aa4-b8fe-4fe79b0d033a",
   "metadata": {
    "execution": {
     "iopub.execute_input": "2025-07-28T10:29:20.174208Z",
     "iopub.status.busy": "2025-07-28T10:29:20.173513Z",
     "iopub.status.idle": "2025-07-28T10:29:20.180919Z",
     "shell.execute_reply": "2025-07-28T10:29:20.179958Z"
    },
    "papermill": {
     "duration": 0.03315,
     "end_time": "2025-07-28T10:29:20.182691",
     "exception": false,
     "start_time": "2025-07-28T10:29:20.149541",
     "status": "completed"
    },
    "tags": []
   },
   "outputs": [
    {
     "data": {
      "text/plain": [
       "0.6800537271214755"
      ]
     },
     "execution_count": 45,
     "metadata": {},
     "output_type": "execute_result"
    }
   ],
   "source": [
    "q_hat"
   ]
  },
  {
   "cell_type": "code",
   "execution_count": 46,
   "id": "92460794-cdac-4be2-ba28-f28c0515a6fb",
   "metadata": {
    "execution": {
     "iopub.execute_input": "2025-07-28T10:29:20.230677Z",
     "iopub.status.busy": "2025-07-28T10:29:20.229754Z",
     "iopub.status.idle": "2025-07-28T10:29:21.170719Z",
     "shell.execute_reply": "2025-07-28T10:29:21.169575Z"
    },
    "papermill": {
     "duration": 0.967208,
     "end_time": "2025-07-28T10:29:21.172890",
     "exception": false,
     "start_time": "2025-07-28T10:29:20.205682",
     "status": "completed"
    },
    "tags": []
   },
   "outputs": [],
   "source": [
    "from fairness_multiverse.conformal import predict_conformal_sets\n",
    "\n",
    "# Generate prediction sets for each test example\n",
    "pred_sets = predict_conformal_sets(model, X_test, q_hat)"
   ]
  },
  {
   "cell_type": "code",
   "execution_count": 47,
   "id": "d90c9a65-e6db-4f5d-80cd-e68fb7e46829",
   "metadata": {
    "execution": {
     "iopub.execute_input": "2025-07-28T10:29:21.219428Z",
     "iopub.status.busy": "2025-07-28T10:29:21.218933Z",
     "iopub.status.idle": "2025-07-28T10:29:21.224989Z",
     "shell.execute_reply": "2025-07-28T10:29:21.223885Z"
    },
    "papermill": {
     "duration": 0.030982,
     "end_time": "2025-07-28T10:29:21.226565",
     "exception": false,
     "start_time": "2025-07-28T10:29:21.195583",
     "status": "completed"
    },
    "tags": []
   },
   "outputs": [],
   "source": [
    "y_true = y_true.squeeze()"
   ]
  },
  {
   "cell_type": "code",
   "execution_count": 48,
   "id": "3a58a54a-1e68-46b9-927a-df01f18aebc8",
   "metadata": {
    "execution": {
     "iopub.execute_input": "2025-07-28T10:29:21.273543Z",
     "iopub.status.busy": "2025-07-28T10:29:21.272808Z",
     "iopub.status.idle": "2025-07-28T10:29:22.222508Z",
     "shell.execute_reply": "2025-07-28T10:29:22.221589Z"
    },
    "papermill": {
     "duration": 0.974802,
     "end_time": "2025-07-28T10:29:22.224347",
     "exception": false,
     "start_time": "2025-07-28T10:29:21.249545",
     "status": "completed"
    },
    "tags": []
   },
   "outputs": [],
   "source": [
    "from fairness_multiverse.conformal import evaluate_sets\n",
    "\n",
    "# Evaluate coverage and average set size on test data\n",
    "metrics = evaluate_sets(pred_sets, y_true)"
   ]
  },
  {
   "cell_type": "markdown",
   "id": "2b569c12-9aaa-4c88-98c9-bbcd0cf3ebb8",
   "metadata": {
    "papermill": {
     "duration": 0.023198,
     "end_time": "2025-07-28T10:29:22.271793",
     "exception": false,
     "start_time": "2025-07-28T10:29:22.248595",
     "status": "completed"
    },
    "tags": []
   },
   "source": [
    "# CP Metrics"
   ]
  },
  {
   "cell_type": "code",
   "execution_count": 49,
   "id": "5ce0a5cb-201f-45a0-ade5-94c7f0bd6095",
   "metadata": {
    "execution": {
     "iopub.execute_input": "2025-07-28T10:29:22.318273Z",
     "iopub.status.busy": "2025-07-28T10:29:22.317887Z",
     "iopub.status.idle": "2025-07-28T10:29:22.325473Z",
     "shell.execute_reply": "2025-07-28T10:29:22.324574Z"
    },
    "papermill": {
     "duration": 0.032924,
     "end_time": "2025-07-28T10:29:22.326976",
     "exception": false,
     "start_time": "2025-07-28T10:29:22.294052",
     "status": "completed"
    },
    "tags": []
   },
   "outputs": [
    {
     "data": {
      "text/plain": [
       "{'coverage': 0.910723442202653, 'avg_size': 1.1453684093189165}"
      ]
     },
     "execution_count": 49,
     "metadata": {},
     "output_type": "execute_result"
    }
   ],
   "source": [
    "metrics"
   ]
  },
  {
   "cell_type": "code",
   "execution_count": 50,
   "id": "9b9a838d-31c9-430b-ae14-12baee460d17",
   "metadata": {
    "execution": {
     "iopub.execute_input": "2025-07-28T10:29:22.374360Z",
     "iopub.status.busy": "2025-07-28T10:29:22.373877Z",
     "iopub.status.idle": "2025-07-28T10:29:22.380398Z",
     "shell.execute_reply": "2025-07-28T10:29:22.379373Z"
    },
    "papermill": {
     "duration": 0.032366,
     "end_time": "2025-07-28T10:29:22.382467",
     "exception": false,
     "start_time": "2025-07-28T10:29:22.350101",
     "status": "completed"
    },
    "tags": []
   },
   "outputs": [],
   "source": [
    "example_universe = universe.copy()\n",
    "universe_training_size = example_universe.get(\"training_size\")\n",
    "universe_scale = example_universe.get(\"scale\")\n",
    "universe_model = example_universe.get(\"model\")\n",
    "universe_exclude_features = example_universe.get(\"exclude_features\")\n",
    "universe_exclude_subgroups = example_universe.get(\"exclude_subgroups\")"
   ]
  },
  {
   "cell_type": "code",
   "execution_count": 51,
   "id": "f4b6a8ac-9dc0-4245-8a91-5b3b5999c4f9",
   "metadata": {
    "execution": {
     "iopub.execute_input": "2025-07-28T10:29:22.430694Z",
     "iopub.status.busy": "2025-07-28T10:29:22.430225Z",
     "iopub.status.idle": "2025-07-28T10:29:22.437164Z",
     "shell.execute_reply": "2025-07-28T10:29:22.436208Z"
    },
    "papermill": {
     "duration": 0.032932,
     "end_time": "2025-07-28T10:29:22.438732",
     "exception": false,
     "start_time": "2025-07-28T10:29:22.405800",
     "status": "completed"
    },
    "tags": []
   },
   "outputs": [],
   "source": [
    "cp_metrics_dict = {\n",
    "    \"universe_id\": [universe_id],\n",
    "    \"universe_training_size\": [universe_training_size],\n",
    "    \"universe_scale\": [universe_scale],\n",
    "    \"universe_model\": [universe_model],\n",
    "    \"universe_exclude_features\": [universe_exclude_features],\n",
    "    \"universe_exclude_subgroups\": [universe_exclude_subgroups],\n",
    "    \"q_hat\": [q_hat],\n",
    "    \"coverage\": [metrics[\"coverage\"]],\n",
    "    \"avg_size\": [metrics[\"avg_size\"]],\n",
    "}"
   ]
  },
  {
   "cell_type": "code",
   "execution_count": 52,
   "id": "908acbb1-0371-4915-85ca-3fa520d2efe2",
   "metadata": {
    "execution": {
     "iopub.execute_input": "2025-07-28T10:29:22.487374Z",
     "iopub.status.busy": "2025-07-28T10:29:22.486677Z",
     "iopub.status.idle": "2025-07-28T10:29:22.494276Z",
     "shell.execute_reply": "2025-07-28T10:29:22.493336Z"
    },
    "papermill": {
     "duration": 0.033547,
     "end_time": "2025-07-28T10:29:22.495819",
     "exception": false,
     "start_time": "2025-07-28T10:29:22.462272",
     "status": "completed"
    },
    "tags": []
   },
   "outputs": [
    {
     "data": {
      "text/plain": [
       "{'universe_id': ['462e2cedb796945464776fecc2cab408'],\n",
       " 'universe_training_size': ['5k'],\n",
       " 'universe_scale': ['scale'],\n",
       " 'universe_model': ['penalized_logreg'],\n",
       " 'universe_exclude_features': ['nationality-sex'],\n",
       " 'universe_exclude_subgroups': ['keep-all'],\n",
       " 'q_hat': [0.6800537271214755],\n",
       " 'coverage': [0.910723442202653],\n",
       " 'avg_size': [1.1453684093189165]}"
      ]
     },
     "execution_count": 52,
     "metadata": {},
     "output_type": "execute_result"
    }
   ],
   "source": [
    "cp_metrics_dict"
   ]
  },
  {
   "cell_type": "code",
   "execution_count": 53,
   "id": "33007efc-14e9-4ec6-97ac-56a455c82265",
   "metadata": {
    "execution": {
     "iopub.execute_input": "2025-07-28T10:29:22.545612Z",
     "iopub.status.busy": "2025-07-28T10:29:22.545050Z",
     "iopub.status.idle": "2025-07-28T10:29:22.552435Z",
     "shell.execute_reply": "2025-07-28T10:29:22.551315Z"
    },
    "papermill": {
     "duration": 0.034266,
     "end_time": "2025-07-28T10:29:22.554090",
     "exception": false,
     "start_time": "2025-07-28T10:29:22.519824",
     "status": "completed"
    },
    "tags": []
   },
   "outputs": [],
   "source": [
    "cp_metrics_df = pd.DataFrame(cp_metrics_dict)"
   ]
  },
  {
   "cell_type": "code",
   "execution_count": 54,
   "id": "db12611b-57b2-4910-b9d0-355adfd6e7bf",
   "metadata": {
    "execution": {
     "iopub.execute_input": "2025-07-28T10:29:22.603781Z",
     "iopub.status.busy": "2025-07-28T10:29:22.603275Z",
     "iopub.status.idle": "2025-07-28T10:29:22.622049Z",
     "shell.execute_reply": "2025-07-28T10:29:22.621037Z"
    },
    "papermill": {
     "duration": 0.045419,
     "end_time": "2025-07-28T10:29:22.623910",
     "exception": false,
     "start_time": "2025-07-28T10:29:22.578491",
     "status": "completed"
    },
    "tags": []
   },
   "outputs": [
    {
     "data": {
      "text/html": [
       "<div>\n",
       "<style scoped>\n",
       "    .dataframe tbody tr th:only-of-type {\n",
       "        vertical-align: middle;\n",
       "    }\n",
       "\n",
       "    .dataframe tbody tr th {\n",
       "        vertical-align: top;\n",
       "    }\n",
       "\n",
       "    .dataframe thead th {\n",
       "        text-align: right;\n",
       "    }\n",
       "</style>\n",
       "<table border=\"1\" class=\"dataframe\">\n",
       "  <thead>\n",
       "    <tr style=\"text-align: right;\">\n",
       "      <th></th>\n",
       "      <th>universe_id</th>\n",
       "      <th>universe_training_size</th>\n",
       "      <th>universe_scale</th>\n",
       "      <th>universe_model</th>\n",
       "      <th>universe_exclude_features</th>\n",
       "      <th>universe_exclude_subgroups</th>\n",
       "      <th>q_hat</th>\n",
       "      <th>coverage</th>\n",
       "      <th>avg_size</th>\n",
       "    </tr>\n",
       "  </thead>\n",
       "  <tbody>\n",
       "    <tr>\n",
       "      <th>0</th>\n",
       "      <td>462e2cedb796945464776fecc2cab408</td>\n",
       "      <td>5k</td>\n",
       "      <td>scale</td>\n",
       "      <td>penalized_logreg</td>\n",
       "      <td>nationality-sex</td>\n",
       "      <td>keep-all</td>\n",
       "      <td>0.680054</td>\n",
       "      <td>0.910723</td>\n",
       "      <td>1.145368</td>\n",
       "    </tr>\n",
       "  </tbody>\n",
       "</table>\n",
       "</div>"
      ],
      "text/plain": [
       "                        universe_id universe_training_size universe_scale  \\\n",
       "0  462e2cedb796945464776fecc2cab408                     5k          scale   \n",
       "\n",
       "     universe_model universe_exclude_features universe_exclude_subgroups  \\\n",
       "0  penalized_logreg           nationality-sex                   keep-all   \n",
       "\n",
       "      q_hat  coverage  avg_size  \n",
       "0  0.680054  0.910723  1.145368  "
      ]
     },
     "execution_count": 54,
     "metadata": {},
     "output_type": "execute_result"
    }
   ],
   "source": [
    "cp_metrics_df"
   ]
  },
  {
   "cell_type": "code",
   "execution_count": 55,
   "id": "b7fbde55-a0a1-47e4-9af6-fe4a17fa8c61",
   "metadata": {
    "execution": {
     "iopub.execute_input": "2025-07-28T10:29:22.674560Z",
     "iopub.status.busy": "2025-07-28T10:29:22.673601Z",
     "iopub.status.idle": "2025-07-28T10:29:22.678868Z",
     "shell.execute_reply": "2025-07-28T10:29:22.677981Z"
    },
    "papermill": {
     "duration": 0.032166,
     "end_time": "2025-07-28T10:29:22.680550",
     "exception": false,
     "start_time": "2025-07-28T10:29:22.648384",
     "status": "completed"
    },
    "tags": []
   },
   "outputs": [],
   "source": [
    "# Conditional Coverage & looking at subgroups"
   ]
  },
  {
   "cell_type": "code",
   "execution_count": 56,
   "id": "027ae886-68dd-4141-96c7-805a5450e1ef",
   "metadata": {
    "execution": {
     "iopub.execute_input": "2025-07-28T10:29:22.730733Z",
     "iopub.status.busy": "2025-07-28T10:29:22.730043Z",
     "iopub.status.idle": "2025-07-28T10:29:23.003450Z",
     "shell.execute_reply": "2025-07-28T10:29:23.002487Z"
    },
    "papermill": {
     "duration": 0.300854,
     "end_time": "2025-07-28T10:29:23.005578",
     "exception": false,
     "start_time": "2025-07-28T10:29:22.704724",
     "status": "completed"
    },
    "tags": []
   },
   "outputs": [],
   "source": [
    "from fairness_multiverse.conformal import build_cp_groups\n",
    "\n",
    "cp_groups_df = build_cp_groups(pred_sets, y_true, X_test.index, org_test)\n",
    "#needs universe_id and setting"
   ]
  },
  {
   "cell_type": "code",
   "execution_count": 57,
   "id": "01d5802c-663a-4d1f-9d69-e036faaffbf7",
   "metadata": {
    "execution": {
     "iopub.execute_input": "2025-07-28T10:29:23.060767Z",
     "iopub.status.busy": "2025-07-28T10:29:23.060216Z",
     "iopub.status.idle": "2025-07-28T10:29:23.065296Z",
     "shell.execute_reply": "2025-07-28T10:29:23.064364Z"
    },
    "papermill": {
     "duration": 0.034466,
     "end_time": "2025-07-28T10:29:23.067072",
     "exception": false,
     "start_time": "2025-07-28T10:29:23.032606",
     "status": "completed"
    },
    "tags": []
   },
   "outputs": [],
   "source": [
    "#delete\n",
    "#cp_groups_df"
   ]
  },
  {
   "cell_type": "code",
   "execution_count": 58,
   "id": "fa424af1-d1eb-443d-b717-2d279ada8408",
   "metadata": {
    "execution": {
     "iopub.execute_input": "2025-07-28T10:29:23.123263Z",
     "iopub.status.busy": "2025-07-28T10:29:23.122589Z",
     "iopub.status.idle": "2025-07-28T10:29:23.127768Z",
     "shell.execute_reply": "2025-07-28T10:29:23.126835Z"
    },
    "papermill": {
     "duration": 0.035341,
     "end_time": "2025-07-28T10:29:23.129503",
     "exception": false,
     "start_time": "2025-07-28T10:29:23.094162",
     "status": "completed"
    },
    "tags": []
   },
   "outputs": [],
   "source": [
    "#delete\n",
    "#percentage = (cp_groups_df['nongerman_female'] == 1).mean() * 100\n",
    "#print(percentage)\n"
   ]
  },
  {
   "cell_type": "code",
   "execution_count": 59,
   "id": "6cbdab96-b2b2-45af-ad54-d0516db2e28d",
   "metadata": {
    "execution": {
     "iopub.execute_input": "2025-07-28T10:29:23.183003Z",
     "iopub.status.busy": "2025-07-28T10:29:23.182510Z",
     "iopub.status.idle": "2025-07-28T10:29:24.810137Z",
     "shell.execute_reply": "2025-07-28T10:29:24.808886Z"
    },
    "papermill": {
     "duration": 1.656857,
     "end_time": "2025-07-28T10:29:24.812281",
     "exception": false,
     "start_time": "2025-07-28T10:29:23.155424",
     "status": "completed"
    },
    "tags": []
   },
   "outputs": [],
   "source": [
    "# Define covered = 1 if true_label is in the predicted set\n",
    "cp_groups_df['covered'] = cp_groups_df.apply(\n",
    "    lambda r: int(r['true_label'] in r['pred_set']),\n",
    "    axis=1\n",
    ")"
   ]
  },
  {
   "cell_type": "code",
   "execution_count": 60,
   "id": "338ff529-1a6b-4b87-a931-8e4788d52aad",
   "metadata": {
    "execution": {
     "iopub.execute_input": "2025-07-28T10:29:24.869084Z",
     "iopub.status.busy": "2025-07-28T10:29:24.868563Z",
     "iopub.status.idle": "2025-07-28T10:29:24.883458Z",
     "shell.execute_reply": "2025-07-28T10:29:24.881901Z"
    },
    "papermill": {
     "duration": 0.044782,
     "end_time": "2025-07-28T10:29:24.886385",
     "exception": false,
     "start_time": "2025-07-28T10:29:24.841603",
     "status": "completed"
    },
    "tags": []
   },
   "outputs": [],
   "source": [
    "#cp_groups_df"
   ]
  },
  {
   "cell_type": "code",
   "execution_count": 61,
   "id": "90032e27-66df-4540-9169-4e89cfbaa758",
   "metadata": {
    "execution": {
     "iopub.execute_input": "2025-07-28T10:29:24.945183Z",
     "iopub.status.busy": "2025-07-28T10:29:24.944622Z",
     "iopub.status.idle": "2025-07-28T10:29:24.955191Z",
     "shell.execute_reply": "2025-07-28T10:29:24.954503Z"
    },
    "papermill": {
     "duration": 0.040242,
     "end_time": "2025-07-28T10:29:24.956440",
     "exception": false,
     "start_time": "2025-07-28T10:29:24.916198",
     "status": "completed"
    },
    "tags": []
   },
   "outputs": [],
   "source": [
    "subgroups = ['frau1','nongerman','nongerman_male','nongerman_female']\n",
    "\n",
    "# Conditional coverage for subgroup==1\n",
    "cond_coverage = {\n",
    "    g: cp_groups_df.loc[cp_groups_df[g]==1, 'covered'].mean()\n",
    "    for g in subgroups\n",
    "}"
   ]
  },
  {
   "cell_type": "code",
   "execution_count": 62,
   "id": "1e348fb1-b9c3-45bc-ba23-f016827a7e0d",
   "metadata": {
    "execution": {
     "iopub.execute_input": "2025-07-28T10:29:24.986234Z",
     "iopub.status.busy": "2025-07-28T10:29:24.985812Z",
     "iopub.status.idle": "2025-07-28T10:29:25.045711Z",
     "shell.execute_reply": "2025-07-28T10:29:25.044771Z"
    },
    "papermill": {
     "duration": 0.075835,
     "end_time": "2025-07-28T10:29:25.047179",
     "exception": false,
     "start_time": "2025-07-28T10:29:24.971344",
     "status": "completed"
    },
    "tags": []
   },
   "outputs": [
    {
     "data": {
      "text/plain": [
       "{'frau1': 0.9093139237093948,\n",
       " 'nongerman': 0.9111323190927973,\n",
       " 'nongerman_male': 0.9267765468792218,\n",
       " 'nongerman_female': 0.8852459016393442}"
      ]
     },
     "execution_count": 62,
     "metadata": {},
     "output_type": "execute_result"
    }
   ],
   "source": [
    "cond_coverage"
   ]
  },
  {
   "cell_type": "code",
   "execution_count": 63,
   "id": "f5093324-c3dd-4d63-bc4c-8d945e5c8bbb",
   "metadata": {
    "execution": {
     "iopub.execute_input": "2025-07-28T10:29:25.077241Z",
     "iopub.status.busy": "2025-07-28T10:29:25.076691Z",
     "iopub.status.idle": "2025-07-28T10:29:25.083908Z",
     "shell.execute_reply": "2025-07-28T10:29:25.082908Z"
    },
    "papermill": {
     "duration": 0.023427,
     "end_time": "2025-07-28T10:29:25.085316",
     "exception": false,
     "start_time": "2025-07-28T10:29:25.061889",
     "status": "completed"
    },
    "tags": []
   },
   "outputs": [],
   "source": [
    "for subgroup, cov in cond_coverage.items():\n",
    "    cp_metrics_df[f\"cov_{subgroup}\"] = cov"
   ]
  },
  {
   "cell_type": "code",
   "execution_count": 64,
   "id": "6e872e10-dbe5-49e8-b554-5030c98ff75d",
   "metadata": {
    "execution": {
     "iopub.execute_input": "2025-07-28T10:29:25.138646Z",
     "iopub.status.busy": "2025-07-28T10:29:25.138038Z",
     "iopub.status.idle": "2025-07-28T10:29:25.162705Z",
     "shell.execute_reply": "2025-07-28T10:29:25.161486Z"
    },
    "papermill": {
     "duration": 0.055578,
     "end_time": "2025-07-28T10:29:25.164903",
     "exception": false,
     "start_time": "2025-07-28T10:29:25.109325",
     "status": "completed"
    },
    "tags": []
   },
   "outputs": [
    {
     "data": {
      "text/html": [
       "<div>\n",
       "<style scoped>\n",
       "    .dataframe tbody tr th:only-of-type {\n",
       "        vertical-align: middle;\n",
       "    }\n",
       "\n",
       "    .dataframe tbody tr th {\n",
       "        vertical-align: top;\n",
       "    }\n",
       "\n",
       "    .dataframe thead th {\n",
       "        text-align: right;\n",
       "    }\n",
       "</style>\n",
       "<table border=\"1\" class=\"dataframe\">\n",
       "  <thead>\n",
       "    <tr style=\"text-align: right;\">\n",
       "      <th></th>\n",
       "      <th>universe_id</th>\n",
       "      <th>universe_training_size</th>\n",
       "      <th>universe_scale</th>\n",
       "      <th>universe_model</th>\n",
       "      <th>universe_exclude_features</th>\n",
       "      <th>universe_exclude_subgroups</th>\n",
       "      <th>q_hat</th>\n",
       "      <th>coverage</th>\n",
       "      <th>avg_size</th>\n",
       "      <th>cov_frau1</th>\n",
       "      <th>cov_nongerman</th>\n",
       "      <th>cov_nongerman_male</th>\n",
       "      <th>cov_nongerman_female</th>\n",
       "    </tr>\n",
       "  </thead>\n",
       "  <tbody>\n",
       "    <tr>\n",
       "      <th>0</th>\n",
       "      <td>462e2cedb796945464776fecc2cab408</td>\n",
       "      <td>5k</td>\n",
       "      <td>scale</td>\n",
       "      <td>penalized_logreg</td>\n",
       "      <td>nationality-sex</td>\n",
       "      <td>keep-all</td>\n",
       "      <td>0.680054</td>\n",
       "      <td>0.910723</td>\n",
       "      <td>1.145368</td>\n",
       "      <td>0.909314</td>\n",
       "      <td>0.911132</td>\n",
       "      <td>0.926777</td>\n",
       "      <td>0.885246</td>\n",
       "    </tr>\n",
       "  </tbody>\n",
       "</table>\n",
       "</div>"
      ],
      "text/plain": [
       "                        universe_id universe_training_size universe_scale  \\\n",
       "0  462e2cedb796945464776fecc2cab408                     5k          scale   \n",
       "\n",
       "     universe_model universe_exclude_features universe_exclude_subgroups  \\\n",
       "0  penalized_logreg           nationality-sex                   keep-all   \n",
       "\n",
       "      q_hat  coverage  avg_size  cov_frau1  cov_nongerman  cov_nongerman_male  \\\n",
       "0  0.680054  0.910723  1.145368   0.909314       0.911132            0.926777   \n",
       "\n",
       "   cov_nongerman_female  \n",
       "0              0.885246  "
      ]
     },
     "execution_count": 64,
     "metadata": {},
     "output_type": "execute_result"
    }
   ],
   "source": [
    "cp_metrics_df"
   ]
  },
  {
   "cell_type": "markdown",
   "id": "33774451",
   "metadata": {
    "papermill": {
     "duration": 0.026499,
     "end_time": "2025-07-28T10:29:25.218585",
     "exception": false,
     "start_time": "2025-07-28T10:29:25.192086",
     "status": "completed"
    },
    "tags": []
   },
   "source": [
    "# (Fairness) Metrics"
   ]
  },
  {
   "cell_type": "code",
   "execution_count": 65,
   "id": "debc5d62",
   "metadata": {
    "execution": {
     "iopub.execute_input": "2025-07-28T10:29:25.274773Z",
     "iopub.status.busy": "2025-07-28T10:29:25.273680Z",
     "iopub.status.idle": "2025-07-28T10:29:25.297248Z",
     "shell.execute_reply": "2025-07-28T10:29:25.295871Z"
    },
    "papermill": {
     "duration": 0.05511,
     "end_time": "2025-07-28T10:29:25.300248",
     "exception": false,
     "start_time": "2025-07-28T10:29:25.245138",
     "status": "completed"
    },
    "tags": []
   },
   "outputs": [],
   "source": [
    "# do I need to include maxdeutsch1.missing?\n",
    "\n",
    "import numpy as np\n",
    "\n",
    "colname_to_bin = \"maxdeutsch1\"\n",
    "majority_value = org_train[colname_to_bin].mode()[0]\n",
    "\n",
    "org_test[\"majmin\"] = np.where(org_test[colname_to_bin] == majority_value, \"majority\", \"minority\")"
   ]
  },
  {
   "cell_type": "code",
   "execution_count": 66,
   "id": "06a50de5",
   "metadata": {
    "execution": {
     "iopub.execute_input": "2025-07-28T10:29:25.382801Z",
     "iopub.status.busy": "2025-07-28T10:29:25.382378Z",
     "iopub.status.idle": "2025-07-28T10:29:28.121350Z",
     "shell.execute_reply": "2025-07-28T10:29:28.120362Z"
    },
    "papermill": {
     "duration": 2.783028,
     "end_time": "2025-07-28T10:29:28.123432",
     "exception": false,
     "start_time": "2025-07-28T10:29:25.340404",
     "status": "completed"
    },
    "tags": []
   },
   "outputs": [],
   "source": [
    "example_universe = universe.copy()\n",
    "example_universe[\"cutoff\"] = example_universe[\"cutoff\"][0]\n",
    "example_universe[\"eval_fairness_grouping\"] = example_universe[\"eval_fairness_grouping\"][0]\n",
    "fairness_dict, metric_frame = universe_analysis.compute_metrics(\n",
    "    example_universe,\n",
    "    y_pred_prob=probs_test,\n",
    "    y_test=y_true,\n",
    "    org_test=org_test,\n",
    ")"
   ]
  },
  {
   "cell_type": "markdown",
   "id": "f95d4e02",
   "metadata": {
    "papermill": {
     "duration": 0.028405,
     "end_time": "2025-07-28T10:29:28.181624",
     "exception": false,
     "start_time": "2025-07-28T10:29:28.153219",
     "status": "completed"
    },
    "tags": []
   },
   "source": [
    "# Overall"
   ]
  },
  {
   "cell_type": "markdown",
   "id": "bdee4871",
   "metadata": {
    "papermill": {
     "duration": 0.028641,
     "end_time": "2025-07-28T10:29:28.239048",
     "exception": false,
     "start_time": "2025-07-28T10:29:28.210407",
     "status": "completed"
    },
    "tags": []
   },
   "source": [
    "Fairness\n",
    "Main fairness target: Equalized Odds. Seems to be a better fit than equal opportunity, since we're not only interested in Y = 1. Seems to be a better fit than demographic parity, since we also care about accuracy, not just equal distribution of preds.\n",
    "\n",
    "Pick column for computation of fairness metrics\n",
    "\n",
    "Performance\n",
    "Overall performance measures, most interesting in relation to the measures split by group below"
   ]
  },
  {
   "cell_type": "code",
   "execution_count": 67,
   "id": "c4e067c6",
   "metadata": {
    "execution": {
     "iopub.execute_input": "2025-07-28T10:29:28.291157Z",
     "iopub.status.busy": "2025-07-28T10:29:28.290142Z",
     "iopub.status.idle": "2025-07-28T10:29:28.299402Z",
     "shell.execute_reply": "2025-07-28T10:29:28.298430Z"
    },
    "papermill": {
     "duration": 0.036776,
     "end_time": "2025-07-28T10:29:28.300939",
     "exception": false,
     "start_time": "2025-07-28T10:29:28.264163",
     "status": "completed"
    },
    "tags": []
   },
   "outputs": [
    {
     "data": {
      "text/plain": [
       "accuracy                   0.223375\n",
       "balanced accuracy          0.546393\n",
       "f1                         0.244734\n",
       "precision                  0.139809\n",
       "false positive rate        0.888097\n",
       "false negative rate        0.019117\n",
       "selection rate             0.900000\n",
       "count                  89710.000000\n",
       "dtype: float64"
      ]
     },
     "execution_count": 67,
     "metadata": {},
     "output_type": "execute_result"
    }
   ],
   "source": [
    "metric_frame.overall"
   ]
  },
  {
   "cell_type": "markdown",
   "id": "e968fe9d",
   "metadata": {
    "papermill": {
     "duration": 0.014601,
     "end_time": "2025-07-28T10:29:28.339184",
     "exception": false,
     "start_time": "2025-07-28T10:29:28.324583",
     "status": "completed"
    },
    "tags": []
   },
   "source": [
    "By Group"
   ]
  },
  {
   "cell_type": "code",
   "execution_count": 68,
   "id": "ec325bce",
   "metadata": {
    "execution": {
     "iopub.execute_input": "2025-07-28T10:29:28.370446Z",
     "iopub.status.busy": "2025-07-28T10:29:28.369935Z",
     "iopub.status.idle": "2025-07-28T10:29:28.384894Z",
     "shell.execute_reply": "2025-07-28T10:29:28.383827Z"
    },
    "papermill": {
     "duration": 0.03331,
     "end_time": "2025-07-28T10:29:28.386441",
     "exception": false,
     "start_time": "2025-07-28T10:29:28.353131",
     "status": "completed"
    },
    "tags": []
   },
   "outputs": [
    {
     "data": {
      "text/html": [
       "<div>\n",
       "<style scoped>\n",
       "    .dataframe tbody tr th:only-of-type {\n",
       "        vertical-align: middle;\n",
       "    }\n",
       "\n",
       "    .dataframe tbody tr th {\n",
       "        vertical-align: top;\n",
       "    }\n",
       "\n",
       "    .dataframe thead th {\n",
       "        text-align: right;\n",
       "    }\n",
       "</style>\n",
       "<table border=\"1\" class=\"dataframe\">\n",
       "  <thead>\n",
       "    <tr style=\"text-align: right;\">\n",
       "      <th></th>\n",
       "      <th>accuracy</th>\n",
       "      <th>balanced accuracy</th>\n",
       "      <th>f1</th>\n",
       "      <th>precision</th>\n",
       "      <th>false positive rate</th>\n",
       "      <th>false negative rate</th>\n",
       "      <th>selection rate</th>\n",
       "      <th>count</th>\n",
       "    </tr>\n",
       "    <tr>\n",
       "      <th>majmin</th>\n",
       "      <th></th>\n",
       "      <th></th>\n",
       "      <th></th>\n",
       "      <th></th>\n",
       "      <th></th>\n",
       "      <th></th>\n",
       "      <th></th>\n",
       "      <th></th>\n",
       "    </tr>\n",
       "  </thead>\n",
       "  <tbody>\n",
       "    <tr>\n",
       "      <th>majority</th>\n",
       "      <td>0.244514</td>\n",
       "      <td>0.556070</td>\n",
       "      <td>0.255206</td>\n",
       "      <td>0.146715</td>\n",
       "      <td>0.867400</td>\n",
       "      <td>0.020460</td>\n",
       "      <td>0.882218</td>\n",
       "      <td>69170.0</td>\n",
       "    </tr>\n",
       "    <tr>\n",
       "      <th>minority</th>\n",
       "      <td>0.152191</td>\n",
       "      <td>0.514796</td>\n",
       "      <td>0.211465</td>\n",
       "      <td>0.118432</td>\n",
       "      <td>0.956471</td>\n",
       "      <td>0.013936</td>\n",
       "      <td>0.959883</td>\n",
       "      <td>20540.0</td>\n",
       "    </tr>\n",
       "  </tbody>\n",
       "</table>\n",
       "</div>"
      ],
      "text/plain": [
       "          accuracy  balanced accuracy        f1  precision  \\\n",
       "majmin                                                       \n",
       "majority  0.244514           0.556070  0.255206   0.146715   \n",
       "minority  0.152191           0.514796  0.211465   0.118432   \n",
       "\n",
       "          false positive rate  false negative rate  selection rate    count  \n",
       "majmin                                                                       \n",
       "majority             0.867400             0.020460        0.882218  69170.0  \n",
       "minority             0.956471             0.013936        0.959883  20540.0  "
      ]
     },
     "execution_count": 68,
     "metadata": {},
     "output_type": "execute_result"
    }
   ],
   "source": [
    "metric_frame.by_group"
   ]
  },
  {
   "cell_type": "code",
   "execution_count": 69,
   "id": "a9ddbe63",
   "metadata": {
    "execution": {
     "iopub.execute_input": "2025-07-28T10:29:28.428976Z",
     "iopub.status.busy": "2025-07-28T10:29:28.428482Z",
     "iopub.status.idle": "2025-07-28T10:29:30.464338Z",
     "shell.execute_reply": "2025-07-28T10:29:30.463018Z"
    },
    "papermill": {
     "duration": 2.064352,
     "end_time": "2025-07-28T10:29:30.466288",
     "exception": false,
     "start_time": "2025-07-28T10:29:28.401936",
     "status": "completed"
    },
    "tags": []
   },
   "outputs": [
    {
     "data": {
      "text/plain": [
       "array([[<Axes: title={'center': 'accuracy'}, xlabel='majmin'>,\n",
       "        <Axes: title={'center': 'balanced accuracy'}, xlabel='majmin'>,\n",
       "        <Axes: title={'center': 'f1'}, xlabel='majmin'>],\n",
       "       [<Axes: title={'center': 'precision'}, xlabel='majmin'>,\n",
       "        <Axes: title={'center': 'false positive rate'}, xlabel='majmin'>,\n",
       "        <Axes: title={'center': 'false negative rate'}, xlabel='majmin'>],\n",
       "       [<Axes: title={'center': 'selection rate'}, xlabel='majmin'>,\n",
       "        <Axes: title={'center': 'count'}, xlabel='majmin'>,\n",
       "        <Axes: xlabel='majmin'>]], dtype=object)"
      ]
     },
     "execution_count": 69,
     "metadata": {},
     "output_type": "execute_result"
    },
    {
     "data": {
      "image/png": "[encoded data removed]",
      "text/plain": [
       "<Figure size 1200x800 with 9 Axes>"
      ]
     },
     "metadata": {},
     "output_type": "display_data"
    }
   ],
   "source": [
    "# In a graphic\n",
    "metric_frame.by_group.plot.bar(\n",
    "    subplots=True,\n",
    "    layout=[3, 3],\n",
    "    legend=False,\n",
    "    figsize=[12, 8],\n",
    "    title=\"Show all metrics\",\n",
    ")"
   ]
  },
  {
   "cell_type": "markdown",
   "id": "f57a0bac",
   "metadata": {
    "papermill": {
     "duration": 0.027539,
     "end_time": "2025-07-28T10:29:30.567317",
     "exception": false,
     "start_time": "2025-07-28T10:29:30.539778",
     "status": "completed"
    },
    "tags": []
   },
   "source": [
    "# Final Output"
   ]
  },
  {
   "cell_type": "code",
   "execution_count": 70,
   "id": "96d280a3",
   "metadata": {
    "execution": {
     "iopub.execute_input": "2025-07-28T10:29:30.622271Z",
     "iopub.status.busy": "2025-07-28T10:29:30.621499Z",
     "iopub.status.idle": "2025-07-28T10:29:30.630602Z",
     "shell.execute_reply": "2025-07-28T10:29:30.629667Z"
    },
    "papermill": {
     "duration": 0.038468,
     "end_time": "2025-07-28T10:29:30.632226",
     "exception": false,
     "start_time": "2025-07-28T10:29:30.593758",
     "status": "completed"
    },
    "tags": []
   },
   "outputs": [
    {
     "data": {
      "text/plain": [
       "4"
      ]
     },
     "execution_count": 70,
     "metadata": {},
     "output_type": "execute_result"
    }
   ],
   "source": [
    "sub_universes = universe_analysis.generate_sub_universes()\n",
    "len(sub_universes)"
   ]
  },
  {
   "cell_type": "code",
   "execution_count": 71,
   "id": "92adf7ba",
   "metadata": {
    "execution": {
     "iopub.execute_input": "2025-07-28T10:29:30.687781Z",
     "iopub.status.busy": "2025-07-28T10:29:30.687051Z",
     "iopub.status.idle": "2025-07-28T10:29:30.693622Z",
     "shell.execute_reply": "2025-07-28T10:29:30.692734Z"
    },
    "papermill": {
     "duration": 0.036368,
     "end_time": "2025-07-28T10:29:30.695199",
     "exception": false,
     "start_time": "2025-07-28T10:29:30.658831",
     "status": "completed"
    },
    "tags": []
   },
   "outputs": [],
   "source": [
    "def filter_sub_universe_data(sub_universe, org_test):\n",
    "    # Keep all rows — no filtering\n",
    "    keep_rows_mask = np.ones(org_test.shape[0], dtype=bool)\n",
    "\n",
    "    print(f\"[INFO] Keeping all rows: {keep_rows_mask.sum()} rows retained.\")\n",
    "    return keep_rows_mask"
   ]
  },
  {
   "cell_type": "code",
   "execution_count": 72,
   "id": "4a759155",
   "metadata": {
    "execution": {
     "iopub.execute_input": "2025-07-28T10:29:30.752102Z",
     "iopub.status.busy": "2025-07-28T10:29:30.751207Z",
     "iopub.status.idle": "2025-07-28T10:29:38.818383Z",
     "shell.execute_reply": "2025-07-28T10:29:38.817240Z"
    },
    "papermill": {
     "duration": 8.097534,
     "end_time": "2025-07-28T10:29:38.820120",
     "exception": false,
     "start_time": "2025-07-28T10:29:30.722586",
     "status": "completed"
    },
    "tags": []
   },
   "outputs": [
    {
     "name": "stdout",
     "output_type": "stream",
     "text": [
      "Stopping execution_time clock.\n",
      "[INFO] Keeping all rows: 89710 rows retained.\n"
     ]
    },
    {
     "name": "stdout",
     "output_type": "stream",
     "text": [
      "[INFO] Keeping all rows: 89710 rows retained.\n"
     ]
    },
    {
     "name": "stdout",
     "output_type": "stream",
     "text": [
      "[INFO] Keeping all rows: 89710 rows retained.\n"
     ]
    },
    {
     "name": "stdout",
     "output_type": "stream",
     "text": [
      "[INFO] Keeping all rows: 89710 rows retained.\n"
     ]
    },
    {
     "data": {
      "text/html": [
       "<div>\n",
       "<style scoped>\n",
       "    .dataframe tbody tr th:only-of-type {\n",
       "        vertical-align: middle;\n",
       "    }\n",
       "\n",
       "    .dataframe tbody tr th {\n",
       "        vertical-align: top;\n",
       "    }\n",
       "\n",
       "    .dataframe thead th {\n",
       "        text-align: right;\n",
       "    }\n",
       "</style>\n",
       "<table border=\"1\" class=\"dataframe\">\n",
       "  <thead>\n",
       "    <tr style=\"text-align: right;\">\n",
       "      <th></th>\n",
       "      <th>run_no</th>\n",
       "      <th>universe_id</th>\n",
       "      <th>universe_settings</th>\n",
       "      <th>execution_time</th>\n",
       "      <th>test_size_n</th>\n",
       "      <th>test_size_frac</th>\n",
       "      <th>fair_main_equalized_odds_difference</th>\n",
       "      <th>fair_main_equalized_odds_ratio</th>\n",
       "      <th>fair_main_demographic_parity_difference</th>\n",
       "      <th>fair_main_demographic_parity_ratio</th>\n",
       "      <th>...</th>\n",
       "      <th>perf_grp_precision_0</th>\n",
       "      <th>perf_grp_precision_1</th>\n",
       "      <th>perf_grp_false positive rate_0</th>\n",
       "      <th>perf_grp_false positive rate_1</th>\n",
       "      <th>perf_grp_false negative rate_0</th>\n",
       "      <th>perf_grp_false negative rate_1</th>\n",
       "      <th>perf_grp_selection rate_0</th>\n",
       "      <th>perf_grp_selection rate_1</th>\n",
       "      <th>perf_grp_count_0</th>\n",
       "      <th>perf_grp_count_1</th>\n",
       "    </tr>\n",
       "  </thead>\n",
       "  <tbody>\n",
       "    <tr>\n",
       "      <th>0</th>\n",
       "      <td>11</td>\n",
       "      <td>462e2cedb796945464776fecc2cab408</td>\n",
       "      <td>{\"cutoff\": \"quantile_0.1\", \"eval_fairness_grou...</td>\n",
       "      <td>27.490056</td>\n",
       "      <td>89710</td>\n",
       "      <td>1.0</td>\n",
       "      <td>0.089072</td>\n",
       "      <td>0.906875</td>\n",
       "      <td>0.077665</td>\n",
       "      <td>0.919089</td>\n",
       "      <td>...</td>\n",
       "      <td>NaN</td>\n",
       "      <td>NaN</td>\n",
       "      <td>NaN</td>\n",
       "      <td>NaN</td>\n",
       "      <td>NaN</td>\n",
       "      <td>NaN</td>\n",
       "      <td>NaN</td>\n",
       "      <td>NaN</td>\n",
       "      <td>NaN</td>\n",
       "      <td>NaN</td>\n",
       "    </tr>\n",
       "    <tr>\n",
       "      <th>0</th>\n",
       "      <td>11</td>\n",
       "      <td>462e2cedb796945464776fecc2cab408</td>\n",
       "      <td>{\"cutoff\": \"quantile_0.1\", \"eval_fairness_grou...</td>\n",
       "      <td>27.490056</td>\n",
       "      <td>89710</td>\n",
       "      <td>1.0</td>\n",
       "      <td>0.089072</td>\n",
       "      <td>0.906875</td>\n",
       "      <td>0.077665</td>\n",
       "      <td>0.919089</td>\n",
       "      <td>...</td>\n",
       "      <td>0.118432</td>\n",
       "      <td>0.146715</td>\n",
       "      <td>0.956471</td>\n",
       "      <td>0.867400</td>\n",
       "      <td>0.013936</td>\n",
       "      <td>0.020460</td>\n",
       "      <td>0.959883</td>\n",
       "      <td>0.882218</td>\n",
       "      <td>20540.0</td>\n",
       "      <td>69170.0</td>\n",
       "    </tr>\n",
       "    <tr>\n",
       "      <th>0</th>\n",
       "      <td>11</td>\n",
       "      <td>462e2cedb796945464776fecc2cab408</td>\n",
       "      <td>{\"cutoff\": \"quantile_0.25\", \"eval_fairness_gro...</td>\n",
       "      <td>27.490056</td>\n",
       "      <td>89710</td>\n",
       "      <td>1.0</td>\n",
       "      <td>0.170906</td>\n",
       "      <td>0.799941</td>\n",
       "      <td>0.149592</td>\n",
       "      <td>0.827128</td>\n",
       "      <td>...</td>\n",
       "      <td>NaN</td>\n",
       "      <td>NaN</td>\n",
       "      <td>NaN</td>\n",
       "      <td>NaN</td>\n",
       "      <td>NaN</td>\n",
       "      <td>NaN</td>\n",
       "      <td>NaN</td>\n",
       "      <td>NaN</td>\n",
       "      <td>NaN</td>\n",
       "      <td>NaN</td>\n",
       "    </tr>\n",
       "    <tr>\n",
       "      <th>0</th>\n",
       "      <td>11</td>\n",
       "      <td>462e2cedb796945464776fecc2cab408</td>\n",
       "      <td>{\"cutoff\": \"quantile_0.25\", \"eval_fairness_gro...</td>\n",
       "      <td>27.490056</td>\n",
       "      <td>89710</td>\n",
       "      <td>1.0</td>\n",
       "      <td>0.170906</td>\n",
       "      <td>0.799941</td>\n",
       "      <td>0.149592</td>\n",
       "      <td>0.827128</td>\n",
       "      <td>...</td>\n",
       "      <td>0.126589</td>\n",
       "      <td>0.171386</td>\n",
       "      <td>0.854281</td>\n",
       "      <td>0.683375</td>\n",
       "      <td>0.049831</td>\n",
       "      <td>0.071663</td>\n",
       "      <td>0.865336</td>\n",
       "      <td>0.715744</td>\n",
       "      <td>20540.0</td>\n",
       "      <td>69170.0</td>\n",
       "    </tr>\n",
       "  </tbody>\n",
       "</table>\n",
       "<p>4 rows × 50 columns</p>\n",
       "</div>"
      ],
      "text/plain": [
       "  run_no                       universe_id  \\\n",
       "0     11  462e2cedb796945464776fecc2cab408   \n",
       "0     11  462e2cedb796945464776fecc2cab408   \n",
       "0     11  462e2cedb796945464776fecc2cab408   \n",
       "0     11  462e2cedb796945464776fecc2cab408   \n",
       "\n",
       "                                   universe_settings  execution_time  \\\n",
       "0  {\"cutoff\": \"quantile_0.1\", \"eval_fairness_grou...       27.490056   \n",
       "0  {\"cutoff\": \"quantile_0.1\", \"eval_fairness_grou...       27.490056   \n",
       "0  {\"cutoff\": \"quantile_0.25\", \"eval_fairness_gro...       27.490056   \n",
       "0  {\"cutoff\": \"quantile_0.25\", \"eval_fairness_gro...       27.490056   \n",
       "\n",
       "   test_size_n  test_size_frac  fair_main_equalized_odds_difference  \\\n",
       "0        89710             1.0                             0.089072   \n",
       "0        89710             1.0                             0.089072   \n",
       "0        89710             1.0                             0.170906   \n",
       "0        89710             1.0                             0.170906   \n",
       "\n",
       "   fair_main_equalized_odds_ratio  fair_main_demographic_parity_difference  \\\n",
       "0                        0.906875                                 0.077665   \n",
       "0                        0.906875                                 0.077665   \n",
       "0                        0.799941                                 0.149592   \n",
       "0                        0.799941                                 0.149592   \n",
       "\n",
       "   fair_main_demographic_parity_ratio  ...  perf_grp_precision_0  \\\n",
       "0                            0.919089  ...                   NaN   \n",
       "0                            0.919089  ...              0.118432   \n",
       "0                            0.827128  ...                   NaN   \n",
       "0                            0.827128  ...              0.126589   \n",
       "\n",
       "   perf_grp_precision_1  perf_grp_false positive rate_0  \\\n",
       "0                   NaN                             NaN   \n",
       "0              0.146715                        0.956471   \n",
       "0                   NaN                             NaN   \n",
       "0              0.171386                        0.854281   \n",
       "\n",
       "   perf_grp_false positive rate_1  perf_grp_false negative rate_0  \\\n",
       "0                             NaN                             NaN   \n",
       "0                        0.867400                        0.013936   \n",
       "0                             NaN                             NaN   \n",
       "0                        0.683375                        0.049831   \n",
       "\n",
       "   perf_grp_false negative rate_1  perf_grp_selection rate_0  \\\n",
       "0                             NaN                        NaN   \n",
       "0                        0.020460                   0.959883   \n",
       "0                             NaN                        NaN   \n",
       "0                        0.071663                   0.865336   \n",
       "\n",
       "   perf_grp_selection rate_1  perf_grp_count_0  perf_grp_count_1  \n",
       "0                        NaN               NaN               NaN  \n",
       "0                   0.882218           20540.0           69170.0  \n",
       "0                        NaN               NaN               NaN  \n",
       "0                   0.715744           20540.0           69170.0  \n",
       "\n",
       "[4 rows x 50 columns]"
      ]
     },
     "execution_count": 72,
     "metadata": {},
     "output_type": "execute_result"
    }
   ],
   "source": [
    "final_output = universe_analysis.generate_final_output(\n",
    "    y_pred_prob=probs_test,\n",
    "    y_test=y_true,\n",
    "    org_test=org_test,\n",
    "    filter_data=filter_sub_universe_data,\n",
    "    cp_metrics_df=cp_metrics_df,\n",
    "    save=True,\n",
    ")\n",
    "final_output"
   ]
  },
  {
   "cell_type": "code",
   "execution_count": null,
   "id": "721ff514-cb11-46f8-b6fc-50392f74b5cb",
   "metadata": {
    "papermill": {
     "duration": 0.022865,
     "end_time": "2025-07-28T10:29:38.873261",
     "exception": false,
     "start_time": "2025-07-28T10:29:38.850396",
     "status": "completed"
    },
    "tags": []
   },
   "outputs": [],
   "source": []
  }
 ],
 "metadata": {
  "celltoolbar": "Tags",
  "kernelspec": {
   "display_name": "Python (CMA Fairness)",
   "language": "python",
   "name": "cma_fair_env"
  },
  "language_info": {
   "codemirror_mode": {
    "name": "ipython",
    "version": 3
   },
   "file_extension": ".py",
   "mimetype": "text/x-python",
   "name": "python",
   "nbconvert_exporter": "python",
   "pygments_lexer": "ipython3",
   "version": "3.10.12"
  },
  "papermill": {
   "default_parameters": {},
   "duration": 39.80843,
   "end_time": "2025-07-28T10:29:39.714182",
   "environment_variables": {},
   "exception": null,
   "input_path": "universe_analysis.ipynb",
   "output_path": "output/runs/11/notebooks/m_11-462e2cedb796945464776fecc2cab408.ipynb",
   "parameters": {
    "output_dir": "output",
    "run_no": "11",
    "seed": "2023",
    "universe": "{\"cutoff\": [\"quantile_0.1\", \"quantile_0.25\"], \"eval_fairness_grouping\": [\"majority-minority\", \"nationality-all\"], \"exclude_features\": \"nationality-sex\", \"exclude_subgroups\": \"keep-all\", \"model\": \"penalized_logreg\", \"scale\": \"scale\", \"training_size\": \"5k\"}",
    "universe_id": "462e2cedb796945464776fecc2cab408"
   },
   "start_time": "2025-07-28T10:28:59.905752",
   "version": "2.6.0"
  }
 },
 "nbformat": 4,
 "nbformat_minor": 5
}