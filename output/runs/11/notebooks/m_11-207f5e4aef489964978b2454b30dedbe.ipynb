{
 "cells": [
  {
   "cell_type": "code",
   "execution_count": 1,
   "id": "f159f837-637b-42ba-96b5-ec9a68c44524",
   "metadata": {
    "execution": {
     "iopub.execute_input": "2025-07-28T11:10:23.137308Z",
     "iopub.status.busy": "2025-07-28T11:10:23.136526Z",
     "iopub.status.idle": "2025-07-28T11:10:23.151620Z",
     "shell.execute_reply": "2025-07-28T11:10:23.150469Z"
    },
    "papermill": {
     "duration": 0.039111,
     "end_time": "2025-07-28T11:10:23.153522",
     "exception": false,
     "start_time": "2025-07-28T11:10:23.114411",
     "status": "completed"
    },
    "tags": []
   },
   "outputs": [
    {
     "name": "stdout",
     "output_type": "stream",
     "text": [
      "/dss/dsshome1/0C/ra93lal2/cma/CMA_Fairness_v2\n"
     ]
    },
    {
     "name": "stderr",
     "output_type": "stream",
     "text": [
      "/dss/dsshome1/0C/ra93lal2/.local/share/virtualenvs/CMA_Fairness_v2-3j10GkSs/lib/python3.10/site-packages/IPython/core/magics/osm.py:393: UserWarning: This is now an optional IPython functionality, using bookmarks requires you to install the `pickleshare` library.\n",
      "  bkms = self.shell.db.get('bookmarks', {})\n",
      "/dss/dsshome1/0C/ra93lal2/.local/share/virtualenvs/CMA_Fairness_v2-3j10GkSs/lib/python3.10/site-packages/IPython/core/magics/osm.py:417: UserWarning: This is now an optional IPython functionality, setting dhist requires you to install the `pickleshare` library.\n",
      "  self.shell.db['dhist'] = compress_dhist(dhist)[-100:]\n"
     ]
    }
   ],
   "source": [
    "%cd ~/cma/CMA_Fairness_v2"
   ]
  },
  {
   "cell_type": "markdown",
   "id": "de2603b9",
   "metadata": {
    "papermill": {
     "duration": 0.019849,
     "end_time": "2025-07-28T11:10:23.194130",
     "exception": false,
     "start_time": "2025-07-28T11:10:23.174281",
     "status": "completed"
    },
    "tags": []
   },
   "source": [
    "The following cell holds the definition of our parameters, these values can be overriden by rendering the with e.g. the following command:\n",
    "\n",
    "papermill -p alpha 0.2 -p ratio 0.3 universe_analysis.ipynb output/test_run.ipynb"
   ]
  },
  {
   "cell_type": "code",
   "execution_count": 2,
   "id": "a80968a0-40bb-4fa9-85ef-2d5eefb01975",
   "metadata": {
    "execution": {
     "iopub.execute_input": "2025-07-28T11:10:23.235784Z",
     "iopub.status.busy": "2025-07-28T11:10:23.235084Z",
     "iopub.status.idle": "2025-07-28T11:10:23.241373Z",
     "shell.execute_reply": "2025-07-28T11:10:23.240295Z"
    },
    "papermill": {
     "duration": 0.029488,
     "end_time": "2025-07-28T11:10:23.243034",
     "exception": false,
     "start_time": "2025-07-28T11:10:23.213546",
     "status": "completed"
    },
    "tags": []
   },
   "outputs": [
    {
     "name": "stdout",
     "output_type": "stream",
     "text": [
      "Current working directory: /dss/dsshome1/0C/ra93lal2/cma/CMA_Fairness_v2\n"
     ]
    }
   ],
   "source": [
    "import os\n",
    "print(\"Current working directory:\", os.getcwd())"
   ]
  },
  {
   "cell_type": "code",
   "execution_count": 3,
   "id": "2dce4c03",
   "metadata": {
    "execution": {
     "iopub.execute_input": "2025-07-28T11:10:23.285402Z",
     "iopub.status.busy": "2025-07-28T11:10:23.284638Z",
     "iopub.status.idle": "2025-07-28T11:10:23.292393Z",
     "shell.execute_reply": "2025-07-28T11:10:23.291360Z"
    },
    "papermill": {
     "duration": 0.03083,
     "end_time": "2025-07-28T11:10:23.294055",
     "exception": false,
     "start_time": "2025-07-28T11:10:23.263225",
     "status": "completed"
    },
    "tags": [
     "parameters"
    ]
   },
   "outputs": [],
   "source": [
    "run_no = 0\n",
    "universe_id = \"test\"\n",
    "universe = {\n",
    "    \"training_size\": \"2014\", # \"25k\", \"5k\", \"1k\", \"2014\"\n",
    "    \"scale\": \"scale\", # \"scale\", \"do-not-scale\",\n",
    "    #\"stratify_split\": \"target\", # \"none\", \"target\", \"protected-attribute\", \"both\",\n",
    "    \"model\": \"elasticnet\", # \"logreg\", \"penalized_logreg\", \"rf\", \"gbm\", \"elasticnet\"\n",
    "    \"cutoff\": [\"quantile_0.15\", \"quantile_0.30\"],\n",
    "    \"exclude_features\": \"age\", # \"none\", \"nationality\", \"sex\", \"nationality-sex\", \"age\"\n",
    "    \"exclude_subgroups\": \"keep-all\", # \"keep-all\", \"drop-non-german\"\n",
    "    \"eval_fairness_grouping\": [\"majority-minority\", \"nationality-all\"]\n",
    "}\n",
    "\n",
    "output_dir=\"./output\"\n",
    "seed=0"
   ]
  },
  {
   "cell_type": "code",
   "execution_count": 4,
   "id": "491a2e63",
   "metadata": {
    "execution": {
     "iopub.execute_input": "2025-07-28T11:10:23.335943Z",
     "iopub.status.busy": "2025-07-28T11:10:23.335335Z",
     "iopub.status.idle": "2025-07-28T11:10:23.341368Z",
     "shell.execute_reply": "2025-07-28T11:10:23.340403Z"
    },
    "papermill": {
     "duration": 0.029104,
     "end_time": "2025-07-28T11:10:23.343215",
     "exception": false,
     "start_time": "2025-07-28T11:10:23.314111",
     "status": "completed"
    },
    "tags": [
     "injected-parameters"
    ]
   },
   "outputs": [],
   "source": [
    "# Parameters\n",
    "universe_id = \"207f5e4aef489964978b2454b30dedbe\"\n",
    "run_no = \"11\"\n",
    "universe = \"{\\\"cutoff\\\": [\\\"quantile_0.1\\\", \\\"quantile_0.25\\\"], \\\"eval_fairness_grouping\\\": [\\\"majority-minority\\\", \\\"nationality-all\\\"], \\\"exclude_features\\\": \\\"nationality\\\", \\\"exclude_subgroups\\\": \\\"drop-non-german\\\", \\\"model\\\": \\\"elasticnet\\\", \\\"scale\\\": \\\"do-not-scale\\\", \\\"training_size\\\": \\\"2014\\\"}\"\n",
    "output_dir = \"output\"\n",
    "seed = \"2023\"\n"
   ]
  },
  {
   "cell_type": "code",
   "execution_count": 5,
   "id": "1650acaf",
   "metadata": {
    "execution": {
     "iopub.execute_input": "2025-07-28T11:10:23.385542Z",
     "iopub.status.busy": "2025-07-28T11:10:23.385091Z",
     "iopub.status.idle": "2025-07-28T11:10:23.390242Z",
     "shell.execute_reply": "2025-07-28T11:10:23.389395Z"
    },
    "papermill": {
     "duration": 0.028217,
     "end_time": "2025-07-28T11:10:23.391945",
     "exception": false,
     "start_time": "2025-07-28T11:10:23.363728",
     "status": "completed"
    },
    "tags": []
   },
   "outputs": [],
   "source": [
    "import json\n",
    "# Parse universe into dict if it is passed as a string\n",
    "if isinstance(universe, str):\n",
    "    universe = json.loads(universe)"
   ]
  },
  {
   "cell_type": "code",
   "execution_count": 6,
   "id": "16620c48",
   "metadata": {
    "execution": {
     "iopub.execute_input": "2025-07-28T11:10:23.435150Z",
     "iopub.status.busy": "2025-07-28T11:10:23.434658Z",
     "iopub.status.idle": "2025-07-28T11:10:23.480628Z",
     "shell.execute_reply": "2025-07-28T11:10:23.479653Z"
    },
    "papermill": {
     "duration": 0.069738,
     "end_time": "2025-07-28T11:10:23.482652",
     "exception": false,
     "start_time": "2025-07-28T11:10:23.412914",
     "status": "completed"
    },
    "tags": []
   },
   "outputs": [],
   "source": [
    "# Auto-reload the custom package\n",
    "%load_ext autoreload\n",
    "%autoreload 1\n",
    "%aimport fairness_multiverse"
   ]
  },
  {
   "cell_type": "code",
   "execution_count": 7,
   "id": "01c5c9f3",
   "metadata": {
    "execution": {
     "iopub.execute_input": "2025-07-28T11:10:23.525339Z",
     "iopub.status.busy": "2025-07-28T11:10:23.524865Z",
     "iopub.status.idle": "2025-07-28T11:10:25.638937Z",
     "shell.execute_reply": "2025-07-28T11:10:25.637863Z"
    },
    "papermill": {
     "duration": 2.137618,
     "end_time": "2025-07-28T11:10:25.641153",
     "exception": false,
     "start_time": "2025-07-28T11:10:23.503535",
     "status": "completed"
    },
    "tags": []
   },
   "outputs": [],
   "source": [
    "from fairness_multiverse.universe import UniverseAnalysis\n",
    "\n",
    "universe_analysis = UniverseAnalysis(\n",
    "    run_no = run_no,\n",
    "    universe_id = universe_id,\n",
    "    universe = universe,\n",
    "    output_dir=output_dir,\n",
    ")"
   ]
  },
  {
   "cell_type": "code",
   "execution_count": 8,
   "id": "106241f5",
   "metadata": {
    "execution": {
     "iopub.execute_input": "2025-07-28T11:10:25.684780Z",
     "iopub.status.busy": "2025-07-28T11:10:25.684004Z",
     "iopub.status.idle": "2025-07-28T11:10:25.692879Z",
     "shell.execute_reply": "2025-07-28T11:10:25.691905Z"
    },
    "papermill": {
     "duration": 0.032353,
     "end_time": "2025-07-28T11:10:25.694855",
     "exception": false,
     "start_time": "2025-07-28T11:10:25.662502",
     "status": "completed"
    },
    "tags": []
   },
   "outputs": [
    {
     "name": "stdout",
     "output_type": "stream",
     "text": [
      "Using Seed: 2023\n"
     ]
    }
   ],
   "source": [
    "import numpy as np\n",
    "parsed_seed = int(seed)\n",
    "np.random.seed(parsed_seed)\n",
    "print(f\"Using Seed: {parsed_seed}\")"
   ]
  },
  {
   "cell_type": "markdown",
   "id": "e0ebdc57",
   "metadata": {
    "papermill": {
     "duration": 0.02045,
     "end_time": "2025-07-28T11:10:25.736285",
     "exception": false,
     "start_time": "2025-07-28T11:10:25.715835",
     "status": "completed"
    },
    "tags": []
   },
   "source": [
    "# Loading Data"
   ]
  },
  {
   "cell_type": "markdown",
   "id": "681925a3",
   "metadata": {
    "papermill": {
     "duration": 0.020564,
     "end_time": "2025-07-28T11:10:25.777712",
     "exception": false,
     "start_time": "2025-07-28T11:10:25.757148",
     "status": "completed"
    },
    "tags": []
   },
   "source": [
    "Load siab_train, siab_test, siab_calib and/or \n",
    "load siab_train_features, siab_train_labels"
   ]
  },
  {
   "cell_type": "code",
   "execution_count": 9,
   "id": "f0496b8a",
   "metadata": {
    "execution": {
     "iopub.execute_input": "2025-07-28T11:10:25.821298Z",
     "iopub.status.busy": "2025-07-28T11:10:25.820623Z",
     "iopub.status.idle": "2025-07-28T11:10:38.476551Z",
     "shell.execute_reply": "2025-07-28T11:10:38.475375Z"
    },
    "papermill": {
     "duration": 12.679644,
     "end_time": "2025-07-28T11:10:38.478258",
     "exception": false,
     "start_time": "2025-07-28T11:10:25.798614",
     "status": "completed"
    },
    "tags": []
   },
   "outputs": [
    {
     "name": "stdout",
     "output_type": "stream",
     "text": [
      "Loading SIAB data from cache: data/siab_cached.csv.gz\n"
     ]
    },
    {
     "name": "stdout",
     "output_type": "stream",
     "text": [
      "(643690, 164)\n"
     ]
    }
   ],
   "source": [
    "from pathlib import Path\n",
    "import pandas as pd\n",
    "\n",
    "# File paths\n",
    "raw_file = Path(\"data/raw/siab.csv\")\n",
    "cache_file = Path(\"data/siab_cached.csv.gz\")\n",
    "\n",
    "# Ensure cache directory exists\n",
    "cache_file.parent.mkdir(parents=True, exist_ok=True)\n",
    "\n",
    "# Load with simple caching\n",
    "if cache_file.exists():\n",
    "    print(f\"Loading SIAB data from cache: {cache_file}\")\n",
    "    siab = pd.read_csv(cache_file, compression='gzip')\n",
    "else:\n",
    "    print(f\"Cache not found. Reading raw SIAB data: {raw_file}\")\n",
    "    siab = pd.read_csv(raw_file)\n",
    "    siab.to_csv(cache_file, index=False, compression='gzip')\n",
    "    print(f\"Cached SIAB data to: {cache_file}\")\n",
    "\n",
    "# Now use `siab` DataFrame as needed\n",
    "print(siab.shape)"
   ]
  },
  {
   "cell_type": "code",
   "execution_count": 10,
   "id": "db0ca512-5f53-4dba-abdb-a2888bca41ba",
   "metadata": {
    "execution": {
     "iopub.execute_input": "2025-07-28T11:10:38.540431Z",
     "iopub.status.busy": "2025-07-28T11:10:38.539825Z",
     "iopub.status.idle": "2025-07-28T11:10:38.545677Z",
     "shell.execute_reply": "2025-07-28T11:10:38.544768Z"
    },
    "papermill": {
     "duration": 0.028723,
     "end_time": "2025-07-28T11:10:38.547677",
     "exception": false,
     "start_time": "2025-07-28T11:10:38.518954",
     "status": "completed"
    },
    "tags": []
   },
   "outputs": [],
   "source": [
    "#siab"
   ]
  },
  {
   "cell_type": "code",
   "execution_count": 11,
   "id": "a0edb063",
   "metadata": {
    "execution": {
     "iopub.execute_input": "2025-07-28T11:10:38.593627Z",
     "iopub.status.busy": "2025-07-28T11:10:38.593101Z",
     "iopub.status.idle": "2025-07-28T11:10:38.598669Z",
     "shell.execute_reply": "2025-07-28T11:10:38.597553Z"
    },
    "papermill": {
     "duration": 0.03058,
     "end_time": "2025-07-28T11:10:38.600291",
     "exception": false,
     "start_time": "2025-07-28T11:10:38.569711",
     "status": "completed"
    },
    "tags": []
   },
   "outputs": [],
   "source": [
    "#import pandas as pd\n",
    "#\n",
    "#X_train = pd.read_csv(\"./data/X_train.csv\")\n",
    "#y_train = pd.read_csv(\"./data/y_train.csv\")"
   ]
  },
  {
   "cell_type": "code",
   "execution_count": 12,
   "id": "63d08085",
   "metadata": {
    "execution": {
     "iopub.execute_input": "2025-07-28T11:10:38.641520Z",
     "iopub.status.busy": "2025-07-28T11:10:38.640814Z",
     "iopub.status.idle": "2025-07-28T11:10:38.646245Z",
     "shell.execute_reply": "2025-07-28T11:10:38.645274Z"
    },
    "papermill": {
     "duration": 0.028075,
     "end_time": "2025-07-28T11:10:38.648002",
     "exception": false,
     "start_time": "2025-07-28T11:10:38.619927",
     "status": "completed"
    },
    "tags": []
   },
   "outputs": [],
   "source": [
    "#X_test = pd.read_csv(\"./data/X_test.csv\")\n",
    "#y_true = pd.read_csv(\"./data/y_test.csv\")"
   ]
  },
  {
   "cell_type": "code",
   "execution_count": 13,
   "id": "98a8d0fa-1d3d-4ed8-bb2c-281470e24add",
   "metadata": {
    "execution": {
     "iopub.execute_input": "2025-07-28T11:10:38.695187Z",
     "iopub.status.busy": "2025-07-28T11:10:38.694500Z",
     "iopub.status.idle": "2025-07-28T11:10:38.700223Z",
     "shell.execute_reply": "2025-07-28T11:10:38.699176Z"
    },
    "papermill": {
     "duration": 0.030766,
     "end_time": "2025-07-28T11:10:38.701905",
     "exception": false,
     "start_time": "2025-07-28T11:10:38.671139",
     "status": "completed"
    },
    "tags": []
   },
   "outputs": [],
   "source": [
    "# Calibration data for conformal\n",
    "#X_calib = pd.read_csv(\"./data/X_calib.csv\")\n",
    "#y_calib = pd.read_csv(\"./data/y_calib.csv\")"
   ]
  },
  {
   "cell_type": "markdown",
   "id": "9901737e-04df-44f0-9100-f5ad144ed040",
   "metadata": {
    "papermill": {
     "duration": 0.022769,
     "end_time": "2025-07-28T11:10:38.746404",
     "exception": false,
     "start_time": "2025-07-28T11:10:38.723635",
     "status": "completed"
    },
    "tags": []
   },
   "source": [
    "# Splitting Data and Setting Training Data Size"
   ]
  },
  {
   "cell_type": "code",
   "execution_count": 14,
   "id": "acbc8f7d-8fc8-4e86-8c59-5dcb0f58384b",
   "metadata": {
    "execution": {
     "iopub.execute_input": "2025-07-28T11:10:38.793734Z",
     "iopub.status.busy": "2025-07-28T11:10:38.793020Z",
     "iopub.status.idle": "2025-07-28T11:10:38.801781Z",
     "shell.execute_reply": "2025-07-28T11:10:38.800528Z"
    },
    "papermill": {
     "duration": 0.036272,
     "end_time": "2025-07-28T11:10:38.805446",
     "exception": false,
     "start_time": "2025-07-28T11:10:38.769174",
     "status": "completed"
    },
    "tags": []
   },
   "outputs": [],
   "source": [
    "def sample_by_year(df, training_size, random_state=42):\n",
    "    if training_size == \"2014\":\n",
    "        return df[df[\"year\"] == 2014].reset_index(drop=True)\n",
    "    \n",
    "    size_map = {\n",
    "        \"25k\": 5000,\n",
    "        \"5k\": 1000,\n",
    "        \"1k\": 200\n",
    "    }\n",
    "\n",
    "    if training_size not in size_map:\n",
    "        return df.reset_index(drop=True)  # use all data\n",
    "\n",
    "    n_per_year = size_map[training_size]\n",
    "    grouped = df.groupby(\"year\")\n",
    "    sampled = grouped.apply(lambda x: x.sample(n=min(n_per_year, len(x)), random_state=random_state))\n",
    "    return sampled.reset_index(drop=True)"
   ]
  },
  {
   "cell_type": "code",
   "execution_count": 15,
   "id": "6d931f52-beaf-43ff-9e78-9d44a448d54e",
   "metadata": {
    "execution": {
     "iopub.execute_input": "2025-07-28T11:10:38.852022Z",
     "iopub.status.busy": "2025-07-28T11:10:38.851020Z",
     "iopub.status.idle": "2025-07-28T11:10:39.025212Z",
     "shell.execute_reply": "2025-07-28T11:10:39.024234Z"
    },
    "papermill": {
     "duration": 0.2002,
     "end_time": "2025-07-28T11:10:39.027074",
     "exception": false,
     "start_time": "2025-07-28T11:10:38.826874",
     "status": "completed"
    },
    "tags": []
   },
   "outputs": [],
   "source": [
    "siab_s = sample_by_year(siab, universe[\"training_size\"])"
   ]
  },
  {
   "cell_type": "code",
   "execution_count": 16,
   "id": "5db0a40e-a4e2-4920-be85-b12ae061d70d",
   "metadata": {
    "execution": {
     "iopub.execute_input": "2025-07-28T11:10:39.068605Z",
     "iopub.status.busy": "2025-07-28T11:10:39.067995Z",
     "iopub.status.idle": "2025-07-28T11:10:39.084922Z",
     "shell.execute_reply": "2025-07-28T11:10:39.083875Z"
    },
    "papermill": {
     "duration": 0.040137,
     "end_time": "2025-07-28T11:10:39.086673",
     "exception": false,
     "start_time": "2025-07-28T11:10:39.046536",
     "status": "completed"
    },
    "tags": []
   },
   "outputs": [
    {
     "data": {
      "text/plain": [
       "year\n",
       "2014    87158\n",
       "dtype: int64"
      ]
     },
     "metadata": {},
     "output_type": "display_data"
    }
   ],
   "source": [
    "display(siab_s.groupby(\"year\").size())"
   ]
  },
  {
   "cell_type": "code",
   "execution_count": 17,
   "id": "a561edb4-d032-42cb-8256-22eac1111c64",
   "metadata": {
    "execution": {
     "iopub.execute_input": "2025-07-28T11:10:39.127979Z",
     "iopub.status.busy": "2025-07-28T11:10:39.127388Z",
     "iopub.status.idle": "2025-07-28T11:10:39.411875Z",
     "shell.execute_reply": "2025-07-28T11:10:39.410496Z"
    },
    "papermill": {
     "duration": 0.307436,
     "end_time": "2025-07-28T11:10:39.414130",
     "exception": false,
     "start_time": "2025-07-28T11:10:39.106694",
     "status": "completed"
    },
    "tags": []
   },
   "outputs": [],
   "source": [
    "siab_train = siab_s[siab_s.year < 2015]\n",
    "siab_calib = siab[siab.year == 2015]\n",
    "siab_test = siab[siab.year == 2016]"
   ]
  },
  {
   "cell_type": "code",
   "execution_count": 18,
   "id": "472de16f-c3db-4916-846b-1f0de9cf1746",
   "metadata": {
    "execution": {
     "iopub.execute_input": "2025-07-28T11:10:39.459083Z",
     "iopub.status.busy": "2025-07-28T11:10:39.458220Z",
     "iopub.status.idle": "2025-07-28T11:10:39.518061Z",
     "shell.execute_reply": "2025-07-28T11:10:39.517080Z"
    },
    "papermill": {
     "duration": 0.085209,
     "end_time": "2025-07-28T11:10:39.520290",
     "exception": false,
     "start_time": "2025-07-28T11:10:39.435081",
     "status": "completed"
    },
    "tags": []
   },
   "outputs": [],
   "source": [
    "X_train = siab_train.iloc[:,4:164]\n",
    "y_train = siab_train.iloc[:, [3]]"
   ]
  },
  {
   "cell_type": "code",
   "execution_count": 19,
   "id": "828c96af-f43a-4ed6-ba47-8ac73a47d56c",
   "metadata": {
    "execution": {
     "iopub.execute_input": "2025-07-28T11:10:39.564846Z",
     "iopub.status.busy": "2025-07-28T11:10:39.564339Z",
     "iopub.status.idle": "2025-07-28T11:10:39.617281Z",
     "shell.execute_reply": "2025-07-28T11:10:39.615595Z"
    },
    "papermill": {
     "duration": 0.083627,
     "end_time": "2025-07-28T11:10:39.625443",
     "exception": false,
     "start_time": "2025-07-28T11:10:39.541816",
     "status": "completed"
    },
    "tags": []
   },
   "outputs": [],
   "source": [
    "X_calib = siab_calib.iloc[:,4:164]\n",
    "y_calib = siab_calib.iloc[:, [3]]"
   ]
  },
  {
   "cell_type": "code",
   "execution_count": 20,
   "id": "c34be9c3-6bd6-476e-acd3-845840e303be",
   "metadata": {
    "execution": {
     "iopub.execute_input": "2025-07-28T11:10:39.672337Z",
     "iopub.status.busy": "2025-07-28T11:10:39.671565Z",
     "iopub.status.idle": "2025-07-28T11:10:39.744918Z",
     "shell.execute_reply": "2025-07-28T11:10:39.743706Z"
    },
    "papermill": {
     "duration": 0.098672,
     "end_time": "2025-07-28T11:10:39.746813",
     "exception": false,
     "start_time": "2025-07-28T11:10:39.648141",
     "status": "completed"
    },
    "tags": []
   },
   "outputs": [],
   "source": [
    "X_test = siab_test.iloc[:,4:164]\n",
    "y_true = siab_test.iloc[:, [3]]"
   ]
  },
  {
   "cell_type": "code",
   "execution_count": 21,
   "id": "e6c733c5",
   "metadata": {
    "execution": {
     "iopub.execute_input": "2025-07-28T11:10:39.793892Z",
     "iopub.status.busy": "2025-07-28T11:10:39.793417Z",
     "iopub.status.idle": "2025-07-28T11:10:39.932410Z",
     "shell.execute_reply": "2025-07-28T11:10:39.931314Z"
    },
    "papermill": {
     "duration": 0.164792,
     "end_time": "2025-07-28T11:10:39.934570",
     "exception": false,
     "start_time": "2025-07-28T11:10:39.769778",
     "status": "completed"
    },
    "tags": []
   },
   "outputs": [],
   "source": [
    "# Auxiliary data needed downstream in the pipeline\n",
    "\n",
    "org_train = X_train.copy()\n",
    "org_test = X_test.copy()\n",
    "org_calib = X_calib.copy()"
   ]
  },
  {
   "cell_type": "markdown",
   "id": "0a4a1b33",
   "metadata": {
    "papermill": {
     "duration": 0.021909,
     "end_time": "2025-07-28T11:10:39.979051",
     "exception": false,
     "start_time": "2025-07-28T11:10:39.957142",
     "status": "completed"
    },
    "tags": []
   },
   "source": [
    "# Preprocessing Data"
   ]
  },
  {
   "cell_type": "code",
   "execution_count": 22,
   "id": "ca879031",
   "metadata": {
    "execution": {
     "iopub.execute_input": "2025-07-28T11:10:40.025268Z",
     "iopub.status.busy": "2025-07-28T11:10:40.024705Z",
     "iopub.status.idle": "2025-07-28T11:10:40.031716Z",
     "shell.execute_reply": "2025-07-28T11:10:40.030617Z"
    },
    "papermill": {
     "duration": 0.03268,
     "end_time": "2025-07-28T11:10:40.033828",
     "exception": false,
     "start_time": "2025-07-28T11:10:40.001148",
     "status": "completed"
    },
    "tags": []
   },
   "outputs": [],
   "source": [
    "# EXCLUDE PROTECTED FEATURES\n",
    "# ----------------------\n",
    "# \"exclude_features\": \"none\", # \"nationality\", \"sex\", \"nationality-sex\"\n",
    "\n",
    "excluded_features = universe[\"exclude_features\"].split(\"-\") # split, e.g.: \"nationality-sex\" -> [\"nationality\", \"sex\"]\n",
    "excluded_features_dictionary = {\n",
    "    \"nationality\": [\"maxdeutsch1\", \"maxdeutsch.Missing.\"],\n",
    "    \"sex\": [\"frau1\"],\n",
    "    \"age\": [\"age\"],\n",
    "}\n"
   ]
  },
  {
   "cell_type": "code",
   "execution_count": 23,
   "id": "b745ac60",
   "metadata": {
    "execution": {
     "iopub.execute_input": "2025-07-28T11:10:40.081910Z",
     "iopub.status.busy": "2025-07-28T11:10:40.081420Z",
     "iopub.status.idle": "2025-07-28T11:10:40.087558Z",
     "shell.execute_reply": "2025-07-28T11:10:40.086517Z"
    },
    "papermill": {
     "duration": 0.031724,
     "end_time": "2025-07-28T11:10:40.089366",
     "exception": false,
     "start_time": "2025-07-28T11:10:40.057642",
     "status": "completed"
    },
    "tags": []
   },
   "outputs": [],
   "source": [
    "# Code nice names to column names\n",
    "\n",
    "excluded_features_columns = [\n",
    "    excluded_features_dictionary[f] for f in excluded_features if len(f) > 0 and f != \"none\"\n",
    "]"
   ]
  },
  {
   "cell_type": "code",
   "execution_count": 24,
   "id": "f84f73a2",
   "metadata": {
    "execution": {
     "iopub.execute_input": "2025-07-28T11:10:40.132889Z",
     "iopub.status.busy": "2025-07-28T11:10:40.132153Z",
     "iopub.status.idle": "2025-07-28T11:10:40.139054Z",
     "shell.execute_reply": "2025-07-28T11:10:40.138040Z"
    },
    "papermill": {
     "duration": 0.029971,
     "end_time": "2025-07-28T11:10:40.140717",
     "exception": false,
     "start_time": "2025-07-28T11:10:40.110746",
     "status": "completed"
    },
    "tags": []
   },
   "outputs": [],
   "source": [
    "from utils import flatten_once\n",
    "\n",
    "excluded_features_columns = flatten_once(excluded_features_columns)"
   ]
  },
  {
   "cell_type": "code",
   "execution_count": 25,
   "id": "884dea22",
   "metadata": {
    "execution": {
     "iopub.execute_input": "2025-07-28T11:10:40.182665Z",
     "iopub.status.busy": "2025-07-28T11:10:40.182122Z",
     "iopub.status.idle": "2025-07-28T11:10:40.237725Z",
     "shell.execute_reply": "2025-07-28T11:10:40.236434Z"
    },
    "papermill": {
     "duration": 0.078692,
     "end_time": "2025-07-28T11:10:40.239716",
     "exception": false,
     "start_time": "2025-07-28T11:10:40.161024",
     "status": "completed"
    },
    "tags": []
   },
   "outputs": [
    {
     "name": "stdout",
     "output_type": "stream",
     "text": [
      "Dropping features: ['maxdeutsch1', 'maxdeutsch.Missing.']\n"
     ]
    }
   ],
   "source": [
    "if len(excluded_features_columns) > 0:\n",
    "    print(f\"Dropping features: {excluded_features_columns}\")\n",
    "    X_train.drop(excluded_features_columns, axis=1, inplace=True)"
   ]
  },
  {
   "cell_type": "code",
   "execution_count": 26,
   "id": "95ab8b16",
   "metadata": {
    "execution": {
     "iopub.execute_input": "2025-07-28T11:10:40.287880Z",
     "iopub.status.busy": "2025-07-28T11:10:40.286851Z",
     "iopub.status.idle": "2025-07-28T11:10:40.346041Z",
     "shell.execute_reply": "2025-07-28T11:10:40.345031Z"
    },
    "papermill": {
     "duration": 0.084897,
     "end_time": "2025-07-28T11:10:40.347849",
     "exception": false,
     "start_time": "2025-07-28T11:10:40.262952",
     "status": "completed"
    },
    "tags": []
   },
   "outputs": [
    {
     "name": "stdout",
     "output_type": "stream",
     "text": [
      "Dropping features: ['maxdeutsch1', 'maxdeutsch.Missing.']\n"
     ]
    }
   ],
   "source": [
    "if len(excluded_features_columns) > 0:\n",
    "    print(f\"Dropping features: {excluded_features_columns}\")\n",
    "    X_test.drop(excluded_features_columns, axis=1, inplace=True)"
   ]
  },
  {
   "cell_type": "code",
   "execution_count": 27,
   "id": "1853aaf5-fb9f-46cb-a2b5-8ea4ae2237e4",
   "metadata": {
    "execution": {
     "iopub.execute_input": "2025-07-28T11:10:40.390542Z",
     "iopub.status.busy": "2025-07-28T11:10:40.389875Z",
     "iopub.status.idle": "2025-07-28T11:10:40.451291Z",
     "shell.execute_reply": "2025-07-28T11:10:40.450184Z"
    },
    "papermill": {
     "duration": 0.084771,
     "end_time": "2025-07-28T11:10:40.453219",
     "exception": false,
     "start_time": "2025-07-28T11:10:40.368448",
     "status": "completed"
    },
    "tags": []
   },
   "outputs": [
    {
     "name": "stdout",
     "output_type": "stream",
     "text": [
      "Dropping features: ['maxdeutsch1', 'maxdeutsch.Missing.']\n"
     ]
    }
   ],
   "source": [
    "if len(excluded_features_columns) > 0:\n",
    "    print(f\"Dropping features: {excluded_features_columns}\")\n",
    "    X_calib.drop(excluded_features_columns, axis=1, inplace=True)"
   ]
  },
  {
   "cell_type": "code",
   "execution_count": 28,
   "id": "6727d079-03e5-481e-9d38-292a90b7a0a8",
   "metadata": {
    "execution": {
     "iopub.execute_input": "2025-07-28T11:10:40.502787Z",
     "iopub.status.busy": "2025-07-28T11:10:40.501730Z",
     "iopub.status.idle": "2025-07-28T11:10:40.508043Z",
     "shell.execute_reply": "2025-07-28T11:10:40.507034Z"
    },
    "papermill": {
     "duration": 0.031786,
     "end_time": "2025-07-28T11:10:40.509944",
     "exception": false,
     "start_time": "2025-07-28T11:10:40.478158",
     "status": "completed"
    },
    "tags": []
   },
   "outputs": [],
   "source": [
    "# SPLIT & STRATIFY DATA\n",
    "# ----------------------"
   ]
  },
  {
   "cell_type": "code",
   "execution_count": 29,
   "id": "76c4dc6d",
   "metadata": {
    "execution": {
     "iopub.execute_input": "2025-07-28T11:10:40.557765Z",
     "iopub.status.busy": "2025-07-28T11:10:40.557272Z",
     "iopub.status.idle": "2025-07-28T11:10:40.563132Z",
     "shell.execute_reply": "2025-07-28T11:10:40.562204Z"
    },
    "papermill": {
     "duration": 0.032849,
     "end_time": "2025-07-28T11:10:40.565106",
     "exception": false,
     "start_time": "2025-07-28T11:10:40.532257",
     "status": "completed"
    },
    "tags": []
   },
   "outputs": [],
   "source": [
    "# EXCLUDE CERTAIN SUBGROUPS\n",
    "# ----------------------\n",
    "\n",
    "mode = universe.get(\"exclude_subgroups\", \"keep-all\") \n",
    "# Fetches the exclude_subgroups setting from the universe dict.\n",
    "# Defaults to \"keep-all\" if the key is missing."
   ]
  },
  {
   "cell_type": "code",
   "execution_count": 30,
   "id": "21994072",
   "metadata": {
    "execution": {
     "iopub.execute_input": "2025-07-28T11:10:40.613100Z",
     "iopub.status.busy": "2025-07-28T11:10:40.612606Z",
     "iopub.status.idle": "2025-07-28T11:10:40.619849Z",
     "shell.execute_reply": "2025-07-28T11:10:40.618881Z"
    },
    "papermill": {
     "duration": 0.033605,
     "end_time": "2025-07-28T11:10:40.621691",
     "exception": false,
     "start_time": "2025-07-28T11:10:40.588086",
     "status": "completed"
    },
    "tags": []
   },
   "outputs": [],
   "source": [
    "if mode == \"keep-all\":\n",
    "    keep_mask = pd.Series(True, index=org_train.index)\n",
    "\n",
    "# org_train contains the original feature columns from features_org (in Simson)\n",
    "# features_org contains unprocessed features, for me X_train at beginning ???\n",
    "# For keep-all, creates a boolean Series (keep_mask) of all True, so no rows are removed.\n",
    "\n",
    "elif mode == \"drop-non-german\":\n",
    "    keep_mask = org_train[\"maxdeutsch1\"] == 1 # ??? what about missing values?\n",
    "\n",
    "else:\n",
    "    raise ValueError(f\"Unsupported mode for exclude_subgroups: {mode}\")\n"
   ]
  },
  {
   "cell_type": "code",
   "execution_count": 31,
   "id": "71651440",
   "metadata": {
    "execution": {
     "iopub.execute_input": "2025-07-28T11:10:40.671378Z",
     "iopub.status.busy": "2025-07-28T11:10:40.670676Z",
     "iopub.status.idle": "2025-07-28T11:10:40.678747Z",
     "shell.execute_reply": "2025-07-28T11:10:40.677710Z"
    },
    "papermill": {
     "duration": 0.035197,
     "end_time": "2025-07-28T11:10:40.680567",
     "exception": false,
     "start_time": "2025-07-28T11:10:40.645370",
     "status": "completed"
    },
    "tags": []
   },
   "outputs": [
    {
     "name": "stdout",
     "output_type": "stream",
     "text": [
      "Dropping 12995 rows (14.91%) where mode='drop-non-german'\n"
     ]
    }
   ],
   "source": [
    "n_drop = (~keep_mask).sum() # Calculates how many rows are set to be dropped\n",
    "if n_drop > 0:\n",
    "    pct = n_drop / len(keep_mask) * 100\n",
    "    print(f\"Dropping {n_drop} rows ({pct:.2f}%) where mode='{mode}'\")"
   ]
  },
  {
   "cell_type": "code",
   "execution_count": 32,
   "id": "5fb8eee5",
   "metadata": {
    "execution": {
     "iopub.execute_input": "2025-07-28T11:10:40.729265Z",
     "iopub.status.busy": "2025-07-28T11:10:40.728601Z",
     "iopub.status.idle": "2025-07-28T11:10:40.790084Z",
     "shell.execute_reply": "2025-07-28T11:10:40.789060Z"
    },
    "papermill": {
     "duration": 0.088286,
     "end_time": "2025-07-28T11:10:40.792415",
     "exception": false,
     "start_time": "2025-07-28T11:10:40.704129",
     "status": "completed"
    },
    "tags": []
   },
   "outputs": [],
   "source": [
    "X_train = X_train[keep_mask]"
   ]
  },
  {
   "cell_type": "code",
   "execution_count": 33,
   "id": "b202bb3a",
   "metadata": {
    "execution": {
     "iopub.execute_input": "2025-07-28T11:10:40.840741Z",
     "iopub.status.busy": "2025-07-28T11:10:40.839977Z",
     "iopub.status.idle": "2025-07-28T11:10:40.848484Z",
     "shell.execute_reply": "2025-07-28T11:10:40.847489Z"
    },
    "papermill": {
     "duration": 0.033816,
     "end_time": "2025-07-28T11:10:40.850219",
     "exception": false,
     "start_time": "2025-07-28T11:10:40.816403",
     "status": "completed"
    },
    "tags": []
   },
   "outputs": [],
   "source": [
    "y_train = y_train[keep_mask]"
   ]
  },
  {
   "cell_type": "markdown",
   "id": "493e2ac3",
   "metadata": {
    "papermill": {
     "duration": 0.020325,
     "end_time": "2025-07-28T11:10:40.891310",
     "exception": false,
     "start_time": "2025-07-28T11:10:40.870985",
     "status": "completed"
    },
    "tags": []
   },
   "source": [
    "# Model Training"
   ]
  },
  {
   "cell_type": "code",
   "execution_count": 34,
   "id": "679e1268",
   "metadata": {
    "execution": {
     "iopub.execute_input": "2025-07-28T11:10:40.934237Z",
     "iopub.status.busy": "2025-07-28T11:10:40.933616Z",
     "iopub.status.idle": "2025-07-28T11:10:41.038782Z",
     "shell.execute_reply": "2025-07-28T11:10:41.037858Z"
    },
    "papermill": {
     "duration": 0.129151,
     "end_time": "2025-07-28T11:10:41.040851",
     "exception": false,
     "start_time": "2025-07-28T11:10:40.911700",
     "status": "completed"
    },
    "tags": []
   },
   "outputs": [],
   "source": [
    "from sklearn.linear_model import LogisticRegression\n",
    "from sklearn.ensemble import GradientBoostingClassifier, RandomForestClassifier\n",
    "\n",
    "if (universe[\"model\"] == \"logreg\"):\n",
    "    model = LogisticRegression() #penalty=\"none\") #, solver=\"newton-cg\", max_iter=1) # include random_state=19 ?\n",
    "elif (universe[\"model\"] == \"penalized_logreg\"):\n",
    "    model = LogisticRegression(penalty=\"l2\", C=1.0) #, solver=\"newton-cg\", max_iter=1)\n",
    "elif (universe[\"model\"] == \"rf\"):\n",
    "    model = RandomForestClassifier(n_estimators=100, n_jobs=-1)\n",
    "elif (universe[\"model\"] == \"gbm\"):\n",
    "    model = GradientBoostingClassifier()\n",
    "elif (universe[\"model\"] == \"elasticnet\"):\n",
    "    model = LogisticRegression(penalty = 'elasticnet', solver = 'saga', l1_ratio = 0.5, max_iter=5000) # which solver to use?\n",
    "else:\n",
    "    raise \"Unsupported universe.model\""
   ]
  },
  {
   "cell_type": "code",
   "execution_count": 35,
   "id": "0cc8f744",
   "metadata": {
    "execution": {
     "iopub.execute_input": "2025-07-28T11:10:41.084370Z",
     "iopub.status.busy": "2025-07-28T11:10:41.083584Z",
     "iopub.status.idle": "2025-07-28T11:10:41.090513Z",
     "shell.execute_reply": "2025-07-28T11:10:41.089589Z"
    },
    "papermill": {
     "duration": 0.030187,
     "end_time": "2025-07-28T11:10:41.092211",
     "exception": false,
     "start_time": "2025-07-28T11:10:41.062024",
     "status": "completed"
    },
    "tags": []
   },
   "outputs": [],
   "source": [
    "import numpy as np\n",
    "from sklearn.pipeline import Pipeline\n",
    "from sklearn.preprocessing import StandardScaler\n",
    "\n",
    "model = Pipeline([\n",
    "    #(\"continuous_processor\", continuous_processor),\n",
    "    #(\"categorical_preprocessor\", categorical_preprocessor),\n",
    "    (\"scale\", StandardScaler() if universe[\"scale\"] == \"scale\" else None), \n",
    "    (\"model\", model),\n",
    "])"
   ]
  },
  {
   "cell_type": "code",
   "execution_count": 36,
   "id": "9442c04d",
   "metadata": {
    "execution": {
     "iopub.execute_input": "2025-07-28T11:10:41.135761Z",
     "iopub.status.busy": "2025-07-28T11:10:41.134811Z",
     "iopub.status.idle": "2025-07-28T11:21:01.150221Z",
     "shell.execute_reply": "2025-07-28T11:21:01.148953Z"
    },
    "papermill": {
     "duration": 620.053855,
     "end_time": "2025-07-28T11:21:01.166923",
     "exception": false,
     "start_time": "2025-07-28T11:10:41.113068",
     "status": "completed"
    },
    "tags": []
   },
   "outputs": [
    {
     "data": {
      "text/html": [
       "<style>#sk-container-id-1 {color: black;background-color: white;}#sk-container-id-1 pre{padding: 0;}#sk-container-id-1 div.sk-toggleable {background-color: white;}#sk-container-id-1 label.sk-toggleable__label {cursor: pointer;display: block;width: 100%;margin-bottom: 0;padding: 0.3em;box-sizing: border-box;text-align: center;}#sk-container-id-1 label.sk-toggleable__label-arrow:before {content: \"▸\";float: left;margin-right: 0.25em;color: #696969;}#sk-container-id-1 label.sk-toggleable__label-arrow:hover:before {color: black;}#sk-container-id-1 div.sk-estimator:hover label.sk-toggleable__label-arrow:before {color: black;}#sk-container-id-1 div.sk-toggleable__content {max-height: 0;max-width: 0;overflow: hidden;text-align: left;background-color: #f0f8ff;}#sk-container-id-1 div.sk-toggleable__content pre {margin: 0.2em;color: black;border-radius: 0.25em;background-color: #f0f8ff;}#sk-container-id-1 input.sk-toggleable__control:checked~div.sk-toggleable__content {max-height: 200px;max-width: 100%;overflow: auto;}#sk-container-id-1 input.sk-toggleable__control:checked~label.sk-toggleable__label-arrow:before {content: \"▾\";}#sk-container-id-1 div.sk-estimator input.sk-toggleable__control:checked~label.sk-toggleable__label {background-color: #d4ebff;}#sk-container-id-1 div.sk-label input.sk-toggleable__control:checked~label.sk-toggleable__label {background-color: #d4ebff;}#sk-container-id-1 input.sk-hidden--visually {border: 0;clip: rect(1px 1px 1px 1px);clip: rect(1px, 1px, 1px, 1px);height: 1px;margin: -1px;overflow: hidden;padding: 0;position: absolute;width: 1px;}#sk-container-id-1 div.sk-estimator {font-family: monospace;background-color: #f0f8ff;border: 1px dotted black;border-radius: 0.25em;box-sizing: border-box;margin-bottom: 0.5em;}#sk-container-id-1 div.sk-estimator:hover {background-color: #d4ebff;}#sk-container-id-1 div.sk-parallel-item::after {content: \"\";width: 100%;border-bottom: 1px solid gray;flex-grow: 1;}#sk-container-id-1 div.sk-label:hover label.sk-toggleable__label {background-color: #d4ebff;}#sk-container-id-1 div.sk-serial::before {content: \"\";position: absolute;border-left: 1px solid gray;box-sizing: border-box;top: 0;bottom: 0;left: 50%;z-index: 0;}#sk-container-id-1 div.sk-serial {display: flex;flex-direction: column;align-items: center;background-color: white;padding-right: 0.2em;padding-left: 0.2em;position: relative;}#sk-container-id-1 div.sk-item {position: relative;z-index: 1;}#sk-container-id-1 div.sk-parallel {display: flex;align-items: stretch;justify-content: center;background-color: white;position: relative;}#sk-container-id-1 div.sk-item::before, #sk-container-id-1 div.sk-parallel-item::before {content: \"\";position: absolute;border-left: 1px solid gray;box-sizing: border-box;top: 0;bottom: 0;left: 50%;z-index: -1;}#sk-container-id-1 div.sk-parallel-item {display: flex;flex-direction: column;z-index: 1;position: relative;background-color: white;}#sk-container-id-1 div.sk-parallel-item:first-child::after {align-self: flex-end;width: 50%;}#sk-container-id-1 div.sk-parallel-item:last-child::after {align-self: flex-start;width: 50%;}#sk-container-id-1 div.sk-parallel-item:only-child::after {width: 0;}#sk-container-id-1 div.sk-dashed-wrapped {border: 1px dashed gray;margin: 0 0.4em 0.5em 0.4em;box-sizing: border-box;padding-bottom: 0.4em;background-color: white;}#sk-container-id-1 div.sk-label label {font-family: monospace;font-weight: bold;display: inline-block;line-height: 1.2em;}#sk-container-id-1 div.sk-label-container {text-align: center;}#sk-container-id-1 div.sk-container {/* jupyter's `normalize.less` sets `[hidden] { display: none; }` but bootstrap.min.css set `[hidden] { display: none !important; }` so we also need the `!important` here to be able to override the default hidden behavior on the sphinx rendered scikit-learn.org. See: https://github.com/scikit-learn/scikit-learn/issues/21755 */display: inline-block !important;position: relative;}#sk-container-id-1 div.sk-text-repr-fallback {display: none;}</style><div id=\"sk-container-id-1\" class=\"sk-top-container\"><div class=\"sk-text-repr-fallback\"><pre>Pipeline(steps=[(&#x27;scale&#x27;, None),\n",
       "                (&#x27;model&#x27;,\n",
       "                 LogisticRegression(l1_ratio=0.5, max_iter=5000,\n",
       "                                    penalty=&#x27;elasticnet&#x27;, solver=&#x27;saga&#x27;))])</pre><b>In a Jupyter environment, please rerun this cell to show the HTML representation or trust the notebook. <br />On GitHub, the HTML representation is unable to render, please try loading this page with nbviewer.org.</b></div><div class=\"sk-container\" hidden><div class=\"sk-item sk-dashed-wrapped\"><div class=\"sk-label-container\"><div class=\"sk-label sk-toggleable\"><input class=\"sk-toggleable__control sk-hidden--visually\" id=\"sk-estimator-id-1\" type=\"checkbox\" ><label for=\"sk-estimator-id-1\" class=\"sk-toggleable__label sk-toggleable__label-arrow\">Pipeline</label><div class=\"sk-toggleable__content\"><pre>Pipeline(steps=[(&#x27;scale&#x27;, None),\n",
       "                (&#x27;model&#x27;,\n",
       "                 LogisticRegression(l1_ratio=0.5, max_iter=5000,\n",
       "                                    penalty=&#x27;elasticnet&#x27;, solver=&#x27;saga&#x27;))])</pre></div></div></div><div class=\"sk-serial\"><div class=\"sk-item\"><div class=\"sk-estimator sk-toggleable\"><input class=\"sk-toggleable__control sk-hidden--visually\" id=\"sk-estimator-id-2\" type=\"checkbox\" ><label for=\"sk-estimator-id-2\" class=\"sk-toggleable__label sk-toggleable__label-arrow\">None</label><div class=\"sk-toggleable__content\"><pre>None</pre></div></div></div><div class=\"sk-item\"><div class=\"sk-estimator sk-toggleable\"><input class=\"sk-toggleable__control sk-hidden--visually\" id=\"sk-estimator-id-3\" type=\"checkbox\" ><label for=\"sk-estimator-id-3\" class=\"sk-toggleable__label sk-toggleable__label-arrow\">LogisticRegression</label><div class=\"sk-toggleable__content\"><pre>LogisticRegression(l1_ratio=0.5, max_iter=5000, penalty=&#x27;elasticnet&#x27;,\n",
       "                   solver=&#x27;saga&#x27;)</pre></div></div></div></div></div></div></div>"
      ],
      "text/plain": [
       "Pipeline(steps=[('scale', None),\n",
       "                ('model',\n",
       "                 LogisticRegression(l1_ratio=0.5, max_iter=5000,\n",
       "                                    penalty='elasticnet', solver='saga'))])"
      ]
     },
     "execution_count": 36,
     "metadata": {},
     "output_type": "execute_result"
    }
   ],
   "source": [
    "model.fit(X_train, y_train.values.ravel())"
   ]
  },
  {
   "cell_type": "code",
   "execution_count": 37,
   "id": "af59f8c0",
   "metadata": {
    "execution": {
     "iopub.execute_input": "2025-07-28T11:21:01.218930Z",
     "iopub.status.busy": "2025-07-28T11:21:01.218200Z",
     "iopub.status.idle": "2025-07-28T11:21:01.224276Z",
     "shell.execute_reply": "2025-07-28T11:21:01.223319Z"
    },
    "papermill": {
     "duration": 0.034113,
     "end_time": "2025-07-28T11:21:01.225950",
     "exception": false,
     "start_time": "2025-07-28T11:21:01.191837",
     "status": "completed"
    },
    "tags": []
   },
   "outputs": [],
   "source": [
    "from fairness_multiverse.universe import predict_w_threshold"
   ]
  },
  {
   "cell_type": "code",
   "execution_count": 38,
   "id": "a7cf2e16",
   "metadata": {
    "execution": {
     "iopub.execute_input": "2025-07-28T11:21:01.277731Z",
     "iopub.status.busy": "2025-07-28T11:21:01.277063Z",
     "iopub.status.idle": "2025-07-28T11:21:01.387097Z",
     "shell.execute_reply": "2025-07-28T11:21:01.386111Z"
    },
    "papermill": {
     "duration": 0.137932,
     "end_time": "2025-07-28T11:21:01.388937",
     "exception": false,
     "start_time": "2025-07-28T11:21:01.251005",
     "status": "completed"
    },
    "tags": []
   },
   "outputs": [
    {
     "data": {
      "text/plain": [
       "0.8598484004012931"
      ]
     },
     "execution_count": 38,
     "metadata": {},
     "output_type": "execute_result"
    }
   ],
   "source": [
    "probs_test = model.predict_proba(X_test)\n",
    "\n",
    "'''\n",
    "Below code returns a boolean array (or binary 0/1 array depending on how it’s used) where each element \n",
    "is True if the probability of class 1 is greater than or equal to the threshold, and False otherwise.\n",
    "'''\n",
    "y_pred_default = predict_w_threshold(probs_test, 0.5)\n",
    "\n",
    "from sklearn.metrics import accuracy_score\n",
    "\n",
    "# Naive prediction\n",
    "accuracy_score(y_true = y_true, y_pred = y_pred_default)"
   ]
  },
  {
   "cell_type": "code",
   "execution_count": 39,
   "id": "081964c3",
   "metadata": {
    "execution": {
     "iopub.execute_input": "2025-07-28T11:21:01.434322Z",
     "iopub.status.busy": "2025-07-28T11:21:01.433400Z",
     "iopub.status.idle": "2025-07-28T11:21:01.518170Z",
     "shell.execute_reply": "2025-07-28T11:21:01.517129Z"
    },
    "papermill": {
     "duration": 0.109576,
     "end_time": "2025-07-28T11:21:01.520590",
     "exception": false,
     "start_time": "2025-07-28T11:21:01.411014",
     "status": "completed"
    },
    "tags": []
   },
   "outputs": [
    {
     "data": {
      "text/plain": [
       "array([0, 0, 0, ..., 0, 0, 0])"
      ]
     },
     "execution_count": 39,
     "metadata": {},
     "output_type": "execute_result"
    }
   ],
   "source": [
    "model.predict(X_test)"
   ]
  },
  {
   "cell_type": "markdown",
   "id": "56c9705b",
   "metadata": {
    "papermill": {
     "duration": 0.026001,
     "end_time": "2025-07-28T11:21:01.573293",
     "exception": false,
     "start_time": "2025-07-28T11:21:01.547292",
     "status": "completed"
    },
    "tags": []
   },
   "source": [
    "# Conformal Prediction"
   ]
  },
  {
   "cell_type": "code",
   "execution_count": 40,
   "id": "160ec6ff",
   "metadata": {
    "execution": {
     "iopub.execute_input": "2025-07-28T11:21:01.626404Z",
     "iopub.status.busy": "2025-07-28T11:21:01.625722Z",
     "iopub.status.idle": "2025-07-28T11:21:01.632932Z",
     "shell.execute_reply": "2025-07-28T11:21:01.631930Z"
    },
    "papermill": {
     "duration": 0.036028,
     "end_time": "2025-07-28T11:21:01.634777",
     "exception": false,
     "start_time": "2025-07-28T11:21:01.598749",
     "status": "completed"
    },
    "tags": []
   },
   "outputs": [],
   "source": [
    "# Miscoverage level for conformal prediction (10% allowed error rate => 90% target coverage)\n",
    "alpha = 0.1"
   ]
  },
  {
   "cell_type": "code",
   "execution_count": 41,
   "id": "eadf4555-3dd3-440e-8e35-f82a4ad9f855",
   "metadata": {
    "execution": {
     "iopub.execute_input": "2025-07-28T11:21:01.688975Z",
     "iopub.status.busy": "2025-07-28T11:21:01.688295Z",
     "iopub.status.idle": "2025-07-28T11:21:01.784736Z",
     "shell.execute_reply": "2025-07-28T11:21:01.783610Z"
    },
    "papermill": {
     "duration": 0.12555,
     "end_time": "2025-07-28T11:21:01.786802",
     "exception": false,
     "start_time": "2025-07-28T11:21:01.661252",
     "status": "completed"
    },
    "tags": []
   },
   "outputs": [],
   "source": [
    "probs_calib = model.predict_proba(X_calib)"
   ]
  },
  {
   "cell_type": "code",
   "execution_count": 42,
   "id": "2ed93547-6d5d-4983-9b36-1ecb300da49a",
   "metadata": {
    "execution": {
     "iopub.execute_input": "2025-07-28T11:21:01.832202Z",
     "iopub.status.busy": "2025-07-28T11:21:01.831786Z",
     "iopub.status.idle": "2025-07-28T11:21:01.837244Z",
     "shell.execute_reply": "2025-07-28T11:21:01.836363Z"
    },
    "papermill": {
     "duration": 0.029992,
     "end_time": "2025-07-28T11:21:01.838778",
     "exception": false,
     "start_time": "2025-07-28T11:21:01.808786",
     "status": "completed"
    },
    "tags": []
   },
   "outputs": [],
   "source": [
    "y_calib = y_calib.values.ravel().astype(int)"
   ]
  },
  {
   "cell_type": "code",
   "execution_count": 43,
   "id": "65d1320d-f588-4b38-9072-62af1ae97f7d",
   "metadata": {
    "execution": {
     "iopub.execute_input": "2025-07-28T11:21:01.887986Z",
     "iopub.status.busy": "2025-07-28T11:21:01.887546Z",
     "iopub.status.idle": "2025-07-28T11:21:01.894940Z",
     "shell.execute_reply": "2025-07-28T11:21:01.894162Z"
    },
    "papermill": {
     "duration": 0.035969,
     "end_time": "2025-07-28T11:21:01.896824",
     "exception": false,
     "start_time": "2025-07-28T11:21:01.860855",
     "status": "completed"
    },
    "tags": []
   },
   "outputs": [],
   "source": [
    "from fairness_multiverse.conformal import compute_nc_scores\n",
    "\n",
    "# Compute nonconformity scores on calibration set (1 - probability of true class)\n",
    "nc_scores = compute_nc_scores(probs_calib, y_calib)"
   ]
  },
  {
   "cell_type": "code",
   "execution_count": 44,
   "id": "df3b8ca3-53b7-43d5-9667-7c85da7aeda2",
   "metadata": {
    "execution": {
     "iopub.execute_input": "2025-07-28T11:21:01.948186Z",
     "iopub.status.busy": "2025-07-28T11:21:01.947450Z",
     "iopub.status.idle": "2025-07-28T11:21:01.954552Z",
     "shell.execute_reply": "2025-07-28T11:21:01.953650Z"
    },
    "papermill": {
     "duration": 0.034375,
     "end_time": "2025-07-28T11:21:01.956328",
     "exception": false,
     "start_time": "2025-07-28T11:21:01.921953",
     "status": "completed"
    },
    "tags": []
   },
   "outputs": [],
   "source": [
    "from fairness_multiverse.conformal import find_threshold\n",
    "\n",
    "# Find conformal threshold q_hat for the given alpha (split conformal method)\n",
    "q_hat = find_threshold(nc_scores, alpha)"
   ]
  },
  {
   "cell_type": "code",
   "execution_count": 45,
   "id": "4d29e6c1-0ef6-4aa4-b8fe-4fe79b0d033a",
   "metadata": {
    "execution": {
     "iopub.execute_input": "2025-07-28T11:21:02.001867Z",
     "iopub.status.busy": "2025-07-28T11:21:02.001053Z",
     "iopub.status.idle": "2025-07-28T11:21:02.008496Z",
     "shell.execute_reply": "2025-07-28T11:21:02.007489Z"
    },
    "papermill": {
     "duration": 0.031758,
     "end_time": "2025-07-28T11:21:02.010093",
     "exception": false,
     "start_time": "2025-07-28T11:21:01.978335",
     "status": "completed"
    },
    "tags": []
   },
   "outputs": [
    {
     "data": {
      "text/plain": [
       "0.6892146694557386"
      ]
     },
     "execution_count": 45,
     "metadata": {},
     "output_type": "execute_result"
    }
   ],
   "source": [
    "q_hat"
   ]
  },
  {
   "cell_type": "code",
   "execution_count": 46,
   "id": "92460794-cdac-4be2-ba28-f28c0515a6fb",
   "metadata": {
    "execution": {
     "iopub.execute_input": "2025-07-28T11:21:02.057471Z",
     "iopub.status.busy": "2025-07-28T11:21:02.056564Z",
     "iopub.status.idle": "2025-07-28T11:21:02.849102Z",
     "shell.execute_reply": "2025-07-28T11:21:02.848128Z"
    },
    "papermill": {
     "duration": 0.819492,
     "end_time": "2025-07-28T11:21:02.850668",
     "exception": false,
     "start_time": "2025-07-28T11:21:02.031176",
     "status": "completed"
    },
    "tags": []
   },
   "outputs": [],
   "source": [
    "from fairness_multiverse.conformal import predict_conformal_sets\n",
    "\n",
    "# Generate prediction sets for each test example\n",
    "pred_sets = predict_conformal_sets(model, X_test, q_hat)"
   ]
  },
  {
   "cell_type": "code",
   "execution_count": 47,
   "id": "d90c9a65-e6db-4f5d-80cd-e68fb7e46829",
   "metadata": {
    "execution": {
     "iopub.execute_input": "2025-07-28T11:21:02.899361Z",
     "iopub.status.busy": "2025-07-28T11:21:02.898619Z",
     "iopub.status.idle": "2025-07-28T11:21:02.904692Z",
     "shell.execute_reply": "2025-07-28T11:21:02.903741Z"
    },
    "papermill": {
     "duration": 0.031245,
     "end_time": "2025-07-28T11:21:02.906300",
     "exception": false,
     "start_time": "2025-07-28T11:21:02.875055",
     "status": "completed"
    },
    "tags": []
   },
   "outputs": [],
   "source": [
    "y_true = y_true.squeeze()"
   ]
  },
  {
   "cell_type": "code",
   "execution_count": 48,
   "id": "3a58a54a-1e68-46b9-927a-df01f18aebc8",
   "metadata": {
    "execution": {
     "iopub.execute_input": "2025-07-28T11:21:02.952638Z",
     "iopub.status.busy": "2025-07-28T11:21:02.951911Z",
     "iopub.status.idle": "2025-07-28T11:21:03.903421Z",
     "shell.execute_reply": "2025-07-28T11:21:03.902529Z"
    },
    "papermill": {
     "duration": 0.97666,
     "end_time": "2025-07-28T11:21:03.905039",
     "exception": false,
     "start_time": "2025-07-28T11:21:02.928379",
     "status": "completed"
    },
    "tags": []
   },
   "outputs": [],
   "source": [
    "from fairness_multiverse.conformal import evaluate_sets\n",
    "\n",
    "# Evaluate coverage and average set size on test data\n",
    "metrics = evaluate_sets(pred_sets, y_true)"
   ]
  },
  {
   "cell_type": "markdown",
   "id": "2b569c12-9aaa-4c88-98c9-bbcd0cf3ebb8",
   "metadata": {
    "papermill": {
     "duration": 0.022048,
     "end_time": "2025-07-28T11:21:03.948587",
     "exception": false,
     "start_time": "2025-07-28T11:21:03.926539",
     "status": "completed"
    },
    "tags": []
   },
   "source": [
    "# CP Metrics"
   ]
  },
  {
   "cell_type": "code",
   "execution_count": 49,
   "id": "5ce0a5cb-201f-45a0-ade5-94c7f0bd6095",
   "metadata": {
    "execution": {
     "iopub.execute_input": "2025-07-28T11:21:03.995279Z",
     "iopub.status.busy": "2025-07-28T11:21:03.994568Z",
     "iopub.status.idle": "2025-07-28T11:21:04.001901Z",
     "shell.execute_reply": "2025-07-28T11:21:04.001036Z"
    },
    "papermill": {
     "duration": 0.033378,
     "end_time": "2025-07-28T11:21:04.003599",
     "exception": false,
     "start_time": "2025-07-28T11:21:03.970221",
     "status": "completed"
    },
    "tags": []
   },
   "outputs": [
    {
     "data": {
      "text/plain": [
       "{'coverage': 0.911470293166871, 'avg_size': 1.1320588563147922}"
      ]
     },
     "execution_count": 49,
     "metadata": {},
     "output_type": "execute_result"
    }
   ],
   "source": [
    "metrics"
   ]
  },
  {
   "cell_type": "code",
   "execution_count": 50,
   "id": "9b9a838d-31c9-430b-ae14-12baee460d17",
   "metadata": {
    "execution": {
     "iopub.execute_input": "2025-07-28T11:21:04.051722Z",
     "iopub.status.busy": "2025-07-28T11:21:04.051027Z",
     "iopub.status.idle": "2025-07-28T11:21:04.057424Z",
     "shell.execute_reply": "2025-07-28T11:21:04.056563Z"
    },
    "papermill": {
     "duration": 0.031735,
     "end_time": "2025-07-28T11:21:04.059125",
     "exception": false,
     "start_time": "2025-07-28T11:21:04.027390",
     "status": "completed"
    },
    "tags": []
   },
   "outputs": [],
   "source": [
    "example_universe = universe.copy()\n",
    "universe_training_size = example_universe.get(\"training_size\")\n",
    "universe_scale = example_universe.get(\"scale\")\n",
    "universe_model = example_universe.get(\"model\")\n",
    "universe_exclude_features = example_universe.get(\"exclude_features\")\n",
    "universe_exclude_subgroups = example_universe.get(\"exclude_subgroups\")"
   ]
  },
  {
   "cell_type": "code",
   "execution_count": 51,
   "id": "f4b6a8ac-9dc0-4245-8a91-5b3b5999c4f9",
   "metadata": {
    "execution": {
     "iopub.execute_input": "2025-07-28T11:21:04.106779Z",
     "iopub.status.busy": "2025-07-28T11:21:04.106083Z",
     "iopub.status.idle": "2025-07-28T11:21:04.113544Z",
     "shell.execute_reply": "2025-07-28T11:21:04.112594Z"
    },
    "papermill": {
     "duration": 0.03278,
     "end_time": "2025-07-28T11:21:04.115246",
     "exception": false,
     "start_time": "2025-07-28T11:21:04.082466",
     "status": "completed"
    },
    "tags": []
   },
   "outputs": [],
   "source": [
    "cp_metrics_dict = {\n",
    "    \"universe_id\": [universe_id],\n",
    "    \"universe_training_size\": [universe_training_size],\n",
    "    \"universe_scale\": [universe_scale],\n",
    "    \"universe_model\": [universe_model],\n",
    "    \"universe_exclude_features\": [universe_exclude_features],\n",
    "    \"universe_exclude_subgroups\": [universe_exclude_subgroups],\n",
    "    \"q_hat\": [q_hat],\n",
    "    \"coverage\": [metrics[\"coverage\"]],\n",
    "    \"avg_size\": [metrics[\"avg_size\"]],\n",
    "}"
   ]
  },
  {
   "cell_type": "code",
   "execution_count": 52,
   "id": "908acbb1-0371-4915-85ca-3fa520d2efe2",
   "metadata": {
    "execution": {
     "iopub.execute_input": "2025-07-28T11:21:04.162431Z",
     "iopub.status.busy": "2025-07-28T11:21:04.161736Z",
     "iopub.status.idle": "2025-07-28T11:21:04.169399Z",
     "shell.execute_reply": "2025-07-28T11:21:04.168451Z"
    },
    "papermill": {
     "duration": 0.032982,
     "end_time": "2025-07-28T11:21:04.170970",
     "exception": false,
     "start_time": "2025-07-28T11:21:04.137988",
     "status": "completed"
    },
    "tags": []
   },
   "outputs": [
    {
     "data": {
      "text/plain": [
       "{'universe_id': ['207f5e4aef489964978b2454b30dedbe'],\n",
       " 'universe_training_size': ['2014'],\n",
       " 'universe_scale': ['do-not-scale'],\n",
       " 'universe_model': ['elasticnet'],\n",
       " 'universe_exclude_features': ['nationality'],\n",
       " 'universe_exclude_subgroups': ['drop-non-german'],\n",
       " 'q_hat': [0.6892146694557386],\n",
       " 'coverage': [0.911470293166871],\n",
       " 'avg_size': [1.1320588563147922]}"
      ]
     },
     "execution_count": 52,
     "metadata": {},
     "output_type": "execute_result"
    }
   ],
   "source": [
    "cp_metrics_dict"
   ]
  },
  {
   "cell_type": "code",
   "execution_count": 53,
   "id": "33007efc-14e9-4ec6-97ac-56a455c82265",
   "metadata": {
    "execution": {
     "iopub.execute_input": "2025-07-28T11:21:04.218473Z",
     "iopub.status.busy": "2025-07-28T11:21:04.217830Z",
     "iopub.status.idle": "2025-07-28T11:21:04.224613Z",
     "shell.execute_reply": "2025-07-28T11:21:04.223716Z"
    },
    "papermill": {
     "duration": 0.032105,
     "end_time": "2025-07-28T11:21:04.226113",
     "exception": false,
     "start_time": "2025-07-28T11:21:04.194008",
     "status": "completed"
    },
    "tags": []
   },
   "outputs": [],
   "source": [
    "cp_metrics_df = pd.DataFrame(cp_metrics_dict)"
   ]
  },
  {
   "cell_type": "code",
   "execution_count": 54,
   "id": "db12611b-57b2-4910-b9d0-355adfd6e7bf",
   "metadata": {
    "execution": {
     "iopub.execute_input": "2025-07-28T11:21:04.274059Z",
     "iopub.status.busy": "2025-07-28T11:21:04.273419Z",
     "iopub.status.idle": "2025-07-28T11:21:04.292083Z",
     "shell.execute_reply": "2025-07-28T11:21:04.291173Z"
    },
    "papermill": {
     "duration": 0.044684,
     "end_time": "2025-07-28T11:21:04.293728",
     "exception": false,
     "start_time": "2025-07-28T11:21:04.249044",
     "status": "completed"
    },
    "tags": []
   },
   "outputs": [
    {
     "data": {
      "text/html": [
       "<div>\n",
       "<style scoped>\n",
       "    .dataframe tbody tr th:only-of-type {\n",
       "        vertical-align: middle;\n",
       "    }\n",
       "\n",
       "    .dataframe tbody tr th {\n",
       "        vertical-align: top;\n",
       "    }\n",
       "\n",
       "    .dataframe thead th {\n",
       "        text-align: right;\n",
       "    }\n",
       "</style>\n",
       "<table border=\"1\" class=\"dataframe\">\n",
       "  <thead>\n",
       "    <tr style=\"text-align: right;\">\n",
       "      <th></th>\n",
       "      <th>universe_id</th>\n",
       "      <th>universe_training_size</th>\n",
       "      <th>universe_scale</th>\n",
       "      <th>universe_model</th>\n",
       "      <th>universe_exclude_features</th>\n",
       "      <th>universe_exclude_subgroups</th>\n",
       "      <th>q_hat</th>\n",
       "      <th>coverage</th>\n",
       "      <th>avg_size</th>\n",
       "    </tr>\n",
       "  </thead>\n",
       "  <tbody>\n",
       "    <tr>\n",
       "      <th>0</th>\n",
       "      <td>207f5e4aef489964978b2454b30dedbe</td>\n",
       "      <td>2014</td>\n",
       "      <td>do-not-scale</td>\n",
       "      <td>elasticnet</td>\n",
       "      <td>nationality</td>\n",
       "      <td>drop-non-german</td>\n",
       "      <td>0.689215</td>\n",
       "      <td>0.91147</td>\n",
       "      <td>1.132059</td>\n",
       "    </tr>\n",
       "  </tbody>\n",
       "</table>\n",
       "</div>"
      ],
      "text/plain": [
       "                        universe_id universe_training_size universe_scale  \\\n",
       "0  207f5e4aef489964978b2454b30dedbe                   2014   do-not-scale   \n",
       "\n",
       "  universe_model universe_exclude_features universe_exclude_subgroups  \\\n",
       "0     elasticnet               nationality            drop-non-german   \n",
       "\n",
       "      q_hat  coverage  avg_size  \n",
       "0  0.689215   0.91147  1.132059  "
      ]
     },
     "execution_count": 54,
     "metadata": {},
     "output_type": "execute_result"
    }
   ],
   "source": [
    "cp_metrics_df"
   ]
  },
  {
   "cell_type": "code",
   "execution_count": 55,
   "id": "b7fbde55-a0a1-47e4-9af6-fe4a17fa8c61",
   "metadata": {
    "execution": {
     "iopub.execute_input": "2025-07-28T11:21:04.342310Z",
     "iopub.status.busy": "2025-07-28T11:21:04.341433Z",
     "iopub.status.idle": "2025-07-28T11:21:04.346641Z",
     "shell.execute_reply": "2025-07-28T11:21:04.345711Z"
    },
    "papermill": {
     "duration": 0.030951,
     "end_time": "2025-07-28T11:21:04.348323",
     "exception": false,
     "start_time": "2025-07-28T11:21:04.317372",
     "status": "completed"
    },
    "tags": []
   },
   "outputs": [],
   "source": [
    "# Conditional Coverage & looking at subgroups"
   ]
  },
  {
   "cell_type": "code",
   "execution_count": 56,
   "id": "027ae886-68dd-4141-96c7-805a5450e1ef",
   "metadata": {
    "execution": {
     "iopub.execute_input": "2025-07-28T11:21:04.396210Z",
     "iopub.status.busy": "2025-07-28T11:21:04.395523Z",
     "iopub.status.idle": "2025-07-28T11:21:04.658844Z",
     "shell.execute_reply": "2025-07-28T11:21:04.657911Z"
    },
    "papermill": {
     "duration": 0.289139,
     "end_time": "2025-07-28T11:21:04.660655",
     "exception": false,
     "start_time": "2025-07-28T11:21:04.371516",
     "status": "completed"
    },
    "tags": []
   },
   "outputs": [],
   "source": [
    "from fairness_multiverse.conformal import build_cp_groups\n",
    "\n",
    "cp_groups_df = build_cp_groups(pred_sets, y_true, X_test.index, org_test)\n",
    "#needs universe_id and setting"
   ]
  },
  {
   "cell_type": "code",
   "execution_count": 57,
   "id": "01d5802c-663a-4d1f-9d69-e036faaffbf7",
   "metadata": {
    "execution": {
     "iopub.execute_input": "2025-07-28T11:21:04.709870Z",
     "iopub.status.busy": "2025-07-28T11:21:04.709214Z",
     "iopub.status.idle": "2025-07-28T11:21:04.713902Z",
     "shell.execute_reply": "2025-07-28T11:21:04.712938Z"
    },
    "papermill": {
     "duration": 0.0311,
     "end_time": "2025-07-28T11:21:04.715543",
     "exception": false,
     "start_time": "2025-07-28T11:21:04.684443",
     "status": "completed"
    },
    "tags": []
   },
   "outputs": [],
   "source": [
    "#delete\n",
    "#cp_groups_df"
   ]
  },
  {
   "cell_type": "code",
   "execution_count": 58,
   "id": "fa424af1-d1eb-443d-b717-2d279ada8408",
   "metadata": {
    "execution": {
     "iopub.execute_input": "2025-07-28T11:21:04.764066Z",
     "iopub.status.busy": "2025-07-28T11:21:04.763396Z",
     "iopub.status.idle": "2025-07-28T11:21:04.768433Z",
     "shell.execute_reply": "2025-07-28T11:21:04.767491Z"
    },
    "papermill": {
     "duration": 0.030833,
     "end_time": "2025-07-28T11:21:04.769936",
     "exception": false,
     "start_time": "2025-07-28T11:21:04.739103",
     "status": "completed"
    },
    "tags": []
   },
   "outputs": [],
   "source": [
    "#delete\n",
    "#percentage = (cp_groups_df['nongerman_female'] == 1).mean() * 100\n",
    "#print(percentage)\n"
   ]
  },
  {
   "cell_type": "code",
   "execution_count": 59,
   "id": "6cbdab96-b2b2-45af-ad54-d0516db2e28d",
   "metadata": {
    "execution": {
     "iopub.execute_input": "2025-07-28T11:21:04.817991Z",
     "iopub.status.busy": "2025-07-28T11:21:04.817315Z",
     "iopub.status.idle": "2025-07-28T11:21:06.441549Z",
     "shell.execute_reply": "2025-07-28T11:21:06.440606Z"
    },
    "papermill": {
     "duration": 1.650469,
     "end_time": "2025-07-28T11:21:06.443518",
     "exception": false,
     "start_time": "2025-07-28T11:21:04.793049",
     "status": "completed"
    },
    "tags": []
   },
   "outputs": [],
   "source": [
    "# Define covered = 1 if true_label is in the predicted set\n",
    "cp_groups_df['covered'] = cp_groups_df.apply(\n",
    "    lambda r: int(r['true_label'] in r['pred_set']),\n",
    "    axis=1\n",
    ")"
   ]
  },
  {
   "cell_type": "code",
   "execution_count": 60,
   "id": "338ff529-1a6b-4b87-a931-8e4788d52aad",
   "metadata": {
    "execution": {
     "iopub.execute_input": "2025-07-28T11:21:06.494526Z",
     "iopub.status.busy": "2025-07-28T11:21:06.494064Z",
     "iopub.status.idle": "2025-07-28T11:21:06.498934Z",
     "shell.execute_reply": "2025-07-28T11:21:06.498113Z"
    },
    "papermill": {
     "duration": 0.03173,
     "end_time": "2025-07-28T11:21:06.500533",
     "exception": false,
     "start_time": "2025-07-28T11:21:06.468803",
     "status": "completed"
    },
    "tags": []
   },
   "outputs": [],
   "source": [
    "#cp_groups_df"
   ]
  },
  {
   "cell_type": "code",
   "execution_count": 61,
   "id": "90032e27-66df-4540-9169-4e89cfbaa758",
   "metadata": {
    "execution": {
     "iopub.execute_input": "2025-07-28T11:21:06.550670Z",
     "iopub.status.busy": "2025-07-28T11:21:06.549975Z",
     "iopub.status.idle": "2025-07-28T11:21:06.562316Z",
     "shell.execute_reply": "2025-07-28T11:21:06.561462Z"
    },
    "papermill": {
     "duration": 0.039368,
     "end_time": "2025-07-28T11:21:06.563858",
     "exception": false,
     "start_time": "2025-07-28T11:21:06.524490",
     "status": "completed"
    },
    "tags": []
   },
   "outputs": [],
   "source": [
    "subgroups = ['frau1','nongerman','nongerman_male','nongerman_female']\n",
    "\n",
    "# Conditional coverage for subgroup==1\n",
    "cond_coverage = {\n",
    "    g: cp_groups_df.loc[cp_groups_df[g]==1, 'covered'].mean()\n",
    "    for g in subgroups\n",
    "}"
   ]
  },
  {
   "cell_type": "code",
   "execution_count": 62,
   "id": "1e348fb1-b9c3-45bc-ba23-f016827a7e0d",
   "metadata": {
    "execution": {
     "iopub.execute_input": "2025-07-28T11:21:06.614150Z",
     "iopub.status.busy": "2025-07-28T11:21:06.613461Z",
     "iopub.status.idle": "2025-07-28T11:21:06.620835Z",
     "shell.execute_reply": "2025-07-28T11:21:06.619965Z"
    },
    "papermill": {
     "duration": 0.034378,
     "end_time": "2025-07-28T11:21:06.622306",
     "exception": false,
     "start_time": "2025-07-28T11:21:06.587928",
     "status": "completed"
    },
    "tags": []
   },
   "outputs": [
    {
     "data": {
      "text/plain": [
       "{'frau1': 0.9105270252055533,\n",
       " 'nongerman': 0.9068657721888509,\n",
       " 'nongerman_male': 0.9227235882194001,\n",
       " 'nongerman_female': 0.8806259314456035}"
      ]
     },
     "execution_count": 62,
     "metadata": {},
     "output_type": "execute_result"
    }
   ],
   "source": [
    "cond_coverage"
   ]
  },
  {
   "cell_type": "code",
   "execution_count": 63,
   "id": "f5093324-c3dd-4d63-bc4c-8d945e5c8bbb",
   "metadata": {
    "execution": {
     "iopub.execute_input": "2025-07-28T11:21:06.672957Z",
     "iopub.status.busy": "2025-07-28T11:21:06.672267Z",
     "iopub.status.idle": "2025-07-28T11:21:06.680370Z",
     "shell.execute_reply": "2025-07-28T11:21:06.679390Z"
    },
    "papermill": {
     "duration": 0.035376,
     "end_time": "2025-07-28T11:21:06.681880",
     "exception": false,
     "start_time": "2025-07-28T11:21:06.646504",
     "status": "completed"
    },
    "tags": []
   },
   "outputs": [],
   "source": [
    "for subgroup, cov in cond_coverage.items():\n",
    "    cp_metrics_df[f\"cov_{subgroup}\"] = cov"
   ]
  },
  {
   "cell_type": "code",
   "execution_count": 64,
   "id": "6e872e10-dbe5-49e8-b554-5030c98ff75d",
   "metadata": {
    "execution": {
     "iopub.execute_input": "2025-07-28T11:21:06.732000Z",
     "iopub.status.busy": "2025-07-28T11:21:06.731329Z",
     "iopub.status.idle": "2025-07-28T11:21:06.750331Z",
     "shell.execute_reply": "2025-07-28T11:21:06.749400Z"
    },
    "papermill": {
     "duration": 0.046115,
     "end_time": "2025-07-28T11:21:06.752059",
     "exception": false,
     "start_time": "2025-07-28T11:21:06.705944",
     "status": "completed"
    },
    "tags": []
   },
   "outputs": [
    {
     "data": {
      "text/html": [
       "<div>\n",
       "<style scoped>\n",
       "    .dataframe tbody tr th:only-of-type {\n",
       "        vertical-align: middle;\n",
       "    }\n",
       "\n",
       "    .dataframe tbody tr th {\n",
       "        vertical-align: top;\n",
       "    }\n",
       "\n",
       "    .dataframe thead th {\n",
       "        text-align: right;\n",
       "    }\n",
       "</style>\n",
       "<table border=\"1\" class=\"dataframe\">\n",
       "  <thead>\n",
       "    <tr style=\"text-align: right;\">\n",
       "      <th></th>\n",
       "      <th>universe_id</th>\n",
       "      <th>universe_training_size</th>\n",
       "      <th>universe_scale</th>\n",
       "      <th>universe_model</th>\n",
       "      <th>universe_exclude_features</th>\n",
       "      <th>universe_exclude_subgroups</th>\n",
       "      <th>q_hat</th>\n",
       "      <th>coverage</th>\n",
       "      <th>avg_size</th>\n",
       "      <th>cov_frau1</th>\n",
       "      <th>cov_nongerman</th>\n",
       "      <th>cov_nongerman_male</th>\n",
       "      <th>cov_nongerman_female</th>\n",
       "    </tr>\n",
       "  </thead>\n",
       "  <tbody>\n",
       "    <tr>\n",
       "      <th>0</th>\n",
       "      <td>207f5e4aef489964978b2454b30dedbe</td>\n",
       "      <td>2014</td>\n",
       "      <td>do-not-scale</td>\n",
       "      <td>elasticnet</td>\n",
       "      <td>nationality</td>\n",
       "      <td>drop-non-german</td>\n",
       "      <td>0.689215</td>\n",
       "      <td>0.91147</td>\n",
       "      <td>1.132059</td>\n",
       "      <td>0.910527</td>\n",
       "      <td>0.906866</td>\n",
       "      <td>0.922724</td>\n",
       "      <td>0.880626</td>\n",
       "    </tr>\n",
       "  </tbody>\n",
       "</table>\n",
       "</div>"
      ],
      "text/plain": [
       "                        universe_id universe_training_size universe_scale  \\\n",
       "0  207f5e4aef489964978b2454b30dedbe                   2014   do-not-scale   \n",
       "\n",
       "  universe_model universe_exclude_features universe_exclude_subgroups  \\\n",
       "0     elasticnet               nationality            drop-non-german   \n",
       "\n",
       "      q_hat  coverage  avg_size  cov_frau1  cov_nongerman  cov_nongerman_male  \\\n",
       "0  0.689215   0.91147  1.132059   0.910527       0.906866            0.922724   \n",
       "\n",
       "   cov_nongerman_female  \n",
       "0              0.880626  "
      ]
     },
     "execution_count": 64,
     "metadata": {},
     "output_type": "execute_result"
    }
   ],
   "source": [
    "cp_metrics_df"
   ]
  },
  {
   "cell_type": "markdown",
   "id": "33774451",
   "metadata": {
    "papermill": {
     "duration": 0.024277,
     "end_time": "2025-07-28T11:21:06.801478",
     "exception": false,
     "start_time": "2025-07-28T11:21:06.777201",
     "status": "completed"
    },
    "tags": []
   },
   "source": [
    "# (Fairness) Metrics"
   ]
  },
  {
   "cell_type": "code",
   "execution_count": 65,
   "id": "debc5d62",
   "metadata": {
    "execution": {
     "iopub.execute_input": "2025-07-28T11:21:06.851586Z",
     "iopub.status.busy": "2025-07-28T11:21:06.850981Z",
     "iopub.status.idle": "2025-07-28T11:21:06.874124Z",
     "shell.execute_reply": "2025-07-28T11:21:06.873242Z"
    },
    "papermill": {
     "duration": 0.049997,
     "end_time": "2025-07-28T11:21:06.875690",
     "exception": false,
     "start_time": "2025-07-28T11:21:06.825693",
     "status": "completed"
    },
    "tags": []
   },
   "outputs": [],
   "source": [
    "# do I need to include maxdeutsch1.missing?\n",
    "\n",
    "import numpy as np\n",
    "\n",
    "colname_to_bin = \"maxdeutsch1\"\n",
    "majority_value = org_train[colname_to_bin].mode()[0]\n",
    "\n",
    "org_test[\"majmin\"] = np.where(org_test[colname_to_bin] == majority_value, \"majority\", \"minority\")"
   ]
  },
  {
   "cell_type": "code",
   "execution_count": 66,
   "id": "06a50de5",
   "metadata": {
    "execution": {
     "iopub.execute_input": "2025-07-28T11:21:06.926549Z",
     "iopub.status.busy": "2025-07-28T11:21:06.925880Z",
     "iopub.status.idle": "2025-07-28T11:21:09.985607Z",
     "shell.execute_reply": "2025-07-28T11:21:09.984747Z"
    },
    "papermill": {
     "duration": 3.086598,
     "end_time": "2025-07-28T11:21:09.987091",
     "exception": false,
     "start_time": "2025-07-28T11:21:06.900493",
     "status": "completed"
    },
    "tags": []
   },
   "outputs": [],
   "source": [
    "example_universe = universe.copy()\n",
    "example_universe[\"cutoff\"] = example_universe[\"cutoff\"][0]\n",
    "example_universe[\"eval_fairness_grouping\"] = example_universe[\"eval_fairness_grouping\"][0]\n",
    "fairness_dict, metric_frame = universe_analysis.compute_metrics(\n",
    "    example_universe,\n",
    "    y_pred_prob=probs_test,\n",
    "    y_test=y_true,\n",
    "    org_test=org_test,\n",
    ")"
   ]
  },
  {
   "cell_type": "markdown",
   "id": "f95d4e02",
   "metadata": {
    "papermill": {
     "duration": 0.013361,
     "end_time": "2025-07-28T11:21:10.014705",
     "exception": false,
     "start_time": "2025-07-28T11:21:10.001344",
     "status": "completed"
    },
    "tags": []
   },
   "source": [
    "# Overall"
   ]
  },
  {
   "cell_type": "markdown",
   "id": "bdee4871",
   "metadata": {
    "papermill": {
     "duration": 0.029206,
     "end_time": "2025-07-28T11:21:10.069702",
     "exception": false,
     "start_time": "2025-07-28T11:21:10.040496",
     "status": "completed"
    },
    "tags": []
   },
   "source": [
    "Fairness\n",
    "Main fairness target: Equalized Odds. Seems to be a better fit than equal opportunity, since we're not only interested in Y = 1. Seems to be a better fit than demographic parity, since we also care about accuracy, not just equal distribution of preds.\n",
    "\n",
    "Pick column for computation of fairness metrics\n",
    "\n",
    "Performance\n",
    "Overall performance measures, most interesting in relation to the measures split by group below"
   ]
  },
  {
   "cell_type": "code",
   "execution_count": 67,
   "id": "c4e067c6",
   "metadata": {
    "execution": {
     "iopub.execute_input": "2025-07-28T11:21:10.128666Z",
     "iopub.status.busy": "2025-07-28T11:21:10.127729Z",
     "iopub.status.idle": "2025-07-28T11:21:10.136798Z",
     "shell.execute_reply": "2025-07-28T11:21:10.135815Z"
    },
    "papermill": {
     "duration": 0.040048,
     "end_time": "2025-07-28T11:21:10.138290",
     "exception": false,
     "start_time": "2025-07-28T11:21:10.098242",
     "status": "completed"
    },
    "tags": []
   },
   "outputs": [
    {
     "data": {
      "text/plain": [
       "accuracy                   0.221413\n",
       "balanced accuracy          0.542007\n",
       "f1                         0.242826\n",
       "precision                  0.138719\n",
       "false positive rate        0.889223\n",
       "false negative rate        0.026764\n",
       "selection rate             0.900000\n",
       "count                  89710.000000\n",
       "dtype: float64"
      ]
     },
     "execution_count": 67,
     "metadata": {},
     "output_type": "execute_result"
    }
   ],
   "source": [
    "metric_frame.overall"
   ]
  },
  {
   "cell_type": "markdown",
   "id": "e968fe9d",
   "metadata": {
    "papermill": {
     "duration": 0.030531,
     "end_time": "2025-07-28T11:21:10.196368",
     "exception": false,
     "start_time": "2025-07-28T11:21:10.165837",
     "status": "completed"
    },
    "tags": []
   },
   "source": [
    "By Group"
   ]
  },
  {
   "cell_type": "code",
   "execution_count": 68,
   "id": "ec325bce",
   "metadata": {
    "execution": {
     "iopub.execute_input": "2025-07-28T11:21:10.254084Z",
     "iopub.status.busy": "2025-07-28T11:21:10.253705Z",
     "iopub.status.idle": "2025-07-28T11:21:10.270015Z",
     "shell.execute_reply": "2025-07-28T11:21:10.269227Z"
    },
    "papermill": {
     "duration": 0.04306,
     "end_time": "2025-07-28T11:21:10.271267",
     "exception": false,
     "start_time": "2025-07-28T11:21:10.228207",
     "status": "completed"
    },
    "tags": []
   },
   "outputs": [
    {
     "data": {
      "text/html": [
       "<div>\n",
       "<style scoped>\n",
       "    .dataframe tbody tr th:only-of-type {\n",
       "        vertical-align: middle;\n",
       "    }\n",
       "\n",
       "    .dataframe tbody tr th {\n",
       "        vertical-align: top;\n",
       "    }\n",
       "\n",
       "    .dataframe thead th {\n",
       "        text-align: right;\n",
       "    }\n",
       "</style>\n",
       "<table border=\"1\" class=\"dataframe\">\n",
       "  <thead>\n",
       "    <tr style=\"text-align: right;\">\n",
       "      <th></th>\n",
       "      <th>accuracy</th>\n",
       "      <th>balanced accuracy</th>\n",
       "      <th>f1</th>\n",
       "      <th>precision</th>\n",
       "      <th>false positive rate</th>\n",
       "      <th>false negative rate</th>\n",
       "      <th>selection rate</th>\n",
       "      <th>count</th>\n",
       "    </tr>\n",
       "    <tr>\n",
       "      <th>majmin</th>\n",
       "      <th></th>\n",
       "      <th></th>\n",
       "      <th></th>\n",
       "      <th></th>\n",
       "      <th></th>\n",
       "      <th></th>\n",
       "      <th></th>\n",
       "      <th></th>\n",
       "    </tr>\n",
       "  </thead>\n",
       "  <tbody>\n",
       "    <tr>\n",
       "      <th>majority</th>\n",
       "      <td>0.243328</td>\n",
       "      <td>0.551399</td>\n",
       "      <td>0.253079</td>\n",
       "      <td>0.145520</td>\n",
       "      <td>0.867333</td>\n",
       "      <td>0.029869</td>\n",
       "      <td>0.880917</td>\n",
       "      <td>69170.0</td>\n",
       "    </tr>\n",
       "    <tr>\n",
       "      <th>minority</th>\n",
       "      <td>0.147614</td>\n",
       "      <td>0.511843</td>\n",
       "      <td>0.210427</td>\n",
       "      <td>0.117793</td>\n",
       "      <td>0.961534</td>\n",
       "      <td>0.014780</td>\n",
       "      <td>0.964265</td>\n",
       "      <td>20540.0</td>\n",
       "    </tr>\n",
       "  </tbody>\n",
       "</table>\n",
       "</div>"
      ],
      "text/plain": [
       "          accuracy  balanced accuracy        f1  precision  \\\n",
       "majmin                                                       \n",
       "majority  0.243328           0.551399  0.253079   0.145520   \n",
       "minority  0.147614           0.511843  0.210427   0.117793   \n",
       "\n",
       "          false positive rate  false negative rate  selection rate    count  \n",
       "majmin                                                                       \n",
       "majority             0.867333             0.029869        0.880917  69170.0  \n",
       "minority             0.961534             0.014780        0.964265  20540.0  "
      ]
     },
     "execution_count": 68,
     "metadata": {},
     "output_type": "execute_result"
    }
   ],
   "source": [
    "metric_frame.by_group"
   ]
  },
  {
   "cell_type": "code",
   "execution_count": 69,
   "id": "a9ddbe63",
   "metadata": {
    "execution": {
     "iopub.execute_input": "2025-07-28T11:21:10.301931Z",
     "iopub.status.busy": "2025-07-28T11:21:10.301401Z",
     "iopub.status.idle": "2025-07-28T11:21:12.353012Z",
     "shell.execute_reply": "2025-07-28T11:21:12.351978Z"
    },
    "papermill": {
     "duration": 2.068043,
     "end_time": "2025-07-28T11:21:12.354328",
     "exception": false,
     "start_time": "2025-07-28T11:21:10.286285",
     "status": "completed"
    },
    "tags": []
   },
   "outputs": [
    {
     "data": {
      "text/plain": [
       "array([[<Axes: title={'center': 'accuracy'}, xlabel='majmin'>,\n",
       "        <Axes: title={'center': 'balanced accuracy'}, xlabel='majmin'>,\n",
       "        <Axes: title={'center': 'f1'}, xlabel='majmin'>],\n",
       "       [<Axes: title={'center': 'precision'}, xlabel='majmin'>,\n",
       "        <Axes: title={'center': 'false positive rate'}, xlabel='majmin'>,\n",
       "        <Axes: title={'center': 'false negative rate'}, xlabel='majmin'>],\n",
       "       [<Axes: title={'center': 'selection rate'}, xlabel='majmin'>,\n",
       "        <Axes: title={'center': 'count'}, xlabel='majmin'>,\n",
       "        <Axes: xlabel='majmin'>]], dtype=object)"
      ]
     },
     "execution_count": 69,
     "metadata": {},
     "output_type": "execute_result"
    },
    {
     "data": {
      "image/png": "[encoded data removed]",
      "text/plain": [
       "<Figure size 1200x800 with 9 Axes>"
      ]
     },
     "metadata": {},
     "output_type": "display_data"
    }
   ],
   "source": [
    "# In a graphic\n",
    "metric_frame.by_group.plot.bar(\n",
    "    subplots=True,\n",
    "    layout=[3, 3],\n",
    "    legend=False,\n",
    "    figsize=[12, 8],\n",
    "    title=\"Show all metrics\",\n",
    ")"
   ]
  },
  {
   "cell_type": "markdown",
   "id": "f57a0bac",
   "metadata": {
    "papermill": {
     "duration": 0.026862,
     "end_time": "2025-07-28T11:21:12.413191",
     "exception": false,
     "start_time": "2025-07-28T11:21:12.386329",
     "status": "completed"
    },
    "tags": []
   },
   "source": [
    "# Final Output"
   ]
  },
  {
   "cell_type": "code",
   "execution_count": 70,
   "id": "96d280a3",
   "metadata": {
    "execution": {
     "iopub.execute_input": "2025-07-28T11:21:12.460297Z",
     "iopub.status.busy": "2025-07-28T11:21:12.459691Z",
     "iopub.status.idle": "2025-07-28T11:21:12.467559Z",
     "shell.execute_reply": "2025-07-28T11:21:12.466809Z"
    },
    "papermill": {
     "duration": 0.02637,
     "end_time": "2025-07-28T11:21:12.468944",
     "exception": false,
     "start_time": "2025-07-28T11:21:12.442574",
     "status": "completed"
    },
    "tags": []
   },
   "outputs": [
    {
     "data": {
      "text/plain": [
       "4"
      ]
     },
     "execution_count": 70,
     "metadata": {},
     "output_type": "execute_result"
    }
   ],
   "source": [
    "sub_universes = universe_analysis.generate_sub_universes()\n",
    "len(sub_universes)"
   ]
  },
  {
   "cell_type": "code",
   "execution_count": 71,
   "id": "92adf7ba",
   "metadata": {
    "execution": {
     "iopub.execute_input": "2025-07-28T11:21:12.511342Z",
     "iopub.status.busy": "2025-07-28T11:21:12.510927Z",
     "iopub.status.idle": "2025-07-28T11:21:12.517511Z",
     "shell.execute_reply": "2025-07-28T11:21:12.516525Z"
    },
    "papermill": {
     "duration": 0.035133,
     "end_time": "2025-07-28T11:21:12.519288",
     "exception": false,
     "start_time": "2025-07-28T11:21:12.484155",
     "status": "completed"
    },
    "tags": []
   },
   "outputs": [],
   "source": [
    "def filter_sub_universe_data(sub_universe, org_test):\n",
    "    # Keep all rows — no filtering\n",
    "    keep_rows_mask = np.ones(org_test.shape[0], dtype=bool)\n",
    "\n",
    "    print(f\"[INFO] Keeping all rows: {keep_rows_mask.sum()} rows retained.\")\n",
    "    return keep_rows_mask"
   ]
  },
  {
   "cell_type": "code",
   "execution_count": 72,
   "id": "4a759155",
   "metadata": {
    "execution": {
     "iopub.execute_input": "2025-07-28T11:21:12.559611Z",
     "iopub.status.busy": "2025-07-28T11:21:12.559197Z",
     "iopub.status.idle": "2025-07-28T11:21:18.705736Z",
     "shell.execute_reply": "2025-07-28T11:21:18.704888Z"
    },
    "papermill": {
     "duration": 6.163861,
     "end_time": "2025-07-28T11:21:18.707082",
     "exception": false,
     "start_time": "2025-07-28T11:21:12.543221",
     "status": "completed"
    },
    "tags": []
   },
   "outputs": [
    {
     "name": "stdout",
     "output_type": "stream",
     "text": [
      "Stopping execution_time clock.\n",
      "[INFO] Keeping all rows: 89710 rows retained.\n"
     ]
    },
    {
     "name": "stdout",
     "output_type": "stream",
     "text": [
      "[INFO] Keeping all rows: 89710 rows retained.\n"
     ]
    },
    {
     "name": "stdout",
     "output_type": "stream",
     "text": [
      "[INFO] Keeping all rows: 89710 rows retained.\n"
     ]
    },
    {
     "name": "stdout",
     "output_type": "stream",
     "text": [
      "[INFO] Keeping all rows: 89710 rows retained.\n"
     ]
    },
    {
     "data": {
      "text/html": [
       "<div>\n",
       "<style scoped>\n",
       "    .dataframe tbody tr th:only-of-type {\n",
       "        vertical-align: middle;\n",
       "    }\n",
       "\n",
       "    .dataframe tbody tr th {\n",
       "        vertical-align: top;\n",
       "    }\n",
       "\n",
       "    .dataframe thead th {\n",
       "        text-align: right;\n",
       "    }\n",
       "</style>\n",
       "<table border=\"1\" class=\"dataframe\">\n",
       "  <thead>\n",
       "    <tr style=\"text-align: right;\">\n",
       "      <th></th>\n",
       "      <th>run_no</th>\n",
       "      <th>universe_id</th>\n",
       "      <th>universe_settings</th>\n",
       "      <th>execution_time</th>\n",
       "      <th>test_size_n</th>\n",
       "      <th>test_size_frac</th>\n",
       "      <th>fair_main_equalized_odds_difference</th>\n",
       "      <th>fair_main_equalized_odds_ratio</th>\n",
       "      <th>fair_main_demographic_parity_difference</th>\n",
       "      <th>fair_main_demographic_parity_ratio</th>\n",
       "      <th>...</th>\n",
       "      <th>perf_grp_precision_0</th>\n",
       "      <th>perf_grp_precision_1</th>\n",
       "      <th>perf_grp_false positive rate_0</th>\n",
       "      <th>perf_grp_false positive rate_1</th>\n",
       "      <th>perf_grp_false negative rate_0</th>\n",
       "      <th>perf_grp_false negative rate_1</th>\n",
       "      <th>perf_grp_selection rate_0</th>\n",
       "      <th>perf_grp_selection rate_1</th>\n",
       "      <th>perf_grp_count_0</th>\n",
       "      <th>perf_grp_count_1</th>\n",
       "    </tr>\n",
       "  </thead>\n",
       "  <tbody>\n",
       "    <tr>\n",
       "      <th>0</th>\n",
       "      <td>11</td>\n",
       "      <td>207f5e4aef489964978b2454b30dedbe</td>\n",
       "      <td>{\"cutoff\": \"quantile_0.1\", \"eval_fairness_grou...</td>\n",
       "      <td>646.981741</td>\n",
       "      <td>89710</td>\n",
       "      <td>1.0</td>\n",
       "      <td>0.094201</td>\n",
       "      <td>0.902030</td>\n",
       "      <td>0.083348</td>\n",
       "      <td>0.913563</td>\n",
       "      <td>...</td>\n",
       "      <td>NaN</td>\n",
       "      <td>NaN</td>\n",
       "      <td>NaN</td>\n",
       "      <td>NaN</td>\n",
       "      <td>NaN</td>\n",
       "      <td>NaN</td>\n",
       "      <td>NaN</td>\n",
       "      <td>NaN</td>\n",
       "      <td>NaN</td>\n",
       "      <td>NaN</td>\n",
       "    </tr>\n",
       "    <tr>\n",
       "      <th>0</th>\n",
       "      <td>11</td>\n",
       "      <td>207f5e4aef489964978b2454b30dedbe</td>\n",
       "      <td>{\"cutoff\": \"quantile_0.1\", \"eval_fairness_grou...</td>\n",
       "      <td>646.981741</td>\n",
       "      <td>89710</td>\n",
       "      <td>1.0</td>\n",
       "      <td>0.094201</td>\n",
       "      <td>0.902030</td>\n",
       "      <td>0.083348</td>\n",
       "      <td>0.913563</td>\n",
       "      <td>...</td>\n",
       "      <td>0.117793</td>\n",
       "      <td>0.145520</td>\n",
       "      <td>0.961534</td>\n",
       "      <td>0.867333</td>\n",
       "      <td>0.014780</td>\n",
       "      <td>0.029869</td>\n",
       "      <td>0.964265</td>\n",
       "      <td>0.880917</td>\n",
       "      <td>20540.0</td>\n",
       "      <td>69170.0</td>\n",
       "    </tr>\n",
       "    <tr>\n",
       "      <th>0</th>\n",
       "      <td>11</td>\n",
       "      <td>207f5e4aef489964978b2454b30dedbe</td>\n",
       "      <td>{\"cutoff\": \"quantile_0.25\", \"eval_fairness_gro...</td>\n",
       "      <td>646.981741</td>\n",
       "      <td>89710</td>\n",
       "      <td>1.0</td>\n",
       "      <td>0.180488</td>\n",
       "      <td>0.791479</td>\n",
       "      <td>0.156854</td>\n",
       "      <td>0.819902</td>\n",
       "      <td>...</td>\n",
       "      <td>NaN</td>\n",
       "      <td>NaN</td>\n",
       "      <td>NaN</td>\n",
       "      <td>NaN</td>\n",
       "      <td>NaN</td>\n",
       "      <td>NaN</td>\n",
       "      <td>NaN</td>\n",
       "      <td>NaN</td>\n",
       "      <td>NaN</td>\n",
       "      <td>NaN</td>\n",
       "    </tr>\n",
       "    <tr>\n",
       "      <th>0</th>\n",
       "      <td>11</td>\n",
       "      <td>207f5e4aef489964978b2454b30dedbe</td>\n",
       "      <td>{\"cutoff\": \"quantile_0.25\", \"eval_fairness_gro...</td>\n",
       "      <td>646.981741</td>\n",
       "      <td>89710</td>\n",
       "      <td>1.0</td>\n",
       "      <td>0.180488</td>\n",
       "      <td>0.791479</td>\n",
       "      <td>0.156854</td>\n",
       "      <td>0.819902</td>\n",
       "      <td>...</td>\n",
       "      <td>0.120745</td>\n",
       "      <td>0.167392</td>\n",
       "      <td>0.865562</td>\n",
       "      <td>0.685074</td>\n",
       "      <td>0.087838</td>\n",
       "      <td>0.095405</td>\n",
       "      <td>0.870935</td>\n",
       "      <td>0.714081</td>\n",
       "      <td>20540.0</td>\n",
       "      <td>69170.0</td>\n",
       "    </tr>\n",
       "  </tbody>\n",
       "</table>\n",
       "<p>4 rows × 50 columns</p>\n",
       "</div>"
      ],
      "text/plain": [
       "  run_no                       universe_id  \\\n",
       "0     11  207f5e4aef489964978b2454b30dedbe   \n",
       "0     11  207f5e4aef489964978b2454b30dedbe   \n",
       "0     11  207f5e4aef489964978b2454b30dedbe   \n",
       "0     11  207f5e4aef489964978b2454b30dedbe   \n",
       "\n",
       "                                   universe_settings  execution_time  \\\n",
       "0  {\"cutoff\": \"quantile_0.1\", \"eval_fairness_grou...      646.981741   \n",
       "0  {\"cutoff\": \"quantile_0.1\", \"eval_fairness_grou...      646.981741   \n",
       "0  {\"cutoff\": \"quantile_0.25\", \"eval_fairness_gro...      646.981741   \n",
       "0  {\"cutoff\": \"quantile_0.25\", \"eval_fairness_gro...      646.981741   \n",
       "\n",
       "   test_size_n  test_size_frac  fair_main_equalized_odds_difference  \\\n",
       "0        89710             1.0                             0.094201   \n",
       "0        89710             1.0                             0.094201   \n",
       "0        89710             1.0                             0.180488   \n",
       "0        89710             1.0                             0.180488   \n",
       "\n",
       "   fair_main_equalized_odds_ratio  fair_main_demographic_parity_difference  \\\n",
       "0                        0.902030                                 0.083348   \n",
       "0                        0.902030                                 0.083348   \n",
       "0                        0.791479                                 0.156854   \n",
       "0                        0.791479                                 0.156854   \n",
       "\n",
       "   fair_main_demographic_parity_ratio  ...  perf_grp_precision_0  \\\n",
       "0                            0.913563  ...                   NaN   \n",
       "0                            0.913563  ...              0.117793   \n",
       "0                            0.819902  ...                   NaN   \n",
       "0                            0.819902  ...              0.120745   \n",
       "\n",
       "   perf_grp_precision_1  perf_grp_false positive rate_0  \\\n",
       "0                   NaN                             NaN   \n",
       "0              0.145520                        0.961534   \n",
       "0                   NaN                             NaN   \n",
       "0              0.167392                        0.865562   \n",
       "\n",
       "   perf_grp_false positive rate_1  perf_grp_false negative rate_0  \\\n",
       "0                             NaN                             NaN   \n",
       "0                        0.867333                        0.014780   \n",
       "0                             NaN                             NaN   \n",
       "0                        0.685074                        0.087838   \n",
       "\n",
       "   perf_grp_false negative rate_1  perf_grp_selection rate_0  \\\n",
       "0                             NaN                        NaN   \n",
       "0                        0.029869                   0.964265   \n",
       "0                             NaN                        NaN   \n",
       "0                        0.095405                   0.870935   \n",
       "\n",
       "   perf_grp_selection rate_1  perf_grp_count_0  perf_grp_count_1  \n",
       "0                        NaN               NaN               NaN  \n",
       "0                   0.880917           20540.0           69170.0  \n",
       "0                        NaN               NaN               NaN  \n",
       "0                   0.714081           20540.0           69170.0  \n",
       "\n",
       "[4 rows x 50 columns]"
      ]
     },
     "execution_count": 72,
     "metadata": {},
     "output_type": "execute_result"
    }
   ],
   "source": [
    "final_output = universe_analysis.generate_final_output(\n",
    "    y_pred_prob=probs_test,\n",
    "    y_test=y_true,\n",
    "    org_test=org_test,\n",
    "    filter_data=filter_sub_universe_data,\n",
    "    cp_metrics_df=cp_metrics_df,\n",
    "    save=True,\n",
    ")\n",
    "final_output"
   ]
  },
  {
   "cell_type": "code",
   "execution_count": null,
   "id": "721ff514-cb11-46f8-b6fc-50392f74b5cb",
   "metadata": {
    "papermill": {
     "duration": 0.015302,
     "end_time": "2025-07-28T11:21:18.740933",
     "exception": false,
     "start_time": "2025-07-28T11:21:18.725631",
     "status": "completed"
    },
    "tags": []
   },
   "outputs": [],
   "source": []
  }
 ],
 "metadata": {
  "celltoolbar": "Tags",
  "kernelspec": {
   "display_name": "Python (CMA Fairness)",
   "language": "python",
   "name": "cma_fair_env"
  },
  "language_info": {
   "codemirror_mode": {
    "name": "ipython",
    "version": 3
   },
   "file_extension": ".py",
   "mimetype": "text/x-python",
   "name": "python",
   "nbconvert_exporter": "python",
   "pygments_lexer": "ipython3",
   "version": "3.10.12"
  },
  "papermill": {
   "default_parameters": {},
   "duration": 657.503671,
   "end_time": "2025-07-28T11:21:19.374214",
   "environment_variables": {},
   "exception": null,
   "input_path": "universe_analysis.ipynb",
   "output_path": "output/runs/11/notebooks/m_11-207f5e4aef489964978b2454b30dedbe.ipynb",
   "parameters": {
    "output_dir": "output",
    "run_no": "11",
    "seed": "2023",
    "universe": "{\"cutoff\": [\"quantile_0.1\", \"quantile_0.25\"], \"eval_fairness_grouping\": [\"majority-minority\", \"nationality-all\"], \"exclude_features\": \"nationality\", \"exclude_subgroups\": \"drop-non-german\", \"model\": \"elasticnet\", \"scale\": \"do-not-scale\", \"training_size\": \"2014\"}",
    "universe_id": "207f5e4aef489964978b2454b30dedbe"
   },
   "start_time": "2025-07-28T11:10:21.870543",
   "version": "2.6.0"
  }
 },
 "nbformat": 4,
 "nbformat_minor": 5
}