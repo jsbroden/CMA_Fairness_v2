{
 "cells": [
  {
   "cell_type": "code",
   "execution_count": 1,
   "id": "f159f837-637b-42ba-96b5-ec9a68c44524",
   "metadata": {
    "execution": {
     "iopub.execute_input": "2025-07-28T10:36:02.067425Z",
     "iopub.status.busy": "2025-07-28T10:36:02.066872Z",
     "iopub.status.idle": "2025-07-28T10:36:02.082882Z",
     "shell.execute_reply": "2025-07-28T10:36:02.081844Z"
    },
    "papermill": {
     "duration": 0.04434,
     "end_time": "2025-07-28T10:36:02.088497",
     "exception": false,
     "start_time": "2025-07-28T10:36:02.044157",
     "status": "completed"
    },
    "tags": []
   },
   "outputs": [
    {
     "name": "stdout",
     "output_type": "stream",
     "text": [
      "/dss/dsshome1/0C/ra93lal2/cma/CMA_Fairness_v2\n"
     ]
    },
    {
     "name": "stderr",
     "output_type": "stream",
     "text": [
      "/dss/dsshome1/0C/ra93lal2/.local/share/virtualenvs/CMA_Fairness_v2-3j10GkSs/lib/python3.10/site-packages/IPython/core/magics/osm.py:393: UserWarning: This is now an optional IPython functionality, using bookmarks requires you to install the `pickleshare` library.\n",
      "  bkms = self.shell.db.get('bookmarks', {})\n",
      "/dss/dsshome1/0C/ra93lal2/.local/share/virtualenvs/CMA_Fairness_v2-3j10GkSs/lib/python3.10/site-packages/IPython/core/magics/osm.py:417: UserWarning: This is now an optional IPython functionality, setting dhist requires you to install the `pickleshare` library.\n",
      "  self.shell.db['dhist'] = compress_dhist(dhist)[-100:]\n"
     ]
    }
   ],
   "source": [
    "%cd ~/cma/CMA_Fairness_v2"
   ]
  },
  {
   "cell_type": "markdown",
   "id": "de2603b9",
   "metadata": {
    "papermill": {
     "duration": 0.026298,
     "end_time": "2025-07-28T10:36:02.141009",
     "exception": false,
     "start_time": "2025-07-28T10:36:02.114711",
     "status": "completed"
    },
    "tags": []
   },
   "source": [
    "The following cell holds the definition of our parameters, these values can be overriden by rendering the with e.g. the following command:\n",
    "\n",
    "papermill -p alpha 0.2 -p ratio 0.3 universe_analysis.ipynb output/test_run.ipynb"
   ]
  },
  {
   "cell_type": "code",
   "execution_count": 2,
   "id": "a80968a0-40bb-4fa9-85ef-2d5eefb01975",
   "metadata": {
    "execution": {
     "iopub.execute_input": "2025-07-28T10:36:02.195107Z",
     "iopub.status.busy": "2025-07-28T10:36:02.194649Z",
     "iopub.status.idle": "2025-07-28T10:36:02.201208Z",
     "shell.execute_reply": "2025-07-28T10:36:02.200140Z"
    },
    "papermill": {
     "duration": 0.036462,
     "end_time": "2025-07-28T10:36:02.203732",
     "exception": false,
     "start_time": "2025-07-28T10:36:02.167270",
     "status": "completed"
    },
    "tags": []
   },
   "outputs": [
    {
     "name": "stdout",
     "output_type": "stream",
     "text": [
      "Current working directory: /dss/dsshome1/0C/ra93lal2/cma/CMA_Fairness_v2\n"
     ]
    }
   ],
   "source": [
    "import os\n",
    "print(\"Current working directory:\", os.getcwd())"
   ]
  },
  {
   "cell_type": "code",
   "execution_count": 3,
   "id": "2dce4c03",
   "metadata": {
    "execution": {
     "iopub.execute_input": "2025-07-28T10:36:02.259058Z",
     "iopub.status.busy": "2025-07-28T10:36:02.258490Z",
     "iopub.status.idle": "2025-07-28T10:36:02.266301Z",
     "shell.execute_reply": "2025-07-28T10:36:02.265125Z"
    },
    "papermill": {
     "duration": 0.037938,
     "end_time": "2025-07-28T10:36:02.268301",
     "exception": false,
     "start_time": "2025-07-28T10:36:02.230363",
     "status": "completed"
    },
    "tags": [
     "parameters"
    ]
   },
   "outputs": [],
   "source": [
    "run_no = 0\n",
    "universe_id = \"test\"\n",
    "universe = {\n",
    "    \"training_size\": \"2014\", # \"25k\", \"5k\", \"1k\", \"2014\"\n",
    "    \"scale\": \"scale\", # \"scale\", \"do-not-scale\",\n",
    "    #\"stratify_split\": \"target\", # \"none\", \"target\", \"protected-attribute\", \"both\",\n",
    "    \"model\": \"elasticnet\", # \"logreg\", \"penalized_logreg\", \"rf\", \"gbm\", \"elasticnet\"\n",
    "    \"cutoff\": [\"quantile_0.15\", \"quantile_0.30\"],\n",
    "    \"exclude_features\": \"age\", # \"none\", \"nationality\", \"sex\", \"nationality-sex\", \"age\"\n",
    "    \"exclude_subgroups\": \"keep-all\", # \"keep-all\", \"drop-non-german\"\n",
    "    #\"training_sample\": \"restricted\", # \"restricted\", \"full\"\n",
    "    \"eval_fairness_grouping\": [\"majority-minority\", \"nationality-all\"]\n",
    "}\n",
    "\n",
    "output_dir=\"./output\"\n",
    "seed=0"
   ]
  },
  {
   "cell_type": "code",
   "execution_count": 4,
   "id": "fa15ceef",
   "metadata": {
    "execution": {
     "iopub.execute_input": "2025-07-28T10:36:02.312622Z",
     "iopub.status.busy": "2025-07-28T10:36:02.311685Z",
     "iopub.status.idle": "2025-07-28T10:36:02.318402Z",
     "shell.execute_reply": "2025-07-28T10:36:02.317267Z"
    },
    "papermill": {
     "duration": 0.030673,
     "end_time": "2025-07-28T10:36:02.320191",
     "exception": false,
     "start_time": "2025-07-28T10:36:02.289518",
     "status": "completed"
    },
    "tags": [
     "injected-parameters"
    ]
   },
   "outputs": [],
   "source": [
    "# Parameters\n",
    "universe_id = \"56f0855ce36bb846d686ef43e586acf8\"\n",
    "run_no = \"11\"\n",
    "universe = \"{\\\"cutoff\\\": [\\\"quantile_0.1\\\", \\\"quantile_0.25\\\"], \\\"eval_fairness_grouping\\\": [\\\"majority-minority\\\", \\\"nationality-all\\\"], \\\"exclude_features\\\": \\\"sex\\\", \\\"exclude_subgroups\\\": \\\"keep-all\\\", \\\"model\\\": \\\"penalized_logreg\\\", \\\"scale\\\": \\\"do-not-scale\\\", \\\"training_size\\\": \\\"5k\\\"}\"\n",
    "output_dir = \"output\"\n",
    "seed = \"2023\"\n"
   ]
  },
  {
   "cell_type": "code",
   "execution_count": 5,
   "id": "1650acaf",
   "metadata": {
    "execution": {
     "iopub.execute_input": "2025-07-28T10:36:02.389986Z",
     "iopub.status.busy": "2025-07-28T10:36:02.388868Z",
     "iopub.status.idle": "2025-07-28T10:36:02.394211Z",
     "shell.execute_reply": "2025-07-28T10:36:02.393444Z"
    },
    "papermill": {
     "duration": 0.0544,
     "end_time": "2025-07-28T10:36:02.395480",
     "exception": false,
     "start_time": "2025-07-28T10:36:02.341080",
     "status": "completed"
    },
    "tags": []
   },
   "outputs": [],
   "source": [
    "import json\n",
    "# Parse universe into dict if it is passed as a string\n",
    "if isinstance(universe, str):\n",
    "    universe = json.loads(universe)"
   ]
  },
  {
   "cell_type": "code",
   "execution_count": 6,
   "id": "16620c48",
   "metadata": {
    "execution": {
     "iopub.execute_input": "2025-07-28T10:36:02.418523Z",
     "iopub.status.busy": "2025-07-28T10:36:02.418024Z",
     "iopub.status.idle": "2025-07-28T10:36:02.454725Z",
     "shell.execute_reply": "2025-07-28T10:36:02.453713Z"
    },
    "papermill": {
     "duration": 0.05021,
     "end_time": "2025-07-28T10:36:02.456881",
     "exception": false,
     "start_time": "2025-07-28T10:36:02.406671",
     "status": "completed"
    },
    "tags": []
   },
   "outputs": [],
   "source": [
    "# Auto-reload the custom package\n",
    "%load_ext autoreload\n",
    "%autoreload 1\n",
    "%aimport fairness_multiverse"
   ]
  },
  {
   "cell_type": "code",
   "execution_count": 7,
   "id": "01c5c9f3",
   "metadata": {
    "execution": {
     "iopub.execute_input": "2025-07-28T10:36:02.510657Z",
     "iopub.status.busy": "2025-07-28T10:36:02.509746Z",
     "iopub.status.idle": "2025-07-28T10:36:04.644230Z",
     "shell.execute_reply": "2025-07-28T10:36:04.642859Z"
    },
    "papermill": {
     "duration": 2.164195,
     "end_time": "2025-07-28T10:36:04.646494",
     "exception": false,
     "start_time": "2025-07-28T10:36:02.482299",
     "status": "completed"
    },
    "tags": []
   },
   "outputs": [],
   "source": [
    "from fairness_multiverse.universe import UniverseAnalysis\n",
    "\n",
    "universe_analysis = UniverseAnalysis(\n",
    "    run_no = run_no,\n",
    "    universe_id = universe_id,\n",
    "    universe = universe,\n",
    "    output_dir=output_dir,\n",
    ")"
   ]
  },
  {
   "cell_type": "code",
   "execution_count": 8,
   "id": "106241f5",
   "metadata": {
    "execution": {
     "iopub.execute_input": "2025-07-28T10:36:04.689347Z",
     "iopub.status.busy": "2025-07-28T10:36:04.688936Z",
     "iopub.status.idle": "2025-07-28T10:36:04.695066Z",
     "shell.execute_reply": "2025-07-28T10:36:04.694369Z"
    },
    "papermill": {
     "duration": 0.028692,
     "end_time": "2025-07-28T10:36:04.696487",
     "exception": false,
     "start_time": "2025-07-28T10:36:04.667795",
     "status": "completed"
    },
    "tags": []
   },
   "outputs": [
    {
     "name": "stdout",
     "output_type": "stream",
     "text": [
      "Using Seed: 2023\n"
     ]
    }
   ],
   "source": [
    "import numpy as np\n",
    "parsed_seed = int(seed)\n",
    "np.random.seed(parsed_seed)\n",
    "print(f\"Using Seed: {parsed_seed}\")"
   ]
  },
  {
   "cell_type": "markdown",
   "id": "e0ebdc57",
   "metadata": {
    "papermill": {
     "duration": 0.009944,
     "end_time": "2025-07-28T10:36:04.717401",
     "exception": false,
     "start_time": "2025-07-28T10:36:04.707457",
     "status": "completed"
    },
    "tags": []
   },
   "source": [
    "# Loading Data"
   ]
  },
  {
   "cell_type": "markdown",
   "id": "681925a3",
   "metadata": {
    "papermill": {
     "duration": 0.011531,
     "end_time": "2025-07-28T10:36:04.739027",
     "exception": false,
     "start_time": "2025-07-28T10:36:04.727496",
     "status": "completed"
    },
    "tags": []
   },
   "source": [
    "Load siab_train, siab_test, siab_calib and/or \n",
    "load siab_train_features, siab_train_labels"
   ]
  },
  {
   "cell_type": "code",
   "execution_count": 9,
   "id": "f0496b8a",
   "metadata": {
    "execution": {
     "iopub.execute_input": "2025-07-28T10:36:04.762291Z",
     "iopub.status.busy": "2025-07-28T10:36:04.761930Z",
     "iopub.status.idle": "2025-07-28T10:36:16.418860Z",
     "shell.execute_reply": "2025-07-28T10:36:16.417686Z"
    },
    "papermill": {
     "duration": 11.670455,
     "end_time": "2025-07-28T10:36:16.420509",
     "exception": false,
     "start_time": "2025-07-28T10:36:04.750054",
     "status": "completed"
    },
    "tags": []
   },
   "outputs": [
    {
     "name": "stdout",
     "output_type": "stream",
     "text": [
      "Loading SIAB data from cache: data/siab_cached.csv.gz\n"
     ]
    },
    {
     "name": "stdout",
     "output_type": "stream",
     "text": [
      "(643690, 164)\n"
     ]
    }
   ],
   "source": [
    "from pathlib import Path\n",
    "import pandas as pd\n",
    "\n",
    "# File paths\n",
    "raw_file = Path(\"data/raw/siab.csv\")\n",
    "cache_file = Path(\"data/siab_cached.csv.gz\")\n",
    "\n",
    "# Ensure cache directory exists\n",
    "cache_file.parent.mkdir(parents=True, exist_ok=True)\n",
    "\n",
    "# Load with simple caching\n",
    "if cache_file.exists():\n",
    "    print(f\"Loading SIAB data from cache: {cache_file}\")\n",
    "    siab = pd.read_csv(cache_file, compression='gzip')\n",
    "else:\n",
    "    print(f\"Cache not found. Reading raw SIAB data: {raw_file}\")\n",
    "    siab = pd.read_csv(raw_file)\n",
    "    siab.to_csv(cache_file, index=False, compression='gzip')\n",
    "    print(f\"Cached SIAB data to: {cache_file}\")\n",
    "\n",
    "# Now use `siab` DataFrame as needed\n",
    "print(siab.shape)"
   ]
  },
  {
   "cell_type": "code",
   "execution_count": 10,
   "id": "db0ca512-5f53-4dba-abdb-a2888bca41ba",
   "metadata": {
    "execution": {
     "iopub.execute_input": "2025-07-28T10:36:16.462625Z",
     "iopub.status.busy": "2025-07-28T10:36:16.461898Z",
     "iopub.status.idle": "2025-07-28T10:36:16.468133Z",
     "shell.execute_reply": "2025-07-28T10:36:16.467105Z"
    },
    "papermill": {
     "duration": 0.027525,
     "end_time": "2025-07-28T10:36:16.469674",
     "exception": false,
     "start_time": "2025-07-28T10:36:16.442149",
     "status": "completed"
    },
    "tags": []
   },
   "outputs": [],
   "source": [
    "#siab"
   ]
  },
  {
   "cell_type": "code",
   "execution_count": 11,
   "id": "a0edb063",
   "metadata": {
    "execution": {
     "iopub.execute_input": "2025-07-28T10:36:16.508719Z",
     "iopub.status.busy": "2025-07-28T10:36:16.507979Z",
     "iopub.status.idle": "2025-07-28T10:36:16.514018Z",
     "shell.execute_reply": "2025-07-28T10:36:16.513034Z"
    },
    "papermill": {
     "duration": 0.027185,
     "end_time": "2025-07-28T10:36:16.515557",
     "exception": false,
     "start_time": "2025-07-28T10:36:16.488372",
     "status": "completed"
    },
    "tags": []
   },
   "outputs": [],
   "source": [
    "#import pandas as pd\n",
    "#\n",
    "#X_train = pd.read_csv(\"./data/X_train.csv\")\n",
    "#y_train = pd.read_csv(\"./data/y_train.csv\")"
   ]
  },
  {
   "cell_type": "code",
   "execution_count": 12,
   "id": "63d08085",
   "metadata": {
    "execution": {
     "iopub.execute_input": "2025-07-28T10:36:16.555578Z",
     "iopub.status.busy": "2025-07-28T10:36:16.554753Z",
     "iopub.status.idle": "2025-07-28T10:36:16.560661Z",
     "shell.execute_reply": "2025-07-28T10:36:16.559696Z"
    },
    "papermill": {
     "duration": 0.027197,
     "end_time": "2025-07-28T10:36:16.562165",
     "exception": false,
     "start_time": "2025-07-28T10:36:16.534968",
     "status": "completed"
    },
    "tags": []
   },
   "outputs": [],
   "source": [
    "#X_test = pd.read_csv(\"./data/X_test.csv\")\n",
    "#y_true = pd.read_csv(\"./data/y_test.csv\")"
   ]
  },
  {
   "cell_type": "code",
   "execution_count": 13,
   "id": "98a8d0fa-1d3d-4ed8-bb2c-281470e24add",
   "metadata": {
    "execution": {
     "iopub.execute_input": "2025-07-28T10:36:16.601732Z",
     "iopub.status.busy": "2025-07-28T10:36:16.601211Z",
     "iopub.status.idle": "2025-07-28T10:36:16.606192Z",
     "shell.execute_reply": "2025-07-28T10:36:16.605213Z"
    },
    "papermill": {
     "duration": 0.026532,
     "end_time": "2025-07-28T10:36:16.607992",
     "exception": false,
     "start_time": "2025-07-28T10:36:16.581460",
     "status": "completed"
    },
    "tags": []
   },
   "outputs": [],
   "source": [
    "# Calibration data for conformal\n",
    "#X_calib = pd.read_csv(\"./data/X_calib.csv\")\n",
    "#y_calib = pd.read_csv(\"./data/y_calib.csv\")"
   ]
  },
  {
   "cell_type": "markdown",
   "id": "9901737e-04df-44f0-9100-f5ad144ed040",
   "metadata": {
    "papermill": {
     "duration": 0.021043,
     "end_time": "2025-07-28T10:36:16.648456",
     "exception": false,
     "start_time": "2025-07-28T10:36:16.627413",
     "status": "completed"
    },
    "tags": []
   },
   "source": [
    "# Splitting Data and Setting Training Data Size"
   ]
  },
  {
   "cell_type": "code",
   "execution_count": 14,
   "id": "acbc8f7d-8fc8-4e86-8c59-5dcb0f58384b",
   "metadata": {
    "execution": {
     "iopub.execute_input": "2025-07-28T10:36:16.690877Z",
     "iopub.status.busy": "2025-07-28T10:36:16.690470Z",
     "iopub.status.idle": "2025-07-28T10:36:16.698577Z",
     "shell.execute_reply": "2025-07-28T10:36:16.697745Z"
    },
    "papermill": {
     "duration": 0.030729,
     "end_time": "2025-07-28T10:36:16.700442",
     "exception": false,
     "start_time": "2025-07-28T10:36:16.669713",
     "status": "completed"
    },
    "tags": []
   },
   "outputs": [],
   "source": [
    "def sample_by_year(df, training_size, random_state=42):\n",
    "    if training_size == \"2014\":\n",
    "        return df[df[\"year\"] == 2014].reset_index(drop=True)\n",
    "    \n",
    "    size_map = {\n",
    "        \"25k\": 5000,\n",
    "        \"5k\": 1000,\n",
    "        \"1k\": 200\n",
    "    }\n",
    "\n",
    "    if training_size not in size_map:\n",
    "        return df.reset_index(drop=True)  # use all data\n",
    "\n",
    "    n_per_year = size_map[training_size]\n",
    "    grouped = df.groupby(\"year\")\n",
    "    sampled = grouped.apply(lambda x: x.sample(n=min(n_per_year, len(x)), random_state=random_state))\n",
    "    return sampled.reset_index(drop=True)"
   ]
  },
  {
   "cell_type": "code",
   "execution_count": 15,
   "id": "6d931f52-beaf-43ff-9e78-9d44a448d54e",
   "metadata": {
    "execution": {
     "iopub.execute_input": "2025-07-28T10:36:16.741301Z",
     "iopub.status.busy": "2025-07-28T10:36:16.740546Z",
     "iopub.status.idle": "2025-07-28T10:36:17.482943Z",
     "shell.execute_reply": "2025-07-28T10:36:17.481909Z"
    },
    "papermill": {
     "duration": 0.764782,
     "end_time": "2025-07-28T10:36:17.484809",
     "exception": false,
     "start_time": "2025-07-28T10:36:16.720027",
     "status": "completed"
    },
    "tags": []
   },
   "outputs": [],
   "source": [
    "siab_s = sample_by_year(siab, universe[\"training_size\"])"
   ]
  },
  {
   "cell_type": "code",
   "execution_count": 16,
   "id": "5db0a40e-a4e2-4920-be85-b12ae061d70d",
   "metadata": {
    "execution": {
     "iopub.execute_input": "2025-07-28T10:36:17.525123Z",
     "iopub.status.busy": "2025-07-28T10:36:17.524504Z",
     "iopub.status.idle": "2025-07-28T10:36:17.540250Z",
     "shell.execute_reply": "2025-07-28T10:36:17.539217Z"
    },
    "papermill": {
     "duration": 0.037729,
     "end_time": "2025-07-28T10:36:17.542294",
     "exception": false,
     "start_time": "2025-07-28T10:36:17.504565",
     "status": "completed"
    },
    "tags": []
   },
   "outputs": [
    {
     "data": {
      "text/plain": [
       "year\n",
       "2010    1000\n",
       "2011    1000\n",
       "2012    1000\n",
       "2013    1000\n",
       "2014    1000\n",
       "2015    1000\n",
       "2016    1000\n",
       "dtype: int64"
      ]
     },
     "metadata": {},
     "output_type": "display_data"
    }
   ],
   "source": [
    "display(siab_s.groupby(\"year\").size())"
   ]
  },
  {
   "cell_type": "code",
   "execution_count": 17,
   "id": "a561edb4-d032-42cb-8256-22eac1111c64",
   "metadata": {
    "execution": {
     "iopub.execute_input": "2025-07-28T10:36:17.586860Z",
     "iopub.status.busy": "2025-07-28T10:36:17.585838Z",
     "iopub.status.idle": "2025-07-28T10:36:17.828221Z",
     "shell.execute_reply": "2025-07-28T10:36:17.827206Z"
    },
    "papermill": {
     "duration": 0.26598,
     "end_time": "2025-07-28T10:36:17.830042",
     "exception": false,
     "start_time": "2025-07-28T10:36:17.564062",
     "status": "completed"
    },
    "tags": []
   },
   "outputs": [],
   "source": [
    "siab_train = siab_s[siab_s.year < 2015]\n",
    "siab_calib = siab[siab.year == 2015]\n",
    "siab_test = siab[siab.year == 2016]"
   ]
  },
  {
   "cell_type": "code",
   "execution_count": 18,
   "id": "472de16f-c3db-4916-846b-1f0de9cf1746",
   "metadata": {
    "execution": {
     "iopub.execute_input": "2025-07-28T10:36:17.873297Z",
     "iopub.status.busy": "2025-07-28T10:36:17.872367Z",
     "iopub.status.idle": "2025-07-28T10:36:17.880873Z",
     "shell.execute_reply": "2025-07-28T10:36:17.879850Z"
    },
    "papermill": {
     "duration": 0.030566,
     "end_time": "2025-07-28T10:36:17.882648",
     "exception": false,
     "start_time": "2025-07-28T10:36:17.852082",
     "status": "completed"
    },
    "tags": []
   },
   "outputs": [],
   "source": [
    "X_train = siab_train.iloc[:,4:164]\n",
    "y_train = siab_train.iloc[:, [3]]"
   ]
  },
  {
   "cell_type": "code",
   "execution_count": 19,
   "id": "828c96af-f43a-4ed6-ba47-8ac73a47d56c",
   "metadata": {
    "execution": {
     "iopub.execute_input": "2025-07-28T10:36:17.924981Z",
     "iopub.status.busy": "2025-07-28T10:36:17.924280Z",
     "iopub.status.idle": "2025-07-28T10:36:17.981753Z",
     "shell.execute_reply": "2025-07-28T10:36:17.980576Z"
    },
    "papermill": {
     "duration": 0.080143,
     "end_time": "2025-07-28T10:36:17.983592",
     "exception": false,
     "start_time": "2025-07-28T10:36:17.903449",
     "status": "completed"
    },
    "tags": []
   },
   "outputs": [],
   "source": [
    "X_calib = siab_calib.iloc[:,4:164]\n",
    "y_calib = siab_calib.iloc[:, [3]]"
   ]
  },
  {
   "cell_type": "code",
   "execution_count": 20,
   "id": "c34be9c3-6bd6-476e-acd3-845840e303be",
   "metadata": {
    "execution": {
     "iopub.execute_input": "2025-07-28T10:36:18.025442Z",
     "iopub.status.busy": "2025-07-28T10:36:18.024896Z",
     "iopub.status.idle": "2025-07-28T10:36:18.081637Z",
     "shell.execute_reply": "2025-07-28T10:36:18.080480Z"
    },
    "papermill": {
     "duration": 0.079311,
     "end_time": "2025-07-28T10:36:18.083706",
     "exception": false,
     "start_time": "2025-07-28T10:36:18.004395",
     "status": "completed"
    },
    "tags": []
   },
   "outputs": [],
   "source": [
    "X_test = siab_test.iloc[:,4:164]\n",
    "y_true = siab_test.iloc[:, [3]]"
   ]
  },
  {
   "cell_type": "code",
   "execution_count": 21,
   "id": "e6c733c5",
   "metadata": {
    "execution": {
     "iopub.execute_input": "2025-07-28T10:36:18.128706Z",
     "iopub.status.busy": "2025-07-28T10:36:18.128043Z",
     "iopub.status.idle": "2025-07-28T10:36:18.231160Z",
     "shell.execute_reply": "2025-07-28T10:36:18.230137Z"
    },
    "papermill": {
     "duration": 0.126853,
     "end_time": "2025-07-28T10:36:18.233083",
     "exception": false,
     "start_time": "2025-07-28T10:36:18.106230",
     "status": "completed"
    },
    "tags": []
   },
   "outputs": [],
   "source": [
    "# Auxiliary data needed downstream in the pipeline\n",
    "\n",
    "org_train = X_train.copy()\n",
    "org_test = X_test.copy()\n",
    "org_calib = X_calib.copy()"
   ]
  },
  {
   "cell_type": "markdown",
   "id": "0a4a1b33",
   "metadata": {
    "papermill": {
     "duration": 0.022143,
     "end_time": "2025-07-28T10:36:18.279249",
     "exception": false,
     "start_time": "2025-07-28T10:36:18.257106",
     "status": "completed"
    },
    "tags": []
   },
   "source": [
    "# Preprocessing Data"
   ]
  },
  {
   "cell_type": "code",
   "execution_count": 22,
   "id": "ca879031",
   "metadata": {
    "execution": {
     "iopub.execute_input": "2025-07-28T10:36:18.322545Z",
     "iopub.status.busy": "2025-07-28T10:36:18.322033Z",
     "iopub.status.idle": "2025-07-28T10:36:18.328862Z",
     "shell.execute_reply": "2025-07-28T10:36:18.327746Z"
    },
    "papermill": {
     "duration": 0.030234,
     "end_time": "2025-07-28T10:36:18.330559",
     "exception": false,
     "start_time": "2025-07-28T10:36:18.300325",
     "status": "completed"
    },
    "tags": []
   },
   "outputs": [],
   "source": [
    "# EXCLUDE PROTECTED FEATURES\n",
    "# ----------------------\n",
    "# \"exclude_features\": \"none\", # \"nationality\", \"sex\", \"nationality-sex\"\n",
    "\n",
    "excluded_features = universe[\"exclude_features\"].split(\"-\") # split, e.g.: \"nationality-sex\" -> [\"nationality\", \"sex\"]\n",
    "excluded_features_dictionary = {\n",
    "    \"nationality\": [\"maxdeutsch1\", \"maxdeutsch.Missing.\"],\n",
    "    \"sex\": [\"frau1\"],\n",
    "    \"age\": [\"age\"],\n",
    "}\n"
   ]
  },
  {
   "cell_type": "code",
   "execution_count": 23,
   "id": "b745ac60",
   "metadata": {
    "execution": {
     "iopub.execute_input": "2025-07-28T10:36:18.376054Z",
     "iopub.status.busy": "2025-07-28T10:36:18.375354Z",
     "iopub.status.idle": "2025-07-28T10:36:18.381603Z",
     "shell.execute_reply": "2025-07-28T10:36:18.380568Z"
    },
    "papermill": {
     "duration": 0.030251,
     "end_time": "2025-07-28T10:36:18.383242",
     "exception": false,
     "start_time": "2025-07-28T10:36:18.352991",
     "status": "completed"
    },
    "tags": []
   },
   "outputs": [],
   "source": [
    "# Code nice names to column names\n",
    "\n",
    "excluded_features_columns = [\n",
    "    excluded_features_dictionary[f] for f in excluded_features if len(f) > 0 and f != \"none\"\n",
    "]"
   ]
  },
  {
   "cell_type": "code",
   "execution_count": 24,
   "id": "f84f73a2",
   "metadata": {
    "execution": {
     "iopub.execute_input": "2025-07-28T10:36:18.428854Z",
     "iopub.status.busy": "2025-07-28T10:36:18.428248Z",
     "iopub.status.idle": "2025-07-28T10:36:18.434602Z",
     "shell.execute_reply": "2025-07-28T10:36:18.433727Z"
    },
    "papermill": {
     "duration": 0.031454,
     "end_time": "2025-07-28T10:36:18.436434",
     "exception": false,
     "start_time": "2025-07-28T10:36:18.404980",
     "status": "completed"
    },
    "tags": []
   },
   "outputs": [],
   "source": [
    "from utils import flatten_once\n",
    "\n",
    "excluded_features_columns = flatten_once(excluded_features_columns)"
   ]
  },
  {
   "cell_type": "code",
   "execution_count": 25,
   "id": "884dea22",
   "metadata": {
    "execution": {
     "iopub.execute_input": "2025-07-28T10:36:18.480854Z",
     "iopub.status.busy": "2025-07-28T10:36:18.480191Z",
     "iopub.status.idle": "2025-07-28T10:36:18.490342Z",
     "shell.execute_reply": "2025-07-28T10:36:18.489412Z"
    },
    "papermill": {
     "duration": 0.034523,
     "end_time": "2025-07-28T10:36:18.492001",
     "exception": false,
     "start_time": "2025-07-28T10:36:18.457478",
     "status": "completed"
    },
    "tags": []
   },
   "outputs": [
    {
     "name": "stdout",
     "output_type": "stream",
     "text": [
      "Dropping features: ['frau1']\n"
     ]
    }
   ],
   "source": [
    "if len(excluded_features_columns) > 0:\n",
    "    print(f\"Dropping features: {excluded_features_columns}\")\n",
    "    X_train.drop(excluded_features_columns, axis=1, inplace=True)"
   ]
  },
  {
   "cell_type": "code",
   "execution_count": 26,
   "id": "95ab8b16",
   "metadata": {
    "execution": {
     "iopub.execute_input": "2025-07-28T10:36:18.534854Z",
     "iopub.status.busy": "2025-07-28T10:36:18.534362Z",
     "iopub.status.idle": "2025-07-28T10:36:18.592940Z",
     "shell.execute_reply": "2025-07-28T10:36:18.591430Z"
    },
    "papermill": {
     "duration": 0.08201,
     "end_time": "2025-07-28T10:36:18.594730",
     "exception": false,
     "start_time": "2025-07-28T10:36:18.512720",
     "status": "completed"
    },
    "tags": []
   },
   "outputs": [
    {
     "name": "stdout",
     "output_type": "stream",
     "text": [
      "Dropping features: ['frau1']\n"
     ]
    }
   ],
   "source": [
    "if len(excluded_features_columns) > 0:\n",
    "    print(f\"Dropping features: {excluded_features_columns}\")\n",
    "    X_test.drop(excluded_features_columns, axis=1, inplace=True)"
   ]
  },
  {
   "cell_type": "code",
   "execution_count": 27,
   "id": "1853aaf5-fb9f-46cb-a2b5-8ea4ae2237e4",
   "metadata": {
    "execution": {
     "iopub.execute_input": "2025-07-28T10:36:18.648042Z",
     "iopub.status.busy": "2025-07-28T10:36:18.647074Z",
     "iopub.status.idle": "2025-07-28T10:36:18.711654Z",
     "shell.execute_reply": "2025-07-28T10:36:18.710737Z"
    },
    "papermill": {
     "duration": 0.091956,
     "end_time": "2025-07-28T10:36:18.713346",
     "exception": false,
     "start_time": "2025-07-28T10:36:18.621390",
     "status": "completed"
    },
    "tags": []
   },
   "outputs": [
    {
     "name": "stdout",
     "output_type": "stream",
     "text": [
      "Dropping features: ['frau1']\n"
     ]
    }
   ],
   "source": [
    "if len(excluded_features_columns) > 0:\n",
    "    print(f\"Dropping features: {excluded_features_columns}\")\n",
    "    X_calib.drop(excluded_features_columns, axis=1, inplace=True)"
   ]
  },
  {
   "cell_type": "code",
   "execution_count": 28,
   "id": "6727d079-03e5-481e-9d38-292a90b7a0a8",
   "metadata": {
    "execution": {
     "iopub.execute_input": "2025-07-28T10:36:18.756513Z",
     "iopub.status.busy": "2025-07-28T10:36:18.756011Z",
     "iopub.status.idle": "2025-07-28T10:36:18.761127Z",
     "shell.execute_reply": "2025-07-28T10:36:18.760251Z"
    },
    "papermill": {
     "duration": 0.028109,
     "end_time": "2025-07-28T10:36:18.762731",
     "exception": false,
     "start_time": "2025-07-28T10:36:18.734622",
     "status": "completed"
    },
    "tags": []
   },
   "outputs": [],
   "source": [
    "# SPLIT & STRATIFY DATA\n",
    "# ----------------------"
   ]
  },
  {
   "cell_type": "code",
   "execution_count": 29,
   "id": "76c4dc6d",
   "metadata": {
    "execution": {
     "iopub.execute_input": "2025-07-28T10:36:18.805391Z",
     "iopub.status.busy": "2025-07-28T10:36:18.804647Z",
     "iopub.status.idle": "2025-07-28T10:36:18.810052Z",
     "shell.execute_reply": "2025-07-28T10:36:18.809172Z"
    },
    "papermill": {
     "duration": 0.028162,
     "end_time": "2025-07-28T10:36:18.811703",
     "exception": false,
     "start_time": "2025-07-28T10:36:18.783541",
     "status": "completed"
    },
    "tags": []
   },
   "outputs": [],
   "source": [
    "# EXCLUDE CERTAIN SUBGROUPS\n",
    "# ----------------------\n",
    "\n",
    "mode = universe.get(\"exclude_subgroups\", \"keep-all\") \n",
    "# Fetches the exclude_subgroups setting from the universe dict.\n",
    "# Defaults to \"keep-all\" if the key is missing."
   ]
  },
  {
   "cell_type": "code",
   "execution_count": 30,
   "id": "21994072",
   "metadata": {
    "execution": {
     "iopub.execute_input": "2025-07-28T10:36:18.854375Z",
     "iopub.status.busy": "2025-07-28T10:36:18.853895Z",
     "iopub.status.idle": "2025-07-28T10:36:18.860840Z",
     "shell.execute_reply": "2025-07-28T10:36:18.859742Z"
    },
    "papermill": {
     "duration": 0.03,
     "end_time": "2025-07-28T10:36:18.862621",
     "exception": false,
     "start_time": "2025-07-28T10:36:18.832621",
     "status": "completed"
    },
    "tags": []
   },
   "outputs": [],
   "source": [
    "if mode == \"keep-all\":\n",
    "    keep_mask = pd.Series(True, index=org_train.index)\n",
    "\n",
    "# org_train contains the original feature columns from features_org (in Simson)\n",
    "# features_org contains unprocessed features, for me X_train at beginning ???\n",
    "# For keep-all, creates a boolean Series (keep_mask) of all True, so no rows are removed.\n",
    "\n",
    "elif mode == \"drop-non-german\":\n",
    "    keep_mask = org_train[\"maxdeutsch1\"] == 1 # ??? what about missing values?\n",
    "\n",
    "else:\n",
    "    raise ValueError(f\"Unsupported mode for exclude_subgroups: {mode}\")\n"
   ]
  },
  {
   "cell_type": "code",
   "execution_count": 31,
   "id": "71651440",
   "metadata": {
    "execution": {
     "iopub.execute_input": "2025-07-28T10:36:18.907043Z",
     "iopub.status.busy": "2025-07-28T10:36:18.906559Z",
     "iopub.status.idle": "2025-07-28T10:36:18.912950Z",
     "shell.execute_reply": "2025-07-28T10:36:18.911975Z"
    },
    "papermill": {
     "duration": 0.030108,
     "end_time": "2025-07-28T10:36:18.914910",
     "exception": false,
     "start_time": "2025-07-28T10:36:18.884802",
     "status": "completed"
    },
    "tags": []
   },
   "outputs": [],
   "source": [
    "n_drop = (~keep_mask).sum() # Calculates how many rows are set to be dropped\n",
    "if n_drop > 0:\n",
    "    pct = n_drop / len(keep_mask) * 100\n",
    "    print(f\"Dropping {n_drop} rows ({pct:.2f}%) where mode='{mode}'\")"
   ]
  },
  {
   "cell_type": "code",
   "execution_count": 32,
   "id": "5fb8eee5",
   "metadata": {
    "execution": {
     "iopub.execute_input": "2025-07-28T10:36:18.961731Z",
     "iopub.status.busy": "2025-07-28T10:36:18.961266Z",
     "iopub.status.idle": "2025-07-28T10:36:18.969095Z",
     "shell.execute_reply": "2025-07-28T10:36:18.968158Z"
    },
    "papermill": {
     "duration": 0.033365,
     "end_time": "2025-07-28T10:36:18.970861",
     "exception": false,
     "start_time": "2025-07-28T10:36:18.937496",
     "status": "completed"
    },
    "tags": []
   },
   "outputs": [],
   "source": [
    "X_train = X_train[keep_mask]"
   ]
  },
  {
   "cell_type": "code",
   "execution_count": 33,
   "id": "b202bb3a",
   "metadata": {
    "execution": {
     "iopub.execute_input": "2025-07-28T10:36:19.017405Z",
     "iopub.status.busy": "2025-07-28T10:36:19.017024Z",
     "iopub.status.idle": "2025-07-28T10:36:19.037744Z",
     "shell.execute_reply": "2025-07-28T10:36:19.036676Z"
    },
    "papermill": {
     "duration": 0.045968,
     "end_time": "2025-07-28T10:36:19.039458",
     "exception": false,
     "start_time": "2025-07-28T10:36:18.993490",
     "status": "completed"
    },
    "tags": []
   },
   "outputs": [],
   "source": [
    "y_train = y_train[keep_mask]"
   ]
  },
  {
   "cell_type": "markdown",
   "id": "493e2ac3",
   "metadata": {
    "papermill": {
     "duration": 0.020901,
     "end_time": "2025-07-28T10:36:19.081602",
     "exception": false,
     "start_time": "2025-07-28T10:36:19.060701",
     "status": "completed"
    },
    "tags": []
   },
   "source": [
    "# Model Training"
   ]
  },
  {
   "cell_type": "code",
   "execution_count": 34,
   "id": "679e1268",
   "metadata": {
    "execution": {
     "iopub.execute_input": "2025-07-28T10:36:19.125477Z",
     "iopub.status.busy": "2025-07-28T10:36:19.124635Z",
     "iopub.status.idle": "2025-07-28T10:36:19.251940Z",
     "shell.execute_reply": "2025-07-28T10:36:19.251082Z"
    },
    "papermill": {
     "duration": 0.151724,
     "end_time": "2025-07-28T10:36:19.253826",
     "exception": false,
     "start_time": "2025-07-28T10:36:19.102102",
     "status": "completed"
    },
    "tags": []
   },
   "outputs": [],
   "source": [
    "from sklearn.linear_model import LogisticRegression\n",
    "from sklearn.ensemble import GradientBoostingClassifier, RandomForestClassifier\n",
    "\n",
    "if (universe[\"model\"] == \"logreg\"):\n",
    "    model = LogisticRegression() #penalty=\"none\") #, solver=\"newton-cg\", max_iter=1) # include random_state=19 ?\n",
    "elif (universe[\"model\"] == \"penalized_logreg\"):\n",
    "    model = LogisticRegression(penalty=\"l2\", C=1.0) #, solver=\"newton-cg\", max_iter=1)\n",
    "elif (universe[\"model\"] == \"rf\"):\n",
    "    model = RandomForestClassifier(n_estimators=100, n_jobs=-1)\n",
    "elif (universe[\"model\"] == \"gbm\"):\n",
    "    model = GradientBoostingClassifier()\n",
    "elif (universe[\"model\"] == \"elasticnet\"):\n",
    "    model = LogisticRegression(penalty = 'elasticnet', solver = 'saga', l1_ratio = 0.5, max_iter=5000) # which solver to use?\n",
    "else:\n",
    "    raise \"Unsupported universe.model\""
   ]
  },
  {
   "cell_type": "code",
   "execution_count": 35,
   "id": "0cc8f744",
   "metadata": {
    "execution": {
     "iopub.execute_input": "2025-07-28T10:36:19.298293Z",
     "iopub.status.busy": "2025-07-28T10:36:19.297516Z",
     "iopub.status.idle": "2025-07-28T10:36:19.304780Z",
     "shell.execute_reply": "2025-07-28T10:36:19.303555Z"
    },
    "papermill": {
     "duration": 0.038507,
     "end_time": "2025-07-28T10:36:19.313775",
     "exception": false,
     "start_time": "2025-07-28T10:36:19.275268",
     "status": "completed"
    },
    "tags": []
   },
   "outputs": [],
   "source": [
    "import numpy as np\n",
    "from sklearn.pipeline import Pipeline\n",
    "from sklearn.preprocessing import StandardScaler\n",
    "\n",
    "model = Pipeline([\n",
    "    #(\"continuous_processor\", continuous_processor),\n",
    "    #(\"categorical_preprocessor\", categorical_preprocessor),\n",
    "    (\"scale\", StandardScaler() if universe[\"scale\"] == \"scale\" else None), \n",
    "    (\"model\", model),\n",
    "])"
   ]
  },
  {
   "cell_type": "code",
   "execution_count": 36,
   "id": "9442c04d",
   "metadata": {
    "execution": {
     "iopub.execute_input": "2025-07-28T10:36:19.376989Z",
     "iopub.status.busy": "2025-07-28T10:36:19.376506Z",
     "iopub.status.idle": "2025-07-28T10:36:19.525077Z",
     "shell.execute_reply": "2025-07-28T10:36:19.524174Z"
    },
    "papermill": {
     "duration": 0.175028,
     "end_time": "2025-07-28T10:36:19.526984",
     "exception": false,
     "start_time": "2025-07-28T10:36:19.351956",
     "status": "completed"
    },
    "tags": []
   },
   "outputs": [
    {
     "name": "stderr",
     "output_type": "stream",
     "text": [
      "/dss/dsshome1/0C/ra93lal2/.local/share/virtualenvs/CMA_Fairness_v2-3j10GkSs/lib/python3.10/site-packages/sklearn/linear_model/_logistic.py:444: ConvergenceWarning: lbfgs failed to converge (status=1):\n",
      "STOP: TOTAL NO. of ITERATIONS REACHED LIMIT.\n",
      "\n",
      "Increase the number of iterations (max_iter) or scale the data as shown in:\n",
      "    https://scikit-learn.org/stable/modules/preprocessing.html\n",
      "Please also refer to the documentation for alternative solver options:\n",
      "    https://scikit-learn.org/stable/modules/linear_model.html#logistic-regression\n",
      "  n_iter_i = _check_optimize_result(\n"
     ]
    },
    {
     "data": {
      "text/html": [
       "<style>#sk-container-id-1 {color: black;background-color: white;}#sk-container-id-1 pre{padding: 0;}#sk-container-id-1 div.sk-toggleable {background-color: white;}#sk-container-id-1 label.sk-toggleable__label {cursor: pointer;display: block;width: 100%;margin-bottom: 0;padding: 0.3em;box-sizing: border-box;text-align: center;}#sk-container-id-1 label.sk-toggleable__label-arrow:before {content: \"▸\";float: left;margin-right: 0.25em;color: #696969;}#sk-container-id-1 label.sk-toggleable__label-arrow:hover:before {color: black;}#sk-container-id-1 div.sk-estimator:hover label.sk-toggleable__label-arrow:before {color: black;}#sk-container-id-1 div.sk-toggleable__content {max-height: 0;max-width: 0;overflow: hidden;text-align: left;background-color: #f0f8ff;}#sk-container-id-1 div.sk-toggleable__content pre {margin: 0.2em;color: black;border-radius: 0.25em;background-color: #f0f8ff;}#sk-container-id-1 input.sk-toggleable__control:checked~div.sk-toggleable__content {max-height: 200px;max-width: 100%;overflow: auto;}#sk-container-id-1 input.sk-toggleable__control:checked~label.sk-toggleable__label-arrow:before {content: \"▾\";}#sk-container-id-1 div.sk-estimator input.sk-toggleable__control:checked~label.sk-toggleable__label {background-color: #d4ebff;}#sk-container-id-1 div.sk-label input.sk-toggleable__control:checked~label.sk-toggleable__label {background-color: #d4ebff;}#sk-container-id-1 input.sk-hidden--visually {border: 0;clip: rect(1px 1px 1px 1px);clip: rect(1px, 1px, 1px, 1px);height: 1px;margin: -1px;overflow: hidden;padding: 0;position: absolute;width: 1px;}#sk-container-id-1 div.sk-estimator {font-family: monospace;background-color: #f0f8ff;border: 1px dotted black;border-radius: 0.25em;box-sizing: border-box;margin-bottom: 0.5em;}#sk-container-id-1 div.sk-estimator:hover {background-color: #d4ebff;}#sk-container-id-1 div.sk-parallel-item::after {content: \"\";width: 100%;border-bottom: 1px solid gray;flex-grow: 1;}#sk-container-id-1 div.sk-label:hover label.sk-toggleable__label {background-color: #d4ebff;}#sk-container-id-1 div.sk-serial::before {content: \"\";position: absolute;border-left: 1px solid gray;box-sizing: border-box;top: 0;bottom: 0;left: 50%;z-index: 0;}#sk-container-id-1 div.sk-serial {display: flex;flex-direction: column;align-items: center;background-color: white;padding-right: 0.2em;padding-left: 0.2em;position: relative;}#sk-container-id-1 div.sk-item {position: relative;z-index: 1;}#sk-container-id-1 div.sk-parallel {display: flex;align-items: stretch;justify-content: center;background-color: white;position: relative;}#sk-container-id-1 div.sk-item::before, #sk-container-id-1 div.sk-parallel-item::before {content: \"\";position: absolute;border-left: 1px solid gray;box-sizing: border-box;top: 0;bottom: 0;left: 50%;z-index: -1;}#sk-container-id-1 div.sk-parallel-item {display: flex;flex-direction: column;z-index: 1;position: relative;background-color: white;}#sk-container-id-1 div.sk-parallel-item:first-child::after {align-self: flex-end;width: 50%;}#sk-container-id-1 div.sk-parallel-item:last-child::after {align-self: flex-start;width: 50%;}#sk-container-id-1 div.sk-parallel-item:only-child::after {width: 0;}#sk-container-id-1 div.sk-dashed-wrapped {border: 1px dashed gray;margin: 0 0.4em 0.5em 0.4em;box-sizing: border-box;padding-bottom: 0.4em;background-color: white;}#sk-container-id-1 div.sk-label label {font-family: monospace;font-weight: bold;display: inline-block;line-height: 1.2em;}#sk-container-id-1 div.sk-label-container {text-align: center;}#sk-container-id-1 div.sk-container {/* jupyter's `normalize.less` sets `[hidden] { display: none; }` but bootstrap.min.css set `[hidden] { display: none !important; }` so we also need the `!important` here to be able to override the default hidden behavior on the sphinx rendered scikit-learn.org. See: https://github.com/scikit-learn/scikit-learn/issues/21755 */display: inline-block !important;position: relative;}#sk-container-id-1 div.sk-text-repr-fallback {display: none;}</style><div id=\"sk-container-id-1\" class=\"sk-top-container\"><div class=\"sk-text-repr-fallback\"><pre>Pipeline(steps=[(&#x27;scale&#x27;, None), (&#x27;model&#x27;, LogisticRegression())])</pre><b>In a Jupyter environment, please rerun this cell to show the HTML representation or trust the notebook. <br />On GitHub, the HTML representation is unable to render, please try loading this page with nbviewer.org.</b></div><div class=\"sk-container\" hidden><div class=\"sk-item sk-dashed-wrapped\"><div class=\"sk-label-container\"><div class=\"sk-label sk-toggleable\"><input class=\"sk-toggleable__control sk-hidden--visually\" id=\"sk-estimator-id-1\" type=\"checkbox\" ><label for=\"sk-estimator-id-1\" class=\"sk-toggleable__label sk-toggleable__label-arrow\">Pipeline</label><div class=\"sk-toggleable__content\"><pre>Pipeline(steps=[(&#x27;scale&#x27;, None), (&#x27;model&#x27;, LogisticRegression())])</pre></div></div></div><div class=\"sk-serial\"><div class=\"sk-item\"><div class=\"sk-estimator sk-toggleable\"><input class=\"sk-toggleable__control sk-hidden--visually\" id=\"sk-estimator-id-2\" type=\"checkbox\" ><label for=\"sk-estimator-id-2\" class=\"sk-toggleable__label sk-toggleable__label-arrow\">None</label><div class=\"sk-toggleable__content\"><pre>None</pre></div></div></div><div class=\"sk-item\"><div class=\"sk-estimator sk-toggleable\"><input class=\"sk-toggleable__control sk-hidden--visually\" id=\"sk-estimator-id-3\" type=\"checkbox\" ><label for=\"sk-estimator-id-3\" class=\"sk-toggleable__label sk-toggleable__label-arrow\">LogisticRegression</label><div class=\"sk-toggleable__content\"><pre>LogisticRegression()</pre></div></div></div></div></div></div></div>"
      ],
      "text/plain": [
       "Pipeline(steps=[('scale', None), ('model', LogisticRegression())])"
      ]
     },
     "execution_count": 36,
     "metadata": {},
     "output_type": "execute_result"
    }
   ],
   "source": [
    "model.fit(X_train, y_train.values.ravel())"
   ]
  },
  {
   "cell_type": "code",
   "execution_count": 37,
   "id": "af59f8c0",
   "metadata": {
    "execution": {
     "iopub.execute_input": "2025-07-28T10:36:19.576877Z",
     "iopub.status.busy": "2025-07-28T10:36:19.576200Z",
     "iopub.status.idle": "2025-07-28T10:36:19.582318Z",
     "shell.execute_reply": "2025-07-28T10:36:19.581319Z"
    },
    "papermill": {
     "duration": 0.032503,
     "end_time": "2025-07-28T10:36:19.584128",
     "exception": false,
     "start_time": "2025-07-28T10:36:19.551625",
     "status": "completed"
    },
    "tags": []
   },
   "outputs": [],
   "source": [
    "from fairness_multiverse.universe import predict_w_threshold"
   ]
  },
  {
   "cell_type": "code",
   "execution_count": 38,
   "id": "a7cf2e16",
   "metadata": {
    "execution": {
     "iopub.execute_input": "2025-07-28T10:36:19.632954Z",
     "iopub.status.busy": "2025-07-28T10:36:19.631835Z",
     "iopub.status.idle": "2025-07-28T10:36:19.733624Z",
     "shell.execute_reply": "2025-07-28T10:36:19.732553Z"
    },
    "papermill": {
     "duration": 0.128625,
     "end_time": "2025-07-28T10:36:19.735758",
     "exception": false,
     "start_time": "2025-07-28T10:36:19.607133",
     "status": "completed"
    },
    "tags": []
   },
   "outputs": [
    {
     "data": {
      "text/plain": [
       "0.8626017166425147"
      ]
     },
     "execution_count": 38,
     "metadata": {},
     "output_type": "execute_result"
    }
   ],
   "source": [
    "probs_test = model.predict_proba(X_test)\n",
    "\n",
    "'''\n",
    "Below code returns a boolean array (or binary 0/1 array depending on how it’s used) where each element \n",
    "is True if the probability of class 1 is greater than or equal to the threshold, and False otherwise.\n",
    "'''\n",
    "y_pred_default = predict_w_threshold(probs_test, 0.5)\n",
    "\n",
    "from sklearn.metrics import accuracy_score\n",
    "\n",
    "# Naive prediction\n",
    "accuracy_score(y_true = y_true, y_pred = y_pred_default)"
   ]
  },
  {
   "cell_type": "code",
   "execution_count": 39,
   "id": "081964c3",
   "metadata": {
    "execution": {
     "iopub.execute_input": "2025-07-28T10:36:19.790470Z",
     "iopub.status.busy": "2025-07-28T10:36:19.789783Z",
     "iopub.status.idle": "2025-07-28T10:36:19.881648Z",
     "shell.execute_reply": "2025-07-28T10:36:19.880661Z"
    },
    "papermill": {
     "duration": 0.121412,
     "end_time": "2025-07-28T10:36:19.883366",
     "exception": false,
     "start_time": "2025-07-28T10:36:19.761954",
     "status": "completed"
    },
    "tags": []
   },
   "outputs": [
    {
     "data": {
      "text/plain": [
       "array([0, 0, 0, ..., 0, 0, 0])"
      ]
     },
     "execution_count": 39,
     "metadata": {},
     "output_type": "execute_result"
    }
   ],
   "source": [
    "model.predict(X_test)"
   ]
  },
  {
   "cell_type": "markdown",
   "id": "56c9705b",
   "metadata": {
    "papermill": {
     "duration": 0.02239,
     "end_time": "2025-07-28T10:36:19.928502",
     "exception": false,
     "start_time": "2025-07-28T10:36:19.906112",
     "status": "completed"
    },
    "tags": []
   },
   "source": [
    "# Conformal Prediction"
   ]
  },
  {
   "cell_type": "code",
   "execution_count": 40,
   "id": "160ec6ff",
   "metadata": {
    "execution": {
     "iopub.execute_input": "2025-07-28T10:36:19.973772Z",
     "iopub.status.busy": "2025-07-28T10:36:19.973010Z",
     "iopub.status.idle": "2025-07-28T10:36:19.978372Z",
     "shell.execute_reply": "2025-07-28T10:36:19.977366Z"
    },
    "papermill": {
     "duration": 0.029553,
     "end_time": "2025-07-28T10:36:19.980153",
     "exception": false,
     "start_time": "2025-07-28T10:36:19.950600",
     "status": "completed"
    },
    "tags": []
   },
   "outputs": [],
   "source": [
    "# Miscoverage level for conformal prediction (10% allowed error rate => 90% target coverage)\n",
    "alpha = 0.1"
   ]
  },
  {
   "cell_type": "code",
   "execution_count": 41,
   "id": "eadf4555-3dd3-440e-8e35-f82a4ad9f855",
   "metadata": {
    "execution": {
     "iopub.execute_input": "2025-07-28T10:36:20.030855Z",
     "iopub.status.busy": "2025-07-28T10:36:20.030166Z",
     "iopub.status.idle": "2025-07-28T10:36:20.115905Z",
     "shell.execute_reply": "2025-07-28T10:36:20.114949Z"
    },
    "papermill": {
     "duration": 0.112914,
     "end_time": "2025-07-28T10:36:20.117996",
     "exception": false,
     "start_time": "2025-07-28T10:36:20.005082",
     "status": "completed"
    },
    "tags": []
   },
   "outputs": [],
   "source": [
    "probs_calib = model.predict_proba(X_calib)"
   ]
  },
  {
   "cell_type": "code",
   "execution_count": 42,
   "id": "2ed93547-6d5d-4983-9b36-1ecb300da49a",
   "metadata": {
    "execution": {
     "iopub.execute_input": "2025-07-28T10:36:20.168020Z",
     "iopub.status.busy": "2025-07-28T10:36:20.167326Z",
     "iopub.status.idle": "2025-07-28T10:36:20.174232Z",
     "shell.execute_reply": "2025-07-28T10:36:20.173287Z"
    },
    "papermill": {
     "duration": 0.033096,
     "end_time": "2025-07-28T10:36:20.176173",
     "exception": false,
     "start_time": "2025-07-28T10:36:20.143077",
     "status": "completed"
    },
    "tags": []
   },
   "outputs": [],
   "source": [
    "y_calib = y_calib.values.ravel().astype(int)"
   ]
  },
  {
   "cell_type": "code",
   "execution_count": 43,
   "id": "65d1320d-f588-4b38-9072-62af1ae97f7d",
   "metadata": {
    "execution": {
     "iopub.execute_input": "2025-07-28T10:36:20.223336Z",
     "iopub.status.busy": "2025-07-28T10:36:20.222775Z",
     "iopub.status.idle": "2025-07-28T10:36:20.230861Z",
     "shell.execute_reply": "2025-07-28T10:36:20.229946Z"
    },
    "papermill": {
     "duration": 0.033066,
     "end_time": "2025-07-28T10:36:20.232809",
     "exception": false,
     "start_time": "2025-07-28T10:36:20.199743",
     "status": "completed"
    },
    "tags": []
   },
   "outputs": [],
   "source": [
    "from fairness_multiverse.conformal import compute_nc_scores\n",
    "\n",
    "# Compute nonconformity scores on calibration set (1 - probability of true class)\n",
    "nc_scores = compute_nc_scores(probs_calib, y_calib)"
   ]
  },
  {
   "cell_type": "code",
   "execution_count": 44,
   "id": "df3b8ca3-53b7-43d5-9667-7c85da7aeda2",
   "metadata": {
    "execution": {
     "iopub.execute_input": "2025-07-28T10:36:20.280618Z",
     "iopub.status.busy": "2025-07-28T10:36:20.280152Z",
     "iopub.status.idle": "2025-07-28T10:36:20.286635Z",
     "shell.execute_reply": "2025-07-28T10:36:20.285671Z"
    },
    "papermill": {
     "duration": 0.032407,
     "end_time": "2025-07-28T10:36:20.288666",
     "exception": false,
     "start_time": "2025-07-28T10:36:20.256259",
     "status": "completed"
    },
    "tags": []
   },
   "outputs": [],
   "source": [
    "from fairness_multiverse.conformal import find_threshold\n",
    "\n",
    "# Find conformal threshold q_hat for the given alpha (split conformal method)\n",
    "q_hat = find_threshold(nc_scores, alpha)"
   ]
  },
  {
   "cell_type": "code",
   "execution_count": 45,
   "id": "4d29e6c1-0ef6-4aa4-b8fe-4fe79b0d033a",
   "metadata": {
    "execution": {
     "iopub.execute_input": "2025-07-28T10:36:20.334405Z",
     "iopub.status.busy": "2025-07-28T10:36:20.333993Z",
     "iopub.status.idle": "2025-07-28T10:36:20.340798Z",
     "shell.execute_reply": "2025-07-28T10:36:20.339779Z"
    },
    "papermill": {
     "duration": 0.031639,
     "end_time": "2025-07-28T10:36:20.342611",
     "exception": false,
     "start_time": "2025-07-28T10:36:20.310972",
     "status": "completed"
    },
    "tags": []
   },
   "outputs": [
    {
     "data": {
      "text/plain": [
       "0.6787717725047607"
      ]
     },
     "execution_count": 45,
     "metadata": {},
     "output_type": "execute_result"
    }
   ],
   "source": [
    "q_hat"
   ]
  },
  {
   "cell_type": "code",
   "execution_count": 46,
   "id": "92460794-cdac-4be2-ba28-f28c0515a6fb",
   "metadata": {
    "execution": {
     "iopub.execute_input": "2025-07-28T10:36:20.390613Z",
     "iopub.status.busy": "2025-07-28T10:36:20.389713Z",
     "iopub.status.idle": "2025-07-28T10:36:21.208266Z",
     "shell.execute_reply": "2025-07-28T10:36:21.207266Z"
    },
    "papermill": {
     "duration": 0.845127,
     "end_time": "2025-07-28T10:36:21.210256",
     "exception": false,
     "start_time": "2025-07-28T10:36:20.365129",
     "status": "completed"
    },
    "tags": []
   },
   "outputs": [],
   "source": [
    "from fairness_multiverse.conformal import predict_conformal_sets\n",
    "\n",
    "# Generate prediction sets for each test example\n",
    "pred_sets = predict_conformal_sets(model, X_test, q_hat)"
   ]
  },
  {
   "cell_type": "code",
   "execution_count": 47,
   "id": "d90c9a65-e6db-4f5d-80cd-e68fb7e46829",
   "metadata": {
    "execution": {
     "iopub.execute_input": "2025-07-28T10:36:21.258571Z",
     "iopub.status.busy": "2025-07-28T10:36:21.257925Z",
     "iopub.status.idle": "2025-07-28T10:36:21.263668Z",
     "shell.execute_reply": "2025-07-28T10:36:21.262749Z"
    },
    "papermill": {
     "duration": 0.032111,
     "end_time": "2025-07-28T10:36:21.265287",
     "exception": false,
     "start_time": "2025-07-28T10:36:21.233176",
     "status": "completed"
    },
    "tags": []
   },
   "outputs": [],
   "source": [
    "y_true = y_true.squeeze()"
   ]
  },
  {
   "cell_type": "code",
   "execution_count": 48,
   "id": "3a58a54a-1e68-46b9-927a-df01f18aebc8",
   "metadata": {
    "execution": {
     "iopub.execute_input": "2025-07-28T10:36:21.313678Z",
     "iopub.status.busy": "2025-07-28T10:36:21.312792Z",
     "iopub.status.idle": "2025-07-28T10:36:22.298269Z",
     "shell.execute_reply": "2025-07-28T10:36:22.297246Z"
    },
    "papermill": {
     "duration": 1.011915,
     "end_time": "2025-07-28T10:36:22.300331",
     "exception": false,
     "start_time": "2025-07-28T10:36:21.288416",
     "status": "completed"
    },
    "tags": []
   },
   "outputs": [],
   "source": [
    "from fairness_multiverse.conformal import evaluate_sets\n",
    "\n",
    "# Evaluate coverage and average set size on test data\n",
    "metrics = evaluate_sets(pred_sets, y_true)"
   ]
  },
  {
   "cell_type": "markdown",
   "id": "2b569c12-9aaa-4c88-98c9-bbcd0cf3ebb8",
   "metadata": {
    "papermill": {
     "duration": 0.025002,
     "end_time": "2025-07-28T10:36:22.352214",
     "exception": false,
     "start_time": "2025-07-28T10:36:22.327212",
     "status": "completed"
    },
    "tags": []
   },
   "source": [
    "# CP Metrics"
   ]
  },
  {
   "cell_type": "code",
   "execution_count": 49,
   "id": "5ce0a5cb-201f-45a0-ade5-94c7f0bd6095",
   "metadata": {
    "execution": {
     "iopub.execute_input": "2025-07-28T10:36:22.403805Z",
     "iopub.status.busy": "2025-07-28T10:36:22.403320Z",
     "iopub.status.idle": "2025-07-28T10:36:22.410367Z",
     "shell.execute_reply": "2025-07-28T10:36:22.409505Z"
    },
    "papermill": {
     "duration": 0.034832,
     "end_time": "2025-07-28T10:36:22.412001",
     "exception": false,
     "start_time": "2025-07-28T10:36:22.377169",
     "status": "completed"
    },
    "tags": []
   },
   "outputs": [
    {
     "data": {
      "text/plain": [
       "{'coverage': 0.9125515550105897, 'avg_size': 1.209408092743284}"
      ]
     },
     "execution_count": 49,
     "metadata": {},
     "output_type": "execute_result"
    }
   ],
   "source": [
    "metrics"
   ]
  },
  {
   "cell_type": "code",
   "execution_count": 50,
   "id": "9b9a838d-31c9-430b-ae14-12baee460d17",
   "metadata": {
    "execution": {
     "iopub.execute_input": "2025-07-28T10:36:22.464878Z",
     "iopub.status.busy": "2025-07-28T10:36:22.464389Z",
     "iopub.status.idle": "2025-07-28T10:36:22.471219Z",
     "shell.execute_reply": "2025-07-28T10:36:22.470258Z"
    },
    "papermill": {
     "duration": 0.034819,
     "end_time": "2025-07-28T10:36:22.472861",
     "exception": false,
     "start_time": "2025-07-28T10:36:22.438042",
     "status": "completed"
    },
    "tags": []
   },
   "outputs": [],
   "source": [
    "example_universe = universe.copy()\n",
    "universe_training_size = example_universe.get(\"training_size\")\n",
    "universe_scale = example_universe.get(\"scale\")\n",
    "universe_model = example_universe.get(\"model\")\n",
    "universe_exclude_features = example_universe.get(\"exclude_features\")\n",
    "universe_exclude_subgroups = example_universe.get(\"exclude_subgroups\")"
   ]
  },
  {
   "cell_type": "code",
   "execution_count": 51,
   "id": "f4b6a8ac-9dc0-4245-8a91-5b3b5999c4f9",
   "metadata": {
    "execution": {
     "iopub.execute_input": "2025-07-28T10:36:22.525340Z",
     "iopub.status.busy": "2025-07-28T10:36:22.524516Z",
     "iopub.status.idle": "2025-07-28T10:36:22.531502Z",
     "shell.execute_reply": "2025-07-28T10:36:22.530524Z"
    },
    "papermill": {
     "duration": 0.035138,
     "end_time": "2025-07-28T10:36:22.533420",
     "exception": false,
     "start_time": "2025-07-28T10:36:22.498282",
     "status": "completed"
    },
    "tags": []
   },
   "outputs": [],
   "source": [
    "cp_metrics_dict = {\n",
    "    \"universe_id\": [universe_id],\n",
    "    \"universe_training_size\": [universe_training_size],\n",
    "    \"universe_scale\": [universe_scale],\n",
    "    \"universe_model\": [universe_model],\n",
    "    \"universe_exclude_features\": [universe_exclude_features],\n",
    "    \"universe_exclude_subgroups\": [universe_exclude_subgroups],\n",
    "    \"q_hat\": [q_hat],\n",
    "    \"coverage\": [metrics[\"coverage\"]],\n",
    "    \"avg_size\": [metrics[\"avg_size\"]],\n",
    "}"
   ]
  },
  {
   "cell_type": "code",
   "execution_count": 52,
   "id": "908acbb1-0371-4915-85ca-3fa520d2efe2",
   "metadata": {
    "execution": {
     "iopub.execute_input": "2025-07-28T10:36:22.585938Z",
     "iopub.status.busy": "2025-07-28T10:36:22.585418Z",
     "iopub.status.idle": "2025-07-28T10:36:22.593034Z",
     "shell.execute_reply": "2025-07-28T10:36:22.592040Z"
    },
    "papermill": {
     "duration": 0.036072,
     "end_time": "2025-07-28T10:36:22.594772",
     "exception": false,
     "start_time": "2025-07-28T10:36:22.558700",
     "status": "completed"
    },
    "tags": []
   },
   "outputs": [
    {
     "data": {
      "text/plain": [
       "{'universe_id': ['56f0855ce36bb846d686ef43e586acf8'],\n",
       " 'universe_training_size': ['5k'],\n",
       " 'universe_scale': ['do-not-scale'],\n",
       " 'universe_model': ['penalized_logreg'],\n",
       " 'universe_exclude_features': ['sex'],\n",
       " 'universe_exclude_subgroups': ['keep-all'],\n",
       " 'q_hat': [0.6787717725047607],\n",
       " 'coverage': [0.9125515550105897],\n",
       " 'avg_size': [1.209408092743284]}"
      ]
     },
     "execution_count": 52,
     "metadata": {},
     "output_type": "execute_result"
    }
   ],
   "source": [
    "cp_metrics_dict"
   ]
  },
  {
   "cell_type": "code",
   "execution_count": 53,
   "id": "33007efc-14e9-4ec6-97ac-56a455c82265",
   "metadata": {
    "execution": {
     "iopub.execute_input": "2025-07-28T10:36:22.647047Z",
     "iopub.status.busy": "2025-07-28T10:36:22.646384Z",
     "iopub.status.idle": "2025-07-28T10:36:22.653160Z",
     "shell.execute_reply": "2025-07-28T10:36:22.652159Z"
    },
    "papermill": {
     "duration": 0.035104,
     "end_time": "2025-07-28T10:36:22.654906",
     "exception": false,
     "start_time": "2025-07-28T10:36:22.619802",
     "status": "completed"
    },
    "tags": []
   },
   "outputs": [],
   "source": [
    "cp_metrics_df = pd.DataFrame(cp_metrics_dict)"
   ]
  },
  {
   "cell_type": "code",
   "execution_count": 54,
   "id": "db12611b-57b2-4910-b9d0-355adfd6e7bf",
   "metadata": {
    "execution": {
     "iopub.execute_input": "2025-07-28T10:36:22.704584Z",
     "iopub.status.busy": "2025-07-28T10:36:22.703721Z",
     "iopub.status.idle": "2025-07-28T10:36:22.724266Z",
     "shell.execute_reply": "2025-07-28T10:36:22.723307Z"
    },
    "papermill": {
     "duration": 0.046275,
     "end_time": "2025-07-28T10:36:22.725868",
     "exception": false,
     "start_time": "2025-07-28T10:36:22.679593",
     "status": "completed"
    },
    "tags": []
   },
   "outputs": [
    {
     "data": {
      "text/html": [
       "<div>\n",
       "<style scoped>\n",
       "    .dataframe tbody tr th:only-of-type {\n",
       "        vertical-align: middle;\n",
       "    }\n",
       "\n",
       "    .dataframe tbody tr th {\n",
       "        vertical-align: top;\n",
       "    }\n",
       "\n",
       "    .dataframe thead th {\n",
       "        text-align: right;\n",
       "    }\n",
       "</style>\n",
       "<table border=\"1\" class=\"dataframe\">\n",
       "  <thead>\n",
       "    <tr style=\"text-align: right;\">\n",
       "      <th></th>\n",
       "      <th>universe_id</th>\n",
       "      <th>universe_training_size</th>\n",
       "      <th>universe_scale</th>\n",
       "      <th>universe_model</th>\n",
       "      <th>universe_exclude_features</th>\n",
       "      <th>universe_exclude_subgroups</th>\n",
       "      <th>q_hat</th>\n",
       "      <th>coverage</th>\n",
       "      <th>avg_size</th>\n",
       "    </tr>\n",
       "  </thead>\n",
       "  <tbody>\n",
       "    <tr>\n",
       "      <th>0</th>\n",
       "      <td>56f0855ce36bb846d686ef43e586acf8</td>\n",
       "      <td>5k</td>\n",
       "      <td>do-not-scale</td>\n",
       "      <td>penalized_logreg</td>\n",
       "      <td>sex</td>\n",
       "      <td>keep-all</td>\n",
       "      <td>0.678772</td>\n",
       "      <td>0.912552</td>\n",
       "      <td>1.209408</td>\n",
       "    </tr>\n",
       "  </tbody>\n",
       "</table>\n",
       "</div>"
      ],
      "text/plain": [
       "                        universe_id universe_training_size universe_scale  \\\n",
       "0  56f0855ce36bb846d686ef43e586acf8                     5k   do-not-scale   \n",
       "\n",
       "     universe_model universe_exclude_features universe_exclude_subgroups  \\\n",
       "0  penalized_logreg                       sex                   keep-all   \n",
       "\n",
       "      q_hat  coverage  avg_size  \n",
       "0  0.678772  0.912552  1.209408  "
      ]
     },
     "execution_count": 54,
     "metadata": {},
     "output_type": "execute_result"
    }
   ],
   "source": [
    "cp_metrics_df"
   ]
  },
  {
   "cell_type": "code",
   "execution_count": 55,
   "id": "b7fbde55-a0a1-47e4-9af6-fe4a17fa8c61",
   "metadata": {
    "execution": {
     "iopub.execute_input": "2025-07-28T10:36:22.774769Z",
     "iopub.status.busy": "2025-07-28T10:36:22.773875Z",
     "iopub.status.idle": "2025-07-28T10:36:22.779149Z",
     "shell.execute_reply": "2025-07-28T10:36:22.778268Z"
    },
    "papermill": {
     "duration": 0.031206,
     "end_time": "2025-07-28T10:36:22.780762",
     "exception": false,
     "start_time": "2025-07-28T10:36:22.749556",
     "status": "completed"
    },
    "tags": []
   },
   "outputs": [],
   "source": [
    "# Conditional Coverage & looking at subgroups"
   ]
  },
  {
   "cell_type": "code",
   "execution_count": 56,
   "id": "027ae886-68dd-4141-96c7-805a5450e1ef",
   "metadata": {
    "execution": {
     "iopub.execute_input": "2025-07-28T10:36:22.831784Z",
     "iopub.status.busy": "2025-07-28T10:36:22.830949Z",
     "iopub.status.idle": "2025-07-28T10:36:23.099826Z",
     "shell.execute_reply": "2025-07-28T10:36:23.098787Z"
    },
    "papermill": {
     "duration": 0.29744,
     "end_time": "2025-07-28T10:36:23.101705",
     "exception": false,
     "start_time": "2025-07-28T10:36:22.804265",
     "status": "completed"
    },
    "tags": []
   },
   "outputs": [],
   "source": [
    "from fairness_multiverse.conformal import build_cp_groups\n",
    "\n",
    "cp_groups_df = build_cp_groups(pred_sets, y_true, X_test.index, org_test)\n",
    "#needs universe_id and setting"
   ]
  },
  {
   "cell_type": "code",
   "execution_count": 57,
   "id": "01d5802c-663a-4d1f-9d69-e036faaffbf7",
   "metadata": {
    "execution": {
     "iopub.execute_input": "2025-07-28T10:36:23.152504Z",
     "iopub.status.busy": "2025-07-28T10:36:23.151997Z",
     "iopub.status.idle": "2025-07-28T10:36:23.156741Z",
     "shell.execute_reply": "2025-07-28T10:36:23.155782Z"
    },
    "papermill": {
     "duration": 0.031007,
     "end_time": "2025-07-28T10:36:23.158367",
     "exception": false,
     "start_time": "2025-07-28T10:36:23.127360",
     "status": "completed"
    },
    "tags": []
   },
   "outputs": [],
   "source": [
    "#delete\n",
    "#cp_groups_df"
   ]
  },
  {
   "cell_type": "code",
   "execution_count": 58,
   "id": "fa424af1-d1eb-443d-b717-2d279ada8408",
   "metadata": {
    "execution": {
     "iopub.execute_input": "2025-07-28T10:36:23.207074Z",
     "iopub.status.busy": "2025-07-28T10:36:23.206578Z",
     "iopub.status.idle": "2025-07-28T10:36:23.212205Z",
     "shell.execute_reply": "2025-07-28T10:36:23.210902Z"
    },
    "papermill": {
     "duration": 0.031985,
     "end_time": "2025-07-28T10:36:23.214016",
     "exception": false,
     "start_time": "2025-07-28T10:36:23.182031",
     "status": "completed"
    },
    "tags": []
   },
   "outputs": [],
   "source": [
    "#delete\n",
    "#percentage = (cp_groups_df['nongerman_female'] == 1).mean() * 100\n",
    "#print(percentage)\n"
   ]
  },
  {
   "cell_type": "code",
   "execution_count": 59,
   "id": "6cbdab96-b2b2-45af-ad54-d0516db2e28d",
   "metadata": {
    "execution": {
     "iopub.execute_input": "2025-07-28T10:36:23.268207Z",
     "iopub.status.busy": "2025-07-28T10:36:23.267197Z",
     "iopub.status.idle": "2025-07-28T10:36:25.005769Z",
     "shell.execute_reply": "2025-07-28T10:36:25.004732Z"
    },
    "papermill": {
     "duration": 1.766968,
     "end_time": "2025-07-28T10:36:25.007839",
     "exception": false,
     "start_time": "2025-07-28T10:36:23.240871",
     "status": "completed"
    },
    "tags": []
   },
   "outputs": [],
   "source": [
    "# Define covered = 1 if true_label is in the predicted set\n",
    "cp_groups_df['covered'] = cp_groups_df.apply(\n",
    "    lambda r: int(r['true_label'] in r['pred_set']),\n",
    "    axis=1\n",
    ")"
   ]
  },
  {
   "cell_type": "code",
   "execution_count": 60,
   "id": "338ff529-1a6b-4b87-a931-8e4788d52aad",
   "metadata": {
    "execution": {
     "iopub.execute_input": "2025-07-28T10:36:25.063066Z",
     "iopub.status.busy": "2025-07-28T10:36:25.062361Z",
     "iopub.status.idle": "2025-07-28T10:36:25.068066Z",
     "shell.execute_reply": "2025-07-28T10:36:25.067048Z"
    },
    "papermill": {
     "duration": 0.034633,
     "end_time": "2025-07-28T10:36:25.069963",
     "exception": false,
     "start_time": "2025-07-28T10:36:25.035330",
     "status": "completed"
    },
    "tags": []
   },
   "outputs": [],
   "source": [
    "#cp_groups_df"
   ]
  },
  {
   "cell_type": "code",
   "execution_count": 61,
   "id": "90032e27-66df-4540-9169-4e89cfbaa758",
   "metadata": {
    "execution": {
     "iopub.execute_input": "2025-07-28T10:36:25.124537Z",
     "iopub.status.busy": "2025-07-28T10:36:25.123989Z",
     "iopub.status.idle": "2025-07-28T10:36:25.136613Z",
     "shell.execute_reply": "2025-07-28T10:36:25.135504Z"
    },
    "papermill": {
     "duration": 0.041853,
     "end_time": "2025-07-28T10:36:25.138311",
     "exception": false,
     "start_time": "2025-07-28T10:36:25.096458",
     "status": "completed"
    },
    "tags": []
   },
   "outputs": [],
   "source": [
    "subgroups = ['frau1','nongerman','nongerman_male','nongerman_female']\n",
    "\n",
    "# Conditional coverage for subgroup==1\n",
    "cond_coverage = {\n",
    "    g: cp_groups_df.loc[cp_groups_df[g]==1, 'covered'].mean()\n",
    "    for g in subgroups\n",
    "}"
   ]
  },
  {
   "cell_type": "code",
   "execution_count": 62,
   "id": "1e348fb1-b9c3-45bc-ba23-f016827a7e0d",
   "metadata": {
    "execution": {
     "iopub.execute_input": "2025-07-28T10:36:25.188623Z",
     "iopub.status.busy": "2025-07-28T10:36:25.187623Z",
     "iopub.status.idle": "2025-07-28T10:36:25.195400Z",
     "shell.execute_reply": "2025-07-28T10:36:25.194404Z"
    },
    "papermill": {
     "duration": 0.034044,
     "end_time": "2025-07-28T10:36:25.197199",
     "exception": false,
     "start_time": "2025-07-28T10:36:25.163155",
     "status": "completed"
    },
    "tags": []
   },
   "outputs": [
    {
     "data": {
      "text/plain": [
       "{'frau1': 0.912252325111201,\n",
       " 'nongerman': 0.9360579352158536,\n",
       " 'nongerman_male': 0.946410879942358,\n",
       " 'nongerman_female': 0.9189269746646795}"
      ]
     },
     "execution_count": 62,
     "metadata": {},
     "output_type": "execute_result"
    }
   ],
   "source": [
    "cond_coverage"
   ]
  },
  {
   "cell_type": "code",
   "execution_count": 63,
   "id": "f5093324-c3dd-4d63-bc4c-8d945e5c8bbb",
   "metadata": {
    "execution": {
     "iopub.execute_input": "2025-07-28T10:36:25.252207Z",
     "iopub.status.busy": "2025-07-28T10:36:25.251702Z",
     "iopub.status.idle": "2025-07-28T10:36:25.259130Z",
     "shell.execute_reply": "2025-07-28T10:36:25.258168Z"
    },
    "papermill": {
     "duration": 0.037538,
     "end_time": "2025-07-28T10:36:25.260903",
     "exception": false,
     "start_time": "2025-07-28T10:36:25.223365",
     "status": "completed"
    },
    "tags": []
   },
   "outputs": [],
   "source": [
    "for subgroup, cov in cond_coverage.items():\n",
    "    cp_metrics_df[f\"cov_{subgroup}\"] = cov"
   ]
  },
  {
   "cell_type": "code",
   "execution_count": 64,
   "id": "6e872e10-dbe5-49e8-b554-5030c98ff75d",
   "metadata": {
    "execution": {
     "iopub.execute_input": "2025-07-28T10:36:25.315261Z",
     "iopub.status.busy": "2025-07-28T10:36:25.314628Z",
     "iopub.status.idle": "2025-07-28T10:36:25.335910Z",
     "shell.execute_reply": "2025-07-28T10:36:25.334975Z"
    },
    "papermill": {
     "duration": 0.05075,
     "end_time": "2025-07-28T10:36:25.337640",
     "exception": false,
     "start_time": "2025-07-28T10:36:25.286890",
     "status": "completed"
    },
    "tags": []
   },
   "outputs": [
    {
     "data": {
      "text/html": [
       "<div>\n",
       "<style scoped>\n",
       "    .dataframe tbody tr th:only-of-type {\n",
       "        vertical-align: middle;\n",
       "    }\n",
       "\n",
       "    .dataframe tbody tr th {\n",
       "        vertical-align: top;\n",
       "    }\n",
       "\n",
       "    .dataframe thead th {\n",
       "        text-align: right;\n",
       "    }\n",
       "</style>\n",
       "<table border=\"1\" class=\"dataframe\">\n",
       "  <thead>\n",
       "    <tr style=\"text-align: right;\">\n",
       "      <th></th>\n",
       "      <th>universe_id</th>\n",
       "      <th>universe_training_size</th>\n",
       "      <th>universe_scale</th>\n",
       "      <th>universe_model</th>\n",
       "      <th>universe_exclude_features</th>\n",
       "      <th>universe_exclude_subgroups</th>\n",
       "      <th>q_hat</th>\n",
       "      <th>coverage</th>\n",
       "      <th>avg_size</th>\n",
       "      <th>cov_frau1</th>\n",
       "      <th>cov_nongerman</th>\n",
       "      <th>cov_nongerman_male</th>\n",
       "      <th>cov_nongerman_female</th>\n",
       "    </tr>\n",
       "  </thead>\n",
       "  <tbody>\n",
       "    <tr>\n",
       "      <th>0</th>\n",
       "      <td>56f0855ce36bb846d686ef43e586acf8</td>\n",
       "      <td>5k</td>\n",
       "      <td>do-not-scale</td>\n",
       "      <td>penalized_logreg</td>\n",
       "      <td>sex</td>\n",
       "      <td>keep-all</td>\n",
       "      <td>0.678772</td>\n",
       "      <td>0.912552</td>\n",
       "      <td>1.209408</td>\n",
       "      <td>0.912252</td>\n",
       "      <td>0.936058</td>\n",
       "      <td>0.946411</td>\n",
       "      <td>0.918927</td>\n",
       "    </tr>\n",
       "  </tbody>\n",
       "</table>\n",
       "</div>"
      ],
      "text/plain": [
       "                        universe_id universe_training_size universe_scale  \\\n",
       "0  56f0855ce36bb846d686ef43e586acf8                     5k   do-not-scale   \n",
       "\n",
       "     universe_model universe_exclude_features universe_exclude_subgroups  \\\n",
       "0  penalized_logreg                       sex                   keep-all   \n",
       "\n",
       "      q_hat  coverage  avg_size  cov_frau1  cov_nongerman  cov_nongerman_male  \\\n",
       "0  0.678772  0.912552  1.209408   0.912252       0.936058            0.946411   \n",
       "\n",
       "   cov_nongerman_female  \n",
       "0              0.918927  "
      ]
     },
     "execution_count": 64,
     "metadata": {},
     "output_type": "execute_result"
    }
   ],
   "source": [
    "cp_metrics_df"
   ]
  },
  {
   "cell_type": "markdown",
   "id": "33774451",
   "metadata": {
    "papermill": {
     "duration": 0.027112,
     "end_time": "2025-07-28T10:36:25.391657",
     "exception": false,
     "start_time": "2025-07-28T10:36:25.364545",
     "status": "completed"
    },
    "tags": []
   },
   "source": [
    "# (Fairness) Metrics"
   ]
  },
  {
   "cell_type": "code",
   "execution_count": 65,
   "id": "debc5d62",
   "metadata": {
    "execution": {
     "iopub.execute_input": "2025-07-28T10:36:25.445761Z",
     "iopub.status.busy": "2025-07-28T10:36:25.445222Z",
     "iopub.status.idle": "2025-07-28T10:36:25.467011Z",
     "shell.execute_reply": "2025-07-28T10:36:25.466009Z"
    },
    "papermill": {
     "duration": 0.050913,
     "end_time": "2025-07-28T10:36:25.468929",
     "exception": false,
     "start_time": "2025-07-28T10:36:25.418016",
     "status": "completed"
    },
    "tags": []
   },
   "outputs": [],
   "source": [
    "# do I need to include maxdeutsch1.missing?\n",
    "\n",
    "import numpy as np\n",
    "\n",
    "colname_to_bin = \"maxdeutsch1\"\n",
    "majority_value = org_train[colname_to_bin].mode()[0]\n",
    "\n",
    "org_test[\"majmin\"] = np.where(org_test[colname_to_bin] == majority_value, \"majority\", \"minority\")"
   ]
  },
  {
   "cell_type": "code",
   "execution_count": 66,
   "id": "06a50de5",
   "metadata": {
    "execution": {
     "iopub.execute_input": "2025-07-28T10:36:25.526326Z",
     "iopub.status.busy": "2025-07-28T10:36:25.525630Z",
     "iopub.status.idle": "2025-07-28T10:36:28.592419Z",
     "shell.execute_reply": "2025-07-28T10:36:28.591336Z"
    },
    "papermill": {
     "duration": 3.098499,
     "end_time": "2025-07-28T10:36:28.595218",
     "exception": false,
     "start_time": "2025-07-28T10:36:25.496719",
     "status": "completed"
    },
    "tags": []
   },
   "outputs": [],
   "source": [
    "example_universe = universe.copy()\n",
    "example_universe[\"cutoff\"] = example_universe[\"cutoff\"][0]\n",
    "example_universe[\"eval_fairness_grouping\"] = example_universe[\"eval_fairness_grouping\"][0]\n",
    "fairness_dict, metric_frame = universe_analysis.compute_metrics(\n",
    "    example_universe,\n",
    "    y_pred_prob=probs_test,\n",
    "    y_test=y_true,\n",
    "    org_test=org_test,\n",
    ")"
   ]
  },
  {
   "cell_type": "markdown",
   "id": "f95d4e02",
   "metadata": {
    "papermill": {
     "duration": 0.039072,
     "end_time": "2025-07-28T10:36:28.675259",
     "exception": false,
     "start_time": "2025-07-28T10:36:28.636187",
     "status": "completed"
    },
    "tags": []
   },
   "source": [
    "# Overall"
   ]
  },
  {
   "cell_type": "markdown",
   "id": "bdee4871",
   "metadata": {
    "papermill": {
     "duration": 0.039177,
     "end_time": "2025-07-28T10:36:28.754135",
     "exception": false,
     "start_time": "2025-07-28T10:36:28.714958",
     "status": "completed"
    },
    "tags": []
   },
   "source": [
    "Fairness\n",
    "Main fairness target: Equalized Odds. Seems to be a better fit than equal opportunity, since we're not only interested in Y = 1. Seems to be a better fit than demographic parity, since we also care about accuracy, not just equal distribution of preds.\n",
    "\n",
    "Pick column for computation of fairness metrics\n",
    "\n",
    "Performance\n",
    "Overall performance measures, most interesting in relation to the measures split by group below"
   ]
  },
  {
   "cell_type": "code",
   "execution_count": 67,
   "id": "c4e067c6",
   "metadata": {
    "execution": {
     "iopub.execute_input": "2025-07-28T10:36:28.835871Z",
     "iopub.status.busy": "2025-07-28T10:36:28.835020Z",
     "iopub.status.idle": "2025-07-28T10:36:28.845859Z",
     "shell.execute_reply": "2025-07-28T10:36:28.844726Z"
    },
    "papermill": {
     "duration": 0.053409,
     "end_time": "2025-07-28T10:36:28.847372",
     "exception": false,
     "start_time": "2025-07-28T10:36:28.793963",
     "status": "completed"
    },
    "tags": []
   },
   "outputs": [
    {
     "data": {
      "text/plain": [
       "accuracy                   0.218292\n",
       "balanced accuracy          0.535029\n",
       "f1                         0.239791\n",
       "precision                  0.136985\n",
       "false positive rate        0.891013\n",
       "false negative rate        0.038929\n",
       "selection rate             0.900000\n",
       "count                  89710.000000\n",
       "dtype: float64"
      ]
     },
     "execution_count": 67,
     "metadata": {},
     "output_type": "execute_result"
    }
   ],
   "source": [
    "metric_frame.overall"
   ]
  },
  {
   "cell_type": "markdown",
   "id": "e968fe9d",
   "metadata": {
    "papermill": {
     "duration": 0.027563,
     "end_time": "2025-07-28T10:36:28.902753",
     "exception": false,
     "start_time": "2025-07-28T10:36:28.875190",
     "status": "completed"
    },
    "tags": []
   },
   "source": [
    "By Group"
   ]
  },
  {
   "cell_type": "code",
   "execution_count": 68,
   "id": "ec325bce",
   "metadata": {
    "execution": {
     "iopub.execute_input": "2025-07-28T10:36:28.958763Z",
     "iopub.status.busy": "2025-07-28T10:36:28.958103Z",
     "iopub.status.idle": "2025-07-28T10:36:28.976724Z",
     "shell.execute_reply": "2025-07-28T10:36:28.975445Z"
    },
    "papermill": {
     "duration": 0.048335,
     "end_time": "2025-07-28T10:36:28.978670",
     "exception": false,
     "start_time": "2025-07-28T10:36:28.930335",
     "status": "completed"
    },
    "tags": []
   },
   "outputs": [
    {
     "data": {
      "text/html": [
       "<div>\n",
       "<style scoped>\n",
       "    .dataframe tbody tr th:only-of-type {\n",
       "        vertical-align: middle;\n",
       "    }\n",
       "\n",
       "    .dataframe tbody tr th {\n",
       "        vertical-align: top;\n",
       "    }\n",
       "\n",
       "    .dataframe thead th {\n",
       "        text-align: right;\n",
       "    }\n",
       "</style>\n",
       "<table border=\"1\" class=\"dataframe\">\n",
       "  <thead>\n",
       "    <tr style=\"text-align: right;\">\n",
       "      <th></th>\n",
       "      <th>accuracy</th>\n",
       "      <th>balanced accuracy</th>\n",
       "      <th>f1</th>\n",
       "      <th>precision</th>\n",
       "      <th>false positive rate</th>\n",
       "      <th>false negative rate</th>\n",
       "      <th>selection rate</th>\n",
       "      <th>count</th>\n",
       "    </tr>\n",
       "    <tr>\n",
       "      <th>majmin</th>\n",
       "      <th></th>\n",
       "      <th></th>\n",
       "      <th></th>\n",
       "      <th></th>\n",
       "      <th></th>\n",
       "      <th></th>\n",
       "      <th></th>\n",
       "      <th></th>\n",
       "    </tr>\n",
       "  </thead>\n",
       "  <tbody>\n",
       "    <tr>\n",
       "      <th>majority</th>\n",
       "      <td>0.24022</td>\n",
       "      <td>0.543069</td>\n",
       "      <td>0.249293</td>\n",
       "      <td>0.143364</td>\n",
       "      <td>0.868566</td>\n",
       "      <td>0.045295</td>\n",
       "      <td>0.879948</td>\n",
       "      <td>69170.0</td>\n",
       "    </tr>\n",
       "    <tr>\n",
       "      <th>minority</th>\n",
       "      <td>0.14445</td>\n",
       "      <td>0.510238</td>\n",
       "      <td>0.209883</td>\n",
       "      <td>0.117446</td>\n",
       "      <td>0.965166</td>\n",
       "      <td>0.014358</td>\n",
       "      <td>0.967527</td>\n",
       "      <td>20540.0</td>\n",
       "    </tr>\n",
       "  </tbody>\n",
       "</table>\n",
       "</div>"
      ],
      "text/plain": [
       "          accuracy  balanced accuracy        f1  precision  \\\n",
       "majmin                                                       \n",
       "majority   0.24022           0.543069  0.249293   0.143364   \n",
       "minority   0.14445           0.510238  0.209883   0.117446   \n",
       "\n",
       "          false positive rate  false negative rate  selection rate    count  \n",
       "majmin                                                                       \n",
       "majority             0.868566             0.045295        0.879948  69170.0  \n",
       "minority             0.965166             0.014358        0.967527  20540.0  "
      ]
     },
     "execution_count": 68,
     "metadata": {},
     "output_type": "execute_result"
    }
   ],
   "source": [
    "metric_frame.by_group"
   ]
  },
  {
   "cell_type": "code",
   "execution_count": 69,
   "id": "a9ddbe63",
   "metadata": {
    "execution": {
     "iopub.execute_input": "2025-07-28T10:36:29.035141Z",
     "iopub.status.busy": "2025-07-28T10:36:29.034385Z",
     "iopub.status.idle": "2025-07-28T10:36:31.613787Z",
     "shell.execute_reply": "2025-07-28T10:36:31.612812Z"
    },
    "papermill": {
     "duration": 2.60932,
     "end_time": "2025-07-28T10:36:31.615464",
     "exception": false,
     "start_time": "2025-07-28T10:36:29.006144",
     "status": "completed"
    },
    "tags": []
   },
   "outputs": [
    {
     "data": {
      "text/plain": [
       "array([[<Axes: title={'center': 'accuracy'}, xlabel='majmin'>,\n",
       "        <Axes: title={'center': 'balanced accuracy'}, xlabel='majmin'>,\n",
       "        <Axes: title={'center': 'f1'}, xlabel='majmin'>],\n",
       "       [<Axes: title={'center': 'precision'}, xlabel='majmin'>,\n",
       "        <Axes: title={'center': 'false positive rate'}, xlabel='majmin'>,\n",
       "        <Axes: title={'center': 'false negative rate'}, xlabel='majmin'>],\n",
       "       [<Axes: title={'center': 'selection rate'}, xlabel='majmin'>,\n",
       "        <Axes: title={'center': 'count'}, xlabel='majmin'>,\n",
       "        <Axes: xlabel='majmin'>]], dtype=object)"
      ]
     },
     "execution_count": 69,
     "metadata": {},
     "output_type": "execute_result"
    },
    {
     "data": {
      "image/png": "[encoded data removed]",
      "text/plain": [
       "<Figure size 1200x800 with 9 Axes>"
      ]
     },
     "metadata": {},
     "output_type": "display_data"
    }
   ],
   "source": [
    "# In a graphic\n",
    "metric_frame.by_group.plot.bar(\n",
    "    subplots=True,\n",
    "    layout=[3, 3],\n",
    "    legend=False,\n",
    "    figsize=[12, 8],\n",
    "    title=\"Show all metrics\",\n",
    ")"
   ]
  },
  {
   "cell_type": "markdown",
   "id": "f57a0bac",
   "metadata": {
    "papermill": {
     "duration": 0.028215,
     "end_time": "2025-07-28T10:36:31.673807",
     "exception": false,
     "start_time": "2025-07-28T10:36:31.645592",
     "status": "completed"
    },
    "tags": []
   },
   "source": [
    "# Final Output"
   ]
  },
  {
   "cell_type": "code",
   "execution_count": 70,
   "id": "96d280a3",
   "metadata": {
    "execution": {
     "iopub.execute_input": "2025-07-28T10:36:31.800125Z",
     "iopub.status.busy": "2025-07-28T10:36:31.799252Z",
     "iopub.status.idle": "2025-07-28T10:36:31.807989Z",
     "shell.execute_reply": "2025-07-28T10:36:31.806975Z"
    },
    "papermill": {
     "duration": 0.039612,
     "end_time": "2025-07-28T10:36:31.809768",
     "exception": false,
     "start_time": "2025-07-28T10:36:31.770156",
     "status": "completed"
    },
    "tags": []
   },
   "outputs": [
    {
     "data": {
      "text/plain": [
       "4"
      ]
     },
     "execution_count": 70,
     "metadata": {},
     "output_type": "execute_result"
    }
   ],
   "source": [
    "sub_universes = universe_analysis.generate_sub_universes()\n",
    "len(sub_universes)"
   ]
  },
  {
   "cell_type": "code",
   "execution_count": 71,
   "id": "92adf7ba",
   "metadata": {
    "execution": {
     "iopub.execute_input": "2025-07-28T10:36:31.868563Z",
     "iopub.status.busy": "2025-07-28T10:36:31.867992Z",
     "iopub.status.idle": "2025-07-28T10:36:31.874944Z",
     "shell.execute_reply": "2025-07-28T10:36:31.873920Z"
    },
    "papermill": {
     "duration": 0.038311,
     "end_time": "2025-07-28T10:36:31.876820",
     "exception": false,
     "start_time": "2025-07-28T10:36:31.838509",
     "status": "completed"
    },
    "tags": []
   },
   "outputs": [],
   "source": [
    "def filter_sub_universe_data(sub_universe, org_test):\n",
    "    # Keep all rows — no filtering\n",
    "    keep_rows_mask = np.ones(org_test.shape[0], dtype=bool)\n",
    "\n",
    "    print(f\"[INFO] Keeping all rows: {keep_rows_mask.sum()} rows retained.\")\n",
    "    return keep_rows_mask"
   ]
  },
  {
   "cell_type": "code",
   "execution_count": 72,
   "id": "4a759155",
   "metadata": {
    "execution": {
     "iopub.execute_input": "2025-07-28T10:36:31.940063Z",
     "iopub.status.busy": "2025-07-28T10:36:31.939579Z",
     "iopub.status.idle": "2025-07-28T10:36:42.630387Z",
     "shell.execute_reply": "2025-07-28T10:36:42.628973Z"
    },
    "papermill": {
     "duration": 10.723529,
     "end_time": "2025-07-28T10:36:42.632296",
     "exception": false,
     "start_time": "2025-07-28T10:36:31.908767",
     "status": "completed"
    },
    "tags": []
   },
   "outputs": [
    {
     "name": "stdout",
     "output_type": "stream",
     "text": [
      "Stopping execution_time clock.\n",
      "[INFO] Keeping all rows: 89710 rows retained.\n"
     ]
    },
    {
     "name": "stdout",
     "output_type": "stream",
     "text": [
      "[INFO] Keeping all rows: 89710 rows retained.\n"
     ]
    },
    {
     "name": "stdout",
     "output_type": "stream",
     "text": [
      "[INFO] Keeping all rows: 89710 rows retained.\n"
     ]
    },
    {
     "name": "stdout",
     "output_type": "stream",
     "text": [
      "[INFO] Keeping all rows: 89710 rows retained.\n"
     ]
    },
    {
     "data": {
      "text/html": [
       "<div>\n",
       "<style scoped>\n",
       "    .dataframe tbody tr th:only-of-type {\n",
       "        vertical-align: middle;\n",
       "    }\n",
       "\n",
       "    .dataframe tbody tr th {\n",
       "        vertical-align: top;\n",
       "    }\n",
       "\n",
       "    .dataframe thead th {\n",
       "        text-align: right;\n",
       "    }\n",
       "</style>\n",
       "<table border=\"1\" class=\"dataframe\">\n",
       "  <thead>\n",
       "    <tr style=\"text-align: right;\">\n",
       "      <th></th>\n",
       "      <th>run_no</th>\n",
       "      <th>universe_id</th>\n",
       "      <th>universe_settings</th>\n",
       "      <th>execution_time</th>\n",
       "      <th>test_size_n</th>\n",
       "      <th>test_size_frac</th>\n",
       "      <th>fair_main_equalized_odds_difference</th>\n",
       "      <th>fair_main_equalized_odds_ratio</th>\n",
       "      <th>fair_main_demographic_parity_difference</th>\n",
       "      <th>fair_main_demographic_parity_ratio</th>\n",
       "      <th>...</th>\n",
       "      <th>perf_grp_precision_0</th>\n",
       "      <th>perf_grp_precision_1</th>\n",
       "      <th>perf_grp_false positive rate_0</th>\n",
       "      <th>perf_grp_false positive rate_1</th>\n",
       "      <th>perf_grp_false negative rate_0</th>\n",
       "      <th>perf_grp_false negative rate_1</th>\n",
       "      <th>perf_grp_selection rate_0</th>\n",
       "      <th>perf_grp_selection rate_1</th>\n",
       "      <th>perf_grp_count_0</th>\n",
       "      <th>perf_grp_count_1</th>\n",
       "    </tr>\n",
       "  </thead>\n",
       "  <tbody>\n",
       "    <tr>\n",
       "      <th>0</th>\n",
       "      <td>11</td>\n",
       "      <td>56f0855ce36bb846d686ef43e586acf8</td>\n",
       "      <td>{\"cutoff\": \"quantile_0.1\", \"eval_fairness_grou...</td>\n",
       "      <td>27.35799</td>\n",
       "      <td>89710</td>\n",
       "      <td>1.0</td>\n",
       "      <td>0.096600</td>\n",
       "      <td>0.899913</td>\n",
       "      <td>0.087579</td>\n",
       "      <td>0.909482</td>\n",
       "      <td>...</td>\n",
       "      <td>NaN</td>\n",
       "      <td>NaN</td>\n",
       "      <td>NaN</td>\n",
       "      <td>NaN</td>\n",
       "      <td>NaN</td>\n",
       "      <td>NaN</td>\n",
       "      <td>NaN</td>\n",
       "      <td>NaN</td>\n",
       "      <td>NaN</td>\n",
       "      <td>NaN</td>\n",
       "    </tr>\n",
       "    <tr>\n",
       "      <th>0</th>\n",
       "      <td>11</td>\n",
       "      <td>56f0855ce36bb846d686ef43e586acf8</td>\n",
       "      <td>{\"cutoff\": \"quantile_0.1\", \"eval_fairness_grou...</td>\n",
       "      <td>27.35799</td>\n",
       "      <td>89710</td>\n",
       "      <td>1.0</td>\n",
       "      <td>0.096600</td>\n",
       "      <td>0.899913</td>\n",
       "      <td>0.087579</td>\n",
       "      <td>0.909482</td>\n",
       "      <td>...</td>\n",
       "      <td>0.117446</td>\n",
       "      <td>0.143364</td>\n",
       "      <td>0.965166</td>\n",
       "      <td>0.868566</td>\n",
       "      <td>0.014358</td>\n",
       "      <td>0.045295</td>\n",
       "      <td>0.967527</td>\n",
       "      <td>0.879948</td>\n",
       "      <td>20540.0</td>\n",
       "      <td>69170.0</td>\n",
       "    </tr>\n",
       "    <tr>\n",
       "      <th>0</th>\n",
       "      <td>11</td>\n",
       "      <td>56f0855ce36bb846d686ef43e586acf8</td>\n",
       "      <td>{\"cutoff\": \"quantile_0.25\", \"eval_fairness_gro...</td>\n",
       "      <td>27.35799</td>\n",
       "      <td>89710</td>\n",
       "      <td>1.0</td>\n",
       "      <td>0.219307</td>\n",
       "      <td>0.756001</td>\n",
       "      <td>0.200927</td>\n",
       "      <td>0.777961</td>\n",
       "      <td>...</td>\n",
       "      <td>NaN</td>\n",
       "      <td>NaN</td>\n",
       "      <td>NaN</td>\n",
       "      <td>NaN</td>\n",
       "      <td>NaN</td>\n",
       "      <td>NaN</td>\n",
       "      <td>NaN</td>\n",
       "      <td>NaN</td>\n",
       "      <td>NaN</td>\n",
       "      <td>NaN</td>\n",
       "    </tr>\n",
       "    <tr>\n",
       "      <th>0</th>\n",
       "      <td>11</td>\n",
       "      <td>56f0855ce36bb846d686ef43e586acf8</td>\n",
       "      <td>{\"cutoff\": \"quantile_0.25\", \"eval_fairness_gro...</td>\n",
       "      <td>27.35799</td>\n",
       "      <td>89710</td>\n",
       "      <td>1.0</td>\n",
       "      <td>0.219307</td>\n",
       "      <td>0.756001</td>\n",
       "      <td>0.200927</td>\n",
       "      <td>0.777961</td>\n",
       "      <td>...</td>\n",
       "      <td>0.121268</td>\n",
       "      <td>0.162337</td>\n",
       "      <td>0.898800</td>\n",
       "      <td>0.679494</td>\n",
       "      <td>0.048142</td>\n",
       "      <td>0.135120</td>\n",
       "      <td>0.904917</td>\n",
       "      <td>0.703990</td>\n",
       "      <td>20540.0</td>\n",
       "      <td>69170.0</td>\n",
       "    </tr>\n",
       "  </tbody>\n",
       "</table>\n",
       "<p>4 rows × 50 columns</p>\n",
       "</div>"
      ],
      "text/plain": [
       "  run_no                       universe_id  \\\n",
       "0     11  56f0855ce36bb846d686ef43e586acf8   \n",
       "0     11  56f0855ce36bb846d686ef43e586acf8   \n",
       "0     11  56f0855ce36bb846d686ef43e586acf8   \n",
       "0     11  56f0855ce36bb846d686ef43e586acf8   \n",
       "\n",
       "                                   universe_settings  execution_time  \\\n",
       "0  {\"cutoff\": \"quantile_0.1\", \"eval_fairness_grou...        27.35799   \n",
       "0  {\"cutoff\": \"quantile_0.1\", \"eval_fairness_grou...        27.35799   \n",
       "0  {\"cutoff\": \"quantile_0.25\", \"eval_fairness_gro...        27.35799   \n",
       "0  {\"cutoff\": \"quantile_0.25\", \"eval_fairness_gro...        27.35799   \n",
       "\n",
       "   test_size_n  test_size_frac  fair_main_equalized_odds_difference  \\\n",
       "0        89710             1.0                             0.096600   \n",
       "0        89710             1.0                             0.096600   \n",
       "0        89710             1.0                             0.219307   \n",
       "0        89710             1.0                             0.219307   \n",
       "\n",
       "   fair_main_equalized_odds_ratio  fair_main_demographic_parity_difference  \\\n",
       "0                        0.899913                                 0.087579   \n",
       "0                        0.899913                                 0.087579   \n",
       "0                        0.756001                                 0.200927   \n",
       "0                        0.756001                                 0.200927   \n",
       "\n",
       "   fair_main_demographic_parity_ratio  ...  perf_grp_precision_0  \\\n",
       "0                            0.909482  ...                   NaN   \n",
       "0                            0.909482  ...              0.117446   \n",
       "0                            0.777961  ...                   NaN   \n",
       "0                            0.777961  ...              0.121268   \n",
       "\n",
       "   perf_grp_precision_1  perf_grp_false positive rate_0  \\\n",
       "0                   NaN                             NaN   \n",
       "0              0.143364                        0.965166   \n",
       "0                   NaN                             NaN   \n",
       "0              0.162337                        0.898800   \n",
       "\n",
       "   perf_grp_false positive rate_1  perf_grp_false negative rate_0  \\\n",
       "0                             NaN                             NaN   \n",
       "0                        0.868566                        0.014358   \n",
       "0                             NaN                             NaN   \n",
       "0                        0.679494                        0.048142   \n",
       "\n",
       "   perf_grp_false negative rate_1  perf_grp_selection rate_0  \\\n",
       "0                             NaN                        NaN   \n",
       "0                        0.045295                   0.967527   \n",
       "0                             NaN                        NaN   \n",
       "0                        0.135120                   0.904917   \n",
       "\n",
       "   perf_grp_selection rate_1  perf_grp_count_0  perf_grp_count_1  \n",
       "0                        NaN               NaN               NaN  \n",
       "0                   0.879948           20540.0           69170.0  \n",
       "0                        NaN               NaN               NaN  \n",
       "0                   0.703990           20540.0           69170.0  \n",
       "\n",
       "[4 rows x 50 columns]"
      ]
     },
     "execution_count": 72,
     "metadata": {},
     "output_type": "execute_result"
    }
   ],
   "source": [
    "final_output = universe_analysis.generate_final_output(\n",
    "    y_pred_prob=probs_test,\n",
    "    y_test=y_true,\n",
    "    org_test=org_test,\n",
    "    filter_data=filter_sub_universe_data,\n",
    "    cp_metrics_df=cp_metrics_df,\n",
    "    save=True,\n",
    ")\n",
    "final_output"
   ]
  },
  {
   "cell_type": "code",
   "execution_count": null,
   "id": "721ff514-cb11-46f8-b6fc-50392f74b5cb",
   "metadata": {
    "papermill": {
     "duration": 0.022069,
     "end_time": "2025-07-28T10:36:42.689123",
     "exception": false,
     "start_time": "2025-07-28T10:36:42.667054",
     "status": "completed"
    },
    "tags": []
   },
   "outputs": [],
   "source": []
  }
 ],
 "metadata": {
  "celltoolbar": "Tags",
  "kernelspec": {
   "display_name": "Python (CMA Fairness)",
   "language": "python",
   "name": "cma_fair_env"
  },
  "language_info": {
   "codemirror_mode": {
    "name": "ipython",
    "version": 3
   },
   "file_extension": ".py",
   "mimetype": "text/x-python",
   "name": "python",
   "nbconvert_exporter": "python",
   "pygments_lexer": "ipython3",
   "version": "3.10.12"
  },
  "papermill": {
   "default_parameters": {},
   "duration": 42.669183,
   "end_time": "2025-07-28T10:36:43.431125",
   "environment_variables": {},
   "exception": null,
   "input_path": "universe_analysis.ipynb",
   "output_path": "output/runs/11/notebooks/m_11-56f0855ce36bb846d686ef43e586acf8.ipynb",
   "parameters": {
    "output_dir": "output",
    "run_no": "11",
    "seed": "2023",
    "universe": "{\"cutoff\": [\"quantile_0.1\", \"quantile_0.25\"], \"eval_fairness_grouping\": [\"majority-minority\", \"nationality-all\"], \"exclude_features\": \"sex\", \"exclude_subgroups\": \"keep-all\", \"model\": \"penalized_logreg\", \"scale\": \"do-not-scale\", \"training_size\": \"5k\"}",
    "universe_id": "56f0855ce36bb846d686ef43e586acf8"
   },
   "start_time": "2025-07-28T10:36:00.761942",
   "version": "2.6.0"
  }
 },
 "nbformat": 4,
 "nbformat_minor": 5
}