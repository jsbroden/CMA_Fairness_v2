{
 "cells": [
  {
   "cell_type": "code",
   "execution_count": 1,
   "id": "f159f837-637b-42ba-96b5-ec9a68c44524",
   "metadata": {
    "execution": {
     "iopub.execute_input": "2025-07-28T10:15:15.367925Z",
     "iopub.status.busy": "2025-07-28T10:15:15.367562Z",
     "iopub.status.idle": "2025-07-28T10:15:15.378448Z",
     "shell.execute_reply": "2025-07-28T10:15:15.377570Z"
    },
    "papermill": {
     "duration": 0.026012,
     "end_time": "2025-07-28T10:15:15.379807",
     "exception": false,
     "start_time": "2025-07-28T10:15:15.353795",
     "status": "completed"
    },
    "tags": []
   },
   "outputs": [
    {
     "name": "stdout",
     "output_type": "stream",
     "text": [
      "/dss/dsshome1/0C/ra93lal2/cma/CMA_Fairness_v2\n"
     ]
    },
    {
     "name": "stderr",
     "output_type": "stream",
     "text": [
      "/dss/dsshome1/0C/ra93lal2/.local/share/virtualenvs/CMA_Fairness_v2-3j10GkSs/lib/python3.10/site-packages/IPython/core/magics/osm.py:393: UserWarning: This is now an optional IPython functionality, using bookmarks requires you to install the `pickleshare` library.\n",
      "  bkms = self.shell.db.get('bookmarks', {})\n",
      "/dss/dsshome1/0C/ra93lal2/.local/share/virtualenvs/CMA_Fairness_v2-3j10GkSs/lib/python3.10/site-packages/IPython/core/magics/osm.py:417: UserWarning: This is now an optional IPython functionality, setting dhist requires you to install the `pickleshare` library.\n",
      "  self.shell.db['dhist'] = compress_dhist(dhist)[-100:]\n"
     ]
    }
   ],
   "source": [
    "%cd ~/cma/CMA_Fairness_v2"
   ]
  },
  {
   "cell_type": "markdown",
   "id": "de2603b9",
   "metadata": {
    "papermill": {
     "duration": 0.010346,
     "end_time": "2025-07-28T10:15:15.400835",
     "exception": false,
     "start_time": "2025-07-28T10:15:15.390489",
     "status": "completed"
    },
    "tags": []
   },
   "source": [
    "The following cell holds the definition of our parameters, these values can be overriden by rendering the with e.g. the following command:\n",
    "\n",
    "papermill -p alpha 0.2 -p ratio 0.3 universe_analysis.ipynb output/test_run.ipynb"
   ]
  },
  {
   "cell_type": "code",
   "execution_count": 2,
   "id": "a80968a0-40bb-4fa9-85ef-2d5eefb01975",
   "metadata": {
    "execution": {
     "iopub.execute_input": "2025-07-28T10:15:15.423526Z",
     "iopub.status.busy": "2025-07-28T10:15:15.422787Z",
     "iopub.status.idle": "2025-07-28T10:15:15.428552Z",
     "shell.execute_reply": "2025-07-28T10:15:15.427754Z"
    },
    "papermill": {
     "duration": 0.018542,
     "end_time": "2025-07-28T10:15:15.429949",
     "exception": false,
     "start_time": "2025-07-28T10:15:15.411407",
     "status": "completed"
    },
    "tags": []
   },
   "outputs": [
    {
     "name": "stdout",
     "output_type": "stream",
     "text": [
      "Current working directory: /dss/dsshome1/0C/ra93lal2/cma/CMA_Fairness_v2\n"
     ]
    }
   ],
   "source": [
    "import os\n",
    "print(\"Current working directory:\", os.getcwd())"
   ]
  },
  {
   "cell_type": "code",
   "execution_count": 3,
   "id": "2dce4c03",
   "metadata": {
    "execution": {
     "iopub.execute_input": "2025-07-28T10:15:15.452203Z",
     "iopub.status.busy": "2025-07-28T10:15:15.451664Z",
     "iopub.status.idle": "2025-07-28T10:15:15.457086Z",
     "shell.execute_reply": "2025-07-28T10:15:15.456351Z"
    },
    "papermill": {
     "duration": 0.017756,
     "end_time": "2025-07-28T10:15:15.458400",
     "exception": false,
     "start_time": "2025-07-28T10:15:15.440644",
     "status": "completed"
    },
    "tags": [
     "parameters"
    ]
   },
   "outputs": [],
   "source": [
    "run_no = 0\n",
    "universe_id = \"test\"\n",
    "universe = {\n",
    "    \"training_size\": \"2014\", # \"25k\", \"5k\", \"1k\", \"2014\"\n",
    "    \"scale\": \"scale\", # \"scale\", \"do-not-scale\",\n",
    "    #\"stratify_split\": \"target\", # \"none\", \"target\", \"protected-attribute\", \"both\",\n",
    "    \"model\": \"elasticnet\", # \"logreg\", \"penalized_logreg\", \"rf\", \"gbm\", \"elasticnet\"\n",
    "    \"cutoff\": [\"quantile_0.15\", \"quantile_0.30\"],\n",
    "    \"exclude_features\": \"age\", # \"none\", \"nationality\", \"sex\", \"nationality-sex\", \"age\"\n",
    "    \"exclude_subgroups\": \"keep-all\", # \"keep-all\", \"drop-non-german\"\n",
    "    #\"training_sample\": \"restricted\", # \"restricted\", \"full\"\n",
    "    \"eval_fairness_grouping\": [\"majority-minority\", \"nationality-all\"]\n",
    "}\n",
    "\n",
    "output_dir=\"./output\"\n",
    "seed=0"
   ]
  },
  {
   "cell_type": "code",
   "execution_count": 4,
   "id": "8aa188fe",
   "metadata": {
    "execution": {
     "iopub.execute_input": "2025-07-28T10:15:15.481247Z",
     "iopub.status.busy": "2025-07-28T10:15:15.480694Z",
     "iopub.status.idle": "2025-07-28T10:15:15.485782Z",
     "shell.execute_reply": "2025-07-28T10:15:15.484986Z"
    },
    "papermill": {
     "duration": 0.017731,
     "end_time": "2025-07-28T10:15:15.487193",
     "exception": false,
     "start_time": "2025-07-28T10:15:15.469462",
     "status": "completed"
    },
    "tags": [
     "injected-parameters"
    ]
   },
   "outputs": [],
   "source": [
    "# Parameters\n",
    "universe_id = \"3b8788b68cb0514f391eb4d15516cfb8\"\n",
    "run_no = \"11\"\n",
    "universe = \"{\\\"cutoff\\\": [\\\"quantile_0.1\\\", \\\"quantile_0.25\\\"], \\\"eval_fairness_grouping\\\": [\\\"majority-minority\\\", \\\"nationality-all\\\"], \\\"exclude_features\\\": \\\"nationality\\\", \\\"exclude_subgroups\\\": \\\"keep-all\\\", \\\"model\\\": \\\"elasticnet\\\", \\\"scale\\\": \\\"scale\\\", \\\"training_size\\\": \\\"25k\\\"}\"\n",
    "output_dir = \"output\"\n",
    "seed = \"2023\"\n"
   ]
  },
  {
   "cell_type": "code",
   "execution_count": 5,
   "id": "1650acaf",
   "metadata": {
    "execution": {
     "iopub.execute_input": "2025-07-28T10:15:15.509917Z",
     "iopub.status.busy": "2025-07-28T10:15:15.509195Z",
     "iopub.status.idle": "2025-07-28T10:15:15.513980Z",
     "shell.execute_reply": "2025-07-28T10:15:15.513174Z"
    },
    "papermill": {
     "duration": 0.017374,
     "end_time": "2025-07-28T10:15:15.515349",
     "exception": false,
     "start_time": "2025-07-28T10:15:15.497975",
     "status": "completed"
    },
    "tags": []
   },
   "outputs": [],
   "source": [
    "import json\n",
    "# Parse universe into dict if it is passed as a string\n",
    "if isinstance(universe, str):\n",
    "    universe = json.loads(universe)"
   ]
  },
  {
   "cell_type": "code",
   "execution_count": 6,
   "id": "16620c48",
   "metadata": {
    "execution": {
     "iopub.execute_input": "2025-07-28T10:15:15.537847Z",
     "iopub.status.busy": "2025-07-28T10:15:15.537075Z",
     "iopub.status.idle": "2025-07-28T10:15:15.567353Z",
     "shell.execute_reply": "2025-07-28T10:15:15.566533Z"
    },
    "papermill": {
     "duration": 0.042909,
     "end_time": "2025-07-28T10:15:15.568990",
     "exception": false,
     "start_time": "2025-07-28T10:15:15.526081",
     "status": "completed"
    },
    "tags": []
   },
   "outputs": [],
   "source": [
    "# Auto-reload the custom package\n",
    "%load_ext autoreload\n",
    "%autoreload 1\n",
    "%aimport fairness_multiverse"
   ]
  },
  {
   "cell_type": "code",
   "execution_count": 7,
   "id": "01c5c9f3",
   "metadata": {
    "execution": {
     "iopub.execute_input": "2025-07-28T10:15:15.591828Z",
     "iopub.status.busy": "2025-07-28T10:15:15.591317Z",
     "iopub.status.idle": "2025-07-28T10:15:17.341919Z",
     "shell.execute_reply": "2025-07-28T10:15:17.340881Z"
    },
    "papermill": {
     "duration": 1.764117,
     "end_time": "2025-07-28T10:15:17.343841",
     "exception": false,
     "start_time": "2025-07-28T10:15:15.579724",
     "status": "completed"
    },
    "tags": []
   },
   "outputs": [],
   "source": [
    "from fairness_multiverse.universe import UniverseAnalysis\n",
    "\n",
    "universe_analysis = UniverseAnalysis(\n",
    "    run_no = run_no,\n",
    "    universe_id = universe_id,\n",
    "    universe = universe,\n",
    "    output_dir=output_dir,\n",
    ")"
   ]
  },
  {
   "cell_type": "code",
   "execution_count": 8,
   "id": "106241f5",
   "metadata": {
    "execution": {
     "iopub.execute_input": "2025-07-28T10:15:17.381890Z",
     "iopub.status.busy": "2025-07-28T10:15:17.381213Z",
     "iopub.status.idle": "2025-07-28T10:15:17.388573Z",
     "shell.execute_reply": "2025-07-28T10:15:17.387558Z"
    },
    "papermill": {
     "duration": 0.027909,
     "end_time": "2025-07-28T10:15:17.390147",
     "exception": false,
     "start_time": "2025-07-28T10:15:17.362238",
     "status": "completed"
    },
    "tags": []
   },
   "outputs": [
    {
     "name": "stdout",
     "output_type": "stream",
     "text": [
      "Using Seed: 2023\n"
     ]
    }
   ],
   "source": [
    "import numpy as np\n",
    "parsed_seed = int(seed)\n",
    "np.random.seed(parsed_seed)\n",
    "print(f\"Using Seed: {parsed_seed}\")"
   ]
  },
  {
   "cell_type": "markdown",
   "id": "e0ebdc57",
   "metadata": {
    "papermill": {
     "duration": 0.017702,
     "end_time": "2025-07-28T10:15:17.426154",
     "exception": false,
     "start_time": "2025-07-28T10:15:17.408452",
     "status": "completed"
    },
    "tags": []
   },
   "source": [
    "# Loading Data"
   ]
  },
  {
   "cell_type": "markdown",
   "id": "681925a3",
   "metadata": {
    "papermill": {
     "duration": 0.017542,
     "end_time": "2025-07-28T10:15:17.461458",
     "exception": false,
     "start_time": "2025-07-28T10:15:17.443916",
     "status": "completed"
    },
    "tags": []
   },
   "source": [
    "Load siab_train, siab_test, siab_calib and/or \n",
    "load siab_train_features, siab_train_labels"
   ]
  },
  {
   "cell_type": "code",
   "execution_count": 9,
   "id": "f0496b8a",
   "metadata": {
    "execution": {
     "iopub.execute_input": "2025-07-28T10:15:17.498758Z",
     "iopub.status.busy": "2025-07-28T10:15:17.498108Z",
     "iopub.status.idle": "2025-07-28T10:15:30.195687Z",
     "shell.execute_reply": "2025-07-28T10:15:30.194426Z"
    },
    "papermill": {
     "duration": 12.718316,
     "end_time": "2025-07-28T10:15:30.197474",
     "exception": false,
     "start_time": "2025-07-28T10:15:17.479158",
     "status": "completed"
    },
    "tags": []
   },
   "outputs": [
    {
     "name": "stdout",
     "output_type": "stream",
     "text": [
      "Loading SIAB data from cache: data/siab_cached.csv.gz\n"
     ]
    },
    {
     "name": "stdout",
     "output_type": "stream",
     "text": [
      "(643690, 164)\n"
     ]
    }
   ],
   "source": [
    "from pathlib import Path\n",
    "import pandas as pd\n",
    "\n",
    "# File paths\n",
    "raw_file = Path(\"data/raw/siab.csv\")\n",
    "cache_file = Path(\"data/siab_cached.csv.gz\")\n",
    "\n",
    "# Ensure cache directory exists\n",
    "cache_file.parent.mkdir(parents=True, exist_ok=True)\n",
    "\n",
    "# Load with simple caching\n",
    "if cache_file.exists():\n",
    "    print(f\"Loading SIAB data from cache: {cache_file}\")\n",
    "    siab = pd.read_csv(cache_file, compression='gzip')\n",
    "else:\n",
    "    print(f\"Cache not found. Reading raw SIAB data: {raw_file}\")\n",
    "    siab = pd.read_csv(raw_file)\n",
    "    siab.to_csv(cache_file, index=False, compression='gzip')\n",
    "    print(f\"Cached SIAB data to: {cache_file}\")\n",
    "\n",
    "# Now use `siab` DataFrame as needed\n",
    "print(siab.shape)"
   ]
  },
  {
   "cell_type": "code",
   "execution_count": 10,
   "id": "db0ca512-5f53-4dba-abdb-a2888bca41ba",
   "metadata": {
    "execution": {
     "iopub.execute_input": "2025-07-28T10:15:30.241834Z",
     "iopub.status.busy": "2025-07-28T10:15:30.240914Z",
     "iopub.status.idle": "2025-07-28T10:15:30.247028Z",
     "shell.execute_reply": "2025-07-28T10:15:30.246110Z"
    },
    "papermill": {
     "duration": 0.029608,
     "end_time": "2025-07-28T10:15:30.248765",
     "exception": false,
     "start_time": "2025-07-28T10:15:30.219157",
     "status": "completed"
    },
    "tags": []
   },
   "outputs": [],
   "source": [
    "#siab"
   ]
  },
  {
   "cell_type": "code",
   "execution_count": 11,
   "id": "a0edb063",
   "metadata": {
    "execution": {
     "iopub.execute_input": "2025-07-28T10:15:30.284948Z",
     "iopub.status.busy": "2025-07-28T10:15:30.284237Z",
     "iopub.status.idle": "2025-07-28T10:15:30.289476Z",
     "shell.execute_reply": "2025-07-28T10:15:30.288557Z"
    },
    "papermill": {
     "duration": 0.02777,
     "end_time": "2025-07-28T10:15:30.291100",
     "exception": false,
     "start_time": "2025-07-28T10:15:30.263330",
     "status": "completed"
    },
    "tags": []
   },
   "outputs": [],
   "source": [
    "#import pandas as pd\n",
    "#\n",
    "#X_train = pd.read_csv(\"./data/X_train.csv\")\n",
    "#y_train = pd.read_csv(\"./data/y_train.csv\")"
   ]
  },
  {
   "cell_type": "code",
   "execution_count": 12,
   "id": "63d08085",
   "metadata": {
    "execution": {
     "iopub.execute_input": "2025-07-28T10:15:30.334559Z",
     "iopub.status.busy": "2025-07-28T10:15:30.333923Z",
     "iopub.status.idle": "2025-07-28T10:15:30.339600Z",
     "shell.execute_reply": "2025-07-28T10:15:30.338523Z"
    },
    "papermill": {
     "duration": 0.029267,
     "end_time": "2025-07-28T10:15:30.341288",
     "exception": false,
     "start_time": "2025-07-28T10:15:30.312021",
     "status": "completed"
    },
    "tags": []
   },
   "outputs": [],
   "source": [
    "#X_test = pd.read_csv(\"./data/X_test.csv\")\n",
    "#y_true = pd.read_csv(\"./data/y_test.csv\")"
   ]
  },
  {
   "cell_type": "code",
   "execution_count": 13,
   "id": "98a8d0fa-1d3d-4ed8-bb2c-281470e24add",
   "metadata": {
    "execution": {
     "iopub.execute_input": "2025-07-28T10:15:30.381616Z",
     "iopub.status.busy": "2025-07-28T10:15:30.380905Z",
     "iopub.status.idle": "2025-07-28T10:15:30.385223Z",
     "shell.execute_reply": "2025-07-28T10:15:30.384487Z"
    },
    "papermill": {
     "duration": 0.024326,
     "end_time": "2025-07-28T10:15:30.386532",
     "exception": false,
     "start_time": "2025-07-28T10:15:30.362206",
     "status": "completed"
    },
    "tags": []
   },
   "outputs": [],
   "source": [
    "# Calibration data for conformal\n",
    "#X_calib = pd.read_csv(\"./data/X_calib.csv\")\n",
    "#y_calib = pd.read_csv(\"./data/y_calib.csv\")"
   ]
  },
  {
   "cell_type": "markdown",
   "id": "9901737e-04df-44f0-9100-f5ad144ed040",
   "metadata": {
    "papermill": {
     "duration": 0.020637,
     "end_time": "2025-07-28T10:15:30.419827",
     "exception": false,
     "start_time": "2025-07-28T10:15:30.399190",
     "status": "completed"
    },
    "tags": []
   },
   "source": [
    "# Splitting Data and Setting Training Data Size"
   ]
  },
  {
   "cell_type": "code",
   "execution_count": 14,
   "id": "acbc8f7d-8fc8-4e86-8c59-5dcb0f58384b",
   "metadata": {
    "execution": {
     "iopub.execute_input": "2025-07-28T10:15:30.461429Z",
     "iopub.status.busy": "2025-07-28T10:15:30.460898Z",
     "iopub.status.idle": "2025-07-28T10:15:30.469553Z",
     "shell.execute_reply": "2025-07-28T10:15:30.468532Z"
    },
    "papermill": {
     "duration": 0.03083,
     "end_time": "2025-07-28T10:15:30.471322",
     "exception": false,
     "start_time": "2025-07-28T10:15:30.440492",
     "status": "completed"
    },
    "tags": []
   },
   "outputs": [],
   "source": [
    "def sample_by_year(df, training_size, random_state=42):\n",
    "    if training_size == \"2014\":\n",
    "        return df[df[\"year\"] == 2014].reset_index(drop=True)\n",
    "    \n",
    "    size_map = {\n",
    "        \"25k\": 5000,\n",
    "        \"5k\": 1000,\n",
    "        \"1k\": 200\n",
    "    }\n",
    "\n",
    "    if training_size not in size_map:\n",
    "        return df.reset_index(drop=True)  # use all data\n",
    "\n",
    "    n_per_year = size_map[training_size]\n",
    "    grouped = df.groupby(\"year\")\n",
    "    sampled = grouped.apply(lambda x: x.sample(n=min(n_per_year, len(x)), random_state=random_state))\n",
    "    return sampled.reset_index(drop=True)"
   ]
  },
  {
   "cell_type": "code",
   "execution_count": 15,
   "id": "6d931f52-beaf-43ff-9e78-9d44a448d54e",
   "metadata": {
    "execution": {
     "iopub.execute_input": "2025-07-28T10:15:30.511293Z",
     "iopub.status.busy": "2025-07-28T10:15:30.510485Z",
     "iopub.status.idle": "2025-07-28T10:15:31.312650Z",
     "shell.execute_reply": "2025-07-28T10:15:31.311839Z"
    },
    "papermill": {
     "duration": 0.823757,
     "end_time": "2025-07-28T10:15:31.314422",
     "exception": false,
     "start_time": "2025-07-28T10:15:30.490665",
     "status": "completed"
    },
    "tags": []
   },
   "outputs": [],
   "source": [
    "siab_s = sample_by_year(siab, universe[\"training_size\"])"
   ]
  },
  {
   "cell_type": "code",
   "execution_count": 16,
   "id": "5db0a40e-a4e2-4920-be85-b12ae061d70d",
   "metadata": {
    "execution": {
     "iopub.execute_input": "2025-07-28T10:15:31.358153Z",
     "iopub.status.busy": "2025-07-28T10:15:31.357614Z",
     "iopub.status.idle": "2025-07-28T10:15:31.372297Z",
     "shell.execute_reply": "2025-07-28T10:15:31.371309Z"
    },
    "papermill": {
     "duration": 0.039412,
     "end_time": "2025-07-28T10:15:31.373925",
     "exception": false,
     "start_time": "2025-07-28T10:15:31.334513",
     "status": "completed"
    },
    "tags": []
   },
   "outputs": [
    {
     "data": {
      "text/plain": [
       "year\n",
       "2010    5000\n",
       "2011    5000\n",
       "2012    5000\n",
       "2013    5000\n",
       "2014    5000\n",
       "2015    5000\n",
       "2016    5000\n",
       "dtype: int64"
      ]
     },
     "metadata": {},
     "output_type": "display_data"
    }
   ],
   "source": [
    "display(siab_s.groupby(\"year\").size())"
   ]
  },
  {
   "cell_type": "code",
   "execution_count": 17,
   "id": "a561edb4-d032-42cb-8256-22eac1111c64",
   "metadata": {
    "execution": {
     "iopub.execute_input": "2025-07-28T10:15:31.416112Z",
     "iopub.status.busy": "2025-07-28T10:15:31.415452Z",
     "iopub.status.idle": "2025-07-28T10:15:31.684554Z",
     "shell.execute_reply": "2025-07-28T10:15:31.683581Z"
    },
    "papermill": {
     "duration": 0.29279,
     "end_time": "2025-07-28T10:15:31.686088",
     "exception": false,
     "start_time": "2025-07-28T10:15:31.393298",
     "status": "completed"
    },
    "tags": []
   },
   "outputs": [],
   "source": [
    "siab_train = siab_s[siab_s.year < 2015]\n",
    "siab_calib = siab[siab.year == 2015]\n",
    "siab_test = siab[siab.year == 2016]"
   ]
  },
  {
   "cell_type": "code",
   "execution_count": 18,
   "id": "472de16f-c3db-4916-846b-1f0de9cf1746",
   "metadata": {
    "execution": {
     "iopub.execute_input": "2025-07-28T10:15:31.726480Z",
     "iopub.status.busy": "2025-07-28T10:15:31.725779Z",
     "iopub.status.idle": "2025-07-28T10:15:31.740122Z",
     "shell.execute_reply": "2025-07-28T10:15:31.739033Z"
    },
    "papermill": {
     "duration": 0.037529,
     "end_time": "2025-07-28T10:15:31.741768",
     "exception": false,
     "start_time": "2025-07-28T10:15:31.704239",
     "status": "completed"
    },
    "tags": []
   },
   "outputs": [],
   "source": [
    "X_train = siab_train.iloc[:,4:164]\n",
    "y_train = siab_train.iloc[:, [3]]"
   ]
  },
  {
   "cell_type": "code",
   "execution_count": 19,
   "id": "828c96af-f43a-4ed6-ba47-8ac73a47d56c",
   "metadata": {
    "execution": {
     "iopub.execute_input": "2025-07-28T10:15:31.785746Z",
     "iopub.status.busy": "2025-07-28T10:15:31.784805Z",
     "iopub.status.idle": "2025-07-28T10:15:31.816631Z",
     "shell.execute_reply": "2025-07-28T10:15:31.815607Z"
    },
    "papermill": {
     "duration": 0.056477,
     "end_time": "2025-07-28T10:15:31.818542",
     "exception": false,
     "start_time": "2025-07-28T10:15:31.762065",
     "status": "completed"
    },
    "tags": []
   },
   "outputs": [],
   "source": [
    "X_calib = siab_calib.iloc[:,4:164]\n",
    "y_calib = siab_calib.iloc[:, [3]]"
   ]
  },
  {
   "cell_type": "code",
   "execution_count": 20,
   "id": "c34be9c3-6bd6-476e-acd3-845840e303be",
   "metadata": {
    "execution": {
     "iopub.execute_input": "2025-07-28T10:15:31.860063Z",
     "iopub.status.busy": "2025-07-28T10:15:31.859204Z",
     "iopub.status.idle": "2025-07-28T10:15:31.911169Z",
     "shell.execute_reply": "2025-07-28T10:15:31.910046Z"
    },
    "papermill": {
     "duration": 0.074394,
     "end_time": "2025-07-28T10:15:31.912852",
     "exception": false,
     "start_time": "2025-07-28T10:15:31.838458",
     "status": "completed"
    },
    "tags": []
   },
   "outputs": [],
   "source": [
    "X_test = siab_test.iloc[:,4:164]\n",
    "y_true = siab_test.iloc[:, [3]]"
   ]
  },
  {
   "cell_type": "code",
   "execution_count": 21,
   "id": "e6c733c5",
   "metadata": {
    "execution": {
     "iopub.execute_input": "2025-07-28T10:15:31.954980Z",
     "iopub.status.busy": "2025-07-28T10:15:31.954284Z",
     "iopub.status.idle": "2025-07-28T10:15:32.058573Z",
     "shell.execute_reply": "2025-07-28T10:15:32.057686Z"
    },
    "papermill": {
     "duration": 0.127394,
     "end_time": "2025-07-28T10:15:32.060448",
     "exception": false,
     "start_time": "2025-07-28T10:15:31.933054",
     "status": "completed"
    },
    "tags": []
   },
   "outputs": [],
   "source": [
    "# Auxiliary data needed downstream in the pipeline\n",
    "\n",
    "org_train = X_train.copy()\n",
    "org_test = X_test.copy()\n",
    "org_calib = X_calib.copy()"
   ]
  },
  {
   "cell_type": "markdown",
   "id": "0a4a1b33",
   "metadata": {
    "papermill": {
     "duration": 0.019125,
     "end_time": "2025-07-28T10:15:32.099352",
     "exception": false,
     "start_time": "2025-07-28T10:15:32.080227",
     "status": "completed"
    },
    "tags": []
   },
   "source": [
    "# Preprocessing Data"
   ]
  },
  {
   "cell_type": "code",
   "execution_count": 22,
   "id": "ca879031",
   "metadata": {
    "execution": {
     "iopub.execute_input": "2025-07-28T10:15:32.142640Z",
     "iopub.status.busy": "2025-07-28T10:15:32.141934Z",
     "iopub.status.idle": "2025-07-28T10:15:32.148329Z",
     "shell.execute_reply": "2025-07-28T10:15:32.147262Z"
    },
    "papermill": {
     "duration": 0.030123,
     "end_time": "2025-07-28T10:15:32.150043",
     "exception": false,
     "start_time": "2025-07-28T10:15:32.119920",
     "status": "completed"
    },
    "tags": []
   },
   "outputs": [],
   "source": [
    "# EXCLUDE PROTECTED FEATURES\n",
    "# ----------------------\n",
    "# \"exclude_features\": \"none\", # \"nationality\", \"sex\", \"nationality-sex\"\n",
    "\n",
    "excluded_features = universe[\"exclude_features\"].split(\"-\") # split, e.g.: \"nationality-sex\" -> [\"nationality\", \"sex\"]\n",
    "excluded_features_dictionary = {\n",
    "    \"nationality\": [\"maxdeutsch1\", \"maxdeutsch.Missing.\"],\n",
    "    \"sex\": [\"frau1\"],\n",
    "    \"age\": [\"age\"],\n",
    "}\n"
   ]
  },
  {
   "cell_type": "code",
   "execution_count": 23,
   "id": "b745ac60",
   "metadata": {
    "execution": {
     "iopub.execute_input": "2025-07-28T10:15:32.190990Z",
     "iopub.status.busy": "2025-07-28T10:15:32.190384Z",
     "iopub.status.idle": "2025-07-28T10:15:32.196312Z",
     "shell.execute_reply": "2025-07-28T10:15:32.195325Z"
    },
    "papermill": {
     "duration": 0.027751,
     "end_time": "2025-07-28T10:15:32.197812",
     "exception": false,
     "start_time": "2025-07-28T10:15:32.170061",
     "status": "completed"
    },
    "tags": []
   },
   "outputs": [],
   "source": [
    "# Code nice names to column names\n",
    "\n",
    "excluded_features_columns = [\n",
    "    excluded_features_dictionary[f] for f in excluded_features if len(f) > 0 and f != \"none\"\n",
    "]"
   ]
  },
  {
   "cell_type": "code",
   "execution_count": 24,
   "id": "f84f73a2",
   "metadata": {
    "execution": {
     "iopub.execute_input": "2025-07-28T10:15:32.239690Z",
     "iopub.status.busy": "2025-07-28T10:15:32.239016Z",
     "iopub.status.idle": "2025-07-28T10:15:32.245756Z",
     "shell.execute_reply": "2025-07-28T10:15:32.244715Z"
    },
    "papermill": {
     "duration": 0.028861,
     "end_time": "2025-07-28T10:15:32.247255",
     "exception": false,
     "start_time": "2025-07-28T10:15:32.218394",
     "status": "completed"
    },
    "tags": []
   },
   "outputs": [],
   "source": [
    "from utils import flatten_once\n",
    "\n",
    "excluded_features_columns = flatten_once(excluded_features_columns)"
   ]
  },
  {
   "cell_type": "code",
   "execution_count": 25,
   "id": "884dea22",
   "metadata": {
    "execution": {
     "iopub.execute_input": "2025-07-28T10:15:32.289128Z",
     "iopub.status.busy": "2025-07-28T10:15:32.287611Z",
     "iopub.status.idle": "2025-07-28T10:15:32.303500Z",
     "shell.execute_reply": "2025-07-28T10:15:32.302494Z"
    },
    "papermill": {
     "duration": 0.038212,
     "end_time": "2025-07-28T10:15:32.305209",
     "exception": false,
     "start_time": "2025-07-28T10:15:32.266997",
     "status": "completed"
    },
    "tags": []
   },
   "outputs": [
    {
     "name": "stdout",
     "output_type": "stream",
     "text": [
      "Dropping features: ['maxdeutsch1', 'maxdeutsch.Missing.']\n"
     ]
    }
   ],
   "source": [
    "if len(excluded_features_columns) > 0:\n",
    "    print(f\"Dropping features: {excluded_features_columns}\")\n",
    "    X_train.drop(excluded_features_columns, axis=1, inplace=True)"
   ]
  },
  {
   "cell_type": "code",
   "execution_count": 26,
   "id": "95ab8b16",
   "metadata": {
    "execution": {
     "iopub.execute_input": "2025-07-28T10:15:32.347133Z",
     "iopub.status.busy": "2025-07-28T10:15:32.346467Z",
     "iopub.status.idle": "2025-07-28T10:15:32.398801Z",
     "shell.execute_reply": "2025-07-28T10:15:32.397724Z"
    },
    "papermill": {
     "duration": 0.075663,
     "end_time": "2025-07-28T10:15:32.401528",
     "exception": false,
     "start_time": "2025-07-28T10:15:32.325865",
     "status": "completed"
    },
    "tags": []
   },
   "outputs": [
    {
     "name": "stdout",
     "output_type": "stream",
     "text": [
      "Dropping features: ['maxdeutsch1', 'maxdeutsch.Missing.']\n"
     ]
    }
   ],
   "source": [
    "if len(excluded_features_columns) > 0:\n",
    "    print(f\"Dropping features: {excluded_features_columns}\")\n",
    "    X_test.drop(excluded_features_columns, axis=1, inplace=True)"
   ]
  },
  {
   "cell_type": "code",
   "execution_count": 27,
   "id": "1853aaf5-fb9f-46cb-a2b5-8ea4ae2237e4",
   "metadata": {
    "execution": {
     "iopub.execute_input": "2025-07-28T10:15:32.445819Z",
     "iopub.status.busy": "2025-07-28T10:15:32.445118Z",
     "iopub.status.idle": "2025-07-28T10:15:32.497405Z",
     "shell.execute_reply": "2025-07-28T10:15:32.496214Z"
    },
    "papermill": {
     "duration": 0.076418,
     "end_time": "2025-07-28T10:15:32.499043",
     "exception": false,
     "start_time": "2025-07-28T10:15:32.422625",
     "status": "completed"
    },
    "tags": []
   },
   "outputs": [
    {
     "name": "stdout",
     "output_type": "stream",
     "text": [
      "Dropping features: ['maxdeutsch1', 'maxdeutsch.Missing.']\n"
     ]
    }
   ],
   "source": [
    "if len(excluded_features_columns) > 0:\n",
    "    print(f\"Dropping features: {excluded_features_columns}\")\n",
    "    X_calib.drop(excluded_features_columns, axis=1, inplace=True)"
   ]
  },
  {
   "cell_type": "code",
   "execution_count": 28,
   "id": "6727d079-03e5-481e-9d38-292a90b7a0a8",
   "metadata": {
    "execution": {
     "iopub.execute_input": "2025-07-28T10:15:32.546242Z",
     "iopub.status.busy": "2025-07-28T10:15:32.545587Z",
     "iopub.status.idle": "2025-07-28T10:15:32.550753Z",
     "shell.execute_reply": "2025-07-28T10:15:32.549757Z"
    },
    "papermill": {
     "duration": 0.030325,
     "end_time": "2025-07-28T10:15:32.552365",
     "exception": false,
     "start_time": "2025-07-28T10:15:32.522040",
     "status": "completed"
    },
    "tags": []
   },
   "outputs": [],
   "source": [
    "# SPLIT & STRATIFY DATA\n",
    "# ----------------------"
   ]
  },
  {
   "cell_type": "code",
   "execution_count": 29,
   "id": "76c4dc6d",
   "metadata": {
    "execution": {
     "iopub.execute_input": "2025-07-28T10:15:32.596452Z",
     "iopub.status.busy": "2025-07-28T10:15:32.595876Z",
     "iopub.status.idle": "2025-07-28T10:15:32.602585Z",
     "shell.execute_reply": "2025-07-28T10:15:32.601227Z"
    },
    "papermill": {
     "duration": 0.030928,
     "end_time": "2025-07-28T10:15:32.604444",
     "exception": false,
     "start_time": "2025-07-28T10:15:32.573516",
     "status": "completed"
    },
    "tags": []
   },
   "outputs": [],
   "source": [
    "# EXCLUDE CERTAIN SUBGROUPS\n",
    "# ----------------------\n",
    "\n",
    "mode = universe.get(\"exclude_subgroups\", \"keep-all\") \n",
    "# Fetches the exclude_subgroups setting from the universe dict.\n",
    "# Defaults to \"keep-all\" if the key is missing."
   ]
  },
  {
   "cell_type": "code",
   "execution_count": 30,
   "id": "21994072",
   "metadata": {
    "execution": {
     "iopub.execute_input": "2025-07-28T10:15:32.651738Z",
     "iopub.status.busy": "2025-07-28T10:15:32.651255Z",
     "iopub.status.idle": "2025-07-28T10:15:32.657734Z",
     "shell.execute_reply": "2025-07-28T10:15:32.656842Z"
    },
    "papermill": {
     "duration": 0.032151,
     "end_time": "2025-07-28T10:15:32.659778",
     "exception": false,
     "start_time": "2025-07-28T10:15:32.627627",
     "status": "completed"
    },
    "tags": []
   },
   "outputs": [],
   "source": [
    "if mode == \"keep-all\":\n",
    "    keep_mask = pd.Series(True, index=org_train.index)\n",
    "\n",
    "# org_train contains the original feature columns from features_org (in Simson)\n",
    "# features_org contains unprocessed features, for me X_train at beginning ???\n",
    "# For keep-all, creates a boolean Series (keep_mask) of all True, so no rows are removed.\n",
    "\n",
    "elif mode == \"drop-non-german\":\n",
    "    keep_mask = org_train[\"maxdeutsch1\"] == 1 # ??? what about missing values?\n",
    "\n",
    "else:\n",
    "    raise ValueError(f\"Unsupported mode for exclude_subgroups: {mode}\")\n"
   ]
  },
  {
   "cell_type": "code",
   "execution_count": 31,
   "id": "71651440",
   "metadata": {
    "execution": {
     "iopub.execute_input": "2025-07-28T10:15:32.706764Z",
     "iopub.status.busy": "2025-07-28T10:15:32.706058Z",
     "iopub.status.idle": "2025-07-28T10:15:32.713478Z",
     "shell.execute_reply": "2025-07-28T10:15:32.712572Z"
    },
    "papermill": {
     "duration": 0.032376,
     "end_time": "2025-07-28T10:15:32.714739",
     "exception": false,
     "start_time": "2025-07-28T10:15:32.682363",
     "status": "completed"
    },
    "tags": []
   },
   "outputs": [],
   "source": [
    "n_drop = (~keep_mask).sum() # Calculates how many rows are set to be dropped\n",
    "if n_drop > 0:\n",
    "    pct = n_drop / len(keep_mask) * 100\n",
    "    print(f\"Dropping {n_drop} rows ({pct:.2f}%) where mode='{mode}'\")"
   ]
  },
  {
   "cell_type": "code",
   "execution_count": 32,
   "id": "5fb8eee5",
   "metadata": {
    "execution": {
     "iopub.execute_input": "2025-07-28T10:15:32.752355Z",
     "iopub.status.busy": "2025-07-28T10:15:32.751861Z",
     "iopub.status.idle": "2025-07-28T10:15:32.766537Z",
     "shell.execute_reply": "2025-07-28T10:15:32.765561Z"
    },
    "papermill": {
     "duration": 0.040405,
     "end_time": "2025-07-28T10:15:32.768611",
     "exception": false,
     "start_time": "2025-07-28T10:15:32.728206",
     "status": "completed"
    },
    "tags": []
   },
   "outputs": [],
   "source": [
    "X_train = X_train[keep_mask]"
   ]
  },
  {
   "cell_type": "code",
   "execution_count": 33,
   "id": "b202bb3a",
   "metadata": {
    "execution": {
     "iopub.execute_input": "2025-07-28T10:15:32.812190Z",
     "iopub.status.busy": "2025-07-28T10:15:32.811158Z",
     "iopub.status.idle": "2025-07-28T10:15:32.817612Z",
     "shell.execute_reply": "2025-07-28T10:15:32.816637Z"
    },
    "papermill": {
     "duration": 0.030958,
     "end_time": "2025-07-28T10:15:32.819369",
     "exception": false,
     "start_time": "2025-07-28T10:15:32.788411",
     "status": "completed"
    },
    "tags": []
   },
   "outputs": [],
   "source": [
    "y_train = y_train[keep_mask]"
   ]
  },
  {
   "cell_type": "markdown",
   "id": "493e2ac3",
   "metadata": {
    "papermill": {
     "duration": 0.022503,
     "end_time": "2025-07-28T10:15:32.864286",
     "exception": false,
     "start_time": "2025-07-28T10:15:32.841783",
     "status": "completed"
    },
    "tags": []
   },
   "source": [
    "# Model Training"
   ]
  },
  {
   "cell_type": "code",
   "execution_count": 34,
   "id": "679e1268",
   "metadata": {
    "execution": {
     "iopub.execute_input": "2025-07-28T10:15:32.911831Z",
     "iopub.status.busy": "2025-07-28T10:15:32.911162Z",
     "iopub.status.idle": "2025-07-28T10:15:33.019679Z",
     "shell.execute_reply": "2025-07-28T10:15:33.018644Z"
    },
    "papermill": {
     "duration": 0.134256,
     "end_time": "2025-07-28T10:15:33.021742",
     "exception": false,
     "start_time": "2025-07-28T10:15:32.887486",
     "status": "completed"
    },
    "tags": []
   },
   "outputs": [],
   "source": [
    "from sklearn.linear_model import LogisticRegression\n",
    "from sklearn.ensemble import GradientBoostingClassifier, RandomForestClassifier\n",
    "\n",
    "if (universe[\"model\"] == \"logreg\"):\n",
    "    model = LogisticRegression() #penalty=\"none\") #, solver=\"newton-cg\", max_iter=1) # include random_state=19 ?\n",
    "elif (universe[\"model\"] == \"penalized_logreg\"):\n",
    "    model = LogisticRegression(penalty=\"l2\", C=1.0) #, solver=\"newton-cg\", max_iter=1)\n",
    "elif (universe[\"model\"] == \"rf\"):\n",
    "    model = RandomForestClassifier(n_estimators=100, n_jobs=-1)\n",
    "elif (universe[\"model\"] == \"gbm\"):\n",
    "    model = GradientBoostingClassifier()\n",
    "elif (universe[\"model\"] == \"elasticnet\"):\n",
    "    model = LogisticRegression(penalty = 'elasticnet', solver = 'saga', l1_ratio = 0.5, max_iter=5000) # which solver to use?\n",
    "else:\n",
    "    raise \"Unsupported universe.model\""
   ]
  },
  {
   "cell_type": "code",
   "execution_count": 35,
   "id": "0cc8f744",
   "metadata": {
    "execution": {
     "iopub.execute_input": "2025-07-28T10:15:33.072700Z",
     "iopub.status.busy": "2025-07-28T10:15:33.071740Z",
     "iopub.status.idle": "2025-07-28T10:15:33.079278Z",
     "shell.execute_reply": "2025-07-28T10:15:33.078296Z"
    },
    "papermill": {
     "duration": 0.034773,
     "end_time": "2025-07-28T10:15:33.080962",
     "exception": false,
     "start_time": "2025-07-28T10:15:33.046189",
     "status": "completed"
    },
    "tags": []
   },
   "outputs": [],
   "source": [
    "import numpy as np\n",
    "from sklearn.pipeline import Pipeline\n",
    "from sklearn.preprocessing import StandardScaler\n",
    "\n",
    "model = Pipeline([\n",
    "    #(\"continuous_processor\", continuous_processor),\n",
    "    #(\"categorical_preprocessor\", categorical_preprocessor),\n",
    "    (\"scale\", StandardScaler() if universe[\"scale\"] == \"scale\" else None), \n",
    "    (\"model\", model),\n",
    "])"
   ]
  },
  {
   "cell_type": "code",
   "execution_count": 36,
   "id": "9442c04d",
   "metadata": {
    "execution": {
     "iopub.execute_input": "2025-07-28T10:15:33.124156Z",
     "iopub.status.busy": "2025-07-28T10:15:33.123339Z",
     "iopub.status.idle": "2025-07-28T10:16:00.393521Z",
     "shell.execute_reply": "2025-07-28T10:16:00.391732Z"
    },
    "papermill": {
     "duration": 27.293411,
     "end_time": "2025-07-28T10:16:00.395183",
     "exception": false,
     "start_time": "2025-07-28T10:15:33.101772",
     "status": "completed"
    },
    "tags": []
   },
   "outputs": [
    {
     "data": {
      "text/html": [
       "<style>#sk-container-id-1 {color: black;background-color: white;}#sk-container-id-1 pre{padding: 0;}#sk-container-id-1 div.sk-toggleable {background-color: white;}#sk-container-id-1 label.sk-toggleable__label {cursor: pointer;display: block;width: 100%;margin-bottom: 0;padding: 0.3em;box-sizing: border-box;text-align: center;}#sk-container-id-1 label.sk-toggleable__label-arrow:before {content: \"▸\";float: left;margin-right: 0.25em;color: #696969;}#sk-container-id-1 label.sk-toggleable__label-arrow:hover:before {color: black;}#sk-container-id-1 div.sk-estimator:hover label.sk-toggleable__label-arrow:before {color: black;}#sk-container-id-1 div.sk-toggleable__content {max-height: 0;max-width: 0;overflow: hidden;text-align: left;background-color: #f0f8ff;}#sk-container-id-1 div.sk-toggleable__content pre {margin: 0.2em;color: black;border-radius: 0.25em;background-color: #f0f8ff;}#sk-container-id-1 input.sk-toggleable__control:checked~div.sk-toggleable__content {max-height: 200px;max-width: 100%;overflow: auto;}#sk-container-id-1 input.sk-toggleable__control:checked~label.sk-toggleable__label-arrow:before {content: \"▾\";}#sk-container-id-1 div.sk-estimator input.sk-toggleable__control:checked~label.sk-toggleable__label {background-color: #d4ebff;}#sk-container-id-1 div.sk-label input.sk-toggleable__control:checked~label.sk-toggleable__label {background-color: #d4ebff;}#sk-container-id-1 input.sk-hidden--visually {border: 0;clip: rect(1px 1px 1px 1px);clip: rect(1px, 1px, 1px, 1px);height: 1px;margin: -1px;overflow: hidden;padding: 0;position: absolute;width: 1px;}#sk-container-id-1 div.sk-estimator {font-family: monospace;background-color: #f0f8ff;border: 1px dotted black;border-radius: 0.25em;box-sizing: border-box;margin-bottom: 0.5em;}#sk-container-id-1 div.sk-estimator:hover {background-color: #d4ebff;}#sk-container-id-1 div.sk-parallel-item::after {content: \"\";width: 100%;border-bottom: 1px solid gray;flex-grow: 1;}#sk-container-id-1 div.sk-label:hover label.sk-toggleable__label {background-color: #d4ebff;}#sk-container-id-1 div.sk-serial::before {content: \"\";position: absolute;border-left: 1px solid gray;box-sizing: border-box;top: 0;bottom: 0;left: 50%;z-index: 0;}#sk-container-id-1 div.sk-serial {display: flex;flex-direction: column;align-items: center;background-color: white;padding-right: 0.2em;padding-left: 0.2em;position: relative;}#sk-container-id-1 div.sk-item {position: relative;z-index: 1;}#sk-container-id-1 div.sk-parallel {display: flex;align-items: stretch;justify-content: center;background-color: white;position: relative;}#sk-container-id-1 div.sk-item::before, #sk-container-id-1 div.sk-parallel-item::before {content: \"\";position: absolute;border-left: 1px solid gray;box-sizing: border-box;top: 0;bottom: 0;left: 50%;z-index: -1;}#sk-container-id-1 div.sk-parallel-item {display: flex;flex-direction: column;z-index: 1;position: relative;background-color: white;}#sk-container-id-1 div.sk-parallel-item:first-child::after {align-self: flex-end;width: 50%;}#sk-container-id-1 div.sk-parallel-item:last-child::after {align-self: flex-start;width: 50%;}#sk-container-id-1 div.sk-parallel-item:only-child::after {width: 0;}#sk-container-id-1 div.sk-dashed-wrapped {border: 1px dashed gray;margin: 0 0.4em 0.5em 0.4em;box-sizing: border-box;padding-bottom: 0.4em;background-color: white;}#sk-container-id-1 div.sk-label label {font-family: monospace;font-weight: bold;display: inline-block;line-height: 1.2em;}#sk-container-id-1 div.sk-label-container {text-align: center;}#sk-container-id-1 div.sk-container {/* jupyter's `normalize.less` sets `[hidden] { display: none; }` but bootstrap.min.css set `[hidden] { display: none !important; }` so we also need the `!important` here to be able to override the default hidden behavior on the sphinx rendered scikit-learn.org. See: https://github.com/scikit-learn/scikit-learn/issues/21755 */display: inline-block !important;position: relative;}#sk-container-id-1 div.sk-text-repr-fallback {display: none;}</style><div id=\"sk-container-id-1\" class=\"sk-top-container\"><div class=\"sk-text-repr-fallback\"><pre>Pipeline(steps=[(&#x27;scale&#x27;, StandardScaler()),\n",
       "                (&#x27;model&#x27;,\n",
       "                 LogisticRegression(l1_ratio=0.5, max_iter=5000,\n",
       "                                    penalty=&#x27;elasticnet&#x27;, solver=&#x27;saga&#x27;))])</pre><b>In a Jupyter environment, please rerun this cell to show the HTML representation or trust the notebook. <br />On GitHub, the HTML representation is unable to render, please try loading this page with nbviewer.org.</b></div><div class=\"sk-container\" hidden><div class=\"sk-item sk-dashed-wrapped\"><div class=\"sk-label-container\"><div class=\"sk-label sk-toggleable\"><input class=\"sk-toggleable__control sk-hidden--visually\" id=\"sk-estimator-id-1\" type=\"checkbox\" ><label for=\"sk-estimator-id-1\" class=\"sk-toggleable__label sk-toggleable__label-arrow\">Pipeline</label><div class=\"sk-toggleable__content\"><pre>Pipeline(steps=[(&#x27;scale&#x27;, StandardScaler()),\n",
       "                (&#x27;model&#x27;,\n",
       "                 LogisticRegression(l1_ratio=0.5, max_iter=5000,\n",
       "                                    penalty=&#x27;elasticnet&#x27;, solver=&#x27;saga&#x27;))])</pre></div></div></div><div class=\"sk-serial\"><div class=\"sk-item\"><div class=\"sk-estimator sk-toggleable\"><input class=\"sk-toggleable__control sk-hidden--visually\" id=\"sk-estimator-id-2\" type=\"checkbox\" ><label for=\"sk-estimator-id-2\" class=\"sk-toggleable__label sk-toggleable__label-arrow\">StandardScaler</label><div class=\"sk-toggleable__content\"><pre>StandardScaler()</pre></div></div></div><div class=\"sk-item\"><div class=\"sk-estimator sk-toggleable\"><input class=\"sk-toggleable__control sk-hidden--visually\" id=\"sk-estimator-id-3\" type=\"checkbox\" ><label for=\"sk-estimator-id-3\" class=\"sk-toggleable__label sk-toggleable__label-arrow\">LogisticRegression</label><div class=\"sk-toggleable__content\"><pre>LogisticRegression(l1_ratio=0.5, max_iter=5000, penalty=&#x27;elasticnet&#x27;,\n",
       "                   solver=&#x27;saga&#x27;)</pre></div></div></div></div></div></div></div>"
      ],
      "text/plain": [
       "Pipeline(steps=[('scale', StandardScaler()),\n",
       "                ('model',\n",
       "                 LogisticRegression(l1_ratio=0.5, max_iter=5000,\n",
       "                                    penalty='elasticnet', solver='saga'))])"
      ]
     },
     "execution_count": 36,
     "metadata": {},
     "output_type": "execute_result"
    }
   ],
   "source": [
    "model.fit(X_train, y_train.values.ravel())"
   ]
  },
  {
   "cell_type": "code",
   "execution_count": 37,
   "id": "af59f8c0",
   "metadata": {
    "execution": {
     "iopub.execute_input": "2025-07-28T10:16:00.442942Z",
     "iopub.status.busy": "2025-07-28T10:16:00.442355Z",
     "iopub.status.idle": "2025-07-28T10:16:00.448334Z",
     "shell.execute_reply": "2025-07-28T10:16:00.447259Z"
    },
    "papermill": {
     "duration": 0.030954,
     "end_time": "2025-07-28T10:16:00.450004",
     "exception": false,
     "start_time": "2025-07-28T10:16:00.419050",
     "status": "completed"
    },
    "tags": []
   },
   "outputs": [],
   "source": [
    "from fairness_multiverse.universe import predict_w_threshold"
   ]
  },
  {
   "cell_type": "code",
   "execution_count": 38,
   "id": "a7cf2e16",
   "metadata": {
    "execution": {
     "iopub.execute_input": "2025-07-28T10:16:00.494491Z",
     "iopub.status.busy": "2025-07-28T10:16:00.493842Z",
     "iopub.status.idle": "2025-07-28T10:16:00.701715Z",
     "shell.execute_reply": "2025-07-28T10:16:00.700751Z"
    },
    "papermill": {
     "duration": 0.232092,
     "end_time": "2025-07-28T10:16:00.703587",
     "exception": false,
     "start_time": "2025-07-28T10:16:00.471495",
     "status": "completed"
    },
    "tags": []
   },
   "outputs": [
    {
     "data": {
      "text/plain": [
       "0.8601939583101104"
      ]
     },
     "execution_count": 38,
     "metadata": {},
     "output_type": "execute_result"
    }
   ],
   "source": [
    "probs_test = model.predict_proba(X_test)\n",
    "\n",
    "'''\n",
    "Below code returns a boolean array (or binary 0/1 array depending on how it’s used) where each element \n",
    "is True if the probability of class 1 is greater than or equal to the threshold, and False otherwise.\n",
    "'''\n",
    "y_pred_default = predict_w_threshold(probs_test, 0.5)\n",
    "\n",
    "from sklearn.metrics import accuracy_score\n",
    "\n",
    "# Naive prediction\n",
    "accuracy_score(y_true = y_true, y_pred = y_pred_default)"
   ]
  },
  {
   "cell_type": "code",
   "execution_count": 39,
   "id": "081964c3",
   "metadata": {
    "execution": {
     "iopub.execute_input": "2025-07-28T10:16:00.748527Z",
     "iopub.status.busy": "2025-07-28T10:16:00.747778Z",
     "iopub.status.idle": "2025-07-28T10:16:00.933359Z",
     "shell.execute_reply": "2025-07-28T10:16:00.932282Z"
    },
    "papermill": {
     "duration": 0.209762,
     "end_time": "2025-07-28T10:16:00.935081",
     "exception": false,
     "start_time": "2025-07-28T10:16:00.725319",
     "status": "completed"
    },
    "tags": []
   },
   "outputs": [
    {
     "data": {
      "text/plain": [
       "array([0, 0, 0, ..., 0, 0, 0])"
      ]
     },
     "execution_count": 39,
     "metadata": {},
     "output_type": "execute_result"
    }
   ],
   "source": [
    "model.predict(X_test)"
   ]
  },
  {
   "cell_type": "markdown",
   "id": "56c9705b",
   "metadata": {
    "papermill": {
     "duration": 0.021215,
     "end_time": "2025-07-28T10:16:00.979005",
     "exception": false,
     "start_time": "2025-07-28T10:16:00.957790",
     "status": "completed"
    },
    "tags": []
   },
   "source": [
    "# Conformal Prediction"
   ]
  },
  {
   "cell_type": "code",
   "execution_count": 40,
   "id": "160ec6ff",
   "metadata": {
    "execution": {
     "iopub.execute_input": "2025-07-28T10:16:01.024073Z",
     "iopub.status.busy": "2025-07-28T10:16:01.023288Z",
     "iopub.status.idle": "2025-07-28T10:16:01.028853Z",
     "shell.execute_reply": "2025-07-28T10:16:01.027918Z"
    },
    "papermill": {
     "duration": 0.03009,
     "end_time": "2025-07-28T10:16:01.030389",
     "exception": false,
     "start_time": "2025-07-28T10:16:01.000299",
     "status": "completed"
    },
    "tags": []
   },
   "outputs": [],
   "source": [
    "# Miscoverage level for conformal prediction (10% allowed error rate => 90% target coverage)\n",
    "alpha = 0.1"
   ]
  },
  {
   "cell_type": "code",
   "execution_count": 41,
   "id": "eadf4555-3dd3-440e-8e35-f82a4ad9f855",
   "metadata": {
    "execution": {
     "iopub.execute_input": "2025-07-28T10:16:01.077796Z",
     "iopub.status.busy": "2025-07-28T10:16:01.077042Z",
     "iopub.status.idle": "2025-07-28T10:16:01.262900Z",
     "shell.execute_reply": "2025-07-28T10:16:01.261853Z"
    },
    "papermill": {
     "duration": 0.211175,
     "end_time": "2025-07-28T10:16:01.264903",
     "exception": false,
     "start_time": "2025-07-28T10:16:01.053728",
     "status": "completed"
    },
    "tags": []
   },
   "outputs": [],
   "source": [
    "probs_calib = model.predict_proba(X_calib)"
   ]
  },
  {
   "cell_type": "code",
   "execution_count": 42,
   "id": "2ed93547-6d5d-4983-9b36-1ecb300da49a",
   "metadata": {
    "execution": {
     "iopub.execute_input": "2025-07-28T10:16:01.310677Z",
     "iopub.status.busy": "2025-07-28T10:16:01.309796Z",
     "iopub.status.idle": "2025-07-28T10:16:01.316119Z",
     "shell.execute_reply": "2025-07-28T10:16:01.315099Z"
    },
    "papermill": {
     "duration": 0.030891,
     "end_time": "2025-07-28T10:16:01.317853",
     "exception": false,
     "start_time": "2025-07-28T10:16:01.286962",
     "status": "completed"
    },
    "tags": []
   },
   "outputs": [],
   "source": [
    "y_calib = y_calib.values.ravel().astype(int)"
   ]
  },
  {
   "cell_type": "code",
   "execution_count": 43,
   "id": "65d1320d-f588-4b38-9072-62af1ae97f7d",
   "metadata": {
    "execution": {
     "iopub.execute_input": "2025-07-28T10:16:01.366327Z",
     "iopub.status.busy": "2025-07-28T10:16:01.365597Z",
     "iopub.status.idle": "2025-07-28T10:16:01.373599Z",
     "shell.execute_reply": "2025-07-28T10:16:01.372565Z"
    },
    "papermill": {
     "duration": 0.033751,
     "end_time": "2025-07-28T10:16:01.375261",
     "exception": false,
     "start_time": "2025-07-28T10:16:01.341510",
     "status": "completed"
    },
    "tags": []
   },
   "outputs": [],
   "source": [
    "from fairness_multiverse.conformal import compute_nc_scores\n",
    "\n",
    "# Compute nonconformity scores on calibration set (1 - probability of true class)\n",
    "nc_scores = compute_nc_scores(probs_calib, y_calib)"
   ]
  },
  {
   "cell_type": "code",
   "execution_count": 44,
   "id": "df3b8ca3-53b7-43d5-9667-7c85da7aeda2",
   "metadata": {
    "execution": {
     "iopub.execute_input": "2025-07-28T10:16:01.421420Z",
     "iopub.status.busy": "2025-07-28T10:16:01.420462Z",
     "iopub.status.idle": "2025-07-28T10:16:01.427508Z",
     "shell.execute_reply": "2025-07-28T10:16:01.426579Z"
    },
    "papermill": {
     "duration": 0.031596,
     "end_time": "2025-07-28T10:16:01.429160",
     "exception": false,
     "start_time": "2025-07-28T10:16:01.397564",
     "status": "completed"
    },
    "tags": []
   },
   "outputs": [],
   "source": [
    "from fairness_multiverse.conformal import find_threshold\n",
    "\n",
    "# Find conformal threshold q_hat for the given alpha (split conformal method)\n",
    "q_hat = find_threshold(nc_scores, alpha)"
   ]
  },
  {
   "cell_type": "code",
   "execution_count": 45,
   "id": "4d29e6c1-0ef6-4aa4-b8fe-4fe79b0d033a",
   "metadata": {
    "execution": {
     "iopub.execute_input": "2025-07-28T10:16:01.474738Z",
     "iopub.status.busy": "2025-07-28T10:16:01.474148Z",
     "iopub.status.idle": "2025-07-28T10:16:01.482253Z",
     "shell.execute_reply": "2025-07-28T10:16:01.481374Z"
    },
    "papermill": {
     "duration": 0.032561,
     "end_time": "2025-07-28T10:16:01.483817",
     "exception": false,
     "start_time": "2025-07-28T10:16:01.451256",
     "status": "completed"
    },
    "tags": []
   },
   "outputs": [
    {
     "data": {
      "text/plain": [
       "0.6595262941553575"
      ]
     },
     "execution_count": 45,
     "metadata": {},
     "output_type": "execute_result"
    }
   ],
   "source": [
    "q_hat"
   ]
  },
  {
   "cell_type": "code",
   "execution_count": 46,
   "id": "92460794-cdac-4be2-ba28-f28c0515a6fb",
   "metadata": {
    "execution": {
     "iopub.execute_input": "2025-07-28T10:16:01.529868Z",
     "iopub.status.busy": "2025-07-28T10:16:01.529227Z",
     "iopub.status.idle": "2025-07-28T10:16:02.631268Z",
     "shell.execute_reply": "2025-07-28T10:16:02.630084Z"
    },
    "papermill": {
     "duration": 1.127762,
     "end_time": "2025-07-28T10:16:02.633778",
     "exception": false,
     "start_time": "2025-07-28T10:16:01.506016",
     "status": "completed"
    },
    "tags": []
   },
   "outputs": [],
   "source": [
    "from fairness_multiverse.conformal import predict_conformal_sets\n",
    "\n",
    "# Generate prediction sets for each test example\n",
    "pred_sets = predict_conformal_sets(model, X_test, q_hat)"
   ]
  },
  {
   "cell_type": "code",
   "execution_count": 47,
   "id": "d90c9a65-e6db-4f5d-80cd-e68fb7e46829",
   "metadata": {
    "execution": {
     "iopub.execute_input": "2025-07-28T10:16:02.697293Z",
     "iopub.status.busy": "2025-07-28T10:16:02.696272Z",
     "iopub.status.idle": "2025-07-28T10:16:02.703127Z",
     "shell.execute_reply": "2025-07-28T10:16:02.702103Z"
    },
    "papermill": {
     "duration": 0.040169,
     "end_time": "2025-07-28T10:16:02.704713",
     "exception": false,
     "start_time": "2025-07-28T10:16:02.664544",
     "status": "completed"
    },
    "tags": []
   },
   "outputs": [],
   "source": [
    "y_true = y_true.squeeze()"
   ]
  },
  {
   "cell_type": "code",
   "execution_count": 48,
   "id": "3a58a54a-1e68-46b9-927a-df01f18aebc8",
   "metadata": {
    "execution": {
     "iopub.execute_input": "2025-07-28T10:16:02.752992Z",
     "iopub.status.busy": "2025-07-28T10:16:02.752002Z",
     "iopub.status.idle": "2025-07-28T10:16:04.201354Z",
     "shell.execute_reply": "2025-07-28T10:16:04.199760Z"
    },
    "papermill": {
     "duration": 1.47587,
     "end_time": "2025-07-28T10:16:04.203443",
     "exception": false,
     "start_time": "2025-07-28T10:16:02.727573",
     "status": "completed"
    },
    "tags": []
   },
   "outputs": [],
   "source": [
    "from fairness_multiverse.conformal import evaluate_sets\n",
    "\n",
    "# Evaluate coverage and average set size on test data\n",
    "metrics = evaluate_sets(pred_sets, y_true)"
   ]
  },
  {
   "cell_type": "markdown",
   "id": "2b569c12-9aaa-4c88-98c9-bbcd0cf3ebb8",
   "metadata": {
    "papermill": {
     "duration": 0.024603,
     "end_time": "2025-07-28T10:16:04.253971",
     "exception": false,
     "start_time": "2025-07-28T10:16:04.229368",
     "status": "completed"
    },
    "tags": []
   },
   "source": [
    "# CP Metrics"
   ]
  },
  {
   "cell_type": "code",
   "execution_count": 49,
   "id": "5ce0a5cb-201f-45a0-ade5-94c7f0bd6095",
   "metadata": {
    "execution": {
     "iopub.execute_input": "2025-07-28T10:16:04.304624Z",
     "iopub.status.busy": "2025-07-28T10:16:04.303833Z",
     "iopub.status.idle": "2025-07-28T10:16:04.313605Z",
     "shell.execute_reply": "2025-07-28T10:16:04.312499Z"
    },
    "papermill": {
     "duration": 0.038477,
     "end_time": "2025-07-28T10:16:04.315464",
     "exception": false,
     "start_time": "2025-07-28T10:16:04.276987",
     "status": "completed"
    },
    "tags": []
   },
   "outputs": [
    {
     "data": {
      "text/plain": [
       "{'coverage': 0.9103444432058856, 'avg_size': 1.125114257050496}"
      ]
     },
     "execution_count": 49,
     "metadata": {},
     "output_type": "execute_result"
    }
   ],
   "source": [
    "metrics"
   ]
  },
  {
   "cell_type": "code",
   "execution_count": 50,
   "id": "9b9a838d-31c9-430b-ae14-12baee460d17",
   "metadata": {
    "execution": {
     "iopub.execute_input": "2025-07-28T10:16:04.364181Z",
     "iopub.status.busy": "2025-07-28T10:16:04.363212Z",
     "iopub.status.idle": "2025-07-28T10:16:04.371153Z",
     "shell.execute_reply": "2025-07-28T10:16:04.370030Z"
    },
    "papermill": {
     "duration": 0.036545,
     "end_time": "2025-07-28T10:16:04.375034",
     "exception": false,
     "start_time": "2025-07-28T10:16:04.338489",
     "status": "completed"
    },
    "tags": []
   },
   "outputs": [],
   "source": [
    "example_universe = universe.copy()\n",
    "universe_training_size = example_universe.get(\"training_size\")\n",
    "universe_scale = example_universe.get(\"scale\")\n",
    "universe_model = example_universe.get(\"model\")\n",
    "universe_exclude_features = example_universe.get(\"exclude_features\")\n",
    "universe_exclude_subgroups = example_universe.get(\"exclude_subgroups\")"
   ]
  },
  {
   "cell_type": "code",
   "execution_count": 51,
   "id": "f4b6a8ac-9dc0-4245-8a91-5b3b5999c4f9",
   "metadata": {
    "execution": {
     "iopub.execute_input": "2025-07-28T10:16:04.424716Z",
     "iopub.status.busy": "2025-07-28T10:16:04.423467Z",
     "iopub.status.idle": "2025-07-28T10:16:04.431050Z",
     "shell.execute_reply": "2025-07-28T10:16:04.429592Z"
    },
    "papermill": {
     "duration": 0.035295,
     "end_time": "2025-07-28T10:16:04.433618",
     "exception": false,
     "start_time": "2025-07-28T10:16:04.398323",
     "status": "completed"
    },
    "tags": []
   },
   "outputs": [],
   "source": [
    "cp_metrics_dict = {\n",
    "    \"universe_id\": [universe_id],\n",
    "    \"universe_training_size\": [universe_training_size],\n",
    "    \"universe_scale\": [universe_scale],\n",
    "    \"universe_model\": [universe_model],\n",
    "    \"universe_exclude_features\": [universe_exclude_features],\n",
    "    \"universe_exclude_subgroups\": [universe_exclude_subgroups],\n",
    "    \"q_hat\": [q_hat],\n",
    "    \"coverage\": [metrics[\"coverage\"]],\n",
    "    \"avg_size\": [metrics[\"avg_size\"]],\n",
    "}"
   ]
  },
  {
   "cell_type": "code",
   "execution_count": 52,
   "id": "908acbb1-0371-4915-85ca-3fa520d2efe2",
   "metadata": {
    "execution": {
     "iopub.execute_input": "2025-07-28T10:16:04.503506Z",
     "iopub.status.busy": "2025-07-28T10:16:04.502745Z",
     "iopub.status.idle": "2025-07-28T10:16:04.511664Z",
     "shell.execute_reply": "2025-07-28T10:16:04.510452Z"
    },
    "papermill": {
     "duration": 0.046533,
     "end_time": "2025-07-28T10:16:04.514051",
     "exception": false,
     "start_time": "2025-07-28T10:16:04.467518",
     "status": "completed"
    },
    "tags": []
   },
   "outputs": [
    {
     "data": {
      "text/plain": [
       "{'universe_id': ['3b8788b68cb0514f391eb4d15516cfb8'],\n",
       " 'universe_training_size': ['25k'],\n",
       " 'universe_scale': ['scale'],\n",
       " 'universe_model': ['elasticnet'],\n",
       " 'universe_exclude_features': ['nationality'],\n",
       " 'universe_exclude_subgroups': ['keep-all'],\n",
       " 'q_hat': [0.6595262941553575],\n",
       " 'coverage': [0.9103444432058856],\n",
       " 'avg_size': [1.125114257050496]}"
      ]
     },
     "execution_count": 52,
     "metadata": {},
     "output_type": "execute_result"
    }
   ],
   "source": [
    "cp_metrics_dict"
   ]
  },
  {
   "cell_type": "code",
   "execution_count": 53,
   "id": "33007efc-14e9-4ec6-97ac-56a455c82265",
   "metadata": {
    "execution": {
     "iopub.execute_input": "2025-07-28T10:16:04.584553Z",
     "iopub.status.busy": "2025-07-28T10:16:04.583770Z",
     "iopub.status.idle": "2025-07-28T10:16:04.591958Z",
     "shell.execute_reply": "2025-07-28T10:16:04.590644Z"
    },
    "papermill": {
     "duration": 0.045726,
     "end_time": "2025-07-28T10:16:04.594111",
     "exception": false,
     "start_time": "2025-07-28T10:16:04.548385",
     "status": "completed"
    },
    "tags": []
   },
   "outputs": [],
   "source": [
    "cp_metrics_df = pd.DataFrame(cp_metrics_dict)"
   ]
  },
  {
   "cell_type": "code",
   "execution_count": 54,
   "id": "db12611b-57b2-4910-b9d0-355adfd6e7bf",
   "metadata": {
    "execution": {
     "iopub.execute_input": "2025-07-28T10:16:04.664314Z",
     "iopub.status.busy": "2025-07-28T10:16:04.663521Z",
     "iopub.status.idle": "2025-07-28T10:16:04.689326Z",
     "shell.execute_reply": "2025-07-28T10:16:04.688329Z"
    },
    "papermill": {
     "duration": 0.063016,
     "end_time": "2025-07-28T10:16:04.691391",
     "exception": false,
     "start_time": "2025-07-28T10:16:04.628375",
     "status": "completed"
    },
    "tags": []
   },
   "outputs": [
    {
     "data": {
      "text/html": [
       "<div>\n",
       "<style scoped>\n",
       "    .dataframe tbody tr th:only-of-type {\n",
       "        vertical-align: middle;\n",
       "    }\n",
       "\n",
       "    .dataframe tbody tr th {\n",
       "        vertical-align: top;\n",
       "    }\n",
       "\n",
       "    .dataframe thead th {\n",
       "        text-align: right;\n",
       "    }\n",
       "</style>\n",
       "<table border=\"1\" class=\"dataframe\">\n",
       "  <thead>\n",
       "    <tr style=\"text-align: right;\">\n",
       "      <th></th>\n",
       "      <th>universe_id</th>\n",
       "      <th>universe_training_size</th>\n",
       "      <th>universe_scale</th>\n",
       "      <th>universe_model</th>\n",
       "      <th>universe_exclude_features</th>\n",
       "      <th>universe_exclude_subgroups</th>\n",
       "      <th>q_hat</th>\n",
       "      <th>coverage</th>\n",
       "      <th>avg_size</th>\n",
       "    </tr>\n",
       "  </thead>\n",
       "  <tbody>\n",
       "    <tr>\n",
       "      <th>0</th>\n",
       "      <td>3b8788b68cb0514f391eb4d15516cfb8</td>\n",
       "      <td>25k</td>\n",
       "      <td>scale</td>\n",
       "      <td>elasticnet</td>\n",
       "      <td>nationality</td>\n",
       "      <td>keep-all</td>\n",
       "      <td>0.659526</td>\n",
       "      <td>0.910344</td>\n",
       "      <td>1.125114</td>\n",
       "    </tr>\n",
       "  </tbody>\n",
       "</table>\n",
       "</div>"
      ],
      "text/plain": [
       "                        universe_id universe_training_size universe_scale  \\\n",
       "0  3b8788b68cb0514f391eb4d15516cfb8                    25k          scale   \n",
       "\n",
       "  universe_model universe_exclude_features universe_exclude_subgroups  \\\n",
       "0     elasticnet               nationality                   keep-all   \n",
       "\n",
       "      q_hat  coverage  avg_size  \n",
       "0  0.659526  0.910344  1.125114  "
      ]
     },
     "execution_count": 54,
     "metadata": {},
     "output_type": "execute_result"
    }
   ],
   "source": [
    "cp_metrics_df"
   ]
  },
  {
   "cell_type": "code",
   "execution_count": 55,
   "id": "b7fbde55-a0a1-47e4-9af6-fe4a17fa8c61",
   "metadata": {
    "execution": {
     "iopub.execute_input": "2025-07-28T10:16:04.749483Z",
     "iopub.status.busy": "2025-07-28T10:16:04.748724Z",
     "iopub.status.idle": "2025-07-28T10:16:04.754537Z",
     "shell.execute_reply": "2025-07-28T10:16:04.753441Z"
    },
    "papermill": {
     "duration": 0.036708,
     "end_time": "2025-07-28T10:16:04.756226",
     "exception": false,
     "start_time": "2025-07-28T10:16:04.719518",
     "status": "completed"
    },
    "tags": []
   },
   "outputs": [],
   "source": [
    "# Conditional Coverage & looking at subgroups"
   ]
  },
  {
   "cell_type": "code",
   "execution_count": 56,
   "id": "027ae886-68dd-4141-96c7-805a5450e1ef",
   "metadata": {
    "execution": {
     "iopub.execute_input": "2025-07-28T10:16:04.815615Z",
     "iopub.status.busy": "2025-07-28T10:16:04.814897Z",
     "iopub.status.idle": "2025-07-28T10:16:05.143393Z",
     "shell.execute_reply": "2025-07-28T10:16:05.142309Z"
    },
    "papermill": {
     "duration": 0.361361,
     "end_time": "2025-07-28T10:16:05.145714",
     "exception": false,
     "start_time": "2025-07-28T10:16:04.784353",
     "status": "completed"
    },
    "tags": []
   },
   "outputs": [],
   "source": [
    "from fairness_multiverse.conformal import build_cp_groups\n",
    "\n",
    "cp_groups_df = build_cp_groups(pred_sets, y_true, X_test.index, org_test)\n",
    "#needs universe_id and setting"
   ]
  },
  {
   "cell_type": "code",
   "execution_count": 57,
   "id": "01d5802c-663a-4d1f-9d69-e036faaffbf7",
   "metadata": {
    "execution": {
     "iopub.execute_input": "2025-07-28T10:16:05.199876Z",
     "iopub.status.busy": "2025-07-28T10:16:05.199361Z",
     "iopub.status.idle": "2025-07-28T10:16:05.221124Z",
     "shell.execute_reply": "2025-07-28T10:16:05.219978Z"
    },
    "papermill": {
     "duration": 0.049991,
     "end_time": "2025-07-28T10:16:05.223218",
     "exception": false,
     "start_time": "2025-07-28T10:16:05.173227",
     "status": "completed"
    },
    "tags": []
   },
   "outputs": [],
   "source": [
    "#delete\n",
    "#cp_groups_df"
   ]
  },
  {
   "cell_type": "code",
   "execution_count": 58,
   "id": "fa424af1-d1eb-443d-b717-2d279ada8408",
   "metadata": {
    "execution": {
     "iopub.execute_input": "2025-07-28T10:16:05.274187Z",
     "iopub.status.busy": "2025-07-28T10:16:05.273670Z",
     "iopub.status.idle": "2025-07-28T10:16:05.279463Z",
     "shell.execute_reply": "2025-07-28T10:16:05.278492Z"
    },
    "papermill": {
     "duration": 0.033646,
     "end_time": "2025-07-28T10:16:05.281379",
     "exception": false,
     "start_time": "2025-07-28T10:16:05.247733",
     "status": "completed"
    },
    "tags": []
   },
   "outputs": [],
   "source": [
    "#delete\n",
    "#percentage = (cp_groups_df['nongerman_female'] == 1).mean() * 100\n",
    "#print(percentage)\n"
   ]
  },
  {
   "cell_type": "code",
   "execution_count": 59,
   "id": "6cbdab96-b2b2-45af-ad54-d0516db2e28d",
   "metadata": {
    "execution": {
     "iopub.execute_input": "2025-07-28T10:16:05.335870Z",
     "iopub.status.busy": "2025-07-28T10:16:05.335401Z",
     "iopub.status.idle": "2025-07-28T10:16:06.939331Z",
     "shell.execute_reply": "2025-07-28T10:16:06.938329Z"
    },
    "papermill": {
     "duration": 1.621308,
     "end_time": "2025-07-28T10:16:06.940890",
     "exception": false,
     "start_time": "2025-07-28T10:16:05.319582",
     "status": "completed"
    },
    "tags": []
   },
   "outputs": [],
   "source": [
    "# Define covered = 1 if true_label is in the predicted set\n",
    "cp_groups_df['covered'] = cp_groups_df.apply(\n",
    "    lambda r: int(r['true_label'] in r['pred_set']),\n",
    "    axis=1\n",
    ")"
   ]
  },
  {
   "cell_type": "code",
   "execution_count": 60,
   "id": "338ff529-1a6b-4b87-a931-8e4788d52aad",
   "metadata": {
    "execution": {
     "iopub.execute_input": "2025-07-28T10:16:06.978982Z",
     "iopub.status.busy": "2025-07-28T10:16:06.978445Z",
     "iopub.status.idle": "2025-07-28T10:16:06.983496Z",
     "shell.execute_reply": "2025-07-28T10:16:06.982728Z"
    },
    "papermill": {
     "duration": 0.022117,
     "end_time": "2025-07-28T10:16:06.984907",
     "exception": false,
     "start_time": "2025-07-28T10:16:06.962790",
     "status": "completed"
    },
    "tags": []
   },
   "outputs": [],
   "source": [
    "#cp_groups_df"
   ]
  },
  {
   "cell_type": "code",
   "execution_count": 61,
   "id": "90032e27-66df-4540-9169-4e89cfbaa758",
   "metadata": {
    "execution": {
     "iopub.execute_input": "2025-07-28T10:16:07.030565Z",
     "iopub.status.busy": "2025-07-28T10:16:07.030067Z",
     "iopub.status.idle": "2025-07-28T10:16:07.041596Z",
     "shell.execute_reply": "2025-07-28T10:16:07.040520Z"
    },
    "papermill": {
     "duration": 0.041488,
     "end_time": "2025-07-28T10:16:07.043703",
     "exception": false,
     "start_time": "2025-07-28T10:16:07.002215",
     "status": "completed"
    },
    "tags": []
   },
   "outputs": [],
   "source": [
    "subgroups = ['frau1','nongerman','nongerman_male','nongerman_female']\n",
    "\n",
    "# Conditional coverage for subgroup==1\n",
    "cond_coverage = {\n",
    "    g: cp_groups_df.loc[cp_groups_df[g]==1, 'covered'].mean()\n",
    "    for g in subgroups\n",
    "}"
   ]
  },
  {
   "cell_type": "code",
   "execution_count": 62,
   "id": "1e348fb1-b9c3-45bc-ba23-f016827a7e0d",
   "metadata": {
    "execution": {
     "iopub.execute_input": "2025-07-28T10:16:07.098730Z",
     "iopub.status.busy": "2025-07-28T10:16:07.097724Z",
     "iopub.status.idle": "2025-07-28T10:16:07.104634Z",
     "shell.execute_reply": "2025-07-28T10:16:07.103771Z"
    },
    "papermill": {
     "duration": 0.035851,
     "end_time": "2025-07-28T10:16:07.106415",
     "exception": false,
     "start_time": "2025-07-28T10:16:07.070564",
     "status": "completed"
    },
    "tags": []
   },
   "outputs": [
    {
     "data": {
      "text/plain": [
       "{'frau1': 0.9090982612211889,\n",
       " 'nongerman': 0.9121989558187841,\n",
       " 'nongerman_male': 0.9281275330991624,\n",
       " 'nongerman_female': 0.8858420268256334}"
      ]
     },
     "execution_count": 62,
     "metadata": {},
     "output_type": "execute_result"
    }
   ],
   "source": [
    "cond_coverage"
   ]
  },
  {
   "cell_type": "code",
   "execution_count": 63,
   "id": "f5093324-c3dd-4d63-bc4c-8d945e5c8bbb",
   "metadata": {
    "execution": {
     "iopub.execute_input": "2025-07-28T10:16:07.139856Z",
     "iopub.status.busy": "2025-07-28T10:16:07.139455Z",
     "iopub.status.idle": "2025-07-28T10:16:07.146286Z",
     "shell.execute_reply": "2025-07-28T10:16:07.145466Z"
    },
    "papermill": {
     "duration": 0.02315,
     "end_time": "2025-07-28T10:16:07.147684",
     "exception": false,
     "start_time": "2025-07-28T10:16:07.124534",
     "status": "completed"
    },
    "tags": []
   },
   "outputs": [],
   "source": [
    "for subgroup, cov in cond_coverage.items():\n",
    "    cp_metrics_df[f\"cov_{subgroup}\"] = cov"
   ]
  },
  {
   "cell_type": "code",
   "execution_count": 64,
   "id": "6e872e10-dbe5-49e8-b554-5030c98ff75d",
   "metadata": {
    "execution": {
     "iopub.execute_input": "2025-07-28T10:16:07.191338Z",
     "iopub.status.busy": "2025-07-28T10:16:07.190867Z",
     "iopub.status.idle": "2025-07-28T10:16:07.210717Z",
     "shell.execute_reply": "2025-07-28T10:16:07.209588Z"
    },
    "papermill": {
     "duration": 0.046716,
     "end_time": "2025-07-28T10:16:07.212872",
     "exception": false,
     "start_time": "2025-07-28T10:16:07.166156",
     "status": "completed"
    },
    "tags": []
   },
   "outputs": [
    {
     "data": {
      "text/html": [
       "<div>\n",
       "<style scoped>\n",
       "    .dataframe tbody tr th:only-of-type {\n",
       "        vertical-align: middle;\n",
       "    }\n",
       "\n",
       "    .dataframe tbody tr th {\n",
       "        vertical-align: top;\n",
       "    }\n",
       "\n",
       "    .dataframe thead th {\n",
       "        text-align: right;\n",
       "    }\n",
       "</style>\n",
       "<table border=\"1\" class=\"dataframe\">\n",
       "  <thead>\n",
       "    <tr style=\"text-align: right;\">\n",
       "      <th></th>\n",
       "      <th>universe_id</th>\n",
       "      <th>universe_training_size</th>\n",
       "      <th>universe_scale</th>\n",
       "      <th>universe_model</th>\n",
       "      <th>universe_exclude_features</th>\n",
       "      <th>universe_exclude_subgroups</th>\n",
       "      <th>q_hat</th>\n",
       "      <th>coverage</th>\n",
       "      <th>avg_size</th>\n",
       "      <th>cov_frau1</th>\n",
       "      <th>cov_nongerman</th>\n",
       "      <th>cov_nongerman_male</th>\n",
       "      <th>cov_nongerman_female</th>\n",
       "    </tr>\n",
       "  </thead>\n",
       "  <tbody>\n",
       "    <tr>\n",
       "      <th>0</th>\n",
       "      <td>3b8788b68cb0514f391eb4d15516cfb8</td>\n",
       "      <td>25k</td>\n",
       "      <td>scale</td>\n",
       "      <td>elasticnet</td>\n",
       "      <td>nationality</td>\n",
       "      <td>keep-all</td>\n",
       "      <td>0.659526</td>\n",
       "      <td>0.910344</td>\n",
       "      <td>1.125114</td>\n",
       "      <td>0.909098</td>\n",
       "      <td>0.912199</td>\n",
       "      <td>0.928128</td>\n",
       "      <td>0.885842</td>\n",
       "    </tr>\n",
       "  </tbody>\n",
       "</table>\n",
       "</div>"
      ],
      "text/plain": [
       "                        universe_id universe_training_size universe_scale  \\\n",
       "0  3b8788b68cb0514f391eb4d15516cfb8                    25k          scale   \n",
       "\n",
       "  universe_model universe_exclude_features universe_exclude_subgroups  \\\n",
       "0     elasticnet               nationality                   keep-all   \n",
       "\n",
       "      q_hat  coverage  avg_size  cov_frau1  cov_nongerman  cov_nongerman_male  \\\n",
       "0  0.659526  0.910344  1.125114   0.909098       0.912199            0.928128   \n",
       "\n",
       "   cov_nongerman_female  \n",
       "0              0.885842  "
      ]
     },
     "execution_count": 64,
     "metadata": {},
     "output_type": "execute_result"
    }
   ],
   "source": [
    "cp_metrics_df"
   ]
  },
  {
   "cell_type": "markdown",
   "id": "33774451",
   "metadata": {
    "papermill": {
     "duration": 0.036628,
     "end_time": "2025-07-28T10:16:07.286738",
     "exception": false,
     "start_time": "2025-07-28T10:16:07.250110",
     "status": "completed"
    },
    "tags": []
   },
   "source": [
    "# (Fairness) Metrics"
   ]
  },
  {
   "cell_type": "code",
   "execution_count": 65,
   "id": "debc5d62",
   "metadata": {
    "execution": {
     "iopub.execute_input": "2025-07-28T10:16:07.337728Z",
     "iopub.status.busy": "2025-07-28T10:16:07.337266Z",
     "iopub.status.idle": "2025-07-28T10:16:07.359317Z",
     "shell.execute_reply": "2025-07-28T10:16:07.358431Z"
    },
    "papermill": {
     "duration": 0.049089,
     "end_time": "2025-07-28T10:16:07.360944",
     "exception": false,
     "start_time": "2025-07-28T10:16:07.311855",
     "status": "completed"
    },
    "tags": []
   },
   "outputs": [],
   "source": [
    "# do I need to include maxdeutsch1.missing?\n",
    "\n",
    "import numpy as np\n",
    "\n",
    "colname_to_bin = \"maxdeutsch1\"\n",
    "majority_value = org_train[colname_to_bin].mode()[0]\n",
    "\n",
    "org_test[\"majmin\"] = np.where(org_test[colname_to_bin] == majority_value, \"majority\", \"minority\")"
   ]
  },
  {
   "cell_type": "code",
   "execution_count": 66,
   "id": "06a50de5",
   "metadata": {
    "execution": {
     "iopub.execute_input": "2025-07-28T10:16:07.413348Z",
     "iopub.status.busy": "2025-07-28T10:16:07.412691Z",
     "iopub.status.idle": "2025-07-28T10:16:10.498537Z",
     "shell.execute_reply": "2025-07-28T10:16:10.497557Z"
    },
    "papermill": {
     "duration": 3.114807,
     "end_time": "2025-07-28T10:16:10.500396",
     "exception": false,
     "start_time": "2025-07-28T10:16:07.385589",
     "status": "completed"
    },
    "tags": []
   },
   "outputs": [],
   "source": [
    "example_universe = universe.copy()\n",
    "example_universe[\"cutoff\"] = example_universe[\"cutoff\"][0]\n",
    "example_universe[\"eval_fairness_grouping\"] = example_universe[\"eval_fairness_grouping\"][0]\n",
    "fairness_dict, metric_frame = universe_analysis.compute_metrics(\n",
    "    example_universe,\n",
    "    y_pred_prob=probs_test,\n",
    "    y_test=y_true,\n",
    "    org_test=org_test,\n",
    ")"
   ]
  },
  {
   "cell_type": "markdown",
   "id": "f95d4e02",
   "metadata": {
    "papermill": {
     "duration": 0.024397,
     "end_time": "2025-07-28T10:16:10.551786",
     "exception": false,
     "start_time": "2025-07-28T10:16:10.527389",
     "status": "completed"
    },
    "tags": []
   },
   "source": [
    "# Overall"
   ]
  },
  {
   "cell_type": "markdown",
   "id": "bdee4871",
   "metadata": {
    "papermill": {
     "duration": 0.024322,
     "end_time": "2025-07-28T10:16:10.600800",
     "exception": false,
     "start_time": "2025-07-28T10:16:10.576478",
     "status": "completed"
    },
    "tags": []
   },
   "source": [
    "Fairness\n",
    "Main fairness target: Equalized Odds. Seems to be a better fit than equal opportunity, since we're not only interested in Y = 1. Seems to be a better fit than demographic parity, since we also care about accuracy, not just equal distribution of preds.\n",
    "\n",
    "Pick column for computation of fairness metrics\n",
    "\n",
    "Performance\n",
    "Overall performance measures, most interesting in relation to the measures split by group below"
   ]
  },
  {
   "cell_type": "code",
   "execution_count": 67,
   "id": "c4e067c6",
   "metadata": {
    "execution": {
     "iopub.execute_input": "2025-07-28T10:16:10.651333Z",
     "iopub.status.busy": "2025-07-28T10:16:10.650634Z",
     "iopub.status.idle": "2025-07-28T10:16:10.659446Z",
     "shell.execute_reply": "2025-07-28T10:16:10.658598Z"
    },
    "papermill": {
     "duration": 0.036147,
     "end_time": "2025-07-28T10:16:10.661144",
     "exception": false,
     "start_time": "2025-07-28T10:16:10.624997",
     "status": "completed"
    },
    "tags": []
   },
   "outputs": [
    {
     "data": {
      "text/plain": [
       "accuracy                   0.225627\n",
       "balanced accuracy          0.551427\n",
       "f1                         0.246924\n",
       "precision                  0.141059\n",
       "false positive rate        0.886806\n",
       "false negative rate        0.010341\n",
       "selection rate             0.900000\n",
       "count                  89710.000000\n",
       "dtype: float64"
      ]
     },
     "execution_count": 67,
     "metadata": {},
     "output_type": "execute_result"
    }
   ],
   "source": [
    "metric_frame.overall"
   ]
  },
  {
   "cell_type": "markdown",
   "id": "e968fe9d",
   "metadata": {
    "papermill": {
     "duration": 0.024568,
     "end_time": "2025-07-28T10:16:10.710432",
     "exception": false,
     "start_time": "2025-07-28T10:16:10.685864",
     "status": "completed"
    },
    "tags": []
   },
   "source": [
    "By Group"
   ]
  },
  {
   "cell_type": "code",
   "execution_count": 68,
   "id": "ec325bce",
   "metadata": {
    "execution": {
     "iopub.execute_input": "2025-07-28T10:16:10.761619Z",
     "iopub.status.busy": "2025-07-28T10:16:10.760913Z",
     "iopub.status.idle": "2025-07-28T10:16:10.777097Z",
     "shell.execute_reply": "2025-07-28T10:16:10.776156Z"
    },
    "papermill": {
     "duration": 0.043806,
     "end_time": "2025-07-28T10:16:10.778738",
     "exception": false,
     "start_time": "2025-07-28T10:16:10.734932",
     "status": "completed"
    },
    "tags": []
   },
   "outputs": [
    {
     "data": {
      "text/html": [
       "<div>\n",
       "<style scoped>\n",
       "    .dataframe tbody tr th:only-of-type {\n",
       "        vertical-align: middle;\n",
       "    }\n",
       "\n",
       "    .dataframe tbody tr th {\n",
       "        vertical-align: top;\n",
       "    }\n",
       "\n",
       "    .dataframe thead th {\n",
       "        text-align: right;\n",
       "    }\n",
       "</style>\n",
       "<table border=\"1\" class=\"dataframe\">\n",
       "  <thead>\n",
       "    <tr style=\"text-align: right;\">\n",
       "      <th></th>\n",
       "      <th>accuracy</th>\n",
       "      <th>balanced accuracy</th>\n",
       "      <th>f1</th>\n",
       "      <th>precision</th>\n",
       "      <th>false positive rate</th>\n",
       "      <th>false negative rate</th>\n",
       "      <th>selection rate</th>\n",
       "      <th>count</th>\n",
       "    </tr>\n",
       "    <tr>\n",
       "      <th>majmin</th>\n",
       "      <th></th>\n",
       "      <th></th>\n",
       "      <th></th>\n",
       "      <th></th>\n",
       "      <th></th>\n",
       "      <th></th>\n",
       "      <th></th>\n",
       "      <th></th>\n",
       "    </tr>\n",
       "  </thead>\n",
       "  <tbody>\n",
       "    <tr>\n",
       "      <th>majority</th>\n",
       "      <td>0.246841</td>\n",
       "      <td>0.561492</td>\n",
       "      <td>0.257659</td>\n",
       "      <td>0.148121</td>\n",
       "      <td>0.866184</td>\n",
       "      <td>0.010832</td>\n",
       "      <td>0.882435</td>\n",
       "      <td>69170.0</td>\n",
       "    </tr>\n",
       "    <tr>\n",
       "      <th>minority</th>\n",
       "      <td>0.154187</td>\n",
       "      <td>0.518312</td>\n",
       "      <td>0.212787</td>\n",
       "      <td>0.119182</td>\n",
       "      <td>0.954931</td>\n",
       "      <td>0.008446</td>\n",
       "      <td>0.959153</td>\n",
       "      <td>20540.0</td>\n",
       "    </tr>\n",
       "  </tbody>\n",
       "</table>\n",
       "</div>"
      ],
      "text/plain": [
       "          accuracy  balanced accuracy        f1  precision  \\\n",
       "majmin                                                       \n",
       "majority  0.246841           0.561492  0.257659   0.148121   \n",
       "minority  0.154187           0.518312  0.212787   0.119182   \n",
       "\n",
       "          false positive rate  false negative rate  selection rate    count  \n",
       "majmin                                                                       \n",
       "majority             0.866184             0.010832        0.882435  69170.0  \n",
       "minority             0.954931             0.008446        0.959153  20540.0  "
      ]
     },
     "execution_count": 68,
     "metadata": {},
     "output_type": "execute_result"
    }
   ],
   "source": [
    "metric_frame.by_group"
   ]
  },
  {
   "cell_type": "code",
   "execution_count": 69,
   "id": "a9ddbe63",
   "metadata": {
    "execution": {
     "iopub.execute_input": "2025-07-28T10:16:10.831619Z",
     "iopub.status.busy": "2025-07-28T10:16:10.830959Z",
     "iopub.status.idle": "2025-07-28T10:16:13.219820Z",
     "shell.execute_reply": "2025-07-28T10:16:13.218884Z"
    },
    "papermill": {
     "duration": 2.417205,
     "end_time": "2025-07-28T10:16:13.221544",
     "exception": false,
     "start_time": "2025-07-28T10:16:10.804339",
     "status": "completed"
    },
    "tags": []
   },
   "outputs": [
    {
     "data": {
      "text/plain": [
       "array([[<Axes: title={'center': 'accuracy'}, xlabel='majmin'>,\n",
       "        <Axes: title={'center': 'balanced accuracy'}, xlabel='majmin'>,\n",
       "        <Axes: title={'center': 'f1'}, xlabel='majmin'>],\n",
       "       [<Axes: title={'center': 'precision'}, xlabel='majmin'>,\n",
       "        <Axes: title={'center': 'false positive rate'}, xlabel='majmin'>,\n",
       "        <Axes: title={'center': 'false negative rate'}, xlabel='majmin'>],\n",
       "       [<Axes: title={'center': 'selection rate'}, xlabel='majmin'>,\n",
       "        <Axes: title={'center': 'count'}, xlabel='majmin'>,\n",
       "        <Axes: xlabel='majmin'>]], dtype=object)"
      ]
     },
     "execution_count": 69,
     "metadata": {},
     "output_type": "execute_result"
    },
    {
     "data": {
      "image/png": "[encoded data removed]",
      "text/plain": [
       "<Figure size 1200x800 with 9 Axes>"
      ]
     },
     "metadata": {},
     "output_type": "display_data"
    }
   ],
   "source": [
    "# In a graphic\n",
    "metric_frame.by_group.plot.bar(\n",
    "    subplots=True,\n",
    "    layout=[3, 3],\n",
    "    legend=False,\n",
    "    figsize=[12, 8],\n",
    "    title=\"Show all metrics\",\n",
    ")"
   ]
  },
  {
   "cell_type": "markdown",
   "id": "f57a0bac",
   "metadata": {
    "papermill": {
     "duration": 0.026163,
     "end_time": "2025-07-28T10:16:13.274826",
     "exception": false,
     "start_time": "2025-07-28T10:16:13.248663",
     "status": "completed"
    },
    "tags": []
   },
   "source": [
    "# Final Output"
   ]
  },
  {
   "cell_type": "code",
   "execution_count": 70,
   "id": "96d280a3",
   "metadata": {
    "execution": {
     "iopub.execute_input": "2025-07-28T10:16:13.329068Z",
     "iopub.status.busy": "2025-07-28T10:16:13.328453Z",
     "iopub.status.idle": "2025-07-28T10:16:13.336695Z",
     "shell.execute_reply": "2025-07-28T10:16:13.335694Z"
    },
    "papermill": {
     "duration": 0.037395,
     "end_time": "2025-07-28T10:16:13.338270",
     "exception": false,
     "start_time": "2025-07-28T10:16:13.300875",
     "status": "completed"
    },
    "tags": []
   },
   "outputs": [
    {
     "data": {
      "text/plain": [
       "4"
      ]
     },
     "execution_count": 70,
     "metadata": {},
     "output_type": "execute_result"
    }
   ],
   "source": [
    "sub_universes = universe_analysis.generate_sub_universes()\n",
    "len(sub_universes)"
   ]
  },
  {
   "cell_type": "code",
   "execution_count": 71,
   "id": "92adf7ba",
   "metadata": {
    "execution": {
     "iopub.execute_input": "2025-07-28T10:16:13.393417Z",
     "iopub.status.busy": "2025-07-28T10:16:13.392736Z",
     "iopub.status.idle": "2025-07-28T10:16:13.399161Z",
     "shell.execute_reply": "2025-07-28T10:16:13.398166Z"
    },
    "papermill": {
     "duration": 0.03577,
     "end_time": "2025-07-28T10:16:13.400824",
     "exception": false,
     "start_time": "2025-07-28T10:16:13.365054",
     "status": "completed"
    },
    "tags": []
   },
   "outputs": [],
   "source": [
    "def filter_sub_universe_data(sub_universe, org_test):\n",
    "    # Keep all rows — no filtering\n",
    "    keep_rows_mask = np.ones(org_test.shape[0], dtype=bool)\n",
    "\n",
    "    print(f\"[INFO] Keeping all rows: {keep_rows_mask.sum()} rows retained.\")\n",
    "    return keep_rows_mask"
   ]
  },
  {
   "cell_type": "code",
   "execution_count": 72,
   "id": "4a759155",
   "metadata": {
    "execution": {
     "iopub.execute_input": "2025-07-28T10:16:13.455774Z",
     "iopub.status.busy": "2025-07-28T10:16:13.455064Z",
     "iopub.status.idle": "2025-07-28T10:16:24.966990Z",
     "shell.execute_reply": "2025-07-28T10:16:24.966030Z"
    },
    "papermill": {
     "duration": 11.541217,
     "end_time": "2025-07-28T10:16:24.968818",
     "exception": false,
     "start_time": "2025-07-28T10:16:13.427601",
     "status": "completed"
    },
    "tags": []
   },
   "outputs": [
    {
     "name": "stdout",
     "output_type": "stream",
     "text": [
      "Stopping execution_time clock.\n",
      "[INFO] Keeping all rows: 89710 rows retained.\n"
     ]
    },
    {
     "name": "stdout",
     "output_type": "stream",
     "text": [
      "[INFO] Keeping all rows: 89710 rows retained.\n"
     ]
    },
    {
     "name": "stdout",
     "output_type": "stream",
     "text": [
      "[INFO] Keeping all rows: 89710 rows retained.\n"
     ]
    },
    {
     "name": "stdout",
     "output_type": "stream",
     "text": [
      "[INFO] Keeping all rows: 89710 rows retained.\n"
     ]
    },
    {
     "data": {
      "text/html": [
       "<div>\n",
       "<style scoped>\n",
       "    .dataframe tbody tr th:only-of-type {\n",
       "        vertical-align: middle;\n",
       "    }\n",
       "\n",
       "    .dataframe tbody tr th {\n",
       "        vertical-align: top;\n",
       "    }\n",
       "\n",
       "    .dataframe thead th {\n",
       "        text-align: right;\n",
       "    }\n",
       "</style>\n",
       "<table border=\"1\" class=\"dataframe\">\n",
       "  <thead>\n",
       "    <tr style=\"text-align: right;\">\n",
       "      <th></th>\n",
       "      <th>run_no</th>\n",
       "      <th>universe_id</th>\n",
       "      <th>universe_settings</th>\n",
       "      <th>execution_time</th>\n",
       "      <th>test_size_n</th>\n",
       "      <th>test_size_frac</th>\n",
       "      <th>fair_main_equalized_odds_difference</th>\n",
       "      <th>fair_main_equalized_odds_ratio</th>\n",
       "      <th>fair_main_demographic_parity_difference</th>\n",
       "      <th>fair_main_demographic_parity_ratio</th>\n",
       "      <th>...</th>\n",
       "      <th>perf_grp_precision_0</th>\n",
       "      <th>perf_grp_precision_1</th>\n",
       "      <th>perf_grp_false positive rate_0</th>\n",
       "      <th>perf_grp_false positive rate_1</th>\n",
       "      <th>perf_grp_false negative rate_0</th>\n",
       "      <th>perf_grp_false negative rate_1</th>\n",
       "      <th>perf_grp_selection rate_0</th>\n",
       "      <th>perf_grp_selection rate_1</th>\n",
       "      <th>perf_grp_count_0</th>\n",
       "      <th>perf_grp_count_1</th>\n",
       "    </tr>\n",
       "  </thead>\n",
       "  <tbody>\n",
       "    <tr>\n",
       "      <th>0</th>\n",
       "      <td>11</td>\n",
       "      <td>3b8788b68cb0514f391eb4d15516cfb8</td>\n",
       "      <td>{\"cutoff\": \"quantile_0.1\", \"eval_fairness_grou...</td>\n",
       "      <td>56.177848</td>\n",
       "      <td>89710</td>\n",
       "      <td>1.0</td>\n",
       "      <td>0.088747</td>\n",
       "      <td>0.907064</td>\n",
       "      <td>0.076718</td>\n",
       "      <td>0.920015</td>\n",
       "      <td>...</td>\n",
       "      <td>NaN</td>\n",
       "      <td>NaN</td>\n",
       "      <td>NaN</td>\n",
       "      <td>NaN</td>\n",
       "      <td>NaN</td>\n",
       "      <td>NaN</td>\n",
       "      <td>NaN</td>\n",
       "      <td>NaN</td>\n",
       "      <td>NaN</td>\n",
       "      <td>NaN</td>\n",
       "    </tr>\n",
       "    <tr>\n",
       "      <th>0</th>\n",
       "      <td>11</td>\n",
       "      <td>3b8788b68cb0514f391eb4d15516cfb8</td>\n",
       "      <td>{\"cutoff\": \"quantile_0.1\", \"eval_fairness_grou...</td>\n",
       "      <td>56.177848</td>\n",
       "      <td>89710</td>\n",
       "      <td>1.0</td>\n",
       "      <td>0.088747</td>\n",
       "      <td>0.907064</td>\n",
       "      <td>0.076718</td>\n",
       "      <td>0.920015</td>\n",
       "      <td>...</td>\n",
       "      <td>0.119182</td>\n",
       "      <td>0.148121</td>\n",
       "      <td>0.954931</td>\n",
       "      <td>0.866184</td>\n",
       "      <td>0.008446</td>\n",
       "      <td>0.010832</td>\n",
       "      <td>0.959153</td>\n",
       "      <td>0.882435</td>\n",
       "      <td>20540.0</td>\n",
       "      <td>69170.0</td>\n",
       "    </tr>\n",
       "    <tr>\n",
       "      <th>0</th>\n",
       "      <td>11</td>\n",
       "      <td>3b8788b68cb0514f391eb4d15516cfb8</td>\n",
       "      <td>{\"cutoff\": \"quantile_0.25\", \"eval_fairness_gro...</td>\n",
       "      <td>56.177848</td>\n",
       "      <td>89710</td>\n",
       "      <td>1.0</td>\n",
       "      <td>0.160270</td>\n",
       "      <td>0.809993</td>\n",
       "      <td>0.138897</td>\n",
       "      <td>0.837956</td>\n",
       "      <td>...</td>\n",
       "      <td>NaN</td>\n",
       "      <td>NaN</td>\n",
       "      <td>NaN</td>\n",
       "      <td>NaN</td>\n",
       "      <td>NaN</td>\n",
       "      <td>NaN</td>\n",
       "      <td>NaN</td>\n",
       "      <td>NaN</td>\n",
       "      <td>NaN</td>\n",
       "      <td>NaN</td>\n",
       "    </tr>\n",
       "    <tr>\n",
       "      <th>0</th>\n",
       "      <td>11</td>\n",
       "      <td>3b8788b68cb0514f391eb4d15516cfb8</td>\n",
       "      <td>{\"cutoff\": \"quantile_0.25\", \"eval_fairness_gro...</td>\n",
       "      <td>56.177848</td>\n",
       "      <td>89710</td>\n",
       "      <td>1.0</td>\n",
       "      <td>0.160270</td>\n",
       "      <td>0.809993</td>\n",
       "      <td>0.138897</td>\n",
       "      <td>0.837956</td>\n",
       "      <td>...</td>\n",
       "      <td>0.129388</td>\n",
       "      <td>0.174470</td>\n",
       "      <td>0.843495</td>\n",
       "      <td>0.683225</td>\n",
       "      <td>0.038007</td>\n",
       "      <td>0.051641</td>\n",
       "      <td>0.857157</td>\n",
       "      <td>0.718259</td>\n",
       "      <td>20540.0</td>\n",
       "      <td>69170.0</td>\n",
       "    </tr>\n",
       "  </tbody>\n",
       "</table>\n",
       "<p>4 rows × 50 columns</p>\n",
       "</div>"
      ],
      "text/plain": [
       "  run_no                       universe_id  \\\n",
       "0     11  3b8788b68cb0514f391eb4d15516cfb8   \n",
       "0     11  3b8788b68cb0514f391eb4d15516cfb8   \n",
       "0     11  3b8788b68cb0514f391eb4d15516cfb8   \n",
       "0     11  3b8788b68cb0514f391eb4d15516cfb8   \n",
       "\n",
       "                                   universe_settings  execution_time  \\\n",
       "0  {\"cutoff\": \"quantile_0.1\", \"eval_fairness_grou...       56.177848   \n",
       "0  {\"cutoff\": \"quantile_0.1\", \"eval_fairness_grou...       56.177848   \n",
       "0  {\"cutoff\": \"quantile_0.25\", \"eval_fairness_gro...       56.177848   \n",
       "0  {\"cutoff\": \"quantile_0.25\", \"eval_fairness_gro...       56.177848   \n",
       "\n",
       "   test_size_n  test_size_frac  fair_main_equalized_odds_difference  \\\n",
       "0        89710             1.0                             0.088747   \n",
       "0        89710             1.0                             0.088747   \n",
       "0        89710             1.0                             0.160270   \n",
       "0        89710             1.0                             0.160270   \n",
       "\n",
       "   fair_main_equalized_odds_ratio  fair_main_demographic_parity_difference  \\\n",
       "0                        0.907064                                 0.076718   \n",
       "0                        0.907064                                 0.076718   \n",
       "0                        0.809993                                 0.138897   \n",
       "0                        0.809993                                 0.138897   \n",
       "\n",
       "   fair_main_demographic_parity_ratio  ...  perf_grp_precision_0  \\\n",
       "0                            0.920015  ...                   NaN   \n",
       "0                            0.920015  ...              0.119182   \n",
       "0                            0.837956  ...                   NaN   \n",
       "0                            0.837956  ...              0.129388   \n",
       "\n",
       "   perf_grp_precision_1  perf_grp_false positive rate_0  \\\n",
       "0                   NaN                             NaN   \n",
       "0              0.148121                        0.954931   \n",
       "0                   NaN                             NaN   \n",
       "0              0.174470                        0.843495   \n",
       "\n",
       "   perf_grp_false positive rate_1  perf_grp_false negative rate_0  \\\n",
       "0                             NaN                             NaN   \n",
       "0                        0.866184                        0.008446   \n",
       "0                             NaN                             NaN   \n",
       "0                        0.683225                        0.038007   \n",
       "\n",
       "   perf_grp_false negative rate_1  perf_grp_selection rate_0  \\\n",
       "0                             NaN                        NaN   \n",
       "0                        0.010832                   0.959153   \n",
       "0                             NaN                        NaN   \n",
       "0                        0.051641                   0.857157   \n",
       "\n",
       "   perf_grp_selection rate_1  perf_grp_count_0  perf_grp_count_1  \n",
       "0                        NaN               NaN               NaN  \n",
       "0                   0.882435           20540.0           69170.0  \n",
       "0                        NaN               NaN               NaN  \n",
       "0                   0.718259           20540.0           69170.0  \n",
       "\n",
       "[4 rows x 50 columns]"
      ]
     },
     "execution_count": 72,
     "metadata": {},
     "output_type": "execute_result"
    }
   ],
   "source": [
    "final_output = universe_analysis.generate_final_output(\n",
    "    y_pred_prob=probs_test,\n",
    "    y_test=y_true,\n",
    "    org_test=org_test,\n",
    "    filter_data=filter_sub_universe_data,\n",
    "    cp_metrics_df=cp_metrics_df,\n",
    "    save=True,\n",
    ")\n",
    "final_output"
   ]
  },
  {
   "cell_type": "code",
   "execution_count": null,
   "id": "721ff514-cb11-46f8-b6fc-50392f74b5cb",
   "metadata": {
    "papermill": {
     "duration": 0.028931,
     "end_time": "2025-07-28T10:16:25.028234",
     "exception": false,
     "start_time": "2025-07-28T10:16:24.999303",
     "status": "completed"
    },
    "tags": []
   },
   "outputs": [],
   "source": []
  }
 ],
 "metadata": {
  "celltoolbar": "Tags",
  "kernelspec": {
   "display_name": "Python (CMA Fairness)",
   "language": "python",
   "name": "cma_fair_env"
  },
  "language_info": {
   "codemirror_mode": {
    "name": "ipython",
    "version": 3
   },
   "file_extension": ".py",
   "mimetype": "text/x-python",
   "name": "python",
   "nbconvert_exporter": "python",
   "pygments_lexer": "ipython3",
   "version": "3.10.12"
  },
  "papermill": {
   "default_parameters": {},
   "duration": 71.530717,
   "end_time": "2025-07-28T10:16:25.677361",
   "environment_variables": {},
   "exception": null,
   "input_path": "universe_analysis.ipynb",
   "output_path": "output/runs/11/notebooks/m_11-3b8788b68cb0514f391eb4d15516cfb8.ipynb",
   "parameters": {
    "output_dir": "output",
    "run_no": "11",
    "seed": "2023",
    "universe": "{\"cutoff\": [\"quantile_0.1\", \"quantile_0.25\"], \"eval_fairness_grouping\": [\"majority-minority\", \"nationality-all\"], \"exclude_features\": \"nationality\", \"exclude_subgroups\": \"keep-all\", \"model\": \"elasticnet\", \"scale\": \"scale\", \"training_size\": \"25k\"}",
    "universe_id": "3b8788b68cb0514f391eb4d15516cfb8"
   },
   "start_time": "2025-07-28T10:15:14.146644",
   "version": "2.6.0"
  }
 },
 "nbformat": 4,
 "nbformat_minor": 5
}