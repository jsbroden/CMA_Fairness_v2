{
 "cells": [
  {
   "cell_type": "code",
   "execution_count": 1,
   "id": "f159f837-637b-42ba-96b5-ec9a68c44524",
   "metadata": {
    "execution": {
     "iopub.execute_input": "2025-07-28T10:55:21.404717Z",
     "iopub.status.busy": "2025-07-28T10:55:21.404420Z",
     "iopub.status.idle": "2025-07-28T10:55:21.415180Z",
     "shell.execute_reply": "2025-07-28T10:55:21.414198Z"
    },
    "papermill": {
     "duration": 0.023955,
     "end_time": "2025-07-28T10:55:21.416660",
     "exception": false,
     "start_time": "2025-07-28T10:55:21.392705",
     "status": "completed"
    },
    "tags": []
   },
   "outputs": [
    {
     "name": "stdout",
     "output_type": "stream",
     "text": [
      "/dss/dsshome1/0C/ra93lal2/cma/CMA_Fairness_v2\n"
     ]
    },
    {
     "name": "stderr",
     "output_type": "stream",
     "text": [
      "/dss/dsshome1/0C/ra93lal2/.local/share/virtualenvs/CMA_Fairness_v2-3j10GkSs/lib/python3.10/site-packages/IPython/core/magics/osm.py:393: UserWarning: This is now an optional IPython functionality, using bookmarks requires you to install the `pickleshare` library.\n",
      "  bkms = self.shell.db.get('bookmarks', {})\n",
      "/dss/dsshome1/0C/ra93lal2/.local/share/virtualenvs/CMA_Fairness_v2-3j10GkSs/lib/python3.10/site-packages/IPython/core/magics/osm.py:417: UserWarning: This is now an optional IPython functionality, setting dhist requires you to install the `pickleshare` library.\n",
      "  self.shell.db['dhist'] = compress_dhist(dhist)[-100:]\n"
     ]
    }
   ],
   "source": [
    "%cd ~/cma/CMA_Fairness_v2"
   ]
  },
  {
   "cell_type": "markdown",
   "id": "de2603b9",
   "metadata": {
    "papermill": {
     "duration": 0.010188,
     "end_time": "2025-07-28T10:55:21.437649",
     "exception": false,
     "start_time": "2025-07-28T10:55:21.427461",
     "status": "completed"
    },
    "tags": []
   },
   "source": [
    "The following cell holds the definition of our parameters, these values can be overriden by rendering the with e.g. the following command:\n",
    "\n",
    "papermill -p alpha 0.2 -p ratio 0.3 universe_analysis.ipynb output/test_run.ipynb"
   ]
  },
  {
   "cell_type": "code",
   "execution_count": 2,
   "id": "a80968a0-40bb-4fa9-85ef-2d5eefb01975",
   "metadata": {
    "execution": {
     "iopub.execute_input": "2025-07-28T10:55:21.459378Z",
     "iopub.status.busy": "2025-07-28T10:55:21.458861Z",
     "iopub.status.idle": "2025-07-28T10:55:21.463889Z",
     "shell.execute_reply": "2025-07-28T10:55:21.463070Z"
    },
    "papermill": {
     "duration": 0.017866,
     "end_time": "2025-07-28T10:55:21.465492",
     "exception": false,
     "start_time": "2025-07-28T10:55:21.447626",
     "status": "completed"
    },
    "tags": []
   },
   "outputs": [
    {
     "name": "stdout",
     "output_type": "stream",
     "text": [
      "Current working directory: /dss/dsshome1/0C/ra93lal2/cma/CMA_Fairness_v2\n"
     ]
    }
   ],
   "source": [
    "import os\n",
    "print(\"Current working directory:\", os.getcwd())"
   ]
  },
  {
   "cell_type": "code",
   "execution_count": 3,
   "id": "2dce4c03",
   "metadata": {
    "execution": {
     "iopub.execute_input": "2025-07-28T10:55:21.488747Z",
     "iopub.status.busy": "2025-07-28T10:55:21.488204Z",
     "iopub.status.idle": "2025-07-28T10:55:21.493594Z",
     "shell.execute_reply": "2025-07-28T10:55:21.492877Z"
    },
    "papermill": {
     "duration": 0.01845,
     "end_time": "2025-07-28T10:55:21.494940",
     "exception": false,
     "start_time": "2025-07-28T10:55:21.476490",
     "status": "completed"
    },
    "tags": [
     "parameters"
    ]
   },
   "outputs": [],
   "source": [
    "run_no = 0\n",
    "universe_id = \"test\"\n",
    "universe = {\n",
    "    \"training_size\": \"2014\", # \"25k\", \"5k\", \"1k\", \"2014\"\n",
    "    \"scale\": \"scale\", # \"scale\", \"do-not-scale\",\n",
    "    #\"stratify_split\": \"target\", # \"none\", \"target\", \"protected-attribute\", \"both\",\n",
    "    \"model\": \"elasticnet\", # \"logreg\", \"penalized_logreg\", \"rf\", \"gbm\", \"elasticnet\"\n",
    "    \"cutoff\": [\"quantile_0.15\", \"quantile_0.30\"],\n",
    "    \"exclude_features\": \"age\", # \"none\", \"nationality\", \"sex\", \"nationality-sex\", \"age\"\n",
    "    \"exclude_subgroups\": \"keep-all\", # \"keep-all\", \"drop-non-german\"\n",
    "    \"eval_fairness_grouping\": [\"majority-minority\", \"nationality-all\"]\n",
    "}\n",
    "\n",
    "output_dir=\"./output\"\n",
    "seed=0"
   ]
  },
  {
   "cell_type": "code",
   "execution_count": 4,
   "id": "e1109d99",
   "metadata": {
    "execution": {
     "iopub.execute_input": "2025-07-28T10:55:21.517829Z",
     "iopub.status.busy": "2025-07-28T10:55:21.517301Z",
     "iopub.status.idle": "2025-07-28T10:55:21.521796Z",
     "shell.execute_reply": "2025-07-28T10:55:21.520963Z"
    },
    "papermill": {
     "duration": 0.017431,
     "end_time": "2025-07-28T10:55:21.523160",
     "exception": false,
     "start_time": "2025-07-28T10:55:21.505729",
     "status": "completed"
    },
    "tags": [
     "injected-parameters"
    ]
   },
   "outputs": [],
   "source": [
    "# Parameters\n",
    "universe_id = \"b318ce35e196d115f8bff6f4acb827ed\"\n",
    "run_no = \"11\"\n",
    "universe = \"{\\\"cutoff\\\": [\\\"quantile_0.1\\\", \\\"quantile_0.25\\\"], \\\"eval_fairness_grouping\\\": [\\\"majority-minority\\\", \\\"nationality-all\\\"], \\\"exclude_features\\\": \\\"none\\\", \\\"exclude_subgroups\\\": \\\"drop-non-german\\\", \\\"model\\\": \\\"rf\\\", \\\"scale\\\": \\\"scale\\\", \\\"training_size\\\": \\\"2014\\\"}\"\n",
    "output_dir = \"output\"\n",
    "seed = \"2023\"\n"
   ]
  },
  {
   "cell_type": "code",
   "execution_count": 5,
   "id": "1650acaf",
   "metadata": {
    "execution": {
     "iopub.execute_input": "2025-07-28T10:55:21.546229Z",
     "iopub.status.busy": "2025-07-28T10:55:21.545694Z",
     "iopub.status.idle": "2025-07-28T10:55:21.550199Z",
     "shell.execute_reply": "2025-07-28T10:55:21.549498Z"
    },
    "papermill": {
     "duration": 0.017214,
     "end_time": "2025-07-28T10:55:21.551478",
     "exception": false,
     "start_time": "2025-07-28T10:55:21.534264",
     "status": "completed"
    },
    "tags": []
   },
   "outputs": [],
   "source": [
    "import json\n",
    "# Parse universe into dict if it is passed as a string\n",
    "if isinstance(universe, str):\n",
    "    universe = json.loads(universe)"
   ]
  },
  {
   "cell_type": "code",
   "execution_count": 6,
   "id": "16620c48",
   "metadata": {
    "execution": {
     "iopub.execute_input": "2025-07-28T10:55:21.574341Z",
     "iopub.status.busy": "2025-07-28T10:55:21.573839Z",
     "iopub.status.idle": "2025-07-28T10:55:21.604178Z",
     "shell.execute_reply": "2025-07-28T10:55:21.603402Z"
    },
    "papermill": {
     "duration": 0.043212,
     "end_time": "2025-07-28T10:55:21.605677",
     "exception": false,
     "start_time": "2025-07-28T10:55:21.562465",
     "status": "completed"
    },
    "tags": []
   },
   "outputs": [],
   "source": [
    "# Auto-reload the custom package\n",
    "%load_ext autoreload\n",
    "%autoreload 1\n",
    "%aimport fairness_multiverse"
   ]
  },
  {
   "cell_type": "code",
   "execution_count": 7,
   "id": "01c5c9f3",
   "metadata": {
    "execution": {
     "iopub.execute_input": "2025-07-28T10:55:21.628732Z",
     "iopub.status.busy": "2025-07-28T10:55:21.627882Z",
     "iopub.status.idle": "2025-07-28T10:55:23.609772Z",
     "shell.execute_reply": "2025-07-28T10:55:23.608647Z"
    },
    "papermill": {
     "duration": 1.995273,
     "end_time": "2025-07-28T10:55:23.611904",
     "exception": false,
     "start_time": "2025-07-28T10:55:21.616631",
     "status": "completed"
    },
    "tags": []
   },
   "outputs": [],
   "source": [
    "from fairness_multiverse.universe import UniverseAnalysis\n",
    "\n",
    "universe_analysis = UniverseAnalysis(\n",
    "    run_no = run_no,\n",
    "    universe_id = universe_id,\n",
    "    universe = universe,\n",
    "    output_dir=output_dir,\n",
    ")"
   ]
  },
  {
   "cell_type": "code",
   "execution_count": 8,
   "id": "106241f5",
   "metadata": {
    "execution": {
     "iopub.execute_input": "2025-07-28T10:55:23.654925Z",
     "iopub.status.busy": "2025-07-28T10:55:23.654400Z",
     "iopub.status.idle": "2025-07-28T10:55:23.661313Z",
     "shell.execute_reply": "2025-07-28T10:55:23.660281Z"
    },
    "papermill": {
     "duration": 0.030363,
     "end_time": "2025-07-28T10:55:23.663096",
     "exception": false,
     "start_time": "2025-07-28T10:55:23.632733",
     "status": "completed"
    },
    "tags": []
   },
   "outputs": [
    {
     "name": "stdout",
     "output_type": "stream",
     "text": [
      "Using Seed: 2023\n"
     ]
    }
   ],
   "source": [
    "import numpy as np\n",
    "parsed_seed = int(seed)\n",
    "np.random.seed(parsed_seed)\n",
    "print(f\"Using Seed: {parsed_seed}\")"
   ]
  },
  {
   "cell_type": "markdown",
   "id": "e0ebdc57",
   "metadata": {
    "papermill": {
     "duration": 0.020643,
     "end_time": "2025-07-28T10:55:23.704137",
     "exception": false,
     "start_time": "2025-07-28T10:55:23.683494",
     "status": "completed"
    },
    "tags": []
   },
   "source": [
    "# Loading Data"
   ]
  },
  {
   "cell_type": "markdown",
   "id": "681925a3",
   "metadata": {
    "papermill": {
     "duration": 0.020043,
     "end_time": "2025-07-28T10:55:23.744922",
     "exception": false,
     "start_time": "2025-07-28T10:55:23.724879",
     "status": "completed"
    },
    "tags": []
   },
   "source": [
    "Load siab_train, siab_test, siab_calib and/or \n",
    "load siab_train_features, siab_train_labels"
   ]
  },
  {
   "cell_type": "code",
   "execution_count": 9,
   "id": "f0496b8a",
   "metadata": {
    "execution": {
     "iopub.execute_input": "2025-07-28T10:55:23.787351Z",
     "iopub.status.busy": "2025-07-28T10:55:23.786644Z",
     "iopub.status.idle": "2025-07-28T10:55:37.190996Z",
     "shell.execute_reply": "2025-07-28T10:55:37.189492Z"
    },
    "papermill": {
     "duration": 13.428559,
     "end_time": "2025-07-28T10:55:37.193283",
     "exception": false,
     "start_time": "2025-07-28T10:55:23.764724",
     "status": "completed"
    },
    "tags": []
   },
   "outputs": [
    {
     "name": "stdout",
     "output_type": "stream",
     "text": [
      "Loading SIAB data from cache: data/siab_cached.csv.gz\n"
     ]
    },
    {
     "name": "stdout",
     "output_type": "stream",
     "text": [
      "(643690, 164)\n"
     ]
    }
   ],
   "source": [
    "from pathlib import Path\n",
    "import pandas as pd\n",
    "\n",
    "# File paths\n",
    "raw_file = Path(\"data/raw/siab.csv\")\n",
    "cache_file = Path(\"data/siab_cached.csv.gz\")\n",
    "\n",
    "# Ensure cache directory exists\n",
    "cache_file.parent.mkdir(parents=True, exist_ok=True)\n",
    "\n",
    "# Load with simple caching\n",
    "if cache_file.exists():\n",
    "    print(f\"Loading SIAB data from cache: {cache_file}\")\n",
    "    siab = pd.read_csv(cache_file, compression='gzip')\n",
    "else:\n",
    "    print(f\"Cache not found. Reading raw SIAB data: {raw_file}\")\n",
    "    siab = pd.read_csv(raw_file)\n",
    "    siab.to_csv(cache_file, index=False, compression='gzip')\n",
    "    print(f\"Cached SIAB data to: {cache_file}\")\n",
    "\n",
    "# Now use `siab` DataFrame as needed\n",
    "print(siab.shape)"
   ]
  },
  {
   "cell_type": "code",
   "execution_count": 10,
   "id": "db0ca512-5f53-4dba-abdb-a2888bca41ba",
   "metadata": {
    "execution": {
     "iopub.execute_input": "2025-07-28T10:55:37.244388Z",
     "iopub.status.busy": "2025-07-28T10:55:37.243716Z",
     "iopub.status.idle": "2025-07-28T10:55:37.251093Z",
     "shell.execute_reply": "2025-07-28T10:55:37.249562Z"
    },
    "papermill": {
     "duration": 0.035992,
     "end_time": "2025-07-28T10:55:37.254083",
     "exception": false,
     "start_time": "2025-07-28T10:55:37.218091",
     "status": "completed"
    },
    "tags": []
   },
   "outputs": [],
   "source": [
    "#siab"
   ]
  },
  {
   "cell_type": "code",
   "execution_count": 11,
   "id": "a0edb063",
   "metadata": {
    "execution": {
     "iopub.execute_input": "2025-07-28T10:55:37.299892Z",
     "iopub.status.busy": "2025-07-28T10:55:37.299360Z",
     "iopub.status.idle": "2025-07-28T10:55:37.316155Z",
     "shell.execute_reply": "2025-07-28T10:55:37.314884Z"
    },
    "papermill": {
     "duration": 0.053111,
     "end_time": "2025-07-28T10:55:37.329305",
     "exception": false,
     "start_time": "2025-07-28T10:55:37.276194",
     "status": "completed"
    },
    "tags": []
   },
   "outputs": [],
   "source": [
    "#import pandas as pd\n",
    "#\n",
    "#X_train = pd.read_csv(\"./data/X_train.csv\")\n",
    "#y_train = pd.read_csv(\"./data/y_train.csv\")"
   ]
  },
  {
   "cell_type": "code",
   "execution_count": 12,
   "id": "63d08085",
   "metadata": {
    "execution": {
     "iopub.execute_input": "2025-07-28T10:55:37.431368Z",
     "iopub.status.busy": "2025-07-28T10:55:37.430962Z",
     "iopub.status.idle": "2025-07-28T10:55:37.436158Z",
     "shell.execute_reply": "2025-07-28T10:55:37.435173Z"
    },
    "papermill": {
     "duration": 0.04983,
     "end_time": "2025-07-28T10:55:37.438208",
     "exception": false,
     "start_time": "2025-07-28T10:55:37.388378",
     "status": "completed"
    },
    "tags": []
   },
   "outputs": [],
   "source": [
    "#X_test = pd.read_csv(\"./data/X_test.csv\")\n",
    "#y_true = pd.read_csv(\"./data/y_test.csv\")"
   ]
  },
  {
   "cell_type": "code",
   "execution_count": 13,
   "id": "98a8d0fa-1d3d-4ed8-bb2c-281470e24add",
   "metadata": {
    "execution": {
     "iopub.execute_input": "2025-07-28T10:55:37.530822Z",
     "iopub.status.busy": "2025-07-28T10:55:37.530345Z",
     "iopub.status.idle": "2025-07-28T10:55:37.536942Z",
     "shell.execute_reply": "2025-07-28T10:55:37.535985Z"
    },
    "papermill": {
     "duration": 0.06206,
     "end_time": "2025-07-28T10:55:37.539112",
     "exception": false,
     "start_time": "2025-07-28T10:55:37.477052",
     "status": "completed"
    },
    "tags": []
   },
   "outputs": [],
   "source": [
    "# Calibration data for conformal\n",
    "#X_calib = pd.read_csv(\"./data/X_calib.csv\")\n",
    "#y_calib = pd.read_csv(\"./data/y_calib.csv\")"
   ]
  },
  {
   "cell_type": "markdown",
   "id": "9901737e-04df-44f0-9100-f5ad144ed040",
   "metadata": {
    "papermill": {
     "duration": 0.047246,
     "end_time": "2025-07-28T10:55:37.632350",
     "exception": false,
     "start_time": "2025-07-28T10:55:37.585104",
     "status": "completed"
    },
    "tags": []
   },
   "source": [
    "# Splitting Data and Setting Training Data Size"
   ]
  },
  {
   "cell_type": "code",
   "execution_count": 14,
   "id": "acbc8f7d-8fc8-4e86-8c59-5dcb0f58384b",
   "metadata": {
    "execution": {
     "iopub.execute_input": "2025-07-28T10:55:37.718724Z",
     "iopub.status.busy": "2025-07-28T10:55:37.718265Z",
     "iopub.status.idle": "2025-07-28T10:55:37.729063Z",
     "shell.execute_reply": "2025-07-28T10:55:37.727968Z"
    },
    "papermill": {
     "duration": 0.06108,
     "end_time": "2025-07-28T10:55:37.731085",
     "exception": false,
     "start_time": "2025-07-28T10:55:37.670005",
     "status": "completed"
    },
    "tags": []
   },
   "outputs": [],
   "source": [
    "def sample_by_year(df, training_size, random_state=42):\n",
    "    if training_size == \"2014\":\n",
    "        return df[df[\"year\"] == 2014].reset_index(drop=True)\n",
    "    \n",
    "    size_map = {\n",
    "        \"25k\": 5000,\n",
    "        \"5k\": 1000,\n",
    "        \"1k\": 200\n",
    "    }\n",
    "\n",
    "    if training_size not in size_map:\n",
    "        return df.reset_index(drop=True)  # use all data\n",
    "\n",
    "    n_per_year = size_map[training_size]\n",
    "    grouped = df.groupby(\"year\")\n",
    "    sampled = grouped.apply(lambda x: x.sample(n=min(n_per_year, len(x)), random_state=random_state))\n",
    "    return sampled.reset_index(drop=True)"
   ]
  },
  {
   "cell_type": "code",
   "execution_count": 15,
   "id": "6d931f52-beaf-43ff-9e78-9d44a448d54e",
   "metadata": {
    "execution": {
     "iopub.execute_input": "2025-07-28T10:55:37.819784Z",
     "iopub.status.busy": "2025-07-28T10:55:37.819354Z",
     "iopub.status.idle": "2025-07-28T10:55:38.214263Z",
     "shell.execute_reply": "2025-07-28T10:55:38.212977Z"
    },
    "papermill": {
     "duration": 0.435908,
     "end_time": "2025-07-28T10:55:38.216424",
     "exception": false,
     "start_time": "2025-07-28T10:55:37.780516",
     "status": "completed"
    },
    "tags": []
   },
   "outputs": [],
   "source": [
    "siab_s = sample_by_year(siab, universe[\"training_size\"])"
   ]
  },
  {
   "cell_type": "code",
   "execution_count": 16,
   "id": "5db0a40e-a4e2-4920-be85-b12ae061d70d",
   "metadata": {
    "execution": {
     "iopub.execute_input": "2025-07-28T10:55:38.303060Z",
     "iopub.status.busy": "2025-07-28T10:55:38.302631Z",
     "iopub.status.idle": "2025-07-28T10:55:38.324536Z",
     "shell.execute_reply": "2025-07-28T10:55:38.323314Z"
    },
    "papermill": {
     "duration": 0.071851,
     "end_time": "2025-07-28T10:55:38.326245",
     "exception": false,
     "start_time": "2025-07-28T10:55:38.254394",
     "status": "completed"
    },
    "tags": []
   },
   "outputs": [
    {
     "data": {
      "text/plain": [
       "year\n",
       "2014    87158\n",
       "dtype: int64"
      ]
     },
     "metadata": {},
     "output_type": "display_data"
    }
   ],
   "source": [
    "display(siab_s.groupby(\"year\").size())"
   ]
  },
  {
   "cell_type": "code",
   "execution_count": 17,
   "id": "a561edb4-d032-42cb-8256-22eac1111c64",
   "metadata": {
    "execution": {
     "iopub.execute_input": "2025-07-28T10:55:38.412250Z",
     "iopub.status.busy": "2025-07-28T10:55:38.411793Z",
     "iopub.status.idle": "2025-07-28T10:55:38.838526Z",
     "shell.execute_reply": "2025-07-28T10:55:38.828615Z"
    },
    "papermill": {
     "duration": 0.468319,
     "end_time": "2025-07-28T10:55:38.840870",
     "exception": false,
     "start_time": "2025-07-28T10:55:38.372551",
     "status": "completed"
    },
    "tags": []
   },
   "outputs": [],
   "source": [
    "siab_train = siab_s[siab_s.year < 2015]\n",
    "siab_calib = siab[siab.year == 2015]\n",
    "siab_test = siab[siab.year == 2016]"
   ]
  },
  {
   "cell_type": "code",
   "execution_count": 18,
   "id": "472de16f-c3db-4916-846b-1f0de9cf1746",
   "metadata": {
    "execution": {
     "iopub.execute_input": "2025-07-28T10:55:38.917897Z",
     "iopub.status.busy": "2025-07-28T10:55:38.917467Z",
     "iopub.status.idle": "2025-07-28T10:55:38.975469Z",
     "shell.execute_reply": "2025-07-28T10:55:38.974412Z"
    },
    "papermill": {
     "duration": 0.099161,
     "end_time": "2025-07-28T10:55:38.977964",
     "exception": false,
     "start_time": "2025-07-28T10:55:38.878803",
     "status": "completed"
    },
    "tags": []
   },
   "outputs": [],
   "source": [
    "X_train = siab_train.iloc[:,4:164]\n",
    "y_train = siab_train.iloc[:, [3]]"
   ]
  },
  {
   "cell_type": "code",
   "execution_count": 19,
   "id": "828c96af-f43a-4ed6-ba47-8ac73a47d56c",
   "metadata": {
    "execution": {
     "iopub.execute_input": "2025-07-28T10:55:39.039005Z",
     "iopub.status.busy": "2025-07-28T10:55:39.038569Z",
     "iopub.status.idle": "2025-07-28T10:55:39.147787Z",
     "shell.execute_reply": "2025-07-28T10:55:39.146722Z"
    },
    "papermill": {
     "duration": 0.14801,
     "end_time": "2025-07-28T10:55:39.150318",
     "exception": false,
     "start_time": "2025-07-28T10:55:39.002308",
     "status": "completed"
    },
    "tags": []
   },
   "outputs": [],
   "source": [
    "X_calib = siab_calib.iloc[:,4:164]\n",
    "y_calib = siab_calib.iloc[:, [3]]"
   ]
  },
  {
   "cell_type": "code",
   "execution_count": 20,
   "id": "c34be9c3-6bd6-476e-acd3-845840e303be",
   "metadata": {
    "execution": {
     "iopub.execute_input": "2025-07-28T10:55:39.195973Z",
     "iopub.status.busy": "2025-07-28T10:55:39.195503Z",
     "iopub.status.idle": "2025-07-28T10:55:39.279151Z",
     "shell.execute_reply": "2025-07-28T10:55:39.278129Z"
    },
    "papermill": {
     "duration": 0.10889,
     "end_time": "2025-07-28T10:55:39.281250",
     "exception": false,
     "start_time": "2025-07-28T10:55:39.172360",
     "status": "completed"
    },
    "tags": []
   },
   "outputs": [],
   "source": [
    "X_test = siab_test.iloc[:,4:164]\n",
    "y_true = siab_test.iloc[:, [3]]"
   ]
  },
  {
   "cell_type": "code",
   "execution_count": 21,
   "id": "e6c733c5",
   "metadata": {
    "execution": {
     "iopub.execute_input": "2025-07-28T10:55:39.324337Z",
     "iopub.status.busy": "2025-07-28T10:55:39.323881Z",
     "iopub.status.idle": "2025-07-28T10:55:39.492071Z",
     "shell.execute_reply": "2025-07-28T10:55:39.491052Z"
    },
    "papermill": {
     "duration": 0.191473,
     "end_time": "2025-07-28T10:55:39.493695",
     "exception": false,
     "start_time": "2025-07-28T10:55:39.302222",
     "status": "completed"
    },
    "tags": []
   },
   "outputs": [],
   "source": [
    "# Auxiliary data needed downstream in the pipeline\n",
    "\n",
    "org_train = X_train.copy()\n",
    "org_test = X_test.copy()\n",
    "org_calib = X_calib.copy()"
   ]
  },
  {
   "cell_type": "markdown",
   "id": "0a4a1b33",
   "metadata": {
    "papermill": {
     "duration": 0.02151,
     "end_time": "2025-07-28T10:55:39.534383",
     "exception": false,
     "start_time": "2025-07-28T10:55:39.512873",
     "status": "completed"
    },
    "tags": []
   },
   "source": [
    "# Preprocessing Data"
   ]
  },
  {
   "cell_type": "code",
   "execution_count": 22,
   "id": "ca879031",
   "metadata": {
    "execution": {
     "iopub.execute_input": "2025-07-28T10:55:39.579228Z",
     "iopub.status.busy": "2025-07-28T10:55:39.578797Z",
     "iopub.status.idle": "2025-07-28T10:55:39.585895Z",
     "shell.execute_reply": "2025-07-28T10:55:39.584687Z"
    },
    "papermill": {
     "duration": 0.032938,
     "end_time": "2025-07-28T10:55:39.588820",
     "exception": false,
     "start_time": "2025-07-28T10:55:39.555882",
     "status": "completed"
    },
    "tags": []
   },
   "outputs": [],
   "source": [
    "# EXCLUDE PROTECTED FEATURES\n",
    "# ----------------------\n",
    "# \"exclude_features\": \"none\", # \"nationality\", \"sex\", \"nationality-sex\"\n",
    "\n",
    "excluded_features = universe[\"exclude_features\"].split(\"-\") # split, e.g.: \"nationality-sex\" -> [\"nationality\", \"sex\"]\n",
    "excluded_features_dictionary = {\n",
    "    \"nationality\": [\"maxdeutsch1\", \"maxdeutsch.Missing.\"],\n",
    "    \"sex\": [\"frau1\"],\n",
    "    \"age\": [\"age\"],\n",
    "}\n"
   ]
  },
  {
   "cell_type": "code",
   "execution_count": 23,
   "id": "b745ac60",
   "metadata": {
    "execution": {
     "iopub.execute_input": "2025-07-28T10:55:39.683784Z",
     "iopub.status.busy": "2025-07-28T10:55:39.683313Z",
     "iopub.status.idle": "2025-07-28T10:55:39.690020Z",
     "shell.execute_reply": "2025-07-28T10:55:39.689017Z"
    },
    "papermill": {
     "duration": 0.067878,
     "end_time": "2025-07-28T10:55:39.692502",
     "exception": false,
     "start_time": "2025-07-28T10:55:39.624624",
     "status": "completed"
    },
    "tags": []
   },
   "outputs": [],
   "source": [
    "# Code nice names to column names\n",
    "\n",
    "excluded_features_columns = [\n",
    "    excluded_features_dictionary[f] for f in excluded_features if len(f) > 0 and f != \"none\"\n",
    "]"
   ]
  },
  {
   "cell_type": "code",
   "execution_count": 24,
   "id": "f84f73a2",
   "metadata": {
    "execution": {
     "iopub.execute_input": "2025-07-28T10:55:39.786036Z",
     "iopub.status.busy": "2025-07-28T10:55:39.785616Z",
     "iopub.status.idle": "2025-07-28T10:55:39.792390Z",
     "shell.execute_reply": "2025-07-28T10:55:39.791418Z"
    },
    "papermill": {
     "duration": 0.060612,
     "end_time": "2025-07-28T10:55:39.795053",
     "exception": false,
     "start_time": "2025-07-28T10:55:39.734441",
     "status": "completed"
    },
    "tags": []
   },
   "outputs": [],
   "source": [
    "from utils import flatten_once\n",
    "\n",
    "excluded_features_columns = flatten_once(excluded_features_columns)"
   ]
  },
  {
   "cell_type": "code",
   "execution_count": 25,
   "id": "884dea22",
   "metadata": {
    "execution": {
     "iopub.execute_input": "2025-07-28T10:55:39.891544Z",
     "iopub.status.busy": "2025-07-28T10:55:39.891121Z",
     "iopub.status.idle": "2025-07-28T10:55:39.897757Z",
     "shell.execute_reply": "2025-07-28T10:55:39.896592Z"
    },
    "papermill": {
     "duration": 0.061148,
     "end_time": "2025-07-28T10:55:39.899393",
     "exception": false,
     "start_time": "2025-07-28T10:55:39.838245",
     "status": "completed"
    },
    "tags": []
   },
   "outputs": [],
   "source": [
    "if len(excluded_features_columns) > 0:\n",
    "    print(f\"Dropping features: {excluded_features_columns}\")\n",
    "    X_train.drop(excluded_features_columns, axis=1, inplace=True)"
   ]
  },
  {
   "cell_type": "code",
   "execution_count": 26,
   "id": "95ab8b16",
   "metadata": {
    "execution": {
     "iopub.execute_input": "2025-07-28T10:55:39.957337Z",
     "iopub.status.busy": "2025-07-28T10:55:39.956886Z",
     "iopub.status.idle": "2025-07-28T10:55:39.963568Z",
     "shell.execute_reply": "2025-07-28T10:55:39.962638Z"
    },
    "papermill": {
     "duration": 0.044418,
     "end_time": "2025-07-28T10:55:39.966224",
     "exception": false,
     "start_time": "2025-07-28T10:55:39.921806",
     "status": "completed"
    },
    "tags": []
   },
   "outputs": [],
   "source": [
    "if len(excluded_features_columns) > 0:\n",
    "    print(f\"Dropping features: {excluded_features_columns}\")\n",
    "    X_test.drop(excluded_features_columns, axis=1, inplace=True)"
   ]
  },
  {
   "cell_type": "code",
   "execution_count": 27,
   "id": "1853aaf5-fb9f-46cb-a2b5-8ea4ae2237e4",
   "metadata": {
    "execution": {
     "iopub.execute_input": "2025-07-28T10:55:40.058989Z",
     "iopub.status.busy": "2025-07-28T10:55:40.058531Z",
     "iopub.status.idle": "2025-07-28T10:55:40.064975Z",
     "shell.execute_reply": "2025-07-28T10:55:40.063870Z"
    },
    "papermill": {
     "duration": 0.049455,
     "end_time": "2025-07-28T10:55:40.068158",
     "exception": false,
     "start_time": "2025-07-28T10:55:40.018703",
     "status": "completed"
    },
    "tags": []
   },
   "outputs": [],
   "source": [
    "if len(excluded_features_columns) > 0:\n",
    "    print(f\"Dropping features: {excluded_features_columns}\")\n",
    "    X_calib.drop(excluded_features_columns, axis=1, inplace=True)"
   ]
  },
  {
   "cell_type": "code",
   "execution_count": 28,
   "id": "6727d079-03e5-481e-9d38-292a90b7a0a8",
   "metadata": {
    "execution": {
     "iopub.execute_input": "2025-07-28T10:55:40.131807Z",
     "iopub.status.busy": "2025-07-28T10:55:40.131355Z",
     "iopub.status.idle": "2025-07-28T10:55:40.138809Z",
     "shell.execute_reply": "2025-07-28T10:55:40.137642Z"
    },
    "papermill": {
     "duration": 0.049964,
     "end_time": "2025-07-28T10:55:40.140896",
     "exception": false,
     "start_time": "2025-07-28T10:55:40.090932",
     "status": "completed"
    },
    "tags": []
   },
   "outputs": [],
   "source": [
    "# SPLIT & STRATIFY DATA\n",
    "# ----------------------"
   ]
  },
  {
   "cell_type": "code",
   "execution_count": 29,
   "id": "76c4dc6d",
   "metadata": {
    "execution": {
     "iopub.execute_input": "2025-07-28T10:55:40.229154Z",
     "iopub.status.busy": "2025-07-28T10:55:40.228723Z",
     "iopub.status.idle": "2025-07-28T10:55:40.234914Z",
     "shell.execute_reply": "2025-07-28T10:55:40.233906Z"
    },
    "papermill": {
     "duration": 0.048719,
     "end_time": "2025-07-28T10:55:40.237092",
     "exception": false,
     "start_time": "2025-07-28T10:55:40.188373",
     "status": "completed"
    },
    "tags": []
   },
   "outputs": [],
   "source": [
    "# EXCLUDE CERTAIN SUBGROUPS\n",
    "# ----------------------\n",
    "\n",
    "mode = universe.get(\"exclude_subgroups\", \"keep-all\") \n",
    "# Fetches the exclude_subgroups setting from the universe dict.\n",
    "# Defaults to \"keep-all\" if the key is missing."
   ]
  },
  {
   "cell_type": "code",
   "execution_count": 30,
   "id": "21994072",
   "metadata": {
    "execution": {
     "iopub.execute_input": "2025-07-28T10:55:40.380390Z",
     "iopub.status.busy": "2025-07-28T10:55:40.379321Z",
     "iopub.status.idle": "2025-07-28T10:55:40.387507Z",
     "shell.execute_reply": "2025-07-28T10:55:40.386480Z"
    },
    "papermill": {
     "duration": 0.073057,
     "end_time": "2025-07-28T10:55:40.389222",
     "exception": false,
     "start_time": "2025-07-28T10:55:40.316165",
     "status": "completed"
    },
    "tags": []
   },
   "outputs": [],
   "source": [
    "if mode == \"keep-all\":\n",
    "    keep_mask = pd.Series(True, index=org_train.index)\n",
    "\n",
    "# org_train contains the original feature columns from features_org (in Simson)\n",
    "# features_org contains unprocessed features, for me X_train at beginning ???\n",
    "# For keep-all, creates a boolean Series (keep_mask) of all True, so no rows are removed.\n",
    "\n",
    "elif mode == \"drop-non-german\":\n",
    "    keep_mask = org_train[\"maxdeutsch1\"] == 1 # ??? what about missing values?\n",
    "\n",
    "else:\n",
    "    raise ValueError(f\"Unsupported mode for exclude_subgroups: {mode}\")\n"
   ]
  },
  {
   "cell_type": "code",
   "execution_count": 31,
   "id": "71651440",
   "metadata": {
    "execution": {
     "iopub.execute_input": "2025-07-28T10:55:40.466427Z",
     "iopub.status.busy": "2025-07-28T10:55:40.465985Z",
     "iopub.status.idle": "2025-07-28T10:55:40.473749Z",
     "shell.execute_reply": "2025-07-28T10:55:40.472642Z"
    },
    "papermill": {
     "duration": 0.047815,
     "end_time": "2025-07-28T10:55:40.475216",
     "exception": false,
     "start_time": "2025-07-28T10:55:40.427401",
     "status": "completed"
    },
    "tags": []
   },
   "outputs": [
    {
     "name": "stdout",
     "output_type": "stream",
     "text": [
      "Dropping 12995 rows (14.91%) where mode='drop-non-german'\n"
     ]
    }
   ],
   "source": [
    "n_drop = (~keep_mask).sum() # Calculates how many rows are set to be dropped\n",
    "if n_drop > 0:\n",
    "    pct = n_drop / len(keep_mask) * 100\n",
    "    print(f\"Dropping {n_drop} rows ({pct:.2f}%) where mode='{mode}'\")"
   ]
  },
  {
   "cell_type": "code",
   "execution_count": 32,
   "id": "5fb8eee5",
   "metadata": {
    "execution": {
     "iopub.execute_input": "2025-07-28T10:55:40.565719Z",
     "iopub.status.busy": "2025-07-28T10:55:40.565292Z",
     "iopub.status.idle": "2025-07-28T10:55:40.691338Z",
     "shell.execute_reply": "2025-07-28T10:55:40.690234Z"
    },
    "papermill": {
     "duration": 0.168831,
     "end_time": "2025-07-28T10:55:40.693251",
     "exception": false,
     "start_time": "2025-07-28T10:55:40.524420",
     "status": "completed"
    },
    "tags": []
   },
   "outputs": [],
   "source": [
    "X_train = X_train[keep_mask]"
   ]
  },
  {
   "cell_type": "code",
   "execution_count": 33,
   "id": "b202bb3a",
   "metadata": {
    "execution": {
     "iopub.execute_input": "2025-07-28T10:55:40.772725Z",
     "iopub.status.busy": "2025-07-28T10:55:40.772232Z",
     "iopub.status.idle": "2025-07-28T10:55:40.780669Z",
     "shell.execute_reply": "2025-07-28T10:55:40.779440Z"
    },
    "papermill": {
     "duration": 0.050475,
     "end_time": "2025-07-28T10:55:40.782472",
     "exception": false,
     "start_time": "2025-07-28T10:55:40.731997",
     "status": "completed"
    },
    "tags": []
   },
   "outputs": [],
   "source": [
    "y_train = y_train[keep_mask]"
   ]
  },
  {
   "cell_type": "markdown",
   "id": "493e2ac3",
   "metadata": {
    "papermill": {
     "duration": 0.039009,
     "end_time": "2025-07-28T10:55:40.879610",
     "exception": false,
     "start_time": "2025-07-28T10:55:40.840601",
     "status": "completed"
    },
    "tags": []
   },
   "source": [
    "# Model Training"
   ]
  },
  {
   "cell_type": "code",
   "execution_count": 34,
   "id": "679e1268",
   "metadata": {
    "execution": {
     "iopub.execute_input": "2025-07-28T10:55:40.975469Z",
     "iopub.status.busy": "2025-07-28T10:55:40.974415Z",
     "iopub.status.idle": "2025-07-28T10:55:41.212251Z",
     "shell.execute_reply": "2025-07-28T10:55:41.211160Z"
    },
    "papermill": {
     "duration": 0.281968,
     "end_time": "2025-07-28T10:55:41.214326",
     "exception": false,
     "start_time": "2025-07-28T10:55:40.932358",
     "status": "completed"
    },
    "tags": []
   },
   "outputs": [],
   "source": [
    "from sklearn.linear_model import LogisticRegression\n",
    "from sklearn.ensemble import GradientBoostingClassifier, RandomForestClassifier\n",
    "\n",
    "if (universe[\"model\"] == \"logreg\"):\n",
    "    model = LogisticRegression() #penalty=\"none\") #, solver=\"newton-cg\", max_iter=1) # include random_state=19 ?\n",
    "elif (universe[\"model\"] == \"penalized_logreg\"):\n",
    "    model = LogisticRegression(penalty=\"l2\", C=1.0) #, solver=\"newton-cg\", max_iter=1)\n",
    "elif (universe[\"model\"] == \"rf\"):\n",
    "    model = RandomForestClassifier(n_estimators=100, n_jobs=-1)\n",
    "elif (universe[\"model\"] == \"gbm\"):\n",
    "    model = GradientBoostingClassifier()\n",
    "elif (universe[\"model\"] == \"elasticnet\"):\n",
    "    model = LogisticRegression(penalty = 'elasticnet', solver = 'saga', l1_ratio = 0.5, max_iter=5000) # which solver to use?\n",
    "else:\n",
    "    raise \"Unsupported universe.model\""
   ]
  },
  {
   "cell_type": "code",
   "execution_count": 35,
   "id": "0cc8f744",
   "metadata": {
    "execution": {
     "iopub.execute_input": "2025-07-28T10:55:41.323683Z",
     "iopub.status.busy": "2025-07-28T10:55:41.322606Z",
     "iopub.status.idle": "2025-07-28T10:55:41.330175Z",
     "shell.execute_reply": "2025-07-28T10:55:41.329022Z"
    },
    "papermill": {
     "duration": 0.059271,
     "end_time": "2025-07-28T10:55:41.331928",
     "exception": false,
     "start_time": "2025-07-28T10:55:41.272657",
     "status": "completed"
    },
    "tags": []
   },
   "outputs": [],
   "source": [
    "import numpy as np\n",
    "from sklearn.pipeline import Pipeline\n",
    "from sklearn.preprocessing import StandardScaler\n",
    "\n",
    "model = Pipeline([\n",
    "    #(\"continuous_processor\", continuous_processor),\n",
    "    #(\"categorical_preprocessor\", categorical_preprocessor),\n",
    "    (\"scale\", StandardScaler() if universe[\"scale\"] == \"scale\" else None), \n",
    "    (\"model\", model),\n",
    "])"
   ]
  },
  {
   "cell_type": "code",
   "execution_count": 36,
   "id": "9442c04d",
   "metadata": {
    "execution": {
     "iopub.execute_input": "2025-07-28T10:55:41.421777Z",
     "iopub.status.busy": "2025-07-28T10:55:41.421303Z",
     "iopub.status.idle": "2025-07-28T10:55:56.518144Z",
     "shell.execute_reply": "2025-07-28T10:55:56.517024Z"
    },
    "papermill": {
     "duration": 15.139386,
     "end_time": "2025-07-28T10:55:56.520014",
     "exception": false,
     "start_time": "2025-07-28T10:55:41.380628",
     "status": "completed"
    },
    "tags": []
   },
   "outputs": [
    {
     "data": {
      "text/html": [
       "<style>#sk-container-id-1 {color: black;background-color: white;}#sk-container-id-1 pre{padding: 0;}#sk-container-id-1 div.sk-toggleable {background-color: white;}#sk-container-id-1 label.sk-toggleable__label {cursor: pointer;display: block;width: 100%;margin-bottom: 0;padding: 0.3em;box-sizing: border-box;text-align: center;}#sk-container-id-1 label.sk-toggleable__label-arrow:before {content: \"▸\";float: left;margin-right: 0.25em;color: #696969;}#sk-container-id-1 label.sk-toggleable__label-arrow:hover:before {color: black;}#sk-container-id-1 div.sk-estimator:hover label.sk-toggleable__label-arrow:before {color: black;}#sk-container-id-1 div.sk-toggleable__content {max-height: 0;max-width: 0;overflow: hidden;text-align: left;background-color: #f0f8ff;}#sk-container-id-1 div.sk-toggleable__content pre {margin: 0.2em;color: black;border-radius: 0.25em;background-color: #f0f8ff;}#sk-container-id-1 input.sk-toggleable__control:checked~div.sk-toggleable__content {max-height: 200px;max-width: 100%;overflow: auto;}#sk-container-id-1 input.sk-toggleable__control:checked~label.sk-toggleable__label-arrow:before {content: \"▾\";}#sk-container-id-1 div.sk-estimator input.sk-toggleable__control:checked~label.sk-toggleable__label {background-color: #d4ebff;}#sk-container-id-1 div.sk-label input.sk-toggleable__control:checked~label.sk-toggleable__label {background-color: #d4ebff;}#sk-container-id-1 input.sk-hidden--visually {border: 0;clip: rect(1px 1px 1px 1px);clip: rect(1px, 1px, 1px, 1px);height: 1px;margin: -1px;overflow: hidden;padding: 0;position: absolute;width: 1px;}#sk-container-id-1 div.sk-estimator {font-family: monospace;background-color: #f0f8ff;border: 1px dotted black;border-radius: 0.25em;box-sizing: border-box;margin-bottom: 0.5em;}#sk-container-id-1 div.sk-estimator:hover {background-color: #d4ebff;}#sk-container-id-1 div.sk-parallel-item::after {content: \"\";width: 100%;border-bottom: 1px solid gray;flex-grow: 1;}#sk-container-id-1 div.sk-label:hover label.sk-toggleable__label {background-color: #d4ebff;}#sk-container-id-1 div.sk-serial::before {content: \"\";position: absolute;border-left: 1px solid gray;box-sizing: border-box;top: 0;bottom: 0;left: 50%;z-index: 0;}#sk-container-id-1 div.sk-serial {display: flex;flex-direction: column;align-items: center;background-color: white;padding-right: 0.2em;padding-left: 0.2em;position: relative;}#sk-container-id-1 div.sk-item {position: relative;z-index: 1;}#sk-container-id-1 div.sk-parallel {display: flex;align-items: stretch;justify-content: center;background-color: white;position: relative;}#sk-container-id-1 div.sk-item::before, #sk-container-id-1 div.sk-parallel-item::before {content: \"\";position: absolute;border-left: 1px solid gray;box-sizing: border-box;top: 0;bottom: 0;left: 50%;z-index: -1;}#sk-container-id-1 div.sk-parallel-item {display: flex;flex-direction: column;z-index: 1;position: relative;background-color: white;}#sk-container-id-1 div.sk-parallel-item:first-child::after {align-self: flex-end;width: 50%;}#sk-container-id-1 div.sk-parallel-item:last-child::after {align-self: flex-start;width: 50%;}#sk-container-id-1 div.sk-parallel-item:only-child::after {width: 0;}#sk-container-id-1 div.sk-dashed-wrapped {border: 1px dashed gray;margin: 0 0.4em 0.5em 0.4em;box-sizing: border-box;padding-bottom: 0.4em;background-color: white;}#sk-container-id-1 div.sk-label label {font-family: monospace;font-weight: bold;display: inline-block;line-height: 1.2em;}#sk-container-id-1 div.sk-label-container {text-align: center;}#sk-container-id-1 div.sk-container {/* jupyter's `normalize.less` sets `[hidden] { display: none; }` but bootstrap.min.css set `[hidden] { display: none !important; }` so we also need the `!important` here to be able to override the default hidden behavior on the sphinx rendered scikit-learn.org. See: https://github.com/scikit-learn/scikit-learn/issues/21755 */display: inline-block !important;position: relative;}#sk-container-id-1 div.sk-text-repr-fallback {display: none;}</style><div id=\"sk-container-id-1\" class=\"sk-top-container\"><div class=\"sk-text-repr-fallback\"><pre>Pipeline(steps=[(&#x27;scale&#x27;, StandardScaler()),\n",
       "                (&#x27;model&#x27;, RandomForestClassifier(n_jobs=-1))])</pre><b>In a Jupyter environment, please rerun this cell to show the HTML representation or trust the notebook. <br />On GitHub, the HTML representation is unable to render, please try loading this page with nbviewer.org.</b></div><div class=\"sk-container\" hidden><div class=\"sk-item sk-dashed-wrapped\"><div class=\"sk-label-container\"><div class=\"sk-label sk-toggleable\"><input class=\"sk-toggleable__control sk-hidden--visually\" id=\"sk-estimator-id-1\" type=\"checkbox\" ><label for=\"sk-estimator-id-1\" class=\"sk-toggleable__label sk-toggleable__label-arrow\">Pipeline</label><div class=\"sk-toggleable__content\"><pre>Pipeline(steps=[(&#x27;scale&#x27;, StandardScaler()),\n",
       "                (&#x27;model&#x27;, RandomForestClassifier(n_jobs=-1))])</pre></div></div></div><div class=\"sk-serial\"><div class=\"sk-item\"><div class=\"sk-estimator sk-toggleable\"><input class=\"sk-toggleable__control sk-hidden--visually\" id=\"sk-estimator-id-2\" type=\"checkbox\" ><label for=\"sk-estimator-id-2\" class=\"sk-toggleable__label sk-toggleable__label-arrow\">StandardScaler</label><div class=\"sk-toggleable__content\"><pre>StandardScaler()</pre></div></div></div><div class=\"sk-item\"><div class=\"sk-estimator sk-toggleable\"><input class=\"sk-toggleable__control sk-hidden--visually\" id=\"sk-estimator-id-3\" type=\"checkbox\" ><label for=\"sk-estimator-id-3\" class=\"sk-toggleable__label sk-toggleable__label-arrow\">RandomForestClassifier</label><div class=\"sk-toggleable__content\"><pre>RandomForestClassifier(n_jobs=-1)</pre></div></div></div></div></div></div></div>"
      ],
      "text/plain": [
       "Pipeline(steps=[('scale', StandardScaler()),\n",
       "                ('model', RandomForestClassifier(n_jobs=-1))])"
      ]
     },
     "execution_count": 36,
     "metadata": {},
     "output_type": "execute_result"
    }
   ],
   "source": [
    "model.fit(X_train, y_train.values.ravel())"
   ]
  },
  {
   "cell_type": "code",
   "execution_count": 37,
   "id": "af59f8c0",
   "metadata": {
    "execution": {
     "iopub.execute_input": "2025-07-28T10:55:56.613294Z",
     "iopub.status.busy": "2025-07-28T10:55:56.612093Z",
     "iopub.status.idle": "2025-07-28T10:55:56.618909Z",
     "shell.execute_reply": "2025-07-28T10:55:56.617847Z"
    },
    "papermill": {
     "duration": 0.049909,
     "end_time": "2025-07-28T10:55:56.620753",
     "exception": false,
     "start_time": "2025-07-28T10:55:56.570844",
     "status": "completed"
    },
    "tags": []
   },
   "outputs": [],
   "source": [
    "from fairness_multiverse.universe import predict_w_threshold"
   ]
  },
  {
   "cell_type": "code",
   "execution_count": 38,
   "id": "a7cf2e16",
   "metadata": {
    "execution": {
     "iopub.execute_input": "2025-07-28T10:55:56.718978Z",
     "iopub.status.busy": "2025-07-28T10:55:56.718506Z",
     "iopub.status.idle": "2025-07-28T10:55:59.048311Z",
     "shell.execute_reply": "2025-07-28T10:55:59.047065Z"
    },
    "papermill": {
     "duration": 2.373523,
     "end_time": "2025-07-28T10:55:59.050238",
     "exception": false,
     "start_time": "2025-07-28T10:55:56.676715",
     "status": "completed"
    },
    "tags": []
   },
   "outputs": [
    {
     "data": {
      "text/plain": [
       "0.8667149704603723"
      ]
     },
     "execution_count": 38,
     "metadata": {},
     "output_type": "execute_result"
    }
   ],
   "source": [
    "probs_test = model.predict_proba(X_test)\n",
    "\n",
    "'''\n",
    "Below code returns a boolean array (or binary 0/1 array depending on how it’s used) where each element \n",
    "is True if the probability of class 1 is greater than or equal to the threshold, and False otherwise.\n",
    "'''\n",
    "y_pred_default = predict_w_threshold(probs_test, 0.5)\n",
    "\n",
    "from sklearn.metrics import accuracy_score\n",
    "\n",
    "# Naive prediction\n",
    "accuracy_score(y_true = y_true, y_pred = y_pred_default)"
   ]
  },
  {
   "cell_type": "code",
   "execution_count": 39,
   "id": "081964c3",
   "metadata": {
    "execution": {
     "iopub.execute_input": "2025-07-28T10:55:59.145340Z",
     "iopub.status.busy": "2025-07-28T10:55:59.144746Z",
     "iopub.status.idle": "2025-07-28T10:56:01.497240Z",
     "shell.execute_reply": "2025-07-28T10:56:01.496138Z"
    },
    "papermill": {
     "duration": 2.404408,
     "end_time": "2025-07-28T10:56:01.499096",
     "exception": false,
     "start_time": "2025-07-28T10:55:59.094688",
     "status": "completed"
    },
    "tags": []
   },
   "outputs": [
    {
     "data": {
      "text/plain": [
       "array([0, 0, 0, ..., 0, 0, 0])"
      ]
     },
     "execution_count": 39,
     "metadata": {},
     "output_type": "execute_result"
    }
   ],
   "source": [
    "model.predict(X_test)"
   ]
  },
  {
   "cell_type": "markdown",
   "id": "56c9705b",
   "metadata": {
    "papermill": {
     "duration": 0.048491,
     "end_time": "2025-07-28T10:56:01.600847",
     "exception": false,
     "start_time": "2025-07-28T10:56:01.552356",
     "status": "completed"
    },
    "tags": []
   },
   "source": [
    "# Conformal Prediction"
   ]
  },
  {
   "cell_type": "code",
   "execution_count": 40,
   "id": "160ec6ff",
   "metadata": {
    "execution": {
     "iopub.execute_input": "2025-07-28T10:56:01.653246Z",
     "iopub.status.busy": "2025-07-28T10:56:01.652770Z",
     "iopub.status.idle": "2025-07-28T10:56:01.659146Z",
     "shell.execute_reply": "2025-07-28T10:56:01.657936Z"
    },
    "papermill": {
     "duration": 0.036727,
     "end_time": "2025-07-28T10:56:01.662866",
     "exception": false,
     "start_time": "2025-07-28T10:56:01.626139",
     "status": "completed"
    },
    "tags": []
   },
   "outputs": [],
   "source": [
    "# Miscoverage level for conformal prediction (10% allowed error rate => 90% target coverage)\n",
    "alpha = 0.1"
   ]
  },
  {
   "cell_type": "code",
   "execution_count": 41,
   "id": "eadf4555-3dd3-440e-8e35-f82a4ad9f855",
   "metadata": {
    "execution": {
     "iopub.execute_input": "2025-07-28T10:56:01.714909Z",
     "iopub.status.busy": "2025-07-28T10:56:01.714429Z",
     "iopub.status.idle": "2025-07-28T10:56:03.910296Z",
     "shell.execute_reply": "2025-07-28T10:56:03.909156Z"
    },
    "papermill": {
     "duration": 2.224908,
     "end_time": "2025-07-28T10:56:03.913057",
     "exception": false,
     "start_time": "2025-07-28T10:56:01.688149",
     "status": "completed"
    },
    "tags": []
   },
   "outputs": [],
   "source": [
    "probs_calib = model.predict_proba(X_calib)"
   ]
  },
  {
   "cell_type": "code",
   "execution_count": 42,
   "id": "2ed93547-6d5d-4983-9b36-1ecb300da49a",
   "metadata": {
    "execution": {
     "iopub.execute_input": "2025-07-28T10:56:04.031203Z",
     "iopub.status.busy": "2025-07-28T10:56:04.030766Z",
     "iopub.status.idle": "2025-07-28T10:56:04.038721Z",
     "shell.execute_reply": "2025-07-28T10:56:04.037523Z"
    },
    "papermill": {
     "duration": 0.068085,
     "end_time": "2025-07-28T10:56:04.040854",
     "exception": false,
     "start_time": "2025-07-28T10:56:03.972769",
     "status": "completed"
    },
    "tags": []
   },
   "outputs": [],
   "source": [
    "y_calib = y_calib.values.ravel().astype(int)"
   ]
  },
  {
   "cell_type": "code",
   "execution_count": 43,
   "id": "65d1320d-f588-4b38-9072-62af1ae97f7d",
   "metadata": {
    "execution": {
     "iopub.execute_input": "2025-07-28T10:56:04.151135Z",
     "iopub.status.busy": "2025-07-28T10:56:04.150539Z",
     "iopub.status.idle": "2025-07-28T10:56:04.161849Z",
     "shell.execute_reply": "2025-07-28T10:56:04.160595Z"
    },
    "papermill": {
     "duration": 0.066516,
     "end_time": "2025-07-28T10:56:04.164765",
     "exception": false,
     "start_time": "2025-07-28T10:56:04.098249",
     "status": "completed"
    },
    "tags": []
   },
   "outputs": [],
   "source": [
    "from fairness_multiverse.conformal import compute_nc_scores\n",
    "\n",
    "# Compute nonconformity scores on calibration set (1 - probability of true class)\n",
    "nc_scores = compute_nc_scores(probs_calib, y_calib)"
   ]
  },
  {
   "cell_type": "code",
   "execution_count": 44,
   "id": "df3b8ca3-53b7-43d5-9667-7c85da7aeda2",
   "metadata": {
    "execution": {
     "iopub.execute_input": "2025-07-28T10:56:04.283432Z",
     "iopub.status.busy": "2025-07-28T10:56:04.282797Z",
     "iopub.status.idle": "2025-07-28T10:56:04.293787Z",
     "shell.execute_reply": "2025-07-28T10:56:04.292577Z"
    },
    "papermill": {
     "duration": 0.073459,
     "end_time": "2025-07-28T10:56:04.295945",
     "exception": false,
     "start_time": "2025-07-28T10:56:04.222486",
     "status": "completed"
    },
    "tags": []
   },
   "outputs": [],
   "source": [
    "from fairness_multiverse.conformal import find_threshold\n",
    "\n",
    "# Find conformal threshold q_hat for the given alpha (split conformal method)\n",
    "q_hat = find_threshold(nc_scores, alpha)"
   ]
  },
  {
   "cell_type": "code",
   "execution_count": 45,
   "id": "4d29e6c1-0ef6-4aa4-b8fe-4fe79b0d033a",
   "metadata": {
    "execution": {
     "iopub.execute_input": "2025-07-28T10:56:04.411435Z",
     "iopub.status.busy": "2025-07-28T10:56:04.410924Z",
     "iopub.status.idle": "2025-07-28T10:56:04.422158Z",
     "shell.execute_reply": "2025-07-28T10:56:04.420988Z"
    },
    "papermill": {
     "duration": 0.071361,
     "end_time": "2025-07-28T10:56:04.424084",
     "exception": false,
     "start_time": "2025-07-28T10:56:04.352723",
     "status": "completed"
    },
    "tags": []
   },
   "outputs": [
    {
     "data": {
      "text/plain": [
       "0.6699999999999999"
      ]
     },
     "execution_count": 45,
     "metadata": {},
     "output_type": "execute_result"
    }
   ],
   "source": [
    "q_hat"
   ]
  },
  {
   "cell_type": "code",
   "execution_count": 46,
   "id": "92460794-cdac-4be2-ba28-f28c0515a6fb",
   "metadata": {
    "execution": {
     "iopub.execute_input": "2025-07-28T10:56:04.547434Z",
     "iopub.status.busy": "2025-07-28T10:56:04.546781Z",
     "iopub.status.idle": "2025-07-28T10:56:08.023407Z",
     "shell.execute_reply": "2025-07-28T10:56:08.022284Z"
    },
    "papermill": {
     "duration": 3.541048,
     "end_time": "2025-07-28T10:56:08.025708",
     "exception": false,
     "start_time": "2025-07-28T10:56:04.484660",
     "status": "completed"
    },
    "tags": []
   },
   "outputs": [],
   "source": [
    "from fairness_multiverse.conformal import predict_conformal_sets\n",
    "\n",
    "# Generate prediction sets for each test example\n",
    "pred_sets = predict_conformal_sets(model, X_test, q_hat)"
   ]
  },
  {
   "cell_type": "code",
   "execution_count": 47,
   "id": "d90c9a65-e6db-4f5d-80cd-e68fb7e46829",
   "metadata": {
    "execution": {
     "iopub.execute_input": "2025-07-28T10:56:08.127256Z",
     "iopub.status.busy": "2025-07-28T10:56:08.126765Z",
     "iopub.status.idle": "2025-07-28T10:56:08.134721Z",
     "shell.execute_reply": "2025-07-28T10:56:08.133523Z"
    },
    "papermill": {
     "duration": 0.068374,
     "end_time": "2025-07-28T10:56:08.136725",
     "exception": false,
     "start_time": "2025-07-28T10:56:08.068351",
     "status": "completed"
    },
    "tags": []
   },
   "outputs": [],
   "source": [
    "y_true = y_true.squeeze()"
   ]
  },
  {
   "cell_type": "code",
   "execution_count": 48,
   "id": "3a58a54a-1e68-46b9-927a-df01f18aebc8",
   "metadata": {
    "execution": {
     "iopub.execute_input": "2025-07-28T10:56:08.247226Z",
     "iopub.status.busy": "2025-07-28T10:56:08.246755Z",
     "iopub.status.idle": "2025-07-28T10:56:09.994636Z",
     "shell.execute_reply": "2025-07-28T10:56:09.993449Z"
    },
    "papermill": {
     "duration": 1.804399,
     "end_time": "2025-07-28T10:56:09.997049",
     "exception": false,
     "start_time": "2025-07-28T10:56:08.192650",
     "status": "completed"
    },
    "tags": []
   },
   "outputs": [],
   "source": [
    "from fairness_multiverse.conformal import evaluate_sets\n",
    "\n",
    "# Evaluate coverage and average set size on test data\n",
    "metrics = evaluate_sets(pred_sets, y_true)"
   ]
  },
  {
   "cell_type": "markdown",
   "id": "2b569c12-9aaa-4c88-98c9-bbcd0cf3ebb8",
   "metadata": {
    "papermill": {
     "duration": 0.056667,
     "end_time": "2025-07-28T10:56:10.128977",
     "exception": false,
     "start_time": "2025-07-28T10:56:10.072310",
     "status": "completed"
    },
    "tags": []
   },
   "source": [
    "# CP Metrics"
   ]
  },
  {
   "cell_type": "code",
   "execution_count": 49,
   "id": "5ce0a5cb-201f-45a0-ade5-94c7f0bd6095",
   "metadata": {
    "execution": {
     "iopub.execute_input": "2025-07-28T10:56:10.238856Z",
     "iopub.status.busy": "2025-07-28T10:56:10.238366Z",
     "iopub.status.idle": "2025-07-28T10:56:10.247268Z",
     "shell.execute_reply": "2025-07-28T10:56:10.246083Z"
    },
    "papermill": {
     "duration": 0.064194,
     "end_time": "2025-07-28T10:56:10.249258",
     "exception": false,
     "start_time": "2025-07-28T10:56:10.185064",
     "status": "completed"
    },
    "tags": []
   },
   "outputs": [
    {
     "data": {
      "text/plain": [
       "{'coverage': 0.9196076245680526, 'avg_size': 1.1545312674172332}"
      ]
     },
     "execution_count": 49,
     "metadata": {},
     "output_type": "execute_result"
    }
   ],
   "source": [
    "metrics"
   ]
  },
  {
   "cell_type": "code",
   "execution_count": 50,
   "id": "9b9a838d-31c9-430b-ae14-12baee460d17",
   "metadata": {
    "execution": {
     "iopub.execute_input": "2025-07-28T10:56:10.317733Z",
     "iopub.status.busy": "2025-07-28T10:56:10.316689Z",
     "iopub.status.idle": "2025-07-28T10:56:10.323855Z",
     "shell.execute_reply": "2025-07-28T10:56:10.322871Z"
    },
    "papermill": {
     "duration": 0.037156,
     "end_time": "2025-07-28T10:56:10.326399",
     "exception": false,
     "start_time": "2025-07-28T10:56:10.289243",
     "status": "completed"
    },
    "tags": []
   },
   "outputs": [],
   "source": [
    "example_universe = universe.copy()\n",
    "universe_training_size = example_universe.get(\"training_size\")\n",
    "universe_scale = example_universe.get(\"scale\")\n",
    "universe_model = example_universe.get(\"model\")\n",
    "universe_exclude_features = example_universe.get(\"exclude_features\")\n",
    "universe_exclude_subgroups = example_universe.get(\"exclude_subgroups\")"
   ]
  },
  {
   "cell_type": "code",
   "execution_count": 51,
   "id": "f4b6a8ac-9dc0-4245-8a91-5b3b5999c4f9",
   "metadata": {
    "execution": {
     "iopub.execute_input": "2025-07-28T10:56:10.376436Z",
     "iopub.status.busy": "2025-07-28T10:56:10.375993Z",
     "iopub.status.idle": "2025-07-28T10:56:10.382994Z",
     "shell.execute_reply": "2025-07-28T10:56:10.382089Z"
    },
    "papermill": {
     "duration": 0.035432,
     "end_time": "2025-07-28T10:56:10.384912",
     "exception": false,
     "start_time": "2025-07-28T10:56:10.349480",
     "status": "completed"
    },
    "tags": []
   },
   "outputs": [],
   "source": [
    "cp_metrics_dict = {\n",
    "    \"universe_id\": [universe_id],\n",
    "    \"universe_training_size\": [universe_training_size],\n",
    "    \"universe_scale\": [universe_scale],\n",
    "    \"universe_model\": [universe_model],\n",
    "    \"universe_exclude_features\": [universe_exclude_features],\n",
    "    \"universe_exclude_subgroups\": [universe_exclude_subgroups],\n",
    "    \"q_hat\": [q_hat],\n",
    "    \"coverage\": [metrics[\"coverage\"]],\n",
    "    \"avg_size\": [metrics[\"avg_size\"]],\n",
    "}"
   ]
  },
  {
   "cell_type": "code",
   "execution_count": 52,
   "id": "908acbb1-0371-4915-85ca-3fa520d2efe2",
   "metadata": {
    "execution": {
     "iopub.execute_input": "2025-07-28T10:56:10.432226Z",
     "iopub.status.busy": "2025-07-28T10:56:10.431801Z",
     "iopub.status.idle": "2025-07-28T10:56:10.439860Z",
     "shell.execute_reply": "2025-07-28T10:56:10.438635Z"
    },
    "papermill": {
     "duration": 0.033838,
     "end_time": "2025-07-28T10:56:10.442321",
     "exception": false,
     "start_time": "2025-07-28T10:56:10.408483",
     "status": "completed"
    },
    "tags": []
   },
   "outputs": [
    {
     "data": {
      "text/plain": [
       "{'universe_id': ['b318ce35e196d115f8bff6f4acb827ed'],\n",
       " 'universe_training_size': ['2014'],\n",
       " 'universe_scale': ['scale'],\n",
       " 'universe_model': ['rf'],\n",
       " 'universe_exclude_features': ['none'],\n",
       " 'universe_exclude_subgroups': ['drop-non-german'],\n",
       " 'q_hat': [0.6699999999999999],\n",
       " 'coverage': [0.9196076245680526],\n",
       " 'avg_size': [1.1545312674172332]}"
      ]
     },
     "execution_count": 52,
     "metadata": {},
     "output_type": "execute_result"
    }
   ],
   "source": [
    "cp_metrics_dict"
   ]
  },
  {
   "cell_type": "code",
   "execution_count": 53,
   "id": "33007efc-14e9-4ec6-97ac-56a455c82265",
   "metadata": {
    "execution": {
     "iopub.execute_input": "2025-07-28T10:56:10.492167Z",
     "iopub.status.busy": "2025-07-28T10:56:10.491610Z",
     "iopub.status.idle": "2025-07-28T10:56:10.498062Z",
     "shell.execute_reply": "2025-07-28T10:56:10.497286Z"
    },
    "papermill": {
     "duration": 0.032848,
     "end_time": "2025-07-28T10:56:10.499514",
     "exception": false,
     "start_time": "2025-07-28T10:56:10.466666",
     "status": "completed"
    },
    "tags": []
   },
   "outputs": [],
   "source": [
    "cp_metrics_df = pd.DataFrame(cp_metrics_dict)"
   ]
  },
  {
   "cell_type": "code",
   "execution_count": 54,
   "id": "db12611b-57b2-4910-b9d0-355adfd6e7bf",
   "metadata": {
    "execution": {
     "iopub.execute_input": "2025-07-28T10:56:10.552969Z",
     "iopub.status.busy": "2025-07-28T10:56:10.552062Z",
     "iopub.status.idle": "2025-07-28T10:56:10.571956Z",
     "shell.execute_reply": "2025-07-28T10:56:10.570897Z"
    },
    "papermill": {
     "duration": 0.045534,
     "end_time": "2025-07-28T10:56:10.573801",
     "exception": false,
     "start_time": "2025-07-28T10:56:10.528267",
     "status": "completed"
    },
    "tags": []
   },
   "outputs": [
    {
     "data": {
      "text/html": [
       "<div>\n",
       "<style scoped>\n",
       "    .dataframe tbody tr th:only-of-type {\n",
       "        vertical-align: middle;\n",
       "    }\n",
       "\n",
       "    .dataframe tbody tr th {\n",
       "        vertical-align: top;\n",
       "    }\n",
       "\n",
       "    .dataframe thead th {\n",
       "        text-align: right;\n",
       "    }\n",
       "</style>\n",
       "<table border=\"1\" class=\"dataframe\">\n",
       "  <thead>\n",
       "    <tr style=\"text-align: right;\">\n",
       "      <th></th>\n",
       "      <th>universe_id</th>\n",
       "      <th>universe_training_size</th>\n",
       "      <th>universe_scale</th>\n",
       "      <th>universe_model</th>\n",
       "      <th>universe_exclude_features</th>\n",
       "      <th>universe_exclude_subgroups</th>\n",
       "      <th>q_hat</th>\n",
       "      <th>coverage</th>\n",
       "      <th>avg_size</th>\n",
       "    </tr>\n",
       "  </thead>\n",
       "  <tbody>\n",
       "    <tr>\n",
       "      <th>0</th>\n",
       "      <td>b318ce35e196d115f8bff6f4acb827ed</td>\n",
       "      <td>2014</td>\n",
       "      <td>scale</td>\n",
       "      <td>rf</td>\n",
       "      <td>none</td>\n",
       "      <td>drop-non-german</td>\n",
       "      <td>0.67</td>\n",
       "      <td>0.919608</td>\n",
       "      <td>1.154531</td>\n",
       "    </tr>\n",
       "  </tbody>\n",
       "</table>\n",
       "</div>"
      ],
      "text/plain": [
       "                        universe_id universe_training_size universe_scale  \\\n",
       "0  b318ce35e196d115f8bff6f4acb827ed                   2014          scale   \n",
       "\n",
       "  universe_model universe_exclude_features universe_exclude_subgroups  q_hat  \\\n",
       "0             rf                      none            drop-non-german   0.67   \n",
       "\n",
       "   coverage  avg_size  \n",
       "0  0.919608  1.154531  "
      ]
     },
     "execution_count": 54,
     "metadata": {},
     "output_type": "execute_result"
    }
   ],
   "source": [
    "cp_metrics_df"
   ]
  },
  {
   "cell_type": "code",
   "execution_count": 55,
   "id": "b7fbde55-a0a1-47e4-9af6-fe4a17fa8c61",
   "metadata": {
    "execution": {
     "iopub.execute_input": "2025-07-28T10:56:10.609097Z",
     "iopub.status.busy": "2025-07-28T10:56:10.608195Z",
     "iopub.status.idle": "2025-07-28T10:56:10.613820Z",
     "shell.execute_reply": "2025-07-28T10:56:10.612641Z"
    },
    "papermill": {
     "duration": 0.025168,
     "end_time": "2025-07-28T10:56:10.615997",
     "exception": false,
     "start_time": "2025-07-28T10:56:10.590829",
     "status": "completed"
    },
    "tags": []
   },
   "outputs": [],
   "source": [
    "# Conditional Coverage & looking at subgroups"
   ]
  },
  {
   "cell_type": "code",
   "execution_count": 56,
   "id": "027ae886-68dd-4141-96c7-805a5450e1ef",
   "metadata": {
    "execution": {
     "iopub.execute_input": "2025-07-28T10:56:10.682110Z",
     "iopub.status.busy": "2025-07-28T10:56:10.681473Z",
     "iopub.status.idle": "2025-07-28T10:56:11.149013Z",
     "shell.execute_reply": "2025-07-28T10:56:11.147853Z"
    },
    "papermill": {
     "duration": 0.497979,
     "end_time": "2025-07-28T10:56:11.150848",
     "exception": false,
     "start_time": "2025-07-28T10:56:10.652869",
     "status": "completed"
    },
    "tags": []
   },
   "outputs": [],
   "source": [
    "from fairness_multiverse.conformal import build_cp_groups\n",
    "\n",
    "cp_groups_df = build_cp_groups(pred_sets, y_true, X_test.index, org_test)\n",
    "#needs universe_id and setting"
   ]
  },
  {
   "cell_type": "code",
   "execution_count": 57,
   "id": "01d5802c-663a-4d1f-9d69-e036faaffbf7",
   "metadata": {
    "execution": {
     "iopub.execute_input": "2025-07-28T10:56:11.241294Z",
     "iopub.status.busy": "2025-07-28T10:56:11.240865Z",
     "iopub.status.idle": "2025-07-28T10:56:11.246590Z",
     "shell.execute_reply": "2025-07-28T10:56:11.245374Z"
    },
    "papermill": {
     "duration": 0.038048,
     "end_time": "2025-07-28T10:56:11.249921",
     "exception": false,
     "start_time": "2025-07-28T10:56:11.211873",
     "status": "completed"
    },
    "tags": []
   },
   "outputs": [],
   "source": [
    "#delete\n",
    "#cp_groups_df"
   ]
  },
  {
   "cell_type": "code",
   "execution_count": 58,
   "id": "fa424af1-d1eb-443d-b717-2d279ada8408",
   "metadata": {
    "execution": {
     "iopub.execute_input": "2025-07-28T10:56:11.325129Z",
     "iopub.status.busy": "2025-07-28T10:56:11.324698Z",
     "iopub.status.idle": "2025-07-28T10:56:11.330310Z",
     "shell.execute_reply": "2025-07-28T10:56:11.329223Z"
    },
    "papermill": {
     "duration": 0.040522,
     "end_time": "2025-07-28T10:56:11.333808",
     "exception": false,
     "start_time": "2025-07-28T10:56:11.293286",
     "status": "completed"
    },
    "tags": []
   },
   "outputs": [],
   "source": [
    "#delete\n",
    "#percentage = (cp_groups_df['nongerman_female'] == 1).mean() * 100\n",
    "#print(percentage)\n"
   ]
  },
  {
   "cell_type": "code",
   "execution_count": 59,
   "id": "6cbdab96-b2b2-45af-ad54-d0516db2e28d",
   "metadata": {
    "execution": {
     "iopub.execute_input": "2025-07-28T10:56:11.406240Z",
     "iopub.status.busy": "2025-07-28T10:56:11.405790Z",
     "iopub.status.idle": "2025-07-28T10:56:14.301314Z",
     "shell.execute_reply": "2025-07-28T10:56:14.300183Z"
    },
    "papermill": {
     "duration": 2.942866,
     "end_time": "2025-07-28T10:56:14.303330",
     "exception": false,
     "start_time": "2025-07-28T10:56:11.360464",
     "status": "completed"
    },
    "tags": []
   },
   "outputs": [],
   "source": [
    "# Define covered = 1 if true_label is in the predicted set\n",
    "cp_groups_df['covered'] = cp_groups_df.apply(\n",
    "    lambda r: int(r['true_label'] in r['pred_set']),\n",
    "    axis=1\n",
    ")"
   ]
  },
  {
   "cell_type": "code",
   "execution_count": 60,
   "id": "338ff529-1a6b-4b87-a931-8e4788d52aad",
   "metadata": {
    "execution": {
     "iopub.execute_input": "2025-07-28T10:56:14.452115Z",
     "iopub.status.busy": "2025-07-28T10:56:14.451648Z",
     "iopub.status.idle": "2025-07-28T10:56:14.457740Z",
     "shell.execute_reply": "2025-07-28T10:56:14.456748Z"
    },
    "papermill": {
     "duration": 0.082023,
     "end_time": "2025-07-28T10:56:14.460774",
     "exception": false,
     "start_time": "2025-07-28T10:56:14.378751",
     "status": "completed"
    },
    "tags": []
   },
   "outputs": [],
   "source": [
    "#cp_groups_df"
   ]
  },
  {
   "cell_type": "code",
   "execution_count": 61,
   "id": "90032e27-66df-4540-9169-4e89cfbaa758",
   "metadata": {
    "execution": {
     "iopub.execute_input": "2025-07-28T10:56:14.578734Z",
     "iopub.status.busy": "2025-07-28T10:56:14.578249Z",
     "iopub.status.idle": "2025-07-28T10:56:14.593955Z",
     "shell.execute_reply": "2025-07-28T10:56:14.592878Z"
    },
    "papermill": {
     "duration": 0.076388,
     "end_time": "2025-07-28T10:56:14.596685",
     "exception": false,
     "start_time": "2025-07-28T10:56:14.520297",
     "status": "completed"
    },
    "tags": []
   },
   "outputs": [],
   "source": [
    "subgroups = ['frau1','nongerman','nongerman_male','nongerman_female']\n",
    "\n",
    "# Conditional coverage for subgroup==1\n",
    "cond_coverage = {\n",
    "    g: cp_groups_df.loc[cp_groups_df[g]==1, 'covered'].mean()\n",
    "    for g in subgroups\n",
    "}"
   ]
  },
  {
   "cell_type": "code",
   "execution_count": 62,
   "id": "1e348fb1-b9c3-45bc-ba23-f016827a7e0d",
   "metadata": {
    "execution": {
     "iopub.execute_input": "2025-07-28T10:56:14.732621Z",
     "iopub.status.busy": "2025-07-28T10:56:14.732165Z",
     "iopub.status.idle": "2025-07-28T10:56:14.743680Z",
     "shell.execute_reply": "2025-07-28T10:56:14.742655Z"
    },
    "papermill": {
     "duration": 0.07282,
     "end_time": "2025-07-28T10:56:14.745549",
     "exception": false,
     "start_time": "2025-07-28T10:56:14.672729",
     "status": "completed"
    },
    "tags": []
   },
   "outputs": [
    {
     "data": {
      "text/plain": [
       "{'frau1': 0.9199892168755897,\n",
       " 'nongerman': 0.9138831190703419,\n",
       " 'nongerman_male': 0.92704674412321,\n",
       " 'nongerman_female': 0.8921013412816692}"
      ]
     },
     "execution_count": 62,
     "metadata": {},
     "output_type": "execute_result"
    }
   ],
   "source": [
    "cond_coverage"
   ]
  },
  {
   "cell_type": "code",
   "execution_count": 63,
   "id": "f5093324-c3dd-4d63-bc4c-8d945e5c8bbb",
   "metadata": {
    "execution": {
     "iopub.execute_input": "2025-07-28T10:56:14.925488Z",
     "iopub.status.busy": "2025-07-28T10:56:14.924961Z",
     "iopub.status.idle": "2025-07-28T10:56:14.933586Z",
     "shell.execute_reply": "2025-07-28T10:56:14.932482Z"
    },
    "papermill": {
     "duration": 0.100712,
     "end_time": "2025-07-28T10:56:14.936888",
     "exception": false,
     "start_time": "2025-07-28T10:56:14.836176",
     "status": "completed"
    },
    "tags": []
   },
   "outputs": [],
   "source": [
    "for subgroup, cov in cond_coverage.items():\n",
    "    cp_metrics_df[f\"cov_{subgroup}\"] = cov"
   ]
  },
  {
   "cell_type": "code",
   "execution_count": 64,
   "id": "6e872e10-dbe5-49e8-b554-5030c98ff75d",
   "metadata": {
    "execution": {
     "iopub.execute_input": "2025-07-28T10:56:15.132907Z",
     "iopub.status.busy": "2025-07-28T10:56:15.132414Z",
     "iopub.status.idle": "2025-07-28T10:56:15.164659Z",
     "shell.execute_reply": "2025-07-28T10:56:15.163571Z"
    },
    "papermill": {
     "duration": 0.131779,
     "end_time": "2025-07-28T10:56:15.166741",
     "exception": false,
     "start_time": "2025-07-28T10:56:15.034962",
     "status": "completed"
    },
    "tags": []
   },
   "outputs": [
    {
     "data": {
      "text/html": [
       "<div>\n",
       "<style scoped>\n",
       "    .dataframe tbody tr th:only-of-type {\n",
       "        vertical-align: middle;\n",
       "    }\n",
       "\n",
       "    .dataframe tbody tr th {\n",
       "        vertical-align: top;\n",
       "    }\n",
       "\n",
       "    .dataframe thead th {\n",
       "        text-align: right;\n",
       "    }\n",
       "</style>\n",
       "<table border=\"1\" class=\"dataframe\">\n",
       "  <thead>\n",
       "    <tr style=\"text-align: right;\">\n",
       "      <th></th>\n",
       "      <th>universe_id</th>\n",
       "      <th>universe_training_size</th>\n",
       "      <th>universe_scale</th>\n",
       "      <th>universe_model</th>\n",
       "      <th>universe_exclude_features</th>\n",
       "      <th>universe_exclude_subgroups</th>\n",
       "      <th>q_hat</th>\n",
       "      <th>coverage</th>\n",
       "      <th>avg_size</th>\n",
       "      <th>cov_frau1</th>\n",
       "      <th>cov_nongerman</th>\n",
       "      <th>cov_nongerman_male</th>\n",
       "      <th>cov_nongerman_female</th>\n",
       "    </tr>\n",
       "  </thead>\n",
       "  <tbody>\n",
       "    <tr>\n",
       "      <th>0</th>\n",
       "      <td>b318ce35e196d115f8bff6f4acb827ed</td>\n",
       "      <td>2014</td>\n",
       "      <td>scale</td>\n",
       "      <td>rf</td>\n",
       "      <td>none</td>\n",
       "      <td>drop-non-german</td>\n",
       "      <td>0.67</td>\n",
       "      <td>0.919608</td>\n",
       "      <td>1.154531</td>\n",
       "      <td>0.919989</td>\n",
       "      <td>0.913883</td>\n",
       "      <td>0.927047</td>\n",
       "      <td>0.892101</td>\n",
       "    </tr>\n",
       "  </tbody>\n",
       "</table>\n",
       "</div>"
      ],
      "text/plain": [
       "                        universe_id universe_training_size universe_scale  \\\n",
       "0  b318ce35e196d115f8bff6f4acb827ed                   2014          scale   \n",
       "\n",
       "  universe_model universe_exclude_features universe_exclude_subgroups  q_hat  \\\n",
       "0             rf                      none            drop-non-german   0.67   \n",
       "\n",
       "   coverage  avg_size  cov_frau1  cov_nongerman  cov_nongerman_male  \\\n",
       "0  0.919608  1.154531   0.919989       0.913883            0.927047   \n",
       "\n",
       "   cov_nongerman_female  \n",
       "0              0.892101  "
      ]
     },
     "execution_count": 64,
     "metadata": {},
     "output_type": "execute_result"
    }
   ],
   "source": [
    "cp_metrics_df"
   ]
  },
  {
   "cell_type": "markdown",
   "id": "33774451",
   "metadata": {
    "papermill": {
     "duration": 0.087889,
     "end_time": "2025-07-28T10:56:15.348611",
     "exception": false,
     "start_time": "2025-07-28T10:56:15.260722",
     "status": "completed"
    },
    "tags": []
   },
   "source": [
    "# (Fairness) Metrics"
   ]
  },
  {
   "cell_type": "code",
   "execution_count": 65,
   "id": "debc5d62",
   "metadata": {
    "execution": {
     "iopub.execute_input": "2025-07-28T10:56:15.558704Z",
     "iopub.status.busy": "2025-07-28T10:56:15.558268Z",
     "iopub.status.idle": "2025-07-28T10:56:15.615990Z",
     "shell.execute_reply": "2025-07-28T10:56:15.614872Z"
    },
    "papermill": {
     "duration": 0.165572,
     "end_time": "2025-07-28T10:56:15.618251",
     "exception": false,
     "start_time": "2025-07-28T10:56:15.452679",
     "status": "completed"
    },
    "tags": []
   },
   "outputs": [],
   "source": [
    "# do I need to include maxdeutsch1.missing?\n",
    "\n",
    "import numpy as np\n",
    "\n",
    "colname_to_bin = \"maxdeutsch1\"\n",
    "majority_value = org_train[colname_to_bin].mode()[0]\n",
    "\n",
    "org_test[\"majmin\"] = np.where(org_test[colname_to_bin] == majority_value, \"majority\", \"minority\")"
   ]
  },
  {
   "cell_type": "code",
   "execution_count": 66,
   "id": "06a50de5",
   "metadata": {
    "execution": {
     "iopub.execute_input": "2025-07-28T10:56:15.838215Z",
     "iopub.status.busy": "2025-07-28T10:56:15.837784Z",
     "iopub.status.idle": "2025-07-28T10:56:25.157404Z",
     "shell.execute_reply": "2025-07-28T10:56:25.156129Z"
    },
    "papermill": {
     "duration": 9.447392,
     "end_time": "2025-07-28T10:56:25.159565",
     "exception": false,
     "start_time": "2025-07-28T10:56:15.712173",
     "status": "completed"
    },
    "tags": []
   },
   "outputs": [],
   "source": [
    "example_universe = universe.copy()\n",
    "example_universe[\"cutoff\"] = example_universe[\"cutoff\"][0]\n",
    "example_universe[\"eval_fairness_grouping\"] = example_universe[\"eval_fairness_grouping\"][0]\n",
    "fairness_dict, metric_frame = universe_analysis.compute_metrics(\n",
    "    example_universe,\n",
    "    y_pred_prob=probs_test,\n",
    "    y_test=y_true,\n",
    "    org_test=org_test,\n",
    ")"
   ]
  },
  {
   "cell_type": "markdown",
   "id": "f95d4e02",
   "metadata": {
    "papermill": {
     "duration": 0.08846,
     "end_time": "2025-07-28T10:56:25.316812",
     "exception": false,
     "start_time": "2025-07-28T10:56:25.228352",
     "status": "completed"
    },
    "tags": []
   },
   "source": [
    "# Overall"
   ]
  },
  {
   "cell_type": "markdown",
   "id": "bdee4871",
   "metadata": {
    "papermill": {
     "duration": 0.113734,
     "end_time": "2025-07-28T10:56:25.508892",
     "exception": false,
     "start_time": "2025-07-28T10:56:25.395158",
     "status": "completed"
    },
    "tags": []
   },
   "source": [
    "Fairness\n",
    "Main fairness target: Equalized Odds. Seems to be a better fit than equal opportunity, since we're not only interested in Y = 1. Seems to be a better fit than demographic parity, since we also care about accuracy, not just equal distribution of preds.\n",
    "\n",
    "Pick column for computation of fairness metrics\n",
    "\n",
    "Performance\n",
    "Overall performance measures, most interesting in relation to the measures split by group below"
   ]
  },
  {
   "cell_type": "code",
   "execution_count": 67,
   "id": "c4e067c6",
   "metadata": {
    "execution": {
     "iopub.execute_input": "2025-07-28T10:56:25.642867Z",
     "iopub.status.busy": "2025-07-28T10:56:25.642317Z",
     "iopub.status.idle": "2025-07-28T10:56:25.652416Z",
     "shell.execute_reply": "2025-07-28T10:56:25.651349Z"
    },
    "papermill": {
     "duration": 0.069161,
     "end_time": "2025-07-28T10:56:25.654137",
     "exception": false,
     "start_time": "2025-07-28T10:56:25.584976",
     "status": "completed"
    },
    "tags": []
   },
   "outputs": [
    {
     "data": {
      "text/plain": [
       "accuracy                   0.206733\n",
       "balanced accuracy          0.534698\n",
       "f1                         0.239896\n",
       "precision                  0.136758\n",
       "false positive rate        0.906447\n",
       "false negative rate        0.024157\n",
       "selection rate             0.915349\n",
       "count                  89710.000000\n",
       "dtype: float64"
      ]
     },
     "execution_count": 67,
     "metadata": {},
     "output_type": "execute_result"
    }
   ],
   "source": [
    "metric_frame.overall"
   ]
  },
  {
   "cell_type": "markdown",
   "id": "e968fe9d",
   "metadata": {
    "papermill": {
     "duration": 0.056478,
     "end_time": "2025-07-28T10:56:25.768547",
     "exception": false,
     "start_time": "2025-07-28T10:56:25.712069",
     "status": "completed"
    },
    "tags": []
   },
   "source": [
    "By Group"
   ]
  },
  {
   "cell_type": "code",
   "execution_count": 68,
   "id": "ec325bce",
   "metadata": {
    "execution": {
     "iopub.execute_input": "2025-07-28T10:56:25.885923Z",
     "iopub.status.busy": "2025-07-28T10:56:25.885455Z",
     "iopub.status.idle": "2025-07-28T10:56:25.921554Z",
     "shell.execute_reply": "2025-07-28T10:56:25.920370Z"
    },
    "papermill": {
     "duration": 0.09541,
     "end_time": "2025-07-28T10:56:25.923590",
     "exception": false,
     "start_time": "2025-07-28T10:56:25.828180",
     "status": "completed"
    },
    "tags": []
   },
   "outputs": [
    {
     "data": {
      "text/html": [
       "<div>\n",
       "<style scoped>\n",
       "    .dataframe tbody tr th:only-of-type {\n",
       "        vertical-align: middle;\n",
       "    }\n",
       "\n",
       "    .dataframe tbody tr th {\n",
       "        vertical-align: top;\n",
       "    }\n",
       "\n",
       "    .dataframe thead th {\n",
       "        text-align: right;\n",
       "    }\n",
       "</style>\n",
       "<table border=\"1\" class=\"dataframe\">\n",
       "  <thead>\n",
       "    <tr style=\"text-align: right;\">\n",
       "      <th></th>\n",
       "      <th>accuracy</th>\n",
       "      <th>balanced accuracy</th>\n",
       "      <th>f1</th>\n",
       "      <th>precision</th>\n",
       "      <th>false positive rate</th>\n",
       "      <th>false negative rate</th>\n",
       "      <th>selection rate</th>\n",
       "      <th>count</th>\n",
       "    </tr>\n",
       "    <tr>\n",
       "      <th>majmin</th>\n",
       "      <th></th>\n",
       "      <th></th>\n",
       "      <th></th>\n",
       "      <th></th>\n",
       "      <th></th>\n",
       "      <th></th>\n",
       "      <th></th>\n",
       "      <th></th>\n",
       "    </tr>\n",
       "  </thead>\n",
       "  <tbody>\n",
       "    <tr>\n",
       "      <th>majority</th>\n",
       "      <td>0.199827</td>\n",
       "      <td>0.534777</td>\n",
       "      <td>0.246412</td>\n",
       "      <td>0.140718</td>\n",
       "      <td>0.920490</td>\n",
       "      <td>0.009956</td>\n",
       "      <td>0.929680</td>\n",
       "      <td>69170.0</td>\n",
       "    </tr>\n",
       "    <tr>\n",
       "      <th>minority</th>\n",
       "      <td>0.229990</td>\n",
       "      <td>0.530485</td>\n",
       "      <td>0.216176</td>\n",
       "      <td>0.122459</td>\n",
       "      <td>0.860059</td>\n",
       "      <td>0.078970</td>\n",
       "      <td>0.867089</td>\n",
       "      <td>20540.0</td>\n",
       "    </tr>\n",
       "  </tbody>\n",
       "</table>\n",
       "</div>"
      ],
      "text/plain": [
       "          accuracy  balanced accuracy        f1  precision  \\\n",
       "majmin                                                       \n",
       "majority  0.199827           0.534777  0.246412   0.140718   \n",
       "minority  0.229990           0.530485  0.216176   0.122459   \n",
       "\n",
       "          false positive rate  false negative rate  selection rate    count  \n",
       "majmin                                                                       \n",
       "majority             0.920490             0.009956        0.929680  69170.0  \n",
       "minority             0.860059             0.078970        0.867089  20540.0  "
      ]
     },
     "execution_count": 68,
     "metadata": {},
     "output_type": "execute_result"
    }
   ],
   "source": [
    "metric_frame.by_group"
   ]
  },
  {
   "cell_type": "code",
   "execution_count": 69,
   "id": "a9ddbe63",
   "metadata": {
    "execution": {
     "iopub.execute_input": "2025-07-28T10:56:26.040699Z",
     "iopub.status.busy": "2025-07-28T10:56:26.040202Z",
     "iopub.status.idle": "2025-07-28T10:56:31.184323Z",
     "shell.execute_reply": "2025-07-28T10:56:31.183143Z"
    },
    "papermill": {
     "duration": 5.20836,
     "end_time": "2025-07-28T10:56:31.186261",
     "exception": false,
     "start_time": "2025-07-28T10:56:25.977901",
     "status": "completed"
    },
    "tags": []
   },
   "outputs": [
    {
     "data": {
      "text/plain": [
       "array([[<Axes: title={'center': 'accuracy'}, xlabel='majmin'>,\n",
       "        <Axes: title={'center': 'balanced accuracy'}, xlabel='majmin'>,\n",
       "        <Axes: title={'center': 'f1'}, xlabel='majmin'>],\n",
       "       [<Axes: title={'center': 'precision'}, xlabel='majmin'>,\n",
       "        <Axes: title={'center': 'false positive rate'}, xlabel='majmin'>,\n",
       "        <Axes: title={'center': 'false negative rate'}, xlabel='majmin'>],\n",
       "       [<Axes: title={'center': 'selection rate'}, xlabel='majmin'>,\n",
       "        <Axes: title={'center': 'count'}, xlabel='majmin'>,\n",
       "        <Axes: xlabel='majmin'>]], dtype=object)"
      ]
     },
     "execution_count": 69,
     "metadata": {},
     "output_type": "execute_result"
    },
    {
     "data": {
      "image/png": "[encoded data removed]",
      "text/plain": [
       "<Figure size 1200x800 with 9 Axes>"
      ]
     },
     "metadata": {},
     "output_type": "display_data"
    }
   ],
   "source": [
    "# In a graphic\n",
    "metric_frame.by_group.plot.bar(\n",
    "    subplots=True,\n",
    "    layout=[3, 3],\n",
    "    legend=False,\n",
    "    figsize=[12, 8],\n",
    "    title=\"Show all metrics\",\n",
    ")"
   ]
  },
  {
   "cell_type": "markdown",
   "id": "f57a0bac",
   "metadata": {
    "papermill": {
     "duration": 0.059762,
     "end_time": "2025-07-28T10:56:31.356134",
     "exception": false,
     "start_time": "2025-07-28T10:56:31.296372",
     "status": "completed"
    },
    "tags": []
   },
   "source": [
    "# Final Output"
   ]
  },
  {
   "cell_type": "code",
   "execution_count": 70,
   "id": "96d280a3",
   "metadata": {
    "execution": {
     "iopub.execute_input": "2025-07-28T10:56:31.508083Z",
     "iopub.status.busy": "2025-07-28T10:56:31.507494Z",
     "iopub.status.idle": "2025-07-28T10:56:31.541382Z",
     "shell.execute_reply": "2025-07-28T10:56:31.540113Z"
    },
    "papermill": {
     "duration": 0.086601,
     "end_time": "2025-07-28T10:56:31.555865",
     "exception": false,
     "start_time": "2025-07-28T10:56:31.469264",
     "status": "completed"
    },
    "tags": []
   },
   "outputs": [
    {
     "data": {
      "text/plain": [
       "4"
      ]
     },
     "execution_count": 70,
     "metadata": {},
     "output_type": "execute_result"
    }
   ],
   "source": [
    "sub_universes = universe_analysis.generate_sub_universes()\n",
    "len(sub_universes)"
   ]
  },
  {
   "cell_type": "code",
   "execution_count": 71,
   "id": "92adf7ba",
   "metadata": {
    "execution": {
     "iopub.execute_input": "2025-07-28T10:56:31.719267Z",
     "iopub.status.busy": "2025-07-28T10:56:31.718827Z",
     "iopub.status.idle": "2025-07-28T10:56:31.726957Z",
     "shell.execute_reply": "2025-07-28T10:56:31.725977Z"
    },
    "papermill": {
     "duration": 0.075848,
     "end_time": "2025-07-28T10:56:31.728718",
     "exception": false,
     "start_time": "2025-07-28T10:56:31.652870",
     "status": "completed"
    },
    "tags": []
   },
   "outputs": [],
   "source": [
    "def filter_sub_universe_data(sub_universe, org_test):\n",
    "    # Keep all rows — no filtering\n",
    "    keep_rows_mask = np.ones(org_test.shape[0], dtype=bool)\n",
    "\n",
    "    print(f\"[INFO] Keeping all rows: {keep_rows_mask.sum()} rows retained.\")\n",
    "    return keep_rows_mask"
   ]
  },
  {
   "cell_type": "code",
   "execution_count": 72,
   "id": "4a759155",
   "metadata": {
    "execution": {
     "iopub.execute_input": "2025-07-28T10:56:31.889332Z",
     "iopub.status.busy": "2025-07-28T10:56:31.888937Z",
     "iopub.status.idle": "2025-07-28T10:56:44.858630Z",
     "shell.execute_reply": "2025-07-28T10:56:44.857319Z"
    },
    "papermill": {
     "duration": 13.081467,
     "end_time": "2025-07-28T10:56:44.860613",
     "exception": false,
     "start_time": "2025-07-28T10:56:31.779146",
     "status": "completed"
    },
    "tags": []
   },
   "outputs": [
    {
     "name": "stdout",
     "output_type": "stream",
     "text": [
      "Stopping execution_time clock.\n",
      "[INFO] Keeping all rows: 89710 rows retained.\n"
     ]
    },
    {
     "name": "stdout",
     "output_type": "stream",
     "text": [
      "[INFO] Keeping all rows: 89710 rows retained.\n"
     ]
    },
    {
     "name": "stdout",
     "output_type": "stream",
     "text": [
      "[INFO] Keeping all rows: 89710 rows retained.\n"
     ]
    },
    {
     "name": "stdout",
     "output_type": "stream",
     "text": [
      "[INFO] Keeping all rows: 89710 rows retained.\n"
     ]
    },
    {
     "data": {
      "text/html": [
       "<div>\n",
       "<style scoped>\n",
       "    .dataframe tbody tr th:only-of-type {\n",
       "        vertical-align: middle;\n",
       "    }\n",
       "\n",
       "    .dataframe tbody tr th {\n",
       "        vertical-align: top;\n",
       "    }\n",
       "\n",
       "    .dataframe thead th {\n",
       "        text-align: right;\n",
       "    }\n",
       "</style>\n",
       "<table border=\"1\" class=\"dataframe\">\n",
       "  <thead>\n",
       "    <tr style=\"text-align: right;\">\n",
       "      <th></th>\n",
       "      <th>run_no</th>\n",
       "      <th>universe_id</th>\n",
       "      <th>universe_settings</th>\n",
       "      <th>execution_time</th>\n",
       "      <th>test_size_n</th>\n",
       "      <th>test_size_frac</th>\n",
       "      <th>fair_main_equalized_odds_difference</th>\n",
       "      <th>fair_main_equalized_odds_ratio</th>\n",
       "      <th>fair_main_demographic_parity_difference</th>\n",
       "      <th>fair_main_demographic_parity_ratio</th>\n",
       "      <th>...</th>\n",
       "      <th>perf_grp_precision_0</th>\n",
       "      <th>perf_grp_precision_1</th>\n",
       "      <th>perf_grp_false positive rate_0</th>\n",
       "      <th>perf_grp_false positive rate_1</th>\n",
       "      <th>perf_grp_false negative rate_0</th>\n",
       "      <th>perf_grp_false negative rate_1</th>\n",
       "      <th>perf_grp_selection rate_0</th>\n",
       "      <th>perf_grp_selection rate_1</th>\n",
       "      <th>perf_grp_count_0</th>\n",
       "      <th>perf_grp_count_1</th>\n",
       "    </tr>\n",
       "  </thead>\n",
       "  <tbody>\n",
       "    <tr>\n",
       "      <th>0</th>\n",
       "      <td>11</td>\n",
       "      <td>b318ce35e196d115f8bff6f4acb827ed</td>\n",
       "      <td>{\"cutoff\": \"quantile_0.1\", \"eval_fairness_grou...</td>\n",
       "      <td>68.341665</td>\n",
       "      <td>89710</td>\n",
       "      <td>1.0</td>\n",
       "      <td>0.069013</td>\n",
       "      <td>0.930293</td>\n",
       "      <td>0.062592</td>\n",
       "      <td>0.932674</td>\n",
       "      <td>...</td>\n",
       "      <td>NaN</td>\n",
       "      <td>NaN</td>\n",
       "      <td>NaN</td>\n",
       "      <td>NaN</td>\n",
       "      <td>NaN</td>\n",
       "      <td>NaN</td>\n",
       "      <td>NaN</td>\n",
       "      <td>NaN</td>\n",
       "      <td>NaN</td>\n",
       "      <td>NaN</td>\n",
       "    </tr>\n",
       "    <tr>\n",
       "      <th>0</th>\n",
       "      <td>11</td>\n",
       "      <td>b318ce35e196d115f8bff6f4acb827ed</td>\n",
       "      <td>{\"cutoff\": \"quantile_0.1\", \"eval_fairness_grou...</td>\n",
       "      <td>68.341665</td>\n",
       "      <td>89710</td>\n",
       "      <td>1.0</td>\n",
       "      <td>0.069013</td>\n",
       "      <td>0.930293</td>\n",
       "      <td>0.062592</td>\n",
       "      <td>0.932674</td>\n",
       "      <td>...</td>\n",
       "      <td>0.122459</td>\n",
       "      <td>0.140718</td>\n",
       "      <td>0.860059</td>\n",
       "      <td>0.92049</td>\n",
       "      <td>0.078970</td>\n",
       "      <td>0.009956</td>\n",
       "      <td>0.867089</td>\n",
       "      <td>0.929680</td>\n",
       "      <td>20540.0</td>\n",
       "      <td>69170.0</td>\n",
       "    </tr>\n",
       "    <tr>\n",
       "      <th>0</th>\n",
       "      <td>11</td>\n",
       "      <td>b318ce35e196d115f8bff6f4acb827ed</td>\n",
       "      <td>{\"cutoff\": \"quantile_0.25\", \"eval_fairness_gro...</td>\n",
       "      <td>68.341665</td>\n",
       "      <td>89710</td>\n",
       "      <td>1.0</td>\n",
       "      <td>0.125969</td>\n",
       "      <td>0.868145</td>\n",
       "      <td>0.073701</td>\n",
       "      <td>0.904760</td>\n",
       "      <td>...</td>\n",
       "      <td>NaN</td>\n",
       "      <td>NaN</td>\n",
       "      <td>NaN</td>\n",
       "      <td>NaN</td>\n",
       "      <td>NaN</td>\n",
       "      <td>NaN</td>\n",
       "      <td>NaN</td>\n",
       "      <td>NaN</td>\n",
       "      <td>NaN</td>\n",
       "      <td>NaN</td>\n",
       "    </tr>\n",
       "    <tr>\n",
       "      <th>0</th>\n",
       "      <td>11</td>\n",
       "      <td>b318ce35e196d115f8bff6f4acb827ed</td>\n",
       "      <td>{\"cutoff\": \"quantile_0.25\", \"eval_fairness_gro...</td>\n",
       "      <td>68.341665</td>\n",
       "      <td>89710</td>\n",
       "      <td>1.0</td>\n",
       "      <td>0.125969</td>\n",
       "      <td>0.868145</td>\n",
       "      <td>0.073701</td>\n",
       "      <td>0.904760</td>\n",
       "      <td>...</td>\n",
       "      <td>0.136569</td>\n",
       "      <td>0.163133</td>\n",
       "      <td>0.683304</td>\n",
       "      <td>0.74621</td>\n",
       "      <td>0.170608</td>\n",
       "      <td>0.044639</td>\n",
       "      <td>0.700146</td>\n",
       "      <td>0.773847</td>\n",
       "      <td>20540.0</td>\n",
       "      <td>69170.0</td>\n",
       "    </tr>\n",
       "  </tbody>\n",
       "</table>\n",
       "<p>4 rows × 50 columns</p>\n",
       "</div>"
      ],
      "text/plain": [
       "  run_no                       universe_id  \\\n",
       "0     11  b318ce35e196d115f8bff6f4acb827ed   \n",
       "0     11  b318ce35e196d115f8bff6f4acb827ed   \n",
       "0     11  b318ce35e196d115f8bff6f4acb827ed   \n",
       "0     11  b318ce35e196d115f8bff6f4acb827ed   \n",
       "\n",
       "                                   universe_settings  execution_time  \\\n",
       "0  {\"cutoff\": \"quantile_0.1\", \"eval_fairness_grou...       68.341665   \n",
       "0  {\"cutoff\": \"quantile_0.1\", \"eval_fairness_grou...       68.341665   \n",
       "0  {\"cutoff\": \"quantile_0.25\", \"eval_fairness_gro...       68.341665   \n",
       "0  {\"cutoff\": \"quantile_0.25\", \"eval_fairness_gro...       68.341665   \n",
       "\n",
       "   test_size_n  test_size_frac  fair_main_equalized_odds_difference  \\\n",
       "0        89710             1.0                             0.069013   \n",
       "0        89710             1.0                             0.069013   \n",
       "0        89710             1.0                             0.125969   \n",
       "0        89710             1.0                             0.125969   \n",
       "\n",
       "   fair_main_equalized_odds_ratio  fair_main_demographic_parity_difference  \\\n",
       "0                        0.930293                                 0.062592   \n",
       "0                        0.930293                                 0.062592   \n",
       "0                        0.868145                                 0.073701   \n",
       "0                        0.868145                                 0.073701   \n",
       "\n",
       "   fair_main_demographic_parity_ratio  ...  perf_grp_precision_0  \\\n",
       "0                            0.932674  ...                   NaN   \n",
       "0                            0.932674  ...              0.122459   \n",
       "0                            0.904760  ...                   NaN   \n",
       "0                            0.904760  ...              0.136569   \n",
       "\n",
       "   perf_grp_precision_1  perf_grp_false positive rate_0  \\\n",
       "0                   NaN                             NaN   \n",
       "0              0.140718                        0.860059   \n",
       "0                   NaN                             NaN   \n",
       "0              0.163133                        0.683304   \n",
       "\n",
       "   perf_grp_false positive rate_1  perf_grp_false negative rate_0  \\\n",
       "0                             NaN                             NaN   \n",
       "0                         0.92049                        0.078970   \n",
       "0                             NaN                             NaN   \n",
       "0                         0.74621                        0.170608   \n",
       "\n",
       "   perf_grp_false negative rate_1  perf_grp_selection rate_0  \\\n",
       "0                             NaN                        NaN   \n",
       "0                        0.009956                   0.867089   \n",
       "0                             NaN                        NaN   \n",
       "0                        0.044639                   0.700146   \n",
       "\n",
       "   perf_grp_selection rate_1  perf_grp_count_0  perf_grp_count_1  \n",
       "0                        NaN               NaN               NaN  \n",
       "0                   0.929680           20540.0           69170.0  \n",
       "0                        NaN               NaN               NaN  \n",
       "0                   0.773847           20540.0           69170.0  \n",
       "\n",
       "[4 rows x 50 columns]"
      ]
     },
     "execution_count": 72,
     "metadata": {},
     "output_type": "execute_result"
    }
   ],
   "source": [
    "final_output = universe_analysis.generate_final_output(\n",
    "    y_pred_prob=probs_test,\n",
    "    y_test=y_true,\n",
    "    org_test=org_test,\n",
    "    filter_data=filter_sub_universe_data,\n",
    "    cp_metrics_df=cp_metrics_df,\n",
    "    save=True,\n",
    ")\n",
    "final_output"
   ]
  },
  {
   "cell_type": "code",
   "execution_count": null,
   "id": "721ff514-cb11-46f8-b6fc-50392f74b5cb",
   "metadata": {
    "papermill": {
     "duration": 0.101311,
     "end_time": "2025-07-28T10:56:45.052515",
     "exception": false,
     "start_time": "2025-07-28T10:56:44.951204",
     "status": "completed"
    },
    "tags": []
   },
   "outputs": [],
   "source": []
  }
 ],
 "metadata": {
  "celltoolbar": "Tags",
  "kernelspec": {
   "display_name": "Python (CMA Fairness)",
   "language": "python",
   "name": "cma_fair_env"
  },
  "language_info": {
   "codemirror_mode": {
    "name": "ipython",
    "version": 3
   },
   "file_extension": ".py",
   "mimetype": "text/x-python",
   "name": "python",
   "nbconvert_exporter": "python",
   "pygments_lexer": "ipython3",
   "version": "3.10.12"
  },
  "papermill": {
   "default_parameters": {},
   "duration": 86.518289,
   "end_time": "2025-07-28T10:56:46.650188",
   "environment_variables": {},
   "exception": null,
   "input_path": "universe_analysis.ipynb",
   "output_path": "output/runs/11/notebooks/m_11-b318ce35e196d115f8bff6f4acb827ed.ipynb",
   "parameters": {
    "output_dir": "output",
    "run_no": "11",
    "seed": "2023",
    "universe": "{\"cutoff\": [\"quantile_0.1\", \"quantile_0.25\"], \"eval_fairness_grouping\": [\"majority-minority\", \"nationality-all\"], \"exclude_features\": \"none\", \"exclude_subgroups\": \"drop-non-german\", \"model\": \"rf\", \"scale\": \"scale\", \"training_size\": \"2014\"}",
    "universe_id": "b318ce35e196d115f8bff6f4acb827ed"
   },
   "start_time": "2025-07-28T10:55:20.131899",
   "version": "2.6.0"
  }
 },
 "nbformat": 4,
 "nbformat_minor": 5
}