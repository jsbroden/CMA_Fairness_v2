{
 "cells": [
  {
   "cell_type": "code",
   "execution_count": 1,
   "id": "f159f837-637b-42ba-96b5-ec9a68c44524",
   "metadata": {
    "execution": {
     "iopub.execute_input": "2025-07-28T10:38:38.015036Z",
     "iopub.status.busy": "2025-07-28T10:38:38.014343Z",
     "iopub.status.idle": "2025-07-28T10:38:38.028944Z",
     "shell.execute_reply": "2025-07-28T10:38:38.027884Z"
    },
    "papermill": {
     "duration": 0.038756,
     "end_time": "2025-07-28T10:38:38.030708",
     "exception": false,
     "start_time": "2025-07-28T10:38:37.991952",
     "status": "completed"
    },
    "tags": []
   },
   "outputs": [
    {
     "name": "stdout",
     "output_type": "stream",
     "text": [
      "/dss/dsshome1/0C/ra93lal2/cma/CMA_Fairness_v2\n"
     ]
    },
    {
     "name": "stderr",
     "output_type": "stream",
     "text": [
      "/dss/dsshome1/0C/ra93lal2/.local/share/virtualenvs/CMA_Fairness_v2-3j10GkSs/lib/python3.10/site-packages/IPython/core/magics/osm.py:393: UserWarning: This is now an optional IPython functionality, using bookmarks requires you to install the `pickleshare` library.\n",
      "  bkms = self.shell.db.get('bookmarks', {})\n",
      "/dss/dsshome1/0C/ra93lal2/.local/share/virtualenvs/CMA_Fairness_v2-3j10GkSs/lib/python3.10/site-packages/IPython/core/magics/osm.py:417: UserWarning: This is now an optional IPython functionality, setting dhist requires you to install the `pickleshare` library.\n",
      "  self.shell.db['dhist'] = compress_dhist(dhist)[-100:]\n"
     ]
    }
   ],
   "source": [
    "%cd ~/cma/CMA_Fairness_v2"
   ]
  },
  {
   "cell_type": "markdown",
   "id": "de2603b9",
   "metadata": {
    "papermill": {
     "duration": 0.018071,
     "end_time": "2025-07-28T10:38:38.067624",
     "exception": false,
     "start_time": "2025-07-28T10:38:38.049553",
     "status": "completed"
    },
    "tags": []
   },
   "source": [
    "The following cell holds the definition of our parameters, these values can be overriden by rendering the with e.g. the following command:\n",
    "\n",
    "papermill -p alpha 0.2 -p ratio 0.3 universe_analysis.ipynb output/test_run.ipynb"
   ]
  },
  {
   "cell_type": "code",
   "execution_count": 2,
   "id": "a80968a0-40bb-4fa9-85ef-2d5eefb01975",
   "metadata": {
    "execution": {
     "iopub.execute_input": "2025-07-28T10:38:38.106278Z",
     "iopub.status.busy": "2025-07-28T10:38:38.105572Z",
     "iopub.status.idle": "2025-07-28T10:38:38.112064Z",
     "shell.execute_reply": "2025-07-28T10:38:38.111079Z"
    },
    "papermill": {
     "duration": 0.027458,
     "end_time": "2025-07-28T10:38:38.113586",
     "exception": false,
     "start_time": "2025-07-28T10:38:38.086128",
     "status": "completed"
    },
    "tags": []
   },
   "outputs": [
    {
     "name": "stdout",
     "output_type": "stream",
     "text": [
      "Current working directory: /dss/dsshome1/0C/ra93lal2/cma/CMA_Fairness_v2\n"
     ]
    }
   ],
   "source": [
    "import os\n",
    "print(\"Current working directory:\", os.getcwd())"
   ]
  },
  {
   "cell_type": "code",
   "execution_count": 3,
   "id": "2dce4c03",
   "metadata": {
    "execution": {
     "iopub.execute_input": "2025-07-28T10:38:38.154572Z",
     "iopub.status.busy": "2025-07-28T10:38:38.153812Z",
     "iopub.status.idle": "2025-07-28T10:38:38.160582Z",
     "shell.execute_reply": "2025-07-28T10:38:38.159398Z"
    },
    "papermill": {
     "duration": 0.029275,
     "end_time": "2025-07-28T10:38:38.162393",
     "exception": false,
     "start_time": "2025-07-28T10:38:38.133118",
     "status": "completed"
    },
    "tags": [
     "parameters"
    ]
   },
   "outputs": [],
   "source": [
    "run_no = 0\n",
    "universe_id = \"test\"\n",
    "universe = {\n",
    "    \"training_size\": \"2014\", # \"25k\", \"5k\", \"1k\", \"2014\"\n",
    "    \"scale\": \"scale\", # \"scale\", \"do-not-scale\",\n",
    "    #\"stratify_split\": \"target\", # \"none\", \"target\", \"protected-attribute\", \"both\",\n",
    "    \"model\": \"elasticnet\", # \"logreg\", \"penalized_logreg\", \"rf\", \"gbm\", \"elasticnet\"\n",
    "    \"cutoff\": [\"quantile_0.15\", \"quantile_0.30\"],\n",
    "    \"exclude_features\": \"age\", # \"none\", \"nationality\", \"sex\", \"nationality-sex\", \"age\"\n",
    "    \"exclude_subgroups\": \"keep-all\", # \"keep-all\", \"drop-non-german\"\n",
    "    \"eval_fairness_grouping\": [\"majority-minority\", \"nationality-all\"]\n",
    "}\n",
    "\n",
    "output_dir=\"./output\"\n",
    "seed=0"
   ]
  },
  {
   "cell_type": "code",
   "execution_count": 4,
   "id": "ee7efaad",
   "metadata": {
    "execution": {
     "iopub.execute_input": "2025-07-28T10:38:38.203720Z",
     "iopub.status.busy": "2025-07-28T10:38:38.203062Z",
     "iopub.status.idle": "2025-07-28T10:38:38.208558Z",
     "shell.execute_reply": "2025-07-28T10:38:38.207621Z"
    },
    "papermill": {
     "duration": 0.028477,
     "end_time": "2025-07-28T10:38:38.210140",
     "exception": false,
     "start_time": "2025-07-28T10:38:38.181663",
     "status": "completed"
    },
    "tags": [
     "injected-parameters"
    ]
   },
   "outputs": [],
   "source": [
    "# Parameters\n",
    "universe_id = \"b95bc67e35b616e1d6b3bc75e2105f42\"\n",
    "run_no = \"11\"\n",
    "universe = \"{\\\"cutoff\\\": [\\\"quantile_0.1\\\", \\\"quantile_0.25\\\"], \\\"eval_fairness_grouping\\\": [\\\"majority-minority\\\", \\\"nationality-all\\\"], \\\"exclude_features\\\": \\\"nationality-sex\\\", \\\"exclude_subgroups\\\": \\\"keep-all\\\", \\\"model\\\": \\\"gbm\\\", \\\"scale\\\": \\\"do-not-scale\\\", \\\"training_size\\\": \\\"5k\\\"}\"\n",
    "output_dir = \"output\"\n",
    "seed = \"2023\"\n"
   ]
  },
  {
   "cell_type": "code",
   "execution_count": 5,
   "id": "1650acaf",
   "metadata": {
    "execution": {
     "iopub.execute_input": "2025-07-28T10:38:38.249742Z",
     "iopub.status.busy": "2025-07-28T10:38:38.249011Z",
     "iopub.status.idle": "2025-07-28T10:38:38.254425Z",
     "shell.execute_reply": "2025-07-28T10:38:38.253514Z"
    },
    "papermill": {
     "duration": 0.026847,
     "end_time": "2025-07-28T10:38:38.255976",
     "exception": false,
     "start_time": "2025-07-28T10:38:38.229129",
     "status": "completed"
    },
    "tags": []
   },
   "outputs": [],
   "source": [
    "import json\n",
    "# Parse universe into dict if it is passed as a string\n",
    "if isinstance(universe, str):\n",
    "    universe = json.loads(universe)"
   ]
  },
  {
   "cell_type": "code",
   "execution_count": 6,
   "id": "16620c48",
   "metadata": {
    "execution": {
     "iopub.execute_input": "2025-07-28T10:38:38.308339Z",
     "iopub.status.busy": "2025-07-28T10:38:38.307327Z",
     "iopub.status.idle": "2025-07-28T10:38:38.353517Z",
     "shell.execute_reply": "2025-07-28T10:38:38.352525Z"
    },
    "papermill": {
     "duration": 0.079566,
     "end_time": "2025-07-28T10:38:38.355286",
     "exception": false,
     "start_time": "2025-07-28T10:38:38.275720",
     "status": "completed"
    },
    "tags": []
   },
   "outputs": [],
   "source": [
    "# Auto-reload the custom package\n",
    "%load_ext autoreload\n",
    "%autoreload 1\n",
    "%aimport fairness_multiverse"
   ]
  },
  {
   "cell_type": "code",
   "execution_count": 7,
   "id": "01c5c9f3",
   "metadata": {
    "execution": {
     "iopub.execute_input": "2025-07-28T10:38:38.394118Z",
     "iopub.status.busy": "2025-07-28T10:38:38.393789Z",
     "iopub.status.idle": "2025-07-28T10:38:40.590353Z",
     "shell.execute_reply": "2025-07-28T10:38:40.589276Z"
    },
    "papermill": {
     "duration": 2.218134,
     "end_time": "2025-07-28T10:38:40.592384",
     "exception": false,
     "start_time": "2025-07-28T10:38:38.374250",
     "status": "completed"
    },
    "tags": []
   },
   "outputs": [],
   "source": [
    "from fairness_multiverse.universe import UniverseAnalysis\n",
    "\n",
    "universe_analysis = UniverseAnalysis(\n",
    "    run_no = run_no,\n",
    "    universe_id = universe_id,\n",
    "    universe = universe,\n",
    "    output_dir=output_dir,\n",
    ")"
   ]
  },
  {
   "cell_type": "code",
   "execution_count": 8,
   "id": "106241f5",
   "metadata": {
    "execution": {
     "iopub.execute_input": "2025-07-28T10:38:40.636308Z",
     "iopub.status.busy": "2025-07-28T10:38:40.635718Z",
     "iopub.status.idle": "2025-07-28T10:38:40.643422Z",
     "shell.execute_reply": "2025-07-28T10:38:40.642199Z"
    },
    "papermill": {
     "duration": 0.030797,
     "end_time": "2025-07-28T10:38:40.645231",
     "exception": false,
     "start_time": "2025-07-28T10:38:40.614434",
     "status": "completed"
    },
    "tags": []
   },
   "outputs": [
    {
     "name": "stdout",
     "output_type": "stream",
     "text": [
      "Using Seed: 2023\n"
     ]
    }
   ],
   "source": [
    "import numpy as np\n",
    "parsed_seed = int(seed)\n",
    "np.random.seed(parsed_seed)\n",
    "print(f\"Using Seed: {parsed_seed}\")"
   ]
  },
  {
   "cell_type": "markdown",
   "id": "e0ebdc57",
   "metadata": {
    "papermill": {
     "duration": 0.01928,
     "end_time": "2025-07-28T10:38:40.684839",
     "exception": false,
     "start_time": "2025-07-28T10:38:40.665559",
     "status": "completed"
    },
    "tags": []
   },
   "source": [
    "# Loading Data"
   ]
  },
  {
   "cell_type": "markdown",
   "id": "681925a3",
   "metadata": {
    "papermill": {
     "duration": 0.019189,
     "end_time": "2025-07-28T10:38:40.723006",
     "exception": false,
     "start_time": "2025-07-28T10:38:40.703817",
     "status": "completed"
    },
    "tags": []
   },
   "source": [
    "Load siab_train, siab_test, siab_calib and/or \n",
    "load siab_train_features, siab_train_labels"
   ]
  },
  {
   "cell_type": "code",
   "execution_count": 9,
   "id": "f0496b8a",
   "metadata": {
    "execution": {
     "iopub.execute_input": "2025-07-28T10:38:40.764015Z",
     "iopub.status.busy": "2025-07-28T10:38:40.762937Z",
     "iopub.status.idle": "2025-07-28T10:38:52.203678Z",
     "shell.execute_reply": "2025-07-28T10:38:52.202639Z"
    },
    "papermill": {
     "duration": 11.462941,
     "end_time": "2025-07-28T10:38:52.205266",
     "exception": false,
     "start_time": "2025-07-28T10:38:40.742325",
     "status": "completed"
    },
    "tags": []
   },
   "outputs": [
    {
     "name": "stdout",
     "output_type": "stream",
     "text": [
      "Loading SIAB data from cache: data/siab_cached.csv.gz\n"
     ]
    },
    {
     "name": "stdout",
     "output_type": "stream",
     "text": [
      "(643690, 164)\n"
     ]
    }
   ],
   "source": [
    "from pathlib import Path\n",
    "import pandas as pd\n",
    "\n",
    "# File paths\n",
    "raw_file = Path(\"data/raw/siab.csv\")\n",
    "cache_file = Path(\"data/siab_cached.csv.gz\")\n",
    "\n",
    "# Ensure cache directory exists\n",
    "cache_file.parent.mkdir(parents=True, exist_ok=True)\n",
    "\n",
    "# Load with simple caching\n",
    "if cache_file.exists():\n",
    "    print(f\"Loading SIAB data from cache: {cache_file}\")\n",
    "    siab = pd.read_csv(cache_file, compression='gzip')\n",
    "else:\n",
    "    print(f\"Cache not found. Reading raw SIAB data: {raw_file}\")\n",
    "    siab = pd.read_csv(raw_file)\n",
    "    siab.to_csv(cache_file, index=False, compression='gzip')\n",
    "    print(f\"Cached SIAB data to: {cache_file}\")\n",
    "\n",
    "# Now use `siab` DataFrame as needed\n",
    "print(siab.shape)"
   ]
  },
  {
   "cell_type": "code",
   "execution_count": 10,
   "id": "db0ca512-5f53-4dba-abdb-a2888bca41ba",
   "metadata": {
    "execution": {
     "iopub.execute_input": "2025-07-28T10:38:52.230701Z",
     "iopub.status.busy": "2025-07-28T10:38:52.230324Z",
     "iopub.status.idle": "2025-07-28T10:38:52.235030Z",
     "shell.execute_reply": "2025-07-28T10:38:52.234159Z"
    },
    "papermill": {
     "duration": 0.017544,
     "end_time": "2025-07-28T10:38:52.236420",
     "exception": false,
     "start_time": "2025-07-28T10:38:52.218876",
     "status": "completed"
    },
    "tags": []
   },
   "outputs": [],
   "source": [
    "#siab"
   ]
  },
  {
   "cell_type": "code",
   "execution_count": 11,
   "id": "a0edb063",
   "metadata": {
    "execution": {
     "iopub.execute_input": "2025-07-28T10:38:52.259048Z",
     "iopub.status.busy": "2025-07-28T10:38:52.258486Z",
     "iopub.status.idle": "2025-07-28T10:38:52.262646Z",
     "shell.execute_reply": "2025-07-28T10:38:52.261861Z"
    },
    "papermill": {
     "duration": 0.016966,
     "end_time": "2025-07-28T10:38:52.264196",
     "exception": false,
     "start_time": "2025-07-28T10:38:52.247230",
     "status": "completed"
    },
    "tags": []
   },
   "outputs": [],
   "source": [
    "#import pandas as pd\n",
    "#\n",
    "#X_train = pd.read_csv(\"./data/X_train.csv\")\n",
    "#y_train = pd.read_csv(\"./data/y_train.csv\")"
   ]
  },
  {
   "cell_type": "code",
   "execution_count": 12,
   "id": "63d08085",
   "metadata": {
    "execution": {
     "iopub.execute_input": "2025-07-28T10:38:52.287109Z",
     "iopub.status.busy": "2025-07-28T10:38:52.286518Z",
     "iopub.status.idle": "2025-07-28T10:38:52.290668Z",
     "shell.execute_reply": "2025-07-28T10:38:52.289887Z"
    },
    "papermill": {
     "duration": 0.016505,
     "end_time": "2025-07-28T10:38:52.291982",
     "exception": false,
     "start_time": "2025-07-28T10:38:52.275477",
     "status": "completed"
    },
    "tags": []
   },
   "outputs": [],
   "source": [
    "#X_test = pd.read_csv(\"./data/X_test.csv\")\n",
    "#y_true = pd.read_csv(\"./data/y_test.csv\")"
   ]
  },
  {
   "cell_type": "code",
   "execution_count": 13,
   "id": "98a8d0fa-1d3d-4ed8-bb2c-281470e24add",
   "metadata": {
    "execution": {
     "iopub.execute_input": "2025-07-28T10:38:52.314779Z",
     "iopub.status.busy": "2025-07-28T10:38:52.314209Z",
     "iopub.status.idle": "2025-07-28T10:38:52.318809Z",
     "shell.execute_reply": "2025-07-28T10:38:52.317971Z"
    },
    "papermill": {
     "duration": 0.017057,
     "end_time": "2025-07-28T10:38:52.320185",
     "exception": false,
     "start_time": "2025-07-28T10:38:52.303128",
     "status": "completed"
    },
    "tags": []
   },
   "outputs": [],
   "source": [
    "# Calibration data for conformal\n",
    "#X_calib = pd.read_csv(\"./data/X_calib.csv\")\n",
    "#y_calib = pd.read_csv(\"./data/y_calib.csv\")"
   ]
  },
  {
   "cell_type": "markdown",
   "id": "9901737e-04df-44f0-9100-f5ad144ed040",
   "metadata": {
    "papermill": {
     "duration": 0.010302,
     "end_time": "2025-07-28T10:38:52.341716",
     "exception": false,
     "start_time": "2025-07-28T10:38:52.331414",
     "status": "completed"
    },
    "tags": []
   },
   "source": [
    "# Splitting Data and Setting Training Data Size"
   ]
  },
  {
   "cell_type": "code",
   "execution_count": 14,
   "id": "acbc8f7d-8fc8-4e86-8c59-5dcb0f58384b",
   "metadata": {
    "execution": {
     "iopub.execute_input": "2025-07-28T10:38:52.364613Z",
     "iopub.status.busy": "2025-07-28T10:38:52.363737Z",
     "iopub.status.idle": "2025-07-28T10:38:52.370527Z",
     "shell.execute_reply": "2025-07-28T10:38:52.369750Z"
    },
    "papermill": {
     "duration": 0.019746,
     "end_time": "2025-07-28T10:38:52.371930",
     "exception": false,
     "start_time": "2025-07-28T10:38:52.352184",
     "status": "completed"
    },
    "tags": []
   },
   "outputs": [],
   "source": [
    "def sample_by_year(df, training_size, random_state=42):\n",
    "    if training_size == \"2014\":\n",
    "        return df[df[\"year\"] == 2014].reset_index(drop=True)\n",
    "    \n",
    "    size_map = {\n",
    "        \"25k\": 5000,\n",
    "        \"5k\": 1000,\n",
    "        \"1k\": 200\n",
    "    }\n",
    "\n",
    "    if training_size not in size_map:\n",
    "        return df.reset_index(drop=True)  # use all data\n",
    "\n",
    "    n_per_year = size_map[training_size]\n",
    "    grouped = df.groupby(\"year\")\n",
    "    sampled = grouped.apply(lambda x: x.sample(n=min(n_per_year, len(x)), random_state=random_state))\n",
    "    return sampled.reset_index(drop=True)"
   ]
  },
  {
   "cell_type": "code",
   "execution_count": 15,
   "id": "6d931f52-beaf-43ff-9e78-9d44a448d54e",
   "metadata": {
    "execution": {
     "iopub.execute_input": "2025-07-28T10:38:52.395095Z",
     "iopub.status.busy": "2025-07-28T10:38:52.394496Z",
     "iopub.status.idle": "2025-07-28T10:38:53.004444Z",
     "shell.execute_reply": "2025-07-28T10:38:53.003616Z"
    },
    "papermill": {
     "duration": 0.622678,
     "end_time": "2025-07-28T10:38:53.005994",
     "exception": false,
     "start_time": "2025-07-28T10:38:52.383316",
     "status": "completed"
    },
    "tags": []
   },
   "outputs": [],
   "source": [
    "siab_s = sample_by_year(siab, universe[\"training_size\"])"
   ]
  },
  {
   "cell_type": "code",
   "execution_count": 16,
   "id": "5db0a40e-a4e2-4920-be85-b12ae061d70d",
   "metadata": {
    "execution": {
     "iopub.execute_input": "2025-07-28T10:38:53.040801Z",
     "iopub.status.busy": "2025-07-28T10:38:53.040293Z",
     "iopub.status.idle": "2025-07-28T10:38:53.054917Z",
     "shell.execute_reply": "2025-07-28T10:38:53.054036Z"
    },
    "papermill": {
     "duration": 0.040128,
     "end_time": "2025-07-28T10:38:53.057333",
     "exception": false,
     "start_time": "2025-07-28T10:38:53.017205",
     "status": "completed"
    },
    "tags": []
   },
   "outputs": [
    {
     "data": {
      "text/plain": [
       "year\n",
       "2010    1000\n",
       "2011    1000\n",
       "2012    1000\n",
       "2013    1000\n",
       "2014    1000\n",
       "2015    1000\n",
       "2016    1000\n",
       "dtype: int64"
      ]
     },
     "metadata": {},
     "output_type": "display_data"
    }
   ],
   "source": [
    "display(siab_s.groupby(\"year\").size())"
   ]
  },
  {
   "cell_type": "code",
   "execution_count": 17,
   "id": "a561edb4-d032-42cb-8256-22eac1111c64",
   "metadata": {
    "execution": {
     "iopub.execute_input": "2025-07-28T10:38:53.104554Z",
     "iopub.status.busy": "2025-07-28T10:38:53.104154Z",
     "iopub.status.idle": "2025-07-28T10:38:53.363260Z",
     "shell.execute_reply": "2025-07-28T10:38:53.362139Z"
    },
    "papermill": {
     "duration": 0.285169,
     "end_time": "2025-07-28T10:38:53.365268",
     "exception": false,
     "start_time": "2025-07-28T10:38:53.080099",
     "status": "completed"
    },
    "tags": []
   },
   "outputs": [],
   "source": [
    "siab_train = siab_s[siab_s.year < 2015]\n",
    "siab_calib = siab[siab.year == 2015]\n",
    "siab_test = siab[siab.year == 2016]"
   ]
  },
  {
   "cell_type": "code",
   "execution_count": 18,
   "id": "472de16f-c3db-4916-846b-1f0de9cf1746",
   "metadata": {
    "execution": {
     "iopub.execute_input": "2025-07-28T10:38:53.406876Z",
     "iopub.status.busy": "2025-07-28T10:38:53.406337Z",
     "iopub.status.idle": "2025-07-28T10:38:53.415132Z",
     "shell.execute_reply": "2025-07-28T10:38:53.413985Z"
    },
    "papermill": {
     "duration": 0.031382,
     "end_time": "2025-07-28T10:38:53.416995",
     "exception": false,
     "start_time": "2025-07-28T10:38:53.385613",
     "status": "completed"
    },
    "tags": []
   },
   "outputs": [],
   "source": [
    "X_train = siab_train.iloc[:,4:164]\n",
    "y_train = siab_train.iloc[:, [3]]"
   ]
  },
  {
   "cell_type": "code",
   "execution_count": 19,
   "id": "828c96af-f43a-4ed6-ba47-8ac73a47d56c",
   "metadata": {
    "execution": {
     "iopub.execute_input": "2025-07-28T10:38:53.459820Z",
     "iopub.status.busy": "2025-07-28T10:38:53.458869Z",
     "iopub.status.idle": "2025-07-28T10:38:53.550845Z",
     "shell.execute_reply": "2025-07-28T10:38:53.549728Z"
    },
    "papermill": {
     "duration": 0.115149,
     "end_time": "2025-07-28T10:38:53.553211",
     "exception": false,
     "start_time": "2025-07-28T10:38:53.438062",
     "status": "completed"
    },
    "tags": []
   },
   "outputs": [],
   "source": [
    "X_calib = siab_calib.iloc[:,4:164]\n",
    "y_calib = siab_calib.iloc[:, [3]]"
   ]
  },
  {
   "cell_type": "code",
   "execution_count": 20,
   "id": "c34be9c3-6bd6-476e-acd3-845840e303be",
   "metadata": {
    "execution": {
     "iopub.execute_input": "2025-07-28T10:38:53.601882Z",
     "iopub.status.busy": "2025-07-28T10:38:53.601144Z",
     "iopub.status.idle": "2025-07-28T10:38:53.652060Z",
     "shell.execute_reply": "2025-07-28T10:38:53.651238Z"
    },
    "papermill": {
     "duration": 0.076962,
     "end_time": "2025-07-28T10:38:53.653639",
     "exception": false,
     "start_time": "2025-07-28T10:38:53.576677",
     "status": "completed"
    },
    "tags": []
   },
   "outputs": [],
   "source": [
    "X_test = siab_test.iloc[:,4:164]\n",
    "y_true = siab_test.iloc[:, [3]]"
   ]
  },
  {
   "cell_type": "code",
   "execution_count": 21,
   "id": "e6c733c5",
   "metadata": {
    "execution": {
     "iopub.execute_input": "2025-07-28T10:38:53.677924Z",
     "iopub.status.busy": "2025-07-28T10:38:53.677402Z",
     "iopub.status.idle": "2025-07-28T10:38:53.783310Z",
     "shell.execute_reply": "2025-07-28T10:38:53.782230Z"
    },
    "papermill": {
     "duration": 0.120058,
     "end_time": "2025-07-28T10:38:53.785446",
     "exception": false,
     "start_time": "2025-07-28T10:38:53.665388",
     "status": "completed"
    },
    "tags": []
   },
   "outputs": [],
   "source": [
    "# Auxiliary data needed downstream in the pipeline\n",
    "\n",
    "org_train = X_train.copy()\n",
    "org_test = X_test.copy()\n",
    "org_calib = X_calib.copy()"
   ]
  },
  {
   "cell_type": "markdown",
   "id": "0a4a1b33",
   "metadata": {
    "papermill": {
     "duration": 0.023532,
     "end_time": "2025-07-28T10:38:53.831217",
     "exception": false,
     "start_time": "2025-07-28T10:38:53.807685",
     "status": "completed"
    },
    "tags": []
   },
   "source": [
    "# Preprocessing Data"
   ]
  },
  {
   "cell_type": "code",
   "execution_count": 22,
   "id": "ca879031",
   "metadata": {
    "execution": {
     "iopub.execute_input": "2025-07-28T10:38:53.877897Z",
     "iopub.status.busy": "2025-07-28T10:38:53.877318Z",
     "iopub.status.idle": "2025-07-28T10:38:53.884984Z",
     "shell.execute_reply": "2025-07-28T10:38:53.883854Z"
    },
    "papermill": {
     "duration": 0.033515,
     "end_time": "2025-07-28T10:38:53.887081",
     "exception": false,
     "start_time": "2025-07-28T10:38:53.853566",
     "status": "completed"
    },
    "tags": []
   },
   "outputs": [],
   "source": [
    "# EXCLUDE PROTECTED FEATURES\n",
    "# ----------------------\n",
    "# \"exclude_features\": \"none\", # \"nationality\", \"sex\", \"nationality-sex\"\n",
    "\n",
    "excluded_features = universe[\"exclude_features\"].split(\"-\") # split, e.g.: \"nationality-sex\" -> [\"nationality\", \"sex\"]\n",
    "excluded_features_dictionary = {\n",
    "    \"nationality\": [\"maxdeutsch1\", \"maxdeutsch.Missing.\"],\n",
    "    \"sex\": [\"frau1\"],\n",
    "    \"age\": [\"age\"],\n",
    "}\n"
   ]
  },
  {
   "cell_type": "code",
   "execution_count": 23,
   "id": "b745ac60",
   "metadata": {
    "execution": {
     "iopub.execute_input": "2025-07-28T10:38:53.923982Z",
     "iopub.status.busy": "2025-07-28T10:38:53.923590Z",
     "iopub.status.idle": "2025-07-28T10:38:53.929703Z",
     "shell.execute_reply": "2025-07-28T10:38:53.928734Z"
    },
    "papermill": {
     "duration": 0.021467,
     "end_time": "2025-07-28T10:38:53.931670",
     "exception": false,
     "start_time": "2025-07-28T10:38:53.910203",
     "status": "completed"
    },
    "tags": []
   },
   "outputs": [],
   "source": [
    "# Code nice names to column names\n",
    "\n",
    "excluded_features_columns = [\n",
    "    excluded_features_dictionary[f] for f in excluded_features if len(f) > 0 and f != \"none\"\n",
    "]"
   ]
  },
  {
   "cell_type": "code",
   "execution_count": 24,
   "id": "f84f73a2",
   "metadata": {
    "execution": {
     "iopub.execute_input": "2025-07-28T10:38:53.976482Z",
     "iopub.status.busy": "2025-07-28T10:38:53.975488Z",
     "iopub.status.idle": "2025-07-28T10:38:53.981865Z",
     "shell.execute_reply": "2025-07-28T10:38:53.980970Z"
    },
    "papermill": {
     "duration": 0.029683,
     "end_time": "2025-07-28T10:38:53.983507",
     "exception": false,
     "start_time": "2025-07-28T10:38:53.953824",
     "status": "completed"
    },
    "tags": []
   },
   "outputs": [],
   "source": [
    "from utils import flatten_once\n",
    "\n",
    "excluded_features_columns = flatten_once(excluded_features_columns)"
   ]
  },
  {
   "cell_type": "code",
   "execution_count": 25,
   "id": "884dea22",
   "metadata": {
    "execution": {
     "iopub.execute_input": "2025-07-28T10:38:54.032528Z",
     "iopub.status.busy": "2025-07-28T10:38:54.031772Z",
     "iopub.status.idle": "2025-07-28T10:38:54.042094Z",
     "shell.execute_reply": "2025-07-28T10:38:54.041088Z"
    },
    "papermill": {
     "duration": 0.03838,
     "end_time": "2025-07-28T10:38:54.044597",
     "exception": false,
     "start_time": "2025-07-28T10:38:54.006217",
     "status": "completed"
    },
    "tags": []
   },
   "outputs": [
    {
     "name": "stdout",
     "output_type": "stream",
     "text": [
      "Dropping features: ['maxdeutsch1', 'maxdeutsch.Missing.', 'frau1']\n"
     ]
    }
   ],
   "source": [
    "if len(excluded_features_columns) > 0:\n",
    "    print(f\"Dropping features: {excluded_features_columns}\")\n",
    "    X_train.drop(excluded_features_columns, axis=1, inplace=True)"
   ]
  },
  {
   "cell_type": "code",
   "execution_count": 26,
   "id": "95ab8b16",
   "metadata": {
    "execution": {
     "iopub.execute_input": "2025-07-28T10:38:54.089329Z",
     "iopub.status.busy": "2025-07-28T10:38:54.088757Z",
     "iopub.status.idle": "2025-07-28T10:38:54.151466Z",
     "shell.execute_reply": "2025-07-28T10:38:54.150535Z"
    },
    "papermill": {
     "duration": 0.087074,
     "end_time": "2025-07-28T10:38:54.153335",
     "exception": false,
     "start_time": "2025-07-28T10:38:54.066261",
     "status": "completed"
    },
    "tags": []
   },
   "outputs": [
    {
     "name": "stdout",
     "output_type": "stream",
     "text": [
      "Dropping features: ['maxdeutsch1', 'maxdeutsch.Missing.', 'frau1']\n"
     ]
    }
   ],
   "source": [
    "if len(excluded_features_columns) > 0:\n",
    "    print(f\"Dropping features: {excluded_features_columns}\")\n",
    "    X_test.drop(excluded_features_columns, axis=1, inplace=True)"
   ]
  },
  {
   "cell_type": "code",
   "execution_count": 27,
   "id": "1853aaf5-fb9f-46cb-a2b5-8ea4ae2237e4",
   "metadata": {
    "execution": {
     "iopub.execute_input": "2025-07-28T10:38:54.198261Z",
     "iopub.status.busy": "2025-07-28T10:38:54.197423Z",
     "iopub.status.idle": "2025-07-28T10:38:54.253948Z",
     "shell.execute_reply": "2025-07-28T10:38:54.252890Z"
    },
    "papermill": {
     "duration": 0.08135,
     "end_time": "2025-07-28T10:38:54.255741",
     "exception": false,
     "start_time": "2025-07-28T10:38:54.174391",
     "status": "completed"
    },
    "tags": []
   },
   "outputs": [
    {
     "name": "stdout",
     "output_type": "stream",
     "text": [
      "Dropping features: ['maxdeutsch1', 'maxdeutsch.Missing.', 'frau1']\n"
     ]
    }
   ],
   "source": [
    "if len(excluded_features_columns) > 0:\n",
    "    print(f\"Dropping features: {excluded_features_columns}\")\n",
    "    X_calib.drop(excluded_features_columns, axis=1, inplace=True)"
   ]
  },
  {
   "cell_type": "code",
   "execution_count": 28,
   "id": "6727d079-03e5-481e-9d38-292a90b7a0a8",
   "metadata": {
    "execution": {
     "iopub.execute_input": "2025-07-28T10:38:54.302416Z",
     "iopub.status.busy": "2025-07-28T10:38:54.301883Z",
     "iopub.status.idle": "2025-07-28T10:38:54.307192Z",
     "shell.execute_reply": "2025-07-28T10:38:54.306187Z"
    },
    "papermill": {
     "duration": 0.030526,
     "end_time": "2025-07-28T10:38:54.309169",
     "exception": false,
     "start_time": "2025-07-28T10:38:54.278643",
     "status": "completed"
    },
    "tags": []
   },
   "outputs": [],
   "source": [
    "# SPLIT & STRATIFY DATA\n",
    "# ----------------------"
   ]
  },
  {
   "cell_type": "code",
   "execution_count": 29,
   "id": "76c4dc6d",
   "metadata": {
    "execution": {
     "iopub.execute_input": "2025-07-28T10:38:54.355982Z",
     "iopub.status.busy": "2025-07-28T10:38:54.355483Z",
     "iopub.status.idle": "2025-07-28T10:38:54.360792Z",
     "shell.execute_reply": "2025-07-28T10:38:54.359996Z"
    },
    "papermill": {
     "duration": 0.029556,
     "end_time": "2025-07-28T10:38:54.361934",
     "exception": false,
     "start_time": "2025-07-28T10:38:54.332378",
     "status": "completed"
    },
    "tags": []
   },
   "outputs": [],
   "source": [
    "# EXCLUDE CERTAIN SUBGROUPS\n",
    "# ----------------------\n",
    "\n",
    "mode = universe.get(\"exclude_subgroups\", \"keep-all\") \n",
    "# Fetches the exclude_subgroups setting from the universe dict.\n",
    "# Defaults to \"keep-all\" if the key is missing."
   ]
  },
  {
   "cell_type": "code",
   "execution_count": 30,
   "id": "21994072",
   "metadata": {
    "execution": {
     "iopub.execute_input": "2025-07-28T10:38:54.386161Z",
     "iopub.status.busy": "2025-07-28T10:38:54.385741Z",
     "iopub.status.idle": "2025-07-28T10:38:54.392593Z",
     "shell.execute_reply": "2025-07-28T10:38:54.391712Z"
    },
    "papermill": {
     "duration": 0.020309,
     "end_time": "2025-07-28T10:38:54.393819",
     "exception": false,
     "start_time": "2025-07-28T10:38:54.373510",
     "status": "completed"
    },
    "tags": []
   },
   "outputs": [],
   "source": [
    "if mode == \"keep-all\":\n",
    "    keep_mask = pd.Series(True, index=org_train.index)\n",
    "\n",
    "# org_train contains the original feature columns from features_org (in Simson)\n",
    "# features_org contains unprocessed features, for me X_train at beginning ???\n",
    "# For keep-all, creates a boolean Series (keep_mask) of all True, so no rows are removed.\n",
    "\n",
    "elif mode == \"drop-non-german\":\n",
    "    keep_mask = org_train[\"maxdeutsch1\"] == 1 # ??? what about missing values?\n",
    "\n",
    "else:\n",
    "    raise ValueError(f\"Unsupported mode for exclude_subgroups: {mode}\")\n"
   ]
  },
  {
   "cell_type": "code",
   "execution_count": 31,
   "id": "71651440",
   "metadata": {
    "execution": {
     "iopub.execute_input": "2025-07-28T10:38:54.418762Z",
     "iopub.status.busy": "2025-07-28T10:38:54.418150Z",
     "iopub.status.idle": "2025-07-28T10:38:54.424857Z",
     "shell.execute_reply": "2025-07-28T10:38:54.423753Z"
    },
    "papermill": {
     "duration": 0.021355,
     "end_time": "2025-07-28T10:38:54.426685",
     "exception": false,
     "start_time": "2025-07-28T10:38:54.405330",
     "status": "completed"
    },
    "tags": []
   },
   "outputs": [],
   "source": [
    "n_drop = (~keep_mask).sum() # Calculates how many rows are set to be dropped\n",
    "if n_drop > 0:\n",
    "    pct = n_drop / len(keep_mask) * 100\n",
    "    print(f\"Dropping {n_drop} rows ({pct:.2f}%) where mode='{mode}'\")"
   ]
  },
  {
   "cell_type": "code",
   "execution_count": 32,
   "id": "5fb8eee5",
   "metadata": {
    "execution": {
     "iopub.execute_input": "2025-07-28T10:38:54.474028Z",
     "iopub.status.busy": "2025-07-28T10:38:54.473509Z",
     "iopub.status.idle": "2025-07-28T10:38:54.482601Z",
     "shell.execute_reply": "2025-07-28T10:38:54.481478Z"
    },
    "papermill": {
     "duration": 0.035603,
     "end_time": "2025-07-28T10:38:54.484690",
     "exception": false,
     "start_time": "2025-07-28T10:38:54.449087",
     "status": "completed"
    },
    "tags": []
   },
   "outputs": [],
   "source": [
    "X_train = X_train[keep_mask]"
   ]
  },
  {
   "cell_type": "code",
   "execution_count": 33,
   "id": "b202bb3a",
   "metadata": {
    "execution": {
     "iopub.execute_input": "2025-07-28T10:38:54.525800Z",
     "iopub.status.busy": "2025-07-28T10:38:54.525384Z",
     "iopub.status.idle": "2025-07-28T10:38:54.531763Z",
     "shell.execute_reply": "2025-07-28T10:38:54.530835Z"
    },
    "papermill": {
     "duration": 0.024881,
     "end_time": "2025-07-28T10:38:54.533285",
     "exception": false,
     "start_time": "2025-07-28T10:38:54.508404",
     "status": "completed"
    },
    "tags": []
   },
   "outputs": [],
   "source": [
    "y_train = y_train[keep_mask]"
   ]
  },
  {
   "cell_type": "markdown",
   "id": "493e2ac3",
   "metadata": {
    "papermill": {
     "duration": 0.023525,
     "end_time": "2025-07-28T10:38:54.580675",
     "exception": false,
     "start_time": "2025-07-28T10:38:54.557150",
     "status": "completed"
    },
    "tags": []
   },
   "source": [
    "# Model Training"
   ]
  },
  {
   "cell_type": "code",
   "execution_count": 34,
   "id": "679e1268",
   "metadata": {
    "execution": {
     "iopub.execute_input": "2025-07-28T10:38:54.628451Z",
     "iopub.status.busy": "2025-07-28T10:38:54.627930Z",
     "iopub.status.idle": "2025-07-28T10:38:54.740641Z",
     "shell.execute_reply": "2025-07-28T10:38:54.739605Z"
    },
    "papermill": {
     "duration": 0.139505,
     "end_time": "2025-07-28T10:38:54.742661",
     "exception": false,
     "start_time": "2025-07-28T10:38:54.603156",
     "status": "completed"
    },
    "tags": []
   },
   "outputs": [],
   "source": [
    "from sklearn.linear_model import LogisticRegression\n",
    "from sklearn.ensemble import GradientBoostingClassifier, RandomForestClassifier\n",
    "\n",
    "if (universe[\"model\"] == \"logreg\"):\n",
    "    model = LogisticRegression() #penalty=\"none\") #, solver=\"newton-cg\", max_iter=1) # include random_state=19 ?\n",
    "elif (universe[\"model\"] == \"penalized_logreg\"):\n",
    "    model = LogisticRegression(penalty=\"l2\", C=1.0) #, solver=\"newton-cg\", max_iter=1)\n",
    "elif (universe[\"model\"] == \"rf\"):\n",
    "    model = RandomForestClassifier(n_estimators=100, n_jobs=-1)\n",
    "elif (universe[\"model\"] == \"gbm\"):\n",
    "    model = GradientBoostingClassifier()\n",
    "elif (universe[\"model\"] == \"elasticnet\"):\n",
    "    model = LogisticRegression(penalty = 'elasticnet', solver = 'saga', l1_ratio = 0.5, max_iter=5000) # which solver to use?\n",
    "else:\n",
    "    raise \"Unsupported universe.model\""
   ]
  },
  {
   "cell_type": "code",
   "execution_count": 35,
   "id": "0cc8f744",
   "metadata": {
    "execution": {
     "iopub.execute_input": "2025-07-28T10:38:54.791436Z",
     "iopub.status.busy": "2025-07-28T10:38:54.790884Z",
     "iopub.status.idle": "2025-07-28T10:38:54.797848Z",
     "shell.execute_reply": "2025-07-28T10:38:54.796769Z"
    },
    "papermill": {
     "duration": 0.03292,
     "end_time": "2025-07-28T10:38:54.799562",
     "exception": false,
     "start_time": "2025-07-28T10:38:54.766642",
     "status": "completed"
    },
    "tags": []
   },
   "outputs": [],
   "source": [
    "import numpy as np\n",
    "from sklearn.pipeline import Pipeline\n",
    "from sklearn.preprocessing import StandardScaler\n",
    "\n",
    "model = Pipeline([\n",
    "    #(\"continuous_processor\", continuous_processor),\n",
    "    #(\"categorical_preprocessor\", categorical_preprocessor),\n",
    "    (\"scale\", StandardScaler() if universe[\"scale\"] == \"scale\" else None), \n",
    "    (\"model\", model),\n",
    "])"
   ]
  },
  {
   "cell_type": "code",
   "execution_count": 36,
   "id": "9442c04d",
   "metadata": {
    "execution": {
     "iopub.execute_input": "2025-07-28T10:38:54.845712Z",
     "iopub.status.busy": "2025-07-28T10:38:54.845160Z",
     "iopub.status.idle": "2025-07-28T10:39:00.212647Z",
     "shell.execute_reply": "2025-07-28T10:39:00.211689Z"
    },
    "papermill": {
     "duration": 5.392823,
     "end_time": "2025-07-28T10:39:00.214439",
     "exception": false,
     "start_time": "2025-07-28T10:38:54.821616",
     "status": "completed"
    },
    "tags": []
   },
   "outputs": [
    {
     "data": {
      "text/html": [
       "<style>#sk-container-id-1 {color: black;background-color: white;}#sk-container-id-1 pre{padding: 0;}#sk-container-id-1 div.sk-toggleable {background-color: white;}#sk-container-id-1 label.sk-toggleable__label {cursor: pointer;display: block;width: 100%;margin-bottom: 0;padding: 0.3em;box-sizing: border-box;text-align: center;}#sk-container-id-1 label.sk-toggleable__label-arrow:before {content: \"▸\";float: left;margin-right: 0.25em;color: #696969;}#sk-container-id-1 label.sk-toggleable__label-arrow:hover:before {color: black;}#sk-container-id-1 div.sk-estimator:hover label.sk-toggleable__label-arrow:before {color: black;}#sk-container-id-1 div.sk-toggleable__content {max-height: 0;max-width: 0;overflow: hidden;text-align: left;background-color: #f0f8ff;}#sk-container-id-1 div.sk-toggleable__content pre {margin: 0.2em;color: black;border-radius: 0.25em;background-color: #f0f8ff;}#sk-container-id-1 input.sk-toggleable__control:checked~div.sk-toggleable__content {max-height: 200px;max-width: 100%;overflow: auto;}#sk-container-id-1 input.sk-toggleable__control:checked~label.sk-toggleable__label-arrow:before {content: \"▾\";}#sk-container-id-1 div.sk-estimator input.sk-toggleable__control:checked~label.sk-toggleable__label {background-color: #d4ebff;}#sk-container-id-1 div.sk-label input.sk-toggleable__control:checked~label.sk-toggleable__label {background-color: #d4ebff;}#sk-container-id-1 input.sk-hidden--visually {border: 0;clip: rect(1px 1px 1px 1px);clip: rect(1px, 1px, 1px, 1px);height: 1px;margin: -1px;overflow: hidden;padding: 0;position: absolute;width: 1px;}#sk-container-id-1 div.sk-estimator {font-family: monospace;background-color: #f0f8ff;border: 1px dotted black;border-radius: 0.25em;box-sizing: border-box;margin-bottom: 0.5em;}#sk-container-id-1 div.sk-estimator:hover {background-color: #d4ebff;}#sk-container-id-1 div.sk-parallel-item::after {content: \"\";width: 100%;border-bottom: 1px solid gray;flex-grow: 1;}#sk-container-id-1 div.sk-label:hover label.sk-toggleable__label {background-color: #d4ebff;}#sk-container-id-1 div.sk-serial::before {content: \"\";position: absolute;border-left: 1px solid gray;box-sizing: border-box;top: 0;bottom: 0;left: 50%;z-index: 0;}#sk-container-id-1 div.sk-serial {display: flex;flex-direction: column;align-items: center;background-color: white;padding-right: 0.2em;padding-left: 0.2em;position: relative;}#sk-container-id-1 div.sk-item {position: relative;z-index: 1;}#sk-container-id-1 div.sk-parallel {display: flex;align-items: stretch;justify-content: center;background-color: white;position: relative;}#sk-container-id-1 div.sk-item::before, #sk-container-id-1 div.sk-parallel-item::before {content: \"\";position: absolute;border-left: 1px solid gray;box-sizing: border-box;top: 0;bottom: 0;left: 50%;z-index: -1;}#sk-container-id-1 div.sk-parallel-item {display: flex;flex-direction: column;z-index: 1;position: relative;background-color: white;}#sk-container-id-1 div.sk-parallel-item:first-child::after {align-self: flex-end;width: 50%;}#sk-container-id-1 div.sk-parallel-item:last-child::after {align-self: flex-start;width: 50%;}#sk-container-id-1 div.sk-parallel-item:only-child::after {width: 0;}#sk-container-id-1 div.sk-dashed-wrapped {border: 1px dashed gray;margin: 0 0.4em 0.5em 0.4em;box-sizing: border-box;padding-bottom: 0.4em;background-color: white;}#sk-container-id-1 div.sk-label label {font-family: monospace;font-weight: bold;display: inline-block;line-height: 1.2em;}#sk-container-id-1 div.sk-label-container {text-align: center;}#sk-container-id-1 div.sk-container {/* jupyter's `normalize.less` sets `[hidden] { display: none; }` but bootstrap.min.css set `[hidden] { display: none !important; }` so we also need the `!important` here to be able to override the default hidden behavior on the sphinx rendered scikit-learn.org. See: https://github.com/scikit-learn/scikit-learn/issues/21755 */display: inline-block !important;position: relative;}#sk-container-id-1 div.sk-text-repr-fallback {display: none;}</style><div id=\"sk-container-id-1\" class=\"sk-top-container\"><div class=\"sk-text-repr-fallback\"><pre>Pipeline(steps=[(&#x27;scale&#x27;, None), (&#x27;model&#x27;, GradientBoostingClassifier())])</pre><b>In a Jupyter environment, please rerun this cell to show the HTML representation or trust the notebook. <br />On GitHub, the HTML representation is unable to render, please try loading this page with nbviewer.org.</b></div><div class=\"sk-container\" hidden><div class=\"sk-item sk-dashed-wrapped\"><div class=\"sk-label-container\"><div class=\"sk-label sk-toggleable\"><input class=\"sk-toggleable__control sk-hidden--visually\" id=\"sk-estimator-id-1\" type=\"checkbox\" ><label for=\"sk-estimator-id-1\" class=\"sk-toggleable__label sk-toggleable__label-arrow\">Pipeline</label><div class=\"sk-toggleable__content\"><pre>Pipeline(steps=[(&#x27;scale&#x27;, None), (&#x27;model&#x27;, GradientBoostingClassifier())])</pre></div></div></div><div class=\"sk-serial\"><div class=\"sk-item\"><div class=\"sk-estimator sk-toggleable\"><input class=\"sk-toggleable__control sk-hidden--visually\" id=\"sk-estimator-id-2\" type=\"checkbox\" ><label for=\"sk-estimator-id-2\" class=\"sk-toggleable__label sk-toggleable__label-arrow\">None</label><div class=\"sk-toggleable__content\"><pre>None</pre></div></div></div><div class=\"sk-item\"><div class=\"sk-estimator sk-toggleable\"><input class=\"sk-toggleable__control sk-hidden--visually\" id=\"sk-estimator-id-3\" type=\"checkbox\" ><label for=\"sk-estimator-id-3\" class=\"sk-toggleable__label sk-toggleable__label-arrow\">GradientBoostingClassifier</label><div class=\"sk-toggleable__content\"><pre>GradientBoostingClassifier()</pre></div></div></div></div></div></div></div>"
      ],
      "text/plain": [
       "Pipeline(steps=[('scale', None), ('model', GradientBoostingClassifier())])"
      ]
     },
     "execution_count": 36,
     "metadata": {},
     "output_type": "execute_result"
    }
   ],
   "source": [
    "model.fit(X_train, y_train.values.ravel())"
   ]
  },
  {
   "cell_type": "code",
   "execution_count": 37,
   "id": "af59f8c0",
   "metadata": {
    "execution": {
     "iopub.execute_input": "2025-07-28T10:39:00.262485Z",
     "iopub.status.busy": "2025-07-28T10:39:00.261989Z",
     "iopub.status.idle": "2025-07-28T10:39:00.267872Z",
     "shell.execute_reply": "2025-07-28T10:39:00.266862Z"
    },
    "papermill": {
     "duration": 0.031155,
     "end_time": "2025-07-28T10:39:00.269789",
     "exception": false,
     "start_time": "2025-07-28T10:39:00.238634",
     "status": "completed"
    },
    "tags": []
   },
   "outputs": [],
   "source": [
    "from fairness_multiverse.universe import predict_w_threshold"
   ]
  },
  {
   "cell_type": "code",
   "execution_count": 38,
   "id": "a7cf2e16",
   "metadata": {
    "execution": {
     "iopub.execute_input": "2025-07-28T10:39:00.319017Z",
     "iopub.status.busy": "2025-07-28T10:39:00.318304Z",
     "iopub.status.idle": "2025-07-28T10:39:01.055861Z",
     "shell.execute_reply": "2025-07-28T10:39:01.054925Z"
    },
    "papermill": {
     "duration": 0.764099,
     "end_time": "2025-07-28T10:39:01.057531",
     "exception": false,
     "start_time": "2025-07-28T10:39:00.293432",
     "status": "completed"
    },
    "tags": []
   },
   "outputs": [
    {
     "data": {
      "text/plain": [
       "0.8603946048378107"
      ]
     },
     "execution_count": 38,
     "metadata": {},
     "output_type": "execute_result"
    }
   ],
   "source": [
    "probs_test = model.predict_proba(X_test)\n",
    "\n",
    "'''\n",
    "Below code returns a boolean array (or binary 0/1 array depending on how it’s used) where each element \n",
    "is True if the probability of class 1 is greater than or equal to the threshold, and False otherwise.\n",
    "'''\n",
    "y_pred_default = predict_w_threshold(probs_test, 0.5)\n",
    "\n",
    "from sklearn.metrics import accuracy_score\n",
    "\n",
    "# Naive prediction\n",
    "accuracy_score(y_true = y_true, y_pred = y_pred_default)"
   ]
  },
  {
   "cell_type": "code",
   "execution_count": 39,
   "id": "081964c3",
   "metadata": {
    "execution": {
     "iopub.execute_input": "2025-07-28T10:39:01.118326Z",
     "iopub.status.busy": "2025-07-28T10:39:01.117793Z",
     "iopub.status.idle": "2025-07-28T10:39:01.769874Z",
     "shell.execute_reply": "2025-07-28T10:39:01.768841Z"
    },
    "papermill": {
     "duration": 0.679153,
     "end_time": "2025-07-28T10:39:01.771572",
     "exception": false,
     "start_time": "2025-07-28T10:39:01.092419",
     "status": "completed"
    },
    "tags": []
   },
   "outputs": [
    {
     "data": {
      "text/plain": [
       "array([0, 0, 0, ..., 0, 0, 0])"
      ]
     },
     "execution_count": 39,
     "metadata": {},
     "output_type": "execute_result"
    }
   ],
   "source": [
    "model.predict(X_test)"
   ]
  },
  {
   "cell_type": "markdown",
   "id": "56c9705b",
   "metadata": {
    "papermill": {
     "duration": 0.022877,
     "end_time": "2025-07-28T10:39:01.819099",
     "exception": false,
     "start_time": "2025-07-28T10:39:01.796222",
     "status": "completed"
    },
    "tags": []
   },
   "source": [
    "# Conformal Prediction"
   ]
  },
  {
   "cell_type": "code",
   "execution_count": 40,
   "id": "160ec6ff",
   "metadata": {
    "execution": {
     "iopub.execute_input": "2025-07-28T10:39:01.868200Z",
     "iopub.status.busy": "2025-07-28T10:39:01.867466Z",
     "iopub.status.idle": "2025-07-28T10:39:01.873186Z",
     "shell.execute_reply": "2025-07-28T10:39:01.872243Z"
    },
    "papermill": {
     "duration": 0.03248,
     "end_time": "2025-07-28T10:39:01.874920",
     "exception": false,
     "start_time": "2025-07-28T10:39:01.842440",
     "status": "completed"
    },
    "tags": []
   },
   "outputs": [],
   "source": [
    "# Miscoverage level for conformal prediction (10% allowed error rate => 90% target coverage)\n",
    "alpha = 0.1"
   ]
  },
  {
   "cell_type": "code",
   "execution_count": 41,
   "id": "eadf4555-3dd3-440e-8e35-f82a4ad9f855",
   "metadata": {
    "execution": {
     "iopub.execute_input": "2025-07-28T10:39:01.922297Z",
     "iopub.status.busy": "2025-07-28T10:39:01.921790Z",
     "iopub.status.idle": "2025-07-28T10:39:02.567976Z",
     "shell.execute_reply": "2025-07-28T10:39:02.566823Z"
    },
    "papermill": {
     "duration": 0.672454,
     "end_time": "2025-07-28T10:39:02.570347",
     "exception": false,
     "start_time": "2025-07-28T10:39:01.897893",
     "status": "completed"
    },
    "tags": []
   },
   "outputs": [],
   "source": [
    "probs_calib = model.predict_proba(X_calib)"
   ]
  },
  {
   "cell_type": "code",
   "execution_count": 42,
   "id": "2ed93547-6d5d-4983-9b36-1ecb300da49a",
   "metadata": {
    "execution": {
     "iopub.execute_input": "2025-07-28T10:39:02.614336Z",
     "iopub.status.busy": "2025-07-28T10:39:02.613858Z",
     "iopub.status.idle": "2025-07-28T10:39:02.620574Z",
     "shell.execute_reply": "2025-07-28T10:39:02.619363Z"
    },
    "papermill": {
     "duration": 0.024552,
     "end_time": "2025-07-28T10:39:02.622565",
     "exception": false,
     "start_time": "2025-07-28T10:39:02.598013",
     "status": "completed"
    },
    "tags": []
   },
   "outputs": [],
   "source": [
    "y_calib = y_calib.values.ravel().astype(int)"
   ]
  },
  {
   "cell_type": "code",
   "execution_count": 43,
   "id": "65d1320d-f588-4b38-9072-62af1ae97f7d",
   "metadata": {
    "execution": {
     "iopub.execute_input": "2025-07-28T10:39:02.673261Z",
     "iopub.status.busy": "2025-07-28T10:39:02.672501Z",
     "iopub.status.idle": "2025-07-28T10:39:02.680581Z",
     "shell.execute_reply": "2025-07-28T10:39:02.679526Z"
    },
    "papermill": {
     "duration": 0.034661,
     "end_time": "2025-07-28T10:39:02.682401",
     "exception": false,
     "start_time": "2025-07-28T10:39:02.647740",
     "status": "completed"
    },
    "tags": []
   },
   "outputs": [],
   "source": [
    "from fairness_multiverse.conformal import compute_nc_scores\n",
    "\n",
    "# Compute nonconformity scores on calibration set (1 - probability of true class)\n",
    "nc_scores = compute_nc_scores(probs_calib, y_calib)"
   ]
  },
  {
   "cell_type": "code",
   "execution_count": 44,
   "id": "df3b8ca3-53b7-43d5-9667-7c85da7aeda2",
   "metadata": {
    "execution": {
     "iopub.execute_input": "2025-07-28T10:39:02.738375Z",
     "iopub.status.busy": "2025-07-28T10:39:02.737616Z",
     "iopub.status.idle": "2025-07-28T10:39:02.745285Z",
     "shell.execute_reply": "2025-07-28T10:39:02.744178Z"
    },
    "papermill": {
     "duration": 0.038272,
     "end_time": "2025-07-28T10:39:02.747280",
     "exception": false,
     "start_time": "2025-07-28T10:39:02.709008",
     "status": "completed"
    },
    "tags": []
   },
   "outputs": [],
   "source": [
    "from fairness_multiverse.conformal import find_threshold\n",
    "\n",
    "# Find conformal threshold q_hat for the given alpha (split conformal method)\n",
    "q_hat = find_threshold(nc_scores, alpha)"
   ]
  },
  {
   "cell_type": "code",
   "execution_count": 45,
   "id": "4d29e6c1-0ef6-4aa4-b8fe-4fe79b0d033a",
   "metadata": {
    "execution": {
     "iopub.execute_input": "2025-07-28T10:39:02.798380Z",
     "iopub.status.busy": "2025-07-28T10:39:02.797662Z",
     "iopub.status.idle": "2025-07-28T10:39:02.805372Z",
     "shell.execute_reply": "2025-07-28T10:39:02.804489Z"
    },
    "papermill": {
     "duration": 0.034437,
     "end_time": "2025-07-28T10:39:02.806989",
     "exception": false,
     "start_time": "2025-07-28T10:39:02.772552",
     "status": "completed"
    },
    "tags": []
   },
   "outputs": [
    {
     "data": {
      "text/plain": [
       "0.6828491892277091"
      ]
     },
     "execution_count": 45,
     "metadata": {},
     "output_type": "execute_result"
    }
   ],
   "source": [
    "q_hat"
   ]
  },
  {
   "cell_type": "code",
   "execution_count": 46,
   "id": "92460794-cdac-4be2-ba28-f28c0515a6fb",
   "metadata": {
    "execution": {
     "iopub.execute_input": "2025-07-28T10:39:02.864091Z",
     "iopub.status.busy": "2025-07-28T10:39:02.863360Z",
     "iopub.status.idle": "2025-07-28T10:39:04.300561Z",
     "shell.execute_reply": "2025-07-28T10:39:04.299502Z"
    },
    "papermill": {
     "duration": 1.469105,
     "end_time": "2025-07-28T10:39:04.302663",
     "exception": false,
     "start_time": "2025-07-28T10:39:02.833558",
     "status": "completed"
    },
    "tags": []
   },
   "outputs": [],
   "source": [
    "from fairness_multiverse.conformal import predict_conformal_sets\n",
    "\n",
    "# Generate prediction sets for each test example\n",
    "pred_sets = predict_conformal_sets(model, X_test, q_hat)"
   ]
  },
  {
   "cell_type": "code",
   "execution_count": 47,
   "id": "d90c9a65-e6db-4f5d-80cd-e68fb7e46829",
   "metadata": {
    "execution": {
     "iopub.execute_input": "2025-07-28T10:39:04.355120Z",
     "iopub.status.busy": "2025-07-28T10:39:04.354568Z",
     "iopub.status.idle": "2025-07-28T10:39:04.360711Z",
     "shell.execute_reply": "2025-07-28T10:39:04.359519Z"
    },
    "papermill": {
     "duration": 0.034499,
     "end_time": "2025-07-28T10:39:04.362633",
     "exception": false,
     "start_time": "2025-07-28T10:39:04.328134",
     "status": "completed"
    },
    "tags": []
   },
   "outputs": [],
   "source": [
    "y_true = y_true.squeeze()"
   ]
  },
  {
   "cell_type": "code",
   "execution_count": 48,
   "id": "3a58a54a-1e68-46b9-927a-df01f18aebc8",
   "metadata": {
    "execution": {
     "iopub.execute_input": "2025-07-28T10:39:04.415029Z",
     "iopub.status.busy": "2025-07-28T10:39:04.414580Z",
     "iopub.status.idle": "2025-07-28T10:39:05.419816Z",
     "shell.execute_reply": "2025-07-28T10:39:05.418794Z"
    },
    "papermill": {
     "duration": 1.03344,
     "end_time": "2025-07-28T10:39:05.421955",
     "exception": false,
     "start_time": "2025-07-28T10:39:04.388515",
     "status": "completed"
    },
    "tags": []
   },
   "outputs": [],
   "source": [
    "from fairness_multiverse.conformal import evaluate_sets\n",
    "\n",
    "# Evaluate coverage and average set size on test data\n",
    "metrics = evaluate_sets(pred_sets, y_true)"
   ]
  },
  {
   "cell_type": "markdown",
   "id": "2b569c12-9aaa-4c88-98c9-bbcd0cf3ebb8",
   "metadata": {
    "papermill": {
     "duration": 0.025763,
     "end_time": "2025-07-28T10:39:05.472442",
     "exception": false,
     "start_time": "2025-07-28T10:39:05.446679",
     "status": "completed"
    },
    "tags": []
   },
   "source": [
    "# CP Metrics"
   ]
  },
  {
   "cell_type": "code",
   "execution_count": 49,
   "id": "5ce0a5cb-201f-45a0-ade5-94c7f0bd6095",
   "metadata": {
    "execution": {
     "iopub.execute_input": "2025-07-28T10:39:05.523189Z",
     "iopub.status.busy": "2025-07-28T10:39:05.522617Z",
     "iopub.status.idle": "2025-07-28T10:39:05.530960Z",
     "shell.execute_reply": "2025-07-28T10:39:05.529923Z"
    },
    "papermill": {
     "duration": 0.03573,
     "end_time": "2025-07-28T10:39:05.533482",
     "exception": false,
     "start_time": "2025-07-28T10:39:05.497752",
     "status": "completed"
    },
    "tags": []
   },
   "outputs": [
    {
     "data": {
      "text/plain": [
       "{'coverage': 0.911113588228737, 'avg_size': 1.13273882510311}"
      ]
     },
     "execution_count": 49,
     "metadata": {},
     "output_type": "execute_result"
    }
   ],
   "source": [
    "metrics"
   ]
  },
  {
   "cell_type": "code",
   "execution_count": 50,
   "id": "9b9a838d-31c9-430b-ae14-12baee460d17",
   "metadata": {
    "execution": {
     "iopub.execute_input": "2025-07-28T10:39:05.582291Z",
     "iopub.status.busy": "2025-07-28T10:39:05.581746Z",
     "iopub.status.idle": "2025-07-28T10:39:05.588585Z",
     "shell.execute_reply": "2025-07-28T10:39:05.587326Z"
    },
    "papermill": {
     "duration": 0.03264,
     "end_time": "2025-07-28T10:39:05.590308",
     "exception": false,
     "start_time": "2025-07-28T10:39:05.557668",
     "status": "completed"
    },
    "tags": []
   },
   "outputs": [],
   "source": [
    "example_universe = universe.copy()\n",
    "universe_training_size = example_universe.get(\"training_size\")\n",
    "universe_scale = example_universe.get(\"scale\")\n",
    "universe_model = example_universe.get(\"model\")\n",
    "universe_exclude_features = example_universe.get(\"exclude_features\")\n",
    "universe_exclude_subgroups = example_universe.get(\"exclude_subgroups\")"
   ]
  },
  {
   "cell_type": "code",
   "execution_count": 51,
   "id": "f4b6a8ac-9dc0-4245-8a91-5b3b5999c4f9",
   "metadata": {
    "execution": {
     "iopub.execute_input": "2025-07-28T10:39:05.639203Z",
     "iopub.status.busy": "2025-07-28T10:39:05.638241Z",
     "iopub.status.idle": "2025-07-28T10:39:05.645353Z",
     "shell.execute_reply": "2025-07-28T10:39:05.644362Z"
    },
    "papermill": {
     "duration": 0.039991,
     "end_time": "2025-07-28T10:39:05.654056",
     "exception": false,
     "start_time": "2025-07-28T10:39:05.614065",
     "status": "completed"
    },
    "tags": []
   },
   "outputs": [],
   "source": [
    "cp_metrics_dict = {\n",
    "    \"universe_id\": [universe_id],\n",
    "    \"universe_training_size\": [universe_training_size],\n",
    "    \"universe_scale\": [universe_scale],\n",
    "    \"universe_model\": [universe_model],\n",
    "    \"universe_exclude_features\": [universe_exclude_features],\n",
    "    \"universe_exclude_subgroups\": [universe_exclude_subgroups],\n",
    "    \"q_hat\": [q_hat],\n",
    "    \"coverage\": [metrics[\"coverage\"]],\n",
    "    \"avg_size\": [metrics[\"avg_size\"]],\n",
    "}"
   ]
  },
  {
   "cell_type": "code",
   "execution_count": 52,
   "id": "908acbb1-0371-4915-85ca-3fa520d2efe2",
   "metadata": {
    "execution": {
     "iopub.execute_input": "2025-07-28T10:39:05.710701Z",
     "iopub.status.busy": "2025-07-28T10:39:05.710202Z",
     "iopub.status.idle": "2025-07-28T10:39:05.717909Z",
     "shell.execute_reply": "2025-07-28T10:39:05.717013Z"
    },
    "papermill": {
     "duration": 0.033352,
     "end_time": "2025-07-28T10:39:05.719623",
     "exception": false,
     "start_time": "2025-07-28T10:39:05.686271",
     "status": "completed"
    },
    "tags": []
   },
   "outputs": [
    {
     "data": {
      "text/plain": [
       "{'universe_id': ['b95bc67e35b616e1d6b3bc75e2105f42'],\n",
       " 'universe_training_size': ['5k'],\n",
       " 'universe_scale': ['do-not-scale'],\n",
       " 'universe_model': ['gbm'],\n",
       " 'universe_exclude_features': ['nationality-sex'],\n",
       " 'universe_exclude_subgroups': ['keep-all'],\n",
       " 'q_hat': [0.6828491892277091],\n",
       " 'coverage': [0.911113588228737],\n",
       " 'avg_size': [1.13273882510311]}"
      ]
     },
     "execution_count": 52,
     "metadata": {},
     "output_type": "execute_result"
    }
   ],
   "source": [
    "cp_metrics_dict"
   ]
  },
  {
   "cell_type": "code",
   "execution_count": 53,
   "id": "33007efc-14e9-4ec6-97ac-56a455c82265",
   "metadata": {
    "execution": {
     "iopub.execute_input": "2025-07-28T10:39:05.771684Z",
     "iopub.status.busy": "2025-07-28T10:39:05.771142Z",
     "iopub.status.idle": "2025-07-28T10:39:05.778180Z",
     "shell.execute_reply": "2025-07-28T10:39:05.777193Z"
    },
    "papermill": {
     "duration": 0.034595,
     "end_time": "2025-07-28T10:39:05.779987",
     "exception": false,
     "start_time": "2025-07-28T10:39:05.745392",
     "status": "completed"
    },
    "tags": []
   },
   "outputs": [],
   "source": [
    "cp_metrics_df = pd.DataFrame(cp_metrics_dict)"
   ]
  },
  {
   "cell_type": "code",
   "execution_count": 54,
   "id": "db12611b-57b2-4910-b9d0-355adfd6e7bf",
   "metadata": {
    "execution": {
     "iopub.execute_input": "2025-07-28T10:39:05.832949Z",
     "iopub.status.busy": "2025-07-28T10:39:05.832387Z",
     "iopub.status.idle": "2025-07-28T10:39:05.852469Z",
     "shell.execute_reply": "2025-07-28T10:39:05.851374Z"
    },
    "papermill": {
     "duration": 0.047855,
     "end_time": "2025-07-28T10:39:05.854268",
     "exception": false,
     "start_time": "2025-07-28T10:39:05.806413",
     "status": "completed"
    },
    "tags": []
   },
   "outputs": [
    {
     "data": {
      "text/html": [
       "<div>\n",
       "<style scoped>\n",
       "    .dataframe tbody tr th:only-of-type {\n",
       "        vertical-align: middle;\n",
       "    }\n",
       "\n",
       "    .dataframe tbody tr th {\n",
       "        vertical-align: top;\n",
       "    }\n",
       "\n",
       "    .dataframe thead th {\n",
       "        text-align: right;\n",
       "    }\n",
       "</style>\n",
       "<table border=\"1\" class=\"dataframe\">\n",
       "  <thead>\n",
       "    <tr style=\"text-align: right;\">\n",
       "      <th></th>\n",
       "      <th>universe_id</th>\n",
       "      <th>universe_training_size</th>\n",
       "      <th>universe_scale</th>\n",
       "      <th>universe_model</th>\n",
       "      <th>universe_exclude_features</th>\n",
       "      <th>universe_exclude_subgroups</th>\n",
       "      <th>q_hat</th>\n",
       "      <th>coverage</th>\n",
       "      <th>avg_size</th>\n",
       "    </tr>\n",
       "  </thead>\n",
       "  <tbody>\n",
       "    <tr>\n",
       "      <th>0</th>\n",
       "      <td>b95bc67e35b616e1d6b3bc75e2105f42</td>\n",
       "      <td>5k</td>\n",
       "      <td>do-not-scale</td>\n",
       "      <td>gbm</td>\n",
       "      <td>nationality-sex</td>\n",
       "      <td>keep-all</td>\n",
       "      <td>0.682849</td>\n",
       "      <td>0.911114</td>\n",
       "      <td>1.132739</td>\n",
       "    </tr>\n",
       "  </tbody>\n",
       "</table>\n",
       "</div>"
      ],
      "text/plain": [
       "                        universe_id universe_training_size universe_scale  \\\n",
       "0  b95bc67e35b616e1d6b3bc75e2105f42                     5k   do-not-scale   \n",
       "\n",
       "  universe_model universe_exclude_features universe_exclude_subgroups  \\\n",
       "0            gbm           nationality-sex                   keep-all   \n",
       "\n",
       "      q_hat  coverage  avg_size  \n",
       "0  0.682849  0.911114  1.132739  "
      ]
     },
     "execution_count": 54,
     "metadata": {},
     "output_type": "execute_result"
    }
   ],
   "source": [
    "cp_metrics_df"
   ]
  },
  {
   "cell_type": "code",
   "execution_count": 55,
   "id": "b7fbde55-a0a1-47e4-9af6-fe4a17fa8c61",
   "metadata": {
    "execution": {
     "iopub.execute_input": "2025-07-28T10:39:05.909624Z",
     "iopub.status.busy": "2025-07-28T10:39:05.908649Z",
     "iopub.status.idle": "2025-07-28T10:39:05.914335Z",
     "shell.execute_reply": "2025-07-28T10:39:05.913406Z"
    },
    "papermill": {
     "duration": 0.035516,
     "end_time": "2025-07-28T10:39:05.916291",
     "exception": false,
     "start_time": "2025-07-28T10:39:05.880775",
     "status": "completed"
    },
    "tags": []
   },
   "outputs": [],
   "source": [
    "# Conditional Coverage & looking at subgroups"
   ]
  },
  {
   "cell_type": "code",
   "execution_count": 56,
   "id": "027ae886-68dd-4141-96c7-805a5450e1ef",
   "metadata": {
    "execution": {
     "iopub.execute_input": "2025-07-28T10:39:05.970821Z",
     "iopub.status.busy": "2025-07-28T10:39:05.970255Z",
     "iopub.status.idle": "2025-07-28T10:39:06.259695Z",
     "shell.execute_reply": "2025-07-28T10:39:06.258014Z"
    },
    "papermill": {
     "duration": 0.319006,
     "end_time": "2025-07-28T10:39:06.261632",
     "exception": false,
     "start_time": "2025-07-28T10:39:05.942626",
     "status": "completed"
    },
    "tags": []
   },
   "outputs": [],
   "source": [
    "from fairness_multiverse.conformal import build_cp_groups\n",
    "\n",
    "cp_groups_df = build_cp_groups(pred_sets, y_true, X_test.index, org_test)\n",
    "#needs universe_id and setting"
   ]
  },
  {
   "cell_type": "code",
   "execution_count": 57,
   "id": "01d5802c-663a-4d1f-9d69-e036faaffbf7",
   "metadata": {
    "execution": {
     "iopub.execute_input": "2025-07-28T10:39:06.314568Z",
     "iopub.status.busy": "2025-07-28T10:39:06.314184Z",
     "iopub.status.idle": "2025-07-28T10:39:06.319825Z",
     "shell.execute_reply": "2025-07-28T10:39:06.318788Z"
    },
    "papermill": {
     "duration": 0.033741,
     "end_time": "2025-07-28T10:39:06.321526",
     "exception": false,
     "start_time": "2025-07-28T10:39:06.287785",
     "status": "completed"
    },
    "tags": []
   },
   "outputs": [],
   "source": [
    "#delete\n",
    "#cp_groups_df"
   ]
  },
  {
   "cell_type": "code",
   "execution_count": 58,
   "id": "fa424af1-d1eb-443d-b717-2d279ada8408",
   "metadata": {
    "execution": {
     "iopub.execute_input": "2025-07-28T10:39:06.374073Z",
     "iopub.status.busy": "2025-07-28T10:39:06.373606Z",
     "iopub.status.idle": "2025-07-28T10:39:06.378851Z",
     "shell.execute_reply": "2025-07-28T10:39:06.377894Z"
    },
    "papermill": {
     "duration": 0.033937,
     "end_time": "2025-07-28T10:39:06.380762",
     "exception": false,
     "start_time": "2025-07-28T10:39:06.346825",
     "status": "completed"
    },
    "tags": []
   },
   "outputs": [],
   "source": [
    "#delete\n",
    "#percentage = (cp_groups_df['nongerman_female'] == 1).mean() * 100\n",
    "#print(percentage)\n"
   ]
  },
  {
   "cell_type": "code",
   "execution_count": 59,
   "id": "6cbdab96-b2b2-45af-ad54-d0516db2e28d",
   "metadata": {
    "execution": {
     "iopub.execute_input": "2025-07-28T10:39:06.433316Z",
     "iopub.status.busy": "2025-07-28T10:39:06.432842Z",
     "iopub.status.idle": "2025-07-28T10:39:08.259069Z",
     "shell.execute_reply": "2025-07-28T10:39:08.258052Z"
    },
    "papermill": {
     "duration": 1.855492,
     "end_time": "2025-07-28T10:39:08.261147",
     "exception": false,
     "start_time": "2025-07-28T10:39:06.405655",
     "status": "completed"
    },
    "tags": []
   },
   "outputs": [],
   "source": [
    "# Define covered = 1 if true_label is in the predicted set\n",
    "cp_groups_df['covered'] = cp_groups_df.apply(\n",
    "    lambda r: int(r['true_label'] in r['pred_set']),\n",
    "    axis=1\n",
    ")"
   ]
  },
  {
   "cell_type": "code",
   "execution_count": 60,
   "id": "338ff529-1a6b-4b87-a931-8e4788d52aad",
   "metadata": {
    "execution": {
     "iopub.execute_input": "2025-07-28T10:39:08.319115Z",
     "iopub.status.busy": "2025-07-28T10:39:08.318379Z",
     "iopub.status.idle": "2025-07-28T10:39:08.323953Z",
     "shell.execute_reply": "2025-07-28T10:39:08.322809Z"
    },
    "papermill": {
     "duration": 0.035253,
     "end_time": "2025-07-28T10:39:08.325698",
     "exception": false,
     "start_time": "2025-07-28T10:39:08.290445",
     "status": "completed"
    },
    "tags": []
   },
   "outputs": [],
   "source": [
    "#cp_groups_df"
   ]
  },
  {
   "cell_type": "code",
   "execution_count": 61,
   "id": "90032e27-66df-4540-9169-4e89cfbaa758",
   "metadata": {
    "execution": {
     "iopub.execute_input": "2025-07-28T10:39:08.382648Z",
     "iopub.status.busy": "2025-07-28T10:39:08.381773Z",
     "iopub.status.idle": "2025-07-28T10:39:08.394475Z",
     "shell.execute_reply": "2025-07-28T10:39:08.393397Z"
    },
    "papermill": {
     "duration": 0.043368,
     "end_time": "2025-07-28T10:39:08.396312",
     "exception": false,
     "start_time": "2025-07-28T10:39:08.352944",
     "status": "completed"
    },
    "tags": []
   },
   "outputs": [],
   "source": [
    "subgroups = ['frau1','nongerman','nongerman_male','nongerman_female']\n",
    "\n",
    "# Conditional coverage for subgroup==1\n",
    "cond_coverage = {\n",
    "    g: cp_groups_df.loc[cp_groups_df[g]==1, 'covered'].mean()\n",
    "    for g in subgroups\n",
    "}"
   ]
  },
  {
   "cell_type": "code",
   "execution_count": 62,
   "id": "1e348fb1-b9c3-45bc-ba23-f016827a7e0d",
   "metadata": {
    "execution": {
     "iopub.execute_input": "2025-07-28T10:39:08.451445Z",
     "iopub.status.busy": "2025-07-28T10:39:08.450868Z",
     "iopub.status.idle": "2025-07-28T10:39:08.459939Z",
     "shell.execute_reply": "2025-07-28T10:39:08.458847Z"
    },
    "papermill": {
     "duration": 0.038829,
     "end_time": "2025-07-28T10:39:08.461922",
     "exception": false,
     "start_time": "2025-07-28T10:39:08.423093",
     "status": "completed"
    },
    "tags": []
   },
   "outputs": [
    {
     "data": {
      "text/plain": [
       "{'frau1': 0.9113896751583771,\n",
       " 'nongerman': 0.9110761803177455,\n",
       " 'nongerman_male': 0.9256957579032694,\n",
       " 'nongerman_female': 0.8868852459016393}"
      ]
     },
     "execution_count": 62,
     "metadata": {},
     "output_type": "execute_result"
    }
   ],
   "source": [
    "cond_coverage"
   ]
  },
  {
   "cell_type": "code",
   "execution_count": 63,
   "id": "f5093324-c3dd-4d63-bc4c-8d945e5c8bbb",
   "metadata": {
    "execution": {
     "iopub.execute_input": "2025-07-28T10:39:08.517645Z",
     "iopub.status.busy": "2025-07-28T10:39:08.516959Z",
     "iopub.status.idle": "2025-07-28T10:39:08.526034Z",
     "shell.execute_reply": "2025-07-28T10:39:08.524941Z"
    },
    "papermill": {
     "duration": 0.038592,
     "end_time": "2025-07-28T10:39:08.527999",
     "exception": false,
     "start_time": "2025-07-28T10:39:08.489407",
     "status": "completed"
    },
    "tags": []
   },
   "outputs": [],
   "source": [
    "for subgroup, cov in cond_coverage.items():\n",
    "    cp_metrics_df[f\"cov_{subgroup}\"] = cov"
   ]
  },
  {
   "cell_type": "code",
   "execution_count": 64,
   "id": "6e872e10-dbe5-49e8-b554-5030c98ff75d",
   "metadata": {
    "execution": {
     "iopub.execute_input": "2025-07-28T10:39:08.585776Z",
     "iopub.status.busy": "2025-07-28T10:39:08.584926Z",
     "iopub.status.idle": "2025-07-28T10:39:08.609448Z",
     "shell.execute_reply": "2025-07-28T10:39:08.608168Z"
    },
    "papermill": {
     "duration": 0.054878,
     "end_time": "2025-07-28T10:39:08.611493",
     "exception": false,
     "start_time": "2025-07-28T10:39:08.556615",
     "status": "completed"
    },
    "tags": []
   },
   "outputs": [
    {
     "data": {
      "text/html": [
       "<div>\n",
       "<style scoped>\n",
       "    .dataframe tbody tr th:only-of-type {\n",
       "        vertical-align: middle;\n",
       "    }\n",
       "\n",
       "    .dataframe tbody tr th {\n",
       "        vertical-align: top;\n",
       "    }\n",
       "\n",
       "    .dataframe thead th {\n",
       "        text-align: right;\n",
       "    }\n",
       "</style>\n",
       "<table border=\"1\" class=\"dataframe\">\n",
       "  <thead>\n",
       "    <tr style=\"text-align: right;\">\n",
       "      <th></th>\n",
       "      <th>universe_id</th>\n",
       "      <th>universe_training_size</th>\n",
       "      <th>universe_scale</th>\n",
       "      <th>universe_model</th>\n",
       "      <th>universe_exclude_features</th>\n",
       "      <th>universe_exclude_subgroups</th>\n",
       "      <th>q_hat</th>\n",
       "      <th>coverage</th>\n",
       "      <th>avg_size</th>\n",
       "      <th>cov_frau1</th>\n",
       "      <th>cov_nongerman</th>\n",
       "      <th>cov_nongerman_male</th>\n",
       "      <th>cov_nongerman_female</th>\n",
       "    </tr>\n",
       "  </thead>\n",
       "  <tbody>\n",
       "    <tr>\n",
       "      <th>0</th>\n",
       "      <td>b95bc67e35b616e1d6b3bc75e2105f42</td>\n",
       "      <td>5k</td>\n",
       "      <td>do-not-scale</td>\n",
       "      <td>gbm</td>\n",
       "      <td>nationality-sex</td>\n",
       "      <td>keep-all</td>\n",
       "      <td>0.682849</td>\n",
       "      <td>0.911114</td>\n",
       "      <td>1.132739</td>\n",
       "      <td>0.91139</td>\n",
       "      <td>0.911076</td>\n",
       "      <td>0.925696</td>\n",
       "      <td>0.886885</td>\n",
       "    </tr>\n",
       "  </tbody>\n",
       "</table>\n",
       "</div>"
      ],
      "text/plain": [
       "                        universe_id universe_training_size universe_scale  \\\n",
       "0  b95bc67e35b616e1d6b3bc75e2105f42                     5k   do-not-scale   \n",
       "\n",
       "  universe_model universe_exclude_features universe_exclude_subgroups  \\\n",
       "0            gbm           nationality-sex                   keep-all   \n",
       "\n",
       "      q_hat  coverage  avg_size  cov_frau1  cov_nongerman  cov_nongerman_male  \\\n",
       "0  0.682849  0.911114  1.132739    0.91139       0.911076            0.925696   \n",
       "\n",
       "   cov_nongerman_female  \n",
       "0              0.886885  "
      ]
     },
     "execution_count": 64,
     "metadata": {},
     "output_type": "execute_result"
    }
   ],
   "source": [
    "cp_metrics_df"
   ]
  },
  {
   "cell_type": "markdown",
   "id": "33774451",
   "metadata": {
    "papermill": {
     "duration": 0.027269,
     "end_time": "2025-07-28T10:39:08.666305",
     "exception": false,
     "start_time": "2025-07-28T10:39:08.639036",
     "status": "completed"
    },
    "tags": []
   },
   "source": [
    "# (Fairness) Metrics"
   ]
  },
  {
   "cell_type": "code",
   "execution_count": 65,
   "id": "debc5d62",
   "metadata": {
    "execution": {
     "iopub.execute_input": "2025-07-28T10:39:08.724131Z",
     "iopub.status.busy": "2025-07-28T10:39:08.723382Z",
     "iopub.status.idle": "2025-07-28T10:39:08.747175Z",
     "shell.execute_reply": "2025-07-28T10:39:08.745933Z"
    },
    "papermill": {
     "duration": 0.054699,
     "end_time": "2025-07-28T10:39:08.749393",
     "exception": false,
     "start_time": "2025-07-28T10:39:08.694694",
     "status": "completed"
    },
    "tags": []
   },
   "outputs": [],
   "source": [
    "# do I need to include maxdeutsch1.missing?\n",
    "\n",
    "import numpy as np\n",
    "\n",
    "colname_to_bin = \"maxdeutsch1\"\n",
    "majority_value = org_train[colname_to_bin].mode()[0]\n",
    "\n",
    "org_test[\"majmin\"] = np.where(org_test[colname_to_bin] == majority_value, \"majority\", \"minority\")"
   ]
  },
  {
   "cell_type": "code",
   "execution_count": 66,
   "id": "06a50de5",
   "metadata": {
    "execution": {
     "iopub.execute_input": "2025-07-28T10:39:08.807909Z",
     "iopub.status.busy": "2025-07-28T10:39:08.807050Z",
     "iopub.status.idle": "2025-07-28T10:39:11.398679Z",
     "shell.execute_reply": "2025-07-28T10:39:11.397932Z"
    },
    "papermill": {
     "duration": 2.622229,
     "end_time": "2025-07-28T10:39:11.400313",
     "exception": false,
     "start_time": "2025-07-28T10:39:08.778084",
     "status": "completed"
    },
    "tags": []
   },
   "outputs": [],
   "source": [
    "example_universe = universe.copy()\n",
    "example_universe[\"cutoff\"] = example_universe[\"cutoff\"][0]\n",
    "example_universe[\"eval_fairness_grouping\"] = example_universe[\"eval_fairness_grouping\"][0]\n",
    "fairness_dict, metric_frame = universe_analysis.compute_metrics(\n",
    "    example_universe,\n",
    "    y_pred_prob=probs_test,\n",
    "    y_test=y_true,\n",
    "    org_test=org_test,\n",
    ")"
   ]
  },
  {
   "cell_type": "markdown",
   "id": "f95d4e02",
   "metadata": {
    "papermill": {
     "duration": 0.013678,
     "end_time": "2025-07-28T10:39:11.428208",
     "exception": false,
     "start_time": "2025-07-28T10:39:11.414530",
     "status": "completed"
    },
    "tags": []
   },
   "source": [
    "# Overall"
   ]
  },
  {
   "cell_type": "markdown",
   "id": "bdee4871",
   "metadata": {
    "papermill": {
     "duration": 0.014363,
     "end_time": "2025-07-28T10:39:11.460011",
     "exception": false,
     "start_time": "2025-07-28T10:39:11.445648",
     "status": "completed"
    },
    "tags": []
   },
   "source": [
    "Fairness\n",
    "Main fairness target: Equalized Odds. Seems to be a better fit than equal opportunity, since we're not only interested in Y = 1. Seems to be a better fit than demographic parity, since we also care about accuracy, not just equal distribution of preds.\n",
    "\n",
    "Pick column for computation of fairness metrics\n",
    "\n",
    "Performance\n",
    "Overall performance measures, most interesting in relation to the measures split by group below"
   ]
  },
  {
   "cell_type": "code",
   "execution_count": 67,
   "id": "c4e067c6",
   "metadata": {
    "execution": {
     "iopub.execute_input": "2025-07-28T10:39:11.494521Z",
     "iopub.status.busy": "2025-07-28T10:39:11.493557Z",
     "iopub.status.idle": "2025-07-28T10:39:11.503241Z",
     "shell.execute_reply": "2025-07-28T10:39:11.502248Z"
    },
    "papermill": {
     "duration": 0.030545,
     "end_time": "2025-07-28T10:39:11.505141",
     "exception": false,
     "start_time": "2025-07-28T10:39:11.474596",
     "status": "completed"
    },
    "tags": []
   },
   "outputs": [
    {
     "data": {
      "text/plain": [
       "accuracy                   0.224490\n",
       "balanced accuracy          0.549478\n",
       "f1                         0.246080\n",
       "precision                  0.140570\n",
       "false positive rate        0.887663\n",
       "false negative rate        0.013382\n",
       "selection rate             0.900357\n",
       "count                  89710.000000\n",
       "dtype: float64"
      ]
     },
     "execution_count": 67,
     "metadata": {},
     "output_type": "execute_result"
    }
   ],
   "source": [
    "metric_frame.overall"
   ]
  },
  {
   "cell_type": "markdown",
   "id": "e968fe9d",
   "metadata": {
    "papermill": {
     "duration": 0.028512,
     "end_time": "2025-07-28T10:39:11.562385",
     "exception": false,
     "start_time": "2025-07-28T10:39:11.533873",
     "status": "completed"
    },
    "tags": []
   },
   "source": [
    "By Group"
   ]
  },
  {
   "cell_type": "code",
   "execution_count": 68,
   "id": "ec325bce",
   "metadata": {
    "execution": {
     "iopub.execute_input": "2025-07-28T10:39:11.610070Z",
     "iopub.status.busy": "2025-07-28T10:39:11.609541Z",
     "iopub.status.idle": "2025-07-28T10:39:11.627176Z",
     "shell.execute_reply": "2025-07-28T10:39:11.626431Z"
    },
    "papermill": {
     "duration": 0.03779,
     "end_time": "2025-07-28T10:39:11.628669",
     "exception": false,
     "start_time": "2025-07-28T10:39:11.590879",
     "status": "completed"
    },
    "tags": []
   },
   "outputs": [
    {
     "data": {
      "text/html": [
       "<div>\n",
       "<style scoped>\n",
       "    .dataframe tbody tr th:only-of-type {\n",
       "        vertical-align: middle;\n",
       "    }\n",
       "\n",
       "    .dataframe tbody tr th {\n",
       "        vertical-align: top;\n",
       "    }\n",
       "\n",
       "    .dataframe thead th {\n",
       "        text-align: right;\n",
       "    }\n",
       "</style>\n",
       "<table border=\"1\" class=\"dataframe\">\n",
       "  <thead>\n",
       "    <tr style=\"text-align: right;\">\n",
       "      <th></th>\n",
       "      <th>accuracy</th>\n",
       "      <th>balanced accuracy</th>\n",
       "      <th>f1</th>\n",
       "      <th>precision</th>\n",
       "      <th>false positive rate</th>\n",
       "      <th>false negative rate</th>\n",
       "      <th>selection rate</th>\n",
       "      <th>count</th>\n",
       "    </tr>\n",
       "    <tr>\n",
       "      <th>majmin</th>\n",
       "      <th></th>\n",
       "      <th></th>\n",
       "      <th></th>\n",
       "      <th></th>\n",
       "      <th></th>\n",
       "      <th></th>\n",
       "      <th></th>\n",
       "      <th></th>\n",
       "    </tr>\n",
       "  </thead>\n",
       "  <tbody>\n",
       "    <tr>\n",
       "      <th>majority</th>\n",
       "      <td>0.243646</td>\n",
       "      <td>0.557936</td>\n",
       "      <td>0.256068</td>\n",
       "      <td>0.147160</td>\n",
       "      <td>0.869249</td>\n",
       "      <td>0.014880</td>\n",
       "      <td>0.884560</td>\n",
       "      <td>69170.0</td>\n",
       "    </tr>\n",
       "    <tr>\n",
       "      <th>minority</th>\n",
       "      <td>0.159981</td>\n",
       "      <td>0.521953</td>\n",
       "      <td>0.214084</td>\n",
       "      <td>0.119984</td>\n",
       "      <td>0.948492</td>\n",
       "      <td>0.007601</td>\n",
       "      <td>0.953554</td>\n",
       "      <td>20540.0</td>\n",
       "    </tr>\n",
       "  </tbody>\n",
       "</table>\n",
       "</div>"
      ],
      "text/plain": [
       "          accuracy  balanced accuracy        f1  precision  \\\n",
       "majmin                                                       \n",
       "majority  0.243646           0.557936  0.256068   0.147160   \n",
       "minority  0.159981           0.521953  0.214084   0.119984   \n",
       "\n",
       "          false positive rate  false negative rate  selection rate    count  \n",
       "majmin                                                                       \n",
       "majority             0.869249             0.014880        0.884560  69170.0  \n",
       "minority             0.948492             0.007601        0.953554  20540.0  "
      ]
     },
     "execution_count": 68,
     "metadata": {},
     "output_type": "execute_result"
    }
   ],
   "source": [
    "metric_frame.by_group"
   ]
  },
  {
   "cell_type": "code",
   "execution_count": 69,
   "id": "a9ddbe63",
   "metadata": {
    "execution": {
     "iopub.execute_input": "2025-07-28T10:39:11.683749Z",
     "iopub.status.busy": "2025-07-28T10:39:11.683217Z",
     "iopub.status.idle": "2025-07-28T10:39:14.283521Z",
     "shell.execute_reply": "2025-07-28T10:39:14.282531Z"
    },
    "papermill": {
     "duration": 2.63206,
     "end_time": "2025-07-28T10:39:14.285418",
     "exception": false,
     "start_time": "2025-07-28T10:39:11.653358",
     "status": "completed"
    },
    "tags": []
   },
   "outputs": [
    {
     "data": {
      "text/plain": [
       "array([[<Axes: title={'center': 'accuracy'}, xlabel='majmin'>,\n",
       "        <Axes: title={'center': 'balanced accuracy'}, xlabel='majmin'>,\n",
       "        <Axes: title={'center': 'f1'}, xlabel='majmin'>],\n",
       "       [<Axes: title={'center': 'precision'}, xlabel='majmin'>,\n",
       "        <Axes: title={'center': 'false positive rate'}, xlabel='majmin'>,\n",
       "        <Axes: title={'center': 'false negative rate'}, xlabel='majmin'>],\n",
       "       [<Axes: title={'center': 'selection rate'}, xlabel='majmin'>,\n",
       "        <Axes: title={'center': 'count'}, xlabel='majmin'>,\n",
       "        <Axes: xlabel='majmin'>]], dtype=object)"
      ]
     },
     "execution_count": 69,
     "metadata": {},
     "output_type": "execute_result"
    },
    {
     "data": {
      "image/png": "[encoded data removed]",
      "text/plain": [
       "<Figure size 1200x800 with 9 Axes>"
      ]
     },
     "metadata": {},
     "output_type": "display_data"
    }
   ],
   "source": [
    "# In a graphic\n",
    "metric_frame.by_group.plot.bar(\n",
    "    subplots=True,\n",
    "    layout=[3, 3],\n",
    "    legend=False,\n",
    "    figsize=[12, 8],\n",
    "    title=\"Show all metrics\",\n",
    ")"
   ]
  },
  {
   "cell_type": "markdown",
   "id": "f57a0bac",
   "metadata": {
    "papermill": {
     "duration": 0.029813,
     "end_time": "2025-07-28T10:39:14.347313",
     "exception": false,
     "start_time": "2025-07-28T10:39:14.317500",
     "status": "completed"
    },
    "tags": []
   },
   "source": [
    "# Final Output"
   ]
  },
  {
   "cell_type": "code",
   "execution_count": 70,
   "id": "96d280a3",
   "metadata": {
    "execution": {
     "iopub.execute_input": "2025-07-28T10:39:14.410390Z",
     "iopub.status.busy": "2025-07-28T10:39:14.409256Z",
     "iopub.status.idle": "2025-07-28T10:39:14.418414Z",
     "shell.execute_reply": "2025-07-28T10:39:14.417225Z"
    },
    "papermill": {
     "duration": 0.042999,
     "end_time": "2025-07-28T10:39:14.420305",
     "exception": false,
     "start_time": "2025-07-28T10:39:14.377306",
     "status": "completed"
    },
    "tags": []
   },
   "outputs": [
    {
     "data": {
      "text/plain": [
       "4"
      ]
     },
     "execution_count": 70,
     "metadata": {},
     "output_type": "execute_result"
    }
   ],
   "source": [
    "sub_universes = universe_analysis.generate_sub_universes()\n",
    "len(sub_universes)"
   ]
  },
  {
   "cell_type": "code",
   "execution_count": 71,
   "id": "92adf7ba",
   "metadata": {
    "execution": {
     "iopub.execute_input": "2025-07-28T10:39:14.484715Z",
     "iopub.status.busy": "2025-07-28T10:39:14.483938Z",
     "iopub.status.idle": "2025-07-28T10:39:14.490576Z",
     "shell.execute_reply": "2025-07-28T10:39:14.489465Z"
    },
    "papermill": {
     "duration": 0.041039,
     "end_time": "2025-07-28T10:39:14.492477",
     "exception": false,
     "start_time": "2025-07-28T10:39:14.451438",
     "status": "completed"
    },
    "tags": []
   },
   "outputs": [],
   "source": [
    "def filter_sub_universe_data(sub_universe, org_test):\n",
    "    # Keep all rows — no filtering\n",
    "    keep_rows_mask = np.ones(org_test.shape[0], dtype=bool)\n",
    "\n",
    "    print(f\"[INFO] Keeping all rows: {keep_rows_mask.sum()} rows retained.\")\n",
    "    return keep_rows_mask"
   ]
  },
  {
   "cell_type": "code",
   "execution_count": 72,
   "id": "4a759155",
   "metadata": {
    "execution": {
     "iopub.execute_input": "2025-07-28T10:39:14.554746Z",
     "iopub.status.busy": "2025-07-28T10:39:14.553948Z",
     "iopub.status.idle": "2025-07-28T10:39:25.592778Z",
     "shell.execute_reply": "2025-07-28T10:39:25.591661Z"
    },
    "papermill": {
     "duration": 11.071461,
     "end_time": "2025-07-28T10:39:25.594323",
     "exception": false,
     "start_time": "2025-07-28T10:39:14.522862",
     "status": "completed"
    },
    "tags": []
   },
   "outputs": [
    {
     "name": "stdout",
     "output_type": "stream",
     "text": [
      "Stopping execution_time clock.\n",
      "[INFO] Keeping all rows: 89710 rows retained.\n"
     ]
    },
    {
     "name": "stdout",
     "output_type": "stream",
     "text": [
      "[INFO] Keeping all rows: 89710 rows retained.\n"
     ]
    },
    {
     "name": "stdout",
     "output_type": "stream",
     "text": [
      "[INFO] Keeping all rows: 89710 rows retained.\n"
     ]
    },
    {
     "name": "stdout",
     "output_type": "stream",
     "text": [
      "[INFO] Keeping all rows: 89710 rows retained.\n"
     ]
    },
    {
     "data": {
      "text/html": [
       "<div>\n",
       "<style scoped>\n",
       "    .dataframe tbody tr th:only-of-type {\n",
       "        vertical-align: middle;\n",
       "    }\n",
       "\n",
       "    .dataframe tbody tr th {\n",
       "        vertical-align: top;\n",
       "    }\n",
       "\n",
       "    .dataframe thead th {\n",
       "        text-align: right;\n",
       "    }\n",
       "</style>\n",
       "<table border=\"1\" class=\"dataframe\">\n",
       "  <thead>\n",
       "    <tr style=\"text-align: right;\">\n",
       "      <th></th>\n",
       "      <th>run_no</th>\n",
       "      <th>universe_id</th>\n",
       "      <th>universe_settings</th>\n",
       "      <th>execution_time</th>\n",
       "      <th>test_size_n</th>\n",
       "      <th>test_size_frac</th>\n",
       "      <th>fair_main_equalized_odds_difference</th>\n",
       "      <th>fair_main_equalized_odds_ratio</th>\n",
       "      <th>fair_main_demographic_parity_difference</th>\n",
       "      <th>fair_main_demographic_parity_ratio</th>\n",
       "      <th>...</th>\n",
       "      <th>perf_grp_precision_0</th>\n",
       "      <th>perf_grp_precision_1</th>\n",
       "      <th>perf_grp_false positive rate_0</th>\n",
       "      <th>perf_grp_false positive rate_1</th>\n",
       "      <th>perf_grp_false negative rate_0</th>\n",
       "      <th>perf_grp_false negative rate_1</th>\n",
       "      <th>perf_grp_selection rate_0</th>\n",
       "      <th>perf_grp_selection rate_1</th>\n",
       "      <th>perf_grp_count_0</th>\n",
       "      <th>perf_grp_count_1</th>\n",
       "    </tr>\n",
       "  </thead>\n",
       "  <tbody>\n",
       "    <tr>\n",
       "      <th>0</th>\n",
       "      <td>11</td>\n",
       "      <td>b95bc67e35b616e1d6b3bc75e2105f42</td>\n",
       "      <td>{\"cutoff\": \"quantile_0.1\", \"eval_fairness_grou...</td>\n",
       "      <td>34.036795</td>\n",
       "      <td>89710</td>\n",
       "      <td>1.0</td>\n",
       "      <td>0.079243</td>\n",
       "      <td>0.916453</td>\n",
       "      <td>0.068994</td>\n",
       "      <td>0.927645</td>\n",
       "      <td>...</td>\n",
       "      <td>NaN</td>\n",
       "      <td>NaN</td>\n",
       "      <td>NaN</td>\n",
       "      <td>NaN</td>\n",
       "      <td>NaN</td>\n",
       "      <td>NaN</td>\n",
       "      <td>NaN</td>\n",
       "      <td>NaN</td>\n",
       "      <td>NaN</td>\n",
       "      <td>NaN</td>\n",
       "    </tr>\n",
       "    <tr>\n",
       "      <th>0</th>\n",
       "      <td>11</td>\n",
       "      <td>b95bc67e35b616e1d6b3bc75e2105f42</td>\n",
       "      <td>{\"cutoff\": \"quantile_0.1\", \"eval_fairness_grou...</td>\n",
       "      <td>34.036795</td>\n",
       "      <td>89710</td>\n",
       "      <td>1.0</td>\n",
       "      <td>0.079243</td>\n",
       "      <td>0.916453</td>\n",
       "      <td>0.068994</td>\n",
       "      <td>0.927645</td>\n",
       "      <td>...</td>\n",
       "      <td>0.119984</td>\n",
       "      <td>0.147160</td>\n",
       "      <td>0.948492</td>\n",
       "      <td>0.869249</td>\n",
       "      <td>0.007601</td>\n",
       "      <td>0.014880</td>\n",
       "      <td>0.953554</td>\n",
       "      <td>0.884560</td>\n",
       "      <td>20540.0</td>\n",
       "      <td>69170.0</td>\n",
       "    </tr>\n",
       "    <tr>\n",
       "      <th>0</th>\n",
       "      <td>11</td>\n",
       "      <td>b95bc67e35b616e1d6b3bc75e2105f42</td>\n",
       "      <td>{\"cutoff\": \"quantile_0.25\", \"eval_fairness_gro...</td>\n",
       "      <td>34.036795</td>\n",
       "      <td>89710</td>\n",
       "      <td>1.0</td>\n",
       "      <td>0.063530</td>\n",
       "      <td>0.917550</td>\n",
       "      <td>0.050016</td>\n",
       "      <td>0.936573</td>\n",
       "      <td>...</td>\n",
       "      <td>NaN</td>\n",
       "      <td>NaN</td>\n",
       "      <td>NaN</td>\n",
       "      <td>NaN</td>\n",
       "      <td>NaN</td>\n",
       "      <td>NaN</td>\n",
       "      <td>NaN</td>\n",
       "      <td>NaN</td>\n",
       "      <td>NaN</td>\n",
       "      <td>NaN</td>\n",
       "    </tr>\n",
       "    <tr>\n",
       "      <th>0</th>\n",
       "      <td>11</td>\n",
       "      <td>b95bc67e35b616e1d6b3bc75e2105f42</td>\n",
       "      <td>{\"cutoff\": \"quantile_0.25\", \"eval_fairness_gro...</td>\n",
       "      <td>34.036795</td>\n",
       "      <td>89710</td>\n",
       "      <td>1.0</td>\n",
       "      <td>0.063530</td>\n",
       "      <td>0.917550</td>\n",
       "      <td>0.050016</td>\n",
       "      <td>0.936573</td>\n",
       "      <td>...</td>\n",
       "      <td>0.135519</td>\n",
       "      <td>0.169208</td>\n",
       "      <td>0.770526</td>\n",
       "      <td>0.706997</td>\n",
       "      <td>0.073057</td>\n",
       "      <td>0.054267</td>\n",
       "      <td>0.788559</td>\n",
       "      <td>0.738543</td>\n",
       "      <td>20540.0</td>\n",
       "      <td>69170.0</td>\n",
       "    </tr>\n",
       "  </tbody>\n",
       "</table>\n",
       "<p>4 rows × 50 columns</p>\n",
       "</div>"
      ],
      "text/plain": [
       "  run_no                       universe_id  \\\n",
       "0     11  b95bc67e35b616e1d6b3bc75e2105f42   \n",
       "0     11  b95bc67e35b616e1d6b3bc75e2105f42   \n",
       "0     11  b95bc67e35b616e1d6b3bc75e2105f42   \n",
       "0     11  b95bc67e35b616e1d6b3bc75e2105f42   \n",
       "\n",
       "                                   universe_settings  execution_time  \\\n",
       "0  {\"cutoff\": \"quantile_0.1\", \"eval_fairness_grou...       34.036795   \n",
       "0  {\"cutoff\": \"quantile_0.1\", \"eval_fairness_grou...       34.036795   \n",
       "0  {\"cutoff\": \"quantile_0.25\", \"eval_fairness_gro...       34.036795   \n",
       "0  {\"cutoff\": \"quantile_0.25\", \"eval_fairness_gro...       34.036795   \n",
       "\n",
       "   test_size_n  test_size_frac  fair_main_equalized_odds_difference  \\\n",
       "0        89710             1.0                             0.079243   \n",
       "0        89710             1.0                             0.079243   \n",
       "0        89710             1.0                             0.063530   \n",
       "0        89710             1.0                             0.063530   \n",
       "\n",
       "   fair_main_equalized_odds_ratio  fair_main_demographic_parity_difference  \\\n",
       "0                        0.916453                                 0.068994   \n",
       "0                        0.916453                                 0.068994   \n",
       "0                        0.917550                                 0.050016   \n",
       "0                        0.917550                                 0.050016   \n",
       "\n",
       "   fair_main_demographic_parity_ratio  ...  perf_grp_precision_0  \\\n",
       "0                            0.927645  ...                   NaN   \n",
       "0                            0.927645  ...              0.119984   \n",
       "0                            0.936573  ...                   NaN   \n",
       "0                            0.936573  ...              0.135519   \n",
       "\n",
       "   perf_grp_precision_1  perf_grp_false positive rate_0  \\\n",
       "0                   NaN                             NaN   \n",
       "0              0.147160                        0.948492   \n",
       "0                   NaN                             NaN   \n",
       "0              0.169208                        0.770526   \n",
       "\n",
       "   perf_grp_false positive rate_1  perf_grp_false negative rate_0  \\\n",
       "0                             NaN                             NaN   \n",
       "0                        0.869249                        0.007601   \n",
       "0                             NaN                             NaN   \n",
       "0                        0.706997                        0.073057   \n",
       "\n",
       "   perf_grp_false negative rate_1  perf_grp_selection rate_0  \\\n",
       "0                             NaN                        NaN   \n",
       "0                        0.014880                   0.953554   \n",
       "0                             NaN                        NaN   \n",
       "0                        0.054267                   0.788559   \n",
       "\n",
       "   perf_grp_selection rate_1  perf_grp_count_0  perf_grp_count_1  \n",
       "0                        NaN               NaN               NaN  \n",
       "0                   0.884560           20540.0           69170.0  \n",
       "0                        NaN               NaN               NaN  \n",
       "0                   0.738543           20540.0           69170.0  \n",
       "\n",
       "[4 rows x 50 columns]"
      ]
     },
     "execution_count": 72,
     "metadata": {},
     "output_type": "execute_result"
    }
   ],
   "source": [
    "final_output = universe_analysis.generate_final_output(\n",
    "    y_pred_prob=probs_test,\n",
    "    y_test=y_true,\n",
    "    org_test=org_test,\n",
    "    filter_data=filter_sub_universe_data,\n",
    "    cp_metrics_df=cp_metrics_df,\n",
    "    save=True,\n",
    ")\n",
    "final_output"
   ]
  },
  {
   "cell_type": "code",
   "execution_count": null,
   "id": "721ff514-cb11-46f8-b6fc-50392f74b5cb",
   "metadata": {
    "papermill": {
     "duration": 0.029049,
     "end_time": "2025-07-28T10:39:25.656497",
     "exception": false,
     "start_time": "2025-07-28T10:39:25.627448",
     "status": "completed"
    },
    "tags": []
   },
   "outputs": [],
   "source": []
  }
 ],
 "metadata": {
  "celltoolbar": "Tags",
  "kernelspec": {
   "display_name": "Python (CMA Fairness)",
   "language": "python",
   "name": "cma_fair_env"
  },
  "language_info": {
   "codemirror_mode": {
    "name": "ipython",
    "version": 3
   },
   "file_extension": ".py",
   "mimetype": "text/x-python",
   "name": "python",
   "nbconvert_exporter": "python",
   "pygments_lexer": "ipython3",
   "version": "3.10.12"
  },
  "papermill": {
   "default_parameters": {},
   "duration": 49.720901,
   "end_time": "2025-07-28T10:39:26.505905",
   "environment_variables": {},
   "exception": null,
   "input_path": "universe_analysis.ipynb",
   "output_path": "output/runs/11/notebooks/m_11-b95bc67e35b616e1d6b3bc75e2105f42.ipynb",
   "parameters": {
    "output_dir": "output",
    "run_no": "11",
    "seed": "2023",
    "universe": "{\"cutoff\": [\"quantile_0.1\", \"quantile_0.25\"], \"eval_fairness_grouping\": [\"majority-minority\", \"nationality-all\"], \"exclude_features\": \"nationality-sex\", \"exclude_subgroups\": \"keep-all\", \"model\": \"gbm\", \"scale\": \"do-not-scale\", \"training_size\": \"5k\"}",
    "universe_id": "b95bc67e35b616e1d6b3bc75e2105f42"
   },
   "start_time": "2025-07-28T10:38:36.785004",
   "version": "2.6.0"
  }
 },
 "nbformat": 4,
 "nbformat_minor": 5
}