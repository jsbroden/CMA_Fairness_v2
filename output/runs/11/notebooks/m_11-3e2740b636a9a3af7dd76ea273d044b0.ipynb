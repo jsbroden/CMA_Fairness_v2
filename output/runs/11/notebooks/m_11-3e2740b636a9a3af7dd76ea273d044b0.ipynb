{
 "cells": [
  {
   "cell_type": "code",
   "execution_count": 1,
   "id": "f159f837-637b-42ba-96b5-ec9a68c44524",
   "metadata": {
    "execution": {
     "iopub.execute_input": "2025-07-28T10:47:50.173030Z",
     "iopub.status.busy": "2025-07-28T10:47:50.172359Z",
     "iopub.status.idle": "2025-07-28T10:47:50.186402Z",
     "shell.execute_reply": "2025-07-28T10:47:50.185339Z"
    },
    "papermill": {
     "duration": 0.035073,
     "end_time": "2025-07-28T10:47:50.188038",
     "exception": false,
     "start_time": "2025-07-28T10:47:50.152965",
     "status": "completed"
    },
    "tags": []
   },
   "outputs": [
    {
     "name": "stdout",
     "output_type": "stream",
     "text": [
      "/dss/dsshome1/0C/ra93lal2/cma/CMA_Fairness_v2\n"
     ]
    },
    {
     "name": "stderr",
     "output_type": "stream",
     "text": [
      "/dss/dsshome1/0C/ra93lal2/.local/share/virtualenvs/CMA_Fairness_v2-3j10GkSs/lib/python3.10/site-packages/IPython/core/magics/osm.py:393: UserWarning: This is now an optional IPython functionality, using bookmarks requires you to install the `pickleshare` library.\n",
      "  bkms = self.shell.db.get('bookmarks', {})\n",
      "/dss/dsshome1/0C/ra93lal2/.local/share/virtualenvs/CMA_Fairness_v2-3j10GkSs/lib/python3.10/site-packages/IPython/core/magics/osm.py:417: UserWarning: This is now an optional IPython functionality, setting dhist requires you to install the `pickleshare` library.\n",
      "  self.shell.db['dhist'] = compress_dhist(dhist)[-100:]\n"
     ]
    }
   ],
   "source": [
    "%cd ~/cma/CMA_Fairness_v2"
   ]
  },
  {
   "cell_type": "markdown",
   "id": "de2603b9",
   "metadata": {
    "papermill": {
     "duration": 0.018056,
     "end_time": "2025-07-28T10:47:50.224478",
     "exception": false,
     "start_time": "2025-07-28T10:47:50.206422",
     "status": "completed"
    },
    "tags": []
   },
   "source": [
    "The following cell holds the definition of our parameters, these values can be overriden by rendering the with e.g. the following command:\n",
    "\n",
    "papermill -p alpha 0.2 -p ratio 0.3 universe_analysis.ipynb output/test_run.ipynb"
   ]
  },
  {
   "cell_type": "code",
   "execution_count": 2,
   "id": "a80968a0-40bb-4fa9-85ef-2d5eefb01975",
   "metadata": {
    "execution": {
     "iopub.execute_input": "2025-07-28T10:47:50.265235Z",
     "iopub.status.busy": "2025-07-28T10:47:50.264523Z",
     "iopub.status.idle": "2025-07-28T10:47:50.270692Z",
     "shell.execute_reply": "2025-07-28T10:47:50.269864Z"
    },
    "papermill": {
     "duration": 0.02687,
     "end_time": "2025-07-28T10:47:50.272232",
     "exception": false,
     "start_time": "2025-07-28T10:47:50.245362",
     "status": "completed"
    },
    "tags": []
   },
   "outputs": [
    {
     "name": "stdout",
     "output_type": "stream",
     "text": [
      "Current working directory: /dss/dsshome1/0C/ra93lal2/cma/CMA_Fairness_v2\n"
     ]
    }
   ],
   "source": [
    "import os\n",
    "print(\"Current working directory:\", os.getcwd())"
   ]
  },
  {
   "cell_type": "code",
   "execution_count": 3,
   "id": "2dce4c03",
   "metadata": {
    "execution": {
     "iopub.execute_input": "2025-07-28T10:47:50.310802Z",
     "iopub.status.busy": "2025-07-28T10:47:50.310126Z",
     "iopub.status.idle": "2025-07-28T10:47:50.316449Z",
     "shell.execute_reply": "2025-07-28T10:47:50.315468Z"
    },
    "papermill": {
     "duration": 0.027305,
     "end_time": "2025-07-28T10:47:50.318077",
     "exception": false,
     "start_time": "2025-07-28T10:47:50.290772",
     "status": "completed"
    },
    "tags": [
     "parameters"
    ]
   },
   "outputs": [],
   "source": [
    "run_no = 0\n",
    "universe_id = \"test\"\n",
    "universe = {\n",
    "    \"training_size\": \"2014\", # \"25k\", \"5k\", \"1k\", \"2014\"\n",
    "    \"scale\": \"scale\", # \"scale\", \"do-not-scale\",\n",
    "    #\"stratify_split\": \"target\", # \"none\", \"target\", \"protected-attribute\", \"both\",\n",
    "    \"model\": \"elasticnet\", # \"logreg\", \"penalized_logreg\", \"rf\", \"gbm\", \"elasticnet\"\n",
    "    \"cutoff\": [\"quantile_0.15\", \"quantile_0.30\"],\n",
    "    \"exclude_features\": \"age\", # \"none\", \"nationality\", \"sex\", \"nationality-sex\", \"age\"\n",
    "    \"exclude_subgroups\": \"keep-all\", # \"keep-all\", \"drop-non-german\"\n",
    "    \"eval_fairness_grouping\": [\"majority-minority\", \"nationality-all\"]\n",
    "}\n",
    "\n",
    "output_dir=\"./output\"\n",
    "seed=0"
   ]
  },
  {
   "cell_type": "code",
   "execution_count": 4,
   "id": "0794ff40",
   "metadata": {
    "execution": {
     "iopub.execute_input": "2025-07-28T10:47:50.357311Z",
     "iopub.status.busy": "2025-07-28T10:47:50.356518Z",
     "iopub.status.idle": "2025-07-28T10:47:50.362388Z",
     "shell.execute_reply": "2025-07-28T10:47:50.361218Z"
    },
    "papermill": {
     "duration": 0.027445,
     "end_time": "2025-07-28T10:47:50.363904",
     "exception": false,
     "start_time": "2025-07-28T10:47:50.336459",
     "status": "completed"
    },
    "tags": [
     "injected-parameters"
    ]
   },
   "outputs": [],
   "source": [
    "# Parameters\n",
    "universe_id = \"3e2740b636a9a3af7dd76ea273d044b0\"\n",
    "run_no = \"11\"\n",
    "universe = \"{\\\"cutoff\\\": [\\\"quantile_0.1\\\", \\\"quantile_0.25\\\"], \\\"eval_fairness_grouping\\\": [\\\"majority-minority\\\", \\\"nationality-all\\\"], \\\"exclude_features\\\": \\\"sex\\\", \\\"exclude_subgroups\\\": \\\"drop-non-german\\\", \\\"model\\\": \\\"logreg\\\", \\\"scale\\\": \\\"do-not-scale\\\", \\\"training_size\\\": \\\"1k\\\"}\"\n",
    "output_dir = \"output\"\n",
    "seed = \"2023\"\n"
   ]
  },
  {
   "cell_type": "code",
   "execution_count": 5,
   "id": "1650acaf",
   "metadata": {
    "execution": {
     "iopub.execute_input": "2025-07-28T10:47:50.403758Z",
     "iopub.status.busy": "2025-07-28T10:47:50.402829Z",
     "iopub.status.idle": "2025-07-28T10:47:50.408504Z",
     "shell.execute_reply": "2025-07-28T10:47:50.407425Z"
    },
    "papermill": {
     "duration": 0.028375,
     "end_time": "2025-07-28T10:47:50.410955",
     "exception": false,
     "start_time": "2025-07-28T10:47:50.382580",
     "status": "completed"
    },
    "tags": []
   },
   "outputs": [],
   "source": [
    "import json\n",
    "# Parse universe into dict if it is passed as a string\n",
    "if isinstance(universe, str):\n",
    "    universe = json.loads(universe)"
   ]
  },
  {
   "cell_type": "code",
   "execution_count": 6,
   "id": "16620c48",
   "metadata": {
    "execution": {
     "iopub.execute_input": "2025-07-28T10:47:50.459956Z",
     "iopub.status.busy": "2025-07-28T10:47:50.459502Z",
     "iopub.status.idle": "2025-07-28T10:47:50.504904Z",
     "shell.execute_reply": "2025-07-28T10:47:50.503879Z"
    },
    "papermill": {
     "duration": 0.068554,
     "end_time": "2025-07-28T10:47:50.507180",
     "exception": false,
     "start_time": "2025-07-28T10:47:50.438626",
     "status": "completed"
    },
    "tags": []
   },
   "outputs": [],
   "source": [
    "# Auto-reload the custom package\n",
    "%load_ext autoreload\n",
    "%autoreload 1\n",
    "%aimport fairness_multiverse"
   ]
  },
  {
   "cell_type": "code",
   "execution_count": 7,
   "id": "01c5c9f3",
   "metadata": {
    "execution": {
     "iopub.execute_input": "2025-07-28T10:47:50.547082Z",
     "iopub.status.busy": "2025-07-28T10:47:50.546201Z",
     "iopub.status.idle": "2025-07-28T10:47:52.317591Z",
     "shell.execute_reply": "2025-07-28T10:47:52.316812Z"
    },
    "papermill": {
     "duration": 1.792688,
     "end_time": "2025-07-28T10:47:52.319150",
     "exception": false,
     "start_time": "2025-07-28T10:47:50.526462",
     "status": "completed"
    },
    "tags": []
   },
   "outputs": [],
   "source": [
    "from fairness_multiverse.universe import UniverseAnalysis\n",
    "\n",
    "universe_analysis = UniverseAnalysis(\n",
    "    run_no = run_no,\n",
    "    universe_id = universe_id,\n",
    "    universe = universe,\n",
    "    output_dir=output_dir,\n",
    ")"
   ]
  },
  {
   "cell_type": "code",
   "execution_count": 8,
   "id": "106241f5",
   "metadata": {
    "execution": {
     "iopub.execute_input": "2025-07-28T10:47:52.342116Z",
     "iopub.status.busy": "2025-07-28T10:47:52.341438Z",
     "iopub.status.idle": "2025-07-28T10:47:52.347378Z",
     "shell.execute_reply": "2025-07-28T10:47:52.346507Z"
    },
    "papermill": {
     "duration": 0.018933,
     "end_time": "2025-07-28T10:47:52.348859",
     "exception": false,
     "start_time": "2025-07-28T10:47:52.329926",
     "status": "completed"
    },
    "tags": []
   },
   "outputs": [
    {
     "name": "stdout",
     "output_type": "stream",
     "text": [
      "Using Seed: 2023\n"
     ]
    }
   ],
   "source": [
    "import numpy as np\n",
    "parsed_seed = int(seed)\n",
    "np.random.seed(parsed_seed)\n",
    "print(f\"Using Seed: {parsed_seed}\")"
   ]
  },
  {
   "cell_type": "markdown",
   "id": "e0ebdc57",
   "metadata": {
    "papermill": {
     "duration": 0.010638,
     "end_time": "2025-07-28T10:47:52.370626",
     "exception": false,
     "start_time": "2025-07-28T10:47:52.359988",
     "status": "completed"
    },
    "tags": []
   },
   "source": [
    "# Loading Data"
   ]
  },
  {
   "cell_type": "markdown",
   "id": "681925a3",
   "metadata": {
    "papermill": {
     "duration": 0.010213,
     "end_time": "2025-07-28T10:47:52.391227",
     "exception": false,
     "start_time": "2025-07-28T10:47:52.381014",
     "status": "completed"
    },
    "tags": []
   },
   "source": [
    "Load siab_train, siab_test, siab_calib and/or \n",
    "load siab_train_features, siab_train_labels"
   ]
  },
  {
   "cell_type": "code",
   "execution_count": 9,
   "id": "f0496b8a",
   "metadata": {
    "execution": {
     "iopub.execute_input": "2025-07-28T10:47:52.413505Z",
     "iopub.status.busy": "2025-07-28T10:47:52.412989Z",
     "iopub.status.idle": "2025-07-28T10:48:03.430269Z",
     "shell.execute_reply": "2025-07-28T10:48:03.429075Z"
    },
    "papermill": {
     "duration": 11.030433,
     "end_time": "2025-07-28T10:48:03.432119",
     "exception": false,
     "start_time": "2025-07-28T10:47:52.401686",
     "status": "completed"
    },
    "tags": []
   },
   "outputs": [
    {
     "name": "stdout",
     "output_type": "stream",
     "text": [
      "Loading SIAB data from cache: data/siab_cached.csv.gz\n"
     ]
    },
    {
     "name": "stdout",
     "output_type": "stream",
     "text": [
      "(643690, 164)\n"
     ]
    }
   ],
   "source": [
    "from pathlib import Path\n",
    "import pandas as pd\n",
    "\n",
    "# File paths\n",
    "raw_file = Path(\"data/raw/siab.csv\")\n",
    "cache_file = Path(\"data/siab_cached.csv.gz\")\n",
    "\n",
    "# Ensure cache directory exists\n",
    "cache_file.parent.mkdir(parents=True, exist_ok=True)\n",
    "\n",
    "# Load with simple caching\n",
    "if cache_file.exists():\n",
    "    print(f\"Loading SIAB data from cache: {cache_file}\")\n",
    "    siab = pd.read_csv(cache_file, compression='gzip')\n",
    "else:\n",
    "    print(f\"Cache not found. Reading raw SIAB data: {raw_file}\")\n",
    "    siab = pd.read_csv(raw_file)\n",
    "    siab.to_csv(cache_file, index=False, compression='gzip')\n",
    "    print(f\"Cached SIAB data to: {cache_file}\")\n",
    "\n",
    "# Now use `siab` DataFrame as needed\n",
    "print(siab.shape)"
   ]
  },
  {
   "cell_type": "code",
   "execution_count": 10,
   "id": "db0ca512-5f53-4dba-abdb-a2888bca41ba",
   "metadata": {
    "execution": {
     "iopub.execute_input": "2025-07-28T10:48:03.476384Z",
     "iopub.status.busy": "2025-07-28T10:48:03.475849Z",
     "iopub.status.idle": "2025-07-28T10:48:03.482169Z",
     "shell.execute_reply": "2025-07-28T10:48:03.481141Z"
    },
    "papermill": {
     "duration": 0.030192,
     "end_time": "2025-07-28T10:48:03.483924",
     "exception": false,
     "start_time": "2025-07-28T10:48:03.453732",
     "status": "completed"
    },
    "tags": []
   },
   "outputs": [],
   "source": [
    "#siab"
   ]
  },
  {
   "cell_type": "code",
   "execution_count": 11,
   "id": "a0edb063",
   "metadata": {
    "execution": {
     "iopub.execute_input": "2025-07-28T10:48:03.525881Z",
     "iopub.status.busy": "2025-07-28T10:48:03.524964Z",
     "iopub.status.idle": "2025-07-28T10:48:03.530695Z",
     "shell.execute_reply": "2025-07-28T10:48:03.529713Z"
    },
    "papermill": {
     "duration": 0.02853,
     "end_time": "2025-07-28T10:48:03.532623",
     "exception": false,
     "start_time": "2025-07-28T10:48:03.504093",
     "status": "completed"
    },
    "tags": []
   },
   "outputs": [],
   "source": [
    "#import pandas as pd\n",
    "#\n",
    "#X_train = pd.read_csv(\"./data/X_train.csv\")\n",
    "#y_train = pd.read_csv(\"./data/y_train.csv\")"
   ]
  },
  {
   "cell_type": "code",
   "execution_count": 12,
   "id": "63d08085",
   "metadata": {
    "execution": {
     "iopub.execute_input": "2025-07-28T10:48:03.574349Z",
     "iopub.status.busy": "2025-07-28T10:48:03.573272Z",
     "iopub.status.idle": "2025-07-28T10:48:03.578665Z",
     "shell.execute_reply": "2025-07-28T10:48:03.577672Z"
    },
    "papermill": {
     "duration": 0.027905,
     "end_time": "2025-07-28T10:48:03.580295",
     "exception": false,
     "start_time": "2025-07-28T10:48:03.552390",
     "status": "completed"
    },
    "tags": []
   },
   "outputs": [],
   "source": [
    "#X_test = pd.read_csv(\"./data/X_test.csv\")\n",
    "#y_true = pd.read_csv(\"./data/y_test.csv\")"
   ]
  },
  {
   "cell_type": "code",
   "execution_count": 13,
   "id": "98a8d0fa-1d3d-4ed8-bb2c-281470e24add",
   "metadata": {
    "execution": {
     "iopub.execute_input": "2025-07-28T10:48:03.622770Z",
     "iopub.status.busy": "2025-07-28T10:48:03.621754Z",
     "iopub.status.idle": "2025-07-28T10:48:03.627418Z",
     "shell.execute_reply": "2025-07-28T10:48:03.626495Z"
    },
    "papermill": {
     "duration": 0.028851,
     "end_time": "2025-07-28T10:48:03.628965",
     "exception": false,
     "start_time": "2025-07-28T10:48:03.600114",
     "status": "completed"
    },
    "tags": []
   },
   "outputs": [],
   "source": [
    "# Calibration data for conformal\n",
    "#X_calib = pd.read_csv(\"./data/X_calib.csv\")\n",
    "#y_calib = pd.read_csv(\"./data/y_calib.csv\")"
   ]
  },
  {
   "cell_type": "markdown",
   "id": "9901737e-04df-44f0-9100-f5ad144ed040",
   "metadata": {
    "papermill": {
     "duration": 0.018387,
     "end_time": "2025-07-28T10:48:03.666668",
     "exception": false,
     "start_time": "2025-07-28T10:48:03.648281",
     "status": "completed"
    },
    "tags": []
   },
   "source": [
    "# Splitting Data and Setting Training Data Size"
   ]
  },
  {
   "cell_type": "code",
   "execution_count": 14,
   "id": "acbc8f7d-8fc8-4e86-8c59-5dcb0f58384b",
   "metadata": {
    "execution": {
     "iopub.execute_input": "2025-07-28T10:48:03.707721Z",
     "iopub.status.busy": "2025-07-28T10:48:03.707142Z",
     "iopub.status.idle": "2025-07-28T10:48:03.715698Z",
     "shell.execute_reply": "2025-07-28T10:48:03.714747Z"
    },
    "papermill": {
     "duration": 0.030008,
     "end_time": "2025-07-28T10:48:03.717310",
     "exception": false,
     "start_time": "2025-07-28T10:48:03.687302",
     "status": "completed"
    },
    "tags": []
   },
   "outputs": [],
   "source": [
    "def sample_by_year(df, training_size, random_state=42):\n",
    "    if training_size == \"2014\":\n",
    "        return df[df[\"year\"] == 2014].reset_index(drop=True)\n",
    "    \n",
    "    size_map = {\n",
    "        \"25k\": 5000,\n",
    "        \"5k\": 1000,\n",
    "        \"1k\": 200\n",
    "    }\n",
    "\n",
    "    if training_size not in size_map:\n",
    "        return df.reset_index(drop=True)  # use all data\n",
    "\n",
    "    n_per_year = size_map[training_size]\n",
    "    grouped = df.groupby(\"year\")\n",
    "    sampled = grouped.apply(lambda x: x.sample(n=min(n_per_year, len(x)), random_state=random_state))\n",
    "    return sampled.reset_index(drop=True)"
   ]
  },
  {
   "cell_type": "code",
   "execution_count": 15,
   "id": "6d931f52-beaf-43ff-9e78-9d44a448d54e",
   "metadata": {
    "execution": {
     "iopub.execute_input": "2025-07-28T10:48:03.760240Z",
     "iopub.status.busy": "2025-07-28T10:48:03.759525Z",
     "iopub.status.idle": "2025-07-28T10:48:04.393505Z",
     "shell.execute_reply": "2025-07-28T10:48:04.392476Z"
    },
    "papermill": {
     "duration": 0.656493,
     "end_time": "2025-07-28T10:48:04.395648",
     "exception": false,
     "start_time": "2025-07-28T10:48:03.739155",
     "status": "completed"
    },
    "tags": []
   },
   "outputs": [],
   "source": [
    "siab_s = sample_by_year(siab, universe[\"training_size\"])"
   ]
  },
  {
   "cell_type": "code",
   "execution_count": 16,
   "id": "5db0a40e-a4e2-4920-be85-b12ae061d70d",
   "metadata": {
    "execution": {
     "iopub.execute_input": "2025-07-28T10:48:04.436495Z",
     "iopub.status.busy": "2025-07-28T10:48:04.435910Z",
     "iopub.status.idle": "2025-07-28T10:48:04.451045Z",
     "shell.execute_reply": "2025-07-28T10:48:04.449878Z"
    },
    "papermill": {
     "duration": 0.037151,
     "end_time": "2025-07-28T10:48:04.452987",
     "exception": false,
     "start_time": "2025-07-28T10:48:04.415836",
     "status": "completed"
    },
    "tags": []
   },
   "outputs": [
    {
     "data": {
      "text/plain": [
       "year\n",
       "2010    200\n",
       "2011    200\n",
       "2012    200\n",
       "2013    200\n",
       "2014    200\n",
       "2015    200\n",
       "2016    200\n",
       "dtype: int64"
      ]
     },
     "metadata": {},
     "output_type": "display_data"
    }
   ],
   "source": [
    "display(siab_s.groupby(\"year\").size())"
   ]
  },
  {
   "cell_type": "code",
   "execution_count": 17,
   "id": "a561edb4-d032-42cb-8256-22eac1111c64",
   "metadata": {
    "execution": {
     "iopub.execute_input": "2025-07-28T10:48:04.493283Z",
     "iopub.status.busy": "2025-07-28T10:48:04.492847Z",
     "iopub.status.idle": "2025-07-28T10:48:04.710621Z",
     "shell.execute_reply": "2025-07-28T10:48:04.708786Z"
    },
    "papermill": {
     "duration": 0.236604,
     "end_time": "2025-07-28T10:48:04.712286",
     "exception": false,
     "start_time": "2025-07-28T10:48:04.475682",
     "status": "completed"
    },
    "tags": []
   },
   "outputs": [],
   "source": [
    "siab_train = siab_s[siab_s.year < 2015]\n",
    "siab_calib = siab[siab.year == 2015]\n",
    "siab_test = siab[siab.year == 2016]"
   ]
  },
  {
   "cell_type": "code",
   "execution_count": 18,
   "id": "472de16f-c3db-4916-846b-1f0de9cf1746",
   "metadata": {
    "execution": {
     "iopub.execute_input": "2025-07-28T10:48:04.737495Z",
     "iopub.status.busy": "2025-07-28T10:48:04.737065Z",
     "iopub.status.idle": "2025-07-28T10:48:04.742357Z",
     "shell.execute_reply": "2025-07-28T10:48:04.741568Z"
    },
    "papermill": {
     "duration": 0.018024,
     "end_time": "2025-07-28T10:48:04.743720",
     "exception": false,
     "start_time": "2025-07-28T10:48:04.725696",
     "status": "completed"
    },
    "tags": []
   },
   "outputs": [],
   "source": [
    "X_train = siab_train.iloc[:,4:164]\n",
    "y_train = siab_train.iloc[:, [3]]"
   ]
  },
  {
   "cell_type": "code",
   "execution_count": 19,
   "id": "828c96af-f43a-4ed6-ba47-8ac73a47d56c",
   "metadata": {
    "execution": {
     "iopub.execute_input": "2025-07-28T10:48:04.766445Z",
     "iopub.status.busy": "2025-07-28T10:48:04.765909Z",
     "iopub.status.idle": "2025-07-28T10:48:04.819680Z",
     "shell.execute_reply": "2025-07-28T10:48:04.818592Z"
    },
    "papermill": {
     "duration": 0.066627,
     "end_time": "2025-07-28T10:48:04.821511",
     "exception": false,
     "start_time": "2025-07-28T10:48:04.754884",
     "status": "completed"
    },
    "tags": []
   },
   "outputs": [],
   "source": [
    "X_calib = siab_calib.iloc[:,4:164]\n",
    "y_calib = siab_calib.iloc[:, [3]]"
   ]
  },
  {
   "cell_type": "code",
   "execution_count": 20,
   "id": "c34be9c3-6bd6-476e-acd3-845840e303be",
   "metadata": {
    "execution": {
     "iopub.execute_input": "2025-07-28T10:48:04.867816Z",
     "iopub.status.busy": "2025-07-28T10:48:04.867413Z",
     "iopub.status.idle": "2025-07-28T10:48:04.920493Z",
     "shell.execute_reply": "2025-07-28T10:48:04.919617Z"
    },
    "papermill": {
     "duration": 0.076811,
     "end_time": "2025-07-28T10:48:04.921978",
     "exception": false,
     "start_time": "2025-07-28T10:48:04.845167",
     "status": "completed"
    },
    "tags": []
   },
   "outputs": [],
   "source": [
    "X_test = siab_test.iloc[:,4:164]\n",
    "y_true = siab_test.iloc[:, [3]]"
   ]
  },
  {
   "cell_type": "code",
   "execution_count": 21,
   "id": "e6c733c5",
   "metadata": {
    "execution": {
     "iopub.execute_input": "2025-07-28T10:48:04.945573Z",
     "iopub.status.busy": "2025-07-28T10:48:04.945064Z",
     "iopub.status.idle": "2025-07-28T10:48:05.046792Z",
     "shell.execute_reply": "2025-07-28T10:48:05.045688Z"
    },
    "papermill": {
     "duration": 0.11522,
     "end_time": "2025-07-28T10:48:05.048863",
     "exception": false,
     "start_time": "2025-07-28T10:48:04.933643",
     "status": "completed"
    },
    "tags": []
   },
   "outputs": [],
   "source": [
    "# Auxiliary data needed downstream in the pipeline\n",
    "\n",
    "org_train = X_train.copy()\n",
    "org_test = X_test.copy()\n",
    "org_calib = X_calib.copy()"
   ]
  },
  {
   "cell_type": "markdown",
   "id": "0a4a1b33",
   "metadata": {
    "papermill": {
     "duration": 0.021919,
     "end_time": "2025-07-28T10:48:05.092732",
     "exception": false,
     "start_time": "2025-07-28T10:48:05.070813",
     "status": "completed"
    },
    "tags": []
   },
   "source": [
    "# Preprocessing Data"
   ]
  },
  {
   "cell_type": "code",
   "execution_count": 22,
   "id": "ca879031",
   "metadata": {
    "execution": {
     "iopub.execute_input": "2025-07-28T10:48:05.139950Z",
     "iopub.status.busy": "2025-07-28T10:48:05.139501Z",
     "iopub.status.idle": "2025-07-28T10:48:05.146492Z",
     "shell.execute_reply": "2025-07-28T10:48:05.145502Z"
    },
    "papermill": {
     "duration": 0.0331,
     "end_time": "2025-07-28T10:48:05.148390",
     "exception": false,
     "start_time": "2025-07-28T10:48:05.115290",
     "status": "completed"
    },
    "tags": []
   },
   "outputs": [],
   "source": [
    "# EXCLUDE PROTECTED FEATURES\n",
    "# ----------------------\n",
    "# \"exclude_features\": \"none\", # \"nationality\", \"sex\", \"nationality-sex\"\n",
    "\n",
    "excluded_features = universe[\"exclude_features\"].split(\"-\") # split, e.g.: \"nationality-sex\" -> [\"nationality\", \"sex\"]\n",
    "excluded_features_dictionary = {\n",
    "    \"nationality\": [\"maxdeutsch1\", \"maxdeutsch.Missing.\"],\n",
    "    \"sex\": [\"frau1\"],\n",
    "    \"age\": [\"age\"],\n",
    "}\n"
   ]
  },
  {
   "cell_type": "code",
   "execution_count": 23,
   "id": "b745ac60",
   "metadata": {
    "execution": {
     "iopub.execute_input": "2025-07-28T10:48:05.192766Z",
     "iopub.status.busy": "2025-07-28T10:48:05.192194Z",
     "iopub.status.idle": "2025-07-28T10:48:05.199256Z",
     "shell.execute_reply": "2025-07-28T10:48:05.198274Z"
    },
    "papermill": {
     "duration": 0.030664,
     "end_time": "2025-07-28T10:48:05.201123",
     "exception": false,
     "start_time": "2025-07-28T10:48:05.170459",
     "status": "completed"
    },
    "tags": []
   },
   "outputs": [],
   "source": [
    "# Code nice names to column names\n",
    "\n",
    "excluded_features_columns = [\n",
    "    excluded_features_dictionary[f] for f in excluded_features if len(f) > 0 and f != \"none\"\n",
    "]"
   ]
  },
  {
   "cell_type": "code",
   "execution_count": 24,
   "id": "f84f73a2",
   "metadata": {
    "execution": {
     "iopub.execute_input": "2025-07-28T10:48:05.252756Z",
     "iopub.status.busy": "2025-07-28T10:48:05.252208Z",
     "iopub.status.idle": "2025-07-28T10:48:05.259193Z",
     "shell.execute_reply": "2025-07-28T10:48:05.258230Z"
    },
    "papermill": {
     "duration": 0.036061,
     "end_time": "2025-07-28T10:48:05.261052",
     "exception": false,
     "start_time": "2025-07-28T10:48:05.224991",
     "status": "completed"
    },
    "tags": []
   },
   "outputs": [],
   "source": [
    "from utils import flatten_once\n",
    "\n",
    "excluded_features_columns = flatten_once(excluded_features_columns)"
   ]
  },
  {
   "cell_type": "code",
   "execution_count": 25,
   "id": "884dea22",
   "metadata": {
    "execution": {
     "iopub.execute_input": "2025-07-28T10:48:05.308889Z",
     "iopub.status.busy": "2025-07-28T10:48:05.308224Z",
     "iopub.status.idle": "2025-07-28T10:48:05.316634Z",
     "shell.execute_reply": "2025-07-28T10:48:05.315673Z"
    },
    "papermill": {
     "duration": 0.034203,
     "end_time": "2025-07-28T10:48:05.318437",
     "exception": false,
     "start_time": "2025-07-28T10:48:05.284234",
     "status": "completed"
    },
    "tags": []
   },
   "outputs": [
    {
     "name": "stdout",
     "output_type": "stream",
     "text": [
      "Dropping features: ['frau1']\n"
     ]
    }
   ],
   "source": [
    "if len(excluded_features_columns) > 0:\n",
    "    print(f\"Dropping features: {excluded_features_columns}\")\n",
    "    X_train.drop(excluded_features_columns, axis=1, inplace=True)"
   ]
  },
  {
   "cell_type": "code",
   "execution_count": 26,
   "id": "95ab8b16",
   "metadata": {
    "execution": {
     "iopub.execute_input": "2025-07-28T10:48:05.366814Z",
     "iopub.status.busy": "2025-07-28T10:48:05.365902Z",
     "iopub.status.idle": "2025-07-28T10:48:05.424752Z",
     "shell.execute_reply": "2025-07-28T10:48:05.423683Z"
    },
    "papermill": {
     "duration": 0.085194,
     "end_time": "2025-07-28T10:48:05.426768",
     "exception": false,
     "start_time": "2025-07-28T10:48:05.341574",
     "status": "completed"
    },
    "tags": []
   },
   "outputs": [
    {
     "name": "stdout",
     "output_type": "stream",
     "text": [
      "Dropping features: ['frau1']\n"
     ]
    }
   ],
   "source": [
    "if len(excluded_features_columns) > 0:\n",
    "    print(f\"Dropping features: {excluded_features_columns}\")\n",
    "    X_test.drop(excluded_features_columns, axis=1, inplace=True)"
   ]
  },
  {
   "cell_type": "code",
   "execution_count": 27,
   "id": "1853aaf5-fb9f-46cb-a2b5-8ea4ae2237e4",
   "metadata": {
    "execution": {
     "iopub.execute_input": "2025-07-28T10:48:05.475139Z",
     "iopub.status.busy": "2025-07-28T10:48:05.474528Z",
     "iopub.status.idle": "2025-07-28T10:48:05.530678Z",
     "shell.execute_reply": "2025-07-28T10:48:05.529653Z"
    },
    "papermill": {
     "duration": 0.082336,
     "end_time": "2025-07-28T10:48:05.532822",
     "exception": false,
     "start_time": "2025-07-28T10:48:05.450486",
     "status": "completed"
    },
    "tags": []
   },
   "outputs": [
    {
     "name": "stdout",
     "output_type": "stream",
     "text": [
      "Dropping features: ['frau1']\n"
     ]
    }
   ],
   "source": [
    "if len(excluded_features_columns) > 0:\n",
    "    print(f\"Dropping features: {excluded_features_columns}\")\n",
    "    X_calib.drop(excluded_features_columns, axis=1, inplace=True)"
   ]
  },
  {
   "cell_type": "code",
   "execution_count": 28,
   "id": "6727d079-03e5-481e-9d38-292a90b7a0a8",
   "metadata": {
    "execution": {
     "iopub.execute_input": "2025-07-28T10:48:05.580711Z",
     "iopub.status.busy": "2025-07-28T10:48:05.579718Z",
     "iopub.status.idle": "2025-07-28T10:48:05.585139Z",
     "shell.execute_reply": "2025-07-28T10:48:05.584067Z"
    },
    "papermill": {
     "duration": 0.03267,
     "end_time": "2025-07-28T10:48:05.588877",
     "exception": false,
     "start_time": "2025-07-28T10:48:05.556207",
     "status": "completed"
    },
    "tags": []
   },
   "outputs": [],
   "source": [
    "# SPLIT & STRATIFY DATA\n",
    "# ----------------------"
   ]
  },
  {
   "cell_type": "code",
   "execution_count": 29,
   "id": "76c4dc6d",
   "metadata": {
    "execution": {
     "iopub.execute_input": "2025-07-28T10:48:05.637117Z",
     "iopub.status.busy": "2025-07-28T10:48:05.636590Z",
     "iopub.status.idle": "2025-07-28T10:48:05.642593Z",
     "shell.execute_reply": "2025-07-28T10:48:05.641588Z"
    },
    "papermill": {
     "duration": 0.033123,
     "end_time": "2025-07-28T10:48:05.644891",
     "exception": false,
     "start_time": "2025-07-28T10:48:05.611768",
     "status": "completed"
    },
    "tags": []
   },
   "outputs": [],
   "source": [
    "# EXCLUDE CERTAIN SUBGROUPS\n",
    "# ----------------------\n",
    "\n",
    "mode = universe.get(\"exclude_subgroups\", \"keep-all\") \n",
    "# Fetches the exclude_subgroups setting from the universe dict.\n",
    "# Defaults to \"keep-all\" if the key is missing."
   ]
  },
  {
   "cell_type": "code",
   "execution_count": 30,
   "id": "21994072",
   "metadata": {
    "execution": {
     "iopub.execute_input": "2025-07-28T10:48:05.688441Z",
     "iopub.status.busy": "2025-07-28T10:48:05.687883Z",
     "iopub.status.idle": "2025-07-28T10:48:05.695449Z",
     "shell.execute_reply": "2025-07-28T10:48:05.694333Z"
    },
    "papermill": {
     "duration": 0.031557,
     "end_time": "2025-07-28T10:48:05.697297",
     "exception": false,
     "start_time": "2025-07-28T10:48:05.665740",
     "status": "completed"
    },
    "tags": []
   },
   "outputs": [],
   "source": [
    "if mode == \"keep-all\":\n",
    "    keep_mask = pd.Series(True, index=org_train.index)\n",
    "\n",
    "# org_train contains the original feature columns from features_org (in Simson)\n",
    "# features_org contains unprocessed features, for me X_train at beginning ???\n",
    "# For keep-all, creates a boolean Series (keep_mask) of all True, so no rows are removed.\n",
    "\n",
    "elif mode == \"drop-non-german\":\n",
    "    keep_mask = org_train[\"maxdeutsch1\"] == 1 # ??? what about missing values?\n",
    "\n",
    "else:\n",
    "    raise ValueError(f\"Unsupported mode for exclude_subgroups: {mode}\")\n"
   ]
  },
  {
   "cell_type": "code",
   "execution_count": 31,
   "id": "71651440",
   "metadata": {
    "execution": {
     "iopub.execute_input": "2025-07-28T10:48:05.738319Z",
     "iopub.status.busy": "2025-07-28T10:48:05.737872Z",
     "iopub.status.idle": "2025-07-28T10:48:05.745043Z",
     "shell.execute_reply": "2025-07-28T10:48:05.744231Z"
    },
    "papermill": {
     "duration": 0.028785,
     "end_time": "2025-07-28T10:48:05.746782",
     "exception": false,
     "start_time": "2025-07-28T10:48:05.717997",
     "status": "completed"
    },
    "tags": []
   },
   "outputs": [
    {
     "name": "stdout",
     "output_type": "stream",
     "text": [
      "Dropping 131 rows (13.10%) where mode='drop-non-german'\n"
     ]
    }
   ],
   "source": [
    "n_drop = (~keep_mask).sum() # Calculates how many rows are set to be dropped\n",
    "if n_drop > 0:\n",
    "    pct = n_drop / len(keep_mask) * 100\n",
    "    print(f\"Dropping {n_drop} rows ({pct:.2f}%) where mode='{mode}'\")"
   ]
  },
  {
   "cell_type": "code",
   "execution_count": 32,
   "id": "5fb8eee5",
   "metadata": {
    "execution": {
     "iopub.execute_input": "2025-07-28T10:48:05.793671Z",
     "iopub.status.busy": "2025-07-28T10:48:05.793173Z",
     "iopub.status.idle": "2025-07-28T10:48:05.799590Z",
     "shell.execute_reply": "2025-07-28T10:48:05.798523Z"
    },
    "papermill": {
     "duration": 0.031817,
     "end_time": "2025-07-28T10:48:05.801347",
     "exception": false,
     "start_time": "2025-07-28T10:48:05.769530",
     "status": "completed"
    },
    "tags": []
   },
   "outputs": [],
   "source": [
    "X_train = X_train[keep_mask]"
   ]
  },
  {
   "cell_type": "code",
   "execution_count": 33,
   "id": "b202bb3a",
   "metadata": {
    "execution": {
     "iopub.execute_input": "2025-07-28T10:48:05.847339Z",
     "iopub.status.busy": "2025-07-28T10:48:05.846893Z",
     "iopub.status.idle": "2025-07-28T10:48:05.853247Z",
     "shell.execute_reply": "2025-07-28T10:48:05.852182Z"
    },
    "papermill": {
     "duration": 0.030641,
     "end_time": "2025-07-28T10:48:05.855153",
     "exception": false,
     "start_time": "2025-07-28T10:48:05.824512",
     "status": "completed"
    },
    "tags": []
   },
   "outputs": [],
   "source": [
    "y_train = y_train[keep_mask]"
   ]
  },
  {
   "cell_type": "markdown",
   "id": "493e2ac3",
   "metadata": {
    "papermill": {
     "duration": 0.022218,
     "end_time": "2025-07-28T10:48:05.901879",
     "exception": false,
     "start_time": "2025-07-28T10:48:05.879661",
     "status": "completed"
    },
    "tags": []
   },
   "source": [
    "# Model Training"
   ]
  },
  {
   "cell_type": "code",
   "execution_count": 34,
   "id": "679e1268",
   "metadata": {
    "execution": {
     "iopub.execute_input": "2025-07-28T10:48:05.948765Z",
     "iopub.status.busy": "2025-07-28T10:48:05.947919Z",
     "iopub.status.idle": "2025-07-28T10:48:06.061499Z",
     "shell.execute_reply": "2025-07-28T10:48:06.060406Z"
    },
    "papermill": {
     "duration": 0.140115,
     "end_time": "2025-07-28T10:48:06.063640",
     "exception": false,
     "start_time": "2025-07-28T10:48:05.923525",
     "status": "completed"
    },
    "tags": []
   },
   "outputs": [],
   "source": [
    "from sklearn.linear_model import LogisticRegression\n",
    "from sklearn.ensemble import GradientBoostingClassifier, RandomForestClassifier\n",
    "\n",
    "if (universe[\"model\"] == \"logreg\"):\n",
    "    model = LogisticRegression() #penalty=\"none\") #, solver=\"newton-cg\", max_iter=1) # include random_state=19 ?\n",
    "elif (universe[\"model\"] == \"penalized_logreg\"):\n",
    "    model = LogisticRegression(penalty=\"l2\", C=1.0) #, solver=\"newton-cg\", max_iter=1)\n",
    "elif (universe[\"model\"] == \"rf\"):\n",
    "    model = RandomForestClassifier(n_estimators=100, n_jobs=-1)\n",
    "elif (universe[\"model\"] == \"gbm\"):\n",
    "    model = GradientBoostingClassifier()\n",
    "elif (universe[\"model\"] == \"elasticnet\"):\n",
    "    model = LogisticRegression(penalty = 'elasticnet', solver = 'saga', l1_ratio = 0.5, max_iter=5000) # which solver to use?\n",
    "else:\n",
    "    raise \"Unsupported universe.model\""
   ]
  },
  {
   "cell_type": "code",
   "execution_count": 35,
   "id": "0cc8f744",
   "metadata": {
    "execution": {
     "iopub.execute_input": "2025-07-28T10:48:06.112691Z",
     "iopub.status.busy": "2025-07-28T10:48:06.112121Z",
     "iopub.status.idle": "2025-07-28T10:48:06.118510Z",
     "shell.execute_reply": "2025-07-28T10:48:06.117814Z"
    },
    "papermill": {
     "duration": 0.032437,
     "end_time": "2025-07-28T10:48:06.119975",
     "exception": false,
     "start_time": "2025-07-28T10:48:06.087538",
     "status": "completed"
    },
    "tags": []
   },
   "outputs": [],
   "source": [
    "import numpy as np\n",
    "from sklearn.pipeline import Pipeline\n",
    "from sklearn.preprocessing import StandardScaler\n",
    "\n",
    "model = Pipeline([\n",
    "    #(\"continuous_processor\", continuous_processor),\n",
    "    #(\"categorical_preprocessor\", categorical_preprocessor),\n",
    "    (\"scale\", StandardScaler() if universe[\"scale\"] == \"scale\" else None), \n",
    "    (\"model\", model),\n",
    "])"
   ]
  },
  {
   "cell_type": "code",
   "execution_count": 36,
   "id": "9442c04d",
   "metadata": {
    "execution": {
     "iopub.execute_input": "2025-07-28T10:48:06.147311Z",
     "iopub.status.busy": "2025-07-28T10:48:06.146902Z",
     "iopub.status.idle": "2025-07-28T10:48:06.197281Z",
     "shell.execute_reply": "2025-07-28T10:48:06.196210Z"
    },
    "papermill": {
     "duration": 0.064466,
     "end_time": "2025-07-28T10:48:06.198985",
     "exception": false,
     "start_time": "2025-07-28T10:48:06.134519",
     "status": "completed"
    },
    "tags": []
   },
   "outputs": [
    {
     "name": "stderr",
     "output_type": "stream",
     "text": [
      "/dss/dsshome1/0C/ra93lal2/.local/share/virtualenvs/CMA_Fairness_v2-3j10GkSs/lib/python3.10/site-packages/sklearn/linear_model/_logistic.py:444: ConvergenceWarning: lbfgs failed to converge (status=1):\n",
      "STOP: TOTAL NO. of ITERATIONS REACHED LIMIT.\n",
      "\n",
      "Increase the number of iterations (max_iter) or scale the data as shown in:\n",
      "    https://scikit-learn.org/stable/modules/preprocessing.html\n",
      "Please also refer to the documentation for alternative solver options:\n",
      "    https://scikit-learn.org/stable/modules/linear_model.html#logistic-regression\n",
      "  n_iter_i = _check_optimize_result(\n"
     ]
    },
    {
     "data": {
      "text/html": [
       "<style>#sk-container-id-1 {color: black;background-color: white;}#sk-container-id-1 pre{padding: 0;}#sk-container-id-1 div.sk-toggleable {background-color: white;}#sk-container-id-1 label.sk-toggleable__label {cursor: pointer;display: block;width: 100%;margin-bottom: 0;padding: 0.3em;box-sizing: border-box;text-align: center;}#sk-container-id-1 label.sk-toggleable__label-arrow:before {content: \"▸\";float: left;margin-right: 0.25em;color: #696969;}#sk-container-id-1 label.sk-toggleable__label-arrow:hover:before {color: black;}#sk-container-id-1 div.sk-estimator:hover label.sk-toggleable__label-arrow:before {color: black;}#sk-container-id-1 div.sk-toggleable__content {max-height: 0;max-width: 0;overflow: hidden;text-align: left;background-color: #f0f8ff;}#sk-container-id-1 div.sk-toggleable__content pre {margin: 0.2em;color: black;border-radius: 0.25em;background-color: #f0f8ff;}#sk-container-id-1 input.sk-toggleable__control:checked~div.sk-toggleable__content {max-height: 200px;max-width: 100%;overflow: auto;}#sk-container-id-1 input.sk-toggleable__control:checked~label.sk-toggleable__label-arrow:before {content: \"▾\";}#sk-container-id-1 div.sk-estimator input.sk-toggleable__control:checked~label.sk-toggleable__label {background-color: #d4ebff;}#sk-container-id-1 div.sk-label input.sk-toggleable__control:checked~label.sk-toggleable__label {background-color: #d4ebff;}#sk-container-id-1 input.sk-hidden--visually {border: 0;clip: rect(1px 1px 1px 1px);clip: rect(1px, 1px, 1px, 1px);height: 1px;margin: -1px;overflow: hidden;padding: 0;position: absolute;width: 1px;}#sk-container-id-1 div.sk-estimator {font-family: monospace;background-color: #f0f8ff;border: 1px dotted black;border-radius: 0.25em;box-sizing: border-box;margin-bottom: 0.5em;}#sk-container-id-1 div.sk-estimator:hover {background-color: #d4ebff;}#sk-container-id-1 div.sk-parallel-item::after {content: \"\";width: 100%;border-bottom: 1px solid gray;flex-grow: 1;}#sk-container-id-1 div.sk-label:hover label.sk-toggleable__label {background-color: #d4ebff;}#sk-container-id-1 div.sk-serial::before {content: \"\";position: absolute;border-left: 1px solid gray;box-sizing: border-box;top: 0;bottom: 0;left: 50%;z-index: 0;}#sk-container-id-1 div.sk-serial {display: flex;flex-direction: column;align-items: center;background-color: white;padding-right: 0.2em;padding-left: 0.2em;position: relative;}#sk-container-id-1 div.sk-item {position: relative;z-index: 1;}#sk-container-id-1 div.sk-parallel {display: flex;align-items: stretch;justify-content: center;background-color: white;position: relative;}#sk-container-id-1 div.sk-item::before, #sk-container-id-1 div.sk-parallel-item::before {content: \"\";position: absolute;border-left: 1px solid gray;box-sizing: border-box;top: 0;bottom: 0;left: 50%;z-index: -1;}#sk-container-id-1 div.sk-parallel-item {display: flex;flex-direction: column;z-index: 1;position: relative;background-color: white;}#sk-container-id-1 div.sk-parallel-item:first-child::after {align-self: flex-end;width: 50%;}#sk-container-id-1 div.sk-parallel-item:last-child::after {align-self: flex-start;width: 50%;}#sk-container-id-1 div.sk-parallel-item:only-child::after {width: 0;}#sk-container-id-1 div.sk-dashed-wrapped {border: 1px dashed gray;margin: 0 0.4em 0.5em 0.4em;box-sizing: border-box;padding-bottom: 0.4em;background-color: white;}#sk-container-id-1 div.sk-label label {font-family: monospace;font-weight: bold;display: inline-block;line-height: 1.2em;}#sk-container-id-1 div.sk-label-container {text-align: center;}#sk-container-id-1 div.sk-container {/* jupyter's `normalize.less` sets `[hidden] { display: none; }` but bootstrap.min.css set `[hidden] { display: none !important; }` so we also need the `!important` here to be able to override the default hidden behavior on the sphinx rendered scikit-learn.org. See: https://github.com/scikit-learn/scikit-learn/issues/21755 */display: inline-block !important;position: relative;}#sk-container-id-1 div.sk-text-repr-fallback {display: none;}</style><div id=\"sk-container-id-1\" class=\"sk-top-container\"><div class=\"sk-text-repr-fallback\"><pre>Pipeline(steps=[(&#x27;scale&#x27;, None), (&#x27;model&#x27;, LogisticRegression())])</pre><b>In a Jupyter environment, please rerun this cell to show the HTML representation or trust the notebook. <br />On GitHub, the HTML representation is unable to render, please try loading this page with nbviewer.org.</b></div><div class=\"sk-container\" hidden><div class=\"sk-item sk-dashed-wrapped\"><div class=\"sk-label-container\"><div class=\"sk-label sk-toggleable\"><input class=\"sk-toggleable__control sk-hidden--visually\" id=\"sk-estimator-id-1\" type=\"checkbox\" ><label for=\"sk-estimator-id-1\" class=\"sk-toggleable__label sk-toggleable__label-arrow\">Pipeline</label><div class=\"sk-toggleable__content\"><pre>Pipeline(steps=[(&#x27;scale&#x27;, None), (&#x27;model&#x27;, LogisticRegression())])</pre></div></div></div><div class=\"sk-serial\"><div class=\"sk-item\"><div class=\"sk-estimator sk-toggleable\"><input class=\"sk-toggleable__control sk-hidden--visually\" id=\"sk-estimator-id-2\" type=\"checkbox\" ><label for=\"sk-estimator-id-2\" class=\"sk-toggleable__label sk-toggleable__label-arrow\">None</label><div class=\"sk-toggleable__content\"><pre>None</pre></div></div></div><div class=\"sk-item\"><div class=\"sk-estimator sk-toggleable\"><input class=\"sk-toggleable__control sk-hidden--visually\" id=\"sk-estimator-id-3\" type=\"checkbox\" ><label for=\"sk-estimator-id-3\" class=\"sk-toggleable__label sk-toggleable__label-arrow\">LogisticRegression</label><div class=\"sk-toggleable__content\"><pre>LogisticRegression()</pre></div></div></div></div></div></div></div>"
      ],
      "text/plain": [
       "Pipeline(steps=[('scale', None), ('model', LogisticRegression())])"
      ]
     },
     "execution_count": 36,
     "metadata": {},
     "output_type": "execute_result"
    }
   ],
   "source": [
    "model.fit(X_train, y_train.values.ravel())"
   ]
  },
  {
   "cell_type": "code",
   "execution_count": 37,
   "id": "af59f8c0",
   "metadata": {
    "execution": {
     "iopub.execute_input": "2025-07-28T10:48:06.226343Z",
     "iopub.status.busy": "2025-07-28T10:48:06.225999Z",
     "iopub.status.idle": "2025-07-28T10:48:06.230400Z",
     "shell.execute_reply": "2025-07-28T10:48:06.229650Z"
    },
    "papermill": {
     "duration": 0.018546,
     "end_time": "2025-07-28T10:48:06.231784",
     "exception": false,
     "start_time": "2025-07-28T10:48:06.213238",
     "status": "completed"
    },
    "tags": []
   },
   "outputs": [],
   "source": [
    "from fairness_multiverse.universe import predict_w_threshold"
   ]
  },
  {
   "cell_type": "code",
   "execution_count": 38,
   "id": "a7cf2e16",
   "metadata": {
    "execution": {
     "iopub.execute_input": "2025-07-28T10:48:06.257237Z",
     "iopub.status.busy": "2025-07-28T10:48:06.256735Z",
     "iopub.status.idle": "2025-07-28T10:48:06.342481Z",
     "shell.execute_reply": "2025-07-28T10:48:06.341779Z"
    },
    "papermill": {
     "duration": 0.099931,
     "end_time": "2025-07-28T10:48:06.343835",
     "exception": false,
     "start_time": "2025-07-28T10:48:06.243904",
     "status": "completed"
    },
    "tags": []
   },
   "outputs": [
    {
     "data": {
      "text/plain": [
       "0.8526474194627132"
      ]
     },
     "execution_count": 38,
     "metadata": {},
     "output_type": "execute_result"
    }
   ],
   "source": [
    "probs_test = model.predict_proba(X_test)\n",
    "\n",
    "'''\n",
    "Below code returns a boolean array (or binary 0/1 array depending on how it’s used) where each element \n",
    "is True if the probability of class 1 is greater than or equal to the threshold, and False otherwise.\n",
    "'''\n",
    "y_pred_default = predict_w_threshold(probs_test, 0.5)\n",
    "\n",
    "from sklearn.metrics import accuracy_score\n",
    "\n",
    "# Naive prediction\n",
    "accuracy_score(y_true = y_true, y_pred = y_pred_default)"
   ]
  },
  {
   "cell_type": "code",
   "execution_count": 39,
   "id": "081964c3",
   "metadata": {
    "execution": {
     "iopub.execute_input": "2025-07-28T10:48:06.369776Z",
     "iopub.status.busy": "2025-07-28T10:48:06.369502Z",
     "iopub.status.idle": "2025-07-28T10:48:06.446783Z",
     "shell.execute_reply": "2025-07-28T10:48:06.445905Z"
    },
    "papermill": {
     "duration": 0.091728,
     "end_time": "2025-07-28T10:48:06.448200",
     "exception": false,
     "start_time": "2025-07-28T10:48:06.356472",
     "status": "completed"
    },
    "tags": []
   },
   "outputs": [
    {
     "data": {
      "text/plain": [
       "array([0, 0, 0, ..., 0, 0, 0])"
      ]
     },
     "execution_count": 39,
     "metadata": {},
     "output_type": "execute_result"
    }
   ],
   "source": [
    "model.predict(X_test)"
   ]
  },
  {
   "cell_type": "markdown",
   "id": "56c9705b",
   "metadata": {
    "papermill": {
     "duration": 0.012785,
     "end_time": "2025-07-28T10:48:06.473450",
     "exception": false,
     "start_time": "2025-07-28T10:48:06.460665",
     "status": "completed"
    },
    "tags": []
   },
   "source": [
    "# Conformal Prediction"
   ]
  },
  {
   "cell_type": "code",
   "execution_count": 40,
   "id": "160ec6ff",
   "metadata": {
    "execution": {
     "iopub.execute_input": "2025-07-28T10:48:06.498846Z",
     "iopub.status.busy": "2025-07-28T10:48:06.498071Z",
     "iopub.status.idle": "2025-07-28T10:48:06.503540Z",
     "shell.execute_reply": "2025-07-28T10:48:06.502581Z"
    },
    "papermill": {
     "duration": 0.019945,
     "end_time": "2025-07-28T10:48:06.505193",
     "exception": false,
     "start_time": "2025-07-28T10:48:06.485248",
     "status": "completed"
    },
    "tags": []
   },
   "outputs": [],
   "source": [
    "# Miscoverage level for conformal prediction (10% allowed error rate => 90% target coverage)\n",
    "alpha = 0.1"
   ]
  },
  {
   "cell_type": "code",
   "execution_count": 41,
   "id": "eadf4555-3dd3-440e-8e35-f82a4ad9f855",
   "metadata": {
    "execution": {
     "iopub.execute_input": "2025-07-28T10:48:06.557106Z",
     "iopub.status.busy": "2025-07-28T10:48:06.556579Z",
     "iopub.status.idle": "2025-07-28T10:48:06.644675Z",
     "shell.execute_reply": "2025-07-28T10:48:06.643553Z"
    },
    "papermill": {
     "duration": 0.115178,
     "end_time": "2025-07-28T10:48:06.646643",
     "exception": false,
     "start_time": "2025-07-28T10:48:06.531465",
     "status": "completed"
    },
    "tags": []
   },
   "outputs": [],
   "source": [
    "probs_calib = model.predict_proba(X_calib)"
   ]
  },
  {
   "cell_type": "code",
   "execution_count": 42,
   "id": "2ed93547-6d5d-4983-9b36-1ecb300da49a",
   "metadata": {
    "execution": {
     "iopub.execute_input": "2025-07-28T10:48:06.695927Z",
     "iopub.status.busy": "2025-07-28T10:48:06.695444Z",
     "iopub.status.idle": "2025-07-28T10:48:06.701391Z",
     "shell.execute_reply": "2025-07-28T10:48:06.700269Z"
    },
    "papermill": {
     "duration": 0.033009,
     "end_time": "2025-07-28T10:48:06.703193",
     "exception": false,
     "start_time": "2025-07-28T10:48:06.670184",
     "status": "completed"
    },
    "tags": []
   },
   "outputs": [],
   "source": [
    "y_calib = y_calib.values.ravel().astype(int)"
   ]
  },
  {
   "cell_type": "code",
   "execution_count": 43,
   "id": "65d1320d-f588-4b38-9072-62af1ae97f7d",
   "metadata": {
    "execution": {
     "iopub.execute_input": "2025-07-28T10:48:06.751530Z",
     "iopub.status.busy": "2025-07-28T10:48:06.750847Z",
     "iopub.status.idle": "2025-07-28T10:48:06.758196Z",
     "shell.execute_reply": "2025-07-28T10:48:06.757203Z"
    },
    "papermill": {
     "duration": 0.03297,
     "end_time": "2025-07-28T10:48:06.760024",
     "exception": false,
     "start_time": "2025-07-28T10:48:06.727054",
     "status": "completed"
    },
    "tags": []
   },
   "outputs": [],
   "source": [
    "from fairness_multiverse.conformal import compute_nc_scores\n",
    "\n",
    "# Compute nonconformity scores on calibration set (1 - probability of true class)\n",
    "nc_scores = compute_nc_scores(probs_calib, y_calib)"
   ]
  },
  {
   "cell_type": "code",
   "execution_count": 44,
   "id": "df3b8ca3-53b7-43d5-9667-7c85da7aeda2",
   "metadata": {
    "execution": {
     "iopub.execute_input": "2025-07-28T10:48:06.811518Z",
     "iopub.status.busy": "2025-07-28T10:48:06.810743Z",
     "iopub.status.idle": "2025-07-28T10:48:06.816821Z",
     "shell.execute_reply": "2025-07-28T10:48:06.815771Z"
    },
    "papermill": {
     "duration": 0.033446,
     "end_time": "2025-07-28T10:48:06.818668",
     "exception": false,
     "start_time": "2025-07-28T10:48:06.785222",
     "status": "completed"
    },
    "tags": []
   },
   "outputs": [],
   "source": [
    "from fairness_multiverse.conformal import find_threshold\n",
    "\n",
    "# Find conformal threshold q_hat for the given alpha (split conformal method)\n",
    "q_hat = find_threshold(nc_scores, alpha)"
   ]
  },
  {
   "cell_type": "code",
   "execution_count": 45,
   "id": "4d29e6c1-0ef6-4aa4-b8fe-4fe79b0d033a",
   "metadata": {
    "execution": {
     "iopub.execute_input": "2025-07-28T10:48:06.872499Z",
     "iopub.status.busy": "2025-07-28T10:48:06.871755Z",
     "iopub.status.idle": "2025-07-28T10:48:06.879067Z",
     "shell.execute_reply": "2025-07-28T10:48:06.878092Z"
    },
    "papermill": {
     "duration": 0.035544,
     "end_time": "2025-07-28T10:48:06.880585",
     "exception": false,
     "start_time": "2025-07-28T10:48:06.845041",
     "status": "completed"
    },
    "tags": []
   },
   "outputs": [
    {
     "data": {
      "text/plain": [
       "0.6949985897673139"
      ]
     },
     "execution_count": 45,
     "metadata": {},
     "output_type": "execute_result"
    }
   ],
   "source": [
    "q_hat"
   ]
  },
  {
   "cell_type": "code",
   "execution_count": 46,
   "id": "92460794-cdac-4be2-ba28-f28c0515a6fb",
   "metadata": {
    "execution": {
     "iopub.execute_input": "2025-07-28T10:48:06.930164Z",
     "iopub.status.busy": "2025-07-28T10:48:06.929569Z",
     "iopub.status.idle": "2025-07-28T10:48:07.784845Z",
     "shell.execute_reply": "2025-07-28T10:48:07.783807Z"
    },
    "papermill": {
     "duration": 0.882591,
     "end_time": "2025-07-28T10:48:07.786876",
     "exception": false,
     "start_time": "2025-07-28T10:48:06.904285",
     "status": "completed"
    },
    "tags": []
   },
   "outputs": [],
   "source": [
    "from fairness_multiverse.conformal import predict_conformal_sets\n",
    "\n",
    "# Generate prediction sets for each test example\n",
    "pred_sets = predict_conformal_sets(model, X_test, q_hat)"
   ]
  },
  {
   "cell_type": "code",
   "execution_count": 47,
   "id": "d90c9a65-e6db-4f5d-80cd-e68fb7e46829",
   "metadata": {
    "execution": {
     "iopub.execute_input": "2025-07-28T10:48:07.824544Z",
     "iopub.status.busy": "2025-07-28T10:48:07.823845Z",
     "iopub.status.idle": "2025-07-28T10:48:07.828610Z",
     "shell.execute_reply": "2025-07-28T10:48:07.827795Z"
    },
    "papermill": {
     "duration": 0.020136,
     "end_time": "2025-07-28T10:48:07.829943",
     "exception": false,
     "start_time": "2025-07-28T10:48:07.809807",
     "status": "completed"
    },
    "tags": []
   },
   "outputs": [],
   "source": [
    "y_true = y_true.squeeze()"
   ]
  },
  {
   "cell_type": "code",
   "execution_count": 48,
   "id": "3a58a54a-1e68-46b9-927a-df01f18aebc8",
   "metadata": {
    "execution": {
     "iopub.execute_input": "2025-07-28T10:48:07.860111Z",
     "iopub.status.busy": "2025-07-28T10:48:07.859773Z",
     "iopub.status.idle": "2025-07-28T10:48:08.603534Z",
     "shell.execute_reply": "2025-07-28T10:48:08.602777Z"
    },
    "papermill": {
     "duration": 0.758555,
     "end_time": "2025-07-28T10:48:08.605067",
     "exception": false,
     "start_time": "2025-07-28T10:48:07.846512",
     "status": "completed"
    },
    "tags": []
   },
   "outputs": [],
   "source": [
    "from fairness_multiverse.conformal import evaluate_sets\n",
    "\n",
    "# Evaluate coverage and average set size on test data\n",
    "metrics = evaluate_sets(pred_sets, y_true)"
   ]
  },
  {
   "cell_type": "markdown",
   "id": "2b569c12-9aaa-4c88-98c9-bbcd0cf3ebb8",
   "metadata": {
    "papermill": {
     "duration": 0.012248,
     "end_time": "2025-07-28T10:48:08.630326",
     "exception": false,
     "start_time": "2025-07-28T10:48:08.618078",
     "status": "completed"
    },
    "tags": []
   },
   "source": [
    "# CP Metrics"
   ]
  },
  {
   "cell_type": "code",
   "execution_count": 49,
   "id": "5ce0a5cb-201f-45a0-ade5-94c7f0bd6095",
   "metadata": {
    "execution": {
     "iopub.execute_input": "2025-07-28T10:48:08.656205Z",
     "iopub.status.busy": "2025-07-28T10:48:08.655362Z",
     "iopub.status.idle": "2025-07-28T10:48:08.662052Z",
     "shell.execute_reply": "2025-07-28T10:48:08.661322Z"
    },
    "papermill": {
     "duration": 0.021099,
     "end_time": "2025-07-28T10:48:08.663434",
     "exception": false,
     "start_time": "2025-07-28T10:48:08.642335",
     "status": "completed"
    },
    "tags": []
   },
   "outputs": [
    {
     "data": {
      "text/plain": [
       "{'coverage': 0.9119942035447554, 'avg_size': 1.2406978040352246}"
      ]
     },
     "execution_count": 49,
     "metadata": {},
     "output_type": "execute_result"
    }
   ],
   "source": [
    "metrics"
   ]
  },
  {
   "cell_type": "code",
   "execution_count": 50,
   "id": "9b9a838d-31c9-430b-ae14-12baee460d17",
   "metadata": {
    "execution": {
     "iopub.execute_input": "2025-07-28T10:48:08.690398Z",
     "iopub.status.busy": "2025-07-28T10:48:08.689742Z",
     "iopub.status.idle": "2025-07-28T10:48:08.695047Z",
     "shell.execute_reply": "2025-07-28T10:48:08.694371Z"
    },
    "papermill": {
     "duration": 0.019801,
     "end_time": "2025-07-28T10:48:08.696319",
     "exception": false,
     "start_time": "2025-07-28T10:48:08.676518",
     "status": "completed"
    },
    "tags": []
   },
   "outputs": [],
   "source": [
    "example_universe = universe.copy()\n",
    "universe_training_size = example_universe.get(\"training_size\")\n",
    "universe_scale = example_universe.get(\"scale\")\n",
    "universe_model = example_universe.get(\"model\")\n",
    "universe_exclude_features = example_universe.get(\"exclude_features\")\n",
    "universe_exclude_subgroups = example_universe.get(\"exclude_subgroups\")"
   ]
  },
  {
   "cell_type": "code",
   "execution_count": 51,
   "id": "f4b6a8ac-9dc0-4245-8a91-5b3b5999c4f9",
   "metadata": {
    "execution": {
     "iopub.execute_input": "2025-07-28T10:48:08.723501Z",
     "iopub.status.busy": "2025-07-28T10:48:08.722964Z",
     "iopub.status.idle": "2025-07-28T10:48:08.728259Z",
     "shell.execute_reply": "2025-07-28T10:48:08.727506Z"
    },
    "papermill": {
     "duration": 0.019916,
     "end_time": "2025-07-28T10:48:08.729675",
     "exception": false,
     "start_time": "2025-07-28T10:48:08.709759",
     "status": "completed"
    },
    "tags": []
   },
   "outputs": [],
   "source": [
    "cp_metrics_dict = {\n",
    "    \"universe_id\": [universe_id],\n",
    "    \"universe_training_size\": [universe_training_size],\n",
    "    \"universe_scale\": [universe_scale],\n",
    "    \"universe_model\": [universe_model],\n",
    "    \"universe_exclude_features\": [universe_exclude_features],\n",
    "    \"universe_exclude_subgroups\": [universe_exclude_subgroups],\n",
    "    \"q_hat\": [q_hat],\n",
    "    \"coverage\": [metrics[\"coverage\"]],\n",
    "    \"avg_size\": [metrics[\"avg_size\"]],\n",
    "}"
   ]
  },
  {
   "cell_type": "code",
   "execution_count": 52,
   "id": "908acbb1-0371-4915-85ca-3fa520d2efe2",
   "metadata": {
    "execution": {
     "iopub.execute_input": "2025-07-28T10:48:08.758064Z",
     "iopub.status.busy": "2025-07-28T10:48:08.757512Z",
     "iopub.status.idle": "2025-07-28T10:48:08.764587Z",
     "shell.execute_reply": "2025-07-28T10:48:08.763867Z"
    },
    "papermill": {
     "duration": 0.022337,
     "end_time": "2025-07-28T10:48:08.765966",
     "exception": false,
     "start_time": "2025-07-28T10:48:08.743629",
     "status": "completed"
    },
    "tags": []
   },
   "outputs": [
    {
     "data": {
      "text/plain": [
       "{'universe_id': ['3e2740b636a9a3af7dd76ea273d044b0'],\n",
       " 'universe_training_size': ['1k'],\n",
       " 'universe_scale': ['do-not-scale'],\n",
       " 'universe_model': ['logreg'],\n",
       " 'universe_exclude_features': ['sex'],\n",
       " 'universe_exclude_subgroups': ['drop-non-german'],\n",
       " 'q_hat': [0.6949985897673139],\n",
       " 'coverage': [0.9119942035447554],\n",
       " 'avg_size': [1.2406978040352246]}"
      ]
     },
     "execution_count": 52,
     "metadata": {},
     "output_type": "execute_result"
    }
   ],
   "source": [
    "cp_metrics_dict"
   ]
  },
  {
   "cell_type": "code",
   "execution_count": 53,
   "id": "33007efc-14e9-4ec6-97ac-56a455c82265",
   "metadata": {
    "execution": {
     "iopub.execute_input": "2025-07-28T10:48:08.793476Z",
     "iopub.status.busy": "2025-07-28T10:48:08.792822Z",
     "iopub.status.idle": "2025-07-28T10:48:08.798136Z",
     "shell.execute_reply": "2025-07-28T10:48:08.797455Z"
    },
    "papermill": {
     "duration": 0.020148,
     "end_time": "2025-07-28T10:48:08.799445",
     "exception": false,
     "start_time": "2025-07-28T10:48:08.779297",
     "status": "completed"
    },
    "tags": []
   },
   "outputs": [],
   "source": [
    "cp_metrics_df = pd.DataFrame(cp_metrics_dict)"
   ]
  },
  {
   "cell_type": "code",
   "execution_count": 54,
   "id": "db12611b-57b2-4910-b9d0-355adfd6e7bf",
   "metadata": {
    "execution": {
     "iopub.execute_input": "2025-07-28T10:48:08.827036Z",
     "iopub.status.busy": "2025-07-28T10:48:08.826709Z",
     "iopub.status.idle": "2025-07-28T10:48:08.840567Z",
     "shell.execute_reply": "2025-07-28T10:48:08.839741Z"
    },
    "papermill": {
     "duration": 0.028706,
     "end_time": "2025-07-28T10:48:08.841850",
     "exception": false,
     "start_time": "2025-07-28T10:48:08.813144",
     "status": "completed"
    },
    "tags": []
   },
   "outputs": [
    {
     "data": {
      "text/html": [
       "<div>\n",
       "<style scoped>\n",
       "    .dataframe tbody tr th:only-of-type {\n",
       "        vertical-align: middle;\n",
       "    }\n",
       "\n",
       "    .dataframe tbody tr th {\n",
       "        vertical-align: top;\n",
       "    }\n",
       "\n",
       "    .dataframe thead th {\n",
       "        text-align: right;\n",
       "    }\n",
       "</style>\n",
       "<table border=\"1\" class=\"dataframe\">\n",
       "  <thead>\n",
       "    <tr style=\"text-align: right;\">\n",
       "      <th></th>\n",
       "      <th>universe_id</th>\n",
       "      <th>universe_training_size</th>\n",
       "      <th>universe_scale</th>\n",
       "      <th>universe_model</th>\n",
       "      <th>universe_exclude_features</th>\n",
       "      <th>universe_exclude_subgroups</th>\n",
       "      <th>q_hat</th>\n",
       "      <th>coverage</th>\n",
       "      <th>avg_size</th>\n",
       "    </tr>\n",
       "  </thead>\n",
       "  <tbody>\n",
       "    <tr>\n",
       "      <th>0</th>\n",
       "      <td>3e2740b636a9a3af7dd76ea273d044b0</td>\n",
       "      <td>1k</td>\n",
       "      <td>do-not-scale</td>\n",
       "      <td>logreg</td>\n",
       "      <td>sex</td>\n",
       "      <td>drop-non-german</td>\n",
       "      <td>0.694999</td>\n",
       "      <td>0.911994</td>\n",
       "      <td>1.240698</td>\n",
       "    </tr>\n",
       "  </tbody>\n",
       "</table>\n",
       "</div>"
      ],
      "text/plain": [
       "                        universe_id universe_training_size universe_scale  \\\n",
       "0  3e2740b636a9a3af7dd76ea273d044b0                     1k   do-not-scale   \n",
       "\n",
       "  universe_model universe_exclude_features universe_exclude_subgroups  \\\n",
       "0         logreg                       sex            drop-non-german   \n",
       "\n",
       "      q_hat  coverage  avg_size  \n",
       "0  0.694999  0.911994  1.240698  "
      ]
     },
     "execution_count": 54,
     "metadata": {},
     "output_type": "execute_result"
    }
   ],
   "source": [
    "cp_metrics_df"
   ]
  },
  {
   "cell_type": "code",
   "execution_count": 55,
   "id": "b7fbde55-a0a1-47e4-9af6-fe4a17fa8c61",
   "metadata": {
    "execution": {
     "iopub.execute_input": "2025-07-28T10:48:08.870059Z",
     "iopub.status.busy": "2025-07-28T10:48:08.869225Z",
     "iopub.status.idle": "2025-07-28T10:48:08.873703Z",
     "shell.execute_reply": "2025-07-28T10:48:08.873023Z"
    },
    "papermill": {
     "duration": 0.020136,
     "end_time": "2025-07-28T10:48:08.875605",
     "exception": false,
     "start_time": "2025-07-28T10:48:08.855469",
     "status": "completed"
    },
    "tags": []
   },
   "outputs": [],
   "source": [
    "# Conditional Coverage & looking at subgroups"
   ]
  },
  {
   "cell_type": "code",
   "execution_count": 56,
   "id": "027ae886-68dd-4141-96c7-805a5450e1ef",
   "metadata": {
    "execution": {
     "iopub.execute_input": "2025-07-28T10:48:08.929154Z",
     "iopub.status.busy": "2025-07-28T10:48:08.928094Z",
     "iopub.status.idle": "2025-07-28T10:48:09.206190Z",
     "shell.execute_reply": "2025-07-28T10:48:09.205137Z"
    },
    "papermill": {
     "duration": 0.305002,
     "end_time": "2025-07-28T10:48:09.208318",
     "exception": false,
     "start_time": "2025-07-28T10:48:08.903316",
     "status": "completed"
    },
    "tags": []
   },
   "outputs": [],
   "source": [
    "from fairness_multiverse.conformal import build_cp_groups\n",
    "\n",
    "cp_groups_df = build_cp_groups(pred_sets, y_true, X_test.index, org_test)\n",
    "#needs universe_id and setting"
   ]
  },
  {
   "cell_type": "code",
   "execution_count": 57,
   "id": "01d5802c-663a-4d1f-9d69-e036faaffbf7",
   "metadata": {
    "execution": {
     "iopub.execute_input": "2025-07-28T10:48:09.261038Z",
     "iopub.status.busy": "2025-07-28T10:48:09.260350Z",
     "iopub.status.idle": "2025-07-28T10:48:09.265351Z",
     "shell.execute_reply": "2025-07-28T10:48:09.264306Z"
    },
    "papermill": {
     "duration": 0.032468,
     "end_time": "2025-07-28T10:48:09.267068",
     "exception": false,
     "start_time": "2025-07-28T10:48:09.234600",
     "status": "completed"
    },
    "tags": []
   },
   "outputs": [],
   "source": [
    "#delete\n",
    "#cp_groups_df"
   ]
  },
  {
   "cell_type": "code",
   "execution_count": 58,
   "id": "fa424af1-d1eb-443d-b717-2d279ada8408",
   "metadata": {
    "execution": {
     "iopub.execute_input": "2025-07-28T10:48:09.320639Z",
     "iopub.status.busy": "2025-07-28T10:48:09.319794Z",
     "iopub.status.idle": "2025-07-28T10:48:09.324821Z",
     "shell.execute_reply": "2025-07-28T10:48:09.324103Z"
    },
    "papermill": {
     "duration": 0.033025,
     "end_time": "2025-07-28T10:48:09.326022",
     "exception": false,
     "start_time": "2025-07-28T10:48:09.292997",
     "status": "completed"
    },
    "tags": []
   },
   "outputs": [],
   "source": [
    "#delete\n",
    "#percentage = (cp_groups_df['nongerman_female'] == 1).mean() * 100\n",
    "#print(percentage)\n"
   ]
  },
  {
   "cell_type": "code",
   "execution_count": 59,
   "id": "6cbdab96-b2b2-45af-ad54-d0516db2e28d",
   "metadata": {
    "execution": {
     "iopub.execute_input": "2025-07-28T10:48:09.354304Z",
     "iopub.status.busy": "2025-07-28T10:48:09.353750Z",
     "iopub.status.idle": "2025-07-28T10:48:10.405936Z",
     "shell.execute_reply": "2025-07-28T10:48:10.405083Z"
    },
    "papermill": {
     "duration": 1.067317,
     "end_time": "2025-07-28T10:48:10.407373",
     "exception": false,
     "start_time": "2025-07-28T10:48:09.340056",
     "status": "completed"
    },
    "tags": []
   },
   "outputs": [],
   "source": [
    "# Define covered = 1 if true_label is in the predicted set\n",
    "cp_groups_df['covered'] = cp_groups_df.apply(\n",
    "    lambda r: int(r['true_label'] in r['pred_set']),\n",
    "    axis=1\n",
    ")"
   ]
  },
  {
   "cell_type": "code",
   "execution_count": 60,
   "id": "338ff529-1a6b-4b87-a931-8e4788d52aad",
   "metadata": {
    "execution": {
     "iopub.execute_input": "2025-07-28T10:48:10.437069Z",
     "iopub.status.busy": "2025-07-28T10:48:10.436565Z",
     "iopub.status.idle": "2025-07-28T10:48:10.441115Z",
     "shell.execute_reply": "2025-07-28T10:48:10.440253Z"
    },
    "papermill": {
     "duration": 0.02089,
     "end_time": "2025-07-28T10:48:10.442522",
     "exception": false,
     "start_time": "2025-07-28T10:48:10.421632",
     "status": "completed"
    },
    "tags": []
   },
   "outputs": [],
   "source": [
    "#cp_groups_df"
   ]
  },
  {
   "cell_type": "code",
   "execution_count": 61,
   "id": "90032e27-66df-4540-9169-4e89cfbaa758",
   "metadata": {
    "execution": {
     "iopub.execute_input": "2025-07-28T10:48:10.472017Z",
     "iopub.status.busy": "2025-07-28T10:48:10.471487Z",
     "iopub.status.idle": "2025-07-28T10:48:10.481255Z",
     "shell.execute_reply": "2025-07-28T10:48:10.480454Z"
    },
    "papermill": {
     "duration": 0.025728,
     "end_time": "2025-07-28T10:48:10.482666",
     "exception": false,
     "start_time": "2025-07-28T10:48:10.456938",
     "status": "completed"
    },
    "tags": []
   },
   "outputs": [],
   "source": [
    "subgroups = ['frau1','nongerman','nongerman_male','nongerman_female']\n",
    "\n",
    "# Conditional coverage for subgroup==1\n",
    "cond_coverage = {\n",
    "    g: cp_groups_df.loc[cp_groups_df[g]==1, 'covered'].mean()\n",
    "    for g in subgroups\n",
    "}"
   ]
  },
  {
   "cell_type": "code",
   "execution_count": 62,
   "id": "1e348fb1-b9c3-45bc-ba23-f016827a7e0d",
   "metadata": {
    "execution": {
     "iopub.execute_input": "2025-07-28T10:48:10.510996Z",
     "iopub.status.busy": "2025-07-28T10:48:10.510473Z",
     "iopub.status.idle": "2025-07-28T10:48:10.516874Z",
     "shell.execute_reply": "2025-07-28T10:48:10.516152Z"
    },
    "papermill": {
     "duration": 0.021589,
     "end_time": "2025-07-28T10:48:10.518139",
     "exception": false,
     "start_time": "2025-07-28T10:48:10.496550",
     "status": "completed"
    },
    "tags": []
   },
   "outputs": [
    {
     "data": {
      "text/plain": [
       "{'frau1': 0.9121175360560723,\n",
       " 'nongerman': 0.9345983270645034,\n",
       " 'nongerman_male': 0.9473115374223183,\n",
       " 'nongerman_female': 0.9135618479880775}"
      ]
     },
     "execution_count": 62,
     "metadata": {},
     "output_type": "execute_result"
    }
   ],
   "source": [
    "cond_coverage"
   ]
  },
  {
   "cell_type": "code",
   "execution_count": 63,
   "id": "f5093324-c3dd-4d63-bc4c-8d945e5c8bbb",
   "metadata": {
    "execution": {
     "iopub.execute_input": "2025-07-28T10:48:10.546568Z",
     "iopub.status.busy": "2025-07-28T10:48:10.546053Z",
     "iopub.status.idle": "2025-07-28T10:48:10.552167Z",
     "shell.execute_reply": "2025-07-28T10:48:10.551309Z"
    },
    "papermill": {
     "duration": 0.021416,
     "end_time": "2025-07-28T10:48:10.553596",
     "exception": false,
     "start_time": "2025-07-28T10:48:10.532180",
     "status": "completed"
    },
    "tags": []
   },
   "outputs": [],
   "source": [
    "for subgroup, cov in cond_coverage.items():\n",
    "    cp_metrics_df[f\"cov_{subgroup}\"] = cov"
   ]
  },
  {
   "cell_type": "code",
   "execution_count": 64,
   "id": "6e872e10-dbe5-49e8-b554-5030c98ff75d",
   "metadata": {
    "execution": {
     "iopub.execute_input": "2025-07-28T10:48:10.582496Z",
     "iopub.status.busy": "2025-07-28T10:48:10.581746Z",
     "iopub.status.idle": "2025-07-28T10:48:10.595471Z",
     "shell.execute_reply": "2025-07-28T10:48:10.594632Z"
    },
    "papermill": {
     "duration": 0.029062,
     "end_time": "2025-07-28T10:48:10.596860",
     "exception": false,
     "start_time": "2025-07-28T10:48:10.567798",
     "status": "completed"
    },
    "tags": []
   },
   "outputs": [
    {
     "data": {
      "text/html": [
       "<div>\n",
       "<style scoped>\n",
       "    .dataframe tbody tr th:only-of-type {\n",
       "        vertical-align: middle;\n",
       "    }\n",
       "\n",
       "    .dataframe tbody tr th {\n",
       "        vertical-align: top;\n",
       "    }\n",
       "\n",
       "    .dataframe thead th {\n",
       "        text-align: right;\n",
       "    }\n",
       "</style>\n",
       "<table border=\"1\" class=\"dataframe\">\n",
       "  <thead>\n",
       "    <tr style=\"text-align: right;\">\n",
       "      <th></th>\n",
       "      <th>universe_id</th>\n",
       "      <th>universe_training_size</th>\n",
       "      <th>universe_scale</th>\n",
       "      <th>universe_model</th>\n",
       "      <th>universe_exclude_features</th>\n",
       "      <th>universe_exclude_subgroups</th>\n",
       "      <th>q_hat</th>\n",
       "      <th>coverage</th>\n",
       "      <th>avg_size</th>\n",
       "      <th>cov_frau1</th>\n",
       "      <th>cov_nongerman</th>\n",
       "      <th>cov_nongerman_male</th>\n",
       "      <th>cov_nongerman_female</th>\n",
       "    </tr>\n",
       "  </thead>\n",
       "  <tbody>\n",
       "    <tr>\n",
       "      <th>0</th>\n",
       "      <td>3e2740b636a9a3af7dd76ea273d044b0</td>\n",
       "      <td>1k</td>\n",
       "      <td>do-not-scale</td>\n",
       "      <td>logreg</td>\n",
       "      <td>sex</td>\n",
       "      <td>drop-non-german</td>\n",
       "      <td>0.694999</td>\n",
       "      <td>0.911994</td>\n",
       "      <td>1.240698</td>\n",
       "      <td>0.912118</td>\n",
       "      <td>0.934598</td>\n",
       "      <td>0.947312</td>\n",
       "      <td>0.913562</td>\n",
       "    </tr>\n",
       "  </tbody>\n",
       "</table>\n",
       "</div>"
      ],
      "text/plain": [
       "                        universe_id universe_training_size universe_scale  \\\n",
       "0  3e2740b636a9a3af7dd76ea273d044b0                     1k   do-not-scale   \n",
       "\n",
       "  universe_model universe_exclude_features universe_exclude_subgroups  \\\n",
       "0         logreg                       sex            drop-non-german   \n",
       "\n",
       "      q_hat  coverage  avg_size  cov_frau1  cov_nongerman  cov_nongerman_male  \\\n",
       "0  0.694999  0.911994  1.240698   0.912118       0.934598            0.947312   \n",
       "\n",
       "   cov_nongerman_female  \n",
       "0              0.913562  "
      ]
     },
     "execution_count": 64,
     "metadata": {},
     "output_type": "execute_result"
    }
   ],
   "source": [
    "cp_metrics_df"
   ]
  },
  {
   "cell_type": "markdown",
   "id": "33774451",
   "metadata": {
    "papermill": {
     "duration": 0.013207,
     "end_time": "2025-07-28T10:48:10.624388",
     "exception": false,
     "start_time": "2025-07-28T10:48:10.611181",
     "status": "completed"
    },
    "tags": []
   },
   "source": [
    "# (Fairness) Metrics"
   ]
  },
  {
   "cell_type": "code",
   "execution_count": 65,
   "id": "debc5d62",
   "metadata": {
    "execution": {
     "iopub.execute_input": "2025-07-28T10:48:10.653039Z",
     "iopub.status.busy": "2025-07-28T10:48:10.652540Z",
     "iopub.status.idle": "2025-07-28T10:48:10.666559Z",
     "shell.execute_reply": "2025-07-28T10:48:10.665881Z"
    },
    "papermill": {
     "duration": 0.030108,
     "end_time": "2025-07-28T10:48:10.668133",
     "exception": false,
     "start_time": "2025-07-28T10:48:10.638025",
     "status": "completed"
    },
    "tags": []
   },
   "outputs": [],
   "source": [
    "# do I need to include maxdeutsch1.missing?\n",
    "\n",
    "import numpy as np\n",
    "\n",
    "colname_to_bin = \"maxdeutsch1\"\n",
    "majority_value = org_train[colname_to_bin].mode()[0]\n",
    "\n",
    "org_test[\"majmin\"] = np.where(org_test[colname_to_bin] == majority_value, \"majority\", \"minority\")"
   ]
  },
  {
   "cell_type": "code",
   "execution_count": 66,
   "id": "06a50de5",
   "metadata": {
    "execution": {
     "iopub.execute_input": "2025-07-28T10:48:10.697853Z",
     "iopub.status.busy": "2025-07-28T10:48:10.697096Z",
     "iopub.status.idle": "2025-07-28T10:48:12.642251Z",
     "shell.execute_reply": "2025-07-28T10:48:12.641050Z"
    },
    "papermill": {
     "duration": 1.961931,
     "end_time": "2025-07-28T10:48:12.644628",
     "exception": false,
     "start_time": "2025-07-28T10:48:10.682697",
     "status": "completed"
    },
    "tags": []
   },
   "outputs": [],
   "source": [
    "example_universe = universe.copy()\n",
    "example_universe[\"cutoff\"] = example_universe[\"cutoff\"][0]\n",
    "example_universe[\"eval_fairness_grouping\"] = example_universe[\"eval_fairness_grouping\"][0]\n",
    "fairness_dict, metric_frame = universe_analysis.compute_metrics(\n",
    "    example_universe,\n",
    "    y_pred_prob=probs_test,\n",
    "    y_test=y_true,\n",
    "    org_test=org_test,\n",
    ")"
   ]
  },
  {
   "cell_type": "markdown",
   "id": "f95d4e02",
   "metadata": {
    "papermill": {
     "duration": 0.033146,
     "end_time": "2025-07-28T10:48:12.711205",
     "exception": false,
     "start_time": "2025-07-28T10:48:12.678059",
     "status": "completed"
    },
    "tags": []
   },
   "source": [
    "# Overall"
   ]
  },
  {
   "cell_type": "markdown",
   "id": "bdee4871",
   "metadata": {
    "papermill": {
     "duration": 0.032883,
     "end_time": "2025-07-28T10:48:12.777667",
     "exception": false,
     "start_time": "2025-07-28T10:48:12.744784",
     "status": "completed"
    },
    "tags": []
   },
   "source": [
    "Fairness\n",
    "Main fairness target: Equalized Odds. Seems to be a better fit than equal opportunity, since we're not only interested in Y = 1. Seems to be a better fit than demographic parity, since we also care about accuracy, not just equal distribution of preds.\n",
    "\n",
    "Pick column for computation of fairness metrics\n",
    "\n",
    "Performance\n",
    "Overall performance measures, most interesting in relation to the measures split by group below"
   ]
  },
  {
   "cell_type": "code",
   "execution_count": 67,
   "id": "c4e067c6",
   "metadata": {
    "execution": {
     "iopub.execute_input": "2025-07-28T10:48:12.845585Z",
     "iopub.status.busy": "2025-07-28T10:48:12.844610Z",
     "iopub.status.idle": "2025-07-28T10:48:12.855664Z",
     "shell.execute_reply": "2025-07-28T10:48:12.854071Z"
    },
    "papermill": {
     "duration": 0.047098,
     "end_time": "2025-07-28T10:48:12.857521",
     "exception": false,
     "start_time": "2025-07-28T10:48:12.810423",
     "status": "completed"
    },
    "tags": []
   },
   "outputs": [
    {
     "data": {
      "text/plain": [
       "accuracy                   0.212875\n",
       "balanced accuracy          0.522917\n",
       "f1                         0.234523\n",
       "precision                  0.133975\n",
       "false positive rate        0.894120\n",
       "false negative rate        0.060045\n",
       "selection rate             0.900000\n",
       "count                  89710.000000\n",
       "dtype: float64"
      ]
     },
     "execution_count": 67,
     "metadata": {},
     "output_type": "execute_result"
    }
   ],
   "source": [
    "metric_frame.overall"
   ]
  },
  {
   "cell_type": "markdown",
   "id": "e968fe9d",
   "metadata": {
    "papermill": {
     "duration": 0.028038,
     "end_time": "2025-07-28T10:48:12.912356",
     "exception": false,
     "start_time": "2025-07-28T10:48:12.884318",
     "status": "completed"
    },
    "tags": []
   },
   "source": [
    "By Group"
   ]
  },
  {
   "cell_type": "code",
   "execution_count": 68,
   "id": "ec325bce",
   "metadata": {
    "execution": {
     "iopub.execute_input": "2025-07-28T10:48:12.969253Z",
     "iopub.status.busy": "2025-07-28T10:48:12.968406Z",
     "iopub.status.idle": "2025-07-28T10:48:12.990163Z",
     "shell.execute_reply": "2025-07-28T10:48:12.988915Z"
    },
    "papermill": {
     "duration": 0.052721,
     "end_time": "2025-07-28T10:48:12.991735",
     "exception": false,
     "start_time": "2025-07-28T10:48:12.939014",
     "status": "completed"
    },
    "tags": []
   },
   "outputs": [
    {
     "data": {
      "text/html": [
       "<div>\n",
       "<style scoped>\n",
       "    .dataframe tbody tr th:only-of-type {\n",
       "        vertical-align: middle;\n",
       "    }\n",
       "\n",
       "    .dataframe tbody tr th {\n",
       "        vertical-align: top;\n",
       "    }\n",
       "\n",
       "    .dataframe thead th {\n",
       "        text-align: right;\n",
       "    }\n",
       "</style>\n",
       "<table border=\"1\" class=\"dataframe\">\n",
       "  <thead>\n",
       "    <tr style=\"text-align: right;\">\n",
       "      <th></th>\n",
       "      <th>accuracy</th>\n",
       "      <th>balanced accuracy</th>\n",
       "      <th>f1</th>\n",
       "      <th>precision</th>\n",
       "      <th>false positive rate</th>\n",
       "      <th>false negative rate</th>\n",
       "      <th>selection rate</th>\n",
       "      <th>count</th>\n",
       "    </tr>\n",
       "    <tr>\n",
       "      <th>majmin</th>\n",
       "      <th></th>\n",
       "      <th></th>\n",
       "      <th></th>\n",
       "      <th></th>\n",
       "      <th></th>\n",
       "      <th></th>\n",
       "      <th></th>\n",
       "      <th></th>\n",
       "    </tr>\n",
       "  </thead>\n",
       "  <tbody>\n",
       "    <tr>\n",
       "      <th>majority</th>\n",
       "      <td>0.232745</td>\n",
       "      <td>0.527911</td>\n",
       "      <td>0.242438</td>\n",
       "      <td>0.139407</td>\n",
       "      <td>0.873280</td>\n",
       "      <td>0.070897</td>\n",
       "      <td>0.880656</td>\n",
       "      <td>69170.0</td>\n",
       "    </tr>\n",
       "    <tr>\n",
       "      <th>minority</th>\n",
       "      <td>0.145959</td>\n",
       "      <td>0.509438</td>\n",
       "      <td>0.209535</td>\n",
       "      <td>0.117282</td>\n",
       "      <td>0.962965</td>\n",
       "      <td>0.018159</td>\n",
       "      <td>0.965141</td>\n",
       "      <td>20540.0</td>\n",
       "    </tr>\n",
       "  </tbody>\n",
       "</table>\n",
       "</div>"
      ],
      "text/plain": [
       "          accuracy  balanced accuracy        f1  precision  \\\n",
       "majmin                                                       \n",
       "majority  0.232745           0.527911  0.242438   0.139407   \n",
       "minority  0.145959           0.509438  0.209535   0.117282   \n",
       "\n",
       "          false positive rate  false negative rate  selection rate    count  \n",
       "majmin                                                                       \n",
       "majority             0.873280             0.070897        0.880656  69170.0  \n",
       "minority             0.962965             0.018159        0.965141  20540.0  "
      ]
     },
     "execution_count": 68,
     "metadata": {},
     "output_type": "execute_result"
    }
   ],
   "source": [
    "metric_frame.by_group"
   ]
  },
  {
   "cell_type": "code",
   "execution_count": 69,
   "id": "a9ddbe63",
   "metadata": {
    "execution": {
     "iopub.execute_input": "2025-07-28T10:48:13.048469Z",
     "iopub.status.busy": "2025-07-28T10:48:13.047594Z",
     "iopub.status.idle": "2025-07-28T10:48:15.296890Z",
     "shell.execute_reply": "2025-07-28T10:48:15.295574Z"
    },
    "papermill": {
     "duration": 2.280367,
     "end_time": "2025-07-28T10:48:15.298739",
     "exception": false,
     "start_time": "2025-07-28T10:48:13.018372",
     "status": "completed"
    },
    "tags": []
   },
   "outputs": [
    {
     "data": {
      "text/plain": [
       "array([[<Axes: title={'center': 'accuracy'}, xlabel='majmin'>,\n",
       "        <Axes: title={'center': 'balanced accuracy'}, xlabel='majmin'>,\n",
       "        <Axes: title={'center': 'f1'}, xlabel='majmin'>],\n",
       "       [<Axes: title={'center': 'precision'}, xlabel='majmin'>,\n",
       "        <Axes: title={'center': 'false positive rate'}, xlabel='majmin'>,\n",
       "        <Axes: title={'center': 'false negative rate'}, xlabel='majmin'>],\n",
       "       [<Axes: title={'center': 'selection rate'}, xlabel='majmin'>,\n",
       "        <Axes: title={'center': 'count'}, xlabel='majmin'>,\n",
       "        <Axes: xlabel='majmin'>]], dtype=object)"
      ]
     },
     "execution_count": 69,
     "metadata": {},
     "output_type": "execute_result"
    },
    {
     "data": {
      "image/png": "[encoded data removed]",
      "text/plain": [
       "<Figure size 1200x800 with 9 Axes>"
      ]
     },
     "metadata": {},
     "output_type": "display_data"
    }
   ],
   "source": [
    "# In a graphic\n",
    "metric_frame.by_group.plot.bar(\n",
    "    subplots=True,\n",
    "    layout=[3, 3],\n",
    "    legend=False,\n",
    "    figsize=[12, 8],\n",
    "    title=\"Show all metrics\",\n",
    ")"
   ]
  },
  {
   "cell_type": "markdown",
   "id": "f57a0bac",
   "metadata": {
    "papermill": {
     "duration": 0.027937,
     "end_time": "2025-07-28T10:48:15.354407",
     "exception": false,
     "start_time": "2025-07-28T10:48:15.326470",
     "status": "completed"
    },
    "tags": []
   },
   "source": [
    "# Final Output"
   ]
  },
  {
   "cell_type": "code",
   "execution_count": 70,
   "id": "96d280a3",
   "metadata": {
    "execution": {
     "iopub.execute_input": "2025-07-28T10:48:15.413135Z",
     "iopub.status.busy": "2025-07-28T10:48:15.412385Z",
     "iopub.status.idle": "2025-07-28T10:48:15.421613Z",
     "shell.execute_reply": "2025-07-28T10:48:15.420662Z"
    },
    "papermill": {
     "duration": 0.04065,
     "end_time": "2025-07-28T10:48:15.423309",
     "exception": false,
     "start_time": "2025-07-28T10:48:15.382659",
     "status": "completed"
    },
    "tags": []
   },
   "outputs": [
    {
     "data": {
      "text/plain": [
       "4"
      ]
     },
     "execution_count": 70,
     "metadata": {},
     "output_type": "execute_result"
    }
   ],
   "source": [
    "sub_universes = universe_analysis.generate_sub_universes()\n",
    "len(sub_universes)"
   ]
  },
  {
   "cell_type": "code",
   "execution_count": 71,
   "id": "92adf7ba",
   "metadata": {
    "execution": {
     "iopub.execute_input": "2025-07-28T10:48:15.484228Z",
     "iopub.status.busy": "2025-07-28T10:48:15.483762Z",
     "iopub.status.idle": "2025-07-28T10:48:15.490480Z",
     "shell.execute_reply": "2025-07-28T10:48:15.489450Z"
    },
    "papermill": {
     "duration": 0.041631,
     "end_time": "2025-07-28T10:48:15.492325",
     "exception": false,
     "start_time": "2025-07-28T10:48:15.450694",
     "status": "completed"
    },
    "tags": []
   },
   "outputs": [],
   "source": [
    "def filter_sub_universe_data(sub_universe, org_test):\n",
    "    # Keep all rows — no filtering\n",
    "    keep_rows_mask = np.ones(org_test.shape[0], dtype=bool)\n",
    "\n",
    "    print(f\"[INFO] Keeping all rows: {keep_rows_mask.sum()} rows retained.\")\n",
    "    return keep_rows_mask"
   ]
  },
  {
   "cell_type": "code",
   "execution_count": 72,
   "id": "4a759155",
   "metadata": {
    "execution": {
     "iopub.execute_input": "2025-07-28T10:48:15.553621Z",
     "iopub.status.busy": "2025-07-28T10:48:15.553146Z",
     "iopub.status.idle": "2025-07-28T10:48:24.425648Z",
     "shell.execute_reply": "2025-07-28T10:48:24.424793Z"
    },
    "papermill": {
     "duration": 8.904449,
     "end_time": "2025-07-28T10:48:24.427212",
     "exception": false,
     "start_time": "2025-07-28T10:48:15.522763",
     "status": "completed"
    },
    "tags": []
   },
   "outputs": [
    {
     "name": "stdout",
     "output_type": "stream",
     "text": [
      "Stopping execution_time clock.\n",
      "[INFO] Keeping all rows: 89710 rows retained.\n"
     ]
    },
    {
     "name": "stdout",
     "output_type": "stream",
     "text": [
      "[INFO] Keeping all rows: 89710 rows retained.\n"
     ]
    },
    {
     "name": "stdout",
     "output_type": "stream",
     "text": [
      "[INFO] Keeping all rows: 89710 rows retained.\n"
     ]
    },
    {
     "name": "stdout",
     "output_type": "stream",
     "text": [
      "[INFO] Keeping all rows: 89710 rows retained.\n"
     ]
    },
    {
     "data": {
      "text/html": [
       "<div>\n",
       "<style scoped>\n",
       "    .dataframe tbody tr th:only-of-type {\n",
       "        vertical-align: middle;\n",
       "    }\n",
       "\n",
       "    .dataframe tbody tr th {\n",
       "        vertical-align: top;\n",
       "    }\n",
       "\n",
       "    .dataframe thead th {\n",
       "        text-align: right;\n",
       "    }\n",
       "</style>\n",
       "<table border=\"1\" class=\"dataframe\">\n",
       "  <thead>\n",
       "    <tr style=\"text-align: right;\">\n",
       "      <th></th>\n",
       "      <th>run_no</th>\n",
       "      <th>universe_id</th>\n",
       "      <th>universe_settings</th>\n",
       "      <th>execution_time</th>\n",
       "      <th>test_size_n</th>\n",
       "      <th>test_size_frac</th>\n",
       "      <th>fair_main_equalized_odds_difference</th>\n",
       "      <th>fair_main_equalized_odds_ratio</th>\n",
       "      <th>fair_main_demographic_parity_difference</th>\n",
       "      <th>fair_main_demographic_parity_ratio</th>\n",
       "      <th>...</th>\n",
       "      <th>perf_grp_precision_0</th>\n",
       "      <th>perf_grp_precision_1</th>\n",
       "      <th>perf_grp_false positive rate_0</th>\n",
       "      <th>perf_grp_false positive rate_1</th>\n",
       "      <th>perf_grp_false negative rate_0</th>\n",
       "      <th>perf_grp_false negative rate_1</th>\n",
       "      <th>perf_grp_selection rate_0</th>\n",
       "      <th>perf_grp_selection rate_1</th>\n",
       "      <th>perf_grp_count_0</th>\n",
       "      <th>perf_grp_count_1</th>\n",
       "    </tr>\n",
       "  </thead>\n",
       "  <tbody>\n",
       "    <tr>\n",
       "      <th>0</th>\n",
       "      <td>11</td>\n",
       "      <td>3e2740b636a9a3af7dd76ea273d044b0</td>\n",
       "      <td>{\"cutoff\": \"quantile_0.1\", \"eval_fairness_grou...</td>\n",
       "      <td>23.275882</td>\n",
       "      <td>89710</td>\n",
       "      <td>1.0</td>\n",
       "      <td>0.089685</td>\n",
       "      <td>0.906866</td>\n",
       "      <td>0.084485</td>\n",
       "      <td>0.912464</td>\n",
       "      <td>...</td>\n",
       "      <td>NaN</td>\n",
       "      <td>NaN</td>\n",
       "      <td>NaN</td>\n",
       "      <td>NaN</td>\n",
       "      <td>NaN</td>\n",
       "      <td>NaN</td>\n",
       "      <td>NaN</td>\n",
       "      <td>NaN</td>\n",
       "      <td>NaN</td>\n",
       "      <td>NaN</td>\n",
       "    </tr>\n",
       "    <tr>\n",
       "      <th>0</th>\n",
       "      <td>11</td>\n",
       "      <td>3e2740b636a9a3af7dd76ea273d044b0</td>\n",
       "      <td>{\"cutoff\": \"quantile_0.1\", \"eval_fairness_grou...</td>\n",
       "      <td>23.275882</td>\n",
       "      <td>89710</td>\n",
       "      <td>1.0</td>\n",
       "      <td>0.089685</td>\n",
       "      <td>0.906866</td>\n",
       "      <td>0.084485</td>\n",
       "      <td>0.912464</td>\n",
       "      <td>...</td>\n",
       "      <td>0.117282</td>\n",
       "      <td>0.139407</td>\n",
       "      <td>0.962965</td>\n",
       "      <td>0.873280</td>\n",
       "      <td>0.018159</td>\n",
       "      <td>0.070897</td>\n",
       "      <td>0.965141</td>\n",
       "      <td>0.880656</td>\n",
       "      <td>20540.0</td>\n",
       "      <td>69170.0</td>\n",
       "    </tr>\n",
       "    <tr>\n",
       "      <th>0</th>\n",
       "      <td>11</td>\n",
       "      <td>3e2740b636a9a3af7dd76ea273d044b0</td>\n",
       "      <td>{\"cutoff\": \"quantile_0.25\", \"eval_fairness_gro...</td>\n",
       "      <td>23.275882</td>\n",
       "      <td>89710</td>\n",
       "      <td>1.0</td>\n",
       "      <td>0.204281</td>\n",
       "      <td>0.770356</td>\n",
       "      <td>0.189751</td>\n",
       "      <td>0.788295</td>\n",
       "      <td>...</td>\n",
       "      <td>NaN</td>\n",
       "      <td>NaN</td>\n",
       "      <td>NaN</td>\n",
       "      <td>NaN</td>\n",
       "      <td>NaN</td>\n",
       "      <td>NaN</td>\n",
       "      <td>NaN</td>\n",
       "      <td>NaN</td>\n",
       "      <td>NaN</td>\n",
       "      <td>NaN</td>\n",
       "    </tr>\n",
       "    <tr>\n",
       "      <th>0</th>\n",
       "      <td>11</td>\n",
       "      <td>3e2740b636a9a3af7dd76ea273d044b0</td>\n",
       "      <td>{\"cutoff\": \"quantile_0.25\", \"eval_fairness_gro...</td>\n",
       "      <td>23.275882</td>\n",
       "      <td>89710</td>\n",
       "      <td>1.0</td>\n",
       "      <td>0.204281</td>\n",
       "      <td>0.770356</td>\n",
       "      <td>0.189751</td>\n",
       "      <td>0.788295</td>\n",
       "      <td>...</td>\n",
       "      <td>0.121945</td>\n",
       "      <td>0.158271</td>\n",
       "      <td>0.889555</td>\n",
       "      <td>0.685274</td>\n",
       "      <td>0.051943</td>\n",
       "      <td>0.153720</td>\n",
       "      <td>0.896300</td>\n",
       "      <td>0.706549</td>\n",
       "      <td>20540.0</td>\n",
       "      <td>69170.0</td>\n",
       "    </tr>\n",
       "  </tbody>\n",
       "</table>\n",
       "<p>4 rows × 50 columns</p>\n",
       "</div>"
      ],
      "text/plain": [
       "  run_no                       universe_id  \\\n",
       "0     11  3e2740b636a9a3af7dd76ea273d044b0   \n",
       "0     11  3e2740b636a9a3af7dd76ea273d044b0   \n",
       "0     11  3e2740b636a9a3af7dd76ea273d044b0   \n",
       "0     11  3e2740b636a9a3af7dd76ea273d044b0   \n",
       "\n",
       "                                   universe_settings  execution_time  \\\n",
       "0  {\"cutoff\": \"quantile_0.1\", \"eval_fairness_grou...       23.275882   \n",
       "0  {\"cutoff\": \"quantile_0.1\", \"eval_fairness_grou...       23.275882   \n",
       "0  {\"cutoff\": \"quantile_0.25\", \"eval_fairness_gro...       23.275882   \n",
       "0  {\"cutoff\": \"quantile_0.25\", \"eval_fairness_gro...       23.275882   \n",
       "\n",
       "   test_size_n  test_size_frac  fair_main_equalized_odds_difference  \\\n",
       "0        89710             1.0                             0.089685   \n",
       "0        89710             1.0                             0.089685   \n",
       "0        89710             1.0                             0.204281   \n",
       "0        89710             1.0                             0.204281   \n",
       "\n",
       "   fair_main_equalized_odds_ratio  fair_main_demographic_parity_difference  \\\n",
       "0                        0.906866                                 0.084485   \n",
       "0                        0.906866                                 0.084485   \n",
       "0                        0.770356                                 0.189751   \n",
       "0                        0.770356                                 0.189751   \n",
       "\n",
       "   fair_main_demographic_parity_ratio  ...  perf_grp_precision_0  \\\n",
       "0                            0.912464  ...                   NaN   \n",
       "0                            0.912464  ...              0.117282   \n",
       "0                            0.788295  ...                   NaN   \n",
       "0                            0.788295  ...              0.121945   \n",
       "\n",
       "   perf_grp_precision_1  perf_grp_false positive rate_0  \\\n",
       "0                   NaN                             NaN   \n",
       "0              0.139407                        0.962965   \n",
       "0                   NaN                             NaN   \n",
       "0              0.158271                        0.889555   \n",
       "\n",
       "   perf_grp_false positive rate_1  perf_grp_false negative rate_0  \\\n",
       "0                             NaN                             NaN   \n",
       "0                        0.873280                        0.018159   \n",
       "0                             NaN                             NaN   \n",
       "0                        0.685274                        0.051943   \n",
       "\n",
       "   perf_grp_false negative rate_1  perf_grp_selection rate_0  \\\n",
       "0                             NaN                        NaN   \n",
       "0                        0.070897                   0.965141   \n",
       "0                             NaN                        NaN   \n",
       "0                        0.153720                   0.896300   \n",
       "\n",
       "   perf_grp_selection rate_1  perf_grp_count_0  perf_grp_count_1  \n",
       "0                        NaN               NaN               NaN  \n",
       "0                   0.880656           20540.0           69170.0  \n",
       "0                        NaN               NaN               NaN  \n",
       "0                   0.706549           20540.0           69170.0  \n",
       "\n",
       "[4 rows x 50 columns]"
      ]
     },
     "execution_count": 72,
     "metadata": {},
     "output_type": "execute_result"
    }
   ],
   "source": [
    "final_output = universe_analysis.generate_final_output(\n",
    "    y_pred_prob=probs_test,\n",
    "    y_test=y_true,\n",
    "    org_test=org_test,\n",
    "    filter_data=filter_sub_universe_data,\n",
    "    cp_metrics_df=cp_metrics_df,\n",
    "    save=True,\n",
    ")\n",
    "final_output"
   ]
  },
  {
   "cell_type": "code",
   "execution_count": null,
   "id": "721ff514-cb11-46f8-b6fc-50392f74b5cb",
   "metadata": {
    "papermill": {
     "duration": 0.028182,
     "end_time": "2025-07-28T10:48:24.486701",
     "exception": false,
     "start_time": "2025-07-28T10:48:24.458519",
     "status": "completed"
    },
    "tags": []
   },
   "outputs": [],
   "source": []
  }
 ],
 "metadata": {
  "celltoolbar": "Tags",
  "kernelspec": {
   "display_name": "Python (CMA Fairness)",
   "language": "python",
   "name": "cma_fair_env"
  },
  "language_info": {
   "codemirror_mode": {
    "name": "ipython",
    "version": 3
   },
   "file_extension": ".py",
   "mimetype": "text/x-python",
   "name": "python",
   "nbconvert_exporter": "python",
   "pygments_lexer": "ipython3",
   "version": "3.10.12"
  },
  "papermill": {
   "default_parameters": {},
   "duration": 36.258744,
   "end_time": "2025-07-28T10:48:25.334611",
   "environment_variables": {},
   "exception": null,
   "input_path": "universe_analysis.ipynb",
   "output_path": "output/runs/11/notebooks/m_11-3e2740b636a9a3af7dd76ea273d044b0.ipynb",
   "parameters": {
    "output_dir": "output",
    "run_no": "11",
    "seed": "2023",
    "universe": "{\"cutoff\": [\"quantile_0.1\", \"quantile_0.25\"], \"eval_fairness_grouping\": [\"majority-minority\", \"nationality-all\"], \"exclude_features\": \"sex\", \"exclude_subgroups\": \"drop-non-german\", \"model\": \"logreg\", \"scale\": \"do-not-scale\", \"training_size\": \"1k\"}",
    "universe_id": "3e2740b636a9a3af7dd76ea273d044b0"
   },
   "start_time": "2025-07-28T10:47:49.075867",
   "version": "2.6.0"
  }
 },
 "nbformat": 4,
 "nbformat_minor": 5
}